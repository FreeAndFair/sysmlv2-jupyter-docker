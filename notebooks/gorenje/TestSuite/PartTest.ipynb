{
 "cells": [
  {
   "cell_type": "markdown",
   "id": "cutting-bidding",
   "metadata": {},
   "source": [
    "# SysML v2 Test Suite\n",
    "\n",
    "This can notebook can be cleared using menu `Edit --> Clear All Outputs` and then all cells can be\n",
    "run using menu `Run --> Run All Cells`.\n",
    "\n",
    "**WARNING**: This file is generated, all modifications here will be ignored.\n"
   ]
  },
  {
   "cell_type": "markdown",
   "id": "basic-juice",
   "metadata": {},
   "source": [
    "## File: ../../sysml/src/examples/Simple Tests/PartTest.sysml"
   ]
  },
  {
   "cell_type": "code",
   "execution_count": 1,
   "id": "affiliated-liabilities",
   "metadata": {
    "execution": {
     "iopub.execute_input": "2021-03-25T16:06:26.915248Z",
     "iopub.status.busy": "2021-03-25T16:06:26.914416Z",
     "iopub.status.idle": "2021-03-25T16:06:27.196389Z",
     "shell.execute_reply": "2021-03-25T16:06:27.195595Z"
    }
   },
   "outputs": [
    {
     "data": {
      "text/plain": [
       "Package PartTest (34485877-c62a-417c-931c-40e9116ddfa1)\n"
      ]
     },
     "execution_count": 1,
     "metadata": {},
     "output_type": "execute_result"
    }
   ],
   "source": [
    "package PartTest {\n",
    "\t\n",
    "\tpart f: A;\n",
    "\n",
    "\tpublic part def A {\n",
    "\t\tpart id '1' b: B;\n",
    "\t\tprotected port c: C;\n",
    "\t}\n",
    "\t\n",
    "\tabstract part def id xx B {\n",
    "\t\tpublic abstract part a: A;\n",
    "\t\tport x: ~C;\n",
    "\t\tpackage P { }\n",
    "\t}\n",
    "\t\n",
    "\tprivate port def C {\n",
    "\t\tprivate in ref y: A, B;\n",
    "\t\timport y as z1;\n",
    "\t\talias y as z2;\n",
    "\t}\n",
    "\t\n",
    "}"
   ]
  },
  {
   "cell_type": "code",
   "execution_count": 2,
   "id": "australian-marketing",
   "metadata": {
    "execution": {
     "iopub.execute_input": "2021-03-25T16:06:27.248515Z",
     "iopub.status.busy": "2021-03-25T16:06:27.247847Z",
     "iopub.status.idle": "2021-03-25T16:06:27.262251Z",
     "shell.execute_reply": "2021-03-25T16:06:27.262649Z"
    }
   },
   "outputs": [
    {
     "data": {
      "text/plain": [
       "java.lang.IllegalArgumentException: Invalid Style: COMPTREE Possible styles: POLYLINE, LR, STDCOLOR, PLANTUML, DEFAULT, TB, ORTHOLINE\n",
       "\tat org.omg.sysml.plantuml.SysML2PlantUMLStyle.get(SysML2PlantUMLStyle.java:258)\n",
       "\tat org.omg.sysml.plantuml.SysML2PlantUMLSvc.applyStyle(SysML2PlantUMLSvc.java:73)\n",
       "\tat org.omg.sysml.plantuml.SysML2PlantUMLSvc.getPlantUMLCode(SysML2PlantUMLSvc.java:88)\n",
       "\tat org.omg.sysml.plantuml.SysML2PlantUMLSvc.getSVG(SysML2PlantUMLSvc.java:99)\n",
       "\tat org.omg.sysml.interactive.SysMLInteractive.viz(SysMLInteractive.java:294)\n",
       "\tat org.omg.sysml.jupyter.kernel.magic.Viz.viz(Viz.java:47)\n",
       "\tat java.base/jdk.internal.reflect.NativeMethodAccessorImpl.invoke0(Native Method)\n",
       "\tat java.base/jdk.internal.reflect.NativeMethodAccessorImpl.invoke(NativeMethodAccessorImpl.java:78)\n",
       "\tat java.base/jdk.internal.reflect.DelegatingMethodAccessorImpl.invoke(DelegatingMethodAccessorImpl.java:43)\n",
       "\tat java.base/java.lang.reflect.Method.invoke(Method.java:568)\n",
       "\tat io.github.spencerpark.jupyter.kernel.magic.registry.Magics.invoke(Magics.java:89)\n",
       "\tat io.github.spencerpark.jupyter.kernel.magic.registry.Magics.access$000(Magics.java:8)\n",
       "\tat io.github.spencerpark.jupyter.kernel.magic.registry.Magics$LineReflectionMagicFunction.execute(Magics.java:149)\n",
       "\tat io.github.spencerpark.jupyter.kernel.magic.registry.Magics.applyLineMagic(Magics.java:26)\n",
       "\tat org.omg.sysml.jupyter.kernel.SysMLKernel.eval(SysMLKernel.java:76)\n",
       "\tat io.github.spencerpark.jupyter.kernel.BaseKernel.handleExecuteRequest(BaseKernel.java:334)\n",
       "\tat io.github.spencerpark.jupyter.channels.ShellChannel.lambda$bind$0(ShellChannel.java:64)\n",
       "\tat io.github.spencerpark.jupyter.channels.Loop.lambda$new$0(Loop.java:21)\n",
       "\tat io.github.spencerpark.jupyter.channels.Loop.run(Loop.java:78)\n"
      ]
     },
     "execution_count": 2,
     "metadata": {},
     "output_type": "execute_result"
    }
   ],
   "source": [
    "%viz --style=\"COMPTREE\" --view=\"Default\" \"PartTest\""
   ]
  },
  {
   "cell_type": "code",
   "execution_count": 3,
   "id": "polar-freeware",
   "metadata": {
    "execution": {
     "iopub.execute_input": "2021-03-25T16:06:27.315399Z",
     "iopub.status.busy": "2021-03-25T16:06:27.314405Z",
     "iopub.status.idle": "2021-03-25T16:06:27.317760Z",
     "shell.execute_reply": "2021-03-25T16:06:27.317337Z"
    }
   },
   "outputs": [
    {
     "data": {
      "text/plain": [
       "java.lang.IllegalArgumentException: Invalid Style: COMPTREE Possible styles: POLYLINE, LR, STDCOLOR, PLANTUML, DEFAULT, TB, ORTHOLINE\n",
       "\tat org.omg.sysml.plantuml.SysML2PlantUMLStyle.get(SysML2PlantUMLStyle.java:258)\n",
       "\tat org.omg.sysml.plantuml.SysML2PlantUMLSvc.applyStyle(SysML2PlantUMLSvc.java:73)\n",
       "\tat org.omg.sysml.plantuml.SysML2PlantUMLSvc.getPlantUMLCode(SysML2PlantUMLSvc.java:88)\n",
       "\tat org.omg.sysml.plantuml.SysML2PlantUMLSvc.getSVG(SysML2PlantUMLSvc.java:99)\n",
       "\tat org.omg.sysml.interactive.SysMLInteractive.viz(SysMLInteractive.java:294)\n",
       "\tat org.omg.sysml.jupyter.kernel.magic.Viz.viz(Viz.java:47)\n",
       "\tat java.base/jdk.internal.reflect.NativeMethodAccessorImpl.invoke0(Native Method)\n",
       "\tat java.base/jdk.internal.reflect.NativeMethodAccessorImpl.invoke(NativeMethodAccessorImpl.java:78)\n",
       "\tat java.base/jdk.internal.reflect.DelegatingMethodAccessorImpl.invoke(DelegatingMethodAccessorImpl.java:43)\n",
       "\tat java.base/java.lang.reflect.Method.invoke(Method.java:568)\n",
       "\tat io.github.spencerpark.jupyter.kernel.magic.registry.Magics.invoke(Magics.java:89)\n",
       "\tat io.github.spencerpark.jupyter.kernel.magic.registry.Magics.access$000(Magics.java:8)\n",
       "\tat io.github.spencerpark.jupyter.kernel.magic.registry.Magics$LineReflectionMagicFunction.execute(Magics.java:149)\n",
       "\tat io.github.spencerpark.jupyter.kernel.magic.registry.Magics.applyLineMagic(Magics.java:26)\n",
       "\tat org.omg.sysml.jupyter.kernel.SysMLKernel.eval(SysMLKernel.java:76)\n",
       "\tat io.github.spencerpark.jupyter.kernel.BaseKernel.handleExecuteRequest(BaseKernel.java:334)\n",
       "\tat io.github.spencerpark.jupyter.channels.ShellChannel.lambda$bind$0(ShellChannel.java:64)\n",
       "\tat io.github.spencerpark.jupyter.channels.Loop.lambda$new$0(Loop.java:21)\n",
       "\tat io.github.spencerpark.jupyter.channels.Loop.run(Loop.java:78)\n"
      ]
     },
     "execution_count": 3,
     "metadata": {},
     "output_type": "execute_result"
    }
   ],
   "source": [
    "%viz --style=\"COMPTREE\" --view=\"Tree\" \"PartTest\""
   ]
  },
  {
   "cell_type": "code",
   "execution_count": 4,
   "id": "facial-grain",
   "metadata": {
    "execution": {
     "iopub.execute_input": "2021-03-25T16:06:27.370040Z",
     "iopub.status.busy": "2021-03-25T16:06:27.369650Z",
     "iopub.status.idle": "2021-03-25T16:06:27.371769Z",
     "shell.execute_reply": "2021-03-25T16:06:27.372129Z"
    }
   },
   "outputs": [
    {
     "data": {
      "text/plain": [
       "java.lang.IllegalArgumentException: Invalid View: State View candidates are: Default Tree StateMachine Interconnection Activity Sequence MIXED \n",
       "\tat org.omg.sysml.plantuml.SysML2PlantUMLSvc.setView(SysML2PlantUMLSvc.java:63)\n",
       "\tat org.omg.sysml.interactive.SysMLInteractive.viz(SysMLInteractive.java:286)\n",
       "\tat org.omg.sysml.jupyter.kernel.magic.Viz.viz(Viz.java:47)\n",
       "\tat java.base/jdk.internal.reflect.NativeMethodAccessorImpl.invoke0(Native Method)\n",
       "\tat java.base/jdk.internal.reflect.NativeMethodAccessorImpl.invoke(NativeMethodAccessorImpl.java:78)\n",
       "\tat java.base/jdk.internal.reflect.DelegatingMethodAccessorImpl.invoke(DelegatingMethodAccessorImpl.java:43)\n",
       "\tat java.base/java.lang.reflect.Method.invoke(Method.java:568)\n",
       "\tat io.github.spencerpark.jupyter.kernel.magic.registry.Magics.invoke(Magics.java:89)\n",
       "\tat io.github.spencerpark.jupyter.kernel.magic.registry.Magics.access$000(Magics.java:8)\n",
       "\tat io.github.spencerpark.jupyter.kernel.magic.registry.Magics$LineReflectionMagicFunction.execute(Magics.java:149)\n",
       "\tat io.github.spencerpark.jupyter.kernel.magic.registry.Magics.applyLineMagic(Magics.java:26)\n",
       "\tat org.omg.sysml.jupyter.kernel.SysMLKernel.eval(SysMLKernel.java:76)\n",
       "\tat io.github.spencerpark.jupyter.kernel.BaseKernel.handleExecuteRequest(BaseKernel.java:334)\n",
       "\tat io.github.spencerpark.jupyter.channels.ShellChannel.lambda$bind$0(ShellChannel.java:64)\n",
       "\tat io.github.spencerpark.jupyter.channels.Loop.lambda$new$0(Loop.java:21)\n",
       "\tat io.github.spencerpark.jupyter.channels.Loop.run(Loop.java:78)\n"
      ]
     },
     "execution_count": 4,
     "metadata": {},
     "output_type": "execute_result"
    }
   ],
   "source": [
    "%viz --style=\"COMPTREE\" --view=\"State\" \"PartTest\""
   ]
  },
  {
   "cell_type": "code",
   "execution_count": 5,
   "id": "neural-harvard",
   "metadata": {
    "execution": {
     "iopub.execute_input": "2021-03-25T16:06:27.424073Z",
     "iopub.status.busy": "2021-03-25T16:06:27.423642Z",
     "iopub.status.idle": "2021-03-25T16:06:27.425943Z",
     "shell.execute_reply": "2021-03-25T16:06:27.426420Z"
    }
   },
   "outputs": [
    {
     "data": {
      "text/plain": [
       "java.lang.IllegalArgumentException: Invalid Style: COMPTREE Possible styles: POLYLINE, LR, STDCOLOR, PLANTUML, DEFAULT, TB, ORTHOLINE\n",
       "\tat org.omg.sysml.plantuml.SysML2PlantUMLStyle.get(SysML2PlantUMLStyle.java:258)\n",
       "\tat org.omg.sysml.plantuml.SysML2PlantUMLSvc.applyStyle(SysML2PlantUMLSvc.java:73)\n",
       "\tat org.omg.sysml.plantuml.SysML2PlantUMLSvc.getPlantUMLCode(SysML2PlantUMLSvc.java:88)\n",
       "\tat org.omg.sysml.plantuml.SysML2PlantUMLSvc.getSVG(SysML2PlantUMLSvc.java:99)\n",
       "\tat org.omg.sysml.interactive.SysMLInteractive.viz(SysMLInteractive.java:294)\n",
       "\tat org.omg.sysml.jupyter.kernel.magic.Viz.viz(Viz.java:47)\n",
       "\tat java.base/jdk.internal.reflect.NativeMethodAccessorImpl.invoke0(Native Method)\n",
       "\tat java.base/jdk.internal.reflect.NativeMethodAccessorImpl.invoke(NativeMethodAccessorImpl.java:78)\n",
       "\tat java.base/jdk.internal.reflect.DelegatingMethodAccessorImpl.invoke(DelegatingMethodAccessorImpl.java:43)\n",
       "\tat java.base/java.lang.reflect.Method.invoke(Method.java:568)\n",
       "\tat io.github.spencerpark.jupyter.kernel.magic.registry.Magics.invoke(Magics.java:89)\n",
       "\tat io.github.spencerpark.jupyter.kernel.magic.registry.Magics.access$000(Magics.java:8)\n",
       "\tat io.github.spencerpark.jupyter.kernel.magic.registry.Magics$LineReflectionMagicFunction.execute(Magics.java:149)\n",
       "\tat io.github.spencerpark.jupyter.kernel.magic.registry.Magics.applyLineMagic(Magics.java:26)\n",
       "\tat org.omg.sysml.jupyter.kernel.SysMLKernel.eval(SysMLKernel.java:76)\n",
       "\tat io.github.spencerpark.jupyter.kernel.BaseKernel.handleExecuteRequest(BaseKernel.java:334)\n",
       "\tat io.github.spencerpark.jupyter.channels.ShellChannel.lambda$bind$0(ShellChannel.java:64)\n",
       "\tat io.github.spencerpark.jupyter.channels.Loop.lambda$new$0(Loop.java:21)\n",
       "\tat io.github.spencerpark.jupyter.channels.Loop.run(Loop.java:78)\n"
      ]
     },
     "execution_count": 5,
     "metadata": {},
     "output_type": "execute_result"
    }
   ],
   "source": [
    "%viz --style=\"COMPTREE\" --view=\"Interconnection\" \"PartTest\""
   ]
  },
  {
   "cell_type": "code",
   "execution_count": 6,
   "id": "mechanical-citation",
   "metadata": {
    "execution": {
     "iopub.execute_input": "2021-03-25T16:06:27.478505Z",
     "iopub.status.busy": "2021-03-25T16:06:27.477984Z",
     "iopub.status.idle": "2021-03-25T16:06:27.480469Z",
     "shell.execute_reply": "2021-03-25T16:06:27.480881Z"
    }
   },
   "outputs": [
    {
     "data": {
      "text/plain": [
       "java.lang.IllegalArgumentException: Invalid View: Action View candidates are: Default Tree StateMachine Interconnection Activity Sequence MIXED \n",
       "\tat org.omg.sysml.plantuml.SysML2PlantUMLSvc.setView(SysML2PlantUMLSvc.java:63)\n",
       "\tat org.omg.sysml.interactive.SysMLInteractive.viz(SysMLInteractive.java:286)\n",
       "\tat org.omg.sysml.jupyter.kernel.magic.Viz.viz(Viz.java:47)\n",
       "\tat java.base/jdk.internal.reflect.NativeMethodAccessorImpl.invoke0(Native Method)\n",
       "\tat java.base/jdk.internal.reflect.NativeMethodAccessorImpl.invoke(NativeMethodAccessorImpl.java:78)\n",
       "\tat java.base/jdk.internal.reflect.DelegatingMethodAccessorImpl.invoke(DelegatingMethodAccessorImpl.java:43)\n",
       "\tat java.base/java.lang.reflect.Method.invoke(Method.java:568)\n",
       "\tat io.github.spencerpark.jupyter.kernel.magic.registry.Magics.invoke(Magics.java:89)\n",
       "\tat io.github.spencerpark.jupyter.kernel.magic.registry.Magics.access$000(Magics.java:8)\n",
       "\tat io.github.spencerpark.jupyter.kernel.magic.registry.Magics$LineReflectionMagicFunction.execute(Magics.java:149)\n",
       "\tat io.github.spencerpark.jupyter.kernel.magic.registry.Magics.applyLineMagic(Magics.java:26)\n",
       "\tat org.omg.sysml.jupyter.kernel.SysMLKernel.eval(SysMLKernel.java:76)\n",
       "\tat io.github.spencerpark.jupyter.kernel.BaseKernel.handleExecuteRequest(BaseKernel.java:334)\n",
       "\tat io.github.spencerpark.jupyter.channels.ShellChannel.lambda$bind$0(ShellChannel.java:64)\n",
       "\tat io.github.spencerpark.jupyter.channels.Loop.lambda$new$0(Loop.java:21)\n",
       "\tat io.github.spencerpark.jupyter.channels.Loop.run(Loop.java:78)\n"
      ]
     },
     "execution_count": 6,
     "metadata": {},
     "output_type": "execute_result"
    }
   ],
   "source": [
    "%viz --style=\"COMPTREE\" --view=\"Action\" \"PartTest\""
   ]
  },
  {
   "cell_type": "code",
   "execution_count": 7,
   "id": "vanilla-heath",
   "metadata": {
    "execution": {
     "iopub.execute_input": "2021-03-25T16:06:27.531802Z",
     "iopub.status.busy": "2021-03-25T16:06:27.531386Z",
     "iopub.status.idle": "2021-03-25T16:06:27.533696Z",
     "shell.execute_reply": "2021-03-25T16:06:27.534118Z"
    }
   },
   "outputs": [
    {
     "data": {
      "text/plain": [
       "java.lang.IllegalArgumentException: Invalid Style: COMPTREE Possible styles: POLYLINE, LR, STDCOLOR, PLANTUML, DEFAULT, TB, ORTHOLINE\n",
       "\tat org.omg.sysml.plantuml.SysML2PlantUMLStyle.get(SysML2PlantUMLStyle.java:258)\n",
       "\tat org.omg.sysml.plantuml.SysML2PlantUMLSvc.applyStyle(SysML2PlantUMLSvc.java:73)\n",
       "\tat org.omg.sysml.plantuml.SysML2PlantUMLSvc.getPlantUMLCode(SysML2PlantUMLSvc.java:88)\n",
       "\tat org.omg.sysml.plantuml.SysML2PlantUMLSvc.getSVG(SysML2PlantUMLSvc.java:99)\n",
       "\tat org.omg.sysml.interactive.SysMLInteractive.viz(SysMLInteractive.java:294)\n",
       "\tat org.omg.sysml.jupyter.kernel.magic.Viz.viz(Viz.java:47)\n",
       "\tat java.base/jdk.internal.reflect.NativeMethodAccessorImpl.invoke0(Native Method)\n",
       "\tat java.base/jdk.internal.reflect.NativeMethodAccessorImpl.invoke(NativeMethodAccessorImpl.java:78)\n",
       "\tat java.base/jdk.internal.reflect.DelegatingMethodAccessorImpl.invoke(DelegatingMethodAccessorImpl.java:43)\n",
       "\tat java.base/java.lang.reflect.Method.invoke(Method.java:568)\n",
       "\tat io.github.spencerpark.jupyter.kernel.magic.registry.Magics.invoke(Magics.java:89)\n",
       "\tat io.github.spencerpark.jupyter.kernel.magic.registry.Magics.access$000(Magics.java:8)\n",
       "\tat io.github.spencerpark.jupyter.kernel.magic.registry.Magics$LineReflectionMagicFunction.execute(Magics.java:149)\n",
       "\tat io.github.spencerpark.jupyter.kernel.magic.registry.Magics.applyLineMagic(Magics.java:26)\n",
       "\tat org.omg.sysml.jupyter.kernel.SysMLKernel.eval(SysMLKernel.java:76)\n",
       "\tat io.github.spencerpark.jupyter.kernel.BaseKernel.handleExecuteRequest(BaseKernel.java:334)\n",
       "\tat io.github.spencerpark.jupyter.channels.ShellChannel.lambda$bind$0(ShellChannel.java:64)\n",
       "\tat io.github.spencerpark.jupyter.channels.Loop.lambda$new$0(Loop.java:21)\n",
       "\tat io.github.spencerpark.jupyter.channels.Loop.run(Loop.java:78)\n"
      ]
     },
     "execution_count": 7,
     "metadata": {},
     "output_type": "execute_result"
    }
   ],
   "source": [
    "%viz --style=\"COMPTREE\" --view=\"Sequence\" \"PartTest\""
   ]
  },
  {
   "cell_type": "code",
   "execution_count": 8,
   "id": "lesbian-canvas",
   "metadata": {
    "execution": {
     "iopub.execute_input": "2021-03-25T16:06:27.585834Z",
     "iopub.status.busy": "2021-03-25T16:06:27.585349Z",
     "iopub.status.idle": "2021-03-25T16:06:27.588077Z",
     "shell.execute_reply": "2021-03-25T16:06:27.588496Z"
    }
   },
   "outputs": [
    {
     "data": {
      "text/plain": [
       "java.lang.IllegalArgumentException: Invalid Style: COMPTREE Possible styles: POLYLINE, LR, STDCOLOR, PLANTUML, DEFAULT, TB, ORTHOLINE\n",
       "\tat org.omg.sysml.plantuml.SysML2PlantUMLStyle.get(SysML2PlantUMLStyle.java:258)\n",
       "\tat org.omg.sysml.plantuml.SysML2PlantUMLSvc.applyStyle(SysML2PlantUMLSvc.java:73)\n",
       "\tat org.omg.sysml.plantuml.SysML2PlantUMLSvc.getPlantUMLCode(SysML2PlantUMLSvc.java:88)\n",
       "\tat org.omg.sysml.plantuml.SysML2PlantUMLSvc.getSVG(SysML2PlantUMLSvc.java:99)\n",
       "\tat org.omg.sysml.interactive.SysMLInteractive.viz(SysMLInteractive.java:294)\n",
       "\tat org.omg.sysml.jupyter.kernel.magic.Viz.viz(Viz.java:47)\n",
       "\tat java.base/jdk.internal.reflect.NativeMethodAccessorImpl.invoke0(Native Method)\n",
       "\tat java.base/jdk.internal.reflect.NativeMethodAccessorImpl.invoke(NativeMethodAccessorImpl.java:78)\n",
       "\tat java.base/jdk.internal.reflect.DelegatingMethodAccessorImpl.invoke(DelegatingMethodAccessorImpl.java:43)\n",
       "\tat java.base/java.lang.reflect.Method.invoke(Method.java:568)\n",
       "\tat io.github.spencerpark.jupyter.kernel.magic.registry.Magics.invoke(Magics.java:89)\n",
       "\tat io.github.spencerpark.jupyter.kernel.magic.registry.Magics.access$000(Magics.java:8)\n",
       "\tat io.github.spencerpark.jupyter.kernel.magic.registry.Magics$LineReflectionMagicFunction.execute(Magics.java:149)\n",
       "\tat io.github.spencerpark.jupyter.kernel.magic.registry.Magics.applyLineMagic(Magics.java:26)\n",
       "\tat org.omg.sysml.jupyter.kernel.SysMLKernel.eval(SysMLKernel.java:76)\n",
       "\tat io.github.spencerpark.jupyter.kernel.BaseKernel.handleExecuteRequest(BaseKernel.java:334)\n",
       "\tat io.github.spencerpark.jupyter.channels.ShellChannel.lambda$bind$0(ShellChannel.java:64)\n",
       "\tat io.github.spencerpark.jupyter.channels.Loop.lambda$new$0(Loop.java:21)\n",
       "\tat io.github.spencerpark.jupyter.channels.Loop.run(Loop.java:78)\n"
      ]
     },
     "execution_count": 8,
     "metadata": {},
     "output_type": "execute_result"
    }
   ],
   "source": [
    "%viz --style=\"COMPTREE\" --view=\"MIXED\" \"PartTest\""
   ]
  },
  {
   "cell_type": "code",
   "execution_count": 9,
   "id": "foster-jordan",
   "metadata": {
    "execution": {
     "iopub.execute_input": "2021-03-25T16:06:27.641779Z",
     "iopub.status.busy": "2021-03-25T16:06:27.641066Z",
     "iopub.status.idle": "2021-03-25T16:06:28.688560Z",
     "shell.execute_reply": "2021-03-25T16:06:28.689063Z"
    }
   },
   "outputs": [
    {
     "data": {
      "image/svg+xml": [
       "<?xml version=\"1.0\" encoding=\"UTF-8\" standalone=\"no\"?><svg xmlns=\"http://www.w3.org/2000/svg\" xmlns:xlink=\"http://www.w3.org/1999/xlink\" contentScriptType=\"application/ecmascript\" contentStyleType=\"text/css\" height=\"672px\" preserveAspectRatio=\"none\" style=\"width:217px;height:672px;\" version=\"1.1\" viewBox=\"0 0 217 672\" width=\"217px\" zoomAndPan=\"magnify\"><defs/><g><!--MD5=[fbc87193dbaf4d95561dea2c320d4a47]\n",
       "cluster E1--><polygon fill=\"#FFFFFF\" points=\"16,6,89,6,96,28.2969,195,28.2969,195,660,16,660,16,6\" style=\"stroke: #000000; stroke-width: 1.5;\"/><line style=\"stroke: #000000; stroke-width: 1.5;\" x1=\"16\" x2=\"96\" y1=\"28.2969\" y2=\"28.2969\"/><text fill=\"#000000\" font-family=\"sans-serif\" font-size=\"14\" font-weight=\"bold\" lengthAdjust=\"spacingAndGlyphs\" textLength=\"67\" x=\"20\" y=\"20.9951\">PartTest</text><!--MD5=[b4997ac47864f28c2f74865a473b2911]\n",
       "class E2--><rect fill=\"#FFFFFF\" height=\"45.9375\" id=\"E2\" rx=\"10\" ry=\"10\" style=\"stroke: #383838; stroke-width: 1.5;\" width=\"42\" x=\"137\" y=\"56\"/><text fill=\"#000000\" font-family=\"sans-serif\" font-size=\"12\" font-style=\"italic\" lengthAdjust=\"spacingAndGlyphs\" textLength=\"40\" x=\"138\" y=\"72.1387\">«part»</text><text fill=\"#000000\" font-family=\"sans-serif\" font-size=\"12\" lengthAdjust=\"spacingAndGlyphs\" textLength=\"20\" x=\"148\" y=\"86.1074\">f: A</text><line style=\"stroke: #383838; stroke-width: 1.5;\" x1=\"138\" x2=\"178\" y1=\"93.9375\" y2=\"93.9375\"/><!--MD5=[09b614a08d8cba4a07c9adeb5e0fee81]\n",
       "class E3--><rect fill=\"#FFFFFF\" height=\"75.5469\" id=\"E3\" style=\"stroke: #383838; stroke-width: 1.5;\" width=\"66\" x=\"108\" y=\"194\"/><text fill=\"#000000\" font-family=\"sans-serif\" font-size=\"12\" font-style=\"italic\" lengthAdjust=\"spacingAndGlyphs\" textLength=\"64\" x=\"109\" y=\"210.1387\">«part def»</text><text fill=\"#000000\" font-family=\"sans-serif\" font-size=\"12\" lengthAdjust=\"spacingAndGlyphs\" textLength=\"8\" x=\"137\" y=\"224.1074\">A</text><line style=\"stroke: #383838; stroke-width: 1.5;\" x1=\"109\" x2=\"173\" y1=\"231.9375\" y2=\"231.9375\"/><text fill=\"#000000\" font-family=\"sans-serif\" font-size=\"11\" lengthAdjust=\"spacingAndGlyphs\" textLength=\"22\" x=\"114\" y=\"262.9526\">c: C</text><line style=\"stroke: #383838; stroke-width: 1.0;\" x1=\"109\" x2=\"126\" y1=\"246.3398\" y2=\"246.3398\"/><text fill=\"#000000\" font-family=\"sans-serif\" font-size=\"11\" lengthAdjust=\"spacingAndGlyphs\" textLength=\"30\" x=\"126\" y=\"249.6479\">ports</text><line style=\"stroke: #383838; stroke-width: 1.0;\" x1=\"156\" x2=\"173\" y1=\"246.3398\" y2=\"246.3398\"/><!--MD5=[ebbe1d658d1005bcc118a6aa81145e00]\n",
       "class E4--><rect fill=\"#FFFFFF\" height=\"45.9375\" id=\"E4\" rx=\"10\" ry=\"10\" style=\"stroke: #383838; stroke-width: 1.5;\" width=\"42\" x=\"100\" y=\"347\"/><text fill=\"#000000\" font-family=\"sans-serif\" font-size=\"12\" font-style=\"italic\" lengthAdjust=\"spacingAndGlyphs\" textLength=\"40\" x=\"101\" y=\"363.1387\">«part»</text><text fill=\"#000000\" font-family=\"sans-serif\" font-size=\"12\" lengthAdjust=\"spacingAndGlyphs\" textLength=\"24\" x=\"109\" y=\"377.1074\">b: B</text><line style=\"stroke: #383838; stroke-width: 1.5;\" x1=\"101\" x2=\"141\" y1=\"384.9375\" y2=\"384.9375\"/><!--MD5=[60a26617385b1d2d0262a64233df1f8d]\n",
       "class E6--><rect fill=\"#FFFFFF\" height=\"75.5469\" id=\"E6\" style=\"stroke: #383838; stroke-width: 1.5;\" width=\"66\" x=\"68\" y=\"454\"/><text fill=\"#000000\" font-family=\"sans-serif\" font-size=\"12\" font-style=\"italic\" lengthAdjust=\"spacingAndGlyphs\" textLength=\"64\" x=\"69\" y=\"470.1387\">«part def»</text><text fill=\"#000000\" font-family=\"sans-serif\" font-size=\"12\" lengthAdjust=\"spacingAndGlyphs\" textLength=\"8\" x=\"97\" y=\"484.1074\">B</text><line style=\"stroke: #383838; stroke-width: 1.5;\" x1=\"69\" x2=\"133\" y1=\"491.9375\" y2=\"491.9375\"/><text fill=\"#000000\" font-family=\"sans-serif\" font-size=\"11\" lengthAdjust=\"spacingAndGlyphs\" textLength=\"31\" x=\"74\" y=\"522.9526\">x: ~C</text><line style=\"stroke: #383838; stroke-width: 1.0;\" x1=\"69\" x2=\"86\" y1=\"506.3398\" y2=\"506.3398\"/><text fill=\"#000000\" font-family=\"sans-serif\" font-size=\"11\" lengthAdjust=\"spacingAndGlyphs\" textLength=\"30\" x=\"86\" y=\"509.6479\">ports</text><line style=\"stroke: #383838; stroke-width: 1.0;\" x1=\"116\" x2=\"133\" y1=\"506.3398\" y2=\"506.3398\"/><!--MD5=[b9389687b975829384b498ac4b7476b2]\n",
       "class E8--><rect fill=\"#FFFFFF\" height=\"45.9375\" id=\"E8\" rx=\"10\" ry=\"10\" style=\"stroke: #383838; stroke-width: 1.5;\" width=\"42\" x=\"137\" y=\"594.5\"/><text fill=\"#000000\" font-family=\"sans-serif\" font-size=\"12\" font-style=\"italic\" lengthAdjust=\"spacingAndGlyphs\" textLength=\"40\" x=\"138\" y=\"610.6387\">«part»</text><text fill=\"#000000\" font-family=\"sans-serif\" font-size=\"12\" lengthAdjust=\"spacingAndGlyphs\" textLength=\"24\" x=\"146\" y=\"624.6074\">a: A</text><line style=\"stroke: #383838; stroke-width: 1.5;\" x1=\"138\" x2=\"178\" y1=\"632.4375\" y2=\"632.4375\"/><!--MD5=[96f4274e9e20536e775497830990834d]\n",
       "class E10--><rect fill=\"#FFFFFF\" height=\"75.5469\" id=\"E10\" style=\"stroke: #383838; stroke-width: 1.5;\" width=\"70\" x=\"32\" y=\"41\"/><text fill=\"#000000\" font-family=\"sans-serif\" font-size=\"12\" font-style=\"italic\" lengthAdjust=\"spacingAndGlyphs\" textLength=\"64\" x=\"35\" y=\"57.1387\">«port def»</text><text fill=\"#000000\" font-family=\"sans-serif\" font-size=\"12\" lengthAdjust=\"spacingAndGlyphs\" textLength=\"8\" x=\"63\" y=\"71.1074\">C</text><line style=\"stroke: #383838; stroke-width: 1.5;\" x1=\"33\" x2=\"101\" y1=\"78.9375\" y2=\"78.9375\"/><text fill=\"#000000\" font-family=\"sans-serif\" font-size=\"11\" lengthAdjust=\"spacingAndGlyphs\" textLength=\"21\" x=\"38\" y=\"109.9526\">y: A</text><text fill=\"#000000\" font-family=\"sans-serif\" font-size=\"11\" font-weight=\"bold\" lengthAdjust=\"spacingAndGlyphs\" textLength=\"15\" x=\"63\" y=\"109.9526\">as</text><text fill=\"#000000\" font-family=\"sans-serif\" font-size=\"11\" lengthAdjust=\"spacingAndGlyphs\" textLength=\"12\" x=\"82\" y=\"109.9526\">z2</text><line style=\"stroke: #383838; stroke-width: 1.0;\" x1=\"33\" x2=\"36\" y1=\"93.3398\" y2=\"93.3398\"/><text fill=\"#000000\" font-family=\"sans-serif\" font-size=\"11\" lengthAdjust=\"spacingAndGlyphs\" textLength=\"62\" x=\"36\" y=\"96.6479\">references</text><line style=\"stroke: #383838; stroke-width: 1.0;\" x1=\"98\" x2=\"101\" y1=\"93.3398\" y2=\"93.3398\"/><polygon fill=\"#FFFFFF\" points=\"72,591,88,591,95,613.2969,102,613.2969,102,643.5938,72,643.5938,72,591\" style=\"stroke: #000000; stroke-width: 1.5;\"/><line style=\"stroke: #000000; stroke-width: 1.5;\" x1=\"72\" x2=\"95\" y1=\"613.2969\" y2=\"613.2969\"/><text fill=\"#000000\" font-family=\"sans-serif\" font-size=\"14\" font-weight=\"bold\" lengthAdjust=\"spacingAndGlyphs\" textLength=\"10\" x=\"76\" y=\"605.9951\">P</text><!--MD5=[2720a5a1f2c3fca2055b230370638851]\n",
       "link E2 to E3--><path d=\"M155.49,102.28 C153.37,121.12 150.24,148.97 147.42,173.94 \" fill=\"none\" id=\"E2-&gt;E3\" style=\"stroke: #383838; stroke-width: 1.0;\"/><polygon fill=\"#FFFFFF\" points=\"145.17,193.98,140.3312,174.3182,154.244,175.8785,145.17,193.98\" style=\"stroke: #383838; stroke-width: 1.0;\"/><ellipse cx=\"142.954\" cy=\"168.8766\" fill=\"#383838\" rx=\"2\" ry=\"2\" style=\"stroke: #383838; stroke-width: 1.0;\"/><ellipse cx=\"152.8917\" cy=\"169.9911\" fill=\"#383838\" rx=\"2\" ry=\"2\" style=\"stroke: #383838; stroke-width: 1.0;\"/><!--MD5=[4672eba38e49728da53d11aeb285b987]\n",
       "reverse link E3 to E4--><path d=\"M133.6,283.33 C130.39,305.16 126.79,329.6 124.27,346.77 \" fill=\"none\" id=\"E3&lt;-E4\" style=\"stroke: #383838; stroke-width: 1.0;\"/><polygon fill=\"#383838\" points=\"135.53,270.16,130.6958,275.5108,133.7757,282.0311,138.6099,276.6803,135.53,270.16\" style=\"stroke: #383838; stroke-width: 1.0;\"/><!--MD5=[79568f1e445c3877b6a54524624ccc7d]\n",
       "link E4 to E6--><path d=\"M117.33,393.01 C115.42,404.51 112.97,419.17 110.56,433.62 \" fill=\"none\" id=\"E4-&gt;E6\" style=\"stroke: #383838; stroke-width: 1.0;\"/><polygon fill=\"#FFFFFF\" points=\"107.24,453.57,103.4565,433.6782,117.2663,435.9781,107.24,453.57\" style=\"stroke: #383838; stroke-width: 1.0;\"/><ellipse cx=\"106.3657\" cy=\"428.3842\" fill=\"#383838\" rx=\"2\" ry=\"2\" style=\"stroke: #383838; stroke-width: 1.0;\"/><ellipse cx=\"116.2299\" cy=\"430.027\" fill=\"#383838\" rx=\"2\" ry=\"2\" style=\"stroke: #383838; stroke-width: 1.0;\"/><!--MD5=[3f50a3473f1dfb74d3f76443e03635af]\n",
       "reverse link E6 to E7--><path d=\"M95.07,545.35 C93.28,561.08 91.4,577.65 89.91,590.83 \" fill=\"none\" id=\"E6&lt;-E7\" style=\"stroke: #383838; stroke-width: 1.0;\"/><ellipse cx=\"95.9015\" cy=\"537.9994\" fill=\"#FFFFFF\" rx=\"8\" ry=\"8\" style=\"stroke: #383838; stroke-width: 1.0;\"/><line style=\"stroke: #383838; stroke-width: 1.0;\" x1=\"95.003\" x2=\"96.8\" y1=\"545.9488\" y2=\"530.05\"/><line style=\"stroke: #383838; stroke-width: 1.0;\" x1=\"87.9521\" x2=\"103.8509\" y1=\"537.1009\" y2=\"538.8979\"/><!--MD5=[95fa686b5a16158bcdbcaeead89f639b]\n",
       "link E8 to E3--><path d=\"M158.2,594.25 C158.7,537.72 160,393 160,393 C160,393 160,347 160,347 C160,347 155.24,318.43 150.48,289.89 \" fill=\"none\" id=\"E8-&gt;E3\" style=\"stroke: #383838; stroke-width: 1.0;\"/><polygon fill=\"#FFFFFF\" points=\"147.17,270.01,157.1963,287.6019,143.3865,289.9018,147.17,270.01\" style=\"stroke: #383838; stroke-width: 1.0;\"/><ellipse cx=\"156.1599\" cy=\"293.553\" fill=\"#383838\" rx=\"2\" ry=\"2\" style=\"stroke: #383838; stroke-width: 1.0;\"/><ellipse cx=\"146.2957\" cy=\"295.1958\" fill=\"#383838\" rx=\"2\" ry=\"2\" style=\"stroke: #383838; stroke-width: 1.0;\"/><!--MD5=[f4cf0736d43fd73c4ef68817c49d37d5]\n",
       "reverse link E6 to E8--><path d=\"M123.59,541.94 C131.93,560.02 140.98,579.62 147.7,594.19 \" fill=\"none\" id=\"E6&lt;-E8\" style=\"stroke: #383838; stroke-width: 1.0;\"/><polygon fill=\"#383838\" points=\"118.1,530.05,116.9809,537.1737,123.1262,540.9467,124.2453,533.8229,118.1,530.05\" style=\"stroke: #383838; stroke-width: 1.0;\"/><!--MD5=[8e04057e7b3cbc0dca4fc78ea351e2da]\n",
       "reverse link E10 to E3--><path d=\"M91.15,129.28 C101.44,150.28 113.25,174.38 122.79,193.84 \" fill=\"none\" id=\"E10&lt;-E3\" style=\"stroke: #383838; stroke-width: 1.0;\"/><polygon fill=\"#FFFFFF\" points=\"85.29,117.33,84.3358,124.4777,90.5667,128.1076,91.5209,120.9599,85.29,117.33\" style=\"stroke: #383838; stroke-width: 1.0;\"/><text fill=\"#000000\" font-family=\"sans-serif\" font-size=\"13\" lengthAdjust=\"spacingAndGlyphs\" textLength=\"7\" x=\"107\" y=\"160.0669\">y</text><!--MD5=[604cbf994c02b74b117f728a71673cea]\n",
       "reverse link E10 to E6--><path d=\"M69.57,130.3 C74.09,218.79 83,393 83,393 C83,393 89.1,426.2 94.19,453.95 \" fill=\"none\" id=\"E10&lt;-E6\" style=\"stroke: #383838; stroke-width: 1.0;\"/><polygon fill=\"#FFFFFF\" points=\"68.9,117.13,65.2084,123.3245,69.5065,129.1147,73.1981,122.9202,68.9,117.13\" style=\"stroke: #383838; stroke-width: 1.0;\"/><text fill=\"#000000\" font-family=\"sans-serif\" font-size=\"13\" lengthAdjust=\"spacingAndGlyphs\" textLength=\"7\" x=\"80\" y=\"313.0669\">y</text><!--MD5=[5a1f118f75bc590bf7d8b036c3f61dfd]\n",
       "@startuml\r\n",
       "skinparam linetype polyline\r\n",
       "skinparam monochrome true\r\n",
       "skinparam classbackgroundcolor white\r\n",
       "skinparam shadowing false\r\n",
       "skinparam wrapWidth 300\r\n",
       "hide circle\r\n",
       "\r\n",
       "package \"PartTest\" as E1   {\r\n",
       "comp usage \"f: A\" as E2  <<(T,blue)part>> {\r\n",
       "}\r\n",
       "comp def \"A\" as E3  <<(T,blue)part def>> {\r\n",
       "- -ports- -\r\n",
       "c: C\r\n",
       "}\r\n",
       "comp usage \"b: B\" as E4  <<(T,blue)part>> {\r\n",
       "}\r\n",
       "comp def \"B\" as E6  <<(T,blue)part def>> {\r\n",
       "- -ports- -\r\n",
       "x: ~C\r\n",
       "}\r\n",
       "package \"P\" as E7   {\r\n",
       "}\r\n",
       "comp usage \"a: A\" as E8  <<(T,blue)part>> {\r\n",
       "}\r\n",
       "comp def \"C\" as E10  <<(T,blue)port def>> {\r\n",
       "- -references- -\r\n",
       "y: A <b>as</b> z2 \r\n",
       "}\r\n",
       "E2 - -:|> E3\r\n",
       "E3 *- - E4\r\n",
       "E4 - -:|> E6\r\n",
       "E6 +- - E7\r\n",
       "E8 - -:|> E3\r\n",
       "E6 *- - E8\r\n",
       "E10 o- - E3 : y\r\n",
       "E10 o- - E6 : y\r\n",
       "}\r\n",
       "@enduml\r\n",
       "\n",
       "PlantUML version 1.2020.13(Sat Jun 13 12:26:38 UTC 2020)\n",
       "(EPL source distribution)\n",
       "Java Runtime: OpenJDK Runtime Environment\n",
       "JVM: OpenJDK 64-Bit Server VM\n",
       "Default Encoding: UTF-8\n",
       "Language: en\n",
       "Country: null\n",
       "--></g></svg>"
      ]
     },
     "execution_count": 9,
     "metadata": {},
     "output_type": "execute_result"
    }
   ],
   "source": [
    "%viz --style=\"POLYLINE\" --view=\"Default\" \"PartTest\""
   ]
  },
  {
   "cell_type": "code",
   "execution_count": 10,
   "id": "requested-angle",
   "metadata": {
    "execution": {
     "iopub.execute_input": "2021-03-25T16:06:28.739868Z",
     "iopub.status.busy": "2021-03-25T16:06:28.739334Z",
     "iopub.status.idle": "2021-03-25T16:06:29.131358Z",
     "shell.execute_reply": "2021-03-25T16:06:29.131849Z"
    }
   },
   "outputs": [
    {
     "data": {
      "image/svg+xml": [
       "<?xml version=\"1.0\" encoding=\"UTF-8\" standalone=\"no\"?><svg xmlns=\"http://www.w3.org/2000/svg\" xmlns:xlink=\"http://www.w3.org/1999/xlink\" contentScriptType=\"application/ecmascript\" contentStyleType=\"text/css\" height=\"672px\" preserveAspectRatio=\"none\" style=\"width:217px;height:672px;\" version=\"1.1\" viewBox=\"0 0 217 672\" width=\"217px\" zoomAndPan=\"magnify\"><defs/><g><!--MD5=[fbc87193dbaf4d95561dea2c320d4a47]\n",
       "cluster E1--><polygon fill=\"#FFFFFF\" points=\"16,6,89,6,96,28.2969,195,28.2969,195,660,16,660,16,6\" style=\"stroke: #000000; stroke-width: 1.5;\"/><line style=\"stroke: #000000; stroke-width: 1.5;\" x1=\"16\" x2=\"96\" y1=\"28.2969\" y2=\"28.2969\"/><text fill=\"#000000\" font-family=\"sans-serif\" font-size=\"14\" font-weight=\"bold\" lengthAdjust=\"spacingAndGlyphs\" textLength=\"67\" x=\"20\" y=\"20.9951\">PartTest</text><!--MD5=[b4997ac47864f28c2f74865a473b2911]\n",
       "class E2--><rect fill=\"#FFFFFF\" height=\"45.9375\" id=\"E2\" rx=\"10\" ry=\"10\" style=\"stroke: #383838; stroke-width: 1.5;\" width=\"42\" x=\"137\" y=\"56\"/><text fill=\"#000000\" font-family=\"sans-serif\" font-size=\"12\" font-style=\"italic\" lengthAdjust=\"spacingAndGlyphs\" textLength=\"40\" x=\"138\" y=\"72.1387\">«part»</text><text fill=\"#000000\" font-family=\"sans-serif\" font-size=\"12\" lengthAdjust=\"spacingAndGlyphs\" textLength=\"20\" x=\"148\" y=\"86.1074\">f: A</text><line style=\"stroke: #383838; stroke-width: 1.5;\" x1=\"138\" x2=\"178\" y1=\"93.9375\" y2=\"93.9375\"/><!--MD5=[09b614a08d8cba4a07c9adeb5e0fee81]\n",
       "class E3--><rect fill=\"#FFFFFF\" height=\"75.5469\" id=\"E3\" style=\"stroke: #383838; stroke-width: 1.5;\" width=\"66\" x=\"108\" y=\"194\"/><text fill=\"#000000\" font-family=\"sans-serif\" font-size=\"12\" font-style=\"italic\" lengthAdjust=\"spacingAndGlyphs\" textLength=\"64\" x=\"109\" y=\"210.1387\">«part def»</text><text fill=\"#000000\" font-family=\"sans-serif\" font-size=\"12\" lengthAdjust=\"spacingAndGlyphs\" textLength=\"8\" x=\"137\" y=\"224.1074\">A</text><line style=\"stroke: #383838; stroke-width: 1.5;\" x1=\"109\" x2=\"173\" y1=\"231.9375\" y2=\"231.9375\"/><text fill=\"#000000\" font-family=\"sans-serif\" font-size=\"11\" lengthAdjust=\"spacingAndGlyphs\" textLength=\"22\" x=\"114\" y=\"262.9526\">c: C</text><line style=\"stroke: #383838; stroke-width: 1.0;\" x1=\"109\" x2=\"126\" y1=\"246.3398\" y2=\"246.3398\"/><text fill=\"#000000\" font-family=\"sans-serif\" font-size=\"11\" lengthAdjust=\"spacingAndGlyphs\" textLength=\"30\" x=\"126\" y=\"249.6479\">ports</text><line style=\"stroke: #383838; stroke-width: 1.0;\" x1=\"156\" x2=\"173\" y1=\"246.3398\" y2=\"246.3398\"/><!--MD5=[ebbe1d658d1005bcc118a6aa81145e00]\n",
       "class E4--><rect fill=\"#FFFFFF\" height=\"45.9375\" id=\"E4\" rx=\"10\" ry=\"10\" style=\"stroke: #383838; stroke-width: 1.5;\" width=\"42\" x=\"100\" y=\"347\"/><text fill=\"#000000\" font-family=\"sans-serif\" font-size=\"12\" font-style=\"italic\" lengthAdjust=\"spacingAndGlyphs\" textLength=\"40\" x=\"101\" y=\"363.1387\">«part»</text><text fill=\"#000000\" font-family=\"sans-serif\" font-size=\"12\" lengthAdjust=\"spacingAndGlyphs\" textLength=\"24\" x=\"109\" y=\"377.1074\">b: B</text><line style=\"stroke: #383838; stroke-width: 1.5;\" x1=\"101\" x2=\"141\" y1=\"384.9375\" y2=\"384.9375\"/><!--MD5=[60a26617385b1d2d0262a64233df1f8d]\n",
       "class E6--><rect fill=\"#FFFFFF\" height=\"75.5469\" id=\"E6\" style=\"stroke: #383838; stroke-width: 1.5;\" width=\"66\" x=\"68\" y=\"454\"/><text fill=\"#000000\" font-family=\"sans-serif\" font-size=\"12\" font-style=\"italic\" lengthAdjust=\"spacingAndGlyphs\" textLength=\"64\" x=\"69\" y=\"470.1387\">«part def»</text><text fill=\"#000000\" font-family=\"sans-serif\" font-size=\"12\" lengthAdjust=\"spacingAndGlyphs\" textLength=\"8\" x=\"97\" y=\"484.1074\">B</text><line style=\"stroke: #383838; stroke-width: 1.5;\" x1=\"69\" x2=\"133\" y1=\"491.9375\" y2=\"491.9375\"/><text fill=\"#000000\" font-family=\"sans-serif\" font-size=\"11\" lengthAdjust=\"spacingAndGlyphs\" textLength=\"31\" x=\"74\" y=\"522.9526\">x: ~C</text><line style=\"stroke: #383838; stroke-width: 1.0;\" x1=\"69\" x2=\"86\" y1=\"506.3398\" y2=\"506.3398\"/><text fill=\"#000000\" font-family=\"sans-serif\" font-size=\"11\" lengthAdjust=\"spacingAndGlyphs\" textLength=\"30\" x=\"86\" y=\"509.6479\">ports</text><line style=\"stroke: #383838; stroke-width: 1.0;\" x1=\"116\" x2=\"133\" y1=\"506.3398\" y2=\"506.3398\"/><!--MD5=[b9389687b975829384b498ac4b7476b2]\n",
       "class E8--><rect fill=\"#FFFFFF\" height=\"45.9375\" id=\"E8\" rx=\"10\" ry=\"10\" style=\"stroke: #383838; stroke-width: 1.5;\" width=\"42\" x=\"137\" y=\"594.5\"/><text fill=\"#000000\" font-family=\"sans-serif\" font-size=\"12\" font-style=\"italic\" lengthAdjust=\"spacingAndGlyphs\" textLength=\"40\" x=\"138\" y=\"610.6387\">«part»</text><text fill=\"#000000\" font-family=\"sans-serif\" font-size=\"12\" lengthAdjust=\"spacingAndGlyphs\" textLength=\"24\" x=\"146\" y=\"624.6074\">a: A</text><line style=\"stroke: #383838; stroke-width: 1.5;\" x1=\"138\" x2=\"178\" y1=\"632.4375\" y2=\"632.4375\"/><!--MD5=[96f4274e9e20536e775497830990834d]\n",
       "class E10--><rect fill=\"#FFFFFF\" height=\"75.5469\" id=\"E10\" style=\"stroke: #383838; stroke-width: 1.5;\" width=\"70\" x=\"32\" y=\"41\"/><text fill=\"#000000\" font-family=\"sans-serif\" font-size=\"12\" font-style=\"italic\" lengthAdjust=\"spacingAndGlyphs\" textLength=\"64\" x=\"35\" y=\"57.1387\">«port def»</text><text fill=\"#000000\" font-family=\"sans-serif\" font-size=\"12\" lengthAdjust=\"spacingAndGlyphs\" textLength=\"8\" x=\"63\" y=\"71.1074\">C</text><line style=\"stroke: #383838; stroke-width: 1.5;\" x1=\"33\" x2=\"101\" y1=\"78.9375\" y2=\"78.9375\"/><text fill=\"#000000\" font-family=\"sans-serif\" font-size=\"11\" lengthAdjust=\"spacingAndGlyphs\" textLength=\"21\" x=\"38\" y=\"109.9526\">y: A</text><text fill=\"#000000\" font-family=\"sans-serif\" font-size=\"11\" font-weight=\"bold\" lengthAdjust=\"spacingAndGlyphs\" textLength=\"15\" x=\"63\" y=\"109.9526\">as</text><text fill=\"#000000\" font-family=\"sans-serif\" font-size=\"11\" lengthAdjust=\"spacingAndGlyphs\" textLength=\"12\" x=\"82\" y=\"109.9526\">z2</text><line style=\"stroke: #383838; stroke-width: 1.0;\" x1=\"33\" x2=\"36\" y1=\"93.3398\" y2=\"93.3398\"/><text fill=\"#000000\" font-family=\"sans-serif\" font-size=\"11\" lengthAdjust=\"spacingAndGlyphs\" textLength=\"62\" x=\"36\" y=\"96.6479\">references</text><line style=\"stroke: #383838; stroke-width: 1.0;\" x1=\"98\" x2=\"101\" y1=\"93.3398\" y2=\"93.3398\"/><polygon fill=\"#FFFFFF\" points=\"72,591,88,591,95,613.2969,102,613.2969,102,643.5938,72,643.5938,72,591\" style=\"stroke: #000000; stroke-width: 1.5;\"/><line style=\"stroke: #000000; stroke-width: 1.5;\" x1=\"72\" x2=\"95\" y1=\"613.2969\" y2=\"613.2969\"/><text fill=\"#000000\" font-family=\"sans-serif\" font-size=\"14\" font-weight=\"bold\" lengthAdjust=\"spacingAndGlyphs\" textLength=\"10\" x=\"76\" y=\"605.9951\">P</text><!--MD5=[2720a5a1f2c3fca2055b230370638851]\n",
       "link E2 to E3--><path d=\"M155.49,102.28 C153.37,121.12 150.24,148.97 147.42,173.94 \" fill=\"none\" id=\"E2-&gt;E3\" style=\"stroke: #383838; stroke-width: 1.0;\"/><polygon fill=\"#FFFFFF\" points=\"145.17,193.98,140.3312,174.3182,154.244,175.8785,145.17,193.98\" style=\"stroke: #383838; stroke-width: 1.0;\"/><ellipse cx=\"142.954\" cy=\"168.8766\" fill=\"#383838\" rx=\"2\" ry=\"2\" style=\"stroke: #383838; stroke-width: 1.0;\"/><ellipse cx=\"152.8917\" cy=\"169.9911\" fill=\"#383838\" rx=\"2\" ry=\"2\" style=\"stroke: #383838; stroke-width: 1.0;\"/><!--MD5=[4672eba38e49728da53d11aeb285b987]\n",
       "reverse link E3 to E4--><path d=\"M133.6,283.33 C130.39,305.16 126.79,329.6 124.27,346.77 \" fill=\"none\" id=\"E3&lt;-E4\" style=\"stroke: #383838; stroke-width: 1.0;\"/><polygon fill=\"#383838\" points=\"135.53,270.16,130.6958,275.5108,133.7757,282.0311,138.6099,276.6803,135.53,270.16\" style=\"stroke: #383838; stroke-width: 1.0;\"/><!--MD5=[79568f1e445c3877b6a54524624ccc7d]\n",
       "link E4 to E6--><path d=\"M117.33,393.01 C115.42,404.51 112.97,419.17 110.56,433.62 \" fill=\"none\" id=\"E4-&gt;E6\" style=\"stroke: #383838; stroke-width: 1.0;\"/><polygon fill=\"#FFFFFF\" points=\"107.24,453.57,103.4565,433.6782,117.2663,435.9781,107.24,453.57\" style=\"stroke: #383838; stroke-width: 1.0;\"/><ellipse cx=\"106.3657\" cy=\"428.3842\" fill=\"#383838\" rx=\"2\" ry=\"2\" style=\"stroke: #383838; stroke-width: 1.0;\"/><ellipse cx=\"116.2299\" cy=\"430.027\" fill=\"#383838\" rx=\"2\" ry=\"2\" style=\"stroke: #383838; stroke-width: 1.0;\"/><!--MD5=[3f50a3473f1dfb74d3f76443e03635af]\n",
       "reverse link E6 to E7--><path d=\"M95.07,545.35 C93.28,561.08 91.4,577.65 89.91,590.83 \" fill=\"none\" id=\"E6&lt;-E7\" style=\"stroke: #383838; stroke-width: 1.0;\"/><ellipse cx=\"95.9015\" cy=\"537.9994\" fill=\"#FFFFFF\" rx=\"8\" ry=\"8\" style=\"stroke: #383838; stroke-width: 1.0;\"/><line style=\"stroke: #383838; stroke-width: 1.0;\" x1=\"95.003\" x2=\"96.8\" y1=\"545.9488\" y2=\"530.05\"/><line style=\"stroke: #383838; stroke-width: 1.0;\" x1=\"87.9521\" x2=\"103.8509\" y1=\"537.1009\" y2=\"538.8979\"/><!--MD5=[95fa686b5a16158bcdbcaeead89f639b]\n",
       "link E8 to E3--><path d=\"M158.2,594.25 C158.7,537.72 160,393 160,393 C160,393 160,347 160,347 C160,347 155.24,318.43 150.48,289.89 \" fill=\"none\" id=\"E8-&gt;E3\" style=\"stroke: #383838; stroke-width: 1.0;\"/><polygon fill=\"#FFFFFF\" points=\"147.17,270.01,157.1963,287.6019,143.3865,289.9018,147.17,270.01\" style=\"stroke: #383838; stroke-width: 1.0;\"/><ellipse cx=\"156.1599\" cy=\"293.553\" fill=\"#383838\" rx=\"2\" ry=\"2\" style=\"stroke: #383838; stroke-width: 1.0;\"/><ellipse cx=\"146.2957\" cy=\"295.1958\" fill=\"#383838\" rx=\"2\" ry=\"2\" style=\"stroke: #383838; stroke-width: 1.0;\"/><!--MD5=[f4cf0736d43fd73c4ef68817c49d37d5]\n",
       "reverse link E6 to E8--><path d=\"M123.59,541.94 C131.93,560.02 140.98,579.62 147.7,594.19 \" fill=\"none\" id=\"E6&lt;-E8\" style=\"stroke: #383838; stroke-width: 1.0;\"/><polygon fill=\"#383838\" points=\"118.1,530.05,116.9809,537.1737,123.1262,540.9467,124.2453,533.8229,118.1,530.05\" style=\"stroke: #383838; stroke-width: 1.0;\"/><!--MD5=[8e04057e7b3cbc0dca4fc78ea351e2da]\n",
       "reverse link E10 to E3--><path d=\"M91.15,129.28 C101.44,150.28 113.25,174.38 122.79,193.84 \" fill=\"none\" id=\"E10&lt;-E3\" style=\"stroke: #383838; stroke-width: 1.0;\"/><polygon fill=\"#FFFFFF\" points=\"85.29,117.33,84.3358,124.4777,90.5667,128.1076,91.5209,120.9599,85.29,117.33\" style=\"stroke: #383838; stroke-width: 1.0;\"/><text fill=\"#000000\" font-family=\"sans-serif\" font-size=\"13\" lengthAdjust=\"spacingAndGlyphs\" textLength=\"7\" x=\"107\" y=\"160.0669\">y</text><!--MD5=[604cbf994c02b74b117f728a71673cea]\n",
       "reverse link E10 to E6--><path d=\"M69.57,130.3 C74.09,218.79 83,393 83,393 C83,393 89.1,426.2 94.19,453.95 \" fill=\"none\" id=\"E10&lt;-E6\" style=\"stroke: #383838; stroke-width: 1.0;\"/><polygon fill=\"#FFFFFF\" points=\"68.9,117.13,65.2084,123.3245,69.5065,129.1147,73.1981,122.9202,68.9,117.13\" style=\"stroke: #383838; stroke-width: 1.0;\"/><text fill=\"#000000\" font-family=\"sans-serif\" font-size=\"13\" lengthAdjust=\"spacingAndGlyphs\" textLength=\"7\" x=\"80\" y=\"313.0669\">y</text><!--MD5=[5a1f118f75bc590bf7d8b036c3f61dfd]\n",
       "@startuml\r\n",
       "skinparam linetype polyline\r\n",
       "skinparam monochrome true\r\n",
       "skinparam classbackgroundcolor white\r\n",
       "skinparam shadowing false\r\n",
       "skinparam wrapWidth 300\r\n",
       "hide circle\r\n",
       "\r\n",
       "package \"PartTest\" as E1   {\r\n",
       "comp usage \"f: A\" as E2  <<(T,blue)part>> {\r\n",
       "}\r\n",
       "comp def \"A\" as E3  <<(T,blue)part def>> {\r\n",
       "- -ports- -\r\n",
       "c: C\r\n",
       "}\r\n",
       "comp usage \"b: B\" as E4  <<(T,blue)part>> {\r\n",
       "}\r\n",
       "comp def \"B\" as E6  <<(T,blue)part def>> {\r\n",
       "- -ports- -\r\n",
       "x: ~C\r\n",
       "}\r\n",
       "package \"P\" as E7   {\r\n",
       "}\r\n",
       "comp usage \"a: A\" as E8  <<(T,blue)part>> {\r\n",
       "}\r\n",
       "comp def \"C\" as E10  <<(T,blue)port def>> {\r\n",
       "- -references- -\r\n",
       "y: A <b>as</b> z2 \r\n",
       "}\r\n",
       "E2 - -:|> E3\r\n",
       "E3 *- - E4\r\n",
       "E4 - -:|> E6\r\n",
       "E6 +- - E7\r\n",
       "E8 - -:|> E3\r\n",
       "E6 *- - E8\r\n",
       "E10 o- - E3 : y\r\n",
       "E10 o- - E6 : y\r\n",
       "}\r\n",
       "@enduml\r\n",
       "\n",
       "PlantUML version 1.2020.13(Sat Jun 13 12:26:38 UTC 2020)\n",
       "(EPL source distribution)\n",
       "Java Runtime: OpenJDK Runtime Environment\n",
       "JVM: OpenJDK 64-Bit Server VM\n",
       "Default Encoding: UTF-8\n",
       "Language: en\n",
       "Country: null\n",
       "--></g></svg>"
      ]
     },
     "execution_count": 10,
     "metadata": {},
     "output_type": "execute_result"
    }
   ],
   "source": [
    "%viz --style=\"POLYLINE\" --view=\"Tree\" \"PartTest\""
   ]
  },
  {
   "cell_type": "code",
   "execution_count": 11,
   "id": "careful-annex",
   "metadata": {
    "execution": {
     "iopub.execute_input": "2021-03-25T16:06:29.181892Z",
     "iopub.status.busy": "2021-03-25T16:06:29.181285Z",
     "iopub.status.idle": "2021-03-25T16:06:29.183814Z",
     "shell.execute_reply": "2021-03-25T16:06:29.184215Z"
    }
   },
   "outputs": [
    {
     "data": {
      "text/plain": [
       "java.lang.IllegalArgumentException: Invalid View: State View candidates are: Default Tree StateMachine Interconnection Activity Sequence MIXED \n",
       "\tat org.omg.sysml.plantuml.SysML2PlantUMLSvc.setView(SysML2PlantUMLSvc.java:63)\n",
       "\tat org.omg.sysml.interactive.SysMLInteractive.viz(SysMLInteractive.java:286)\n",
       "\tat org.omg.sysml.jupyter.kernel.magic.Viz.viz(Viz.java:47)\n",
       "\tat java.base/jdk.internal.reflect.NativeMethodAccessorImpl.invoke0(Native Method)\n",
       "\tat java.base/jdk.internal.reflect.NativeMethodAccessorImpl.invoke(NativeMethodAccessorImpl.java:78)\n",
       "\tat java.base/jdk.internal.reflect.DelegatingMethodAccessorImpl.invoke(DelegatingMethodAccessorImpl.java:43)\n",
       "\tat java.base/java.lang.reflect.Method.invoke(Method.java:568)\n",
       "\tat io.github.spencerpark.jupyter.kernel.magic.registry.Magics.invoke(Magics.java:89)\n",
       "\tat io.github.spencerpark.jupyter.kernel.magic.registry.Magics.access$000(Magics.java:8)\n",
       "\tat io.github.spencerpark.jupyter.kernel.magic.registry.Magics$LineReflectionMagicFunction.execute(Magics.java:149)\n",
       "\tat io.github.spencerpark.jupyter.kernel.magic.registry.Magics.applyLineMagic(Magics.java:26)\n",
       "\tat org.omg.sysml.jupyter.kernel.SysMLKernel.eval(SysMLKernel.java:76)\n",
       "\tat io.github.spencerpark.jupyter.kernel.BaseKernel.handleExecuteRequest(BaseKernel.java:334)\n",
       "\tat io.github.spencerpark.jupyter.channels.ShellChannel.lambda$bind$0(ShellChannel.java:64)\n",
       "\tat io.github.spencerpark.jupyter.channels.Loop.lambda$new$0(Loop.java:21)\n",
       "\tat io.github.spencerpark.jupyter.channels.Loop.run(Loop.java:78)\n"
      ]
     },
     "execution_count": 11,
     "metadata": {},
     "output_type": "execute_result"
    }
   ],
   "source": [
    "%viz --style=\"POLYLINE\" --view=\"State\" \"PartTest\""
   ]
  },
  {
   "cell_type": "code",
   "execution_count": 12,
   "id": "closing-mongolia",
   "metadata": {
    "execution": {
     "iopub.execute_input": "2021-03-25T16:06:29.235895Z",
     "iopub.status.busy": "2021-03-25T16:06:29.235405Z",
     "iopub.status.idle": "2021-03-25T16:06:29.336301Z",
     "shell.execute_reply": "2021-03-25T16:06:29.336802Z"
    }
   },
   "outputs": [
    {
     "data": {
      "image/svg+xml": [
       "<?xml version=\"1.0\" encoding=\"UTF-8\" standalone=\"no\"?><svg xmlns=\"http://www.w3.org/2000/svg\" xmlns:xlink=\"http://www.w3.org/1999/xlink\" contentScriptType=\"application/ecmascript\" contentStyleType=\"text/css\" height=\"266px\" preserveAspectRatio=\"none\" style=\"width:542px;height:266px;\" version=\"1.1\" viewBox=\"0 0 542 266\" width=\"542px\" zoomAndPan=\"magnify\"><defs/><g><!--MD5=[fbc87193dbaf4d95561dea2c320d4a47]\n",
       "cluster E1--><polygon fill=\"#FFFFFF\" points=\"16,6,89,6,96,28.2969,520,28.2969,520,254,16,254,16,6\" style=\"stroke: #000000; stroke-width: 1.5;\"/><line style=\"stroke: #000000; stroke-width: 1.5;\" x1=\"16\" x2=\"96\" y1=\"28.2969\" y2=\"28.2969\"/><text fill=\"#000000\" font-family=\"sans-serif\" font-size=\"14\" font-weight=\"bold\" lengthAdjust=\"spacingAndGlyphs\" textLength=\"67\" x=\"20\" y=\"20.9951\">PartTest</text><!--MD5=[d5e69f78d87373223dbae638b30a9c99]\n",
       "cluster E3--><rect fill=\"#FFFFFF\" height=\"170\" style=\"stroke: #000000; stroke-width: 1.5;\" width=\"120\" x=\"384\" y=\"68\"/><text fill=\"#000000\" font-family=\"sans-serif\" font-size=\"14\" font-style=\"italic\" lengthAdjust=\"spacingAndGlyphs\" textLength=\"71\" x=\"408.5\" y=\"82.9951\">«part def»</text><text fill=\"#000000\" font-family=\"sans-serif\" font-size=\"14\" font-weight=\"bold\" lengthAdjust=\"spacingAndGlyphs\" textLength=\"11\" x=\"438.5\" y=\"99.292\">A</text><!--MD5=[14e3b0961a2654348d326746436168a1]\n",
       "cluster E6--><rect fill=\"#FFFFFF\" height=\"170\" style=\"stroke: #000000; stroke-width: 1.5;\" width=\"185\" x=\"191\" y=\"68\"/><text fill=\"#000000\" font-family=\"sans-serif\" font-size=\"14\" font-style=\"italic\" lengthAdjust=\"spacingAndGlyphs\" textLength=\"71\" x=\"248\" y=\"82.9951\">«part def»</text><text fill=\"#000000\" font-family=\"sans-serif\" font-size=\"14\" font-weight=\"bold\" lengthAdjust=\"spacingAndGlyphs\" textLength=\"10\" x=\"278.5\" y=\"99.292\">B</text><!--MD5=[96f4274e9e20536e775497830990834d]\n",
       "class E10--><rect fill=\"#FFFFFF\" height=\"53.9375\" id=\"E10\" style=\"stroke: #383838; stroke-width: 1.5;\" width=\"66\" x=\"117\" y=\"41\"/><text fill=\"#000000\" font-family=\"sans-serif\" font-size=\"12\" font-style=\"italic\" lengthAdjust=\"spacingAndGlyphs\" textLength=\"64\" x=\"118\" y=\"57.1387\">«port def»</text><text fill=\"#000000\" font-family=\"sans-serif\" font-size=\"12\" lengthAdjust=\"spacingAndGlyphs\" textLength=\"8\" x=\"146\" y=\"71.1074\">C</text><line style=\"stroke: #383838; stroke-width: 1.5;\" x1=\"118\" x2=\"182\" y1=\"78.9375\" y2=\"78.9375\"/><line style=\"stroke: #383838; stroke-width: 1.5;\" x1=\"118\" x2=\"182\" y1=\"86.9375\" y2=\"86.9375\"/><g id=\"E1.E2\"><rect fill=\"#FFFFFF\" height=\"50\" rx=\"12.5\" ry=\"12.5\" style=\"stroke: #383838; stroke-width: 1.5;\" width=\"50\" x=\"32\" y=\"43\"/><line style=\"stroke: #383838; stroke-width: 1.5;\" x1=\"32\" x2=\"82\" y1=\"69.2969\" y2=\"69.2969\"/><text fill=\"#000000\" font-family=\"sans-serif\" font-size=\"14\" lengthAdjust=\"spacingAndGlyphs\" textLength=\"22\" x=\"46\" y=\"60.9951\">f: A</text></g><text fill=\"#000000\" font-family=\"sans-serif\" font-size=\"14\" lengthAdjust=\"spacingAndGlyphs\" textLength=\"27\" x=\"430.5\" y=\"46.6982\">c: C</text><rect fill=\"#383838\" height=\"12\" style=\"stroke: #F8F8F8; stroke-width: 1.5;\" width=\"12\" x=\"438\" y=\"62\"/><g id=\"E1.E3.E4\"><rect fill=\"#FFFFFF\" height=\"50\" rx=\"12.5\" ry=\"12.5\" style=\"stroke: #383838; stroke-width: 1.5;\" width=\"50\" x=\"419\" y=\"172\"/><line style=\"stroke: #383838; stroke-width: 1.5;\" x1=\"419\" x2=\"469\" y1=\"198.2969\" y2=\"198.2969\"/><text fill=\"#000000\" font-family=\"sans-serif\" font-size=\"14\" lengthAdjust=\"spacingAndGlyphs\" textLength=\"28\" x=\"430\" y=\"189.9951\">b: B</text></g><text fill=\"#000000\" font-family=\"sans-serif\" font-size=\"14\" lengthAdjust=\"spacingAndGlyphs\" textLength=\"38\" x=\"297\" y=\"46.6982\">x: ~C</text><rect fill=\"#383838\" height=\"12\" style=\"stroke: #F8F8F8; stroke-width: 1.5;\" width=\"12\" x=\"310\" y=\"62\"/><polygon fill=\"#FFFFFF\" points=\"207,111,223,111,230,133.2969,237,133.2969,237,163.5938,207,163.5938,207,111\" style=\"stroke: #000000; stroke-width: 1.5;\"/><line style=\"stroke: #000000; stroke-width: 1.5;\" x1=\"207\" x2=\"230\" y1=\"133.2969\" y2=\"133.2969\"/><text fill=\"#000000\" font-family=\"sans-serif\" font-size=\"14\" font-weight=\"bold\" lengthAdjust=\"spacingAndGlyphs\" textLength=\"10\" x=\"211\" y=\"125.9951\">P</text><g id=\"E1.E6.E8\"><rect fill=\"#FFFFFF\" height=\"50\" rx=\"12.5\" ry=\"12.5\" style=\"stroke: #383838; stroke-width: 1.5;\" width=\"50\" x=\"291\" y=\"172\"/><line style=\"stroke: #383838; stroke-width: 1.5;\" x1=\"291\" x2=\"341\" y1=\"198.2969\" y2=\"198.2969\"/><text fill=\"#000000\" font-family=\"sans-serif\" font-size=\"14\" lengthAdjust=\"spacingAndGlyphs\" textLength=\"26\" x=\"303\" y=\"189.9951\">a: A</text></g><!--MD5=[26e157b7a0087c97e6e9ba319477dd4c]\n",
       "@startuml\r\n",
       "skinparam ranksep 8\r\n",
       "skinparam rectangle {\r\n",
       " backgroundColor<<block>> LightGreen\r\n",
       "}\r\n",
       "skinparam linetype polyline\r\n",
       "skinparam monochrome true\r\n",
       "skinparam classbackgroundcolor white\r\n",
       "skinparam shadowing false\r\n",
       "skinparam wrapWidth 300\r\n",
       "hide circle\r\n",
       "\r\n",
       "package \"PartTest\" as E1   {\r\n",
       "rec usage \"f: A\" as E2  {\r\n",
       "}\r\n",
       "rec def \"A\" as E3  <<part def>> {\r\n",
       "rec usage \"b: B\" as E4  {\r\n",
       "}\r\n",
       "portin \"c: C\" as E5  <<port>> \r\n",
       "}\r\n",
       "rec def \"B\" as E6  <<part def>> {\r\n",
       "package \"P\" as E7   {\r\n",
       "}\r\n",
       "rec usage \"a: A\" as E8  {\r\n",
       "}\r\n",
       "portin \"x: ~C\" as E9  <<port>> \r\n",
       "}\r\n",
       "def \"C\" as E10  <<port def>> \r\n",
       "}\r\n",
       "@enduml\r\n",
       "\n",
       "PlantUML version 1.2020.13(Sat Jun 13 12:26:38 UTC 2020)\n",
       "(EPL source distribution)\n",
       "Java Runtime: OpenJDK Runtime Environment\n",
       "JVM: OpenJDK 64-Bit Server VM\n",
       "Default Encoding: UTF-8\n",
       "Language: en\n",
       "Country: null\n",
       "--></g></svg>"
      ]
     },
     "execution_count": 12,
     "metadata": {},
     "output_type": "execute_result"
    }
   ],
   "source": [
    "%viz --style=\"POLYLINE\" --view=\"Interconnection\" \"PartTest\""
   ]
  },
  {
   "cell_type": "code",
   "execution_count": 13,
   "id": "linear-society",
   "metadata": {
    "execution": {
     "iopub.execute_input": "2021-03-25T16:06:29.388920Z",
     "iopub.status.busy": "2021-03-25T16:06:29.388115Z",
     "iopub.status.idle": "2021-03-25T16:06:29.391212Z",
     "shell.execute_reply": "2021-03-25T16:06:29.391747Z"
    }
   },
   "outputs": [
    {
     "data": {
      "text/plain": [
       "java.lang.IllegalArgumentException: Invalid View: Action View candidates are: Default Tree StateMachine Interconnection Activity Sequence MIXED \n",
       "\tat org.omg.sysml.plantuml.SysML2PlantUMLSvc.setView(SysML2PlantUMLSvc.java:63)\n",
       "\tat org.omg.sysml.interactive.SysMLInteractive.viz(SysMLInteractive.java:286)\n",
       "\tat org.omg.sysml.jupyter.kernel.magic.Viz.viz(Viz.java:47)\n",
       "\tat java.base/jdk.internal.reflect.NativeMethodAccessorImpl.invoke0(Native Method)\n",
       "\tat java.base/jdk.internal.reflect.NativeMethodAccessorImpl.invoke(NativeMethodAccessorImpl.java:78)\n",
       "\tat java.base/jdk.internal.reflect.DelegatingMethodAccessorImpl.invoke(DelegatingMethodAccessorImpl.java:43)\n",
       "\tat java.base/java.lang.reflect.Method.invoke(Method.java:568)\n",
       "\tat io.github.spencerpark.jupyter.kernel.magic.registry.Magics.invoke(Magics.java:89)\n",
       "\tat io.github.spencerpark.jupyter.kernel.magic.registry.Magics.access$000(Magics.java:8)\n",
       "\tat io.github.spencerpark.jupyter.kernel.magic.registry.Magics$LineReflectionMagicFunction.execute(Magics.java:149)\n",
       "\tat io.github.spencerpark.jupyter.kernel.magic.registry.Magics.applyLineMagic(Magics.java:26)\n",
       "\tat org.omg.sysml.jupyter.kernel.SysMLKernel.eval(SysMLKernel.java:76)\n",
       "\tat io.github.spencerpark.jupyter.kernel.BaseKernel.handleExecuteRequest(BaseKernel.java:334)\n",
       "\tat io.github.spencerpark.jupyter.channels.ShellChannel.lambda$bind$0(ShellChannel.java:64)\n",
       "\tat io.github.spencerpark.jupyter.channels.Loop.lambda$new$0(Loop.java:21)\n",
       "\tat io.github.spencerpark.jupyter.channels.Loop.run(Loop.java:78)\n"
      ]
     },
     "execution_count": 13,
     "metadata": {},
     "output_type": "execute_result"
    }
   ],
   "source": [
    "%viz --style=\"POLYLINE\" --view=\"Action\" \"PartTest\""
   ]
  },
  {
   "cell_type": "code",
   "execution_count": 14,
   "id": "honey-insertion",
   "metadata": {
    "execution": {
     "iopub.execute_input": "2021-03-25T16:06:29.443142Z",
     "iopub.status.busy": "2021-03-25T16:06:29.442644Z",
     "iopub.status.idle": "2021-03-25T16:06:29.827921Z",
     "shell.execute_reply": "2021-03-25T16:06:29.828316Z"
    }
   },
   "outputs": [
    {
     "data": {
      "image/svg+xml": [
       "<?xml version=\"1.0\" encoding=\"UTF-8\" standalone=\"no\"?><svg xmlns=\"http://www.w3.org/2000/svg\" xmlns:xlink=\"http://www.w3.org/1999/xlink\" contentScriptType=\"application/ecmascript\" contentStyleType=\"text/css\" height=\"672px\" preserveAspectRatio=\"none\" style=\"width:217px;height:672px;\" version=\"1.1\" viewBox=\"0 0 217 672\" width=\"217px\" zoomAndPan=\"magnify\"><defs/><g><!--MD5=[fbc87193dbaf4d95561dea2c320d4a47]\n",
       "cluster E1--><polygon fill=\"#FFFFFF\" points=\"16,6,89,6,96,28.2969,195,28.2969,195,660,16,660,16,6\" style=\"stroke: #000000; stroke-width: 1.5;\"/><line style=\"stroke: #000000; stroke-width: 1.5;\" x1=\"16\" x2=\"96\" y1=\"28.2969\" y2=\"28.2969\"/><text fill=\"#000000\" font-family=\"sans-serif\" font-size=\"14\" font-weight=\"bold\" lengthAdjust=\"spacingAndGlyphs\" textLength=\"67\" x=\"20\" y=\"20.9951\">PartTest</text><!--MD5=[b4997ac47864f28c2f74865a473b2911]\n",
       "class E2--><rect fill=\"#FFFFFF\" height=\"45.9375\" id=\"E2\" rx=\"10\" ry=\"10\" style=\"stroke: #383838; stroke-width: 1.5;\" width=\"42\" x=\"137\" y=\"56\"/><text fill=\"#000000\" font-family=\"sans-serif\" font-size=\"12\" font-style=\"italic\" lengthAdjust=\"spacingAndGlyphs\" textLength=\"40\" x=\"138\" y=\"72.1387\">«part»</text><text fill=\"#000000\" font-family=\"sans-serif\" font-size=\"12\" lengthAdjust=\"spacingAndGlyphs\" textLength=\"20\" x=\"148\" y=\"86.1074\">f: A</text><line style=\"stroke: #383838; stroke-width: 1.5;\" x1=\"138\" x2=\"178\" y1=\"93.9375\" y2=\"93.9375\"/><!--MD5=[09b614a08d8cba4a07c9adeb5e0fee81]\n",
       "class E3--><rect fill=\"#FFFFFF\" height=\"75.5469\" id=\"E3\" style=\"stroke: #383838; stroke-width: 1.5;\" width=\"66\" x=\"108\" y=\"194\"/><text fill=\"#000000\" font-family=\"sans-serif\" font-size=\"12\" font-style=\"italic\" lengthAdjust=\"spacingAndGlyphs\" textLength=\"64\" x=\"109\" y=\"210.1387\">«part def»</text><text fill=\"#000000\" font-family=\"sans-serif\" font-size=\"12\" lengthAdjust=\"spacingAndGlyphs\" textLength=\"8\" x=\"137\" y=\"224.1074\">A</text><line style=\"stroke: #383838; stroke-width: 1.5;\" x1=\"109\" x2=\"173\" y1=\"231.9375\" y2=\"231.9375\"/><text fill=\"#000000\" font-family=\"sans-serif\" font-size=\"11\" lengthAdjust=\"spacingAndGlyphs\" textLength=\"22\" x=\"114\" y=\"262.9526\">c: C</text><line style=\"stroke: #383838; stroke-width: 1.0;\" x1=\"109\" x2=\"126\" y1=\"246.3398\" y2=\"246.3398\"/><text fill=\"#000000\" font-family=\"sans-serif\" font-size=\"11\" lengthAdjust=\"spacingAndGlyphs\" textLength=\"30\" x=\"126\" y=\"249.6479\">ports</text><line style=\"stroke: #383838; stroke-width: 1.0;\" x1=\"156\" x2=\"173\" y1=\"246.3398\" y2=\"246.3398\"/><!--MD5=[ebbe1d658d1005bcc118a6aa81145e00]\n",
       "class E4--><rect fill=\"#FFFFFF\" height=\"45.9375\" id=\"E4\" rx=\"10\" ry=\"10\" style=\"stroke: #383838; stroke-width: 1.5;\" width=\"42\" x=\"100\" y=\"347\"/><text fill=\"#000000\" font-family=\"sans-serif\" font-size=\"12\" font-style=\"italic\" lengthAdjust=\"spacingAndGlyphs\" textLength=\"40\" x=\"101\" y=\"363.1387\">«part»</text><text fill=\"#000000\" font-family=\"sans-serif\" font-size=\"12\" lengthAdjust=\"spacingAndGlyphs\" textLength=\"24\" x=\"109\" y=\"377.1074\">b: B</text><line style=\"stroke: #383838; stroke-width: 1.5;\" x1=\"101\" x2=\"141\" y1=\"384.9375\" y2=\"384.9375\"/><!--MD5=[60a26617385b1d2d0262a64233df1f8d]\n",
       "class E6--><rect fill=\"#FFFFFF\" height=\"75.5469\" id=\"E6\" style=\"stroke: #383838; stroke-width: 1.5;\" width=\"66\" x=\"68\" y=\"454\"/><text fill=\"#000000\" font-family=\"sans-serif\" font-size=\"12\" font-style=\"italic\" lengthAdjust=\"spacingAndGlyphs\" textLength=\"64\" x=\"69\" y=\"470.1387\">«part def»</text><text fill=\"#000000\" font-family=\"sans-serif\" font-size=\"12\" lengthAdjust=\"spacingAndGlyphs\" textLength=\"8\" x=\"97\" y=\"484.1074\">B</text><line style=\"stroke: #383838; stroke-width: 1.5;\" x1=\"69\" x2=\"133\" y1=\"491.9375\" y2=\"491.9375\"/><text fill=\"#000000\" font-family=\"sans-serif\" font-size=\"11\" lengthAdjust=\"spacingAndGlyphs\" textLength=\"31\" x=\"74\" y=\"522.9526\">x: ~C</text><line style=\"stroke: #383838; stroke-width: 1.0;\" x1=\"69\" x2=\"86\" y1=\"506.3398\" y2=\"506.3398\"/><text fill=\"#000000\" font-family=\"sans-serif\" font-size=\"11\" lengthAdjust=\"spacingAndGlyphs\" textLength=\"30\" x=\"86\" y=\"509.6479\">ports</text><line style=\"stroke: #383838; stroke-width: 1.0;\" x1=\"116\" x2=\"133\" y1=\"506.3398\" y2=\"506.3398\"/><!--MD5=[b9389687b975829384b498ac4b7476b2]\n",
       "class E8--><rect fill=\"#FFFFFF\" height=\"45.9375\" id=\"E8\" rx=\"10\" ry=\"10\" style=\"stroke: #383838; stroke-width: 1.5;\" width=\"42\" x=\"137\" y=\"594.5\"/><text fill=\"#000000\" font-family=\"sans-serif\" font-size=\"12\" font-style=\"italic\" lengthAdjust=\"spacingAndGlyphs\" textLength=\"40\" x=\"138\" y=\"610.6387\">«part»</text><text fill=\"#000000\" font-family=\"sans-serif\" font-size=\"12\" lengthAdjust=\"spacingAndGlyphs\" textLength=\"24\" x=\"146\" y=\"624.6074\">a: A</text><line style=\"stroke: #383838; stroke-width: 1.5;\" x1=\"138\" x2=\"178\" y1=\"632.4375\" y2=\"632.4375\"/><!--MD5=[96f4274e9e20536e775497830990834d]\n",
       "class E10--><rect fill=\"#FFFFFF\" height=\"75.5469\" id=\"E10\" style=\"stroke: #383838; stroke-width: 1.5;\" width=\"70\" x=\"32\" y=\"41\"/><text fill=\"#000000\" font-family=\"sans-serif\" font-size=\"12\" font-style=\"italic\" lengthAdjust=\"spacingAndGlyphs\" textLength=\"64\" x=\"35\" y=\"57.1387\">«port def»</text><text fill=\"#000000\" font-family=\"sans-serif\" font-size=\"12\" lengthAdjust=\"spacingAndGlyphs\" textLength=\"8\" x=\"63\" y=\"71.1074\">C</text><line style=\"stroke: #383838; stroke-width: 1.5;\" x1=\"33\" x2=\"101\" y1=\"78.9375\" y2=\"78.9375\"/><text fill=\"#000000\" font-family=\"sans-serif\" font-size=\"11\" lengthAdjust=\"spacingAndGlyphs\" textLength=\"21\" x=\"38\" y=\"109.9526\">y: A</text><text fill=\"#000000\" font-family=\"sans-serif\" font-size=\"11\" font-weight=\"bold\" lengthAdjust=\"spacingAndGlyphs\" textLength=\"15\" x=\"63\" y=\"109.9526\">as</text><text fill=\"#000000\" font-family=\"sans-serif\" font-size=\"11\" lengthAdjust=\"spacingAndGlyphs\" textLength=\"12\" x=\"82\" y=\"109.9526\">z2</text><line style=\"stroke: #383838; stroke-width: 1.0;\" x1=\"33\" x2=\"36\" y1=\"93.3398\" y2=\"93.3398\"/><text fill=\"#000000\" font-family=\"sans-serif\" font-size=\"11\" lengthAdjust=\"spacingAndGlyphs\" textLength=\"62\" x=\"36\" y=\"96.6479\">references</text><line style=\"stroke: #383838; stroke-width: 1.0;\" x1=\"98\" x2=\"101\" y1=\"93.3398\" y2=\"93.3398\"/><polygon fill=\"#FFFFFF\" points=\"72,591,88,591,95,613.2969,102,613.2969,102,643.5938,72,643.5938,72,591\" style=\"stroke: #000000; stroke-width: 1.5;\"/><line style=\"stroke: #000000; stroke-width: 1.5;\" x1=\"72\" x2=\"95\" y1=\"613.2969\" y2=\"613.2969\"/><text fill=\"#000000\" font-family=\"sans-serif\" font-size=\"14\" font-weight=\"bold\" lengthAdjust=\"spacingAndGlyphs\" textLength=\"10\" x=\"76\" y=\"605.9951\">P</text><!--MD5=[2720a5a1f2c3fca2055b230370638851]\n",
       "link E2 to E3--><path d=\"M155.49,102.28 C153.37,121.12 150.24,148.97 147.42,173.94 \" fill=\"none\" id=\"E2-&gt;E3\" style=\"stroke: #383838; stroke-width: 1.0;\"/><polygon fill=\"#FFFFFF\" points=\"145.17,193.98,140.3312,174.3182,154.244,175.8785,145.17,193.98\" style=\"stroke: #383838; stroke-width: 1.0;\"/><ellipse cx=\"142.954\" cy=\"168.8766\" fill=\"#383838\" rx=\"2\" ry=\"2\" style=\"stroke: #383838; stroke-width: 1.0;\"/><ellipse cx=\"152.8917\" cy=\"169.9911\" fill=\"#383838\" rx=\"2\" ry=\"2\" style=\"stroke: #383838; stroke-width: 1.0;\"/><!--MD5=[4672eba38e49728da53d11aeb285b987]\n",
       "reverse link E3 to E4--><path d=\"M133.6,283.33 C130.39,305.16 126.79,329.6 124.27,346.77 \" fill=\"none\" id=\"E3&lt;-E4\" style=\"stroke: #383838; stroke-width: 1.0;\"/><polygon fill=\"#383838\" points=\"135.53,270.16,130.6958,275.5108,133.7757,282.0311,138.6099,276.6803,135.53,270.16\" style=\"stroke: #383838; stroke-width: 1.0;\"/><!--MD5=[79568f1e445c3877b6a54524624ccc7d]\n",
       "link E4 to E6--><path d=\"M117.33,393.01 C115.42,404.51 112.97,419.17 110.56,433.62 \" fill=\"none\" id=\"E4-&gt;E6\" style=\"stroke: #383838; stroke-width: 1.0;\"/><polygon fill=\"#FFFFFF\" points=\"107.24,453.57,103.4565,433.6782,117.2663,435.9781,107.24,453.57\" style=\"stroke: #383838; stroke-width: 1.0;\"/><ellipse cx=\"106.3657\" cy=\"428.3842\" fill=\"#383838\" rx=\"2\" ry=\"2\" style=\"stroke: #383838; stroke-width: 1.0;\"/><ellipse cx=\"116.2299\" cy=\"430.027\" fill=\"#383838\" rx=\"2\" ry=\"2\" style=\"stroke: #383838; stroke-width: 1.0;\"/><!--MD5=[3f50a3473f1dfb74d3f76443e03635af]\n",
       "reverse link E6 to E7--><path d=\"M95.07,545.35 C93.28,561.08 91.4,577.65 89.91,590.83 \" fill=\"none\" id=\"E6&lt;-E7\" style=\"stroke: #383838; stroke-width: 1.0;\"/><ellipse cx=\"95.9015\" cy=\"537.9994\" fill=\"#FFFFFF\" rx=\"8\" ry=\"8\" style=\"stroke: #383838; stroke-width: 1.0;\"/><line style=\"stroke: #383838; stroke-width: 1.0;\" x1=\"95.003\" x2=\"96.8\" y1=\"545.9488\" y2=\"530.05\"/><line style=\"stroke: #383838; stroke-width: 1.0;\" x1=\"87.9521\" x2=\"103.8509\" y1=\"537.1009\" y2=\"538.8979\"/><!--MD5=[95fa686b5a16158bcdbcaeead89f639b]\n",
       "link E8 to E3--><path d=\"M158.2,594.25 C158.7,537.72 160,393 160,393 C160,393 160,347 160,347 C160,347 155.24,318.43 150.48,289.89 \" fill=\"none\" id=\"E8-&gt;E3\" style=\"stroke: #383838; stroke-width: 1.0;\"/><polygon fill=\"#FFFFFF\" points=\"147.17,270.01,157.1963,287.6019,143.3865,289.9018,147.17,270.01\" style=\"stroke: #383838; stroke-width: 1.0;\"/><ellipse cx=\"156.1599\" cy=\"293.553\" fill=\"#383838\" rx=\"2\" ry=\"2\" style=\"stroke: #383838; stroke-width: 1.0;\"/><ellipse cx=\"146.2957\" cy=\"295.1958\" fill=\"#383838\" rx=\"2\" ry=\"2\" style=\"stroke: #383838; stroke-width: 1.0;\"/><!--MD5=[f4cf0736d43fd73c4ef68817c49d37d5]\n",
       "reverse link E6 to E8--><path d=\"M123.59,541.94 C131.93,560.02 140.98,579.62 147.7,594.19 \" fill=\"none\" id=\"E6&lt;-E8\" style=\"stroke: #383838; stroke-width: 1.0;\"/><polygon fill=\"#383838\" points=\"118.1,530.05,116.9809,537.1737,123.1262,540.9467,124.2453,533.8229,118.1,530.05\" style=\"stroke: #383838; stroke-width: 1.0;\"/><!--MD5=[8e04057e7b3cbc0dca4fc78ea351e2da]\n",
       "reverse link E10 to E3--><path d=\"M91.15,129.28 C101.44,150.28 113.25,174.38 122.79,193.84 \" fill=\"none\" id=\"E10&lt;-E3\" style=\"stroke: #383838; stroke-width: 1.0;\"/><polygon fill=\"#FFFFFF\" points=\"85.29,117.33,84.3358,124.4777,90.5667,128.1076,91.5209,120.9599,85.29,117.33\" style=\"stroke: #383838; stroke-width: 1.0;\"/><text fill=\"#000000\" font-family=\"sans-serif\" font-size=\"13\" lengthAdjust=\"spacingAndGlyphs\" textLength=\"7\" x=\"107\" y=\"160.0669\">y</text><!--MD5=[604cbf994c02b74b117f728a71673cea]\n",
       "reverse link E10 to E6--><path d=\"M69.57,130.3 C74.09,218.79 83,393 83,393 C83,393 89.1,426.2 94.19,453.95 \" fill=\"none\" id=\"E10&lt;-E6\" style=\"stroke: #383838; stroke-width: 1.0;\"/><polygon fill=\"#FFFFFF\" points=\"68.9,117.13,65.2084,123.3245,69.5065,129.1147,73.1981,122.9202,68.9,117.13\" style=\"stroke: #383838; stroke-width: 1.0;\"/><text fill=\"#000000\" font-family=\"sans-serif\" font-size=\"13\" lengthAdjust=\"spacingAndGlyphs\" textLength=\"7\" x=\"80\" y=\"313.0669\">y</text><!--MD5=[5a1f118f75bc590bf7d8b036c3f61dfd]\n",
       "@startuml\r\n",
       "skinparam linetype polyline\r\n",
       "skinparam monochrome true\r\n",
       "skinparam classbackgroundcolor white\r\n",
       "skinparam shadowing false\r\n",
       "skinparam wrapWidth 300\r\n",
       "hide circle\r\n",
       "\r\n",
       "package \"PartTest\" as E1   {\r\n",
       "comp usage \"f: A\" as E2  <<(T,blue)part>> {\r\n",
       "}\r\n",
       "comp def \"A\" as E3  <<(T,blue)part def>> {\r\n",
       "- -ports- -\r\n",
       "c: C\r\n",
       "}\r\n",
       "comp usage \"b: B\" as E4  <<(T,blue)part>> {\r\n",
       "}\r\n",
       "comp def \"B\" as E6  <<(T,blue)part def>> {\r\n",
       "- -ports- -\r\n",
       "x: ~C\r\n",
       "}\r\n",
       "package \"P\" as E7   {\r\n",
       "}\r\n",
       "comp usage \"a: A\" as E8  <<(T,blue)part>> {\r\n",
       "}\r\n",
       "comp def \"C\" as E10  <<(T,blue)port def>> {\r\n",
       "- -references- -\r\n",
       "y: A <b>as</b> z2 \r\n",
       "}\r\n",
       "E2 - -:|> E3\r\n",
       "E3 *- - E4\r\n",
       "E4 - -:|> E6\r\n",
       "E6 +- - E7\r\n",
       "E8 - -:|> E3\r\n",
       "E6 *- - E8\r\n",
       "E10 o- - E3 : y\r\n",
       "E10 o- - E6 : y\r\n",
       "}\r\n",
       "@enduml\r\n",
       "\n",
       "PlantUML version 1.2020.13(Sat Jun 13 12:26:38 UTC 2020)\n",
       "(EPL source distribution)\n",
       "Java Runtime: OpenJDK Runtime Environment\n",
       "JVM: OpenJDK 64-Bit Server VM\n",
       "Default Encoding: UTF-8\n",
       "Language: en\n",
       "Country: null\n",
       "--></g></svg>"
      ]
     },
     "execution_count": 14,
     "metadata": {},
     "output_type": "execute_result"
    }
   ],
   "source": [
    "%viz --style=\"POLYLINE\" --view=\"Sequence\" \"PartTest\""
   ]
  },
  {
   "cell_type": "code",
   "execution_count": 15,
   "id": "referenced-puzzle",
   "metadata": {
    "execution": {
     "iopub.execute_input": "2021-03-25T16:06:29.881713Z",
     "iopub.status.busy": "2021-03-25T16:06:29.880597Z",
     "iopub.status.idle": "2021-03-25T16:06:30.249749Z",
     "shell.execute_reply": "2021-03-25T16:06:30.247871Z"
    }
   },
   "outputs": [
    {
     "data": {
      "image/svg+xml": [
       "<?xml version=\"1.0\" encoding=\"UTF-8\" standalone=\"no\"?><svg xmlns=\"http://www.w3.org/2000/svg\" xmlns:xlink=\"http://www.w3.org/1999/xlink\" contentScriptType=\"application/ecmascript\" contentStyleType=\"text/css\" height=\"672px\" preserveAspectRatio=\"none\" style=\"width:217px;height:672px;\" version=\"1.1\" viewBox=\"0 0 217 672\" width=\"217px\" zoomAndPan=\"magnify\"><defs/><g><!--MD5=[fbc87193dbaf4d95561dea2c320d4a47]\n",
       "cluster E1--><polygon fill=\"#FFFFFF\" points=\"16,6,89,6,96,28.2969,195,28.2969,195,660,16,660,16,6\" style=\"stroke: #000000; stroke-width: 1.5;\"/><line style=\"stroke: #000000; stroke-width: 1.5;\" x1=\"16\" x2=\"96\" y1=\"28.2969\" y2=\"28.2969\"/><text fill=\"#000000\" font-family=\"sans-serif\" font-size=\"14\" font-weight=\"bold\" lengthAdjust=\"spacingAndGlyphs\" textLength=\"67\" x=\"20\" y=\"20.9951\">PartTest</text><!--MD5=[b4997ac47864f28c2f74865a473b2911]\n",
       "class E2--><rect fill=\"#FFFFFF\" height=\"45.9375\" id=\"E2\" rx=\"10\" ry=\"10\" style=\"stroke: #383838; stroke-width: 1.5;\" width=\"42\" x=\"137\" y=\"56\"/><text fill=\"#000000\" font-family=\"sans-serif\" font-size=\"12\" font-style=\"italic\" lengthAdjust=\"spacingAndGlyphs\" textLength=\"40\" x=\"138\" y=\"72.1387\">«part»</text><text fill=\"#000000\" font-family=\"sans-serif\" font-size=\"12\" lengthAdjust=\"spacingAndGlyphs\" textLength=\"20\" x=\"148\" y=\"86.1074\">f: A</text><line style=\"stroke: #383838; stroke-width: 1.5;\" x1=\"138\" x2=\"178\" y1=\"93.9375\" y2=\"93.9375\"/><!--MD5=[09b614a08d8cba4a07c9adeb5e0fee81]\n",
       "class E3--><rect fill=\"#FFFFFF\" height=\"75.5469\" id=\"E3\" style=\"stroke: #383838; stroke-width: 1.5;\" width=\"66\" x=\"108\" y=\"194\"/><text fill=\"#000000\" font-family=\"sans-serif\" font-size=\"12\" font-style=\"italic\" lengthAdjust=\"spacingAndGlyphs\" textLength=\"64\" x=\"109\" y=\"210.1387\">«part def»</text><text fill=\"#000000\" font-family=\"sans-serif\" font-size=\"12\" lengthAdjust=\"spacingAndGlyphs\" textLength=\"8\" x=\"137\" y=\"224.1074\">A</text><line style=\"stroke: #383838; stroke-width: 1.5;\" x1=\"109\" x2=\"173\" y1=\"231.9375\" y2=\"231.9375\"/><text fill=\"#000000\" font-family=\"sans-serif\" font-size=\"11\" lengthAdjust=\"spacingAndGlyphs\" textLength=\"22\" x=\"114\" y=\"262.9526\">c: C</text><line style=\"stroke: #383838; stroke-width: 1.0;\" x1=\"109\" x2=\"126\" y1=\"246.3398\" y2=\"246.3398\"/><text fill=\"#000000\" font-family=\"sans-serif\" font-size=\"11\" lengthAdjust=\"spacingAndGlyphs\" textLength=\"30\" x=\"126\" y=\"249.6479\">ports</text><line style=\"stroke: #383838; stroke-width: 1.0;\" x1=\"156\" x2=\"173\" y1=\"246.3398\" y2=\"246.3398\"/><!--MD5=[ebbe1d658d1005bcc118a6aa81145e00]\n",
       "class E4--><rect fill=\"#FFFFFF\" height=\"45.9375\" id=\"E4\" rx=\"10\" ry=\"10\" style=\"stroke: #383838; stroke-width: 1.5;\" width=\"42\" x=\"100\" y=\"347\"/><text fill=\"#000000\" font-family=\"sans-serif\" font-size=\"12\" font-style=\"italic\" lengthAdjust=\"spacingAndGlyphs\" textLength=\"40\" x=\"101\" y=\"363.1387\">«part»</text><text fill=\"#000000\" font-family=\"sans-serif\" font-size=\"12\" lengthAdjust=\"spacingAndGlyphs\" textLength=\"24\" x=\"109\" y=\"377.1074\">b: B</text><line style=\"stroke: #383838; stroke-width: 1.5;\" x1=\"101\" x2=\"141\" y1=\"384.9375\" y2=\"384.9375\"/><!--MD5=[60a26617385b1d2d0262a64233df1f8d]\n",
       "class E6--><rect fill=\"#FFFFFF\" height=\"75.5469\" id=\"E6\" style=\"stroke: #383838; stroke-width: 1.5;\" width=\"66\" x=\"68\" y=\"454\"/><text fill=\"#000000\" font-family=\"sans-serif\" font-size=\"12\" font-style=\"italic\" lengthAdjust=\"spacingAndGlyphs\" textLength=\"64\" x=\"69\" y=\"470.1387\">«part def»</text><text fill=\"#000000\" font-family=\"sans-serif\" font-size=\"12\" lengthAdjust=\"spacingAndGlyphs\" textLength=\"8\" x=\"97\" y=\"484.1074\">B</text><line style=\"stroke: #383838; stroke-width: 1.5;\" x1=\"69\" x2=\"133\" y1=\"491.9375\" y2=\"491.9375\"/><text fill=\"#000000\" font-family=\"sans-serif\" font-size=\"11\" lengthAdjust=\"spacingAndGlyphs\" textLength=\"31\" x=\"74\" y=\"522.9526\">x: ~C</text><line style=\"stroke: #383838; stroke-width: 1.0;\" x1=\"69\" x2=\"86\" y1=\"506.3398\" y2=\"506.3398\"/><text fill=\"#000000\" font-family=\"sans-serif\" font-size=\"11\" lengthAdjust=\"spacingAndGlyphs\" textLength=\"30\" x=\"86\" y=\"509.6479\">ports</text><line style=\"stroke: #383838; stroke-width: 1.0;\" x1=\"116\" x2=\"133\" y1=\"506.3398\" y2=\"506.3398\"/><!--MD5=[b9389687b975829384b498ac4b7476b2]\n",
       "class E8--><rect fill=\"#FFFFFF\" height=\"45.9375\" id=\"E8\" rx=\"10\" ry=\"10\" style=\"stroke: #383838; stroke-width: 1.5;\" width=\"42\" x=\"137\" y=\"594.5\"/><text fill=\"#000000\" font-family=\"sans-serif\" font-size=\"12\" font-style=\"italic\" lengthAdjust=\"spacingAndGlyphs\" textLength=\"40\" x=\"138\" y=\"610.6387\">«part»</text><text fill=\"#000000\" font-family=\"sans-serif\" font-size=\"12\" lengthAdjust=\"spacingAndGlyphs\" textLength=\"24\" x=\"146\" y=\"624.6074\">a: A</text><line style=\"stroke: #383838; stroke-width: 1.5;\" x1=\"138\" x2=\"178\" y1=\"632.4375\" y2=\"632.4375\"/><!--MD5=[96f4274e9e20536e775497830990834d]\n",
       "class E10--><rect fill=\"#FFFFFF\" height=\"75.5469\" id=\"E10\" style=\"stroke: #383838; stroke-width: 1.5;\" width=\"70\" x=\"32\" y=\"41\"/><text fill=\"#000000\" font-family=\"sans-serif\" font-size=\"12\" font-style=\"italic\" lengthAdjust=\"spacingAndGlyphs\" textLength=\"64\" x=\"35\" y=\"57.1387\">«port def»</text><text fill=\"#000000\" font-family=\"sans-serif\" font-size=\"12\" lengthAdjust=\"spacingAndGlyphs\" textLength=\"8\" x=\"63\" y=\"71.1074\">C</text><line style=\"stroke: #383838; stroke-width: 1.5;\" x1=\"33\" x2=\"101\" y1=\"78.9375\" y2=\"78.9375\"/><text fill=\"#000000\" font-family=\"sans-serif\" font-size=\"11\" lengthAdjust=\"spacingAndGlyphs\" textLength=\"21\" x=\"38\" y=\"109.9526\">y: A</text><text fill=\"#000000\" font-family=\"sans-serif\" font-size=\"11\" font-weight=\"bold\" lengthAdjust=\"spacingAndGlyphs\" textLength=\"15\" x=\"63\" y=\"109.9526\">as</text><text fill=\"#000000\" font-family=\"sans-serif\" font-size=\"11\" lengthAdjust=\"spacingAndGlyphs\" textLength=\"12\" x=\"82\" y=\"109.9526\">z2</text><line style=\"stroke: #383838; stroke-width: 1.0;\" x1=\"33\" x2=\"36\" y1=\"93.3398\" y2=\"93.3398\"/><text fill=\"#000000\" font-family=\"sans-serif\" font-size=\"11\" lengthAdjust=\"spacingAndGlyphs\" textLength=\"62\" x=\"36\" y=\"96.6479\">references</text><line style=\"stroke: #383838; stroke-width: 1.0;\" x1=\"98\" x2=\"101\" y1=\"93.3398\" y2=\"93.3398\"/><polygon fill=\"#FFFFFF\" points=\"72,591,88,591,95,613.2969,102,613.2969,102,643.5938,72,643.5938,72,591\" style=\"stroke: #000000; stroke-width: 1.5;\"/><line style=\"stroke: #000000; stroke-width: 1.5;\" x1=\"72\" x2=\"95\" y1=\"613.2969\" y2=\"613.2969\"/><text fill=\"#000000\" font-family=\"sans-serif\" font-size=\"14\" font-weight=\"bold\" lengthAdjust=\"spacingAndGlyphs\" textLength=\"10\" x=\"76\" y=\"605.9951\">P</text><!--MD5=[2720a5a1f2c3fca2055b230370638851]\n",
       "link E2 to E3--><path d=\"M155.49,102.28 C153.37,121.12 150.24,148.97 147.42,173.94 \" fill=\"none\" id=\"E2-&gt;E3\" style=\"stroke: #383838; stroke-width: 1.0;\"/><polygon fill=\"#FFFFFF\" points=\"145.17,193.98,140.3312,174.3182,154.244,175.8785,145.17,193.98\" style=\"stroke: #383838; stroke-width: 1.0;\"/><ellipse cx=\"142.954\" cy=\"168.8766\" fill=\"#383838\" rx=\"2\" ry=\"2\" style=\"stroke: #383838; stroke-width: 1.0;\"/><ellipse cx=\"152.8917\" cy=\"169.9911\" fill=\"#383838\" rx=\"2\" ry=\"2\" style=\"stroke: #383838; stroke-width: 1.0;\"/><!--MD5=[4672eba38e49728da53d11aeb285b987]\n",
       "reverse link E3 to E4--><path d=\"M133.6,283.33 C130.39,305.16 126.79,329.6 124.27,346.77 \" fill=\"none\" id=\"E3&lt;-E4\" style=\"stroke: #383838; stroke-width: 1.0;\"/><polygon fill=\"#383838\" points=\"135.53,270.16,130.6958,275.5108,133.7757,282.0311,138.6099,276.6803,135.53,270.16\" style=\"stroke: #383838; stroke-width: 1.0;\"/><!--MD5=[79568f1e445c3877b6a54524624ccc7d]\n",
       "link E4 to E6--><path d=\"M117.33,393.01 C115.42,404.51 112.97,419.17 110.56,433.62 \" fill=\"none\" id=\"E4-&gt;E6\" style=\"stroke: #383838; stroke-width: 1.0;\"/><polygon fill=\"#FFFFFF\" points=\"107.24,453.57,103.4565,433.6782,117.2663,435.9781,107.24,453.57\" style=\"stroke: #383838; stroke-width: 1.0;\"/><ellipse cx=\"106.3657\" cy=\"428.3842\" fill=\"#383838\" rx=\"2\" ry=\"2\" style=\"stroke: #383838; stroke-width: 1.0;\"/><ellipse cx=\"116.2299\" cy=\"430.027\" fill=\"#383838\" rx=\"2\" ry=\"2\" style=\"stroke: #383838; stroke-width: 1.0;\"/><!--MD5=[3f50a3473f1dfb74d3f76443e03635af]\n",
       "reverse link E6 to E7--><path d=\"M95.07,545.35 C93.28,561.08 91.4,577.65 89.91,590.83 \" fill=\"none\" id=\"E6&lt;-E7\" style=\"stroke: #383838; stroke-width: 1.0;\"/><ellipse cx=\"95.9015\" cy=\"537.9994\" fill=\"#FFFFFF\" rx=\"8\" ry=\"8\" style=\"stroke: #383838; stroke-width: 1.0;\"/><line style=\"stroke: #383838; stroke-width: 1.0;\" x1=\"95.003\" x2=\"96.8\" y1=\"545.9488\" y2=\"530.05\"/><line style=\"stroke: #383838; stroke-width: 1.0;\" x1=\"87.9521\" x2=\"103.8509\" y1=\"537.1009\" y2=\"538.8979\"/><!--MD5=[95fa686b5a16158bcdbcaeead89f639b]\n",
       "link E8 to E3--><path d=\"M158.2,594.25 C158.7,537.72 160,393 160,393 C160,393 160,347 160,347 C160,347 155.24,318.43 150.48,289.89 \" fill=\"none\" id=\"E8-&gt;E3\" style=\"stroke: #383838; stroke-width: 1.0;\"/><polygon fill=\"#FFFFFF\" points=\"147.17,270.01,157.1963,287.6019,143.3865,289.9018,147.17,270.01\" style=\"stroke: #383838; stroke-width: 1.0;\"/><ellipse cx=\"156.1599\" cy=\"293.553\" fill=\"#383838\" rx=\"2\" ry=\"2\" style=\"stroke: #383838; stroke-width: 1.0;\"/><ellipse cx=\"146.2957\" cy=\"295.1958\" fill=\"#383838\" rx=\"2\" ry=\"2\" style=\"stroke: #383838; stroke-width: 1.0;\"/><!--MD5=[f4cf0736d43fd73c4ef68817c49d37d5]\n",
       "reverse link E6 to E8--><path d=\"M123.59,541.94 C131.93,560.02 140.98,579.62 147.7,594.19 \" fill=\"none\" id=\"E6&lt;-E8\" style=\"stroke: #383838; stroke-width: 1.0;\"/><polygon fill=\"#383838\" points=\"118.1,530.05,116.9809,537.1737,123.1262,540.9467,124.2453,533.8229,118.1,530.05\" style=\"stroke: #383838; stroke-width: 1.0;\"/><!--MD5=[8e04057e7b3cbc0dca4fc78ea351e2da]\n",
       "reverse link E10 to E3--><path d=\"M91.15,129.28 C101.44,150.28 113.25,174.38 122.79,193.84 \" fill=\"none\" id=\"E10&lt;-E3\" style=\"stroke: #383838; stroke-width: 1.0;\"/><polygon fill=\"#FFFFFF\" points=\"85.29,117.33,84.3358,124.4777,90.5667,128.1076,91.5209,120.9599,85.29,117.33\" style=\"stroke: #383838; stroke-width: 1.0;\"/><text fill=\"#000000\" font-family=\"sans-serif\" font-size=\"13\" lengthAdjust=\"spacingAndGlyphs\" textLength=\"7\" x=\"107\" y=\"160.0669\">y</text><!--MD5=[604cbf994c02b74b117f728a71673cea]\n",
       "reverse link E10 to E6--><path d=\"M69.57,130.3 C74.09,218.79 83,393 83,393 C83,393 89.1,426.2 94.19,453.95 \" fill=\"none\" id=\"E10&lt;-E6\" style=\"stroke: #383838; stroke-width: 1.0;\"/><polygon fill=\"#FFFFFF\" points=\"68.9,117.13,65.2084,123.3245,69.5065,129.1147,73.1981,122.9202,68.9,117.13\" style=\"stroke: #383838; stroke-width: 1.0;\"/><text fill=\"#000000\" font-family=\"sans-serif\" font-size=\"13\" lengthAdjust=\"spacingAndGlyphs\" textLength=\"7\" x=\"80\" y=\"313.0669\">y</text><!--MD5=[5a1f118f75bc590bf7d8b036c3f61dfd]\n",
       "@startuml\r\n",
       "skinparam linetype polyline\r\n",
       "skinparam monochrome true\r\n",
       "skinparam classbackgroundcolor white\r\n",
       "skinparam shadowing false\r\n",
       "skinparam wrapWidth 300\r\n",
       "hide circle\r\n",
       "\r\n",
       "package \"PartTest\" as E1   {\r\n",
       "comp usage \"f: A\" as E2  <<(T,blue)part>> {\r\n",
       "}\r\n",
       "comp def \"A\" as E3  <<(T,blue)part def>> {\r\n",
       "- -ports- -\r\n",
       "c: C\r\n",
       "}\r\n",
       "comp usage \"b: B\" as E4  <<(T,blue)part>> {\r\n",
       "}\r\n",
       "comp def \"B\" as E6  <<(T,blue)part def>> {\r\n",
       "- -ports- -\r\n",
       "x: ~C\r\n",
       "}\r\n",
       "package \"P\" as E7   {\r\n",
       "}\r\n",
       "comp usage \"a: A\" as E8  <<(T,blue)part>> {\r\n",
       "}\r\n",
       "comp def \"C\" as E10  <<(T,blue)port def>> {\r\n",
       "- -references- -\r\n",
       "y: A <b>as</b> z2 \r\n",
       "}\r\n",
       "E2 - -:|> E3\r\n",
       "E3 *- - E4\r\n",
       "E4 - -:|> E6\r\n",
       "E6 +- - E7\r\n",
       "E8 - -:|> E3\r\n",
       "E6 *- - E8\r\n",
       "E10 o- - E3 : y\r\n",
       "E10 o- - E6 : y\r\n",
       "}\r\n",
       "@enduml\r\n",
       "\n",
       "PlantUML version 1.2020.13(Sat Jun 13 12:26:38 UTC 2020)\n",
       "(EPL source distribution)\n",
       "Java Runtime: OpenJDK Runtime Environment\n",
       "JVM: OpenJDK 64-Bit Server VM\n",
       "Default Encoding: UTF-8\n",
       "Language: en\n",
       "Country: null\n",
       "--></g></svg>"
      ]
     },
     "execution_count": 15,
     "metadata": {},
     "output_type": "execute_result"
    }
   ],
   "source": [
    "%viz --style=\"POLYLINE\" --view=\"MIXED\" \"PartTest\""
   ]
  },
  {
   "cell_type": "code",
   "execution_count": 16,
   "id": "royal-qualification",
   "metadata": {
    "execution": {
     "iopub.execute_input": "2021-03-25T16:06:30.304789Z",
     "iopub.status.busy": "2021-03-25T16:06:30.303924Z",
     "iopub.status.idle": "2021-03-25T16:06:30.666421Z",
     "shell.execute_reply": "2021-03-25T16:06:30.664104Z"
    }
   },
   "outputs": [
    {
     "data": {
      "image/svg+xml": [
       "<?xml version=\"1.0\" encoding=\"UTF-8\" standalone=\"no\"?><svg xmlns=\"http://www.w3.org/2000/svg\" xmlns:xlink=\"http://www.w3.org/1999/xlink\" contentScriptType=\"application/ecmascript\" contentStyleType=\"text/css\" height=\"226px\" preserveAspectRatio=\"none\" style=\"width:616px;height:226px;\" version=\"1.1\" viewBox=\"0 0 616 226\" width=\"616px\" zoomAndPan=\"magnify\"><defs/><g><!--MD5=[fbc87193dbaf4d95561dea2c320d4a47]\n",
       "cluster E1--><polygon fill=\"#FFFFFF\" points=\"16,6,89,6,96,28.2969,594,28.2969,594,214,16,214,16,6\" style=\"stroke: #000000; stroke-width: 1.5;\"/><line style=\"stroke: #000000; stroke-width: 1.5;\" x1=\"16\" x2=\"96\" y1=\"28.2969\" y2=\"28.2969\"/><text fill=\"#000000\" font-family=\"sans-serif\" font-size=\"14\" font-weight=\"bold\" lengthAdjust=\"spacingAndGlyphs\" textLength=\"67\" x=\"20\" y=\"20.9951\">PartTest</text><!--MD5=[b4997ac47864f28c2f74865a473b2911]\n",
       "class E2--><rect fill=\"#FFFFFF\" height=\"45.9375\" id=\"E2\" rx=\"10\" ry=\"10\" style=\"stroke: #383838; stroke-width: 1.5;\" width=\"42\" x=\"46\" y=\"41\"/><text fill=\"#000000\" font-family=\"sans-serif\" font-size=\"12\" font-style=\"italic\" lengthAdjust=\"spacingAndGlyphs\" textLength=\"40\" x=\"47\" y=\"57.1387\">«part»</text><text fill=\"#000000\" font-family=\"sans-serif\" font-size=\"12\" lengthAdjust=\"spacingAndGlyphs\" textLength=\"20\" x=\"57\" y=\"71.1074\">f: A</text><line style=\"stroke: #383838; stroke-width: 1.5;\" x1=\"47\" x2=\"87\" y1=\"78.9375\" y2=\"78.9375\"/><!--MD5=[09b614a08d8cba4a07c9adeb5e0fee81]\n",
       "class E3--><rect fill=\"#FFFFFF\" height=\"75.5469\" id=\"E3\" style=\"stroke: #383838; stroke-width: 1.5;\" width=\"66\" x=\"171\" y=\"45\"/><text fill=\"#000000\" font-family=\"sans-serif\" font-size=\"12\" font-style=\"italic\" lengthAdjust=\"spacingAndGlyphs\" textLength=\"64\" x=\"172\" y=\"61.1387\">«part def»</text><text fill=\"#000000\" font-family=\"sans-serif\" font-size=\"12\" lengthAdjust=\"spacingAndGlyphs\" textLength=\"8\" x=\"200\" y=\"75.1074\">A</text><line style=\"stroke: #383838; stroke-width: 1.5;\" x1=\"172\" x2=\"236\" y1=\"82.9375\" y2=\"82.9375\"/><text fill=\"#000000\" font-family=\"sans-serif\" font-size=\"11\" lengthAdjust=\"spacingAndGlyphs\" textLength=\"22\" x=\"177\" y=\"113.9526\">c: C</text><line style=\"stroke: #383838; stroke-width: 1.0;\" x1=\"172\" x2=\"189\" y1=\"97.3398\" y2=\"97.3398\"/><text fill=\"#000000\" font-family=\"sans-serif\" font-size=\"11\" lengthAdjust=\"spacingAndGlyphs\" textLength=\"30\" x=\"189\" y=\"100.6479\">ports</text><line style=\"stroke: #383838; stroke-width: 1.0;\" x1=\"219\" x2=\"236\" y1=\"97.3398\" y2=\"97.3398\"/><!--MD5=[ebbe1d658d1005bcc118a6aa81145e00]\n",
       "class E4--><rect fill=\"#FFFFFF\" height=\"45.9375\" id=\"E4\" rx=\"10\" ry=\"10\" style=\"stroke: #383838; stroke-width: 1.5;\" width=\"42\" x=\"306\" y=\"80\"/><text fill=\"#000000\" font-family=\"sans-serif\" font-size=\"12\" font-style=\"italic\" lengthAdjust=\"spacingAndGlyphs\" textLength=\"40\" x=\"307\" y=\"96.1387\">«part»</text><text fill=\"#000000\" font-family=\"sans-serif\" font-size=\"12\" lengthAdjust=\"spacingAndGlyphs\" textLength=\"24\" x=\"315\" y=\"110.1074\">b: B</text><line style=\"stroke: #383838; stroke-width: 1.5;\" x1=\"307\" x2=\"347\" y1=\"117.9375\" y2=\"117.9375\"/><!--MD5=[60a26617385b1d2d0262a64233df1f8d]\n",
       "class E6--><rect fill=\"#FFFFFF\" height=\"75.5469\" id=\"E6\" style=\"stroke: #383838; stroke-width: 1.5;\" width=\"66\" x=\"409\" y=\"92\"/><text fill=\"#000000\" font-family=\"sans-serif\" font-size=\"12\" font-style=\"italic\" lengthAdjust=\"spacingAndGlyphs\" textLength=\"64\" x=\"410\" y=\"108.1387\">«part def»</text><text fill=\"#000000\" font-family=\"sans-serif\" font-size=\"12\" lengthAdjust=\"spacingAndGlyphs\" textLength=\"8\" x=\"438\" y=\"122.1074\">B</text><line style=\"stroke: #383838; stroke-width: 1.5;\" x1=\"410\" x2=\"474\" y1=\"129.9375\" y2=\"129.9375\"/><text fill=\"#000000\" font-family=\"sans-serif\" font-size=\"11\" lengthAdjust=\"spacingAndGlyphs\" textLength=\"31\" x=\"415\" y=\"160.9526\">x: ~C</text><line style=\"stroke: #383838; stroke-width: 1.0;\" x1=\"410\" x2=\"427\" y1=\"144.3398\" y2=\"144.3398\"/><text fill=\"#000000\" font-family=\"sans-serif\" font-size=\"11\" lengthAdjust=\"spacingAndGlyphs\" textLength=\"30\" x=\"427\" y=\"147.6479\">ports</text><line style=\"stroke: #383838; stroke-width: 1.0;\" x1=\"457\" x2=\"474\" y1=\"144.3398\" y2=\"144.3398\"/><!--MD5=[b9389687b975829384b498ac4b7476b2]\n",
       "class E8--><rect fill=\"#FFFFFF\" height=\"45.9375\" id=\"E8\" rx=\"10\" ry=\"10\" style=\"stroke: #383838; stroke-width: 1.5;\" width=\"42\" x=\"536\" y=\"41\"/><text fill=\"#000000\" font-family=\"sans-serif\" font-size=\"12\" font-style=\"italic\" lengthAdjust=\"spacingAndGlyphs\" textLength=\"40\" x=\"537\" y=\"57.1387\">«part»</text><text fill=\"#000000\" font-family=\"sans-serif\" font-size=\"12\" lengthAdjust=\"spacingAndGlyphs\" textLength=\"24\" x=\"545\" y=\"71.1074\">a: A</text><line style=\"stroke: #383838; stroke-width: 1.5;\" x1=\"537\" x2=\"577\" y1=\"78.9375\" y2=\"78.9375\"/><!--MD5=[96f4274e9e20536e775497830990834d]\n",
       "class E10--><rect fill=\"#FFFFFF\" height=\"75.5469\" id=\"E10\" style=\"stroke: #383838; stroke-width: 1.5;\" width=\"70\" x=\"32\" y=\"122\"/><text fill=\"#000000\" font-family=\"sans-serif\" font-size=\"12\" font-style=\"italic\" lengthAdjust=\"spacingAndGlyphs\" textLength=\"64\" x=\"35\" y=\"138.1387\">«port def»</text><text fill=\"#000000\" font-family=\"sans-serif\" font-size=\"12\" lengthAdjust=\"spacingAndGlyphs\" textLength=\"8\" x=\"63\" y=\"152.1074\">C</text><line style=\"stroke: #383838; stroke-width: 1.5;\" x1=\"33\" x2=\"101\" y1=\"159.9375\" y2=\"159.9375\"/><text fill=\"#000000\" font-family=\"sans-serif\" font-size=\"11\" lengthAdjust=\"spacingAndGlyphs\" textLength=\"21\" x=\"38\" y=\"190.9526\">y: A</text><text fill=\"#000000\" font-family=\"sans-serif\" font-size=\"11\" font-weight=\"bold\" lengthAdjust=\"spacingAndGlyphs\" textLength=\"15\" x=\"63\" y=\"190.9526\">as</text><text fill=\"#000000\" font-family=\"sans-serif\" font-size=\"11\" lengthAdjust=\"spacingAndGlyphs\" textLength=\"12\" x=\"82\" y=\"190.9526\">z2</text><line style=\"stroke: #383838; stroke-width: 1.0;\" x1=\"33\" x2=\"36\" y1=\"174.3398\" y2=\"174.3398\"/><text fill=\"#000000\" font-family=\"sans-serif\" font-size=\"11\" lengthAdjust=\"spacingAndGlyphs\" textLength=\"62\" x=\"36\" y=\"177.6479\">references</text><line style=\"stroke: #383838; stroke-width: 1.0;\" x1=\"98\" x2=\"101\" y1=\"174.3398\" y2=\"174.3398\"/><polygon fill=\"#FFFFFF\" points=\"542,122.5,558,122.5,565,144.7969,572,144.7969,572,175.0938,542,175.0938,542,122.5\" style=\"stroke: #000000; stroke-width: 1.5;\"/><line style=\"stroke: #000000; stroke-width: 1.5;\" x1=\"542\" x2=\"565\" y1=\"144.7969\" y2=\"144.7969\"/><text fill=\"#000000\" font-family=\"sans-serif\" font-size=\"14\" font-weight=\"bold\" lengthAdjust=\"spacingAndGlyphs\" textLength=\"10\" x=\"546\" y=\"137.4951\">P</text><!--MD5=[2720a5a1f2c3fca2055b230370638851]\n",
       "link E2 to E3--><path d=\"M88.21,66.84 C104.77,69.17 128.95,72.58 150.85,75.66 \" fill=\"none\" id=\"E2-&gt;E3\" style=\"stroke: #383838; stroke-width: 1.0;\"/><polygon fill=\"#FFFFFF\" points=\"170.83,78.47,151.0405,82.7566,152.9896,68.893,170.83,78.47\" style=\"stroke: #383838; stroke-width: 1.0;\"/><ellipse cx=\"145.6744\" cy=\"79.9825\" fill=\"#383838\" rx=\"2\" ry=\"2\" style=\"stroke: #383838; stroke-width: 1.0;\"/><ellipse cx=\"147.0667\" cy=\"70.0799\" fill=\"#383838\" rx=\"2\" ry=\"2\" style=\"stroke: #383838; stroke-width: 1.0;\"/><!--MD5=[4672eba38e49728da53d11aeb285b987]\n",
       "reverse link E3 to E4--><path d=\"M249.96,90.43 C269.2,93.61 290.69,97.16 305.9,99.68 \" fill=\"none\" id=\"E3&lt;-E4\" style=\"stroke: #383838; stroke-width: 1.0;\"/><polygon fill=\"#383838\" points=\"237.11,88.31,242.3743,93.2382,248.9481,90.2742,243.6838,85.3461,237.11,88.31\" style=\"stroke: #383838; stroke-width: 1.0;\"/><!--MD5=[79568f1e445c3877b6a54524624ccc7d]\n",
       "link E4 to E6--><path d=\"M348.2,107.83 C359.59,110.55 374.4,114.09 388.82,117.53 \" fill=\"none\" id=\"E4-&gt;E6\" style=\"stroke: #383838; stroke-width: 1.0;\"/><polygon fill=\"#FFFFFF\" points=\"408.57,122.25,388.4621,124.6316,391.7233,111.0167,408.57,122.25\" style=\"stroke: #383838; stroke-width: 1.0;\"/><ellipse cx=\"383.3848\" cy=\"121.3588\" fill=\"#383838\" rx=\"2\" ry=\"2\" style=\"stroke: #383838; stroke-width: 1.0;\"/><ellipse cx=\"385.7142\" cy=\"111.6339\" fill=\"#383838\" rx=\"2\" ry=\"2\" style=\"stroke: #383838; stroke-width: 1.0;\"/><!--MD5=[3f50a3473f1dfb74d3f76443e03635af]\n",
       "reverse link E6 to E7--><path d=\"M489.97,137.9 C508.72,141.05 528.91,144.44 541.96,146.64 \" fill=\"none\" id=\"E6&lt;-E7\" style=\"stroke: #383838; stroke-width: 1.0;\"/><ellipse cx=\"482.9695\" cy=\"136.7151\" fill=\"#FFFFFF\" rx=\"8\" ry=\"8\" style=\"stroke: #383838; stroke-width: 1.0;\"/><line style=\"stroke: #383838; stroke-width: 1.0;\" x1=\"490.859\" x2=\"475.08\" y1=\"138.0401\" y2=\"135.39\"/><line style=\"stroke: #383838; stroke-width: 1.0;\" x1=\"481.6444\" x2=\"484.2946\" y1=\"144.6046\" y2=\"128.8256\"/><!--MD5=[95fa686b5a16158bcdbcaeead89f639b]\n",
       "link E8 to E3--><path d=\"M535.84,62.34 C493.25,59.15 391.06,53.25 306,62 C289.77,63.67 272.31,66.81 256.54,70.16 \" fill=\"none\" id=\"E8-&gt;E3\" style=\"stroke: #383838; stroke-width: 1.0;\"/><polygon fill=\"#FFFFFF\" points=\"237.03,74.59,254.0156,63.5678,257.1066,77.2223,237.03,74.59\" style=\"stroke: #383838; stroke-width: 1.0;\"/><ellipse cx=\"260.0165\" cy=\"64.2599\" fill=\"#383838\" rx=\"2\" ry=\"2\" style=\"stroke: #383838; stroke-width: 1.0;\"/><ellipse cx=\"262.2244\" cy=\"74.0132\" fill=\"#383838\" rx=\"2\" ry=\"2\" style=\"stroke: #383838; stroke-width: 1.0;\"/><!--MD5=[f4cf0736d43fd73c4ef68817c49d37d5]\n",
       "reverse link E6 to E8--><path d=\"M486.52,104.58 C503.54,94.64 522.23,83.72 535.94,75.72 \" fill=\"none\" id=\"E6&lt;-E8\" style=\"stroke: #383838; stroke-width: 1.0;\"/><polygon fill=\"#383838\" points=\"475.08,111.26,482.2784,111.6885,485.4425,105.2086,478.2441,104.7802,475.08,111.26\" style=\"stroke: #383838; stroke-width: 1.0;\"/><!--MD5=[8e04057e7b3cbc0dca4fc78ea351e2da]\n",
       "reverse link E10 to E3--><path d=\"M113.4,134.11 C132.23,123.37 153.63,111.16 170.8,101.36 \" fill=\"none\" id=\"E10&lt;-E3\" style=\"stroke: #383838; stroke-width: 1.0;\"/><polygon fill=\"#FFFFFF\" points=\"102.07,140.57,109.2638,141.0691,112.4914,134.6206,105.2975,134.1215,102.07,140.57\" style=\"stroke: #383838; stroke-width: 1.0;\"/><text fill=\"#000000\" font-family=\"sans-serif\" font-size=\"13\" lengthAdjust=\"spacingAndGlyphs\" textLength=\"7\" x=\"133\" y=\"116.0669\">y</text><!--MD5=[604cbf994c02b74b117f728a71673cea]\n",
       "reverse link E10 to E6--><path d=\"M115.41,158.25 C171.17,155.94 266.47,151.16 348,143 C368.28,140.97 390.93,137.82 408.79,135.13 \" fill=\"none\" id=\"E10&lt;-E6\" style=\"stroke: #383838; stroke-width: 1.0;\"/><polygon fill=\"#FFFFFF\" points=\"102.12,158.79,108.2736,162.5494,114.1106,158.3151,107.957,154.5557,102.12,158.79\" style=\"stroke: #383838; stroke-width: 1.0;\"/><text fill=\"#000000\" font-family=\"sans-serif\" font-size=\"13\" lengthAdjust=\"spacingAndGlyphs\" textLength=\"7\" x=\"268\" y=\"146.0669\">y</text><!--MD5=[773429595acc43a97b29372a9288fdd0]\n",
       "@startuml\r\n",
       "left to right direction\r\n",
       "skinparam monochrome true\r\n",
       "skinparam classbackgroundcolor white\r\n",
       "skinparam shadowing false\r\n",
       "skinparam wrapWidth 300\r\n",
       "hide circle\r\n",
       "\r\n",
       "package \"PartTest\" as E1   {\r\n",
       "comp usage \"f: A\" as E2  <<(T,blue)part>> {\r\n",
       "}\r\n",
       "comp def \"A\" as E3  <<(T,blue)part def>> {\r\n",
       "- -ports- -\r\n",
       "c: C\r\n",
       "}\r\n",
       "comp usage \"b: B\" as E4  <<(T,blue)part>> {\r\n",
       "}\r\n",
       "comp def \"B\" as E6  <<(T,blue)part def>> {\r\n",
       "- -ports- -\r\n",
       "x: ~C\r\n",
       "}\r\n",
       "package \"P\" as E7   {\r\n",
       "}\r\n",
       "comp usage \"a: A\" as E8  <<(T,blue)part>> {\r\n",
       "}\r\n",
       "comp def \"C\" as E10  <<(T,blue)port def>> {\r\n",
       "- -references- -\r\n",
       "y: A <b>as</b> z2 \r\n",
       "}\r\n",
       "E2 - -:|> E3\r\n",
       "E3 *- - E4\r\n",
       "E4 - -:|> E6\r\n",
       "E6 +- - E7\r\n",
       "E8 - -:|> E3\r\n",
       "E6 *- - E8\r\n",
       "E10 o- - E3 : y\r\n",
       "E10 o- - E6 : y\r\n",
       "}\r\n",
       "@enduml\r\n",
       "\n",
       "PlantUML version 1.2020.13(Sat Jun 13 12:26:38 UTC 2020)\n",
       "(EPL source distribution)\n",
       "Java Runtime: OpenJDK Runtime Environment\n",
       "JVM: OpenJDK 64-Bit Server VM\n",
       "Default Encoding: UTF-8\n",
       "Language: en\n",
       "Country: null\n",
       "--></g></svg>"
      ]
     },
     "execution_count": 16,
     "metadata": {},
     "output_type": "execute_result"
    }
   ],
   "source": [
    "%viz --style=\"LR\" --view=\"Default\" \"PartTest\""
   ]
  },
  {
   "cell_type": "code",
   "execution_count": 17,
   "id": "alleged-branch",
   "metadata": {
    "execution": {
     "iopub.execute_input": "2021-03-25T16:06:30.717292Z",
     "iopub.status.busy": "2021-03-25T16:06:30.716370Z",
     "iopub.status.idle": "2021-03-25T16:06:31.067721Z",
     "shell.execute_reply": "2021-03-25T16:06:31.066322Z"
    }
   },
   "outputs": [
    {
     "data": {
      "image/svg+xml": [
       "<?xml version=\"1.0\" encoding=\"UTF-8\" standalone=\"no\"?><svg xmlns=\"http://www.w3.org/2000/svg\" xmlns:xlink=\"http://www.w3.org/1999/xlink\" contentScriptType=\"application/ecmascript\" contentStyleType=\"text/css\" height=\"226px\" preserveAspectRatio=\"none\" style=\"width:616px;height:226px;\" version=\"1.1\" viewBox=\"0 0 616 226\" width=\"616px\" zoomAndPan=\"magnify\"><defs/><g><!--MD5=[fbc87193dbaf4d95561dea2c320d4a47]\n",
       "cluster E1--><polygon fill=\"#FFFFFF\" points=\"16,6,89,6,96,28.2969,594,28.2969,594,214,16,214,16,6\" style=\"stroke: #000000; stroke-width: 1.5;\"/><line style=\"stroke: #000000; stroke-width: 1.5;\" x1=\"16\" x2=\"96\" y1=\"28.2969\" y2=\"28.2969\"/><text fill=\"#000000\" font-family=\"sans-serif\" font-size=\"14\" font-weight=\"bold\" lengthAdjust=\"spacingAndGlyphs\" textLength=\"67\" x=\"20\" y=\"20.9951\">PartTest</text><!--MD5=[b4997ac47864f28c2f74865a473b2911]\n",
       "class E2--><rect fill=\"#FFFFFF\" height=\"45.9375\" id=\"E2\" rx=\"10\" ry=\"10\" style=\"stroke: #383838; stroke-width: 1.5;\" width=\"42\" x=\"46\" y=\"41\"/><text fill=\"#000000\" font-family=\"sans-serif\" font-size=\"12\" font-style=\"italic\" lengthAdjust=\"spacingAndGlyphs\" textLength=\"40\" x=\"47\" y=\"57.1387\">«part»</text><text fill=\"#000000\" font-family=\"sans-serif\" font-size=\"12\" lengthAdjust=\"spacingAndGlyphs\" textLength=\"20\" x=\"57\" y=\"71.1074\">f: A</text><line style=\"stroke: #383838; stroke-width: 1.5;\" x1=\"47\" x2=\"87\" y1=\"78.9375\" y2=\"78.9375\"/><!--MD5=[09b614a08d8cba4a07c9adeb5e0fee81]\n",
       "class E3--><rect fill=\"#FFFFFF\" height=\"75.5469\" id=\"E3\" style=\"stroke: #383838; stroke-width: 1.5;\" width=\"66\" x=\"171\" y=\"45\"/><text fill=\"#000000\" font-family=\"sans-serif\" font-size=\"12\" font-style=\"italic\" lengthAdjust=\"spacingAndGlyphs\" textLength=\"64\" x=\"172\" y=\"61.1387\">«part def»</text><text fill=\"#000000\" font-family=\"sans-serif\" font-size=\"12\" lengthAdjust=\"spacingAndGlyphs\" textLength=\"8\" x=\"200\" y=\"75.1074\">A</text><line style=\"stroke: #383838; stroke-width: 1.5;\" x1=\"172\" x2=\"236\" y1=\"82.9375\" y2=\"82.9375\"/><text fill=\"#000000\" font-family=\"sans-serif\" font-size=\"11\" lengthAdjust=\"spacingAndGlyphs\" textLength=\"22\" x=\"177\" y=\"113.9526\">c: C</text><line style=\"stroke: #383838; stroke-width: 1.0;\" x1=\"172\" x2=\"189\" y1=\"97.3398\" y2=\"97.3398\"/><text fill=\"#000000\" font-family=\"sans-serif\" font-size=\"11\" lengthAdjust=\"spacingAndGlyphs\" textLength=\"30\" x=\"189\" y=\"100.6479\">ports</text><line style=\"stroke: #383838; stroke-width: 1.0;\" x1=\"219\" x2=\"236\" y1=\"97.3398\" y2=\"97.3398\"/><!--MD5=[ebbe1d658d1005bcc118a6aa81145e00]\n",
       "class E4--><rect fill=\"#FFFFFF\" height=\"45.9375\" id=\"E4\" rx=\"10\" ry=\"10\" style=\"stroke: #383838; stroke-width: 1.5;\" width=\"42\" x=\"306\" y=\"80\"/><text fill=\"#000000\" font-family=\"sans-serif\" font-size=\"12\" font-style=\"italic\" lengthAdjust=\"spacingAndGlyphs\" textLength=\"40\" x=\"307\" y=\"96.1387\">«part»</text><text fill=\"#000000\" font-family=\"sans-serif\" font-size=\"12\" lengthAdjust=\"spacingAndGlyphs\" textLength=\"24\" x=\"315\" y=\"110.1074\">b: B</text><line style=\"stroke: #383838; stroke-width: 1.5;\" x1=\"307\" x2=\"347\" y1=\"117.9375\" y2=\"117.9375\"/><!--MD5=[60a26617385b1d2d0262a64233df1f8d]\n",
       "class E6--><rect fill=\"#FFFFFF\" height=\"75.5469\" id=\"E6\" style=\"stroke: #383838; stroke-width: 1.5;\" width=\"66\" x=\"409\" y=\"92\"/><text fill=\"#000000\" font-family=\"sans-serif\" font-size=\"12\" font-style=\"italic\" lengthAdjust=\"spacingAndGlyphs\" textLength=\"64\" x=\"410\" y=\"108.1387\">«part def»</text><text fill=\"#000000\" font-family=\"sans-serif\" font-size=\"12\" lengthAdjust=\"spacingAndGlyphs\" textLength=\"8\" x=\"438\" y=\"122.1074\">B</text><line style=\"stroke: #383838; stroke-width: 1.5;\" x1=\"410\" x2=\"474\" y1=\"129.9375\" y2=\"129.9375\"/><text fill=\"#000000\" font-family=\"sans-serif\" font-size=\"11\" lengthAdjust=\"spacingAndGlyphs\" textLength=\"31\" x=\"415\" y=\"160.9526\">x: ~C</text><line style=\"stroke: #383838; stroke-width: 1.0;\" x1=\"410\" x2=\"427\" y1=\"144.3398\" y2=\"144.3398\"/><text fill=\"#000000\" font-family=\"sans-serif\" font-size=\"11\" lengthAdjust=\"spacingAndGlyphs\" textLength=\"30\" x=\"427\" y=\"147.6479\">ports</text><line style=\"stroke: #383838; stroke-width: 1.0;\" x1=\"457\" x2=\"474\" y1=\"144.3398\" y2=\"144.3398\"/><!--MD5=[b9389687b975829384b498ac4b7476b2]\n",
       "class E8--><rect fill=\"#FFFFFF\" height=\"45.9375\" id=\"E8\" rx=\"10\" ry=\"10\" style=\"stroke: #383838; stroke-width: 1.5;\" width=\"42\" x=\"536\" y=\"41\"/><text fill=\"#000000\" font-family=\"sans-serif\" font-size=\"12\" font-style=\"italic\" lengthAdjust=\"spacingAndGlyphs\" textLength=\"40\" x=\"537\" y=\"57.1387\">«part»</text><text fill=\"#000000\" font-family=\"sans-serif\" font-size=\"12\" lengthAdjust=\"spacingAndGlyphs\" textLength=\"24\" x=\"545\" y=\"71.1074\">a: A</text><line style=\"stroke: #383838; stroke-width: 1.5;\" x1=\"537\" x2=\"577\" y1=\"78.9375\" y2=\"78.9375\"/><!--MD5=[96f4274e9e20536e775497830990834d]\n",
       "class E10--><rect fill=\"#FFFFFF\" height=\"75.5469\" id=\"E10\" style=\"stroke: #383838; stroke-width: 1.5;\" width=\"70\" x=\"32\" y=\"122\"/><text fill=\"#000000\" font-family=\"sans-serif\" font-size=\"12\" font-style=\"italic\" lengthAdjust=\"spacingAndGlyphs\" textLength=\"64\" x=\"35\" y=\"138.1387\">«port def»</text><text fill=\"#000000\" font-family=\"sans-serif\" font-size=\"12\" lengthAdjust=\"spacingAndGlyphs\" textLength=\"8\" x=\"63\" y=\"152.1074\">C</text><line style=\"stroke: #383838; stroke-width: 1.5;\" x1=\"33\" x2=\"101\" y1=\"159.9375\" y2=\"159.9375\"/><text fill=\"#000000\" font-family=\"sans-serif\" font-size=\"11\" lengthAdjust=\"spacingAndGlyphs\" textLength=\"21\" x=\"38\" y=\"190.9526\">y: A</text><text fill=\"#000000\" font-family=\"sans-serif\" font-size=\"11\" font-weight=\"bold\" lengthAdjust=\"spacingAndGlyphs\" textLength=\"15\" x=\"63\" y=\"190.9526\">as</text><text fill=\"#000000\" font-family=\"sans-serif\" font-size=\"11\" lengthAdjust=\"spacingAndGlyphs\" textLength=\"12\" x=\"82\" y=\"190.9526\">z2</text><line style=\"stroke: #383838; stroke-width: 1.0;\" x1=\"33\" x2=\"36\" y1=\"174.3398\" y2=\"174.3398\"/><text fill=\"#000000\" font-family=\"sans-serif\" font-size=\"11\" lengthAdjust=\"spacingAndGlyphs\" textLength=\"62\" x=\"36\" y=\"177.6479\">references</text><line style=\"stroke: #383838; stroke-width: 1.0;\" x1=\"98\" x2=\"101\" y1=\"174.3398\" y2=\"174.3398\"/><polygon fill=\"#FFFFFF\" points=\"542,122.5,558,122.5,565,144.7969,572,144.7969,572,175.0938,542,175.0938,542,122.5\" style=\"stroke: #000000; stroke-width: 1.5;\"/><line style=\"stroke: #000000; stroke-width: 1.5;\" x1=\"542\" x2=\"565\" y1=\"144.7969\" y2=\"144.7969\"/><text fill=\"#000000\" font-family=\"sans-serif\" font-size=\"14\" font-weight=\"bold\" lengthAdjust=\"spacingAndGlyphs\" textLength=\"10\" x=\"546\" y=\"137.4951\">P</text><!--MD5=[2720a5a1f2c3fca2055b230370638851]\n",
       "link E2 to E3--><path d=\"M88.21,66.84 C104.77,69.17 128.95,72.58 150.85,75.66 \" fill=\"none\" id=\"E2-&gt;E3\" style=\"stroke: #383838; stroke-width: 1.0;\"/><polygon fill=\"#FFFFFF\" points=\"170.83,78.47,151.0405,82.7566,152.9896,68.893,170.83,78.47\" style=\"stroke: #383838; stroke-width: 1.0;\"/><ellipse cx=\"145.6744\" cy=\"79.9825\" fill=\"#383838\" rx=\"2\" ry=\"2\" style=\"stroke: #383838; stroke-width: 1.0;\"/><ellipse cx=\"147.0667\" cy=\"70.0799\" fill=\"#383838\" rx=\"2\" ry=\"2\" style=\"stroke: #383838; stroke-width: 1.0;\"/><!--MD5=[4672eba38e49728da53d11aeb285b987]\n",
       "reverse link E3 to E4--><path d=\"M249.96,90.43 C269.2,93.61 290.69,97.16 305.9,99.68 \" fill=\"none\" id=\"E3&lt;-E4\" style=\"stroke: #383838; stroke-width: 1.0;\"/><polygon fill=\"#383838\" points=\"237.11,88.31,242.3743,93.2382,248.9481,90.2742,243.6838,85.3461,237.11,88.31\" style=\"stroke: #383838; stroke-width: 1.0;\"/><!--MD5=[79568f1e445c3877b6a54524624ccc7d]\n",
       "link E4 to E6--><path d=\"M348.2,107.83 C359.59,110.55 374.4,114.09 388.82,117.53 \" fill=\"none\" id=\"E4-&gt;E6\" style=\"stroke: #383838; stroke-width: 1.0;\"/><polygon fill=\"#FFFFFF\" points=\"408.57,122.25,388.4621,124.6316,391.7233,111.0167,408.57,122.25\" style=\"stroke: #383838; stroke-width: 1.0;\"/><ellipse cx=\"383.3848\" cy=\"121.3588\" fill=\"#383838\" rx=\"2\" ry=\"2\" style=\"stroke: #383838; stroke-width: 1.0;\"/><ellipse cx=\"385.7142\" cy=\"111.6339\" fill=\"#383838\" rx=\"2\" ry=\"2\" style=\"stroke: #383838; stroke-width: 1.0;\"/><!--MD5=[3f50a3473f1dfb74d3f76443e03635af]\n",
       "reverse link E6 to E7--><path d=\"M489.97,137.9 C508.72,141.05 528.91,144.44 541.96,146.64 \" fill=\"none\" id=\"E6&lt;-E7\" style=\"stroke: #383838; stroke-width: 1.0;\"/><ellipse cx=\"482.9695\" cy=\"136.7151\" fill=\"#FFFFFF\" rx=\"8\" ry=\"8\" style=\"stroke: #383838; stroke-width: 1.0;\"/><line style=\"stroke: #383838; stroke-width: 1.0;\" x1=\"490.859\" x2=\"475.08\" y1=\"138.0401\" y2=\"135.39\"/><line style=\"stroke: #383838; stroke-width: 1.0;\" x1=\"481.6444\" x2=\"484.2946\" y1=\"144.6046\" y2=\"128.8256\"/><!--MD5=[95fa686b5a16158bcdbcaeead89f639b]\n",
       "link E8 to E3--><path d=\"M535.84,62.34 C493.25,59.15 391.06,53.25 306,62 C289.77,63.67 272.31,66.81 256.54,70.16 \" fill=\"none\" id=\"E8-&gt;E3\" style=\"stroke: #383838; stroke-width: 1.0;\"/><polygon fill=\"#FFFFFF\" points=\"237.03,74.59,254.0156,63.5678,257.1066,77.2223,237.03,74.59\" style=\"stroke: #383838; stroke-width: 1.0;\"/><ellipse cx=\"260.0165\" cy=\"64.2599\" fill=\"#383838\" rx=\"2\" ry=\"2\" style=\"stroke: #383838; stroke-width: 1.0;\"/><ellipse cx=\"262.2244\" cy=\"74.0132\" fill=\"#383838\" rx=\"2\" ry=\"2\" style=\"stroke: #383838; stroke-width: 1.0;\"/><!--MD5=[f4cf0736d43fd73c4ef68817c49d37d5]\n",
       "reverse link E6 to E8--><path d=\"M486.52,104.58 C503.54,94.64 522.23,83.72 535.94,75.72 \" fill=\"none\" id=\"E6&lt;-E8\" style=\"stroke: #383838; stroke-width: 1.0;\"/><polygon fill=\"#383838\" points=\"475.08,111.26,482.2784,111.6885,485.4425,105.2086,478.2441,104.7802,475.08,111.26\" style=\"stroke: #383838; stroke-width: 1.0;\"/><!--MD5=[8e04057e7b3cbc0dca4fc78ea351e2da]\n",
       "reverse link E10 to E3--><path d=\"M113.4,134.11 C132.23,123.37 153.63,111.16 170.8,101.36 \" fill=\"none\" id=\"E10&lt;-E3\" style=\"stroke: #383838; stroke-width: 1.0;\"/><polygon fill=\"#FFFFFF\" points=\"102.07,140.57,109.2638,141.0691,112.4914,134.6206,105.2975,134.1215,102.07,140.57\" style=\"stroke: #383838; stroke-width: 1.0;\"/><text fill=\"#000000\" font-family=\"sans-serif\" font-size=\"13\" lengthAdjust=\"spacingAndGlyphs\" textLength=\"7\" x=\"133\" y=\"116.0669\">y</text><!--MD5=[604cbf994c02b74b117f728a71673cea]\n",
       "reverse link E10 to E6--><path d=\"M115.41,158.25 C171.17,155.94 266.47,151.16 348,143 C368.28,140.97 390.93,137.82 408.79,135.13 \" fill=\"none\" id=\"E10&lt;-E6\" style=\"stroke: #383838; stroke-width: 1.0;\"/><polygon fill=\"#FFFFFF\" points=\"102.12,158.79,108.2736,162.5494,114.1106,158.3151,107.957,154.5557,102.12,158.79\" style=\"stroke: #383838; stroke-width: 1.0;\"/><text fill=\"#000000\" font-family=\"sans-serif\" font-size=\"13\" lengthAdjust=\"spacingAndGlyphs\" textLength=\"7\" x=\"268\" y=\"146.0669\">y</text><!--MD5=[773429595acc43a97b29372a9288fdd0]\n",
       "@startuml\r\n",
       "left to right direction\r\n",
       "skinparam monochrome true\r\n",
       "skinparam classbackgroundcolor white\r\n",
       "skinparam shadowing false\r\n",
       "skinparam wrapWidth 300\r\n",
       "hide circle\r\n",
       "\r\n",
       "package \"PartTest\" as E1   {\r\n",
       "comp usage \"f: A\" as E2  <<(T,blue)part>> {\r\n",
       "}\r\n",
       "comp def \"A\" as E3  <<(T,blue)part def>> {\r\n",
       "- -ports- -\r\n",
       "c: C\r\n",
       "}\r\n",
       "comp usage \"b: B\" as E4  <<(T,blue)part>> {\r\n",
       "}\r\n",
       "comp def \"B\" as E6  <<(T,blue)part def>> {\r\n",
       "- -ports- -\r\n",
       "x: ~C\r\n",
       "}\r\n",
       "package \"P\" as E7   {\r\n",
       "}\r\n",
       "comp usage \"a: A\" as E8  <<(T,blue)part>> {\r\n",
       "}\r\n",
       "comp def \"C\" as E10  <<(T,blue)port def>> {\r\n",
       "- -references- -\r\n",
       "y: A <b>as</b> z2 \r\n",
       "}\r\n",
       "E2 - -:|> E3\r\n",
       "E3 *- - E4\r\n",
       "E4 - -:|> E6\r\n",
       "E6 +- - E7\r\n",
       "E8 - -:|> E3\r\n",
       "E6 *- - E8\r\n",
       "E10 o- - E3 : y\r\n",
       "E10 o- - E6 : y\r\n",
       "}\r\n",
       "@enduml\r\n",
       "\n",
       "PlantUML version 1.2020.13(Sat Jun 13 12:26:38 UTC 2020)\n",
       "(EPL source distribution)\n",
       "Java Runtime: OpenJDK Runtime Environment\n",
       "JVM: OpenJDK 64-Bit Server VM\n",
       "Default Encoding: UTF-8\n",
       "Language: en\n",
       "Country: null\n",
       "--></g></svg>"
      ]
     },
     "execution_count": 17,
     "metadata": {},
     "output_type": "execute_result"
    }
   ],
   "source": [
    "%viz --style=\"LR\" --view=\"Tree\" \"PartTest\""
   ]
  },
  {
   "cell_type": "code",
   "execution_count": 18,
   "id": "surprised-tampa",
   "metadata": {
    "execution": {
     "iopub.execute_input": "2021-03-25T16:06:31.118839Z",
     "iopub.status.busy": "2021-03-25T16:06:31.118302Z",
     "iopub.status.idle": "2021-03-25T16:06:31.121241Z",
     "shell.execute_reply": "2021-03-25T16:06:31.121853Z"
    }
   },
   "outputs": [
    {
     "data": {
      "text/plain": [
       "java.lang.IllegalArgumentException: Invalid View: State View candidates are: Default Tree StateMachine Interconnection Activity Sequence MIXED \n",
       "\tat org.omg.sysml.plantuml.SysML2PlantUMLSvc.setView(SysML2PlantUMLSvc.java:63)\n",
       "\tat org.omg.sysml.interactive.SysMLInteractive.viz(SysMLInteractive.java:286)\n",
       "\tat org.omg.sysml.jupyter.kernel.magic.Viz.viz(Viz.java:47)\n",
       "\tat jdk.internal.reflect.GeneratedMethodAccessor9.invoke(Unknown Source)\n",
       "\tat java.base/jdk.internal.reflect.DelegatingMethodAccessorImpl.invoke(DelegatingMethodAccessorImpl.java:43)\n",
       "\tat java.base/java.lang.reflect.Method.invoke(Method.java:568)\n",
       "\tat io.github.spencerpark.jupyter.kernel.magic.registry.Magics.invoke(Magics.java:89)\n",
       "\tat io.github.spencerpark.jupyter.kernel.magic.registry.Magics.access$000(Magics.java:8)\n",
       "\tat io.github.spencerpark.jupyter.kernel.magic.registry.Magics$LineReflectionMagicFunction.execute(Magics.java:149)\n",
       "\tat io.github.spencerpark.jupyter.kernel.magic.registry.Magics.applyLineMagic(Magics.java:26)\n",
       "\tat org.omg.sysml.jupyter.kernel.SysMLKernel.eval(SysMLKernel.java:76)\n",
       "\tat io.github.spencerpark.jupyter.kernel.BaseKernel.handleExecuteRequest(BaseKernel.java:334)\n",
       "\tat io.github.spencerpark.jupyter.channels.ShellChannel.lambda$bind$0(ShellChannel.java:64)\n",
       "\tat io.github.spencerpark.jupyter.channels.Loop.lambda$new$0(Loop.java:21)\n",
       "\tat io.github.spencerpark.jupyter.channels.Loop.run(Loop.java:78)\n"
      ]
     },
     "execution_count": 18,
     "metadata": {},
     "output_type": "execute_result"
    }
   ],
   "source": [
    "%viz --style=\"LR\" --view=\"State\" \"PartTest\""
   ]
  },
  {
   "cell_type": "code",
   "execution_count": 19,
   "id": "gorgeous-security",
   "metadata": {
    "execution": {
     "iopub.execute_input": "2021-03-25T16:06:31.173048Z",
     "iopub.status.busy": "2021-03-25T16:06:31.172366Z",
     "iopub.status.idle": "2021-03-25T16:06:31.243445Z",
     "shell.execute_reply": "2021-03-25T16:06:31.243078Z"
    }
   },
   "outputs": [
    {
     "data": {
      "image/svg+xml": [
       "<?xml version=\"1.0\" encoding=\"UTF-8\" standalone=\"no\"?><svg xmlns=\"http://www.w3.org/2000/svg\" xmlns:xlink=\"http://www.w3.org/1999/xlink\" contentScriptType=\"application/ecmascript\" contentStyleType=\"text/css\" height=\"462px\" preserveAspectRatio=\"none\" style=\"width:313px;height:462px;\" version=\"1.1\" viewBox=\"0 0 313 462\" width=\"313px\" zoomAndPan=\"magnify\"><defs/><g><!--MD5=[fbc87193dbaf4d95561dea2c320d4a47]\n",
       "cluster E1--><polygon fill=\"#FFFFFF\" points=\"16,6,89,6,96,28.2969,291,28.2969,291,450,16,450,16,6\" style=\"stroke: #000000; stroke-width: 1.5;\"/><line style=\"stroke: #000000; stroke-width: 1.5;\" x1=\"16\" x2=\"96\" y1=\"28.2969\" y2=\"28.2969\"/><text fill=\"#000000\" font-family=\"sans-serif\" font-size=\"14\" font-weight=\"bold\" lengthAdjust=\"spacingAndGlyphs\" textLength=\"67\" x=\"20\" y=\"20.9951\">PartTest</text><!--MD5=[d5e69f78d87373223dbae638b30a9c99]\n",
       "cluster E3--><rect fill=\"#FFFFFF\" height=\"82\" style=\"stroke: #000000; stroke-width: 1.5;\" width=\"210\" x=\"65\" y=\"41\"/><text fill=\"#000000\" font-family=\"sans-serif\" font-size=\"14\" font-style=\"italic\" lengthAdjust=\"spacingAndGlyphs\" textLength=\"71\" x=\"134.5\" y=\"55.9951\">«part def»</text><text fill=\"#000000\" font-family=\"sans-serif\" font-size=\"14\" font-weight=\"bold\" lengthAdjust=\"spacingAndGlyphs\" textLength=\"11\" x=\"164.5\" y=\"72.292\">A</text><!--MD5=[14e3b0961a2654348d326746436168a1]\n",
       "cluster E6--><rect fill=\"#FFFFFF\" height=\"156\" style=\"stroke: #000000; stroke-width: 1.5;\" width=\"210\" x=\"65\" y=\"131\"/><text fill=\"#000000\" font-family=\"sans-serif\" font-size=\"14\" font-style=\"italic\" lengthAdjust=\"spacingAndGlyphs\" textLength=\"71\" x=\"134.5\" y=\"145.9951\">«part def»</text><text fill=\"#000000\" font-family=\"sans-serif\" font-size=\"14\" font-weight=\"bold\" lengthAdjust=\"spacingAndGlyphs\" textLength=\"10\" x=\"165\" y=\"162.292\">B</text><!--MD5=[96f4274e9e20536e775497830990834d]\n",
       "class E10--><rect fill=\"#FFFFFF\" height=\"53.9375\" id=\"E10\" style=\"stroke: #383838; stroke-width: 1.5;\" width=\"66\" x=\"32\" y=\"295\"/><text fill=\"#000000\" font-family=\"sans-serif\" font-size=\"12\" font-style=\"italic\" lengthAdjust=\"spacingAndGlyphs\" textLength=\"64\" x=\"33\" y=\"311.1387\">«port def»</text><text fill=\"#000000\" font-family=\"sans-serif\" font-size=\"12\" lengthAdjust=\"spacingAndGlyphs\" textLength=\"8\" x=\"61\" y=\"325.1074\">C</text><line style=\"stroke: #383838; stroke-width: 1.5;\" x1=\"33\" x2=\"97\" y1=\"332.9375\" y2=\"332.9375\"/><line style=\"stroke: #383838; stroke-width: 1.5;\" x1=\"33\" x2=\"97\" y1=\"340.9375\" y2=\"340.9375\"/><g id=\"E1.E2\"><rect fill=\"#FFFFFF\" height=\"50\" rx=\"12.5\" ry=\"12.5\" style=\"stroke: #383838; stroke-width: 1.5;\" width=\"50\" x=\"40\" y=\"384\"/><line style=\"stroke: #383838; stroke-width: 1.5;\" x1=\"40\" x2=\"90\" y1=\"410.2969\" y2=\"410.2969\"/><text fill=\"#000000\" font-family=\"sans-serif\" font-size=\"14\" lengthAdjust=\"spacingAndGlyphs\" textLength=\"22\" x=\"54\" y=\"401.9951\">f: A</text></g><text fill=\"#000000\" font-family=\"sans-serif\" font-size=\"14\" lengthAdjust=\"spacingAndGlyphs\" textLength=\"27\" x=\"51.5\" y=\"60.6982\">c: C</text><rect fill=\"#383838\" height=\"12\" style=\"stroke: #F8F8F8; stroke-width: 1.5;\" width=\"12\" x=\"59\" y=\"76\"/><g id=\"E1.E3.E4\"><rect fill=\"#FFFFFF\" height=\"50\" rx=\"12.5\" ry=\"12.5\" style=\"stroke: #383838; stroke-width: 1.5;\" width=\"50\" x=\"209\" y=\"57\"/><line style=\"stroke: #383838; stroke-width: 1.5;\" x1=\"209\" x2=\"259\" y1=\"83.2969\" y2=\"83.2969\"/><text fill=\"#000000\" font-family=\"sans-serif\" font-size=\"14\" lengthAdjust=\"spacingAndGlyphs\" textLength=\"28\" x=\"220\" y=\"74.9951\">b: B</text></g><text fill=\"#000000\" font-family=\"sans-serif\" font-size=\"14\" lengthAdjust=\"spacingAndGlyphs\" textLength=\"38\" x=\"46\" y=\"143.6982\">x: ~C</text><rect fill=\"#383838\" height=\"12\" style=\"stroke: #F8F8F8; stroke-width: 1.5;\" width=\"12\" x=\"59\" y=\"159\"/><polygon fill=\"#FFFFFF\" points=\"142.5,217.5,158.5,217.5,165.5,239.7969,172.5,239.7969,172.5,270.0938,142.5,270.0938,142.5,217.5\" style=\"stroke: #000000; stroke-width: 1.5;\"/><line style=\"stroke: #000000; stroke-width: 1.5;\" x1=\"142.5\" x2=\"165.5\" y1=\"239.7969\" y2=\"239.7969\"/><text fill=\"#000000\" font-family=\"sans-serif\" font-size=\"14\" font-weight=\"bold\" lengthAdjust=\"spacingAndGlyphs\" textLength=\"10\" x=\"146.5\" y=\"232.4951\">P</text><g id=\"E1.E6.E8\"><rect fill=\"#FFFFFF\" height=\"50\" rx=\"12.5\" ry=\"12.5\" style=\"stroke: #383838; stroke-width: 1.5;\" width=\"50\" x=\"209\" y=\"147\"/><line style=\"stroke: #383838; stroke-width: 1.5;\" x1=\"209\" x2=\"259\" y1=\"173.2969\" y2=\"173.2969\"/><text fill=\"#000000\" font-family=\"sans-serif\" font-size=\"14\" lengthAdjust=\"spacingAndGlyphs\" textLength=\"26\" x=\"221\" y=\"164.9951\">a: A</text></g><!--MD5=[c61a7cef2a3d278b2c3ed319759f8b5a]\n",
       "@startuml\r\n",
       "skinparam ranksep 8\r\n",
       "skinparam rectangle {\r\n",
       " backgroundColor<<block>> LightGreen\r\n",
       "}\r\n",
       "left to right direction\r\n",
       "skinparam monochrome true\r\n",
       "skinparam classbackgroundcolor white\r\n",
       "skinparam shadowing false\r\n",
       "skinparam wrapWidth 300\r\n",
       "hide circle\r\n",
       "\r\n",
       "package \"PartTest\" as E1   {\r\n",
       "rec usage \"f: A\" as E2  {\r\n",
       "}\r\n",
       "rec def \"A\" as E3  <<part def>> {\r\n",
       "rec usage \"b: B\" as E4  {\r\n",
       "}\r\n",
       "portin \"c: C\" as E5  <<port>> \r\n",
       "}\r\n",
       "rec def \"B\" as E6  <<part def>> {\r\n",
       "package \"P\" as E7   {\r\n",
       "}\r\n",
       "rec usage \"a: A\" as E8  {\r\n",
       "}\r\n",
       "portin \"x: ~C\" as E9  <<port>> \r\n",
       "}\r\n",
       "def \"C\" as E10  <<port def>> \r\n",
       "}\r\n",
       "@enduml\r\n",
       "\n",
       "PlantUML version 1.2020.13(Sat Jun 13 12:26:38 UTC 2020)\n",
       "(EPL source distribution)\n",
       "Java Runtime: OpenJDK Runtime Environment\n",
       "JVM: OpenJDK 64-Bit Server VM\n",
       "Default Encoding: UTF-8\n",
       "Language: en\n",
       "Country: null\n",
       "--></g></svg>"
      ]
     },
     "execution_count": 19,
     "metadata": {},
     "output_type": "execute_result"
    }
   ],
   "source": [
    "%viz --style=\"LR\" --view=\"Interconnection\" \"PartTest\""
   ]
  },
  {
   "cell_type": "code",
   "execution_count": 20,
   "id": "concerned-criterion",
   "metadata": {
    "execution": {
     "iopub.execute_input": "2021-03-25T16:06:31.295034Z",
     "iopub.status.busy": "2021-03-25T16:06:31.294539Z",
     "iopub.status.idle": "2021-03-25T16:06:31.296193Z",
     "shell.execute_reply": "2021-03-25T16:06:31.296656Z"
    }
   },
   "outputs": [
    {
     "data": {
      "text/plain": [
       "java.lang.IllegalArgumentException: Invalid View: Action View candidates are: Default Tree StateMachine Interconnection Activity Sequence MIXED \n",
       "\tat org.omg.sysml.plantuml.SysML2PlantUMLSvc.setView(SysML2PlantUMLSvc.java:63)\n",
       "\tat org.omg.sysml.interactive.SysMLInteractive.viz(SysMLInteractive.java:286)\n",
       "\tat org.omg.sysml.jupyter.kernel.magic.Viz.viz(Viz.java:47)\n",
       "\tat jdk.internal.reflect.GeneratedMethodAccessor9.invoke(Unknown Source)\n",
       "\tat java.base/jdk.internal.reflect.DelegatingMethodAccessorImpl.invoke(DelegatingMethodAccessorImpl.java:43)\n",
       "\tat java.base/java.lang.reflect.Method.invoke(Method.java:568)\n",
       "\tat io.github.spencerpark.jupyter.kernel.magic.registry.Magics.invoke(Magics.java:89)\n",
       "\tat io.github.spencerpark.jupyter.kernel.magic.registry.Magics.access$000(Magics.java:8)\n",
       "\tat io.github.spencerpark.jupyter.kernel.magic.registry.Magics$LineReflectionMagicFunction.execute(Magics.java:149)\n",
       "\tat io.github.spencerpark.jupyter.kernel.magic.registry.Magics.applyLineMagic(Magics.java:26)\n",
       "\tat org.omg.sysml.jupyter.kernel.SysMLKernel.eval(SysMLKernel.java:76)\n",
       "\tat io.github.spencerpark.jupyter.kernel.BaseKernel.handleExecuteRequest(BaseKernel.java:334)\n",
       "\tat io.github.spencerpark.jupyter.channels.ShellChannel.lambda$bind$0(ShellChannel.java:64)\n",
       "\tat io.github.spencerpark.jupyter.channels.Loop.lambda$new$0(Loop.java:21)\n",
       "\tat io.github.spencerpark.jupyter.channels.Loop.run(Loop.java:78)\n"
      ]
     },
     "execution_count": 20,
     "metadata": {},
     "output_type": "execute_result"
    }
   ],
   "source": [
    "%viz --style=\"LR\" --view=\"Action\" \"PartTest\""
   ]
  },
  {
   "cell_type": "code",
   "execution_count": 21,
   "id": "improved-shirt",
   "metadata": {
    "execution": {
     "iopub.execute_input": "2021-03-25T16:06:31.347292Z",
     "iopub.status.busy": "2021-03-25T16:06:31.346835Z",
     "iopub.status.idle": "2021-03-25T16:06:31.704983Z",
     "shell.execute_reply": "2021-03-25T16:06:31.703270Z"
    }
   },
   "outputs": [
    {
     "data": {
      "image/svg+xml": [
       "<?xml version=\"1.0\" encoding=\"UTF-8\" standalone=\"no\"?><svg xmlns=\"http://www.w3.org/2000/svg\" xmlns:xlink=\"http://www.w3.org/1999/xlink\" contentScriptType=\"application/ecmascript\" contentStyleType=\"text/css\" height=\"226px\" preserveAspectRatio=\"none\" style=\"width:616px;height:226px;\" version=\"1.1\" viewBox=\"0 0 616 226\" width=\"616px\" zoomAndPan=\"magnify\"><defs/><g><!--MD5=[fbc87193dbaf4d95561dea2c320d4a47]\n",
       "cluster E1--><polygon fill=\"#FFFFFF\" points=\"16,6,89,6,96,28.2969,594,28.2969,594,214,16,214,16,6\" style=\"stroke: #000000; stroke-width: 1.5;\"/><line style=\"stroke: #000000; stroke-width: 1.5;\" x1=\"16\" x2=\"96\" y1=\"28.2969\" y2=\"28.2969\"/><text fill=\"#000000\" font-family=\"sans-serif\" font-size=\"14\" font-weight=\"bold\" lengthAdjust=\"spacingAndGlyphs\" textLength=\"67\" x=\"20\" y=\"20.9951\">PartTest</text><!--MD5=[b4997ac47864f28c2f74865a473b2911]\n",
       "class E2--><rect fill=\"#FFFFFF\" height=\"45.9375\" id=\"E2\" rx=\"10\" ry=\"10\" style=\"stroke: #383838; stroke-width: 1.5;\" width=\"42\" x=\"46\" y=\"41\"/><text fill=\"#000000\" font-family=\"sans-serif\" font-size=\"12\" font-style=\"italic\" lengthAdjust=\"spacingAndGlyphs\" textLength=\"40\" x=\"47\" y=\"57.1387\">«part»</text><text fill=\"#000000\" font-family=\"sans-serif\" font-size=\"12\" lengthAdjust=\"spacingAndGlyphs\" textLength=\"20\" x=\"57\" y=\"71.1074\">f: A</text><line style=\"stroke: #383838; stroke-width: 1.5;\" x1=\"47\" x2=\"87\" y1=\"78.9375\" y2=\"78.9375\"/><!--MD5=[09b614a08d8cba4a07c9adeb5e0fee81]\n",
       "class E3--><rect fill=\"#FFFFFF\" height=\"75.5469\" id=\"E3\" style=\"stroke: #383838; stroke-width: 1.5;\" width=\"66\" x=\"171\" y=\"45\"/><text fill=\"#000000\" font-family=\"sans-serif\" font-size=\"12\" font-style=\"italic\" lengthAdjust=\"spacingAndGlyphs\" textLength=\"64\" x=\"172\" y=\"61.1387\">«part def»</text><text fill=\"#000000\" font-family=\"sans-serif\" font-size=\"12\" lengthAdjust=\"spacingAndGlyphs\" textLength=\"8\" x=\"200\" y=\"75.1074\">A</text><line style=\"stroke: #383838; stroke-width: 1.5;\" x1=\"172\" x2=\"236\" y1=\"82.9375\" y2=\"82.9375\"/><text fill=\"#000000\" font-family=\"sans-serif\" font-size=\"11\" lengthAdjust=\"spacingAndGlyphs\" textLength=\"22\" x=\"177\" y=\"113.9526\">c: C</text><line style=\"stroke: #383838; stroke-width: 1.0;\" x1=\"172\" x2=\"189\" y1=\"97.3398\" y2=\"97.3398\"/><text fill=\"#000000\" font-family=\"sans-serif\" font-size=\"11\" lengthAdjust=\"spacingAndGlyphs\" textLength=\"30\" x=\"189\" y=\"100.6479\">ports</text><line style=\"stroke: #383838; stroke-width: 1.0;\" x1=\"219\" x2=\"236\" y1=\"97.3398\" y2=\"97.3398\"/><!--MD5=[ebbe1d658d1005bcc118a6aa81145e00]\n",
       "class E4--><rect fill=\"#FFFFFF\" height=\"45.9375\" id=\"E4\" rx=\"10\" ry=\"10\" style=\"stroke: #383838; stroke-width: 1.5;\" width=\"42\" x=\"306\" y=\"80\"/><text fill=\"#000000\" font-family=\"sans-serif\" font-size=\"12\" font-style=\"italic\" lengthAdjust=\"spacingAndGlyphs\" textLength=\"40\" x=\"307\" y=\"96.1387\">«part»</text><text fill=\"#000000\" font-family=\"sans-serif\" font-size=\"12\" lengthAdjust=\"spacingAndGlyphs\" textLength=\"24\" x=\"315\" y=\"110.1074\">b: B</text><line style=\"stroke: #383838; stroke-width: 1.5;\" x1=\"307\" x2=\"347\" y1=\"117.9375\" y2=\"117.9375\"/><!--MD5=[60a26617385b1d2d0262a64233df1f8d]\n",
       "class E6--><rect fill=\"#FFFFFF\" height=\"75.5469\" id=\"E6\" style=\"stroke: #383838; stroke-width: 1.5;\" width=\"66\" x=\"409\" y=\"92\"/><text fill=\"#000000\" font-family=\"sans-serif\" font-size=\"12\" font-style=\"italic\" lengthAdjust=\"spacingAndGlyphs\" textLength=\"64\" x=\"410\" y=\"108.1387\">«part def»</text><text fill=\"#000000\" font-family=\"sans-serif\" font-size=\"12\" lengthAdjust=\"spacingAndGlyphs\" textLength=\"8\" x=\"438\" y=\"122.1074\">B</text><line style=\"stroke: #383838; stroke-width: 1.5;\" x1=\"410\" x2=\"474\" y1=\"129.9375\" y2=\"129.9375\"/><text fill=\"#000000\" font-family=\"sans-serif\" font-size=\"11\" lengthAdjust=\"spacingAndGlyphs\" textLength=\"31\" x=\"415\" y=\"160.9526\">x: ~C</text><line style=\"stroke: #383838; stroke-width: 1.0;\" x1=\"410\" x2=\"427\" y1=\"144.3398\" y2=\"144.3398\"/><text fill=\"#000000\" font-family=\"sans-serif\" font-size=\"11\" lengthAdjust=\"spacingAndGlyphs\" textLength=\"30\" x=\"427\" y=\"147.6479\">ports</text><line style=\"stroke: #383838; stroke-width: 1.0;\" x1=\"457\" x2=\"474\" y1=\"144.3398\" y2=\"144.3398\"/><!--MD5=[b9389687b975829384b498ac4b7476b2]\n",
       "class E8--><rect fill=\"#FFFFFF\" height=\"45.9375\" id=\"E8\" rx=\"10\" ry=\"10\" style=\"stroke: #383838; stroke-width: 1.5;\" width=\"42\" x=\"536\" y=\"41\"/><text fill=\"#000000\" font-family=\"sans-serif\" font-size=\"12\" font-style=\"italic\" lengthAdjust=\"spacingAndGlyphs\" textLength=\"40\" x=\"537\" y=\"57.1387\">«part»</text><text fill=\"#000000\" font-family=\"sans-serif\" font-size=\"12\" lengthAdjust=\"spacingAndGlyphs\" textLength=\"24\" x=\"545\" y=\"71.1074\">a: A</text><line style=\"stroke: #383838; stroke-width: 1.5;\" x1=\"537\" x2=\"577\" y1=\"78.9375\" y2=\"78.9375\"/><!--MD5=[96f4274e9e20536e775497830990834d]\n",
       "class E10--><rect fill=\"#FFFFFF\" height=\"75.5469\" id=\"E10\" style=\"stroke: #383838; stroke-width: 1.5;\" width=\"70\" x=\"32\" y=\"122\"/><text fill=\"#000000\" font-family=\"sans-serif\" font-size=\"12\" font-style=\"italic\" lengthAdjust=\"spacingAndGlyphs\" textLength=\"64\" x=\"35\" y=\"138.1387\">«port def»</text><text fill=\"#000000\" font-family=\"sans-serif\" font-size=\"12\" lengthAdjust=\"spacingAndGlyphs\" textLength=\"8\" x=\"63\" y=\"152.1074\">C</text><line style=\"stroke: #383838; stroke-width: 1.5;\" x1=\"33\" x2=\"101\" y1=\"159.9375\" y2=\"159.9375\"/><text fill=\"#000000\" font-family=\"sans-serif\" font-size=\"11\" lengthAdjust=\"spacingAndGlyphs\" textLength=\"21\" x=\"38\" y=\"190.9526\">y: A</text><text fill=\"#000000\" font-family=\"sans-serif\" font-size=\"11\" font-weight=\"bold\" lengthAdjust=\"spacingAndGlyphs\" textLength=\"15\" x=\"63\" y=\"190.9526\">as</text><text fill=\"#000000\" font-family=\"sans-serif\" font-size=\"11\" lengthAdjust=\"spacingAndGlyphs\" textLength=\"12\" x=\"82\" y=\"190.9526\">z2</text><line style=\"stroke: #383838; stroke-width: 1.0;\" x1=\"33\" x2=\"36\" y1=\"174.3398\" y2=\"174.3398\"/><text fill=\"#000000\" font-family=\"sans-serif\" font-size=\"11\" lengthAdjust=\"spacingAndGlyphs\" textLength=\"62\" x=\"36\" y=\"177.6479\">references</text><line style=\"stroke: #383838; stroke-width: 1.0;\" x1=\"98\" x2=\"101\" y1=\"174.3398\" y2=\"174.3398\"/><polygon fill=\"#FFFFFF\" points=\"542,122.5,558,122.5,565,144.7969,572,144.7969,572,175.0938,542,175.0938,542,122.5\" style=\"stroke: #000000; stroke-width: 1.5;\"/><line style=\"stroke: #000000; stroke-width: 1.5;\" x1=\"542\" x2=\"565\" y1=\"144.7969\" y2=\"144.7969\"/><text fill=\"#000000\" font-family=\"sans-serif\" font-size=\"14\" font-weight=\"bold\" lengthAdjust=\"spacingAndGlyphs\" textLength=\"10\" x=\"546\" y=\"137.4951\">P</text><!--MD5=[2720a5a1f2c3fca2055b230370638851]\n",
       "link E2 to E3--><path d=\"M88.21,66.84 C104.77,69.17 128.95,72.58 150.85,75.66 \" fill=\"none\" id=\"E2-&gt;E3\" style=\"stroke: #383838; stroke-width: 1.0;\"/><polygon fill=\"#FFFFFF\" points=\"170.83,78.47,151.0405,82.7566,152.9896,68.893,170.83,78.47\" style=\"stroke: #383838; stroke-width: 1.0;\"/><ellipse cx=\"145.6744\" cy=\"79.9825\" fill=\"#383838\" rx=\"2\" ry=\"2\" style=\"stroke: #383838; stroke-width: 1.0;\"/><ellipse cx=\"147.0667\" cy=\"70.0799\" fill=\"#383838\" rx=\"2\" ry=\"2\" style=\"stroke: #383838; stroke-width: 1.0;\"/><!--MD5=[4672eba38e49728da53d11aeb285b987]\n",
       "reverse link E3 to E4--><path d=\"M249.96,90.43 C269.2,93.61 290.69,97.16 305.9,99.68 \" fill=\"none\" id=\"E3&lt;-E4\" style=\"stroke: #383838; stroke-width: 1.0;\"/><polygon fill=\"#383838\" points=\"237.11,88.31,242.3743,93.2382,248.9481,90.2742,243.6838,85.3461,237.11,88.31\" style=\"stroke: #383838; stroke-width: 1.0;\"/><!--MD5=[79568f1e445c3877b6a54524624ccc7d]\n",
       "link E4 to E6--><path d=\"M348.2,107.83 C359.59,110.55 374.4,114.09 388.82,117.53 \" fill=\"none\" id=\"E4-&gt;E6\" style=\"stroke: #383838; stroke-width: 1.0;\"/><polygon fill=\"#FFFFFF\" points=\"408.57,122.25,388.4621,124.6316,391.7233,111.0167,408.57,122.25\" style=\"stroke: #383838; stroke-width: 1.0;\"/><ellipse cx=\"383.3848\" cy=\"121.3588\" fill=\"#383838\" rx=\"2\" ry=\"2\" style=\"stroke: #383838; stroke-width: 1.0;\"/><ellipse cx=\"385.7142\" cy=\"111.6339\" fill=\"#383838\" rx=\"2\" ry=\"2\" style=\"stroke: #383838; stroke-width: 1.0;\"/><!--MD5=[3f50a3473f1dfb74d3f76443e03635af]\n",
       "reverse link E6 to E7--><path d=\"M489.97,137.9 C508.72,141.05 528.91,144.44 541.96,146.64 \" fill=\"none\" id=\"E6&lt;-E7\" style=\"stroke: #383838; stroke-width: 1.0;\"/><ellipse cx=\"482.9695\" cy=\"136.7151\" fill=\"#FFFFFF\" rx=\"8\" ry=\"8\" style=\"stroke: #383838; stroke-width: 1.0;\"/><line style=\"stroke: #383838; stroke-width: 1.0;\" x1=\"490.859\" x2=\"475.08\" y1=\"138.0401\" y2=\"135.39\"/><line style=\"stroke: #383838; stroke-width: 1.0;\" x1=\"481.6444\" x2=\"484.2946\" y1=\"144.6046\" y2=\"128.8256\"/><!--MD5=[95fa686b5a16158bcdbcaeead89f639b]\n",
       "link E8 to E3--><path d=\"M535.84,62.34 C493.25,59.15 391.06,53.25 306,62 C289.77,63.67 272.31,66.81 256.54,70.16 \" fill=\"none\" id=\"E8-&gt;E3\" style=\"stroke: #383838; stroke-width: 1.0;\"/><polygon fill=\"#FFFFFF\" points=\"237.03,74.59,254.0156,63.5678,257.1066,77.2223,237.03,74.59\" style=\"stroke: #383838; stroke-width: 1.0;\"/><ellipse cx=\"260.0165\" cy=\"64.2599\" fill=\"#383838\" rx=\"2\" ry=\"2\" style=\"stroke: #383838; stroke-width: 1.0;\"/><ellipse cx=\"262.2244\" cy=\"74.0132\" fill=\"#383838\" rx=\"2\" ry=\"2\" style=\"stroke: #383838; stroke-width: 1.0;\"/><!--MD5=[f4cf0736d43fd73c4ef68817c49d37d5]\n",
       "reverse link E6 to E8--><path d=\"M486.52,104.58 C503.54,94.64 522.23,83.72 535.94,75.72 \" fill=\"none\" id=\"E6&lt;-E8\" style=\"stroke: #383838; stroke-width: 1.0;\"/><polygon fill=\"#383838\" points=\"475.08,111.26,482.2784,111.6885,485.4425,105.2086,478.2441,104.7802,475.08,111.26\" style=\"stroke: #383838; stroke-width: 1.0;\"/><!--MD5=[8e04057e7b3cbc0dca4fc78ea351e2da]\n",
       "reverse link E10 to E3--><path d=\"M113.4,134.11 C132.23,123.37 153.63,111.16 170.8,101.36 \" fill=\"none\" id=\"E10&lt;-E3\" style=\"stroke: #383838; stroke-width: 1.0;\"/><polygon fill=\"#FFFFFF\" points=\"102.07,140.57,109.2638,141.0691,112.4914,134.6206,105.2975,134.1215,102.07,140.57\" style=\"stroke: #383838; stroke-width: 1.0;\"/><text fill=\"#000000\" font-family=\"sans-serif\" font-size=\"13\" lengthAdjust=\"spacingAndGlyphs\" textLength=\"7\" x=\"133\" y=\"116.0669\">y</text><!--MD5=[604cbf994c02b74b117f728a71673cea]\n",
       "reverse link E10 to E6--><path d=\"M115.41,158.25 C171.17,155.94 266.47,151.16 348,143 C368.28,140.97 390.93,137.82 408.79,135.13 \" fill=\"none\" id=\"E10&lt;-E6\" style=\"stroke: #383838; stroke-width: 1.0;\"/><polygon fill=\"#FFFFFF\" points=\"102.12,158.79,108.2736,162.5494,114.1106,158.3151,107.957,154.5557,102.12,158.79\" style=\"stroke: #383838; stroke-width: 1.0;\"/><text fill=\"#000000\" font-family=\"sans-serif\" font-size=\"13\" lengthAdjust=\"spacingAndGlyphs\" textLength=\"7\" x=\"268\" y=\"146.0669\">y</text><!--MD5=[773429595acc43a97b29372a9288fdd0]\n",
       "@startuml\r\n",
       "left to right direction\r\n",
       "skinparam monochrome true\r\n",
       "skinparam classbackgroundcolor white\r\n",
       "skinparam shadowing false\r\n",
       "skinparam wrapWidth 300\r\n",
       "hide circle\r\n",
       "\r\n",
       "package \"PartTest\" as E1   {\r\n",
       "comp usage \"f: A\" as E2  <<(T,blue)part>> {\r\n",
       "}\r\n",
       "comp def \"A\" as E3  <<(T,blue)part def>> {\r\n",
       "- -ports- -\r\n",
       "c: C\r\n",
       "}\r\n",
       "comp usage \"b: B\" as E4  <<(T,blue)part>> {\r\n",
       "}\r\n",
       "comp def \"B\" as E6  <<(T,blue)part def>> {\r\n",
       "- -ports- -\r\n",
       "x: ~C\r\n",
       "}\r\n",
       "package \"P\" as E7   {\r\n",
       "}\r\n",
       "comp usage \"a: A\" as E8  <<(T,blue)part>> {\r\n",
       "}\r\n",
       "comp def \"C\" as E10  <<(T,blue)port def>> {\r\n",
       "- -references- -\r\n",
       "y: A <b>as</b> z2 \r\n",
       "}\r\n",
       "E2 - -:|> E3\r\n",
       "E3 *- - E4\r\n",
       "E4 - -:|> E6\r\n",
       "E6 +- - E7\r\n",
       "E8 - -:|> E3\r\n",
       "E6 *- - E8\r\n",
       "E10 o- - E3 : y\r\n",
       "E10 o- - E6 : y\r\n",
       "}\r\n",
       "@enduml\r\n",
       "\n",
       "PlantUML version 1.2020.13(Sat Jun 13 12:26:38 UTC 2020)\n",
       "(EPL source distribution)\n",
       "Java Runtime: OpenJDK Runtime Environment\n",
       "JVM: OpenJDK 64-Bit Server VM\n",
       "Default Encoding: UTF-8\n",
       "Language: en\n",
       "Country: null\n",
       "--></g></svg>"
      ]
     },
     "execution_count": 21,
     "metadata": {},
     "output_type": "execute_result"
    }
   ],
   "source": [
    "%viz --style=\"LR\" --view=\"Sequence\" \"PartTest\""
   ]
  },
  {
   "cell_type": "code",
   "execution_count": 22,
   "id": "frozen-ceremony",
   "metadata": {
    "execution": {
     "iopub.execute_input": "2021-03-25T16:06:31.755820Z",
     "iopub.status.busy": "2021-03-25T16:06:31.755096Z",
     "iopub.status.idle": "2021-03-25T16:06:32.115148Z",
     "shell.execute_reply": "2021-03-25T16:06:32.113260Z"
    }
   },
   "outputs": [
    {
     "data": {
      "image/svg+xml": [
       "<?xml version=\"1.0\" encoding=\"UTF-8\" standalone=\"no\"?><svg xmlns=\"http://www.w3.org/2000/svg\" xmlns:xlink=\"http://www.w3.org/1999/xlink\" contentScriptType=\"application/ecmascript\" contentStyleType=\"text/css\" height=\"226px\" preserveAspectRatio=\"none\" style=\"width:616px;height:226px;\" version=\"1.1\" viewBox=\"0 0 616 226\" width=\"616px\" zoomAndPan=\"magnify\"><defs/><g><!--MD5=[fbc87193dbaf4d95561dea2c320d4a47]\n",
       "cluster E1--><polygon fill=\"#FFFFFF\" points=\"16,6,89,6,96,28.2969,594,28.2969,594,214,16,214,16,6\" style=\"stroke: #000000; stroke-width: 1.5;\"/><line style=\"stroke: #000000; stroke-width: 1.5;\" x1=\"16\" x2=\"96\" y1=\"28.2969\" y2=\"28.2969\"/><text fill=\"#000000\" font-family=\"sans-serif\" font-size=\"14\" font-weight=\"bold\" lengthAdjust=\"spacingAndGlyphs\" textLength=\"67\" x=\"20\" y=\"20.9951\">PartTest</text><!--MD5=[b4997ac47864f28c2f74865a473b2911]\n",
       "class E2--><rect fill=\"#FFFFFF\" height=\"45.9375\" id=\"E2\" rx=\"10\" ry=\"10\" style=\"stroke: #383838; stroke-width: 1.5;\" width=\"42\" x=\"46\" y=\"41\"/><text fill=\"#000000\" font-family=\"sans-serif\" font-size=\"12\" font-style=\"italic\" lengthAdjust=\"spacingAndGlyphs\" textLength=\"40\" x=\"47\" y=\"57.1387\">«part»</text><text fill=\"#000000\" font-family=\"sans-serif\" font-size=\"12\" lengthAdjust=\"spacingAndGlyphs\" textLength=\"20\" x=\"57\" y=\"71.1074\">f: A</text><line style=\"stroke: #383838; stroke-width: 1.5;\" x1=\"47\" x2=\"87\" y1=\"78.9375\" y2=\"78.9375\"/><!--MD5=[09b614a08d8cba4a07c9adeb5e0fee81]\n",
       "class E3--><rect fill=\"#FFFFFF\" height=\"75.5469\" id=\"E3\" style=\"stroke: #383838; stroke-width: 1.5;\" width=\"66\" x=\"171\" y=\"45\"/><text fill=\"#000000\" font-family=\"sans-serif\" font-size=\"12\" font-style=\"italic\" lengthAdjust=\"spacingAndGlyphs\" textLength=\"64\" x=\"172\" y=\"61.1387\">«part def»</text><text fill=\"#000000\" font-family=\"sans-serif\" font-size=\"12\" lengthAdjust=\"spacingAndGlyphs\" textLength=\"8\" x=\"200\" y=\"75.1074\">A</text><line style=\"stroke: #383838; stroke-width: 1.5;\" x1=\"172\" x2=\"236\" y1=\"82.9375\" y2=\"82.9375\"/><text fill=\"#000000\" font-family=\"sans-serif\" font-size=\"11\" lengthAdjust=\"spacingAndGlyphs\" textLength=\"22\" x=\"177\" y=\"113.9526\">c: C</text><line style=\"stroke: #383838; stroke-width: 1.0;\" x1=\"172\" x2=\"189\" y1=\"97.3398\" y2=\"97.3398\"/><text fill=\"#000000\" font-family=\"sans-serif\" font-size=\"11\" lengthAdjust=\"spacingAndGlyphs\" textLength=\"30\" x=\"189\" y=\"100.6479\">ports</text><line style=\"stroke: #383838; stroke-width: 1.0;\" x1=\"219\" x2=\"236\" y1=\"97.3398\" y2=\"97.3398\"/><!--MD5=[ebbe1d658d1005bcc118a6aa81145e00]\n",
       "class E4--><rect fill=\"#FFFFFF\" height=\"45.9375\" id=\"E4\" rx=\"10\" ry=\"10\" style=\"stroke: #383838; stroke-width: 1.5;\" width=\"42\" x=\"306\" y=\"80\"/><text fill=\"#000000\" font-family=\"sans-serif\" font-size=\"12\" font-style=\"italic\" lengthAdjust=\"spacingAndGlyphs\" textLength=\"40\" x=\"307\" y=\"96.1387\">«part»</text><text fill=\"#000000\" font-family=\"sans-serif\" font-size=\"12\" lengthAdjust=\"spacingAndGlyphs\" textLength=\"24\" x=\"315\" y=\"110.1074\">b: B</text><line style=\"stroke: #383838; stroke-width: 1.5;\" x1=\"307\" x2=\"347\" y1=\"117.9375\" y2=\"117.9375\"/><!--MD5=[60a26617385b1d2d0262a64233df1f8d]\n",
       "class E6--><rect fill=\"#FFFFFF\" height=\"75.5469\" id=\"E6\" style=\"stroke: #383838; stroke-width: 1.5;\" width=\"66\" x=\"409\" y=\"92\"/><text fill=\"#000000\" font-family=\"sans-serif\" font-size=\"12\" font-style=\"italic\" lengthAdjust=\"spacingAndGlyphs\" textLength=\"64\" x=\"410\" y=\"108.1387\">«part def»</text><text fill=\"#000000\" font-family=\"sans-serif\" font-size=\"12\" lengthAdjust=\"spacingAndGlyphs\" textLength=\"8\" x=\"438\" y=\"122.1074\">B</text><line style=\"stroke: #383838; stroke-width: 1.5;\" x1=\"410\" x2=\"474\" y1=\"129.9375\" y2=\"129.9375\"/><text fill=\"#000000\" font-family=\"sans-serif\" font-size=\"11\" lengthAdjust=\"spacingAndGlyphs\" textLength=\"31\" x=\"415\" y=\"160.9526\">x: ~C</text><line style=\"stroke: #383838; stroke-width: 1.0;\" x1=\"410\" x2=\"427\" y1=\"144.3398\" y2=\"144.3398\"/><text fill=\"#000000\" font-family=\"sans-serif\" font-size=\"11\" lengthAdjust=\"spacingAndGlyphs\" textLength=\"30\" x=\"427\" y=\"147.6479\">ports</text><line style=\"stroke: #383838; stroke-width: 1.0;\" x1=\"457\" x2=\"474\" y1=\"144.3398\" y2=\"144.3398\"/><!--MD5=[b9389687b975829384b498ac4b7476b2]\n",
       "class E8--><rect fill=\"#FFFFFF\" height=\"45.9375\" id=\"E8\" rx=\"10\" ry=\"10\" style=\"stroke: #383838; stroke-width: 1.5;\" width=\"42\" x=\"536\" y=\"41\"/><text fill=\"#000000\" font-family=\"sans-serif\" font-size=\"12\" font-style=\"italic\" lengthAdjust=\"spacingAndGlyphs\" textLength=\"40\" x=\"537\" y=\"57.1387\">«part»</text><text fill=\"#000000\" font-family=\"sans-serif\" font-size=\"12\" lengthAdjust=\"spacingAndGlyphs\" textLength=\"24\" x=\"545\" y=\"71.1074\">a: A</text><line style=\"stroke: #383838; stroke-width: 1.5;\" x1=\"537\" x2=\"577\" y1=\"78.9375\" y2=\"78.9375\"/><!--MD5=[96f4274e9e20536e775497830990834d]\n",
       "class E10--><rect fill=\"#FFFFFF\" height=\"75.5469\" id=\"E10\" style=\"stroke: #383838; stroke-width: 1.5;\" width=\"70\" x=\"32\" y=\"122\"/><text fill=\"#000000\" font-family=\"sans-serif\" font-size=\"12\" font-style=\"italic\" lengthAdjust=\"spacingAndGlyphs\" textLength=\"64\" x=\"35\" y=\"138.1387\">«port def»</text><text fill=\"#000000\" font-family=\"sans-serif\" font-size=\"12\" lengthAdjust=\"spacingAndGlyphs\" textLength=\"8\" x=\"63\" y=\"152.1074\">C</text><line style=\"stroke: #383838; stroke-width: 1.5;\" x1=\"33\" x2=\"101\" y1=\"159.9375\" y2=\"159.9375\"/><text fill=\"#000000\" font-family=\"sans-serif\" font-size=\"11\" lengthAdjust=\"spacingAndGlyphs\" textLength=\"21\" x=\"38\" y=\"190.9526\">y: A</text><text fill=\"#000000\" font-family=\"sans-serif\" font-size=\"11\" font-weight=\"bold\" lengthAdjust=\"spacingAndGlyphs\" textLength=\"15\" x=\"63\" y=\"190.9526\">as</text><text fill=\"#000000\" font-family=\"sans-serif\" font-size=\"11\" lengthAdjust=\"spacingAndGlyphs\" textLength=\"12\" x=\"82\" y=\"190.9526\">z2</text><line style=\"stroke: #383838; stroke-width: 1.0;\" x1=\"33\" x2=\"36\" y1=\"174.3398\" y2=\"174.3398\"/><text fill=\"#000000\" font-family=\"sans-serif\" font-size=\"11\" lengthAdjust=\"spacingAndGlyphs\" textLength=\"62\" x=\"36\" y=\"177.6479\">references</text><line style=\"stroke: #383838; stroke-width: 1.0;\" x1=\"98\" x2=\"101\" y1=\"174.3398\" y2=\"174.3398\"/><polygon fill=\"#FFFFFF\" points=\"542,122.5,558,122.5,565,144.7969,572,144.7969,572,175.0938,542,175.0938,542,122.5\" style=\"stroke: #000000; stroke-width: 1.5;\"/><line style=\"stroke: #000000; stroke-width: 1.5;\" x1=\"542\" x2=\"565\" y1=\"144.7969\" y2=\"144.7969\"/><text fill=\"#000000\" font-family=\"sans-serif\" font-size=\"14\" font-weight=\"bold\" lengthAdjust=\"spacingAndGlyphs\" textLength=\"10\" x=\"546\" y=\"137.4951\">P</text><!--MD5=[2720a5a1f2c3fca2055b230370638851]\n",
       "link E2 to E3--><path d=\"M88.21,66.84 C104.77,69.17 128.95,72.58 150.85,75.66 \" fill=\"none\" id=\"E2-&gt;E3\" style=\"stroke: #383838; stroke-width: 1.0;\"/><polygon fill=\"#FFFFFF\" points=\"170.83,78.47,151.0405,82.7566,152.9896,68.893,170.83,78.47\" style=\"stroke: #383838; stroke-width: 1.0;\"/><ellipse cx=\"145.6744\" cy=\"79.9825\" fill=\"#383838\" rx=\"2\" ry=\"2\" style=\"stroke: #383838; stroke-width: 1.0;\"/><ellipse cx=\"147.0667\" cy=\"70.0799\" fill=\"#383838\" rx=\"2\" ry=\"2\" style=\"stroke: #383838; stroke-width: 1.0;\"/><!--MD5=[4672eba38e49728da53d11aeb285b987]\n",
       "reverse link E3 to E4--><path d=\"M249.96,90.43 C269.2,93.61 290.69,97.16 305.9,99.68 \" fill=\"none\" id=\"E3&lt;-E4\" style=\"stroke: #383838; stroke-width: 1.0;\"/><polygon fill=\"#383838\" points=\"237.11,88.31,242.3743,93.2382,248.9481,90.2742,243.6838,85.3461,237.11,88.31\" style=\"stroke: #383838; stroke-width: 1.0;\"/><!--MD5=[79568f1e445c3877b6a54524624ccc7d]\n",
       "link E4 to E6--><path d=\"M348.2,107.83 C359.59,110.55 374.4,114.09 388.82,117.53 \" fill=\"none\" id=\"E4-&gt;E6\" style=\"stroke: #383838; stroke-width: 1.0;\"/><polygon fill=\"#FFFFFF\" points=\"408.57,122.25,388.4621,124.6316,391.7233,111.0167,408.57,122.25\" style=\"stroke: #383838; stroke-width: 1.0;\"/><ellipse cx=\"383.3848\" cy=\"121.3588\" fill=\"#383838\" rx=\"2\" ry=\"2\" style=\"stroke: #383838; stroke-width: 1.0;\"/><ellipse cx=\"385.7142\" cy=\"111.6339\" fill=\"#383838\" rx=\"2\" ry=\"2\" style=\"stroke: #383838; stroke-width: 1.0;\"/><!--MD5=[3f50a3473f1dfb74d3f76443e03635af]\n",
       "reverse link E6 to E7--><path d=\"M489.97,137.9 C508.72,141.05 528.91,144.44 541.96,146.64 \" fill=\"none\" id=\"E6&lt;-E7\" style=\"stroke: #383838; stroke-width: 1.0;\"/><ellipse cx=\"482.9695\" cy=\"136.7151\" fill=\"#FFFFFF\" rx=\"8\" ry=\"8\" style=\"stroke: #383838; stroke-width: 1.0;\"/><line style=\"stroke: #383838; stroke-width: 1.0;\" x1=\"490.859\" x2=\"475.08\" y1=\"138.0401\" y2=\"135.39\"/><line style=\"stroke: #383838; stroke-width: 1.0;\" x1=\"481.6444\" x2=\"484.2946\" y1=\"144.6046\" y2=\"128.8256\"/><!--MD5=[95fa686b5a16158bcdbcaeead89f639b]\n",
       "link E8 to E3--><path d=\"M535.84,62.34 C493.25,59.15 391.06,53.25 306,62 C289.77,63.67 272.31,66.81 256.54,70.16 \" fill=\"none\" id=\"E8-&gt;E3\" style=\"stroke: #383838; stroke-width: 1.0;\"/><polygon fill=\"#FFFFFF\" points=\"237.03,74.59,254.0156,63.5678,257.1066,77.2223,237.03,74.59\" style=\"stroke: #383838; stroke-width: 1.0;\"/><ellipse cx=\"260.0165\" cy=\"64.2599\" fill=\"#383838\" rx=\"2\" ry=\"2\" style=\"stroke: #383838; stroke-width: 1.0;\"/><ellipse cx=\"262.2244\" cy=\"74.0132\" fill=\"#383838\" rx=\"2\" ry=\"2\" style=\"stroke: #383838; stroke-width: 1.0;\"/><!--MD5=[f4cf0736d43fd73c4ef68817c49d37d5]\n",
       "reverse link E6 to E8--><path d=\"M486.52,104.58 C503.54,94.64 522.23,83.72 535.94,75.72 \" fill=\"none\" id=\"E6&lt;-E8\" style=\"stroke: #383838; stroke-width: 1.0;\"/><polygon fill=\"#383838\" points=\"475.08,111.26,482.2784,111.6885,485.4425,105.2086,478.2441,104.7802,475.08,111.26\" style=\"stroke: #383838; stroke-width: 1.0;\"/><!--MD5=[8e04057e7b3cbc0dca4fc78ea351e2da]\n",
       "reverse link E10 to E3--><path d=\"M113.4,134.11 C132.23,123.37 153.63,111.16 170.8,101.36 \" fill=\"none\" id=\"E10&lt;-E3\" style=\"stroke: #383838; stroke-width: 1.0;\"/><polygon fill=\"#FFFFFF\" points=\"102.07,140.57,109.2638,141.0691,112.4914,134.6206,105.2975,134.1215,102.07,140.57\" style=\"stroke: #383838; stroke-width: 1.0;\"/><text fill=\"#000000\" font-family=\"sans-serif\" font-size=\"13\" lengthAdjust=\"spacingAndGlyphs\" textLength=\"7\" x=\"133\" y=\"116.0669\">y</text><!--MD5=[604cbf994c02b74b117f728a71673cea]\n",
       "reverse link E10 to E6--><path d=\"M115.41,158.25 C171.17,155.94 266.47,151.16 348,143 C368.28,140.97 390.93,137.82 408.79,135.13 \" fill=\"none\" id=\"E10&lt;-E6\" style=\"stroke: #383838; stroke-width: 1.0;\"/><polygon fill=\"#FFFFFF\" points=\"102.12,158.79,108.2736,162.5494,114.1106,158.3151,107.957,154.5557,102.12,158.79\" style=\"stroke: #383838; stroke-width: 1.0;\"/><text fill=\"#000000\" font-family=\"sans-serif\" font-size=\"13\" lengthAdjust=\"spacingAndGlyphs\" textLength=\"7\" x=\"268\" y=\"146.0669\">y</text><!--MD5=[773429595acc43a97b29372a9288fdd0]\n",
       "@startuml\r\n",
       "left to right direction\r\n",
       "skinparam monochrome true\r\n",
       "skinparam classbackgroundcolor white\r\n",
       "skinparam shadowing false\r\n",
       "skinparam wrapWidth 300\r\n",
       "hide circle\r\n",
       "\r\n",
       "package \"PartTest\" as E1   {\r\n",
       "comp usage \"f: A\" as E2  <<(T,blue)part>> {\r\n",
       "}\r\n",
       "comp def \"A\" as E3  <<(T,blue)part def>> {\r\n",
       "- -ports- -\r\n",
       "c: C\r\n",
       "}\r\n",
       "comp usage \"b: B\" as E4  <<(T,blue)part>> {\r\n",
       "}\r\n",
       "comp def \"B\" as E6  <<(T,blue)part def>> {\r\n",
       "- -ports- -\r\n",
       "x: ~C\r\n",
       "}\r\n",
       "package \"P\" as E7   {\r\n",
       "}\r\n",
       "comp usage \"a: A\" as E8  <<(T,blue)part>> {\r\n",
       "}\r\n",
       "comp def \"C\" as E10  <<(T,blue)port def>> {\r\n",
       "- -references- -\r\n",
       "y: A <b>as</b> z2 \r\n",
       "}\r\n",
       "E2 - -:|> E3\r\n",
       "E3 *- - E4\r\n",
       "E4 - -:|> E6\r\n",
       "E6 +- - E7\r\n",
       "E8 - -:|> E3\r\n",
       "E6 *- - E8\r\n",
       "E10 o- - E3 : y\r\n",
       "E10 o- - E6 : y\r\n",
       "}\r\n",
       "@enduml\r\n",
       "\n",
       "PlantUML version 1.2020.13(Sat Jun 13 12:26:38 UTC 2020)\n",
       "(EPL source distribution)\n",
       "Java Runtime: OpenJDK Runtime Environment\n",
       "JVM: OpenJDK 64-Bit Server VM\n",
       "Default Encoding: UTF-8\n",
       "Language: en\n",
       "Country: null\n",
       "--></g></svg>"
      ]
     },
     "execution_count": 22,
     "metadata": {},
     "output_type": "execute_result"
    }
   ],
   "source": [
    "%viz --style=\"LR\" --view=\"MIXED\" \"PartTest\""
   ]
  },
  {
   "cell_type": "code",
   "execution_count": 23,
   "id": "hazardous-correction",
   "metadata": {
    "execution": {
     "iopub.execute_input": "2021-03-25T16:06:32.168624Z",
     "iopub.status.busy": "2021-03-25T16:06:32.167978Z",
     "iopub.status.idle": "2021-03-25T16:06:32.520709Z",
     "shell.execute_reply": "2021-03-25T16:06:32.518781Z"
    }
   },
   "outputs": [
    {
     "data": {
      "image/svg+xml": [
       "<?xml version=\"1.0\" encoding=\"UTF-8\" standalone=\"no\"?><svg xmlns=\"http://www.w3.org/2000/svg\" xmlns:xlink=\"http://www.w3.org/1999/xlink\" contentScriptType=\"application/ecmascript\" contentStyleType=\"text/css\" height=\"672px\" preserveAspectRatio=\"none\" style=\"width:217px;height:672px;\" version=\"1.1\" viewBox=\"0 0 217 672\" width=\"217px\" zoomAndPan=\"magnify\"><defs><filter height=\"300%\" id=\"f2b2xj34bt83n\" width=\"300%\" x=\"-1\" y=\"-1\"><feGaussianBlur result=\"blurOut\" stdDeviation=\"2.0\"/><feColorMatrix in=\"blurOut\" result=\"blurOut2\" type=\"matrix\" values=\"0 0 0 0 0 0 0 0 0 0 0 0 0 0 0 0 0 0 .4 0\"/><feOffset dx=\"4.0\" dy=\"4.0\" in=\"blurOut2\" result=\"blurOut3\"/><feBlend in=\"SourceGraphic\" in2=\"blurOut3\" mode=\"normal\"/></filter></defs><g><!--MD5=[fbc87193dbaf4d95561dea2c320d4a47]\n",
       "cluster E1--><polygon fill=\"#FFFFFF\" filter=\"url(#f2b2xj34bt83n)\" points=\"16,6,89,6,96,28.2969,195,28.2969,195,660,16,660,16,6\" style=\"stroke: #000000; stroke-width: 1.5;\"/><line style=\"stroke: #000000; stroke-width: 1.5;\" x1=\"16\" x2=\"96\" y1=\"28.2969\" y2=\"28.2969\"/><text fill=\"#000000\" font-family=\"sans-serif\" font-size=\"14\" font-weight=\"bold\" lengthAdjust=\"spacingAndGlyphs\" textLength=\"67\" x=\"20\" y=\"20.9951\">PartTest</text><!--MD5=[b4997ac47864f28c2f74865a473b2911]\n",
       "class E2--><rect fill=\"#FEFECE\" filter=\"url(#f2b2xj34bt83n)\" height=\"45.9375\" id=\"E2\" rx=\"10\" ry=\"10\" style=\"stroke: #A80036; stroke-width: 1.5;\" width=\"42\" x=\"137\" y=\"56\"/><text fill=\"#000000\" font-family=\"sans-serif\" font-size=\"12\" font-style=\"italic\" lengthAdjust=\"spacingAndGlyphs\" textLength=\"40\" x=\"138\" y=\"72.1387\">«part»</text><text fill=\"#000000\" font-family=\"sans-serif\" font-size=\"12\" lengthAdjust=\"spacingAndGlyphs\" textLength=\"20\" x=\"148\" y=\"86.1074\">f: A</text><line style=\"stroke: #A80036; stroke-width: 1.5;\" x1=\"138\" x2=\"178\" y1=\"93.9375\" y2=\"93.9375\"/><!--MD5=[09b614a08d8cba4a07c9adeb5e0fee81]\n",
       "class E3--><rect fill=\"#FEFECE\" filter=\"url(#f2b2xj34bt83n)\" height=\"75.5469\" id=\"E3\" style=\"stroke: #A80036; stroke-width: 1.5;\" width=\"66\" x=\"108\" y=\"194\"/><text fill=\"#000000\" font-family=\"sans-serif\" font-size=\"12\" font-style=\"italic\" lengthAdjust=\"spacingAndGlyphs\" textLength=\"64\" x=\"109\" y=\"210.1387\">«part def»</text><text fill=\"#000000\" font-family=\"sans-serif\" font-size=\"12\" lengthAdjust=\"spacingAndGlyphs\" textLength=\"8\" x=\"137\" y=\"224.1074\">A</text><line style=\"stroke: #A80036; stroke-width: 1.5;\" x1=\"109\" x2=\"173\" y1=\"231.9375\" y2=\"231.9375\"/><text fill=\"#000000\" font-family=\"sans-serif\" font-size=\"11\" lengthAdjust=\"spacingAndGlyphs\" textLength=\"22\" x=\"114\" y=\"262.9526\">c: C</text><line style=\"stroke: #A80036; stroke-width: 1.0;\" x1=\"109\" x2=\"126\" y1=\"246.3398\" y2=\"246.3398\"/><text fill=\"#000000\" font-family=\"sans-serif\" font-size=\"11\" lengthAdjust=\"spacingAndGlyphs\" textLength=\"30\" x=\"126\" y=\"249.6479\">ports</text><line style=\"stroke: #A80036; stroke-width: 1.0;\" x1=\"156\" x2=\"173\" y1=\"246.3398\" y2=\"246.3398\"/><!--MD5=[ebbe1d658d1005bcc118a6aa81145e00]\n",
       "class E4--><rect fill=\"#FEFECE\" filter=\"url(#f2b2xj34bt83n)\" height=\"45.9375\" id=\"E4\" rx=\"10\" ry=\"10\" style=\"stroke: #A80036; stroke-width: 1.5;\" width=\"42\" x=\"100\" y=\"347\"/><text fill=\"#000000\" font-family=\"sans-serif\" font-size=\"12\" font-style=\"italic\" lengthAdjust=\"spacingAndGlyphs\" textLength=\"40\" x=\"101\" y=\"363.1387\">«part»</text><text fill=\"#000000\" font-family=\"sans-serif\" font-size=\"12\" lengthAdjust=\"spacingAndGlyphs\" textLength=\"24\" x=\"109\" y=\"377.1074\">b: B</text><line style=\"stroke: #A80036; stroke-width: 1.5;\" x1=\"101\" x2=\"141\" y1=\"384.9375\" y2=\"384.9375\"/><!--MD5=[60a26617385b1d2d0262a64233df1f8d]\n",
       "class E6--><rect fill=\"#FEFECE\" filter=\"url(#f2b2xj34bt83n)\" height=\"75.5469\" id=\"E6\" style=\"stroke: #A80036; stroke-width: 1.5;\" width=\"66\" x=\"68\" y=\"454\"/><text fill=\"#000000\" font-family=\"sans-serif\" font-size=\"12\" font-style=\"italic\" lengthAdjust=\"spacingAndGlyphs\" textLength=\"64\" x=\"69\" y=\"470.1387\">«part def»</text><text fill=\"#000000\" font-family=\"sans-serif\" font-size=\"12\" lengthAdjust=\"spacingAndGlyphs\" textLength=\"8\" x=\"97\" y=\"484.1074\">B</text><line style=\"stroke: #A80036; stroke-width: 1.5;\" x1=\"69\" x2=\"133\" y1=\"491.9375\" y2=\"491.9375\"/><text fill=\"#000000\" font-family=\"sans-serif\" font-size=\"11\" lengthAdjust=\"spacingAndGlyphs\" textLength=\"31\" x=\"74\" y=\"522.9526\">x: ~C</text><line style=\"stroke: #A80036; stroke-width: 1.0;\" x1=\"69\" x2=\"86\" y1=\"506.3398\" y2=\"506.3398\"/><text fill=\"#000000\" font-family=\"sans-serif\" font-size=\"11\" lengthAdjust=\"spacingAndGlyphs\" textLength=\"30\" x=\"86\" y=\"509.6479\">ports</text><line style=\"stroke: #A80036; stroke-width: 1.0;\" x1=\"116\" x2=\"133\" y1=\"506.3398\" y2=\"506.3398\"/><!--MD5=[b9389687b975829384b498ac4b7476b2]\n",
       "class E8--><rect fill=\"#FEFECE\" filter=\"url(#f2b2xj34bt83n)\" height=\"45.9375\" id=\"E8\" rx=\"10\" ry=\"10\" style=\"stroke: #A80036; stroke-width: 1.5;\" width=\"42\" x=\"137\" y=\"594.5\"/><text fill=\"#000000\" font-family=\"sans-serif\" font-size=\"12\" font-style=\"italic\" lengthAdjust=\"spacingAndGlyphs\" textLength=\"40\" x=\"138\" y=\"610.6387\">«part»</text><text fill=\"#000000\" font-family=\"sans-serif\" font-size=\"12\" lengthAdjust=\"spacingAndGlyphs\" textLength=\"24\" x=\"146\" y=\"624.6074\">a: A</text><line style=\"stroke: #A80036; stroke-width: 1.5;\" x1=\"138\" x2=\"178\" y1=\"632.4375\" y2=\"632.4375\"/><!--MD5=[96f4274e9e20536e775497830990834d]\n",
       "class E10--><rect fill=\"#FEFECE\" filter=\"url(#f2b2xj34bt83n)\" height=\"75.5469\" id=\"E10\" style=\"stroke: #A80036; stroke-width: 1.5;\" width=\"70\" x=\"32\" y=\"41\"/><text fill=\"#000000\" font-family=\"sans-serif\" font-size=\"12\" font-style=\"italic\" lengthAdjust=\"spacingAndGlyphs\" textLength=\"64\" x=\"35\" y=\"57.1387\">«port def»</text><text fill=\"#000000\" font-family=\"sans-serif\" font-size=\"12\" lengthAdjust=\"spacingAndGlyphs\" textLength=\"8\" x=\"63\" y=\"71.1074\">C</text><line style=\"stroke: #A80036; stroke-width: 1.5;\" x1=\"33\" x2=\"101\" y1=\"78.9375\" y2=\"78.9375\"/><text fill=\"#000000\" font-family=\"sans-serif\" font-size=\"11\" lengthAdjust=\"spacingAndGlyphs\" textLength=\"21\" x=\"38\" y=\"109.9526\">y: A</text><text fill=\"#000000\" font-family=\"sans-serif\" font-size=\"11\" font-weight=\"bold\" lengthAdjust=\"spacingAndGlyphs\" textLength=\"15\" x=\"63\" y=\"109.9526\">as</text><text fill=\"#000000\" font-family=\"sans-serif\" font-size=\"11\" lengthAdjust=\"spacingAndGlyphs\" textLength=\"12\" x=\"82\" y=\"109.9526\">z2</text><line style=\"stroke: #A80036; stroke-width: 1.0;\" x1=\"33\" x2=\"36\" y1=\"93.3398\" y2=\"93.3398\"/><text fill=\"#000000\" font-family=\"sans-serif\" font-size=\"11\" lengthAdjust=\"spacingAndGlyphs\" textLength=\"62\" x=\"36\" y=\"96.6479\">references</text><line style=\"stroke: #A80036; stroke-width: 1.0;\" x1=\"98\" x2=\"101\" y1=\"93.3398\" y2=\"93.3398\"/><polygon fill=\"#FFFFFF\" filter=\"url(#f2b2xj34bt83n)\" points=\"72,591,88,591,95,613.2969,102,613.2969,102,643.5938,72,643.5938,72,591\" style=\"stroke: #000000; stroke-width: 1.5;\"/><line style=\"stroke: #000000; stroke-width: 1.5;\" x1=\"72\" x2=\"95\" y1=\"613.2969\" y2=\"613.2969\"/><text fill=\"#000000\" font-family=\"sans-serif\" font-size=\"14\" font-weight=\"bold\" lengthAdjust=\"spacingAndGlyphs\" textLength=\"10\" x=\"76\" y=\"605.9951\">P</text><!--MD5=[2720a5a1f2c3fca2055b230370638851]\n",
       "link E2 to E3--><path d=\"M155.49,102.28 C153.37,121.12 150.24,148.97 147.42,173.94 \" fill=\"none\" id=\"E2-&gt;E3\" style=\"stroke: #A80036; stroke-width: 1.0;\"/><polygon fill=\"#FFFFFF\" points=\"145.17,193.98,140.3312,174.3182,154.244,175.8785,145.17,193.98\" style=\"stroke: #A80036; stroke-width: 1.0;\"/><ellipse cx=\"142.954\" cy=\"168.8766\" fill=\"#A80036\" rx=\"2\" ry=\"2\" style=\"stroke: #A80036; stroke-width: 1.0;\"/><ellipse cx=\"152.8917\" cy=\"169.9911\" fill=\"#A80036\" rx=\"2\" ry=\"2\" style=\"stroke: #A80036; stroke-width: 1.0;\"/><!--MD5=[4672eba38e49728da53d11aeb285b987]\n",
       "reverse link E3 to E4--><path d=\"M133.6,283.33 C130.39,305.16 126.79,329.6 124.27,346.77 \" fill=\"none\" id=\"E3&lt;-E4\" style=\"stroke: #A80036; stroke-width: 1.0;\"/><polygon fill=\"#A80036\" points=\"135.53,270.16,130.6958,275.5108,133.7757,282.0311,138.6099,276.6803,135.53,270.16\" style=\"stroke: #A80036; stroke-width: 1.0;\"/><!--MD5=[79568f1e445c3877b6a54524624ccc7d]\n",
       "link E4 to E6--><path d=\"M117.33,393.01 C115.42,404.51 112.97,419.17 110.56,433.62 \" fill=\"none\" id=\"E4-&gt;E6\" style=\"stroke: #A80036; stroke-width: 1.0;\"/><polygon fill=\"#FFFFFF\" points=\"107.24,453.57,103.4565,433.6782,117.2663,435.9781,107.24,453.57\" style=\"stroke: #A80036; stroke-width: 1.0;\"/><ellipse cx=\"106.3657\" cy=\"428.3842\" fill=\"#A80036\" rx=\"2\" ry=\"2\" style=\"stroke: #A80036; stroke-width: 1.0;\"/><ellipse cx=\"116.2299\" cy=\"430.027\" fill=\"#A80036\" rx=\"2\" ry=\"2\" style=\"stroke: #A80036; stroke-width: 1.0;\"/><!--MD5=[3f50a3473f1dfb74d3f76443e03635af]\n",
       "reverse link E6 to E7--><path d=\"M95.07,545.35 C93.28,561.08 91.4,577.65 89.91,590.83 \" fill=\"none\" id=\"E6&lt;-E7\" style=\"stroke: #A80036; stroke-width: 1.0;\"/><ellipse cx=\"95.9015\" cy=\"537.9994\" fill=\"#FFFFFF\" rx=\"8\" ry=\"8\" style=\"stroke: #A80036; stroke-width: 1.0;\"/><line style=\"stroke: #A80036; stroke-width: 1.0;\" x1=\"95.003\" x2=\"96.8\" y1=\"545.9488\" y2=\"530.05\"/><line style=\"stroke: #A80036; stroke-width: 1.0;\" x1=\"87.9521\" x2=\"103.8509\" y1=\"537.1009\" y2=\"538.8979\"/><!--MD5=[95fa686b5a16158bcdbcaeead89f639b]\n",
       "link E8 to E3--><path d=\"M159.5,594.44 C162.35,548.38 167.58,438.63 160,347 C158.45,328.29 155.5,308.02 152.37,289.84 \" fill=\"none\" id=\"E8-&gt;E3\" style=\"stroke: #A80036; stroke-width: 1.0;\"/><polygon fill=\"#FFFFFF\" points=\"148.76,270.03,159.0537,287.4667,145.2807,289.9773,148.76,270.03\" style=\"stroke: #A80036; stroke-width: 1.0;\"/><ellipse cx=\"158.1083\" cy=\"293.433\" fill=\"#A80036\" rx=\"2\" ry=\"2\" style=\"stroke: #A80036; stroke-width: 1.0;\"/><ellipse cx=\"148.2704\" cy=\"295.2262\" fill=\"#A80036\" rx=\"2\" ry=\"2\" style=\"stroke: #A80036; stroke-width: 1.0;\"/><!--MD5=[f4cf0736d43fd73c4ef68817c49d37d5]\n",
       "reverse link E6 to E8--><path d=\"M123.59,541.94 C131.93,560.02 140.98,579.62 147.7,594.19 \" fill=\"none\" id=\"E6&lt;-E8\" style=\"stroke: #A80036; stroke-width: 1.0;\"/><polygon fill=\"#A80036\" points=\"118.1,530.05,116.9809,537.1737,123.1262,540.9467,124.2453,533.8229,118.1,530.05\" style=\"stroke: #A80036; stroke-width: 1.0;\"/><!--MD5=[8e04057e7b3cbc0dca4fc78ea351e2da]\n",
       "reverse link E10 to E3--><path d=\"M91.15,129.28 C101.44,150.28 113.25,174.38 122.79,193.84 \" fill=\"none\" id=\"E10&lt;-E3\" style=\"stroke: #A80036; stroke-width: 1.0;\"/><polygon fill=\"#FFFFFF\" points=\"85.29,117.33,84.3358,124.4777,90.5667,128.1076,91.5209,120.9599,85.29,117.33\" style=\"stroke: #A80036; stroke-width: 1.0;\"/><text fill=\"#000000\" font-family=\"sans-serif\" font-size=\"13\" lengthAdjust=\"spacingAndGlyphs\" textLength=\"7\" x=\"107\" y=\"160.0669\">y</text><!--MD5=[604cbf994c02b74b117f728a71673cea]\n",
       "reverse link E10 to E6--><path d=\"M67.56,130.48 C68.7,192.49 72.22,300.8 83,393 C85.37,413.27 89.38,435.68 93.01,453.94 \" fill=\"none\" id=\"E10&lt;-E6\" style=\"stroke: #A80036; stroke-width: 1.0;\"/><polygon fill=\"#FFFFFF\" points=\"67.33,117.23,63.4361,123.2994,67.541,129.2281,71.4349,123.1588,67.33,117.23\" style=\"stroke: #A80036; stroke-width: 1.0;\"/><text fill=\"#000000\" font-family=\"sans-serif\" font-size=\"13\" lengthAdjust=\"spacingAndGlyphs\" textLength=\"7\" x=\"76\" y=\"313.0669\">y</text><!--MD5=[d4c8ce5b41761937f9436e6760716690]\n",
       "@startuml\r\n",
       "skinparam wrapWidth 300\r\n",
       "hide circle\r\n",
       "\r\n",
       "package \"PartTest\" as E1   {\r\n",
       "comp usage \"f: A\" as E2  <<(T,blue)part>> {\r\n",
       "}\r\n",
       "comp def \"A\" as E3  <<(T,blue)part def>> {\r\n",
       "- -ports- -\r\n",
       "c: C\r\n",
       "}\r\n",
       "comp usage \"b: B\" as E4  <<(T,blue)part>> {\r\n",
       "}\r\n",
       "comp def \"B\" as E6  <<(T,blue)part def>> {\r\n",
       "- -ports- -\r\n",
       "x: ~C\r\n",
       "}\r\n",
       "package \"P\" as E7   {\r\n",
       "}\r\n",
       "comp usage \"a: A\" as E8  <<(T,blue)part>> {\r\n",
       "}\r\n",
       "comp def \"C\" as E10  <<(T,blue)port def>> {\r\n",
       "- -references- -\r\n",
       "y: A <b>as</b> z2 \r\n",
       "}\r\n",
       "E2 - -:|> E3\r\n",
       "E3 *- - E4\r\n",
       "E4 - -:|> E6\r\n",
       "E6 +- - E7\r\n",
       "E8 - -:|> E3\r\n",
       "E6 *- - E8\r\n",
       "E10 o- - E3 : y\r\n",
       "E10 o- - E6 : y\r\n",
       "}\r\n",
       "@enduml\r\n",
       "\n",
       "PlantUML version 1.2020.13(Sat Jun 13 12:26:38 UTC 2020)\n",
       "(EPL source distribution)\n",
       "Java Runtime: OpenJDK Runtime Environment\n",
       "JVM: OpenJDK 64-Bit Server VM\n",
       "Default Encoding: UTF-8\n",
       "Language: en\n",
       "Country: null\n",
       "--></g></svg>"
      ]
     },
     "execution_count": 23,
     "metadata": {},
     "output_type": "execute_result"
    }
   ],
   "source": [
    "%viz --style=\"STDCOLOR\" --view=\"Default\" \"PartTest\""
   ]
  },
  {
   "cell_type": "code",
   "execution_count": 24,
   "id": "billion-minister",
   "metadata": {
    "execution": {
     "iopub.execute_input": "2021-03-25T16:06:32.571338Z",
     "iopub.status.busy": "2021-03-25T16:06:32.570781Z",
     "iopub.status.idle": "2021-03-25T16:06:32.917092Z",
     "shell.execute_reply": "2021-03-25T16:06:32.915763Z"
    }
   },
   "outputs": [
    {
     "data": {
      "image/svg+xml": [
       "<?xml version=\"1.0\" encoding=\"UTF-8\" standalone=\"no\"?><svg xmlns=\"http://www.w3.org/2000/svg\" xmlns:xlink=\"http://www.w3.org/1999/xlink\" contentScriptType=\"application/ecmascript\" contentStyleType=\"text/css\" height=\"672px\" preserveAspectRatio=\"none\" style=\"width:217px;height:672px;\" version=\"1.1\" viewBox=\"0 0 217 672\" width=\"217px\" zoomAndPan=\"magnify\"><defs><filter height=\"300%\" id=\"f2b2xj34bt83n\" width=\"300%\" x=\"-1\" y=\"-1\"><feGaussianBlur result=\"blurOut\" stdDeviation=\"2.0\"/><feColorMatrix in=\"blurOut\" result=\"blurOut2\" type=\"matrix\" values=\"0 0 0 0 0 0 0 0 0 0 0 0 0 0 0 0 0 0 .4 0\"/><feOffset dx=\"4.0\" dy=\"4.0\" in=\"blurOut2\" result=\"blurOut3\"/><feBlend in=\"SourceGraphic\" in2=\"blurOut3\" mode=\"normal\"/></filter></defs><g><!--MD5=[fbc87193dbaf4d95561dea2c320d4a47]\n",
       "cluster E1--><polygon fill=\"#FFFFFF\" filter=\"url(#f2b2xj34bt83n)\" points=\"16,6,89,6,96,28.2969,195,28.2969,195,660,16,660,16,6\" style=\"stroke: #000000; stroke-width: 1.5;\"/><line style=\"stroke: #000000; stroke-width: 1.5;\" x1=\"16\" x2=\"96\" y1=\"28.2969\" y2=\"28.2969\"/><text fill=\"#000000\" font-family=\"sans-serif\" font-size=\"14\" font-weight=\"bold\" lengthAdjust=\"spacingAndGlyphs\" textLength=\"67\" x=\"20\" y=\"20.9951\">PartTest</text><!--MD5=[b4997ac47864f28c2f74865a473b2911]\n",
       "class E2--><rect fill=\"#FEFECE\" filter=\"url(#f2b2xj34bt83n)\" height=\"45.9375\" id=\"E2\" rx=\"10\" ry=\"10\" style=\"stroke: #A80036; stroke-width: 1.5;\" width=\"42\" x=\"137\" y=\"56\"/><text fill=\"#000000\" font-family=\"sans-serif\" font-size=\"12\" font-style=\"italic\" lengthAdjust=\"spacingAndGlyphs\" textLength=\"40\" x=\"138\" y=\"72.1387\">«part»</text><text fill=\"#000000\" font-family=\"sans-serif\" font-size=\"12\" lengthAdjust=\"spacingAndGlyphs\" textLength=\"20\" x=\"148\" y=\"86.1074\">f: A</text><line style=\"stroke: #A80036; stroke-width: 1.5;\" x1=\"138\" x2=\"178\" y1=\"93.9375\" y2=\"93.9375\"/><!--MD5=[09b614a08d8cba4a07c9adeb5e0fee81]\n",
       "class E3--><rect fill=\"#FEFECE\" filter=\"url(#f2b2xj34bt83n)\" height=\"75.5469\" id=\"E3\" style=\"stroke: #A80036; stroke-width: 1.5;\" width=\"66\" x=\"108\" y=\"194\"/><text fill=\"#000000\" font-family=\"sans-serif\" font-size=\"12\" font-style=\"italic\" lengthAdjust=\"spacingAndGlyphs\" textLength=\"64\" x=\"109\" y=\"210.1387\">«part def»</text><text fill=\"#000000\" font-family=\"sans-serif\" font-size=\"12\" lengthAdjust=\"spacingAndGlyphs\" textLength=\"8\" x=\"137\" y=\"224.1074\">A</text><line style=\"stroke: #A80036; stroke-width: 1.5;\" x1=\"109\" x2=\"173\" y1=\"231.9375\" y2=\"231.9375\"/><text fill=\"#000000\" font-family=\"sans-serif\" font-size=\"11\" lengthAdjust=\"spacingAndGlyphs\" textLength=\"22\" x=\"114\" y=\"262.9526\">c: C</text><line style=\"stroke: #A80036; stroke-width: 1.0;\" x1=\"109\" x2=\"126\" y1=\"246.3398\" y2=\"246.3398\"/><text fill=\"#000000\" font-family=\"sans-serif\" font-size=\"11\" lengthAdjust=\"spacingAndGlyphs\" textLength=\"30\" x=\"126\" y=\"249.6479\">ports</text><line style=\"stroke: #A80036; stroke-width: 1.0;\" x1=\"156\" x2=\"173\" y1=\"246.3398\" y2=\"246.3398\"/><!--MD5=[ebbe1d658d1005bcc118a6aa81145e00]\n",
       "class E4--><rect fill=\"#FEFECE\" filter=\"url(#f2b2xj34bt83n)\" height=\"45.9375\" id=\"E4\" rx=\"10\" ry=\"10\" style=\"stroke: #A80036; stroke-width: 1.5;\" width=\"42\" x=\"100\" y=\"347\"/><text fill=\"#000000\" font-family=\"sans-serif\" font-size=\"12\" font-style=\"italic\" lengthAdjust=\"spacingAndGlyphs\" textLength=\"40\" x=\"101\" y=\"363.1387\">«part»</text><text fill=\"#000000\" font-family=\"sans-serif\" font-size=\"12\" lengthAdjust=\"spacingAndGlyphs\" textLength=\"24\" x=\"109\" y=\"377.1074\">b: B</text><line style=\"stroke: #A80036; stroke-width: 1.5;\" x1=\"101\" x2=\"141\" y1=\"384.9375\" y2=\"384.9375\"/><!--MD5=[60a26617385b1d2d0262a64233df1f8d]\n",
       "class E6--><rect fill=\"#FEFECE\" filter=\"url(#f2b2xj34bt83n)\" height=\"75.5469\" id=\"E6\" style=\"stroke: #A80036; stroke-width: 1.5;\" width=\"66\" x=\"68\" y=\"454\"/><text fill=\"#000000\" font-family=\"sans-serif\" font-size=\"12\" font-style=\"italic\" lengthAdjust=\"spacingAndGlyphs\" textLength=\"64\" x=\"69\" y=\"470.1387\">«part def»</text><text fill=\"#000000\" font-family=\"sans-serif\" font-size=\"12\" lengthAdjust=\"spacingAndGlyphs\" textLength=\"8\" x=\"97\" y=\"484.1074\">B</text><line style=\"stroke: #A80036; stroke-width: 1.5;\" x1=\"69\" x2=\"133\" y1=\"491.9375\" y2=\"491.9375\"/><text fill=\"#000000\" font-family=\"sans-serif\" font-size=\"11\" lengthAdjust=\"spacingAndGlyphs\" textLength=\"31\" x=\"74\" y=\"522.9526\">x: ~C</text><line style=\"stroke: #A80036; stroke-width: 1.0;\" x1=\"69\" x2=\"86\" y1=\"506.3398\" y2=\"506.3398\"/><text fill=\"#000000\" font-family=\"sans-serif\" font-size=\"11\" lengthAdjust=\"spacingAndGlyphs\" textLength=\"30\" x=\"86\" y=\"509.6479\">ports</text><line style=\"stroke: #A80036; stroke-width: 1.0;\" x1=\"116\" x2=\"133\" y1=\"506.3398\" y2=\"506.3398\"/><!--MD5=[b9389687b975829384b498ac4b7476b2]\n",
       "class E8--><rect fill=\"#FEFECE\" filter=\"url(#f2b2xj34bt83n)\" height=\"45.9375\" id=\"E8\" rx=\"10\" ry=\"10\" style=\"stroke: #A80036; stroke-width: 1.5;\" width=\"42\" x=\"137\" y=\"594.5\"/><text fill=\"#000000\" font-family=\"sans-serif\" font-size=\"12\" font-style=\"italic\" lengthAdjust=\"spacingAndGlyphs\" textLength=\"40\" x=\"138\" y=\"610.6387\">«part»</text><text fill=\"#000000\" font-family=\"sans-serif\" font-size=\"12\" lengthAdjust=\"spacingAndGlyphs\" textLength=\"24\" x=\"146\" y=\"624.6074\">a: A</text><line style=\"stroke: #A80036; stroke-width: 1.5;\" x1=\"138\" x2=\"178\" y1=\"632.4375\" y2=\"632.4375\"/><!--MD5=[96f4274e9e20536e775497830990834d]\n",
       "class E10--><rect fill=\"#FEFECE\" filter=\"url(#f2b2xj34bt83n)\" height=\"75.5469\" id=\"E10\" style=\"stroke: #A80036; stroke-width: 1.5;\" width=\"70\" x=\"32\" y=\"41\"/><text fill=\"#000000\" font-family=\"sans-serif\" font-size=\"12\" font-style=\"italic\" lengthAdjust=\"spacingAndGlyphs\" textLength=\"64\" x=\"35\" y=\"57.1387\">«port def»</text><text fill=\"#000000\" font-family=\"sans-serif\" font-size=\"12\" lengthAdjust=\"spacingAndGlyphs\" textLength=\"8\" x=\"63\" y=\"71.1074\">C</text><line style=\"stroke: #A80036; stroke-width: 1.5;\" x1=\"33\" x2=\"101\" y1=\"78.9375\" y2=\"78.9375\"/><text fill=\"#000000\" font-family=\"sans-serif\" font-size=\"11\" lengthAdjust=\"spacingAndGlyphs\" textLength=\"21\" x=\"38\" y=\"109.9526\">y: A</text><text fill=\"#000000\" font-family=\"sans-serif\" font-size=\"11\" font-weight=\"bold\" lengthAdjust=\"spacingAndGlyphs\" textLength=\"15\" x=\"63\" y=\"109.9526\">as</text><text fill=\"#000000\" font-family=\"sans-serif\" font-size=\"11\" lengthAdjust=\"spacingAndGlyphs\" textLength=\"12\" x=\"82\" y=\"109.9526\">z2</text><line style=\"stroke: #A80036; stroke-width: 1.0;\" x1=\"33\" x2=\"36\" y1=\"93.3398\" y2=\"93.3398\"/><text fill=\"#000000\" font-family=\"sans-serif\" font-size=\"11\" lengthAdjust=\"spacingAndGlyphs\" textLength=\"62\" x=\"36\" y=\"96.6479\">references</text><line style=\"stroke: #A80036; stroke-width: 1.0;\" x1=\"98\" x2=\"101\" y1=\"93.3398\" y2=\"93.3398\"/><polygon fill=\"#FFFFFF\" filter=\"url(#f2b2xj34bt83n)\" points=\"72,591,88,591,95,613.2969,102,613.2969,102,643.5938,72,643.5938,72,591\" style=\"stroke: #000000; stroke-width: 1.5;\"/><line style=\"stroke: #000000; stroke-width: 1.5;\" x1=\"72\" x2=\"95\" y1=\"613.2969\" y2=\"613.2969\"/><text fill=\"#000000\" font-family=\"sans-serif\" font-size=\"14\" font-weight=\"bold\" lengthAdjust=\"spacingAndGlyphs\" textLength=\"10\" x=\"76\" y=\"605.9951\">P</text><!--MD5=[2720a5a1f2c3fca2055b230370638851]\n",
       "link E2 to E3--><path d=\"M155.49,102.28 C153.37,121.12 150.24,148.97 147.42,173.94 \" fill=\"none\" id=\"E2-&gt;E3\" style=\"stroke: #A80036; stroke-width: 1.0;\"/><polygon fill=\"#FFFFFF\" points=\"145.17,193.98,140.3312,174.3182,154.244,175.8785,145.17,193.98\" style=\"stroke: #A80036; stroke-width: 1.0;\"/><ellipse cx=\"142.954\" cy=\"168.8766\" fill=\"#A80036\" rx=\"2\" ry=\"2\" style=\"stroke: #A80036; stroke-width: 1.0;\"/><ellipse cx=\"152.8917\" cy=\"169.9911\" fill=\"#A80036\" rx=\"2\" ry=\"2\" style=\"stroke: #A80036; stroke-width: 1.0;\"/><!--MD5=[4672eba38e49728da53d11aeb285b987]\n",
       "reverse link E3 to E4--><path d=\"M133.6,283.33 C130.39,305.16 126.79,329.6 124.27,346.77 \" fill=\"none\" id=\"E3&lt;-E4\" style=\"stroke: #A80036; stroke-width: 1.0;\"/><polygon fill=\"#A80036\" points=\"135.53,270.16,130.6958,275.5108,133.7757,282.0311,138.6099,276.6803,135.53,270.16\" style=\"stroke: #A80036; stroke-width: 1.0;\"/><!--MD5=[79568f1e445c3877b6a54524624ccc7d]\n",
       "link E4 to E6--><path d=\"M117.33,393.01 C115.42,404.51 112.97,419.17 110.56,433.62 \" fill=\"none\" id=\"E4-&gt;E6\" style=\"stroke: #A80036; stroke-width: 1.0;\"/><polygon fill=\"#FFFFFF\" points=\"107.24,453.57,103.4565,433.6782,117.2663,435.9781,107.24,453.57\" style=\"stroke: #A80036; stroke-width: 1.0;\"/><ellipse cx=\"106.3657\" cy=\"428.3842\" fill=\"#A80036\" rx=\"2\" ry=\"2\" style=\"stroke: #A80036; stroke-width: 1.0;\"/><ellipse cx=\"116.2299\" cy=\"430.027\" fill=\"#A80036\" rx=\"2\" ry=\"2\" style=\"stroke: #A80036; stroke-width: 1.0;\"/><!--MD5=[3f50a3473f1dfb74d3f76443e03635af]\n",
       "reverse link E6 to E7--><path d=\"M95.07,545.35 C93.28,561.08 91.4,577.65 89.91,590.83 \" fill=\"none\" id=\"E6&lt;-E7\" style=\"stroke: #A80036; stroke-width: 1.0;\"/><ellipse cx=\"95.9015\" cy=\"537.9994\" fill=\"#FFFFFF\" rx=\"8\" ry=\"8\" style=\"stroke: #A80036; stroke-width: 1.0;\"/><line style=\"stroke: #A80036; stroke-width: 1.0;\" x1=\"95.003\" x2=\"96.8\" y1=\"545.9488\" y2=\"530.05\"/><line style=\"stroke: #A80036; stroke-width: 1.0;\" x1=\"87.9521\" x2=\"103.8509\" y1=\"537.1009\" y2=\"538.8979\"/><!--MD5=[95fa686b5a16158bcdbcaeead89f639b]\n",
       "link E8 to E3--><path d=\"M159.5,594.44 C162.35,548.38 167.58,438.63 160,347 C158.45,328.29 155.5,308.02 152.37,289.84 \" fill=\"none\" id=\"E8-&gt;E3\" style=\"stroke: #A80036; stroke-width: 1.0;\"/><polygon fill=\"#FFFFFF\" points=\"148.76,270.03,159.0537,287.4667,145.2807,289.9773,148.76,270.03\" style=\"stroke: #A80036; stroke-width: 1.0;\"/><ellipse cx=\"158.1083\" cy=\"293.433\" fill=\"#A80036\" rx=\"2\" ry=\"2\" style=\"stroke: #A80036; stroke-width: 1.0;\"/><ellipse cx=\"148.2704\" cy=\"295.2262\" fill=\"#A80036\" rx=\"2\" ry=\"2\" style=\"stroke: #A80036; stroke-width: 1.0;\"/><!--MD5=[f4cf0736d43fd73c4ef68817c49d37d5]\n",
       "reverse link E6 to E8--><path d=\"M123.59,541.94 C131.93,560.02 140.98,579.62 147.7,594.19 \" fill=\"none\" id=\"E6&lt;-E8\" style=\"stroke: #A80036; stroke-width: 1.0;\"/><polygon fill=\"#A80036\" points=\"118.1,530.05,116.9809,537.1737,123.1262,540.9467,124.2453,533.8229,118.1,530.05\" style=\"stroke: #A80036; stroke-width: 1.0;\"/><!--MD5=[8e04057e7b3cbc0dca4fc78ea351e2da]\n",
       "reverse link E10 to E3--><path d=\"M91.15,129.28 C101.44,150.28 113.25,174.38 122.79,193.84 \" fill=\"none\" id=\"E10&lt;-E3\" style=\"stroke: #A80036; stroke-width: 1.0;\"/><polygon fill=\"#FFFFFF\" points=\"85.29,117.33,84.3358,124.4777,90.5667,128.1076,91.5209,120.9599,85.29,117.33\" style=\"stroke: #A80036; stroke-width: 1.0;\"/><text fill=\"#000000\" font-family=\"sans-serif\" font-size=\"13\" lengthAdjust=\"spacingAndGlyphs\" textLength=\"7\" x=\"107\" y=\"160.0669\">y</text><!--MD5=[604cbf994c02b74b117f728a71673cea]\n",
       "reverse link E10 to E6--><path d=\"M67.56,130.48 C68.7,192.49 72.22,300.8 83,393 C85.37,413.27 89.38,435.68 93.01,453.94 \" fill=\"none\" id=\"E10&lt;-E6\" style=\"stroke: #A80036; stroke-width: 1.0;\"/><polygon fill=\"#FFFFFF\" points=\"67.33,117.23,63.4361,123.2994,67.541,129.2281,71.4349,123.1588,67.33,117.23\" style=\"stroke: #A80036; stroke-width: 1.0;\"/><text fill=\"#000000\" font-family=\"sans-serif\" font-size=\"13\" lengthAdjust=\"spacingAndGlyphs\" textLength=\"7\" x=\"76\" y=\"313.0669\">y</text><!--MD5=[d4c8ce5b41761937f9436e6760716690]\n",
       "@startuml\r\n",
       "skinparam wrapWidth 300\r\n",
       "hide circle\r\n",
       "\r\n",
       "package \"PartTest\" as E1   {\r\n",
       "comp usage \"f: A\" as E2  <<(T,blue)part>> {\r\n",
       "}\r\n",
       "comp def \"A\" as E3  <<(T,blue)part def>> {\r\n",
       "- -ports- -\r\n",
       "c: C\r\n",
       "}\r\n",
       "comp usage \"b: B\" as E4  <<(T,blue)part>> {\r\n",
       "}\r\n",
       "comp def \"B\" as E6  <<(T,blue)part def>> {\r\n",
       "- -ports- -\r\n",
       "x: ~C\r\n",
       "}\r\n",
       "package \"P\" as E7   {\r\n",
       "}\r\n",
       "comp usage \"a: A\" as E8  <<(T,blue)part>> {\r\n",
       "}\r\n",
       "comp def \"C\" as E10  <<(T,blue)port def>> {\r\n",
       "- -references- -\r\n",
       "y: A <b>as</b> z2 \r\n",
       "}\r\n",
       "E2 - -:|> E3\r\n",
       "E3 *- - E4\r\n",
       "E4 - -:|> E6\r\n",
       "E6 +- - E7\r\n",
       "E8 - -:|> E3\r\n",
       "E6 *- - E8\r\n",
       "E10 o- - E3 : y\r\n",
       "E10 o- - E6 : y\r\n",
       "}\r\n",
       "@enduml\r\n",
       "\n",
       "PlantUML version 1.2020.13(Sat Jun 13 12:26:38 UTC 2020)\n",
       "(EPL source distribution)\n",
       "Java Runtime: OpenJDK Runtime Environment\n",
       "JVM: OpenJDK 64-Bit Server VM\n",
       "Default Encoding: UTF-8\n",
       "Language: en\n",
       "Country: null\n",
       "--></g></svg>"
      ]
     },
     "execution_count": 24,
     "metadata": {},
     "output_type": "execute_result"
    }
   ],
   "source": [
    "%viz --style=\"STDCOLOR\" --view=\"Tree\" \"PartTest\""
   ]
  },
  {
   "cell_type": "code",
   "execution_count": 25,
   "id": "marked-latest",
   "metadata": {
    "execution": {
     "iopub.execute_input": "2021-03-25T16:06:32.969466Z",
     "iopub.status.busy": "2021-03-25T16:06:32.968796Z",
     "iopub.status.idle": "2021-03-25T16:06:32.972422Z",
     "shell.execute_reply": "2021-03-25T16:06:32.973056Z"
    }
   },
   "outputs": [
    {
     "data": {
      "text/plain": [
       "java.lang.IllegalArgumentException: Invalid View: State View candidates are: Default Tree StateMachine Interconnection Activity Sequence MIXED \n",
       "\tat org.omg.sysml.plantuml.SysML2PlantUMLSvc.setView(SysML2PlantUMLSvc.java:63)\n",
       "\tat org.omg.sysml.interactive.SysMLInteractive.viz(SysMLInteractive.java:286)\n",
       "\tat org.omg.sysml.jupyter.kernel.magic.Viz.viz(Viz.java:47)\n",
       "\tat jdk.internal.reflect.GeneratedMethodAccessor9.invoke(Unknown Source)\n",
       "\tat java.base/jdk.internal.reflect.DelegatingMethodAccessorImpl.invoke(DelegatingMethodAccessorImpl.java:43)\n",
       "\tat java.base/java.lang.reflect.Method.invoke(Method.java:568)\n",
       "\tat io.github.spencerpark.jupyter.kernel.magic.registry.Magics.invoke(Magics.java:89)\n",
       "\tat io.github.spencerpark.jupyter.kernel.magic.registry.Magics.access$000(Magics.java:8)\n",
       "\tat io.github.spencerpark.jupyter.kernel.magic.registry.Magics$LineReflectionMagicFunction.execute(Magics.java:149)\n",
       "\tat io.github.spencerpark.jupyter.kernel.magic.registry.Magics.applyLineMagic(Magics.java:26)\n",
       "\tat org.omg.sysml.jupyter.kernel.SysMLKernel.eval(SysMLKernel.java:76)\n",
       "\tat io.github.spencerpark.jupyter.kernel.BaseKernel.handleExecuteRequest(BaseKernel.java:334)\n",
       "\tat io.github.spencerpark.jupyter.channels.ShellChannel.lambda$bind$0(ShellChannel.java:64)\n",
       "\tat io.github.spencerpark.jupyter.channels.Loop.lambda$new$0(Loop.java:21)\n",
       "\tat io.github.spencerpark.jupyter.channels.Loop.run(Loop.java:78)\n"
      ]
     },
     "execution_count": 25,
     "metadata": {},
     "output_type": "execute_result"
    }
   ],
   "source": [
    "%viz --style=\"STDCOLOR\" --view=\"State\" \"PartTest\""
   ]
  },
  {
   "cell_type": "code",
   "execution_count": 26,
   "id": "complimentary-rochester",
   "metadata": {
    "execution": {
     "iopub.execute_input": "2021-03-25T16:06:33.025152Z",
     "iopub.status.busy": "2021-03-25T16:06:33.024197Z",
     "iopub.status.idle": "2021-03-25T16:06:33.091080Z",
     "shell.execute_reply": "2021-03-25T16:06:33.089763Z"
    }
   },
   "outputs": [
    {
     "data": {
      "image/svg+xml": [
       "<?xml version=\"1.0\" encoding=\"UTF-8\" standalone=\"no\"?><svg xmlns=\"http://www.w3.org/2000/svg\" xmlns:xlink=\"http://www.w3.org/1999/xlink\" contentScriptType=\"application/ecmascript\" contentStyleType=\"text/css\" height=\"266px\" preserveAspectRatio=\"none\" style=\"width:542px;height:266px;\" version=\"1.1\" viewBox=\"0 0 542 266\" width=\"542px\" zoomAndPan=\"magnify\"><defs><filter height=\"300%\" id=\"f1mwos1puh8rlq\" width=\"300%\" x=\"-1\" y=\"-1\"><feGaussianBlur result=\"blurOut\" stdDeviation=\"2.0\"/><feColorMatrix in=\"blurOut\" result=\"blurOut2\" type=\"matrix\" values=\"0 0 0 0 0 0 0 0 0 0 0 0 0 0 0 0 0 0 .4 0\"/><feOffset dx=\"4.0\" dy=\"4.0\" in=\"blurOut2\" result=\"blurOut3\"/><feBlend in=\"SourceGraphic\" in2=\"blurOut3\" mode=\"normal\"/></filter></defs><g><!--MD5=[fbc87193dbaf4d95561dea2c320d4a47]\n",
       "cluster E1--><polygon fill=\"#FFFFFF\" filter=\"url(#f1mwos1puh8rlq)\" points=\"16,6,89,6,96,28.2969,520,28.2969,520,254,16,254,16,6\" style=\"stroke: #000000; stroke-width: 1.5;\"/><line style=\"stroke: #000000; stroke-width: 1.5;\" x1=\"16\" x2=\"96\" y1=\"28.2969\" y2=\"28.2969\"/><text fill=\"#000000\" font-family=\"sans-serif\" font-size=\"14\" font-weight=\"bold\" lengthAdjust=\"spacingAndGlyphs\" textLength=\"67\" x=\"20\" y=\"20.9951\">PartTest</text><!--MD5=[d5e69f78d87373223dbae638b30a9c99]\n",
       "cluster E3--><rect fill=\"#FFFFFF\" filter=\"url(#f1mwos1puh8rlq)\" height=\"170\" style=\"stroke: #000000; stroke-width: 1.5;\" width=\"120\" x=\"384\" y=\"68\"/><text fill=\"#000000\" font-family=\"sans-serif\" font-size=\"14\" font-style=\"italic\" lengthAdjust=\"spacingAndGlyphs\" textLength=\"71\" x=\"408.5\" y=\"82.9951\">«part def»</text><text fill=\"#000000\" font-family=\"sans-serif\" font-size=\"14\" font-weight=\"bold\" lengthAdjust=\"spacingAndGlyphs\" textLength=\"11\" x=\"438.5\" y=\"99.292\">A</text><!--MD5=[14e3b0961a2654348d326746436168a1]\n",
       "cluster E6--><rect fill=\"#FFFFFF\" filter=\"url(#f1mwos1puh8rlq)\" height=\"170\" style=\"stroke: #000000; stroke-width: 1.5;\" width=\"185\" x=\"191\" y=\"68\"/><text fill=\"#000000\" font-family=\"sans-serif\" font-size=\"14\" font-style=\"italic\" lengthAdjust=\"spacingAndGlyphs\" textLength=\"71\" x=\"248\" y=\"82.9951\">«part def»</text><text fill=\"#000000\" font-family=\"sans-serif\" font-size=\"14\" font-weight=\"bold\" lengthAdjust=\"spacingAndGlyphs\" textLength=\"10\" x=\"278.5\" y=\"99.292\">B</text><!--MD5=[96f4274e9e20536e775497830990834d]\n",
       "class E10--><rect fill=\"#FEFECE\" filter=\"url(#f1mwos1puh8rlq)\" height=\"53.9375\" id=\"E10\" style=\"stroke: #A80036; stroke-width: 1.5;\" width=\"66\" x=\"117\" y=\"41\"/><text fill=\"#000000\" font-family=\"sans-serif\" font-size=\"12\" font-style=\"italic\" lengthAdjust=\"spacingAndGlyphs\" textLength=\"64\" x=\"118\" y=\"57.1387\">«port def»</text><text fill=\"#000000\" font-family=\"sans-serif\" font-size=\"12\" lengthAdjust=\"spacingAndGlyphs\" textLength=\"8\" x=\"146\" y=\"71.1074\">C</text><line style=\"stroke: #A80036; stroke-width: 1.5;\" x1=\"118\" x2=\"182\" y1=\"78.9375\" y2=\"78.9375\"/><line style=\"stroke: #A80036; stroke-width: 1.5;\" x1=\"118\" x2=\"182\" y1=\"86.9375\" y2=\"86.9375\"/><g id=\"E1.E2\"><rect fill=\"#FFFFFF\" filter=\"url(#f1mwos1puh8rlq)\" height=\"50\" rx=\"12.5\" ry=\"12.5\" style=\"stroke: #A80036; stroke-width: 1.5;\" width=\"50\" x=\"32\" y=\"43\"/><line style=\"stroke: #A80036; stroke-width: 1.5;\" x1=\"32\" x2=\"82\" y1=\"69.2969\" y2=\"69.2969\"/><text fill=\"#000000\" font-family=\"sans-serif\" font-size=\"14\" lengthAdjust=\"spacingAndGlyphs\" textLength=\"22\" x=\"46\" y=\"60.9951\">f: A</text></g><text fill=\"#000000\" font-family=\"sans-serif\" font-size=\"14\" lengthAdjust=\"spacingAndGlyphs\" textLength=\"27\" x=\"430.5\" y=\"46.6982\">c: C</text><rect fill=\"#A80036\" height=\"12\" style=\"stroke: #FEFECE; stroke-width: 1.5;\" width=\"12\" x=\"438\" y=\"62\"/><g id=\"E1.E3.E4\"><rect fill=\"#FFFFFF\" filter=\"url(#f1mwos1puh8rlq)\" height=\"50\" rx=\"12.5\" ry=\"12.5\" style=\"stroke: #A80036; stroke-width: 1.5;\" width=\"50\" x=\"419\" y=\"172\"/><line style=\"stroke: #A80036; stroke-width: 1.5;\" x1=\"419\" x2=\"469\" y1=\"198.2969\" y2=\"198.2969\"/><text fill=\"#000000\" font-family=\"sans-serif\" font-size=\"14\" lengthAdjust=\"spacingAndGlyphs\" textLength=\"28\" x=\"430\" y=\"189.9951\">b: B</text></g><text fill=\"#000000\" font-family=\"sans-serif\" font-size=\"14\" lengthAdjust=\"spacingAndGlyphs\" textLength=\"38\" x=\"297\" y=\"46.6982\">x: ~C</text><rect fill=\"#A80036\" height=\"12\" style=\"stroke: #FEFECE; stroke-width: 1.5;\" width=\"12\" x=\"310\" y=\"62\"/><polygon fill=\"#FFFFFF\" filter=\"url(#f1mwos1puh8rlq)\" points=\"207,111,223,111,230,133.2969,237,133.2969,237,163.5938,207,163.5938,207,111\" style=\"stroke: #000000; stroke-width: 1.5;\"/><line style=\"stroke: #000000; stroke-width: 1.5;\" x1=\"207\" x2=\"230\" y1=\"133.2969\" y2=\"133.2969\"/><text fill=\"#000000\" font-family=\"sans-serif\" font-size=\"14\" font-weight=\"bold\" lengthAdjust=\"spacingAndGlyphs\" textLength=\"10\" x=\"211\" y=\"125.9951\">P</text><g id=\"E1.E6.E8\"><rect fill=\"#FFFFFF\" filter=\"url(#f1mwos1puh8rlq)\" height=\"50\" rx=\"12.5\" ry=\"12.5\" style=\"stroke: #A80036; stroke-width: 1.5;\" width=\"50\" x=\"291\" y=\"172\"/><line style=\"stroke: #A80036; stroke-width: 1.5;\" x1=\"291\" x2=\"341\" y1=\"198.2969\" y2=\"198.2969\"/><text fill=\"#000000\" font-family=\"sans-serif\" font-size=\"14\" lengthAdjust=\"spacingAndGlyphs\" textLength=\"26\" x=\"303\" y=\"189.9951\">a: A</text></g><!--MD5=[4390fb38d56f92428ecd08100ca8eeff]\n",
       "@startuml\r\n",
       "skinparam ranksep 8\r\n",
       "skinparam rectangle {\r\n",
       " backgroundColor<<block>> LightGreen\r\n",
       "}\r\n",
       "skinparam wrapWidth 300\r\n",
       "hide circle\r\n",
       "\r\n",
       "package \"PartTest\" as E1   {\r\n",
       "rec usage \"f: A\" as E2  {\r\n",
       "}\r\n",
       "rec def \"A\" as E3  <<part def>> {\r\n",
       "rec usage \"b: B\" as E4  {\r\n",
       "}\r\n",
       "portin \"c: C\" as E5  <<port>> \r\n",
       "}\r\n",
       "rec def \"B\" as E6  <<part def>> {\r\n",
       "package \"P\" as E7   {\r\n",
       "}\r\n",
       "rec usage \"a: A\" as E8  {\r\n",
       "}\r\n",
       "portin \"x: ~C\" as E9  <<port>> \r\n",
       "}\r\n",
       "def \"C\" as E10  <<port def>> \r\n",
       "}\r\n",
       "@enduml\r\n",
       "\n",
       "PlantUML version 1.2020.13(Sat Jun 13 12:26:38 UTC 2020)\n",
       "(EPL source distribution)\n",
       "Java Runtime: OpenJDK Runtime Environment\n",
       "JVM: OpenJDK 64-Bit Server VM\n",
       "Default Encoding: UTF-8\n",
       "Language: en\n",
       "Country: null\n",
       "--></g></svg>"
      ]
     },
     "execution_count": 26,
     "metadata": {},
     "output_type": "execute_result"
    }
   ],
   "source": [
    "%viz --style=\"STDCOLOR\" --view=\"Interconnection\" \"PartTest\""
   ]
  },
  {
   "cell_type": "code",
   "execution_count": 27,
   "id": "prime-nigeria",
   "metadata": {
    "execution": {
     "iopub.execute_input": "2021-03-25T16:06:33.141340Z",
     "iopub.status.busy": "2021-03-25T16:06:33.140691Z",
     "iopub.status.idle": "2021-03-25T16:06:33.142756Z",
     "shell.execute_reply": "2021-03-25T16:06:33.143126Z"
    }
   },
   "outputs": [
    {
     "data": {
      "text/plain": [
       "java.lang.IllegalArgumentException: Invalid View: Action View candidates are: Default Tree StateMachine Interconnection Activity Sequence MIXED \n",
       "\tat org.omg.sysml.plantuml.SysML2PlantUMLSvc.setView(SysML2PlantUMLSvc.java:63)\n",
       "\tat org.omg.sysml.interactive.SysMLInteractive.viz(SysMLInteractive.java:286)\n",
       "\tat org.omg.sysml.jupyter.kernel.magic.Viz.viz(Viz.java:47)\n",
       "\tat jdk.internal.reflect.GeneratedMethodAccessor9.invoke(Unknown Source)\n",
       "\tat java.base/jdk.internal.reflect.DelegatingMethodAccessorImpl.invoke(DelegatingMethodAccessorImpl.java:43)\n",
       "\tat java.base/java.lang.reflect.Method.invoke(Method.java:568)\n",
       "\tat io.github.spencerpark.jupyter.kernel.magic.registry.Magics.invoke(Magics.java:89)\n",
       "\tat io.github.spencerpark.jupyter.kernel.magic.registry.Magics.access$000(Magics.java:8)\n",
       "\tat io.github.spencerpark.jupyter.kernel.magic.registry.Magics$LineReflectionMagicFunction.execute(Magics.java:149)\n",
       "\tat io.github.spencerpark.jupyter.kernel.magic.registry.Magics.applyLineMagic(Magics.java:26)\n",
       "\tat org.omg.sysml.jupyter.kernel.SysMLKernel.eval(SysMLKernel.java:76)\n",
       "\tat io.github.spencerpark.jupyter.kernel.BaseKernel.handleExecuteRequest(BaseKernel.java:334)\n",
       "\tat io.github.spencerpark.jupyter.channels.ShellChannel.lambda$bind$0(ShellChannel.java:64)\n",
       "\tat io.github.spencerpark.jupyter.channels.Loop.lambda$new$0(Loop.java:21)\n",
       "\tat io.github.spencerpark.jupyter.channels.Loop.run(Loop.java:78)\n"
      ]
     },
     "execution_count": 27,
     "metadata": {},
     "output_type": "execute_result"
    }
   ],
   "source": [
    "%viz --style=\"STDCOLOR\" --view=\"Action\" \"PartTest\""
   ]
  },
  {
   "cell_type": "code",
   "execution_count": 28,
   "id": "crazy-neutral",
   "metadata": {
    "execution": {
     "iopub.execute_input": "2021-03-25T16:06:33.194473Z",
     "iopub.status.busy": "2021-03-25T16:06:33.194036Z",
     "iopub.status.idle": "2021-03-25T16:06:33.529533Z",
     "shell.execute_reply": "2021-03-25T16:06:33.527864Z"
    }
   },
   "outputs": [
    {
     "data": {
      "image/svg+xml": [
       "<?xml version=\"1.0\" encoding=\"UTF-8\" standalone=\"no\"?><svg xmlns=\"http://www.w3.org/2000/svg\" xmlns:xlink=\"http://www.w3.org/1999/xlink\" contentScriptType=\"application/ecmascript\" contentStyleType=\"text/css\" height=\"672px\" preserveAspectRatio=\"none\" style=\"width:217px;height:672px;\" version=\"1.1\" viewBox=\"0 0 217 672\" width=\"217px\" zoomAndPan=\"magnify\"><defs><filter height=\"300%\" id=\"f2b2xj34bt83n\" width=\"300%\" x=\"-1\" y=\"-1\"><feGaussianBlur result=\"blurOut\" stdDeviation=\"2.0\"/><feColorMatrix in=\"blurOut\" result=\"blurOut2\" type=\"matrix\" values=\"0 0 0 0 0 0 0 0 0 0 0 0 0 0 0 0 0 0 .4 0\"/><feOffset dx=\"4.0\" dy=\"4.0\" in=\"blurOut2\" result=\"blurOut3\"/><feBlend in=\"SourceGraphic\" in2=\"blurOut3\" mode=\"normal\"/></filter></defs><g><!--MD5=[fbc87193dbaf4d95561dea2c320d4a47]\n",
       "cluster E1--><polygon fill=\"#FFFFFF\" filter=\"url(#f2b2xj34bt83n)\" points=\"16,6,89,6,96,28.2969,195,28.2969,195,660,16,660,16,6\" style=\"stroke: #000000; stroke-width: 1.5;\"/><line style=\"stroke: #000000; stroke-width: 1.5;\" x1=\"16\" x2=\"96\" y1=\"28.2969\" y2=\"28.2969\"/><text fill=\"#000000\" font-family=\"sans-serif\" font-size=\"14\" font-weight=\"bold\" lengthAdjust=\"spacingAndGlyphs\" textLength=\"67\" x=\"20\" y=\"20.9951\">PartTest</text><!--MD5=[b4997ac47864f28c2f74865a473b2911]\n",
       "class E2--><rect fill=\"#FEFECE\" filter=\"url(#f2b2xj34bt83n)\" height=\"45.9375\" id=\"E2\" rx=\"10\" ry=\"10\" style=\"stroke: #A80036; stroke-width: 1.5;\" width=\"42\" x=\"137\" y=\"56\"/><text fill=\"#000000\" font-family=\"sans-serif\" font-size=\"12\" font-style=\"italic\" lengthAdjust=\"spacingAndGlyphs\" textLength=\"40\" x=\"138\" y=\"72.1387\">«part»</text><text fill=\"#000000\" font-family=\"sans-serif\" font-size=\"12\" lengthAdjust=\"spacingAndGlyphs\" textLength=\"20\" x=\"148\" y=\"86.1074\">f: A</text><line style=\"stroke: #A80036; stroke-width: 1.5;\" x1=\"138\" x2=\"178\" y1=\"93.9375\" y2=\"93.9375\"/><!--MD5=[09b614a08d8cba4a07c9adeb5e0fee81]\n",
       "class E3--><rect fill=\"#FEFECE\" filter=\"url(#f2b2xj34bt83n)\" height=\"75.5469\" id=\"E3\" style=\"stroke: #A80036; stroke-width: 1.5;\" width=\"66\" x=\"108\" y=\"194\"/><text fill=\"#000000\" font-family=\"sans-serif\" font-size=\"12\" font-style=\"italic\" lengthAdjust=\"spacingAndGlyphs\" textLength=\"64\" x=\"109\" y=\"210.1387\">«part def»</text><text fill=\"#000000\" font-family=\"sans-serif\" font-size=\"12\" lengthAdjust=\"spacingAndGlyphs\" textLength=\"8\" x=\"137\" y=\"224.1074\">A</text><line style=\"stroke: #A80036; stroke-width: 1.5;\" x1=\"109\" x2=\"173\" y1=\"231.9375\" y2=\"231.9375\"/><text fill=\"#000000\" font-family=\"sans-serif\" font-size=\"11\" lengthAdjust=\"spacingAndGlyphs\" textLength=\"22\" x=\"114\" y=\"262.9526\">c: C</text><line style=\"stroke: #A80036; stroke-width: 1.0;\" x1=\"109\" x2=\"126\" y1=\"246.3398\" y2=\"246.3398\"/><text fill=\"#000000\" font-family=\"sans-serif\" font-size=\"11\" lengthAdjust=\"spacingAndGlyphs\" textLength=\"30\" x=\"126\" y=\"249.6479\">ports</text><line style=\"stroke: #A80036; stroke-width: 1.0;\" x1=\"156\" x2=\"173\" y1=\"246.3398\" y2=\"246.3398\"/><!--MD5=[ebbe1d658d1005bcc118a6aa81145e00]\n",
       "class E4--><rect fill=\"#FEFECE\" filter=\"url(#f2b2xj34bt83n)\" height=\"45.9375\" id=\"E4\" rx=\"10\" ry=\"10\" style=\"stroke: #A80036; stroke-width: 1.5;\" width=\"42\" x=\"100\" y=\"347\"/><text fill=\"#000000\" font-family=\"sans-serif\" font-size=\"12\" font-style=\"italic\" lengthAdjust=\"spacingAndGlyphs\" textLength=\"40\" x=\"101\" y=\"363.1387\">«part»</text><text fill=\"#000000\" font-family=\"sans-serif\" font-size=\"12\" lengthAdjust=\"spacingAndGlyphs\" textLength=\"24\" x=\"109\" y=\"377.1074\">b: B</text><line style=\"stroke: #A80036; stroke-width: 1.5;\" x1=\"101\" x2=\"141\" y1=\"384.9375\" y2=\"384.9375\"/><!--MD5=[60a26617385b1d2d0262a64233df1f8d]\n",
       "class E6--><rect fill=\"#FEFECE\" filter=\"url(#f2b2xj34bt83n)\" height=\"75.5469\" id=\"E6\" style=\"stroke: #A80036; stroke-width: 1.5;\" width=\"66\" x=\"68\" y=\"454\"/><text fill=\"#000000\" font-family=\"sans-serif\" font-size=\"12\" font-style=\"italic\" lengthAdjust=\"spacingAndGlyphs\" textLength=\"64\" x=\"69\" y=\"470.1387\">«part def»</text><text fill=\"#000000\" font-family=\"sans-serif\" font-size=\"12\" lengthAdjust=\"spacingAndGlyphs\" textLength=\"8\" x=\"97\" y=\"484.1074\">B</text><line style=\"stroke: #A80036; stroke-width: 1.5;\" x1=\"69\" x2=\"133\" y1=\"491.9375\" y2=\"491.9375\"/><text fill=\"#000000\" font-family=\"sans-serif\" font-size=\"11\" lengthAdjust=\"spacingAndGlyphs\" textLength=\"31\" x=\"74\" y=\"522.9526\">x: ~C</text><line style=\"stroke: #A80036; stroke-width: 1.0;\" x1=\"69\" x2=\"86\" y1=\"506.3398\" y2=\"506.3398\"/><text fill=\"#000000\" font-family=\"sans-serif\" font-size=\"11\" lengthAdjust=\"spacingAndGlyphs\" textLength=\"30\" x=\"86\" y=\"509.6479\">ports</text><line style=\"stroke: #A80036; stroke-width: 1.0;\" x1=\"116\" x2=\"133\" y1=\"506.3398\" y2=\"506.3398\"/><!--MD5=[b9389687b975829384b498ac4b7476b2]\n",
       "class E8--><rect fill=\"#FEFECE\" filter=\"url(#f2b2xj34bt83n)\" height=\"45.9375\" id=\"E8\" rx=\"10\" ry=\"10\" style=\"stroke: #A80036; stroke-width: 1.5;\" width=\"42\" x=\"137\" y=\"594.5\"/><text fill=\"#000000\" font-family=\"sans-serif\" font-size=\"12\" font-style=\"italic\" lengthAdjust=\"spacingAndGlyphs\" textLength=\"40\" x=\"138\" y=\"610.6387\">«part»</text><text fill=\"#000000\" font-family=\"sans-serif\" font-size=\"12\" lengthAdjust=\"spacingAndGlyphs\" textLength=\"24\" x=\"146\" y=\"624.6074\">a: A</text><line style=\"stroke: #A80036; stroke-width: 1.5;\" x1=\"138\" x2=\"178\" y1=\"632.4375\" y2=\"632.4375\"/><!--MD5=[96f4274e9e20536e775497830990834d]\n",
       "class E10--><rect fill=\"#FEFECE\" filter=\"url(#f2b2xj34bt83n)\" height=\"75.5469\" id=\"E10\" style=\"stroke: #A80036; stroke-width: 1.5;\" width=\"70\" x=\"32\" y=\"41\"/><text fill=\"#000000\" font-family=\"sans-serif\" font-size=\"12\" font-style=\"italic\" lengthAdjust=\"spacingAndGlyphs\" textLength=\"64\" x=\"35\" y=\"57.1387\">«port def»</text><text fill=\"#000000\" font-family=\"sans-serif\" font-size=\"12\" lengthAdjust=\"spacingAndGlyphs\" textLength=\"8\" x=\"63\" y=\"71.1074\">C</text><line style=\"stroke: #A80036; stroke-width: 1.5;\" x1=\"33\" x2=\"101\" y1=\"78.9375\" y2=\"78.9375\"/><text fill=\"#000000\" font-family=\"sans-serif\" font-size=\"11\" lengthAdjust=\"spacingAndGlyphs\" textLength=\"21\" x=\"38\" y=\"109.9526\">y: A</text><text fill=\"#000000\" font-family=\"sans-serif\" font-size=\"11\" font-weight=\"bold\" lengthAdjust=\"spacingAndGlyphs\" textLength=\"15\" x=\"63\" y=\"109.9526\">as</text><text fill=\"#000000\" font-family=\"sans-serif\" font-size=\"11\" lengthAdjust=\"spacingAndGlyphs\" textLength=\"12\" x=\"82\" y=\"109.9526\">z2</text><line style=\"stroke: #A80036; stroke-width: 1.0;\" x1=\"33\" x2=\"36\" y1=\"93.3398\" y2=\"93.3398\"/><text fill=\"#000000\" font-family=\"sans-serif\" font-size=\"11\" lengthAdjust=\"spacingAndGlyphs\" textLength=\"62\" x=\"36\" y=\"96.6479\">references</text><line style=\"stroke: #A80036; stroke-width: 1.0;\" x1=\"98\" x2=\"101\" y1=\"93.3398\" y2=\"93.3398\"/><polygon fill=\"#FFFFFF\" filter=\"url(#f2b2xj34bt83n)\" points=\"72,591,88,591,95,613.2969,102,613.2969,102,643.5938,72,643.5938,72,591\" style=\"stroke: #000000; stroke-width: 1.5;\"/><line style=\"stroke: #000000; stroke-width: 1.5;\" x1=\"72\" x2=\"95\" y1=\"613.2969\" y2=\"613.2969\"/><text fill=\"#000000\" font-family=\"sans-serif\" font-size=\"14\" font-weight=\"bold\" lengthAdjust=\"spacingAndGlyphs\" textLength=\"10\" x=\"76\" y=\"605.9951\">P</text><!--MD5=[2720a5a1f2c3fca2055b230370638851]\n",
       "link E2 to E3--><path d=\"M155.49,102.28 C153.37,121.12 150.24,148.97 147.42,173.94 \" fill=\"none\" id=\"E2-&gt;E3\" style=\"stroke: #A80036; stroke-width: 1.0;\"/><polygon fill=\"#FFFFFF\" points=\"145.17,193.98,140.3312,174.3182,154.244,175.8785,145.17,193.98\" style=\"stroke: #A80036; stroke-width: 1.0;\"/><ellipse cx=\"142.954\" cy=\"168.8766\" fill=\"#A80036\" rx=\"2\" ry=\"2\" style=\"stroke: #A80036; stroke-width: 1.0;\"/><ellipse cx=\"152.8917\" cy=\"169.9911\" fill=\"#A80036\" rx=\"2\" ry=\"2\" style=\"stroke: #A80036; stroke-width: 1.0;\"/><!--MD5=[4672eba38e49728da53d11aeb285b987]\n",
       "reverse link E3 to E4--><path d=\"M133.6,283.33 C130.39,305.16 126.79,329.6 124.27,346.77 \" fill=\"none\" id=\"E3&lt;-E4\" style=\"stroke: #A80036; stroke-width: 1.0;\"/><polygon fill=\"#A80036\" points=\"135.53,270.16,130.6958,275.5108,133.7757,282.0311,138.6099,276.6803,135.53,270.16\" style=\"stroke: #A80036; stroke-width: 1.0;\"/><!--MD5=[79568f1e445c3877b6a54524624ccc7d]\n",
       "link E4 to E6--><path d=\"M117.33,393.01 C115.42,404.51 112.97,419.17 110.56,433.62 \" fill=\"none\" id=\"E4-&gt;E6\" style=\"stroke: #A80036; stroke-width: 1.0;\"/><polygon fill=\"#FFFFFF\" points=\"107.24,453.57,103.4565,433.6782,117.2663,435.9781,107.24,453.57\" style=\"stroke: #A80036; stroke-width: 1.0;\"/><ellipse cx=\"106.3657\" cy=\"428.3842\" fill=\"#A80036\" rx=\"2\" ry=\"2\" style=\"stroke: #A80036; stroke-width: 1.0;\"/><ellipse cx=\"116.2299\" cy=\"430.027\" fill=\"#A80036\" rx=\"2\" ry=\"2\" style=\"stroke: #A80036; stroke-width: 1.0;\"/><!--MD5=[3f50a3473f1dfb74d3f76443e03635af]\n",
       "reverse link E6 to E7--><path d=\"M95.07,545.35 C93.28,561.08 91.4,577.65 89.91,590.83 \" fill=\"none\" id=\"E6&lt;-E7\" style=\"stroke: #A80036; stroke-width: 1.0;\"/><ellipse cx=\"95.9015\" cy=\"537.9994\" fill=\"#FFFFFF\" rx=\"8\" ry=\"8\" style=\"stroke: #A80036; stroke-width: 1.0;\"/><line style=\"stroke: #A80036; stroke-width: 1.0;\" x1=\"95.003\" x2=\"96.8\" y1=\"545.9488\" y2=\"530.05\"/><line style=\"stroke: #A80036; stroke-width: 1.0;\" x1=\"87.9521\" x2=\"103.8509\" y1=\"537.1009\" y2=\"538.8979\"/><!--MD5=[95fa686b5a16158bcdbcaeead89f639b]\n",
       "link E8 to E3--><path d=\"M159.5,594.44 C162.35,548.38 167.58,438.63 160,347 C158.45,328.29 155.5,308.02 152.37,289.84 \" fill=\"none\" id=\"E8-&gt;E3\" style=\"stroke: #A80036; stroke-width: 1.0;\"/><polygon fill=\"#FFFFFF\" points=\"148.76,270.03,159.0537,287.4667,145.2807,289.9773,148.76,270.03\" style=\"stroke: #A80036; stroke-width: 1.0;\"/><ellipse cx=\"158.1083\" cy=\"293.433\" fill=\"#A80036\" rx=\"2\" ry=\"2\" style=\"stroke: #A80036; stroke-width: 1.0;\"/><ellipse cx=\"148.2704\" cy=\"295.2262\" fill=\"#A80036\" rx=\"2\" ry=\"2\" style=\"stroke: #A80036; stroke-width: 1.0;\"/><!--MD5=[f4cf0736d43fd73c4ef68817c49d37d5]\n",
       "reverse link E6 to E8--><path d=\"M123.59,541.94 C131.93,560.02 140.98,579.62 147.7,594.19 \" fill=\"none\" id=\"E6&lt;-E8\" style=\"stroke: #A80036; stroke-width: 1.0;\"/><polygon fill=\"#A80036\" points=\"118.1,530.05,116.9809,537.1737,123.1262,540.9467,124.2453,533.8229,118.1,530.05\" style=\"stroke: #A80036; stroke-width: 1.0;\"/><!--MD5=[8e04057e7b3cbc0dca4fc78ea351e2da]\n",
       "reverse link E10 to E3--><path d=\"M91.15,129.28 C101.44,150.28 113.25,174.38 122.79,193.84 \" fill=\"none\" id=\"E10&lt;-E3\" style=\"stroke: #A80036; stroke-width: 1.0;\"/><polygon fill=\"#FFFFFF\" points=\"85.29,117.33,84.3358,124.4777,90.5667,128.1076,91.5209,120.9599,85.29,117.33\" style=\"stroke: #A80036; stroke-width: 1.0;\"/><text fill=\"#000000\" font-family=\"sans-serif\" font-size=\"13\" lengthAdjust=\"spacingAndGlyphs\" textLength=\"7\" x=\"107\" y=\"160.0669\">y</text><!--MD5=[604cbf994c02b74b117f728a71673cea]\n",
       "reverse link E10 to E6--><path d=\"M67.56,130.48 C68.7,192.49 72.22,300.8 83,393 C85.37,413.27 89.38,435.68 93.01,453.94 \" fill=\"none\" id=\"E10&lt;-E6\" style=\"stroke: #A80036; stroke-width: 1.0;\"/><polygon fill=\"#FFFFFF\" points=\"67.33,117.23,63.4361,123.2994,67.541,129.2281,71.4349,123.1588,67.33,117.23\" style=\"stroke: #A80036; stroke-width: 1.0;\"/><text fill=\"#000000\" font-family=\"sans-serif\" font-size=\"13\" lengthAdjust=\"spacingAndGlyphs\" textLength=\"7\" x=\"76\" y=\"313.0669\">y</text><!--MD5=[d4c8ce5b41761937f9436e6760716690]\n",
       "@startuml\r\n",
       "skinparam wrapWidth 300\r\n",
       "hide circle\r\n",
       "\r\n",
       "package \"PartTest\" as E1   {\r\n",
       "comp usage \"f: A\" as E2  <<(T,blue)part>> {\r\n",
       "}\r\n",
       "comp def \"A\" as E3  <<(T,blue)part def>> {\r\n",
       "- -ports- -\r\n",
       "c: C\r\n",
       "}\r\n",
       "comp usage \"b: B\" as E4  <<(T,blue)part>> {\r\n",
       "}\r\n",
       "comp def \"B\" as E6  <<(T,blue)part def>> {\r\n",
       "- -ports- -\r\n",
       "x: ~C\r\n",
       "}\r\n",
       "package \"P\" as E7   {\r\n",
       "}\r\n",
       "comp usage \"a: A\" as E8  <<(T,blue)part>> {\r\n",
       "}\r\n",
       "comp def \"C\" as E10  <<(T,blue)port def>> {\r\n",
       "- -references- -\r\n",
       "y: A <b>as</b> z2 \r\n",
       "}\r\n",
       "E2 - -:|> E3\r\n",
       "E3 *- - E4\r\n",
       "E4 - -:|> E6\r\n",
       "E6 +- - E7\r\n",
       "E8 - -:|> E3\r\n",
       "E6 *- - E8\r\n",
       "E10 o- - E3 : y\r\n",
       "E10 o- - E6 : y\r\n",
       "}\r\n",
       "@enduml\r\n",
       "\n",
       "PlantUML version 1.2020.13(Sat Jun 13 12:26:38 UTC 2020)\n",
       "(EPL source distribution)\n",
       "Java Runtime: OpenJDK Runtime Environment\n",
       "JVM: OpenJDK 64-Bit Server VM\n",
       "Default Encoding: UTF-8\n",
       "Language: en\n",
       "Country: null\n",
       "--></g></svg>"
      ]
     },
     "execution_count": 28,
     "metadata": {},
     "output_type": "execute_result"
    }
   ],
   "source": [
    "%viz --style=\"STDCOLOR\" --view=\"Sequence\" \"PartTest\""
   ]
  },
  {
   "cell_type": "code",
   "execution_count": 29,
   "id": "second-exclusion",
   "metadata": {
    "execution": {
     "iopub.execute_input": "2021-03-25T16:06:33.579983Z",
     "iopub.status.busy": "2021-03-25T16:06:33.579532Z",
     "iopub.status.idle": "2021-03-25T16:06:33.932220Z",
     "shell.execute_reply": "2021-03-25T16:06:33.932678Z"
    }
   },
   "outputs": [
    {
     "data": {
      "image/svg+xml": [
       "<?xml version=\"1.0\" encoding=\"UTF-8\" standalone=\"no\"?><svg xmlns=\"http://www.w3.org/2000/svg\" xmlns:xlink=\"http://www.w3.org/1999/xlink\" contentScriptType=\"application/ecmascript\" contentStyleType=\"text/css\" height=\"672px\" preserveAspectRatio=\"none\" style=\"width:217px;height:672px;\" version=\"1.1\" viewBox=\"0 0 217 672\" width=\"217px\" zoomAndPan=\"magnify\"><defs><filter height=\"300%\" id=\"f2b2xj34bt83n\" width=\"300%\" x=\"-1\" y=\"-1\"><feGaussianBlur result=\"blurOut\" stdDeviation=\"2.0\"/><feColorMatrix in=\"blurOut\" result=\"blurOut2\" type=\"matrix\" values=\"0 0 0 0 0 0 0 0 0 0 0 0 0 0 0 0 0 0 .4 0\"/><feOffset dx=\"4.0\" dy=\"4.0\" in=\"blurOut2\" result=\"blurOut3\"/><feBlend in=\"SourceGraphic\" in2=\"blurOut3\" mode=\"normal\"/></filter></defs><g><!--MD5=[fbc87193dbaf4d95561dea2c320d4a47]\n",
       "cluster E1--><polygon fill=\"#FFFFFF\" filter=\"url(#f2b2xj34bt83n)\" points=\"16,6,89,6,96,28.2969,195,28.2969,195,660,16,660,16,6\" style=\"stroke: #000000; stroke-width: 1.5;\"/><line style=\"stroke: #000000; stroke-width: 1.5;\" x1=\"16\" x2=\"96\" y1=\"28.2969\" y2=\"28.2969\"/><text fill=\"#000000\" font-family=\"sans-serif\" font-size=\"14\" font-weight=\"bold\" lengthAdjust=\"spacingAndGlyphs\" textLength=\"67\" x=\"20\" y=\"20.9951\">PartTest</text><!--MD5=[b4997ac47864f28c2f74865a473b2911]\n",
       "class E2--><rect fill=\"#FEFECE\" filter=\"url(#f2b2xj34bt83n)\" height=\"45.9375\" id=\"E2\" rx=\"10\" ry=\"10\" style=\"stroke: #A80036; stroke-width: 1.5;\" width=\"42\" x=\"137\" y=\"56\"/><text fill=\"#000000\" font-family=\"sans-serif\" font-size=\"12\" font-style=\"italic\" lengthAdjust=\"spacingAndGlyphs\" textLength=\"40\" x=\"138\" y=\"72.1387\">«part»</text><text fill=\"#000000\" font-family=\"sans-serif\" font-size=\"12\" lengthAdjust=\"spacingAndGlyphs\" textLength=\"20\" x=\"148\" y=\"86.1074\">f: A</text><line style=\"stroke: #A80036; stroke-width: 1.5;\" x1=\"138\" x2=\"178\" y1=\"93.9375\" y2=\"93.9375\"/><!--MD5=[09b614a08d8cba4a07c9adeb5e0fee81]\n",
       "class E3--><rect fill=\"#FEFECE\" filter=\"url(#f2b2xj34bt83n)\" height=\"75.5469\" id=\"E3\" style=\"stroke: #A80036; stroke-width: 1.5;\" width=\"66\" x=\"108\" y=\"194\"/><text fill=\"#000000\" font-family=\"sans-serif\" font-size=\"12\" font-style=\"italic\" lengthAdjust=\"spacingAndGlyphs\" textLength=\"64\" x=\"109\" y=\"210.1387\">«part def»</text><text fill=\"#000000\" font-family=\"sans-serif\" font-size=\"12\" lengthAdjust=\"spacingAndGlyphs\" textLength=\"8\" x=\"137\" y=\"224.1074\">A</text><line style=\"stroke: #A80036; stroke-width: 1.5;\" x1=\"109\" x2=\"173\" y1=\"231.9375\" y2=\"231.9375\"/><text fill=\"#000000\" font-family=\"sans-serif\" font-size=\"11\" lengthAdjust=\"spacingAndGlyphs\" textLength=\"22\" x=\"114\" y=\"262.9526\">c: C</text><line style=\"stroke: #A80036; stroke-width: 1.0;\" x1=\"109\" x2=\"126\" y1=\"246.3398\" y2=\"246.3398\"/><text fill=\"#000000\" font-family=\"sans-serif\" font-size=\"11\" lengthAdjust=\"spacingAndGlyphs\" textLength=\"30\" x=\"126\" y=\"249.6479\">ports</text><line style=\"stroke: #A80036; stroke-width: 1.0;\" x1=\"156\" x2=\"173\" y1=\"246.3398\" y2=\"246.3398\"/><!--MD5=[ebbe1d658d1005bcc118a6aa81145e00]\n",
       "class E4--><rect fill=\"#FEFECE\" filter=\"url(#f2b2xj34bt83n)\" height=\"45.9375\" id=\"E4\" rx=\"10\" ry=\"10\" style=\"stroke: #A80036; stroke-width: 1.5;\" width=\"42\" x=\"100\" y=\"347\"/><text fill=\"#000000\" font-family=\"sans-serif\" font-size=\"12\" font-style=\"italic\" lengthAdjust=\"spacingAndGlyphs\" textLength=\"40\" x=\"101\" y=\"363.1387\">«part»</text><text fill=\"#000000\" font-family=\"sans-serif\" font-size=\"12\" lengthAdjust=\"spacingAndGlyphs\" textLength=\"24\" x=\"109\" y=\"377.1074\">b: B</text><line style=\"stroke: #A80036; stroke-width: 1.5;\" x1=\"101\" x2=\"141\" y1=\"384.9375\" y2=\"384.9375\"/><!--MD5=[60a26617385b1d2d0262a64233df1f8d]\n",
       "class E6--><rect fill=\"#FEFECE\" filter=\"url(#f2b2xj34bt83n)\" height=\"75.5469\" id=\"E6\" style=\"stroke: #A80036; stroke-width: 1.5;\" width=\"66\" x=\"68\" y=\"454\"/><text fill=\"#000000\" font-family=\"sans-serif\" font-size=\"12\" font-style=\"italic\" lengthAdjust=\"spacingAndGlyphs\" textLength=\"64\" x=\"69\" y=\"470.1387\">«part def»</text><text fill=\"#000000\" font-family=\"sans-serif\" font-size=\"12\" lengthAdjust=\"spacingAndGlyphs\" textLength=\"8\" x=\"97\" y=\"484.1074\">B</text><line style=\"stroke: #A80036; stroke-width: 1.5;\" x1=\"69\" x2=\"133\" y1=\"491.9375\" y2=\"491.9375\"/><text fill=\"#000000\" font-family=\"sans-serif\" font-size=\"11\" lengthAdjust=\"spacingAndGlyphs\" textLength=\"31\" x=\"74\" y=\"522.9526\">x: ~C</text><line style=\"stroke: #A80036; stroke-width: 1.0;\" x1=\"69\" x2=\"86\" y1=\"506.3398\" y2=\"506.3398\"/><text fill=\"#000000\" font-family=\"sans-serif\" font-size=\"11\" lengthAdjust=\"spacingAndGlyphs\" textLength=\"30\" x=\"86\" y=\"509.6479\">ports</text><line style=\"stroke: #A80036; stroke-width: 1.0;\" x1=\"116\" x2=\"133\" y1=\"506.3398\" y2=\"506.3398\"/><!--MD5=[b9389687b975829384b498ac4b7476b2]\n",
       "class E8--><rect fill=\"#FEFECE\" filter=\"url(#f2b2xj34bt83n)\" height=\"45.9375\" id=\"E8\" rx=\"10\" ry=\"10\" style=\"stroke: #A80036; stroke-width: 1.5;\" width=\"42\" x=\"137\" y=\"594.5\"/><text fill=\"#000000\" font-family=\"sans-serif\" font-size=\"12\" font-style=\"italic\" lengthAdjust=\"spacingAndGlyphs\" textLength=\"40\" x=\"138\" y=\"610.6387\">«part»</text><text fill=\"#000000\" font-family=\"sans-serif\" font-size=\"12\" lengthAdjust=\"spacingAndGlyphs\" textLength=\"24\" x=\"146\" y=\"624.6074\">a: A</text><line style=\"stroke: #A80036; stroke-width: 1.5;\" x1=\"138\" x2=\"178\" y1=\"632.4375\" y2=\"632.4375\"/><!--MD5=[96f4274e9e20536e775497830990834d]\n",
       "class E10--><rect fill=\"#FEFECE\" filter=\"url(#f2b2xj34bt83n)\" height=\"75.5469\" id=\"E10\" style=\"stroke: #A80036; stroke-width: 1.5;\" width=\"70\" x=\"32\" y=\"41\"/><text fill=\"#000000\" font-family=\"sans-serif\" font-size=\"12\" font-style=\"italic\" lengthAdjust=\"spacingAndGlyphs\" textLength=\"64\" x=\"35\" y=\"57.1387\">«port def»</text><text fill=\"#000000\" font-family=\"sans-serif\" font-size=\"12\" lengthAdjust=\"spacingAndGlyphs\" textLength=\"8\" x=\"63\" y=\"71.1074\">C</text><line style=\"stroke: #A80036; stroke-width: 1.5;\" x1=\"33\" x2=\"101\" y1=\"78.9375\" y2=\"78.9375\"/><text fill=\"#000000\" font-family=\"sans-serif\" font-size=\"11\" lengthAdjust=\"spacingAndGlyphs\" textLength=\"21\" x=\"38\" y=\"109.9526\">y: A</text><text fill=\"#000000\" font-family=\"sans-serif\" font-size=\"11\" font-weight=\"bold\" lengthAdjust=\"spacingAndGlyphs\" textLength=\"15\" x=\"63\" y=\"109.9526\">as</text><text fill=\"#000000\" font-family=\"sans-serif\" font-size=\"11\" lengthAdjust=\"spacingAndGlyphs\" textLength=\"12\" x=\"82\" y=\"109.9526\">z2</text><line style=\"stroke: #A80036; stroke-width: 1.0;\" x1=\"33\" x2=\"36\" y1=\"93.3398\" y2=\"93.3398\"/><text fill=\"#000000\" font-family=\"sans-serif\" font-size=\"11\" lengthAdjust=\"spacingAndGlyphs\" textLength=\"62\" x=\"36\" y=\"96.6479\">references</text><line style=\"stroke: #A80036; stroke-width: 1.0;\" x1=\"98\" x2=\"101\" y1=\"93.3398\" y2=\"93.3398\"/><polygon fill=\"#FFFFFF\" filter=\"url(#f2b2xj34bt83n)\" points=\"72,591,88,591,95,613.2969,102,613.2969,102,643.5938,72,643.5938,72,591\" style=\"stroke: #000000; stroke-width: 1.5;\"/><line style=\"stroke: #000000; stroke-width: 1.5;\" x1=\"72\" x2=\"95\" y1=\"613.2969\" y2=\"613.2969\"/><text fill=\"#000000\" font-family=\"sans-serif\" font-size=\"14\" font-weight=\"bold\" lengthAdjust=\"spacingAndGlyphs\" textLength=\"10\" x=\"76\" y=\"605.9951\">P</text><!--MD5=[2720a5a1f2c3fca2055b230370638851]\n",
       "link E2 to E3--><path d=\"M155.49,102.28 C153.37,121.12 150.24,148.97 147.42,173.94 \" fill=\"none\" id=\"E2-&gt;E3\" style=\"stroke: #A80036; stroke-width: 1.0;\"/><polygon fill=\"#FFFFFF\" points=\"145.17,193.98,140.3312,174.3182,154.244,175.8785,145.17,193.98\" style=\"stroke: #A80036; stroke-width: 1.0;\"/><ellipse cx=\"142.954\" cy=\"168.8766\" fill=\"#A80036\" rx=\"2\" ry=\"2\" style=\"stroke: #A80036; stroke-width: 1.0;\"/><ellipse cx=\"152.8917\" cy=\"169.9911\" fill=\"#A80036\" rx=\"2\" ry=\"2\" style=\"stroke: #A80036; stroke-width: 1.0;\"/><!--MD5=[4672eba38e49728da53d11aeb285b987]\n",
       "reverse link E3 to E4--><path d=\"M133.6,283.33 C130.39,305.16 126.79,329.6 124.27,346.77 \" fill=\"none\" id=\"E3&lt;-E4\" style=\"stroke: #A80036; stroke-width: 1.0;\"/><polygon fill=\"#A80036\" points=\"135.53,270.16,130.6958,275.5108,133.7757,282.0311,138.6099,276.6803,135.53,270.16\" style=\"stroke: #A80036; stroke-width: 1.0;\"/><!--MD5=[79568f1e445c3877b6a54524624ccc7d]\n",
       "link E4 to E6--><path d=\"M117.33,393.01 C115.42,404.51 112.97,419.17 110.56,433.62 \" fill=\"none\" id=\"E4-&gt;E6\" style=\"stroke: #A80036; stroke-width: 1.0;\"/><polygon fill=\"#FFFFFF\" points=\"107.24,453.57,103.4565,433.6782,117.2663,435.9781,107.24,453.57\" style=\"stroke: #A80036; stroke-width: 1.0;\"/><ellipse cx=\"106.3657\" cy=\"428.3842\" fill=\"#A80036\" rx=\"2\" ry=\"2\" style=\"stroke: #A80036; stroke-width: 1.0;\"/><ellipse cx=\"116.2299\" cy=\"430.027\" fill=\"#A80036\" rx=\"2\" ry=\"2\" style=\"stroke: #A80036; stroke-width: 1.0;\"/><!--MD5=[3f50a3473f1dfb74d3f76443e03635af]\n",
       "reverse link E6 to E7--><path d=\"M95.07,545.35 C93.28,561.08 91.4,577.65 89.91,590.83 \" fill=\"none\" id=\"E6&lt;-E7\" style=\"stroke: #A80036; stroke-width: 1.0;\"/><ellipse cx=\"95.9015\" cy=\"537.9994\" fill=\"#FFFFFF\" rx=\"8\" ry=\"8\" style=\"stroke: #A80036; stroke-width: 1.0;\"/><line style=\"stroke: #A80036; stroke-width: 1.0;\" x1=\"95.003\" x2=\"96.8\" y1=\"545.9488\" y2=\"530.05\"/><line style=\"stroke: #A80036; stroke-width: 1.0;\" x1=\"87.9521\" x2=\"103.8509\" y1=\"537.1009\" y2=\"538.8979\"/><!--MD5=[95fa686b5a16158bcdbcaeead89f639b]\n",
       "link E8 to E3--><path d=\"M159.5,594.44 C162.35,548.38 167.58,438.63 160,347 C158.45,328.29 155.5,308.02 152.37,289.84 \" fill=\"none\" id=\"E8-&gt;E3\" style=\"stroke: #A80036; stroke-width: 1.0;\"/><polygon fill=\"#FFFFFF\" points=\"148.76,270.03,159.0537,287.4667,145.2807,289.9773,148.76,270.03\" style=\"stroke: #A80036; stroke-width: 1.0;\"/><ellipse cx=\"158.1083\" cy=\"293.433\" fill=\"#A80036\" rx=\"2\" ry=\"2\" style=\"stroke: #A80036; stroke-width: 1.0;\"/><ellipse cx=\"148.2704\" cy=\"295.2262\" fill=\"#A80036\" rx=\"2\" ry=\"2\" style=\"stroke: #A80036; stroke-width: 1.0;\"/><!--MD5=[f4cf0736d43fd73c4ef68817c49d37d5]\n",
       "reverse link E6 to E8--><path d=\"M123.59,541.94 C131.93,560.02 140.98,579.62 147.7,594.19 \" fill=\"none\" id=\"E6&lt;-E8\" style=\"stroke: #A80036; stroke-width: 1.0;\"/><polygon fill=\"#A80036\" points=\"118.1,530.05,116.9809,537.1737,123.1262,540.9467,124.2453,533.8229,118.1,530.05\" style=\"stroke: #A80036; stroke-width: 1.0;\"/><!--MD5=[8e04057e7b3cbc0dca4fc78ea351e2da]\n",
       "reverse link E10 to E3--><path d=\"M91.15,129.28 C101.44,150.28 113.25,174.38 122.79,193.84 \" fill=\"none\" id=\"E10&lt;-E3\" style=\"stroke: #A80036; stroke-width: 1.0;\"/><polygon fill=\"#FFFFFF\" points=\"85.29,117.33,84.3358,124.4777,90.5667,128.1076,91.5209,120.9599,85.29,117.33\" style=\"stroke: #A80036; stroke-width: 1.0;\"/><text fill=\"#000000\" font-family=\"sans-serif\" font-size=\"13\" lengthAdjust=\"spacingAndGlyphs\" textLength=\"7\" x=\"107\" y=\"160.0669\">y</text><!--MD5=[604cbf994c02b74b117f728a71673cea]\n",
       "reverse link E10 to E6--><path d=\"M67.56,130.48 C68.7,192.49 72.22,300.8 83,393 C85.37,413.27 89.38,435.68 93.01,453.94 \" fill=\"none\" id=\"E10&lt;-E6\" style=\"stroke: #A80036; stroke-width: 1.0;\"/><polygon fill=\"#FFFFFF\" points=\"67.33,117.23,63.4361,123.2994,67.541,129.2281,71.4349,123.1588,67.33,117.23\" style=\"stroke: #A80036; stroke-width: 1.0;\"/><text fill=\"#000000\" font-family=\"sans-serif\" font-size=\"13\" lengthAdjust=\"spacingAndGlyphs\" textLength=\"7\" x=\"76\" y=\"313.0669\">y</text><!--MD5=[d4c8ce5b41761937f9436e6760716690]\n",
       "@startuml\r\n",
       "skinparam wrapWidth 300\r\n",
       "hide circle\r\n",
       "\r\n",
       "package \"PartTest\" as E1   {\r\n",
       "comp usage \"f: A\" as E2  <<(T,blue)part>> {\r\n",
       "}\r\n",
       "comp def \"A\" as E3  <<(T,blue)part def>> {\r\n",
       "- -ports- -\r\n",
       "c: C\r\n",
       "}\r\n",
       "comp usage \"b: B\" as E4  <<(T,blue)part>> {\r\n",
       "}\r\n",
       "comp def \"B\" as E6  <<(T,blue)part def>> {\r\n",
       "- -ports- -\r\n",
       "x: ~C\r\n",
       "}\r\n",
       "package \"P\" as E7   {\r\n",
       "}\r\n",
       "comp usage \"a: A\" as E8  <<(T,blue)part>> {\r\n",
       "}\r\n",
       "comp def \"C\" as E10  <<(T,blue)port def>> {\r\n",
       "- -references- -\r\n",
       "y: A <b>as</b> z2 \r\n",
       "}\r\n",
       "E2 - -:|> E3\r\n",
       "E3 *- - E4\r\n",
       "E4 - -:|> E6\r\n",
       "E6 +- - E7\r\n",
       "E8 - -:|> E3\r\n",
       "E6 *- - E8\r\n",
       "E10 o- - E3 : y\r\n",
       "E10 o- - E6 : y\r\n",
       "}\r\n",
       "@enduml\r\n",
       "\n",
       "PlantUML version 1.2020.13(Sat Jun 13 12:26:38 UTC 2020)\n",
       "(EPL source distribution)\n",
       "Java Runtime: OpenJDK Runtime Environment\n",
       "JVM: OpenJDK 64-Bit Server VM\n",
       "Default Encoding: UTF-8\n",
       "Language: en\n",
       "Country: null\n",
       "--></g></svg>"
      ]
     },
     "execution_count": 29,
     "metadata": {},
     "output_type": "execute_result"
    }
   ],
   "source": [
    "%viz --style=\"STDCOLOR\" --view=\"MIXED\" \"PartTest\""
   ]
  },
  {
   "cell_type": "code",
   "execution_count": 30,
   "id": "limiting-trade",
   "metadata": {
    "execution": {
     "iopub.execute_input": "2021-03-25T16:06:33.981961Z",
     "iopub.status.busy": "2021-03-25T16:06:33.981344Z",
     "iopub.status.idle": "2021-03-25T16:06:34.343737Z",
     "shell.execute_reply": "2021-03-25T16:06:34.341974Z"
    }
   },
   "outputs": [
    {
     "data": {
      "image/svg+xml": [
       "<?xml version=\"1.0\" encoding=\"UTF-8\" standalone=\"no\"?><svg xmlns=\"http://www.w3.org/2000/svg\" xmlns:xlink=\"http://www.w3.org/1999/xlink\" contentScriptType=\"application/ecmascript\" contentStyleType=\"text/css\" height=\"660px\" preserveAspectRatio=\"none\" style=\"width:265px;height:660px;\" version=\"1.1\" viewBox=\"0 0 265 660\" width=\"265px\" zoomAndPan=\"magnify\"><defs><filter height=\"300%\" id=\"f1k4vsg5oq9chc\" width=\"300%\" x=\"-1\" y=\"-1\"><feGaussianBlur result=\"blurOut\" stdDeviation=\"2.0\"/><feColorMatrix in=\"blurOut\" result=\"blurOut2\" type=\"matrix\" values=\"0 0 0 0 0 0 0 0 0 0 0 0 0 0 0 0 0 0 .4 0\"/><feOffset dx=\"4.0\" dy=\"4.0\" in=\"blurOut2\" result=\"blurOut3\"/><feBlend in=\"SourceGraphic\" in2=\"blurOut3\" mode=\"normal\"/></filter></defs><g><!--MD5=[fbc87193dbaf4d95561dea2c320d4a47]\n",
       "cluster E1--><polygon fill=\"#FFFFFF\" filter=\"url(#f1k4vsg5oq9chc)\" points=\"16,6,89,6,96,28.2969,243,28.2969,243,648,16,648,16,6\" style=\"stroke: #000000; stroke-width: 1.5;\"/><line style=\"stroke: #000000; stroke-width: 1.5;\" x1=\"16\" x2=\"96\" y1=\"28.2969\" y2=\"28.2969\"/><text fill=\"#000000\" font-family=\"sans-serif\" font-size=\"14\" font-weight=\"bold\" lengthAdjust=\"spacingAndGlyphs\" textLength=\"67\" x=\"20\" y=\"20.9951\">PartTest</text><!--MD5=[b4997ac47864f28c2f74865a473b2911]\n",
       "class E2--><rect fill=\"#FEFECE\" filter=\"url(#f1k4vsg5oq9chc)\" height=\"45.9375\" id=\"E2\" rx=\"10\" ry=\"10\" style=\"stroke: #A80036; stroke-width: 1.5;\" width=\"68\" x=\"159\" y=\"56\"/><ellipse cx=\"174\" cy=\"74.9688\" fill=\"#32CD32\" rx=\"11\" ry=\"11\" style=\"stroke: #A80036; stroke-width: 1.0;\"/><path d=\"M173.7969,70.6406 L173.7969,74.2656 L174.7969,74.2656 Q176,74.2656 176.4844,73.8594 Q176.9688,73.4531 176.9688,72.4531 Q176.9688,71.4531 176.4844,71.0469 Q176,70.6406 174.7969,70.6406 L173.7969,70.6406 Z M171.3438,68.5781 L174.7031,68.5781 Q177.2656,68.5781 178.3906,69.5 Q179.5156,70.4063 179.5156,72.4531 Q179.5156,74.5 178.3906,75.4219 Q177.2656,76.3281 174.7031,76.3281 L173.7969,76.3281 L173.7969,80.9688 L171.3438,80.9688 L171.3438,68.5781 Z \"/><text fill=\"#000000\" font-family=\"sans-serif\" font-size=\"12\" font-style=\"italic\" lengthAdjust=\"spacingAndGlyphs\" textLength=\"40\" x=\"186\" y=\"72.1387\">«part»</text><text fill=\"#000000\" font-family=\"sans-serif\" font-size=\"12\" lengthAdjust=\"spacingAndGlyphs\" textLength=\"20\" x=\"196\" y=\"86.1074\">f: A</text><line style=\"stroke: #A80036; stroke-width: 1.5;\" x1=\"160\" x2=\"226\" y1=\"93.9375\" y2=\"93.9375\"/><!--MD5=[09b614a08d8cba4a07c9adeb5e0fee81]\n",
       "class E3--><rect fill=\"#FEFECE\" filter=\"url(#f1k4vsg5oq9chc)\" height=\"69.6094\" id=\"E3\" style=\"stroke: #A80036; stroke-width: 1.5;\" width=\"40\" x=\"149\" y=\"194\"/><ellipse cx=\"164\" cy=\"210\" fill=\"#008000\" rx=\"11\" ry=\"11\" style=\"stroke: #A80036; stroke-width: 1.0;\"/><path d=\"M162.9063,210.375 L162.9063,214.0469 L164.5313,214.0469 Q165.7031,214.0469 166.1719,213.6563 Q166.6406,213.25 166.6406,212.25 Q166.6406,211.25 166.1406,210.8125 Q165.6563,210.375 164.5313,210.375 L162.9063,210.375 Z M162.9063,205.5469 L162.9063,208.4219 L164.5313,208.4219 Q165.4531,208.4219 165.8438,208.0938 Q166.25,207.75 166.25,207 Q166.25,206.2344 165.8438,205.8906 Q165.4375,205.5469 164.5313,205.5469 L162.9063,205.5469 Z M160.5313,203.5938 L164.5313,203.5938 Q166.5938,203.5938 167.6406,204.375 Q168.6875,205.1563 168.6875,206.7188 Q168.6875,207.9219 168.0625,208.5938 Q167.4531,209.2656 166.2656,209.375 Q167.6875,209.5156 168.4063,210.3281 Q169.125,211.1406 169.125,212.5938 Q169.125,214.3906 168.0469,215.2031 Q166.9688,216 164.5313,216 L160.5313,216 L160.5313,203.5938 Z \"/><text fill=\"#000000\" font-family=\"sans-serif\" font-size=\"12\" lengthAdjust=\"spacingAndGlyphs\" textLength=\"8\" x=\"178\" y=\"214.1543\">A</text><line style=\"stroke: #A80036; stroke-width: 1.5;\" x1=\"150\" x2=\"188\" y1=\"226\" y2=\"226\"/><text fill=\"#000000\" font-family=\"sans-serif\" font-size=\"11\" lengthAdjust=\"spacingAndGlyphs\" textLength=\"22\" x=\"155\" y=\"257.0151\">c: C</text><line style=\"stroke: #A80036; stroke-width: 1.0;\" x1=\"150\" x2=\"154\" y1=\"240.4023\" y2=\"240.4023\"/><text fill=\"#000000\" font-family=\"sans-serif\" font-size=\"11\" lengthAdjust=\"spacingAndGlyphs\" textLength=\"30\" x=\"154\" y=\"243.7104\">ports</text><line style=\"stroke: #A80036; stroke-width: 1.0;\" x1=\"184\" x2=\"188\" y1=\"240.4023\" y2=\"240.4023\"/><!--MD5=[ebbe1d658d1005bcc118a6aa81145e00]\n",
       "class E4--><rect fill=\"#FEFECE\" filter=\"url(#f1k4vsg5oq9chc)\" height=\"45.9375\" id=\"E4\" rx=\"10\" ry=\"10\" style=\"stroke: #A80036; stroke-width: 1.5;\" width=\"68\" x=\"108\" y=\"341\"/><ellipse cx=\"123\" cy=\"359.9688\" fill=\"#32CD32\" rx=\"11\" ry=\"11\" style=\"stroke: #A80036; stroke-width: 1.0;\"/><path d=\"M122.7969,355.6406 L122.7969,359.2656 L123.7969,359.2656 Q125,359.2656 125.4844,358.8594 Q125.9688,358.4531 125.9688,357.4531 Q125.9688,356.4531 125.4844,356.0469 Q125,355.6406 123.7969,355.6406 L122.7969,355.6406 Z M120.3438,353.5781 L123.7031,353.5781 Q126.2656,353.5781 127.3906,354.5 Q128.5156,355.4063 128.5156,357.4531 Q128.5156,359.5 127.3906,360.4219 Q126.2656,361.3281 123.7031,361.3281 L122.7969,361.3281 L122.7969,365.9688 L120.3438,365.9688 L120.3438,353.5781 Z \"/><text fill=\"#000000\" font-family=\"sans-serif\" font-size=\"12\" font-style=\"italic\" lengthAdjust=\"spacingAndGlyphs\" textLength=\"40\" x=\"135\" y=\"357.1387\">«part»</text><text fill=\"#000000\" font-family=\"sans-serif\" font-size=\"12\" lengthAdjust=\"spacingAndGlyphs\" textLength=\"24\" x=\"143\" y=\"371.1074\">b: B</text><line style=\"stroke: #A80036; stroke-width: 1.5;\" x1=\"109\" x2=\"175\" y1=\"378.9375\" y2=\"378.9375\"/><!--MD5=[60a26617385b1d2d0262a64233df1f8d]\n",
       "class E6--><rect fill=\"#FEFECE\" filter=\"url(#f1k4vsg5oq9chc)\" height=\"69.6094\" id=\"E6\" style=\"stroke: #A80036; stroke-width: 1.5;\" width=\"43\" x=\"100.5\" y=\"448\"/><ellipse cx=\"116.85\" cy=\"464\" fill=\"#008000\" rx=\"11\" ry=\"11\" style=\"stroke: #A80036; stroke-width: 1.0;\"/><path d=\"M115.7563,464.375 L115.7563,468.0469 L117.3813,468.0469 Q118.5531,468.0469 119.0219,467.6563 Q119.4906,467.25 119.4906,466.25 Q119.4906,465.25 118.9906,464.8125 Q118.5063,464.375 117.3813,464.375 L115.7563,464.375 Z M115.7563,459.5469 L115.7563,462.4219 L117.3813,462.4219 Q118.3031,462.4219 118.6938,462.0938 Q119.1,461.75 119.1,461 Q119.1,460.2344 118.6938,459.8906 Q118.2875,459.5469 117.3813,459.5469 L115.7563,459.5469 Z M113.3813,457.5938 L117.3813,457.5938 Q119.4438,457.5938 120.4906,458.375 Q121.5375,459.1563 121.5375,460.7188 Q121.5375,461.9219 120.9125,462.5938 Q120.3031,463.2656 119.1156,463.375 Q120.5375,463.5156 121.2563,464.3281 Q121.975,465.1406 121.975,466.5938 Q121.975,468.3906 120.8969,469.2031 Q119.8188,470 117.3813,470 L113.3813,470 L113.3813,457.5938 Z \"/><text fill=\"#000000\" font-family=\"sans-serif\" font-size=\"12\" lengthAdjust=\"spacingAndGlyphs\" textLength=\"8\" x=\"131.15\" y=\"468.1543\">B</text><line style=\"stroke: #A80036; stroke-width: 1.5;\" x1=\"101.5\" x2=\"142.5\" y1=\"480\" y2=\"480\"/><text fill=\"#000000\" font-family=\"sans-serif\" font-size=\"11\" lengthAdjust=\"spacingAndGlyphs\" textLength=\"31\" x=\"106.5\" y=\"511.0151\">x: ~C</text><line style=\"stroke: #A80036; stroke-width: 1.0;\" x1=\"101.5\" x2=\"107\" y1=\"494.4023\" y2=\"494.4023\"/><text fill=\"#000000\" font-family=\"sans-serif\" font-size=\"11\" lengthAdjust=\"spacingAndGlyphs\" textLength=\"30\" x=\"107\" y=\"497.7104\">ports</text><line style=\"stroke: #A80036; stroke-width: 1.0;\" x1=\"137\" x2=\"142.5\" y1=\"494.4023\" y2=\"494.4023\"/><!--MD5=[b9389687b975829384b498ac4b7476b2]\n",
       "class E8--><rect fill=\"#FEFECE\" filter=\"url(#f1k4vsg5oq9chc)\" height=\"45.9375\" id=\"E8\" rx=\"10\" ry=\"10\" style=\"stroke: #A80036; stroke-width: 1.5;\" width=\"68\" x=\"159\" y=\"582.5\"/><ellipse cx=\"174\" cy=\"601.4688\" fill=\"#32CD32\" rx=\"11\" ry=\"11\" style=\"stroke: #A80036; stroke-width: 1.0;\"/><path d=\"M173.7969,597.1406 L173.7969,600.7656 L174.7969,600.7656 Q176,600.7656 176.4844,600.3594 Q176.9688,599.9531 176.9688,598.9531 Q176.9688,597.9531 176.4844,597.5469 Q176,597.1406 174.7969,597.1406 L173.7969,597.1406 Z M171.3438,595.0781 L174.7031,595.0781 Q177.2656,595.0781 178.3906,596 Q179.5156,596.9063 179.5156,598.9531 Q179.5156,601 178.3906,601.9219 Q177.2656,602.8281 174.7031,602.8281 L173.7969,602.8281 L173.7969,607.4688 L171.3438,607.4688 L171.3438,595.0781 Z \"/><text fill=\"#000000\" font-family=\"sans-serif\" font-size=\"12\" font-style=\"italic\" lengthAdjust=\"spacingAndGlyphs\" textLength=\"40\" x=\"186\" y=\"598.6387\">«part»</text><text fill=\"#000000\" font-family=\"sans-serif\" font-size=\"12\" lengthAdjust=\"spacingAndGlyphs\" textLength=\"24\" x=\"194\" y=\"612.6074\">a: A</text><line style=\"stroke: #A80036; stroke-width: 1.5;\" x1=\"160\" x2=\"226\" y1=\"620.4375\" y2=\"620.4375\"/><!--MD5=[96f4274e9e20536e775497830990834d]\n",
       "class E10--><rect fill=\"#FEFECE\" filter=\"url(#f1k4vsg5oq9chc)\" height=\"75.5469\" id=\"E10\" style=\"stroke: #A80036; stroke-width: 1.5;\" width=\"92\" x=\"32\" y=\"41\"/><ellipse cx=\"47\" cy=\"59.9688\" fill=\"#A52A2A\" rx=\"11\" ry=\"11\" style=\"stroke: #A80036; stroke-width: 1.0;\"/><path d=\"M46.5938,55.7813 L46.5938,63.7656 L47.25,63.7656 Q48.6875,63.7656 49.2969,62.8594 Q49.9219,61.9375 49.9219,59.7656 Q49.9219,57.5938 49.2969,56.6875 Q48.6875,55.7813 47.25,55.7813 L46.5938,55.7813 Z M44.1406,53.5781 L46.7656,53.5781 Q49.7969,53.5781 51.125,55.0313 Q52.4688,56.4688 52.4688,59.7656 Q52.4688,63.0625 51.125,64.5156 Q49.7969,65.9688 46.7656,65.9688 L44.1406,65.9688 L44.1406,53.5781 Z \"/><text fill=\"#000000\" font-family=\"sans-serif\" font-size=\"12\" font-style=\"italic\" lengthAdjust=\"spacingAndGlyphs\" textLength=\"64\" x=\"59\" y=\"57.1387\">«port def»</text><text fill=\"#000000\" font-family=\"sans-serif\" font-size=\"12\" lengthAdjust=\"spacingAndGlyphs\" textLength=\"8\" x=\"87\" y=\"71.1074\">C</text><line style=\"stroke: #A80036; stroke-width: 1.5;\" x1=\"33\" x2=\"123\" y1=\"78.9375\" y2=\"78.9375\"/><text fill=\"#000000\" font-family=\"sans-serif\" font-size=\"11\" lengthAdjust=\"spacingAndGlyphs\" textLength=\"21\" x=\"38\" y=\"109.9526\">y: A</text><text fill=\"#000000\" font-family=\"sans-serif\" font-size=\"11\" font-weight=\"bold\" lengthAdjust=\"spacingAndGlyphs\" textLength=\"15\" x=\"63\" y=\"109.9526\">as</text><text fill=\"#000000\" font-family=\"sans-serif\" font-size=\"11\" lengthAdjust=\"spacingAndGlyphs\" textLength=\"12\" x=\"82\" y=\"109.9526\">z2</text><line style=\"stroke: #A80036; stroke-width: 1.0;\" x1=\"33\" x2=\"47\" y1=\"93.3398\" y2=\"93.3398\"/><text fill=\"#000000\" font-family=\"sans-serif\" font-size=\"11\" lengthAdjust=\"spacingAndGlyphs\" textLength=\"62\" x=\"47\" y=\"96.6479\">references</text><line style=\"stroke: #A80036; stroke-width: 1.0;\" x1=\"109\" x2=\"123\" y1=\"93.3398\" y2=\"93.3398\"/><polygon fill=\"#FFFFFF\" filter=\"url(#f1k4vsg5oq9chc)\" points=\"94,579,110,579,117,601.2969,124,601.2969,124,631.5938,94,631.5938,94,579\" style=\"stroke: #000000; stroke-width: 1.5;\"/><line style=\"stroke: #000000; stroke-width: 1.5;\" x1=\"94\" x2=\"117\" y1=\"601.2969\" y2=\"601.2969\"/><text fill=\"#000000\" font-family=\"sans-serif\" font-size=\"14\" font-weight=\"bold\" lengthAdjust=\"spacingAndGlyphs\" textLength=\"10\" x=\"98\" y=\"593.9951\">P</text><!--MD5=[2720a5a1f2c3fca2055b230370638851]\n",
       "link E2 to E3--><path d=\"M189.41,102.16 C186.33,121.12 181.78,149.21 177.75,174.04 \" fill=\"none\" id=\"E2-&gt;E3\" style=\"stroke: #A80036; stroke-width: 1.0;\"/><polygon fill=\"#FFFFFF\" points=\"174.54,193.87,170.6701,173.9948,184.4897,176.2347,174.54,193.87\" style=\"stroke: #A80036; stroke-width: 1.0;\"/><ellipse cx=\"173.5563\" cy=\"168.6882\" fill=\"#A80036\" rx=\"2\" ry=\"2\" style=\"stroke: #A80036; stroke-width: 1.0;\"/><ellipse cx=\"183.4275\" cy=\"170.2882\" fill=\"#A80036\" rx=\"2\" ry=\"2\" style=\"stroke: #A80036; stroke-width: 1.0;\"/><!--MD5=[4672eba38e49728da53d11aeb285b987]\n",
       "reverse link E3 to E4--><path d=\"M159.4,277.28 C155,298.98 149.98,323.67 146.47,340.96 \" fill=\"none\" id=\"E3&lt;-E4\" style=\"stroke: #A80036; stroke-width: 1.0;\"/><polygon fill=\"#A80036\" points=\"162.05,264.25,156.9367,269.3347,159.6637,276.0103,164.7769,270.9256,162.05,264.25\" style=\"stroke: #A80036; stroke-width: 1.0;\"/><!--MD5=[79568f1e445c3877b6a54524624ccc7d]\n",
       "link E4 to E6--><path d=\"M138.24,387.01 C136.25,398.61 133.72,413.41 131.26,427.86 \" fill=\"none\" id=\"E4-&gt;E6\" style=\"stroke: #A80036; stroke-width: 1.0;\"/><polygon fill=\"#FFFFFF\" points=\"127.87,447.67,124.1589,427.7645,137.9603,430.1147,127.87,447.67\" style=\"stroke: #A80036; stroke-width: 1.0;\"/><ellipse cx=\"127.0874\" cy=\"422.4812\" fill=\"#A80036\" rx=\"2\" ry=\"2\" style=\"stroke: #A80036; stroke-width: 1.0;\"/><ellipse cx=\"136.9455\" cy=\"424.1599\" fill=\"#A80036\" rx=\"2\" ry=\"2\" style=\"stroke: #A80036; stroke-width: 1.0;\"/><!--MD5=[3f50a3473f1dfb74d3f76443e03635af]\n",
       "reverse link E6 to E7--><path d=\"M116.68,533.27 C115.01,548.83 113.22,565.4 111.79,578.64 \" fill=\"none\" id=\"E6&lt;-E7\" style=\"stroke: #A80036; stroke-width: 1.0;\"/><ellipse cx=\"117.4567\" cy=\"526.1644\" fill=\"#FFFFFF\" rx=\"8\" ry=\"8\" style=\"stroke: #A80036; stroke-width: 1.0;\"/><line style=\"stroke: #A80036; stroke-width: 1.0;\" x1=\"116.6033\" x2=\"118.31\" y1=\"534.1187\" y2=\"518.21\"/><line style=\"stroke: #A80036; stroke-width: 1.0;\" x1=\"109.5023\" x2=\"125.411\" y1=\"525.311\" y2=\"527.0177\"/><!--MD5=[95fa686b5a16158bcdbcaeead89f639b]\n",
       "link E8 to E3--><path d=\"M194.8,582.2 C198.09,536.68 203.89,429.89 194,341 C191.9,322.13 187.85,301.78 183.62,283.73 \" fill=\"none\" id=\"E8-&gt;E3\" style=\"stroke: #A80036; stroke-width: 1.0;\"/><polygon fill=\"#FFFFFF\" points=\"178.76,264.17,190.1301,280.9247,176.5423,284.2966,178.76,264.17\" style=\"stroke: #A80036; stroke-width: 1.0;\"/><ellipse cx=\"189.5619\" cy=\"286.9386\" fill=\"#A80036\" rx=\"2\" ry=\"2\" style=\"stroke: #A80036; stroke-width: 1.0;\"/><ellipse cx=\"179.8563\" cy=\"289.3471\" fill=\"#A80036\" rx=\"2\" ry=\"2\" style=\"stroke: #A80036; stroke-width: 1.0;\"/><!--MD5=[f4cf0736d43fd73c4ef68817c49d37d5]\n",
       "reverse link E6 to E8--><path d=\"M148.79,529.47 C159.46,547.58 171.25,567.58 179.97,582.38 \" fill=\"none\" id=\"E6&lt;-E8\" style=\"stroke: #A80036; stroke-width: 1.0;\"/><polygon fill=\"#A80036\" points=\"142.16,518.21,141.76,525.41,148.2523,528.5485,148.6523,521.3485,142.16,518.21\" style=\"stroke: #A80036; stroke-width: 1.0;\"/><!--MD5=[8e04057e7b3cbc0dca4fc78ea351e2da]\n",
       "reverse link E10 to E3--><path d=\"M107.78,128.43 C121.23,150.31 136.77,175.59 148.83,195.2 \" fill=\"none\" id=\"E10&lt;-E3\" style=\"stroke: #A80036; stroke-width: 1.0;\"/><polygon fill=\"#FFFFFF\" points=\"100.96,117.35,100.6917,124.5561,107.2403,127.5753,107.5086,120.3692,100.96,117.35\" style=\"stroke: #A80036; stroke-width: 1.0;\"/><text fill=\"#000000\" font-family=\"sans-serif\" font-size=\"13\" lengthAdjust=\"spacingAndGlyphs\" textLength=\"7\" x=\"129\" y=\"160.0669\">y</text><!--MD5=[604cbf994c02b74b117f728a71673cea]\n",
       "reverse link E10 to E6--><path d=\"M75.96,130.3 C74.43,191.49 74.85,297.69 91,387 C94.73,407.66 101.86,430.01 108.35,447.84 \" fill=\"none\" id=\"E10&lt;-E6\" style=\"stroke: #A80036; stroke-width: 1.0;\"/><polygon fill=\"#FFFFFF\" points=\"76.33,117.22,72.1603,123.1033,75.9873,129.2151,80.157,123.3318,76.33,117.22\" style=\"stroke: #A80036; stroke-width: 1.0;\"/><text fill=\"#000000\" font-family=\"sans-serif\" font-size=\"13\" lengthAdjust=\"spacingAndGlyphs\" textLength=\"7\" x=\"81\" y=\"307.0669\">y</text><!--MD5=[ee45b3e08fdecde1a3060005849135e0]\n",
       "@startuml\r\n",
       " \r\n",
       "package \"PartTest\" as E1   {\r\n",
       "comp usage \"f: A\" as E2  << (P,limegreen) part>> {\r\n",
       "}\r\n",
       "comp def \"A\" as E3  << (B,green) >> {\r\n",
       "- -ports- -\r\n",
       "c: C\r\n",
       "}\r\n",
       "comp usage \"b: B\" as E4  << (P,limegreen) part>> {\r\n",
       "}\r\n",
       "comp def \"B\" as E6  << (B,green) >> {\r\n",
       "- -ports- -\r\n",
       "x: ~C\r\n",
       "}\r\n",
       "package \"P\" as E7   {\r\n",
       "}\r\n",
       "comp usage \"a: A\" as E8  << (P,limegreen) part>> {\r\n",
       "}\r\n",
       "comp def \"C\" as E10  <<(D,brown)port def>> {\r\n",
       "- -references- -\r\n",
       "y: A <b>as</b> z2 \r\n",
       "}\r\n",
       "E2 - -:|> E3\r\n",
       "E3 *- - E4\r\n",
       "E4 - -:|> E6\r\n",
       "E6 +- - E7\r\n",
       "E8 - -:|> E3\r\n",
       "E6 *- - E8\r\n",
       "E10 o- - E3 : y\r\n",
       "E10 o- - E6 : y\r\n",
       "}\r\n",
       "@enduml\r\n",
       "\n",
       "PlantUML version 1.2020.13(Sat Jun 13 12:26:38 UTC 2020)\n",
       "(EPL source distribution)\n",
       "Java Runtime: OpenJDK Runtime Environment\n",
       "JVM: OpenJDK 64-Bit Server VM\n",
       "Default Encoding: UTF-8\n",
       "Language: en\n",
       "Country: null\n",
       "--></g></svg>"
      ]
     },
     "execution_count": 30,
     "metadata": {},
     "output_type": "execute_result"
    }
   ],
   "source": [
    "%viz --style=\"PLANTUML\" --view=\"Default\" \"PartTest\""
   ]
  },
  {
   "cell_type": "code",
   "execution_count": 31,
   "id": "latin-dancing",
   "metadata": {
    "execution": {
     "iopub.execute_input": "2021-03-25T16:06:34.394606Z",
     "iopub.status.busy": "2021-03-25T16:06:34.394060Z",
     "iopub.status.idle": "2021-03-25T16:06:34.728486Z",
     "shell.execute_reply": "2021-03-25T16:06:34.728941Z"
    }
   },
   "outputs": [
    {
     "data": {
      "image/svg+xml": [
       "<?xml version=\"1.0\" encoding=\"UTF-8\" standalone=\"no\"?><svg xmlns=\"http://www.w3.org/2000/svg\" xmlns:xlink=\"http://www.w3.org/1999/xlink\" contentScriptType=\"application/ecmascript\" contentStyleType=\"text/css\" height=\"660px\" preserveAspectRatio=\"none\" style=\"width:265px;height:660px;\" version=\"1.1\" viewBox=\"0 0 265 660\" width=\"265px\" zoomAndPan=\"magnify\"><defs><filter height=\"300%\" id=\"f1k4vsg5oq9chc\" width=\"300%\" x=\"-1\" y=\"-1\"><feGaussianBlur result=\"blurOut\" stdDeviation=\"2.0\"/><feColorMatrix in=\"blurOut\" result=\"blurOut2\" type=\"matrix\" values=\"0 0 0 0 0 0 0 0 0 0 0 0 0 0 0 0 0 0 .4 0\"/><feOffset dx=\"4.0\" dy=\"4.0\" in=\"blurOut2\" result=\"blurOut3\"/><feBlend in=\"SourceGraphic\" in2=\"blurOut3\" mode=\"normal\"/></filter></defs><g><!--MD5=[fbc87193dbaf4d95561dea2c320d4a47]\n",
       "cluster E1--><polygon fill=\"#FFFFFF\" filter=\"url(#f1k4vsg5oq9chc)\" points=\"16,6,89,6,96,28.2969,243,28.2969,243,648,16,648,16,6\" style=\"stroke: #000000; stroke-width: 1.5;\"/><line style=\"stroke: #000000; stroke-width: 1.5;\" x1=\"16\" x2=\"96\" y1=\"28.2969\" y2=\"28.2969\"/><text fill=\"#000000\" font-family=\"sans-serif\" font-size=\"14\" font-weight=\"bold\" lengthAdjust=\"spacingAndGlyphs\" textLength=\"67\" x=\"20\" y=\"20.9951\">PartTest</text><!--MD5=[b4997ac47864f28c2f74865a473b2911]\n",
       "class E2--><rect fill=\"#FEFECE\" filter=\"url(#f1k4vsg5oq9chc)\" height=\"45.9375\" id=\"E2\" rx=\"10\" ry=\"10\" style=\"stroke: #A80036; stroke-width: 1.5;\" width=\"68\" x=\"159\" y=\"56\"/><ellipse cx=\"174\" cy=\"74.9688\" fill=\"#32CD32\" rx=\"11\" ry=\"11\" style=\"stroke: #A80036; stroke-width: 1.0;\"/><path d=\"M173.7969,70.6406 L173.7969,74.2656 L174.7969,74.2656 Q176,74.2656 176.4844,73.8594 Q176.9688,73.4531 176.9688,72.4531 Q176.9688,71.4531 176.4844,71.0469 Q176,70.6406 174.7969,70.6406 L173.7969,70.6406 Z M171.3438,68.5781 L174.7031,68.5781 Q177.2656,68.5781 178.3906,69.5 Q179.5156,70.4063 179.5156,72.4531 Q179.5156,74.5 178.3906,75.4219 Q177.2656,76.3281 174.7031,76.3281 L173.7969,76.3281 L173.7969,80.9688 L171.3438,80.9688 L171.3438,68.5781 Z \"/><text fill=\"#000000\" font-family=\"sans-serif\" font-size=\"12\" font-style=\"italic\" lengthAdjust=\"spacingAndGlyphs\" textLength=\"40\" x=\"186\" y=\"72.1387\">«part»</text><text fill=\"#000000\" font-family=\"sans-serif\" font-size=\"12\" lengthAdjust=\"spacingAndGlyphs\" textLength=\"20\" x=\"196\" y=\"86.1074\">f: A</text><line style=\"stroke: #A80036; stroke-width: 1.5;\" x1=\"160\" x2=\"226\" y1=\"93.9375\" y2=\"93.9375\"/><!--MD5=[09b614a08d8cba4a07c9adeb5e0fee81]\n",
       "class E3--><rect fill=\"#FEFECE\" filter=\"url(#f1k4vsg5oq9chc)\" height=\"69.6094\" id=\"E3\" style=\"stroke: #A80036; stroke-width: 1.5;\" width=\"40\" x=\"149\" y=\"194\"/><ellipse cx=\"164\" cy=\"210\" fill=\"#008000\" rx=\"11\" ry=\"11\" style=\"stroke: #A80036; stroke-width: 1.0;\"/><path d=\"M162.9063,210.375 L162.9063,214.0469 L164.5313,214.0469 Q165.7031,214.0469 166.1719,213.6563 Q166.6406,213.25 166.6406,212.25 Q166.6406,211.25 166.1406,210.8125 Q165.6563,210.375 164.5313,210.375 L162.9063,210.375 Z M162.9063,205.5469 L162.9063,208.4219 L164.5313,208.4219 Q165.4531,208.4219 165.8438,208.0938 Q166.25,207.75 166.25,207 Q166.25,206.2344 165.8438,205.8906 Q165.4375,205.5469 164.5313,205.5469 L162.9063,205.5469 Z M160.5313,203.5938 L164.5313,203.5938 Q166.5938,203.5938 167.6406,204.375 Q168.6875,205.1563 168.6875,206.7188 Q168.6875,207.9219 168.0625,208.5938 Q167.4531,209.2656 166.2656,209.375 Q167.6875,209.5156 168.4063,210.3281 Q169.125,211.1406 169.125,212.5938 Q169.125,214.3906 168.0469,215.2031 Q166.9688,216 164.5313,216 L160.5313,216 L160.5313,203.5938 Z \"/><text fill=\"#000000\" font-family=\"sans-serif\" font-size=\"12\" lengthAdjust=\"spacingAndGlyphs\" textLength=\"8\" x=\"178\" y=\"214.1543\">A</text><line style=\"stroke: #A80036; stroke-width: 1.5;\" x1=\"150\" x2=\"188\" y1=\"226\" y2=\"226\"/><text fill=\"#000000\" font-family=\"sans-serif\" font-size=\"11\" lengthAdjust=\"spacingAndGlyphs\" textLength=\"22\" x=\"155\" y=\"257.0151\">c: C</text><line style=\"stroke: #A80036; stroke-width: 1.0;\" x1=\"150\" x2=\"154\" y1=\"240.4023\" y2=\"240.4023\"/><text fill=\"#000000\" font-family=\"sans-serif\" font-size=\"11\" lengthAdjust=\"spacingAndGlyphs\" textLength=\"30\" x=\"154\" y=\"243.7104\">ports</text><line style=\"stroke: #A80036; stroke-width: 1.0;\" x1=\"184\" x2=\"188\" y1=\"240.4023\" y2=\"240.4023\"/><!--MD5=[ebbe1d658d1005bcc118a6aa81145e00]\n",
       "class E4--><rect fill=\"#FEFECE\" filter=\"url(#f1k4vsg5oq9chc)\" height=\"45.9375\" id=\"E4\" rx=\"10\" ry=\"10\" style=\"stroke: #A80036; stroke-width: 1.5;\" width=\"68\" x=\"108\" y=\"341\"/><ellipse cx=\"123\" cy=\"359.9688\" fill=\"#32CD32\" rx=\"11\" ry=\"11\" style=\"stroke: #A80036; stroke-width: 1.0;\"/><path d=\"M122.7969,355.6406 L122.7969,359.2656 L123.7969,359.2656 Q125,359.2656 125.4844,358.8594 Q125.9688,358.4531 125.9688,357.4531 Q125.9688,356.4531 125.4844,356.0469 Q125,355.6406 123.7969,355.6406 L122.7969,355.6406 Z M120.3438,353.5781 L123.7031,353.5781 Q126.2656,353.5781 127.3906,354.5 Q128.5156,355.4063 128.5156,357.4531 Q128.5156,359.5 127.3906,360.4219 Q126.2656,361.3281 123.7031,361.3281 L122.7969,361.3281 L122.7969,365.9688 L120.3438,365.9688 L120.3438,353.5781 Z \"/><text fill=\"#000000\" font-family=\"sans-serif\" font-size=\"12\" font-style=\"italic\" lengthAdjust=\"spacingAndGlyphs\" textLength=\"40\" x=\"135\" y=\"357.1387\">«part»</text><text fill=\"#000000\" font-family=\"sans-serif\" font-size=\"12\" lengthAdjust=\"spacingAndGlyphs\" textLength=\"24\" x=\"143\" y=\"371.1074\">b: B</text><line style=\"stroke: #A80036; stroke-width: 1.5;\" x1=\"109\" x2=\"175\" y1=\"378.9375\" y2=\"378.9375\"/><!--MD5=[60a26617385b1d2d0262a64233df1f8d]\n",
       "class E6--><rect fill=\"#FEFECE\" filter=\"url(#f1k4vsg5oq9chc)\" height=\"69.6094\" id=\"E6\" style=\"stroke: #A80036; stroke-width: 1.5;\" width=\"43\" x=\"100.5\" y=\"448\"/><ellipse cx=\"116.85\" cy=\"464\" fill=\"#008000\" rx=\"11\" ry=\"11\" style=\"stroke: #A80036; stroke-width: 1.0;\"/><path d=\"M115.7563,464.375 L115.7563,468.0469 L117.3813,468.0469 Q118.5531,468.0469 119.0219,467.6563 Q119.4906,467.25 119.4906,466.25 Q119.4906,465.25 118.9906,464.8125 Q118.5063,464.375 117.3813,464.375 L115.7563,464.375 Z M115.7563,459.5469 L115.7563,462.4219 L117.3813,462.4219 Q118.3031,462.4219 118.6938,462.0938 Q119.1,461.75 119.1,461 Q119.1,460.2344 118.6938,459.8906 Q118.2875,459.5469 117.3813,459.5469 L115.7563,459.5469 Z M113.3813,457.5938 L117.3813,457.5938 Q119.4438,457.5938 120.4906,458.375 Q121.5375,459.1563 121.5375,460.7188 Q121.5375,461.9219 120.9125,462.5938 Q120.3031,463.2656 119.1156,463.375 Q120.5375,463.5156 121.2563,464.3281 Q121.975,465.1406 121.975,466.5938 Q121.975,468.3906 120.8969,469.2031 Q119.8188,470 117.3813,470 L113.3813,470 L113.3813,457.5938 Z \"/><text fill=\"#000000\" font-family=\"sans-serif\" font-size=\"12\" lengthAdjust=\"spacingAndGlyphs\" textLength=\"8\" x=\"131.15\" y=\"468.1543\">B</text><line style=\"stroke: #A80036; stroke-width: 1.5;\" x1=\"101.5\" x2=\"142.5\" y1=\"480\" y2=\"480\"/><text fill=\"#000000\" font-family=\"sans-serif\" font-size=\"11\" lengthAdjust=\"spacingAndGlyphs\" textLength=\"31\" x=\"106.5\" y=\"511.0151\">x: ~C</text><line style=\"stroke: #A80036; stroke-width: 1.0;\" x1=\"101.5\" x2=\"107\" y1=\"494.4023\" y2=\"494.4023\"/><text fill=\"#000000\" font-family=\"sans-serif\" font-size=\"11\" lengthAdjust=\"spacingAndGlyphs\" textLength=\"30\" x=\"107\" y=\"497.7104\">ports</text><line style=\"stroke: #A80036; stroke-width: 1.0;\" x1=\"137\" x2=\"142.5\" y1=\"494.4023\" y2=\"494.4023\"/><!--MD5=[b9389687b975829384b498ac4b7476b2]\n",
       "class E8--><rect fill=\"#FEFECE\" filter=\"url(#f1k4vsg5oq9chc)\" height=\"45.9375\" id=\"E8\" rx=\"10\" ry=\"10\" style=\"stroke: #A80036; stroke-width: 1.5;\" width=\"68\" x=\"159\" y=\"582.5\"/><ellipse cx=\"174\" cy=\"601.4688\" fill=\"#32CD32\" rx=\"11\" ry=\"11\" style=\"stroke: #A80036; stroke-width: 1.0;\"/><path d=\"M173.7969,597.1406 L173.7969,600.7656 L174.7969,600.7656 Q176,600.7656 176.4844,600.3594 Q176.9688,599.9531 176.9688,598.9531 Q176.9688,597.9531 176.4844,597.5469 Q176,597.1406 174.7969,597.1406 L173.7969,597.1406 Z M171.3438,595.0781 L174.7031,595.0781 Q177.2656,595.0781 178.3906,596 Q179.5156,596.9063 179.5156,598.9531 Q179.5156,601 178.3906,601.9219 Q177.2656,602.8281 174.7031,602.8281 L173.7969,602.8281 L173.7969,607.4688 L171.3438,607.4688 L171.3438,595.0781 Z \"/><text fill=\"#000000\" font-family=\"sans-serif\" font-size=\"12\" font-style=\"italic\" lengthAdjust=\"spacingAndGlyphs\" textLength=\"40\" x=\"186\" y=\"598.6387\">«part»</text><text fill=\"#000000\" font-family=\"sans-serif\" font-size=\"12\" lengthAdjust=\"spacingAndGlyphs\" textLength=\"24\" x=\"194\" y=\"612.6074\">a: A</text><line style=\"stroke: #A80036; stroke-width: 1.5;\" x1=\"160\" x2=\"226\" y1=\"620.4375\" y2=\"620.4375\"/><!--MD5=[96f4274e9e20536e775497830990834d]\n",
       "class E10--><rect fill=\"#FEFECE\" filter=\"url(#f1k4vsg5oq9chc)\" height=\"75.5469\" id=\"E10\" style=\"stroke: #A80036; stroke-width: 1.5;\" width=\"92\" x=\"32\" y=\"41\"/><ellipse cx=\"47\" cy=\"59.9688\" fill=\"#A52A2A\" rx=\"11\" ry=\"11\" style=\"stroke: #A80036; stroke-width: 1.0;\"/><path d=\"M46.5938,55.7813 L46.5938,63.7656 L47.25,63.7656 Q48.6875,63.7656 49.2969,62.8594 Q49.9219,61.9375 49.9219,59.7656 Q49.9219,57.5938 49.2969,56.6875 Q48.6875,55.7813 47.25,55.7813 L46.5938,55.7813 Z M44.1406,53.5781 L46.7656,53.5781 Q49.7969,53.5781 51.125,55.0313 Q52.4688,56.4688 52.4688,59.7656 Q52.4688,63.0625 51.125,64.5156 Q49.7969,65.9688 46.7656,65.9688 L44.1406,65.9688 L44.1406,53.5781 Z \"/><text fill=\"#000000\" font-family=\"sans-serif\" font-size=\"12\" font-style=\"italic\" lengthAdjust=\"spacingAndGlyphs\" textLength=\"64\" x=\"59\" y=\"57.1387\">«port def»</text><text fill=\"#000000\" font-family=\"sans-serif\" font-size=\"12\" lengthAdjust=\"spacingAndGlyphs\" textLength=\"8\" x=\"87\" y=\"71.1074\">C</text><line style=\"stroke: #A80036; stroke-width: 1.5;\" x1=\"33\" x2=\"123\" y1=\"78.9375\" y2=\"78.9375\"/><text fill=\"#000000\" font-family=\"sans-serif\" font-size=\"11\" lengthAdjust=\"spacingAndGlyphs\" textLength=\"21\" x=\"38\" y=\"109.9526\">y: A</text><text fill=\"#000000\" font-family=\"sans-serif\" font-size=\"11\" font-weight=\"bold\" lengthAdjust=\"spacingAndGlyphs\" textLength=\"15\" x=\"63\" y=\"109.9526\">as</text><text fill=\"#000000\" font-family=\"sans-serif\" font-size=\"11\" lengthAdjust=\"spacingAndGlyphs\" textLength=\"12\" x=\"82\" y=\"109.9526\">z2</text><line style=\"stroke: #A80036; stroke-width: 1.0;\" x1=\"33\" x2=\"47\" y1=\"93.3398\" y2=\"93.3398\"/><text fill=\"#000000\" font-family=\"sans-serif\" font-size=\"11\" lengthAdjust=\"spacingAndGlyphs\" textLength=\"62\" x=\"47\" y=\"96.6479\">references</text><line style=\"stroke: #A80036; stroke-width: 1.0;\" x1=\"109\" x2=\"123\" y1=\"93.3398\" y2=\"93.3398\"/><polygon fill=\"#FFFFFF\" filter=\"url(#f1k4vsg5oq9chc)\" points=\"94,579,110,579,117,601.2969,124,601.2969,124,631.5938,94,631.5938,94,579\" style=\"stroke: #000000; stroke-width: 1.5;\"/><line style=\"stroke: #000000; stroke-width: 1.5;\" x1=\"94\" x2=\"117\" y1=\"601.2969\" y2=\"601.2969\"/><text fill=\"#000000\" font-family=\"sans-serif\" font-size=\"14\" font-weight=\"bold\" lengthAdjust=\"spacingAndGlyphs\" textLength=\"10\" x=\"98\" y=\"593.9951\">P</text><!--MD5=[2720a5a1f2c3fca2055b230370638851]\n",
       "link E2 to E3--><path d=\"M189.41,102.16 C186.33,121.12 181.78,149.21 177.75,174.04 \" fill=\"none\" id=\"E2-&gt;E3\" style=\"stroke: #A80036; stroke-width: 1.0;\"/><polygon fill=\"#FFFFFF\" points=\"174.54,193.87,170.6701,173.9948,184.4897,176.2347,174.54,193.87\" style=\"stroke: #A80036; stroke-width: 1.0;\"/><ellipse cx=\"173.5563\" cy=\"168.6882\" fill=\"#A80036\" rx=\"2\" ry=\"2\" style=\"stroke: #A80036; stroke-width: 1.0;\"/><ellipse cx=\"183.4275\" cy=\"170.2882\" fill=\"#A80036\" rx=\"2\" ry=\"2\" style=\"stroke: #A80036; stroke-width: 1.0;\"/><!--MD5=[4672eba38e49728da53d11aeb285b987]\n",
       "reverse link E3 to E4--><path d=\"M159.4,277.28 C155,298.98 149.98,323.67 146.47,340.96 \" fill=\"none\" id=\"E3&lt;-E4\" style=\"stroke: #A80036; stroke-width: 1.0;\"/><polygon fill=\"#A80036\" points=\"162.05,264.25,156.9367,269.3347,159.6637,276.0103,164.7769,270.9256,162.05,264.25\" style=\"stroke: #A80036; stroke-width: 1.0;\"/><!--MD5=[79568f1e445c3877b6a54524624ccc7d]\n",
       "link E4 to E6--><path d=\"M138.24,387.01 C136.25,398.61 133.72,413.41 131.26,427.86 \" fill=\"none\" id=\"E4-&gt;E6\" style=\"stroke: #A80036; stroke-width: 1.0;\"/><polygon fill=\"#FFFFFF\" points=\"127.87,447.67,124.1589,427.7645,137.9603,430.1147,127.87,447.67\" style=\"stroke: #A80036; stroke-width: 1.0;\"/><ellipse cx=\"127.0874\" cy=\"422.4812\" fill=\"#A80036\" rx=\"2\" ry=\"2\" style=\"stroke: #A80036; stroke-width: 1.0;\"/><ellipse cx=\"136.9455\" cy=\"424.1599\" fill=\"#A80036\" rx=\"2\" ry=\"2\" style=\"stroke: #A80036; stroke-width: 1.0;\"/><!--MD5=[3f50a3473f1dfb74d3f76443e03635af]\n",
       "reverse link E6 to E7--><path d=\"M116.68,533.27 C115.01,548.83 113.22,565.4 111.79,578.64 \" fill=\"none\" id=\"E6&lt;-E7\" style=\"stroke: #A80036; stroke-width: 1.0;\"/><ellipse cx=\"117.4567\" cy=\"526.1644\" fill=\"#FFFFFF\" rx=\"8\" ry=\"8\" style=\"stroke: #A80036; stroke-width: 1.0;\"/><line style=\"stroke: #A80036; stroke-width: 1.0;\" x1=\"116.6033\" x2=\"118.31\" y1=\"534.1187\" y2=\"518.21\"/><line style=\"stroke: #A80036; stroke-width: 1.0;\" x1=\"109.5023\" x2=\"125.411\" y1=\"525.311\" y2=\"527.0177\"/><!--MD5=[95fa686b5a16158bcdbcaeead89f639b]\n",
       "link E8 to E3--><path d=\"M194.8,582.2 C198.09,536.68 203.89,429.89 194,341 C191.9,322.13 187.85,301.78 183.62,283.73 \" fill=\"none\" id=\"E8-&gt;E3\" style=\"stroke: #A80036; stroke-width: 1.0;\"/><polygon fill=\"#FFFFFF\" points=\"178.76,264.17,190.1301,280.9247,176.5423,284.2966,178.76,264.17\" style=\"stroke: #A80036; stroke-width: 1.0;\"/><ellipse cx=\"189.5619\" cy=\"286.9386\" fill=\"#A80036\" rx=\"2\" ry=\"2\" style=\"stroke: #A80036; stroke-width: 1.0;\"/><ellipse cx=\"179.8563\" cy=\"289.3471\" fill=\"#A80036\" rx=\"2\" ry=\"2\" style=\"stroke: #A80036; stroke-width: 1.0;\"/><!--MD5=[f4cf0736d43fd73c4ef68817c49d37d5]\n",
       "reverse link E6 to E8--><path d=\"M148.79,529.47 C159.46,547.58 171.25,567.58 179.97,582.38 \" fill=\"none\" id=\"E6&lt;-E8\" style=\"stroke: #A80036; stroke-width: 1.0;\"/><polygon fill=\"#A80036\" points=\"142.16,518.21,141.76,525.41,148.2523,528.5485,148.6523,521.3485,142.16,518.21\" style=\"stroke: #A80036; stroke-width: 1.0;\"/><!--MD5=[8e04057e7b3cbc0dca4fc78ea351e2da]\n",
       "reverse link E10 to E3--><path d=\"M107.78,128.43 C121.23,150.31 136.77,175.59 148.83,195.2 \" fill=\"none\" id=\"E10&lt;-E3\" style=\"stroke: #A80036; stroke-width: 1.0;\"/><polygon fill=\"#FFFFFF\" points=\"100.96,117.35,100.6917,124.5561,107.2403,127.5753,107.5086,120.3692,100.96,117.35\" style=\"stroke: #A80036; stroke-width: 1.0;\"/><text fill=\"#000000\" font-family=\"sans-serif\" font-size=\"13\" lengthAdjust=\"spacingAndGlyphs\" textLength=\"7\" x=\"129\" y=\"160.0669\">y</text><!--MD5=[604cbf994c02b74b117f728a71673cea]\n",
       "reverse link E10 to E6--><path d=\"M75.96,130.3 C74.43,191.49 74.85,297.69 91,387 C94.73,407.66 101.86,430.01 108.35,447.84 \" fill=\"none\" id=\"E10&lt;-E6\" style=\"stroke: #A80036; stroke-width: 1.0;\"/><polygon fill=\"#FFFFFF\" points=\"76.33,117.22,72.1603,123.1033,75.9873,129.2151,80.157,123.3318,76.33,117.22\" style=\"stroke: #A80036; stroke-width: 1.0;\"/><text fill=\"#000000\" font-family=\"sans-serif\" font-size=\"13\" lengthAdjust=\"spacingAndGlyphs\" textLength=\"7\" x=\"81\" y=\"307.0669\">y</text><!--MD5=[ee45b3e08fdecde1a3060005849135e0]\n",
       "@startuml\r\n",
       " \r\n",
       "package \"PartTest\" as E1   {\r\n",
       "comp usage \"f: A\" as E2  << (P,limegreen) part>> {\r\n",
       "}\r\n",
       "comp def \"A\" as E3  << (B,green) >> {\r\n",
       "- -ports- -\r\n",
       "c: C\r\n",
       "}\r\n",
       "comp usage \"b: B\" as E4  << (P,limegreen) part>> {\r\n",
       "}\r\n",
       "comp def \"B\" as E6  << (B,green) >> {\r\n",
       "- -ports- -\r\n",
       "x: ~C\r\n",
       "}\r\n",
       "package \"P\" as E7   {\r\n",
       "}\r\n",
       "comp usage \"a: A\" as E8  << (P,limegreen) part>> {\r\n",
       "}\r\n",
       "comp def \"C\" as E10  <<(D,brown)port def>> {\r\n",
       "- -references- -\r\n",
       "y: A <b>as</b> z2 \r\n",
       "}\r\n",
       "E2 - -:|> E3\r\n",
       "E3 *- - E4\r\n",
       "E4 - -:|> E6\r\n",
       "E6 +- - E7\r\n",
       "E8 - -:|> E3\r\n",
       "E6 *- - E8\r\n",
       "E10 o- - E3 : y\r\n",
       "E10 o- - E6 : y\r\n",
       "}\r\n",
       "@enduml\r\n",
       "\n",
       "PlantUML version 1.2020.13(Sat Jun 13 12:26:38 UTC 2020)\n",
       "(EPL source distribution)\n",
       "Java Runtime: OpenJDK Runtime Environment\n",
       "JVM: OpenJDK 64-Bit Server VM\n",
       "Default Encoding: UTF-8\n",
       "Language: en\n",
       "Country: null\n",
       "--></g></svg>"
      ]
     },
     "execution_count": 31,
     "metadata": {},
     "output_type": "execute_result"
    }
   ],
   "source": [
    "%viz --style=\"PLANTUML\" --view=\"Tree\" \"PartTest\""
   ]
  },
  {
   "cell_type": "code",
   "execution_count": 32,
   "id": "wrapped-excuse",
   "metadata": {
    "execution": {
     "iopub.execute_input": "2021-03-25T16:06:34.779155Z",
     "iopub.status.busy": "2021-03-25T16:06:34.778728Z",
     "iopub.status.idle": "2021-03-25T16:06:34.780315Z",
     "shell.execute_reply": "2021-03-25T16:06:34.780791Z"
    }
   },
   "outputs": [
    {
     "data": {
      "text/plain": [
       "java.lang.IllegalArgumentException: Invalid View: State View candidates are: Default Tree StateMachine Interconnection Activity Sequence MIXED \n",
       "\tat org.omg.sysml.plantuml.SysML2PlantUMLSvc.setView(SysML2PlantUMLSvc.java:63)\n",
       "\tat org.omg.sysml.interactive.SysMLInteractive.viz(SysMLInteractive.java:286)\n",
       "\tat org.omg.sysml.jupyter.kernel.magic.Viz.viz(Viz.java:47)\n",
       "\tat jdk.internal.reflect.GeneratedMethodAccessor9.invoke(Unknown Source)\n",
       "\tat java.base/jdk.internal.reflect.DelegatingMethodAccessorImpl.invoke(DelegatingMethodAccessorImpl.java:43)\n",
       "\tat java.base/java.lang.reflect.Method.invoke(Method.java:568)\n",
       "\tat io.github.spencerpark.jupyter.kernel.magic.registry.Magics.invoke(Magics.java:89)\n",
       "\tat io.github.spencerpark.jupyter.kernel.magic.registry.Magics.access$000(Magics.java:8)\n",
       "\tat io.github.spencerpark.jupyter.kernel.magic.registry.Magics$LineReflectionMagicFunction.execute(Magics.java:149)\n",
       "\tat io.github.spencerpark.jupyter.kernel.magic.registry.Magics.applyLineMagic(Magics.java:26)\n",
       "\tat org.omg.sysml.jupyter.kernel.SysMLKernel.eval(SysMLKernel.java:76)\n",
       "\tat io.github.spencerpark.jupyter.kernel.BaseKernel.handleExecuteRequest(BaseKernel.java:334)\n",
       "\tat io.github.spencerpark.jupyter.channels.ShellChannel.lambda$bind$0(ShellChannel.java:64)\n",
       "\tat io.github.spencerpark.jupyter.channels.Loop.lambda$new$0(Loop.java:21)\n",
       "\tat io.github.spencerpark.jupyter.channels.Loop.run(Loop.java:78)\n"
      ]
     },
     "execution_count": 32,
     "metadata": {},
     "output_type": "execute_result"
    }
   ],
   "source": [
    "%viz --style=\"PLANTUML\" --view=\"State\" \"PartTest\""
   ]
  },
  {
   "cell_type": "code",
   "execution_count": 33,
   "id": "bound-cliff",
   "metadata": {
    "execution": {
     "iopub.execute_input": "2021-03-25T16:06:34.832043Z",
     "iopub.status.busy": "2021-03-25T16:06:34.831587Z",
     "iopub.status.idle": "2021-03-25T16:06:34.895551Z",
     "shell.execute_reply": "2021-03-25T16:06:34.894011Z"
    }
   },
   "outputs": [
    {
     "data": {
      "image/svg+xml": [
       "<?xml version=\"1.0\" encoding=\"UTF-8\" standalone=\"no\"?><svg xmlns=\"http://www.w3.org/2000/svg\" xmlns:xlink=\"http://www.w3.org/1999/xlink\" contentScriptType=\"application/ecmascript\" contentStyleType=\"text/css\" height=\"266px\" preserveAspectRatio=\"none\" style=\"width:568px;height:266px;\" version=\"1.1\" viewBox=\"0 0 568 266\" width=\"568px\" zoomAndPan=\"magnify\"><defs><filter height=\"300%\" id=\"fbkziejw13iif\" width=\"300%\" x=\"-1\" y=\"-1\"><feGaussianBlur result=\"blurOut\" stdDeviation=\"2.0\"/><feColorMatrix in=\"blurOut\" result=\"blurOut2\" type=\"matrix\" values=\"0 0 0 0 0 0 0 0 0 0 0 0 0 0 0 0 0 0 .4 0\"/><feOffset dx=\"4.0\" dy=\"4.0\" in=\"blurOut2\" result=\"blurOut3\"/><feBlend in=\"SourceGraphic\" in2=\"blurOut3\" mode=\"normal\"/></filter></defs><g><!--MD5=[fbc87193dbaf4d95561dea2c320d4a47]\n",
       "cluster E1--><polygon fill=\"#FFFFFF\" filter=\"url(#fbkziejw13iif)\" points=\"16,6,89,6,96,28.2969,546,28.2969,546,254,16,254,16,6\" style=\"stroke: #000000; stroke-width: 1.5;\"/><line style=\"stroke: #000000; stroke-width: 1.5;\" x1=\"16\" x2=\"96\" y1=\"28.2969\" y2=\"28.2969\"/><text fill=\"#000000\" font-family=\"sans-serif\" font-size=\"14\" font-weight=\"bold\" lengthAdjust=\"spacingAndGlyphs\" textLength=\"67\" x=\"20\" y=\"20.9951\">PartTest</text><!--MD5=[d5e69f78d87373223dbae638b30a9c99]\n",
       "cluster E3--><rect fill=\"#FFFFFF\" filter=\"url(#fbkziejw13iif)\" height=\"170\" style=\"stroke: #000000; stroke-width: 1.5;\" width=\"120\" x=\"410\" y=\"68\"/><text fill=\"#000000\" font-family=\"sans-serif\" font-size=\"14\" font-style=\"italic\" lengthAdjust=\"spacingAndGlyphs\" textLength=\"71\" x=\"434.5\" y=\"82.9951\">«part def»</text><text fill=\"#000000\" font-family=\"sans-serif\" font-size=\"14\" font-weight=\"bold\" lengthAdjust=\"spacingAndGlyphs\" textLength=\"11\" x=\"464.5\" y=\"99.292\">A</text><!--MD5=[14e3b0961a2654348d326746436168a1]\n",
       "cluster E6--><rect fill=\"#FFFFFF\" filter=\"url(#fbkziejw13iif)\" height=\"170\" style=\"stroke: #000000; stroke-width: 1.5;\" width=\"185\" x=\"217\" y=\"68\"/><text fill=\"#000000\" font-family=\"sans-serif\" font-size=\"14\" font-style=\"italic\" lengthAdjust=\"spacingAndGlyphs\" textLength=\"71\" x=\"274\" y=\"82.9951\">«part def»</text><text fill=\"#000000\" font-family=\"sans-serif\" font-size=\"14\" font-weight=\"bold\" lengthAdjust=\"spacingAndGlyphs\" textLength=\"10\" x=\"304.5\" y=\"99.292\">B</text><!--MD5=[96f4274e9e20536e775497830990834d]\n",
       "class E10--><rect fill=\"#FEFECE\" filter=\"url(#fbkziejw13iif)\" height=\"53.9375\" id=\"E10\" style=\"stroke: #A80036; stroke-width: 1.5;\" width=\"92\" x=\"117\" y=\"41\"/><ellipse cx=\"132\" cy=\"59.9688\" fill=\"#ADD1B2\" rx=\"11\" ry=\"11\" style=\"stroke: #A80036; stroke-width: 1.0;\"/><path d=\"M134.9688,65.6094 Q134.3906,65.9063 133.75,66.0469 Q133.1094,66.2031 132.4063,66.2031 Q129.9063,66.2031 128.5781,64.5625 Q127.2656,62.9063 127.2656,59.7813 Q127.2656,56.6563 128.5781,55 Q129.9063,53.3438 132.4063,53.3438 Q133.1094,53.3438 133.75,53.5 Q134.4063,53.6563 134.9688,53.9531 L134.9688,56.6719 Q134.3438,56.0938 133.75,55.8281 Q133.1563,55.5469 132.5313,55.5469 Q131.1875,55.5469 130.5,56.625 Q129.8125,57.6875 129.8125,59.7813 Q129.8125,61.875 130.5,62.9531 Q131.1875,64.0156 132.5313,64.0156 Q133.1563,64.0156 133.75,63.75 Q134.3438,63.4688 134.9688,62.8906 L134.9688,65.6094 Z \"/><text fill=\"#000000\" font-family=\"sans-serif\" font-size=\"12\" font-style=\"italic\" lengthAdjust=\"spacingAndGlyphs\" textLength=\"64\" x=\"144\" y=\"57.1387\">«port def»</text><text fill=\"#000000\" font-family=\"sans-serif\" font-size=\"12\" lengthAdjust=\"spacingAndGlyphs\" textLength=\"8\" x=\"172\" y=\"71.1074\">C</text><line style=\"stroke: #A80036; stroke-width: 1.5;\" x1=\"118\" x2=\"208\" y1=\"78.9375\" y2=\"78.9375\"/><line style=\"stroke: #A80036; stroke-width: 1.5;\" x1=\"118\" x2=\"208\" y1=\"86.9375\" y2=\"86.9375\"/><g id=\"E1.E2\"><rect fill=\"#FFFFFF\" filter=\"url(#fbkziejw13iif)\" height=\"50\" rx=\"12.5\" ry=\"12.5\" style=\"stroke: #A80036; stroke-width: 1.5;\" width=\"50\" x=\"32\" y=\"43\"/><line style=\"stroke: #A80036; stroke-width: 1.5;\" x1=\"32\" x2=\"82\" y1=\"69.2969\" y2=\"69.2969\"/><text fill=\"#000000\" font-family=\"sans-serif\" font-size=\"14\" lengthAdjust=\"spacingAndGlyphs\" textLength=\"22\" x=\"46\" y=\"60.9951\">f: A</text></g><text fill=\"#000000\" font-family=\"sans-serif\" font-size=\"14\" lengthAdjust=\"spacingAndGlyphs\" textLength=\"27\" x=\"456.5\" y=\"46.6982\">c: C</text><rect fill=\"#A80036\" height=\"12\" style=\"stroke: #FEFECE; stroke-width: 1.5;\" width=\"12\" x=\"464\" y=\"62\"/><g id=\"E1.E3.E4\"><rect fill=\"#FFFFFF\" filter=\"url(#fbkziejw13iif)\" height=\"50\" rx=\"12.5\" ry=\"12.5\" style=\"stroke: #A80036; stroke-width: 1.5;\" width=\"50\" x=\"445\" y=\"172\"/><line style=\"stroke: #A80036; stroke-width: 1.5;\" x1=\"445\" x2=\"495\" y1=\"198.2969\" y2=\"198.2969\"/><text fill=\"#000000\" font-family=\"sans-serif\" font-size=\"14\" lengthAdjust=\"spacingAndGlyphs\" textLength=\"28\" x=\"456\" y=\"189.9951\">b: B</text></g><text fill=\"#000000\" font-family=\"sans-serif\" font-size=\"14\" lengthAdjust=\"spacingAndGlyphs\" textLength=\"38\" x=\"323\" y=\"46.6982\">x: ~C</text><rect fill=\"#A80036\" height=\"12\" style=\"stroke: #FEFECE; stroke-width: 1.5;\" width=\"12\" x=\"336\" y=\"62\"/><polygon fill=\"#FFFFFF\" filter=\"url(#fbkziejw13iif)\" points=\"233,111,249,111,256,133.2969,263,133.2969,263,163.5938,233,163.5938,233,111\" style=\"stroke: #000000; stroke-width: 1.5;\"/><line style=\"stroke: #000000; stroke-width: 1.5;\" x1=\"233\" x2=\"256\" y1=\"133.2969\" y2=\"133.2969\"/><text fill=\"#000000\" font-family=\"sans-serif\" font-size=\"14\" font-weight=\"bold\" lengthAdjust=\"spacingAndGlyphs\" textLength=\"10\" x=\"237\" y=\"125.9951\">P</text><g id=\"E1.E6.E8\"><rect fill=\"#FFFFFF\" filter=\"url(#fbkziejw13iif)\" height=\"50\" rx=\"12.5\" ry=\"12.5\" style=\"stroke: #A80036; stroke-width: 1.5;\" width=\"50\" x=\"317\" y=\"172\"/><line style=\"stroke: #A80036; stroke-width: 1.5;\" x1=\"317\" x2=\"367\" y1=\"198.2969\" y2=\"198.2969\"/><text fill=\"#000000\" font-family=\"sans-serif\" font-size=\"14\" lengthAdjust=\"spacingAndGlyphs\" textLength=\"26\" x=\"329\" y=\"189.9951\">a: A</text></g><!--MD5=[5fd22db30526f2392dee92337e397b31]\n",
       "@startuml\r\n",
       "skinparam ranksep 8\r\n",
       "skinparam rectangle {\r\n",
       " backgroundColor<<block>> LightGreen\r\n",
       "}\r\n",
       " \r\n",
       "package \"PartTest\" as E1   {\r\n",
       "rec usage \"f: A\" as E2  {\r\n",
       "}\r\n",
       "rec def \"A\" as E3  <<part def>> {\r\n",
       "rec usage \"b: B\" as E4  {\r\n",
       "}\r\n",
       "portin \"c: C\" as E5  <<port>> \r\n",
       "}\r\n",
       "rec def \"B\" as E6  <<part def>> {\r\n",
       "package \"P\" as E7   {\r\n",
       "}\r\n",
       "rec usage \"a: A\" as E8  {\r\n",
       "}\r\n",
       "portin \"x: ~C\" as E9  <<port>> \r\n",
       "}\r\n",
       "def \"C\" as E10  <<port def>> \r\n",
       "}\r\n",
       "@enduml\r\n",
       "\n",
       "PlantUML version 1.2020.13(Sat Jun 13 12:26:38 UTC 2020)\n",
       "(EPL source distribution)\n",
       "Java Runtime: OpenJDK Runtime Environment\n",
       "JVM: OpenJDK 64-Bit Server VM\n",
       "Default Encoding: UTF-8\n",
       "Language: en\n",
       "Country: null\n",
       "--></g></svg>"
      ]
     },
     "execution_count": 33,
     "metadata": {},
     "output_type": "execute_result"
    }
   ],
   "source": [
    "%viz --style=\"PLANTUML\" --view=\"Interconnection\" \"PartTest\""
   ]
  },
  {
   "cell_type": "code",
   "execution_count": 34,
   "id": "social-humidity",
   "metadata": {
    "execution": {
     "iopub.execute_input": "2021-03-25T16:06:34.948728Z",
     "iopub.status.busy": "2021-03-25T16:06:34.947861Z",
     "iopub.status.idle": "2021-03-25T16:06:34.950023Z",
     "shell.execute_reply": "2021-03-25T16:06:34.950486Z"
    }
   },
   "outputs": [
    {
     "data": {
      "text/plain": [
       "java.lang.IllegalArgumentException: Invalid View: Action View candidates are: Default Tree StateMachine Interconnection Activity Sequence MIXED \n",
       "\tat org.omg.sysml.plantuml.SysML2PlantUMLSvc.setView(SysML2PlantUMLSvc.java:63)\n",
       "\tat org.omg.sysml.interactive.SysMLInteractive.viz(SysMLInteractive.java:286)\n",
       "\tat org.omg.sysml.jupyter.kernel.magic.Viz.viz(Viz.java:47)\n",
       "\tat jdk.internal.reflect.GeneratedMethodAccessor9.invoke(Unknown Source)\n",
       "\tat java.base/jdk.internal.reflect.DelegatingMethodAccessorImpl.invoke(DelegatingMethodAccessorImpl.java:43)\n",
       "\tat java.base/java.lang.reflect.Method.invoke(Method.java:568)\n",
       "\tat io.github.spencerpark.jupyter.kernel.magic.registry.Magics.invoke(Magics.java:89)\n",
       "\tat io.github.spencerpark.jupyter.kernel.magic.registry.Magics.access$000(Magics.java:8)\n",
       "\tat io.github.spencerpark.jupyter.kernel.magic.registry.Magics$LineReflectionMagicFunction.execute(Magics.java:149)\n",
       "\tat io.github.spencerpark.jupyter.kernel.magic.registry.Magics.applyLineMagic(Magics.java:26)\n",
       "\tat org.omg.sysml.jupyter.kernel.SysMLKernel.eval(SysMLKernel.java:76)\n",
       "\tat io.github.spencerpark.jupyter.kernel.BaseKernel.handleExecuteRequest(BaseKernel.java:334)\n",
       "\tat io.github.spencerpark.jupyter.channels.ShellChannel.lambda$bind$0(ShellChannel.java:64)\n",
       "\tat io.github.spencerpark.jupyter.channels.Loop.lambda$new$0(Loop.java:21)\n",
       "\tat io.github.spencerpark.jupyter.channels.Loop.run(Loop.java:78)\n"
      ]
     },
     "execution_count": 34,
     "metadata": {},
     "output_type": "execute_result"
    }
   ],
   "source": [
    "%viz --style=\"PLANTUML\" --view=\"Action\" \"PartTest\""
   ]
  },
  {
   "cell_type": "code",
   "execution_count": 35,
   "id": "abstract-institute",
   "metadata": {
    "execution": {
     "iopub.execute_input": "2021-03-25T16:06:35.003234Z",
     "iopub.status.busy": "2021-03-25T16:06:35.002403Z",
     "iopub.status.idle": "2021-03-25T16:06:35.329610Z",
     "shell.execute_reply": "2021-03-25T16:06:35.327354Z"
    }
   },
   "outputs": [
    {
     "data": {
      "image/svg+xml": [
       "<?xml version=\"1.0\" encoding=\"UTF-8\" standalone=\"no\"?><svg xmlns=\"http://www.w3.org/2000/svg\" xmlns:xlink=\"http://www.w3.org/1999/xlink\" contentScriptType=\"application/ecmascript\" contentStyleType=\"text/css\" height=\"660px\" preserveAspectRatio=\"none\" style=\"width:265px;height:660px;\" version=\"1.1\" viewBox=\"0 0 265 660\" width=\"265px\" zoomAndPan=\"magnify\"><defs><filter height=\"300%\" id=\"f1k4vsg5oq9chc\" width=\"300%\" x=\"-1\" y=\"-1\"><feGaussianBlur result=\"blurOut\" stdDeviation=\"2.0\"/><feColorMatrix in=\"blurOut\" result=\"blurOut2\" type=\"matrix\" values=\"0 0 0 0 0 0 0 0 0 0 0 0 0 0 0 0 0 0 .4 0\"/><feOffset dx=\"4.0\" dy=\"4.0\" in=\"blurOut2\" result=\"blurOut3\"/><feBlend in=\"SourceGraphic\" in2=\"blurOut3\" mode=\"normal\"/></filter></defs><g><!--MD5=[fbc87193dbaf4d95561dea2c320d4a47]\n",
       "cluster E1--><polygon fill=\"#FFFFFF\" filter=\"url(#f1k4vsg5oq9chc)\" points=\"16,6,89,6,96,28.2969,243,28.2969,243,648,16,648,16,6\" style=\"stroke: #000000; stroke-width: 1.5;\"/><line style=\"stroke: #000000; stroke-width: 1.5;\" x1=\"16\" x2=\"96\" y1=\"28.2969\" y2=\"28.2969\"/><text fill=\"#000000\" font-family=\"sans-serif\" font-size=\"14\" font-weight=\"bold\" lengthAdjust=\"spacingAndGlyphs\" textLength=\"67\" x=\"20\" y=\"20.9951\">PartTest</text><!--MD5=[b4997ac47864f28c2f74865a473b2911]\n",
       "class E2--><rect fill=\"#FEFECE\" filter=\"url(#f1k4vsg5oq9chc)\" height=\"45.9375\" id=\"E2\" rx=\"10\" ry=\"10\" style=\"stroke: #A80036; stroke-width: 1.5;\" width=\"68\" x=\"159\" y=\"56\"/><ellipse cx=\"174\" cy=\"74.9688\" fill=\"#32CD32\" rx=\"11\" ry=\"11\" style=\"stroke: #A80036; stroke-width: 1.0;\"/><path d=\"M173.7969,70.6406 L173.7969,74.2656 L174.7969,74.2656 Q176,74.2656 176.4844,73.8594 Q176.9688,73.4531 176.9688,72.4531 Q176.9688,71.4531 176.4844,71.0469 Q176,70.6406 174.7969,70.6406 L173.7969,70.6406 Z M171.3438,68.5781 L174.7031,68.5781 Q177.2656,68.5781 178.3906,69.5 Q179.5156,70.4063 179.5156,72.4531 Q179.5156,74.5 178.3906,75.4219 Q177.2656,76.3281 174.7031,76.3281 L173.7969,76.3281 L173.7969,80.9688 L171.3438,80.9688 L171.3438,68.5781 Z \"/><text fill=\"#000000\" font-family=\"sans-serif\" font-size=\"12\" font-style=\"italic\" lengthAdjust=\"spacingAndGlyphs\" textLength=\"40\" x=\"186\" y=\"72.1387\">«part»</text><text fill=\"#000000\" font-family=\"sans-serif\" font-size=\"12\" lengthAdjust=\"spacingAndGlyphs\" textLength=\"20\" x=\"196\" y=\"86.1074\">f: A</text><line style=\"stroke: #A80036; stroke-width: 1.5;\" x1=\"160\" x2=\"226\" y1=\"93.9375\" y2=\"93.9375\"/><!--MD5=[09b614a08d8cba4a07c9adeb5e0fee81]\n",
       "class E3--><rect fill=\"#FEFECE\" filter=\"url(#f1k4vsg5oq9chc)\" height=\"69.6094\" id=\"E3\" style=\"stroke: #A80036; stroke-width: 1.5;\" width=\"40\" x=\"149\" y=\"194\"/><ellipse cx=\"164\" cy=\"210\" fill=\"#008000\" rx=\"11\" ry=\"11\" style=\"stroke: #A80036; stroke-width: 1.0;\"/><path d=\"M162.9063,210.375 L162.9063,214.0469 L164.5313,214.0469 Q165.7031,214.0469 166.1719,213.6563 Q166.6406,213.25 166.6406,212.25 Q166.6406,211.25 166.1406,210.8125 Q165.6563,210.375 164.5313,210.375 L162.9063,210.375 Z M162.9063,205.5469 L162.9063,208.4219 L164.5313,208.4219 Q165.4531,208.4219 165.8438,208.0938 Q166.25,207.75 166.25,207 Q166.25,206.2344 165.8438,205.8906 Q165.4375,205.5469 164.5313,205.5469 L162.9063,205.5469 Z M160.5313,203.5938 L164.5313,203.5938 Q166.5938,203.5938 167.6406,204.375 Q168.6875,205.1563 168.6875,206.7188 Q168.6875,207.9219 168.0625,208.5938 Q167.4531,209.2656 166.2656,209.375 Q167.6875,209.5156 168.4063,210.3281 Q169.125,211.1406 169.125,212.5938 Q169.125,214.3906 168.0469,215.2031 Q166.9688,216 164.5313,216 L160.5313,216 L160.5313,203.5938 Z \"/><text fill=\"#000000\" font-family=\"sans-serif\" font-size=\"12\" lengthAdjust=\"spacingAndGlyphs\" textLength=\"8\" x=\"178\" y=\"214.1543\">A</text><line style=\"stroke: #A80036; stroke-width: 1.5;\" x1=\"150\" x2=\"188\" y1=\"226\" y2=\"226\"/><text fill=\"#000000\" font-family=\"sans-serif\" font-size=\"11\" lengthAdjust=\"spacingAndGlyphs\" textLength=\"22\" x=\"155\" y=\"257.0151\">c: C</text><line style=\"stroke: #A80036; stroke-width: 1.0;\" x1=\"150\" x2=\"154\" y1=\"240.4023\" y2=\"240.4023\"/><text fill=\"#000000\" font-family=\"sans-serif\" font-size=\"11\" lengthAdjust=\"spacingAndGlyphs\" textLength=\"30\" x=\"154\" y=\"243.7104\">ports</text><line style=\"stroke: #A80036; stroke-width: 1.0;\" x1=\"184\" x2=\"188\" y1=\"240.4023\" y2=\"240.4023\"/><!--MD5=[ebbe1d658d1005bcc118a6aa81145e00]\n",
       "class E4--><rect fill=\"#FEFECE\" filter=\"url(#f1k4vsg5oq9chc)\" height=\"45.9375\" id=\"E4\" rx=\"10\" ry=\"10\" style=\"stroke: #A80036; stroke-width: 1.5;\" width=\"68\" x=\"108\" y=\"341\"/><ellipse cx=\"123\" cy=\"359.9688\" fill=\"#32CD32\" rx=\"11\" ry=\"11\" style=\"stroke: #A80036; stroke-width: 1.0;\"/><path d=\"M122.7969,355.6406 L122.7969,359.2656 L123.7969,359.2656 Q125,359.2656 125.4844,358.8594 Q125.9688,358.4531 125.9688,357.4531 Q125.9688,356.4531 125.4844,356.0469 Q125,355.6406 123.7969,355.6406 L122.7969,355.6406 Z M120.3438,353.5781 L123.7031,353.5781 Q126.2656,353.5781 127.3906,354.5 Q128.5156,355.4063 128.5156,357.4531 Q128.5156,359.5 127.3906,360.4219 Q126.2656,361.3281 123.7031,361.3281 L122.7969,361.3281 L122.7969,365.9688 L120.3438,365.9688 L120.3438,353.5781 Z \"/><text fill=\"#000000\" font-family=\"sans-serif\" font-size=\"12\" font-style=\"italic\" lengthAdjust=\"spacingAndGlyphs\" textLength=\"40\" x=\"135\" y=\"357.1387\">«part»</text><text fill=\"#000000\" font-family=\"sans-serif\" font-size=\"12\" lengthAdjust=\"spacingAndGlyphs\" textLength=\"24\" x=\"143\" y=\"371.1074\">b: B</text><line style=\"stroke: #A80036; stroke-width: 1.5;\" x1=\"109\" x2=\"175\" y1=\"378.9375\" y2=\"378.9375\"/><!--MD5=[60a26617385b1d2d0262a64233df1f8d]\n",
       "class E6--><rect fill=\"#FEFECE\" filter=\"url(#f1k4vsg5oq9chc)\" height=\"69.6094\" id=\"E6\" style=\"stroke: #A80036; stroke-width: 1.5;\" width=\"43\" x=\"100.5\" y=\"448\"/><ellipse cx=\"116.85\" cy=\"464\" fill=\"#008000\" rx=\"11\" ry=\"11\" style=\"stroke: #A80036; stroke-width: 1.0;\"/><path d=\"M115.7563,464.375 L115.7563,468.0469 L117.3813,468.0469 Q118.5531,468.0469 119.0219,467.6563 Q119.4906,467.25 119.4906,466.25 Q119.4906,465.25 118.9906,464.8125 Q118.5063,464.375 117.3813,464.375 L115.7563,464.375 Z M115.7563,459.5469 L115.7563,462.4219 L117.3813,462.4219 Q118.3031,462.4219 118.6938,462.0938 Q119.1,461.75 119.1,461 Q119.1,460.2344 118.6938,459.8906 Q118.2875,459.5469 117.3813,459.5469 L115.7563,459.5469 Z M113.3813,457.5938 L117.3813,457.5938 Q119.4438,457.5938 120.4906,458.375 Q121.5375,459.1563 121.5375,460.7188 Q121.5375,461.9219 120.9125,462.5938 Q120.3031,463.2656 119.1156,463.375 Q120.5375,463.5156 121.2563,464.3281 Q121.975,465.1406 121.975,466.5938 Q121.975,468.3906 120.8969,469.2031 Q119.8188,470 117.3813,470 L113.3813,470 L113.3813,457.5938 Z \"/><text fill=\"#000000\" font-family=\"sans-serif\" font-size=\"12\" lengthAdjust=\"spacingAndGlyphs\" textLength=\"8\" x=\"131.15\" y=\"468.1543\">B</text><line style=\"stroke: #A80036; stroke-width: 1.5;\" x1=\"101.5\" x2=\"142.5\" y1=\"480\" y2=\"480\"/><text fill=\"#000000\" font-family=\"sans-serif\" font-size=\"11\" lengthAdjust=\"spacingAndGlyphs\" textLength=\"31\" x=\"106.5\" y=\"511.0151\">x: ~C</text><line style=\"stroke: #A80036; stroke-width: 1.0;\" x1=\"101.5\" x2=\"107\" y1=\"494.4023\" y2=\"494.4023\"/><text fill=\"#000000\" font-family=\"sans-serif\" font-size=\"11\" lengthAdjust=\"spacingAndGlyphs\" textLength=\"30\" x=\"107\" y=\"497.7104\">ports</text><line style=\"stroke: #A80036; stroke-width: 1.0;\" x1=\"137\" x2=\"142.5\" y1=\"494.4023\" y2=\"494.4023\"/><!--MD5=[b9389687b975829384b498ac4b7476b2]\n",
       "class E8--><rect fill=\"#FEFECE\" filter=\"url(#f1k4vsg5oq9chc)\" height=\"45.9375\" id=\"E8\" rx=\"10\" ry=\"10\" style=\"stroke: #A80036; stroke-width: 1.5;\" width=\"68\" x=\"159\" y=\"582.5\"/><ellipse cx=\"174\" cy=\"601.4688\" fill=\"#32CD32\" rx=\"11\" ry=\"11\" style=\"stroke: #A80036; stroke-width: 1.0;\"/><path d=\"M173.7969,597.1406 L173.7969,600.7656 L174.7969,600.7656 Q176,600.7656 176.4844,600.3594 Q176.9688,599.9531 176.9688,598.9531 Q176.9688,597.9531 176.4844,597.5469 Q176,597.1406 174.7969,597.1406 L173.7969,597.1406 Z M171.3438,595.0781 L174.7031,595.0781 Q177.2656,595.0781 178.3906,596 Q179.5156,596.9063 179.5156,598.9531 Q179.5156,601 178.3906,601.9219 Q177.2656,602.8281 174.7031,602.8281 L173.7969,602.8281 L173.7969,607.4688 L171.3438,607.4688 L171.3438,595.0781 Z \"/><text fill=\"#000000\" font-family=\"sans-serif\" font-size=\"12\" font-style=\"italic\" lengthAdjust=\"spacingAndGlyphs\" textLength=\"40\" x=\"186\" y=\"598.6387\">«part»</text><text fill=\"#000000\" font-family=\"sans-serif\" font-size=\"12\" lengthAdjust=\"spacingAndGlyphs\" textLength=\"24\" x=\"194\" y=\"612.6074\">a: A</text><line style=\"stroke: #A80036; stroke-width: 1.5;\" x1=\"160\" x2=\"226\" y1=\"620.4375\" y2=\"620.4375\"/><!--MD5=[96f4274e9e20536e775497830990834d]\n",
       "class E10--><rect fill=\"#FEFECE\" filter=\"url(#f1k4vsg5oq9chc)\" height=\"75.5469\" id=\"E10\" style=\"stroke: #A80036; stroke-width: 1.5;\" width=\"92\" x=\"32\" y=\"41\"/><ellipse cx=\"47\" cy=\"59.9688\" fill=\"#A52A2A\" rx=\"11\" ry=\"11\" style=\"stroke: #A80036; stroke-width: 1.0;\"/><path d=\"M46.5938,55.7813 L46.5938,63.7656 L47.25,63.7656 Q48.6875,63.7656 49.2969,62.8594 Q49.9219,61.9375 49.9219,59.7656 Q49.9219,57.5938 49.2969,56.6875 Q48.6875,55.7813 47.25,55.7813 L46.5938,55.7813 Z M44.1406,53.5781 L46.7656,53.5781 Q49.7969,53.5781 51.125,55.0313 Q52.4688,56.4688 52.4688,59.7656 Q52.4688,63.0625 51.125,64.5156 Q49.7969,65.9688 46.7656,65.9688 L44.1406,65.9688 L44.1406,53.5781 Z \"/><text fill=\"#000000\" font-family=\"sans-serif\" font-size=\"12\" font-style=\"italic\" lengthAdjust=\"spacingAndGlyphs\" textLength=\"64\" x=\"59\" y=\"57.1387\">«port def»</text><text fill=\"#000000\" font-family=\"sans-serif\" font-size=\"12\" lengthAdjust=\"spacingAndGlyphs\" textLength=\"8\" x=\"87\" y=\"71.1074\">C</text><line style=\"stroke: #A80036; stroke-width: 1.5;\" x1=\"33\" x2=\"123\" y1=\"78.9375\" y2=\"78.9375\"/><text fill=\"#000000\" font-family=\"sans-serif\" font-size=\"11\" lengthAdjust=\"spacingAndGlyphs\" textLength=\"21\" x=\"38\" y=\"109.9526\">y: A</text><text fill=\"#000000\" font-family=\"sans-serif\" font-size=\"11\" font-weight=\"bold\" lengthAdjust=\"spacingAndGlyphs\" textLength=\"15\" x=\"63\" y=\"109.9526\">as</text><text fill=\"#000000\" font-family=\"sans-serif\" font-size=\"11\" lengthAdjust=\"spacingAndGlyphs\" textLength=\"12\" x=\"82\" y=\"109.9526\">z2</text><line style=\"stroke: #A80036; stroke-width: 1.0;\" x1=\"33\" x2=\"47\" y1=\"93.3398\" y2=\"93.3398\"/><text fill=\"#000000\" font-family=\"sans-serif\" font-size=\"11\" lengthAdjust=\"spacingAndGlyphs\" textLength=\"62\" x=\"47\" y=\"96.6479\">references</text><line style=\"stroke: #A80036; stroke-width: 1.0;\" x1=\"109\" x2=\"123\" y1=\"93.3398\" y2=\"93.3398\"/><polygon fill=\"#FFFFFF\" filter=\"url(#f1k4vsg5oq9chc)\" points=\"94,579,110,579,117,601.2969,124,601.2969,124,631.5938,94,631.5938,94,579\" style=\"stroke: #000000; stroke-width: 1.5;\"/><line style=\"stroke: #000000; stroke-width: 1.5;\" x1=\"94\" x2=\"117\" y1=\"601.2969\" y2=\"601.2969\"/><text fill=\"#000000\" font-family=\"sans-serif\" font-size=\"14\" font-weight=\"bold\" lengthAdjust=\"spacingAndGlyphs\" textLength=\"10\" x=\"98\" y=\"593.9951\">P</text><!--MD5=[2720a5a1f2c3fca2055b230370638851]\n",
       "link E2 to E3--><path d=\"M189.41,102.16 C186.33,121.12 181.78,149.21 177.75,174.04 \" fill=\"none\" id=\"E2-&gt;E3\" style=\"stroke: #A80036; stroke-width: 1.0;\"/><polygon fill=\"#FFFFFF\" points=\"174.54,193.87,170.6701,173.9948,184.4897,176.2347,174.54,193.87\" style=\"stroke: #A80036; stroke-width: 1.0;\"/><ellipse cx=\"173.5563\" cy=\"168.6882\" fill=\"#A80036\" rx=\"2\" ry=\"2\" style=\"stroke: #A80036; stroke-width: 1.0;\"/><ellipse cx=\"183.4275\" cy=\"170.2882\" fill=\"#A80036\" rx=\"2\" ry=\"2\" style=\"stroke: #A80036; stroke-width: 1.0;\"/><!--MD5=[4672eba38e49728da53d11aeb285b987]\n",
       "reverse link E3 to E4--><path d=\"M159.4,277.28 C155,298.98 149.98,323.67 146.47,340.96 \" fill=\"none\" id=\"E3&lt;-E4\" style=\"stroke: #A80036; stroke-width: 1.0;\"/><polygon fill=\"#A80036\" points=\"162.05,264.25,156.9367,269.3347,159.6637,276.0103,164.7769,270.9256,162.05,264.25\" style=\"stroke: #A80036; stroke-width: 1.0;\"/><!--MD5=[79568f1e445c3877b6a54524624ccc7d]\n",
       "link E4 to E6--><path d=\"M138.24,387.01 C136.25,398.61 133.72,413.41 131.26,427.86 \" fill=\"none\" id=\"E4-&gt;E6\" style=\"stroke: #A80036; stroke-width: 1.0;\"/><polygon fill=\"#FFFFFF\" points=\"127.87,447.67,124.1589,427.7645,137.9603,430.1147,127.87,447.67\" style=\"stroke: #A80036; stroke-width: 1.0;\"/><ellipse cx=\"127.0874\" cy=\"422.4812\" fill=\"#A80036\" rx=\"2\" ry=\"2\" style=\"stroke: #A80036; stroke-width: 1.0;\"/><ellipse cx=\"136.9455\" cy=\"424.1599\" fill=\"#A80036\" rx=\"2\" ry=\"2\" style=\"stroke: #A80036; stroke-width: 1.0;\"/><!--MD5=[3f50a3473f1dfb74d3f76443e03635af]\n",
       "reverse link E6 to E7--><path d=\"M116.68,533.27 C115.01,548.83 113.22,565.4 111.79,578.64 \" fill=\"none\" id=\"E6&lt;-E7\" style=\"stroke: #A80036; stroke-width: 1.0;\"/><ellipse cx=\"117.4567\" cy=\"526.1644\" fill=\"#FFFFFF\" rx=\"8\" ry=\"8\" style=\"stroke: #A80036; stroke-width: 1.0;\"/><line style=\"stroke: #A80036; stroke-width: 1.0;\" x1=\"116.6033\" x2=\"118.31\" y1=\"534.1187\" y2=\"518.21\"/><line style=\"stroke: #A80036; stroke-width: 1.0;\" x1=\"109.5023\" x2=\"125.411\" y1=\"525.311\" y2=\"527.0177\"/><!--MD5=[95fa686b5a16158bcdbcaeead89f639b]\n",
       "link E8 to E3--><path d=\"M194.8,582.2 C198.09,536.68 203.89,429.89 194,341 C191.9,322.13 187.85,301.78 183.62,283.73 \" fill=\"none\" id=\"E8-&gt;E3\" style=\"stroke: #A80036; stroke-width: 1.0;\"/><polygon fill=\"#FFFFFF\" points=\"178.76,264.17,190.1301,280.9247,176.5423,284.2966,178.76,264.17\" style=\"stroke: #A80036; stroke-width: 1.0;\"/><ellipse cx=\"189.5619\" cy=\"286.9386\" fill=\"#A80036\" rx=\"2\" ry=\"2\" style=\"stroke: #A80036; stroke-width: 1.0;\"/><ellipse cx=\"179.8563\" cy=\"289.3471\" fill=\"#A80036\" rx=\"2\" ry=\"2\" style=\"stroke: #A80036; stroke-width: 1.0;\"/><!--MD5=[f4cf0736d43fd73c4ef68817c49d37d5]\n",
       "reverse link E6 to E8--><path d=\"M148.79,529.47 C159.46,547.58 171.25,567.58 179.97,582.38 \" fill=\"none\" id=\"E6&lt;-E8\" style=\"stroke: #A80036; stroke-width: 1.0;\"/><polygon fill=\"#A80036\" points=\"142.16,518.21,141.76,525.41,148.2523,528.5485,148.6523,521.3485,142.16,518.21\" style=\"stroke: #A80036; stroke-width: 1.0;\"/><!--MD5=[8e04057e7b3cbc0dca4fc78ea351e2da]\n",
       "reverse link E10 to E3--><path d=\"M107.78,128.43 C121.23,150.31 136.77,175.59 148.83,195.2 \" fill=\"none\" id=\"E10&lt;-E3\" style=\"stroke: #A80036; stroke-width: 1.0;\"/><polygon fill=\"#FFFFFF\" points=\"100.96,117.35,100.6917,124.5561,107.2403,127.5753,107.5086,120.3692,100.96,117.35\" style=\"stroke: #A80036; stroke-width: 1.0;\"/><text fill=\"#000000\" font-family=\"sans-serif\" font-size=\"13\" lengthAdjust=\"spacingAndGlyphs\" textLength=\"7\" x=\"129\" y=\"160.0669\">y</text><!--MD5=[604cbf994c02b74b117f728a71673cea]\n",
       "reverse link E10 to E6--><path d=\"M75.96,130.3 C74.43,191.49 74.85,297.69 91,387 C94.73,407.66 101.86,430.01 108.35,447.84 \" fill=\"none\" id=\"E10&lt;-E6\" style=\"stroke: #A80036; stroke-width: 1.0;\"/><polygon fill=\"#FFFFFF\" points=\"76.33,117.22,72.1603,123.1033,75.9873,129.2151,80.157,123.3318,76.33,117.22\" style=\"stroke: #A80036; stroke-width: 1.0;\"/><text fill=\"#000000\" font-family=\"sans-serif\" font-size=\"13\" lengthAdjust=\"spacingAndGlyphs\" textLength=\"7\" x=\"81\" y=\"307.0669\">y</text><!--MD5=[ee45b3e08fdecde1a3060005849135e0]\n",
       "@startuml\r\n",
       " \r\n",
       "package \"PartTest\" as E1   {\r\n",
       "comp usage \"f: A\" as E2  << (P,limegreen) part>> {\r\n",
       "}\r\n",
       "comp def \"A\" as E3  << (B,green) >> {\r\n",
       "- -ports- -\r\n",
       "c: C\r\n",
       "}\r\n",
       "comp usage \"b: B\" as E4  << (P,limegreen) part>> {\r\n",
       "}\r\n",
       "comp def \"B\" as E6  << (B,green) >> {\r\n",
       "- -ports- -\r\n",
       "x: ~C\r\n",
       "}\r\n",
       "package \"P\" as E7   {\r\n",
       "}\r\n",
       "comp usage \"a: A\" as E8  << (P,limegreen) part>> {\r\n",
       "}\r\n",
       "comp def \"C\" as E10  <<(D,brown)port def>> {\r\n",
       "- -references- -\r\n",
       "y: A <b>as</b> z2 \r\n",
       "}\r\n",
       "E2 - -:|> E3\r\n",
       "E3 *- - E4\r\n",
       "E4 - -:|> E6\r\n",
       "E6 +- - E7\r\n",
       "E8 - -:|> E3\r\n",
       "E6 *- - E8\r\n",
       "E10 o- - E3 : y\r\n",
       "E10 o- - E6 : y\r\n",
       "}\r\n",
       "@enduml\r\n",
       "\n",
       "PlantUML version 1.2020.13(Sat Jun 13 12:26:38 UTC 2020)\n",
       "(EPL source distribution)\n",
       "Java Runtime: OpenJDK Runtime Environment\n",
       "JVM: OpenJDK 64-Bit Server VM\n",
       "Default Encoding: UTF-8\n",
       "Language: en\n",
       "Country: null\n",
       "--></g></svg>"
      ]
     },
     "execution_count": 35,
     "metadata": {},
     "output_type": "execute_result"
    }
   ],
   "source": [
    "%viz --style=\"PLANTUML\" --view=\"Sequence\" \"PartTest\""
   ]
  },
  {
   "cell_type": "code",
   "execution_count": 36,
   "id": "equipped-southeast",
   "metadata": {
    "execution": {
     "iopub.execute_input": "2021-03-25T16:06:35.380959Z",
     "iopub.status.busy": "2021-03-25T16:06:35.380212Z",
     "iopub.status.idle": "2021-03-25T16:06:35.724682Z",
     "shell.execute_reply": "2021-03-25T16:06:35.723106Z"
    }
   },
   "outputs": [
    {
     "data": {
      "image/svg+xml": [
       "<?xml version=\"1.0\" encoding=\"UTF-8\" standalone=\"no\"?><svg xmlns=\"http://www.w3.org/2000/svg\" xmlns:xlink=\"http://www.w3.org/1999/xlink\" contentScriptType=\"application/ecmascript\" contentStyleType=\"text/css\" height=\"660px\" preserveAspectRatio=\"none\" style=\"width:265px;height:660px;\" version=\"1.1\" viewBox=\"0 0 265 660\" width=\"265px\" zoomAndPan=\"magnify\"><defs><filter height=\"300%\" id=\"f1k4vsg5oq9chc\" width=\"300%\" x=\"-1\" y=\"-1\"><feGaussianBlur result=\"blurOut\" stdDeviation=\"2.0\"/><feColorMatrix in=\"blurOut\" result=\"blurOut2\" type=\"matrix\" values=\"0 0 0 0 0 0 0 0 0 0 0 0 0 0 0 0 0 0 .4 0\"/><feOffset dx=\"4.0\" dy=\"4.0\" in=\"blurOut2\" result=\"blurOut3\"/><feBlend in=\"SourceGraphic\" in2=\"blurOut3\" mode=\"normal\"/></filter></defs><g><!--MD5=[fbc87193dbaf4d95561dea2c320d4a47]\n",
       "cluster E1--><polygon fill=\"#FFFFFF\" filter=\"url(#f1k4vsg5oq9chc)\" points=\"16,6,89,6,96,28.2969,243,28.2969,243,648,16,648,16,6\" style=\"stroke: #000000; stroke-width: 1.5;\"/><line style=\"stroke: #000000; stroke-width: 1.5;\" x1=\"16\" x2=\"96\" y1=\"28.2969\" y2=\"28.2969\"/><text fill=\"#000000\" font-family=\"sans-serif\" font-size=\"14\" font-weight=\"bold\" lengthAdjust=\"spacingAndGlyphs\" textLength=\"67\" x=\"20\" y=\"20.9951\">PartTest</text><!--MD5=[b4997ac47864f28c2f74865a473b2911]\n",
       "class E2--><rect fill=\"#FEFECE\" filter=\"url(#f1k4vsg5oq9chc)\" height=\"45.9375\" id=\"E2\" rx=\"10\" ry=\"10\" style=\"stroke: #A80036; stroke-width: 1.5;\" width=\"68\" x=\"159\" y=\"56\"/><ellipse cx=\"174\" cy=\"74.9688\" fill=\"#32CD32\" rx=\"11\" ry=\"11\" style=\"stroke: #A80036; stroke-width: 1.0;\"/><path d=\"M173.7969,70.6406 L173.7969,74.2656 L174.7969,74.2656 Q176,74.2656 176.4844,73.8594 Q176.9688,73.4531 176.9688,72.4531 Q176.9688,71.4531 176.4844,71.0469 Q176,70.6406 174.7969,70.6406 L173.7969,70.6406 Z M171.3438,68.5781 L174.7031,68.5781 Q177.2656,68.5781 178.3906,69.5 Q179.5156,70.4063 179.5156,72.4531 Q179.5156,74.5 178.3906,75.4219 Q177.2656,76.3281 174.7031,76.3281 L173.7969,76.3281 L173.7969,80.9688 L171.3438,80.9688 L171.3438,68.5781 Z \"/><text fill=\"#000000\" font-family=\"sans-serif\" font-size=\"12\" font-style=\"italic\" lengthAdjust=\"spacingAndGlyphs\" textLength=\"40\" x=\"186\" y=\"72.1387\">«part»</text><text fill=\"#000000\" font-family=\"sans-serif\" font-size=\"12\" lengthAdjust=\"spacingAndGlyphs\" textLength=\"20\" x=\"196\" y=\"86.1074\">f: A</text><line style=\"stroke: #A80036; stroke-width: 1.5;\" x1=\"160\" x2=\"226\" y1=\"93.9375\" y2=\"93.9375\"/><!--MD5=[09b614a08d8cba4a07c9adeb5e0fee81]\n",
       "class E3--><rect fill=\"#FEFECE\" filter=\"url(#f1k4vsg5oq9chc)\" height=\"69.6094\" id=\"E3\" style=\"stroke: #A80036; stroke-width: 1.5;\" width=\"40\" x=\"149\" y=\"194\"/><ellipse cx=\"164\" cy=\"210\" fill=\"#008000\" rx=\"11\" ry=\"11\" style=\"stroke: #A80036; stroke-width: 1.0;\"/><path d=\"M162.9063,210.375 L162.9063,214.0469 L164.5313,214.0469 Q165.7031,214.0469 166.1719,213.6563 Q166.6406,213.25 166.6406,212.25 Q166.6406,211.25 166.1406,210.8125 Q165.6563,210.375 164.5313,210.375 L162.9063,210.375 Z M162.9063,205.5469 L162.9063,208.4219 L164.5313,208.4219 Q165.4531,208.4219 165.8438,208.0938 Q166.25,207.75 166.25,207 Q166.25,206.2344 165.8438,205.8906 Q165.4375,205.5469 164.5313,205.5469 L162.9063,205.5469 Z M160.5313,203.5938 L164.5313,203.5938 Q166.5938,203.5938 167.6406,204.375 Q168.6875,205.1563 168.6875,206.7188 Q168.6875,207.9219 168.0625,208.5938 Q167.4531,209.2656 166.2656,209.375 Q167.6875,209.5156 168.4063,210.3281 Q169.125,211.1406 169.125,212.5938 Q169.125,214.3906 168.0469,215.2031 Q166.9688,216 164.5313,216 L160.5313,216 L160.5313,203.5938 Z \"/><text fill=\"#000000\" font-family=\"sans-serif\" font-size=\"12\" lengthAdjust=\"spacingAndGlyphs\" textLength=\"8\" x=\"178\" y=\"214.1543\">A</text><line style=\"stroke: #A80036; stroke-width: 1.5;\" x1=\"150\" x2=\"188\" y1=\"226\" y2=\"226\"/><text fill=\"#000000\" font-family=\"sans-serif\" font-size=\"11\" lengthAdjust=\"spacingAndGlyphs\" textLength=\"22\" x=\"155\" y=\"257.0151\">c: C</text><line style=\"stroke: #A80036; stroke-width: 1.0;\" x1=\"150\" x2=\"154\" y1=\"240.4023\" y2=\"240.4023\"/><text fill=\"#000000\" font-family=\"sans-serif\" font-size=\"11\" lengthAdjust=\"spacingAndGlyphs\" textLength=\"30\" x=\"154\" y=\"243.7104\">ports</text><line style=\"stroke: #A80036; stroke-width: 1.0;\" x1=\"184\" x2=\"188\" y1=\"240.4023\" y2=\"240.4023\"/><!--MD5=[ebbe1d658d1005bcc118a6aa81145e00]\n",
       "class E4--><rect fill=\"#FEFECE\" filter=\"url(#f1k4vsg5oq9chc)\" height=\"45.9375\" id=\"E4\" rx=\"10\" ry=\"10\" style=\"stroke: #A80036; stroke-width: 1.5;\" width=\"68\" x=\"108\" y=\"341\"/><ellipse cx=\"123\" cy=\"359.9688\" fill=\"#32CD32\" rx=\"11\" ry=\"11\" style=\"stroke: #A80036; stroke-width: 1.0;\"/><path d=\"M122.7969,355.6406 L122.7969,359.2656 L123.7969,359.2656 Q125,359.2656 125.4844,358.8594 Q125.9688,358.4531 125.9688,357.4531 Q125.9688,356.4531 125.4844,356.0469 Q125,355.6406 123.7969,355.6406 L122.7969,355.6406 Z M120.3438,353.5781 L123.7031,353.5781 Q126.2656,353.5781 127.3906,354.5 Q128.5156,355.4063 128.5156,357.4531 Q128.5156,359.5 127.3906,360.4219 Q126.2656,361.3281 123.7031,361.3281 L122.7969,361.3281 L122.7969,365.9688 L120.3438,365.9688 L120.3438,353.5781 Z \"/><text fill=\"#000000\" font-family=\"sans-serif\" font-size=\"12\" font-style=\"italic\" lengthAdjust=\"spacingAndGlyphs\" textLength=\"40\" x=\"135\" y=\"357.1387\">«part»</text><text fill=\"#000000\" font-family=\"sans-serif\" font-size=\"12\" lengthAdjust=\"spacingAndGlyphs\" textLength=\"24\" x=\"143\" y=\"371.1074\">b: B</text><line style=\"stroke: #A80036; stroke-width: 1.5;\" x1=\"109\" x2=\"175\" y1=\"378.9375\" y2=\"378.9375\"/><!--MD5=[60a26617385b1d2d0262a64233df1f8d]\n",
       "class E6--><rect fill=\"#FEFECE\" filter=\"url(#f1k4vsg5oq9chc)\" height=\"69.6094\" id=\"E6\" style=\"stroke: #A80036; stroke-width: 1.5;\" width=\"43\" x=\"100.5\" y=\"448\"/><ellipse cx=\"116.85\" cy=\"464\" fill=\"#008000\" rx=\"11\" ry=\"11\" style=\"stroke: #A80036; stroke-width: 1.0;\"/><path d=\"M115.7563,464.375 L115.7563,468.0469 L117.3813,468.0469 Q118.5531,468.0469 119.0219,467.6563 Q119.4906,467.25 119.4906,466.25 Q119.4906,465.25 118.9906,464.8125 Q118.5063,464.375 117.3813,464.375 L115.7563,464.375 Z M115.7563,459.5469 L115.7563,462.4219 L117.3813,462.4219 Q118.3031,462.4219 118.6938,462.0938 Q119.1,461.75 119.1,461 Q119.1,460.2344 118.6938,459.8906 Q118.2875,459.5469 117.3813,459.5469 L115.7563,459.5469 Z M113.3813,457.5938 L117.3813,457.5938 Q119.4438,457.5938 120.4906,458.375 Q121.5375,459.1563 121.5375,460.7188 Q121.5375,461.9219 120.9125,462.5938 Q120.3031,463.2656 119.1156,463.375 Q120.5375,463.5156 121.2563,464.3281 Q121.975,465.1406 121.975,466.5938 Q121.975,468.3906 120.8969,469.2031 Q119.8188,470 117.3813,470 L113.3813,470 L113.3813,457.5938 Z \"/><text fill=\"#000000\" font-family=\"sans-serif\" font-size=\"12\" lengthAdjust=\"spacingAndGlyphs\" textLength=\"8\" x=\"131.15\" y=\"468.1543\">B</text><line style=\"stroke: #A80036; stroke-width: 1.5;\" x1=\"101.5\" x2=\"142.5\" y1=\"480\" y2=\"480\"/><text fill=\"#000000\" font-family=\"sans-serif\" font-size=\"11\" lengthAdjust=\"spacingAndGlyphs\" textLength=\"31\" x=\"106.5\" y=\"511.0151\">x: ~C</text><line style=\"stroke: #A80036; stroke-width: 1.0;\" x1=\"101.5\" x2=\"107\" y1=\"494.4023\" y2=\"494.4023\"/><text fill=\"#000000\" font-family=\"sans-serif\" font-size=\"11\" lengthAdjust=\"spacingAndGlyphs\" textLength=\"30\" x=\"107\" y=\"497.7104\">ports</text><line style=\"stroke: #A80036; stroke-width: 1.0;\" x1=\"137\" x2=\"142.5\" y1=\"494.4023\" y2=\"494.4023\"/><!--MD5=[b9389687b975829384b498ac4b7476b2]\n",
       "class E8--><rect fill=\"#FEFECE\" filter=\"url(#f1k4vsg5oq9chc)\" height=\"45.9375\" id=\"E8\" rx=\"10\" ry=\"10\" style=\"stroke: #A80036; stroke-width: 1.5;\" width=\"68\" x=\"159\" y=\"582.5\"/><ellipse cx=\"174\" cy=\"601.4688\" fill=\"#32CD32\" rx=\"11\" ry=\"11\" style=\"stroke: #A80036; stroke-width: 1.0;\"/><path d=\"M173.7969,597.1406 L173.7969,600.7656 L174.7969,600.7656 Q176,600.7656 176.4844,600.3594 Q176.9688,599.9531 176.9688,598.9531 Q176.9688,597.9531 176.4844,597.5469 Q176,597.1406 174.7969,597.1406 L173.7969,597.1406 Z M171.3438,595.0781 L174.7031,595.0781 Q177.2656,595.0781 178.3906,596 Q179.5156,596.9063 179.5156,598.9531 Q179.5156,601 178.3906,601.9219 Q177.2656,602.8281 174.7031,602.8281 L173.7969,602.8281 L173.7969,607.4688 L171.3438,607.4688 L171.3438,595.0781 Z \"/><text fill=\"#000000\" font-family=\"sans-serif\" font-size=\"12\" font-style=\"italic\" lengthAdjust=\"spacingAndGlyphs\" textLength=\"40\" x=\"186\" y=\"598.6387\">«part»</text><text fill=\"#000000\" font-family=\"sans-serif\" font-size=\"12\" lengthAdjust=\"spacingAndGlyphs\" textLength=\"24\" x=\"194\" y=\"612.6074\">a: A</text><line style=\"stroke: #A80036; stroke-width: 1.5;\" x1=\"160\" x2=\"226\" y1=\"620.4375\" y2=\"620.4375\"/><!--MD5=[96f4274e9e20536e775497830990834d]\n",
       "class E10--><rect fill=\"#FEFECE\" filter=\"url(#f1k4vsg5oq9chc)\" height=\"75.5469\" id=\"E10\" style=\"stroke: #A80036; stroke-width: 1.5;\" width=\"92\" x=\"32\" y=\"41\"/><ellipse cx=\"47\" cy=\"59.9688\" fill=\"#A52A2A\" rx=\"11\" ry=\"11\" style=\"stroke: #A80036; stroke-width: 1.0;\"/><path d=\"M46.5938,55.7813 L46.5938,63.7656 L47.25,63.7656 Q48.6875,63.7656 49.2969,62.8594 Q49.9219,61.9375 49.9219,59.7656 Q49.9219,57.5938 49.2969,56.6875 Q48.6875,55.7813 47.25,55.7813 L46.5938,55.7813 Z M44.1406,53.5781 L46.7656,53.5781 Q49.7969,53.5781 51.125,55.0313 Q52.4688,56.4688 52.4688,59.7656 Q52.4688,63.0625 51.125,64.5156 Q49.7969,65.9688 46.7656,65.9688 L44.1406,65.9688 L44.1406,53.5781 Z \"/><text fill=\"#000000\" font-family=\"sans-serif\" font-size=\"12\" font-style=\"italic\" lengthAdjust=\"spacingAndGlyphs\" textLength=\"64\" x=\"59\" y=\"57.1387\">«port def»</text><text fill=\"#000000\" font-family=\"sans-serif\" font-size=\"12\" lengthAdjust=\"spacingAndGlyphs\" textLength=\"8\" x=\"87\" y=\"71.1074\">C</text><line style=\"stroke: #A80036; stroke-width: 1.5;\" x1=\"33\" x2=\"123\" y1=\"78.9375\" y2=\"78.9375\"/><text fill=\"#000000\" font-family=\"sans-serif\" font-size=\"11\" lengthAdjust=\"spacingAndGlyphs\" textLength=\"21\" x=\"38\" y=\"109.9526\">y: A</text><text fill=\"#000000\" font-family=\"sans-serif\" font-size=\"11\" font-weight=\"bold\" lengthAdjust=\"spacingAndGlyphs\" textLength=\"15\" x=\"63\" y=\"109.9526\">as</text><text fill=\"#000000\" font-family=\"sans-serif\" font-size=\"11\" lengthAdjust=\"spacingAndGlyphs\" textLength=\"12\" x=\"82\" y=\"109.9526\">z2</text><line style=\"stroke: #A80036; stroke-width: 1.0;\" x1=\"33\" x2=\"47\" y1=\"93.3398\" y2=\"93.3398\"/><text fill=\"#000000\" font-family=\"sans-serif\" font-size=\"11\" lengthAdjust=\"spacingAndGlyphs\" textLength=\"62\" x=\"47\" y=\"96.6479\">references</text><line style=\"stroke: #A80036; stroke-width: 1.0;\" x1=\"109\" x2=\"123\" y1=\"93.3398\" y2=\"93.3398\"/><polygon fill=\"#FFFFFF\" filter=\"url(#f1k4vsg5oq9chc)\" points=\"94,579,110,579,117,601.2969,124,601.2969,124,631.5938,94,631.5938,94,579\" style=\"stroke: #000000; stroke-width: 1.5;\"/><line style=\"stroke: #000000; stroke-width: 1.5;\" x1=\"94\" x2=\"117\" y1=\"601.2969\" y2=\"601.2969\"/><text fill=\"#000000\" font-family=\"sans-serif\" font-size=\"14\" font-weight=\"bold\" lengthAdjust=\"spacingAndGlyphs\" textLength=\"10\" x=\"98\" y=\"593.9951\">P</text><!--MD5=[2720a5a1f2c3fca2055b230370638851]\n",
       "link E2 to E3--><path d=\"M189.41,102.16 C186.33,121.12 181.78,149.21 177.75,174.04 \" fill=\"none\" id=\"E2-&gt;E3\" style=\"stroke: #A80036; stroke-width: 1.0;\"/><polygon fill=\"#FFFFFF\" points=\"174.54,193.87,170.6701,173.9948,184.4897,176.2347,174.54,193.87\" style=\"stroke: #A80036; stroke-width: 1.0;\"/><ellipse cx=\"173.5563\" cy=\"168.6882\" fill=\"#A80036\" rx=\"2\" ry=\"2\" style=\"stroke: #A80036; stroke-width: 1.0;\"/><ellipse cx=\"183.4275\" cy=\"170.2882\" fill=\"#A80036\" rx=\"2\" ry=\"2\" style=\"stroke: #A80036; stroke-width: 1.0;\"/><!--MD5=[4672eba38e49728da53d11aeb285b987]\n",
       "reverse link E3 to E4--><path d=\"M159.4,277.28 C155,298.98 149.98,323.67 146.47,340.96 \" fill=\"none\" id=\"E3&lt;-E4\" style=\"stroke: #A80036; stroke-width: 1.0;\"/><polygon fill=\"#A80036\" points=\"162.05,264.25,156.9367,269.3347,159.6637,276.0103,164.7769,270.9256,162.05,264.25\" style=\"stroke: #A80036; stroke-width: 1.0;\"/><!--MD5=[79568f1e445c3877b6a54524624ccc7d]\n",
       "link E4 to E6--><path d=\"M138.24,387.01 C136.25,398.61 133.72,413.41 131.26,427.86 \" fill=\"none\" id=\"E4-&gt;E6\" style=\"stroke: #A80036; stroke-width: 1.0;\"/><polygon fill=\"#FFFFFF\" points=\"127.87,447.67,124.1589,427.7645,137.9603,430.1147,127.87,447.67\" style=\"stroke: #A80036; stroke-width: 1.0;\"/><ellipse cx=\"127.0874\" cy=\"422.4812\" fill=\"#A80036\" rx=\"2\" ry=\"2\" style=\"stroke: #A80036; stroke-width: 1.0;\"/><ellipse cx=\"136.9455\" cy=\"424.1599\" fill=\"#A80036\" rx=\"2\" ry=\"2\" style=\"stroke: #A80036; stroke-width: 1.0;\"/><!--MD5=[3f50a3473f1dfb74d3f76443e03635af]\n",
       "reverse link E6 to E7--><path d=\"M116.68,533.27 C115.01,548.83 113.22,565.4 111.79,578.64 \" fill=\"none\" id=\"E6&lt;-E7\" style=\"stroke: #A80036; stroke-width: 1.0;\"/><ellipse cx=\"117.4567\" cy=\"526.1644\" fill=\"#FFFFFF\" rx=\"8\" ry=\"8\" style=\"stroke: #A80036; stroke-width: 1.0;\"/><line style=\"stroke: #A80036; stroke-width: 1.0;\" x1=\"116.6033\" x2=\"118.31\" y1=\"534.1187\" y2=\"518.21\"/><line style=\"stroke: #A80036; stroke-width: 1.0;\" x1=\"109.5023\" x2=\"125.411\" y1=\"525.311\" y2=\"527.0177\"/><!--MD5=[95fa686b5a16158bcdbcaeead89f639b]\n",
       "link E8 to E3--><path d=\"M194.8,582.2 C198.09,536.68 203.89,429.89 194,341 C191.9,322.13 187.85,301.78 183.62,283.73 \" fill=\"none\" id=\"E8-&gt;E3\" style=\"stroke: #A80036; stroke-width: 1.0;\"/><polygon fill=\"#FFFFFF\" points=\"178.76,264.17,190.1301,280.9247,176.5423,284.2966,178.76,264.17\" style=\"stroke: #A80036; stroke-width: 1.0;\"/><ellipse cx=\"189.5619\" cy=\"286.9386\" fill=\"#A80036\" rx=\"2\" ry=\"2\" style=\"stroke: #A80036; stroke-width: 1.0;\"/><ellipse cx=\"179.8563\" cy=\"289.3471\" fill=\"#A80036\" rx=\"2\" ry=\"2\" style=\"stroke: #A80036; stroke-width: 1.0;\"/><!--MD5=[f4cf0736d43fd73c4ef68817c49d37d5]\n",
       "reverse link E6 to E8--><path d=\"M148.79,529.47 C159.46,547.58 171.25,567.58 179.97,582.38 \" fill=\"none\" id=\"E6&lt;-E8\" style=\"stroke: #A80036; stroke-width: 1.0;\"/><polygon fill=\"#A80036\" points=\"142.16,518.21,141.76,525.41,148.2523,528.5485,148.6523,521.3485,142.16,518.21\" style=\"stroke: #A80036; stroke-width: 1.0;\"/><!--MD5=[8e04057e7b3cbc0dca4fc78ea351e2da]\n",
       "reverse link E10 to E3--><path d=\"M107.78,128.43 C121.23,150.31 136.77,175.59 148.83,195.2 \" fill=\"none\" id=\"E10&lt;-E3\" style=\"stroke: #A80036; stroke-width: 1.0;\"/><polygon fill=\"#FFFFFF\" points=\"100.96,117.35,100.6917,124.5561,107.2403,127.5753,107.5086,120.3692,100.96,117.35\" style=\"stroke: #A80036; stroke-width: 1.0;\"/><text fill=\"#000000\" font-family=\"sans-serif\" font-size=\"13\" lengthAdjust=\"spacingAndGlyphs\" textLength=\"7\" x=\"129\" y=\"160.0669\">y</text><!--MD5=[604cbf994c02b74b117f728a71673cea]\n",
       "reverse link E10 to E6--><path d=\"M75.96,130.3 C74.43,191.49 74.85,297.69 91,387 C94.73,407.66 101.86,430.01 108.35,447.84 \" fill=\"none\" id=\"E10&lt;-E6\" style=\"stroke: #A80036; stroke-width: 1.0;\"/><polygon fill=\"#FFFFFF\" points=\"76.33,117.22,72.1603,123.1033,75.9873,129.2151,80.157,123.3318,76.33,117.22\" style=\"stroke: #A80036; stroke-width: 1.0;\"/><text fill=\"#000000\" font-family=\"sans-serif\" font-size=\"13\" lengthAdjust=\"spacingAndGlyphs\" textLength=\"7\" x=\"81\" y=\"307.0669\">y</text><!--MD5=[ee45b3e08fdecde1a3060005849135e0]\n",
       "@startuml\r\n",
       " \r\n",
       "package \"PartTest\" as E1   {\r\n",
       "comp usage \"f: A\" as E2  << (P,limegreen) part>> {\r\n",
       "}\r\n",
       "comp def \"A\" as E3  << (B,green) >> {\r\n",
       "- -ports- -\r\n",
       "c: C\r\n",
       "}\r\n",
       "comp usage \"b: B\" as E4  << (P,limegreen) part>> {\r\n",
       "}\r\n",
       "comp def \"B\" as E6  << (B,green) >> {\r\n",
       "- -ports- -\r\n",
       "x: ~C\r\n",
       "}\r\n",
       "package \"P\" as E7   {\r\n",
       "}\r\n",
       "comp usage \"a: A\" as E8  << (P,limegreen) part>> {\r\n",
       "}\r\n",
       "comp def \"C\" as E10  <<(D,brown)port def>> {\r\n",
       "- -references- -\r\n",
       "y: A <b>as</b> z2 \r\n",
       "}\r\n",
       "E2 - -:|> E3\r\n",
       "E3 *- - E4\r\n",
       "E4 - -:|> E6\r\n",
       "E6 +- - E7\r\n",
       "E8 - -:|> E3\r\n",
       "E6 *- - E8\r\n",
       "E10 o- - E3 : y\r\n",
       "E10 o- - E6 : y\r\n",
       "}\r\n",
       "@enduml\r\n",
       "\n",
       "PlantUML version 1.2020.13(Sat Jun 13 12:26:38 UTC 2020)\n",
       "(EPL source distribution)\n",
       "Java Runtime: OpenJDK Runtime Environment\n",
       "JVM: OpenJDK 64-Bit Server VM\n",
       "Default Encoding: UTF-8\n",
       "Language: en\n",
       "Country: null\n",
       "--></g></svg>"
      ]
     },
     "execution_count": 36,
     "metadata": {},
     "output_type": "execute_result"
    }
   ],
   "source": [
    "%viz --style=\"PLANTUML\" --view=\"MIXED\" \"PartTest\""
   ]
  },
  {
   "cell_type": "code",
   "execution_count": 37,
   "id": "magnetic-invite",
   "metadata": {
    "execution": {
     "iopub.execute_input": "2021-03-25T16:06:35.776687Z",
     "iopub.status.busy": "2021-03-25T16:06:35.775862Z",
     "iopub.status.idle": "2021-03-25T16:06:36.114487Z",
     "shell.execute_reply": "2021-03-25T16:06:36.113127Z"
    }
   },
   "outputs": [
    {
     "data": {
      "image/svg+xml": [
       "<?xml version=\"1.0\" encoding=\"UTF-8\" standalone=\"no\"?><svg xmlns=\"http://www.w3.org/2000/svg\" xmlns:xlink=\"http://www.w3.org/1999/xlink\" contentScriptType=\"application/ecmascript\" contentStyleType=\"text/css\" height=\"672px\" preserveAspectRatio=\"none\" style=\"width:217px;height:672px;\" version=\"1.1\" viewBox=\"0 0 217 672\" width=\"217px\" zoomAndPan=\"magnify\"><defs/><g><!--MD5=[fbc87193dbaf4d95561dea2c320d4a47]\n",
       "cluster E1--><polygon fill=\"#FFFFFF\" points=\"16,6,89,6,96,28.2969,195,28.2969,195,660,16,660,16,6\" style=\"stroke: #000000; stroke-width: 1.5;\"/><line style=\"stroke: #000000; stroke-width: 1.5;\" x1=\"16\" x2=\"96\" y1=\"28.2969\" y2=\"28.2969\"/><text fill=\"#000000\" font-family=\"sans-serif\" font-size=\"14\" font-weight=\"bold\" lengthAdjust=\"spacingAndGlyphs\" textLength=\"67\" x=\"20\" y=\"20.9951\">PartTest</text><!--MD5=[b4997ac47864f28c2f74865a473b2911]\n",
       "class E2--><rect fill=\"#FFFFFF\" height=\"45.9375\" id=\"E2\" rx=\"10\" ry=\"10\" style=\"stroke: #383838; stroke-width: 1.5;\" width=\"42\" x=\"137\" y=\"56\"/><text fill=\"#000000\" font-family=\"sans-serif\" font-size=\"12\" font-style=\"italic\" lengthAdjust=\"spacingAndGlyphs\" textLength=\"40\" x=\"138\" y=\"72.1387\">«part»</text><text fill=\"#000000\" font-family=\"sans-serif\" font-size=\"12\" lengthAdjust=\"spacingAndGlyphs\" textLength=\"20\" x=\"148\" y=\"86.1074\">f: A</text><line style=\"stroke: #383838; stroke-width: 1.5;\" x1=\"138\" x2=\"178\" y1=\"93.9375\" y2=\"93.9375\"/><!--MD5=[09b614a08d8cba4a07c9adeb5e0fee81]\n",
       "class E3--><rect fill=\"#FFFFFF\" height=\"75.5469\" id=\"E3\" style=\"stroke: #383838; stroke-width: 1.5;\" width=\"66\" x=\"108\" y=\"194\"/><text fill=\"#000000\" font-family=\"sans-serif\" font-size=\"12\" font-style=\"italic\" lengthAdjust=\"spacingAndGlyphs\" textLength=\"64\" x=\"109\" y=\"210.1387\">«part def»</text><text fill=\"#000000\" font-family=\"sans-serif\" font-size=\"12\" lengthAdjust=\"spacingAndGlyphs\" textLength=\"8\" x=\"137\" y=\"224.1074\">A</text><line style=\"stroke: #383838; stroke-width: 1.5;\" x1=\"109\" x2=\"173\" y1=\"231.9375\" y2=\"231.9375\"/><text fill=\"#000000\" font-family=\"sans-serif\" font-size=\"11\" lengthAdjust=\"spacingAndGlyphs\" textLength=\"22\" x=\"114\" y=\"262.9526\">c: C</text><line style=\"stroke: #383838; stroke-width: 1.0;\" x1=\"109\" x2=\"126\" y1=\"246.3398\" y2=\"246.3398\"/><text fill=\"#000000\" font-family=\"sans-serif\" font-size=\"11\" lengthAdjust=\"spacingAndGlyphs\" textLength=\"30\" x=\"126\" y=\"249.6479\">ports</text><line style=\"stroke: #383838; stroke-width: 1.0;\" x1=\"156\" x2=\"173\" y1=\"246.3398\" y2=\"246.3398\"/><!--MD5=[ebbe1d658d1005bcc118a6aa81145e00]\n",
       "class E4--><rect fill=\"#FFFFFF\" height=\"45.9375\" id=\"E4\" rx=\"10\" ry=\"10\" style=\"stroke: #383838; stroke-width: 1.5;\" width=\"42\" x=\"100\" y=\"347\"/><text fill=\"#000000\" font-family=\"sans-serif\" font-size=\"12\" font-style=\"italic\" lengthAdjust=\"spacingAndGlyphs\" textLength=\"40\" x=\"101\" y=\"363.1387\">«part»</text><text fill=\"#000000\" font-family=\"sans-serif\" font-size=\"12\" lengthAdjust=\"spacingAndGlyphs\" textLength=\"24\" x=\"109\" y=\"377.1074\">b: B</text><line style=\"stroke: #383838; stroke-width: 1.5;\" x1=\"101\" x2=\"141\" y1=\"384.9375\" y2=\"384.9375\"/><!--MD5=[60a26617385b1d2d0262a64233df1f8d]\n",
       "class E6--><rect fill=\"#FFFFFF\" height=\"75.5469\" id=\"E6\" style=\"stroke: #383838; stroke-width: 1.5;\" width=\"66\" x=\"68\" y=\"454\"/><text fill=\"#000000\" font-family=\"sans-serif\" font-size=\"12\" font-style=\"italic\" lengthAdjust=\"spacingAndGlyphs\" textLength=\"64\" x=\"69\" y=\"470.1387\">«part def»</text><text fill=\"#000000\" font-family=\"sans-serif\" font-size=\"12\" lengthAdjust=\"spacingAndGlyphs\" textLength=\"8\" x=\"97\" y=\"484.1074\">B</text><line style=\"stroke: #383838; stroke-width: 1.5;\" x1=\"69\" x2=\"133\" y1=\"491.9375\" y2=\"491.9375\"/><text fill=\"#000000\" font-family=\"sans-serif\" font-size=\"11\" lengthAdjust=\"spacingAndGlyphs\" textLength=\"31\" x=\"74\" y=\"522.9526\">x: ~C</text><line style=\"stroke: #383838; stroke-width: 1.0;\" x1=\"69\" x2=\"86\" y1=\"506.3398\" y2=\"506.3398\"/><text fill=\"#000000\" font-family=\"sans-serif\" font-size=\"11\" lengthAdjust=\"spacingAndGlyphs\" textLength=\"30\" x=\"86\" y=\"509.6479\">ports</text><line style=\"stroke: #383838; stroke-width: 1.0;\" x1=\"116\" x2=\"133\" y1=\"506.3398\" y2=\"506.3398\"/><!--MD5=[b9389687b975829384b498ac4b7476b2]\n",
       "class E8--><rect fill=\"#FFFFFF\" height=\"45.9375\" id=\"E8\" rx=\"10\" ry=\"10\" style=\"stroke: #383838; stroke-width: 1.5;\" width=\"42\" x=\"137\" y=\"594.5\"/><text fill=\"#000000\" font-family=\"sans-serif\" font-size=\"12\" font-style=\"italic\" lengthAdjust=\"spacingAndGlyphs\" textLength=\"40\" x=\"138\" y=\"610.6387\">«part»</text><text fill=\"#000000\" font-family=\"sans-serif\" font-size=\"12\" lengthAdjust=\"spacingAndGlyphs\" textLength=\"24\" x=\"146\" y=\"624.6074\">a: A</text><line style=\"stroke: #383838; stroke-width: 1.5;\" x1=\"138\" x2=\"178\" y1=\"632.4375\" y2=\"632.4375\"/><!--MD5=[96f4274e9e20536e775497830990834d]\n",
       "class E10--><rect fill=\"#FFFFFF\" height=\"75.5469\" id=\"E10\" style=\"stroke: #383838; stroke-width: 1.5;\" width=\"70\" x=\"32\" y=\"41\"/><text fill=\"#000000\" font-family=\"sans-serif\" font-size=\"12\" font-style=\"italic\" lengthAdjust=\"spacingAndGlyphs\" textLength=\"64\" x=\"35\" y=\"57.1387\">«port def»</text><text fill=\"#000000\" font-family=\"sans-serif\" font-size=\"12\" lengthAdjust=\"spacingAndGlyphs\" textLength=\"8\" x=\"63\" y=\"71.1074\">C</text><line style=\"stroke: #383838; stroke-width: 1.5;\" x1=\"33\" x2=\"101\" y1=\"78.9375\" y2=\"78.9375\"/><text fill=\"#000000\" font-family=\"sans-serif\" font-size=\"11\" lengthAdjust=\"spacingAndGlyphs\" textLength=\"21\" x=\"38\" y=\"109.9526\">y: A</text><text fill=\"#000000\" font-family=\"sans-serif\" font-size=\"11\" font-weight=\"bold\" lengthAdjust=\"spacingAndGlyphs\" textLength=\"15\" x=\"63\" y=\"109.9526\">as</text><text fill=\"#000000\" font-family=\"sans-serif\" font-size=\"11\" lengthAdjust=\"spacingAndGlyphs\" textLength=\"12\" x=\"82\" y=\"109.9526\">z2</text><line style=\"stroke: #383838; stroke-width: 1.0;\" x1=\"33\" x2=\"36\" y1=\"93.3398\" y2=\"93.3398\"/><text fill=\"#000000\" font-family=\"sans-serif\" font-size=\"11\" lengthAdjust=\"spacingAndGlyphs\" textLength=\"62\" x=\"36\" y=\"96.6479\">references</text><line style=\"stroke: #383838; stroke-width: 1.0;\" x1=\"98\" x2=\"101\" y1=\"93.3398\" y2=\"93.3398\"/><polygon fill=\"#FFFFFF\" points=\"72,591,88,591,95,613.2969,102,613.2969,102,643.5938,72,643.5938,72,591\" style=\"stroke: #000000; stroke-width: 1.5;\"/><line style=\"stroke: #000000; stroke-width: 1.5;\" x1=\"72\" x2=\"95\" y1=\"613.2969\" y2=\"613.2969\"/><text fill=\"#000000\" font-family=\"sans-serif\" font-size=\"14\" font-weight=\"bold\" lengthAdjust=\"spacingAndGlyphs\" textLength=\"10\" x=\"76\" y=\"605.9951\">P</text><!--MD5=[2720a5a1f2c3fca2055b230370638851]\n",
       "link E2 to E3--><path d=\"M155.49,102.28 C153.37,121.12 150.24,148.97 147.42,173.94 \" fill=\"none\" id=\"E2-&gt;E3\" style=\"stroke: #383838; stroke-width: 1.0;\"/><polygon fill=\"#FFFFFF\" points=\"145.17,193.98,140.3312,174.3182,154.244,175.8785,145.17,193.98\" style=\"stroke: #383838; stroke-width: 1.0;\"/><ellipse cx=\"142.954\" cy=\"168.8766\" fill=\"#383838\" rx=\"2\" ry=\"2\" style=\"stroke: #383838; stroke-width: 1.0;\"/><ellipse cx=\"152.8917\" cy=\"169.9911\" fill=\"#383838\" rx=\"2\" ry=\"2\" style=\"stroke: #383838; stroke-width: 1.0;\"/><!--MD5=[4672eba38e49728da53d11aeb285b987]\n",
       "reverse link E3 to E4--><path d=\"M133.6,283.33 C130.39,305.16 126.79,329.6 124.27,346.77 \" fill=\"none\" id=\"E3&lt;-E4\" style=\"stroke: #383838; stroke-width: 1.0;\"/><polygon fill=\"#383838\" points=\"135.53,270.16,130.6958,275.5108,133.7757,282.0311,138.6099,276.6803,135.53,270.16\" style=\"stroke: #383838; stroke-width: 1.0;\"/><!--MD5=[79568f1e445c3877b6a54524624ccc7d]\n",
       "link E4 to E6--><path d=\"M117.33,393.01 C115.42,404.51 112.97,419.17 110.56,433.62 \" fill=\"none\" id=\"E4-&gt;E6\" style=\"stroke: #383838; stroke-width: 1.0;\"/><polygon fill=\"#FFFFFF\" points=\"107.24,453.57,103.4565,433.6782,117.2663,435.9781,107.24,453.57\" style=\"stroke: #383838; stroke-width: 1.0;\"/><ellipse cx=\"106.3657\" cy=\"428.3842\" fill=\"#383838\" rx=\"2\" ry=\"2\" style=\"stroke: #383838; stroke-width: 1.0;\"/><ellipse cx=\"116.2299\" cy=\"430.027\" fill=\"#383838\" rx=\"2\" ry=\"2\" style=\"stroke: #383838; stroke-width: 1.0;\"/><!--MD5=[3f50a3473f1dfb74d3f76443e03635af]\n",
       "reverse link E6 to E7--><path d=\"M95.07,545.35 C93.28,561.08 91.4,577.65 89.91,590.83 \" fill=\"none\" id=\"E6&lt;-E7\" style=\"stroke: #383838; stroke-width: 1.0;\"/><ellipse cx=\"95.9015\" cy=\"537.9994\" fill=\"#FFFFFF\" rx=\"8\" ry=\"8\" style=\"stroke: #383838; stroke-width: 1.0;\"/><line style=\"stroke: #383838; stroke-width: 1.0;\" x1=\"95.003\" x2=\"96.8\" y1=\"545.9488\" y2=\"530.05\"/><line style=\"stroke: #383838; stroke-width: 1.0;\" x1=\"87.9521\" x2=\"103.8509\" y1=\"537.1009\" y2=\"538.8979\"/><!--MD5=[95fa686b5a16158bcdbcaeead89f639b]\n",
       "link E8 to E3--><path d=\"M159.5,594.44 C162.35,548.38 167.58,438.63 160,347 C158.45,328.29 155.5,308.02 152.37,289.84 \" fill=\"none\" id=\"E8-&gt;E3\" style=\"stroke: #383838; stroke-width: 1.0;\"/><polygon fill=\"#FFFFFF\" points=\"148.76,270.03,159.0537,287.4667,145.2807,289.9773,148.76,270.03\" style=\"stroke: #383838; stroke-width: 1.0;\"/><ellipse cx=\"158.1083\" cy=\"293.433\" fill=\"#383838\" rx=\"2\" ry=\"2\" style=\"stroke: #383838; stroke-width: 1.0;\"/><ellipse cx=\"148.2704\" cy=\"295.2262\" fill=\"#383838\" rx=\"2\" ry=\"2\" style=\"stroke: #383838; stroke-width: 1.0;\"/><!--MD5=[f4cf0736d43fd73c4ef68817c49d37d5]\n",
       "reverse link E6 to E8--><path d=\"M123.59,541.94 C131.93,560.02 140.98,579.62 147.7,594.19 \" fill=\"none\" id=\"E6&lt;-E8\" style=\"stroke: #383838; stroke-width: 1.0;\"/><polygon fill=\"#383838\" points=\"118.1,530.05,116.9809,537.1737,123.1262,540.9467,124.2453,533.8229,118.1,530.05\" style=\"stroke: #383838; stroke-width: 1.0;\"/><!--MD5=[8e04057e7b3cbc0dca4fc78ea351e2da]\n",
       "reverse link E10 to E3--><path d=\"M91.15,129.28 C101.44,150.28 113.25,174.38 122.79,193.84 \" fill=\"none\" id=\"E10&lt;-E3\" style=\"stroke: #383838; stroke-width: 1.0;\"/><polygon fill=\"#FFFFFF\" points=\"85.29,117.33,84.3358,124.4777,90.5667,128.1076,91.5209,120.9599,85.29,117.33\" style=\"stroke: #383838; stroke-width: 1.0;\"/><text fill=\"#000000\" font-family=\"sans-serif\" font-size=\"13\" lengthAdjust=\"spacingAndGlyphs\" textLength=\"7\" x=\"107\" y=\"160.0669\">y</text><!--MD5=[604cbf994c02b74b117f728a71673cea]\n",
       "reverse link E10 to E6--><path d=\"M67.56,130.48 C68.7,192.49 72.22,300.8 83,393 C85.37,413.27 89.38,435.68 93.01,453.94 \" fill=\"none\" id=\"E10&lt;-E6\" style=\"stroke: #383838; stroke-width: 1.0;\"/><polygon fill=\"#FFFFFF\" points=\"67.33,117.23,63.4361,123.2994,67.541,129.2281,71.4349,123.1588,67.33,117.23\" style=\"stroke: #383838; stroke-width: 1.0;\"/><text fill=\"#000000\" font-family=\"sans-serif\" font-size=\"13\" lengthAdjust=\"spacingAndGlyphs\" textLength=\"7\" x=\"76\" y=\"313.0669\">y</text><!--MD5=[2a21c75ad4bee10d24a9f05c71af9b02]\n",
       "@startuml\r\n",
       "skinparam monochrome true\r\n",
       "skinparam classbackgroundcolor white\r\n",
       "skinparam shadowing false\r\n",
       "skinparam wrapWidth 300\r\n",
       "hide circle\r\n",
       "\r\n",
       "package \"PartTest\" as E1   {\r\n",
       "comp usage \"f: A\" as E2  <<(T,blue)part>> {\r\n",
       "}\r\n",
       "comp def \"A\" as E3  <<(T,blue)part def>> {\r\n",
       "- -ports- -\r\n",
       "c: C\r\n",
       "}\r\n",
       "comp usage \"b: B\" as E4  <<(T,blue)part>> {\r\n",
       "}\r\n",
       "comp def \"B\" as E6  <<(T,blue)part def>> {\r\n",
       "- -ports- -\r\n",
       "x: ~C\r\n",
       "}\r\n",
       "package \"P\" as E7   {\r\n",
       "}\r\n",
       "comp usage \"a: A\" as E8  <<(T,blue)part>> {\r\n",
       "}\r\n",
       "comp def \"C\" as E10  <<(T,blue)port def>> {\r\n",
       "- -references- -\r\n",
       "y: A <b>as</b> z2 \r\n",
       "}\r\n",
       "E2 - -:|> E3\r\n",
       "E3 *- - E4\r\n",
       "E4 - -:|> E6\r\n",
       "E6 +- - E7\r\n",
       "E8 - -:|> E3\r\n",
       "E6 *- - E8\r\n",
       "E10 o- - E3 : y\r\n",
       "E10 o- - E6 : y\r\n",
       "}\r\n",
       "@enduml\r\n",
       "\n",
       "PlantUML version 1.2020.13(Sat Jun 13 12:26:38 UTC 2020)\n",
       "(EPL source distribution)\n",
       "Java Runtime: OpenJDK Runtime Environment\n",
       "JVM: OpenJDK 64-Bit Server VM\n",
       "Default Encoding: UTF-8\n",
       "Language: en\n",
       "Country: null\n",
       "--></g></svg>"
      ]
     },
     "execution_count": 37,
     "metadata": {},
     "output_type": "execute_result"
    }
   ],
   "source": [
    "%viz --style=\"DEFAULT\" --view=\"Default\" \"PartTest\""
   ]
  },
  {
   "cell_type": "code",
   "execution_count": 38,
   "id": "intermediate-roads",
   "metadata": {
    "execution": {
     "iopub.execute_input": "2021-03-25T16:06:36.164850Z",
     "iopub.status.busy": "2021-03-25T16:06:36.164361Z",
     "iopub.status.idle": "2021-03-25T16:06:36.507003Z",
     "shell.execute_reply": "2021-03-25T16:06:36.507448Z"
    }
   },
   "outputs": [
    {
     "data": {
      "image/svg+xml": [
       "<?xml version=\"1.0\" encoding=\"UTF-8\" standalone=\"no\"?><svg xmlns=\"http://www.w3.org/2000/svg\" xmlns:xlink=\"http://www.w3.org/1999/xlink\" contentScriptType=\"application/ecmascript\" contentStyleType=\"text/css\" height=\"672px\" preserveAspectRatio=\"none\" style=\"width:217px;height:672px;\" version=\"1.1\" viewBox=\"0 0 217 672\" width=\"217px\" zoomAndPan=\"magnify\"><defs/><g><!--MD5=[fbc87193dbaf4d95561dea2c320d4a47]\n",
       "cluster E1--><polygon fill=\"#FFFFFF\" points=\"16,6,89,6,96,28.2969,195,28.2969,195,660,16,660,16,6\" style=\"stroke: #000000; stroke-width: 1.5;\"/><line style=\"stroke: #000000; stroke-width: 1.5;\" x1=\"16\" x2=\"96\" y1=\"28.2969\" y2=\"28.2969\"/><text fill=\"#000000\" font-family=\"sans-serif\" font-size=\"14\" font-weight=\"bold\" lengthAdjust=\"spacingAndGlyphs\" textLength=\"67\" x=\"20\" y=\"20.9951\">PartTest</text><!--MD5=[b4997ac47864f28c2f74865a473b2911]\n",
       "class E2--><rect fill=\"#FFFFFF\" height=\"45.9375\" id=\"E2\" rx=\"10\" ry=\"10\" style=\"stroke: #383838; stroke-width: 1.5;\" width=\"42\" x=\"137\" y=\"56\"/><text fill=\"#000000\" font-family=\"sans-serif\" font-size=\"12\" font-style=\"italic\" lengthAdjust=\"spacingAndGlyphs\" textLength=\"40\" x=\"138\" y=\"72.1387\">«part»</text><text fill=\"#000000\" font-family=\"sans-serif\" font-size=\"12\" lengthAdjust=\"spacingAndGlyphs\" textLength=\"20\" x=\"148\" y=\"86.1074\">f: A</text><line style=\"stroke: #383838; stroke-width: 1.5;\" x1=\"138\" x2=\"178\" y1=\"93.9375\" y2=\"93.9375\"/><!--MD5=[09b614a08d8cba4a07c9adeb5e0fee81]\n",
       "class E3--><rect fill=\"#FFFFFF\" height=\"75.5469\" id=\"E3\" style=\"stroke: #383838; stroke-width: 1.5;\" width=\"66\" x=\"108\" y=\"194\"/><text fill=\"#000000\" font-family=\"sans-serif\" font-size=\"12\" font-style=\"italic\" lengthAdjust=\"spacingAndGlyphs\" textLength=\"64\" x=\"109\" y=\"210.1387\">«part def»</text><text fill=\"#000000\" font-family=\"sans-serif\" font-size=\"12\" lengthAdjust=\"spacingAndGlyphs\" textLength=\"8\" x=\"137\" y=\"224.1074\">A</text><line style=\"stroke: #383838; stroke-width: 1.5;\" x1=\"109\" x2=\"173\" y1=\"231.9375\" y2=\"231.9375\"/><text fill=\"#000000\" font-family=\"sans-serif\" font-size=\"11\" lengthAdjust=\"spacingAndGlyphs\" textLength=\"22\" x=\"114\" y=\"262.9526\">c: C</text><line style=\"stroke: #383838; stroke-width: 1.0;\" x1=\"109\" x2=\"126\" y1=\"246.3398\" y2=\"246.3398\"/><text fill=\"#000000\" font-family=\"sans-serif\" font-size=\"11\" lengthAdjust=\"spacingAndGlyphs\" textLength=\"30\" x=\"126\" y=\"249.6479\">ports</text><line style=\"stroke: #383838; stroke-width: 1.0;\" x1=\"156\" x2=\"173\" y1=\"246.3398\" y2=\"246.3398\"/><!--MD5=[ebbe1d658d1005bcc118a6aa81145e00]\n",
       "class E4--><rect fill=\"#FFFFFF\" height=\"45.9375\" id=\"E4\" rx=\"10\" ry=\"10\" style=\"stroke: #383838; stroke-width: 1.5;\" width=\"42\" x=\"100\" y=\"347\"/><text fill=\"#000000\" font-family=\"sans-serif\" font-size=\"12\" font-style=\"italic\" lengthAdjust=\"spacingAndGlyphs\" textLength=\"40\" x=\"101\" y=\"363.1387\">«part»</text><text fill=\"#000000\" font-family=\"sans-serif\" font-size=\"12\" lengthAdjust=\"spacingAndGlyphs\" textLength=\"24\" x=\"109\" y=\"377.1074\">b: B</text><line style=\"stroke: #383838; stroke-width: 1.5;\" x1=\"101\" x2=\"141\" y1=\"384.9375\" y2=\"384.9375\"/><!--MD5=[60a26617385b1d2d0262a64233df1f8d]\n",
       "class E6--><rect fill=\"#FFFFFF\" height=\"75.5469\" id=\"E6\" style=\"stroke: #383838; stroke-width: 1.5;\" width=\"66\" x=\"68\" y=\"454\"/><text fill=\"#000000\" font-family=\"sans-serif\" font-size=\"12\" font-style=\"italic\" lengthAdjust=\"spacingAndGlyphs\" textLength=\"64\" x=\"69\" y=\"470.1387\">«part def»</text><text fill=\"#000000\" font-family=\"sans-serif\" font-size=\"12\" lengthAdjust=\"spacingAndGlyphs\" textLength=\"8\" x=\"97\" y=\"484.1074\">B</text><line style=\"stroke: #383838; stroke-width: 1.5;\" x1=\"69\" x2=\"133\" y1=\"491.9375\" y2=\"491.9375\"/><text fill=\"#000000\" font-family=\"sans-serif\" font-size=\"11\" lengthAdjust=\"spacingAndGlyphs\" textLength=\"31\" x=\"74\" y=\"522.9526\">x: ~C</text><line style=\"stroke: #383838; stroke-width: 1.0;\" x1=\"69\" x2=\"86\" y1=\"506.3398\" y2=\"506.3398\"/><text fill=\"#000000\" font-family=\"sans-serif\" font-size=\"11\" lengthAdjust=\"spacingAndGlyphs\" textLength=\"30\" x=\"86\" y=\"509.6479\">ports</text><line style=\"stroke: #383838; stroke-width: 1.0;\" x1=\"116\" x2=\"133\" y1=\"506.3398\" y2=\"506.3398\"/><!--MD5=[b9389687b975829384b498ac4b7476b2]\n",
       "class E8--><rect fill=\"#FFFFFF\" height=\"45.9375\" id=\"E8\" rx=\"10\" ry=\"10\" style=\"stroke: #383838; stroke-width: 1.5;\" width=\"42\" x=\"137\" y=\"594.5\"/><text fill=\"#000000\" font-family=\"sans-serif\" font-size=\"12\" font-style=\"italic\" lengthAdjust=\"spacingAndGlyphs\" textLength=\"40\" x=\"138\" y=\"610.6387\">«part»</text><text fill=\"#000000\" font-family=\"sans-serif\" font-size=\"12\" lengthAdjust=\"spacingAndGlyphs\" textLength=\"24\" x=\"146\" y=\"624.6074\">a: A</text><line style=\"stroke: #383838; stroke-width: 1.5;\" x1=\"138\" x2=\"178\" y1=\"632.4375\" y2=\"632.4375\"/><!--MD5=[96f4274e9e20536e775497830990834d]\n",
       "class E10--><rect fill=\"#FFFFFF\" height=\"75.5469\" id=\"E10\" style=\"stroke: #383838; stroke-width: 1.5;\" width=\"70\" x=\"32\" y=\"41\"/><text fill=\"#000000\" font-family=\"sans-serif\" font-size=\"12\" font-style=\"italic\" lengthAdjust=\"spacingAndGlyphs\" textLength=\"64\" x=\"35\" y=\"57.1387\">«port def»</text><text fill=\"#000000\" font-family=\"sans-serif\" font-size=\"12\" lengthAdjust=\"spacingAndGlyphs\" textLength=\"8\" x=\"63\" y=\"71.1074\">C</text><line style=\"stroke: #383838; stroke-width: 1.5;\" x1=\"33\" x2=\"101\" y1=\"78.9375\" y2=\"78.9375\"/><text fill=\"#000000\" font-family=\"sans-serif\" font-size=\"11\" lengthAdjust=\"spacingAndGlyphs\" textLength=\"21\" x=\"38\" y=\"109.9526\">y: A</text><text fill=\"#000000\" font-family=\"sans-serif\" font-size=\"11\" font-weight=\"bold\" lengthAdjust=\"spacingAndGlyphs\" textLength=\"15\" x=\"63\" y=\"109.9526\">as</text><text fill=\"#000000\" font-family=\"sans-serif\" font-size=\"11\" lengthAdjust=\"spacingAndGlyphs\" textLength=\"12\" x=\"82\" y=\"109.9526\">z2</text><line style=\"stroke: #383838; stroke-width: 1.0;\" x1=\"33\" x2=\"36\" y1=\"93.3398\" y2=\"93.3398\"/><text fill=\"#000000\" font-family=\"sans-serif\" font-size=\"11\" lengthAdjust=\"spacingAndGlyphs\" textLength=\"62\" x=\"36\" y=\"96.6479\">references</text><line style=\"stroke: #383838; stroke-width: 1.0;\" x1=\"98\" x2=\"101\" y1=\"93.3398\" y2=\"93.3398\"/><polygon fill=\"#FFFFFF\" points=\"72,591,88,591,95,613.2969,102,613.2969,102,643.5938,72,643.5938,72,591\" style=\"stroke: #000000; stroke-width: 1.5;\"/><line style=\"stroke: #000000; stroke-width: 1.5;\" x1=\"72\" x2=\"95\" y1=\"613.2969\" y2=\"613.2969\"/><text fill=\"#000000\" font-family=\"sans-serif\" font-size=\"14\" font-weight=\"bold\" lengthAdjust=\"spacingAndGlyphs\" textLength=\"10\" x=\"76\" y=\"605.9951\">P</text><!--MD5=[2720a5a1f2c3fca2055b230370638851]\n",
       "link E2 to E3--><path d=\"M155.49,102.28 C153.37,121.12 150.24,148.97 147.42,173.94 \" fill=\"none\" id=\"E2-&gt;E3\" style=\"stroke: #383838; stroke-width: 1.0;\"/><polygon fill=\"#FFFFFF\" points=\"145.17,193.98,140.3312,174.3182,154.244,175.8785,145.17,193.98\" style=\"stroke: #383838; stroke-width: 1.0;\"/><ellipse cx=\"142.954\" cy=\"168.8766\" fill=\"#383838\" rx=\"2\" ry=\"2\" style=\"stroke: #383838; stroke-width: 1.0;\"/><ellipse cx=\"152.8917\" cy=\"169.9911\" fill=\"#383838\" rx=\"2\" ry=\"2\" style=\"stroke: #383838; stroke-width: 1.0;\"/><!--MD5=[4672eba38e49728da53d11aeb285b987]\n",
       "reverse link E3 to E4--><path d=\"M133.6,283.33 C130.39,305.16 126.79,329.6 124.27,346.77 \" fill=\"none\" id=\"E3&lt;-E4\" style=\"stroke: #383838; stroke-width: 1.0;\"/><polygon fill=\"#383838\" points=\"135.53,270.16,130.6958,275.5108,133.7757,282.0311,138.6099,276.6803,135.53,270.16\" style=\"stroke: #383838; stroke-width: 1.0;\"/><!--MD5=[79568f1e445c3877b6a54524624ccc7d]\n",
       "link E4 to E6--><path d=\"M117.33,393.01 C115.42,404.51 112.97,419.17 110.56,433.62 \" fill=\"none\" id=\"E4-&gt;E6\" style=\"stroke: #383838; stroke-width: 1.0;\"/><polygon fill=\"#FFFFFF\" points=\"107.24,453.57,103.4565,433.6782,117.2663,435.9781,107.24,453.57\" style=\"stroke: #383838; stroke-width: 1.0;\"/><ellipse cx=\"106.3657\" cy=\"428.3842\" fill=\"#383838\" rx=\"2\" ry=\"2\" style=\"stroke: #383838; stroke-width: 1.0;\"/><ellipse cx=\"116.2299\" cy=\"430.027\" fill=\"#383838\" rx=\"2\" ry=\"2\" style=\"stroke: #383838; stroke-width: 1.0;\"/><!--MD5=[3f50a3473f1dfb74d3f76443e03635af]\n",
       "reverse link E6 to E7--><path d=\"M95.07,545.35 C93.28,561.08 91.4,577.65 89.91,590.83 \" fill=\"none\" id=\"E6&lt;-E7\" style=\"stroke: #383838; stroke-width: 1.0;\"/><ellipse cx=\"95.9015\" cy=\"537.9994\" fill=\"#FFFFFF\" rx=\"8\" ry=\"8\" style=\"stroke: #383838; stroke-width: 1.0;\"/><line style=\"stroke: #383838; stroke-width: 1.0;\" x1=\"95.003\" x2=\"96.8\" y1=\"545.9488\" y2=\"530.05\"/><line style=\"stroke: #383838; stroke-width: 1.0;\" x1=\"87.9521\" x2=\"103.8509\" y1=\"537.1009\" y2=\"538.8979\"/><!--MD5=[95fa686b5a16158bcdbcaeead89f639b]\n",
       "link E8 to E3--><path d=\"M159.5,594.44 C162.35,548.38 167.58,438.63 160,347 C158.45,328.29 155.5,308.02 152.37,289.84 \" fill=\"none\" id=\"E8-&gt;E3\" style=\"stroke: #383838; stroke-width: 1.0;\"/><polygon fill=\"#FFFFFF\" points=\"148.76,270.03,159.0537,287.4667,145.2807,289.9773,148.76,270.03\" style=\"stroke: #383838; stroke-width: 1.0;\"/><ellipse cx=\"158.1083\" cy=\"293.433\" fill=\"#383838\" rx=\"2\" ry=\"2\" style=\"stroke: #383838; stroke-width: 1.0;\"/><ellipse cx=\"148.2704\" cy=\"295.2262\" fill=\"#383838\" rx=\"2\" ry=\"2\" style=\"stroke: #383838; stroke-width: 1.0;\"/><!--MD5=[f4cf0736d43fd73c4ef68817c49d37d5]\n",
       "reverse link E6 to E8--><path d=\"M123.59,541.94 C131.93,560.02 140.98,579.62 147.7,594.19 \" fill=\"none\" id=\"E6&lt;-E8\" style=\"stroke: #383838; stroke-width: 1.0;\"/><polygon fill=\"#383838\" points=\"118.1,530.05,116.9809,537.1737,123.1262,540.9467,124.2453,533.8229,118.1,530.05\" style=\"stroke: #383838; stroke-width: 1.0;\"/><!--MD5=[8e04057e7b3cbc0dca4fc78ea351e2da]\n",
       "reverse link E10 to E3--><path d=\"M91.15,129.28 C101.44,150.28 113.25,174.38 122.79,193.84 \" fill=\"none\" id=\"E10&lt;-E3\" style=\"stroke: #383838; stroke-width: 1.0;\"/><polygon fill=\"#FFFFFF\" points=\"85.29,117.33,84.3358,124.4777,90.5667,128.1076,91.5209,120.9599,85.29,117.33\" style=\"stroke: #383838; stroke-width: 1.0;\"/><text fill=\"#000000\" font-family=\"sans-serif\" font-size=\"13\" lengthAdjust=\"spacingAndGlyphs\" textLength=\"7\" x=\"107\" y=\"160.0669\">y</text><!--MD5=[604cbf994c02b74b117f728a71673cea]\n",
       "reverse link E10 to E6--><path d=\"M67.56,130.48 C68.7,192.49 72.22,300.8 83,393 C85.37,413.27 89.38,435.68 93.01,453.94 \" fill=\"none\" id=\"E10&lt;-E6\" style=\"stroke: #383838; stroke-width: 1.0;\"/><polygon fill=\"#FFFFFF\" points=\"67.33,117.23,63.4361,123.2994,67.541,129.2281,71.4349,123.1588,67.33,117.23\" style=\"stroke: #383838; stroke-width: 1.0;\"/><text fill=\"#000000\" font-family=\"sans-serif\" font-size=\"13\" lengthAdjust=\"spacingAndGlyphs\" textLength=\"7\" x=\"76\" y=\"313.0669\">y</text><!--MD5=[2a21c75ad4bee10d24a9f05c71af9b02]\n",
       "@startuml\r\n",
       "skinparam monochrome true\r\n",
       "skinparam classbackgroundcolor white\r\n",
       "skinparam shadowing false\r\n",
       "skinparam wrapWidth 300\r\n",
       "hide circle\r\n",
       "\r\n",
       "package \"PartTest\" as E1   {\r\n",
       "comp usage \"f: A\" as E2  <<(T,blue)part>> {\r\n",
       "}\r\n",
       "comp def \"A\" as E3  <<(T,blue)part def>> {\r\n",
       "- -ports- -\r\n",
       "c: C\r\n",
       "}\r\n",
       "comp usage \"b: B\" as E4  <<(T,blue)part>> {\r\n",
       "}\r\n",
       "comp def \"B\" as E6  <<(T,blue)part def>> {\r\n",
       "- -ports- -\r\n",
       "x: ~C\r\n",
       "}\r\n",
       "package \"P\" as E7   {\r\n",
       "}\r\n",
       "comp usage \"a: A\" as E8  <<(T,blue)part>> {\r\n",
       "}\r\n",
       "comp def \"C\" as E10  <<(T,blue)port def>> {\r\n",
       "- -references- -\r\n",
       "y: A <b>as</b> z2 \r\n",
       "}\r\n",
       "E2 - -:|> E3\r\n",
       "E3 *- - E4\r\n",
       "E4 - -:|> E6\r\n",
       "E6 +- - E7\r\n",
       "E8 - -:|> E3\r\n",
       "E6 *- - E8\r\n",
       "E10 o- - E3 : y\r\n",
       "E10 o- - E6 : y\r\n",
       "}\r\n",
       "@enduml\r\n",
       "\n",
       "PlantUML version 1.2020.13(Sat Jun 13 12:26:38 UTC 2020)\n",
       "(EPL source distribution)\n",
       "Java Runtime: OpenJDK Runtime Environment\n",
       "JVM: OpenJDK 64-Bit Server VM\n",
       "Default Encoding: UTF-8\n",
       "Language: en\n",
       "Country: null\n",
       "--></g></svg>"
      ]
     },
     "execution_count": 38,
     "metadata": {},
     "output_type": "execute_result"
    }
   ],
   "source": [
    "%viz --style=\"DEFAULT\" --view=\"Tree\" \"PartTest\""
   ]
  },
  {
   "cell_type": "code",
   "execution_count": 39,
   "id": "rocky-diagnosis",
   "metadata": {
    "execution": {
     "iopub.execute_input": "2021-03-25T16:06:36.558618Z",
     "iopub.status.busy": "2021-03-25T16:06:36.558051Z",
     "iopub.status.idle": "2021-03-25T16:06:36.559923Z",
     "shell.execute_reply": "2021-03-25T16:06:36.560424Z"
    }
   },
   "outputs": [
    {
     "data": {
      "text/plain": [
       "java.lang.IllegalArgumentException: Invalid View: State View candidates are: Default Tree StateMachine Interconnection Activity Sequence MIXED \n",
       "\tat org.omg.sysml.plantuml.SysML2PlantUMLSvc.setView(SysML2PlantUMLSvc.java:63)\n",
       "\tat org.omg.sysml.interactive.SysMLInteractive.viz(SysMLInteractive.java:286)\n",
       "\tat org.omg.sysml.jupyter.kernel.magic.Viz.viz(Viz.java:47)\n",
       "\tat jdk.internal.reflect.GeneratedMethodAccessor9.invoke(Unknown Source)\n",
       "\tat java.base/jdk.internal.reflect.DelegatingMethodAccessorImpl.invoke(DelegatingMethodAccessorImpl.java:43)\n",
       "\tat java.base/java.lang.reflect.Method.invoke(Method.java:568)\n",
       "\tat io.github.spencerpark.jupyter.kernel.magic.registry.Magics.invoke(Magics.java:89)\n",
       "\tat io.github.spencerpark.jupyter.kernel.magic.registry.Magics.access$000(Magics.java:8)\n",
       "\tat io.github.spencerpark.jupyter.kernel.magic.registry.Magics$LineReflectionMagicFunction.execute(Magics.java:149)\n",
       "\tat io.github.spencerpark.jupyter.kernel.magic.registry.Magics.applyLineMagic(Magics.java:26)\n",
       "\tat org.omg.sysml.jupyter.kernel.SysMLKernel.eval(SysMLKernel.java:76)\n",
       "\tat io.github.spencerpark.jupyter.kernel.BaseKernel.handleExecuteRequest(BaseKernel.java:334)\n",
       "\tat io.github.spencerpark.jupyter.channels.ShellChannel.lambda$bind$0(ShellChannel.java:64)\n",
       "\tat io.github.spencerpark.jupyter.channels.Loop.lambda$new$0(Loop.java:21)\n",
       "\tat io.github.spencerpark.jupyter.channels.Loop.run(Loop.java:78)\n"
      ]
     },
     "execution_count": 39,
     "metadata": {},
     "output_type": "execute_result"
    }
   ],
   "source": [
    "%viz --style=\"DEFAULT\" --view=\"State\" \"PartTest\""
   ]
  },
  {
   "cell_type": "code",
   "execution_count": 40,
   "id": "rocky-ballot",
   "metadata": {
    "execution": {
     "iopub.execute_input": "2021-03-25T16:06:36.613163Z",
     "iopub.status.busy": "2021-03-25T16:06:36.612485Z",
     "iopub.status.idle": "2021-03-25T16:06:36.687873Z",
     "shell.execute_reply": "2021-03-25T16:06:36.686635Z"
    }
   },
   "outputs": [
    {
     "data": {
      "image/svg+xml": [
       "<?xml version=\"1.0\" encoding=\"UTF-8\" standalone=\"no\"?><svg xmlns=\"http://www.w3.org/2000/svg\" xmlns:xlink=\"http://www.w3.org/1999/xlink\" contentScriptType=\"application/ecmascript\" contentStyleType=\"text/css\" height=\"266px\" preserveAspectRatio=\"none\" style=\"width:542px;height:266px;\" version=\"1.1\" viewBox=\"0 0 542 266\" width=\"542px\" zoomAndPan=\"magnify\"><defs/><g><!--MD5=[fbc87193dbaf4d95561dea2c320d4a47]\n",
       "cluster E1--><polygon fill=\"#FFFFFF\" points=\"16,6,89,6,96,28.2969,520,28.2969,520,254,16,254,16,6\" style=\"stroke: #000000; stroke-width: 1.5;\"/><line style=\"stroke: #000000; stroke-width: 1.5;\" x1=\"16\" x2=\"96\" y1=\"28.2969\" y2=\"28.2969\"/><text fill=\"#000000\" font-family=\"sans-serif\" font-size=\"14\" font-weight=\"bold\" lengthAdjust=\"spacingAndGlyphs\" textLength=\"67\" x=\"20\" y=\"20.9951\">PartTest</text><!--MD5=[d5e69f78d87373223dbae638b30a9c99]\n",
       "cluster E3--><rect fill=\"#FFFFFF\" height=\"170\" style=\"stroke: #000000; stroke-width: 1.5;\" width=\"120\" x=\"384\" y=\"68\"/><text fill=\"#000000\" font-family=\"sans-serif\" font-size=\"14\" font-style=\"italic\" lengthAdjust=\"spacingAndGlyphs\" textLength=\"71\" x=\"408.5\" y=\"82.9951\">«part def»</text><text fill=\"#000000\" font-family=\"sans-serif\" font-size=\"14\" font-weight=\"bold\" lengthAdjust=\"spacingAndGlyphs\" textLength=\"11\" x=\"438.5\" y=\"99.292\">A</text><!--MD5=[14e3b0961a2654348d326746436168a1]\n",
       "cluster E6--><rect fill=\"#FFFFFF\" height=\"170\" style=\"stroke: #000000; stroke-width: 1.5;\" width=\"185\" x=\"191\" y=\"68\"/><text fill=\"#000000\" font-family=\"sans-serif\" font-size=\"14\" font-style=\"italic\" lengthAdjust=\"spacingAndGlyphs\" textLength=\"71\" x=\"248\" y=\"82.9951\">«part def»</text><text fill=\"#000000\" font-family=\"sans-serif\" font-size=\"14\" font-weight=\"bold\" lengthAdjust=\"spacingAndGlyphs\" textLength=\"10\" x=\"278.5\" y=\"99.292\">B</text><!--MD5=[96f4274e9e20536e775497830990834d]\n",
       "class E10--><rect fill=\"#FFFFFF\" height=\"53.9375\" id=\"E10\" style=\"stroke: #383838; stroke-width: 1.5;\" width=\"66\" x=\"117\" y=\"41\"/><text fill=\"#000000\" font-family=\"sans-serif\" font-size=\"12\" font-style=\"italic\" lengthAdjust=\"spacingAndGlyphs\" textLength=\"64\" x=\"118\" y=\"57.1387\">«port def»</text><text fill=\"#000000\" font-family=\"sans-serif\" font-size=\"12\" lengthAdjust=\"spacingAndGlyphs\" textLength=\"8\" x=\"146\" y=\"71.1074\">C</text><line style=\"stroke: #383838; stroke-width: 1.5;\" x1=\"118\" x2=\"182\" y1=\"78.9375\" y2=\"78.9375\"/><line style=\"stroke: #383838; stroke-width: 1.5;\" x1=\"118\" x2=\"182\" y1=\"86.9375\" y2=\"86.9375\"/><g id=\"E1.E2\"><rect fill=\"#FFFFFF\" height=\"50\" rx=\"12.5\" ry=\"12.5\" style=\"stroke: #383838; stroke-width: 1.5;\" width=\"50\" x=\"32\" y=\"43\"/><line style=\"stroke: #383838; stroke-width: 1.5;\" x1=\"32\" x2=\"82\" y1=\"69.2969\" y2=\"69.2969\"/><text fill=\"#000000\" font-family=\"sans-serif\" font-size=\"14\" lengthAdjust=\"spacingAndGlyphs\" textLength=\"22\" x=\"46\" y=\"60.9951\">f: A</text></g><text fill=\"#000000\" font-family=\"sans-serif\" font-size=\"14\" lengthAdjust=\"spacingAndGlyphs\" textLength=\"27\" x=\"430.5\" y=\"46.6982\">c: C</text><rect fill=\"#383838\" height=\"12\" style=\"stroke: #F8F8F8; stroke-width: 1.5;\" width=\"12\" x=\"438\" y=\"62\"/><g id=\"E1.E3.E4\"><rect fill=\"#FFFFFF\" height=\"50\" rx=\"12.5\" ry=\"12.5\" style=\"stroke: #383838; stroke-width: 1.5;\" width=\"50\" x=\"419\" y=\"172\"/><line style=\"stroke: #383838; stroke-width: 1.5;\" x1=\"419\" x2=\"469\" y1=\"198.2969\" y2=\"198.2969\"/><text fill=\"#000000\" font-family=\"sans-serif\" font-size=\"14\" lengthAdjust=\"spacingAndGlyphs\" textLength=\"28\" x=\"430\" y=\"189.9951\">b: B</text></g><text fill=\"#000000\" font-family=\"sans-serif\" font-size=\"14\" lengthAdjust=\"spacingAndGlyphs\" textLength=\"38\" x=\"297\" y=\"46.6982\">x: ~C</text><rect fill=\"#383838\" height=\"12\" style=\"stroke: #F8F8F8; stroke-width: 1.5;\" width=\"12\" x=\"310\" y=\"62\"/><polygon fill=\"#FFFFFF\" points=\"207,111,223,111,230,133.2969,237,133.2969,237,163.5938,207,163.5938,207,111\" style=\"stroke: #000000; stroke-width: 1.5;\"/><line style=\"stroke: #000000; stroke-width: 1.5;\" x1=\"207\" x2=\"230\" y1=\"133.2969\" y2=\"133.2969\"/><text fill=\"#000000\" font-family=\"sans-serif\" font-size=\"14\" font-weight=\"bold\" lengthAdjust=\"spacingAndGlyphs\" textLength=\"10\" x=\"211\" y=\"125.9951\">P</text><g id=\"E1.E6.E8\"><rect fill=\"#FFFFFF\" height=\"50\" rx=\"12.5\" ry=\"12.5\" style=\"stroke: #383838; stroke-width: 1.5;\" width=\"50\" x=\"291\" y=\"172\"/><line style=\"stroke: #383838; stroke-width: 1.5;\" x1=\"291\" x2=\"341\" y1=\"198.2969\" y2=\"198.2969\"/><text fill=\"#000000\" font-family=\"sans-serif\" font-size=\"14\" lengthAdjust=\"spacingAndGlyphs\" textLength=\"26\" x=\"303\" y=\"189.9951\">a: A</text></g><!--MD5=[4ccb878970b92aec5a39da78993805f4]\n",
       "@startuml\r\n",
       "skinparam ranksep 8\r\n",
       "skinparam rectangle {\r\n",
       " backgroundColor<<block>> LightGreen\r\n",
       "}\r\n",
       "skinparam monochrome true\r\n",
       "skinparam classbackgroundcolor white\r\n",
       "skinparam shadowing false\r\n",
       "skinparam wrapWidth 300\r\n",
       "hide circle\r\n",
       "\r\n",
       "package \"PartTest\" as E1   {\r\n",
       "rec usage \"f: A\" as E2  {\r\n",
       "}\r\n",
       "rec def \"A\" as E3  <<part def>> {\r\n",
       "rec usage \"b: B\" as E4  {\r\n",
       "}\r\n",
       "portin \"c: C\" as E5  <<port>> \r\n",
       "}\r\n",
       "rec def \"B\" as E6  <<part def>> {\r\n",
       "package \"P\" as E7   {\r\n",
       "}\r\n",
       "rec usage \"a: A\" as E8  {\r\n",
       "}\r\n",
       "portin \"x: ~C\" as E9  <<port>> \r\n",
       "}\r\n",
       "def \"C\" as E10  <<port def>> \r\n",
       "}\r\n",
       "@enduml\r\n",
       "\n",
       "PlantUML version 1.2020.13(Sat Jun 13 12:26:38 UTC 2020)\n",
       "(EPL source distribution)\n",
       "Java Runtime: OpenJDK Runtime Environment\n",
       "JVM: OpenJDK 64-Bit Server VM\n",
       "Default Encoding: UTF-8\n",
       "Language: en\n",
       "Country: null\n",
       "--></g></svg>"
      ]
     },
     "execution_count": 40,
     "metadata": {},
     "output_type": "execute_result"
    }
   ],
   "source": [
    "%viz --style=\"DEFAULT\" --view=\"Interconnection\" \"PartTest\""
   ]
  },
  {
   "cell_type": "code",
   "execution_count": 41,
   "id": "fresh-melbourne",
   "metadata": {
    "execution": {
     "iopub.execute_input": "2021-03-25T16:06:36.739510Z",
     "iopub.status.busy": "2021-03-25T16:06:36.738941Z",
     "iopub.status.idle": "2021-03-25T16:06:36.740751Z",
     "shell.execute_reply": "2021-03-25T16:06:36.741236Z"
    }
   },
   "outputs": [
    {
     "data": {
      "text/plain": [
       "java.lang.IllegalArgumentException: Invalid View: Action View candidates are: Default Tree StateMachine Interconnection Activity Sequence MIXED \n",
       "\tat org.omg.sysml.plantuml.SysML2PlantUMLSvc.setView(SysML2PlantUMLSvc.java:63)\n",
       "\tat org.omg.sysml.interactive.SysMLInteractive.viz(SysMLInteractive.java:286)\n",
       "\tat org.omg.sysml.jupyter.kernel.magic.Viz.viz(Viz.java:47)\n",
       "\tat jdk.internal.reflect.GeneratedMethodAccessor9.invoke(Unknown Source)\n",
       "\tat java.base/jdk.internal.reflect.DelegatingMethodAccessorImpl.invoke(DelegatingMethodAccessorImpl.java:43)\n",
       "\tat java.base/java.lang.reflect.Method.invoke(Method.java:568)\n",
       "\tat io.github.spencerpark.jupyter.kernel.magic.registry.Magics.invoke(Magics.java:89)\n",
       "\tat io.github.spencerpark.jupyter.kernel.magic.registry.Magics.access$000(Magics.java:8)\n",
       "\tat io.github.spencerpark.jupyter.kernel.magic.registry.Magics$LineReflectionMagicFunction.execute(Magics.java:149)\n",
       "\tat io.github.spencerpark.jupyter.kernel.magic.registry.Magics.applyLineMagic(Magics.java:26)\n",
       "\tat org.omg.sysml.jupyter.kernel.SysMLKernel.eval(SysMLKernel.java:76)\n",
       "\tat io.github.spencerpark.jupyter.kernel.BaseKernel.handleExecuteRequest(BaseKernel.java:334)\n",
       "\tat io.github.spencerpark.jupyter.channels.ShellChannel.lambda$bind$0(ShellChannel.java:64)\n",
       "\tat io.github.spencerpark.jupyter.channels.Loop.lambda$new$0(Loop.java:21)\n",
       "\tat io.github.spencerpark.jupyter.channels.Loop.run(Loop.java:78)\n"
      ]
     },
     "execution_count": 41,
     "metadata": {},
     "output_type": "execute_result"
    }
   ],
   "source": [
    "%viz --style=\"DEFAULT\" --view=\"Action\" \"PartTest\""
   ]
  },
  {
   "cell_type": "code",
   "execution_count": 42,
   "id": "micro-qualification",
   "metadata": {
    "execution": {
     "iopub.execute_input": "2021-03-25T16:06:36.794094Z",
     "iopub.status.busy": "2021-03-25T16:06:36.793157Z",
     "iopub.status.idle": "2021-03-25T16:06:37.138075Z",
     "shell.execute_reply": "2021-03-25T16:06:37.135778Z"
    }
   },
   "outputs": [
    {
     "data": {
      "image/svg+xml": [
       "<?xml version=\"1.0\" encoding=\"UTF-8\" standalone=\"no\"?><svg xmlns=\"http://www.w3.org/2000/svg\" xmlns:xlink=\"http://www.w3.org/1999/xlink\" contentScriptType=\"application/ecmascript\" contentStyleType=\"text/css\" height=\"672px\" preserveAspectRatio=\"none\" style=\"width:217px;height:672px;\" version=\"1.1\" viewBox=\"0 0 217 672\" width=\"217px\" zoomAndPan=\"magnify\"><defs/><g><!--MD5=[fbc87193dbaf4d95561dea2c320d4a47]\n",
       "cluster E1--><polygon fill=\"#FFFFFF\" points=\"16,6,89,6,96,28.2969,195,28.2969,195,660,16,660,16,6\" style=\"stroke: #000000; stroke-width: 1.5;\"/><line style=\"stroke: #000000; stroke-width: 1.5;\" x1=\"16\" x2=\"96\" y1=\"28.2969\" y2=\"28.2969\"/><text fill=\"#000000\" font-family=\"sans-serif\" font-size=\"14\" font-weight=\"bold\" lengthAdjust=\"spacingAndGlyphs\" textLength=\"67\" x=\"20\" y=\"20.9951\">PartTest</text><!--MD5=[b4997ac47864f28c2f74865a473b2911]\n",
       "class E2--><rect fill=\"#FFFFFF\" height=\"45.9375\" id=\"E2\" rx=\"10\" ry=\"10\" style=\"stroke: #383838; stroke-width: 1.5;\" width=\"42\" x=\"137\" y=\"56\"/><text fill=\"#000000\" font-family=\"sans-serif\" font-size=\"12\" font-style=\"italic\" lengthAdjust=\"spacingAndGlyphs\" textLength=\"40\" x=\"138\" y=\"72.1387\">«part»</text><text fill=\"#000000\" font-family=\"sans-serif\" font-size=\"12\" lengthAdjust=\"spacingAndGlyphs\" textLength=\"20\" x=\"148\" y=\"86.1074\">f: A</text><line style=\"stroke: #383838; stroke-width: 1.5;\" x1=\"138\" x2=\"178\" y1=\"93.9375\" y2=\"93.9375\"/><!--MD5=[09b614a08d8cba4a07c9adeb5e0fee81]\n",
       "class E3--><rect fill=\"#FFFFFF\" height=\"75.5469\" id=\"E3\" style=\"stroke: #383838; stroke-width: 1.5;\" width=\"66\" x=\"108\" y=\"194\"/><text fill=\"#000000\" font-family=\"sans-serif\" font-size=\"12\" font-style=\"italic\" lengthAdjust=\"spacingAndGlyphs\" textLength=\"64\" x=\"109\" y=\"210.1387\">«part def»</text><text fill=\"#000000\" font-family=\"sans-serif\" font-size=\"12\" lengthAdjust=\"spacingAndGlyphs\" textLength=\"8\" x=\"137\" y=\"224.1074\">A</text><line style=\"stroke: #383838; stroke-width: 1.5;\" x1=\"109\" x2=\"173\" y1=\"231.9375\" y2=\"231.9375\"/><text fill=\"#000000\" font-family=\"sans-serif\" font-size=\"11\" lengthAdjust=\"spacingAndGlyphs\" textLength=\"22\" x=\"114\" y=\"262.9526\">c: C</text><line style=\"stroke: #383838; stroke-width: 1.0;\" x1=\"109\" x2=\"126\" y1=\"246.3398\" y2=\"246.3398\"/><text fill=\"#000000\" font-family=\"sans-serif\" font-size=\"11\" lengthAdjust=\"spacingAndGlyphs\" textLength=\"30\" x=\"126\" y=\"249.6479\">ports</text><line style=\"stroke: #383838; stroke-width: 1.0;\" x1=\"156\" x2=\"173\" y1=\"246.3398\" y2=\"246.3398\"/><!--MD5=[ebbe1d658d1005bcc118a6aa81145e00]\n",
       "class E4--><rect fill=\"#FFFFFF\" height=\"45.9375\" id=\"E4\" rx=\"10\" ry=\"10\" style=\"stroke: #383838; stroke-width: 1.5;\" width=\"42\" x=\"100\" y=\"347\"/><text fill=\"#000000\" font-family=\"sans-serif\" font-size=\"12\" font-style=\"italic\" lengthAdjust=\"spacingAndGlyphs\" textLength=\"40\" x=\"101\" y=\"363.1387\">«part»</text><text fill=\"#000000\" font-family=\"sans-serif\" font-size=\"12\" lengthAdjust=\"spacingAndGlyphs\" textLength=\"24\" x=\"109\" y=\"377.1074\">b: B</text><line style=\"stroke: #383838; stroke-width: 1.5;\" x1=\"101\" x2=\"141\" y1=\"384.9375\" y2=\"384.9375\"/><!--MD5=[60a26617385b1d2d0262a64233df1f8d]\n",
       "class E6--><rect fill=\"#FFFFFF\" height=\"75.5469\" id=\"E6\" style=\"stroke: #383838; stroke-width: 1.5;\" width=\"66\" x=\"68\" y=\"454\"/><text fill=\"#000000\" font-family=\"sans-serif\" font-size=\"12\" font-style=\"italic\" lengthAdjust=\"spacingAndGlyphs\" textLength=\"64\" x=\"69\" y=\"470.1387\">«part def»</text><text fill=\"#000000\" font-family=\"sans-serif\" font-size=\"12\" lengthAdjust=\"spacingAndGlyphs\" textLength=\"8\" x=\"97\" y=\"484.1074\">B</text><line style=\"stroke: #383838; stroke-width: 1.5;\" x1=\"69\" x2=\"133\" y1=\"491.9375\" y2=\"491.9375\"/><text fill=\"#000000\" font-family=\"sans-serif\" font-size=\"11\" lengthAdjust=\"spacingAndGlyphs\" textLength=\"31\" x=\"74\" y=\"522.9526\">x: ~C</text><line style=\"stroke: #383838; stroke-width: 1.0;\" x1=\"69\" x2=\"86\" y1=\"506.3398\" y2=\"506.3398\"/><text fill=\"#000000\" font-family=\"sans-serif\" font-size=\"11\" lengthAdjust=\"spacingAndGlyphs\" textLength=\"30\" x=\"86\" y=\"509.6479\">ports</text><line style=\"stroke: #383838; stroke-width: 1.0;\" x1=\"116\" x2=\"133\" y1=\"506.3398\" y2=\"506.3398\"/><!--MD5=[b9389687b975829384b498ac4b7476b2]\n",
       "class E8--><rect fill=\"#FFFFFF\" height=\"45.9375\" id=\"E8\" rx=\"10\" ry=\"10\" style=\"stroke: #383838; stroke-width: 1.5;\" width=\"42\" x=\"137\" y=\"594.5\"/><text fill=\"#000000\" font-family=\"sans-serif\" font-size=\"12\" font-style=\"italic\" lengthAdjust=\"spacingAndGlyphs\" textLength=\"40\" x=\"138\" y=\"610.6387\">«part»</text><text fill=\"#000000\" font-family=\"sans-serif\" font-size=\"12\" lengthAdjust=\"spacingAndGlyphs\" textLength=\"24\" x=\"146\" y=\"624.6074\">a: A</text><line style=\"stroke: #383838; stroke-width: 1.5;\" x1=\"138\" x2=\"178\" y1=\"632.4375\" y2=\"632.4375\"/><!--MD5=[96f4274e9e20536e775497830990834d]\n",
       "class E10--><rect fill=\"#FFFFFF\" height=\"75.5469\" id=\"E10\" style=\"stroke: #383838; stroke-width: 1.5;\" width=\"70\" x=\"32\" y=\"41\"/><text fill=\"#000000\" font-family=\"sans-serif\" font-size=\"12\" font-style=\"italic\" lengthAdjust=\"spacingAndGlyphs\" textLength=\"64\" x=\"35\" y=\"57.1387\">«port def»</text><text fill=\"#000000\" font-family=\"sans-serif\" font-size=\"12\" lengthAdjust=\"spacingAndGlyphs\" textLength=\"8\" x=\"63\" y=\"71.1074\">C</text><line style=\"stroke: #383838; stroke-width: 1.5;\" x1=\"33\" x2=\"101\" y1=\"78.9375\" y2=\"78.9375\"/><text fill=\"#000000\" font-family=\"sans-serif\" font-size=\"11\" lengthAdjust=\"spacingAndGlyphs\" textLength=\"21\" x=\"38\" y=\"109.9526\">y: A</text><text fill=\"#000000\" font-family=\"sans-serif\" font-size=\"11\" font-weight=\"bold\" lengthAdjust=\"spacingAndGlyphs\" textLength=\"15\" x=\"63\" y=\"109.9526\">as</text><text fill=\"#000000\" font-family=\"sans-serif\" font-size=\"11\" lengthAdjust=\"spacingAndGlyphs\" textLength=\"12\" x=\"82\" y=\"109.9526\">z2</text><line style=\"stroke: #383838; stroke-width: 1.0;\" x1=\"33\" x2=\"36\" y1=\"93.3398\" y2=\"93.3398\"/><text fill=\"#000000\" font-family=\"sans-serif\" font-size=\"11\" lengthAdjust=\"spacingAndGlyphs\" textLength=\"62\" x=\"36\" y=\"96.6479\">references</text><line style=\"stroke: #383838; stroke-width: 1.0;\" x1=\"98\" x2=\"101\" y1=\"93.3398\" y2=\"93.3398\"/><polygon fill=\"#FFFFFF\" points=\"72,591,88,591,95,613.2969,102,613.2969,102,643.5938,72,643.5938,72,591\" style=\"stroke: #000000; stroke-width: 1.5;\"/><line style=\"stroke: #000000; stroke-width: 1.5;\" x1=\"72\" x2=\"95\" y1=\"613.2969\" y2=\"613.2969\"/><text fill=\"#000000\" font-family=\"sans-serif\" font-size=\"14\" font-weight=\"bold\" lengthAdjust=\"spacingAndGlyphs\" textLength=\"10\" x=\"76\" y=\"605.9951\">P</text><!--MD5=[2720a5a1f2c3fca2055b230370638851]\n",
       "link E2 to E3--><path d=\"M155.49,102.28 C153.37,121.12 150.24,148.97 147.42,173.94 \" fill=\"none\" id=\"E2-&gt;E3\" style=\"stroke: #383838; stroke-width: 1.0;\"/><polygon fill=\"#FFFFFF\" points=\"145.17,193.98,140.3312,174.3182,154.244,175.8785,145.17,193.98\" style=\"stroke: #383838; stroke-width: 1.0;\"/><ellipse cx=\"142.954\" cy=\"168.8766\" fill=\"#383838\" rx=\"2\" ry=\"2\" style=\"stroke: #383838; stroke-width: 1.0;\"/><ellipse cx=\"152.8917\" cy=\"169.9911\" fill=\"#383838\" rx=\"2\" ry=\"2\" style=\"stroke: #383838; stroke-width: 1.0;\"/><!--MD5=[4672eba38e49728da53d11aeb285b987]\n",
       "reverse link E3 to E4--><path d=\"M133.6,283.33 C130.39,305.16 126.79,329.6 124.27,346.77 \" fill=\"none\" id=\"E3&lt;-E4\" style=\"stroke: #383838; stroke-width: 1.0;\"/><polygon fill=\"#383838\" points=\"135.53,270.16,130.6958,275.5108,133.7757,282.0311,138.6099,276.6803,135.53,270.16\" style=\"stroke: #383838; stroke-width: 1.0;\"/><!--MD5=[79568f1e445c3877b6a54524624ccc7d]\n",
       "link E4 to E6--><path d=\"M117.33,393.01 C115.42,404.51 112.97,419.17 110.56,433.62 \" fill=\"none\" id=\"E4-&gt;E6\" style=\"stroke: #383838; stroke-width: 1.0;\"/><polygon fill=\"#FFFFFF\" points=\"107.24,453.57,103.4565,433.6782,117.2663,435.9781,107.24,453.57\" style=\"stroke: #383838; stroke-width: 1.0;\"/><ellipse cx=\"106.3657\" cy=\"428.3842\" fill=\"#383838\" rx=\"2\" ry=\"2\" style=\"stroke: #383838; stroke-width: 1.0;\"/><ellipse cx=\"116.2299\" cy=\"430.027\" fill=\"#383838\" rx=\"2\" ry=\"2\" style=\"stroke: #383838; stroke-width: 1.0;\"/><!--MD5=[3f50a3473f1dfb74d3f76443e03635af]\n",
       "reverse link E6 to E7--><path d=\"M95.07,545.35 C93.28,561.08 91.4,577.65 89.91,590.83 \" fill=\"none\" id=\"E6&lt;-E7\" style=\"stroke: #383838; stroke-width: 1.0;\"/><ellipse cx=\"95.9015\" cy=\"537.9994\" fill=\"#FFFFFF\" rx=\"8\" ry=\"8\" style=\"stroke: #383838; stroke-width: 1.0;\"/><line style=\"stroke: #383838; stroke-width: 1.0;\" x1=\"95.003\" x2=\"96.8\" y1=\"545.9488\" y2=\"530.05\"/><line style=\"stroke: #383838; stroke-width: 1.0;\" x1=\"87.9521\" x2=\"103.8509\" y1=\"537.1009\" y2=\"538.8979\"/><!--MD5=[95fa686b5a16158bcdbcaeead89f639b]\n",
       "link E8 to E3--><path d=\"M159.5,594.44 C162.35,548.38 167.58,438.63 160,347 C158.45,328.29 155.5,308.02 152.37,289.84 \" fill=\"none\" id=\"E8-&gt;E3\" style=\"stroke: #383838; stroke-width: 1.0;\"/><polygon fill=\"#FFFFFF\" points=\"148.76,270.03,159.0537,287.4667,145.2807,289.9773,148.76,270.03\" style=\"stroke: #383838; stroke-width: 1.0;\"/><ellipse cx=\"158.1083\" cy=\"293.433\" fill=\"#383838\" rx=\"2\" ry=\"2\" style=\"stroke: #383838; stroke-width: 1.0;\"/><ellipse cx=\"148.2704\" cy=\"295.2262\" fill=\"#383838\" rx=\"2\" ry=\"2\" style=\"stroke: #383838; stroke-width: 1.0;\"/><!--MD5=[f4cf0736d43fd73c4ef68817c49d37d5]\n",
       "reverse link E6 to E8--><path d=\"M123.59,541.94 C131.93,560.02 140.98,579.62 147.7,594.19 \" fill=\"none\" id=\"E6&lt;-E8\" style=\"stroke: #383838; stroke-width: 1.0;\"/><polygon fill=\"#383838\" points=\"118.1,530.05,116.9809,537.1737,123.1262,540.9467,124.2453,533.8229,118.1,530.05\" style=\"stroke: #383838; stroke-width: 1.0;\"/><!--MD5=[8e04057e7b3cbc0dca4fc78ea351e2da]\n",
       "reverse link E10 to E3--><path d=\"M91.15,129.28 C101.44,150.28 113.25,174.38 122.79,193.84 \" fill=\"none\" id=\"E10&lt;-E3\" style=\"stroke: #383838; stroke-width: 1.0;\"/><polygon fill=\"#FFFFFF\" points=\"85.29,117.33,84.3358,124.4777,90.5667,128.1076,91.5209,120.9599,85.29,117.33\" style=\"stroke: #383838; stroke-width: 1.0;\"/><text fill=\"#000000\" font-family=\"sans-serif\" font-size=\"13\" lengthAdjust=\"spacingAndGlyphs\" textLength=\"7\" x=\"107\" y=\"160.0669\">y</text><!--MD5=[604cbf994c02b74b117f728a71673cea]\n",
       "reverse link E10 to E6--><path d=\"M67.56,130.48 C68.7,192.49 72.22,300.8 83,393 C85.37,413.27 89.38,435.68 93.01,453.94 \" fill=\"none\" id=\"E10&lt;-E6\" style=\"stroke: #383838; stroke-width: 1.0;\"/><polygon fill=\"#FFFFFF\" points=\"67.33,117.23,63.4361,123.2994,67.541,129.2281,71.4349,123.1588,67.33,117.23\" style=\"stroke: #383838; stroke-width: 1.0;\"/><text fill=\"#000000\" font-family=\"sans-serif\" font-size=\"13\" lengthAdjust=\"spacingAndGlyphs\" textLength=\"7\" x=\"76\" y=\"313.0669\">y</text><!--MD5=[2a21c75ad4bee10d24a9f05c71af9b02]\n",
       "@startuml\r\n",
       "skinparam monochrome true\r\n",
       "skinparam classbackgroundcolor white\r\n",
       "skinparam shadowing false\r\n",
       "skinparam wrapWidth 300\r\n",
       "hide circle\r\n",
       "\r\n",
       "package \"PartTest\" as E1   {\r\n",
       "comp usage \"f: A\" as E2  <<(T,blue)part>> {\r\n",
       "}\r\n",
       "comp def \"A\" as E3  <<(T,blue)part def>> {\r\n",
       "- -ports- -\r\n",
       "c: C\r\n",
       "}\r\n",
       "comp usage \"b: B\" as E4  <<(T,blue)part>> {\r\n",
       "}\r\n",
       "comp def \"B\" as E6  <<(T,blue)part def>> {\r\n",
       "- -ports- -\r\n",
       "x: ~C\r\n",
       "}\r\n",
       "package \"P\" as E7   {\r\n",
       "}\r\n",
       "comp usage \"a: A\" as E8  <<(T,blue)part>> {\r\n",
       "}\r\n",
       "comp def \"C\" as E10  <<(T,blue)port def>> {\r\n",
       "- -references- -\r\n",
       "y: A <b>as</b> z2 \r\n",
       "}\r\n",
       "E2 - -:|> E3\r\n",
       "E3 *- - E4\r\n",
       "E4 - -:|> E6\r\n",
       "E6 +- - E7\r\n",
       "E8 - -:|> E3\r\n",
       "E6 *- - E8\r\n",
       "E10 o- - E3 : y\r\n",
       "E10 o- - E6 : y\r\n",
       "}\r\n",
       "@enduml\r\n",
       "\n",
       "PlantUML version 1.2020.13(Sat Jun 13 12:26:38 UTC 2020)\n",
       "(EPL source distribution)\n",
       "Java Runtime: OpenJDK Runtime Environment\n",
       "JVM: OpenJDK 64-Bit Server VM\n",
       "Default Encoding: UTF-8\n",
       "Language: en\n",
       "Country: null\n",
       "--></g></svg>"
      ]
     },
     "execution_count": 42,
     "metadata": {},
     "output_type": "execute_result"
    }
   ],
   "source": [
    "%viz --style=\"DEFAULT\" --view=\"Sequence\" \"PartTest\""
   ]
  },
  {
   "cell_type": "code",
   "execution_count": 43,
   "id": "electoral-group",
   "metadata": {
    "execution": {
     "iopub.execute_input": "2021-03-25T16:06:37.187569Z",
     "iopub.status.busy": "2021-03-25T16:06:37.186519Z",
     "iopub.status.idle": "2021-03-25T16:06:37.529140Z",
     "shell.execute_reply": "2021-03-25T16:06:37.527702Z"
    }
   },
   "outputs": [
    {
     "data": {
      "image/svg+xml": [
       "<?xml version=\"1.0\" encoding=\"UTF-8\" standalone=\"no\"?><svg xmlns=\"http://www.w3.org/2000/svg\" xmlns:xlink=\"http://www.w3.org/1999/xlink\" contentScriptType=\"application/ecmascript\" contentStyleType=\"text/css\" height=\"672px\" preserveAspectRatio=\"none\" style=\"width:217px;height:672px;\" version=\"1.1\" viewBox=\"0 0 217 672\" width=\"217px\" zoomAndPan=\"magnify\"><defs/><g><!--MD5=[fbc87193dbaf4d95561dea2c320d4a47]\n",
       "cluster E1--><polygon fill=\"#FFFFFF\" points=\"16,6,89,6,96,28.2969,195,28.2969,195,660,16,660,16,6\" style=\"stroke: #000000; stroke-width: 1.5;\"/><line style=\"stroke: #000000; stroke-width: 1.5;\" x1=\"16\" x2=\"96\" y1=\"28.2969\" y2=\"28.2969\"/><text fill=\"#000000\" font-family=\"sans-serif\" font-size=\"14\" font-weight=\"bold\" lengthAdjust=\"spacingAndGlyphs\" textLength=\"67\" x=\"20\" y=\"20.9951\">PartTest</text><!--MD5=[b4997ac47864f28c2f74865a473b2911]\n",
       "class E2--><rect fill=\"#FFFFFF\" height=\"45.9375\" id=\"E2\" rx=\"10\" ry=\"10\" style=\"stroke: #383838; stroke-width: 1.5;\" width=\"42\" x=\"137\" y=\"56\"/><text fill=\"#000000\" font-family=\"sans-serif\" font-size=\"12\" font-style=\"italic\" lengthAdjust=\"spacingAndGlyphs\" textLength=\"40\" x=\"138\" y=\"72.1387\">«part»</text><text fill=\"#000000\" font-family=\"sans-serif\" font-size=\"12\" lengthAdjust=\"spacingAndGlyphs\" textLength=\"20\" x=\"148\" y=\"86.1074\">f: A</text><line style=\"stroke: #383838; stroke-width: 1.5;\" x1=\"138\" x2=\"178\" y1=\"93.9375\" y2=\"93.9375\"/><!--MD5=[09b614a08d8cba4a07c9adeb5e0fee81]\n",
       "class E3--><rect fill=\"#FFFFFF\" height=\"75.5469\" id=\"E3\" style=\"stroke: #383838; stroke-width: 1.5;\" width=\"66\" x=\"108\" y=\"194\"/><text fill=\"#000000\" font-family=\"sans-serif\" font-size=\"12\" font-style=\"italic\" lengthAdjust=\"spacingAndGlyphs\" textLength=\"64\" x=\"109\" y=\"210.1387\">«part def»</text><text fill=\"#000000\" font-family=\"sans-serif\" font-size=\"12\" lengthAdjust=\"spacingAndGlyphs\" textLength=\"8\" x=\"137\" y=\"224.1074\">A</text><line style=\"stroke: #383838; stroke-width: 1.5;\" x1=\"109\" x2=\"173\" y1=\"231.9375\" y2=\"231.9375\"/><text fill=\"#000000\" font-family=\"sans-serif\" font-size=\"11\" lengthAdjust=\"spacingAndGlyphs\" textLength=\"22\" x=\"114\" y=\"262.9526\">c: C</text><line style=\"stroke: #383838; stroke-width: 1.0;\" x1=\"109\" x2=\"126\" y1=\"246.3398\" y2=\"246.3398\"/><text fill=\"#000000\" font-family=\"sans-serif\" font-size=\"11\" lengthAdjust=\"spacingAndGlyphs\" textLength=\"30\" x=\"126\" y=\"249.6479\">ports</text><line style=\"stroke: #383838; stroke-width: 1.0;\" x1=\"156\" x2=\"173\" y1=\"246.3398\" y2=\"246.3398\"/><!--MD5=[ebbe1d658d1005bcc118a6aa81145e00]\n",
       "class E4--><rect fill=\"#FFFFFF\" height=\"45.9375\" id=\"E4\" rx=\"10\" ry=\"10\" style=\"stroke: #383838; stroke-width: 1.5;\" width=\"42\" x=\"100\" y=\"347\"/><text fill=\"#000000\" font-family=\"sans-serif\" font-size=\"12\" font-style=\"italic\" lengthAdjust=\"spacingAndGlyphs\" textLength=\"40\" x=\"101\" y=\"363.1387\">«part»</text><text fill=\"#000000\" font-family=\"sans-serif\" font-size=\"12\" lengthAdjust=\"spacingAndGlyphs\" textLength=\"24\" x=\"109\" y=\"377.1074\">b: B</text><line style=\"stroke: #383838; stroke-width: 1.5;\" x1=\"101\" x2=\"141\" y1=\"384.9375\" y2=\"384.9375\"/><!--MD5=[60a26617385b1d2d0262a64233df1f8d]\n",
       "class E6--><rect fill=\"#FFFFFF\" height=\"75.5469\" id=\"E6\" style=\"stroke: #383838; stroke-width: 1.5;\" width=\"66\" x=\"68\" y=\"454\"/><text fill=\"#000000\" font-family=\"sans-serif\" font-size=\"12\" font-style=\"italic\" lengthAdjust=\"spacingAndGlyphs\" textLength=\"64\" x=\"69\" y=\"470.1387\">«part def»</text><text fill=\"#000000\" font-family=\"sans-serif\" font-size=\"12\" lengthAdjust=\"spacingAndGlyphs\" textLength=\"8\" x=\"97\" y=\"484.1074\">B</text><line style=\"stroke: #383838; stroke-width: 1.5;\" x1=\"69\" x2=\"133\" y1=\"491.9375\" y2=\"491.9375\"/><text fill=\"#000000\" font-family=\"sans-serif\" font-size=\"11\" lengthAdjust=\"spacingAndGlyphs\" textLength=\"31\" x=\"74\" y=\"522.9526\">x: ~C</text><line style=\"stroke: #383838; stroke-width: 1.0;\" x1=\"69\" x2=\"86\" y1=\"506.3398\" y2=\"506.3398\"/><text fill=\"#000000\" font-family=\"sans-serif\" font-size=\"11\" lengthAdjust=\"spacingAndGlyphs\" textLength=\"30\" x=\"86\" y=\"509.6479\">ports</text><line style=\"stroke: #383838; stroke-width: 1.0;\" x1=\"116\" x2=\"133\" y1=\"506.3398\" y2=\"506.3398\"/><!--MD5=[b9389687b975829384b498ac4b7476b2]\n",
       "class E8--><rect fill=\"#FFFFFF\" height=\"45.9375\" id=\"E8\" rx=\"10\" ry=\"10\" style=\"stroke: #383838; stroke-width: 1.5;\" width=\"42\" x=\"137\" y=\"594.5\"/><text fill=\"#000000\" font-family=\"sans-serif\" font-size=\"12\" font-style=\"italic\" lengthAdjust=\"spacingAndGlyphs\" textLength=\"40\" x=\"138\" y=\"610.6387\">«part»</text><text fill=\"#000000\" font-family=\"sans-serif\" font-size=\"12\" lengthAdjust=\"spacingAndGlyphs\" textLength=\"24\" x=\"146\" y=\"624.6074\">a: A</text><line style=\"stroke: #383838; stroke-width: 1.5;\" x1=\"138\" x2=\"178\" y1=\"632.4375\" y2=\"632.4375\"/><!--MD5=[96f4274e9e20536e775497830990834d]\n",
       "class E10--><rect fill=\"#FFFFFF\" height=\"75.5469\" id=\"E10\" style=\"stroke: #383838; stroke-width: 1.5;\" width=\"70\" x=\"32\" y=\"41\"/><text fill=\"#000000\" font-family=\"sans-serif\" font-size=\"12\" font-style=\"italic\" lengthAdjust=\"spacingAndGlyphs\" textLength=\"64\" x=\"35\" y=\"57.1387\">«port def»</text><text fill=\"#000000\" font-family=\"sans-serif\" font-size=\"12\" lengthAdjust=\"spacingAndGlyphs\" textLength=\"8\" x=\"63\" y=\"71.1074\">C</text><line style=\"stroke: #383838; stroke-width: 1.5;\" x1=\"33\" x2=\"101\" y1=\"78.9375\" y2=\"78.9375\"/><text fill=\"#000000\" font-family=\"sans-serif\" font-size=\"11\" lengthAdjust=\"spacingAndGlyphs\" textLength=\"21\" x=\"38\" y=\"109.9526\">y: A</text><text fill=\"#000000\" font-family=\"sans-serif\" font-size=\"11\" font-weight=\"bold\" lengthAdjust=\"spacingAndGlyphs\" textLength=\"15\" x=\"63\" y=\"109.9526\">as</text><text fill=\"#000000\" font-family=\"sans-serif\" font-size=\"11\" lengthAdjust=\"spacingAndGlyphs\" textLength=\"12\" x=\"82\" y=\"109.9526\">z2</text><line style=\"stroke: #383838; stroke-width: 1.0;\" x1=\"33\" x2=\"36\" y1=\"93.3398\" y2=\"93.3398\"/><text fill=\"#000000\" font-family=\"sans-serif\" font-size=\"11\" lengthAdjust=\"spacingAndGlyphs\" textLength=\"62\" x=\"36\" y=\"96.6479\">references</text><line style=\"stroke: #383838; stroke-width: 1.0;\" x1=\"98\" x2=\"101\" y1=\"93.3398\" y2=\"93.3398\"/><polygon fill=\"#FFFFFF\" points=\"72,591,88,591,95,613.2969,102,613.2969,102,643.5938,72,643.5938,72,591\" style=\"stroke: #000000; stroke-width: 1.5;\"/><line style=\"stroke: #000000; stroke-width: 1.5;\" x1=\"72\" x2=\"95\" y1=\"613.2969\" y2=\"613.2969\"/><text fill=\"#000000\" font-family=\"sans-serif\" font-size=\"14\" font-weight=\"bold\" lengthAdjust=\"spacingAndGlyphs\" textLength=\"10\" x=\"76\" y=\"605.9951\">P</text><!--MD5=[2720a5a1f2c3fca2055b230370638851]\n",
       "link E2 to E3--><path d=\"M155.49,102.28 C153.37,121.12 150.24,148.97 147.42,173.94 \" fill=\"none\" id=\"E2-&gt;E3\" style=\"stroke: #383838; stroke-width: 1.0;\"/><polygon fill=\"#FFFFFF\" points=\"145.17,193.98,140.3312,174.3182,154.244,175.8785,145.17,193.98\" style=\"stroke: #383838; stroke-width: 1.0;\"/><ellipse cx=\"142.954\" cy=\"168.8766\" fill=\"#383838\" rx=\"2\" ry=\"2\" style=\"stroke: #383838; stroke-width: 1.0;\"/><ellipse cx=\"152.8917\" cy=\"169.9911\" fill=\"#383838\" rx=\"2\" ry=\"2\" style=\"stroke: #383838; stroke-width: 1.0;\"/><!--MD5=[4672eba38e49728da53d11aeb285b987]\n",
       "reverse link E3 to E4--><path d=\"M133.6,283.33 C130.39,305.16 126.79,329.6 124.27,346.77 \" fill=\"none\" id=\"E3&lt;-E4\" style=\"stroke: #383838; stroke-width: 1.0;\"/><polygon fill=\"#383838\" points=\"135.53,270.16,130.6958,275.5108,133.7757,282.0311,138.6099,276.6803,135.53,270.16\" style=\"stroke: #383838; stroke-width: 1.0;\"/><!--MD5=[79568f1e445c3877b6a54524624ccc7d]\n",
       "link E4 to E6--><path d=\"M117.33,393.01 C115.42,404.51 112.97,419.17 110.56,433.62 \" fill=\"none\" id=\"E4-&gt;E6\" style=\"stroke: #383838; stroke-width: 1.0;\"/><polygon fill=\"#FFFFFF\" points=\"107.24,453.57,103.4565,433.6782,117.2663,435.9781,107.24,453.57\" style=\"stroke: #383838; stroke-width: 1.0;\"/><ellipse cx=\"106.3657\" cy=\"428.3842\" fill=\"#383838\" rx=\"2\" ry=\"2\" style=\"stroke: #383838; stroke-width: 1.0;\"/><ellipse cx=\"116.2299\" cy=\"430.027\" fill=\"#383838\" rx=\"2\" ry=\"2\" style=\"stroke: #383838; stroke-width: 1.0;\"/><!--MD5=[3f50a3473f1dfb74d3f76443e03635af]\n",
       "reverse link E6 to E7--><path d=\"M95.07,545.35 C93.28,561.08 91.4,577.65 89.91,590.83 \" fill=\"none\" id=\"E6&lt;-E7\" style=\"stroke: #383838; stroke-width: 1.0;\"/><ellipse cx=\"95.9015\" cy=\"537.9994\" fill=\"#FFFFFF\" rx=\"8\" ry=\"8\" style=\"stroke: #383838; stroke-width: 1.0;\"/><line style=\"stroke: #383838; stroke-width: 1.0;\" x1=\"95.003\" x2=\"96.8\" y1=\"545.9488\" y2=\"530.05\"/><line style=\"stroke: #383838; stroke-width: 1.0;\" x1=\"87.9521\" x2=\"103.8509\" y1=\"537.1009\" y2=\"538.8979\"/><!--MD5=[95fa686b5a16158bcdbcaeead89f639b]\n",
       "link E8 to E3--><path d=\"M159.5,594.44 C162.35,548.38 167.58,438.63 160,347 C158.45,328.29 155.5,308.02 152.37,289.84 \" fill=\"none\" id=\"E8-&gt;E3\" style=\"stroke: #383838; stroke-width: 1.0;\"/><polygon fill=\"#FFFFFF\" points=\"148.76,270.03,159.0537,287.4667,145.2807,289.9773,148.76,270.03\" style=\"stroke: #383838; stroke-width: 1.0;\"/><ellipse cx=\"158.1083\" cy=\"293.433\" fill=\"#383838\" rx=\"2\" ry=\"2\" style=\"stroke: #383838; stroke-width: 1.0;\"/><ellipse cx=\"148.2704\" cy=\"295.2262\" fill=\"#383838\" rx=\"2\" ry=\"2\" style=\"stroke: #383838; stroke-width: 1.0;\"/><!--MD5=[f4cf0736d43fd73c4ef68817c49d37d5]\n",
       "reverse link E6 to E8--><path d=\"M123.59,541.94 C131.93,560.02 140.98,579.62 147.7,594.19 \" fill=\"none\" id=\"E6&lt;-E8\" style=\"stroke: #383838; stroke-width: 1.0;\"/><polygon fill=\"#383838\" points=\"118.1,530.05,116.9809,537.1737,123.1262,540.9467,124.2453,533.8229,118.1,530.05\" style=\"stroke: #383838; stroke-width: 1.0;\"/><!--MD5=[8e04057e7b3cbc0dca4fc78ea351e2da]\n",
       "reverse link E10 to E3--><path d=\"M91.15,129.28 C101.44,150.28 113.25,174.38 122.79,193.84 \" fill=\"none\" id=\"E10&lt;-E3\" style=\"stroke: #383838; stroke-width: 1.0;\"/><polygon fill=\"#FFFFFF\" points=\"85.29,117.33,84.3358,124.4777,90.5667,128.1076,91.5209,120.9599,85.29,117.33\" style=\"stroke: #383838; stroke-width: 1.0;\"/><text fill=\"#000000\" font-family=\"sans-serif\" font-size=\"13\" lengthAdjust=\"spacingAndGlyphs\" textLength=\"7\" x=\"107\" y=\"160.0669\">y</text><!--MD5=[604cbf994c02b74b117f728a71673cea]\n",
       "reverse link E10 to E6--><path d=\"M67.56,130.48 C68.7,192.49 72.22,300.8 83,393 C85.37,413.27 89.38,435.68 93.01,453.94 \" fill=\"none\" id=\"E10&lt;-E6\" style=\"stroke: #383838; stroke-width: 1.0;\"/><polygon fill=\"#FFFFFF\" points=\"67.33,117.23,63.4361,123.2994,67.541,129.2281,71.4349,123.1588,67.33,117.23\" style=\"stroke: #383838; stroke-width: 1.0;\"/><text fill=\"#000000\" font-family=\"sans-serif\" font-size=\"13\" lengthAdjust=\"spacingAndGlyphs\" textLength=\"7\" x=\"76\" y=\"313.0669\">y</text><!--MD5=[2a21c75ad4bee10d24a9f05c71af9b02]\n",
       "@startuml\r\n",
       "skinparam monochrome true\r\n",
       "skinparam classbackgroundcolor white\r\n",
       "skinparam shadowing false\r\n",
       "skinparam wrapWidth 300\r\n",
       "hide circle\r\n",
       "\r\n",
       "package \"PartTest\" as E1   {\r\n",
       "comp usage \"f: A\" as E2  <<(T,blue)part>> {\r\n",
       "}\r\n",
       "comp def \"A\" as E3  <<(T,blue)part def>> {\r\n",
       "- -ports- -\r\n",
       "c: C\r\n",
       "}\r\n",
       "comp usage \"b: B\" as E4  <<(T,blue)part>> {\r\n",
       "}\r\n",
       "comp def \"B\" as E6  <<(T,blue)part def>> {\r\n",
       "- -ports- -\r\n",
       "x: ~C\r\n",
       "}\r\n",
       "package \"P\" as E7   {\r\n",
       "}\r\n",
       "comp usage \"a: A\" as E8  <<(T,blue)part>> {\r\n",
       "}\r\n",
       "comp def \"C\" as E10  <<(T,blue)port def>> {\r\n",
       "- -references- -\r\n",
       "y: A <b>as</b> z2 \r\n",
       "}\r\n",
       "E2 - -:|> E3\r\n",
       "E3 *- - E4\r\n",
       "E4 - -:|> E6\r\n",
       "E6 +- - E7\r\n",
       "E8 - -:|> E3\r\n",
       "E6 *- - E8\r\n",
       "E10 o- - E3 : y\r\n",
       "E10 o- - E6 : y\r\n",
       "}\r\n",
       "@enduml\r\n",
       "\n",
       "PlantUML version 1.2020.13(Sat Jun 13 12:26:38 UTC 2020)\n",
       "(EPL source distribution)\n",
       "Java Runtime: OpenJDK Runtime Environment\n",
       "JVM: OpenJDK 64-Bit Server VM\n",
       "Default Encoding: UTF-8\n",
       "Language: en\n",
       "Country: null\n",
       "--></g></svg>"
      ]
     },
     "execution_count": 43,
     "metadata": {},
     "output_type": "execute_result"
    }
   ],
   "source": [
    "%viz --style=\"DEFAULT\" --view=\"MIXED\" \"PartTest\""
   ]
  },
  {
   "cell_type": "code",
   "execution_count": 44,
   "id": "touched-mediterranean",
   "metadata": {
    "execution": {
     "iopub.execute_input": "2021-03-25T16:06:37.581092Z",
     "iopub.status.busy": "2021-03-25T16:06:37.580317Z",
     "iopub.status.idle": "2021-03-25T16:06:37.936838Z",
     "shell.execute_reply": "2021-03-25T16:06:37.937223Z"
    }
   },
   "outputs": [
    {
     "data": {
      "image/svg+xml": [
       "<?xml version=\"1.0\" encoding=\"UTF-8\" standalone=\"no\"?><svg xmlns=\"http://www.w3.org/2000/svg\" xmlns:xlink=\"http://www.w3.org/1999/xlink\" contentScriptType=\"application/ecmascript\" contentStyleType=\"text/css\" height=\"672px\" preserveAspectRatio=\"none\" style=\"width:217px;height:672px;\" version=\"1.1\" viewBox=\"0 0 217 672\" width=\"217px\" zoomAndPan=\"magnify\"><defs/><g><!--MD5=[fbc87193dbaf4d95561dea2c320d4a47]\n",
       "cluster E1--><polygon fill=\"#FFFFFF\" points=\"16,6,89,6,96,28.2969,195,28.2969,195,660,16,660,16,6\" style=\"stroke: #000000; stroke-width: 1.5;\"/><line style=\"stroke: #000000; stroke-width: 1.5;\" x1=\"16\" x2=\"96\" y1=\"28.2969\" y2=\"28.2969\"/><text fill=\"#000000\" font-family=\"sans-serif\" font-size=\"14\" font-weight=\"bold\" lengthAdjust=\"spacingAndGlyphs\" textLength=\"67\" x=\"20\" y=\"20.9951\">PartTest</text><!--MD5=[b4997ac47864f28c2f74865a473b2911]\n",
       "class E2--><rect fill=\"#FFFFFF\" height=\"45.9375\" id=\"E2\" rx=\"10\" ry=\"10\" style=\"stroke: #383838; stroke-width: 1.5;\" width=\"42\" x=\"137\" y=\"56\"/><text fill=\"#000000\" font-family=\"sans-serif\" font-size=\"12\" font-style=\"italic\" lengthAdjust=\"spacingAndGlyphs\" textLength=\"40\" x=\"138\" y=\"72.1387\">«part»</text><text fill=\"#000000\" font-family=\"sans-serif\" font-size=\"12\" lengthAdjust=\"spacingAndGlyphs\" textLength=\"20\" x=\"148\" y=\"86.1074\">f: A</text><line style=\"stroke: #383838; stroke-width: 1.5;\" x1=\"138\" x2=\"178\" y1=\"93.9375\" y2=\"93.9375\"/><!--MD5=[09b614a08d8cba4a07c9adeb5e0fee81]\n",
       "class E3--><rect fill=\"#FFFFFF\" height=\"75.5469\" id=\"E3\" style=\"stroke: #383838; stroke-width: 1.5;\" width=\"66\" x=\"108\" y=\"194\"/><text fill=\"#000000\" font-family=\"sans-serif\" font-size=\"12\" font-style=\"italic\" lengthAdjust=\"spacingAndGlyphs\" textLength=\"64\" x=\"109\" y=\"210.1387\">«part def»</text><text fill=\"#000000\" font-family=\"sans-serif\" font-size=\"12\" lengthAdjust=\"spacingAndGlyphs\" textLength=\"8\" x=\"137\" y=\"224.1074\">A</text><line style=\"stroke: #383838; stroke-width: 1.5;\" x1=\"109\" x2=\"173\" y1=\"231.9375\" y2=\"231.9375\"/><text fill=\"#000000\" font-family=\"sans-serif\" font-size=\"11\" lengthAdjust=\"spacingAndGlyphs\" textLength=\"22\" x=\"114\" y=\"262.9526\">c: C</text><line style=\"stroke: #383838; stroke-width: 1.0;\" x1=\"109\" x2=\"126\" y1=\"246.3398\" y2=\"246.3398\"/><text fill=\"#000000\" font-family=\"sans-serif\" font-size=\"11\" lengthAdjust=\"spacingAndGlyphs\" textLength=\"30\" x=\"126\" y=\"249.6479\">ports</text><line style=\"stroke: #383838; stroke-width: 1.0;\" x1=\"156\" x2=\"173\" y1=\"246.3398\" y2=\"246.3398\"/><!--MD5=[ebbe1d658d1005bcc118a6aa81145e00]\n",
       "class E4--><rect fill=\"#FFFFFF\" height=\"45.9375\" id=\"E4\" rx=\"10\" ry=\"10\" style=\"stroke: #383838; stroke-width: 1.5;\" width=\"42\" x=\"100\" y=\"347\"/><text fill=\"#000000\" font-family=\"sans-serif\" font-size=\"12\" font-style=\"italic\" lengthAdjust=\"spacingAndGlyphs\" textLength=\"40\" x=\"101\" y=\"363.1387\">«part»</text><text fill=\"#000000\" font-family=\"sans-serif\" font-size=\"12\" lengthAdjust=\"spacingAndGlyphs\" textLength=\"24\" x=\"109\" y=\"377.1074\">b: B</text><line style=\"stroke: #383838; stroke-width: 1.5;\" x1=\"101\" x2=\"141\" y1=\"384.9375\" y2=\"384.9375\"/><!--MD5=[60a26617385b1d2d0262a64233df1f8d]\n",
       "class E6--><rect fill=\"#FFFFFF\" height=\"75.5469\" id=\"E6\" style=\"stroke: #383838; stroke-width: 1.5;\" width=\"66\" x=\"68\" y=\"454\"/><text fill=\"#000000\" font-family=\"sans-serif\" font-size=\"12\" font-style=\"italic\" lengthAdjust=\"spacingAndGlyphs\" textLength=\"64\" x=\"69\" y=\"470.1387\">«part def»</text><text fill=\"#000000\" font-family=\"sans-serif\" font-size=\"12\" lengthAdjust=\"spacingAndGlyphs\" textLength=\"8\" x=\"97\" y=\"484.1074\">B</text><line style=\"stroke: #383838; stroke-width: 1.5;\" x1=\"69\" x2=\"133\" y1=\"491.9375\" y2=\"491.9375\"/><text fill=\"#000000\" font-family=\"sans-serif\" font-size=\"11\" lengthAdjust=\"spacingAndGlyphs\" textLength=\"31\" x=\"74\" y=\"522.9526\">x: ~C</text><line style=\"stroke: #383838; stroke-width: 1.0;\" x1=\"69\" x2=\"86\" y1=\"506.3398\" y2=\"506.3398\"/><text fill=\"#000000\" font-family=\"sans-serif\" font-size=\"11\" lengthAdjust=\"spacingAndGlyphs\" textLength=\"30\" x=\"86\" y=\"509.6479\">ports</text><line style=\"stroke: #383838; stroke-width: 1.0;\" x1=\"116\" x2=\"133\" y1=\"506.3398\" y2=\"506.3398\"/><!--MD5=[b9389687b975829384b498ac4b7476b2]\n",
       "class E8--><rect fill=\"#FFFFFF\" height=\"45.9375\" id=\"E8\" rx=\"10\" ry=\"10\" style=\"stroke: #383838; stroke-width: 1.5;\" width=\"42\" x=\"137\" y=\"594.5\"/><text fill=\"#000000\" font-family=\"sans-serif\" font-size=\"12\" font-style=\"italic\" lengthAdjust=\"spacingAndGlyphs\" textLength=\"40\" x=\"138\" y=\"610.6387\">«part»</text><text fill=\"#000000\" font-family=\"sans-serif\" font-size=\"12\" lengthAdjust=\"spacingAndGlyphs\" textLength=\"24\" x=\"146\" y=\"624.6074\">a: A</text><line style=\"stroke: #383838; stroke-width: 1.5;\" x1=\"138\" x2=\"178\" y1=\"632.4375\" y2=\"632.4375\"/><!--MD5=[96f4274e9e20536e775497830990834d]\n",
       "class E10--><rect fill=\"#FFFFFF\" height=\"75.5469\" id=\"E10\" style=\"stroke: #383838; stroke-width: 1.5;\" width=\"70\" x=\"32\" y=\"41\"/><text fill=\"#000000\" font-family=\"sans-serif\" font-size=\"12\" font-style=\"italic\" lengthAdjust=\"spacingAndGlyphs\" textLength=\"64\" x=\"35\" y=\"57.1387\">«port def»</text><text fill=\"#000000\" font-family=\"sans-serif\" font-size=\"12\" lengthAdjust=\"spacingAndGlyphs\" textLength=\"8\" x=\"63\" y=\"71.1074\">C</text><line style=\"stroke: #383838; stroke-width: 1.5;\" x1=\"33\" x2=\"101\" y1=\"78.9375\" y2=\"78.9375\"/><text fill=\"#000000\" font-family=\"sans-serif\" font-size=\"11\" lengthAdjust=\"spacingAndGlyphs\" textLength=\"21\" x=\"38\" y=\"109.9526\">y: A</text><text fill=\"#000000\" font-family=\"sans-serif\" font-size=\"11\" font-weight=\"bold\" lengthAdjust=\"spacingAndGlyphs\" textLength=\"15\" x=\"63\" y=\"109.9526\">as</text><text fill=\"#000000\" font-family=\"sans-serif\" font-size=\"11\" lengthAdjust=\"spacingAndGlyphs\" textLength=\"12\" x=\"82\" y=\"109.9526\">z2</text><line style=\"stroke: #383838; stroke-width: 1.0;\" x1=\"33\" x2=\"36\" y1=\"93.3398\" y2=\"93.3398\"/><text fill=\"#000000\" font-family=\"sans-serif\" font-size=\"11\" lengthAdjust=\"spacingAndGlyphs\" textLength=\"62\" x=\"36\" y=\"96.6479\">references</text><line style=\"stroke: #383838; stroke-width: 1.0;\" x1=\"98\" x2=\"101\" y1=\"93.3398\" y2=\"93.3398\"/><polygon fill=\"#FFFFFF\" points=\"72,591,88,591,95,613.2969,102,613.2969,102,643.5938,72,643.5938,72,591\" style=\"stroke: #000000; stroke-width: 1.5;\"/><line style=\"stroke: #000000; stroke-width: 1.5;\" x1=\"72\" x2=\"95\" y1=\"613.2969\" y2=\"613.2969\"/><text fill=\"#000000\" font-family=\"sans-serif\" font-size=\"14\" font-weight=\"bold\" lengthAdjust=\"spacingAndGlyphs\" textLength=\"10\" x=\"76\" y=\"605.9951\">P</text><!--MD5=[2720a5a1f2c3fca2055b230370638851]\n",
       "link E2 to E3--><path d=\"M155.49,102.28 C153.37,121.12 150.24,148.97 147.42,173.94 \" fill=\"none\" id=\"E2-&gt;E3\" style=\"stroke: #383838; stroke-width: 1.0;\"/><polygon fill=\"#FFFFFF\" points=\"145.17,193.98,140.3312,174.3182,154.244,175.8785,145.17,193.98\" style=\"stroke: #383838; stroke-width: 1.0;\"/><ellipse cx=\"142.954\" cy=\"168.8766\" fill=\"#383838\" rx=\"2\" ry=\"2\" style=\"stroke: #383838; stroke-width: 1.0;\"/><ellipse cx=\"152.8917\" cy=\"169.9911\" fill=\"#383838\" rx=\"2\" ry=\"2\" style=\"stroke: #383838; stroke-width: 1.0;\"/><!--MD5=[4672eba38e49728da53d11aeb285b987]\n",
       "reverse link E3 to E4--><path d=\"M133.6,283.33 C130.39,305.16 126.79,329.6 124.27,346.77 \" fill=\"none\" id=\"E3&lt;-E4\" style=\"stroke: #383838; stroke-width: 1.0;\"/><polygon fill=\"#383838\" points=\"135.53,270.16,130.6958,275.5108,133.7757,282.0311,138.6099,276.6803,135.53,270.16\" style=\"stroke: #383838; stroke-width: 1.0;\"/><!--MD5=[79568f1e445c3877b6a54524624ccc7d]\n",
       "link E4 to E6--><path d=\"M117.33,393.01 C115.42,404.51 112.97,419.17 110.56,433.62 \" fill=\"none\" id=\"E4-&gt;E6\" style=\"stroke: #383838; stroke-width: 1.0;\"/><polygon fill=\"#FFFFFF\" points=\"107.24,453.57,103.4565,433.6782,117.2663,435.9781,107.24,453.57\" style=\"stroke: #383838; stroke-width: 1.0;\"/><ellipse cx=\"106.3657\" cy=\"428.3842\" fill=\"#383838\" rx=\"2\" ry=\"2\" style=\"stroke: #383838; stroke-width: 1.0;\"/><ellipse cx=\"116.2299\" cy=\"430.027\" fill=\"#383838\" rx=\"2\" ry=\"2\" style=\"stroke: #383838; stroke-width: 1.0;\"/><!--MD5=[3f50a3473f1dfb74d3f76443e03635af]\n",
       "reverse link E6 to E7--><path d=\"M95.07,545.35 C93.28,561.08 91.4,577.65 89.91,590.83 \" fill=\"none\" id=\"E6&lt;-E7\" style=\"stroke: #383838; stroke-width: 1.0;\"/><ellipse cx=\"95.9015\" cy=\"537.9994\" fill=\"#FFFFFF\" rx=\"8\" ry=\"8\" style=\"stroke: #383838; stroke-width: 1.0;\"/><line style=\"stroke: #383838; stroke-width: 1.0;\" x1=\"95.003\" x2=\"96.8\" y1=\"545.9488\" y2=\"530.05\"/><line style=\"stroke: #383838; stroke-width: 1.0;\" x1=\"87.9521\" x2=\"103.8509\" y1=\"537.1009\" y2=\"538.8979\"/><!--MD5=[95fa686b5a16158bcdbcaeead89f639b]\n",
       "link E8 to E3--><path d=\"M159.5,594.44 C162.35,548.38 167.58,438.63 160,347 C158.45,328.29 155.5,308.02 152.37,289.84 \" fill=\"none\" id=\"E8-&gt;E3\" style=\"stroke: #383838; stroke-width: 1.0;\"/><polygon fill=\"#FFFFFF\" points=\"148.76,270.03,159.0537,287.4667,145.2807,289.9773,148.76,270.03\" style=\"stroke: #383838; stroke-width: 1.0;\"/><ellipse cx=\"158.1083\" cy=\"293.433\" fill=\"#383838\" rx=\"2\" ry=\"2\" style=\"stroke: #383838; stroke-width: 1.0;\"/><ellipse cx=\"148.2704\" cy=\"295.2262\" fill=\"#383838\" rx=\"2\" ry=\"2\" style=\"stroke: #383838; stroke-width: 1.0;\"/><!--MD5=[f4cf0736d43fd73c4ef68817c49d37d5]\n",
       "reverse link E6 to E8--><path d=\"M123.59,541.94 C131.93,560.02 140.98,579.62 147.7,594.19 \" fill=\"none\" id=\"E6&lt;-E8\" style=\"stroke: #383838; stroke-width: 1.0;\"/><polygon fill=\"#383838\" points=\"118.1,530.05,116.9809,537.1737,123.1262,540.9467,124.2453,533.8229,118.1,530.05\" style=\"stroke: #383838; stroke-width: 1.0;\"/><!--MD5=[8e04057e7b3cbc0dca4fc78ea351e2da]\n",
       "reverse link E10 to E3--><path d=\"M91.15,129.28 C101.44,150.28 113.25,174.38 122.79,193.84 \" fill=\"none\" id=\"E10&lt;-E3\" style=\"stroke: #383838; stroke-width: 1.0;\"/><polygon fill=\"#FFFFFF\" points=\"85.29,117.33,84.3358,124.4777,90.5667,128.1076,91.5209,120.9599,85.29,117.33\" style=\"stroke: #383838; stroke-width: 1.0;\"/><text fill=\"#000000\" font-family=\"sans-serif\" font-size=\"13\" lengthAdjust=\"spacingAndGlyphs\" textLength=\"7\" x=\"107\" y=\"160.0669\">y</text><!--MD5=[604cbf994c02b74b117f728a71673cea]\n",
       "reverse link E10 to E6--><path d=\"M67.56,130.48 C68.7,192.49 72.22,300.8 83,393 C85.37,413.27 89.38,435.68 93.01,453.94 \" fill=\"none\" id=\"E10&lt;-E6\" style=\"stroke: #383838; stroke-width: 1.0;\"/><polygon fill=\"#FFFFFF\" points=\"67.33,117.23,63.4361,123.2994,67.541,129.2281,71.4349,123.1588,67.33,117.23\" style=\"stroke: #383838; stroke-width: 1.0;\"/><text fill=\"#000000\" font-family=\"sans-serif\" font-size=\"13\" lengthAdjust=\"spacingAndGlyphs\" textLength=\"7\" x=\"76\" y=\"313.0669\">y</text><!--MD5=[901e7c7f319e9bb8d4b50a9915b16273]\n",
       "@startuml\r\n",
       "top to bottom direction\r\n",
       "skinparam monochrome true\r\n",
       "skinparam classbackgroundcolor white\r\n",
       "skinparam shadowing false\r\n",
       "skinparam wrapWidth 300\r\n",
       "hide circle\r\n",
       "\r\n",
       "package \"PartTest\" as E1   {\r\n",
       "comp usage \"f: A\" as E2  <<(T,blue)part>> {\r\n",
       "}\r\n",
       "comp def \"A\" as E3  <<(T,blue)part def>> {\r\n",
       "- -ports- -\r\n",
       "c: C\r\n",
       "}\r\n",
       "comp usage \"b: B\" as E4  <<(T,blue)part>> {\r\n",
       "}\r\n",
       "comp def \"B\" as E6  <<(T,blue)part def>> {\r\n",
       "- -ports- -\r\n",
       "x: ~C\r\n",
       "}\r\n",
       "package \"P\" as E7   {\r\n",
       "}\r\n",
       "comp usage \"a: A\" as E8  <<(T,blue)part>> {\r\n",
       "}\r\n",
       "comp def \"C\" as E10  <<(T,blue)port def>> {\r\n",
       "- -references- -\r\n",
       "y: A <b>as</b> z2 \r\n",
       "}\r\n",
       "E2 - -:|> E3\r\n",
       "E3 *- - E4\r\n",
       "E4 - -:|> E6\r\n",
       "E6 +- - E7\r\n",
       "E8 - -:|> E3\r\n",
       "E6 *- - E8\r\n",
       "E10 o- - E3 : y\r\n",
       "E10 o- - E6 : y\r\n",
       "}\r\n",
       "@enduml\r\n",
       "\n",
       "PlantUML version 1.2020.13(Sat Jun 13 12:26:38 UTC 2020)\n",
       "(EPL source distribution)\n",
       "Java Runtime: OpenJDK Runtime Environment\n",
       "JVM: OpenJDK 64-Bit Server VM\n",
       "Default Encoding: UTF-8\n",
       "Language: en\n",
       "Country: null\n",
       "--></g></svg>"
      ]
     },
     "execution_count": 44,
     "metadata": {},
     "output_type": "execute_result"
    }
   ],
   "source": [
    "%viz --style=\"TB\" --view=\"Default\" \"PartTest\""
   ]
  },
  {
   "cell_type": "code",
   "execution_count": 45,
   "id": "educational-poetry",
   "metadata": {
    "execution": {
     "iopub.execute_input": "2021-03-25T16:06:37.987823Z",
     "iopub.status.busy": "2021-03-25T16:06:37.987327Z",
     "iopub.status.idle": "2021-03-25T16:06:38.326585Z",
     "shell.execute_reply": "2021-03-25T16:06:38.325176Z"
    }
   },
   "outputs": [
    {
     "data": {
      "image/svg+xml": [
       "<?xml version=\"1.0\" encoding=\"UTF-8\" standalone=\"no\"?><svg xmlns=\"http://www.w3.org/2000/svg\" xmlns:xlink=\"http://www.w3.org/1999/xlink\" contentScriptType=\"application/ecmascript\" contentStyleType=\"text/css\" height=\"672px\" preserveAspectRatio=\"none\" style=\"width:217px;height:672px;\" version=\"1.1\" viewBox=\"0 0 217 672\" width=\"217px\" zoomAndPan=\"magnify\"><defs/><g><!--MD5=[fbc87193dbaf4d95561dea2c320d4a47]\n",
       "cluster E1--><polygon fill=\"#FFFFFF\" points=\"16,6,89,6,96,28.2969,195,28.2969,195,660,16,660,16,6\" style=\"stroke: #000000; stroke-width: 1.5;\"/><line style=\"stroke: #000000; stroke-width: 1.5;\" x1=\"16\" x2=\"96\" y1=\"28.2969\" y2=\"28.2969\"/><text fill=\"#000000\" font-family=\"sans-serif\" font-size=\"14\" font-weight=\"bold\" lengthAdjust=\"spacingAndGlyphs\" textLength=\"67\" x=\"20\" y=\"20.9951\">PartTest</text><!--MD5=[b4997ac47864f28c2f74865a473b2911]\n",
       "class E2--><rect fill=\"#FFFFFF\" height=\"45.9375\" id=\"E2\" rx=\"10\" ry=\"10\" style=\"stroke: #383838; stroke-width: 1.5;\" width=\"42\" x=\"137\" y=\"56\"/><text fill=\"#000000\" font-family=\"sans-serif\" font-size=\"12\" font-style=\"italic\" lengthAdjust=\"spacingAndGlyphs\" textLength=\"40\" x=\"138\" y=\"72.1387\">«part»</text><text fill=\"#000000\" font-family=\"sans-serif\" font-size=\"12\" lengthAdjust=\"spacingAndGlyphs\" textLength=\"20\" x=\"148\" y=\"86.1074\">f: A</text><line style=\"stroke: #383838; stroke-width: 1.5;\" x1=\"138\" x2=\"178\" y1=\"93.9375\" y2=\"93.9375\"/><!--MD5=[09b614a08d8cba4a07c9adeb5e0fee81]\n",
       "class E3--><rect fill=\"#FFFFFF\" height=\"75.5469\" id=\"E3\" style=\"stroke: #383838; stroke-width: 1.5;\" width=\"66\" x=\"108\" y=\"194\"/><text fill=\"#000000\" font-family=\"sans-serif\" font-size=\"12\" font-style=\"italic\" lengthAdjust=\"spacingAndGlyphs\" textLength=\"64\" x=\"109\" y=\"210.1387\">«part def»</text><text fill=\"#000000\" font-family=\"sans-serif\" font-size=\"12\" lengthAdjust=\"spacingAndGlyphs\" textLength=\"8\" x=\"137\" y=\"224.1074\">A</text><line style=\"stroke: #383838; stroke-width: 1.5;\" x1=\"109\" x2=\"173\" y1=\"231.9375\" y2=\"231.9375\"/><text fill=\"#000000\" font-family=\"sans-serif\" font-size=\"11\" lengthAdjust=\"spacingAndGlyphs\" textLength=\"22\" x=\"114\" y=\"262.9526\">c: C</text><line style=\"stroke: #383838; stroke-width: 1.0;\" x1=\"109\" x2=\"126\" y1=\"246.3398\" y2=\"246.3398\"/><text fill=\"#000000\" font-family=\"sans-serif\" font-size=\"11\" lengthAdjust=\"spacingAndGlyphs\" textLength=\"30\" x=\"126\" y=\"249.6479\">ports</text><line style=\"stroke: #383838; stroke-width: 1.0;\" x1=\"156\" x2=\"173\" y1=\"246.3398\" y2=\"246.3398\"/><!--MD5=[ebbe1d658d1005bcc118a6aa81145e00]\n",
       "class E4--><rect fill=\"#FFFFFF\" height=\"45.9375\" id=\"E4\" rx=\"10\" ry=\"10\" style=\"stroke: #383838; stroke-width: 1.5;\" width=\"42\" x=\"100\" y=\"347\"/><text fill=\"#000000\" font-family=\"sans-serif\" font-size=\"12\" font-style=\"italic\" lengthAdjust=\"spacingAndGlyphs\" textLength=\"40\" x=\"101\" y=\"363.1387\">«part»</text><text fill=\"#000000\" font-family=\"sans-serif\" font-size=\"12\" lengthAdjust=\"spacingAndGlyphs\" textLength=\"24\" x=\"109\" y=\"377.1074\">b: B</text><line style=\"stroke: #383838; stroke-width: 1.5;\" x1=\"101\" x2=\"141\" y1=\"384.9375\" y2=\"384.9375\"/><!--MD5=[60a26617385b1d2d0262a64233df1f8d]\n",
       "class E6--><rect fill=\"#FFFFFF\" height=\"75.5469\" id=\"E6\" style=\"stroke: #383838; stroke-width: 1.5;\" width=\"66\" x=\"68\" y=\"454\"/><text fill=\"#000000\" font-family=\"sans-serif\" font-size=\"12\" font-style=\"italic\" lengthAdjust=\"spacingAndGlyphs\" textLength=\"64\" x=\"69\" y=\"470.1387\">«part def»</text><text fill=\"#000000\" font-family=\"sans-serif\" font-size=\"12\" lengthAdjust=\"spacingAndGlyphs\" textLength=\"8\" x=\"97\" y=\"484.1074\">B</text><line style=\"stroke: #383838; stroke-width: 1.5;\" x1=\"69\" x2=\"133\" y1=\"491.9375\" y2=\"491.9375\"/><text fill=\"#000000\" font-family=\"sans-serif\" font-size=\"11\" lengthAdjust=\"spacingAndGlyphs\" textLength=\"31\" x=\"74\" y=\"522.9526\">x: ~C</text><line style=\"stroke: #383838; stroke-width: 1.0;\" x1=\"69\" x2=\"86\" y1=\"506.3398\" y2=\"506.3398\"/><text fill=\"#000000\" font-family=\"sans-serif\" font-size=\"11\" lengthAdjust=\"spacingAndGlyphs\" textLength=\"30\" x=\"86\" y=\"509.6479\">ports</text><line style=\"stroke: #383838; stroke-width: 1.0;\" x1=\"116\" x2=\"133\" y1=\"506.3398\" y2=\"506.3398\"/><!--MD5=[b9389687b975829384b498ac4b7476b2]\n",
       "class E8--><rect fill=\"#FFFFFF\" height=\"45.9375\" id=\"E8\" rx=\"10\" ry=\"10\" style=\"stroke: #383838; stroke-width: 1.5;\" width=\"42\" x=\"137\" y=\"594.5\"/><text fill=\"#000000\" font-family=\"sans-serif\" font-size=\"12\" font-style=\"italic\" lengthAdjust=\"spacingAndGlyphs\" textLength=\"40\" x=\"138\" y=\"610.6387\">«part»</text><text fill=\"#000000\" font-family=\"sans-serif\" font-size=\"12\" lengthAdjust=\"spacingAndGlyphs\" textLength=\"24\" x=\"146\" y=\"624.6074\">a: A</text><line style=\"stroke: #383838; stroke-width: 1.5;\" x1=\"138\" x2=\"178\" y1=\"632.4375\" y2=\"632.4375\"/><!--MD5=[96f4274e9e20536e775497830990834d]\n",
       "class E10--><rect fill=\"#FFFFFF\" height=\"75.5469\" id=\"E10\" style=\"stroke: #383838; stroke-width: 1.5;\" width=\"70\" x=\"32\" y=\"41\"/><text fill=\"#000000\" font-family=\"sans-serif\" font-size=\"12\" font-style=\"italic\" lengthAdjust=\"spacingAndGlyphs\" textLength=\"64\" x=\"35\" y=\"57.1387\">«port def»</text><text fill=\"#000000\" font-family=\"sans-serif\" font-size=\"12\" lengthAdjust=\"spacingAndGlyphs\" textLength=\"8\" x=\"63\" y=\"71.1074\">C</text><line style=\"stroke: #383838; stroke-width: 1.5;\" x1=\"33\" x2=\"101\" y1=\"78.9375\" y2=\"78.9375\"/><text fill=\"#000000\" font-family=\"sans-serif\" font-size=\"11\" lengthAdjust=\"spacingAndGlyphs\" textLength=\"21\" x=\"38\" y=\"109.9526\">y: A</text><text fill=\"#000000\" font-family=\"sans-serif\" font-size=\"11\" font-weight=\"bold\" lengthAdjust=\"spacingAndGlyphs\" textLength=\"15\" x=\"63\" y=\"109.9526\">as</text><text fill=\"#000000\" font-family=\"sans-serif\" font-size=\"11\" lengthAdjust=\"spacingAndGlyphs\" textLength=\"12\" x=\"82\" y=\"109.9526\">z2</text><line style=\"stroke: #383838; stroke-width: 1.0;\" x1=\"33\" x2=\"36\" y1=\"93.3398\" y2=\"93.3398\"/><text fill=\"#000000\" font-family=\"sans-serif\" font-size=\"11\" lengthAdjust=\"spacingAndGlyphs\" textLength=\"62\" x=\"36\" y=\"96.6479\">references</text><line style=\"stroke: #383838; stroke-width: 1.0;\" x1=\"98\" x2=\"101\" y1=\"93.3398\" y2=\"93.3398\"/><polygon fill=\"#FFFFFF\" points=\"72,591,88,591,95,613.2969,102,613.2969,102,643.5938,72,643.5938,72,591\" style=\"stroke: #000000; stroke-width: 1.5;\"/><line style=\"stroke: #000000; stroke-width: 1.5;\" x1=\"72\" x2=\"95\" y1=\"613.2969\" y2=\"613.2969\"/><text fill=\"#000000\" font-family=\"sans-serif\" font-size=\"14\" font-weight=\"bold\" lengthAdjust=\"spacingAndGlyphs\" textLength=\"10\" x=\"76\" y=\"605.9951\">P</text><!--MD5=[2720a5a1f2c3fca2055b230370638851]\n",
       "link E2 to E3--><path d=\"M155.49,102.28 C153.37,121.12 150.24,148.97 147.42,173.94 \" fill=\"none\" id=\"E2-&gt;E3\" style=\"stroke: #383838; stroke-width: 1.0;\"/><polygon fill=\"#FFFFFF\" points=\"145.17,193.98,140.3312,174.3182,154.244,175.8785,145.17,193.98\" style=\"stroke: #383838; stroke-width: 1.0;\"/><ellipse cx=\"142.954\" cy=\"168.8766\" fill=\"#383838\" rx=\"2\" ry=\"2\" style=\"stroke: #383838; stroke-width: 1.0;\"/><ellipse cx=\"152.8917\" cy=\"169.9911\" fill=\"#383838\" rx=\"2\" ry=\"2\" style=\"stroke: #383838; stroke-width: 1.0;\"/><!--MD5=[4672eba38e49728da53d11aeb285b987]\n",
       "reverse link E3 to E4--><path d=\"M133.6,283.33 C130.39,305.16 126.79,329.6 124.27,346.77 \" fill=\"none\" id=\"E3&lt;-E4\" style=\"stroke: #383838; stroke-width: 1.0;\"/><polygon fill=\"#383838\" points=\"135.53,270.16,130.6958,275.5108,133.7757,282.0311,138.6099,276.6803,135.53,270.16\" style=\"stroke: #383838; stroke-width: 1.0;\"/><!--MD5=[79568f1e445c3877b6a54524624ccc7d]\n",
       "link E4 to E6--><path d=\"M117.33,393.01 C115.42,404.51 112.97,419.17 110.56,433.62 \" fill=\"none\" id=\"E4-&gt;E6\" style=\"stroke: #383838; stroke-width: 1.0;\"/><polygon fill=\"#FFFFFF\" points=\"107.24,453.57,103.4565,433.6782,117.2663,435.9781,107.24,453.57\" style=\"stroke: #383838; stroke-width: 1.0;\"/><ellipse cx=\"106.3657\" cy=\"428.3842\" fill=\"#383838\" rx=\"2\" ry=\"2\" style=\"stroke: #383838; stroke-width: 1.0;\"/><ellipse cx=\"116.2299\" cy=\"430.027\" fill=\"#383838\" rx=\"2\" ry=\"2\" style=\"stroke: #383838; stroke-width: 1.0;\"/><!--MD5=[3f50a3473f1dfb74d3f76443e03635af]\n",
       "reverse link E6 to E7--><path d=\"M95.07,545.35 C93.28,561.08 91.4,577.65 89.91,590.83 \" fill=\"none\" id=\"E6&lt;-E7\" style=\"stroke: #383838; stroke-width: 1.0;\"/><ellipse cx=\"95.9015\" cy=\"537.9994\" fill=\"#FFFFFF\" rx=\"8\" ry=\"8\" style=\"stroke: #383838; stroke-width: 1.0;\"/><line style=\"stroke: #383838; stroke-width: 1.0;\" x1=\"95.003\" x2=\"96.8\" y1=\"545.9488\" y2=\"530.05\"/><line style=\"stroke: #383838; stroke-width: 1.0;\" x1=\"87.9521\" x2=\"103.8509\" y1=\"537.1009\" y2=\"538.8979\"/><!--MD5=[95fa686b5a16158bcdbcaeead89f639b]\n",
       "link E8 to E3--><path d=\"M159.5,594.44 C162.35,548.38 167.58,438.63 160,347 C158.45,328.29 155.5,308.02 152.37,289.84 \" fill=\"none\" id=\"E8-&gt;E3\" style=\"stroke: #383838; stroke-width: 1.0;\"/><polygon fill=\"#FFFFFF\" points=\"148.76,270.03,159.0537,287.4667,145.2807,289.9773,148.76,270.03\" style=\"stroke: #383838; stroke-width: 1.0;\"/><ellipse cx=\"158.1083\" cy=\"293.433\" fill=\"#383838\" rx=\"2\" ry=\"2\" style=\"stroke: #383838; stroke-width: 1.0;\"/><ellipse cx=\"148.2704\" cy=\"295.2262\" fill=\"#383838\" rx=\"2\" ry=\"2\" style=\"stroke: #383838; stroke-width: 1.0;\"/><!--MD5=[f4cf0736d43fd73c4ef68817c49d37d5]\n",
       "reverse link E6 to E8--><path d=\"M123.59,541.94 C131.93,560.02 140.98,579.62 147.7,594.19 \" fill=\"none\" id=\"E6&lt;-E8\" style=\"stroke: #383838; stroke-width: 1.0;\"/><polygon fill=\"#383838\" points=\"118.1,530.05,116.9809,537.1737,123.1262,540.9467,124.2453,533.8229,118.1,530.05\" style=\"stroke: #383838; stroke-width: 1.0;\"/><!--MD5=[8e04057e7b3cbc0dca4fc78ea351e2da]\n",
       "reverse link E10 to E3--><path d=\"M91.15,129.28 C101.44,150.28 113.25,174.38 122.79,193.84 \" fill=\"none\" id=\"E10&lt;-E3\" style=\"stroke: #383838; stroke-width: 1.0;\"/><polygon fill=\"#FFFFFF\" points=\"85.29,117.33,84.3358,124.4777,90.5667,128.1076,91.5209,120.9599,85.29,117.33\" style=\"stroke: #383838; stroke-width: 1.0;\"/><text fill=\"#000000\" font-family=\"sans-serif\" font-size=\"13\" lengthAdjust=\"spacingAndGlyphs\" textLength=\"7\" x=\"107\" y=\"160.0669\">y</text><!--MD5=[604cbf994c02b74b117f728a71673cea]\n",
       "reverse link E10 to E6--><path d=\"M67.56,130.48 C68.7,192.49 72.22,300.8 83,393 C85.37,413.27 89.38,435.68 93.01,453.94 \" fill=\"none\" id=\"E10&lt;-E6\" style=\"stroke: #383838; stroke-width: 1.0;\"/><polygon fill=\"#FFFFFF\" points=\"67.33,117.23,63.4361,123.2994,67.541,129.2281,71.4349,123.1588,67.33,117.23\" style=\"stroke: #383838; stroke-width: 1.0;\"/><text fill=\"#000000\" font-family=\"sans-serif\" font-size=\"13\" lengthAdjust=\"spacingAndGlyphs\" textLength=\"7\" x=\"76\" y=\"313.0669\">y</text><!--MD5=[901e7c7f319e9bb8d4b50a9915b16273]\n",
       "@startuml\r\n",
       "top to bottom direction\r\n",
       "skinparam monochrome true\r\n",
       "skinparam classbackgroundcolor white\r\n",
       "skinparam shadowing false\r\n",
       "skinparam wrapWidth 300\r\n",
       "hide circle\r\n",
       "\r\n",
       "package \"PartTest\" as E1   {\r\n",
       "comp usage \"f: A\" as E2  <<(T,blue)part>> {\r\n",
       "}\r\n",
       "comp def \"A\" as E3  <<(T,blue)part def>> {\r\n",
       "- -ports- -\r\n",
       "c: C\r\n",
       "}\r\n",
       "comp usage \"b: B\" as E4  <<(T,blue)part>> {\r\n",
       "}\r\n",
       "comp def \"B\" as E6  <<(T,blue)part def>> {\r\n",
       "- -ports- -\r\n",
       "x: ~C\r\n",
       "}\r\n",
       "package \"P\" as E7   {\r\n",
       "}\r\n",
       "comp usage \"a: A\" as E8  <<(T,blue)part>> {\r\n",
       "}\r\n",
       "comp def \"C\" as E10  <<(T,blue)port def>> {\r\n",
       "- -references- -\r\n",
       "y: A <b>as</b> z2 \r\n",
       "}\r\n",
       "E2 - -:|> E3\r\n",
       "E3 *- - E4\r\n",
       "E4 - -:|> E6\r\n",
       "E6 +- - E7\r\n",
       "E8 - -:|> E3\r\n",
       "E6 *- - E8\r\n",
       "E10 o- - E3 : y\r\n",
       "E10 o- - E6 : y\r\n",
       "}\r\n",
       "@enduml\r\n",
       "\n",
       "PlantUML version 1.2020.13(Sat Jun 13 12:26:38 UTC 2020)\n",
       "(EPL source distribution)\n",
       "Java Runtime: OpenJDK Runtime Environment\n",
       "JVM: OpenJDK 64-Bit Server VM\n",
       "Default Encoding: UTF-8\n",
       "Language: en\n",
       "Country: null\n",
       "--></g></svg>"
      ]
     },
     "execution_count": 45,
     "metadata": {},
     "output_type": "execute_result"
    }
   ],
   "source": [
    "%viz --style=\"TB\" --view=\"Tree\" \"PartTest\""
   ]
  },
  {
   "cell_type": "code",
   "execution_count": 46,
   "id": "buried-sympathy",
   "metadata": {
    "execution": {
     "iopub.execute_input": "2021-03-25T16:06:38.376773Z",
     "iopub.status.busy": "2021-03-25T16:06:38.376321Z",
     "iopub.status.idle": "2021-03-25T16:06:38.379150Z",
     "shell.execute_reply": "2021-03-25T16:06:38.379596Z"
    }
   },
   "outputs": [
    {
     "data": {
      "text/plain": [
       "java.lang.IllegalArgumentException: Invalid View: State View candidates are: Default Tree StateMachine Interconnection Activity Sequence MIXED \n",
       "\tat org.omg.sysml.plantuml.SysML2PlantUMLSvc.setView(SysML2PlantUMLSvc.java:63)\n",
       "\tat org.omg.sysml.interactive.SysMLInteractive.viz(SysMLInteractive.java:286)\n",
       "\tat org.omg.sysml.jupyter.kernel.magic.Viz.viz(Viz.java:47)\n",
       "\tat jdk.internal.reflect.GeneratedMethodAccessor9.invoke(Unknown Source)\n",
       "\tat java.base/jdk.internal.reflect.DelegatingMethodAccessorImpl.invoke(DelegatingMethodAccessorImpl.java:43)\n",
       "\tat java.base/java.lang.reflect.Method.invoke(Method.java:568)\n",
       "\tat io.github.spencerpark.jupyter.kernel.magic.registry.Magics.invoke(Magics.java:89)\n",
       "\tat io.github.spencerpark.jupyter.kernel.magic.registry.Magics.access$000(Magics.java:8)\n",
       "\tat io.github.spencerpark.jupyter.kernel.magic.registry.Magics$LineReflectionMagicFunction.execute(Magics.java:149)\n",
       "\tat io.github.spencerpark.jupyter.kernel.magic.registry.Magics.applyLineMagic(Magics.java:26)\n",
       "\tat org.omg.sysml.jupyter.kernel.SysMLKernel.eval(SysMLKernel.java:76)\n",
       "\tat io.github.spencerpark.jupyter.kernel.BaseKernel.handleExecuteRequest(BaseKernel.java:334)\n",
       "\tat io.github.spencerpark.jupyter.channels.ShellChannel.lambda$bind$0(ShellChannel.java:64)\n",
       "\tat io.github.spencerpark.jupyter.channels.Loop.lambda$new$0(Loop.java:21)\n",
       "\tat io.github.spencerpark.jupyter.channels.Loop.run(Loop.java:78)\n"
      ]
     },
     "execution_count": 46,
     "metadata": {},
     "output_type": "execute_result"
    }
   ],
   "source": [
    "%viz --style=\"TB\" --view=\"State\" \"PartTest\""
   ]
  },
  {
   "cell_type": "code",
   "execution_count": 47,
   "id": "chicken-representative",
   "metadata": {
    "execution": {
     "iopub.execute_input": "2021-03-25T16:06:38.430516Z",
     "iopub.status.busy": "2021-03-25T16:06:38.429980Z",
     "iopub.status.idle": "2021-03-25T16:06:38.505646Z",
     "shell.execute_reply": "2021-03-25T16:06:38.504218Z"
    }
   },
   "outputs": [
    {
     "data": {
      "image/svg+xml": [
       "<?xml version=\"1.0\" encoding=\"UTF-8\" standalone=\"no\"?><svg xmlns=\"http://www.w3.org/2000/svg\" xmlns:xlink=\"http://www.w3.org/1999/xlink\" contentScriptType=\"application/ecmascript\" contentStyleType=\"text/css\" height=\"266px\" preserveAspectRatio=\"none\" style=\"width:542px;height:266px;\" version=\"1.1\" viewBox=\"0 0 542 266\" width=\"542px\" zoomAndPan=\"magnify\"><defs/><g><!--MD5=[fbc87193dbaf4d95561dea2c320d4a47]\n",
       "cluster E1--><polygon fill=\"#FFFFFF\" points=\"16,6,89,6,96,28.2969,520,28.2969,520,254,16,254,16,6\" style=\"stroke: #000000; stroke-width: 1.5;\"/><line style=\"stroke: #000000; stroke-width: 1.5;\" x1=\"16\" x2=\"96\" y1=\"28.2969\" y2=\"28.2969\"/><text fill=\"#000000\" font-family=\"sans-serif\" font-size=\"14\" font-weight=\"bold\" lengthAdjust=\"spacingAndGlyphs\" textLength=\"67\" x=\"20\" y=\"20.9951\">PartTest</text><!--MD5=[d5e69f78d87373223dbae638b30a9c99]\n",
       "cluster E3--><rect fill=\"#FFFFFF\" height=\"170\" style=\"stroke: #000000; stroke-width: 1.5;\" width=\"120\" x=\"384\" y=\"68\"/><text fill=\"#000000\" font-family=\"sans-serif\" font-size=\"14\" font-style=\"italic\" lengthAdjust=\"spacingAndGlyphs\" textLength=\"71\" x=\"408.5\" y=\"82.9951\">«part def»</text><text fill=\"#000000\" font-family=\"sans-serif\" font-size=\"14\" font-weight=\"bold\" lengthAdjust=\"spacingAndGlyphs\" textLength=\"11\" x=\"438.5\" y=\"99.292\">A</text><!--MD5=[14e3b0961a2654348d326746436168a1]\n",
       "cluster E6--><rect fill=\"#FFFFFF\" height=\"170\" style=\"stroke: #000000; stroke-width: 1.5;\" width=\"185\" x=\"191\" y=\"68\"/><text fill=\"#000000\" font-family=\"sans-serif\" font-size=\"14\" font-style=\"italic\" lengthAdjust=\"spacingAndGlyphs\" textLength=\"71\" x=\"248\" y=\"82.9951\">«part def»</text><text fill=\"#000000\" font-family=\"sans-serif\" font-size=\"14\" font-weight=\"bold\" lengthAdjust=\"spacingAndGlyphs\" textLength=\"10\" x=\"278.5\" y=\"99.292\">B</text><!--MD5=[96f4274e9e20536e775497830990834d]\n",
       "class E10--><rect fill=\"#FFFFFF\" height=\"53.9375\" id=\"E10\" style=\"stroke: #383838; stroke-width: 1.5;\" width=\"66\" x=\"117\" y=\"41\"/><text fill=\"#000000\" font-family=\"sans-serif\" font-size=\"12\" font-style=\"italic\" lengthAdjust=\"spacingAndGlyphs\" textLength=\"64\" x=\"118\" y=\"57.1387\">«port def»</text><text fill=\"#000000\" font-family=\"sans-serif\" font-size=\"12\" lengthAdjust=\"spacingAndGlyphs\" textLength=\"8\" x=\"146\" y=\"71.1074\">C</text><line style=\"stroke: #383838; stroke-width: 1.5;\" x1=\"118\" x2=\"182\" y1=\"78.9375\" y2=\"78.9375\"/><line style=\"stroke: #383838; stroke-width: 1.5;\" x1=\"118\" x2=\"182\" y1=\"86.9375\" y2=\"86.9375\"/><g id=\"E1.E2\"><rect fill=\"#FFFFFF\" height=\"50\" rx=\"12.5\" ry=\"12.5\" style=\"stroke: #383838; stroke-width: 1.5;\" width=\"50\" x=\"32\" y=\"43\"/><line style=\"stroke: #383838; stroke-width: 1.5;\" x1=\"32\" x2=\"82\" y1=\"69.2969\" y2=\"69.2969\"/><text fill=\"#000000\" font-family=\"sans-serif\" font-size=\"14\" lengthAdjust=\"spacingAndGlyphs\" textLength=\"22\" x=\"46\" y=\"60.9951\">f: A</text></g><text fill=\"#000000\" font-family=\"sans-serif\" font-size=\"14\" lengthAdjust=\"spacingAndGlyphs\" textLength=\"27\" x=\"430.5\" y=\"46.6982\">c: C</text><rect fill=\"#383838\" height=\"12\" style=\"stroke: #F8F8F8; stroke-width: 1.5;\" width=\"12\" x=\"438\" y=\"62\"/><g id=\"E1.E3.E4\"><rect fill=\"#FFFFFF\" height=\"50\" rx=\"12.5\" ry=\"12.5\" style=\"stroke: #383838; stroke-width: 1.5;\" width=\"50\" x=\"419\" y=\"172\"/><line style=\"stroke: #383838; stroke-width: 1.5;\" x1=\"419\" x2=\"469\" y1=\"198.2969\" y2=\"198.2969\"/><text fill=\"#000000\" font-family=\"sans-serif\" font-size=\"14\" lengthAdjust=\"spacingAndGlyphs\" textLength=\"28\" x=\"430\" y=\"189.9951\">b: B</text></g><text fill=\"#000000\" font-family=\"sans-serif\" font-size=\"14\" lengthAdjust=\"spacingAndGlyphs\" textLength=\"38\" x=\"297\" y=\"46.6982\">x: ~C</text><rect fill=\"#383838\" height=\"12\" style=\"stroke: #F8F8F8; stroke-width: 1.5;\" width=\"12\" x=\"310\" y=\"62\"/><polygon fill=\"#FFFFFF\" points=\"207,111,223,111,230,133.2969,237,133.2969,237,163.5938,207,163.5938,207,111\" style=\"stroke: #000000; stroke-width: 1.5;\"/><line style=\"stroke: #000000; stroke-width: 1.5;\" x1=\"207\" x2=\"230\" y1=\"133.2969\" y2=\"133.2969\"/><text fill=\"#000000\" font-family=\"sans-serif\" font-size=\"14\" font-weight=\"bold\" lengthAdjust=\"spacingAndGlyphs\" textLength=\"10\" x=\"211\" y=\"125.9951\">P</text><g id=\"E1.E6.E8\"><rect fill=\"#FFFFFF\" height=\"50\" rx=\"12.5\" ry=\"12.5\" style=\"stroke: #383838; stroke-width: 1.5;\" width=\"50\" x=\"291\" y=\"172\"/><line style=\"stroke: #383838; stroke-width: 1.5;\" x1=\"291\" x2=\"341\" y1=\"198.2969\" y2=\"198.2969\"/><text fill=\"#000000\" font-family=\"sans-serif\" font-size=\"14\" lengthAdjust=\"spacingAndGlyphs\" textLength=\"26\" x=\"303\" y=\"189.9951\">a: A</text></g><!--MD5=[a69ca4e167d0b8dc32b9517f29edf35c]\n",
       "@startuml\r\n",
       "skinparam ranksep 8\r\n",
       "skinparam rectangle {\r\n",
       " backgroundColor<<block>> LightGreen\r\n",
       "}\r\n",
       "top to bottom direction\r\n",
       "skinparam monochrome true\r\n",
       "skinparam classbackgroundcolor white\r\n",
       "skinparam shadowing false\r\n",
       "skinparam wrapWidth 300\r\n",
       "hide circle\r\n",
       "\r\n",
       "package \"PartTest\" as E1   {\r\n",
       "rec usage \"f: A\" as E2  {\r\n",
       "}\r\n",
       "rec def \"A\" as E3  <<part def>> {\r\n",
       "rec usage \"b: B\" as E4  {\r\n",
       "}\r\n",
       "portin \"c: C\" as E5  <<port>> \r\n",
       "}\r\n",
       "rec def \"B\" as E6  <<part def>> {\r\n",
       "package \"P\" as E7   {\r\n",
       "}\r\n",
       "rec usage \"a: A\" as E8  {\r\n",
       "}\r\n",
       "portin \"x: ~C\" as E9  <<port>> \r\n",
       "}\r\n",
       "def \"C\" as E10  <<port def>> \r\n",
       "}\r\n",
       "@enduml\r\n",
       "\n",
       "PlantUML version 1.2020.13(Sat Jun 13 12:26:38 UTC 2020)\n",
       "(EPL source distribution)\n",
       "Java Runtime: OpenJDK Runtime Environment\n",
       "JVM: OpenJDK 64-Bit Server VM\n",
       "Default Encoding: UTF-8\n",
       "Language: en\n",
       "Country: null\n",
       "--></g></svg>"
      ]
     },
     "execution_count": 47,
     "metadata": {},
     "output_type": "execute_result"
    }
   ],
   "source": [
    "%viz --style=\"TB\" --view=\"Interconnection\" \"PartTest\""
   ]
  },
  {
   "cell_type": "code",
   "execution_count": 48,
   "id": "dimensional-texture",
   "metadata": {
    "execution": {
     "iopub.execute_input": "2021-03-25T16:06:38.557076Z",
     "iopub.status.busy": "2021-03-25T16:06:38.556314Z",
     "iopub.status.idle": "2021-03-25T16:06:38.559031Z",
     "shell.execute_reply": "2021-03-25T16:06:38.558617Z"
    }
   },
   "outputs": [
    {
     "data": {
      "text/plain": [
       "java.lang.IllegalArgumentException: Invalid View: Action View candidates are: Default Tree StateMachine Interconnection Activity Sequence MIXED \n",
       "\tat org.omg.sysml.plantuml.SysML2PlantUMLSvc.setView(SysML2PlantUMLSvc.java:63)\n",
       "\tat org.omg.sysml.interactive.SysMLInteractive.viz(SysMLInteractive.java:286)\n",
       "\tat org.omg.sysml.jupyter.kernel.magic.Viz.viz(Viz.java:47)\n",
       "\tat jdk.internal.reflect.GeneratedMethodAccessor9.invoke(Unknown Source)\n",
       "\tat java.base/jdk.internal.reflect.DelegatingMethodAccessorImpl.invoke(DelegatingMethodAccessorImpl.java:43)\n",
       "\tat java.base/java.lang.reflect.Method.invoke(Method.java:568)\n",
       "\tat io.github.spencerpark.jupyter.kernel.magic.registry.Magics.invoke(Magics.java:89)\n",
       "\tat io.github.spencerpark.jupyter.kernel.magic.registry.Magics.access$000(Magics.java:8)\n",
       "\tat io.github.spencerpark.jupyter.kernel.magic.registry.Magics$LineReflectionMagicFunction.execute(Magics.java:149)\n",
       "\tat io.github.spencerpark.jupyter.kernel.magic.registry.Magics.applyLineMagic(Magics.java:26)\n",
       "\tat org.omg.sysml.jupyter.kernel.SysMLKernel.eval(SysMLKernel.java:76)\n",
       "\tat io.github.spencerpark.jupyter.kernel.BaseKernel.handleExecuteRequest(BaseKernel.java:334)\n",
       "\tat io.github.spencerpark.jupyter.channels.ShellChannel.lambda$bind$0(ShellChannel.java:64)\n",
       "\tat io.github.spencerpark.jupyter.channels.Loop.lambda$new$0(Loop.java:21)\n",
       "\tat io.github.spencerpark.jupyter.channels.Loop.run(Loop.java:78)\n"
      ]
     },
     "execution_count": 48,
     "metadata": {},
     "output_type": "execute_result"
    }
   ],
   "source": [
    "%viz --style=\"TB\" --view=\"Action\" \"PartTest\""
   ]
  },
  {
   "cell_type": "code",
   "execution_count": 49,
   "id": "opening-induction",
   "metadata": {
    "execution": {
     "iopub.execute_input": "2021-03-25T16:06:38.610124Z",
     "iopub.status.busy": "2021-03-25T16:06:38.609497Z",
     "iopub.status.idle": "2021-03-25T16:06:38.949560Z",
     "shell.execute_reply": "2021-03-25T16:06:38.948126Z"
    }
   },
   "outputs": [
    {
     "data": {
      "image/svg+xml": [
       "<?xml version=\"1.0\" encoding=\"UTF-8\" standalone=\"no\"?><svg xmlns=\"http://www.w3.org/2000/svg\" xmlns:xlink=\"http://www.w3.org/1999/xlink\" contentScriptType=\"application/ecmascript\" contentStyleType=\"text/css\" height=\"672px\" preserveAspectRatio=\"none\" style=\"width:217px;height:672px;\" version=\"1.1\" viewBox=\"0 0 217 672\" width=\"217px\" zoomAndPan=\"magnify\"><defs/><g><!--MD5=[fbc87193dbaf4d95561dea2c320d4a47]\n",
       "cluster E1--><polygon fill=\"#FFFFFF\" points=\"16,6,89,6,96,28.2969,195,28.2969,195,660,16,660,16,6\" style=\"stroke: #000000; stroke-width: 1.5;\"/><line style=\"stroke: #000000; stroke-width: 1.5;\" x1=\"16\" x2=\"96\" y1=\"28.2969\" y2=\"28.2969\"/><text fill=\"#000000\" font-family=\"sans-serif\" font-size=\"14\" font-weight=\"bold\" lengthAdjust=\"spacingAndGlyphs\" textLength=\"67\" x=\"20\" y=\"20.9951\">PartTest</text><!--MD5=[b4997ac47864f28c2f74865a473b2911]\n",
       "class E2--><rect fill=\"#FFFFFF\" height=\"45.9375\" id=\"E2\" rx=\"10\" ry=\"10\" style=\"stroke: #383838; stroke-width: 1.5;\" width=\"42\" x=\"137\" y=\"56\"/><text fill=\"#000000\" font-family=\"sans-serif\" font-size=\"12\" font-style=\"italic\" lengthAdjust=\"spacingAndGlyphs\" textLength=\"40\" x=\"138\" y=\"72.1387\">«part»</text><text fill=\"#000000\" font-family=\"sans-serif\" font-size=\"12\" lengthAdjust=\"spacingAndGlyphs\" textLength=\"20\" x=\"148\" y=\"86.1074\">f: A</text><line style=\"stroke: #383838; stroke-width: 1.5;\" x1=\"138\" x2=\"178\" y1=\"93.9375\" y2=\"93.9375\"/><!--MD5=[09b614a08d8cba4a07c9adeb5e0fee81]\n",
       "class E3--><rect fill=\"#FFFFFF\" height=\"75.5469\" id=\"E3\" style=\"stroke: #383838; stroke-width: 1.5;\" width=\"66\" x=\"108\" y=\"194\"/><text fill=\"#000000\" font-family=\"sans-serif\" font-size=\"12\" font-style=\"italic\" lengthAdjust=\"spacingAndGlyphs\" textLength=\"64\" x=\"109\" y=\"210.1387\">«part def»</text><text fill=\"#000000\" font-family=\"sans-serif\" font-size=\"12\" lengthAdjust=\"spacingAndGlyphs\" textLength=\"8\" x=\"137\" y=\"224.1074\">A</text><line style=\"stroke: #383838; stroke-width: 1.5;\" x1=\"109\" x2=\"173\" y1=\"231.9375\" y2=\"231.9375\"/><text fill=\"#000000\" font-family=\"sans-serif\" font-size=\"11\" lengthAdjust=\"spacingAndGlyphs\" textLength=\"22\" x=\"114\" y=\"262.9526\">c: C</text><line style=\"stroke: #383838; stroke-width: 1.0;\" x1=\"109\" x2=\"126\" y1=\"246.3398\" y2=\"246.3398\"/><text fill=\"#000000\" font-family=\"sans-serif\" font-size=\"11\" lengthAdjust=\"spacingAndGlyphs\" textLength=\"30\" x=\"126\" y=\"249.6479\">ports</text><line style=\"stroke: #383838; stroke-width: 1.0;\" x1=\"156\" x2=\"173\" y1=\"246.3398\" y2=\"246.3398\"/><!--MD5=[ebbe1d658d1005bcc118a6aa81145e00]\n",
       "class E4--><rect fill=\"#FFFFFF\" height=\"45.9375\" id=\"E4\" rx=\"10\" ry=\"10\" style=\"stroke: #383838; stroke-width: 1.5;\" width=\"42\" x=\"100\" y=\"347\"/><text fill=\"#000000\" font-family=\"sans-serif\" font-size=\"12\" font-style=\"italic\" lengthAdjust=\"spacingAndGlyphs\" textLength=\"40\" x=\"101\" y=\"363.1387\">«part»</text><text fill=\"#000000\" font-family=\"sans-serif\" font-size=\"12\" lengthAdjust=\"spacingAndGlyphs\" textLength=\"24\" x=\"109\" y=\"377.1074\">b: B</text><line style=\"stroke: #383838; stroke-width: 1.5;\" x1=\"101\" x2=\"141\" y1=\"384.9375\" y2=\"384.9375\"/><!--MD5=[60a26617385b1d2d0262a64233df1f8d]\n",
       "class E6--><rect fill=\"#FFFFFF\" height=\"75.5469\" id=\"E6\" style=\"stroke: #383838; stroke-width: 1.5;\" width=\"66\" x=\"68\" y=\"454\"/><text fill=\"#000000\" font-family=\"sans-serif\" font-size=\"12\" font-style=\"italic\" lengthAdjust=\"spacingAndGlyphs\" textLength=\"64\" x=\"69\" y=\"470.1387\">«part def»</text><text fill=\"#000000\" font-family=\"sans-serif\" font-size=\"12\" lengthAdjust=\"spacingAndGlyphs\" textLength=\"8\" x=\"97\" y=\"484.1074\">B</text><line style=\"stroke: #383838; stroke-width: 1.5;\" x1=\"69\" x2=\"133\" y1=\"491.9375\" y2=\"491.9375\"/><text fill=\"#000000\" font-family=\"sans-serif\" font-size=\"11\" lengthAdjust=\"spacingAndGlyphs\" textLength=\"31\" x=\"74\" y=\"522.9526\">x: ~C</text><line style=\"stroke: #383838; stroke-width: 1.0;\" x1=\"69\" x2=\"86\" y1=\"506.3398\" y2=\"506.3398\"/><text fill=\"#000000\" font-family=\"sans-serif\" font-size=\"11\" lengthAdjust=\"spacingAndGlyphs\" textLength=\"30\" x=\"86\" y=\"509.6479\">ports</text><line style=\"stroke: #383838; stroke-width: 1.0;\" x1=\"116\" x2=\"133\" y1=\"506.3398\" y2=\"506.3398\"/><!--MD5=[b9389687b975829384b498ac4b7476b2]\n",
       "class E8--><rect fill=\"#FFFFFF\" height=\"45.9375\" id=\"E8\" rx=\"10\" ry=\"10\" style=\"stroke: #383838; stroke-width: 1.5;\" width=\"42\" x=\"137\" y=\"594.5\"/><text fill=\"#000000\" font-family=\"sans-serif\" font-size=\"12\" font-style=\"italic\" lengthAdjust=\"spacingAndGlyphs\" textLength=\"40\" x=\"138\" y=\"610.6387\">«part»</text><text fill=\"#000000\" font-family=\"sans-serif\" font-size=\"12\" lengthAdjust=\"spacingAndGlyphs\" textLength=\"24\" x=\"146\" y=\"624.6074\">a: A</text><line style=\"stroke: #383838; stroke-width: 1.5;\" x1=\"138\" x2=\"178\" y1=\"632.4375\" y2=\"632.4375\"/><!--MD5=[96f4274e9e20536e775497830990834d]\n",
       "class E10--><rect fill=\"#FFFFFF\" height=\"75.5469\" id=\"E10\" style=\"stroke: #383838; stroke-width: 1.5;\" width=\"70\" x=\"32\" y=\"41\"/><text fill=\"#000000\" font-family=\"sans-serif\" font-size=\"12\" font-style=\"italic\" lengthAdjust=\"spacingAndGlyphs\" textLength=\"64\" x=\"35\" y=\"57.1387\">«port def»</text><text fill=\"#000000\" font-family=\"sans-serif\" font-size=\"12\" lengthAdjust=\"spacingAndGlyphs\" textLength=\"8\" x=\"63\" y=\"71.1074\">C</text><line style=\"stroke: #383838; stroke-width: 1.5;\" x1=\"33\" x2=\"101\" y1=\"78.9375\" y2=\"78.9375\"/><text fill=\"#000000\" font-family=\"sans-serif\" font-size=\"11\" lengthAdjust=\"spacingAndGlyphs\" textLength=\"21\" x=\"38\" y=\"109.9526\">y: A</text><text fill=\"#000000\" font-family=\"sans-serif\" font-size=\"11\" font-weight=\"bold\" lengthAdjust=\"spacingAndGlyphs\" textLength=\"15\" x=\"63\" y=\"109.9526\">as</text><text fill=\"#000000\" font-family=\"sans-serif\" font-size=\"11\" lengthAdjust=\"spacingAndGlyphs\" textLength=\"12\" x=\"82\" y=\"109.9526\">z2</text><line style=\"stroke: #383838; stroke-width: 1.0;\" x1=\"33\" x2=\"36\" y1=\"93.3398\" y2=\"93.3398\"/><text fill=\"#000000\" font-family=\"sans-serif\" font-size=\"11\" lengthAdjust=\"spacingAndGlyphs\" textLength=\"62\" x=\"36\" y=\"96.6479\">references</text><line style=\"stroke: #383838; stroke-width: 1.0;\" x1=\"98\" x2=\"101\" y1=\"93.3398\" y2=\"93.3398\"/><polygon fill=\"#FFFFFF\" points=\"72,591,88,591,95,613.2969,102,613.2969,102,643.5938,72,643.5938,72,591\" style=\"stroke: #000000; stroke-width: 1.5;\"/><line style=\"stroke: #000000; stroke-width: 1.5;\" x1=\"72\" x2=\"95\" y1=\"613.2969\" y2=\"613.2969\"/><text fill=\"#000000\" font-family=\"sans-serif\" font-size=\"14\" font-weight=\"bold\" lengthAdjust=\"spacingAndGlyphs\" textLength=\"10\" x=\"76\" y=\"605.9951\">P</text><!--MD5=[2720a5a1f2c3fca2055b230370638851]\n",
       "link E2 to E3--><path d=\"M155.49,102.28 C153.37,121.12 150.24,148.97 147.42,173.94 \" fill=\"none\" id=\"E2-&gt;E3\" style=\"stroke: #383838; stroke-width: 1.0;\"/><polygon fill=\"#FFFFFF\" points=\"145.17,193.98,140.3312,174.3182,154.244,175.8785,145.17,193.98\" style=\"stroke: #383838; stroke-width: 1.0;\"/><ellipse cx=\"142.954\" cy=\"168.8766\" fill=\"#383838\" rx=\"2\" ry=\"2\" style=\"stroke: #383838; stroke-width: 1.0;\"/><ellipse cx=\"152.8917\" cy=\"169.9911\" fill=\"#383838\" rx=\"2\" ry=\"2\" style=\"stroke: #383838; stroke-width: 1.0;\"/><!--MD5=[4672eba38e49728da53d11aeb285b987]\n",
       "reverse link E3 to E4--><path d=\"M133.6,283.33 C130.39,305.16 126.79,329.6 124.27,346.77 \" fill=\"none\" id=\"E3&lt;-E4\" style=\"stroke: #383838; stroke-width: 1.0;\"/><polygon fill=\"#383838\" points=\"135.53,270.16,130.6958,275.5108,133.7757,282.0311,138.6099,276.6803,135.53,270.16\" style=\"stroke: #383838; stroke-width: 1.0;\"/><!--MD5=[79568f1e445c3877b6a54524624ccc7d]\n",
       "link E4 to E6--><path d=\"M117.33,393.01 C115.42,404.51 112.97,419.17 110.56,433.62 \" fill=\"none\" id=\"E4-&gt;E6\" style=\"stroke: #383838; stroke-width: 1.0;\"/><polygon fill=\"#FFFFFF\" points=\"107.24,453.57,103.4565,433.6782,117.2663,435.9781,107.24,453.57\" style=\"stroke: #383838; stroke-width: 1.0;\"/><ellipse cx=\"106.3657\" cy=\"428.3842\" fill=\"#383838\" rx=\"2\" ry=\"2\" style=\"stroke: #383838; stroke-width: 1.0;\"/><ellipse cx=\"116.2299\" cy=\"430.027\" fill=\"#383838\" rx=\"2\" ry=\"2\" style=\"stroke: #383838; stroke-width: 1.0;\"/><!--MD5=[3f50a3473f1dfb74d3f76443e03635af]\n",
       "reverse link E6 to E7--><path d=\"M95.07,545.35 C93.28,561.08 91.4,577.65 89.91,590.83 \" fill=\"none\" id=\"E6&lt;-E7\" style=\"stroke: #383838; stroke-width: 1.0;\"/><ellipse cx=\"95.9015\" cy=\"537.9994\" fill=\"#FFFFFF\" rx=\"8\" ry=\"8\" style=\"stroke: #383838; stroke-width: 1.0;\"/><line style=\"stroke: #383838; stroke-width: 1.0;\" x1=\"95.003\" x2=\"96.8\" y1=\"545.9488\" y2=\"530.05\"/><line style=\"stroke: #383838; stroke-width: 1.0;\" x1=\"87.9521\" x2=\"103.8509\" y1=\"537.1009\" y2=\"538.8979\"/><!--MD5=[95fa686b5a16158bcdbcaeead89f639b]\n",
       "link E8 to E3--><path d=\"M159.5,594.44 C162.35,548.38 167.58,438.63 160,347 C158.45,328.29 155.5,308.02 152.37,289.84 \" fill=\"none\" id=\"E8-&gt;E3\" style=\"stroke: #383838; stroke-width: 1.0;\"/><polygon fill=\"#FFFFFF\" points=\"148.76,270.03,159.0537,287.4667,145.2807,289.9773,148.76,270.03\" style=\"stroke: #383838; stroke-width: 1.0;\"/><ellipse cx=\"158.1083\" cy=\"293.433\" fill=\"#383838\" rx=\"2\" ry=\"2\" style=\"stroke: #383838; stroke-width: 1.0;\"/><ellipse cx=\"148.2704\" cy=\"295.2262\" fill=\"#383838\" rx=\"2\" ry=\"2\" style=\"stroke: #383838; stroke-width: 1.0;\"/><!--MD5=[f4cf0736d43fd73c4ef68817c49d37d5]\n",
       "reverse link E6 to E8--><path d=\"M123.59,541.94 C131.93,560.02 140.98,579.62 147.7,594.19 \" fill=\"none\" id=\"E6&lt;-E8\" style=\"stroke: #383838; stroke-width: 1.0;\"/><polygon fill=\"#383838\" points=\"118.1,530.05,116.9809,537.1737,123.1262,540.9467,124.2453,533.8229,118.1,530.05\" style=\"stroke: #383838; stroke-width: 1.0;\"/><!--MD5=[8e04057e7b3cbc0dca4fc78ea351e2da]\n",
       "reverse link E10 to E3--><path d=\"M91.15,129.28 C101.44,150.28 113.25,174.38 122.79,193.84 \" fill=\"none\" id=\"E10&lt;-E3\" style=\"stroke: #383838; stroke-width: 1.0;\"/><polygon fill=\"#FFFFFF\" points=\"85.29,117.33,84.3358,124.4777,90.5667,128.1076,91.5209,120.9599,85.29,117.33\" style=\"stroke: #383838; stroke-width: 1.0;\"/><text fill=\"#000000\" font-family=\"sans-serif\" font-size=\"13\" lengthAdjust=\"spacingAndGlyphs\" textLength=\"7\" x=\"107\" y=\"160.0669\">y</text><!--MD5=[604cbf994c02b74b117f728a71673cea]\n",
       "reverse link E10 to E6--><path d=\"M67.56,130.48 C68.7,192.49 72.22,300.8 83,393 C85.37,413.27 89.38,435.68 93.01,453.94 \" fill=\"none\" id=\"E10&lt;-E6\" style=\"stroke: #383838; stroke-width: 1.0;\"/><polygon fill=\"#FFFFFF\" points=\"67.33,117.23,63.4361,123.2994,67.541,129.2281,71.4349,123.1588,67.33,117.23\" style=\"stroke: #383838; stroke-width: 1.0;\"/><text fill=\"#000000\" font-family=\"sans-serif\" font-size=\"13\" lengthAdjust=\"spacingAndGlyphs\" textLength=\"7\" x=\"76\" y=\"313.0669\">y</text><!--MD5=[901e7c7f319e9bb8d4b50a9915b16273]\n",
       "@startuml\r\n",
       "top to bottom direction\r\n",
       "skinparam monochrome true\r\n",
       "skinparam classbackgroundcolor white\r\n",
       "skinparam shadowing false\r\n",
       "skinparam wrapWidth 300\r\n",
       "hide circle\r\n",
       "\r\n",
       "package \"PartTest\" as E1   {\r\n",
       "comp usage \"f: A\" as E2  <<(T,blue)part>> {\r\n",
       "}\r\n",
       "comp def \"A\" as E3  <<(T,blue)part def>> {\r\n",
       "- -ports- -\r\n",
       "c: C\r\n",
       "}\r\n",
       "comp usage \"b: B\" as E4  <<(T,blue)part>> {\r\n",
       "}\r\n",
       "comp def \"B\" as E6  <<(T,blue)part def>> {\r\n",
       "- -ports- -\r\n",
       "x: ~C\r\n",
       "}\r\n",
       "package \"P\" as E7   {\r\n",
       "}\r\n",
       "comp usage \"a: A\" as E8  <<(T,blue)part>> {\r\n",
       "}\r\n",
       "comp def \"C\" as E10  <<(T,blue)port def>> {\r\n",
       "- -references- -\r\n",
       "y: A <b>as</b> z2 \r\n",
       "}\r\n",
       "E2 - -:|> E3\r\n",
       "E3 *- - E4\r\n",
       "E4 - -:|> E6\r\n",
       "E6 +- - E7\r\n",
       "E8 - -:|> E3\r\n",
       "E6 *- - E8\r\n",
       "E10 o- - E3 : y\r\n",
       "E10 o- - E6 : y\r\n",
       "}\r\n",
       "@enduml\r\n",
       "\n",
       "PlantUML version 1.2020.13(Sat Jun 13 12:26:38 UTC 2020)\n",
       "(EPL source distribution)\n",
       "Java Runtime: OpenJDK Runtime Environment\n",
       "JVM: OpenJDK 64-Bit Server VM\n",
       "Default Encoding: UTF-8\n",
       "Language: en\n",
       "Country: null\n",
       "--></g></svg>"
      ]
     },
     "execution_count": 49,
     "metadata": {},
     "output_type": "execute_result"
    }
   ],
   "source": [
    "%viz --style=\"TB\" --view=\"Sequence\" \"PartTest\""
   ]
  },
  {
   "cell_type": "code",
   "execution_count": 50,
   "id": "attempted-bishop",
   "metadata": {
    "execution": {
     "iopub.execute_input": "2021-03-25T16:06:38.999801Z",
     "iopub.status.busy": "2021-03-25T16:06:38.999262Z",
     "iopub.status.idle": "2021-03-25T16:06:39.333017Z",
     "shell.execute_reply": "2021-03-25T16:06:39.331025Z"
    }
   },
   "outputs": [
    {
     "data": {
      "image/svg+xml": [
       "<?xml version=\"1.0\" encoding=\"UTF-8\" standalone=\"no\"?><svg xmlns=\"http://www.w3.org/2000/svg\" xmlns:xlink=\"http://www.w3.org/1999/xlink\" contentScriptType=\"application/ecmascript\" contentStyleType=\"text/css\" height=\"672px\" preserveAspectRatio=\"none\" style=\"width:217px;height:672px;\" version=\"1.1\" viewBox=\"0 0 217 672\" width=\"217px\" zoomAndPan=\"magnify\"><defs/><g><!--MD5=[fbc87193dbaf4d95561dea2c320d4a47]\n",
       "cluster E1--><polygon fill=\"#FFFFFF\" points=\"16,6,89,6,96,28.2969,195,28.2969,195,660,16,660,16,6\" style=\"stroke: #000000; stroke-width: 1.5;\"/><line style=\"stroke: #000000; stroke-width: 1.5;\" x1=\"16\" x2=\"96\" y1=\"28.2969\" y2=\"28.2969\"/><text fill=\"#000000\" font-family=\"sans-serif\" font-size=\"14\" font-weight=\"bold\" lengthAdjust=\"spacingAndGlyphs\" textLength=\"67\" x=\"20\" y=\"20.9951\">PartTest</text><!--MD5=[b4997ac47864f28c2f74865a473b2911]\n",
       "class E2--><rect fill=\"#FFFFFF\" height=\"45.9375\" id=\"E2\" rx=\"10\" ry=\"10\" style=\"stroke: #383838; stroke-width: 1.5;\" width=\"42\" x=\"137\" y=\"56\"/><text fill=\"#000000\" font-family=\"sans-serif\" font-size=\"12\" font-style=\"italic\" lengthAdjust=\"spacingAndGlyphs\" textLength=\"40\" x=\"138\" y=\"72.1387\">«part»</text><text fill=\"#000000\" font-family=\"sans-serif\" font-size=\"12\" lengthAdjust=\"spacingAndGlyphs\" textLength=\"20\" x=\"148\" y=\"86.1074\">f: A</text><line style=\"stroke: #383838; stroke-width: 1.5;\" x1=\"138\" x2=\"178\" y1=\"93.9375\" y2=\"93.9375\"/><!--MD5=[09b614a08d8cba4a07c9adeb5e0fee81]\n",
       "class E3--><rect fill=\"#FFFFFF\" height=\"75.5469\" id=\"E3\" style=\"stroke: #383838; stroke-width: 1.5;\" width=\"66\" x=\"108\" y=\"194\"/><text fill=\"#000000\" font-family=\"sans-serif\" font-size=\"12\" font-style=\"italic\" lengthAdjust=\"spacingAndGlyphs\" textLength=\"64\" x=\"109\" y=\"210.1387\">«part def»</text><text fill=\"#000000\" font-family=\"sans-serif\" font-size=\"12\" lengthAdjust=\"spacingAndGlyphs\" textLength=\"8\" x=\"137\" y=\"224.1074\">A</text><line style=\"stroke: #383838; stroke-width: 1.5;\" x1=\"109\" x2=\"173\" y1=\"231.9375\" y2=\"231.9375\"/><text fill=\"#000000\" font-family=\"sans-serif\" font-size=\"11\" lengthAdjust=\"spacingAndGlyphs\" textLength=\"22\" x=\"114\" y=\"262.9526\">c: C</text><line style=\"stroke: #383838; stroke-width: 1.0;\" x1=\"109\" x2=\"126\" y1=\"246.3398\" y2=\"246.3398\"/><text fill=\"#000000\" font-family=\"sans-serif\" font-size=\"11\" lengthAdjust=\"spacingAndGlyphs\" textLength=\"30\" x=\"126\" y=\"249.6479\">ports</text><line style=\"stroke: #383838; stroke-width: 1.0;\" x1=\"156\" x2=\"173\" y1=\"246.3398\" y2=\"246.3398\"/><!--MD5=[ebbe1d658d1005bcc118a6aa81145e00]\n",
       "class E4--><rect fill=\"#FFFFFF\" height=\"45.9375\" id=\"E4\" rx=\"10\" ry=\"10\" style=\"stroke: #383838; stroke-width: 1.5;\" width=\"42\" x=\"100\" y=\"347\"/><text fill=\"#000000\" font-family=\"sans-serif\" font-size=\"12\" font-style=\"italic\" lengthAdjust=\"spacingAndGlyphs\" textLength=\"40\" x=\"101\" y=\"363.1387\">«part»</text><text fill=\"#000000\" font-family=\"sans-serif\" font-size=\"12\" lengthAdjust=\"spacingAndGlyphs\" textLength=\"24\" x=\"109\" y=\"377.1074\">b: B</text><line style=\"stroke: #383838; stroke-width: 1.5;\" x1=\"101\" x2=\"141\" y1=\"384.9375\" y2=\"384.9375\"/><!--MD5=[60a26617385b1d2d0262a64233df1f8d]\n",
       "class E6--><rect fill=\"#FFFFFF\" height=\"75.5469\" id=\"E6\" style=\"stroke: #383838; stroke-width: 1.5;\" width=\"66\" x=\"68\" y=\"454\"/><text fill=\"#000000\" font-family=\"sans-serif\" font-size=\"12\" font-style=\"italic\" lengthAdjust=\"spacingAndGlyphs\" textLength=\"64\" x=\"69\" y=\"470.1387\">«part def»</text><text fill=\"#000000\" font-family=\"sans-serif\" font-size=\"12\" lengthAdjust=\"spacingAndGlyphs\" textLength=\"8\" x=\"97\" y=\"484.1074\">B</text><line style=\"stroke: #383838; stroke-width: 1.5;\" x1=\"69\" x2=\"133\" y1=\"491.9375\" y2=\"491.9375\"/><text fill=\"#000000\" font-family=\"sans-serif\" font-size=\"11\" lengthAdjust=\"spacingAndGlyphs\" textLength=\"31\" x=\"74\" y=\"522.9526\">x: ~C</text><line style=\"stroke: #383838; stroke-width: 1.0;\" x1=\"69\" x2=\"86\" y1=\"506.3398\" y2=\"506.3398\"/><text fill=\"#000000\" font-family=\"sans-serif\" font-size=\"11\" lengthAdjust=\"spacingAndGlyphs\" textLength=\"30\" x=\"86\" y=\"509.6479\">ports</text><line style=\"stroke: #383838; stroke-width: 1.0;\" x1=\"116\" x2=\"133\" y1=\"506.3398\" y2=\"506.3398\"/><!--MD5=[b9389687b975829384b498ac4b7476b2]\n",
       "class E8--><rect fill=\"#FFFFFF\" height=\"45.9375\" id=\"E8\" rx=\"10\" ry=\"10\" style=\"stroke: #383838; stroke-width: 1.5;\" width=\"42\" x=\"137\" y=\"594.5\"/><text fill=\"#000000\" font-family=\"sans-serif\" font-size=\"12\" font-style=\"italic\" lengthAdjust=\"spacingAndGlyphs\" textLength=\"40\" x=\"138\" y=\"610.6387\">«part»</text><text fill=\"#000000\" font-family=\"sans-serif\" font-size=\"12\" lengthAdjust=\"spacingAndGlyphs\" textLength=\"24\" x=\"146\" y=\"624.6074\">a: A</text><line style=\"stroke: #383838; stroke-width: 1.5;\" x1=\"138\" x2=\"178\" y1=\"632.4375\" y2=\"632.4375\"/><!--MD5=[96f4274e9e20536e775497830990834d]\n",
       "class E10--><rect fill=\"#FFFFFF\" height=\"75.5469\" id=\"E10\" style=\"stroke: #383838; stroke-width: 1.5;\" width=\"70\" x=\"32\" y=\"41\"/><text fill=\"#000000\" font-family=\"sans-serif\" font-size=\"12\" font-style=\"italic\" lengthAdjust=\"spacingAndGlyphs\" textLength=\"64\" x=\"35\" y=\"57.1387\">«port def»</text><text fill=\"#000000\" font-family=\"sans-serif\" font-size=\"12\" lengthAdjust=\"spacingAndGlyphs\" textLength=\"8\" x=\"63\" y=\"71.1074\">C</text><line style=\"stroke: #383838; stroke-width: 1.5;\" x1=\"33\" x2=\"101\" y1=\"78.9375\" y2=\"78.9375\"/><text fill=\"#000000\" font-family=\"sans-serif\" font-size=\"11\" lengthAdjust=\"spacingAndGlyphs\" textLength=\"21\" x=\"38\" y=\"109.9526\">y: A</text><text fill=\"#000000\" font-family=\"sans-serif\" font-size=\"11\" font-weight=\"bold\" lengthAdjust=\"spacingAndGlyphs\" textLength=\"15\" x=\"63\" y=\"109.9526\">as</text><text fill=\"#000000\" font-family=\"sans-serif\" font-size=\"11\" lengthAdjust=\"spacingAndGlyphs\" textLength=\"12\" x=\"82\" y=\"109.9526\">z2</text><line style=\"stroke: #383838; stroke-width: 1.0;\" x1=\"33\" x2=\"36\" y1=\"93.3398\" y2=\"93.3398\"/><text fill=\"#000000\" font-family=\"sans-serif\" font-size=\"11\" lengthAdjust=\"spacingAndGlyphs\" textLength=\"62\" x=\"36\" y=\"96.6479\">references</text><line style=\"stroke: #383838; stroke-width: 1.0;\" x1=\"98\" x2=\"101\" y1=\"93.3398\" y2=\"93.3398\"/><polygon fill=\"#FFFFFF\" points=\"72,591,88,591,95,613.2969,102,613.2969,102,643.5938,72,643.5938,72,591\" style=\"stroke: #000000; stroke-width: 1.5;\"/><line style=\"stroke: #000000; stroke-width: 1.5;\" x1=\"72\" x2=\"95\" y1=\"613.2969\" y2=\"613.2969\"/><text fill=\"#000000\" font-family=\"sans-serif\" font-size=\"14\" font-weight=\"bold\" lengthAdjust=\"spacingAndGlyphs\" textLength=\"10\" x=\"76\" y=\"605.9951\">P</text><!--MD5=[2720a5a1f2c3fca2055b230370638851]\n",
       "link E2 to E3--><path d=\"M155.49,102.28 C153.37,121.12 150.24,148.97 147.42,173.94 \" fill=\"none\" id=\"E2-&gt;E3\" style=\"stroke: #383838; stroke-width: 1.0;\"/><polygon fill=\"#FFFFFF\" points=\"145.17,193.98,140.3312,174.3182,154.244,175.8785,145.17,193.98\" style=\"stroke: #383838; stroke-width: 1.0;\"/><ellipse cx=\"142.954\" cy=\"168.8766\" fill=\"#383838\" rx=\"2\" ry=\"2\" style=\"stroke: #383838; stroke-width: 1.0;\"/><ellipse cx=\"152.8917\" cy=\"169.9911\" fill=\"#383838\" rx=\"2\" ry=\"2\" style=\"stroke: #383838; stroke-width: 1.0;\"/><!--MD5=[4672eba38e49728da53d11aeb285b987]\n",
       "reverse link E3 to E4--><path d=\"M133.6,283.33 C130.39,305.16 126.79,329.6 124.27,346.77 \" fill=\"none\" id=\"E3&lt;-E4\" style=\"stroke: #383838; stroke-width: 1.0;\"/><polygon fill=\"#383838\" points=\"135.53,270.16,130.6958,275.5108,133.7757,282.0311,138.6099,276.6803,135.53,270.16\" style=\"stroke: #383838; stroke-width: 1.0;\"/><!--MD5=[79568f1e445c3877b6a54524624ccc7d]\n",
       "link E4 to E6--><path d=\"M117.33,393.01 C115.42,404.51 112.97,419.17 110.56,433.62 \" fill=\"none\" id=\"E4-&gt;E6\" style=\"stroke: #383838; stroke-width: 1.0;\"/><polygon fill=\"#FFFFFF\" points=\"107.24,453.57,103.4565,433.6782,117.2663,435.9781,107.24,453.57\" style=\"stroke: #383838; stroke-width: 1.0;\"/><ellipse cx=\"106.3657\" cy=\"428.3842\" fill=\"#383838\" rx=\"2\" ry=\"2\" style=\"stroke: #383838; stroke-width: 1.0;\"/><ellipse cx=\"116.2299\" cy=\"430.027\" fill=\"#383838\" rx=\"2\" ry=\"2\" style=\"stroke: #383838; stroke-width: 1.0;\"/><!--MD5=[3f50a3473f1dfb74d3f76443e03635af]\n",
       "reverse link E6 to E7--><path d=\"M95.07,545.35 C93.28,561.08 91.4,577.65 89.91,590.83 \" fill=\"none\" id=\"E6&lt;-E7\" style=\"stroke: #383838; stroke-width: 1.0;\"/><ellipse cx=\"95.9015\" cy=\"537.9994\" fill=\"#FFFFFF\" rx=\"8\" ry=\"8\" style=\"stroke: #383838; stroke-width: 1.0;\"/><line style=\"stroke: #383838; stroke-width: 1.0;\" x1=\"95.003\" x2=\"96.8\" y1=\"545.9488\" y2=\"530.05\"/><line style=\"stroke: #383838; stroke-width: 1.0;\" x1=\"87.9521\" x2=\"103.8509\" y1=\"537.1009\" y2=\"538.8979\"/><!--MD5=[95fa686b5a16158bcdbcaeead89f639b]\n",
       "link E8 to E3--><path d=\"M159.5,594.44 C162.35,548.38 167.58,438.63 160,347 C158.45,328.29 155.5,308.02 152.37,289.84 \" fill=\"none\" id=\"E8-&gt;E3\" style=\"stroke: #383838; stroke-width: 1.0;\"/><polygon fill=\"#FFFFFF\" points=\"148.76,270.03,159.0537,287.4667,145.2807,289.9773,148.76,270.03\" style=\"stroke: #383838; stroke-width: 1.0;\"/><ellipse cx=\"158.1083\" cy=\"293.433\" fill=\"#383838\" rx=\"2\" ry=\"2\" style=\"stroke: #383838; stroke-width: 1.0;\"/><ellipse cx=\"148.2704\" cy=\"295.2262\" fill=\"#383838\" rx=\"2\" ry=\"2\" style=\"stroke: #383838; stroke-width: 1.0;\"/><!--MD5=[f4cf0736d43fd73c4ef68817c49d37d5]\n",
       "reverse link E6 to E8--><path d=\"M123.59,541.94 C131.93,560.02 140.98,579.62 147.7,594.19 \" fill=\"none\" id=\"E6&lt;-E8\" style=\"stroke: #383838; stroke-width: 1.0;\"/><polygon fill=\"#383838\" points=\"118.1,530.05,116.9809,537.1737,123.1262,540.9467,124.2453,533.8229,118.1,530.05\" style=\"stroke: #383838; stroke-width: 1.0;\"/><!--MD5=[8e04057e7b3cbc0dca4fc78ea351e2da]\n",
       "reverse link E10 to E3--><path d=\"M91.15,129.28 C101.44,150.28 113.25,174.38 122.79,193.84 \" fill=\"none\" id=\"E10&lt;-E3\" style=\"stroke: #383838; stroke-width: 1.0;\"/><polygon fill=\"#FFFFFF\" points=\"85.29,117.33,84.3358,124.4777,90.5667,128.1076,91.5209,120.9599,85.29,117.33\" style=\"stroke: #383838; stroke-width: 1.0;\"/><text fill=\"#000000\" font-family=\"sans-serif\" font-size=\"13\" lengthAdjust=\"spacingAndGlyphs\" textLength=\"7\" x=\"107\" y=\"160.0669\">y</text><!--MD5=[604cbf994c02b74b117f728a71673cea]\n",
       "reverse link E10 to E6--><path d=\"M67.56,130.48 C68.7,192.49 72.22,300.8 83,393 C85.37,413.27 89.38,435.68 93.01,453.94 \" fill=\"none\" id=\"E10&lt;-E6\" style=\"stroke: #383838; stroke-width: 1.0;\"/><polygon fill=\"#FFFFFF\" points=\"67.33,117.23,63.4361,123.2994,67.541,129.2281,71.4349,123.1588,67.33,117.23\" style=\"stroke: #383838; stroke-width: 1.0;\"/><text fill=\"#000000\" font-family=\"sans-serif\" font-size=\"13\" lengthAdjust=\"spacingAndGlyphs\" textLength=\"7\" x=\"76\" y=\"313.0669\">y</text><!--MD5=[901e7c7f319e9bb8d4b50a9915b16273]\n",
       "@startuml\r\n",
       "top to bottom direction\r\n",
       "skinparam monochrome true\r\n",
       "skinparam classbackgroundcolor white\r\n",
       "skinparam shadowing false\r\n",
       "skinparam wrapWidth 300\r\n",
       "hide circle\r\n",
       "\r\n",
       "package \"PartTest\" as E1   {\r\n",
       "comp usage \"f: A\" as E2  <<(T,blue)part>> {\r\n",
       "}\r\n",
       "comp def \"A\" as E3  <<(T,blue)part def>> {\r\n",
       "- -ports- -\r\n",
       "c: C\r\n",
       "}\r\n",
       "comp usage \"b: B\" as E4  <<(T,blue)part>> {\r\n",
       "}\r\n",
       "comp def \"B\" as E6  <<(T,blue)part def>> {\r\n",
       "- -ports- -\r\n",
       "x: ~C\r\n",
       "}\r\n",
       "package \"P\" as E7   {\r\n",
       "}\r\n",
       "comp usage \"a: A\" as E8  <<(T,blue)part>> {\r\n",
       "}\r\n",
       "comp def \"C\" as E10  <<(T,blue)port def>> {\r\n",
       "- -references- -\r\n",
       "y: A <b>as</b> z2 \r\n",
       "}\r\n",
       "E2 - -:|> E3\r\n",
       "E3 *- - E4\r\n",
       "E4 - -:|> E6\r\n",
       "E6 +- - E7\r\n",
       "E8 - -:|> E3\r\n",
       "E6 *- - E8\r\n",
       "E10 o- - E3 : y\r\n",
       "E10 o- - E6 : y\r\n",
       "}\r\n",
       "@enduml\r\n",
       "\n",
       "PlantUML version 1.2020.13(Sat Jun 13 12:26:38 UTC 2020)\n",
       "(EPL source distribution)\n",
       "Java Runtime: OpenJDK Runtime Environment\n",
       "JVM: OpenJDK 64-Bit Server VM\n",
       "Default Encoding: UTF-8\n",
       "Language: en\n",
       "Country: null\n",
       "--></g></svg>"
      ]
     },
     "execution_count": 50,
     "metadata": {},
     "output_type": "execute_result"
    }
   ],
   "source": [
    "%viz --style=\"TB\" --view=\"MIXED\" \"PartTest\""
   ]
  },
  {
   "cell_type": "code",
   "execution_count": 51,
   "id": "specific-specific",
   "metadata": {
    "execution": {
     "iopub.execute_input": "2021-03-25T16:06:39.383310Z",
     "iopub.status.busy": "2021-03-25T16:06:39.382828Z",
     "iopub.status.idle": "2021-03-25T16:06:39.718488Z",
     "shell.execute_reply": "2021-03-25T16:06:39.717199Z"
    }
   },
   "outputs": [
    {
     "data": {
      "image/svg+xml": [
       "<?xml version=\"1.0\" encoding=\"UTF-8\" standalone=\"no\"?><svg xmlns=\"http://www.w3.org/2000/svg\" xmlns:xlink=\"http://www.w3.org/1999/xlink\" contentScriptType=\"application/ecmascript\" contentStyleType=\"text/css\" height=\"672px\" preserveAspectRatio=\"none\" style=\"width:217px;height:672px;\" version=\"1.1\" viewBox=\"0 0 217 672\" width=\"217px\" zoomAndPan=\"magnify\"><defs/><g><!--MD5=[fbc87193dbaf4d95561dea2c320d4a47]\n",
       "cluster E1--><polygon fill=\"#FFFFFF\" points=\"16,6,89,6,96,28.2969,195,28.2969,195,660,16,660,16,6\" style=\"stroke: #000000; stroke-width: 1.5;\"/><line style=\"stroke: #000000; stroke-width: 1.5;\" x1=\"16\" x2=\"96\" y1=\"28.2969\" y2=\"28.2969\"/><text fill=\"#000000\" font-family=\"sans-serif\" font-size=\"14\" font-weight=\"bold\" lengthAdjust=\"spacingAndGlyphs\" textLength=\"67\" x=\"20\" y=\"20.9951\">PartTest</text><!--MD5=[b4997ac47864f28c2f74865a473b2911]\n",
       "class E2--><rect fill=\"#FFFFFF\" height=\"45.9375\" id=\"E2\" rx=\"10\" ry=\"10\" style=\"stroke: #383838; stroke-width: 1.5;\" width=\"42\" x=\"137\" y=\"56\"/><text fill=\"#000000\" font-family=\"sans-serif\" font-size=\"12\" font-style=\"italic\" lengthAdjust=\"spacingAndGlyphs\" textLength=\"40\" x=\"138\" y=\"72.1387\">«part»</text><text fill=\"#000000\" font-family=\"sans-serif\" font-size=\"12\" lengthAdjust=\"spacingAndGlyphs\" textLength=\"20\" x=\"148\" y=\"86.1074\">f: A</text><line style=\"stroke: #383838; stroke-width: 1.5;\" x1=\"138\" x2=\"178\" y1=\"93.9375\" y2=\"93.9375\"/><!--MD5=[09b614a08d8cba4a07c9adeb5e0fee81]\n",
       "class E3--><rect fill=\"#FFFFFF\" height=\"75.5469\" id=\"E3\" style=\"stroke: #383838; stroke-width: 1.5;\" width=\"66\" x=\"108\" y=\"194\"/><text fill=\"#000000\" font-family=\"sans-serif\" font-size=\"12\" font-style=\"italic\" lengthAdjust=\"spacingAndGlyphs\" textLength=\"64\" x=\"109\" y=\"210.1387\">«part def»</text><text fill=\"#000000\" font-family=\"sans-serif\" font-size=\"12\" lengthAdjust=\"spacingAndGlyphs\" textLength=\"8\" x=\"137\" y=\"224.1074\">A</text><line style=\"stroke: #383838; stroke-width: 1.5;\" x1=\"109\" x2=\"173\" y1=\"231.9375\" y2=\"231.9375\"/><text fill=\"#000000\" font-family=\"sans-serif\" font-size=\"11\" lengthAdjust=\"spacingAndGlyphs\" textLength=\"22\" x=\"114\" y=\"262.9526\">c: C</text><line style=\"stroke: #383838; stroke-width: 1.0;\" x1=\"109\" x2=\"126\" y1=\"246.3398\" y2=\"246.3398\"/><text fill=\"#000000\" font-family=\"sans-serif\" font-size=\"11\" lengthAdjust=\"spacingAndGlyphs\" textLength=\"30\" x=\"126\" y=\"249.6479\">ports</text><line style=\"stroke: #383838; stroke-width: 1.0;\" x1=\"156\" x2=\"173\" y1=\"246.3398\" y2=\"246.3398\"/><!--MD5=[ebbe1d658d1005bcc118a6aa81145e00]\n",
       "class E4--><rect fill=\"#FFFFFF\" height=\"45.9375\" id=\"E4\" rx=\"10\" ry=\"10\" style=\"stroke: #383838; stroke-width: 1.5;\" width=\"42\" x=\"100\" y=\"347\"/><text fill=\"#000000\" font-family=\"sans-serif\" font-size=\"12\" font-style=\"italic\" lengthAdjust=\"spacingAndGlyphs\" textLength=\"40\" x=\"101\" y=\"363.1387\">«part»</text><text fill=\"#000000\" font-family=\"sans-serif\" font-size=\"12\" lengthAdjust=\"spacingAndGlyphs\" textLength=\"24\" x=\"109\" y=\"377.1074\">b: B</text><line style=\"stroke: #383838; stroke-width: 1.5;\" x1=\"101\" x2=\"141\" y1=\"384.9375\" y2=\"384.9375\"/><!--MD5=[60a26617385b1d2d0262a64233df1f8d]\n",
       "class E6--><rect fill=\"#FFFFFF\" height=\"75.5469\" id=\"E6\" style=\"stroke: #383838; stroke-width: 1.5;\" width=\"66\" x=\"68\" y=\"454\"/><text fill=\"#000000\" font-family=\"sans-serif\" font-size=\"12\" font-style=\"italic\" lengthAdjust=\"spacingAndGlyphs\" textLength=\"64\" x=\"69\" y=\"470.1387\">«part def»</text><text fill=\"#000000\" font-family=\"sans-serif\" font-size=\"12\" lengthAdjust=\"spacingAndGlyphs\" textLength=\"8\" x=\"97\" y=\"484.1074\">B</text><line style=\"stroke: #383838; stroke-width: 1.5;\" x1=\"69\" x2=\"133\" y1=\"491.9375\" y2=\"491.9375\"/><text fill=\"#000000\" font-family=\"sans-serif\" font-size=\"11\" lengthAdjust=\"spacingAndGlyphs\" textLength=\"31\" x=\"74\" y=\"522.9526\">x: ~C</text><line style=\"stroke: #383838; stroke-width: 1.0;\" x1=\"69\" x2=\"86\" y1=\"506.3398\" y2=\"506.3398\"/><text fill=\"#000000\" font-family=\"sans-serif\" font-size=\"11\" lengthAdjust=\"spacingAndGlyphs\" textLength=\"30\" x=\"86\" y=\"509.6479\">ports</text><line style=\"stroke: #383838; stroke-width: 1.0;\" x1=\"116\" x2=\"133\" y1=\"506.3398\" y2=\"506.3398\"/><!--MD5=[b9389687b975829384b498ac4b7476b2]\n",
       "class E8--><rect fill=\"#FFFFFF\" height=\"45.9375\" id=\"E8\" rx=\"10\" ry=\"10\" style=\"stroke: #383838; stroke-width: 1.5;\" width=\"42\" x=\"137\" y=\"594.5\"/><text fill=\"#000000\" font-family=\"sans-serif\" font-size=\"12\" font-style=\"italic\" lengthAdjust=\"spacingAndGlyphs\" textLength=\"40\" x=\"138\" y=\"610.6387\">«part»</text><text fill=\"#000000\" font-family=\"sans-serif\" font-size=\"12\" lengthAdjust=\"spacingAndGlyphs\" textLength=\"24\" x=\"146\" y=\"624.6074\">a: A</text><line style=\"stroke: #383838; stroke-width: 1.5;\" x1=\"138\" x2=\"178\" y1=\"632.4375\" y2=\"632.4375\"/><!--MD5=[96f4274e9e20536e775497830990834d]\n",
       "class E10--><rect fill=\"#FFFFFF\" height=\"75.5469\" id=\"E10\" style=\"stroke: #383838; stroke-width: 1.5;\" width=\"70\" x=\"32\" y=\"41\"/><text fill=\"#000000\" font-family=\"sans-serif\" font-size=\"12\" font-style=\"italic\" lengthAdjust=\"spacingAndGlyphs\" textLength=\"64\" x=\"35\" y=\"57.1387\">«port def»</text><text fill=\"#000000\" font-family=\"sans-serif\" font-size=\"12\" lengthAdjust=\"spacingAndGlyphs\" textLength=\"8\" x=\"63\" y=\"71.1074\">C</text><line style=\"stroke: #383838; stroke-width: 1.5;\" x1=\"33\" x2=\"101\" y1=\"78.9375\" y2=\"78.9375\"/><text fill=\"#000000\" font-family=\"sans-serif\" font-size=\"11\" lengthAdjust=\"spacingAndGlyphs\" textLength=\"21\" x=\"38\" y=\"109.9526\">y: A</text><text fill=\"#000000\" font-family=\"sans-serif\" font-size=\"11\" font-weight=\"bold\" lengthAdjust=\"spacingAndGlyphs\" textLength=\"15\" x=\"63\" y=\"109.9526\">as</text><text fill=\"#000000\" font-family=\"sans-serif\" font-size=\"11\" lengthAdjust=\"spacingAndGlyphs\" textLength=\"12\" x=\"82\" y=\"109.9526\">z2</text><line style=\"stroke: #383838; stroke-width: 1.0;\" x1=\"33\" x2=\"36\" y1=\"93.3398\" y2=\"93.3398\"/><text fill=\"#000000\" font-family=\"sans-serif\" font-size=\"11\" lengthAdjust=\"spacingAndGlyphs\" textLength=\"62\" x=\"36\" y=\"96.6479\">references</text><line style=\"stroke: #383838; stroke-width: 1.0;\" x1=\"98\" x2=\"101\" y1=\"93.3398\" y2=\"93.3398\"/><polygon fill=\"#FFFFFF\" points=\"72,591,88,591,95,613.2969,102,613.2969,102,643.5938,72,643.5938,72,591\" style=\"stroke: #000000; stroke-width: 1.5;\"/><line style=\"stroke: #000000; stroke-width: 1.5;\" x1=\"72\" x2=\"95\" y1=\"613.2969\" y2=\"613.2969\"/><text fill=\"#000000\" font-family=\"sans-serif\" font-size=\"14\" font-weight=\"bold\" lengthAdjust=\"spacingAndGlyphs\" textLength=\"10\" x=\"76\" y=\"605.9951\">P</text><!--MD5=[2720a5a1f2c3fca2055b230370638851]\n",
       "link E2 to E3--><path d=\"M155.5,102.24 C155.5,102.24 155.5,173.94 155.5,173.94 \" fill=\"none\" id=\"E2-&gt;E3\" style=\"stroke: #383838; stroke-width: 1.0;\"/><polygon fill=\"#FFFFFF\" points=\"155.5,193.94,148.5,174.94,162.5,174.94,155.5,193.94\" style=\"stroke: #383838; stroke-width: 1.0;\"/><ellipse cx=\"150.5\" cy=\"169.24\" fill=\"#383838\" rx=\"2\" ry=\"2\" style=\"stroke: #383838; stroke-width: 1.0;\"/><ellipse cx=\"160.5\" cy=\"169.24\" fill=\"#383838\" rx=\"2\" ry=\"2\" style=\"stroke: #383838; stroke-width: 1.0;\"/><!--MD5=[4672eba38e49728da53d11aeb285b987]\n",
       "reverse link E3 to E4--><path d=\"M125,283.07 C125,283.07 125,346.75 125,346.75 \" fill=\"none\" id=\"E3&lt;-E4\" style=\"stroke: #383838; stroke-width: 1.0;\"/><polygon fill=\"#383838\" points=\"125,270.07,121,276.07,125,282.07,129,276.07,125,270.07\" style=\"stroke: #383838; stroke-width: 1.0;\"/><!--MD5=[79568f1e445c3877b6a54524624ccc7d]\n",
       "link E4 to E6--><path d=\"M117,393.23 C117,393.23 117,433.98 117,433.98 \" fill=\"none\" id=\"E4-&gt;E6\" style=\"stroke: #383838; stroke-width: 1.0;\"/><polygon fill=\"#FFFFFF\" points=\"117,453.98,110,434.98,124,434.98,117,453.98\" style=\"stroke: #383838; stroke-width: 1.0;\"/><ellipse cx=\"112\" cy=\"429.28\" fill=\"#383838\" rx=\"2\" ry=\"2\" style=\"stroke: #383838; stroke-width: 1.0;\"/><ellipse cx=\"122\" cy=\"429.28\" fill=\"#383838\" rx=\"2\" ry=\"2\" style=\"stroke: #383838; stroke-width: 1.0;\"/><!--MD5=[3f50a3473f1dfb74d3f76443e03635af]\n",
       "reverse link E6 to E7--><path d=\"M87,545.34 C87,545.34 87,590.92 87,590.92 \" fill=\"none\" id=\"E6&lt;-E7\" style=\"stroke: #383838; stroke-width: 1.0;\"/><ellipse cx=\"87\" cy=\"538.34\" fill=\"#FFFFFF\" rx=\"8\" ry=\"8\" style=\"stroke: #383838; stroke-width: 1.0;\"/><line style=\"stroke: #383838; stroke-width: 1.0;\" x1=\"87\" x2=\"87\" y1=\"546.34\" y2=\"530.34\"/><line style=\"stroke: #383838; stroke-width: 1.0;\" x1=\"79\" x2=\"95\" y1=\"538.34\" y2=\"538.34\"/><!--MD5=[95fa686b5a16158bcdbcaeead89f639b]\n",
       "link E8 to E3--><path d=\"M158,594.25 C158,594.25 158,290.03 158,290.03 \" fill=\"none\" id=\"E8-&gt;E3\" style=\"stroke: #383838; stroke-width: 1.0;\"/><polygon fill=\"#FFFFFF\" points=\"158,270.03,165,289.03,151,289.03,158,270.03\" style=\"stroke: #383838; stroke-width: 1.0;\"/><ellipse cx=\"163\" cy=\"294.73\" fill=\"#383838\" rx=\"2\" ry=\"2\" style=\"stroke: #383838; stroke-width: 1.0;\"/><ellipse cx=\"153\" cy=\"294.73\" fill=\"#383838\" rx=\"2\" ry=\"2\" style=\"stroke: #383838; stroke-width: 1.0;\"/><!--MD5=[f4cf0736d43fd73c4ef68817c49d37d5]\n",
       "reverse link E6 to E8--><path d=\"M118,543.15 C118,543.15 118,618 118,618 C118,618 127.08,618 136.59,618 \" fill=\"none\" id=\"E6&lt;-E8\" style=\"stroke: #383838; stroke-width: 1.0;\"/><polygon fill=\"#383838\" points=\"118,530.15,114,536.15,118,542.15,122,536.15,118,530.15\" style=\"stroke: #383838; stroke-width: 1.0;\"/><!--MD5=[8e04057e7b3cbc0dca4fc78ea351e2da]\n",
       "reverse link E10 to E3--><path d=\"M115.15,110 C115.15,110 122.5,110 122.5,110 C122.5,110 122.5,157.95 122.5,193.73 \" fill=\"none\" id=\"E10&lt;-E3\" style=\"stroke: #383838; stroke-width: 1.0;\"/><polygon fill=\"#FFFFFF\" points=\"102.15,110,108.15,114,114.15,110,108.15,106,102.15,110\" style=\"stroke: #383838; stroke-width: 1.0;\"/><text fill=\"#000000\" font-family=\"sans-serif\" font-size=\"13\" lengthAdjust=\"spacingAndGlyphs\" textLength=\"7\" x=\"129\" y=\"160.0669\">y</text><!--MD5=[604cbf994c02b74b117f728a71673cea]\n",
       "reverse link E10 to E6--><path d=\"M84,130.11 C84,130.11 84,453.98 84,453.98 \" fill=\"none\" id=\"E10&lt;-E6\" style=\"stroke: #383838; stroke-width: 1.0;\"/><polygon fill=\"#FFFFFF\" points=\"84,117.11,80,123.11,84,129.11,88,123.11,84,117.11\" style=\"stroke: #383838; stroke-width: 1.0;\"/><text fill=\"#000000\" font-family=\"sans-serif\" font-size=\"13\" lengthAdjust=\"spacingAndGlyphs\" textLength=\"7\" x=\"68\" y=\"313.0669\">y</text><!--MD5=[03ff2092b0de1fe7828a80093581c61b]\n",
       "@startuml\r\n",
       "skinparam linetype ortho\r\n",
       "skinparam monochrome true\r\n",
       "skinparam classbackgroundcolor white\r\n",
       "skinparam shadowing false\r\n",
       "skinparam wrapWidth 300\r\n",
       "hide circle\r\n",
       "\r\n",
       "package \"PartTest\" as E1   {\r\n",
       "comp usage \"f: A\" as E2  <<(T,blue)part>> {\r\n",
       "}\r\n",
       "comp def \"A\" as E3  <<(T,blue)part def>> {\r\n",
       "- -ports- -\r\n",
       "c: C\r\n",
       "}\r\n",
       "comp usage \"b: B\" as E4  <<(T,blue)part>> {\r\n",
       "}\r\n",
       "comp def \"B\" as E6  <<(T,blue)part def>> {\r\n",
       "- -ports- -\r\n",
       "x: ~C\r\n",
       "}\r\n",
       "package \"P\" as E7   {\r\n",
       "}\r\n",
       "comp usage \"a: A\" as E8  <<(T,blue)part>> {\r\n",
       "}\r\n",
       "comp def \"C\" as E10  <<(T,blue)port def>> {\r\n",
       "- -references- -\r\n",
       "y: A <b>as</b> z2 \r\n",
       "}\r\n",
       "E2 - -:|> E3\r\n",
       "E3 *- - E4\r\n",
       "E4 - -:|> E6\r\n",
       "E6 +- - E7\r\n",
       "E8 - -:|> E3\r\n",
       "E6 *- - E8\r\n",
       "E10 o- - E3 : y\r\n",
       "E10 o- - E6 : y\r\n",
       "}\r\n",
       "@enduml\r\n",
       "\n",
       "PlantUML version 1.2020.13(Sat Jun 13 12:26:38 UTC 2020)\n",
       "(EPL source distribution)\n",
       "Java Runtime: OpenJDK Runtime Environment\n",
       "JVM: OpenJDK 64-Bit Server VM\n",
       "Default Encoding: UTF-8\n",
       "Language: en\n",
       "Country: null\n",
       "--></g></svg>"
      ]
     },
     "execution_count": 51,
     "metadata": {},
     "output_type": "execute_result"
    }
   ],
   "source": [
    "%viz --style=\"ORTHOLINE\" --view=\"Default\" \"PartTest\""
   ]
  },
  {
   "cell_type": "code",
   "execution_count": 52,
   "id": "republican-observer",
   "metadata": {
    "execution": {
     "iopub.execute_input": "2021-03-25T16:06:39.769388Z",
     "iopub.status.busy": "2021-03-25T16:06:39.768851Z",
     "iopub.status.idle": "2021-03-25T16:06:40.099075Z",
     "shell.execute_reply": "2021-03-25T16:06:40.096567Z"
    }
   },
   "outputs": [
    {
     "data": {
      "image/svg+xml": [
       "<?xml version=\"1.0\" encoding=\"UTF-8\" standalone=\"no\"?><svg xmlns=\"http://www.w3.org/2000/svg\" xmlns:xlink=\"http://www.w3.org/1999/xlink\" contentScriptType=\"application/ecmascript\" contentStyleType=\"text/css\" height=\"672px\" preserveAspectRatio=\"none\" style=\"width:217px;height:672px;\" version=\"1.1\" viewBox=\"0 0 217 672\" width=\"217px\" zoomAndPan=\"magnify\"><defs/><g><!--MD5=[fbc87193dbaf4d95561dea2c320d4a47]\n",
       "cluster E1--><polygon fill=\"#FFFFFF\" points=\"16,6,89,6,96,28.2969,195,28.2969,195,660,16,660,16,6\" style=\"stroke: #000000; stroke-width: 1.5;\"/><line style=\"stroke: #000000; stroke-width: 1.5;\" x1=\"16\" x2=\"96\" y1=\"28.2969\" y2=\"28.2969\"/><text fill=\"#000000\" font-family=\"sans-serif\" font-size=\"14\" font-weight=\"bold\" lengthAdjust=\"spacingAndGlyphs\" textLength=\"67\" x=\"20\" y=\"20.9951\">PartTest</text><!--MD5=[b4997ac47864f28c2f74865a473b2911]\n",
       "class E2--><rect fill=\"#FFFFFF\" height=\"45.9375\" id=\"E2\" rx=\"10\" ry=\"10\" style=\"stroke: #383838; stroke-width: 1.5;\" width=\"42\" x=\"137\" y=\"56\"/><text fill=\"#000000\" font-family=\"sans-serif\" font-size=\"12\" font-style=\"italic\" lengthAdjust=\"spacingAndGlyphs\" textLength=\"40\" x=\"138\" y=\"72.1387\">«part»</text><text fill=\"#000000\" font-family=\"sans-serif\" font-size=\"12\" lengthAdjust=\"spacingAndGlyphs\" textLength=\"20\" x=\"148\" y=\"86.1074\">f: A</text><line style=\"stroke: #383838; stroke-width: 1.5;\" x1=\"138\" x2=\"178\" y1=\"93.9375\" y2=\"93.9375\"/><!--MD5=[09b614a08d8cba4a07c9adeb5e0fee81]\n",
       "class E3--><rect fill=\"#FFFFFF\" height=\"75.5469\" id=\"E3\" style=\"stroke: #383838; stroke-width: 1.5;\" width=\"66\" x=\"108\" y=\"194\"/><text fill=\"#000000\" font-family=\"sans-serif\" font-size=\"12\" font-style=\"italic\" lengthAdjust=\"spacingAndGlyphs\" textLength=\"64\" x=\"109\" y=\"210.1387\">«part def»</text><text fill=\"#000000\" font-family=\"sans-serif\" font-size=\"12\" lengthAdjust=\"spacingAndGlyphs\" textLength=\"8\" x=\"137\" y=\"224.1074\">A</text><line style=\"stroke: #383838; stroke-width: 1.5;\" x1=\"109\" x2=\"173\" y1=\"231.9375\" y2=\"231.9375\"/><text fill=\"#000000\" font-family=\"sans-serif\" font-size=\"11\" lengthAdjust=\"spacingAndGlyphs\" textLength=\"22\" x=\"114\" y=\"262.9526\">c: C</text><line style=\"stroke: #383838; stroke-width: 1.0;\" x1=\"109\" x2=\"126\" y1=\"246.3398\" y2=\"246.3398\"/><text fill=\"#000000\" font-family=\"sans-serif\" font-size=\"11\" lengthAdjust=\"spacingAndGlyphs\" textLength=\"30\" x=\"126\" y=\"249.6479\">ports</text><line style=\"stroke: #383838; stroke-width: 1.0;\" x1=\"156\" x2=\"173\" y1=\"246.3398\" y2=\"246.3398\"/><!--MD5=[ebbe1d658d1005bcc118a6aa81145e00]\n",
       "class E4--><rect fill=\"#FFFFFF\" height=\"45.9375\" id=\"E4\" rx=\"10\" ry=\"10\" style=\"stroke: #383838; stroke-width: 1.5;\" width=\"42\" x=\"100\" y=\"347\"/><text fill=\"#000000\" font-family=\"sans-serif\" font-size=\"12\" font-style=\"italic\" lengthAdjust=\"spacingAndGlyphs\" textLength=\"40\" x=\"101\" y=\"363.1387\">«part»</text><text fill=\"#000000\" font-family=\"sans-serif\" font-size=\"12\" lengthAdjust=\"spacingAndGlyphs\" textLength=\"24\" x=\"109\" y=\"377.1074\">b: B</text><line style=\"stroke: #383838; stroke-width: 1.5;\" x1=\"101\" x2=\"141\" y1=\"384.9375\" y2=\"384.9375\"/><!--MD5=[60a26617385b1d2d0262a64233df1f8d]\n",
       "class E6--><rect fill=\"#FFFFFF\" height=\"75.5469\" id=\"E6\" style=\"stroke: #383838; stroke-width: 1.5;\" width=\"66\" x=\"68\" y=\"454\"/><text fill=\"#000000\" font-family=\"sans-serif\" font-size=\"12\" font-style=\"italic\" lengthAdjust=\"spacingAndGlyphs\" textLength=\"64\" x=\"69\" y=\"470.1387\">«part def»</text><text fill=\"#000000\" font-family=\"sans-serif\" font-size=\"12\" lengthAdjust=\"spacingAndGlyphs\" textLength=\"8\" x=\"97\" y=\"484.1074\">B</text><line style=\"stroke: #383838; stroke-width: 1.5;\" x1=\"69\" x2=\"133\" y1=\"491.9375\" y2=\"491.9375\"/><text fill=\"#000000\" font-family=\"sans-serif\" font-size=\"11\" lengthAdjust=\"spacingAndGlyphs\" textLength=\"31\" x=\"74\" y=\"522.9526\">x: ~C</text><line style=\"stroke: #383838; stroke-width: 1.0;\" x1=\"69\" x2=\"86\" y1=\"506.3398\" y2=\"506.3398\"/><text fill=\"#000000\" font-family=\"sans-serif\" font-size=\"11\" lengthAdjust=\"spacingAndGlyphs\" textLength=\"30\" x=\"86\" y=\"509.6479\">ports</text><line style=\"stroke: #383838; stroke-width: 1.0;\" x1=\"116\" x2=\"133\" y1=\"506.3398\" y2=\"506.3398\"/><!--MD5=[b9389687b975829384b498ac4b7476b2]\n",
       "class E8--><rect fill=\"#FFFFFF\" height=\"45.9375\" id=\"E8\" rx=\"10\" ry=\"10\" style=\"stroke: #383838; stroke-width: 1.5;\" width=\"42\" x=\"137\" y=\"594.5\"/><text fill=\"#000000\" font-family=\"sans-serif\" font-size=\"12\" font-style=\"italic\" lengthAdjust=\"spacingAndGlyphs\" textLength=\"40\" x=\"138\" y=\"610.6387\">«part»</text><text fill=\"#000000\" font-family=\"sans-serif\" font-size=\"12\" lengthAdjust=\"spacingAndGlyphs\" textLength=\"24\" x=\"146\" y=\"624.6074\">a: A</text><line style=\"stroke: #383838; stroke-width: 1.5;\" x1=\"138\" x2=\"178\" y1=\"632.4375\" y2=\"632.4375\"/><!--MD5=[96f4274e9e20536e775497830990834d]\n",
       "class E10--><rect fill=\"#FFFFFF\" height=\"75.5469\" id=\"E10\" style=\"stroke: #383838; stroke-width: 1.5;\" width=\"70\" x=\"32\" y=\"41\"/><text fill=\"#000000\" font-family=\"sans-serif\" font-size=\"12\" font-style=\"italic\" lengthAdjust=\"spacingAndGlyphs\" textLength=\"64\" x=\"35\" y=\"57.1387\">«port def»</text><text fill=\"#000000\" font-family=\"sans-serif\" font-size=\"12\" lengthAdjust=\"spacingAndGlyphs\" textLength=\"8\" x=\"63\" y=\"71.1074\">C</text><line style=\"stroke: #383838; stroke-width: 1.5;\" x1=\"33\" x2=\"101\" y1=\"78.9375\" y2=\"78.9375\"/><text fill=\"#000000\" font-family=\"sans-serif\" font-size=\"11\" lengthAdjust=\"spacingAndGlyphs\" textLength=\"21\" x=\"38\" y=\"109.9526\">y: A</text><text fill=\"#000000\" font-family=\"sans-serif\" font-size=\"11\" font-weight=\"bold\" lengthAdjust=\"spacingAndGlyphs\" textLength=\"15\" x=\"63\" y=\"109.9526\">as</text><text fill=\"#000000\" font-family=\"sans-serif\" font-size=\"11\" lengthAdjust=\"spacingAndGlyphs\" textLength=\"12\" x=\"82\" y=\"109.9526\">z2</text><line style=\"stroke: #383838; stroke-width: 1.0;\" x1=\"33\" x2=\"36\" y1=\"93.3398\" y2=\"93.3398\"/><text fill=\"#000000\" font-family=\"sans-serif\" font-size=\"11\" lengthAdjust=\"spacingAndGlyphs\" textLength=\"62\" x=\"36\" y=\"96.6479\">references</text><line style=\"stroke: #383838; stroke-width: 1.0;\" x1=\"98\" x2=\"101\" y1=\"93.3398\" y2=\"93.3398\"/><polygon fill=\"#FFFFFF\" points=\"72,591,88,591,95,613.2969,102,613.2969,102,643.5938,72,643.5938,72,591\" style=\"stroke: #000000; stroke-width: 1.5;\"/><line style=\"stroke: #000000; stroke-width: 1.5;\" x1=\"72\" x2=\"95\" y1=\"613.2969\" y2=\"613.2969\"/><text fill=\"#000000\" font-family=\"sans-serif\" font-size=\"14\" font-weight=\"bold\" lengthAdjust=\"spacingAndGlyphs\" textLength=\"10\" x=\"76\" y=\"605.9951\">P</text><!--MD5=[2720a5a1f2c3fca2055b230370638851]\n",
       "link E2 to E3--><path d=\"M155.5,102.24 C155.5,102.24 155.5,173.94 155.5,173.94 \" fill=\"none\" id=\"E2-&gt;E3\" style=\"stroke: #383838; stroke-width: 1.0;\"/><polygon fill=\"#FFFFFF\" points=\"155.5,193.94,148.5,174.94,162.5,174.94,155.5,193.94\" style=\"stroke: #383838; stroke-width: 1.0;\"/><ellipse cx=\"150.5\" cy=\"169.24\" fill=\"#383838\" rx=\"2\" ry=\"2\" style=\"stroke: #383838; stroke-width: 1.0;\"/><ellipse cx=\"160.5\" cy=\"169.24\" fill=\"#383838\" rx=\"2\" ry=\"2\" style=\"stroke: #383838; stroke-width: 1.0;\"/><!--MD5=[4672eba38e49728da53d11aeb285b987]\n",
       "reverse link E3 to E4--><path d=\"M125,283.07 C125,283.07 125,346.75 125,346.75 \" fill=\"none\" id=\"E3&lt;-E4\" style=\"stroke: #383838; stroke-width: 1.0;\"/><polygon fill=\"#383838\" points=\"125,270.07,121,276.07,125,282.07,129,276.07,125,270.07\" style=\"stroke: #383838; stroke-width: 1.0;\"/><!--MD5=[79568f1e445c3877b6a54524624ccc7d]\n",
       "link E4 to E6--><path d=\"M117,393.23 C117,393.23 117,433.98 117,433.98 \" fill=\"none\" id=\"E4-&gt;E6\" style=\"stroke: #383838; stroke-width: 1.0;\"/><polygon fill=\"#FFFFFF\" points=\"117,453.98,110,434.98,124,434.98,117,453.98\" style=\"stroke: #383838; stroke-width: 1.0;\"/><ellipse cx=\"112\" cy=\"429.28\" fill=\"#383838\" rx=\"2\" ry=\"2\" style=\"stroke: #383838; stroke-width: 1.0;\"/><ellipse cx=\"122\" cy=\"429.28\" fill=\"#383838\" rx=\"2\" ry=\"2\" style=\"stroke: #383838; stroke-width: 1.0;\"/><!--MD5=[3f50a3473f1dfb74d3f76443e03635af]\n",
       "reverse link E6 to E7--><path d=\"M87,545.34 C87,545.34 87,590.92 87,590.92 \" fill=\"none\" id=\"E6&lt;-E7\" style=\"stroke: #383838; stroke-width: 1.0;\"/><ellipse cx=\"87\" cy=\"538.34\" fill=\"#FFFFFF\" rx=\"8\" ry=\"8\" style=\"stroke: #383838; stroke-width: 1.0;\"/><line style=\"stroke: #383838; stroke-width: 1.0;\" x1=\"87\" x2=\"87\" y1=\"546.34\" y2=\"530.34\"/><line style=\"stroke: #383838; stroke-width: 1.0;\" x1=\"79\" x2=\"95\" y1=\"538.34\" y2=\"538.34\"/><!--MD5=[95fa686b5a16158bcdbcaeead89f639b]\n",
       "link E8 to E3--><path d=\"M158,594.25 C158,594.25 158,290.03 158,290.03 \" fill=\"none\" id=\"E8-&gt;E3\" style=\"stroke: #383838; stroke-width: 1.0;\"/><polygon fill=\"#FFFFFF\" points=\"158,270.03,165,289.03,151,289.03,158,270.03\" style=\"stroke: #383838; stroke-width: 1.0;\"/><ellipse cx=\"163\" cy=\"294.73\" fill=\"#383838\" rx=\"2\" ry=\"2\" style=\"stroke: #383838; stroke-width: 1.0;\"/><ellipse cx=\"153\" cy=\"294.73\" fill=\"#383838\" rx=\"2\" ry=\"2\" style=\"stroke: #383838; stroke-width: 1.0;\"/><!--MD5=[f4cf0736d43fd73c4ef68817c49d37d5]\n",
       "reverse link E6 to E8--><path d=\"M118,543.15 C118,543.15 118,618 118,618 C118,618 127.08,618 136.59,618 \" fill=\"none\" id=\"E6&lt;-E8\" style=\"stroke: #383838; stroke-width: 1.0;\"/><polygon fill=\"#383838\" points=\"118,530.15,114,536.15,118,542.15,122,536.15,118,530.15\" style=\"stroke: #383838; stroke-width: 1.0;\"/><!--MD5=[8e04057e7b3cbc0dca4fc78ea351e2da]\n",
       "reverse link E10 to E3--><path d=\"M115.15,110 C115.15,110 122.5,110 122.5,110 C122.5,110 122.5,157.95 122.5,193.73 \" fill=\"none\" id=\"E10&lt;-E3\" style=\"stroke: #383838; stroke-width: 1.0;\"/><polygon fill=\"#FFFFFF\" points=\"102.15,110,108.15,114,114.15,110,108.15,106,102.15,110\" style=\"stroke: #383838; stroke-width: 1.0;\"/><text fill=\"#000000\" font-family=\"sans-serif\" font-size=\"13\" lengthAdjust=\"spacingAndGlyphs\" textLength=\"7\" x=\"129\" y=\"160.0669\">y</text><!--MD5=[604cbf994c02b74b117f728a71673cea]\n",
       "reverse link E10 to E6--><path d=\"M84,130.11 C84,130.11 84,453.98 84,453.98 \" fill=\"none\" id=\"E10&lt;-E6\" style=\"stroke: #383838; stroke-width: 1.0;\"/><polygon fill=\"#FFFFFF\" points=\"84,117.11,80,123.11,84,129.11,88,123.11,84,117.11\" style=\"stroke: #383838; stroke-width: 1.0;\"/><text fill=\"#000000\" font-family=\"sans-serif\" font-size=\"13\" lengthAdjust=\"spacingAndGlyphs\" textLength=\"7\" x=\"68\" y=\"313.0669\">y</text><!--MD5=[03ff2092b0de1fe7828a80093581c61b]\n",
       "@startuml\r\n",
       "skinparam linetype ortho\r\n",
       "skinparam monochrome true\r\n",
       "skinparam classbackgroundcolor white\r\n",
       "skinparam shadowing false\r\n",
       "skinparam wrapWidth 300\r\n",
       "hide circle\r\n",
       "\r\n",
       "package \"PartTest\" as E1   {\r\n",
       "comp usage \"f: A\" as E2  <<(T,blue)part>> {\r\n",
       "}\r\n",
       "comp def \"A\" as E3  <<(T,blue)part def>> {\r\n",
       "- -ports- -\r\n",
       "c: C\r\n",
       "}\r\n",
       "comp usage \"b: B\" as E4  <<(T,blue)part>> {\r\n",
       "}\r\n",
       "comp def \"B\" as E6  <<(T,blue)part def>> {\r\n",
       "- -ports- -\r\n",
       "x: ~C\r\n",
       "}\r\n",
       "package \"P\" as E7   {\r\n",
       "}\r\n",
       "comp usage \"a: A\" as E8  <<(T,blue)part>> {\r\n",
       "}\r\n",
       "comp def \"C\" as E10  <<(T,blue)port def>> {\r\n",
       "- -references- -\r\n",
       "y: A <b>as</b> z2 \r\n",
       "}\r\n",
       "E2 - -:|> E3\r\n",
       "E3 *- - E4\r\n",
       "E4 - -:|> E6\r\n",
       "E6 +- - E7\r\n",
       "E8 - -:|> E3\r\n",
       "E6 *- - E8\r\n",
       "E10 o- - E3 : y\r\n",
       "E10 o- - E6 : y\r\n",
       "}\r\n",
       "@enduml\r\n",
       "\n",
       "PlantUML version 1.2020.13(Sat Jun 13 12:26:38 UTC 2020)\n",
       "(EPL source distribution)\n",
       "Java Runtime: OpenJDK Runtime Environment\n",
       "JVM: OpenJDK 64-Bit Server VM\n",
       "Default Encoding: UTF-8\n",
       "Language: en\n",
       "Country: null\n",
       "--></g></svg>"
      ]
     },
     "execution_count": 52,
     "metadata": {},
     "output_type": "execute_result"
    }
   ],
   "source": [
    "%viz --style=\"ORTHOLINE\" --view=\"Tree\" \"PartTest\""
   ]
  },
  {
   "cell_type": "code",
   "execution_count": 53,
   "id": "biological-barrier",
   "metadata": {
    "execution": {
     "iopub.execute_input": "2021-03-25T16:06:40.148525Z",
     "iopub.status.busy": "2021-03-25T16:06:40.148006Z",
     "iopub.status.idle": "2021-03-25T16:06:40.149772Z",
     "shell.execute_reply": "2021-03-25T16:06:40.150160Z"
    }
   },
   "outputs": [
    {
     "data": {
      "text/plain": [
       "java.lang.IllegalArgumentException: Invalid View: State View candidates are: Default Tree StateMachine Interconnection Activity Sequence MIXED \n",
       "\tat org.omg.sysml.plantuml.SysML2PlantUMLSvc.setView(SysML2PlantUMLSvc.java:63)\n",
       "\tat org.omg.sysml.interactive.SysMLInteractive.viz(SysMLInteractive.java:286)\n",
       "\tat org.omg.sysml.jupyter.kernel.magic.Viz.viz(Viz.java:47)\n",
       "\tat jdk.internal.reflect.GeneratedMethodAccessor9.invoke(Unknown Source)\n",
       "\tat java.base/jdk.internal.reflect.DelegatingMethodAccessorImpl.invoke(DelegatingMethodAccessorImpl.java:43)\n",
       "\tat java.base/java.lang.reflect.Method.invoke(Method.java:568)\n",
       "\tat io.github.spencerpark.jupyter.kernel.magic.registry.Magics.invoke(Magics.java:89)\n",
       "\tat io.github.spencerpark.jupyter.kernel.magic.registry.Magics.access$000(Magics.java:8)\n",
       "\tat io.github.spencerpark.jupyter.kernel.magic.registry.Magics$LineReflectionMagicFunction.execute(Magics.java:149)\n",
       "\tat io.github.spencerpark.jupyter.kernel.magic.registry.Magics.applyLineMagic(Magics.java:26)\n",
       "\tat org.omg.sysml.jupyter.kernel.SysMLKernel.eval(SysMLKernel.java:76)\n",
       "\tat io.github.spencerpark.jupyter.kernel.BaseKernel.handleExecuteRequest(BaseKernel.java:334)\n",
       "\tat io.github.spencerpark.jupyter.channels.ShellChannel.lambda$bind$0(ShellChannel.java:64)\n",
       "\tat io.github.spencerpark.jupyter.channels.Loop.lambda$new$0(Loop.java:21)\n",
       "\tat io.github.spencerpark.jupyter.channels.Loop.run(Loop.java:78)\n"
      ]
     },
     "execution_count": 53,
     "metadata": {},
     "output_type": "execute_result"
    }
   ],
   "source": [
    "%viz --style=\"ORTHOLINE\" --view=\"State\" \"PartTest\""
   ]
  },
  {
   "cell_type": "code",
   "execution_count": 54,
   "id": "greenhouse-scene",
   "metadata": {
    "execution": {
     "iopub.execute_input": "2021-03-25T16:06:40.202962Z",
     "iopub.status.busy": "2021-03-25T16:06:40.201947Z",
     "iopub.status.idle": "2021-03-25T16:06:40.299663Z",
     "shell.execute_reply": "2021-03-25T16:06:40.298489Z"
    }
   },
   "outputs": [
    {
     "data": {
      "image/svg+xml": [
       "<?xml version=\"1.0\" encoding=\"UTF-8\" standalone=\"no\"?><svg xmlns=\"http://www.w3.org/2000/svg\" xmlns:xlink=\"http://www.w3.org/1999/xlink\" contentScriptType=\"application/ecmascript\" contentStyleType=\"text/css\" height=\"266px\" preserveAspectRatio=\"none\" style=\"width:542px;height:266px;\" version=\"1.1\" viewBox=\"0 0 542 266\" width=\"542px\" zoomAndPan=\"magnify\"><defs/><g><!--MD5=[fbc87193dbaf4d95561dea2c320d4a47]\n",
       "cluster E1--><polygon fill=\"#FFFFFF\" points=\"16,6,89,6,96,28.2969,520,28.2969,520,254,16,254,16,6\" style=\"stroke: #000000; stroke-width: 1.5;\"/><line style=\"stroke: #000000; stroke-width: 1.5;\" x1=\"16\" x2=\"96\" y1=\"28.2969\" y2=\"28.2969\"/><text fill=\"#000000\" font-family=\"sans-serif\" font-size=\"14\" font-weight=\"bold\" lengthAdjust=\"spacingAndGlyphs\" textLength=\"67\" x=\"20\" y=\"20.9951\">PartTest</text><!--MD5=[d5e69f78d87373223dbae638b30a9c99]\n",
       "cluster E3--><rect fill=\"#FFFFFF\" height=\"170\" style=\"stroke: #000000; stroke-width: 1.5;\" width=\"120\" x=\"384\" y=\"68\"/><text fill=\"#000000\" font-family=\"sans-serif\" font-size=\"14\" font-style=\"italic\" lengthAdjust=\"spacingAndGlyphs\" textLength=\"71\" x=\"408.5\" y=\"82.9951\">«part def»</text><text fill=\"#000000\" font-family=\"sans-serif\" font-size=\"14\" font-weight=\"bold\" lengthAdjust=\"spacingAndGlyphs\" textLength=\"11\" x=\"438.5\" y=\"99.292\">A</text><!--MD5=[14e3b0961a2654348d326746436168a1]\n",
       "cluster E6--><rect fill=\"#FFFFFF\" height=\"170\" style=\"stroke: #000000; stroke-width: 1.5;\" width=\"185\" x=\"191\" y=\"68\"/><text fill=\"#000000\" font-family=\"sans-serif\" font-size=\"14\" font-style=\"italic\" lengthAdjust=\"spacingAndGlyphs\" textLength=\"71\" x=\"248\" y=\"82.9951\">«part def»</text><text fill=\"#000000\" font-family=\"sans-serif\" font-size=\"14\" font-weight=\"bold\" lengthAdjust=\"spacingAndGlyphs\" textLength=\"10\" x=\"278.5\" y=\"99.292\">B</text><!--MD5=[96f4274e9e20536e775497830990834d]\n",
       "class E10--><rect fill=\"#FFFFFF\" height=\"53.9375\" id=\"E10\" style=\"stroke: #383838; stroke-width: 1.5;\" width=\"66\" x=\"117\" y=\"41\"/><text fill=\"#000000\" font-family=\"sans-serif\" font-size=\"12\" font-style=\"italic\" lengthAdjust=\"spacingAndGlyphs\" textLength=\"64\" x=\"118\" y=\"57.1387\">«port def»</text><text fill=\"#000000\" font-family=\"sans-serif\" font-size=\"12\" lengthAdjust=\"spacingAndGlyphs\" textLength=\"8\" x=\"146\" y=\"71.1074\">C</text><line style=\"stroke: #383838; stroke-width: 1.5;\" x1=\"118\" x2=\"182\" y1=\"78.9375\" y2=\"78.9375\"/><line style=\"stroke: #383838; stroke-width: 1.5;\" x1=\"118\" x2=\"182\" y1=\"86.9375\" y2=\"86.9375\"/><g id=\"E1.E2\"><rect fill=\"#FFFFFF\" height=\"50\" rx=\"12.5\" ry=\"12.5\" style=\"stroke: #383838; stroke-width: 1.5;\" width=\"50\" x=\"32\" y=\"43\"/><line style=\"stroke: #383838; stroke-width: 1.5;\" x1=\"32\" x2=\"82\" y1=\"69.2969\" y2=\"69.2969\"/><text fill=\"#000000\" font-family=\"sans-serif\" font-size=\"14\" lengthAdjust=\"spacingAndGlyphs\" textLength=\"22\" x=\"46\" y=\"60.9951\">f: A</text></g><text fill=\"#000000\" font-family=\"sans-serif\" font-size=\"14\" lengthAdjust=\"spacingAndGlyphs\" textLength=\"27\" x=\"430.5\" y=\"46.6982\">c: C</text><rect fill=\"#383838\" height=\"12\" style=\"stroke: #F8F8F8; stroke-width: 1.5;\" width=\"12\" x=\"438\" y=\"62\"/><g id=\"E1.E3.E4\"><rect fill=\"#FFFFFF\" height=\"50\" rx=\"12.5\" ry=\"12.5\" style=\"stroke: #383838; stroke-width: 1.5;\" width=\"50\" x=\"419\" y=\"172\"/><line style=\"stroke: #383838; stroke-width: 1.5;\" x1=\"419\" x2=\"469\" y1=\"198.2969\" y2=\"198.2969\"/><text fill=\"#000000\" font-family=\"sans-serif\" font-size=\"14\" lengthAdjust=\"spacingAndGlyphs\" textLength=\"28\" x=\"430\" y=\"189.9951\">b: B</text></g><text fill=\"#000000\" font-family=\"sans-serif\" font-size=\"14\" lengthAdjust=\"spacingAndGlyphs\" textLength=\"38\" x=\"297\" y=\"46.6982\">x: ~C</text><rect fill=\"#383838\" height=\"12\" style=\"stroke: #F8F8F8; stroke-width: 1.5;\" width=\"12\" x=\"310\" y=\"62\"/><polygon fill=\"#FFFFFF\" points=\"207,111,223,111,230,133.2969,237,133.2969,237,163.5938,207,163.5938,207,111\" style=\"stroke: #000000; stroke-width: 1.5;\"/><line style=\"stroke: #000000; stroke-width: 1.5;\" x1=\"207\" x2=\"230\" y1=\"133.2969\" y2=\"133.2969\"/><text fill=\"#000000\" font-family=\"sans-serif\" font-size=\"14\" font-weight=\"bold\" lengthAdjust=\"spacingAndGlyphs\" textLength=\"10\" x=\"211\" y=\"125.9951\">P</text><g id=\"E1.E6.E8\"><rect fill=\"#FFFFFF\" height=\"50\" rx=\"12.5\" ry=\"12.5\" style=\"stroke: #383838; stroke-width: 1.5;\" width=\"50\" x=\"291\" y=\"172\"/><line style=\"stroke: #383838; stroke-width: 1.5;\" x1=\"291\" x2=\"341\" y1=\"198.2969\" y2=\"198.2969\"/><text fill=\"#000000\" font-family=\"sans-serif\" font-size=\"14\" lengthAdjust=\"spacingAndGlyphs\" textLength=\"26\" x=\"303\" y=\"189.9951\">a: A</text></g><!--MD5=[a9d0749c89be7272e665dd67358bc7d5]\n",
       "@startuml\r\n",
       "skinparam ranksep 8\r\n",
       "skinparam rectangle {\r\n",
       " backgroundColor<<block>> LightGreen\r\n",
       "}\r\n",
       "skinparam linetype ortho\r\n",
       "skinparam monochrome true\r\n",
       "skinparam classbackgroundcolor white\r\n",
       "skinparam shadowing false\r\n",
       "skinparam wrapWidth 300\r\n",
       "hide circle\r\n",
       "\r\n",
       "package \"PartTest\" as E1   {\r\n",
       "rec usage \"f: A\" as E2  {\r\n",
       "}\r\n",
       "rec def \"A\" as E3  <<part def>> {\r\n",
       "rec usage \"b: B\" as E4  {\r\n",
       "}\r\n",
       "portin \"c: C\" as E5  <<port>> \r\n",
       "}\r\n",
       "rec def \"B\" as E6  <<part def>> {\r\n",
       "package \"P\" as E7   {\r\n",
       "}\r\n",
       "rec usage \"a: A\" as E8  {\r\n",
       "}\r\n",
       "portin \"x: ~C\" as E9  <<port>> \r\n",
       "}\r\n",
       "def \"C\" as E10  <<port def>> \r\n",
       "}\r\n",
       "@enduml\r\n",
       "\n",
       "PlantUML version 1.2020.13(Sat Jun 13 12:26:38 UTC 2020)\n",
       "(EPL source distribution)\n",
       "Java Runtime: OpenJDK Runtime Environment\n",
       "JVM: OpenJDK 64-Bit Server VM\n",
       "Default Encoding: UTF-8\n",
       "Language: en\n",
       "Country: null\n",
       "--></g></svg>"
      ]
     },
     "execution_count": 54,
     "metadata": {},
     "output_type": "execute_result"
    }
   ],
   "source": [
    "%viz --style=\"ORTHOLINE\" --view=\"Interconnection\" \"PartTest\""
   ]
  },
  {
   "cell_type": "code",
   "execution_count": 55,
   "id": "quarterly-circulation",
   "metadata": {
    "execution": {
     "iopub.execute_input": "2021-03-25T16:06:40.350572Z",
     "iopub.status.busy": "2021-03-25T16:06:40.349770Z",
     "iopub.status.idle": "2021-03-25T16:06:40.355019Z",
     "shell.execute_reply": "2021-03-25T16:06:40.351910Z"
    }
   },
   "outputs": [
    {
     "data": {
      "text/plain": [
       "java.lang.IllegalArgumentException: Invalid View: Action View candidates are: Default Tree StateMachine Interconnection Activity Sequence MIXED \n",
       "\tat org.omg.sysml.plantuml.SysML2PlantUMLSvc.setView(SysML2PlantUMLSvc.java:63)\n",
       "\tat org.omg.sysml.interactive.SysMLInteractive.viz(SysMLInteractive.java:286)\n",
       "\tat org.omg.sysml.jupyter.kernel.magic.Viz.viz(Viz.java:47)\n",
       "\tat jdk.internal.reflect.GeneratedMethodAccessor9.invoke(Unknown Source)\n",
       "\tat java.base/jdk.internal.reflect.DelegatingMethodAccessorImpl.invoke(DelegatingMethodAccessorImpl.java:43)\n",
       "\tat java.base/java.lang.reflect.Method.invoke(Method.java:568)\n",
       "\tat io.github.spencerpark.jupyter.kernel.magic.registry.Magics.invoke(Magics.java:89)\n",
       "\tat io.github.spencerpark.jupyter.kernel.magic.registry.Magics.access$000(Magics.java:8)\n",
       "\tat io.github.spencerpark.jupyter.kernel.magic.registry.Magics$LineReflectionMagicFunction.execute(Magics.java:149)\n",
       "\tat io.github.spencerpark.jupyter.kernel.magic.registry.Magics.applyLineMagic(Magics.java:26)\n",
       "\tat org.omg.sysml.jupyter.kernel.SysMLKernel.eval(SysMLKernel.java:76)\n",
       "\tat io.github.spencerpark.jupyter.kernel.BaseKernel.handleExecuteRequest(BaseKernel.java:334)\n",
       "\tat io.github.spencerpark.jupyter.channels.ShellChannel.lambda$bind$0(ShellChannel.java:64)\n",
       "\tat io.github.spencerpark.jupyter.channels.Loop.lambda$new$0(Loop.java:21)\n",
       "\tat io.github.spencerpark.jupyter.channels.Loop.run(Loop.java:78)\n"
      ]
     },
     "execution_count": 55,
     "metadata": {},
     "output_type": "execute_result"
    }
   ],
   "source": [
    "%viz --style=\"ORTHOLINE\" --view=\"Action\" \"PartTest\""
   ]
  },
  {
   "cell_type": "code",
   "execution_count": 56,
   "id": "removed-income",
   "metadata": {
    "execution": {
     "iopub.execute_input": "2021-03-25T16:06:40.403182Z",
     "iopub.status.busy": "2021-03-25T16:06:40.402759Z",
     "iopub.status.idle": "2021-03-25T16:06:40.761763Z",
     "shell.execute_reply": "2021-03-25T16:06:40.760355Z"
    }
   },
   "outputs": [
    {
     "data": {
      "image/svg+xml": [
       "<?xml version=\"1.0\" encoding=\"UTF-8\" standalone=\"no\"?><svg xmlns=\"http://www.w3.org/2000/svg\" xmlns:xlink=\"http://www.w3.org/1999/xlink\" contentScriptType=\"application/ecmascript\" contentStyleType=\"text/css\" height=\"672px\" preserveAspectRatio=\"none\" style=\"width:217px;height:672px;\" version=\"1.1\" viewBox=\"0 0 217 672\" width=\"217px\" zoomAndPan=\"magnify\"><defs/><g><!--MD5=[fbc87193dbaf4d95561dea2c320d4a47]\n",
       "cluster E1--><polygon fill=\"#FFFFFF\" points=\"16,6,89,6,96,28.2969,195,28.2969,195,660,16,660,16,6\" style=\"stroke: #000000; stroke-width: 1.5;\"/><line style=\"stroke: #000000; stroke-width: 1.5;\" x1=\"16\" x2=\"96\" y1=\"28.2969\" y2=\"28.2969\"/><text fill=\"#000000\" font-family=\"sans-serif\" font-size=\"14\" font-weight=\"bold\" lengthAdjust=\"spacingAndGlyphs\" textLength=\"67\" x=\"20\" y=\"20.9951\">PartTest</text><!--MD5=[b4997ac47864f28c2f74865a473b2911]\n",
       "class E2--><rect fill=\"#FFFFFF\" height=\"45.9375\" id=\"E2\" rx=\"10\" ry=\"10\" style=\"stroke: #383838; stroke-width: 1.5;\" width=\"42\" x=\"137\" y=\"56\"/><text fill=\"#000000\" font-family=\"sans-serif\" font-size=\"12\" font-style=\"italic\" lengthAdjust=\"spacingAndGlyphs\" textLength=\"40\" x=\"138\" y=\"72.1387\">«part»</text><text fill=\"#000000\" font-family=\"sans-serif\" font-size=\"12\" lengthAdjust=\"spacingAndGlyphs\" textLength=\"20\" x=\"148\" y=\"86.1074\">f: A</text><line style=\"stroke: #383838; stroke-width: 1.5;\" x1=\"138\" x2=\"178\" y1=\"93.9375\" y2=\"93.9375\"/><!--MD5=[09b614a08d8cba4a07c9adeb5e0fee81]\n",
       "class E3--><rect fill=\"#FFFFFF\" height=\"75.5469\" id=\"E3\" style=\"stroke: #383838; stroke-width: 1.5;\" width=\"66\" x=\"108\" y=\"194\"/><text fill=\"#000000\" font-family=\"sans-serif\" font-size=\"12\" font-style=\"italic\" lengthAdjust=\"spacingAndGlyphs\" textLength=\"64\" x=\"109\" y=\"210.1387\">«part def»</text><text fill=\"#000000\" font-family=\"sans-serif\" font-size=\"12\" lengthAdjust=\"spacingAndGlyphs\" textLength=\"8\" x=\"137\" y=\"224.1074\">A</text><line style=\"stroke: #383838; stroke-width: 1.5;\" x1=\"109\" x2=\"173\" y1=\"231.9375\" y2=\"231.9375\"/><text fill=\"#000000\" font-family=\"sans-serif\" font-size=\"11\" lengthAdjust=\"spacingAndGlyphs\" textLength=\"22\" x=\"114\" y=\"262.9526\">c: C</text><line style=\"stroke: #383838; stroke-width: 1.0;\" x1=\"109\" x2=\"126\" y1=\"246.3398\" y2=\"246.3398\"/><text fill=\"#000000\" font-family=\"sans-serif\" font-size=\"11\" lengthAdjust=\"spacingAndGlyphs\" textLength=\"30\" x=\"126\" y=\"249.6479\">ports</text><line style=\"stroke: #383838; stroke-width: 1.0;\" x1=\"156\" x2=\"173\" y1=\"246.3398\" y2=\"246.3398\"/><!--MD5=[ebbe1d658d1005bcc118a6aa81145e00]\n",
       "class E4--><rect fill=\"#FFFFFF\" height=\"45.9375\" id=\"E4\" rx=\"10\" ry=\"10\" style=\"stroke: #383838; stroke-width: 1.5;\" width=\"42\" x=\"100\" y=\"347\"/><text fill=\"#000000\" font-family=\"sans-serif\" font-size=\"12\" font-style=\"italic\" lengthAdjust=\"spacingAndGlyphs\" textLength=\"40\" x=\"101\" y=\"363.1387\">«part»</text><text fill=\"#000000\" font-family=\"sans-serif\" font-size=\"12\" lengthAdjust=\"spacingAndGlyphs\" textLength=\"24\" x=\"109\" y=\"377.1074\">b: B</text><line style=\"stroke: #383838; stroke-width: 1.5;\" x1=\"101\" x2=\"141\" y1=\"384.9375\" y2=\"384.9375\"/><!--MD5=[60a26617385b1d2d0262a64233df1f8d]\n",
       "class E6--><rect fill=\"#FFFFFF\" height=\"75.5469\" id=\"E6\" style=\"stroke: #383838; stroke-width: 1.5;\" width=\"66\" x=\"68\" y=\"454\"/><text fill=\"#000000\" font-family=\"sans-serif\" font-size=\"12\" font-style=\"italic\" lengthAdjust=\"spacingAndGlyphs\" textLength=\"64\" x=\"69\" y=\"470.1387\">«part def»</text><text fill=\"#000000\" font-family=\"sans-serif\" font-size=\"12\" lengthAdjust=\"spacingAndGlyphs\" textLength=\"8\" x=\"97\" y=\"484.1074\">B</text><line style=\"stroke: #383838; stroke-width: 1.5;\" x1=\"69\" x2=\"133\" y1=\"491.9375\" y2=\"491.9375\"/><text fill=\"#000000\" font-family=\"sans-serif\" font-size=\"11\" lengthAdjust=\"spacingAndGlyphs\" textLength=\"31\" x=\"74\" y=\"522.9526\">x: ~C</text><line style=\"stroke: #383838; stroke-width: 1.0;\" x1=\"69\" x2=\"86\" y1=\"506.3398\" y2=\"506.3398\"/><text fill=\"#000000\" font-family=\"sans-serif\" font-size=\"11\" lengthAdjust=\"spacingAndGlyphs\" textLength=\"30\" x=\"86\" y=\"509.6479\">ports</text><line style=\"stroke: #383838; stroke-width: 1.0;\" x1=\"116\" x2=\"133\" y1=\"506.3398\" y2=\"506.3398\"/><!--MD5=[b9389687b975829384b498ac4b7476b2]\n",
       "class E8--><rect fill=\"#FFFFFF\" height=\"45.9375\" id=\"E8\" rx=\"10\" ry=\"10\" style=\"stroke: #383838; stroke-width: 1.5;\" width=\"42\" x=\"137\" y=\"594.5\"/><text fill=\"#000000\" font-family=\"sans-serif\" font-size=\"12\" font-style=\"italic\" lengthAdjust=\"spacingAndGlyphs\" textLength=\"40\" x=\"138\" y=\"610.6387\">«part»</text><text fill=\"#000000\" font-family=\"sans-serif\" font-size=\"12\" lengthAdjust=\"spacingAndGlyphs\" textLength=\"24\" x=\"146\" y=\"624.6074\">a: A</text><line style=\"stroke: #383838; stroke-width: 1.5;\" x1=\"138\" x2=\"178\" y1=\"632.4375\" y2=\"632.4375\"/><!--MD5=[96f4274e9e20536e775497830990834d]\n",
       "class E10--><rect fill=\"#FFFFFF\" height=\"75.5469\" id=\"E10\" style=\"stroke: #383838; stroke-width: 1.5;\" width=\"70\" x=\"32\" y=\"41\"/><text fill=\"#000000\" font-family=\"sans-serif\" font-size=\"12\" font-style=\"italic\" lengthAdjust=\"spacingAndGlyphs\" textLength=\"64\" x=\"35\" y=\"57.1387\">«port def»</text><text fill=\"#000000\" font-family=\"sans-serif\" font-size=\"12\" lengthAdjust=\"spacingAndGlyphs\" textLength=\"8\" x=\"63\" y=\"71.1074\">C</text><line style=\"stroke: #383838; stroke-width: 1.5;\" x1=\"33\" x2=\"101\" y1=\"78.9375\" y2=\"78.9375\"/><text fill=\"#000000\" font-family=\"sans-serif\" font-size=\"11\" lengthAdjust=\"spacingAndGlyphs\" textLength=\"21\" x=\"38\" y=\"109.9526\">y: A</text><text fill=\"#000000\" font-family=\"sans-serif\" font-size=\"11\" font-weight=\"bold\" lengthAdjust=\"spacingAndGlyphs\" textLength=\"15\" x=\"63\" y=\"109.9526\">as</text><text fill=\"#000000\" font-family=\"sans-serif\" font-size=\"11\" lengthAdjust=\"spacingAndGlyphs\" textLength=\"12\" x=\"82\" y=\"109.9526\">z2</text><line style=\"stroke: #383838; stroke-width: 1.0;\" x1=\"33\" x2=\"36\" y1=\"93.3398\" y2=\"93.3398\"/><text fill=\"#000000\" font-family=\"sans-serif\" font-size=\"11\" lengthAdjust=\"spacingAndGlyphs\" textLength=\"62\" x=\"36\" y=\"96.6479\">references</text><line style=\"stroke: #383838; stroke-width: 1.0;\" x1=\"98\" x2=\"101\" y1=\"93.3398\" y2=\"93.3398\"/><polygon fill=\"#FFFFFF\" points=\"72,591,88,591,95,613.2969,102,613.2969,102,643.5938,72,643.5938,72,591\" style=\"stroke: #000000; stroke-width: 1.5;\"/><line style=\"stroke: #000000; stroke-width: 1.5;\" x1=\"72\" x2=\"95\" y1=\"613.2969\" y2=\"613.2969\"/><text fill=\"#000000\" font-family=\"sans-serif\" font-size=\"14\" font-weight=\"bold\" lengthAdjust=\"spacingAndGlyphs\" textLength=\"10\" x=\"76\" y=\"605.9951\">P</text><!--MD5=[2720a5a1f2c3fca2055b230370638851]\n",
       "link E2 to E3--><path d=\"M155.5,102.24 C155.5,102.24 155.5,173.94 155.5,173.94 \" fill=\"none\" id=\"E2-&gt;E3\" style=\"stroke: #383838; stroke-width: 1.0;\"/><polygon fill=\"#FFFFFF\" points=\"155.5,193.94,148.5,174.94,162.5,174.94,155.5,193.94\" style=\"stroke: #383838; stroke-width: 1.0;\"/><ellipse cx=\"150.5\" cy=\"169.24\" fill=\"#383838\" rx=\"2\" ry=\"2\" style=\"stroke: #383838; stroke-width: 1.0;\"/><ellipse cx=\"160.5\" cy=\"169.24\" fill=\"#383838\" rx=\"2\" ry=\"2\" style=\"stroke: #383838; stroke-width: 1.0;\"/><!--MD5=[4672eba38e49728da53d11aeb285b987]\n",
       "reverse link E3 to E4--><path d=\"M125,283.07 C125,283.07 125,346.75 125,346.75 \" fill=\"none\" id=\"E3&lt;-E4\" style=\"stroke: #383838; stroke-width: 1.0;\"/><polygon fill=\"#383838\" points=\"125,270.07,121,276.07,125,282.07,129,276.07,125,270.07\" style=\"stroke: #383838; stroke-width: 1.0;\"/><!--MD5=[79568f1e445c3877b6a54524624ccc7d]\n",
       "link E4 to E6--><path d=\"M117,393.23 C117,393.23 117,433.98 117,433.98 \" fill=\"none\" id=\"E4-&gt;E6\" style=\"stroke: #383838; stroke-width: 1.0;\"/><polygon fill=\"#FFFFFF\" points=\"117,453.98,110,434.98,124,434.98,117,453.98\" style=\"stroke: #383838; stroke-width: 1.0;\"/><ellipse cx=\"112\" cy=\"429.28\" fill=\"#383838\" rx=\"2\" ry=\"2\" style=\"stroke: #383838; stroke-width: 1.0;\"/><ellipse cx=\"122\" cy=\"429.28\" fill=\"#383838\" rx=\"2\" ry=\"2\" style=\"stroke: #383838; stroke-width: 1.0;\"/><!--MD5=[3f50a3473f1dfb74d3f76443e03635af]\n",
       "reverse link E6 to E7--><path d=\"M87,545.34 C87,545.34 87,590.92 87,590.92 \" fill=\"none\" id=\"E6&lt;-E7\" style=\"stroke: #383838; stroke-width: 1.0;\"/><ellipse cx=\"87\" cy=\"538.34\" fill=\"#FFFFFF\" rx=\"8\" ry=\"8\" style=\"stroke: #383838; stroke-width: 1.0;\"/><line style=\"stroke: #383838; stroke-width: 1.0;\" x1=\"87\" x2=\"87\" y1=\"546.34\" y2=\"530.34\"/><line style=\"stroke: #383838; stroke-width: 1.0;\" x1=\"79\" x2=\"95\" y1=\"538.34\" y2=\"538.34\"/><!--MD5=[95fa686b5a16158bcdbcaeead89f639b]\n",
       "link E8 to E3--><path d=\"M158,594.25 C158,594.25 158,290.03 158,290.03 \" fill=\"none\" id=\"E8-&gt;E3\" style=\"stroke: #383838; stroke-width: 1.0;\"/><polygon fill=\"#FFFFFF\" points=\"158,270.03,165,289.03,151,289.03,158,270.03\" style=\"stroke: #383838; stroke-width: 1.0;\"/><ellipse cx=\"163\" cy=\"294.73\" fill=\"#383838\" rx=\"2\" ry=\"2\" style=\"stroke: #383838; stroke-width: 1.0;\"/><ellipse cx=\"153\" cy=\"294.73\" fill=\"#383838\" rx=\"2\" ry=\"2\" style=\"stroke: #383838; stroke-width: 1.0;\"/><!--MD5=[f4cf0736d43fd73c4ef68817c49d37d5]\n",
       "reverse link E6 to E8--><path d=\"M118,543.15 C118,543.15 118,618 118,618 C118,618 127.08,618 136.59,618 \" fill=\"none\" id=\"E6&lt;-E8\" style=\"stroke: #383838; stroke-width: 1.0;\"/><polygon fill=\"#383838\" points=\"118,530.15,114,536.15,118,542.15,122,536.15,118,530.15\" style=\"stroke: #383838; stroke-width: 1.0;\"/><!--MD5=[8e04057e7b3cbc0dca4fc78ea351e2da]\n",
       "reverse link E10 to E3--><path d=\"M115.15,110 C115.15,110 122.5,110 122.5,110 C122.5,110 122.5,157.95 122.5,193.73 \" fill=\"none\" id=\"E10&lt;-E3\" style=\"stroke: #383838; stroke-width: 1.0;\"/><polygon fill=\"#FFFFFF\" points=\"102.15,110,108.15,114,114.15,110,108.15,106,102.15,110\" style=\"stroke: #383838; stroke-width: 1.0;\"/><text fill=\"#000000\" font-family=\"sans-serif\" font-size=\"13\" lengthAdjust=\"spacingAndGlyphs\" textLength=\"7\" x=\"129\" y=\"160.0669\">y</text><!--MD5=[604cbf994c02b74b117f728a71673cea]\n",
       "reverse link E10 to E6--><path d=\"M84,130.11 C84,130.11 84,453.98 84,453.98 \" fill=\"none\" id=\"E10&lt;-E6\" style=\"stroke: #383838; stroke-width: 1.0;\"/><polygon fill=\"#FFFFFF\" points=\"84,117.11,80,123.11,84,129.11,88,123.11,84,117.11\" style=\"stroke: #383838; stroke-width: 1.0;\"/><text fill=\"#000000\" font-family=\"sans-serif\" font-size=\"13\" lengthAdjust=\"spacingAndGlyphs\" textLength=\"7\" x=\"68\" y=\"313.0669\">y</text><!--MD5=[03ff2092b0de1fe7828a80093581c61b]\n",
       "@startuml\r\n",
       "skinparam linetype ortho\r\n",
       "skinparam monochrome true\r\n",
       "skinparam classbackgroundcolor white\r\n",
       "skinparam shadowing false\r\n",
       "skinparam wrapWidth 300\r\n",
       "hide circle\r\n",
       "\r\n",
       "package \"PartTest\" as E1   {\r\n",
       "comp usage \"f: A\" as E2  <<(T,blue)part>> {\r\n",
       "}\r\n",
       "comp def \"A\" as E3  <<(T,blue)part def>> {\r\n",
       "- -ports- -\r\n",
       "c: C\r\n",
       "}\r\n",
       "comp usage \"b: B\" as E4  <<(T,blue)part>> {\r\n",
       "}\r\n",
       "comp def \"B\" as E6  <<(T,blue)part def>> {\r\n",
       "- -ports- -\r\n",
       "x: ~C\r\n",
       "}\r\n",
       "package \"P\" as E7   {\r\n",
       "}\r\n",
       "comp usage \"a: A\" as E8  <<(T,blue)part>> {\r\n",
       "}\r\n",
       "comp def \"C\" as E10  <<(T,blue)port def>> {\r\n",
       "- -references- -\r\n",
       "y: A <b>as</b> z2 \r\n",
       "}\r\n",
       "E2 - -:|> E3\r\n",
       "E3 *- - E4\r\n",
       "E4 - -:|> E6\r\n",
       "E6 +- - E7\r\n",
       "E8 - -:|> E3\r\n",
       "E6 *- - E8\r\n",
       "E10 o- - E3 : y\r\n",
       "E10 o- - E6 : y\r\n",
       "}\r\n",
       "@enduml\r\n",
       "\n",
       "PlantUML version 1.2020.13(Sat Jun 13 12:26:38 UTC 2020)\n",
       "(EPL source distribution)\n",
       "Java Runtime: OpenJDK Runtime Environment\n",
       "JVM: OpenJDK 64-Bit Server VM\n",
       "Default Encoding: UTF-8\n",
       "Language: en\n",
       "Country: null\n",
       "--></g></svg>"
      ]
     },
     "execution_count": 56,
     "metadata": {},
     "output_type": "execute_result"
    }
   ],
   "source": [
    "%viz --style=\"ORTHOLINE\" --view=\"Sequence\" \"PartTest\""
   ]
  },
  {
   "cell_type": "code",
   "execution_count": 57,
   "id": "trying-mixer",
   "metadata": {
    "execution": {
     "iopub.execute_input": "2021-03-25T16:06:40.812401Z",
     "iopub.status.busy": "2021-03-25T16:06:40.811938Z",
     "iopub.status.idle": "2021-03-25T16:06:41.142749Z",
     "shell.execute_reply": "2021-03-25T16:06:41.140944Z"
    }
   },
   "outputs": [
    {
     "data": {
      "image/svg+xml": [
       "<?xml version=\"1.0\" encoding=\"UTF-8\" standalone=\"no\"?><svg xmlns=\"http://www.w3.org/2000/svg\" xmlns:xlink=\"http://www.w3.org/1999/xlink\" contentScriptType=\"application/ecmascript\" contentStyleType=\"text/css\" height=\"672px\" preserveAspectRatio=\"none\" style=\"width:217px;height:672px;\" version=\"1.1\" viewBox=\"0 0 217 672\" width=\"217px\" zoomAndPan=\"magnify\"><defs/><g><!--MD5=[fbc87193dbaf4d95561dea2c320d4a47]\n",
       "cluster E1--><polygon fill=\"#FFFFFF\" points=\"16,6,89,6,96,28.2969,195,28.2969,195,660,16,660,16,6\" style=\"stroke: #000000; stroke-width: 1.5;\"/><line style=\"stroke: #000000; stroke-width: 1.5;\" x1=\"16\" x2=\"96\" y1=\"28.2969\" y2=\"28.2969\"/><text fill=\"#000000\" font-family=\"sans-serif\" font-size=\"14\" font-weight=\"bold\" lengthAdjust=\"spacingAndGlyphs\" textLength=\"67\" x=\"20\" y=\"20.9951\">PartTest</text><!--MD5=[b4997ac47864f28c2f74865a473b2911]\n",
       "class E2--><rect fill=\"#FFFFFF\" height=\"45.9375\" id=\"E2\" rx=\"10\" ry=\"10\" style=\"stroke: #383838; stroke-width: 1.5;\" width=\"42\" x=\"137\" y=\"56\"/><text fill=\"#000000\" font-family=\"sans-serif\" font-size=\"12\" font-style=\"italic\" lengthAdjust=\"spacingAndGlyphs\" textLength=\"40\" x=\"138\" y=\"72.1387\">«part»</text><text fill=\"#000000\" font-family=\"sans-serif\" font-size=\"12\" lengthAdjust=\"spacingAndGlyphs\" textLength=\"20\" x=\"148\" y=\"86.1074\">f: A</text><line style=\"stroke: #383838; stroke-width: 1.5;\" x1=\"138\" x2=\"178\" y1=\"93.9375\" y2=\"93.9375\"/><!--MD5=[09b614a08d8cba4a07c9adeb5e0fee81]\n",
       "class E3--><rect fill=\"#FFFFFF\" height=\"75.5469\" id=\"E3\" style=\"stroke: #383838; stroke-width: 1.5;\" width=\"66\" x=\"108\" y=\"194\"/><text fill=\"#000000\" font-family=\"sans-serif\" font-size=\"12\" font-style=\"italic\" lengthAdjust=\"spacingAndGlyphs\" textLength=\"64\" x=\"109\" y=\"210.1387\">«part def»</text><text fill=\"#000000\" font-family=\"sans-serif\" font-size=\"12\" lengthAdjust=\"spacingAndGlyphs\" textLength=\"8\" x=\"137\" y=\"224.1074\">A</text><line style=\"stroke: #383838; stroke-width: 1.5;\" x1=\"109\" x2=\"173\" y1=\"231.9375\" y2=\"231.9375\"/><text fill=\"#000000\" font-family=\"sans-serif\" font-size=\"11\" lengthAdjust=\"spacingAndGlyphs\" textLength=\"22\" x=\"114\" y=\"262.9526\">c: C</text><line style=\"stroke: #383838; stroke-width: 1.0;\" x1=\"109\" x2=\"126\" y1=\"246.3398\" y2=\"246.3398\"/><text fill=\"#000000\" font-family=\"sans-serif\" font-size=\"11\" lengthAdjust=\"spacingAndGlyphs\" textLength=\"30\" x=\"126\" y=\"249.6479\">ports</text><line style=\"stroke: #383838; stroke-width: 1.0;\" x1=\"156\" x2=\"173\" y1=\"246.3398\" y2=\"246.3398\"/><!--MD5=[ebbe1d658d1005bcc118a6aa81145e00]\n",
       "class E4--><rect fill=\"#FFFFFF\" height=\"45.9375\" id=\"E4\" rx=\"10\" ry=\"10\" style=\"stroke: #383838; stroke-width: 1.5;\" width=\"42\" x=\"100\" y=\"347\"/><text fill=\"#000000\" font-family=\"sans-serif\" font-size=\"12\" font-style=\"italic\" lengthAdjust=\"spacingAndGlyphs\" textLength=\"40\" x=\"101\" y=\"363.1387\">«part»</text><text fill=\"#000000\" font-family=\"sans-serif\" font-size=\"12\" lengthAdjust=\"spacingAndGlyphs\" textLength=\"24\" x=\"109\" y=\"377.1074\">b: B</text><line style=\"stroke: #383838; stroke-width: 1.5;\" x1=\"101\" x2=\"141\" y1=\"384.9375\" y2=\"384.9375\"/><!--MD5=[60a26617385b1d2d0262a64233df1f8d]\n",
       "class E6--><rect fill=\"#FFFFFF\" height=\"75.5469\" id=\"E6\" style=\"stroke: #383838; stroke-width: 1.5;\" width=\"66\" x=\"68\" y=\"454\"/><text fill=\"#000000\" font-family=\"sans-serif\" font-size=\"12\" font-style=\"italic\" lengthAdjust=\"spacingAndGlyphs\" textLength=\"64\" x=\"69\" y=\"470.1387\">«part def»</text><text fill=\"#000000\" font-family=\"sans-serif\" font-size=\"12\" lengthAdjust=\"spacingAndGlyphs\" textLength=\"8\" x=\"97\" y=\"484.1074\">B</text><line style=\"stroke: #383838; stroke-width: 1.5;\" x1=\"69\" x2=\"133\" y1=\"491.9375\" y2=\"491.9375\"/><text fill=\"#000000\" font-family=\"sans-serif\" font-size=\"11\" lengthAdjust=\"spacingAndGlyphs\" textLength=\"31\" x=\"74\" y=\"522.9526\">x: ~C</text><line style=\"stroke: #383838; stroke-width: 1.0;\" x1=\"69\" x2=\"86\" y1=\"506.3398\" y2=\"506.3398\"/><text fill=\"#000000\" font-family=\"sans-serif\" font-size=\"11\" lengthAdjust=\"spacingAndGlyphs\" textLength=\"30\" x=\"86\" y=\"509.6479\">ports</text><line style=\"stroke: #383838; stroke-width: 1.0;\" x1=\"116\" x2=\"133\" y1=\"506.3398\" y2=\"506.3398\"/><!--MD5=[b9389687b975829384b498ac4b7476b2]\n",
       "class E8--><rect fill=\"#FFFFFF\" height=\"45.9375\" id=\"E8\" rx=\"10\" ry=\"10\" style=\"stroke: #383838; stroke-width: 1.5;\" width=\"42\" x=\"137\" y=\"594.5\"/><text fill=\"#000000\" font-family=\"sans-serif\" font-size=\"12\" font-style=\"italic\" lengthAdjust=\"spacingAndGlyphs\" textLength=\"40\" x=\"138\" y=\"610.6387\">«part»</text><text fill=\"#000000\" font-family=\"sans-serif\" font-size=\"12\" lengthAdjust=\"spacingAndGlyphs\" textLength=\"24\" x=\"146\" y=\"624.6074\">a: A</text><line style=\"stroke: #383838; stroke-width: 1.5;\" x1=\"138\" x2=\"178\" y1=\"632.4375\" y2=\"632.4375\"/><!--MD5=[96f4274e9e20536e775497830990834d]\n",
       "class E10--><rect fill=\"#FFFFFF\" height=\"75.5469\" id=\"E10\" style=\"stroke: #383838; stroke-width: 1.5;\" width=\"70\" x=\"32\" y=\"41\"/><text fill=\"#000000\" font-family=\"sans-serif\" font-size=\"12\" font-style=\"italic\" lengthAdjust=\"spacingAndGlyphs\" textLength=\"64\" x=\"35\" y=\"57.1387\">«port def»</text><text fill=\"#000000\" font-family=\"sans-serif\" font-size=\"12\" lengthAdjust=\"spacingAndGlyphs\" textLength=\"8\" x=\"63\" y=\"71.1074\">C</text><line style=\"stroke: #383838; stroke-width: 1.5;\" x1=\"33\" x2=\"101\" y1=\"78.9375\" y2=\"78.9375\"/><text fill=\"#000000\" font-family=\"sans-serif\" font-size=\"11\" lengthAdjust=\"spacingAndGlyphs\" textLength=\"21\" x=\"38\" y=\"109.9526\">y: A</text><text fill=\"#000000\" font-family=\"sans-serif\" font-size=\"11\" font-weight=\"bold\" lengthAdjust=\"spacingAndGlyphs\" textLength=\"15\" x=\"63\" y=\"109.9526\">as</text><text fill=\"#000000\" font-family=\"sans-serif\" font-size=\"11\" lengthAdjust=\"spacingAndGlyphs\" textLength=\"12\" x=\"82\" y=\"109.9526\">z2</text><line style=\"stroke: #383838; stroke-width: 1.0;\" x1=\"33\" x2=\"36\" y1=\"93.3398\" y2=\"93.3398\"/><text fill=\"#000000\" font-family=\"sans-serif\" font-size=\"11\" lengthAdjust=\"spacingAndGlyphs\" textLength=\"62\" x=\"36\" y=\"96.6479\">references</text><line style=\"stroke: #383838; stroke-width: 1.0;\" x1=\"98\" x2=\"101\" y1=\"93.3398\" y2=\"93.3398\"/><polygon fill=\"#FFFFFF\" points=\"72,591,88,591,95,613.2969,102,613.2969,102,643.5938,72,643.5938,72,591\" style=\"stroke: #000000; stroke-width: 1.5;\"/><line style=\"stroke: #000000; stroke-width: 1.5;\" x1=\"72\" x2=\"95\" y1=\"613.2969\" y2=\"613.2969\"/><text fill=\"#000000\" font-family=\"sans-serif\" font-size=\"14\" font-weight=\"bold\" lengthAdjust=\"spacingAndGlyphs\" textLength=\"10\" x=\"76\" y=\"605.9951\">P</text><!--MD5=[2720a5a1f2c3fca2055b230370638851]\n",
       "link E2 to E3--><path d=\"M155.5,102.24 C155.5,102.24 155.5,173.94 155.5,173.94 \" fill=\"none\" id=\"E2-&gt;E3\" style=\"stroke: #383838; stroke-width: 1.0;\"/><polygon fill=\"#FFFFFF\" points=\"155.5,193.94,148.5,174.94,162.5,174.94,155.5,193.94\" style=\"stroke: #383838; stroke-width: 1.0;\"/><ellipse cx=\"150.5\" cy=\"169.24\" fill=\"#383838\" rx=\"2\" ry=\"2\" style=\"stroke: #383838; stroke-width: 1.0;\"/><ellipse cx=\"160.5\" cy=\"169.24\" fill=\"#383838\" rx=\"2\" ry=\"2\" style=\"stroke: #383838; stroke-width: 1.0;\"/><!--MD5=[4672eba38e49728da53d11aeb285b987]\n",
       "reverse link E3 to E4--><path d=\"M125,283.07 C125,283.07 125,346.75 125,346.75 \" fill=\"none\" id=\"E3&lt;-E4\" style=\"stroke: #383838; stroke-width: 1.0;\"/><polygon fill=\"#383838\" points=\"125,270.07,121,276.07,125,282.07,129,276.07,125,270.07\" style=\"stroke: #383838; stroke-width: 1.0;\"/><!--MD5=[79568f1e445c3877b6a54524624ccc7d]\n",
       "link E4 to E6--><path d=\"M117,393.23 C117,393.23 117,433.98 117,433.98 \" fill=\"none\" id=\"E4-&gt;E6\" style=\"stroke: #383838; stroke-width: 1.0;\"/><polygon fill=\"#FFFFFF\" points=\"117,453.98,110,434.98,124,434.98,117,453.98\" style=\"stroke: #383838; stroke-width: 1.0;\"/><ellipse cx=\"112\" cy=\"429.28\" fill=\"#383838\" rx=\"2\" ry=\"2\" style=\"stroke: #383838; stroke-width: 1.0;\"/><ellipse cx=\"122\" cy=\"429.28\" fill=\"#383838\" rx=\"2\" ry=\"2\" style=\"stroke: #383838; stroke-width: 1.0;\"/><!--MD5=[3f50a3473f1dfb74d3f76443e03635af]\n",
       "reverse link E6 to E7--><path d=\"M87,545.34 C87,545.34 87,590.92 87,590.92 \" fill=\"none\" id=\"E6&lt;-E7\" style=\"stroke: #383838; stroke-width: 1.0;\"/><ellipse cx=\"87\" cy=\"538.34\" fill=\"#FFFFFF\" rx=\"8\" ry=\"8\" style=\"stroke: #383838; stroke-width: 1.0;\"/><line style=\"stroke: #383838; stroke-width: 1.0;\" x1=\"87\" x2=\"87\" y1=\"546.34\" y2=\"530.34\"/><line style=\"stroke: #383838; stroke-width: 1.0;\" x1=\"79\" x2=\"95\" y1=\"538.34\" y2=\"538.34\"/><!--MD5=[95fa686b5a16158bcdbcaeead89f639b]\n",
       "link E8 to E3--><path d=\"M158,594.25 C158,594.25 158,290.03 158,290.03 \" fill=\"none\" id=\"E8-&gt;E3\" style=\"stroke: #383838; stroke-width: 1.0;\"/><polygon fill=\"#FFFFFF\" points=\"158,270.03,165,289.03,151,289.03,158,270.03\" style=\"stroke: #383838; stroke-width: 1.0;\"/><ellipse cx=\"163\" cy=\"294.73\" fill=\"#383838\" rx=\"2\" ry=\"2\" style=\"stroke: #383838; stroke-width: 1.0;\"/><ellipse cx=\"153\" cy=\"294.73\" fill=\"#383838\" rx=\"2\" ry=\"2\" style=\"stroke: #383838; stroke-width: 1.0;\"/><!--MD5=[f4cf0736d43fd73c4ef68817c49d37d5]\n",
       "reverse link E6 to E8--><path d=\"M118,543.15 C118,543.15 118,618 118,618 C118,618 127.08,618 136.59,618 \" fill=\"none\" id=\"E6&lt;-E8\" style=\"stroke: #383838; stroke-width: 1.0;\"/><polygon fill=\"#383838\" points=\"118,530.15,114,536.15,118,542.15,122,536.15,118,530.15\" style=\"stroke: #383838; stroke-width: 1.0;\"/><!--MD5=[8e04057e7b3cbc0dca4fc78ea351e2da]\n",
       "reverse link E10 to E3--><path d=\"M115.15,110 C115.15,110 122.5,110 122.5,110 C122.5,110 122.5,157.95 122.5,193.73 \" fill=\"none\" id=\"E10&lt;-E3\" style=\"stroke: #383838; stroke-width: 1.0;\"/><polygon fill=\"#FFFFFF\" points=\"102.15,110,108.15,114,114.15,110,108.15,106,102.15,110\" style=\"stroke: #383838; stroke-width: 1.0;\"/><text fill=\"#000000\" font-family=\"sans-serif\" font-size=\"13\" lengthAdjust=\"spacingAndGlyphs\" textLength=\"7\" x=\"129\" y=\"160.0669\">y</text><!--MD5=[604cbf994c02b74b117f728a71673cea]\n",
       "reverse link E10 to E6--><path d=\"M84,130.11 C84,130.11 84,453.98 84,453.98 \" fill=\"none\" id=\"E10&lt;-E6\" style=\"stroke: #383838; stroke-width: 1.0;\"/><polygon fill=\"#FFFFFF\" points=\"84,117.11,80,123.11,84,129.11,88,123.11,84,117.11\" style=\"stroke: #383838; stroke-width: 1.0;\"/><text fill=\"#000000\" font-family=\"sans-serif\" font-size=\"13\" lengthAdjust=\"spacingAndGlyphs\" textLength=\"7\" x=\"68\" y=\"313.0669\">y</text><!--MD5=[03ff2092b0de1fe7828a80093581c61b]\n",
       "@startuml\r\n",
       "skinparam linetype ortho\r\n",
       "skinparam monochrome true\r\n",
       "skinparam classbackgroundcolor white\r\n",
       "skinparam shadowing false\r\n",
       "skinparam wrapWidth 300\r\n",
       "hide circle\r\n",
       "\r\n",
       "package \"PartTest\" as E1   {\r\n",
       "comp usage \"f: A\" as E2  <<(T,blue)part>> {\r\n",
       "}\r\n",
       "comp def \"A\" as E3  <<(T,blue)part def>> {\r\n",
       "- -ports- -\r\n",
       "c: C\r\n",
       "}\r\n",
       "comp usage \"b: B\" as E4  <<(T,blue)part>> {\r\n",
       "}\r\n",
       "comp def \"B\" as E6  <<(T,blue)part def>> {\r\n",
       "- -ports- -\r\n",
       "x: ~C\r\n",
       "}\r\n",
       "package \"P\" as E7   {\r\n",
       "}\r\n",
       "comp usage \"a: A\" as E8  <<(T,blue)part>> {\r\n",
       "}\r\n",
       "comp def \"C\" as E10  <<(T,blue)port def>> {\r\n",
       "- -references- -\r\n",
       "y: A <b>as</b> z2 \r\n",
       "}\r\n",
       "E2 - -:|> E3\r\n",
       "E3 *- - E4\r\n",
       "E4 - -:|> E6\r\n",
       "E6 +- - E7\r\n",
       "E8 - -:|> E3\r\n",
       "E6 *- - E8\r\n",
       "E10 o- - E3 : y\r\n",
       "E10 o- - E6 : y\r\n",
       "}\r\n",
       "@enduml\r\n",
       "\n",
       "PlantUML version 1.2020.13(Sat Jun 13 12:26:38 UTC 2020)\n",
       "(EPL source distribution)\n",
       "Java Runtime: OpenJDK Runtime Environment\n",
       "JVM: OpenJDK 64-Bit Server VM\n",
       "Default Encoding: UTF-8\n",
       "Language: en\n",
       "Country: null\n",
       "--></g></svg>"
      ]
     },
     "execution_count": 57,
     "metadata": {},
     "output_type": "execute_result"
    }
   ],
   "source": [
    "%viz --style=\"ORTHOLINE\" --view=\"MIXED\" \"PartTest\""
   ]
  }
 ],
 "metadata": {
  "kernelspec": {
   "display_name": "SysML",
   "language": "sysml",
   "name": "sysml"
  },
  "language_info": {
   "codemirror_mode": "sysml",
   "file_extension": ".sysml",
   "mimetype": "text/x-sysml",
   "name": "SysML",
   "pygments_lexer": "java",
   "version": "1.0.0"
  }
 },
 "nbformat": 4,
 "nbformat_minor": 5
}
