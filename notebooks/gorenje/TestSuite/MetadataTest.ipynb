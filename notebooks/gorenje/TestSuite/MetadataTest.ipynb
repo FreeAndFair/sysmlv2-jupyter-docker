{
 "cells": [
  {
   "cell_type": "markdown",
   "id": "1713a4cc",
   "metadata": {},
   "source": [
    "# SysML v2 Test Suite\n",
    "\n",
    "This can notebook can be cleared using menu `Edit --> Clear All Outputs` and then all cells can be\n",
    "run using menu `Run --> Run All Cells`.\n",
    "\n",
    "**WARNING**: This file is generated, all modifications here will be ignored.\n"
   ]
  },
  {
   "cell_type": "markdown",
   "id": "1e283285",
   "metadata": {},
   "source": [
    "## File: ../../sysml/src/examples/Simple Tests/MetadataTest.sysml"
   ]
  },
  {
   "cell_type": "code",
   "execution_count": 1,
   "id": "6ed963d8",
   "metadata": {
    "execution": {
     "iopub.execute_input": "2024-12-16T03:28:21.015894Z",
     "iopub.status.busy": "2024-12-16T03:28:21.014626Z",
     "iopub.status.idle": "2024-12-16T03:28:21.436243Z",
     "shell.execute_reply": "2024-12-16T03:28:21.436035Z"
    }
   },
   "outputs": [
    {
     "data": {
      "text/plain": [
       "Package MetadataTest (6bf27c65-dae0-4f69-b1ef-6329bb319dfc)\n"
      ]
     },
     "execution_count": 1,
     "metadata": {},
     "output_type": "execute_result"
    }
   ],
   "source": [
    "package MetadataTest {\n",
    "\tprivate import 'User Defined Extensions'::*;\n",
    "\t\n",
    "\tlibrary package 'User Defined Extensions' {\n",
    "\t\t\n",
    "\t\t#Security enum def ClassificationLevel :> ScalarValues::Natural {\n",
    "\t\t\tuncl : ClassificationLevel = 0;\n",
    "\t\t\tconf : ClassificationLevel = 1;\n",
    "\t\t\t#Security enum secret : ClassificationLevel = 2;\n",
    "\t\t}\n",
    "\t\t\n",
    "\t\tmetadata def Classified {\n",
    "\t\t\tref :>> annotatedElement : SysML::Usage;\n",
    "\t\t\tref classificationLevel : ClassificationLevel;\n",
    "\t\t}\n",
    "\t\t\n",
    "\t\tmetadata def Security;\n",
    "\t}\n",
    "\t\n",
    "\tref x {\n",
    "\t\tmetadata Classified {\n",
    "\t\t\tclassificationLevel = ClassificationLevel::conf;\n",
    "\t\t}\n",
    "\t}\n",
    "\t\n",
    "\tref y {\n",
    "\t\t@Classified {\n",
    "\t\t\tclassificationLevel = ClassificationLevel::conf;\n",
    "\t\t}\n",
    "\t\t@Security;\n",
    "\t}\n",
    "\t\n",
    "\tprivate ref #Classified #Security z1;\n",
    "\tabstract #Classified z2;\n",
    "\t\n",
    "\tref z {\n",
    "\t    #Security #Classified metadata Classified {\n",
    "\t        classificationLevel = ClassificationLevel::secret;\n",
    "\t    }\n",
    "\t}\t\n",
    "\t\n",
    "}"
   ]
  },
  {
   "cell_type": "code",
   "execution_count": 2,
   "id": "3fe7ffdc",
   "metadata": {
    "execution": {
     "iopub.execute_input": "2024-12-16T03:28:21.493114Z",
     "iopub.status.busy": "2024-12-16T03:28:21.492877Z",
     "iopub.status.idle": "2024-12-16T03:28:21.908541Z",
     "shell.execute_reply": "2024-12-16T03:28:21.907751Z"
    }
   },
   "outputs": [
    {
     "data": {
      "image/svg+xml": [
       "<?xml version=\"1.0\" encoding=\"UTF-8\" standalone=\"no\"?><svg xmlns=\"http://www.w3.org/2000/svg\" xmlns:xlink=\"http://www.w3.org/1999/xlink\" contentStyleType=\"text/css\" height=\"467px\" preserveAspectRatio=\"none\" style=\"width:707px;height:467px;background:#FFFFFF;\" version=\"1.1\" viewBox=\"0 0 707 467\" width=\"707px\" zoomAndPan=\"magnify\"><defs/><g><!--MD5=[fbc87193dbaf4d95561dea2c320d4a47]\n",
       "cluster E1--><g id=\"cluster_E1\"><a href=\"psysml:6bf27c65-dae0-4f69-b1ef-6329bb319dfc\" target=\"_top\" title=\"psysml:6bf27c65-dae0-4f69-b1ef-6329bb319dfc\" xlink:actuate=\"onRequest\" xlink:href=\"psysml:6bf27c65-dae0-4f69-b1ef-6329bb319dfc\" xlink:show=\"new\" xlink:title=\"psysml:6bf27c65-dae0-4f69-b1ef-6329bb319dfc\" xlink:type=\"simple\"><polygon fill=\"none\" points=\"16,6,122.25,6,129.25,28.2969,690,28.2969,690,460.72,16,460.72,16,6\" style=\"stroke:#000000;stroke-width:1.5;\"/><line style=\"stroke:#000000;stroke-width:1.5;\" x1=\"16\" x2=\"129.25\" y1=\"28.2969\" y2=\"28.2969\"/><text fill=\"#000000\" font-family=\"sans-serif\" font-size=\"14\" font-weight=\"bold\" lengthAdjust=\"spacing\" textLength=\"100.25\" x=\"20\" y=\"20.9951\">MetadataTest</text></a></g><!--MD5=[e4f7fae6ed58524ba242bb0b0d3be6b7]\n",
       "cluster E2--><g id=\"cluster_E2\"><a href=\"psysml:fde4dbf0-a827-4985-ab3d-be4806656b08\" target=\"_top\" title=\"psysml:fde4dbf0-a827-4985-ab3d-be4806656b08\" xlink:actuate=\"onRequest\" xlink:href=\"psysml:fde4dbf0-a827-4985-ab3d-be4806656b08\" xlink:show=\"new\" xlink:title=\"psysml:fde4dbf0-a827-4985-ab3d-be4806656b08\" xlink:type=\"simple\"><polygon fill=\"none\" points=\"337,120.72,522.1875,120.72,529.1875,143.0169,650,143.0169,650,420.72,337,420.72,337,120.72\" style=\"stroke:#000000;stroke-width:1.5;\"/><line style=\"stroke:#000000;stroke-width:1.5;\" x1=\"337\" x2=\"529.1875\" y1=\"143.0169\" y2=\"143.0169\"/><text fill=\"#000000\" font-family=\"sans-serif\" font-size=\"14\" font-weight=\"bold\" lengthAdjust=\"spacing\" textLength=\"179.1875\" x=\"341\" y=\"135.7151\">User Defined Extensions</text></a></g><!--MD5=[60a26617385b1d2d0262a64233df1f8d]\n",
       "class E6--><a href=\"psysml:09bb7bef-5578-400a-ab09-b89f3b478a84\" target=\"_top\" title=\"psysml:09bb7bef-5578-400a-ab09-b89f3b478a84\" xlink:actuate=\"onRequest\" xlink:href=\"psysml:09bb7bef-5578-400a-ab09-b89f3b478a84\" xlink:show=\"new\" xlink:title=\"psysml:09bb7bef-5578-400a-ab09-b89f3b478a84\" xlink:type=\"simple\"><g id=\"elem_E6\"><rect fill=\"#FFFFFF\" height=\"48.2656\" id=\"E6\" rx=\"10\" ry=\"10\" style=\"stroke:#181818;stroke-width:0.5;\" width=\"149\" x=\"160.5\" y=\"163.72\"/><text fill=\"#000000\" font-family=\"sans-serif\" font-size=\"12\" font-style=\"italic\" lengthAdjust=\"spacing\" textLength=\"147\" x=\"161.5\" y=\"179.8587\">«#Classified #Security»</text><text fill=\"#000000\" font-family=\"sans-serif\" font-size=\"14\" lengthAdjust=\"spacing\" textLength=\"17\" x=\"222.5\" y=\"195.6839\">z1</text><line style=\"stroke:#181818;stroke-width:0.5;\" x1=\"161.5\" x2=\"308.5\" y1=\"203.9856\" y2=\"203.9856\"/></g></a><!--MD5=[2156ba9850f5573cc1fc38a6a4b2f02b]\n",
       "class E7--><a href=\"psysml:fcfec3d1-5349-46cf-95eb-369f9c247e1c\" target=\"_top\" title=\"psysml:fcfec3d1-5349-46cf-95eb-369f9c247e1c\" xlink:actuate=\"onRequest\" xlink:href=\"psysml:fcfec3d1-5349-46cf-95eb-369f9c247e1c\" xlink:show=\"new\" xlink:title=\"psysml:fcfec3d1-5349-46cf-95eb-369f9c247e1c\" xlink:type=\"simple\"><g id=\"elem_E7\"><rect fill=\"#FFFFFF\" height=\"48.2656\" id=\"E7\" rx=\"10\" ry=\"10\" style=\"stroke:#181818;stroke-width:0.5;\" width=\"85\" x=\"40.5\" y=\"163.72\"/><text fill=\"#000000\" font-family=\"sans-serif\" font-size=\"12\" font-style=\"italic\" lengthAdjust=\"spacing\" textLength=\"83\" x=\"41.5\" y=\"179.8587\">«#Classified»</text><text fill=\"#000000\" font-family=\"sans-serif\" font-size=\"14\" font-style=\"italic\" lengthAdjust=\"spacing\" textLength=\"17\" x=\"70.5\" y=\"195.6839\">z2</text><text fill=\"#000000\" font-family=\"sans-serif\" font-size=\"14\" lengthAdjust=\"spacing\" textLength=\"8\" x=\"87.5\" y=\"195.6839\">  </text><line style=\"stroke:#181818;stroke-width:0.5;\" x1=\"41.5\" x2=\"124.5\" y1=\"203.9856\" y2=\"203.9856\"/></g></a><!--MD5=[09b614a08d8cba4a07c9adeb5e0fee81]\n",
       "class E3--><a href=\"psysml:875613db-282a-4c31-9ce2-2c5502fc9987\" target=\"_top\" title=\"psysml:875613db-282a-4c31-9ce2-2c5502fc9987\" xlink:actuate=\"onRequest\" xlink:href=\"psysml:875613db-282a-4c31-9ce2-2c5502fc9987\" xlink:show=\"new\" xlink:title=\"psysml:875613db-282a-4c31-9ce2-2c5502fc9987\" xlink:type=\"simple\"><g id=\"elem_E3\"><rect fill=\"#FFFFFF\" height=\"107.675\" id=\"E3\" style=\"stroke:#181818;stroke-width:0.5;\" width=\"218\" x=\"401\" y=\"288.72\"/><text fill=\"#000000\" font-family=\"sans-serif\" font-size=\"12\" font-style=\"italic\" lengthAdjust=\"spacing\" textLength=\"74\" x=\"473\" y=\"304.8587\">«#Security»</text><text fill=\"#000000\" font-family=\"sans-serif\" font-size=\"14\" font-style=\"italic\" lengthAdjust=\"spacing\" textLength=\"124\" x=\"448\" y=\"320.6839\">ClassificationLevel</text><line style=\"stroke:#181818;stroke-width:0.5;\" x1=\"402\" x2=\"618\" y1=\"328.9856\" y2=\"328.9856\"/><text fill=\"#000000\" font-family=\"sans-serif\" font-size=\"14\" lengthAdjust=\"spacing\" textLength=\"191\" x=\"407\" y=\"356.4995\">uncl: ClassificationLevel = 0</text><text fill=\"#000000\" font-family=\"sans-serif\" font-size=\"14\" lengthAdjust=\"spacing\" textLength=\"192\" x=\"407\" y=\"372.7964\">conf: ClassificationLevel = 1</text><text fill=\"#000000\" font-family=\"sans-serif\" font-size=\"14\" lengthAdjust=\"spacing\" textLength=\"206\" x=\"407\" y=\"389.0932\">secret: ClassificationLevel = 2</text><text fill=\"#000000\" font-family=\"sans-serif\" font-size=\"14\" font-style=\"italic\" lengthAdjust=\"spacing\" textLength=\"48\" x=\"486\" y=\"341.3323\">enums</text></g></a><!--MD5=[ebbe1d658d1005bcc118a6aa81145e00]\n",
       "class E4--><a href=\"psysml:7d365ab2-02f5-4019-ac52-725960bbc954\" target=\"_top\" title=\"psysml:7d365ab2-02f5-4019-ac52-725960bbc954\" xlink:actuate=\"onRequest\" xlink:href=\"psysml:7d365ab2-02f5-4019-ac52-725960bbc954\" xlink:show=\"new\" xlink:title=\"psysml:7d365ab2-02f5-4019-ac52-725960bbc954\" xlink:type=\"simple\"><g id=\"elem_E4\"><rect fill=\"#FFFFFF\" height=\"48.2656\" id=\"E4\" style=\"stroke:#181818;stroke-width:0.5;\" width=\"105\" x=\"520.5\" y=\"163.72\"/><text fill=\"#000000\" font-family=\"sans-serif\" font-size=\"12\" font-style=\"italic\" lengthAdjust=\"spacing\" textLength=\"103\" x=\"521.5\" y=\"179.8587\">«metadata  def»</text><text fill=\"#000000\" font-family=\"sans-serif\" font-size=\"14\" lengthAdjust=\"spacing\" textLength=\"65\" x=\"540.5\" y=\"195.6839\">Classified</text><line style=\"stroke:#181818;stroke-width:0.5;\" x1=\"521.5\" x2=\"624.5\" y1=\"203.9856\" y2=\"203.9856\"/></g></a><!--MD5=[270fce915f116d4de14055a7c1d9a0f3]\n",
       "class E5--><a href=\"psysml:b54cb894-c9b4-4b22-a0a5-6c760d030873\" target=\"_top\" title=\"psysml:b54cb894-c9b4-4b22-a0a5-6c760d030873\" xlink:actuate=\"onRequest\" xlink:href=\"psysml:b54cb894-c9b4-4b22-a0a5-6c760d030873\" xlink:show=\"new\" xlink:title=\"psysml:b54cb894-c9b4-4b22-a0a5-6c760d030873\" xlink:type=\"simple\"><g id=\"elem_E5\"><rect fill=\"#FFFFFF\" height=\"48.2656\" id=\"E5\" style=\"stroke:#181818;stroke-width:0.5;\" width=\"105\" x=\"380.5\" y=\"163.72\"/><text fill=\"#000000\" font-family=\"sans-serif\" font-size=\"12\" font-style=\"italic\" lengthAdjust=\"spacing\" textLength=\"103\" x=\"381.5\" y=\"179.8587\">«metadata  def»</text><text fill=\"#000000\" font-family=\"sans-serif\" font-size=\"14\" lengthAdjust=\"spacing\" textLength=\"55\" x=\"405.5\" y=\"195.6839\">Security</text><line style=\"stroke:#181818;stroke-width:0.5;\" x1=\"381.5\" x2=\"484.5\" y1=\"203.9856\" y2=\"203.9856\"/></g></a><!--MD5=[1f1cd8e6dd4c1b2ca2aaccc9b9bcea6e]\n",
       "link E1 to E2--><g id=\"link_E1_E2\"><a href=\"psysml:7790dee3-4a68-47c5-b25f-526a96f63664\" target=\"_top\" title=\"psysml:7790dee3-4a68-47c5-b25f-526a96f63664\" xlink:actuate=\"onRequest\" xlink:href=\"psysml:7790dee3-4a68-47c5-b25f-526a96f63664\" xlink:show=\"new\" xlink:title=\"psysml:7790dee3-4a68-47c5-b25f-526a96f63664\" xlink:type=\"simple\"><path d=\"M345,33.83 C345,36.11 345,73.1825 345,110.2463 C345,112.5627 345,114.8792 345,117.1871 C345,118.3411 345,119.4929 345,120.6415 \" fill=\"none\" id=\"E1-to-E2\" style=\"stroke:#181818;stroke-width:1.0;stroke-dasharray:7.0,7.0;\"/><polygon fill=\"#181818\" points=\"345,120.6415,349,111.6415,345,115.6415,341,111.6415,345,120.6415\" style=\"stroke:#181818;stroke-width:1.0;\"/><text fill=\"#000000\" font-family=\"sans-serif\" font-size=\"13\" lengthAdjust=\"spacing\" textLength=\"65\" x=\"346\" y=\"76.7869\">«import»*</text></a></g><!--MD5=[4735aefadfa2e5978451eb08fa1f3993]\n",
       "reverse link E4 to E3--><g id=\"link_E4_E3\"><a href=\"psysml:70fb76d3-4397-496c-b537-fd7ec6ee6db2\" target=\"_top\" title=\"psysml:70fb76d3-4397-496c-b537-fd7ec6ee6db2\" xlink:actuate=\"onRequest\" xlink:href=\"psysml:70fb76d3-4397-496c-b537-fd7ec6ee6db2\" xlink:show=\"new\" xlink:title=\"psysml:70fb76d3-4397-496c-b537-fd7ec6ee6db2\" xlink:type=\"simple\"><path d=\"M558.47,224.01 C550.61,243.1 540.73,267.08 531.96,288.4 \" fill=\"none\" id=\"E4-backto-E3\" style=\"stroke:#181818;stroke-width:1.0;\"/><polygon fill=\"none\" points=\"563.43,211.96,557.4497,215.9894,558.869,223.0594,564.8493,219.0301,563.43,211.96\" style=\"stroke:#181818;stroke-width:1.0;\"/><text fill=\"#000000\" font-family=\"sans-serif\" font-size=\"13\" lengthAdjust=\"spacing\" textLength=\"114\" x=\"551\" y=\"254.7869\">classificationLevel</text></a></g><!--MD5=[89e270bd3c5942742f89ddc64f33c045]\n",
       "@startuml\r\n",
       "skin sysmlbw\r\n",
       "skinparam monochrome true\r\n",
       "skinparam wrapWidth 300\r\n",
       "hide circle\r\n",
       " \r\n",
       "package \"MetadataTest\" as E1  [[psysml:6bf27c65-dae0-4f69-b1ef-6329bb319dfc ]]  {\r\n",
       "package \"User Defined Extensions\" as E2  [[psysml:fde4dbf0-a827-4985-ab3d-be4806656b08 ]]  {\r\n",
       "comp def \"<i>ClassificationLevel</i>\" as E3 <<#Security>>[[psysml:875613db-282a-4c31-9ce2-2c5502fc9987 ]] {\r\n",
       "##//enums//##\r\n",
       "uncl: ClassificationLevel <U+003D> 0\r\n",
       "conf: ClassificationLevel <U+003D> 1\r\n",
       "secret: ClassificationLevel <U+003D> 2\r\n",
       "}\r\n",
       "comp def \"Classified\" as E4  <<(T,blue) metadata  def>> [[psysml:7d365ab2-02f5-4019-ac52-725960bbc954 ]] {\r\n",
       "}\r\n",
       "comp def \"Security\" as E5  <<(T,blue) metadata  def>> [[psysml:b54cb894-c9b4-4b22-a0a5-6c760d030873 ]] {\r\n",
       "}\r\n",
       "}\r\n",
       "comp usage \"z1  \" as E6 <<#Classified #Security>>[[psysml:09bb7bef-5578-400a-ab09-b89f3b478a84 ]] {\r\n",
       "}\r\n",
       "comp usage \"<i>z2</i>  \" as E7 <<#Classified>>[[psysml:fcfec3d1-5349-46cf-95eb-369f9c247e1c ]] {\r\n",
       "}\r\n",
       "}\r\n",
       "E1 ..> E2 [[psysml:7790dee3-4a68-47c5-b25f-526a96f63664 ]] : <<import>>*\r\n",
       "E4 o- - E3 [[psysml:70fb76d3-4397-496c-b537-fd7ec6ee6db2 ]] : classificationLevel\r\n",
       "@enduml\r\n",
       "\n",
       "PlantUML version 1.2022.7(Mon Aug 22 17:01:30 UTC 2022)\n",
       "(EPL source distribution)\n",
       "Java Runtime: OpenJDK Runtime Environment\n",
       "JVM: OpenJDK 64-Bit Server VM\n",
       "Default Encoding: UTF-8\n",
       "Language: en\n",
       "Country: null\n",
       "--></g></svg>"
      ]
     },
     "execution_count": 2,
     "metadata": {},
     "output_type": "execute_result"
    }
   ],
   "source": [
    "%viz --style=\"COMPTREE\" --view=\"Default\" \"MetadataTest\""
   ]
  },
  {
   "cell_type": "code",
   "execution_count": 3,
   "id": "c00c55c8",
   "metadata": {
    "execution": {
     "iopub.execute_input": "2024-12-16T03:28:21.965181Z",
     "iopub.status.busy": "2024-12-16T03:28:21.964961Z",
     "iopub.status.idle": "2024-12-16T03:28:22.012552Z",
     "shell.execute_reply": "2024-12-16T03:28:22.012379Z"
    }
   },
   "outputs": [
    {
     "data": {
      "image/svg+xml": [
       "<?xml version=\"1.0\" encoding=\"UTF-8\" standalone=\"no\"?><svg xmlns=\"http://www.w3.org/2000/svg\" xmlns:xlink=\"http://www.w3.org/1999/xlink\" contentStyleType=\"text/css\" height=\"467px\" preserveAspectRatio=\"none\" style=\"width:707px;height:467px;background:#FFFFFF;\" version=\"1.1\" viewBox=\"0 0 707 467\" width=\"707px\" zoomAndPan=\"magnify\"><defs/><g><!--MD5=[fbc87193dbaf4d95561dea2c320d4a47]\n",
       "cluster E1--><g id=\"cluster_E1\"><a href=\"psysml:6bf27c65-dae0-4f69-b1ef-6329bb319dfc\" target=\"_top\" title=\"psysml:6bf27c65-dae0-4f69-b1ef-6329bb319dfc\" xlink:actuate=\"onRequest\" xlink:href=\"psysml:6bf27c65-dae0-4f69-b1ef-6329bb319dfc\" xlink:show=\"new\" xlink:title=\"psysml:6bf27c65-dae0-4f69-b1ef-6329bb319dfc\" xlink:type=\"simple\"><polygon fill=\"none\" points=\"16,6,122.25,6,129.25,28.2969,690,28.2969,690,460.72,16,460.72,16,6\" style=\"stroke:#000000;stroke-width:1.5;\"/><line style=\"stroke:#000000;stroke-width:1.5;\" x1=\"16\" x2=\"129.25\" y1=\"28.2969\" y2=\"28.2969\"/><text fill=\"#000000\" font-family=\"sans-serif\" font-size=\"14\" font-weight=\"bold\" lengthAdjust=\"spacing\" textLength=\"100.25\" x=\"20\" y=\"20.9951\">MetadataTest</text></a></g><!--MD5=[e4f7fae6ed58524ba242bb0b0d3be6b7]\n",
       "cluster E2--><g id=\"cluster_E2\"><a href=\"psysml:fde4dbf0-a827-4985-ab3d-be4806656b08\" target=\"_top\" title=\"psysml:fde4dbf0-a827-4985-ab3d-be4806656b08\" xlink:actuate=\"onRequest\" xlink:href=\"psysml:fde4dbf0-a827-4985-ab3d-be4806656b08\" xlink:show=\"new\" xlink:title=\"psysml:fde4dbf0-a827-4985-ab3d-be4806656b08\" xlink:type=\"simple\"><polygon fill=\"none\" points=\"337,120.72,522.1875,120.72,529.1875,143.0169,650,143.0169,650,420.72,337,420.72,337,120.72\" style=\"stroke:#000000;stroke-width:1.5;\"/><line style=\"stroke:#000000;stroke-width:1.5;\" x1=\"337\" x2=\"529.1875\" y1=\"143.0169\" y2=\"143.0169\"/><text fill=\"#000000\" font-family=\"sans-serif\" font-size=\"14\" font-weight=\"bold\" lengthAdjust=\"spacing\" textLength=\"179.1875\" x=\"341\" y=\"135.7151\">User Defined Extensions</text></a></g><!--MD5=[60a26617385b1d2d0262a64233df1f8d]\n",
       "class E6--><a href=\"psysml:09bb7bef-5578-400a-ab09-b89f3b478a84\" target=\"_top\" title=\"psysml:09bb7bef-5578-400a-ab09-b89f3b478a84\" xlink:actuate=\"onRequest\" xlink:href=\"psysml:09bb7bef-5578-400a-ab09-b89f3b478a84\" xlink:show=\"new\" xlink:title=\"psysml:09bb7bef-5578-400a-ab09-b89f3b478a84\" xlink:type=\"simple\"><g id=\"elem_E6\"><rect fill=\"#FFFFFF\" height=\"48.2656\" id=\"E6\" rx=\"10\" ry=\"10\" style=\"stroke:#181818;stroke-width:0.5;\" width=\"149\" x=\"160.5\" y=\"163.72\"/><text fill=\"#000000\" font-family=\"sans-serif\" font-size=\"12\" font-style=\"italic\" lengthAdjust=\"spacing\" textLength=\"147\" x=\"161.5\" y=\"179.8587\">«#Classified #Security»</text><text fill=\"#000000\" font-family=\"sans-serif\" font-size=\"14\" lengthAdjust=\"spacing\" textLength=\"17\" x=\"222.5\" y=\"195.6839\">z1</text><line style=\"stroke:#181818;stroke-width:0.5;\" x1=\"161.5\" x2=\"308.5\" y1=\"203.9856\" y2=\"203.9856\"/></g></a><!--MD5=[2156ba9850f5573cc1fc38a6a4b2f02b]\n",
       "class E7--><a href=\"psysml:fcfec3d1-5349-46cf-95eb-369f9c247e1c\" target=\"_top\" title=\"psysml:fcfec3d1-5349-46cf-95eb-369f9c247e1c\" xlink:actuate=\"onRequest\" xlink:href=\"psysml:fcfec3d1-5349-46cf-95eb-369f9c247e1c\" xlink:show=\"new\" xlink:title=\"psysml:fcfec3d1-5349-46cf-95eb-369f9c247e1c\" xlink:type=\"simple\"><g id=\"elem_E7\"><rect fill=\"#FFFFFF\" height=\"48.2656\" id=\"E7\" rx=\"10\" ry=\"10\" style=\"stroke:#181818;stroke-width:0.5;\" width=\"85\" x=\"40.5\" y=\"163.72\"/><text fill=\"#000000\" font-family=\"sans-serif\" font-size=\"12\" font-style=\"italic\" lengthAdjust=\"spacing\" textLength=\"83\" x=\"41.5\" y=\"179.8587\">«#Classified»</text><text fill=\"#000000\" font-family=\"sans-serif\" font-size=\"14\" font-style=\"italic\" lengthAdjust=\"spacing\" textLength=\"17\" x=\"70.5\" y=\"195.6839\">z2</text><text fill=\"#000000\" font-family=\"sans-serif\" font-size=\"14\" lengthAdjust=\"spacing\" textLength=\"8\" x=\"87.5\" y=\"195.6839\">  </text><line style=\"stroke:#181818;stroke-width:0.5;\" x1=\"41.5\" x2=\"124.5\" y1=\"203.9856\" y2=\"203.9856\"/></g></a><!--MD5=[09b614a08d8cba4a07c9adeb5e0fee81]\n",
       "class E3--><a href=\"psysml:875613db-282a-4c31-9ce2-2c5502fc9987\" target=\"_top\" title=\"psysml:875613db-282a-4c31-9ce2-2c5502fc9987\" xlink:actuate=\"onRequest\" xlink:href=\"psysml:875613db-282a-4c31-9ce2-2c5502fc9987\" xlink:show=\"new\" xlink:title=\"psysml:875613db-282a-4c31-9ce2-2c5502fc9987\" xlink:type=\"simple\"><g id=\"elem_E3\"><rect fill=\"#FFFFFF\" height=\"107.675\" id=\"E3\" style=\"stroke:#181818;stroke-width:0.5;\" width=\"218\" x=\"401\" y=\"288.72\"/><text fill=\"#000000\" font-family=\"sans-serif\" font-size=\"12\" font-style=\"italic\" lengthAdjust=\"spacing\" textLength=\"74\" x=\"473\" y=\"304.8587\">«#Security»</text><text fill=\"#000000\" font-family=\"sans-serif\" font-size=\"14\" font-style=\"italic\" lengthAdjust=\"spacing\" textLength=\"124\" x=\"448\" y=\"320.6839\">ClassificationLevel</text><line style=\"stroke:#181818;stroke-width:0.5;\" x1=\"402\" x2=\"618\" y1=\"328.9856\" y2=\"328.9856\"/><text fill=\"#000000\" font-family=\"sans-serif\" font-size=\"14\" lengthAdjust=\"spacing\" textLength=\"191\" x=\"407\" y=\"356.4995\">uncl: ClassificationLevel = 0</text><text fill=\"#000000\" font-family=\"sans-serif\" font-size=\"14\" lengthAdjust=\"spacing\" textLength=\"192\" x=\"407\" y=\"372.7964\">conf: ClassificationLevel = 1</text><text fill=\"#000000\" font-family=\"sans-serif\" font-size=\"14\" lengthAdjust=\"spacing\" textLength=\"206\" x=\"407\" y=\"389.0932\">secret: ClassificationLevel = 2</text><text fill=\"#000000\" font-family=\"sans-serif\" font-size=\"14\" font-style=\"italic\" lengthAdjust=\"spacing\" textLength=\"48\" x=\"486\" y=\"341.3323\">enums</text></g></a><!--MD5=[ebbe1d658d1005bcc118a6aa81145e00]\n",
       "class E4--><a href=\"psysml:7d365ab2-02f5-4019-ac52-725960bbc954\" target=\"_top\" title=\"psysml:7d365ab2-02f5-4019-ac52-725960bbc954\" xlink:actuate=\"onRequest\" xlink:href=\"psysml:7d365ab2-02f5-4019-ac52-725960bbc954\" xlink:show=\"new\" xlink:title=\"psysml:7d365ab2-02f5-4019-ac52-725960bbc954\" xlink:type=\"simple\"><g id=\"elem_E4\"><rect fill=\"#FFFFFF\" height=\"48.2656\" id=\"E4\" style=\"stroke:#181818;stroke-width:0.5;\" width=\"105\" x=\"520.5\" y=\"163.72\"/><text fill=\"#000000\" font-family=\"sans-serif\" font-size=\"12\" font-style=\"italic\" lengthAdjust=\"spacing\" textLength=\"103\" x=\"521.5\" y=\"179.8587\">«metadata  def»</text><text fill=\"#000000\" font-family=\"sans-serif\" font-size=\"14\" lengthAdjust=\"spacing\" textLength=\"65\" x=\"540.5\" y=\"195.6839\">Classified</text><line style=\"stroke:#181818;stroke-width:0.5;\" x1=\"521.5\" x2=\"624.5\" y1=\"203.9856\" y2=\"203.9856\"/></g></a><!--MD5=[270fce915f116d4de14055a7c1d9a0f3]\n",
       "class E5--><a href=\"psysml:b54cb894-c9b4-4b22-a0a5-6c760d030873\" target=\"_top\" title=\"psysml:b54cb894-c9b4-4b22-a0a5-6c760d030873\" xlink:actuate=\"onRequest\" xlink:href=\"psysml:b54cb894-c9b4-4b22-a0a5-6c760d030873\" xlink:show=\"new\" xlink:title=\"psysml:b54cb894-c9b4-4b22-a0a5-6c760d030873\" xlink:type=\"simple\"><g id=\"elem_E5\"><rect fill=\"#FFFFFF\" height=\"48.2656\" id=\"E5\" style=\"stroke:#181818;stroke-width:0.5;\" width=\"105\" x=\"380.5\" y=\"163.72\"/><text fill=\"#000000\" font-family=\"sans-serif\" font-size=\"12\" font-style=\"italic\" lengthAdjust=\"spacing\" textLength=\"103\" x=\"381.5\" y=\"179.8587\">«metadata  def»</text><text fill=\"#000000\" font-family=\"sans-serif\" font-size=\"14\" lengthAdjust=\"spacing\" textLength=\"55\" x=\"405.5\" y=\"195.6839\">Security</text><line style=\"stroke:#181818;stroke-width:0.5;\" x1=\"381.5\" x2=\"484.5\" y1=\"203.9856\" y2=\"203.9856\"/></g></a><!--MD5=[1f1cd8e6dd4c1b2ca2aaccc9b9bcea6e]\n",
       "link E1 to E2--><g id=\"link_E1_E2\"><a href=\"psysml:7790dee3-4a68-47c5-b25f-526a96f63664\" target=\"_top\" title=\"psysml:7790dee3-4a68-47c5-b25f-526a96f63664\" xlink:actuate=\"onRequest\" xlink:href=\"psysml:7790dee3-4a68-47c5-b25f-526a96f63664\" xlink:show=\"new\" xlink:title=\"psysml:7790dee3-4a68-47c5-b25f-526a96f63664\" xlink:type=\"simple\"><path d=\"M345,33.83 C345,36.11 345,73.1825 345,110.2463 C345,112.5627 345,114.8792 345,117.1871 C345,118.3411 345,119.4929 345,120.6415 \" fill=\"none\" id=\"E1-to-E2\" style=\"stroke:#181818;stroke-width:1.0;stroke-dasharray:7.0,7.0;\"/><polygon fill=\"#181818\" points=\"345,120.6415,349,111.6415,345,115.6415,341,111.6415,345,120.6415\" style=\"stroke:#181818;stroke-width:1.0;\"/><text fill=\"#000000\" font-family=\"sans-serif\" font-size=\"13\" lengthAdjust=\"spacing\" textLength=\"65\" x=\"346\" y=\"76.7869\">«import»*</text></a></g><!--MD5=[4735aefadfa2e5978451eb08fa1f3993]\n",
       "reverse link E4 to E3--><g id=\"link_E4_E3\"><a href=\"psysml:70fb76d3-4397-496c-b537-fd7ec6ee6db2\" target=\"_top\" title=\"psysml:70fb76d3-4397-496c-b537-fd7ec6ee6db2\" xlink:actuate=\"onRequest\" xlink:href=\"psysml:70fb76d3-4397-496c-b537-fd7ec6ee6db2\" xlink:show=\"new\" xlink:title=\"psysml:70fb76d3-4397-496c-b537-fd7ec6ee6db2\" xlink:type=\"simple\"><path d=\"M558.47,224.01 C550.61,243.1 540.73,267.08 531.96,288.4 \" fill=\"none\" id=\"E4-backto-E3\" style=\"stroke:#181818;stroke-width:1.0;\"/><polygon fill=\"none\" points=\"563.43,211.96,557.4497,215.9894,558.869,223.0594,564.8493,219.0301,563.43,211.96\" style=\"stroke:#181818;stroke-width:1.0;\"/><text fill=\"#000000\" font-family=\"sans-serif\" font-size=\"13\" lengthAdjust=\"spacing\" textLength=\"114\" x=\"551\" y=\"254.7869\">classificationLevel</text></a></g><!--MD5=[89e270bd3c5942742f89ddc64f33c045]\n",
       "@startuml\r\n",
       "skin sysmlbw\r\n",
       "skinparam monochrome true\r\n",
       "skinparam wrapWidth 300\r\n",
       "hide circle\r\n",
       " \r\n",
       "package \"MetadataTest\" as E1  [[psysml:6bf27c65-dae0-4f69-b1ef-6329bb319dfc ]]  {\r\n",
       "package \"User Defined Extensions\" as E2  [[psysml:fde4dbf0-a827-4985-ab3d-be4806656b08 ]]  {\r\n",
       "comp def \"<i>ClassificationLevel</i>\" as E3 <<#Security>>[[psysml:875613db-282a-4c31-9ce2-2c5502fc9987 ]] {\r\n",
       "##//enums//##\r\n",
       "uncl: ClassificationLevel <U+003D> 0\r\n",
       "conf: ClassificationLevel <U+003D> 1\r\n",
       "secret: ClassificationLevel <U+003D> 2\r\n",
       "}\r\n",
       "comp def \"Classified\" as E4  <<(T,blue) metadata  def>> [[psysml:7d365ab2-02f5-4019-ac52-725960bbc954 ]] {\r\n",
       "}\r\n",
       "comp def \"Security\" as E5  <<(T,blue) metadata  def>> [[psysml:b54cb894-c9b4-4b22-a0a5-6c760d030873 ]] {\r\n",
       "}\r\n",
       "}\r\n",
       "comp usage \"z1  \" as E6 <<#Classified #Security>>[[psysml:09bb7bef-5578-400a-ab09-b89f3b478a84 ]] {\r\n",
       "}\r\n",
       "comp usage \"<i>z2</i>  \" as E7 <<#Classified>>[[psysml:fcfec3d1-5349-46cf-95eb-369f9c247e1c ]] {\r\n",
       "}\r\n",
       "}\r\n",
       "E1 ..> E2 [[psysml:7790dee3-4a68-47c5-b25f-526a96f63664 ]] : <<import>>*\r\n",
       "E4 o- - E3 [[psysml:70fb76d3-4397-496c-b537-fd7ec6ee6db2 ]] : classificationLevel\r\n",
       "@enduml\r\n",
       "\n",
       "PlantUML version 1.2022.7(Mon Aug 22 17:01:30 UTC 2022)\n",
       "(EPL source distribution)\n",
       "Java Runtime: OpenJDK Runtime Environment\n",
       "JVM: OpenJDK 64-Bit Server VM\n",
       "Default Encoding: UTF-8\n",
       "Language: en\n",
       "Country: null\n",
       "--></g></svg>"
      ]
     },
     "execution_count": 3,
     "metadata": {},
     "output_type": "execute_result"
    }
   ],
   "source": [
    "%viz --style=\"COMPTREE\" --view=\"Tree\" \"MetadataTest\""
   ]
  },
  {
   "cell_type": "code",
   "execution_count": 4,
   "id": "9035997d",
   "metadata": {
    "execution": {
     "iopub.execute_input": "2024-12-16T03:28:22.068385Z",
     "iopub.status.busy": "2024-12-16T03:28:22.068144Z",
     "iopub.status.idle": "2024-12-16T03:28:22.098108Z",
     "shell.execute_reply": "2024-12-16T03:28:22.098240Z"
    }
   },
   "outputs": [
    {
     "data": {
      "image/svg+xml": [
       "<?xml version=\"1.0\" encoding=\"UTF-8\" standalone=\"no\"?><svg xmlns=\"http://www.w3.org/2000/svg\" xmlns:xlink=\"http://www.w3.org/1999/xlink\" contentStyleType=\"text/css\" height=\"96px\" preserveAspectRatio=\"none\" style=\"width:912px;height:96px;background:#FFFFFF;\" version=\"1.1\" viewBox=\"0 0 912 96\" width=\"912px\" zoomAndPan=\"magnify\"><defs/><g><g id=\"elem_E1\"><path d=\"M6,13.5 L6,82.0448 L315,82.0448 L315,23.5 L305,13.5 L6,13.5 \" fill=\"#FAFAFA\" style=\"stroke:#181818;stroke-width:0.5;\"/><path d=\"M305,13.5 L305,23.5 L315,23.5 L305,13.5 \" fill=\"#FAFAFA\" style=\"stroke:#181818;stroke-width:1.0;\"/><text fill=\"#000000\" font-family=\"monospace\" font-size=\"13\" lengthAdjust=\"spacing\" textLength=\"112\" x=\"12\" y=\"32.397\">              </text><a href=\"psysml:ccd30bed-0f75-43dd-8560-a117ef71fdae\" target=\"_top\" title=\"psysml:ccd30bed-0f75-43dd-8560-a117ef71fdae\" xlink:actuate=\"onRequest\" xlink:href=\"psysml:ccd30bed-0f75-43dd-8560-a117ef71fdae\" xlink:show=\"new\" xlink:title=\"psysml:ccd30bed-0f75-43dd-8560-a117ef71fdae\" xlink:type=\"simple\"><text fill=\"#000000\" font-family=\"sans-serif\" font-size=\"13\" lengthAdjust=\"spacing\" text-decoration=\"underline\" textLength=\"79\" x=\"124\" y=\"33.1401\">«metadata»</text></a><text fill=\"#000000\" font-family=\"monospace\" font-size=\"13\" font-style=\"italic\" lengthAdjust=\"spacing\" textLength=\"112\" x=\"12\" y=\"50.103\">              </text><text fill=\"#000000\" font-family=\"sans-serif\" font-size=\"13\" font-style=\"italic\" lengthAdjust=\"spacing\" textLength=\"60\" x=\"124\" y=\"50.8461\">Classified</text><line style=\"stroke:#181818;stroke-width:1.0;\" x1=\"7\" x2=\"314\" y1=\"53.912\" y2=\"53.912\"/><text fill=\"#000000\" font-family=\"sans-serif\" font-size=\"13\" lengthAdjust=\"spacing\" textLength=\"288\" x=\"12\" y=\"69.9789\">classificationLevel =  ClassificationLevel::conf</text></g><g id=\"elem_E2\"><path d=\"M350,13.5 L350,82.0448 L659,82.0448 L659,23.5 L649,13.5 L350,13.5 \" fill=\"#FAFAFA\" style=\"stroke:#181818;stroke-width:0.5;\"/><path d=\"M649,13.5 L649,23.5 L659,23.5 L649,13.5 \" fill=\"#FAFAFA\" style=\"stroke:#181818;stroke-width:1.0;\"/><text fill=\"#000000\" font-family=\"monospace\" font-size=\"13\" lengthAdjust=\"spacing\" textLength=\"112\" x=\"356\" y=\"32.397\">              </text><a href=\"psysml:a50d3885-9ceb-42ed-af81-8542a216cf29\" target=\"_top\" title=\"psysml:a50d3885-9ceb-42ed-af81-8542a216cf29\" xlink:actuate=\"onRequest\" xlink:href=\"psysml:a50d3885-9ceb-42ed-af81-8542a216cf29\" xlink:show=\"new\" xlink:title=\"psysml:a50d3885-9ceb-42ed-af81-8542a216cf29\" xlink:type=\"simple\"><text fill=\"#000000\" font-family=\"sans-serif\" font-size=\"13\" lengthAdjust=\"spacing\" text-decoration=\"underline\" textLength=\"79\" x=\"468\" y=\"33.1401\">«metadata»</text></a><text fill=\"#000000\" font-family=\"monospace\" font-size=\"13\" font-style=\"italic\" lengthAdjust=\"spacing\" textLength=\"112\" x=\"356\" y=\"50.103\">              </text><text fill=\"#000000\" font-family=\"sans-serif\" font-size=\"13\" font-style=\"italic\" lengthAdjust=\"spacing\" textLength=\"60\" x=\"468\" y=\"50.8461\">Classified</text><line style=\"stroke:#181818;stroke-width:1.0;\" x1=\"351\" x2=\"658\" y1=\"53.912\" y2=\"53.912\"/><text fill=\"#000000\" font-family=\"sans-serif\" font-size=\"13\" lengthAdjust=\"spacing\" textLength=\"288\" x=\"356\" y=\"69.9789\">classificationLevel =  ClassificationLevel::conf</text></g><g id=\"elem_E3\"><path d=\"M693.5,6 L693.5,89.6777 L905.5,89.6777 L905.5,16 L895.5,6 L693.5,6 \" fill=\"#FAFAFA\" style=\"stroke:#181818;stroke-width:0.5;\"/><path d=\"M895.5,6 L895.5,16 L905.5,16 L895.5,6 \" fill=\"#FAFAFA\" style=\"stroke:#181818;stroke-width:1.0;\"/><text fill=\"#000000\" font-family=\"monospace\" font-size=\"13\" lengthAdjust=\"spacing\" textLength=\"112\" x=\"699.5\" y=\"24.897\">              </text><a href=\"psysml:7eb290c6-6d6c-4277-b27a-b35f0e599ca6\" target=\"_top\" title=\"psysml:7eb290c6-6d6c-4277-b27a-b35f0e599ca6\" xlink:actuate=\"onRequest\" xlink:href=\"psysml:7eb290c6-6d6c-4277-b27a-b35f0e599ca6\" xlink:show=\"new\" xlink:title=\"psysml:7eb290c6-6d6c-4277-b27a-b35f0e599ca6\" xlink:type=\"simple\"><text fill=\"#000000\" font-family=\"sans-serif\" font-size=\"13\" lengthAdjust=\"spacing\" text-decoration=\"underline\" textLength=\"79\" x=\"811.5\" y=\"25.6401\">«metadata»</text></a><text fill=\"#000000\" font-family=\"monospace\" font-size=\"13\" font-style=\"italic\" lengthAdjust=\"spacing\" textLength=\"112\" x=\"699.5\" y=\"42.603\">              </text><text fill=\"#000000\" font-family=\"sans-serif\" font-size=\"13\" font-style=\"italic\" lengthAdjust=\"spacing\" textLength=\"60\" x=\"811.5\" y=\"43.3461\">Classified</text><line style=\"stroke:#181818;stroke-width:1.0;\" x1=\"694.5\" x2=\"904.5\" y1=\"46.412\" y2=\"46.412\"/><text fill=\"#000000\" font-family=\"sans-serif\" font-size=\"13\" lengthAdjust=\"spacing\" textLength=\"129\" x=\"699.5\" y=\"62.4789\">classificationLevel =</text><text fill=\"#000000\" font-family=\"sans-serif\" font-size=\"13\" lengthAdjust=\"spacing\" textLength=\"164\" x=\"699.5\" y=\"77.6117\">ClassificationLevel::secret</text></g><!--MD5=[ba88ea7c5d2c750984ae40f04c3c785b]\n",
       "@startuml\r\n",
       "skin sysmlbw\r\n",
       "skinparam monochrome true\r\n",
       "skinparam wrapWidth 300\r\n",
       "hide circle\r\n",
       " \r\n",
       "note as E1\r\n",
       "\"\"              \"\"[[psysml:ccd30bed-0f75-43dd-8560-a117ef71fdae «metadata»]]\r\n",
       "==== \"\"              \"\"Classified\r\n",
       "- -\r\n",
       "classificationLevel =  ClassificationLevel::conf\r\n",
       "end note\r\n",
       "note as E2\r\n",
       "\"\"              \"\"[[psysml:a50d3885-9ceb-42ed-af81-8542a216cf29 «metadata»]]\r\n",
       "==== \"\"              \"\"Classified\r\n",
       "- -\r\n",
       "classificationLevel =  ClassificationLevel::conf\r\n",
       "end note\r\n",
       "note as E3\r\n",
       "\"\"              \"\"[[psysml:7eb290c6-6d6c-4277-b27a-b35f0e599ca6 «metadata»]]\r\n",
       "==== \"\"              \"\"Classified\r\n",
       "- -\r\n",
       "classificationLevel =  ClassificationLevel::secret\r\n",
       "end note\r\n",
       "@enduml\r\n",
       "\n",
       "PlantUML version 1.2022.7(Mon Aug 22 17:01:30 UTC 2022)\n",
       "(EPL source distribution)\n",
       "Java Runtime: OpenJDK Runtime Environment\n",
       "JVM: OpenJDK 64-Bit Server VM\n",
       "Default Encoding: UTF-8\n",
       "Language: en\n",
       "Country: null\n",
       "--></g></svg>"
      ]
     },
     "execution_count": 4,
     "metadata": {},
     "output_type": "execute_result"
    }
   ],
   "source": [
    "%viz --style=\"COMPTREE\" --view=\"State\" \"MetadataTest\""
   ]
  },
  {
   "cell_type": "code",
   "execution_count": 5,
   "id": "1fba7791",
   "metadata": {
    "execution": {
     "iopub.execute_input": "2024-12-16T03:28:22.155175Z",
     "iopub.status.busy": "2024-12-16T03:28:22.154922Z",
     "iopub.status.idle": "2024-12-16T03:28:22.191484Z",
     "shell.execute_reply": "2024-12-16T03:28:22.191618Z"
    }
   },
   "outputs": [
    {
     "data": {
      "image/svg+xml": [
       "<?xml version=\"1.0\" encoding=\"UTF-8\" standalone=\"no\"?><svg xmlns=\"http://www.w3.org/2000/svg\" xmlns:xlink=\"http://www.w3.org/1999/xlink\" contentStyleType=\"text/css\" height=\"257px\" preserveAspectRatio=\"none\" style=\"width:1233px;height:257px;background:#FFFFFF;\" version=\"1.1\" viewBox=\"0 0 1233 257\" width=\"1233px\" zoomAndPan=\"magnify\"><defs/><g><!--MD5=[fbc87193dbaf4d95561dea2c320d4a47]\n",
       "cluster E1--><g id=\"cluster_E1\"><a href=\"psysml:6bf27c65-dae0-4f69-b1ef-6329bb319dfc\" target=\"_top\" title=\"psysml:6bf27c65-dae0-4f69-b1ef-6329bb319dfc\" xlink:actuate=\"onRequest\" xlink:href=\"psysml:6bf27c65-dae0-4f69-b1ef-6329bb319dfc\" xlink:show=\"new\" xlink:title=\"psysml:6bf27c65-dae0-4f69-b1ef-6329bb319dfc\" xlink:type=\"simple\"><polygon fill=\"none\" points=\"16,6,122.25,6,129.25,28.2969,1216,28.2969,1216,250.72,16,250.72,16,6\" style=\"stroke:#000000;stroke-width:1.5;\"/><line style=\"stroke:#000000;stroke-width:1.5;\" x1=\"16\" x2=\"129.25\" y1=\"28.2969\" y2=\"28.2969\"/><text fill=\"#000000\" font-family=\"sans-serif\" font-size=\"14\" font-weight=\"bold\" lengthAdjust=\"spacing\" textLength=\"100.25\" x=\"20\" y=\"20.9951\">MetadataTest</text></a></g><!--MD5=[e4f7fae6ed58524ba242bb0b0d3be6b7]\n",
       "cluster E2--><g id=\"cluster_E2\"><a href=\"psysml:fde4dbf0-a827-4985-ab3d-be4806656b08\" target=\"_top\" title=\"psysml:fde4dbf0-a827-4985-ab3d-be4806656b08\" xlink:actuate=\"onRequest\" xlink:href=\"psysml:fde4dbf0-a827-4985-ab3d-be4806656b08\" xlink:show=\"new\" xlink:title=\"psysml:fde4dbf0-a827-4985-ab3d-be4806656b08\" xlink:type=\"simple\"><polygon fill=\"none\" points=\"683,98.72,868.1875,98.72,875.1875,121.0169,1176,121.0169,1176,210.72,683,210.72,683,98.72\" style=\"stroke:#000000;stroke-width:1.5;\"/><line style=\"stroke:#000000;stroke-width:1.5;\" x1=\"683\" x2=\"875.1875\" y1=\"121.0169\" y2=\"121.0169\"/><text fill=\"#000000\" font-family=\"sans-serif\" font-size=\"14\" font-weight=\"bold\" lengthAdjust=\"spacing\" textLength=\"179.1875\" x=\"687\" y=\"113.7151\">User Defined Extensions</text></a></g><!--MD5=[60a26617385b1d2d0262a64233df1f8d]\n",
       "class E6--><a href=\"psysml:ab215fb4-7997-4c5e-99e0-8fea9c1d3082\" target=\"_top\" title=\"psysml:ab215fb4-7997-4c5e-99e0-8fea9c1d3082\" xlink:actuate=\"onRequest\" xlink:href=\"psysml:ab215fb4-7997-4c5e-99e0-8fea9c1d3082\" xlink:show=\"new\" xlink:title=\"psysml:ab215fb4-7997-4c5e-99e0-8fea9c1d3082\" xlink:type=\"simple\"><g id=\"elem_E6\"><rect fill=\"#FFFFFF\" height=\"56.2656\" id=\"E6\" rx=\"10\" ry=\"10\" style=\"stroke:#181818;stroke-width:0.5;\" width=\"77\" x=\"578.5\" y=\"136.22\"/><text fill=\"#000000\" font-family=\"sans-serif\" font-size=\"12\" font-style=\"italic\" lengthAdjust=\"spacing\" textLength=\"75\" x=\"579.5\" y=\"152.3587\">«reference»</text><text fill=\"#000000\" font-family=\"sans-serif\" font-size=\"14\" lengthAdjust=\"spacing\" textLength=\"7\" x=\"609.5\" y=\"168.1839\">x</text><line style=\"stroke:#181818;stroke-width:0.5;\" x1=\"579.5\" x2=\"654.5\" y1=\"176.4856\" y2=\"176.4856\"/><line style=\"stroke:#181818;stroke-width:0.5;\" x1=\"579.5\" x2=\"654.5\" y1=\"184.4856\" y2=\"184.4856\"/></g></a><!--MD5=[2156ba9850f5573cc1fc38a6a4b2f02b]\n",
       "class E7--><a href=\"psysml:c7350727-55c2-4532-b138-8da3db2b593b\" target=\"_top\" title=\"psysml:c7350727-55c2-4532-b138-8da3db2b593b\" xlink:actuate=\"onRequest\" xlink:href=\"psysml:c7350727-55c2-4532-b138-8da3db2b593b\" xlink:show=\"new\" xlink:title=\"psysml:c7350727-55c2-4532-b138-8da3db2b593b\" xlink:type=\"simple\"><g id=\"elem_E7\"><rect fill=\"#FFFFFF\" height=\"56.2656\" id=\"E7\" rx=\"10\" ry=\"10\" style=\"stroke:#181818;stroke-width:0.5;\" width=\"76\" x=\"467\" y=\"136.22\"/><text fill=\"#000000\" font-family=\"sans-serif\" font-size=\"12\" font-style=\"italic\" lengthAdjust=\"spacing\" textLength=\"74\" x=\"468\" y=\"152.3587\">«#Security»</text><text fill=\"#000000\" font-family=\"sans-serif\" font-size=\"14\" lengthAdjust=\"spacing\" textLength=\"7\" x=\"497.5\" y=\"168.1839\">y</text><line style=\"stroke:#181818;stroke-width:0.5;\" x1=\"468\" x2=\"542\" y1=\"176.4856\" y2=\"176.4856\"/><line style=\"stroke:#181818;stroke-width:0.5;\" x1=\"468\" x2=\"542\" y1=\"184.4856\" y2=\"184.4856\"/></g></a><!--MD5=[96f4274e9e20536e775497830990834d]\n",
       "class E10--><a href=\"psysml:bedd784f-2083-437e-9a45-6e64d2c52a15\" target=\"_top\" title=\"psysml:bedd784f-2083-437e-9a45-6e64d2c52a15\" xlink:actuate=\"onRequest\" xlink:href=\"psysml:bedd784f-2083-437e-9a45-6e64d2c52a15\" xlink:show=\"new\" xlink:title=\"psysml:bedd784f-2083-437e-9a45-6e64d2c52a15\" xlink:type=\"simple\"><g id=\"elem_E10\"><rect fill=\"#FFFFFF\" height=\"56.2656\" id=\"E10\" rx=\"10\" ry=\"10\" style=\"stroke:#181818;stroke-width:0.5;\" width=\"77\" x=\"354.5\" y=\"136.22\"/><text fill=\"#000000\" font-family=\"sans-serif\" font-size=\"12\" font-style=\"italic\" lengthAdjust=\"spacing\" textLength=\"75\" x=\"355.5\" y=\"152.3587\">«reference»</text><text fill=\"#000000\" font-family=\"sans-serif\" font-size=\"14\" lengthAdjust=\"spacing\" textLength=\"8\" x=\"385\" y=\"168.1839\">z</text><line style=\"stroke:#181818;stroke-width:0.5;\" x1=\"355.5\" x2=\"430.5\" y1=\"176.4856\" y2=\"176.4856\"/><line style=\"stroke:#181818;stroke-width:0.5;\" x1=\"355.5\" x2=\"430.5\" y1=\"184.4856\" y2=\"184.4856\"/></g></a><g><a href=\"psysml:875613db-282a-4c31-9ce2-2c5502fc9987\" target=\"_top\" title=\"psysml:875613db-282a-4c31-9ce2-2c5502fc9987\" xlink:actuate=\"onRequest\" xlink:href=\"psysml:875613db-282a-4c31-9ce2-2c5502fc9987\" xlink:show=\"new\" xlink:title=\"psysml:875613db-282a-4c31-9ce2-2c5502fc9987\" xlink:type=\"simple\"><rect fill=\"#FFFFFF\" height=\"45.2656\" id=\"E3\" style=\"stroke:#383838;stroke-width:1.5;\" width=\"135\" x=\"1016.5\" y=\"141.72\"/><text fill=\"#000000\" font-family=\"sans-serif\" font-size=\"12\" font-style=\"italic\" lengthAdjust=\"spacing\" textLength=\"74\" x=\"1047\" y=\"157.8587\">«#Security»</text><text fill=\"#000000\" font-family=\"sans-serif\" font-size=\"14\" font-style=\"italic\" lengthAdjust=\"spacing\" textLength=\"124\" x=\"1022\" y=\"173.6839\">ClassificationLevel</text></a></g><g><a href=\"psysml:7d365ab2-02f5-4019-ac52-725960bbc954\" target=\"_top\" title=\"psysml:7d365ab2-02f5-4019-ac52-725960bbc954\" xlink:actuate=\"onRequest\" xlink:href=\"psysml:7d365ab2-02f5-4019-ac52-725960bbc954\" xlink:show=\"new\" xlink:title=\"psysml:7d365ab2-02f5-4019-ac52-725960bbc954\" xlink:type=\"simple\"><rect fill=\"#FFFFFF\" height=\"45.2656\" id=\"E4\" style=\"stroke:#383838;stroke-width:1.5;\" width=\"110\" x=\"871\" y=\"141.72\"/><text fill=\"#000000\" font-family=\"sans-serif\" font-size=\"12\" font-style=\"italic\" lengthAdjust=\"spacing\" textLength=\"103\" x=\"874.5\" y=\"157.8587\">«metadata  def»</text><text fill=\"#000000\" font-family=\"sans-serif\" font-size=\"14\" lengthAdjust=\"spacing\" textLength=\"65\" x=\"893.5\" y=\"173.6839\">Classified</text></a></g><g><a href=\"psysml:b54cb894-c9b4-4b22-a0a5-6c760d030873\" target=\"_top\" title=\"psysml:b54cb894-c9b4-4b22-a0a5-6c760d030873\" xlink:actuate=\"onRequest\" xlink:href=\"psysml:b54cb894-c9b4-4b22-a0a5-6c760d030873\" xlink:show=\"new\" xlink:title=\"psysml:b54cb894-c9b4-4b22-a0a5-6c760d030873\" xlink:type=\"simple\"><rect fill=\"#FFFFFF\" height=\"45.2656\" id=\"E5\" style=\"stroke:#383838;stroke-width:1.5;\" width=\"110\" x=\"726\" y=\"141.72\"/><text fill=\"#000000\" font-family=\"sans-serif\" font-size=\"12\" font-style=\"italic\" lengthAdjust=\"spacing\" textLength=\"103\" x=\"729.5\" y=\"157.8587\">«metadata  def»</text><text fill=\"#000000\" font-family=\"sans-serif\" font-size=\"14\" lengthAdjust=\"spacing\" textLength=\"55\" x=\"753.5\" y=\"173.6839\">Security</text></a></g><g><a href=\"psysml:09bb7bef-5578-400a-ab09-b89f3b478a84\" target=\"_top\" title=\"psysml:09bb7bef-5578-400a-ab09-b89f3b478a84\" xlink:actuate=\"onRequest\" xlink:href=\"psysml:09bb7bef-5578-400a-ab09-b89f3b478a84\" xlink:show=\"new\" xlink:title=\"psysml:09bb7bef-5578-400a-ab09-b89f3b478a84\" xlink:type=\"simple\"><rect fill=\"#FFFFFF\" height=\"45.2656\" id=\"E8\" rx=\"10\" ry=\"10\" style=\"stroke:#383838;stroke-width:1.5;\" width=\"154\" x=\"165\" y=\"141.72\"/><text fill=\"#000000\" font-family=\"sans-serif\" font-size=\"12\" font-style=\"italic\" lengthAdjust=\"spacing\" textLength=\"147\" x=\"168.5\" y=\"157.8587\">«#Classified #Security»</text><text fill=\"#000000\" font-family=\"sans-serif\" font-size=\"14\" lengthAdjust=\"spacing\" textLength=\"17\" x=\"233.5\" y=\"173.6839\">z1</text></a></g><g><a href=\"psysml:fcfec3d1-5349-46cf-95eb-369f9c247e1c\" target=\"_top\" title=\"psysml:fcfec3d1-5349-46cf-95eb-369f9c247e1c\" xlink:actuate=\"onRequest\" xlink:href=\"psysml:fcfec3d1-5349-46cf-95eb-369f9c247e1c\" xlink:show=\"new\" xlink:title=\"psysml:fcfec3d1-5349-46cf-95eb-369f9c247e1c\" xlink:type=\"simple\"><rect fill=\"#FFFFFF\" height=\"45.2656\" id=\"E9\" rx=\"10\" ry=\"10\" style=\"stroke:#383838;stroke-width:1.5;\" width=\"90\" x=\"40\" y=\"141.72\"/><text fill=\"#000000\" font-family=\"sans-serif\" font-size=\"12\" font-style=\"italic\" lengthAdjust=\"spacing\" textLength=\"83\" x=\"43.5\" y=\"157.8587\">«#Classified»</text><text fill=\"#000000\" font-family=\"sans-serif\" font-size=\"14\" font-style=\"italic\" lengthAdjust=\"spacing\" textLength=\"17\" x=\"76.5\" y=\"173.6839\">z2</text></a></g><!--MD5=[1f1cd8e6dd4c1b2ca2aaccc9b9bcea6e]\n",
       "link E1 to E2--><g id=\"link_E1_E2\"><a href=\"psysml:7790dee3-4a68-47c5-b25f-526a96f63664\" target=\"_top\" title=\"psysml:7790dee3-4a68-47c5-b25f-526a96f63664\" xlink:actuate=\"onRequest\" xlink:href=\"psysml:7790dee3-4a68-47c5-b25f-526a96f63664\" xlink:show=\"new\" xlink:title=\"psysml:7790dee3-4a68-47c5-b25f-526a96f63664\" xlink:type=\"simple\"><path d=\"M691,33.81 C691,35.74 691,67.12 691,98.4925 \" fill=\"none\" id=\"E1-to-E2\" style=\"stroke:#181818;stroke-width:1.0;stroke-dasharray:7.0,7.0;\"/><polygon fill=\"#181818\" points=\"691,98.4925,695,89.4925,691,93.4925,687,89.4925,691,98.4925\" style=\"stroke:#181818;stroke-width:1.0;\"/><text fill=\"#000000\" font-family=\"sans-serif\" font-size=\"13\" lengthAdjust=\"spacing\" textLength=\"65\" x=\"692\" y=\"54.7869\">«import»*</text></a></g><!--MD5=[5c196254f59fd525380fefa7090b44c0]\n",
       "@startuml\r\n",
       "skin sysmlbw\r\n",
       "skinparam monochrome true\r\n",
       "skinparam wrapWidth 300\r\n",
       "hide circle\r\n",
       " skinparam ranksep 10\r\n",
       "skinparam rectangle {\r\n",
       " backgroundColor<<block>> LightGreen\r\n",
       "}\r\n",
       "\r\n",
       "package \"MetadataTest\" as E1  [[psysml:6bf27c65-dae0-4f69-b1ef-6329bb319dfc ]]  {\r\n",
       "package \"User Defined Extensions\" as E2  [[psysml:fde4dbf0-a827-4985-ab3d-be4806656b08 ]]  {\r\n",
       "def \"<i>ClassificationLevel</i>\" as E3 <<#Security>>[[psysml:875613db-282a-4c31-9ce2-2c5502fc9987 ]] \r\n",
       "def \"Classified\" as E4  <<(T,blue) metadata  def>> [[psysml:7d365ab2-02f5-4019-ac52-725960bbc954 ]] \r\n",
       "def \"Security\" as E5  <<(T,blue) metadata  def>> [[psysml:b54cb894-c9b4-4b22-a0a5-6c760d030873 ]] \r\n",
       "}\r\n",
       "usage \"x  \" as E6  <<(T,blue) reference>> [[psysml:ab215fb4-7997-4c5e-99e0-8fea9c1d3082 ]] \r\n",
       "usage \"y  \" as E7 <<#Security>>[[psysml:c7350727-55c2-4532-b138-8da3db2b593b ]] \r\n",
       "rec usage \"z1\" as E8 <<#Classified #Security>>[[psysml:09bb7bef-5578-400a-ab09-b89f3b478a84 ]] {\r\n",
       "}\r\n",
       "rec usage \"<i>z2</i>\" as E9 <<#Classified>>[[psysml:fcfec3d1-5349-46cf-95eb-369f9c247e1c ]] {\r\n",
       "}\r\n",
       "usage \"z  \" as E10  <<(T,blue) reference>> [[psysml:bedd784f-2083-437e-9a45-6e64d2c52a15 ]] \r\n",
       "}\r\n",
       "E1 ..> E2 [[psysml:7790dee3-4a68-47c5-b25f-526a96f63664 ]] : <<import>>*\r\n",
       "@enduml\r\n",
       "\n",
       "PlantUML version 1.2022.7(Mon Aug 22 17:01:30 UTC 2022)\n",
       "(EPL source distribution)\n",
       "Java Runtime: OpenJDK Runtime Environment\n",
       "JVM: OpenJDK 64-Bit Server VM\n",
       "Default Encoding: UTF-8\n",
       "Language: en\n",
       "Country: null\n",
       "--></g></svg>"
      ]
     },
     "execution_count": 5,
     "metadata": {},
     "output_type": "execute_result"
    }
   ],
   "source": [
    "%viz --style=\"COMPTREE\" --view=\"Interconnection\" \"MetadataTest\""
   ]
  },
  {
   "cell_type": "code",
   "execution_count": 6,
   "id": "ef7bbd95",
   "metadata": {
    "execution": {
     "iopub.execute_input": "2024-12-16T03:28:22.242738Z",
     "iopub.status.busy": "2024-12-16T03:28:22.242505Z",
     "iopub.status.idle": "2024-12-16T03:28:22.262104Z",
     "shell.execute_reply": "2024-12-16T03:28:22.261926Z"
    }
   },
   "outputs": [
    {
     "data": {
      "image/svg+xml": [
       "<?xml version=\"1.0\" encoding=\"UTF-8\" standalone=\"no\"?><svg xmlns=\"http://www.w3.org/2000/svg\" xmlns:xlink=\"http://www.w3.org/1999/xlink\" contentStyleType=\"text/css\" height=\"96px\" preserveAspectRatio=\"none\" style=\"width:912px;height:96px;background:#FFFFFF;\" version=\"1.1\" viewBox=\"0 0 912 96\" width=\"912px\" zoomAndPan=\"magnify\"><defs/><g><g id=\"elem_E1\"><path d=\"M6,13.5 L6,82.0448 L315,82.0448 L315,23.5 L305,13.5 L6,13.5 \" fill=\"#FAFAFA\" style=\"stroke:#181818;stroke-width:0.5;\"/><path d=\"M305,13.5 L305,23.5 L315,23.5 L305,13.5 \" fill=\"#FAFAFA\" style=\"stroke:#181818;stroke-width:1.0;\"/><text fill=\"#000000\" font-family=\"monospace\" font-size=\"13\" lengthAdjust=\"spacing\" textLength=\"112\" x=\"12\" y=\"32.397\">              </text><a href=\"psysml:ccd30bed-0f75-43dd-8560-a117ef71fdae\" target=\"_top\" title=\"psysml:ccd30bed-0f75-43dd-8560-a117ef71fdae\" xlink:actuate=\"onRequest\" xlink:href=\"psysml:ccd30bed-0f75-43dd-8560-a117ef71fdae\" xlink:show=\"new\" xlink:title=\"psysml:ccd30bed-0f75-43dd-8560-a117ef71fdae\" xlink:type=\"simple\"><text fill=\"#000000\" font-family=\"sans-serif\" font-size=\"13\" lengthAdjust=\"spacing\" text-decoration=\"underline\" textLength=\"79\" x=\"124\" y=\"33.1401\">«metadata»</text></a><text fill=\"#000000\" font-family=\"monospace\" font-size=\"13\" font-style=\"italic\" lengthAdjust=\"spacing\" textLength=\"112\" x=\"12\" y=\"50.103\">              </text><text fill=\"#000000\" font-family=\"sans-serif\" font-size=\"13\" font-style=\"italic\" lengthAdjust=\"spacing\" textLength=\"60\" x=\"124\" y=\"50.8461\">Classified</text><line style=\"stroke:#181818;stroke-width:1.0;\" x1=\"7\" x2=\"314\" y1=\"53.912\" y2=\"53.912\"/><text fill=\"#000000\" font-family=\"sans-serif\" font-size=\"13\" lengthAdjust=\"spacing\" textLength=\"288\" x=\"12\" y=\"69.9789\">classificationLevel =  ClassificationLevel::conf</text></g><g id=\"elem_E2\"><path d=\"M350,13.5 L350,82.0448 L659,82.0448 L659,23.5 L649,13.5 L350,13.5 \" fill=\"#FAFAFA\" style=\"stroke:#181818;stroke-width:0.5;\"/><path d=\"M649,13.5 L649,23.5 L659,23.5 L649,13.5 \" fill=\"#FAFAFA\" style=\"stroke:#181818;stroke-width:1.0;\"/><text fill=\"#000000\" font-family=\"monospace\" font-size=\"13\" lengthAdjust=\"spacing\" textLength=\"112\" x=\"356\" y=\"32.397\">              </text><a href=\"psysml:a50d3885-9ceb-42ed-af81-8542a216cf29\" target=\"_top\" title=\"psysml:a50d3885-9ceb-42ed-af81-8542a216cf29\" xlink:actuate=\"onRequest\" xlink:href=\"psysml:a50d3885-9ceb-42ed-af81-8542a216cf29\" xlink:show=\"new\" xlink:title=\"psysml:a50d3885-9ceb-42ed-af81-8542a216cf29\" xlink:type=\"simple\"><text fill=\"#000000\" font-family=\"sans-serif\" font-size=\"13\" lengthAdjust=\"spacing\" text-decoration=\"underline\" textLength=\"79\" x=\"468\" y=\"33.1401\">«metadata»</text></a><text fill=\"#000000\" font-family=\"monospace\" font-size=\"13\" font-style=\"italic\" lengthAdjust=\"spacing\" textLength=\"112\" x=\"356\" y=\"50.103\">              </text><text fill=\"#000000\" font-family=\"sans-serif\" font-size=\"13\" font-style=\"italic\" lengthAdjust=\"spacing\" textLength=\"60\" x=\"468\" y=\"50.8461\">Classified</text><line style=\"stroke:#181818;stroke-width:1.0;\" x1=\"351\" x2=\"658\" y1=\"53.912\" y2=\"53.912\"/><text fill=\"#000000\" font-family=\"sans-serif\" font-size=\"13\" lengthAdjust=\"spacing\" textLength=\"288\" x=\"356\" y=\"69.9789\">classificationLevel =  ClassificationLevel::conf</text></g><g id=\"elem_E3\"><path d=\"M693.5,6 L693.5,89.6777 L905.5,89.6777 L905.5,16 L895.5,6 L693.5,6 \" fill=\"#FAFAFA\" style=\"stroke:#181818;stroke-width:0.5;\"/><path d=\"M895.5,6 L895.5,16 L905.5,16 L895.5,6 \" fill=\"#FAFAFA\" style=\"stroke:#181818;stroke-width:1.0;\"/><text fill=\"#000000\" font-family=\"monospace\" font-size=\"13\" lengthAdjust=\"spacing\" textLength=\"112\" x=\"699.5\" y=\"24.897\">              </text><a href=\"psysml:7eb290c6-6d6c-4277-b27a-b35f0e599ca6\" target=\"_top\" title=\"psysml:7eb290c6-6d6c-4277-b27a-b35f0e599ca6\" xlink:actuate=\"onRequest\" xlink:href=\"psysml:7eb290c6-6d6c-4277-b27a-b35f0e599ca6\" xlink:show=\"new\" xlink:title=\"psysml:7eb290c6-6d6c-4277-b27a-b35f0e599ca6\" xlink:type=\"simple\"><text fill=\"#000000\" font-family=\"sans-serif\" font-size=\"13\" lengthAdjust=\"spacing\" text-decoration=\"underline\" textLength=\"79\" x=\"811.5\" y=\"25.6401\">«metadata»</text></a><text fill=\"#000000\" font-family=\"monospace\" font-size=\"13\" font-style=\"italic\" lengthAdjust=\"spacing\" textLength=\"112\" x=\"699.5\" y=\"42.603\">              </text><text fill=\"#000000\" font-family=\"sans-serif\" font-size=\"13\" font-style=\"italic\" lengthAdjust=\"spacing\" textLength=\"60\" x=\"811.5\" y=\"43.3461\">Classified</text><line style=\"stroke:#181818;stroke-width:1.0;\" x1=\"694.5\" x2=\"904.5\" y1=\"46.412\" y2=\"46.412\"/><text fill=\"#000000\" font-family=\"sans-serif\" font-size=\"13\" lengthAdjust=\"spacing\" textLength=\"129\" x=\"699.5\" y=\"62.4789\">classificationLevel =</text><text fill=\"#000000\" font-family=\"sans-serif\" font-size=\"13\" lengthAdjust=\"spacing\" textLength=\"164\" x=\"699.5\" y=\"77.6117\">ClassificationLevel::secret</text></g><!--MD5=[72d771580a7493ceecbfe6eb27991e0c]\n",
       "@startuml\r\n",
       "skin sysmlbw\r\n",
       "skinparam monochrome true\r\n",
       "skinparam wrapWidth 300\r\n",
       "hide circle\r\n",
       " skinparam ranksep 8\r\n",
       "\r\n",
       "note as E1\r\n",
       "\"\"              \"\"[[psysml:ccd30bed-0f75-43dd-8560-a117ef71fdae «metadata»]]\r\n",
       "==== \"\"              \"\"Classified\r\n",
       "- -\r\n",
       "classificationLevel =  ClassificationLevel::conf\r\n",
       "end note\r\n",
       "note as E2\r\n",
       "\"\"              \"\"[[psysml:a50d3885-9ceb-42ed-af81-8542a216cf29 «metadata»]]\r\n",
       "==== \"\"              \"\"Classified\r\n",
       "- -\r\n",
       "classificationLevel =  ClassificationLevel::conf\r\n",
       "end note\r\n",
       "note as E3\r\n",
       "\"\"              \"\"[[psysml:7eb290c6-6d6c-4277-b27a-b35f0e599ca6 «metadata»]]\r\n",
       "==== \"\"              \"\"Classified\r\n",
       "- -\r\n",
       "classificationLevel =  ClassificationLevel::secret\r\n",
       "end note\r\n",
       "@enduml\r\n",
       "\n",
       "PlantUML version 1.2022.7(Mon Aug 22 17:01:30 UTC 2022)\n",
       "(EPL source distribution)\n",
       "Java Runtime: OpenJDK Runtime Environment\n",
       "JVM: OpenJDK 64-Bit Server VM\n",
       "Default Encoding: UTF-8\n",
       "Language: en\n",
       "Country: null\n",
       "--></g></svg>"
      ]
     },
     "execution_count": 6,
     "metadata": {},
     "output_type": "execute_result"
    }
   ],
   "source": [
    "%viz --style=\"COMPTREE\" --view=\"Action\" \"MetadataTest\""
   ]
  },
  {
   "cell_type": "code",
   "execution_count": 7,
   "id": "6cc81dab",
   "metadata": {
    "execution": {
     "iopub.execute_input": "2024-12-16T03:28:22.314047Z",
     "iopub.status.busy": "2024-12-16T03:28:22.313828Z",
     "iopub.status.idle": "2024-12-16T03:28:22.330022Z",
     "shell.execute_reply": "2024-12-16T03:28:22.329854Z"
    }
   },
   "outputs": [
    {
     "data": {
      "image/svg+xml": [
       "<?xml version=\"1.0\" encoding=\"UTF-8\" standalone=\"no\"?><svg xmlns=\"http://www.w3.org/2000/svg\" xmlns:xlink=\"http://www.w3.org/1999/xlink\" contentStyleType=\"text/css\" height=\"10px\" preserveAspectRatio=\"none\" style=\"width:10px;height:10px;background:#FFFFFF;\" version=\"1.1\" viewBox=\"0 0 10 10\" width=\"10px\" zoomAndPan=\"magnify\"><defs/><g><!--MD5=[f5e9abf0a6c8dccaf40d0172f495ca0b]\n",
       "@startuml\r\n",
       "skin sysmlbw\r\n",
       "skinparam monochrome true\r\n",
       "skinparam wrapWidth 300\r\n",
       "hide circle\r\n",
       " skinparam roundcorner 20\r\n",
       "skinparam BoxPadding 20\r\n",
       "skinparam SequenceBoxBackgroundColor #white\r\n",
       "skinparam style strictuml\r\n",
       "skinparam maxMessageSize 100\r\n",
       "\r\n",
       "@enduml\r\n",
       "\n",
       "PlantUML version 1.2022.7(Mon Aug 22 17:01:30 UTC 2022)\n",
       "(EPL source distribution)\n",
       "Java Runtime: OpenJDK Runtime Environment\n",
       "JVM: OpenJDK 64-Bit Server VM\n",
       "Default Encoding: UTF-8\n",
       "Language: en\n",
       "Country: null\n",
       "--></g></svg>"
      ]
     },
     "execution_count": 7,
     "metadata": {},
     "output_type": "execute_result"
    }
   ],
   "source": [
    "%viz --style=\"COMPTREE\" --view=\"Sequence\" \"MetadataTest\""
   ]
  },
  {
   "cell_type": "code",
   "execution_count": 8,
   "id": "0bd9d99c",
   "metadata": {
    "execution": {
     "iopub.execute_input": "2024-12-16T03:28:22.385707Z",
     "iopub.status.busy": "2024-12-16T03:28:22.385510Z",
     "iopub.status.idle": "2024-12-16T03:28:22.419188Z",
     "shell.execute_reply": "2024-12-16T03:28:22.418434Z"
    }
   },
   "outputs": [
    {
     "data": {
      "image/svg+xml": [
       "<?xml version=\"1.0\" encoding=\"UTF-8\" standalone=\"no\"?><svg xmlns=\"http://www.w3.org/2000/svg\" xmlns:xlink=\"http://www.w3.org/1999/xlink\" contentStyleType=\"text/css\" height=\"467px\" preserveAspectRatio=\"none\" style=\"width:707px;height:467px;background:#FFFFFF;\" version=\"1.1\" viewBox=\"0 0 707 467\" width=\"707px\" zoomAndPan=\"magnify\"><defs/><g><!--MD5=[fbc87193dbaf4d95561dea2c320d4a47]\n",
       "cluster E1--><g id=\"cluster_E1\"><a href=\"psysml:6bf27c65-dae0-4f69-b1ef-6329bb319dfc\" target=\"_top\" title=\"psysml:6bf27c65-dae0-4f69-b1ef-6329bb319dfc\" xlink:actuate=\"onRequest\" xlink:href=\"psysml:6bf27c65-dae0-4f69-b1ef-6329bb319dfc\" xlink:show=\"new\" xlink:title=\"psysml:6bf27c65-dae0-4f69-b1ef-6329bb319dfc\" xlink:type=\"simple\"><polygon fill=\"none\" points=\"16,6,122.25,6,129.25,28.2969,690,28.2969,690,460.72,16,460.72,16,6\" style=\"stroke:#000000;stroke-width:1.5;\"/><line style=\"stroke:#000000;stroke-width:1.5;\" x1=\"16\" x2=\"129.25\" y1=\"28.2969\" y2=\"28.2969\"/><text fill=\"#000000\" font-family=\"sans-serif\" font-size=\"14\" font-weight=\"bold\" lengthAdjust=\"spacing\" textLength=\"100.25\" x=\"20\" y=\"20.9951\">MetadataTest</text></a></g><!--MD5=[e4f7fae6ed58524ba242bb0b0d3be6b7]\n",
       "cluster E2--><g id=\"cluster_E2\"><a href=\"psysml:fde4dbf0-a827-4985-ab3d-be4806656b08\" target=\"_top\" title=\"psysml:fde4dbf0-a827-4985-ab3d-be4806656b08\" xlink:actuate=\"onRequest\" xlink:href=\"psysml:fde4dbf0-a827-4985-ab3d-be4806656b08\" xlink:show=\"new\" xlink:title=\"psysml:fde4dbf0-a827-4985-ab3d-be4806656b08\" xlink:type=\"simple\"><polygon fill=\"none\" points=\"337,120.72,522.1875,120.72,529.1875,143.0169,650,143.0169,650,420.72,337,420.72,337,120.72\" style=\"stroke:#000000;stroke-width:1.5;\"/><line style=\"stroke:#000000;stroke-width:1.5;\" x1=\"337\" x2=\"529.1875\" y1=\"143.0169\" y2=\"143.0169\"/><text fill=\"#000000\" font-family=\"sans-serif\" font-size=\"14\" font-weight=\"bold\" lengthAdjust=\"spacing\" textLength=\"179.1875\" x=\"341\" y=\"135.7151\">User Defined Extensions</text></a></g><!--MD5=[60a26617385b1d2d0262a64233df1f8d]\n",
       "class E6--><a href=\"psysml:09bb7bef-5578-400a-ab09-b89f3b478a84\" target=\"_top\" title=\"psysml:09bb7bef-5578-400a-ab09-b89f3b478a84\" xlink:actuate=\"onRequest\" xlink:href=\"psysml:09bb7bef-5578-400a-ab09-b89f3b478a84\" xlink:show=\"new\" xlink:title=\"psysml:09bb7bef-5578-400a-ab09-b89f3b478a84\" xlink:type=\"simple\"><g id=\"elem_E6\"><rect fill=\"#FFFFFF\" height=\"48.2656\" id=\"E6\" rx=\"10\" ry=\"10\" style=\"stroke:#181818;stroke-width:0.5;\" width=\"149\" x=\"160.5\" y=\"163.72\"/><text fill=\"#000000\" font-family=\"sans-serif\" font-size=\"12\" font-style=\"italic\" lengthAdjust=\"spacing\" textLength=\"147\" x=\"161.5\" y=\"179.8587\">«#Classified #Security»</text><text fill=\"#000000\" font-family=\"sans-serif\" font-size=\"14\" lengthAdjust=\"spacing\" textLength=\"17\" x=\"222.5\" y=\"195.6839\">z1</text><line style=\"stroke:#181818;stroke-width:0.5;\" x1=\"161.5\" x2=\"308.5\" y1=\"203.9856\" y2=\"203.9856\"/></g></a><!--MD5=[2156ba9850f5573cc1fc38a6a4b2f02b]\n",
       "class E7--><a href=\"psysml:fcfec3d1-5349-46cf-95eb-369f9c247e1c\" target=\"_top\" title=\"psysml:fcfec3d1-5349-46cf-95eb-369f9c247e1c\" xlink:actuate=\"onRequest\" xlink:href=\"psysml:fcfec3d1-5349-46cf-95eb-369f9c247e1c\" xlink:show=\"new\" xlink:title=\"psysml:fcfec3d1-5349-46cf-95eb-369f9c247e1c\" xlink:type=\"simple\"><g id=\"elem_E7\"><rect fill=\"#FFFFFF\" height=\"48.2656\" id=\"E7\" rx=\"10\" ry=\"10\" style=\"stroke:#181818;stroke-width:0.5;\" width=\"85\" x=\"40.5\" y=\"163.72\"/><text fill=\"#000000\" font-family=\"sans-serif\" font-size=\"12\" font-style=\"italic\" lengthAdjust=\"spacing\" textLength=\"83\" x=\"41.5\" y=\"179.8587\">«#Classified»</text><text fill=\"#000000\" font-family=\"sans-serif\" font-size=\"14\" font-style=\"italic\" lengthAdjust=\"spacing\" textLength=\"17\" x=\"70.5\" y=\"195.6839\">z2</text><text fill=\"#000000\" font-family=\"sans-serif\" font-size=\"14\" lengthAdjust=\"spacing\" textLength=\"8\" x=\"87.5\" y=\"195.6839\">  </text><line style=\"stroke:#181818;stroke-width:0.5;\" x1=\"41.5\" x2=\"124.5\" y1=\"203.9856\" y2=\"203.9856\"/></g></a><!--MD5=[09b614a08d8cba4a07c9adeb5e0fee81]\n",
       "class E3--><a href=\"psysml:875613db-282a-4c31-9ce2-2c5502fc9987\" target=\"_top\" title=\"psysml:875613db-282a-4c31-9ce2-2c5502fc9987\" xlink:actuate=\"onRequest\" xlink:href=\"psysml:875613db-282a-4c31-9ce2-2c5502fc9987\" xlink:show=\"new\" xlink:title=\"psysml:875613db-282a-4c31-9ce2-2c5502fc9987\" xlink:type=\"simple\"><g id=\"elem_E3\"><rect fill=\"#FFFFFF\" height=\"107.675\" id=\"E3\" style=\"stroke:#181818;stroke-width:0.5;\" width=\"218\" x=\"401\" y=\"288.72\"/><text fill=\"#000000\" font-family=\"sans-serif\" font-size=\"12\" font-style=\"italic\" lengthAdjust=\"spacing\" textLength=\"74\" x=\"473\" y=\"304.8587\">«#Security»</text><text fill=\"#000000\" font-family=\"sans-serif\" font-size=\"14\" font-style=\"italic\" lengthAdjust=\"spacing\" textLength=\"124\" x=\"448\" y=\"320.6839\">ClassificationLevel</text><line style=\"stroke:#181818;stroke-width:0.5;\" x1=\"402\" x2=\"618\" y1=\"328.9856\" y2=\"328.9856\"/><text fill=\"#000000\" font-family=\"sans-serif\" font-size=\"14\" lengthAdjust=\"spacing\" textLength=\"191\" x=\"407\" y=\"356.4995\">uncl: ClassificationLevel = 0</text><text fill=\"#000000\" font-family=\"sans-serif\" font-size=\"14\" lengthAdjust=\"spacing\" textLength=\"192\" x=\"407\" y=\"372.7964\">conf: ClassificationLevel = 1</text><text fill=\"#000000\" font-family=\"sans-serif\" font-size=\"14\" lengthAdjust=\"spacing\" textLength=\"206\" x=\"407\" y=\"389.0932\">secret: ClassificationLevel = 2</text><text fill=\"#000000\" font-family=\"sans-serif\" font-size=\"14\" font-style=\"italic\" lengthAdjust=\"spacing\" textLength=\"48\" x=\"486\" y=\"341.3323\">enums</text></g></a><!--MD5=[ebbe1d658d1005bcc118a6aa81145e00]\n",
       "class E4--><a href=\"psysml:7d365ab2-02f5-4019-ac52-725960bbc954\" target=\"_top\" title=\"psysml:7d365ab2-02f5-4019-ac52-725960bbc954\" xlink:actuate=\"onRequest\" xlink:href=\"psysml:7d365ab2-02f5-4019-ac52-725960bbc954\" xlink:show=\"new\" xlink:title=\"psysml:7d365ab2-02f5-4019-ac52-725960bbc954\" xlink:type=\"simple\"><g id=\"elem_E4\"><rect fill=\"#FFFFFF\" height=\"48.2656\" id=\"E4\" style=\"stroke:#181818;stroke-width:0.5;\" width=\"105\" x=\"520.5\" y=\"163.72\"/><text fill=\"#000000\" font-family=\"sans-serif\" font-size=\"12\" font-style=\"italic\" lengthAdjust=\"spacing\" textLength=\"103\" x=\"521.5\" y=\"179.8587\">«metadata  def»</text><text fill=\"#000000\" font-family=\"sans-serif\" font-size=\"14\" lengthAdjust=\"spacing\" textLength=\"65\" x=\"540.5\" y=\"195.6839\">Classified</text><line style=\"stroke:#181818;stroke-width:0.5;\" x1=\"521.5\" x2=\"624.5\" y1=\"203.9856\" y2=\"203.9856\"/></g></a><!--MD5=[270fce915f116d4de14055a7c1d9a0f3]\n",
       "class E5--><a href=\"psysml:b54cb894-c9b4-4b22-a0a5-6c760d030873\" target=\"_top\" title=\"psysml:b54cb894-c9b4-4b22-a0a5-6c760d030873\" xlink:actuate=\"onRequest\" xlink:href=\"psysml:b54cb894-c9b4-4b22-a0a5-6c760d030873\" xlink:show=\"new\" xlink:title=\"psysml:b54cb894-c9b4-4b22-a0a5-6c760d030873\" xlink:type=\"simple\"><g id=\"elem_E5\"><rect fill=\"#FFFFFF\" height=\"48.2656\" id=\"E5\" style=\"stroke:#181818;stroke-width:0.5;\" width=\"105\" x=\"380.5\" y=\"163.72\"/><text fill=\"#000000\" font-family=\"sans-serif\" font-size=\"12\" font-style=\"italic\" lengthAdjust=\"spacing\" textLength=\"103\" x=\"381.5\" y=\"179.8587\">«metadata  def»</text><text fill=\"#000000\" font-family=\"sans-serif\" font-size=\"14\" lengthAdjust=\"spacing\" textLength=\"55\" x=\"405.5\" y=\"195.6839\">Security</text><line style=\"stroke:#181818;stroke-width:0.5;\" x1=\"381.5\" x2=\"484.5\" y1=\"203.9856\" y2=\"203.9856\"/></g></a><!--MD5=[1f1cd8e6dd4c1b2ca2aaccc9b9bcea6e]\n",
       "link E1 to E2--><g id=\"link_E1_E2\"><a href=\"psysml:7790dee3-4a68-47c5-b25f-526a96f63664\" target=\"_top\" title=\"psysml:7790dee3-4a68-47c5-b25f-526a96f63664\" xlink:actuate=\"onRequest\" xlink:href=\"psysml:7790dee3-4a68-47c5-b25f-526a96f63664\" xlink:show=\"new\" xlink:title=\"psysml:7790dee3-4a68-47c5-b25f-526a96f63664\" xlink:type=\"simple\"><path d=\"M345,33.83 C345,36.11 345,73.1825 345,110.2463 C345,112.5627 345,114.8792 345,117.1871 C345,118.3411 345,119.4929 345,120.6415 \" fill=\"none\" id=\"E1-to-E2\" style=\"stroke:#181818;stroke-width:1.0;stroke-dasharray:7.0,7.0;\"/><polygon fill=\"#181818\" points=\"345,120.6415,349,111.6415,345,115.6415,341,111.6415,345,120.6415\" style=\"stroke:#181818;stroke-width:1.0;\"/><text fill=\"#000000\" font-family=\"sans-serif\" font-size=\"13\" lengthAdjust=\"spacing\" textLength=\"65\" x=\"346\" y=\"76.7869\">«import»*</text></a></g><!--MD5=[4735aefadfa2e5978451eb08fa1f3993]\n",
       "reverse link E4 to E3--><g id=\"link_E4_E3\"><a href=\"psysml:70fb76d3-4397-496c-b537-fd7ec6ee6db2\" target=\"_top\" title=\"psysml:70fb76d3-4397-496c-b537-fd7ec6ee6db2\" xlink:actuate=\"onRequest\" xlink:href=\"psysml:70fb76d3-4397-496c-b537-fd7ec6ee6db2\" xlink:show=\"new\" xlink:title=\"psysml:70fb76d3-4397-496c-b537-fd7ec6ee6db2\" xlink:type=\"simple\"><path d=\"M558.47,224.01 C550.61,243.1 540.73,267.08 531.96,288.4 \" fill=\"none\" id=\"E4-backto-E3\" style=\"stroke:#181818;stroke-width:1.0;\"/><polygon fill=\"none\" points=\"563.43,211.96,557.4497,215.9894,558.869,223.0594,564.8493,219.0301,563.43,211.96\" style=\"stroke:#181818;stroke-width:1.0;\"/><text fill=\"#000000\" font-family=\"sans-serif\" font-size=\"13\" lengthAdjust=\"spacing\" textLength=\"114\" x=\"551\" y=\"254.7869\">classificationLevel</text></a></g><!--MD5=[89e270bd3c5942742f89ddc64f33c045]\n",
       "@startuml\r\n",
       "skin sysmlbw\r\n",
       "skinparam monochrome true\r\n",
       "skinparam wrapWidth 300\r\n",
       "hide circle\r\n",
       " \r\n",
       "package \"MetadataTest\" as E1  [[psysml:6bf27c65-dae0-4f69-b1ef-6329bb319dfc ]]  {\r\n",
       "package \"User Defined Extensions\" as E2  [[psysml:fde4dbf0-a827-4985-ab3d-be4806656b08 ]]  {\r\n",
       "comp def \"<i>ClassificationLevel</i>\" as E3 <<#Security>>[[psysml:875613db-282a-4c31-9ce2-2c5502fc9987 ]] {\r\n",
       "##//enums//##\r\n",
       "uncl: ClassificationLevel <U+003D> 0\r\n",
       "conf: ClassificationLevel <U+003D> 1\r\n",
       "secret: ClassificationLevel <U+003D> 2\r\n",
       "}\r\n",
       "comp def \"Classified\" as E4  <<(T,blue) metadata  def>> [[psysml:7d365ab2-02f5-4019-ac52-725960bbc954 ]] {\r\n",
       "}\r\n",
       "comp def \"Security\" as E5  <<(T,blue) metadata  def>> [[psysml:b54cb894-c9b4-4b22-a0a5-6c760d030873 ]] {\r\n",
       "}\r\n",
       "}\r\n",
       "comp usage \"z1  \" as E6 <<#Classified #Security>>[[psysml:09bb7bef-5578-400a-ab09-b89f3b478a84 ]] {\r\n",
       "}\r\n",
       "comp usage \"<i>z2</i>  \" as E7 <<#Classified>>[[psysml:fcfec3d1-5349-46cf-95eb-369f9c247e1c ]] {\r\n",
       "}\r\n",
       "}\r\n",
       "E1 ..> E2 [[psysml:7790dee3-4a68-47c5-b25f-526a96f63664 ]] : <<import>>*\r\n",
       "E4 o- - E3 [[psysml:70fb76d3-4397-496c-b537-fd7ec6ee6db2 ]] : classificationLevel\r\n",
       "@enduml\r\n",
       "\n",
       "PlantUML version 1.2022.7(Mon Aug 22 17:01:30 UTC 2022)\n",
       "(EPL source distribution)\n",
       "Java Runtime: OpenJDK Runtime Environment\n",
       "JVM: OpenJDK 64-Bit Server VM\n",
       "Default Encoding: UTF-8\n",
       "Language: en\n",
       "Country: null\n",
       "--></g></svg>"
      ]
     },
     "execution_count": 8,
     "metadata": {},
     "output_type": "execute_result"
    }
   ],
   "source": [
    "%viz --style=\"COMPTREE\" --view=\"MIXED\" \"MetadataTest\""
   ]
  },
  {
   "cell_type": "code",
   "execution_count": 9,
   "id": "cad9d4a8",
   "metadata": {
    "execution": {
     "iopub.execute_input": "2024-12-16T03:28:22.471734Z",
     "iopub.status.busy": "2024-12-16T03:28:22.471511Z",
     "iopub.status.idle": "2024-12-16T03:28:22.504706Z",
     "shell.execute_reply": "2024-12-16T03:28:22.503934Z"
    }
   },
   "outputs": [
    {
     "data": {
      "image/svg+xml": [
       "<?xml version=\"1.0\" encoding=\"UTF-8\" standalone=\"no\"?><svg xmlns=\"http://www.w3.org/2000/svg\" xmlns:xlink=\"http://www.w3.org/1999/xlink\" contentStyleType=\"text/css\" height=\"467px\" preserveAspectRatio=\"none\" style=\"width:707px;height:467px;background:#FFFFFF;\" version=\"1.1\" viewBox=\"0 0 707 467\" width=\"707px\" zoomAndPan=\"magnify\"><defs/><g><!--MD5=[fbc87193dbaf4d95561dea2c320d4a47]\n",
       "cluster E1--><g id=\"cluster_E1\"><a href=\"psysml:6bf27c65-dae0-4f69-b1ef-6329bb319dfc\" target=\"_top\" title=\"psysml:6bf27c65-dae0-4f69-b1ef-6329bb319dfc\" xlink:actuate=\"onRequest\" xlink:href=\"psysml:6bf27c65-dae0-4f69-b1ef-6329bb319dfc\" xlink:show=\"new\" xlink:title=\"psysml:6bf27c65-dae0-4f69-b1ef-6329bb319dfc\" xlink:type=\"simple\"><polygon fill=\"none\" points=\"16,6,122.25,6,129.25,28.2969,690,28.2969,690,460.72,16,460.72,16,6\" style=\"stroke:#000000;stroke-width:1.5;\"/><line style=\"stroke:#000000;stroke-width:1.5;\" x1=\"16\" x2=\"129.25\" y1=\"28.2969\" y2=\"28.2969\"/><text fill=\"#000000\" font-family=\"sans-serif\" font-size=\"14\" font-weight=\"bold\" lengthAdjust=\"spacing\" textLength=\"100.25\" x=\"20\" y=\"20.9951\">MetadataTest</text></a></g><!--MD5=[e4f7fae6ed58524ba242bb0b0d3be6b7]\n",
       "cluster E2--><g id=\"cluster_E2\"><a href=\"psysml:fde4dbf0-a827-4985-ab3d-be4806656b08\" target=\"_top\" title=\"psysml:fde4dbf0-a827-4985-ab3d-be4806656b08\" xlink:actuate=\"onRequest\" xlink:href=\"psysml:fde4dbf0-a827-4985-ab3d-be4806656b08\" xlink:show=\"new\" xlink:title=\"psysml:fde4dbf0-a827-4985-ab3d-be4806656b08\" xlink:type=\"simple\"><polygon fill=\"none\" points=\"337,120.72,522.1875,120.72,529.1875,143.0169,650,143.0169,650,420.72,337,420.72,337,120.72\" style=\"stroke:#000000;stroke-width:1.5;\"/><line style=\"stroke:#000000;stroke-width:1.5;\" x1=\"337\" x2=\"529.1875\" y1=\"143.0169\" y2=\"143.0169\"/><text fill=\"#000000\" font-family=\"sans-serif\" font-size=\"14\" font-weight=\"bold\" lengthAdjust=\"spacing\" textLength=\"179.1875\" x=\"341\" y=\"135.7151\">User Defined Extensions</text></a></g><!--MD5=[60a26617385b1d2d0262a64233df1f8d]\n",
       "class E6--><a href=\"psysml:09bb7bef-5578-400a-ab09-b89f3b478a84\" target=\"_top\" title=\"psysml:09bb7bef-5578-400a-ab09-b89f3b478a84\" xlink:actuate=\"onRequest\" xlink:href=\"psysml:09bb7bef-5578-400a-ab09-b89f3b478a84\" xlink:show=\"new\" xlink:title=\"psysml:09bb7bef-5578-400a-ab09-b89f3b478a84\" xlink:type=\"simple\"><g id=\"elem_E6\"><rect fill=\"#FFFFFF\" height=\"48.2656\" id=\"E6\" rx=\"10\" ry=\"10\" style=\"stroke:#181818;stroke-width:0.5;\" width=\"149\" x=\"160.5\" y=\"163.72\"/><text fill=\"#000000\" font-family=\"sans-serif\" font-size=\"12\" font-style=\"italic\" lengthAdjust=\"spacing\" textLength=\"147\" x=\"161.5\" y=\"179.8587\">«#Classified #Security»</text><text fill=\"#000000\" font-family=\"sans-serif\" font-size=\"14\" lengthAdjust=\"spacing\" textLength=\"17\" x=\"222.5\" y=\"195.6839\">z1</text><line style=\"stroke:#181818;stroke-width:0.5;\" x1=\"161.5\" x2=\"308.5\" y1=\"203.9856\" y2=\"203.9856\"/></g></a><!--MD5=[2156ba9850f5573cc1fc38a6a4b2f02b]\n",
       "class E7--><a href=\"psysml:fcfec3d1-5349-46cf-95eb-369f9c247e1c\" target=\"_top\" title=\"psysml:fcfec3d1-5349-46cf-95eb-369f9c247e1c\" xlink:actuate=\"onRequest\" xlink:href=\"psysml:fcfec3d1-5349-46cf-95eb-369f9c247e1c\" xlink:show=\"new\" xlink:title=\"psysml:fcfec3d1-5349-46cf-95eb-369f9c247e1c\" xlink:type=\"simple\"><g id=\"elem_E7\"><rect fill=\"#FFFFFF\" height=\"48.2656\" id=\"E7\" rx=\"10\" ry=\"10\" style=\"stroke:#181818;stroke-width:0.5;\" width=\"85\" x=\"40.5\" y=\"163.72\"/><text fill=\"#000000\" font-family=\"sans-serif\" font-size=\"12\" font-style=\"italic\" lengthAdjust=\"spacing\" textLength=\"83\" x=\"41.5\" y=\"179.8587\">«#Classified»</text><text fill=\"#000000\" font-family=\"sans-serif\" font-size=\"14\" font-style=\"italic\" lengthAdjust=\"spacing\" textLength=\"17\" x=\"70.5\" y=\"195.6839\">z2</text><text fill=\"#000000\" font-family=\"sans-serif\" font-size=\"14\" lengthAdjust=\"spacing\" textLength=\"8\" x=\"87.5\" y=\"195.6839\">  </text><line style=\"stroke:#181818;stroke-width:0.5;\" x1=\"41.5\" x2=\"124.5\" y1=\"203.9856\" y2=\"203.9856\"/></g></a><!--MD5=[09b614a08d8cba4a07c9adeb5e0fee81]\n",
       "class E3--><a href=\"psysml:875613db-282a-4c31-9ce2-2c5502fc9987\" target=\"_top\" title=\"psysml:875613db-282a-4c31-9ce2-2c5502fc9987\" xlink:actuate=\"onRequest\" xlink:href=\"psysml:875613db-282a-4c31-9ce2-2c5502fc9987\" xlink:show=\"new\" xlink:title=\"psysml:875613db-282a-4c31-9ce2-2c5502fc9987\" xlink:type=\"simple\"><g id=\"elem_E3\"><rect fill=\"#FFFFFF\" height=\"107.675\" id=\"E3\" style=\"stroke:#181818;stroke-width:0.5;\" width=\"218\" x=\"401\" y=\"288.72\"/><text fill=\"#000000\" font-family=\"sans-serif\" font-size=\"12\" font-style=\"italic\" lengthAdjust=\"spacing\" textLength=\"74\" x=\"473\" y=\"304.8587\">«#Security»</text><text fill=\"#000000\" font-family=\"sans-serif\" font-size=\"14\" font-style=\"italic\" lengthAdjust=\"spacing\" textLength=\"124\" x=\"448\" y=\"320.6839\">ClassificationLevel</text><line style=\"stroke:#181818;stroke-width:0.5;\" x1=\"402\" x2=\"618\" y1=\"328.9856\" y2=\"328.9856\"/><text fill=\"#000000\" font-family=\"sans-serif\" font-size=\"14\" lengthAdjust=\"spacing\" textLength=\"191\" x=\"407\" y=\"356.4995\">uncl: ClassificationLevel = 0</text><text fill=\"#000000\" font-family=\"sans-serif\" font-size=\"14\" lengthAdjust=\"spacing\" textLength=\"192\" x=\"407\" y=\"372.7964\">conf: ClassificationLevel = 1</text><text fill=\"#000000\" font-family=\"sans-serif\" font-size=\"14\" lengthAdjust=\"spacing\" textLength=\"206\" x=\"407\" y=\"389.0932\">secret: ClassificationLevel = 2</text><text fill=\"#000000\" font-family=\"sans-serif\" font-size=\"14\" font-style=\"italic\" lengthAdjust=\"spacing\" textLength=\"48\" x=\"486\" y=\"341.3323\">enums</text></g></a><!--MD5=[ebbe1d658d1005bcc118a6aa81145e00]\n",
       "class E4--><a href=\"psysml:7d365ab2-02f5-4019-ac52-725960bbc954\" target=\"_top\" title=\"psysml:7d365ab2-02f5-4019-ac52-725960bbc954\" xlink:actuate=\"onRequest\" xlink:href=\"psysml:7d365ab2-02f5-4019-ac52-725960bbc954\" xlink:show=\"new\" xlink:title=\"psysml:7d365ab2-02f5-4019-ac52-725960bbc954\" xlink:type=\"simple\"><g id=\"elem_E4\"><rect fill=\"#FFFFFF\" height=\"48.2656\" id=\"E4\" style=\"stroke:#181818;stroke-width:0.5;\" width=\"105\" x=\"520.5\" y=\"163.72\"/><text fill=\"#000000\" font-family=\"sans-serif\" font-size=\"12\" font-style=\"italic\" lengthAdjust=\"spacing\" textLength=\"103\" x=\"521.5\" y=\"179.8587\">«metadata  def»</text><text fill=\"#000000\" font-family=\"sans-serif\" font-size=\"14\" lengthAdjust=\"spacing\" textLength=\"65\" x=\"540.5\" y=\"195.6839\">Classified</text><line style=\"stroke:#181818;stroke-width:0.5;\" x1=\"521.5\" x2=\"624.5\" y1=\"203.9856\" y2=\"203.9856\"/></g></a><!--MD5=[270fce915f116d4de14055a7c1d9a0f3]\n",
       "class E5--><a href=\"psysml:b54cb894-c9b4-4b22-a0a5-6c760d030873\" target=\"_top\" title=\"psysml:b54cb894-c9b4-4b22-a0a5-6c760d030873\" xlink:actuate=\"onRequest\" xlink:href=\"psysml:b54cb894-c9b4-4b22-a0a5-6c760d030873\" xlink:show=\"new\" xlink:title=\"psysml:b54cb894-c9b4-4b22-a0a5-6c760d030873\" xlink:type=\"simple\"><g id=\"elem_E5\"><rect fill=\"#FFFFFF\" height=\"48.2656\" id=\"E5\" style=\"stroke:#181818;stroke-width:0.5;\" width=\"105\" x=\"380.5\" y=\"163.72\"/><text fill=\"#000000\" font-family=\"sans-serif\" font-size=\"12\" font-style=\"italic\" lengthAdjust=\"spacing\" textLength=\"103\" x=\"381.5\" y=\"179.8587\">«metadata  def»</text><text fill=\"#000000\" font-family=\"sans-serif\" font-size=\"14\" lengthAdjust=\"spacing\" textLength=\"55\" x=\"405.5\" y=\"195.6839\">Security</text><line style=\"stroke:#181818;stroke-width:0.5;\" x1=\"381.5\" x2=\"484.5\" y1=\"203.9856\" y2=\"203.9856\"/></g></a><!--MD5=[1f1cd8e6dd4c1b2ca2aaccc9b9bcea6e]\n",
       "link E1 to E2--><g id=\"link_E1_E2\"><a href=\"psysml:7790dee3-4a68-47c5-b25f-526a96f63664\" target=\"_top\" title=\"psysml:7790dee3-4a68-47c5-b25f-526a96f63664\" xlink:actuate=\"onRequest\" xlink:href=\"psysml:7790dee3-4a68-47c5-b25f-526a96f63664\" xlink:show=\"new\" xlink:title=\"psysml:7790dee3-4a68-47c5-b25f-526a96f63664\" xlink:type=\"simple\"><path d=\"M345,33.83 C345,36.11 345,73.1825 345,110.2463 C345,112.5627 345,114.8792 345,117.1871 C345,118.3411 345,119.4929 345,120.6415 \" fill=\"none\" id=\"E1-to-E2\" style=\"stroke:#181818;stroke-width:1.0;stroke-dasharray:7.0,7.0;\"/><polygon fill=\"#181818\" points=\"345,120.6415,349,111.6415,345,115.6415,341,111.6415,345,120.6415\" style=\"stroke:#181818;stroke-width:1.0;\"/><text fill=\"#000000\" font-family=\"sans-serif\" font-size=\"13\" lengthAdjust=\"spacing\" textLength=\"65\" x=\"346\" y=\"76.7869\">«import»*</text></a></g><!--MD5=[4735aefadfa2e5978451eb08fa1f3993]\n",
       "reverse link E4 to E3--><g id=\"link_E4_E3\"><a href=\"psysml:70fb76d3-4397-496c-b537-fd7ec6ee6db2\" target=\"_top\" title=\"psysml:70fb76d3-4397-496c-b537-fd7ec6ee6db2\" xlink:actuate=\"onRequest\" xlink:href=\"psysml:70fb76d3-4397-496c-b537-fd7ec6ee6db2\" xlink:show=\"new\" xlink:title=\"psysml:70fb76d3-4397-496c-b537-fd7ec6ee6db2\" xlink:type=\"simple\"><path d=\"M558.47,224.01 C550.61,243.1 540.73,267.08 531.96,288.4 \" fill=\"none\" id=\"E4-backto-E3\" style=\"stroke:#181818;stroke-width:1.0;\"/><polygon fill=\"none\" points=\"563.43,211.96,557.4497,215.9894,558.869,223.0594,564.8493,219.0301,563.43,211.96\" style=\"stroke:#181818;stroke-width:1.0;\"/><text fill=\"#000000\" font-family=\"sans-serif\" font-size=\"13\" lengthAdjust=\"spacing\" textLength=\"114\" x=\"551\" y=\"254.7869\">classificationLevel</text></a></g><!--MD5=[c4ee3b22cfd10c9a0c64cbdc5d520597]\n",
       "@startuml\r\n",
       "skin sysmlbw\r\n",
       "skinparam monochrome true\r\n",
       "skinparam wrapWidth 300\r\n",
       "hide circle\r\n",
       "skinparam linetype polyline\r\n",
       "\r\n",
       "package \"MetadataTest\" as E1  [[psysml:6bf27c65-dae0-4f69-b1ef-6329bb319dfc ]]  {\r\n",
       "package \"User Defined Extensions\" as E2  [[psysml:fde4dbf0-a827-4985-ab3d-be4806656b08 ]]  {\r\n",
       "comp def \"<i>ClassificationLevel</i>\" as E3 <<#Security>>[[psysml:875613db-282a-4c31-9ce2-2c5502fc9987 ]] {\r\n",
       "##//enums//##\r\n",
       "uncl: ClassificationLevel <U+003D> 0\r\n",
       "conf: ClassificationLevel <U+003D> 1\r\n",
       "secret: ClassificationLevel <U+003D> 2\r\n",
       "}\r\n",
       "comp def \"Classified\" as E4  <<(T,blue) metadata  def>> [[psysml:7d365ab2-02f5-4019-ac52-725960bbc954 ]] {\r\n",
       "}\r\n",
       "comp def \"Security\" as E5  <<(T,blue) metadata  def>> [[psysml:b54cb894-c9b4-4b22-a0a5-6c760d030873 ]] {\r\n",
       "}\r\n",
       "}\r\n",
       "comp usage \"z1  \" as E6 <<#Classified #Security>>[[psysml:09bb7bef-5578-400a-ab09-b89f3b478a84 ]] {\r\n",
       "}\r\n",
       "comp usage \"<i>z2</i>  \" as E7 <<#Classified>>[[psysml:fcfec3d1-5349-46cf-95eb-369f9c247e1c ]] {\r\n",
       "}\r\n",
       "}\r\n",
       "E1 ..> E2 [[psysml:7790dee3-4a68-47c5-b25f-526a96f63664 ]] : <<import>>*\r\n",
       "E4 o- - E3 [[psysml:70fb76d3-4397-496c-b537-fd7ec6ee6db2 ]] : classificationLevel\r\n",
       "@enduml\r\n",
       "\n",
       "PlantUML version 1.2022.7(Mon Aug 22 17:01:30 UTC 2022)\n",
       "(EPL source distribution)\n",
       "Java Runtime: OpenJDK Runtime Environment\n",
       "JVM: OpenJDK 64-Bit Server VM\n",
       "Default Encoding: UTF-8\n",
       "Language: en\n",
       "Country: null\n",
       "--></g></svg>"
      ]
     },
     "execution_count": 9,
     "metadata": {},
     "output_type": "execute_result"
    }
   ],
   "source": [
    "%viz --style=\"POLYLINE\" --view=\"Default\" \"MetadataTest\""
   ]
  },
  {
   "cell_type": "code",
   "execution_count": 10,
   "id": "ddfd1ac1",
   "metadata": {
    "execution": {
     "iopub.execute_input": "2024-12-16T03:28:22.557817Z",
     "iopub.status.busy": "2024-12-16T03:28:22.557575Z",
     "iopub.status.idle": "2024-12-16T03:28:22.585396Z",
     "shell.execute_reply": "2024-12-16T03:28:22.584633Z"
    }
   },
   "outputs": [
    {
     "data": {
      "image/svg+xml": [
       "<?xml version=\"1.0\" encoding=\"UTF-8\" standalone=\"no\"?><svg xmlns=\"http://www.w3.org/2000/svg\" xmlns:xlink=\"http://www.w3.org/1999/xlink\" contentStyleType=\"text/css\" height=\"467px\" preserveAspectRatio=\"none\" style=\"width:707px;height:467px;background:#FFFFFF;\" version=\"1.1\" viewBox=\"0 0 707 467\" width=\"707px\" zoomAndPan=\"magnify\"><defs/><g><!--MD5=[fbc87193dbaf4d95561dea2c320d4a47]\n",
       "cluster E1--><g id=\"cluster_E1\"><a href=\"psysml:6bf27c65-dae0-4f69-b1ef-6329bb319dfc\" target=\"_top\" title=\"psysml:6bf27c65-dae0-4f69-b1ef-6329bb319dfc\" xlink:actuate=\"onRequest\" xlink:href=\"psysml:6bf27c65-dae0-4f69-b1ef-6329bb319dfc\" xlink:show=\"new\" xlink:title=\"psysml:6bf27c65-dae0-4f69-b1ef-6329bb319dfc\" xlink:type=\"simple\"><polygon fill=\"none\" points=\"16,6,122.25,6,129.25,28.2969,690,28.2969,690,460.72,16,460.72,16,6\" style=\"stroke:#000000;stroke-width:1.5;\"/><line style=\"stroke:#000000;stroke-width:1.5;\" x1=\"16\" x2=\"129.25\" y1=\"28.2969\" y2=\"28.2969\"/><text fill=\"#000000\" font-family=\"sans-serif\" font-size=\"14\" font-weight=\"bold\" lengthAdjust=\"spacing\" textLength=\"100.25\" x=\"20\" y=\"20.9951\">MetadataTest</text></a></g><!--MD5=[e4f7fae6ed58524ba242bb0b0d3be6b7]\n",
       "cluster E2--><g id=\"cluster_E2\"><a href=\"psysml:fde4dbf0-a827-4985-ab3d-be4806656b08\" target=\"_top\" title=\"psysml:fde4dbf0-a827-4985-ab3d-be4806656b08\" xlink:actuate=\"onRequest\" xlink:href=\"psysml:fde4dbf0-a827-4985-ab3d-be4806656b08\" xlink:show=\"new\" xlink:title=\"psysml:fde4dbf0-a827-4985-ab3d-be4806656b08\" xlink:type=\"simple\"><polygon fill=\"none\" points=\"337,120.72,522.1875,120.72,529.1875,143.0169,650,143.0169,650,420.72,337,420.72,337,120.72\" style=\"stroke:#000000;stroke-width:1.5;\"/><line style=\"stroke:#000000;stroke-width:1.5;\" x1=\"337\" x2=\"529.1875\" y1=\"143.0169\" y2=\"143.0169\"/><text fill=\"#000000\" font-family=\"sans-serif\" font-size=\"14\" font-weight=\"bold\" lengthAdjust=\"spacing\" textLength=\"179.1875\" x=\"341\" y=\"135.7151\">User Defined Extensions</text></a></g><!--MD5=[60a26617385b1d2d0262a64233df1f8d]\n",
       "class E6--><a href=\"psysml:09bb7bef-5578-400a-ab09-b89f3b478a84\" target=\"_top\" title=\"psysml:09bb7bef-5578-400a-ab09-b89f3b478a84\" xlink:actuate=\"onRequest\" xlink:href=\"psysml:09bb7bef-5578-400a-ab09-b89f3b478a84\" xlink:show=\"new\" xlink:title=\"psysml:09bb7bef-5578-400a-ab09-b89f3b478a84\" xlink:type=\"simple\"><g id=\"elem_E6\"><rect fill=\"#FFFFFF\" height=\"48.2656\" id=\"E6\" rx=\"10\" ry=\"10\" style=\"stroke:#181818;stroke-width:0.5;\" width=\"149\" x=\"160.5\" y=\"163.72\"/><text fill=\"#000000\" font-family=\"sans-serif\" font-size=\"12\" font-style=\"italic\" lengthAdjust=\"spacing\" textLength=\"147\" x=\"161.5\" y=\"179.8587\">«#Classified #Security»</text><text fill=\"#000000\" font-family=\"sans-serif\" font-size=\"14\" lengthAdjust=\"spacing\" textLength=\"17\" x=\"222.5\" y=\"195.6839\">z1</text><line style=\"stroke:#181818;stroke-width:0.5;\" x1=\"161.5\" x2=\"308.5\" y1=\"203.9856\" y2=\"203.9856\"/></g></a><!--MD5=[2156ba9850f5573cc1fc38a6a4b2f02b]\n",
       "class E7--><a href=\"psysml:fcfec3d1-5349-46cf-95eb-369f9c247e1c\" target=\"_top\" title=\"psysml:fcfec3d1-5349-46cf-95eb-369f9c247e1c\" xlink:actuate=\"onRequest\" xlink:href=\"psysml:fcfec3d1-5349-46cf-95eb-369f9c247e1c\" xlink:show=\"new\" xlink:title=\"psysml:fcfec3d1-5349-46cf-95eb-369f9c247e1c\" xlink:type=\"simple\"><g id=\"elem_E7\"><rect fill=\"#FFFFFF\" height=\"48.2656\" id=\"E7\" rx=\"10\" ry=\"10\" style=\"stroke:#181818;stroke-width:0.5;\" width=\"85\" x=\"40.5\" y=\"163.72\"/><text fill=\"#000000\" font-family=\"sans-serif\" font-size=\"12\" font-style=\"italic\" lengthAdjust=\"spacing\" textLength=\"83\" x=\"41.5\" y=\"179.8587\">«#Classified»</text><text fill=\"#000000\" font-family=\"sans-serif\" font-size=\"14\" font-style=\"italic\" lengthAdjust=\"spacing\" textLength=\"17\" x=\"70.5\" y=\"195.6839\">z2</text><text fill=\"#000000\" font-family=\"sans-serif\" font-size=\"14\" lengthAdjust=\"spacing\" textLength=\"8\" x=\"87.5\" y=\"195.6839\">  </text><line style=\"stroke:#181818;stroke-width:0.5;\" x1=\"41.5\" x2=\"124.5\" y1=\"203.9856\" y2=\"203.9856\"/></g></a><!--MD5=[09b614a08d8cba4a07c9adeb5e0fee81]\n",
       "class E3--><a href=\"psysml:875613db-282a-4c31-9ce2-2c5502fc9987\" target=\"_top\" title=\"psysml:875613db-282a-4c31-9ce2-2c5502fc9987\" xlink:actuate=\"onRequest\" xlink:href=\"psysml:875613db-282a-4c31-9ce2-2c5502fc9987\" xlink:show=\"new\" xlink:title=\"psysml:875613db-282a-4c31-9ce2-2c5502fc9987\" xlink:type=\"simple\"><g id=\"elem_E3\"><rect fill=\"#FFFFFF\" height=\"107.675\" id=\"E3\" style=\"stroke:#181818;stroke-width:0.5;\" width=\"218\" x=\"401\" y=\"288.72\"/><text fill=\"#000000\" font-family=\"sans-serif\" font-size=\"12\" font-style=\"italic\" lengthAdjust=\"spacing\" textLength=\"74\" x=\"473\" y=\"304.8587\">«#Security»</text><text fill=\"#000000\" font-family=\"sans-serif\" font-size=\"14\" font-style=\"italic\" lengthAdjust=\"spacing\" textLength=\"124\" x=\"448\" y=\"320.6839\">ClassificationLevel</text><line style=\"stroke:#181818;stroke-width:0.5;\" x1=\"402\" x2=\"618\" y1=\"328.9856\" y2=\"328.9856\"/><text fill=\"#000000\" font-family=\"sans-serif\" font-size=\"14\" lengthAdjust=\"spacing\" textLength=\"191\" x=\"407\" y=\"356.4995\">uncl: ClassificationLevel = 0</text><text fill=\"#000000\" font-family=\"sans-serif\" font-size=\"14\" lengthAdjust=\"spacing\" textLength=\"192\" x=\"407\" y=\"372.7964\">conf: ClassificationLevel = 1</text><text fill=\"#000000\" font-family=\"sans-serif\" font-size=\"14\" lengthAdjust=\"spacing\" textLength=\"206\" x=\"407\" y=\"389.0932\">secret: ClassificationLevel = 2</text><text fill=\"#000000\" font-family=\"sans-serif\" font-size=\"14\" font-style=\"italic\" lengthAdjust=\"spacing\" textLength=\"48\" x=\"486\" y=\"341.3323\">enums</text></g></a><!--MD5=[ebbe1d658d1005bcc118a6aa81145e00]\n",
       "class E4--><a href=\"psysml:7d365ab2-02f5-4019-ac52-725960bbc954\" target=\"_top\" title=\"psysml:7d365ab2-02f5-4019-ac52-725960bbc954\" xlink:actuate=\"onRequest\" xlink:href=\"psysml:7d365ab2-02f5-4019-ac52-725960bbc954\" xlink:show=\"new\" xlink:title=\"psysml:7d365ab2-02f5-4019-ac52-725960bbc954\" xlink:type=\"simple\"><g id=\"elem_E4\"><rect fill=\"#FFFFFF\" height=\"48.2656\" id=\"E4\" style=\"stroke:#181818;stroke-width:0.5;\" width=\"105\" x=\"520.5\" y=\"163.72\"/><text fill=\"#000000\" font-family=\"sans-serif\" font-size=\"12\" font-style=\"italic\" lengthAdjust=\"spacing\" textLength=\"103\" x=\"521.5\" y=\"179.8587\">«metadata  def»</text><text fill=\"#000000\" font-family=\"sans-serif\" font-size=\"14\" lengthAdjust=\"spacing\" textLength=\"65\" x=\"540.5\" y=\"195.6839\">Classified</text><line style=\"stroke:#181818;stroke-width:0.5;\" x1=\"521.5\" x2=\"624.5\" y1=\"203.9856\" y2=\"203.9856\"/></g></a><!--MD5=[270fce915f116d4de14055a7c1d9a0f3]\n",
       "class E5--><a href=\"psysml:b54cb894-c9b4-4b22-a0a5-6c760d030873\" target=\"_top\" title=\"psysml:b54cb894-c9b4-4b22-a0a5-6c760d030873\" xlink:actuate=\"onRequest\" xlink:href=\"psysml:b54cb894-c9b4-4b22-a0a5-6c760d030873\" xlink:show=\"new\" xlink:title=\"psysml:b54cb894-c9b4-4b22-a0a5-6c760d030873\" xlink:type=\"simple\"><g id=\"elem_E5\"><rect fill=\"#FFFFFF\" height=\"48.2656\" id=\"E5\" style=\"stroke:#181818;stroke-width:0.5;\" width=\"105\" x=\"380.5\" y=\"163.72\"/><text fill=\"#000000\" font-family=\"sans-serif\" font-size=\"12\" font-style=\"italic\" lengthAdjust=\"spacing\" textLength=\"103\" x=\"381.5\" y=\"179.8587\">«metadata  def»</text><text fill=\"#000000\" font-family=\"sans-serif\" font-size=\"14\" lengthAdjust=\"spacing\" textLength=\"55\" x=\"405.5\" y=\"195.6839\">Security</text><line style=\"stroke:#181818;stroke-width:0.5;\" x1=\"381.5\" x2=\"484.5\" y1=\"203.9856\" y2=\"203.9856\"/></g></a><!--MD5=[1f1cd8e6dd4c1b2ca2aaccc9b9bcea6e]\n",
       "link E1 to E2--><g id=\"link_E1_E2\"><a href=\"psysml:7790dee3-4a68-47c5-b25f-526a96f63664\" target=\"_top\" title=\"psysml:7790dee3-4a68-47c5-b25f-526a96f63664\" xlink:actuate=\"onRequest\" xlink:href=\"psysml:7790dee3-4a68-47c5-b25f-526a96f63664\" xlink:show=\"new\" xlink:title=\"psysml:7790dee3-4a68-47c5-b25f-526a96f63664\" xlink:type=\"simple\"><path d=\"M345,33.83 C345,36.11 345,73.1825 345,110.2463 C345,112.5627 345,114.8792 345,117.1871 C345,118.3411 345,119.4929 345,120.6415 \" fill=\"none\" id=\"E1-to-E2\" style=\"stroke:#181818;stroke-width:1.0;stroke-dasharray:7.0,7.0;\"/><polygon fill=\"#181818\" points=\"345,120.6415,349,111.6415,345,115.6415,341,111.6415,345,120.6415\" style=\"stroke:#181818;stroke-width:1.0;\"/><text fill=\"#000000\" font-family=\"sans-serif\" font-size=\"13\" lengthAdjust=\"spacing\" textLength=\"65\" x=\"346\" y=\"76.7869\">«import»*</text></a></g><!--MD5=[4735aefadfa2e5978451eb08fa1f3993]\n",
       "reverse link E4 to E3--><g id=\"link_E4_E3\"><a href=\"psysml:70fb76d3-4397-496c-b537-fd7ec6ee6db2\" target=\"_top\" title=\"psysml:70fb76d3-4397-496c-b537-fd7ec6ee6db2\" xlink:actuate=\"onRequest\" xlink:href=\"psysml:70fb76d3-4397-496c-b537-fd7ec6ee6db2\" xlink:show=\"new\" xlink:title=\"psysml:70fb76d3-4397-496c-b537-fd7ec6ee6db2\" xlink:type=\"simple\"><path d=\"M558.47,224.01 C550.61,243.1 540.73,267.08 531.96,288.4 \" fill=\"none\" id=\"E4-backto-E3\" style=\"stroke:#181818;stroke-width:1.0;\"/><polygon fill=\"none\" points=\"563.43,211.96,557.4497,215.9894,558.869,223.0594,564.8493,219.0301,563.43,211.96\" style=\"stroke:#181818;stroke-width:1.0;\"/><text fill=\"#000000\" font-family=\"sans-serif\" font-size=\"13\" lengthAdjust=\"spacing\" textLength=\"114\" x=\"551\" y=\"254.7869\">classificationLevel</text></a></g><!--MD5=[c4ee3b22cfd10c9a0c64cbdc5d520597]\n",
       "@startuml\r\n",
       "skin sysmlbw\r\n",
       "skinparam monochrome true\r\n",
       "skinparam wrapWidth 300\r\n",
       "hide circle\r\n",
       "skinparam linetype polyline\r\n",
       "\r\n",
       "package \"MetadataTest\" as E1  [[psysml:6bf27c65-dae0-4f69-b1ef-6329bb319dfc ]]  {\r\n",
       "package \"User Defined Extensions\" as E2  [[psysml:fde4dbf0-a827-4985-ab3d-be4806656b08 ]]  {\r\n",
       "comp def \"<i>ClassificationLevel</i>\" as E3 <<#Security>>[[psysml:875613db-282a-4c31-9ce2-2c5502fc9987 ]] {\r\n",
       "##//enums//##\r\n",
       "uncl: ClassificationLevel <U+003D> 0\r\n",
       "conf: ClassificationLevel <U+003D> 1\r\n",
       "secret: ClassificationLevel <U+003D> 2\r\n",
       "}\r\n",
       "comp def \"Classified\" as E4  <<(T,blue) metadata  def>> [[psysml:7d365ab2-02f5-4019-ac52-725960bbc954 ]] {\r\n",
       "}\r\n",
       "comp def \"Security\" as E5  <<(T,blue) metadata  def>> [[psysml:b54cb894-c9b4-4b22-a0a5-6c760d030873 ]] {\r\n",
       "}\r\n",
       "}\r\n",
       "comp usage \"z1  \" as E6 <<#Classified #Security>>[[psysml:09bb7bef-5578-400a-ab09-b89f3b478a84 ]] {\r\n",
       "}\r\n",
       "comp usage \"<i>z2</i>  \" as E7 <<#Classified>>[[psysml:fcfec3d1-5349-46cf-95eb-369f9c247e1c ]] {\r\n",
       "}\r\n",
       "}\r\n",
       "E1 ..> E2 [[psysml:7790dee3-4a68-47c5-b25f-526a96f63664 ]] : <<import>>*\r\n",
       "E4 o- - E3 [[psysml:70fb76d3-4397-496c-b537-fd7ec6ee6db2 ]] : classificationLevel\r\n",
       "@enduml\r\n",
       "\n",
       "PlantUML version 1.2022.7(Mon Aug 22 17:01:30 UTC 2022)\n",
       "(EPL source distribution)\n",
       "Java Runtime: OpenJDK Runtime Environment\n",
       "JVM: OpenJDK 64-Bit Server VM\n",
       "Default Encoding: UTF-8\n",
       "Language: en\n",
       "Country: null\n",
       "--></g></svg>"
      ]
     },
     "execution_count": 10,
     "metadata": {},
     "output_type": "execute_result"
    }
   ],
   "source": [
    "%viz --style=\"POLYLINE\" --view=\"Tree\" \"MetadataTest\""
   ]
  },
  {
   "cell_type": "code",
   "execution_count": 11,
   "id": "95a2c34c",
   "metadata": {
    "execution": {
     "iopub.execute_input": "2024-12-16T03:28:22.641933Z",
     "iopub.status.busy": "2024-12-16T03:28:22.641711Z",
     "iopub.status.idle": "2024-12-16T03:28:22.658841Z",
     "shell.execute_reply": "2024-12-16T03:28:22.658975Z"
    }
   },
   "outputs": [
    {
     "data": {
      "image/svg+xml": [
       "<?xml version=\"1.0\" encoding=\"UTF-8\" standalone=\"no\"?><svg xmlns=\"http://www.w3.org/2000/svg\" xmlns:xlink=\"http://www.w3.org/1999/xlink\" contentStyleType=\"text/css\" height=\"96px\" preserveAspectRatio=\"none\" style=\"width:912px;height:96px;background:#FFFFFF;\" version=\"1.1\" viewBox=\"0 0 912 96\" width=\"912px\" zoomAndPan=\"magnify\"><defs/><g><g id=\"elem_E1\"><path d=\"M6,13.5 L6,82.0448 L315,82.0448 L315,23.5 L305,13.5 L6,13.5 \" fill=\"#FAFAFA\" style=\"stroke:#181818;stroke-width:0.5;\"/><path d=\"M305,13.5 L305,23.5 L315,23.5 L305,13.5 \" fill=\"#FAFAFA\" style=\"stroke:#181818;stroke-width:1.0;\"/><text fill=\"#000000\" font-family=\"monospace\" font-size=\"13\" lengthAdjust=\"spacing\" textLength=\"112\" x=\"12\" y=\"32.397\">              </text><a href=\"psysml:ccd30bed-0f75-43dd-8560-a117ef71fdae\" target=\"_top\" title=\"psysml:ccd30bed-0f75-43dd-8560-a117ef71fdae\" xlink:actuate=\"onRequest\" xlink:href=\"psysml:ccd30bed-0f75-43dd-8560-a117ef71fdae\" xlink:show=\"new\" xlink:title=\"psysml:ccd30bed-0f75-43dd-8560-a117ef71fdae\" xlink:type=\"simple\"><text fill=\"#000000\" font-family=\"sans-serif\" font-size=\"13\" lengthAdjust=\"spacing\" text-decoration=\"underline\" textLength=\"79\" x=\"124\" y=\"33.1401\">«metadata»</text></a><text fill=\"#000000\" font-family=\"monospace\" font-size=\"13\" font-style=\"italic\" lengthAdjust=\"spacing\" textLength=\"112\" x=\"12\" y=\"50.103\">              </text><text fill=\"#000000\" font-family=\"sans-serif\" font-size=\"13\" font-style=\"italic\" lengthAdjust=\"spacing\" textLength=\"60\" x=\"124\" y=\"50.8461\">Classified</text><line style=\"stroke:#181818;stroke-width:1.0;\" x1=\"7\" x2=\"314\" y1=\"53.912\" y2=\"53.912\"/><text fill=\"#000000\" font-family=\"sans-serif\" font-size=\"13\" lengthAdjust=\"spacing\" textLength=\"288\" x=\"12\" y=\"69.9789\">classificationLevel =  ClassificationLevel::conf</text></g><g id=\"elem_E2\"><path d=\"M350,13.5 L350,82.0448 L659,82.0448 L659,23.5 L649,13.5 L350,13.5 \" fill=\"#FAFAFA\" style=\"stroke:#181818;stroke-width:0.5;\"/><path d=\"M649,13.5 L649,23.5 L659,23.5 L649,13.5 \" fill=\"#FAFAFA\" style=\"stroke:#181818;stroke-width:1.0;\"/><text fill=\"#000000\" font-family=\"monospace\" font-size=\"13\" lengthAdjust=\"spacing\" textLength=\"112\" x=\"356\" y=\"32.397\">              </text><a href=\"psysml:a50d3885-9ceb-42ed-af81-8542a216cf29\" target=\"_top\" title=\"psysml:a50d3885-9ceb-42ed-af81-8542a216cf29\" xlink:actuate=\"onRequest\" xlink:href=\"psysml:a50d3885-9ceb-42ed-af81-8542a216cf29\" xlink:show=\"new\" xlink:title=\"psysml:a50d3885-9ceb-42ed-af81-8542a216cf29\" xlink:type=\"simple\"><text fill=\"#000000\" font-family=\"sans-serif\" font-size=\"13\" lengthAdjust=\"spacing\" text-decoration=\"underline\" textLength=\"79\" x=\"468\" y=\"33.1401\">«metadata»</text></a><text fill=\"#000000\" font-family=\"monospace\" font-size=\"13\" font-style=\"italic\" lengthAdjust=\"spacing\" textLength=\"112\" x=\"356\" y=\"50.103\">              </text><text fill=\"#000000\" font-family=\"sans-serif\" font-size=\"13\" font-style=\"italic\" lengthAdjust=\"spacing\" textLength=\"60\" x=\"468\" y=\"50.8461\">Classified</text><line style=\"stroke:#181818;stroke-width:1.0;\" x1=\"351\" x2=\"658\" y1=\"53.912\" y2=\"53.912\"/><text fill=\"#000000\" font-family=\"sans-serif\" font-size=\"13\" lengthAdjust=\"spacing\" textLength=\"288\" x=\"356\" y=\"69.9789\">classificationLevel =  ClassificationLevel::conf</text></g><g id=\"elem_E3\"><path d=\"M693.5,6 L693.5,89.6777 L905.5,89.6777 L905.5,16 L895.5,6 L693.5,6 \" fill=\"#FAFAFA\" style=\"stroke:#181818;stroke-width:0.5;\"/><path d=\"M895.5,6 L895.5,16 L905.5,16 L895.5,6 \" fill=\"#FAFAFA\" style=\"stroke:#181818;stroke-width:1.0;\"/><text fill=\"#000000\" font-family=\"monospace\" font-size=\"13\" lengthAdjust=\"spacing\" textLength=\"112\" x=\"699.5\" y=\"24.897\">              </text><a href=\"psysml:7eb290c6-6d6c-4277-b27a-b35f0e599ca6\" target=\"_top\" title=\"psysml:7eb290c6-6d6c-4277-b27a-b35f0e599ca6\" xlink:actuate=\"onRequest\" xlink:href=\"psysml:7eb290c6-6d6c-4277-b27a-b35f0e599ca6\" xlink:show=\"new\" xlink:title=\"psysml:7eb290c6-6d6c-4277-b27a-b35f0e599ca6\" xlink:type=\"simple\"><text fill=\"#000000\" font-family=\"sans-serif\" font-size=\"13\" lengthAdjust=\"spacing\" text-decoration=\"underline\" textLength=\"79\" x=\"811.5\" y=\"25.6401\">«metadata»</text></a><text fill=\"#000000\" font-family=\"monospace\" font-size=\"13\" font-style=\"italic\" lengthAdjust=\"spacing\" textLength=\"112\" x=\"699.5\" y=\"42.603\">              </text><text fill=\"#000000\" font-family=\"sans-serif\" font-size=\"13\" font-style=\"italic\" lengthAdjust=\"spacing\" textLength=\"60\" x=\"811.5\" y=\"43.3461\">Classified</text><line style=\"stroke:#181818;stroke-width:1.0;\" x1=\"694.5\" x2=\"904.5\" y1=\"46.412\" y2=\"46.412\"/><text fill=\"#000000\" font-family=\"sans-serif\" font-size=\"13\" lengthAdjust=\"spacing\" textLength=\"129\" x=\"699.5\" y=\"62.4789\">classificationLevel =</text><text fill=\"#000000\" font-family=\"sans-serif\" font-size=\"13\" lengthAdjust=\"spacing\" textLength=\"164\" x=\"699.5\" y=\"77.6117\">ClassificationLevel::secret</text></g><!--MD5=[8c95a516d6287ef3752a6950df619b16]\n",
       "@startuml\r\n",
       "skin sysmlbw\r\n",
       "skinparam monochrome true\r\n",
       "skinparam wrapWidth 300\r\n",
       "hide circle\r\n",
       "skinparam linetype polyline\r\n",
       "\r\n",
       "note as E1\r\n",
       "\"\"              \"\"[[psysml:ccd30bed-0f75-43dd-8560-a117ef71fdae «metadata»]]\r\n",
       "==== \"\"              \"\"Classified\r\n",
       "- -\r\n",
       "classificationLevel =  ClassificationLevel::conf\r\n",
       "end note\r\n",
       "note as E2\r\n",
       "\"\"              \"\"[[psysml:a50d3885-9ceb-42ed-af81-8542a216cf29 «metadata»]]\r\n",
       "==== \"\"              \"\"Classified\r\n",
       "- -\r\n",
       "classificationLevel =  ClassificationLevel::conf\r\n",
       "end note\r\n",
       "note as E3\r\n",
       "\"\"              \"\"[[psysml:7eb290c6-6d6c-4277-b27a-b35f0e599ca6 «metadata»]]\r\n",
       "==== \"\"              \"\"Classified\r\n",
       "- -\r\n",
       "classificationLevel =  ClassificationLevel::secret\r\n",
       "end note\r\n",
       "@enduml\r\n",
       "\n",
       "PlantUML version 1.2022.7(Mon Aug 22 17:01:30 UTC 2022)\n",
       "(EPL source distribution)\n",
       "Java Runtime: OpenJDK Runtime Environment\n",
       "JVM: OpenJDK 64-Bit Server VM\n",
       "Default Encoding: UTF-8\n",
       "Language: en\n",
       "Country: null\n",
       "--></g></svg>"
      ]
     },
     "execution_count": 11,
     "metadata": {},
     "output_type": "execute_result"
    }
   ],
   "source": [
    "%viz --style=\"POLYLINE\" --view=\"State\" \"MetadataTest\""
   ]
  },
  {
   "cell_type": "code",
   "execution_count": 12,
   "id": "852c0080",
   "metadata": {
    "execution": {
     "iopub.execute_input": "2024-12-16T03:28:22.714871Z",
     "iopub.status.busy": "2024-12-16T03:28:22.714620Z",
     "iopub.status.idle": "2024-12-16T03:28:22.738522Z",
     "shell.execute_reply": "2024-12-16T03:28:22.737526Z"
    }
   },
   "outputs": [
    {
     "data": {
      "image/svg+xml": [
       "<?xml version=\"1.0\" encoding=\"UTF-8\" standalone=\"no\"?><svg xmlns=\"http://www.w3.org/2000/svg\" xmlns:xlink=\"http://www.w3.org/1999/xlink\" contentStyleType=\"text/css\" height=\"257px\" preserveAspectRatio=\"none\" style=\"width:1233px;height:257px;background:#FFFFFF;\" version=\"1.1\" viewBox=\"0 0 1233 257\" width=\"1233px\" zoomAndPan=\"magnify\"><defs/><g><!--MD5=[fbc87193dbaf4d95561dea2c320d4a47]\n",
       "cluster E1--><g id=\"cluster_E1\"><a href=\"psysml:6bf27c65-dae0-4f69-b1ef-6329bb319dfc\" target=\"_top\" title=\"psysml:6bf27c65-dae0-4f69-b1ef-6329bb319dfc\" xlink:actuate=\"onRequest\" xlink:href=\"psysml:6bf27c65-dae0-4f69-b1ef-6329bb319dfc\" xlink:show=\"new\" xlink:title=\"psysml:6bf27c65-dae0-4f69-b1ef-6329bb319dfc\" xlink:type=\"simple\"><polygon fill=\"none\" points=\"16,6,122.25,6,129.25,28.2969,1216,28.2969,1216,250.72,16,250.72,16,6\" style=\"stroke:#000000;stroke-width:1.5;\"/><line style=\"stroke:#000000;stroke-width:1.5;\" x1=\"16\" x2=\"129.25\" y1=\"28.2969\" y2=\"28.2969\"/><text fill=\"#000000\" font-family=\"sans-serif\" font-size=\"14\" font-weight=\"bold\" lengthAdjust=\"spacing\" textLength=\"100.25\" x=\"20\" y=\"20.9951\">MetadataTest</text></a></g><!--MD5=[e4f7fae6ed58524ba242bb0b0d3be6b7]\n",
       "cluster E2--><g id=\"cluster_E2\"><a href=\"psysml:fde4dbf0-a827-4985-ab3d-be4806656b08\" target=\"_top\" title=\"psysml:fde4dbf0-a827-4985-ab3d-be4806656b08\" xlink:actuate=\"onRequest\" xlink:href=\"psysml:fde4dbf0-a827-4985-ab3d-be4806656b08\" xlink:show=\"new\" xlink:title=\"psysml:fde4dbf0-a827-4985-ab3d-be4806656b08\" xlink:type=\"simple\"><polygon fill=\"none\" points=\"683,98.72,868.1875,98.72,875.1875,121.0169,1176,121.0169,1176,210.72,683,210.72,683,98.72\" style=\"stroke:#000000;stroke-width:1.5;\"/><line style=\"stroke:#000000;stroke-width:1.5;\" x1=\"683\" x2=\"875.1875\" y1=\"121.0169\" y2=\"121.0169\"/><text fill=\"#000000\" font-family=\"sans-serif\" font-size=\"14\" font-weight=\"bold\" lengthAdjust=\"spacing\" textLength=\"179.1875\" x=\"687\" y=\"113.7151\">User Defined Extensions</text></a></g><!--MD5=[60a26617385b1d2d0262a64233df1f8d]\n",
       "class E6--><a href=\"psysml:ab215fb4-7997-4c5e-99e0-8fea9c1d3082\" target=\"_top\" title=\"psysml:ab215fb4-7997-4c5e-99e0-8fea9c1d3082\" xlink:actuate=\"onRequest\" xlink:href=\"psysml:ab215fb4-7997-4c5e-99e0-8fea9c1d3082\" xlink:show=\"new\" xlink:title=\"psysml:ab215fb4-7997-4c5e-99e0-8fea9c1d3082\" xlink:type=\"simple\"><g id=\"elem_E6\"><rect fill=\"#FFFFFF\" height=\"56.2656\" id=\"E6\" rx=\"10\" ry=\"10\" style=\"stroke:#181818;stroke-width:0.5;\" width=\"77\" x=\"578.5\" y=\"136.22\"/><text fill=\"#000000\" font-family=\"sans-serif\" font-size=\"12\" font-style=\"italic\" lengthAdjust=\"spacing\" textLength=\"75\" x=\"579.5\" y=\"152.3587\">«reference»</text><text fill=\"#000000\" font-family=\"sans-serif\" font-size=\"14\" lengthAdjust=\"spacing\" textLength=\"7\" x=\"609.5\" y=\"168.1839\">x</text><line style=\"stroke:#181818;stroke-width:0.5;\" x1=\"579.5\" x2=\"654.5\" y1=\"176.4856\" y2=\"176.4856\"/><line style=\"stroke:#181818;stroke-width:0.5;\" x1=\"579.5\" x2=\"654.5\" y1=\"184.4856\" y2=\"184.4856\"/></g></a><!--MD5=[2156ba9850f5573cc1fc38a6a4b2f02b]\n",
       "class E7--><a href=\"psysml:c7350727-55c2-4532-b138-8da3db2b593b\" target=\"_top\" title=\"psysml:c7350727-55c2-4532-b138-8da3db2b593b\" xlink:actuate=\"onRequest\" xlink:href=\"psysml:c7350727-55c2-4532-b138-8da3db2b593b\" xlink:show=\"new\" xlink:title=\"psysml:c7350727-55c2-4532-b138-8da3db2b593b\" xlink:type=\"simple\"><g id=\"elem_E7\"><rect fill=\"#FFFFFF\" height=\"56.2656\" id=\"E7\" rx=\"10\" ry=\"10\" style=\"stroke:#181818;stroke-width:0.5;\" width=\"76\" x=\"467\" y=\"136.22\"/><text fill=\"#000000\" font-family=\"sans-serif\" font-size=\"12\" font-style=\"italic\" lengthAdjust=\"spacing\" textLength=\"74\" x=\"468\" y=\"152.3587\">«#Security»</text><text fill=\"#000000\" font-family=\"sans-serif\" font-size=\"14\" lengthAdjust=\"spacing\" textLength=\"7\" x=\"497.5\" y=\"168.1839\">y</text><line style=\"stroke:#181818;stroke-width:0.5;\" x1=\"468\" x2=\"542\" y1=\"176.4856\" y2=\"176.4856\"/><line style=\"stroke:#181818;stroke-width:0.5;\" x1=\"468\" x2=\"542\" y1=\"184.4856\" y2=\"184.4856\"/></g></a><!--MD5=[96f4274e9e20536e775497830990834d]\n",
       "class E10--><a href=\"psysml:bedd784f-2083-437e-9a45-6e64d2c52a15\" target=\"_top\" title=\"psysml:bedd784f-2083-437e-9a45-6e64d2c52a15\" xlink:actuate=\"onRequest\" xlink:href=\"psysml:bedd784f-2083-437e-9a45-6e64d2c52a15\" xlink:show=\"new\" xlink:title=\"psysml:bedd784f-2083-437e-9a45-6e64d2c52a15\" xlink:type=\"simple\"><g id=\"elem_E10\"><rect fill=\"#FFFFFF\" height=\"56.2656\" id=\"E10\" rx=\"10\" ry=\"10\" style=\"stroke:#181818;stroke-width:0.5;\" width=\"77\" x=\"354.5\" y=\"136.22\"/><text fill=\"#000000\" font-family=\"sans-serif\" font-size=\"12\" font-style=\"italic\" lengthAdjust=\"spacing\" textLength=\"75\" x=\"355.5\" y=\"152.3587\">«reference»</text><text fill=\"#000000\" font-family=\"sans-serif\" font-size=\"14\" lengthAdjust=\"spacing\" textLength=\"8\" x=\"385\" y=\"168.1839\">z</text><line style=\"stroke:#181818;stroke-width:0.5;\" x1=\"355.5\" x2=\"430.5\" y1=\"176.4856\" y2=\"176.4856\"/><line style=\"stroke:#181818;stroke-width:0.5;\" x1=\"355.5\" x2=\"430.5\" y1=\"184.4856\" y2=\"184.4856\"/></g></a><g><a href=\"psysml:875613db-282a-4c31-9ce2-2c5502fc9987\" target=\"_top\" title=\"psysml:875613db-282a-4c31-9ce2-2c5502fc9987\" xlink:actuate=\"onRequest\" xlink:href=\"psysml:875613db-282a-4c31-9ce2-2c5502fc9987\" xlink:show=\"new\" xlink:title=\"psysml:875613db-282a-4c31-9ce2-2c5502fc9987\" xlink:type=\"simple\"><rect fill=\"#FFFFFF\" height=\"45.2656\" id=\"E3\" style=\"stroke:#383838;stroke-width:1.5;\" width=\"135\" x=\"1016.5\" y=\"141.72\"/><text fill=\"#000000\" font-family=\"sans-serif\" font-size=\"12\" font-style=\"italic\" lengthAdjust=\"spacing\" textLength=\"74\" x=\"1047\" y=\"157.8587\">«#Security»</text><text fill=\"#000000\" font-family=\"sans-serif\" font-size=\"14\" font-style=\"italic\" lengthAdjust=\"spacing\" textLength=\"124\" x=\"1022\" y=\"173.6839\">ClassificationLevel</text></a></g><g><a href=\"psysml:7d365ab2-02f5-4019-ac52-725960bbc954\" target=\"_top\" title=\"psysml:7d365ab2-02f5-4019-ac52-725960bbc954\" xlink:actuate=\"onRequest\" xlink:href=\"psysml:7d365ab2-02f5-4019-ac52-725960bbc954\" xlink:show=\"new\" xlink:title=\"psysml:7d365ab2-02f5-4019-ac52-725960bbc954\" xlink:type=\"simple\"><rect fill=\"#FFFFFF\" height=\"45.2656\" id=\"E4\" style=\"stroke:#383838;stroke-width:1.5;\" width=\"110\" x=\"871\" y=\"141.72\"/><text fill=\"#000000\" font-family=\"sans-serif\" font-size=\"12\" font-style=\"italic\" lengthAdjust=\"spacing\" textLength=\"103\" x=\"874.5\" y=\"157.8587\">«metadata  def»</text><text fill=\"#000000\" font-family=\"sans-serif\" font-size=\"14\" lengthAdjust=\"spacing\" textLength=\"65\" x=\"893.5\" y=\"173.6839\">Classified</text></a></g><g><a href=\"psysml:b54cb894-c9b4-4b22-a0a5-6c760d030873\" target=\"_top\" title=\"psysml:b54cb894-c9b4-4b22-a0a5-6c760d030873\" xlink:actuate=\"onRequest\" xlink:href=\"psysml:b54cb894-c9b4-4b22-a0a5-6c760d030873\" xlink:show=\"new\" xlink:title=\"psysml:b54cb894-c9b4-4b22-a0a5-6c760d030873\" xlink:type=\"simple\"><rect fill=\"#FFFFFF\" height=\"45.2656\" id=\"E5\" style=\"stroke:#383838;stroke-width:1.5;\" width=\"110\" x=\"726\" y=\"141.72\"/><text fill=\"#000000\" font-family=\"sans-serif\" font-size=\"12\" font-style=\"italic\" lengthAdjust=\"spacing\" textLength=\"103\" x=\"729.5\" y=\"157.8587\">«metadata  def»</text><text fill=\"#000000\" font-family=\"sans-serif\" font-size=\"14\" lengthAdjust=\"spacing\" textLength=\"55\" x=\"753.5\" y=\"173.6839\">Security</text></a></g><g><a href=\"psysml:09bb7bef-5578-400a-ab09-b89f3b478a84\" target=\"_top\" title=\"psysml:09bb7bef-5578-400a-ab09-b89f3b478a84\" xlink:actuate=\"onRequest\" xlink:href=\"psysml:09bb7bef-5578-400a-ab09-b89f3b478a84\" xlink:show=\"new\" xlink:title=\"psysml:09bb7bef-5578-400a-ab09-b89f3b478a84\" xlink:type=\"simple\"><rect fill=\"#FFFFFF\" height=\"45.2656\" id=\"E8\" rx=\"10\" ry=\"10\" style=\"stroke:#383838;stroke-width:1.5;\" width=\"154\" x=\"165\" y=\"141.72\"/><text fill=\"#000000\" font-family=\"sans-serif\" font-size=\"12\" font-style=\"italic\" lengthAdjust=\"spacing\" textLength=\"147\" x=\"168.5\" y=\"157.8587\">«#Classified #Security»</text><text fill=\"#000000\" font-family=\"sans-serif\" font-size=\"14\" lengthAdjust=\"spacing\" textLength=\"17\" x=\"233.5\" y=\"173.6839\">z1</text></a></g><g><a href=\"psysml:fcfec3d1-5349-46cf-95eb-369f9c247e1c\" target=\"_top\" title=\"psysml:fcfec3d1-5349-46cf-95eb-369f9c247e1c\" xlink:actuate=\"onRequest\" xlink:href=\"psysml:fcfec3d1-5349-46cf-95eb-369f9c247e1c\" xlink:show=\"new\" xlink:title=\"psysml:fcfec3d1-5349-46cf-95eb-369f9c247e1c\" xlink:type=\"simple\"><rect fill=\"#FFFFFF\" height=\"45.2656\" id=\"E9\" rx=\"10\" ry=\"10\" style=\"stroke:#383838;stroke-width:1.5;\" width=\"90\" x=\"40\" y=\"141.72\"/><text fill=\"#000000\" font-family=\"sans-serif\" font-size=\"12\" font-style=\"italic\" lengthAdjust=\"spacing\" textLength=\"83\" x=\"43.5\" y=\"157.8587\">«#Classified»</text><text fill=\"#000000\" font-family=\"sans-serif\" font-size=\"14\" font-style=\"italic\" lengthAdjust=\"spacing\" textLength=\"17\" x=\"76.5\" y=\"173.6839\">z2</text></a></g><!--MD5=[1f1cd8e6dd4c1b2ca2aaccc9b9bcea6e]\n",
       "link E1 to E2--><g id=\"link_E1_E2\"><a href=\"psysml:7790dee3-4a68-47c5-b25f-526a96f63664\" target=\"_top\" title=\"psysml:7790dee3-4a68-47c5-b25f-526a96f63664\" xlink:actuate=\"onRequest\" xlink:href=\"psysml:7790dee3-4a68-47c5-b25f-526a96f63664\" xlink:show=\"new\" xlink:title=\"psysml:7790dee3-4a68-47c5-b25f-526a96f63664\" xlink:type=\"simple\"><path d=\"M691,33.81 C691,35.74 691,67.12 691,98.4925 \" fill=\"none\" id=\"E1-to-E2\" style=\"stroke:#181818;stroke-width:1.0;stroke-dasharray:7.0,7.0;\"/><polygon fill=\"#181818\" points=\"691,98.4925,695,89.4925,691,93.4925,687,89.4925,691,98.4925\" style=\"stroke:#181818;stroke-width:1.0;\"/><text fill=\"#000000\" font-family=\"sans-serif\" font-size=\"13\" lengthAdjust=\"spacing\" textLength=\"65\" x=\"692\" y=\"54.7869\">«import»*</text></a></g><!--MD5=[8654591d257d332e698ac3b72d0e4128]\n",
       "@startuml\r\n",
       "skin sysmlbw\r\n",
       "skinparam monochrome true\r\n",
       "skinparam wrapWidth 300\r\n",
       "hide circle\r\n",
       "skinparam linetype polyline\r\n",
       "skinparam ranksep 10\r\n",
       "skinparam rectangle {\r\n",
       " backgroundColor<<block>> LightGreen\r\n",
       "}\r\n",
       "\r\n",
       "package \"MetadataTest\" as E1  [[psysml:6bf27c65-dae0-4f69-b1ef-6329bb319dfc ]]  {\r\n",
       "package \"User Defined Extensions\" as E2  [[psysml:fde4dbf0-a827-4985-ab3d-be4806656b08 ]]  {\r\n",
       "def \"<i>ClassificationLevel</i>\" as E3 <<#Security>>[[psysml:875613db-282a-4c31-9ce2-2c5502fc9987 ]] \r\n",
       "def \"Classified\" as E4  <<(T,blue) metadata  def>> [[psysml:7d365ab2-02f5-4019-ac52-725960bbc954 ]] \r\n",
       "def \"Security\" as E5  <<(T,blue) metadata  def>> [[psysml:b54cb894-c9b4-4b22-a0a5-6c760d030873 ]] \r\n",
       "}\r\n",
       "usage \"x  \" as E6  <<(T,blue) reference>> [[psysml:ab215fb4-7997-4c5e-99e0-8fea9c1d3082 ]] \r\n",
       "usage \"y  \" as E7 <<#Security>>[[psysml:c7350727-55c2-4532-b138-8da3db2b593b ]] \r\n",
       "rec usage \"z1\" as E8 <<#Classified #Security>>[[psysml:09bb7bef-5578-400a-ab09-b89f3b478a84 ]] {\r\n",
       "}\r\n",
       "rec usage \"<i>z2</i>\" as E9 <<#Classified>>[[psysml:fcfec3d1-5349-46cf-95eb-369f9c247e1c ]] {\r\n",
       "}\r\n",
       "usage \"z  \" as E10  <<(T,blue) reference>> [[psysml:bedd784f-2083-437e-9a45-6e64d2c52a15 ]] \r\n",
       "}\r\n",
       "E1 ..> E2 [[psysml:7790dee3-4a68-47c5-b25f-526a96f63664 ]] : <<import>>*\r\n",
       "@enduml\r\n",
       "\n",
       "PlantUML version 1.2022.7(Mon Aug 22 17:01:30 UTC 2022)\n",
       "(EPL source distribution)\n",
       "Java Runtime: OpenJDK Runtime Environment\n",
       "JVM: OpenJDK 64-Bit Server VM\n",
       "Default Encoding: UTF-8\n",
       "Language: en\n",
       "Country: null\n",
       "--></g></svg>"
      ]
     },
     "execution_count": 12,
     "metadata": {},
     "output_type": "execute_result"
    }
   ],
   "source": [
    "%viz --style=\"POLYLINE\" --view=\"Interconnection\" \"MetadataTest\""
   ]
  },
  {
   "cell_type": "code",
   "execution_count": 13,
   "id": "dd5c2df7",
   "metadata": {
    "execution": {
     "iopub.execute_input": "2024-12-16T03:28:22.794260Z",
     "iopub.status.busy": "2024-12-16T03:28:22.794027Z",
     "iopub.status.idle": "2024-12-16T03:28:22.810953Z",
     "shell.execute_reply": "2024-12-16T03:28:22.810156Z"
    }
   },
   "outputs": [
    {
     "data": {
      "image/svg+xml": [
       "<?xml version=\"1.0\" encoding=\"UTF-8\" standalone=\"no\"?><svg xmlns=\"http://www.w3.org/2000/svg\" xmlns:xlink=\"http://www.w3.org/1999/xlink\" contentStyleType=\"text/css\" height=\"96px\" preserveAspectRatio=\"none\" style=\"width:912px;height:96px;background:#FFFFFF;\" version=\"1.1\" viewBox=\"0 0 912 96\" width=\"912px\" zoomAndPan=\"magnify\"><defs/><g><g id=\"elem_E1\"><path d=\"M6,13.5 L6,82.0448 L315,82.0448 L315,23.5 L305,13.5 L6,13.5 \" fill=\"#FAFAFA\" style=\"stroke:#181818;stroke-width:0.5;\"/><path d=\"M305,13.5 L305,23.5 L315,23.5 L305,13.5 \" fill=\"#FAFAFA\" style=\"stroke:#181818;stroke-width:1.0;\"/><text fill=\"#000000\" font-family=\"monospace\" font-size=\"13\" lengthAdjust=\"spacing\" textLength=\"112\" x=\"12\" y=\"32.397\">              </text><a href=\"psysml:ccd30bed-0f75-43dd-8560-a117ef71fdae\" target=\"_top\" title=\"psysml:ccd30bed-0f75-43dd-8560-a117ef71fdae\" xlink:actuate=\"onRequest\" xlink:href=\"psysml:ccd30bed-0f75-43dd-8560-a117ef71fdae\" xlink:show=\"new\" xlink:title=\"psysml:ccd30bed-0f75-43dd-8560-a117ef71fdae\" xlink:type=\"simple\"><text fill=\"#000000\" font-family=\"sans-serif\" font-size=\"13\" lengthAdjust=\"spacing\" text-decoration=\"underline\" textLength=\"79\" x=\"124\" y=\"33.1401\">«metadata»</text></a><text fill=\"#000000\" font-family=\"monospace\" font-size=\"13\" font-style=\"italic\" lengthAdjust=\"spacing\" textLength=\"112\" x=\"12\" y=\"50.103\">              </text><text fill=\"#000000\" font-family=\"sans-serif\" font-size=\"13\" font-style=\"italic\" lengthAdjust=\"spacing\" textLength=\"60\" x=\"124\" y=\"50.8461\">Classified</text><line style=\"stroke:#181818;stroke-width:1.0;\" x1=\"7\" x2=\"314\" y1=\"53.912\" y2=\"53.912\"/><text fill=\"#000000\" font-family=\"sans-serif\" font-size=\"13\" lengthAdjust=\"spacing\" textLength=\"288\" x=\"12\" y=\"69.9789\">classificationLevel =  ClassificationLevel::conf</text></g><g id=\"elem_E2\"><path d=\"M350,13.5 L350,82.0448 L659,82.0448 L659,23.5 L649,13.5 L350,13.5 \" fill=\"#FAFAFA\" style=\"stroke:#181818;stroke-width:0.5;\"/><path d=\"M649,13.5 L649,23.5 L659,23.5 L649,13.5 \" fill=\"#FAFAFA\" style=\"stroke:#181818;stroke-width:1.0;\"/><text fill=\"#000000\" font-family=\"monospace\" font-size=\"13\" lengthAdjust=\"spacing\" textLength=\"112\" x=\"356\" y=\"32.397\">              </text><a href=\"psysml:a50d3885-9ceb-42ed-af81-8542a216cf29\" target=\"_top\" title=\"psysml:a50d3885-9ceb-42ed-af81-8542a216cf29\" xlink:actuate=\"onRequest\" xlink:href=\"psysml:a50d3885-9ceb-42ed-af81-8542a216cf29\" xlink:show=\"new\" xlink:title=\"psysml:a50d3885-9ceb-42ed-af81-8542a216cf29\" xlink:type=\"simple\"><text fill=\"#000000\" font-family=\"sans-serif\" font-size=\"13\" lengthAdjust=\"spacing\" text-decoration=\"underline\" textLength=\"79\" x=\"468\" y=\"33.1401\">«metadata»</text></a><text fill=\"#000000\" font-family=\"monospace\" font-size=\"13\" font-style=\"italic\" lengthAdjust=\"spacing\" textLength=\"112\" x=\"356\" y=\"50.103\">              </text><text fill=\"#000000\" font-family=\"sans-serif\" font-size=\"13\" font-style=\"italic\" lengthAdjust=\"spacing\" textLength=\"60\" x=\"468\" y=\"50.8461\">Classified</text><line style=\"stroke:#181818;stroke-width:1.0;\" x1=\"351\" x2=\"658\" y1=\"53.912\" y2=\"53.912\"/><text fill=\"#000000\" font-family=\"sans-serif\" font-size=\"13\" lengthAdjust=\"spacing\" textLength=\"288\" x=\"356\" y=\"69.9789\">classificationLevel =  ClassificationLevel::conf</text></g><g id=\"elem_E3\"><path d=\"M693.5,6 L693.5,89.6777 L905.5,89.6777 L905.5,16 L895.5,6 L693.5,6 \" fill=\"#FAFAFA\" style=\"stroke:#181818;stroke-width:0.5;\"/><path d=\"M895.5,6 L895.5,16 L905.5,16 L895.5,6 \" fill=\"#FAFAFA\" style=\"stroke:#181818;stroke-width:1.0;\"/><text fill=\"#000000\" font-family=\"monospace\" font-size=\"13\" lengthAdjust=\"spacing\" textLength=\"112\" x=\"699.5\" y=\"24.897\">              </text><a href=\"psysml:7eb290c6-6d6c-4277-b27a-b35f0e599ca6\" target=\"_top\" title=\"psysml:7eb290c6-6d6c-4277-b27a-b35f0e599ca6\" xlink:actuate=\"onRequest\" xlink:href=\"psysml:7eb290c6-6d6c-4277-b27a-b35f0e599ca6\" xlink:show=\"new\" xlink:title=\"psysml:7eb290c6-6d6c-4277-b27a-b35f0e599ca6\" xlink:type=\"simple\"><text fill=\"#000000\" font-family=\"sans-serif\" font-size=\"13\" lengthAdjust=\"spacing\" text-decoration=\"underline\" textLength=\"79\" x=\"811.5\" y=\"25.6401\">«metadata»</text></a><text fill=\"#000000\" font-family=\"monospace\" font-size=\"13\" font-style=\"italic\" lengthAdjust=\"spacing\" textLength=\"112\" x=\"699.5\" y=\"42.603\">              </text><text fill=\"#000000\" font-family=\"sans-serif\" font-size=\"13\" font-style=\"italic\" lengthAdjust=\"spacing\" textLength=\"60\" x=\"811.5\" y=\"43.3461\">Classified</text><line style=\"stroke:#181818;stroke-width:1.0;\" x1=\"694.5\" x2=\"904.5\" y1=\"46.412\" y2=\"46.412\"/><text fill=\"#000000\" font-family=\"sans-serif\" font-size=\"13\" lengthAdjust=\"spacing\" textLength=\"129\" x=\"699.5\" y=\"62.4789\">classificationLevel =</text><text fill=\"#000000\" font-family=\"sans-serif\" font-size=\"13\" lengthAdjust=\"spacing\" textLength=\"164\" x=\"699.5\" y=\"77.6117\">ClassificationLevel::secret</text></g><!--MD5=[95d28f255208610cccf985acc2146dbc]\n",
       "@startuml\r\n",
       "skin sysmlbw\r\n",
       "skinparam monochrome true\r\n",
       "skinparam wrapWidth 300\r\n",
       "hide circle\r\n",
       "skinparam linetype polyline\r\n",
       "skinparam ranksep 8\r\n",
       "\r\n",
       "note as E1\r\n",
       "\"\"              \"\"[[psysml:ccd30bed-0f75-43dd-8560-a117ef71fdae «metadata»]]\r\n",
       "==== \"\"              \"\"Classified\r\n",
       "- -\r\n",
       "classificationLevel =  ClassificationLevel::conf\r\n",
       "end note\r\n",
       "note as E2\r\n",
       "\"\"              \"\"[[psysml:a50d3885-9ceb-42ed-af81-8542a216cf29 «metadata»]]\r\n",
       "==== \"\"              \"\"Classified\r\n",
       "- -\r\n",
       "classificationLevel =  ClassificationLevel::conf\r\n",
       "end note\r\n",
       "note as E3\r\n",
       "\"\"              \"\"[[psysml:7eb290c6-6d6c-4277-b27a-b35f0e599ca6 «metadata»]]\r\n",
       "==== \"\"              \"\"Classified\r\n",
       "- -\r\n",
       "classificationLevel =  ClassificationLevel::secret\r\n",
       "end note\r\n",
       "@enduml\r\n",
       "\n",
       "PlantUML version 1.2022.7(Mon Aug 22 17:01:30 UTC 2022)\n",
       "(EPL source distribution)\n",
       "Java Runtime: OpenJDK Runtime Environment\n",
       "JVM: OpenJDK 64-Bit Server VM\n",
       "Default Encoding: UTF-8\n",
       "Language: en\n",
       "Country: null\n",
       "--></g></svg>"
      ]
     },
     "execution_count": 13,
     "metadata": {},
     "output_type": "execute_result"
    }
   ],
   "source": [
    "%viz --style=\"POLYLINE\" --view=\"Action\" \"MetadataTest\""
   ]
  },
  {
   "cell_type": "code",
   "execution_count": 14,
   "id": "ec2ae5a7",
   "metadata": {
    "execution": {
     "iopub.execute_input": "2024-12-16T03:28:22.863314Z",
     "iopub.status.busy": "2024-12-16T03:28:22.863104Z",
     "iopub.status.idle": "2024-12-16T03:28:22.872152Z",
     "shell.execute_reply": "2024-12-16T03:28:22.872286Z"
    }
   },
   "outputs": [
    {
     "data": {
      "image/svg+xml": [
       "<?xml version=\"1.0\" encoding=\"UTF-8\" standalone=\"no\"?><svg xmlns=\"http://www.w3.org/2000/svg\" xmlns:xlink=\"http://www.w3.org/1999/xlink\" contentStyleType=\"text/css\" height=\"10px\" preserveAspectRatio=\"none\" style=\"width:10px;height:10px;background:#FFFFFF;\" version=\"1.1\" viewBox=\"0 0 10 10\" width=\"10px\" zoomAndPan=\"magnify\"><defs/><g><!--MD5=[efefafbf36b45173e0355713d9054f90]\n",
       "@startuml\r\n",
       "skin sysmlbw\r\n",
       "skinparam monochrome true\r\n",
       "skinparam wrapWidth 300\r\n",
       "hide circle\r\n",
       "skinparam linetype polyline\r\n",
       "skinparam roundcorner 20\r\n",
       "skinparam BoxPadding 20\r\n",
       "skinparam SequenceBoxBackgroundColor #white\r\n",
       "skinparam style strictuml\r\n",
       "skinparam maxMessageSize 100\r\n",
       "\r\n",
       "@enduml\r\n",
       "\n",
       "PlantUML version 1.2022.7(Mon Aug 22 17:01:30 UTC 2022)\n",
       "(EPL source distribution)\n",
       "Java Runtime: OpenJDK Runtime Environment\n",
       "JVM: OpenJDK 64-Bit Server VM\n",
       "Default Encoding: UTF-8\n",
       "Language: en\n",
       "Country: null\n",
       "--></g></svg>"
      ]
     },
     "execution_count": 14,
     "metadata": {},
     "output_type": "execute_result"
    }
   ],
   "source": [
    "%viz --style=\"POLYLINE\" --view=\"Sequence\" \"MetadataTest\""
   ]
  },
  {
   "cell_type": "code",
   "execution_count": 15,
   "id": "61318b7a",
   "metadata": {
    "execution": {
     "iopub.execute_input": "2024-12-16T03:28:22.929213Z",
     "iopub.status.busy": "2024-12-16T03:28:22.928977Z",
     "iopub.status.idle": "2024-12-16T03:28:22.955881Z",
     "shell.execute_reply": "2024-12-16T03:28:22.955699Z"
    }
   },
   "outputs": [
    {
     "data": {
      "image/svg+xml": [
       "<?xml version=\"1.0\" encoding=\"UTF-8\" standalone=\"no\"?><svg xmlns=\"http://www.w3.org/2000/svg\" xmlns:xlink=\"http://www.w3.org/1999/xlink\" contentStyleType=\"text/css\" height=\"467px\" preserveAspectRatio=\"none\" style=\"width:707px;height:467px;background:#FFFFFF;\" version=\"1.1\" viewBox=\"0 0 707 467\" width=\"707px\" zoomAndPan=\"magnify\"><defs/><g><!--MD5=[fbc87193dbaf4d95561dea2c320d4a47]\n",
       "cluster E1--><g id=\"cluster_E1\"><a href=\"psysml:6bf27c65-dae0-4f69-b1ef-6329bb319dfc\" target=\"_top\" title=\"psysml:6bf27c65-dae0-4f69-b1ef-6329bb319dfc\" xlink:actuate=\"onRequest\" xlink:href=\"psysml:6bf27c65-dae0-4f69-b1ef-6329bb319dfc\" xlink:show=\"new\" xlink:title=\"psysml:6bf27c65-dae0-4f69-b1ef-6329bb319dfc\" xlink:type=\"simple\"><polygon fill=\"none\" points=\"16,6,122.25,6,129.25,28.2969,690,28.2969,690,460.72,16,460.72,16,6\" style=\"stroke:#000000;stroke-width:1.5;\"/><line style=\"stroke:#000000;stroke-width:1.5;\" x1=\"16\" x2=\"129.25\" y1=\"28.2969\" y2=\"28.2969\"/><text fill=\"#000000\" font-family=\"sans-serif\" font-size=\"14\" font-weight=\"bold\" lengthAdjust=\"spacing\" textLength=\"100.25\" x=\"20\" y=\"20.9951\">MetadataTest</text></a></g><!--MD5=[e4f7fae6ed58524ba242bb0b0d3be6b7]\n",
       "cluster E2--><g id=\"cluster_E2\"><a href=\"psysml:fde4dbf0-a827-4985-ab3d-be4806656b08\" target=\"_top\" title=\"psysml:fde4dbf0-a827-4985-ab3d-be4806656b08\" xlink:actuate=\"onRequest\" xlink:href=\"psysml:fde4dbf0-a827-4985-ab3d-be4806656b08\" xlink:show=\"new\" xlink:title=\"psysml:fde4dbf0-a827-4985-ab3d-be4806656b08\" xlink:type=\"simple\"><polygon fill=\"none\" points=\"337,120.72,522.1875,120.72,529.1875,143.0169,650,143.0169,650,420.72,337,420.72,337,120.72\" style=\"stroke:#000000;stroke-width:1.5;\"/><line style=\"stroke:#000000;stroke-width:1.5;\" x1=\"337\" x2=\"529.1875\" y1=\"143.0169\" y2=\"143.0169\"/><text fill=\"#000000\" font-family=\"sans-serif\" font-size=\"14\" font-weight=\"bold\" lengthAdjust=\"spacing\" textLength=\"179.1875\" x=\"341\" y=\"135.7151\">User Defined Extensions</text></a></g><!--MD5=[60a26617385b1d2d0262a64233df1f8d]\n",
       "class E6--><a href=\"psysml:09bb7bef-5578-400a-ab09-b89f3b478a84\" target=\"_top\" title=\"psysml:09bb7bef-5578-400a-ab09-b89f3b478a84\" xlink:actuate=\"onRequest\" xlink:href=\"psysml:09bb7bef-5578-400a-ab09-b89f3b478a84\" xlink:show=\"new\" xlink:title=\"psysml:09bb7bef-5578-400a-ab09-b89f3b478a84\" xlink:type=\"simple\"><g id=\"elem_E6\"><rect fill=\"#FFFFFF\" height=\"48.2656\" id=\"E6\" rx=\"10\" ry=\"10\" style=\"stroke:#181818;stroke-width:0.5;\" width=\"149\" x=\"160.5\" y=\"163.72\"/><text fill=\"#000000\" font-family=\"sans-serif\" font-size=\"12\" font-style=\"italic\" lengthAdjust=\"spacing\" textLength=\"147\" x=\"161.5\" y=\"179.8587\">«#Classified #Security»</text><text fill=\"#000000\" font-family=\"sans-serif\" font-size=\"14\" lengthAdjust=\"spacing\" textLength=\"17\" x=\"222.5\" y=\"195.6839\">z1</text><line style=\"stroke:#181818;stroke-width:0.5;\" x1=\"161.5\" x2=\"308.5\" y1=\"203.9856\" y2=\"203.9856\"/></g></a><!--MD5=[2156ba9850f5573cc1fc38a6a4b2f02b]\n",
       "class E7--><a href=\"psysml:fcfec3d1-5349-46cf-95eb-369f9c247e1c\" target=\"_top\" title=\"psysml:fcfec3d1-5349-46cf-95eb-369f9c247e1c\" xlink:actuate=\"onRequest\" xlink:href=\"psysml:fcfec3d1-5349-46cf-95eb-369f9c247e1c\" xlink:show=\"new\" xlink:title=\"psysml:fcfec3d1-5349-46cf-95eb-369f9c247e1c\" xlink:type=\"simple\"><g id=\"elem_E7\"><rect fill=\"#FFFFFF\" height=\"48.2656\" id=\"E7\" rx=\"10\" ry=\"10\" style=\"stroke:#181818;stroke-width:0.5;\" width=\"85\" x=\"40.5\" y=\"163.72\"/><text fill=\"#000000\" font-family=\"sans-serif\" font-size=\"12\" font-style=\"italic\" lengthAdjust=\"spacing\" textLength=\"83\" x=\"41.5\" y=\"179.8587\">«#Classified»</text><text fill=\"#000000\" font-family=\"sans-serif\" font-size=\"14\" font-style=\"italic\" lengthAdjust=\"spacing\" textLength=\"17\" x=\"70.5\" y=\"195.6839\">z2</text><text fill=\"#000000\" font-family=\"sans-serif\" font-size=\"14\" lengthAdjust=\"spacing\" textLength=\"8\" x=\"87.5\" y=\"195.6839\">  </text><line style=\"stroke:#181818;stroke-width:0.5;\" x1=\"41.5\" x2=\"124.5\" y1=\"203.9856\" y2=\"203.9856\"/></g></a><!--MD5=[09b614a08d8cba4a07c9adeb5e0fee81]\n",
       "class E3--><a href=\"psysml:875613db-282a-4c31-9ce2-2c5502fc9987\" target=\"_top\" title=\"psysml:875613db-282a-4c31-9ce2-2c5502fc9987\" xlink:actuate=\"onRequest\" xlink:href=\"psysml:875613db-282a-4c31-9ce2-2c5502fc9987\" xlink:show=\"new\" xlink:title=\"psysml:875613db-282a-4c31-9ce2-2c5502fc9987\" xlink:type=\"simple\"><g id=\"elem_E3\"><rect fill=\"#FFFFFF\" height=\"107.675\" id=\"E3\" style=\"stroke:#181818;stroke-width:0.5;\" width=\"218\" x=\"401\" y=\"288.72\"/><text fill=\"#000000\" font-family=\"sans-serif\" font-size=\"12\" font-style=\"italic\" lengthAdjust=\"spacing\" textLength=\"74\" x=\"473\" y=\"304.8587\">«#Security»</text><text fill=\"#000000\" font-family=\"sans-serif\" font-size=\"14\" font-style=\"italic\" lengthAdjust=\"spacing\" textLength=\"124\" x=\"448\" y=\"320.6839\">ClassificationLevel</text><line style=\"stroke:#181818;stroke-width:0.5;\" x1=\"402\" x2=\"618\" y1=\"328.9856\" y2=\"328.9856\"/><text fill=\"#000000\" font-family=\"sans-serif\" font-size=\"14\" lengthAdjust=\"spacing\" textLength=\"191\" x=\"407\" y=\"356.4995\">uncl: ClassificationLevel = 0</text><text fill=\"#000000\" font-family=\"sans-serif\" font-size=\"14\" lengthAdjust=\"spacing\" textLength=\"192\" x=\"407\" y=\"372.7964\">conf: ClassificationLevel = 1</text><text fill=\"#000000\" font-family=\"sans-serif\" font-size=\"14\" lengthAdjust=\"spacing\" textLength=\"206\" x=\"407\" y=\"389.0932\">secret: ClassificationLevel = 2</text><text fill=\"#000000\" font-family=\"sans-serif\" font-size=\"14\" font-style=\"italic\" lengthAdjust=\"spacing\" textLength=\"48\" x=\"486\" y=\"341.3323\">enums</text></g></a><!--MD5=[ebbe1d658d1005bcc118a6aa81145e00]\n",
       "class E4--><a href=\"psysml:7d365ab2-02f5-4019-ac52-725960bbc954\" target=\"_top\" title=\"psysml:7d365ab2-02f5-4019-ac52-725960bbc954\" xlink:actuate=\"onRequest\" xlink:href=\"psysml:7d365ab2-02f5-4019-ac52-725960bbc954\" xlink:show=\"new\" xlink:title=\"psysml:7d365ab2-02f5-4019-ac52-725960bbc954\" xlink:type=\"simple\"><g id=\"elem_E4\"><rect fill=\"#FFFFFF\" height=\"48.2656\" id=\"E4\" style=\"stroke:#181818;stroke-width:0.5;\" width=\"105\" x=\"520.5\" y=\"163.72\"/><text fill=\"#000000\" font-family=\"sans-serif\" font-size=\"12\" font-style=\"italic\" lengthAdjust=\"spacing\" textLength=\"103\" x=\"521.5\" y=\"179.8587\">«metadata  def»</text><text fill=\"#000000\" font-family=\"sans-serif\" font-size=\"14\" lengthAdjust=\"spacing\" textLength=\"65\" x=\"540.5\" y=\"195.6839\">Classified</text><line style=\"stroke:#181818;stroke-width:0.5;\" x1=\"521.5\" x2=\"624.5\" y1=\"203.9856\" y2=\"203.9856\"/></g></a><!--MD5=[270fce915f116d4de14055a7c1d9a0f3]\n",
       "class E5--><a href=\"psysml:b54cb894-c9b4-4b22-a0a5-6c760d030873\" target=\"_top\" title=\"psysml:b54cb894-c9b4-4b22-a0a5-6c760d030873\" xlink:actuate=\"onRequest\" xlink:href=\"psysml:b54cb894-c9b4-4b22-a0a5-6c760d030873\" xlink:show=\"new\" xlink:title=\"psysml:b54cb894-c9b4-4b22-a0a5-6c760d030873\" xlink:type=\"simple\"><g id=\"elem_E5\"><rect fill=\"#FFFFFF\" height=\"48.2656\" id=\"E5\" style=\"stroke:#181818;stroke-width:0.5;\" width=\"105\" x=\"380.5\" y=\"163.72\"/><text fill=\"#000000\" font-family=\"sans-serif\" font-size=\"12\" font-style=\"italic\" lengthAdjust=\"spacing\" textLength=\"103\" x=\"381.5\" y=\"179.8587\">«metadata  def»</text><text fill=\"#000000\" font-family=\"sans-serif\" font-size=\"14\" lengthAdjust=\"spacing\" textLength=\"55\" x=\"405.5\" y=\"195.6839\">Security</text><line style=\"stroke:#181818;stroke-width:0.5;\" x1=\"381.5\" x2=\"484.5\" y1=\"203.9856\" y2=\"203.9856\"/></g></a><!--MD5=[1f1cd8e6dd4c1b2ca2aaccc9b9bcea6e]\n",
       "link E1 to E2--><g id=\"link_E1_E2\"><a href=\"psysml:7790dee3-4a68-47c5-b25f-526a96f63664\" target=\"_top\" title=\"psysml:7790dee3-4a68-47c5-b25f-526a96f63664\" xlink:actuate=\"onRequest\" xlink:href=\"psysml:7790dee3-4a68-47c5-b25f-526a96f63664\" xlink:show=\"new\" xlink:title=\"psysml:7790dee3-4a68-47c5-b25f-526a96f63664\" xlink:type=\"simple\"><path d=\"M345,33.83 C345,36.11 345,73.1825 345,110.2463 C345,112.5627 345,114.8792 345,117.1871 C345,118.3411 345,119.4929 345,120.6415 \" fill=\"none\" id=\"E1-to-E2\" style=\"stroke:#181818;stroke-width:1.0;stroke-dasharray:7.0,7.0;\"/><polygon fill=\"#181818\" points=\"345,120.6415,349,111.6415,345,115.6415,341,111.6415,345,120.6415\" style=\"stroke:#181818;stroke-width:1.0;\"/><text fill=\"#000000\" font-family=\"sans-serif\" font-size=\"13\" lengthAdjust=\"spacing\" textLength=\"65\" x=\"346\" y=\"76.7869\">«import»*</text></a></g><!--MD5=[4735aefadfa2e5978451eb08fa1f3993]\n",
       "reverse link E4 to E3--><g id=\"link_E4_E3\"><a href=\"psysml:70fb76d3-4397-496c-b537-fd7ec6ee6db2\" target=\"_top\" title=\"psysml:70fb76d3-4397-496c-b537-fd7ec6ee6db2\" xlink:actuate=\"onRequest\" xlink:href=\"psysml:70fb76d3-4397-496c-b537-fd7ec6ee6db2\" xlink:show=\"new\" xlink:title=\"psysml:70fb76d3-4397-496c-b537-fd7ec6ee6db2\" xlink:type=\"simple\"><path d=\"M558.47,224.01 C550.61,243.1 540.73,267.08 531.96,288.4 \" fill=\"none\" id=\"E4-backto-E3\" style=\"stroke:#181818;stroke-width:1.0;\"/><polygon fill=\"none\" points=\"563.43,211.96,557.4497,215.9894,558.869,223.0594,564.8493,219.0301,563.43,211.96\" style=\"stroke:#181818;stroke-width:1.0;\"/><text fill=\"#000000\" font-family=\"sans-serif\" font-size=\"13\" lengthAdjust=\"spacing\" textLength=\"114\" x=\"551\" y=\"254.7869\">classificationLevel</text></a></g><!--MD5=[c4ee3b22cfd10c9a0c64cbdc5d520597]\n",
       "@startuml\r\n",
       "skin sysmlbw\r\n",
       "skinparam monochrome true\r\n",
       "skinparam wrapWidth 300\r\n",
       "hide circle\r\n",
       "skinparam linetype polyline\r\n",
       "\r\n",
       "package \"MetadataTest\" as E1  [[psysml:6bf27c65-dae0-4f69-b1ef-6329bb319dfc ]]  {\r\n",
       "package \"User Defined Extensions\" as E2  [[psysml:fde4dbf0-a827-4985-ab3d-be4806656b08 ]]  {\r\n",
       "comp def \"<i>ClassificationLevel</i>\" as E3 <<#Security>>[[psysml:875613db-282a-4c31-9ce2-2c5502fc9987 ]] {\r\n",
       "##//enums//##\r\n",
       "uncl: ClassificationLevel <U+003D> 0\r\n",
       "conf: ClassificationLevel <U+003D> 1\r\n",
       "secret: ClassificationLevel <U+003D> 2\r\n",
       "}\r\n",
       "comp def \"Classified\" as E4  <<(T,blue) metadata  def>> [[psysml:7d365ab2-02f5-4019-ac52-725960bbc954 ]] {\r\n",
       "}\r\n",
       "comp def \"Security\" as E5  <<(T,blue) metadata  def>> [[psysml:b54cb894-c9b4-4b22-a0a5-6c760d030873 ]] {\r\n",
       "}\r\n",
       "}\r\n",
       "comp usage \"z1  \" as E6 <<#Classified #Security>>[[psysml:09bb7bef-5578-400a-ab09-b89f3b478a84 ]] {\r\n",
       "}\r\n",
       "comp usage \"<i>z2</i>  \" as E7 <<#Classified>>[[psysml:fcfec3d1-5349-46cf-95eb-369f9c247e1c ]] {\r\n",
       "}\r\n",
       "}\r\n",
       "E1 ..> E2 [[psysml:7790dee3-4a68-47c5-b25f-526a96f63664 ]] : <<import>>*\r\n",
       "E4 o- - E3 [[psysml:70fb76d3-4397-496c-b537-fd7ec6ee6db2 ]] : classificationLevel\r\n",
       "@enduml\r\n",
       "\n",
       "PlantUML version 1.2022.7(Mon Aug 22 17:01:30 UTC 2022)\n",
       "(EPL source distribution)\n",
       "Java Runtime: OpenJDK Runtime Environment\n",
       "JVM: OpenJDK 64-Bit Server VM\n",
       "Default Encoding: UTF-8\n",
       "Language: en\n",
       "Country: null\n",
       "--></g></svg>"
      ]
     },
     "execution_count": 15,
     "metadata": {},
     "output_type": "execute_result"
    }
   ],
   "source": [
    "%viz --style=\"POLYLINE\" --view=\"MIXED\" \"MetadataTest\""
   ]
  },
  {
   "cell_type": "code",
   "execution_count": 16,
   "id": "1fb9cd88",
   "metadata": {
    "execution": {
     "iopub.execute_input": "2024-12-16T03:28:23.012228Z",
     "iopub.status.busy": "2024-12-16T03:28:23.012004Z",
     "iopub.status.idle": "2024-12-16T03:28:23.037990Z",
     "shell.execute_reply": "2024-12-16T03:28:23.037104Z"
    }
   },
   "outputs": [
    {
     "data": {
      "image/svg+xml": [
       "<?xml version=\"1.0\" encoding=\"UTF-8\" standalone=\"no\"?><svg xmlns=\"http://www.w3.org/2000/svg\" xmlns:xlink=\"http://www.w3.org/1999/xlink\" contentStyleType=\"text/css\" height=\"471px\" preserveAspectRatio=\"none\" style=\"width:787px;height:471px;background:#FFFFFF;\" version=\"1.1\" viewBox=\"0 0 787 471\" width=\"787px\" zoomAndPan=\"magnify\"><defs/><g><!--MD5=[fbc87193dbaf4d95561dea2c320d4a47]\n",
       "cluster E1--><g id=\"cluster_E1\"><a href=\"psysml:6bf27c65-dae0-4f69-b1ef-6329bb319dfc\" target=\"_top\" title=\"psysml:6bf27c65-dae0-4f69-b1ef-6329bb319dfc\" xlink:actuate=\"onRequest\" xlink:href=\"psysml:6bf27c65-dae0-4f69-b1ef-6329bb319dfc\" xlink:show=\"new\" xlink:title=\"psysml:6bf27c65-dae0-4f69-b1ef-6329bb319dfc\" xlink:type=\"simple\"><polygon fill=\"none\" points=\"16,6,122.25,6,129.25,28.2969,770.72,28.2969,770.72,464,16,464,16,6\" style=\"stroke:#000000;stroke-width:1.5;\"/><line style=\"stroke:#000000;stroke-width:1.5;\" x1=\"16\" x2=\"129.25\" y1=\"28.2969\" y2=\"28.2969\"/><text fill=\"#000000\" font-family=\"sans-serif\" font-size=\"14\" font-weight=\"bold\" lengthAdjust=\"spacing\" textLength=\"100.25\" x=\"20\" y=\"20.9951\">MetadataTest</text></a></g><!--MD5=[e4f7fae6ed58524ba242bb0b0d3be6b7]\n",
       "cluster E2--><g id=\"cluster_E2\"><a href=\"psysml:fde4dbf0-a827-4985-ab3d-be4806656b08\" target=\"_top\" title=\"psysml:fde4dbf0-a827-4985-ab3d-be4806656b08\" xlink:actuate=\"onRequest\" xlink:href=\"psysml:fde4dbf0-a827-4985-ab3d-be4806656b08\" xlink:show=\"new\" xlink:title=\"psysml:fde4dbf0-a827-4985-ab3d-be4806656b08\" xlink:type=\"simple\"><polygon fill=\"none\" points=\"161.72,65,346.9075,65,353.9075,87.2969,730.72,87.2969,730.72,282,161.72,282,161.72,65\" style=\"stroke:#000000;stroke-width:1.5;\"/><line style=\"stroke:#000000;stroke-width:1.5;\" x1=\"161.72\" x2=\"353.9075\" y1=\"87.2969\" y2=\"87.2969\"/><text fill=\"#000000\" font-family=\"sans-serif\" font-size=\"14\" font-weight=\"bold\" lengthAdjust=\"spacing\" textLength=\"179.1875\" x=\"165.72\" y=\"79.9951\">User Defined Extensions</text></a></g><!--MD5=[60a26617385b1d2d0262a64233df1f8d]\n",
       "class E6--><a href=\"psysml:09bb7bef-5578-400a-ab09-b89f3b478a84\" target=\"_top\" title=\"psysml:09bb7bef-5578-400a-ab09-b89f3b478a84\" xlink:actuate=\"onRequest\" xlink:href=\"psysml:09bb7bef-5578-400a-ab09-b89f3b478a84\" xlink:show=\"new\" xlink:title=\"psysml:09bb7bef-5578-400a-ab09-b89f3b478a84\" xlink:type=\"simple\"><g id=\"elem_E6\"><rect fill=\"#FFFFFF\" height=\"48.2656\" id=\"E6\" rx=\"10\" ry=\"10\" style=\"stroke:#181818;stroke-width:0.5;\" width=\"149\" x=\"163.72\" y=\"309\"/><text fill=\"#000000\" font-family=\"sans-serif\" font-size=\"12\" font-style=\"italic\" lengthAdjust=\"spacing\" textLength=\"147\" x=\"164.72\" y=\"325.1387\">«#Classified #Security»</text><text fill=\"#000000\" font-family=\"sans-serif\" font-size=\"14\" lengthAdjust=\"spacing\" textLength=\"17\" x=\"225.72\" y=\"340.9639\">z1</text><line style=\"stroke:#181818;stroke-width:0.5;\" x1=\"164.72\" x2=\"311.72\" y1=\"349.2656\" y2=\"349.2656\"/></g></a><!--MD5=[2156ba9850f5573cc1fc38a6a4b2f02b]\n",
       "class E7--><a href=\"psysml:fcfec3d1-5349-46cf-95eb-369f9c247e1c\" target=\"_top\" title=\"psysml:fcfec3d1-5349-46cf-95eb-369f9c247e1c\" xlink:actuate=\"onRequest\" xlink:href=\"psysml:fcfec3d1-5349-46cf-95eb-369f9c247e1c\" xlink:show=\"new\" xlink:title=\"psysml:fcfec3d1-5349-46cf-95eb-369f9c247e1c\" xlink:type=\"simple\"><g id=\"elem_E7\"><rect fill=\"#FFFFFF\" height=\"48.2656\" id=\"E7\" rx=\"10\" ry=\"10\" style=\"stroke:#181818;stroke-width:0.5;\" width=\"85\" x=\"195.72\" y=\"392\"/><text fill=\"#000000\" font-family=\"sans-serif\" font-size=\"12\" font-style=\"italic\" lengthAdjust=\"spacing\" textLength=\"83\" x=\"196.72\" y=\"408.1387\">«#Classified»</text><text fill=\"#000000\" font-family=\"sans-serif\" font-size=\"14\" font-style=\"italic\" lengthAdjust=\"spacing\" textLength=\"17\" x=\"225.72\" y=\"423.9639\">z2</text><text fill=\"#000000\" font-family=\"sans-serif\" font-size=\"14\" lengthAdjust=\"spacing\" textLength=\"8\" x=\"242.72\" y=\"423.9639\">  </text><line style=\"stroke:#181818;stroke-width:0.5;\" x1=\"196.72\" x2=\"279.72\" y1=\"432.2656\" y2=\"432.2656\"/></g></a><!--MD5=[09b614a08d8cba4a07c9adeb5e0fee81]\n",
       "class E3--><a href=\"psysml:875613db-282a-4c31-9ce2-2c5502fc9987\" target=\"_top\" title=\"psysml:875613db-282a-4c31-9ce2-2c5502fc9987\" xlink:actuate=\"onRequest\" xlink:href=\"psysml:875613db-282a-4c31-9ce2-2c5502fc9987\" xlink:show=\"new\" xlink:title=\"psysml:875613db-282a-4c31-9ce2-2c5502fc9987\" xlink:type=\"simple\"><g id=\"elem_E3\"><rect fill=\"#FFFFFF\" height=\"107.675\" id=\"E3\" style=\"stroke:#181818;stroke-width:0.5;\" width=\"218\" x=\"488.72\" y=\"108\"/><text fill=\"#000000\" font-family=\"sans-serif\" font-size=\"12\" font-style=\"italic\" lengthAdjust=\"spacing\" textLength=\"74\" x=\"560.72\" y=\"124.1387\">«#Security»</text><text fill=\"#000000\" font-family=\"sans-serif\" font-size=\"14\" font-style=\"italic\" lengthAdjust=\"spacing\" textLength=\"124\" x=\"535.72\" y=\"139.9639\">ClassificationLevel</text><line style=\"stroke:#181818;stroke-width:0.5;\" x1=\"489.72\" x2=\"705.72\" y1=\"148.2656\" y2=\"148.2656\"/><text fill=\"#000000\" font-family=\"sans-serif\" font-size=\"14\" lengthAdjust=\"spacing\" textLength=\"191\" x=\"494.72\" y=\"175.7795\">uncl: ClassificationLevel = 0</text><text fill=\"#000000\" font-family=\"sans-serif\" font-size=\"14\" lengthAdjust=\"spacing\" textLength=\"192\" x=\"494.72\" y=\"192.0764\">conf: ClassificationLevel = 1</text><text fill=\"#000000\" font-family=\"sans-serif\" font-size=\"14\" lengthAdjust=\"spacing\" textLength=\"206\" x=\"494.72\" y=\"208.3732\">secret: ClassificationLevel = 2</text><text fill=\"#000000\" font-family=\"sans-serif\" font-size=\"14\" font-style=\"italic\" lengthAdjust=\"spacing\" textLength=\"48\" x=\"573.72\" y=\"160.6123\">enums</text></g></a><!--MD5=[ebbe1d658d1005bcc118a6aa81145e00]\n",
       "class E4--><a href=\"psysml:7d365ab2-02f5-4019-ac52-725960bbc954\" target=\"_top\" title=\"psysml:7d365ab2-02f5-4019-ac52-725960bbc954\" xlink:actuate=\"onRequest\" xlink:href=\"psysml:7d365ab2-02f5-4019-ac52-725960bbc954\" xlink:show=\"new\" xlink:title=\"psysml:7d365ab2-02f5-4019-ac52-725960bbc954\" xlink:type=\"simple\"><g id=\"elem_E4\"><rect fill=\"#FFFFFF\" height=\"48.2656\" id=\"E4\" style=\"stroke:#181818;stroke-width:0.5;\" width=\"105\" x=\"185.72\" y=\"108\"/><text fill=\"#000000\" font-family=\"sans-serif\" font-size=\"12\" font-style=\"italic\" lengthAdjust=\"spacing\" textLength=\"103\" x=\"186.72\" y=\"124.1387\">«metadata  def»</text><text fill=\"#000000\" font-family=\"sans-serif\" font-size=\"14\" lengthAdjust=\"spacing\" textLength=\"65\" x=\"205.72\" y=\"139.9639\">Classified</text><line style=\"stroke:#181818;stroke-width:0.5;\" x1=\"186.72\" x2=\"289.72\" y1=\"148.2656\" y2=\"148.2656\"/></g></a><!--MD5=[270fce915f116d4de14055a7c1d9a0f3]\n",
       "class E5--><a href=\"psysml:b54cb894-c9b4-4b22-a0a5-6c760d030873\" target=\"_top\" title=\"psysml:b54cb894-c9b4-4b22-a0a5-6c760d030873\" xlink:actuate=\"onRequest\" xlink:href=\"psysml:b54cb894-c9b4-4b22-a0a5-6c760d030873\" xlink:show=\"new\" xlink:title=\"psysml:b54cb894-c9b4-4b22-a0a5-6c760d030873\" xlink:type=\"simple\"><g id=\"elem_E5\"><rect fill=\"#FFFFFF\" height=\"48.2656\" id=\"E5\" style=\"stroke:#181818;stroke-width:0.5;\" width=\"105\" x=\"185.72\" y=\"191\"/><text fill=\"#000000\" font-family=\"sans-serif\" font-size=\"12\" font-style=\"italic\" lengthAdjust=\"spacing\" textLength=\"103\" x=\"186.72\" y=\"207.1387\">«metadata  def»</text><text fill=\"#000000\" font-family=\"sans-serif\" font-size=\"14\" lengthAdjust=\"spacing\" textLength=\"55\" x=\"210.72\" y=\"222.9639\">Security</text><line style=\"stroke:#181818;stroke-width:0.5;\" x1=\"186.72\" x2=\"289.72\" y1=\"231.2656\" y2=\"231.2656\"/></g></a><!--MD5=[1f1cd8e6dd4c1b2ca2aaccc9b9bcea6e]\n",
       "link E1 to E2--><g id=\"link_E1_E2\"><a href=\"psysml:7790dee3-4a68-47c5-b25f-526a96f63664\" target=\"_top\" title=\"psysml:7790dee3-4a68-47c5-b25f-526a96f63664\" xlink:actuate=\"onRequest\" xlink:href=\"psysml:7790dee3-4a68-47c5-b25f-526a96f63664\" xlink:show=\"new\" xlink:title=\"psysml:7790dee3-4a68-47c5-b25f-526a96f63664\" xlink:type=\"simple\"><path d=\"M24.87,274 C28.04,274 79.53,274 131.0075,274 C137.4422,274 143.8767,274 150.2166,274 C153.3865,274 156.5328,274 159.6437,274 C160.0325,274 160.4208,274 160.8086,274 \" fill=\"none\" id=\"E1-to-E2\" style=\"stroke:#181818;stroke-width:1.0;stroke-dasharray:7.0,7.0;\"/><polygon fill=\"#181818\" points=\"160.8086,274,151.8086,270,155.8086,274,151.8086,278,160.8086,274\" style=\"stroke:#181818;stroke-width:1.0;\"/><text fill=\"#000000\" font-family=\"sans-serif\" font-size=\"13\" lengthAdjust=\"spacing\" textLength=\"65\" x=\"55.72\" y=\"270.0669\">«import»*</text></a></g><!--MD5=[4735aefadfa2e5978451eb08fa1f3993]\n",
       "reverse link E4 to E3--><g id=\"link_E4_E3\"><a href=\"psysml:70fb76d3-4397-496c-b537-fd7ec6ee6db2\" target=\"_top\" title=\"psysml:70fb76d3-4397-496c-b537-fd7ec6ee6db2\" xlink:actuate=\"onRequest\" xlink:href=\"psysml:70fb76d3-4397-496c-b537-fd7ec6ee6db2\" xlink:show=\"new\" xlink:title=\"psysml:70fb76d3-4397-496c-b537-fd7ec6ee6db2\" xlink:type=\"simple\"><path d=\"M304.07,137.44 C355.5,141.76 428.5,147.88 488.72,152.94 \" fill=\"none\" id=\"E4-backto-E3\" style=\"stroke:#181818;stroke-width:1.0;\"/><polygon fill=\"none\" points=\"290.82,136.33,296.465,140.817,302.7781,137.332,297.133,132.845,290.82,136.33\" style=\"stroke:#181818;stroke-width:1.0;\"/><text fill=\"#000000\" font-family=\"sans-serif\" font-size=\"13\" lengthAdjust=\"spacing\" textLength=\"114\" x=\"343.72\" y=\"137.0669\">classificationLevel</text></a></g><!--MD5=[60afe0529004b283ca62d50df2d1ce91]\n",
       "@startuml\r\n",
       "skin sysmlbw\r\n",
       "skinparam monochrome true\r\n",
       "skinparam wrapWidth 300\r\n",
       "hide circle\r\n",
       "left to right direction\r\n",
       "\r\n",
       "package \"MetadataTest\" as E1  [[psysml:6bf27c65-dae0-4f69-b1ef-6329bb319dfc ]]  {\r\n",
       "package \"User Defined Extensions\" as E2  [[psysml:fde4dbf0-a827-4985-ab3d-be4806656b08 ]]  {\r\n",
       "comp def \"<i>ClassificationLevel</i>\" as E3 <<#Security>>[[psysml:875613db-282a-4c31-9ce2-2c5502fc9987 ]] {\r\n",
       "##//enums//##\r\n",
       "uncl: ClassificationLevel <U+003D> 0\r\n",
       "conf: ClassificationLevel <U+003D> 1\r\n",
       "secret: ClassificationLevel <U+003D> 2\r\n",
       "}\r\n",
       "comp def \"Classified\" as E4  <<(T,blue) metadata  def>> [[psysml:7d365ab2-02f5-4019-ac52-725960bbc954 ]] {\r\n",
       "}\r\n",
       "comp def \"Security\" as E5  <<(T,blue) metadata  def>> [[psysml:b54cb894-c9b4-4b22-a0a5-6c760d030873 ]] {\r\n",
       "}\r\n",
       "}\r\n",
       "comp usage \"z1  \" as E6 <<#Classified #Security>>[[psysml:09bb7bef-5578-400a-ab09-b89f3b478a84 ]] {\r\n",
       "}\r\n",
       "comp usage \"<i>z2</i>  \" as E7 <<#Classified>>[[psysml:fcfec3d1-5349-46cf-95eb-369f9c247e1c ]] {\r\n",
       "}\r\n",
       "}\r\n",
       "E1 ..> E2 [[psysml:7790dee3-4a68-47c5-b25f-526a96f63664 ]] : <<import>>*\r\n",
       "E4 o- - E3 [[psysml:70fb76d3-4397-496c-b537-fd7ec6ee6db2 ]] : classificationLevel\r\n",
       "@enduml\r\n",
       "\n",
       "PlantUML version 1.2022.7(Mon Aug 22 17:01:30 UTC 2022)\n",
       "(EPL source distribution)\n",
       "Java Runtime: OpenJDK Runtime Environment\n",
       "JVM: OpenJDK 64-Bit Server VM\n",
       "Default Encoding: UTF-8\n",
       "Language: en\n",
       "Country: null\n",
       "--></g></svg>"
      ]
     },
     "execution_count": 16,
     "metadata": {},
     "output_type": "execute_result"
    }
   ],
   "source": [
    "%viz --style=\"LR\" --view=\"Default\" \"MetadataTest\""
   ]
  },
  {
   "cell_type": "code",
   "execution_count": 17,
   "id": "4f42203e",
   "metadata": {
    "execution": {
     "iopub.execute_input": "2024-12-16T03:28:23.093929Z",
     "iopub.status.busy": "2024-12-16T03:28:23.093691Z",
     "iopub.status.idle": "2024-12-16T03:28:23.120031Z",
     "shell.execute_reply": "2024-12-16T03:28:23.119130Z"
    }
   },
   "outputs": [
    {
     "data": {
      "image/svg+xml": [
       "<?xml version=\"1.0\" encoding=\"UTF-8\" standalone=\"no\"?><svg xmlns=\"http://www.w3.org/2000/svg\" xmlns:xlink=\"http://www.w3.org/1999/xlink\" contentStyleType=\"text/css\" height=\"471px\" preserveAspectRatio=\"none\" style=\"width:787px;height:471px;background:#FFFFFF;\" version=\"1.1\" viewBox=\"0 0 787 471\" width=\"787px\" zoomAndPan=\"magnify\"><defs/><g><!--MD5=[fbc87193dbaf4d95561dea2c320d4a47]\n",
       "cluster E1--><g id=\"cluster_E1\"><a href=\"psysml:6bf27c65-dae0-4f69-b1ef-6329bb319dfc\" target=\"_top\" title=\"psysml:6bf27c65-dae0-4f69-b1ef-6329bb319dfc\" xlink:actuate=\"onRequest\" xlink:href=\"psysml:6bf27c65-dae0-4f69-b1ef-6329bb319dfc\" xlink:show=\"new\" xlink:title=\"psysml:6bf27c65-dae0-4f69-b1ef-6329bb319dfc\" xlink:type=\"simple\"><polygon fill=\"none\" points=\"16,6,122.25,6,129.25,28.2969,770.72,28.2969,770.72,464,16,464,16,6\" style=\"stroke:#000000;stroke-width:1.5;\"/><line style=\"stroke:#000000;stroke-width:1.5;\" x1=\"16\" x2=\"129.25\" y1=\"28.2969\" y2=\"28.2969\"/><text fill=\"#000000\" font-family=\"sans-serif\" font-size=\"14\" font-weight=\"bold\" lengthAdjust=\"spacing\" textLength=\"100.25\" x=\"20\" y=\"20.9951\">MetadataTest</text></a></g><!--MD5=[e4f7fae6ed58524ba242bb0b0d3be6b7]\n",
       "cluster E2--><g id=\"cluster_E2\"><a href=\"psysml:fde4dbf0-a827-4985-ab3d-be4806656b08\" target=\"_top\" title=\"psysml:fde4dbf0-a827-4985-ab3d-be4806656b08\" xlink:actuate=\"onRequest\" xlink:href=\"psysml:fde4dbf0-a827-4985-ab3d-be4806656b08\" xlink:show=\"new\" xlink:title=\"psysml:fde4dbf0-a827-4985-ab3d-be4806656b08\" xlink:type=\"simple\"><polygon fill=\"none\" points=\"161.72,65,346.9075,65,353.9075,87.2969,730.72,87.2969,730.72,282,161.72,282,161.72,65\" style=\"stroke:#000000;stroke-width:1.5;\"/><line style=\"stroke:#000000;stroke-width:1.5;\" x1=\"161.72\" x2=\"353.9075\" y1=\"87.2969\" y2=\"87.2969\"/><text fill=\"#000000\" font-family=\"sans-serif\" font-size=\"14\" font-weight=\"bold\" lengthAdjust=\"spacing\" textLength=\"179.1875\" x=\"165.72\" y=\"79.9951\">User Defined Extensions</text></a></g><!--MD5=[60a26617385b1d2d0262a64233df1f8d]\n",
       "class E6--><a href=\"psysml:09bb7bef-5578-400a-ab09-b89f3b478a84\" target=\"_top\" title=\"psysml:09bb7bef-5578-400a-ab09-b89f3b478a84\" xlink:actuate=\"onRequest\" xlink:href=\"psysml:09bb7bef-5578-400a-ab09-b89f3b478a84\" xlink:show=\"new\" xlink:title=\"psysml:09bb7bef-5578-400a-ab09-b89f3b478a84\" xlink:type=\"simple\"><g id=\"elem_E6\"><rect fill=\"#FFFFFF\" height=\"48.2656\" id=\"E6\" rx=\"10\" ry=\"10\" style=\"stroke:#181818;stroke-width:0.5;\" width=\"149\" x=\"163.72\" y=\"309\"/><text fill=\"#000000\" font-family=\"sans-serif\" font-size=\"12\" font-style=\"italic\" lengthAdjust=\"spacing\" textLength=\"147\" x=\"164.72\" y=\"325.1387\">«#Classified #Security»</text><text fill=\"#000000\" font-family=\"sans-serif\" font-size=\"14\" lengthAdjust=\"spacing\" textLength=\"17\" x=\"225.72\" y=\"340.9639\">z1</text><line style=\"stroke:#181818;stroke-width:0.5;\" x1=\"164.72\" x2=\"311.72\" y1=\"349.2656\" y2=\"349.2656\"/></g></a><!--MD5=[2156ba9850f5573cc1fc38a6a4b2f02b]\n",
       "class E7--><a href=\"psysml:fcfec3d1-5349-46cf-95eb-369f9c247e1c\" target=\"_top\" title=\"psysml:fcfec3d1-5349-46cf-95eb-369f9c247e1c\" xlink:actuate=\"onRequest\" xlink:href=\"psysml:fcfec3d1-5349-46cf-95eb-369f9c247e1c\" xlink:show=\"new\" xlink:title=\"psysml:fcfec3d1-5349-46cf-95eb-369f9c247e1c\" xlink:type=\"simple\"><g id=\"elem_E7\"><rect fill=\"#FFFFFF\" height=\"48.2656\" id=\"E7\" rx=\"10\" ry=\"10\" style=\"stroke:#181818;stroke-width:0.5;\" width=\"85\" x=\"195.72\" y=\"392\"/><text fill=\"#000000\" font-family=\"sans-serif\" font-size=\"12\" font-style=\"italic\" lengthAdjust=\"spacing\" textLength=\"83\" x=\"196.72\" y=\"408.1387\">«#Classified»</text><text fill=\"#000000\" font-family=\"sans-serif\" font-size=\"14\" font-style=\"italic\" lengthAdjust=\"spacing\" textLength=\"17\" x=\"225.72\" y=\"423.9639\">z2</text><text fill=\"#000000\" font-family=\"sans-serif\" font-size=\"14\" lengthAdjust=\"spacing\" textLength=\"8\" x=\"242.72\" y=\"423.9639\">  </text><line style=\"stroke:#181818;stroke-width:0.5;\" x1=\"196.72\" x2=\"279.72\" y1=\"432.2656\" y2=\"432.2656\"/></g></a><!--MD5=[09b614a08d8cba4a07c9adeb5e0fee81]\n",
       "class E3--><a href=\"psysml:875613db-282a-4c31-9ce2-2c5502fc9987\" target=\"_top\" title=\"psysml:875613db-282a-4c31-9ce2-2c5502fc9987\" xlink:actuate=\"onRequest\" xlink:href=\"psysml:875613db-282a-4c31-9ce2-2c5502fc9987\" xlink:show=\"new\" xlink:title=\"psysml:875613db-282a-4c31-9ce2-2c5502fc9987\" xlink:type=\"simple\"><g id=\"elem_E3\"><rect fill=\"#FFFFFF\" height=\"107.675\" id=\"E3\" style=\"stroke:#181818;stroke-width:0.5;\" width=\"218\" x=\"488.72\" y=\"108\"/><text fill=\"#000000\" font-family=\"sans-serif\" font-size=\"12\" font-style=\"italic\" lengthAdjust=\"spacing\" textLength=\"74\" x=\"560.72\" y=\"124.1387\">«#Security»</text><text fill=\"#000000\" font-family=\"sans-serif\" font-size=\"14\" font-style=\"italic\" lengthAdjust=\"spacing\" textLength=\"124\" x=\"535.72\" y=\"139.9639\">ClassificationLevel</text><line style=\"stroke:#181818;stroke-width:0.5;\" x1=\"489.72\" x2=\"705.72\" y1=\"148.2656\" y2=\"148.2656\"/><text fill=\"#000000\" font-family=\"sans-serif\" font-size=\"14\" lengthAdjust=\"spacing\" textLength=\"191\" x=\"494.72\" y=\"175.7795\">uncl: ClassificationLevel = 0</text><text fill=\"#000000\" font-family=\"sans-serif\" font-size=\"14\" lengthAdjust=\"spacing\" textLength=\"192\" x=\"494.72\" y=\"192.0764\">conf: ClassificationLevel = 1</text><text fill=\"#000000\" font-family=\"sans-serif\" font-size=\"14\" lengthAdjust=\"spacing\" textLength=\"206\" x=\"494.72\" y=\"208.3732\">secret: ClassificationLevel = 2</text><text fill=\"#000000\" font-family=\"sans-serif\" font-size=\"14\" font-style=\"italic\" lengthAdjust=\"spacing\" textLength=\"48\" x=\"573.72\" y=\"160.6123\">enums</text></g></a><!--MD5=[ebbe1d658d1005bcc118a6aa81145e00]\n",
       "class E4--><a href=\"psysml:7d365ab2-02f5-4019-ac52-725960bbc954\" target=\"_top\" title=\"psysml:7d365ab2-02f5-4019-ac52-725960bbc954\" xlink:actuate=\"onRequest\" xlink:href=\"psysml:7d365ab2-02f5-4019-ac52-725960bbc954\" xlink:show=\"new\" xlink:title=\"psysml:7d365ab2-02f5-4019-ac52-725960bbc954\" xlink:type=\"simple\"><g id=\"elem_E4\"><rect fill=\"#FFFFFF\" height=\"48.2656\" id=\"E4\" style=\"stroke:#181818;stroke-width:0.5;\" width=\"105\" x=\"185.72\" y=\"108\"/><text fill=\"#000000\" font-family=\"sans-serif\" font-size=\"12\" font-style=\"italic\" lengthAdjust=\"spacing\" textLength=\"103\" x=\"186.72\" y=\"124.1387\">«metadata  def»</text><text fill=\"#000000\" font-family=\"sans-serif\" font-size=\"14\" lengthAdjust=\"spacing\" textLength=\"65\" x=\"205.72\" y=\"139.9639\">Classified</text><line style=\"stroke:#181818;stroke-width:0.5;\" x1=\"186.72\" x2=\"289.72\" y1=\"148.2656\" y2=\"148.2656\"/></g></a><!--MD5=[270fce915f116d4de14055a7c1d9a0f3]\n",
       "class E5--><a href=\"psysml:b54cb894-c9b4-4b22-a0a5-6c760d030873\" target=\"_top\" title=\"psysml:b54cb894-c9b4-4b22-a0a5-6c760d030873\" xlink:actuate=\"onRequest\" xlink:href=\"psysml:b54cb894-c9b4-4b22-a0a5-6c760d030873\" xlink:show=\"new\" xlink:title=\"psysml:b54cb894-c9b4-4b22-a0a5-6c760d030873\" xlink:type=\"simple\"><g id=\"elem_E5\"><rect fill=\"#FFFFFF\" height=\"48.2656\" id=\"E5\" style=\"stroke:#181818;stroke-width:0.5;\" width=\"105\" x=\"185.72\" y=\"191\"/><text fill=\"#000000\" font-family=\"sans-serif\" font-size=\"12\" font-style=\"italic\" lengthAdjust=\"spacing\" textLength=\"103\" x=\"186.72\" y=\"207.1387\">«metadata  def»</text><text fill=\"#000000\" font-family=\"sans-serif\" font-size=\"14\" lengthAdjust=\"spacing\" textLength=\"55\" x=\"210.72\" y=\"222.9639\">Security</text><line style=\"stroke:#181818;stroke-width:0.5;\" x1=\"186.72\" x2=\"289.72\" y1=\"231.2656\" y2=\"231.2656\"/></g></a><!--MD5=[1f1cd8e6dd4c1b2ca2aaccc9b9bcea6e]\n",
       "link E1 to E2--><g id=\"link_E1_E2\"><a href=\"psysml:7790dee3-4a68-47c5-b25f-526a96f63664\" target=\"_top\" title=\"psysml:7790dee3-4a68-47c5-b25f-526a96f63664\" xlink:actuate=\"onRequest\" xlink:href=\"psysml:7790dee3-4a68-47c5-b25f-526a96f63664\" xlink:show=\"new\" xlink:title=\"psysml:7790dee3-4a68-47c5-b25f-526a96f63664\" xlink:type=\"simple\"><path d=\"M24.87,274 C28.04,274 79.53,274 131.0075,274 C137.4422,274 143.8767,274 150.2166,274 C153.3865,274 156.5328,274 159.6437,274 C160.0325,274 160.4208,274 160.8086,274 \" fill=\"none\" id=\"E1-to-E2\" style=\"stroke:#181818;stroke-width:1.0;stroke-dasharray:7.0,7.0;\"/><polygon fill=\"#181818\" points=\"160.8086,274,151.8086,270,155.8086,274,151.8086,278,160.8086,274\" style=\"stroke:#181818;stroke-width:1.0;\"/><text fill=\"#000000\" font-family=\"sans-serif\" font-size=\"13\" lengthAdjust=\"spacing\" textLength=\"65\" x=\"55.72\" y=\"270.0669\">«import»*</text></a></g><!--MD5=[4735aefadfa2e5978451eb08fa1f3993]\n",
       "reverse link E4 to E3--><g id=\"link_E4_E3\"><a href=\"psysml:70fb76d3-4397-496c-b537-fd7ec6ee6db2\" target=\"_top\" title=\"psysml:70fb76d3-4397-496c-b537-fd7ec6ee6db2\" xlink:actuate=\"onRequest\" xlink:href=\"psysml:70fb76d3-4397-496c-b537-fd7ec6ee6db2\" xlink:show=\"new\" xlink:title=\"psysml:70fb76d3-4397-496c-b537-fd7ec6ee6db2\" xlink:type=\"simple\"><path d=\"M304.07,137.44 C355.5,141.76 428.5,147.88 488.72,152.94 \" fill=\"none\" id=\"E4-backto-E3\" style=\"stroke:#181818;stroke-width:1.0;\"/><polygon fill=\"none\" points=\"290.82,136.33,296.465,140.817,302.7781,137.332,297.133,132.845,290.82,136.33\" style=\"stroke:#181818;stroke-width:1.0;\"/><text fill=\"#000000\" font-family=\"sans-serif\" font-size=\"13\" lengthAdjust=\"spacing\" textLength=\"114\" x=\"343.72\" y=\"137.0669\">classificationLevel</text></a></g><!--MD5=[60afe0529004b283ca62d50df2d1ce91]\n",
       "@startuml\r\n",
       "skin sysmlbw\r\n",
       "skinparam monochrome true\r\n",
       "skinparam wrapWidth 300\r\n",
       "hide circle\r\n",
       "left to right direction\r\n",
       "\r\n",
       "package \"MetadataTest\" as E1  [[psysml:6bf27c65-dae0-4f69-b1ef-6329bb319dfc ]]  {\r\n",
       "package \"User Defined Extensions\" as E2  [[psysml:fde4dbf0-a827-4985-ab3d-be4806656b08 ]]  {\r\n",
       "comp def \"<i>ClassificationLevel</i>\" as E3 <<#Security>>[[psysml:875613db-282a-4c31-9ce2-2c5502fc9987 ]] {\r\n",
       "##//enums//##\r\n",
       "uncl: ClassificationLevel <U+003D> 0\r\n",
       "conf: ClassificationLevel <U+003D> 1\r\n",
       "secret: ClassificationLevel <U+003D> 2\r\n",
       "}\r\n",
       "comp def \"Classified\" as E4  <<(T,blue) metadata  def>> [[psysml:7d365ab2-02f5-4019-ac52-725960bbc954 ]] {\r\n",
       "}\r\n",
       "comp def \"Security\" as E5  <<(T,blue) metadata  def>> [[psysml:b54cb894-c9b4-4b22-a0a5-6c760d030873 ]] {\r\n",
       "}\r\n",
       "}\r\n",
       "comp usage \"z1  \" as E6 <<#Classified #Security>>[[psysml:09bb7bef-5578-400a-ab09-b89f3b478a84 ]] {\r\n",
       "}\r\n",
       "comp usage \"<i>z2</i>  \" as E7 <<#Classified>>[[psysml:fcfec3d1-5349-46cf-95eb-369f9c247e1c ]] {\r\n",
       "}\r\n",
       "}\r\n",
       "E1 ..> E2 [[psysml:7790dee3-4a68-47c5-b25f-526a96f63664 ]] : <<import>>*\r\n",
       "E4 o- - E3 [[psysml:70fb76d3-4397-496c-b537-fd7ec6ee6db2 ]] : classificationLevel\r\n",
       "@enduml\r\n",
       "\n",
       "PlantUML version 1.2022.7(Mon Aug 22 17:01:30 UTC 2022)\n",
       "(EPL source distribution)\n",
       "Java Runtime: OpenJDK Runtime Environment\n",
       "JVM: OpenJDK 64-Bit Server VM\n",
       "Default Encoding: UTF-8\n",
       "Language: en\n",
       "Country: null\n",
       "--></g></svg>"
      ]
     },
     "execution_count": 17,
     "metadata": {},
     "output_type": "execute_result"
    }
   ],
   "source": [
    "%viz --style=\"LR\" --view=\"Tree\" \"MetadataTest\""
   ]
  },
  {
   "cell_type": "code",
   "execution_count": 18,
   "id": "08dac4e6",
   "metadata": {
    "execution": {
     "iopub.execute_input": "2024-12-16T03:28:23.171838Z",
     "iopub.status.busy": "2024-12-16T03:28:23.171611Z",
     "iopub.status.idle": "2024-12-16T03:28:23.187365Z",
     "shell.execute_reply": "2024-12-16T03:28:23.186678Z"
    }
   },
   "outputs": [
    {
     "data": {
      "image/svg+xml": [
       "<?xml version=\"1.0\" encoding=\"UTF-8\" standalone=\"no\"?><svg xmlns=\"http://www.w3.org/2000/svg\" xmlns:xlink=\"http://www.w3.org/1999/xlink\" contentStyleType=\"text/css\" height=\"305px\" preserveAspectRatio=\"none\" style=\"width:322px;height:305px;background:#FFFFFF;\" version=\"1.1\" viewBox=\"0 0 322 305\" width=\"322px\" zoomAndPan=\"magnify\"><defs/><g><g id=\"elem_E1\"><path d=\"M6,229.5 L6,298.0448 L315,298.0448 L315,239.5 L305,229.5 L6,229.5 \" fill=\"#FAFAFA\" style=\"stroke:#181818;stroke-width:0.5;\"/><path d=\"M305,229.5 L305,239.5 L315,239.5 L305,229.5 \" fill=\"#FAFAFA\" style=\"stroke:#181818;stroke-width:1.0;\"/><text fill=\"#000000\" font-family=\"monospace\" font-size=\"13\" lengthAdjust=\"spacing\" textLength=\"112\" x=\"12\" y=\"248.397\">              </text><a href=\"psysml:ccd30bed-0f75-43dd-8560-a117ef71fdae\" target=\"_top\" title=\"psysml:ccd30bed-0f75-43dd-8560-a117ef71fdae\" xlink:actuate=\"onRequest\" xlink:href=\"psysml:ccd30bed-0f75-43dd-8560-a117ef71fdae\" xlink:show=\"new\" xlink:title=\"psysml:ccd30bed-0f75-43dd-8560-a117ef71fdae\" xlink:type=\"simple\"><text fill=\"#000000\" font-family=\"sans-serif\" font-size=\"13\" lengthAdjust=\"spacing\" text-decoration=\"underline\" textLength=\"79\" x=\"124\" y=\"249.1401\">«metadata»</text></a><text fill=\"#000000\" font-family=\"monospace\" font-size=\"13\" font-style=\"italic\" lengthAdjust=\"spacing\" textLength=\"112\" x=\"12\" y=\"266.103\">              </text><text fill=\"#000000\" font-family=\"sans-serif\" font-size=\"13\" font-style=\"italic\" lengthAdjust=\"spacing\" textLength=\"60\" x=\"124\" y=\"266.8461\">Classified</text><line style=\"stroke:#181818;stroke-width:1.0;\" x1=\"7\" x2=\"314\" y1=\"269.912\" y2=\"269.912\"/><text fill=\"#000000\" font-family=\"sans-serif\" font-size=\"13\" lengthAdjust=\"spacing\" textLength=\"288\" x=\"12\" y=\"285.9789\">classificationLevel =  ClassificationLevel::conf</text></g><g id=\"elem_E2\"><path d=\"M6,125.5 L6,194.0448 L315,194.0448 L315,135.5 L305,125.5 L6,125.5 \" fill=\"#FAFAFA\" style=\"stroke:#181818;stroke-width:0.5;\"/><path d=\"M305,125.5 L305,135.5 L315,135.5 L305,125.5 \" fill=\"#FAFAFA\" style=\"stroke:#181818;stroke-width:1.0;\"/><text fill=\"#000000\" font-family=\"monospace\" font-size=\"13\" lengthAdjust=\"spacing\" textLength=\"112\" x=\"12\" y=\"144.397\">              </text><a href=\"psysml:a50d3885-9ceb-42ed-af81-8542a216cf29\" target=\"_top\" title=\"psysml:a50d3885-9ceb-42ed-af81-8542a216cf29\" xlink:actuate=\"onRequest\" xlink:href=\"psysml:a50d3885-9ceb-42ed-af81-8542a216cf29\" xlink:show=\"new\" xlink:title=\"psysml:a50d3885-9ceb-42ed-af81-8542a216cf29\" xlink:type=\"simple\"><text fill=\"#000000\" font-family=\"sans-serif\" font-size=\"13\" lengthAdjust=\"spacing\" text-decoration=\"underline\" textLength=\"79\" x=\"124\" y=\"145.1401\">«metadata»</text></a><text fill=\"#000000\" font-family=\"monospace\" font-size=\"13\" font-style=\"italic\" lengthAdjust=\"spacing\" textLength=\"112\" x=\"12\" y=\"162.103\">              </text><text fill=\"#000000\" font-family=\"sans-serif\" font-size=\"13\" font-style=\"italic\" lengthAdjust=\"spacing\" textLength=\"60\" x=\"124\" y=\"162.8461\">Classified</text><line style=\"stroke:#181818;stroke-width:1.0;\" x1=\"7\" x2=\"314\" y1=\"165.912\" y2=\"165.912\"/><text fill=\"#000000\" font-family=\"sans-serif\" font-size=\"13\" lengthAdjust=\"spacing\" textLength=\"288\" x=\"12\" y=\"181.9789\">classificationLevel =  ClassificationLevel::conf</text></g><g id=\"elem_E3\"><path d=\"M54.5,6 L54.5,89.6777 L266.5,89.6777 L266.5,16 L256.5,6 L54.5,6 \" fill=\"#FAFAFA\" style=\"stroke:#181818;stroke-width:0.5;\"/><path d=\"M256.5,6 L256.5,16 L266.5,16 L256.5,6 \" fill=\"#FAFAFA\" style=\"stroke:#181818;stroke-width:1.0;\"/><text fill=\"#000000\" font-family=\"monospace\" font-size=\"13\" lengthAdjust=\"spacing\" textLength=\"112\" x=\"60.5\" y=\"24.897\">              </text><a href=\"psysml:7eb290c6-6d6c-4277-b27a-b35f0e599ca6\" target=\"_top\" title=\"psysml:7eb290c6-6d6c-4277-b27a-b35f0e599ca6\" xlink:actuate=\"onRequest\" xlink:href=\"psysml:7eb290c6-6d6c-4277-b27a-b35f0e599ca6\" xlink:show=\"new\" xlink:title=\"psysml:7eb290c6-6d6c-4277-b27a-b35f0e599ca6\" xlink:type=\"simple\"><text fill=\"#000000\" font-family=\"sans-serif\" font-size=\"13\" lengthAdjust=\"spacing\" text-decoration=\"underline\" textLength=\"79\" x=\"172.5\" y=\"25.6401\">«metadata»</text></a><text fill=\"#000000\" font-family=\"monospace\" font-size=\"13\" font-style=\"italic\" lengthAdjust=\"spacing\" textLength=\"112\" x=\"60.5\" y=\"42.603\">              </text><text fill=\"#000000\" font-family=\"sans-serif\" font-size=\"13\" font-style=\"italic\" lengthAdjust=\"spacing\" textLength=\"60\" x=\"172.5\" y=\"43.3461\">Classified</text><line style=\"stroke:#181818;stroke-width:1.0;\" x1=\"55.5\" x2=\"265.5\" y1=\"46.412\" y2=\"46.412\"/><text fill=\"#000000\" font-family=\"sans-serif\" font-size=\"13\" lengthAdjust=\"spacing\" textLength=\"129\" x=\"60.5\" y=\"62.4789\">classificationLevel =</text><text fill=\"#000000\" font-family=\"sans-serif\" font-size=\"13\" lengthAdjust=\"spacing\" textLength=\"164\" x=\"60.5\" y=\"77.6117\">ClassificationLevel::secret</text></g><!--MD5=[f37a01f1c36f7cb6c4458e008170c008]\n",
       "@startuml\r\n",
       "skin sysmlbw\r\n",
       "skinparam monochrome true\r\n",
       "skinparam wrapWidth 300\r\n",
       "hide circle\r\n",
       "left to right direction\r\n",
       "\r\n",
       "note as E1\r\n",
       "\"\"              \"\"[[psysml:ccd30bed-0f75-43dd-8560-a117ef71fdae «metadata»]]\r\n",
       "==== \"\"              \"\"Classified\r\n",
       "- -\r\n",
       "classificationLevel =  ClassificationLevel::conf\r\n",
       "end note\r\n",
       "note as E2\r\n",
       "\"\"              \"\"[[psysml:a50d3885-9ceb-42ed-af81-8542a216cf29 «metadata»]]\r\n",
       "==== \"\"              \"\"Classified\r\n",
       "- -\r\n",
       "classificationLevel =  ClassificationLevel::conf\r\n",
       "end note\r\n",
       "note as E3\r\n",
       "\"\"              \"\"[[psysml:7eb290c6-6d6c-4277-b27a-b35f0e599ca6 «metadata»]]\r\n",
       "==== \"\"              \"\"Classified\r\n",
       "- -\r\n",
       "classificationLevel =  ClassificationLevel::secret\r\n",
       "end note\r\n",
       "@enduml\r\n",
       "\n",
       "PlantUML version 1.2022.7(Mon Aug 22 17:01:30 UTC 2022)\n",
       "(EPL source distribution)\n",
       "Java Runtime: OpenJDK Runtime Environment\n",
       "JVM: OpenJDK 64-Bit Server VM\n",
       "Default Encoding: UTF-8\n",
       "Language: en\n",
       "Country: null\n",
       "--></g></svg>"
      ]
     },
     "execution_count": 18,
     "metadata": {},
     "output_type": "execute_result"
    }
   ],
   "source": [
    "%viz --style=\"LR\" --view=\"State\" \"MetadataTest\""
   ]
  },
  {
   "cell_type": "code",
   "execution_count": 19,
   "id": "d929f559",
   "metadata": {
    "execution": {
     "iopub.execute_input": "2024-12-16T03:28:23.241970Z",
     "iopub.status.busy": "2024-12-16T03:28:23.241708Z",
     "iopub.status.idle": "2024-12-16T03:28:23.264465Z",
     "shell.execute_reply": "2024-12-16T03:28:23.263592Z"
    }
   },
   "outputs": [
    {
     "data": {
      "image/svg+xml": [
       "<?xml version=\"1.0\" encoding=\"UTF-8\" standalone=\"no\"?><svg xmlns=\"http://www.w3.org/2000/svg\" xmlns:xlink=\"http://www.w3.org/1999/xlink\" contentStyleType=\"text/css\" height=\"814px\" preserveAspectRatio=\"none\" style=\"width:415px;height:814px;background:#FFFFFF;\" version=\"1.1\" viewBox=\"0 0 415 814\" width=\"415px\" zoomAndPan=\"magnify\"><defs/><g><!--MD5=[fbc87193dbaf4d95561dea2c320d4a47]\n",
       "cluster E1--><g id=\"cluster_E1\"><a href=\"psysml:6bf27c65-dae0-4f69-b1ef-6329bb319dfc\" target=\"_top\" title=\"psysml:6bf27c65-dae0-4f69-b1ef-6329bb319dfc\" xlink:actuate=\"onRequest\" xlink:href=\"psysml:6bf27c65-dae0-4f69-b1ef-6329bb319dfc\" xlink:show=\"new\" xlink:title=\"psysml:6bf27c65-dae0-4f69-b1ef-6329bb319dfc\" xlink:type=\"simple\"><polygon fill=\"none\" points=\"16,6,122.25,6,129.25,28.2969,398.72,28.2969,398.72,807,16,807,16,6\" style=\"stroke:#000000;stroke-width:1.5;\"/><line style=\"stroke:#000000;stroke-width:1.5;\" x1=\"16\" x2=\"129.25\" y1=\"28.2969\" y2=\"28.2969\"/><text fill=\"#000000\" font-family=\"sans-serif\" font-size=\"14\" font-weight=\"bold\" lengthAdjust=\"spacing\" textLength=\"100.25\" x=\"20\" y=\"20.9951\">MetadataTest</text></a></g><!--MD5=[e4f7fae6ed58524ba242bb0b0d3be6b7]\n",
       "cluster E2--><g id=\"cluster_E2\"><a href=\"psysml:fde4dbf0-a827-4985-ab3d-be4806656b08\" target=\"_top\" title=\"psysml:fde4dbf0-a827-4985-ab3d-be4806656b08\" xlink:actuate=\"onRequest\" xlink:href=\"psysml:fde4dbf0-a827-4985-ab3d-be4806656b08\" xlink:show=\"new\" xlink:title=\"psysml:fde4dbf0-a827-4985-ab3d-be4806656b08\" xlink:type=\"simple\"><polygon fill=\"none\" points=\"163.72,65,348.9075,65,355.9075,87.2969,358.72,87.2969,358.72,357,163.72,357,163.72,65\" style=\"stroke:#000000;stroke-width:1.5;\"/><line style=\"stroke:#000000;stroke-width:1.5;\" x1=\"163.72\" x2=\"355.9075\" y1=\"87.2969\" y2=\"87.2969\"/><text fill=\"#000000\" font-family=\"sans-serif\" font-size=\"14\" font-weight=\"bold\" lengthAdjust=\"spacing\" textLength=\"179.1875\" x=\"167.72\" y=\"79.9951\">User Defined Extensions</text></a></g><!--MD5=[60a26617385b1d2d0262a64233df1f8d]\n",
       "class E6--><a href=\"psysml:ab215fb4-7997-4c5e-99e0-8fea9c1d3082\" target=\"_top\" title=\"psysml:ab215fb4-7997-4c5e-99e0-8fea9c1d3082\" xlink:actuate=\"onRequest\" xlink:href=\"psysml:ab215fb4-7997-4c5e-99e0-8fea9c1d3082\" xlink:show=\"new\" xlink:title=\"psysml:ab215fb4-7997-4c5e-99e0-8fea9c1d3082\" xlink:type=\"simple\"><g id=\"elem_E6\"><rect fill=\"#FFFFFF\" height=\"56.2656\" id=\"E6\" rx=\"10\" ry=\"10\" style=\"stroke:#181818;stroke-width:0.5;\" width=\"77\" x=\"222.72\" y=\"384\"/><text fill=\"#000000\" font-family=\"sans-serif\" font-size=\"12\" font-style=\"italic\" lengthAdjust=\"spacing\" textLength=\"75\" x=\"223.72\" y=\"400.1387\">«reference»</text><text fill=\"#000000\" font-family=\"sans-serif\" font-size=\"14\" lengthAdjust=\"spacing\" textLength=\"7\" x=\"253.72\" y=\"415.9639\">x</text><line style=\"stroke:#181818;stroke-width:0.5;\" x1=\"223.72\" x2=\"298.72\" y1=\"424.2656\" y2=\"424.2656\"/><line style=\"stroke:#181818;stroke-width:0.5;\" x1=\"223.72\" x2=\"298.72\" y1=\"432.2656\" y2=\"432.2656\"/></g></a><!--MD5=[2156ba9850f5573cc1fc38a6a4b2f02b]\n",
       "class E7--><a href=\"psysml:c7350727-55c2-4532-b138-8da3db2b593b\" target=\"_top\" title=\"psysml:c7350727-55c2-4532-b138-8da3db2b593b\" xlink:actuate=\"onRequest\" xlink:href=\"psysml:c7350727-55c2-4532-b138-8da3db2b593b\" xlink:show=\"new\" xlink:title=\"psysml:c7350727-55c2-4532-b138-8da3db2b593b\" xlink:type=\"simple\"><g id=\"elem_E7\"><rect fill=\"#FFFFFF\" height=\"56.2656\" id=\"E7\" rx=\"10\" ry=\"10\" style=\"stroke:#181818;stroke-width:0.5;\" width=\"76\" x=\"223.22\" y=\"475\"/><text fill=\"#000000\" font-family=\"sans-serif\" font-size=\"12\" font-style=\"italic\" lengthAdjust=\"spacing\" textLength=\"74\" x=\"224.22\" y=\"491.1387\">«#Security»</text><text fill=\"#000000\" font-family=\"sans-serif\" font-size=\"14\" lengthAdjust=\"spacing\" textLength=\"7\" x=\"253.72\" y=\"506.9639\">y</text><line style=\"stroke:#181818;stroke-width:0.5;\" x1=\"224.22\" x2=\"298.22\" y1=\"515.2656\" y2=\"515.2656\"/><line style=\"stroke:#181818;stroke-width:0.5;\" x1=\"224.22\" x2=\"298.22\" y1=\"523.2656\" y2=\"523.2656\"/></g></a><!--MD5=[96f4274e9e20536e775497830990834d]\n",
       "class E10--><a href=\"psysml:bedd784f-2083-437e-9a45-6e64d2c52a15\" target=\"_top\" title=\"psysml:bedd784f-2083-437e-9a45-6e64d2c52a15\" xlink:actuate=\"onRequest\" xlink:href=\"psysml:bedd784f-2083-437e-9a45-6e64d2c52a15\" xlink:show=\"new\" xlink:title=\"psysml:bedd784f-2083-437e-9a45-6e64d2c52a15\" xlink:type=\"simple\"><g id=\"elem_E10\"><rect fill=\"#FFFFFF\" height=\"56.2656\" id=\"E10\" rx=\"10\" ry=\"10\" style=\"stroke:#181818;stroke-width:0.5;\" width=\"77\" x=\"222.72\" y=\"566\"/><text fill=\"#000000\" font-family=\"sans-serif\" font-size=\"12\" font-style=\"italic\" lengthAdjust=\"spacing\" textLength=\"75\" x=\"223.72\" y=\"582.1387\">«reference»</text><text fill=\"#000000\" font-family=\"sans-serif\" font-size=\"14\" lengthAdjust=\"spacing\" textLength=\"8\" x=\"253.22\" y=\"597.9639\">z</text><line style=\"stroke:#181818;stroke-width:0.5;\" x1=\"223.72\" x2=\"298.72\" y1=\"606.2656\" y2=\"606.2656\"/><line style=\"stroke:#181818;stroke-width:0.5;\" x1=\"223.72\" x2=\"298.72\" y1=\"614.2656\" y2=\"614.2656\"/></g></a><g><a href=\"psysml:875613db-282a-4c31-9ce2-2c5502fc9987\" target=\"_top\" title=\"psysml:875613db-282a-4c31-9ce2-2c5502fc9987\" xlink:actuate=\"onRequest\" xlink:href=\"psysml:875613db-282a-4c31-9ce2-2c5502fc9987\" xlink:show=\"new\" xlink:title=\"psysml:875613db-282a-4c31-9ce2-2c5502fc9987\" xlink:type=\"simple\"><rect fill=\"#FFFFFF\" height=\"45.2656\" id=\"E3\" style=\"stroke:#383838;stroke-width:1.5;\" width=\"135\" x=\"193.72\" y=\"108.5\"/><text fill=\"#000000\" font-family=\"sans-serif\" font-size=\"12\" font-style=\"italic\" lengthAdjust=\"spacing\" textLength=\"74\" x=\"224.22\" y=\"124.6387\">«#Security»</text><text fill=\"#000000\" font-family=\"sans-serif\" font-size=\"14\" font-style=\"italic\" lengthAdjust=\"spacing\" textLength=\"124\" x=\"199.22\" y=\"140.4639\">ClassificationLevel</text></a></g><g><a href=\"psysml:7d365ab2-02f5-4019-ac52-725960bbc954\" target=\"_top\" title=\"psysml:7d365ab2-02f5-4019-ac52-725960bbc954\" xlink:actuate=\"onRequest\" xlink:href=\"psysml:7d365ab2-02f5-4019-ac52-725960bbc954\" xlink:show=\"new\" xlink:title=\"psysml:7d365ab2-02f5-4019-ac52-725960bbc954\" xlink:type=\"simple\"><rect fill=\"#FFFFFF\" height=\"45.2656\" id=\"E4\" style=\"stroke:#383838;stroke-width:1.5;\" width=\"110\" x=\"206.22\" y=\"188.5\"/><text fill=\"#000000\" font-family=\"sans-serif\" font-size=\"12\" font-style=\"italic\" lengthAdjust=\"spacing\" textLength=\"103\" x=\"209.72\" y=\"204.6387\">«metadata  def»</text><text fill=\"#000000\" font-family=\"sans-serif\" font-size=\"14\" lengthAdjust=\"spacing\" textLength=\"65\" x=\"228.72\" y=\"220.4639\">Classified</text></a></g><g><a href=\"psysml:b54cb894-c9b4-4b22-a0a5-6c760d030873\" target=\"_top\" title=\"psysml:b54cb894-c9b4-4b22-a0a5-6c760d030873\" xlink:actuate=\"onRequest\" xlink:href=\"psysml:b54cb894-c9b4-4b22-a0a5-6c760d030873\" xlink:show=\"new\" xlink:title=\"psysml:b54cb894-c9b4-4b22-a0a5-6c760d030873\" xlink:type=\"simple\"><rect fill=\"#FFFFFF\" height=\"45.2656\" id=\"E5\" style=\"stroke:#383838;stroke-width:1.5;\" width=\"110\" x=\"206.22\" y=\"268.5\"/><text fill=\"#000000\" font-family=\"sans-serif\" font-size=\"12\" font-style=\"italic\" lengthAdjust=\"spacing\" textLength=\"103\" x=\"209.72\" y=\"284.6387\">«metadata  def»</text><text fill=\"#000000\" font-family=\"sans-serif\" font-size=\"14\" lengthAdjust=\"spacing\" textLength=\"55\" x=\"233.72\" y=\"300.4639\">Security</text></a></g><g><a href=\"psysml:09bb7bef-5578-400a-ab09-b89f3b478a84\" target=\"_top\" title=\"psysml:09bb7bef-5578-400a-ab09-b89f3b478a84\" xlink:actuate=\"onRequest\" xlink:href=\"psysml:09bb7bef-5578-400a-ab09-b89f3b478a84\" xlink:show=\"new\" xlink:title=\"psysml:09bb7bef-5578-400a-ab09-b89f3b478a84\" xlink:type=\"simple\"><rect fill=\"#FFFFFF\" height=\"45.2656\" id=\"E8\" rx=\"10\" ry=\"10\" style=\"stroke:#383838;stroke-width:1.5;\" width=\"154\" x=\"184.22\" y=\"657.5\"/><text fill=\"#000000\" font-family=\"sans-serif\" font-size=\"12\" font-style=\"italic\" lengthAdjust=\"spacing\" textLength=\"147\" x=\"187.72\" y=\"673.6387\">«#Classified #Security»</text><text fill=\"#000000\" font-family=\"sans-serif\" font-size=\"14\" lengthAdjust=\"spacing\" textLength=\"17\" x=\"252.72\" y=\"689.4639\">z1</text></a></g><g><a href=\"psysml:fcfec3d1-5349-46cf-95eb-369f9c247e1c\" target=\"_top\" title=\"psysml:fcfec3d1-5349-46cf-95eb-369f9c247e1c\" xlink:actuate=\"onRequest\" xlink:href=\"psysml:fcfec3d1-5349-46cf-95eb-369f9c247e1c\" xlink:show=\"new\" xlink:title=\"psysml:fcfec3d1-5349-46cf-95eb-369f9c247e1c\" xlink:type=\"simple\"><rect fill=\"#FFFFFF\" height=\"45.2656\" id=\"E9\" rx=\"10\" ry=\"10\" style=\"stroke:#383838;stroke-width:1.5;\" width=\"90\" x=\"216.22\" y=\"737.5\"/><text fill=\"#000000\" font-family=\"sans-serif\" font-size=\"12\" font-style=\"italic\" lengthAdjust=\"spacing\" textLength=\"83\" x=\"219.72\" y=\"753.6387\">«#Classified»</text><text fill=\"#000000\" font-family=\"sans-serif\" font-size=\"14\" font-style=\"italic\" lengthAdjust=\"spacing\" textLength=\"17\" x=\"252.72\" y=\"769.4639\">z2</text></a></g><!--MD5=[1f1cd8e6dd4c1b2ca2aaccc9b9bcea6e]\n",
       "link E1 to E2--><g id=\"link_E1_E2\"><a href=\"psysml:7790dee3-4a68-47c5-b25f-526a96f63664\" target=\"_top\" title=\"psysml:7790dee3-4a68-47c5-b25f-526a96f63664\" xlink:actuate=\"onRequest\" xlink:href=\"psysml:7790dee3-4a68-47c5-b25f-526a96f63664\" xlink:show=\"new\" xlink:title=\"psysml:7790dee3-4a68-47c5-b25f-526a96f63664\" xlink:type=\"simple\"><path d=\"M24.76,349 C26.545,349 83.6125,349 141.1112,349 C148.2986,349 155.4927,349 162.5864,349 \" fill=\"none\" id=\"E1-to-E2\" style=\"stroke:#181818;stroke-width:1.0;stroke-dasharray:7.0,7.0;\"/><polygon fill=\"#181818\" points=\"162.5864,349,153.5864,345,157.5864,349,153.5864,353,162.5864,349\" style=\"stroke:#181818;stroke-width:1.0;\"/><text fill=\"#000000\" font-family=\"sans-serif\" font-size=\"13\" lengthAdjust=\"spacing\" textLength=\"65\" x=\"33.72\" y=\"345.0669\">«import»*</text></a></g><!--MD5=[d4e015d3bebf6b54cd9df6371ed310fc]\n",
       "@startuml\r\n",
       "skin sysmlbw\r\n",
       "skinparam monochrome true\r\n",
       "skinparam wrapWidth 300\r\n",
       "hide circle\r\n",
       "left to right direction\r\n",
       "skinparam ranksep 10\r\n",
       "skinparam rectangle {\r\n",
       " backgroundColor<<block>> LightGreen\r\n",
       "}\r\n",
       "\r\n",
       "package \"MetadataTest\" as E1  [[psysml:6bf27c65-dae0-4f69-b1ef-6329bb319dfc ]]  {\r\n",
       "package \"User Defined Extensions\" as E2  [[psysml:fde4dbf0-a827-4985-ab3d-be4806656b08 ]]  {\r\n",
       "def \"<i>ClassificationLevel</i>\" as E3 <<#Security>>[[psysml:875613db-282a-4c31-9ce2-2c5502fc9987 ]] \r\n",
       "def \"Classified\" as E4  <<(T,blue) metadata  def>> [[psysml:7d365ab2-02f5-4019-ac52-725960bbc954 ]] \r\n",
       "def \"Security\" as E5  <<(T,blue) metadata  def>> [[psysml:b54cb894-c9b4-4b22-a0a5-6c760d030873 ]] \r\n",
       "}\r\n",
       "usage \"x  \" as E6  <<(T,blue) reference>> [[psysml:ab215fb4-7997-4c5e-99e0-8fea9c1d3082 ]] \r\n",
       "usage \"y  \" as E7 <<#Security>>[[psysml:c7350727-55c2-4532-b138-8da3db2b593b ]] \r\n",
       "rec usage \"z1\" as E8 <<#Classified #Security>>[[psysml:09bb7bef-5578-400a-ab09-b89f3b478a84 ]] {\r\n",
       "}\r\n",
       "rec usage \"<i>z2</i>\" as E9 <<#Classified>>[[psysml:fcfec3d1-5349-46cf-95eb-369f9c247e1c ]] {\r\n",
       "}\r\n",
       "usage \"z  \" as E10  <<(T,blue) reference>> [[psysml:bedd784f-2083-437e-9a45-6e64d2c52a15 ]] \r\n",
       "}\r\n",
       "E1 ..> E2 [[psysml:7790dee3-4a68-47c5-b25f-526a96f63664 ]] : <<import>>*\r\n",
       "@enduml\r\n",
       "\n",
       "PlantUML version 1.2022.7(Mon Aug 22 17:01:30 UTC 2022)\n",
       "(EPL source distribution)\n",
       "Java Runtime: OpenJDK Runtime Environment\n",
       "JVM: OpenJDK 64-Bit Server VM\n",
       "Default Encoding: UTF-8\n",
       "Language: en\n",
       "Country: null\n",
       "--></g></svg>"
      ]
     },
     "execution_count": 19,
     "metadata": {},
     "output_type": "execute_result"
    }
   ],
   "source": [
    "%viz --style=\"LR\" --view=\"Interconnection\" \"MetadataTest\""
   ]
  },
  {
   "cell_type": "code",
   "execution_count": 20,
   "id": "a6271038",
   "metadata": {
    "execution": {
     "iopub.execute_input": "2024-12-16T03:28:23.316850Z",
     "iopub.status.busy": "2024-12-16T03:28:23.316631Z",
     "iopub.status.idle": "2024-12-16T03:28:23.332488Z",
     "shell.execute_reply": "2024-12-16T03:28:23.331634Z"
    }
   },
   "outputs": [
    {
     "data": {
      "image/svg+xml": [
       "<?xml version=\"1.0\" encoding=\"UTF-8\" standalone=\"no\"?><svg xmlns=\"http://www.w3.org/2000/svg\" xmlns:xlink=\"http://www.w3.org/1999/xlink\" contentStyleType=\"text/css\" height=\"305px\" preserveAspectRatio=\"none\" style=\"width:322px;height:305px;background:#FFFFFF;\" version=\"1.1\" viewBox=\"0 0 322 305\" width=\"322px\" zoomAndPan=\"magnify\"><defs/><g><g id=\"elem_E1\"><path d=\"M6,229.5 L6,298.0448 L315,298.0448 L315,239.5 L305,229.5 L6,229.5 \" fill=\"#FAFAFA\" style=\"stroke:#181818;stroke-width:0.5;\"/><path d=\"M305,229.5 L305,239.5 L315,239.5 L305,229.5 \" fill=\"#FAFAFA\" style=\"stroke:#181818;stroke-width:1.0;\"/><text fill=\"#000000\" font-family=\"monospace\" font-size=\"13\" lengthAdjust=\"spacing\" textLength=\"112\" x=\"12\" y=\"248.397\">              </text><a href=\"psysml:ccd30bed-0f75-43dd-8560-a117ef71fdae\" target=\"_top\" title=\"psysml:ccd30bed-0f75-43dd-8560-a117ef71fdae\" xlink:actuate=\"onRequest\" xlink:href=\"psysml:ccd30bed-0f75-43dd-8560-a117ef71fdae\" xlink:show=\"new\" xlink:title=\"psysml:ccd30bed-0f75-43dd-8560-a117ef71fdae\" xlink:type=\"simple\"><text fill=\"#000000\" font-family=\"sans-serif\" font-size=\"13\" lengthAdjust=\"spacing\" text-decoration=\"underline\" textLength=\"79\" x=\"124\" y=\"249.1401\">«metadata»</text></a><text fill=\"#000000\" font-family=\"monospace\" font-size=\"13\" font-style=\"italic\" lengthAdjust=\"spacing\" textLength=\"112\" x=\"12\" y=\"266.103\">              </text><text fill=\"#000000\" font-family=\"sans-serif\" font-size=\"13\" font-style=\"italic\" lengthAdjust=\"spacing\" textLength=\"60\" x=\"124\" y=\"266.8461\">Classified</text><line style=\"stroke:#181818;stroke-width:1.0;\" x1=\"7\" x2=\"314\" y1=\"269.912\" y2=\"269.912\"/><text fill=\"#000000\" font-family=\"sans-serif\" font-size=\"13\" lengthAdjust=\"spacing\" textLength=\"288\" x=\"12\" y=\"285.9789\">classificationLevel =  ClassificationLevel::conf</text></g><g id=\"elem_E2\"><path d=\"M6,125.5 L6,194.0448 L315,194.0448 L315,135.5 L305,125.5 L6,125.5 \" fill=\"#FAFAFA\" style=\"stroke:#181818;stroke-width:0.5;\"/><path d=\"M305,125.5 L305,135.5 L315,135.5 L305,125.5 \" fill=\"#FAFAFA\" style=\"stroke:#181818;stroke-width:1.0;\"/><text fill=\"#000000\" font-family=\"monospace\" font-size=\"13\" lengthAdjust=\"spacing\" textLength=\"112\" x=\"12\" y=\"144.397\">              </text><a href=\"psysml:a50d3885-9ceb-42ed-af81-8542a216cf29\" target=\"_top\" title=\"psysml:a50d3885-9ceb-42ed-af81-8542a216cf29\" xlink:actuate=\"onRequest\" xlink:href=\"psysml:a50d3885-9ceb-42ed-af81-8542a216cf29\" xlink:show=\"new\" xlink:title=\"psysml:a50d3885-9ceb-42ed-af81-8542a216cf29\" xlink:type=\"simple\"><text fill=\"#000000\" font-family=\"sans-serif\" font-size=\"13\" lengthAdjust=\"spacing\" text-decoration=\"underline\" textLength=\"79\" x=\"124\" y=\"145.1401\">«metadata»</text></a><text fill=\"#000000\" font-family=\"monospace\" font-size=\"13\" font-style=\"italic\" lengthAdjust=\"spacing\" textLength=\"112\" x=\"12\" y=\"162.103\">              </text><text fill=\"#000000\" font-family=\"sans-serif\" font-size=\"13\" font-style=\"italic\" lengthAdjust=\"spacing\" textLength=\"60\" x=\"124\" y=\"162.8461\">Classified</text><line style=\"stroke:#181818;stroke-width:1.0;\" x1=\"7\" x2=\"314\" y1=\"165.912\" y2=\"165.912\"/><text fill=\"#000000\" font-family=\"sans-serif\" font-size=\"13\" lengthAdjust=\"spacing\" textLength=\"288\" x=\"12\" y=\"181.9789\">classificationLevel =  ClassificationLevel::conf</text></g><g id=\"elem_E3\"><path d=\"M54.5,6 L54.5,89.6777 L266.5,89.6777 L266.5,16 L256.5,6 L54.5,6 \" fill=\"#FAFAFA\" style=\"stroke:#181818;stroke-width:0.5;\"/><path d=\"M256.5,6 L256.5,16 L266.5,16 L256.5,6 \" fill=\"#FAFAFA\" style=\"stroke:#181818;stroke-width:1.0;\"/><text fill=\"#000000\" font-family=\"monospace\" font-size=\"13\" lengthAdjust=\"spacing\" textLength=\"112\" x=\"60.5\" y=\"24.897\">              </text><a href=\"psysml:7eb290c6-6d6c-4277-b27a-b35f0e599ca6\" target=\"_top\" title=\"psysml:7eb290c6-6d6c-4277-b27a-b35f0e599ca6\" xlink:actuate=\"onRequest\" xlink:href=\"psysml:7eb290c6-6d6c-4277-b27a-b35f0e599ca6\" xlink:show=\"new\" xlink:title=\"psysml:7eb290c6-6d6c-4277-b27a-b35f0e599ca6\" xlink:type=\"simple\"><text fill=\"#000000\" font-family=\"sans-serif\" font-size=\"13\" lengthAdjust=\"spacing\" text-decoration=\"underline\" textLength=\"79\" x=\"172.5\" y=\"25.6401\">«metadata»</text></a><text fill=\"#000000\" font-family=\"monospace\" font-size=\"13\" font-style=\"italic\" lengthAdjust=\"spacing\" textLength=\"112\" x=\"60.5\" y=\"42.603\">              </text><text fill=\"#000000\" font-family=\"sans-serif\" font-size=\"13\" font-style=\"italic\" lengthAdjust=\"spacing\" textLength=\"60\" x=\"172.5\" y=\"43.3461\">Classified</text><line style=\"stroke:#181818;stroke-width:1.0;\" x1=\"55.5\" x2=\"265.5\" y1=\"46.412\" y2=\"46.412\"/><text fill=\"#000000\" font-family=\"sans-serif\" font-size=\"13\" lengthAdjust=\"spacing\" textLength=\"129\" x=\"60.5\" y=\"62.4789\">classificationLevel =</text><text fill=\"#000000\" font-family=\"sans-serif\" font-size=\"13\" lengthAdjust=\"spacing\" textLength=\"164\" x=\"60.5\" y=\"77.6117\">ClassificationLevel::secret</text></g><!--MD5=[fcd993c224b10667e8ddfa4bff9be887]\n",
       "@startuml\r\n",
       "skin sysmlbw\r\n",
       "skinparam monochrome true\r\n",
       "skinparam wrapWidth 300\r\n",
       "hide circle\r\n",
       "left to right direction\r\n",
       "skinparam ranksep 8\r\n",
       "\r\n",
       "note as E1\r\n",
       "\"\"              \"\"[[psysml:ccd30bed-0f75-43dd-8560-a117ef71fdae «metadata»]]\r\n",
       "==== \"\"              \"\"Classified\r\n",
       "- -\r\n",
       "classificationLevel =  ClassificationLevel::conf\r\n",
       "end note\r\n",
       "note as E2\r\n",
       "\"\"              \"\"[[psysml:a50d3885-9ceb-42ed-af81-8542a216cf29 «metadata»]]\r\n",
       "==== \"\"              \"\"Classified\r\n",
       "- -\r\n",
       "classificationLevel =  ClassificationLevel::conf\r\n",
       "end note\r\n",
       "note as E3\r\n",
       "\"\"              \"\"[[psysml:7eb290c6-6d6c-4277-b27a-b35f0e599ca6 «metadata»]]\r\n",
       "==== \"\"              \"\"Classified\r\n",
       "- -\r\n",
       "classificationLevel =  ClassificationLevel::secret\r\n",
       "end note\r\n",
       "@enduml\r\n",
       "\n",
       "PlantUML version 1.2022.7(Mon Aug 22 17:01:30 UTC 2022)\n",
       "(EPL source distribution)\n",
       "Java Runtime: OpenJDK Runtime Environment\n",
       "JVM: OpenJDK 64-Bit Server VM\n",
       "Default Encoding: UTF-8\n",
       "Language: en\n",
       "Country: null\n",
       "--></g></svg>"
      ]
     },
     "execution_count": 20,
     "metadata": {},
     "output_type": "execute_result"
    }
   ],
   "source": [
    "%viz --style=\"LR\" --view=\"Action\" \"MetadataTest\""
   ]
  },
  {
   "cell_type": "code",
   "execution_count": 21,
   "id": "07e73254",
   "metadata": {
    "execution": {
     "iopub.execute_input": "2024-12-16T03:28:23.388200Z",
     "iopub.status.busy": "2024-12-16T03:28:23.387963Z",
     "iopub.status.idle": "2024-12-16T03:28:23.394816Z",
     "shell.execute_reply": "2024-12-16T03:28:23.394636Z"
    }
   },
   "outputs": [
    {
     "data": {
      "image/svg+xml": [
       "<?xml version=\"1.0\" encoding=\"UTF-8\" standalone=\"no\"?><svg xmlns=\"http://www.w3.org/2000/svg\" xmlns:xlink=\"http://www.w3.org/1999/xlink\" contentStyleType=\"text/css\" height=\"10px\" preserveAspectRatio=\"none\" style=\"width:10px;height:10px;background:#FFFFFF;\" version=\"1.1\" viewBox=\"0 0 10 10\" width=\"10px\" zoomAndPan=\"magnify\"><defs/><g><!--MD5=[3d7abb46b795db4c9d99c7acf425de78]\n",
       "@startuml\r\n",
       "skin sysmlbw\r\n",
       "skinparam monochrome true\r\n",
       "skinparam wrapWidth 300\r\n",
       "hide circle\r\n",
       "left to right direction\r\n",
       "skinparam roundcorner 20\r\n",
       "skinparam BoxPadding 20\r\n",
       "skinparam SequenceBoxBackgroundColor #white\r\n",
       "skinparam style strictuml\r\n",
       "skinparam maxMessageSize 100\r\n",
       "\r\n",
       "@enduml\r\n",
       "\n",
       "PlantUML version 1.2022.7(Mon Aug 22 17:01:30 UTC 2022)\n",
       "(EPL source distribution)\n",
       "Java Runtime: OpenJDK Runtime Environment\n",
       "JVM: OpenJDK 64-Bit Server VM\n",
       "Default Encoding: UTF-8\n",
       "Language: en\n",
       "Country: null\n",
       "--></g></svg>"
      ]
     },
     "execution_count": 21,
     "metadata": {},
     "output_type": "execute_result"
    }
   ],
   "source": [
    "%viz --style=\"LR\" --view=\"Sequence\" \"MetadataTest\""
   ]
  },
  {
   "cell_type": "code",
   "execution_count": 22,
   "id": "f2e50d6a",
   "metadata": {
    "execution": {
     "iopub.execute_input": "2024-12-16T03:28:23.451071Z",
     "iopub.status.busy": "2024-12-16T03:28:23.450850Z",
     "iopub.status.idle": "2024-12-16T03:28:23.483086Z",
     "shell.execute_reply": "2024-12-16T03:28:23.482208Z"
    }
   },
   "outputs": [
    {
     "data": {
      "image/svg+xml": [
       "<?xml version=\"1.0\" encoding=\"UTF-8\" standalone=\"no\"?><svg xmlns=\"http://www.w3.org/2000/svg\" xmlns:xlink=\"http://www.w3.org/1999/xlink\" contentStyleType=\"text/css\" height=\"471px\" preserveAspectRatio=\"none\" style=\"width:787px;height:471px;background:#FFFFFF;\" version=\"1.1\" viewBox=\"0 0 787 471\" width=\"787px\" zoomAndPan=\"magnify\"><defs/><g><!--MD5=[fbc87193dbaf4d95561dea2c320d4a47]\n",
       "cluster E1--><g id=\"cluster_E1\"><a href=\"psysml:6bf27c65-dae0-4f69-b1ef-6329bb319dfc\" target=\"_top\" title=\"psysml:6bf27c65-dae0-4f69-b1ef-6329bb319dfc\" xlink:actuate=\"onRequest\" xlink:href=\"psysml:6bf27c65-dae0-4f69-b1ef-6329bb319dfc\" xlink:show=\"new\" xlink:title=\"psysml:6bf27c65-dae0-4f69-b1ef-6329bb319dfc\" xlink:type=\"simple\"><polygon fill=\"none\" points=\"16,6,122.25,6,129.25,28.2969,770.72,28.2969,770.72,464,16,464,16,6\" style=\"stroke:#000000;stroke-width:1.5;\"/><line style=\"stroke:#000000;stroke-width:1.5;\" x1=\"16\" x2=\"129.25\" y1=\"28.2969\" y2=\"28.2969\"/><text fill=\"#000000\" font-family=\"sans-serif\" font-size=\"14\" font-weight=\"bold\" lengthAdjust=\"spacing\" textLength=\"100.25\" x=\"20\" y=\"20.9951\">MetadataTest</text></a></g><!--MD5=[e4f7fae6ed58524ba242bb0b0d3be6b7]\n",
       "cluster E2--><g id=\"cluster_E2\"><a href=\"psysml:fde4dbf0-a827-4985-ab3d-be4806656b08\" target=\"_top\" title=\"psysml:fde4dbf0-a827-4985-ab3d-be4806656b08\" xlink:actuate=\"onRequest\" xlink:href=\"psysml:fde4dbf0-a827-4985-ab3d-be4806656b08\" xlink:show=\"new\" xlink:title=\"psysml:fde4dbf0-a827-4985-ab3d-be4806656b08\" xlink:type=\"simple\"><polygon fill=\"none\" points=\"161.72,65,346.9075,65,353.9075,87.2969,730.72,87.2969,730.72,282,161.72,282,161.72,65\" style=\"stroke:#000000;stroke-width:1.5;\"/><line style=\"stroke:#000000;stroke-width:1.5;\" x1=\"161.72\" x2=\"353.9075\" y1=\"87.2969\" y2=\"87.2969\"/><text fill=\"#000000\" font-family=\"sans-serif\" font-size=\"14\" font-weight=\"bold\" lengthAdjust=\"spacing\" textLength=\"179.1875\" x=\"165.72\" y=\"79.9951\">User Defined Extensions</text></a></g><!--MD5=[60a26617385b1d2d0262a64233df1f8d]\n",
       "class E6--><a href=\"psysml:09bb7bef-5578-400a-ab09-b89f3b478a84\" target=\"_top\" title=\"psysml:09bb7bef-5578-400a-ab09-b89f3b478a84\" xlink:actuate=\"onRequest\" xlink:href=\"psysml:09bb7bef-5578-400a-ab09-b89f3b478a84\" xlink:show=\"new\" xlink:title=\"psysml:09bb7bef-5578-400a-ab09-b89f3b478a84\" xlink:type=\"simple\"><g id=\"elem_E6\"><rect fill=\"#FFFFFF\" height=\"48.2656\" id=\"E6\" rx=\"10\" ry=\"10\" style=\"stroke:#181818;stroke-width:0.5;\" width=\"149\" x=\"163.72\" y=\"309\"/><text fill=\"#000000\" font-family=\"sans-serif\" font-size=\"12\" font-style=\"italic\" lengthAdjust=\"spacing\" textLength=\"147\" x=\"164.72\" y=\"325.1387\">«#Classified #Security»</text><text fill=\"#000000\" font-family=\"sans-serif\" font-size=\"14\" lengthAdjust=\"spacing\" textLength=\"17\" x=\"225.72\" y=\"340.9639\">z1</text><line style=\"stroke:#181818;stroke-width:0.5;\" x1=\"164.72\" x2=\"311.72\" y1=\"349.2656\" y2=\"349.2656\"/></g></a><!--MD5=[2156ba9850f5573cc1fc38a6a4b2f02b]\n",
       "class E7--><a href=\"psysml:fcfec3d1-5349-46cf-95eb-369f9c247e1c\" target=\"_top\" title=\"psysml:fcfec3d1-5349-46cf-95eb-369f9c247e1c\" xlink:actuate=\"onRequest\" xlink:href=\"psysml:fcfec3d1-5349-46cf-95eb-369f9c247e1c\" xlink:show=\"new\" xlink:title=\"psysml:fcfec3d1-5349-46cf-95eb-369f9c247e1c\" xlink:type=\"simple\"><g id=\"elem_E7\"><rect fill=\"#FFFFFF\" height=\"48.2656\" id=\"E7\" rx=\"10\" ry=\"10\" style=\"stroke:#181818;stroke-width:0.5;\" width=\"85\" x=\"195.72\" y=\"392\"/><text fill=\"#000000\" font-family=\"sans-serif\" font-size=\"12\" font-style=\"italic\" lengthAdjust=\"spacing\" textLength=\"83\" x=\"196.72\" y=\"408.1387\">«#Classified»</text><text fill=\"#000000\" font-family=\"sans-serif\" font-size=\"14\" font-style=\"italic\" lengthAdjust=\"spacing\" textLength=\"17\" x=\"225.72\" y=\"423.9639\">z2</text><text fill=\"#000000\" font-family=\"sans-serif\" font-size=\"14\" lengthAdjust=\"spacing\" textLength=\"8\" x=\"242.72\" y=\"423.9639\">  </text><line style=\"stroke:#181818;stroke-width:0.5;\" x1=\"196.72\" x2=\"279.72\" y1=\"432.2656\" y2=\"432.2656\"/></g></a><!--MD5=[09b614a08d8cba4a07c9adeb5e0fee81]\n",
       "class E3--><a href=\"psysml:875613db-282a-4c31-9ce2-2c5502fc9987\" target=\"_top\" title=\"psysml:875613db-282a-4c31-9ce2-2c5502fc9987\" xlink:actuate=\"onRequest\" xlink:href=\"psysml:875613db-282a-4c31-9ce2-2c5502fc9987\" xlink:show=\"new\" xlink:title=\"psysml:875613db-282a-4c31-9ce2-2c5502fc9987\" xlink:type=\"simple\"><g id=\"elem_E3\"><rect fill=\"#FFFFFF\" height=\"107.675\" id=\"E3\" style=\"stroke:#181818;stroke-width:0.5;\" width=\"218\" x=\"488.72\" y=\"108\"/><text fill=\"#000000\" font-family=\"sans-serif\" font-size=\"12\" font-style=\"italic\" lengthAdjust=\"spacing\" textLength=\"74\" x=\"560.72\" y=\"124.1387\">«#Security»</text><text fill=\"#000000\" font-family=\"sans-serif\" font-size=\"14\" font-style=\"italic\" lengthAdjust=\"spacing\" textLength=\"124\" x=\"535.72\" y=\"139.9639\">ClassificationLevel</text><line style=\"stroke:#181818;stroke-width:0.5;\" x1=\"489.72\" x2=\"705.72\" y1=\"148.2656\" y2=\"148.2656\"/><text fill=\"#000000\" font-family=\"sans-serif\" font-size=\"14\" lengthAdjust=\"spacing\" textLength=\"191\" x=\"494.72\" y=\"175.7795\">uncl: ClassificationLevel = 0</text><text fill=\"#000000\" font-family=\"sans-serif\" font-size=\"14\" lengthAdjust=\"spacing\" textLength=\"192\" x=\"494.72\" y=\"192.0764\">conf: ClassificationLevel = 1</text><text fill=\"#000000\" font-family=\"sans-serif\" font-size=\"14\" lengthAdjust=\"spacing\" textLength=\"206\" x=\"494.72\" y=\"208.3732\">secret: ClassificationLevel = 2</text><text fill=\"#000000\" font-family=\"sans-serif\" font-size=\"14\" font-style=\"italic\" lengthAdjust=\"spacing\" textLength=\"48\" x=\"573.72\" y=\"160.6123\">enums</text></g></a><!--MD5=[ebbe1d658d1005bcc118a6aa81145e00]\n",
       "class E4--><a href=\"psysml:7d365ab2-02f5-4019-ac52-725960bbc954\" target=\"_top\" title=\"psysml:7d365ab2-02f5-4019-ac52-725960bbc954\" xlink:actuate=\"onRequest\" xlink:href=\"psysml:7d365ab2-02f5-4019-ac52-725960bbc954\" xlink:show=\"new\" xlink:title=\"psysml:7d365ab2-02f5-4019-ac52-725960bbc954\" xlink:type=\"simple\"><g id=\"elem_E4\"><rect fill=\"#FFFFFF\" height=\"48.2656\" id=\"E4\" style=\"stroke:#181818;stroke-width:0.5;\" width=\"105\" x=\"185.72\" y=\"108\"/><text fill=\"#000000\" font-family=\"sans-serif\" font-size=\"12\" font-style=\"italic\" lengthAdjust=\"spacing\" textLength=\"103\" x=\"186.72\" y=\"124.1387\">«metadata  def»</text><text fill=\"#000000\" font-family=\"sans-serif\" font-size=\"14\" lengthAdjust=\"spacing\" textLength=\"65\" x=\"205.72\" y=\"139.9639\">Classified</text><line style=\"stroke:#181818;stroke-width:0.5;\" x1=\"186.72\" x2=\"289.72\" y1=\"148.2656\" y2=\"148.2656\"/></g></a><!--MD5=[270fce915f116d4de14055a7c1d9a0f3]\n",
       "class E5--><a href=\"psysml:b54cb894-c9b4-4b22-a0a5-6c760d030873\" target=\"_top\" title=\"psysml:b54cb894-c9b4-4b22-a0a5-6c760d030873\" xlink:actuate=\"onRequest\" xlink:href=\"psysml:b54cb894-c9b4-4b22-a0a5-6c760d030873\" xlink:show=\"new\" xlink:title=\"psysml:b54cb894-c9b4-4b22-a0a5-6c760d030873\" xlink:type=\"simple\"><g id=\"elem_E5\"><rect fill=\"#FFFFFF\" height=\"48.2656\" id=\"E5\" style=\"stroke:#181818;stroke-width:0.5;\" width=\"105\" x=\"185.72\" y=\"191\"/><text fill=\"#000000\" font-family=\"sans-serif\" font-size=\"12\" font-style=\"italic\" lengthAdjust=\"spacing\" textLength=\"103\" x=\"186.72\" y=\"207.1387\">«metadata  def»</text><text fill=\"#000000\" font-family=\"sans-serif\" font-size=\"14\" lengthAdjust=\"spacing\" textLength=\"55\" x=\"210.72\" y=\"222.9639\">Security</text><line style=\"stroke:#181818;stroke-width:0.5;\" x1=\"186.72\" x2=\"289.72\" y1=\"231.2656\" y2=\"231.2656\"/></g></a><!--MD5=[1f1cd8e6dd4c1b2ca2aaccc9b9bcea6e]\n",
       "link E1 to E2--><g id=\"link_E1_E2\"><a href=\"psysml:7790dee3-4a68-47c5-b25f-526a96f63664\" target=\"_top\" title=\"psysml:7790dee3-4a68-47c5-b25f-526a96f63664\" xlink:actuate=\"onRequest\" xlink:href=\"psysml:7790dee3-4a68-47c5-b25f-526a96f63664\" xlink:show=\"new\" xlink:title=\"psysml:7790dee3-4a68-47c5-b25f-526a96f63664\" xlink:type=\"simple\"><path d=\"M24.87,274 C28.04,274 79.53,274 131.0075,274 C137.4422,274 143.8767,274 150.2166,274 C153.3865,274 156.5328,274 159.6437,274 C160.0325,274 160.4208,274 160.8086,274 \" fill=\"none\" id=\"E1-to-E2\" style=\"stroke:#181818;stroke-width:1.0;stroke-dasharray:7.0,7.0;\"/><polygon fill=\"#181818\" points=\"160.8086,274,151.8086,270,155.8086,274,151.8086,278,160.8086,274\" style=\"stroke:#181818;stroke-width:1.0;\"/><text fill=\"#000000\" font-family=\"sans-serif\" font-size=\"13\" lengthAdjust=\"spacing\" textLength=\"65\" x=\"55.72\" y=\"270.0669\">«import»*</text></a></g><!--MD5=[4735aefadfa2e5978451eb08fa1f3993]\n",
       "reverse link E4 to E3--><g id=\"link_E4_E3\"><a href=\"psysml:70fb76d3-4397-496c-b537-fd7ec6ee6db2\" target=\"_top\" title=\"psysml:70fb76d3-4397-496c-b537-fd7ec6ee6db2\" xlink:actuate=\"onRequest\" xlink:href=\"psysml:70fb76d3-4397-496c-b537-fd7ec6ee6db2\" xlink:show=\"new\" xlink:title=\"psysml:70fb76d3-4397-496c-b537-fd7ec6ee6db2\" xlink:type=\"simple\"><path d=\"M304.07,137.44 C355.5,141.76 428.5,147.88 488.72,152.94 \" fill=\"none\" id=\"E4-backto-E3\" style=\"stroke:#181818;stroke-width:1.0;\"/><polygon fill=\"none\" points=\"290.82,136.33,296.465,140.817,302.7781,137.332,297.133,132.845,290.82,136.33\" style=\"stroke:#181818;stroke-width:1.0;\"/><text fill=\"#000000\" font-family=\"sans-serif\" font-size=\"13\" lengthAdjust=\"spacing\" textLength=\"114\" x=\"343.72\" y=\"137.0669\">classificationLevel</text></a></g><!--MD5=[60afe0529004b283ca62d50df2d1ce91]\n",
       "@startuml\r\n",
       "skin sysmlbw\r\n",
       "skinparam monochrome true\r\n",
       "skinparam wrapWidth 300\r\n",
       "hide circle\r\n",
       "left to right direction\r\n",
       "\r\n",
       "package \"MetadataTest\" as E1  [[psysml:6bf27c65-dae0-4f69-b1ef-6329bb319dfc ]]  {\r\n",
       "package \"User Defined Extensions\" as E2  [[psysml:fde4dbf0-a827-4985-ab3d-be4806656b08 ]]  {\r\n",
       "comp def \"<i>ClassificationLevel</i>\" as E3 <<#Security>>[[psysml:875613db-282a-4c31-9ce2-2c5502fc9987 ]] {\r\n",
       "##//enums//##\r\n",
       "uncl: ClassificationLevel <U+003D> 0\r\n",
       "conf: ClassificationLevel <U+003D> 1\r\n",
       "secret: ClassificationLevel <U+003D> 2\r\n",
       "}\r\n",
       "comp def \"Classified\" as E4  <<(T,blue) metadata  def>> [[psysml:7d365ab2-02f5-4019-ac52-725960bbc954 ]] {\r\n",
       "}\r\n",
       "comp def \"Security\" as E5  <<(T,blue) metadata  def>> [[psysml:b54cb894-c9b4-4b22-a0a5-6c760d030873 ]] {\r\n",
       "}\r\n",
       "}\r\n",
       "comp usage \"z1  \" as E6 <<#Classified #Security>>[[psysml:09bb7bef-5578-400a-ab09-b89f3b478a84 ]] {\r\n",
       "}\r\n",
       "comp usage \"<i>z2</i>  \" as E7 <<#Classified>>[[psysml:fcfec3d1-5349-46cf-95eb-369f9c247e1c ]] {\r\n",
       "}\r\n",
       "}\r\n",
       "E1 ..> E2 [[psysml:7790dee3-4a68-47c5-b25f-526a96f63664 ]] : <<import>>*\r\n",
       "E4 o- - E3 [[psysml:70fb76d3-4397-496c-b537-fd7ec6ee6db2 ]] : classificationLevel\r\n",
       "@enduml\r\n",
       "\n",
       "PlantUML version 1.2022.7(Mon Aug 22 17:01:30 UTC 2022)\n",
       "(EPL source distribution)\n",
       "Java Runtime: OpenJDK Runtime Environment\n",
       "JVM: OpenJDK 64-Bit Server VM\n",
       "Default Encoding: UTF-8\n",
       "Language: en\n",
       "Country: null\n",
       "--></g></svg>"
      ]
     },
     "execution_count": 22,
     "metadata": {},
     "output_type": "execute_result"
    }
   ],
   "source": [
    "%viz --style=\"LR\" --view=\"MIXED\" \"MetadataTest\""
   ]
  },
  {
   "cell_type": "code",
   "execution_count": 23,
   "id": "66c4cce8",
   "metadata": {
    "execution": {
     "iopub.execute_input": "2024-12-16T03:28:23.535734Z",
     "iopub.status.busy": "2024-12-16T03:28:23.535509Z",
     "iopub.status.idle": "2024-12-16T03:28:23.562621Z",
     "shell.execute_reply": "2024-12-16T03:28:23.561796Z"
    }
   },
   "outputs": [
    {
     "data": {
      "image/svg+xml": [
       "<?xml version=\"1.0\" encoding=\"UTF-8\" standalone=\"no\"?><svg xmlns=\"http://www.w3.org/2000/svg\" xmlns:xlink=\"http://www.w3.org/1999/xlink\" contentStyleType=\"text/css\" height=\"467px\" preserveAspectRatio=\"none\" style=\"width:707px;height:467px;background:#FFFFFF;\" version=\"1.1\" viewBox=\"0 0 707 467\" width=\"707px\" zoomAndPan=\"magnify\"><defs><filter height=\"300%\" id=\"f1lq2io7mlsubp\" width=\"300%\" x=\"-1\" y=\"-1\"><feGaussianBlur result=\"blurOut\" stdDeviation=\"2.0\"/><feColorMatrix in=\"blurOut\" result=\"blurOut2\" type=\"matrix\" values=\"0 0 0 0 0 0 0 0 0 0 0 0 0 0 0 0 0 0 .4 0\"/><feOffset dx=\"4.0\" dy=\"4.0\" in=\"blurOut2\" result=\"blurOut3\"/><feBlend in=\"SourceGraphic\" in2=\"blurOut3\" mode=\"normal\"/></filter></defs><g><!--MD5=[fbc87193dbaf4d95561dea2c320d4a47]\n",
       "cluster E1--><g id=\"cluster_E1\"><a href=\"psysml:6bf27c65-dae0-4f69-b1ef-6329bb319dfc\" target=\"_top\" title=\"psysml:6bf27c65-dae0-4f69-b1ef-6329bb319dfc\" xlink:actuate=\"onRequest\" xlink:href=\"psysml:6bf27c65-dae0-4f69-b1ef-6329bb319dfc\" xlink:show=\"new\" xlink:title=\"psysml:6bf27c65-dae0-4f69-b1ef-6329bb319dfc\" xlink:type=\"simple\"><polygon fill=\"none\" filter=\"url(#f1lq2io7mlsubp)\" points=\"16,6,122.25,6,129.25,28.2969,690,28.2969,690,460.72,16,460.72,16,6\" style=\"stroke:#000000;stroke-width:1.5;\"/><line style=\"stroke:#000000;stroke-width:1.5;\" x1=\"16\" x2=\"129.25\" y1=\"28.2969\" y2=\"28.2969\"/><text fill=\"#000000\" font-family=\"sans-serif\" font-size=\"14\" font-weight=\"bold\" lengthAdjust=\"spacing\" textLength=\"100.25\" x=\"20\" y=\"20.9951\">MetadataTest</text></a></g><!--MD5=[e4f7fae6ed58524ba242bb0b0d3be6b7]\n",
       "cluster E2--><g id=\"cluster_E2\"><a href=\"psysml:fde4dbf0-a827-4985-ab3d-be4806656b08\" target=\"_top\" title=\"psysml:fde4dbf0-a827-4985-ab3d-be4806656b08\" xlink:actuate=\"onRequest\" xlink:href=\"psysml:fde4dbf0-a827-4985-ab3d-be4806656b08\" xlink:show=\"new\" xlink:title=\"psysml:fde4dbf0-a827-4985-ab3d-be4806656b08\" xlink:type=\"simple\"><polygon fill=\"none\" filter=\"url(#f1lq2io7mlsubp)\" points=\"337,120.72,522.1875,120.72,529.1875,143.0169,650,143.0169,650,420.72,337,420.72,337,120.72\" style=\"stroke:#000000;stroke-width:1.5;\"/><line style=\"stroke:#000000;stroke-width:1.5;\" x1=\"337\" x2=\"529.1875\" y1=\"143.0169\" y2=\"143.0169\"/><text fill=\"#000000\" font-family=\"sans-serif\" font-size=\"14\" font-weight=\"bold\" lengthAdjust=\"spacing\" textLength=\"179.1875\" x=\"341\" y=\"135.7151\">User Defined Extensions</text></a></g><!--MD5=[60a26617385b1d2d0262a64233df1f8d]\n",
       "class E6--><a href=\"psysml:09bb7bef-5578-400a-ab09-b89f3b478a84\" target=\"_top\" title=\"psysml:09bb7bef-5578-400a-ab09-b89f3b478a84\" xlink:actuate=\"onRequest\" xlink:href=\"psysml:09bb7bef-5578-400a-ab09-b89f3b478a84\" xlink:show=\"new\" xlink:title=\"psysml:09bb7bef-5578-400a-ab09-b89f3b478a84\" xlink:type=\"simple\"><g id=\"elem_E6\"><rect fill=\"#FFFACD\" filter=\"url(#f1lq2io7mlsubp)\" height=\"48.2656\" id=\"E6\" rx=\"10\" ry=\"10\" style=\"stroke:#181818;stroke-width:0.5;\" width=\"149\" x=\"160.5\" y=\"163.72\"/><text fill=\"#000000\" font-family=\"sans-serif\" font-size=\"12\" font-style=\"italic\" lengthAdjust=\"spacing\" textLength=\"147\" x=\"161.5\" y=\"179.8587\">«#Classified #Security»</text><text fill=\"#000000\" font-family=\"sans-serif\" font-size=\"14\" lengthAdjust=\"spacing\" textLength=\"17\" x=\"222.5\" y=\"195.6839\">z1</text><line style=\"stroke:#181818;stroke-width:0.5;\" x1=\"161.5\" x2=\"308.5\" y1=\"203.9856\" y2=\"203.9856\"/></g></a><!--MD5=[2156ba9850f5573cc1fc38a6a4b2f02b]\n",
       "class E7--><a href=\"psysml:fcfec3d1-5349-46cf-95eb-369f9c247e1c\" target=\"_top\" title=\"psysml:fcfec3d1-5349-46cf-95eb-369f9c247e1c\" xlink:actuate=\"onRequest\" xlink:href=\"psysml:fcfec3d1-5349-46cf-95eb-369f9c247e1c\" xlink:show=\"new\" xlink:title=\"psysml:fcfec3d1-5349-46cf-95eb-369f9c247e1c\" xlink:type=\"simple\"><g id=\"elem_E7\"><rect fill=\"#FFFACD\" filter=\"url(#f1lq2io7mlsubp)\" height=\"48.2656\" id=\"E7\" rx=\"10\" ry=\"10\" style=\"stroke:#181818;stroke-width:0.5;\" width=\"85\" x=\"40.5\" y=\"163.72\"/><text fill=\"#000000\" font-family=\"sans-serif\" font-size=\"12\" font-style=\"italic\" lengthAdjust=\"spacing\" textLength=\"83\" x=\"41.5\" y=\"179.8587\">«#Classified»</text><text fill=\"#000000\" font-family=\"sans-serif\" font-size=\"14\" font-style=\"italic\" lengthAdjust=\"spacing\" textLength=\"17\" x=\"70.5\" y=\"195.6839\">z2</text><text fill=\"#000000\" font-family=\"sans-serif\" font-size=\"14\" lengthAdjust=\"spacing\" textLength=\"8\" x=\"87.5\" y=\"195.6839\">  </text><line style=\"stroke:#181818;stroke-width:0.5;\" x1=\"41.5\" x2=\"124.5\" y1=\"203.9856\" y2=\"203.9856\"/></g></a><!--MD5=[09b614a08d8cba4a07c9adeb5e0fee81]\n",
       "class E3--><a href=\"psysml:875613db-282a-4c31-9ce2-2c5502fc9987\" target=\"_top\" title=\"psysml:875613db-282a-4c31-9ce2-2c5502fc9987\" xlink:actuate=\"onRequest\" xlink:href=\"psysml:875613db-282a-4c31-9ce2-2c5502fc9987\" xlink:show=\"new\" xlink:title=\"psysml:875613db-282a-4c31-9ce2-2c5502fc9987\" xlink:type=\"simple\"><g id=\"elem_E3\"><rect fill=\"#FFFACD\" filter=\"url(#f1lq2io7mlsubp)\" height=\"107.675\" id=\"E3\" style=\"stroke:#181818;stroke-width:0.5;\" width=\"218\" x=\"401\" y=\"288.72\"/><text fill=\"#000000\" font-family=\"sans-serif\" font-size=\"12\" font-style=\"italic\" lengthAdjust=\"spacing\" textLength=\"74\" x=\"473\" y=\"304.8587\">«#Security»</text><text fill=\"#000000\" font-family=\"sans-serif\" font-size=\"14\" font-style=\"italic\" lengthAdjust=\"spacing\" textLength=\"124\" x=\"448\" y=\"320.6839\">ClassificationLevel</text><line style=\"stroke:#181818;stroke-width:0.5;\" x1=\"402\" x2=\"618\" y1=\"328.9856\" y2=\"328.9856\"/><text fill=\"#000000\" font-family=\"sans-serif\" font-size=\"14\" lengthAdjust=\"spacing\" textLength=\"191\" x=\"407\" y=\"356.4995\">uncl: ClassificationLevel = 0</text><text fill=\"#000000\" font-family=\"sans-serif\" font-size=\"14\" lengthAdjust=\"spacing\" textLength=\"192\" x=\"407\" y=\"372.7964\">conf: ClassificationLevel = 1</text><text fill=\"#000000\" font-family=\"sans-serif\" font-size=\"14\" lengthAdjust=\"spacing\" textLength=\"206\" x=\"407\" y=\"389.0932\">secret: ClassificationLevel = 2</text><text fill=\"#000000\" font-family=\"sans-serif\" font-size=\"14\" font-style=\"italic\" lengthAdjust=\"spacing\" textLength=\"48\" x=\"486\" y=\"341.3323\">enums</text></g></a><!--MD5=[ebbe1d658d1005bcc118a6aa81145e00]\n",
       "class E4--><a href=\"psysml:7d365ab2-02f5-4019-ac52-725960bbc954\" target=\"_top\" title=\"psysml:7d365ab2-02f5-4019-ac52-725960bbc954\" xlink:actuate=\"onRequest\" xlink:href=\"psysml:7d365ab2-02f5-4019-ac52-725960bbc954\" xlink:show=\"new\" xlink:title=\"psysml:7d365ab2-02f5-4019-ac52-725960bbc954\" xlink:type=\"simple\"><g id=\"elem_E4\"><rect fill=\"#FFFACD\" filter=\"url(#f1lq2io7mlsubp)\" height=\"48.2656\" id=\"E4\" style=\"stroke:#181818;stroke-width:0.5;\" width=\"105\" x=\"520.5\" y=\"163.72\"/><text fill=\"#000000\" font-family=\"sans-serif\" font-size=\"12\" font-style=\"italic\" lengthAdjust=\"spacing\" textLength=\"103\" x=\"521.5\" y=\"179.8587\">«metadata  def»</text><text fill=\"#000000\" font-family=\"sans-serif\" font-size=\"14\" lengthAdjust=\"spacing\" textLength=\"65\" x=\"540.5\" y=\"195.6839\">Classified</text><line style=\"stroke:#181818;stroke-width:0.5;\" x1=\"521.5\" x2=\"624.5\" y1=\"203.9856\" y2=\"203.9856\"/></g></a><!--MD5=[270fce915f116d4de14055a7c1d9a0f3]\n",
       "class E5--><a href=\"psysml:b54cb894-c9b4-4b22-a0a5-6c760d030873\" target=\"_top\" title=\"psysml:b54cb894-c9b4-4b22-a0a5-6c760d030873\" xlink:actuate=\"onRequest\" xlink:href=\"psysml:b54cb894-c9b4-4b22-a0a5-6c760d030873\" xlink:show=\"new\" xlink:title=\"psysml:b54cb894-c9b4-4b22-a0a5-6c760d030873\" xlink:type=\"simple\"><g id=\"elem_E5\"><rect fill=\"#FFFACD\" filter=\"url(#f1lq2io7mlsubp)\" height=\"48.2656\" id=\"E5\" style=\"stroke:#181818;stroke-width:0.5;\" width=\"105\" x=\"380.5\" y=\"163.72\"/><text fill=\"#000000\" font-family=\"sans-serif\" font-size=\"12\" font-style=\"italic\" lengthAdjust=\"spacing\" textLength=\"103\" x=\"381.5\" y=\"179.8587\">«metadata  def»</text><text fill=\"#000000\" font-family=\"sans-serif\" font-size=\"14\" lengthAdjust=\"spacing\" textLength=\"55\" x=\"405.5\" y=\"195.6839\">Security</text><line style=\"stroke:#181818;stroke-width:0.5;\" x1=\"381.5\" x2=\"484.5\" y1=\"203.9856\" y2=\"203.9856\"/></g></a><!--MD5=[1f1cd8e6dd4c1b2ca2aaccc9b9bcea6e]\n",
       "link E1 to E2--><g id=\"link_E1_E2\"><a href=\"psysml:7790dee3-4a68-47c5-b25f-526a96f63664\" target=\"_top\" title=\"psysml:7790dee3-4a68-47c5-b25f-526a96f63664\" xlink:actuate=\"onRequest\" xlink:href=\"psysml:7790dee3-4a68-47c5-b25f-526a96f63664\" xlink:show=\"new\" xlink:title=\"psysml:7790dee3-4a68-47c5-b25f-526a96f63664\" xlink:type=\"simple\"><path d=\"M345,33.83 C345,36.11 345,73.1825 345,110.2463 C345,112.5627 345,114.8792 345,117.1871 C345,118.3411 345,119.4929 345,120.6415 \" fill=\"none\" id=\"E1-to-E2\" style=\"stroke:#181818;stroke-width:1.0;stroke-dasharray:7.0,7.0;\"/><polygon fill=\"#181818\" points=\"345,120.6415,349,111.6415,345,115.6415,341,111.6415,345,120.6415\" style=\"stroke:#181818;stroke-width:1.0;\"/><text fill=\"#000000\" font-family=\"sans-serif\" font-size=\"13\" lengthAdjust=\"spacing\" textLength=\"65\" x=\"346\" y=\"76.7869\">«import»*</text></a></g><!--MD5=[4735aefadfa2e5978451eb08fa1f3993]\n",
       "reverse link E4 to E3--><g id=\"link_E4_E3\"><a href=\"psysml:70fb76d3-4397-496c-b537-fd7ec6ee6db2\" target=\"_top\" title=\"psysml:70fb76d3-4397-496c-b537-fd7ec6ee6db2\" xlink:actuate=\"onRequest\" xlink:href=\"psysml:70fb76d3-4397-496c-b537-fd7ec6ee6db2\" xlink:show=\"new\" xlink:title=\"psysml:70fb76d3-4397-496c-b537-fd7ec6ee6db2\" xlink:type=\"simple\"><path d=\"M558.47,224.01 C550.61,243.1 540.73,267.08 531.96,288.4 \" fill=\"none\" id=\"E4-backto-E3\" style=\"stroke:#181818;stroke-width:1.0;\"/><polygon fill=\"none\" points=\"563.43,211.96,557.4497,215.9894,558.869,223.0594,564.8493,219.0301,563.43,211.96\" style=\"stroke:#181818;stroke-width:1.0;\"/><text fill=\"#000000\" font-family=\"sans-serif\" font-size=\"13\" lengthAdjust=\"spacing\" textLength=\"114\" x=\"551\" y=\"254.7869\">classificationLevel</text></a></g><!--MD5=[e45404e07228fb3e2bc51ed8c07b1f2c]\n",
       "@startuml\r\n",
       "skin sysmlc\r\n",
       "skinparam wrapWidth 300\r\n",
       "hide circle\r\n",
       "\r\n",
       "package \"MetadataTest\" as E1  [[psysml:6bf27c65-dae0-4f69-b1ef-6329bb319dfc ]]  {\r\n",
       "package \"User Defined Extensions\" as E2  [[psysml:fde4dbf0-a827-4985-ab3d-be4806656b08 ]]  {\r\n",
       "comp def \"<i>ClassificationLevel</i>\" as E3 <<#Security>>[[psysml:875613db-282a-4c31-9ce2-2c5502fc9987 ]] {\r\n",
       "##//enums//##\r\n",
       "uncl: ClassificationLevel <U+003D> 0\r\n",
       "conf: ClassificationLevel <U+003D> 1\r\n",
       "secret: ClassificationLevel <U+003D> 2\r\n",
       "}\r\n",
       "comp def \"Classified\" as E4  <<(T,blue) metadata  def>> [[psysml:7d365ab2-02f5-4019-ac52-725960bbc954 ]] {\r\n",
       "}\r\n",
       "comp def \"Security\" as E5  <<(T,blue) metadata  def>> [[psysml:b54cb894-c9b4-4b22-a0a5-6c760d030873 ]] {\r\n",
       "}\r\n",
       "}\r\n",
       "comp usage \"z1  \" as E6 <<#Classified #Security>>[[psysml:09bb7bef-5578-400a-ab09-b89f3b478a84 ]] {\r\n",
       "}\r\n",
       "comp usage \"<i>z2</i>  \" as E7 <<#Classified>>[[psysml:fcfec3d1-5349-46cf-95eb-369f9c247e1c ]] {\r\n",
       "}\r\n",
       "}\r\n",
       "E1 ..> E2 [[psysml:7790dee3-4a68-47c5-b25f-526a96f63664 ]] : <<import>>*\r\n",
       "E4 o- - E3 [[psysml:70fb76d3-4397-496c-b537-fd7ec6ee6db2 ]] : classificationLevel\r\n",
       "@enduml\r\n",
       "\n",
       "PlantUML version 1.2022.7(Mon Aug 22 17:01:30 UTC 2022)\n",
       "(EPL source distribution)\n",
       "Java Runtime: OpenJDK Runtime Environment\n",
       "JVM: OpenJDK 64-Bit Server VM\n",
       "Default Encoding: UTF-8\n",
       "Language: en\n",
       "Country: null\n",
       "--></g></svg>"
      ]
     },
     "execution_count": 23,
     "metadata": {},
     "output_type": "execute_result"
    }
   ],
   "source": [
    "%viz --style=\"STDCOLOR\" --view=\"Default\" \"MetadataTest\""
   ]
  },
  {
   "cell_type": "code",
   "execution_count": 24,
   "id": "500b405d",
   "metadata": {
    "execution": {
     "iopub.execute_input": "2024-12-16T03:28:23.617863Z",
     "iopub.status.busy": "2024-12-16T03:28:23.617628Z",
     "iopub.status.idle": "2024-12-16T03:28:23.641989Z",
     "shell.execute_reply": "2024-12-16T03:28:23.641122Z"
    }
   },
   "outputs": [
    {
     "data": {
      "image/svg+xml": [
       "<?xml version=\"1.0\" encoding=\"UTF-8\" standalone=\"no\"?><svg xmlns=\"http://www.w3.org/2000/svg\" xmlns:xlink=\"http://www.w3.org/1999/xlink\" contentStyleType=\"text/css\" height=\"467px\" preserveAspectRatio=\"none\" style=\"width:707px;height:467px;background:#FFFFFF;\" version=\"1.1\" viewBox=\"0 0 707 467\" width=\"707px\" zoomAndPan=\"magnify\"><defs><filter height=\"300%\" id=\"f1lq2io7mlsubp\" width=\"300%\" x=\"-1\" y=\"-1\"><feGaussianBlur result=\"blurOut\" stdDeviation=\"2.0\"/><feColorMatrix in=\"blurOut\" result=\"blurOut2\" type=\"matrix\" values=\"0 0 0 0 0 0 0 0 0 0 0 0 0 0 0 0 0 0 .4 0\"/><feOffset dx=\"4.0\" dy=\"4.0\" in=\"blurOut2\" result=\"blurOut3\"/><feBlend in=\"SourceGraphic\" in2=\"blurOut3\" mode=\"normal\"/></filter></defs><g><!--MD5=[fbc87193dbaf4d95561dea2c320d4a47]\n",
       "cluster E1--><g id=\"cluster_E1\"><a href=\"psysml:6bf27c65-dae0-4f69-b1ef-6329bb319dfc\" target=\"_top\" title=\"psysml:6bf27c65-dae0-4f69-b1ef-6329bb319dfc\" xlink:actuate=\"onRequest\" xlink:href=\"psysml:6bf27c65-dae0-4f69-b1ef-6329bb319dfc\" xlink:show=\"new\" xlink:title=\"psysml:6bf27c65-dae0-4f69-b1ef-6329bb319dfc\" xlink:type=\"simple\"><polygon fill=\"none\" filter=\"url(#f1lq2io7mlsubp)\" points=\"16,6,122.25,6,129.25,28.2969,690,28.2969,690,460.72,16,460.72,16,6\" style=\"stroke:#000000;stroke-width:1.5;\"/><line style=\"stroke:#000000;stroke-width:1.5;\" x1=\"16\" x2=\"129.25\" y1=\"28.2969\" y2=\"28.2969\"/><text fill=\"#000000\" font-family=\"sans-serif\" font-size=\"14\" font-weight=\"bold\" lengthAdjust=\"spacing\" textLength=\"100.25\" x=\"20\" y=\"20.9951\">MetadataTest</text></a></g><!--MD5=[e4f7fae6ed58524ba242bb0b0d3be6b7]\n",
       "cluster E2--><g id=\"cluster_E2\"><a href=\"psysml:fde4dbf0-a827-4985-ab3d-be4806656b08\" target=\"_top\" title=\"psysml:fde4dbf0-a827-4985-ab3d-be4806656b08\" xlink:actuate=\"onRequest\" xlink:href=\"psysml:fde4dbf0-a827-4985-ab3d-be4806656b08\" xlink:show=\"new\" xlink:title=\"psysml:fde4dbf0-a827-4985-ab3d-be4806656b08\" xlink:type=\"simple\"><polygon fill=\"none\" filter=\"url(#f1lq2io7mlsubp)\" points=\"337,120.72,522.1875,120.72,529.1875,143.0169,650,143.0169,650,420.72,337,420.72,337,120.72\" style=\"stroke:#000000;stroke-width:1.5;\"/><line style=\"stroke:#000000;stroke-width:1.5;\" x1=\"337\" x2=\"529.1875\" y1=\"143.0169\" y2=\"143.0169\"/><text fill=\"#000000\" font-family=\"sans-serif\" font-size=\"14\" font-weight=\"bold\" lengthAdjust=\"spacing\" textLength=\"179.1875\" x=\"341\" y=\"135.7151\">User Defined Extensions</text></a></g><!--MD5=[60a26617385b1d2d0262a64233df1f8d]\n",
       "class E6--><a href=\"psysml:09bb7bef-5578-400a-ab09-b89f3b478a84\" target=\"_top\" title=\"psysml:09bb7bef-5578-400a-ab09-b89f3b478a84\" xlink:actuate=\"onRequest\" xlink:href=\"psysml:09bb7bef-5578-400a-ab09-b89f3b478a84\" xlink:show=\"new\" xlink:title=\"psysml:09bb7bef-5578-400a-ab09-b89f3b478a84\" xlink:type=\"simple\"><g id=\"elem_E6\"><rect fill=\"#FFFACD\" filter=\"url(#f1lq2io7mlsubp)\" height=\"48.2656\" id=\"E6\" rx=\"10\" ry=\"10\" style=\"stroke:#181818;stroke-width:0.5;\" width=\"149\" x=\"160.5\" y=\"163.72\"/><text fill=\"#000000\" font-family=\"sans-serif\" font-size=\"12\" font-style=\"italic\" lengthAdjust=\"spacing\" textLength=\"147\" x=\"161.5\" y=\"179.8587\">«#Classified #Security»</text><text fill=\"#000000\" font-family=\"sans-serif\" font-size=\"14\" lengthAdjust=\"spacing\" textLength=\"17\" x=\"222.5\" y=\"195.6839\">z1</text><line style=\"stroke:#181818;stroke-width:0.5;\" x1=\"161.5\" x2=\"308.5\" y1=\"203.9856\" y2=\"203.9856\"/></g></a><!--MD5=[2156ba9850f5573cc1fc38a6a4b2f02b]\n",
       "class E7--><a href=\"psysml:fcfec3d1-5349-46cf-95eb-369f9c247e1c\" target=\"_top\" title=\"psysml:fcfec3d1-5349-46cf-95eb-369f9c247e1c\" xlink:actuate=\"onRequest\" xlink:href=\"psysml:fcfec3d1-5349-46cf-95eb-369f9c247e1c\" xlink:show=\"new\" xlink:title=\"psysml:fcfec3d1-5349-46cf-95eb-369f9c247e1c\" xlink:type=\"simple\"><g id=\"elem_E7\"><rect fill=\"#FFFACD\" filter=\"url(#f1lq2io7mlsubp)\" height=\"48.2656\" id=\"E7\" rx=\"10\" ry=\"10\" style=\"stroke:#181818;stroke-width:0.5;\" width=\"85\" x=\"40.5\" y=\"163.72\"/><text fill=\"#000000\" font-family=\"sans-serif\" font-size=\"12\" font-style=\"italic\" lengthAdjust=\"spacing\" textLength=\"83\" x=\"41.5\" y=\"179.8587\">«#Classified»</text><text fill=\"#000000\" font-family=\"sans-serif\" font-size=\"14\" font-style=\"italic\" lengthAdjust=\"spacing\" textLength=\"17\" x=\"70.5\" y=\"195.6839\">z2</text><text fill=\"#000000\" font-family=\"sans-serif\" font-size=\"14\" lengthAdjust=\"spacing\" textLength=\"8\" x=\"87.5\" y=\"195.6839\">  </text><line style=\"stroke:#181818;stroke-width:0.5;\" x1=\"41.5\" x2=\"124.5\" y1=\"203.9856\" y2=\"203.9856\"/></g></a><!--MD5=[09b614a08d8cba4a07c9adeb5e0fee81]\n",
       "class E3--><a href=\"psysml:875613db-282a-4c31-9ce2-2c5502fc9987\" target=\"_top\" title=\"psysml:875613db-282a-4c31-9ce2-2c5502fc9987\" xlink:actuate=\"onRequest\" xlink:href=\"psysml:875613db-282a-4c31-9ce2-2c5502fc9987\" xlink:show=\"new\" xlink:title=\"psysml:875613db-282a-4c31-9ce2-2c5502fc9987\" xlink:type=\"simple\"><g id=\"elem_E3\"><rect fill=\"#FFFACD\" filter=\"url(#f1lq2io7mlsubp)\" height=\"107.675\" id=\"E3\" style=\"stroke:#181818;stroke-width:0.5;\" width=\"218\" x=\"401\" y=\"288.72\"/><text fill=\"#000000\" font-family=\"sans-serif\" font-size=\"12\" font-style=\"italic\" lengthAdjust=\"spacing\" textLength=\"74\" x=\"473\" y=\"304.8587\">«#Security»</text><text fill=\"#000000\" font-family=\"sans-serif\" font-size=\"14\" font-style=\"italic\" lengthAdjust=\"spacing\" textLength=\"124\" x=\"448\" y=\"320.6839\">ClassificationLevel</text><line style=\"stroke:#181818;stroke-width:0.5;\" x1=\"402\" x2=\"618\" y1=\"328.9856\" y2=\"328.9856\"/><text fill=\"#000000\" font-family=\"sans-serif\" font-size=\"14\" lengthAdjust=\"spacing\" textLength=\"191\" x=\"407\" y=\"356.4995\">uncl: ClassificationLevel = 0</text><text fill=\"#000000\" font-family=\"sans-serif\" font-size=\"14\" lengthAdjust=\"spacing\" textLength=\"192\" x=\"407\" y=\"372.7964\">conf: ClassificationLevel = 1</text><text fill=\"#000000\" font-family=\"sans-serif\" font-size=\"14\" lengthAdjust=\"spacing\" textLength=\"206\" x=\"407\" y=\"389.0932\">secret: ClassificationLevel = 2</text><text fill=\"#000000\" font-family=\"sans-serif\" font-size=\"14\" font-style=\"italic\" lengthAdjust=\"spacing\" textLength=\"48\" x=\"486\" y=\"341.3323\">enums</text></g></a><!--MD5=[ebbe1d658d1005bcc118a6aa81145e00]\n",
       "class E4--><a href=\"psysml:7d365ab2-02f5-4019-ac52-725960bbc954\" target=\"_top\" title=\"psysml:7d365ab2-02f5-4019-ac52-725960bbc954\" xlink:actuate=\"onRequest\" xlink:href=\"psysml:7d365ab2-02f5-4019-ac52-725960bbc954\" xlink:show=\"new\" xlink:title=\"psysml:7d365ab2-02f5-4019-ac52-725960bbc954\" xlink:type=\"simple\"><g id=\"elem_E4\"><rect fill=\"#FFFACD\" filter=\"url(#f1lq2io7mlsubp)\" height=\"48.2656\" id=\"E4\" style=\"stroke:#181818;stroke-width:0.5;\" width=\"105\" x=\"520.5\" y=\"163.72\"/><text fill=\"#000000\" font-family=\"sans-serif\" font-size=\"12\" font-style=\"italic\" lengthAdjust=\"spacing\" textLength=\"103\" x=\"521.5\" y=\"179.8587\">«metadata  def»</text><text fill=\"#000000\" font-family=\"sans-serif\" font-size=\"14\" lengthAdjust=\"spacing\" textLength=\"65\" x=\"540.5\" y=\"195.6839\">Classified</text><line style=\"stroke:#181818;stroke-width:0.5;\" x1=\"521.5\" x2=\"624.5\" y1=\"203.9856\" y2=\"203.9856\"/></g></a><!--MD5=[270fce915f116d4de14055a7c1d9a0f3]\n",
       "class E5--><a href=\"psysml:b54cb894-c9b4-4b22-a0a5-6c760d030873\" target=\"_top\" title=\"psysml:b54cb894-c9b4-4b22-a0a5-6c760d030873\" xlink:actuate=\"onRequest\" xlink:href=\"psysml:b54cb894-c9b4-4b22-a0a5-6c760d030873\" xlink:show=\"new\" xlink:title=\"psysml:b54cb894-c9b4-4b22-a0a5-6c760d030873\" xlink:type=\"simple\"><g id=\"elem_E5\"><rect fill=\"#FFFACD\" filter=\"url(#f1lq2io7mlsubp)\" height=\"48.2656\" id=\"E5\" style=\"stroke:#181818;stroke-width:0.5;\" width=\"105\" x=\"380.5\" y=\"163.72\"/><text fill=\"#000000\" font-family=\"sans-serif\" font-size=\"12\" font-style=\"italic\" lengthAdjust=\"spacing\" textLength=\"103\" x=\"381.5\" y=\"179.8587\">«metadata  def»</text><text fill=\"#000000\" font-family=\"sans-serif\" font-size=\"14\" lengthAdjust=\"spacing\" textLength=\"55\" x=\"405.5\" y=\"195.6839\">Security</text><line style=\"stroke:#181818;stroke-width:0.5;\" x1=\"381.5\" x2=\"484.5\" y1=\"203.9856\" y2=\"203.9856\"/></g></a><!--MD5=[1f1cd8e6dd4c1b2ca2aaccc9b9bcea6e]\n",
       "link E1 to E2--><g id=\"link_E1_E2\"><a href=\"psysml:7790dee3-4a68-47c5-b25f-526a96f63664\" target=\"_top\" title=\"psysml:7790dee3-4a68-47c5-b25f-526a96f63664\" xlink:actuate=\"onRequest\" xlink:href=\"psysml:7790dee3-4a68-47c5-b25f-526a96f63664\" xlink:show=\"new\" xlink:title=\"psysml:7790dee3-4a68-47c5-b25f-526a96f63664\" xlink:type=\"simple\"><path d=\"M345,33.83 C345,36.11 345,73.1825 345,110.2463 C345,112.5627 345,114.8792 345,117.1871 C345,118.3411 345,119.4929 345,120.6415 \" fill=\"none\" id=\"E1-to-E2\" style=\"stroke:#181818;stroke-width:1.0;stroke-dasharray:7.0,7.0;\"/><polygon fill=\"#181818\" points=\"345,120.6415,349,111.6415,345,115.6415,341,111.6415,345,120.6415\" style=\"stroke:#181818;stroke-width:1.0;\"/><text fill=\"#000000\" font-family=\"sans-serif\" font-size=\"13\" lengthAdjust=\"spacing\" textLength=\"65\" x=\"346\" y=\"76.7869\">«import»*</text></a></g><!--MD5=[4735aefadfa2e5978451eb08fa1f3993]\n",
       "reverse link E4 to E3--><g id=\"link_E4_E3\"><a href=\"psysml:70fb76d3-4397-496c-b537-fd7ec6ee6db2\" target=\"_top\" title=\"psysml:70fb76d3-4397-496c-b537-fd7ec6ee6db2\" xlink:actuate=\"onRequest\" xlink:href=\"psysml:70fb76d3-4397-496c-b537-fd7ec6ee6db2\" xlink:show=\"new\" xlink:title=\"psysml:70fb76d3-4397-496c-b537-fd7ec6ee6db2\" xlink:type=\"simple\"><path d=\"M558.47,224.01 C550.61,243.1 540.73,267.08 531.96,288.4 \" fill=\"none\" id=\"E4-backto-E3\" style=\"stroke:#181818;stroke-width:1.0;\"/><polygon fill=\"none\" points=\"563.43,211.96,557.4497,215.9894,558.869,223.0594,564.8493,219.0301,563.43,211.96\" style=\"stroke:#181818;stroke-width:1.0;\"/><text fill=\"#000000\" font-family=\"sans-serif\" font-size=\"13\" lengthAdjust=\"spacing\" textLength=\"114\" x=\"551\" y=\"254.7869\">classificationLevel</text></a></g><!--MD5=[e45404e07228fb3e2bc51ed8c07b1f2c]\n",
       "@startuml\r\n",
       "skin sysmlc\r\n",
       "skinparam wrapWidth 300\r\n",
       "hide circle\r\n",
       "\r\n",
       "package \"MetadataTest\" as E1  [[psysml:6bf27c65-dae0-4f69-b1ef-6329bb319dfc ]]  {\r\n",
       "package \"User Defined Extensions\" as E2  [[psysml:fde4dbf0-a827-4985-ab3d-be4806656b08 ]]  {\r\n",
       "comp def \"<i>ClassificationLevel</i>\" as E3 <<#Security>>[[psysml:875613db-282a-4c31-9ce2-2c5502fc9987 ]] {\r\n",
       "##//enums//##\r\n",
       "uncl: ClassificationLevel <U+003D> 0\r\n",
       "conf: ClassificationLevel <U+003D> 1\r\n",
       "secret: ClassificationLevel <U+003D> 2\r\n",
       "}\r\n",
       "comp def \"Classified\" as E4  <<(T,blue) metadata  def>> [[psysml:7d365ab2-02f5-4019-ac52-725960bbc954 ]] {\r\n",
       "}\r\n",
       "comp def \"Security\" as E5  <<(T,blue) metadata  def>> [[psysml:b54cb894-c9b4-4b22-a0a5-6c760d030873 ]] {\r\n",
       "}\r\n",
       "}\r\n",
       "comp usage \"z1  \" as E6 <<#Classified #Security>>[[psysml:09bb7bef-5578-400a-ab09-b89f3b478a84 ]] {\r\n",
       "}\r\n",
       "comp usage \"<i>z2</i>  \" as E7 <<#Classified>>[[psysml:fcfec3d1-5349-46cf-95eb-369f9c247e1c ]] {\r\n",
       "}\r\n",
       "}\r\n",
       "E1 ..> E2 [[psysml:7790dee3-4a68-47c5-b25f-526a96f63664 ]] : <<import>>*\r\n",
       "E4 o- - E3 [[psysml:70fb76d3-4397-496c-b537-fd7ec6ee6db2 ]] : classificationLevel\r\n",
       "@enduml\r\n",
       "\n",
       "PlantUML version 1.2022.7(Mon Aug 22 17:01:30 UTC 2022)\n",
       "(EPL source distribution)\n",
       "Java Runtime: OpenJDK Runtime Environment\n",
       "JVM: OpenJDK 64-Bit Server VM\n",
       "Default Encoding: UTF-8\n",
       "Language: en\n",
       "Country: null\n",
       "--></g></svg>"
      ]
     },
     "execution_count": 24,
     "metadata": {},
     "output_type": "execute_result"
    }
   ],
   "source": [
    "%viz --style=\"STDCOLOR\" --view=\"Tree\" \"MetadataTest\""
   ]
  },
  {
   "cell_type": "code",
   "execution_count": 25,
   "id": "47ae3b6c",
   "metadata": {
    "execution": {
     "iopub.execute_input": "2024-12-16T03:28:23.697497Z",
     "iopub.status.busy": "2024-12-16T03:28:23.697236Z",
     "iopub.status.idle": "2024-12-16T03:28:23.711858Z",
     "shell.execute_reply": "2024-12-16T03:28:23.711025Z"
    }
   },
   "outputs": [
    {
     "data": {
      "image/svg+xml": [
       "<?xml version=\"1.0\" encoding=\"UTF-8\" standalone=\"no\"?><svg xmlns=\"http://www.w3.org/2000/svg\" xmlns:xlink=\"http://www.w3.org/1999/xlink\" contentStyleType=\"text/css\" height=\"96px\" preserveAspectRatio=\"none\" style=\"width:912px;height:96px;background:#FFFFFF;\" version=\"1.1\" viewBox=\"0 0 912 96\" width=\"912px\" zoomAndPan=\"magnify\"><defs><filter height=\"300%\" id=\"f610zjglcugq5\" width=\"300%\" x=\"-1\" y=\"-1\"><feGaussianBlur result=\"blurOut\" stdDeviation=\"2.0\"/><feColorMatrix in=\"blurOut\" result=\"blurOut2\" type=\"matrix\" values=\"0 0 0 0 0 0 0 0 0 0 0 0 0 0 0 0 0 0 .4 0\"/><feOffset dx=\"4.0\" dy=\"4.0\" in=\"blurOut2\" result=\"blurOut3\"/><feBlend in=\"SourceGraphic\" in2=\"blurOut3\" mode=\"normal\"/></filter></defs><g><g id=\"elem_E1\"><path d=\"M6,13.5 L6,82.0448 L315,82.0448 L315,23.5 L305,13.5 L6,13.5 \" fill=\"#FEFFDD\" filter=\"url(#f610zjglcugq5)\" style=\"stroke:#181818;stroke-width:0.5;\"/><path d=\"M305,13.5 L305,23.5 L315,23.5 L305,13.5 \" fill=\"#FEFFDD\" style=\"stroke:#181818;stroke-width:1.0;\"/><text fill=\"#000000\" font-family=\"monospace\" font-size=\"13\" lengthAdjust=\"spacing\" textLength=\"112\" x=\"12\" y=\"32.397\">              </text><a href=\"psysml:ccd30bed-0f75-43dd-8560-a117ef71fdae\" target=\"_top\" title=\"psysml:ccd30bed-0f75-43dd-8560-a117ef71fdae\" xlink:actuate=\"onRequest\" xlink:href=\"psysml:ccd30bed-0f75-43dd-8560-a117ef71fdae\" xlink:show=\"new\" xlink:title=\"psysml:ccd30bed-0f75-43dd-8560-a117ef71fdae\" xlink:type=\"simple\"><text fill=\"#0000FF\" font-family=\"sans-serif\" font-size=\"13\" lengthAdjust=\"spacing\" text-decoration=\"underline\" textLength=\"79\" x=\"124\" y=\"33.1401\">«metadata»</text></a><text fill=\"#000000\" font-family=\"monospace\" font-size=\"13\" font-style=\"italic\" lengthAdjust=\"spacing\" textLength=\"112\" x=\"12\" y=\"50.103\">              </text><text fill=\"#000000\" font-family=\"sans-serif\" font-size=\"13\" font-style=\"italic\" lengthAdjust=\"spacing\" textLength=\"60\" x=\"124\" y=\"50.8461\">Classified</text><line style=\"stroke:#181818;stroke-width:1.0;\" x1=\"7\" x2=\"314\" y1=\"53.912\" y2=\"53.912\"/><text fill=\"#000000\" font-family=\"sans-serif\" font-size=\"13\" lengthAdjust=\"spacing\" textLength=\"288\" x=\"12\" y=\"69.9789\">classificationLevel =  ClassificationLevel::conf</text></g><g id=\"elem_E2\"><path d=\"M350,13.5 L350,82.0448 L659,82.0448 L659,23.5 L649,13.5 L350,13.5 \" fill=\"#FEFFDD\" filter=\"url(#f610zjglcugq5)\" style=\"stroke:#181818;stroke-width:0.5;\"/><path d=\"M649,13.5 L649,23.5 L659,23.5 L649,13.5 \" fill=\"#FEFFDD\" style=\"stroke:#181818;stroke-width:1.0;\"/><text fill=\"#000000\" font-family=\"monospace\" font-size=\"13\" lengthAdjust=\"spacing\" textLength=\"112\" x=\"356\" y=\"32.397\">              </text><a href=\"psysml:a50d3885-9ceb-42ed-af81-8542a216cf29\" target=\"_top\" title=\"psysml:a50d3885-9ceb-42ed-af81-8542a216cf29\" xlink:actuate=\"onRequest\" xlink:href=\"psysml:a50d3885-9ceb-42ed-af81-8542a216cf29\" xlink:show=\"new\" xlink:title=\"psysml:a50d3885-9ceb-42ed-af81-8542a216cf29\" xlink:type=\"simple\"><text fill=\"#0000FF\" font-family=\"sans-serif\" font-size=\"13\" lengthAdjust=\"spacing\" text-decoration=\"underline\" textLength=\"79\" x=\"468\" y=\"33.1401\">«metadata»</text></a><text fill=\"#000000\" font-family=\"monospace\" font-size=\"13\" font-style=\"italic\" lengthAdjust=\"spacing\" textLength=\"112\" x=\"356\" y=\"50.103\">              </text><text fill=\"#000000\" font-family=\"sans-serif\" font-size=\"13\" font-style=\"italic\" lengthAdjust=\"spacing\" textLength=\"60\" x=\"468\" y=\"50.8461\">Classified</text><line style=\"stroke:#181818;stroke-width:1.0;\" x1=\"351\" x2=\"658\" y1=\"53.912\" y2=\"53.912\"/><text fill=\"#000000\" font-family=\"sans-serif\" font-size=\"13\" lengthAdjust=\"spacing\" textLength=\"288\" x=\"356\" y=\"69.9789\">classificationLevel =  ClassificationLevel::conf</text></g><g id=\"elem_E3\"><path d=\"M693.5,6 L693.5,89.6777 L905.5,89.6777 L905.5,16 L895.5,6 L693.5,6 \" fill=\"#FEFFDD\" filter=\"url(#f610zjglcugq5)\" style=\"stroke:#181818;stroke-width:0.5;\"/><path d=\"M895.5,6 L895.5,16 L905.5,16 L895.5,6 \" fill=\"#FEFFDD\" style=\"stroke:#181818;stroke-width:1.0;\"/><text fill=\"#000000\" font-family=\"monospace\" font-size=\"13\" lengthAdjust=\"spacing\" textLength=\"112\" x=\"699.5\" y=\"24.897\">              </text><a href=\"psysml:7eb290c6-6d6c-4277-b27a-b35f0e599ca6\" target=\"_top\" title=\"psysml:7eb290c6-6d6c-4277-b27a-b35f0e599ca6\" xlink:actuate=\"onRequest\" xlink:href=\"psysml:7eb290c6-6d6c-4277-b27a-b35f0e599ca6\" xlink:show=\"new\" xlink:title=\"psysml:7eb290c6-6d6c-4277-b27a-b35f0e599ca6\" xlink:type=\"simple\"><text fill=\"#0000FF\" font-family=\"sans-serif\" font-size=\"13\" lengthAdjust=\"spacing\" text-decoration=\"underline\" textLength=\"79\" x=\"811.5\" y=\"25.6401\">«metadata»</text></a><text fill=\"#000000\" font-family=\"monospace\" font-size=\"13\" font-style=\"italic\" lengthAdjust=\"spacing\" textLength=\"112\" x=\"699.5\" y=\"42.603\">              </text><text fill=\"#000000\" font-family=\"sans-serif\" font-size=\"13\" font-style=\"italic\" lengthAdjust=\"spacing\" textLength=\"60\" x=\"811.5\" y=\"43.3461\">Classified</text><line style=\"stroke:#181818;stroke-width:1.0;\" x1=\"694.5\" x2=\"904.5\" y1=\"46.412\" y2=\"46.412\"/><text fill=\"#000000\" font-family=\"sans-serif\" font-size=\"13\" lengthAdjust=\"spacing\" textLength=\"129\" x=\"699.5\" y=\"62.4789\">classificationLevel =</text><text fill=\"#000000\" font-family=\"sans-serif\" font-size=\"13\" lengthAdjust=\"spacing\" textLength=\"164\" x=\"699.5\" y=\"77.6117\">ClassificationLevel::secret</text></g><!--MD5=[56cd596e424dbee0f5d8088ce1d17c63]\n",
       "@startuml\r\n",
       "skin sysmlc\r\n",
       "skinparam wrapWidth 300\r\n",
       "hide circle\r\n",
       "\r\n",
       "note as E1\r\n",
       "\"\"              \"\"[[psysml:ccd30bed-0f75-43dd-8560-a117ef71fdae «metadata»]]\r\n",
       "==== \"\"              \"\"Classified\r\n",
       "- -\r\n",
       "classificationLevel =  ClassificationLevel::conf\r\n",
       "end note\r\n",
       "note as E2\r\n",
       "\"\"              \"\"[[psysml:a50d3885-9ceb-42ed-af81-8542a216cf29 «metadata»]]\r\n",
       "==== \"\"              \"\"Classified\r\n",
       "- -\r\n",
       "classificationLevel =  ClassificationLevel::conf\r\n",
       "end note\r\n",
       "note as E3\r\n",
       "\"\"              \"\"[[psysml:7eb290c6-6d6c-4277-b27a-b35f0e599ca6 «metadata»]]\r\n",
       "==== \"\"              \"\"Classified\r\n",
       "- -\r\n",
       "classificationLevel =  ClassificationLevel::secret\r\n",
       "end note\r\n",
       "@enduml\r\n",
       "\n",
       "PlantUML version 1.2022.7(Mon Aug 22 17:01:30 UTC 2022)\n",
       "(EPL source distribution)\n",
       "Java Runtime: OpenJDK Runtime Environment\n",
       "JVM: OpenJDK 64-Bit Server VM\n",
       "Default Encoding: UTF-8\n",
       "Language: en\n",
       "Country: null\n",
       "--></g></svg>"
      ]
     },
     "execution_count": 25,
     "metadata": {},
     "output_type": "execute_result"
    }
   ],
   "source": [
    "%viz --style=\"STDCOLOR\" --view=\"State\" \"MetadataTest\""
   ]
  },
  {
   "cell_type": "code",
   "execution_count": 26,
   "id": "dff4159b",
   "metadata": {
    "execution": {
     "iopub.execute_input": "2024-12-16T03:28:23.769262Z",
     "iopub.status.busy": "2024-12-16T03:28:23.769024Z",
     "iopub.status.idle": "2024-12-16T03:28:23.792735Z",
     "shell.execute_reply": "2024-12-16T03:28:23.791896Z"
    }
   },
   "outputs": [
    {
     "data": {
      "image/svg+xml": [
       "<?xml version=\"1.0\" encoding=\"UTF-8\" standalone=\"no\"?><svg xmlns=\"http://www.w3.org/2000/svg\" xmlns:xlink=\"http://www.w3.org/1999/xlink\" contentStyleType=\"text/css\" height=\"257px\" preserveAspectRatio=\"none\" style=\"width:1233px;height:257px;background:#FFFFFF;\" version=\"1.1\" viewBox=\"0 0 1233 257\" width=\"1233px\" zoomAndPan=\"magnify\"><defs><filter height=\"300%\" id=\"fyr0hy6i0hcjy\" width=\"300%\" x=\"-1\" y=\"-1\"><feGaussianBlur result=\"blurOut\" stdDeviation=\"2.0\"/><feColorMatrix in=\"blurOut\" result=\"blurOut2\" type=\"matrix\" values=\"0 0 0 0 0 0 0 0 0 0 0 0 0 0 0 0 0 0 .4 0\"/><feOffset dx=\"4.0\" dy=\"4.0\" in=\"blurOut2\" result=\"blurOut3\"/><feBlend in=\"SourceGraphic\" in2=\"blurOut3\" mode=\"normal\"/></filter></defs><g><!--MD5=[fbc87193dbaf4d95561dea2c320d4a47]\n",
       "cluster E1--><g id=\"cluster_E1\"><a href=\"psysml:6bf27c65-dae0-4f69-b1ef-6329bb319dfc\" target=\"_top\" title=\"psysml:6bf27c65-dae0-4f69-b1ef-6329bb319dfc\" xlink:actuate=\"onRequest\" xlink:href=\"psysml:6bf27c65-dae0-4f69-b1ef-6329bb319dfc\" xlink:show=\"new\" xlink:title=\"psysml:6bf27c65-dae0-4f69-b1ef-6329bb319dfc\" xlink:type=\"simple\"><polygon fill=\"none\" filter=\"url(#fyr0hy6i0hcjy)\" points=\"16,6,122.25,6,129.25,28.2969,1216,28.2969,1216,250.72,16,250.72,16,6\" style=\"stroke:#000000;stroke-width:1.5;\"/><line style=\"stroke:#000000;stroke-width:1.5;\" x1=\"16\" x2=\"129.25\" y1=\"28.2969\" y2=\"28.2969\"/><text fill=\"#000000\" font-family=\"sans-serif\" font-size=\"14\" font-weight=\"bold\" lengthAdjust=\"spacing\" textLength=\"100.25\" x=\"20\" y=\"20.9951\">MetadataTest</text></a></g><!--MD5=[e4f7fae6ed58524ba242bb0b0d3be6b7]\n",
       "cluster E2--><g id=\"cluster_E2\"><a href=\"psysml:fde4dbf0-a827-4985-ab3d-be4806656b08\" target=\"_top\" title=\"psysml:fde4dbf0-a827-4985-ab3d-be4806656b08\" xlink:actuate=\"onRequest\" xlink:href=\"psysml:fde4dbf0-a827-4985-ab3d-be4806656b08\" xlink:show=\"new\" xlink:title=\"psysml:fde4dbf0-a827-4985-ab3d-be4806656b08\" xlink:type=\"simple\"><polygon fill=\"none\" filter=\"url(#fyr0hy6i0hcjy)\" points=\"683,98.72,868.1875,98.72,875.1875,121.0169,1176,121.0169,1176,210.72,683,210.72,683,98.72\" style=\"stroke:#000000;stroke-width:1.5;\"/><line style=\"stroke:#000000;stroke-width:1.5;\" x1=\"683\" x2=\"875.1875\" y1=\"121.0169\" y2=\"121.0169\"/><text fill=\"#000000\" font-family=\"sans-serif\" font-size=\"14\" font-weight=\"bold\" lengthAdjust=\"spacing\" textLength=\"179.1875\" x=\"687\" y=\"113.7151\">User Defined Extensions</text></a></g><!--MD5=[60a26617385b1d2d0262a64233df1f8d]\n",
       "class E6--><a href=\"psysml:ab215fb4-7997-4c5e-99e0-8fea9c1d3082\" target=\"_top\" title=\"psysml:ab215fb4-7997-4c5e-99e0-8fea9c1d3082\" xlink:actuate=\"onRequest\" xlink:href=\"psysml:ab215fb4-7997-4c5e-99e0-8fea9c1d3082\" xlink:show=\"new\" xlink:title=\"psysml:ab215fb4-7997-4c5e-99e0-8fea9c1d3082\" xlink:type=\"simple\"><g id=\"elem_E6\"><rect fill=\"#FFFACD\" filter=\"url(#fyr0hy6i0hcjy)\" height=\"56.2656\" id=\"E6\" rx=\"10\" ry=\"10\" style=\"stroke:#181818;stroke-width:0.5;\" width=\"77\" x=\"578.5\" y=\"136.22\"/><text fill=\"#000000\" font-family=\"sans-serif\" font-size=\"12\" font-style=\"italic\" lengthAdjust=\"spacing\" textLength=\"75\" x=\"579.5\" y=\"152.3587\">«reference»</text><text fill=\"#000000\" font-family=\"sans-serif\" font-size=\"14\" lengthAdjust=\"spacing\" textLength=\"7\" x=\"609.5\" y=\"168.1839\">x</text><line style=\"stroke:#181818;stroke-width:0.5;\" x1=\"579.5\" x2=\"654.5\" y1=\"176.4856\" y2=\"176.4856\"/><line style=\"stroke:#181818;stroke-width:0.5;\" x1=\"579.5\" x2=\"654.5\" y1=\"184.4856\" y2=\"184.4856\"/></g></a><!--MD5=[2156ba9850f5573cc1fc38a6a4b2f02b]\n",
       "class E7--><a href=\"psysml:c7350727-55c2-4532-b138-8da3db2b593b\" target=\"_top\" title=\"psysml:c7350727-55c2-4532-b138-8da3db2b593b\" xlink:actuate=\"onRequest\" xlink:href=\"psysml:c7350727-55c2-4532-b138-8da3db2b593b\" xlink:show=\"new\" xlink:title=\"psysml:c7350727-55c2-4532-b138-8da3db2b593b\" xlink:type=\"simple\"><g id=\"elem_E7\"><rect fill=\"#FFFACD\" filter=\"url(#fyr0hy6i0hcjy)\" height=\"56.2656\" id=\"E7\" rx=\"10\" ry=\"10\" style=\"stroke:#181818;stroke-width:0.5;\" width=\"76\" x=\"467\" y=\"136.22\"/><text fill=\"#000000\" font-family=\"sans-serif\" font-size=\"12\" font-style=\"italic\" lengthAdjust=\"spacing\" textLength=\"74\" x=\"468\" y=\"152.3587\">«#Security»</text><text fill=\"#000000\" font-family=\"sans-serif\" font-size=\"14\" lengthAdjust=\"spacing\" textLength=\"7\" x=\"497.5\" y=\"168.1839\">y</text><line style=\"stroke:#181818;stroke-width:0.5;\" x1=\"468\" x2=\"542\" y1=\"176.4856\" y2=\"176.4856\"/><line style=\"stroke:#181818;stroke-width:0.5;\" x1=\"468\" x2=\"542\" y1=\"184.4856\" y2=\"184.4856\"/></g></a><!--MD5=[96f4274e9e20536e775497830990834d]\n",
       "class E10--><a href=\"psysml:bedd784f-2083-437e-9a45-6e64d2c52a15\" target=\"_top\" title=\"psysml:bedd784f-2083-437e-9a45-6e64d2c52a15\" xlink:actuate=\"onRequest\" xlink:href=\"psysml:bedd784f-2083-437e-9a45-6e64d2c52a15\" xlink:show=\"new\" xlink:title=\"psysml:bedd784f-2083-437e-9a45-6e64d2c52a15\" xlink:type=\"simple\"><g id=\"elem_E10\"><rect fill=\"#FFFACD\" filter=\"url(#fyr0hy6i0hcjy)\" height=\"56.2656\" id=\"E10\" rx=\"10\" ry=\"10\" style=\"stroke:#181818;stroke-width:0.5;\" width=\"77\" x=\"354.5\" y=\"136.22\"/><text fill=\"#000000\" font-family=\"sans-serif\" font-size=\"12\" font-style=\"italic\" lengthAdjust=\"spacing\" textLength=\"75\" x=\"355.5\" y=\"152.3587\">«reference»</text><text fill=\"#000000\" font-family=\"sans-serif\" font-size=\"14\" lengthAdjust=\"spacing\" textLength=\"8\" x=\"385\" y=\"168.1839\">z</text><line style=\"stroke:#181818;stroke-width:0.5;\" x1=\"355.5\" x2=\"430.5\" y1=\"176.4856\" y2=\"176.4856\"/><line style=\"stroke:#181818;stroke-width:0.5;\" x1=\"355.5\" x2=\"430.5\" y1=\"184.4856\" y2=\"184.4856\"/></g></a><g><a href=\"psysml:875613db-282a-4c31-9ce2-2c5502fc9987\" target=\"_top\" title=\"psysml:875613db-282a-4c31-9ce2-2c5502fc9987\" xlink:actuate=\"onRequest\" xlink:href=\"psysml:875613db-282a-4c31-9ce2-2c5502fc9987\" xlink:show=\"new\" xlink:title=\"psysml:875613db-282a-4c31-9ce2-2c5502fc9987\" xlink:type=\"simple\"><rect fill=\"#FFFACD\" filter=\"url(#fyr0hy6i0hcjy)\" height=\"45.2656\" id=\"E3\" style=\"stroke:#A80036;stroke-width:1.5;\" width=\"135\" x=\"1016.5\" y=\"141.72\"/><text fill=\"#000000\" font-family=\"sans-serif\" font-size=\"12\" font-style=\"italic\" lengthAdjust=\"spacing\" textLength=\"74\" x=\"1047\" y=\"157.8587\">«#Security»</text><text fill=\"#000000\" font-family=\"sans-serif\" font-size=\"14\" font-style=\"italic\" lengthAdjust=\"spacing\" textLength=\"124\" x=\"1022\" y=\"173.6839\">ClassificationLevel</text></a></g><g><a href=\"psysml:7d365ab2-02f5-4019-ac52-725960bbc954\" target=\"_top\" title=\"psysml:7d365ab2-02f5-4019-ac52-725960bbc954\" xlink:actuate=\"onRequest\" xlink:href=\"psysml:7d365ab2-02f5-4019-ac52-725960bbc954\" xlink:show=\"new\" xlink:title=\"psysml:7d365ab2-02f5-4019-ac52-725960bbc954\" xlink:type=\"simple\"><rect fill=\"#FFFACD\" filter=\"url(#fyr0hy6i0hcjy)\" height=\"45.2656\" id=\"E4\" style=\"stroke:#A80036;stroke-width:1.5;\" width=\"110\" x=\"871\" y=\"141.72\"/><text fill=\"#000000\" font-family=\"sans-serif\" font-size=\"12\" font-style=\"italic\" lengthAdjust=\"spacing\" textLength=\"103\" x=\"874.5\" y=\"157.8587\">«metadata  def»</text><text fill=\"#000000\" font-family=\"sans-serif\" font-size=\"14\" lengthAdjust=\"spacing\" textLength=\"65\" x=\"893.5\" y=\"173.6839\">Classified</text></a></g><g><a href=\"psysml:b54cb894-c9b4-4b22-a0a5-6c760d030873\" target=\"_top\" title=\"psysml:b54cb894-c9b4-4b22-a0a5-6c760d030873\" xlink:actuate=\"onRequest\" xlink:href=\"psysml:b54cb894-c9b4-4b22-a0a5-6c760d030873\" xlink:show=\"new\" xlink:title=\"psysml:b54cb894-c9b4-4b22-a0a5-6c760d030873\" xlink:type=\"simple\"><rect fill=\"#FFFACD\" filter=\"url(#fyr0hy6i0hcjy)\" height=\"45.2656\" id=\"E5\" style=\"stroke:#A80036;stroke-width:1.5;\" width=\"110\" x=\"726\" y=\"141.72\"/><text fill=\"#000000\" font-family=\"sans-serif\" font-size=\"12\" font-style=\"italic\" lengthAdjust=\"spacing\" textLength=\"103\" x=\"729.5\" y=\"157.8587\">«metadata  def»</text><text fill=\"#000000\" font-family=\"sans-serif\" font-size=\"14\" lengthAdjust=\"spacing\" textLength=\"55\" x=\"753.5\" y=\"173.6839\">Security</text></a></g><g><a href=\"psysml:09bb7bef-5578-400a-ab09-b89f3b478a84\" target=\"_top\" title=\"psysml:09bb7bef-5578-400a-ab09-b89f3b478a84\" xlink:actuate=\"onRequest\" xlink:href=\"psysml:09bb7bef-5578-400a-ab09-b89f3b478a84\" xlink:show=\"new\" xlink:title=\"psysml:09bb7bef-5578-400a-ab09-b89f3b478a84\" xlink:type=\"simple\"><rect fill=\"#FFFACD\" filter=\"url(#fyr0hy6i0hcjy)\" height=\"45.2656\" id=\"E8\" rx=\"10\" ry=\"10\" style=\"stroke:#A80036;stroke-width:1.5;\" width=\"154\" x=\"165\" y=\"141.72\"/><text fill=\"#000000\" font-family=\"sans-serif\" font-size=\"12\" font-style=\"italic\" lengthAdjust=\"spacing\" textLength=\"147\" x=\"168.5\" y=\"157.8587\">«#Classified #Security»</text><text fill=\"#000000\" font-family=\"sans-serif\" font-size=\"14\" lengthAdjust=\"spacing\" textLength=\"17\" x=\"233.5\" y=\"173.6839\">z1</text></a></g><g><a href=\"psysml:fcfec3d1-5349-46cf-95eb-369f9c247e1c\" target=\"_top\" title=\"psysml:fcfec3d1-5349-46cf-95eb-369f9c247e1c\" xlink:actuate=\"onRequest\" xlink:href=\"psysml:fcfec3d1-5349-46cf-95eb-369f9c247e1c\" xlink:show=\"new\" xlink:title=\"psysml:fcfec3d1-5349-46cf-95eb-369f9c247e1c\" xlink:type=\"simple\"><rect fill=\"#FFFACD\" filter=\"url(#fyr0hy6i0hcjy)\" height=\"45.2656\" id=\"E9\" rx=\"10\" ry=\"10\" style=\"stroke:#A80036;stroke-width:1.5;\" width=\"90\" x=\"40\" y=\"141.72\"/><text fill=\"#000000\" font-family=\"sans-serif\" font-size=\"12\" font-style=\"italic\" lengthAdjust=\"spacing\" textLength=\"83\" x=\"43.5\" y=\"157.8587\">«#Classified»</text><text fill=\"#000000\" font-family=\"sans-serif\" font-size=\"14\" font-style=\"italic\" lengthAdjust=\"spacing\" textLength=\"17\" x=\"76.5\" y=\"173.6839\">z2</text></a></g><!--MD5=[1f1cd8e6dd4c1b2ca2aaccc9b9bcea6e]\n",
       "link E1 to E2--><g id=\"link_E1_E2\"><a href=\"psysml:7790dee3-4a68-47c5-b25f-526a96f63664\" target=\"_top\" title=\"psysml:7790dee3-4a68-47c5-b25f-526a96f63664\" xlink:actuate=\"onRequest\" xlink:href=\"psysml:7790dee3-4a68-47c5-b25f-526a96f63664\" xlink:show=\"new\" xlink:title=\"psysml:7790dee3-4a68-47c5-b25f-526a96f63664\" xlink:type=\"simple\"><path d=\"M691,33.81 C691,35.74 691,67.12 691,98.4925 \" fill=\"none\" id=\"E1-to-E2\" style=\"stroke:#181818;stroke-width:1.0;stroke-dasharray:7.0,7.0;\"/><polygon fill=\"#181818\" points=\"691,98.4925,695,89.4925,691,93.4925,687,89.4925,691,98.4925\" style=\"stroke:#181818;stroke-width:1.0;\"/><text fill=\"#000000\" font-family=\"sans-serif\" font-size=\"13\" lengthAdjust=\"spacing\" textLength=\"65\" x=\"692\" y=\"54.7869\">«import»*</text></a></g><!--MD5=[2d0448f72da1cef7d07244262312ca65]\n",
       "@startuml\r\n",
       "skin sysmlc\r\n",
       "skinparam wrapWidth 300\r\n",
       "hide circle\r\n",
       "skinparam ranksep 10\r\n",
       "skinparam rectangle {\r\n",
       " backgroundColor<<block>> LightGreen\r\n",
       "}\r\n",
       "\r\n",
       "package \"MetadataTest\" as E1  [[psysml:6bf27c65-dae0-4f69-b1ef-6329bb319dfc ]]  {\r\n",
       "package \"User Defined Extensions\" as E2  [[psysml:fde4dbf0-a827-4985-ab3d-be4806656b08 ]]  {\r\n",
       "def \"<i>ClassificationLevel</i>\" as E3 <<#Security>>[[psysml:875613db-282a-4c31-9ce2-2c5502fc9987 ]] \r\n",
       "def \"Classified\" as E4  <<(T,blue) metadata  def>> [[psysml:7d365ab2-02f5-4019-ac52-725960bbc954 ]] \r\n",
       "def \"Security\" as E5  <<(T,blue) metadata  def>> [[psysml:b54cb894-c9b4-4b22-a0a5-6c760d030873 ]] \r\n",
       "}\r\n",
       "usage \"x  \" as E6  <<(T,blue) reference>> [[psysml:ab215fb4-7997-4c5e-99e0-8fea9c1d3082 ]] \r\n",
       "usage \"y  \" as E7 <<#Security>>[[psysml:c7350727-55c2-4532-b138-8da3db2b593b ]] \r\n",
       "rec usage \"z1\" as E8 <<#Classified #Security>>[[psysml:09bb7bef-5578-400a-ab09-b89f3b478a84 ]] {\r\n",
       "}\r\n",
       "rec usage \"<i>z2</i>\" as E9 <<#Classified>>[[psysml:fcfec3d1-5349-46cf-95eb-369f9c247e1c ]] {\r\n",
       "}\r\n",
       "usage \"z  \" as E10  <<(T,blue) reference>> [[psysml:bedd784f-2083-437e-9a45-6e64d2c52a15 ]] \r\n",
       "}\r\n",
       "E1 ..> E2 [[psysml:7790dee3-4a68-47c5-b25f-526a96f63664 ]] : <<import>>*\r\n",
       "@enduml\r\n",
       "\n",
       "PlantUML version 1.2022.7(Mon Aug 22 17:01:30 UTC 2022)\n",
       "(EPL source distribution)\n",
       "Java Runtime: OpenJDK Runtime Environment\n",
       "JVM: OpenJDK 64-Bit Server VM\n",
       "Default Encoding: UTF-8\n",
       "Language: en\n",
       "Country: null\n",
       "--></g></svg>"
      ]
     },
     "execution_count": 26,
     "metadata": {},
     "output_type": "execute_result"
    }
   ],
   "source": [
    "%viz --style=\"STDCOLOR\" --view=\"Interconnection\" \"MetadataTest\""
   ]
  },
  {
   "cell_type": "code",
   "execution_count": 27,
   "id": "3cad918c",
   "metadata": {
    "execution": {
     "iopub.execute_input": "2024-12-16T03:28:23.849103Z",
     "iopub.status.busy": "2024-12-16T03:28:23.848853Z",
     "iopub.status.idle": "2024-12-16T03:28:23.867414Z",
     "shell.execute_reply": "2024-12-16T03:28:23.866429Z"
    }
   },
   "outputs": [
    {
     "data": {
      "image/svg+xml": [
       "<?xml version=\"1.0\" encoding=\"UTF-8\" standalone=\"no\"?><svg xmlns=\"http://www.w3.org/2000/svg\" xmlns:xlink=\"http://www.w3.org/1999/xlink\" contentStyleType=\"text/css\" height=\"96px\" preserveAspectRatio=\"none\" style=\"width:912px;height:96px;background:#FFFFFF;\" version=\"1.1\" viewBox=\"0 0 912 96\" width=\"912px\" zoomAndPan=\"magnify\"><defs><filter height=\"300%\" id=\"f1vk7vlnmjjusu\" width=\"300%\" x=\"-1\" y=\"-1\"><feGaussianBlur result=\"blurOut\" stdDeviation=\"2.0\"/><feColorMatrix in=\"blurOut\" result=\"blurOut2\" type=\"matrix\" values=\"0 0 0 0 0 0 0 0 0 0 0 0 0 0 0 0 0 0 .4 0\"/><feOffset dx=\"4.0\" dy=\"4.0\" in=\"blurOut2\" result=\"blurOut3\"/><feBlend in=\"SourceGraphic\" in2=\"blurOut3\" mode=\"normal\"/></filter></defs><g><g id=\"elem_E1\"><path d=\"M6,13.5 L6,82.0448 L315,82.0448 L315,23.5 L305,13.5 L6,13.5 \" fill=\"#FEFFDD\" filter=\"url(#f1vk7vlnmjjusu)\" style=\"stroke:#181818;stroke-width:0.5;\"/><path d=\"M305,13.5 L305,23.5 L315,23.5 L305,13.5 \" fill=\"#FEFFDD\" style=\"stroke:#181818;stroke-width:1.0;\"/><text fill=\"#000000\" font-family=\"monospace\" font-size=\"13\" lengthAdjust=\"spacing\" textLength=\"112\" x=\"12\" y=\"32.397\">              </text><a href=\"psysml:ccd30bed-0f75-43dd-8560-a117ef71fdae\" target=\"_top\" title=\"psysml:ccd30bed-0f75-43dd-8560-a117ef71fdae\" xlink:actuate=\"onRequest\" xlink:href=\"psysml:ccd30bed-0f75-43dd-8560-a117ef71fdae\" xlink:show=\"new\" xlink:title=\"psysml:ccd30bed-0f75-43dd-8560-a117ef71fdae\" xlink:type=\"simple\"><text fill=\"#0000FF\" font-family=\"sans-serif\" font-size=\"13\" lengthAdjust=\"spacing\" text-decoration=\"underline\" textLength=\"79\" x=\"124\" y=\"33.1401\">«metadata»</text></a><text fill=\"#000000\" font-family=\"monospace\" font-size=\"13\" font-style=\"italic\" lengthAdjust=\"spacing\" textLength=\"112\" x=\"12\" y=\"50.103\">              </text><text fill=\"#000000\" font-family=\"sans-serif\" font-size=\"13\" font-style=\"italic\" lengthAdjust=\"spacing\" textLength=\"60\" x=\"124\" y=\"50.8461\">Classified</text><line style=\"stroke:#181818;stroke-width:1.0;\" x1=\"7\" x2=\"314\" y1=\"53.912\" y2=\"53.912\"/><text fill=\"#000000\" font-family=\"sans-serif\" font-size=\"13\" lengthAdjust=\"spacing\" textLength=\"288\" x=\"12\" y=\"69.9789\">classificationLevel =  ClassificationLevel::conf</text></g><g id=\"elem_E2\"><path d=\"M350,13.5 L350,82.0448 L659,82.0448 L659,23.5 L649,13.5 L350,13.5 \" fill=\"#FEFFDD\" filter=\"url(#f1vk7vlnmjjusu)\" style=\"stroke:#181818;stroke-width:0.5;\"/><path d=\"M649,13.5 L649,23.5 L659,23.5 L649,13.5 \" fill=\"#FEFFDD\" style=\"stroke:#181818;stroke-width:1.0;\"/><text fill=\"#000000\" font-family=\"monospace\" font-size=\"13\" lengthAdjust=\"spacing\" textLength=\"112\" x=\"356\" y=\"32.397\">              </text><a href=\"psysml:a50d3885-9ceb-42ed-af81-8542a216cf29\" target=\"_top\" title=\"psysml:a50d3885-9ceb-42ed-af81-8542a216cf29\" xlink:actuate=\"onRequest\" xlink:href=\"psysml:a50d3885-9ceb-42ed-af81-8542a216cf29\" xlink:show=\"new\" xlink:title=\"psysml:a50d3885-9ceb-42ed-af81-8542a216cf29\" xlink:type=\"simple\"><text fill=\"#0000FF\" font-family=\"sans-serif\" font-size=\"13\" lengthAdjust=\"spacing\" text-decoration=\"underline\" textLength=\"79\" x=\"468\" y=\"33.1401\">«metadata»</text></a><text fill=\"#000000\" font-family=\"monospace\" font-size=\"13\" font-style=\"italic\" lengthAdjust=\"spacing\" textLength=\"112\" x=\"356\" y=\"50.103\">              </text><text fill=\"#000000\" font-family=\"sans-serif\" font-size=\"13\" font-style=\"italic\" lengthAdjust=\"spacing\" textLength=\"60\" x=\"468\" y=\"50.8461\">Classified</text><line style=\"stroke:#181818;stroke-width:1.0;\" x1=\"351\" x2=\"658\" y1=\"53.912\" y2=\"53.912\"/><text fill=\"#000000\" font-family=\"sans-serif\" font-size=\"13\" lengthAdjust=\"spacing\" textLength=\"288\" x=\"356\" y=\"69.9789\">classificationLevel =  ClassificationLevel::conf</text></g><g id=\"elem_E3\"><path d=\"M693.5,6 L693.5,89.6777 L905.5,89.6777 L905.5,16 L895.5,6 L693.5,6 \" fill=\"#FEFFDD\" filter=\"url(#f1vk7vlnmjjusu)\" style=\"stroke:#181818;stroke-width:0.5;\"/><path d=\"M895.5,6 L895.5,16 L905.5,16 L895.5,6 \" fill=\"#FEFFDD\" style=\"stroke:#181818;stroke-width:1.0;\"/><text fill=\"#000000\" font-family=\"monospace\" font-size=\"13\" lengthAdjust=\"spacing\" textLength=\"112\" x=\"699.5\" y=\"24.897\">              </text><a href=\"psysml:7eb290c6-6d6c-4277-b27a-b35f0e599ca6\" target=\"_top\" title=\"psysml:7eb290c6-6d6c-4277-b27a-b35f0e599ca6\" xlink:actuate=\"onRequest\" xlink:href=\"psysml:7eb290c6-6d6c-4277-b27a-b35f0e599ca6\" xlink:show=\"new\" xlink:title=\"psysml:7eb290c6-6d6c-4277-b27a-b35f0e599ca6\" xlink:type=\"simple\"><text fill=\"#0000FF\" font-family=\"sans-serif\" font-size=\"13\" lengthAdjust=\"spacing\" text-decoration=\"underline\" textLength=\"79\" x=\"811.5\" y=\"25.6401\">«metadata»</text></a><text fill=\"#000000\" font-family=\"monospace\" font-size=\"13\" font-style=\"italic\" lengthAdjust=\"spacing\" textLength=\"112\" x=\"699.5\" y=\"42.603\">              </text><text fill=\"#000000\" font-family=\"sans-serif\" font-size=\"13\" font-style=\"italic\" lengthAdjust=\"spacing\" textLength=\"60\" x=\"811.5\" y=\"43.3461\">Classified</text><line style=\"stroke:#181818;stroke-width:1.0;\" x1=\"694.5\" x2=\"904.5\" y1=\"46.412\" y2=\"46.412\"/><text fill=\"#000000\" font-family=\"sans-serif\" font-size=\"13\" lengthAdjust=\"spacing\" textLength=\"129\" x=\"699.5\" y=\"62.4789\">classificationLevel =</text><text fill=\"#000000\" font-family=\"sans-serif\" font-size=\"13\" lengthAdjust=\"spacing\" textLength=\"164\" x=\"699.5\" y=\"77.6117\">ClassificationLevel::secret</text></g><!--MD5=[dbb90c6a56093090ed80c2c93be43d1f]\n",
       "@startuml\r\n",
       "skin sysmlc\r\n",
       "skinparam wrapWidth 300\r\n",
       "hide circle\r\n",
       "skinparam ranksep 8\r\n",
       "\r\n",
       "note as E1\r\n",
       "\"\"              \"\"[[psysml:ccd30bed-0f75-43dd-8560-a117ef71fdae «metadata»]]\r\n",
       "==== \"\"              \"\"Classified\r\n",
       "- -\r\n",
       "classificationLevel =  ClassificationLevel::conf\r\n",
       "end note\r\n",
       "note as E2\r\n",
       "\"\"              \"\"[[psysml:a50d3885-9ceb-42ed-af81-8542a216cf29 «metadata»]]\r\n",
       "==== \"\"              \"\"Classified\r\n",
       "- -\r\n",
       "classificationLevel =  ClassificationLevel::conf\r\n",
       "end note\r\n",
       "note as E3\r\n",
       "\"\"              \"\"[[psysml:7eb290c6-6d6c-4277-b27a-b35f0e599ca6 «metadata»]]\r\n",
       "==== \"\"              \"\"Classified\r\n",
       "- -\r\n",
       "classificationLevel =  ClassificationLevel::secret\r\n",
       "end note\r\n",
       "@enduml\r\n",
       "\n",
       "PlantUML version 1.2022.7(Mon Aug 22 17:01:30 UTC 2022)\n",
       "(EPL source distribution)\n",
       "Java Runtime: OpenJDK Runtime Environment\n",
       "JVM: OpenJDK 64-Bit Server VM\n",
       "Default Encoding: UTF-8\n",
       "Language: en\n",
       "Country: null\n",
       "--></g></svg>"
      ]
     },
     "execution_count": 27,
     "metadata": {},
     "output_type": "execute_result"
    }
   ],
   "source": [
    "%viz --style=\"STDCOLOR\" --view=\"Action\" \"MetadataTest\""
   ]
  },
  {
   "cell_type": "code",
   "execution_count": 28,
   "id": "dbd6062b",
   "metadata": {
    "execution": {
     "iopub.execute_input": "2024-12-16T03:28:23.923094Z",
     "iopub.status.busy": "2024-12-16T03:28:23.922859Z",
     "iopub.status.idle": "2024-12-16T03:28:23.930319Z",
     "shell.execute_reply": "2024-12-16T03:28:23.930479Z"
    }
   },
   "outputs": [
    {
     "data": {
      "image/svg+xml": [
       "<?xml version=\"1.0\" encoding=\"UTF-8\" standalone=\"no\"?><svg xmlns=\"http://www.w3.org/2000/svg\" xmlns:xlink=\"http://www.w3.org/1999/xlink\" contentStyleType=\"text/css\" height=\"10px\" preserveAspectRatio=\"none\" style=\"width:10px;height:10px;background:#FFFFFF;\" version=\"1.1\" viewBox=\"0 0 10 10\" width=\"10px\" zoomAndPan=\"magnify\"><defs/><g><!--MD5=[e54413e611bf323face5c486cd3a32bb]\n",
       "@startuml\r\n",
       "skin sysmlc\r\n",
       "skinparam wrapWidth 300\r\n",
       "hide circle\r\n",
       "skinparam roundcorner 20\r\n",
       "skinparam BoxPadding 20\r\n",
       "skinparam SequenceBoxBackgroundColor #white\r\n",
       "skinparam style strictuml\r\n",
       "skinparam maxMessageSize 100\r\n",
       "\r\n",
       "@enduml\r\n",
       "\n",
       "PlantUML version 1.2022.7(Mon Aug 22 17:01:30 UTC 2022)\n",
       "(EPL source distribution)\n",
       "Java Runtime: OpenJDK Runtime Environment\n",
       "JVM: OpenJDK 64-Bit Server VM\n",
       "Default Encoding: UTF-8\n",
       "Language: en\n",
       "Country: null\n",
       "--></g></svg>"
      ]
     },
     "execution_count": 28,
     "metadata": {},
     "output_type": "execute_result"
    }
   ],
   "source": [
    "%viz --style=\"STDCOLOR\" --view=\"Sequence\" \"MetadataTest\""
   ]
  },
  {
   "cell_type": "code",
   "execution_count": 29,
   "id": "220c21a1",
   "metadata": {
    "execution": {
     "iopub.execute_input": "2024-12-16T03:28:23.984565Z",
     "iopub.status.busy": "2024-12-16T03:28:23.984353Z",
     "iopub.status.idle": "2024-12-16T03:28:24.009186Z",
     "shell.execute_reply": "2024-12-16T03:28:24.009021Z"
    }
   },
   "outputs": [
    {
     "data": {
      "image/svg+xml": [
       "<?xml version=\"1.0\" encoding=\"UTF-8\" standalone=\"no\"?><svg xmlns=\"http://www.w3.org/2000/svg\" xmlns:xlink=\"http://www.w3.org/1999/xlink\" contentStyleType=\"text/css\" height=\"467px\" preserveAspectRatio=\"none\" style=\"width:707px;height:467px;background:#FFFFFF;\" version=\"1.1\" viewBox=\"0 0 707 467\" width=\"707px\" zoomAndPan=\"magnify\"><defs><filter height=\"300%\" id=\"f1lq2io7mlsubp\" width=\"300%\" x=\"-1\" y=\"-1\"><feGaussianBlur result=\"blurOut\" stdDeviation=\"2.0\"/><feColorMatrix in=\"blurOut\" result=\"blurOut2\" type=\"matrix\" values=\"0 0 0 0 0 0 0 0 0 0 0 0 0 0 0 0 0 0 .4 0\"/><feOffset dx=\"4.0\" dy=\"4.0\" in=\"blurOut2\" result=\"blurOut3\"/><feBlend in=\"SourceGraphic\" in2=\"blurOut3\" mode=\"normal\"/></filter></defs><g><!--MD5=[fbc87193dbaf4d95561dea2c320d4a47]\n",
       "cluster E1--><g id=\"cluster_E1\"><a href=\"psysml:6bf27c65-dae0-4f69-b1ef-6329bb319dfc\" target=\"_top\" title=\"psysml:6bf27c65-dae0-4f69-b1ef-6329bb319dfc\" xlink:actuate=\"onRequest\" xlink:href=\"psysml:6bf27c65-dae0-4f69-b1ef-6329bb319dfc\" xlink:show=\"new\" xlink:title=\"psysml:6bf27c65-dae0-4f69-b1ef-6329bb319dfc\" xlink:type=\"simple\"><polygon fill=\"none\" filter=\"url(#f1lq2io7mlsubp)\" points=\"16,6,122.25,6,129.25,28.2969,690,28.2969,690,460.72,16,460.72,16,6\" style=\"stroke:#000000;stroke-width:1.5;\"/><line style=\"stroke:#000000;stroke-width:1.5;\" x1=\"16\" x2=\"129.25\" y1=\"28.2969\" y2=\"28.2969\"/><text fill=\"#000000\" font-family=\"sans-serif\" font-size=\"14\" font-weight=\"bold\" lengthAdjust=\"spacing\" textLength=\"100.25\" x=\"20\" y=\"20.9951\">MetadataTest</text></a></g><!--MD5=[e4f7fae6ed58524ba242bb0b0d3be6b7]\n",
       "cluster E2--><g id=\"cluster_E2\"><a href=\"psysml:fde4dbf0-a827-4985-ab3d-be4806656b08\" target=\"_top\" title=\"psysml:fde4dbf0-a827-4985-ab3d-be4806656b08\" xlink:actuate=\"onRequest\" xlink:href=\"psysml:fde4dbf0-a827-4985-ab3d-be4806656b08\" xlink:show=\"new\" xlink:title=\"psysml:fde4dbf0-a827-4985-ab3d-be4806656b08\" xlink:type=\"simple\"><polygon fill=\"none\" filter=\"url(#f1lq2io7mlsubp)\" points=\"337,120.72,522.1875,120.72,529.1875,143.0169,650,143.0169,650,420.72,337,420.72,337,120.72\" style=\"stroke:#000000;stroke-width:1.5;\"/><line style=\"stroke:#000000;stroke-width:1.5;\" x1=\"337\" x2=\"529.1875\" y1=\"143.0169\" y2=\"143.0169\"/><text fill=\"#000000\" font-family=\"sans-serif\" font-size=\"14\" font-weight=\"bold\" lengthAdjust=\"spacing\" textLength=\"179.1875\" x=\"341\" y=\"135.7151\">User Defined Extensions</text></a></g><!--MD5=[60a26617385b1d2d0262a64233df1f8d]\n",
       "class E6--><a href=\"psysml:09bb7bef-5578-400a-ab09-b89f3b478a84\" target=\"_top\" title=\"psysml:09bb7bef-5578-400a-ab09-b89f3b478a84\" xlink:actuate=\"onRequest\" xlink:href=\"psysml:09bb7bef-5578-400a-ab09-b89f3b478a84\" xlink:show=\"new\" xlink:title=\"psysml:09bb7bef-5578-400a-ab09-b89f3b478a84\" xlink:type=\"simple\"><g id=\"elem_E6\"><rect fill=\"#FFFACD\" filter=\"url(#f1lq2io7mlsubp)\" height=\"48.2656\" id=\"E6\" rx=\"10\" ry=\"10\" style=\"stroke:#181818;stroke-width:0.5;\" width=\"149\" x=\"160.5\" y=\"163.72\"/><text fill=\"#000000\" font-family=\"sans-serif\" font-size=\"12\" font-style=\"italic\" lengthAdjust=\"spacing\" textLength=\"147\" x=\"161.5\" y=\"179.8587\">«#Classified #Security»</text><text fill=\"#000000\" font-family=\"sans-serif\" font-size=\"14\" lengthAdjust=\"spacing\" textLength=\"17\" x=\"222.5\" y=\"195.6839\">z1</text><line style=\"stroke:#181818;stroke-width:0.5;\" x1=\"161.5\" x2=\"308.5\" y1=\"203.9856\" y2=\"203.9856\"/></g></a><!--MD5=[2156ba9850f5573cc1fc38a6a4b2f02b]\n",
       "class E7--><a href=\"psysml:fcfec3d1-5349-46cf-95eb-369f9c247e1c\" target=\"_top\" title=\"psysml:fcfec3d1-5349-46cf-95eb-369f9c247e1c\" xlink:actuate=\"onRequest\" xlink:href=\"psysml:fcfec3d1-5349-46cf-95eb-369f9c247e1c\" xlink:show=\"new\" xlink:title=\"psysml:fcfec3d1-5349-46cf-95eb-369f9c247e1c\" xlink:type=\"simple\"><g id=\"elem_E7\"><rect fill=\"#FFFACD\" filter=\"url(#f1lq2io7mlsubp)\" height=\"48.2656\" id=\"E7\" rx=\"10\" ry=\"10\" style=\"stroke:#181818;stroke-width:0.5;\" width=\"85\" x=\"40.5\" y=\"163.72\"/><text fill=\"#000000\" font-family=\"sans-serif\" font-size=\"12\" font-style=\"italic\" lengthAdjust=\"spacing\" textLength=\"83\" x=\"41.5\" y=\"179.8587\">«#Classified»</text><text fill=\"#000000\" font-family=\"sans-serif\" font-size=\"14\" font-style=\"italic\" lengthAdjust=\"spacing\" textLength=\"17\" x=\"70.5\" y=\"195.6839\">z2</text><text fill=\"#000000\" font-family=\"sans-serif\" font-size=\"14\" lengthAdjust=\"spacing\" textLength=\"8\" x=\"87.5\" y=\"195.6839\">  </text><line style=\"stroke:#181818;stroke-width:0.5;\" x1=\"41.5\" x2=\"124.5\" y1=\"203.9856\" y2=\"203.9856\"/></g></a><!--MD5=[09b614a08d8cba4a07c9adeb5e0fee81]\n",
       "class E3--><a href=\"psysml:875613db-282a-4c31-9ce2-2c5502fc9987\" target=\"_top\" title=\"psysml:875613db-282a-4c31-9ce2-2c5502fc9987\" xlink:actuate=\"onRequest\" xlink:href=\"psysml:875613db-282a-4c31-9ce2-2c5502fc9987\" xlink:show=\"new\" xlink:title=\"psysml:875613db-282a-4c31-9ce2-2c5502fc9987\" xlink:type=\"simple\"><g id=\"elem_E3\"><rect fill=\"#FFFACD\" filter=\"url(#f1lq2io7mlsubp)\" height=\"107.675\" id=\"E3\" style=\"stroke:#181818;stroke-width:0.5;\" width=\"218\" x=\"401\" y=\"288.72\"/><text fill=\"#000000\" font-family=\"sans-serif\" font-size=\"12\" font-style=\"italic\" lengthAdjust=\"spacing\" textLength=\"74\" x=\"473\" y=\"304.8587\">«#Security»</text><text fill=\"#000000\" font-family=\"sans-serif\" font-size=\"14\" font-style=\"italic\" lengthAdjust=\"spacing\" textLength=\"124\" x=\"448\" y=\"320.6839\">ClassificationLevel</text><line style=\"stroke:#181818;stroke-width:0.5;\" x1=\"402\" x2=\"618\" y1=\"328.9856\" y2=\"328.9856\"/><text fill=\"#000000\" font-family=\"sans-serif\" font-size=\"14\" lengthAdjust=\"spacing\" textLength=\"191\" x=\"407\" y=\"356.4995\">uncl: ClassificationLevel = 0</text><text fill=\"#000000\" font-family=\"sans-serif\" font-size=\"14\" lengthAdjust=\"spacing\" textLength=\"192\" x=\"407\" y=\"372.7964\">conf: ClassificationLevel = 1</text><text fill=\"#000000\" font-family=\"sans-serif\" font-size=\"14\" lengthAdjust=\"spacing\" textLength=\"206\" x=\"407\" y=\"389.0932\">secret: ClassificationLevel = 2</text><text fill=\"#000000\" font-family=\"sans-serif\" font-size=\"14\" font-style=\"italic\" lengthAdjust=\"spacing\" textLength=\"48\" x=\"486\" y=\"341.3323\">enums</text></g></a><!--MD5=[ebbe1d658d1005bcc118a6aa81145e00]\n",
       "class E4--><a href=\"psysml:7d365ab2-02f5-4019-ac52-725960bbc954\" target=\"_top\" title=\"psysml:7d365ab2-02f5-4019-ac52-725960bbc954\" xlink:actuate=\"onRequest\" xlink:href=\"psysml:7d365ab2-02f5-4019-ac52-725960bbc954\" xlink:show=\"new\" xlink:title=\"psysml:7d365ab2-02f5-4019-ac52-725960bbc954\" xlink:type=\"simple\"><g id=\"elem_E4\"><rect fill=\"#FFFACD\" filter=\"url(#f1lq2io7mlsubp)\" height=\"48.2656\" id=\"E4\" style=\"stroke:#181818;stroke-width:0.5;\" width=\"105\" x=\"520.5\" y=\"163.72\"/><text fill=\"#000000\" font-family=\"sans-serif\" font-size=\"12\" font-style=\"italic\" lengthAdjust=\"spacing\" textLength=\"103\" x=\"521.5\" y=\"179.8587\">«metadata  def»</text><text fill=\"#000000\" font-family=\"sans-serif\" font-size=\"14\" lengthAdjust=\"spacing\" textLength=\"65\" x=\"540.5\" y=\"195.6839\">Classified</text><line style=\"stroke:#181818;stroke-width:0.5;\" x1=\"521.5\" x2=\"624.5\" y1=\"203.9856\" y2=\"203.9856\"/></g></a><!--MD5=[270fce915f116d4de14055a7c1d9a0f3]\n",
       "class E5--><a href=\"psysml:b54cb894-c9b4-4b22-a0a5-6c760d030873\" target=\"_top\" title=\"psysml:b54cb894-c9b4-4b22-a0a5-6c760d030873\" xlink:actuate=\"onRequest\" xlink:href=\"psysml:b54cb894-c9b4-4b22-a0a5-6c760d030873\" xlink:show=\"new\" xlink:title=\"psysml:b54cb894-c9b4-4b22-a0a5-6c760d030873\" xlink:type=\"simple\"><g id=\"elem_E5\"><rect fill=\"#FFFACD\" filter=\"url(#f1lq2io7mlsubp)\" height=\"48.2656\" id=\"E5\" style=\"stroke:#181818;stroke-width:0.5;\" width=\"105\" x=\"380.5\" y=\"163.72\"/><text fill=\"#000000\" font-family=\"sans-serif\" font-size=\"12\" font-style=\"italic\" lengthAdjust=\"spacing\" textLength=\"103\" x=\"381.5\" y=\"179.8587\">«metadata  def»</text><text fill=\"#000000\" font-family=\"sans-serif\" font-size=\"14\" lengthAdjust=\"spacing\" textLength=\"55\" x=\"405.5\" y=\"195.6839\">Security</text><line style=\"stroke:#181818;stroke-width:0.5;\" x1=\"381.5\" x2=\"484.5\" y1=\"203.9856\" y2=\"203.9856\"/></g></a><!--MD5=[1f1cd8e6dd4c1b2ca2aaccc9b9bcea6e]\n",
       "link E1 to E2--><g id=\"link_E1_E2\"><a href=\"psysml:7790dee3-4a68-47c5-b25f-526a96f63664\" target=\"_top\" title=\"psysml:7790dee3-4a68-47c5-b25f-526a96f63664\" xlink:actuate=\"onRequest\" xlink:href=\"psysml:7790dee3-4a68-47c5-b25f-526a96f63664\" xlink:show=\"new\" xlink:title=\"psysml:7790dee3-4a68-47c5-b25f-526a96f63664\" xlink:type=\"simple\"><path d=\"M345,33.83 C345,36.11 345,73.1825 345,110.2463 C345,112.5627 345,114.8792 345,117.1871 C345,118.3411 345,119.4929 345,120.6415 \" fill=\"none\" id=\"E1-to-E2\" style=\"stroke:#181818;stroke-width:1.0;stroke-dasharray:7.0,7.0;\"/><polygon fill=\"#181818\" points=\"345,120.6415,349,111.6415,345,115.6415,341,111.6415,345,120.6415\" style=\"stroke:#181818;stroke-width:1.0;\"/><text fill=\"#000000\" font-family=\"sans-serif\" font-size=\"13\" lengthAdjust=\"spacing\" textLength=\"65\" x=\"346\" y=\"76.7869\">«import»*</text></a></g><!--MD5=[4735aefadfa2e5978451eb08fa1f3993]\n",
       "reverse link E4 to E3--><g id=\"link_E4_E3\"><a href=\"psysml:70fb76d3-4397-496c-b537-fd7ec6ee6db2\" target=\"_top\" title=\"psysml:70fb76d3-4397-496c-b537-fd7ec6ee6db2\" xlink:actuate=\"onRequest\" xlink:href=\"psysml:70fb76d3-4397-496c-b537-fd7ec6ee6db2\" xlink:show=\"new\" xlink:title=\"psysml:70fb76d3-4397-496c-b537-fd7ec6ee6db2\" xlink:type=\"simple\"><path d=\"M558.47,224.01 C550.61,243.1 540.73,267.08 531.96,288.4 \" fill=\"none\" id=\"E4-backto-E3\" style=\"stroke:#181818;stroke-width:1.0;\"/><polygon fill=\"none\" points=\"563.43,211.96,557.4497,215.9894,558.869,223.0594,564.8493,219.0301,563.43,211.96\" style=\"stroke:#181818;stroke-width:1.0;\"/><text fill=\"#000000\" font-family=\"sans-serif\" font-size=\"13\" lengthAdjust=\"spacing\" textLength=\"114\" x=\"551\" y=\"254.7869\">classificationLevel</text></a></g><!--MD5=[e45404e07228fb3e2bc51ed8c07b1f2c]\n",
       "@startuml\r\n",
       "skin sysmlc\r\n",
       "skinparam wrapWidth 300\r\n",
       "hide circle\r\n",
       "\r\n",
       "package \"MetadataTest\" as E1  [[psysml:6bf27c65-dae0-4f69-b1ef-6329bb319dfc ]]  {\r\n",
       "package \"User Defined Extensions\" as E2  [[psysml:fde4dbf0-a827-4985-ab3d-be4806656b08 ]]  {\r\n",
       "comp def \"<i>ClassificationLevel</i>\" as E3 <<#Security>>[[psysml:875613db-282a-4c31-9ce2-2c5502fc9987 ]] {\r\n",
       "##//enums//##\r\n",
       "uncl: ClassificationLevel <U+003D> 0\r\n",
       "conf: ClassificationLevel <U+003D> 1\r\n",
       "secret: ClassificationLevel <U+003D> 2\r\n",
       "}\r\n",
       "comp def \"Classified\" as E4  <<(T,blue) metadata  def>> [[psysml:7d365ab2-02f5-4019-ac52-725960bbc954 ]] {\r\n",
       "}\r\n",
       "comp def \"Security\" as E5  <<(T,blue) metadata  def>> [[psysml:b54cb894-c9b4-4b22-a0a5-6c760d030873 ]] {\r\n",
       "}\r\n",
       "}\r\n",
       "comp usage \"z1  \" as E6 <<#Classified #Security>>[[psysml:09bb7bef-5578-400a-ab09-b89f3b478a84 ]] {\r\n",
       "}\r\n",
       "comp usage \"<i>z2</i>  \" as E7 <<#Classified>>[[psysml:fcfec3d1-5349-46cf-95eb-369f9c247e1c ]] {\r\n",
       "}\r\n",
       "}\r\n",
       "E1 ..> E2 [[psysml:7790dee3-4a68-47c5-b25f-526a96f63664 ]] : <<import>>*\r\n",
       "E4 o- - E3 [[psysml:70fb76d3-4397-496c-b537-fd7ec6ee6db2 ]] : classificationLevel\r\n",
       "@enduml\r\n",
       "\n",
       "PlantUML version 1.2022.7(Mon Aug 22 17:01:30 UTC 2022)\n",
       "(EPL source distribution)\n",
       "Java Runtime: OpenJDK Runtime Environment\n",
       "JVM: OpenJDK 64-Bit Server VM\n",
       "Default Encoding: UTF-8\n",
       "Language: en\n",
       "Country: null\n",
       "--></g></svg>"
      ]
     },
     "execution_count": 29,
     "metadata": {},
     "output_type": "execute_result"
    }
   ],
   "source": [
    "%viz --style=\"STDCOLOR\" --view=\"MIXED\" \"MetadataTest\""
   ]
  },
  {
   "cell_type": "code",
   "execution_count": 30,
   "id": "05164c73",
   "metadata": {
    "execution": {
     "iopub.execute_input": "2024-12-16T03:28:24.064719Z",
     "iopub.status.busy": "2024-12-16T03:28:24.064463Z",
     "iopub.status.idle": "2024-12-16T03:28:24.211818Z",
     "shell.execute_reply": "2024-12-16T03:28:24.210957Z"
    }
   },
   "outputs": [
    {
     "data": {
      "image/svg+xml": [
       "<?xml version=\"1.0\" encoding=\"UTF-8\" standalone=\"no\"?><svg xmlns=\"http://www.w3.org/2000/svg\" xmlns:xlink=\"http://www.w3.org/1999/xlink\" contentStyleType=\"text/css\" height=\"463px\" preserveAspectRatio=\"none\" style=\"width:711px;height:463px;background:#FFFFFF;\" version=\"1.1\" viewBox=\"0 0 711 463\" width=\"711px\" zoomAndPan=\"magnify\"><defs/><g><!--MD5=[fbc87193dbaf4d95561dea2c320d4a47]\n",
       "cluster E1--><g id=\"cluster_E1\"><a href=\"psysml:6bf27c65-dae0-4f69-b1ef-6329bb319dfc\" target=\"_top\" title=\"psysml:6bf27c65-dae0-4f69-b1ef-6329bb319dfc\" xlink:actuate=\"onRequest\" xlink:href=\"psysml:6bf27c65-dae0-4f69-b1ef-6329bb319dfc\" xlink:show=\"new\" xlink:title=\"psysml:6bf27c65-dae0-4f69-b1ef-6329bb319dfc\" xlink:type=\"simple\"><path d=\"M8.5,6 L109.75,6 A3.75,3.75 0 0 1 112.25,8.5 L119.25,28.2969 L701.5,28.2969 A2.5,2.5 0 0 1 704,30.7969 L704,454.22 A2.5,2.5 0 0 1 701.5,456.72 L8.5,456.72 A2.5,2.5 0 0 1 6,454.22 L6,8.5 A2.5,2.5 0 0 1 8.5,6 \" fill=\"none\" style=\"stroke:#000000;stroke-width:1.5;\"/><line style=\"stroke:#000000;stroke-width:1.5;\" x1=\"6\" x2=\"119.25\" y1=\"28.2969\" y2=\"28.2969\"/><text fill=\"#000000\" font-family=\"sans-serif\" font-size=\"14\" font-weight=\"bold\" lengthAdjust=\"spacing\" textLength=\"100.25\" x=\"10\" y=\"20.9951\">MetadataTest</text></a></g><!--MD5=[e4f7fae6ed58524ba242bb0b0d3be6b7]\n",
       "cluster E2--><g id=\"cluster_E2\"><a href=\"psysml:fde4dbf0-a827-4985-ab3d-be4806656b08\" target=\"_top\" title=\"psysml:fde4dbf0-a827-4985-ab3d-be4806656b08\" xlink:actuate=\"onRequest\" xlink:href=\"psysml:fde4dbf0-a827-4985-ab3d-be4806656b08\" xlink:show=\"new\" xlink:title=\"psysml:fde4dbf0-a827-4985-ab3d-be4806656b08\" xlink:type=\"simple\"><path d=\"M380.5,120.72 L560.6875,120.72 A3.75,3.75 0 0 1 563.1875,123.22 L570.1875,143.0169 L661.5,143.0169 A2.5,2.5 0 0 1 664,145.5169 L664,414.22 A2.5,2.5 0 0 1 661.5,416.72 L380.5,416.72 A2.5,2.5 0 0 1 378,414.22 L378,123.22 A2.5,2.5 0 0 1 380.5,120.72 \" fill=\"none\" style=\"stroke:#000000;stroke-width:1.5;\"/><line style=\"stroke:#000000;stroke-width:1.5;\" x1=\"378\" x2=\"570.1875\" y1=\"143.0169\" y2=\"143.0169\"/><text fill=\"#000000\" font-family=\"sans-serif\" font-size=\"14\" font-weight=\"bold\" lengthAdjust=\"spacing\" textLength=\"179.1875\" x=\"382\" y=\"135.7151\">User Defined Extensions</text></a></g><!--MD5=[60a26617385b1d2d0262a64233df1f8d]\n",
       "class E6--><a href=\"psysml:09bb7bef-5578-400a-ab09-b89f3b478a84\" target=\"_top\" title=\"psysml:09bb7bef-5578-400a-ab09-b89f3b478a84\" xlink:actuate=\"onRequest\" xlink:href=\"psysml:09bb7bef-5578-400a-ab09-b89f3b478a84\" xlink:show=\"new\" xlink:title=\"psysml:09bb7bef-5578-400a-ab09-b89f3b478a84\" xlink:type=\"simple\"><g id=\"elem_E6\"><rect fill=\"#F1F1F1\" height=\"48.2656\" id=\"E6\" rx=\"10\" ry=\"10\" style=\"stroke:#181818;stroke-width:0.5;\" width=\"175\" x=\"175.5\" y=\"159.72\"/><ellipse cx=\"190.5\" cy=\"179.8528\" fill=\"#F1F1F1\" rx=\"11\" ry=\"11\" style=\"stroke:#181818;stroke-width:1.0;\"/><path d=\"M190.5625,187.0247 Q188.4531,187.0247 187.3594,185.8997 Q186.2656,184.7747 186.2656,182.7278 L186.2656,174.7122 L188.7344,174.7122 L188.7344,182.2903 Q188.7344,183.7278 189.1875,184.3216 Q189.6406,184.8997 190.5938,184.8997 Q191.6094,184.8997 192.0313,184.2903 Q192.4688,183.6809 192.4688,182.2747 L192.4688,174.7122 L194.9375,174.7122 L194.9375,182.7122 Q194.9375,184.6966 193.8438,185.8684 Q192.7656,187.0247 190.5625,187.0247 Z \" fill=\"#000000\"/><text fill=\"#000000\" font-family=\"sans-serif\" font-size=\"12\" font-style=\"italic\" lengthAdjust=\"spacing\" textLength=\"147\" x=\"202.5\" y=\"175.8587\">«#Classified #Security»</text><text fill=\"#000000\" font-family=\"sans-serif\" font-size=\"14\" lengthAdjust=\"spacing\" textLength=\"17\" x=\"263.5\" y=\"191.6839\">z1</text><line style=\"stroke:#181818;stroke-width:0.5;\" x1=\"176.5\" x2=\"349.5\" y1=\"199.9856\" y2=\"199.9856\"/></g></a><!--MD5=[2156ba9850f5573cc1fc38a6a4b2f02b]\n",
       "class E7--><a href=\"psysml:fcfec3d1-5349-46cf-95eb-369f9c247e1c\" target=\"_top\" title=\"psysml:fcfec3d1-5349-46cf-95eb-369f9c247e1c\" xlink:actuate=\"onRequest\" xlink:href=\"psysml:fcfec3d1-5349-46cf-95eb-369f9c247e1c\" xlink:show=\"new\" xlink:title=\"psysml:fcfec3d1-5349-46cf-95eb-369f9c247e1c\" xlink:type=\"simple\"><g id=\"elem_E7\"><rect fill=\"#F1F1F1\" height=\"48.2656\" id=\"E7\" rx=\"10\" ry=\"10\" style=\"stroke:#181818;stroke-width:0.5;\" width=\"111\" x=\"29.5\" y=\"159.72\"/><ellipse cx=\"44.5\" cy=\"179.8528\" fill=\"#F1F1F1\" rx=\"11\" ry=\"11\" style=\"stroke:#181818;stroke-width:1.0;\"/><path d=\"M44.5625,187.0247 Q42.4531,187.0247 41.3594,185.8997 Q40.2656,184.7747 40.2656,182.7278 L40.2656,174.7122 L42.7344,174.7122 L42.7344,182.2903 Q42.7344,183.7278 43.1875,184.3216 Q43.6406,184.8997 44.5938,184.8997 Q45.6094,184.8997 46.0313,184.2903 Q46.4688,183.6809 46.4688,182.2747 L46.4688,174.7122 L48.9375,174.7122 L48.9375,182.7122 Q48.9375,184.6966 47.8438,185.8684 Q46.7656,187.0247 44.5625,187.0247 Z \" fill=\"#000000\"/><text fill=\"#000000\" font-family=\"sans-serif\" font-size=\"12\" font-style=\"italic\" lengthAdjust=\"spacing\" textLength=\"83\" x=\"56.5\" y=\"175.8587\">«#Classified»</text><text fill=\"#000000\" font-family=\"sans-serif\" font-size=\"14\" font-style=\"italic\" lengthAdjust=\"spacing\" textLength=\"17\" x=\"85.5\" y=\"191.6839\">z2</text><text fill=\"#000000\" font-family=\"sans-serif\" font-size=\"14\" lengthAdjust=\"spacing\" textLength=\"8\" x=\"102.5\" y=\"191.6839\">  </text><line style=\"stroke:#181818;stroke-width:0.5;\" x1=\"30.5\" x2=\"139.5\" y1=\"199.9856\" y2=\"199.9856\"/></g></a><!--MD5=[09b614a08d8cba4a07c9adeb5e0fee81]\n",
       "class E3--><a href=\"psysml:875613db-282a-4c31-9ce2-2c5502fc9987\" target=\"_top\" title=\"psysml:875613db-282a-4c31-9ce2-2c5502fc9987\" xlink:actuate=\"onRequest\" xlink:href=\"psysml:875613db-282a-4c31-9ce2-2c5502fc9987\" xlink:show=\"new\" xlink:title=\"psysml:875613db-282a-4c31-9ce2-2c5502fc9987\" xlink:type=\"simple\"><g id=\"elem_E3\"><rect fill=\"#F1F1F1\" height=\"107.675\" id=\"E3\" rx=\"2.5\" ry=\"2.5\" style=\"stroke:#181818;stroke-width:0.5;\" width=\"218\" x=\"421\" y=\"284.72\"/><ellipse cx=\"463.9\" cy=\"304.8528\" fill=\"#ADD1B2\" rx=\"11\" ry=\"11\" style=\"stroke:#181818;stroke-width:1.0;\"/><path d=\"M463.3688,311.7747 Q461.6188,311.7747 460.4781,311.0403 Q459.3531,310.2903 458.7906,308.9466 Q458.2438,307.5872 458.2438,305.7903 Q458.2438,303.7591 458.9,302.3059 Q459.5563,300.8528 460.8375,300.0716 Q462.1188,299.2903 463.9938,299.2903 Q464.8844,299.2903 465.5563,299.4778 Q466.2281,299.6497 466.9156,299.9934 L466.1031,302.0091 Q465.4781,301.6966 464.9313,301.5716 Q464.4,301.4466 463.9156,301.4466 Q462.7438,301.4466 462.0406,301.9778 Q461.3375,302.5091 461.0406,303.4622 Q460.7438,304.4153 460.7438,305.6809 Q460.7438,307.6966 461.4625,308.6653 Q462.1813,309.6184 463.775,309.6184 Q464.3688,309.6184 464.9938,309.4622 Q465.6188,309.3059 466.4469,308.9309 L466.4469,311.1497 Q465.7125,311.4622 464.9156,311.6184 Q464.1344,311.7747 463.3688,311.7747 Z \" fill=\"#000000\"/><text fill=\"#000000\" font-family=\"sans-serif\" font-size=\"12\" font-style=\"italic\" lengthAdjust=\"spacing\" textLength=\"74\" x=\"509.1\" y=\"300.8587\">«#Security»</text><text fill=\"#000000\" font-family=\"sans-serif\" font-size=\"14\" font-style=\"italic\" lengthAdjust=\"spacing\" textLength=\"124\" x=\"484.1\" y=\"316.6839\">ClassificationLevel</text><line style=\"stroke:#181818;stroke-width:0.5;\" x1=\"422\" x2=\"638\" y1=\"324.9856\" y2=\"324.9856\"/><text fill=\"#000000\" font-family=\"sans-serif\" font-size=\"14\" lengthAdjust=\"spacing\" textLength=\"191\" x=\"427\" y=\"352.4995\">uncl: ClassificationLevel = 0</text><text fill=\"#000000\" font-family=\"sans-serif\" font-size=\"14\" lengthAdjust=\"spacing\" textLength=\"192\" x=\"427\" y=\"368.7964\">conf: ClassificationLevel = 1</text><text fill=\"#000000\" font-family=\"sans-serif\" font-size=\"14\" lengthAdjust=\"spacing\" textLength=\"206\" x=\"427\" y=\"385.0932\">secret: ClassificationLevel = 2</text><text fill=\"#000000\" font-family=\"sans-serif\" font-size=\"14\" font-style=\"italic\" lengthAdjust=\"spacing\" textLength=\"48\" x=\"506\" y=\"337.3323\">enums</text></g></a><!--MD5=[ebbe1d658d1005bcc118a6aa81145e00]\n",
       "class E4--><a href=\"psysml:7d365ab2-02f5-4019-ac52-725960bbc954\" target=\"_top\" title=\"psysml:7d365ab2-02f5-4019-ac52-725960bbc954\" xlink:actuate=\"onRequest\" xlink:href=\"psysml:7d365ab2-02f5-4019-ac52-725960bbc954\" xlink:show=\"new\" xlink:title=\"psysml:7d365ab2-02f5-4019-ac52-725960bbc954\" xlink:type=\"simple\"><g id=\"elem_E4\"><rect fill=\"#F1F1F1\" height=\"40\" id=\"E4\" rx=\"2.5\" ry=\"2.5\" style=\"stroke:#181818;stroke-width:0.5;\" width=\"97\" x=\"543.5\" y=\"163.72\"/><ellipse cx=\"558.5\" cy=\"179.72\" fill=\"#008000\" rx=\"11\" ry=\"11\" style=\"stroke:#181818;stroke-width:1.0;\"/><path d=\"M555.3594,186.22 L555.3594,174.0794 L559.1563,174.0794 Q561.1563,174.0794 562.2031,174.7825 Q563.2656,175.4856 563.2656,177.0638 Q563.2656,178.1575 562.7656,178.8763 Q562.2813,179.595 561.4531,179.7825 L561.4531,179.8606 Q562.375,180.0794 562.9375,180.7513 Q563.5156,181.4075 563.5156,182.6731 Q563.5156,184.3294 562.4688,185.2825 Q561.4219,186.22 559.5625,186.22 L555.3594,186.22 Z M559.1406,178.8606 Q560.0313,178.8606 560.3906,178.5325 Q560.7656,178.1888 560.7656,177.4856 Q560.7656,176.7513 560.375,176.4388 Q559.9844,176.1106 559.0469,176.1106 L557.6563,176.1106 L557.6563,178.8606 L559.1406,178.8606 Z M559.3281,184.2044 Q560.2344,184.2044 560.5938,183.7669 Q560.9531,183.3138 560.9531,182.5325 Q560.9531,181.7513 560.5781,181.3606 Q560.2188,180.9544 559.2344,180.9544 L557.6563,180.9544 L557.6563,184.2044 L559.3281,184.2044 Z \" fill=\"#000000\"/><text fill=\"#000000\" font-family=\"sans-serif\" font-size=\"14\" lengthAdjust=\"spacing\" textLength=\"65\" x=\"572.5\" y=\"184.5667\">Classified</text><line style=\"stroke:#181818;stroke-width:0.5;\" x1=\"544.5\" x2=\"639.5\" y1=\"195.72\" y2=\"195.72\"/></g></a><!--MD5=[270fce915f116d4de14055a7c1d9a0f3]\n",
       "class E5--><a href=\"psysml:b54cb894-c9b4-4b22-a0a5-6c760d030873\" target=\"_top\" title=\"psysml:b54cb894-c9b4-4b22-a0a5-6c760d030873\" xlink:actuate=\"onRequest\" xlink:href=\"psysml:b54cb894-c9b4-4b22-a0a5-6c760d030873\" xlink:show=\"new\" xlink:title=\"psysml:b54cb894-c9b4-4b22-a0a5-6c760d030873\" xlink:type=\"simple\"><g id=\"elem_E5\"><rect fill=\"#F1F1F1\" height=\"40\" id=\"E5\" rx=\"2.5\" ry=\"2.5\" style=\"stroke:#181818;stroke-width:0.5;\" width=\"87\" x=\"421.5\" y=\"163.72\"/><ellipse cx=\"436.5\" cy=\"179.72\" fill=\"#008000\" rx=\"11\" ry=\"11\" style=\"stroke:#181818;stroke-width:1.0;\"/><path d=\"M433.3594,186.22 L433.3594,174.0794 L437.1563,174.0794 Q439.1563,174.0794 440.2031,174.7825 Q441.2656,175.4856 441.2656,177.0638 Q441.2656,178.1575 440.7656,178.8763 Q440.2813,179.595 439.4531,179.7825 L439.4531,179.8606 Q440.375,180.0794 440.9375,180.7513 Q441.5156,181.4075 441.5156,182.6731 Q441.5156,184.3294 440.4688,185.2825 Q439.4219,186.22 437.5625,186.22 L433.3594,186.22 Z M437.1406,178.8606 Q438.0313,178.8606 438.3906,178.5325 Q438.7656,178.1888 438.7656,177.4856 Q438.7656,176.7513 438.375,176.4388 Q437.9844,176.1106 437.0469,176.1106 L435.6563,176.1106 L435.6563,178.8606 L437.1406,178.8606 Z M437.3281,184.2044 Q438.2344,184.2044 438.5938,183.7669 Q438.9531,183.3138 438.9531,182.5325 Q438.9531,181.7513 438.5781,181.3606 Q438.2188,180.9544 437.2344,180.9544 L435.6563,180.9544 L435.6563,184.2044 L437.3281,184.2044 Z \" fill=\"#000000\"/><text fill=\"#000000\" font-family=\"sans-serif\" font-size=\"14\" lengthAdjust=\"spacing\" textLength=\"55\" x=\"450.5\" y=\"184.5667\">Security</text><line style=\"stroke:#181818;stroke-width:0.5;\" x1=\"422.5\" x2=\"507.5\" y1=\"195.72\" y2=\"195.72\"/></g></a><!--MD5=[1f1cd8e6dd4c1b2ca2aaccc9b9bcea6e]\n",
       "link E1 to E2--><g id=\"link_E1_E2\"><a href=\"psysml:7790dee3-4a68-47c5-b25f-526a96f63664\" target=\"_top\" title=\"psysml:7790dee3-4a68-47c5-b25f-526a96f63664\" xlink:actuate=\"onRequest\" xlink:href=\"psysml:7790dee3-4a68-47c5-b25f-526a96f63664\" xlink:show=\"new\" xlink:title=\"psysml:7790dee3-4a68-47c5-b25f-526a96f63664\" xlink:type=\"simple\"><path d=\"M386,33.83 C386,36.05 386,72.1525 386,108.2475 C386,110.5034 386,112.7593 386,115.007 C386,116.1308 386,117.2525 386,118.3711 C386,118.9304 386,119.4889 386,120.0466 \" fill=\"none\" id=\"E1-to-E2\" style=\"stroke:#181818;stroke-width:1.0;stroke-dasharray:7.0,7.0;\"/><polygon fill=\"#181818\" points=\"386,120.0466,390,111.0466,386,115.0466,382,111.0466,386,120.0466\" style=\"stroke:#181818;stroke-width:1.0;\"/><text fill=\"#000000\" font-family=\"sans-serif\" font-size=\"13\" lengthAdjust=\"spacing\" textLength=\"65\" x=\"387\" y=\"76.7869\">«import»*</text></a></g><!--MD5=[4735aefadfa2e5978451eb08fa1f3993]\n",
       "reverse link E4 to E3--><g id=\"link_E4_E3\"><a href=\"psysml:70fb76d3-4397-496c-b537-fd7ec6ee6db2\" target=\"_top\" title=\"psysml:70fb76d3-4397-496c-b537-fd7ec6ee6db2\" xlink:actuate=\"onRequest\" xlink:href=\"psysml:70fb76d3-4397-496c-b537-fd7ec6ee6db2\" xlink:show=\"new\" xlink:title=\"psysml:70fb76d3-4397-496c-b537-fd7ec6ee6db2\" xlink:type=\"simple\"><path d=\"M579.32,216.02 C571.34,235.7 560.84,261.61 551.58,284.47 \" fill=\"none\" id=\"E4-backto-E3\" style=\"stroke:#181818;stroke-width:1.0;\"/><polygon fill=\"none\" points=\"584.27,203.79,578.3095,207.8486,579.7634,214.9116,585.7239,210.853,584.27,203.79\" style=\"stroke:#181818;stroke-width:1.0;\"/><text fill=\"#000000\" font-family=\"sans-serif\" font-size=\"13\" lengthAdjust=\"spacing\" textLength=\"114\" x=\"571\" y=\"250.7869\">classificationLevel</text></a></g><!--MD5=[2aad231fb142204262e68b36cd849a10]\n",
       "@startuml\r\n",
       " \r\n",
       "package \"MetadataTest\" as E1  [[psysml:6bf27c65-dae0-4f69-b1ef-6329bb319dfc ]]  {\r\n",
       "package \"User Defined Extensions\" as E2  [[psysml:fde4dbf0-a827-4985-ab3d-be4806656b08 ]]  {\r\n",
       "comp def \"<i>ClassificationLevel</i>\" as E3 <<#Security>>[[psysml:875613db-282a-4c31-9ce2-2c5502fc9987 ]] {\r\n",
       "##//enums//##\r\n",
       "uncl: ClassificationLevel <U+003D> 0\r\n",
       "conf: ClassificationLevel <U+003D> 1\r\n",
       "secret: ClassificationLevel <U+003D> 2\r\n",
       "}\r\n",
       "comp def \"Classified\" as E4  << << (B,green) >> [[psysml:7d365ab2-02f5-4019-ac52-725960bbc954 ]] {\r\n",
       "}\r\n",
       "comp def \"Security\" as E5  << << (B,green) >> [[psysml:b54cb894-c9b4-4b22-a0a5-6c760d030873 ]] {\r\n",
       "}\r\n",
       "}\r\n",
       "comp usage \"z1  \" as E6 <<#Classified #Security>>[[psysml:09bb7bef-5578-400a-ab09-b89f3b478a84 ]] {\r\n",
       "}\r\n",
       "comp usage \"<i>z2</i>  \" as E7 <<#Classified>>[[psysml:fcfec3d1-5349-46cf-95eb-369f9c247e1c ]] {\r\n",
       "}\r\n",
       "}\r\n",
       "E1 ..> E2 [[psysml:7790dee3-4a68-47c5-b25f-526a96f63664 ]] : <<import>>*\r\n",
       "E4 o- - E3 [[psysml:70fb76d3-4397-496c-b537-fd7ec6ee6db2 ]] : classificationLevel\r\n",
       "@enduml\r\n",
       "\n",
       "PlantUML version 1.2022.7(Mon Aug 22 17:01:30 UTC 2022)\n",
       "(EPL source distribution)\n",
       "Java Runtime: OpenJDK Runtime Environment\n",
       "JVM: OpenJDK 64-Bit Server VM\n",
       "Default Encoding: UTF-8\n",
       "Language: en\n",
       "Country: null\n",
       "--></g></svg>"
      ]
     },
     "execution_count": 30,
     "metadata": {},
     "output_type": "execute_result"
    }
   ],
   "source": [
    "%viz --style=\"PLANTUML\" --view=\"Default\" \"MetadataTest\""
   ]
  },
  {
   "cell_type": "code",
   "execution_count": 31,
   "id": "f2e98c7b",
   "metadata": {
    "execution": {
     "iopub.execute_input": "2024-12-16T03:28:24.267858Z",
     "iopub.status.busy": "2024-12-16T03:28:24.267619Z",
     "iopub.status.idle": "2024-12-16T03:28:24.292321Z",
     "shell.execute_reply": "2024-12-16T03:28:24.292135Z"
    }
   },
   "outputs": [
    {
     "data": {
      "image/svg+xml": [
       "<?xml version=\"1.0\" encoding=\"UTF-8\" standalone=\"no\"?><svg xmlns=\"http://www.w3.org/2000/svg\" xmlns:xlink=\"http://www.w3.org/1999/xlink\" contentStyleType=\"text/css\" height=\"463px\" preserveAspectRatio=\"none\" style=\"width:711px;height:463px;background:#FFFFFF;\" version=\"1.1\" viewBox=\"0 0 711 463\" width=\"711px\" zoomAndPan=\"magnify\"><defs/><g><!--MD5=[fbc87193dbaf4d95561dea2c320d4a47]\n",
       "cluster E1--><g id=\"cluster_E1\"><a href=\"psysml:6bf27c65-dae0-4f69-b1ef-6329bb319dfc\" target=\"_top\" title=\"psysml:6bf27c65-dae0-4f69-b1ef-6329bb319dfc\" xlink:actuate=\"onRequest\" xlink:href=\"psysml:6bf27c65-dae0-4f69-b1ef-6329bb319dfc\" xlink:show=\"new\" xlink:title=\"psysml:6bf27c65-dae0-4f69-b1ef-6329bb319dfc\" xlink:type=\"simple\"><path d=\"M8.5,6 L109.75,6 A3.75,3.75 0 0 1 112.25,8.5 L119.25,28.2969 L701.5,28.2969 A2.5,2.5 0 0 1 704,30.7969 L704,454.22 A2.5,2.5 0 0 1 701.5,456.72 L8.5,456.72 A2.5,2.5 0 0 1 6,454.22 L6,8.5 A2.5,2.5 0 0 1 8.5,6 \" fill=\"none\" style=\"stroke:#000000;stroke-width:1.5;\"/><line style=\"stroke:#000000;stroke-width:1.5;\" x1=\"6\" x2=\"119.25\" y1=\"28.2969\" y2=\"28.2969\"/><text fill=\"#000000\" font-family=\"sans-serif\" font-size=\"14\" font-weight=\"bold\" lengthAdjust=\"spacing\" textLength=\"100.25\" x=\"10\" y=\"20.9951\">MetadataTest</text></a></g><!--MD5=[e4f7fae6ed58524ba242bb0b0d3be6b7]\n",
       "cluster E2--><g id=\"cluster_E2\"><a href=\"psysml:fde4dbf0-a827-4985-ab3d-be4806656b08\" target=\"_top\" title=\"psysml:fde4dbf0-a827-4985-ab3d-be4806656b08\" xlink:actuate=\"onRequest\" xlink:href=\"psysml:fde4dbf0-a827-4985-ab3d-be4806656b08\" xlink:show=\"new\" xlink:title=\"psysml:fde4dbf0-a827-4985-ab3d-be4806656b08\" xlink:type=\"simple\"><path d=\"M380.5,120.72 L560.6875,120.72 A3.75,3.75 0 0 1 563.1875,123.22 L570.1875,143.0169 L661.5,143.0169 A2.5,2.5 0 0 1 664,145.5169 L664,414.22 A2.5,2.5 0 0 1 661.5,416.72 L380.5,416.72 A2.5,2.5 0 0 1 378,414.22 L378,123.22 A2.5,2.5 0 0 1 380.5,120.72 \" fill=\"none\" style=\"stroke:#000000;stroke-width:1.5;\"/><line style=\"stroke:#000000;stroke-width:1.5;\" x1=\"378\" x2=\"570.1875\" y1=\"143.0169\" y2=\"143.0169\"/><text fill=\"#000000\" font-family=\"sans-serif\" font-size=\"14\" font-weight=\"bold\" lengthAdjust=\"spacing\" textLength=\"179.1875\" x=\"382\" y=\"135.7151\">User Defined Extensions</text></a></g><!--MD5=[60a26617385b1d2d0262a64233df1f8d]\n",
       "class E6--><a href=\"psysml:09bb7bef-5578-400a-ab09-b89f3b478a84\" target=\"_top\" title=\"psysml:09bb7bef-5578-400a-ab09-b89f3b478a84\" xlink:actuate=\"onRequest\" xlink:href=\"psysml:09bb7bef-5578-400a-ab09-b89f3b478a84\" xlink:show=\"new\" xlink:title=\"psysml:09bb7bef-5578-400a-ab09-b89f3b478a84\" xlink:type=\"simple\"><g id=\"elem_E6\"><rect fill=\"#F1F1F1\" height=\"48.2656\" id=\"E6\" rx=\"10\" ry=\"10\" style=\"stroke:#181818;stroke-width:0.5;\" width=\"175\" x=\"175.5\" y=\"159.72\"/><ellipse cx=\"190.5\" cy=\"179.8528\" fill=\"#F1F1F1\" rx=\"11\" ry=\"11\" style=\"stroke:#181818;stroke-width:1.0;\"/><path d=\"M190.5625,187.0247 Q188.4531,187.0247 187.3594,185.8997 Q186.2656,184.7747 186.2656,182.7278 L186.2656,174.7122 L188.7344,174.7122 L188.7344,182.2903 Q188.7344,183.7278 189.1875,184.3216 Q189.6406,184.8997 190.5938,184.8997 Q191.6094,184.8997 192.0313,184.2903 Q192.4688,183.6809 192.4688,182.2747 L192.4688,174.7122 L194.9375,174.7122 L194.9375,182.7122 Q194.9375,184.6966 193.8438,185.8684 Q192.7656,187.0247 190.5625,187.0247 Z \" fill=\"#000000\"/><text fill=\"#000000\" font-family=\"sans-serif\" font-size=\"12\" font-style=\"italic\" lengthAdjust=\"spacing\" textLength=\"147\" x=\"202.5\" y=\"175.8587\">«#Classified #Security»</text><text fill=\"#000000\" font-family=\"sans-serif\" font-size=\"14\" lengthAdjust=\"spacing\" textLength=\"17\" x=\"263.5\" y=\"191.6839\">z1</text><line style=\"stroke:#181818;stroke-width:0.5;\" x1=\"176.5\" x2=\"349.5\" y1=\"199.9856\" y2=\"199.9856\"/></g></a><!--MD5=[2156ba9850f5573cc1fc38a6a4b2f02b]\n",
       "class E7--><a href=\"psysml:fcfec3d1-5349-46cf-95eb-369f9c247e1c\" target=\"_top\" title=\"psysml:fcfec3d1-5349-46cf-95eb-369f9c247e1c\" xlink:actuate=\"onRequest\" xlink:href=\"psysml:fcfec3d1-5349-46cf-95eb-369f9c247e1c\" xlink:show=\"new\" xlink:title=\"psysml:fcfec3d1-5349-46cf-95eb-369f9c247e1c\" xlink:type=\"simple\"><g id=\"elem_E7\"><rect fill=\"#F1F1F1\" height=\"48.2656\" id=\"E7\" rx=\"10\" ry=\"10\" style=\"stroke:#181818;stroke-width:0.5;\" width=\"111\" x=\"29.5\" y=\"159.72\"/><ellipse cx=\"44.5\" cy=\"179.8528\" fill=\"#F1F1F1\" rx=\"11\" ry=\"11\" style=\"stroke:#181818;stroke-width:1.0;\"/><path d=\"M44.5625,187.0247 Q42.4531,187.0247 41.3594,185.8997 Q40.2656,184.7747 40.2656,182.7278 L40.2656,174.7122 L42.7344,174.7122 L42.7344,182.2903 Q42.7344,183.7278 43.1875,184.3216 Q43.6406,184.8997 44.5938,184.8997 Q45.6094,184.8997 46.0313,184.2903 Q46.4688,183.6809 46.4688,182.2747 L46.4688,174.7122 L48.9375,174.7122 L48.9375,182.7122 Q48.9375,184.6966 47.8438,185.8684 Q46.7656,187.0247 44.5625,187.0247 Z \" fill=\"#000000\"/><text fill=\"#000000\" font-family=\"sans-serif\" font-size=\"12\" font-style=\"italic\" lengthAdjust=\"spacing\" textLength=\"83\" x=\"56.5\" y=\"175.8587\">«#Classified»</text><text fill=\"#000000\" font-family=\"sans-serif\" font-size=\"14\" font-style=\"italic\" lengthAdjust=\"spacing\" textLength=\"17\" x=\"85.5\" y=\"191.6839\">z2</text><text fill=\"#000000\" font-family=\"sans-serif\" font-size=\"14\" lengthAdjust=\"spacing\" textLength=\"8\" x=\"102.5\" y=\"191.6839\">  </text><line style=\"stroke:#181818;stroke-width:0.5;\" x1=\"30.5\" x2=\"139.5\" y1=\"199.9856\" y2=\"199.9856\"/></g></a><!--MD5=[09b614a08d8cba4a07c9adeb5e0fee81]\n",
       "class E3--><a href=\"psysml:875613db-282a-4c31-9ce2-2c5502fc9987\" target=\"_top\" title=\"psysml:875613db-282a-4c31-9ce2-2c5502fc9987\" xlink:actuate=\"onRequest\" xlink:href=\"psysml:875613db-282a-4c31-9ce2-2c5502fc9987\" xlink:show=\"new\" xlink:title=\"psysml:875613db-282a-4c31-9ce2-2c5502fc9987\" xlink:type=\"simple\"><g id=\"elem_E3\"><rect fill=\"#F1F1F1\" height=\"107.675\" id=\"E3\" rx=\"2.5\" ry=\"2.5\" style=\"stroke:#181818;stroke-width:0.5;\" width=\"218\" x=\"421\" y=\"284.72\"/><ellipse cx=\"463.9\" cy=\"304.8528\" fill=\"#ADD1B2\" rx=\"11\" ry=\"11\" style=\"stroke:#181818;stroke-width:1.0;\"/><path d=\"M463.3688,311.7747 Q461.6188,311.7747 460.4781,311.0403 Q459.3531,310.2903 458.7906,308.9466 Q458.2438,307.5872 458.2438,305.7903 Q458.2438,303.7591 458.9,302.3059 Q459.5563,300.8528 460.8375,300.0716 Q462.1188,299.2903 463.9938,299.2903 Q464.8844,299.2903 465.5563,299.4778 Q466.2281,299.6497 466.9156,299.9934 L466.1031,302.0091 Q465.4781,301.6966 464.9313,301.5716 Q464.4,301.4466 463.9156,301.4466 Q462.7438,301.4466 462.0406,301.9778 Q461.3375,302.5091 461.0406,303.4622 Q460.7438,304.4153 460.7438,305.6809 Q460.7438,307.6966 461.4625,308.6653 Q462.1813,309.6184 463.775,309.6184 Q464.3688,309.6184 464.9938,309.4622 Q465.6188,309.3059 466.4469,308.9309 L466.4469,311.1497 Q465.7125,311.4622 464.9156,311.6184 Q464.1344,311.7747 463.3688,311.7747 Z \" fill=\"#000000\"/><text fill=\"#000000\" font-family=\"sans-serif\" font-size=\"12\" font-style=\"italic\" lengthAdjust=\"spacing\" textLength=\"74\" x=\"509.1\" y=\"300.8587\">«#Security»</text><text fill=\"#000000\" font-family=\"sans-serif\" font-size=\"14\" font-style=\"italic\" lengthAdjust=\"spacing\" textLength=\"124\" x=\"484.1\" y=\"316.6839\">ClassificationLevel</text><line style=\"stroke:#181818;stroke-width:0.5;\" x1=\"422\" x2=\"638\" y1=\"324.9856\" y2=\"324.9856\"/><text fill=\"#000000\" font-family=\"sans-serif\" font-size=\"14\" lengthAdjust=\"spacing\" textLength=\"191\" x=\"427\" y=\"352.4995\">uncl: ClassificationLevel = 0</text><text fill=\"#000000\" font-family=\"sans-serif\" font-size=\"14\" lengthAdjust=\"spacing\" textLength=\"192\" x=\"427\" y=\"368.7964\">conf: ClassificationLevel = 1</text><text fill=\"#000000\" font-family=\"sans-serif\" font-size=\"14\" lengthAdjust=\"spacing\" textLength=\"206\" x=\"427\" y=\"385.0932\">secret: ClassificationLevel = 2</text><text fill=\"#000000\" font-family=\"sans-serif\" font-size=\"14\" font-style=\"italic\" lengthAdjust=\"spacing\" textLength=\"48\" x=\"506\" y=\"337.3323\">enums</text></g></a><!--MD5=[ebbe1d658d1005bcc118a6aa81145e00]\n",
       "class E4--><a href=\"psysml:7d365ab2-02f5-4019-ac52-725960bbc954\" target=\"_top\" title=\"psysml:7d365ab2-02f5-4019-ac52-725960bbc954\" xlink:actuate=\"onRequest\" xlink:href=\"psysml:7d365ab2-02f5-4019-ac52-725960bbc954\" xlink:show=\"new\" xlink:title=\"psysml:7d365ab2-02f5-4019-ac52-725960bbc954\" xlink:type=\"simple\"><g id=\"elem_E4\"><rect fill=\"#F1F1F1\" height=\"40\" id=\"E4\" rx=\"2.5\" ry=\"2.5\" style=\"stroke:#181818;stroke-width:0.5;\" width=\"97\" x=\"543.5\" y=\"163.72\"/><ellipse cx=\"558.5\" cy=\"179.72\" fill=\"#008000\" rx=\"11\" ry=\"11\" style=\"stroke:#181818;stroke-width:1.0;\"/><path d=\"M555.3594,186.22 L555.3594,174.0794 L559.1563,174.0794 Q561.1563,174.0794 562.2031,174.7825 Q563.2656,175.4856 563.2656,177.0638 Q563.2656,178.1575 562.7656,178.8763 Q562.2813,179.595 561.4531,179.7825 L561.4531,179.8606 Q562.375,180.0794 562.9375,180.7513 Q563.5156,181.4075 563.5156,182.6731 Q563.5156,184.3294 562.4688,185.2825 Q561.4219,186.22 559.5625,186.22 L555.3594,186.22 Z M559.1406,178.8606 Q560.0313,178.8606 560.3906,178.5325 Q560.7656,178.1888 560.7656,177.4856 Q560.7656,176.7513 560.375,176.4388 Q559.9844,176.1106 559.0469,176.1106 L557.6563,176.1106 L557.6563,178.8606 L559.1406,178.8606 Z M559.3281,184.2044 Q560.2344,184.2044 560.5938,183.7669 Q560.9531,183.3138 560.9531,182.5325 Q560.9531,181.7513 560.5781,181.3606 Q560.2188,180.9544 559.2344,180.9544 L557.6563,180.9544 L557.6563,184.2044 L559.3281,184.2044 Z \" fill=\"#000000\"/><text fill=\"#000000\" font-family=\"sans-serif\" font-size=\"14\" lengthAdjust=\"spacing\" textLength=\"65\" x=\"572.5\" y=\"184.5667\">Classified</text><line style=\"stroke:#181818;stroke-width:0.5;\" x1=\"544.5\" x2=\"639.5\" y1=\"195.72\" y2=\"195.72\"/></g></a><!--MD5=[270fce915f116d4de14055a7c1d9a0f3]\n",
       "class E5--><a href=\"psysml:b54cb894-c9b4-4b22-a0a5-6c760d030873\" target=\"_top\" title=\"psysml:b54cb894-c9b4-4b22-a0a5-6c760d030873\" xlink:actuate=\"onRequest\" xlink:href=\"psysml:b54cb894-c9b4-4b22-a0a5-6c760d030873\" xlink:show=\"new\" xlink:title=\"psysml:b54cb894-c9b4-4b22-a0a5-6c760d030873\" xlink:type=\"simple\"><g id=\"elem_E5\"><rect fill=\"#F1F1F1\" height=\"40\" id=\"E5\" rx=\"2.5\" ry=\"2.5\" style=\"stroke:#181818;stroke-width:0.5;\" width=\"87\" x=\"421.5\" y=\"163.72\"/><ellipse cx=\"436.5\" cy=\"179.72\" fill=\"#008000\" rx=\"11\" ry=\"11\" style=\"stroke:#181818;stroke-width:1.0;\"/><path d=\"M433.3594,186.22 L433.3594,174.0794 L437.1563,174.0794 Q439.1563,174.0794 440.2031,174.7825 Q441.2656,175.4856 441.2656,177.0638 Q441.2656,178.1575 440.7656,178.8763 Q440.2813,179.595 439.4531,179.7825 L439.4531,179.8606 Q440.375,180.0794 440.9375,180.7513 Q441.5156,181.4075 441.5156,182.6731 Q441.5156,184.3294 440.4688,185.2825 Q439.4219,186.22 437.5625,186.22 L433.3594,186.22 Z M437.1406,178.8606 Q438.0313,178.8606 438.3906,178.5325 Q438.7656,178.1888 438.7656,177.4856 Q438.7656,176.7513 438.375,176.4388 Q437.9844,176.1106 437.0469,176.1106 L435.6563,176.1106 L435.6563,178.8606 L437.1406,178.8606 Z M437.3281,184.2044 Q438.2344,184.2044 438.5938,183.7669 Q438.9531,183.3138 438.9531,182.5325 Q438.9531,181.7513 438.5781,181.3606 Q438.2188,180.9544 437.2344,180.9544 L435.6563,180.9544 L435.6563,184.2044 L437.3281,184.2044 Z \" fill=\"#000000\"/><text fill=\"#000000\" font-family=\"sans-serif\" font-size=\"14\" lengthAdjust=\"spacing\" textLength=\"55\" x=\"450.5\" y=\"184.5667\">Security</text><line style=\"stroke:#181818;stroke-width:0.5;\" x1=\"422.5\" x2=\"507.5\" y1=\"195.72\" y2=\"195.72\"/></g></a><!--MD5=[1f1cd8e6dd4c1b2ca2aaccc9b9bcea6e]\n",
       "link E1 to E2--><g id=\"link_E1_E2\"><a href=\"psysml:7790dee3-4a68-47c5-b25f-526a96f63664\" target=\"_top\" title=\"psysml:7790dee3-4a68-47c5-b25f-526a96f63664\" xlink:actuate=\"onRequest\" xlink:href=\"psysml:7790dee3-4a68-47c5-b25f-526a96f63664\" xlink:show=\"new\" xlink:title=\"psysml:7790dee3-4a68-47c5-b25f-526a96f63664\" xlink:type=\"simple\"><path d=\"M386,33.83 C386,36.05 386,72.1525 386,108.2475 C386,110.5034 386,112.7593 386,115.007 C386,116.1308 386,117.2525 386,118.3711 C386,118.9304 386,119.4889 386,120.0466 \" fill=\"none\" id=\"E1-to-E2\" style=\"stroke:#181818;stroke-width:1.0;stroke-dasharray:7.0,7.0;\"/><polygon fill=\"#181818\" points=\"386,120.0466,390,111.0466,386,115.0466,382,111.0466,386,120.0466\" style=\"stroke:#181818;stroke-width:1.0;\"/><text fill=\"#000000\" font-family=\"sans-serif\" font-size=\"13\" lengthAdjust=\"spacing\" textLength=\"65\" x=\"387\" y=\"76.7869\">«import»*</text></a></g><!--MD5=[4735aefadfa2e5978451eb08fa1f3993]\n",
       "reverse link E4 to E3--><g id=\"link_E4_E3\"><a href=\"psysml:70fb76d3-4397-496c-b537-fd7ec6ee6db2\" target=\"_top\" title=\"psysml:70fb76d3-4397-496c-b537-fd7ec6ee6db2\" xlink:actuate=\"onRequest\" xlink:href=\"psysml:70fb76d3-4397-496c-b537-fd7ec6ee6db2\" xlink:show=\"new\" xlink:title=\"psysml:70fb76d3-4397-496c-b537-fd7ec6ee6db2\" xlink:type=\"simple\"><path d=\"M579.32,216.02 C571.34,235.7 560.84,261.61 551.58,284.47 \" fill=\"none\" id=\"E4-backto-E3\" style=\"stroke:#181818;stroke-width:1.0;\"/><polygon fill=\"none\" points=\"584.27,203.79,578.3095,207.8486,579.7634,214.9116,585.7239,210.853,584.27,203.79\" style=\"stroke:#181818;stroke-width:1.0;\"/><text fill=\"#000000\" font-family=\"sans-serif\" font-size=\"13\" lengthAdjust=\"spacing\" textLength=\"114\" x=\"571\" y=\"250.7869\">classificationLevel</text></a></g><!--MD5=[2aad231fb142204262e68b36cd849a10]\n",
       "@startuml\r\n",
       " \r\n",
       "package \"MetadataTest\" as E1  [[psysml:6bf27c65-dae0-4f69-b1ef-6329bb319dfc ]]  {\r\n",
       "package \"User Defined Extensions\" as E2  [[psysml:fde4dbf0-a827-4985-ab3d-be4806656b08 ]]  {\r\n",
       "comp def \"<i>ClassificationLevel</i>\" as E3 <<#Security>>[[psysml:875613db-282a-4c31-9ce2-2c5502fc9987 ]] {\r\n",
       "##//enums//##\r\n",
       "uncl: ClassificationLevel <U+003D> 0\r\n",
       "conf: ClassificationLevel <U+003D> 1\r\n",
       "secret: ClassificationLevel <U+003D> 2\r\n",
       "}\r\n",
       "comp def \"Classified\" as E4  << << (B,green) >> [[psysml:7d365ab2-02f5-4019-ac52-725960bbc954 ]] {\r\n",
       "}\r\n",
       "comp def \"Security\" as E5  << << (B,green) >> [[psysml:b54cb894-c9b4-4b22-a0a5-6c760d030873 ]] {\r\n",
       "}\r\n",
       "}\r\n",
       "comp usage \"z1  \" as E6 <<#Classified #Security>>[[psysml:09bb7bef-5578-400a-ab09-b89f3b478a84 ]] {\r\n",
       "}\r\n",
       "comp usage \"<i>z2</i>  \" as E7 <<#Classified>>[[psysml:fcfec3d1-5349-46cf-95eb-369f9c247e1c ]] {\r\n",
       "}\r\n",
       "}\r\n",
       "E1 ..> E2 [[psysml:7790dee3-4a68-47c5-b25f-526a96f63664 ]] : <<import>>*\r\n",
       "E4 o- - E3 [[psysml:70fb76d3-4397-496c-b537-fd7ec6ee6db2 ]] : classificationLevel\r\n",
       "@enduml\r\n",
       "\n",
       "PlantUML version 1.2022.7(Mon Aug 22 17:01:30 UTC 2022)\n",
       "(EPL source distribution)\n",
       "Java Runtime: OpenJDK Runtime Environment\n",
       "JVM: OpenJDK 64-Bit Server VM\n",
       "Default Encoding: UTF-8\n",
       "Language: en\n",
       "Country: null\n",
       "--></g></svg>"
      ]
     },
     "execution_count": 31,
     "metadata": {},
     "output_type": "execute_result"
    }
   ],
   "source": [
    "%viz --style=\"PLANTUML\" --view=\"Tree\" \"MetadataTest\""
   ]
  },
  {
   "cell_type": "code",
   "execution_count": 32,
   "id": "cf9ca5d9",
   "metadata": {
    "execution": {
     "iopub.execute_input": "2024-12-16T03:28:24.347637Z",
     "iopub.status.busy": "2024-12-16T03:28:24.347415Z",
     "iopub.status.idle": "2024-12-16T03:28:24.363110Z",
     "shell.execute_reply": "2024-12-16T03:28:24.362361Z"
    }
   },
   "outputs": [
    {
     "data": {
      "image/svg+xml": [
       "<?xml version=\"1.0\" encoding=\"UTF-8\" standalone=\"no\"?><svg xmlns=\"http://www.w3.org/2000/svg\" xmlns:xlink=\"http://www.w3.org/1999/xlink\" contentStyleType=\"text/css\" height=\"81px\" preserveAspectRatio=\"none\" style=\"width:1023px;height:81px;background:#FFFFFF;\" version=\"1.1\" viewBox=\"0 0 1023 81\" width=\"1023px\" zoomAndPan=\"magnify\"><defs/><g><g id=\"elem_E1\"><path d=\"M6,6 L6,74.5448 L315,74.5448 L315,16 L305,6 L6,6 \" fill=\"#FEFFDD\" style=\"stroke:#181818;stroke-width:0.5;\"/><path d=\"M305,6 L305,16 L315,16 L305,6 \" fill=\"#FEFFDD\" style=\"stroke:#181818;stroke-width:1.0;\"/><text fill=\"#000000\" font-family=\"monospace\" font-size=\"13\" lengthAdjust=\"spacing\" textLength=\"112\" x=\"12\" y=\"24.897\">              </text><a href=\"psysml:ccd30bed-0f75-43dd-8560-a117ef71fdae\" target=\"_top\" title=\"psysml:ccd30bed-0f75-43dd-8560-a117ef71fdae\" xlink:actuate=\"onRequest\" xlink:href=\"psysml:ccd30bed-0f75-43dd-8560-a117ef71fdae\" xlink:show=\"new\" xlink:title=\"psysml:ccd30bed-0f75-43dd-8560-a117ef71fdae\" xlink:type=\"simple\"><text fill=\"#0000FF\" font-family=\"sans-serif\" font-size=\"13\" lengthAdjust=\"spacing\" text-decoration=\"underline\" textLength=\"79\" x=\"124\" y=\"25.6401\">«metadata»</text></a><text fill=\"#000000\" font-family=\"monospace\" font-size=\"13\" font-style=\"italic\" lengthAdjust=\"spacing\" textLength=\"112\" x=\"12\" y=\"42.603\">              </text><text fill=\"#000000\" font-family=\"sans-serif\" font-size=\"13\" font-style=\"italic\" lengthAdjust=\"spacing\" textLength=\"60\" x=\"124\" y=\"43.3461\">Classified</text><line style=\"stroke:#181818;stroke-width:1.0;\" x1=\"7\" x2=\"314\" y1=\"46.412\" y2=\"46.412\"/><text fill=\"#000000\" font-family=\"sans-serif\" font-size=\"13\" lengthAdjust=\"spacing\" textLength=\"288\" x=\"12\" y=\"62.4789\">classificationLevel =  ClassificationLevel::conf</text></g><g id=\"elem_E2\"><path d=\"M350,6 L350,74.5448 L659,74.5448 L659,16 L649,6 L350,6 \" fill=\"#FEFFDD\" style=\"stroke:#181818;stroke-width:0.5;\"/><path d=\"M649,6 L649,16 L659,16 L649,6 \" fill=\"#FEFFDD\" style=\"stroke:#181818;stroke-width:1.0;\"/><text fill=\"#000000\" font-family=\"monospace\" font-size=\"13\" lengthAdjust=\"spacing\" textLength=\"112\" x=\"356\" y=\"24.897\">              </text><a href=\"psysml:a50d3885-9ceb-42ed-af81-8542a216cf29\" target=\"_top\" title=\"psysml:a50d3885-9ceb-42ed-af81-8542a216cf29\" xlink:actuate=\"onRequest\" xlink:href=\"psysml:a50d3885-9ceb-42ed-af81-8542a216cf29\" xlink:show=\"new\" xlink:title=\"psysml:a50d3885-9ceb-42ed-af81-8542a216cf29\" xlink:type=\"simple\"><text fill=\"#0000FF\" font-family=\"sans-serif\" font-size=\"13\" lengthAdjust=\"spacing\" text-decoration=\"underline\" textLength=\"79\" x=\"468\" y=\"25.6401\">«metadata»</text></a><text fill=\"#000000\" font-family=\"monospace\" font-size=\"13\" font-style=\"italic\" lengthAdjust=\"spacing\" textLength=\"112\" x=\"356\" y=\"42.603\">              </text><text fill=\"#000000\" font-family=\"sans-serif\" font-size=\"13\" font-style=\"italic\" lengthAdjust=\"spacing\" textLength=\"60\" x=\"468\" y=\"43.3461\">Classified</text><line style=\"stroke:#181818;stroke-width:1.0;\" x1=\"351\" x2=\"658\" y1=\"46.412\" y2=\"46.412\"/><text fill=\"#000000\" font-family=\"sans-serif\" font-size=\"13\" lengthAdjust=\"spacing\" textLength=\"288\" x=\"356\" y=\"62.4789\">classificationLevel =  ClassificationLevel::conf</text></g><g id=\"elem_E3\"><path d=\"M694.5,6 L694.5,74.5448 L1016.5,74.5448 L1016.5,16 L1006.5,6 L694.5,6 \" fill=\"#FEFFDD\" style=\"stroke:#181818;stroke-width:0.5;\"/><path d=\"M1006.5,6 L1006.5,16 L1016.5,16 L1006.5,6 \" fill=\"#FEFFDD\" style=\"stroke:#181818;stroke-width:1.0;\"/><text fill=\"#000000\" font-family=\"monospace\" font-size=\"13\" lengthAdjust=\"spacing\" textLength=\"112\" x=\"700.5\" y=\"24.897\">              </text><a href=\"psysml:7eb290c6-6d6c-4277-b27a-b35f0e599ca6\" target=\"_top\" title=\"psysml:7eb290c6-6d6c-4277-b27a-b35f0e599ca6\" xlink:actuate=\"onRequest\" xlink:href=\"psysml:7eb290c6-6d6c-4277-b27a-b35f0e599ca6\" xlink:show=\"new\" xlink:title=\"psysml:7eb290c6-6d6c-4277-b27a-b35f0e599ca6\" xlink:type=\"simple\"><text fill=\"#0000FF\" font-family=\"sans-serif\" font-size=\"13\" lengthAdjust=\"spacing\" text-decoration=\"underline\" textLength=\"79\" x=\"812.5\" y=\"25.6401\">«metadata»</text></a><text fill=\"#000000\" font-family=\"monospace\" font-size=\"13\" font-style=\"italic\" lengthAdjust=\"spacing\" textLength=\"112\" x=\"700.5\" y=\"42.603\">              </text><text fill=\"#000000\" font-family=\"sans-serif\" font-size=\"13\" font-style=\"italic\" lengthAdjust=\"spacing\" textLength=\"60\" x=\"812.5\" y=\"43.3461\">Classified</text><line style=\"stroke:#181818;stroke-width:1.0;\" x1=\"695.5\" x2=\"1015.5\" y1=\"46.412\" y2=\"46.412\"/><text fill=\"#000000\" font-family=\"sans-serif\" font-size=\"13\" lengthAdjust=\"spacing\" textLength=\"301\" x=\"700.5\" y=\"62.4789\">classificationLevel =  ClassificationLevel::secret</text></g><!--MD5=[fc1496f43c4fe94bba3ba18e65635ad3]\n",
       "@startuml\r\n",
       " \r\n",
       "note as E1\r\n",
       "\"\"              \"\"[[psysml:ccd30bed-0f75-43dd-8560-a117ef71fdae «metadata»]]\r\n",
       "==== \"\"              \"\"Classified\r\n",
       "- -\r\n",
       "classificationLevel =  ClassificationLevel::conf\r\n",
       "end note\r\n",
       "note as E2\r\n",
       "\"\"              \"\"[[psysml:a50d3885-9ceb-42ed-af81-8542a216cf29 «metadata»]]\r\n",
       "==== \"\"              \"\"Classified\r\n",
       "- -\r\n",
       "classificationLevel =  ClassificationLevel::conf\r\n",
       "end note\r\n",
       "note as E3\r\n",
       "\"\"              \"\"[[psysml:7eb290c6-6d6c-4277-b27a-b35f0e599ca6 «metadata»]]\r\n",
       "==== \"\"              \"\"Classified\r\n",
       "- -\r\n",
       "classificationLevel =  ClassificationLevel::secret\r\n",
       "end note\r\n",
       "@enduml\r\n",
       "\n",
       "PlantUML version 1.2022.7(Mon Aug 22 17:01:30 UTC 2022)\n",
       "(EPL source distribution)\n",
       "Java Runtime: OpenJDK Runtime Environment\n",
       "JVM: OpenJDK 64-Bit Server VM\n",
       "Default Encoding: UTF-8\n",
       "Language: en\n",
       "Country: null\n",
       "--></g></svg>"
      ]
     },
     "execution_count": 32,
     "metadata": {},
     "output_type": "execute_result"
    }
   ],
   "source": [
    "%viz --style=\"PLANTUML\" --view=\"State\" \"MetadataTest\""
   ]
  },
  {
   "cell_type": "code",
   "execution_count": 33,
   "id": "7c9efd0e",
   "metadata": {
    "execution": {
     "iopub.execute_input": "2024-12-16T03:28:24.416936Z",
     "iopub.status.busy": "2024-12-16T03:28:24.416743Z",
     "iopub.status.idle": "2024-12-16T03:28:24.439250Z",
     "shell.execute_reply": "2024-12-16T03:28:24.438380Z"
    }
   },
   "outputs": [
    {
     "data": {
      "image/svg+xml": [
       "<?xml version=\"1.0\" encoding=\"UTF-8\" standalone=\"no\"?><svg xmlns=\"http://www.w3.org/2000/svg\" xmlns:xlink=\"http://www.w3.org/1999/xlink\" contentStyleType=\"text/css\" height=\"257px\" preserveAspectRatio=\"none\" style=\"width:1343px;height:257px;background:#FFFFFF;\" version=\"1.1\" viewBox=\"0 0 1343 257\" width=\"1343px\" zoomAndPan=\"magnify\"><defs/><g><!--MD5=[fbc87193dbaf4d95561dea2c320d4a47]\n",
       "cluster E1--><g id=\"cluster_E1\"><a href=\"psysml:6bf27c65-dae0-4f69-b1ef-6329bb319dfc\" target=\"_top\" title=\"psysml:6bf27c65-dae0-4f69-b1ef-6329bb319dfc\" xlink:actuate=\"onRequest\" xlink:href=\"psysml:6bf27c65-dae0-4f69-b1ef-6329bb319dfc\" xlink:show=\"new\" xlink:title=\"psysml:6bf27c65-dae0-4f69-b1ef-6329bb319dfc\" xlink:type=\"simple\"><path d=\"M8.5,6 L109.75,6 A3.75,3.75 0 0 1 112.25,8.5 L119.25,28.2969 L1333.5,28.2969 A2.5,2.5 0 0 1 1336,30.7969 L1336,248.22 A2.5,2.5 0 0 1 1333.5,250.72 L8.5,250.72 A2.5,2.5 0 0 1 6,248.22 L6,8.5 A2.5,2.5 0 0 1 8.5,6 \" fill=\"none\" style=\"stroke:#000000;stroke-width:1.5;\"/><line style=\"stroke:#000000;stroke-width:1.5;\" x1=\"6\" x2=\"119.25\" y1=\"28.2969\" y2=\"28.2969\"/><text fill=\"#000000\" font-family=\"sans-serif\" font-size=\"14\" font-weight=\"bold\" lengthAdjust=\"spacing\" textLength=\"100.25\" x=\"10\" y=\"20.9951\">MetadataTest</text></a></g><!--MD5=[e4f7fae6ed58524ba242bb0b0d3be6b7]\n",
       "cluster E2--><g id=\"cluster_E2\"><a href=\"psysml:fde4dbf0-a827-4985-ab3d-be4806656b08\" target=\"_top\" title=\"psysml:fde4dbf0-a827-4985-ab3d-be4806656b08\" xlink:actuate=\"onRequest\" xlink:href=\"psysml:fde4dbf0-a827-4985-ab3d-be4806656b08\" xlink:show=\"new\" xlink:title=\"psysml:fde4dbf0-a827-4985-ab3d-be4806656b08\" xlink:type=\"simple\"><path d=\"M805.5,98.72 L985.6875,98.72 A3.75,3.75 0 0 1 988.1875,101.22 L995.1875,121.0169 L1293.5,121.0169 A2.5,2.5 0 0 1 1296,123.5169 L1296,208.22 A2.5,2.5 0 0 1 1293.5,210.72 L805.5,210.72 A2.5,2.5 0 0 1 803,208.22 L803,101.22 A2.5,2.5 0 0 1 805.5,98.72 \" fill=\"none\" style=\"stroke:#000000;stroke-width:1.5;\"/><line style=\"stroke:#000000;stroke-width:1.5;\" x1=\"803\" x2=\"995.1875\" y1=\"121.0169\" y2=\"121.0169\"/><text fill=\"#000000\" font-family=\"sans-serif\" font-size=\"14\" font-weight=\"bold\" lengthAdjust=\"spacing\" textLength=\"179.1875\" x=\"807\" y=\"113.7151\">User Defined Extensions</text></a></g><!--MD5=[60a26617385b1d2d0262a64233df1f8d]\n",
       "class E6--><a href=\"psysml:ab215fb4-7997-4c5e-99e0-8fea9c1d3082\" target=\"_top\" title=\"psysml:ab215fb4-7997-4c5e-99e0-8fea9c1d3082\" xlink:actuate=\"onRequest\" xlink:href=\"psysml:ab215fb4-7997-4c5e-99e0-8fea9c1d3082\" xlink:show=\"new\" xlink:title=\"psysml:ab215fb4-7997-4c5e-99e0-8fea9c1d3082\" xlink:type=\"simple\"><g id=\"elem_E6\"><rect fill=\"#F1F1F1\" height=\"56.2656\" id=\"E6\" rx=\"10\" ry=\"10\" style=\"stroke:#181818;stroke-width:0.5;\" width=\"103\" x=\"672.5\" y=\"136.22\"/><ellipse cx=\"687.5\" cy=\"156.3528\" fill=\"#FFA500\" rx=\"11\" ry=\"11\" style=\"stroke:#181818;stroke-width:1.0;\"/><path d=\"M687.5625,163.5247 Q685.4531,163.5247 684.3594,162.3997 Q683.2656,161.2747 683.2656,159.2278 L683.2656,151.2122 L685.7344,151.2122 L685.7344,158.7903 Q685.7344,160.2278 686.1875,160.8216 Q686.6406,161.3997 687.5938,161.3997 Q688.6094,161.3997 689.0313,160.7903 Q689.4688,160.1809 689.4688,158.7747 L689.4688,151.2122 L691.9375,151.2122 L691.9375,159.2122 Q691.9375,161.1966 690.8438,162.3684 Q689.7656,163.5247 687.5625,163.5247 Z \" fill=\"#000000\"/><text fill=\"#000000\" font-family=\"sans-serif\" font-size=\"12\" font-style=\"italic\" lengthAdjust=\"spacing\" textLength=\"75\" x=\"699.5\" y=\"152.3587\">«reference»</text><text fill=\"#000000\" font-family=\"sans-serif\" font-size=\"14\" lengthAdjust=\"spacing\" textLength=\"7\" x=\"729.5\" y=\"168.1839\">x</text><line style=\"stroke:#181818;stroke-width:0.5;\" x1=\"673.5\" x2=\"774.5\" y1=\"176.4856\" y2=\"176.4856\"/><line style=\"stroke:#181818;stroke-width:0.5;\" x1=\"673.5\" x2=\"774.5\" y1=\"184.4856\" y2=\"184.4856\"/></g></a><!--MD5=[2156ba9850f5573cc1fc38a6a4b2f02b]\n",
       "class E7--><a href=\"psysml:c7350727-55c2-4532-b138-8da3db2b593b\" target=\"_top\" title=\"psysml:c7350727-55c2-4532-b138-8da3db2b593b\" xlink:actuate=\"onRequest\" xlink:href=\"psysml:c7350727-55c2-4532-b138-8da3db2b593b\" xlink:show=\"new\" xlink:title=\"psysml:c7350727-55c2-4532-b138-8da3db2b593b\" xlink:type=\"simple\"><g id=\"elem_E7\"><rect fill=\"#F1F1F1\" height=\"56.2656\" id=\"E7\" rx=\"10\" ry=\"10\" style=\"stroke:#181818;stroke-width:0.5;\" width=\"102\" x=\"535\" y=\"136.22\"/><ellipse cx=\"550\" cy=\"156.3528\" fill=\"#F1F1F1\" rx=\"11\" ry=\"11\" style=\"stroke:#181818;stroke-width:1.0;\"/><path d=\"M550.0625,163.5247 Q547.9531,163.5247 546.8594,162.3997 Q545.7656,161.2747 545.7656,159.2278 L545.7656,151.2122 L548.2344,151.2122 L548.2344,158.7903 Q548.2344,160.2278 548.6875,160.8216 Q549.1406,161.3997 550.0938,161.3997 Q551.1094,161.3997 551.5313,160.7903 Q551.9688,160.1809 551.9688,158.7747 L551.9688,151.2122 L554.4375,151.2122 L554.4375,159.2122 Q554.4375,161.1966 553.3438,162.3684 Q552.2656,163.5247 550.0625,163.5247 Z \" fill=\"#000000\"/><text fill=\"#000000\" font-family=\"sans-serif\" font-size=\"12\" font-style=\"italic\" lengthAdjust=\"spacing\" textLength=\"74\" x=\"562\" y=\"152.3587\">«#Security»</text><text fill=\"#000000\" font-family=\"sans-serif\" font-size=\"14\" lengthAdjust=\"spacing\" textLength=\"7\" x=\"591.5\" y=\"168.1839\">y</text><line style=\"stroke:#181818;stroke-width:0.5;\" x1=\"536\" x2=\"636\" y1=\"176.4856\" y2=\"176.4856\"/><line style=\"stroke:#181818;stroke-width:0.5;\" x1=\"536\" x2=\"636\" y1=\"184.4856\" y2=\"184.4856\"/></g></a><!--MD5=[96f4274e9e20536e775497830990834d]\n",
       "class E10--><a href=\"psysml:bedd784f-2083-437e-9a45-6e64d2c52a15\" target=\"_top\" title=\"psysml:bedd784f-2083-437e-9a45-6e64d2c52a15\" xlink:actuate=\"onRequest\" xlink:href=\"psysml:bedd784f-2083-437e-9a45-6e64d2c52a15\" xlink:show=\"new\" xlink:title=\"psysml:bedd784f-2083-437e-9a45-6e64d2c52a15\" xlink:type=\"simple\"><g id=\"elem_E10\"><rect fill=\"#F1F1F1\" height=\"56.2656\" id=\"E10\" rx=\"10\" ry=\"10\" style=\"stroke:#181818;stroke-width:0.5;\" width=\"103\" x=\"396.5\" y=\"136.22\"/><ellipse cx=\"411.5\" cy=\"156.3528\" fill=\"#FFA500\" rx=\"11\" ry=\"11\" style=\"stroke:#181818;stroke-width:1.0;\"/><path d=\"M411.5625,163.5247 Q409.4531,163.5247 408.3594,162.3997 Q407.2656,161.2747 407.2656,159.2278 L407.2656,151.2122 L409.7344,151.2122 L409.7344,158.7903 Q409.7344,160.2278 410.1875,160.8216 Q410.6406,161.3997 411.5938,161.3997 Q412.6094,161.3997 413.0313,160.7903 Q413.4688,160.1809 413.4688,158.7747 L413.4688,151.2122 L415.9375,151.2122 L415.9375,159.2122 Q415.9375,161.1966 414.8438,162.3684 Q413.7656,163.5247 411.5625,163.5247 Z \" fill=\"#000000\"/><text fill=\"#000000\" font-family=\"sans-serif\" font-size=\"12\" font-style=\"italic\" lengthAdjust=\"spacing\" textLength=\"75\" x=\"423.5\" y=\"152.3587\">«reference»</text><text fill=\"#000000\" font-family=\"sans-serif\" font-size=\"14\" lengthAdjust=\"spacing\" textLength=\"8\" x=\"453\" y=\"168.1839\">z</text><line style=\"stroke:#181818;stroke-width:0.5;\" x1=\"397.5\" x2=\"498.5\" y1=\"176.4856\" y2=\"176.4856\"/><line style=\"stroke:#181818;stroke-width:0.5;\" x1=\"397.5\" x2=\"498.5\" y1=\"184.4856\" y2=\"184.4856\"/></g></a><g><a href=\"psysml:875613db-282a-4c31-9ce2-2c5502fc9987\" target=\"_top\" title=\"psysml:875613db-282a-4c31-9ce2-2c5502fc9987\" xlink:actuate=\"onRequest\" xlink:href=\"psysml:875613db-282a-4c31-9ce2-2c5502fc9987\" xlink:show=\"new\" xlink:title=\"psysml:875613db-282a-4c31-9ce2-2c5502fc9987\" xlink:type=\"simple\"><rect fill=\"#F1F1F1\" height=\"45.2656\" id=\"E3\" style=\"stroke:#A80036;stroke-width:1.5;\" width=\"161\" x=\"1110.5\" y=\"141.72\"/><ellipse cx=\"1127.75\" cy=\"161.8528\" fill=\"#ADD1B2\" rx=\"11\" ry=\"11\" style=\"stroke:#181818;stroke-width:1.0;\"/><path d=\"M1124.5156,168.3528 L1124.5156,156.2122 L1128.2656,156.2122 Q1130.6406,156.2122 1132.0313,157.7278 Q1133.4375,159.2278 1133.4375,162.1809 Q1133.4375,165.1497 1132,166.7591 Q1130.5625,168.3528 1128.0781,168.3528 L1124.5156,168.3528 Z M1127.9531,166.2591 Q1129.5,166.2591 1130.2188,165.2591 Q1130.9375,164.2591 1130.9375,162.1966 Q1130.9375,160.1653 1130.2344,159.2434 Q1129.5469,158.3059 1128.1563,158.3059 L1126.9531,158.3059 L1126.9531,166.2591 L1127.9531,166.2591 Z \" fill=\"#000000\"/><text fill=\"#000000\" font-family=\"sans-serif\" font-size=\"12\" font-style=\"italic\" lengthAdjust=\"spacing\" textLength=\"74\" x=\"1167.25\" y=\"157.8587\">«#Security»</text><text fill=\"#000000\" font-family=\"sans-serif\" font-size=\"14\" font-style=\"italic\" lengthAdjust=\"spacing\" textLength=\"124\" x=\"1142.25\" y=\"173.6839\">ClassificationLevel</text></a></g><g><a href=\"psysml:7d365ab2-02f5-4019-ac52-725960bbc954\" target=\"_top\" title=\"psysml:7d365ab2-02f5-4019-ac52-725960bbc954\" xlink:actuate=\"onRequest\" xlink:href=\"psysml:7d365ab2-02f5-4019-ac52-725960bbc954\" xlink:show=\"new\" xlink:title=\"psysml:7d365ab2-02f5-4019-ac52-725960bbc954\" xlink:type=\"simple\"><rect fill=\"#F1F1F1\" height=\"40\" id=\"E4\" style=\"stroke:#A80036;stroke-width:1.5;\" width=\"102\" x=\"973\" y=\"144.22\"/><ellipse cx=\"990.25\" cy=\"160.22\" fill=\"#008000\" rx=\"11\" ry=\"11\" style=\"stroke:#181818;stroke-width:1.0;\"/><path d=\"M987.1094,166.72 L987.1094,154.5794 L990.9063,154.5794 Q992.9063,154.5794 993.9531,155.2825 Q995.0156,155.9856 995.0156,157.5638 Q995.0156,158.6575 994.5156,159.3763 Q994.0313,160.095 993.2031,160.2825 L993.2031,160.3606 Q994.125,160.5794 994.6875,161.2513 Q995.2656,161.9075 995.2656,163.1731 Q995.2656,164.8294 994.2188,165.7825 Q993.1719,166.72 991.3125,166.72 L987.1094,166.72 Z M990.8906,159.3606 Q991.7813,159.3606 992.1406,159.0325 Q992.5156,158.6888 992.5156,157.9856 Q992.5156,157.2513 992.125,156.9388 Q991.7344,156.6106 990.7969,156.6106 L989.4063,156.6106 L989.4063,159.3606 L990.8906,159.3606 Z M991.0781,164.7044 Q991.9844,164.7044 992.3438,164.2669 Q992.7031,163.8138 992.7031,163.0325 Q992.7031,162.2513 992.3281,161.8606 Q991.9688,161.4544 990.9844,161.4544 L989.4063,161.4544 L989.4063,164.7044 L991.0781,164.7044 Z \" fill=\"#000000\"/><text fill=\"#000000\" font-family=\"sans-serif\" font-size=\"14\" lengthAdjust=\"spacing\" textLength=\"65\" x=\"1004.75\" y=\"165.0667\">Classified</text></a></g><g><a href=\"psysml:b54cb894-c9b4-4b22-a0a5-6c760d030873\" target=\"_top\" title=\"psysml:b54cb894-c9b4-4b22-a0a5-6c760d030873\" xlink:actuate=\"onRequest\" xlink:href=\"psysml:b54cb894-c9b4-4b22-a0a5-6c760d030873\" xlink:show=\"new\" xlink:title=\"psysml:b54cb894-c9b4-4b22-a0a5-6c760d030873\" xlink:type=\"simple\"><rect fill=\"#F1F1F1\" height=\"40\" id=\"E5\" style=\"stroke:#A80036;stroke-width:1.5;\" width=\"92\" x=\"846\" y=\"144.22\"/><ellipse cx=\"863.25\" cy=\"160.22\" fill=\"#008000\" rx=\"11\" ry=\"11\" style=\"stroke:#181818;stroke-width:1.0;\"/><path d=\"M860.1094,166.72 L860.1094,154.5794 L863.9063,154.5794 Q865.9063,154.5794 866.9531,155.2825 Q868.0156,155.9856 868.0156,157.5638 Q868.0156,158.6575 867.5156,159.3763 Q867.0313,160.095 866.2031,160.2825 L866.2031,160.3606 Q867.125,160.5794 867.6875,161.2513 Q868.2656,161.9075 868.2656,163.1731 Q868.2656,164.8294 867.2188,165.7825 Q866.1719,166.72 864.3125,166.72 L860.1094,166.72 Z M863.8906,159.3606 Q864.7813,159.3606 865.1406,159.0325 Q865.5156,158.6888 865.5156,157.9856 Q865.5156,157.2513 865.125,156.9388 Q864.7344,156.6106 863.7969,156.6106 L862.4063,156.6106 L862.4063,159.3606 L863.8906,159.3606 Z M864.0781,164.7044 Q864.9844,164.7044 865.3438,164.2669 Q865.7031,163.8138 865.7031,163.0325 Q865.7031,162.2513 865.3281,161.8606 Q864.9688,161.4544 863.9844,161.4544 L862.4063,161.4544 L862.4063,164.7044 L864.0781,164.7044 Z \" fill=\"#000000\"/><text fill=\"#000000\" font-family=\"sans-serif\" font-size=\"14\" lengthAdjust=\"spacing\" textLength=\"55\" x=\"877.75\" y=\"165.0667\">Security</text></a></g><g><a href=\"psysml:09bb7bef-5578-400a-ab09-b89f3b478a84\" target=\"_top\" title=\"psysml:09bb7bef-5578-400a-ab09-b89f3b478a84\" xlink:actuate=\"onRequest\" xlink:href=\"psysml:09bb7bef-5578-400a-ab09-b89f3b478a84\" xlink:show=\"new\" xlink:title=\"psysml:09bb7bef-5578-400a-ab09-b89f3b478a84\" xlink:type=\"simple\"><rect fill=\"#F1F1F1\" height=\"45.2656\" id=\"E8\" rx=\"10\" ry=\"10\" style=\"stroke:#A80036;stroke-width:1.5;\" width=\"180\" x=\"181\" y=\"141.72\"/><ellipse cx=\"198.25\" cy=\"161.8528\" fill=\"#F1F1F1\" rx=\"11\" ry=\"11\" style=\"stroke:#181818;stroke-width:1.0;\"/><path d=\"M198.3125,169.0247 Q196.2031,169.0247 195.1094,167.8997 Q194.0156,166.7747 194.0156,164.7278 L194.0156,156.7122 L196.4844,156.7122 L196.4844,164.2903 Q196.4844,165.7278 196.9375,166.3216 Q197.3906,166.8997 198.3438,166.8997 Q199.3594,166.8997 199.7813,166.2903 Q200.2188,165.6809 200.2188,164.2747 L200.2188,156.7122 L202.6875,156.7122 L202.6875,164.7122 Q202.6875,166.6966 201.5938,167.8684 Q200.5156,169.0247 198.3125,169.0247 Z \" fill=\"#000000\"/><text fill=\"#000000\" font-family=\"sans-serif\" font-size=\"12\" font-style=\"italic\" lengthAdjust=\"spacing\" textLength=\"147\" x=\"210.75\" y=\"157.8587\">«#Classified #Security»</text><text fill=\"#000000\" font-family=\"sans-serif\" font-size=\"14\" lengthAdjust=\"spacing\" textLength=\"17\" x=\"275.75\" y=\"173.6839\">z1</text></a></g><g><a href=\"psysml:fcfec3d1-5349-46cf-95eb-369f9c247e1c\" target=\"_top\" title=\"psysml:fcfec3d1-5349-46cf-95eb-369f9c247e1c\" xlink:actuate=\"onRequest\" xlink:href=\"psysml:fcfec3d1-5349-46cf-95eb-369f9c247e1c\" xlink:show=\"new\" xlink:title=\"psysml:fcfec3d1-5349-46cf-95eb-369f9c247e1c\" xlink:type=\"simple\"><rect fill=\"#F1F1F1\" height=\"45.2656\" id=\"E9\" rx=\"10\" ry=\"10\" style=\"stroke:#A80036;stroke-width:1.5;\" width=\"116\" x=\"30\" y=\"141.72\"/><ellipse cx=\"47.25\" cy=\"161.8528\" fill=\"#F1F1F1\" rx=\"11\" ry=\"11\" style=\"stroke:#181818;stroke-width:1.0;\"/><path d=\"M47.3125,169.0247 Q45.2031,169.0247 44.1094,167.8997 Q43.0156,166.7747 43.0156,164.7278 L43.0156,156.7122 L45.4844,156.7122 L45.4844,164.2903 Q45.4844,165.7278 45.9375,166.3216 Q46.3906,166.8997 47.3438,166.8997 Q48.3594,166.8997 48.7813,166.2903 Q49.2188,165.6809 49.2188,164.2747 L49.2188,156.7122 L51.6875,156.7122 L51.6875,164.7122 Q51.6875,166.6966 50.5938,167.8684 Q49.5156,169.0247 47.3125,169.0247 Z \" fill=\"#000000\"/><text fill=\"#000000\" font-family=\"sans-serif\" font-size=\"12\" font-style=\"italic\" lengthAdjust=\"spacing\" textLength=\"83\" x=\"59.75\" y=\"157.8587\">«#Classified»</text><text fill=\"#000000\" font-family=\"sans-serif\" font-size=\"14\" font-style=\"italic\" lengthAdjust=\"spacing\" textLength=\"17\" x=\"92.75\" y=\"173.6839\">z2</text></a></g><!--MD5=[1f1cd8e6dd4c1b2ca2aaccc9b9bcea6e]\n",
       "link E1 to E2--><g id=\"link_E1_E2\"><a href=\"psysml:7790dee3-4a68-47c5-b25f-526a96f63664\" target=\"_top\" title=\"psysml:7790dee3-4a68-47c5-b25f-526a96f63664\" xlink:actuate=\"onRequest\" xlink:href=\"psysml:7790dee3-4a68-47c5-b25f-526a96f63664\" xlink:show=\"new\" xlink:title=\"psysml:7790dee3-4a68-47c5-b25f-526a96f63664\" xlink:type=\"simple\"><path d=\"M811,33.81 C811,35.74 811,67.12 811,98.4925 \" fill=\"none\" id=\"E1-to-E2\" style=\"stroke:#181818;stroke-width:1.0;stroke-dasharray:7.0,7.0;\"/><polygon fill=\"#181818\" points=\"811,98.4925,815,89.4925,811,93.4925,807,89.4925,811,98.4925\" style=\"stroke:#181818;stroke-width:1.0;\"/><text fill=\"#000000\" font-family=\"sans-serif\" font-size=\"13\" lengthAdjust=\"spacing\" textLength=\"65\" x=\"812\" y=\"54.7869\">«import»*</text></a></g><!--MD5=[a14b41ba81fed454fe527d744b18dd6d]\n",
       "@startuml\r\n",
       " skinparam ranksep 10\r\n",
       "skinparam rectangle {\r\n",
       " backgroundColor<<block>> LightGreen\r\n",
       "}\r\n",
       "\r\n",
       "package \"MetadataTest\" as E1  [[psysml:6bf27c65-dae0-4f69-b1ef-6329bb319dfc ]]  {\r\n",
       "package \"User Defined Extensions\" as E2  [[psysml:fde4dbf0-a827-4985-ab3d-be4806656b08 ]]  {\r\n",
       "def \"<i>ClassificationLevel</i>\" as E3 <<#Security>>[[psysml:875613db-282a-4c31-9ce2-2c5502fc9987 ]] \r\n",
       "def \"Classified\" as E4  << << (B,green) >> [[psysml:7d365ab2-02f5-4019-ac52-725960bbc954 ]] \r\n",
       "def \"Security\" as E5  << << (B,green) >> [[psysml:b54cb894-c9b4-4b22-a0a5-6c760d030873 ]] \r\n",
       "}\r\n",
       "usage \"x  \" as E6  << <<(U,orange) reference>> [[psysml:ab215fb4-7997-4c5e-99e0-8fea9c1d3082 ]] \r\n",
       "usage \"y  \" as E7 <<#Security>>[[psysml:c7350727-55c2-4532-b138-8da3db2b593b ]] \r\n",
       "rec usage \"z1\" as E8 <<#Classified #Security>>[[psysml:09bb7bef-5578-400a-ab09-b89f3b478a84 ]] {\r\n",
       "}\r\n",
       "rec usage \"<i>z2</i>\" as E9 <<#Classified>>[[psysml:fcfec3d1-5349-46cf-95eb-369f9c247e1c ]] {\r\n",
       "}\r\n",
       "usage \"z  \" as E10  << <<(U,orange) reference>> [[psysml:bedd784f-2083-437e-9a45-6e64d2c52a15 ]] \r\n",
       "}\r\n",
       "E1 ..> E2 [[psysml:7790dee3-4a68-47c5-b25f-526a96f63664 ]] : <<import>>*\r\n",
       "@enduml\r\n",
       "\n",
       "PlantUML version 1.2022.7(Mon Aug 22 17:01:30 UTC 2022)\n",
       "(EPL source distribution)\n",
       "Java Runtime: OpenJDK Runtime Environment\n",
       "JVM: OpenJDK 64-Bit Server VM\n",
       "Default Encoding: UTF-8\n",
       "Language: en\n",
       "Country: null\n",
       "--></g></svg>"
      ]
     },
     "execution_count": 33,
     "metadata": {},
     "output_type": "execute_result"
    }
   ],
   "source": [
    "%viz --style=\"PLANTUML\" --view=\"Interconnection\" \"MetadataTest\""
   ]
  },
  {
   "cell_type": "code",
   "execution_count": 34,
   "id": "babbab13",
   "metadata": {
    "execution": {
     "iopub.execute_input": "2024-12-16T03:28:24.492213Z",
     "iopub.status.busy": "2024-12-16T03:28:24.491991Z",
     "iopub.status.idle": "2024-12-16T03:28:24.505822Z",
     "shell.execute_reply": "2024-12-16T03:28:24.505013Z"
    }
   },
   "outputs": [
    {
     "data": {
      "image/svg+xml": [
       "<?xml version=\"1.0\" encoding=\"UTF-8\" standalone=\"no\"?><svg xmlns=\"http://www.w3.org/2000/svg\" xmlns:xlink=\"http://www.w3.org/1999/xlink\" contentStyleType=\"text/css\" height=\"81px\" preserveAspectRatio=\"none\" style=\"width:1023px;height:81px;background:#FFFFFF;\" version=\"1.1\" viewBox=\"0 0 1023 81\" width=\"1023px\" zoomAndPan=\"magnify\"><defs/><g><g id=\"elem_E1\"><path d=\"M6,6 L6,74.5448 L315,74.5448 L315,16 L305,6 L6,6 \" fill=\"#FEFFDD\" style=\"stroke:#181818;stroke-width:0.5;\"/><path d=\"M305,6 L305,16 L315,16 L305,6 \" fill=\"#FEFFDD\" style=\"stroke:#181818;stroke-width:1.0;\"/><text fill=\"#000000\" font-family=\"monospace\" font-size=\"13\" lengthAdjust=\"spacing\" textLength=\"112\" x=\"12\" y=\"24.897\">              </text><a href=\"psysml:ccd30bed-0f75-43dd-8560-a117ef71fdae\" target=\"_top\" title=\"psysml:ccd30bed-0f75-43dd-8560-a117ef71fdae\" xlink:actuate=\"onRequest\" xlink:href=\"psysml:ccd30bed-0f75-43dd-8560-a117ef71fdae\" xlink:show=\"new\" xlink:title=\"psysml:ccd30bed-0f75-43dd-8560-a117ef71fdae\" xlink:type=\"simple\"><text fill=\"#0000FF\" font-family=\"sans-serif\" font-size=\"13\" lengthAdjust=\"spacing\" text-decoration=\"underline\" textLength=\"79\" x=\"124\" y=\"25.6401\">«metadata»</text></a><text fill=\"#000000\" font-family=\"monospace\" font-size=\"13\" font-style=\"italic\" lengthAdjust=\"spacing\" textLength=\"112\" x=\"12\" y=\"42.603\">              </text><text fill=\"#000000\" font-family=\"sans-serif\" font-size=\"13\" font-style=\"italic\" lengthAdjust=\"spacing\" textLength=\"60\" x=\"124\" y=\"43.3461\">Classified</text><line style=\"stroke:#181818;stroke-width:1.0;\" x1=\"7\" x2=\"314\" y1=\"46.412\" y2=\"46.412\"/><text fill=\"#000000\" font-family=\"sans-serif\" font-size=\"13\" lengthAdjust=\"spacing\" textLength=\"288\" x=\"12\" y=\"62.4789\">classificationLevel =  ClassificationLevel::conf</text></g><g id=\"elem_E2\"><path d=\"M350,6 L350,74.5448 L659,74.5448 L659,16 L649,6 L350,6 \" fill=\"#FEFFDD\" style=\"stroke:#181818;stroke-width:0.5;\"/><path d=\"M649,6 L649,16 L659,16 L649,6 \" fill=\"#FEFFDD\" style=\"stroke:#181818;stroke-width:1.0;\"/><text fill=\"#000000\" font-family=\"monospace\" font-size=\"13\" lengthAdjust=\"spacing\" textLength=\"112\" x=\"356\" y=\"24.897\">              </text><a href=\"psysml:a50d3885-9ceb-42ed-af81-8542a216cf29\" target=\"_top\" title=\"psysml:a50d3885-9ceb-42ed-af81-8542a216cf29\" xlink:actuate=\"onRequest\" xlink:href=\"psysml:a50d3885-9ceb-42ed-af81-8542a216cf29\" xlink:show=\"new\" xlink:title=\"psysml:a50d3885-9ceb-42ed-af81-8542a216cf29\" xlink:type=\"simple\"><text fill=\"#0000FF\" font-family=\"sans-serif\" font-size=\"13\" lengthAdjust=\"spacing\" text-decoration=\"underline\" textLength=\"79\" x=\"468\" y=\"25.6401\">«metadata»</text></a><text fill=\"#000000\" font-family=\"monospace\" font-size=\"13\" font-style=\"italic\" lengthAdjust=\"spacing\" textLength=\"112\" x=\"356\" y=\"42.603\">              </text><text fill=\"#000000\" font-family=\"sans-serif\" font-size=\"13\" font-style=\"italic\" lengthAdjust=\"spacing\" textLength=\"60\" x=\"468\" y=\"43.3461\">Classified</text><line style=\"stroke:#181818;stroke-width:1.0;\" x1=\"351\" x2=\"658\" y1=\"46.412\" y2=\"46.412\"/><text fill=\"#000000\" font-family=\"sans-serif\" font-size=\"13\" lengthAdjust=\"spacing\" textLength=\"288\" x=\"356\" y=\"62.4789\">classificationLevel =  ClassificationLevel::conf</text></g><g id=\"elem_E3\"><path d=\"M694.5,6 L694.5,74.5448 L1016.5,74.5448 L1016.5,16 L1006.5,6 L694.5,6 \" fill=\"#FEFFDD\" style=\"stroke:#181818;stroke-width:0.5;\"/><path d=\"M1006.5,6 L1006.5,16 L1016.5,16 L1006.5,6 \" fill=\"#FEFFDD\" style=\"stroke:#181818;stroke-width:1.0;\"/><text fill=\"#000000\" font-family=\"monospace\" font-size=\"13\" lengthAdjust=\"spacing\" textLength=\"112\" x=\"700.5\" y=\"24.897\">              </text><a href=\"psysml:7eb290c6-6d6c-4277-b27a-b35f0e599ca6\" target=\"_top\" title=\"psysml:7eb290c6-6d6c-4277-b27a-b35f0e599ca6\" xlink:actuate=\"onRequest\" xlink:href=\"psysml:7eb290c6-6d6c-4277-b27a-b35f0e599ca6\" xlink:show=\"new\" xlink:title=\"psysml:7eb290c6-6d6c-4277-b27a-b35f0e599ca6\" xlink:type=\"simple\"><text fill=\"#0000FF\" font-family=\"sans-serif\" font-size=\"13\" lengthAdjust=\"spacing\" text-decoration=\"underline\" textLength=\"79\" x=\"812.5\" y=\"25.6401\">«metadata»</text></a><text fill=\"#000000\" font-family=\"monospace\" font-size=\"13\" font-style=\"italic\" lengthAdjust=\"spacing\" textLength=\"112\" x=\"700.5\" y=\"42.603\">              </text><text fill=\"#000000\" font-family=\"sans-serif\" font-size=\"13\" font-style=\"italic\" lengthAdjust=\"spacing\" textLength=\"60\" x=\"812.5\" y=\"43.3461\">Classified</text><line style=\"stroke:#181818;stroke-width:1.0;\" x1=\"695.5\" x2=\"1015.5\" y1=\"46.412\" y2=\"46.412\"/><text fill=\"#000000\" font-family=\"sans-serif\" font-size=\"13\" lengthAdjust=\"spacing\" textLength=\"301\" x=\"700.5\" y=\"62.4789\">classificationLevel =  ClassificationLevel::secret</text></g><!--MD5=[a257ab28f3b022cf7daba44cace8465f]\n",
       "@startuml\r\n",
       " skinparam ranksep 8\r\n",
       "\r\n",
       "note as E1\r\n",
       "\"\"              \"\"[[psysml:ccd30bed-0f75-43dd-8560-a117ef71fdae «metadata»]]\r\n",
       "==== \"\"              \"\"Classified\r\n",
       "- -\r\n",
       "classificationLevel =  ClassificationLevel::conf\r\n",
       "end note\r\n",
       "note as E2\r\n",
       "\"\"              \"\"[[psysml:a50d3885-9ceb-42ed-af81-8542a216cf29 «metadata»]]\r\n",
       "==== \"\"              \"\"Classified\r\n",
       "- -\r\n",
       "classificationLevel =  ClassificationLevel::conf\r\n",
       "end note\r\n",
       "note as E3\r\n",
       "\"\"              \"\"[[psysml:7eb290c6-6d6c-4277-b27a-b35f0e599ca6 «metadata»]]\r\n",
       "==== \"\"              \"\"Classified\r\n",
       "- -\r\n",
       "classificationLevel =  ClassificationLevel::secret\r\n",
       "end note\r\n",
       "@enduml\r\n",
       "\n",
       "PlantUML version 1.2022.7(Mon Aug 22 17:01:30 UTC 2022)\n",
       "(EPL source distribution)\n",
       "Java Runtime: OpenJDK Runtime Environment\n",
       "JVM: OpenJDK 64-Bit Server VM\n",
       "Default Encoding: UTF-8\n",
       "Language: en\n",
       "Country: null\n",
       "--></g></svg>"
      ]
     },
     "execution_count": 34,
     "metadata": {},
     "output_type": "execute_result"
    }
   ],
   "source": [
    "%viz --style=\"PLANTUML\" --view=\"Action\" \"MetadataTest\""
   ]
  },
  {
   "cell_type": "code",
   "execution_count": 35,
   "id": "ce6463fe",
   "metadata": {
    "execution": {
     "iopub.execute_input": "2024-12-16T03:28:24.562360Z",
     "iopub.status.busy": "2024-12-16T03:28:24.562047Z",
     "iopub.status.idle": "2024-12-16T03:28:24.569278Z",
     "shell.execute_reply": "2024-12-16T03:28:24.569445Z"
    }
   },
   "outputs": [
    {
     "data": {
      "image/svg+xml": [
       "<?xml version=\"1.0\" encoding=\"UTF-8\" standalone=\"no\"?><svg xmlns=\"http://www.w3.org/2000/svg\" xmlns:xlink=\"http://www.w3.org/1999/xlink\" contentStyleType=\"text/css\" height=\"10px\" preserveAspectRatio=\"none\" style=\"width:10px;height:10px;background:#FFFFFF;\" version=\"1.1\" viewBox=\"0 0 10 10\" width=\"10px\" zoomAndPan=\"magnify\"><defs/><g><!--MD5=[395e82ba475bd2e80052467b56fa0251]\n",
       "@startuml\r\n",
       " skinparam roundcorner 20\r\n",
       "skinparam BoxPadding 20\r\n",
       "skinparam SequenceBoxBackgroundColor #white\r\n",
       "skinparam style strictuml\r\n",
       "skinparam maxMessageSize 100\r\n",
       "\r\n",
       "@enduml\r\n",
       "\n",
       "PlantUML version 1.2022.7(Mon Aug 22 17:01:30 UTC 2022)\n",
       "(EPL source distribution)\n",
       "Java Runtime: OpenJDK Runtime Environment\n",
       "JVM: OpenJDK 64-Bit Server VM\n",
       "Default Encoding: UTF-8\n",
       "Language: en\n",
       "Country: null\n",
       "--></g></svg>"
      ]
     },
     "execution_count": 35,
     "metadata": {},
     "output_type": "execute_result"
    }
   ],
   "source": [
    "%viz --style=\"PLANTUML\" --view=\"Sequence\" \"MetadataTest\""
   ]
  },
  {
   "cell_type": "code",
   "execution_count": 36,
   "id": "ecb0ef41",
   "metadata": {
    "execution": {
     "iopub.execute_input": "2024-12-16T03:28:24.625810Z",
     "iopub.status.busy": "2024-12-16T03:28:24.625615Z",
     "iopub.status.idle": "2024-12-16T03:28:24.650939Z",
     "shell.execute_reply": "2024-12-16T03:28:24.650078Z"
    }
   },
   "outputs": [
    {
     "data": {
      "image/svg+xml": [
       "<?xml version=\"1.0\" encoding=\"UTF-8\" standalone=\"no\"?><svg xmlns=\"http://www.w3.org/2000/svg\" xmlns:xlink=\"http://www.w3.org/1999/xlink\" contentStyleType=\"text/css\" height=\"463px\" preserveAspectRatio=\"none\" style=\"width:711px;height:463px;background:#FFFFFF;\" version=\"1.1\" viewBox=\"0 0 711 463\" width=\"711px\" zoomAndPan=\"magnify\"><defs/><g><!--MD5=[fbc87193dbaf4d95561dea2c320d4a47]\n",
       "cluster E1--><g id=\"cluster_E1\"><a href=\"psysml:6bf27c65-dae0-4f69-b1ef-6329bb319dfc\" target=\"_top\" title=\"psysml:6bf27c65-dae0-4f69-b1ef-6329bb319dfc\" xlink:actuate=\"onRequest\" xlink:href=\"psysml:6bf27c65-dae0-4f69-b1ef-6329bb319dfc\" xlink:show=\"new\" xlink:title=\"psysml:6bf27c65-dae0-4f69-b1ef-6329bb319dfc\" xlink:type=\"simple\"><path d=\"M8.5,6 L109.75,6 A3.75,3.75 0 0 1 112.25,8.5 L119.25,28.2969 L701.5,28.2969 A2.5,2.5 0 0 1 704,30.7969 L704,454.22 A2.5,2.5 0 0 1 701.5,456.72 L8.5,456.72 A2.5,2.5 0 0 1 6,454.22 L6,8.5 A2.5,2.5 0 0 1 8.5,6 \" fill=\"none\" style=\"stroke:#000000;stroke-width:1.5;\"/><line style=\"stroke:#000000;stroke-width:1.5;\" x1=\"6\" x2=\"119.25\" y1=\"28.2969\" y2=\"28.2969\"/><text fill=\"#000000\" font-family=\"sans-serif\" font-size=\"14\" font-weight=\"bold\" lengthAdjust=\"spacing\" textLength=\"100.25\" x=\"10\" y=\"20.9951\">MetadataTest</text></a></g><!--MD5=[e4f7fae6ed58524ba242bb0b0d3be6b7]\n",
       "cluster E2--><g id=\"cluster_E2\"><a href=\"psysml:fde4dbf0-a827-4985-ab3d-be4806656b08\" target=\"_top\" title=\"psysml:fde4dbf0-a827-4985-ab3d-be4806656b08\" xlink:actuate=\"onRequest\" xlink:href=\"psysml:fde4dbf0-a827-4985-ab3d-be4806656b08\" xlink:show=\"new\" xlink:title=\"psysml:fde4dbf0-a827-4985-ab3d-be4806656b08\" xlink:type=\"simple\"><path d=\"M380.5,120.72 L560.6875,120.72 A3.75,3.75 0 0 1 563.1875,123.22 L570.1875,143.0169 L661.5,143.0169 A2.5,2.5 0 0 1 664,145.5169 L664,414.22 A2.5,2.5 0 0 1 661.5,416.72 L380.5,416.72 A2.5,2.5 0 0 1 378,414.22 L378,123.22 A2.5,2.5 0 0 1 380.5,120.72 \" fill=\"none\" style=\"stroke:#000000;stroke-width:1.5;\"/><line style=\"stroke:#000000;stroke-width:1.5;\" x1=\"378\" x2=\"570.1875\" y1=\"143.0169\" y2=\"143.0169\"/><text fill=\"#000000\" font-family=\"sans-serif\" font-size=\"14\" font-weight=\"bold\" lengthAdjust=\"spacing\" textLength=\"179.1875\" x=\"382\" y=\"135.7151\">User Defined Extensions</text></a></g><!--MD5=[60a26617385b1d2d0262a64233df1f8d]\n",
       "class E6--><a href=\"psysml:09bb7bef-5578-400a-ab09-b89f3b478a84\" target=\"_top\" title=\"psysml:09bb7bef-5578-400a-ab09-b89f3b478a84\" xlink:actuate=\"onRequest\" xlink:href=\"psysml:09bb7bef-5578-400a-ab09-b89f3b478a84\" xlink:show=\"new\" xlink:title=\"psysml:09bb7bef-5578-400a-ab09-b89f3b478a84\" xlink:type=\"simple\"><g id=\"elem_E6\"><rect fill=\"#F1F1F1\" height=\"48.2656\" id=\"E6\" rx=\"10\" ry=\"10\" style=\"stroke:#181818;stroke-width:0.5;\" width=\"175\" x=\"175.5\" y=\"159.72\"/><ellipse cx=\"190.5\" cy=\"179.8528\" fill=\"#F1F1F1\" rx=\"11\" ry=\"11\" style=\"stroke:#181818;stroke-width:1.0;\"/><path d=\"M190.5625,187.0247 Q188.4531,187.0247 187.3594,185.8997 Q186.2656,184.7747 186.2656,182.7278 L186.2656,174.7122 L188.7344,174.7122 L188.7344,182.2903 Q188.7344,183.7278 189.1875,184.3216 Q189.6406,184.8997 190.5938,184.8997 Q191.6094,184.8997 192.0313,184.2903 Q192.4688,183.6809 192.4688,182.2747 L192.4688,174.7122 L194.9375,174.7122 L194.9375,182.7122 Q194.9375,184.6966 193.8438,185.8684 Q192.7656,187.0247 190.5625,187.0247 Z \" fill=\"#000000\"/><text fill=\"#000000\" font-family=\"sans-serif\" font-size=\"12\" font-style=\"italic\" lengthAdjust=\"spacing\" textLength=\"147\" x=\"202.5\" y=\"175.8587\">«#Classified #Security»</text><text fill=\"#000000\" font-family=\"sans-serif\" font-size=\"14\" lengthAdjust=\"spacing\" textLength=\"17\" x=\"263.5\" y=\"191.6839\">z1</text><line style=\"stroke:#181818;stroke-width:0.5;\" x1=\"176.5\" x2=\"349.5\" y1=\"199.9856\" y2=\"199.9856\"/></g></a><!--MD5=[2156ba9850f5573cc1fc38a6a4b2f02b]\n",
       "class E7--><a href=\"psysml:fcfec3d1-5349-46cf-95eb-369f9c247e1c\" target=\"_top\" title=\"psysml:fcfec3d1-5349-46cf-95eb-369f9c247e1c\" xlink:actuate=\"onRequest\" xlink:href=\"psysml:fcfec3d1-5349-46cf-95eb-369f9c247e1c\" xlink:show=\"new\" xlink:title=\"psysml:fcfec3d1-5349-46cf-95eb-369f9c247e1c\" xlink:type=\"simple\"><g id=\"elem_E7\"><rect fill=\"#F1F1F1\" height=\"48.2656\" id=\"E7\" rx=\"10\" ry=\"10\" style=\"stroke:#181818;stroke-width:0.5;\" width=\"111\" x=\"29.5\" y=\"159.72\"/><ellipse cx=\"44.5\" cy=\"179.8528\" fill=\"#F1F1F1\" rx=\"11\" ry=\"11\" style=\"stroke:#181818;stroke-width:1.0;\"/><path d=\"M44.5625,187.0247 Q42.4531,187.0247 41.3594,185.8997 Q40.2656,184.7747 40.2656,182.7278 L40.2656,174.7122 L42.7344,174.7122 L42.7344,182.2903 Q42.7344,183.7278 43.1875,184.3216 Q43.6406,184.8997 44.5938,184.8997 Q45.6094,184.8997 46.0313,184.2903 Q46.4688,183.6809 46.4688,182.2747 L46.4688,174.7122 L48.9375,174.7122 L48.9375,182.7122 Q48.9375,184.6966 47.8438,185.8684 Q46.7656,187.0247 44.5625,187.0247 Z \" fill=\"#000000\"/><text fill=\"#000000\" font-family=\"sans-serif\" font-size=\"12\" font-style=\"italic\" lengthAdjust=\"spacing\" textLength=\"83\" x=\"56.5\" y=\"175.8587\">«#Classified»</text><text fill=\"#000000\" font-family=\"sans-serif\" font-size=\"14\" font-style=\"italic\" lengthAdjust=\"spacing\" textLength=\"17\" x=\"85.5\" y=\"191.6839\">z2</text><text fill=\"#000000\" font-family=\"sans-serif\" font-size=\"14\" lengthAdjust=\"spacing\" textLength=\"8\" x=\"102.5\" y=\"191.6839\">  </text><line style=\"stroke:#181818;stroke-width:0.5;\" x1=\"30.5\" x2=\"139.5\" y1=\"199.9856\" y2=\"199.9856\"/></g></a><!--MD5=[09b614a08d8cba4a07c9adeb5e0fee81]\n",
       "class E3--><a href=\"psysml:875613db-282a-4c31-9ce2-2c5502fc9987\" target=\"_top\" title=\"psysml:875613db-282a-4c31-9ce2-2c5502fc9987\" xlink:actuate=\"onRequest\" xlink:href=\"psysml:875613db-282a-4c31-9ce2-2c5502fc9987\" xlink:show=\"new\" xlink:title=\"psysml:875613db-282a-4c31-9ce2-2c5502fc9987\" xlink:type=\"simple\"><g id=\"elem_E3\"><rect fill=\"#F1F1F1\" height=\"107.675\" id=\"E3\" rx=\"2.5\" ry=\"2.5\" style=\"stroke:#181818;stroke-width:0.5;\" width=\"218\" x=\"421\" y=\"284.72\"/><ellipse cx=\"463.9\" cy=\"304.8528\" fill=\"#ADD1B2\" rx=\"11\" ry=\"11\" style=\"stroke:#181818;stroke-width:1.0;\"/><path d=\"M463.3688,311.7747 Q461.6188,311.7747 460.4781,311.0403 Q459.3531,310.2903 458.7906,308.9466 Q458.2438,307.5872 458.2438,305.7903 Q458.2438,303.7591 458.9,302.3059 Q459.5563,300.8528 460.8375,300.0716 Q462.1188,299.2903 463.9938,299.2903 Q464.8844,299.2903 465.5563,299.4778 Q466.2281,299.6497 466.9156,299.9934 L466.1031,302.0091 Q465.4781,301.6966 464.9313,301.5716 Q464.4,301.4466 463.9156,301.4466 Q462.7438,301.4466 462.0406,301.9778 Q461.3375,302.5091 461.0406,303.4622 Q460.7438,304.4153 460.7438,305.6809 Q460.7438,307.6966 461.4625,308.6653 Q462.1813,309.6184 463.775,309.6184 Q464.3688,309.6184 464.9938,309.4622 Q465.6188,309.3059 466.4469,308.9309 L466.4469,311.1497 Q465.7125,311.4622 464.9156,311.6184 Q464.1344,311.7747 463.3688,311.7747 Z \" fill=\"#000000\"/><text fill=\"#000000\" font-family=\"sans-serif\" font-size=\"12\" font-style=\"italic\" lengthAdjust=\"spacing\" textLength=\"74\" x=\"509.1\" y=\"300.8587\">«#Security»</text><text fill=\"#000000\" font-family=\"sans-serif\" font-size=\"14\" font-style=\"italic\" lengthAdjust=\"spacing\" textLength=\"124\" x=\"484.1\" y=\"316.6839\">ClassificationLevel</text><line style=\"stroke:#181818;stroke-width:0.5;\" x1=\"422\" x2=\"638\" y1=\"324.9856\" y2=\"324.9856\"/><text fill=\"#000000\" font-family=\"sans-serif\" font-size=\"14\" lengthAdjust=\"spacing\" textLength=\"191\" x=\"427\" y=\"352.4995\">uncl: ClassificationLevel = 0</text><text fill=\"#000000\" font-family=\"sans-serif\" font-size=\"14\" lengthAdjust=\"spacing\" textLength=\"192\" x=\"427\" y=\"368.7964\">conf: ClassificationLevel = 1</text><text fill=\"#000000\" font-family=\"sans-serif\" font-size=\"14\" lengthAdjust=\"spacing\" textLength=\"206\" x=\"427\" y=\"385.0932\">secret: ClassificationLevel = 2</text><text fill=\"#000000\" font-family=\"sans-serif\" font-size=\"14\" font-style=\"italic\" lengthAdjust=\"spacing\" textLength=\"48\" x=\"506\" y=\"337.3323\">enums</text></g></a><!--MD5=[ebbe1d658d1005bcc118a6aa81145e00]\n",
       "class E4--><a href=\"psysml:7d365ab2-02f5-4019-ac52-725960bbc954\" target=\"_top\" title=\"psysml:7d365ab2-02f5-4019-ac52-725960bbc954\" xlink:actuate=\"onRequest\" xlink:href=\"psysml:7d365ab2-02f5-4019-ac52-725960bbc954\" xlink:show=\"new\" xlink:title=\"psysml:7d365ab2-02f5-4019-ac52-725960bbc954\" xlink:type=\"simple\"><g id=\"elem_E4\"><rect fill=\"#F1F1F1\" height=\"40\" id=\"E4\" rx=\"2.5\" ry=\"2.5\" style=\"stroke:#181818;stroke-width:0.5;\" width=\"97\" x=\"543.5\" y=\"163.72\"/><ellipse cx=\"558.5\" cy=\"179.72\" fill=\"#008000\" rx=\"11\" ry=\"11\" style=\"stroke:#181818;stroke-width:1.0;\"/><path d=\"M555.3594,186.22 L555.3594,174.0794 L559.1563,174.0794 Q561.1563,174.0794 562.2031,174.7825 Q563.2656,175.4856 563.2656,177.0638 Q563.2656,178.1575 562.7656,178.8763 Q562.2813,179.595 561.4531,179.7825 L561.4531,179.8606 Q562.375,180.0794 562.9375,180.7513 Q563.5156,181.4075 563.5156,182.6731 Q563.5156,184.3294 562.4688,185.2825 Q561.4219,186.22 559.5625,186.22 L555.3594,186.22 Z M559.1406,178.8606 Q560.0313,178.8606 560.3906,178.5325 Q560.7656,178.1888 560.7656,177.4856 Q560.7656,176.7513 560.375,176.4388 Q559.9844,176.1106 559.0469,176.1106 L557.6563,176.1106 L557.6563,178.8606 L559.1406,178.8606 Z M559.3281,184.2044 Q560.2344,184.2044 560.5938,183.7669 Q560.9531,183.3138 560.9531,182.5325 Q560.9531,181.7513 560.5781,181.3606 Q560.2188,180.9544 559.2344,180.9544 L557.6563,180.9544 L557.6563,184.2044 L559.3281,184.2044 Z \" fill=\"#000000\"/><text fill=\"#000000\" font-family=\"sans-serif\" font-size=\"14\" lengthAdjust=\"spacing\" textLength=\"65\" x=\"572.5\" y=\"184.5667\">Classified</text><line style=\"stroke:#181818;stroke-width:0.5;\" x1=\"544.5\" x2=\"639.5\" y1=\"195.72\" y2=\"195.72\"/></g></a><!--MD5=[270fce915f116d4de14055a7c1d9a0f3]\n",
       "class E5--><a href=\"psysml:b54cb894-c9b4-4b22-a0a5-6c760d030873\" target=\"_top\" title=\"psysml:b54cb894-c9b4-4b22-a0a5-6c760d030873\" xlink:actuate=\"onRequest\" xlink:href=\"psysml:b54cb894-c9b4-4b22-a0a5-6c760d030873\" xlink:show=\"new\" xlink:title=\"psysml:b54cb894-c9b4-4b22-a0a5-6c760d030873\" xlink:type=\"simple\"><g id=\"elem_E5\"><rect fill=\"#F1F1F1\" height=\"40\" id=\"E5\" rx=\"2.5\" ry=\"2.5\" style=\"stroke:#181818;stroke-width:0.5;\" width=\"87\" x=\"421.5\" y=\"163.72\"/><ellipse cx=\"436.5\" cy=\"179.72\" fill=\"#008000\" rx=\"11\" ry=\"11\" style=\"stroke:#181818;stroke-width:1.0;\"/><path d=\"M433.3594,186.22 L433.3594,174.0794 L437.1563,174.0794 Q439.1563,174.0794 440.2031,174.7825 Q441.2656,175.4856 441.2656,177.0638 Q441.2656,178.1575 440.7656,178.8763 Q440.2813,179.595 439.4531,179.7825 L439.4531,179.8606 Q440.375,180.0794 440.9375,180.7513 Q441.5156,181.4075 441.5156,182.6731 Q441.5156,184.3294 440.4688,185.2825 Q439.4219,186.22 437.5625,186.22 L433.3594,186.22 Z M437.1406,178.8606 Q438.0313,178.8606 438.3906,178.5325 Q438.7656,178.1888 438.7656,177.4856 Q438.7656,176.7513 438.375,176.4388 Q437.9844,176.1106 437.0469,176.1106 L435.6563,176.1106 L435.6563,178.8606 L437.1406,178.8606 Z M437.3281,184.2044 Q438.2344,184.2044 438.5938,183.7669 Q438.9531,183.3138 438.9531,182.5325 Q438.9531,181.7513 438.5781,181.3606 Q438.2188,180.9544 437.2344,180.9544 L435.6563,180.9544 L435.6563,184.2044 L437.3281,184.2044 Z \" fill=\"#000000\"/><text fill=\"#000000\" font-family=\"sans-serif\" font-size=\"14\" lengthAdjust=\"spacing\" textLength=\"55\" x=\"450.5\" y=\"184.5667\">Security</text><line style=\"stroke:#181818;stroke-width:0.5;\" x1=\"422.5\" x2=\"507.5\" y1=\"195.72\" y2=\"195.72\"/></g></a><!--MD5=[1f1cd8e6dd4c1b2ca2aaccc9b9bcea6e]\n",
       "link E1 to E2--><g id=\"link_E1_E2\"><a href=\"psysml:7790dee3-4a68-47c5-b25f-526a96f63664\" target=\"_top\" title=\"psysml:7790dee3-4a68-47c5-b25f-526a96f63664\" xlink:actuate=\"onRequest\" xlink:href=\"psysml:7790dee3-4a68-47c5-b25f-526a96f63664\" xlink:show=\"new\" xlink:title=\"psysml:7790dee3-4a68-47c5-b25f-526a96f63664\" xlink:type=\"simple\"><path d=\"M386,33.83 C386,36.05 386,72.1525 386,108.2475 C386,110.5034 386,112.7593 386,115.007 C386,116.1308 386,117.2525 386,118.3711 C386,118.9304 386,119.4889 386,120.0466 \" fill=\"none\" id=\"E1-to-E2\" style=\"stroke:#181818;stroke-width:1.0;stroke-dasharray:7.0,7.0;\"/><polygon fill=\"#181818\" points=\"386,120.0466,390,111.0466,386,115.0466,382,111.0466,386,120.0466\" style=\"stroke:#181818;stroke-width:1.0;\"/><text fill=\"#000000\" font-family=\"sans-serif\" font-size=\"13\" lengthAdjust=\"spacing\" textLength=\"65\" x=\"387\" y=\"76.7869\">«import»*</text></a></g><!--MD5=[4735aefadfa2e5978451eb08fa1f3993]\n",
       "reverse link E4 to E3--><g id=\"link_E4_E3\"><a href=\"psysml:70fb76d3-4397-496c-b537-fd7ec6ee6db2\" target=\"_top\" title=\"psysml:70fb76d3-4397-496c-b537-fd7ec6ee6db2\" xlink:actuate=\"onRequest\" xlink:href=\"psysml:70fb76d3-4397-496c-b537-fd7ec6ee6db2\" xlink:show=\"new\" xlink:title=\"psysml:70fb76d3-4397-496c-b537-fd7ec6ee6db2\" xlink:type=\"simple\"><path d=\"M579.32,216.02 C571.34,235.7 560.84,261.61 551.58,284.47 \" fill=\"none\" id=\"E4-backto-E3\" style=\"stroke:#181818;stroke-width:1.0;\"/><polygon fill=\"none\" points=\"584.27,203.79,578.3095,207.8486,579.7634,214.9116,585.7239,210.853,584.27,203.79\" style=\"stroke:#181818;stroke-width:1.0;\"/><text fill=\"#000000\" font-family=\"sans-serif\" font-size=\"13\" lengthAdjust=\"spacing\" textLength=\"114\" x=\"571\" y=\"250.7869\">classificationLevel</text></a></g><!--MD5=[2aad231fb142204262e68b36cd849a10]\n",
       "@startuml\r\n",
       " \r\n",
       "package \"MetadataTest\" as E1  [[psysml:6bf27c65-dae0-4f69-b1ef-6329bb319dfc ]]  {\r\n",
       "package \"User Defined Extensions\" as E2  [[psysml:fde4dbf0-a827-4985-ab3d-be4806656b08 ]]  {\r\n",
       "comp def \"<i>ClassificationLevel</i>\" as E3 <<#Security>>[[psysml:875613db-282a-4c31-9ce2-2c5502fc9987 ]] {\r\n",
       "##//enums//##\r\n",
       "uncl: ClassificationLevel <U+003D> 0\r\n",
       "conf: ClassificationLevel <U+003D> 1\r\n",
       "secret: ClassificationLevel <U+003D> 2\r\n",
       "}\r\n",
       "comp def \"Classified\" as E4  << << (B,green) >> [[psysml:7d365ab2-02f5-4019-ac52-725960bbc954 ]] {\r\n",
       "}\r\n",
       "comp def \"Security\" as E5  << << (B,green) >> [[psysml:b54cb894-c9b4-4b22-a0a5-6c760d030873 ]] {\r\n",
       "}\r\n",
       "}\r\n",
       "comp usage \"z1  \" as E6 <<#Classified #Security>>[[psysml:09bb7bef-5578-400a-ab09-b89f3b478a84 ]] {\r\n",
       "}\r\n",
       "comp usage \"<i>z2</i>  \" as E7 <<#Classified>>[[psysml:fcfec3d1-5349-46cf-95eb-369f9c247e1c ]] {\r\n",
       "}\r\n",
       "}\r\n",
       "E1 ..> E2 [[psysml:7790dee3-4a68-47c5-b25f-526a96f63664 ]] : <<import>>*\r\n",
       "E4 o- - E3 [[psysml:70fb76d3-4397-496c-b537-fd7ec6ee6db2 ]] : classificationLevel\r\n",
       "@enduml\r\n",
       "\n",
       "PlantUML version 1.2022.7(Mon Aug 22 17:01:30 UTC 2022)\n",
       "(EPL source distribution)\n",
       "Java Runtime: OpenJDK Runtime Environment\n",
       "JVM: OpenJDK 64-Bit Server VM\n",
       "Default Encoding: UTF-8\n",
       "Language: en\n",
       "Country: null\n",
       "--></g></svg>"
      ]
     },
     "execution_count": 36,
     "metadata": {},
     "output_type": "execute_result"
    }
   ],
   "source": [
    "%viz --style=\"PLANTUML\" --view=\"MIXED\" \"MetadataTest\""
   ]
  },
  {
   "cell_type": "code",
   "execution_count": 37,
   "id": "d1701d38",
   "metadata": {
    "execution": {
     "iopub.execute_input": "2024-12-16T03:28:24.707250Z",
     "iopub.status.busy": "2024-12-16T03:28:24.707026Z",
     "iopub.status.idle": "2024-12-16T03:28:24.729931Z",
     "shell.execute_reply": "2024-12-16T03:28:24.729146Z"
    }
   },
   "outputs": [
    {
     "data": {
      "image/svg+xml": [
       "<?xml version=\"1.0\" encoding=\"UTF-8\" standalone=\"no\"?><svg xmlns=\"http://www.w3.org/2000/svg\" xmlns:xlink=\"http://www.w3.org/1999/xlink\" contentStyleType=\"text/css\" height=\"467px\" preserveAspectRatio=\"none\" style=\"width:707px;height:467px;background:#FFFFFF;\" version=\"1.1\" viewBox=\"0 0 707 467\" width=\"707px\" zoomAndPan=\"magnify\"><defs/><g><!--MD5=[fbc87193dbaf4d95561dea2c320d4a47]\n",
       "cluster E1--><g id=\"cluster_E1\"><a href=\"psysml:6bf27c65-dae0-4f69-b1ef-6329bb319dfc\" target=\"_top\" title=\"psysml:6bf27c65-dae0-4f69-b1ef-6329bb319dfc\" xlink:actuate=\"onRequest\" xlink:href=\"psysml:6bf27c65-dae0-4f69-b1ef-6329bb319dfc\" xlink:show=\"new\" xlink:title=\"psysml:6bf27c65-dae0-4f69-b1ef-6329bb319dfc\" xlink:type=\"simple\"><polygon fill=\"none\" points=\"16,6,122.25,6,129.25,28.2969,690,28.2969,690,460.72,16,460.72,16,6\" style=\"stroke:#000000;stroke-width:1.5;\"/><line style=\"stroke:#000000;stroke-width:1.5;\" x1=\"16\" x2=\"129.25\" y1=\"28.2969\" y2=\"28.2969\"/><text fill=\"#000000\" font-family=\"sans-serif\" font-size=\"14\" font-weight=\"bold\" lengthAdjust=\"spacing\" textLength=\"100.25\" x=\"20\" y=\"20.9951\">MetadataTest</text></a></g><!--MD5=[e4f7fae6ed58524ba242bb0b0d3be6b7]\n",
       "cluster E2--><g id=\"cluster_E2\"><a href=\"psysml:fde4dbf0-a827-4985-ab3d-be4806656b08\" target=\"_top\" title=\"psysml:fde4dbf0-a827-4985-ab3d-be4806656b08\" xlink:actuate=\"onRequest\" xlink:href=\"psysml:fde4dbf0-a827-4985-ab3d-be4806656b08\" xlink:show=\"new\" xlink:title=\"psysml:fde4dbf0-a827-4985-ab3d-be4806656b08\" xlink:type=\"simple\"><polygon fill=\"none\" points=\"337,120.72,522.1875,120.72,529.1875,143.0169,650,143.0169,650,420.72,337,420.72,337,120.72\" style=\"stroke:#000000;stroke-width:1.5;\"/><line style=\"stroke:#000000;stroke-width:1.5;\" x1=\"337\" x2=\"529.1875\" y1=\"143.0169\" y2=\"143.0169\"/><text fill=\"#000000\" font-family=\"sans-serif\" font-size=\"14\" font-weight=\"bold\" lengthAdjust=\"spacing\" textLength=\"179.1875\" x=\"341\" y=\"135.7151\">User Defined Extensions</text></a></g><!--MD5=[60a26617385b1d2d0262a64233df1f8d]\n",
       "class E6--><a href=\"psysml:09bb7bef-5578-400a-ab09-b89f3b478a84\" target=\"_top\" title=\"psysml:09bb7bef-5578-400a-ab09-b89f3b478a84\" xlink:actuate=\"onRequest\" xlink:href=\"psysml:09bb7bef-5578-400a-ab09-b89f3b478a84\" xlink:show=\"new\" xlink:title=\"psysml:09bb7bef-5578-400a-ab09-b89f3b478a84\" xlink:type=\"simple\"><g id=\"elem_E6\"><rect fill=\"#FFFFFF\" height=\"48.2656\" id=\"E6\" rx=\"10\" ry=\"10\" style=\"stroke:#181818;stroke-width:0.5;\" width=\"149\" x=\"160.5\" y=\"163.72\"/><text fill=\"#000000\" font-family=\"sans-serif\" font-size=\"12\" font-style=\"italic\" lengthAdjust=\"spacing\" textLength=\"147\" x=\"161.5\" y=\"179.8587\">«#Classified #Security»</text><text fill=\"#000000\" font-family=\"sans-serif\" font-size=\"14\" lengthAdjust=\"spacing\" textLength=\"17\" x=\"222.5\" y=\"195.6839\">z1</text><line style=\"stroke:#181818;stroke-width:0.5;\" x1=\"161.5\" x2=\"308.5\" y1=\"203.9856\" y2=\"203.9856\"/></g></a><!--MD5=[2156ba9850f5573cc1fc38a6a4b2f02b]\n",
       "class E7--><a href=\"psysml:fcfec3d1-5349-46cf-95eb-369f9c247e1c\" target=\"_top\" title=\"psysml:fcfec3d1-5349-46cf-95eb-369f9c247e1c\" xlink:actuate=\"onRequest\" xlink:href=\"psysml:fcfec3d1-5349-46cf-95eb-369f9c247e1c\" xlink:show=\"new\" xlink:title=\"psysml:fcfec3d1-5349-46cf-95eb-369f9c247e1c\" xlink:type=\"simple\"><g id=\"elem_E7\"><rect fill=\"#FFFFFF\" height=\"48.2656\" id=\"E7\" rx=\"10\" ry=\"10\" style=\"stroke:#181818;stroke-width:0.5;\" width=\"85\" x=\"40.5\" y=\"163.72\"/><text fill=\"#000000\" font-family=\"sans-serif\" font-size=\"12\" font-style=\"italic\" lengthAdjust=\"spacing\" textLength=\"83\" x=\"41.5\" y=\"179.8587\">«#Classified»</text><text fill=\"#000000\" font-family=\"sans-serif\" font-size=\"14\" font-style=\"italic\" lengthAdjust=\"spacing\" textLength=\"17\" x=\"70.5\" y=\"195.6839\">z2</text><text fill=\"#000000\" font-family=\"sans-serif\" font-size=\"14\" lengthAdjust=\"spacing\" textLength=\"8\" x=\"87.5\" y=\"195.6839\">  </text><line style=\"stroke:#181818;stroke-width:0.5;\" x1=\"41.5\" x2=\"124.5\" y1=\"203.9856\" y2=\"203.9856\"/></g></a><!--MD5=[09b614a08d8cba4a07c9adeb5e0fee81]\n",
       "class E3--><a href=\"psysml:875613db-282a-4c31-9ce2-2c5502fc9987\" target=\"_top\" title=\"psysml:875613db-282a-4c31-9ce2-2c5502fc9987\" xlink:actuate=\"onRequest\" xlink:href=\"psysml:875613db-282a-4c31-9ce2-2c5502fc9987\" xlink:show=\"new\" xlink:title=\"psysml:875613db-282a-4c31-9ce2-2c5502fc9987\" xlink:type=\"simple\"><g id=\"elem_E3\"><rect fill=\"#FFFFFF\" height=\"107.675\" id=\"E3\" style=\"stroke:#181818;stroke-width:0.5;\" width=\"218\" x=\"401\" y=\"288.72\"/><text fill=\"#000000\" font-family=\"sans-serif\" font-size=\"12\" font-style=\"italic\" lengthAdjust=\"spacing\" textLength=\"74\" x=\"473\" y=\"304.8587\">«#Security»</text><text fill=\"#000000\" font-family=\"sans-serif\" font-size=\"14\" font-style=\"italic\" lengthAdjust=\"spacing\" textLength=\"124\" x=\"448\" y=\"320.6839\">ClassificationLevel</text><line style=\"stroke:#181818;stroke-width:0.5;\" x1=\"402\" x2=\"618\" y1=\"328.9856\" y2=\"328.9856\"/><text fill=\"#000000\" font-family=\"sans-serif\" font-size=\"14\" lengthAdjust=\"spacing\" textLength=\"191\" x=\"407\" y=\"356.4995\">uncl: ClassificationLevel = 0</text><text fill=\"#000000\" font-family=\"sans-serif\" font-size=\"14\" lengthAdjust=\"spacing\" textLength=\"192\" x=\"407\" y=\"372.7964\">conf: ClassificationLevel = 1</text><text fill=\"#000000\" font-family=\"sans-serif\" font-size=\"14\" lengthAdjust=\"spacing\" textLength=\"206\" x=\"407\" y=\"389.0932\">secret: ClassificationLevel = 2</text><text fill=\"#000000\" font-family=\"sans-serif\" font-size=\"14\" font-style=\"italic\" lengthAdjust=\"spacing\" textLength=\"48\" x=\"486\" y=\"341.3323\">enums</text></g></a><!--MD5=[ebbe1d658d1005bcc118a6aa81145e00]\n",
       "class E4--><a href=\"psysml:7d365ab2-02f5-4019-ac52-725960bbc954\" target=\"_top\" title=\"psysml:7d365ab2-02f5-4019-ac52-725960bbc954\" xlink:actuate=\"onRequest\" xlink:href=\"psysml:7d365ab2-02f5-4019-ac52-725960bbc954\" xlink:show=\"new\" xlink:title=\"psysml:7d365ab2-02f5-4019-ac52-725960bbc954\" xlink:type=\"simple\"><g id=\"elem_E4\"><rect fill=\"#FFFFFF\" height=\"48.2656\" id=\"E4\" style=\"stroke:#181818;stroke-width:0.5;\" width=\"105\" x=\"520.5\" y=\"163.72\"/><text fill=\"#000000\" font-family=\"sans-serif\" font-size=\"12\" font-style=\"italic\" lengthAdjust=\"spacing\" textLength=\"103\" x=\"521.5\" y=\"179.8587\">«metadata  def»</text><text fill=\"#000000\" font-family=\"sans-serif\" font-size=\"14\" lengthAdjust=\"spacing\" textLength=\"65\" x=\"540.5\" y=\"195.6839\">Classified</text><line style=\"stroke:#181818;stroke-width:0.5;\" x1=\"521.5\" x2=\"624.5\" y1=\"203.9856\" y2=\"203.9856\"/></g></a><!--MD5=[270fce915f116d4de14055a7c1d9a0f3]\n",
       "class E5--><a href=\"psysml:b54cb894-c9b4-4b22-a0a5-6c760d030873\" target=\"_top\" title=\"psysml:b54cb894-c9b4-4b22-a0a5-6c760d030873\" xlink:actuate=\"onRequest\" xlink:href=\"psysml:b54cb894-c9b4-4b22-a0a5-6c760d030873\" xlink:show=\"new\" xlink:title=\"psysml:b54cb894-c9b4-4b22-a0a5-6c760d030873\" xlink:type=\"simple\"><g id=\"elem_E5\"><rect fill=\"#FFFFFF\" height=\"48.2656\" id=\"E5\" style=\"stroke:#181818;stroke-width:0.5;\" width=\"105\" x=\"380.5\" y=\"163.72\"/><text fill=\"#000000\" font-family=\"sans-serif\" font-size=\"12\" font-style=\"italic\" lengthAdjust=\"spacing\" textLength=\"103\" x=\"381.5\" y=\"179.8587\">«metadata  def»</text><text fill=\"#000000\" font-family=\"sans-serif\" font-size=\"14\" lengthAdjust=\"spacing\" textLength=\"55\" x=\"405.5\" y=\"195.6839\">Security</text><line style=\"stroke:#181818;stroke-width:0.5;\" x1=\"381.5\" x2=\"484.5\" y1=\"203.9856\" y2=\"203.9856\"/></g></a><!--MD5=[1f1cd8e6dd4c1b2ca2aaccc9b9bcea6e]\n",
       "link E1 to E2--><g id=\"link_E1_E2\"><a href=\"psysml:7790dee3-4a68-47c5-b25f-526a96f63664\" target=\"_top\" title=\"psysml:7790dee3-4a68-47c5-b25f-526a96f63664\" xlink:actuate=\"onRequest\" xlink:href=\"psysml:7790dee3-4a68-47c5-b25f-526a96f63664\" xlink:show=\"new\" xlink:title=\"psysml:7790dee3-4a68-47c5-b25f-526a96f63664\" xlink:type=\"simple\"><path d=\"M345,33.83 C345,36.11 345,73.1825 345,110.2463 C345,112.5627 345,114.8792 345,117.1871 C345,118.3411 345,119.4929 345,120.6415 \" fill=\"none\" id=\"E1-to-E2\" style=\"stroke:#181818;stroke-width:1.0;stroke-dasharray:7.0,7.0;\"/><polygon fill=\"#181818\" points=\"345,120.6415,349,111.6415,345,115.6415,341,111.6415,345,120.6415\" style=\"stroke:#181818;stroke-width:1.0;\"/><text fill=\"#000000\" font-family=\"sans-serif\" font-size=\"13\" lengthAdjust=\"spacing\" textLength=\"65\" x=\"346\" y=\"76.7869\">«import»*</text></a></g><!--MD5=[4735aefadfa2e5978451eb08fa1f3993]\n",
       "reverse link E4 to E3--><g id=\"link_E4_E3\"><a href=\"psysml:70fb76d3-4397-496c-b537-fd7ec6ee6db2\" target=\"_top\" title=\"psysml:70fb76d3-4397-496c-b537-fd7ec6ee6db2\" xlink:actuate=\"onRequest\" xlink:href=\"psysml:70fb76d3-4397-496c-b537-fd7ec6ee6db2\" xlink:show=\"new\" xlink:title=\"psysml:70fb76d3-4397-496c-b537-fd7ec6ee6db2\" xlink:type=\"simple\"><path d=\"M558.47,224.01 C550.61,243.1 540.73,267.08 531.96,288.4 \" fill=\"none\" id=\"E4-backto-E3\" style=\"stroke:#181818;stroke-width:1.0;\"/><polygon fill=\"none\" points=\"563.43,211.96,557.4497,215.9894,558.869,223.0594,564.8493,219.0301,563.43,211.96\" style=\"stroke:#181818;stroke-width:1.0;\"/><text fill=\"#000000\" font-family=\"sans-serif\" font-size=\"13\" lengthAdjust=\"spacing\" textLength=\"114\" x=\"551\" y=\"254.7869\">classificationLevel</text></a></g><!--MD5=[dc100758bf1fb325072b1ad7923f2e7d]\n",
       "@startuml\r\n",
       "skin sysmlbw\r\n",
       "skinparam monochrome true\r\n",
       "skinparam wrapWidth 300\r\n",
       "hide circle\r\n",
       "\r\n",
       "package \"MetadataTest\" as E1  [[psysml:6bf27c65-dae0-4f69-b1ef-6329bb319dfc ]]  {\r\n",
       "package \"User Defined Extensions\" as E2  [[psysml:fde4dbf0-a827-4985-ab3d-be4806656b08 ]]  {\r\n",
       "comp def \"<i>ClassificationLevel</i>\" as E3 <<#Security>>[[psysml:875613db-282a-4c31-9ce2-2c5502fc9987 ]] {\r\n",
       "##//enums//##\r\n",
       "uncl: ClassificationLevel <U+003D> 0\r\n",
       "conf: ClassificationLevel <U+003D> 1\r\n",
       "secret: ClassificationLevel <U+003D> 2\r\n",
       "}\r\n",
       "comp def \"Classified\" as E4  <<(T,blue) metadata  def>> [[psysml:7d365ab2-02f5-4019-ac52-725960bbc954 ]] {\r\n",
       "}\r\n",
       "comp def \"Security\" as E5  <<(T,blue) metadata  def>> [[psysml:b54cb894-c9b4-4b22-a0a5-6c760d030873 ]] {\r\n",
       "}\r\n",
       "}\r\n",
       "comp usage \"z1  \" as E6 <<#Classified #Security>>[[psysml:09bb7bef-5578-400a-ab09-b89f3b478a84 ]] {\r\n",
       "}\r\n",
       "comp usage \"<i>z2</i>  \" as E7 <<#Classified>>[[psysml:fcfec3d1-5349-46cf-95eb-369f9c247e1c ]] {\r\n",
       "}\r\n",
       "}\r\n",
       "E1 ..> E2 [[psysml:7790dee3-4a68-47c5-b25f-526a96f63664 ]] : <<import>>*\r\n",
       "E4 o- - E3 [[psysml:70fb76d3-4397-496c-b537-fd7ec6ee6db2 ]] : classificationLevel\r\n",
       "@enduml\r\n",
       "\n",
       "PlantUML version 1.2022.7(Mon Aug 22 17:01:30 UTC 2022)\n",
       "(EPL source distribution)\n",
       "Java Runtime: OpenJDK Runtime Environment\n",
       "JVM: OpenJDK 64-Bit Server VM\n",
       "Default Encoding: UTF-8\n",
       "Language: en\n",
       "Country: null\n",
       "--></g></svg>"
      ]
     },
     "execution_count": 37,
     "metadata": {},
     "output_type": "execute_result"
    }
   ],
   "source": [
    "%viz --style=\"DEFAULT\" --view=\"Default\" \"MetadataTest\""
   ]
  },
  {
   "cell_type": "code",
   "execution_count": 38,
   "id": "bf4da498",
   "metadata": {
    "execution": {
     "iopub.execute_input": "2024-12-16T03:28:24.783154Z",
     "iopub.status.busy": "2024-12-16T03:28:24.782893Z",
     "iopub.status.idle": "2024-12-16T03:28:24.802527Z",
     "shell.execute_reply": "2024-12-16T03:28:24.801674Z"
    }
   },
   "outputs": [
    {
     "data": {
      "image/svg+xml": [
       "<?xml version=\"1.0\" encoding=\"UTF-8\" standalone=\"no\"?><svg xmlns=\"http://www.w3.org/2000/svg\" xmlns:xlink=\"http://www.w3.org/1999/xlink\" contentStyleType=\"text/css\" height=\"467px\" preserveAspectRatio=\"none\" style=\"width:707px;height:467px;background:#FFFFFF;\" version=\"1.1\" viewBox=\"0 0 707 467\" width=\"707px\" zoomAndPan=\"magnify\"><defs/><g><!--MD5=[fbc87193dbaf4d95561dea2c320d4a47]\n",
       "cluster E1--><g id=\"cluster_E1\"><a href=\"psysml:6bf27c65-dae0-4f69-b1ef-6329bb319dfc\" target=\"_top\" title=\"psysml:6bf27c65-dae0-4f69-b1ef-6329bb319dfc\" xlink:actuate=\"onRequest\" xlink:href=\"psysml:6bf27c65-dae0-4f69-b1ef-6329bb319dfc\" xlink:show=\"new\" xlink:title=\"psysml:6bf27c65-dae0-4f69-b1ef-6329bb319dfc\" xlink:type=\"simple\"><polygon fill=\"none\" points=\"16,6,122.25,6,129.25,28.2969,690,28.2969,690,460.72,16,460.72,16,6\" style=\"stroke:#000000;stroke-width:1.5;\"/><line style=\"stroke:#000000;stroke-width:1.5;\" x1=\"16\" x2=\"129.25\" y1=\"28.2969\" y2=\"28.2969\"/><text fill=\"#000000\" font-family=\"sans-serif\" font-size=\"14\" font-weight=\"bold\" lengthAdjust=\"spacing\" textLength=\"100.25\" x=\"20\" y=\"20.9951\">MetadataTest</text></a></g><!--MD5=[e4f7fae6ed58524ba242bb0b0d3be6b7]\n",
       "cluster E2--><g id=\"cluster_E2\"><a href=\"psysml:fde4dbf0-a827-4985-ab3d-be4806656b08\" target=\"_top\" title=\"psysml:fde4dbf0-a827-4985-ab3d-be4806656b08\" xlink:actuate=\"onRequest\" xlink:href=\"psysml:fde4dbf0-a827-4985-ab3d-be4806656b08\" xlink:show=\"new\" xlink:title=\"psysml:fde4dbf0-a827-4985-ab3d-be4806656b08\" xlink:type=\"simple\"><polygon fill=\"none\" points=\"337,120.72,522.1875,120.72,529.1875,143.0169,650,143.0169,650,420.72,337,420.72,337,120.72\" style=\"stroke:#000000;stroke-width:1.5;\"/><line style=\"stroke:#000000;stroke-width:1.5;\" x1=\"337\" x2=\"529.1875\" y1=\"143.0169\" y2=\"143.0169\"/><text fill=\"#000000\" font-family=\"sans-serif\" font-size=\"14\" font-weight=\"bold\" lengthAdjust=\"spacing\" textLength=\"179.1875\" x=\"341\" y=\"135.7151\">User Defined Extensions</text></a></g><!--MD5=[60a26617385b1d2d0262a64233df1f8d]\n",
       "class E6--><a href=\"psysml:09bb7bef-5578-400a-ab09-b89f3b478a84\" target=\"_top\" title=\"psysml:09bb7bef-5578-400a-ab09-b89f3b478a84\" xlink:actuate=\"onRequest\" xlink:href=\"psysml:09bb7bef-5578-400a-ab09-b89f3b478a84\" xlink:show=\"new\" xlink:title=\"psysml:09bb7bef-5578-400a-ab09-b89f3b478a84\" xlink:type=\"simple\"><g id=\"elem_E6\"><rect fill=\"#FFFFFF\" height=\"48.2656\" id=\"E6\" rx=\"10\" ry=\"10\" style=\"stroke:#181818;stroke-width:0.5;\" width=\"149\" x=\"160.5\" y=\"163.72\"/><text fill=\"#000000\" font-family=\"sans-serif\" font-size=\"12\" font-style=\"italic\" lengthAdjust=\"spacing\" textLength=\"147\" x=\"161.5\" y=\"179.8587\">«#Classified #Security»</text><text fill=\"#000000\" font-family=\"sans-serif\" font-size=\"14\" lengthAdjust=\"spacing\" textLength=\"17\" x=\"222.5\" y=\"195.6839\">z1</text><line style=\"stroke:#181818;stroke-width:0.5;\" x1=\"161.5\" x2=\"308.5\" y1=\"203.9856\" y2=\"203.9856\"/></g></a><!--MD5=[2156ba9850f5573cc1fc38a6a4b2f02b]\n",
       "class E7--><a href=\"psysml:fcfec3d1-5349-46cf-95eb-369f9c247e1c\" target=\"_top\" title=\"psysml:fcfec3d1-5349-46cf-95eb-369f9c247e1c\" xlink:actuate=\"onRequest\" xlink:href=\"psysml:fcfec3d1-5349-46cf-95eb-369f9c247e1c\" xlink:show=\"new\" xlink:title=\"psysml:fcfec3d1-5349-46cf-95eb-369f9c247e1c\" xlink:type=\"simple\"><g id=\"elem_E7\"><rect fill=\"#FFFFFF\" height=\"48.2656\" id=\"E7\" rx=\"10\" ry=\"10\" style=\"stroke:#181818;stroke-width:0.5;\" width=\"85\" x=\"40.5\" y=\"163.72\"/><text fill=\"#000000\" font-family=\"sans-serif\" font-size=\"12\" font-style=\"italic\" lengthAdjust=\"spacing\" textLength=\"83\" x=\"41.5\" y=\"179.8587\">«#Classified»</text><text fill=\"#000000\" font-family=\"sans-serif\" font-size=\"14\" font-style=\"italic\" lengthAdjust=\"spacing\" textLength=\"17\" x=\"70.5\" y=\"195.6839\">z2</text><text fill=\"#000000\" font-family=\"sans-serif\" font-size=\"14\" lengthAdjust=\"spacing\" textLength=\"8\" x=\"87.5\" y=\"195.6839\">  </text><line style=\"stroke:#181818;stroke-width:0.5;\" x1=\"41.5\" x2=\"124.5\" y1=\"203.9856\" y2=\"203.9856\"/></g></a><!--MD5=[09b614a08d8cba4a07c9adeb5e0fee81]\n",
       "class E3--><a href=\"psysml:875613db-282a-4c31-9ce2-2c5502fc9987\" target=\"_top\" title=\"psysml:875613db-282a-4c31-9ce2-2c5502fc9987\" xlink:actuate=\"onRequest\" xlink:href=\"psysml:875613db-282a-4c31-9ce2-2c5502fc9987\" xlink:show=\"new\" xlink:title=\"psysml:875613db-282a-4c31-9ce2-2c5502fc9987\" xlink:type=\"simple\"><g id=\"elem_E3\"><rect fill=\"#FFFFFF\" height=\"107.675\" id=\"E3\" style=\"stroke:#181818;stroke-width:0.5;\" width=\"218\" x=\"401\" y=\"288.72\"/><text fill=\"#000000\" font-family=\"sans-serif\" font-size=\"12\" font-style=\"italic\" lengthAdjust=\"spacing\" textLength=\"74\" x=\"473\" y=\"304.8587\">«#Security»</text><text fill=\"#000000\" font-family=\"sans-serif\" font-size=\"14\" font-style=\"italic\" lengthAdjust=\"spacing\" textLength=\"124\" x=\"448\" y=\"320.6839\">ClassificationLevel</text><line style=\"stroke:#181818;stroke-width:0.5;\" x1=\"402\" x2=\"618\" y1=\"328.9856\" y2=\"328.9856\"/><text fill=\"#000000\" font-family=\"sans-serif\" font-size=\"14\" lengthAdjust=\"spacing\" textLength=\"191\" x=\"407\" y=\"356.4995\">uncl: ClassificationLevel = 0</text><text fill=\"#000000\" font-family=\"sans-serif\" font-size=\"14\" lengthAdjust=\"spacing\" textLength=\"192\" x=\"407\" y=\"372.7964\">conf: ClassificationLevel = 1</text><text fill=\"#000000\" font-family=\"sans-serif\" font-size=\"14\" lengthAdjust=\"spacing\" textLength=\"206\" x=\"407\" y=\"389.0932\">secret: ClassificationLevel = 2</text><text fill=\"#000000\" font-family=\"sans-serif\" font-size=\"14\" font-style=\"italic\" lengthAdjust=\"spacing\" textLength=\"48\" x=\"486\" y=\"341.3323\">enums</text></g></a><!--MD5=[ebbe1d658d1005bcc118a6aa81145e00]\n",
       "class E4--><a href=\"psysml:7d365ab2-02f5-4019-ac52-725960bbc954\" target=\"_top\" title=\"psysml:7d365ab2-02f5-4019-ac52-725960bbc954\" xlink:actuate=\"onRequest\" xlink:href=\"psysml:7d365ab2-02f5-4019-ac52-725960bbc954\" xlink:show=\"new\" xlink:title=\"psysml:7d365ab2-02f5-4019-ac52-725960bbc954\" xlink:type=\"simple\"><g id=\"elem_E4\"><rect fill=\"#FFFFFF\" height=\"48.2656\" id=\"E4\" style=\"stroke:#181818;stroke-width:0.5;\" width=\"105\" x=\"520.5\" y=\"163.72\"/><text fill=\"#000000\" font-family=\"sans-serif\" font-size=\"12\" font-style=\"italic\" lengthAdjust=\"spacing\" textLength=\"103\" x=\"521.5\" y=\"179.8587\">«metadata  def»</text><text fill=\"#000000\" font-family=\"sans-serif\" font-size=\"14\" lengthAdjust=\"spacing\" textLength=\"65\" x=\"540.5\" y=\"195.6839\">Classified</text><line style=\"stroke:#181818;stroke-width:0.5;\" x1=\"521.5\" x2=\"624.5\" y1=\"203.9856\" y2=\"203.9856\"/></g></a><!--MD5=[270fce915f116d4de14055a7c1d9a0f3]\n",
       "class E5--><a href=\"psysml:b54cb894-c9b4-4b22-a0a5-6c760d030873\" target=\"_top\" title=\"psysml:b54cb894-c9b4-4b22-a0a5-6c760d030873\" xlink:actuate=\"onRequest\" xlink:href=\"psysml:b54cb894-c9b4-4b22-a0a5-6c760d030873\" xlink:show=\"new\" xlink:title=\"psysml:b54cb894-c9b4-4b22-a0a5-6c760d030873\" xlink:type=\"simple\"><g id=\"elem_E5\"><rect fill=\"#FFFFFF\" height=\"48.2656\" id=\"E5\" style=\"stroke:#181818;stroke-width:0.5;\" width=\"105\" x=\"380.5\" y=\"163.72\"/><text fill=\"#000000\" font-family=\"sans-serif\" font-size=\"12\" font-style=\"italic\" lengthAdjust=\"spacing\" textLength=\"103\" x=\"381.5\" y=\"179.8587\">«metadata  def»</text><text fill=\"#000000\" font-family=\"sans-serif\" font-size=\"14\" lengthAdjust=\"spacing\" textLength=\"55\" x=\"405.5\" y=\"195.6839\">Security</text><line style=\"stroke:#181818;stroke-width:0.5;\" x1=\"381.5\" x2=\"484.5\" y1=\"203.9856\" y2=\"203.9856\"/></g></a><!--MD5=[1f1cd8e6dd4c1b2ca2aaccc9b9bcea6e]\n",
       "link E1 to E2--><g id=\"link_E1_E2\"><a href=\"psysml:7790dee3-4a68-47c5-b25f-526a96f63664\" target=\"_top\" title=\"psysml:7790dee3-4a68-47c5-b25f-526a96f63664\" xlink:actuate=\"onRequest\" xlink:href=\"psysml:7790dee3-4a68-47c5-b25f-526a96f63664\" xlink:show=\"new\" xlink:title=\"psysml:7790dee3-4a68-47c5-b25f-526a96f63664\" xlink:type=\"simple\"><path d=\"M345,33.83 C345,36.11 345,73.1825 345,110.2463 C345,112.5627 345,114.8792 345,117.1871 C345,118.3411 345,119.4929 345,120.6415 \" fill=\"none\" id=\"E1-to-E2\" style=\"stroke:#181818;stroke-width:1.0;stroke-dasharray:7.0,7.0;\"/><polygon fill=\"#181818\" points=\"345,120.6415,349,111.6415,345,115.6415,341,111.6415,345,120.6415\" style=\"stroke:#181818;stroke-width:1.0;\"/><text fill=\"#000000\" font-family=\"sans-serif\" font-size=\"13\" lengthAdjust=\"spacing\" textLength=\"65\" x=\"346\" y=\"76.7869\">«import»*</text></a></g><!--MD5=[4735aefadfa2e5978451eb08fa1f3993]\n",
       "reverse link E4 to E3--><g id=\"link_E4_E3\"><a href=\"psysml:70fb76d3-4397-496c-b537-fd7ec6ee6db2\" target=\"_top\" title=\"psysml:70fb76d3-4397-496c-b537-fd7ec6ee6db2\" xlink:actuate=\"onRequest\" xlink:href=\"psysml:70fb76d3-4397-496c-b537-fd7ec6ee6db2\" xlink:show=\"new\" xlink:title=\"psysml:70fb76d3-4397-496c-b537-fd7ec6ee6db2\" xlink:type=\"simple\"><path d=\"M558.47,224.01 C550.61,243.1 540.73,267.08 531.96,288.4 \" fill=\"none\" id=\"E4-backto-E3\" style=\"stroke:#181818;stroke-width:1.0;\"/><polygon fill=\"none\" points=\"563.43,211.96,557.4497,215.9894,558.869,223.0594,564.8493,219.0301,563.43,211.96\" style=\"stroke:#181818;stroke-width:1.0;\"/><text fill=\"#000000\" font-family=\"sans-serif\" font-size=\"13\" lengthAdjust=\"spacing\" textLength=\"114\" x=\"551\" y=\"254.7869\">classificationLevel</text></a></g><!--MD5=[dc100758bf1fb325072b1ad7923f2e7d]\n",
       "@startuml\r\n",
       "skin sysmlbw\r\n",
       "skinparam monochrome true\r\n",
       "skinparam wrapWidth 300\r\n",
       "hide circle\r\n",
       "\r\n",
       "package \"MetadataTest\" as E1  [[psysml:6bf27c65-dae0-4f69-b1ef-6329bb319dfc ]]  {\r\n",
       "package \"User Defined Extensions\" as E2  [[psysml:fde4dbf0-a827-4985-ab3d-be4806656b08 ]]  {\r\n",
       "comp def \"<i>ClassificationLevel</i>\" as E3 <<#Security>>[[psysml:875613db-282a-4c31-9ce2-2c5502fc9987 ]] {\r\n",
       "##//enums//##\r\n",
       "uncl: ClassificationLevel <U+003D> 0\r\n",
       "conf: ClassificationLevel <U+003D> 1\r\n",
       "secret: ClassificationLevel <U+003D> 2\r\n",
       "}\r\n",
       "comp def \"Classified\" as E4  <<(T,blue) metadata  def>> [[psysml:7d365ab2-02f5-4019-ac52-725960bbc954 ]] {\r\n",
       "}\r\n",
       "comp def \"Security\" as E5  <<(T,blue) metadata  def>> [[psysml:b54cb894-c9b4-4b22-a0a5-6c760d030873 ]] {\r\n",
       "}\r\n",
       "}\r\n",
       "comp usage \"z1  \" as E6 <<#Classified #Security>>[[psysml:09bb7bef-5578-400a-ab09-b89f3b478a84 ]] {\r\n",
       "}\r\n",
       "comp usage \"<i>z2</i>  \" as E7 <<#Classified>>[[psysml:fcfec3d1-5349-46cf-95eb-369f9c247e1c ]] {\r\n",
       "}\r\n",
       "}\r\n",
       "E1 ..> E2 [[psysml:7790dee3-4a68-47c5-b25f-526a96f63664 ]] : <<import>>*\r\n",
       "E4 o- - E3 [[psysml:70fb76d3-4397-496c-b537-fd7ec6ee6db2 ]] : classificationLevel\r\n",
       "@enduml\r\n",
       "\n",
       "PlantUML version 1.2022.7(Mon Aug 22 17:01:30 UTC 2022)\n",
       "(EPL source distribution)\n",
       "Java Runtime: OpenJDK Runtime Environment\n",
       "JVM: OpenJDK 64-Bit Server VM\n",
       "Default Encoding: UTF-8\n",
       "Language: en\n",
       "Country: null\n",
       "--></g></svg>"
      ]
     },
     "execution_count": 38,
     "metadata": {},
     "output_type": "execute_result"
    }
   ],
   "source": [
    "%viz --style=\"DEFAULT\" --view=\"Tree\" \"MetadataTest\""
   ]
  },
  {
   "cell_type": "code",
   "execution_count": 39,
   "id": "875db264",
   "metadata": {
    "execution": {
     "iopub.execute_input": "2024-12-16T03:28:24.854074Z",
     "iopub.status.busy": "2024-12-16T03:28:24.853636Z",
     "iopub.status.idle": "2024-12-16T03:28:24.866896Z",
     "shell.execute_reply": "2024-12-16T03:28:24.866187Z"
    }
   },
   "outputs": [
    {
     "data": {
      "image/svg+xml": [
       "<?xml version=\"1.0\" encoding=\"UTF-8\" standalone=\"no\"?><svg xmlns=\"http://www.w3.org/2000/svg\" xmlns:xlink=\"http://www.w3.org/1999/xlink\" contentStyleType=\"text/css\" height=\"96px\" preserveAspectRatio=\"none\" style=\"width:912px;height:96px;background:#FFFFFF;\" version=\"1.1\" viewBox=\"0 0 912 96\" width=\"912px\" zoomAndPan=\"magnify\"><defs/><g><g id=\"elem_E1\"><path d=\"M6,13.5 L6,82.0448 L315,82.0448 L315,23.5 L305,13.5 L6,13.5 \" fill=\"#FAFAFA\" style=\"stroke:#181818;stroke-width:0.5;\"/><path d=\"M305,13.5 L305,23.5 L315,23.5 L305,13.5 \" fill=\"#FAFAFA\" style=\"stroke:#181818;stroke-width:1.0;\"/><text fill=\"#000000\" font-family=\"monospace\" font-size=\"13\" lengthAdjust=\"spacing\" textLength=\"112\" x=\"12\" y=\"32.397\">              </text><a href=\"psysml:ccd30bed-0f75-43dd-8560-a117ef71fdae\" target=\"_top\" title=\"psysml:ccd30bed-0f75-43dd-8560-a117ef71fdae\" xlink:actuate=\"onRequest\" xlink:href=\"psysml:ccd30bed-0f75-43dd-8560-a117ef71fdae\" xlink:show=\"new\" xlink:title=\"psysml:ccd30bed-0f75-43dd-8560-a117ef71fdae\" xlink:type=\"simple\"><text fill=\"#000000\" font-family=\"sans-serif\" font-size=\"13\" lengthAdjust=\"spacing\" text-decoration=\"underline\" textLength=\"79\" x=\"124\" y=\"33.1401\">«metadata»</text></a><text fill=\"#000000\" font-family=\"monospace\" font-size=\"13\" font-style=\"italic\" lengthAdjust=\"spacing\" textLength=\"112\" x=\"12\" y=\"50.103\">              </text><text fill=\"#000000\" font-family=\"sans-serif\" font-size=\"13\" font-style=\"italic\" lengthAdjust=\"spacing\" textLength=\"60\" x=\"124\" y=\"50.8461\">Classified</text><line style=\"stroke:#181818;stroke-width:1.0;\" x1=\"7\" x2=\"314\" y1=\"53.912\" y2=\"53.912\"/><text fill=\"#000000\" font-family=\"sans-serif\" font-size=\"13\" lengthAdjust=\"spacing\" textLength=\"288\" x=\"12\" y=\"69.9789\">classificationLevel =  ClassificationLevel::conf</text></g><g id=\"elem_E2\"><path d=\"M350,13.5 L350,82.0448 L659,82.0448 L659,23.5 L649,13.5 L350,13.5 \" fill=\"#FAFAFA\" style=\"stroke:#181818;stroke-width:0.5;\"/><path d=\"M649,13.5 L649,23.5 L659,23.5 L649,13.5 \" fill=\"#FAFAFA\" style=\"stroke:#181818;stroke-width:1.0;\"/><text fill=\"#000000\" font-family=\"monospace\" font-size=\"13\" lengthAdjust=\"spacing\" textLength=\"112\" x=\"356\" y=\"32.397\">              </text><a href=\"psysml:a50d3885-9ceb-42ed-af81-8542a216cf29\" target=\"_top\" title=\"psysml:a50d3885-9ceb-42ed-af81-8542a216cf29\" xlink:actuate=\"onRequest\" xlink:href=\"psysml:a50d3885-9ceb-42ed-af81-8542a216cf29\" xlink:show=\"new\" xlink:title=\"psysml:a50d3885-9ceb-42ed-af81-8542a216cf29\" xlink:type=\"simple\"><text fill=\"#000000\" font-family=\"sans-serif\" font-size=\"13\" lengthAdjust=\"spacing\" text-decoration=\"underline\" textLength=\"79\" x=\"468\" y=\"33.1401\">«metadata»</text></a><text fill=\"#000000\" font-family=\"monospace\" font-size=\"13\" font-style=\"italic\" lengthAdjust=\"spacing\" textLength=\"112\" x=\"356\" y=\"50.103\">              </text><text fill=\"#000000\" font-family=\"sans-serif\" font-size=\"13\" font-style=\"italic\" lengthAdjust=\"spacing\" textLength=\"60\" x=\"468\" y=\"50.8461\">Classified</text><line style=\"stroke:#181818;stroke-width:1.0;\" x1=\"351\" x2=\"658\" y1=\"53.912\" y2=\"53.912\"/><text fill=\"#000000\" font-family=\"sans-serif\" font-size=\"13\" lengthAdjust=\"spacing\" textLength=\"288\" x=\"356\" y=\"69.9789\">classificationLevel =  ClassificationLevel::conf</text></g><g id=\"elem_E3\"><path d=\"M693.5,6 L693.5,89.6777 L905.5,89.6777 L905.5,16 L895.5,6 L693.5,6 \" fill=\"#FAFAFA\" style=\"stroke:#181818;stroke-width:0.5;\"/><path d=\"M895.5,6 L895.5,16 L905.5,16 L895.5,6 \" fill=\"#FAFAFA\" style=\"stroke:#181818;stroke-width:1.0;\"/><text fill=\"#000000\" font-family=\"monospace\" font-size=\"13\" lengthAdjust=\"spacing\" textLength=\"112\" x=\"699.5\" y=\"24.897\">              </text><a href=\"psysml:7eb290c6-6d6c-4277-b27a-b35f0e599ca6\" target=\"_top\" title=\"psysml:7eb290c6-6d6c-4277-b27a-b35f0e599ca6\" xlink:actuate=\"onRequest\" xlink:href=\"psysml:7eb290c6-6d6c-4277-b27a-b35f0e599ca6\" xlink:show=\"new\" xlink:title=\"psysml:7eb290c6-6d6c-4277-b27a-b35f0e599ca6\" xlink:type=\"simple\"><text fill=\"#000000\" font-family=\"sans-serif\" font-size=\"13\" lengthAdjust=\"spacing\" text-decoration=\"underline\" textLength=\"79\" x=\"811.5\" y=\"25.6401\">«metadata»</text></a><text fill=\"#000000\" font-family=\"monospace\" font-size=\"13\" font-style=\"italic\" lengthAdjust=\"spacing\" textLength=\"112\" x=\"699.5\" y=\"42.603\">              </text><text fill=\"#000000\" font-family=\"sans-serif\" font-size=\"13\" font-style=\"italic\" lengthAdjust=\"spacing\" textLength=\"60\" x=\"811.5\" y=\"43.3461\">Classified</text><line style=\"stroke:#181818;stroke-width:1.0;\" x1=\"694.5\" x2=\"904.5\" y1=\"46.412\" y2=\"46.412\"/><text fill=\"#000000\" font-family=\"sans-serif\" font-size=\"13\" lengthAdjust=\"spacing\" textLength=\"129\" x=\"699.5\" y=\"62.4789\">classificationLevel =</text><text fill=\"#000000\" font-family=\"sans-serif\" font-size=\"13\" lengthAdjust=\"spacing\" textLength=\"164\" x=\"699.5\" y=\"77.6117\">ClassificationLevel::secret</text></g><!--MD5=[0cd5f5d6b331bd62c11bf3cb01dcf465]\n",
       "@startuml\r\n",
       "skin sysmlbw\r\n",
       "skinparam monochrome true\r\n",
       "skinparam wrapWidth 300\r\n",
       "hide circle\r\n",
       "\r\n",
       "note as E1\r\n",
       "\"\"              \"\"[[psysml:ccd30bed-0f75-43dd-8560-a117ef71fdae «metadata»]]\r\n",
       "==== \"\"              \"\"Classified\r\n",
       "- -\r\n",
       "classificationLevel =  ClassificationLevel::conf\r\n",
       "end note\r\n",
       "note as E2\r\n",
       "\"\"              \"\"[[psysml:a50d3885-9ceb-42ed-af81-8542a216cf29 «metadata»]]\r\n",
       "==== \"\"              \"\"Classified\r\n",
       "- -\r\n",
       "classificationLevel =  ClassificationLevel::conf\r\n",
       "end note\r\n",
       "note as E3\r\n",
       "\"\"              \"\"[[psysml:7eb290c6-6d6c-4277-b27a-b35f0e599ca6 «metadata»]]\r\n",
       "==== \"\"              \"\"Classified\r\n",
       "- -\r\n",
       "classificationLevel =  ClassificationLevel::secret\r\n",
       "end note\r\n",
       "@enduml\r\n",
       "\n",
       "PlantUML version 1.2022.7(Mon Aug 22 17:01:30 UTC 2022)\n",
       "(EPL source distribution)\n",
       "Java Runtime: OpenJDK Runtime Environment\n",
       "JVM: OpenJDK 64-Bit Server VM\n",
       "Default Encoding: UTF-8\n",
       "Language: en\n",
       "Country: null\n",
       "--></g></svg>"
      ]
     },
     "execution_count": 39,
     "metadata": {},
     "output_type": "execute_result"
    }
   ],
   "source": [
    "%viz --style=\"DEFAULT\" --view=\"State\" \"MetadataTest\""
   ]
  },
  {
   "cell_type": "code",
   "execution_count": 40,
   "id": "f773d999",
   "metadata": {
    "execution": {
     "iopub.execute_input": "2024-12-16T03:28:24.919095Z",
     "iopub.status.busy": "2024-12-16T03:28:24.918874Z",
     "iopub.status.idle": "2024-12-16T03:28:24.936382Z",
     "shell.execute_reply": "2024-12-16T03:28:24.935461Z"
    }
   },
   "outputs": [
    {
     "data": {
      "image/svg+xml": [
       "<?xml version=\"1.0\" encoding=\"UTF-8\" standalone=\"no\"?><svg xmlns=\"http://www.w3.org/2000/svg\" xmlns:xlink=\"http://www.w3.org/1999/xlink\" contentStyleType=\"text/css\" height=\"257px\" preserveAspectRatio=\"none\" style=\"width:1233px;height:257px;background:#FFFFFF;\" version=\"1.1\" viewBox=\"0 0 1233 257\" width=\"1233px\" zoomAndPan=\"magnify\"><defs/><g><!--MD5=[fbc87193dbaf4d95561dea2c320d4a47]\n",
       "cluster E1--><g id=\"cluster_E1\"><a href=\"psysml:6bf27c65-dae0-4f69-b1ef-6329bb319dfc\" target=\"_top\" title=\"psysml:6bf27c65-dae0-4f69-b1ef-6329bb319dfc\" xlink:actuate=\"onRequest\" xlink:href=\"psysml:6bf27c65-dae0-4f69-b1ef-6329bb319dfc\" xlink:show=\"new\" xlink:title=\"psysml:6bf27c65-dae0-4f69-b1ef-6329bb319dfc\" xlink:type=\"simple\"><polygon fill=\"none\" points=\"16,6,122.25,6,129.25,28.2969,1216,28.2969,1216,250.72,16,250.72,16,6\" style=\"stroke:#000000;stroke-width:1.5;\"/><line style=\"stroke:#000000;stroke-width:1.5;\" x1=\"16\" x2=\"129.25\" y1=\"28.2969\" y2=\"28.2969\"/><text fill=\"#000000\" font-family=\"sans-serif\" font-size=\"14\" font-weight=\"bold\" lengthAdjust=\"spacing\" textLength=\"100.25\" x=\"20\" y=\"20.9951\">MetadataTest</text></a></g><!--MD5=[e4f7fae6ed58524ba242bb0b0d3be6b7]\n",
       "cluster E2--><g id=\"cluster_E2\"><a href=\"psysml:fde4dbf0-a827-4985-ab3d-be4806656b08\" target=\"_top\" title=\"psysml:fde4dbf0-a827-4985-ab3d-be4806656b08\" xlink:actuate=\"onRequest\" xlink:href=\"psysml:fde4dbf0-a827-4985-ab3d-be4806656b08\" xlink:show=\"new\" xlink:title=\"psysml:fde4dbf0-a827-4985-ab3d-be4806656b08\" xlink:type=\"simple\"><polygon fill=\"none\" points=\"683,98.72,868.1875,98.72,875.1875,121.0169,1176,121.0169,1176,210.72,683,210.72,683,98.72\" style=\"stroke:#000000;stroke-width:1.5;\"/><line style=\"stroke:#000000;stroke-width:1.5;\" x1=\"683\" x2=\"875.1875\" y1=\"121.0169\" y2=\"121.0169\"/><text fill=\"#000000\" font-family=\"sans-serif\" font-size=\"14\" font-weight=\"bold\" lengthAdjust=\"spacing\" textLength=\"179.1875\" x=\"687\" y=\"113.7151\">User Defined Extensions</text></a></g><!--MD5=[60a26617385b1d2d0262a64233df1f8d]\n",
       "class E6--><a href=\"psysml:ab215fb4-7997-4c5e-99e0-8fea9c1d3082\" target=\"_top\" title=\"psysml:ab215fb4-7997-4c5e-99e0-8fea9c1d3082\" xlink:actuate=\"onRequest\" xlink:href=\"psysml:ab215fb4-7997-4c5e-99e0-8fea9c1d3082\" xlink:show=\"new\" xlink:title=\"psysml:ab215fb4-7997-4c5e-99e0-8fea9c1d3082\" xlink:type=\"simple\"><g id=\"elem_E6\"><rect fill=\"#FFFFFF\" height=\"56.2656\" id=\"E6\" rx=\"10\" ry=\"10\" style=\"stroke:#181818;stroke-width:0.5;\" width=\"77\" x=\"578.5\" y=\"136.22\"/><text fill=\"#000000\" font-family=\"sans-serif\" font-size=\"12\" font-style=\"italic\" lengthAdjust=\"spacing\" textLength=\"75\" x=\"579.5\" y=\"152.3587\">«reference»</text><text fill=\"#000000\" font-family=\"sans-serif\" font-size=\"14\" lengthAdjust=\"spacing\" textLength=\"7\" x=\"609.5\" y=\"168.1839\">x</text><line style=\"stroke:#181818;stroke-width:0.5;\" x1=\"579.5\" x2=\"654.5\" y1=\"176.4856\" y2=\"176.4856\"/><line style=\"stroke:#181818;stroke-width:0.5;\" x1=\"579.5\" x2=\"654.5\" y1=\"184.4856\" y2=\"184.4856\"/></g></a><!--MD5=[2156ba9850f5573cc1fc38a6a4b2f02b]\n",
       "class E7--><a href=\"psysml:c7350727-55c2-4532-b138-8da3db2b593b\" target=\"_top\" title=\"psysml:c7350727-55c2-4532-b138-8da3db2b593b\" xlink:actuate=\"onRequest\" xlink:href=\"psysml:c7350727-55c2-4532-b138-8da3db2b593b\" xlink:show=\"new\" xlink:title=\"psysml:c7350727-55c2-4532-b138-8da3db2b593b\" xlink:type=\"simple\"><g id=\"elem_E7\"><rect fill=\"#FFFFFF\" height=\"56.2656\" id=\"E7\" rx=\"10\" ry=\"10\" style=\"stroke:#181818;stroke-width:0.5;\" width=\"76\" x=\"467\" y=\"136.22\"/><text fill=\"#000000\" font-family=\"sans-serif\" font-size=\"12\" font-style=\"italic\" lengthAdjust=\"spacing\" textLength=\"74\" x=\"468\" y=\"152.3587\">«#Security»</text><text fill=\"#000000\" font-family=\"sans-serif\" font-size=\"14\" lengthAdjust=\"spacing\" textLength=\"7\" x=\"497.5\" y=\"168.1839\">y</text><line style=\"stroke:#181818;stroke-width:0.5;\" x1=\"468\" x2=\"542\" y1=\"176.4856\" y2=\"176.4856\"/><line style=\"stroke:#181818;stroke-width:0.5;\" x1=\"468\" x2=\"542\" y1=\"184.4856\" y2=\"184.4856\"/></g></a><!--MD5=[96f4274e9e20536e775497830990834d]\n",
       "class E10--><a href=\"psysml:bedd784f-2083-437e-9a45-6e64d2c52a15\" target=\"_top\" title=\"psysml:bedd784f-2083-437e-9a45-6e64d2c52a15\" xlink:actuate=\"onRequest\" xlink:href=\"psysml:bedd784f-2083-437e-9a45-6e64d2c52a15\" xlink:show=\"new\" xlink:title=\"psysml:bedd784f-2083-437e-9a45-6e64d2c52a15\" xlink:type=\"simple\"><g id=\"elem_E10\"><rect fill=\"#FFFFFF\" height=\"56.2656\" id=\"E10\" rx=\"10\" ry=\"10\" style=\"stroke:#181818;stroke-width:0.5;\" width=\"77\" x=\"354.5\" y=\"136.22\"/><text fill=\"#000000\" font-family=\"sans-serif\" font-size=\"12\" font-style=\"italic\" lengthAdjust=\"spacing\" textLength=\"75\" x=\"355.5\" y=\"152.3587\">«reference»</text><text fill=\"#000000\" font-family=\"sans-serif\" font-size=\"14\" lengthAdjust=\"spacing\" textLength=\"8\" x=\"385\" y=\"168.1839\">z</text><line style=\"stroke:#181818;stroke-width:0.5;\" x1=\"355.5\" x2=\"430.5\" y1=\"176.4856\" y2=\"176.4856\"/><line style=\"stroke:#181818;stroke-width:0.5;\" x1=\"355.5\" x2=\"430.5\" y1=\"184.4856\" y2=\"184.4856\"/></g></a><g><a href=\"psysml:875613db-282a-4c31-9ce2-2c5502fc9987\" target=\"_top\" title=\"psysml:875613db-282a-4c31-9ce2-2c5502fc9987\" xlink:actuate=\"onRequest\" xlink:href=\"psysml:875613db-282a-4c31-9ce2-2c5502fc9987\" xlink:show=\"new\" xlink:title=\"psysml:875613db-282a-4c31-9ce2-2c5502fc9987\" xlink:type=\"simple\"><rect fill=\"#FFFFFF\" height=\"45.2656\" id=\"E3\" style=\"stroke:#383838;stroke-width:1.5;\" width=\"135\" x=\"1016.5\" y=\"141.72\"/><text fill=\"#000000\" font-family=\"sans-serif\" font-size=\"12\" font-style=\"italic\" lengthAdjust=\"spacing\" textLength=\"74\" x=\"1047\" y=\"157.8587\">«#Security»</text><text fill=\"#000000\" font-family=\"sans-serif\" font-size=\"14\" font-style=\"italic\" lengthAdjust=\"spacing\" textLength=\"124\" x=\"1022\" y=\"173.6839\">ClassificationLevel</text></a></g><g><a href=\"psysml:7d365ab2-02f5-4019-ac52-725960bbc954\" target=\"_top\" title=\"psysml:7d365ab2-02f5-4019-ac52-725960bbc954\" xlink:actuate=\"onRequest\" xlink:href=\"psysml:7d365ab2-02f5-4019-ac52-725960bbc954\" xlink:show=\"new\" xlink:title=\"psysml:7d365ab2-02f5-4019-ac52-725960bbc954\" xlink:type=\"simple\"><rect fill=\"#FFFFFF\" height=\"45.2656\" id=\"E4\" style=\"stroke:#383838;stroke-width:1.5;\" width=\"110\" x=\"871\" y=\"141.72\"/><text fill=\"#000000\" font-family=\"sans-serif\" font-size=\"12\" font-style=\"italic\" lengthAdjust=\"spacing\" textLength=\"103\" x=\"874.5\" y=\"157.8587\">«metadata  def»</text><text fill=\"#000000\" font-family=\"sans-serif\" font-size=\"14\" lengthAdjust=\"spacing\" textLength=\"65\" x=\"893.5\" y=\"173.6839\">Classified</text></a></g><g><a href=\"psysml:b54cb894-c9b4-4b22-a0a5-6c760d030873\" target=\"_top\" title=\"psysml:b54cb894-c9b4-4b22-a0a5-6c760d030873\" xlink:actuate=\"onRequest\" xlink:href=\"psysml:b54cb894-c9b4-4b22-a0a5-6c760d030873\" xlink:show=\"new\" xlink:title=\"psysml:b54cb894-c9b4-4b22-a0a5-6c760d030873\" xlink:type=\"simple\"><rect fill=\"#FFFFFF\" height=\"45.2656\" id=\"E5\" style=\"stroke:#383838;stroke-width:1.5;\" width=\"110\" x=\"726\" y=\"141.72\"/><text fill=\"#000000\" font-family=\"sans-serif\" font-size=\"12\" font-style=\"italic\" lengthAdjust=\"spacing\" textLength=\"103\" x=\"729.5\" y=\"157.8587\">«metadata  def»</text><text fill=\"#000000\" font-family=\"sans-serif\" font-size=\"14\" lengthAdjust=\"spacing\" textLength=\"55\" x=\"753.5\" y=\"173.6839\">Security</text></a></g><g><a href=\"psysml:09bb7bef-5578-400a-ab09-b89f3b478a84\" target=\"_top\" title=\"psysml:09bb7bef-5578-400a-ab09-b89f3b478a84\" xlink:actuate=\"onRequest\" xlink:href=\"psysml:09bb7bef-5578-400a-ab09-b89f3b478a84\" xlink:show=\"new\" xlink:title=\"psysml:09bb7bef-5578-400a-ab09-b89f3b478a84\" xlink:type=\"simple\"><rect fill=\"#FFFFFF\" height=\"45.2656\" id=\"E8\" rx=\"10\" ry=\"10\" style=\"stroke:#383838;stroke-width:1.5;\" width=\"154\" x=\"165\" y=\"141.72\"/><text fill=\"#000000\" font-family=\"sans-serif\" font-size=\"12\" font-style=\"italic\" lengthAdjust=\"spacing\" textLength=\"147\" x=\"168.5\" y=\"157.8587\">«#Classified #Security»</text><text fill=\"#000000\" font-family=\"sans-serif\" font-size=\"14\" lengthAdjust=\"spacing\" textLength=\"17\" x=\"233.5\" y=\"173.6839\">z1</text></a></g><g><a href=\"psysml:fcfec3d1-5349-46cf-95eb-369f9c247e1c\" target=\"_top\" title=\"psysml:fcfec3d1-5349-46cf-95eb-369f9c247e1c\" xlink:actuate=\"onRequest\" xlink:href=\"psysml:fcfec3d1-5349-46cf-95eb-369f9c247e1c\" xlink:show=\"new\" xlink:title=\"psysml:fcfec3d1-5349-46cf-95eb-369f9c247e1c\" xlink:type=\"simple\"><rect fill=\"#FFFFFF\" height=\"45.2656\" id=\"E9\" rx=\"10\" ry=\"10\" style=\"stroke:#383838;stroke-width:1.5;\" width=\"90\" x=\"40\" y=\"141.72\"/><text fill=\"#000000\" font-family=\"sans-serif\" font-size=\"12\" font-style=\"italic\" lengthAdjust=\"spacing\" textLength=\"83\" x=\"43.5\" y=\"157.8587\">«#Classified»</text><text fill=\"#000000\" font-family=\"sans-serif\" font-size=\"14\" font-style=\"italic\" lengthAdjust=\"spacing\" textLength=\"17\" x=\"76.5\" y=\"173.6839\">z2</text></a></g><!--MD5=[1f1cd8e6dd4c1b2ca2aaccc9b9bcea6e]\n",
       "link E1 to E2--><g id=\"link_E1_E2\"><a href=\"psysml:7790dee3-4a68-47c5-b25f-526a96f63664\" target=\"_top\" title=\"psysml:7790dee3-4a68-47c5-b25f-526a96f63664\" xlink:actuate=\"onRequest\" xlink:href=\"psysml:7790dee3-4a68-47c5-b25f-526a96f63664\" xlink:show=\"new\" xlink:title=\"psysml:7790dee3-4a68-47c5-b25f-526a96f63664\" xlink:type=\"simple\"><path d=\"M691,33.81 C691,35.74 691,67.12 691,98.4925 \" fill=\"none\" id=\"E1-to-E2\" style=\"stroke:#181818;stroke-width:1.0;stroke-dasharray:7.0,7.0;\"/><polygon fill=\"#181818\" points=\"691,98.4925,695,89.4925,691,93.4925,687,89.4925,691,98.4925\" style=\"stroke:#181818;stroke-width:1.0;\"/><text fill=\"#000000\" font-family=\"sans-serif\" font-size=\"13\" lengthAdjust=\"spacing\" textLength=\"65\" x=\"692\" y=\"54.7869\">«import»*</text></a></g><!--MD5=[09f4627f83b526b9051eb375250c8d5d]\n",
       "@startuml\r\n",
       "skin sysmlbw\r\n",
       "skinparam monochrome true\r\n",
       "skinparam wrapWidth 300\r\n",
       "hide circle\r\n",
       "skinparam ranksep 10\r\n",
       "skinparam rectangle {\r\n",
       " backgroundColor<<block>> LightGreen\r\n",
       "}\r\n",
       "\r\n",
       "package \"MetadataTest\" as E1  [[psysml:6bf27c65-dae0-4f69-b1ef-6329bb319dfc ]]  {\r\n",
       "package \"User Defined Extensions\" as E2  [[psysml:fde4dbf0-a827-4985-ab3d-be4806656b08 ]]  {\r\n",
       "def \"<i>ClassificationLevel</i>\" as E3 <<#Security>>[[psysml:875613db-282a-4c31-9ce2-2c5502fc9987 ]] \r\n",
       "def \"Classified\" as E4  <<(T,blue) metadata  def>> [[psysml:7d365ab2-02f5-4019-ac52-725960bbc954 ]] \r\n",
       "def \"Security\" as E5  <<(T,blue) metadata  def>> [[psysml:b54cb894-c9b4-4b22-a0a5-6c760d030873 ]] \r\n",
       "}\r\n",
       "usage \"x  \" as E6  <<(T,blue) reference>> [[psysml:ab215fb4-7997-4c5e-99e0-8fea9c1d3082 ]] \r\n",
       "usage \"y  \" as E7 <<#Security>>[[psysml:c7350727-55c2-4532-b138-8da3db2b593b ]] \r\n",
       "rec usage \"z1\" as E8 <<#Classified #Security>>[[psysml:09bb7bef-5578-400a-ab09-b89f3b478a84 ]] {\r\n",
       "}\r\n",
       "rec usage \"<i>z2</i>\" as E9 <<#Classified>>[[psysml:fcfec3d1-5349-46cf-95eb-369f9c247e1c ]] {\r\n",
       "}\r\n",
       "usage \"z  \" as E10  <<(T,blue) reference>> [[psysml:bedd784f-2083-437e-9a45-6e64d2c52a15 ]] \r\n",
       "}\r\n",
       "E1 ..> E2 [[psysml:7790dee3-4a68-47c5-b25f-526a96f63664 ]] : <<import>>*\r\n",
       "@enduml\r\n",
       "\n",
       "PlantUML version 1.2022.7(Mon Aug 22 17:01:30 UTC 2022)\n",
       "(EPL source distribution)\n",
       "Java Runtime: OpenJDK Runtime Environment\n",
       "JVM: OpenJDK 64-Bit Server VM\n",
       "Default Encoding: UTF-8\n",
       "Language: en\n",
       "Country: null\n",
       "--></g></svg>"
      ]
     },
     "execution_count": 40,
     "metadata": {},
     "output_type": "execute_result"
    }
   ],
   "source": [
    "%viz --style=\"DEFAULT\" --view=\"Interconnection\" \"MetadataTest\""
   ]
  },
  {
   "cell_type": "code",
   "execution_count": 41,
   "id": "09ec6749",
   "metadata": {
    "execution": {
     "iopub.execute_input": "2024-12-16T03:28:24.991601Z",
     "iopub.status.busy": "2024-12-16T03:28:24.991306Z",
     "iopub.status.idle": "2024-12-16T03:28:25.010676Z",
     "shell.execute_reply": "2024-12-16T03:28:25.009863Z"
    }
   },
   "outputs": [
    {
     "data": {
      "image/svg+xml": [
       "<?xml version=\"1.0\" encoding=\"UTF-8\" standalone=\"no\"?><svg xmlns=\"http://www.w3.org/2000/svg\" xmlns:xlink=\"http://www.w3.org/1999/xlink\" contentStyleType=\"text/css\" height=\"96px\" preserveAspectRatio=\"none\" style=\"width:912px;height:96px;background:#FFFFFF;\" version=\"1.1\" viewBox=\"0 0 912 96\" width=\"912px\" zoomAndPan=\"magnify\"><defs/><g><g id=\"elem_E1\"><path d=\"M6,13.5 L6,82.0448 L315,82.0448 L315,23.5 L305,13.5 L6,13.5 \" fill=\"#FAFAFA\" style=\"stroke:#181818;stroke-width:0.5;\"/><path d=\"M305,13.5 L305,23.5 L315,23.5 L305,13.5 \" fill=\"#FAFAFA\" style=\"stroke:#181818;stroke-width:1.0;\"/><text fill=\"#000000\" font-family=\"monospace\" font-size=\"13\" lengthAdjust=\"spacing\" textLength=\"112\" x=\"12\" y=\"32.397\">              </text><a href=\"psysml:ccd30bed-0f75-43dd-8560-a117ef71fdae\" target=\"_top\" title=\"psysml:ccd30bed-0f75-43dd-8560-a117ef71fdae\" xlink:actuate=\"onRequest\" xlink:href=\"psysml:ccd30bed-0f75-43dd-8560-a117ef71fdae\" xlink:show=\"new\" xlink:title=\"psysml:ccd30bed-0f75-43dd-8560-a117ef71fdae\" xlink:type=\"simple\"><text fill=\"#000000\" font-family=\"sans-serif\" font-size=\"13\" lengthAdjust=\"spacing\" text-decoration=\"underline\" textLength=\"79\" x=\"124\" y=\"33.1401\">«metadata»</text></a><text fill=\"#000000\" font-family=\"monospace\" font-size=\"13\" font-style=\"italic\" lengthAdjust=\"spacing\" textLength=\"112\" x=\"12\" y=\"50.103\">              </text><text fill=\"#000000\" font-family=\"sans-serif\" font-size=\"13\" font-style=\"italic\" lengthAdjust=\"spacing\" textLength=\"60\" x=\"124\" y=\"50.8461\">Classified</text><line style=\"stroke:#181818;stroke-width:1.0;\" x1=\"7\" x2=\"314\" y1=\"53.912\" y2=\"53.912\"/><text fill=\"#000000\" font-family=\"sans-serif\" font-size=\"13\" lengthAdjust=\"spacing\" textLength=\"288\" x=\"12\" y=\"69.9789\">classificationLevel =  ClassificationLevel::conf</text></g><g id=\"elem_E2\"><path d=\"M350,13.5 L350,82.0448 L659,82.0448 L659,23.5 L649,13.5 L350,13.5 \" fill=\"#FAFAFA\" style=\"stroke:#181818;stroke-width:0.5;\"/><path d=\"M649,13.5 L649,23.5 L659,23.5 L649,13.5 \" fill=\"#FAFAFA\" style=\"stroke:#181818;stroke-width:1.0;\"/><text fill=\"#000000\" font-family=\"monospace\" font-size=\"13\" lengthAdjust=\"spacing\" textLength=\"112\" x=\"356\" y=\"32.397\">              </text><a href=\"psysml:a50d3885-9ceb-42ed-af81-8542a216cf29\" target=\"_top\" title=\"psysml:a50d3885-9ceb-42ed-af81-8542a216cf29\" xlink:actuate=\"onRequest\" xlink:href=\"psysml:a50d3885-9ceb-42ed-af81-8542a216cf29\" xlink:show=\"new\" xlink:title=\"psysml:a50d3885-9ceb-42ed-af81-8542a216cf29\" xlink:type=\"simple\"><text fill=\"#000000\" font-family=\"sans-serif\" font-size=\"13\" lengthAdjust=\"spacing\" text-decoration=\"underline\" textLength=\"79\" x=\"468\" y=\"33.1401\">«metadata»</text></a><text fill=\"#000000\" font-family=\"monospace\" font-size=\"13\" font-style=\"italic\" lengthAdjust=\"spacing\" textLength=\"112\" x=\"356\" y=\"50.103\">              </text><text fill=\"#000000\" font-family=\"sans-serif\" font-size=\"13\" font-style=\"italic\" lengthAdjust=\"spacing\" textLength=\"60\" x=\"468\" y=\"50.8461\">Classified</text><line style=\"stroke:#181818;stroke-width:1.0;\" x1=\"351\" x2=\"658\" y1=\"53.912\" y2=\"53.912\"/><text fill=\"#000000\" font-family=\"sans-serif\" font-size=\"13\" lengthAdjust=\"spacing\" textLength=\"288\" x=\"356\" y=\"69.9789\">classificationLevel =  ClassificationLevel::conf</text></g><g id=\"elem_E3\"><path d=\"M693.5,6 L693.5,89.6777 L905.5,89.6777 L905.5,16 L895.5,6 L693.5,6 \" fill=\"#FAFAFA\" style=\"stroke:#181818;stroke-width:0.5;\"/><path d=\"M895.5,6 L895.5,16 L905.5,16 L895.5,6 \" fill=\"#FAFAFA\" style=\"stroke:#181818;stroke-width:1.0;\"/><text fill=\"#000000\" font-family=\"monospace\" font-size=\"13\" lengthAdjust=\"spacing\" textLength=\"112\" x=\"699.5\" y=\"24.897\">              </text><a href=\"psysml:7eb290c6-6d6c-4277-b27a-b35f0e599ca6\" target=\"_top\" title=\"psysml:7eb290c6-6d6c-4277-b27a-b35f0e599ca6\" xlink:actuate=\"onRequest\" xlink:href=\"psysml:7eb290c6-6d6c-4277-b27a-b35f0e599ca6\" xlink:show=\"new\" xlink:title=\"psysml:7eb290c6-6d6c-4277-b27a-b35f0e599ca6\" xlink:type=\"simple\"><text fill=\"#000000\" font-family=\"sans-serif\" font-size=\"13\" lengthAdjust=\"spacing\" text-decoration=\"underline\" textLength=\"79\" x=\"811.5\" y=\"25.6401\">«metadata»</text></a><text fill=\"#000000\" font-family=\"monospace\" font-size=\"13\" font-style=\"italic\" lengthAdjust=\"spacing\" textLength=\"112\" x=\"699.5\" y=\"42.603\">              </text><text fill=\"#000000\" font-family=\"sans-serif\" font-size=\"13\" font-style=\"italic\" lengthAdjust=\"spacing\" textLength=\"60\" x=\"811.5\" y=\"43.3461\">Classified</text><line style=\"stroke:#181818;stroke-width:1.0;\" x1=\"694.5\" x2=\"904.5\" y1=\"46.412\" y2=\"46.412\"/><text fill=\"#000000\" font-family=\"sans-serif\" font-size=\"13\" lengthAdjust=\"spacing\" textLength=\"129\" x=\"699.5\" y=\"62.4789\">classificationLevel =</text><text fill=\"#000000\" font-family=\"sans-serif\" font-size=\"13\" lengthAdjust=\"spacing\" textLength=\"164\" x=\"699.5\" y=\"77.6117\">ClassificationLevel::secret</text></g><!--MD5=[1ec5a94b590364e6b8562e450a12f26e]\n",
       "@startuml\r\n",
       "skin sysmlbw\r\n",
       "skinparam monochrome true\r\n",
       "skinparam wrapWidth 300\r\n",
       "hide circle\r\n",
       "skinparam ranksep 8\r\n",
       "\r\n",
       "note as E1\r\n",
       "\"\"              \"\"[[psysml:ccd30bed-0f75-43dd-8560-a117ef71fdae «metadata»]]\r\n",
       "==== \"\"              \"\"Classified\r\n",
       "- -\r\n",
       "classificationLevel =  ClassificationLevel::conf\r\n",
       "end note\r\n",
       "note as E2\r\n",
       "\"\"              \"\"[[psysml:a50d3885-9ceb-42ed-af81-8542a216cf29 «metadata»]]\r\n",
       "==== \"\"              \"\"Classified\r\n",
       "- -\r\n",
       "classificationLevel =  ClassificationLevel::conf\r\n",
       "end note\r\n",
       "note as E3\r\n",
       "\"\"              \"\"[[psysml:7eb290c6-6d6c-4277-b27a-b35f0e599ca6 «metadata»]]\r\n",
       "==== \"\"              \"\"Classified\r\n",
       "- -\r\n",
       "classificationLevel =  ClassificationLevel::secret\r\n",
       "end note\r\n",
       "@enduml\r\n",
       "\n",
       "PlantUML version 1.2022.7(Mon Aug 22 17:01:30 UTC 2022)\n",
       "(EPL source distribution)\n",
       "Java Runtime: OpenJDK Runtime Environment\n",
       "JVM: OpenJDK 64-Bit Server VM\n",
       "Default Encoding: UTF-8\n",
       "Language: en\n",
       "Country: null\n",
       "--></g></svg>"
      ]
     },
     "execution_count": 41,
     "metadata": {},
     "output_type": "execute_result"
    }
   ],
   "source": [
    "%viz --style=\"DEFAULT\" --view=\"Action\" \"MetadataTest\""
   ]
  },
  {
   "cell_type": "code",
   "execution_count": 42,
   "id": "4c0e13cb",
   "metadata": {
    "execution": {
     "iopub.execute_input": "2024-12-16T03:28:25.061643Z",
     "iopub.status.busy": "2024-12-16T03:28:25.061422Z",
     "iopub.status.idle": "2024-12-16T03:28:25.068105Z",
     "shell.execute_reply": "2024-12-16T03:28:25.067925Z"
    }
   },
   "outputs": [
    {
     "data": {
      "image/svg+xml": [
       "<?xml version=\"1.0\" encoding=\"UTF-8\" standalone=\"no\"?><svg xmlns=\"http://www.w3.org/2000/svg\" xmlns:xlink=\"http://www.w3.org/1999/xlink\" contentStyleType=\"text/css\" height=\"10px\" preserveAspectRatio=\"none\" style=\"width:10px;height:10px;background:#FFFFFF;\" version=\"1.1\" viewBox=\"0 0 10 10\" width=\"10px\" zoomAndPan=\"magnify\"><defs/><g><!--MD5=[075159388321915a295a256e9638f934]\n",
       "@startuml\r\n",
       "skin sysmlbw\r\n",
       "skinparam monochrome true\r\n",
       "skinparam wrapWidth 300\r\n",
       "hide circle\r\n",
       "skinparam roundcorner 20\r\n",
       "skinparam BoxPadding 20\r\n",
       "skinparam SequenceBoxBackgroundColor #white\r\n",
       "skinparam style strictuml\r\n",
       "skinparam maxMessageSize 100\r\n",
       "\r\n",
       "@enduml\r\n",
       "\n",
       "PlantUML version 1.2022.7(Mon Aug 22 17:01:30 UTC 2022)\n",
       "(EPL source distribution)\n",
       "Java Runtime: OpenJDK Runtime Environment\n",
       "JVM: OpenJDK 64-Bit Server VM\n",
       "Default Encoding: UTF-8\n",
       "Language: en\n",
       "Country: null\n",
       "--></g></svg>"
      ]
     },
     "execution_count": 42,
     "metadata": {},
     "output_type": "execute_result"
    }
   ],
   "source": [
    "%viz --style=\"DEFAULT\" --view=\"Sequence\" \"MetadataTest\""
   ]
  },
  {
   "cell_type": "code",
   "execution_count": 43,
   "id": "ec3e0747",
   "metadata": {
    "execution": {
     "iopub.execute_input": "2024-12-16T03:28:25.121029Z",
     "iopub.status.busy": "2024-12-16T03:28:25.120804Z",
     "iopub.status.idle": "2024-12-16T03:28:25.140589Z",
     "shell.execute_reply": "2024-12-16T03:28:25.139793Z"
    }
   },
   "outputs": [
    {
     "data": {
      "image/svg+xml": [
       "<?xml version=\"1.0\" encoding=\"UTF-8\" standalone=\"no\"?><svg xmlns=\"http://www.w3.org/2000/svg\" xmlns:xlink=\"http://www.w3.org/1999/xlink\" contentStyleType=\"text/css\" height=\"467px\" preserveAspectRatio=\"none\" style=\"width:707px;height:467px;background:#FFFFFF;\" version=\"1.1\" viewBox=\"0 0 707 467\" width=\"707px\" zoomAndPan=\"magnify\"><defs/><g><!--MD5=[fbc87193dbaf4d95561dea2c320d4a47]\n",
       "cluster E1--><g id=\"cluster_E1\"><a href=\"psysml:6bf27c65-dae0-4f69-b1ef-6329bb319dfc\" target=\"_top\" title=\"psysml:6bf27c65-dae0-4f69-b1ef-6329bb319dfc\" xlink:actuate=\"onRequest\" xlink:href=\"psysml:6bf27c65-dae0-4f69-b1ef-6329bb319dfc\" xlink:show=\"new\" xlink:title=\"psysml:6bf27c65-dae0-4f69-b1ef-6329bb319dfc\" xlink:type=\"simple\"><polygon fill=\"none\" points=\"16,6,122.25,6,129.25,28.2969,690,28.2969,690,460.72,16,460.72,16,6\" style=\"stroke:#000000;stroke-width:1.5;\"/><line style=\"stroke:#000000;stroke-width:1.5;\" x1=\"16\" x2=\"129.25\" y1=\"28.2969\" y2=\"28.2969\"/><text fill=\"#000000\" font-family=\"sans-serif\" font-size=\"14\" font-weight=\"bold\" lengthAdjust=\"spacing\" textLength=\"100.25\" x=\"20\" y=\"20.9951\">MetadataTest</text></a></g><!--MD5=[e4f7fae6ed58524ba242bb0b0d3be6b7]\n",
       "cluster E2--><g id=\"cluster_E2\"><a href=\"psysml:fde4dbf0-a827-4985-ab3d-be4806656b08\" target=\"_top\" title=\"psysml:fde4dbf0-a827-4985-ab3d-be4806656b08\" xlink:actuate=\"onRequest\" xlink:href=\"psysml:fde4dbf0-a827-4985-ab3d-be4806656b08\" xlink:show=\"new\" xlink:title=\"psysml:fde4dbf0-a827-4985-ab3d-be4806656b08\" xlink:type=\"simple\"><polygon fill=\"none\" points=\"337,120.72,522.1875,120.72,529.1875,143.0169,650,143.0169,650,420.72,337,420.72,337,120.72\" style=\"stroke:#000000;stroke-width:1.5;\"/><line style=\"stroke:#000000;stroke-width:1.5;\" x1=\"337\" x2=\"529.1875\" y1=\"143.0169\" y2=\"143.0169\"/><text fill=\"#000000\" font-family=\"sans-serif\" font-size=\"14\" font-weight=\"bold\" lengthAdjust=\"spacing\" textLength=\"179.1875\" x=\"341\" y=\"135.7151\">User Defined Extensions</text></a></g><!--MD5=[60a26617385b1d2d0262a64233df1f8d]\n",
       "class E6--><a href=\"psysml:09bb7bef-5578-400a-ab09-b89f3b478a84\" target=\"_top\" title=\"psysml:09bb7bef-5578-400a-ab09-b89f3b478a84\" xlink:actuate=\"onRequest\" xlink:href=\"psysml:09bb7bef-5578-400a-ab09-b89f3b478a84\" xlink:show=\"new\" xlink:title=\"psysml:09bb7bef-5578-400a-ab09-b89f3b478a84\" xlink:type=\"simple\"><g id=\"elem_E6\"><rect fill=\"#FFFFFF\" height=\"48.2656\" id=\"E6\" rx=\"10\" ry=\"10\" style=\"stroke:#181818;stroke-width:0.5;\" width=\"149\" x=\"160.5\" y=\"163.72\"/><text fill=\"#000000\" font-family=\"sans-serif\" font-size=\"12\" font-style=\"italic\" lengthAdjust=\"spacing\" textLength=\"147\" x=\"161.5\" y=\"179.8587\">«#Classified #Security»</text><text fill=\"#000000\" font-family=\"sans-serif\" font-size=\"14\" lengthAdjust=\"spacing\" textLength=\"17\" x=\"222.5\" y=\"195.6839\">z1</text><line style=\"stroke:#181818;stroke-width:0.5;\" x1=\"161.5\" x2=\"308.5\" y1=\"203.9856\" y2=\"203.9856\"/></g></a><!--MD5=[2156ba9850f5573cc1fc38a6a4b2f02b]\n",
       "class E7--><a href=\"psysml:fcfec3d1-5349-46cf-95eb-369f9c247e1c\" target=\"_top\" title=\"psysml:fcfec3d1-5349-46cf-95eb-369f9c247e1c\" xlink:actuate=\"onRequest\" xlink:href=\"psysml:fcfec3d1-5349-46cf-95eb-369f9c247e1c\" xlink:show=\"new\" xlink:title=\"psysml:fcfec3d1-5349-46cf-95eb-369f9c247e1c\" xlink:type=\"simple\"><g id=\"elem_E7\"><rect fill=\"#FFFFFF\" height=\"48.2656\" id=\"E7\" rx=\"10\" ry=\"10\" style=\"stroke:#181818;stroke-width:0.5;\" width=\"85\" x=\"40.5\" y=\"163.72\"/><text fill=\"#000000\" font-family=\"sans-serif\" font-size=\"12\" font-style=\"italic\" lengthAdjust=\"spacing\" textLength=\"83\" x=\"41.5\" y=\"179.8587\">«#Classified»</text><text fill=\"#000000\" font-family=\"sans-serif\" font-size=\"14\" font-style=\"italic\" lengthAdjust=\"spacing\" textLength=\"17\" x=\"70.5\" y=\"195.6839\">z2</text><text fill=\"#000000\" font-family=\"sans-serif\" font-size=\"14\" lengthAdjust=\"spacing\" textLength=\"8\" x=\"87.5\" y=\"195.6839\">  </text><line style=\"stroke:#181818;stroke-width:0.5;\" x1=\"41.5\" x2=\"124.5\" y1=\"203.9856\" y2=\"203.9856\"/></g></a><!--MD5=[09b614a08d8cba4a07c9adeb5e0fee81]\n",
       "class E3--><a href=\"psysml:875613db-282a-4c31-9ce2-2c5502fc9987\" target=\"_top\" title=\"psysml:875613db-282a-4c31-9ce2-2c5502fc9987\" xlink:actuate=\"onRequest\" xlink:href=\"psysml:875613db-282a-4c31-9ce2-2c5502fc9987\" xlink:show=\"new\" xlink:title=\"psysml:875613db-282a-4c31-9ce2-2c5502fc9987\" xlink:type=\"simple\"><g id=\"elem_E3\"><rect fill=\"#FFFFFF\" height=\"107.675\" id=\"E3\" style=\"stroke:#181818;stroke-width:0.5;\" width=\"218\" x=\"401\" y=\"288.72\"/><text fill=\"#000000\" font-family=\"sans-serif\" font-size=\"12\" font-style=\"italic\" lengthAdjust=\"spacing\" textLength=\"74\" x=\"473\" y=\"304.8587\">«#Security»</text><text fill=\"#000000\" font-family=\"sans-serif\" font-size=\"14\" font-style=\"italic\" lengthAdjust=\"spacing\" textLength=\"124\" x=\"448\" y=\"320.6839\">ClassificationLevel</text><line style=\"stroke:#181818;stroke-width:0.5;\" x1=\"402\" x2=\"618\" y1=\"328.9856\" y2=\"328.9856\"/><text fill=\"#000000\" font-family=\"sans-serif\" font-size=\"14\" lengthAdjust=\"spacing\" textLength=\"191\" x=\"407\" y=\"356.4995\">uncl: ClassificationLevel = 0</text><text fill=\"#000000\" font-family=\"sans-serif\" font-size=\"14\" lengthAdjust=\"spacing\" textLength=\"192\" x=\"407\" y=\"372.7964\">conf: ClassificationLevel = 1</text><text fill=\"#000000\" font-family=\"sans-serif\" font-size=\"14\" lengthAdjust=\"spacing\" textLength=\"206\" x=\"407\" y=\"389.0932\">secret: ClassificationLevel = 2</text><text fill=\"#000000\" font-family=\"sans-serif\" font-size=\"14\" font-style=\"italic\" lengthAdjust=\"spacing\" textLength=\"48\" x=\"486\" y=\"341.3323\">enums</text></g></a><!--MD5=[ebbe1d658d1005bcc118a6aa81145e00]\n",
       "class E4--><a href=\"psysml:7d365ab2-02f5-4019-ac52-725960bbc954\" target=\"_top\" title=\"psysml:7d365ab2-02f5-4019-ac52-725960bbc954\" xlink:actuate=\"onRequest\" xlink:href=\"psysml:7d365ab2-02f5-4019-ac52-725960bbc954\" xlink:show=\"new\" xlink:title=\"psysml:7d365ab2-02f5-4019-ac52-725960bbc954\" xlink:type=\"simple\"><g id=\"elem_E4\"><rect fill=\"#FFFFFF\" height=\"48.2656\" id=\"E4\" style=\"stroke:#181818;stroke-width:0.5;\" width=\"105\" x=\"520.5\" y=\"163.72\"/><text fill=\"#000000\" font-family=\"sans-serif\" font-size=\"12\" font-style=\"italic\" lengthAdjust=\"spacing\" textLength=\"103\" x=\"521.5\" y=\"179.8587\">«metadata  def»</text><text fill=\"#000000\" font-family=\"sans-serif\" font-size=\"14\" lengthAdjust=\"spacing\" textLength=\"65\" x=\"540.5\" y=\"195.6839\">Classified</text><line style=\"stroke:#181818;stroke-width:0.5;\" x1=\"521.5\" x2=\"624.5\" y1=\"203.9856\" y2=\"203.9856\"/></g></a><!--MD5=[270fce915f116d4de14055a7c1d9a0f3]\n",
       "class E5--><a href=\"psysml:b54cb894-c9b4-4b22-a0a5-6c760d030873\" target=\"_top\" title=\"psysml:b54cb894-c9b4-4b22-a0a5-6c760d030873\" xlink:actuate=\"onRequest\" xlink:href=\"psysml:b54cb894-c9b4-4b22-a0a5-6c760d030873\" xlink:show=\"new\" xlink:title=\"psysml:b54cb894-c9b4-4b22-a0a5-6c760d030873\" xlink:type=\"simple\"><g id=\"elem_E5\"><rect fill=\"#FFFFFF\" height=\"48.2656\" id=\"E5\" style=\"stroke:#181818;stroke-width:0.5;\" width=\"105\" x=\"380.5\" y=\"163.72\"/><text fill=\"#000000\" font-family=\"sans-serif\" font-size=\"12\" font-style=\"italic\" lengthAdjust=\"spacing\" textLength=\"103\" x=\"381.5\" y=\"179.8587\">«metadata  def»</text><text fill=\"#000000\" font-family=\"sans-serif\" font-size=\"14\" lengthAdjust=\"spacing\" textLength=\"55\" x=\"405.5\" y=\"195.6839\">Security</text><line style=\"stroke:#181818;stroke-width:0.5;\" x1=\"381.5\" x2=\"484.5\" y1=\"203.9856\" y2=\"203.9856\"/></g></a><!--MD5=[1f1cd8e6dd4c1b2ca2aaccc9b9bcea6e]\n",
       "link E1 to E2--><g id=\"link_E1_E2\"><a href=\"psysml:7790dee3-4a68-47c5-b25f-526a96f63664\" target=\"_top\" title=\"psysml:7790dee3-4a68-47c5-b25f-526a96f63664\" xlink:actuate=\"onRequest\" xlink:href=\"psysml:7790dee3-4a68-47c5-b25f-526a96f63664\" xlink:show=\"new\" xlink:title=\"psysml:7790dee3-4a68-47c5-b25f-526a96f63664\" xlink:type=\"simple\"><path d=\"M345,33.83 C345,36.11 345,73.1825 345,110.2463 C345,112.5627 345,114.8792 345,117.1871 C345,118.3411 345,119.4929 345,120.6415 \" fill=\"none\" id=\"E1-to-E2\" style=\"stroke:#181818;stroke-width:1.0;stroke-dasharray:7.0,7.0;\"/><polygon fill=\"#181818\" points=\"345,120.6415,349,111.6415,345,115.6415,341,111.6415,345,120.6415\" style=\"stroke:#181818;stroke-width:1.0;\"/><text fill=\"#000000\" font-family=\"sans-serif\" font-size=\"13\" lengthAdjust=\"spacing\" textLength=\"65\" x=\"346\" y=\"76.7869\">«import»*</text></a></g><!--MD5=[4735aefadfa2e5978451eb08fa1f3993]\n",
       "reverse link E4 to E3--><g id=\"link_E4_E3\"><a href=\"psysml:70fb76d3-4397-496c-b537-fd7ec6ee6db2\" target=\"_top\" title=\"psysml:70fb76d3-4397-496c-b537-fd7ec6ee6db2\" xlink:actuate=\"onRequest\" xlink:href=\"psysml:70fb76d3-4397-496c-b537-fd7ec6ee6db2\" xlink:show=\"new\" xlink:title=\"psysml:70fb76d3-4397-496c-b537-fd7ec6ee6db2\" xlink:type=\"simple\"><path d=\"M558.47,224.01 C550.61,243.1 540.73,267.08 531.96,288.4 \" fill=\"none\" id=\"E4-backto-E3\" style=\"stroke:#181818;stroke-width:1.0;\"/><polygon fill=\"none\" points=\"563.43,211.96,557.4497,215.9894,558.869,223.0594,564.8493,219.0301,563.43,211.96\" style=\"stroke:#181818;stroke-width:1.0;\"/><text fill=\"#000000\" font-family=\"sans-serif\" font-size=\"13\" lengthAdjust=\"spacing\" textLength=\"114\" x=\"551\" y=\"254.7869\">classificationLevel</text></a></g><!--MD5=[dc100758bf1fb325072b1ad7923f2e7d]\n",
       "@startuml\r\n",
       "skin sysmlbw\r\n",
       "skinparam monochrome true\r\n",
       "skinparam wrapWidth 300\r\n",
       "hide circle\r\n",
       "\r\n",
       "package \"MetadataTest\" as E1  [[psysml:6bf27c65-dae0-4f69-b1ef-6329bb319dfc ]]  {\r\n",
       "package \"User Defined Extensions\" as E2  [[psysml:fde4dbf0-a827-4985-ab3d-be4806656b08 ]]  {\r\n",
       "comp def \"<i>ClassificationLevel</i>\" as E3 <<#Security>>[[psysml:875613db-282a-4c31-9ce2-2c5502fc9987 ]] {\r\n",
       "##//enums//##\r\n",
       "uncl: ClassificationLevel <U+003D> 0\r\n",
       "conf: ClassificationLevel <U+003D> 1\r\n",
       "secret: ClassificationLevel <U+003D> 2\r\n",
       "}\r\n",
       "comp def \"Classified\" as E4  <<(T,blue) metadata  def>> [[psysml:7d365ab2-02f5-4019-ac52-725960bbc954 ]] {\r\n",
       "}\r\n",
       "comp def \"Security\" as E5  <<(T,blue) metadata  def>> [[psysml:b54cb894-c9b4-4b22-a0a5-6c760d030873 ]] {\r\n",
       "}\r\n",
       "}\r\n",
       "comp usage \"z1  \" as E6 <<#Classified #Security>>[[psysml:09bb7bef-5578-400a-ab09-b89f3b478a84 ]] {\r\n",
       "}\r\n",
       "comp usage \"<i>z2</i>  \" as E7 <<#Classified>>[[psysml:fcfec3d1-5349-46cf-95eb-369f9c247e1c ]] {\r\n",
       "}\r\n",
       "}\r\n",
       "E1 ..> E2 [[psysml:7790dee3-4a68-47c5-b25f-526a96f63664 ]] : <<import>>*\r\n",
       "E4 o- - E3 [[psysml:70fb76d3-4397-496c-b537-fd7ec6ee6db2 ]] : classificationLevel\r\n",
       "@enduml\r\n",
       "\n",
       "PlantUML version 1.2022.7(Mon Aug 22 17:01:30 UTC 2022)\n",
       "(EPL source distribution)\n",
       "Java Runtime: OpenJDK Runtime Environment\n",
       "JVM: OpenJDK 64-Bit Server VM\n",
       "Default Encoding: UTF-8\n",
       "Language: en\n",
       "Country: null\n",
       "--></g></svg>"
      ]
     },
     "execution_count": 43,
     "metadata": {},
     "output_type": "execute_result"
    }
   ],
   "source": [
    "%viz --style=\"DEFAULT\" --view=\"MIXED\" \"MetadataTest\""
   ]
  },
  {
   "cell_type": "code",
   "execution_count": 44,
   "id": "91e4c5cb",
   "metadata": {
    "execution": {
     "iopub.execute_input": "2024-12-16T03:28:25.196475Z",
     "iopub.status.busy": "2024-12-16T03:28:25.196236Z",
     "iopub.status.idle": "2024-12-16T03:28:25.216560Z",
     "shell.execute_reply": "2024-12-16T03:28:25.215800Z"
    }
   },
   "outputs": [
    {
     "data": {
      "image/svg+xml": [
       "<?xml version=\"1.0\" encoding=\"UTF-8\" standalone=\"no\"?><svg xmlns=\"http://www.w3.org/2000/svg\" xmlns:xlink=\"http://www.w3.org/1999/xlink\" contentStyleType=\"text/css\" height=\"467px\" preserveAspectRatio=\"none\" style=\"width:707px;height:467px;background:#FFFFFF;\" version=\"1.1\" viewBox=\"0 0 707 467\" width=\"707px\" zoomAndPan=\"magnify\"><defs/><g><!--MD5=[fbc87193dbaf4d95561dea2c320d4a47]\n",
       "cluster E1--><g id=\"cluster_E1\"><a href=\"psysml:6bf27c65-dae0-4f69-b1ef-6329bb319dfc\" target=\"_top\" title=\"psysml:6bf27c65-dae0-4f69-b1ef-6329bb319dfc\" xlink:actuate=\"onRequest\" xlink:href=\"psysml:6bf27c65-dae0-4f69-b1ef-6329bb319dfc\" xlink:show=\"new\" xlink:title=\"psysml:6bf27c65-dae0-4f69-b1ef-6329bb319dfc\" xlink:type=\"simple\"><polygon fill=\"none\" points=\"16,6,122.25,6,129.25,28.2969,690,28.2969,690,460.72,16,460.72,16,6\" style=\"stroke:#000000;stroke-width:1.5;\"/><line style=\"stroke:#000000;stroke-width:1.5;\" x1=\"16\" x2=\"129.25\" y1=\"28.2969\" y2=\"28.2969\"/><text fill=\"#000000\" font-family=\"sans-serif\" font-size=\"14\" font-weight=\"bold\" lengthAdjust=\"spacing\" textLength=\"100.25\" x=\"20\" y=\"20.9951\">MetadataTest</text></a></g><!--MD5=[e4f7fae6ed58524ba242bb0b0d3be6b7]\n",
       "cluster E2--><g id=\"cluster_E2\"><a href=\"psysml:fde4dbf0-a827-4985-ab3d-be4806656b08\" target=\"_top\" title=\"psysml:fde4dbf0-a827-4985-ab3d-be4806656b08\" xlink:actuate=\"onRequest\" xlink:href=\"psysml:fde4dbf0-a827-4985-ab3d-be4806656b08\" xlink:show=\"new\" xlink:title=\"psysml:fde4dbf0-a827-4985-ab3d-be4806656b08\" xlink:type=\"simple\"><polygon fill=\"none\" points=\"337,120.72,522.1875,120.72,529.1875,143.0169,650,143.0169,650,420.72,337,420.72,337,120.72\" style=\"stroke:#000000;stroke-width:1.5;\"/><line style=\"stroke:#000000;stroke-width:1.5;\" x1=\"337\" x2=\"529.1875\" y1=\"143.0169\" y2=\"143.0169\"/><text fill=\"#000000\" font-family=\"sans-serif\" font-size=\"14\" font-weight=\"bold\" lengthAdjust=\"spacing\" textLength=\"179.1875\" x=\"341\" y=\"135.7151\">User Defined Extensions</text></a></g><!--MD5=[60a26617385b1d2d0262a64233df1f8d]\n",
       "class E6--><a href=\"psysml:09bb7bef-5578-400a-ab09-b89f3b478a84\" target=\"_top\" title=\"psysml:09bb7bef-5578-400a-ab09-b89f3b478a84\" xlink:actuate=\"onRequest\" xlink:href=\"psysml:09bb7bef-5578-400a-ab09-b89f3b478a84\" xlink:show=\"new\" xlink:title=\"psysml:09bb7bef-5578-400a-ab09-b89f3b478a84\" xlink:type=\"simple\"><g id=\"elem_E6\"><rect fill=\"#FFFFFF\" height=\"48.2656\" id=\"E6\" rx=\"10\" ry=\"10\" style=\"stroke:#181818;stroke-width:0.5;\" width=\"149\" x=\"160.5\" y=\"163.72\"/><text fill=\"#000000\" font-family=\"sans-serif\" font-size=\"12\" font-style=\"italic\" lengthAdjust=\"spacing\" textLength=\"147\" x=\"161.5\" y=\"179.8587\">«#Classified #Security»</text><text fill=\"#000000\" font-family=\"sans-serif\" font-size=\"14\" lengthAdjust=\"spacing\" textLength=\"17\" x=\"222.5\" y=\"195.6839\">z1</text><line style=\"stroke:#181818;stroke-width:0.5;\" x1=\"161.5\" x2=\"308.5\" y1=\"203.9856\" y2=\"203.9856\"/></g></a><!--MD5=[2156ba9850f5573cc1fc38a6a4b2f02b]\n",
       "class E7--><a href=\"psysml:fcfec3d1-5349-46cf-95eb-369f9c247e1c\" target=\"_top\" title=\"psysml:fcfec3d1-5349-46cf-95eb-369f9c247e1c\" xlink:actuate=\"onRequest\" xlink:href=\"psysml:fcfec3d1-5349-46cf-95eb-369f9c247e1c\" xlink:show=\"new\" xlink:title=\"psysml:fcfec3d1-5349-46cf-95eb-369f9c247e1c\" xlink:type=\"simple\"><g id=\"elem_E7\"><rect fill=\"#FFFFFF\" height=\"48.2656\" id=\"E7\" rx=\"10\" ry=\"10\" style=\"stroke:#181818;stroke-width:0.5;\" width=\"85\" x=\"40.5\" y=\"163.72\"/><text fill=\"#000000\" font-family=\"sans-serif\" font-size=\"12\" font-style=\"italic\" lengthAdjust=\"spacing\" textLength=\"83\" x=\"41.5\" y=\"179.8587\">«#Classified»</text><text fill=\"#000000\" font-family=\"sans-serif\" font-size=\"14\" font-style=\"italic\" lengthAdjust=\"spacing\" textLength=\"17\" x=\"70.5\" y=\"195.6839\">z2</text><text fill=\"#000000\" font-family=\"sans-serif\" font-size=\"14\" lengthAdjust=\"spacing\" textLength=\"8\" x=\"87.5\" y=\"195.6839\">  </text><line style=\"stroke:#181818;stroke-width:0.5;\" x1=\"41.5\" x2=\"124.5\" y1=\"203.9856\" y2=\"203.9856\"/></g></a><!--MD5=[09b614a08d8cba4a07c9adeb5e0fee81]\n",
       "class E3--><a href=\"psysml:875613db-282a-4c31-9ce2-2c5502fc9987\" target=\"_top\" title=\"psysml:875613db-282a-4c31-9ce2-2c5502fc9987\" xlink:actuate=\"onRequest\" xlink:href=\"psysml:875613db-282a-4c31-9ce2-2c5502fc9987\" xlink:show=\"new\" xlink:title=\"psysml:875613db-282a-4c31-9ce2-2c5502fc9987\" xlink:type=\"simple\"><g id=\"elem_E3\"><rect fill=\"#FFFFFF\" height=\"107.675\" id=\"E3\" style=\"stroke:#181818;stroke-width:0.5;\" width=\"218\" x=\"401\" y=\"288.72\"/><text fill=\"#000000\" font-family=\"sans-serif\" font-size=\"12\" font-style=\"italic\" lengthAdjust=\"spacing\" textLength=\"74\" x=\"473\" y=\"304.8587\">«#Security»</text><text fill=\"#000000\" font-family=\"sans-serif\" font-size=\"14\" font-style=\"italic\" lengthAdjust=\"spacing\" textLength=\"124\" x=\"448\" y=\"320.6839\">ClassificationLevel</text><line style=\"stroke:#181818;stroke-width:0.5;\" x1=\"402\" x2=\"618\" y1=\"328.9856\" y2=\"328.9856\"/><text fill=\"#000000\" font-family=\"sans-serif\" font-size=\"14\" lengthAdjust=\"spacing\" textLength=\"191\" x=\"407\" y=\"356.4995\">uncl: ClassificationLevel = 0</text><text fill=\"#000000\" font-family=\"sans-serif\" font-size=\"14\" lengthAdjust=\"spacing\" textLength=\"192\" x=\"407\" y=\"372.7964\">conf: ClassificationLevel = 1</text><text fill=\"#000000\" font-family=\"sans-serif\" font-size=\"14\" lengthAdjust=\"spacing\" textLength=\"206\" x=\"407\" y=\"389.0932\">secret: ClassificationLevel = 2</text><text fill=\"#000000\" font-family=\"sans-serif\" font-size=\"14\" font-style=\"italic\" lengthAdjust=\"spacing\" textLength=\"48\" x=\"486\" y=\"341.3323\">enums</text></g></a><!--MD5=[ebbe1d658d1005bcc118a6aa81145e00]\n",
       "class E4--><a href=\"psysml:7d365ab2-02f5-4019-ac52-725960bbc954\" target=\"_top\" title=\"psysml:7d365ab2-02f5-4019-ac52-725960bbc954\" xlink:actuate=\"onRequest\" xlink:href=\"psysml:7d365ab2-02f5-4019-ac52-725960bbc954\" xlink:show=\"new\" xlink:title=\"psysml:7d365ab2-02f5-4019-ac52-725960bbc954\" xlink:type=\"simple\"><g id=\"elem_E4\"><rect fill=\"#FFFFFF\" height=\"48.2656\" id=\"E4\" style=\"stroke:#181818;stroke-width:0.5;\" width=\"105\" x=\"520.5\" y=\"163.72\"/><text fill=\"#000000\" font-family=\"sans-serif\" font-size=\"12\" font-style=\"italic\" lengthAdjust=\"spacing\" textLength=\"103\" x=\"521.5\" y=\"179.8587\">«metadata  def»</text><text fill=\"#000000\" font-family=\"sans-serif\" font-size=\"14\" lengthAdjust=\"spacing\" textLength=\"65\" x=\"540.5\" y=\"195.6839\">Classified</text><line style=\"stroke:#181818;stroke-width:0.5;\" x1=\"521.5\" x2=\"624.5\" y1=\"203.9856\" y2=\"203.9856\"/></g></a><!--MD5=[270fce915f116d4de14055a7c1d9a0f3]\n",
       "class E5--><a href=\"psysml:b54cb894-c9b4-4b22-a0a5-6c760d030873\" target=\"_top\" title=\"psysml:b54cb894-c9b4-4b22-a0a5-6c760d030873\" xlink:actuate=\"onRequest\" xlink:href=\"psysml:b54cb894-c9b4-4b22-a0a5-6c760d030873\" xlink:show=\"new\" xlink:title=\"psysml:b54cb894-c9b4-4b22-a0a5-6c760d030873\" xlink:type=\"simple\"><g id=\"elem_E5\"><rect fill=\"#FFFFFF\" height=\"48.2656\" id=\"E5\" style=\"stroke:#181818;stroke-width:0.5;\" width=\"105\" x=\"380.5\" y=\"163.72\"/><text fill=\"#000000\" font-family=\"sans-serif\" font-size=\"12\" font-style=\"italic\" lengthAdjust=\"spacing\" textLength=\"103\" x=\"381.5\" y=\"179.8587\">«metadata  def»</text><text fill=\"#000000\" font-family=\"sans-serif\" font-size=\"14\" lengthAdjust=\"spacing\" textLength=\"55\" x=\"405.5\" y=\"195.6839\">Security</text><line style=\"stroke:#181818;stroke-width:0.5;\" x1=\"381.5\" x2=\"484.5\" y1=\"203.9856\" y2=\"203.9856\"/></g></a><!--MD5=[1f1cd8e6dd4c1b2ca2aaccc9b9bcea6e]\n",
       "link E1 to E2--><g id=\"link_E1_E2\"><a href=\"psysml:7790dee3-4a68-47c5-b25f-526a96f63664\" target=\"_top\" title=\"psysml:7790dee3-4a68-47c5-b25f-526a96f63664\" xlink:actuate=\"onRequest\" xlink:href=\"psysml:7790dee3-4a68-47c5-b25f-526a96f63664\" xlink:show=\"new\" xlink:title=\"psysml:7790dee3-4a68-47c5-b25f-526a96f63664\" xlink:type=\"simple\"><path d=\"M345,33.83 C345,36.11 345,73.1825 345,110.2463 C345,112.5627 345,114.8792 345,117.1871 C345,118.3411 345,119.4929 345,120.6415 \" fill=\"none\" id=\"E1-to-E2\" style=\"stroke:#181818;stroke-width:1.0;stroke-dasharray:7.0,7.0;\"/><polygon fill=\"#181818\" points=\"345,120.6415,349,111.6415,345,115.6415,341,111.6415,345,120.6415\" style=\"stroke:#181818;stroke-width:1.0;\"/><text fill=\"#000000\" font-family=\"sans-serif\" font-size=\"13\" lengthAdjust=\"spacing\" textLength=\"65\" x=\"346\" y=\"76.7869\">«import»*</text></a></g><!--MD5=[4735aefadfa2e5978451eb08fa1f3993]\n",
       "reverse link E4 to E3--><g id=\"link_E4_E3\"><a href=\"psysml:70fb76d3-4397-496c-b537-fd7ec6ee6db2\" target=\"_top\" title=\"psysml:70fb76d3-4397-496c-b537-fd7ec6ee6db2\" xlink:actuate=\"onRequest\" xlink:href=\"psysml:70fb76d3-4397-496c-b537-fd7ec6ee6db2\" xlink:show=\"new\" xlink:title=\"psysml:70fb76d3-4397-496c-b537-fd7ec6ee6db2\" xlink:type=\"simple\"><path d=\"M558.47,224.01 C550.61,243.1 540.73,267.08 531.96,288.4 \" fill=\"none\" id=\"E4-backto-E3\" style=\"stroke:#181818;stroke-width:1.0;\"/><polygon fill=\"none\" points=\"563.43,211.96,557.4497,215.9894,558.869,223.0594,564.8493,219.0301,563.43,211.96\" style=\"stroke:#181818;stroke-width:1.0;\"/><text fill=\"#000000\" font-family=\"sans-serif\" font-size=\"13\" lengthAdjust=\"spacing\" textLength=\"114\" x=\"551\" y=\"254.7869\">classificationLevel</text></a></g><!--MD5=[2c4a1a473624eaeaa6fdff8151f2694c]\n",
       "@startuml\r\n",
       "skin sysmlbw\r\n",
       "skinparam monochrome true\r\n",
       "skinparam wrapWidth 300\r\n",
       "hide circle\r\n",
       "top to bottom direction\r\n",
       "\r\n",
       "package \"MetadataTest\" as E1  [[psysml:6bf27c65-dae0-4f69-b1ef-6329bb319dfc ]]  {\r\n",
       "package \"User Defined Extensions\" as E2  [[psysml:fde4dbf0-a827-4985-ab3d-be4806656b08 ]]  {\r\n",
       "comp def \"<i>ClassificationLevel</i>\" as E3 <<#Security>>[[psysml:875613db-282a-4c31-9ce2-2c5502fc9987 ]] {\r\n",
       "##//enums//##\r\n",
       "uncl: ClassificationLevel <U+003D> 0\r\n",
       "conf: ClassificationLevel <U+003D> 1\r\n",
       "secret: ClassificationLevel <U+003D> 2\r\n",
       "}\r\n",
       "comp def \"Classified\" as E4  <<(T,blue) metadata  def>> [[psysml:7d365ab2-02f5-4019-ac52-725960bbc954 ]] {\r\n",
       "}\r\n",
       "comp def \"Security\" as E5  <<(T,blue) metadata  def>> [[psysml:b54cb894-c9b4-4b22-a0a5-6c760d030873 ]] {\r\n",
       "}\r\n",
       "}\r\n",
       "comp usage \"z1  \" as E6 <<#Classified #Security>>[[psysml:09bb7bef-5578-400a-ab09-b89f3b478a84 ]] {\r\n",
       "}\r\n",
       "comp usage \"<i>z2</i>  \" as E7 <<#Classified>>[[psysml:fcfec3d1-5349-46cf-95eb-369f9c247e1c ]] {\r\n",
       "}\r\n",
       "}\r\n",
       "E1 ..> E2 [[psysml:7790dee3-4a68-47c5-b25f-526a96f63664 ]] : <<import>>*\r\n",
       "E4 o- - E3 [[psysml:70fb76d3-4397-496c-b537-fd7ec6ee6db2 ]] : classificationLevel\r\n",
       "@enduml\r\n",
       "\n",
       "PlantUML version 1.2022.7(Mon Aug 22 17:01:30 UTC 2022)\n",
       "(EPL source distribution)\n",
       "Java Runtime: OpenJDK Runtime Environment\n",
       "JVM: OpenJDK 64-Bit Server VM\n",
       "Default Encoding: UTF-8\n",
       "Language: en\n",
       "Country: null\n",
       "--></g></svg>"
      ]
     },
     "execution_count": 44,
     "metadata": {},
     "output_type": "execute_result"
    }
   ],
   "source": [
    "%viz --style=\"TB\" --view=\"Default\" \"MetadataTest\""
   ]
  },
  {
   "cell_type": "code",
   "execution_count": 45,
   "id": "1849dee0",
   "metadata": {
    "execution": {
     "iopub.execute_input": "2024-12-16T03:28:25.272767Z",
     "iopub.status.busy": "2024-12-16T03:28:25.272544Z",
     "iopub.status.idle": "2024-12-16T03:28:25.293110Z",
     "shell.execute_reply": "2024-12-16T03:28:25.292163Z"
    }
   },
   "outputs": [
    {
     "data": {
      "image/svg+xml": [
       "<?xml version=\"1.0\" encoding=\"UTF-8\" standalone=\"no\"?><svg xmlns=\"http://www.w3.org/2000/svg\" xmlns:xlink=\"http://www.w3.org/1999/xlink\" contentStyleType=\"text/css\" height=\"467px\" preserveAspectRatio=\"none\" style=\"width:707px;height:467px;background:#FFFFFF;\" version=\"1.1\" viewBox=\"0 0 707 467\" width=\"707px\" zoomAndPan=\"magnify\"><defs/><g><!--MD5=[fbc87193dbaf4d95561dea2c320d4a47]\n",
       "cluster E1--><g id=\"cluster_E1\"><a href=\"psysml:6bf27c65-dae0-4f69-b1ef-6329bb319dfc\" target=\"_top\" title=\"psysml:6bf27c65-dae0-4f69-b1ef-6329bb319dfc\" xlink:actuate=\"onRequest\" xlink:href=\"psysml:6bf27c65-dae0-4f69-b1ef-6329bb319dfc\" xlink:show=\"new\" xlink:title=\"psysml:6bf27c65-dae0-4f69-b1ef-6329bb319dfc\" xlink:type=\"simple\"><polygon fill=\"none\" points=\"16,6,122.25,6,129.25,28.2969,690,28.2969,690,460.72,16,460.72,16,6\" style=\"stroke:#000000;stroke-width:1.5;\"/><line style=\"stroke:#000000;stroke-width:1.5;\" x1=\"16\" x2=\"129.25\" y1=\"28.2969\" y2=\"28.2969\"/><text fill=\"#000000\" font-family=\"sans-serif\" font-size=\"14\" font-weight=\"bold\" lengthAdjust=\"spacing\" textLength=\"100.25\" x=\"20\" y=\"20.9951\">MetadataTest</text></a></g><!--MD5=[e4f7fae6ed58524ba242bb0b0d3be6b7]\n",
       "cluster E2--><g id=\"cluster_E2\"><a href=\"psysml:fde4dbf0-a827-4985-ab3d-be4806656b08\" target=\"_top\" title=\"psysml:fde4dbf0-a827-4985-ab3d-be4806656b08\" xlink:actuate=\"onRequest\" xlink:href=\"psysml:fde4dbf0-a827-4985-ab3d-be4806656b08\" xlink:show=\"new\" xlink:title=\"psysml:fde4dbf0-a827-4985-ab3d-be4806656b08\" xlink:type=\"simple\"><polygon fill=\"none\" points=\"337,120.72,522.1875,120.72,529.1875,143.0169,650,143.0169,650,420.72,337,420.72,337,120.72\" style=\"stroke:#000000;stroke-width:1.5;\"/><line style=\"stroke:#000000;stroke-width:1.5;\" x1=\"337\" x2=\"529.1875\" y1=\"143.0169\" y2=\"143.0169\"/><text fill=\"#000000\" font-family=\"sans-serif\" font-size=\"14\" font-weight=\"bold\" lengthAdjust=\"spacing\" textLength=\"179.1875\" x=\"341\" y=\"135.7151\">User Defined Extensions</text></a></g><!--MD5=[60a26617385b1d2d0262a64233df1f8d]\n",
       "class E6--><a href=\"psysml:09bb7bef-5578-400a-ab09-b89f3b478a84\" target=\"_top\" title=\"psysml:09bb7bef-5578-400a-ab09-b89f3b478a84\" xlink:actuate=\"onRequest\" xlink:href=\"psysml:09bb7bef-5578-400a-ab09-b89f3b478a84\" xlink:show=\"new\" xlink:title=\"psysml:09bb7bef-5578-400a-ab09-b89f3b478a84\" xlink:type=\"simple\"><g id=\"elem_E6\"><rect fill=\"#FFFFFF\" height=\"48.2656\" id=\"E6\" rx=\"10\" ry=\"10\" style=\"stroke:#181818;stroke-width:0.5;\" width=\"149\" x=\"160.5\" y=\"163.72\"/><text fill=\"#000000\" font-family=\"sans-serif\" font-size=\"12\" font-style=\"italic\" lengthAdjust=\"spacing\" textLength=\"147\" x=\"161.5\" y=\"179.8587\">«#Classified #Security»</text><text fill=\"#000000\" font-family=\"sans-serif\" font-size=\"14\" lengthAdjust=\"spacing\" textLength=\"17\" x=\"222.5\" y=\"195.6839\">z1</text><line style=\"stroke:#181818;stroke-width:0.5;\" x1=\"161.5\" x2=\"308.5\" y1=\"203.9856\" y2=\"203.9856\"/></g></a><!--MD5=[2156ba9850f5573cc1fc38a6a4b2f02b]\n",
       "class E7--><a href=\"psysml:fcfec3d1-5349-46cf-95eb-369f9c247e1c\" target=\"_top\" title=\"psysml:fcfec3d1-5349-46cf-95eb-369f9c247e1c\" xlink:actuate=\"onRequest\" xlink:href=\"psysml:fcfec3d1-5349-46cf-95eb-369f9c247e1c\" xlink:show=\"new\" xlink:title=\"psysml:fcfec3d1-5349-46cf-95eb-369f9c247e1c\" xlink:type=\"simple\"><g id=\"elem_E7\"><rect fill=\"#FFFFFF\" height=\"48.2656\" id=\"E7\" rx=\"10\" ry=\"10\" style=\"stroke:#181818;stroke-width:0.5;\" width=\"85\" x=\"40.5\" y=\"163.72\"/><text fill=\"#000000\" font-family=\"sans-serif\" font-size=\"12\" font-style=\"italic\" lengthAdjust=\"spacing\" textLength=\"83\" x=\"41.5\" y=\"179.8587\">«#Classified»</text><text fill=\"#000000\" font-family=\"sans-serif\" font-size=\"14\" font-style=\"italic\" lengthAdjust=\"spacing\" textLength=\"17\" x=\"70.5\" y=\"195.6839\">z2</text><text fill=\"#000000\" font-family=\"sans-serif\" font-size=\"14\" lengthAdjust=\"spacing\" textLength=\"8\" x=\"87.5\" y=\"195.6839\">  </text><line style=\"stroke:#181818;stroke-width:0.5;\" x1=\"41.5\" x2=\"124.5\" y1=\"203.9856\" y2=\"203.9856\"/></g></a><!--MD5=[09b614a08d8cba4a07c9adeb5e0fee81]\n",
       "class E3--><a href=\"psysml:875613db-282a-4c31-9ce2-2c5502fc9987\" target=\"_top\" title=\"psysml:875613db-282a-4c31-9ce2-2c5502fc9987\" xlink:actuate=\"onRequest\" xlink:href=\"psysml:875613db-282a-4c31-9ce2-2c5502fc9987\" xlink:show=\"new\" xlink:title=\"psysml:875613db-282a-4c31-9ce2-2c5502fc9987\" xlink:type=\"simple\"><g id=\"elem_E3\"><rect fill=\"#FFFFFF\" height=\"107.675\" id=\"E3\" style=\"stroke:#181818;stroke-width:0.5;\" width=\"218\" x=\"401\" y=\"288.72\"/><text fill=\"#000000\" font-family=\"sans-serif\" font-size=\"12\" font-style=\"italic\" lengthAdjust=\"spacing\" textLength=\"74\" x=\"473\" y=\"304.8587\">«#Security»</text><text fill=\"#000000\" font-family=\"sans-serif\" font-size=\"14\" font-style=\"italic\" lengthAdjust=\"spacing\" textLength=\"124\" x=\"448\" y=\"320.6839\">ClassificationLevel</text><line style=\"stroke:#181818;stroke-width:0.5;\" x1=\"402\" x2=\"618\" y1=\"328.9856\" y2=\"328.9856\"/><text fill=\"#000000\" font-family=\"sans-serif\" font-size=\"14\" lengthAdjust=\"spacing\" textLength=\"191\" x=\"407\" y=\"356.4995\">uncl: ClassificationLevel = 0</text><text fill=\"#000000\" font-family=\"sans-serif\" font-size=\"14\" lengthAdjust=\"spacing\" textLength=\"192\" x=\"407\" y=\"372.7964\">conf: ClassificationLevel = 1</text><text fill=\"#000000\" font-family=\"sans-serif\" font-size=\"14\" lengthAdjust=\"spacing\" textLength=\"206\" x=\"407\" y=\"389.0932\">secret: ClassificationLevel = 2</text><text fill=\"#000000\" font-family=\"sans-serif\" font-size=\"14\" font-style=\"italic\" lengthAdjust=\"spacing\" textLength=\"48\" x=\"486\" y=\"341.3323\">enums</text></g></a><!--MD5=[ebbe1d658d1005bcc118a6aa81145e00]\n",
       "class E4--><a href=\"psysml:7d365ab2-02f5-4019-ac52-725960bbc954\" target=\"_top\" title=\"psysml:7d365ab2-02f5-4019-ac52-725960bbc954\" xlink:actuate=\"onRequest\" xlink:href=\"psysml:7d365ab2-02f5-4019-ac52-725960bbc954\" xlink:show=\"new\" xlink:title=\"psysml:7d365ab2-02f5-4019-ac52-725960bbc954\" xlink:type=\"simple\"><g id=\"elem_E4\"><rect fill=\"#FFFFFF\" height=\"48.2656\" id=\"E4\" style=\"stroke:#181818;stroke-width:0.5;\" width=\"105\" x=\"520.5\" y=\"163.72\"/><text fill=\"#000000\" font-family=\"sans-serif\" font-size=\"12\" font-style=\"italic\" lengthAdjust=\"spacing\" textLength=\"103\" x=\"521.5\" y=\"179.8587\">«metadata  def»</text><text fill=\"#000000\" font-family=\"sans-serif\" font-size=\"14\" lengthAdjust=\"spacing\" textLength=\"65\" x=\"540.5\" y=\"195.6839\">Classified</text><line style=\"stroke:#181818;stroke-width:0.5;\" x1=\"521.5\" x2=\"624.5\" y1=\"203.9856\" y2=\"203.9856\"/></g></a><!--MD5=[270fce915f116d4de14055a7c1d9a0f3]\n",
       "class E5--><a href=\"psysml:b54cb894-c9b4-4b22-a0a5-6c760d030873\" target=\"_top\" title=\"psysml:b54cb894-c9b4-4b22-a0a5-6c760d030873\" xlink:actuate=\"onRequest\" xlink:href=\"psysml:b54cb894-c9b4-4b22-a0a5-6c760d030873\" xlink:show=\"new\" xlink:title=\"psysml:b54cb894-c9b4-4b22-a0a5-6c760d030873\" xlink:type=\"simple\"><g id=\"elem_E5\"><rect fill=\"#FFFFFF\" height=\"48.2656\" id=\"E5\" style=\"stroke:#181818;stroke-width:0.5;\" width=\"105\" x=\"380.5\" y=\"163.72\"/><text fill=\"#000000\" font-family=\"sans-serif\" font-size=\"12\" font-style=\"italic\" lengthAdjust=\"spacing\" textLength=\"103\" x=\"381.5\" y=\"179.8587\">«metadata  def»</text><text fill=\"#000000\" font-family=\"sans-serif\" font-size=\"14\" lengthAdjust=\"spacing\" textLength=\"55\" x=\"405.5\" y=\"195.6839\">Security</text><line style=\"stroke:#181818;stroke-width:0.5;\" x1=\"381.5\" x2=\"484.5\" y1=\"203.9856\" y2=\"203.9856\"/></g></a><!--MD5=[1f1cd8e6dd4c1b2ca2aaccc9b9bcea6e]\n",
       "link E1 to E2--><g id=\"link_E1_E2\"><a href=\"psysml:7790dee3-4a68-47c5-b25f-526a96f63664\" target=\"_top\" title=\"psysml:7790dee3-4a68-47c5-b25f-526a96f63664\" xlink:actuate=\"onRequest\" xlink:href=\"psysml:7790dee3-4a68-47c5-b25f-526a96f63664\" xlink:show=\"new\" xlink:title=\"psysml:7790dee3-4a68-47c5-b25f-526a96f63664\" xlink:type=\"simple\"><path d=\"M345,33.83 C345,36.11 345,73.1825 345,110.2463 C345,112.5627 345,114.8792 345,117.1871 C345,118.3411 345,119.4929 345,120.6415 \" fill=\"none\" id=\"E1-to-E2\" style=\"stroke:#181818;stroke-width:1.0;stroke-dasharray:7.0,7.0;\"/><polygon fill=\"#181818\" points=\"345,120.6415,349,111.6415,345,115.6415,341,111.6415,345,120.6415\" style=\"stroke:#181818;stroke-width:1.0;\"/><text fill=\"#000000\" font-family=\"sans-serif\" font-size=\"13\" lengthAdjust=\"spacing\" textLength=\"65\" x=\"346\" y=\"76.7869\">«import»*</text></a></g><!--MD5=[4735aefadfa2e5978451eb08fa1f3993]\n",
       "reverse link E4 to E3--><g id=\"link_E4_E3\"><a href=\"psysml:70fb76d3-4397-496c-b537-fd7ec6ee6db2\" target=\"_top\" title=\"psysml:70fb76d3-4397-496c-b537-fd7ec6ee6db2\" xlink:actuate=\"onRequest\" xlink:href=\"psysml:70fb76d3-4397-496c-b537-fd7ec6ee6db2\" xlink:show=\"new\" xlink:title=\"psysml:70fb76d3-4397-496c-b537-fd7ec6ee6db2\" xlink:type=\"simple\"><path d=\"M558.47,224.01 C550.61,243.1 540.73,267.08 531.96,288.4 \" fill=\"none\" id=\"E4-backto-E3\" style=\"stroke:#181818;stroke-width:1.0;\"/><polygon fill=\"none\" points=\"563.43,211.96,557.4497,215.9894,558.869,223.0594,564.8493,219.0301,563.43,211.96\" style=\"stroke:#181818;stroke-width:1.0;\"/><text fill=\"#000000\" font-family=\"sans-serif\" font-size=\"13\" lengthAdjust=\"spacing\" textLength=\"114\" x=\"551\" y=\"254.7869\">classificationLevel</text></a></g><!--MD5=[2c4a1a473624eaeaa6fdff8151f2694c]\n",
       "@startuml\r\n",
       "skin sysmlbw\r\n",
       "skinparam monochrome true\r\n",
       "skinparam wrapWidth 300\r\n",
       "hide circle\r\n",
       "top to bottom direction\r\n",
       "\r\n",
       "package \"MetadataTest\" as E1  [[psysml:6bf27c65-dae0-4f69-b1ef-6329bb319dfc ]]  {\r\n",
       "package \"User Defined Extensions\" as E2  [[psysml:fde4dbf0-a827-4985-ab3d-be4806656b08 ]]  {\r\n",
       "comp def \"<i>ClassificationLevel</i>\" as E3 <<#Security>>[[psysml:875613db-282a-4c31-9ce2-2c5502fc9987 ]] {\r\n",
       "##//enums//##\r\n",
       "uncl: ClassificationLevel <U+003D> 0\r\n",
       "conf: ClassificationLevel <U+003D> 1\r\n",
       "secret: ClassificationLevel <U+003D> 2\r\n",
       "}\r\n",
       "comp def \"Classified\" as E4  <<(T,blue) metadata  def>> [[psysml:7d365ab2-02f5-4019-ac52-725960bbc954 ]] {\r\n",
       "}\r\n",
       "comp def \"Security\" as E5  <<(T,blue) metadata  def>> [[psysml:b54cb894-c9b4-4b22-a0a5-6c760d030873 ]] {\r\n",
       "}\r\n",
       "}\r\n",
       "comp usage \"z1  \" as E6 <<#Classified #Security>>[[psysml:09bb7bef-5578-400a-ab09-b89f3b478a84 ]] {\r\n",
       "}\r\n",
       "comp usage \"<i>z2</i>  \" as E7 <<#Classified>>[[psysml:fcfec3d1-5349-46cf-95eb-369f9c247e1c ]] {\r\n",
       "}\r\n",
       "}\r\n",
       "E1 ..> E2 [[psysml:7790dee3-4a68-47c5-b25f-526a96f63664 ]] : <<import>>*\r\n",
       "E4 o- - E3 [[psysml:70fb76d3-4397-496c-b537-fd7ec6ee6db2 ]] : classificationLevel\r\n",
       "@enduml\r\n",
       "\n",
       "PlantUML version 1.2022.7(Mon Aug 22 17:01:30 UTC 2022)\n",
       "(EPL source distribution)\n",
       "Java Runtime: OpenJDK Runtime Environment\n",
       "JVM: OpenJDK 64-Bit Server VM\n",
       "Default Encoding: UTF-8\n",
       "Language: en\n",
       "Country: null\n",
       "--></g></svg>"
      ]
     },
     "execution_count": 45,
     "metadata": {},
     "output_type": "execute_result"
    }
   ],
   "source": [
    "%viz --style=\"TB\" --view=\"Tree\" \"MetadataTest\""
   ]
  },
  {
   "cell_type": "code",
   "execution_count": 46,
   "id": "e5f019f7",
   "metadata": {
    "execution": {
     "iopub.execute_input": "2024-12-16T03:28:25.348612Z",
     "iopub.status.busy": "2024-12-16T03:28:25.348417Z",
     "iopub.status.idle": "2024-12-16T03:28:25.360868Z",
     "shell.execute_reply": "2024-12-16T03:28:25.360141Z"
    }
   },
   "outputs": [
    {
     "data": {
      "image/svg+xml": [
       "<?xml version=\"1.0\" encoding=\"UTF-8\" standalone=\"no\"?><svg xmlns=\"http://www.w3.org/2000/svg\" xmlns:xlink=\"http://www.w3.org/1999/xlink\" contentStyleType=\"text/css\" height=\"96px\" preserveAspectRatio=\"none\" style=\"width:912px;height:96px;background:#FFFFFF;\" version=\"1.1\" viewBox=\"0 0 912 96\" width=\"912px\" zoomAndPan=\"magnify\"><defs/><g><g id=\"elem_E1\"><path d=\"M6,13.5 L6,82.0448 L315,82.0448 L315,23.5 L305,13.5 L6,13.5 \" fill=\"#FAFAFA\" style=\"stroke:#181818;stroke-width:0.5;\"/><path d=\"M305,13.5 L305,23.5 L315,23.5 L305,13.5 \" fill=\"#FAFAFA\" style=\"stroke:#181818;stroke-width:1.0;\"/><text fill=\"#000000\" font-family=\"monospace\" font-size=\"13\" lengthAdjust=\"spacing\" textLength=\"112\" x=\"12\" y=\"32.397\">              </text><a href=\"psysml:ccd30bed-0f75-43dd-8560-a117ef71fdae\" target=\"_top\" title=\"psysml:ccd30bed-0f75-43dd-8560-a117ef71fdae\" xlink:actuate=\"onRequest\" xlink:href=\"psysml:ccd30bed-0f75-43dd-8560-a117ef71fdae\" xlink:show=\"new\" xlink:title=\"psysml:ccd30bed-0f75-43dd-8560-a117ef71fdae\" xlink:type=\"simple\"><text fill=\"#000000\" font-family=\"sans-serif\" font-size=\"13\" lengthAdjust=\"spacing\" text-decoration=\"underline\" textLength=\"79\" x=\"124\" y=\"33.1401\">«metadata»</text></a><text fill=\"#000000\" font-family=\"monospace\" font-size=\"13\" font-style=\"italic\" lengthAdjust=\"spacing\" textLength=\"112\" x=\"12\" y=\"50.103\">              </text><text fill=\"#000000\" font-family=\"sans-serif\" font-size=\"13\" font-style=\"italic\" lengthAdjust=\"spacing\" textLength=\"60\" x=\"124\" y=\"50.8461\">Classified</text><line style=\"stroke:#181818;stroke-width:1.0;\" x1=\"7\" x2=\"314\" y1=\"53.912\" y2=\"53.912\"/><text fill=\"#000000\" font-family=\"sans-serif\" font-size=\"13\" lengthAdjust=\"spacing\" textLength=\"288\" x=\"12\" y=\"69.9789\">classificationLevel =  ClassificationLevel::conf</text></g><g id=\"elem_E2\"><path d=\"M350,13.5 L350,82.0448 L659,82.0448 L659,23.5 L649,13.5 L350,13.5 \" fill=\"#FAFAFA\" style=\"stroke:#181818;stroke-width:0.5;\"/><path d=\"M649,13.5 L649,23.5 L659,23.5 L649,13.5 \" fill=\"#FAFAFA\" style=\"stroke:#181818;stroke-width:1.0;\"/><text fill=\"#000000\" font-family=\"monospace\" font-size=\"13\" lengthAdjust=\"spacing\" textLength=\"112\" x=\"356\" y=\"32.397\">              </text><a href=\"psysml:a50d3885-9ceb-42ed-af81-8542a216cf29\" target=\"_top\" title=\"psysml:a50d3885-9ceb-42ed-af81-8542a216cf29\" xlink:actuate=\"onRequest\" xlink:href=\"psysml:a50d3885-9ceb-42ed-af81-8542a216cf29\" xlink:show=\"new\" xlink:title=\"psysml:a50d3885-9ceb-42ed-af81-8542a216cf29\" xlink:type=\"simple\"><text fill=\"#000000\" font-family=\"sans-serif\" font-size=\"13\" lengthAdjust=\"spacing\" text-decoration=\"underline\" textLength=\"79\" x=\"468\" y=\"33.1401\">«metadata»</text></a><text fill=\"#000000\" font-family=\"monospace\" font-size=\"13\" font-style=\"italic\" lengthAdjust=\"spacing\" textLength=\"112\" x=\"356\" y=\"50.103\">              </text><text fill=\"#000000\" font-family=\"sans-serif\" font-size=\"13\" font-style=\"italic\" lengthAdjust=\"spacing\" textLength=\"60\" x=\"468\" y=\"50.8461\">Classified</text><line style=\"stroke:#181818;stroke-width:1.0;\" x1=\"351\" x2=\"658\" y1=\"53.912\" y2=\"53.912\"/><text fill=\"#000000\" font-family=\"sans-serif\" font-size=\"13\" lengthAdjust=\"spacing\" textLength=\"288\" x=\"356\" y=\"69.9789\">classificationLevel =  ClassificationLevel::conf</text></g><g id=\"elem_E3\"><path d=\"M693.5,6 L693.5,89.6777 L905.5,89.6777 L905.5,16 L895.5,6 L693.5,6 \" fill=\"#FAFAFA\" style=\"stroke:#181818;stroke-width:0.5;\"/><path d=\"M895.5,6 L895.5,16 L905.5,16 L895.5,6 \" fill=\"#FAFAFA\" style=\"stroke:#181818;stroke-width:1.0;\"/><text fill=\"#000000\" font-family=\"monospace\" font-size=\"13\" lengthAdjust=\"spacing\" textLength=\"112\" x=\"699.5\" y=\"24.897\">              </text><a href=\"psysml:7eb290c6-6d6c-4277-b27a-b35f0e599ca6\" target=\"_top\" title=\"psysml:7eb290c6-6d6c-4277-b27a-b35f0e599ca6\" xlink:actuate=\"onRequest\" xlink:href=\"psysml:7eb290c6-6d6c-4277-b27a-b35f0e599ca6\" xlink:show=\"new\" xlink:title=\"psysml:7eb290c6-6d6c-4277-b27a-b35f0e599ca6\" xlink:type=\"simple\"><text fill=\"#000000\" font-family=\"sans-serif\" font-size=\"13\" lengthAdjust=\"spacing\" text-decoration=\"underline\" textLength=\"79\" x=\"811.5\" y=\"25.6401\">«metadata»</text></a><text fill=\"#000000\" font-family=\"monospace\" font-size=\"13\" font-style=\"italic\" lengthAdjust=\"spacing\" textLength=\"112\" x=\"699.5\" y=\"42.603\">              </text><text fill=\"#000000\" font-family=\"sans-serif\" font-size=\"13\" font-style=\"italic\" lengthAdjust=\"spacing\" textLength=\"60\" x=\"811.5\" y=\"43.3461\">Classified</text><line style=\"stroke:#181818;stroke-width:1.0;\" x1=\"694.5\" x2=\"904.5\" y1=\"46.412\" y2=\"46.412\"/><text fill=\"#000000\" font-family=\"sans-serif\" font-size=\"13\" lengthAdjust=\"spacing\" textLength=\"129\" x=\"699.5\" y=\"62.4789\">classificationLevel =</text><text fill=\"#000000\" font-family=\"sans-serif\" font-size=\"13\" lengthAdjust=\"spacing\" textLength=\"164\" x=\"699.5\" y=\"77.6117\">ClassificationLevel::secret</text></g><!--MD5=[221d68e57b7906078f97bc1e408703e0]\n",
       "@startuml\r\n",
       "skin sysmlbw\r\n",
       "skinparam monochrome true\r\n",
       "skinparam wrapWidth 300\r\n",
       "hide circle\r\n",
       "top to bottom direction\r\n",
       "\r\n",
       "note as E1\r\n",
       "\"\"              \"\"[[psysml:ccd30bed-0f75-43dd-8560-a117ef71fdae «metadata»]]\r\n",
       "==== \"\"              \"\"Classified\r\n",
       "- -\r\n",
       "classificationLevel =  ClassificationLevel::conf\r\n",
       "end note\r\n",
       "note as E2\r\n",
       "\"\"              \"\"[[psysml:a50d3885-9ceb-42ed-af81-8542a216cf29 «metadata»]]\r\n",
       "==== \"\"              \"\"Classified\r\n",
       "- -\r\n",
       "classificationLevel =  ClassificationLevel::conf\r\n",
       "end note\r\n",
       "note as E3\r\n",
       "\"\"              \"\"[[psysml:7eb290c6-6d6c-4277-b27a-b35f0e599ca6 «metadata»]]\r\n",
       "==== \"\"              \"\"Classified\r\n",
       "- -\r\n",
       "classificationLevel =  ClassificationLevel::secret\r\n",
       "end note\r\n",
       "@enduml\r\n",
       "\n",
       "PlantUML version 1.2022.7(Mon Aug 22 17:01:30 UTC 2022)\n",
       "(EPL source distribution)\n",
       "Java Runtime: OpenJDK Runtime Environment\n",
       "JVM: OpenJDK 64-Bit Server VM\n",
       "Default Encoding: UTF-8\n",
       "Language: en\n",
       "Country: null\n",
       "--></g></svg>"
      ]
     },
     "execution_count": 46,
     "metadata": {},
     "output_type": "execute_result"
    }
   ],
   "source": [
    "%viz --style=\"TB\" --view=\"State\" \"MetadataTest\""
   ]
  },
  {
   "cell_type": "code",
   "execution_count": 47,
   "id": "6c1df939",
   "metadata": {
    "execution": {
     "iopub.execute_input": "2024-12-16T03:28:25.413606Z",
     "iopub.status.busy": "2024-12-16T03:28:25.413368Z",
     "iopub.status.idle": "2024-12-16T03:28:25.431253Z",
     "shell.execute_reply": "2024-12-16T03:28:25.430502Z"
    }
   },
   "outputs": [
    {
     "data": {
      "image/svg+xml": [
       "<?xml version=\"1.0\" encoding=\"UTF-8\" standalone=\"no\"?><svg xmlns=\"http://www.w3.org/2000/svg\" xmlns:xlink=\"http://www.w3.org/1999/xlink\" contentStyleType=\"text/css\" height=\"257px\" preserveAspectRatio=\"none\" style=\"width:1233px;height:257px;background:#FFFFFF;\" version=\"1.1\" viewBox=\"0 0 1233 257\" width=\"1233px\" zoomAndPan=\"magnify\"><defs/><g><!--MD5=[fbc87193dbaf4d95561dea2c320d4a47]\n",
       "cluster E1--><g id=\"cluster_E1\"><a href=\"psysml:6bf27c65-dae0-4f69-b1ef-6329bb319dfc\" target=\"_top\" title=\"psysml:6bf27c65-dae0-4f69-b1ef-6329bb319dfc\" xlink:actuate=\"onRequest\" xlink:href=\"psysml:6bf27c65-dae0-4f69-b1ef-6329bb319dfc\" xlink:show=\"new\" xlink:title=\"psysml:6bf27c65-dae0-4f69-b1ef-6329bb319dfc\" xlink:type=\"simple\"><polygon fill=\"none\" points=\"16,6,122.25,6,129.25,28.2969,1216,28.2969,1216,250.72,16,250.72,16,6\" style=\"stroke:#000000;stroke-width:1.5;\"/><line style=\"stroke:#000000;stroke-width:1.5;\" x1=\"16\" x2=\"129.25\" y1=\"28.2969\" y2=\"28.2969\"/><text fill=\"#000000\" font-family=\"sans-serif\" font-size=\"14\" font-weight=\"bold\" lengthAdjust=\"spacing\" textLength=\"100.25\" x=\"20\" y=\"20.9951\">MetadataTest</text></a></g><!--MD5=[e4f7fae6ed58524ba242bb0b0d3be6b7]\n",
       "cluster E2--><g id=\"cluster_E2\"><a href=\"psysml:fde4dbf0-a827-4985-ab3d-be4806656b08\" target=\"_top\" title=\"psysml:fde4dbf0-a827-4985-ab3d-be4806656b08\" xlink:actuate=\"onRequest\" xlink:href=\"psysml:fde4dbf0-a827-4985-ab3d-be4806656b08\" xlink:show=\"new\" xlink:title=\"psysml:fde4dbf0-a827-4985-ab3d-be4806656b08\" xlink:type=\"simple\"><polygon fill=\"none\" points=\"683,98.72,868.1875,98.72,875.1875,121.0169,1176,121.0169,1176,210.72,683,210.72,683,98.72\" style=\"stroke:#000000;stroke-width:1.5;\"/><line style=\"stroke:#000000;stroke-width:1.5;\" x1=\"683\" x2=\"875.1875\" y1=\"121.0169\" y2=\"121.0169\"/><text fill=\"#000000\" font-family=\"sans-serif\" font-size=\"14\" font-weight=\"bold\" lengthAdjust=\"spacing\" textLength=\"179.1875\" x=\"687\" y=\"113.7151\">User Defined Extensions</text></a></g><!--MD5=[60a26617385b1d2d0262a64233df1f8d]\n",
       "class E6--><a href=\"psysml:ab215fb4-7997-4c5e-99e0-8fea9c1d3082\" target=\"_top\" title=\"psysml:ab215fb4-7997-4c5e-99e0-8fea9c1d3082\" xlink:actuate=\"onRequest\" xlink:href=\"psysml:ab215fb4-7997-4c5e-99e0-8fea9c1d3082\" xlink:show=\"new\" xlink:title=\"psysml:ab215fb4-7997-4c5e-99e0-8fea9c1d3082\" xlink:type=\"simple\"><g id=\"elem_E6\"><rect fill=\"#FFFFFF\" height=\"56.2656\" id=\"E6\" rx=\"10\" ry=\"10\" style=\"stroke:#181818;stroke-width:0.5;\" width=\"77\" x=\"578.5\" y=\"136.22\"/><text fill=\"#000000\" font-family=\"sans-serif\" font-size=\"12\" font-style=\"italic\" lengthAdjust=\"spacing\" textLength=\"75\" x=\"579.5\" y=\"152.3587\">«reference»</text><text fill=\"#000000\" font-family=\"sans-serif\" font-size=\"14\" lengthAdjust=\"spacing\" textLength=\"7\" x=\"609.5\" y=\"168.1839\">x</text><line style=\"stroke:#181818;stroke-width:0.5;\" x1=\"579.5\" x2=\"654.5\" y1=\"176.4856\" y2=\"176.4856\"/><line style=\"stroke:#181818;stroke-width:0.5;\" x1=\"579.5\" x2=\"654.5\" y1=\"184.4856\" y2=\"184.4856\"/></g></a><!--MD5=[2156ba9850f5573cc1fc38a6a4b2f02b]\n",
       "class E7--><a href=\"psysml:c7350727-55c2-4532-b138-8da3db2b593b\" target=\"_top\" title=\"psysml:c7350727-55c2-4532-b138-8da3db2b593b\" xlink:actuate=\"onRequest\" xlink:href=\"psysml:c7350727-55c2-4532-b138-8da3db2b593b\" xlink:show=\"new\" xlink:title=\"psysml:c7350727-55c2-4532-b138-8da3db2b593b\" xlink:type=\"simple\"><g id=\"elem_E7\"><rect fill=\"#FFFFFF\" height=\"56.2656\" id=\"E7\" rx=\"10\" ry=\"10\" style=\"stroke:#181818;stroke-width:0.5;\" width=\"76\" x=\"467\" y=\"136.22\"/><text fill=\"#000000\" font-family=\"sans-serif\" font-size=\"12\" font-style=\"italic\" lengthAdjust=\"spacing\" textLength=\"74\" x=\"468\" y=\"152.3587\">«#Security»</text><text fill=\"#000000\" font-family=\"sans-serif\" font-size=\"14\" lengthAdjust=\"spacing\" textLength=\"7\" x=\"497.5\" y=\"168.1839\">y</text><line style=\"stroke:#181818;stroke-width:0.5;\" x1=\"468\" x2=\"542\" y1=\"176.4856\" y2=\"176.4856\"/><line style=\"stroke:#181818;stroke-width:0.5;\" x1=\"468\" x2=\"542\" y1=\"184.4856\" y2=\"184.4856\"/></g></a><!--MD5=[96f4274e9e20536e775497830990834d]\n",
       "class E10--><a href=\"psysml:bedd784f-2083-437e-9a45-6e64d2c52a15\" target=\"_top\" title=\"psysml:bedd784f-2083-437e-9a45-6e64d2c52a15\" xlink:actuate=\"onRequest\" xlink:href=\"psysml:bedd784f-2083-437e-9a45-6e64d2c52a15\" xlink:show=\"new\" xlink:title=\"psysml:bedd784f-2083-437e-9a45-6e64d2c52a15\" xlink:type=\"simple\"><g id=\"elem_E10\"><rect fill=\"#FFFFFF\" height=\"56.2656\" id=\"E10\" rx=\"10\" ry=\"10\" style=\"stroke:#181818;stroke-width:0.5;\" width=\"77\" x=\"354.5\" y=\"136.22\"/><text fill=\"#000000\" font-family=\"sans-serif\" font-size=\"12\" font-style=\"italic\" lengthAdjust=\"spacing\" textLength=\"75\" x=\"355.5\" y=\"152.3587\">«reference»</text><text fill=\"#000000\" font-family=\"sans-serif\" font-size=\"14\" lengthAdjust=\"spacing\" textLength=\"8\" x=\"385\" y=\"168.1839\">z</text><line style=\"stroke:#181818;stroke-width:0.5;\" x1=\"355.5\" x2=\"430.5\" y1=\"176.4856\" y2=\"176.4856\"/><line style=\"stroke:#181818;stroke-width:0.5;\" x1=\"355.5\" x2=\"430.5\" y1=\"184.4856\" y2=\"184.4856\"/></g></a><g><a href=\"psysml:875613db-282a-4c31-9ce2-2c5502fc9987\" target=\"_top\" title=\"psysml:875613db-282a-4c31-9ce2-2c5502fc9987\" xlink:actuate=\"onRequest\" xlink:href=\"psysml:875613db-282a-4c31-9ce2-2c5502fc9987\" xlink:show=\"new\" xlink:title=\"psysml:875613db-282a-4c31-9ce2-2c5502fc9987\" xlink:type=\"simple\"><rect fill=\"#FFFFFF\" height=\"45.2656\" id=\"E3\" style=\"stroke:#383838;stroke-width:1.5;\" width=\"135\" x=\"1016.5\" y=\"141.72\"/><text fill=\"#000000\" font-family=\"sans-serif\" font-size=\"12\" font-style=\"italic\" lengthAdjust=\"spacing\" textLength=\"74\" x=\"1047\" y=\"157.8587\">«#Security»</text><text fill=\"#000000\" font-family=\"sans-serif\" font-size=\"14\" font-style=\"italic\" lengthAdjust=\"spacing\" textLength=\"124\" x=\"1022\" y=\"173.6839\">ClassificationLevel</text></a></g><g><a href=\"psysml:7d365ab2-02f5-4019-ac52-725960bbc954\" target=\"_top\" title=\"psysml:7d365ab2-02f5-4019-ac52-725960bbc954\" xlink:actuate=\"onRequest\" xlink:href=\"psysml:7d365ab2-02f5-4019-ac52-725960bbc954\" xlink:show=\"new\" xlink:title=\"psysml:7d365ab2-02f5-4019-ac52-725960bbc954\" xlink:type=\"simple\"><rect fill=\"#FFFFFF\" height=\"45.2656\" id=\"E4\" style=\"stroke:#383838;stroke-width:1.5;\" width=\"110\" x=\"871\" y=\"141.72\"/><text fill=\"#000000\" font-family=\"sans-serif\" font-size=\"12\" font-style=\"italic\" lengthAdjust=\"spacing\" textLength=\"103\" x=\"874.5\" y=\"157.8587\">«metadata  def»</text><text fill=\"#000000\" font-family=\"sans-serif\" font-size=\"14\" lengthAdjust=\"spacing\" textLength=\"65\" x=\"893.5\" y=\"173.6839\">Classified</text></a></g><g><a href=\"psysml:b54cb894-c9b4-4b22-a0a5-6c760d030873\" target=\"_top\" title=\"psysml:b54cb894-c9b4-4b22-a0a5-6c760d030873\" xlink:actuate=\"onRequest\" xlink:href=\"psysml:b54cb894-c9b4-4b22-a0a5-6c760d030873\" xlink:show=\"new\" xlink:title=\"psysml:b54cb894-c9b4-4b22-a0a5-6c760d030873\" xlink:type=\"simple\"><rect fill=\"#FFFFFF\" height=\"45.2656\" id=\"E5\" style=\"stroke:#383838;stroke-width:1.5;\" width=\"110\" x=\"726\" y=\"141.72\"/><text fill=\"#000000\" font-family=\"sans-serif\" font-size=\"12\" font-style=\"italic\" lengthAdjust=\"spacing\" textLength=\"103\" x=\"729.5\" y=\"157.8587\">«metadata  def»</text><text fill=\"#000000\" font-family=\"sans-serif\" font-size=\"14\" lengthAdjust=\"spacing\" textLength=\"55\" x=\"753.5\" y=\"173.6839\">Security</text></a></g><g><a href=\"psysml:09bb7bef-5578-400a-ab09-b89f3b478a84\" target=\"_top\" title=\"psysml:09bb7bef-5578-400a-ab09-b89f3b478a84\" xlink:actuate=\"onRequest\" xlink:href=\"psysml:09bb7bef-5578-400a-ab09-b89f3b478a84\" xlink:show=\"new\" xlink:title=\"psysml:09bb7bef-5578-400a-ab09-b89f3b478a84\" xlink:type=\"simple\"><rect fill=\"#FFFFFF\" height=\"45.2656\" id=\"E8\" rx=\"10\" ry=\"10\" style=\"stroke:#383838;stroke-width:1.5;\" width=\"154\" x=\"165\" y=\"141.72\"/><text fill=\"#000000\" font-family=\"sans-serif\" font-size=\"12\" font-style=\"italic\" lengthAdjust=\"spacing\" textLength=\"147\" x=\"168.5\" y=\"157.8587\">«#Classified #Security»</text><text fill=\"#000000\" font-family=\"sans-serif\" font-size=\"14\" lengthAdjust=\"spacing\" textLength=\"17\" x=\"233.5\" y=\"173.6839\">z1</text></a></g><g><a href=\"psysml:fcfec3d1-5349-46cf-95eb-369f9c247e1c\" target=\"_top\" title=\"psysml:fcfec3d1-5349-46cf-95eb-369f9c247e1c\" xlink:actuate=\"onRequest\" xlink:href=\"psysml:fcfec3d1-5349-46cf-95eb-369f9c247e1c\" xlink:show=\"new\" xlink:title=\"psysml:fcfec3d1-5349-46cf-95eb-369f9c247e1c\" xlink:type=\"simple\"><rect fill=\"#FFFFFF\" height=\"45.2656\" id=\"E9\" rx=\"10\" ry=\"10\" style=\"stroke:#383838;stroke-width:1.5;\" width=\"90\" x=\"40\" y=\"141.72\"/><text fill=\"#000000\" font-family=\"sans-serif\" font-size=\"12\" font-style=\"italic\" lengthAdjust=\"spacing\" textLength=\"83\" x=\"43.5\" y=\"157.8587\">«#Classified»</text><text fill=\"#000000\" font-family=\"sans-serif\" font-size=\"14\" font-style=\"italic\" lengthAdjust=\"spacing\" textLength=\"17\" x=\"76.5\" y=\"173.6839\">z2</text></a></g><!--MD5=[1f1cd8e6dd4c1b2ca2aaccc9b9bcea6e]\n",
       "link E1 to E2--><g id=\"link_E1_E2\"><a href=\"psysml:7790dee3-4a68-47c5-b25f-526a96f63664\" target=\"_top\" title=\"psysml:7790dee3-4a68-47c5-b25f-526a96f63664\" xlink:actuate=\"onRequest\" xlink:href=\"psysml:7790dee3-4a68-47c5-b25f-526a96f63664\" xlink:show=\"new\" xlink:title=\"psysml:7790dee3-4a68-47c5-b25f-526a96f63664\" xlink:type=\"simple\"><path d=\"M691,33.81 C691,35.74 691,67.12 691,98.4925 \" fill=\"none\" id=\"E1-to-E2\" style=\"stroke:#181818;stroke-width:1.0;stroke-dasharray:7.0,7.0;\"/><polygon fill=\"#181818\" points=\"691,98.4925,695,89.4925,691,93.4925,687,89.4925,691,98.4925\" style=\"stroke:#181818;stroke-width:1.0;\"/><text fill=\"#000000\" font-family=\"sans-serif\" font-size=\"13\" lengthAdjust=\"spacing\" textLength=\"65\" x=\"692\" y=\"54.7869\">«import»*</text></a></g><!--MD5=[60a22a43035544b557b81535cf6096fb]\n",
       "@startuml\r\n",
       "skin sysmlbw\r\n",
       "skinparam monochrome true\r\n",
       "skinparam wrapWidth 300\r\n",
       "hide circle\r\n",
       "top to bottom direction\r\n",
       "skinparam ranksep 10\r\n",
       "skinparam rectangle {\r\n",
       " backgroundColor<<block>> LightGreen\r\n",
       "}\r\n",
       "\r\n",
       "package \"MetadataTest\" as E1  [[psysml:6bf27c65-dae0-4f69-b1ef-6329bb319dfc ]]  {\r\n",
       "package \"User Defined Extensions\" as E2  [[psysml:fde4dbf0-a827-4985-ab3d-be4806656b08 ]]  {\r\n",
       "def \"<i>ClassificationLevel</i>\" as E3 <<#Security>>[[psysml:875613db-282a-4c31-9ce2-2c5502fc9987 ]] \r\n",
       "def \"Classified\" as E4  <<(T,blue) metadata  def>> [[psysml:7d365ab2-02f5-4019-ac52-725960bbc954 ]] \r\n",
       "def \"Security\" as E5  <<(T,blue) metadata  def>> [[psysml:b54cb894-c9b4-4b22-a0a5-6c760d030873 ]] \r\n",
       "}\r\n",
       "usage \"x  \" as E6  <<(T,blue) reference>> [[psysml:ab215fb4-7997-4c5e-99e0-8fea9c1d3082 ]] \r\n",
       "usage \"y  \" as E7 <<#Security>>[[psysml:c7350727-55c2-4532-b138-8da3db2b593b ]] \r\n",
       "rec usage \"z1\" as E8 <<#Classified #Security>>[[psysml:09bb7bef-5578-400a-ab09-b89f3b478a84 ]] {\r\n",
       "}\r\n",
       "rec usage \"<i>z2</i>\" as E9 <<#Classified>>[[psysml:fcfec3d1-5349-46cf-95eb-369f9c247e1c ]] {\r\n",
       "}\r\n",
       "usage \"z  \" as E10  <<(T,blue) reference>> [[psysml:bedd784f-2083-437e-9a45-6e64d2c52a15 ]] \r\n",
       "}\r\n",
       "E1 ..> E2 [[psysml:7790dee3-4a68-47c5-b25f-526a96f63664 ]] : <<import>>*\r\n",
       "@enduml\r\n",
       "\n",
       "PlantUML version 1.2022.7(Mon Aug 22 17:01:30 UTC 2022)\n",
       "(EPL source distribution)\n",
       "Java Runtime: OpenJDK Runtime Environment\n",
       "JVM: OpenJDK 64-Bit Server VM\n",
       "Default Encoding: UTF-8\n",
       "Language: en\n",
       "Country: null\n",
       "--></g></svg>"
      ]
     },
     "execution_count": 47,
     "metadata": {},
     "output_type": "execute_result"
    }
   ],
   "source": [
    "%viz --style=\"TB\" --view=\"Interconnection\" \"MetadataTest\""
   ]
  },
  {
   "cell_type": "code",
   "execution_count": 48,
   "id": "3abfcc58",
   "metadata": {
    "execution": {
     "iopub.execute_input": "2024-12-16T03:28:25.486090Z",
     "iopub.status.busy": "2024-12-16T03:28:25.485893Z",
     "iopub.status.idle": "2024-12-16T03:28:25.500605Z",
     "shell.execute_reply": "2024-12-16T03:28:25.499784Z"
    }
   },
   "outputs": [
    {
     "data": {
      "image/svg+xml": [
       "<?xml version=\"1.0\" encoding=\"UTF-8\" standalone=\"no\"?><svg xmlns=\"http://www.w3.org/2000/svg\" xmlns:xlink=\"http://www.w3.org/1999/xlink\" contentStyleType=\"text/css\" height=\"96px\" preserveAspectRatio=\"none\" style=\"width:912px;height:96px;background:#FFFFFF;\" version=\"1.1\" viewBox=\"0 0 912 96\" width=\"912px\" zoomAndPan=\"magnify\"><defs/><g><g id=\"elem_E1\"><path d=\"M6,13.5 L6,82.0448 L315,82.0448 L315,23.5 L305,13.5 L6,13.5 \" fill=\"#FAFAFA\" style=\"stroke:#181818;stroke-width:0.5;\"/><path d=\"M305,13.5 L305,23.5 L315,23.5 L305,13.5 \" fill=\"#FAFAFA\" style=\"stroke:#181818;stroke-width:1.0;\"/><text fill=\"#000000\" font-family=\"monospace\" font-size=\"13\" lengthAdjust=\"spacing\" textLength=\"112\" x=\"12\" y=\"32.397\">              </text><a href=\"psysml:ccd30bed-0f75-43dd-8560-a117ef71fdae\" target=\"_top\" title=\"psysml:ccd30bed-0f75-43dd-8560-a117ef71fdae\" xlink:actuate=\"onRequest\" xlink:href=\"psysml:ccd30bed-0f75-43dd-8560-a117ef71fdae\" xlink:show=\"new\" xlink:title=\"psysml:ccd30bed-0f75-43dd-8560-a117ef71fdae\" xlink:type=\"simple\"><text fill=\"#000000\" font-family=\"sans-serif\" font-size=\"13\" lengthAdjust=\"spacing\" text-decoration=\"underline\" textLength=\"79\" x=\"124\" y=\"33.1401\">«metadata»</text></a><text fill=\"#000000\" font-family=\"monospace\" font-size=\"13\" font-style=\"italic\" lengthAdjust=\"spacing\" textLength=\"112\" x=\"12\" y=\"50.103\">              </text><text fill=\"#000000\" font-family=\"sans-serif\" font-size=\"13\" font-style=\"italic\" lengthAdjust=\"spacing\" textLength=\"60\" x=\"124\" y=\"50.8461\">Classified</text><line style=\"stroke:#181818;stroke-width:1.0;\" x1=\"7\" x2=\"314\" y1=\"53.912\" y2=\"53.912\"/><text fill=\"#000000\" font-family=\"sans-serif\" font-size=\"13\" lengthAdjust=\"spacing\" textLength=\"288\" x=\"12\" y=\"69.9789\">classificationLevel =  ClassificationLevel::conf</text></g><g id=\"elem_E2\"><path d=\"M350,13.5 L350,82.0448 L659,82.0448 L659,23.5 L649,13.5 L350,13.5 \" fill=\"#FAFAFA\" style=\"stroke:#181818;stroke-width:0.5;\"/><path d=\"M649,13.5 L649,23.5 L659,23.5 L649,13.5 \" fill=\"#FAFAFA\" style=\"stroke:#181818;stroke-width:1.0;\"/><text fill=\"#000000\" font-family=\"monospace\" font-size=\"13\" lengthAdjust=\"spacing\" textLength=\"112\" x=\"356\" y=\"32.397\">              </text><a href=\"psysml:a50d3885-9ceb-42ed-af81-8542a216cf29\" target=\"_top\" title=\"psysml:a50d3885-9ceb-42ed-af81-8542a216cf29\" xlink:actuate=\"onRequest\" xlink:href=\"psysml:a50d3885-9ceb-42ed-af81-8542a216cf29\" xlink:show=\"new\" xlink:title=\"psysml:a50d3885-9ceb-42ed-af81-8542a216cf29\" xlink:type=\"simple\"><text fill=\"#000000\" font-family=\"sans-serif\" font-size=\"13\" lengthAdjust=\"spacing\" text-decoration=\"underline\" textLength=\"79\" x=\"468\" y=\"33.1401\">«metadata»</text></a><text fill=\"#000000\" font-family=\"monospace\" font-size=\"13\" font-style=\"italic\" lengthAdjust=\"spacing\" textLength=\"112\" x=\"356\" y=\"50.103\">              </text><text fill=\"#000000\" font-family=\"sans-serif\" font-size=\"13\" font-style=\"italic\" lengthAdjust=\"spacing\" textLength=\"60\" x=\"468\" y=\"50.8461\">Classified</text><line style=\"stroke:#181818;stroke-width:1.0;\" x1=\"351\" x2=\"658\" y1=\"53.912\" y2=\"53.912\"/><text fill=\"#000000\" font-family=\"sans-serif\" font-size=\"13\" lengthAdjust=\"spacing\" textLength=\"288\" x=\"356\" y=\"69.9789\">classificationLevel =  ClassificationLevel::conf</text></g><g id=\"elem_E3\"><path d=\"M693.5,6 L693.5,89.6777 L905.5,89.6777 L905.5,16 L895.5,6 L693.5,6 \" fill=\"#FAFAFA\" style=\"stroke:#181818;stroke-width:0.5;\"/><path d=\"M895.5,6 L895.5,16 L905.5,16 L895.5,6 \" fill=\"#FAFAFA\" style=\"stroke:#181818;stroke-width:1.0;\"/><text fill=\"#000000\" font-family=\"monospace\" font-size=\"13\" lengthAdjust=\"spacing\" textLength=\"112\" x=\"699.5\" y=\"24.897\">              </text><a href=\"psysml:7eb290c6-6d6c-4277-b27a-b35f0e599ca6\" target=\"_top\" title=\"psysml:7eb290c6-6d6c-4277-b27a-b35f0e599ca6\" xlink:actuate=\"onRequest\" xlink:href=\"psysml:7eb290c6-6d6c-4277-b27a-b35f0e599ca6\" xlink:show=\"new\" xlink:title=\"psysml:7eb290c6-6d6c-4277-b27a-b35f0e599ca6\" xlink:type=\"simple\"><text fill=\"#000000\" font-family=\"sans-serif\" font-size=\"13\" lengthAdjust=\"spacing\" text-decoration=\"underline\" textLength=\"79\" x=\"811.5\" y=\"25.6401\">«metadata»</text></a><text fill=\"#000000\" font-family=\"monospace\" font-size=\"13\" font-style=\"italic\" lengthAdjust=\"spacing\" textLength=\"112\" x=\"699.5\" y=\"42.603\">              </text><text fill=\"#000000\" font-family=\"sans-serif\" font-size=\"13\" font-style=\"italic\" lengthAdjust=\"spacing\" textLength=\"60\" x=\"811.5\" y=\"43.3461\">Classified</text><line style=\"stroke:#181818;stroke-width:1.0;\" x1=\"694.5\" x2=\"904.5\" y1=\"46.412\" y2=\"46.412\"/><text fill=\"#000000\" font-family=\"sans-serif\" font-size=\"13\" lengthAdjust=\"spacing\" textLength=\"129\" x=\"699.5\" y=\"62.4789\">classificationLevel =</text><text fill=\"#000000\" font-family=\"sans-serif\" font-size=\"13\" lengthAdjust=\"spacing\" textLength=\"164\" x=\"699.5\" y=\"77.6117\">ClassificationLevel::secret</text></g><!--MD5=[b2a5a30de31ac03f5bcb4bdb90a92642]\n",
       "@startuml\r\n",
       "skin sysmlbw\r\n",
       "skinparam monochrome true\r\n",
       "skinparam wrapWidth 300\r\n",
       "hide circle\r\n",
       "top to bottom direction\r\n",
       "skinparam ranksep 8\r\n",
       "\r\n",
       "note as E1\r\n",
       "\"\"              \"\"[[psysml:ccd30bed-0f75-43dd-8560-a117ef71fdae «metadata»]]\r\n",
       "==== \"\"              \"\"Classified\r\n",
       "- -\r\n",
       "classificationLevel =  ClassificationLevel::conf\r\n",
       "end note\r\n",
       "note as E2\r\n",
       "\"\"              \"\"[[psysml:a50d3885-9ceb-42ed-af81-8542a216cf29 «metadata»]]\r\n",
       "==== \"\"              \"\"Classified\r\n",
       "- -\r\n",
       "classificationLevel =  ClassificationLevel::conf\r\n",
       "end note\r\n",
       "note as E3\r\n",
       "\"\"              \"\"[[psysml:7eb290c6-6d6c-4277-b27a-b35f0e599ca6 «metadata»]]\r\n",
       "==== \"\"              \"\"Classified\r\n",
       "- -\r\n",
       "classificationLevel =  ClassificationLevel::secret\r\n",
       "end note\r\n",
       "@enduml\r\n",
       "\n",
       "PlantUML version 1.2022.7(Mon Aug 22 17:01:30 UTC 2022)\n",
       "(EPL source distribution)\n",
       "Java Runtime: OpenJDK Runtime Environment\n",
       "JVM: OpenJDK 64-Bit Server VM\n",
       "Default Encoding: UTF-8\n",
       "Language: en\n",
       "Country: null\n",
       "--></g></svg>"
      ]
     },
     "execution_count": 48,
     "metadata": {},
     "output_type": "execute_result"
    }
   ],
   "source": [
    "%viz --style=\"TB\" --view=\"Action\" \"MetadataTest\""
   ]
  },
  {
   "cell_type": "code",
   "execution_count": 49,
   "id": "0db573df",
   "metadata": {
    "execution": {
     "iopub.execute_input": "2024-12-16T03:28:25.551989Z",
     "iopub.status.busy": "2024-12-16T03:28:25.551782Z",
     "iopub.status.idle": "2024-12-16T03:28:25.558078Z",
     "shell.execute_reply": "2024-12-16T03:28:25.557897Z"
    }
   },
   "outputs": [
    {
     "data": {
      "image/svg+xml": [
       "<?xml version=\"1.0\" encoding=\"UTF-8\" standalone=\"no\"?><svg xmlns=\"http://www.w3.org/2000/svg\" xmlns:xlink=\"http://www.w3.org/1999/xlink\" contentStyleType=\"text/css\" height=\"10px\" preserveAspectRatio=\"none\" style=\"width:10px;height:10px;background:#FFFFFF;\" version=\"1.1\" viewBox=\"0 0 10 10\" width=\"10px\" zoomAndPan=\"magnify\"><defs/><g><!--MD5=[228a58293b408a2cee091b1559da5a28]\n",
       "@startuml\r\n",
       "skin sysmlbw\r\n",
       "skinparam monochrome true\r\n",
       "skinparam wrapWidth 300\r\n",
       "hide circle\r\n",
       "top to bottom direction\r\n",
       "skinparam roundcorner 20\r\n",
       "skinparam BoxPadding 20\r\n",
       "skinparam SequenceBoxBackgroundColor #white\r\n",
       "skinparam style strictuml\r\n",
       "skinparam maxMessageSize 100\r\n",
       "\r\n",
       "@enduml\r\n",
       "\n",
       "PlantUML version 1.2022.7(Mon Aug 22 17:01:30 UTC 2022)\n",
       "(EPL source distribution)\n",
       "Java Runtime: OpenJDK Runtime Environment\n",
       "JVM: OpenJDK 64-Bit Server VM\n",
       "Default Encoding: UTF-8\n",
       "Language: en\n",
       "Country: null\n",
       "--></g></svg>"
      ]
     },
     "execution_count": 49,
     "metadata": {},
     "output_type": "execute_result"
    }
   ],
   "source": [
    "%viz --style=\"TB\" --view=\"Sequence\" \"MetadataTest\""
   ]
  },
  {
   "cell_type": "code",
   "execution_count": 50,
   "id": "31b77eb4",
   "metadata": {
    "execution": {
     "iopub.execute_input": "2024-12-16T03:28:25.610486Z",
     "iopub.status.busy": "2024-12-16T03:28:25.610233Z",
     "iopub.status.idle": "2024-12-16T03:28:25.629593Z",
     "shell.execute_reply": "2024-12-16T03:28:25.628834Z"
    }
   },
   "outputs": [
    {
     "data": {
      "image/svg+xml": [
       "<?xml version=\"1.0\" encoding=\"UTF-8\" standalone=\"no\"?><svg xmlns=\"http://www.w3.org/2000/svg\" xmlns:xlink=\"http://www.w3.org/1999/xlink\" contentStyleType=\"text/css\" height=\"467px\" preserveAspectRatio=\"none\" style=\"width:707px;height:467px;background:#FFFFFF;\" version=\"1.1\" viewBox=\"0 0 707 467\" width=\"707px\" zoomAndPan=\"magnify\"><defs/><g><!--MD5=[fbc87193dbaf4d95561dea2c320d4a47]\n",
       "cluster E1--><g id=\"cluster_E1\"><a href=\"psysml:6bf27c65-dae0-4f69-b1ef-6329bb319dfc\" target=\"_top\" title=\"psysml:6bf27c65-dae0-4f69-b1ef-6329bb319dfc\" xlink:actuate=\"onRequest\" xlink:href=\"psysml:6bf27c65-dae0-4f69-b1ef-6329bb319dfc\" xlink:show=\"new\" xlink:title=\"psysml:6bf27c65-dae0-4f69-b1ef-6329bb319dfc\" xlink:type=\"simple\"><polygon fill=\"none\" points=\"16,6,122.25,6,129.25,28.2969,690,28.2969,690,460.72,16,460.72,16,6\" style=\"stroke:#000000;stroke-width:1.5;\"/><line style=\"stroke:#000000;stroke-width:1.5;\" x1=\"16\" x2=\"129.25\" y1=\"28.2969\" y2=\"28.2969\"/><text fill=\"#000000\" font-family=\"sans-serif\" font-size=\"14\" font-weight=\"bold\" lengthAdjust=\"spacing\" textLength=\"100.25\" x=\"20\" y=\"20.9951\">MetadataTest</text></a></g><!--MD5=[e4f7fae6ed58524ba242bb0b0d3be6b7]\n",
       "cluster E2--><g id=\"cluster_E2\"><a href=\"psysml:fde4dbf0-a827-4985-ab3d-be4806656b08\" target=\"_top\" title=\"psysml:fde4dbf0-a827-4985-ab3d-be4806656b08\" xlink:actuate=\"onRequest\" xlink:href=\"psysml:fde4dbf0-a827-4985-ab3d-be4806656b08\" xlink:show=\"new\" xlink:title=\"psysml:fde4dbf0-a827-4985-ab3d-be4806656b08\" xlink:type=\"simple\"><polygon fill=\"none\" points=\"337,120.72,522.1875,120.72,529.1875,143.0169,650,143.0169,650,420.72,337,420.72,337,120.72\" style=\"stroke:#000000;stroke-width:1.5;\"/><line style=\"stroke:#000000;stroke-width:1.5;\" x1=\"337\" x2=\"529.1875\" y1=\"143.0169\" y2=\"143.0169\"/><text fill=\"#000000\" font-family=\"sans-serif\" font-size=\"14\" font-weight=\"bold\" lengthAdjust=\"spacing\" textLength=\"179.1875\" x=\"341\" y=\"135.7151\">User Defined Extensions</text></a></g><!--MD5=[60a26617385b1d2d0262a64233df1f8d]\n",
       "class E6--><a href=\"psysml:09bb7bef-5578-400a-ab09-b89f3b478a84\" target=\"_top\" title=\"psysml:09bb7bef-5578-400a-ab09-b89f3b478a84\" xlink:actuate=\"onRequest\" xlink:href=\"psysml:09bb7bef-5578-400a-ab09-b89f3b478a84\" xlink:show=\"new\" xlink:title=\"psysml:09bb7bef-5578-400a-ab09-b89f3b478a84\" xlink:type=\"simple\"><g id=\"elem_E6\"><rect fill=\"#FFFFFF\" height=\"48.2656\" id=\"E6\" rx=\"10\" ry=\"10\" style=\"stroke:#181818;stroke-width:0.5;\" width=\"149\" x=\"160.5\" y=\"163.72\"/><text fill=\"#000000\" font-family=\"sans-serif\" font-size=\"12\" font-style=\"italic\" lengthAdjust=\"spacing\" textLength=\"147\" x=\"161.5\" y=\"179.8587\">«#Classified #Security»</text><text fill=\"#000000\" font-family=\"sans-serif\" font-size=\"14\" lengthAdjust=\"spacing\" textLength=\"17\" x=\"222.5\" y=\"195.6839\">z1</text><line style=\"stroke:#181818;stroke-width:0.5;\" x1=\"161.5\" x2=\"308.5\" y1=\"203.9856\" y2=\"203.9856\"/></g></a><!--MD5=[2156ba9850f5573cc1fc38a6a4b2f02b]\n",
       "class E7--><a href=\"psysml:fcfec3d1-5349-46cf-95eb-369f9c247e1c\" target=\"_top\" title=\"psysml:fcfec3d1-5349-46cf-95eb-369f9c247e1c\" xlink:actuate=\"onRequest\" xlink:href=\"psysml:fcfec3d1-5349-46cf-95eb-369f9c247e1c\" xlink:show=\"new\" xlink:title=\"psysml:fcfec3d1-5349-46cf-95eb-369f9c247e1c\" xlink:type=\"simple\"><g id=\"elem_E7\"><rect fill=\"#FFFFFF\" height=\"48.2656\" id=\"E7\" rx=\"10\" ry=\"10\" style=\"stroke:#181818;stroke-width:0.5;\" width=\"85\" x=\"40.5\" y=\"163.72\"/><text fill=\"#000000\" font-family=\"sans-serif\" font-size=\"12\" font-style=\"italic\" lengthAdjust=\"spacing\" textLength=\"83\" x=\"41.5\" y=\"179.8587\">«#Classified»</text><text fill=\"#000000\" font-family=\"sans-serif\" font-size=\"14\" font-style=\"italic\" lengthAdjust=\"spacing\" textLength=\"17\" x=\"70.5\" y=\"195.6839\">z2</text><text fill=\"#000000\" font-family=\"sans-serif\" font-size=\"14\" lengthAdjust=\"spacing\" textLength=\"8\" x=\"87.5\" y=\"195.6839\">  </text><line style=\"stroke:#181818;stroke-width:0.5;\" x1=\"41.5\" x2=\"124.5\" y1=\"203.9856\" y2=\"203.9856\"/></g></a><!--MD5=[09b614a08d8cba4a07c9adeb5e0fee81]\n",
       "class E3--><a href=\"psysml:875613db-282a-4c31-9ce2-2c5502fc9987\" target=\"_top\" title=\"psysml:875613db-282a-4c31-9ce2-2c5502fc9987\" xlink:actuate=\"onRequest\" xlink:href=\"psysml:875613db-282a-4c31-9ce2-2c5502fc9987\" xlink:show=\"new\" xlink:title=\"psysml:875613db-282a-4c31-9ce2-2c5502fc9987\" xlink:type=\"simple\"><g id=\"elem_E3\"><rect fill=\"#FFFFFF\" height=\"107.675\" id=\"E3\" style=\"stroke:#181818;stroke-width:0.5;\" width=\"218\" x=\"401\" y=\"288.72\"/><text fill=\"#000000\" font-family=\"sans-serif\" font-size=\"12\" font-style=\"italic\" lengthAdjust=\"spacing\" textLength=\"74\" x=\"473\" y=\"304.8587\">«#Security»</text><text fill=\"#000000\" font-family=\"sans-serif\" font-size=\"14\" font-style=\"italic\" lengthAdjust=\"spacing\" textLength=\"124\" x=\"448\" y=\"320.6839\">ClassificationLevel</text><line style=\"stroke:#181818;stroke-width:0.5;\" x1=\"402\" x2=\"618\" y1=\"328.9856\" y2=\"328.9856\"/><text fill=\"#000000\" font-family=\"sans-serif\" font-size=\"14\" lengthAdjust=\"spacing\" textLength=\"191\" x=\"407\" y=\"356.4995\">uncl: ClassificationLevel = 0</text><text fill=\"#000000\" font-family=\"sans-serif\" font-size=\"14\" lengthAdjust=\"spacing\" textLength=\"192\" x=\"407\" y=\"372.7964\">conf: ClassificationLevel = 1</text><text fill=\"#000000\" font-family=\"sans-serif\" font-size=\"14\" lengthAdjust=\"spacing\" textLength=\"206\" x=\"407\" y=\"389.0932\">secret: ClassificationLevel = 2</text><text fill=\"#000000\" font-family=\"sans-serif\" font-size=\"14\" font-style=\"italic\" lengthAdjust=\"spacing\" textLength=\"48\" x=\"486\" y=\"341.3323\">enums</text></g></a><!--MD5=[ebbe1d658d1005bcc118a6aa81145e00]\n",
       "class E4--><a href=\"psysml:7d365ab2-02f5-4019-ac52-725960bbc954\" target=\"_top\" title=\"psysml:7d365ab2-02f5-4019-ac52-725960bbc954\" xlink:actuate=\"onRequest\" xlink:href=\"psysml:7d365ab2-02f5-4019-ac52-725960bbc954\" xlink:show=\"new\" xlink:title=\"psysml:7d365ab2-02f5-4019-ac52-725960bbc954\" xlink:type=\"simple\"><g id=\"elem_E4\"><rect fill=\"#FFFFFF\" height=\"48.2656\" id=\"E4\" style=\"stroke:#181818;stroke-width:0.5;\" width=\"105\" x=\"520.5\" y=\"163.72\"/><text fill=\"#000000\" font-family=\"sans-serif\" font-size=\"12\" font-style=\"italic\" lengthAdjust=\"spacing\" textLength=\"103\" x=\"521.5\" y=\"179.8587\">«metadata  def»</text><text fill=\"#000000\" font-family=\"sans-serif\" font-size=\"14\" lengthAdjust=\"spacing\" textLength=\"65\" x=\"540.5\" y=\"195.6839\">Classified</text><line style=\"stroke:#181818;stroke-width:0.5;\" x1=\"521.5\" x2=\"624.5\" y1=\"203.9856\" y2=\"203.9856\"/></g></a><!--MD5=[270fce915f116d4de14055a7c1d9a0f3]\n",
       "class E5--><a href=\"psysml:b54cb894-c9b4-4b22-a0a5-6c760d030873\" target=\"_top\" title=\"psysml:b54cb894-c9b4-4b22-a0a5-6c760d030873\" xlink:actuate=\"onRequest\" xlink:href=\"psysml:b54cb894-c9b4-4b22-a0a5-6c760d030873\" xlink:show=\"new\" xlink:title=\"psysml:b54cb894-c9b4-4b22-a0a5-6c760d030873\" xlink:type=\"simple\"><g id=\"elem_E5\"><rect fill=\"#FFFFFF\" height=\"48.2656\" id=\"E5\" style=\"stroke:#181818;stroke-width:0.5;\" width=\"105\" x=\"380.5\" y=\"163.72\"/><text fill=\"#000000\" font-family=\"sans-serif\" font-size=\"12\" font-style=\"italic\" lengthAdjust=\"spacing\" textLength=\"103\" x=\"381.5\" y=\"179.8587\">«metadata  def»</text><text fill=\"#000000\" font-family=\"sans-serif\" font-size=\"14\" lengthAdjust=\"spacing\" textLength=\"55\" x=\"405.5\" y=\"195.6839\">Security</text><line style=\"stroke:#181818;stroke-width:0.5;\" x1=\"381.5\" x2=\"484.5\" y1=\"203.9856\" y2=\"203.9856\"/></g></a><!--MD5=[1f1cd8e6dd4c1b2ca2aaccc9b9bcea6e]\n",
       "link E1 to E2--><g id=\"link_E1_E2\"><a href=\"psysml:7790dee3-4a68-47c5-b25f-526a96f63664\" target=\"_top\" title=\"psysml:7790dee3-4a68-47c5-b25f-526a96f63664\" xlink:actuate=\"onRequest\" xlink:href=\"psysml:7790dee3-4a68-47c5-b25f-526a96f63664\" xlink:show=\"new\" xlink:title=\"psysml:7790dee3-4a68-47c5-b25f-526a96f63664\" xlink:type=\"simple\"><path d=\"M345,33.83 C345,36.11 345,73.1825 345,110.2463 C345,112.5627 345,114.8792 345,117.1871 C345,118.3411 345,119.4929 345,120.6415 \" fill=\"none\" id=\"E1-to-E2\" style=\"stroke:#181818;stroke-width:1.0;stroke-dasharray:7.0,7.0;\"/><polygon fill=\"#181818\" points=\"345,120.6415,349,111.6415,345,115.6415,341,111.6415,345,120.6415\" style=\"stroke:#181818;stroke-width:1.0;\"/><text fill=\"#000000\" font-family=\"sans-serif\" font-size=\"13\" lengthAdjust=\"spacing\" textLength=\"65\" x=\"346\" y=\"76.7869\">«import»*</text></a></g><!--MD5=[4735aefadfa2e5978451eb08fa1f3993]\n",
       "reverse link E4 to E3--><g id=\"link_E4_E3\"><a href=\"psysml:70fb76d3-4397-496c-b537-fd7ec6ee6db2\" target=\"_top\" title=\"psysml:70fb76d3-4397-496c-b537-fd7ec6ee6db2\" xlink:actuate=\"onRequest\" xlink:href=\"psysml:70fb76d3-4397-496c-b537-fd7ec6ee6db2\" xlink:show=\"new\" xlink:title=\"psysml:70fb76d3-4397-496c-b537-fd7ec6ee6db2\" xlink:type=\"simple\"><path d=\"M558.47,224.01 C550.61,243.1 540.73,267.08 531.96,288.4 \" fill=\"none\" id=\"E4-backto-E3\" style=\"stroke:#181818;stroke-width:1.0;\"/><polygon fill=\"none\" points=\"563.43,211.96,557.4497,215.9894,558.869,223.0594,564.8493,219.0301,563.43,211.96\" style=\"stroke:#181818;stroke-width:1.0;\"/><text fill=\"#000000\" font-family=\"sans-serif\" font-size=\"13\" lengthAdjust=\"spacing\" textLength=\"114\" x=\"551\" y=\"254.7869\">classificationLevel</text></a></g><!--MD5=[2c4a1a473624eaeaa6fdff8151f2694c]\n",
       "@startuml\r\n",
       "skin sysmlbw\r\n",
       "skinparam monochrome true\r\n",
       "skinparam wrapWidth 300\r\n",
       "hide circle\r\n",
       "top to bottom direction\r\n",
       "\r\n",
       "package \"MetadataTest\" as E1  [[psysml:6bf27c65-dae0-4f69-b1ef-6329bb319dfc ]]  {\r\n",
       "package \"User Defined Extensions\" as E2  [[psysml:fde4dbf0-a827-4985-ab3d-be4806656b08 ]]  {\r\n",
       "comp def \"<i>ClassificationLevel</i>\" as E3 <<#Security>>[[psysml:875613db-282a-4c31-9ce2-2c5502fc9987 ]] {\r\n",
       "##//enums//##\r\n",
       "uncl: ClassificationLevel <U+003D> 0\r\n",
       "conf: ClassificationLevel <U+003D> 1\r\n",
       "secret: ClassificationLevel <U+003D> 2\r\n",
       "}\r\n",
       "comp def \"Classified\" as E4  <<(T,blue) metadata  def>> [[psysml:7d365ab2-02f5-4019-ac52-725960bbc954 ]] {\r\n",
       "}\r\n",
       "comp def \"Security\" as E5  <<(T,blue) metadata  def>> [[psysml:b54cb894-c9b4-4b22-a0a5-6c760d030873 ]] {\r\n",
       "}\r\n",
       "}\r\n",
       "comp usage \"z1  \" as E6 <<#Classified #Security>>[[psysml:09bb7bef-5578-400a-ab09-b89f3b478a84 ]] {\r\n",
       "}\r\n",
       "comp usage \"<i>z2</i>  \" as E7 <<#Classified>>[[psysml:fcfec3d1-5349-46cf-95eb-369f9c247e1c ]] {\r\n",
       "}\r\n",
       "}\r\n",
       "E1 ..> E2 [[psysml:7790dee3-4a68-47c5-b25f-526a96f63664 ]] : <<import>>*\r\n",
       "E4 o- - E3 [[psysml:70fb76d3-4397-496c-b537-fd7ec6ee6db2 ]] : classificationLevel\r\n",
       "@enduml\r\n",
       "\n",
       "PlantUML version 1.2022.7(Mon Aug 22 17:01:30 UTC 2022)\n",
       "(EPL source distribution)\n",
       "Java Runtime: OpenJDK Runtime Environment\n",
       "JVM: OpenJDK 64-Bit Server VM\n",
       "Default Encoding: UTF-8\n",
       "Language: en\n",
       "Country: null\n",
       "--></g></svg>"
      ]
     },
     "execution_count": 50,
     "metadata": {},
     "output_type": "execute_result"
    }
   ],
   "source": [
    "%viz --style=\"TB\" --view=\"MIXED\" \"MetadataTest\""
   ]
  },
  {
   "cell_type": "code",
   "execution_count": 51,
   "id": "89b73748",
   "metadata": {
    "execution": {
     "iopub.execute_input": "2024-12-16T03:28:25.682522Z",
     "iopub.status.busy": "2024-12-16T03:28:25.682298Z",
     "iopub.status.idle": "2024-12-16T03:28:25.702073Z",
     "shell.execute_reply": "2024-12-16T03:28:25.701182Z"
    }
   },
   "outputs": [
    {
     "data": {
      "image/svg+xml": [
       "<?xml version=\"1.0\" encoding=\"UTF-8\" standalone=\"no\"?><svg xmlns=\"http://www.w3.org/2000/svg\" xmlns:xlink=\"http://www.w3.org/1999/xlink\" contentStyleType=\"text/css\" height=\"403px\" preserveAspectRatio=\"none\" style=\"width:707px;height:403px;background:#FFFFFF;\" version=\"1.1\" viewBox=\"0 0 707 403\" width=\"707px\" zoomAndPan=\"magnify\"><defs/><g><!--MD5=[fbc87193dbaf4d95561dea2c320d4a47]\n",
       "cluster E1--><g id=\"cluster_E1\"><a href=\"psysml:6bf27c65-dae0-4f69-b1ef-6329bb319dfc\" target=\"_top\" title=\"psysml:6bf27c65-dae0-4f69-b1ef-6329bb319dfc\" xlink:actuate=\"onRequest\" xlink:href=\"psysml:6bf27c65-dae0-4f69-b1ef-6329bb319dfc\" xlink:show=\"new\" xlink:title=\"psysml:6bf27c65-dae0-4f69-b1ef-6329bb319dfc\" xlink:type=\"simple\"><polygon fill=\"none\" points=\"16,6,122.25,6,129.25,28.2969,690,28.2969,690,396.72,16,396.72,16,6\" style=\"stroke:#000000;stroke-width:1.5;\"/><line style=\"stroke:#000000;stroke-width:1.5;\" x1=\"16\" x2=\"129.25\" y1=\"28.2969\" y2=\"28.2969\"/><text fill=\"#000000\" font-family=\"sans-serif\" font-size=\"14\" font-weight=\"bold\" lengthAdjust=\"spacing\" textLength=\"100.25\" x=\"20\" y=\"20.9951\">MetadataTest</text></a></g><!--MD5=[e4f7fae6ed58524ba242bb0b0d3be6b7]\n",
       "cluster E2--><g id=\"cluster_E2\"><a href=\"psysml:fde4dbf0-a827-4985-ab3d-be4806656b08\" target=\"_top\" title=\"psysml:fde4dbf0-a827-4985-ab3d-be4806656b08\" xlink:actuate=\"onRequest\" xlink:href=\"psysml:fde4dbf0-a827-4985-ab3d-be4806656b08\" xlink:show=\"new\" xlink:title=\"psysml:fde4dbf0-a827-4985-ab3d-be4806656b08\" xlink:type=\"simple\"><polygon fill=\"none\" points=\"337,73.72,522.1875,73.72,529.1875,96.0169,650,96.0169,650,356.72,337,356.72,337,73.72\" style=\"stroke:#000000;stroke-width:1.5;\"/><line style=\"stroke:#000000;stroke-width:1.5;\" x1=\"337\" x2=\"529.1875\" y1=\"96.0169\" y2=\"96.0169\"/><text fill=\"#000000\" font-family=\"sans-serif\" font-size=\"14\" font-weight=\"bold\" lengthAdjust=\"spacing\" textLength=\"179.1875\" x=\"341\" y=\"88.7151\">User Defined Extensions</text></a></g><!--MD5=[60a26617385b1d2d0262a64233df1f8d]\n",
       "class E6--><a href=\"psysml:09bb7bef-5578-400a-ab09-b89f3b478a84\" target=\"_top\" title=\"psysml:09bb7bef-5578-400a-ab09-b89f3b478a84\" xlink:actuate=\"onRequest\" xlink:href=\"psysml:09bb7bef-5578-400a-ab09-b89f3b478a84\" xlink:show=\"new\" xlink:title=\"psysml:09bb7bef-5578-400a-ab09-b89f3b478a84\" xlink:type=\"simple\"><g id=\"elem_E6\"><rect fill=\"#FFFFFF\" height=\"48.2656\" id=\"E6\" rx=\"10\" ry=\"10\" style=\"stroke:#181818;stroke-width:0.5;\" width=\"149\" x=\"160.5\" y=\"116.72\"/><text fill=\"#000000\" font-family=\"sans-serif\" font-size=\"12\" font-style=\"italic\" lengthAdjust=\"spacing\" textLength=\"147\" x=\"161.5\" y=\"132.8587\">«#Classified #Security»</text><text fill=\"#000000\" font-family=\"sans-serif\" font-size=\"14\" lengthAdjust=\"spacing\" textLength=\"17\" x=\"222.5\" y=\"148.6839\">z1</text><line style=\"stroke:#181818;stroke-width:0.5;\" x1=\"161.5\" x2=\"308.5\" y1=\"156.9856\" y2=\"156.9856\"/></g></a><!--MD5=[2156ba9850f5573cc1fc38a6a4b2f02b]\n",
       "class E7--><a href=\"psysml:fcfec3d1-5349-46cf-95eb-369f9c247e1c\" target=\"_top\" title=\"psysml:fcfec3d1-5349-46cf-95eb-369f9c247e1c\" xlink:actuate=\"onRequest\" xlink:href=\"psysml:fcfec3d1-5349-46cf-95eb-369f9c247e1c\" xlink:show=\"new\" xlink:title=\"psysml:fcfec3d1-5349-46cf-95eb-369f9c247e1c\" xlink:type=\"simple\"><g id=\"elem_E7\"><rect fill=\"#FFFFFF\" height=\"48.2656\" id=\"E7\" rx=\"10\" ry=\"10\" style=\"stroke:#181818;stroke-width:0.5;\" width=\"85\" x=\"40.5\" y=\"116.72\"/><text fill=\"#000000\" font-family=\"sans-serif\" font-size=\"12\" font-style=\"italic\" lengthAdjust=\"spacing\" textLength=\"83\" x=\"41.5\" y=\"132.8587\">«#Classified»</text><text fill=\"#000000\" font-family=\"sans-serif\" font-size=\"14\" font-style=\"italic\" lengthAdjust=\"spacing\" textLength=\"17\" x=\"70.5\" y=\"148.6839\">z2</text><text fill=\"#000000\" font-family=\"sans-serif\" font-size=\"14\" lengthAdjust=\"spacing\" textLength=\"8\" x=\"87.5\" y=\"148.6839\">  </text><line style=\"stroke:#181818;stroke-width:0.5;\" x1=\"41.5\" x2=\"124.5\" y1=\"156.9856\" y2=\"156.9856\"/></g></a><!--MD5=[09b614a08d8cba4a07c9adeb5e0fee81]\n",
       "class E3--><a href=\"psysml:875613db-282a-4c31-9ce2-2c5502fc9987\" target=\"_top\" title=\"psysml:875613db-282a-4c31-9ce2-2c5502fc9987\" xlink:actuate=\"onRequest\" xlink:href=\"psysml:875613db-282a-4c31-9ce2-2c5502fc9987\" xlink:show=\"new\" xlink:title=\"psysml:875613db-282a-4c31-9ce2-2c5502fc9987\" xlink:type=\"simple\"><g id=\"elem_E3\"><rect fill=\"#FFFFFF\" height=\"107.675\" id=\"E3\" style=\"stroke:#181818;stroke-width:0.5;\" width=\"218\" x=\"408\" y=\"224.72\"/><text fill=\"#000000\" font-family=\"sans-serif\" font-size=\"12\" font-style=\"italic\" lengthAdjust=\"spacing\" textLength=\"74\" x=\"480\" y=\"240.8587\">«#Security»</text><text fill=\"#000000\" font-family=\"sans-serif\" font-size=\"14\" font-style=\"italic\" lengthAdjust=\"spacing\" textLength=\"124\" x=\"455\" y=\"256.6839\">ClassificationLevel</text><line style=\"stroke:#181818;stroke-width:0.5;\" x1=\"409\" x2=\"625\" y1=\"264.9856\" y2=\"264.9856\"/><text fill=\"#000000\" font-family=\"sans-serif\" font-size=\"14\" lengthAdjust=\"spacing\" textLength=\"191\" x=\"414\" y=\"292.4995\">uncl: ClassificationLevel = 0</text><text fill=\"#000000\" font-family=\"sans-serif\" font-size=\"14\" lengthAdjust=\"spacing\" textLength=\"192\" x=\"414\" y=\"308.7964\">conf: ClassificationLevel = 1</text><text fill=\"#000000\" font-family=\"sans-serif\" font-size=\"14\" lengthAdjust=\"spacing\" textLength=\"206\" x=\"414\" y=\"325.0932\">secret: ClassificationLevel = 2</text><text fill=\"#000000\" font-family=\"sans-serif\" font-size=\"14\" font-style=\"italic\" lengthAdjust=\"spacing\" textLength=\"48\" x=\"493\" y=\"277.3323\">enums</text></g></a><!--MD5=[ebbe1d658d1005bcc118a6aa81145e00]\n",
       "class E4--><a href=\"psysml:7d365ab2-02f5-4019-ac52-725960bbc954\" target=\"_top\" title=\"psysml:7d365ab2-02f5-4019-ac52-725960bbc954\" xlink:actuate=\"onRequest\" xlink:href=\"psysml:7d365ab2-02f5-4019-ac52-725960bbc954\" xlink:show=\"new\" xlink:title=\"psysml:7d365ab2-02f5-4019-ac52-725960bbc954\" xlink:type=\"simple\"><g id=\"elem_E4\"><rect fill=\"#FFFFFF\" height=\"48.2656\" id=\"E4\" style=\"stroke:#181818;stroke-width:0.5;\" width=\"105\" x=\"520.5\" y=\"116.72\"/><text fill=\"#000000\" font-family=\"sans-serif\" font-size=\"12\" font-style=\"italic\" lengthAdjust=\"spacing\" textLength=\"103\" x=\"521.5\" y=\"132.8587\">«metadata  def»</text><text fill=\"#000000\" font-family=\"sans-serif\" font-size=\"14\" lengthAdjust=\"spacing\" textLength=\"65\" x=\"540.5\" y=\"148.6839\">Classified</text><line style=\"stroke:#181818;stroke-width:0.5;\" x1=\"521.5\" x2=\"624.5\" y1=\"156.9856\" y2=\"156.9856\"/></g></a><!--MD5=[270fce915f116d4de14055a7c1d9a0f3]\n",
       "class E5--><a href=\"psysml:b54cb894-c9b4-4b22-a0a5-6c760d030873\" target=\"_top\" title=\"psysml:b54cb894-c9b4-4b22-a0a5-6c760d030873\" xlink:actuate=\"onRequest\" xlink:href=\"psysml:b54cb894-c9b4-4b22-a0a5-6c760d030873\" xlink:show=\"new\" xlink:title=\"psysml:b54cb894-c9b4-4b22-a0a5-6c760d030873\" xlink:type=\"simple\"><g id=\"elem_E5\"><rect fill=\"#FFFFFF\" height=\"48.2656\" id=\"E5\" style=\"stroke:#181818;stroke-width:0.5;\" width=\"105\" x=\"380.5\" y=\"116.72\"/><text fill=\"#000000\" font-family=\"sans-serif\" font-size=\"12\" font-style=\"italic\" lengthAdjust=\"spacing\" textLength=\"103\" x=\"381.5\" y=\"132.8587\">«metadata  def»</text><text fill=\"#000000\" font-family=\"sans-serif\" font-size=\"14\" lengthAdjust=\"spacing\" textLength=\"55\" x=\"405.5\" y=\"148.6839\">Security</text><line style=\"stroke:#181818;stroke-width:0.5;\" x1=\"381.5\" x2=\"484.5\" y1=\"156.9856\" y2=\"156.9856\"/></g></a><!--MD5=[1f1cd8e6dd4c1b2ca2aaccc9b9bcea6e]\n",
       "link E1 to E2--><g id=\"link_E1_E2\"><a href=\"psysml:7790dee3-4a68-47c5-b25f-526a96f63664\" target=\"_top\" title=\"psysml:7790dee3-4a68-47c5-b25f-526a96f63664\" xlink:actuate=\"onRequest\" xlink:href=\"psysml:7790dee3-4a68-47c5-b25f-526a96f63664\" xlink:show=\"new\" xlink:title=\"psysml:7790dee3-4a68-47c5-b25f-526a96f63664\" xlink:type=\"simple\"><path d=\"M345,34.05 C345,36.2275 345,43.4238 345,53.1234 C345,57.9733 345,63.449 345,69.2361 C345,70.6829 345,72.1492 345,73.63 \" fill=\"none\" id=\"E1-to-E2\" style=\"stroke:#181818;stroke-width:1.0;stroke-dasharray:7.0,7.0;\"/><polygon fill=\"#181818\" points=\"345,73.63,349,64.63,345,68.63,341,64.63,345,73.63\" style=\"stroke:#181818;stroke-width:1.0;\"/><text fill=\"#000000\" font-family=\"sans-serif\" font-size=\"13\" lengthAdjust=\"spacing\" textLength=\"65\" x=\"279\" y=\"83.1369\">«import»*</text></a></g><!--MD5=[4735aefadfa2e5978451eb08fa1f3993]\n",
       "reverse link E4 to E3--><g id=\"link_E4_E3\"><a href=\"psysml:70fb76d3-4397-496c-b537-fd7ec6ee6db2\" target=\"_top\" title=\"psysml:70fb76d3-4397-496c-b537-fd7ec6ee6db2\" xlink:actuate=\"onRequest\" xlink:href=\"psysml:70fb76d3-4397-496c-b537-fd7ec6ee6db2\" xlink:show=\"new\" xlink:title=\"psysml:70fb76d3-4397-496c-b537-fd7ec6ee6db2\" xlink:type=\"simple\"><path d=\"M573,177.76 C573,177.76 573,224.64 573,224.64 \" fill=\"none\" id=\"E4-backto-E3\" style=\"stroke:#181818;stroke-width:1.0;\"/><polygon fill=\"none\" points=\"573,164.76,569,170.76,573,176.76,577,170.76,573,164.76\" style=\"stroke:#181818;stroke-width:1.0;\"/><text fill=\"#000000\" font-family=\"sans-serif\" font-size=\"13\" lengthAdjust=\"spacing\" textLength=\"114\" x=\"458\" y=\"197.2669\">classificationLevel</text></a></g><!--MD5=[59ffa1c2fe045022a91a78c3a0211845]\n",
       "@startuml\r\n",
       "skin sysmlbw\r\n",
       "skinparam monochrome true\r\n",
       "skinparam wrapWidth 300\r\n",
       "hide circle\r\n",
       "skinparam linetype ortho\r\n",
       "\r\n",
       "package \"MetadataTest\" as E1  [[psysml:6bf27c65-dae0-4f69-b1ef-6329bb319dfc ]]  {\r\n",
       "package \"User Defined Extensions\" as E2  [[psysml:fde4dbf0-a827-4985-ab3d-be4806656b08 ]]  {\r\n",
       "comp def \"<i>ClassificationLevel</i>\" as E3 <<#Security>>[[psysml:875613db-282a-4c31-9ce2-2c5502fc9987 ]] {\r\n",
       "##//enums//##\r\n",
       "uncl: ClassificationLevel <U+003D> 0\r\n",
       "conf: ClassificationLevel <U+003D> 1\r\n",
       "secret: ClassificationLevel <U+003D> 2\r\n",
       "}\r\n",
       "comp def \"Classified\" as E4  <<(T,blue) metadata  def>> [[psysml:7d365ab2-02f5-4019-ac52-725960bbc954 ]] {\r\n",
       "}\r\n",
       "comp def \"Security\" as E5  <<(T,blue) metadata  def>> [[psysml:b54cb894-c9b4-4b22-a0a5-6c760d030873 ]] {\r\n",
       "}\r\n",
       "}\r\n",
       "comp usage \"z1  \" as E6 <<#Classified #Security>>[[psysml:09bb7bef-5578-400a-ab09-b89f3b478a84 ]] {\r\n",
       "}\r\n",
       "comp usage \"<i>z2</i>  \" as E7 <<#Classified>>[[psysml:fcfec3d1-5349-46cf-95eb-369f9c247e1c ]] {\r\n",
       "}\r\n",
       "}\r\n",
       "E1 ..> E2 [[psysml:7790dee3-4a68-47c5-b25f-526a96f63664 ]] : <<import>>*\r\n",
       "E4 o- - E3 [[psysml:70fb76d3-4397-496c-b537-fd7ec6ee6db2 ]] : classificationLevel\r\n",
       "@enduml\r\n",
       "\n",
       "PlantUML version 1.2022.7(Mon Aug 22 17:01:30 UTC 2022)\n",
       "(EPL source distribution)\n",
       "Java Runtime: OpenJDK Runtime Environment\n",
       "JVM: OpenJDK 64-Bit Server VM\n",
       "Default Encoding: UTF-8\n",
       "Language: en\n",
       "Country: null\n",
       "--></g></svg>"
      ]
     },
     "execution_count": 51,
     "metadata": {},
     "output_type": "execute_result"
    }
   ],
   "source": [
    "%viz --style=\"ORTHOLINE\" --view=\"Default\" \"MetadataTest\""
   ]
  },
  {
   "cell_type": "code",
   "execution_count": 52,
   "id": "ccfc9063",
   "metadata": {
    "execution": {
     "iopub.execute_input": "2024-12-16T03:28:25.757316Z",
     "iopub.status.busy": "2024-12-16T03:28:25.757085Z",
     "iopub.status.idle": "2024-12-16T03:28:25.776151Z",
     "shell.execute_reply": "2024-12-16T03:28:25.775384Z"
    }
   },
   "outputs": [
    {
     "data": {
      "image/svg+xml": [
       "<?xml version=\"1.0\" encoding=\"UTF-8\" standalone=\"no\"?><svg xmlns=\"http://www.w3.org/2000/svg\" xmlns:xlink=\"http://www.w3.org/1999/xlink\" contentStyleType=\"text/css\" height=\"403px\" preserveAspectRatio=\"none\" style=\"width:707px;height:403px;background:#FFFFFF;\" version=\"1.1\" viewBox=\"0 0 707 403\" width=\"707px\" zoomAndPan=\"magnify\"><defs/><g><!--MD5=[fbc87193dbaf4d95561dea2c320d4a47]\n",
       "cluster E1--><g id=\"cluster_E1\"><a href=\"psysml:6bf27c65-dae0-4f69-b1ef-6329bb319dfc\" target=\"_top\" title=\"psysml:6bf27c65-dae0-4f69-b1ef-6329bb319dfc\" xlink:actuate=\"onRequest\" xlink:href=\"psysml:6bf27c65-dae0-4f69-b1ef-6329bb319dfc\" xlink:show=\"new\" xlink:title=\"psysml:6bf27c65-dae0-4f69-b1ef-6329bb319dfc\" xlink:type=\"simple\"><polygon fill=\"none\" points=\"16,6,122.25,6,129.25,28.2969,690,28.2969,690,396.72,16,396.72,16,6\" style=\"stroke:#000000;stroke-width:1.5;\"/><line style=\"stroke:#000000;stroke-width:1.5;\" x1=\"16\" x2=\"129.25\" y1=\"28.2969\" y2=\"28.2969\"/><text fill=\"#000000\" font-family=\"sans-serif\" font-size=\"14\" font-weight=\"bold\" lengthAdjust=\"spacing\" textLength=\"100.25\" x=\"20\" y=\"20.9951\">MetadataTest</text></a></g><!--MD5=[e4f7fae6ed58524ba242bb0b0d3be6b7]\n",
       "cluster E2--><g id=\"cluster_E2\"><a href=\"psysml:fde4dbf0-a827-4985-ab3d-be4806656b08\" target=\"_top\" title=\"psysml:fde4dbf0-a827-4985-ab3d-be4806656b08\" xlink:actuate=\"onRequest\" xlink:href=\"psysml:fde4dbf0-a827-4985-ab3d-be4806656b08\" xlink:show=\"new\" xlink:title=\"psysml:fde4dbf0-a827-4985-ab3d-be4806656b08\" xlink:type=\"simple\"><polygon fill=\"none\" points=\"337,73.72,522.1875,73.72,529.1875,96.0169,650,96.0169,650,356.72,337,356.72,337,73.72\" style=\"stroke:#000000;stroke-width:1.5;\"/><line style=\"stroke:#000000;stroke-width:1.5;\" x1=\"337\" x2=\"529.1875\" y1=\"96.0169\" y2=\"96.0169\"/><text fill=\"#000000\" font-family=\"sans-serif\" font-size=\"14\" font-weight=\"bold\" lengthAdjust=\"spacing\" textLength=\"179.1875\" x=\"341\" y=\"88.7151\">User Defined Extensions</text></a></g><!--MD5=[60a26617385b1d2d0262a64233df1f8d]\n",
       "class E6--><a href=\"psysml:09bb7bef-5578-400a-ab09-b89f3b478a84\" target=\"_top\" title=\"psysml:09bb7bef-5578-400a-ab09-b89f3b478a84\" xlink:actuate=\"onRequest\" xlink:href=\"psysml:09bb7bef-5578-400a-ab09-b89f3b478a84\" xlink:show=\"new\" xlink:title=\"psysml:09bb7bef-5578-400a-ab09-b89f3b478a84\" xlink:type=\"simple\"><g id=\"elem_E6\"><rect fill=\"#FFFFFF\" height=\"48.2656\" id=\"E6\" rx=\"10\" ry=\"10\" style=\"stroke:#181818;stroke-width:0.5;\" width=\"149\" x=\"160.5\" y=\"116.72\"/><text fill=\"#000000\" font-family=\"sans-serif\" font-size=\"12\" font-style=\"italic\" lengthAdjust=\"spacing\" textLength=\"147\" x=\"161.5\" y=\"132.8587\">«#Classified #Security»</text><text fill=\"#000000\" font-family=\"sans-serif\" font-size=\"14\" lengthAdjust=\"spacing\" textLength=\"17\" x=\"222.5\" y=\"148.6839\">z1</text><line style=\"stroke:#181818;stroke-width:0.5;\" x1=\"161.5\" x2=\"308.5\" y1=\"156.9856\" y2=\"156.9856\"/></g></a><!--MD5=[2156ba9850f5573cc1fc38a6a4b2f02b]\n",
       "class E7--><a href=\"psysml:fcfec3d1-5349-46cf-95eb-369f9c247e1c\" target=\"_top\" title=\"psysml:fcfec3d1-5349-46cf-95eb-369f9c247e1c\" xlink:actuate=\"onRequest\" xlink:href=\"psysml:fcfec3d1-5349-46cf-95eb-369f9c247e1c\" xlink:show=\"new\" xlink:title=\"psysml:fcfec3d1-5349-46cf-95eb-369f9c247e1c\" xlink:type=\"simple\"><g id=\"elem_E7\"><rect fill=\"#FFFFFF\" height=\"48.2656\" id=\"E7\" rx=\"10\" ry=\"10\" style=\"stroke:#181818;stroke-width:0.5;\" width=\"85\" x=\"40.5\" y=\"116.72\"/><text fill=\"#000000\" font-family=\"sans-serif\" font-size=\"12\" font-style=\"italic\" lengthAdjust=\"spacing\" textLength=\"83\" x=\"41.5\" y=\"132.8587\">«#Classified»</text><text fill=\"#000000\" font-family=\"sans-serif\" font-size=\"14\" font-style=\"italic\" lengthAdjust=\"spacing\" textLength=\"17\" x=\"70.5\" y=\"148.6839\">z2</text><text fill=\"#000000\" font-family=\"sans-serif\" font-size=\"14\" lengthAdjust=\"spacing\" textLength=\"8\" x=\"87.5\" y=\"148.6839\">  </text><line style=\"stroke:#181818;stroke-width:0.5;\" x1=\"41.5\" x2=\"124.5\" y1=\"156.9856\" y2=\"156.9856\"/></g></a><!--MD5=[09b614a08d8cba4a07c9adeb5e0fee81]\n",
       "class E3--><a href=\"psysml:875613db-282a-4c31-9ce2-2c5502fc9987\" target=\"_top\" title=\"psysml:875613db-282a-4c31-9ce2-2c5502fc9987\" xlink:actuate=\"onRequest\" xlink:href=\"psysml:875613db-282a-4c31-9ce2-2c5502fc9987\" xlink:show=\"new\" xlink:title=\"psysml:875613db-282a-4c31-9ce2-2c5502fc9987\" xlink:type=\"simple\"><g id=\"elem_E3\"><rect fill=\"#FFFFFF\" height=\"107.675\" id=\"E3\" style=\"stroke:#181818;stroke-width:0.5;\" width=\"218\" x=\"408\" y=\"224.72\"/><text fill=\"#000000\" font-family=\"sans-serif\" font-size=\"12\" font-style=\"italic\" lengthAdjust=\"spacing\" textLength=\"74\" x=\"480\" y=\"240.8587\">«#Security»</text><text fill=\"#000000\" font-family=\"sans-serif\" font-size=\"14\" font-style=\"italic\" lengthAdjust=\"spacing\" textLength=\"124\" x=\"455\" y=\"256.6839\">ClassificationLevel</text><line style=\"stroke:#181818;stroke-width:0.5;\" x1=\"409\" x2=\"625\" y1=\"264.9856\" y2=\"264.9856\"/><text fill=\"#000000\" font-family=\"sans-serif\" font-size=\"14\" lengthAdjust=\"spacing\" textLength=\"191\" x=\"414\" y=\"292.4995\">uncl: ClassificationLevel = 0</text><text fill=\"#000000\" font-family=\"sans-serif\" font-size=\"14\" lengthAdjust=\"spacing\" textLength=\"192\" x=\"414\" y=\"308.7964\">conf: ClassificationLevel = 1</text><text fill=\"#000000\" font-family=\"sans-serif\" font-size=\"14\" lengthAdjust=\"spacing\" textLength=\"206\" x=\"414\" y=\"325.0932\">secret: ClassificationLevel = 2</text><text fill=\"#000000\" font-family=\"sans-serif\" font-size=\"14\" font-style=\"italic\" lengthAdjust=\"spacing\" textLength=\"48\" x=\"493\" y=\"277.3323\">enums</text></g></a><!--MD5=[ebbe1d658d1005bcc118a6aa81145e00]\n",
       "class E4--><a href=\"psysml:7d365ab2-02f5-4019-ac52-725960bbc954\" target=\"_top\" title=\"psysml:7d365ab2-02f5-4019-ac52-725960bbc954\" xlink:actuate=\"onRequest\" xlink:href=\"psysml:7d365ab2-02f5-4019-ac52-725960bbc954\" xlink:show=\"new\" xlink:title=\"psysml:7d365ab2-02f5-4019-ac52-725960bbc954\" xlink:type=\"simple\"><g id=\"elem_E4\"><rect fill=\"#FFFFFF\" height=\"48.2656\" id=\"E4\" style=\"stroke:#181818;stroke-width:0.5;\" width=\"105\" x=\"520.5\" y=\"116.72\"/><text fill=\"#000000\" font-family=\"sans-serif\" font-size=\"12\" font-style=\"italic\" lengthAdjust=\"spacing\" textLength=\"103\" x=\"521.5\" y=\"132.8587\">«metadata  def»</text><text fill=\"#000000\" font-family=\"sans-serif\" font-size=\"14\" lengthAdjust=\"spacing\" textLength=\"65\" x=\"540.5\" y=\"148.6839\">Classified</text><line style=\"stroke:#181818;stroke-width:0.5;\" x1=\"521.5\" x2=\"624.5\" y1=\"156.9856\" y2=\"156.9856\"/></g></a><!--MD5=[270fce915f116d4de14055a7c1d9a0f3]\n",
       "class E5--><a href=\"psysml:b54cb894-c9b4-4b22-a0a5-6c760d030873\" target=\"_top\" title=\"psysml:b54cb894-c9b4-4b22-a0a5-6c760d030873\" xlink:actuate=\"onRequest\" xlink:href=\"psysml:b54cb894-c9b4-4b22-a0a5-6c760d030873\" xlink:show=\"new\" xlink:title=\"psysml:b54cb894-c9b4-4b22-a0a5-6c760d030873\" xlink:type=\"simple\"><g id=\"elem_E5\"><rect fill=\"#FFFFFF\" height=\"48.2656\" id=\"E5\" style=\"stroke:#181818;stroke-width:0.5;\" width=\"105\" x=\"380.5\" y=\"116.72\"/><text fill=\"#000000\" font-family=\"sans-serif\" font-size=\"12\" font-style=\"italic\" lengthAdjust=\"spacing\" textLength=\"103\" x=\"381.5\" y=\"132.8587\">«metadata  def»</text><text fill=\"#000000\" font-family=\"sans-serif\" font-size=\"14\" lengthAdjust=\"spacing\" textLength=\"55\" x=\"405.5\" y=\"148.6839\">Security</text><line style=\"stroke:#181818;stroke-width:0.5;\" x1=\"381.5\" x2=\"484.5\" y1=\"156.9856\" y2=\"156.9856\"/></g></a><!--MD5=[1f1cd8e6dd4c1b2ca2aaccc9b9bcea6e]\n",
       "link E1 to E2--><g id=\"link_E1_E2\"><a href=\"psysml:7790dee3-4a68-47c5-b25f-526a96f63664\" target=\"_top\" title=\"psysml:7790dee3-4a68-47c5-b25f-526a96f63664\" xlink:actuate=\"onRequest\" xlink:href=\"psysml:7790dee3-4a68-47c5-b25f-526a96f63664\" xlink:show=\"new\" xlink:title=\"psysml:7790dee3-4a68-47c5-b25f-526a96f63664\" xlink:type=\"simple\"><path d=\"M345,34.05 C345,36.2275 345,43.4238 345,53.1234 C345,57.9733 345,63.449 345,69.2361 C345,70.6829 345,72.1492 345,73.63 \" fill=\"none\" id=\"E1-to-E2\" style=\"stroke:#181818;stroke-width:1.0;stroke-dasharray:7.0,7.0;\"/><polygon fill=\"#181818\" points=\"345,73.63,349,64.63,345,68.63,341,64.63,345,73.63\" style=\"stroke:#181818;stroke-width:1.0;\"/><text fill=\"#000000\" font-family=\"sans-serif\" font-size=\"13\" lengthAdjust=\"spacing\" textLength=\"65\" x=\"279\" y=\"83.1369\">«import»*</text></a></g><!--MD5=[4735aefadfa2e5978451eb08fa1f3993]\n",
       "reverse link E4 to E3--><g id=\"link_E4_E3\"><a href=\"psysml:70fb76d3-4397-496c-b537-fd7ec6ee6db2\" target=\"_top\" title=\"psysml:70fb76d3-4397-496c-b537-fd7ec6ee6db2\" xlink:actuate=\"onRequest\" xlink:href=\"psysml:70fb76d3-4397-496c-b537-fd7ec6ee6db2\" xlink:show=\"new\" xlink:title=\"psysml:70fb76d3-4397-496c-b537-fd7ec6ee6db2\" xlink:type=\"simple\"><path d=\"M573,177.76 C573,177.76 573,224.64 573,224.64 \" fill=\"none\" id=\"E4-backto-E3\" style=\"stroke:#181818;stroke-width:1.0;\"/><polygon fill=\"none\" points=\"573,164.76,569,170.76,573,176.76,577,170.76,573,164.76\" style=\"stroke:#181818;stroke-width:1.0;\"/><text fill=\"#000000\" font-family=\"sans-serif\" font-size=\"13\" lengthAdjust=\"spacing\" textLength=\"114\" x=\"458\" y=\"197.2669\">classificationLevel</text></a></g><!--MD5=[59ffa1c2fe045022a91a78c3a0211845]\n",
       "@startuml\r\n",
       "skin sysmlbw\r\n",
       "skinparam monochrome true\r\n",
       "skinparam wrapWidth 300\r\n",
       "hide circle\r\n",
       "skinparam linetype ortho\r\n",
       "\r\n",
       "package \"MetadataTest\" as E1  [[psysml:6bf27c65-dae0-4f69-b1ef-6329bb319dfc ]]  {\r\n",
       "package \"User Defined Extensions\" as E2  [[psysml:fde4dbf0-a827-4985-ab3d-be4806656b08 ]]  {\r\n",
       "comp def \"<i>ClassificationLevel</i>\" as E3 <<#Security>>[[psysml:875613db-282a-4c31-9ce2-2c5502fc9987 ]] {\r\n",
       "##//enums//##\r\n",
       "uncl: ClassificationLevel <U+003D> 0\r\n",
       "conf: ClassificationLevel <U+003D> 1\r\n",
       "secret: ClassificationLevel <U+003D> 2\r\n",
       "}\r\n",
       "comp def \"Classified\" as E4  <<(T,blue) metadata  def>> [[psysml:7d365ab2-02f5-4019-ac52-725960bbc954 ]] {\r\n",
       "}\r\n",
       "comp def \"Security\" as E5  <<(T,blue) metadata  def>> [[psysml:b54cb894-c9b4-4b22-a0a5-6c760d030873 ]] {\r\n",
       "}\r\n",
       "}\r\n",
       "comp usage \"z1  \" as E6 <<#Classified #Security>>[[psysml:09bb7bef-5578-400a-ab09-b89f3b478a84 ]] {\r\n",
       "}\r\n",
       "comp usage \"<i>z2</i>  \" as E7 <<#Classified>>[[psysml:fcfec3d1-5349-46cf-95eb-369f9c247e1c ]] {\r\n",
       "}\r\n",
       "}\r\n",
       "E1 ..> E2 [[psysml:7790dee3-4a68-47c5-b25f-526a96f63664 ]] : <<import>>*\r\n",
       "E4 o- - E3 [[psysml:70fb76d3-4397-496c-b537-fd7ec6ee6db2 ]] : classificationLevel\r\n",
       "@enduml\r\n",
       "\n",
       "PlantUML version 1.2022.7(Mon Aug 22 17:01:30 UTC 2022)\n",
       "(EPL source distribution)\n",
       "Java Runtime: OpenJDK Runtime Environment\n",
       "JVM: OpenJDK 64-Bit Server VM\n",
       "Default Encoding: UTF-8\n",
       "Language: en\n",
       "Country: null\n",
       "--></g></svg>"
      ]
     },
     "execution_count": 52,
     "metadata": {},
     "output_type": "execute_result"
    }
   ],
   "source": [
    "%viz --style=\"ORTHOLINE\" --view=\"Tree\" \"MetadataTest\""
   ]
  },
  {
   "cell_type": "code",
   "execution_count": 53,
   "id": "81ef32eb",
   "metadata": {
    "execution": {
     "iopub.execute_input": "2024-12-16T03:28:25.828478Z",
     "iopub.status.busy": "2024-12-16T03:28:25.828232Z",
     "iopub.status.idle": "2024-12-16T03:28:25.842320Z",
     "shell.execute_reply": "2024-12-16T03:28:25.841578Z"
    }
   },
   "outputs": [
    {
     "data": {
      "image/svg+xml": [
       "<?xml version=\"1.0\" encoding=\"UTF-8\" standalone=\"no\"?><svg xmlns=\"http://www.w3.org/2000/svg\" xmlns:xlink=\"http://www.w3.org/1999/xlink\" contentStyleType=\"text/css\" height=\"96px\" preserveAspectRatio=\"none\" style=\"width:912px;height:96px;background:#FFFFFF;\" version=\"1.1\" viewBox=\"0 0 912 96\" width=\"912px\" zoomAndPan=\"magnify\"><defs/><g><g id=\"elem_E1\"><path d=\"M6,13.5 L6,82.0448 L315,82.0448 L315,23.5 L305,13.5 L6,13.5 \" fill=\"#FAFAFA\" style=\"stroke:#181818;stroke-width:0.5;\"/><path d=\"M305,13.5 L305,23.5 L315,23.5 L305,13.5 \" fill=\"#FAFAFA\" style=\"stroke:#181818;stroke-width:1.0;\"/><text fill=\"#000000\" font-family=\"monospace\" font-size=\"13\" lengthAdjust=\"spacing\" textLength=\"112\" x=\"12\" y=\"32.397\">              </text><a href=\"psysml:ccd30bed-0f75-43dd-8560-a117ef71fdae\" target=\"_top\" title=\"psysml:ccd30bed-0f75-43dd-8560-a117ef71fdae\" xlink:actuate=\"onRequest\" xlink:href=\"psysml:ccd30bed-0f75-43dd-8560-a117ef71fdae\" xlink:show=\"new\" xlink:title=\"psysml:ccd30bed-0f75-43dd-8560-a117ef71fdae\" xlink:type=\"simple\"><text fill=\"#000000\" font-family=\"sans-serif\" font-size=\"13\" lengthAdjust=\"spacing\" text-decoration=\"underline\" textLength=\"79\" x=\"124\" y=\"33.1401\">«metadata»</text></a><text fill=\"#000000\" font-family=\"monospace\" font-size=\"13\" font-style=\"italic\" lengthAdjust=\"spacing\" textLength=\"112\" x=\"12\" y=\"50.103\">              </text><text fill=\"#000000\" font-family=\"sans-serif\" font-size=\"13\" font-style=\"italic\" lengthAdjust=\"spacing\" textLength=\"60\" x=\"124\" y=\"50.8461\">Classified</text><line style=\"stroke:#181818;stroke-width:1.0;\" x1=\"7\" x2=\"314\" y1=\"53.912\" y2=\"53.912\"/><text fill=\"#000000\" font-family=\"sans-serif\" font-size=\"13\" lengthAdjust=\"spacing\" textLength=\"288\" x=\"12\" y=\"69.9789\">classificationLevel =  ClassificationLevel::conf</text></g><g id=\"elem_E2\"><path d=\"M350,13.5 L350,82.0448 L659,82.0448 L659,23.5 L649,13.5 L350,13.5 \" fill=\"#FAFAFA\" style=\"stroke:#181818;stroke-width:0.5;\"/><path d=\"M649,13.5 L649,23.5 L659,23.5 L649,13.5 \" fill=\"#FAFAFA\" style=\"stroke:#181818;stroke-width:1.0;\"/><text fill=\"#000000\" font-family=\"monospace\" font-size=\"13\" lengthAdjust=\"spacing\" textLength=\"112\" x=\"356\" y=\"32.397\">              </text><a href=\"psysml:a50d3885-9ceb-42ed-af81-8542a216cf29\" target=\"_top\" title=\"psysml:a50d3885-9ceb-42ed-af81-8542a216cf29\" xlink:actuate=\"onRequest\" xlink:href=\"psysml:a50d3885-9ceb-42ed-af81-8542a216cf29\" xlink:show=\"new\" xlink:title=\"psysml:a50d3885-9ceb-42ed-af81-8542a216cf29\" xlink:type=\"simple\"><text fill=\"#000000\" font-family=\"sans-serif\" font-size=\"13\" lengthAdjust=\"spacing\" text-decoration=\"underline\" textLength=\"79\" x=\"468\" y=\"33.1401\">«metadata»</text></a><text fill=\"#000000\" font-family=\"monospace\" font-size=\"13\" font-style=\"italic\" lengthAdjust=\"spacing\" textLength=\"112\" x=\"356\" y=\"50.103\">              </text><text fill=\"#000000\" font-family=\"sans-serif\" font-size=\"13\" font-style=\"italic\" lengthAdjust=\"spacing\" textLength=\"60\" x=\"468\" y=\"50.8461\">Classified</text><line style=\"stroke:#181818;stroke-width:1.0;\" x1=\"351\" x2=\"658\" y1=\"53.912\" y2=\"53.912\"/><text fill=\"#000000\" font-family=\"sans-serif\" font-size=\"13\" lengthAdjust=\"spacing\" textLength=\"288\" x=\"356\" y=\"69.9789\">classificationLevel =  ClassificationLevel::conf</text></g><g id=\"elem_E3\"><path d=\"M693.5,6 L693.5,89.6777 L905.5,89.6777 L905.5,16 L895.5,6 L693.5,6 \" fill=\"#FAFAFA\" style=\"stroke:#181818;stroke-width:0.5;\"/><path d=\"M895.5,6 L895.5,16 L905.5,16 L895.5,6 \" fill=\"#FAFAFA\" style=\"stroke:#181818;stroke-width:1.0;\"/><text fill=\"#000000\" font-family=\"monospace\" font-size=\"13\" lengthAdjust=\"spacing\" textLength=\"112\" x=\"699.5\" y=\"24.897\">              </text><a href=\"psysml:7eb290c6-6d6c-4277-b27a-b35f0e599ca6\" target=\"_top\" title=\"psysml:7eb290c6-6d6c-4277-b27a-b35f0e599ca6\" xlink:actuate=\"onRequest\" xlink:href=\"psysml:7eb290c6-6d6c-4277-b27a-b35f0e599ca6\" xlink:show=\"new\" xlink:title=\"psysml:7eb290c6-6d6c-4277-b27a-b35f0e599ca6\" xlink:type=\"simple\"><text fill=\"#000000\" font-family=\"sans-serif\" font-size=\"13\" lengthAdjust=\"spacing\" text-decoration=\"underline\" textLength=\"79\" x=\"811.5\" y=\"25.6401\">«metadata»</text></a><text fill=\"#000000\" font-family=\"monospace\" font-size=\"13\" font-style=\"italic\" lengthAdjust=\"spacing\" textLength=\"112\" x=\"699.5\" y=\"42.603\">              </text><text fill=\"#000000\" font-family=\"sans-serif\" font-size=\"13\" font-style=\"italic\" lengthAdjust=\"spacing\" textLength=\"60\" x=\"811.5\" y=\"43.3461\">Classified</text><line style=\"stroke:#181818;stroke-width:1.0;\" x1=\"694.5\" x2=\"904.5\" y1=\"46.412\" y2=\"46.412\"/><text fill=\"#000000\" font-family=\"sans-serif\" font-size=\"13\" lengthAdjust=\"spacing\" textLength=\"129\" x=\"699.5\" y=\"62.4789\">classificationLevel =</text><text fill=\"#000000\" font-family=\"sans-serif\" font-size=\"13\" lengthAdjust=\"spacing\" textLength=\"164\" x=\"699.5\" y=\"77.6117\">ClassificationLevel::secret</text></g><!--MD5=[8fdf939abc3cbd768bce7a979cab52b6]\n",
       "@startuml\r\n",
       "skin sysmlbw\r\n",
       "skinparam monochrome true\r\n",
       "skinparam wrapWidth 300\r\n",
       "hide circle\r\n",
       "skinparam linetype ortho\r\n",
       "\r\n",
       "note as E1\r\n",
       "\"\"              \"\"[[psysml:ccd30bed-0f75-43dd-8560-a117ef71fdae «metadata»]]\r\n",
       "==== \"\"              \"\"Classified\r\n",
       "- -\r\n",
       "classificationLevel =  ClassificationLevel::conf\r\n",
       "end note\r\n",
       "note as E2\r\n",
       "\"\"              \"\"[[psysml:a50d3885-9ceb-42ed-af81-8542a216cf29 «metadata»]]\r\n",
       "==== \"\"              \"\"Classified\r\n",
       "- -\r\n",
       "classificationLevel =  ClassificationLevel::conf\r\n",
       "end note\r\n",
       "note as E3\r\n",
       "\"\"              \"\"[[psysml:7eb290c6-6d6c-4277-b27a-b35f0e599ca6 «metadata»]]\r\n",
       "==== \"\"              \"\"Classified\r\n",
       "- -\r\n",
       "classificationLevel =  ClassificationLevel::secret\r\n",
       "end note\r\n",
       "@enduml\r\n",
       "\n",
       "PlantUML version 1.2022.7(Mon Aug 22 17:01:30 UTC 2022)\n",
       "(EPL source distribution)\n",
       "Java Runtime: OpenJDK Runtime Environment\n",
       "JVM: OpenJDK 64-Bit Server VM\n",
       "Default Encoding: UTF-8\n",
       "Language: en\n",
       "Country: null\n",
       "--></g></svg>"
      ]
     },
     "execution_count": 53,
     "metadata": {},
     "output_type": "execute_result"
    }
   ],
   "source": [
    "%viz --style=\"ORTHOLINE\" --view=\"State\" \"MetadataTest\""
   ]
  },
  {
   "cell_type": "code",
   "execution_count": 54,
   "id": "83bd299c",
   "metadata": {
    "execution": {
     "iopub.execute_input": "2024-12-16T03:28:25.894644Z",
     "iopub.status.busy": "2024-12-16T03:28:25.894416Z",
     "iopub.status.idle": "2024-12-16T03:28:25.914197Z",
     "shell.execute_reply": "2024-12-16T03:28:25.913196Z"
    }
   },
   "outputs": [
    {
     "data": {
      "image/svg+xml": [
       "<?xml version=\"1.0\" encoding=\"UTF-8\" standalone=\"no\"?><svg xmlns=\"http://www.w3.org/2000/svg\" xmlns:xlink=\"http://www.w3.org/1999/xlink\" contentStyleType=\"text/css\" height=\"232px\" preserveAspectRatio=\"none\" style=\"width:1233px;height:232px;background:#FFFFFF;\" version=\"1.1\" viewBox=\"0 0 1233 232\" width=\"1233px\" zoomAndPan=\"magnify\"><defs/><g><!--MD5=[fbc87193dbaf4d95561dea2c320d4a47]\n",
       "cluster E1--><g id=\"cluster_E1\"><a href=\"psysml:6bf27c65-dae0-4f69-b1ef-6329bb319dfc\" target=\"_top\" title=\"psysml:6bf27c65-dae0-4f69-b1ef-6329bb319dfc\" xlink:actuate=\"onRequest\" xlink:href=\"psysml:6bf27c65-dae0-4f69-b1ef-6329bb319dfc\" xlink:show=\"new\" xlink:title=\"psysml:6bf27c65-dae0-4f69-b1ef-6329bb319dfc\" xlink:type=\"simple\"><polygon fill=\"none\" points=\"16,6,122.25,6,129.25,28.2969,1216,28.2969,1216,225.72,16,225.72,16,6\" style=\"stroke:#000000;stroke-width:1.5;\"/><line style=\"stroke:#000000;stroke-width:1.5;\" x1=\"16\" x2=\"129.25\" y1=\"28.2969\" y2=\"28.2969\"/><text fill=\"#000000\" font-family=\"sans-serif\" font-size=\"14\" font-weight=\"bold\" lengthAdjust=\"spacing\" textLength=\"100.25\" x=\"20\" y=\"20.9951\">MetadataTest</text></a></g><!--MD5=[e4f7fae6ed58524ba242bb0b0d3be6b7]\n",
       "cluster E2--><g id=\"cluster_E2\"><a href=\"psysml:fde4dbf0-a827-4985-ab3d-be4806656b08\" target=\"_top\" title=\"psysml:fde4dbf0-a827-4985-ab3d-be4806656b08\" xlink:actuate=\"onRequest\" xlink:href=\"psysml:fde4dbf0-a827-4985-ab3d-be4806656b08\" xlink:show=\"new\" xlink:title=\"psysml:fde4dbf0-a827-4985-ab3d-be4806656b08\" xlink:type=\"simple\"><polygon fill=\"none\" points=\"683,73.72,868.1875,73.72,875.1875,96.0169,1176,96.0169,1176,185.72,683,185.72,683,73.72\" style=\"stroke:#000000;stroke-width:1.5;\"/><line style=\"stroke:#000000;stroke-width:1.5;\" x1=\"683\" x2=\"875.1875\" y1=\"96.0169\" y2=\"96.0169\"/><text fill=\"#000000\" font-family=\"sans-serif\" font-size=\"14\" font-weight=\"bold\" lengthAdjust=\"spacing\" textLength=\"179.1875\" x=\"687\" y=\"88.7151\">User Defined Extensions</text></a></g><!--MD5=[60a26617385b1d2d0262a64233df1f8d]\n",
       "class E6--><a href=\"psysml:ab215fb4-7997-4c5e-99e0-8fea9c1d3082\" target=\"_top\" title=\"psysml:ab215fb4-7997-4c5e-99e0-8fea9c1d3082\" xlink:actuate=\"onRequest\" xlink:href=\"psysml:ab215fb4-7997-4c5e-99e0-8fea9c1d3082\" xlink:show=\"new\" xlink:title=\"psysml:ab215fb4-7997-4c5e-99e0-8fea9c1d3082\" xlink:type=\"simple\"><g id=\"elem_E6\"><rect fill=\"#FFFFFF\" height=\"56.2656\" id=\"E6\" rx=\"10\" ry=\"10\" style=\"stroke:#181818;stroke-width:0.5;\" width=\"77\" x=\"578.5\" y=\"111.22\"/><text fill=\"#000000\" font-family=\"sans-serif\" font-size=\"12\" font-style=\"italic\" lengthAdjust=\"spacing\" textLength=\"75\" x=\"579.5\" y=\"127.3587\">«reference»</text><text fill=\"#000000\" font-family=\"sans-serif\" font-size=\"14\" lengthAdjust=\"spacing\" textLength=\"7\" x=\"609.5\" y=\"143.1839\">x</text><line style=\"stroke:#181818;stroke-width:0.5;\" x1=\"579.5\" x2=\"654.5\" y1=\"151.4856\" y2=\"151.4856\"/><line style=\"stroke:#181818;stroke-width:0.5;\" x1=\"579.5\" x2=\"654.5\" y1=\"159.4856\" y2=\"159.4856\"/></g></a><!--MD5=[2156ba9850f5573cc1fc38a6a4b2f02b]\n",
       "class E7--><a href=\"psysml:c7350727-55c2-4532-b138-8da3db2b593b\" target=\"_top\" title=\"psysml:c7350727-55c2-4532-b138-8da3db2b593b\" xlink:actuate=\"onRequest\" xlink:href=\"psysml:c7350727-55c2-4532-b138-8da3db2b593b\" xlink:show=\"new\" xlink:title=\"psysml:c7350727-55c2-4532-b138-8da3db2b593b\" xlink:type=\"simple\"><g id=\"elem_E7\"><rect fill=\"#FFFFFF\" height=\"56.2656\" id=\"E7\" rx=\"10\" ry=\"10\" style=\"stroke:#181818;stroke-width:0.5;\" width=\"76\" x=\"467\" y=\"111.22\"/><text fill=\"#000000\" font-family=\"sans-serif\" font-size=\"12\" font-style=\"italic\" lengthAdjust=\"spacing\" textLength=\"74\" x=\"468\" y=\"127.3587\">«#Security»</text><text fill=\"#000000\" font-family=\"sans-serif\" font-size=\"14\" lengthAdjust=\"spacing\" textLength=\"7\" x=\"497.5\" y=\"143.1839\">y</text><line style=\"stroke:#181818;stroke-width:0.5;\" x1=\"468\" x2=\"542\" y1=\"151.4856\" y2=\"151.4856\"/><line style=\"stroke:#181818;stroke-width:0.5;\" x1=\"468\" x2=\"542\" y1=\"159.4856\" y2=\"159.4856\"/></g></a><!--MD5=[96f4274e9e20536e775497830990834d]\n",
       "class E10--><a href=\"psysml:bedd784f-2083-437e-9a45-6e64d2c52a15\" target=\"_top\" title=\"psysml:bedd784f-2083-437e-9a45-6e64d2c52a15\" xlink:actuate=\"onRequest\" xlink:href=\"psysml:bedd784f-2083-437e-9a45-6e64d2c52a15\" xlink:show=\"new\" xlink:title=\"psysml:bedd784f-2083-437e-9a45-6e64d2c52a15\" xlink:type=\"simple\"><g id=\"elem_E10\"><rect fill=\"#FFFFFF\" height=\"56.2656\" id=\"E10\" rx=\"10\" ry=\"10\" style=\"stroke:#181818;stroke-width:0.5;\" width=\"77\" x=\"354.5\" y=\"111.22\"/><text fill=\"#000000\" font-family=\"sans-serif\" font-size=\"12\" font-style=\"italic\" lengthAdjust=\"spacing\" textLength=\"75\" x=\"355.5\" y=\"127.3587\">«reference»</text><text fill=\"#000000\" font-family=\"sans-serif\" font-size=\"14\" lengthAdjust=\"spacing\" textLength=\"8\" x=\"385\" y=\"143.1839\">z</text><line style=\"stroke:#181818;stroke-width:0.5;\" x1=\"355.5\" x2=\"430.5\" y1=\"151.4856\" y2=\"151.4856\"/><line style=\"stroke:#181818;stroke-width:0.5;\" x1=\"355.5\" x2=\"430.5\" y1=\"159.4856\" y2=\"159.4856\"/></g></a><g><a href=\"psysml:875613db-282a-4c31-9ce2-2c5502fc9987\" target=\"_top\" title=\"psysml:875613db-282a-4c31-9ce2-2c5502fc9987\" xlink:actuate=\"onRequest\" xlink:href=\"psysml:875613db-282a-4c31-9ce2-2c5502fc9987\" xlink:show=\"new\" xlink:title=\"psysml:875613db-282a-4c31-9ce2-2c5502fc9987\" xlink:type=\"simple\"><rect fill=\"#FFFFFF\" height=\"45.2656\" id=\"E3\" style=\"stroke:#383838;stroke-width:1.5;\" width=\"135\" x=\"1016.5\" y=\"116.72\"/><text fill=\"#000000\" font-family=\"sans-serif\" font-size=\"12\" font-style=\"italic\" lengthAdjust=\"spacing\" textLength=\"74\" x=\"1047\" y=\"132.8587\">«#Security»</text><text fill=\"#000000\" font-family=\"sans-serif\" font-size=\"14\" font-style=\"italic\" lengthAdjust=\"spacing\" textLength=\"124\" x=\"1022\" y=\"148.6839\">ClassificationLevel</text></a></g><g><a href=\"psysml:7d365ab2-02f5-4019-ac52-725960bbc954\" target=\"_top\" title=\"psysml:7d365ab2-02f5-4019-ac52-725960bbc954\" xlink:actuate=\"onRequest\" xlink:href=\"psysml:7d365ab2-02f5-4019-ac52-725960bbc954\" xlink:show=\"new\" xlink:title=\"psysml:7d365ab2-02f5-4019-ac52-725960bbc954\" xlink:type=\"simple\"><rect fill=\"#FFFFFF\" height=\"45.2656\" id=\"E4\" style=\"stroke:#383838;stroke-width:1.5;\" width=\"110\" x=\"871\" y=\"116.72\"/><text fill=\"#000000\" font-family=\"sans-serif\" font-size=\"12\" font-style=\"italic\" lengthAdjust=\"spacing\" textLength=\"103\" x=\"874.5\" y=\"132.8587\">«metadata  def»</text><text fill=\"#000000\" font-family=\"sans-serif\" font-size=\"14\" lengthAdjust=\"spacing\" textLength=\"65\" x=\"893.5\" y=\"148.6839\">Classified</text></a></g><g><a href=\"psysml:b54cb894-c9b4-4b22-a0a5-6c760d030873\" target=\"_top\" title=\"psysml:b54cb894-c9b4-4b22-a0a5-6c760d030873\" xlink:actuate=\"onRequest\" xlink:href=\"psysml:b54cb894-c9b4-4b22-a0a5-6c760d030873\" xlink:show=\"new\" xlink:title=\"psysml:b54cb894-c9b4-4b22-a0a5-6c760d030873\" xlink:type=\"simple\"><rect fill=\"#FFFFFF\" height=\"45.2656\" id=\"E5\" style=\"stroke:#383838;stroke-width:1.5;\" width=\"110\" x=\"726\" y=\"116.72\"/><text fill=\"#000000\" font-family=\"sans-serif\" font-size=\"12\" font-style=\"italic\" lengthAdjust=\"spacing\" textLength=\"103\" x=\"729.5\" y=\"132.8587\">«metadata  def»</text><text fill=\"#000000\" font-family=\"sans-serif\" font-size=\"14\" lengthAdjust=\"spacing\" textLength=\"55\" x=\"753.5\" y=\"148.6839\">Security</text></a></g><g><a href=\"psysml:09bb7bef-5578-400a-ab09-b89f3b478a84\" target=\"_top\" title=\"psysml:09bb7bef-5578-400a-ab09-b89f3b478a84\" xlink:actuate=\"onRequest\" xlink:href=\"psysml:09bb7bef-5578-400a-ab09-b89f3b478a84\" xlink:show=\"new\" xlink:title=\"psysml:09bb7bef-5578-400a-ab09-b89f3b478a84\" xlink:type=\"simple\"><rect fill=\"#FFFFFF\" height=\"45.2656\" id=\"E8\" rx=\"10\" ry=\"10\" style=\"stroke:#383838;stroke-width:1.5;\" width=\"154\" x=\"165\" y=\"116.72\"/><text fill=\"#000000\" font-family=\"sans-serif\" font-size=\"12\" font-style=\"italic\" lengthAdjust=\"spacing\" textLength=\"147\" x=\"168.5\" y=\"132.8587\">«#Classified #Security»</text><text fill=\"#000000\" font-family=\"sans-serif\" font-size=\"14\" lengthAdjust=\"spacing\" textLength=\"17\" x=\"233.5\" y=\"148.6839\">z1</text></a></g><g><a href=\"psysml:fcfec3d1-5349-46cf-95eb-369f9c247e1c\" target=\"_top\" title=\"psysml:fcfec3d1-5349-46cf-95eb-369f9c247e1c\" xlink:actuate=\"onRequest\" xlink:href=\"psysml:fcfec3d1-5349-46cf-95eb-369f9c247e1c\" xlink:show=\"new\" xlink:title=\"psysml:fcfec3d1-5349-46cf-95eb-369f9c247e1c\" xlink:type=\"simple\"><rect fill=\"#FFFFFF\" height=\"45.2656\" id=\"E9\" rx=\"10\" ry=\"10\" style=\"stroke:#383838;stroke-width:1.5;\" width=\"90\" x=\"40\" y=\"116.72\"/><text fill=\"#000000\" font-family=\"sans-serif\" font-size=\"12\" font-style=\"italic\" lengthAdjust=\"spacing\" textLength=\"83\" x=\"43.5\" y=\"132.8587\">«#Classified»</text><text fill=\"#000000\" font-family=\"sans-serif\" font-size=\"14\" font-style=\"italic\" lengthAdjust=\"spacing\" textLength=\"17\" x=\"76.5\" y=\"148.6839\">z2</text></a></g><!--MD5=[1f1cd8e6dd4c1b2ca2aaccc9b9bcea6e]\n",
       "link E1 to E2--><g id=\"link_E1_E2\"><a href=\"psysml:7790dee3-4a68-47c5-b25f-526a96f63664\" target=\"_top\" title=\"psysml:7790dee3-4a68-47c5-b25f-526a96f63664\" xlink:actuate=\"onRequest\" xlink:href=\"psysml:7790dee3-4a68-47c5-b25f-526a96f63664\" xlink:show=\"new\" xlink:title=\"psysml:7790dee3-4a68-47c5-b25f-526a96f63664\" xlink:type=\"simple\"><path d=\"M691,34.04 C691,36.1875 691,43.2838 691,52.8483 C691,57.6305 691,63.0299 691,68.7362 C691,70.1628 691,71.6086 691,73.0687 C691,73.2512 691,73.434 691,73.6169 \" fill=\"none\" id=\"E1-to-E2\" style=\"stroke:#181818;stroke-width:1.0;stroke-dasharray:7.0,7.0;\"/><polygon fill=\"#181818\" points=\"691,73.6169,695,64.6169,691,68.6169,687,64.6169,691,73.6169\" style=\"stroke:#181818;stroke-width:1.0;\"/><text fill=\"#000000\" font-family=\"sans-serif\" font-size=\"13\" lengthAdjust=\"spacing\" textLength=\"65\" x=\"625\" y=\"82.3869\">«import»*</text></a></g><!--MD5=[25828e77c77007a7bfd94892b6205c0f]\n",
       "@startuml\r\n",
       "skin sysmlbw\r\n",
       "skinparam monochrome true\r\n",
       "skinparam wrapWidth 300\r\n",
       "hide circle\r\n",
       "skinparam linetype ortho\r\n",
       "skinparam ranksep 10\r\n",
       "skinparam rectangle {\r\n",
       " backgroundColor<<block>> LightGreen\r\n",
       "}\r\n",
       "\r\n",
       "package \"MetadataTest\" as E1  [[psysml:6bf27c65-dae0-4f69-b1ef-6329bb319dfc ]]  {\r\n",
       "package \"User Defined Extensions\" as E2  [[psysml:fde4dbf0-a827-4985-ab3d-be4806656b08 ]]  {\r\n",
       "def \"<i>ClassificationLevel</i>\" as E3 <<#Security>>[[psysml:875613db-282a-4c31-9ce2-2c5502fc9987 ]] \r\n",
       "def \"Classified\" as E4  <<(T,blue) metadata  def>> [[psysml:7d365ab2-02f5-4019-ac52-725960bbc954 ]] \r\n",
       "def \"Security\" as E5  <<(T,blue) metadata  def>> [[psysml:b54cb894-c9b4-4b22-a0a5-6c760d030873 ]] \r\n",
       "}\r\n",
       "usage \"x  \" as E6  <<(T,blue) reference>> [[psysml:ab215fb4-7997-4c5e-99e0-8fea9c1d3082 ]] \r\n",
       "usage \"y  \" as E7 <<#Security>>[[psysml:c7350727-55c2-4532-b138-8da3db2b593b ]] \r\n",
       "rec usage \"z1\" as E8 <<#Classified #Security>>[[psysml:09bb7bef-5578-400a-ab09-b89f3b478a84 ]] {\r\n",
       "}\r\n",
       "rec usage \"<i>z2</i>\" as E9 <<#Classified>>[[psysml:fcfec3d1-5349-46cf-95eb-369f9c247e1c ]] {\r\n",
       "}\r\n",
       "usage \"z  \" as E10  <<(T,blue) reference>> [[psysml:bedd784f-2083-437e-9a45-6e64d2c52a15 ]] \r\n",
       "}\r\n",
       "E1 ..> E2 [[psysml:7790dee3-4a68-47c5-b25f-526a96f63664 ]] : <<import>>*\r\n",
       "@enduml\r\n",
       "\n",
       "PlantUML version 1.2022.7(Mon Aug 22 17:01:30 UTC 2022)\n",
       "(EPL source distribution)\n",
       "Java Runtime: OpenJDK Runtime Environment\n",
       "JVM: OpenJDK 64-Bit Server VM\n",
       "Default Encoding: UTF-8\n",
       "Language: en\n",
       "Country: null\n",
       "--></g></svg>"
      ]
     },
     "execution_count": 54,
     "metadata": {},
     "output_type": "execute_result"
    }
   ],
   "source": [
    "%viz --style=\"ORTHOLINE\" --view=\"Interconnection\" \"MetadataTest\""
   ]
  },
  {
   "cell_type": "code",
   "execution_count": 55,
   "id": "2da8beaf",
   "metadata": {
    "execution": {
     "iopub.execute_input": "2024-12-16T03:28:25.965887Z",
     "iopub.status.busy": "2024-12-16T03:28:25.965578Z",
     "iopub.status.idle": "2024-12-16T03:28:25.980043Z",
     "shell.execute_reply": "2024-12-16T03:28:25.979281Z"
    }
   },
   "outputs": [
    {
     "data": {
      "image/svg+xml": [
       "<?xml version=\"1.0\" encoding=\"UTF-8\" standalone=\"no\"?><svg xmlns=\"http://www.w3.org/2000/svg\" xmlns:xlink=\"http://www.w3.org/1999/xlink\" contentStyleType=\"text/css\" height=\"96px\" preserveAspectRatio=\"none\" style=\"width:912px;height:96px;background:#FFFFFF;\" version=\"1.1\" viewBox=\"0 0 912 96\" width=\"912px\" zoomAndPan=\"magnify\"><defs/><g><g id=\"elem_E1\"><path d=\"M6,13.5 L6,82.0448 L315,82.0448 L315,23.5 L305,13.5 L6,13.5 \" fill=\"#FAFAFA\" style=\"stroke:#181818;stroke-width:0.5;\"/><path d=\"M305,13.5 L305,23.5 L315,23.5 L305,13.5 \" fill=\"#FAFAFA\" style=\"stroke:#181818;stroke-width:1.0;\"/><text fill=\"#000000\" font-family=\"monospace\" font-size=\"13\" lengthAdjust=\"spacing\" textLength=\"112\" x=\"12\" y=\"32.397\">              </text><a href=\"psysml:ccd30bed-0f75-43dd-8560-a117ef71fdae\" target=\"_top\" title=\"psysml:ccd30bed-0f75-43dd-8560-a117ef71fdae\" xlink:actuate=\"onRequest\" xlink:href=\"psysml:ccd30bed-0f75-43dd-8560-a117ef71fdae\" xlink:show=\"new\" xlink:title=\"psysml:ccd30bed-0f75-43dd-8560-a117ef71fdae\" xlink:type=\"simple\"><text fill=\"#000000\" font-family=\"sans-serif\" font-size=\"13\" lengthAdjust=\"spacing\" text-decoration=\"underline\" textLength=\"79\" x=\"124\" y=\"33.1401\">«metadata»</text></a><text fill=\"#000000\" font-family=\"monospace\" font-size=\"13\" font-style=\"italic\" lengthAdjust=\"spacing\" textLength=\"112\" x=\"12\" y=\"50.103\">              </text><text fill=\"#000000\" font-family=\"sans-serif\" font-size=\"13\" font-style=\"italic\" lengthAdjust=\"spacing\" textLength=\"60\" x=\"124\" y=\"50.8461\">Classified</text><line style=\"stroke:#181818;stroke-width:1.0;\" x1=\"7\" x2=\"314\" y1=\"53.912\" y2=\"53.912\"/><text fill=\"#000000\" font-family=\"sans-serif\" font-size=\"13\" lengthAdjust=\"spacing\" textLength=\"288\" x=\"12\" y=\"69.9789\">classificationLevel =  ClassificationLevel::conf</text></g><g id=\"elem_E2\"><path d=\"M350,13.5 L350,82.0448 L659,82.0448 L659,23.5 L649,13.5 L350,13.5 \" fill=\"#FAFAFA\" style=\"stroke:#181818;stroke-width:0.5;\"/><path d=\"M649,13.5 L649,23.5 L659,23.5 L649,13.5 \" fill=\"#FAFAFA\" style=\"stroke:#181818;stroke-width:1.0;\"/><text fill=\"#000000\" font-family=\"monospace\" font-size=\"13\" lengthAdjust=\"spacing\" textLength=\"112\" x=\"356\" y=\"32.397\">              </text><a href=\"psysml:a50d3885-9ceb-42ed-af81-8542a216cf29\" target=\"_top\" title=\"psysml:a50d3885-9ceb-42ed-af81-8542a216cf29\" xlink:actuate=\"onRequest\" xlink:href=\"psysml:a50d3885-9ceb-42ed-af81-8542a216cf29\" xlink:show=\"new\" xlink:title=\"psysml:a50d3885-9ceb-42ed-af81-8542a216cf29\" xlink:type=\"simple\"><text fill=\"#000000\" font-family=\"sans-serif\" font-size=\"13\" lengthAdjust=\"spacing\" text-decoration=\"underline\" textLength=\"79\" x=\"468\" y=\"33.1401\">«metadata»</text></a><text fill=\"#000000\" font-family=\"monospace\" font-size=\"13\" font-style=\"italic\" lengthAdjust=\"spacing\" textLength=\"112\" x=\"356\" y=\"50.103\">              </text><text fill=\"#000000\" font-family=\"sans-serif\" font-size=\"13\" font-style=\"italic\" lengthAdjust=\"spacing\" textLength=\"60\" x=\"468\" y=\"50.8461\">Classified</text><line style=\"stroke:#181818;stroke-width:1.0;\" x1=\"351\" x2=\"658\" y1=\"53.912\" y2=\"53.912\"/><text fill=\"#000000\" font-family=\"sans-serif\" font-size=\"13\" lengthAdjust=\"spacing\" textLength=\"288\" x=\"356\" y=\"69.9789\">classificationLevel =  ClassificationLevel::conf</text></g><g id=\"elem_E3\"><path d=\"M693.5,6 L693.5,89.6777 L905.5,89.6777 L905.5,16 L895.5,6 L693.5,6 \" fill=\"#FAFAFA\" style=\"stroke:#181818;stroke-width:0.5;\"/><path d=\"M895.5,6 L895.5,16 L905.5,16 L895.5,6 \" fill=\"#FAFAFA\" style=\"stroke:#181818;stroke-width:1.0;\"/><text fill=\"#000000\" font-family=\"monospace\" font-size=\"13\" lengthAdjust=\"spacing\" textLength=\"112\" x=\"699.5\" y=\"24.897\">              </text><a href=\"psysml:7eb290c6-6d6c-4277-b27a-b35f0e599ca6\" target=\"_top\" title=\"psysml:7eb290c6-6d6c-4277-b27a-b35f0e599ca6\" xlink:actuate=\"onRequest\" xlink:href=\"psysml:7eb290c6-6d6c-4277-b27a-b35f0e599ca6\" xlink:show=\"new\" xlink:title=\"psysml:7eb290c6-6d6c-4277-b27a-b35f0e599ca6\" xlink:type=\"simple\"><text fill=\"#000000\" font-family=\"sans-serif\" font-size=\"13\" lengthAdjust=\"spacing\" text-decoration=\"underline\" textLength=\"79\" x=\"811.5\" y=\"25.6401\">«metadata»</text></a><text fill=\"#000000\" font-family=\"monospace\" font-size=\"13\" font-style=\"italic\" lengthAdjust=\"spacing\" textLength=\"112\" x=\"699.5\" y=\"42.603\">              </text><text fill=\"#000000\" font-family=\"sans-serif\" font-size=\"13\" font-style=\"italic\" lengthAdjust=\"spacing\" textLength=\"60\" x=\"811.5\" y=\"43.3461\">Classified</text><line style=\"stroke:#181818;stroke-width:1.0;\" x1=\"694.5\" x2=\"904.5\" y1=\"46.412\" y2=\"46.412\"/><text fill=\"#000000\" font-family=\"sans-serif\" font-size=\"13\" lengthAdjust=\"spacing\" textLength=\"129\" x=\"699.5\" y=\"62.4789\">classificationLevel =</text><text fill=\"#000000\" font-family=\"sans-serif\" font-size=\"13\" lengthAdjust=\"spacing\" textLength=\"164\" x=\"699.5\" y=\"77.6117\">ClassificationLevel::secret</text></g><!--MD5=[8c6cdcf22a0c0a0dc898614717266db4]\n",
       "@startuml\r\n",
       "skin sysmlbw\r\n",
       "skinparam monochrome true\r\n",
       "skinparam wrapWidth 300\r\n",
       "hide circle\r\n",
       "skinparam linetype ortho\r\n",
       "skinparam ranksep 8\r\n",
       "\r\n",
       "note as E1\r\n",
       "\"\"              \"\"[[psysml:ccd30bed-0f75-43dd-8560-a117ef71fdae «metadata»]]\r\n",
       "==== \"\"              \"\"Classified\r\n",
       "- -\r\n",
       "classificationLevel =  ClassificationLevel::conf\r\n",
       "end note\r\n",
       "note as E2\r\n",
       "\"\"              \"\"[[psysml:a50d3885-9ceb-42ed-af81-8542a216cf29 «metadata»]]\r\n",
       "==== \"\"              \"\"Classified\r\n",
       "- -\r\n",
       "classificationLevel =  ClassificationLevel::conf\r\n",
       "end note\r\n",
       "note as E3\r\n",
       "\"\"              \"\"[[psysml:7eb290c6-6d6c-4277-b27a-b35f0e599ca6 «metadata»]]\r\n",
       "==== \"\"              \"\"Classified\r\n",
       "- -\r\n",
       "classificationLevel =  ClassificationLevel::secret\r\n",
       "end note\r\n",
       "@enduml\r\n",
       "\n",
       "PlantUML version 1.2022.7(Mon Aug 22 17:01:30 UTC 2022)\n",
       "(EPL source distribution)\n",
       "Java Runtime: OpenJDK Runtime Environment\n",
       "JVM: OpenJDK 64-Bit Server VM\n",
       "Default Encoding: UTF-8\n",
       "Language: en\n",
       "Country: null\n",
       "--></g></svg>"
      ]
     },
     "execution_count": 55,
     "metadata": {},
     "output_type": "execute_result"
    }
   ],
   "source": [
    "%viz --style=\"ORTHOLINE\" --view=\"Action\" \"MetadataTest\""
   ]
  },
  {
   "cell_type": "code",
   "execution_count": 56,
   "id": "4e4d822e",
   "metadata": {
    "execution": {
     "iopub.execute_input": "2024-12-16T03:28:26.032396Z",
     "iopub.status.busy": "2024-12-16T03:28:26.032162Z",
     "iopub.status.idle": "2024-12-16T03:28:26.038578Z",
     "shell.execute_reply": "2024-12-16T03:28:26.038388Z"
    }
   },
   "outputs": [
    {
     "data": {
      "image/svg+xml": [
       "<?xml version=\"1.0\" encoding=\"UTF-8\" standalone=\"no\"?><svg xmlns=\"http://www.w3.org/2000/svg\" xmlns:xlink=\"http://www.w3.org/1999/xlink\" contentStyleType=\"text/css\" height=\"10px\" preserveAspectRatio=\"none\" style=\"width:10px;height:10px;background:#FFFFFF;\" version=\"1.1\" viewBox=\"0 0 10 10\" width=\"10px\" zoomAndPan=\"magnify\"><defs/><g><!--MD5=[5b6eb85285460e34b0e63326afe72cc5]\n",
       "@startuml\r\n",
       "skin sysmlbw\r\n",
       "skinparam monochrome true\r\n",
       "skinparam wrapWidth 300\r\n",
       "hide circle\r\n",
       "skinparam linetype ortho\r\n",
       "skinparam roundcorner 20\r\n",
       "skinparam BoxPadding 20\r\n",
       "skinparam SequenceBoxBackgroundColor #white\r\n",
       "skinparam style strictuml\r\n",
       "skinparam maxMessageSize 100\r\n",
       "\r\n",
       "@enduml\r\n",
       "\n",
       "PlantUML version 1.2022.7(Mon Aug 22 17:01:30 UTC 2022)\n",
       "(EPL source distribution)\n",
       "Java Runtime: OpenJDK Runtime Environment\n",
       "JVM: OpenJDK 64-Bit Server VM\n",
       "Default Encoding: UTF-8\n",
       "Language: en\n",
       "Country: null\n",
       "--></g></svg>"
      ]
     },
     "execution_count": 56,
     "metadata": {},
     "output_type": "execute_result"
    }
   ],
   "source": [
    "%viz --style=\"ORTHOLINE\" --view=\"Sequence\" \"MetadataTest\""
   ]
  },
  {
   "cell_type": "code",
   "execution_count": 57,
   "id": "f8c8857a",
   "metadata": {
    "execution": {
     "iopub.execute_input": "2024-12-16T03:28:26.094458Z",
     "iopub.status.busy": "2024-12-16T03:28:26.094184Z",
     "iopub.status.idle": "2024-12-16T03:28:26.112289Z",
     "shell.execute_reply": "2024-12-16T03:28:26.111555Z"
    }
   },
   "outputs": [
    {
     "data": {
      "image/svg+xml": [
       "<?xml version=\"1.0\" encoding=\"UTF-8\" standalone=\"no\"?><svg xmlns=\"http://www.w3.org/2000/svg\" xmlns:xlink=\"http://www.w3.org/1999/xlink\" contentStyleType=\"text/css\" height=\"403px\" preserveAspectRatio=\"none\" style=\"width:707px;height:403px;background:#FFFFFF;\" version=\"1.1\" viewBox=\"0 0 707 403\" width=\"707px\" zoomAndPan=\"magnify\"><defs/><g><!--MD5=[fbc87193dbaf4d95561dea2c320d4a47]\n",
       "cluster E1--><g id=\"cluster_E1\"><a href=\"psysml:6bf27c65-dae0-4f69-b1ef-6329bb319dfc\" target=\"_top\" title=\"psysml:6bf27c65-dae0-4f69-b1ef-6329bb319dfc\" xlink:actuate=\"onRequest\" xlink:href=\"psysml:6bf27c65-dae0-4f69-b1ef-6329bb319dfc\" xlink:show=\"new\" xlink:title=\"psysml:6bf27c65-dae0-4f69-b1ef-6329bb319dfc\" xlink:type=\"simple\"><polygon fill=\"none\" points=\"16,6,122.25,6,129.25,28.2969,690,28.2969,690,396.72,16,396.72,16,6\" style=\"stroke:#000000;stroke-width:1.5;\"/><line style=\"stroke:#000000;stroke-width:1.5;\" x1=\"16\" x2=\"129.25\" y1=\"28.2969\" y2=\"28.2969\"/><text fill=\"#000000\" font-family=\"sans-serif\" font-size=\"14\" font-weight=\"bold\" lengthAdjust=\"spacing\" textLength=\"100.25\" x=\"20\" y=\"20.9951\">MetadataTest</text></a></g><!--MD5=[e4f7fae6ed58524ba242bb0b0d3be6b7]\n",
       "cluster E2--><g id=\"cluster_E2\"><a href=\"psysml:fde4dbf0-a827-4985-ab3d-be4806656b08\" target=\"_top\" title=\"psysml:fde4dbf0-a827-4985-ab3d-be4806656b08\" xlink:actuate=\"onRequest\" xlink:href=\"psysml:fde4dbf0-a827-4985-ab3d-be4806656b08\" xlink:show=\"new\" xlink:title=\"psysml:fde4dbf0-a827-4985-ab3d-be4806656b08\" xlink:type=\"simple\"><polygon fill=\"none\" points=\"337,73.72,522.1875,73.72,529.1875,96.0169,650,96.0169,650,356.72,337,356.72,337,73.72\" style=\"stroke:#000000;stroke-width:1.5;\"/><line style=\"stroke:#000000;stroke-width:1.5;\" x1=\"337\" x2=\"529.1875\" y1=\"96.0169\" y2=\"96.0169\"/><text fill=\"#000000\" font-family=\"sans-serif\" font-size=\"14\" font-weight=\"bold\" lengthAdjust=\"spacing\" textLength=\"179.1875\" x=\"341\" y=\"88.7151\">User Defined Extensions</text></a></g><!--MD5=[60a26617385b1d2d0262a64233df1f8d]\n",
       "class E6--><a href=\"psysml:09bb7bef-5578-400a-ab09-b89f3b478a84\" target=\"_top\" title=\"psysml:09bb7bef-5578-400a-ab09-b89f3b478a84\" xlink:actuate=\"onRequest\" xlink:href=\"psysml:09bb7bef-5578-400a-ab09-b89f3b478a84\" xlink:show=\"new\" xlink:title=\"psysml:09bb7bef-5578-400a-ab09-b89f3b478a84\" xlink:type=\"simple\"><g id=\"elem_E6\"><rect fill=\"#FFFFFF\" height=\"48.2656\" id=\"E6\" rx=\"10\" ry=\"10\" style=\"stroke:#181818;stroke-width:0.5;\" width=\"149\" x=\"160.5\" y=\"116.72\"/><text fill=\"#000000\" font-family=\"sans-serif\" font-size=\"12\" font-style=\"italic\" lengthAdjust=\"spacing\" textLength=\"147\" x=\"161.5\" y=\"132.8587\">«#Classified #Security»</text><text fill=\"#000000\" font-family=\"sans-serif\" font-size=\"14\" lengthAdjust=\"spacing\" textLength=\"17\" x=\"222.5\" y=\"148.6839\">z1</text><line style=\"stroke:#181818;stroke-width:0.5;\" x1=\"161.5\" x2=\"308.5\" y1=\"156.9856\" y2=\"156.9856\"/></g></a><!--MD5=[2156ba9850f5573cc1fc38a6a4b2f02b]\n",
       "class E7--><a href=\"psysml:fcfec3d1-5349-46cf-95eb-369f9c247e1c\" target=\"_top\" title=\"psysml:fcfec3d1-5349-46cf-95eb-369f9c247e1c\" xlink:actuate=\"onRequest\" xlink:href=\"psysml:fcfec3d1-5349-46cf-95eb-369f9c247e1c\" xlink:show=\"new\" xlink:title=\"psysml:fcfec3d1-5349-46cf-95eb-369f9c247e1c\" xlink:type=\"simple\"><g id=\"elem_E7\"><rect fill=\"#FFFFFF\" height=\"48.2656\" id=\"E7\" rx=\"10\" ry=\"10\" style=\"stroke:#181818;stroke-width:0.5;\" width=\"85\" x=\"40.5\" y=\"116.72\"/><text fill=\"#000000\" font-family=\"sans-serif\" font-size=\"12\" font-style=\"italic\" lengthAdjust=\"spacing\" textLength=\"83\" x=\"41.5\" y=\"132.8587\">«#Classified»</text><text fill=\"#000000\" font-family=\"sans-serif\" font-size=\"14\" font-style=\"italic\" lengthAdjust=\"spacing\" textLength=\"17\" x=\"70.5\" y=\"148.6839\">z2</text><text fill=\"#000000\" font-family=\"sans-serif\" font-size=\"14\" lengthAdjust=\"spacing\" textLength=\"8\" x=\"87.5\" y=\"148.6839\">  </text><line style=\"stroke:#181818;stroke-width:0.5;\" x1=\"41.5\" x2=\"124.5\" y1=\"156.9856\" y2=\"156.9856\"/></g></a><!--MD5=[09b614a08d8cba4a07c9adeb5e0fee81]\n",
       "class E3--><a href=\"psysml:875613db-282a-4c31-9ce2-2c5502fc9987\" target=\"_top\" title=\"psysml:875613db-282a-4c31-9ce2-2c5502fc9987\" xlink:actuate=\"onRequest\" xlink:href=\"psysml:875613db-282a-4c31-9ce2-2c5502fc9987\" xlink:show=\"new\" xlink:title=\"psysml:875613db-282a-4c31-9ce2-2c5502fc9987\" xlink:type=\"simple\"><g id=\"elem_E3\"><rect fill=\"#FFFFFF\" height=\"107.675\" id=\"E3\" style=\"stroke:#181818;stroke-width:0.5;\" width=\"218\" x=\"408\" y=\"224.72\"/><text fill=\"#000000\" font-family=\"sans-serif\" font-size=\"12\" font-style=\"italic\" lengthAdjust=\"spacing\" textLength=\"74\" x=\"480\" y=\"240.8587\">«#Security»</text><text fill=\"#000000\" font-family=\"sans-serif\" font-size=\"14\" font-style=\"italic\" lengthAdjust=\"spacing\" textLength=\"124\" x=\"455\" y=\"256.6839\">ClassificationLevel</text><line style=\"stroke:#181818;stroke-width:0.5;\" x1=\"409\" x2=\"625\" y1=\"264.9856\" y2=\"264.9856\"/><text fill=\"#000000\" font-family=\"sans-serif\" font-size=\"14\" lengthAdjust=\"spacing\" textLength=\"191\" x=\"414\" y=\"292.4995\">uncl: ClassificationLevel = 0</text><text fill=\"#000000\" font-family=\"sans-serif\" font-size=\"14\" lengthAdjust=\"spacing\" textLength=\"192\" x=\"414\" y=\"308.7964\">conf: ClassificationLevel = 1</text><text fill=\"#000000\" font-family=\"sans-serif\" font-size=\"14\" lengthAdjust=\"spacing\" textLength=\"206\" x=\"414\" y=\"325.0932\">secret: ClassificationLevel = 2</text><text fill=\"#000000\" font-family=\"sans-serif\" font-size=\"14\" font-style=\"italic\" lengthAdjust=\"spacing\" textLength=\"48\" x=\"493\" y=\"277.3323\">enums</text></g></a><!--MD5=[ebbe1d658d1005bcc118a6aa81145e00]\n",
       "class E4--><a href=\"psysml:7d365ab2-02f5-4019-ac52-725960bbc954\" target=\"_top\" title=\"psysml:7d365ab2-02f5-4019-ac52-725960bbc954\" xlink:actuate=\"onRequest\" xlink:href=\"psysml:7d365ab2-02f5-4019-ac52-725960bbc954\" xlink:show=\"new\" xlink:title=\"psysml:7d365ab2-02f5-4019-ac52-725960bbc954\" xlink:type=\"simple\"><g id=\"elem_E4\"><rect fill=\"#FFFFFF\" height=\"48.2656\" id=\"E4\" style=\"stroke:#181818;stroke-width:0.5;\" width=\"105\" x=\"520.5\" y=\"116.72\"/><text fill=\"#000000\" font-family=\"sans-serif\" font-size=\"12\" font-style=\"italic\" lengthAdjust=\"spacing\" textLength=\"103\" x=\"521.5\" y=\"132.8587\">«metadata  def»</text><text fill=\"#000000\" font-family=\"sans-serif\" font-size=\"14\" lengthAdjust=\"spacing\" textLength=\"65\" x=\"540.5\" y=\"148.6839\">Classified</text><line style=\"stroke:#181818;stroke-width:0.5;\" x1=\"521.5\" x2=\"624.5\" y1=\"156.9856\" y2=\"156.9856\"/></g></a><!--MD5=[270fce915f116d4de14055a7c1d9a0f3]\n",
       "class E5--><a href=\"psysml:b54cb894-c9b4-4b22-a0a5-6c760d030873\" target=\"_top\" title=\"psysml:b54cb894-c9b4-4b22-a0a5-6c760d030873\" xlink:actuate=\"onRequest\" xlink:href=\"psysml:b54cb894-c9b4-4b22-a0a5-6c760d030873\" xlink:show=\"new\" xlink:title=\"psysml:b54cb894-c9b4-4b22-a0a5-6c760d030873\" xlink:type=\"simple\"><g id=\"elem_E5\"><rect fill=\"#FFFFFF\" height=\"48.2656\" id=\"E5\" style=\"stroke:#181818;stroke-width:0.5;\" width=\"105\" x=\"380.5\" y=\"116.72\"/><text fill=\"#000000\" font-family=\"sans-serif\" font-size=\"12\" font-style=\"italic\" lengthAdjust=\"spacing\" textLength=\"103\" x=\"381.5\" y=\"132.8587\">«metadata  def»</text><text fill=\"#000000\" font-family=\"sans-serif\" font-size=\"14\" lengthAdjust=\"spacing\" textLength=\"55\" x=\"405.5\" y=\"148.6839\">Security</text><line style=\"stroke:#181818;stroke-width:0.5;\" x1=\"381.5\" x2=\"484.5\" y1=\"156.9856\" y2=\"156.9856\"/></g></a><!--MD5=[1f1cd8e6dd4c1b2ca2aaccc9b9bcea6e]\n",
       "link E1 to E2--><g id=\"link_E1_E2\"><a href=\"psysml:7790dee3-4a68-47c5-b25f-526a96f63664\" target=\"_top\" title=\"psysml:7790dee3-4a68-47c5-b25f-526a96f63664\" xlink:actuate=\"onRequest\" xlink:href=\"psysml:7790dee3-4a68-47c5-b25f-526a96f63664\" xlink:show=\"new\" xlink:title=\"psysml:7790dee3-4a68-47c5-b25f-526a96f63664\" xlink:type=\"simple\"><path d=\"M345,34.05 C345,36.2275 345,43.4238 345,53.1234 C345,57.9733 345,63.449 345,69.2361 C345,70.6829 345,72.1492 345,73.63 \" fill=\"none\" id=\"E1-to-E2\" style=\"stroke:#181818;stroke-width:1.0;stroke-dasharray:7.0,7.0;\"/><polygon fill=\"#181818\" points=\"345,73.63,349,64.63,345,68.63,341,64.63,345,73.63\" style=\"stroke:#181818;stroke-width:1.0;\"/><text fill=\"#000000\" font-family=\"sans-serif\" font-size=\"13\" lengthAdjust=\"spacing\" textLength=\"65\" x=\"279\" y=\"83.1369\">«import»*</text></a></g><!--MD5=[4735aefadfa2e5978451eb08fa1f3993]\n",
       "reverse link E4 to E3--><g id=\"link_E4_E3\"><a href=\"psysml:70fb76d3-4397-496c-b537-fd7ec6ee6db2\" target=\"_top\" title=\"psysml:70fb76d3-4397-496c-b537-fd7ec6ee6db2\" xlink:actuate=\"onRequest\" xlink:href=\"psysml:70fb76d3-4397-496c-b537-fd7ec6ee6db2\" xlink:show=\"new\" xlink:title=\"psysml:70fb76d3-4397-496c-b537-fd7ec6ee6db2\" xlink:type=\"simple\"><path d=\"M573,177.76 C573,177.76 573,224.64 573,224.64 \" fill=\"none\" id=\"E4-backto-E3\" style=\"stroke:#181818;stroke-width:1.0;\"/><polygon fill=\"none\" points=\"573,164.76,569,170.76,573,176.76,577,170.76,573,164.76\" style=\"stroke:#181818;stroke-width:1.0;\"/><text fill=\"#000000\" font-family=\"sans-serif\" font-size=\"13\" lengthAdjust=\"spacing\" textLength=\"114\" x=\"458\" y=\"197.2669\">classificationLevel</text></a></g><!--MD5=[59ffa1c2fe045022a91a78c3a0211845]\n",
       "@startuml\r\n",
       "skin sysmlbw\r\n",
       "skinparam monochrome true\r\n",
       "skinparam wrapWidth 300\r\n",
       "hide circle\r\n",
       "skinparam linetype ortho\r\n",
       "\r\n",
       "package \"MetadataTest\" as E1  [[psysml:6bf27c65-dae0-4f69-b1ef-6329bb319dfc ]]  {\r\n",
       "package \"User Defined Extensions\" as E2  [[psysml:fde4dbf0-a827-4985-ab3d-be4806656b08 ]]  {\r\n",
       "comp def \"<i>ClassificationLevel</i>\" as E3 <<#Security>>[[psysml:875613db-282a-4c31-9ce2-2c5502fc9987 ]] {\r\n",
       "##//enums//##\r\n",
       "uncl: ClassificationLevel <U+003D> 0\r\n",
       "conf: ClassificationLevel <U+003D> 1\r\n",
       "secret: ClassificationLevel <U+003D> 2\r\n",
       "}\r\n",
       "comp def \"Classified\" as E4  <<(T,blue) metadata  def>> [[psysml:7d365ab2-02f5-4019-ac52-725960bbc954 ]] {\r\n",
       "}\r\n",
       "comp def \"Security\" as E5  <<(T,blue) metadata  def>> [[psysml:b54cb894-c9b4-4b22-a0a5-6c760d030873 ]] {\r\n",
       "}\r\n",
       "}\r\n",
       "comp usage \"z1  \" as E6 <<#Classified #Security>>[[psysml:09bb7bef-5578-400a-ab09-b89f3b478a84 ]] {\r\n",
       "}\r\n",
       "comp usage \"<i>z2</i>  \" as E7 <<#Classified>>[[psysml:fcfec3d1-5349-46cf-95eb-369f9c247e1c ]] {\r\n",
       "}\r\n",
       "}\r\n",
       "E1 ..> E2 [[psysml:7790dee3-4a68-47c5-b25f-526a96f63664 ]] : <<import>>*\r\n",
       "E4 o- - E3 [[psysml:70fb76d3-4397-496c-b537-fd7ec6ee6db2 ]] : classificationLevel\r\n",
       "@enduml\r\n",
       "\n",
       "PlantUML version 1.2022.7(Mon Aug 22 17:01:30 UTC 2022)\n",
       "(EPL source distribution)\n",
       "Java Runtime: OpenJDK Runtime Environment\n",
       "JVM: OpenJDK 64-Bit Server VM\n",
       "Default Encoding: UTF-8\n",
       "Language: en\n",
       "Country: null\n",
       "--></g></svg>"
      ]
     },
     "execution_count": 57,
     "metadata": {},
     "output_type": "execute_result"
    }
   ],
   "source": [
    "%viz --style=\"ORTHOLINE\" --view=\"MIXED\" \"MetadataTest\""
   ]
  }
 ],
 "metadata": {
  "kernelspec": {
   "display_name": "SysML",
   "language": "sysml",
   "name": "sysml"
  },
  "language_info": {
   "codemirror_mode": "sysml",
   "file_extension": ".sysml",
   "mimetype": "text/x-sysml",
   "name": "SysML",
   "pygments_lexer": "java",
   "version": "1.0.0"
  }
 },
 "nbformat": 4,
 "nbformat_minor": 5
}
