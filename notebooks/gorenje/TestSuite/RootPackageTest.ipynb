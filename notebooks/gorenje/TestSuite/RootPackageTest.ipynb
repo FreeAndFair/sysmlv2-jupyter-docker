{
 "cells": [
  {
   "cell_type": "markdown",
   "id": "armed-february",
   "metadata": {},
   "source": [
    "# SysML v2 Test Suite\n",
    "\n",
    "This can notebook can be cleared using menu `Edit --> Clear All Outputs` and then all cells can be\n",
    "run using menu `Run --> Run All Cells`.\n",
    "\n",
    "**WARNING**: This file is generated, all modifications here will be ignored.\n"
   ]
  },
  {
   "cell_type": "markdown",
   "id": "paperback-retirement",
   "metadata": {},
   "source": [
    "## File: ../../sysml/src/examples/Simple Tests/RootPackageTest.sysml"
   ]
  },
  {
   "cell_type": "code",
   "execution_count": 1,
   "id": "measured-sussex",
   "metadata": {
    "execution": {
     "iopub.execute_input": "2021-03-26T15:44:32.936104Z",
     "iopub.status.busy": "2021-03-26T15:44:32.935030Z",
     "iopub.status.idle": "2021-03-26T15:44:33.048758Z",
     "shell.execute_reply": "2021-03-26T15:44:33.037044Z"
    }
   },
   "outputs": [
    {
     "data": {
      "text/plain": [
       "Package P1 (01c37934-a2cf-4c39-8720-f833ef7ccc0e)\n",
       "Package P2 (cade3e1a-143f-4bc0-8cf6-50a8d2514f67)\n",
       "Package P3 (2326166d-52c0-491e-9095-a35ad61bbc5e)\n"
      ]
     },
     "execution_count": 1,
     "metadata": {},
     "output_type": "execute_result"
    }
   ],
   "source": [
    "package P1 {\n",
    "\tpart def A;\n",
    "}\n",
    "\n",
    "package P2 {\n",
    "\timport P1::*;\n",
    "\tpart a : A;\n",
    "}\n",
    "\n",
    "import P2::*;\n",
    "\n",
    "package P3 {\n",
    "\tpart b subsets a;\n",
    "}"
   ]
  },
  {
   "cell_type": "code",
   "execution_count": 2,
   "id": "chemical-sharp",
   "metadata": {
    "execution": {
     "iopub.execute_input": "2021-03-26T15:44:33.100422Z",
     "iopub.status.busy": "2021-03-26T15:44:33.099772Z",
     "iopub.status.idle": "2021-03-26T15:44:33.562881Z",
     "shell.execute_reply": "2021-03-26T15:44:33.562566Z"
    }
   },
   "outputs": [
    {
     "data": {
      "image/svg+xml": [
       "<?xml version=\"1.0\" encoding=\"UTF-8\" standalone=\"no\"?><svg xmlns=\"http://www.w3.org/2000/svg\" xmlns:xlink=\"http://www.w3.org/1999/xlink\" contentScriptType=\"application/ecmascript\" contentStyleType=\"text/css\" height=\"115px\" preserveAspectRatio=\"none\" style=\"width:136px;height:115px;\" version=\"1.1\" viewBox=\"0 0 136 115\" width=\"136px\" zoomAndPan=\"magnify\"><defs/><g><!--MD5=[fbc87193dbaf4d95561dea2c320d4a47]\n",
       "cluster E1--><a href=\"psysml:c7cd5194-cfe1-4c0e-ab4f-5068d52e8ab6\" target=\"_top\" title=\"psysml:c7cd5194-cfe1-4c0e-ab4f-5068d52e8ab6\" xlink:actuate=\"onRequest\" xlink:href=\"psysml:c7cd5194-cfe1-4c0e-ab4f-5068d52e8ab6\" xlink:show=\"new\" xlink:title=\"psysml:c7cd5194-cfe1-4c0e-ab4f-5068d52e8ab6\" xlink:type=\"simple\"><polygon fill=\"#FFFFFF\" points=\"16,6,42,6,49,28.2969,114,28.2969,114,103,16,103,16,6\" style=\"stroke: #000000; stroke-width: 1.5;\"/><line style=\"stroke: #000000; stroke-width: 1.5;\" x1=\"16\" x2=\"49\" y1=\"28.2969\" y2=\"28.2969\"/><text fill=\"#000000\" font-family=\"sans-serif\" font-size=\"14\" font-weight=\"bold\" lengthAdjust=\"spacingAndGlyphs\" textLength=\"20\" x=\"20\" y=\"20.9951\">P1</text></a><!--MD5=[b4997ac47864f28c2f74865a473b2911]\n",
       "class E2--><a href=\"psysml:b3ac463f-3b68-4873-9109-eb20ca5c4915\" target=\"_top\" title=\"psysml:b3ac463f-3b68-4873-9109-eb20ca5c4915\" xlink:actuate=\"onRequest\" xlink:href=\"psysml:b3ac463f-3b68-4873-9109-eb20ca5c4915\" xlink:show=\"new\" xlink:title=\"psysml:b3ac463f-3b68-4873-9109-eb20ca5c4915\" xlink:type=\"simple\"><rect fill=\"#FFFFFF\" height=\"45.9375\" id=\"E2\" style=\"stroke: #383838; stroke-width: 1.5;\" width=\"66\" x=\"32\" y=\"41\"/><text fill=\"#000000\" font-family=\"sans-serif\" font-size=\"12\" font-style=\"italic\" lengthAdjust=\"spacingAndGlyphs\" textLength=\"64\" x=\"33\" y=\"57.1387\">«part def»</text><text fill=\"#000000\" font-family=\"sans-serif\" font-size=\"12\" lengthAdjust=\"spacingAndGlyphs\" textLength=\"8\" x=\"61\" y=\"71.1074\">A</text><line style=\"stroke: #383838; stroke-width: 1.5;\" x1=\"33\" x2=\"97\" y1=\"78.9375\" y2=\"78.9375\"/></a><!--MD5=[b8aacb1920a72d0df76b6b8cd1574e22]\n",
       "@startuml\r\n",
       " skinparam monochrome true\r\n",
       "skinparam classbackgroundcolor white\r\n",
       "skinparam shadowing false\r\n",
       "skinparam wrapWidth 300\r\n",
       "hide circle\r\n",
       "\r\n",
       "package \"P1\" as E1  [[psysml:c7cd5194-cfe1-4c0e-ab4f-5068d52e8ab6 ]]  {\r\n",
       "comp def \"A\" as E2  <<(T,blue)part def>> [[psysml:b3ac463f-3b68-4873-9109-eb20ca5c4915 ]] {\r\n",
       "}\r\n",
       "}\r\n",
       "@enduml\r\n",
       "\n",
       "PlantUML version 1.2020.13(Sat Jun 13 12:26:38 UTC 2020)\n",
       "(EPL source distribution)\n",
       "Java Runtime: OpenJDK Runtime Environment\n",
       "JVM: OpenJDK 64-Bit Server VM\n",
       "Default Encoding: UTF-8\n",
       "Language: en\n",
       "Country: null\n",
       "--></g></svg>"
      ]
     },
     "execution_count": 2,
     "metadata": {},
     "output_type": "execute_result"
    }
   ],
   "source": [
    "%viz --style=\"COMPTREE\" --view=\"Default\" \"P1\""
   ]
  },
  {
   "cell_type": "code",
   "execution_count": 3,
   "id": "romance-oklahoma",
   "metadata": {
    "execution": {
     "iopub.execute_input": "2021-03-26T15:44:33.613311Z",
     "iopub.status.busy": "2021-03-26T15:44:33.612660Z",
     "iopub.status.idle": "2021-03-26T15:44:33.646095Z",
     "shell.execute_reply": "2021-03-26T15:44:33.645795Z"
    }
   },
   "outputs": [
    {
     "data": {
      "image/svg+xml": [
       "<?xml version=\"1.0\" encoding=\"UTF-8\" standalone=\"no\"?><svg xmlns=\"http://www.w3.org/2000/svg\" xmlns:xlink=\"http://www.w3.org/1999/xlink\" contentScriptType=\"application/ecmascript\" contentStyleType=\"text/css\" height=\"115px\" preserveAspectRatio=\"none\" style=\"width:136px;height:115px;\" version=\"1.1\" viewBox=\"0 0 136 115\" width=\"136px\" zoomAndPan=\"magnify\"><defs/><g><!--MD5=[fbc87193dbaf4d95561dea2c320d4a47]\n",
       "cluster E1--><a href=\"psysml:c7cd5194-cfe1-4c0e-ab4f-5068d52e8ab6\" target=\"_top\" title=\"psysml:c7cd5194-cfe1-4c0e-ab4f-5068d52e8ab6\" xlink:actuate=\"onRequest\" xlink:href=\"psysml:c7cd5194-cfe1-4c0e-ab4f-5068d52e8ab6\" xlink:show=\"new\" xlink:title=\"psysml:c7cd5194-cfe1-4c0e-ab4f-5068d52e8ab6\" xlink:type=\"simple\"><polygon fill=\"#FFFFFF\" points=\"16,6,42,6,49,28.2969,114,28.2969,114,103,16,103,16,6\" style=\"stroke: #000000; stroke-width: 1.5;\"/><line style=\"stroke: #000000; stroke-width: 1.5;\" x1=\"16\" x2=\"49\" y1=\"28.2969\" y2=\"28.2969\"/><text fill=\"#000000\" font-family=\"sans-serif\" font-size=\"14\" font-weight=\"bold\" lengthAdjust=\"spacingAndGlyphs\" textLength=\"20\" x=\"20\" y=\"20.9951\">P1</text></a><!--MD5=[b4997ac47864f28c2f74865a473b2911]\n",
       "class E2--><a href=\"psysml:b3ac463f-3b68-4873-9109-eb20ca5c4915\" target=\"_top\" title=\"psysml:b3ac463f-3b68-4873-9109-eb20ca5c4915\" xlink:actuate=\"onRequest\" xlink:href=\"psysml:b3ac463f-3b68-4873-9109-eb20ca5c4915\" xlink:show=\"new\" xlink:title=\"psysml:b3ac463f-3b68-4873-9109-eb20ca5c4915\" xlink:type=\"simple\"><rect fill=\"#FFFFFF\" height=\"45.9375\" id=\"E2\" style=\"stroke: #383838; stroke-width: 1.5;\" width=\"66\" x=\"32\" y=\"41\"/><text fill=\"#000000\" font-family=\"sans-serif\" font-size=\"12\" font-style=\"italic\" lengthAdjust=\"spacingAndGlyphs\" textLength=\"64\" x=\"33\" y=\"57.1387\">«part def»</text><text fill=\"#000000\" font-family=\"sans-serif\" font-size=\"12\" lengthAdjust=\"spacingAndGlyphs\" textLength=\"8\" x=\"61\" y=\"71.1074\">A</text><line style=\"stroke: #383838; stroke-width: 1.5;\" x1=\"33\" x2=\"97\" y1=\"78.9375\" y2=\"78.9375\"/></a><!--MD5=[b8aacb1920a72d0df76b6b8cd1574e22]\n",
       "@startuml\r\n",
       " skinparam monochrome true\r\n",
       "skinparam classbackgroundcolor white\r\n",
       "skinparam shadowing false\r\n",
       "skinparam wrapWidth 300\r\n",
       "hide circle\r\n",
       "\r\n",
       "package \"P1\" as E1  [[psysml:c7cd5194-cfe1-4c0e-ab4f-5068d52e8ab6 ]]  {\r\n",
       "comp def \"A\" as E2  <<(T,blue)part def>> [[psysml:b3ac463f-3b68-4873-9109-eb20ca5c4915 ]] {\r\n",
       "}\r\n",
       "}\r\n",
       "@enduml\r\n",
       "\n",
       "PlantUML version 1.2020.13(Sat Jun 13 12:26:38 UTC 2020)\n",
       "(EPL source distribution)\n",
       "Java Runtime: OpenJDK Runtime Environment\n",
       "JVM: OpenJDK 64-Bit Server VM\n",
       "Default Encoding: UTF-8\n",
       "Language: en\n",
       "Country: null\n",
       "--></g></svg>"
      ]
     },
     "execution_count": 3,
     "metadata": {},
     "output_type": "execute_result"
    }
   ],
   "source": [
    "%viz --style=\"COMPTREE\" --view=\"Tree\" \"P1\""
   ]
  },
  {
   "cell_type": "code",
   "execution_count": 4,
   "id": "southwest-minneapolis",
   "metadata": {
    "execution": {
     "iopub.execute_input": "2021-03-26T15:44:33.701417Z",
     "iopub.status.busy": "2021-03-26T15:44:33.699919Z",
     "iopub.status.idle": "2021-03-26T15:44:33.712106Z",
     "shell.execute_reply": "2021-03-26T15:44:33.711777Z"
    }
   },
   "outputs": [
    {
     "data": {
      "image/svg+xml": [
       "<?xml version=\"1.0\" encoding=\"UTF-8\" standalone=\"no\"?><svg xmlns=\"http://www.w3.org/2000/svg\" xmlns:xlink=\"http://www.w3.org/1999/xlink\" contentScriptType=\"application/ecmascript\" contentStyleType=\"text/css\" height=\"12px\" preserveAspectRatio=\"none\" style=\"width:12px;height:12px;\" version=\"1.1\" viewBox=\"0 0 12 12\" width=\"12px\" zoomAndPan=\"magnify\"><defs/><g><!--MD5=[f19188ef49e11757b5c46753f95d9edc]\n",
       "@startuml\r\n",
       " skinparam monochrome true\r\n",
       "skinparam classbackgroundcolor white\r\n",
       "skinparam shadowing false\r\n",
       "skinparam wrapWidth 300\r\n",
       "hide circle\r\n",
       "\r\n",
       "@enduml\r\n",
       "\n",
       "PlantUML version 1.2020.13(Sat Jun 13 12:26:38 UTC 2020)\n",
       "(EPL source distribution)\n",
       "Java Runtime: OpenJDK Runtime Environment\n",
       "JVM: OpenJDK 64-Bit Server VM\n",
       "Default Encoding: UTF-8\n",
       "Language: en\n",
       "Country: null\n",
       "--></g></svg>"
      ]
     },
     "execution_count": 4,
     "metadata": {},
     "output_type": "execute_result"
    }
   ],
   "source": [
    "%viz --style=\"COMPTREE\" --view=\"State\" \"P1\""
   ]
  },
  {
   "cell_type": "code",
   "execution_count": 5,
   "id": "alive-water",
   "metadata": {
    "execution": {
     "iopub.execute_input": "2021-03-26T15:44:33.764184Z",
     "iopub.status.busy": "2021-03-26T15:44:33.763030Z",
     "iopub.status.idle": "2021-03-26T15:44:33.798144Z",
     "shell.execute_reply": "2021-03-26T15:44:33.798500Z"
    }
   },
   "outputs": [
    {
     "data": {
      "image/svg+xml": [
       "<?xml version=\"1.0\" encoding=\"UTF-8\" standalone=\"no\"?><svg xmlns=\"http://www.w3.org/2000/svg\" xmlns:xlink=\"http://www.w3.org/1999/xlink\" contentScriptType=\"application/ecmascript\" contentStyleType=\"text/css\" height=\"112px\" preserveAspectRatio=\"none\" style=\"width:142px;height:112px;\" version=\"1.1\" viewBox=\"0 0 142 112\" width=\"142px\" zoomAndPan=\"magnify\"><defs/><g><!--MD5=[fbc87193dbaf4d95561dea2c320d4a47]\n",
       "cluster E1--><a href=\"psysml:c7cd5194-cfe1-4c0e-ab4f-5068d52e8ab6\" target=\"_top\" title=\"psysml:c7cd5194-cfe1-4c0e-ab4f-5068d52e8ab6\" xlink:actuate=\"onRequest\" xlink:href=\"psysml:c7cd5194-cfe1-4c0e-ab4f-5068d52e8ab6\" xlink:show=\"new\" xlink:title=\"psysml:c7cd5194-cfe1-4c0e-ab4f-5068d52e8ab6\" xlink:type=\"simple\"><polygon fill=\"#FFFFFF\" points=\"16,6,42,6,49,28.2969,120,28.2969,120,100,16,100,16,6\" style=\"stroke: #000000; stroke-width: 1.5;\"/><line style=\"stroke: #000000; stroke-width: 1.5;\" x1=\"16\" x2=\"49\" y1=\"28.2969\" y2=\"28.2969\"/><text fill=\"#000000\" font-family=\"sans-serif\" font-size=\"14\" font-weight=\"bold\" lengthAdjust=\"spacingAndGlyphs\" textLength=\"20\" x=\"20\" y=\"20.9951\">P1</text></a><g id=\"E1.E2\"><a href=\"psysml:b3ac463f-3b68-4873-9109-eb20ca5c4915\" target=\"_top\" title=\"psysml:b3ac463f-3b68-4873-9109-eb20ca5c4915\" xlink:actuate=\"onRequest\" xlink:href=\"psysml:b3ac463f-3b68-4873-9109-eb20ca5c4915\" xlink:show=\"new\" xlink:title=\"psysml:b3ac463f-3b68-4873-9109-eb20ca5c4915\" xlink:type=\"simple\"><rect fill=\"#FFFFFF\" height=\"42.9375\" id=\"E2\" style=\"stroke: #383838; stroke-width: 1.5;\" width=\"71\" x=\"32.5\" y=\"41\"/><rect fill=\"#F8F8F8\" height=\"37.9375\" style=\"stroke: #383838; stroke-width: 1.5;\" width=\"71\" x=\"32.5\" y=\"41\"/><text fill=\"#000000\" font-family=\"sans-serif\" font-size=\"12\" font-style=\"italic\" lengthAdjust=\"spacingAndGlyphs\" textLength=\"64\" x=\"36\" y=\"57.1387\">«part def»</text><text fill=\"#000000\" font-family=\"sans-serif\" font-size=\"12\" lengthAdjust=\"spacingAndGlyphs\" textLength=\"8\" x=\"64\" y=\"71.1074\">A</text></a></g><!--MD5=[5b63902eddee67c57540e47aca641fcc]\n",
       "@startuml\r\n",
       "skinparam ranksep 10\r\n",
       "skinparam rectangle {\r\n",
       " backgroundColor<<block>> LightGreen\r\n",
       "}\r\n",
       " skinparam monochrome true\r\n",
       "skinparam classbackgroundcolor white\r\n",
       "skinparam shadowing false\r\n",
       "skinparam wrapWidth 300\r\n",
       "hide circle\r\n",
       "\r\n",
       "package \"P1\" as E1  [[psysml:c7cd5194-cfe1-4c0e-ab4f-5068d52e8ab6 ]]  {\r\n",
       "rec def \"A\" as E2  <<(T,blue)part def>> [[psysml:b3ac463f-3b68-4873-9109-eb20ca5c4915 ]] {\r\n",
       "}\r\n",
       "}\r\n",
       "@enduml\r\n",
       "\n",
       "PlantUML version 1.2020.13(Sat Jun 13 12:26:38 UTC 2020)\n",
       "(EPL source distribution)\n",
       "Java Runtime: OpenJDK Runtime Environment\n",
       "JVM: OpenJDK 64-Bit Server VM\n",
       "Default Encoding: UTF-8\n",
       "Language: en\n",
       "Country: null\n",
       "--></g></svg>"
      ]
     },
     "execution_count": 5,
     "metadata": {},
     "output_type": "execute_result"
    }
   ],
   "source": [
    "%viz --style=\"COMPTREE\" --view=\"Interconnection\" \"P1\""
   ]
  },
  {
   "cell_type": "code",
   "execution_count": 6,
   "id": "sensitive-tampa",
   "metadata": {
    "execution": {
     "iopub.execute_input": "2021-03-26T15:44:33.861552Z",
     "iopub.status.busy": "2021-03-26T15:44:33.861149Z",
     "iopub.status.idle": "2021-03-26T15:44:33.865513Z",
     "shell.execute_reply": "2021-03-26T15:44:33.865195Z"
    }
   },
   "outputs": [
    {
     "data": {
      "image/svg+xml": [
       "<?xml version=\"1.0\" encoding=\"UTF-8\" standalone=\"no\"?><svg xmlns=\"http://www.w3.org/2000/svg\" xmlns:xlink=\"http://www.w3.org/1999/xlink\" contentScriptType=\"application/ecmascript\" contentStyleType=\"text/css\" height=\"12px\" preserveAspectRatio=\"none\" style=\"width:12px;height:12px;\" version=\"1.1\" viewBox=\"0 0 12 12\" width=\"12px\" zoomAndPan=\"magnify\"><defs/><g><!--MD5=[655b888544ca4751ea36af1068543f84]\n",
       "@startuml\r\n",
       "skinparam ranksep 8\r\n",
       " skinparam monochrome true\r\n",
       "skinparam classbackgroundcolor white\r\n",
       "skinparam shadowing false\r\n",
       "skinparam wrapWidth 300\r\n",
       "hide circle\r\n",
       "\r\n",
       "@enduml\r\n",
       "\n",
       "PlantUML version 1.2020.13(Sat Jun 13 12:26:38 UTC 2020)\n",
       "(EPL source distribution)\n",
       "Java Runtime: OpenJDK Runtime Environment\n",
       "JVM: OpenJDK 64-Bit Server VM\n",
       "Default Encoding: UTF-8\n",
       "Language: en\n",
       "Country: null\n",
       "--></g></svg>"
      ]
     },
     "execution_count": 6,
     "metadata": {},
     "output_type": "execute_result"
    }
   ],
   "source": [
    "%viz --style=\"COMPTREE\" --view=\"Action\" \"P1\""
   ]
  },
  {
   "cell_type": "code",
   "execution_count": 7,
   "id": "complex-peoples",
   "metadata": {
    "execution": {
     "iopub.execute_input": "2021-03-26T15:44:33.923650Z",
     "iopub.status.busy": "2021-03-26T15:44:33.923161Z",
     "iopub.status.idle": "2021-03-26T15:44:33.960897Z",
     "shell.execute_reply": "2021-03-26T15:44:33.960540Z"
    }
   },
   "outputs": [
    {
     "data": {
      "image/svg+xml": [
       "<?xml version=\"1.0\" encoding=\"UTF-8\" standalone=\"no\"?><svg xmlns=\"http://www.w3.org/2000/svg\" xmlns:xlink=\"http://www.w3.org/1999/xlink\" contentScriptType=\"application/ecmascript\" contentStyleType=\"text/css\" height=\"115px\" preserveAspectRatio=\"none\" style=\"width:136px;height:115px;\" version=\"1.1\" viewBox=\"0 0 136 115\" width=\"136px\" zoomAndPan=\"magnify\"><defs/><g><!--MD5=[fbc87193dbaf4d95561dea2c320d4a47]\n",
       "cluster E1--><a href=\"psysml:c7cd5194-cfe1-4c0e-ab4f-5068d52e8ab6\" target=\"_top\" title=\"psysml:c7cd5194-cfe1-4c0e-ab4f-5068d52e8ab6\" xlink:actuate=\"onRequest\" xlink:href=\"psysml:c7cd5194-cfe1-4c0e-ab4f-5068d52e8ab6\" xlink:show=\"new\" xlink:title=\"psysml:c7cd5194-cfe1-4c0e-ab4f-5068d52e8ab6\" xlink:type=\"simple\"><polygon fill=\"#FFFFFF\" points=\"16,6,42,6,49,28.2969,114,28.2969,114,103,16,103,16,6\" style=\"stroke: #000000; stroke-width: 1.5;\"/><line style=\"stroke: #000000; stroke-width: 1.5;\" x1=\"16\" x2=\"49\" y1=\"28.2969\" y2=\"28.2969\"/><text fill=\"#000000\" font-family=\"sans-serif\" font-size=\"14\" font-weight=\"bold\" lengthAdjust=\"spacingAndGlyphs\" textLength=\"20\" x=\"20\" y=\"20.9951\">P1</text></a><!--MD5=[b4997ac47864f28c2f74865a473b2911]\n",
       "class E2--><a href=\"psysml:b3ac463f-3b68-4873-9109-eb20ca5c4915\" target=\"_top\" title=\"psysml:b3ac463f-3b68-4873-9109-eb20ca5c4915\" xlink:actuate=\"onRequest\" xlink:href=\"psysml:b3ac463f-3b68-4873-9109-eb20ca5c4915\" xlink:show=\"new\" xlink:title=\"psysml:b3ac463f-3b68-4873-9109-eb20ca5c4915\" xlink:type=\"simple\"><rect fill=\"#FFFFFF\" height=\"45.9375\" id=\"E2\" style=\"stroke: #383838; stroke-width: 1.5;\" width=\"66\" x=\"32\" y=\"41\"/><text fill=\"#000000\" font-family=\"sans-serif\" font-size=\"12\" font-style=\"italic\" lengthAdjust=\"spacingAndGlyphs\" textLength=\"64\" x=\"33\" y=\"57.1387\">«part def»</text><text fill=\"#000000\" font-family=\"sans-serif\" font-size=\"12\" lengthAdjust=\"spacingAndGlyphs\" textLength=\"8\" x=\"61\" y=\"71.1074\">A</text><line style=\"stroke: #383838; stroke-width: 1.5;\" x1=\"33\" x2=\"97\" y1=\"78.9375\" y2=\"78.9375\"/></a><!--MD5=[b8aacb1920a72d0df76b6b8cd1574e22]\n",
       "@startuml\r\n",
       " skinparam monochrome true\r\n",
       "skinparam classbackgroundcolor white\r\n",
       "skinparam shadowing false\r\n",
       "skinparam wrapWidth 300\r\n",
       "hide circle\r\n",
       "\r\n",
       "package \"P1\" as E1  [[psysml:c7cd5194-cfe1-4c0e-ab4f-5068d52e8ab6 ]]  {\r\n",
       "comp def \"A\" as E2  <<(T,blue)part def>> [[psysml:b3ac463f-3b68-4873-9109-eb20ca5c4915 ]] {\r\n",
       "}\r\n",
       "}\r\n",
       "@enduml\r\n",
       "\n",
       "PlantUML version 1.2020.13(Sat Jun 13 12:26:38 UTC 2020)\n",
       "(EPL source distribution)\n",
       "Java Runtime: OpenJDK Runtime Environment\n",
       "JVM: OpenJDK 64-Bit Server VM\n",
       "Default Encoding: UTF-8\n",
       "Language: en\n",
       "Country: null\n",
       "--></g></svg>"
      ]
     },
     "execution_count": 7,
     "metadata": {},
     "output_type": "execute_result"
    }
   ],
   "source": [
    "%viz --style=\"COMPTREE\" --view=\"Sequence\" \"P1\""
   ]
  },
  {
   "cell_type": "code",
   "execution_count": 8,
   "id": "looking-turtle",
   "metadata": {
    "execution": {
     "iopub.execute_input": "2021-03-26T15:44:34.014128Z",
     "iopub.status.busy": "2021-03-26T15:44:34.013803Z",
     "iopub.status.idle": "2021-03-26T15:44:34.050630Z",
     "shell.execute_reply": "2021-03-26T15:44:34.050971Z"
    }
   },
   "outputs": [
    {
     "data": {
      "image/svg+xml": [
       "<?xml version=\"1.0\" encoding=\"UTF-8\" standalone=\"no\"?><svg xmlns=\"http://www.w3.org/2000/svg\" xmlns:xlink=\"http://www.w3.org/1999/xlink\" contentScriptType=\"application/ecmascript\" contentStyleType=\"text/css\" height=\"115px\" preserveAspectRatio=\"none\" style=\"width:136px;height:115px;\" version=\"1.1\" viewBox=\"0 0 136 115\" width=\"136px\" zoomAndPan=\"magnify\"><defs/><g><!--MD5=[fbc87193dbaf4d95561dea2c320d4a47]\n",
       "cluster E1--><a href=\"psysml:c7cd5194-cfe1-4c0e-ab4f-5068d52e8ab6\" target=\"_top\" title=\"psysml:c7cd5194-cfe1-4c0e-ab4f-5068d52e8ab6\" xlink:actuate=\"onRequest\" xlink:href=\"psysml:c7cd5194-cfe1-4c0e-ab4f-5068d52e8ab6\" xlink:show=\"new\" xlink:title=\"psysml:c7cd5194-cfe1-4c0e-ab4f-5068d52e8ab6\" xlink:type=\"simple\"><polygon fill=\"#FFFFFF\" points=\"16,6,42,6,49,28.2969,114,28.2969,114,103,16,103,16,6\" style=\"stroke: #000000; stroke-width: 1.5;\"/><line style=\"stroke: #000000; stroke-width: 1.5;\" x1=\"16\" x2=\"49\" y1=\"28.2969\" y2=\"28.2969\"/><text fill=\"#000000\" font-family=\"sans-serif\" font-size=\"14\" font-weight=\"bold\" lengthAdjust=\"spacingAndGlyphs\" textLength=\"20\" x=\"20\" y=\"20.9951\">P1</text></a><!--MD5=[b4997ac47864f28c2f74865a473b2911]\n",
       "class E2--><a href=\"psysml:b3ac463f-3b68-4873-9109-eb20ca5c4915\" target=\"_top\" title=\"psysml:b3ac463f-3b68-4873-9109-eb20ca5c4915\" xlink:actuate=\"onRequest\" xlink:href=\"psysml:b3ac463f-3b68-4873-9109-eb20ca5c4915\" xlink:show=\"new\" xlink:title=\"psysml:b3ac463f-3b68-4873-9109-eb20ca5c4915\" xlink:type=\"simple\"><rect fill=\"#FFFFFF\" height=\"45.9375\" id=\"E2\" style=\"stroke: #383838; stroke-width: 1.5;\" width=\"66\" x=\"32\" y=\"41\"/><text fill=\"#000000\" font-family=\"sans-serif\" font-size=\"12\" font-style=\"italic\" lengthAdjust=\"spacingAndGlyphs\" textLength=\"64\" x=\"33\" y=\"57.1387\">«part def»</text><text fill=\"#000000\" font-family=\"sans-serif\" font-size=\"12\" lengthAdjust=\"spacingAndGlyphs\" textLength=\"8\" x=\"61\" y=\"71.1074\">A</text><line style=\"stroke: #383838; stroke-width: 1.5;\" x1=\"33\" x2=\"97\" y1=\"78.9375\" y2=\"78.9375\"/></a><!--MD5=[b8aacb1920a72d0df76b6b8cd1574e22]\n",
       "@startuml\r\n",
       " skinparam monochrome true\r\n",
       "skinparam classbackgroundcolor white\r\n",
       "skinparam shadowing false\r\n",
       "skinparam wrapWidth 300\r\n",
       "hide circle\r\n",
       "\r\n",
       "package \"P1\" as E1  [[psysml:c7cd5194-cfe1-4c0e-ab4f-5068d52e8ab6 ]]  {\r\n",
       "comp def \"A\" as E2  <<(T,blue)part def>> [[psysml:b3ac463f-3b68-4873-9109-eb20ca5c4915 ]] {\r\n",
       "}\r\n",
       "}\r\n",
       "@enduml\r\n",
       "\n",
       "PlantUML version 1.2020.13(Sat Jun 13 12:26:38 UTC 2020)\n",
       "(EPL source distribution)\n",
       "Java Runtime: OpenJDK Runtime Environment\n",
       "JVM: OpenJDK 64-Bit Server VM\n",
       "Default Encoding: UTF-8\n",
       "Language: en\n",
       "Country: null\n",
       "--></g></svg>"
      ]
     },
     "execution_count": 8,
     "metadata": {},
     "output_type": "execute_result"
    }
   ],
   "source": [
    "%viz --style=\"COMPTREE\" --view=\"MIXED\" \"P1\""
   ]
  },
  {
   "cell_type": "code",
   "execution_count": 9,
   "id": "fourth-cooking",
   "metadata": {
    "execution": {
     "iopub.execute_input": "2021-03-26T15:44:34.104446Z",
     "iopub.status.busy": "2021-03-26T15:44:34.104040Z",
     "iopub.status.idle": "2021-03-26T15:44:34.139222Z",
     "shell.execute_reply": "2021-03-26T15:44:34.139584Z"
    }
   },
   "outputs": [
    {
     "data": {
      "image/svg+xml": [
       "<?xml version=\"1.0\" encoding=\"UTF-8\" standalone=\"no\"?><svg xmlns=\"http://www.w3.org/2000/svg\" xmlns:xlink=\"http://www.w3.org/1999/xlink\" contentScriptType=\"application/ecmascript\" contentStyleType=\"text/css\" height=\"115px\" preserveAspectRatio=\"none\" style=\"width:136px;height:115px;\" version=\"1.1\" viewBox=\"0 0 136 115\" width=\"136px\" zoomAndPan=\"magnify\"><defs/><g><!--MD5=[fbc87193dbaf4d95561dea2c320d4a47]\n",
       "cluster E1--><a href=\"psysml:c7cd5194-cfe1-4c0e-ab4f-5068d52e8ab6\" target=\"_top\" title=\"psysml:c7cd5194-cfe1-4c0e-ab4f-5068d52e8ab6\" xlink:actuate=\"onRequest\" xlink:href=\"psysml:c7cd5194-cfe1-4c0e-ab4f-5068d52e8ab6\" xlink:show=\"new\" xlink:title=\"psysml:c7cd5194-cfe1-4c0e-ab4f-5068d52e8ab6\" xlink:type=\"simple\"><polygon fill=\"#FFFFFF\" points=\"16,6,42,6,49,28.2969,114,28.2969,114,103,16,103,16,6\" style=\"stroke: #000000; stroke-width: 1.5;\"/><line style=\"stroke: #000000; stroke-width: 1.5;\" x1=\"16\" x2=\"49\" y1=\"28.2969\" y2=\"28.2969\"/><text fill=\"#000000\" font-family=\"sans-serif\" font-size=\"14\" font-weight=\"bold\" lengthAdjust=\"spacingAndGlyphs\" textLength=\"20\" x=\"20\" y=\"20.9951\">P1</text></a><!--MD5=[b4997ac47864f28c2f74865a473b2911]\n",
       "class E2--><a href=\"psysml:b3ac463f-3b68-4873-9109-eb20ca5c4915\" target=\"_top\" title=\"psysml:b3ac463f-3b68-4873-9109-eb20ca5c4915\" xlink:actuate=\"onRequest\" xlink:href=\"psysml:b3ac463f-3b68-4873-9109-eb20ca5c4915\" xlink:show=\"new\" xlink:title=\"psysml:b3ac463f-3b68-4873-9109-eb20ca5c4915\" xlink:type=\"simple\"><rect fill=\"#FFFFFF\" height=\"45.9375\" id=\"E2\" style=\"stroke: #383838; stroke-width: 1.5;\" width=\"66\" x=\"32\" y=\"41\"/><text fill=\"#000000\" font-family=\"sans-serif\" font-size=\"12\" font-style=\"italic\" lengthAdjust=\"spacingAndGlyphs\" textLength=\"64\" x=\"33\" y=\"57.1387\">«part def»</text><text fill=\"#000000\" font-family=\"sans-serif\" font-size=\"12\" lengthAdjust=\"spacingAndGlyphs\" textLength=\"8\" x=\"61\" y=\"71.1074\">A</text><line style=\"stroke: #383838; stroke-width: 1.5;\" x1=\"33\" x2=\"97\" y1=\"78.9375\" y2=\"78.9375\"/></a><!--MD5=[e3f8e56b70e873549204a659af015e42]\n",
       "@startuml\r\n",
       "skinparam linetype polyline\r\n",
       "skinparam monochrome true\r\n",
       "skinparam classbackgroundcolor white\r\n",
       "skinparam shadowing false\r\n",
       "skinparam wrapWidth 300\r\n",
       "hide circle\r\n",
       "\r\n",
       "package \"P1\" as E1  [[psysml:c7cd5194-cfe1-4c0e-ab4f-5068d52e8ab6 ]]  {\r\n",
       "comp def \"A\" as E2  <<(T,blue)part def>> [[psysml:b3ac463f-3b68-4873-9109-eb20ca5c4915 ]] {\r\n",
       "}\r\n",
       "}\r\n",
       "@enduml\r\n",
       "\n",
       "PlantUML version 1.2020.13(Sat Jun 13 12:26:38 UTC 2020)\n",
       "(EPL source distribution)\n",
       "Java Runtime: OpenJDK Runtime Environment\n",
       "JVM: OpenJDK 64-Bit Server VM\n",
       "Default Encoding: UTF-8\n",
       "Language: en\n",
       "Country: null\n",
       "--></g></svg>"
      ]
     },
     "execution_count": 9,
     "metadata": {},
     "output_type": "execute_result"
    }
   ],
   "source": [
    "%viz --style=\"POLYLINE\" --view=\"Default\" \"P1\""
   ]
  },
  {
   "cell_type": "code",
   "execution_count": 10,
   "id": "efficient-peeing",
   "metadata": {
    "execution": {
     "iopub.execute_input": "2021-03-26T15:44:34.192076Z",
     "iopub.status.busy": "2021-03-26T15:44:34.191371Z",
     "iopub.status.idle": "2021-03-26T15:44:34.224377Z",
     "shell.execute_reply": "2021-03-26T15:44:34.223278Z"
    }
   },
   "outputs": [
    {
     "data": {
      "image/svg+xml": [
       "<?xml version=\"1.0\" encoding=\"UTF-8\" standalone=\"no\"?><svg xmlns=\"http://www.w3.org/2000/svg\" xmlns:xlink=\"http://www.w3.org/1999/xlink\" contentScriptType=\"application/ecmascript\" contentStyleType=\"text/css\" height=\"115px\" preserveAspectRatio=\"none\" style=\"width:136px;height:115px;\" version=\"1.1\" viewBox=\"0 0 136 115\" width=\"136px\" zoomAndPan=\"magnify\"><defs/><g><!--MD5=[fbc87193dbaf4d95561dea2c320d4a47]\n",
       "cluster E1--><a href=\"psysml:c7cd5194-cfe1-4c0e-ab4f-5068d52e8ab6\" target=\"_top\" title=\"psysml:c7cd5194-cfe1-4c0e-ab4f-5068d52e8ab6\" xlink:actuate=\"onRequest\" xlink:href=\"psysml:c7cd5194-cfe1-4c0e-ab4f-5068d52e8ab6\" xlink:show=\"new\" xlink:title=\"psysml:c7cd5194-cfe1-4c0e-ab4f-5068d52e8ab6\" xlink:type=\"simple\"><polygon fill=\"#FFFFFF\" points=\"16,6,42,6,49,28.2969,114,28.2969,114,103,16,103,16,6\" style=\"stroke: #000000; stroke-width: 1.5;\"/><line style=\"stroke: #000000; stroke-width: 1.5;\" x1=\"16\" x2=\"49\" y1=\"28.2969\" y2=\"28.2969\"/><text fill=\"#000000\" font-family=\"sans-serif\" font-size=\"14\" font-weight=\"bold\" lengthAdjust=\"spacingAndGlyphs\" textLength=\"20\" x=\"20\" y=\"20.9951\">P1</text></a><!--MD5=[b4997ac47864f28c2f74865a473b2911]\n",
       "class E2--><a href=\"psysml:b3ac463f-3b68-4873-9109-eb20ca5c4915\" target=\"_top\" title=\"psysml:b3ac463f-3b68-4873-9109-eb20ca5c4915\" xlink:actuate=\"onRequest\" xlink:href=\"psysml:b3ac463f-3b68-4873-9109-eb20ca5c4915\" xlink:show=\"new\" xlink:title=\"psysml:b3ac463f-3b68-4873-9109-eb20ca5c4915\" xlink:type=\"simple\"><rect fill=\"#FFFFFF\" height=\"45.9375\" id=\"E2\" style=\"stroke: #383838; stroke-width: 1.5;\" width=\"66\" x=\"32\" y=\"41\"/><text fill=\"#000000\" font-family=\"sans-serif\" font-size=\"12\" font-style=\"italic\" lengthAdjust=\"spacingAndGlyphs\" textLength=\"64\" x=\"33\" y=\"57.1387\">«part def»</text><text fill=\"#000000\" font-family=\"sans-serif\" font-size=\"12\" lengthAdjust=\"spacingAndGlyphs\" textLength=\"8\" x=\"61\" y=\"71.1074\">A</text><line style=\"stroke: #383838; stroke-width: 1.5;\" x1=\"33\" x2=\"97\" y1=\"78.9375\" y2=\"78.9375\"/></a><!--MD5=[e3f8e56b70e873549204a659af015e42]\n",
       "@startuml\r\n",
       "skinparam linetype polyline\r\n",
       "skinparam monochrome true\r\n",
       "skinparam classbackgroundcolor white\r\n",
       "skinparam shadowing false\r\n",
       "skinparam wrapWidth 300\r\n",
       "hide circle\r\n",
       "\r\n",
       "package \"P1\" as E1  [[psysml:c7cd5194-cfe1-4c0e-ab4f-5068d52e8ab6 ]]  {\r\n",
       "comp def \"A\" as E2  <<(T,blue)part def>> [[psysml:b3ac463f-3b68-4873-9109-eb20ca5c4915 ]] {\r\n",
       "}\r\n",
       "}\r\n",
       "@enduml\r\n",
       "\n",
       "PlantUML version 1.2020.13(Sat Jun 13 12:26:38 UTC 2020)\n",
       "(EPL source distribution)\n",
       "Java Runtime: OpenJDK Runtime Environment\n",
       "JVM: OpenJDK 64-Bit Server VM\n",
       "Default Encoding: UTF-8\n",
       "Language: en\n",
       "Country: null\n",
       "--></g></svg>"
      ]
     },
     "execution_count": 10,
     "metadata": {},
     "output_type": "execute_result"
    }
   ],
   "source": [
    "%viz --style=\"POLYLINE\" --view=\"Tree\" \"P1\""
   ]
  },
  {
   "cell_type": "code",
   "execution_count": 11,
   "id": "floppy-commander",
   "metadata": {
    "execution": {
     "iopub.execute_input": "2021-03-26T15:44:34.278285Z",
     "iopub.status.busy": "2021-03-26T15:44:34.276791Z",
     "iopub.status.idle": "2021-03-26T15:44:34.286048Z",
     "shell.execute_reply": "2021-03-26T15:44:34.286489Z"
    }
   },
   "outputs": [
    {
     "data": {
      "image/svg+xml": [
       "<?xml version=\"1.0\" encoding=\"UTF-8\" standalone=\"no\"?><svg xmlns=\"http://www.w3.org/2000/svg\" xmlns:xlink=\"http://www.w3.org/1999/xlink\" contentScriptType=\"application/ecmascript\" contentStyleType=\"text/css\" height=\"12px\" preserveAspectRatio=\"none\" style=\"width:12px;height:12px;\" version=\"1.1\" viewBox=\"0 0 12 12\" width=\"12px\" zoomAndPan=\"magnify\"><defs/><g><!--MD5=[896ac0e7a515d8dd7765a661cb4ee08b]\n",
       "@startuml\r\n",
       "skinparam linetype polyline\r\n",
       "skinparam monochrome true\r\n",
       "skinparam classbackgroundcolor white\r\n",
       "skinparam shadowing false\r\n",
       "skinparam wrapWidth 300\r\n",
       "hide circle\r\n",
       "\r\n",
       "@enduml\r\n",
       "\n",
       "PlantUML version 1.2020.13(Sat Jun 13 12:26:38 UTC 2020)\n",
       "(EPL source distribution)\n",
       "Java Runtime: OpenJDK Runtime Environment\n",
       "JVM: OpenJDK 64-Bit Server VM\n",
       "Default Encoding: UTF-8\n",
       "Language: en\n",
       "Country: null\n",
       "--></g></svg>"
      ]
     },
     "execution_count": 11,
     "metadata": {},
     "output_type": "execute_result"
    }
   ],
   "source": [
    "%viz --style=\"POLYLINE\" --view=\"State\" \"P1\""
   ]
  },
  {
   "cell_type": "code",
   "execution_count": 12,
   "id": "comparative-serbia",
   "metadata": {
    "execution": {
     "iopub.execute_input": "2021-03-26T15:44:34.338100Z",
     "iopub.status.busy": "2021-03-26T15:44:34.337622Z",
     "iopub.status.idle": "2021-03-26T15:44:34.366687Z",
     "shell.execute_reply": "2021-03-26T15:44:34.365897Z"
    }
   },
   "outputs": [
    {
     "data": {
      "image/svg+xml": [
       "<?xml version=\"1.0\" encoding=\"UTF-8\" standalone=\"no\"?><svg xmlns=\"http://www.w3.org/2000/svg\" xmlns:xlink=\"http://www.w3.org/1999/xlink\" contentScriptType=\"application/ecmascript\" contentStyleType=\"text/css\" height=\"112px\" preserveAspectRatio=\"none\" style=\"width:142px;height:112px;\" version=\"1.1\" viewBox=\"0 0 142 112\" width=\"142px\" zoomAndPan=\"magnify\"><defs/><g><!--MD5=[fbc87193dbaf4d95561dea2c320d4a47]\n",
       "cluster E1--><a href=\"psysml:c7cd5194-cfe1-4c0e-ab4f-5068d52e8ab6\" target=\"_top\" title=\"psysml:c7cd5194-cfe1-4c0e-ab4f-5068d52e8ab6\" xlink:actuate=\"onRequest\" xlink:href=\"psysml:c7cd5194-cfe1-4c0e-ab4f-5068d52e8ab6\" xlink:show=\"new\" xlink:title=\"psysml:c7cd5194-cfe1-4c0e-ab4f-5068d52e8ab6\" xlink:type=\"simple\"><polygon fill=\"#FFFFFF\" points=\"16,6,42,6,49,28.2969,120,28.2969,120,100,16,100,16,6\" style=\"stroke: #000000; stroke-width: 1.5;\"/><line style=\"stroke: #000000; stroke-width: 1.5;\" x1=\"16\" x2=\"49\" y1=\"28.2969\" y2=\"28.2969\"/><text fill=\"#000000\" font-family=\"sans-serif\" font-size=\"14\" font-weight=\"bold\" lengthAdjust=\"spacingAndGlyphs\" textLength=\"20\" x=\"20\" y=\"20.9951\">P1</text></a><g id=\"E1.E2\"><a href=\"psysml:b3ac463f-3b68-4873-9109-eb20ca5c4915\" target=\"_top\" title=\"psysml:b3ac463f-3b68-4873-9109-eb20ca5c4915\" xlink:actuate=\"onRequest\" xlink:href=\"psysml:b3ac463f-3b68-4873-9109-eb20ca5c4915\" xlink:show=\"new\" xlink:title=\"psysml:b3ac463f-3b68-4873-9109-eb20ca5c4915\" xlink:type=\"simple\"><rect fill=\"#FFFFFF\" height=\"42.9375\" id=\"E2\" style=\"stroke: #383838; stroke-width: 1.5;\" width=\"71\" x=\"32.5\" y=\"41\"/><rect fill=\"#F8F8F8\" height=\"37.9375\" style=\"stroke: #383838; stroke-width: 1.5;\" width=\"71\" x=\"32.5\" y=\"41\"/><text fill=\"#000000\" font-family=\"sans-serif\" font-size=\"12\" font-style=\"italic\" lengthAdjust=\"spacingAndGlyphs\" textLength=\"64\" x=\"36\" y=\"57.1387\">«part def»</text><text fill=\"#000000\" font-family=\"sans-serif\" font-size=\"12\" lengthAdjust=\"spacingAndGlyphs\" textLength=\"8\" x=\"64\" y=\"71.1074\">A</text></a></g><!--MD5=[cc66f7e40f76c93114f43a0e1050b349]\n",
       "@startuml\r\n",
       "skinparam ranksep 10\r\n",
       "skinparam rectangle {\r\n",
       " backgroundColor<<block>> LightGreen\r\n",
       "}\r\n",
       "skinparam linetype polyline\r\n",
       "skinparam monochrome true\r\n",
       "skinparam classbackgroundcolor white\r\n",
       "skinparam shadowing false\r\n",
       "skinparam wrapWidth 300\r\n",
       "hide circle\r\n",
       "\r\n",
       "package \"P1\" as E1  [[psysml:c7cd5194-cfe1-4c0e-ab4f-5068d52e8ab6 ]]  {\r\n",
       "rec def \"A\" as E2  <<(T,blue)part def>> [[psysml:b3ac463f-3b68-4873-9109-eb20ca5c4915 ]] {\r\n",
       "}\r\n",
       "}\r\n",
       "@enduml\r\n",
       "\n",
       "PlantUML version 1.2020.13(Sat Jun 13 12:26:38 UTC 2020)\n",
       "(EPL source distribution)\n",
       "Java Runtime: OpenJDK Runtime Environment\n",
       "JVM: OpenJDK 64-Bit Server VM\n",
       "Default Encoding: UTF-8\n",
       "Language: en\n",
       "Country: null\n",
       "--></g></svg>"
      ]
     },
     "execution_count": 12,
     "metadata": {},
     "output_type": "execute_result"
    }
   ],
   "source": [
    "%viz --style=\"POLYLINE\" --view=\"Interconnection\" \"P1\""
   ]
  },
  {
   "cell_type": "code",
   "execution_count": 13,
   "id": "legitimate-income",
   "metadata": {
    "execution": {
     "iopub.execute_input": "2021-03-26T15:44:34.420125Z",
     "iopub.status.busy": "2021-03-26T15:44:34.419444Z",
     "iopub.status.idle": "2021-03-26T15:44:34.428842Z",
     "shell.execute_reply": "2021-03-26T15:44:34.428532Z"
    }
   },
   "outputs": [
    {
     "data": {
      "image/svg+xml": [
       "<?xml version=\"1.0\" encoding=\"UTF-8\" standalone=\"no\"?><svg xmlns=\"http://www.w3.org/2000/svg\" xmlns:xlink=\"http://www.w3.org/1999/xlink\" contentScriptType=\"application/ecmascript\" contentStyleType=\"text/css\" height=\"12px\" preserveAspectRatio=\"none\" style=\"width:12px;height:12px;\" version=\"1.1\" viewBox=\"0 0 12 12\" width=\"12px\" zoomAndPan=\"magnify\"><defs/><g><!--MD5=[97bbf32f66ccd50cbc40d92ea8f5a65e]\n",
       "@startuml\r\n",
       "skinparam ranksep 8\r\n",
       "skinparam linetype polyline\r\n",
       "skinparam monochrome true\r\n",
       "skinparam classbackgroundcolor white\r\n",
       "skinparam shadowing false\r\n",
       "skinparam wrapWidth 300\r\n",
       "hide circle\r\n",
       "\r\n",
       "@enduml\r\n",
       "\n",
       "PlantUML version 1.2020.13(Sat Jun 13 12:26:38 UTC 2020)\n",
       "(EPL source distribution)\n",
       "Java Runtime: OpenJDK Runtime Environment\n",
       "JVM: OpenJDK 64-Bit Server VM\n",
       "Default Encoding: UTF-8\n",
       "Language: en\n",
       "Country: null\n",
       "--></g></svg>"
      ]
     },
     "execution_count": 13,
     "metadata": {},
     "output_type": "execute_result"
    }
   ],
   "source": [
    "%viz --style=\"POLYLINE\" --view=\"Action\" \"P1\""
   ]
  },
  {
   "cell_type": "code",
   "execution_count": 14,
   "id": "dominican-family",
   "metadata": {
    "execution": {
     "iopub.execute_input": "2021-03-26T15:44:34.481924Z",
     "iopub.status.busy": "2021-03-26T15:44:34.481255Z",
     "iopub.status.idle": "2021-03-26T15:44:34.509565Z",
     "shell.execute_reply": "2021-03-26T15:44:34.509091Z"
    }
   },
   "outputs": [
    {
     "data": {
      "image/svg+xml": [
       "<?xml version=\"1.0\" encoding=\"UTF-8\" standalone=\"no\"?><svg xmlns=\"http://www.w3.org/2000/svg\" xmlns:xlink=\"http://www.w3.org/1999/xlink\" contentScriptType=\"application/ecmascript\" contentStyleType=\"text/css\" height=\"115px\" preserveAspectRatio=\"none\" style=\"width:136px;height:115px;\" version=\"1.1\" viewBox=\"0 0 136 115\" width=\"136px\" zoomAndPan=\"magnify\"><defs/><g><!--MD5=[fbc87193dbaf4d95561dea2c320d4a47]\n",
       "cluster E1--><a href=\"psysml:c7cd5194-cfe1-4c0e-ab4f-5068d52e8ab6\" target=\"_top\" title=\"psysml:c7cd5194-cfe1-4c0e-ab4f-5068d52e8ab6\" xlink:actuate=\"onRequest\" xlink:href=\"psysml:c7cd5194-cfe1-4c0e-ab4f-5068d52e8ab6\" xlink:show=\"new\" xlink:title=\"psysml:c7cd5194-cfe1-4c0e-ab4f-5068d52e8ab6\" xlink:type=\"simple\"><polygon fill=\"#FFFFFF\" points=\"16,6,42,6,49,28.2969,114,28.2969,114,103,16,103,16,6\" style=\"stroke: #000000; stroke-width: 1.5;\"/><line style=\"stroke: #000000; stroke-width: 1.5;\" x1=\"16\" x2=\"49\" y1=\"28.2969\" y2=\"28.2969\"/><text fill=\"#000000\" font-family=\"sans-serif\" font-size=\"14\" font-weight=\"bold\" lengthAdjust=\"spacingAndGlyphs\" textLength=\"20\" x=\"20\" y=\"20.9951\">P1</text></a><!--MD5=[b4997ac47864f28c2f74865a473b2911]\n",
       "class E2--><a href=\"psysml:b3ac463f-3b68-4873-9109-eb20ca5c4915\" target=\"_top\" title=\"psysml:b3ac463f-3b68-4873-9109-eb20ca5c4915\" xlink:actuate=\"onRequest\" xlink:href=\"psysml:b3ac463f-3b68-4873-9109-eb20ca5c4915\" xlink:show=\"new\" xlink:title=\"psysml:b3ac463f-3b68-4873-9109-eb20ca5c4915\" xlink:type=\"simple\"><rect fill=\"#FFFFFF\" height=\"45.9375\" id=\"E2\" style=\"stroke: #383838; stroke-width: 1.5;\" width=\"66\" x=\"32\" y=\"41\"/><text fill=\"#000000\" font-family=\"sans-serif\" font-size=\"12\" font-style=\"italic\" lengthAdjust=\"spacingAndGlyphs\" textLength=\"64\" x=\"33\" y=\"57.1387\">«part def»</text><text fill=\"#000000\" font-family=\"sans-serif\" font-size=\"12\" lengthAdjust=\"spacingAndGlyphs\" textLength=\"8\" x=\"61\" y=\"71.1074\">A</text><line style=\"stroke: #383838; stroke-width: 1.5;\" x1=\"33\" x2=\"97\" y1=\"78.9375\" y2=\"78.9375\"/></a><!--MD5=[e3f8e56b70e873549204a659af015e42]\n",
       "@startuml\r\n",
       "skinparam linetype polyline\r\n",
       "skinparam monochrome true\r\n",
       "skinparam classbackgroundcolor white\r\n",
       "skinparam shadowing false\r\n",
       "skinparam wrapWidth 300\r\n",
       "hide circle\r\n",
       "\r\n",
       "package \"P1\" as E1  [[psysml:c7cd5194-cfe1-4c0e-ab4f-5068d52e8ab6 ]]  {\r\n",
       "comp def \"A\" as E2  <<(T,blue)part def>> [[psysml:b3ac463f-3b68-4873-9109-eb20ca5c4915 ]] {\r\n",
       "}\r\n",
       "}\r\n",
       "@enduml\r\n",
       "\n",
       "PlantUML version 1.2020.13(Sat Jun 13 12:26:38 UTC 2020)\n",
       "(EPL source distribution)\n",
       "Java Runtime: OpenJDK Runtime Environment\n",
       "JVM: OpenJDK 64-Bit Server VM\n",
       "Default Encoding: UTF-8\n",
       "Language: en\n",
       "Country: null\n",
       "--></g></svg>"
      ]
     },
     "execution_count": 14,
     "metadata": {},
     "output_type": "execute_result"
    }
   ],
   "source": [
    "%viz --style=\"POLYLINE\" --view=\"Sequence\" \"P1\""
   ]
  },
  {
   "cell_type": "code",
   "execution_count": 15,
   "id": "transparent-singing",
   "metadata": {
    "execution": {
     "iopub.execute_input": "2021-03-26T15:44:34.561465Z",
     "iopub.status.busy": "2021-03-26T15:44:34.560723Z",
     "iopub.status.idle": "2021-03-26T15:44:34.586707Z",
     "shell.execute_reply": "2021-03-26T15:44:34.586182Z"
    }
   },
   "outputs": [
    {
     "data": {
      "image/svg+xml": [
       "<?xml version=\"1.0\" encoding=\"UTF-8\" standalone=\"no\"?><svg xmlns=\"http://www.w3.org/2000/svg\" xmlns:xlink=\"http://www.w3.org/1999/xlink\" contentScriptType=\"application/ecmascript\" contentStyleType=\"text/css\" height=\"115px\" preserveAspectRatio=\"none\" style=\"width:136px;height:115px;\" version=\"1.1\" viewBox=\"0 0 136 115\" width=\"136px\" zoomAndPan=\"magnify\"><defs/><g><!--MD5=[fbc87193dbaf4d95561dea2c320d4a47]\n",
       "cluster E1--><a href=\"psysml:c7cd5194-cfe1-4c0e-ab4f-5068d52e8ab6\" target=\"_top\" title=\"psysml:c7cd5194-cfe1-4c0e-ab4f-5068d52e8ab6\" xlink:actuate=\"onRequest\" xlink:href=\"psysml:c7cd5194-cfe1-4c0e-ab4f-5068d52e8ab6\" xlink:show=\"new\" xlink:title=\"psysml:c7cd5194-cfe1-4c0e-ab4f-5068d52e8ab6\" xlink:type=\"simple\"><polygon fill=\"#FFFFFF\" points=\"16,6,42,6,49,28.2969,114,28.2969,114,103,16,103,16,6\" style=\"stroke: #000000; stroke-width: 1.5;\"/><line style=\"stroke: #000000; stroke-width: 1.5;\" x1=\"16\" x2=\"49\" y1=\"28.2969\" y2=\"28.2969\"/><text fill=\"#000000\" font-family=\"sans-serif\" font-size=\"14\" font-weight=\"bold\" lengthAdjust=\"spacingAndGlyphs\" textLength=\"20\" x=\"20\" y=\"20.9951\">P1</text></a><!--MD5=[b4997ac47864f28c2f74865a473b2911]\n",
       "class E2--><a href=\"psysml:b3ac463f-3b68-4873-9109-eb20ca5c4915\" target=\"_top\" title=\"psysml:b3ac463f-3b68-4873-9109-eb20ca5c4915\" xlink:actuate=\"onRequest\" xlink:href=\"psysml:b3ac463f-3b68-4873-9109-eb20ca5c4915\" xlink:show=\"new\" xlink:title=\"psysml:b3ac463f-3b68-4873-9109-eb20ca5c4915\" xlink:type=\"simple\"><rect fill=\"#FFFFFF\" height=\"45.9375\" id=\"E2\" style=\"stroke: #383838; stroke-width: 1.5;\" width=\"66\" x=\"32\" y=\"41\"/><text fill=\"#000000\" font-family=\"sans-serif\" font-size=\"12\" font-style=\"italic\" lengthAdjust=\"spacingAndGlyphs\" textLength=\"64\" x=\"33\" y=\"57.1387\">«part def»</text><text fill=\"#000000\" font-family=\"sans-serif\" font-size=\"12\" lengthAdjust=\"spacingAndGlyphs\" textLength=\"8\" x=\"61\" y=\"71.1074\">A</text><line style=\"stroke: #383838; stroke-width: 1.5;\" x1=\"33\" x2=\"97\" y1=\"78.9375\" y2=\"78.9375\"/></a><!--MD5=[e3f8e56b70e873549204a659af015e42]\n",
       "@startuml\r\n",
       "skinparam linetype polyline\r\n",
       "skinparam monochrome true\r\n",
       "skinparam classbackgroundcolor white\r\n",
       "skinparam shadowing false\r\n",
       "skinparam wrapWidth 300\r\n",
       "hide circle\r\n",
       "\r\n",
       "package \"P1\" as E1  [[psysml:c7cd5194-cfe1-4c0e-ab4f-5068d52e8ab6 ]]  {\r\n",
       "comp def \"A\" as E2  <<(T,blue)part def>> [[psysml:b3ac463f-3b68-4873-9109-eb20ca5c4915 ]] {\r\n",
       "}\r\n",
       "}\r\n",
       "@enduml\r\n",
       "\n",
       "PlantUML version 1.2020.13(Sat Jun 13 12:26:38 UTC 2020)\n",
       "(EPL source distribution)\n",
       "Java Runtime: OpenJDK Runtime Environment\n",
       "JVM: OpenJDK 64-Bit Server VM\n",
       "Default Encoding: UTF-8\n",
       "Language: en\n",
       "Country: null\n",
       "--></g></svg>"
      ]
     },
     "execution_count": 15,
     "metadata": {},
     "output_type": "execute_result"
    }
   ],
   "source": [
    "%viz --style=\"POLYLINE\" --view=\"MIXED\" \"P1\""
   ]
  },
  {
   "cell_type": "code",
   "execution_count": 16,
   "id": "annoying-accessory",
   "metadata": {
    "execution": {
     "iopub.execute_input": "2021-03-26T15:44:34.639080Z",
     "iopub.status.busy": "2021-03-26T15:44:34.638466Z",
     "iopub.status.idle": "2021-03-26T15:44:34.663597Z",
     "shell.execute_reply": "2021-03-26T15:44:34.663903Z"
    }
   },
   "outputs": [
    {
     "data": {
      "image/svg+xml": [
       "<?xml version=\"1.0\" encoding=\"UTF-8\" standalone=\"no\"?><svg xmlns=\"http://www.w3.org/2000/svg\" xmlns:xlink=\"http://www.w3.org/1999/xlink\" contentScriptType=\"application/ecmascript\" contentStyleType=\"text/css\" height=\"115px\" preserveAspectRatio=\"none\" style=\"width:136px;height:115px;\" version=\"1.1\" viewBox=\"0 0 136 115\" width=\"136px\" zoomAndPan=\"magnify\"><defs/><g><!--MD5=[fbc87193dbaf4d95561dea2c320d4a47]\n",
       "cluster E1--><a href=\"psysml:c7cd5194-cfe1-4c0e-ab4f-5068d52e8ab6\" target=\"_top\" title=\"psysml:c7cd5194-cfe1-4c0e-ab4f-5068d52e8ab6\" xlink:actuate=\"onRequest\" xlink:href=\"psysml:c7cd5194-cfe1-4c0e-ab4f-5068d52e8ab6\" xlink:show=\"new\" xlink:title=\"psysml:c7cd5194-cfe1-4c0e-ab4f-5068d52e8ab6\" xlink:type=\"simple\"><polygon fill=\"#FFFFFF\" points=\"16,6,42,6,49,28.2969,114,28.2969,114,103,16,103,16,6\" style=\"stroke: #000000; stroke-width: 1.5;\"/><line style=\"stroke: #000000; stroke-width: 1.5;\" x1=\"16\" x2=\"49\" y1=\"28.2969\" y2=\"28.2969\"/><text fill=\"#000000\" font-family=\"sans-serif\" font-size=\"14\" font-weight=\"bold\" lengthAdjust=\"spacingAndGlyphs\" textLength=\"20\" x=\"20\" y=\"20.9951\">P1</text></a><!--MD5=[b4997ac47864f28c2f74865a473b2911]\n",
       "class E2--><a href=\"psysml:b3ac463f-3b68-4873-9109-eb20ca5c4915\" target=\"_top\" title=\"psysml:b3ac463f-3b68-4873-9109-eb20ca5c4915\" xlink:actuate=\"onRequest\" xlink:href=\"psysml:b3ac463f-3b68-4873-9109-eb20ca5c4915\" xlink:show=\"new\" xlink:title=\"psysml:b3ac463f-3b68-4873-9109-eb20ca5c4915\" xlink:type=\"simple\"><rect fill=\"#FFFFFF\" height=\"45.9375\" id=\"E2\" style=\"stroke: #383838; stroke-width: 1.5;\" width=\"66\" x=\"32\" y=\"41\"/><text fill=\"#000000\" font-family=\"sans-serif\" font-size=\"12\" font-style=\"italic\" lengthAdjust=\"spacingAndGlyphs\" textLength=\"64\" x=\"33\" y=\"57.1387\">«part def»</text><text fill=\"#000000\" font-family=\"sans-serif\" font-size=\"12\" lengthAdjust=\"spacingAndGlyphs\" textLength=\"8\" x=\"61\" y=\"71.1074\">A</text><line style=\"stroke: #383838; stroke-width: 1.5;\" x1=\"33\" x2=\"97\" y1=\"78.9375\" y2=\"78.9375\"/></a><!--MD5=[804e7a0a277e938b20f3df9580efa02e]\n",
       "@startuml\r\n",
       "left to right direction\r\n",
       "skinparam monochrome true\r\n",
       "skinparam classbackgroundcolor white\r\n",
       "skinparam shadowing false\r\n",
       "skinparam wrapWidth 300\r\n",
       "hide circle\r\n",
       "\r\n",
       "package \"P1\" as E1  [[psysml:c7cd5194-cfe1-4c0e-ab4f-5068d52e8ab6 ]]  {\r\n",
       "comp def \"A\" as E2  <<(T,blue)part def>> [[psysml:b3ac463f-3b68-4873-9109-eb20ca5c4915 ]] {\r\n",
       "}\r\n",
       "}\r\n",
       "@enduml\r\n",
       "\n",
       "PlantUML version 1.2020.13(Sat Jun 13 12:26:38 UTC 2020)\n",
       "(EPL source distribution)\n",
       "Java Runtime: OpenJDK Runtime Environment\n",
       "JVM: OpenJDK 64-Bit Server VM\n",
       "Default Encoding: UTF-8\n",
       "Language: en\n",
       "Country: null\n",
       "--></g></svg>"
      ]
     },
     "execution_count": 16,
     "metadata": {},
     "output_type": "execute_result"
    }
   ],
   "source": [
    "%viz --style=\"LR\" --view=\"Default\" \"P1\""
   ]
  },
  {
   "cell_type": "code",
   "execution_count": 17,
   "id": "assumed-policy",
   "metadata": {
    "execution": {
     "iopub.execute_input": "2021-03-26T15:44:34.720979Z",
     "iopub.status.busy": "2021-03-26T15:44:34.720537Z",
     "iopub.status.idle": "2021-03-26T15:44:34.744824Z",
     "shell.execute_reply": "2021-03-26T15:44:34.744513Z"
    }
   },
   "outputs": [
    {
     "data": {
      "image/svg+xml": [
       "<?xml version=\"1.0\" encoding=\"UTF-8\" standalone=\"no\"?><svg xmlns=\"http://www.w3.org/2000/svg\" xmlns:xlink=\"http://www.w3.org/1999/xlink\" contentScriptType=\"application/ecmascript\" contentStyleType=\"text/css\" height=\"115px\" preserveAspectRatio=\"none\" style=\"width:136px;height:115px;\" version=\"1.1\" viewBox=\"0 0 136 115\" width=\"136px\" zoomAndPan=\"magnify\"><defs/><g><!--MD5=[fbc87193dbaf4d95561dea2c320d4a47]\n",
       "cluster E1--><a href=\"psysml:c7cd5194-cfe1-4c0e-ab4f-5068d52e8ab6\" target=\"_top\" title=\"psysml:c7cd5194-cfe1-4c0e-ab4f-5068d52e8ab6\" xlink:actuate=\"onRequest\" xlink:href=\"psysml:c7cd5194-cfe1-4c0e-ab4f-5068d52e8ab6\" xlink:show=\"new\" xlink:title=\"psysml:c7cd5194-cfe1-4c0e-ab4f-5068d52e8ab6\" xlink:type=\"simple\"><polygon fill=\"#FFFFFF\" points=\"16,6,42,6,49,28.2969,114,28.2969,114,103,16,103,16,6\" style=\"stroke: #000000; stroke-width: 1.5;\"/><line style=\"stroke: #000000; stroke-width: 1.5;\" x1=\"16\" x2=\"49\" y1=\"28.2969\" y2=\"28.2969\"/><text fill=\"#000000\" font-family=\"sans-serif\" font-size=\"14\" font-weight=\"bold\" lengthAdjust=\"spacingAndGlyphs\" textLength=\"20\" x=\"20\" y=\"20.9951\">P1</text></a><!--MD5=[b4997ac47864f28c2f74865a473b2911]\n",
       "class E2--><a href=\"psysml:b3ac463f-3b68-4873-9109-eb20ca5c4915\" target=\"_top\" title=\"psysml:b3ac463f-3b68-4873-9109-eb20ca5c4915\" xlink:actuate=\"onRequest\" xlink:href=\"psysml:b3ac463f-3b68-4873-9109-eb20ca5c4915\" xlink:show=\"new\" xlink:title=\"psysml:b3ac463f-3b68-4873-9109-eb20ca5c4915\" xlink:type=\"simple\"><rect fill=\"#FFFFFF\" height=\"45.9375\" id=\"E2\" style=\"stroke: #383838; stroke-width: 1.5;\" width=\"66\" x=\"32\" y=\"41\"/><text fill=\"#000000\" font-family=\"sans-serif\" font-size=\"12\" font-style=\"italic\" lengthAdjust=\"spacingAndGlyphs\" textLength=\"64\" x=\"33\" y=\"57.1387\">«part def»</text><text fill=\"#000000\" font-family=\"sans-serif\" font-size=\"12\" lengthAdjust=\"spacingAndGlyphs\" textLength=\"8\" x=\"61\" y=\"71.1074\">A</text><line style=\"stroke: #383838; stroke-width: 1.5;\" x1=\"33\" x2=\"97\" y1=\"78.9375\" y2=\"78.9375\"/></a><!--MD5=[804e7a0a277e938b20f3df9580efa02e]\n",
       "@startuml\r\n",
       "left to right direction\r\n",
       "skinparam monochrome true\r\n",
       "skinparam classbackgroundcolor white\r\n",
       "skinparam shadowing false\r\n",
       "skinparam wrapWidth 300\r\n",
       "hide circle\r\n",
       "\r\n",
       "package \"P1\" as E1  [[psysml:c7cd5194-cfe1-4c0e-ab4f-5068d52e8ab6 ]]  {\r\n",
       "comp def \"A\" as E2  <<(T,blue)part def>> [[psysml:b3ac463f-3b68-4873-9109-eb20ca5c4915 ]] {\r\n",
       "}\r\n",
       "}\r\n",
       "@enduml\r\n",
       "\n",
       "PlantUML version 1.2020.13(Sat Jun 13 12:26:38 UTC 2020)\n",
       "(EPL source distribution)\n",
       "Java Runtime: OpenJDK Runtime Environment\n",
       "JVM: OpenJDK 64-Bit Server VM\n",
       "Default Encoding: UTF-8\n",
       "Language: en\n",
       "Country: null\n",
       "--></g></svg>"
      ]
     },
     "execution_count": 17,
     "metadata": {},
     "output_type": "execute_result"
    }
   ],
   "source": [
    "%viz --style=\"LR\" --view=\"Tree\" \"P1\""
   ]
  },
  {
   "cell_type": "code",
   "execution_count": 18,
   "id": "entertaining-shade",
   "metadata": {
    "execution": {
     "iopub.execute_input": "2021-03-26T15:44:34.797991Z",
     "iopub.status.busy": "2021-03-26T15:44:34.797038Z",
     "iopub.status.idle": "2021-03-26T15:44:34.803633Z",
     "shell.execute_reply": "2021-03-26T15:44:34.804023Z"
    }
   },
   "outputs": [
    {
     "data": {
      "image/svg+xml": [
       "<?xml version=\"1.0\" encoding=\"UTF-8\" standalone=\"no\"?><svg xmlns=\"http://www.w3.org/2000/svg\" xmlns:xlink=\"http://www.w3.org/1999/xlink\" contentScriptType=\"application/ecmascript\" contentStyleType=\"text/css\" height=\"12px\" preserveAspectRatio=\"none\" style=\"width:12px;height:12px;\" version=\"1.1\" viewBox=\"0 0 12 12\" width=\"12px\" zoomAndPan=\"magnify\"><defs/><g><!--MD5=[19d285c9d72a204eba4e2cd117d745e8]\n",
       "@startuml\r\n",
       "left to right direction\r\n",
       "skinparam monochrome true\r\n",
       "skinparam classbackgroundcolor white\r\n",
       "skinparam shadowing false\r\n",
       "skinparam wrapWidth 300\r\n",
       "hide circle\r\n",
       "\r\n",
       "@enduml\r\n",
       "\n",
       "PlantUML version 1.2020.13(Sat Jun 13 12:26:38 UTC 2020)\n",
       "(EPL source distribution)\n",
       "Java Runtime: OpenJDK Runtime Environment\n",
       "JVM: OpenJDK 64-Bit Server VM\n",
       "Default Encoding: UTF-8\n",
       "Language: en\n",
       "Country: null\n",
       "--></g></svg>"
      ]
     },
     "execution_count": 18,
     "metadata": {},
     "output_type": "execute_result"
    }
   ],
   "source": [
    "%viz --style=\"LR\" --view=\"State\" \"P1\""
   ]
  },
  {
   "cell_type": "code",
   "execution_count": 19,
   "id": "competitive-cache",
   "metadata": {
    "execution": {
     "iopub.execute_input": "2021-03-26T15:44:34.857233Z",
     "iopub.status.busy": "2021-03-26T15:44:34.856213Z",
     "iopub.status.idle": "2021-03-26T15:44:34.889472Z",
     "shell.execute_reply": "2021-03-26T15:44:34.889785Z"
    }
   },
   "outputs": [
    {
     "data": {
      "image/svg+xml": [
       "<?xml version=\"1.0\" encoding=\"UTF-8\" standalone=\"no\"?><svg xmlns=\"http://www.w3.org/2000/svg\" xmlns:xlink=\"http://www.w3.org/1999/xlink\" contentScriptType=\"application/ecmascript\" contentStyleType=\"text/css\" height=\"113px\" preserveAspectRatio=\"none\" style=\"width:141px;height:113px;\" version=\"1.1\" viewBox=\"0 0 141 113\" width=\"141px\" zoomAndPan=\"magnify\"><defs/><g><!--MD5=[fbc87193dbaf4d95561dea2c320d4a47]\n",
       "cluster E1--><a href=\"psysml:c7cd5194-cfe1-4c0e-ab4f-5068d52e8ab6\" target=\"_top\" title=\"psysml:c7cd5194-cfe1-4c0e-ab4f-5068d52e8ab6\" xlink:actuate=\"onRequest\" xlink:href=\"psysml:c7cd5194-cfe1-4c0e-ab4f-5068d52e8ab6\" xlink:show=\"new\" xlink:title=\"psysml:c7cd5194-cfe1-4c0e-ab4f-5068d52e8ab6\" xlink:type=\"simple\"><polygon fill=\"#FFFFFF\" points=\"16,6,42,6,49,28.2969,119,28.2969,119,101,16,101,16,6\" style=\"stroke: #000000; stroke-width: 1.5;\"/><line style=\"stroke: #000000; stroke-width: 1.5;\" x1=\"16\" x2=\"49\" y1=\"28.2969\" y2=\"28.2969\"/><text fill=\"#000000\" font-family=\"sans-serif\" font-size=\"14\" font-weight=\"bold\" lengthAdjust=\"spacingAndGlyphs\" textLength=\"20\" x=\"20\" y=\"20.9951\">P1</text></a><g id=\"E1.E2\"><a href=\"psysml:b3ac463f-3b68-4873-9109-eb20ca5c4915\" target=\"_top\" title=\"psysml:b3ac463f-3b68-4873-9109-eb20ca5c4915\" xlink:actuate=\"onRequest\" xlink:href=\"psysml:b3ac463f-3b68-4873-9109-eb20ca5c4915\" xlink:show=\"new\" xlink:title=\"psysml:b3ac463f-3b68-4873-9109-eb20ca5c4915\" xlink:type=\"simple\"><rect fill=\"#FFFFFF\" height=\"42.9375\" id=\"E2\" style=\"stroke: #383838; stroke-width: 1.5;\" width=\"71\" x=\"32\" y=\"41.5\"/><rect fill=\"#F8F8F8\" height=\"37.9375\" style=\"stroke: #383838; stroke-width: 1.5;\" width=\"71\" x=\"32\" y=\"41.5\"/><text fill=\"#000000\" font-family=\"sans-serif\" font-size=\"12\" font-style=\"italic\" lengthAdjust=\"spacingAndGlyphs\" textLength=\"64\" x=\"35.5\" y=\"57.6387\">«part def»</text><text fill=\"#000000\" font-family=\"sans-serif\" font-size=\"12\" lengthAdjust=\"spacingAndGlyphs\" textLength=\"8\" x=\"63.5\" y=\"71.6074\">A</text></a></g><!--MD5=[4f4eaffb8416e57236d41251df623897]\n",
       "@startuml\r\n",
       "skinparam ranksep 10\r\n",
       "skinparam rectangle {\r\n",
       " backgroundColor<<block>> LightGreen\r\n",
       "}\r\n",
       "left to right direction\r\n",
       "skinparam monochrome true\r\n",
       "skinparam classbackgroundcolor white\r\n",
       "skinparam shadowing false\r\n",
       "skinparam wrapWidth 300\r\n",
       "hide circle\r\n",
       "\r\n",
       "package \"P1\" as E1  [[psysml:c7cd5194-cfe1-4c0e-ab4f-5068d52e8ab6 ]]  {\r\n",
       "rec def \"A\" as E2  <<(T,blue)part def>> [[psysml:b3ac463f-3b68-4873-9109-eb20ca5c4915 ]] {\r\n",
       "}\r\n",
       "}\r\n",
       "@enduml\r\n",
       "\n",
       "PlantUML version 1.2020.13(Sat Jun 13 12:26:38 UTC 2020)\n",
       "(EPL source distribution)\n",
       "Java Runtime: OpenJDK Runtime Environment\n",
       "JVM: OpenJDK 64-Bit Server VM\n",
       "Default Encoding: UTF-8\n",
       "Language: en\n",
       "Country: null\n",
       "--></g></svg>"
      ]
     },
     "execution_count": 19,
     "metadata": {},
     "output_type": "execute_result"
    }
   ],
   "source": [
    "%viz --style=\"LR\" --view=\"Interconnection\" \"P1\""
   ]
  },
  {
   "cell_type": "code",
   "execution_count": 20,
   "id": "stable-motivation",
   "metadata": {
    "execution": {
     "iopub.execute_input": "2021-03-26T15:44:34.940438Z",
     "iopub.status.busy": "2021-03-26T15:44:34.939965Z",
     "iopub.status.idle": "2021-03-26T15:44:34.945074Z",
     "shell.execute_reply": "2021-03-26T15:44:34.945371Z"
    }
   },
   "outputs": [
    {
     "data": {
      "image/svg+xml": [
       "<?xml version=\"1.0\" encoding=\"UTF-8\" standalone=\"no\"?><svg xmlns=\"http://www.w3.org/2000/svg\" xmlns:xlink=\"http://www.w3.org/1999/xlink\" contentScriptType=\"application/ecmascript\" contentStyleType=\"text/css\" height=\"12px\" preserveAspectRatio=\"none\" style=\"width:12px;height:12px;\" version=\"1.1\" viewBox=\"0 0 12 12\" width=\"12px\" zoomAndPan=\"magnify\"><defs/><g><!--MD5=[7aeb398939421629f6affaa4a1a7b125]\n",
       "@startuml\r\n",
       "skinparam ranksep 8\r\n",
       "left to right direction\r\n",
       "skinparam monochrome true\r\n",
       "skinparam classbackgroundcolor white\r\n",
       "skinparam shadowing false\r\n",
       "skinparam wrapWidth 300\r\n",
       "hide circle\r\n",
       "\r\n",
       "@enduml\r\n",
       "\n",
       "PlantUML version 1.2020.13(Sat Jun 13 12:26:38 UTC 2020)\n",
       "(EPL source distribution)\n",
       "Java Runtime: OpenJDK Runtime Environment\n",
       "JVM: OpenJDK 64-Bit Server VM\n",
       "Default Encoding: UTF-8\n",
       "Language: en\n",
       "Country: null\n",
       "--></g></svg>"
      ]
     },
     "execution_count": 20,
     "metadata": {},
     "output_type": "execute_result"
    }
   ],
   "source": [
    "%viz --style=\"LR\" --view=\"Action\" \"P1\""
   ]
  },
  {
   "cell_type": "code",
   "execution_count": 21,
   "id": "general-ownership",
   "metadata": {
    "execution": {
     "iopub.execute_input": "2021-03-26T15:44:34.999859Z",
     "iopub.status.busy": "2021-03-26T15:44:34.999330Z",
     "iopub.status.idle": "2021-03-26T15:44:35.023130Z",
     "shell.execute_reply": "2021-03-26T15:44:35.022832Z"
    }
   },
   "outputs": [
    {
     "data": {
      "image/svg+xml": [
       "<?xml version=\"1.0\" encoding=\"UTF-8\" standalone=\"no\"?><svg xmlns=\"http://www.w3.org/2000/svg\" xmlns:xlink=\"http://www.w3.org/1999/xlink\" contentScriptType=\"application/ecmascript\" contentStyleType=\"text/css\" height=\"115px\" preserveAspectRatio=\"none\" style=\"width:136px;height:115px;\" version=\"1.1\" viewBox=\"0 0 136 115\" width=\"136px\" zoomAndPan=\"magnify\"><defs/><g><!--MD5=[fbc87193dbaf4d95561dea2c320d4a47]\n",
       "cluster E1--><a href=\"psysml:c7cd5194-cfe1-4c0e-ab4f-5068d52e8ab6\" target=\"_top\" title=\"psysml:c7cd5194-cfe1-4c0e-ab4f-5068d52e8ab6\" xlink:actuate=\"onRequest\" xlink:href=\"psysml:c7cd5194-cfe1-4c0e-ab4f-5068d52e8ab6\" xlink:show=\"new\" xlink:title=\"psysml:c7cd5194-cfe1-4c0e-ab4f-5068d52e8ab6\" xlink:type=\"simple\"><polygon fill=\"#FFFFFF\" points=\"16,6,42,6,49,28.2969,114,28.2969,114,103,16,103,16,6\" style=\"stroke: #000000; stroke-width: 1.5;\"/><line style=\"stroke: #000000; stroke-width: 1.5;\" x1=\"16\" x2=\"49\" y1=\"28.2969\" y2=\"28.2969\"/><text fill=\"#000000\" font-family=\"sans-serif\" font-size=\"14\" font-weight=\"bold\" lengthAdjust=\"spacingAndGlyphs\" textLength=\"20\" x=\"20\" y=\"20.9951\">P1</text></a><!--MD5=[b4997ac47864f28c2f74865a473b2911]\n",
       "class E2--><a href=\"psysml:b3ac463f-3b68-4873-9109-eb20ca5c4915\" target=\"_top\" title=\"psysml:b3ac463f-3b68-4873-9109-eb20ca5c4915\" xlink:actuate=\"onRequest\" xlink:href=\"psysml:b3ac463f-3b68-4873-9109-eb20ca5c4915\" xlink:show=\"new\" xlink:title=\"psysml:b3ac463f-3b68-4873-9109-eb20ca5c4915\" xlink:type=\"simple\"><rect fill=\"#FFFFFF\" height=\"45.9375\" id=\"E2\" style=\"stroke: #383838; stroke-width: 1.5;\" width=\"66\" x=\"32\" y=\"41\"/><text fill=\"#000000\" font-family=\"sans-serif\" font-size=\"12\" font-style=\"italic\" lengthAdjust=\"spacingAndGlyphs\" textLength=\"64\" x=\"33\" y=\"57.1387\">«part def»</text><text fill=\"#000000\" font-family=\"sans-serif\" font-size=\"12\" lengthAdjust=\"spacingAndGlyphs\" textLength=\"8\" x=\"61\" y=\"71.1074\">A</text><line style=\"stroke: #383838; stroke-width: 1.5;\" x1=\"33\" x2=\"97\" y1=\"78.9375\" y2=\"78.9375\"/></a><!--MD5=[804e7a0a277e938b20f3df9580efa02e]\n",
       "@startuml\r\n",
       "left to right direction\r\n",
       "skinparam monochrome true\r\n",
       "skinparam classbackgroundcolor white\r\n",
       "skinparam shadowing false\r\n",
       "skinparam wrapWidth 300\r\n",
       "hide circle\r\n",
       "\r\n",
       "package \"P1\" as E1  [[psysml:c7cd5194-cfe1-4c0e-ab4f-5068d52e8ab6 ]]  {\r\n",
       "comp def \"A\" as E2  <<(T,blue)part def>> [[psysml:b3ac463f-3b68-4873-9109-eb20ca5c4915 ]] {\r\n",
       "}\r\n",
       "}\r\n",
       "@enduml\r\n",
       "\n",
       "PlantUML version 1.2020.13(Sat Jun 13 12:26:38 UTC 2020)\n",
       "(EPL source distribution)\n",
       "Java Runtime: OpenJDK Runtime Environment\n",
       "JVM: OpenJDK 64-Bit Server VM\n",
       "Default Encoding: UTF-8\n",
       "Language: en\n",
       "Country: null\n",
       "--></g></svg>"
      ]
     },
     "execution_count": 21,
     "metadata": {},
     "output_type": "execute_result"
    }
   ],
   "source": [
    "%viz --style=\"LR\" --view=\"Sequence\" \"P1\""
   ]
  },
  {
   "cell_type": "code",
   "execution_count": 22,
   "id": "musical-fetish",
   "metadata": {
    "execution": {
     "iopub.execute_input": "2021-03-26T15:44:35.076880Z",
     "iopub.status.busy": "2021-03-26T15:44:35.075948Z",
     "iopub.status.idle": "2021-03-26T15:44:35.098785Z",
     "shell.execute_reply": "2021-03-26T15:44:35.099094Z"
    }
   },
   "outputs": [
    {
     "data": {
      "image/svg+xml": [
       "<?xml version=\"1.0\" encoding=\"UTF-8\" standalone=\"no\"?><svg xmlns=\"http://www.w3.org/2000/svg\" xmlns:xlink=\"http://www.w3.org/1999/xlink\" contentScriptType=\"application/ecmascript\" contentStyleType=\"text/css\" height=\"115px\" preserveAspectRatio=\"none\" style=\"width:136px;height:115px;\" version=\"1.1\" viewBox=\"0 0 136 115\" width=\"136px\" zoomAndPan=\"magnify\"><defs/><g><!--MD5=[fbc87193dbaf4d95561dea2c320d4a47]\n",
       "cluster E1--><a href=\"psysml:c7cd5194-cfe1-4c0e-ab4f-5068d52e8ab6\" target=\"_top\" title=\"psysml:c7cd5194-cfe1-4c0e-ab4f-5068d52e8ab6\" xlink:actuate=\"onRequest\" xlink:href=\"psysml:c7cd5194-cfe1-4c0e-ab4f-5068d52e8ab6\" xlink:show=\"new\" xlink:title=\"psysml:c7cd5194-cfe1-4c0e-ab4f-5068d52e8ab6\" xlink:type=\"simple\"><polygon fill=\"#FFFFFF\" points=\"16,6,42,6,49,28.2969,114,28.2969,114,103,16,103,16,6\" style=\"stroke: #000000; stroke-width: 1.5;\"/><line style=\"stroke: #000000; stroke-width: 1.5;\" x1=\"16\" x2=\"49\" y1=\"28.2969\" y2=\"28.2969\"/><text fill=\"#000000\" font-family=\"sans-serif\" font-size=\"14\" font-weight=\"bold\" lengthAdjust=\"spacingAndGlyphs\" textLength=\"20\" x=\"20\" y=\"20.9951\">P1</text></a><!--MD5=[b4997ac47864f28c2f74865a473b2911]\n",
       "class E2--><a href=\"psysml:b3ac463f-3b68-4873-9109-eb20ca5c4915\" target=\"_top\" title=\"psysml:b3ac463f-3b68-4873-9109-eb20ca5c4915\" xlink:actuate=\"onRequest\" xlink:href=\"psysml:b3ac463f-3b68-4873-9109-eb20ca5c4915\" xlink:show=\"new\" xlink:title=\"psysml:b3ac463f-3b68-4873-9109-eb20ca5c4915\" xlink:type=\"simple\"><rect fill=\"#FFFFFF\" height=\"45.9375\" id=\"E2\" style=\"stroke: #383838; stroke-width: 1.5;\" width=\"66\" x=\"32\" y=\"41\"/><text fill=\"#000000\" font-family=\"sans-serif\" font-size=\"12\" font-style=\"italic\" lengthAdjust=\"spacingAndGlyphs\" textLength=\"64\" x=\"33\" y=\"57.1387\">«part def»</text><text fill=\"#000000\" font-family=\"sans-serif\" font-size=\"12\" lengthAdjust=\"spacingAndGlyphs\" textLength=\"8\" x=\"61\" y=\"71.1074\">A</text><line style=\"stroke: #383838; stroke-width: 1.5;\" x1=\"33\" x2=\"97\" y1=\"78.9375\" y2=\"78.9375\"/></a><!--MD5=[804e7a0a277e938b20f3df9580efa02e]\n",
       "@startuml\r\n",
       "left to right direction\r\n",
       "skinparam monochrome true\r\n",
       "skinparam classbackgroundcolor white\r\n",
       "skinparam shadowing false\r\n",
       "skinparam wrapWidth 300\r\n",
       "hide circle\r\n",
       "\r\n",
       "package \"P1\" as E1  [[psysml:c7cd5194-cfe1-4c0e-ab4f-5068d52e8ab6 ]]  {\r\n",
       "comp def \"A\" as E2  <<(T,blue)part def>> [[psysml:b3ac463f-3b68-4873-9109-eb20ca5c4915 ]] {\r\n",
       "}\r\n",
       "}\r\n",
       "@enduml\r\n",
       "\n",
       "PlantUML version 1.2020.13(Sat Jun 13 12:26:38 UTC 2020)\n",
       "(EPL source distribution)\n",
       "Java Runtime: OpenJDK Runtime Environment\n",
       "JVM: OpenJDK 64-Bit Server VM\n",
       "Default Encoding: UTF-8\n",
       "Language: en\n",
       "Country: null\n",
       "--></g></svg>"
      ]
     },
     "execution_count": 22,
     "metadata": {},
     "output_type": "execute_result"
    }
   ],
   "source": [
    "%viz --style=\"LR\" --view=\"MIXED\" \"P1\""
   ]
  },
  {
   "cell_type": "code",
   "execution_count": 23,
   "id": "supported-international",
   "metadata": {
    "execution": {
     "iopub.execute_input": "2021-03-26T15:44:35.150969Z",
     "iopub.status.busy": "2021-03-26T15:44:35.150125Z",
     "iopub.status.idle": "2021-03-26T15:44:35.174411Z",
     "shell.execute_reply": "2021-03-26T15:44:35.174022Z"
    }
   },
   "outputs": [
    {
     "data": {
      "image/svg+xml": [
       "<?xml version=\"1.0\" encoding=\"UTF-8\" standalone=\"no\"?><svg xmlns=\"http://www.w3.org/2000/svg\" xmlns:xlink=\"http://www.w3.org/1999/xlink\" contentScriptType=\"application/ecmascript\" contentStyleType=\"text/css\" height=\"115px\" preserveAspectRatio=\"none\" style=\"width:136px;height:115px;\" version=\"1.1\" viewBox=\"0 0 136 115\" width=\"136px\" zoomAndPan=\"magnify\"><defs><filter height=\"300%\" id=\"f72jzetsqatxw\" width=\"300%\" x=\"-1\" y=\"-1\"><feGaussianBlur result=\"blurOut\" stdDeviation=\"2.0\"/><feColorMatrix in=\"blurOut\" result=\"blurOut2\" type=\"matrix\" values=\"0 0 0 0 0 0 0 0 0 0 0 0 0 0 0 0 0 0 .4 0\"/><feOffset dx=\"4.0\" dy=\"4.0\" in=\"blurOut2\" result=\"blurOut3\"/><feBlend in=\"SourceGraphic\" in2=\"blurOut3\" mode=\"normal\"/></filter></defs><g><!--MD5=[fbc87193dbaf4d95561dea2c320d4a47]\n",
       "cluster E1--><a href=\"psysml:c7cd5194-cfe1-4c0e-ab4f-5068d52e8ab6\" target=\"_top\" title=\"psysml:c7cd5194-cfe1-4c0e-ab4f-5068d52e8ab6\" xlink:actuate=\"onRequest\" xlink:href=\"psysml:c7cd5194-cfe1-4c0e-ab4f-5068d52e8ab6\" xlink:show=\"new\" xlink:title=\"psysml:c7cd5194-cfe1-4c0e-ab4f-5068d52e8ab6\" xlink:type=\"simple\"><polygon fill=\"#FFFFFF\" filter=\"url(#f72jzetsqatxw)\" points=\"16,6,42,6,49,28.2969,114,28.2969,114,103,16,103,16,6\" style=\"stroke: #000000; stroke-width: 1.5;\"/><line style=\"stroke: #000000; stroke-width: 1.5;\" x1=\"16\" x2=\"49\" y1=\"28.2969\" y2=\"28.2969\"/><text fill=\"#000000\" font-family=\"sans-serif\" font-size=\"14\" font-weight=\"bold\" lengthAdjust=\"spacingAndGlyphs\" textLength=\"20\" x=\"20\" y=\"20.9951\">P1</text></a><!--MD5=[b4997ac47864f28c2f74865a473b2911]\n",
       "class E2--><a href=\"psysml:b3ac463f-3b68-4873-9109-eb20ca5c4915\" target=\"_top\" title=\"psysml:b3ac463f-3b68-4873-9109-eb20ca5c4915\" xlink:actuate=\"onRequest\" xlink:href=\"psysml:b3ac463f-3b68-4873-9109-eb20ca5c4915\" xlink:show=\"new\" xlink:title=\"psysml:b3ac463f-3b68-4873-9109-eb20ca5c4915\" xlink:type=\"simple\"><rect fill=\"#FEFECE\" filter=\"url(#f72jzetsqatxw)\" height=\"45.9375\" id=\"E2\" style=\"stroke: #A80036; stroke-width: 1.5;\" width=\"66\" x=\"32\" y=\"41\"/><text fill=\"#000000\" font-family=\"sans-serif\" font-size=\"12\" font-style=\"italic\" lengthAdjust=\"spacingAndGlyphs\" textLength=\"64\" x=\"33\" y=\"57.1387\">«part def»</text><text fill=\"#000000\" font-family=\"sans-serif\" font-size=\"12\" lengthAdjust=\"spacingAndGlyphs\" textLength=\"8\" x=\"61\" y=\"71.1074\">A</text><line style=\"stroke: #A80036; stroke-width: 1.5;\" x1=\"33\" x2=\"97\" y1=\"78.9375\" y2=\"78.9375\"/></a><!--MD5=[9ccba3b05c72fbc97dfb1c436c53468b]\n",
       "@startuml\r\n",
       "skinparam wrapWidth 300\r\n",
       "hide circle\r\n",
       "\r\n",
       "package \"P1\" as E1  [[psysml:c7cd5194-cfe1-4c0e-ab4f-5068d52e8ab6 ]]  {\r\n",
       "comp def \"A\" as E2  <<(T,blue)part def>> [[psysml:b3ac463f-3b68-4873-9109-eb20ca5c4915 ]] {\r\n",
       "}\r\n",
       "}\r\n",
       "@enduml\r\n",
       "\n",
       "PlantUML version 1.2020.13(Sat Jun 13 12:26:38 UTC 2020)\n",
       "(EPL source distribution)\n",
       "Java Runtime: OpenJDK Runtime Environment\n",
       "JVM: OpenJDK 64-Bit Server VM\n",
       "Default Encoding: UTF-8\n",
       "Language: en\n",
       "Country: null\n",
       "--></g></svg>"
      ]
     },
     "execution_count": 23,
     "metadata": {},
     "output_type": "execute_result"
    }
   ],
   "source": [
    "%viz --style=\"STDCOLOR\" --view=\"Default\" \"P1\""
   ]
  },
  {
   "cell_type": "code",
   "execution_count": 24,
   "id": "lovely-disposition",
   "metadata": {
    "execution": {
     "iopub.execute_input": "2021-03-26T15:44:35.225961Z",
     "iopub.status.busy": "2021-03-26T15:44:35.225460Z",
     "iopub.status.idle": "2021-03-26T15:44:35.246633Z",
     "shell.execute_reply": "2021-03-26T15:44:35.246308Z"
    }
   },
   "outputs": [
    {
     "data": {
      "image/svg+xml": [
       "<?xml version=\"1.0\" encoding=\"UTF-8\" standalone=\"no\"?><svg xmlns=\"http://www.w3.org/2000/svg\" xmlns:xlink=\"http://www.w3.org/1999/xlink\" contentScriptType=\"application/ecmascript\" contentStyleType=\"text/css\" height=\"115px\" preserveAspectRatio=\"none\" style=\"width:136px;height:115px;\" version=\"1.1\" viewBox=\"0 0 136 115\" width=\"136px\" zoomAndPan=\"magnify\"><defs><filter height=\"300%\" id=\"f72jzetsqatxw\" width=\"300%\" x=\"-1\" y=\"-1\"><feGaussianBlur result=\"blurOut\" stdDeviation=\"2.0\"/><feColorMatrix in=\"blurOut\" result=\"blurOut2\" type=\"matrix\" values=\"0 0 0 0 0 0 0 0 0 0 0 0 0 0 0 0 0 0 .4 0\"/><feOffset dx=\"4.0\" dy=\"4.0\" in=\"blurOut2\" result=\"blurOut3\"/><feBlend in=\"SourceGraphic\" in2=\"blurOut3\" mode=\"normal\"/></filter></defs><g><!--MD5=[fbc87193dbaf4d95561dea2c320d4a47]\n",
       "cluster E1--><a href=\"psysml:c7cd5194-cfe1-4c0e-ab4f-5068d52e8ab6\" target=\"_top\" title=\"psysml:c7cd5194-cfe1-4c0e-ab4f-5068d52e8ab6\" xlink:actuate=\"onRequest\" xlink:href=\"psysml:c7cd5194-cfe1-4c0e-ab4f-5068d52e8ab6\" xlink:show=\"new\" xlink:title=\"psysml:c7cd5194-cfe1-4c0e-ab4f-5068d52e8ab6\" xlink:type=\"simple\"><polygon fill=\"#FFFFFF\" filter=\"url(#f72jzetsqatxw)\" points=\"16,6,42,6,49,28.2969,114,28.2969,114,103,16,103,16,6\" style=\"stroke: #000000; stroke-width: 1.5;\"/><line style=\"stroke: #000000; stroke-width: 1.5;\" x1=\"16\" x2=\"49\" y1=\"28.2969\" y2=\"28.2969\"/><text fill=\"#000000\" font-family=\"sans-serif\" font-size=\"14\" font-weight=\"bold\" lengthAdjust=\"spacingAndGlyphs\" textLength=\"20\" x=\"20\" y=\"20.9951\">P1</text></a><!--MD5=[b4997ac47864f28c2f74865a473b2911]\n",
       "class E2--><a href=\"psysml:b3ac463f-3b68-4873-9109-eb20ca5c4915\" target=\"_top\" title=\"psysml:b3ac463f-3b68-4873-9109-eb20ca5c4915\" xlink:actuate=\"onRequest\" xlink:href=\"psysml:b3ac463f-3b68-4873-9109-eb20ca5c4915\" xlink:show=\"new\" xlink:title=\"psysml:b3ac463f-3b68-4873-9109-eb20ca5c4915\" xlink:type=\"simple\"><rect fill=\"#FEFECE\" filter=\"url(#f72jzetsqatxw)\" height=\"45.9375\" id=\"E2\" style=\"stroke: #A80036; stroke-width: 1.5;\" width=\"66\" x=\"32\" y=\"41\"/><text fill=\"#000000\" font-family=\"sans-serif\" font-size=\"12\" font-style=\"italic\" lengthAdjust=\"spacingAndGlyphs\" textLength=\"64\" x=\"33\" y=\"57.1387\">«part def»</text><text fill=\"#000000\" font-family=\"sans-serif\" font-size=\"12\" lengthAdjust=\"spacingAndGlyphs\" textLength=\"8\" x=\"61\" y=\"71.1074\">A</text><line style=\"stroke: #A80036; stroke-width: 1.5;\" x1=\"33\" x2=\"97\" y1=\"78.9375\" y2=\"78.9375\"/></a><!--MD5=[9ccba3b05c72fbc97dfb1c436c53468b]\n",
       "@startuml\r\n",
       "skinparam wrapWidth 300\r\n",
       "hide circle\r\n",
       "\r\n",
       "package \"P1\" as E1  [[psysml:c7cd5194-cfe1-4c0e-ab4f-5068d52e8ab6 ]]  {\r\n",
       "comp def \"A\" as E2  <<(T,blue)part def>> [[psysml:b3ac463f-3b68-4873-9109-eb20ca5c4915 ]] {\r\n",
       "}\r\n",
       "}\r\n",
       "@enduml\r\n",
       "\n",
       "PlantUML version 1.2020.13(Sat Jun 13 12:26:38 UTC 2020)\n",
       "(EPL source distribution)\n",
       "Java Runtime: OpenJDK Runtime Environment\n",
       "JVM: OpenJDK 64-Bit Server VM\n",
       "Default Encoding: UTF-8\n",
       "Language: en\n",
       "Country: null\n",
       "--></g></svg>"
      ]
     },
     "execution_count": 24,
     "metadata": {},
     "output_type": "execute_result"
    }
   ],
   "source": [
    "%viz --style=\"STDCOLOR\" --view=\"Tree\" \"P1\""
   ]
  },
  {
   "cell_type": "code",
   "execution_count": 25,
   "id": "banner-devil",
   "metadata": {
    "execution": {
     "iopub.execute_input": "2021-03-26T15:44:35.298972Z",
     "iopub.status.busy": "2021-03-26T15:44:35.298265Z",
     "iopub.status.idle": "2021-03-26T15:44:35.304664Z",
     "shell.execute_reply": "2021-03-26T15:44:35.305055Z"
    }
   },
   "outputs": [
    {
     "data": {
      "image/svg+xml": [
       "<?xml version=\"1.0\" encoding=\"UTF-8\" standalone=\"no\"?><svg xmlns=\"http://www.w3.org/2000/svg\" xmlns:xlink=\"http://www.w3.org/1999/xlink\" contentScriptType=\"application/ecmascript\" contentStyleType=\"text/css\" height=\"12px\" preserveAspectRatio=\"none\" style=\"width:12px;height:12px;\" version=\"1.1\" viewBox=\"0 0 12 12\" width=\"12px\" zoomAndPan=\"magnify\"><defs/><g><!--MD5=[aeeef50f102b80d730deb6443d14f702]\n",
       "@startuml\r\n",
       "skinparam wrapWidth 300\r\n",
       "hide circle\r\n",
       "\r\n",
       "@enduml\r\n",
       "\n",
       "PlantUML version 1.2020.13(Sat Jun 13 12:26:38 UTC 2020)\n",
       "(EPL source distribution)\n",
       "Java Runtime: OpenJDK Runtime Environment\n",
       "JVM: OpenJDK 64-Bit Server VM\n",
       "Default Encoding: UTF-8\n",
       "Language: en\n",
       "Country: null\n",
       "--></g></svg>"
      ]
     },
     "execution_count": 25,
     "metadata": {},
     "output_type": "execute_result"
    }
   ],
   "source": [
    "%viz --style=\"STDCOLOR\" --view=\"State\" \"P1\""
   ]
  },
  {
   "cell_type": "code",
   "execution_count": 26,
   "id": "declared-billion",
   "metadata": {
    "execution": {
     "iopub.execute_input": "2021-03-26T15:44:35.358153Z",
     "iopub.status.busy": "2021-03-26T15:44:35.357475Z",
     "iopub.status.idle": "2021-03-26T15:44:35.380709Z",
     "shell.execute_reply": "2021-03-26T15:44:35.380376Z"
    }
   },
   "outputs": [
    {
     "data": {
      "image/svg+xml": [
       "<?xml version=\"1.0\" encoding=\"UTF-8\" standalone=\"no\"?><svg xmlns=\"http://www.w3.org/2000/svg\" xmlns:xlink=\"http://www.w3.org/1999/xlink\" contentScriptType=\"application/ecmascript\" contentStyleType=\"text/css\" height=\"112px\" preserveAspectRatio=\"none\" style=\"width:142px;height:112px;\" version=\"1.1\" viewBox=\"0 0 142 112\" width=\"142px\" zoomAndPan=\"magnify\"><defs><filter height=\"300%\" id=\"fs2fzdlq3oyqa\" width=\"300%\" x=\"-1\" y=\"-1\"><feGaussianBlur result=\"blurOut\" stdDeviation=\"2.0\"/><feColorMatrix in=\"blurOut\" result=\"blurOut2\" type=\"matrix\" values=\"0 0 0 0 0 0 0 0 0 0 0 0 0 0 0 0 0 0 .4 0\"/><feOffset dx=\"4.0\" dy=\"4.0\" in=\"blurOut2\" result=\"blurOut3\"/><feBlend in=\"SourceGraphic\" in2=\"blurOut3\" mode=\"normal\"/></filter></defs><g><!--MD5=[fbc87193dbaf4d95561dea2c320d4a47]\n",
       "cluster E1--><a href=\"psysml:c7cd5194-cfe1-4c0e-ab4f-5068d52e8ab6\" target=\"_top\" title=\"psysml:c7cd5194-cfe1-4c0e-ab4f-5068d52e8ab6\" xlink:actuate=\"onRequest\" xlink:href=\"psysml:c7cd5194-cfe1-4c0e-ab4f-5068d52e8ab6\" xlink:show=\"new\" xlink:title=\"psysml:c7cd5194-cfe1-4c0e-ab4f-5068d52e8ab6\" xlink:type=\"simple\"><polygon fill=\"#FFFFFF\" filter=\"url(#fs2fzdlq3oyqa)\" points=\"16,6,42,6,49,28.2969,120,28.2969,120,100,16,100,16,6\" style=\"stroke: #000000; stroke-width: 1.5;\"/><line style=\"stroke: #000000; stroke-width: 1.5;\" x1=\"16\" x2=\"49\" y1=\"28.2969\" y2=\"28.2969\"/><text fill=\"#000000\" font-family=\"sans-serif\" font-size=\"14\" font-weight=\"bold\" lengthAdjust=\"spacingAndGlyphs\" textLength=\"20\" x=\"20\" y=\"20.9951\">P1</text></a><g id=\"E1.E2\"><a href=\"psysml:b3ac463f-3b68-4873-9109-eb20ca5c4915\" target=\"_top\" title=\"psysml:b3ac463f-3b68-4873-9109-eb20ca5c4915\" xlink:actuate=\"onRequest\" xlink:href=\"psysml:b3ac463f-3b68-4873-9109-eb20ca5c4915\" xlink:show=\"new\" xlink:title=\"psysml:b3ac463f-3b68-4873-9109-eb20ca5c4915\" xlink:type=\"simple\"><rect fill=\"#FEFECE\" filter=\"url(#fs2fzdlq3oyqa)\" height=\"42.9375\" id=\"E2\" style=\"stroke: #A80036; stroke-width: 1.5;\" width=\"71\" x=\"32.5\" y=\"41\"/><text fill=\"#000000\" font-family=\"sans-serif\" font-size=\"12\" font-style=\"italic\" lengthAdjust=\"spacingAndGlyphs\" textLength=\"64\" x=\"36\" y=\"57.1387\">«part def»</text><text fill=\"#000000\" font-family=\"sans-serif\" font-size=\"12\" lengthAdjust=\"spacingAndGlyphs\" textLength=\"8\" x=\"64\" y=\"71.1074\">A</text></a></g><!--MD5=[590d7a0ffeebe9252b6e217957fc03bc]\n",
       "@startuml\r\n",
       "skinparam ranksep 10\r\n",
       "skinparam rectangle {\r\n",
       " backgroundColor<<block>> LightGreen\r\n",
       "}\r\n",
       "skinparam wrapWidth 300\r\n",
       "hide circle\r\n",
       "\r\n",
       "package \"P1\" as E1  [[psysml:c7cd5194-cfe1-4c0e-ab4f-5068d52e8ab6 ]]  {\r\n",
       "rec def \"A\" as E2  <<(T,blue)part def>> [[psysml:b3ac463f-3b68-4873-9109-eb20ca5c4915 ]] {\r\n",
       "}\r\n",
       "}\r\n",
       "@enduml\r\n",
       "\n",
       "PlantUML version 1.2020.13(Sat Jun 13 12:26:38 UTC 2020)\n",
       "(EPL source distribution)\n",
       "Java Runtime: OpenJDK Runtime Environment\n",
       "JVM: OpenJDK 64-Bit Server VM\n",
       "Default Encoding: UTF-8\n",
       "Language: en\n",
       "Country: null\n",
       "--></g></svg>"
      ]
     },
     "execution_count": 26,
     "metadata": {},
     "output_type": "execute_result"
    }
   ],
   "source": [
    "%viz --style=\"STDCOLOR\" --view=\"Interconnection\" \"P1\""
   ]
  },
  {
   "cell_type": "code",
   "execution_count": 27,
   "id": "rental-drink",
   "metadata": {
    "execution": {
     "iopub.execute_input": "2021-03-26T15:44:35.431852Z",
     "iopub.status.busy": "2021-03-26T15:44:35.430961Z",
     "iopub.status.idle": "2021-03-26T15:44:35.437922Z",
     "shell.execute_reply": "2021-03-26T15:44:35.437548Z"
    }
   },
   "outputs": [
    {
     "data": {
      "image/svg+xml": [
       "<?xml version=\"1.0\" encoding=\"UTF-8\" standalone=\"no\"?><svg xmlns=\"http://www.w3.org/2000/svg\" xmlns:xlink=\"http://www.w3.org/1999/xlink\" contentScriptType=\"application/ecmascript\" contentStyleType=\"text/css\" height=\"12px\" preserveAspectRatio=\"none\" style=\"width:12px;height:12px;\" version=\"1.1\" viewBox=\"0 0 12 12\" width=\"12px\" zoomAndPan=\"magnify\"><defs/><g><!--MD5=[9863325348a96a77dacc89509d8ee65e]\n",
       "@startuml\r\n",
       "skinparam ranksep 8\r\n",
       "skinparam wrapWidth 300\r\n",
       "hide circle\r\n",
       "\r\n",
       "@enduml\r\n",
       "\n",
       "PlantUML version 1.2020.13(Sat Jun 13 12:26:38 UTC 2020)\n",
       "(EPL source distribution)\n",
       "Java Runtime: OpenJDK Runtime Environment\n",
       "JVM: OpenJDK 64-Bit Server VM\n",
       "Default Encoding: UTF-8\n",
       "Language: en\n",
       "Country: null\n",
       "--></g></svg>"
      ]
     },
     "execution_count": 27,
     "metadata": {},
     "output_type": "execute_result"
    }
   ],
   "source": [
    "%viz --style=\"STDCOLOR\" --view=\"Action\" \"P1\""
   ]
  },
  {
   "cell_type": "code",
   "execution_count": 28,
   "id": "viral-twelve",
   "metadata": {
    "execution": {
     "iopub.execute_input": "2021-03-26T15:44:35.490669Z",
     "iopub.status.busy": "2021-03-26T15:44:35.490072Z",
     "iopub.status.idle": "2021-03-26T15:44:35.512060Z",
     "shell.execute_reply": "2021-03-26T15:44:35.511714Z"
    }
   },
   "outputs": [
    {
     "data": {
      "image/svg+xml": [
       "<?xml version=\"1.0\" encoding=\"UTF-8\" standalone=\"no\"?><svg xmlns=\"http://www.w3.org/2000/svg\" xmlns:xlink=\"http://www.w3.org/1999/xlink\" contentScriptType=\"application/ecmascript\" contentStyleType=\"text/css\" height=\"115px\" preserveAspectRatio=\"none\" style=\"width:136px;height:115px;\" version=\"1.1\" viewBox=\"0 0 136 115\" width=\"136px\" zoomAndPan=\"magnify\"><defs><filter height=\"300%\" id=\"f72jzetsqatxw\" width=\"300%\" x=\"-1\" y=\"-1\"><feGaussianBlur result=\"blurOut\" stdDeviation=\"2.0\"/><feColorMatrix in=\"blurOut\" result=\"blurOut2\" type=\"matrix\" values=\"0 0 0 0 0 0 0 0 0 0 0 0 0 0 0 0 0 0 .4 0\"/><feOffset dx=\"4.0\" dy=\"4.0\" in=\"blurOut2\" result=\"blurOut3\"/><feBlend in=\"SourceGraphic\" in2=\"blurOut3\" mode=\"normal\"/></filter></defs><g><!--MD5=[fbc87193dbaf4d95561dea2c320d4a47]\n",
       "cluster E1--><a href=\"psysml:c7cd5194-cfe1-4c0e-ab4f-5068d52e8ab6\" target=\"_top\" title=\"psysml:c7cd5194-cfe1-4c0e-ab4f-5068d52e8ab6\" xlink:actuate=\"onRequest\" xlink:href=\"psysml:c7cd5194-cfe1-4c0e-ab4f-5068d52e8ab6\" xlink:show=\"new\" xlink:title=\"psysml:c7cd5194-cfe1-4c0e-ab4f-5068d52e8ab6\" xlink:type=\"simple\"><polygon fill=\"#FFFFFF\" filter=\"url(#f72jzetsqatxw)\" points=\"16,6,42,6,49,28.2969,114,28.2969,114,103,16,103,16,6\" style=\"stroke: #000000; stroke-width: 1.5;\"/><line style=\"stroke: #000000; stroke-width: 1.5;\" x1=\"16\" x2=\"49\" y1=\"28.2969\" y2=\"28.2969\"/><text fill=\"#000000\" font-family=\"sans-serif\" font-size=\"14\" font-weight=\"bold\" lengthAdjust=\"spacingAndGlyphs\" textLength=\"20\" x=\"20\" y=\"20.9951\">P1</text></a><!--MD5=[b4997ac47864f28c2f74865a473b2911]\n",
       "class E2--><a href=\"psysml:b3ac463f-3b68-4873-9109-eb20ca5c4915\" target=\"_top\" title=\"psysml:b3ac463f-3b68-4873-9109-eb20ca5c4915\" xlink:actuate=\"onRequest\" xlink:href=\"psysml:b3ac463f-3b68-4873-9109-eb20ca5c4915\" xlink:show=\"new\" xlink:title=\"psysml:b3ac463f-3b68-4873-9109-eb20ca5c4915\" xlink:type=\"simple\"><rect fill=\"#FEFECE\" filter=\"url(#f72jzetsqatxw)\" height=\"45.9375\" id=\"E2\" style=\"stroke: #A80036; stroke-width: 1.5;\" width=\"66\" x=\"32\" y=\"41\"/><text fill=\"#000000\" font-family=\"sans-serif\" font-size=\"12\" font-style=\"italic\" lengthAdjust=\"spacingAndGlyphs\" textLength=\"64\" x=\"33\" y=\"57.1387\">«part def»</text><text fill=\"#000000\" font-family=\"sans-serif\" font-size=\"12\" lengthAdjust=\"spacingAndGlyphs\" textLength=\"8\" x=\"61\" y=\"71.1074\">A</text><line style=\"stroke: #A80036; stroke-width: 1.5;\" x1=\"33\" x2=\"97\" y1=\"78.9375\" y2=\"78.9375\"/></a><!--MD5=[9ccba3b05c72fbc97dfb1c436c53468b]\n",
       "@startuml\r\n",
       "skinparam wrapWidth 300\r\n",
       "hide circle\r\n",
       "\r\n",
       "package \"P1\" as E1  [[psysml:c7cd5194-cfe1-4c0e-ab4f-5068d52e8ab6 ]]  {\r\n",
       "comp def \"A\" as E2  <<(T,blue)part def>> [[psysml:b3ac463f-3b68-4873-9109-eb20ca5c4915 ]] {\r\n",
       "}\r\n",
       "}\r\n",
       "@enduml\r\n",
       "\n",
       "PlantUML version 1.2020.13(Sat Jun 13 12:26:38 UTC 2020)\n",
       "(EPL source distribution)\n",
       "Java Runtime: OpenJDK Runtime Environment\n",
       "JVM: OpenJDK 64-Bit Server VM\n",
       "Default Encoding: UTF-8\n",
       "Language: en\n",
       "Country: null\n",
       "--></g></svg>"
      ]
     },
     "execution_count": 28,
     "metadata": {},
     "output_type": "execute_result"
    }
   ],
   "source": [
    "%viz --style=\"STDCOLOR\" --view=\"Sequence\" \"P1\""
   ]
  },
  {
   "cell_type": "code",
   "execution_count": 29,
   "id": "significant-transsexual",
   "metadata": {
    "execution": {
     "iopub.execute_input": "2021-03-26T15:44:35.563974Z",
     "iopub.status.busy": "2021-03-26T15:44:35.563266Z",
     "iopub.status.idle": "2021-03-26T15:44:35.585126Z",
     "shell.execute_reply": "2021-03-26T15:44:35.585542Z"
    }
   },
   "outputs": [
    {
     "data": {
      "image/svg+xml": [
       "<?xml version=\"1.0\" encoding=\"UTF-8\" standalone=\"no\"?><svg xmlns=\"http://www.w3.org/2000/svg\" xmlns:xlink=\"http://www.w3.org/1999/xlink\" contentScriptType=\"application/ecmascript\" contentStyleType=\"text/css\" height=\"115px\" preserveAspectRatio=\"none\" style=\"width:136px;height:115px;\" version=\"1.1\" viewBox=\"0 0 136 115\" width=\"136px\" zoomAndPan=\"magnify\"><defs><filter height=\"300%\" id=\"f72jzetsqatxw\" width=\"300%\" x=\"-1\" y=\"-1\"><feGaussianBlur result=\"blurOut\" stdDeviation=\"2.0\"/><feColorMatrix in=\"blurOut\" result=\"blurOut2\" type=\"matrix\" values=\"0 0 0 0 0 0 0 0 0 0 0 0 0 0 0 0 0 0 .4 0\"/><feOffset dx=\"4.0\" dy=\"4.0\" in=\"blurOut2\" result=\"blurOut3\"/><feBlend in=\"SourceGraphic\" in2=\"blurOut3\" mode=\"normal\"/></filter></defs><g><!--MD5=[fbc87193dbaf4d95561dea2c320d4a47]\n",
       "cluster E1--><a href=\"psysml:c7cd5194-cfe1-4c0e-ab4f-5068d52e8ab6\" target=\"_top\" title=\"psysml:c7cd5194-cfe1-4c0e-ab4f-5068d52e8ab6\" xlink:actuate=\"onRequest\" xlink:href=\"psysml:c7cd5194-cfe1-4c0e-ab4f-5068d52e8ab6\" xlink:show=\"new\" xlink:title=\"psysml:c7cd5194-cfe1-4c0e-ab4f-5068d52e8ab6\" xlink:type=\"simple\"><polygon fill=\"#FFFFFF\" filter=\"url(#f72jzetsqatxw)\" points=\"16,6,42,6,49,28.2969,114,28.2969,114,103,16,103,16,6\" style=\"stroke: #000000; stroke-width: 1.5;\"/><line style=\"stroke: #000000; stroke-width: 1.5;\" x1=\"16\" x2=\"49\" y1=\"28.2969\" y2=\"28.2969\"/><text fill=\"#000000\" font-family=\"sans-serif\" font-size=\"14\" font-weight=\"bold\" lengthAdjust=\"spacingAndGlyphs\" textLength=\"20\" x=\"20\" y=\"20.9951\">P1</text></a><!--MD5=[b4997ac47864f28c2f74865a473b2911]\n",
       "class E2--><a href=\"psysml:b3ac463f-3b68-4873-9109-eb20ca5c4915\" target=\"_top\" title=\"psysml:b3ac463f-3b68-4873-9109-eb20ca5c4915\" xlink:actuate=\"onRequest\" xlink:href=\"psysml:b3ac463f-3b68-4873-9109-eb20ca5c4915\" xlink:show=\"new\" xlink:title=\"psysml:b3ac463f-3b68-4873-9109-eb20ca5c4915\" xlink:type=\"simple\"><rect fill=\"#FEFECE\" filter=\"url(#f72jzetsqatxw)\" height=\"45.9375\" id=\"E2\" style=\"stroke: #A80036; stroke-width: 1.5;\" width=\"66\" x=\"32\" y=\"41\"/><text fill=\"#000000\" font-family=\"sans-serif\" font-size=\"12\" font-style=\"italic\" lengthAdjust=\"spacingAndGlyphs\" textLength=\"64\" x=\"33\" y=\"57.1387\">«part def»</text><text fill=\"#000000\" font-family=\"sans-serif\" font-size=\"12\" lengthAdjust=\"spacingAndGlyphs\" textLength=\"8\" x=\"61\" y=\"71.1074\">A</text><line style=\"stroke: #A80036; stroke-width: 1.5;\" x1=\"33\" x2=\"97\" y1=\"78.9375\" y2=\"78.9375\"/></a><!--MD5=[9ccba3b05c72fbc97dfb1c436c53468b]\n",
       "@startuml\r\n",
       "skinparam wrapWidth 300\r\n",
       "hide circle\r\n",
       "\r\n",
       "package \"P1\" as E1  [[psysml:c7cd5194-cfe1-4c0e-ab4f-5068d52e8ab6 ]]  {\r\n",
       "comp def \"A\" as E2  <<(T,blue)part def>> [[psysml:b3ac463f-3b68-4873-9109-eb20ca5c4915 ]] {\r\n",
       "}\r\n",
       "}\r\n",
       "@enduml\r\n",
       "\n",
       "PlantUML version 1.2020.13(Sat Jun 13 12:26:38 UTC 2020)\n",
       "(EPL source distribution)\n",
       "Java Runtime: OpenJDK Runtime Environment\n",
       "JVM: OpenJDK 64-Bit Server VM\n",
       "Default Encoding: UTF-8\n",
       "Language: en\n",
       "Country: null\n",
       "--></g></svg>"
      ]
     },
     "execution_count": 29,
     "metadata": {},
     "output_type": "execute_result"
    }
   ],
   "source": [
    "%viz --style=\"STDCOLOR\" --view=\"MIXED\" \"P1\""
   ]
  },
  {
   "cell_type": "code",
   "execution_count": 30,
   "id": "indirect-instrumentation",
   "metadata": {
    "execution": {
     "iopub.execute_input": "2021-03-26T15:44:35.638969Z",
     "iopub.status.busy": "2021-03-26T15:44:35.637996Z",
     "iopub.status.idle": "2021-03-26T15:44:35.675386Z",
     "shell.execute_reply": "2021-03-26T15:44:35.675705Z"
    }
   },
   "outputs": [
    {
     "data": {
      "image/svg+xml": [
       "<?xml version=\"1.0\" encoding=\"UTF-8\" standalone=\"no\"?><svg xmlns=\"http://www.w3.org/2000/svg\" xmlns:xlink=\"http://www.w3.org/1999/xlink\" contentScriptType=\"application/ecmascript\" contentStyleType=\"text/css\" height=\"109px\" preserveAspectRatio=\"none\" style=\"width:110px;height:109px;\" version=\"1.1\" viewBox=\"0 0 110 109\" width=\"110px\" zoomAndPan=\"magnify\"><defs><filter height=\"300%\" id=\"f1czl64b06z8sk\" width=\"300%\" x=\"-1\" y=\"-1\"><feGaussianBlur result=\"blurOut\" stdDeviation=\"2.0\"/><feColorMatrix in=\"blurOut\" result=\"blurOut2\" type=\"matrix\" values=\"0 0 0 0 0 0 0 0 0 0 0 0 0 0 0 0 0 0 .4 0\"/><feOffset dx=\"4.0\" dy=\"4.0\" in=\"blurOut2\" result=\"blurOut3\"/><feBlend in=\"SourceGraphic\" in2=\"blurOut3\" mode=\"normal\"/></filter></defs><g><!--MD5=[fbc87193dbaf4d95561dea2c320d4a47]\n",
       "cluster E1--><a href=\"psysml:c7cd5194-cfe1-4c0e-ab4f-5068d52e8ab6\" target=\"_top\" title=\"psysml:c7cd5194-cfe1-4c0e-ab4f-5068d52e8ab6\" xlink:actuate=\"onRequest\" xlink:href=\"psysml:c7cd5194-cfe1-4c0e-ab4f-5068d52e8ab6\" xlink:show=\"new\" xlink:title=\"psysml:c7cd5194-cfe1-4c0e-ab4f-5068d52e8ab6\" xlink:type=\"simple\"><polygon fill=\"#FFFFFF\" filter=\"url(#f1czl64b06z8sk)\" points=\"16,6,42,6,49,28.2969,88,28.2969,88,97,16,97,16,6\" style=\"stroke: #000000; stroke-width: 1.5;\"/><line style=\"stroke: #000000; stroke-width: 1.5;\" x1=\"16\" x2=\"49\" y1=\"28.2969\" y2=\"28.2969\"/><text fill=\"#000000\" font-family=\"sans-serif\" font-size=\"14\" font-weight=\"bold\" lengthAdjust=\"spacingAndGlyphs\" textLength=\"20\" x=\"20\" y=\"20.9951\">P1</text></a><!--MD5=[b4997ac47864f28c2f74865a473b2911]\n",
       "class E2--><a href=\"psysml:b3ac463f-3b68-4873-9109-eb20ca5c4915\" target=\"_top\" title=\"psysml:b3ac463f-3b68-4873-9109-eb20ca5c4915\" xlink:actuate=\"onRequest\" xlink:href=\"psysml:b3ac463f-3b68-4873-9109-eb20ca5c4915\" xlink:show=\"new\" xlink:title=\"psysml:b3ac463f-3b68-4873-9109-eb20ca5c4915\" xlink:type=\"simple\"><rect fill=\"#FEFECE\" filter=\"url(#f1czl64b06z8sk)\" height=\"40\" id=\"E2\" style=\"stroke: #A80036; stroke-width: 1.5;\" width=\"40\" x=\"32\" y=\"41\"/><ellipse cx=\"47\" cy=\"57\" fill=\"#008000\" rx=\"11\" ry=\"11\" style=\"stroke: #A80036; stroke-width: 1.0;\"/><path d=\"M45.9063,57.375 L45.9063,61.0469 L47.5313,61.0469 Q48.7031,61.0469 49.1719,60.6563 Q49.6406,60.25 49.6406,59.25 Q49.6406,58.25 49.1406,57.8125 Q48.6563,57.375 47.5313,57.375 L45.9063,57.375 Z M45.9063,52.5469 L45.9063,55.4219 L47.5313,55.4219 Q48.4531,55.4219 48.8438,55.0938 Q49.25,54.75 49.25,54 Q49.25,53.2344 48.8438,52.8906 Q48.4375,52.5469 47.5313,52.5469 L45.9063,52.5469 Z M43.5313,50.5938 L47.5313,50.5938 Q49.5938,50.5938 50.6406,51.375 Q51.6875,52.1563 51.6875,53.7188 Q51.6875,54.9219 51.0625,55.5938 Q50.4531,56.2656 49.2656,56.375 Q50.6875,56.5156 51.4063,57.3281 Q52.125,58.1406 52.125,59.5938 Q52.125,61.3906 51.0469,62.2031 Q49.9688,63 47.5313,63 L43.5313,63 L43.5313,50.5938 Z \"/><text fill=\"#000000\" font-family=\"sans-serif\" font-size=\"12\" lengthAdjust=\"spacingAndGlyphs\" textLength=\"8\" x=\"61\" y=\"61.1543\">A</text><line style=\"stroke: #A80036; stroke-width: 1.5;\" x1=\"33\" x2=\"71\" y1=\"73\" y2=\"73\"/></a><!--MD5=[d3f731acaeacf37811834c68ecb73db3]\n",
       "@startuml\r\n",
       " \r\n",
       "package \"P1\" as E1  [[psysml:c7cd5194-cfe1-4c0e-ab4f-5068d52e8ab6 ]]  {\r\n",
       "comp def \"A\" as E2  << (B,green) >> [[psysml:b3ac463f-3b68-4873-9109-eb20ca5c4915 ]] {\r\n",
       "}\r\n",
       "}\r\n",
       "@enduml\r\n",
       "\n",
       "PlantUML version 1.2020.13(Sat Jun 13 12:26:38 UTC 2020)\n",
       "(EPL source distribution)\n",
       "Java Runtime: OpenJDK Runtime Environment\n",
       "JVM: OpenJDK 64-Bit Server VM\n",
       "Default Encoding: UTF-8\n",
       "Language: en\n",
       "Country: null\n",
       "--></g></svg>"
      ]
     },
     "execution_count": 30,
     "metadata": {},
     "output_type": "execute_result"
    }
   ],
   "source": [
    "%viz --style=\"PLANTUML\" --view=\"Default\" \"P1\""
   ]
  },
  {
   "cell_type": "code",
   "execution_count": 31,
   "id": "critical-vancouver",
   "metadata": {
    "execution": {
     "iopub.execute_input": "2021-03-26T15:44:35.726923Z",
     "iopub.status.busy": "2021-03-26T15:44:35.726376Z",
     "iopub.status.idle": "2021-03-26T15:44:35.747501Z",
     "shell.execute_reply": "2021-03-26T15:44:35.746858Z"
    }
   },
   "outputs": [
    {
     "data": {
      "image/svg+xml": [
       "<?xml version=\"1.0\" encoding=\"UTF-8\" standalone=\"no\"?><svg xmlns=\"http://www.w3.org/2000/svg\" xmlns:xlink=\"http://www.w3.org/1999/xlink\" contentScriptType=\"application/ecmascript\" contentStyleType=\"text/css\" height=\"109px\" preserveAspectRatio=\"none\" style=\"width:110px;height:109px;\" version=\"1.1\" viewBox=\"0 0 110 109\" width=\"110px\" zoomAndPan=\"magnify\"><defs><filter height=\"300%\" id=\"f1czl64b06z8sk\" width=\"300%\" x=\"-1\" y=\"-1\"><feGaussianBlur result=\"blurOut\" stdDeviation=\"2.0\"/><feColorMatrix in=\"blurOut\" result=\"blurOut2\" type=\"matrix\" values=\"0 0 0 0 0 0 0 0 0 0 0 0 0 0 0 0 0 0 .4 0\"/><feOffset dx=\"4.0\" dy=\"4.0\" in=\"blurOut2\" result=\"blurOut3\"/><feBlend in=\"SourceGraphic\" in2=\"blurOut3\" mode=\"normal\"/></filter></defs><g><!--MD5=[fbc87193dbaf4d95561dea2c320d4a47]\n",
       "cluster E1--><a href=\"psysml:c7cd5194-cfe1-4c0e-ab4f-5068d52e8ab6\" target=\"_top\" title=\"psysml:c7cd5194-cfe1-4c0e-ab4f-5068d52e8ab6\" xlink:actuate=\"onRequest\" xlink:href=\"psysml:c7cd5194-cfe1-4c0e-ab4f-5068d52e8ab6\" xlink:show=\"new\" xlink:title=\"psysml:c7cd5194-cfe1-4c0e-ab4f-5068d52e8ab6\" xlink:type=\"simple\"><polygon fill=\"#FFFFFF\" filter=\"url(#f1czl64b06z8sk)\" points=\"16,6,42,6,49,28.2969,88,28.2969,88,97,16,97,16,6\" style=\"stroke: #000000; stroke-width: 1.5;\"/><line style=\"stroke: #000000; stroke-width: 1.5;\" x1=\"16\" x2=\"49\" y1=\"28.2969\" y2=\"28.2969\"/><text fill=\"#000000\" font-family=\"sans-serif\" font-size=\"14\" font-weight=\"bold\" lengthAdjust=\"spacingAndGlyphs\" textLength=\"20\" x=\"20\" y=\"20.9951\">P1</text></a><!--MD5=[b4997ac47864f28c2f74865a473b2911]\n",
       "class E2--><a href=\"psysml:b3ac463f-3b68-4873-9109-eb20ca5c4915\" target=\"_top\" title=\"psysml:b3ac463f-3b68-4873-9109-eb20ca5c4915\" xlink:actuate=\"onRequest\" xlink:href=\"psysml:b3ac463f-3b68-4873-9109-eb20ca5c4915\" xlink:show=\"new\" xlink:title=\"psysml:b3ac463f-3b68-4873-9109-eb20ca5c4915\" xlink:type=\"simple\"><rect fill=\"#FEFECE\" filter=\"url(#f1czl64b06z8sk)\" height=\"40\" id=\"E2\" style=\"stroke: #A80036; stroke-width: 1.5;\" width=\"40\" x=\"32\" y=\"41\"/><ellipse cx=\"47\" cy=\"57\" fill=\"#008000\" rx=\"11\" ry=\"11\" style=\"stroke: #A80036; stroke-width: 1.0;\"/><path d=\"M45.9063,57.375 L45.9063,61.0469 L47.5313,61.0469 Q48.7031,61.0469 49.1719,60.6563 Q49.6406,60.25 49.6406,59.25 Q49.6406,58.25 49.1406,57.8125 Q48.6563,57.375 47.5313,57.375 L45.9063,57.375 Z M45.9063,52.5469 L45.9063,55.4219 L47.5313,55.4219 Q48.4531,55.4219 48.8438,55.0938 Q49.25,54.75 49.25,54 Q49.25,53.2344 48.8438,52.8906 Q48.4375,52.5469 47.5313,52.5469 L45.9063,52.5469 Z M43.5313,50.5938 L47.5313,50.5938 Q49.5938,50.5938 50.6406,51.375 Q51.6875,52.1563 51.6875,53.7188 Q51.6875,54.9219 51.0625,55.5938 Q50.4531,56.2656 49.2656,56.375 Q50.6875,56.5156 51.4063,57.3281 Q52.125,58.1406 52.125,59.5938 Q52.125,61.3906 51.0469,62.2031 Q49.9688,63 47.5313,63 L43.5313,63 L43.5313,50.5938 Z \"/><text fill=\"#000000\" font-family=\"sans-serif\" font-size=\"12\" lengthAdjust=\"spacingAndGlyphs\" textLength=\"8\" x=\"61\" y=\"61.1543\">A</text><line style=\"stroke: #A80036; stroke-width: 1.5;\" x1=\"33\" x2=\"71\" y1=\"73\" y2=\"73\"/></a><!--MD5=[d3f731acaeacf37811834c68ecb73db3]\n",
       "@startuml\r\n",
       " \r\n",
       "package \"P1\" as E1  [[psysml:c7cd5194-cfe1-4c0e-ab4f-5068d52e8ab6 ]]  {\r\n",
       "comp def \"A\" as E2  << (B,green) >> [[psysml:b3ac463f-3b68-4873-9109-eb20ca5c4915 ]] {\r\n",
       "}\r\n",
       "}\r\n",
       "@enduml\r\n",
       "\n",
       "PlantUML version 1.2020.13(Sat Jun 13 12:26:38 UTC 2020)\n",
       "(EPL source distribution)\n",
       "Java Runtime: OpenJDK Runtime Environment\n",
       "JVM: OpenJDK 64-Bit Server VM\n",
       "Default Encoding: UTF-8\n",
       "Language: en\n",
       "Country: null\n",
       "--></g></svg>"
      ]
     },
     "execution_count": 31,
     "metadata": {},
     "output_type": "execute_result"
    }
   ],
   "source": [
    "%viz --style=\"PLANTUML\" --view=\"Tree\" \"P1\""
   ]
  },
  {
   "cell_type": "code",
   "execution_count": 32,
   "id": "relative-broad",
   "metadata": {
    "execution": {
     "iopub.execute_input": "2021-03-26T15:44:35.799570Z",
     "iopub.status.busy": "2021-03-26T15:44:35.799115Z",
     "iopub.status.idle": "2021-03-26T15:44:35.883104Z",
     "shell.execute_reply": "2021-03-26T15:44:35.881848Z"
    }
   },
   "outputs": [
    {
     "data": {
      "image/svg+xml": [
       "<?xml version=\"1.0\" encoding=\"UTF-8\" standalone=\"no\"?><svg xmlns=\"http://www.w3.org/2000/svg\" xmlns:xlink=\"http://www.w3.org/1999/xlink\" contentScriptType=\"application/ecmascript\" contentStyleType=\"text/css\" height=\"303px\" preserveAspectRatio=\"none\" style=\"width:603px;height:303px;background:#000000;\" version=\"1.1\" viewBox=\"0 0 603 303\" width=\"603px\" zoomAndPan=\"magnify\"><defs/><g><rect fill=\"#070509\" height=\"1\" style=\"stroke: #070509; stroke-width: 1.0;\" width=\"1\" x=\"0\" y=\"0\"/><rect fill=\"#FFFFFF\" height=\"205.5625\" style=\"stroke: #FFFFFF; stroke-width: 1.0;\" width=\"602\" x=\"0\" y=\"0\"/><text fill=\"#000000\" font-family=\"sans-serif\" font-size=\"12\" font-weight=\"bold\" lengthAdjust=\"spacingAndGlyphs\" textLength=\"159\" x=\"5\" y=\"16.1387\">Welcome to PlantUML!</text><text fill=\"#000000\" font-family=\"sans-serif\" font-size=\"12\" lengthAdjust=\"spacingAndGlyphs\" textLength=\"0\" x=\"9\" y=\"30.1074\"/><text fill=\"#000000\" font-family=\"sans-serif\" font-size=\"12\" lengthAdjust=\"spacingAndGlyphs\" textLength=\"293\" x=\"5\" y=\"44.0762\">If you use this software, you accept its license.</text><text fill=\"#000000\" font-family=\"sans-serif\" font-size=\"12\" lengthAdjust=\"spacingAndGlyphs\" textLength=\"107\" x=\"5\" y=\"58.0449\">(details by typing</text><text fill=\"#000000\" font-family=\"monospace\" font-size=\"12\" lengthAdjust=\"spacingAndGlyphs\" textLength=\"49\" x=\"116\" y=\"58.0449\">license</text><text fill=\"#000000\" font-family=\"sans-serif\" font-size=\"12\" lengthAdjust=\"spacingAndGlyphs\" textLength=\"56\" x=\"169\" y=\"58.0449\">keyword)</text><text fill=\"#000000\" font-family=\"sans-serif\" font-size=\"12\" lengthAdjust=\"spacingAndGlyphs\" textLength=\"0\" x=\"9\" y=\"72.0137\"/><text fill=\"#000000\" font-family=\"sans-serif\" font-size=\"12\" lengthAdjust=\"spacingAndGlyphs\" textLength=\"283\" x=\"5\" y=\"85.9824\">You can start with a simple UML Diagram like:</text><text fill=\"#000000\" font-family=\"sans-serif\" font-size=\"12\" lengthAdjust=\"spacingAndGlyphs\" textLength=\"0\" x=\"9\" y=\"99.9512\"/><text fill=\"#000000\" font-family=\"monospace\" font-size=\"12\" lengthAdjust=\"spacingAndGlyphs\" textLength=\"119\" x=\"5\" y=\"113.9199\">Bob-&gt;Alice: Hello</text><text fill=\"#000000\" font-family=\"sans-serif\" font-size=\"12\" lengthAdjust=\"spacingAndGlyphs\" textLength=\"0\" x=\"9\" y=\"127.8887\"/><text fill=\"#000000\" font-family=\"sans-serif\" font-size=\"12\" lengthAdjust=\"spacingAndGlyphs\" textLength=\"14\" x=\"5\" y=\"141.8574\">Or</text><text fill=\"#000000\" font-family=\"sans-serif\" font-size=\"12\" lengthAdjust=\"spacingAndGlyphs\" textLength=\"0\" x=\"9\" y=\"155.8262\"/><text fill=\"#000000\" font-family=\"monospace\" font-size=\"12\" lengthAdjust=\"spacingAndGlyphs\" textLength=\"91\" x=\"5\" y=\"169.7949\">class Example</text><text fill=\"#000000\" font-family=\"sans-serif\" font-size=\"12\" lengthAdjust=\"spacingAndGlyphs\" textLength=\"0\" x=\"9\" y=\"183.7637\"/><text fill=\"#000000\" font-family=\"sans-serif\" font-size=\"12\" lengthAdjust=\"spacingAndGlyphs\" textLength=\"349\" x=\"5\" y=\"197.7324\">You will find more information about PlantUML syntax on</text><text fill=\"#000000\" font-family=\"sans-serif\" font-size=\"12\" lengthAdjust=\"spacingAndGlyphs\" text-decoration=\"underline\" textLength=\"129\" x=\"358\" y=\"197.7324\">https://plantuml.com</text><image height=\"71\" width=\"80\" x=\"516\" xlink:href=\"data:image/png;base64,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\" y=\"6\"/><rect fill=\"#000000\" height=\"96.4844\" style=\"stroke: #000000; stroke-width: 1.0;\" width=\"602\" x=\"0\" y=\"205.5625\"/><rect fill=\"#33FF02\" height=\"21.2969\" style=\"stroke: #33FF02; stroke-width: 1.0;\" width=\"170\" x=\"5\" y=\"210.5625\"/><text fill=\"#000000\" font-family=\"sans-serif\" font-size=\"14\" font-weight=\"bold\" lengthAdjust=\"spacingAndGlyphs\" textLength=\"168\" x=\"6\" y=\"225.5625\">[From string (line 2) ]</text><text fill=\"#33FF02\" font-family=\"sans-serif\" font-size=\"14\" font-weight=\"bold\" lengthAdjust=\"spacingAndGlyphs\" textLength=\"0\" x=\"10\" y=\"245.8594\"/><text fill=\"#33FF02\" font-family=\"sans-serif\" font-size=\"14\" font-weight=\"bold\" lengthAdjust=\"spacingAndGlyphs\" textLength=\"79\" x=\"5\" y=\"262.1563\">@startuml</text><text fill=\"#33FF02\" font-family=\"sans-serif\" font-size=\"14\" font-weight=\"bold\" lengthAdjust=\"spacingAndGlyphs\" textLength=\"0\" x=\"10\" y=\"278.4531\"/><text fill=\"#FF0000\" font-family=\"sans-serif\" font-size=\"14\" font-weight=\"bold\" lengthAdjust=\"spacingAndGlyphs\" textLength=\"142\" x=\"10\" y=\"294.75\">Empty description</text><!--MD5=[f59edd8218d337f74d0c332fc6737304]\n",
       "@startuml\r\n",
       " \r\n",
       "@enduml\r\n",
       "\n",
       "PlantUML version 1.2020.13(Sat Jun 13 12:26:38 UTC 2020)\n",
       "(EPL source distribution)\n",
       "Java Runtime: OpenJDK Runtime Environment\n",
       "JVM: OpenJDK 64-Bit Server VM\n",
       "Default Encoding: UTF-8\n",
       "Language: en\n",
       "Country: null\n",
       "--></g></svg>"
      ]
     },
     "execution_count": 32,
     "metadata": {},
     "output_type": "execute_result"
    }
   ],
   "source": [
    "%viz --style=\"PLANTUML\" --view=\"State\" \"P1\""
   ]
  },
  {
   "cell_type": "code",
   "execution_count": 33,
   "id": "continuing-witness",
   "metadata": {
    "execution": {
     "iopub.execute_input": "2021-03-26T15:44:35.935564Z",
     "iopub.status.busy": "2021-03-26T15:44:35.935025Z",
     "iopub.status.idle": "2021-03-26T15:44:35.960129Z",
     "shell.execute_reply": "2021-03-26T15:44:35.960540Z"
    }
   },
   "outputs": [
    {
     "data": {
      "image/svg+xml": [
       "<?xml version=\"1.0\" encoding=\"UTF-8\" standalone=\"no\"?><svg xmlns=\"http://www.w3.org/2000/svg\" xmlns:xlink=\"http://www.w3.org/1999/xlink\" contentScriptType=\"application/ecmascript\" contentStyleType=\"text/css\" height=\"109px\" preserveAspectRatio=\"none\" style=\"width:120px;height:109px;\" version=\"1.1\" viewBox=\"0 0 120 109\" width=\"120px\" zoomAndPan=\"magnify\"><defs><filter height=\"300%\" id=\"f1jwai7vbqbnk2\" width=\"300%\" x=\"-1\" y=\"-1\"><feGaussianBlur result=\"blurOut\" stdDeviation=\"2.0\"/><feColorMatrix in=\"blurOut\" result=\"blurOut2\" type=\"matrix\" values=\"0 0 0 0 0 0 0 0 0 0 0 0 0 0 0 0 0 0 .4 0\"/><feOffset dx=\"4.0\" dy=\"4.0\" in=\"blurOut2\" result=\"blurOut3\"/><feBlend in=\"SourceGraphic\" in2=\"blurOut3\" mode=\"normal\"/></filter></defs><g><!--MD5=[fbc87193dbaf4d95561dea2c320d4a47]\n",
       "cluster E1--><a href=\"psysml:c7cd5194-cfe1-4c0e-ab4f-5068d52e8ab6\" target=\"_top\" title=\"psysml:c7cd5194-cfe1-4c0e-ab4f-5068d52e8ab6\" xlink:actuate=\"onRequest\" xlink:href=\"psysml:c7cd5194-cfe1-4c0e-ab4f-5068d52e8ab6\" xlink:show=\"new\" xlink:title=\"psysml:c7cd5194-cfe1-4c0e-ab4f-5068d52e8ab6\" xlink:type=\"simple\"><polygon fill=\"#FFFFFF\" filter=\"url(#f1jwai7vbqbnk2)\" points=\"16,6,42,6,49,28.2969,98,28.2969,98,97,16,97,16,6\" style=\"stroke: #000000; stroke-width: 1.5;\"/><line style=\"stroke: #000000; stroke-width: 1.5;\" x1=\"16\" x2=\"49\" y1=\"28.2969\" y2=\"28.2969\"/><text fill=\"#000000\" font-family=\"sans-serif\" font-size=\"14\" font-weight=\"bold\" lengthAdjust=\"spacingAndGlyphs\" textLength=\"20\" x=\"20\" y=\"20.9951\">P1</text></a><g id=\"E1.E2\"><a href=\"psysml:b3ac463f-3b68-4873-9109-eb20ca5c4915\" target=\"_top\" title=\"psysml:b3ac463f-3b68-4873-9109-eb20ca5c4915\" xlink:actuate=\"onRequest\" xlink:href=\"psysml:b3ac463f-3b68-4873-9109-eb20ca5c4915\" xlink:show=\"new\" xlink:title=\"psysml:b3ac463f-3b68-4873-9109-eb20ca5c4915\" xlink:type=\"simple\"><rect fill=\"#FEFECE\" filter=\"url(#f1jwai7vbqbnk2)\" height=\"40\" id=\"E2\" style=\"stroke: #A80036; stroke-width: 1.5;\" width=\"50\" x=\"32\" y=\"41\"/><ellipse cx=\"51.5\" cy=\"57\" fill=\"#008000\" rx=\"11\" ry=\"11\" style=\"stroke: #A80036; stroke-width: 1.0;\"/><path d=\"M50.4063,57.375 L50.4063,61.0469 L52.0313,61.0469 Q53.2031,61.0469 53.6719,60.6563 Q54.1406,60.25 54.1406,59.25 Q54.1406,58.25 53.6406,57.8125 Q53.1563,57.375 52.0313,57.375 L50.4063,57.375 Z M50.4063,52.5469 L50.4063,55.4219 L52.0313,55.4219 Q52.9531,55.4219 53.3438,55.0938 Q53.75,54.75 53.75,54 Q53.75,53.2344 53.3438,52.8906 Q52.9375,52.5469 52.0313,52.5469 L50.4063,52.5469 Z M48.0313,50.5938 L52.0313,50.5938 Q54.0938,50.5938 55.1406,51.375 Q56.1875,52.1563 56.1875,53.7188 Q56.1875,54.9219 55.5625,55.5938 Q54.9531,56.2656 53.7656,56.375 Q55.1875,56.5156 55.9063,57.3281 Q56.625,58.1406 56.625,59.5938 Q56.625,61.3906 55.5469,62.2031 Q54.4688,63 52.0313,63 L48.0313,63 L48.0313,50.5938 Z \"/><text fill=\"#000000\" font-family=\"sans-serif\" font-size=\"12\" lengthAdjust=\"spacingAndGlyphs\" textLength=\"8\" x=\"66.5\" y=\"61.1543\">A</text></a></g><!--MD5=[c8eed9d259f03b69ca9fb62c710a97fc]\n",
       "@startuml\r\n",
       "skinparam ranksep 10\r\n",
       "skinparam rectangle {\r\n",
       " backgroundColor<<block>> LightGreen\r\n",
       "}\r\n",
       " \r\n",
       "package \"P1\" as E1  [[psysml:c7cd5194-cfe1-4c0e-ab4f-5068d52e8ab6 ]]  {\r\n",
       "rec def \"A\" as E2  << (B,green) >> [[psysml:b3ac463f-3b68-4873-9109-eb20ca5c4915 ]] {\r\n",
       "}\r\n",
       "}\r\n",
       "@enduml\r\n",
       "\n",
       "PlantUML version 1.2020.13(Sat Jun 13 12:26:38 UTC 2020)\n",
       "(EPL source distribution)\n",
       "Java Runtime: OpenJDK Runtime Environment\n",
       "JVM: OpenJDK 64-Bit Server VM\n",
       "Default Encoding: UTF-8\n",
       "Language: en\n",
       "Country: null\n",
       "--></g></svg>"
      ]
     },
     "execution_count": 33,
     "metadata": {},
     "output_type": "execute_result"
    }
   ],
   "source": [
    "%viz --style=\"PLANTUML\" --view=\"Interconnection\" \"P1\""
   ]
  },
  {
   "cell_type": "code",
   "execution_count": 34,
   "id": "civil-population",
   "metadata": {
    "execution": {
     "iopub.execute_input": "2021-03-26T15:44:36.012755Z",
     "iopub.status.busy": "2021-03-26T15:44:36.011932Z",
     "iopub.status.idle": "2021-03-26T15:44:36.018088Z",
     "shell.execute_reply": "2021-03-26T15:44:36.017320Z"
    }
   },
   "outputs": [
    {
     "data": {
      "image/svg+xml": [
       "<?xml version=\"1.0\" encoding=\"UTF-8\" standalone=\"no\"?><svg xmlns=\"http://www.w3.org/2000/svg\" xmlns:xlink=\"http://www.w3.org/1999/xlink\" contentScriptType=\"application/ecmascript\" contentStyleType=\"text/css\" height=\"12px\" preserveAspectRatio=\"none\" style=\"width:12px;height:12px;\" version=\"1.1\" viewBox=\"0 0 12 12\" width=\"12px\" zoomAndPan=\"magnify\"><defs/><g><!--MD5=[6a4cb978cab31700e1ce5529f947a75d]\n",
       "@startuml\r\n",
       "skinparam ranksep 8\r\n",
       " \r\n",
       "@enduml\r\n",
       "\n",
       "PlantUML version 1.2020.13(Sat Jun 13 12:26:38 UTC 2020)\n",
       "(EPL source distribution)\n",
       "Java Runtime: OpenJDK Runtime Environment\n",
       "JVM: OpenJDK 64-Bit Server VM\n",
       "Default Encoding: UTF-8\n",
       "Language: en\n",
       "Country: null\n",
       "--></g></svg>"
      ]
     },
     "execution_count": 34,
     "metadata": {},
     "output_type": "execute_result"
    }
   ],
   "source": [
    "%viz --style=\"PLANTUML\" --view=\"Action\" \"P1\""
   ]
  },
  {
   "cell_type": "code",
   "execution_count": 35,
   "id": "golden-anthropology",
   "metadata": {
    "execution": {
     "iopub.execute_input": "2021-03-26T15:44:36.069838Z",
     "iopub.status.busy": "2021-03-26T15:44:36.068957Z",
     "iopub.status.idle": "2021-03-26T15:44:36.090951Z",
     "shell.execute_reply": "2021-03-26T15:44:36.091282Z"
    }
   },
   "outputs": [
    {
     "data": {
      "image/svg+xml": [
       "<?xml version=\"1.0\" encoding=\"UTF-8\" standalone=\"no\"?><svg xmlns=\"http://www.w3.org/2000/svg\" xmlns:xlink=\"http://www.w3.org/1999/xlink\" contentScriptType=\"application/ecmascript\" contentStyleType=\"text/css\" height=\"109px\" preserveAspectRatio=\"none\" style=\"width:110px;height:109px;\" version=\"1.1\" viewBox=\"0 0 110 109\" width=\"110px\" zoomAndPan=\"magnify\"><defs><filter height=\"300%\" id=\"f1czl64b06z8sk\" width=\"300%\" x=\"-1\" y=\"-1\"><feGaussianBlur result=\"blurOut\" stdDeviation=\"2.0\"/><feColorMatrix in=\"blurOut\" result=\"blurOut2\" type=\"matrix\" values=\"0 0 0 0 0 0 0 0 0 0 0 0 0 0 0 0 0 0 .4 0\"/><feOffset dx=\"4.0\" dy=\"4.0\" in=\"blurOut2\" result=\"blurOut3\"/><feBlend in=\"SourceGraphic\" in2=\"blurOut3\" mode=\"normal\"/></filter></defs><g><!--MD5=[fbc87193dbaf4d95561dea2c320d4a47]\n",
       "cluster E1--><a href=\"psysml:c7cd5194-cfe1-4c0e-ab4f-5068d52e8ab6\" target=\"_top\" title=\"psysml:c7cd5194-cfe1-4c0e-ab4f-5068d52e8ab6\" xlink:actuate=\"onRequest\" xlink:href=\"psysml:c7cd5194-cfe1-4c0e-ab4f-5068d52e8ab6\" xlink:show=\"new\" xlink:title=\"psysml:c7cd5194-cfe1-4c0e-ab4f-5068d52e8ab6\" xlink:type=\"simple\"><polygon fill=\"#FFFFFF\" filter=\"url(#f1czl64b06z8sk)\" points=\"16,6,42,6,49,28.2969,88,28.2969,88,97,16,97,16,6\" style=\"stroke: #000000; stroke-width: 1.5;\"/><line style=\"stroke: #000000; stroke-width: 1.5;\" x1=\"16\" x2=\"49\" y1=\"28.2969\" y2=\"28.2969\"/><text fill=\"#000000\" font-family=\"sans-serif\" font-size=\"14\" font-weight=\"bold\" lengthAdjust=\"spacingAndGlyphs\" textLength=\"20\" x=\"20\" y=\"20.9951\">P1</text></a><!--MD5=[b4997ac47864f28c2f74865a473b2911]\n",
       "class E2--><a href=\"psysml:b3ac463f-3b68-4873-9109-eb20ca5c4915\" target=\"_top\" title=\"psysml:b3ac463f-3b68-4873-9109-eb20ca5c4915\" xlink:actuate=\"onRequest\" xlink:href=\"psysml:b3ac463f-3b68-4873-9109-eb20ca5c4915\" xlink:show=\"new\" xlink:title=\"psysml:b3ac463f-3b68-4873-9109-eb20ca5c4915\" xlink:type=\"simple\"><rect fill=\"#FEFECE\" filter=\"url(#f1czl64b06z8sk)\" height=\"40\" id=\"E2\" style=\"stroke: #A80036; stroke-width: 1.5;\" width=\"40\" x=\"32\" y=\"41\"/><ellipse cx=\"47\" cy=\"57\" fill=\"#008000\" rx=\"11\" ry=\"11\" style=\"stroke: #A80036; stroke-width: 1.0;\"/><path d=\"M45.9063,57.375 L45.9063,61.0469 L47.5313,61.0469 Q48.7031,61.0469 49.1719,60.6563 Q49.6406,60.25 49.6406,59.25 Q49.6406,58.25 49.1406,57.8125 Q48.6563,57.375 47.5313,57.375 L45.9063,57.375 Z M45.9063,52.5469 L45.9063,55.4219 L47.5313,55.4219 Q48.4531,55.4219 48.8438,55.0938 Q49.25,54.75 49.25,54 Q49.25,53.2344 48.8438,52.8906 Q48.4375,52.5469 47.5313,52.5469 L45.9063,52.5469 Z M43.5313,50.5938 L47.5313,50.5938 Q49.5938,50.5938 50.6406,51.375 Q51.6875,52.1563 51.6875,53.7188 Q51.6875,54.9219 51.0625,55.5938 Q50.4531,56.2656 49.2656,56.375 Q50.6875,56.5156 51.4063,57.3281 Q52.125,58.1406 52.125,59.5938 Q52.125,61.3906 51.0469,62.2031 Q49.9688,63 47.5313,63 L43.5313,63 L43.5313,50.5938 Z \"/><text fill=\"#000000\" font-family=\"sans-serif\" font-size=\"12\" lengthAdjust=\"spacingAndGlyphs\" textLength=\"8\" x=\"61\" y=\"61.1543\">A</text><line style=\"stroke: #A80036; stroke-width: 1.5;\" x1=\"33\" x2=\"71\" y1=\"73\" y2=\"73\"/></a><!--MD5=[d3f731acaeacf37811834c68ecb73db3]\n",
       "@startuml\r\n",
       " \r\n",
       "package \"P1\" as E1  [[psysml:c7cd5194-cfe1-4c0e-ab4f-5068d52e8ab6 ]]  {\r\n",
       "comp def \"A\" as E2  << (B,green) >> [[psysml:b3ac463f-3b68-4873-9109-eb20ca5c4915 ]] {\r\n",
       "}\r\n",
       "}\r\n",
       "@enduml\r\n",
       "\n",
       "PlantUML version 1.2020.13(Sat Jun 13 12:26:38 UTC 2020)\n",
       "(EPL source distribution)\n",
       "Java Runtime: OpenJDK Runtime Environment\n",
       "JVM: OpenJDK 64-Bit Server VM\n",
       "Default Encoding: UTF-8\n",
       "Language: en\n",
       "Country: null\n",
       "--></g></svg>"
      ]
     },
     "execution_count": 35,
     "metadata": {},
     "output_type": "execute_result"
    }
   ],
   "source": [
    "%viz --style=\"PLANTUML\" --view=\"Sequence\" \"P1\""
   ]
  },
  {
   "cell_type": "code",
   "execution_count": 36,
   "id": "latin-category",
   "metadata": {
    "execution": {
     "iopub.execute_input": "2021-03-26T15:44:36.143826Z",
     "iopub.status.busy": "2021-03-26T15:44:36.142677Z",
     "iopub.status.idle": "2021-03-26T15:44:36.163822Z",
     "shell.execute_reply": "2021-03-26T15:44:36.163520Z"
    }
   },
   "outputs": [
    {
     "data": {
      "image/svg+xml": [
       "<?xml version=\"1.0\" encoding=\"UTF-8\" standalone=\"no\"?><svg xmlns=\"http://www.w3.org/2000/svg\" xmlns:xlink=\"http://www.w3.org/1999/xlink\" contentScriptType=\"application/ecmascript\" contentStyleType=\"text/css\" height=\"109px\" preserveAspectRatio=\"none\" style=\"width:110px;height:109px;\" version=\"1.1\" viewBox=\"0 0 110 109\" width=\"110px\" zoomAndPan=\"magnify\"><defs><filter height=\"300%\" id=\"f1czl64b06z8sk\" width=\"300%\" x=\"-1\" y=\"-1\"><feGaussianBlur result=\"blurOut\" stdDeviation=\"2.0\"/><feColorMatrix in=\"blurOut\" result=\"blurOut2\" type=\"matrix\" values=\"0 0 0 0 0 0 0 0 0 0 0 0 0 0 0 0 0 0 .4 0\"/><feOffset dx=\"4.0\" dy=\"4.0\" in=\"blurOut2\" result=\"blurOut3\"/><feBlend in=\"SourceGraphic\" in2=\"blurOut3\" mode=\"normal\"/></filter></defs><g><!--MD5=[fbc87193dbaf4d95561dea2c320d4a47]\n",
       "cluster E1--><a href=\"psysml:c7cd5194-cfe1-4c0e-ab4f-5068d52e8ab6\" target=\"_top\" title=\"psysml:c7cd5194-cfe1-4c0e-ab4f-5068d52e8ab6\" xlink:actuate=\"onRequest\" xlink:href=\"psysml:c7cd5194-cfe1-4c0e-ab4f-5068d52e8ab6\" xlink:show=\"new\" xlink:title=\"psysml:c7cd5194-cfe1-4c0e-ab4f-5068d52e8ab6\" xlink:type=\"simple\"><polygon fill=\"#FFFFFF\" filter=\"url(#f1czl64b06z8sk)\" points=\"16,6,42,6,49,28.2969,88,28.2969,88,97,16,97,16,6\" style=\"stroke: #000000; stroke-width: 1.5;\"/><line style=\"stroke: #000000; stroke-width: 1.5;\" x1=\"16\" x2=\"49\" y1=\"28.2969\" y2=\"28.2969\"/><text fill=\"#000000\" font-family=\"sans-serif\" font-size=\"14\" font-weight=\"bold\" lengthAdjust=\"spacingAndGlyphs\" textLength=\"20\" x=\"20\" y=\"20.9951\">P1</text></a><!--MD5=[b4997ac47864f28c2f74865a473b2911]\n",
       "class E2--><a href=\"psysml:b3ac463f-3b68-4873-9109-eb20ca5c4915\" target=\"_top\" title=\"psysml:b3ac463f-3b68-4873-9109-eb20ca5c4915\" xlink:actuate=\"onRequest\" xlink:href=\"psysml:b3ac463f-3b68-4873-9109-eb20ca5c4915\" xlink:show=\"new\" xlink:title=\"psysml:b3ac463f-3b68-4873-9109-eb20ca5c4915\" xlink:type=\"simple\"><rect fill=\"#FEFECE\" filter=\"url(#f1czl64b06z8sk)\" height=\"40\" id=\"E2\" style=\"stroke: #A80036; stroke-width: 1.5;\" width=\"40\" x=\"32\" y=\"41\"/><ellipse cx=\"47\" cy=\"57\" fill=\"#008000\" rx=\"11\" ry=\"11\" style=\"stroke: #A80036; stroke-width: 1.0;\"/><path d=\"M45.9063,57.375 L45.9063,61.0469 L47.5313,61.0469 Q48.7031,61.0469 49.1719,60.6563 Q49.6406,60.25 49.6406,59.25 Q49.6406,58.25 49.1406,57.8125 Q48.6563,57.375 47.5313,57.375 L45.9063,57.375 Z M45.9063,52.5469 L45.9063,55.4219 L47.5313,55.4219 Q48.4531,55.4219 48.8438,55.0938 Q49.25,54.75 49.25,54 Q49.25,53.2344 48.8438,52.8906 Q48.4375,52.5469 47.5313,52.5469 L45.9063,52.5469 Z M43.5313,50.5938 L47.5313,50.5938 Q49.5938,50.5938 50.6406,51.375 Q51.6875,52.1563 51.6875,53.7188 Q51.6875,54.9219 51.0625,55.5938 Q50.4531,56.2656 49.2656,56.375 Q50.6875,56.5156 51.4063,57.3281 Q52.125,58.1406 52.125,59.5938 Q52.125,61.3906 51.0469,62.2031 Q49.9688,63 47.5313,63 L43.5313,63 L43.5313,50.5938 Z \"/><text fill=\"#000000\" font-family=\"sans-serif\" font-size=\"12\" lengthAdjust=\"spacingAndGlyphs\" textLength=\"8\" x=\"61\" y=\"61.1543\">A</text><line style=\"stroke: #A80036; stroke-width: 1.5;\" x1=\"33\" x2=\"71\" y1=\"73\" y2=\"73\"/></a><!--MD5=[d3f731acaeacf37811834c68ecb73db3]\n",
       "@startuml\r\n",
       " \r\n",
       "package \"P1\" as E1  [[psysml:c7cd5194-cfe1-4c0e-ab4f-5068d52e8ab6 ]]  {\r\n",
       "comp def \"A\" as E2  << (B,green) >> [[psysml:b3ac463f-3b68-4873-9109-eb20ca5c4915 ]] {\r\n",
       "}\r\n",
       "}\r\n",
       "@enduml\r\n",
       "\n",
       "PlantUML version 1.2020.13(Sat Jun 13 12:26:38 UTC 2020)\n",
       "(EPL source distribution)\n",
       "Java Runtime: OpenJDK Runtime Environment\n",
       "JVM: OpenJDK 64-Bit Server VM\n",
       "Default Encoding: UTF-8\n",
       "Language: en\n",
       "Country: null\n",
       "--></g></svg>"
      ]
     },
     "execution_count": 36,
     "metadata": {},
     "output_type": "execute_result"
    }
   ],
   "source": [
    "%viz --style=\"PLANTUML\" --view=\"MIXED\" \"P1\""
   ]
  },
  {
   "cell_type": "code",
   "execution_count": 37,
   "id": "becoming-courage",
   "metadata": {
    "execution": {
     "iopub.execute_input": "2021-03-26T15:44:36.216214Z",
     "iopub.status.busy": "2021-03-26T15:44:36.215567Z",
     "iopub.status.idle": "2021-03-26T15:44:36.238070Z",
     "shell.execute_reply": "2021-03-26T15:44:36.238434Z"
    }
   },
   "outputs": [
    {
     "data": {
      "image/svg+xml": [
       "<?xml version=\"1.0\" encoding=\"UTF-8\" standalone=\"no\"?><svg xmlns=\"http://www.w3.org/2000/svg\" xmlns:xlink=\"http://www.w3.org/1999/xlink\" contentScriptType=\"application/ecmascript\" contentStyleType=\"text/css\" height=\"115px\" preserveAspectRatio=\"none\" style=\"width:136px;height:115px;\" version=\"1.1\" viewBox=\"0 0 136 115\" width=\"136px\" zoomAndPan=\"magnify\"><defs/><g><!--MD5=[fbc87193dbaf4d95561dea2c320d4a47]\n",
       "cluster E1--><a href=\"psysml:c7cd5194-cfe1-4c0e-ab4f-5068d52e8ab6\" target=\"_top\" title=\"psysml:c7cd5194-cfe1-4c0e-ab4f-5068d52e8ab6\" xlink:actuate=\"onRequest\" xlink:href=\"psysml:c7cd5194-cfe1-4c0e-ab4f-5068d52e8ab6\" xlink:show=\"new\" xlink:title=\"psysml:c7cd5194-cfe1-4c0e-ab4f-5068d52e8ab6\" xlink:type=\"simple\"><polygon fill=\"#FFFFFF\" points=\"16,6,42,6,49,28.2969,114,28.2969,114,103,16,103,16,6\" style=\"stroke: #000000; stroke-width: 1.5;\"/><line style=\"stroke: #000000; stroke-width: 1.5;\" x1=\"16\" x2=\"49\" y1=\"28.2969\" y2=\"28.2969\"/><text fill=\"#000000\" font-family=\"sans-serif\" font-size=\"14\" font-weight=\"bold\" lengthAdjust=\"spacingAndGlyphs\" textLength=\"20\" x=\"20\" y=\"20.9951\">P1</text></a><!--MD5=[b4997ac47864f28c2f74865a473b2911]\n",
       "class E2--><a href=\"psysml:b3ac463f-3b68-4873-9109-eb20ca5c4915\" target=\"_top\" title=\"psysml:b3ac463f-3b68-4873-9109-eb20ca5c4915\" xlink:actuate=\"onRequest\" xlink:href=\"psysml:b3ac463f-3b68-4873-9109-eb20ca5c4915\" xlink:show=\"new\" xlink:title=\"psysml:b3ac463f-3b68-4873-9109-eb20ca5c4915\" xlink:type=\"simple\"><rect fill=\"#FFFFFF\" height=\"45.9375\" id=\"E2\" style=\"stroke: #383838; stroke-width: 1.5;\" width=\"66\" x=\"32\" y=\"41\"/><text fill=\"#000000\" font-family=\"sans-serif\" font-size=\"12\" font-style=\"italic\" lengthAdjust=\"spacingAndGlyphs\" textLength=\"64\" x=\"33\" y=\"57.1387\">«part def»</text><text fill=\"#000000\" font-family=\"sans-serif\" font-size=\"12\" lengthAdjust=\"spacingAndGlyphs\" textLength=\"8\" x=\"61\" y=\"71.1074\">A</text><line style=\"stroke: #383838; stroke-width: 1.5;\" x1=\"33\" x2=\"97\" y1=\"78.9375\" y2=\"78.9375\"/></a><!--MD5=[28e303051a1fa61f010c16f025a36680]\n",
       "@startuml\r\n",
       "skinparam monochrome true\r\n",
       "skinparam classbackgroundcolor white\r\n",
       "skinparam shadowing false\r\n",
       "skinparam wrapWidth 300\r\n",
       "hide circle\r\n",
       "\r\n",
       "package \"P1\" as E1  [[psysml:c7cd5194-cfe1-4c0e-ab4f-5068d52e8ab6 ]]  {\r\n",
       "comp def \"A\" as E2  <<(T,blue)part def>> [[psysml:b3ac463f-3b68-4873-9109-eb20ca5c4915 ]] {\r\n",
       "}\r\n",
       "}\r\n",
       "@enduml\r\n",
       "\n",
       "PlantUML version 1.2020.13(Sat Jun 13 12:26:38 UTC 2020)\n",
       "(EPL source distribution)\n",
       "Java Runtime: OpenJDK Runtime Environment\n",
       "JVM: OpenJDK 64-Bit Server VM\n",
       "Default Encoding: UTF-8\n",
       "Language: en\n",
       "Country: null\n",
       "--></g></svg>"
      ]
     },
     "execution_count": 37,
     "metadata": {},
     "output_type": "execute_result"
    }
   ],
   "source": [
    "%viz --style=\"DEFAULT\" --view=\"Default\" \"P1\""
   ]
  },
  {
   "cell_type": "code",
   "execution_count": 38,
   "id": "hindu-belgium",
   "metadata": {
    "execution": {
     "iopub.execute_input": "2021-03-26T15:44:36.291276Z",
     "iopub.status.busy": "2021-03-26T15:44:36.290718Z",
     "iopub.status.idle": "2021-03-26T15:44:36.314079Z",
     "shell.execute_reply": "2021-03-26T15:44:36.313783Z"
    }
   },
   "outputs": [
    {
     "data": {
      "image/svg+xml": [
       "<?xml version=\"1.0\" encoding=\"UTF-8\" standalone=\"no\"?><svg xmlns=\"http://www.w3.org/2000/svg\" xmlns:xlink=\"http://www.w3.org/1999/xlink\" contentScriptType=\"application/ecmascript\" contentStyleType=\"text/css\" height=\"115px\" preserveAspectRatio=\"none\" style=\"width:136px;height:115px;\" version=\"1.1\" viewBox=\"0 0 136 115\" width=\"136px\" zoomAndPan=\"magnify\"><defs/><g><!--MD5=[fbc87193dbaf4d95561dea2c320d4a47]\n",
       "cluster E1--><a href=\"psysml:c7cd5194-cfe1-4c0e-ab4f-5068d52e8ab6\" target=\"_top\" title=\"psysml:c7cd5194-cfe1-4c0e-ab4f-5068d52e8ab6\" xlink:actuate=\"onRequest\" xlink:href=\"psysml:c7cd5194-cfe1-4c0e-ab4f-5068d52e8ab6\" xlink:show=\"new\" xlink:title=\"psysml:c7cd5194-cfe1-4c0e-ab4f-5068d52e8ab6\" xlink:type=\"simple\"><polygon fill=\"#FFFFFF\" points=\"16,6,42,6,49,28.2969,114,28.2969,114,103,16,103,16,6\" style=\"stroke: #000000; stroke-width: 1.5;\"/><line style=\"stroke: #000000; stroke-width: 1.5;\" x1=\"16\" x2=\"49\" y1=\"28.2969\" y2=\"28.2969\"/><text fill=\"#000000\" font-family=\"sans-serif\" font-size=\"14\" font-weight=\"bold\" lengthAdjust=\"spacingAndGlyphs\" textLength=\"20\" x=\"20\" y=\"20.9951\">P1</text></a><!--MD5=[b4997ac47864f28c2f74865a473b2911]\n",
       "class E2--><a href=\"psysml:b3ac463f-3b68-4873-9109-eb20ca5c4915\" target=\"_top\" title=\"psysml:b3ac463f-3b68-4873-9109-eb20ca5c4915\" xlink:actuate=\"onRequest\" xlink:href=\"psysml:b3ac463f-3b68-4873-9109-eb20ca5c4915\" xlink:show=\"new\" xlink:title=\"psysml:b3ac463f-3b68-4873-9109-eb20ca5c4915\" xlink:type=\"simple\"><rect fill=\"#FFFFFF\" height=\"45.9375\" id=\"E2\" style=\"stroke: #383838; stroke-width: 1.5;\" width=\"66\" x=\"32\" y=\"41\"/><text fill=\"#000000\" font-family=\"sans-serif\" font-size=\"12\" font-style=\"italic\" lengthAdjust=\"spacingAndGlyphs\" textLength=\"64\" x=\"33\" y=\"57.1387\">«part def»</text><text fill=\"#000000\" font-family=\"sans-serif\" font-size=\"12\" lengthAdjust=\"spacingAndGlyphs\" textLength=\"8\" x=\"61\" y=\"71.1074\">A</text><line style=\"stroke: #383838; stroke-width: 1.5;\" x1=\"33\" x2=\"97\" y1=\"78.9375\" y2=\"78.9375\"/></a><!--MD5=[28e303051a1fa61f010c16f025a36680]\n",
       "@startuml\r\n",
       "skinparam monochrome true\r\n",
       "skinparam classbackgroundcolor white\r\n",
       "skinparam shadowing false\r\n",
       "skinparam wrapWidth 300\r\n",
       "hide circle\r\n",
       "\r\n",
       "package \"P1\" as E1  [[psysml:c7cd5194-cfe1-4c0e-ab4f-5068d52e8ab6 ]]  {\r\n",
       "comp def \"A\" as E2  <<(T,blue)part def>> [[psysml:b3ac463f-3b68-4873-9109-eb20ca5c4915 ]] {\r\n",
       "}\r\n",
       "}\r\n",
       "@enduml\r\n",
       "\n",
       "PlantUML version 1.2020.13(Sat Jun 13 12:26:38 UTC 2020)\n",
       "(EPL source distribution)\n",
       "Java Runtime: OpenJDK Runtime Environment\n",
       "JVM: OpenJDK 64-Bit Server VM\n",
       "Default Encoding: UTF-8\n",
       "Language: en\n",
       "Country: null\n",
       "--></g></svg>"
      ]
     },
     "execution_count": 38,
     "metadata": {},
     "output_type": "execute_result"
    }
   ],
   "source": [
    "%viz --style=\"DEFAULT\" --view=\"Tree\" \"P1\""
   ]
  },
  {
   "cell_type": "code",
   "execution_count": 39,
   "id": "broke-peeing",
   "metadata": {
    "execution": {
     "iopub.execute_input": "2021-03-26T15:44:36.367233Z",
     "iopub.status.busy": "2021-03-26T15:44:36.366593Z",
     "iopub.status.idle": "2021-03-26T15:44:36.372810Z",
     "shell.execute_reply": "2021-03-26T15:44:36.372341Z"
    }
   },
   "outputs": [
    {
     "data": {
      "image/svg+xml": [
       "<?xml version=\"1.0\" encoding=\"UTF-8\" standalone=\"no\"?><svg xmlns=\"http://www.w3.org/2000/svg\" xmlns:xlink=\"http://www.w3.org/1999/xlink\" contentScriptType=\"application/ecmascript\" contentStyleType=\"text/css\" height=\"12px\" preserveAspectRatio=\"none\" style=\"width:12px;height:12px;\" version=\"1.1\" viewBox=\"0 0 12 12\" width=\"12px\" zoomAndPan=\"magnify\"><defs/><g><!--MD5=[c5f280e076d0d61ccf4b0f27871bda1d]\n",
       "@startuml\r\n",
       "skinparam monochrome true\r\n",
       "skinparam classbackgroundcolor white\r\n",
       "skinparam shadowing false\r\n",
       "skinparam wrapWidth 300\r\n",
       "hide circle\r\n",
       "\r\n",
       "@enduml\r\n",
       "\n",
       "PlantUML version 1.2020.13(Sat Jun 13 12:26:38 UTC 2020)\n",
       "(EPL source distribution)\n",
       "Java Runtime: OpenJDK Runtime Environment\n",
       "JVM: OpenJDK 64-Bit Server VM\n",
       "Default Encoding: UTF-8\n",
       "Language: en\n",
       "Country: null\n",
       "--></g></svg>"
      ]
     },
     "execution_count": 39,
     "metadata": {},
     "output_type": "execute_result"
    }
   ],
   "source": [
    "%viz --style=\"DEFAULT\" --view=\"State\" \"P1\""
   ]
  },
  {
   "cell_type": "code",
   "execution_count": 40,
   "id": "boxed-declaration",
   "metadata": {
    "execution": {
     "iopub.execute_input": "2021-03-26T15:44:36.425189Z",
     "iopub.status.busy": "2021-03-26T15:44:36.424432Z",
     "iopub.status.idle": "2021-03-26T15:44:36.448054Z",
     "shell.execute_reply": "2021-03-26T15:44:36.447759Z"
    }
   },
   "outputs": [
    {
     "data": {
      "image/svg+xml": [
       "<?xml version=\"1.0\" encoding=\"UTF-8\" standalone=\"no\"?><svg xmlns=\"http://www.w3.org/2000/svg\" xmlns:xlink=\"http://www.w3.org/1999/xlink\" contentScriptType=\"application/ecmascript\" contentStyleType=\"text/css\" height=\"112px\" preserveAspectRatio=\"none\" style=\"width:142px;height:112px;\" version=\"1.1\" viewBox=\"0 0 142 112\" width=\"142px\" zoomAndPan=\"magnify\"><defs/><g><!--MD5=[fbc87193dbaf4d95561dea2c320d4a47]\n",
       "cluster E1--><a href=\"psysml:c7cd5194-cfe1-4c0e-ab4f-5068d52e8ab6\" target=\"_top\" title=\"psysml:c7cd5194-cfe1-4c0e-ab4f-5068d52e8ab6\" xlink:actuate=\"onRequest\" xlink:href=\"psysml:c7cd5194-cfe1-4c0e-ab4f-5068d52e8ab6\" xlink:show=\"new\" xlink:title=\"psysml:c7cd5194-cfe1-4c0e-ab4f-5068d52e8ab6\" xlink:type=\"simple\"><polygon fill=\"#FFFFFF\" points=\"16,6,42,6,49,28.2969,120,28.2969,120,100,16,100,16,6\" style=\"stroke: #000000; stroke-width: 1.5;\"/><line style=\"stroke: #000000; stroke-width: 1.5;\" x1=\"16\" x2=\"49\" y1=\"28.2969\" y2=\"28.2969\"/><text fill=\"#000000\" font-family=\"sans-serif\" font-size=\"14\" font-weight=\"bold\" lengthAdjust=\"spacingAndGlyphs\" textLength=\"20\" x=\"20\" y=\"20.9951\">P1</text></a><g id=\"E1.E2\"><a href=\"psysml:b3ac463f-3b68-4873-9109-eb20ca5c4915\" target=\"_top\" title=\"psysml:b3ac463f-3b68-4873-9109-eb20ca5c4915\" xlink:actuate=\"onRequest\" xlink:href=\"psysml:b3ac463f-3b68-4873-9109-eb20ca5c4915\" xlink:show=\"new\" xlink:title=\"psysml:b3ac463f-3b68-4873-9109-eb20ca5c4915\" xlink:type=\"simple\"><rect fill=\"#FFFFFF\" height=\"42.9375\" id=\"E2\" style=\"stroke: #383838; stroke-width: 1.5;\" width=\"71\" x=\"32.5\" y=\"41\"/><rect fill=\"#F8F8F8\" height=\"37.9375\" style=\"stroke: #383838; stroke-width: 1.5;\" width=\"71\" x=\"32.5\" y=\"41\"/><text fill=\"#000000\" font-family=\"sans-serif\" font-size=\"12\" font-style=\"italic\" lengthAdjust=\"spacingAndGlyphs\" textLength=\"64\" x=\"36\" y=\"57.1387\">«part def»</text><text fill=\"#000000\" font-family=\"sans-serif\" font-size=\"12\" lengthAdjust=\"spacingAndGlyphs\" textLength=\"8\" x=\"64\" y=\"71.1074\">A</text></a></g><!--MD5=[f1b84a1d14e24a3f653c62427bd0d12e]\n",
       "@startuml\r\n",
       "skinparam ranksep 10\r\n",
       "skinparam rectangle {\r\n",
       " backgroundColor<<block>> LightGreen\r\n",
       "}\r\n",
       "skinparam monochrome true\r\n",
       "skinparam classbackgroundcolor white\r\n",
       "skinparam shadowing false\r\n",
       "skinparam wrapWidth 300\r\n",
       "hide circle\r\n",
       "\r\n",
       "package \"P1\" as E1  [[psysml:c7cd5194-cfe1-4c0e-ab4f-5068d52e8ab6 ]]  {\r\n",
       "rec def \"A\" as E2  <<(T,blue)part def>> [[psysml:b3ac463f-3b68-4873-9109-eb20ca5c4915 ]] {\r\n",
       "}\r\n",
       "}\r\n",
       "@enduml\r\n",
       "\n",
       "PlantUML version 1.2020.13(Sat Jun 13 12:26:38 UTC 2020)\n",
       "(EPL source distribution)\n",
       "Java Runtime: OpenJDK Runtime Environment\n",
       "JVM: OpenJDK 64-Bit Server VM\n",
       "Default Encoding: UTF-8\n",
       "Language: en\n",
       "Country: null\n",
       "--></g></svg>"
      ]
     },
     "execution_count": 40,
     "metadata": {},
     "output_type": "execute_result"
    }
   ],
   "source": [
    "%viz --style=\"DEFAULT\" --view=\"Interconnection\" \"P1\""
   ]
  },
  {
   "cell_type": "code",
   "execution_count": 41,
   "id": "diagnostic-reset",
   "metadata": {
    "execution": {
     "iopub.execute_input": "2021-03-26T15:44:36.499498Z",
     "iopub.status.busy": "2021-03-26T15:44:36.498958Z",
     "iopub.status.idle": "2021-03-26T15:44:36.504324Z",
     "shell.execute_reply": "2021-03-26T15:44:36.503996Z"
    }
   },
   "outputs": [
    {
     "data": {
      "image/svg+xml": [
       "<?xml version=\"1.0\" encoding=\"UTF-8\" standalone=\"no\"?><svg xmlns=\"http://www.w3.org/2000/svg\" xmlns:xlink=\"http://www.w3.org/1999/xlink\" contentScriptType=\"application/ecmascript\" contentStyleType=\"text/css\" height=\"12px\" preserveAspectRatio=\"none\" style=\"width:12px;height:12px;\" version=\"1.1\" viewBox=\"0 0 12 12\" width=\"12px\" zoomAndPan=\"magnify\"><defs/><g><!--MD5=[388f21188e31bfdd97050473b19af356]\n",
       "@startuml\r\n",
       "skinparam ranksep 8\r\n",
       "skinparam monochrome true\r\n",
       "skinparam classbackgroundcolor white\r\n",
       "skinparam shadowing false\r\n",
       "skinparam wrapWidth 300\r\n",
       "hide circle\r\n",
       "\r\n",
       "@enduml\r\n",
       "\n",
       "PlantUML version 1.2020.13(Sat Jun 13 12:26:38 UTC 2020)\n",
       "(EPL source distribution)\n",
       "Java Runtime: OpenJDK Runtime Environment\n",
       "JVM: OpenJDK 64-Bit Server VM\n",
       "Default Encoding: UTF-8\n",
       "Language: en\n",
       "Country: null\n",
       "--></g></svg>"
      ]
     },
     "execution_count": 41,
     "metadata": {},
     "output_type": "execute_result"
    }
   ],
   "source": [
    "%viz --style=\"DEFAULT\" --view=\"Action\" \"P1\""
   ]
  },
  {
   "cell_type": "code",
   "execution_count": 42,
   "id": "phantom-solomon",
   "metadata": {
    "execution": {
     "iopub.execute_input": "2021-03-26T15:44:36.557645Z",
     "iopub.status.busy": "2021-03-26T15:44:36.556850Z",
     "iopub.status.idle": "2021-03-26T15:44:36.580593Z",
     "shell.execute_reply": "2021-03-26T15:44:36.580255Z"
    }
   },
   "outputs": [
    {
     "data": {
      "image/svg+xml": [
       "<?xml version=\"1.0\" encoding=\"UTF-8\" standalone=\"no\"?><svg xmlns=\"http://www.w3.org/2000/svg\" xmlns:xlink=\"http://www.w3.org/1999/xlink\" contentScriptType=\"application/ecmascript\" contentStyleType=\"text/css\" height=\"115px\" preserveAspectRatio=\"none\" style=\"width:136px;height:115px;\" version=\"1.1\" viewBox=\"0 0 136 115\" width=\"136px\" zoomAndPan=\"magnify\"><defs/><g><!--MD5=[fbc87193dbaf4d95561dea2c320d4a47]\n",
       "cluster E1--><a href=\"psysml:c7cd5194-cfe1-4c0e-ab4f-5068d52e8ab6\" target=\"_top\" title=\"psysml:c7cd5194-cfe1-4c0e-ab4f-5068d52e8ab6\" xlink:actuate=\"onRequest\" xlink:href=\"psysml:c7cd5194-cfe1-4c0e-ab4f-5068d52e8ab6\" xlink:show=\"new\" xlink:title=\"psysml:c7cd5194-cfe1-4c0e-ab4f-5068d52e8ab6\" xlink:type=\"simple\"><polygon fill=\"#FFFFFF\" points=\"16,6,42,6,49,28.2969,114,28.2969,114,103,16,103,16,6\" style=\"stroke: #000000; stroke-width: 1.5;\"/><line style=\"stroke: #000000; stroke-width: 1.5;\" x1=\"16\" x2=\"49\" y1=\"28.2969\" y2=\"28.2969\"/><text fill=\"#000000\" font-family=\"sans-serif\" font-size=\"14\" font-weight=\"bold\" lengthAdjust=\"spacingAndGlyphs\" textLength=\"20\" x=\"20\" y=\"20.9951\">P1</text></a><!--MD5=[b4997ac47864f28c2f74865a473b2911]\n",
       "class E2--><a href=\"psysml:b3ac463f-3b68-4873-9109-eb20ca5c4915\" target=\"_top\" title=\"psysml:b3ac463f-3b68-4873-9109-eb20ca5c4915\" xlink:actuate=\"onRequest\" xlink:href=\"psysml:b3ac463f-3b68-4873-9109-eb20ca5c4915\" xlink:show=\"new\" xlink:title=\"psysml:b3ac463f-3b68-4873-9109-eb20ca5c4915\" xlink:type=\"simple\"><rect fill=\"#FFFFFF\" height=\"45.9375\" id=\"E2\" style=\"stroke: #383838; stroke-width: 1.5;\" width=\"66\" x=\"32\" y=\"41\"/><text fill=\"#000000\" font-family=\"sans-serif\" font-size=\"12\" font-style=\"italic\" lengthAdjust=\"spacingAndGlyphs\" textLength=\"64\" x=\"33\" y=\"57.1387\">«part def»</text><text fill=\"#000000\" font-family=\"sans-serif\" font-size=\"12\" lengthAdjust=\"spacingAndGlyphs\" textLength=\"8\" x=\"61\" y=\"71.1074\">A</text><line style=\"stroke: #383838; stroke-width: 1.5;\" x1=\"33\" x2=\"97\" y1=\"78.9375\" y2=\"78.9375\"/></a><!--MD5=[28e303051a1fa61f010c16f025a36680]\n",
       "@startuml\r\n",
       "skinparam monochrome true\r\n",
       "skinparam classbackgroundcolor white\r\n",
       "skinparam shadowing false\r\n",
       "skinparam wrapWidth 300\r\n",
       "hide circle\r\n",
       "\r\n",
       "package \"P1\" as E1  [[psysml:c7cd5194-cfe1-4c0e-ab4f-5068d52e8ab6 ]]  {\r\n",
       "comp def \"A\" as E2  <<(T,blue)part def>> [[psysml:b3ac463f-3b68-4873-9109-eb20ca5c4915 ]] {\r\n",
       "}\r\n",
       "}\r\n",
       "@enduml\r\n",
       "\n",
       "PlantUML version 1.2020.13(Sat Jun 13 12:26:38 UTC 2020)\n",
       "(EPL source distribution)\n",
       "Java Runtime: OpenJDK Runtime Environment\n",
       "JVM: OpenJDK 64-Bit Server VM\n",
       "Default Encoding: UTF-8\n",
       "Language: en\n",
       "Country: null\n",
       "--></g></svg>"
      ]
     },
     "execution_count": 42,
     "metadata": {},
     "output_type": "execute_result"
    }
   ],
   "source": [
    "%viz --style=\"DEFAULT\" --view=\"Sequence\" \"P1\""
   ]
  },
  {
   "cell_type": "code",
   "execution_count": 43,
   "id": "covered-dover",
   "metadata": {
    "execution": {
     "iopub.execute_input": "2021-03-26T15:44:36.632071Z",
     "iopub.status.busy": "2021-03-26T15:44:36.631310Z",
     "iopub.status.idle": "2021-03-26T15:44:36.653524Z",
     "shell.execute_reply": "2021-03-26T15:44:36.653163Z"
    }
   },
   "outputs": [
    {
     "data": {
      "image/svg+xml": [
       "<?xml version=\"1.0\" encoding=\"UTF-8\" standalone=\"no\"?><svg xmlns=\"http://www.w3.org/2000/svg\" xmlns:xlink=\"http://www.w3.org/1999/xlink\" contentScriptType=\"application/ecmascript\" contentStyleType=\"text/css\" height=\"115px\" preserveAspectRatio=\"none\" style=\"width:136px;height:115px;\" version=\"1.1\" viewBox=\"0 0 136 115\" width=\"136px\" zoomAndPan=\"magnify\"><defs/><g><!--MD5=[fbc87193dbaf4d95561dea2c320d4a47]\n",
       "cluster E1--><a href=\"psysml:c7cd5194-cfe1-4c0e-ab4f-5068d52e8ab6\" target=\"_top\" title=\"psysml:c7cd5194-cfe1-4c0e-ab4f-5068d52e8ab6\" xlink:actuate=\"onRequest\" xlink:href=\"psysml:c7cd5194-cfe1-4c0e-ab4f-5068d52e8ab6\" xlink:show=\"new\" xlink:title=\"psysml:c7cd5194-cfe1-4c0e-ab4f-5068d52e8ab6\" xlink:type=\"simple\"><polygon fill=\"#FFFFFF\" points=\"16,6,42,6,49,28.2969,114,28.2969,114,103,16,103,16,6\" style=\"stroke: #000000; stroke-width: 1.5;\"/><line style=\"stroke: #000000; stroke-width: 1.5;\" x1=\"16\" x2=\"49\" y1=\"28.2969\" y2=\"28.2969\"/><text fill=\"#000000\" font-family=\"sans-serif\" font-size=\"14\" font-weight=\"bold\" lengthAdjust=\"spacingAndGlyphs\" textLength=\"20\" x=\"20\" y=\"20.9951\">P1</text></a><!--MD5=[b4997ac47864f28c2f74865a473b2911]\n",
       "class E2--><a href=\"psysml:b3ac463f-3b68-4873-9109-eb20ca5c4915\" target=\"_top\" title=\"psysml:b3ac463f-3b68-4873-9109-eb20ca5c4915\" xlink:actuate=\"onRequest\" xlink:href=\"psysml:b3ac463f-3b68-4873-9109-eb20ca5c4915\" xlink:show=\"new\" xlink:title=\"psysml:b3ac463f-3b68-4873-9109-eb20ca5c4915\" xlink:type=\"simple\"><rect fill=\"#FFFFFF\" height=\"45.9375\" id=\"E2\" style=\"stroke: #383838; stroke-width: 1.5;\" width=\"66\" x=\"32\" y=\"41\"/><text fill=\"#000000\" font-family=\"sans-serif\" font-size=\"12\" font-style=\"italic\" lengthAdjust=\"spacingAndGlyphs\" textLength=\"64\" x=\"33\" y=\"57.1387\">«part def»</text><text fill=\"#000000\" font-family=\"sans-serif\" font-size=\"12\" lengthAdjust=\"spacingAndGlyphs\" textLength=\"8\" x=\"61\" y=\"71.1074\">A</text><line style=\"stroke: #383838; stroke-width: 1.5;\" x1=\"33\" x2=\"97\" y1=\"78.9375\" y2=\"78.9375\"/></a><!--MD5=[28e303051a1fa61f010c16f025a36680]\n",
       "@startuml\r\n",
       "skinparam monochrome true\r\n",
       "skinparam classbackgroundcolor white\r\n",
       "skinparam shadowing false\r\n",
       "skinparam wrapWidth 300\r\n",
       "hide circle\r\n",
       "\r\n",
       "package \"P1\" as E1  [[psysml:c7cd5194-cfe1-4c0e-ab4f-5068d52e8ab6 ]]  {\r\n",
       "comp def \"A\" as E2  <<(T,blue)part def>> [[psysml:b3ac463f-3b68-4873-9109-eb20ca5c4915 ]] {\r\n",
       "}\r\n",
       "}\r\n",
       "@enduml\r\n",
       "\n",
       "PlantUML version 1.2020.13(Sat Jun 13 12:26:38 UTC 2020)\n",
       "(EPL source distribution)\n",
       "Java Runtime: OpenJDK Runtime Environment\n",
       "JVM: OpenJDK 64-Bit Server VM\n",
       "Default Encoding: UTF-8\n",
       "Language: en\n",
       "Country: null\n",
       "--></g></svg>"
      ]
     },
     "execution_count": 43,
     "metadata": {},
     "output_type": "execute_result"
    }
   ],
   "source": [
    "%viz --style=\"DEFAULT\" --view=\"MIXED\" \"P1\""
   ]
  },
  {
   "cell_type": "code",
   "execution_count": 44,
   "id": "polyphonic-celebration",
   "metadata": {
    "execution": {
     "iopub.execute_input": "2021-03-26T15:44:36.706434Z",
     "iopub.status.busy": "2021-03-26T15:44:36.705514Z",
     "iopub.status.idle": "2021-03-26T15:44:36.727453Z",
     "shell.execute_reply": "2021-03-26T15:44:36.727021Z"
    }
   },
   "outputs": [
    {
     "data": {
      "image/svg+xml": [
       "<?xml version=\"1.0\" encoding=\"UTF-8\" standalone=\"no\"?><svg xmlns=\"http://www.w3.org/2000/svg\" xmlns:xlink=\"http://www.w3.org/1999/xlink\" contentScriptType=\"application/ecmascript\" contentStyleType=\"text/css\" height=\"115px\" preserveAspectRatio=\"none\" style=\"width:136px;height:115px;\" version=\"1.1\" viewBox=\"0 0 136 115\" width=\"136px\" zoomAndPan=\"magnify\"><defs/><g><!--MD5=[fbc87193dbaf4d95561dea2c320d4a47]\n",
       "cluster E1--><a href=\"psysml:c7cd5194-cfe1-4c0e-ab4f-5068d52e8ab6\" target=\"_top\" title=\"psysml:c7cd5194-cfe1-4c0e-ab4f-5068d52e8ab6\" xlink:actuate=\"onRequest\" xlink:href=\"psysml:c7cd5194-cfe1-4c0e-ab4f-5068d52e8ab6\" xlink:show=\"new\" xlink:title=\"psysml:c7cd5194-cfe1-4c0e-ab4f-5068d52e8ab6\" xlink:type=\"simple\"><polygon fill=\"#FFFFFF\" points=\"16,6,42,6,49,28.2969,114,28.2969,114,103,16,103,16,6\" style=\"stroke: #000000; stroke-width: 1.5;\"/><line style=\"stroke: #000000; stroke-width: 1.5;\" x1=\"16\" x2=\"49\" y1=\"28.2969\" y2=\"28.2969\"/><text fill=\"#000000\" font-family=\"sans-serif\" font-size=\"14\" font-weight=\"bold\" lengthAdjust=\"spacingAndGlyphs\" textLength=\"20\" x=\"20\" y=\"20.9951\">P1</text></a><!--MD5=[b4997ac47864f28c2f74865a473b2911]\n",
       "class E2--><a href=\"psysml:b3ac463f-3b68-4873-9109-eb20ca5c4915\" target=\"_top\" title=\"psysml:b3ac463f-3b68-4873-9109-eb20ca5c4915\" xlink:actuate=\"onRequest\" xlink:href=\"psysml:b3ac463f-3b68-4873-9109-eb20ca5c4915\" xlink:show=\"new\" xlink:title=\"psysml:b3ac463f-3b68-4873-9109-eb20ca5c4915\" xlink:type=\"simple\"><rect fill=\"#FFFFFF\" height=\"45.9375\" id=\"E2\" style=\"stroke: #383838; stroke-width: 1.5;\" width=\"66\" x=\"32\" y=\"41\"/><text fill=\"#000000\" font-family=\"sans-serif\" font-size=\"12\" font-style=\"italic\" lengthAdjust=\"spacingAndGlyphs\" textLength=\"64\" x=\"33\" y=\"57.1387\">«part def»</text><text fill=\"#000000\" font-family=\"sans-serif\" font-size=\"12\" lengthAdjust=\"spacingAndGlyphs\" textLength=\"8\" x=\"61\" y=\"71.1074\">A</text><line style=\"stroke: #383838; stroke-width: 1.5;\" x1=\"33\" x2=\"97\" y1=\"78.9375\" y2=\"78.9375\"/></a><!--MD5=[319dfea3c35fc5af0c04aa5d39e7ea00]\n",
       "@startuml\r\n",
       "top to bottom direction\r\n",
       "skinparam monochrome true\r\n",
       "skinparam classbackgroundcolor white\r\n",
       "skinparam shadowing false\r\n",
       "skinparam wrapWidth 300\r\n",
       "hide circle\r\n",
       "\r\n",
       "package \"P1\" as E1  [[psysml:c7cd5194-cfe1-4c0e-ab4f-5068d52e8ab6 ]]  {\r\n",
       "comp def \"A\" as E2  <<(T,blue)part def>> [[psysml:b3ac463f-3b68-4873-9109-eb20ca5c4915 ]] {\r\n",
       "}\r\n",
       "}\r\n",
       "@enduml\r\n",
       "\n",
       "PlantUML version 1.2020.13(Sat Jun 13 12:26:38 UTC 2020)\n",
       "(EPL source distribution)\n",
       "Java Runtime: OpenJDK Runtime Environment\n",
       "JVM: OpenJDK 64-Bit Server VM\n",
       "Default Encoding: UTF-8\n",
       "Language: en\n",
       "Country: null\n",
       "--></g></svg>"
      ]
     },
     "execution_count": 44,
     "metadata": {},
     "output_type": "execute_result"
    }
   ],
   "source": [
    "%viz --style=\"TB\" --view=\"Default\" \"P1\""
   ]
  },
  {
   "cell_type": "code",
   "execution_count": 45,
   "id": "brazilian-continent",
   "metadata": {
    "execution": {
     "iopub.execute_input": "2021-03-26T15:44:36.777554Z",
     "iopub.status.busy": "2021-03-26T15:44:36.777079Z",
     "iopub.status.idle": "2021-03-26T15:44:36.799336Z",
     "shell.execute_reply": "2021-03-26T15:44:36.799004Z"
    }
   },
   "outputs": [
    {
     "data": {
      "image/svg+xml": [
       "<?xml version=\"1.0\" encoding=\"UTF-8\" standalone=\"no\"?><svg xmlns=\"http://www.w3.org/2000/svg\" xmlns:xlink=\"http://www.w3.org/1999/xlink\" contentScriptType=\"application/ecmascript\" contentStyleType=\"text/css\" height=\"115px\" preserveAspectRatio=\"none\" style=\"width:136px;height:115px;\" version=\"1.1\" viewBox=\"0 0 136 115\" width=\"136px\" zoomAndPan=\"magnify\"><defs/><g><!--MD5=[fbc87193dbaf4d95561dea2c320d4a47]\n",
       "cluster E1--><a href=\"psysml:c7cd5194-cfe1-4c0e-ab4f-5068d52e8ab6\" target=\"_top\" title=\"psysml:c7cd5194-cfe1-4c0e-ab4f-5068d52e8ab6\" xlink:actuate=\"onRequest\" xlink:href=\"psysml:c7cd5194-cfe1-4c0e-ab4f-5068d52e8ab6\" xlink:show=\"new\" xlink:title=\"psysml:c7cd5194-cfe1-4c0e-ab4f-5068d52e8ab6\" xlink:type=\"simple\"><polygon fill=\"#FFFFFF\" points=\"16,6,42,6,49,28.2969,114,28.2969,114,103,16,103,16,6\" style=\"stroke: #000000; stroke-width: 1.5;\"/><line style=\"stroke: #000000; stroke-width: 1.5;\" x1=\"16\" x2=\"49\" y1=\"28.2969\" y2=\"28.2969\"/><text fill=\"#000000\" font-family=\"sans-serif\" font-size=\"14\" font-weight=\"bold\" lengthAdjust=\"spacingAndGlyphs\" textLength=\"20\" x=\"20\" y=\"20.9951\">P1</text></a><!--MD5=[b4997ac47864f28c2f74865a473b2911]\n",
       "class E2--><a href=\"psysml:b3ac463f-3b68-4873-9109-eb20ca5c4915\" target=\"_top\" title=\"psysml:b3ac463f-3b68-4873-9109-eb20ca5c4915\" xlink:actuate=\"onRequest\" xlink:href=\"psysml:b3ac463f-3b68-4873-9109-eb20ca5c4915\" xlink:show=\"new\" xlink:title=\"psysml:b3ac463f-3b68-4873-9109-eb20ca5c4915\" xlink:type=\"simple\"><rect fill=\"#FFFFFF\" height=\"45.9375\" id=\"E2\" style=\"stroke: #383838; stroke-width: 1.5;\" width=\"66\" x=\"32\" y=\"41\"/><text fill=\"#000000\" font-family=\"sans-serif\" font-size=\"12\" font-style=\"italic\" lengthAdjust=\"spacingAndGlyphs\" textLength=\"64\" x=\"33\" y=\"57.1387\">«part def»</text><text fill=\"#000000\" font-family=\"sans-serif\" font-size=\"12\" lengthAdjust=\"spacingAndGlyphs\" textLength=\"8\" x=\"61\" y=\"71.1074\">A</text><line style=\"stroke: #383838; stroke-width: 1.5;\" x1=\"33\" x2=\"97\" y1=\"78.9375\" y2=\"78.9375\"/></a><!--MD5=[319dfea3c35fc5af0c04aa5d39e7ea00]\n",
       "@startuml\r\n",
       "top to bottom direction\r\n",
       "skinparam monochrome true\r\n",
       "skinparam classbackgroundcolor white\r\n",
       "skinparam shadowing false\r\n",
       "skinparam wrapWidth 300\r\n",
       "hide circle\r\n",
       "\r\n",
       "package \"P1\" as E1  [[psysml:c7cd5194-cfe1-4c0e-ab4f-5068d52e8ab6 ]]  {\r\n",
       "comp def \"A\" as E2  <<(T,blue)part def>> [[psysml:b3ac463f-3b68-4873-9109-eb20ca5c4915 ]] {\r\n",
       "}\r\n",
       "}\r\n",
       "@enduml\r\n",
       "\n",
       "PlantUML version 1.2020.13(Sat Jun 13 12:26:38 UTC 2020)\n",
       "(EPL source distribution)\n",
       "Java Runtime: OpenJDK Runtime Environment\n",
       "JVM: OpenJDK 64-Bit Server VM\n",
       "Default Encoding: UTF-8\n",
       "Language: en\n",
       "Country: null\n",
       "--></g></svg>"
      ]
     },
     "execution_count": 45,
     "metadata": {},
     "output_type": "execute_result"
    }
   ],
   "source": [
    "%viz --style=\"TB\" --view=\"Tree\" \"P1\""
   ]
  },
  {
   "cell_type": "code",
   "execution_count": 46,
   "id": "congressional-there",
   "metadata": {
    "execution": {
     "iopub.execute_input": "2021-03-26T15:44:36.849318Z",
     "iopub.status.busy": "2021-03-26T15:44:36.848976Z",
     "iopub.status.idle": "2021-03-26T15:44:36.853251Z",
     "shell.execute_reply": "2021-03-26T15:44:36.852728Z"
    }
   },
   "outputs": [
    {
     "data": {
      "image/svg+xml": [
       "<?xml version=\"1.0\" encoding=\"UTF-8\" standalone=\"no\"?><svg xmlns=\"http://www.w3.org/2000/svg\" xmlns:xlink=\"http://www.w3.org/1999/xlink\" contentScriptType=\"application/ecmascript\" contentStyleType=\"text/css\" height=\"12px\" preserveAspectRatio=\"none\" style=\"width:12px;height:12px;\" version=\"1.1\" viewBox=\"0 0 12 12\" width=\"12px\" zoomAndPan=\"magnify\"><defs/><g><!--MD5=[f4ee21bc66e489b5061b7c3e9601fdef]\n",
       "@startuml\r\n",
       "top to bottom direction\r\n",
       "skinparam monochrome true\r\n",
       "skinparam classbackgroundcolor white\r\n",
       "skinparam shadowing false\r\n",
       "skinparam wrapWidth 300\r\n",
       "hide circle\r\n",
       "\r\n",
       "@enduml\r\n",
       "\n",
       "PlantUML version 1.2020.13(Sat Jun 13 12:26:38 UTC 2020)\n",
       "(EPL source distribution)\n",
       "Java Runtime: OpenJDK Runtime Environment\n",
       "JVM: OpenJDK 64-Bit Server VM\n",
       "Default Encoding: UTF-8\n",
       "Language: en\n",
       "Country: null\n",
       "--></g></svg>"
      ]
     },
     "execution_count": 46,
     "metadata": {},
     "output_type": "execute_result"
    }
   ],
   "source": [
    "%viz --style=\"TB\" --view=\"State\" \"P1\""
   ]
  },
  {
   "cell_type": "code",
   "execution_count": 47,
   "id": "willing-assist",
   "metadata": {
    "execution": {
     "iopub.execute_input": "2021-03-26T15:44:36.906172Z",
     "iopub.status.busy": "2021-03-26T15:44:36.905363Z",
     "iopub.status.idle": "2021-03-26T15:44:36.928567Z",
     "shell.execute_reply": "2021-03-26T15:44:36.928213Z"
    }
   },
   "outputs": [
    {
     "data": {
      "image/svg+xml": [
       "<?xml version=\"1.0\" encoding=\"UTF-8\" standalone=\"no\"?><svg xmlns=\"http://www.w3.org/2000/svg\" xmlns:xlink=\"http://www.w3.org/1999/xlink\" contentScriptType=\"application/ecmascript\" contentStyleType=\"text/css\" height=\"112px\" preserveAspectRatio=\"none\" style=\"width:142px;height:112px;\" version=\"1.1\" viewBox=\"0 0 142 112\" width=\"142px\" zoomAndPan=\"magnify\"><defs/><g><!--MD5=[fbc87193dbaf4d95561dea2c320d4a47]\n",
       "cluster E1--><a href=\"psysml:c7cd5194-cfe1-4c0e-ab4f-5068d52e8ab6\" target=\"_top\" title=\"psysml:c7cd5194-cfe1-4c0e-ab4f-5068d52e8ab6\" xlink:actuate=\"onRequest\" xlink:href=\"psysml:c7cd5194-cfe1-4c0e-ab4f-5068d52e8ab6\" xlink:show=\"new\" xlink:title=\"psysml:c7cd5194-cfe1-4c0e-ab4f-5068d52e8ab6\" xlink:type=\"simple\"><polygon fill=\"#FFFFFF\" points=\"16,6,42,6,49,28.2969,120,28.2969,120,100,16,100,16,6\" style=\"stroke: #000000; stroke-width: 1.5;\"/><line style=\"stroke: #000000; stroke-width: 1.5;\" x1=\"16\" x2=\"49\" y1=\"28.2969\" y2=\"28.2969\"/><text fill=\"#000000\" font-family=\"sans-serif\" font-size=\"14\" font-weight=\"bold\" lengthAdjust=\"spacingAndGlyphs\" textLength=\"20\" x=\"20\" y=\"20.9951\">P1</text></a><g id=\"E1.E2\"><a href=\"psysml:b3ac463f-3b68-4873-9109-eb20ca5c4915\" target=\"_top\" title=\"psysml:b3ac463f-3b68-4873-9109-eb20ca5c4915\" xlink:actuate=\"onRequest\" xlink:href=\"psysml:b3ac463f-3b68-4873-9109-eb20ca5c4915\" xlink:show=\"new\" xlink:title=\"psysml:b3ac463f-3b68-4873-9109-eb20ca5c4915\" xlink:type=\"simple\"><rect fill=\"#FFFFFF\" height=\"42.9375\" id=\"E2\" style=\"stroke: #383838; stroke-width: 1.5;\" width=\"71\" x=\"32.5\" y=\"41\"/><rect fill=\"#F8F8F8\" height=\"37.9375\" style=\"stroke: #383838; stroke-width: 1.5;\" width=\"71\" x=\"32.5\" y=\"41\"/><text fill=\"#000000\" font-family=\"sans-serif\" font-size=\"12\" font-style=\"italic\" lengthAdjust=\"spacingAndGlyphs\" textLength=\"64\" x=\"36\" y=\"57.1387\">«part def»</text><text fill=\"#000000\" font-family=\"sans-serif\" font-size=\"12\" lengthAdjust=\"spacingAndGlyphs\" textLength=\"8\" x=\"64\" y=\"71.1074\">A</text></a></g><!--MD5=[5525bf0f31665ac365efa0efbfb5666f]\n",
       "@startuml\r\n",
       "skinparam ranksep 10\r\n",
       "skinparam rectangle {\r\n",
       " backgroundColor<<block>> LightGreen\r\n",
       "}\r\n",
       "top to bottom direction\r\n",
       "skinparam monochrome true\r\n",
       "skinparam classbackgroundcolor white\r\n",
       "skinparam shadowing false\r\n",
       "skinparam wrapWidth 300\r\n",
       "hide circle\r\n",
       "\r\n",
       "package \"P1\" as E1  [[psysml:c7cd5194-cfe1-4c0e-ab4f-5068d52e8ab6 ]]  {\r\n",
       "rec def \"A\" as E2  <<(T,blue)part def>> [[psysml:b3ac463f-3b68-4873-9109-eb20ca5c4915 ]] {\r\n",
       "}\r\n",
       "}\r\n",
       "@enduml\r\n",
       "\n",
       "PlantUML version 1.2020.13(Sat Jun 13 12:26:38 UTC 2020)\n",
       "(EPL source distribution)\n",
       "Java Runtime: OpenJDK Runtime Environment\n",
       "JVM: OpenJDK 64-Bit Server VM\n",
       "Default Encoding: UTF-8\n",
       "Language: en\n",
       "Country: null\n",
       "--></g></svg>"
      ]
     },
     "execution_count": 47,
     "metadata": {},
     "output_type": "execute_result"
    }
   ],
   "source": [
    "%viz --style=\"TB\" --view=\"Interconnection\" \"P1\""
   ]
  },
  {
   "cell_type": "code",
   "execution_count": 48,
   "id": "cubic-bumper",
   "metadata": {
    "execution": {
     "iopub.execute_input": "2021-03-26T15:44:36.981015Z",
     "iopub.status.busy": "2021-03-26T15:44:36.980226Z",
     "iopub.status.idle": "2021-03-26T15:44:36.986430Z",
     "shell.execute_reply": "2021-03-26T15:44:36.986851Z"
    }
   },
   "outputs": [
    {
     "data": {
      "image/svg+xml": [
       "<?xml version=\"1.0\" encoding=\"UTF-8\" standalone=\"no\"?><svg xmlns=\"http://www.w3.org/2000/svg\" xmlns:xlink=\"http://www.w3.org/1999/xlink\" contentScriptType=\"application/ecmascript\" contentStyleType=\"text/css\" height=\"12px\" preserveAspectRatio=\"none\" style=\"width:12px;height:12px;\" version=\"1.1\" viewBox=\"0 0 12 12\" width=\"12px\" zoomAndPan=\"magnify\"><defs/><g><!--MD5=[06afc254b03ac5e9d9fb7773b07d0800]\n",
       "@startuml\r\n",
       "skinparam ranksep 8\r\n",
       "top to bottom direction\r\n",
       "skinparam monochrome true\r\n",
       "skinparam classbackgroundcolor white\r\n",
       "skinparam shadowing false\r\n",
       "skinparam wrapWidth 300\r\n",
       "hide circle\r\n",
       "\r\n",
       "@enduml\r\n",
       "\n",
       "PlantUML version 1.2020.13(Sat Jun 13 12:26:38 UTC 2020)\n",
       "(EPL source distribution)\n",
       "Java Runtime: OpenJDK Runtime Environment\n",
       "JVM: OpenJDK 64-Bit Server VM\n",
       "Default Encoding: UTF-8\n",
       "Language: en\n",
       "Country: null\n",
       "--></g></svg>"
      ]
     },
     "execution_count": 48,
     "metadata": {},
     "output_type": "execute_result"
    }
   ],
   "source": [
    "%viz --style=\"TB\" --view=\"Action\" \"P1\""
   ]
  },
  {
   "cell_type": "code",
   "execution_count": 49,
   "id": "dedicated-region",
   "metadata": {
    "execution": {
     "iopub.execute_input": "2021-03-26T15:44:37.039264Z",
     "iopub.status.busy": "2021-03-26T15:44:37.037957Z",
     "iopub.status.idle": "2021-03-26T15:44:37.061326Z",
     "shell.execute_reply": "2021-03-26T15:44:37.060987Z"
    }
   },
   "outputs": [
    {
     "data": {
      "image/svg+xml": [
       "<?xml version=\"1.0\" encoding=\"UTF-8\" standalone=\"no\"?><svg xmlns=\"http://www.w3.org/2000/svg\" xmlns:xlink=\"http://www.w3.org/1999/xlink\" contentScriptType=\"application/ecmascript\" contentStyleType=\"text/css\" height=\"115px\" preserveAspectRatio=\"none\" style=\"width:136px;height:115px;\" version=\"1.1\" viewBox=\"0 0 136 115\" width=\"136px\" zoomAndPan=\"magnify\"><defs/><g><!--MD5=[fbc87193dbaf4d95561dea2c320d4a47]\n",
       "cluster E1--><a href=\"psysml:c7cd5194-cfe1-4c0e-ab4f-5068d52e8ab6\" target=\"_top\" title=\"psysml:c7cd5194-cfe1-4c0e-ab4f-5068d52e8ab6\" xlink:actuate=\"onRequest\" xlink:href=\"psysml:c7cd5194-cfe1-4c0e-ab4f-5068d52e8ab6\" xlink:show=\"new\" xlink:title=\"psysml:c7cd5194-cfe1-4c0e-ab4f-5068d52e8ab6\" xlink:type=\"simple\"><polygon fill=\"#FFFFFF\" points=\"16,6,42,6,49,28.2969,114,28.2969,114,103,16,103,16,6\" style=\"stroke: #000000; stroke-width: 1.5;\"/><line style=\"stroke: #000000; stroke-width: 1.5;\" x1=\"16\" x2=\"49\" y1=\"28.2969\" y2=\"28.2969\"/><text fill=\"#000000\" font-family=\"sans-serif\" font-size=\"14\" font-weight=\"bold\" lengthAdjust=\"spacingAndGlyphs\" textLength=\"20\" x=\"20\" y=\"20.9951\">P1</text></a><!--MD5=[b4997ac47864f28c2f74865a473b2911]\n",
       "class E2--><a href=\"psysml:b3ac463f-3b68-4873-9109-eb20ca5c4915\" target=\"_top\" title=\"psysml:b3ac463f-3b68-4873-9109-eb20ca5c4915\" xlink:actuate=\"onRequest\" xlink:href=\"psysml:b3ac463f-3b68-4873-9109-eb20ca5c4915\" xlink:show=\"new\" xlink:title=\"psysml:b3ac463f-3b68-4873-9109-eb20ca5c4915\" xlink:type=\"simple\"><rect fill=\"#FFFFFF\" height=\"45.9375\" id=\"E2\" style=\"stroke: #383838; stroke-width: 1.5;\" width=\"66\" x=\"32\" y=\"41\"/><text fill=\"#000000\" font-family=\"sans-serif\" font-size=\"12\" font-style=\"italic\" lengthAdjust=\"spacingAndGlyphs\" textLength=\"64\" x=\"33\" y=\"57.1387\">«part def»</text><text fill=\"#000000\" font-family=\"sans-serif\" font-size=\"12\" lengthAdjust=\"spacingAndGlyphs\" textLength=\"8\" x=\"61\" y=\"71.1074\">A</text><line style=\"stroke: #383838; stroke-width: 1.5;\" x1=\"33\" x2=\"97\" y1=\"78.9375\" y2=\"78.9375\"/></a><!--MD5=[319dfea3c35fc5af0c04aa5d39e7ea00]\n",
       "@startuml\r\n",
       "top to bottom direction\r\n",
       "skinparam monochrome true\r\n",
       "skinparam classbackgroundcolor white\r\n",
       "skinparam shadowing false\r\n",
       "skinparam wrapWidth 300\r\n",
       "hide circle\r\n",
       "\r\n",
       "package \"P1\" as E1  [[psysml:c7cd5194-cfe1-4c0e-ab4f-5068d52e8ab6 ]]  {\r\n",
       "comp def \"A\" as E2  <<(T,blue)part def>> [[psysml:b3ac463f-3b68-4873-9109-eb20ca5c4915 ]] {\r\n",
       "}\r\n",
       "}\r\n",
       "@enduml\r\n",
       "\n",
       "PlantUML version 1.2020.13(Sat Jun 13 12:26:38 UTC 2020)\n",
       "(EPL source distribution)\n",
       "Java Runtime: OpenJDK Runtime Environment\n",
       "JVM: OpenJDK 64-Bit Server VM\n",
       "Default Encoding: UTF-8\n",
       "Language: en\n",
       "Country: null\n",
       "--></g></svg>"
      ]
     },
     "execution_count": 49,
     "metadata": {},
     "output_type": "execute_result"
    }
   ],
   "source": [
    "%viz --style=\"TB\" --view=\"Sequence\" \"P1\""
   ]
  },
  {
   "cell_type": "code",
   "execution_count": 50,
   "id": "apart-withdrawal",
   "metadata": {
    "execution": {
     "iopub.execute_input": "2021-03-26T15:44:37.111598Z",
     "iopub.status.busy": "2021-03-26T15:44:37.111199Z",
     "iopub.status.idle": "2021-03-26T15:44:37.129340Z",
     "shell.execute_reply": "2021-03-26T15:44:37.129689Z"
    }
   },
   "outputs": [
    {
     "data": {
      "image/svg+xml": [
       "<?xml version=\"1.0\" encoding=\"UTF-8\" standalone=\"no\"?><svg xmlns=\"http://www.w3.org/2000/svg\" xmlns:xlink=\"http://www.w3.org/1999/xlink\" contentScriptType=\"application/ecmascript\" contentStyleType=\"text/css\" height=\"115px\" preserveAspectRatio=\"none\" style=\"width:136px;height:115px;\" version=\"1.1\" viewBox=\"0 0 136 115\" width=\"136px\" zoomAndPan=\"magnify\"><defs/><g><!--MD5=[fbc87193dbaf4d95561dea2c320d4a47]\n",
       "cluster E1--><a href=\"psysml:c7cd5194-cfe1-4c0e-ab4f-5068d52e8ab6\" target=\"_top\" title=\"psysml:c7cd5194-cfe1-4c0e-ab4f-5068d52e8ab6\" xlink:actuate=\"onRequest\" xlink:href=\"psysml:c7cd5194-cfe1-4c0e-ab4f-5068d52e8ab6\" xlink:show=\"new\" xlink:title=\"psysml:c7cd5194-cfe1-4c0e-ab4f-5068d52e8ab6\" xlink:type=\"simple\"><polygon fill=\"#FFFFFF\" points=\"16,6,42,6,49,28.2969,114,28.2969,114,103,16,103,16,6\" style=\"stroke: #000000; stroke-width: 1.5;\"/><line style=\"stroke: #000000; stroke-width: 1.5;\" x1=\"16\" x2=\"49\" y1=\"28.2969\" y2=\"28.2969\"/><text fill=\"#000000\" font-family=\"sans-serif\" font-size=\"14\" font-weight=\"bold\" lengthAdjust=\"spacingAndGlyphs\" textLength=\"20\" x=\"20\" y=\"20.9951\">P1</text></a><!--MD5=[b4997ac47864f28c2f74865a473b2911]\n",
       "class E2--><a href=\"psysml:b3ac463f-3b68-4873-9109-eb20ca5c4915\" target=\"_top\" title=\"psysml:b3ac463f-3b68-4873-9109-eb20ca5c4915\" xlink:actuate=\"onRequest\" xlink:href=\"psysml:b3ac463f-3b68-4873-9109-eb20ca5c4915\" xlink:show=\"new\" xlink:title=\"psysml:b3ac463f-3b68-4873-9109-eb20ca5c4915\" xlink:type=\"simple\"><rect fill=\"#FFFFFF\" height=\"45.9375\" id=\"E2\" style=\"stroke: #383838; stroke-width: 1.5;\" width=\"66\" x=\"32\" y=\"41\"/><text fill=\"#000000\" font-family=\"sans-serif\" font-size=\"12\" font-style=\"italic\" lengthAdjust=\"spacingAndGlyphs\" textLength=\"64\" x=\"33\" y=\"57.1387\">«part def»</text><text fill=\"#000000\" font-family=\"sans-serif\" font-size=\"12\" lengthAdjust=\"spacingAndGlyphs\" textLength=\"8\" x=\"61\" y=\"71.1074\">A</text><line style=\"stroke: #383838; stroke-width: 1.5;\" x1=\"33\" x2=\"97\" y1=\"78.9375\" y2=\"78.9375\"/></a><!--MD5=[319dfea3c35fc5af0c04aa5d39e7ea00]\n",
       "@startuml\r\n",
       "top to bottom direction\r\n",
       "skinparam monochrome true\r\n",
       "skinparam classbackgroundcolor white\r\n",
       "skinparam shadowing false\r\n",
       "skinparam wrapWidth 300\r\n",
       "hide circle\r\n",
       "\r\n",
       "package \"P1\" as E1  [[psysml:c7cd5194-cfe1-4c0e-ab4f-5068d52e8ab6 ]]  {\r\n",
       "comp def \"A\" as E2  <<(T,blue)part def>> [[psysml:b3ac463f-3b68-4873-9109-eb20ca5c4915 ]] {\r\n",
       "}\r\n",
       "}\r\n",
       "@enduml\r\n",
       "\n",
       "PlantUML version 1.2020.13(Sat Jun 13 12:26:38 UTC 2020)\n",
       "(EPL source distribution)\n",
       "Java Runtime: OpenJDK Runtime Environment\n",
       "JVM: OpenJDK 64-Bit Server VM\n",
       "Default Encoding: UTF-8\n",
       "Language: en\n",
       "Country: null\n",
       "--></g></svg>"
      ]
     },
     "execution_count": 50,
     "metadata": {},
     "output_type": "execute_result"
    }
   ],
   "source": [
    "%viz --style=\"TB\" --view=\"MIXED\" \"P1\""
   ]
  },
  {
   "cell_type": "code",
   "execution_count": 51,
   "id": "common-samba",
   "metadata": {
    "execution": {
     "iopub.execute_input": "2021-03-26T15:44:37.180210Z",
     "iopub.status.busy": "2021-03-26T15:44:37.179847Z",
     "iopub.status.idle": "2021-03-26T15:44:37.201344Z",
     "shell.execute_reply": "2021-03-26T15:44:37.201025Z"
    }
   },
   "outputs": [
    {
     "data": {
      "image/svg+xml": [
       "<?xml version=\"1.0\" encoding=\"UTF-8\" standalone=\"no\"?><svg xmlns=\"http://www.w3.org/2000/svg\" xmlns:xlink=\"http://www.w3.org/1999/xlink\" contentScriptType=\"application/ecmascript\" contentStyleType=\"text/css\" height=\"115px\" preserveAspectRatio=\"none\" style=\"width:136px;height:115px;\" version=\"1.1\" viewBox=\"0 0 136 115\" width=\"136px\" zoomAndPan=\"magnify\"><defs/><g><!--MD5=[fbc87193dbaf4d95561dea2c320d4a47]\n",
       "cluster E1--><a href=\"psysml:c7cd5194-cfe1-4c0e-ab4f-5068d52e8ab6\" target=\"_top\" title=\"psysml:c7cd5194-cfe1-4c0e-ab4f-5068d52e8ab6\" xlink:actuate=\"onRequest\" xlink:href=\"psysml:c7cd5194-cfe1-4c0e-ab4f-5068d52e8ab6\" xlink:show=\"new\" xlink:title=\"psysml:c7cd5194-cfe1-4c0e-ab4f-5068d52e8ab6\" xlink:type=\"simple\"><polygon fill=\"#FFFFFF\" points=\"16,6,42,6,49,28.2969,114,28.2969,114,103,16,103,16,6\" style=\"stroke: #000000; stroke-width: 1.5;\"/><line style=\"stroke: #000000; stroke-width: 1.5;\" x1=\"16\" x2=\"49\" y1=\"28.2969\" y2=\"28.2969\"/><text fill=\"#000000\" font-family=\"sans-serif\" font-size=\"14\" font-weight=\"bold\" lengthAdjust=\"spacingAndGlyphs\" textLength=\"20\" x=\"20\" y=\"20.9951\">P1</text></a><!--MD5=[b4997ac47864f28c2f74865a473b2911]\n",
       "class E2--><a href=\"psysml:b3ac463f-3b68-4873-9109-eb20ca5c4915\" target=\"_top\" title=\"psysml:b3ac463f-3b68-4873-9109-eb20ca5c4915\" xlink:actuate=\"onRequest\" xlink:href=\"psysml:b3ac463f-3b68-4873-9109-eb20ca5c4915\" xlink:show=\"new\" xlink:title=\"psysml:b3ac463f-3b68-4873-9109-eb20ca5c4915\" xlink:type=\"simple\"><rect fill=\"#FFFFFF\" height=\"45.9375\" id=\"E2\" style=\"stroke: #383838; stroke-width: 1.5;\" width=\"66\" x=\"32\" y=\"41\"/><text fill=\"#000000\" font-family=\"sans-serif\" font-size=\"12\" font-style=\"italic\" lengthAdjust=\"spacingAndGlyphs\" textLength=\"64\" x=\"33\" y=\"57.1387\">«part def»</text><text fill=\"#000000\" font-family=\"sans-serif\" font-size=\"12\" lengthAdjust=\"spacingAndGlyphs\" textLength=\"8\" x=\"61\" y=\"71.1074\">A</text><line style=\"stroke: #383838; stroke-width: 1.5;\" x1=\"33\" x2=\"97\" y1=\"78.9375\" y2=\"78.9375\"/></a><!--MD5=[36e779241a028db3ffc5566ddefc369f]\n",
       "@startuml\r\n",
       "skinparam linetype ortho\r\n",
       "skinparam monochrome true\r\n",
       "skinparam classbackgroundcolor white\r\n",
       "skinparam shadowing false\r\n",
       "skinparam wrapWidth 300\r\n",
       "hide circle\r\n",
       "\r\n",
       "package \"P1\" as E1  [[psysml:c7cd5194-cfe1-4c0e-ab4f-5068d52e8ab6 ]]  {\r\n",
       "comp def \"A\" as E2  <<(T,blue)part def>> [[psysml:b3ac463f-3b68-4873-9109-eb20ca5c4915 ]] {\r\n",
       "}\r\n",
       "}\r\n",
       "@enduml\r\n",
       "\n",
       "PlantUML version 1.2020.13(Sat Jun 13 12:26:38 UTC 2020)\n",
       "(EPL source distribution)\n",
       "Java Runtime: OpenJDK Runtime Environment\n",
       "JVM: OpenJDK 64-Bit Server VM\n",
       "Default Encoding: UTF-8\n",
       "Language: en\n",
       "Country: null\n",
       "--></g></svg>"
      ]
     },
     "execution_count": 51,
     "metadata": {},
     "output_type": "execute_result"
    }
   ],
   "source": [
    "%viz --style=\"ORTHOLINE\" --view=\"Default\" \"P1\""
   ]
  },
  {
   "cell_type": "code",
   "execution_count": 52,
   "id": "remarkable-glance",
   "metadata": {
    "execution": {
     "iopub.execute_input": "2021-03-26T15:44:37.251473Z",
     "iopub.status.busy": "2021-03-26T15:44:37.251003Z",
     "iopub.status.idle": "2021-03-26T15:44:37.270144Z",
     "shell.execute_reply": "2021-03-26T15:44:37.269656Z"
    }
   },
   "outputs": [
    {
     "data": {
      "image/svg+xml": [
       "<?xml version=\"1.0\" encoding=\"UTF-8\" standalone=\"no\"?><svg xmlns=\"http://www.w3.org/2000/svg\" xmlns:xlink=\"http://www.w3.org/1999/xlink\" contentScriptType=\"application/ecmascript\" contentStyleType=\"text/css\" height=\"115px\" preserveAspectRatio=\"none\" style=\"width:136px;height:115px;\" version=\"1.1\" viewBox=\"0 0 136 115\" width=\"136px\" zoomAndPan=\"magnify\"><defs/><g><!--MD5=[fbc87193dbaf4d95561dea2c320d4a47]\n",
       "cluster E1--><a href=\"psysml:c7cd5194-cfe1-4c0e-ab4f-5068d52e8ab6\" target=\"_top\" title=\"psysml:c7cd5194-cfe1-4c0e-ab4f-5068d52e8ab6\" xlink:actuate=\"onRequest\" xlink:href=\"psysml:c7cd5194-cfe1-4c0e-ab4f-5068d52e8ab6\" xlink:show=\"new\" xlink:title=\"psysml:c7cd5194-cfe1-4c0e-ab4f-5068d52e8ab6\" xlink:type=\"simple\"><polygon fill=\"#FFFFFF\" points=\"16,6,42,6,49,28.2969,114,28.2969,114,103,16,103,16,6\" style=\"stroke: #000000; stroke-width: 1.5;\"/><line style=\"stroke: #000000; stroke-width: 1.5;\" x1=\"16\" x2=\"49\" y1=\"28.2969\" y2=\"28.2969\"/><text fill=\"#000000\" font-family=\"sans-serif\" font-size=\"14\" font-weight=\"bold\" lengthAdjust=\"spacingAndGlyphs\" textLength=\"20\" x=\"20\" y=\"20.9951\">P1</text></a><!--MD5=[b4997ac47864f28c2f74865a473b2911]\n",
       "class E2--><a href=\"psysml:b3ac463f-3b68-4873-9109-eb20ca5c4915\" target=\"_top\" title=\"psysml:b3ac463f-3b68-4873-9109-eb20ca5c4915\" xlink:actuate=\"onRequest\" xlink:href=\"psysml:b3ac463f-3b68-4873-9109-eb20ca5c4915\" xlink:show=\"new\" xlink:title=\"psysml:b3ac463f-3b68-4873-9109-eb20ca5c4915\" xlink:type=\"simple\"><rect fill=\"#FFFFFF\" height=\"45.9375\" id=\"E2\" style=\"stroke: #383838; stroke-width: 1.5;\" width=\"66\" x=\"32\" y=\"41\"/><text fill=\"#000000\" font-family=\"sans-serif\" font-size=\"12\" font-style=\"italic\" lengthAdjust=\"spacingAndGlyphs\" textLength=\"64\" x=\"33\" y=\"57.1387\">«part def»</text><text fill=\"#000000\" font-family=\"sans-serif\" font-size=\"12\" lengthAdjust=\"spacingAndGlyphs\" textLength=\"8\" x=\"61\" y=\"71.1074\">A</text><line style=\"stroke: #383838; stroke-width: 1.5;\" x1=\"33\" x2=\"97\" y1=\"78.9375\" y2=\"78.9375\"/></a><!--MD5=[36e779241a028db3ffc5566ddefc369f]\n",
       "@startuml\r\n",
       "skinparam linetype ortho\r\n",
       "skinparam monochrome true\r\n",
       "skinparam classbackgroundcolor white\r\n",
       "skinparam shadowing false\r\n",
       "skinparam wrapWidth 300\r\n",
       "hide circle\r\n",
       "\r\n",
       "package \"P1\" as E1  [[psysml:c7cd5194-cfe1-4c0e-ab4f-5068d52e8ab6 ]]  {\r\n",
       "comp def \"A\" as E2  <<(T,blue)part def>> [[psysml:b3ac463f-3b68-4873-9109-eb20ca5c4915 ]] {\r\n",
       "}\r\n",
       "}\r\n",
       "@enduml\r\n",
       "\n",
       "PlantUML version 1.2020.13(Sat Jun 13 12:26:38 UTC 2020)\n",
       "(EPL source distribution)\n",
       "Java Runtime: OpenJDK Runtime Environment\n",
       "JVM: OpenJDK 64-Bit Server VM\n",
       "Default Encoding: UTF-8\n",
       "Language: en\n",
       "Country: null\n",
       "--></g></svg>"
      ]
     },
     "execution_count": 52,
     "metadata": {},
     "output_type": "execute_result"
    }
   ],
   "source": [
    "%viz --style=\"ORTHOLINE\" --view=\"Tree\" \"P1\""
   ]
  },
  {
   "cell_type": "code",
   "execution_count": 53,
   "id": "statewide-gravity",
   "metadata": {
    "execution": {
     "iopub.execute_input": "2021-03-26T15:44:37.320848Z",
     "iopub.status.busy": "2021-03-26T15:44:37.320415Z",
     "iopub.status.idle": "2021-03-26T15:44:37.325339Z",
     "shell.execute_reply": "2021-03-26T15:44:37.325019Z"
    }
   },
   "outputs": [
    {
     "data": {
      "image/svg+xml": [
       "<?xml version=\"1.0\" encoding=\"UTF-8\" standalone=\"no\"?><svg xmlns=\"http://www.w3.org/2000/svg\" xmlns:xlink=\"http://www.w3.org/1999/xlink\" contentScriptType=\"application/ecmascript\" contentStyleType=\"text/css\" height=\"12px\" preserveAspectRatio=\"none\" style=\"width:12px;height:12px;\" version=\"1.1\" viewBox=\"0 0 12 12\" width=\"12px\" zoomAndPan=\"magnify\"><defs/><g><!--MD5=[97d6f38768b311333d388e66b2b27985]\n",
       "@startuml\r\n",
       "skinparam linetype ortho\r\n",
       "skinparam monochrome true\r\n",
       "skinparam classbackgroundcolor white\r\n",
       "skinparam shadowing false\r\n",
       "skinparam wrapWidth 300\r\n",
       "hide circle\r\n",
       "\r\n",
       "@enduml\r\n",
       "\n",
       "PlantUML version 1.2020.13(Sat Jun 13 12:26:38 UTC 2020)\n",
       "(EPL source distribution)\n",
       "Java Runtime: OpenJDK Runtime Environment\n",
       "JVM: OpenJDK 64-Bit Server VM\n",
       "Default Encoding: UTF-8\n",
       "Language: en\n",
       "Country: null\n",
       "--></g></svg>"
      ]
     },
     "execution_count": 53,
     "metadata": {},
     "output_type": "execute_result"
    }
   ],
   "source": [
    "%viz --style=\"ORTHOLINE\" --view=\"State\" \"P1\""
   ]
  },
  {
   "cell_type": "code",
   "execution_count": 54,
   "id": "violent-cream",
   "metadata": {
    "execution": {
     "iopub.execute_input": "2021-03-26T15:44:37.376025Z",
     "iopub.status.busy": "2021-03-26T15:44:37.375664Z",
     "iopub.status.idle": "2021-03-26T15:44:37.396256Z",
     "shell.execute_reply": "2021-03-26T15:44:37.395926Z"
    }
   },
   "outputs": [
    {
     "data": {
      "image/svg+xml": [
       "<?xml version=\"1.0\" encoding=\"UTF-8\" standalone=\"no\"?><svg xmlns=\"http://www.w3.org/2000/svg\" xmlns:xlink=\"http://www.w3.org/1999/xlink\" contentScriptType=\"application/ecmascript\" contentStyleType=\"text/css\" height=\"112px\" preserveAspectRatio=\"none\" style=\"width:142px;height:112px;\" version=\"1.1\" viewBox=\"0 0 142 112\" width=\"142px\" zoomAndPan=\"magnify\"><defs/><g><!--MD5=[fbc87193dbaf4d95561dea2c320d4a47]\n",
       "cluster E1--><a href=\"psysml:c7cd5194-cfe1-4c0e-ab4f-5068d52e8ab6\" target=\"_top\" title=\"psysml:c7cd5194-cfe1-4c0e-ab4f-5068d52e8ab6\" xlink:actuate=\"onRequest\" xlink:href=\"psysml:c7cd5194-cfe1-4c0e-ab4f-5068d52e8ab6\" xlink:show=\"new\" xlink:title=\"psysml:c7cd5194-cfe1-4c0e-ab4f-5068d52e8ab6\" xlink:type=\"simple\"><polygon fill=\"#FFFFFF\" points=\"16,6,42,6,49,28.2969,120,28.2969,120,100,16,100,16,6\" style=\"stroke: #000000; stroke-width: 1.5;\"/><line style=\"stroke: #000000; stroke-width: 1.5;\" x1=\"16\" x2=\"49\" y1=\"28.2969\" y2=\"28.2969\"/><text fill=\"#000000\" font-family=\"sans-serif\" font-size=\"14\" font-weight=\"bold\" lengthAdjust=\"spacingAndGlyphs\" textLength=\"20\" x=\"20\" y=\"20.9951\">P1</text></a><g id=\"E1.E2\"><a href=\"psysml:b3ac463f-3b68-4873-9109-eb20ca5c4915\" target=\"_top\" title=\"psysml:b3ac463f-3b68-4873-9109-eb20ca5c4915\" xlink:actuate=\"onRequest\" xlink:href=\"psysml:b3ac463f-3b68-4873-9109-eb20ca5c4915\" xlink:show=\"new\" xlink:title=\"psysml:b3ac463f-3b68-4873-9109-eb20ca5c4915\" xlink:type=\"simple\"><rect fill=\"#FFFFFF\" height=\"42.9375\" id=\"E2\" style=\"stroke: #383838; stroke-width: 1.5;\" width=\"71\" x=\"32.5\" y=\"41\"/><rect fill=\"#F8F8F8\" height=\"37.9375\" style=\"stroke: #383838; stroke-width: 1.5;\" width=\"71\" x=\"32.5\" y=\"41\"/><text fill=\"#000000\" font-family=\"sans-serif\" font-size=\"12\" font-style=\"italic\" lengthAdjust=\"spacingAndGlyphs\" textLength=\"64\" x=\"36\" y=\"57.1387\">«part def»</text><text fill=\"#000000\" font-family=\"sans-serif\" font-size=\"12\" lengthAdjust=\"spacingAndGlyphs\" textLength=\"8\" x=\"64\" y=\"71.1074\">A</text></a></g><!--MD5=[b3c75fbde5850cfc5d85c0d45319ed65]\n",
       "@startuml\r\n",
       "skinparam ranksep 10\r\n",
       "skinparam rectangle {\r\n",
       " backgroundColor<<block>> LightGreen\r\n",
       "}\r\n",
       "skinparam linetype ortho\r\n",
       "skinparam monochrome true\r\n",
       "skinparam classbackgroundcolor white\r\n",
       "skinparam shadowing false\r\n",
       "skinparam wrapWidth 300\r\n",
       "hide circle\r\n",
       "\r\n",
       "package \"P1\" as E1  [[psysml:c7cd5194-cfe1-4c0e-ab4f-5068d52e8ab6 ]]  {\r\n",
       "rec def \"A\" as E2  <<(T,blue)part def>> [[psysml:b3ac463f-3b68-4873-9109-eb20ca5c4915 ]] {\r\n",
       "}\r\n",
       "}\r\n",
       "@enduml\r\n",
       "\n",
       "PlantUML version 1.2020.13(Sat Jun 13 12:26:38 UTC 2020)\n",
       "(EPL source distribution)\n",
       "Java Runtime: OpenJDK Runtime Environment\n",
       "JVM: OpenJDK 64-Bit Server VM\n",
       "Default Encoding: UTF-8\n",
       "Language: en\n",
       "Country: null\n",
       "--></g></svg>"
      ]
     },
     "execution_count": 54,
     "metadata": {},
     "output_type": "execute_result"
    }
   ],
   "source": [
    "%viz --style=\"ORTHOLINE\" --view=\"Interconnection\" \"P1\""
   ]
  },
  {
   "cell_type": "code",
   "execution_count": 55,
   "id": "monetary-facial",
   "metadata": {
    "execution": {
     "iopub.execute_input": "2021-03-26T15:44:37.447037Z",
     "iopub.status.busy": "2021-03-26T15:44:37.446651Z",
     "iopub.status.idle": "2021-03-26T15:44:37.451642Z",
     "shell.execute_reply": "2021-03-26T15:44:37.451255Z"
    }
   },
   "outputs": [
    {
     "data": {
      "image/svg+xml": [
       "<?xml version=\"1.0\" encoding=\"UTF-8\" standalone=\"no\"?><svg xmlns=\"http://www.w3.org/2000/svg\" xmlns:xlink=\"http://www.w3.org/1999/xlink\" contentScriptType=\"application/ecmascript\" contentStyleType=\"text/css\" height=\"12px\" preserveAspectRatio=\"none\" style=\"width:12px;height:12px;\" version=\"1.1\" viewBox=\"0 0 12 12\" width=\"12px\" zoomAndPan=\"magnify\"><defs/><g><!--MD5=[72934c63077099a26744516a776b4749]\n",
       "@startuml\r\n",
       "skinparam ranksep 8\r\n",
       "skinparam linetype ortho\r\n",
       "skinparam monochrome true\r\n",
       "skinparam classbackgroundcolor white\r\n",
       "skinparam shadowing false\r\n",
       "skinparam wrapWidth 300\r\n",
       "hide circle\r\n",
       "\r\n",
       "@enduml\r\n",
       "\n",
       "PlantUML version 1.2020.13(Sat Jun 13 12:26:38 UTC 2020)\n",
       "(EPL source distribution)\n",
       "Java Runtime: OpenJDK Runtime Environment\n",
       "JVM: OpenJDK 64-Bit Server VM\n",
       "Default Encoding: UTF-8\n",
       "Language: en\n",
       "Country: null\n",
       "--></g></svg>"
      ]
     },
     "execution_count": 55,
     "metadata": {},
     "output_type": "execute_result"
    }
   ],
   "source": [
    "%viz --style=\"ORTHOLINE\" --view=\"Action\" \"P1\""
   ]
  },
  {
   "cell_type": "code",
   "execution_count": 56,
   "id": "entire-methodology",
   "metadata": {
    "execution": {
     "iopub.execute_input": "2021-03-26T15:44:37.503897Z",
     "iopub.status.busy": "2021-03-26T15:44:37.503064Z",
     "iopub.status.idle": "2021-03-26T15:44:37.527369Z",
     "shell.execute_reply": "2021-03-26T15:44:37.526953Z"
    }
   },
   "outputs": [
    {
     "data": {
      "image/svg+xml": [
       "<?xml version=\"1.0\" encoding=\"UTF-8\" standalone=\"no\"?><svg xmlns=\"http://www.w3.org/2000/svg\" xmlns:xlink=\"http://www.w3.org/1999/xlink\" contentScriptType=\"application/ecmascript\" contentStyleType=\"text/css\" height=\"115px\" preserveAspectRatio=\"none\" style=\"width:136px;height:115px;\" version=\"1.1\" viewBox=\"0 0 136 115\" width=\"136px\" zoomAndPan=\"magnify\"><defs/><g><!--MD5=[fbc87193dbaf4d95561dea2c320d4a47]\n",
       "cluster E1--><a href=\"psysml:c7cd5194-cfe1-4c0e-ab4f-5068d52e8ab6\" target=\"_top\" title=\"psysml:c7cd5194-cfe1-4c0e-ab4f-5068d52e8ab6\" xlink:actuate=\"onRequest\" xlink:href=\"psysml:c7cd5194-cfe1-4c0e-ab4f-5068d52e8ab6\" xlink:show=\"new\" xlink:title=\"psysml:c7cd5194-cfe1-4c0e-ab4f-5068d52e8ab6\" xlink:type=\"simple\"><polygon fill=\"#FFFFFF\" points=\"16,6,42,6,49,28.2969,114,28.2969,114,103,16,103,16,6\" style=\"stroke: #000000; stroke-width: 1.5;\"/><line style=\"stroke: #000000; stroke-width: 1.5;\" x1=\"16\" x2=\"49\" y1=\"28.2969\" y2=\"28.2969\"/><text fill=\"#000000\" font-family=\"sans-serif\" font-size=\"14\" font-weight=\"bold\" lengthAdjust=\"spacingAndGlyphs\" textLength=\"20\" x=\"20\" y=\"20.9951\">P1</text></a><!--MD5=[b4997ac47864f28c2f74865a473b2911]\n",
       "class E2--><a href=\"psysml:b3ac463f-3b68-4873-9109-eb20ca5c4915\" target=\"_top\" title=\"psysml:b3ac463f-3b68-4873-9109-eb20ca5c4915\" xlink:actuate=\"onRequest\" xlink:href=\"psysml:b3ac463f-3b68-4873-9109-eb20ca5c4915\" xlink:show=\"new\" xlink:title=\"psysml:b3ac463f-3b68-4873-9109-eb20ca5c4915\" xlink:type=\"simple\"><rect fill=\"#FFFFFF\" height=\"45.9375\" id=\"E2\" style=\"stroke: #383838; stroke-width: 1.5;\" width=\"66\" x=\"32\" y=\"41\"/><text fill=\"#000000\" font-family=\"sans-serif\" font-size=\"12\" font-style=\"italic\" lengthAdjust=\"spacingAndGlyphs\" textLength=\"64\" x=\"33\" y=\"57.1387\">«part def»</text><text fill=\"#000000\" font-family=\"sans-serif\" font-size=\"12\" lengthAdjust=\"spacingAndGlyphs\" textLength=\"8\" x=\"61\" y=\"71.1074\">A</text><line style=\"stroke: #383838; stroke-width: 1.5;\" x1=\"33\" x2=\"97\" y1=\"78.9375\" y2=\"78.9375\"/></a><!--MD5=[36e779241a028db3ffc5566ddefc369f]\n",
       "@startuml\r\n",
       "skinparam linetype ortho\r\n",
       "skinparam monochrome true\r\n",
       "skinparam classbackgroundcolor white\r\n",
       "skinparam shadowing false\r\n",
       "skinparam wrapWidth 300\r\n",
       "hide circle\r\n",
       "\r\n",
       "package \"P1\" as E1  [[psysml:c7cd5194-cfe1-4c0e-ab4f-5068d52e8ab6 ]]  {\r\n",
       "comp def \"A\" as E2  <<(T,blue)part def>> [[psysml:b3ac463f-3b68-4873-9109-eb20ca5c4915 ]] {\r\n",
       "}\r\n",
       "}\r\n",
       "@enduml\r\n",
       "\n",
       "PlantUML version 1.2020.13(Sat Jun 13 12:26:38 UTC 2020)\n",
       "(EPL source distribution)\n",
       "Java Runtime: OpenJDK Runtime Environment\n",
       "JVM: OpenJDK 64-Bit Server VM\n",
       "Default Encoding: UTF-8\n",
       "Language: en\n",
       "Country: null\n",
       "--></g></svg>"
      ]
     },
     "execution_count": 56,
     "metadata": {},
     "output_type": "execute_result"
    }
   ],
   "source": [
    "%viz --style=\"ORTHOLINE\" --view=\"Sequence\" \"P1\""
   ]
  },
  {
   "cell_type": "code",
   "execution_count": 57,
   "id": "whole-buying",
   "metadata": {
    "execution": {
     "iopub.execute_input": "2021-03-26T15:44:37.580908Z",
     "iopub.status.busy": "2021-03-26T15:44:37.579143Z",
     "iopub.status.idle": "2021-03-26T15:44:37.605062Z",
     "shell.execute_reply": "2021-03-26T15:44:37.604732Z"
    }
   },
   "outputs": [
    {
     "data": {
      "image/svg+xml": [
       "<?xml version=\"1.0\" encoding=\"UTF-8\" standalone=\"no\"?><svg xmlns=\"http://www.w3.org/2000/svg\" xmlns:xlink=\"http://www.w3.org/1999/xlink\" contentScriptType=\"application/ecmascript\" contentStyleType=\"text/css\" height=\"115px\" preserveAspectRatio=\"none\" style=\"width:136px;height:115px;\" version=\"1.1\" viewBox=\"0 0 136 115\" width=\"136px\" zoomAndPan=\"magnify\"><defs/><g><!--MD5=[fbc87193dbaf4d95561dea2c320d4a47]\n",
       "cluster E1--><a href=\"psysml:c7cd5194-cfe1-4c0e-ab4f-5068d52e8ab6\" target=\"_top\" title=\"psysml:c7cd5194-cfe1-4c0e-ab4f-5068d52e8ab6\" xlink:actuate=\"onRequest\" xlink:href=\"psysml:c7cd5194-cfe1-4c0e-ab4f-5068d52e8ab6\" xlink:show=\"new\" xlink:title=\"psysml:c7cd5194-cfe1-4c0e-ab4f-5068d52e8ab6\" xlink:type=\"simple\"><polygon fill=\"#FFFFFF\" points=\"16,6,42,6,49,28.2969,114,28.2969,114,103,16,103,16,6\" style=\"stroke: #000000; stroke-width: 1.5;\"/><line style=\"stroke: #000000; stroke-width: 1.5;\" x1=\"16\" x2=\"49\" y1=\"28.2969\" y2=\"28.2969\"/><text fill=\"#000000\" font-family=\"sans-serif\" font-size=\"14\" font-weight=\"bold\" lengthAdjust=\"spacingAndGlyphs\" textLength=\"20\" x=\"20\" y=\"20.9951\">P1</text></a><!--MD5=[b4997ac47864f28c2f74865a473b2911]\n",
       "class E2--><a href=\"psysml:b3ac463f-3b68-4873-9109-eb20ca5c4915\" target=\"_top\" title=\"psysml:b3ac463f-3b68-4873-9109-eb20ca5c4915\" xlink:actuate=\"onRequest\" xlink:href=\"psysml:b3ac463f-3b68-4873-9109-eb20ca5c4915\" xlink:show=\"new\" xlink:title=\"psysml:b3ac463f-3b68-4873-9109-eb20ca5c4915\" xlink:type=\"simple\"><rect fill=\"#FFFFFF\" height=\"45.9375\" id=\"E2\" style=\"stroke: #383838; stroke-width: 1.5;\" width=\"66\" x=\"32\" y=\"41\"/><text fill=\"#000000\" font-family=\"sans-serif\" font-size=\"12\" font-style=\"italic\" lengthAdjust=\"spacingAndGlyphs\" textLength=\"64\" x=\"33\" y=\"57.1387\">«part def»</text><text fill=\"#000000\" font-family=\"sans-serif\" font-size=\"12\" lengthAdjust=\"spacingAndGlyphs\" textLength=\"8\" x=\"61\" y=\"71.1074\">A</text><line style=\"stroke: #383838; stroke-width: 1.5;\" x1=\"33\" x2=\"97\" y1=\"78.9375\" y2=\"78.9375\"/></a><!--MD5=[36e779241a028db3ffc5566ddefc369f]\n",
       "@startuml\r\n",
       "skinparam linetype ortho\r\n",
       "skinparam monochrome true\r\n",
       "skinparam classbackgroundcolor white\r\n",
       "skinparam shadowing false\r\n",
       "skinparam wrapWidth 300\r\n",
       "hide circle\r\n",
       "\r\n",
       "package \"P1\" as E1  [[psysml:c7cd5194-cfe1-4c0e-ab4f-5068d52e8ab6 ]]  {\r\n",
       "comp def \"A\" as E2  <<(T,blue)part def>> [[psysml:b3ac463f-3b68-4873-9109-eb20ca5c4915 ]] {\r\n",
       "}\r\n",
       "}\r\n",
       "@enduml\r\n",
       "\n",
       "PlantUML version 1.2020.13(Sat Jun 13 12:26:38 UTC 2020)\n",
       "(EPL source distribution)\n",
       "Java Runtime: OpenJDK Runtime Environment\n",
       "JVM: OpenJDK 64-Bit Server VM\n",
       "Default Encoding: UTF-8\n",
       "Language: en\n",
       "Country: null\n",
       "--></g></svg>"
      ]
     },
     "execution_count": 57,
     "metadata": {},
     "output_type": "execute_result"
    }
   ],
   "source": [
    "%viz --style=\"ORTHOLINE\" --view=\"MIXED\" \"P1\""
   ]
  }
 ],
 "metadata": {
  "kernelspec": {
   "display_name": "SysML",
   "language": "sysml",
   "name": "sysml"
  },
  "language_info": {
   "codemirror_mode": "sysml",
   "file_extension": ".sysml",
   "mimetype": "text/x-sysml",
   "name": "SysML",
   "pygments_lexer": "java",
   "version": "1.0.0"
  }
 },
 "nbformat": 4,
 "nbformat_minor": 5
}
