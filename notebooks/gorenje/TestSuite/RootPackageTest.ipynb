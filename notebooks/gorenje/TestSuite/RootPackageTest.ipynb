{
 "cells": [
  {
   "cell_type": "markdown",
   "id": "14036f65",
   "metadata": {},
   "source": [
    "# SysML v2 Test Suite\n",
    "\n",
    "This can notebook can be cleared using menu `Edit --> Clear All Outputs` and then all cells can be\n",
    "run using menu `Run --> Run All Cells`.\n",
    "\n",
    "**WARNING**: This file is generated, all modifications here will be ignored.\n"
   ]
  },
  {
   "cell_type": "markdown",
   "id": "e99a14e5",
   "metadata": {},
   "source": [
    "## File: ../../sysml/src/examples/Simple Tests/RootPackageTest.sysml"
   ]
  },
  {
   "cell_type": "code",
   "execution_count": 1,
   "id": "26dabb1d",
   "metadata": {
    "execution": {
     "iopub.execute_input": "2024-12-16T14:15:35.572020Z",
     "iopub.status.busy": "2024-12-16T14:15:35.570282Z",
     "iopub.status.idle": "2024-12-16T14:15:35.803728Z",
     "shell.execute_reply": "2024-12-16T14:15:35.803481Z"
    }
   },
   "outputs": [
    {
     "data": {
      "text/plain": [
       "Package P1 (25630d9e-fd72-404c-a7ab-b539c76838aa)\n",
       "Package P2 (e78b2c81-fc9c-45bf-be52-67d84cf776e9)\n",
       "Package P3 (c000938d-e492-40e1-8239-6756e35985d3)\n"
      ]
     },
     "execution_count": 1,
     "metadata": {},
     "output_type": "execute_result"
    }
   ],
   "source": [
    "package P1 {\n",
    "\tpart def A;\n",
    "}\n",
    "\n",
    "package P2 {\n",
    "\tprivate import P1::*;\n",
    "\tpart a : A;\n",
    "}\n",
    "\n",
    "private import P2::*;\n",
    "\n",
    "package P3 {\n",
    "\tpart b subsets a;\n",
    "}"
   ]
  },
  {
   "cell_type": "code",
   "execution_count": 2,
   "id": "a4fb887a",
   "metadata": {
    "execution": {
     "iopub.execute_input": "2024-12-16T14:15:35.859042Z",
     "iopub.status.busy": "2024-12-16T14:15:35.858821Z",
     "iopub.status.idle": "2024-12-16T14:15:36.202961Z",
     "shell.execute_reply": "2024-12-16T14:15:36.203110Z"
    }
   },
   "outputs": [
    {
     "data": {
      "image/svg+xml": [
       "<?xml version=\"1.0\" encoding=\"UTF-8\" standalone=\"no\"?><svg xmlns=\"http://www.w3.org/2000/svg\" xmlns:xlink=\"http://www.w3.org/1999/xlink\" contentStyleType=\"text/css\" height=\"112px\" preserveAspectRatio=\"none\" style=\"width:135px;height:112px;background:#FFFFFF;\" version=\"1.1\" viewBox=\"0 0 135 112\" width=\"135px\" zoomAndPan=\"magnify\"><defs/><g><!--MD5=[fbc87193dbaf4d95561dea2c320d4a47]\n",
       "cluster E1--><g id=\"cluster_E1\"><a href=\"psysml:25630d9e-fd72-404c-a7ab-b539c76838aa\" target=\"_top\" title=\"psysml:25630d9e-fd72-404c-a7ab-b539c76838aa\" xlink:actuate=\"onRequest\" xlink:href=\"psysml:25630d9e-fd72-404c-a7ab-b539c76838aa\" xlink:show=\"new\" xlink:title=\"psysml:25630d9e-fd72-404c-a7ab-b539c76838aa\" xlink:type=\"simple\"><polygon fill=\"none\" points=\"16,6,40.875,6,47.875,28.2969,118,28.2969,118,105,16,105,16,6\" style=\"stroke:#000000;stroke-width:1.5;\"/><line style=\"stroke:#000000;stroke-width:1.5;\" x1=\"16\" x2=\"47.875\" y1=\"28.2969\" y2=\"28.2969\"/><text fill=\"#000000\" font-family=\"sans-serif\" font-size=\"14\" font-weight=\"bold\" lengthAdjust=\"spacing\" textLength=\"18.875\" x=\"20\" y=\"20.9951\">P1</text></a></g><!--MD5=[b4997ac47864f28c2f74865a473b2911]\n",
       "class E2--><a href=\"psysml:a55dbec3-766f-4afc-9e3f-438a26c08edd\" target=\"_top\" title=\"psysml:a55dbec3-766f-4afc-9e3f-438a26c08edd\" xlink:actuate=\"onRequest\" xlink:href=\"psysml:a55dbec3-766f-4afc-9e3f-438a26c08edd\" xlink:show=\"new\" xlink:title=\"psysml:a55dbec3-766f-4afc-9e3f-438a26c08edd\" xlink:type=\"simple\"><g id=\"elem_E2\"><rect fill=\"#FFFFFF\" height=\"48.2656\" id=\"E2\" style=\"stroke:#181818;stroke-width:0.5;\" width=\"70\" x=\"32\" y=\"41\"/><text fill=\"#000000\" font-family=\"sans-serif\" font-size=\"12\" font-style=\"italic\" lengthAdjust=\"spacing\" textLength=\"68\" x=\"33\" y=\"57.1387\">«part  def»</text><text fill=\"#000000\" font-family=\"sans-serif\" font-size=\"14\" lengthAdjust=\"spacing\" textLength=\"9\" x=\"62.5\" y=\"72.9639\">A</text><line style=\"stroke:#181818;stroke-width:0.5;\" x1=\"33\" x2=\"101\" y1=\"81.2656\" y2=\"81.2656\"/></g></a><!--MD5=[a07a56b2288d8947504e44ddc48a9683]\n",
       "@startuml\r\n",
       "skin sysmlbw\r\n",
       "skinparam monochrome true\r\n",
       "skinparam wrapWidth 300\r\n",
       "hide circle\r\n",
       " \r\n",
       "package \"P1\" as E1  [[psysml:25630d9e-fd72-404c-a7ab-b539c76838aa ]]  {\r\n",
       "comp def \"A\" as E2  <<(T,blue) part  def>> [[psysml:a55dbec3-766f-4afc-9e3f-438a26c08edd ]] {\r\n",
       "}\r\n",
       "}\r\n",
       "@enduml\r\n",
       "\n",
       "PlantUML version 1.2022.7(Mon Aug 22 17:01:30 UTC 2022)\n",
       "(EPL source distribution)\n",
       "Java Runtime: OpenJDK Runtime Environment\n",
       "JVM: OpenJDK 64-Bit Server VM\n",
       "Default Encoding: UTF-8\n",
       "Language: en\n",
       "Country: null\n",
       "--></g></svg>"
      ]
     },
     "execution_count": 2,
     "metadata": {},
     "output_type": "execute_result"
    }
   ],
   "source": [
    "%viz --style=\"COMPTREE\" --view=\"Default\" \"P1\""
   ]
  },
  {
   "cell_type": "code",
   "execution_count": 3,
   "id": "86c5852a",
   "metadata": {
    "execution": {
     "iopub.execute_input": "2024-12-16T14:15:36.260454Z",
     "iopub.status.busy": "2024-12-16T14:15:36.260205Z",
     "iopub.status.idle": "2024-12-16T14:15:36.289512Z",
     "shell.execute_reply": "2024-12-16T14:15:36.289648Z"
    }
   },
   "outputs": [
    {
     "data": {
      "image/svg+xml": [
       "<?xml version=\"1.0\" encoding=\"UTF-8\" standalone=\"no\"?><svg xmlns=\"http://www.w3.org/2000/svg\" xmlns:xlink=\"http://www.w3.org/1999/xlink\" contentStyleType=\"text/css\" height=\"112px\" preserveAspectRatio=\"none\" style=\"width:135px;height:112px;background:#FFFFFF;\" version=\"1.1\" viewBox=\"0 0 135 112\" width=\"135px\" zoomAndPan=\"magnify\"><defs/><g><!--MD5=[fbc87193dbaf4d95561dea2c320d4a47]\n",
       "cluster E1--><g id=\"cluster_E1\"><a href=\"psysml:25630d9e-fd72-404c-a7ab-b539c76838aa\" target=\"_top\" title=\"psysml:25630d9e-fd72-404c-a7ab-b539c76838aa\" xlink:actuate=\"onRequest\" xlink:href=\"psysml:25630d9e-fd72-404c-a7ab-b539c76838aa\" xlink:show=\"new\" xlink:title=\"psysml:25630d9e-fd72-404c-a7ab-b539c76838aa\" xlink:type=\"simple\"><polygon fill=\"none\" points=\"16,6,40.875,6,47.875,28.2969,118,28.2969,118,105,16,105,16,6\" style=\"stroke:#000000;stroke-width:1.5;\"/><line style=\"stroke:#000000;stroke-width:1.5;\" x1=\"16\" x2=\"47.875\" y1=\"28.2969\" y2=\"28.2969\"/><text fill=\"#000000\" font-family=\"sans-serif\" font-size=\"14\" font-weight=\"bold\" lengthAdjust=\"spacing\" textLength=\"18.875\" x=\"20\" y=\"20.9951\">P1</text></a></g><!--MD5=[b4997ac47864f28c2f74865a473b2911]\n",
       "class E2--><a href=\"psysml:a55dbec3-766f-4afc-9e3f-438a26c08edd\" target=\"_top\" title=\"psysml:a55dbec3-766f-4afc-9e3f-438a26c08edd\" xlink:actuate=\"onRequest\" xlink:href=\"psysml:a55dbec3-766f-4afc-9e3f-438a26c08edd\" xlink:show=\"new\" xlink:title=\"psysml:a55dbec3-766f-4afc-9e3f-438a26c08edd\" xlink:type=\"simple\"><g id=\"elem_E2\"><rect fill=\"#FFFFFF\" height=\"48.2656\" id=\"E2\" style=\"stroke:#181818;stroke-width:0.5;\" width=\"70\" x=\"32\" y=\"41\"/><text fill=\"#000000\" font-family=\"sans-serif\" font-size=\"12\" font-style=\"italic\" lengthAdjust=\"spacing\" textLength=\"68\" x=\"33\" y=\"57.1387\">«part  def»</text><text fill=\"#000000\" font-family=\"sans-serif\" font-size=\"14\" lengthAdjust=\"spacing\" textLength=\"9\" x=\"62.5\" y=\"72.9639\">A</text><line style=\"stroke:#181818;stroke-width:0.5;\" x1=\"33\" x2=\"101\" y1=\"81.2656\" y2=\"81.2656\"/></g></a><!--MD5=[a07a56b2288d8947504e44ddc48a9683]\n",
       "@startuml\r\n",
       "skin sysmlbw\r\n",
       "skinparam monochrome true\r\n",
       "skinparam wrapWidth 300\r\n",
       "hide circle\r\n",
       " \r\n",
       "package \"P1\" as E1  [[psysml:25630d9e-fd72-404c-a7ab-b539c76838aa ]]  {\r\n",
       "comp def \"A\" as E2  <<(T,blue) part  def>> [[psysml:a55dbec3-766f-4afc-9e3f-438a26c08edd ]] {\r\n",
       "}\r\n",
       "}\r\n",
       "@enduml\r\n",
       "\n",
       "PlantUML version 1.2022.7(Mon Aug 22 17:01:30 UTC 2022)\n",
       "(EPL source distribution)\n",
       "Java Runtime: OpenJDK Runtime Environment\n",
       "JVM: OpenJDK 64-Bit Server VM\n",
       "Default Encoding: UTF-8\n",
       "Language: en\n",
       "Country: null\n",
       "--></g></svg>"
      ]
     },
     "execution_count": 3,
     "metadata": {},
     "output_type": "execute_result"
    }
   ],
   "source": [
    "%viz --style=\"COMPTREE\" --view=\"Tree\" \"P1\""
   ]
  },
  {
   "cell_type": "code",
   "execution_count": 4,
   "id": "ce10efeb",
   "metadata": {
    "execution": {
     "iopub.execute_input": "2024-12-16T14:15:36.346383Z",
     "iopub.status.busy": "2024-12-16T14:15:36.346131Z",
     "iopub.status.idle": "2024-12-16T14:15:36.354720Z",
     "shell.execute_reply": "2024-12-16T14:15:36.354846Z"
    }
   },
   "outputs": [
    {
     "data": {
      "image/svg+xml": [
       "<?xml version=\"1.0\" encoding=\"UTF-8\" standalone=\"no\"?><svg xmlns=\"http://www.w3.org/2000/svg\" xmlns:xlink=\"http://www.w3.org/1999/xlink\" contentStyleType=\"text/css\" height=\"10px\" preserveAspectRatio=\"none\" style=\"width:10px;height:10px;background:#FFFFFF;\" version=\"1.1\" viewBox=\"0 0 10 10\" width=\"10px\" zoomAndPan=\"magnify\"><defs/><g><!--MD5=[ee07d3037018df61283447c7fdb4a44f]\n",
       "@startuml\r\n",
       "skin sysmlbw\r\n",
       "skinparam monochrome true\r\n",
       "skinparam wrapWidth 300\r\n",
       "hide circle\r\n",
       " \r\n",
       "@enduml\r\n",
       "\n",
       "PlantUML version 1.2022.7(Mon Aug 22 17:01:30 UTC 2022)\n",
       "(EPL source distribution)\n",
       "Java Runtime: OpenJDK Runtime Environment\n",
       "JVM: OpenJDK 64-Bit Server VM\n",
       "Default Encoding: UTF-8\n",
       "Language: en\n",
       "Country: null\n",
       "--></g></svg>"
      ]
     },
     "execution_count": 4,
     "metadata": {},
     "output_type": "execute_result"
    }
   ],
   "source": [
    "%viz --style=\"COMPTREE\" --view=\"State\" \"P1\""
   ]
  },
  {
   "cell_type": "code",
   "execution_count": 5,
   "id": "6d8a1fdb",
   "metadata": {
    "execution": {
     "iopub.execute_input": "2024-12-16T14:15:36.411346Z",
     "iopub.status.busy": "2024-12-16T14:15:36.411162Z",
     "iopub.status.idle": "2024-12-16T14:15:36.443208Z",
     "shell.execute_reply": "2024-12-16T14:15:36.443008Z"
    }
   },
   "outputs": [
    {
     "data": {
      "image/svg+xml": [
       "<?xml version=\"1.0\" encoding=\"UTF-8\" standalone=\"no\"?><svg xmlns=\"http://www.w3.org/2000/svg\" xmlns:xlink=\"http://www.w3.org/1999/xlink\" contentStyleType=\"text/css\" height=\"109px\" preserveAspectRatio=\"none\" style=\"width:139px;height:109px;background:#FFFFFF;\" version=\"1.1\" viewBox=\"0 0 139 109\" width=\"139px\" zoomAndPan=\"magnify\"><defs/><g><!--MD5=[fbc87193dbaf4d95561dea2c320d4a47]\n",
       "cluster E1--><g id=\"cluster_E1\"><a href=\"psysml:25630d9e-fd72-404c-a7ab-b539c76838aa\" target=\"_top\" title=\"psysml:25630d9e-fd72-404c-a7ab-b539c76838aa\" xlink:actuate=\"onRequest\" xlink:href=\"psysml:25630d9e-fd72-404c-a7ab-b539c76838aa\" xlink:show=\"new\" xlink:title=\"psysml:25630d9e-fd72-404c-a7ab-b539c76838aa\" xlink:type=\"simple\"><polygon fill=\"none\" points=\"16,6,40.875,6,47.875,28.2969,122,28.2969,122,102,16,102,16,6\" style=\"stroke:#000000;stroke-width:1.5;\"/><line style=\"stroke:#000000;stroke-width:1.5;\" x1=\"16\" x2=\"47.875\" y1=\"28.2969\" y2=\"28.2969\"/><text fill=\"#000000\" font-family=\"sans-serif\" font-size=\"14\" font-weight=\"bold\" lengthAdjust=\"spacing\" textLength=\"18.875\" x=\"20\" y=\"20.9951\">P1</text></a></g><g><a href=\"psysml:a55dbec3-766f-4afc-9e3f-438a26c08edd\" target=\"_top\" title=\"psysml:a55dbec3-766f-4afc-9e3f-438a26c08edd\" xlink:actuate=\"onRequest\" xlink:href=\"psysml:a55dbec3-766f-4afc-9e3f-438a26c08edd\" xlink:show=\"new\" xlink:title=\"psysml:a55dbec3-766f-4afc-9e3f-438a26c08edd\" xlink:type=\"simple\"><rect fill=\"#FFFFFF\" height=\"45.2656\" id=\"E2\" style=\"stroke:#383838;stroke-width:1.5;\" width=\"75\" x=\"31.5\" y=\"41\"/><text fill=\"#000000\" font-family=\"sans-serif\" font-size=\"12\" font-style=\"italic\" lengthAdjust=\"spacing\" textLength=\"68\" x=\"35\" y=\"57.1387\">«part  def»</text><text fill=\"#000000\" font-family=\"sans-serif\" font-size=\"14\" lengthAdjust=\"spacing\" textLength=\"9\" x=\"64.5\" y=\"72.9639\">A</text></a></g><!--MD5=[cd8ad743db5b0f7041ee71ea1f2eaab1]\n",
       "@startuml\r\n",
       "skin sysmlbw\r\n",
       "skinparam monochrome true\r\n",
       "skinparam wrapWidth 300\r\n",
       "hide circle\r\n",
       " skinparam ranksep 10\r\n",
       "skinparam rectangle {\r\n",
       " backgroundColor<<block>> LightGreen\r\n",
       "}\r\n",
       "\r\n",
       "package \"P1\" as E1  [[psysml:25630d9e-fd72-404c-a7ab-b539c76838aa ]]  {\r\n",
       "rec def \"A\" as E2  <<(T,blue) part  def>> [[psysml:a55dbec3-766f-4afc-9e3f-438a26c08edd ]] {\r\n",
       "}\r\n",
       "}\r\n",
       "@enduml\r\n",
       "\n",
       "PlantUML version 1.2022.7(Mon Aug 22 17:01:30 UTC 2022)\n",
       "(EPL source distribution)\n",
       "Java Runtime: OpenJDK Runtime Environment\n",
       "JVM: OpenJDK 64-Bit Server VM\n",
       "Default Encoding: UTF-8\n",
       "Language: en\n",
       "Country: null\n",
       "--></g></svg>"
      ]
     },
     "execution_count": 5,
     "metadata": {},
     "output_type": "execute_result"
    }
   ],
   "source": [
    "%viz --style=\"COMPTREE\" --view=\"Interconnection\" \"P1\""
   ]
  },
  {
   "cell_type": "code",
   "execution_count": 6,
   "id": "80b06ba1",
   "metadata": {
    "execution": {
     "iopub.execute_input": "2024-12-16T14:15:36.500380Z",
     "iopub.status.busy": "2024-12-16T14:15:36.500128Z",
     "iopub.status.idle": "2024-12-16T14:15:36.507433Z",
     "shell.execute_reply": "2024-12-16T14:15:36.507260Z"
    }
   },
   "outputs": [
    {
     "data": {
      "image/svg+xml": [
       "<?xml version=\"1.0\" encoding=\"UTF-8\" standalone=\"no\"?><svg xmlns=\"http://www.w3.org/2000/svg\" xmlns:xlink=\"http://www.w3.org/1999/xlink\" contentStyleType=\"text/css\" height=\"10px\" preserveAspectRatio=\"none\" style=\"width:10px;height:10px;background:#FFFFFF;\" version=\"1.1\" viewBox=\"0 0 10 10\" width=\"10px\" zoomAndPan=\"magnify\"><defs/><g><!--MD5=[042b5323e4810735e2315f6f99dad39e]\n",
       "@startuml\r\n",
       "skin sysmlbw\r\n",
       "skinparam monochrome true\r\n",
       "skinparam wrapWidth 300\r\n",
       "hide circle\r\n",
       " skinparam ranksep 8\r\n",
       "\r\n",
       "@enduml\r\n",
       "\n",
       "PlantUML version 1.2022.7(Mon Aug 22 17:01:30 UTC 2022)\n",
       "(EPL source distribution)\n",
       "Java Runtime: OpenJDK Runtime Environment\n",
       "JVM: OpenJDK 64-Bit Server VM\n",
       "Default Encoding: UTF-8\n",
       "Language: en\n",
       "Country: null\n",
       "--></g></svg>"
      ]
     },
     "execution_count": 6,
     "metadata": {},
     "output_type": "execute_result"
    }
   ],
   "source": [
    "%viz --style=\"COMPTREE\" --view=\"Action\" \"P1\""
   ]
  },
  {
   "cell_type": "code",
   "execution_count": 7,
   "id": "90249de0",
   "metadata": {
    "execution": {
     "iopub.execute_input": "2024-12-16T14:15:36.564336Z",
     "iopub.status.busy": "2024-12-16T14:15:36.563971Z",
     "iopub.status.idle": "2024-12-16T14:15:36.577580Z",
     "shell.execute_reply": "2024-12-16T14:15:36.577377Z"
    }
   },
   "outputs": [
    {
     "data": {
      "image/svg+xml": [
       "<?xml version=\"1.0\" encoding=\"UTF-8\" standalone=\"no\"?><svg xmlns=\"http://www.w3.org/2000/svg\" xmlns:xlink=\"http://www.w3.org/1999/xlink\" contentStyleType=\"text/css\" height=\"10px\" preserveAspectRatio=\"none\" style=\"width:10px;height:10px;background:#FFFFFF;\" version=\"1.1\" viewBox=\"0 0 10 10\" width=\"10px\" zoomAndPan=\"magnify\"><defs/><g><!--MD5=[f5e9abf0a6c8dccaf40d0172f495ca0b]\n",
       "@startuml\r\n",
       "skin sysmlbw\r\n",
       "skinparam monochrome true\r\n",
       "skinparam wrapWidth 300\r\n",
       "hide circle\r\n",
       " skinparam roundcorner 20\r\n",
       "skinparam BoxPadding 20\r\n",
       "skinparam SequenceBoxBackgroundColor #white\r\n",
       "skinparam style strictuml\r\n",
       "skinparam maxMessageSize 100\r\n",
       "\r\n",
       "@enduml\r\n",
       "\n",
       "PlantUML version 1.2022.7(Mon Aug 22 17:01:30 UTC 2022)\n",
       "(EPL source distribution)\n",
       "Java Runtime: OpenJDK Runtime Environment\n",
       "JVM: OpenJDK 64-Bit Server VM\n",
       "Default Encoding: UTF-8\n",
       "Language: en\n",
       "Country: null\n",
       "--></g></svg>"
      ]
     },
     "execution_count": 7,
     "metadata": {},
     "output_type": "execute_result"
    }
   ],
   "source": [
    "%viz --style=\"COMPTREE\" --view=\"Sequence\" \"P1\""
   ]
  },
  {
   "cell_type": "code",
   "execution_count": 8,
   "id": "096eb9ce",
   "metadata": {
    "execution": {
     "iopub.execute_input": "2024-12-16T14:15:36.631399Z",
     "iopub.status.busy": "2024-12-16T14:15:36.631136Z",
     "iopub.status.idle": "2024-12-16T14:15:36.651283Z",
     "shell.execute_reply": "2024-12-16T14:15:36.651110Z"
    }
   },
   "outputs": [
    {
     "data": {
      "image/svg+xml": [
       "<?xml version=\"1.0\" encoding=\"UTF-8\" standalone=\"no\"?><svg xmlns=\"http://www.w3.org/2000/svg\" xmlns:xlink=\"http://www.w3.org/1999/xlink\" contentStyleType=\"text/css\" height=\"112px\" preserveAspectRatio=\"none\" style=\"width:135px;height:112px;background:#FFFFFF;\" version=\"1.1\" viewBox=\"0 0 135 112\" width=\"135px\" zoomAndPan=\"magnify\"><defs/><g><!--MD5=[fbc87193dbaf4d95561dea2c320d4a47]\n",
       "cluster E1--><g id=\"cluster_E1\"><a href=\"psysml:25630d9e-fd72-404c-a7ab-b539c76838aa\" target=\"_top\" title=\"psysml:25630d9e-fd72-404c-a7ab-b539c76838aa\" xlink:actuate=\"onRequest\" xlink:href=\"psysml:25630d9e-fd72-404c-a7ab-b539c76838aa\" xlink:show=\"new\" xlink:title=\"psysml:25630d9e-fd72-404c-a7ab-b539c76838aa\" xlink:type=\"simple\"><polygon fill=\"none\" points=\"16,6,40.875,6,47.875,28.2969,118,28.2969,118,105,16,105,16,6\" style=\"stroke:#000000;stroke-width:1.5;\"/><line style=\"stroke:#000000;stroke-width:1.5;\" x1=\"16\" x2=\"47.875\" y1=\"28.2969\" y2=\"28.2969\"/><text fill=\"#000000\" font-family=\"sans-serif\" font-size=\"14\" font-weight=\"bold\" lengthAdjust=\"spacing\" textLength=\"18.875\" x=\"20\" y=\"20.9951\">P1</text></a></g><!--MD5=[b4997ac47864f28c2f74865a473b2911]\n",
       "class E2--><a href=\"psysml:a55dbec3-766f-4afc-9e3f-438a26c08edd\" target=\"_top\" title=\"psysml:a55dbec3-766f-4afc-9e3f-438a26c08edd\" xlink:actuate=\"onRequest\" xlink:href=\"psysml:a55dbec3-766f-4afc-9e3f-438a26c08edd\" xlink:show=\"new\" xlink:title=\"psysml:a55dbec3-766f-4afc-9e3f-438a26c08edd\" xlink:type=\"simple\"><g id=\"elem_E2\"><rect fill=\"#FFFFFF\" height=\"48.2656\" id=\"E2\" style=\"stroke:#181818;stroke-width:0.5;\" width=\"70\" x=\"32\" y=\"41\"/><text fill=\"#000000\" font-family=\"sans-serif\" font-size=\"12\" font-style=\"italic\" lengthAdjust=\"spacing\" textLength=\"68\" x=\"33\" y=\"57.1387\">«part  def»</text><text fill=\"#000000\" font-family=\"sans-serif\" font-size=\"14\" lengthAdjust=\"spacing\" textLength=\"9\" x=\"62.5\" y=\"72.9639\">A</text><line style=\"stroke:#181818;stroke-width:0.5;\" x1=\"33\" x2=\"101\" y1=\"81.2656\" y2=\"81.2656\"/></g></a><!--MD5=[a07a56b2288d8947504e44ddc48a9683]\n",
       "@startuml\r\n",
       "skin sysmlbw\r\n",
       "skinparam monochrome true\r\n",
       "skinparam wrapWidth 300\r\n",
       "hide circle\r\n",
       " \r\n",
       "package \"P1\" as E1  [[psysml:25630d9e-fd72-404c-a7ab-b539c76838aa ]]  {\r\n",
       "comp def \"A\" as E2  <<(T,blue) part  def>> [[psysml:a55dbec3-766f-4afc-9e3f-438a26c08edd ]] {\r\n",
       "}\r\n",
       "}\r\n",
       "@enduml\r\n",
       "\n",
       "PlantUML version 1.2022.7(Mon Aug 22 17:01:30 UTC 2022)\n",
       "(EPL source distribution)\n",
       "Java Runtime: OpenJDK Runtime Environment\n",
       "JVM: OpenJDK 64-Bit Server VM\n",
       "Default Encoding: UTF-8\n",
       "Language: en\n",
       "Country: null\n",
       "--></g></svg>"
      ]
     },
     "execution_count": 8,
     "metadata": {},
     "output_type": "execute_result"
    }
   ],
   "source": [
    "%viz --style=\"COMPTREE\" --view=\"MIXED\" \"P1\""
   ]
  },
  {
   "cell_type": "code",
   "execution_count": 9,
   "id": "6e458004",
   "metadata": {
    "execution": {
     "iopub.execute_input": "2024-12-16T14:15:36.703636Z",
     "iopub.status.busy": "2024-12-16T14:15:36.703397Z",
     "iopub.status.idle": "2024-12-16T14:15:36.723041Z",
     "shell.execute_reply": "2024-12-16T14:15:36.722807Z"
    }
   },
   "outputs": [
    {
     "data": {
      "image/svg+xml": [
       "<?xml version=\"1.0\" encoding=\"UTF-8\" standalone=\"no\"?><svg xmlns=\"http://www.w3.org/2000/svg\" xmlns:xlink=\"http://www.w3.org/1999/xlink\" contentStyleType=\"text/css\" height=\"112px\" preserveAspectRatio=\"none\" style=\"width:135px;height:112px;background:#FFFFFF;\" version=\"1.1\" viewBox=\"0 0 135 112\" width=\"135px\" zoomAndPan=\"magnify\"><defs/><g><!--MD5=[fbc87193dbaf4d95561dea2c320d4a47]\n",
       "cluster E1--><g id=\"cluster_E1\"><a href=\"psysml:25630d9e-fd72-404c-a7ab-b539c76838aa\" target=\"_top\" title=\"psysml:25630d9e-fd72-404c-a7ab-b539c76838aa\" xlink:actuate=\"onRequest\" xlink:href=\"psysml:25630d9e-fd72-404c-a7ab-b539c76838aa\" xlink:show=\"new\" xlink:title=\"psysml:25630d9e-fd72-404c-a7ab-b539c76838aa\" xlink:type=\"simple\"><polygon fill=\"none\" points=\"16,6,40.875,6,47.875,28.2969,118,28.2969,118,105,16,105,16,6\" style=\"stroke:#000000;stroke-width:1.5;\"/><line style=\"stroke:#000000;stroke-width:1.5;\" x1=\"16\" x2=\"47.875\" y1=\"28.2969\" y2=\"28.2969\"/><text fill=\"#000000\" font-family=\"sans-serif\" font-size=\"14\" font-weight=\"bold\" lengthAdjust=\"spacing\" textLength=\"18.875\" x=\"20\" y=\"20.9951\">P1</text></a></g><!--MD5=[b4997ac47864f28c2f74865a473b2911]\n",
       "class E2--><a href=\"psysml:a55dbec3-766f-4afc-9e3f-438a26c08edd\" target=\"_top\" title=\"psysml:a55dbec3-766f-4afc-9e3f-438a26c08edd\" xlink:actuate=\"onRequest\" xlink:href=\"psysml:a55dbec3-766f-4afc-9e3f-438a26c08edd\" xlink:show=\"new\" xlink:title=\"psysml:a55dbec3-766f-4afc-9e3f-438a26c08edd\" xlink:type=\"simple\"><g id=\"elem_E2\"><rect fill=\"#FFFFFF\" height=\"48.2656\" id=\"E2\" style=\"stroke:#181818;stroke-width:0.5;\" width=\"70\" x=\"32\" y=\"41\"/><text fill=\"#000000\" font-family=\"sans-serif\" font-size=\"12\" font-style=\"italic\" lengthAdjust=\"spacing\" textLength=\"68\" x=\"33\" y=\"57.1387\">«part  def»</text><text fill=\"#000000\" font-family=\"sans-serif\" font-size=\"14\" lengthAdjust=\"spacing\" textLength=\"9\" x=\"62.5\" y=\"72.9639\">A</text><line style=\"stroke:#181818;stroke-width:0.5;\" x1=\"33\" x2=\"101\" y1=\"81.2656\" y2=\"81.2656\"/></g></a><!--MD5=[ab76018da00d80fa86bb18bb1aac2a5e]\n",
       "@startuml\r\n",
       "skin sysmlbw\r\n",
       "skinparam monochrome true\r\n",
       "skinparam wrapWidth 300\r\n",
       "hide circle\r\n",
       "skinparam linetype polyline\r\n",
       "\r\n",
       "package \"P1\" as E1  [[psysml:25630d9e-fd72-404c-a7ab-b539c76838aa ]]  {\r\n",
       "comp def \"A\" as E2  <<(T,blue) part  def>> [[psysml:a55dbec3-766f-4afc-9e3f-438a26c08edd ]] {\r\n",
       "}\r\n",
       "}\r\n",
       "@enduml\r\n",
       "\n",
       "PlantUML version 1.2022.7(Mon Aug 22 17:01:30 UTC 2022)\n",
       "(EPL source distribution)\n",
       "Java Runtime: OpenJDK Runtime Environment\n",
       "JVM: OpenJDK 64-Bit Server VM\n",
       "Default Encoding: UTF-8\n",
       "Language: en\n",
       "Country: null\n",
       "--></g></svg>"
      ]
     },
     "execution_count": 9,
     "metadata": {},
     "output_type": "execute_result"
    }
   ],
   "source": [
    "%viz --style=\"POLYLINE\" --view=\"Default\" \"P1\""
   ]
  },
  {
   "cell_type": "code",
   "execution_count": 10,
   "id": "f12514e7",
   "metadata": {
    "execution": {
     "iopub.execute_input": "2024-12-16T14:15:36.779149Z",
     "iopub.status.busy": "2024-12-16T14:15:36.778930Z",
     "iopub.status.idle": "2024-12-16T14:15:36.799039Z",
     "shell.execute_reply": "2024-12-16T14:15:36.798831Z"
    }
   },
   "outputs": [
    {
     "data": {
      "image/svg+xml": [
       "<?xml version=\"1.0\" encoding=\"UTF-8\" standalone=\"no\"?><svg xmlns=\"http://www.w3.org/2000/svg\" xmlns:xlink=\"http://www.w3.org/1999/xlink\" contentStyleType=\"text/css\" height=\"112px\" preserveAspectRatio=\"none\" style=\"width:135px;height:112px;background:#FFFFFF;\" version=\"1.1\" viewBox=\"0 0 135 112\" width=\"135px\" zoomAndPan=\"magnify\"><defs/><g><!--MD5=[fbc87193dbaf4d95561dea2c320d4a47]\n",
       "cluster E1--><g id=\"cluster_E1\"><a href=\"psysml:25630d9e-fd72-404c-a7ab-b539c76838aa\" target=\"_top\" title=\"psysml:25630d9e-fd72-404c-a7ab-b539c76838aa\" xlink:actuate=\"onRequest\" xlink:href=\"psysml:25630d9e-fd72-404c-a7ab-b539c76838aa\" xlink:show=\"new\" xlink:title=\"psysml:25630d9e-fd72-404c-a7ab-b539c76838aa\" xlink:type=\"simple\"><polygon fill=\"none\" points=\"16,6,40.875,6,47.875,28.2969,118,28.2969,118,105,16,105,16,6\" style=\"stroke:#000000;stroke-width:1.5;\"/><line style=\"stroke:#000000;stroke-width:1.5;\" x1=\"16\" x2=\"47.875\" y1=\"28.2969\" y2=\"28.2969\"/><text fill=\"#000000\" font-family=\"sans-serif\" font-size=\"14\" font-weight=\"bold\" lengthAdjust=\"spacing\" textLength=\"18.875\" x=\"20\" y=\"20.9951\">P1</text></a></g><!--MD5=[b4997ac47864f28c2f74865a473b2911]\n",
       "class E2--><a href=\"psysml:a55dbec3-766f-4afc-9e3f-438a26c08edd\" target=\"_top\" title=\"psysml:a55dbec3-766f-4afc-9e3f-438a26c08edd\" xlink:actuate=\"onRequest\" xlink:href=\"psysml:a55dbec3-766f-4afc-9e3f-438a26c08edd\" xlink:show=\"new\" xlink:title=\"psysml:a55dbec3-766f-4afc-9e3f-438a26c08edd\" xlink:type=\"simple\"><g id=\"elem_E2\"><rect fill=\"#FFFFFF\" height=\"48.2656\" id=\"E2\" style=\"stroke:#181818;stroke-width:0.5;\" width=\"70\" x=\"32\" y=\"41\"/><text fill=\"#000000\" font-family=\"sans-serif\" font-size=\"12\" font-style=\"italic\" lengthAdjust=\"spacing\" textLength=\"68\" x=\"33\" y=\"57.1387\">«part  def»</text><text fill=\"#000000\" font-family=\"sans-serif\" font-size=\"14\" lengthAdjust=\"spacing\" textLength=\"9\" x=\"62.5\" y=\"72.9639\">A</text><line style=\"stroke:#181818;stroke-width:0.5;\" x1=\"33\" x2=\"101\" y1=\"81.2656\" y2=\"81.2656\"/></g></a><!--MD5=[ab76018da00d80fa86bb18bb1aac2a5e]\n",
       "@startuml\r\n",
       "skin sysmlbw\r\n",
       "skinparam monochrome true\r\n",
       "skinparam wrapWidth 300\r\n",
       "hide circle\r\n",
       "skinparam linetype polyline\r\n",
       "\r\n",
       "package \"P1\" as E1  [[psysml:25630d9e-fd72-404c-a7ab-b539c76838aa ]]  {\r\n",
       "comp def \"A\" as E2  <<(T,blue) part  def>> [[psysml:a55dbec3-766f-4afc-9e3f-438a26c08edd ]] {\r\n",
       "}\r\n",
       "}\r\n",
       "@enduml\r\n",
       "\n",
       "PlantUML version 1.2022.7(Mon Aug 22 17:01:30 UTC 2022)\n",
       "(EPL source distribution)\n",
       "Java Runtime: OpenJDK Runtime Environment\n",
       "JVM: OpenJDK 64-Bit Server VM\n",
       "Default Encoding: UTF-8\n",
       "Language: en\n",
       "Country: null\n",
       "--></g></svg>"
      ]
     },
     "execution_count": 10,
     "metadata": {},
     "output_type": "execute_result"
    }
   ],
   "source": [
    "%viz --style=\"POLYLINE\" --view=\"Tree\" \"P1\""
   ]
  },
  {
   "cell_type": "code",
   "execution_count": 11,
   "id": "91aa5d43",
   "metadata": {
    "execution": {
     "iopub.execute_input": "2024-12-16T14:15:36.855352Z",
     "iopub.status.busy": "2024-12-16T14:15:36.855079Z",
     "iopub.status.idle": "2024-12-16T14:15:36.861318Z",
     "shell.execute_reply": "2024-12-16T14:15:36.861150Z"
    }
   },
   "outputs": [
    {
     "data": {
      "image/svg+xml": [
       "<?xml version=\"1.0\" encoding=\"UTF-8\" standalone=\"no\"?><svg xmlns=\"http://www.w3.org/2000/svg\" xmlns:xlink=\"http://www.w3.org/1999/xlink\" contentStyleType=\"text/css\" height=\"10px\" preserveAspectRatio=\"none\" style=\"width:10px;height:10px;background:#FFFFFF;\" version=\"1.1\" viewBox=\"0 0 10 10\" width=\"10px\" zoomAndPan=\"magnify\"><defs/><g><!--MD5=[20bed88d98f2aabbefdc8661420d403d]\n",
       "@startuml\r\n",
       "skin sysmlbw\r\n",
       "skinparam monochrome true\r\n",
       "skinparam wrapWidth 300\r\n",
       "hide circle\r\n",
       "skinparam linetype polyline\r\n",
       "\r\n",
       "@enduml\r\n",
       "\n",
       "PlantUML version 1.2022.7(Mon Aug 22 17:01:30 UTC 2022)\n",
       "(EPL source distribution)\n",
       "Java Runtime: OpenJDK Runtime Environment\n",
       "JVM: OpenJDK 64-Bit Server VM\n",
       "Default Encoding: UTF-8\n",
       "Language: en\n",
       "Country: null\n",
       "--></g></svg>"
      ]
     },
     "execution_count": 11,
     "metadata": {},
     "output_type": "execute_result"
    }
   ],
   "source": [
    "%viz --style=\"POLYLINE\" --view=\"State\" \"P1\""
   ]
  },
  {
   "cell_type": "code",
   "execution_count": 12,
   "id": "f39deb53",
   "metadata": {
    "execution": {
     "iopub.execute_input": "2024-12-16T14:15:36.917774Z",
     "iopub.status.busy": "2024-12-16T14:15:36.917484Z",
     "iopub.status.idle": "2024-12-16T14:15:36.935875Z",
     "shell.execute_reply": "2024-12-16T14:15:36.936010Z"
    }
   },
   "outputs": [
    {
     "data": {
      "image/svg+xml": [
       "<?xml version=\"1.0\" encoding=\"UTF-8\" standalone=\"no\"?><svg xmlns=\"http://www.w3.org/2000/svg\" xmlns:xlink=\"http://www.w3.org/1999/xlink\" contentStyleType=\"text/css\" height=\"109px\" preserveAspectRatio=\"none\" style=\"width:139px;height:109px;background:#FFFFFF;\" version=\"1.1\" viewBox=\"0 0 139 109\" width=\"139px\" zoomAndPan=\"magnify\"><defs/><g><!--MD5=[fbc87193dbaf4d95561dea2c320d4a47]\n",
       "cluster E1--><g id=\"cluster_E1\"><a href=\"psysml:25630d9e-fd72-404c-a7ab-b539c76838aa\" target=\"_top\" title=\"psysml:25630d9e-fd72-404c-a7ab-b539c76838aa\" xlink:actuate=\"onRequest\" xlink:href=\"psysml:25630d9e-fd72-404c-a7ab-b539c76838aa\" xlink:show=\"new\" xlink:title=\"psysml:25630d9e-fd72-404c-a7ab-b539c76838aa\" xlink:type=\"simple\"><polygon fill=\"none\" points=\"16,6,40.875,6,47.875,28.2969,122,28.2969,122,102,16,102,16,6\" style=\"stroke:#000000;stroke-width:1.5;\"/><line style=\"stroke:#000000;stroke-width:1.5;\" x1=\"16\" x2=\"47.875\" y1=\"28.2969\" y2=\"28.2969\"/><text fill=\"#000000\" font-family=\"sans-serif\" font-size=\"14\" font-weight=\"bold\" lengthAdjust=\"spacing\" textLength=\"18.875\" x=\"20\" y=\"20.9951\">P1</text></a></g><g><a href=\"psysml:a55dbec3-766f-4afc-9e3f-438a26c08edd\" target=\"_top\" title=\"psysml:a55dbec3-766f-4afc-9e3f-438a26c08edd\" xlink:actuate=\"onRequest\" xlink:href=\"psysml:a55dbec3-766f-4afc-9e3f-438a26c08edd\" xlink:show=\"new\" xlink:title=\"psysml:a55dbec3-766f-4afc-9e3f-438a26c08edd\" xlink:type=\"simple\"><rect fill=\"#FFFFFF\" height=\"45.2656\" id=\"E2\" style=\"stroke:#383838;stroke-width:1.5;\" width=\"75\" x=\"31.5\" y=\"41\"/><text fill=\"#000000\" font-family=\"sans-serif\" font-size=\"12\" font-style=\"italic\" lengthAdjust=\"spacing\" textLength=\"68\" x=\"35\" y=\"57.1387\">«part  def»</text><text fill=\"#000000\" font-family=\"sans-serif\" font-size=\"14\" lengthAdjust=\"spacing\" textLength=\"9\" x=\"64.5\" y=\"72.9639\">A</text></a></g><!--MD5=[4f4c176500dd85c6a15e253819fceed4]\n",
       "@startuml\r\n",
       "skin sysmlbw\r\n",
       "skinparam monochrome true\r\n",
       "skinparam wrapWidth 300\r\n",
       "hide circle\r\n",
       "skinparam linetype polyline\r\n",
       "skinparam ranksep 10\r\n",
       "skinparam rectangle {\r\n",
       " backgroundColor<<block>> LightGreen\r\n",
       "}\r\n",
       "\r\n",
       "package \"P1\" as E1  [[psysml:25630d9e-fd72-404c-a7ab-b539c76838aa ]]  {\r\n",
       "rec def \"A\" as E2  <<(T,blue) part  def>> [[psysml:a55dbec3-766f-4afc-9e3f-438a26c08edd ]] {\r\n",
       "}\r\n",
       "}\r\n",
       "@enduml\r\n",
       "\n",
       "PlantUML version 1.2022.7(Mon Aug 22 17:01:30 UTC 2022)\n",
       "(EPL source distribution)\n",
       "Java Runtime: OpenJDK Runtime Environment\n",
       "JVM: OpenJDK 64-Bit Server VM\n",
       "Default Encoding: UTF-8\n",
       "Language: en\n",
       "Country: null\n",
       "--></g></svg>"
      ]
     },
     "execution_count": 12,
     "metadata": {},
     "output_type": "execute_result"
    }
   ],
   "source": [
    "%viz --style=\"POLYLINE\" --view=\"Interconnection\" \"P1\""
   ]
  },
  {
   "cell_type": "code",
   "execution_count": 13,
   "id": "35bb2bff",
   "metadata": {
    "execution": {
     "iopub.execute_input": "2024-12-16T14:15:36.988770Z",
     "iopub.status.busy": "2024-12-16T14:15:36.988507Z",
     "iopub.status.idle": "2024-12-16T14:15:36.996504Z",
     "shell.execute_reply": "2024-12-16T14:15:36.996308Z"
    }
   },
   "outputs": [
    {
     "data": {
      "image/svg+xml": [
       "<?xml version=\"1.0\" encoding=\"UTF-8\" standalone=\"no\"?><svg xmlns=\"http://www.w3.org/2000/svg\" xmlns:xlink=\"http://www.w3.org/1999/xlink\" contentStyleType=\"text/css\" height=\"10px\" preserveAspectRatio=\"none\" style=\"width:10px;height:10px;background:#FFFFFF;\" version=\"1.1\" viewBox=\"0 0 10 10\" width=\"10px\" zoomAndPan=\"magnify\"><defs/><g><!--MD5=[ff8e7c24accf200c4355ceeab022c402]\n",
       "@startuml\r\n",
       "skin sysmlbw\r\n",
       "skinparam monochrome true\r\n",
       "skinparam wrapWidth 300\r\n",
       "hide circle\r\n",
       "skinparam linetype polyline\r\n",
       "skinparam ranksep 8\r\n",
       "\r\n",
       "@enduml\r\n",
       "\n",
       "PlantUML version 1.2022.7(Mon Aug 22 17:01:30 UTC 2022)\n",
       "(EPL source distribution)\n",
       "Java Runtime: OpenJDK Runtime Environment\n",
       "JVM: OpenJDK 64-Bit Server VM\n",
       "Default Encoding: UTF-8\n",
       "Language: en\n",
       "Country: null\n",
       "--></g></svg>"
      ]
     },
     "execution_count": 13,
     "metadata": {},
     "output_type": "execute_result"
    }
   ],
   "source": [
    "%viz --style=\"POLYLINE\" --view=\"Action\" \"P1\""
   ]
  },
  {
   "cell_type": "code",
   "execution_count": 14,
   "id": "894a1c51",
   "metadata": {
    "execution": {
     "iopub.execute_input": "2024-12-16T14:15:37.052247Z",
     "iopub.status.busy": "2024-12-16T14:15:37.051969Z",
     "iopub.status.idle": "2024-12-16T14:15:37.058933Z",
     "shell.execute_reply": "2024-12-16T14:15:37.058761Z"
    }
   },
   "outputs": [
    {
     "data": {
      "image/svg+xml": [
       "<?xml version=\"1.0\" encoding=\"UTF-8\" standalone=\"no\"?><svg xmlns=\"http://www.w3.org/2000/svg\" xmlns:xlink=\"http://www.w3.org/1999/xlink\" contentStyleType=\"text/css\" height=\"10px\" preserveAspectRatio=\"none\" style=\"width:10px;height:10px;background:#FFFFFF;\" version=\"1.1\" viewBox=\"0 0 10 10\" width=\"10px\" zoomAndPan=\"magnify\"><defs/><g><!--MD5=[efefafbf36b45173e0355713d9054f90]\n",
       "@startuml\r\n",
       "skin sysmlbw\r\n",
       "skinparam monochrome true\r\n",
       "skinparam wrapWidth 300\r\n",
       "hide circle\r\n",
       "skinparam linetype polyline\r\n",
       "skinparam roundcorner 20\r\n",
       "skinparam BoxPadding 20\r\n",
       "skinparam SequenceBoxBackgroundColor #white\r\n",
       "skinparam style strictuml\r\n",
       "skinparam maxMessageSize 100\r\n",
       "\r\n",
       "@enduml\r\n",
       "\n",
       "PlantUML version 1.2022.7(Mon Aug 22 17:01:30 UTC 2022)\n",
       "(EPL source distribution)\n",
       "Java Runtime: OpenJDK Runtime Environment\n",
       "JVM: OpenJDK 64-Bit Server VM\n",
       "Default Encoding: UTF-8\n",
       "Language: en\n",
       "Country: null\n",
       "--></g></svg>"
      ]
     },
     "execution_count": 14,
     "metadata": {},
     "output_type": "execute_result"
    }
   ],
   "source": [
    "%viz --style=\"POLYLINE\" --view=\"Sequence\" \"P1\""
   ]
  },
  {
   "cell_type": "code",
   "execution_count": 15,
   "id": "7959dfc8",
   "metadata": {
    "execution": {
     "iopub.execute_input": "2024-12-16T14:15:37.113159Z",
     "iopub.status.busy": "2024-12-16T14:15:37.112828Z",
     "iopub.status.idle": "2024-12-16T14:15:37.130258Z",
     "shell.execute_reply": "2024-12-16T14:15:37.130053Z"
    }
   },
   "outputs": [
    {
     "data": {
      "image/svg+xml": [
       "<?xml version=\"1.0\" encoding=\"UTF-8\" standalone=\"no\"?><svg xmlns=\"http://www.w3.org/2000/svg\" xmlns:xlink=\"http://www.w3.org/1999/xlink\" contentStyleType=\"text/css\" height=\"112px\" preserveAspectRatio=\"none\" style=\"width:135px;height:112px;background:#FFFFFF;\" version=\"1.1\" viewBox=\"0 0 135 112\" width=\"135px\" zoomAndPan=\"magnify\"><defs/><g><!--MD5=[fbc87193dbaf4d95561dea2c320d4a47]\n",
       "cluster E1--><g id=\"cluster_E1\"><a href=\"psysml:25630d9e-fd72-404c-a7ab-b539c76838aa\" target=\"_top\" title=\"psysml:25630d9e-fd72-404c-a7ab-b539c76838aa\" xlink:actuate=\"onRequest\" xlink:href=\"psysml:25630d9e-fd72-404c-a7ab-b539c76838aa\" xlink:show=\"new\" xlink:title=\"psysml:25630d9e-fd72-404c-a7ab-b539c76838aa\" xlink:type=\"simple\"><polygon fill=\"none\" points=\"16,6,40.875,6,47.875,28.2969,118,28.2969,118,105,16,105,16,6\" style=\"stroke:#000000;stroke-width:1.5;\"/><line style=\"stroke:#000000;stroke-width:1.5;\" x1=\"16\" x2=\"47.875\" y1=\"28.2969\" y2=\"28.2969\"/><text fill=\"#000000\" font-family=\"sans-serif\" font-size=\"14\" font-weight=\"bold\" lengthAdjust=\"spacing\" textLength=\"18.875\" x=\"20\" y=\"20.9951\">P1</text></a></g><!--MD5=[b4997ac47864f28c2f74865a473b2911]\n",
       "class E2--><a href=\"psysml:a55dbec3-766f-4afc-9e3f-438a26c08edd\" target=\"_top\" title=\"psysml:a55dbec3-766f-4afc-9e3f-438a26c08edd\" xlink:actuate=\"onRequest\" xlink:href=\"psysml:a55dbec3-766f-4afc-9e3f-438a26c08edd\" xlink:show=\"new\" xlink:title=\"psysml:a55dbec3-766f-4afc-9e3f-438a26c08edd\" xlink:type=\"simple\"><g id=\"elem_E2\"><rect fill=\"#FFFFFF\" height=\"48.2656\" id=\"E2\" style=\"stroke:#181818;stroke-width:0.5;\" width=\"70\" x=\"32\" y=\"41\"/><text fill=\"#000000\" font-family=\"sans-serif\" font-size=\"12\" font-style=\"italic\" lengthAdjust=\"spacing\" textLength=\"68\" x=\"33\" y=\"57.1387\">«part  def»</text><text fill=\"#000000\" font-family=\"sans-serif\" font-size=\"14\" lengthAdjust=\"spacing\" textLength=\"9\" x=\"62.5\" y=\"72.9639\">A</text><line style=\"stroke:#181818;stroke-width:0.5;\" x1=\"33\" x2=\"101\" y1=\"81.2656\" y2=\"81.2656\"/></g></a><!--MD5=[ab76018da00d80fa86bb18bb1aac2a5e]\n",
       "@startuml\r\n",
       "skin sysmlbw\r\n",
       "skinparam monochrome true\r\n",
       "skinparam wrapWidth 300\r\n",
       "hide circle\r\n",
       "skinparam linetype polyline\r\n",
       "\r\n",
       "package \"P1\" as E1  [[psysml:25630d9e-fd72-404c-a7ab-b539c76838aa ]]  {\r\n",
       "comp def \"A\" as E2  <<(T,blue) part  def>> [[psysml:a55dbec3-766f-4afc-9e3f-438a26c08edd ]] {\r\n",
       "}\r\n",
       "}\r\n",
       "@enduml\r\n",
       "\n",
       "PlantUML version 1.2022.7(Mon Aug 22 17:01:30 UTC 2022)\n",
       "(EPL source distribution)\n",
       "Java Runtime: OpenJDK Runtime Environment\n",
       "JVM: OpenJDK 64-Bit Server VM\n",
       "Default Encoding: UTF-8\n",
       "Language: en\n",
       "Country: null\n",
       "--></g></svg>"
      ]
     },
     "execution_count": 15,
     "metadata": {},
     "output_type": "execute_result"
    }
   ],
   "source": [
    "%viz --style=\"POLYLINE\" --view=\"MIXED\" \"P1\""
   ]
  },
  {
   "cell_type": "code",
   "execution_count": 16,
   "id": "8ae2530f",
   "metadata": {
    "execution": {
     "iopub.execute_input": "2024-12-16T14:15:37.186766Z",
     "iopub.status.busy": "2024-12-16T14:15:37.186545Z",
     "iopub.status.idle": "2024-12-16T14:15:37.201415Z",
     "shell.execute_reply": "2024-12-16T14:15:37.201239Z"
    }
   },
   "outputs": [
    {
     "data": {
      "image/svg+xml": [
       "<?xml version=\"1.0\" encoding=\"UTF-8\" standalone=\"no\"?><svg xmlns=\"http://www.w3.org/2000/svg\" xmlns:xlink=\"http://www.w3.org/1999/xlink\" contentStyleType=\"text/css\" height=\"112px\" preserveAspectRatio=\"none\" style=\"width:135px;height:112px;background:#FFFFFF;\" version=\"1.1\" viewBox=\"0 0 135 112\" width=\"135px\" zoomAndPan=\"magnify\"><defs/><g><!--MD5=[fbc87193dbaf4d95561dea2c320d4a47]\n",
       "cluster E1--><g id=\"cluster_E1\"><a href=\"psysml:25630d9e-fd72-404c-a7ab-b539c76838aa\" target=\"_top\" title=\"psysml:25630d9e-fd72-404c-a7ab-b539c76838aa\" xlink:actuate=\"onRequest\" xlink:href=\"psysml:25630d9e-fd72-404c-a7ab-b539c76838aa\" xlink:show=\"new\" xlink:title=\"psysml:25630d9e-fd72-404c-a7ab-b539c76838aa\" xlink:type=\"simple\"><polygon fill=\"none\" points=\"16,6,40.875,6,47.875,28.2969,118,28.2969,118,105,16,105,16,6\" style=\"stroke:#000000;stroke-width:1.5;\"/><line style=\"stroke:#000000;stroke-width:1.5;\" x1=\"16\" x2=\"47.875\" y1=\"28.2969\" y2=\"28.2969\"/><text fill=\"#000000\" font-family=\"sans-serif\" font-size=\"14\" font-weight=\"bold\" lengthAdjust=\"spacing\" textLength=\"18.875\" x=\"20\" y=\"20.9951\">P1</text></a></g><!--MD5=[b4997ac47864f28c2f74865a473b2911]\n",
       "class E2--><a href=\"psysml:a55dbec3-766f-4afc-9e3f-438a26c08edd\" target=\"_top\" title=\"psysml:a55dbec3-766f-4afc-9e3f-438a26c08edd\" xlink:actuate=\"onRequest\" xlink:href=\"psysml:a55dbec3-766f-4afc-9e3f-438a26c08edd\" xlink:show=\"new\" xlink:title=\"psysml:a55dbec3-766f-4afc-9e3f-438a26c08edd\" xlink:type=\"simple\"><g id=\"elem_E2\"><rect fill=\"#FFFFFF\" height=\"48.2656\" id=\"E2\" style=\"stroke:#181818;stroke-width:0.5;\" width=\"70\" x=\"32\" y=\"41\"/><text fill=\"#000000\" font-family=\"sans-serif\" font-size=\"12\" font-style=\"italic\" lengthAdjust=\"spacing\" textLength=\"68\" x=\"33\" y=\"57.1387\">«part  def»</text><text fill=\"#000000\" font-family=\"sans-serif\" font-size=\"14\" lengthAdjust=\"spacing\" textLength=\"9\" x=\"62.5\" y=\"72.9639\">A</text><line style=\"stroke:#181818;stroke-width:0.5;\" x1=\"33\" x2=\"101\" y1=\"81.2656\" y2=\"81.2656\"/></g></a><!--MD5=[f942f5acf72d8fff9df84e43e7e58bd7]\n",
       "@startuml\r\n",
       "skin sysmlbw\r\n",
       "skinparam monochrome true\r\n",
       "skinparam wrapWidth 300\r\n",
       "hide circle\r\n",
       "left to right direction\r\n",
       "\r\n",
       "package \"P1\" as E1  [[psysml:25630d9e-fd72-404c-a7ab-b539c76838aa ]]  {\r\n",
       "comp def \"A\" as E2  <<(T,blue) part  def>> [[psysml:a55dbec3-766f-4afc-9e3f-438a26c08edd ]] {\r\n",
       "}\r\n",
       "}\r\n",
       "@enduml\r\n",
       "\n",
       "PlantUML version 1.2022.7(Mon Aug 22 17:01:30 UTC 2022)\n",
       "(EPL source distribution)\n",
       "Java Runtime: OpenJDK Runtime Environment\n",
       "JVM: OpenJDK 64-Bit Server VM\n",
       "Default Encoding: UTF-8\n",
       "Language: en\n",
       "Country: null\n",
       "--></g></svg>"
      ]
     },
     "execution_count": 16,
     "metadata": {},
     "output_type": "execute_result"
    }
   ],
   "source": [
    "%viz --style=\"LR\" --view=\"Default\" \"P1\""
   ]
  },
  {
   "cell_type": "code",
   "execution_count": 17,
   "id": "ae7a53ca",
   "metadata": {
    "execution": {
     "iopub.execute_input": "2024-12-16T14:15:37.253895Z",
     "iopub.status.busy": "2024-12-16T14:15:37.253658Z",
     "iopub.status.idle": "2024-12-16T14:15:37.269290Z",
     "shell.execute_reply": "2024-12-16T14:15:37.269065Z"
    }
   },
   "outputs": [
    {
     "data": {
      "image/svg+xml": [
       "<?xml version=\"1.0\" encoding=\"UTF-8\" standalone=\"no\"?><svg xmlns=\"http://www.w3.org/2000/svg\" xmlns:xlink=\"http://www.w3.org/1999/xlink\" contentStyleType=\"text/css\" height=\"112px\" preserveAspectRatio=\"none\" style=\"width:135px;height:112px;background:#FFFFFF;\" version=\"1.1\" viewBox=\"0 0 135 112\" width=\"135px\" zoomAndPan=\"magnify\"><defs/><g><!--MD5=[fbc87193dbaf4d95561dea2c320d4a47]\n",
       "cluster E1--><g id=\"cluster_E1\"><a href=\"psysml:25630d9e-fd72-404c-a7ab-b539c76838aa\" target=\"_top\" title=\"psysml:25630d9e-fd72-404c-a7ab-b539c76838aa\" xlink:actuate=\"onRequest\" xlink:href=\"psysml:25630d9e-fd72-404c-a7ab-b539c76838aa\" xlink:show=\"new\" xlink:title=\"psysml:25630d9e-fd72-404c-a7ab-b539c76838aa\" xlink:type=\"simple\"><polygon fill=\"none\" points=\"16,6,40.875,6,47.875,28.2969,118,28.2969,118,105,16,105,16,6\" style=\"stroke:#000000;stroke-width:1.5;\"/><line style=\"stroke:#000000;stroke-width:1.5;\" x1=\"16\" x2=\"47.875\" y1=\"28.2969\" y2=\"28.2969\"/><text fill=\"#000000\" font-family=\"sans-serif\" font-size=\"14\" font-weight=\"bold\" lengthAdjust=\"spacing\" textLength=\"18.875\" x=\"20\" y=\"20.9951\">P1</text></a></g><!--MD5=[b4997ac47864f28c2f74865a473b2911]\n",
       "class E2--><a href=\"psysml:a55dbec3-766f-4afc-9e3f-438a26c08edd\" target=\"_top\" title=\"psysml:a55dbec3-766f-4afc-9e3f-438a26c08edd\" xlink:actuate=\"onRequest\" xlink:href=\"psysml:a55dbec3-766f-4afc-9e3f-438a26c08edd\" xlink:show=\"new\" xlink:title=\"psysml:a55dbec3-766f-4afc-9e3f-438a26c08edd\" xlink:type=\"simple\"><g id=\"elem_E2\"><rect fill=\"#FFFFFF\" height=\"48.2656\" id=\"E2\" style=\"stroke:#181818;stroke-width:0.5;\" width=\"70\" x=\"32\" y=\"41\"/><text fill=\"#000000\" font-family=\"sans-serif\" font-size=\"12\" font-style=\"italic\" lengthAdjust=\"spacing\" textLength=\"68\" x=\"33\" y=\"57.1387\">«part  def»</text><text fill=\"#000000\" font-family=\"sans-serif\" font-size=\"14\" lengthAdjust=\"spacing\" textLength=\"9\" x=\"62.5\" y=\"72.9639\">A</text><line style=\"stroke:#181818;stroke-width:0.5;\" x1=\"33\" x2=\"101\" y1=\"81.2656\" y2=\"81.2656\"/></g></a><!--MD5=[f942f5acf72d8fff9df84e43e7e58bd7]\n",
       "@startuml\r\n",
       "skin sysmlbw\r\n",
       "skinparam monochrome true\r\n",
       "skinparam wrapWidth 300\r\n",
       "hide circle\r\n",
       "left to right direction\r\n",
       "\r\n",
       "package \"P1\" as E1  [[psysml:25630d9e-fd72-404c-a7ab-b539c76838aa ]]  {\r\n",
       "comp def \"A\" as E2  <<(T,blue) part  def>> [[psysml:a55dbec3-766f-4afc-9e3f-438a26c08edd ]] {\r\n",
       "}\r\n",
       "}\r\n",
       "@enduml\r\n",
       "\n",
       "PlantUML version 1.2022.7(Mon Aug 22 17:01:30 UTC 2022)\n",
       "(EPL source distribution)\n",
       "Java Runtime: OpenJDK Runtime Environment\n",
       "JVM: OpenJDK 64-Bit Server VM\n",
       "Default Encoding: UTF-8\n",
       "Language: en\n",
       "Country: null\n",
       "--></g></svg>"
      ]
     },
     "execution_count": 17,
     "metadata": {},
     "output_type": "execute_result"
    }
   ],
   "source": [
    "%viz --style=\"LR\" --view=\"Tree\" \"P1\""
   ]
  },
  {
   "cell_type": "code",
   "execution_count": 18,
   "id": "9552ba18",
   "metadata": {
    "execution": {
     "iopub.execute_input": "2024-12-16T14:15:37.322508Z",
     "iopub.status.busy": "2024-12-16T14:15:37.322253Z",
     "iopub.status.idle": "2024-12-16T14:15:37.327346Z",
     "shell.execute_reply": "2024-12-16T14:15:37.327160Z"
    }
   },
   "outputs": [
    {
     "data": {
      "image/svg+xml": [
       "<?xml version=\"1.0\" encoding=\"UTF-8\" standalone=\"no\"?><svg xmlns=\"http://www.w3.org/2000/svg\" xmlns:xlink=\"http://www.w3.org/1999/xlink\" contentStyleType=\"text/css\" height=\"10px\" preserveAspectRatio=\"none\" style=\"width:10px;height:10px;background:#FFFFFF;\" version=\"1.1\" viewBox=\"0 0 10 10\" width=\"10px\" zoomAndPan=\"magnify\"><defs/><g><!--MD5=[fb420fbd7a91d32138f4344b927a323c]\n",
       "@startuml\r\n",
       "skin sysmlbw\r\n",
       "skinparam monochrome true\r\n",
       "skinparam wrapWidth 300\r\n",
       "hide circle\r\n",
       "left to right direction\r\n",
       "\r\n",
       "@enduml\r\n",
       "\n",
       "PlantUML version 1.2022.7(Mon Aug 22 17:01:30 UTC 2022)\n",
       "(EPL source distribution)\n",
       "Java Runtime: OpenJDK Runtime Environment\n",
       "JVM: OpenJDK 64-Bit Server VM\n",
       "Default Encoding: UTF-8\n",
       "Language: en\n",
       "Country: null\n",
       "--></g></svg>"
      ]
     },
     "execution_count": 18,
     "metadata": {},
     "output_type": "execute_result"
    }
   ],
   "source": [
    "%viz --style=\"LR\" --view=\"State\" \"P1\""
   ]
  },
  {
   "cell_type": "code",
   "execution_count": 19,
   "id": "b2977ae8",
   "metadata": {
    "execution": {
     "iopub.execute_input": "2024-12-16T14:15:37.384240Z",
     "iopub.status.busy": "2024-12-16T14:15:37.383964Z",
     "iopub.status.idle": "2024-12-16T14:15:37.399744Z",
     "shell.execute_reply": "2024-12-16T14:15:37.399551Z"
    }
   },
   "outputs": [
    {
     "data": {
      "image/svg+xml": [
       "<?xml version=\"1.0\" encoding=\"UTF-8\" standalone=\"no\"?><svg xmlns=\"http://www.w3.org/2000/svg\" xmlns:xlink=\"http://www.w3.org/1999/xlink\" contentStyleType=\"text/css\" height=\"110px\" preserveAspectRatio=\"none\" style=\"width:140px;height:110px;background:#FFFFFF;\" version=\"1.1\" viewBox=\"0 0 140 110\" width=\"140px\" zoomAndPan=\"magnify\"><defs/><g><!--MD5=[fbc87193dbaf4d95561dea2c320d4a47]\n",
       "cluster E1--><g id=\"cluster_E1\"><a href=\"psysml:25630d9e-fd72-404c-a7ab-b539c76838aa\" target=\"_top\" title=\"psysml:25630d9e-fd72-404c-a7ab-b539c76838aa\" xlink:actuate=\"onRequest\" xlink:href=\"psysml:25630d9e-fd72-404c-a7ab-b539c76838aa\" xlink:show=\"new\" xlink:title=\"psysml:25630d9e-fd72-404c-a7ab-b539c76838aa\" xlink:type=\"simple\"><polygon fill=\"none\" points=\"16,6,40.875,6,47.875,28.2969,123,28.2969,123,103,16,103,16,6\" style=\"stroke:#000000;stroke-width:1.5;\"/><line style=\"stroke:#000000;stroke-width:1.5;\" x1=\"16\" x2=\"47.875\" y1=\"28.2969\" y2=\"28.2969\"/><text fill=\"#000000\" font-family=\"sans-serif\" font-size=\"14\" font-weight=\"bold\" lengthAdjust=\"spacing\" textLength=\"18.875\" x=\"20\" y=\"20.9951\">P1</text></a></g><g><a href=\"psysml:a55dbec3-766f-4afc-9e3f-438a26c08edd\" target=\"_top\" title=\"psysml:a55dbec3-766f-4afc-9e3f-438a26c08edd\" xlink:actuate=\"onRequest\" xlink:href=\"psysml:a55dbec3-766f-4afc-9e3f-438a26c08edd\" xlink:show=\"new\" xlink:title=\"psysml:a55dbec3-766f-4afc-9e3f-438a26c08edd\" xlink:type=\"simple\"><rect fill=\"#FFFFFF\" height=\"45.2656\" id=\"E2\" style=\"stroke:#383838;stroke-width:1.5;\" width=\"75\" x=\"32\" y=\"41.5\"/><text fill=\"#000000\" font-family=\"sans-serif\" font-size=\"12\" font-style=\"italic\" lengthAdjust=\"spacing\" textLength=\"68\" x=\"35.5\" y=\"57.6387\">«part  def»</text><text fill=\"#000000\" font-family=\"sans-serif\" font-size=\"14\" lengthAdjust=\"spacing\" textLength=\"9\" x=\"65\" y=\"73.4639\">A</text></a></g><!--MD5=[5dcfed3ffd444f8d04cf4aa389d7d49e]\n",
       "@startuml\r\n",
       "skin sysmlbw\r\n",
       "skinparam monochrome true\r\n",
       "skinparam wrapWidth 300\r\n",
       "hide circle\r\n",
       "left to right direction\r\n",
       "skinparam ranksep 10\r\n",
       "skinparam rectangle {\r\n",
       " backgroundColor<<block>> LightGreen\r\n",
       "}\r\n",
       "\r\n",
       "package \"P1\" as E1  [[psysml:25630d9e-fd72-404c-a7ab-b539c76838aa ]]  {\r\n",
       "rec def \"A\" as E2  <<(T,blue) part  def>> [[psysml:a55dbec3-766f-4afc-9e3f-438a26c08edd ]] {\r\n",
       "}\r\n",
       "}\r\n",
       "@enduml\r\n",
       "\n",
       "PlantUML version 1.2022.7(Mon Aug 22 17:01:30 UTC 2022)\n",
       "(EPL source distribution)\n",
       "Java Runtime: OpenJDK Runtime Environment\n",
       "JVM: OpenJDK 64-Bit Server VM\n",
       "Default Encoding: UTF-8\n",
       "Language: en\n",
       "Country: null\n",
       "--></g></svg>"
      ]
     },
     "execution_count": 19,
     "metadata": {},
     "output_type": "execute_result"
    }
   ],
   "source": [
    "%viz --style=\"LR\" --view=\"Interconnection\" \"P1\""
   ]
  },
  {
   "cell_type": "code",
   "execution_count": 20,
   "id": "5e65f134",
   "metadata": {
    "execution": {
     "iopub.execute_input": "2024-12-16T14:15:37.455398Z",
     "iopub.status.busy": "2024-12-16T14:15:37.455142Z",
     "iopub.status.idle": "2024-12-16T14:15:37.461215Z",
     "shell.execute_reply": "2024-12-16T14:15:37.461029Z"
    }
   },
   "outputs": [
    {
     "data": {
      "image/svg+xml": [
       "<?xml version=\"1.0\" encoding=\"UTF-8\" standalone=\"no\"?><svg xmlns=\"http://www.w3.org/2000/svg\" xmlns:xlink=\"http://www.w3.org/1999/xlink\" contentStyleType=\"text/css\" height=\"10px\" preserveAspectRatio=\"none\" style=\"width:10px;height:10px;background:#FFFFFF;\" version=\"1.1\" viewBox=\"0 0 10 10\" width=\"10px\" zoomAndPan=\"magnify\"><defs/><g><!--MD5=[a45826aa31d3f335355a0e6fe4d8f867]\n",
       "@startuml\r\n",
       "skin sysmlbw\r\n",
       "skinparam monochrome true\r\n",
       "skinparam wrapWidth 300\r\n",
       "hide circle\r\n",
       "left to right direction\r\n",
       "skinparam ranksep 8\r\n",
       "\r\n",
       "@enduml\r\n",
       "\n",
       "PlantUML version 1.2022.7(Mon Aug 22 17:01:30 UTC 2022)\n",
       "(EPL source distribution)\n",
       "Java Runtime: OpenJDK Runtime Environment\n",
       "JVM: OpenJDK 64-Bit Server VM\n",
       "Default Encoding: UTF-8\n",
       "Language: en\n",
       "Country: null\n",
       "--></g></svg>"
      ]
     },
     "execution_count": 20,
     "metadata": {},
     "output_type": "execute_result"
    }
   ],
   "source": [
    "%viz --style=\"LR\" --view=\"Action\" \"P1\""
   ]
  },
  {
   "cell_type": "code",
   "execution_count": 21,
   "id": "3e506f15",
   "metadata": {
    "execution": {
     "iopub.execute_input": "2024-12-16T14:15:37.514203Z",
     "iopub.status.busy": "2024-12-16T14:15:37.513999Z",
     "iopub.status.idle": "2024-12-16T14:15:37.521018Z",
     "shell.execute_reply": "2024-12-16T14:15:37.520777Z"
    }
   },
   "outputs": [
    {
     "data": {
      "image/svg+xml": [
       "<?xml version=\"1.0\" encoding=\"UTF-8\" standalone=\"no\"?><svg xmlns=\"http://www.w3.org/2000/svg\" xmlns:xlink=\"http://www.w3.org/1999/xlink\" contentStyleType=\"text/css\" height=\"10px\" preserveAspectRatio=\"none\" style=\"width:10px;height:10px;background:#FFFFFF;\" version=\"1.1\" viewBox=\"0 0 10 10\" width=\"10px\" zoomAndPan=\"magnify\"><defs/><g><!--MD5=[3d7abb46b795db4c9d99c7acf425de78]\n",
       "@startuml\r\n",
       "skin sysmlbw\r\n",
       "skinparam monochrome true\r\n",
       "skinparam wrapWidth 300\r\n",
       "hide circle\r\n",
       "left to right direction\r\n",
       "skinparam roundcorner 20\r\n",
       "skinparam BoxPadding 20\r\n",
       "skinparam SequenceBoxBackgroundColor #white\r\n",
       "skinparam style strictuml\r\n",
       "skinparam maxMessageSize 100\r\n",
       "\r\n",
       "@enduml\r\n",
       "\n",
       "PlantUML version 1.2022.7(Mon Aug 22 17:01:30 UTC 2022)\n",
       "(EPL source distribution)\n",
       "Java Runtime: OpenJDK Runtime Environment\n",
       "JVM: OpenJDK 64-Bit Server VM\n",
       "Default Encoding: UTF-8\n",
       "Language: en\n",
       "Country: null\n",
       "--></g></svg>"
      ]
     },
     "execution_count": 21,
     "metadata": {},
     "output_type": "execute_result"
    }
   ],
   "source": [
    "%viz --style=\"LR\" --view=\"Sequence\" \"P1\""
   ]
  },
  {
   "cell_type": "code",
   "execution_count": 22,
   "id": "b72721d1",
   "metadata": {
    "execution": {
     "iopub.execute_input": "2024-12-16T14:15:37.572134Z",
     "iopub.status.busy": "2024-12-16T14:15:37.571897Z",
     "iopub.status.idle": "2024-12-16T14:15:37.588141Z",
     "shell.execute_reply": "2024-12-16T14:15:37.587948Z"
    }
   },
   "outputs": [
    {
     "data": {
      "image/svg+xml": [
       "<?xml version=\"1.0\" encoding=\"UTF-8\" standalone=\"no\"?><svg xmlns=\"http://www.w3.org/2000/svg\" xmlns:xlink=\"http://www.w3.org/1999/xlink\" contentStyleType=\"text/css\" height=\"112px\" preserveAspectRatio=\"none\" style=\"width:135px;height:112px;background:#FFFFFF;\" version=\"1.1\" viewBox=\"0 0 135 112\" width=\"135px\" zoomAndPan=\"magnify\"><defs/><g><!--MD5=[fbc87193dbaf4d95561dea2c320d4a47]\n",
       "cluster E1--><g id=\"cluster_E1\"><a href=\"psysml:25630d9e-fd72-404c-a7ab-b539c76838aa\" target=\"_top\" title=\"psysml:25630d9e-fd72-404c-a7ab-b539c76838aa\" xlink:actuate=\"onRequest\" xlink:href=\"psysml:25630d9e-fd72-404c-a7ab-b539c76838aa\" xlink:show=\"new\" xlink:title=\"psysml:25630d9e-fd72-404c-a7ab-b539c76838aa\" xlink:type=\"simple\"><polygon fill=\"none\" points=\"16,6,40.875,6,47.875,28.2969,118,28.2969,118,105,16,105,16,6\" style=\"stroke:#000000;stroke-width:1.5;\"/><line style=\"stroke:#000000;stroke-width:1.5;\" x1=\"16\" x2=\"47.875\" y1=\"28.2969\" y2=\"28.2969\"/><text fill=\"#000000\" font-family=\"sans-serif\" font-size=\"14\" font-weight=\"bold\" lengthAdjust=\"spacing\" textLength=\"18.875\" x=\"20\" y=\"20.9951\">P1</text></a></g><!--MD5=[b4997ac47864f28c2f74865a473b2911]\n",
       "class E2--><a href=\"psysml:a55dbec3-766f-4afc-9e3f-438a26c08edd\" target=\"_top\" title=\"psysml:a55dbec3-766f-4afc-9e3f-438a26c08edd\" xlink:actuate=\"onRequest\" xlink:href=\"psysml:a55dbec3-766f-4afc-9e3f-438a26c08edd\" xlink:show=\"new\" xlink:title=\"psysml:a55dbec3-766f-4afc-9e3f-438a26c08edd\" xlink:type=\"simple\"><g id=\"elem_E2\"><rect fill=\"#FFFFFF\" height=\"48.2656\" id=\"E2\" style=\"stroke:#181818;stroke-width:0.5;\" width=\"70\" x=\"32\" y=\"41\"/><text fill=\"#000000\" font-family=\"sans-serif\" font-size=\"12\" font-style=\"italic\" lengthAdjust=\"spacing\" textLength=\"68\" x=\"33\" y=\"57.1387\">«part  def»</text><text fill=\"#000000\" font-family=\"sans-serif\" font-size=\"14\" lengthAdjust=\"spacing\" textLength=\"9\" x=\"62.5\" y=\"72.9639\">A</text><line style=\"stroke:#181818;stroke-width:0.5;\" x1=\"33\" x2=\"101\" y1=\"81.2656\" y2=\"81.2656\"/></g></a><!--MD5=[f942f5acf72d8fff9df84e43e7e58bd7]\n",
       "@startuml\r\n",
       "skin sysmlbw\r\n",
       "skinparam monochrome true\r\n",
       "skinparam wrapWidth 300\r\n",
       "hide circle\r\n",
       "left to right direction\r\n",
       "\r\n",
       "package \"P1\" as E1  [[psysml:25630d9e-fd72-404c-a7ab-b539c76838aa ]]  {\r\n",
       "comp def \"A\" as E2  <<(T,blue) part  def>> [[psysml:a55dbec3-766f-4afc-9e3f-438a26c08edd ]] {\r\n",
       "}\r\n",
       "}\r\n",
       "@enduml\r\n",
       "\n",
       "PlantUML version 1.2022.7(Mon Aug 22 17:01:30 UTC 2022)\n",
       "(EPL source distribution)\n",
       "Java Runtime: OpenJDK Runtime Environment\n",
       "JVM: OpenJDK 64-Bit Server VM\n",
       "Default Encoding: UTF-8\n",
       "Language: en\n",
       "Country: null\n",
       "--></g></svg>"
      ]
     },
     "execution_count": 22,
     "metadata": {},
     "output_type": "execute_result"
    }
   ],
   "source": [
    "%viz --style=\"LR\" --view=\"MIXED\" \"P1\""
   ]
  },
  {
   "cell_type": "code",
   "execution_count": 23,
   "id": "75999fa6",
   "metadata": {
    "execution": {
     "iopub.execute_input": "2024-12-16T14:15:37.641572Z",
     "iopub.status.busy": "2024-12-16T14:15:37.641317Z",
     "iopub.status.idle": "2024-12-16T14:15:37.657288Z",
     "shell.execute_reply": "2024-12-16T14:15:37.657010Z"
    }
   },
   "outputs": [
    {
     "data": {
      "image/svg+xml": [
       "<?xml version=\"1.0\" encoding=\"UTF-8\" standalone=\"no\"?><svg xmlns=\"http://www.w3.org/2000/svg\" xmlns:xlink=\"http://www.w3.org/1999/xlink\" contentStyleType=\"text/css\" height=\"112px\" preserveAspectRatio=\"none\" style=\"width:135px;height:112px;background:#FFFFFF;\" version=\"1.1\" viewBox=\"0 0 135 112\" width=\"135px\" zoomAndPan=\"magnify\"><defs><filter height=\"300%\" id=\"f1wipse1na7t1c\" width=\"300%\" x=\"-1\" y=\"-1\"><feGaussianBlur result=\"blurOut\" stdDeviation=\"2.0\"/><feColorMatrix in=\"blurOut\" result=\"blurOut2\" type=\"matrix\" values=\"0 0 0 0 0 0 0 0 0 0 0 0 0 0 0 0 0 0 .4 0\"/><feOffset dx=\"4.0\" dy=\"4.0\" in=\"blurOut2\" result=\"blurOut3\"/><feBlend in=\"SourceGraphic\" in2=\"blurOut3\" mode=\"normal\"/></filter></defs><g><!--MD5=[fbc87193dbaf4d95561dea2c320d4a47]\n",
       "cluster E1--><g id=\"cluster_E1\"><a href=\"psysml:25630d9e-fd72-404c-a7ab-b539c76838aa\" target=\"_top\" title=\"psysml:25630d9e-fd72-404c-a7ab-b539c76838aa\" xlink:actuate=\"onRequest\" xlink:href=\"psysml:25630d9e-fd72-404c-a7ab-b539c76838aa\" xlink:show=\"new\" xlink:title=\"psysml:25630d9e-fd72-404c-a7ab-b539c76838aa\" xlink:type=\"simple\"><polygon fill=\"none\" filter=\"url(#f1wipse1na7t1c)\" points=\"16,6,40.875,6,47.875,28.2969,118,28.2969,118,105,16,105,16,6\" style=\"stroke:#000000;stroke-width:1.5;\"/><line style=\"stroke:#000000;stroke-width:1.5;\" x1=\"16\" x2=\"47.875\" y1=\"28.2969\" y2=\"28.2969\"/><text fill=\"#000000\" font-family=\"sans-serif\" font-size=\"14\" font-weight=\"bold\" lengthAdjust=\"spacing\" textLength=\"18.875\" x=\"20\" y=\"20.9951\">P1</text></a></g><!--MD5=[b4997ac47864f28c2f74865a473b2911]\n",
       "class E2--><a href=\"psysml:a55dbec3-766f-4afc-9e3f-438a26c08edd\" target=\"_top\" title=\"psysml:a55dbec3-766f-4afc-9e3f-438a26c08edd\" xlink:actuate=\"onRequest\" xlink:href=\"psysml:a55dbec3-766f-4afc-9e3f-438a26c08edd\" xlink:show=\"new\" xlink:title=\"psysml:a55dbec3-766f-4afc-9e3f-438a26c08edd\" xlink:type=\"simple\"><g id=\"elem_E2\"><rect fill=\"#FFFACD\" filter=\"url(#f1wipse1na7t1c)\" height=\"48.2656\" id=\"E2\" style=\"stroke:#181818;stroke-width:0.5;\" width=\"70\" x=\"32\" y=\"41\"/><text fill=\"#000000\" font-family=\"sans-serif\" font-size=\"12\" font-style=\"italic\" lengthAdjust=\"spacing\" textLength=\"68\" x=\"33\" y=\"57.1387\">«part  def»</text><text fill=\"#000000\" font-family=\"sans-serif\" font-size=\"14\" lengthAdjust=\"spacing\" textLength=\"9\" x=\"62.5\" y=\"72.9639\">A</text><line style=\"stroke:#181818;stroke-width:0.5;\" x1=\"33\" x2=\"101\" y1=\"81.2656\" y2=\"81.2656\"/></g></a><!--MD5=[042082343665f1ddc29a5ebed2b44d63]\n",
       "@startuml\r\n",
       "skin sysmlc\r\n",
       "skinparam wrapWidth 300\r\n",
       "hide circle\r\n",
       "\r\n",
       "package \"P1\" as E1  [[psysml:25630d9e-fd72-404c-a7ab-b539c76838aa ]]  {\r\n",
       "comp def \"A\" as E2  <<(T,blue) part  def>> [[psysml:a55dbec3-766f-4afc-9e3f-438a26c08edd ]] {\r\n",
       "}\r\n",
       "}\r\n",
       "@enduml\r\n",
       "\n",
       "PlantUML version 1.2022.7(Mon Aug 22 17:01:30 UTC 2022)\n",
       "(EPL source distribution)\n",
       "Java Runtime: OpenJDK Runtime Environment\n",
       "JVM: OpenJDK 64-Bit Server VM\n",
       "Default Encoding: UTF-8\n",
       "Language: en\n",
       "Country: null\n",
       "--></g></svg>"
      ]
     },
     "execution_count": 23,
     "metadata": {},
     "output_type": "execute_result"
    }
   ],
   "source": [
    "%viz --style=\"STDCOLOR\" --view=\"Default\" \"P1\""
   ]
  },
  {
   "cell_type": "code",
   "execution_count": 24,
   "id": "a1cb621b",
   "metadata": {
    "execution": {
     "iopub.execute_input": "2024-12-16T14:15:37.709004Z",
     "iopub.status.busy": "2024-12-16T14:15:37.708750Z",
     "iopub.status.idle": "2024-12-16T14:15:37.726038Z",
     "shell.execute_reply": "2024-12-16T14:15:37.725728Z"
    }
   },
   "outputs": [
    {
     "data": {
      "image/svg+xml": [
       "<?xml version=\"1.0\" encoding=\"UTF-8\" standalone=\"no\"?><svg xmlns=\"http://www.w3.org/2000/svg\" xmlns:xlink=\"http://www.w3.org/1999/xlink\" contentStyleType=\"text/css\" height=\"112px\" preserveAspectRatio=\"none\" style=\"width:135px;height:112px;background:#FFFFFF;\" version=\"1.1\" viewBox=\"0 0 135 112\" width=\"135px\" zoomAndPan=\"magnify\"><defs><filter height=\"300%\" id=\"f1wipse1na7t1c\" width=\"300%\" x=\"-1\" y=\"-1\"><feGaussianBlur result=\"blurOut\" stdDeviation=\"2.0\"/><feColorMatrix in=\"blurOut\" result=\"blurOut2\" type=\"matrix\" values=\"0 0 0 0 0 0 0 0 0 0 0 0 0 0 0 0 0 0 .4 0\"/><feOffset dx=\"4.0\" dy=\"4.0\" in=\"blurOut2\" result=\"blurOut3\"/><feBlend in=\"SourceGraphic\" in2=\"blurOut3\" mode=\"normal\"/></filter></defs><g><!--MD5=[fbc87193dbaf4d95561dea2c320d4a47]\n",
       "cluster E1--><g id=\"cluster_E1\"><a href=\"psysml:25630d9e-fd72-404c-a7ab-b539c76838aa\" target=\"_top\" title=\"psysml:25630d9e-fd72-404c-a7ab-b539c76838aa\" xlink:actuate=\"onRequest\" xlink:href=\"psysml:25630d9e-fd72-404c-a7ab-b539c76838aa\" xlink:show=\"new\" xlink:title=\"psysml:25630d9e-fd72-404c-a7ab-b539c76838aa\" xlink:type=\"simple\"><polygon fill=\"none\" filter=\"url(#f1wipse1na7t1c)\" points=\"16,6,40.875,6,47.875,28.2969,118,28.2969,118,105,16,105,16,6\" style=\"stroke:#000000;stroke-width:1.5;\"/><line style=\"stroke:#000000;stroke-width:1.5;\" x1=\"16\" x2=\"47.875\" y1=\"28.2969\" y2=\"28.2969\"/><text fill=\"#000000\" font-family=\"sans-serif\" font-size=\"14\" font-weight=\"bold\" lengthAdjust=\"spacing\" textLength=\"18.875\" x=\"20\" y=\"20.9951\">P1</text></a></g><!--MD5=[b4997ac47864f28c2f74865a473b2911]\n",
       "class E2--><a href=\"psysml:a55dbec3-766f-4afc-9e3f-438a26c08edd\" target=\"_top\" title=\"psysml:a55dbec3-766f-4afc-9e3f-438a26c08edd\" xlink:actuate=\"onRequest\" xlink:href=\"psysml:a55dbec3-766f-4afc-9e3f-438a26c08edd\" xlink:show=\"new\" xlink:title=\"psysml:a55dbec3-766f-4afc-9e3f-438a26c08edd\" xlink:type=\"simple\"><g id=\"elem_E2\"><rect fill=\"#FFFACD\" filter=\"url(#f1wipse1na7t1c)\" height=\"48.2656\" id=\"E2\" style=\"stroke:#181818;stroke-width:0.5;\" width=\"70\" x=\"32\" y=\"41\"/><text fill=\"#000000\" font-family=\"sans-serif\" font-size=\"12\" font-style=\"italic\" lengthAdjust=\"spacing\" textLength=\"68\" x=\"33\" y=\"57.1387\">«part  def»</text><text fill=\"#000000\" font-family=\"sans-serif\" font-size=\"14\" lengthAdjust=\"spacing\" textLength=\"9\" x=\"62.5\" y=\"72.9639\">A</text><line style=\"stroke:#181818;stroke-width:0.5;\" x1=\"33\" x2=\"101\" y1=\"81.2656\" y2=\"81.2656\"/></g></a><!--MD5=[042082343665f1ddc29a5ebed2b44d63]\n",
       "@startuml\r\n",
       "skin sysmlc\r\n",
       "skinparam wrapWidth 300\r\n",
       "hide circle\r\n",
       "\r\n",
       "package \"P1\" as E1  [[psysml:25630d9e-fd72-404c-a7ab-b539c76838aa ]]  {\r\n",
       "comp def \"A\" as E2  <<(T,blue) part  def>> [[psysml:a55dbec3-766f-4afc-9e3f-438a26c08edd ]] {\r\n",
       "}\r\n",
       "}\r\n",
       "@enduml\r\n",
       "\n",
       "PlantUML version 1.2022.7(Mon Aug 22 17:01:30 UTC 2022)\n",
       "(EPL source distribution)\n",
       "Java Runtime: OpenJDK Runtime Environment\n",
       "JVM: OpenJDK 64-Bit Server VM\n",
       "Default Encoding: UTF-8\n",
       "Language: en\n",
       "Country: null\n",
       "--></g></svg>"
      ]
     },
     "execution_count": 24,
     "metadata": {},
     "output_type": "execute_result"
    }
   ],
   "source": [
    "%viz --style=\"STDCOLOR\" --view=\"Tree\" \"P1\""
   ]
  },
  {
   "cell_type": "code",
   "execution_count": 25,
   "id": "2ac55ba2",
   "metadata": {
    "execution": {
     "iopub.execute_input": "2024-12-16T14:15:37.780012Z",
     "iopub.status.busy": "2024-12-16T14:15:37.779754Z",
     "iopub.status.idle": "2024-12-16T14:15:37.785263Z",
     "shell.execute_reply": "2024-12-16T14:15:37.785410Z"
    }
   },
   "outputs": [
    {
     "data": {
      "image/svg+xml": [
       "<?xml version=\"1.0\" encoding=\"UTF-8\" standalone=\"no\"?><svg xmlns=\"http://www.w3.org/2000/svg\" xmlns:xlink=\"http://www.w3.org/1999/xlink\" contentStyleType=\"text/css\" height=\"10px\" preserveAspectRatio=\"none\" style=\"width:10px;height:10px;background:#FFFFFF;\" version=\"1.1\" viewBox=\"0 0 10 10\" width=\"10px\" zoomAndPan=\"magnify\"><defs/><g><!--MD5=[a1048f16c75022af837d4b7065e6f600]\n",
       "@startuml\r\n",
       "skin sysmlc\r\n",
       "skinparam wrapWidth 300\r\n",
       "hide circle\r\n",
       "\r\n",
       "@enduml\r\n",
       "\n",
       "PlantUML version 1.2022.7(Mon Aug 22 17:01:30 UTC 2022)\n",
       "(EPL source distribution)\n",
       "Java Runtime: OpenJDK Runtime Environment\n",
       "JVM: OpenJDK 64-Bit Server VM\n",
       "Default Encoding: UTF-8\n",
       "Language: en\n",
       "Country: null\n",
       "--></g></svg>"
      ]
     },
     "execution_count": 25,
     "metadata": {},
     "output_type": "execute_result"
    }
   ],
   "source": [
    "%viz --style=\"STDCOLOR\" --view=\"State\" \"P1\""
   ]
  },
  {
   "cell_type": "code",
   "execution_count": 26,
   "id": "63df031c",
   "metadata": {
    "execution": {
     "iopub.execute_input": "2024-12-16T14:15:37.842197Z",
     "iopub.status.busy": "2024-12-16T14:15:37.841932Z",
     "iopub.status.idle": "2024-12-16T14:15:37.858778Z",
     "shell.execute_reply": "2024-12-16T14:15:37.858585Z"
    }
   },
   "outputs": [
    {
     "data": {
      "image/svg+xml": [
       "<?xml version=\"1.0\" encoding=\"UTF-8\" standalone=\"no\"?><svg xmlns=\"http://www.w3.org/2000/svg\" xmlns:xlink=\"http://www.w3.org/1999/xlink\" contentStyleType=\"text/css\" height=\"109px\" preserveAspectRatio=\"none\" style=\"width:139px;height:109px;background:#FFFFFF;\" version=\"1.1\" viewBox=\"0 0 139 109\" width=\"139px\" zoomAndPan=\"magnify\"><defs><filter height=\"300%\" id=\"f1a6juyqylorza\" width=\"300%\" x=\"-1\" y=\"-1\"><feGaussianBlur result=\"blurOut\" stdDeviation=\"2.0\"/><feColorMatrix in=\"blurOut\" result=\"blurOut2\" type=\"matrix\" values=\"0 0 0 0 0 0 0 0 0 0 0 0 0 0 0 0 0 0 .4 0\"/><feOffset dx=\"4.0\" dy=\"4.0\" in=\"blurOut2\" result=\"blurOut3\"/><feBlend in=\"SourceGraphic\" in2=\"blurOut3\" mode=\"normal\"/></filter></defs><g><!--MD5=[fbc87193dbaf4d95561dea2c320d4a47]\n",
       "cluster E1--><g id=\"cluster_E1\"><a href=\"psysml:25630d9e-fd72-404c-a7ab-b539c76838aa\" target=\"_top\" title=\"psysml:25630d9e-fd72-404c-a7ab-b539c76838aa\" xlink:actuate=\"onRequest\" xlink:href=\"psysml:25630d9e-fd72-404c-a7ab-b539c76838aa\" xlink:show=\"new\" xlink:title=\"psysml:25630d9e-fd72-404c-a7ab-b539c76838aa\" xlink:type=\"simple\"><polygon fill=\"none\" filter=\"url(#f1a6juyqylorza)\" points=\"16,6,40.875,6,47.875,28.2969,122,28.2969,122,102,16,102,16,6\" style=\"stroke:#000000;stroke-width:1.5;\"/><line style=\"stroke:#000000;stroke-width:1.5;\" x1=\"16\" x2=\"47.875\" y1=\"28.2969\" y2=\"28.2969\"/><text fill=\"#000000\" font-family=\"sans-serif\" font-size=\"14\" font-weight=\"bold\" lengthAdjust=\"spacing\" textLength=\"18.875\" x=\"20\" y=\"20.9951\">P1</text></a></g><g><a href=\"psysml:a55dbec3-766f-4afc-9e3f-438a26c08edd\" target=\"_top\" title=\"psysml:a55dbec3-766f-4afc-9e3f-438a26c08edd\" xlink:actuate=\"onRequest\" xlink:href=\"psysml:a55dbec3-766f-4afc-9e3f-438a26c08edd\" xlink:show=\"new\" xlink:title=\"psysml:a55dbec3-766f-4afc-9e3f-438a26c08edd\" xlink:type=\"simple\"><rect fill=\"#FFFACD\" filter=\"url(#f1a6juyqylorza)\" height=\"45.2656\" id=\"E2\" style=\"stroke:#A80036;stroke-width:1.5;\" width=\"75\" x=\"31.5\" y=\"41\"/><text fill=\"#000000\" font-family=\"sans-serif\" font-size=\"12\" font-style=\"italic\" lengthAdjust=\"spacing\" textLength=\"68\" x=\"35\" y=\"57.1387\">«part  def»</text><text fill=\"#000000\" font-family=\"sans-serif\" font-size=\"14\" lengthAdjust=\"spacing\" textLength=\"9\" x=\"64.5\" y=\"72.9639\">A</text></a></g><!--MD5=[8fed5461d1ed36c0002aa266d1a51588]\n",
       "@startuml\r\n",
       "skin sysmlc\r\n",
       "skinparam wrapWidth 300\r\n",
       "hide circle\r\n",
       "skinparam ranksep 10\r\n",
       "skinparam rectangle {\r\n",
       " backgroundColor<<block>> LightGreen\r\n",
       "}\r\n",
       "\r\n",
       "package \"P1\" as E1  [[psysml:25630d9e-fd72-404c-a7ab-b539c76838aa ]]  {\r\n",
       "rec def \"A\" as E2  <<(T,blue) part  def>> [[psysml:a55dbec3-766f-4afc-9e3f-438a26c08edd ]] {\r\n",
       "}\r\n",
       "}\r\n",
       "@enduml\r\n",
       "\n",
       "PlantUML version 1.2022.7(Mon Aug 22 17:01:30 UTC 2022)\n",
       "(EPL source distribution)\n",
       "Java Runtime: OpenJDK Runtime Environment\n",
       "JVM: OpenJDK 64-Bit Server VM\n",
       "Default Encoding: UTF-8\n",
       "Language: en\n",
       "Country: null\n",
       "--></g></svg>"
      ]
     },
     "execution_count": 26,
     "metadata": {},
     "output_type": "execute_result"
    }
   ],
   "source": [
    "%viz --style=\"STDCOLOR\" --view=\"Interconnection\" \"P1\""
   ]
  },
  {
   "cell_type": "code",
   "execution_count": 27,
   "id": "4116c9b2",
   "metadata": {
    "execution": {
     "iopub.execute_input": "2024-12-16T14:15:37.912854Z",
     "iopub.status.busy": "2024-12-16T14:15:37.912596Z",
     "iopub.status.idle": "2024-12-16T14:15:37.920234Z",
     "shell.execute_reply": "2024-12-16T14:15:37.919675Z"
    }
   },
   "outputs": [
    {
     "data": {
      "image/svg+xml": [
       "<?xml version=\"1.0\" encoding=\"UTF-8\" standalone=\"no\"?><svg xmlns=\"http://www.w3.org/2000/svg\" xmlns:xlink=\"http://www.w3.org/1999/xlink\" contentStyleType=\"text/css\" height=\"10px\" preserveAspectRatio=\"none\" style=\"width:10px;height:10px;background:#FFFFFF;\" version=\"1.1\" viewBox=\"0 0 10 10\" width=\"10px\" zoomAndPan=\"magnify\"><defs/><g><!--MD5=[f1e15a62785563bad28e840d677c8e75]\n",
       "@startuml\r\n",
       "skin sysmlc\r\n",
       "skinparam wrapWidth 300\r\n",
       "hide circle\r\n",
       "skinparam ranksep 8\r\n",
       "\r\n",
       "@enduml\r\n",
       "\n",
       "PlantUML version 1.2022.7(Mon Aug 22 17:01:30 UTC 2022)\n",
       "(EPL source distribution)\n",
       "Java Runtime: OpenJDK Runtime Environment\n",
       "JVM: OpenJDK 64-Bit Server VM\n",
       "Default Encoding: UTF-8\n",
       "Language: en\n",
       "Country: null\n",
       "--></g></svg>"
      ]
     },
     "execution_count": 27,
     "metadata": {},
     "output_type": "execute_result"
    }
   ],
   "source": [
    "%viz --style=\"STDCOLOR\" --view=\"Action\" \"P1\""
   ]
  },
  {
   "cell_type": "code",
   "execution_count": 28,
   "id": "11ca6c06",
   "metadata": {
    "execution": {
     "iopub.execute_input": "2024-12-16T14:15:37.974683Z",
     "iopub.status.busy": "2024-12-16T14:15:37.974453Z",
     "iopub.status.idle": "2024-12-16T14:15:37.980824Z",
     "shell.execute_reply": "2024-12-16T14:15:37.980636Z"
    }
   },
   "outputs": [
    {
     "data": {
      "image/svg+xml": [
       "<?xml version=\"1.0\" encoding=\"UTF-8\" standalone=\"no\"?><svg xmlns=\"http://www.w3.org/2000/svg\" xmlns:xlink=\"http://www.w3.org/1999/xlink\" contentStyleType=\"text/css\" height=\"10px\" preserveAspectRatio=\"none\" style=\"width:10px;height:10px;background:#FFFFFF;\" version=\"1.1\" viewBox=\"0 0 10 10\" width=\"10px\" zoomAndPan=\"magnify\"><defs/><g><!--MD5=[e54413e611bf323face5c486cd3a32bb]\n",
       "@startuml\r\n",
       "skin sysmlc\r\n",
       "skinparam wrapWidth 300\r\n",
       "hide circle\r\n",
       "skinparam roundcorner 20\r\n",
       "skinparam BoxPadding 20\r\n",
       "skinparam SequenceBoxBackgroundColor #white\r\n",
       "skinparam style strictuml\r\n",
       "skinparam maxMessageSize 100\r\n",
       "\r\n",
       "@enduml\r\n",
       "\n",
       "PlantUML version 1.2022.7(Mon Aug 22 17:01:30 UTC 2022)\n",
       "(EPL source distribution)\n",
       "Java Runtime: OpenJDK Runtime Environment\n",
       "JVM: OpenJDK 64-Bit Server VM\n",
       "Default Encoding: UTF-8\n",
       "Language: en\n",
       "Country: null\n",
       "--></g></svg>"
      ]
     },
     "execution_count": 28,
     "metadata": {},
     "output_type": "execute_result"
    }
   ],
   "source": [
    "%viz --style=\"STDCOLOR\" --view=\"Sequence\" \"P1\""
   ]
  },
  {
   "cell_type": "code",
   "execution_count": 29,
   "id": "754135a5",
   "metadata": {
    "execution": {
     "iopub.execute_input": "2024-12-16T14:15:38.036979Z",
     "iopub.status.busy": "2024-12-16T14:15:38.036718Z",
     "iopub.status.idle": "2024-12-16T14:15:38.055947Z",
     "shell.execute_reply": "2024-12-16T14:15:38.055775Z"
    }
   },
   "outputs": [
    {
     "data": {
      "image/svg+xml": [
       "<?xml version=\"1.0\" encoding=\"UTF-8\" standalone=\"no\"?><svg xmlns=\"http://www.w3.org/2000/svg\" xmlns:xlink=\"http://www.w3.org/1999/xlink\" contentStyleType=\"text/css\" height=\"112px\" preserveAspectRatio=\"none\" style=\"width:135px;height:112px;background:#FFFFFF;\" version=\"1.1\" viewBox=\"0 0 135 112\" width=\"135px\" zoomAndPan=\"magnify\"><defs><filter height=\"300%\" id=\"f1wipse1na7t1c\" width=\"300%\" x=\"-1\" y=\"-1\"><feGaussianBlur result=\"blurOut\" stdDeviation=\"2.0\"/><feColorMatrix in=\"blurOut\" result=\"blurOut2\" type=\"matrix\" values=\"0 0 0 0 0 0 0 0 0 0 0 0 0 0 0 0 0 0 .4 0\"/><feOffset dx=\"4.0\" dy=\"4.0\" in=\"blurOut2\" result=\"blurOut3\"/><feBlend in=\"SourceGraphic\" in2=\"blurOut3\" mode=\"normal\"/></filter></defs><g><!--MD5=[fbc87193dbaf4d95561dea2c320d4a47]\n",
       "cluster E1--><g id=\"cluster_E1\"><a href=\"psysml:25630d9e-fd72-404c-a7ab-b539c76838aa\" target=\"_top\" title=\"psysml:25630d9e-fd72-404c-a7ab-b539c76838aa\" xlink:actuate=\"onRequest\" xlink:href=\"psysml:25630d9e-fd72-404c-a7ab-b539c76838aa\" xlink:show=\"new\" xlink:title=\"psysml:25630d9e-fd72-404c-a7ab-b539c76838aa\" xlink:type=\"simple\"><polygon fill=\"none\" filter=\"url(#f1wipse1na7t1c)\" points=\"16,6,40.875,6,47.875,28.2969,118,28.2969,118,105,16,105,16,6\" style=\"stroke:#000000;stroke-width:1.5;\"/><line style=\"stroke:#000000;stroke-width:1.5;\" x1=\"16\" x2=\"47.875\" y1=\"28.2969\" y2=\"28.2969\"/><text fill=\"#000000\" font-family=\"sans-serif\" font-size=\"14\" font-weight=\"bold\" lengthAdjust=\"spacing\" textLength=\"18.875\" x=\"20\" y=\"20.9951\">P1</text></a></g><!--MD5=[b4997ac47864f28c2f74865a473b2911]\n",
       "class E2--><a href=\"psysml:a55dbec3-766f-4afc-9e3f-438a26c08edd\" target=\"_top\" title=\"psysml:a55dbec3-766f-4afc-9e3f-438a26c08edd\" xlink:actuate=\"onRequest\" xlink:href=\"psysml:a55dbec3-766f-4afc-9e3f-438a26c08edd\" xlink:show=\"new\" xlink:title=\"psysml:a55dbec3-766f-4afc-9e3f-438a26c08edd\" xlink:type=\"simple\"><g id=\"elem_E2\"><rect fill=\"#FFFACD\" filter=\"url(#f1wipse1na7t1c)\" height=\"48.2656\" id=\"E2\" style=\"stroke:#181818;stroke-width:0.5;\" width=\"70\" x=\"32\" y=\"41\"/><text fill=\"#000000\" font-family=\"sans-serif\" font-size=\"12\" font-style=\"italic\" lengthAdjust=\"spacing\" textLength=\"68\" x=\"33\" y=\"57.1387\">«part  def»</text><text fill=\"#000000\" font-family=\"sans-serif\" font-size=\"14\" lengthAdjust=\"spacing\" textLength=\"9\" x=\"62.5\" y=\"72.9639\">A</text><line style=\"stroke:#181818;stroke-width:0.5;\" x1=\"33\" x2=\"101\" y1=\"81.2656\" y2=\"81.2656\"/></g></a><!--MD5=[042082343665f1ddc29a5ebed2b44d63]\n",
       "@startuml\r\n",
       "skin sysmlc\r\n",
       "skinparam wrapWidth 300\r\n",
       "hide circle\r\n",
       "\r\n",
       "package \"P1\" as E1  [[psysml:25630d9e-fd72-404c-a7ab-b539c76838aa ]]  {\r\n",
       "comp def \"A\" as E2  <<(T,blue) part  def>> [[psysml:a55dbec3-766f-4afc-9e3f-438a26c08edd ]] {\r\n",
       "}\r\n",
       "}\r\n",
       "@enduml\r\n",
       "\n",
       "PlantUML version 1.2022.7(Mon Aug 22 17:01:30 UTC 2022)\n",
       "(EPL source distribution)\n",
       "Java Runtime: OpenJDK Runtime Environment\n",
       "JVM: OpenJDK 64-Bit Server VM\n",
       "Default Encoding: UTF-8\n",
       "Language: en\n",
       "Country: null\n",
       "--></g></svg>"
      ]
     },
     "execution_count": 29,
     "metadata": {},
     "output_type": "execute_result"
    }
   ],
   "source": [
    "%viz --style=\"STDCOLOR\" --view=\"MIXED\" \"P1\""
   ]
  },
  {
   "cell_type": "code",
   "execution_count": 30,
   "id": "d32de0bc",
   "metadata": {
    "execution": {
     "iopub.execute_input": "2024-12-16T14:15:38.112293Z",
     "iopub.status.busy": "2024-12-16T14:15:38.111989Z",
     "iopub.status.idle": "2024-12-16T14:15:38.238070Z",
     "shell.execute_reply": "2024-12-16T14:15:38.238231Z"
    }
   },
   "outputs": [
    {
     "data": {
      "image/svg+xml": [
       "<?xml version=\"1.0\" encoding=\"UTF-8\" standalone=\"no\"?><svg xmlns=\"http://www.w3.org/2000/svg\" xmlns:xlink=\"http://www.w3.org/1999/xlink\" contentStyleType=\"text/css\" height=\"104px\" preserveAspectRatio=\"none\" style=\"width:87px;height:104px;background:#FFFFFF;\" version=\"1.1\" viewBox=\"0 0 87 104\" width=\"87px\" zoomAndPan=\"magnify\"><defs/><g><!--MD5=[fbc87193dbaf4d95561dea2c320d4a47]\n",
       "cluster E1--><g id=\"cluster_E1\"><a href=\"psysml:25630d9e-fd72-404c-a7ab-b539c76838aa\" target=\"_top\" title=\"psysml:25630d9e-fd72-404c-a7ab-b539c76838aa\" xlink:actuate=\"onRequest\" xlink:href=\"psysml:25630d9e-fd72-404c-a7ab-b539c76838aa\" xlink:show=\"new\" xlink:title=\"psysml:25630d9e-fd72-404c-a7ab-b539c76838aa\" xlink:type=\"simple\"><path d=\"M8.5,6 L28.375,6 A3.75,3.75 0 0 1 30.875,8.5 L37.875,28.2969 L77.5,28.2969 A2.5,2.5 0 0 1 80,30.7969 L80,94.5 A2.5,2.5 0 0 1 77.5,97 L8.5,97 A2.5,2.5 0 0 1 6,94.5 L6,8.5 A2.5,2.5 0 0 1 8.5,6 \" fill=\"none\" style=\"stroke:#000000;stroke-width:1.5;\"/><line style=\"stroke:#000000;stroke-width:1.5;\" x1=\"6\" x2=\"37.875\" y1=\"28.2969\" y2=\"28.2969\"/><text fill=\"#000000\" font-family=\"sans-serif\" font-size=\"14\" font-weight=\"bold\" lengthAdjust=\"spacing\" textLength=\"18.875\" x=\"10\" y=\"20.9951\">P1</text></a></g><!--MD5=[b4997ac47864f28c2f74865a473b2911]\n",
       "class E2--><a href=\"psysml:a55dbec3-766f-4afc-9e3f-438a26c08edd\" target=\"_top\" title=\"psysml:a55dbec3-766f-4afc-9e3f-438a26c08edd\" xlink:actuate=\"onRequest\" xlink:href=\"psysml:a55dbec3-766f-4afc-9e3f-438a26c08edd\" xlink:show=\"new\" xlink:title=\"psysml:a55dbec3-766f-4afc-9e3f-438a26c08edd\" xlink:type=\"simple\"><g id=\"elem_E2\"><rect fill=\"#F1F1F1\" height=\"40\" id=\"E2\" rx=\"2.5\" ry=\"2.5\" style=\"stroke:#181818;stroke-width:0.5;\" width=\"41\" x=\"22.5\" y=\"41\"/><ellipse cx=\"37.5\" cy=\"57\" fill=\"#008000\" rx=\"11\" ry=\"11\" style=\"stroke:#181818;stroke-width:1.0;\"/><path d=\"M34.3594,63.5 L34.3594,51.3594 L38.1563,51.3594 Q40.1563,51.3594 41.2031,52.0625 Q42.2656,52.7656 42.2656,54.3438 Q42.2656,55.4375 41.7656,56.1563 Q41.2813,56.875 40.4531,57.0625 L40.4531,57.1406 Q41.375,57.3594 41.9375,58.0313 Q42.5156,58.6875 42.5156,59.9531 Q42.5156,61.6094 41.4688,62.5625 Q40.4219,63.5 38.5625,63.5 L34.3594,63.5 Z M38.1406,56.1406 Q39.0313,56.1406 39.3906,55.8125 Q39.7656,55.4688 39.7656,54.7656 Q39.7656,54.0313 39.375,53.7188 Q38.9844,53.3906 38.0469,53.3906 L36.6563,53.3906 L36.6563,56.1406 L38.1406,56.1406 Z M38.3281,61.4844 Q39.2344,61.4844 39.5938,61.0469 Q39.9531,60.5938 39.9531,59.8125 Q39.9531,59.0313 39.5781,58.6406 Q39.2188,58.2344 38.2344,58.2344 L36.6563,58.2344 L36.6563,61.4844 L38.3281,61.4844 Z \" fill=\"#000000\"/><text fill=\"#000000\" font-family=\"sans-serif\" font-size=\"14\" lengthAdjust=\"spacing\" textLength=\"9\" x=\"51.5\" y=\"61.8467\">A</text><line style=\"stroke:#181818;stroke-width:0.5;\" x1=\"23.5\" x2=\"62.5\" y1=\"73\" y2=\"73\"/></g></a><!--MD5=[80a481fac0b67617cacea00ee2b8d9cc]\n",
       "@startuml\r\n",
       " \r\n",
       "package \"P1\" as E1  [[psysml:25630d9e-fd72-404c-a7ab-b539c76838aa ]]  {\r\n",
       "comp def \"A\" as E2  << << (B,green) >> [[psysml:a55dbec3-766f-4afc-9e3f-438a26c08edd ]] {\r\n",
       "}\r\n",
       "}\r\n",
       "@enduml\r\n",
       "\n",
       "PlantUML version 1.2022.7(Mon Aug 22 17:01:30 UTC 2022)\n",
       "(EPL source distribution)\n",
       "Java Runtime: OpenJDK Runtime Environment\n",
       "JVM: OpenJDK 64-Bit Server VM\n",
       "Default Encoding: UTF-8\n",
       "Language: en\n",
       "Country: null\n",
       "--></g></svg>"
      ]
     },
     "execution_count": 30,
     "metadata": {},
     "output_type": "execute_result"
    }
   ],
   "source": [
    "%viz --style=\"PLANTUML\" --view=\"Default\" \"P1\""
   ]
  },
  {
   "cell_type": "code",
   "execution_count": 31,
   "id": "7395b299",
   "metadata": {
    "execution": {
     "iopub.execute_input": "2024-12-16T14:15:38.291437Z",
     "iopub.status.busy": "2024-12-16T14:15:38.291219Z",
     "iopub.status.idle": "2024-12-16T14:15:38.307181Z",
     "shell.execute_reply": "2024-12-16T14:15:38.306963Z"
    }
   },
   "outputs": [
    {
     "data": {
      "image/svg+xml": [
       "<?xml version=\"1.0\" encoding=\"UTF-8\" standalone=\"no\"?><svg xmlns=\"http://www.w3.org/2000/svg\" xmlns:xlink=\"http://www.w3.org/1999/xlink\" contentStyleType=\"text/css\" height=\"104px\" preserveAspectRatio=\"none\" style=\"width:87px;height:104px;background:#FFFFFF;\" version=\"1.1\" viewBox=\"0 0 87 104\" width=\"87px\" zoomAndPan=\"magnify\"><defs/><g><!--MD5=[fbc87193dbaf4d95561dea2c320d4a47]\n",
       "cluster E1--><g id=\"cluster_E1\"><a href=\"psysml:25630d9e-fd72-404c-a7ab-b539c76838aa\" target=\"_top\" title=\"psysml:25630d9e-fd72-404c-a7ab-b539c76838aa\" xlink:actuate=\"onRequest\" xlink:href=\"psysml:25630d9e-fd72-404c-a7ab-b539c76838aa\" xlink:show=\"new\" xlink:title=\"psysml:25630d9e-fd72-404c-a7ab-b539c76838aa\" xlink:type=\"simple\"><path d=\"M8.5,6 L28.375,6 A3.75,3.75 0 0 1 30.875,8.5 L37.875,28.2969 L77.5,28.2969 A2.5,2.5 0 0 1 80,30.7969 L80,94.5 A2.5,2.5 0 0 1 77.5,97 L8.5,97 A2.5,2.5 0 0 1 6,94.5 L6,8.5 A2.5,2.5 0 0 1 8.5,6 \" fill=\"none\" style=\"stroke:#000000;stroke-width:1.5;\"/><line style=\"stroke:#000000;stroke-width:1.5;\" x1=\"6\" x2=\"37.875\" y1=\"28.2969\" y2=\"28.2969\"/><text fill=\"#000000\" font-family=\"sans-serif\" font-size=\"14\" font-weight=\"bold\" lengthAdjust=\"spacing\" textLength=\"18.875\" x=\"10\" y=\"20.9951\">P1</text></a></g><!--MD5=[b4997ac47864f28c2f74865a473b2911]\n",
       "class E2--><a href=\"psysml:a55dbec3-766f-4afc-9e3f-438a26c08edd\" target=\"_top\" title=\"psysml:a55dbec3-766f-4afc-9e3f-438a26c08edd\" xlink:actuate=\"onRequest\" xlink:href=\"psysml:a55dbec3-766f-4afc-9e3f-438a26c08edd\" xlink:show=\"new\" xlink:title=\"psysml:a55dbec3-766f-4afc-9e3f-438a26c08edd\" xlink:type=\"simple\"><g id=\"elem_E2\"><rect fill=\"#F1F1F1\" height=\"40\" id=\"E2\" rx=\"2.5\" ry=\"2.5\" style=\"stroke:#181818;stroke-width:0.5;\" width=\"41\" x=\"22.5\" y=\"41\"/><ellipse cx=\"37.5\" cy=\"57\" fill=\"#008000\" rx=\"11\" ry=\"11\" style=\"stroke:#181818;stroke-width:1.0;\"/><path d=\"M34.3594,63.5 L34.3594,51.3594 L38.1563,51.3594 Q40.1563,51.3594 41.2031,52.0625 Q42.2656,52.7656 42.2656,54.3438 Q42.2656,55.4375 41.7656,56.1563 Q41.2813,56.875 40.4531,57.0625 L40.4531,57.1406 Q41.375,57.3594 41.9375,58.0313 Q42.5156,58.6875 42.5156,59.9531 Q42.5156,61.6094 41.4688,62.5625 Q40.4219,63.5 38.5625,63.5 L34.3594,63.5 Z M38.1406,56.1406 Q39.0313,56.1406 39.3906,55.8125 Q39.7656,55.4688 39.7656,54.7656 Q39.7656,54.0313 39.375,53.7188 Q38.9844,53.3906 38.0469,53.3906 L36.6563,53.3906 L36.6563,56.1406 L38.1406,56.1406 Z M38.3281,61.4844 Q39.2344,61.4844 39.5938,61.0469 Q39.9531,60.5938 39.9531,59.8125 Q39.9531,59.0313 39.5781,58.6406 Q39.2188,58.2344 38.2344,58.2344 L36.6563,58.2344 L36.6563,61.4844 L38.3281,61.4844 Z \" fill=\"#000000\"/><text fill=\"#000000\" font-family=\"sans-serif\" font-size=\"14\" lengthAdjust=\"spacing\" textLength=\"9\" x=\"51.5\" y=\"61.8467\">A</text><line style=\"stroke:#181818;stroke-width:0.5;\" x1=\"23.5\" x2=\"62.5\" y1=\"73\" y2=\"73\"/></g></a><!--MD5=[80a481fac0b67617cacea00ee2b8d9cc]\n",
       "@startuml\r\n",
       " \r\n",
       "package \"P1\" as E1  [[psysml:25630d9e-fd72-404c-a7ab-b539c76838aa ]]  {\r\n",
       "comp def \"A\" as E2  << << (B,green) >> [[psysml:a55dbec3-766f-4afc-9e3f-438a26c08edd ]] {\r\n",
       "}\r\n",
       "}\r\n",
       "@enduml\r\n",
       "\n",
       "PlantUML version 1.2022.7(Mon Aug 22 17:01:30 UTC 2022)\n",
       "(EPL source distribution)\n",
       "Java Runtime: OpenJDK Runtime Environment\n",
       "JVM: OpenJDK 64-Bit Server VM\n",
       "Default Encoding: UTF-8\n",
       "Language: en\n",
       "Country: null\n",
       "--></g></svg>"
      ]
     },
     "execution_count": 31,
     "metadata": {},
     "output_type": "execute_result"
    }
   ],
   "source": [
    "%viz --style=\"PLANTUML\" --view=\"Tree\" \"P1\""
   ]
  },
  {
   "cell_type": "code",
   "execution_count": 32,
   "id": "31dfc9b9",
   "metadata": {
    "execution": {
     "iopub.execute_input": "2024-12-16T14:15:38.358477Z",
     "iopub.status.busy": "2024-12-16T14:15:38.358222Z",
     "iopub.status.idle": "2024-12-16T14:15:38.430760Z",
     "shell.execute_reply": "2024-12-16T14:15:38.429856Z"
    }
   },
   "outputs": [
    {
     "data": {
      "image/svg+xml": [
       "<?xml version=\"1.0\" encoding=\"UTF-8\" standalone=\"no\"?><svg xmlns=\"http://www.w3.org/2000/svg\" xmlns:xlink=\"http://www.w3.org/1999/xlink\" contentStyleType=\"text/css\" height=\"505px\" preserveAspectRatio=\"none\" style=\"width:603px;height:505px;background:#000000;\" version=\"1.1\" viewBox=\"0 0 603 505\" width=\"603px\" zoomAndPan=\"magnify\"><defs/><g><rect fill=\"#130E0D\" height=\"1\" style=\"stroke:#130E0D;stroke-width:1.0;\" width=\"1\" x=\"0\" y=\"0\"/><rect fill=\"#F6C914\" height=\"58\" style=\"stroke:#F6C914;stroke-width:1.0;\" width=\"602\" x=\"0\" y=\"0\"/><image height=\"58\" width=\"454\" x=\"1\" xlink:href=\"data:image/png;base64,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\" y=\"1\"/><rect fill=\"#FFFFFF\" height=\"226.6573\" style=\"stroke:#FFFFFF;stroke-width:1.0;\" width=\"602\" x=\"0\" y=\"58\"/><text fill=\"#000000\" font-family=\"sans-serif\" font-size=\"12\" font-weight=\"bold\" lengthAdjust=\"spacing\" textLength=\"145.75\" x=\"5\" y=\"74.1387\">Welcome to PlantUML!</text><text fill=\"#000000\" font-family=\"sans-serif\" font-size=\"12\" lengthAdjust=\"spacing\" textLength=\"4\" x=\"5\" y=\"88.1074\"> </text><text fill=\"#000000\" font-family=\"sans-serif\" font-size=\"12\" lengthAdjust=\"spacing\" textLength=\"283\" x=\"5\" y=\"102.0762\">You can start with a simple UML Diagram like:</text><text fill=\"#000000\" font-family=\"sans-serif\" font-size=\"12\" lengthAdjust=\"spacing\" textLength=\"4\" x=\"5\" y=\"116.0449\"> </text><text fill=\"#000000\" font-family=\"monospace\" font-size=\"12\" lengthAdjust=\"spacing\" textLength=\"119\" x=\"5\" y=\"131.7031\">Bob-&gt;Alice: Hello</text><text fill=\"#000000\" font-family=\"sans-serif\" font-size=\"12\" lengthAdjust=\"spacing\" textLength=\"4\" x=\"5\" y=\"146.3578\"> </text><text fill=\"#000000\" font-family=\"sans-serif\" font-size=\"12\" lengthAdjust=\"spacing\" textLength=\"14\" x=\"5\" y=\"160.3265\">Or</text><text fill=\"#000000\" font-family=\"sans-serif\" font-size=\"12\" lengthAdjust=\"spacing\" textLength=\"4\" x=\"5\" y=\"174.2953\"> </text><text fill=\"#000000\" font-family=\"monospace\" font-size=\"12\" lengthAdjust=\"spacing\" textLength=\"91\" x=\"5\" y=\"189.9535\">class Example</text><text fill=\"#000000\" font-family=\"sans-serif\" font-size=\"12\" lengthAdjust=\"spacing\" textLength=\"4\" x=\"5\" y=\"204.6082\"> </text><text fill=\"#000000\" font-family=\"sans-serif\" font-size=\"12\" lengthAdjust=\"spacing\" textLength=\"349\" x=\"5\" y=\"218.5769\">You will find more information about PlantUML syntax on</text><text fill=\"#000000\" font-family=\"sans-serif\" font-size=\"12\" lengthAdjust=\"spacing\" text-decoration=\"underline\" textLength=\"129\" x=\"358\" y=\"218.5769\">https://plantuml.com</text><text fill=\"#000000\" font-family=\"sans-serif\" font-size=\"12\" lengthAdjust=\"spacing\" textLength=\"4\" x=\"5\" y=\"232.5457\"> </text><text fill=\"#000000\" font-family=\"sans-serif\" font-size=\"12\" lengthAdjust=\"spacing\" textLength=\"299\" x=\"5\" y=\"246.5144\">(If you use this software, you accept its license)</text><text fill=\"#000000\" font-family=\"sans-serif\" font-size=\"12\" lengthAdjust=\"spacing\" textLength=\"108\" x=\"5\" y=\"262.8585\">(Details by typing</text><text fill=\"#000000\" font-family=\"monospace\" font-size=\"12\" lengthAdjust=\"spacing\" textLength=\"49\" x=\"117\" y=\"262.1726\">license</text><text fill=\"#000000\" font-family=\"sans-serif\" font-size=\"12\" lengthAdjust=\"spacing\" textLength=\"56\" x=\"170\" y=\"262.8585\">keyword)</text><text fill=\"#000000\" font-family=\"sans-serif\" font-size=\"12\" lengthAdjust=\"spacing\" textLength=\"4\" x=\"5\" y=\"276.8273\"> </text><image height=\"71\" width=\"80\" x=\"516\" xlink:href=\"data:image/png;base64,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\" y=\"64\"/><rect fill=\"#000000\" height=\"160.3594\" style=\"stroke:#000000;stroke-width:1.0;\" width=\"602\" x=\"0\" y=\"284.6573\"/><text fill=\"#33FF02\" font-family=\"sans-serif\" font-size=\"12\" font-style=\"italic\" font-weight=\"bold\" lengthAdjust=\"spacing\" textLength=\"123\" x=\"5\" y=\"301.6573\">PlantUML 1.2022.7</text><text fill=\"#33FF02\" font-family=\"sans-serif\" font-size=\"12\" font-style=\"italic\" font-weight=\"bold\" lengthAdjust=\"spacing\" textLength=\"4\" x=\"5\" y=\"315.6261\"> </text><text fill=\"#33FF02\" font-family=\"sans-serif\" font-size=\"12\" font-style=\"italic\" font-weight=\"bold\" lengthAdjust=\"spacing\" textLength=\"390\" x=\"5\" y=\"329.5948\">&lt;b&gt;This version of PlantUML is 846 days old, so you should</text><text fill=\"#33FF02\" font-family=\"sans-serif\" font-size=\"12\" font-style=\"italic\" font-weight=\"bold\" lengthAdjust=\"spacing\" textLength=\"398.875\" x=\"5\" y=\"343.5636\">&lt;b&gt;consider upgrading from https://plantuml.com/download</text><rect fill=\"#33FF02\" height=\"21.2969\" style=\"stroke:#33FF02;stroke-width:1.0;\" width=\"153.3125\" x=\"5\" y=\"353.5323\"/><text fill=\"#000000\" font-family=\"sans-serif\" font-size=\"14\" font-weight=\"bold\" lengthAdjust=\"spacing\" textLength=\"151.3125\" x=\"6\" y=\"368.5323\">[From string (line 2) ]</text><text fill=\"#33FF02\" font-family=\"sans-serif\" font-size=\"14\" font-weight=\"bold\" lengthAdjust=\"spacing\" textLength=\"4\" x=\"5\" y=\"388.8292\"> </text><text fill=\"#33FF02\" font-family=\"sans-serif\" font-size=\"14\" font-weight=\"bold\" lengthAdjust=\"spacing\" textLength=\"73.9375\" x=\"5\" y=\"405.1261\">@startuml</text><text fill=\"#33FF02\" font-family=\"sans-serif\" font-size=\"14\" font-weight=\"bold\" lengthAdjust=\"spacing\" text-decoration=\"wavy underline\" textLength=\"4\" x=\"5\" y=\"421.423\"> </text><text fill=\"#FF0000\" font-family=\"sans-serif\" font-size=\"14\" font-weight=\"bold\" lengthAdjust=\"spacing\" textLength=\"131\" x=\"9\" y=\"437.7198\">Empty description</text><rect fill=\"#F6C914\" height=\"58\" style=\"stroke:#F6C914;stroke-width:1.0;\" width=\"602\" x=\"0\" y=\"445.0167\"/><image height=\"58\" width=\"454\" x=\"1\" xlink:href=\"data:image/png;base64,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\" y=\"446.0167\"/><!--MD5=[5b6570bdd48fecdb4121f0162c378f28]\n",
       "@startuml\r\n",
       " \r\n",
       "@enduml\r\n",
       "\n",
       "PlantUML version 1.2022.7(Mon Aug 22 17:01:30 UTC 2022)\n",
       "(EPL source distribution)\n",
       "Java Runtime: OpenJDK Runtime Environment\n",
       "JVM: OpenJDK 64-Bit Server VM\n",
       "Default Encoding: UTF-8\n",
       "Language: en\n",
       "Country: null\n",
       "--></g></svg>"
      ]
     },
     "execution_count": 32,
     "metadata": {},
     "output_type": "execute_result"
    }
   ],
   "source": [
    "%viz --style=\"PLANTUML\" --view=\"State\" \"P1\""
   ]
  },
  {
   "cell_type": "code",
   "execution_count": 33,
   "id": "f03e8164",
   "metadata": {
    "execution": {
     "iopub.execute_input": "2024-12-16T14:15:38.486260Z",
     "iopub.status.busy": "2024-12-16T14:15:38.486018Z",
     "iopub.status.idle": "2024-12-16T14:15:38.501012Z",
     "shell.execute_reply": "2024-12-16T14:15:38.500694Z"
    }
   },
   "outputs": [
    {
     "data": {
      "image/svg+xml": [
       "<?xml version=\"1.0\" encoding=\"UTF-8\" standalone=\"no\"?><svg xmlns=\"http://www.w3.org/2000/svg\" xmlns:xlink=\"http://www.w3.org/1999/xlink\" contentStyleType=\"text/css\" height=\"104px\" preserveAspectRatio=\"none\" style=\"width:95px;height:104px;background:#FFFFFF;\" version=\"1.1\" viewBox=\"0 0 95 104\" width=\"95px\" zoomAndPan=\"magnify\"><defs/><g><!--MD5=[fbc87193dbaf4d95561dea2c320d4a47]\n",
       "cluster E1--><g id=\"cluster_E1\"><a href=\"psysml:25630d9e-fd72-404c-a7ab-b539c76838aa\" target=\"_top\" title=\"psysml:25630d9e-fd72-404c-a7ab-b539c76838aa\" xlink:actuate=\"onRequest\" xlink:href=\"psysml:25630d9e-fd72-404c-a7ab-b539c76838aa\" xlink:show=\"new\" xlink:title=\"psysml:25630d9e-fd72-404c-a7ab-b539c76838aa\" xlink:type=\"simple\"><path d=\"M8.5,6 L28.375,6 A3.75,3.75 0 0 1 30.875,8.5 L37.875,28.2969 L85.5,28.2969 A2.5,2.5 0 0 1 88,30.7969 L88,94.5 A2.5,2.5 0 0 1 85.5,97 L8.5,97 A2.5,2.5 0 0 1 6,94.5 L6,8.5 A2.5,2.5 0 0 1 8.5,6 \" fill=\"none\" style=\"stroke:#000000;stroke-width:1.5;\"/><line style=\"stroke:#000000;stroke-width:1.5;\" x1=\"6\" x2=\"37.875\" y1=\"28.2969\" y2=\"28.2969\"/><text fill=\"#000000\" font-family=\"sans-serif\" font-size=\"14\" font-weight=\"bold\" lengthAdjust=\"spacing\" textLength=\"18.875\" x=\"10\" y=\"20.9951\">P1</text></a></g><g><a href=\"psysml:a55dbec3-766f-4afc-9e3f-438a26c08edd\" target=\"_top\" title=\"psysml:a55dbec3-766f-4afc-9e3f-438a26c08edd\" xlink:actuate=\"onRequest\" xlink:href=\"psysml:a55dbec3-766f-4afc-9e3f-438a26c08edd\" xlink:show=\"new\" xlink:title=\"psysml:a55dbec3-766f-4afc-9e3f-438a26c08edd\" xlink:type=\"simple\"><rect fill=\"#F1F1F1\" height=\"40\" id=\"E2\" style=\"stroke:#A80036;stroke-width:1.5;\" width=\"50\" x=\"22\" y=\"41\"/><ellipse cx=\"41.05\" cy=\"57\" fill=\"#008000\" rx=\"11\" ry=\"11\" style=\"stroke:#181818;stroke-width:1.0;\"/><path d=\"M37.9094,63.5 L37.9094,51.3594 L41.7063,51.3594 Q43.7063,51.3594 44.7531,52.0625 Q45.8156,52.7656 45.8156,54.3438 Q45.8156,55.4375 45.3156,56.1563 Q44.8313,56.875 44.0031,57.0625 L44.0031,57.1406 Q44.925,57.3594 45.4875,58.0313 Q46.0656,58.6875 46.0656,59.9531 Q46.0656,61.6094 45.0188,62.5625 Q43.9719,63.5 42.1125,63.5 L37.9094,63.5 Z M41.6906,56.1406 Q42.5813,56.1406 42.9406,55.8125 Q43.3156,55.4688 43.3156,54.7656 Q43.3156,54.0313 42.925,53.7188 Q42.5344,53.3906 41.5969,53.3906 L40.2063,53.3906 L40.2063,56.1406 L41.6906,56.1406 Z M41.8781,61.4844 Q42.7844,61.4844 43.1438,61.0469 Q43.5031,60.5938 43.5031,59.8125 Q43.5031,59.0313 43.1281,58.6406 Q42.7688,58.2344 41.7844,58.2344 L40.2063,58.2344 L40.2063,61.4844 L41.8781,61.4844 Z \" fill=\"#000000\"/><text fill=\"#000000\" font-family=\"sans-serif\" font-size=\"14\" lengthAdjust=\"spacing\" textLength=\"9\" x=\"55.95\" y=\"61.8467\">A</text></a></g><!--MD5=[20b7308b2b9004bfa53e7edd50aa5378]\n",
       "@startuml\r\n",
       " skinparam ranksep 10\r\n",
       "skinparam rectangle {\r\n",
       " backgroundColor<<block>> LightGreen\r\n",
       "}\r\n",
       "\r\n",
       "package \"P1\" as E1  [[psysml:25630d9e-fd72-404c-a7ab-b539c76838aa ]]  {\r\n",
       "rec def \"A\" as E2  << << (B,green) >> [[psysml:a55dbec3-766f-4afc-9e3f-438a26c08edd ]] {\r\n",
       "}\r\n",
       "}\r\n",
       "@enduml\r\n",
       "\n",
       "PlantUML version 1.2022.7(Mon Aug 22 17:01:30 UTC 2022)\n",
       "(EPL source distribution)\n",
       "Java Runtime: OpenJDK Runtime Environment\n",
       "JVM: OpenJDK 64-Bit Server VM\n",
       "Default Encoding: UTF-8\n",
       "Language: en\n",
       "Country: null\n",
       "--></g></svg>"
      ]
     },
     "execution_count": 33,
     "metadata": {},
     "output_type": "execute_result"
    }
   ],
   "source": [
    "%viz --style=\"PLANTUML\" --view=\"Interconnection\" \"P1\""
   ]
  },
  {
   "cell_type": "code",
   "execution_count": 34,
   "id": "305a0468",
   "metadata": {
    "execution": {
     "iopub.execute_input": "2024-12-16T14:15:38.554217Z",
     "iopub.status.busy": "2024-12-16T14:15:38.553958Z",
     "iopub.status.idle": "2024-12-16T14:15:38.559904Z",
     "shell.execute_reply": "2024-12-16T14:15:38.559720Z"
    }
   },
   "outputs": [
    {
     "data": {
      "image/svg+xml": [
       "<?xml version=\"1.0\" encoding=\"UTF-8\" standalone=\"no\"?><svg xmlns=\"http://www.w3.org/2000/svg\" xmlns:xlink=\"http://www.w3.org/1999/xlink\" contentStyleType=\"text/css\" height=\"10px\" preserveAspectRatio=\"none\" style=\"width:10px;height:10px;background:#FFFFFF;\" version=\"1.1\" viewBox=\"0 0 10 10\" width=\"10px\" zoomAndPan=\"magnify\"><defs/><g><!--MD5=[5b85ed15c012f432344d03f88cdcf85b]\n",
       "@startuml\r\n",
       " skinparam ranksep 8\r\n",
       "\r\n",
       "@enduml\r\n",
       "\n",
       "PlantUML version 1.2022.7(Mon Aug 22 17:01:30 UTC 2022)\n",
       "(EPL source distribution)\n",
       "Java Runtime: OpenJDK Runtime Environment\n",
       "JVM: OpenJDK 64-Bit Server VM\n",
       "Default Encoding: UTF-8\n",
       "Language: en\n",
       "Country: null\n",
       "--></g></svg>"
      ]
     },
     "execution_count": 34,
     "metadata": {},
     "output_type": "execute_result"
    }
   ],
   "source": [
    "%viz --style=\"PLANTUML\" --view=\"Action\" \"P1\""
   ]
  },
  {
   "cell_type": "code",
   "execution_count": 35,
   "id": "7e649177",
   "metadata": {
    "execution": {
     "iopub.execute_input": "2024-12-16T14:15:38.613961Z",
     "iopub.status.busy": "2024-12-16T14:15:38.613709Z",
     "iopub.status.idle": "2024-12-16T14:15:38.619628Z",
     "shell.execute_reply": "2024-12-16T14:15:38.619444Z"
    }
   },
   "outputs": [
    {
     "data": {
      "image/svg+xml": [
       "<?xml version=\"1.0\" encoding=\"UTF-8\" standalone=\"no\"?><svg xmlns=\"http://www.w3.org/2000/svg\" xmlns:xlink=\"http://www.w3.org/1999/xlink\" contentStyleType=\"text/css\" height=\"10px\" preserveAspectRatio=\"none\" style=\"width:10px;height:10px;background:#FFFFFF;\" version=\"1.1\" viewBox=\"0 0 10 10\" width=\"10px\" zoomAndPan=\"magnify\"><defs/><g><!--MD5=[395e82ba475bd2e80052467b56fa0251]\n",
       "@startuml\r\n",
       " skinparam roundcorner 20\r\n",
       "skinparam BoxPadding 20\r\n",
       "skinparam SequenceBoxBackgroundColor #white\r\n",
       "skinparam style strictuml\r\n",
       "skinparam maxMessageSize 100\r\n",
       "\r\n",
       "@enduml\r\n",
       "\n",
       "PlantUML version 1.2022.7(Mon Aug 22 17:01:30 UTC 2022)\n",
       "(EPL source distribution)\n",
       "Java Runtime: OpenJDK Runtime Environment\n",
       "JVM: OpenJDK 64-Bit Server VM\n",
       "Default Encoding: UTF-8\n",
       "Language: en\n",
       "Country: null\n",
       "--></g></svg>"
      ]
     },
     "execution_count": 35,
     "metadata": {},
     "output_type": "execute_result"
    }
   ],
   "source": [
    "%viz --style=\"PLANTUML\" --view=\"Sequence\" \"P1\""
   ]
  },
  {
   "cell_type": "code",
   "execution_count": 36,
   "id": "b2143cd6",
   "metadata": {
    "execution": {
     "iopub.execute_input": "2024-12-16T14:15:38.676026Z",
     "iopub.status.busy": "2024-12-16T14:15:38.675787Z",
     "iopub.status.idle": "2024-12-16T14:15:38.690073Z",
     "shell.execute_reply": "2024-12-16T14:15:38.689888Z"
    }
   },
   "outputs": [
    {
     "data": {
      "image/svg+xml": [
       "<?xml version=\"1.0\" encoding=\"UTF-8\" standalone=\"no\"?><svg xmlns=\"http://www.w3.org/2000/svg\" xmlns:xlink=\"http://www.w3.org/1999/xlink\" contentStyleType=\"text/css\" height=\"104px\" preserveAspectRatio=\"none\" style=\"width:87px;height:104px;background:#FFFFFF;\" version=\"1.1\" viewBox=\"0 0 87 104\" width=\"87px\" zoomAndPan=\"magnify\"><defs/><g><!--MD5=[fbc87193dbaf4d95561dea2c320d4a47]\n",
       "cluster E1--><g id=\"cluster_E1\"><a href=\"psysml:25630d9e-fd72-404c-a7ab-b539c76838aa\" target=\"_top\" title=\"psysml:25630d9e-fd72-404c-a7ab-b539c76838aa\" xlink:actuate=\"onRequest\" xlink:href=\"psysml:25630d9e-fd72-404c-a7ab-b539c76838aa\" xlink:show=\"new\" xlink:title=\"psysml:25630d9e-fd72-404c-a7ab-b539c76838aa\" xlink:type=\"simple\"><path d=\"M8.5,6 L28.375,6 A3.75,3.75 0 0 1 30.875,8.5 L37.875,28.2969 L77.5,28.2969 A2.5,2.5 0 0 1 80,30.7969 L80,94.5 A2.5,2.5 0 0 1 77.5,97 L8.5,97 A2.5,2.5 0 0 1 6,94.5 L6,8.5 A2.5,2.5 0 0 1 8.5,6 \" fill=\"none\" style=\"stroke:#000000;stroke-width:1.5;\"/><line style=\"stroke:#000000;stroke-width:1.5;\" x1=\"6\" x2=\"37.875\" y1=\"28.2969\" y2=\"28.2969\"/><text fill=\"#000000\" font-family=\"sans-serif\" font-size=\"14\" font-weight=\"bold\" lengthAdjust=\"spacing\" textLength=\"18.875\" x=\"10\" y=\"20.9951\">P1</text></a></g><!--MD5=[b4997ac47864f28c2f74865a473b2911]\n",
       "class E2--><a href=\"psysml:a55dbec3-766f-4afc-9e3f-438a26c08edd\" target=\"_top\" title=\"psysml:a55dbec3-766f-4afc-9e3f-438a26c08edd\" xlink:actuate=\"onRequest\" xlink:href=\"psysml:a55dbec3-766f-4afc-9e3f-438a26c08edd\" xlink:show=\"new\" xlink:title=\"psysml:a55dbec3-766f-4afc-9e3f-438a26c08edd\" xlink:type=\"simple\"><g id=\"elem_E2\"><rect fill=\"#F1F1F1\" height=\"40\" id=\"E2\" rx=\"2.5\" ry=\"2.5\" style=\"stroke:#181818;stroke-width:0.5;\" width=\"41\" x=\"22.5\" y=\"41\"/><ellipse cx=\"37.5\" cy=\"57\" fill=\"#008000\" rx=\"11\" ry=\"11\" style=\"stroke:#181818;stroke-width:1.0;\"/><path d=\"M34.3594,63.5 L34.3594,51.3594 L38.1563,51.3594 Q40.1563,51.3594 41.2031,52.0625 Q42.2656,52.7656 42.2656,54.3438 Q42.2656,55.4375 41.7656,56.1563 Q41.2813,56.875 40.4531,57.0625 L40.4531,57.1406 Q41.375,57.3594 41.9375,58.0313 Q42.5156,58.6875 42.5156,59.9531 Q42.5156,61.6094 41.4688,62.5625 Q40.4219,63.5 38.5625,63.5 L34.3594,63.5 Z M38.1406,56.1406 Q39.0313,56.1406 39.3906,55.8125 Q39.7656,55.4688 39.7656,54.7656 Q39.7656,54.0313 39.375,53.7188 Q38.9844,53.3906 38.0469,53.3906 L36.6563,53.3906 L36.6563,56.1406 L38.1406,56.1406 Z M38.3281,61.4844 Q39.2344,61.4844 39.5938,61.0469 Q39.9531,60.5938 39.9531,59.8125 Q39.9531,59.0313 39.5781,58.6406 Q39.2188,58.2344 38.2344,58.2344 L36.6563,58.2344 L36.6563,61.4844 L38.3281,61.4844 Z \" fill=\"#000000\"/><text fill=\"#000000\" font-family=\"sans-serif\" font-size=\"14\" lengthAdjust=\"spacing\" textLength=\"9\" x=\"51.5\" y=\"61.8467\">A</text><line style=\"stroke:#181818;stroke-width:0.5;\" x1=\"23.5\" x2=\"62.5\" y1=\"73\" y2=\"73\"/></g></a><!--MD5=[80a481fac0b67617cacea00ee2b8d9cc]\n",
       "@startuml\r\n",
       " \r\n",
       "package \"P1\" as E1  [[psysml:25630d9e-fd72-404c-a7ab-b539c76838aa ]]  {\r\n",
       "comp def \"A\" as E2  << << (B,green) >> [[psysml:a55dbec3-766f-4afc-9e3f-438a26c08edd ]] {\r\n",
       "}\r\n",
       "}\r\n",
       "@enduml\r\n",
       "\n",
       "PlantUML version 1.2022.7(Mon Aug 22 17:01:30 UTC 2022)\n",
       "(EPL source distribution)\n",
       "Java Runtime: OpenJDK Runtime Environment\n",
       "JVM: OpenJDK 64-Bit Server VM\n",
       "Default Encoding: UTF-8\n",
       "Language: en\n",
       "Country: null\n",
       "--></g></svg>"
      ]
     },
     "execution_count": 36,
     "metadata": {},
     "output_type": "execute_result"
    }
   ],
   "source": [
    "%viz --style=\"PLANTUML\" --view=\"MIXED\" \"P1\""
   ]
  },
  {
   "cell_type": "code",
   "execution_count": 37,
   "id": "abb2e4e0",
   "metadata": {
    "execution": {
     "iopub.execute_input": "2024-12-16T14:15:38.746242Z",
     "iopub.status.busy": "2024-12-16T14:15:38.745975Z",
     "iopub.status.idle": "2024-12-16T14:15:38.760397Z",
     "shell.execute_reply": "2024-12-16T14:15:38.760221Z"
    }
   },
   "outputs": [
    {
     "data": {
      "image/svg+xml": [
       "<?xml version=\"1.0\" encoding=\"UTF-8\" standalone=\"no\"?><svg xmlns=\"http://www.w3.org/2000/svg\" xmlns:xlink=\"http://www.w3.org/1999/xlink\" contentStyleType=\"text/css\" height=\"112px\" preserveAspectRatio=\"none\" style=\"width:135px;height:112px;background:#FFFFFF;\" version=\"1.1\" viewBox=\"0 0 135 112\" width=\"135px\" zoomAndPan=\"magnify\"><defs/><g><!--MD5=[fbc87193dbaf4d95561dea2c320d4a47]\n",
       "cluster E1--><g id=\"cluster_E1\"><a href=\"psysml:25630d9e-fd72-404c-a7ab-b539c76838aa\" target=\"_top\" title=\"psysml:25630d9e-fd72-404c-a7ab-b539c76838aa\" xlink:actuate=\"onRequest\" xlink:href=\"psysml:25630d9e-fd72-404c-a7ab-b539c76838aa\" xlink:show=\"new\" xlink:title=\"psysml:25630d9e-fd72-404c-a7ab-b539c76838aa\" xlink:type=\"simple\"><polygon fill=\"none\" points=\"16,6,40.875,6,47.875,28.2969,118,28.2969,118,105,16,105,16,6\" style=\"stroke:#000000;stroke-width:1.5;\"/><line style=\"stroke:#000000;stroke-width:1.5;\" x1=\"16\" x2=\"47.875\" y1=\"28.2969\" y2=\"28.2969\"/><text fill=\"#000000\" font-family=\"sans-serif\" font-size=\"14\" font-weight=\"bold\" lengthAdjust=\"spacing\" textLength=\"18.875\" x=\"20\" y=\"20.9951\">P1</text></a></g><!--MD5=[b4997ac47864f28c2f74865a473b2911]\n",
       "class E2--><a href=\"psysml:a55dbec3-766f-4afc-9e3f-438a26c08edd\" target=\"_top\" title=\"psysml:a55dbec3-766f-4afc-9e3f-438a26c08edd\" xlink:actuate=\"onRequest\" xlink:href=\"psysml:a55dbec3-766f-4afc-9e3f-438a26c08edd\" xlink:show=\"new\" xlink:title=\"psysml:a55dbec3-766f-4afc-9e3f-438a26c08edd\" xlink:type=\"simple\"><g id=\"elem_E2\"><rect fill=\"#FFFFFF\" height=\"48.2656\" id=\"E2\" style=\"stroke:#181818;stroke-width:0.5;\" width=\"70\" x=\"32\" y=\"41\"/><text fill=\"#000000\" font-family=\"sans-serif\" font-size=\"12\" font-style=\"italic\" lengthAdjust=\"spacing\" textLength=\"68\" x=\"33\" y=\"57.1387\">«part  def»</text><text fill=\"#000000\" font-family=\"sans-serif\" font-size=\"14\" lengthAdjust=\"spacing\" textLength=\"9\" x=\"62.5\" y=\"72.9639\">A</text><line style=\"stroke:#181818;stroke-width:0.5;\" x1=\"33\" x2=\"101\" y1=\"81.2656\" y2=\"81.2656\"/></g></a><!--MD5=[3f46d69781c4029bbac0cd32be33240a]\n",
       "@startuml\r\n",
       "skin sysmlbw\r\n",
       "skinparam monochrome true\r\n",
       "skinparam wrapWidth 300\r\n",
       "hide circle\r\n",
       "\r\n",
       "package \"P1\" as E1  [[psysml:25630d9e-fd72-404c-a7ab-b539c76838aa ]]  {\r\n",
       "comp def \"A\" as E2  <<(T,blue) part  def>> [[psysml:a55dbec3-766f-4afc-9e3f-438a26c08edd ]] {\r\n",
       "}\r\n",
       "}\r\n",
       "@enduml\r\n",
       "\n",
       "PlantUML version 1.2022.7(Mon Aug 22 17:01:30 UTC 2022)\n",
       "(EPL source distribution)\n",
       "Java Runtime: OpenJDK Runtime Environment\n",
       "JVM: OpenJDK 64-Bit Server VM\n",
       "Default Encoding: UTF-8\n",
       "Language: en\n",
       "Country: null\n",
       "--></g></svg>"
      ]
     },
     "execution_count": 37,
     "metadata": {},
     "output_type": "execute_result"
    }
   ],
   "source": [
    "%viz --style=\"DEFAULT\" --view=\"Default\" \"P1\""
   ]
  },
  {
   "cell_type": "code",
   "execution_count": 38,
   "id": "fb183112",
   "metadata": {
    "execution": {
     "iopub.execute_input": "2024-12-16T14:15:38.815085Z",
     "iopub.status.busy": "2024-12-16T14:15:38.814756Z",
     "iopub.status.idle": "2024-12-16T14:15:38.825859Z",
     "shell.execute_reply": "2024-12-16T14:15:38.825679Z"
    }
   },
   "outputs": [
    {
     "data": {
      "image/svg+xml": [
       "<?xml version=\"1.0\" encoding=\"UTF-8\" standalone=\"no\"?><svg xmlns=\"http://www.w3.org/2000/svg\" xmlns:xlink=\"http://www.w3.org/1999/xlink\" contentStyleType=\"text/css\" height=\"112px\" preserveAspectRatio=\"none\" style=\"width:135px;height:112px;background:#FFFFFF;\" version=\"1.1\" viewBox=\"0 0 135 112\" width=\"135px\" zoomAndPan=\"magnify\"><defs/><g><!--MD5=[fbc87193dbaf4d95561dea2c320d4a47]\n",
       "cluster E1--><g id=\"cluster_E1\"><a href=\"psysml:25630d9e-fd72-404c-a7ab-b539c76838aa\" target=\"_top\" title=\"psysml:25630d9e-fd72-404c-a7ab-b539c76838aa\" xlink:actuate=\"onRequest\" xlink:href=\"psysml:25630d9e-fd72-404c-a7ab-b539c76838aa\" xlink:show=\"new\" xlink:title=\"psysml:25630d9e-fd72-404c-a7ab-b539c76838aa\" xlink:type=\"simple\"><polygon fill=\"none\" points=\"16,6,40.875,6,47.875,28.2969,118,28.2969,118,105,16,105,16,6\" style=\"stroke:#000000;stroke-width:1.5;\"/><line style=\"stroke:#000000;stroke-width:1.5;\" x1=\"16\" x2=\"47.875\" y1=\"28.2969\" y2=\"28.2969\"/><text fill=\"#000000\" font-family=\"sans-serif\" font-size=\"14\" font-weight=\"bold\" lengthAdjust=\"spacing\" textLength=\"18.875\" x=\"20\" y=\"20.9951\">P1</text></a></g><!--MD5=[b4997ac47864f28c2f74865a473b2911]\n",
       "class E2--><a href=\"psysml:a55dbec3-766f-4afc-9e3f-438a26c08edd\" target=\"_top\" title=\"psysml:a55dbec3-766f-4afc-9e3f-438a26c08edd\" xlink:actuate=\"onRequest\" xlink:href=\"psysml:a55dbec3-766f-4afc-9e3f-438a26c08edd\" xlink:show=\"new\" xlink:title=\"psysml:a55dbec3-766f-4afc-9e3f-438a26c08edd\" xlink:type=\"simple\"><g id=\"elem_E2\"><rect fill=\"#FFFFFF\" height=\"48.2656\" id=\"E2\" style=\"stroke:#181818;stroke-width:0.5;\" width=\"70\" x=\"32\" y=\"41\"/><text fill=\"#000000\" font-family=\"sans-serif\" font-size=\"12\" font-style=\"italic\" lengthAdjust=\"spacing\" textLength=\"68\" x=\"33\" y=\"57.1387\">«part  def»</text><text fill=\"#000000\" font-family=\"sans-serif\" font-size=\"14\" lengthAdjust=\"spacing\" textLength=\"9\" x=\"62.5\" y=\"72.9639\">A</text><line style=\"stroke:#181818;stroke-width:0.5;\" x1=\"33\" x2=\"101\" y1=\"81.2656\" y2=\"81.2656\"/></g></a><!--MD5=[3f46d69781c4029bbac0cd32be33240a]\n",
       "@startuml\r\n",
       "skin sysmlbw\r\n",
       "skinparam monochrome true\r\n",
       "skinparam wrapWidth 300\r\n",
       "hide circle\r\n",
       "\r\n",
       "package \"P1\" as E1  [[psysml:25630d9e-fd72-404c-a7ab-b539c76838aa ]]  {\r\n",
       "comp def \"A\" as E2  <<(T,blue) part  def>> [[psysml:a55dbec3-766f-4afc-9e3f-438a26c08edd ]] {\r\n",
       "}\r\n",
       "}\r\n",
       "@enduml\r\n",
       "\n",
       "PlantUML version 1.2022.7(Mon Aug 22 17:01:30 UTC 2022)\n",
       "(EPL source distribution)\n",
       "Java Runtime: OpenJDK Runtime Environment\n",
       "JVM: OpenJDK 64-Bit Server VM\n",
       "Default Encoding: UTF-8\n",
       "Language: en\n",
       "Country: null\n",
       "--></g></svg>"
      ]
     },
     "execution_count": 38,
     "metadata": {},
     "output_type": "execute_result"
    }
   ],
   "source": [
    "%viz --style=\"DEFAULT\" --view=\"Tree\" \"P1\""
   ]
  },
  {
   "cell_type": "code",
   "execution_count": 39,
   "id": "c050d973",
   "metadata": {
    "execution": {
     "iopub.execute_input": "2024-12-16T14:15:38.876530Z",
     "iopub.status.busy": "2024-12-16T14:15:38.876339Z",
     "iopub.status.idle": "2024-12-16T14:15:38.882011Z",
     "shell.execute_reply": "2024-12-16T14:15:38.881752Z"
    }
   },
   "outputs": [
    {
     "data": {
      "image/svg+xml": [
       "<?xml version=\"1.0\" encoding=\"UTF-8\" standalone=\"no\"?><svg xmlns=\"http://www.w3.org/2000/svg\" xmlns:xlink=\"http://www.w3.org/1999/xlink\" contentStyleType=\"text/css\" height=\"10px\" preserveAspectRatio=\"none\" style=\"width:10px;height:10px;background:#FFFFFF;\" version=\"1.1\" viewBox=\"0 0 10 10\" width=\"10px\" zoomAndPan=\"magnify\"><defs/><g><!--MD5=[ac12e6954f3af68464267ee74ddf8a9f]\n",
       "@startuml\r\n",
       "skin sysmlbw\r\n",
       "skinparam monochrome true\r\n",
       "skinparam wrapWidth 300\r\n",
       "hide circle\r\n",
       "\r\n",
       "@enduml\r\n",
       "\n",
       "PlantUML version 1.2022.7(Mon Aug 22 17:01:30 UTC 2022)\n",
       "(EPL source distribution)\n",
       "Java Runtime: OpenJDK Runtime Environment\n",
       "JVM: OpenJDK 64-Bit Server VM\n",
       "Default Encoding: UTF-8\n",
       "Language: en\n",
       "Country: null\n",
       "--></g></svg>"
      ]
     },
     "execution_count": 39,
     "metadata": {},
     "output_type": "execute_result"
    }
   ],
   "source": [
    "%viz --style=\"DEFAULT\" --view=\"State\" \"P1\""
   ]
  },
  {
   "cell_type": "code",
   "execution_count": 40,
   "id": "00e8998b",
   "metadata": {
    "execution": {
     "iopub.execute_input": "2024-12-16T14:15:38.935461Z",
     "iopub.status.busy": "2024-12-16T14:15:38.935208Z",
     "iopub.status.idle": "2024-12-16T14:15:38.950456Z",
     "shell.execute_reply": "2024-12-16T14:15:38.950256Z"
    }
   },
   "outputs": [
    {
     "data": {
      "image/svg+xml": [
       "<?xml version=\"1.0\" encoding=\"UTF-8\" standalone=\"no\"?><svg xmlns=\"http://www.w3.org/2000/svg\" xmlns:xlink=\"http://www.w3.org/1999/xlink\" contentStyleType=\"text/css\" height=\"109px\" preserveAspectRatio=\"none\" style=\"width:139px;height:109px;background:#FFFFFF;\" version=\"1.1\" viewBox=\"0 0 139 109\" width=\"139px\" zoomAndPan=\"magnify\"><defs/><g><!--MD5=[fbc87193dbaf4d95561dea2c320d4a47]\n",
       "cluster E1--><g id=\"cluster_E1\"><a href=\"psysml:25630d9e-fd72-404c-a7ab-b539c76838aa\" target=\"_top\" title=\"psysml:25630d9e-fd72-404c-a7ab-b539c76838aa\" xlink:actuate=\"onRequest\" xlink:href=\"psysml:25630d9e-fd72-404c-a7ab-b539c76838aa\" xlink:show=\"new\" xlink:title=\"psysml:25630d9e-fd72-404c-a7ab-b539c76838aa\" xlink:type=\"simple\"><polygon fill=\"none\" points=\"16,6,40.875,6,47.875,28.2969,122,28.2969,122,102,16,102,16,6\" style=\"stroke:#000000;stroke-width:1.5;\"/><line style=\"stroke:#000000;stroke-width:1.5;\" x1=\"16\" x2=\"47.875\" y1=\"28.2969\" y2=\"28.2969\"/><text fill=\"#000000\" font-family=\"sans-serif\" font-size=\"14\" font-weight=\"bold\" lengthAdjust=\"spacing\" textLength=\"18.875\" x=\"20\" y=\"20.9951\">P1</text></a></g><g><a href=\"psysml:a55dbec3-766f-4afc-9e3f-438a26c08edd\" target=\"_top\" title=\"psysml:a55dbec3-766f-4afc-9e3f-438a26c08edd\" xlink:actuate=\"onRequest\" xlink:href=\"psysml:a55dbec3-766f-4afc-9e3f-438a26c08edd\" xlink:show=\"new\" xlink:title=\"psysml:a55dbec3-766f-4afc-9e3f-438a26c08edd\" xlink:type=\"simple\"><rect fill=\"#FFFFFF\" height=\"45.2656\" id=\"E2\" style=\"stroke:#383838;stroke-width:1.5;\" width=\"75\" x=\"31.5\" y=\"41\"/><text fill=\"#000000\" font-family=\"sans-serif\" font-size=\"12\" font-style=\"italic\" lengthAdjust=\"spacing\" textLength=\"68\" x=\"35\" y=\"57.1387\">«part  def»</text><text fill=\"#000000\" font-family=\"sans-serif\" font-size=\"14\" lengthAdjust=\"spacing\" textLength=\"9\" x=\"64.5\" y=\"72.9639\">A</text></a></g><!--MD5=[9b4d2223e4b720fff00b133db08b0b6a]\n",
       "@startuml\r\n",
       "skin sysmlbw\r\n",
       "skinparam monochrome true\r\n",
       "skinparam wrapWidth 300\r\n",
       "hide circle\r\n",
       "skinparam ranksep 10\r\n",
       "skinparam rectangle {\r\n",
       " backgroundColor<<block>> LightGreen\r\n",
       "}\r\n",
       "\r\n",
       "package \"P1\" as E1  [[psysml:25630d9e-fd72-404c-a7ab-b539c76838aa ]]  {\r\n",
       "rec def \"A\" as E2  <<(T,blue) part  def>> [[psysml:a55dbec3-766f-4afc-9e3f-438a26c08edd ]] {\r\n",
       "}\r\n",
       "}\r\n",
       "@enduml\r\n",
       "\n",
       "PlantUML version 1.2022.7(Mon Aug 22 17:01:30 UTC 2022)\n",
       "(EPL source distribution)\n",
       "Java Runtime: OpenJDK Runtime Environment\n",
       "JVM: OpenJDK 64-Bit Server VM\n",
       "Default Encoding: UTF-8\n",
       "Language: en\n",
       "Country: null\n",
       "--></g></svg>"
      ]
     },
     "execution_count": 40,
     "metadata": {},
     "output_type": "execute_result"
    }
   ],
   "source": [
    "%viz --style=\"DEFAULT\" --view=\"Interconnection\" \"P1\""
   ]
  },
  {
   "cell_type": "code",
   "execution_count": 41,
   "id": "91a65b1a",
   "metadata": {
    "execution": {
     "iopub.execute_input": "2024-12-16T14:15:39.005524Z",
     "iopub.status.busy": "2024-12-16T14:15:39.005175Z",
     "iopub.status.idle": "2024-12-16T14:15:39.011179Z",
     "shell.execute_reply": "2024-12-16T14:15:39.010944Z"
    }
   },
   "outputs": [
    {
     "data": {
      "image/svg+xml": [
       "<?xml version=\"1.0\" encoding=\"UTF-8\" standalone=\"no\"?><svg xmlns=\"http://www.w3.org/2000/svg\" xmlns:xlink=\"http://www.w3.org/1999/xlink\" contentStyleType=\"text/css\" height=\"10px\" preserveAspectRatio=\"none\" style=\"width:10px;height:10px;background:#FFFFFF;\" version=\"1.1\" viewBox=\"0 0 10 10\" width=\"10px\" zoomAndPan=\"magnify\"><defs/><g><!--MD5=[3d9597b1575ffc4802b0d6ba40297a8d]\n",
       "@startuml\r\n",
       "skin sysmlbw\r\n",
       "skinparam monochrome true\r\n",
       "skinparam wrapWidth 300\r\n",
       "hide circle\r\n",
       "skinparam ranksep 8\r\n",
       "\r\n",
       "@enduml\r\n",
       "\n",
       "PlantUML version 1.2022.7(Mon Aug 22 17:01:30 UTC 2022)\n",
       "(EPL source distribution)\n",
       "Java Runtime: OpenJDK Runtime Environment\n",
       "JVM: OpenJDK 64-Bit Server VM\n",
       "Default Encoding: UTF-8\n",
       "Language: en\n",
       "Country: null\n",
       "--></g></svg>"
      ]
     },
     "execution_count": 41,
     "metadata": {},
     "output_type": "execute_result"
    }
   ],
   "source": [
    "%viz --style=\"DEFAULT\" --view=\"Action\" \"P1\""
   ]
  },
  {
   "cell_type": "code",
   "execution_count": 42,
   "id": "be9c2e30",
   "metadata": {
    "execution": {
     "iopub.execute_input": "2024-12-16T14:15:39.062738Z",
     "iopub.status.busy": "2024-12-16T14:15:39.062513Z",
     "iopub.status.idle": "2024-12-16T14:15:39.069169Z",
     "shell.execute_reply": "2024-12-16T14:15:39.068929Z"
    }
   },
   "outputs": [
    {
     "data": {
      "image/svg+xml": [
       "<?xml version=\"1.0\" encoding=\"UTF-8\" standalone=\"no\"?><svg xmlns=\"http://www.w3.org/2000/svg\" xmlns:xlink=\"http://www.w3.org/1999/xlink\" contentStyleType=\"text/css\" height=\"10px\" preserveAspectRatio=\"none\" style=\"width:10px;height:10px;background:#FFFFFF;\" version=\"1.1\" viewBox=\"0 0 10 10\" width=\"10px\" zoomAndPan=\"magnify\"><defs/><g><!--MD5=[075159388321915a295a256e9638f934]\n",
       "@startuml\r\n",
       "skin sysmlbw\r\n",
       "skinparam monochrome true\r\n",
       "skinparam wrapWidth 300\r\n",
       "hide circle\r\n",
       "skinparam roundcorner 20\r\n",
       "skinparam BoxPadding 20\r\n",
       "skinparam SequenceBoxBackgroundColor #white\r\n",
       "skinparam style strictuml\r\n",
       "skinparam maxMessageSize 100\r\n",
       "\r\n",
       "@enduml\r\n",
       "\n",
       "PlantUML version 1.2022.7(Mon Aug 22 17:01:30 UTC 2022)\n",
       "(EPL source distribution)\n",
       "Java Runtime: OpenJDK Runtime Environment\n",
       "JVM: OpenJDK 64-Bit Server VM\n",
       "Default Encoding: UTF-8\n",
       "Language: en\n",
       "Country: null\n",
       "--></g></svg>"
      ]
     },
     "execution_count": 42,
     "metadata": {},
     "output_type": "execute_result"
    }
   ],
   "source": [
    "%viz --style=\"DEFAULT\" --view=\"Sequence\" \"P1\""
   ]
  },
  {
   "cell_type": "code",
   "execution_count": 43,
   "id": "e5dec67f",
   "metadata": {
    "execution": {
     "iopub.execute_input": "2024-12-16T14:15:39.121753Z",
     "iopub.status.busy": "2024-12-16T14:15:39.121495Z",
     "iopub.status.idle": "2024-12-16T14:15:39.138585Z",
     "shell.execute_reply": "2024-12-16T14:15:39.138376Z"
    }
   },
   "outputs": [
    {
     "data": {
      "image/svg+xml": [
       "<?xml version=\"1.0\" encoding=\"UTF-8\" standalone=\"no\"?><svg xmlns=\"http://www.w3.org/2000/svg\" xmlns:xlink=\"http://www.w3.org/1999/xlink\" contentStyleType=\"text/css\" height=\"112px\" preserveAspectRatio=\"none\" style=\"width:135px;height:112px;background:#FFFFFF;\" version=\"1.1\" viewBox=\"0 0 135 112\" width=\"135px\" zoomAndPan=\"magnify\"><defs/><g><!--MD5=[fbc87193dbaf4d95561dea2c320d4a47]\n",
       "cluster E1--><g id=\"cluster_E1\"><a href=\"psysml:25630d9e-fd72-404c-a7ab-b539c76838aa\" target=\"_top\" title=\"psysml:25630d9e-fd72-404c-a7ab-b539c76838aa\" xlink:actuate=\"onRequest\" xlink:href=\"psysml:25630d9e-fd72-404c-a7ab-b539c76838aa\" xlink:show=\"new\" xlink:title=\"psysml:25630d9e-fd72-404c-a7ab-b539c76838aa\" xlink:type=\"simple\"><polygon fill=\"none\" points=\"16,6,40.875,6,47.875,28.2969,118,28.2969,118,105,16,105,16,6\" style=\"stroke:#000000;stroke-width:1.5;\"/><line style=\"stroke:#000000;stroke-width:1.5;\" x1=\"16\" x2=\"47.875\" y1=\"28.2969\" y2=\"28.2969\"/><text fill=\"#000000\" font-family=\"sans-serif\" font-size=\"14\" font-weight=\"bold\" lengthAdjust=\"spacing\" textLength=\"18.875\" x=\"20\" y=\"20.9951\">P1</text></a></g><!--MD5=[b4997ac47864f28c2f74865a473b2911]\n",
       "class E2--><a href=\"psysml:a55dbec3-766f-4afc-9e3f-438a26c08edd\" target=\"_top\" title=\"psysml:a55dbec3-766f-4afc-9e3f-438a26c08edd\" xlink:actuate=\"onRequest\" xlink:href=\"psysml:a55dbec3-766f-4afc-9e3f-438a26c08edd\" xlink:show=\"new\" xlink:title=\"psysml:a55dbec3-766f-4afc-9e3f-438a26c08edd\" xlink:type=\"simple\"><g id=\"elem_E2\"><rect fill=\"#FFFFFF\" height=\"48.2656\" id=\"E2\" style=\"stroke:#181818;stroke-width:0.5;\" width=\"70\" x=\"32\" y=\"41\"/><text fill=\"#000000\" font-family=\"sans-serif\" font-size=\"12\" font-style=\"italic\" lengthAdjust=\"spacing\" textLength=\"68\" x=\"33\" y=\"57.1387\">«part  def»</text><text fill=\"#000000\" font-family=\"sans-serif\" font-size=\"14\" lengthAdjust=\"spacing\" textLength=\"9\" x=\"62.5\" y=\"72.9639\">A</text><line style=\"stroke:#181818;stroke-width:0.5;\" x1=\"33\" x2=\"101\" y1=\"81.2656\" y2=\"81.2656\"/></g></a><!--MD5=[3f46d69781c4029bbac0cd32be33240a]\n",
       "@startuml\r\n",
       "skin sysmlbw\r\n",
       "skinparam monochrome true\r\n",
       "skinparam wrapWidth 300\r\n",
       "hide circle\r\n",
       "\r\n",
       "package \"P1\" as E1  [[psysml:25630d9e-fd72-404c-a7ab-b539c76838aa ]]  {\r\n",
       "comp def \"A\" as E2  <<(T,blue) part  def>> [[psysml:a55dbec3-766f-4afc-9e3f-438a26c08edd ]] {\r\n",
       "}\r\n",
       "}\r\n",
       "@enduml\r\n",
       "\n",
       "PlantUML version 1.2022.7(Mon Aug 22 17:01:30 UTC 2022)\n",
       "(EPL source distribution)\n",
       "Java Runtime: OpenJDK Runtime Environment\n",
       "JVM: OpenJDK 64-Bit Server VM\n",
       "Default Encoding: UTF-8\n",
       "Language: en\n",
       "Country: null\n",
       "--></g></svg>"
      ]
     },
     "execution_count": 43,
     "metadata": {},
     "output_type": "execute_result"
    }
   ],
   "source": [
    "%viz --style=\"DEFAULT\" --view=\"MIXED\" \"P1\""
   ]
  },
  {
   "cell_type": "code",
   "execution_count": 44,
   "id": "4c75dada",
   "metadata": {
    "execution": {
     "iopub.execute_input": "2024-12-16T14:15:39.193011Z",
     "iopub.status.busy": "2024-12-16T14:15:39.192776Z",
     "iopub.status.idle": "2024-12-16T14:15:39.205645Z",
     "shell.execute_reply": "2024-12-16T14:15:39.205344Z"
    }
   },
   "outputs": [
    {
     "data": {
      "image/svg+xml": [
       "<?xml version=\"1.0\" encoding=\"UTF-8\" standalone=\"no\"?><svg xmlns=\"http://www.w3.org/2000/svg\" xmlns:xlink=\"http://www.w3.org/1999/xlink\" contentStyleType=\"text/css\" height=\"112px\" preserveAspectRatio=\"none\" style=\"width:135px;height:112px;background:#FFFFFF;\" version=\"1.1\" viewBox=\"0 0 135 112\" width=\"135px\" zoomAndPan=\"magnify\"><defs/><g><!--MD5=[fbc87193dbaf4d95561dea2c320d4a47]\n",
       "cluster E1--><g id=\"cluster_E1\"><a href=\"psysml:25630d9e-fd72-404c-a7ab-b539c76838aa\" target=\"_top\" title=\"psysml:25630d9e-fd72-404c-a7ab-b539c76838aa\" xlink:actuate=\"onRequest\" xlink:href=\"psysml:25630d9e-fd72-404c-a7ab-b539c76838aa\" xlink:show=\"new\" xlink:title=\"psysml:25630d9e-fd72-404c-a7ab-b539c76838aa\" xlink:type=\"simple\"><polygon fill=\"none\" points=\"16,6,40.875,6,47.875,28.2969,118,28.2969,118,105,16,105,16,6\" style=\"stroke:#000000;stroke-width:1.5;\"/><line style=\"stroke:#000000;stroke-width:1.5;\" x1=\"16\" x2=\"47.875\" y1=\"28.2969\" y2=\"28.2969\"/><text fill=\"#000000\" font-family=\"sans-serif\" font-size=\"14\" font-weight=\"bold\" lengthAdjust=\"spacing\" textLength=\"18.875\" x=\"20\" y=\"20.9951\">P1</text></a></g><!--MD5=[b4997ac47864f28c2f74865a473b2911]\n",
       "class E2--><a href=\"psysml:a55dbec3-766f-4afc-9e3f-438a26c08edd\" target=\"_top\" title=\"psysml:a55dbec3-766f-4afc-9e3f-438a26c08edd\" xlink:actuate=\"onRequest\" xlink:href=\"psysml:a55dbec3-766f-4afc-9e3f-438a26c08edd\" xlink:show=\"new\" xlink:title=\"psysml:a55dbec3-766f-4afc-9e3f-438a26c08edd\" xlink:type=\"simple\"><g id=\"elem_E2\"><rect fill=\"#FFFFFF\" height=\"48.2656\" id=\"E2\" style=\"stroke:#181818;stroke-width:0.5;\" width=\"70\" x=\"32\" y=\"41\"/><text fill=\"#000000\" font-family=\"sans-serif\" font-size=\"12\" font-style=\"italic\" lengthAdjust=\"spacing\" textLength=\"68\" x=\"33\" y=\"57.1387\">«part  def»</text><text fill=\"#000000\" font-family=\"sans-serif\" font-size=\"14\" lengthAdjust=\"spacing\" textLength=\"9\" x=\"62.5\" y=\"72.9639\">A</text><line style=\"stroke:#181818;stroke-width:0.5;\" x1=\"33\" x2=\"101\" y1=\"81.2656\" y2=\"81.2656\"/></g></a><!--MD5=[43887d36bd8e52dd4e4ccdbf91d38bab]\n",
       "@startuml\r\n",
       "skin sysmlbw\r\n",
       "skinparam monochrome true\r\n",
       "skinparam wrapWidth 300\r\n",
       "hide circle\r\n",
       "top to bottom direction\r\n",
       "\r\n",
       "package \"P1\" as E1  [[psysml:25630d9e-fd72-404c-a7ab-b539c76838aa ]]  {\r\n",
       "comp def \"A\" as E2  <<(T,blue) part  def>> [[psysml:a55dbec3-766f-4afc-9e3f-438a26c08edd ]] {\r\n",
       "}\r\n",
       "}\r\n",
       "@enduml\r\n",
       "\n",
       "PlantUML version 1.2022.7(Mon Aug 22 17:01:30 UTC 2022)\n",
       "(EPL source distribution)\n",
       "Java Runtime: OpenJDK Runtime Environment\n",
       "JVM: OpenJDK 64-Bit Server VM\n",
       "Default Encoding: UTF-8\n",
       "Language: en\n",
       "Country: null\n",
       "--></g></svg>"
      ]
     },
     "execution_count": 44,
     "metadata": {},
     "output_type": "execute_result"
    }
   ],
   "source": [
    "%viz --style=\"TB\" --view=\"Default\" \"P1\""
   ]
  },
  {
   "cell_type": "code",
   "execution_count": 45,
   "id": "2fda02f7",
   "metadata": {
    "execution": {
     "iopub.execute_input": "2024-12-16T14:15:39.259800Z",
     "iopub.status.busy": "2024-12-16T14:15:39.259577Z",
     "iopub.status.idle": "2024-12-16T14:15:39.271855Z",
     "shell.execute_reply": "2024-12-16T14:15:39.271668Z"
    }
   },
   "outputs": [
    {
     "data": {
      "image/svg+xml": [
       "<?xml version=\"1.0\" encoding=\"UTF-8\" standalone=\"no\"?><svg xmlns=\"http://www.w3.org/2000/svg\" xmlns:xlink=\"http://www.w3.org/1999/xlink\" contentStyleType=\"text/css\" height=\"112px\" preserveAspectRatio=\"none\" style=\"width:135px;height:112px;background:#FFFFFF;\" version=\"1.1\" viewBox=\"0 0 135 112\" width=\"135px\" zoomAndPan=\"magnify\"><defs/><g><!--MD5=[fbc87193dbaf4d95561dea2c320d4a47]\n",
       "cluster E1--><g id=\"cluster_E1\"><a href=\"psysml:25630d9e-fd72-404c-a7ab-b539c76838aa\" target=\"_top\" title=\"psysml:25630d9e-fd72-404c-a7ab-b539c76838aa\" xlink:actuate=\"onRequest\" xlink:href=\"psysml:25630d9e-fd72-404c-a7ab-b539c76838aa\" xlink:show=\"new\" xlink:title=\"psysml:25630d9e-fd72-404c-a7ab-b539c76838aa\" xlink:type=\"simple\"><polygon fill=\"none\" points=\"16,6,40.875,6,47.875,28.2969,118,28.2969,118,105,16,105,16,6\" style=\"stroke:#000000;stroke-width:1.5;\"/><line style=\"stroke:#000000;stroke-width:1.5;\" x1=\"16\" x2=\"47.875\" y1=\"28.2969\" y2=\"28.2969\"/><text fill=\"#000000\" font-family=\"sans-serif\" font-size=\"14\" font-weight=\"bold\" lengthAdjust=\"spacing\" textLength=\"18.875\" x=\"20\" y=\"20.9951\">P1</text></a></g><!--MD5=[b4997ac47864f28c2f74865a473b2911]\n",
       "class E2--><a href=\"psysml:a55dbec3-766f-4afc-9e3f-438a26c08edd\" target=\"_top\" title=\"psysml:a55dbec3-766f-4afc-9e3f-438a26c08edd\" xlink:actuate=\"onRequest\" xlink:href=\"psysml:a55dbec3-766f-4afc-9e3f-438a26c08edd\" xlink:show=\"new\" xlink:title=\"psysml:a55dbec3-766f-4afc-9e3f-438a26c08edd\" xlink:type=\"simple\"><g id=\"elem_E2\"><rect fill=\"#FFFFFF\" height=\"48.2656\" id=\"E2\" style=\"stroke:#181818;stroke-width:0.5;\" width=\"70\" x=\"32\" y=\"41\"/><text fill=\"#000000\" font-family=\"sans-serif\" font-size=\"12\" font-style=\"italic\" lengthAdjust=\"spacing\" textLength=\"68\" x=\"33\" y=\"57.1387\">«part  def»</text><text fill=\"#000000\" font-family=\"sans-serif\" font-size=\"14\" lengthAdjust=\"spacing\" textLength=\"9\" x=\"62.5\" y=\"72.9639\">A</text><line style=\"stroke:#181818;stroke-width:0.5;\" x1=\"33\" x2=\"101\" y1=\"81.2656\" y2=\"81.2656\"/></g></a><!--MD5=[43887d36bd8e52dd4e4ccdbf91d38bab]\n",
       "@startuml\r\n",
       "skin sysmlbw\r\n",
       "skinparam monochrome true\r\n",
       "skinparam wrapWidth 300\r\n",
       "hide circle\r\n",
       "top to bottom direction\r\n",
       "\r\n",
       "package \"P1\" as E1  [[psysml:25630d9e-fd72-404c-a7ab-b539c76838aa ]]  {\r\n",
       "comp def \"A\" as E2  <<(T,blue) part  def>> [[psysml:a55dbec3-766f-4afc-9e3f-438a26c08edd ]] {\r\n",
       "}\r\n",
       "}\r\n",
       "@enduml\r\n",
       "\n",
       "PlantUML version 1.2022.7(Mon Aug 22 17:01:30 UTC 2022)\n",
       "(EPL source distribution)\n",
       "Java Runtime: OpenJDK Runtime Environment\n",
       "JVM: OpenJDK 64-Bit Server VM\n",
       "Default Encoding: UTF-8\n",
       "Language: en\n",
       "Country: null\n",
       "--></g></svg>"
      ]
     },
     "execution_count": 45,
     "metadata": {},
     "output_type": "execute_result"
    }
   ],
   "source": [
    "%viz --style=\"TB\" --view=\"Tree\" \"P1\""
   ]
  },
  {
   "cell_type": "code",
   "execution_count": 46,
   "id": "7088da3c",
   "metadata": {
    "execution": {
     "iopub.execute_input": "2024-12-16T14:15:39.327957Z",
     "iopub.status.busy": "2024-12-16T14:15:39.327739Z",
     "iopub.status.idle": "2024-12-16T14:15:39.332522Z",
     "shell.execute_reply": "2024-12-16T14:15:39.332351Z"
    }
   },
   "outputs": [
    {
     "data": {
      "image/svg+xml": [
       "<?xml version=\"1.0\" encoding=\"UTF-8\" standalone=\"no\"?><svg xmlns=\"http://www.w3.org/2000/svg\" xmlns:xlink=\"http://www.w3.org/1999/xlink\" contentStyleType=\"text/css\" height=\"10px\" preserveAspectRatio=\"none\" style=\"width:10px;height:10px;background:#FFFFFF;\" version=\"1.1\" viewBox=\"0 0 10 10\" width=\"10px\" zoomAndPan=\"magnify\"><defs/><g><!--MD5=[457d54036ad86991b1ebb71db2c9a3b1]\n",
       "@startuml\r\n",
       "skin sysmlbw\r\n",
       "skinparam monochrome true\r\n",
       "skinparam wrapWidth 300\r\n",
       "hide circle\r\n",
       "top to bottom direction\r\n",
       "\r\n",
       "@enduml\r\n",
       "\n",
       "PlantUML version 1.2022.7(Mon Aug 22 17:01:30 UTC 2022)\n",
       "(EPL source distribution)\n",
       "Java Runtime: OpenJDK Runtime Environment\n",
       "JVM: OpenJDK 64-Bit Server VM\n",
       "Default Encoding: UTF-8\n",
       "Language: en\n",
       "Country: null\n",
       "--></g></svg>"
      ]
     },
     "execution_count": 46,
     "metadata": {},
     "output_type": "execute_result"
    }
   ],
   "source": [
    "%viz --style=\"TB\" --view=\"State\" \"P1\""
   ]
  },
  {
   "cell_type": "code",
   "execution_count": 47,
   "id": "f676085a",
   "metadata": {
    "execution": {
     "iopub.execute_input": "2024-12-16T14:15:39.387017Z",
     "iopub.status.busy": "2024-12-16T14:15:39.386848Z",
     "iopub.status.idle": "2024-12-16T14:15:39.401181Z",
     "shell.execute_reply": "2024-12-16T14:15:39.400997Z"
    }
   },
   "outputs": [
    {
     "data": {
      "image/svg+xml": [
       "<?xml version=\"1.0\" encoding=\"UTF-8\" standalone=\"no\"?><svg xmlns=\"http://www.w3.org/2000/svg\" xmlns:xlink=\"http://www.w3.org/1999/xlink\" contentStyleType=\"text/css\" height=\"109px\" preserveAspectRatio=\"none\" style=\"width:139px;height:109px;background:#FFFFFF;\" version=\"1.1\" viewBox=\"0 0 139 109\" width=\"139px\" zoomAndPan=\"magnify\"><defs/><g><!--MD5=[fbc87193dbaf4d95561dea2c320d4a47]\n",
       "cluster E1--><g id=\"cluster_E1\"><a href=\"psysml:25630d9e-fd72-404c-a7ab-b539c76838aa\" target=\"_top\" title=\"psysml:25630d9e-fd72-404c-a7ab-b539c76838aa\" xlink:actuate=\"onRequest\" xlink:href=\"psysml:25630d9e-fd72-404c-a7ab-b539c76838aa\" xlink:show=\"new\" xlink:title=\"psysml:25630d9e-fd72-404c-a7ab-b539c76838aa\" xlink:type=\"simple\"><polygon fill=\"none\" points=\"16,6,40.875,6,47.875,28.2969,122,28.2969,122,102,16,102,16,6\" style=\"stroke:#000000;stroke-width:1.5;\"/><line style=\"stroke:#000000;stroke-width:1.5;\" x1=\"16\" x2=\"47.875\" y1=\"28.2969\" y2=\"28.2969\"/><text fill=\"#000000\" font-family=\"sans-serif\" font-size=\"14\" font-weight=\"bold\" lengthAdjust=\"spacing\" textLength=\"18.875\" x=\"20\" y=\"20.9951\">P1</text></a></g><g><a href=\"psysml:a55dbec3-766f-4afc-9e3f-438a26c08edd\" target=\"_top\" title=\"psysml:a55dbec3-766f-4afc-9e3f-438a26c08edd\" xlink:actuate=\"onRequest\" xlink:href=\"psysml:a55dbec3-766f-4afc-9e3f-438a26c08edd\" xlink:show=\"new\" xlink:title=\"psysml:a55dbec3-766f-4afc-9e3f-438a26c08edd\" xlink:type=\"simple\"><rect fill=\"#FFFFFF\" height=\"45.2656\" id=\"E2\" style=\"stroke:#383838;stroke-width:1.5;\" width=\"75\" x=\"31.5\" y=\"41\"/><text fill=\"#000000\" font-family=\"sans-serif\" font-size=\"12\" font-style=\"italic\" lengthAdjust=\"spacing\" textLength=\"68\" x=\"35\" y=\"57.1387\">«part  def»</text><text fill=\"#000000\" font-family=\"sans-serif\" font-size=\"14\" lengthAdjust=\"spacing\" textLength=\"9\" x=\"64.5\" y=\"72.9639\">A</text></a></g><!--MD5=[ab04e5a4136488e43ca2f53516c5b34c]\n",
       "@startuml\r\n",
       "skin sysmlbw\r\n",
       "skinparam monochrome true\r\n",
       "skinparam wrapWidth 300\r\n",
       "hide circle\r\n",
       "top to bottom direction\r\n",
       "skinparam ranksep 10\r\n",
       "skinparam rectangle {\r\n",
       " backgroundColor<<block>> LightGreen\r\n",
       "}\r\n",
       "\r\n",
       "package \"P1\" as E1  [[psysml:25630d9e-fd72-404c-a7ab-b539c76838aa ]]  {\r\n",
       "rec def \"A\" as E2  <<(T,blue) part  def>> [[psysml:a55dbec3-766f-4afc-9e3f-438a26c08edd ]] {\r\n",
       "}\r\n",
       "}\r\n",
       "@enduml\r\n",
       "\n",
       "PlantUML version 1.2022.7(Mon Aug 22 17:01:30 UTC 2022)\n",
       "(EPL source distribution)\n",
       "Java Runtime: OpenJDK Runtime Environment\n",
       "JVM: OpenJDK 64-Bit Server VM\n",
       "Default Encoding: UTF-8\n",
       "Language: en\n",
       "Country: null\n",
       "--></g></svg>"
      ]
     },
     "execution_count": 47,
     "metadata": {},
     "output_type": "execute_result"
    }
   ],
   "source": [
    "%viz --style=\"TB\" --view=\"Interconnection\" \"P1\""
   ]
  },
  {
   "cell_type": "code",
   "execution_count": 48,
   "id": "b0535aaa",
   "metadata": {
    "execution": {
     "iopub.execute_input": "2024-12-16T14:15:39.452661Z",
     "iopub.status.busy": "2024-12-16T14:15:39.452370Z",
     "iopub.status.idle": "2024-12-16T14:15:39.457897Z",
     "shell.execute_reply": "2024-12-16T14:15:39.457694Z"
    }
   },
   "outputs": [
    {
     "data": {
      "image/svg+xml": [
       "<?xml version=\"1.0\" encoding=\"UTF-8\" standalone=\"no\"?><svg xmlns=\"http://www.w3.org/2000/svg\" xmlns:xlink=\"http://www.w3.org/1999/xlink\" contentStyleType=\"text/css\" height=\"10px\" preserveAspectRatio=\"none\" style=\"width:10px;height:10px;background:#FFFFFF;\" version=\"1.1\" viewBox=\"0 0 10 10\" width=\"10px\" zoomAndPan=\"magnify\"><defs/><g><!--MD5=[c8dde5d066d102a500cd081cce1d9948]\n",
       "@startuml\r\n",
       "skin sysmlbw\r\n",
       "skinparam monochrome true\r\n",
       "skinparam wrapWidth 300\r\n",
       "hide circle\r\n",
       "top to bottom direction\r\n",
       "skinparam ranksep 8\r\n",
       "\r\n",
       "@enduml\r\n",
       "\n",
       "PlantUML version 1.2022.7(Mon Aug 22 17:01:30 UTC 2022)\n",
       "(EPL source distribution)\n",
       "Java Runtime: OpenJDK Runtime Environment\n",
       "JVM: OpenJDK 64-Bit Server VM\n",
       "Default Encoding: UTF-8\n",
       "Language: en\n",
       "Country: null\n",
       "--></g></svg>"
      ]
     },
     "execution_count": 48,
     "metadata": {},
     "output_type": "execute_result"
    }
   ],
   "source": [
    "%viz --style=\"TB\" --view=\"Action\" \"P1\""
   ]
  },
  {
   "cell_type": "code",
   "execution_count": 49,
   "id": "e106fa4b",
   "metadata": {
    "execution": {
     "iopub.execute_input": "2024-12-16T14:15:39.509300Z",
     "iopub.status.busy": "2024-12-16T14:15:39.509022Z",
     "iopub.status.idle": "2024-12-16T14:15:39.514695Z",
     "shell.execute_reply": "2024-12-16T14:15:39.514511Z"
    }
   },
   "outputs": [
    {
     "data": {
      "image/svg+xml": [
       "<?xml version=\"1.0\" encoding=\"UTF-8\" standalone=\"no\"?><svg xmlns=\"http://www.w3.org/2000/svg\" xmlns:xlink=\"http://www.w3.org/1999/xlink\" contentStyleType=\"text/css\" height=\"10px\" preserveAspectRatio=\"none\" style=\"width:10px;height:10px;background:#FFFFFF;\" version=\"1.1\" viewBox=\"0 0 10 10\" width=\"10px\" zoomAndPan=\"magnify\"><defs/><g><!--MD5=[228a58293b408a2cee091b1559da5a28]\n",
       "@startuml\r\n",
       "skin sysmlbw\r\n",
       "skinparam monochrome true\r\n",
       "skinparam wrapWidth 300\r\n",
       "hide circle\r\n",
       "top to bottom direction\r\n",
       "skinparam roundcorner 20\r\n",
       "skinparam BoxPadding 20\r\n",
       "skinparam SequenceBoxBackgroundColor #white\r\n",
       "skinparam style strictuml\r\n",
       "skinparam maxMessageSize 100\r\n",
       "\r\n",
       "@enduml\r\n",
       "\n",
       "PlantUML version 1.2022.7(Mon Aug 22 17:01:30 UTC 2022)\n",
       "(EPL source distribution)\n",
       "Java Runtime: OpenJDK Runtime Environment\n",
       "JVM: OpenJDK 64-Bit Server VM\n",
       "Default Encoding: UTF-8\n",
       "Language: en\n",
       "Country: null\n",
       "--></g></svg>"
      ]
     },
     "execution_count": 49,
     "metadata": {},
     "output_type": "execute_result"
    }
   ],
   "source": [
    "%viz --style=\"TB\" --view=\"Sequence\" \"P1\""
   ]
  },
  {
   "cell_type": "code",
   "execution_count": 50,
   "id": "fa559d88",
   "metadata": {
    "execution": {
     "iopub.execute_input": "2024-12-16T14:15:39.568535Z",
     "iopub.status.busy": "2024-12-16T14:15:39.568320Z",
     "iopub.status.idle": "2024-12-16T14:15:39.583029Z",
     "shell.execute_reply": "2024-12-16T14:15:39.582837Z"
    }
   },
   "outputs": [
    {
     "data": {
      "image/svg+xml": [
       "<?xml version=\"1.0\" encoding=\"UTF-8\" standalone=\"no\"?><svg xmlns=\"http://www.w3.org/2000/svg\" xmlns:xlink=\"http://www.w3.org/1999/xlink\" contentStyleType=\"text/css\" height=\"112px\" preserveAspectRatio=\"none\" style=\"width:135px;height:112px;background:#FFFFFF;\" version=\"1.1\" viewBox=\"0 0 135 112\" width=\"135px\" zoomAndPan=\"magnify\"><defs/><g><!--MD5=[fbc87193dbaf4d95561dea2c320d4a47]\n",
       "cluster E1--><g id=\"cluster_E1\"><a href=\"psysml:25630d9e-fd72-404c-a7ab-b539c76838aa\" target=\"_top\" title=\"psysml:25630d9e-fd72-404c-a7ab-b539c76838aa\" xlink:actuate=\"onRequest\" xlink:href=\"psysml:25630d9e-fd72-404c-a7ab-b539c76838aa\" xlink:show=\"new\" xlink:title=\"psysml:25630d9e-fd72-404c-a7ab-b539c76838aa\" xlink:type=\"simple\"><polygon fill=\"none\" points=\"16,6,40.875,6,47.875,28.2969,118,28.2969,118,105,16,105,16,6\" style=\"stroke:#000000;stroke-width:1.5;\"/><line style=\"stroke:#000000;stroke-width:1.5;\" x1=\"16\" x2=\"47.875\" y1=\"28.2969\" y2=\"28.2969\"/><text fill=\"#000000\" font-family=\"sans-serif\" font-size=\"14\" font-weight=\"bold\" lengthAdjust=\"spacing\" textLength=\"18.875\" x=\"20\" y=\"20.9951\">P1</text></a></g><!--MD5=[b4997ac47864f28c2f74865a473b2911]\n",
       "class E2--><a href=\"psysml:a55dbec3-766f-4afc-9e3f-438a26c08edd\" target=\"_top\" title=\"psysml:a55dbec3-766f-4afc-9e3f-438a26c08edd\" xlink:actuate=\"onRequest\" xlink:href=\"psysml:a55dbec3-766f-4afc-9e3f-438a26c08edd\" xlink:show=\"new\" xlink:title=\"psysml:a55dbec3-766f-4afc-9e3f-438a26c08edd\" xlink:type=\"simple\"><g id=\"elem_E2\"><rect fill=\"#FFFFFF\" height=\"48.2656\" id=\"E2\" style=\"stroke:#181818;stroke-width:0.5;\" width=\"70\" x=\"32\" y=\"41\"/><text fill=\"#000000\" font-family=\"sans-serif\" font-size=\"12\" font-style=\"italic\" lengthAdjust=\"spacing\" textLength=\"68\" x=\"33\" y=\"57.1387\">«part  def»</text><text fill=\"#000000\" font-family=\"sans-serif\" font-size=\"14\" lengthAdjust=\"spacing\" textLength=\"9\" x=\"62.5\" y=\"72.9639\">A</text><line style=\"stroke:#181818;stroke-width:0.5;\" x1=\"33\" x2=\"101\" y1=\"81.2656\" y2=\"81.2656\"/></g></a><!--MD5=[43887d36bd8e52dd4e4ccdbf91d38bab]\n",
       "@startuml\r\n",
       "skin sysmlbw\r\n",
       "skinparam monochrome true\r\n",
       "skinparam wrapWidth 300\r\n",
       "hide circle\r\n",
       "top to bottom direction\r\n",
       "\r\n",
       "package \"P1\" as E1  [[psysml:25630d9e-fd72-404c-a7ab-b539c76838aa ]]  {\r\n",
       "comp def \"A\" as E2  <<(T,blue) part  def>> [[psysml:a55dbec3-766f-4afc-9e3f-438a26c08edd ]] {\r\n",
       "}\r\n",
       "}\r\n",
       "@enduml\r\n",
       "\n",
       "PlantUML version 1.2022.7(Mon Aug 22 17:01:30 UTC 2022)\n",
       "(EPL source distribution)\n",
       "Java Runtime: OpenJDK Runtime Environment\n",
       "JVM: OpenJDK 64-Bit Server VM\n",
       "Default Encoding: UTF-8\n",
       "Language: en\n",
       "Country: null\n",
       "--></g></svg>"
      ]
     },
     "execution_count": 50,
     "metadata": {},
     "output_type": "execute_result"
    }
   ],
   "source": [
    "%viz --style=\"TB\" --view=\"MIXED\" \"P1\""
   ]
  },
  {
   "cell_type": "code",
   "execution_count": 51,
   "id": "1328f27d",
   "metadata": {
    "execution": {
     "iopub.execute_input": "2024-12-16T14:15:39.637510Z",
     "iopub.status.busy": "2024-12-16T14:15:39.637230Z",
     "iopub.status.idle": "2024-12-16T14:15:39.656480Z",
     "shell.execute_reply": "2024-12-16T14:15:39.656283Z"
    }
   },
   "outputs": [
    {
     "data": {
      "image/svg+xml": [
       "<?xml version=\"1.0\" encoding=\"UTF-8\" standalone=\"no\"?><svg xmlns=\"http://www.w3.org/2000/svg\" xmlns:xlink=\"http://www.w3.org/1999/xlink\" contentStyleType=\"text/css\" height=\"112px\" preserveAspectRatio=\"none\" style=\"width:135px;height:112px;background:#FFFFFF;\" version=\"1.1\" viewBox=\"0 0 135 112\" width=\"135px\" zoomAndPan=\"magnify\"><defs/><g><!--MD5=[fbc87193dbaf4d95561dea2c320d4a47]\n",
       "cluster E1--><g id=\"cluster_E1\"><a href=\"psysml:25630d9e-fd72-404c-a7ab-b539c76838aa\" target=\"_top\" title=\"psysml:25630d9e-fd72-404c-a7ab-b539c76838aa\" xlink:actuate=\"onRequest\" xlink:href=\"psysml:25630d9e-fd72-404c-a7ab-b539c76838aa\" xlink:show=\"new\" xlink:title=\"psysml:25630d9e-fd72-404c-a7ab-b539c76838aa\" xlink:type=\"simple\"><polygon fill=\"none\" points=\"16,6,40.875,6,47.875,28.2969,118,28.2969,118,105,16,105,16,6\" style=\"stroke:#000000;stroke-width:1.5;\"/><line style=\"stroke:#000000;stroke-width:1.5;\" x1=\"16\" x2=\"47.875\" y1=\"28.2969\" y2=\"28.2969\"/><text fill=\"#000000\" font-family=\"sans-serif\" font-size=\"14\" font-weight=\"bold\" lengthAdjust=\"spacing\" textLength=\"18.875\" x=\"20\" y=\"20.9951\">P1</text></a></g><!--MD5=[b4997ac47864f28c2f74865a473b2911]\n",
       "class E2--><a href=\"psysml:a55dbec3-766f-4afc-9e3f-438a26c08edd\" target=\"_top\" title=\"psysml:a55dbec3-766f-4afc-9e3f-438a26c08edd\" xlink:actuate=\"onRequest\" xlink:href=\"psysml:a55dbec3-766f-4afc-9e3f-438a26c08edd\" xlink:show=\"new\" xlink:title=\"psysml:a55dbec3-766f-4afc-9e3f-438a26c08edd\" xlink:type=\"simple\"><g id=\"elem_E2\"><rect fill=\"#FFFFFF\" height=\"48.2656\" id=\"E2\" style=\"stroke:#181818;stroke-width:0.5;\" width=\"70\" x=\"32\" y=\"41\"/><text fill=\"#000000\" font-family=\"sans-serif\" font-size=\"12\" font-style=\"italic\" lengthAdjust=\"spacing\" textLength=\"68\" x=\"33\" y=\"57.1387\">«part  def»</text><text fill=\"#000000\" font-family=\"sans-serif\" font-size=\"14\" lengthAdjust=\"spacing\" textLength=\"9\" x=\"62.5\" y=\"72.9639\">A</text><line style=\"stroke:#181818;stroke-width:0.5;\" x1=\"33\" x2=\"101\" y1=\"81.2656\" y2=\"81.2656\"/></g></a><!--MD5=[693e05b2e26f87a1626ba4cbfa456c70]\n",
       "@startuml\r\n",
       "skin sysmlbw\r\n",
       "skinparam monochrome true\r\n",
       "skinparam wrapWidth 300\r\n",
       "hide circle\r\n",
       "skinparam linetype ortho\r\n",
       "\r\n",
       "package \"P1\" as E1  [[psysml:25630d9e-fd72-404c-a7ab-b539c76838aa ]]  {\r\n",
       "comp def \"A\" as E2  <<(T,blue) part  def>> [[psysml:a55dbec3-766f-4afc-9e3f-438a26c08edd ]] {\r\n",
       "}\r\n",
       "}\r\n",
       "@enduml\r\n",
       "\n",
       "PlantUML version 1.2022.7(Mon Aug 22 17:01:30 UTC 2022)\n",
       "(EPL source distribution)\n",
       "Java Runtime: OpenJDK Runtime Environment\n",
       "JVM: OpenJDK 64-Bit Server VM\n",
       "Default Encoding: UTF-8\n",
       "Language: en\n",
       "Country: null\n",
       "--></g></svg>"
      ]
     },
     "execution_count": 51,
     "metadata": {},
     "output_type": "execute_result"
    }
   ],
   "source": [
    "%viz --style=\"ORTHOLINE\" --view=\"Default\" \"P1\""
   ]
  },
  {
   "cell_type": "code",
   "execution_count": 52,
   "id": "3fa9ee91",
   "metadata": {
    "execution": {
     "iopub.execute_input": "2024-12-16T14:15:39.708703Z",
     "iopub.status.busy": "2024-12-16T14:15:39.708460Z",
     "iopub.status.idle": "2024-12-16T14:15:39.720392Z",
     "shell.execute_reply": "2024-12-16T14:15:39.720211Z"
    }
   },
   "outputs": [
    {
     "data": {
      "image/svg+xml": [
       "<?xml version=\"1.0\" encoding=\"UTF-8\" standalone=\"no\"?><svg xmlns=\"http://www.w3.org/2000/svg\" xmlns:xlink=\"http://www.w3.org/1999/xlink\" contentStyleType=\"text/css\" height=\"112px\" preserveAspectRatio=\"none\" style=\"width:135px;height:112px;background:#FFFFFF;\" version=\"1.1\" viewBox=\"0 0 135 112\" width=\"135px\" zoomAndPan=\"magnify\"><defs/><g><!--MD5=[fbc87193dbaf4d95561dea2c320d4a47]\n",
       "cluster E1--><g id=\"cluster_E1\"><a href=\"psysml:25630d9e-fd72-404c-a7ab-b539c76838aa\" target=\"_top\" title=\"psysml:25630d9e-fd72-404c-a7ab-b539c76838aa\" xlink:actuate=\"onRequest\" xlink:href=\"psysml:25630d9e-fd72-404c-a7ab-b539c76838aa\" xlink:show=\"new\" xlink:title=\"psysml:25630d9e-fd72-404c-a7ab-b539c76838aa\" xlink:type=\"simple\"><polygon fill=\"none\" points=\"16,6,40.875,6,47.875,28.2969,118,28.2969,118,105,16,105,16,6\" style=\"stroke:#000000;stroke-width:1.5;\"/><line style=\"stroke:#000000;stroke-width:1.5;\" x1=\"16\" x2=\"47.875\" y1=\"28.2969\" y2=\"28.2969\"/><text fill=\"#000000\" font-family=\"sans-serif\" font-size=\"14\" font-weight=\"bold\" lengthAdjust=\"spacing\" textLength=\"18.875\" x=\"20\" y=\"20.9951\">P1</text></a></g><!--MD5=[b4997ac47864f28c2f74865a473b2911]\n",
       "class E2--><a href=\"psysml:a55dbec3-766f-4afc-9e3f-438a26c08edd\" target=\"_top\" title=\"psysml:a55dbec3-766f-4afc-9e3f-438a26c08edd\" xlink:actuate=\"onRequest\" xlink:href=\"psysml:a55dbec3-766f-4afc-9e3f-438a26c08edd\" xlink:show=\"new\" xlink:title=\"psysml:a55dbec3-766f-4afc-9e3f-438a26c08edd\" xlink:type=\"simple\"><g id=\"elem_E2\"><rect fill=\"#FFFFFF\" height=\"48.2656\" id=\"E2\" style=\"stroke:#181818;stroke-width:0.5;\" width=\"70\" x=\"32\" y=\"41\"/><text fill=\"#000000\" font-family=\"sans-serif\" font-size=\"12\" font-style=\"italic\" lengthAdjust=\"spacing\" textLength=\"68\" x=\"33\" y=\"57.1387\">«part  def»</text><text fill=\"#000000\" font-family=\"sans-serif\" font-size=\"14\" lengthAdjust=\"spacing\" textLength=\"9\" x=\"62.5\" y=\"72.9639\">A</text><line style=\"stroke:#181818;stroke-width:0.5;\" x1=\"33\" x2=\"101\" y1=\"81.2656\" y2=\"81.2656\"/></g></a><!--MD5=[693e05b2e26f87a1626ba4cbfa456c70]\n",
       "@startuml\r\n",
       "skin sysmlbw\r\n",
       "skinparam monochrome true\r\n",
       "skinparam wrapWidth 300\r\n",
       "hide circle\r\n",
       "skinparam linetype ortho\r\n",
       "\r\n",
       "package \"P1\" as E1  [[psysml:25630d9e-fd72-404c-a7ab-b539c76838aa ]]  {\r\n",
       "comp def \"A\" as E2  <<(T,blue) part  def>> [[psysml:a55dbec3-766f-4afc-9e3f-438a26c08edd ]] {\r\n",
       "}\r\n",
       "}\r\n",
       "@enduml\r\n",
       "\n",
       "PlantUML version 1.2022.7(Mon Aug 22 17:01:30 UTC 2022)\n",
       "(EPL source distribution)\n",
       "Java Runtime: OpenJDK Runtime Environment\n",
       "JVM: OpenJDK 64-Bit Server VM\n",
       "Default Encoding: UTF-8\n",
       "Language: en\n",
       "Country: null\n",
       "--></g></svg>"
      ]
     },
     "execution_count": 52,
     "metadata": {},
     "output_type": "execute_result"
    }
   ],
   "source": [
    "%viz --style=\"ORTHOLINE\" --view=\"Tree\" \"P1\""
   ]
  },
  {
   "cell_type": "code",
   "execution_count": 53,
   "id": "d39c6e21",
   "metadata": {
    "execution": {
     "iopub.execute_input": "2024-12-16T14:15:39.773084Z",
     "iopub.status.busy": "2024-12-16T14:15:39.772869Z",
     "iopub.status.idle": "2024-12-16T14:15:39.777973Z",
     "shell.execute_reply": "2024-12-16T14:15:39.777793Z"
    }
   },
   "outputs": [
    {
     "data": {
      "image/svg+xml": [
       "<?xml version=\"1.0\" encoding=\"UTF-8\" standalone=\"no\"?><svg xmlns=\"http://www.w3.org/2000/svg\" xmlns:xlink=\"http://www.w3.org/1999/xlink\" contentStyleType=\"text/css\" height=\"10px\" preserveAspectRatio=\"none\" style=\"width:10px;height:10px;background:#FFFFFF;\" version=\"1.1\" viewBox=\"0 0 10 10\" width=\"10px\" zoomAndPan=\"magnify\"><defs/><g><!--MD5=[db5337d1ba6fd3a35e07e04988169323]\n",
       "@startuml\r\n",
       "skin sysmlbw\r\n",
       "skinparam monochrome true\r\n",
       "skinparam wrapWidth 300\r\n",
       "hide circle\r\n",
       "skinparam linetype ortho\r\n",
       "\r\n",
       "@enduml\r\n",
       "\n",
       "PlantUML version 1.2022.7(Mon Aug 22 17:01:30 UTC 2022)\n",
       "(EPL source distribution)\n",
       "Java Runtime: OpenJDK Runtime Environment\n",
       "JVM: OpenJDK 64-Bit Server VM\n",
       "Default Encoding: UTF-8\n",
       "Language: en\n",
       "Country: null\n",
       "--></g></svg>"
      ]
     },
     "execution_count": 53,
     "metadata": {},
     "output_type": "execute_result"
    }
   ],
   "source": [
    "%viz --style=\"ORTHOLINE\" --view=\"State\" \"P1\""
   ]
  },
  {
   "cell_type": "code",
   "execution_count": 54,
   "id": "d67c8bc1",
   "metadata": {
    "execution": {
     "iopub.execute_input": "2024-12-16T14:15:39.835087Z",
     "iopub.status.busy": "2024-12-16T14:15:39.834850Z",
     "iopub.status.idle": "2024-12-16T14:15:39.849511Z",
     "shell.execute_reply": "2024-12-16T14:15:39.849305Z"
    }
   },
   "outputs": [
    {
     "data": {
      "image/svg+xml": [
       "<?xml version=\"1.0\" encoding=\"UTF-8\" standalone=\"no\"?><svg xmlns=\"http://www.w3.org/2000/svg\" xmlns:xlink=\"http://www.w3.org/1999/xlink\" contentStyleType=\"text/css\" height=\"109px\" preserveAspectRatio=\"none\" style=\"width:139px;height:109px;background:#FFFFFF;\" version=\"1.1\" viewBox=\"0 0 139 109\" width=\"139px\" zoomAndPan=\"magnify\"><defs/><g><!--MD5=[fbc87193dbaf4d95561dea2c320d4a47]\n",
       "cluster E1--><g id=\"cluster_E1\"><a href=\"psysml:25630d9e-fd72-404c-a7ab-b539c76838aa\" target=\"_top\" title=\"psysml:25630d9e-fd72-404c-a7ab-b539c76838aa\" xlink:actuate=\"onRequest\" xlink:href=\"psysml:25630d9e-fd72-404c-a7ab-b539c76838aa\" xlink:show=\"new\" xlink:title=\"psysml:25630d9e-fd72-404c-a7ab-b539c76838aa\" xlink:type=\"simple\"><polygon fill=\"none\" points=\"16,6,40.875,6,47.875,28.2969,122,28.2969,122,102,16,102,16,6\" style=\"stroke:#000000;stroke-width:1.5;\"/><line style=\"stroke:#000000;stroke-width:1.5;\" x1=\"16\" x2=\"47.875\" y1=\"28.2969\" y2=\"28.2969\"/><text fill=\"#000000\" font-family=\"sans-serif\" font-size=\"14\" font-weight=\"bold\" lengthAdjust=\"spacing\" textLength=\"18.875\" x=\"20\" y=\"20.9951\">P1</text></a></g><g><a href=\"psysml:a55dbec3-766f-4afc-9e3f-438a26c08edd\" target=\"_top\" title=\"psysml:a55dbec3-766f-4afc-9e3f-438a26c08edd\" xlink:actuate=\"onRequest\" xlink:href=\"psysml:a55dbec3-766f-4afc-9e3f-438a26c08edd\" xlink:show=\"new\" xlink:title=\"psysml:a55dbec3-766f-4afc-9e3f-438a26c08edd\" xlink:type=\"simple\"><rect fill=\"#FFFFFF\" height=\"45.2656\" id=\"E2\" style=\"stroke:#383838;stroke-width:1.5;\" width=\"75\" x=\"31.5\" y=\"41\"/><text fill=\"#000000\" font-family=\"sans-serif\" font-size=\"12\" font-style=\"italic\" lengthAdjust=\"spacing\" textLength=\"68\" x=\"35\" y=\"57.1387\">«part  def»</text><text fill=\"#000000\" font-family=\"sans-serif\" font-size=\"14\" lengthAdjust=\"spacing\" textLength=\"9\" x=\"64.5\" y=\"72.9639\">A</text></a></g><!--MD5=[141fa0a99576e2ecb39515a98da58cdc]\n",
       "@startuml\r\n",
       "skin sysmlbw\r\n",
       "skinparam monochrome true\r\n",
       "skinparam wrapWidth 300\r\n",
       "hide circle\r\n",
       "skinparam linetype ortho\r\n",
       "skinparam ranksep 10\r\n",
       "skinparam rectangle {\r\n",
       " backgroundColor<<block>> LightGreen\r\n",
       "}\r\n",
       "\r\n",
       "package \"P1\" as E1  [[psysml:25630d9e-fd72-404c-a7ab-b539c76838aa ]]  {\r\n",
       "rec def \"A\" as E2  <<(T,blue) part  def>> [[psysml:a55dbec3-766f-4afc-9e3f-438a26c08edd ]] {\r\n",
       "}\r\n",
       "}\r\n",
       "@enduml\r\n",
       "\n",
       "PlantUML version 1.2022.7(Mon Aug 22 17:01:30 UTC 2022)\n",
       "(EPL source distribution)\n",
       "Java Runtime: OpenJDK Runtime Environment\n",
       "JVM: OpenJDK 64-Bit Server VM\n",
       "Default Encoding: UTF-8\n",
       "Language: en\n",
       "Country: null\n",
       "--></g></svg>"
      ]
     },
     "execution_count": 54,
     "metadata": {},
     "output_type": "execute_result"
    }
   ],
   "source": [
    "%viz --style=\"ORTHOLINE\" --view=\"Interconnection\" \"P1\""
   ]
  },
  {
   "cell_type": "code",
   "execution_count": 55,
   "id": "5961c058",
   "metadata": {
    "execution": {
     "iopub.execute_input": "2024-12-16T14:15:39.901616Z",
     "iopub.status.busy": "2024-12-16T14:15:39.901346Z",
     "iopub.status.idle": "2024-12-16T14:15:39.906750Z",
     "shell.execute_reply": "2024-12-16T14:15:39.906556Z"
    }
   },
   "outputs": [
    {
     "data": {
      "image/svg+xml": [
       "<?xml version=\"1.0\" encoding=\"UTF-8\" standalone=\"no\"?><svg xmlns=\"http://www.w3.org/2000/svg\" xmlns:xlink=\"http://www.w3.org/1999/xlink\" contentStyleType=\"text/css\" height=\"10px\" preserveAspectRatio=\"none\" style=\"width:10px;height:10px;background:#FFFFFF;\" version=\"1.1\" viewBox=\"0 0 10 10\" width=\"10px\" zoomAndPan=\"magnify\"><defs/><g><!--MD5=[13654d10b9e2b79db36f00fd31e63fb2]\n",
       "@startuml\r\n",
       "skin sysmlbw\r\n",
       "skinparam monochrome true\r\n",
       "skinparam wrapWidth 300\r\n",
       "hide circle\r\n",
       "skinparam linetype ortho\r\n",
       "skinparam ranksep 8\r\n",
       "\r\n",
       "@enduml\r\n",
       "\n",
       "PlantUML version 1.2022.7(Mon Aug 22 17:01:30 UTC 2022)\n",
       "(EPL source distribution)\n",
       "Java Runtime: OpenJDK Runtime Environment\n",
       "JVM: OpenJDK 64-Bit Server VM\n",
       "Default Encoding: UTF-8\n",
       "Language: en\n",
       "Country: null\n",
       "--></g></svg>"
      ]
     },
     "execution_count": 55,
     "metadata": {},
     "output_type": "execute_result"
    }
   ],
   "source": [
    "%viz --style=\"ORTHOLINE\" --view=\"Action\" \"P1\""
   ]
  },
  {
   "cell_type": "code",
   "execution_count": 56,
   "id": "f475c4ac",
   "metadata": {
    "execution": {
     "iopub.execute_input": "2024-12-16T14:15:39.962410Z",
     "iopub.status.busy": "2024-12-16T14:15:39.962077Z",
     "iopub.status.idle": "2024-12-16T14:15:39.968262Z",
     "shell.execute_reply": "2024-12-16T14:15:39.968051Z"
    }
   },
   "outputs": [
    {
     "data": {
      "image/svg+xml": [
       "<?xml version=\"1.0\" encoding=\"UTF-8\" standalone=\"no\"?><svg xmlns=\"http://www.w3.org/2000/svg\" xmlns:xlink=\"http://www.w3.org/1999/xlink\" contentStyleType=\"text/css\" height=\"10px\" preserveAspectRatio=\"none\" style=\"width:10px;height:10px;background:#FFFFFF;\" version=\"1.1\" viewBox=\"0 0 10 10\" width=\"10px\" zoomAndPan=\"magnify\"><defs/><g><!--MD5=[5b6eb85285460e34b0e63326afe72cc5]\n",
       "@startuml\r\n",
       "skin sysmlbw\r\n",
       "skinparam monochrome true\r\n",
       "skinparam wrapWidth 300\r\n",
       "hide circle\r\n",
       "skinparam linetype ortho\r\n",
       "skinparam roundcorner 20\r\n",
       "skinparam BoxPadding 20\r\n",
       "skinparam SequenceBoxBackgroundColor #white\r\n",
       "skinparam style strictuml\r\n",
       "skinparam maxMessageSize 100\r\n",
       "\r\n",
       "@enduml\r\n",
       "\n",
       "PlantUML version 1.2022.7(Mon Aug 22 17:01:30 UTC 2022)\n",
       "(EPL source distribution)\n",
       "Java Runtime: OpenJDK Runtime Environment\n",
       "JVM: OpenJDK 64-Bit Server VM\n",
       "Default Encoding: UTF-8\n",
       "Language: en\n",
       "Country: null\n",
       "--></g></svg>"
      ]
     },
     "execution_count": 56,
     "metadata": {},
     "output_type": "execute_result"
    }
   ],
   "source": [
    "%viz --style=\"ORTHOLINE\" --view=\"Sequence\" \"P1\""
   ]
  },
  {
   "cell_type": "code",
   "execution_count": 57,
   "id": "8f859851",
   "metadata": {
    "execution": {
     "iopub.execute_input": "2024-12-16T14:15:40.021354Z",
     "iopub.status.busy": "2024-12-16T14:15:40.021076Z",
     "iopub.status.idle": "2024-12-16T14:15:40.035190Z",
     "shell.execute_reply": "2024-12-16T14:15:40.034972Z"
    }
   },
   "outputs": [
    {
     "data": {
      "image/svg+xml": [
       "<?xml version=\"1.0\" encoding=\"UTF-8\" standalone=\"no\"?><svg xmlns=\"http://www.w3.org/2000/svg\" xmlns:xlink=\"http://www.w3.org/1999/xlink\" contentStyleType=\"text/css\" height=\"112px\" preserveAspectRatio=\"none\" style=\"width:135px;height:112px;background:#FFFFFF;\" version=\"1.1\" viewBox=\"0 0 135 112\" width=\"135px\" zoomAndPan=\"magnify\"><defs/><g><!--MD5=[fbc87193dbaf4d95561dea2c320d4a47]\n",
       "cluster E1--><g id=\"cluster_E1\"><a href=\"psysml:25630d9e-fd72-404c-a7ab-b539c76838aa\" target=\"_top\" title=\"psysml:25630d9e-fd72-404c-a7ab-b539c76838aa\" xlink:actuate=\"onRequest\" xlink:href=\"psysml:25630d9e-fd72-404c-a7ab-b539c76838aa\" xlink:show=\"new\" xlink:title=\"psysml:25630d9e-fd72-404c-a7ab-b539c76838aa\" xlink:type=\"simple\"><polygon fill=\"none\" points=\"16,6,40.875,6,47.875,28.2969,118,28.2969,118,105,16,105,16,6\" style=\"stroke:#000000;stroke-width:1.5;\"/><line style=\"stroke:#000000;stroke-width:1.5;\" x1=\"16\" x2=\"47.875\" y1=\"28.2969\" y2=\"28.2969\"/><text fill=\"#000000\" font-family=\"sans-serif\" font-size=\"14\" font-weight=\"bold\" lengthAdjust=\"spacing\" textLength=\"18.875\" x=\"20\" y=\"20.9951\">P1</text></a></g><!--MD5=[b4997ac47864f28c2f74865a473b2911]\n",
       "class E2--><a href=\"psysml:a55dbec3-766f-4afc-9e3f-438a26c08edd\" target=\"_top\" title=\"psysml:a55dbec3-766f-4afc-9e3f-438a26c08edd\" xlink:actuate=\"onRequest\" xlink:href=\"psysml:a55dbec3-766f-4afc-9e3f-438a26c08edd\" xlink:show=\"new\" xlink:title=\"psysml:a55dbec3-766f-4afc-9e3f-438a26c08edd\" xlink:type=\"simple\"><g id=\"elem_E2\"><rect fill=\"#FFFFFF\" height=\"48.2656\" id=\"E2\" style=\"stroke:#181818;stroke-width:0.5;\" width=\"70\" x=\"32\" y=\"41\"/><text fill=\"#000000\" font-family=\"sans-serif\" font-size=\"12\" font-style=\"italic\" lengthAdjust=\"spacing\" textLength=\"68\" x=\"33\" y=\"57.1387\">«part  def»</text><text fill=\"#000000\" font-family=\"sans-serif\" font-size=\"14\" lengthAdjust=\"spacing\" textLength=\"9\" x=\"62.5\" y=\"72.9639\">A</text><line style=\"stroke:#181818;stroke-width:0.5;\" x1=\"33\" x2=\"101\" y1=\"81.2656\" y2=\"81.2656\"/></g></a><!--MD5=[693e05b2e26f87a1626ba4cbfa456c70]\n",
       "@startuml\r\n",
       "skin sysmlbw\r\n",
       "skinparam monochrome true\r\n",
       "skinparam wrapWidth 300\r\n",
       "hide circle\r\n",
       "skinparam linetype ortho\r\n",
       "\r\n",
       "package \"P1\" as E1  [[psysml:25630d9e-fd72-404c-a7ab-b539c76838aa ]]  {\r\n",
       "comp def \"A\" as E2  <<(T,blue) part  def>> [[psysml:a55dbec3-766f-4afc-9e3f-438a26c08edd ]] {\r\n",
       "}\r\n",
       "}\r\n",
       "@enduml\r\n",
       "\n",
       "PlantUML version 1.2022.7(Mon Aug 22 17:01:30 UTC 2022)\n",
       "(EPL source distribution)\n",
       "Java Runtime: OpenJDK Runtime Environment\n",
       "JVM: OpenJDK 64-Bit Server VM\n",
       "Default Encoding: UTF-8\n",
       "Language: en\n",
       "Country: null\n",
       "--></g></svg>"
      ]
     },
     "execution_count": 57,
     "metadata": {},
     "output_type": "execute_result"
    }
   ],
   "source": [
    "%viz --style=\"ORTHOLINE\" --view=\"MIXED\" \"P1\""
   ]
  }
 ],
 "metadata": {
  "kernelspec": {
   "display_name": "SysML",
   "language": "sysml",
   "name": "sysml"
  },
  "language_info": {
   "codemirror_mode": "sysml",
   "file_extension": ".sysml",
   "mimetype": "text/x-sysml",
   "name": "SysML",
   "pygments_lexer": "java",
   "version": "1.0.0"
  }
 },
 "nbformat": 4,
 "nbformat_minor": 5
}
