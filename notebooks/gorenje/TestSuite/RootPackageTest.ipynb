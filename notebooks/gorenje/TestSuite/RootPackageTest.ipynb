{
 "cells": [
  {
   "cell_type": "markdown",
   "id": "flexible-planet",
   "metadata": {},
   "source": [
    "# SysML v2 Test Suite\n",
    "\n",
    "This can notebook can be cleared using menu `Edit --> Clear All Outputs` and then all cells can be\n",
    "run using menu `Run --> Run All Cells`.\n",
    "\n",
    "**WARNING**: This file is generated, all modifications here will be ignored.\n"
   ]
  },
  {
   "cell_type": "markdown",
   "id": "flexible-blind",
   "metadata": {},
   "source": [
    "## File: ../../sysml/src/examples/Simple Tests/RootPackageTest.sysml"
   ]
  },
  {
   "cell_type": "code",
   "execution_count": 1,
   "id": "subject-jefferson",
   "metadata": {
    "execution": {
     "iopub.execute_input": "2021-03-25T14:20:30.729886Z",
     "iopub.status.busy": "2021-03-25T14:20:30.729382Z",
     "iopub.status.idle": "2021-03-25T14:20:30.865412Z",
     "shell.execute_reply": "2021-03-25T14:20:30.864818Z"
    }
   },
   "outputs": [
    {
     "data": {
      "text/plain": [
       "Package P1 (ec25276d-bba9-47a3-8cd7-807c312d781d)\n",
       "Package P2 (dc060147-664a-47e3-a1b8-37ec080e145d)\n",
       "Package P3 (07c3b918-6d9b-463d-99cb-bb7e4af10860)\n"
      ]
     },
     "execution_count": 1,
     "metadata": {},
     "output_type": "execute_result"
    }
   ],
   "source": [
    "package P1 {\n",
    "\tpart def A;\n",
    "}\n",
    "\n",
    "package P2 {\n",
    "\timport P1::*;\n",
    "\tpart a : A;\n",
    "}\n",
    "\n",
    "import P2::*;\n",
    "\n",
    "package P3 {\n",
    "\tpart b subsets a;\n",
    "}"
   ]
  },
  {
   "cell_type": "code",
   "execution_count": 2,
   "id": "obvious-thriller",
   "metadata": {
    "execution": {
     "iopub.execute_input": "2021-03-25T14:20:30.918288Z",
     "iopub.status.busy": "2021-03-25T14:20:30.917492Z",
     "iopub.status.idle": "2021-03-25T14:20:31.635888Z",
     "shell.execute_reply": "2021-03-25T14:20:31.635325Z"
    }
   },
   "outputs": [
    {
     "data": {
      "image/svg+xml": [
       "<?xml version=\"1.0\" encoding=\"UTF-8\" standalone=\"no\"?><svg xmlns=\"http://www.w3.org/2000/svg\" xmlns:xlink=\"http://www.w3.org/1999/xlink\" contentScriptType=\"application/ecmascript\" contentStyleType=\"text/css\" height=\"115px\" preserveAspectRatio=\"none\" style=\"width:136px;height:115px;\" version=\"1.1\" viewBox=\"0 0 136 115\" width=\"136px\" zoomAndPan=\"magnify\"><defs/><g><!--MD5=[fbc87193dbaf4d95561dea2c320d4a47]\n",
       "cluster E1--><a href=\"psysml:69fdc022-558c-4011-bfcd-169949e10b0a\" target=\"_top\" title=\"psysml:69fdc022-558c-4011-bfcd-169949e10b0a\" xlink:actuate=\"onRequest\" xlink:href=\"psysml:69fdc022-558c-4011-bfcd-169949e10b0a\" xlink:show=\"new\" xlink:title=\"psysml:69fdc022-558c-4011-bfcd-169949e10b0a\" xlink:type=\"simple\"><polygon fill=\"#FFFFFF\" points=\"16,6,42,6,49,28.2969,114,28.2969,114,103,16,103,16,6\" style=\"stroke: #000000; stroke-width: 1.5;\"/><line style=\"stroke: #000000; stroke-width: 1.5;\" x1=\"16\" x2=\"49\" y1=\"28.2969\" y2=\"28.2969\"/><text fill=\"#000000\" font-family=\"sans-serif\" font-size=\"14\" font-weight=\"bold\" lengthAdjust=\"spacingAndGlyphs\" textLength=\"20\" x=\"20\" y=\"20.9951\">P1</text></a><!--MD5=[b4997ac47864f28c2f74865a473b2911]\n",
       "class E2--><a href=\"psysml:08e39b9c-1214-494c-92d3-7191dfc940fc\" target=\"_top\" title=\"psysml:08e39b9c-1214-494c-92d3-7191dfc940fc\" xlink:actuate=\"onRequest\" xlink:href=\"psysml:08e39b9c-1214-494c-92d3-7191dfc940fc\" xlink:show=\"new\" xlink:title=\"psysml:08e39b9c-1214-494c-92d3-7191dfc940fc\" xlink:type=\"simple\"><rect fill=\"#FFFFFF\" height=\"45.9375\" id=\"E2\" style=\"stroke: #383838; stroke-width: 1.5;\" width=\"66\" x=\"32\" y=\"41\"/><text fill=\"#000000\" font-family=\"sans-serif\" font-size=\"12\" font-style=\"italic\" lengthAdjust=\"spacingAndGlyphs\" textLength=\"64\" x=\"33\" y=\"57.1387\">«part def»</text><text fill=\"#000000\" font-family=\"sans-serif\" font-size=\"12\" lengthAdjust=\"spacingAndGlyphs\" textLength=\"8\" x=\"61\" y=\"71.1074\">A</text><line style=\"stroke: #383838; stroke-width: 1.5;\" x1=\"33\" x2=\"97\" y1=\"78.9375\" y2=\"78.9375\"/></a><!--MD5=[aaf6bf0523693fa99ba7a7d20fa7394d]\n",
       "@startuml\r\n",
       " skinparam monochrome true\r\n",
       "skinparam classbackgroundcolor white\r\n",
       "skinparam shadowing false\r\n",
       "skinparam wrapWidth 300\r\n",
       "hide circle\r\n",
       "\r\n",
       "package \"P1\" as E1  [[psysml:69fdc022-558c-4011-bfcd-169949e10b0a ]]  {\r\n",
       "comp def \"A\" as E2  <<(T,blue)part def>> [[psysml:08e39b9c-1214-494c-92d3-7191dfc940fc ]] {\r\n",
       "}\r\n",
       "}\r\n",
       "@enduml\r\n",
       "\n",
       "PlantUML version 1.2020.13(Sat Jun 13 12:26:38 UTC 2020)\n",
       "(EPL source distribution)\n",
       "Java Runtime: OpenJDK Runtime Environment\n",
       "JVM: OpenJDK 64-Bit Server VM\n",
       "Default Encoding: UTF-8\n",
       "Language: en\n",
       "Country: null\n",
       "--></g></svg>"
      ]
     },
     "execution_count": 2,
     "metadata": {},
     "output_type": "execute_result"
    }
   ],
   "source": [
    "%viz --style=\"COMPTREE\" --view=\"Default\" \"P1\""
   ]
  },
  {
   "cell_type": "code",
   "execution_count": 3,
   "id": "eight-meditation",
   "metadata": {
    "execution": {
     "iopub.execute_input": "2021-03-25T14:20:31.687297Z",
     "iopub.status.busy": "2021-03-25T14:20:31.686916Z",
     "iopub.status.idle": "2021-03-25T14:20:31.744453Z",
     "shell.execute_reply": "2021-03-25T14:20:31.744005Z"
    }
   },
   "outputs": [
    {
     "data": {
      "image/svg+xml": [
       "<?xml version=\"1.0\" encoding=\"UTF-8\" standalone=\"no\"?><svg xmlns=\"http://www.w3.org/2000/svg\" xmlns:xlink=\"http://www.w3.org/1999/xlink\" contentScriptType=\"application/ecmascript\" contentStyleType=\"text/css\" height=\"115px\" preserveAspectRatio=\"none\" style=\"width:136px;height:115px;\" version=\"1.1\" viewBox=\"0 0 136 115\" width=\"136px\" zoomAndPan=\"magnify\"><defs/><g><!--MD5=[fbc87193dbaf4d95561dea2c320d4a47]\n",
       "cluster E1--><a href=\"psysml:69fdc022-558c-4011-bfcd-169949e10b0a\" target=\"_top\" title=\"psysml:69fdc022-558c-4011-bfcd-169949e10b0a\" xlink:actuate=\"onRequest\" xlink:href=\"psysml:69fdc022-558c-4011-bfcd-169949e10b0a\" xlink:show=\"new\" xlink:title=\"psysml:69fdc022-558c-4011-bfcd-169949e10b0a\" xlink:type=\"simple\"><polygon fill=\"#FFFFFF\" points=\"16,6,42,6,49,28.2969,114,28.2969,114,103,16,103,16,6\" style=\"stroke: #000000; stroke-width: 1.5;\"/><line style=\"stroke: #000000; stroke-width: 1.5;\" x1=\"16\" x2=\"49\" y1=\"28.2969\" y2=\"28.2969\"/><text fill=\"#000000\" font-family=\"sans-serif\" font-size=\"14\" font-weight=\"bold\" lengthAdjust=\"spacingAndGlyphs\" textLength=\"20\" x=\"20\" y=\"20.9951\">P1</text></a><!--MD5=[b4997ac47864f28c2f74865a473b2911]\n",
       "class E2--><a href=\"psysml:08e39b9c-1214-494c-92d3-7191dfc940fc\" target=\"_top\" title=\"psysml:08e39b9c-1214-494c-92d3-7191dfc940fc\" xlink:actuate=\"onRequest\" xlink:href=\"psysml:08e39b9c-1214-494c-92d3-7191dfc940fc\" xlink:show=\"new\" xlink:title=\"psysml:08e39b9c-1214-494c-92d3-7191dfc940fc\" xlink:type=\"simple\"><rect fill=\"#FFFFFF\" height=\"45.9375\" id=\"E2\" style=\"stroke: #383838; stroke-width: 1.5;\" width=\"66\" x=\"32\" y=\"41\"/><text fill=\"#000000\" font-family=\"sans-serif\" font-size=\"12\" font-style=\"italic\" lengthAdjust=\"spacingAndGlyphs\" textLength=\"64\" x=\"33\" y=\"57.1387\">«part def»</text><text fill=\"#000000\" font-family=\"sans-serif\" font-size=\"12\" lengthAdjust=\"spacingAndGlyphs\" textLength=\"8\" x=\"61\" y=\"71.1074\">A</text><line style=\"stroke: #383838; stroke-width: 1.5;\" x1=\"33\" x2=\"97\" y1=\"78.9375\" y2=\"78.9375\"/></a><!--MD5=[aaf6bf0523693fa99ba7a7d20fa7394d]\n",
       "@startuml\r\n",
       " skinparam monochrome true\r\n",
       "skinparam classbackgroundcolor white\r\n",
       "skinparam shadowing false\r\n",
       "skinparam wrapWidth 300\r\n",
       "hide circle\r\n",
       "\r\n",
       "package \"P1\" as E1  [[psysml:69fdc022-558c-4011-bfcd-169949e10b0a ]]  {\r\n",
       "comp def \"A\" as E2  <<(T,blue)part def>> [[psysml:08e39b9c-1214-494c-92d3-7191dfc940fc ]] {\r\n",
       "}\r\n",
       "}\r\n",
       "@enduml\r\n",
       "\n",
       "PlantUML version 1.2020.13(Sat Jun 13 12:26:38 UTC 2020)\n",
       "(EPL source distribution)\n",
       "Java Runtime: OpenJDK Runtime Environment\n",
       "JVM: OpenJDK 64-Bit Server VM\n",
       "Default Encoding: UTF-8\n",
       "Language: en\n",
       "Country: null\n",
       "--></g></svg>"
      ]
     },
     "execution_count": 3,
     "metadata": {},
     "output_type": "execute_result"
    }
   ],
   "source": [
    "%viz --style=\"COMPTREE\" --view=\"Tree\" \"P1\""
   ]
  },
  {
   "cell_type": "code",
   "execution_count": 4,
   "id": "smoking-ottawa",
   "metadata": {
    "execution": {
     "iopub.execute_input": "2021-03-25T14:20:31.796826Z",
     "iopub.status.busy": "2021-03-25T14:20:31.796148Z",
     "iopub.status.idle": "2021-03-25T14:20:31.812512Z",
     "shell.execute_reply": "2021-03-25T14:20:31.811364Z"
    }
   },
   "outputs": [
    {
     "data": {
      "image/svg+xml": [
       "<?xml version=\"1.0\" encoding=\"UTF-8\" standalone=\"no\"?><svg xmlns=\"http://www.w3.org/2000/svg\" xmlns:xlink=\"http://www.w3.org/1999/xlink\" contentScriptType=\"application/ecmascript\" contentStyleType=\"text/css\" height=\"12px\" preserveAspectRatio=\"none\" style=\"width:12px;height:12px;\" version=\"1.1\" viewBox=\"0 0 12 12\" width=\"12px\" zoomAndPan=\"magnify\"><defs/><g><!--MD5=[f19188ef49e11757b5c46753f95d9edc]\n",
       "@startuml\r\n",
       " skinparam monochrome true\r\n",
       "skinparam classbackgroundcolor white\r\n",
       "skinparam shadowing false\r\n",
       "skinparam wrapWidth 300\r\n",
       "hide circle\r\n",
       "\r\n",
       "@enduml\r\n",
       "\n",
       "PlantUML version 1.2020.13(Sat Jun 13 12:26:38 UTC 2020)\n",
       "(EPL source distribution)\n",
       "Java Runtime: OpenJDK Runtime Environment\n",
       "JVM: OpenJDK 64-Bit Server VM\n",
       "Default Encoding: UTF-8\n",
       "Language: en\n",
       "Country: null\n",
       "--></g></svg>"
      ]
     },
     "execution_count": 4,
     "metadata": {},
     "output_type": "execute_result"
    }
   ],
   "source": [
    "%viz --style=\"COMPTREE\" --view=\"State\" \"P1\""
   ]
  },
  {
   "cell_type": "code",
   "execution_count": 5,
   "id": "prospective-budget",
   "metadata": {
    "execution": {
     "iopub.execute_input": "2021-03-25T14:20:31.865302Z",
     "iopub.status.busy": "2021-03-25T14:20:31.864044Z",
     "iopub.status.idle": "2021-03-25T14:20:31.927884Z",
     "shell.execute_reply": "2021-03-25T14:20:31.926388Z"
    }
   },
   "outputs": [
    {
     "data": {
      "image/svg+xml": [
       "<?xml version=\"1.0\" encoding=\"UTF-8\" standalone=\"no\"?><svg xmlns=\"http://www.w3.org/2000/svg\" xmlns:xlink=\"http://www.w3.org/1999/xlink\" contentScriptType=\"application/ecmascript\" contentStyleType=\"text/css\" height=\"112px\" preserveAspectRatio=\"none\" style=\"width:142px;height:112px;\" version=\"1.1\" viewBox=\"0 0 142 112\" width=\"142px\" zoomAndPan=\"magnify\"><defs/><g><!--MD5=[fbc87193dbaf4d95561dea2c320d4a47]\n",
       "cluster E1--><a href=\"psysml:69fdc022-558c-4011-bfcd-169949e10b0a\" target=\"_top\" title=\"psysml:69fdc022-558c-4011-bfcd-169949e10b0a\" xlink:actuate=\"onRequest\" xlink:href=\"psysml:69fdc022-558c-4011-bfcd-169949e10b0a\" xlink:show=\"new\" xlink:title=\"psysml:69fdc022-558c-4011-bfcd-169949e10b0a\" xlink:type=\"simple\"><polygon fill=\"#FFFFFF\" points=\"16,6,42,6,49,28.2969,120,28.2969,120,100,16,100,16,6\" style=\"stroke: #000000; stroke-width: 1.5;\"/><line style=\"stroke: #000000; stroke-width: 1.5;\" x1=\"16\" x2=\"49\" y1=\"28.2969\" y2=\"28.2969\"/><text fill=\"#000000\" font-family=\"sans-serif\" font-size=\"14\" font-weight=\"bold\" lengthAdjust=\"spacingAndGlyphs\" textLength=\"20\" x=\"20\" y=\"20.9951\">P1</text></a><g id=\"E1.E2\"><a href=\"psysml:08e39b9c-1214-494c-92d3-7191dfc940fc\" target=\"_top\" title=\"psysml:08e39b9c-1214-494c-92d3-7191dfc940fc\" xlink:actuate=\"onRequest\" xlink:href=\"psysml:08e39b9c-1214-494c-92d3-7191dfc940fc\" xlink:show=\"new\" xlink:title=\"psysml:08e39b9c-1214-494c-92d3-7191dfc940fc\" xlink:type=\"simple\"><rect fill=\"#FFFFFF\" height=\"42.9375\" id=\"E2\" style=\"stroke: #383838; stroke-width: 1.5;\" width=\"71\" x=\"32.5\" y=\"41\"/><rect fill=\"#F8F8F8\" height=\"37.9375\" style=\"stroke: #383838; stroke-width: 1.5;\" width=\"71\" x=\"32.5\" y=\"41\"/><text fill=\"#000000\" font-family=\"sans-serif\" font-size=\"12\" font-style=\"italic\" lengthAdjust=\"spacingAndGlyphs\" textLength=\"64\" x=\"36\" y=\"57.1387\">«part def»</text><text fill=\"#000000\" font-family=\"sans-serif\" font-size=\"12\" lengthAdjust=\"spacingAndGlyphs\" textLength=\"8\" x=\"64\" y=\"71.1074\">A</text></a></g><!--MD5=[7bf430814c4cac7aa1407f83db6e8875]\n",
       "@startuml\r\n",
       "skinparam ranksep 10\r\n",
       "skinparam rectangle {\r\n",
       " backgroundColor<<block>> LightGreen\r\n",
       "}\r\n",
       " skinparam monochrome true\r\n",
       "skinparam classbackgroundcolor white\r\n",
       "skinparam shadowing false\r\n",
       "skinparam wrapWidth 300\r\n",
       "hide circle\r\n",
       "\r\n",
       "package \"P1\" as E1  [[psysml:69fdc022-558c-4011-bfcd-169949e10b0a ]]  {\r\n",
       "rec def \"A\" as E2  <<(T,blue)part def>> [[psysml:08e39b9c-1214-494c-92d3-7191dfc940fc ]] {\r\n",
       "}\r\n",
       "}\r\n",
       "@enduml\r\n",
       "\n",
       "PlantUML version 1.2020.13(Sat Jun 13 12:26:38 UTC 2020)\n",
       "(EPL source distribution)\n",
       "Java Runtime: OpenJDK Runtime Environment\n",
       "JVM: OpenJDK 64-Bit Server VM\n",
       "Default Encoding: UTF-8\n",
       "Language: en\n",
       "Country: null\n",
       "--></g></svg>"
      ]
     },
     "execution_count": 5,
     "metadata": {},
     "output_type": "execute_result"
    }
   ],
   "source": [
    "%viz --style=\"COMPTREE\" --view=\"Interconnection\" \"P1\""
   ]
  },
  {
   "cell_type": "code",
   "execution_count": 6,
   "id": "attempted-encounter",
   "metadata": {
    "execution": {
     "iopub.execute_input": "2021-03-25T14:20:31.980398Z",
     "iopub.status.busy": "2021-03-25T14:20:31.979170Z",
     "iopub.status.idle": "2021-03-25T14:20:31.996145Z",
     "shell.execute_reply": "2021-03-25T14:20:31.994555Z"
    }
   },
   "outputs": [
    {
     "data": {
      "image/svg+xml": [
       "<?xml version=\"1.0\" encoding=\"UTF-8\" standalone=\"no\"?><svg xmlns=\"http://www.w3.org/2000/svg\" xmlns:xlink=\"http://www.w3.org/1999/xlink\" contentScriptType=\"application/ecmascript\" contentStyleType=\"text/css\" height=\"12px\" preserveAspectRatio=\"none\" style=\"width:12px;height:12px;\" version=\"1.1\" viewBox=\"0 0 12 12\" width=\"12px\" zoomAndPan=\"magnify\"><defs/><g><!--MD5=[655b888544ca4751ea36af1068543f84]\n",
       "@startuml\r\n",
       "skinparam ranksep 8\r\n",
       " skinparam monochrome true\r\n",
       "skinparam classbackgroundcolor white\r\n",
       "skinparam shadowing false\r\n",
       "skinparam wrapWidth 300\r\n",
       "hide circle\r\n",
       "\r\n",
       "@enduml\r\n",
       "\n",
       "PlantUML version 1.2020.13(Sat Jun 13 12:26:38 UTC 2020)\n",
       "(EPL source distribution)\n",
       "Java Runtime: OpenJDK Runtime Environment\n",
       "JVM: OpenJDK 64-Bit Server VM\n",
       "Default Encoding: UTF-8\n",
       "Language: en\n",
       "Country: null\n",
       "--></g></svg>"
      ]
     },
     "execution_count": 6,
     "metadata": {},
     "output_type": "execute_result"
    }
   ],
   "source": [
    "%viz --style=\"COMPTREE\" --view=\"Action\" \"P1\""
   ]
  },
  {
   "cell_type": "code",
   "execution_count": 7,
   "id": "white-faculty",
   "metadata": {
    "execution": {
     "iopub.execute_input": "2021-03-25T14:20:32.048266Z",
     "iopub.status.busy": "2021-03-25T14:20:32.047181Z",
     "iopub.status.idle": "2021-03-25T14:20:32.102139Z",
     "shell.execute_reply": "2021-03-25T14:20:32.100848Z"
    }
   },
   "outputs": [
    {
     "data": {
      "image/svg+xml": [
       "<?xml version=\"1.0\" encoding=\"UTF-8\" standalone=\"no\"?><svg xmlns=\"http://www.w3.org/2000/svg\" xmlns:xlink=\"http://www.w3.org/1999/xlink\" contentScriptType=\"application/ecmascript\" contentStyleType=\"text/css\" height=\"115px\" preserveAspectRatio=\"none\" style=\"width:136px;height:115px;\" version=\"1.1\" viewBox=\"0 0 136 115\" width=\"136px\" zoomAndPan=\"magnify\"><defs/><g><!--MD5=[fbc87193dbaf4d95561dea2c320d4a47]\n",
       "cluster E1--><a href=\"psysml:69fdc022-558c-4011-bfcd-169949e10b0a\" target=\"_top\" title=\"psysml:69fdc022-558c-4011-bfcd-169949e10b0a\" xlink:actuate=\"onRequest\" xlink:href=\"psysml:69fdc022-558c-4011-bfcd-169949e10b0a\" xlink:show=\"new\" xlink:title=\"psysml:69fdc022-558c-4011-bfcd-169949e10b0a\" xlink:type=\"simple\"><polygon fill=\"#FFFFFF\" points=\"16,6,42,6,49,28.2969,114,28.2969,114,103,16,103,16,6\" style=\"stroke: #000000; stroke-width: 1.5;\"/><line style=\"stroke: #000000; stroke-width: 1.5;\" x1=\"16\" x2=\"49\" y1=\"28.2969\" y2=\"28.2969\"/><text fill=\"#000000\" font-family=\"sans-serif\" font-size=\"14\" font-weight=\"bold\" lengthAdjust=\"spacingAndGlyphs\" textLength=\"20\" x=\"20\" y=\"20.9951\">P1</text></a><!--MD5=[b4997ac47864f28c2f74865a473b2911]\n",
       "class E2--><a href=\"psysml:08e39b9c-1214-494c-92d3-7191dfc940fc\" target=\"_top\" title=\"psysml:08e39b9c-1214-494c-92d3-7191dfc940fc\" xlink:actuate=\"onRequest\" xlink:href=\"psysml:08e39b9c-1214-494c-92d3-7191dfc940fc\" xlink:show=\"new\" xlink:title=\"psysml:08e39b9c-1214-494c-92d3-7191dfc940fc\" xlink:type=\"simple\"><rect fill=\"#FFFFFF\" height=\"45.9375\" id=\"E2\" style=\"stroke: #383838; stroke-width: 1.5;\" width=\"66\" x=\"32\" y=\"41\"/><text fill=\"#000000\" font-family=\"sans-serif\" font-size=\"12\" font-style=\"italic\" lengthAdjust=\"spacingAndGlyphs\" textLength=\"64\" x=\"33\" y=\"57.1387\">«part def»</text><text fill=\"#000000\" font-family=\"sans-serif\" font-size=\"12\" lengthAdjust=\"spacingAndGlyphs\" textLength=\"8\" x=\"61\" y=\"71.1074\">A</text><line style=\"stroke: #383838; stroke-width: 1.5;\" x1=\"33\" x2=\"97\" y1=\"78.9375\" y2=\"78.9375\"/></a><!--MD5=[aaf6bf0523693fa99ba7a7d20fa7394d]\n",
       "@startuml\r\n",
       " skinparam monochrome true\r\n",
       "skinparam classbackgroundcolor white\r\n",
       "skinparam shadowing false\r\n",
       "skinparam wrapWidth 300\r\n",
       "hide circle\r\n",
       "\r\n",
       "package \"P1\" as E1  [[psysml:69fdc022-558c-4011-bfcd-169949e10b0a ]]  {\r\n",
       "comp def \"A\" as E2  <<(T,blue)part def>> [[psysml:08e39b9c-1214-494c-92d3-7191dfc940fc ]] {\r\n",
       "}\r\n",
       "}\r\n",
       "@enduml\r\n",
       "\n",
       "PlantUML version 1.2020.13(Sat Jun 13 12:26:38 UTC 2020)\n",
       "(EPL source distribution)\n",
       "Java Runtime: OpenJDK Runtime Environment\n",
       "JVM: OpenJDK 64-Bit Server VM\n",
       "Default Encoding: UTF-8\n",
       "Language: en\n",
       "Country: null\n",
       "--></g></svg>"
      ]
     },
     "execution_count": 7,
     "metadata": {},
     "output_type": "execute_result"
    }
   ],
   "source": [
    "%viz --style=\"COMPTREE\" --view=\"Sequence\" \"P1\""
   ]
  },
  {
   "cell_type": "code",
   "execution_count": 8,
   "id": "built-carry",
   "metadata": {
    "execution": {
     "iopub.execute_input": "2021-03-25T14:20:32.154199Z",
     "iopub.status.busy": "2021-03-25T14:20:32.153160Z",
     "iopub.status.idle": "2021-03-25T14:20:32.210912Z",
     "shell.execute_reply": "2021-03-25T14:20:32.209785Z"
    }
   },
   "outputs": [
    {
     "data": {
      "image/svg+xml": [
       "<?xml version=\"1.0\" encoding=\"UTF-8\" standalone=\"no\"?><svg xmlns=\"http://www.w3.org/2000/svg\" xmlns:xlink=\"http://www.w3.org/1999/xlink\" contentScriptType=\"application/ecmascript\" contentStyleType=\"text/css\" height=\"115px\" preserveAspectRatio=\"none\" style=\"width:136px;height:115px;\" version=\"1.1\" viewBox=\"0 0 136 115\" width=\"136px\" zoomAndPan=\"magnify\"><defs/><g><!--MD5=[fbc87193dbaf4d95561dea2c320d4a47]\n",
       "cluster E1--><a href=\"psysml:69fdc022-558c-4011-bfcd-169949e10b0a\" target=\"_top\" title=\"psysml:69fdc022-558c-4011-bfcd-169949e10b0a\" xlink:actuate=\"onRequest\" xlink:href=\"psysml:69fdc022-558c-4011-bfcd-169949e10b0a\" xlink:show=\"new\" xlink:title=\"psysml:69fdc022-558c-4011-bfcd-169949e10b0a\" xlink:type=\"simple\"><polygon fill=\"#FFFFFF\" points=\"16,6,42,6,49,28.2969,114,28.2969,114,103,16,103,16,6\" style=\"stroke: #000000; stroke-width: 1.5;\"/><line style=\"stroke: #000000; stroke-width: 1.5;\" x1=\"16\" x2=\"49\" y1=\"28.2969\" y2=\"28.2969\"/><text fill=\"#000000\" font-family=\"sans-serif\" font-size=\"14\" font-weight=\"bold\" lengthAdjust=\"spacingAndGlyphs\" textLength=\"20\" x=\"20\" y=\"20.9951\">P1</text></a><!--MD5=[b4997ac47864f28c2f74865a473b2911]\n",
       "class E2--><a href=\"psysml:08e39b9c-1214-494c-92d3-7191dfc940fc\" target=\"_top\" title=\"psysml:08e39b9c-1214-494c-92d3-7191dfc940fc\" xlink:actuate=\"onRequest\" xlink:href=\"psysml:08e39b9c-1214-494c-92d3-7191dfc940fc\" xlink:show=\"new\" xlink:title=\"psysml:08e39b9c-1214-494c-92d3-7191dfc940fc\" xlink:type=\"simple\"><rect fill=\"#FFFFFF\" height=\"45.9375\" id=\"E2\" style=\"stroke: #383838; stroke-width: 1.5;\" width=\"66\" x=\"32\" y=\"41\"/><text fill=\"#000000\" font-family=\"sans-serif\" font-size=\"12\" font-style=\"italic\" lengthAdjust=\"spacingAndGlyphs\" textLength=\"64\" x=\"33\" y=\"57.1387\">«part def»</text><text fill=\"#000000\" font-family=\"sans-serif\" font-size=\"12\" lengthAdjust=\"spacingAndGlyphs\" textLength=\"8\" x=\"61\" y=\"71.1074\">A</text><line style=\"stroke: #383838; stroke-width: 1.5;\" x1=\"33\" x2=\"97\" y1=\"78.9375\" y2=\"78.9375\"/></a><!--MD5=[aaf6bf0523693fa99ba7a7d20fa7394d]\n",
       "@startuml\r\n",
       " skinparam monochrome true\r\n",
       "skinparam classbackgroundcolor white\r\n",
       "skinparam shadowing false\r\n",
       "skinparam wrapWidth 300\r\n",
       "hide circle\r\n",
       "\r\n",
       "package \"P1\" as E1  [[psysml:69fdc022-558c-4011-bfcd-169949e10b0a ]]  {\r\n",
       "comp def \"A\" as E2  <<(T,blue)part def>> [[psysml:08e39b9c-1214-494c-92d3-7191dfc940fc ]] {\r\n",
       "}\r\n",
       "}\r\n",
       "@enduml\r\n",
       "\n",
       "PlantUML version 1.2020.13(Sat Jun 13 12:26:38 UTC 2020)\n",
       "(EPL source distribution)\n",
       "Java Runtime: OpenJDK Runtime Environment\n",
       "JVM: OpenJDK 64-Bit Server VM\n",
       "Default Encoding: UTF-8\n",
       "Language: en\n",
       "Country: null\n",
       "--></g></svg>"
      ]
     },
     "execution_count": 8,
     "metadata": {},
     "output_type": "execute_result"
    }
   ],
   "source": [
    "%viz --style=\"COMPTREE\" --view=\"MIXED\" \"P1\""
   ]
  },
  {
   "cell_type": "code",
   "execution_count": 9,
   "id": "national-female",
   "metadata": {
    "execution": {
     "iopub.execute_input": "2021-03-25T14:20:32.263007Z",
     "iopub.status.busy": "2021-03-25T14:20:32.262040Z",
     "iopub.status.idle": "2021-03-25T14:20:32.315363Z",
     "shell.execute_reply": "2021-03-25T14:20:32.314402Z"
    }
   },
   "outputs": [
    {
     "data": {
      "image/svg+xml": [
       "<?xml version=\"1.0\" encoding=\"UTF-8\" standalone=\"no\"?><svg xmlns=\"http://www.w3.org/2000/svg\" xmlns:xlink=\"http://www.w3.org/1999/xlink\" contentScriptType=\"application/ecmascript\" contentStyleType=\"text/css\" height=\"115px\" preserveAspectRatio=\"none\" style=\"width:136px;height:115px;\" version=\"1.1\" viewBox=\"0 0 136 115\" width=\"136px\" zoomAndPan=\"magnify\"><defs/><g><!--MD5=[fbc87193dbaf4d95561dea2c320d4a47]\n",
       "cluster E1--><a href=\"psysml:69fdc022-558c-4011-bfcd-169949e10b0a\" target=\"_top\" title=\"psysml:69fdc022-558c-4011-bfcd-169949e10b0a\" xlink:actuate=\"onRequest\" xlink:href=\"psysml:69fdc022-558c-4011-bfcd-169949e10b0a\" xlink:show=\"new\" xlink:title=\"psysml:69fdc022-558c-4011-bfcd-169949e10b0a\" xlink:type=\"simple\"><polygon fill=\"#FFFFFF\" points=\"16,6,42,6,49,28.2969,114,28.2969,114,103,16,103,16,6\" style=\"stroke: #000000; stroke-width: 1.5;\"/><line style=\"stroke: #000000; stroke-width: 1.5;\" x1=\"16\" x2=\"49\" y1=\"28.2969\" y2=\"28.2969\"/><text fill=\"#000000\" font-family=\"sans-serif\" font-size=\"14\" font-weight=\"bold\" lengthAdjust=\"spacingAndGlyphs\" textLength=\"20\" x=\"20\" y=\"20.9951\">P1</text></a><!--MD5=[b4997ac47864f28c2f74865a473b2911]\n",
       "class E2--><a href=\"psysml:08e39b9c-1214-494c-92d3-7191dfc940fc\" target=\"_top\" title=\"psysml:08e39b9c-1214-494c-92d3-7191dfc940fc\" xlink:actuate=\"onRequest\" xlink:href=\"psysml:08e39b9c-1214-494c-92d3-7191dfc940fc\" xlink:show=\"new\" xlink:title=\"psysml:08e39b9c-1214-494c-92d3-7191dfc940fc\" xlink:type=\"simple\"><rect fill=\"#FFFFFF\" height=\"45.9375\" id=\"E2\" style=\"stroke: #383838; stroke-width: 1.5;\" width=\"66\" x=\"32\" y=\"41\"/><text fill=\"#000000\" font-family=\"sans-serif\" font-size=\"12\" font-style=\"italic\" lengthAdjust=\"spacingAndGlyphs\" textLength=\"64\" x=\"33\" y=\"57.1387\">«part def»</text><text fill=\"#000000\" font-family=\"sans-serif\" font-size=\"12\" lengthAdjust=\"spacingAndGlyphs\" textLength=\"8\" x=\"61\" y=\"71.1074\">A</text><line style=\"stroke: #383838; stroke-width: 1.5;\" x1=\"33\" x2=\"97\" y1=\"78.9375\" y2=\"78.9375\"/></a><!--MD5=[3b3feaadae88199e06c5e46379b59e9b]\n",
       "@startuml\r\n",
       "skinparam linetype polyline\r\n",
       "skinparam monochrome true\r\n",
       "skinparam classbackgroundcolor white\r\n",
       "skinparam shadowing false\r\n",
       "skinparam wrapWidth 300\r\n",
       "hide circle\r\n",
       "\r\n",
       "package \"P1\" as E1  [[psysml:69fdc022-558c-4011-bfcd-169949e10b0a ]]  {\r\n",
       "comp def \"A\" as E2  <<(T,blue)part def>> [[psysml:08e39b9c-1214-494c-92d3-7191dfc940fc ]] {\r\n",
       "}\r\n",
       "}\r\n",
       "@enduml\r\n",
       "\n",
       "PlantUML version 1.2020.13(Sat Jun 13 12:26:38 UTC 2020)\n",
       "(EPL source distribution)\n",
       "Java Runtime: OpenJDK Runtime Environment\n",
       "JVM: OpenJDK 64-Bit Server VM\n",
       "Default Encoding: UTF-8\n",
       "Language: en\n",
       "Country: null\n",
       "--></g></svg>"
      ]
     },
     "execution_count": 9,
     "metadata": {},
     "output_type": "execute_result"
    }
   ],
   "source": [
    "%viz --style=\"POLYLINE\" --view=\"Default\" \"P1\""
   ]
  },
  {
   "cell_type": "code",
   "execution_count": 10,
   "id": "helpful-remainder",
   "metadata": {
    "execution": {
     "iopub.execute_input": "2021-03-25T14:20:32.368226Z",
     "iopub.status.busy": "2021-03-25T14:20:32.366461Z",
     "iopub.status.idle": "2021-03-25T14:20:32.418606Z",
     "shell.execute_reply": "2021-03-25T14:20:32.417301Z"
    }
   },
   "outputs": [
    {
     "data": {
      "image/svg+xml": [
       "<?xml version=\"1.0\" encoding=\"UTF-8\" standalone=\"no\"?><svg xmlns=\"http://www.w3.org/2000/svg\" xmlns:xlink=\"http://www.w3.org/1999/xlink\" contentScriptType=\"application/ecmascript\" contentStyleType=\"text/css\" height=\"115px\" preserveAspectRatio=\"none\" style=\"width:136px;height:115px;\" version=\"1.1\" viewBox=\"0 0 136 115\" width=\"136px\" zoomAndPan=\"magnify\"><defs/><g><!--MD5=[fbc87193dbaf4d95561dea2c320d4a47]\n",
       "cluster E1--><a href=\"psysml:69fdc022-558c-4011-bfcd-169949e10b0a\" target=\"_top\" title=\"psysml:69fdc022-558c-4011-bfcd-169949e10b0a\" xlink:actuate=\"onRequest\" xlink:href=\"psysml:69fdc022-558c-4011-bfcd-169949e10b0a\" xlink:show=\"new\" xlink:title=\"psysml:69fdc022-558c-4011-bfcd-169949e10b0a\" xlink:type=\"simple\"><polygon fill=\"#FFFFFF\" points=\"16,6,42,6,49,28.2969,114,28.2969,114,103,16,103,16,6\" style=\"stroke: #000000; stroke-width: 1.5;\"/><line style=\"stroke: #000000; stroke-width: 1.5;\" x1=\"16\" x2=\"49\" y1=\"28.2969\" y2=\"28.2969\"/><text fill=\"#000000\" font-family=\"sans-serif\" font-size=\"14\" font-weight=\"bold\" lengthAdjust=\"spacingAndGlyphs\" textLength=\"20\" x=\"20\" y=\"20.9951\">P1</text></a><!--MD5=[b4997ac47864f28c2f74865a473b2911]\n",
       "class E2--><a href=\"psysml:08e39b9c-1214-494c-92d3-7191dfc940fc\" target=\"_top\" title=\"psysml:08e39b9c-1214-494c-92d3-7191dfc940fc\" xlink:actuate=\"onRequest\" xlink:href=\"psysml:08e39b9c-1214-494c-92d3-7191dfc940fc\" xlink:show=\"new\" xlink:title=\"psysml:08e39b9c-1214-494c-92d3-7191dfc940fc\" xlink:type=\"simple\"><rect fill=\"#FFFFFF\" height=\"45.9375\" id=\"E2\" style=\"stroke: #383838; stroke-width: 1.5;\" width=\"66\" x=\"32\" y=\"41\"/><text fill=\"#000000\" font-family=\"sans-serif\" font-size=\"12\" font-style=\"italic\" lengthAdjust=\"spacingAndGlyphs\" textLength=\"64\" x=\"33\" y=\"57.1387\">«part def»</text><text fill=\"#000000\" font-family=\"sans-serif\" font-size=\"12\" lengthAdjust=\"spacingAndGlyphs\" textLength=\"8\" x=\"61\" y=\"71.1074\">A</text><line style=\"stroke: #383838; stroke-width: 1.5;\" x1=\"33\" x2=\"97\" y1=\"78.9375\" y2=\"78.9375\"/></a><!--MD5=[3b3feaadae88199e06c5e46379b59e9b]\n",
       "@startuml\r\n",
       "skinparam linetype polyline\r\n",
       "skinparam monochrome true\r\n",
       "skinparam classbackgroundcolor white\r\n",
       "skinparam shadowing false\r\n",
       "skinparam wrapWidth 300\r\n",
       "hide circle\r\n",
       "\r\n",
       "package \"P1\" as E1  [[psysml:69fdc022-558c-4011-bfcd-169949e10b0a ]]  {\r\n",
       "comp def \"A\" as E2  <<(T,blue)part def>> [[psysml:08e39b9c-1214-494c-92d3-7191dfc940fc ]] {\r\n",
       "}\r\n",
       "}\r\n",
       "@enduml\r\n",
       "\n",
       "PlantUML version 1.2020.13(Sat Jun 13 12:26:38 UTC 2020)\n",
       "(EPL source distribution)\n",
       "Java Runtime: OpenJDK Runtime Environment\n",
       "JVM: OpenJDK 64-Bit Server VM\n",
       "Default Encoding: UTF-8\n",
       "Language: en\n",
       "Country: null\n",
       "--></g></svg>"
      ]
     },
     "execution_count": 10,
     "metadata": {},
     "output_type": "execute_result"
    }
   ],
   "source": [
    "%viz --style=\"POLYLINE\" --view=\"Tree\" \"P1\""
   ]
  },
  {
   "cell_type": "code",
   "execution_count": 11,
   "id": "worthy-gardening",
   "metadata": {
    "execution": {
     "iopub.execute_input": "2021-03-25T14:20:32.472838Z",
     "iopub.status.busy": "2021-03-25T14:20:32.470495Z",
     "iopub.status.idle": "2021-03-25T14:20:32.483451Z",
     "shell.execute_reply": "2021-03-25T14:20:32.483106Z"
    }
   },
   "outputs": [
    {
     "data": {
      "image/svg+xml": [
       "<?xml version=\"1.0\" encoding=\"UTF-8\" standalone=\"no\"?><svg xmlns=\"http://www.w3.org/2000/svg\" xmlns:xlink=\"http://www.w3.org/1999/xlink\" contentScriptType=\"application/ecmascript\" contentStyleType=\"text/css\" height=\"12px\" preserveAspectRatio=\"none\" style=\"width:12px;height:12px;\" version=\"1.1\" viewBox=\"0 0 12 12\" width=\"12px\" zoomAndPan=\"magnify\"><defs/><g><!--MD5=[896ac0e7a515d8dd7765a661cb4ee08b]\n",
       "@startuml\r\n",
       "skinparam linetype polyline\r\n",
       "skinparam monochrome true\r\n",
       "skinparam classbackgroundcolor white\r\n",
       "skinparam shadowing false\r\n",
       "skinparam wrapWidth 300\r\n",
       "hide circle\r\n",
       "\r\n",
       "@enduml\r\n",
       "\n",
       "PlantUML version 1.2020.13(Sat Jun 13 12:26:38 UTC 2020)\n",
       "(EPL source distribution)\n",
       "Java Runtime: OpenJDK Runtime Environment\n",
       "JVM: OpenJDK 64-Bit Server VM\n",
       "Default Encoding: UTF-8\n",
       "Language: en\n",
       "Country: null\n",
       "--></g></svg>"
      ]
     },
     "execution_count": 11,
     "metadata": {},
     "output_type": "execute_result"
    }
   ],
   "source": [
    "%viz --style=\"POLYLINE\" --view=\"State\" \"P1\""
   ]
  },
  {
   "cell_type": "code",
   "execution_count": 12,
   "id": "pretty-multiple",
   "metadata": {
    "execution": {
     "iopub.execute_input": "2021-03-25T14:20:32.534880Z",
     "iopub.status.busy": "2021-03-25T14:20:32.533872Z",
     "iopub.status.idle": "2021-03-25T14:20:32.584464Z",
     "shell.execute_reply": "2021-03-25T14:20:32.583963Z"
    }
   },
   "outputs": [
    {
     "data": {
      "image/svg+xml": [
       "<?xml version=\"1.0\" encoding=\"UTF-8\" standalone=\"no\"?><svg xmlns=\"http://www.w3.org/2000/svg\" xmlns:xlink=\"http://www.w3.org/1999/xlink\" contentScriptType=\"application/ecmascript\" contentStyleType=\"text/css\" height=\"112px\" preserveAspectRatio=\"none\" style=\"width:142px;height:112px;\" version=\"1.1\" viewBox=\"0 0 142 112\" width=\"142px\" zoomAndPan=\"magnify\"><defs/><g><!--MD5=[fbc87193dbaf4d95561dea2c320d4a47]\n",
       "cluster E1--><a href=\"psysml:69fdc022-558c-4011-bfcd-169949e10b0a\" target=\"_top\" title=\"psysml:69fdc022-558c-4011-bfcd-169949e10b0a\" xlink:actuate=\"onRequest\" xlink:href=\"psysml:69fdc022-558c-4011-bfcd-169949e10b0a\" xlink:show=\"new\" xlink:title=\"psysml:69fdc022-558c-4011-bfcd-169949e10b0a\" xlink:type=\"simple\"><polygon fill=\"#FFFFFF\" points=\"16,6,42,6,49,28.2969,120,28.2969,120,100,16,100,16,6\" style=\"stroke: #000000; stroke-width: 1.5;\"/><line style=\"stroke: #000000; stroke-width: 1.5;\" x1=\"16\" x2=\"49\" y1=\"28.2969\" y2=\"28.2969\"/><text fill=\"#000000\" font-family=\"sans-serif\" font-size=\"14\" font-weight=\"bold\" lengthAdjust=\"spacingAndGlyphs\" textLength=\"20\" x=\"20\" y=\"20.9951\">P1</text></a><g id=\"E1.E2\"><a href=\"psysml:08e39b9c-1214-494c-92d3-7191dfc940fc\" target=\"_top\" title=\"psysml:08e39b9c-1214-494c-92d3-7191dfc940fc\" xlink:actuate=\"onRequest\" xlink:href=\"psysml:08e39b9c-1214-494c-92d3-7191dfc940fc\" xlink:show=\"new\" xlink:title=\"psysml:08e39b9c-1214-494c-92d3-7191dfc940fc\" xlink:type=\"simple\"><rect fill=\"#FFFFFF\" height=\"42.9375\" id=\"E2\" style=\"stroke: #383838; stroke-width: 1.5;\" width=\"71\" x=\"32.5\" y=\"41\"/><rect fill=\"#F8F8F8\" height=\"37.9375\" style=\"stroke: #383838; stroke-width: 1.5;\" width=\"71\" x=\"32.5\" y=\"41\"/><text fill=\"#000000\" font-family=\"sans-serif\" font-size=\"12\" font-style=\"italic\" lengthAdjust=\"spacingAndGlyphs\" textLength=\"64\" x=\"36\" y=\"57.1387\">«part def»</text><text fill=\"#000000\" font-family=\"sans-serif\" font-size=\"12\" lengthAdjust=\"spacingAndGlyphs\" textLength=\"8\" x=\"64\" y=\"71.1074\">A</text></a></g><!--MD5=[4c3871acccc51d89652839c543119164]\n",
       "@startuml\r\n",
       "skinparam ranksep 10\r\n",
       "skinparam rectangle {\r\n",
       " backgroundColor<<block>> LightGreen\r\n",
       "}\r\n",
       "skinparam linetype polyline\r\n",
       "skinparam monochrome true\r\n",
       "skinparam classbackgroundcolor white\r\n",
       "skinparam shadowing false\r\n",
       "skinparam wrapWidth 300\r\n",
       "hide circle\r\n",
       "\r\n",
       "package \"P1\" as E1  [[psysml:69fdc022-558c-4011-bfcd-169949e10b0a ]]  {\r\n",
       "rec def \"A\" as E2  <<(T,blue)part def>> [[psysml:08e39b9c-1214-494c-92d3-7191dfc940fc ]] {\r\n",
       "}\r\n",
       "}\r\n",
       "@enduml\r\n",
       "\n",
       "PlantUML version 1.2020.13(Sat Jun 13 12:26:38 UTC 2020)\n",
       "(EPL source distribution)\n",
       "Java Runtime: OpenJDK Runtime Environment\n",
       "JVM: OpenJDK 64-Bit Server VM\n",
       "Default Encoding: UTF-8\n",
       "Language: en\n",
       "Country: null\n",
       "--></g></svg>"
      ]
     },
     "execution_count": 12,
     "metadata": {},
     "output_type": "execute_result"
    }
   ],
   "source": [
    "%viz --style=\"POLYLINE\" --view=\"Interconnection\" \"P1\""
   ]
  },
  {
   "cell_type": "code",
   "execution_count": 13,
   "id": "external-draft",
   "metadata": {
    "execution": {
     "iopub.execute_input": "2021-03-25T14:20:32.634521Z",
     "iopub.status.busy": "2021-03-25T14:20:32.634121Z",
     "iopub.status.idle": "2021-03-25T14:20:32.644746Z",
     "shell.execute_reply": "2021-03-25T14:20:32.645136Z"
    }
   },
   "outputs": [
    {
     "data": {
      "image/svg+xml": [
       "<?xml version=\"1.0\" encoding=\"UTF-8\" standalone=\"no\"?><svg xmlns=\"http://www.w3.org/2000/svg\" xmlns:xlink=\"http://www.w3.org/1999/xlink\" contentScriptType=\"application/ecmascript\" contentStyleType=\"text/css\" height=\"12px\" preserveAspectRatio=\"none\" style=\"width:12px;height:12px;\" version=\"1.1\" viewBox=\"0 0 12 12\" width=\"12px\" zoomAndPan=\"magnify\"><defs/><g><!--MD5=[97bbf32f66ccd50cbc40d92ea8f5a65e]\n",
       "@startuml\r\n",
       "skinparam ranksep 8\r\n",
       "skinparam linetype polyline\r\n",
       "skinparam monochrome true\r\n",
       "skinparam classbackgroundcolor white\r\n",
       "skinparam shadowing false\r\n",
       "skinparam wrapWidth 300\r\n",
       "hide circle\r\n",
       "\r\n",
       "@enduml\r\n",
       "\n",
       "PlantUML version 1.2020.13(Sat Jun 13 12:26:38 UTC 2020)\n",
       "(EPL source distribution)\n",
       "Java Runtime: OpenJDK Runtime Environment\n",
       "JVM: OpenJDK 64-Bit Server VM\n",
       "Default Encoding: UTF-8\n",
       "Language: en\n",
       "Country: null\n",
       "--></g></svg>"
      ]
     },
     "execution_count": 13,
     "metadata": {},
     "output_type": "execute_result"
    }
   ],
   "source": [
    "%viz --style=\"POLYLINE\" --view=\"Action\" \"P1\""
   ]
  },
  {
   "cell_type": "code",
   "execution_count": 14,
   "id": "minimal-enclosure",
   "metadata": {
    "execution": {
     "iopub.execute_input": "2021-03-25T14:20:32.695661Z",
     "iopub.status.busy": "2021-03-25T14:20:32.695236Z",
     "iopub.status.idle": "2021-03-25T14:20:32.737906Z",
     "shell.execute_reply": "2021-03-25T14:20:32.737586Z"
    }
   },
   "outputs": [
    {
     "data": {
      "image/svg+xml": [
       "<?xml version=\"1.0\" encoding=\"UTF-8\" standalone=\"no\"?><svg xmlns=\"http://www.w3.org/2000/svg\" xmlns:xlink=\"http://www.w3.org/1999/xlink\" contentScriptType=\"application/ecmascript\" contentStyleType=\"text/css\" height=\"115px\" preserveAspectRatio=\"none\" style=\"width:136px;height:115px;\" version=\"1.1\" viewBox=\"0 0 136 115\" width=\"136px\" zoomAndPan=\"magnify\"><defs/><g><!--MD5=[fbc87193dbaf4d95561dea2c320d4a47]\n",
       "cluster E1--><a href=\"psysml:69fdc022-558c-4011-bfcd-169949e10b0a\" target=\"_top\" title=\"psysml:69fdc022-558c-4011-bfcd-169949e10b0a\" xlink:actuate=\"onRequest\" xlink:href=\"psysml:69fdc022-558c-4011-bfcd-169949e10b0a\" xlink:show=\"new\" xlink:title=\"psysml:69fdc022-558c-4011-bfcd-169949e10b0a\" xlink:type=\"simple\"><polygon fill=\"#FFFFFF\" points=\"16,6,42,6,49,28.2969,114,28.2969,114,103,16,103,16,6\" style=\"stroke: #000000; stroke-width: 1.5;\"/><line style=\"stroke: #000000; stroke-width: 1.5;\" x1=\"16\" x2=\"49\" y1=\"28.2969\" y2=\"28.2969\"/><text fill=\"#000000\" font-family=\"sans-serif\" font-size=\"14\" font-weight=\"bold\" lengthAdjust=\"spacingAndGlyphs\" textLength=\"20\" x=\"20\" y=\"20.9951\">P1</text></a><!--MD5=[b4997ac47864f28c2f74865a473b2911]\n",
       "class E2--><a href=\"psysml:08e39b9c-1214-494c-92d3-7191dfc940fc\" target=\"_top\" title=\"psysml:08e39b9c-1214-494c-92d3-7191dfc940fc\" xlink:actuate=\"onRequest\" xlink:href=\"psysml:08e39b9c-1214-494c-92d3-7191dfc940fc\" xlink:show=\"new\" xlink:title=\"psysml:08e39b9c-1214-494c-92d3-7191dfc940fc\" xlink:type=\"simple\"><rect fill=\"#FFFFFF\" height=\"45.9375\" id=\"E2\" style=\"stroke: #383838; stroke-width: 1.5;\" width=\"66\" x=\"32\" y=\"41\"/><text fill=\"#000000\" font-family=\"sans-serif\" font-size=\"12\" font-style=\"italic\" lengthAdjust=\"spacingAndGlyphs\" textLength=\"64\" x=\"33\" y=\"57.1387\">«part def»</text><text fill=\"#000000\" font-family=\"sans-serif\" font-size=\"12\" lengthAdjust=\"spacingAndGlyphs\" textLength=\"8\" x=\"61\" y=\"71.1074\">A</text><line style=\"stroke: #383838; stroke-width: 1.5;\" x1=\"33\" x2=\"97\" y1=\"78.9375\" y2=\"78.9375\"/></a><!--MD5=[3b3feaadae88199e06c5e46379b59e9b]\n",
       "@startuml\r\n",
       "skinparam linetype polyline\r\n",
       "skinparam monochrome true\r\n",
       "skinparam classbackgroundcolor white\r\n",
       "skinparam shadowing false\r\n",
       "skinparam wrapWidth 300\r\n",
       "hide circle\r\n",
       "\r\n",
       "package \"P1\" as E1  [[psysml:69fdc022-558c-4011-bfcd-169949e10b0a ]]  {\r\n",
       "comp def \"A\" as E2  <<(T,blue)part def>> [[psysml:08e39b9c-1214-494c-92d3-7191dfc940fc ]] {\r\n",
       "}\r\n",
       "}\r\n",
       "@enduml\r\n",
       "\n",
       "PlantUML version 1.2020.13(Sat Jun 13 12:26:38 UTC 2020)\n",
       "(EPL source distribution)\n",
       "Java Runtime: OpenJDK Runtime Environment\n",
       "JVM: OpenJDK 64-Bit Server VM\n",
       "Default Encoding: UTF-8\n",
       "Language: en\n",
       "Country: null\n",
       "--></g></svg>"
      ]
     },
     "execution_count": 14,
     "metadata": {},
     "output_type": "execute_result"
    }
   ],
   "source": [
    "%viz --style=\"POLYLINE\" --view=\"Sequence\" \"P1\""
   ]
  },
  {
   "cell_type": "code",
   "execution_count": 15,
   "id": "premium-camcorder",
   "metadata": {
    "execution": {
     "iopub.execute_input": "2021-03-25T14:20:32.791270Z",
     "iopub.status.busy": "2021-03-25T14:20:32.790345Z",
     "iopub.status.idle": "2021-03-25T14:20:32.832715Z",
     "shell.execute_reply": "2021-03-25T14:20:32.832320Z"
    }
   },
   "outputs": [
    {
     "data": {
      "image/svg+xml": [
       "<?xml version=\"1.0\" encoding=\"UTF-8\" standalone=\"no\"?><svg xmlns=\"http://www.w3.org/2000/svg\" xmlns:xlink=\"http://www.w3.org/1999/xlink\" contentScriptType=\"application/ecmascript\" contentStyleType=\"text/css\" height=\"115px\" preserveAspectRatio=\"none\" style=\"width:136px;height:115px;\" version=\"1.1\" viewBox=\"0 0 136 115\" width=\"136px\" zoomAndPan=\"magnify\"><defs/><g><!--MD5=[fbc87193dbaf4d95561dea2c320d4a47]\n",
       "cluster E1--><a href=\"psysml:69fdc022-558c-4011-bfcd-169949e10b0a\" target=\"_top\" title=\"psysml:69fdc022-558c-4011-bfcd-169949e10b0a\" xlink:actuate=\"onRequest\" xlink:href=\"psysml:69fdc022-558c-4011-bfcd-169949e10b0a\" xlink:show=\"new\" xlink:title=\"psysml:69fdc022-558c-4011-bfcd-169949e10b0a\" xlink:type=\"simple\"><polygon fill=\"#FFFFFF\" points=\"16,6,42,6,49,28.2969,114,28.2969,114,103,16,103,16,6\" style=\"stroke: #000000; stroke-width: 1.5;\"/><line style=\"stroke: #000000; stroke-width: 1.5;\" x1=\"16\" x2=\"49\" y1=\"28.2969\" y2=\"28.2969\"/><text fill=\"#000000\" font-family=\"sans-serif\" font-size=\"14\" font-weight=\"bold\" lengthAdjust=\"spacingAndGlyphs\" textLength=\"20\" x=\"20\" y=\"20.9951\">P1</text></a><!--MD5=[b4997ac47864f28c2f74865a473b2911]\n",
       "class E2--><a href=\"psysml:08e39b9c-1214-494c-92d3-7191dfc940fc\" target=\"_top\" title=\"psysml:08e39b9c-1214-494c-92d3-7191dfc940fc\" xlink:actuate=\"onRequest\" xlink:href=\"psysml:08e39b9c-1214-494c-92d3-7191dfc940fc\" xlink:show=\"new\" xlink:title=\"psysml:08e39b9c-1214-494c-92d3-7191dfc940fc\" xlink:type=\"simple\"><rect fill=\"#FFFFFF\" height=\"45.9375\" id=\"E2\" style=\"stroke: #383838; stroke-width: 1.5;\" width=\"66\" x=\"32\" y=\"41\"/><text fill=\"#000000\" font-family=\"sans-serif\" font-size=\"12\" font-style=\"italic\" lengthAdjust=\"spacingAndGlyphs\" textLength=\"64\" x=\"33\" y=\"57.1387\">«part def»</text><text fill=\"#000000\" font-family=\"sans-serif\" font-size=\"12\" lengthAdjust=\"spacingAndGlyphs\" textLength=\"8\" x=\"61\" y=\"71.1074\">A</text><line style=\"stroke: #383838; stroke-width: 1.5;\" x1=\"33\" x2=\"97\" y1=\"78.9375\" y2=\"78.9375\"/></a><!--MD5=[3b3feaadae88199e06c5e46379b59e9b]\n",
       "@startuml\r\n",
       "skinparam linetype polyline\r\n",
       "skinparam monochrome true\r\n",
       "skinparam classbackgroundcolor white\r\n",
       "skinparam shadowing false\r\n",
       "skinparam wrapWidth 300\r\n",
       "hide circle\r\n",
       "\r\n",
       "package \"P1\" as E1  [[psysml:69fdc022-558c-4011-bfcd-169949e10b0a ]]  {\r\n",
       "comp def \"A\" as E2  <<(T,blue)part def>> [[psysml:08e39b9c-1214-494c-92d3-7191dfc940fc ]] {\r\n",
       "}\r\n",
       "}\r\n",
       "@enduml\r\n",
       "\n",
       "PlantUML version 1.2020.13(Sat Jun 13 12:26:38 UTC 2020)\n",
       "(EPL source distribution)\n",
       "Java Runtime: OpenJDK Runtime Environment\n",
       "JVM: OpenJDK 64-Bit Server VM\n",
       "Default Encoding: UTF-8\n",
       "Language: en\n",
       "Country: null\n",
       "--></g></svg>"
      ]
     },
     "execution_count": 15,
     "metadata": {},
     "output_type": "execute_result"
    }
   ],
   "source": [
    "%viz --style=\"POLYLINE\" --view=\"MIXED\" \"P1\""
   ]
  },
  {
   "cell_type": "code",
   "execution_count": 16,
   "id": "federal-heater",
   "metadata": {
    "execution": {
     "iopub.execute_input": "2021-03-25T14:20:32.887887Z",
     "iopub.status.busy": "2021-03-25T14:20:32.886184Z",
     "iopub.status.idle": "2021-03-25T14:20:32.930028Z",
     "shell.execute_reply": "2021-03-25T14:20:32.929663Z"
    }
   },
   "outputs": [
    {
     "data": {
      "image/svg+xml": [
       "<?xml version=\"1.0\" encoding=\"UTF-8\" standalone=\"no\"?><svg xmlns=\"http://www.w3.org/2000/svg\" xmlns:xlink=\"http://www.w3.org/1999/xlink\" contentScriptType=\"application/ecmascript\" contentStyleType=\"text/css\" height=\"115px\" preserveAspectRatio=\"none\" style=\"width:136px;height:115px;\" version=\"1.1\" viewBox=\"0 0 136 115\" width=\"136px\" zoomAndPan=\"magnify\"><defs/><g><!--MD5=[fbc87193dbaf4d95561dea2c320d4a47]\n",
       "cluster E1--><a href=\"psysml:69fdc022-558c-4011-bfcd-169949e10b0a\" target=\"_top\" title=\"psysml:69fdc022-558c-4011-bfcd-169949e10b0a\" xlink:actuate=\"onRequest\" xlink:href=\"psysml:69fdc022-558c-4011-bfcd-169949e10b0a\" xlink:show=\"new\" xlink:title=\"psysml:69fdc022-558c-4011-bfcd-169949e10b0a\" xlink:type=\"simple\"><polygon fill=\"#FFFFFF\" points=\"16,6,42,6,49,28.2969,114,28.2969,114,103,16,103,16,6\" style=\"stroke: #000000; stroke-width: 1.5;\"/><line style=\"stroke: #000000; stroke-width: 1.5;\" x1=\"16\" x2=\"49\" y1=\"28.2969\" y2=\"28.2969\"/><text fill=\"#000000\" font-family=\"sans-serif\" font-size=\"14\" font-weight=\"bold\" lengthAdjust=\"spacingAndGlyphs\" textLength=\"20\" x=\"20\" y=\"20.9951\">P1</text></a><!--MD5=[b4997ac47864f28c2f74865a473b2911]\n",
       "class E2--><a href=\"psysml:08e39b9c-1214-494c-92d3-7191dfc940fc\" target=\"_top\" title=\"psysml:08e39b9c-1214-494c-92d3-7191dfc940fc\" xlink:actuate=\"onRequest\" xlink:href=\"psysml:08e39b9c-1214-494c-92d3-7191dfc940fc\" xlink:show=\"new\" xlink:title=\"psysml:08e39b9c-1214-494c-92d3-7191dfc940fc\" xlink:type=\"simple\"><rect fill=\"#FFFFFF\" height=\"45.9375\" id=\"E2\" style=\"stroke: #383838; stroke-width: 1.5;\" width=\"66\" x=\"32\" y=\"41\"/><text fill=\"#000000\" font-family=\"sans-serif\" font-size=\"12\" font-style=\"italic\" lengthAdjust=\"spacingAndGlyphs\" textLength=\"64\" x=\"33\" y=\"57.1387\">«part def»</text><text fill=\"#000000\" font-family=\"sans-serif\" font-size=\"12\" lengthAdjust=\"spacingAndGlyphs\" textLength=\"8\" x=\"61\" y=\"71.1074\">A</text><line style=\"stroke: #383838; stroke-width: 1.5;\" x1=\"33\" x2=\"97\" y1=\"78.9375\" y2=\"78.9375\"/></a><!--MD5=[2d8c9d12c727f5fe3cd8f5afa93dbe14]\n",
       "@startuml\r\n",
       "left to right direction\r\n",
       "skinparam monochrome true\r\n",
       "skinparam classbackgroundcolor white\r\n",
       "skinparam shadowing false\r\n",
       "skinparam wrapWidth 300\r\n",
       "hide circle\r\n",
       "\r\n",
       "package \"P1\" as E1  [[psysml:69fdc022-558c-4011-bfcd-169949e10b0a ]]  {\r\n",
       "comp def \"A\" as E2  <<(T,blue)part def>> [[psysml:08e39b9c-1214-494c-92d3-7191dfc940fc ]] {\r\n",
       "}\r\n",
       "}\r\n",
       "@enduml\r\n",
       "\n",
       "PlantUML version 1.2020.13(Sat Jun 13 12:26:38 UTC 2020)\n",
       "(EPL source distribution)\n",
       "Java Runtime: OpenJDK Runtime Environment\n",
       "JVM: OpenJDK 64-Bit Server VM\n",
       "Default Encoding: UTF-8\n",
       "Language: en\n",
       "Country: null\n",
       "--></g></svg>"
      ]
     },
     "execution_count": 16,
     "metadata": {},
     "output_type": "execute_result"
    }
   ],
   "source": [
    "%viz --style=\"LR\" --view=\"Default\" \"P1\""
   ]
  },
  {
   "cell_type": "code",
   "execution_count": 17,
   "id": "czech-palestine",
   "metadata": {
    "execution": {
     "iopub.execute_input": "2021-03-25T14:20:32.982262Z",
     "iopub.status.busy": "2021-03-25T14:20:32.981583Z",
     "iopub.status.idle": "2021-03-25T14:20:33.020184Z",
     "shell.execute_reply": "2021-03-25T14:20:33.020702Z"
    }
   },
   "outputs": [
    {
     "data": {
      "image/svg+xml": [
       "<?xml version=\"1.0\" encoding=\"UTF-8\" standalone=\"no\"?><svg xmlns=\"http://www.w3.org/2000/svg\" xmlns:xlink=\"http://www.w3.org/1999/xlink\" contentScriptType=\"application/ecmascript\" contentStyleType=\"text/css\" height=\"115px\" preserveAspectRatio=\"none\" style=\"width:136px;height:115px;\" version=\"1.1\" viewBox=\"0 0 136 115\" width=\"136px\" zoomAndPan=\"magnify\"><defs/><g><!--MD5=[fbc87193dbaf4d95561dea2c320d4a47]\n",
       "cluster E1--><a href=\"psysml:69fdc022-558c-4011-bfcd-169949e10b0a\" target=\"_top\" title=\"psysml:69fdc022-558c-4011-bfcd-169949e10b0a\" xlink:actuate=\"onRequest\" xlink:href=\"psysml:69fdc022-558c-4011-bfcd-169949e10b0a\" xlink:show=\"new\" xlink:title=\"psysml:69fdc022-558c-4011-bfcd-169949e10b0a\" xlink:type=\"simple\"><polygon fill=\"#FFFFFF\" points=\"16,6,42,6,49,28.2969,114,28.2969,114,103,16,103,16,6\" style=\"stroke: #000000; stroke-width: 1.5;\"/><line style=\"stroke: #000000; stroke-width: 1.5;\" x1=\"16\" x2=\"49\" y1=\"28.2969\" y2=\"28.2969\"/><text fill=\"#000000\" font-family=\"sans-serif\" font-size=\"14\" font-weight=\"bold\" lengthAdjust=\"spacingAndGlyphs\" textLength=\"20\" x=\"20\" y=\"20.9951\">P1</text></a><!--MD5=[b4997ac47864f28c2f74865a473b2911]\n",
       "class E2--><a href=\"psysml:08e39b9c-1214-494c-92d3-7191dfc940fc\" target=\"_top\" title=\"psysml:08e39b9c-1214-494c-92d3-7191dfc940fc\" xlink:actuate=\"onRequest\" xlink:href=\"psysml:08e39b9c-1214-494c-92d3-7191dfc940fc\" xlink:show=\"new\" xlink:title=\"psysml:08e39b9c-1214-494c-92d3-7191dfc940fc\" xlink:type=\"simple\"><rect fill=\"#FFFFFF\" height=\"45.9375\" id=\"E2\" style=\"stroke: #383838; stroke-width: 1.5;\" width=\"66\" x=\"32\" y=\"41\"/><text fill=\"#000000\" font-family=\"sans-serif\" font-size=\"12\" font-style=\"italic\" lengthAdjust=\"spacingAndGlyphs\" textLength=\"64\" x=\"33\" y=\"57.1387\">«part def»</text><text fill=\"#000000\" font-family=\"sans-serif\" font-size=\"12\" lengthAdjust=\"spacingAndGlyphs\" textLength=\"8\" x=\"61\" y=\"71.1074\">A</text><line style=\"stroke: #383838; stroke-width: 1.5;\" x1=\"33\" x2=\"97\" y1=\"78.9375\" y2=\"78.9375\"/></a><!--MD5=[2d8c9d12c727f5fe3cd8f5afa93dbe14]\n",
       "@startuml\r\n",
       "left to right direction\r\n",
       "skinparam monochrome true\r\n",
       "skinparam classbackgroundcolor white\r\n",
       "skinparam shadowing false\r\n",
       "skinparam wrapWidth 300\r\n",
       "hide circle\r\n",
       "\r\n",
       "package \"P1\" as E1  [[psysml:69fdc022-558c-4011-bfcd-169949e10b0a ]]  {\r\n",
       "comp def \"A\" as E2  <<(T,blue)part def>> [[psysml:08e39b9c-1214-494c-92d3-7191dfc940fc ]] {\r\n",
       "}\r\n",
       "}\r\n",
       "@enduml\r\n",
       "\n",
       "PlantUML version 1.2020.13(Sat Jun 13 12:26:38 UTC 2020)\n",
       "(EPL source distribution)\n",
       "Java Runtime: OpenJDK Runtime Environment\n",
       "JVM: OpenJDK 64-Bit Server VM\n",
       "Default Encoding: UTF-8\n",
       "Language: en\n",
       "Country: null\n",
       "--></g></svg>"
      ]
     },
     "execution_count": 17,
     "metadata": {},
     "output_type": "execute_result"
    }
   ],
   "source": [
    "%viz --style=\"LR\" --view=\"Tree\" \"P1\""
   ]
  },
  {
   "cell_type": "code",
   "execution_count": 18,
   "id": "beneficial-missouri",
   "metadata": {
    "execution": {
     "iopub.execute_input": "2021-03-25T14:20:33.071951Z",
     "iopub.status.busy": "2021-03-25T14:20:33.071262Z",
     "iopub.status.idle": "2021-03-25T14:20:33.080618Z",
     "shell.execute_reply": "2021-03-25T14:20:33.081028Z"
    }
   },
   "outputs": [
    {
     "data": {
      "image/svg+xml": [
       "<?xml version=\"1.0\" encoding=\"UTF-8\" standalone=\"no\"?><svg xmlns=\"http://www.w3.org/2000/svg\" xmlns:xlink=\"http://www.w3.org/1999/xlink\" contentScriptType=\"application/ecmascript\" contentStyleType=\"text/css\" height=\"12px\" preserveAspectRatio=\"none\" style=\"width:12px;height:12px;\" version=\"1.1\" viewBox=\"0 0 12 12\" width=\"12px\" zoomAndPan=\"magnify\"><defs/><g><!--MD5=[19d285c9d72a204eba4e2cd117d745e8]\n",
       "@startuml\r\n",
       "left to right direction\r\n",
       "skinparam monochrome true\r\n",
       "skinparam classbackgroundcolor white\r\n",
       "skinparam shadowing false\r\n",
       "skinparam wrapWidth 300\r\n",
       "hide circle\r\n",
       "\r\n",
       "@enduml\r\n",
       "\n",
       "PlantUML version 1.2020.13(Sat Jun 13 12:26:38 UTC 2020)\n",
       "(EPL source distribution)\n",
       "Java Runtime: OpenJDK Runtime Environment\n",
       "JVM: OpenJDK 64-Bit Server VM\n",
       "Default Encoding: UTF-8\n",
       "Language: en\n",
       "Country: null\n",
       "--></g></svg>"
      ]
     },
     "execution_count": 18,
     "metadata": {},
     "output_type": "execute_result"
    }
   ],
   "source": [
    "%viz --style=\"LR\" --view=\"State\" \"P1\""
   ]
  },
  {
   "cell_type": "code",
   "execution_count": 19,
   "id": "controversial-assistant",
   "metadata": {
    "execution": {
     "iopub.execute_input": "2021-03-25T14:20:33.133031Z",
     "iopub.status.busy": "2021-03-25T14:20:33.132277Z",
     "iopub.status.idle": "2021-03-25T14:20:33.173517Z",
     "shell.execute_reply": "2021-03-25T14:20:33.173222Z"
    }
   },
   "outputs": [
    {
     "data": {
      "image/svg+xml": [
       "<?xml version=\"1.0\" encoding=\"UTF-8\" standalone=\"no\"?><svg xmlns=\"http://www.w3.org/2000/svg\" xmlns:xlink=\"http://www.w3.org/1999/xlink\" contentScriptType=\"application/ecmascript\" contentStyleType=\"text/css\" height=\"113px\" preserveAspectRatio=\"none\" style=\"width:141px;height:113px;\" version=\"1.1\" viewBox=\"0 0 141 113\" width=\"141px\" zoomAndPan=\"magnify\"><defs/><g><!--MD5=[fbc87193dbaf4d95561dea2c320d4a47]\n",
       "cluster E1--><a href=\"psysml:69fdc022-558c-4011-bfcd-169949e10b0a\" target=\"_top\" title=\"psysml:69fdc022-558c-4011-bfcd-169949e10b0a\" xlink:actuate=\"onRequest\" xlink:href=\"psysml:69fdc022-558c-4011-bfcd-169949e10b0a\" xlink:show=\"new\" xlink:title=\"psysml:69fdc022-558c-4011-bfcd-169949e10b0a\" xlink:type=\"simple\"><polygon fill=\"#FFFFFF\" points=\"16,6,42,6,49,28.2969,119,28.2969,119,101,16,101,16,6\" style=\"stroke: #000000; stroke-width: 1.5;\"/><line style=\"stroke: #000000; stroke-width: 1.5;\" x1=\"16\" x2=\"49\" y1=\"28.2969\" y2=\"28.2969\"/><text fill=\"#000000\" font-family=\"sans-serif\" font-size=\"14\" font-weight=\"bold\" lengthAdjust=\"spacingAndGlyphs\" textLength=\"20\" x=\"20\" y=\"20.9951\">P1</text></a><g id=\"E1.E2\"><a href=\"psysml:08e39b9c-1214-494c-92d3-7191dfc940fc\" target=\"_top\" title=\"psysml:08e39b9c-1214-494c-92d3-7191dfc940fc\" xlink:actuate=\"onRequest\" xlink:href=\"psysml:08e39b9c-1214-494c-92d3-7191dfc940fc\" xlink:show=\"new\" xlink:title=\"psysml:08e39b9c-1214-494c-92d3-7191dfc940fc\" xlink:type=\"simple\"><rect fill=\"#FFFFFF\" height=\"42.9375\" id=\"E2\" style=\"stroke: #383838; stroke-width: 1.5;\" width=\"71\" x=\"32\" y=\"41.5\"/><rect fill=\"#F8F8F8\" height=\"37.9375\" style=\"stroke: #383838; stroke-width: 1.5;\" width=\"71\" x=\"32\" y=\"41.5\"/><text fill=\"#000000\" font-family=\"sans-serif\" font-size=\"12\" font-style=\"italic\" lengthAdjust=\"spacingAndGlyphs\" textLength=\"64\" x=\"35.5\" y=\"57.6387\">«part def»</text><text fill=\"#000000\" font-family=\"sans-serif\" font-size=\"12\" lengthAdjust=\"spacingAndGlyphs\" textLength=\"8\" x=\"63.5\" y=\"71.6074\">A</text></a></g><!--MD5=[847d0252df69ea7ba69db4cd5d92c87f]\n",
       "@startuml\r\n",
       "skinparam ranksep 10\r\n",
       "skinparam rectangle {\r\n",
       " backgroundColor<<block>> LightGreen\r\n",
       "}\r\n",
       "left to right direction\r\n",
       "skinparam monochrome true\r\n",
       "skinparam classbackgroundcolor white\r\n",
       "skinparam shadowing false\r\n",
       "skinparam wrapWidth 300\r\n",
       "hide circle\r\n",
       "\r\n",
       "package \"P1\" as E1  [[psysml:69fdc022-558c-4011-bfcd-169949e10b0a ]]  {\r\n",
       "rec def \"A\" as E2  <<(T,blue)part def>> [[psysml:08e39b9c-1214-494c-92d3-7191dfc940fc ]] {\r\n",
       "}\r\n",
       "}\r\n",
       "@enduml\r\n",
       "\n",
       "PlantUML version 1.2020.13(Sat Jun 13 12:26:38 UTC 2020)\n",
       "(EPL source distribution)\n",
       "Java Runtime: OpenJDK Runtime Environment\n",
       "JVM: OpenJDK 64-Bit Server VM\n",
       "Default Encoding: UTF-8\n",
       "Language: en\n",
       "Country: null\n",
       "--></g></svg>"
      ]
     },
     "execution_count": 19,
     "metadata": {},
     "output_type": "execute_result"
    }
   ],
   "source": [
    "%viz --style=\"LR\" --view=\"Interconnection\" \"P1\""
   ]
  },
  {
   "cell_type": "code",
   "execution_count": 20,
   "id": "resistant-temperature",
   "metadata": {
    "execution": {
     "iopub.execute_input": "2021-03-25T14:20:33.225150Z",
     "iopub.status.busy": "2021-03-25T14:20:33.224315Z",
     "iopub.status.idle": "2021-03-25T14:20:33.233025Z",
     "shell.execute_reply": "2021-03-25T14:20:33.233465Z"
    }
   },
   "outputs": [
    {
     "data": {
      "image/svg+xml": [
       "<?xml version=\"1.0\" encoding=\"UTF-8\" standalone=\"no\"?><svg xmlns=\"http://www.w3.org/2000/svg\" xmlns:xlink=\"http://www.w3.org/1999/xlink\" contentScriptType=\"application/ecmascript\" contentStyleType=\"text/css\" height=\"12px\" preserveAspectRatio=\"none\" style=\"width:12px;height:12px;\" version=\"1.1\" viewBox=\"0 0 12 12\" width=\"12px\" zoomAndPan=\"magnify\"><defs/><g><!--MD5=[7aeb398939421629f6affaa4a1a7b125]\n",
       "@startuml\r\n",
       "skinparam ranksep 8\r\n",
       "left to right direction\r\n",
       "skinparam monochrome true\r\n",
       "skinparam classbackgroundcolor white\r\n",
       "skinparam shadowing false\r\n",
       "skinparam wrapWidth 300\r\n",
       "hide circle\r\n",
       "\r\n",
       "@enduml\r\n",
       "\n",
       "PlantUML version 1.2020.13(Sat Jun 13 12:26:38 UTC 2020)\n",
       "(EPL source distribution)\n",
       "Java Runtime: OpenJDK Runtime Environment\n",
       "JVM: OpenJDK 64-Bit Server VM\n",
       "Default Encoding: UTF-8\n",
       "Language: en\n",
       "Country: null\n",
       "--></g></svg>"
      ]
     },
     "execution_count": 20,
     "metadata": {},
     "output_type": "execute_result"
    }
   ],
   "source": [
    "%viz --style=\"LR\" --view=\"Action\" \"P1\""
   ]
  },
  {
   "cell_type": "code",
   "execution_count": 21,
   "id": "creative-accident",
   "metadata": {
    "execution": {
     "iopub.execute_input": "2021-03-25T14:20:33.286031Z",
     "iopub.status.busy": "2021-03-25T14:20:33.285059Z",
     "iopub.status.idle": "2021-03-25T14:20:33.325170Z",
     "shell.execute_reply": "2021-03-25T14:20:33.325991Z"
    }
   },
   "outputs": [
    {
     "data": {
      "image/svg+xml": [
       "<?xml version=\"1.0\" encoding=\"UTF-8\" standalone=\"no\"?><svg xmlns=\"http://www.w3.org/2000/svg\" xmlns:xlink=\"http://www.w3.org/1999/xlink\" contentScriptType=\"application/ecmascript\" contentStyleType=\"text/css\" height=\"115px\" preserveAspectRatio=\"none\" style=\"width:136px;height:115px;\" version=\"1.1\" viewBox=\"0 0 136 115\" width=\"136px\" zoomAndPan=\"magnify\"><defs/><g><!--MD5=[fbc87193dbaf4d95561dea2c320d4a47]\n",
       "cluster E1--><a href=\"psysml:69fdc022-558c-4011-bfcd-169949e10b0a\" target=\"_top\" title=\"psysml:69fdc022-558c-4011-bfcd-169949e10b0a\" xlink:actuate=\"onRequest\" xlink:href=\"psysml:69fdc022-558c-4011-bfcd-169949e10b0a\" xlink:show=\"new\" xlink:title=\"psysml:69fdc022-558c-4011-bfcd-169949e10b0a\" xlink:type=\"simple\"><polygon fill=\"#FFFFFF\" points=\"16,6,42,6,49,28.2969,114,28.2969,114,103,16,103,16,6\" style=\"stroke: #000000; stroke-width: 1.5;\"/><line style=\"stroke: #000000; stroke-width: 1.5;\" x1=\"16\" x2=\"49\" y1=\"28.2969\" y2=\"28.2969\"/><text fill=\"#000000\" font-family=\"sans-serif\" font-size=\"14\" font-weight=\"bold\" lengthAdjust=\"spacingAndGlyphs\" textLength=\"20\" x=\"20\" y=\"20.9951\">P1</text></a><!--MD5=[b4997ac47864f28c2f74865a473b2911]\n",
       "class E2--><a href=\"psysml:08e39b9c-1214-494c-92d3-7191dfc940fc\" target=\"_top\" title=\"psysml:08e39b9c-1214-494c-92d3-7191dfc940fc\" xlink:actuate=\"onRequest\" xlink:href=\"psysml:08e39b9c-1214-494c-92d3-7191dfc940fc\" xlink:show=\"new\" xlink:title=\"psysml:08e39b9c-1214-494c-92d3-7191dfc940fc\" xlink:type=\"simple\"><rect fill=\"#FFFFFF\" height=\"45.9375\" id=\"E2\" style=\"stroke: #383838; stroke-width: 1.5;\" width=\"66\" x=\"32\" y=\"41\"/><text fill=\"#000000\" font-family=\"sans-serif\" font-size=\"12\" font-style=\"italic\" lengthAdjust=\"spacingAndGlyphs\" textLength=\"64\" x=\"33\" y=\"57.1387\">«part def»</text><text fill=\"#000000\" font-family=\"sans-serif\" font-size=\"12\" lengthAdjust=\"spacingAndGlyphs\" textLength=\"8\" x=\"61\" y=\"71.1074\">A</text><line style=\"stroke: #383838; stroke-width: 1.5;\" x1=\"33\" x2=\"97\" y1=\"78.9375\" y2=\"78.9375\"/></a><!--MD5=[2d8c9d12c727f5fe3cd8f5afa93dbe14]\n",
       "@startuml\r\n",
       "left to right direction\r\n",
       "skinparam monochrome true\r\n",
       "skinparam classbackgroundcolor white\r\n",
       "skinparam shadowing false\r\n",
       "skinparam wrapWidth 300\r\n",
       "hide circle\r\n",
       "\r\n",
       "package \"P1\" as E1  [[psysml:69fdc022-558c-4011-bfcd-169949e10b0a ]]  {\r\n",
       "comp def \"A\" as E2  <<(T,blue)part def>> [[psysml:08e39b9c-1214-494c-92d3-7191dfc940fc ]] {\r\n",
       "}\r\n",
       "}\r\n",
       "@enduml\r\n",
       "\n",
       "PlantUML version 1.2020.13(Sat Jun 13 12:26:38 UTC 2020)\n",
       "(EPL source distribution)\n",
       "Java Runtime: OpenJDK Runtime Environment\n",
       "JVM: OpenJDK 64-Bit Server VM\n",
       "Default Encoding: UTF-8\n",
       "Language: en\n",
       "Country: null\n",
       "--></g></svg>"
      ]
     },
     "execution_count": 21,
     "metadata": {},
     "output_type": "execute_result"
    }
   ],
   "source": [
    "%viz --style=\"LR\" --view=\"Sequence\" \"P1\""
   ]
  },
  {
   "cell_type": "code",
   "execution_count": 22,
   "id": "interior-broadway",
   "metadata": {
    "execution": {
     "iopub.execute_input": "2021-03-25T14:20:33.378225Z",
     "iopub.status.busy": "2021-03-25T14:20:33.377604Z",
     "iopub.status.idle": "2021-03-25T14:20:33.416236Z",
     "shell.execute_reply": "2021-03-25T14:20:33.415844Z"
    }
   },
   "outputs": [
    {
     "data": {
      "image/svg+xml": [
       "<?xml version=\"1.0\" encoding=\"UTF-8\" standalone=\"no\"?><svg xmlns=\"http://www.w3.org/2000/svg\" xmlns:xlink=\"http://www.w3.org/1999/xlink\" contentScriptType=\"application/ecmascript\" contentStyleType=\"text/css\" height=\"115px\" preserveAspectRatio=\"none\" style=\"width:136px;height:115px;\" version=\"1.1\" viewBox=\"0 0 136 115\" width=\"136px\" zoomAndPan=\"magnify\"><defs/><g><!--MD5=[fbc87193dbaf4d95561dea2c320d4a47]\n",
       "cluster E1--><a href=\"psysml:69fdc022-558c-4011-bfcd-169949e10b0a\" target=\"_top\" title=\"psysml:69fdc022-558c-4011-bfcd-169949e10b0a\" xlink:actuate=\"onRequest\" xlink:href=\"psysml:69fdc022-558c-4011-bfcd-169949e10b0a\" xlink:show=\"new\" xlink:title=\"psysml:69fdc022-558c-4011-bfcd-169949e10b0a\" xlink:type=\"simple\"><polygon fill=\"#FFFFFF\" points=\"16,6,42,6,49,28.2969,114,28.2969,114,103,16,103,16,6\" style=\"stroke: #000000; stroke-width: 1.5;\"/><line style=\"stroke: #000000; stroke-width: 1.5;\" x1=\"16\" x2=\"49\" y1=\"28.2969\" y2=\"28.2969\"/><text fill=\"#000000\" font-family=\"sans-serif\" font-size=\"14\" font-weight=\"bold\" lengthAdjust=\"spacingAndGlyphs\" textLength=\"20\" x=\"20\" y=\"20.9951\">P1</text></a><!--MD5=[b4997ac47864f28c2f74865a473b2911]\n",
       "class E2--><a href=\"psysml:08e39b9c-1214-494c-92d3-7191dfc940fc\" target=\"_top\" title=\"psysml:08e39b9c-1214-494c-92d3-7191dfc940fc\" xlink:actuate=\"onRequest\" xlink:href=\"psysml:08e39b9c-1214-494c-92d3-7191dfc940fc\" xlink:show=\"new\" xlink:title=\"psysml:08e39b9c-1214-494c-92d3-7191dfc940fc\" xlink:type=\"simple\"><rect fill=\"#FFFFFF\" height=\"45.9375\" id=\"E2\" style=\"stroke: #383838; stroke-width: 1.5;\" width=\"66\" x=\"32\" y=\"41\"/><text fill=\"#000000\" font-family=\"sans-serif\" font-size=\"12\" font-style=\"italic\" lengthAdjust=\"spacingAndGlyphs\" textLength=\"64\" x=\"33\" y=\"57.1387\">«part def»</text><text fill=\"#000000\" font-family=\"sans-serif\" font-size=\"12\" lengthAdjust=\"spacingAndGlyphs\" textLength=\"8\" x=\"61\" y=\"71.1074\">A</text><line style=\"stroke: #383838; stroke-width: 1.5;\" x1=\"33\" x2=\"97\" y1=\"78.9375\" y2=\"78.9375\"/></a><!--MD5=[2d8c9d12c727f5fe3cd8f5afa93dbe14]\n",
       "@startuml\r\n",
       "left to right direction\r\n",
       "skinparam monochrome true\r\n",
       "skinparam classbackgroundcolor white\r\n",
       "skinparam shadowing false\r\n",
       "skinparam wrapWidth 300\r\n",
       "hide circle\r\n",
       "\r\n",
       "package \"P1\" as E1  [[psysml:69fdc022-558c-4011-bfcd-169949e10b0a ]]  {\r\n",
       "comp def \"A\" as E2  <<(T,blue)part def>> [[psysml:08e39b9c-1214-494c-92d3-7191dfc940fc ]] {\r\n",
       "}\r\n",
       "}\r\n",
       "@enduml\r\n",
       "\n",
       "PlantUML version 1.2020.13(Sat Jun 13 12:26:38 UTC 2020)\n",
       "(EPL source distribution)\n",
       "Java Runtime: OpenJDK Runtime Environment\n",
       "JVM: OpenJDK 64-Bit Server VM\n",
       "Default Encoding: UTF-8\n",
       "Language: en\n",
       "Country: null\n",
       "--></g></svg>"
      ]
     },
     "execution_count": 22,
     "metadata": {},
     "output_type": "execute_result"
    }
   ],
   "source": [
    "%viz --style=\"LR\" --view=\"MIXED\" \"P1\""
   ]
  },
  {
   "cell_type": "code",
   "execution_count": 23,
   "id": "expressed-amsterdam",
   "metadata": {
    "execution": {
     "iopub.execute_input": "2021-03-25T14:20:33.468197Z",
     "iopub.status.busy": "2021-03-25T14:20:33.467354Z",
     "iopub.status.idle": "2021-03-25T14:20:33.503564Z",
     "shell.execute_reply": "2021-03-25T14:20:33.503120Z"
    }
   },
   "outputs": [
    {
     "data": {
      "image/svg+xml": [
       "<?xml version=\"1.0\" encoding=\"UTF-8\" standalone=\"no\"?><svg xmlns=\"http://www.w3.org/2000/svg\" xmlns:xlink=\"http://www.w3.org/1999/xlink\" contentScriptType=\"application/ecmascript\" contentStyleType=\"text/css\" height=\"115px\" preserveAspectRatio=\"none\" style=\"width:136px;height:115px;\" version=\"1.1\" viewBox=\"0 0 136 115\" width=\"136px\" zoomAndPan=\"magnify\"><defs><filter height=\"300%\" id=\"f9iqjcgrzjn87\" width=\"300%\" x=\"-1\" y=\"-1\"><feGaussianBlur result=\"blurOut\" stdDeviation=\"2.0\"/><feColorMatrix in=\"blurOut\" result=\"blurOut2\" type=\"matrix\" values=\"0 0 0 0 0 0 0 0 0 0 0 0 0 0 0 0 0 0 .4 0\"/><feOffset dx=\"4.0\" dy=\"4.0\" in=\"blurOut2\" result=\"blurOut3\"/><feBlend in=\"SourceGraphic\" in2=\"blurOut3\" mode=\"normal\"/></filter></defs><g><!--MD5=[fbc87193dbaf4d95561dea2c320d4a47]\n",
       "cluster E1--><a href=\"psysml:69fdc022-558c-4011-bfcd-169949e10b0a\" target=\"_top\" title=\"psysml:69fdc022-558c-4011-bfcd-169949e10b0a\" xlink:actuate=\"onRequest\" xlink:href=\"psysml:69fdc022-558c-4011-bfcd-169949e10b0a\" xlink:show=\"new\" xlink:title=\"psysml:69fdc022-558c-4011-bfcd-169949e10b0a\" xlink:type=\"simple\"><polygon fill=\"#FFFFFF\" filter=\"url(#f9iqjcgrzjn87)\" points=\"16,6,42,6,49,28.2969,114,28.2969,114,103,16,103,16,6\" style=\"stroke: #000000; stroke-width: 1.5;\"/><line style=\"stroke: #000000; stroke-width: 1.5;\" x1=\"16\" x2=\"49\" y1=\"28.2969\" y2=\"28.2969\"/><text fill=\"#000000\" font-family=\"sans-serif\" font-size=\"14\" font-weight=\"bold\" lengthAdjust=\"spacingAndGlyphs\" textLength=\"20\" x=\"20\" y=\"20.9951\">P1</text></a><!--MD5=[b4997ac47864f28c2f74865a473b2911]\n",
       "class E2--><a href=\"psysml:08e39b9c-1214-494c-92d3-7191dfc940fc\" target=\"_top\" title=\"psysml:08e39b9c-1214-494c-92d3-7191dfc940fc\" xlink:actuate=\"onRequest\" xlink:href=\"psysml:08e39b9c-1214-494c-92d3-7191dfc940fc\" xlink:show=\"new\" xlink:title=\"psysml:08e39b9c-1214-494c-92d3-7191dfc940fc\" xlink:type=\"simple\"><rect fill=\"#FEFECE\" filter=\"url(#f9iqjcgrzjn87)\" height=\"45.9375\" id=\"E2\" style=\"stroke: #A80036; stroke-width: 1.5;\" width=\"66\" x=\"32\" y=\"41\"/><text fill=\"#000000\" font-family=\"sans-serif\" font-size=\"12\" font-style=\"italic\" lengthAdjust=\"spacingAndGlyphs\" textLength=\"64\" x=\"33\" y=\"57.1387\">«part def»</text><text fill=\"#000000\" font-family=\"sans-serif\" font-size=\"12\" lengthAdjust=\"spacingAndGlyphs\" textLength=\"8\" x=\"61\" y=\"71.1074\">A</text><line style=\"stroke: #A80036; stroke-width: 1.5;\" x1=\"33\" x2=\"97\" y1=\"78.9375\" y2=\"78.9375\"/></a><!--MD5=[67aa84d5dbf96264fe829e5d469bfe2b]\n",
       "@startuml\r\n",
       "skinparam wrapWidth 300\r\n",
       "hide circle\r\n",
       "\r\n",
       "package \"P1\" as E1  [[psysml:69fdc022-558c-4011-bfcd-169949e10b0a ]]  {\r\n",
       "comp def \"A\" as E2  <<(T,blue)part def>> [[psysml:08e39b9c-1214-494c-92d3-7191dfc940fc ]] {\r\n",
       "}\r\n",
       "}\r\n",
       "@enduml\r\n",
       "\n",
       "PlantUML version 1.2020.13(Sat Jun 13 12:26:38 UTC 2020)\n",
       "(EPL source distribution)\n",
       "Java Runtime: OpenJDK Runtime Environment\n",
       "JVM: OpenJDK 64-Bit Server VM\n",
       "Default Encoding: UTF-8\n",
       "Language: en\n",
       "Country: null\n",
       "--></g></svg>"
      ]
     },
     "execution_count": 23,
     "metadata": {},
     "output_type": "execute_result"
    }
   ],
   "source": [
    "%viz --style=\"STDCOLOR\" --view=\"Default\" \"P1\""
   ]
  },
  {
   "cell_type": "code",
   "execution_count": 24,
   "id": "rental-truth",
   "metadata": {
    "execution": {
     "iopub.execute_input": "2021-03-25T14:20:33.555126Z",
     "iopub.status.busy": "2021-03-25T14:20:33.554343Z",
     "iopub.status.idle": "2021-03-25T14:20:33.566407Z",
     "shell.execute_reply": "2021-03-25T14:20:33.565426Z"
    }
   },
   "outputs": [
    {
     "data": {
      "image/svg+xml": [
       "<?xml version=\"1.0\" encoding=\"UTF-8\" standalone=\"no\"?><svg xmlns=\"http://www.w3.org/2000/svg\" xmlns:xlink=\"http://www.w3.org/1999/xlink\" contentScriptType=\"application/ecmascript\" contentStyleType=\"text/css\" height=\"115px\" preserveAspectRatio=\"none\" style=\"width:136px;height:115px;\" version=\"1.1\" viewBox=\"0 0 136 115\" width=\"136px\" zoomAndPan=\"magnify\"><defs><filter height=\"300%\" id=\"f9iqjcgrzjn87\" width=\"300%\" x=\"-1\" y=\"-1\"><feGaussianBlur result=\"blurOut\" stdDeviation=\"2.0\"/><feColorMatrix in=\"blurOut\" result=\"blurOut2\" type=\"matrix\" values=\"0 0 0 0 0 0 0 0 0 0 0 0 0 0 0 0 0 0 .4 0\"/><feOffset dx=\"4.0\" dy=\"4.0\" in=\"blurOut2\" result=\"blurOut3\"/><feBlend in=\"SourceGraphic\" in2=\"blurOut3\" mode=\"normal\"/></filter></defs><g><!--MD5=[fbc87193dbaf4d95561dea2c320d4a47]\n",
       "cluster E1--><a href=\"psysml:69fdc022-558c-4011-bfcd-169949e10b0a\" target=\"_top\" title=\"psysml:69fdc022-558c-4011-bfcd-169949e10b0a\" xlink:actuate=\"onRequest\" xlink:href=\"psysml:69fdc022-558c-4011-bfcd-169949e10b0a\" xlink:show=\"new\" xlink:title=\"psysml:69fdc022-558c-4011-bfcd-169949e10b0a\" xlink:type=\"simple\"><polygon fill=\"#FFFFFF\" filter=\"url(#f9iqjcgrzjn87)\" points=\"16,6,42,6,49,28.2969,114,28.2969,114,103,16,103,16,6\" style=\"stroke: #000000; stroke-width: 1.5;\"/><line style=\"stroke: #000000; stroke-width: 1.5;\" x1=\"16\" x2=\"49\" y1=\"28.2969\" y2=\"28.2969\"/><text fill=\"#000000\" font-family=\"sans-serif\" font-size=\"14\" font-weight=\"bold\" lengthAdjust=\"spacingAndGlyphs\" textLength=\"20\" x=\"20\" y=\"20.9951\">P1</text></a><!--MD5=[b4997ac47864f28c2f74865a473b2911]\n",
       "class E2--><a href=\"psysml:08e39b9c-1214-494c-92d3-7191dfc940fc\" target=\"_top\" title=\"psysml:08e39b9c-1214-494c-92d3-7191dfc940fc\" xlink:actuate=\"onRequest\" xlink:href=\"psysml:08e39b9c-1214-494c-92d3-7191dfc940fc\" xlink:show=\"new\" xlink:title=\"psysml:08e39b9c-1214-494c-92d3-7191dfc940fc\" xlink:type=\"simple\"><rect fill=\"#FEFECE\" filter=\"url(#f9iqjcgrzjn87)\" height=\"45.9375\" id=\"E2\" style=\"stroke: #A80036; stroke-width: 1.5;\" width=\"66\" x=\"32\" y=\"41\"/><text fill=\"#000000\" font-family=\"sans-serif\" font-size=\"12\" font-style=\"italic\" lengthAdjust=\"spacingAndGlyphs\" textLength=\"64\" x=\"33\" y=\"57.1387\">«part def»</text><text fill=\"#000000\" font-family=\"sans-serif\" font-size=\"12\" lengthAdjust=\"spacingAndGlyphs\" textLength=\"8\" x=\"61\" y=\"71.1074\">A</text><line style=\"stroke: #A80036; stroke-width: 1.5;\" x1=\"33\" x2=\"97\" y1=\"78.9375\" y2=\"78.9375\"/></a><!--MD5=[67aa84d5dbf96264fe829e5d469bfe2b]\n",
       "@startuml\r\n",
       "skinparam wrapWidth 300\r\n",
       "hide circle\r\n",
       "\r\n",
       "package \"P1\" as E1  [[psysml:69fdc022-558c-4011-bfcd-169949e10b0a ]]  {\r\n",
       "comp def \"A\" as E2  <<(T,blue)part def>> [[psysml:08e39b9c-1214-494c-92d3-7191dfc940fc ]] {\r\n",
       "}\r\n",
       "}\r\n",
       "@enduml\r\n",
       "\n",
       "PlantUML version 1.2020.13(Sat Jun 13 12:26:38 UTC 2020)\n",
       "(EPL source distribution)\n",
       "Java Runtime: OpenJDK Runtime Environment\n",
       "JVM: OpenJDK 64-Bit Server VM\n",
       "Default Encoding: UTF-8\n",
       "Language: en\n",
       "Country: null\n",
       "--></g></svg>"
      ]
     },
     "execution_count": 24,
     "metadata": {},
     "output_type": "execute_result"
    }
   ],
   "source": [
    "%viz --style=\"STDCOLOR\" --view=\"Tree\" \"P1\""
   ]
  },
  {
   "cell_type": "code",
   "execution_count": 25,
   "id": "coupled-captain",
   "metadata": {
    "execution": {
     "iopub.execute_input": "2021-03-25T14:20:33.619444Z",
     "iopub.status.busy": "2021-03-25T14:20:33.618699Z",
     "iopub.status.idle": "2021-03-25T14:20:33.629087Z",
     "shell.execute_reply": "2021-03-25T14:20:33.628128Z"
    }
   },
   "outputs": [
    {
     "data": {
      "image/svg+xml": [
       "<?xml version=\"1.0\" encoding=\"UTF-8\" standalone=\"no\"?><svg xmlns=\"http://www.w3.org/2000/svg\" xmlns:xlink=\"http://www.w3.org/1999/xlink\" contentScriptType=\"application/ecmascript\" contentStyleType=\"text/css\" height=\"12px\" preserveAspectRatio=\"none\" style=\"width:12px;height:12px;\" version=\"1.1\" viewBox=\"0 0 12 12\" width=\"12px\" zoomAndPan=\"magnify\"><defs/><g><!--MD5=[aeeef50f102b80d730deb6443d14f702]\n",
       "@startuml\r\n",
       "skinparam wrapWidth 300\r\n",
       "hide circle\r\n",
       "\r\n",
       "@enduml\r\n",
       "\n",
       "PlantUML version 1.2020.13(Sat Jun 13 12:26:38 UTC 2020)\n",
       "(EPL source distribution)\n",
       "Java Runtime: OpenJDK Runtime Environment\n",
       "JVM: OpenJDK 64-Bit Server VM\n",
       "Default Encoding: UTF-8\n",
       "Language: en\n",
       "Country: null\n",
       "--></g></svg>"
      ]
     },
     "execution_count": 25,
     "metadata": {},
     "output_type": "execute_result"
    }
   ],
   "source": [
    "%viz --style=\"STDCOLOR\" --view=\"State\" \"P1\""
   ]
  },
  {
   "cell_type": "code",
   "execution_count": 26,
   "id": "preceding-heavy",
   "metadata": {
    "execution": {
     "iopub.execute_input": "2021-03-25T14:20:33.682063Z",
     "iopub.status.busy": "2021-03-25T14:20:33.680978Z",
     "iopub.status.idle": "2021-03-25T14:20:33.722932Z",
     "shell.execute_reply": "2021-03-25T14:20:33.722454Z"
    }
   },
   "outputs": [
    {
     "data": {
      "image/svg+xml": [
       "<?xml version=\"1.0\" encoding=\"UTF-8\" standalone=\"no\"?><svg xmlns=\"http://www.w3.org/2000/svg\" xmlns:xlink=\"http://www.w3.org/1999/xlink\" contentScriptType=\"application/ecmascript\" contentStyleType=\"text/css\" height=\"112px\" preserveAspectRatio=\"none\" style=\"width:142px;height:112px;\" version=\"1.1\" viewBox=\"0 0 142 112\" width=\"142px\" zoomAndPan=\"magnify\"><defs><filter height=\"300%\" id=\"f1nh307dsuqfo5\" width=\"300%\" x=\"-1\" y=\"-1\"><feGaussianBlur result=\"blurOut\" stdDeviation=\"2.0\"/><feColorMatrix in=\"blurOut\" result=\"blurOut2\" type=\"matrix\" values=\"0 0 0 0 0 0 0 0 0 0 0 0 0 0 0 0 0 0 .4 0\"/><feOffset dx=\"4.0\" dy=\"4.0\" in=\"blurOut2\" result=\"blurOut3\"/><feBlend in=\"SourceGraphic\" in2=\"blurOut3\" mode=\"normal\"/></filter></defs><g><!--MD5=[fbc87193dbaf4d95561dea2c320d4a47]\n",
       "cluster E1--><a href=\"psysml:69fdc022-558c-4011-bfcd-169949e10b0a\" target=\"_top\" title=\"psysml:69fdc022-558c-4011-bfcd-169949e10b0a\" xlink:actuate=\"onRequest\" xlink:href=\"psysml:69fdc022-558c-4011-bfcd-169949e10b0a\" xlink:show=\"new\" xlink:title=\"psysml:69fdc022-558c-4011-bfcd-169949e10b0a\" xlink:type=\"simple\"><polygon fill=\"#FFFFFF\" filter=\"url(#f1nh307dsuqfo5)\" points=\"16,6,42,6,49,28.2969,120,28.2969,120,100,16,100,16,6\" style=\"stroke: #000000; stroke-width: 1.5;\"/><line style=\"stroke: #000000; stroke-width: 1.5;\" x1=\"16\" x2=\"49\" y1=\"28.2969\" y2=\"28.2969\"/><text fill=\"#000000\" font-family=\"sans-serif\" font-size=\"14\" font-weight=\"bold\" lengthAdjust=\"spacingAndGlyphs\" textLength=\"20\" x=\"20\" y=\"20.9951\">P1</text></a><g id=\"E1.E2\"><a href=\"psysml:08e39b9c-1214-494c-92d3-7191dfc940fc\" target=\"_top\" title=\"psysml:08e39b9c-1214-494c-92d3-7191dfc940fc\" xlink:actuate=\"onRequest\" xlink:href=\"psysml:08e39b9c-1214-494c-92d3-7191dfc940fc\" xlink:show=\"new\" xlink:title=\"psysml:08e39b9c-1214-494c-92d3-7191dfc940fc\" xlink:type=\"simple\"><rect fill=\"#FEFECE\" filter=\"url(#f1nh307dsuqfo5)\" height=\"42.9375\" id=\"E2\" style=\"stroke: #A80036; stroke-width: 1.5;\" width=\"71\" x=\"32.5\" y=\"41\"/><text fill=\"#000000\" font-family=\"sans-serif\" font-size=\"12\" font-style=\"italic\" lengthAdjust=\"spacingAndGlyphs\" textLength=\"64\" x=\"36\" y=\"57.1387\">«part def»</text><text fill=\"#000000\" font-family=\"sans-serif\" font-size=\"12\" lengthAdjust=\"spacingAndGlyphs\" textLength=\"8\" x=\"64\" y=\"71.1074\">A</text></a></g><!--MD5=[6e34ed22a42412f2e3f6030fd56651d5]\n",
       "@startuml\r\n",
       "skinparam ranksep 10\r\n",
       "skinparam rectangle {\r\n",
       " backgroundColor<<block>> LightGreen\r\n",
       "}\r\n",
       "skinparam wrapWidth 300\r\n",
       "hide circle\r\n",
       "\r\n",
       "package \"P1\" as E1  [[psysml:69fdc022-558c-4011-bfcd-169949e10b0a ]]  {\r\n",
       "rec def \"A\" as E2  <<(T,blue)part def>> [[psysml:08e39b9c-1214-494c-92d3-7191dfc940fc ]] {\r\n",
       "}\r\n",
       "}\r\n",
       "@enduml\r\n",
       "\n",
       "PlantUML version 1.2020.13(Sat Jun 13 12:26:38 UTC 2020)\n",
       "(EPL source distribution)\n",
       "Java Runtime: OpenJDK Runtime Environment\n",
       "JVM: OpenJDK 64-Bit Server VM\n",
       "Default Encoding: UTF-8\n",
       "Language: en\n",
       "Country: null\n",
       "--></g></svg>"
      ]
     },
     "execution_count": 26,
     "metadata": {},
     "output_type": "execute_result"
    }
   ],
   "source": [
    "%viz --style=\"STDCOLOR\" --view=\"Interconnection\" \"P1\""
   ]
  },
  {
   "cell_type": "code",
   "execution_count": 27,
   "id": "unique-divide",
   "metadata": {
    "execution": {
     "iopub.execute_input": "2021-03-25T14:20:33.776186Z",
     "iopub.status.busy": "2021-03-25T14:20:33.774818Z",
     "iopub.status.idle": "2021-03-25T14:20:33.789291Z",
     "shell.execute_reply": "2021-03-25T14:20:33.789706Z"
    }
   },
   "outputs": [
    {
     "data": {
      "image/svg+xml": [
       "<?xml version=\"1.0\" encoding=\"UTF-8\" standalone=\"no\"?><svg xmlns=\"http://www.w3.org/2000/svg\" xmlns:xlink=\"http://www.w3.org/1999/xlink\" contentScriptType=\"application/ecmascript\" contentStyleType=\"text/css\" height=\"12px\" preserveAspectRatio=\"none\" style=\"width:12px;height:12px;\" version=\"1.1\" viewBox=\"0 0 12 12\" width=\"12px\" zoomAndPan=\"magnify\"><defs/><g><!--MD5=[9863325348a96a77dacc89509d8ee65e]\n",
       "@startuml\r\n",
       "skinparam ranksep 8\r\n",
       "skinparam wrapWidth 300\r\n",
       "hide circle\r\n",
       "\r\n",
       "@enduml\r\n",
       "\n",
       "PlantUML version 1.2020.13(Sat Jun 13 12:26:38 UTC 2020)\n",
       "(EPL source distribution)\n",
       "Java Runtime: OpenJDK Runtime Environment\n",
       "JVM: OpenJDK 64-Bit Server VM\n",
       "Default Encoding: UTF-8\n",
       "Language: en\n",
       "Country: null\n",
       "--></g></svg>"
      ]
     },
     "execution_count": 27,
     "metadata": {},
     "output_type": "execute_result"
    }
   ],
   "source": [
    "%viz --style=\"STDCOLOR\" --view=\"Action\" \"P1\""
   ]
  },
  {
   "cell_type": "code",
   "execution_count": 28,
   "id": "operating-entity",
   "metadata": {
    "execution": {
     "iopub.execute_input": "2021-03-25T14:20:33.843426Z",
     "iopub.status.busy": "2021-03-25T14:20:33.841684Z",
     "iopub.status.idle": "2021-03-25T14:20:33.886330Z",
     "shell.execute_reply": "2021-03-25T14:20:33.885781Z"
    }
   },
   "outputs": [
    {
     "data": {
      "image/svg+xml": [
       "<?xml version=\"1.0\" encoding=\"UTF-8\" standalone=\"no\"?><svg xmlns=\"http://www.w3.org/2000/svg\" xmlns:xlink=\"http://www.w3.org/1999/xlink\" contentScriptType=\"application/ecmascript\" contentStyleType=\"text/css\" height=\"115px\" preserveAspectRatio=\"none\" style=\"width:136px;height:115px;\" version=\"1.1\" viewBox=\"0 0 136 115\" width=\"136px\" zoomAndPan=\"magnify\"><defs><filter height=\"300%\" id=\"f9iqjcgrzjn87\" width=\"300%\" x=\"-1\" y=\"-1\"><feGaussianBlur result=\"blurOut\" stdDeviation=\"2.0\"/><feColorMatrix in=\"blurOut\" result=\"blurOut2\" type=\"matrix\" values=\"0 0 0 0 0 0 0 0 0 0 0 0 0 0 0 0 0 0 .4 0\"/><feOffset dx=\"4.0\" dy=\"4.0\" in=\"blurOut2\" result=\"blurOut3\"/><feBlend in=\"SourceGraphic\" in2=\"blurOut3\" mode=\"normal\"/></filter></defs><g><!--MD5=[fbc87193dbaf4d95561dea2c320d4a47]\n",
       "cluster E1--><a href=\"psysml:69fdc022-558c-4011-bfcd-169949e10b0a\" target=\"_top\" title=\"psysml:69fdc022-558c-4011-bfcd-169949e10b0a\" xlink:actuate=\"onRequest\" xlink:href=\"psysml:69fdc022-558c-4011-bfcd-169949e10b0a\" xlink:show=\"new\" xlink:title=\"psysml:69fdc022-558c-4011-bfcd-169949e10b0a\" xlink:type=\"simple\"><polygon fill=\"#FFFFFF\" filter=\"url(#f9iqjcgrzjn87)\" points=\"16,6,42,6,49,28.2969,114,28.2969,114,103,16,103,16,6\" style=\"stroke: #000000; stroke-width: 1.5;\"/><line style=\"stroke: #000000; stroke-width: 1.5;\" x1=\"16\" x2=\"49\" y1=\"28.2969\" y2=\"28.2969\"/><text fill=\"#000000\" font-family=\"sans-serif\" font-size=\"14\" font-weight=\"bold\" lengthAdjust=\"spacingAndGlyphs\" textLength=\"20\" x=\"20\" y=\"20.9951\">P1</text></a><!--MD5=[b4997ac47864f28c2f74865a473b2911]\n",
       "class E2--><a href=\"psysml:08e39b9c-1214-494c-92d3-7191dfc940fc\" target=\"_top\" title=\"psysml:08e39b9c-1214-494c-92d3-7191dfc940fc\" xlink:actuate=\"onRequest\" xlink:href=\"psysml:08e39b9c-1214-494c-92d3-7191dfc940fc\" xlink:show=\"new\" xlink:title=\"psysml:08e39b9c-1214-494c-92d3-7191dfc940fc\" xlink:type=\"simple\"><rect fill=\"#FEFECE\" filter=\"url(#f9iqjcgrzjn87)\" height=\"45.9375\" id=\"E2\" style=\"stroke: #A80036; stroke-width: 1.5;\" width=\"66\" x=\"32\" y=\"41\"/><text fill=\"#000000\" font-family=\"sans-serif\" font-size=\"12\" font-style=\"italic\" lengthAdjust=\"spacingAndGlyphs\" textLength=\"64\" x=\"33\" y=\"57.1387\">«part def»</text><text fill=\"#000000\" font-family=\"sans-serif\" font-size=\"12\" lengthAdjust=\"spacingAndGlyphs\" textLength=\"8\" x=\"61\" y=\"71.1074\">A</text><line style=\"stroke: #A80036; stroke-width: 1.5;\" x1=\"33\" x2=\"97\" y1=\"78.9375\" y2=\"78.9375\"/></a><!--MD5=[67aa84d5dbf96264fe829e5d469bfe2b]\n",
       "@startuml\r\n",
       "skinparam wrapWidth 300\r\n",
       "hide circle\r\n",
       "\r\n",
       "package \"P1\" as E1  [[psysml:69fdc022-558c-4011-bfcd-169949e10b0a ]]  {\r\n",
       "comp def \"A\" as E2  <<(T,blue)part def>> [[psysml:08e39b9c-1214-494c-92d3-7191dfc940fc ]] {\r\n",
       "}\r\n",
       "}\r\n",
       "@enduml\r\n",
       "\n",
       "PlantUML version 1.2020.13(Sat Jun 13 12:26:38 UTC 2020)\n",
       "(EPL source distribution)\n",
       "Java Runtime: OpenJDK Runtime Environment\n",
       "JVM: OpenJDK 64-Bit Server VM\n",
       "Default Encoding: UTF-8\n",
       "Language: en\n",
       "Country: null\n",
       "--></g></svg>"
      ]
     },
     "execution_count": 28,
     "metadata": {},
     "output_type": "execute_result"
    }
   ],
   "source": [
    "%viz --style=\"STDCOLOR\" --view=\"Sequence\" \"P1\""
   ]
  },
  {
   "cell_type": "code",
   "execution_count": 29,
   "id": "advised-checkout",
   "metadata": {
    "execution": {
     "iopub.execute_input": "2021-03-25T14:20:33.938209Z",
     "iopub.status.busy": "2021-03-25T14:20:33.937520Z",
     "iopub.status.idle": "2021-03-25T14:20:33.971756Z",
     "shell.execute_reply": "2021-03-25T14:20:33.972167Z"
    }
   },
   "outputs": [
    {
     "data": {
      "image/svg+xml": [
       "<?xml version=\"1.0\" encoding=\"UTF-8\" standalone=\"no\"?><svg xmlns=\"http://www.w3.org/2000/svg\" xmlns:xlink=\"http://www.w3.org/1999/xlink\" contentScriptType=\"application/ecmascript\" contentStyleType=\"text/css\" height=\"115px\" preserveAspectRatio=\"none\" style=\"width:136px;height:115px;\" version=\"1.1\" viewBox=\"0 0 136 115\" width=\"136px\" zoomAndPan=\"magnify\"><defs><filter height=\"300%\" id=\"f9iqjcgrzjn87\" width=\"300%\" x=\"-1\" y=\"-1\"><feGaussianBlur result=\"blurOut\" stdDeviation=\"2.0\"/><feColorMatrix in=\"blurOut\" result=\"blurOut2\" type=\"matrix\" values=\"0 0 0 0 0 0 0 0 0 0 0 0 0 0 0 0 0 0 .4 0\"/><feOffset dx=\"4.0\" dy=\"4.0\" in=\"blurOut2\" result=\"blurOut3\"/><feBlend in=\"SourceGraphic\" in2=\"blurOut3\" mode=\"normal\"/></filter></defs><g><!--MD5=[fbc87193dbaf4d95561dea2c320d4a47]\n",
       "cluster E1--><a href=\"psysml:69fdc022-558c-4011-bfcd-169949e10b0a\" target=\"_top\" title=\"psysml:69fdc022-558c-4011-bfcd-169949e10b0a\" xlink:actuate=\"onRequest\" xlink:href=\"psysml:69fdc022-558c-4011-bfcd-169949e10b0a\" xlink:show=\"new\" xlink:title=\"psysml:69fdc022-558c-4011-bfcd-169949e10b0a\" xlink:type=\"simple\"><polygon fill=\"#FFFFFF\" filter=\"url(#f9iqjcgrzjn87)\" points=\"16,6,42,6,49,28.2969,114,28.2969,114,103,16,103,16,6\" style=\"stroke: #000000; stroke-width: 1.5;\"/><line style=\"stroke: #000000; stroke-width: 1.5;\" x1=\"16\" x2=\"49\" y1=\"28.2969\" y2=\"28.2969\"/><text fill=\"#000000\" font-family=\"sans-serif\" font-size=\"14\" font-weight=\"bold\" lengthAdjust=\"spacingAndGlyphs\" textLength=\"20\" x=\"20\" y=\"20.9951\">P1</text></a><!--MD5=[b4997ac47864f28c2f74865a473b2911]\n",
       "class E2--><a href=\"psysml:08e39b9c-1214-494c-92d3-7191dfc940fc\" target=\"_top\" title=\"psysml:08e39b9c-1214-494c-92d3-7191dfc940fc\" xlink:actuate=\"onRequest\" xlink:href=\"psysml:08e39b9c-1214-494c-92d3-7191dfc940fc\" xlink:show=\"new\" xlink:title=\"psysml:08e39b9c-1214-494c-92d3-7191dfc940fc\" xlink:type=\"simple\"><rect fill=\"#FEFECE\" filter=\"url(#f9iqjcgrzjn87)\" height=\"45.9375\" id=\"E2\" style=\"stroke: #A80036; stroke-width: 1.5;\" width=\"66\" x=\"32\" y=\"41\"/><text fill=\"#000000\" font-family=\"sans-serif\" font-size=\"12\" font-style=\"italic\" lengthAdjust=\"spacingAndGlyphs\" textLength=\"64\" x=\"33\" y=\"57.1387\">«part def»</text><text fill=\"#000000\" font-family=\"sans-serif\" font-size=\"12\" lengthAdjust=\"spacingAndGlyphs\" textLength=\"8\" x=\"61\" y=\"71.1074\">A</text><line style=\"stroke: #A80036; stroke-width: 1.5;\" x1=\"33\" x2=\"97\" y1=\"78.9375\" y2=\"78.9375\"/></a><!--MD5=[67aa84d5dbf96264fe829e5d469bfe2b]\n",
       "@startuml\r\n",
       "skinparam wrapWidth 300\r\n",
       "hide circle\r\n",
       "\r\n",
       "package \"P1\" as E1  [[psysml:69fdc022-558c-4011-bfcd-169949e10b0a ]]  {\r\n",
       "comp def \"A\" as E2  <<(T,blue)part def>> [[psysml:08e39b9c-1214-494c-92d3-7191dfc940fc ]] {\r\n",
       "}\r\n",
       "}\r\n",
       "@enduml\r\n",
       "\n",
       "PlantUML version 1.2020.13(Sat Jun 13 12:26:38 UTC 2020)\n",
       "(EPL source distribution)\n",
       "Java Runtime: OpenJDK Runtime Environment\n",
       "JVM: OpenJDK 64-Bit Server VM\n",
       "Default Encoding: UTF-8\n",
       "Language: en\n",
       "Country: null\n",
       "--></g></svg>"
      ]
     },
     "execution_count": 29,
     "metadata": {},
     "output_type": "execute_result"
    }
   ],
   "source": [
    "%viz --style=\"STDCOLOR\" --view=\"MIXED\" \"P1\""
   ]
  },
  {
   "cell_type": "code",
   "execution_count": 30,
   "id": "sunrise-bryan",
   "metadata": {
    "execution": {
     "iopub.execute_input": "2021-03-25T14:20:34.025542Z",
     "iopub.status.busy": "2021-03-25T14:20:34.024030Z",
     "iopub.status.idle": "2021-03-25T14:20:34.072981Z",
     "shell.execute_reply": "2021-03-25T14:20:34.072627Z"
    }
   },
   "outputs": [
    {
     "data": {
      "image/svg+xml": [
       "<?xml version=\"1.0\" encoding=\"UTF-8\" standalone=\"no\"?><svg xmlns=\"http://www.w3.org/2000/svg\" xmlns:xlink=\"http://www.w3.org/1999/xlink\" contentScriptType=\"application/ecmascript\" contentStyleType=\"text/css\" height=\"109px\" preserveAspectRatio=\"none\" style=\"width:110px;height:109px;\" version=\"1.1\" viewBox=\"0 0 110 109\" width=\"110px\" zoomAndPan=\"magnify\"><defs><filter height=\"300%\" id=\"fzae528cx1vrx\" width=\"300%\" x=\"-1\" y=\"-1\"><feGaussianBlur result=\"blurOut\" stdDeviation=\"2.0\"/><feColorMatrix in=\"blurOut\" result=\"blurOut2\" type=\"matrix\" values=\"0 0 0 0 0 0 0 0 0 0 0 0 0 0 0 0 0 0 .4 0\"/><feOffset dx=\"4.0\" dy=\"4.0\" in=\"blurOut2\" result=\"blurOut3\"/><feBlend in=\"SourceGraphic\" in2=\"blurOut3\" mode=\"normal\"/></filter></defs><g><!--MD5=[fbc87193dbaf4d95561dea2c320d4a47]\n",
       "cluster E1--><a href=\"psysml:69fdc022-558c-4011-bfcd-169949e10b0a\" target=\"_top\" title=\"psysml:69fdc022-558c-4011-bfcd-169949e10b0a\" xlink:actuate=\"onRequest\" xlink:href=\"psysml:69fdc022-558c-4011-bfcd-169949e10b0a\" xlink:show=\"new\" xlink:title=\"psysml:69fdc022-558c-4011-bfcd-169949e10b0a\" xlink:type=\"simple\"><polygon fill=\"#FFFFFF\" filter=\"url(#fzae528cx1vrx)\" points=\"16,6,42,6,49,28.2969,88,28.2969,88,97,16,97,16,6\" style=\"stroke: #000000; stroke-width: 1.5;\"/><line style=\"stroke: #000000; stroke-width: 1.5;\" x1=\"16\" x2=\"49\" y1=\"28.2969\" y2=\"28.2969\"/><text fill=\"#000000\" font-family=\"sans-serif\" font-size=\"14\" font-weight=\"bold\" lengthAdjust=\"spacingAndGlyphs\" textLength=\"20\" x=\"20\" y=\"20.9951\">P1</text></a><!--MD5=[b4997ac47864f28c2f74865a473b2911]\n",
       "class E2--><a href=\"psysml:08e39b9c-1214-494c-92d3-7191dfc940fc\" target=\"_top\" title=\"psysml:08e39b9c-1214-494c-92d3-7191dfc940fc\" xlink:actuate=\"onRequest\" xlink:href=\"psysml:08e39b9c-1214-494c-92d3-7191dfc940fc\" xlink:show=\"new\" xlink:title=\"psysml:08e39b9c-1214-494c-92d3-7191dfc940fc\" xlink:type=\"simple\"><rect fill=\"#FEFECE\" filter=\"url(#fzae528cx1vrx)\" height=\"40\" id=\"E2\" style=\"stroke: #A80036; stroke-width: 1.5;\" width=\"40\" x=\"32\" y=\"41\"/><ellipse cx=\"47\" cy=\"57\" fill=\"#008000\" rx=\"11\" ry=\"11\" style=\"stroke: #A80036; stroke-width: 1.0;\"/><path d=\"M45.9063,57.375 L45.9063,61.0469 L47.5313,61.0469 Q48.7031,61.0469 49.1719,60.6563 Q49.6406,60.25 49.6406,59.25 Q49.6406,58.25 49.1406,57.8125 Q48.6563,57.375 47.5313,57.375 L45.9063,57.375 Z M45.9063,52.5469 L45.9063,55.4219 L47.5313,55.4219 Q48.4531,55.4219 48.8438,55.0938 Q49.25,54.75 49.25,54 Q49.25,53.2344 48.8438,52.8906 Q48.4375,52.5469 47.5313,52.5469 L45.9063,52.5469 Z M43.5313,50.5938 L47.5313,50.5938 Q49.5938,50.5938 50.6406,51.375 Q51.6875,52.1563 51.6875,53.7188 Q51.6875,54.9219 51.0625,55.5938 Q50.4531,56.2656 49.2656,56.375 Q50.6875,56.5156 51.4063,57.3281 Q52.125,58.1406 52.125,59.5938 Q52.125,61.3906 51.0469,62.2031 Q49.9688,63 47.5313,63 L43.5313,63 L43.5313,50.5938 Z \"/><text fill=\"#000000\" font-family=\"sans-serif\" font-size=\"12\" lengthAdjust=\"spacingAndGlyphs\" textLength=\"8\" x=\"61\" y=\"61.1543\">A</text><line style=\"stroke: #A80036; stroke-width: 1.5;\" x1=\"33\" x2=\"71\" y1=\"73\" y2=\"73\"/></a><!--MD5=[b6cd2959d188e5514be34bed35ea6787]\n",
       "@startuml\r\n",
       " \r\n",
       "package \"P1\" as E1  [[psysml:69fdc022-558c-4011-bfcd-169949e10b0a ]]  {\r\n",
       "comp def \"A\" as E2  << (B,green) >> [[psysml:08e39b9c-1214-494c-92d3-7191dfc940fc ]] {\r\n",
       "}\r\n",
       "}\r\n",
       "@enduml\r\n",
       "\n",
       "PlantUML version 1.2020.13(Sat Jun 13 12:26:38 UTC 2020)\n",
       "(EPL source distribution)\n",
       "Java Runtime: OpenJDK Runtime Environment\n",
       "JVM: OpenJDK 64-Bit Server VM\n",
       "Default Encoding: UTF-8\n",
       "Language: en\n",
       "Country: null\n",
       "--></g></svg>"
      ]
     },
     "execution_count": 30,
     "metadata": {},
     "output_type": "execute_result"
    }
   ],
   "source": [
    "%viz --style=\"PLANTUML\" --view=\"Default\" \"P1\""
   ]
  },
  {
   "cell_type": "code",
   "execution_count": 31,
   "id": "environmental-hostel",
   "metadata": {
    "execution": {
     "iopub.execute_input": "2021-03-25T14:20:34.125119Z",
     "iopub.status.busy": "2021-03-25T14:20:34.124045Z",
     "iopub.status.idle": "2021-03-25T14:20:34.152388Z",
     "shell.execute_reply": "2021-03-25T14:20:34.152795Z"
    }
   },
   "outputs": [
    {
     "data": {
      "image/svg+xml": [
       "<?xml version=\"1.0\" encoding=\"UTF-8\" standalone=\"no\"?><svg xmlns=\"http://www.w3.org/2000/svg\" xmlns:xlink=\"http://www.w3.org/1999/xlink\" contentScriptType=\"application/ecmascript\" contentStyleType=\"text/css\" height=\"109px\" preserveAspectRatio=\"none\" style=\"width:110px;height:109px;\" version=\"1.1\" viewBox=\"0 0 110 109\" width=\"110px\" zoomAndPan=\"magnify\"><defs><filter height=\"300%\" id=\"fzae528cx1vrx\" width=\"300%\" x=\"-1\" y=\"-1\"><feGaussianBlur result=\"blurOut\" stdDeviation=\"2.0\"/><feColorMatrix in=\"blurOut\" result=\"blurOut2\" type=\"matrix\" values=\"0 0 0 0 0 0 0 0 0 0 0 0 0 0 0 0 0 0 .4 0\"/><feOffset dx=\"4.0\" dy=\"4.0\" in=\"blurOut2\" result=\"blurOut3\"/><feBlend in=\"SourceGraphic\" in2=\"blurOut3\" mode=\"normal\"/></filter></defs><g><!--MD5=[fbc87193dbaf4d95561dea2c320d4a47]\n",
       "cluster E1--><a href=\"psysml:69fdc022-558c-4011-bfcd-169949e10b0a\" target=\"_top\" title=\"psysml:69fdc022-558c-4011-bfcd-169949e10b0a\" xlink:actuate=\"onRequest\" xlink:href=\"psysml:69fdc022-558c-4011-bfcd-169949e10b0a\" xlink:show=\"new\" xlink:title=\"psysml:69fdc022-558c-4011-bfcd-169949e10b0a\" xlink:type=\"simple\"><polygon fill=\"#FFFFFF\" filter=\"url(#fzae528cx1vrx)\" points=\"16,6,42,6,49,28.2969,88,28.2969,88,97,16,97,16,6\" style=\"stroke: #000000; stroke-width: 1.5;\"/><line style=\"stroke: #000000; stroke-width: 1.5;\" x1=\"16\" x2=\"49\" y1=\"28.2969\" y2=\"28.2969\"/><text fill=\"#000000\" font-family=\"sans-serif\" font-size=\"14\" font-weight=\"bold\" lengthAdjust=\"spacingAndGlyphs\" textLength=\"20\" x=\"20\" y=\"20.9951\">P1</text></a><!--MD5=[b4997ac47864f28c2f74865a473b2911]\n",
       "class E2--><a href=\"psysml:08e39b9c-1214-494c-92d3-7191dfc940fc\" target=\"_top\" title=\"psysml:08e39b9c-1214-494c-92d3-7191dfc940fc\" xlink:actuate=\"onRequest\" xlink:href=\"psysml:08e39b9c-1214-494c-92d3-7191dfc940fc\" xlink:show=\"new\" xlink:title=\"psysml:08e39b9c-1214-494c-92d3-7191dfc940fc\" xlink:type=\"simple\"><rect fill=\"#FEFECE\" filter=\"url(#fzae528cx1vrx)\" height=\"40\" id=\"E2\" style=\"stroke: #A80036; stroke-width: 1.5;\" width=\"40\" x=\"32\" y=\"41\"/><ellipse cx=\"47\" cy=\"57\" fill=\"#008000\" rx=\"11\" ry=\"11\" style=\"stroke: #A80036; stroke-width: 1.0;\"/><path d=\"M45.9063,57.375 L45.9063,61.0469 L47.5313,61.0469 Q48.7031,61.0469 49.1719,60.6563 Q49.6406,60.25 49.6406,59.25 Q49.6406,58.25 49.1406,57.8125 Q48.6563,57.375 47.5313,57.375 L45.9063,57.375 Z M45.9063,52.5469 L45.9063,55.4219 L47.5313,55.4219 Q48.4531,55.4219 48.8438,55.0938 Q49.25,54.75 49.25,54 Q49.25,53.2344 48.8438,52.8906 Q48.4375,52.5469 47.5313,52.5469 L45.9063,52.5469 Z M43.5313,50.5938 L47.5313,50.5938 Q49.5938,50.5938 50.6406,51.375 Q51.6875,52.1563 51.6875,53.7188 Q51.6875,54.9219 51.0625,55.5938 Q50.4531,56.2656 49.2656,56.375 Q50.6875,56.5156 51.4063,57.3281 Q52.125,58.1406 52.125,59.5938 Q52.125,61.3906 51.0469,62.2031 Q49.9688,63 47.5313,63 L43.5313,63 L43.5313,50.5938 Z \"/><text fill=\"#000000\" font-family=\"sans-serif\" font-size=\"12\" lengthAdjust=\"spacingAndGlyphs\" textLength=\"8\" x=\"61\" y=\"61.1543\">A</text><line style=\"stroke: #A80036; stroke-width: 1.5;\" x1=\"33\" x2=\"71\" y1=\"73\" y2=\"73\"/></a><!--MD5=[b6cd2959d188e5514be34bed35ea6787]\n",
       "@startuml\r\n",
       " \r\n",
       "package \"P1\" as E1  [[psysml:69fdc022-558c-4011-bfcd-169949e10b0a ]]  {\r\n",
       "comp def \"A\" as E2  << (B,green) >> [[psysml:08e39b9c-1214-494c-92d3-7191dfc940fc ]] {\r\n",
       "}\r\n",
       "}\r\n",
       "@enduml\r\n",
       "\n",
       "PlantUML version 1.2020.13(Sat Jun 13 12:26:38 UTC 2020)\n",
       "(EPL source distribution)\n",
       "Java Runtime: OpenJDK Runtime Environment\n",
       "JVM: OpenJDK 64-Bit Server VM\n",
       "Default Encoding: UTF-8\n",
       "Language: en\n",
       "Country: null\n",
       "--></g></svg>"
      ]
     },
     "execution_count": 31,
     "metadata": {},
     "output_type": "execute_result"
    }
   ],
   "source": [
    "%viz --style=\"PLANTUML\" --view=\"Tree\" \"P1\""
   ]
  },
  {
   "cell_type": "code",
   "execution_count": 32,
   "id": "vulnerable-deposit",
   "metadata": {
    "execution": {
     "iopub.execute_input": "2021-03-25T14:20:34.205799Z",
     "iopub.status.busy": "2021-03-25T14:20:34.204875Z",
     "iopub.status.idle": "2021-03-25T14:20:35.102246Z",
     "shell.execute_reply": "2021-03-25T14:20:35.101535Z"
    }
   },
   "outputs": [
    {
     "data": {
      "image/svg+xml": [
       "<?xml version=\"1.0\" encoding=\"UTF-8\" standalone=\"no\"?><svg xmlns=\"http://www.w3.org/2000/svg\" xmlns:xlink=\"http://www.w3.org/1999/xlink\" contentScriptType=\"application/ecmascript\" contentStyleType=\"text/css\" height=\"303px\" preserveAspectRatio=\"none\" style=\"width:603px;height:303px;background:#000000;\" version=\"1.1\" viewBox=\"0 0 603 303\" width=\"603px\" zoomAndPan=\"magnify\"><defs/><g><rect fill=\"#131721\" height=\"1\" style=\"stroke: #131721; stroke-width: 1.0;\" width=\"1\" x=\"0\" y=\"0\"/><rect fill=\"#FFFFFF\" height=\"205.5625\" style=\"stroke: #FFFFFF; stroke-width: 1.0;\" width=\"602\" x=\"0\" y=\"0\"/><text fill=\"#000000\" font-family=\"sans-serif\" font-size=\"12\" font-weight=\"bold\" lengthAdjust=\"spacingAndGlyphs\" textLength=\"159\" x=\"5\" y=\"16.1387\">Welcome to PlantUML!</text><text fill=\"#000000\" font-family=\"sans-serif\" font-size=\"12\" lengthAdjust=\"spacingAndGlyphs\" textLength=\"0\" x=\"9\" y=\"30.1074\"/><text fill=\"#000000\" font-family=\"sans-serif\" font-size=\"12\" lengthAdjust=\"spacingAndGlyphs\" textLength=\"293\" x=\"5\" y=\"44.0762\">If you use this software, you accept its license.</text><text fill=\"#000000\" font-family=\"sans-serif\" font-size=\"12\" lengthAdjust=\"spacingAndGlyphs\" textLength=\"107\" x=\"5\" y=\"58.0449\">(details by typing</text><text fill=\"#000000\" font-family=\"monospace\" font-size=\"12\" lengthAdjust=\"spacingAndGlyphs\" textLength=\"49\" x=\"116\" y=\"58.0449\">license</text><text fill=\"#000000\" font-family=\"sans-serif\" font-size=\"12\" lengthAdjust=\"spacingAndGlyphs\" textLength=\"56\" x=\"169\" y=\"58.0449\">keyword)</text><text fill=\"#000000\" font-family=\"sans-serif\" font-size=\"12\" lengthAdjust=\"spacingAndGlyphs\" textLength=\"0\" x=\"9\" y=\"72.0137\"/><text fill=\"#000000\" font-family=\"sans-serif\" font-size=\"12\" lengthAdjust=\"spacingAndGlyphs\" textLength=\"283\" x=\"5\" y=\"85.9824\">You can start with a simple UML Diagram like:</text><text fill=\"#000000\" font-family=\"sans-serif\" font-size=\"12\" lengthAdjust=\"spacingAndGlyphs\" textLength=\"0\" x=\"9\" y=\"99.9512\"/><text fill=\"#000000\" font-family=\"monospace\" font-size=\"12\" lengthAdjust=\"spacingAndGlyphs\" textLength=\"119\" x=\"5\" y=\"113.9199\">Bob-&gt;Alice: Hello</text><text fill=\"#000000\" font-family=\"sans-serif\" font-size=\"12\" lengthAdjust=\"spacingAndGlyphs\" textLength=\"0\" x=\"9\" y=\"127.8887\"/><text fill=\"#000000\" font-family=\"sans-serif\" font-size=\"12\" lengthAdjust=\"spacingAndGlyphs\" textLength=\"14\" x=\"5\" y=\"141.8574\">Or</text><text fill=\"#000000\" font-family=\"sans-serif\" font-size=\"12\" lengthAdjust=\"spacingAndGlyphs\" textLength=\"0\" x=\"9\" y=\"155.8262\"/><text fill=\"#000000\" font-family=\"monospace\" font-size=\"12\" lengthAdjust=\"spacingAndGlyphs\" textLength=\"91\" x=\"5\" y=\"169.7949\">class Example</text><text fill=\"#000000\" font-family=\"sans-serif\" font-size=\"12\" lengthAdjust=\"spacingAndGlyphs\" textLength=\"0\" x=\"9\" y=\"183.7637\"/><text fill=\"#000000\" font-family=\"sans-serif\" font-size=\"12\" lengthAdjust=\"spacingAndGlyphs\" textLength=\"349\" x=\"5\" y=\"197.7324\">You will find more information about PlantUML syntax on</text><text fill=\"#000000\" font-family=\"sans-serif\" font-size=\"12\" lengthAdjust=\"spacingAndGlyphs\" text-decoration=\"underline\" textLength=\"129\" x=\"358\" y=\"197.7324\">https://plantuml.com</text><image height=\"71\" width=\"80\" x=\"516\" xlink:href=\"data:image/png;base64,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\" y=\"6\"/><rect fill=\"#000000\" height=\"96.4844\" style=\"stroke: #000000; stroke-width: 1.0;\" width=\"602\" x=\"0\" y=\"205.5625\"/><rect fill=\"#33FF02\" height=\"21.2969\" style=\"stroke: #33FF02; stroke-width: 1.0;\" width=\"170\" x=\"5\" y=\"210.5625\"/><text fill=\"#000000\" font-family=\"sans-serif\" font-size=\"14\" font-weight=\"bold\" lengthAdjust=\"spacingAndGlyphs\" textLength=\"168\" x=\"6\" y=\"225.5625\">[From string (line 2) ]</text><text fill=\"#33FF02\" font-family=\"sans-serif\" font-size=\"14\" font-weight=\"bold\" lengthAdjust=\"spacingAndGlyphs\" textLength=\"0\" x=\"10\" y=\"245.8594\"/><text fill=\"#33FF02\" font-family=\"sans-serif\" font-size=\"14\" font-weight=\"bold\" lengthAdjust=\"spacingAndGlyphs\" textLength=\"79\" x=\"5\" y=\"262.1563\">@startuml</text><text fill=\"#33FF02\" font-family=\"sans-serif\" font-size=\"14\" font-weight=\"bold\" lengthAdjust=\"spacingAndGlyphs\" textLength=\"0\" x=\"10\" y=\"278.4531\"/><text fill=\"#FF0000\" font-family=\"sans-serif\" font-size=\"14\" font-weight=\"bold\" lengthAdjust=\"spacingAndGlyphs\" textLength=\"142\" x=\"10\" y=\"294.75\">Empty description</text><!--MD5=[f59edd8218d337f74d0c332fc6737304]\n",
       "@startuml\r\n",
       " \r\n",
       "@enduml\r\n",
       "\n",
       "PlantUML version 1.2020.13(Sat Jun 13 12:26:38 UTC 2020)\n",
       "(EPL source distribution)\n",
       "Java Runtime: OpenJDK Runtime Environment\n",
       "JVM: OpenJDK 64-Bit Server VM\n",
       "Default Encoding: UTF-8\n",
       "Language: en\n",
       "Country: null\n",
       "--></g></svg>"
      ]
     },
     "execution_count": 32,
     "metadata": {},
     "output_type": "execute_result"
    }
   ],
   "source": [
    "%viz --style=\"PLANTUML\" --view=\"State\" \"P1\""
   ]
  },
  {
   "cell_type": "code",
   "execution_count": 33,
   "id": "voluntary-carry",
   "metadata": {
    "execution": {
     "iopub.execute_input": "2021-03-25T14:20:35.154226Z",
     "iopub.status.busy": "2021-03-25T14:20:35.153055Z",
     "iopub.status.idle": "2021-03-25T14:20:35.184811Z",
     "shell.execute_reply": "2021-03-25T14:20:35.184470Z"
    }
   },
   "outputs": [
    {
     "data": {
      "image/svg+xml": [
       "<?xml version=\"1.0\" encoding=\"UTF-8\" standalone=\"no\"?><svg xmlns=\"http://www.w3.org/2000/svg\" xmlns:xlink=\"http://www.w3.org/1999/xlink\" contentScriptType=\"application/ecmascript\" contentStyleType=\"text/css\" height=\"109px\" preserveAspectRatio=\"none\" style=\"width:120px;height:109px;\" version=\"1.1\" viewBox=\"0 0 120 109\" width=\"120px\" zoomAndPan=\"magnify\"><defs><filter height=\"300%\" id=\"f1epfi4ws0l39v\" width=\"300%\" x=\"-1\" y=\"-1\"><feGaussianBlur result=\"blurOut\" stdDeviation=\"2.0\"/><feColorMatrix in=\"blurOut\" result=\"blurOut2\" type=\"matrix\" values=\"0 0 0 0 0 0 0 0 0 0 0 0 0 0 0 0 0 0 .4 0\"/><feOffset dx=\"4.0\" dy=\"4.0\" in=\"blurOut2\" result=\"blurOut3\"/><feBlend in=\"SourceGraphic\" in2=\"blurOut3\" mode=\"normal\"/></filter></defs><g><!--MD5=[fbc87193dbaf4d95561dea2c320d4a47]\n",
       "cluster E1--><a href=\"psysml:69fdc022-558c-4011-bfcd-169949e10b0a\" target=\"_top\" title=\"psysml:69fdc022-558c-4011-bfcd-169949e10b0a\" xlink:actuate=\"onRequest\" xlink:href=\"psysml:69fdc022-558c-4011-bfcd-169949e10b0a\" xlink:show=\"new\" xlink:title=\"psysml:69fdc022-558c-4011-bfcd-169949e10b0a\" xlink:type=\"simple\"><polygon fill=\"#FFFFFF\" filter=\"url(#f1epfi4ws0l39v)\" points=\"16,6,42,6,49,28.2969,98,28.2969,98,97,16,97,16,6\" style=\"stroke: #000000; stroke-width: 1.5;\"/><line style=\"stroke: #000000; stroke-width: 1.5;\" x1=\"16\" x2=\"49\" y1=\"28.2969\" y2=\"28.2969\"/><text fill=\"#000000\" font-family=\"sans-serif\" font-size=\"14\" font-weight=\"bold\" lengthAdjust=\"spacingAndGlyphs\" textLength=\"20\" x=\"20\" y=\"20.9951\">P1</text></a><g id=\"E1.E2\"><a href=\"psysml:08e39b9c-1214-494c-92d3-7191dfc940fc\" target=\"_top\" title=\"psysml:08e39b9c-1214-494c-92d3-7191dfc940fc\" xlink:actuate=\"onRequest\" xlink:href=\"psysml:08e39b9c-1214-494c-92d3-7191dfc940fc\" xlink:show=\"new\" xlink:title=\"psysml:08e39b9c-1214-494c-92d3-7191dfc940fc\" xlink:type=\"simple\"><rect fill=\"#FEFECE\" filter=\"url(#f1epfi4ws0l39v)\" height=\"40\" id=\"E2\" style=\"stroke: #A80036; stroke-width: 1.5;\" width=\"50\" x=\"32\" y=\"41\"/><ellipse cx=\"51.5\" cy=\"57\" fill=\"#008000\" rx=\"11\" ry=\"11\" style=\"stroke: #A80036; stroke-width: 1.0;\"/><path d=\"M50.4063,57.375 L50.4063,61.0469 L52.0313,61.0469 Q53.2031,61.0469 53.6719,60.6563 Q54.1406,60.25 54.1406,59.25 Q54.1406,58.25 53.6406,57.8125 Q53.1563,57.375 52.0313,57.375 L50.4063,57.375 Z M50.4063,52.5469 L50.4063,55.4219 L52.0313,55.4219 Q52.9531,55.4219 53.3438,55.0938 Q53.75,54.75 53.75,54 Q53.75,53.2344 53.3438,52.8906 Q52.9375,52.5469 52.0313,52.5469 L50.4063,52.5469 Z M48.0313,50.5938 L52.0313,50.5938 Q54.0938,50.5938 55.1406,51.375 Q56.1875,52.1563 56.1875,53.7188 Q56.1875,54.9219 55.5625,55.5938 Q54.9531,56.2656 53.7656,56.375 Q55.1875,56.5156 55.9063,57.3281 Q56.625,58.1406 56.625,59.5938 Q56.625,61.3906 55.5469,62.2031 Q54.4688,63 52.0313,63 L48.0313,63 L48.0313,50.5938 Z \"/><text fill=\"#000000\" font-family=\"sans-serif\" font-size=\"12\" lengthAdjust=\"spacingAndGlyphs\" textLength=\"8\" x=\"66.5\" y=\"61.1543\">A</text></a></g><!--MD5=[f9d971d888afa56842fdd10e6757c138]\n",
       "@startuml\r\n",
       "skinparam ranksep 10\r\n",
       "skinparam rectangle {\r\n",
       " backgroundColor<<block>> LightGreen\r\n",
       "}\r\n",
       " \r\n",
       "package \"P1\" as E1  [[psysml:69fdc022-558c-4011-bfcd-169949e10b0a ]]  {\r\n",
       "rec def \"A\" as E2  << (B,green) >> [[psysml:08e39b9c-1214-494c-92d3-7191dfc940fc ]] {\r\n",
       "}\r\n",
       "}\r\n",
       "@enduml\r\n",
       "\n",
       "PlantUML version 1.2020.13(Sat Jun 13 12:26:38 UTC 2020)\n",
       "(EPL source distribution)\n",
       "Java Runtime: OpenJDK Runtime Environment\n",
       "JVM: OpenJDK 64-Bit Server VM\n",
       "Default Encoding: UTF-8\n",
       "Language: en\n",
       "Country: null\n",
       "--></g></svg>"
      ]
     },
     "execution_count": 33,
     "metadata": {},
     "output_type": "execute_result"
    }
   ],
   "source": [
    "%viz --style=\"PLANTUML\" --view=\"Interconnection\" \"P1\""
   ]
  },
  {
   "cell_type": "code",
   "execution_count": 34,
   "id": "twenty-server",
   "metadata": {
    "execution": {
     "iopub.execute_input": "2021-03-25T14:20:35.236407Z",
     "iopub.status.busy": "2021-03-25T14:20:35.235547Z",
     "iopub.status.idle": "2021-03-25T14:20:35.242683Z",
     "shell.execute_reply": "2021-03-25T14:20:35.241978Z"
    }
   },
   "outputs": [
    {
     "data": {
      "image/svg+xml": [
       "<?xml version=\"1.0\" encoding=\"UTF-8\" standalone=\"no\"?><svg xmlns=\"http://www.w3.org/2000/svg\" xmlns:xlink=\"http://www.w3.org/1999/xlink\" contentScriptType=\"application/ecmascript\" contentStyleType=\"text/css\" height=\"12px\" preserveAspectRatio=\"none\" style=\"width:12px;height:12px;\" version=\"1.1\" viewBox=\"0 0 12 12\" width=\"12px\" zoomAndPan=\"magnify\"><defs/><g><!--MD5=[6a4cb978cab31700e1ce5529f947a75d]\n",
       "@startuml\r\n",
       "skinparam ranksep 8\r\n",
       " \r\n",
       "@enduml\r\n",
       "\n",
       "PlantUML version 1.2020.13(Sat Jun 13 12:26:38 UTC 2020)\n",
       "(EPL source distribution)\n",
       "Java Runtime: OpenJDK Runtime Environment\n",
       "JVM: OpenJDK 64-Bit Server VM\n",
       "Default Encoding: UTF-8\n",
       "Language: en\n",
       "Country: null\n",
       "--></g></svg>"
      ]
     },
     "execution_count": 34,
     "metadata": {},
     "output_type": "execute_result"
    }
   ],
   "source": [
    "%viz --style=\"PLANTUML\" --view=\"Action\" \"P1\""
   ]
  },
  {
   "cell_type": "code",
   "execution_count": 35,
   "id": "sublime-abortion",
   "metadata": {
    "execution": {
     "iopub.execute_input": "2021-03-25T14:20:35.293889Z",
     "iopub.status.busy": "2021-03-25T14:20:35.292823Z",
     "iopub.status.idle": "2021-03-25T14:20:35.318370Z",
     "shell.execute_reply": "2021-03-25T14:20:35.318840Z"
    }
   },
   "outputs": [
    {
     "data": {
      "image/svg+xml": [
       "<?xml version=\"1.0\" encoding=\"UTF-8\" standalone=\"no\"?><svg xmlns=\"http://www.w3.org/2000/svg\" xmlns:xlink=\"http://www.w3.org/1999/xlink\" contentScriptType=\"application/ecmascript\" contentStyleType=\"text/css\" height=\"109px\" preserveAspectRatio=\"none\" style=\"width:110px;height:109px;\" version=\"1.1\" viewBox=\"0 0 110 109\" width=\"110px\" zoomAndPan=\"magnify\"><defs><filter height=\"300%\" id=\"fzae528cx1vrx\" width=\"300%\" x=\"-1\" y=\"-1\"><feGaussianBlur result=\"blurOut\" stdDeviation=\"2.0\"/><feColorMatrix in=\"blurOut\" result=\"blurOut2\" type=\"matrix\" values=\"0 0 0 0 0 0 0 0 0 0 0 0 0 0 0 0 0 0 .4 0\"/><feOffset dx=\"4.0\" dy=\"4.0\" in=\"blurOut2\" result=\"blurOut3\"/><feBlend in=\"SourceGraphic\" in2=\"blurOut3\" mode=\"normal\"/></filter></defs><g><!--MD5=[fbc87193dbaf4d95561dea2c320d4a47]\n",
       "cluster E1--><a href=\"psysml:69fdc022-558c-4011-bfcd-169949e10b0a\" target=\"_top\" title=\"psysml:69fdc022-558c-4011-bfcd-169949e10b0a\" xlink:actuate=\"onRequest\" xlink:href=\"psysml:69fdc022-558c-4011-bfcd-169949e10b0a\" xlink:show=\"new\" xlink:title=\"psysml:69fdc022-558c-4011-bfcd-169949e10b0a\" xlink:type=\"simple\"><polygon fill=\"#FFFFFF\" filter=\"url(#fzae528cx1vrx)\" points=\"16,6,42,6,49,28.2969,88,28.2969,88,97,16,97,16,6\" style=\"stroke: #000000; stroke-width: 1.5;\"/><line style=\"stroke: #000000; stroke-width: 1.5;\" x1=\"16\" x2=\"49\" y1=\"28.2969\" y2=\"28.2969\"/><text fill=\"#000000\" font-family=\"sans-serif\" font-size=\"14\" font-weight=\"bold\" lengthAdjust=\"spacingAndGlyphs\" textLength=\"20\" x=\"20\" y=\"20.9951\">P1</text></a><!--MD5=[b4997ac47864f28c2f74865a473b2911]\n",
       "class E2--><a href=\"psysml:08e39b9c-1214-494c-92d3-7191dfc940fc\" target=\"_top\" title=\"psysml:08e39b9c-1214-494c-92d3-7191dfc940fc\" xlink:actuate=\"onRequest\" xlink:href=\"psysml:08e39b9c-1214-494c-92d3-7191dfc940fc\" xlink:show=\"new\" xlink:title=\"psysml:08e39b9c-1214-494c-92d3-7191dfc940fc\" xlink:type=\"simple\"><rect fill=\"#FEFECE\" filter=\"url(#fzae528cx1vrx)\" height=\"40\" id=\"E2\" style=\"stroke: #A80036; stroke-width: 1.5;\" width=\"40\" x=\"32\" y=\"41\"/><ellipse cx=\"47\" cy=\"57\" fill=\"#008000\" rx=\"11\" ry=\"11\" style=\"stroke: #A80036; stroke-width: 1.0;\"/><path d=\"M45.9063,57.375 L45.9063,61.0469 L47.5313,61.0469 Q48.7031,61.0469 49.1719,60.6563 Q49.6406,60.25 49.6406,59.25 Q49.6406,58.25 49.1406,57.8125 Q48.6563,57.375 47.5313,57.375 L45.9063,57.375 Z M45.9063,52.5469 L45.9063,55.4219 L47.5313,55.4219 Q48.4531,55.4219 48.8438,55.0938 Q49.25,54.75 49.25,54 Q49.25,53.2344 48.8438,52.8906 Q48.4375,52.5469 47.5313,52.5469 L45.9063,52.5469 Z M43.5313,50.5938 L47.5313,50.5938 Q49.5938,50.5938 50.6406,51.375 Q51.6875,52.1563 51.6875,53.7188 Q51.6875,54.9219 51.0625,55.5938 Q50.4531,56.2656 49.2656,56.375 Q50.6875,56.5156 51.4063,57.3281 Q52.125,58.1406 52.125,59.5938 Q52.125,61.3906 51.0469,62.2031 Q49.9688,63 47.5313,63 L43.5313,63 L43.5313,50.5938 Z \"/><text fill=\"#000000\" font-family=\"sans-serif\" font-size=\"12\" lengthAdjust=\"spacingAndGlyphs\" textLength=\"8\" x=\"61\" y=\"61.1543\">A</text><line style=\"stroke: #A80036; stroke-width: 1.5;\" x1=\"33\" x2=\"71\" y1=\"73\" y2=\"73\"/></a><!--MD5=[b6cd2959d188e5514be34bed35ea6787]\n",
       "@startuml\r\n",
       " \r\n",
       "package \"P1\" as E1  [[psysml:69fdc022-558c-4011-bfcd-169949e10b0a ]]  {\r\n",
       "comp def \"A\" as E2  << (B,green) >> [[psysml:08e39b9c-1214-494c-92d3-7191dfc940fc ]] {\r\n",
       "}\r\n",
       "}\r\n",
       "@enduml\r\n",
       "\n",
       "PlantUML version 1.2020.13(Sat Jun 13 12:26:38 UTC 2020)\n",
       "(EPL source distribution)\n",
       "Java Runtime: OpenJDK Runtime Environment\n",
       "JVM: OpenJDK 64-Bit Server VM\n",
       "Default Encoding: UTF-8\n",
       "Language: en\n",
       "Country: null\n",
       "--></g></svg>"
      ]
     },
     "execution_count": 35,
     "metadata": {},
     "output_type": "execute_result"
    }
   ],
   "source": [
    "%viz --style=\"PLANTUML\" --view=\"Sequence\" \"P1\""
   ]
  },
  {
   "cell_type": "code",
   "execution_count": 36,
   "id": "level-interstate",
   "metadata": {
    "execution": {
     "iopub.execute_input": "2021-03-25T14:20:35.369263Z",
     "iopub.status.busy": "2021-03-25T14:20:35.368658Z",
     "iopub.status.idle": "2021-03-25T14:20:35.393177Z",
     "shell.execute_reply": "2021-03-25T14:20:35.393610Z"
    }
   },
   "outputs": [
    {
     "data": {
      "image/svg+xml": [
       "<?xml version=\"1.0\" encoding=\"UTF-8\" standalone=\"no\"?><svg xmlns=\"http://www.w3.org/2000/svg\" xmlns:xlink=\"http://www.w3.org/1999/xlink\" contentScriptType=\"application/ecmascript\" contentStyleType=\"text/css\" height=\"109px\" preserveAspectRatio=\"none\" style=\"width:110px;height:109px;\" version=\"1.1\" viewBox=\"0 0 110 109\" width=\"110px\" zoomAndPan=\"magnify\"><defs><filter height=\"300%\" id=\"fzae528cx1vrx\" width=\"300%\" x=\"-1\" y=\"-1\"><feGaussianBlur result=\"blurOut\" stdDeviation=\"2.0\"/><feColorMatrix in=\"blurOut\" result=\"blurOut2\" type=\"matrix\" values=\"0 0 0 0 0 0 0 0 0 0 0 0 0 0 0 0 0 0 .4 0\"/><feOffset dx=\"4.0\" dy=\"4.0\" in=\"blurOut2\" result=\"blurOut3\"/><feBlend in=\"SourceGraphic\" in2=\"blurOut3\" mode=\"normal\"/></filter></defs><g><!--MD5=[fbc87193dbaf4d95561dea2c320d4a47]\n",
       "cluster E1--><a href=\"psysml:69fdc022-558c-4011-bfcd-169949e10b0a\" target=\"_top\" title=\"psysml:69fdc022-558c-4011-bfcd-169949e10b0a\" xlink:actuate=\"onRequest\" xlink:href=\"psysml:69fdc022-558c-4011-bfcd-169949e10b0a\" xlink:show=\"new\" xlink:title=\"psysml:69fdc022-558c-4011-bfcd-169949e10b0a\" xlink:type=\"simple\"><polygon fill=\"#FFFFFF\" filter=\"url(#fzae528cx1vrx)\" points=\"16,6,42,6,49,28.2969,88,28.2969,88,97,16,97,16,6\" style=\"stroke: #000000; stroke-width: 1.5;\"/><line style=\"stroke: #000000; stroke-width: 1.5;\" x1=\"16\" x2=\"49\" y1=\"28.2969\" y2=\"28.2969\"/><text fill=\"#000000\" font-family=\"sans-serif\" font-size=\"14\" font-weight=\"bold\" lengthAdjust=\"spacingAndGlyphs\" textLength=\"20\" x=\"20\" y=\"20.9951\">P1</text></a><!--MD5=[b4997ac47864f28c2f74865a473b2911]\n",
       "class E2--><a href=\"psysml:08e39b9c-1214-494c-92d3-7191dfc940fc\" target=\"_top\" title=\"psysml:08e39b9c-1214-494c-92d3-7191dfc940fc\" xlink:actuate=\"onRequest\" xlink:href=\"psysml:08e39b9c-1214-494c-92d3-7191dfc940fc\" xlink:show=\"new\" xlink:title=\"psysml:08e39b9c-1214-494c-92d3-7191dfc940fc\" xlink:type=\"simple\"><rect fill=\"#FEFECE\" filter=\"url(#fzae528cx1vrx)\" height=\"40\" id=\"E2\" style=\"stroke: #A80036; stroke-width: 1.5;\" width=\"40\" x=\"32\" y=\"41\"/><ellipse cx=\"47\" cy=\"57\" fill=\"#008000\" rx=\"11\" ry=\"11\" style=\"stroke: #A80036; stroke-width: 1.0;\"/><path d=\"M45.9063,57.375 L45.9063,61.0469 L47.5313,61.0469 Q48.7031,61.0469 49.1719,60.6563 Q49.6406,60.25 49.6406,59.25 Q49.6406,58.25 49.1406,57.8125 Q48.6563,57.375 47.5313,57.375 L45.9063,57.375 Z M45.9063,52.5469 L45.9063,55.4219 L47.5313,55.4219 Q48.4531,55.4219 48.8438,55.0938 Q49.25,54.75 49.25,54 Q49.25,53.2344 48.8438,52.8906 Q48.4375,52.5469 47.5313,52.5469 L45.9063,52.5469 Z M43.5313,50.5938 L47.5313,50.5938 Q49.5938,50.5938 50.6406,51.375 Q51.6875,52.1563 51.6875,53.7188 Q51.6875,54.9219 51.0625,55.5938 Q50.4531,56.2656 49.2656,56.375 Q50.6875,56.5156 51.4063,57.3281 Q52.125,58.1406 52.125,59.5938 Q52.125,61.3906 51.0469,62.2031 Q49.9688,63 47.5313,63 L43.5313,63 L43.5313,50.5938 Z \"/><text fill=\"#000000\" font-family=\"sans-serif\" font-size=\"12\" lengthAdjust=\"spacingAndGlyphs\" textLength=\"8\" x=\"61\" y=\"61.1543\">A</text><line style=\"stroke: #A80036; stroke-width: 1.5;\" x1=\"33\" x2=\"71\" y1=\"73\" y2=\"73\"/></a><!--MD5=[b6cd2959d188e5514be34bed35ea6787]\n",
       "@startuml\r\n",
       " \r\n",
       "package \"P1\" as E1  [[psysml:69fdc022-558c-4011-bfcd-169949e10b0a ]]  {\r\n",
       "comp def \"A\" as E2  << (B,green) >> [[psysml:08e39b9c-1214-494c-92d3-7191dfc940fc ]] {\r\n",
       "}\r\n",
       "}\r\n",
       "@enduml\r\n",
       "\n",
       "PlantUML version 1.2020.13(Sat Jun 13 12:26:38 UTC 2020)\n",
       "(EPL source distribution)\n",
       "Java Runtime: OpenJDK Runtime Environment\n",
       "JVM: OpenJDK 64-Bit Server VM\n",
       "Default Encoding: UTF-8\n",
       "Language: en\n",
       "Country: null\n",
       "--></g></svg>"
      ]
     },
     "execution_count": 36,
     "metadata": {},
     "output_type": "execute_result"
    }
   ],
   "source": [
    "%viz --style=\"PLANTUML\" --view=\"MIXED\" \"P1\""
   ]
  },
  {
   "cell_type": "code",
   "execution_count": 37,
   "id": "resistant-parker",
   "metadata": {
    "execution": {
     "iopub.execute_input": "2021-03-25T14:20:35.444155Z",
     "iopub.status.busy": "2021-03-25T14:20:35.443556Z",
     "iopub.status.idle": "2021-03-25T14:20:35.485471Z",
     "shell.execute_reply": "2021-03-25T14:20:35.485942Z"
    }
   },
   "outputs": [
    {
     "data": {
      "image/svg+xml": [
       "<?xml version=\"1.0\" encoding=\"UTF-8\" standalone=\"no\"?><svg xmlns=\"http://www.w3.org/2000/svg\" xmlns:xlink=\"http://www.w3.org/1999/xlink\" contentScriptType=\"application/ecmascript\" contentStyleType=\"text/css\" height=\"115px\" preserveAspectRatio=\"none\" style=\"width:136px;height:115px;\" version=\"1.1\" viewBox=\"0 0 136 115\" width=\"136px\" zoomAndPan=\"magnify\"><defs/><g><!--MD5=[fbc87193dbaf4d95561dea2c320d4a47]\n",
       "cluster E1--><a href=\"psysml:69fdc022-558c-4011-bfcd-169949e10b0a\" target=\"_top\" title=\"psysml:69fdc022-558c-4011-bfcd-169949e10b0a\" xlink:actuate=\"onRequest\" xlink:href=\"psysml:69fdc022-558c-4011-bfcd-169949e10b0a\" xlink:show=\"new\" xlink:title=\"psysml:69fdc022-558c-4011-bfcd-169949e10b0a\" xlink:type=\"simple\"><polygon fill=\"#FFFFFF\" points=\"16,6,42,6,49,28.2969,114,28.2969,114,103,16,103,16,6\" style=\"stroke: #000000; stroke-width: 1.5;\"/><line style=\"stroke: #000000; stroke-width: 1.5;\" x1=\"16\" x2=\"49\" y1=\"28.2969\" y2=\"28.2969\"/><text fill=\"#000000\" font-family=\"sans-serif\" font-size=\"14\" font-weight=\"bold\" lengthAdjust=\"spacingAndGlyphs\" textLength=\"20\" x=\"20\" y=\"20.9951\">P1</text></a><!--MD5=[b4997ac47864f28c2f74865a473b2911]\n",
       "class E2--><a href=\"psysml:08e39b9c-1214-494c-92d3-7191dfc940fc\" target=\"_top\" title=\"psysml:08e39b9c-1214-494c-92d3-7191dfc940fc\" xlink:actuate=\"onRequest\" xlink:href=\"psysml:08e39b9c-1214-494c-92d3-7191dfc940fc\" xlink:show=\"new\" xlink:title=\"psysml:08e39b9c-1214-494c-92d3-7191dfc940fc\" xlink:type=\"simple\"><rect fill=\"#FFFFFF\" height=\"45.9375\" id=\"E2\" style=\"stroke: #383838; stroke-width: 1.5;\" width=\"66\" x=\"32\" y=\"41\"/><text fill=\"#000000\" font-family=\"sans-serif\" font-size=\"12\" font-style=\"italic\" lengthAdjust=\"spacingAndGlyphs\" textLength=\"64\" x=\"33\" y=\"57.1387\">«part def»</text><text fill=\"#000000\" font-family=\"sans-serif\" font-size=\"12\" lengthAdjust=\"spacingAndGlyphs\" textLength=\"8\" x=\"61\" y=\"71.1074\">A</text><line style=\"stroke: #383838; stroke-width: 1.5;\" x1=\"33\" x2=\"97\" y1=\"78.9375\" y2=\"78.9375\"/></a><!--MD5=[b7576f9ebe63ce3c82aa7fa2e6c51bed]\n",
       "@startuml\r\n",
       "skinparam monochrome true\r\n",
       "skinparam classbackgroundcolor white\r\n",
       "skinparam shadowing false\r\n",
       "skinparam wrapWidth 300\r\n",
       "hide circle\r\n",
       "\r\n",
       "package \"P1\" as E1  [[psysml:69fdc022-558c-4011-bfcd-169949e10b0a ]]  {\r\n",
       "comp def \"A\" as E2  <<(T,blue)part def>> [[psysml:08e39b9c-1214-494c-92d3-7191dfc940fc ]] {\r\n",
       "}\r\n",
       "}\r\n",
       "@enduml\r\n",
       "\n",
       "PlantUML version 1.2020.13(Sat Jun 13 12:26:38 UTC 2020)\n",
       "(EPL source distribution)\n",
       "Java Runtime: OpenJDK Runtime Environment\n",
       "JVM: OpenJDK 64-Bit Server VM\n",
       "Default Encoding: UTF-8\n",
       "Language: en\n",
       "Country: null\n",
       "--></g></svg>"
      ]
     },
     "execution_count": 37,
     "metadata": {},
     "output_type": "execute_result"
    }
   ],
   "source": [
    "%viz --style=\"DEFAULT\" --view=\"Default\" \"P1\""
   ]
  },
  {
   "cell_type": "code",
   "execution_count": 38,
   "id": "worldwide-astronomy",
   "metadata": {
    "execution": {
     "iopub.execute_input": "2021-03-25T14:20:35.536292Z",
     "iopub.status.busy": "2021-03-25T14:20:35.535744Z",
     "iopub.status.idle": "2021-03-25T14:20:35.570846Z",
     "shell.execute_reply": "2021-03-25T14:20:35.571345Z"
    }
   },
   "outputs": [
    {
     "data": {
      "image/svg+xml": [
       "<?xml version=\"1.0\" encoding=\"UTF-8\" standalone=\"no\"?><svg xmlns=\"http://www.w3.org/2000/svg\" xmlns:xlink=\"http://www.w3.org/1999/xlink\" contentScriptType=\"application/ecmascript\" contentStyleType=\"text/css\" height=\"115px\" preserveAspectRatio=\"none\" style=\"width:136px;height:115px;\" version=\"1.1\" viewBox=\"0 0 136 115\" width=\"136px\" zoomAndPan=\"magnify\"><defs/><g><!--MD5=[fbc87193dbaf4d95561dea2c320d4a47]\n",
       "cluster E1--><a href=\"psysml:69fdc022-558c-4011-bfcd-169949e10b0a\" target=\"_top\" title=\"psysml:69fdc022-558c-4011-bfcd-169949e10b0a\" xlink:actuate=\"onRequest\" xlink:href=\"psysml:69fdc022-558c-4011-bfcd-169949e10b0a\" xlink:show=\"new\" xlink:title=\"psysml:69fdc022-558c-4011-bfcd-169949e10b0a\" xlink:type=\"simple\"><polygon fill=\"#FFFFFF\" points=\"16,6,42,6,49,28.2969,114,28.2969,114,103,16,103,16,6\" style=\"stroke: #000000; stroke-width: 1.5;\"/><line style=\"stroke: #000000; stroke-width: 1.5;\" x1=\"16\" x2=\"49\" y1=\"28.2969\" y2=\"28.2969\"/><text fill=\"#000000\" font-family=\"sans-serif\" font-size=\"14\" font-weight=\"bold\" lengthAdjust=\"spacingAndGlyphs\" textLength=\"20\" x=\"20\" y=\"20.9951\">P1</text></a><!--MD5=[b4997ac47864f28c2f74865a473b2911]\n",
       "class E2--><a href=\"psysml:08e39b9c-1214-494c-92d3-7191dfc940fc\" target=\"_top\" title=\"psysml:08e39b9c-1214-494c-92d3-7191dfc940fc\" xlink:actuate=\"onRequest\" xlink:href=\"psysml:08e39b9c-1214-494c-92d3-7191dfc940fc\" xlink:show=\"new\" xlink:title=\"psysml:08e39b9c-1214-494c-92d3-7191dfc940fc\" xlink:type=\"simple\"><rect fill=\"#FFFFFF\" height=\"45.9375\" id=\"E2\" style=\"stroke: #383838; stroke-width: 1.5;\" width=\"66\" x=\"32\" y=\"41\"/><text fill=\"#000000\" font-family=\"sans-serif\" font-size=\"12\" font-style=\"italic\" lengthAdjust=\"spacingAndGlyphs\" textLength=\"64\" x=\"33\" y=\"57.1387\">«part def»</text><text fill=\"#000000\" font-family=\"sans-serif\" font-size=\"12\" lengthAdjust=\"spacingAndGlyphs\" textLength=\"8\" x=\"61\" y=\"71.1074\">A</text><line style=\"stroke: #383838; stroke-width: 1.5;\" x1=\"33\" x2=\"97\" y1=\"78.9375\" y2=\"78.9375\"/></a><!--MD5=[b7576f9ebe63ce3c82aa7fa2e6c51bed]\n",
       "@startuml\r\n",
       "skinparam monochrome true\r\n",
       "skinparam classbackgroundcolor white\r\n",
       "skinparam shadowing false\r\n",
       "skinparam wrapWidth 300\r\n",
       "hide circle\r\n",
       "\r\n",
       "package \"P1\" as E1  [[psysml:69fdc022-558c-4011-bfcd-169949e10b0a ]]  {\r\n",
       "comp def \"A\" as E2  <<(T,blue)part def>> [[psysml:08e39b9c-1214-494c-92d3-7191dfc940fc ]] {\r\n",
       "}\r\n",
       "}\r\n",
       "@enduml\r\n",
       "\n",
       "PlantUML version 1.2020.13(Sat Jun 13 12:26:38 UTC 2020)\n",
       "(EPL source distribution)\n",
       "Java Runtime: OpenJDK Runtime Environment\n",
       "JVM: OpenJDK 64-Bit Server VM\n",
       "Default Encoding: UTF-8\n",
       "Language: en\n",
       "Country: null\n",
       "--></g></svg>"
      ]
     },
     "execution_count": 38,
     "metadata": {},
     "output_type": "execute_result"
    }
   ],
   "source": [
    "%viz --style=\"DEFAULT\" --view=\"Tree\" \"P1\""
   ]
  },
  {
   "cell_type": "code",
   "execution_count": 39,
   "id": "level-involvement",
   "metadata": {
    "execution": {
     "iopub.execute_input": "2021-03-25T14:20:35.624759Z",
     "iopub.status.busy": "2021-03-25T14:20:35.623941Z",
     "iopub.status.idle": "2021-03-25T14:20:35.632387Z",
     "shell.execute_reply": "2021-03-25T14:20:35.632790Z"
    }
   },
   "outputs": [
    {
     "data": {
      "image/svg+xml": [
       "<?xml version=\"1.0\" encoding=\"UTF-8\" standalone=\"no\"?><svg xmlns=\"http://www.w3.org/2000/svg\" xmlns:xlink=\"http://www.w3.org/1999/xlink\" contentScriptType=\"application/ecmascript\" contentStyleType=\"text/css\" height=\"12px\" preserveAspectRatio=\"none\" style=\"width:12px;height:12px;\" version=\"1.1\" viewBox=\"0 0 12 12\" width=\"12px\" zoomAndPan=\"magnify\"><defs/><g><!--MD5=[c5f280e076d0d61ccf4b0f27871bda1d]\n",
       "@startuml\r\n",
       "skinparam monochrome true\r\n",
       "skinparam classbackgroundcolor white\r\n",
       "skinparam shadowing false\r\n",
       "skinparam wrapWidth 300\r\n",
       "hide circle\r\n",
       "\r\n",
       "@enduml\r\n",
       "\n",
       "PlantUML version 1.2020.13(Sat Jun 13 12:26:38 UTC 2020)\n",
       "(EPL source distribution)\n",
       "Java Runtime: OpenJDK Runtime Environment\n",
       "JVM: OpenJDK 64-Bit Server VM\n",
       "Default Encoding: UTF-8\n",
       "Language: en\n",
       "Country: null\n",
       "--></g></svg>"
      ]
     },
     "execution_count": 39,
     "metadata": {},
     "output_type": "execute_result"
    }
   ],
   "source": [
    "%viz --style=\"DEFAULT\" --view=\"State\" \"P1\""
   ]
  },
  {
   "cell_type": "code",
   "execution_count": 40,
   "id": "disabled-buffer",
   "metadata": {
    "execution": {
     "iopub.execute_input": "2021-03-25T14:20:35.684523Z",
     "iopub.status.busy": "2021-03-25T14:20:35.683756Z",
     "iopub.status.idle": "2021-03-25T14:20:35.724273Z",
     "shell.execute_reply": "2021-03-25T14:20:35.723819Z"
    }
   },
   "outputs": [
    {
     "data": {
      "image/svg+xml": [
       "<?xml version=\"1.0\" encoding=\"UTF-8\" standalone=\"no\"?><svg xmlns=\"http://www.w3.org/2000/svg\" xmlns:xlink=\"http://www.w3.org/1999/xlink\" contentScriptType=\"application/ecmascript\" contentStyleType=\"text/css\" height=\"112px\" preserveAspectRatio=\"none\" style=\"width:142px;height:112px;\" version=\"1.1\" viewBox=\"0 0 142 112\" width=\"142px\" zoomAndPan=\"magnify\"><defs/><g><!--MD5=[fbc87193dbaf4d95561dea2c320d4a47]\n",
       "cluster E1--><a href=\"psysml:69fdc022-558c-4011-bfcd-169949e10b0a\" target=\"_top\" title=\"psysml:69fdc022-558c-4011-bfcd-169949e10b0a\" xlink:actuate=\"onRequest\" xlink:href=\"psysml:69fdc022-558c-4011-bfcd-169949e10b0a\" xlink:show=\"new\" xlink:title=\"psysml:69fdc022-558c-4011-bfcd-169949e10b0a\" xlink:type=\"simple\"><polygon fill=\"#FFFFFF\" points=\"16,6,42,6,49,28.2969,120,28.2969,120,100,16,100,16,6\" style=\"stroke: #000000; stroke-width: 1.5;\"/><line style=\"stroke: #000000; stroke-width: 1.5;\" x1=\"16\" x2=\"49\" y1=\"28.2969\" y2=\"28.2969\"/><text fill=\"#000000\" font-family=\"sans-serif\" font-size=\"14\" font-weight=\"bold\" lengthAdjust=\"spacingAndGlyphs\" textLength=\"20\" x=\"20\" y=\"20.9951\">P1</text></a><g id=\"E1.E2\"><a href=\"psysml:08e39b9c-1214-494c-92d3-7191dfc940fc\" target=\"_top\" title=\"psysml:08e39b9c-1214-494c-92d3-7191dfc940fc\" xlink:actuate=\"onRequest\" xlink:href=\"psysml:08e39b9c-1214-494c-92d3-7191dfc940fc\" xlink:show=\"new\" xlink:title=\"psysml:08e39b9c-1214-494c-92d3-7191dfc940fc\" xlink:type=\"simple\"><rect fill=\"#FFFFFF\" height=\"42.9375\" id=\"E2\" style=\"stroke: #383838; stroke-width: 1.5;\" width=\"71\" x=\"32.5\" y=\"41\"/><rect fill=\"#F8F8F8\" height=\"37.9375\" style=\"stroke: #383838; stroke-width: 1.5;\" width=\"71\" x=\"32.5\" y=\"41\"/><text fill=\"#000000\" font-family=\"sans-serif\" font-size=\"12\" font-style=\"italic\" lengthAdjust=\"spacingAndGlyphs\" textLength=\"64\" x=\"36\" y=\"57.1387\">«part def»</text><text fill=\"#000000\" font-family=\"sans-serif\" font-size=\"12\" lengthAdjust=\"spacingAndGlyphs\" textLength=\"8\" x=\"64\" y=\"71.1074\">A</text></a></g><!--MD5=[b5f06ade6c1987d8f5b00ba73597311f]\n",
       "@startuml\r\n",
       "skinparam ranksep 10\r\n",
       "skinparam rectangle {\r\n",
       " backgroundColor<<block>> LightGreen\r\n",
       "}\r\n",
       "skinparam monochrome true\r\n",
       "skinparam classbackgroundcolor white\r\n",
       "skinparam shadowing false\r\n",
       "skinparam wrapWidth 300\r\n",
       "hide circle\r\n",
       "\r\n",
       "package \"P1\" as E1  [[psysml:69fdc022-558c-4011-bfcd-169949e10b0a ]]  {\r\n",
       "rec def \"A\" as E2  <<(T,blue)part def>> [[psysml:08e39b9c-1214-494c-92d3-7191dfc940fc ]] {\r\n",
       "}\r\n",
       "}\r\n",
       "@enduml\r\n",
       "\n",
       "PlantUML version 1.2020.13(Sat Jun 13 12:26:38 UTC 2020)\n",
       "(EPL source distribution)\n",
       "Java Runtime: OpenJDK Runtime Environment\n",
       "JVM: OpenJDK 64-Bit Server VM\n",
       "Default Encoding: UTF-8\n",
       "Language: en\n",
       "Country: null\n",
       "--></g></svg>"
      ]
     },
     "execution_count": 40,
     "metadata": {},
     "output_type": "execute_result"
    }
   ],
   "source": [
    "%viz --style=\"DEFAULT\" --view=\"Interconnection\" \"P1\""
   ]
  },
  {
   "cell_type": "code",
   "execution_count": 41,
   "id": "handled-valley",
   "metadata": {
    "execution": {
     "iopub.execute_input": "2021-03-25T14:20:35.775283Z",
     "iopub.status.busy": "2021-03-25T14:20:35.774694Z",
     "iopub.status.idle": "2021-03-25T14:20:35.782576Z",
     "shell.execute_reply": "2021-03-25T14:20:35.782959Z"
    }
   },
   "outputs": [
    {
     "data": {
      "image/svg+xml": [
       "<?xml version=\"1.0\" encoding=\"UTF-8\" standalone=\"no\"?><svg xmlns=\"http://www.w3.org/2000/svg\" xmlns:xlink=\"http://www.w3.org/1999/xlink\" contentScriptType=\"application/ecmascript\" contentStyleType=\"text/css\" height=\"12px\" preserveAspectRatio=\"none\" style=\"width:12px;height:12px;\" version=\"1.1\" viewBox=\"0 0 12 12\" width=\"12px\" zoomAndPan=\"magnify\"><defs/><g><!--MD5=[388f21188e31bfdd97050473b19af356]\n",
       "@startuml\r\n",
       "skinparam ranksep 8\r\n",
       "skinparam monochrome true\r\n",
       "skinparam classbackgroundcolor white\r\n",
       "skinparam shadowing false\r\n",
       "skinparam wrapWidth 300\r\n",
       "hide circle\r\n",
       "\r\n",
       "@enduml\r\n",
       "\n",
       "PlantUML version 1.2020.13(Sat Jun 13 12:26:38 UTC 2020)\n",
       "(EPL source distribution)\n",
       "Java Runtime: OpenJDK Runtime Environment\n",
       "JVM: OpenJDK 64-Bit Server VM\n",
       "Default Encoding: UTF-8\n",
       "Language: en\n",
       "Country: null\n",
       "--></g></svg>"
      ]
     },
     "execution_count": 41,
     "metadata": {},
     "output_type": "execute_result"
    }
   ],
   "source": [
    "%viz --style=\"DEFAULT\" --view=\"Action\" \"P1\""
   ]
  },
  {
   "cell_type": "code",
   "execution_count": 42,
   "id": "confidential-summary",
   "metadata": {
    "execution": {
     "iopub.execute_input": "2021-03-25T14:20:35.834279Z",
     "iopub.status.busy": "2021-03-25T14:20:35.833786Z",
     "iopub.status.idle": "2021-03-25T14:20:35.870115Z",
     "shell.execute_reply": "2021-03-25T14:20:35.869722Z"
    }
   },
   "outputs": [
    {
     "data": {
      "image/svg+xml": [
       "<?xml version=\"1.0\" encoding=\"UTF-8\" standalone=\"no\"?><svg xmlns=\"http://www.w3.org/2000/svg\" xmlns:xlink=\"http://www.w3.org/1999/xlink\" contentScriptType=\"application/ecmascript\" contentStyleType=\"text/css\" height=\"115px\" preserveAspectRatio=\"none\" style=\"width:136px;height:115px;\" version=\"1.1\" viewBox=\"0 0 136 115\" width=\"136px\" zoomAndPan=\"magnify\"><defs/><g><!--MD5=[fbc87193dbaf4d95561dea2c320d4a47]\n",
       "cluster E1--><a href=\"psysml:69fdc022-558c-4011-bfcd-169949e10b0a\" target=\"_top\" title=\"psysml:69fdc022-558c-4011-bfcd-169949e10b0a\" xlink:actuate=\"onRequest\" xlink:href=\"psysml:69fdc022-558c-4011-bfcd-169949e10b0a\" xlink:show=\"new\" xlink:title=\"psysml:69fdc022-558c-4011-bfcd-169949e10b0a\" xlink:type=\"simple\"><polygon fill=\"#FFFFFF\" points=\"16,6,42,6,49,28.2969,114,28.2969,114,103,16,103,16,6\" style=\"stroke: #000000; stroke-width: 1.5;\"/><line style=\"stroke: #000000; stroke-width: 1.5;\" x1=\"16\" x2=\"49\" y1=\"28.2969\" y2=\"28.2969\"/><text fill=\"#000000\" font-family=\"sans-serif\" font-size=\"14\" font-weight=\"bold\" lengthAdjust=\"spacingAndGlyphs\" textLength=\"20\" x=\"20\" y=\"20.9951\">P1</text></a><!--MD5=[b4997ac47864f28c2f74865a473b2911]\n",
       "class E2--><a href=\"psysml:08e39b9c-1214-494c-92d3-7191dfc940fc\" target=\"_top\" title=\"psysml:08e39b9c-1214-494c-92d3-7191dfc940fc\" xlink:actuate=\"onRequest\" xlink:href=\"psysml:08e39b9c-1214-494c-92d3-7191dfc940fc\" xlink:show=\"new\" xlink:title=\"psysml:08e39b9c-1214-494c-92d3-7191dfc940fc\" xlink:type=\"simple\"><rect fill=\"#FFFFFF\" height=\"45.9375\" id=\"E2\" style=\"stroke: #383838; stroke-width: 1.5;\" width=\"66\" x=\"32\" y=\"41\"/><text fill=\"#000000\" font-family=\"sans-serif\" font-size=\"12\" font-style=\"italic\" lengthAdjust=\"spacingAndGlyphs\" textLength=\"64\" x=\"33\" y=\"57.1387\">«part def»</text><text fill=\"#000000\" font-family=\"sans-serif\" font-size=\"12\" lengthAdjust=\"spacingAndGlyphs\" textLength=\"8\" x=\"61\" y=\"71.1074\">A</text><line style=\"stroke: #383838; stroke-width: 1.5;\" x1=\"33\" x2=\"97\" y1=\"78.9375\" y2=\"78.9375\"/></a><!--MD5=[b7576f9ebe63ce3c82aa7fa2e6c51bed]\n",
       "@startuml\r\n",
       "skinparam monochrome true\r\n",
       "skinparam classbackgroundcolor white\r\n",
       "skinparam shadowing false\r\n",
       "skinparam wrapWidth 300\r\n",
       "hide circle\r\n",
       "\r\n",
       "package \"P1\" as E1  [[psysml:69fdc022-558c-4011-bfcd-169949e10b0a ]]  {\r\n",
       "comp def \"A\" as E2  <<(T,blue)part def>> [[psysml:08e39b9c-1214-494c-92d3-7191dfc940fc ]] {\r\n",
       "}\r\n",
       "}\r\n",
       "@enduml\r\n",
       "\n",
       "PlantUML version 1.2020.13(Sat Jun 13 12:26:38 UTC 2020)\n",
       "(EPL source distribution)\n",
       "Java Runtime: OpenJDK Runtime Environment\n",
       "JVM: OpenJDK 64-Bit Server VM\n",
       "Default Encoding: UTF-8\n",
       "Language: en\n",
       "Country: null\n",
       "--></g></svg>"
      ]
     },
     "execution_count": 42,
     "metadata": {},
     "output_type": "execute_result"
    }
   ],
   "source": [
    "%viz --style=\"DEFAULT\" --view=\"Sequence\" \"P1\""
   ]
  },
  {
   "cell_type": "code",
   "execution_count": 43,
   "id": "subtle-guess",
   "metadata": {
    "execution": {
     "iopub.execute_input": "2021-03-25T14:20:35.924500Z",
     "iopub.status.busy": "2021-03-25T14:20:35.923750Z",
     "iopub.status.idle": "2021-03-25T14:20:35.960072Z",
     "shell.execute_reply": "2021-03-25T14:20:35.960618Z"
    }
   },
   "outputs": [
    {
     "data": {
      "image/svg+xml": [
       "<?xml version=\"1.0\" encoding=\"UTF-8\" standalone=\"no\"?><svg xmlns=\"http://www.w3.org/2000/svg\" xmlns:xlink=\"http://www.w3.org/1999/xlink\" contentScriptType=\"application/ecmascript\" contentStyleType=\"text/css\" height=\"115px\" preserveAspectRatio=\"none\" style=\"width:136px;height:115px;\" version=\"1.1\" viewBox=\"0 0 136 115\" width=\"136px\" zoomAndPan=\"magnify\"><defs/><g><!--MD5=[fbc87193dbaf4d95561dea2c320d4a47]\n",
       "cluster E1--><a href=\"psysml:69fdc022-558c-4011-bfcd-169949e10b0a\" target=\"_top\" title=\"psysml:69fdc022-558c-4011-bfcd-169949e10b0a\" xlink:actuate=\"onRequest\" xlink:href=\"psysml:69fdc022-558c-4011-bfcd-169949e10b0a\" xlink:show=\"new\" xlink:title=\"psysml:69fdc022-558c-4011-bfcd-169949e10b0a\" xlink:type=\"simple\"><polygon fill=\"#FFFFFF\" points=\"16,6,42,6,49,28.2969,114,28.2969,114,103,16,103,16,6\" style=\"stroke: #000000; stroke-width: 1.5;\"/><line style=\"stroke: #000000; stroke-width: 1.5;\" x1=\"16\" x2=\"49\" y1=\"28.2969\" y2=\"28.2969\"/><text fill=\"#000000\" font-family=\"sans-serif\" font-size=\"14\" font-weight=\"bold\" lengthAdjust=\"spacingAndGlyphs\" textLength=\"20\" x=\"20\" y=\"20.9951\">P1</text></a><!--MD5=[b4997ac47864f28c2f74865a473b2911]\n",
       "class E2--><a href=\"psysml:08e39b9c-1214-494c-92d3-7191dfc940fc\" target=\"_top\" title=\"psysml:08e39b9c-1214-494c-92d3-7191dfc940fc\" xlink:actuate=\"onRequest\" xlink:href=\"psysml:08e39b9c-1214-494c-92d3-7191dfc940fc\" xlink:show=\"new\" xlink:title=\"psysml:08e39b9c-1214-494c-92d3-7191dfc940fc\" xlink:type=\"simple\"><rect fill=\"#FFFFFF\" height=\"45.9375\" id=\"E2\" style=\"stroke: #383838; stroke-width: 1.5;\" width=\"66\" x=\"32\" y=\"41\"/><text fill=\"#000000\" font-family=\"sans-serif\" font-size=\"12\" font-style=\"italic\" lengthAdjust=\"spacingAndGlyphs\" textLength=\"64\" x=\"33\" y=\"57.1387\">«part def»</text><text fill=\"#000000\" font-family=\"sans-serif\" font-size=\"12\" lengthAdjust=\"spacingAndGlyphs\" textLength=\"8\" x=\"61\" y=\"71.1074\">A</text><line style=\"stroke: #383838; stroke-width: 1.5;\" x1=\"33\" x2=\"97\" y1=\"78.9375\" y2=\"78.9375\"/></a><!--MD5=[b7576f9ebe63ce3c82aa7fa2e6c51bed]\n",
       "@startuml\r\n",
       "skinparam monochrome true\r\n",
       "skinparam classbackgroundcolor white\r\n",
       "skinparam shadowing false\r\n",
       "skinparam wrapWidth 300\r\n",
       "hide circle\r\n",
       "\r\n",
       "package \"P1\" as E1  [[psysml:69fdc022-558c-4011-bfcd-169949e10b0a ]]  {\r\n",
       "comp def \"A\" as E2  <<(T,blue)part def>> [[psysml:08e39b9c-1214-494c-92d3-7191dfc940fc ]] {\r\n",
       "}\r\n",
       "}\r\n",
       "@enduml\r\n",
       "\n",
       "PlantUML version 1.2020.13(Sat Jun 13 12:26:38 UTC 2020)\n",
       "(EPL source distribution)\n",
       "Java Runtime: OpenJDK Runtime Environment\n",
       "JVM: OpenJDK 64-Bit Server VM\n",
       "Default Encoding: UTF-8\n",
       "Language: en\n",
       "Country: null\n",
       "--></g></svg>"
      ]
     },
     "execution_count": 43,
     "metadata": {},
     "output_type": "execute_result"
    }
   ],
   "source": [
    "%viz --style=\"DEFAULT\" --view=\"MIXED\" \"P1\""
   ]
  },
  {
   "cell_type": "code",
   "execution_count": 44,
   "id": "vocational-marble",
   "metadata": {
    "execution": {
     "iopub.execute_input": "2021-03-25T14:20:36.010973Z",
     "iopub.status.busy": "2021-03-25T14:20:36.010463Z",
     "iopub.status.idle": "2021-03-25T14:20:36.044889Z",
     "shell.execute_reply": "2021-03-25T14:20:36.045604Z"
    }
   },
   "outputs": [
    {
     "data": {
      "image/svg+xml": [
       "<?xml version=\"1.0\" encoding=\"UTF-8\" standalone=\"no\"?><svg xmlns=\"http://www.w3.org/2000/svg\" xmlns:xlink=\"http://www.w3.org/1999/xlink\" contentScriptType=\"application/ecmascript\" contentStyleType=\"text/css\" height=\"115px\" preserveAspectRatio=\"none\" style=\"width:136px;height:115px;\" version=\"1.1\" viewBox=\"0 0 136 115\" width=\"136px\" zoomAndPan=\"magnify\"><defs/><g><!--MD5=[fbc87193dbaf4d95561dea2c320d4a47]\n",
       "cluster E1--><a href=\"psysml:69fdc022-558c-4011-bfcd-169949e10b0a\" target=\"_top\" title=\"psysml:69fdc022-558c-4011-bfcd-169949e10b0a\" xlink:actuate=\"onRequest\" xlink:href=\"psysml:69fdc022-558c-4011-bfcd-169949e10b0a\" xlink:show=\"new\" xlink:title=\"psysml:69fdc022-558c-4011-bfcd-169949e10b0a\" xlink:type=\"simple\"><polygon fill=\"#FFFFFF\" points=\"16,6,42,6,49,28.2969,114,28.2969,114,103,16,103,16,6\" style=\"stroke: #000000; stroke-width: 1.5;\"/><line style=\"stroke: #000000; stroke-width: 1.5;\" x1=\"16\" x2=\"49\" y1=\"28.2969\" y2=\"28.2969\"/><text fill=\"#000000\" font-family=\"sans-serif\" font-size=\"14\" font-weight=\"bold\" lengthAdjust=\"spacingAndGlyphs\" textLength=\"20\" x=\"20\" y=\"20.9951\">P1</text></a><!--MD5=[b4997ac47864f28c2f74865a473b2911]\n",
       "class E2--><a href=\"psysml:08e39b9c-1214-494c-92d3-7191dfc940fc\" target=\"_top\" title=\"psysml:08e39b9c-1214-494c-92d3-7191dfc940fc\" xlink:actuate=\"onRequest\" xlink:href=\"psysml:08e39b9c-1214-494c-92d3-7191dfc940fc\" xlink:show=\"new\" xlink:title=\"psysml:08e39b9c-1214-494c-92d3-7191dfc940fc\" xlink:type=\"simple\"><rect fill=\"#FFFFFF\" height=\"45.9375\" id=\"E2\" style=\"stroke: #383838; stroke-width: 1.5;\" width=\"66\" x=\"32\" y=\"41\"/><text fill=\"#000000\" font-family=\"sans-serif\" font-size=\"12\" font-style=\"italic\" lengthAdjust=\"spacingAndGlyphs\" textLength=\"64\" x=\"33\" y=\"57.1387\">«part def»</text><text fill=\"#000000\" font-family=\"sans-serif\" font-size=\"12\" lengthAdjust=\"spacingAndGlyphs\" textLength=\"8\" x=\"61\" y=\"71.1074\">A</text><line style=\"stroke: #383838; stroke-width: 1.5;\" x1=\"33\" x2=\"97\" y1=\"78.9375\" y2=\"78.9375\"/></a><!--MD5=[3ee0add5f47181684d5c973a963c635a]\n",
       "@startuml\r\n",
       "top to bottom direction\r\n",
       "skinparam monochrome true\r\n",
       "skinparam classbackgroundcolor white\r\n",
       "skinparam shadowing false\r\n",
       "skinparam wrapWidth 300\r\n",
       "hide circle\r\n",
       "\r\n",
       "package \"P1\" as E1  [[psysml:69fdc022-558c-4011-bfcd-169949e10b0a ]]  {\r\n",
       "comp def \"A\" as E2  <<(T,blue)part def>> [[psysml:08e39b9c-1214-494c-92d3-7191dfc940fc ]] {\r\n",
       "}\r\n",
       "}\r\n",
       "@enduml\r\n",
       "\n",
       "PlantUML version 1.2020.13(Sat Jun 13 12:26:38 UTC 2020)\n",
       "(EPL source distribution)\n",
       "Java Runtime: OpenJDK Runtime Environment\n",
       "JVM: OpenJDK 64-Bit Server VM\n",
       "Default Encoding: UTF-8\n",
       "Language: en\n",
       "Country: null\n",
       "--></g></svg>"
      ]
     },
     "execution_count": 44,
     "metadata": {},
     "output_type": "execute_result"
    }
   ],
   "source": [
    "%viz --style=\"TB\" --view=\"Default\" \"P1\""
   ]
  },
  {
   "cell_type": "code",
   "execution_count": 45,
   "id": "three-subdivision",
   "metadata": {
    "execution": {
     "iopub.execute_input": "2021-03-25T14:20:36.097562Z",
     "iopub.status.busy": "2021-03-25T14:20:36.096411Z",
     "iopub.status.idle": "2021-03-25T14:20:36.134366Z",
     "shell.execute_reply": "2021-03-25T14:20:36.133947Z"
    }
   },
   "outputs": [
    {
     "data": {
      "image/svg+xml": [
       "<?xml version=\"1.0\" encoding=\"UTF-8\" standalone=\"no\"?><svg xmlns=\"http://www.w3.org/2000/svg\" xmlns:xlink=\"http://www.w3.org/1999/xlink\" contentScriptType=\"application/ecmascript\" contentStyleType=\"text/css\" height=\"115px\" preserveAspectRatio=\"none\" style=\"width:136px;height:115px;\" version=\"1.1\" viewBox=\"0 0 136 115\" width=\"136px\" zoomAndPan=\"magnify\"><defs/><g><!--MD5=[fbc87193dbaf4d95561dea2c320d4a47]\n",
       "cluster E1--><a href=\"psysml:69fdc022-558c-4011-bfcd-169949e10b0a\" target=\"_top\" title=\"psysml:69fdc022-558c-4011-bfcd-169949e10b0a\" xlink:actuate=\"onRequest\" xlink:href=\"psysml:69fdc022-558c-4011-bfcd-169949e10b0a\" xlink:show=\"new\" xlink:title=\"psysml:69fdc022-558c-4011-bfcd-169949e10b0a\" xlink:type=\"simple\"><polygon fill=\"#FFFFFF\" points=\"16,6,42,6,49,28.2969,114,28.2969,114,103,16,103,16,6\" style=\"stroke: #000000; stroke-width: 1.5;\"/><line style=\"stroke: #000000; stroke-width: 1.5;\" x1=\"16\" x2=\"49\" y1=\"28.2969\" y2=\"28.2969\"/><text fill=\"#000000\" font-family=\"sans-serif\" font-size=\"14\" font-weight=\"bold\" lengthAdjust=\"spacingAndGlyphs\" textLength=\"20\" x=\"20\" y=\"20.9951\">P1</text></a><!--MD5=[b4997ac47864f28c2f74865a473b2911]\n",
       "class E2--><a href=\"psysml:08e39b9c-1214-494c-92d3-7191dfc940fc\" target=\"_top\" title=\"psysml:08e39b9c-1214-494c-92d3-7191dfc940fc\" xlink:actuate=\"onRequest\" xlink:href=\"psysml:08e39b9c-1214-494c-92d3-7191dfc940fc\" xlink:show=\"new\" xlink:title=\"psysml:08e39b9c-1214-494c-92d3-7191dfc940fc\" xlink:type=\"simple\"><rect fill=\"#FFFFFF\" height=\"45.9375\" id=\"E2\" style=\"stroke: #383838; stroke-width: 1.5;\" width=\"66\" x=\"32\" y=\"41\"/><text fill=\"#000000\" font-family=\"sans-serif\" font-size=\"12\" font-style=\"italic\" lengthAdjust=\"spacingAndGlyphs\" textLength=\"64\" x=\"33\" y=\"57.1387\">«part def»</text><text fill=\"#000000\" font-family=\"sans-serif\" font-size=\"12\" lengthAdjust=\"spacingAndGlyphs\" textLength=\"8\" x=\"61\" y=\"71.1074\">A</text><line style=\"stroke: #383838; stroke-width: 1.5;\" x1=\"33\" x2=\"97\" y1=\"78.9375\" y2=\"78.9375\"/></a><!--MD5=[3ee0add5f47181684d5c973a963c635a]\n",
       "@startuml\r\n",
       "top to bottom direction\r\n",
       "skinparam monochrome true\r\n",
       "skinparam classbackgroundcolor white\r\n",
       "skinparam shadowing false\r\n",
       "skinparam wrapWidth 300\r\n",
       "hide circle\r\n",
       "\r\n",
       "package \"P1\" as E1  [[psysml:69fdc022-558c-4011-bfcd-169949e10b0a ]]  {\r\n",
       "comp def \"A\" as E2  <<(T,blue)part def>> [[psysml:08e39b9c-1214-494c-92d3-7191dfc940fc ]] {\r\n",
       "}\r\n",
       "}\r\n",
       "@enduml\r\n",
       "\n",
       "PlantUML version 1.2020.13(Sat Jun 13 12:26:38 UTC 2020)\n",
       "(EPL source distribution)\n",
       "Java Runtime: OpenJDK Runtime Environment\n",
       "JVM: OpenJDK 64-Bit Server VM\n",
       "Default Encoding: UTF-8\n",
       "Language: en\n",
       "Country: null\n",
       "--></g></svg>"
      ]
     },
     "execution_count": 45,
     "metadata": {},
     "output_type": "execute_result"
    }
   ],
   "source": [
    "%viz --style=\"TB\" --view=\"Tree\" \"P1\""
   ]
  },
  {
   "cell_type": "code",
   "execution_count": 46,
   "id": "historic-valve",
   "metadata": {
    "execution": {
     "iopub.execute_input": "2021-03-25T14:20:36.185539Z",
     "iopub.status.busy": "2021-03-25T14:20:36.185014Z",
     "iopub.status.idle": "2021-03-25T14:20:36.193834Z",
     "shell.execute_reply": "2021-03-25T14:20:36.193446Z"
    }
   },
   "outputs": [
    {
     "data": {
      "image/svg+xml": [
       "<?xml version=\"1.0\" encoding=\"UTF-8\" standalone=\"no\"?><svg xmlns=\"http://www.w3.org/2000/svg\" xmlns:xlink=\"http://www.w3.org/1999/xlink\" contentScriptType=\"application/ecmascript\" contentStyleType=\"text/css\" height=\"12px\" preserveAspectRatio=\"none\" style=\"width:12px;height:12px;\" version=\"1.1\" viewBox=\"0 0 12 12\" width=\"12px\" zoomAndPan=\"magnify\"><defs/><g><!--MD5=[f4ee21bc66e489b5061b7c3e9601fdef]\n",
       "@startuml\r\n",
       "top to bottom direction\r\n",
       "skinparam monochrome true\r\n",
       "skinparam classbackgroundcolor white\r\n",
       "skinparam shadowing false\r\n",
       "skinparam wrapWidth 300\r\n",
       "hide circle\r\n",
       "\r\n",
       "@enduml\r\n",
       "\n",
       "PlantUML version 1.2020.13(Sat Jun 13 12:26:38 UTC 2020)\n",
       "(EPL source distribution)\n",
       "Java Runtime: OpenJDK Runtime Environment\n",
       "JVM: OpenJDK 64-Bit Server VM\n",
       "Default Encoding: UTF-8\n",
       "Language: en\n",
       "Country: null\n",
       "--></g></svg>"
      ]
     },
     "execution_count": 46,
     "metadata": {},
     "output_type": "execute_result"
    }
   ],
   "source": [
    "%viz --style=\"TB\" --view=\"State\" \"P1\""
   ]
  },
  {
   "cell_type": "code",
   "execution_count": 47,
   "id": "discrete-density",
   "metadata": {
    "execution": {
     "iopub.execute_input": "2021-03-25T14:20:36.245731Z",
     "iopub.status.busy": "2021-03-25T14:20:36.244837Z",
     "iopub.status.idle": "2021-03-25T14:20:36.282531Z",
     "shell.execute_reply": "2021-03-25T14:20:36.282155Z"
    }
   },
   "outputs": [
    {
     "data": {
      "image/svg+xml": [
       "<?xml version=\"1.0\" encoding=\"UTF-8\" standalone=\"no\"?><svg xmlns=\"http://www.w3.org/2000/svg\" xmlns:xlink=\"http://www.w3.org/1999/xlink\" contentScriptType=\"application/ecmascript\" contentStyleType=\"text/css\" height=\"112px\" preserveAspectRatio=\"none\" style=\"width:142px;height:112px;\" version=\"1.1\" viewBox=\"0 0 142 112\" width=\"142px\" zoomAndPan=\"magnify\"><defs/><g><!--MD5=[fbc87193dbaf4d95561dea2c320d4a47]\n",
       "cluster E1--><a href=\"psysml:69fdc022-558c-4011-bfcd-169949e10b0a\" target=\"_top\" title=\"psysml:69fdc022-558c-4011-bfcd-169949e10b0a\" xlink:actuate=\"onRequest\" xlink:href=\"psysml:69fdc022-558c-4011-bfcd-169949e10b0a\" xlink:show=\"new\" xlink:title=\"psysml:69fdc022-558c-4011-bfcd-169949e10b0a\" xlink:type=\"simple\"><polygon fill=\"#FFFFFF\" points=\"16,6,42,6,49,28.2969,120,28.2969,120,100,16,100,16,6\" style=\"stroke: #000000; stroke-width: 1.5;\"/><line style=\"stroke: #000000; stroke-width: 1.5;\" x1=\"16\" x2=\"49\" y1=\"28.2969\" y2=\"28.2969\"/><text fill=\"#000000\" font-family=\"sans-serif\" font-size=\"14\" font-weight=\"bold\" lengthAdjust=\"spacingAndGlyphs\" textLength=\"20\" x=\"20\" y=\"20.9951\">P1</text></a><g id=\"E1.E2\"><a href=\"psysml:08e39b9c-1214-494c-92d3-7191dfc940fc\" target=\"_top\" title=\"psysml:08e39b9c-1214-494c-92d3-7191dfc940fc\" xlink:actuate=\"onRequest\" xlink:href=\"psysml:08e39b9c-1214-494c-92d3-7191dfc940fc\" xlink:show=\"new\" xlink:title=\"psysml:08e39b9c-1214-494c-92d3-7191dfc940fc\" xlink:type=\"simple\"><rect fill=\"#FFFFFF\" height=\"42.9375\" id=\"E2\" style=\"stroke: #383838; stroke-width: 1.5;\" width=\"71\" x=\"32.5\" y=\"41\"/><rect fill=\"#F8F8F8\" height=\"37.9375\" style=\"stroke: #383838; stroke-width: 1.5;\" width=\"71\" x=\"32.5\" y=\"41\"/><text fill=\"#000000\" font-family=\"sans-serif\" font-size=\"12\" font-style=\"italic\" lengthAdjust=\"spacingAndGlyphs\" textLength=\"64\" x=\"36\" y=\"57.1387\">«part def»</text><text fill=\"#000000\" font-family=\"sans-serif\" font-size=\"12\" lengthAdjust=\"spacingAndGlyphs\" textLength=\"8\" x=\"64\" y=\"71.1074\">A</text></a></g><!--MD5=[bcb45b19e432ce7a416d34cc41976dfb]\n",
       "@startuml\r\n",
       "skinparam ranksep 10\r\n",
       "skinparam rectangle {\r\n",
       " backgroundColor<<block>> LightGreen\r\n",
       "}\r\n",
       "top to bottom direction\r\n",
       "skinparam monochrome true\r\n",
       "skinparam classbackgroundcolor white\r\n",
       "skinparam shadowing false\r\n",
       "skinparam wrapWidth 300\r\n",
       "hide circle\r\n",
       "\r\n",
       "package \"P1\" as E1  [[psysml:69fdc022-558c-4011-bfcd-169949e10b0a ]]  {\r\n",
       "rec def \"A\" as E2  <<(T,blue)part def>> [[psysml:08e39b9c-1214-494c-92d3-7191dfc940fc ]] {\r\n",
       "}\r\n",
       "}\r\n",
       "@enduml\r\n",
       "\n",
       "PlantUML version 1.2020.13(Sat Jun 13 12:26:38 UTC 2020)\n",
       "(EPL source distribution)\n",
       "Java Runtime: OpenJDK Runtime Environment\n",
       "JVM: OpenJDK 64-Bit Server VM\n",
       "Default Encoding: UTF-8\n",
       "Language: en\n",
       "Country: null\n",
       "--></g></svg>"
      ]
     },
     "execution_count": 47,
     "metadata": {},
     "output_type": "execute_result"
    }
   ],
   "source": [
    "%viz --style=\"TB\" --view=\"Interconnection\" \"P1\""
   ]
  },
  {
   "cell_type": "code",
   "execution_count": 48,
   "id": "everyday-alaska",
   "metadata": {
    "execution": {
     "iopub.execute_input": "2021-03-25T14:20:36.333346Z",
     "iopub.status.busy": "2021-03-25T14:20:36.332819Z",
     "iopub.status.idle": "2021-03-25T14:20:36.340283Z",
     "shell.execute_reply": "2021-03-25T14:20:36.339867Z"
    }
   },
   "outputs": [
    {
     "data": {
      "image/svg+xml": [
       "<?xml version=\"1.0\" encoding=\"UTF-8\" standalone=\"no\"?><svg xmlns=\"http://www.w3.org/2000/svg\" xmlns:xlink=\"http://www.w3.org/1999/xlink\" contentScriptType=\"application/ecmascript\" contentStyleType=\"text/css\" height=\"12px\" preserveAspectRatio=\"none\" style=\"width:12px;height:12px;\" version=\"1.1\" viewBox=\"0 0 12 12\" width=\"12px\" zoomAndPan=\"magnify\"><defs/><g><!--MD5=[06afc254b03ac5e9d9fb7773b07d0800]\n",
       "@startuml\r\n",
       "skinparam ranksep 8\r\n",
       "top to bottom direction\r\n",
       "skinparam monochrome true\r\n",
       "skinparam classbackgroundcolor white\r\n",
       "skinparam shadowing false\r\n",
       "skinparam wrapWidth 300\r\n",
       "hide circle\r\n",
       "\r\n",
       "@enduml\r\n",
       "\n",
       "PlantUML version 1.2020.13(Sat Jun 13 12:26:38 UTC 2020)\n",
       "(EPL source distribution)\n",
       "Java Runtime: OpenJDK Runtime Environment\n",
       "JVM: OpenJDK 64-Bit Server VM\n",
       "Default Encoding: UTF-8\n",
       "Language: en\n",
       "Country: null\n",
       "--></g></svg>"
      ]
     },
     "execution_count": 48,
     "metadata": {},
     "output_type": "execute_result"
    }
   ],
   "source": [
    "%viz --style=\"TB\" --view=\"Action\" \"P1\""
   ]
  },
  {
   "cell_type": "code",
   "execution_count": 49,
   "id": "accessible-detroit",
   "metadata": {
    "execution": {
     "iopub.execute_input": "2021-03-25T14:20:36.393008Z",
     "iopub.status.busy": "2021-03-25T14:20:36.392360Z",
     "iopub.status.idle": "2021-03-25T14:20:36.426734Z",
     "shell.execute_reply": "2021-03-25T14:20:36.426031Z"
    }
   },
   "outputs": [
    {
     "data": {
      "image/svg+xml": [
       "<?xml version=\"1.0\" encoding=\"UTF-8\" standalone=\"no\"?><svg xmlns=\"http://www.w3.org/2000/svg\" xmlns:xlink=\"http://www.w3.org/1999/xlink\" contentScriptType=\"application/ecmascript\" contentStyleType=\"text/css\" height=\"115px\" preserveAspectRatio=\"none\" style=\"width:136px;height:115px;\" version=\"1.1\" viewBox=\"0 0 136 115\" width=\"136px\" zoomAndPan=\"magnify\"><defs/><g><!--MD5=[fbc87193dbaf4d95561dea2c320d4a47]\n",
       "cluster E1--><a href=\"psysml:69fdc022-558c-4011-bfcd-169949e10b0a\" target=\"_top\" title=\"psysml:69fdc022-558c-4011-bfcd-169949e10b0a\" xlink:actuate=\"onRequest\" xlink:href=\"psysml:69fdc022-558c-4011-bfcd-169949e10b0a\" xlink:show=\"new\" xlink:title=\"psysml:69fdc022-558c-4011-bfcd-169949e10b0a\" xlink:type=\"simple\"><polygon fill=\"#FFFFFF\" points=\"16,6,42,6,49,28.2969,114,28.2969,114,103,16,103,16,6\" style=\"stroke: #000000; stroke-width: 1.5;\"/><line style=\"stroke: #000000; stroke-width: 1.5;\" x1=\"16\" x2=\"49\" y1=\"28.2969\" y2=\"28.2969\"/><text fill=\"#000000\" font-family=\"sans-serif\" font-size=\"14\" font-weight=\"bold\" lengthAdjust=\"spacingAndGlyphs\" textLength=\"20\" x=\"20\" y=\"20.9951\">P1</text></a><!--MD5=[b4997ac47864f28c2f74865a473b2911]\n",
       "class E2--><a href=\"psysml:08e39b9c-1214-494c-92d3-7191dfc940fc\" target=\"_top\" title=\"psysml:08e39b9c-1214-494c-92d3-7191dfc940fc\" xlink:actuate=\"onRequest\" xlink:href=\"psysml:08e39b9c-1214-494c-92d3-7191dfc940fc\" xlink:show=\"new\" xlink:title=\"psysml:08e39b9c-1214-494c-92d3-7191dfc940fc\" xlink:type=\"simple\"><rect fill=\"#FFFFFF\" height=\"45.9375\" id=\"E2\" style=\"stroke: #383838; stroke-width: 1.5;\" width=\"66\" x=\"32\" y=\"41\"/><text fill=\"#000000\" font-family=\"sans-serif\" font-size=\"12\" font-style=\"italic\" lengthAdjust=\"spacingAndGlyphs\" textLength=\"64\" x=\"33\" y=\"57.1387\">«part def»</text><text fill=\"#000000\" font-family=\"sans-serif\" font-size=\"12\" lengthAdjust=\"spacingAndGlyphs\" textLength=\"8\" x=\"61\" y=\"71.1074\">A</text><line style=\"stroke: #383838; stroke-width: 1.5;\" x1=\"33\" x2=\"97\" y1=\"78.9375\" y2=\"78.9375\"/></a><!--MD5=[3ee0add5f47181684d5c973a963c635a]\n",
       "@startuml\r\n",
       "top to bottom direction\r\n",
       "skinparam monochrome true\r\n",
       "skinparam classbackgroundcolor white\r\n",
       "skinparam shadowing false\r\n",
       "skinparam wrapWidth 300\r\n",
       "hide circle\r\n",
       "\r\n",
       "package \"P1\" as E1  [[psysml:69fdc022-558c-4011-bfcd-169949e10b0a ]]  {\r\n",
       "comp def \"A\" as E2  <<(T,blue)part def>> [[psysml:08e39b9c-1214-494c-92d3-7191dfc940fc ]] {\r\n",
       "}\r\n",
       "}\r\n",
       "@enduml\r\n",
       "\n",
       "PlantUML version 1.2020.13(Sat Jun 13 12:26:38 UTC 2020)\n",
       "(EPL source distribution)\n",
       "Java Runtime: OpenJDK Runtime Environment\n",
       "JVM: OpenJDK 64-Bit Server VM\n",
       "Default Encoding: UTF-8\n",
       "Language: en\n",
       "Country: null\n",
       "--></g></svg>"
      ]
     },
     "execution_count": 49,
     "metadata": {},
     "output_type": "execute_result"
    }
   ],
   "source": [
    "%viz --style=\"TB\" --view=\"Sequence\" \"P1\""
   ]
  },
  {
   "cell_type": "code",
   "execution_count": 50,
   "id": "gorgeous-albuquerque",
   "metadata": {
    "execution": {
     "iopub.execute_input": "2021-03-25T14:20:36.477370Z",
     "iopub.status.busy": "2021-03-25T14:20:36.476531Z",
     "iopub.status.idle": "2021-03-25T14:20:36.509176Z",
     "shell.execute_reply": "2021-03-25T14:20:36.508686Z"
    }
   },
   "outputs": [
    {
     "data": {
      "image/svg+xml": [
       "<?xml version=\"1.0\" encoding=\"UTF-8\" standalone=\"no\"?><svg xmlns=\"http://www.w3.org/2000/svg\" xmlns:xlink=\"http://www.w3.org/1999/xlink\" contentScriptType=\"application/ecmascript\" contentStyleType=\"text/css\" height=\"115px\" preserveAspectRatio=\"none\" style=\"width:136px;height:115px;\" version=\"1.1\" viewBox=\"0 0 136 115\" width=\"136px\" zoomAndPan=\"magnify\"><defs/><g><!--MD5=[fbc87193dbaf4d95561dea2c320d4a47]\n",
       "cluster E1--><a href=\"psysml:69fdc022-558c-4011-bfcd-169949e10b0a\" target=\"_top\" title=\"psysml:69fdc022-558c-4011-bfcd-169949e10b0a\" xlink:actuate=\"onRequest\" xlink:href=\"psysml:69fdc022-558c-4011-bfcd-169949e10b0a\" xlink:show=\"new\" xlink:title=\"psysml:69fdc022-558c-4011-bfcd-169949e10b0a\" xlink:type=\"simple\"><polygon fill=\"#FFFFFF\" points=\"16,6,42,6,49,28.2969,114,28.2969,114,103,16,103,16,6\" style=\"stroke: #000000; stroke-width: 1.5;\"/><line style=\"stroke: #000000; stroke-width: 1.5;\" x1=\"16\" x2=\"49\" y1=\"28.2969\" y2=\"28.2969\"/><text fill=\"#000000\" font-family=\"sans-serif\" font-size=\"14\" font-weight=\"bold\" lengthAdjust=\"spacingAndGlyphs\" textLength=\"20\" x=\"20\" y=\"20.9951\">P1</text></a><!--MD5=[b4997ac47864f28c2f74865a473b2911]\n",
       "class E2--><a href=\"psysml:08e39b9c-1214-494c-92d3-7191dfc940fc\" target=\"_top\" title=\"psysml:08e39b9c-1214-494c-92d3-7191dfc940fc\" xlink:actuate=\"onRequest\" xlink:href=\"psysml:08e39b9c-1214-494c-92d3-7191dfc940fc\" xlink:show=\"new\" xlink:title=\"psysml:08e39b9c-1214-494c-92d3-7191dfc940fc\" xlink:type=\"simple\"><rect fill=\"#FFFFFF\" height=\"45.9375\" id=\"E2\" style=\"stroke: #383838; stroke-width: 1.5;\" width=\"66\" x=\"32\" y=\"41\"/><text fill=\"#000000\" font-family=\"sans-serif\" font-size=\"12\" font-style=\"italic\" lengthAdjust=\"spacingAndGlyphs\" textLength=\"64\" x=\"33\" y=\"57.1387\">«part def»</text><text fill=\"#000000\" font-family=\"sans-serif\" font-size=\"12\" lengthAdjust=\"spacingAndGlyphs\" textLength=\"8\" x=\"61\" y=\"71.1074\">A</text><line style=\"stroke: #383838; stroke-width: 1.5;\" x1=\"33\" x2=\"97\" y1=\"78.9375\" y2=\"78.9375\"/></a><!--MD5=[3ee0add5f47181684d5c973a963c635a]\n",
       "@startuml\r\n",
       "top to bottom direction\r\n",
       "skinparam monochrome true\r\n",
       "skinparam classbackgroundcolor white\r\n",
       "skinparam shadowing false\r\n",
       "skinparam wrapWidth 300\r\n",
       "hide circle\r\n",
       "\r\n",
       "package \"P1\" as E1  [[psysml:69fdc022-558c-4011-bfcd-169949e10b0a ]]  {\r\n",
       "comp def \"A\" as E2  <<(T,blue)part def>> [[psysml:08e39b9c-1214-494c-92d3-7191dfc940fc ]] {\r\n",
       "}\r\n",
       "}\r\n",
       "@enduml\r\n",
       "\n",
       "PlantUML version 1.2020.13(Sat Jun 13 12:26:38 UTC 2020)\n",
       "(EPL source distribution)\n",
       "Java Runtime: OpenJDK Runtime Environment\n",
       "JVM: OpenJDK 64-Bit Server VM\n",
       "Default Encoding: UTF-8\n",
       "Language: en\n",
       "Country: null\n",
       "--></g></svg>"
      ]
     },
     "execution_count": 50,
     "metadata": {},
     "output_type": "execute_result"
    }
   ],
   "source": [
    "%viz --style=\"TB\" --view=\"MIXED\" \"P1\""
   ]
  },
  {
   "cell_type": "code",
   "execution_count": 51,
   "id": "changing-wages",
   "metadata": {
    "execution": {
     "iopub.execute_input": "2021-03-25T14:20:36.559459Z",
     "iopub.status.busy": "2021-03-25T14:20:36.558973Z",
     "iopub.status.idle": "2021-03-25T14:20:36.593929Z",
     "shell.execute_reply": "2021-03-25T14:20:36.594430Z"
    }
   },
   "outputs": [
    {
     "data": {
      "image/svg+xml": [
       "<?xml version=\"1.0\" encoding=\"UTF-8\" standalone=\"no\"?><svg xmlns=\"http://www.w3.org/2000/svg\" xmlns:xlink=\"http://www.w3.org/1999/xlink\" contentScriptType=\"application/ecmascript\" contentStyleType=\"text/css\" height=\"115px\" preserveAspectRatio=\"none\" style=\"width:136px;height:115px;\" version=\"1.1\" viewBox=\"0 0 136 115\" width=\"136px\" zoomAndPan=\"magnify\"><defs/><g><!--MD5=[fbc87193dbaf4d95561dea2c320d4a47]\n",
       "cluster E1--><a href=\"psysml:69fdc022-558c-4011-bfcd-169949e10b0a\" target=\"_top\" title=\"psysml:69fdc022-558c-4011-bfcd-169949e10b0a\" xlink:actuate=\"onRequest\" xlink:href=\"psysml:69fdc022-558c-4011-bfcd-169949e10b0a\" xlink:show=\"new\" xlink:title=\"psysml:69fdc022-558c-4011-bfcd-169949e10b0a\" xlink:type=\"simple\"><polygon fill=\"#FFFFFF\" points=\"16,6,42,6,49,28.2969,114,28.2969,114,103,16,103,16,6\" style=\"stroke: #000000; stroke-width: 1.5;\"/><line style=\"stroke: #000000; stroke-width: 1.5;\" x1=\"16\" x2=\"49\" y1=\"28.2969\" y2=\"28.2969\"/><text fill=\"#000000\" font-family=\"sans-serif\" font-size=\"14\" font-weight=\"bold\" lengthAdjust=\"spacingAndGlyphs\" textLength=\"20\" x=\"20\" y=\"20.9951\">P1</text></a><!--MD5=[b4997ac47864f28c2f74865a473b2911]\n",
       "class E2--><a href=\"psysml:08e39b9c-1214-494c-92d3-7191dfc940fc\" target=\"_top\" title=\"psysml:08e39b9c-1214-494c-92d3-7191dfc940fc\" xlink:actuate=\"onRequest\" xlink:href=\"psysml:08e39b9c-1214-494c-92d3-7191dfc940fc\" xlink:show=\"new\" xlink:title=\"psysml:08e39b9c-1214-494c-92d3-7191dfc940fc\" xlink:type=\"simple\"><rect fill=\"#FFFFFF\" height=\"45.9375\" id=\"E2\" style=\"stroke: #383838; stroke-width: 1.5;\" width=\"66\" x=\"32\" y=\"41\"/><text fill=\"#000000\" font-family=\"sans-serif\" font-size=\"12\" font-style=\"italic\" lengthAdjust=\"spacingAndGlyphs\" textLength=\"64\" x=\"33\" y=\"57.1387\">«part def»</text><text fill=\"#000000\" font-family=\"sans-serif\" font-size=\"12\" lengthAdjust=\"spacingAndGlyphs\" textLength=\"8\" x=\"61\" y=\"71.1074\">A</text><line style=\"stroke: #383838; stroke-width: 1.5;\" x1=\"33\" x2=\"97\" y1=\"78.9375\" y2=\"78.9375\"/></a><!--MD5=[f90462a80b436a692c0c38c947338a77]\n",
       "@startuml\r\n",
       "skinparam linetype ortho\r\n",
       "skinparam monochrome true\r\n",
       "skinparam classbackgroundcolor white\r\n",
       "skinparam shadowing false\r\n",
       "skinparam wrapWidth 300\r\n",
       "hide circle\r\n",
       "\r\n",
       "package \"P1\" as E1  [[psysml:69fdc022-558c-4011-bfcd-169949e10b0a ]]  {\r\n",
       "comp def \"A\" as E2  <<(T,blue)part def>> [[psysml:08e39b9c-1214-494c-92d3-7191dfc940fc ]] {\r\n",
       "}\r\n",
       "}\r\n",
       "@enduml\r\n",
       "\n",
       "PlantUML version 1.2020.13(Sat Jun 13 12:26:38 UTC 2020)\n",
       "(EPL source distribution)\n",
       "Java Runtime: OpenJDK Runtime Environment\n",
       "JVM: OpenJDK 64-Bit Server VM\n",
       "Default Encoding: UTF-8\n",
       "Language: en\n",
       "Country: null\n",
       "--></g></svg>"
      ]
     },
     "execution_count": 51,
     "metadata": {},
     "output_type": "execute_result"
    }
   ],
   "source": [
    "%viz --style=\"ORTHOLINE\" --view=\"Default\" \"P1\""
   ]
  },
  {
   "cell_type": "code",
   "execution_count": 52,
   "id": "joint-beaver",
   "metadata": {
    "execution": {
     "iopub.execute_input": "2021-03-25T14:20:36.647618Z",
     "iopub.status.busy": "2021-03-25T14:20:36.646213Z",
     "iopub.status.idle": "2021-03-25T14:20:36.686043Z",
     "shell.execute_reply": "2021-03-25T14:20:36.686559Z"
    }
   },
   "outputs": [
    {
     "data": {
      "image/svg+xml": [
       "<?xml version=\"1.0\" encoding=\"UTF-8\" standalone=\"no\"?><svg xmlns=\"http://www.w3.org/2000/svg\" xmlns:xlink=\"http://www.w3.org/1999/xlink\" contentScriptType=\"application/ecmascript\" contentStyleType=\"text/css\" height=\"115px\" preserveAspectRatio=\"none\" style=\"width:136px;height:115px;\" version=\"1.1\" viewBox=\"0 0 136 115\" width=\"136px\" zoomAndPan=\"magnify\"><defs/><g><!--MD5=[fbc87193dbaf4d95561dea2c320d4a47]\n",
       "cluster E1--><a href=\"psysml:69fdc022-558c-4011-bfcd-169949e10b0a\" target=\"_top\" title=\"psysml:69fdc022-558c-4011-bfcd-169949e10b0a\" xlink:actuate=\"onRequest\" xlink:href=\"psysml:69fdc022-558c-4011-bfcd-169949e10b0a\" xlink:show=\"new\" xlink:title=\"psysml:69fdc022-558c-4011-bfcd-169949e10b0a\" xlink:type=\"simple\"><polygon fill=\"#FFFFFF\" points=\"16,6,42,6,49,28.2969,114,28.2969,114,103,16,103,16,6\" style=\"stroke: #000000; stroke-width: 1.5;\"/><line style=\"stroke: #000000; stroke-width: 1.5;\" x1=\"16\" x2=\"49\" y1=\"28.2969\" y2=\"28.2969\"/><text fill=\"#000000\" font-family=\"sans-serif\" font-size=\"14\" font-weight=\"bold\" lengthAdjust=\"spacingAndGlyphs\" textLength=\"20\" x=\"20\" y=\"20.9951\">P1</text></a><!--MD5=[b4997ac47864f28c2f74865a473b2911]\n",
       "class E2--><a href=\"psysml:08e39b9c-1214-494c-92d3-7191dfc940fc\" target=\"_top\" title=\"psysml:08e39b9c-1214-494c-92d3-7191dfc940fc\" xlink:actuate=\"onRequest\" xlink:href=\"psysml:08e39b9c-1214-494c-92d3-7191dfc940fc\" xlink:show=\"new\" xlink:title=\"psysml:08e39b9c-1214-494c-92d3-7191dfc940fc\" xlink:type=\"simple\"><rect fill=\"#FFFFFF\" height=\"45.9375\" id=\"E2\" style=\"stroke: #383838; stroke-width: 1.5;\" width=\"66\" x=\"32\" y=\"41\"/><text fill=\"#000000\" font-family=\"sans-serif\" font-size=\"12\" font-style=\"italic\" lengthAdjust=\"spacingAndGlyphs\" textLength=\"64\" x=\"33\" y=\"57.1387\">«part def»</text><text fill=\"#000000\" font-family=\"sans-serif\" font-size=\"12\" lengthAdjust=\"spacingAndGlyphs\" textLength=\"8\" x=\"61\" y=\"71.1074\">A</text><line style=\"stroke: #383838; stroke-width: 1.5;\" x1=\"33\" x2=\"97\" y1=\"78.9375\" y2=\"78.9375\"/></a><!--MD5=[f90462a80b436a692c0c38c947338a77]\n",
       "@startuml\r\n",
       "skinparam linetype ortho\r\n",
       "skinparam monochrome true\r\n",
       "skinparam classbackgroundcolor white\r\n",
       "skinparam shadowing false\r\n",
       "skinparam wrapWidth 300\r\n",
       "hide circle\r\n",
       "\r\n",
       "package \"P1\" as E1  [[psysml:69fdc022-558c-4011-bfcd-169949e10b0a ]]  {\r\n",
       "comp def \"A\" as E2  <<(T,blue)part def>> [[psysml:08e39b9c-1214-494c-92d3-7191dfc940fc ]] {\r\n",
       "}\r\n",
       "}\r\n",
       "@enduml\r\n",
       "\n",
       "PlantUML version 1.2020.13(Sat Jun 13 12:26:38 UTC 2020)\n",
       "(EPL source distribution)\n",
       "Java Runtime: OpenJDK Runtime Environment\n",
       "JVM: OpenJDK 64-Bit Server VM\n",
       "Default Encoding: UTF-8\n",
       "Language: en\n",
       "Country: null\n",
       "--></g></svg>"
      ]
     },
     "execution_count": 52,
     "metadata": {},
     "output_type": "execute_result"
    }
   ],
   "source": [
    "%viz --style=\"ORTHOLINE\" --view=\"Tree\" \"P1\""
   ]
  },
  {
   "cell_type": "code",
   "execution_count": 53,
   "id": "metropolitan-zoning",
   "metadata": {
    "execution": {
     "iopub.execute_input": "2021-03-25T14:20:36.739649Z",
     "iopub.status.busy": "2021-03-25T14:20:36.738982Z",
     "iopub.status.idle": "2021-03-25T14:20:36.747162Z",
     "shell.execute_reply": "2021-03-25T14:20:36.746725Z"
    }
   },
   "outputs": [
    {
     "data": {
      "image/svg+xml": [
       "<?xml version=\"1.0\" encoding=\"UTF-8\" standalone=\"no\"?><svg xmlns=\"http://www.w3.org/2000/svg\" xmlns:xlink=\"http://www.w3.org/1999/xlink\" contentScriptType=\"application/ecmascript\" contentStyleType=\"text/css\" height=\"12px\" preserveAspectRatio=\"none\" style=\"width:12px;height:12px;\" version=\"1.1\" viewBox=\"0 0 12 12\" width=\"12px\" zoomAndPan=\"magnify\"><defs/><g><!--MD5=[97d6f38768b311333d388e66b2b27985]\n",
       "@startuml\r\n",
       "skinparam linetype ortho\r\n",
       "skinparam monochrome true\r\n",
       "skinparam classbackgroundcolor white\r\n",
       "skinparam shadowing false\r\n",
       "skinparam wrapWidth 300\r\n",
       "hide circle\r\n",
       "\r\n",
       "@enduml\r\n",
       "\n",
       "PlantUML version 1.2020.13(Sat Jun 13 12:26:38 UTC 2020)\n",
       "(EPL source distribution)\n",
       "Java Runtime: OpenJDK Runtime Environment\n",
       "JVM: OpenJDK 64-Bit Server VM\n",
       "Default Encoding: UTF-8\n",
       "Language: en\n",
       "Country: null\n",
       "--></g></svg>"
      ]
     },
     "execution_count": 53,
     "metadata": {},
     "output_type": "execute_result"
    }
   ],
   "source": [
    "%viz --style=\"ORTHOLINE\" --view=\"State\" \"P1\""
   ]
  },
  {
   "cell_type": "code",
   "execution_count": 54,
   "id": "abstract-prize",
   "metadata": {
    "execution": {
     "iopub.execute_input": "2021-03-25T14:20:36.798638Z",
     "iopub.status.busy": "2021-03-25T14:20:36.798151Z",
     "iopub.status.idle": "2021-03-25T14:20:36.835949Z",
     "shell.execute_reply": "2021-03-25T14:20:36.836398Z"
    }
   },
   "outputs": [
    {
     "data": {
      "image/svg+xml": [
       "<?xml version=\"1.0\" encoding=\"UTF-8\" standalone=\"no\"?><svg xmlns=\"http://www.w3.org/2000/svg\" xmlns:xlink=\"http://www.w3.org/1999/xlink\" contentScriptType=\"application/ecmascript\" contentStyleType=\"text/css\" height=\"112px\" preserveAspectRatio=\"none\" style=\"width:142px;height:112px;\" version=\"1.1\" viewBox=\"0 0 142 112\" width=\"142px\" zoomAndPan=\"magnify\"><defs/><g><!--MD5=[fbc87193dbaf4d95561dea2c320d4a47]\n",
       "cluster E1--><a href=\"psysml:69fdc022-558c-4011-bfcd-169949e10b0a\" target=\"_top\" title=\"psysml:69fdc022-558c-4011-bfcd-169949e10b0a\" xlink:actuate=\"onRequest\" xlink:href=\"psysml:69fdc022-558c-4011-bfcd-169949e10b0a\" xlink:show=\"new\" xlink:title=\"psysml:69fdc022-558c-4011-bfcd-169949e10b0a\" xlink:type=\"simple\"><polygon fill=\"#FFFFFF\" points=\"16,6,42,6,49,28.2969,120,28.2969,120,100,16,100,16,6\" style=\"stroke: #000000; stroke-width: 1.5;\"/><line style=\"stroke: #000000; stroke-width: 1.5;\" x1=\"16\" x2=\"49\" y1=\"28.2969\" y2=\"28.2969\"/><text fill=\"#000000\" font-family=\"sans-serif\" font-size=\"14\" font-weight=\"bold\" lengthAdjust=\"spacingAndGlyphs\" textLength=\"20\" x=\"20\" y=\"20.9951\">P1</text></a><g id=\"E1.E2\"><a href=\"psysml:08e39b9c-1214-494c-92d3-7191dfc940fc\" target=\"_top\" title=\"psysml:08e39b9c-1214-494c-92d3-7191dfc940fc\" xlink:actuate=\"onRequest\" xlink:href=\"psysml:08e39b9c-1214-494c-92d3-7191dfc940fc\" xlink:show=\"new\" xlink:title=\"psysml:08e39b9c-1214-494c-92d3-7191dfc940fc\" xlink:type=\"simple\"><rect fill=\"#FFFFFF\" height=\"42.9375\" id=\"E2\" style=\"stroke: #383838; stroke-width: 1.5;\" width=\"71\" x=\"32.5\" y=\"41\"/><rect fill=\"#F8F8F8\" height=\"37.9375\" style=\"stroke: #383838; stroke-width: 1.5;\" width=\"71\" x=\"32.5\" y=\"41\"/><text fill=\"#000000\" font-family=\"sans-serif\" font-size=\"12\" font-style=\"italic\" lengthAdjust=\"spacingAndGlyphs\" textLength=\"64\" x=\"36\" y=\"57.1387\">«part def»</text><text fill=\"#000000\" font-family=\"sans-serif\" font-size=\"12\" lengthAdjust=\"spacingAndGlyphs\" textLength=\"8\" x=\"64\" y=\"71.1074\">A</text></a></g><!--MD5=[1d308407f2e34e04ac4cf07a6ca111ba]\n",
       "@startuml\r\n",
       "skinparam ranksep 10\r\n",
       "skinparam rectangle {\r\n",
       " backgroundColor<<block>> LightGreen\r\n",
       "}\r\n",
       "skinparam linetype ortho\r\n",
       "skinparam monochrome true\r\n",
       "skinparam classbackgroundcolor white\r\n",
       "skinparam shadowing false\r\n",
       "skinparam wrapWidth 300\r\n",
       "hide circle\r\n",
       "\r\n",
       "package \"P1\" as E1  [[psysml:69fdc022-558c-4011-bfcd-169949e10b0a ]]  {\r\n",
       "rec def \"A\" as E2  <<(T,blue)part def>> [[psysml:08e39b9c-1214-494c-92d3-7191dfc940fc ]] {\r\n",
       "}\r\n",
       "}\r\n",
       "@enduml\r\n",
       "\n",
       "PlantUML version 1.2020.13(Sat Jun 13 12:26:38 UTC 2020)\n",
       "(EPL source distribution)\n",
       "Java Runtime: OpenJDK Runtime Environment\n",
       "JVM: OpenJDK 64-Bit Server VM\n",
       "Default Encoding: UTF-8\n",
       "Language: en\n",
       "Country: null\n",
       "--></g></svg>"
      ]
     },
     "execution_count": 54,
     "metadata": {},
     "output_type": "execute_result"
    }
   ],
   "source": [
    "%viz --style=\"ORTHOLINE\" --view=\"Interconnection\" \"P1\""
   ]
  },
  {
   "cell_type": "code",
   "execution_count": 55,
   "id": "built-spokesman",
   "metadata": {
    "execution": {
     "iopub.execute_input": "2021-03-25T14:20:36.891426Z",
     "iopub.status.busy": "2021-03-25T14:20:36.890646Z",
     "iopub.status.idle": "2021-03-25T14:20:36.899577Z",
     "shell.execute_reply": "2021-03-25T14:20:36.899227Z"
    }
   },
   "outputs": [
    {
     "data": {
      "image/svg+xml": [
       "<?xml version=\"1.0\" encoding=\"UTF-8\" standalone=\"no\"?><svg xmlns=\"http://www.w3.org/2000/svg\" xmlns:xlink=\"http://www.w3.org/1999/xlink\" contentScriptType=\"application/ecmascript\" contentStyleType=\"text/css\" height=\"12px\" preserveAspectRatio=\"none\" style=\"width:12px;height:12px;\" version=\"1.1\" viewBox=\"0 0 12 12\" width=\"12px\" zoomAndPan=\"magnify\"><defs/><g><!--MD5=[72934c63077099a26744516a776b4749]\n",
       "@startuml\r\n",
       "skinparam ranksep 8\r\n",
       "skinparam linetype ortho\r\n",
       "skinparam monochrome true\r\n",
       "skinparam classbackgroundcolor white\r\n",
       "skinparam shadowing false\r\n",
       "skinparam wrapWidth 300\r\n",
       "hide circle\r\n",
       "\r\n",
       "@enduml\r\n",
       "\n",
       "PlantUML version 1.2020.13(Sat Jun 13 12:26:38 UTC 2020)\n",
       "(EPL source distribution)\n",
       "Java Runtime: OpenJDK Runtime Environment\n",
       "JVM: OpenJDK 64-Bit Server VM\n",
       "Default Encoding: UTF-8\n",
       "Language: en\n",
       "Country: null\n",
       "--></g></svg>"
      ]
     },
     "execution_count": 55,
     "metadata": {},
     "output_type": "execute_result"
    }
   ],
   "source": [
    "%viz --style=\"ORTHOLINE\" --view=\"Action\" \"P1\""
   ]
  },
  {
   "cell_type": "code",
   "execution_count": 56,
   "id": "impressed-italian",
   "metadata": {
    "execution": {
     "iopub.execute_input": "2021-03-25T14:20:36.950789Z",
     "iopub.status.busy": "2021-03-25T14:20:36.950226Z",
     "iopub.status.idle": "2021-03-25T14:20:36.990391Z",
     "shell.execute_reply": "2021-03-25T14:20:36.988992Z"
    }
   },
   "outputs": [
    {
     "data": {
      "image/svg+xml": [
       "<?xml version=\"1.0\" encoding=\"UTF-8\" standalone=\"no\"?><svg xmlns=\"http://www.w3.org/2000/svg\" xmlns:xlink=\"http://www.w3.org/1999/xlink\" contentScriptType=\"application/ecmascript\" contentStyleType=\"text/css\" height=\"115px\" preserveAspectRatio=\"none\" style=\"width:136px;height:115px;\" version=\"1.1\" viewBox=\"0 0 136 115\" width=\"136px\" zoomAndPan=\"magnify\"><defs/><g><!--MD5=[fbc87193dbaf4d95561dea2c320d4a47]\n",
       "cluster E1--><a href=\"psysml:69fdc022-558c-4011-bfcd-169949e10b0a\" target=\"_top\" title=\"psysml:69fdc022-558c-4011-bfcd-169949e10b0a\" xlink:actuate=\"onRequest\" xlink:href=\"psysml:69fdc022-558c-4011-bfcd-169949e10b0a\" xlink:show=\"new\" xlink:title=\"psysml:69fdc022-558c-4011-bfcd-169949e10b0a\" xlink:type=\"simple\"><polygon fill=\"#FFFFFF\" points=\"16,6,42,6,49,28.2969,114,28.2969,114,103,16,103,16,6\" style=\"stroke: #000000; stroke-width: 1.5;\"/><line style=\"stroke: #000000; stroke-width: 1.5;\" x1=\"16\" x2=\"49\" y1=\"28.2969\" y2=\"28.2969\"/><text fill=\"#000000\" font-family=\"sans-serif\" font-size=\"14\" font-weight=\"bold\" lengthAdjust=\"spacingAndGlyphs\" textLength=\"20\" x=\"20\" y=\"20.9951\">P1</text></a><!--MD5=[b4997ac47864f28c2f74865a473b2911]\n",
       "class E2--><a href=\"psysml:08e39b9c-1214-494c-92d3-7191dfc940fc\" target=\"_top\" title=\"psysml:08e39b9c-1214-494c-92d3-7191dfc940fc\" xlink:actuate=\"onRequest\" xlink:href=\"psysml:08e39b9c-1214-494c-92d3-7191dfc940fc\" xlink:show=\"new\" xlink:title=\"psysml:08e39b9c-1214-494c-92d3-7191dfc940fc\" xlink:type=\"simple\"><rect fill=\"#FFFFFF\" height=\"45.9375\" id=\"E2\" style=\"stroke: #383838; stroke-width: 1.5;\" width=\"66\" x=\"32\" y=\"41\"/><text fill=\"#000000\" font-family=\"sans-serif\" font-size=\"12\" font-style=\"italic\" lengthAdjust=\"spacingAndGlyphs\" textLength=\"64\" x=\"33\" y=\"57.1387\">«part def»</text><text fill=\"#000000\" font-family=\"sans-serif\" font-size=\"12\" lengthAdjust=\"spacingAndGlyphs\" textLength=\"8\" x=\"61\" y=\"71.1074\">A</text><line style=\"stroke: #383838; stroke-width: 1.5;\" x1=\"33\" x2=\"97\" y1=\"78.9375\" y2=\"78.9375\"/></a><!--MD5=[f90462a80b436a692c0c38c947338a77]\n",
       "@startuml\r\n",
       "skinparam linetype ortho\r\n",
       "skinparam monochrome true\r\n",
       "skinparam classbackgroundcolor white\r\n",
       "skinparam shadowing false\r\n",
       "skinparam wrapWidth 300\r\n",
       "hide circle\r\n",
       "\r\n",
       "package \"P1\" as E1  [[psysml:69fdc022-558c-4011-bfcd-169949e10b0a ]]  {\r\n",
       "comp def \"A\" as E2  <<(T,blue)part def>> [[psysml:08e39b9c-1214-494c-92d3-7191dfc940fc ]] {\r\n",
       "}\r\n",
       "}\r\n",
       "@enduml\r\n",
       "\n",
       "PlantUML version 1.2020.13(Sat Jun 13 12:26:38 UTC 2020)\n",
       "(EPL source distribution)\n",
       "Java Runtime: OpenJDK Runtime Environment\n",
       "JVM: OpenJDK 64-Bit Server VM\n",
       "Default Encoding: UTF-8\n",
       "Language: en\n",
       "Country: null\n",
       "--></g></svg>"
      ]
     },
     "execution_count": 56,
     "metadata": {},
     "output_type": "execute_result"
    }
   ],
   "source": [
    "%viz --style=\"ORTHOLINE\" --view=\"Sequence\" \"P1\""
   ]
  },
  {
   "cell_type": "code",
   "execution_count": 57,
   "id": "talented-screen",
   "metadata": {
    "execution": {
     "iopub.execute_input": "2021-03-25T14:20:37.041235Z",
     "iopub.status.busy": "2021-03-25T14:20:37.040348Z",
     "iopub.status.idle": "2021-03-25T14:20:37.078421Z",
     "shell.execute_reply": "2021-03-25T14:20:37.078698Z"
    }
   },
   "outputs": [
    {
     "data": {
      "image/svg+xml": [
       "<?xml version=\"1.0\" encoding=\"UTF-8\" standalone=\"no\"?><svg xmlns=\"http://www.w3.org/2000/svg\" xmlns:xlink=\"http://www.w3.org/1999/xlink\" contentScriptType=\"application/ecmascript\" contentStyleType=\"text/css\" height=\"115px\" preserveAspectRatio=\"none\" style=\"width:136px;height:115px;\" version=\"1.1\" viewBox=\"0 0 136 115\" width=\"136px\" zoomAndPan=\"magnify\"><defs/><g><!--MD5=[fbc87193dbaf4d95561dea2c320d4a47]\n",
       "cluster E1--><a href=\"psysml:69fdc022-558c-4011-bfcd-169949e10b0a\" target=\"_top\" title=\"psysml:69fdc022-558c-4011-bfcd-169949e10b0a\" xlink:actuate=\"onRequest\" xlink:href=\"psysml:69fdc022-558c-4011-bfcd-169949e10b0a\" xlink:show=\"new\" xlink:title=\"psysml:69fdc022-558c-4011-bfcd-169949e10b0a\" xlink:type=\"simple\"><polygon fill=\"#FFFFFF\" points=\"16,6,42,6,49,28.2969,114,28.2969,114,103,16,103,16,6\" style=\"stroke: #000000; stroke-width: 1.5;\"/><line style=\"stroke: #000000; stroke-width: 1.5;\" x1=\"16\" x2=\"49\" y1=\"28.2969\" y2=\"28.2969\"/><text fill=\"#000000\" font-family=\"sans-serif\" font-size=\"14\" font-weight=\"bold\" lengthAdjust=\"spacingAndGlyphs\" textLength=\"20\" x=\"20\" y=\"20.9951\">P1</text></a><!--MD5=[b4997ac47864f28c2f74865a473b2911]\n",
       "class E2--><a href=\"psysml:08e39b9c-1214-494c-92d3-7191dfc940fc\" target=\"_top\" title=\"psysml:08e39b9c-1214-494c-92d3-7191dfc940fc\" xlink:actuate=\"onRequest\" xlink:href=\"psysml:08e39b9c-1214-494c-92d3-7191dfc940fc\" xlink:show=\"new\" xlink:title=\"psysml:08e39b9c-1214-494c-92d3-7191dfc940fc\" xlink:type=\"simple\"><rect fill=\"#FFFFFF\" height=\"45.9375\" id=\"E2\" style=\"stroke: #383838; stroke-width: 1.5;\" width=\"66\" x=\"32\" y=\"41\"/><text fill=\"#000000\" font-family=\"sans-serif\" font-size=\"12\" font-style=\"italic\" lengthAdjust=\"spacingAndGlyphs\" textLength=\"64\" x=\"33\" y=\"57.1387\">«part def»</text><text fill=\"#000000\" font-family=\"sans-serif\" font-size=\"12\" lengthAdjust=\"spacingAndGlyphs\" textLength=\"8\" x=\"61\" y=\"71.1074\">A</text><line style=\"stroke: #383838; stroke-width: 1.5;\" x1=\"33\" x2=\"97\" y1=\"78.9375\" y2=\"78.9375\"/></a><!--MD5=[f90462a80b436a692c0c38c947338a77]\n",
       "@startuml\r\n",
       "skinparam linetype ortho\r\n",
       "skinparam monochrome true\r\n",
       "skinparam classbackgroundcolor white\r\n",
       "skinparam shadowing false\r\n",
       "skinparam wrapWidth 300\r\n",
       "hide circle\r\n",
       "\r\n",
       "package \"P1\" as E1  [[psysml:69fdc022-558c-4011-bfcd-169949e10b0a ]]  {\r\n",
       "comp def \"A\" as E2  <<(T,blue)part def>> [[psysml:08e39b9c-1214-494c-92d3-7191dfc940fc ]] {\r\n",
       "}\r\n",
       "}\r\n",
       "@enduml\r\n",
       "\n",
       "PlantUML version 1.2020.13(Sat Jun 13 12:26:38 UTC 2020)\n",
       "(EPL source distribution)\n",
       "Java Runtime: OpenJDK Runtime Environment\n",
       "JVM: OpenJDK 64-Bit Server VM\n",
       "Default Encoding: UTF-8\n",
       "Language: en\n",
       "Country: null\n",
       "--></g></svg>"
      ]
     },
     "execution_count": 57,
     "metadata": {},
     "output_type": "execute_result"
    }
   ],
   "source": [
    "%viz --style=\"ORTHOLINE\" --view=\"MIXED\" \"P1\""
   ]
  }
 ],
 "metadata": {
  "kernelspec": {
   "display_name": "SysML",
   "language": "sysml",
   "name": "sysml"
  },
  "language_info": {
   "codemirror_mode": "sysml",
   "file_extension": ".sysml",
   "mimetype": "text/x-sysml",
   "name": "SysML",
   "pygments_lexer": "java",
   "version": "1.0.0"
  }
 },
 "nbformat": 4,
 "nbformat_minor": 5
}
