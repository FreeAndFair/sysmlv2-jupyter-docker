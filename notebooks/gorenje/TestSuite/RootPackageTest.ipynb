{
 "cells": [
  {
   "cell_type": "markdown",
   "id": "ab478c3c",
   "metadata": {},
   "source": [
    "# SysML v2 Test Suite\n",
    "\n",
    "This can notebook can be cleared using menu `Edit --> Clear All Outputs` and then all cells can be\n",
    "run using menu `Run --> Run All Cells`.\n",
    "\n",
    "**WARNING**: This file is generated, all modifications here will be ignored.\n"
   ]
  },
  {
   "cell_type": "markdown",
   "id": "979cc2f0",
   "metadata": {},
   "source": [
    "## File: ../../sysml/src/examples/Simple Tests/RootPackageTest.sysml"
   ]
  },
  {
   "cell_type": "code",
   "execution_count": 1,
   "id": "a7dd55c3",
   "metadata": {
    "execution": {
     "iopub.execute_input": "2024-12-16T03:23:12.513756Z",
     "iopub.status.busy": "2024-12-16T03:23:12.512608Z",
     "iopub.status.idle": "2024-12-16T03:23:12.694321Z",
     "shell.execute_reply": "2024-12-16T03:23:12.694062Z"
    }
   },
   "outputs": [
    {
     "data": {
      "text/plain": [
       "Package P1 (0a90d248-380c-4e9b-b837-344deff0bbde)\n",
       "Package P2 (9756d473-1a9f-481a-a206-dcea231fe542)\n",
       "Package P3 (1fc7e51f-42a5-4825-afdf-2e320ed1f23b)\n"
      ]
     },
     "execution_count": 1,
     "metadata": {},
     "output_type": "execute_result"
    }
   ],
   "source": [
    "package P1 {\n",
    "\tpart def A;\n",
    "}\n",
    "\n",
    "package P2 {\n",
    "\tprivate import P1::*;\n",
    "\tpart a : A;\n",
    "}\n",
    "\n",
    "private import P2::*;\n",
    "\n",
    "package P3 {\n",
    "\tpart b subsets a;\n",
    "}"
   ]
  },
  {
   "cell_type": "code",
   "execution_count": 2,
   "id": "4a34103d",
   "metadata": {
    "execution": {
     "iopub.execute_input": "2024-12-16T03:23:12.748086Z",
     "iopub.status.busy": "2024-12-16T03:23:12.747857Z",
     "iopub.status.idle": "2024-12-16T03:23:13.091618Z",
     "shell.execute_reply": "2024-12-16T03:23:13.091756Z"
    }
   },
   "outputs": [
    {
     "data": {
      "image/svg+xml": [
       "<?xml version=\"1.0\" encoding=\"UTF-8\" standalone=\"no\"?><svg xmlns=\"http://www.w3.org/2000/svg\" xmlns:xlink=\"http://www.w3.org/1999/xlink\" contentStyleType=\"text/css\" height=\"112px\" preserveAspectRatio=\"none\" style=\"width:135px;height:112px;background:#FFFFFF;\" version=\"1.1\" viewBox=\"0 0 135 112\" width=\"135px\" zoomAndPan=\"magnify\"><defs/><g><!--MD5=[fbc87193dbaf4d95561dea2c320d4a47]\n",
       "cluster E1--><g id=\"cluster_E1\"><a href=\"psysml:0a90d248-380c-4e9b-b837-344deff0bbde\" target=\"_top\" title=\"psysml:0a90d248-380c-4e9b-b837-344deff0bbde\" xlink:actuate=\"onRequest\" xlink:href=\"psysml:0a90d248-380c-4e9b-b837-344deff0bbde\" xlink:show=\"new\" xlink:title=\"psysml:0a90d248-380c-4e9b-b837-344deff0bbde\" xlink:type=\"simple\"><polygon fill=\"none\" points=\"16,6,40.875,6,47.875,28.2969,118,28.2969,118,105,16,105,16,6\" style=\"stroke:#000000;stroke-width:1.5;\"/><line style=\"stroke:#000000;stroke-width:1.5;\" x1=\"16\" x2=\"47.875\" y1=\"28.2969\" y2=\"28.2969\"/><text fill=\"#000000\" font-family=\"sans-serif\" font-size=\"14\" font-weight=\"bold\" lengthAdjust=\"spacing\" textLength=\"18.875\" x=\"20\" y=\"20.9951\">P1</text></a></g><!--MD5=[b4997ac47864f28c2f74865a473b2911]\n",
       "class E2--><a href=\"psysml:e04e257c-b1d4-496b-86bb-c28797e46b80\" target=\"_top\" title=\"psysml:e04e257c-b1d4-496b-86bb-c28797e46b80\" xlink:actuate=\"onRequest\" xlink:href=\"psysml:e04e257c-b1d4-496b-86bb-c28797e46b80\" xlink:show=\"new\" xlink:title=\"psysml:e04e257c-b1d4-496b-86bb-c28797e46b80\" xlink:type=\"simple\"><g id=\"elem_E2\"><rect fill=\"#FFFFFF\" height=\"48.2656\" id=\"E2\" style=\"stroke:#181818;stroke-width:0.5;\" width=\"70\" x=\"32\" y=\"41\"/><text fill=\"#000000\" font-family=\"sans-serif\" font-size=\"12\" font-style=\"italic\" lengthAdjust=\"spacing\" textLength=\"68\" x=\"33\" y=\"57.1387\">«part  def»</text><text fill=\"#000000\" font-family=\"sans-serif\" font-size=\"14\" lengthAdjust=\"spacing\" textLength=\"9\" x=\"62.5\" y=\"72.9639\">A</text><line style=\"stroke:#181818;stroke-width:0.5;\" x1=\"33\" x2=\"101\" y1=\"81.2656\" y2=\"81.2656\"/></g></a><!--MD5=[0f56879474dd655d74bf1e7b5179c1ca]\n",
       "@startuml\r\n",
       "skin sysmlbw\r\n",
       "skinparam monochrome true\r\n",
       "skinparam wrapWidth 300\r\n",
       "hide circle\r\n",
       " \r\n",
       "package \"P1\" as E1  [[psysml:0a90d248-380c-4e9b-b837-344deff0bbde ]]  {\r\n",
       "comp def \"A\" as E2  <<(T,blue) part  def>> [[psysml:e04e257c-b1d4-496b-86bb-c28797e46b80 ]] {\r\n",
       "}\r\n",
       "}\r\n",
       "@enduml\r\n",
       "\n",
       "PlantUML version 1.2022.7(Mon Aug 22 17:01:30 UTC 2022)\n",
       "(EPL source distribution)\n",
       "Java Runtime: OpenJDK Runtime Environment\n",
       "JVM: OpenJDK 64-Bit Server VM\n",
       "Default Encoding: UTF-8\n",
       "Language: en\n",
       "Country: null\n",
       "--></g></svg>"
      ]
     },
     "execution_count": 2,
     "metadata": {},
     "output_type": "execute_result"
    }
   ],
   "source": [
    "%viz --style=\"COMPTREE\" --view=\"Default\" \"P1\""
   ]
  },
  {
   "cell_type": "code",
   "execution_count": 3,
   "id": "5e60867c",
   "metadata": {
    "execution": {
     "iopub.execute_input": "2024-12-16T03:23:13.148030Z",
     "iopub.status.busy": "2024-12-16T03:23:13.147810Z",
     "iopub.status.idle": "2024-12-16T03:23:13.180124Z",
     "shell.execute_reply": "2024-12-16T03:23:13.180272Z"
    }
   },
   "outputs": [
    {
     "data": {
      "image/svg+xml": [
       "<?xml version=\"1.0\" encoding=\"UTF-8\" standalone=\"no\"?><svg xmlns=\"http://www.w3.org/2000/svg\" xmlns:xlink=\"http://www.w3.org/1999/xlink\" contentStyleType=\"text/css\" height=\"112px\" preserveAspectRatio=\"none\" style=\"width:135px;height:112px;background:#FFFFFF;\" version=\"1.1\" viewBox=\"0 0 135 112\" width=\"135px\" zoomAndPan=\"magnify\"><defs/><g><!--MD5=[fbc87193dbaf4d95561dea2c320d4a47]\n",
       "cluster E1--><g id=\"cluster_E1\"><a href=\"psysml:0a90d248-380c-4e9b-b837-344deff0bbde\" target=\"_top\" title=\"psysml:0a90d248-380c-4e9b-b837-344deff0bbde\" xlink:actuate=\"onRequest\" xlink:href=\"psysml:0a90d248-380c-4e9b-b837-344deff0bbde\" xlink:show=\"new\" xlink:title=\"psysml:0a90d248-380c-4e9b-b837-344deff0bbde\" xlink:type=\"simple\"><polygon fill=\"none\" points=\"16,6,40.875,6,47.875,28.2969,118,28.2969,118,105,16,105,16,6\" style=\"stroke:#000000;stroke-width:1.5;\"/><line style=\"stroke:#000000;stroke-width:1.5;\" x1=\"16\" x2=\"47.875\" y1=\"28.2969\" y2=\"28.2969\"/><text fill=\"#000000\" font-family=\"sans-serif\" font-size=\"14\" font-weight=\"bold\" lengthAdjust=\"spacing\" textLength=\"18.875\" x=\"20\" y=\"20.9951\">P1</text></a></g><!--MD5=[b4997ac47864f28c2f74865a473b2911]\n",
       "class E2--><a href=\"psysml:e04e257c-b1d4-496b-86bb-c28797e46b80\" target=\"_top\" title=\"psysml:e04e257c-b1d4-496b-86bb-c28797e46b80\" xlink:actuate=\"onRequest\" xlink:href=\"psysml:e04e257c-b1d4-496b-86bb-c28797e46b80\" xlink:show=\"new\" xlink:title=\"psysml:e04e257c-b1d4-496b-86bb-c28797e46b80\" xlink:type=\"simple\"><g id=\"elem_E2\"><rect fill=\"#FFFFFF\" height=\"48.2656\" id=\"E2\" style=\"stroke:#181818;stroke-width:0.5;\" width=\"70\" x=\"32\" y=\"41\"/><text fill=\"#000000\" font-family=\"sans-serif\" font-size=\"12\" font-style=\"italic\" lengthAdjust=\"spacing\" textLength=\"68\" x=\"33\" y=\"57.1387\">«part  def»</text><text fill=\"#000000\" font-family=\"sans-serif\" font-size=\"14\" lengthAdjust=\"spacing\" textLength=\"9\" x=\"62.5\" y=\"72.9639\">A</text><line style=\"stroke:#181818;stroke-width:0.5;\" x1=\"33\" x2=\"101\" y1=\"81.2656\" y2=\"81.2656\"/></g></a><!--MD5=[0f56879474dd655d74bf1e7b5179c1ca]\n",
       "@startuml\r\n",
       "skin sysmlbw\r\n",
       "skinparam monochrome true\r\n",
       "skinparam wrapWidth 300\r\n",
       "hide circle\r\n",
       " \r\n",
       "package \"P1\" as E1  [[psysml:0a90d248-380c-4e9b-b837-344deff0bbde ]]  {\r\n",
       "comp def \"A\" as E2  <<(T,blue) part  def>> [[psysml:e04e257c-b1d4-496b-86bb-c28797e46b80 ]] {\r\n",
       "}\r\n",
       "}\r\n",
       "@enduml\r\n",
       "\n",
       "PlantUML version 1.2022.7(Mon Aug 22 17:01:30 UTC 2022)\n",
       "(EPL source distribution)\n",
       "Java Runtime: OpenJDK Runtime Environment\n",
       "JVM: OpenJDK 64-Bit Server VM\n",
       "Default Encoding: UTF-8\n",
       "Language: en\n",
       "Country: null\n",
       "--></g></svg>"
      ]
     },
     "execution_count": 3,
     "metadata": {},
     "output_type": "execute_result"
    }
   ],
   "source": [
    "%viz --style=\"COMPTREE\" --view=\"Tree\" \"P1\""
   ]
  },
  {
   "cell_type": "code",
   "execution_count": 4,
   "id": "6fb9dc62",
   "metadata": {
    "execution": {
     "iopub.execute_input": "2024-12-16T03:23:13.236976Z",
     "iopub.status.busy": "2024-12-16T03:23:13.236749Z",
     "iopub.status.idle": "2024-12-16T03:23:13.247085Z",
     "shell.execute_reply": "2024-12-16T03:23:13.247232Z"
    }
   },
   "outputs": [
    {
     "data": {
      "image/svg+xml": [
       "<?xml version=\"1.0\" encoding=\"UTF-8\" standalone=\"no\"?><svg xmlns=\"http://www.w3.org/2000/svg\" xmlns:xlink=\"http://www.w3.org/1999/xlink\" contentStyleType=\"text/css\" height=\"10px\" preserveAspectRatio=\"none\" style=\"width:10px;height:10px;background:#FFFFFF;\" version=\"1.1\" viewBox=\"0 0 10 10\" width=\"10px\" zoomAndPan=\"magnify\"><defs/><g><!--MD5=[ee07d3037018df61283447c7fdb4a44f]\n",
       "@startuml\r\n",
       "skin sysmlbw\r\n",
       "skinparam monochrome true\r\n",
       "skinparam wrapWidth 300\r\n",
       "hide circle\r\n",
       " \r\n",
       "@enduml\r\n",
       "\n",
       "PlantUML version 1.2022.7(Mon Aug 22 17:01:30 UTC 2022)\n",
       "(EPL source distribution)\n",
       "Java Runtime: OpenJDK Runtime Environment\n",
       "JVM: OpenJDK 64-Bit Server VM\n",
       "Default Encoding: UTF-8\n",
       "Language: en\n",
       "Country: null\n",
       "--></g></svg>"
      ]
     },
     "execution_count": 4,
     "metadata": {},
     "output_type": "execute_result"
    }
   ],
   "source": [
    "%viz --style=\"COMPTREE\" --view=\"State\" \"P1\""
   ]
  },
  {
   "cell_type": "code",
   "execution_count": 5,
   "id": "d72645b1",
   "metadata": {
    "execution": {
     "iopub.execute_input": "2024-12-16T03:23:13.304067Z",
     "iopub.status.busy": "2024-12-16T03:23:13.303844Z",
     "iopub.status.idle": "2024-12-16T03:23:13.328877Z",
     "shell.execute_reply": "2024-12-16T03:23:13.329009Z"
    }
   },
   "outputs": [
    {
     "data": {
      "image/svg+xml": [
       "<?xml version=\"1.0\" encoding=\"UTF-8\" standalone=\"no\"?><svg xmlns=\"http://www.w3.org/2000/svg\" xmlns:xlink=\"http://www.w3.org/1999/xlink\" contentStyleType=\"text/css\" height=\"109px\" preserveAspectRatio=\"none\" style=\"width:139px;height:109px;background:#FFFFFF;\" version=\"1.1\" viewBox=\"0 0 139 109\" width=\"139px\" zoomAndPan=\"magnify\"><defs/><g><!--MD5=[fbc87193dbaf4d95561dea2c320d4a47]\n",
       "cluster E1--><g id=\"cluster_E1\"><a href=\"psysml:0a90d248-380c-4e9b-b837-344deff0bbde\" target=\"_top\" title=\"psysml:0a90d248-380c-4e9b-b837-344deff0bbde\" xlink:actuate=\"onRequest\" xlink:href=\"psysml:0a90d248-380c-4e9b-b837-344deff0bbde\" xlink:show=\"new\" xlink:title=\"psysml:0a90d248-380c-4e9b-b837-344deff0bbde\" xlink:type=\"simple\"><polygon fill=\"none\" points=\"16,6,40.875,6,47.875,28.2969,122,28.2969,122,102,16,102,16,6\" style=\"stroke:#000000;stroke-width:1.5;\"/><line style=\"stroke:#000000;stroke-width:1.5;\" x1=\"16\" x2=\"47.875\" y1=\"28.2969\" y2=\"28.2969\"/><text fill=\"#000000\" font-family=\"sans-serif\" font-size=\"14\" font-weight=\"bold\" lengthAdjust=\"spacing\" textLength=\"18.875\" x=\"20\" y=\"20.9951\">P1</text></a></g><g><a href=\"psysml:e04e257c-b1d4-496b-86bb-c28797e46b80\" target=\"_top\" title=\"psysml:e04e257c-b1d4-496b-86bb-c28797e46b80\" xlink:actuate=\"onRequest\" xlink:href=\"psysml:e04e257c-b1d4-496b-86bb-c28797e46b80\" xlink:show=\"new\" xlink:title=\"psysml:e04e257c-b1d4-496b-86bb-c28797e46b80\" xlink:type=\"simple\"><rect fill=\"#FFFFFF\" height=\"45.2656\" id=\"E2\" style=\"stroke:#383838;stroke-width:1.5;\" width=\"75\" x=\"31.5\" y=\"41\"/><text fill=\"#000000\" font-family=\"sans-serif\" font-size=\"12\" font-style=\"italic\" lengthAdjust=\"spacing\" textLength=\"68\" x=\"35\" y=\"57.1387\">«part  def»</text><text fill=\"#000000\" font-family=\"sans-serif\" font-size=\"14\" lengthAdjust=\"spacing\" textLength=\"9\" x=\"64.5\" y=\"72.9639\">A</text></a></g><!--MD5=[07585a14dd2ae3e17ada2dd95e0c8be0]\n",
       "@startuml\r\n",
       "skin sysmlbw\r\n",
       "skinparam monochrome true\r\n",
       "skinparam wrapWidth 300\r\n",
       "hide circle\r\n",
       " skinparam ranksep 10\r\n",
       "skinparam rectangle {\r\n",
       " backgroundColor<<block>> LightGreen\r\n",
       "}\r\n",
       "\r\n",
       "package \"P1\" as E1  [[psysml:0a90d248-380c-4e9b-b837-344deff0bbde ]]  {\r\n",
       "rec def \"A\" as E2  <<(T,blue) part  def>> [[psysml:e04e257c-b1d4-496b-86bb-c28797e46b80 ]] {\r\n",
       "}\r\n",
       "}\r\n",
       "@enduml\r\n",
       "\n",
       "PlantUML version 1.2022.7(Mon Aug 22 17:01:30 UTC 2022)\n",
       "(EPL source distribution)\n",
       "Java Runtime: OpenJDK Runtime Environment\n",
       "JVM: OpenJDK 64-Bit Server VM\n",
       "Default Encoding: UTF-8\n",
       "Language: en\n",
       "Country: null\n",
       "--></g></svg>"
      ]
     },
     "execution_count": 5,
     "metadata": {},
     "output_type": "execute_result"
    }
   ],
   "source": [
    "%viz --style=\"COMPTREE\" --view=\"Interconnection\" \"P1\""
   ]
  },
  {
   "cell_type": "code",
   "execution_count": 6,
   "id": "679a2b1e",
   "metadata": {
    "execution": {
     "iopub.execute_input": "2024-12-16T03:23:13.386571Z",
     "iopub.status.busy": "2024-12-16T03:23:13.385856Z",
     "iopub.status.idle": "2024-12-16T03:23:13.393028Z",
     "shell.execute_reply": "2024-12-16T03:23:13.392859Z"
    }
   },
   "outputs": [
    {
     "data": {
      "image/svg+xml": [
       "<?xml version=\"1.0\" encoding=\"UTF-8\" standalone=\"no\"?><svg xmlns=\"http://www.w3.org/2000/svg\" xmlns:xlink=\"http://www.w3.org/1999/xlink\" contentStyleType=\"text/css\" height=\"10px\" preserveAspectRatio=\"none\" style=\"width:10px;height:10px;background:#FFFFFF;\" version=\"1.1\" viewBox=\"0 0 10 10\" width=\"10px\" zoomAndPan=\"magnify\"><defs/><g><!--MD5=[042b5323e4810735e2315f6f99dad39e]\n",
       "@startuml\r\n",
       "skin sysmlbw\r\n",
       "skinparam monochrome true\r\n",
       "skinparam wrapWidth 300\r\n",
       "hide circle\r\n",
       " skinparam ranksep 8\r\n",
       "\r\n",
       "@enduml\r\n",
       "\n",
       "PlantUML version 1.2022.7(Mon Aug 22 17:01:30 UTC 2022)\n",
       "(EPL source distribution)\n",
       "Java Runtime: OpenJDK Runtime Environment\n",
       "JVM: OpenJDK 64-Bit Server VM\n",
       "Default Encoding: UTF-8\n",
       "Language: en\n",
       "Country: null\n",
       "--></g></svg>"
      ]
     },
     "execution_count": 6,
     "metadata": {},
     "output_type": "execute_result"
    }
   ],
   "source": [
    "%viz --style=\"COMPTREE\" --view=\"Action\" \"P1\""
   ]
  },
  {
   "cell_type": "code",
   "execution_count": 7,
   "id": "ec000e86",
   "metadata": {
    "execution": {
     "iopub.execute_input": "2024-12-16T03:23:13.446090Z",
     "iopub.status.busy": "2024-12-16T03:23:13.445872Z",
     "iopub.status.idle": "2024-12-16T03:23:13.457087Z",
     "shell.execute_reply": "2024-12-16T03:23:13.456903Z"
    }
   },
   "outputs": [
    {
     "data": {
      "image/svg+xml": [
       "<?xml version=\"1.0\" encoding=\"UTF-8\" standalone=\"no\"?><svg xmlns=\"http://www.w3.org/2000/svg\" xmlns:xlink=\"http://www.w3.org/1999/xlink\" contentStyleType=\"text/css\" height=\"10px\" preserveAspectRatio=\"none\" style=\"width:10px;height:10px;background:#FFFFFF;\" version=\"1.1\" viewBox=\"0 0 10 10\" width=\"10px\" zoomAndPan=\"magnify\"><defs/><g><!--MD5=[f5e9abf0a6c8dccaf40d0172f495ca0b]\n",
       "@startuml\r\n",
       "skin sysmlbw\r\n",
       "skinparam monochrome true\r\n",
       "skinparam wrapWidth 300\r\n",
       "hide circle\r\n",
       " skinparam roundcorner 20\r\n",
       "skinparam BoxPadding 20\r\n",
       "skinparam SequenceBoxBackgroundColor #white\r\n",
       "skinparam style strictuml\r\n",
       "skinparam maxMessageSize 100\r\n",
       "\r\n",
       "@enduml\r\n",
       "\n",
       "PlantUML version 1.2022.7(Mon Aug 22 17:01:30 UTC 2022)\n",
       "(EPL source distribution)\n",
       "Java Runtime: OpenJDK Runtime Environment\n",
       "JVM: OpenJDK 64-Bit Server VM\n",
       "Default Encoding: UTF-8\n",
       "Language: en\n",
       "Country: null\n",
       "--></g></svg>"
      ]
     },
     "execution_count": 7,
     "metadata": {},
     "output_type": "execute_result"
    }
   ],
   "source": [
    "%viz --style=\"COMPTREE\" --view=\"Sequence\" \"P1\""
   ]
  },
  {
   "cell_type": "code",
   "execution_count": 8,
   "id": "4aed5cd8",
   "metadata": {
    "execution": {
     "iopub.execute_input": "2024-12-16T03:23:13.513964Z",
     "iopub.status.busy": "2024-12-16T03:23:13.513728Z",
     "iopub.status.idle": "2024-12-16T03:23:13.536401Z",
     "shell.execute_reply": "2024-12-16T03:23:13.536203Z"
    }
   },
   "outputs": [
    {
     "data": {
      "image/svg+xml": [
       "<?xml version=\"1.0\" encoding=\"UTF-8\" standalone=\"no\"?><svg xmlns=\"http://www.w3.org/2000/svg\" xmlns:xlink=\"http://www.w3.org/1999/xlink\" contentStyleType=\"text/css\" height=\"112px\" preserveAspectRatio=\"none\" style=\"width:135px;height:112px;background:#FFFFFF;\" version=\"1.1\" viewBox=\"0 0 135 112\" width=\"135px\" zoomAndPan=\"magnify\"><defs/><g><!--MD5=[fbc87193dbaf4d95561dea2c320d4a47]\n",
       "cluster E1--><g id=\"cluster_E1\"><a href=\"psysml:0a90d248-380c-4e9b-b837-344deff0bbde\" target=\"_top\" title=\"psysml:0a90d248-380c-4e9b-b837-344deff0bbde\" xlink:actuate=\"onRequest\" xlink:href=\"psysml:0a90d248-380c-4e9b-b837-344deff0bbde\" xlink:show=\"new\" xlink:title=\"psysml:0a90d248-380c-4e9b-b837-344deff0bbde\" xlink:type=\"simple\"><polygon fill=\"none\" points=\"16,6,40.875,6,47.875,28.2969,118,28.2969,118,105,16,105,16,6\" style=\"stroke:#000000;stroke-width:1.5;\"/><line style=\"stroke:#000000;stroke-width:1.5;\" x1=\"16\" x2=\"47.875\" y1=\"28.2969\" y2=\"28.2969\"/><text fill=\"#000000\" font-family=\"sans-serif\" font-size=\"14\" font-weight=\"bold\" lengthAdjust=\"spacing\" textLength=\"18.875\" x=\"20\" y=\"20.9951\">P1</text></a></g><!--MD5=[b4997ac47864f28c2f74865a473b2911]\n",
       "class E2--><a href=\"psysml:e04e257c-b1d4-496b-86bb-c28797e46b80\" target=\"_top\" title=\"psysml:e04e257c-b1d4-496b-86bb-c28797e46b80\" xlink:actuate=\"onRequest\" xlink:href=\"psysml:e04e257c-b1d4-496b-86bb-c28797e46b80\" xlink:show=\"new\" xlink:title=\"psysml:e04e257c-b1d4-496b-86bb-c28797e46b80\" xlink:type=\"simple\"><g id=\"elem_E2\"><rect fill=\"#FFFFFF\" height=\"48.2656\" id=\"E2\" style=\"stroke:#181818;stroke-width:0.5;\" width=\"70\" x=\"32\" y=\"41\"/><text fill=\"#000000\" font-family=\"sans-serif\" font-size=\"12\" font-style=\"italic\" lengthAdjust=\"spacing\" textLength=\"68\" x=\"33\" y=\"57.1387\">«part  def»</text><text fill=\"#000000\" font-family=\"sans-serif\" font-size=\"14\" lengthAdjust=\"spacing\" textLength=\"9\" x=\"62.5\" y=\"72.9639\">A</text><line style=\"stroke:#181818;stroke-width:0.5;\" x1=\"33\" x2=\"101\" y1=\"81.2656\" y2=\"81.2656\"/></g></a><!--MD5=[0f56879474dd655d74bf1e7b5179c1ca]\n",
       "@startuml\r\n",
       "skin sysmlbw\r\n",
       "skinparam monochrome true\r\n",
       "skinparam wrapWidth 300\r\n",
       "hide circle\r\n",
       " \r\n",
       "package \"P1\" as E1  [[psysml:0a90d248-380c-4e9b-b837-344deff0bbde ]]  {\r\n",
       "comp def \"A\" as E2  <<(T,blue) part  def>> [[psysml:e04e257c-b1d4-496b-86bb-c28797e46b80 ]] {\r\n",
       "}\r\n",
       "}\r\n",
       "@enduml\r\n",
       "\n",
       "PlantUML version 1.2022.7(Mon Aug 22 17:01:30 UTC 2022)\n",
       "(EPL source distribution)\n",
       "Java Runtime: OpenJDK Runtime Environment\n",
       "JVM: OpenJDK 64-Bit Server VM\n",
       "Default Encoding: UTF-8\n",
       "Language: en\n",
       "Country: null\n",
       "--></g></svg>"
      ]
     },
     "execution_count": 8,
     "metadata": {},
     "output_type": "execute_result"
    }
   ],
   "source": [
    "%viz --style=\"COMPTREE\" --view=\"MIXED\" \"P1\""
   ]
  },
  {
   "cell_type": "code",
   "execution_count": 9,
   "id": "00dcd145",
   "metadata": {
    "execution": {
     "iopub.execute_input": "2024-12-16T03:23:13.588678Z",
     "iopub.status.busy": "2024-12-16T03:23:13.588441Z",
     "iopub.status.idle": "2024-12-16T03:23:13.611256Z",
     "shell.execute_reply": "2024-12-16T03:23:13.611008Z"
    }
   },
   "outputs": [
    {
     "data": {
      "image/svg+xml": [
       "<?xml version=\"1.0\" encoding=\"UTF-8\" standalone=\"no\"?><svg xmlns=\"http://www.w3.org/2000/svg\" xmlns:xlink=\"http://www.w3.org/1999/xlink\" contentStyleType=\"text/css\" height=\"112px\" preserveAspectRatio=\"none\" style=\"width:135px;height:112px;background:#FFFFFF;\" version=\"1.1\" viewBox=\"0 0 135 112\" width=\"135px\" zoomAndPan=\"magnify\"><defs/><g><!--MD5=[fbc87193dbaf4d95561dea2c320d4a47]\n",
       "cluster E1--><g id=\"cluster_E1\"><a href=\"psysml:0a90d248-380c-4e9b-b837-344deff0bbde\" target=\"_top\" title=\"psysml:0a90d248-380c-4e9b-b837-344deff0bbde\" xlink:actuate=\"onRequest\" xlink:href=\"psysml:0a90d248-380c-4e9b-b837-344deff0bbde\" xlink:show=\"new\" xlink:title=\"psysml:0a90d248-380c-4e9b-b837-344deff0bbde\" xlink:type=\"simple\"><polygon fill=\"none\" points=\"16,6,40.875,6,47.875,28.2969,118,28.2969,118,105,16,105,16,6\" style=\"stroke:#000000;stroke-width:1.5;\"/><line style=\"stroke:#000000;stroke-width:1.5;\" x1=\"16\" x2=\"47.875\" y1=\"28.2969\" y2=\"28.2969\"/><text fill=\"#000000\" font-family=\"sans-serif\" font-size=\"14\" font-weight=\"bold\" lengthAdjust=\"spacing\" textLength=\"18.875\" x=\"20\" y=\"20.9951\">P1</text></a></g><!--MD5=[b4997ac47864f28c2f74865a473b2911]\n",
       "class E2--><a href=\"psysml:e04e257c-b1d4-496b-86bb-c28797e46b80\" target=\"_top\" title=\"psysml:e04e257c-b1d4-496b-86bb-c28797e46b80\" xlink:actuate=\"onRequest\" xlink:href=\"psysml:e04e257c-b1d4-496b-86bb-c28797e46b80\" xlink:show=\"new\" xlink:title=\"psysml:e04e257c-b1d4-496b-86bb-c28797e46b80\" xlink:type=\"simple\"><g id=\"elem_E2\"><rect fill=\"#FFFFFF\" height=\"48.2656\" id=\"E2\" style=\"stroke:#181818;stroke-width:0.5;\" width=\"70\" x=\"32\" y=\"41\"/><text fill=\"#000000\" font-family=\"sans-serif\" font-size=\"12\" font-style=\"italic\" lengthAdjust=\"spacing\" textLength=\"68\" x=\"33\" y=\"57.1387\">«part  def»</text><text fill=\"#000000\" font-family=\"sans-serif\" font-size=\"14\" lengthAdjust=\"spacing\" textLength=\"9\" x=\"62.5\" y=\"72.9639\">A</text><line style=\"stroke:#181818;stroke-width:0.5;\" x1=\"33\" x2=\"101\" y1=\"81.2656\" y2=\"81.2656\"/></g></a><!--MD5=[6f5eb1ced7069a232adc83db5aa42fe5]\n",
       "@startuml\r\n",
       "skin sysmlbw\r\n",
       "skinparam monochrome true\r\n",
       "skinparam wrapWidth 300\r\n",
       "hide circle\r\n",
       "skinparam linetype polyline\r\n",
       "\r\n",
       "package \"P1\" as E1  [[psysml:0a90d248-380c-4e9b-b837-344deff0bbde ]]  {\r\n",
       "comp def \"A\" as E2  <<(T,blue) part  def>> [[psysml:e04e257c-b1d4-496b-86bb-c28797e46b80 ]] {\r\n",
       "}\r\n",
       "}\r\n",
       "@enduml\r\n",
       "\n",
       "PlantUML version 1.2022.7(Mon Aug 22 17:01:30 UTC 2022)\n",
       "(EPL source distribution)\n",
       "Java Runtime: OpenJDK Runtime Environment\n",
       "JVM: OpenJDK 64-Bit Server VM\n",
       "Default Encoding: UTF-8\n",
       "Language: en\n",
       "Country: null\n",
       "--></g></svg>"
      ]
     },
     "execution_count": 9,
     "metadata": {},
     "output_type": "execute_result"
    }
   ],
   "source": [
    "%viz --style=\"POLYLINE\" --view=\"Default\" \"P1\""
   ]
  },
  {
   "cell_type": "code",
   "execution_count": 10,
   "id": "7ecb0e75",
   "metadata": {
    "execution": {
     "iopub.execute_input": "2024-12-16T03:23:13.662916Z",
     "iopub.status.busy": "2024-12-16T03:23:13.662665Z",
     "iopub.status.idle": "2024-12-16T03:23:13.681817Z",
     "shell.execute_reply": "2024-12-16T03:23:13.681614Z"
    }
   },
   "outputs": [
    {
     "data": {
      "image/svg+xml": [
       "<?xml version=\"1.0\" encoding=\"UTF-8\" standalone=\"no\"?><svg xmlns=\"http://www.w3.org/2000/svg\" xmlns:xlink=\"http://www.w3.org/1999/xlink\" contentStyleType=\"text/css\" height=\"112px\" preserveAspectRatio=\"none\" style=\"width:135px;height:112px;background:#FFFFFF;\" version=\"1.1\" viewBox=\"0 0 135 112\" width=\"135px\" zoomAndPan=\"magnify\"><defs/><g><!--MD5=[fbc87193dbaf4d95561dea2c320d4a47]\n",
       "cluster E1--><g id=\"cluster_E1\"><a href=\"psysml:0a90d248-380c-4e9b-b837-344deff0bbde\" target=\"_top\" title=\"psysml:0a90d248-380c-4e9b-b837-344deff0bbde\" xlink:actuate=\"onRequest\" xlink:href=\"psysml:0a90d248-380c-4e9b-b837-344deff0bbde\" xlink:show=\"new\" xlink:title=\"psysml:0a90d248-380c-4e9b-b837-344deff0bbde\" xlink:type=\"simple\"><polygon fill=\"none\" points=\"16,6,40.875,6,47.875,28.2969,118,28.2969,118,105,16,105,16,6\" style=\"stroke:#000000;stroke-width:1.5;\"/><line style=\"stroke:#000000;stroke-width:1.5;\" x1=\"16\" x2=\"47.875\" y1=\"28.2969\" y2=\"28.2969\"/><text fill=\"#000000\" font-family=\"sans-serif\" font-size=\"14\" font-weight=\"bold\" lengthAdjust=\"spacing\" textLength=\"18.875\" x=\"20\" y=\"20.9951\">P1</text></a></g><!--MD5=[b4997ac47864f28c2f74865a473b2911]\n",
       "class E2--><a href=\"psysml:e04e257c-b1d4-496b-86bb-c28797e46b80\" target=\"_top\" title=\"psysml:e04e257c-b1d4-496b-86bb-c28797e46b80\" xlink:actuate=\"onRequest\" xlink:href=\"psysml:e04e257c-b1d4-496b-86bb-c28797e46b80\" xlink:show=\"new\" xlink:title=\"psysml:e04e257c-b1d4-496b-86bb-c28797e46b80\" xlink:type=\"simple\"><g id=\"elem_E2\"><rect fill=\"#FFFFFF\" height=\"48.2656\" id=\"E2\" style=\"stroke:#181818;stroke-width:0.5;\" width=\"70\" x=\"32\" y=\"41\"/><text fill=\"#000000\" font-family=\"sans-serif\" font-size=\"12\" font-style=\"italic\" lengthAdjust=\"spacing\" textLength=\"68\" x=\"33\" y=\"57.1387\">«part  def»</text><text fill=\"#000000\" font-family=\"sans-serif\" font-size=\"14\" lengthAdjust=\"spacing\" textLength=\"9\" x=\"62.5\" y=\"72.9639\">A</text><line style=\"stroke:#181818;stroke-width:0.5;\" x1=\"33\" x2=\"101\" y1=\"81.2656\" y2=\"81.2656\"/></g></a><!--MD5=[6f5eb1ced7069a232adc83db5aa42fe5]\n",
       "@startuml\r\n",
       "skin sysmlbw\r\n",
       "skinparam monochrome true\r\n",
       "skinparam wrapWidth 300\r\n",
       "hide circle\r\n",
       "skinparam linetype polyline\r\n",
       "\r\n",
       "package \"P1\" as E1  [[psysml:0a90d248-380c-4e9b-b837-344deff0bbde ]]  {\r\n",
       "comp def \"A\" as E2  <<(T,blue) part  def>> [[psysml:e04e257c-b1d4-496b-86bb-c28797e46b80 ]] {\r\n",
       "}\r\n",
       "}\r\n",
       "@enduml\r\n",
       "\n",
       "PlantUML version 1.2022.7(Mon Aug 22 17:01:30 UTC 2022)\n",
       "(EPL source distribution)\n",
       "Java Runtime: OpenJDK Runtime Environment\n",
       "JVM: OpenJDK 64-Bit Server VM\n",
       "Default Encoding: UTF-8\n",
       "Language: en\n",
       "Country: null\n",
       "--></g></svg>"
      ]
     },
     "execution_count": 10,
     "metadata": {},
     "output_type": "execute_result"
    }
   ],
   "source": [
    "%viz --style=\"POLYLINE\" --view=\"Tree\" \"P1\""
   ]
  },
  {
   "cell_type": "code",
   "execution_count": 11,
   "id": "25d9af9b",
   "metadata": {
    "execution": {
     "iopub.execute_input": "2024-12-16T03:23:13.739079Z",
     "iopub.status.busy": "2024-12-16T03:23:13.738845Z",
     "iopub.status.idle": "2024-12-16T03:23:13.745042Z",
     "shell.execute_reply": "2024-12-16T03:23:13.744855Z"
    }
   },
   "outputs": [
    {
     "data": {
      "image/svg+xml": [
       "<?xml version=\"1.0\" encoding=\"UTF-8\" standalone=\"no\"?><svg xmlns=\"http://www.w3.org/2000/svg\" xmlns:xlink=\"http://www.w3.org/1999/xlink\" contentStyleType=\"text/css\" height=\"10px\" preserveAspectRatio=\"none\" style=\"width:10px;height:10px;background:#FFFFFF;\" version=\"1.1\" viewBox=\"0 0 10 10\" width=\"10px\" zoomAndPan=\"magnify\"><defs/><g><!--MD5=[20bed88d98f2aabbefdc8661420d403d]\n",
       "@startuml\r\n",
       "skin sysmlbw\r\n",
       "skinparam monochrome true\r\n",
       "skinparam wrapWidth 300\r\n",
       "hide circle\r\n",
       "skinparam linetype polyline\r\n",
       "\r\n",
       "@enduml\r\n",
       "\n",
       "PlantUML version 1.2022.7(Mon Aug 22 17:01:30 UTC 2022)\n",
       "(EPL source distribution)\n",
       "Java Runtime: OpenJDK Runtime Environment\n",
       "JVM: OpenJDK 64-Bit Server VM\n",
       "Default Encoding: UTF-8\n",
       "Language: en\n",
       "Country: null\n",
       "--></g></svg>"
      ]
     },
     "execution_count": 11,
     "metadata": {},
     "output_type": "execute_result"
    }
   ],
   "source": [
    "%viz --style=\"POLYLINE\" --view=\"State\" \"P1\""
   ]
  },
  {
   "cell_type": "code",
   "execution_count": 12,
   "id": "28b1691f",
   "metadata": {
    "execution": {
     "iopub.execute_input": "2024-12-16T03:23:13.801030Z",
     "iopub.status.busy": "2024-12-16T03:23:13.800670Z",
     "iopub.status.idle": "2024-12-16T03:23:13.817524Z",
     "shell.execute_reply": "2024-12-16T03:23:13.817334Z"
    }
   },
   "outputs": [
    {
     "data": {
      "image/svg+xml": [
       "<?xml version=\"1.0\" encoding=\"UTF-8\" standalone=\"no\"?><svg xmlns=\"http://www.w3.org/2000/svg\" xmlns:xlink=\"http://www.w3.org/1999/xlink\" contentStyleType=\"text/css\" height=\"109px\" preserveAspectRatio=\"none\" style=\"width:139px;height:109px;background:#FFFFFF;\" version=\"1.1\" viewBox=\"0 0 139 109\" width=\"139px\" zoomAndPan=\"magnify\"><defs/><g><!--MD5=[fbc87193dbaf4d95561dea2c320d4a47]\n",
       "cluster E1--><g id=\"cluster_E1\"><a href=\"psysml:0a90d248-380c-4e9b-b837-344deff0bbde\" target=\"_top\" title=\"psysml:0a90d248-380c-4e9b-b837-344deff0bbde\" xlink:actuate=\"onRequest\" xlink:href=\"psysml:0a90d248-380c-4e9b-b837-344deff0bbde\" xlink:show=\"new\" xlink:title=\"psysml:0a90d248-380c-4e9b-b837-344deff0bbde\" xlink:type=\"simple\"><polygon fill=\"none\" points=\"16,6,40.875,6,47.875,28.2969,122,28.2969,122,102,16,102,16,6\" style=\"stroke:#000000;stroke-width:1.5;\"/><line style=\"stroke:#000000;stroke-width:1.5;\" x1=\"16\" x2=\"47.875\" y1=\"28.2969\" y2=\"28.2969\"/><text fill=\"#000000\" font-family=\"sans-serif\" font-size=\"14\" font-weight=\"bold\" lengthAdjust=\"spacing\" textLength=\"18.875\" x=\"20\" y=\"20.9951\">P1</text></a></g><g><a href=\"psysml:e04e257c-b1d4-496b-86bb-c28797e46b80\" target=\"_top\" title=\"psysml:e04e257c-b1d4-496b-86bb-c28797e46b80\" xlink:actuate=\"onRequest\" xlink:href=\"psysml:e04e257c-b1d4-496b-86bb-c28797e46b80\" xlink:show=\"new\" xlink:title=\"psysml:e04e257c-b1d4-496b-86bb-c28797e46b80\" xlink:type=\"simple\"><rect fill=\"#FFFFFF\" height=\"45.2656\" id=\"E2\" style=\"stroke:#383838;stroke-width:1.5;\" width=\"75\" x=\"31.5\" y=\"41\"/><text fill=\"#000000\" font-family=\"sans-serif\" font-size=\"12\" font-style=\"italic\" lengthAdjust=\"spacing\" textLength=\"68\" x=\"35\" y=\"57.1387\">«part  def»</text><text fill=\"#000000\" font-family=\"sans-serif\" font-size=\"14\" lengthAdjust=\"spacing\" textLength=\"9\" x=\"64.5\" y=\"72.9639\">A</text></a></g><!--MD5=[8c5c752c5dc22bb4e56225c7c06c89be]\n",
       "@startuml\r\n",
       "skin sysmlbw\r\n",
       "skinparam monochrome true\r\n",
       "skinparam wrapWidth 300\r\n",
       "hide circle\r\n",
       "skinparam linetype polyline\r\n",
       "skinparam ranksep 10\r\n",
       "skinparam rectangle {\r\n",
       " backgroundColor<<block>> LightGreen\r\n",
       "}\r\n",
       "\r\n",
       "package \"P1\" as E1  [[psysml:0a90d248-380c-4e9b-b837-344deff0bbde ]]  {\r\n",
       "rec def \"A\" as E2  <<(T,blue) part  def>> [[psysml:e04e257c-b1d4-496b-86bb-c28797e46b80 ]] {\r\n",
       "}\r\n",
       "}\r\n",
       "@enduml\r\n",
       "\n",
       "PlantUML version 1.2022.7(Mon Aug 22 17:01:30 UTC 2022)\n",
       "(EPL source distribution)\n",
       "Java Runtime: OpenJDK Runtime Environment\n",
       "JVM: OpenJDK 64-Bit Server VM\n",
       "Default Encoding: UTF-8\n",
       "Language: en\n",
       "Country: null\n",
       "--></g></svg>"
      ]
     },
     "execution_count": 12,
     "metadata": {},
     "output_type": "execute_result"
    }
   ],
   "source": [
    "%viz --style=\"POLYLINE\" --view=\"Interconnection\" \"P1\""
   ]
  },
  {
   "cell_type": "code",
   "execution_count": 13,
   "id": "1ad15f96",
   "metadata": {
    "execution": {
     "iopub.execute_input": "2024-12-16T03:23:13.871269Z",
     "iopub.status.busy": "2024-12-16T03:23:13.870991Z",
     "iopub.status.idle": "2024-12-16T03:23:13.882608Z",
     "shell.execute_reply": "2024-12-16T03:23:13.882420Z"
    }
   },
   "outputs": [
    {
     "data": {
      "image/svg+xml": [
       "<?xml version=\"1.0\" encoding=\"UTF-8\" standalone=\"no\"?><svg xmlns=\"http://www.w3.org/2000/svg\" xmlns:xlink=\"http://www.w3.org/1999/xlink\" contentStyleType=\"text/css\" height=\"10px\" preserveAspectRatio=\"none\" style=\"width:10px;height:10px;background:#FFFFFF;\" version=\"1.1\" viewBox=\"0 0 10 10\" width=\"10px\" zoomAndPan=\"magnify\"><defs/><g><!--MD5=[ff8e7c24accf200c4355ceeab022c402]\n",
       "@startuml\r\n",
       "skin sysmlbw\r\n",
       "skinparam monochrome true\r\n",
       "skinparam wrapWidth 300\r\n",
       "hide circle\r\n",
       "skinparam linetype polyline\r\n",
       "skinparam ranksep 8\r\n",
       "\r\n",
       "@enduml\r\n",
       "\n",
       "PlantUML version 1.2022.7(Mon Aug 22 17:01:30 UTC 2022)\n",
       "(EPL source distribution)\n",
       "Java Runtime: OpenJDK Runtime Environment\n",
       "JVM: OpenJDK 64-Bit Server VM\n",
       "Default Encoding: UTF-8\n",
       "Language: en\n",
       "Country: null\n",
       "--></g></svg>"
      ]
     },
     "execution_count": 13,
     "metadata": {},
     "output_type": "execute_result"
    }
   ],
   "source": [
    "%viz --style=\"POLYLINE\" --view=\"Action\" \"P1\""
   ]
  },
  {
   "cell_type": "code",
   "execution_count": 14,
   "id": "80d07fe4",
   "metadata": {
    "execution": {
     "iopub.execute_input": "2024-12-16T03:23:13.935150Z",
     "iopub.status.busy": "2024-12-16T03:23:13.934925Z",
     "iopub.status.idle": "2024-12-16T03:23:13.940857Z",
     "shell.execute_reply": "2024-12-16T03:23:13.940686Z"
    }
   },
   "outputs": [
    {
     "data": {
      "image/svg+xml": [
       "<?xml version=\"1.0\" encoding=\"UTF-8\" standalone=\"no\"?><svg xmlns=\"http://www.w3.org/2000/svg\" xmlns:xlink=\"http://www.w3.org/1999/xlink\" contentStyleType=\"text/css\" height=\"10px\" preserveAspectRatio=\"none\" style=\"width:10px;height:10px;background:#FFFFFF;\" version=\"1.1\" viewBox=\"0 0 10 10\" width=\"10px\" zoomAndPan=\"magnify\"><defs/><g><!--MD5=[efefafbf36b45173e0355713d9054f90]\n",
       "@startuml\r\n",
       "skin sysmlbw\r\n",
       "skinparam monochrome true\r\n",
       "skinparam wrapWidth 300\r\n",
       "hide circle\r\n",
       "skinparam linetype polyline\r\n",
       "skinparam roundcorner 20\r\n",
       "skinparam BoxPadding 20\r\n",
       "skinparam SequenceBoxBackgroundColor #white\r\n",
       "skinparam style strictuml\r\n",
       "skinparam maxMessageSize 100\r\n",
       "\r\n",
       "@enduml\r\n",
       "\n",
       "PlantUML version 1.2022.7(Mon Aug 22 17:01:30 UTC 2022)\n",
       "(EPL source distribution)\n",
       "Java Runtime: OpenJDK Runtime Environment\n",
       "JVM: OpenJDK 64-Bit Server VM\n",
       "Default Encoding: UTF-8\n",
       "Language: en\n",
       "Country: null\n",
       "--></g></svg>"
      ]
     },
     "execution_count": 14,
     "metadata": {},
     "output_type": "execute_result"
    }
   ],
   "source": [
    "%viz --style=\"POLYLINE\" --view=\"Sequence\" \"P1\""
   ]
  },
  {
   "cell_type": "code",
   "execution_count": 15,
   "id": "00eae180",
   "metadata": {
    "execution": {
     "iopub.execute_input": "2024-12-16T03:23:13.996899Z",
     "iopub.status.busy": "2024-12-16T03:23:13.996642Z",
     "iopub.status.idle": "2024-12-16T03:23:14.012885Z",
     "shell.execute_reply": "2024-12-16T03:23:14.013016Z"
    }
   },
   "outputs": [
    {
     "data": {
      "image/svg+xml": [
       "<?xml version=\"1.0\" encoding=\"UTF-8\" standalone=\"no\"?><svg xmlns=\"http://www.w3.org/2000/svg\" xmlns:xlink=\"http://www.w3.org/1999/xlink\" contentStyleType=\"text/css\" height=\"112px\" preserveAspectRatio=\"none\" style=\"width:135px;height:112px;background:#FFFFFF;\" version=\"1.1\" viewBox=\"0 0 135 112\" width=\"135px\" zoomAndPan=\"magnify\"><defs/><g><!--MD5=[fbc87193dbaf4d95561dea2c320d4a47]\n",
       "cluster E1--><g id=\"cluster_E1\"><a href=\"psysml:0a90d248-380c-4e9b-b837-344deff0bbde\" target=\"_top\" title=\"psysml:0a90d248-380c-4e9b-b837-344deff0bbde\" xlink:actuate=\"onRequest\" xlink:href=\"psysml:0a90d248-380c-4e9b-b837-344deff0bbde\" xlink:show=\"new\" xlink:title=\"psysml:0a90d248-380c-4e9b-b837-344deff0bbde\" xlink:type=\"simple\"><polygon fill=\"none\" points=\"16,6,40.875,6,47.875,28.2969,118,28.2969,118,105,16,105,16,6\" style=\"stroke:#000000;stroke-width:1.5;\"/><line style=\"stroke:#000000;stroke-width:1.5;\" x1=\"16\" x2=\"47.875\" y1=\"28.2969\" y2=\"28.2969\"/><text fill=\"#000000\" font-family=\"sans-serif\" font-size=\"14\" font-weight=\"bold\" lengthAdjust=\"spacing\" textLength=\"18.875\" x=\"20\" y=\"20.9951\">P1</text></a></g><!--MD5=[b4997ac47864f28c2f74865a473b2911]\n",
       "class E2--><a href=\"psysml:e04e257c-b1d4-496b-86bb-c28797e46b80\" target=\"_top\" title=\"psysml:e04e257c-b1d4-496b-86bb-c28797e46b80\" xlink:actuate=\"onRequest\" xlink:href=\"psysml:e04e257c-b1d4-496b-86bb-c28797e46b80\" xlink:show=\"new\" xlink:title=\"psysml:e04e257c-b1d4-496b-86bb-c28797e46b80\" xlink:type=\"simple\"><g id=\"elem_E2\"><rect fill=\"#FFFFFF\" height=\"48.2656\" id=\"E2\" style=\"stroke:#181818;stroke-width:0.5;\" width=\"70\" x=\"32\" y=\"41\"/><text fill=\"#000000\" font-family=\"sans-serif\" font-size=\"12\" font-style=\"italic\" lengthAdjust=\"spacing\" textLength=\"68\" x=\"33\" y=\"57.1387\">«part  def»</text><text fill=\"#000000\" font-family=\"sans-serif\" font-size=\"14\" lengthAdjust=\"spacing\" textLength=\"9\" x=\"62.5\" y=\"72.9639\">A</text><line style=\"stroke:#181818;stroke-width:0.5;\" x1=\"33\" x2=\"101\" y1=\"81.2656\" y2=\"81.2656\"/></g></a><!--MD5=[6f5eb1ced7069a232adc83db5aa42fe5]\n",
       "@startuml\r\n",
       "skin sysmlbw\r\n",
       "skinparam monochrome true\r\n",
       "skinparam wrapWidth 300\r\n",
       "hide circle\r\n",
       "skinparam linetype polyline\r\n",
       "\r\n",
       "package \"P1\" as E1  [[psysml:0a90d248-380c-4e9b-b837-344deff0bbde ]]  {\r\n",
       "comp def \"A\" as E2  <<(T,blue) part  def>> [[psysml:e04e257c-b1d4-496b-86bb-c28797e46b80 ]] {\r\n",
       "}\r\n",
       "}\r\n",
       "@enduml\r\n",
       "\n",
       "PlantUML version 1.2022.7(Mon Aug 22 17:01:30 UTC 2022)\n",
       "(EPL source distribution)\n",
       "Java Runtime: OpenJDK Runtime Environment\n",
       "JVM: OpenJDK 64-Bit Server VM\n",
       "Default Encoding: UTF-8\n",
       "Language: en\n",
       "Country: null\n",
       "--></g></svg>"
      ]
     },
     "execution_count": 15,
     "metadata": {},
     "output_type": "execute_result"
    }
   ],
   "source": [
    "%viz --style=\"POLYLINE\" --view=\"MIXED\" \"P1\""
   ]
  },
  {
   "cell_type": "code",
   "execution_count": 16,
   "id": "870d1fb0",
   "metadata": {
    "execution": {
     "iopub.execute_input": "2024-12-16T03:23:14.065937Z",
     "iopub.status.busy": "2024-12-16T03:23:14.065648Z",
     "iopub.status.idle": "2024-12-16T03:23:14.084045Z",
     "shell.execute_reply": "2024-12-16T03:23:14.083850Z"
    }
   },
   "outputs": [
    {
     "data": {
      "image/svg+xml": [
       "<?xml version=\"1.0\" encoding=\"UTF-8\" standalone=\"no\"?><svg xmlns=\"http://www.w3.org/2000/svg\" xmlns:xlink=\"http://www.w3.org/1999/xlink\" contentStyleType=\"text/css\" height=\"112px\" preserveAspectRatio=\"none\" style=\"width:135px;height:112px;background:#FFFFFF;\" version=\"1.1\" viewBox=\"0 0 135 112\" width=\"135px\" zoomAndPan=\"magnify\"><defs/><g><!--MD5=[fbc87193dbaf4d95561dea2c320d4a47]\n",
       "cluster E1--><g id=\"cluster_E1\"><a href=\"psysml:0a90d248-380c-4e9b-b837-344deff0bbde\" target=\"_top\" title=\"psysml:0a90d248-380c-4e9b-b837-344deff0bbde\" xlink:actuate=\"onRequest\" xlink:href=\"psysml:0a90d248-380c-4e9b-b837-344deff0bbde\" xlink:show=\"new\" xlink:title=\"psysml:0a90d248-380c-4e9b-b837-344deff0bbde\" xlink:type=\"simple\"><polygon fill=\"none\" points=\"16,6,40.875,6,47.875,28.2969,118,28.2969,118,105,16,105,16,6\" style=\"stroke:#000000;stroke-width:1.5;\"/><line style=\"stroke:#000000;stroke-width:1.5;\" x1=\"16\" x2=\"47.875\" y1=\"28.2969\" y2=\"28.2969\"/><text fill=\"#000000\" font-family=\"sans-serif\" font-size=\"14\" font-weight=\"bold\" lengthAdjust=\"spacing\" textLength=\"18.875\" x=\"20\" y=\"20.9951\">P1</text></a></g><!--MD5=[b4997ac47864f28c2f74865a473b2911]\n",
       "class E2--><a href=\"psysml:e04e257c-b1d4-496b-86bb-c28797e46b80\" target=\"_top\" title=\"psysml:e04e257c-b1d4-496b-86bb-c28797e46b80\" xlink:actuate=\"onRequest\" xlink:href=\"psysml:e04e257c-b1d4-496b-86bb-c28797e46b80\" xlink:show=\"new\" xlink:title=\"psysml:e04e257c-b1d4-496b-86bb-c28797e46b80\" xlink:type=\"simple\"><g id=\"elem_E2\"><rect fill=\"#FFFFFF\" height=\"48.2656\" id=\"E2\" style=\"stroke:#181818;stroke-width:0.5;\" width=\"70\" x=\"32\" y=\"41\"/><text fill=\"#000000\" font-family=\"sans-serif\" font-size=\"12\" font-style=\"italic\" lengthAdjust=\"spacing\" textLength=\"68\" x=\"33\" y=\"57.1387\">«part  def»</text><text fill=\"#000000\" font-family=\"sans-serif\" font-size=\"14\" lengthAdjust=\"spacing\" textLength=\"9\" x=\"62.5\" y=\"72.9639\">A</text><line style=\"stroke:#181818;stroke-width:0.5;\" x1=\"33\" x2=\"101\" y1=\"81.2656\" y2=\"81.2656\"/></g></a><!--MD5=[2cb692b98fe1a993810d1231636e6627]\n",
       "@startuml\r\n",
       "skin sysmlbw\r\n",
       "skinparam monochrome true\r\n",
       "skinparam wrapWidth 300\r\n",
       "hide circle\r\n",
       "left to right direction\r\n",
       "\r\n",
       "package \"P1\" as E1  [[psysml:0a90d248-380c-4e9b-b837-344deff0bbde ]]  {\r\n",
       "comp def \"A\" as E2  <<(T,blue) part  def>> [[psysml:e04e257c-b1d4-496b-86bb-c28797e46b80 ]] {\r\n",
       "}\r\n",
       "}\r\n",
       "@enduml\r\n",
       "\n",
       "PlantUML version 1.2022.7(Mon Aug 22 17:01:30 UTC 2022)\n",
       "(EPL source distribution)\n",
       "Java Runtime: OpenJDK Runtime Environment\n",
       "JVM: OpenJDK 64-Bit Server VM\n",
       "Default Encoding: UTF-8\n",
       "Language: en\n",
       "Country: null\n",
       "--></g></svg>"
      ]
     },
     "execution_count": 16,
     "metadata": {},
     "output_type": "execute_result"
    }
   ],
   "source": [
    "%viz --style=\"LR\" --view=\"Default\" \"P1\""
   ]
  },
  {
   "cell_type": "code",
   "execution_count": 17,
   "id": "546d5e0d",
   "metadata": {
    "execution": {
     "iopub.execute_input": "2024-12-16T03:23:14.139956Z",
     "iopub.status.busy": "2024-12-16T03:23:14.139724Z",
     "iopub.status.idle": "2024-12-16T03:23:14.155961Z",
     "shell.execute_reply": "2024-12-16T03:23:14.155795Z"
    }
   },
   "outputs": [
    {
     "data": {
      "image/svg+xml": [
       "<?xml version=\"1.0\" encoding=\"UTF-8\" standalone=\"no\"?><svg xmlns=\"http://www.w3.org/2000/svg\" xmlns:xlink=\"http://www.w3.org/1999/xlink\" contentStyleType=\"text/css\" height=\"112px\" preserveAspectRatio=\"none\" style=\"width:135px;height:112px;background:#FFFFFF;\" version=\"1.1\" viewBox=\"0 0 135 112\" width=\"135px\" zoomAndPan=\"magnify\"><defs/><g><!--MD5=[fbc87193dbaf4d95561dea2c320d4a47]\n",
       "cluster E1--><g id=\"cluster_E1\"><a href=\"psysml:0a90d248-380c-4e9b-b837-344deff0bbde\" target=\"_top\" title=\"psysml:0a90d248-380c-4e9b-b837-344deff0bbde\" xlink:actuate=\"onRequest\" xlink:href=\"psysml:0a90d248-380c-4e9b-b837-344deff0bbde\" xlink:show=\"new\" xlink:title=\"psysml:0a90d248-380c-4e9b-b837-344deff0bbde\" xlink:type=\"simple\"><polygon fill=\"none\" points=\"16,6,40.875,6,47.875,28.2969,118,28.2969,118,105,16,105,16,6\" style=\"stroke:#000000;stroke-width:1.5;\"/><line style=\"stroke:#000000;stroke-width:1.5;\" x1=\"16\" x2=\"47.875\" y1=\"28.2969\" y2=\"28.2969\"/><text fill=\"#000000\" font-family=\"sans-serif\" font-size=\"14\" font-weight=\"bold\" lengthAdjust=\"spacing\" textLength=\"18.875\" x=\"20\" y=\"20.9951\">P1</text></a></g><!--MD5=[b4997ac47864f28c2f74865a473b2911]\n",
       "class E2--><a href=\"psysml:e04e257c-b1d4-496b-86bb-c28797e46b80\" target=\"_top\" title=\"psysml:e04e257c-b1d4-496b-86bb-c28797e46b80\" xlink:actuate=\"onRequest\" xlink:href=\"psysml:e04e257c-b1d4-496b-86bb-c28797e46b80\" xlink:show=\"new\" xlink:title=\"psysml:e04e257c-b1d4-496b-86bb-c28797e46b80\" xlink:type=\"simple\"><g id=\"elem_E2\"><rect fill=\"#FFFFFF\" height=\"48.2656\" id=\"E2\" style=\"stroke:#181818;stroke-width:0.5;\" width=\"70\" x=\"32\" y=\"41\"/><text fill=\"#000000\" font-family=\"sans-serif\" font-size=\"12\" font-style=\"italic\" lengthAdjust=\"spacing\" textLength=\"68\" x=\"33\" y=\"57.1387\">«part  def»</text><text fill=\"#000000\" font-family=\"sans-serif\" font-size=\"14\" lengthAdjust=\"spacing\" textLength=\"9\" x=\"62.5\" y=\"72.9639\">A</text><line style=\"stroke:#181818;stroke-width:0.5;\" x1=\"33\" x2=\"101\" y1=\"81.2656\" y2=\"81.2656\"/></g></a><!--MD5=[2cb692b98fe1a993810d1231636e6627]\n",
       "@startuml\r\n",
       "skin sysmlbw\r\n",
       "skinparam monochrome true\r\n",
       "skinparam wrapWidth 300\r\n",
       "hide circle\r\n",
       "left to right direction\r\n",
       "\r\n",
       "package \"P1\" as E1  [[psysml:0a90d248-380c-4e9b-b837-344deff0bbde ]]  {\r\n",
       "comp def \"A\" as E2  <<(T,blue) part  def>> [[psysml:e04e257c-b1d4-496b-86bb-c28797e46b80 ]] {\r\n",
       "}\r\n",
       "}\r\n",
       "@enduml\r\n",
       "\n",
       "PlantUML version 1.2022.7(Mon Aug 22 17:01:30 UTC 2022)\n",
       "(EPL source distribution)\n",
       "Java Runtime: OpenJDK Runtime Environment\n",
       "JVM: OpenJDK 64-Bit Server VM\n",
       "Default Encoding: UTF-8\n",
       "Language: en\n",
       "Country: null\n",
       "--></g></svg>"
      ]
     },
     "execution_count": 17,
     "metadata": {},
     "output_type": "execute_result"
    }
   ],
   "source": [
    "%viz --style=\"LR\" --view=\"Tree\" \"P1\""
   ]
  },
  {
   "cell_type": "code",
   "execution_count": 18,
   "id": "d6520d1c",
   "metadata": {
    "execution": {
     "iopub.execute_input": "2024-12-16T03:23:14.212358Z",
     "iopub.status.busy": "2024-12-16T03:23:14.212086Z",
     "iopub.status.idle": "2024-12-16T03:23:14.217783Z",
     "shell.execute_reply": "2024-12-16T03:23:14.217602Z"
    }
   },
   "outputs": [
    {
     "data": {
      "image/svg+xml": [
       "<?xml version=\"1.0\" encoding=\"UTF-8\" standalone=\"no\"?><svg xmlns=\"http://www.w3.org/2000/svg\" xmlns:xlink=\"http://www.w3.org/1999/xlink\" contentStyleType=\"text/css\" height=\"10px\" preserveAspectRatio=\"none\" style=\"width:10px;height:10px;background:#FFFFFF;\" version=\"1.1\" viewBox=\"0 0 10 10\" width=\"10px\" zoomAndPan=\"magnify\"><defs/><g><!--MD5=[fb420fbd7a91d32138f4344b927a323c]\n",
       "@startuml\r\n",
       "skin sysmlbw\r\n",
       "skinparam monochrome true\r\n",
       "skinparam wrapWidth 300\r\n",
       "hide circle\r\n",
       "left to right direction\r\n",
       "\r\n",
       "@enduml\r\n",
       "\n",
       "PlantUML version 1.2022.7(Mon Aug 22 17:01:30 UTC 2022)\n",
       "(EPL source distribution)\n",
       "Java Runtime: OpenJDK Runtime Environment\n",
       "JVM: OpenJDK 64-Bit Server VM\n",
       "Default Encoding: UTF-8\n",
       "Language: en\n",
       "Country: null\n",
       "--></g></svg>"
      ]
     },
     "execution_count": 18,
     "metadata": {},
     "output_type": "execute_result"
    }
   ],
   "source": [
    "%viz --style=\"LR\" --view=\"State\" \"P1\""
   ]
  },
  {
   "cell_type": "code",
   "execution_count": 19,
   "id": "8804aa97",
   "metadata": {
    "execution": {
     "iopub.execute_input": "2024-12-16T03:23:14.275476Z",
     "iopub.status.busy": "2024-12-16T03:23:14.275236Z",
     "iopub.status.idle": "2024-12-16T03:23:14.291002Z",
     "shell.execute_reply": "2024-12-16T03:23:14.290815Z"
    }
   },
   "outputs": [
    {
     "data": {
      "image/svg+xml": [
       "<?xml version=\"1.0\" encoding=\"UTF-8\" standalone=\"no\"?><svg xmlns=\"http://www.w3.org/2000/svg\" xmlns:xlink=\"http://www.w3.org/1999/xlink\" contentStyleType=\"text/css\" height=\"110px\" preserveAspectRatio=\"none\" style=\"width:140px;height:110px;background:#FFFFFF;\" version=\"1.1\" viewBox=\"0 0 140 110\" width=\"140px\" zoomAndPan=\"magnify\"><defs/><g><!--MD5=[fbc87193dbaf4d95561dea2c320d4a47]\n",
       "cluster E1--><g id=\"cluster_E1\"><a href=\"psysml:0a90d248-380c-4e9b-b837-344deff0bbde\" target=\"_top\" title=\"psysml:0a90d248-380c-4e9b-b837-344deff0bbde\" xlink:actuate=\"onRequest\" xlink:href=\"psysml:0a90d248-380c-4e9b-b837-344deff0bbde\" xlink:show=\"new\" xlink:title=\"psysml:0a90d248-380c-4e9b-b837-344deff0bbde\" xlink:type=\"simple\"><polygon fill=\"none\" points=\"16,6,40.875,6,47.875,28.2969,123,28.2969,123,103,16,103,16,6\" style=\"stroke:#000000;stroke-width:1.5;\"/><line style=\"stroke:#000000;stroke-width:1.5;\" x1=\"16\" x2=\"47.875\" y1=\"28.2969\" y2=\"28.2969\"/><text fill=\"#000000\" font-family=\"sans-serif\" font-size=\"14\" font-weight=\"bold\" lengthAdjust=\"spacing\" textLength=\"18.875\" x=\"20\" y=\"20.9951\">P1</text></a></g><g><a href=\"psysml:e04e257c-b1d4-496b-86bb-c28797e46b80\" target=\"_top\" title=\"psysml:e04e257c-b1d4-496b-86bb-c28797e46b80\" xlink:actuate=\"onRequest\" xlink:href=\"psysml:e04e257c-b1d4-496b-86bb-c28797e46b80\" xlink:show=\"new\" xlink:title=\"psysml:e04e257c-b1d4-496b-86bb-c28797e46b80\" xlink:type=\"simple\"><rect fill=\"#FFFFFF\" height=\"45.2656\" id=\"E2\" style=\"stroke:#383838;stroke-width:1.5;\" width=\"75\" x=\"32\" y=\"41.5\"/><text fill=\"#000000\" font-family=\"sans-serif\" font-size=\"12\" font-style=\"italic\" lengthAdjust=\"spacing\" textLength=\"68\" x=\"35.5\" y=\"57.6387\">«part  def»</text><text fill=\"#000000\" font-family=\"sans-serif\" font-size=\"14\" lengthAdjust=\"spacing\" textLength=\"9\" x=\"65\" y=\"73.4639\">A</text></a></g><!--MD5=[553c5db4cd56aee0dcdd90f28db80bd9]\n",
       "@startuml\r\n",
       "skin sysmlbw\r\n",
       "skinparam monochrome true\r\n",
       "skinparam wrapWidth 300\r\n",
       "hide circle\r\n",
       "left to right direction\r\n",
       "skinparam ranksep 10\r\n",
       "skinparam rectangle {\r\n",
       " backgroundColor<<block>> LightGreen\r\n",
       "}\r\n",
       "\r\n",
       "package \"P1\" as E1  [[psysml:0a90d248-380c-4e9b-b837-344deff0bbde ]]  {\r\n",
       "rec def \"A\" as E2  <<(T,blue) part  def>> [[psysml:e04e257c-b1d4-496b-86bb-c28797e46b80 ]] {\r\n",
       "}\r\n",
       "}\r\n",
       "@enduml\r\n",
       "\n",
       "PlantUML version 1.2022.7(Mon Aug 22 17:01:30 UTC 2022)\n",
       "(EPL source distribution)\n",
       "Java Runtime: OpenJDK Runtime Environment\n",
       "JVM: OpenJDK 64-Bit Server VM\n",
       "Default Encoding: UTF-8\n",
       "Language: en\n",
       "Country: null\n",
       "--></g></svg>"
      ]
     },
     "execution_count": 19,
     "metadata": {},
     "output_type": "execute_result"
    }
   ],
   "source": [
    "%viz --style=\"LR\" --view=\"Interconnection\" \"P1\""
   ]
  },
  {
   "cell_type": "code",
   "execution_count": 20,
   "id": "97978b96",
   "metadata": {
    "execution": {
     "iopub.execute_input": "2024-12-16T03:23:14.343392Z",
     "iopub.status.busy": "2024-12-16T03:23:14.343134Z",
     "iopub.status.idle": "2024-12-16T03:23:14.347691Z",
     "shell.execute_reply": "2024-12-16T03:23:14.347520Z"
    }
   },
   "outputs": [
    {
     "data": {
      "image/svg+xml": [
       "<?xml version=\"1.0\" encoding=\"UTF-8\" standalone=\"no\"?><svg xmlns=\"http://www.w3.org/2000/svg\" xmlns:xlink=\"http://www.w3.org/1999/xlink\" contentStyleType=\"text/css\" height=\"10px\" preserveAspectRatio=\"none\" style=\"width:10px;height:10px;background:#FFFFFF;\" version=\"1.1\" viewBox=\"0 0 10 10\" width=\"10px\" zoomAndPan=\"magnify\"><defs/><g><!--MD5=[a45826aa31d3f335355a0e6fe4d8f867]\n",
       "@startuml\r\n",
       "skin sysmlbw\r\n",
       "skinparam monochrome true\r\n",
       "skinparam wrapWidth 300\r\n",
       "hide circle\r\n",
       "left to right direction\r\n",
       "skinparam ranksep 8\r\n",
       "\r\n",
       "@enduml\r\n",
       "\n",
       "PlantUML version 1.2022.7(Mon Aug 22 17:01:30 UTC 2022)\n",
       "(EPL source distribution)\n",
       "Java Runtime: OpenJDK Runtime Environment\n",
       "JVM: OpenJDK 64-Bit Server VM\n",
       "Default Encoding: UTF-8\n",
       "Language: en\n",
       "Country: null\n",
       "--></g></svg>"
      ]
     },
     "execution_count": 20,
     "metadata": {},
     "output_type": "execute_result"
    }
   ],
   "source": [
    "%viz --style=\"LR\" --view=\"Action\" \"P1\""
   ]
  },
  {
   "cell_type": "code",
   "execution_count": 21,
   "id": "5adaa8e2",
   "metadata": {
    "execution": {
     "iopub.execute_input": "2024-12-16T03:23:14.399602Z",
     "iopub.status.busy": "2024-12-16T03:23:14.399421Z",
     "iopub.status.idle": "2024-12-16T03:23:14.405954Z",
     "shell.execute_reply": "2024-12-16T03:23:14.406096Z"
    }
   },
   "outputs": [
    {
     "data": {
      "image/svg+xml": [
       "<?xml version=\"1.0\" encoding=\"UTF-8\" standalone=\"no\"?><svg xmlns=\"http://www.w3.org/2000/svg\" xmlns:xlink=\"http://www.w3.org/1999/xlink\" contentStyleType=\"text/css\" height=\"10px\" preserveAspectRatio=\"none\" style=\"width:10px;height:10px;background:#FFFFFF;\" version=\"1.1\" viewBox=\"0 0 10 10\" width=\"10px\" zoomAndPan=\"magnify\"><defs/><g><!--MD5=[3d7abb46b795db4c9d99c7acf425de78]\n",
       "@startuml\r\n",
       "skin sysmlbw\r\n",
       "skinparam monochrome true\r\n",
       "skinparam wrapWidth 300\r\n",
       "hide circle\r\n",
       "left to right direction\r\n",
       "skinparam roundcorner 20\r\n",
       "skinparam BoxPadding 20\r\n",
       "skinparam SequenceBoxBackgroundColor #white\r\n",
       "skinparam style strictuml\r\n",
       "skinparam maxMessageSize 100\r\n",
       "\r\n",
       "@enduml\r\n",
       "\n",
       "PlantUML version 1.2022.7(Mon Aug 22 17:01:30 UTC 2022)\n",
       "(EPL source distribution)\n",
       "Java Runtime: OpenJDK Runtime Environment\n",
       "JVM: OpenJDK 64-Bit Server VM\n",
       "Default Encoding: UTF-8\n",
       "Language: en\n",
       "Country: null\n",
       "--></g></svg>"
      ]
     },
     "execution_count": 21,
     "metadata": {},
     "output_type": "execute_result"
    }
   ],
   "source": [
    "%viz --style=\"LR\" --view=\"Sequence\" \"P1\""
   ]
  },
  {
   "cell_type": "code",
   "execution_count": 22,
   "id": "ed3e6ea3",
   "metadata": {
    "execution": {
     "iopub.execute_input": "2024-12-16T03:23:14.460457Z",
     "iopub.status.busy": "2024-12-16T03:23:14.459861Z",
     "iopub.status.idle": "2024-12-16T03:23:14.476096Z",
     "shell.execute_reply": "2024-12-16T03:23:14.475906Z"
    }
   },
   "outputs": [
    {
     "data": {
      "image/svg+xml": [
       "<?xml version=\"1.0\" encoding=\"UTF-8\" standalone=\"no\"?><svg xmlns=\"http://www.w3.org/2000/svg\" xmlns:xlink=\"http://www.w3.org/1999/xlink\" contentStyleType=\"text/css\" height=\"112px\" preserveAspectRatio=\"none\" style=\"width:135px;height:112px;background:#FFFFFF;\" version=\"1.1\" viewBox=\"0 0 135 112\" width=\"135px\" zoomAndPan=\"magnify\"><defs/><g><!--MD5=[fbc87193dbaf4d95561dea2c320d4a47]\n",
       "cluster E1--><g id=\"cluster_E1\"><a href=\"psysml:0a90d248-380c-4e9b-b837-344deff0bbde\" target=\"_top\" title=\"psysml:0a90d248-380c-4e9b-b837-344deff0bbde\" xlink:actuate=\"onRequest\" xlink:href=\"psysml:0a90d248-380c-4e9b-b837-344deff0bbde\" xlink:show=\"new\" xlink:title=\"psysml:0a90d248-380c-4e9b-b837-344deff0bbde\" xlink:type=\"simple\"><polygon fill=\"none\" points=\"16,6,40.875,6,47.875,28.2969,118,28.2969,118,105,16,105,16,6\" style=\"stroke:#000000;stroke-width:1.5;\"/><line style=\"stroke:#000000;stroke-width:1.5;\" x1=\"16\" x2=\"47.875\" y1=\"28.2969\" y2=\"28.2969\"/><text fill=\"#000000\" font-family=\"sans-serif\" font-size=\"14\" font-weight=\"bold\" lengthAdjust=\"spacing\" textLength=\"18.875\" x=\"20\" y=\"20.9951\">P1</text></a></g><!--MD5=[b4997ac47864f28c2f74865a473b2911]\n",
       "class E2--><a href=\"psysml:e04e257c-b1d4-496b-86bb-c28797e46b80\" target=\"_top\" title=\"psysml:e04e257c-b1d4-496b-86bb-c28797e46b80\" xlink:actuate=\"onRequest\" xlink:href=\"psysml:e04e257c-b1d4-496b-86bb-c28797e46b80\" xlink:show=\"new\" xlink:title=\"psysml:e04e257c-b1d4-496b-86bb-c28797e46b80\" xlink:type=\"simple\"><g id=\"elem_E2\"><rect fill=\"#FFFFFF\" height=\"48.2656\" id=\"E2\" style=\"stroke:#181818;stroke-width:0.5;\" width=\"70\" x=\"32\" y=\"41\"/><text fill=\"#000000\" font-family=\"sans-serif\" font-size=\"12\" font-style=\"italic\" lengthAdjust=\"spacing\" textLength=\"68\" x=\"33\" y=\"57.1387\">«part  def»</text><text fill=\"#000000\" font-family=\"sans-serif\" font-size=\"14\" lengthAdjust=\"spacing\" textLength=\"9\" x=\"62.5\" y=\"72.9639\">A</text><line style=\"stroke:#181818;stroke-width:0.5;\" x1=\"33\" x2=\"101\" y1=\"81.2656\" y2=\"81.2656\"/></g></a><!--MD5=[2cb692b98fe1a993810d1231636e6627]\n",
       "@startuml\r\n",
       "skin sysmlbw\r\n",
       "skinparam monochrome true\r\n",
       "skinparam wrapWidth 300\r\n",
       "hide circle\r\n",
       "left to right direction\r\n",
       "\r\n",
       "package \"P1\" as E1  [[psysml:0a90d248-380c-4e9b-b837-344deff0bbde ]]  {\r\n",
       "comp def \"A\" as E2  <<(T,blue) part  def>> [[psysml:e04e257c-b1d4-496b-86bb-c28797e46b80 ]] {\r\n",
       "}\r\n",
       "}\r\n",
       "@enduml\r\n",
       "\n",
       "PlantUML version 1.2022.7(Mon Aug 22 17:01:30 UTC 2022)\n",
       "(EPL source distribution)\n",
       "Java Runtime: OpenJDK Runtime Environment\n",
       "JVM: OpenJDK 64-Bit Server VM\n",
       "Default Encoding: UTF-8\n",
       "Language: en\n",
       "Country: null\n",
       "--></g></svg>"
      ]
     },
     "execution_count": 22,
     "metadata": {},
     "output_type": "execute_result"
    }
   ],
   "source": [
    "%viz --style=\"LR\" --view=\"MIXED\" \"P1\""
   ]
  },
  {
   "cell_type": "code",
   "execution_count": 23,
   "id": "325df270",
   "metadata": {
    "execution": {
     "iopub.execute_input": "2024-12-16T03:23:14.531869Z",
     "iopub.status.busy": "2024-12-16T03:23:14.531642Z",
     "iopub.status.idle": "2024-12-16T03:23:14.546161Z",
     "shell.execute_reply": "2024-12-16T03:23:14.545997Z"
    }
   },
   "outputs": [
    {
     "data": {
      "image/svg+xml": [
       "<?xml version=\"1.0\" encoding=\"UTF-8\" standalone=\"no\"?><svg xmlns=\"http://www.w3.org/2000/svg\" xmlns:xlink=\"http://www.w3.org/1999/xlink\" contentStyleType=\"text/css\" height=\"112px\" preserveAspectRatio=\"none\" style=\"width:135px;height:112px;background:#FFFFFF;\" version=\"1.1\" viewBox=\"0 0 135 112\" width=\"135px\" zoomAndPan=\"magnify\"><defs><filter height=\"300%\" id=\"f1qcecx55evine\" width=\"300%\" x=\"-1\" y=\"-1\"><feGaussianBlur result=\"blurOut\" stdDeviation=\"2.0\"/><feColorMatrix in=\"blurOut\" result=\"blurOut2\" type=\"matrix\" values=\"0 0 0 0 0 0 0 0 0 0 0 0 0 0 0 0 0 0 .4 0\"/><feOffset dx=\"4.0\" dy=\"4.0\" in=\"blurOut2\" result=\"blurOut3\"/><feBlend in=\"SourceGraphic\" in2=\"blurOut3\" mode=\"normal\"/></filter></defs><g><!--MD5=[fbc87193dbaf4d95561dea2c320d4a47]\n",
       "cluster E1--><g id=\"cluster_E1\"><a href=\"psysml:0a90d248-380c-4e9b-b837-344deff0bbde\" target=\"_top\" title=\"psysml:0a90d248-380c-4e9b-b837-344deff0bbde\" xlink:actuate=\"onRequest\" xlink:href=\"psysml:0a90d248-380c-4e9b-b837-344deff0bbde\" xlink:show=\"new\" xlink:title=\"psysml:0a90d248-380c-4e9b-b837-344deff0bbde\" xlink:type=\"simple\"><polygon fill=\"none\" filter=\"url(#f1qcecx55evine)\" points=\"16,6,40.875,6,47.875,28.2969,118,28.2969,118,105,16,105,16,6\" style=\"stroke:#000000;stroke-width:1.5;\"/><line style=\"stroke:#000000;stroke-width:1.5;\" x1=\"16\" x2=\"47.875\" y1=\"28.2969\" y2=\"28.2969\"/><text fill=\"#000000\" font-family=\"sans-serif\" font-size=\"14\" font-weight=\"bold\" lengthAdjust=\"spacing\" textLength=\"18.875\" x=\"20\" y=\"20.9951\">P1</text></a></g><!--MD5=[b4997ac47864f28c2f74865a473b2911]\n",
       "class E2--><a href=\"psysml:e04e257c-b1d4-496b-86bb-c28797e46b80\" target=\"_top\" title=\"psysml:e04e257c-b1d4-496b-86bb-c28797e46b80\" xlink:actuate=\"onRequest\" xlink:href=\"psysml:e04e257c-b1d4-496b-86bb-c28797e46b80\" xlink:show=\"new\" xlink:title=\"psysml:e04e257c-b1d4-496b-86bb-c28797e46b80\" xlink:type=\"simple\"><g id=\"elem_E2\"><rect fill=\"#FFFACD\" filter=\"url(#f1qcecx55evine)\" height=\"48.2656\" id=\"E2\" style=\"stroke:#181818;stroke-width:0.5;\" width=\"70\" x=\"32\" y=\"41\"/><text fill=\"#000000\" font-family=\"sans-serif\" font-size=\"12\" font-style=\"italic\" lengthAdjust=\"spacing\" textLength=\"68\" x=\"33\" y=\"57.1387\">«part  def»</text><text fill=\"#000000\" font-family=\"sans-serif\" font-size=\"14\" lengthAdjust=\"spacing\" textLength=\"9\" x=\"62.5\" y=\"72.9639\">A</text><line style=\"stroke:#181818;stroke-width:0.5;\" x1=\"33\" x2=\"101\" y1=\"81.2656\" y2=\"81.2656\"/></g></a><!--MD5=[ea1d726f7e37f646f0d0620f27a75d19]\n",
       "@startuml\r\n",
       "skin sysmlc\r\n",
       "skinparam wrapWidth 300\r\n",
       "hide circle\r\n",
       "\r\n",
       "package \"P1\" as E1  [[psysml:0a90d248-380c-4e9b-b837-344deff0bbde ]]  {\r\n",
       "comp def \"A\" as E2  <<(T,blue) part  def>> [[psysml:e04e257c-b1d4-496b-86bb-c28797e46b80 ]] {\r\n",
       "}\r\n",
       "}\r\n",
       "@enduml\r\n",
       "\n",
       "PlantUML version 1.2022.7(Mon Aug 22 17:01:30 UTC 2022)\n",
       "(EPL source distribution)\n",
       "Java Runtime: OpenJDK Runtime Environment\n",
       "JVM: OpenJDK 64-Bit Server VM\n",
       "Default Encoding: UTF-8\n",
       "Language: en\n",
       "Country: null\n",
       "--></g></svg>"
      ]
     },
     "execution_count": 23,
     "metadata": {},
     "output_type": "execute_result"
    }
   ],
   "source": [
    "%viz --style=\"STDCOLOR\" --view=\"Default\" \"P1\""
   ]
  },
  {
   "cell_type": "code",
   "execution_count": 24,
   "id": "ccfc38c2",
   "metadata": {
    "execution": {
     "iopub.execute_input": "2024-12-16T03:23:14.602305Z",
     "iopub.status.busy": "2024-12-16T03:23:14.602050Z",
     "iopub.status.idle": "2024-12-16T03:23:14.615452Z",
     "shell.execute_reply": "2024-12-16T03:23:14.615275Z"
    }
   },
   "outputs": [
    {
     "data": {
      "image/svg+xml": [
       "<?xml version=\"1.0\" encoding=\"UTF-8\" standalone=\"no\"?><svg xmlns=\"http://www.w3.org/2000/svg\" xmlns:xlink=\"http://www.w3.org/1999/xlink\" contentStyleType=\"text/css\" height=\"112px\" preserveAspectRatio=\"none\" style=\"width:135px;height:112px;background:#FFFFFF;\" version=\"1.1\" viewBox=\"0 0 135 112\" width=\"135px\" zoomAndPan=\"magnify\"><defs><filter height=\"300%\" id=\"f1qcecx55evine\" width=\"300%\" x=\"-1\" y=\"-1\"><feGaussianBlur result=\"blurOut\" stdDeviation=\"2.0\"/><feColorMatrix in=\"blurOut\" result=\"blurOut2\" type=\"matrix\" values=\"0 0 0 0 0 0 0 0 0 0 0 0 0 0 0 0 0 0 .4 0\"/><feOffset dx=\"4.0\" dy=\"4.0\" in=\"blurOut2\" result=\"blurOut3\"/><feBlend in=\"SourceGraphic\" in2=\"blurOut3\" mode=\"normal\"/></filter></defs><g><!--MD5=[fbc87193dbaf4d95561dea2c320d4a47]\n",
       "cluster E1--><g id=\"cluster_E1\"><a href=\"psysml:0a90d248-380c-4e9b-b837-344deff0bbde\" target=\"_top\" title=\"psysml:0a90d248-380c-4e9b-b837-344deff0bbde\" xlink:actuate=\"onRequest\" xlink:href=\"psysml:0a90d248-380c-4e9b-b837-344deff0bbde\" xlink:show=\"new\" xlink:title=\"psysml:0a90d248-380c-4e9b-b837-344deff0bbde\" xlink:type=\"simple\"><polygon fill=\"none\" filter=\"url(#f1qcecx55evine)\" points=\"16,6,40.875,6,47.875,28.2969,118,28.2969,118,105,16,105,16,6\" style=\"stroke:#000000;stroke-width:1.5;\"/><line style=\"stroke:#000000;stroke-width:1.5;\" x1=\"16\" x2=\"47.875\" y1=\"28.2969\" y2=\"28.2969\"/><text fill=\"#000000\" font-family=\"sans-serif\" font-size=\"14\" font-weight=\"bold\" lengthAdjust=\"spacing\" textLength=\"18.875\" x=\"20\" y=\"20.9951\">P1</text></a></g><!--MD5=[b4997ac47864f28c2f74865a473b2911]\n",
       "class E2--><a href=\"psysml:e04e257c-b1d4-496b-86bb-c28797e46b80\" target=\"_top\" title=\"psysml:e04e257c-b1d4-496b-86bb-c28797e46b80\" xlink:actuate=\"onRequest\" xlink:href=\"psysml:e04e257c-b1d4-496b-86bb-c28797e46b80\" xlink:show=\"new\" xlink:title=\"psysml:e04e257c-b1d4-496b-86bb-c28797e46b80\" xlink:type=\"simple\"><g id=\"elem_E2\"><rect fill=\"#FFFACD\" filter=\"url(#f1qcecx55evine)\" height=\"48.2656\" id=\"E2\" style=\"stroke:#181818;stroke-width:0.5;\" width=\"70\" x=\"32\" y=\"41\"/><text fill=\"#000000\" font-family=\"sans-serif\" font-size=\"12\" font-style=\"italic\" lengthAdjust=\"spacing\" textLength=\"68\" x=\"33\" y=\"57.1387\">«part  def»</text><text fill=\"#000000\" font-family=\"sans-serif\" font-size=\"14\" lengthAdjust=\"spacing\" textLength=\"9\" x=\"62.5\" y=\"72.9639\">A</text><line style=\"stroke:#181818;stroke-width:0.5;\" x1=\"33\" x2=\"101\" y1=\"81.2656\" y2=\"81.2656\"/></g></a><!--MD5=[ea1d726f7e37f646f0d0620f27a75d19]\n",
       "@startuml\r\n",
       "skin sysmlc\r\n",
       "skinparam wrapWidth 300\r\n",
       "hide circle\r\n",
       "\r\n",
       "package \"P1\" as E1  [[psysml:0a90d248-380c-4e9b-b837-344deff0bbde ]]  {\r\n",
       "comp def \"A\" as E2  <<(T,blue) part  def>> [[psysml:e04e257c-b1d4-496b-86bb-c28797e46b80 ]] {\r\n",
       "}\r\n",
       "}\r\n",
       "@enduml\r\n",
       "\n",
       "PlantUML version 1.2022.7(Mon Aug 22 17:01:30 UTC 2022)\n",
       "(EPL source distribution)\n",
       "Java Runtime: OpenJDK Runtime Environment\n",
       "JVM: OpenJDK 64-Bit Server VM\n",
       "Default Encoding: UTF-8\n",
       "Language: en\n",
       "Country: null\n",
       "--></g></svg>"
      ]
     },
     "execution_count": 24,
     "metadata": {},
     "output_type": "execute_result"
    }
   ],
   "source": [
    "%viz --style=\"STDCOLOR\" --view=\"Tree\" \"P1\""
   ]
  },
  {
   "cell_type": "code",
   "execution_count": 25,
   "id": "576092a9",
   "metadata": {
    "execution": {
     "iopub.execute_input": "2024-12-16T03:23:14.671033Z",
     "iopub.status.busy": "2024-12-16T03:23:14.670821Z",
     "iopub.status.idle": "2024-12-16T03:23:14.676046Z",
     "shell.execute_reply": "2024-12-16T03:23:14.675866Z"
    }
   },
   "outputs": [
    {
     "data": {
      "image/svg+xml": [
       "<?xml version=\"1.0\" encoding=\"UTF-8\" standalone=\"no\"?><svg xmlns=\"http://www.w3.org/2000/svg\" xmlns:xlink=\"http://www.w3.org/1999/xlink\" contentStyleType=\"text/css\" height=\"10px\" preserveAspectRatio=\"none\" style=\"width:10px;height:10px;background:#FFFFFF;\" version=\"1.1\" viewBox=\"0 0 10 10\" width=\"10px\" zoomAndPan=\"magnify\"><defs/><g><!--MD5=[a1048f16c75022af837d4b7065e6f600]\n",
       "@startuml\r\n",
       "skin sysmlc\r\n",
       "skinparam wrapWidth 300\r\n",
       "hide circle\r\n",
       "\r\n",
       "@enduml\r\n",
       "\n",
       "PlantUML version 1.2022.7(Mon Aug 22 17:01:30 UTC 2022)\n",
       "(EPL source distribution)\n",
       "Java Runtime: OpenJDK Runtime Environment\n",
       "JVM: OpenJDK 64-Bit Server VM\n",
       "Default Encoding: UTF-8\n",
       "Language: en\n",
       "Country: null\n",
       "--></g></svg>"
      ]
     },
     "execution_count": 25,
     "metadata": {},
     "output_type": "execute_result"
    }
   ],
   "source": [
    "%viz --style=\"STDCOLOR\" --view=\"State\" \"P1\""
   ]
  },
  {
   "cell_type": "code",
   "execution_count": 26,
   "id": "a29e2bfd",
   "metadata": {
    "execution": {
     "iopub.execute_input": "2024-12-16T03:23:14.727229Z",
     "iopub.status.busy": "2024-12-16T03:23:14.726967Z",
     "iopub.status.idle": "2024-12-16T03:23:14.740484Z",
     "shell.execute_reply": "2024-12-16T03:23:14.740621Z"
    }
   },
   "outputs": [
    {
     "data": {
      "image/svg+xml": [
       "<?xml version=\"1.0\" encoding=\"UTF-8\" standalone=\"no\"?><svg xmlns=\"http://www.w3.org/2000/svg\" xmlns:xlink=\"http://www.w3.org/1999/xlink\" contentStyleType=\"text/css\" height=\"109px\" preserveAspectRatio=\"none\" style=\"width:139px;height:109px;background:#FFFFFF;\" version=\"1.1\" viewBox=\"0 0 139 109\" width=\"139px\" zoomAndPan=\"magnify\"><defs><filter height=\"300%\" id=\"flsk5dfeo27qo\" width=\"300%\" x=\"-1\" y=\"-1\"><feGaussianBlur result=\"blurOut\" stdDeviation=\"2.0\"/><feColorMatrix in=\"blurOut\" result=\"blurOut2\" type=\"matrix\" values=\"0 0 0 0 0 0 0 0 0 0 0 0 0 0 0 0 0 0 .4 0\"/><feOffset dx=\"4.0\" dy=\"4.0\" in=\"blurOut2\" result=\"blurOut3\"/><feBlend in=\"SourceGraphic\" in2=\"blurOut3\" mode=\"normal\"/></filter></defs><g><!--MD5=[fbc87193dbaf4d95561dea2c320d4a47]\n",
       "cluster E1--><g id=\"cluster_E1\"><a href=\"psysml:0a90d248-380c-4e9b-b837-344deff0bbde\" target=\"_top\" title=\"psysml:0a90d248-380c-4e9b-b837-344deff0bbde\" xlink:actuate=\"onRequest\" xlink:href=\"psysml:0a90d248-380c-4e9b-b837-344deff0bbde\" xlink:show=\"new\" xlink:title=\"psysml:0a90d248-380c-4e9b-b837-344deff0bbde\" xlink:type=\"simple\"><polygon fill=\"none\" filter=\"url(#flsk5dfeo27qo)\" points=\"16,6,40.875,6,47.875,28.2969,122,28.2969,122,102,16,102,16,6\" style=\"stroke:#000000;stroke-width:1.5;\"/><line style=\"stroke:#000000;stroke-width:1.5;\" x1=\"16\" x2=\"47.875\" y1=\"28.2969\" y2=\"28.2969\"/><text fill=\"#000000\" font-family=\"sans-serif\" font-size=\"14\" font-weight=\"bold\" lengthAdjust=\"spacing\" textLength=\"18.875\" x=\"20\" y=\"20.9951\">P1</text></a></g><g><a href=\"psysml:e04e257c-b1d4-496b-86bb-c28797e46b80\" target=\"_top\" title=\"psysml:e04e257c-b1d4-496b-86bb-c28797e46b80\" xlink:actuate=\"onRequest\" xlink:href=\"psysml:e04e257c-b1d4-496b-86bb-c28797e46b80\" xlink:show=\"new\" xlink:title=\"psysml:e04e257c-b1d4-496b-86bb-c28797e46b80\" xlink:type=\"simple\"><rect fill=\"#FFFACD\" filter=\"url(#flsk5dfeo27qo)\" height=\"45.2656\" id=\"E2\" style=\"stroke:#A80036;stroke-width:1.5;\" width=\"75\" x=\"31.5\" y=\"41\"/><text fill=\"#000000\" font-family=\"sans-serif\" font-size=\"12\" font-style=\"italic\" lengthAdjust=\"spacing\" textLength=\"68\" x=\"35\" y=\"57.1387\">«part  def»</text><text fill=\"#000000\" font-family=\"sans-serif\" font-size=\"14\" lengthAdjust=\"spacing\" textLength=\"9\" x=\"64.5\" y=\"72.9639\">A</text></a></g><!--MD5=[7dad44b5f81961a6c249856045a6974d]\n",
       "@startuml\r\n",
       "skin sysmlc\r\n",
       "skinparam wrapWidth 300\r\n",
       "hide circle\r\n",
       "skinparam ranksep 10\r\n",
       "skinparam rectangle {\r\n",
       " backgroundColor<<block>> LightGreen\r\n",
       "}\r\n",
       "\r\n",
       "package \"P1\" as E1  [[psysml:0a90d248-380c-4e9b-b837-344deff0bbde ]]  {\r\n",
       "rec def \"A\" as E2  <<(T,blue) part  def>> [[psysml:e04e257c-b1d4-496b-86bb-c28797e46b80 ]] {\r\n",
       "}\r\n",
       "}\r\n",
       "@enduml\r\n",
       "\n",
       "PlantUML version 1.2022.7(Mon Aug 22 17:01:30 UTC 2022)\n",
       "(EPL source distribution)\n",
       "Java Runtime: OpenJDK Runtime Environment\n",
       "JVM: OpenJDK 64-Bit Server VM\n",
       "Default Encoding: UTF-8\n",
       "Language: en\n",
       "Country: null\n",
       "--></g></svg>"
      ]
     },
     "execution_count": 26,
     "metadata": {},
     "output_type": "execute_result"
    }
   ],
   "source": [
    "%viz --style=\"STDCOLOR\" --view=\"Interconnection\" \"P1\""
   ]
  },
  {
   "cell_type": "code",
   "execution_count": 27,
   "id": "3c24dd5d",
   "metadata": {
    "execution": {
     "iopub.execute_input": "2024-12-16T03:23:14.795340Z",
     "iopub.status.busy": "2024-12-16T03:23:14.795061Z",
     "iopub.status.idle": "2024-12-16T03:23:14.801407Z",
     "shell.execute_reply": "2024-12-16T03:23:14.801115Z"
    }
   },
   "outputs": [
    {
     "data": {
      "image/svg+xml": [
       "<?xml version=\"1.0\" encoding=\"UTF-8\" standalone=\"no\"?><svg xmlns=\"http://www.w3.org/2000/svg\" xmlns:xlink=\"http://www.w3.org/1999/xlink\" contentStyleType=\"text/css\" height=\"10px\" preserveAspectRatio=\"none\" style=\"width:10px;height:10px;background:#FFFFFF;\" version=\"1.1\" viewBox=\"0 0 10 10\" width=\"10px\" zoomAndPan=\"magnify\"><defs/><g><!--MD5=[f1e15a62785563bad28e840d677c8e75]\n",
       "@startuml\r\n",
       "skin sysmlc\r\n",
       "skinparam wrapWidth 300\r\n",
       "hide circle\r\n",
       "skinparam ranksep 8\r\n",
       "\r\n",
       "@enduml\r\n",
       "\n",
       "PlantUML version 1.2022.7(Mon Aug 22 17:01:30 UTC 2022)\n",
       "(EPL source distribution)\n",
       "Java Runtime: OpenJDK Runtime Environment\n",
       "JVM: OpenJDK 64-Bit Server VM\n",
       "Default Encoding: UTF-8\n",
       "Language: en\n",
       "Country: null\n",
       "--></g></svg>"
      ]
     },
     "execution_count": 27,
     "metadata": {},
     "output_type": "execute_result"
    }
   ],
   "source": [
    "%viz --style=\"STDCOLOR\" --view=\"Action\" \"P1\""
   ]
  },
  {
   "cell_type": "code",
   "execution_count": 28,
   "id": "e204a04b",
   "metadata": {
    "execution": {
     "iopub.execute_input": "2024-12-16T03:23:14.857939Z",
     "iopub.status.busy": "2024-12-16T03:23:14.857556Z",
     "iopub.status.idle": "2024-12-16T03:23:14.863868Z",
     "shell.execute_reply": "2024-12-16T03:23:14.863696Z"
    }
   },
   "outputs": [
    {
     "data": {
      "image/svg+xml": [
       "<?xml version=\"1.0\" encoding=\"UTF-8\" standalone=\"no\"?><svg xmlns=\"http://www.w3.org/2000/svg\" xmlns:xlink=\"http://www.w3.org/1999/xlink\" contentStyleType=\"text/css\" height=\"10px\" preserveAspectRatio=\"none\" style=\"width:10px;height:10px;background:#FFFFFF;\" version=\"1.1\" viewBox=\"0 0 10 10\" width=\"10px\" zoomAndPan=\"magnify\"><defs/><g><!--MD5=[e54413e611bf323face5c486cd3a32bb]\n",
       "@startuml\r\n",
       "skin sysmlc\r\n",
       "skinparam wrapWidth 300\r\n",
       "hide circle\r\n",
       "skinparam roundcorner 20\r\n",
       "skinparam BoxPadding 20\r\n",
       "skinparam SequenceBoxBackgroundColor #white\r\n",
       "skinparam style strictuml\r\n",
       "skinparam maxMessageSize 100\r\n",
       "\r\n",
       "@enduml\r\n",
       "\n",
       "PlantUML version 1.2022.7(Mon Aug 22 17:01:30 UTC 2022)\n",
       "(EPL source distribution)\n",
       "Java Runtime: OpenJDK Runtime Environment\n",
       "JVM: OpenJDK 64-Bit Server VM\n",
       "Default Encoding: UTF-8\n",
       "Language: en\n",
       "Country: null\n",
       "--></g></svg>"
      ]
     },
     "execution_count": 28,
     "metadata": {},
     "output_type": "execute_result"
    }
   ],
   "source": [
    "%viz --style=\"STDCOLOR\" --view=\"Sequence\" \"P1\""
   ]
  },
  {
   "cell_type": "code",
   "execution_count": 29,
   "id": "fd8d2a54",
   "metadata": {
    "execution": {
     "iopub.execute_input": "2024-12-16T03:23:14.919780Z",
     "iopub.status.busy": "2024-12-16T03:23:14.919547Z",
     "iopub.status.idle": "2024-12-16T03:23:14.933090Z",
     "shell.execute_reply": "2024-12-16T03:23:14.932899Z"
    }
   },
   "outputs": [
    {
     "data": {
      "image/svg+xml": [
       "<?xml version=\"1.0\" encoding=\"UTF-8\" standalone=\"no\"?><svg xmlns=\"http://www.w3.org/2000/svg\" xmlns:xlink=\"http://www.w3.org/1999/xlink\" contentStyleType=\"text/css\" height=\"112px\" preserveAspectRatio=\"none\" style=\"width:135px;height:112px;background:#FFFFFF;\" version=\"1.1\" viewBox=\"0 0 135 112\" width=\"135px\" zoomAndPan=\"magnify\"><defs><filter height=\"300%\" id=\"f1qcecx55evine\" width=\"300%\" x=\"-1\" y=\"-1\"><feGaussianBlur result=\"blurOut\" stdDeviation=\"2.0\"/><feColorMatrix in=\"blurOut\" result=\"blurOut2\" type=\"matrix\" values=\"0 0 0 0 0 0 0 0 0 0 0 0 0 0 0 0 0 0 .4 0\"/><feOffset dx=\"4.0\" dy=\"4.0\" in=\"blurOut2\" result=\"blurOut3\"/><feBlend in=\"SourceGraphic\" in2=\"blurOut3\" mode=\"normal\"/></filter></defs><g><!--MD5=[fbc87193dbaf4d95561dea2c320d4a47]\n",
       "cluster E1--><g id=\"cluster_E1\"><a href=\"psysml:0a90d248-380c-4e9b-b837-344deff0bbde\" target=\"_top\" title=\"psysml:0a90d248-380c-4e9b-b837-344deff0bbde\" xlink:actuate=\"onRequest\" xlink:href=\"psysml:0a90d248-380c-4e9b-b837-344deff0bbde\" xlink:show=\"new\" xlink:title=\"psysml:0a90d248-380c-4e9b-b837-344deff0bbde\" xlink:type=\"simple\"><polygon fill=\"none\" filter=\"url(#f1qcecx55evine)\" points=\"16,6,40.875,6,47.875,28.2969,118,28.2969,118,105,16,105,16,6\" style=\"stroke:#000000;stroke-width:1.5;\"/><line style=\"stroke:#000000;stroke-width:1.5;\" x1=\"16\" x2=\"47.875\" y1=\"28.2969\" y2=\"28.2969\"/><text fill=\"#000000\" font-family=\"sans-serif\" font-size=\"14\" font-weight=\"bold\" lengthAdjust=\"spacing\" textLength=\"18.875\" x=\"20\" y=\"20.9951\">P1</text></a></g><!--MD5=[b4997ac47864f28c2f74865a473b2911]\n",
       "class E2--><a href=\"psysml:e04e257c-b1d4-496b-86bb-c28797e46b80\" target=\"_top\" title=\"psysml:e04e257c-b1d4-496b-86bb-c28797e46b80\" xlink:actuate=\"onRequest\" xlink:href=\"psysml:e04e257c-b1d4-496b-86bb-c28797e46b80\" xlink:show=\"new\" xlink:title=\"psysml:e04e257c-b1d4-496b-86bb-c28797e46b80\" xlink:type=\"simple\"><g id=\"elem_E2\"><rect fill=\"#FFFACD\" filter=\"url(#f1qcecx55evine)\" height=\"48.2656\" id=\"E2\" style=\"stroke:#181818;stroke-width:0.5;\" width=\"70\" x=\"32\" y=\"41\"/><text fill=\"#000000\" font-family=\"sans-serif\" font-size=\"12\" font-style=\"italic\" lengthAdjust=\"spacing\" textLength=\"68\" x=\"33\" y=\"57.1387\">«part  def»</text><text fill=\"#000000\" font-family=\"sans-serif\" font-size=\"14\" lengthAdjust=\"spacing\" textLength=\"9\" x=\"62.5\" y=\"72.9639\">A</text><line style=\"stroke:#181818;stroke-width:0.5;\" x1=\"33\" x2=\"101\" y1=\"81.2656\" y2=\"81.2656\"/></g></a><!--MD5=[ea1d726f7e37f646f0d0620f27a75d19]\n",
       "@startuml\r\n",
       "skin sysmlc\r\n",
       "skinparam wrapWidth 300\r\n",
       "hide circle\r\n",
       "\r\n",
       "package \"P1\" as E1  [[psysml:0a90d248-380c-4e9b-b837-344deff0bbde ]]  {\r\n",
       "comp def \"A\" as E2  <<(T,blue) part  def>> [[psysml:e04e257c-b1d4-496b-86bb-c28797e46b80 ]] {\r\n",
       "}\r\n",
       "}\r\n",
       "@enduml\r\n",
       "\n",
       "PlantUML version 1.2022.7(Mon Aug 22 17:01:30 UTC 2022)\n",
       "(EPL source distribution)\n",
       "Java Runtime: OpenJDK Runtime Environment\n",
       "JVM: OpenJDK 64-Bit Server VM\n",
       "Default Encoding: UTF-8\n",
       "Language: en\n",
       "Country: null\n",
       "--></g></svg>"
      ]
     },
     "execution_count": 29,
     "metadata": {},
     "output_type": "execute_result"
    }
   ],
   "source": [
    "%viz --style=\"STDCOLOR\" --view=\"MIXED\" \"P1\""
   ]
  },
  {
   "cell_type": "code",
   "execution_count": 30,
   "id": "6f773530",
   "metadata": {
    "execution": {
     "iopub.execute_input": "2024-12-16T03:23:14.983864Z",
     "iopub.status.busy": "2024-12-16T03:23:14.983640Z",
     "iopub.status.idle": "2024-12-16T03:23:15.121510Z",
     "shell.execute_reply": "2024-12-16T03:23:15.121338Z"
    }
   },
   "outputs": [
    {
     "data": {
      "image/svg+xml": [
       "<?xml version=\"1.0\" encoding=\"UTF-8\" standalone=\"no\"?><svg xmlns=\"http://www.w3.org/2000/svg\" xmlns:xlink=\"http://www.w3.org/1999/xlink\" contentStyleType=\"text/css\" height=\"104px\" preserveAspectRatio=\"none\" style=\"width:87px;height:104px;background:#FFFFFF;\" version=\"1.1\" viewBox=\"0 0 87 104\" width=\"87px\" zoomAndPan=\"magnify\"><defs/><g><!--MD5=[fbc87193dbaf4d95561dea2c320d4a47]\n",
       "cluster E1--><g id=\"cluster_E1\"><a href=\"psysml:0a90d248-380c-4e9b-b837-344deff0bbde\" target=\"_top\" title=\"psysml:0a90d248-380c-4e9b-b837-344deff0bbde\" xlink:actuate=\"onRequest\" xlink:href=\"psysml:0a90d248-380c-4e9b-b837-344deff0bbde\" xlink:show=\"new\" xlink:title=\"psysml:0a90d248-380c-4e9b-b837-344deff0bbde\" xlink:type=\"simple\"><path d=\"M8.5,6 L28.375,6 A3.75,3.75 0 0 1 30.875,8.5 L37.875,28.2969 L77.5,28.2969 A2.5,2.5 0 0 1 80,30.7969 L80,94.5 A2.5,2.5 0 0 1 77.5,97 L8.5,97 A2.5,2.5 0 0 1 6,94.5 L6,8.5 A2.5,2.5 0 0 1 8.5,6 \" fill=\"none\" style=\"stroke:#000000;stroke-width:1.5;\"/><line style=\"stroke:#000000;stroke-width:1.5;\" x1=\"6\" x2=\"37.875\" y1=\"28.2969\" y2=\"28.2969\"/><text fill=\"#000000\" font-family=\"sans-serif\" font-size=\"14\" font-weight=\"bold\" lengthAdjust=\"spacing\" textLength=\"18.875\" x=\"10\" y=\"20.9951\">P1</text></a></g><!--MD5=[b4997ac47864f28c2f74865a473b2911]\n",
       "class E2--><a href=\"psysml:e04e257c-b1d4-496b-86bb-c28797e46b80\" target=\"_top\" title=\"psysml:e04e257c-b1d4-496b-86bb-c28797e46b80\" xlink:actuate=\"onRequest\" xlink:href=\"psysml:e04e257c-b1d4-496b-86bb-c28797e46b80\" xlink:show=\"new\" xlink:title=\"psysml:e04e257c-b1d4-496b-86bb-c28797e46b80\" xlink:type=\"simple\"><g id=\"elem_E2\"><rect fill=\"#F1F1F1\" height=\"40\" id=\"E2\" rx=\"2.5\" ry=\"2.5\" style=\"stroke:#181818;stroke-width:0.5;\" width=\"41\" x=\"22.5\" y=\"41\"/><ellipse cx=\"37.5\" cy=\"57\" fill=\"#008000\" rx=\"11\" ry=\"11\" style=\"stroke:#181818;stroke-width:1.0;\"/><path d=\"M34.3594,63.5 L34.3594,51.3594 L38.1563,51.3594 Q40.1563,51.3594 41.2031,52.0625 Q42.2656,52.7656 42.2656,54.3438 Q42.2656,55.4375 41.7656,56.1563 Q41.2813,56.875 40.4531,57.0625 L40.4531,57.1406 Q41.375,57.3594 41.9375,58.0313 Q42.5156,58.6875 42.5156,59.9531 Q42.5156,61.6094 41.4688,62.5625 Q40.4219,63.5 38.5625,63.5 L34.3594,63.5 Z M38.1406,56.1406 Q39.0313,56.1406 39.3906,55.8125 Q39.7656,55.4688 39.7656,54.7656 Q39.7656,54.0313 39.375,53.7188 Q38.9844,53.3906 38.0469,53.3906 L36.6563,53.3906 L36.6563,56.1406 L38.1406,56.1406 Z M38.3281,61.4844 Q39.2344,61.4844 39.5938,61.0469 Q39.9531,60.5938 39.9531,59.8125 Q39.9531,59.0313 39.5781,58.6406 Q39.2188,58.2344 38.2344,58.2344 L36.6563,58.2344 L36.6563,61.4844 L38.3281,61.4844 Z \" fill=\"#000000\"/><text fill=\"#000000\" font-family=\"sans-serif\" font-size=\"14\" lengthAdjust=\"spacing\" textLength=\"9\" x=\"51.5\" y=\"61.8467\">A</text><line style=\"stroke:#181818;stroke-width:0.5;\" x1=\"23.5\" x2=\"62.5\" y1=\"73\" y2=\"73\"/></g></a><!--MD5=[0a67477776639b3ea3f5d6654bd78499]\n",
       "@startuml\r\n",
       " \r\n",
       "package \"P1\" as E1  [[psysml:0a90d248-380c-4e9b-b837-344deff0bbde ]]  {\r\n",
       "comp def \"A\" as E2  << << (B,green) >> [[psysml:e04e257c-b1d4-496b-86bb-c28797e46b80 ]] {\r\n",
       "}\r\n",
       "}\r\n",
       "@enduml\r\n",
       "\n",
       "PlantUML version 1.2022.7(Mon Aug 22 17:01:30 UTC 2022)\n",
       "(EPL source distribution)\n",
       "Java Runtime: OpenJDK Runtime Environment\n",
       "JVM: OpenJDK 64-Bit Server VM\n",
       "Default Encoding: UTF-8\n",
       "Language: en\n",
       "Country: null\n",
       "--></g></svg>"
      ]
     },
     "execution_count": 30,
     "metadata": {},
     "output_type": "execute_result"
    }
   ],
   "source": [
    "%viz --style=\"PLANTUML\" --view=\"Default\" \"P1\""
   ]
  },
  {
   "cell_type": "code",
   "execution_count": 31,
   "id": "8bfbabc7",
   "metadata": {
    "execution": {
     "iopub.execute_input": "2024-12-16T03:23:15.175540Z",
     "iopub.status.busy": "2024-12-16T03:23:15.175305Z",
     "iopub.status.idle": "2024-12-16T03:23:15.187743Z",
     "shell.execute_reply": "2024-12-16T03:23:15.187549Z"
    }
   },
   "outputs": [
    {
     "data": {
      "image/svg+xml": [
       "<?xml version=\"1.0\" encoding=\"UTF-8\" standalone=\"no\"?><svg xmlns=\"http://www.w3.org/2000/svg\" xmlns:xlink=\"http://www.w3.org/1999/xlink\" contentStyleType=\"text/css\" height=\"104px\" preserveAspectRatio=\"none\" style=\"width:87px;height:104px;background:#FFFFFF;\" version=\"1.1\" viewBox=\"0 0 87 104\" width=\"87px\" zoomAndPan=\"magnify\"><defs/><g><!--MD5=[fbc87193dbaf4d95561dea2c320d4a47]\n",
       "cluster E1--><g id=\"cluster_E1\"><a href=\"psysml:0a90d248-380c-4e9b-b837-344deff0bbde\" target=\"_top\" title=\"psysml:0a90d248-380c-4e9b-b837-344deff0bbde\" xlink:actuate=\"onRequest\" xlink:href=\"psysml:0a90d248-380c-4e9b-b837-344deff0bbde\" xlink:show=\"new\" xlink:title=\"psysml:0a90d248-380c-4e9b-b837-344deff0bbde\" xlink:type=\"simple\"><path d=\"M8.5,6 L28.375,6 A3.75,3.75 0 0 1 30.875,8.5 L37.875,28.2969 L77.5,28.2969 A2.5,2.5 0 0 1 80,30.7969 L80,94.5 A2.5,2.5 0 0 1 77.5,97 L8.5,97 A2.5,2.5 0 0 1 6,94.5 L6,8.5 A2.5,2.5 0 0 1 8.5,6 \" fill=\"none\" style=\"stroke:#000000;stroke-width:1.5;\"/><line style=\"stroke:#000000;stroke-width:1.5;\" x1=\"6\" x2=\"37.875\" y1=\"28.2969\" y2=\"28.2969\"/><text fill=\"#000000\" font-family=\"sans-serif\" font-size=\"14\" font-weight=\"bold\" lengthAdjust=\"spacing\" textLength=\"18.875\" x=\"10\" y=\"20.9951\">P1</text></a></g><!--MD5=[b4997ac47864f28c2f74865a473b2911]\n",
       "class E2--><a href=\"psysml:e04e257c-b1d4-496b-86bb-c28797e46b80\" target=\"_top\" title=\"psysml:e04e257c-b1d4-496b-86bb-c28797e46b80\" xlink:actuate=\"onRequest\" xlink:href=\"psysml:e04e257c-b1d4-496b-86bb-c28797e46b80\" xlink:show=\"new\" xlink:title=\"psysml:e04e257c-b1d4-496b-86bb-c28797e46b80\" xlink:type=\"simple\"><g id=\"elem_E2\"><rect fill=\"#F1F1F1\" height=\"40\" id=\"E2\" rx=\"2.5\" ry=\"2.5\" style=\"stroke:#181818;stroke-width:0.5;\" width=\"41\" x=\"22.5\" y=\"41\"/><ellipse cx=\"37.5\" cy=\"57\" fill=\"#008000\" rx=\"11\" ry=\"11\" style=\"stroke:#181818;stroke-width:1.0;\"/><path d=\"M34.3594,63.5 L34.3594,51.3594 L38.1563,51.3594 Q40.1563,51.3594 41.2031,52.0625 Q42.2656,52.7656 42.2656,54.3438 Q42.2656,55.4375 41.7656,56.1563 Q41.2813,56.875 40.4531,57.0625 L40.4531,57.1406 Q41.375,57.3594 41.9375,58.0313 Q42.5156,58.6875 42.5156,59.9531 Q42.5156,61.6094 41.4688,62.5625 Q40.4219,63.5 38.5625,63.5 L34.3594,63.5 Z M38.1406,56.1406 Q39.0313,56.1406 39.3906,55.8125 Q39.7656,55.4688 39.7656,54.7656 Q39.7656,54.0313 39.375,53.7188 Q38.9844,53.3906 38.0469,53.3906 L36.6563,53.3906 L36.6563,56.1406 L38.1406,56.1406 Z M38.3281,61.4844 Q39.2344,61.4844 39.5938,61.0469 Q39.9531,60.5938 39.9531,59.8125 Q39.9531,59.0313 39.5781,58.6406 Q39.2188,58.2344 38.2344,58.2344 L36.6563,58.2344 L36.6563,61.4844 L38.3281,61.4844 Z \" fill=\"#000000\"/><text fill=\"#000000\" font-family=\"sans-serif\" font-size=\"14\" lengthAdjust=\"spacing\" textLength=\"9\" x=\"51.5\" y=\"61.8467\">A</text><line style=\"stroke:#181818;stroke-width:0.5;\" x1=\"23.5\" x2=\"62.5\" y1=\"73\" y2=\"73\"/></g></a><!--MD5=[0a67477776639b3ea3f5d6654bd78499]\n",
       "@startuml\r\n",
       " \r\n",
       "package \"P1\" as E1  [[psysml:0a90d248-380c-4e9b-b837-344deff0bbde ]]  {\r\n",
       "comp def \"A\" as E2  << << (B,green) >> [[psysml:e04e257c-b1d4-496b-86bb-c28797e46b80 ]] {\r\n",
       "}\r\n",
       "}\r\n",
       "@enduml\r\n",
       "\n",
       "PlantUML version 1.2022.7(Mon Aug 22 17:01:30 UTC 2022)\n",
       "(EPL source distribution)\n",
       "Java Runtime: OpenJDK Runtime Environment\n",
       "JVM: OpenJDK 64-Bit Server VM\n",
       "Default Encoding: UTF-8\n",
       "Language: en\n",
       "Country: null\n",
       "--></g></svg>"
      ]
     },
     "execution_count": 31,
     "metadata": {},
     "output_type": "execute_result"
    }
   ],
   "source": [
    "%viz --style=\"PLANTUML\" --view=\"Tree\" \"P1\""
   ]
  },
  {
   "cell_type": "code",
   "execution_count": 32,
   "id": "ab3151bc",
   "metadata": {
    "execution": {
     "iopub.execute_input": "2024-12-16T03:23:15.241369Z",
     "iopub.status.busy": "2024-12-16T03:23:15.241113Z",
     "iopub.status.idle": "2024-12-16T03:23:15.285016Z",
     "shell.execute_reply": "2024-12-16T03:23:15.284290Z"
    }
   },
   "outputs": [
    {
     "data": {
      "image/svg+xml": [
       "<?xml version=\"1.0\" encoding=\"UTF-8\" standalone=\"no\"?><svg xmlns=\"http://www.w3.org/2000/svg\" xmlns:xlink=\"http://www.w3.org/1999/xlink\" contentStyleType=\"text/css\" height=\"389px\" preserveAspectRatio=\"none\" style=\"width:603px;height:389px;background:#000000;\" version=\"1.1\" viewBox=\"0 0 603 389\" width=\"603px\" zoomAndPan=\"magnify\"><defs/><g><rect fill=\"#091E13\" height=\"1\" style=\"stroke:#091E13;stroke-width:1.0;\" width=\"1\" x=\"0\" y=\"0\"/><rect fill=\"#FFFFFF\" height=\"226.6573\" style=\"stroke:#FFFFFF;stroke-width:1.0;\" width=\"602\" x=\"0\" y=\"0\"/><text fill=\"#000000\" font-family=\"sans-serif\" font-size=\"12\" font-weight=\"bold\" lengthAdjust=\"spacing\" textLength=\"145.75\" x=\"5\" y=\"16.1387\">Welcome to PlantUML!</text><text fill=\"#000000\" font-family=\"sans-serif\" font-size=\"12\" lengthAdjust=\"spacing\" textLength=\"4\" x=\"5\" y=\"30.1074\"> </text><text fill=\"#000000\" font-family=\"sans-serif\" font-size=\"12\" lengthAdjust=\"spacing\" textLength=\"283\" x=\"5\" y=\"44.0762\">You can start with a simple UML Diagram like:</text><text fill=\"#000000\" font-family=\"sans-serif\" font-size=\"12\" lengthAdjust=\"spacing\" textLength=\"4\" x=\"5\" y=\"58.0449\"> </text><text fill=\"#000000\" font-family=\"monospace\" font-size=\"12\" lengthAdjust=\"spacing\" textLength=\"119\" x=\"5\" y=\"73.7031\">Bob-&gt;Alice: Hello</text><text fill=\"#000000\" font-family=\"sans-serif\" font-size=\"12\" lengthAdjust=\"spacing\" textLength=\"4\" x=\"5\" y=\"88.3578\"> </text><text fill=\"#000000\" font-family=\"sans-serif\" font-size=\"12\" lengthAdjust=\"spacing\" textLength=\"14\" x=\"5\" y=\"102.3265\">Or</text><text fill=\"#000000\" font-family=\"sans-serif\" font-size=\"12\" lengthAdjust=\"spacing\" textLength=\"4\" x=\"5\" y=\"116.2953\"> </text><text fill=\"#000000\" font-family=\"monospace\" font-size=\"12\" lengthAdjust=\"spacing\" textLength=\"91\" x=\"5\" y=\"131.9535\">class Example</text><text fill=\"#000000\" font-family=\"sans-serif\" font-size=\"12\" lengthAdjust=\"spacing\" textLength=\"4\" x=\"5\" y=\"146.6082\"> </text><text fill=\"#000000\" font-family=\"sans-serif\" font-size=\"12\" lengthAdjust=\"spacing\" textLength=\"349\" x=\"5\" y=\"160.5769\">You will find more information about PlantUML syntax on</text><text fill=\"#000000\" font-family=\"sans-serif\" font-size=\"12\" lengthAdjust=\"spacing\" text-decoration=\"underline\" textLength=\"129\" x=\"358\" y=\"160.5769\">https://plantuml.com</text><text fill=\"#000000\" font-family=\"sans-serif\" font-size=\"12\" lengthAdjust=\"spacing\" textLength=\"4\" x=\"5\" y=\"174.5457\"> </text><text fill=\"#000000\" font-family=\"sans-serif\" font-size=\"12\" lengthAdjust=\"spacing\" textLength=\"299\" x=\"5\" y=\"188.5144\">(If you use this software, you accept its license)</text><text fill=\"#000000\" font-family=\"sans-serif\" font-size=\"12\" lengthAdjust=\"spacing\" textLength=\"108\" x=\"5\" y=\"204.8585\">(Details by typing</text><text fill=\"#000000\" font-family=\"monospace\" font-size=\"12\" lengthAdjust=\"spacing\" textLength=\"49\" x=\"117\" y=\"204.1726\">license</text><text fill=\"#000000\" font-family=\"sans-serif\" font-size=\"12\" lengthAdjust=\"spacing\" textLength=\"56\" x=\"170\" y=\"204.8585\">keyword)</text><text fill=\"#000000\" font-family=\"sans-serif\" font-size=\"12\" lengthAdjust=\"spacing\" textLength=\"4\" x=\"5\" y=\"218.8273\"> </text><image height=\"71\" width=\"80\" x=\"516\" xlink:href=\"data:image/png;base64,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\" y=\"6\"/><rect fill=\"#000000\" height=\"160.3594\" style=\"stroke:#000000;stroke-width:1.0;\" width=\"602\" x=\"0\" y=\"226.6573\"/><text fill=\"#33FF02\" font-family=\"sans-serif\" font-size=\"12\" font-style=\"italic\" font-weight=\"bold\" lengthAdjust=\"spacing\" textLength=\"123\" x=\"5\" y=\"243.6573\">PlantUML 1.2022.7</text><text fill=\"#33FF02\" font-family=\"sans-serif\" font-size=\"12\" font-style=\"italic\" font-weight=\"bold\" lengthAdjust=\"spacing\" textLength=\"4\" x=\"5\" y=\"257.6261\"> </text><text fill=\"#33FF02\" font-family=\"sans-serif\" font-size=\"12\" font-style=\"italic\" font-weight=\"bold\" lengthAdjust=\"spacing\" textLength=\"390\" x=\"5\" y=\"271.5948\">&lt;b&gt;This version of PlantUML is 846 days old, so you should</text><text fill=\"#33FF02\" font-family=\"sans-serif\" font-size=\"12\" font-style=\"italic\" font-weight=\"bold\" lengthAdjust=\"spacing\" textLength=\"398.875\" x=\"5\" y=\"285.5636\">&lt;b&gt;consider upgrading from https://plantuml.com/download</text><rect fill=\"#33FF02\" height=\"21.2969\" style=\"stroke:#33FF02;stroke-width:1.0;\" width=\"153.3125\" x=\"5\" y=\"295.5323\"/><text fill=\"#000000\" font-family=\"sans-serif\" font-size=\"14\" font-weight=\"bold\" lengthAdjust=\"spacing\" textLength=\"151.3125\" x=\"6\" y=\"310.5323\">[From string (line 2) ]</text><text fill=\"#33FF02\" font-family=\"sans-serif\" font-size=\"14\" font-weight=\"bold\" lengthAdjust=\"spacing\" textLength=\"4\" x=\"5\" y=\"330.8292\"> </text><text fill=\"#33FF02\" font-family=\"sans-serif\" font-size=\"14\" font-weight=\"bold\" lengthAdjust=\"spacing\" textLength=\"73.9375\" x=\"5\" y=\"347.1261\">@startuml</text><text fill=\"#33FF02\" font-family=\"sans-serif\" font-size=\"14\" font-weight=\"bold\" lengthAdjust=\"spacing\" text-decoration=\"wavy underline\" textLength=\"4\" x=\"5\" y=\"363.423\"> </text><text fill=\"#FF0000\" font-family=\"sans-serif\" font-size=\"14\" font-weight=\"bold\" lengthAdjust=\"spacing\" textLength=\"131\" x=\"9\" y=\"379.7198\">Empty description</text><!--MD5=[5b6570bdd48fecdb4121f0162c378f28]\n",
       "@startuml\r\n",
       " \r\n",
       "@enduml\r\n",
       "\n",
       "PlantUML version 1.2022.7(Mon Aug 22 17:01:30 UTC 2022)\n",
       "(EPL source distribution)\n",
       "Java Runtime: OpenJDK Runtime Environment\n",
       "JVM: OpenJDK 64-Bit Server VM\n",
       "Default Encoding: UTF-8\n",
       "Language: en\n",
       "Country: null\n",
       "--></g></svg>"
      ]
     },
     "execution_count": 32,
     "metadata": {},
     "output_type": "execute_result"
    }
   ],
   "source": [
    "%viz --style=\"PLANTUML\" --view=\"State\" \"P1\""
   ]
  },
  {
   "cell_type": "code",
   "execution_count": 33,
   "id": "68368cc5",
   "metadata": {
    "execution": {
     "iopub.execute_input": "2024-12-16T03:23:15.340689Z",
     "iopub.status.busy": "2024-12-16T03:23:15.340457Z",
     "iopub.status.idle": "2024-12-16T03:23:15.355378Z",
     "shell.execute_reply": "2024-12-16T03:23:15.355197Z"
    }
   },
   "outputs": [
    {
     "data": {
      "image/svg+xml": [
       "<?xml version=\"1.0\" encoding=\"UTF-8\" standalone=\"no\"?><svg xmlns=\"http://www.w3.org/2000/svg\" xmlns:xlink=\"http://www.w3.org/1999/xlink\" contentStyleType=\"text/css\" height=\"104px\" preserveAspectRatio=\"none\" style=\"width:95px;height:104px;background:#FFFFFF;\" version=\"1.1\" viewBox=\"0 0 95 104\" width=\"95px\" zoomAndPan=\"magnify\"><defs/><g><!--MD5=[fbc87193dbaf4d95561dea2c320d4a47]\n",
       "cluster E1--><g id=\"cluster_E1\"><a href=\"psysml:0a90d248-380c-4e9b-b837-344deff0bbde\" target=\"_top\" title=\"psysml:0a90d248-380c-4e9b-b837-344deff0bbde\" xlink:actuate=\"onRequest\" xlink:href=\"psysml:0a90d248-380c-4e9b-b837-344deff0bbde\" xlink:show=\"new\" xlink:title=\"psysml:0a90d248-380c-4e9b-b837-344deff0bbde\" xlink:type=\"simple\"><path d=\"M8.5,6 L28.375,6 A3.75,3.75 0 0 1 30.875,8.5 L37.875,28.2969 L85.5,28.2969 A2.5,2.5 0 0 1 88,30.7969 L88,94.5 A2.5,2.5 0 0 1 85.5,97 L8.5,97 A2.5,2.5 0 0 1 6,94.5 L6,8.5 A2.5,2.5 0 0 1 8.5,6 \" fill=\"none\" style=\"stroke:#000000;stroke-width:1.5;\"/><line style=\"stroke:#000000;stroke-width:1.5;\" x1=\"6\" x2=\"37.875\" y1=\"28.2969\" y2=\"28.2969\"/><text fill=\"#000000\" font-family=\"sans-serif\" font-size=\"14\" font-weight=\"bold\" lengthAdjust=\"spacing\" textLength=\"18.875\" x=\"10\" y=\"20.9951\">P1</text></a></g><g><a href=\"psysml:e04e257c-b1d4-496b-86bb-c28797e46b80\" target=\"_top\" title=\"psysml:e04e257c-b1d4-496b-86bb-c28797e46b80\" xlink:actuate=\"onRequest\" xlink:href=\"psysml:e04e257c-b1d4-496b-86bb-c28797e46b80\" xlink:show=\"new\" xlink:title=\"psysml:e04e257c-b1d4-496b-86bb-c28797e46b80\" xlink:type=\"simple\"><rect fill=\"#F1F1F1\" height=\"40\" id=\"E2\" style=\"stroke:#A80036;stroke-width:1.5;\" width=\"50\" x=\"22\" y=\"41\"/><ellipse cx=\"41.05\" cy=\"57\" fill=\"#008000\" rx=\"11\" ry=\"11\" style=\"stroke:#181818;stroke-width:1.0;\"/><path d=\"M37.9094,63.5 L37.9094,51.3594 L41.7063,51.3594 Q43.7063,51.3594 44.7531,52.0625 Q45.8156,52.7656 45.8156,54.3438 Q45.8156,55.4375 45.3156,56.1563 Q44.8313,56.875 44.0031,57.0625 L44.0031,57.1406 Q44.925,57.3594 45.4875,58.0313 Q46.0656,58.6875 46.0656,59.9531 Q46.0656,61.6094 45.0188,62.5625 Q43.9719,63.5 42.1125,63.5 L37.9094,63.5 Z M41.6906,56.1406 Q42.5813,56.1406 42.9406,55.8125 Q43.3156,55.4688 43.3156,54.7656 Q43.3156,54.0313 42.925,53.7188 Q42.5344,53.3906 41.5969,53.3906 L40.2063,53.3906 L40.2063,56.1406 L41.6906,56.1406 Z M41.8781,61.4844 Q42.7844,61.4844 43.1438,61.0469 Q43.5031,60.5938 43.5031,59.8125 Q43.5031,59.0313 43.1281,58.6406 Q42.7688,58.2344 41.7844,58.2344 L40.2063,58.2344 L40.2063,61.4844 L41.8781,61.4844 Z \" fill=\"#000000\"/><text fill=\"#000000\" font-family=\"sans-serif\" font-size=\"14\" lengthAdjust=\"spacing\" textLength=\"9\" x=\"55.95\" y=\"61.8467\">A</text></a></g><!--MD5=[654667b4ccb7db57ceaa2ff8f053f9d5]\n",
       "@startuml\r\n",
       " skinparam ranksep 10\r\n",
       "skinparam rectangle {\r\n",
       " backgroundColor<<block>> LightGreen\r\n",
       "}\r\n",
       "\r\n",
       "package \"P1\" as E1  [[psysml:0a90d248-380c-4e9b-b837-344deff0bbde ]]  {\r\n",
       "rec def \"A\" as E2  << << (B,green) >> [[psysml:e04e257c-b1d4-496b-86bb-c28797e46b80 ]] {\r\n",
       "}\r\n",
       "}\r\n",
       "@enduml\r\n",
       "\n",
       "PlantUML version 1.2022.7(Mon Aug 22 17:01:30 UTC 2022)\n",
       "(EPL source distribution)\n",
       "Java Runtime: OpenJDK Runtime Environment\n",
       "JVM: OpenJDK 64-Bit Server VM\n",
       "Default Encoding: UTF-8\n",
       "Language: en\n",
       "Country: null\n",
       "--></g></svg>"
      ]
     },
     "execution_count": 33,
     "metadata": {},
     "output_type": "execute_result"
    }
   ],
   "source": [
    "%viz --style=\"PLANTUML\" --view=\"Interconnection\" \"P1\""
   ]
  },
  {
   "cell_type": "code",
   "execution_count": 34,
   "id": "d802f538",
   "metadata": {
    "execution": {
     "iopub.execute_input": "2024-12-16T03:23:15.409186Z",
     "iopub.status.busy": "2024-12-16T03:23:15.408937Z",
     "iopub.status.idle": "2024-12-16T03:23:15.413491Z",
     "shell.execute_reply": "2024-12-16T03:23:15.413305Z"
    }
   },
   "outputs": [
    {
     "data": {
      "image/svg+xml": [
       "<?xml version=\"1.0\" encoding=\"UTF-8\" standalone=\"no\"?><svg xmlns=\"http://www.w3.org/2000/svg\" xmlns:xlink=\"http://www.w3.org/1999/xlink\" contentStyleType=\"text/css\" height=\"10px\" preserveAspectRatio=\"none\" style=\"width:10px;height:10px;background:#FFFFFF;\" version=\"1.1\" viewBox=\"0 0 10 10\" width=\"10px\" zoomAndPan=\"magnify\"><defs/><g><!--MD5=[5b85ed15c012f432344d03f88cdcf85b]\n",
       "@startuml\r\n",
       " skinparam ranksep 8\r\n",
       "\r\n",
       "@enduml\r\n",
       "\n",
       "PlantUML version 1.2022.7(Mon Aug 22 17:01:30 UTC 2022)\n",
       "(EPL source distribution)\n",
       "Java Runtime: OpenJDK Runtime Environment\n",
       "JVM: OpenJDK 64-Bit Server VM\n",
       "Default Encoding: UTF-8\n",
       "Language: en\n",
       "Country: null\n",
       "--></g></svg>"
      ]
     },
     "execution_count": 34,
     "metadata": {},
     "output_type": "execute_result"
    }
   ],
   "source": [
    "%viz --style=\"PLANTUML\" --view=\"Action\" \"P1\""
   ]
  },
  {
   "cell_type": "code",
   "execution_count": 35,
   "id": "491c8afe",
   "metadata": {
    "execution": {
     "iopub.execute_input": "2024-12-16T03:23:15.465939Z",
     "iopub.status.busy": "2024-12-16T03:23:15.465733Z",
     "iopub.status.idle": "2024-12-16T03:23:15.470856Z",
     "shell.execute_reply": "2024-12-16T03:23:15.470686Z"
    }
   },
   "outputs": [
    {
     "data": {
      "image/svg+xml": [
       "<?xml version=\"1.0\" encoding=\"UTF-8\" standalone=\"no\"?><svg xmlns=\"http://www.w3.org/2000/svg\" xmlns:xlink=\"http://www.w3.org/1999/xlink\" contentStyleType=\"text/css\" height=\"10px\" preserveAspectRatio=\"none\" style=\"width:10px;height:10px;background:#FFFFFF;\" version=\"1.1\" viewBox=\"0 0 10 10\" width=\"10px\" zoomAndPan=\"magnify\"><defs/><g><!--MD5=[395e82ba475bd2e80052467b56fa0251]\n",
       "@startuml\r\n",
       " skinparam roundcorner 20\r\n",
       "skinparam BoxPadding 20\r\n",
       "skinparam SequenceBoxBackgroundColor #white\r\n",
       "skinparam style strictuml\r\n",
       "skinparam maxMessageSize 100\r\n",
       "\r\n",
       "@enduml\r\n",
       "\n",
       "PlantUML version 1.2022.7(Mon Aug 22 17:01:30 UTC 2022)\n",
       "(EPL source distribution)\n",
       "Java Runtime: OpenJDK Runtime Environment\n",
       "JVM: OpenJDK 64-Bit Server VM\n",
       "Default Encoding: UTF-8\n",
       "Language: en\n",
       "Country: null\n",
       "--></g></svg>"
      ]
     },
     "execution_count": 35,
     "metadata": {},
     "output_type": "execute_result"
    }
   ],
   "source": [
    "%viz --style=\"PLANTUML\" --view=\"Sequence\" \"P1\""
   ]
  },
  {
   "cell_type": "code",
   "execution_count": 36,
   "id": "6641b854",
   "metadata": {
    "execution": {
     "iopub.execute_input": "2024-12-16T03:23:15.526505Z",
     "iopub.status.busy": "2024-12-16T03:23:15.526308Z",
     "iopub.status.idle": "2024-12-16T03:23:15.540408Z",
     "shell.execute_reply": "2024-12-16T03:23:15.540233Z"
    }
   },
   "outputs": [
    {
     "data": {
      "image/svg+xml": [
       "<?xml version=\"1.0\" encoding=\"UTF-8\" standalone=\"no\"?><svg xmlns=\"http://www.w3.org/2000/svg\" xmlns:xlink=\"http://www.w3.org/1999/xlink\" contentStyleType=\"text/css\" height=\"104px\" preserveAspectRatio=\"none\" style=\"width:87px;height:104px;background:#FFFFFF;\" version=\"1.1\" viewBox=\"0 0 87 104\" width=\"87px\" zoomAndPan=\"magnify\"><defs/><g><!--MD5=[fbc87193dbaf4d95561dea2c320d4a47]\n",
       "cluster E1--><g id=\"cluster_E1\"><a href=\"psysml:0a90d248-380c-4e9b-b837-344deff0bbde\" target=\"_top\" title=\"psysml:0a90d248-380c-4e9b-b837-344deff0bbde\" xlink:actuate=\"onRequest\" xlink:href=\"psysml:0a90d248-380c-4e9b-b837-344deff0bbde\" xlink:show=\"new\" xlink:title=\"psysml:0a90d248-380c-4e9b-b837-344deff0bbde\" xlink:type=\"simple\"><path d=\"M8.5,6 L28.375,6 A3.75,3.75 0 0 1 30.875,8.5 L37.875,28.2969 L77.5,28.2969 A2.5,2.5 0 0 1 80,30.7969 L80,94.5 A2.5,2.5 0 0 1 77.5,97 L8.5,97 A2.5,2.5 0 0 1 6,94.5 L6,8.5 A2.5,2.5 0 0 1 8.5,6 \" fill=\"none\" style=\"stroke:#000000;stroke-width:1.5;\"/><line style=\"stroke:#000000;stroke-width:1.5;\" x1=\"6\" x2=\"37.875\" y1=\"28.2969\" y2=\"28.2969\"/><text fill=\"#000000\" font-family=\"sans-serif\" font-size=\"14\" font-weight=\"bold\" lengthAdjust=\"spacing\" textLength=\"18.875\" x=\"10\" y=\"20.9951\">P1</text></a></g><!--MD5=[b4997ac47864f28c2f74865a473b2911]\n",
       "class E2--><a href=\"psysml:e04e257c-b1d4-496b-86bb-c28797e46b80\" target=\"_top\" title=\"psysml:e04e257c-b1d4-496b-86bb-c28797e46b80\" xlink:actuate=\"onRequest\" xlink:href=\"psysml:e04e257c-b1d4-496b-86bb-c28797e46b80\" xlink:show=\"new\" xlink:title=\"psysml:e04e257c-b1d4-496b-86bb-c28797e46b80\" xlink:type=\"simple\"><g id=\"elem_E2\"><rect fill=\"#F1F1F1\" height=\"40\" id=\"E2\" rx=\"2.5\" ry=\"2.5\" style=\"stroke:#181818;stroke-width:0.5;\" width=\"41\" x=\"22.5\" y=\"41\"/><ellipse cx=\"37.5\" cy=\"57\" fill=\"#008000\" rx=\"11\" ry=\"11\" style=\"stroke:#181818;stroke-width:1.0;\"/><path d=\"M34.3594,63.5 L34.3594,51.3594 L38.1563,51.3594 Q40.1563,51.3594 41.2031,52.0625 Q42.2656,52.7656 42.2656,54.3438 Q42.2656,55.4375 41.7656,56.1563 Q41.2813,56.875 40.4531,57.0625 L40.4531,57.1406 Q41.375,57.3594 41.9375,58.0313 Q42.5156,58.6875 42.5156,59.9531 Q42.5156,61.6094 41.4688,62.5625 Q40.4219,63.5 38.5625,63.5 L34.3594,63.5 Z M38.1406,56.1406 Q39.0313,56.1406 39.3906,55.8125 Q39.7656,55.4688 39.7656,54.7656 Q39.7656,54.0313 39.375,53.7188 Q38.9844,53.3906 38.0469,53.3906 L36.6563,53.3906 L36.6563,56.1406 L38.1406,56.1406 Z M38.3281,61.4844 Q39.2344,61.4844 39.5938,61.0469 Q39.9531,60.5938 39.9531,59.8125 Q39.9531,59.0313 39.5781,58.6406 Q39.2188,58.2344 38.2344,58.2344 L36.6563,58.2344 L36.6563,61.4844 L38.3281,61.4844 Z \" fill=\"#000000\"/><text fill=\"#000000\" font-family=\"sans-serif\" font-size=\"14\" lengthAdjust=\"spacing\" textLength=\"9\" x=\"51.5\" y=\"61.8467\">A</text><line style=\"stroke:#181818;stroke-width:0.5;\" x1=\"23.5\" x2=\"62.5\" y1=\"73\" y2=\"73\"/></g></a><!--MD5=[0a67477776639b3ea3f5d6654bd78499]\n",
       "@startuml\r\n",
       " \r\n",
       "package \"P1\" as E1  [[psysml:0a90d248-380c-4e9b-b837-344deff0bbde ]]  {\r\n",
       "comp def \"A\" as E2  << << (B,green) >> [[psysml:e04e257c-b1d4-496b-86bb-c28797e46b80 ]] {\r\n",
       "}\r\n",
       "}\r\n",
       "@enduml\r\n",
       "\n",
       "PlantUML version 1.2022.7(Mon Aug 22 17:01:30 UTC 2022)\n",
       "(EPL source distribution)\n",
       "Java Runtime: OpenJDK Runtime Environment\n",
       "JVM: OpenJDK 64-Bit Server VM\n",
       "Default Encoding: UTF-8\n",
       "Language: en\n",
       "Country: null\n",
       "--></g></svg>"
      ]
     },
     "execution_count": 36,
     "metadata": {},
     "output_type": "execute_result"
    }
   ],
   "source": [
    "%viz --style=\"PLANTUML\" --view=\"MIXED\" \"P1\""
   ]
  },
  {
   "cell_type": "code",
   "execution_count": 37,
   "id": "6df12c81",
   "metadata": {
    "execution": {
     "iopub.execute_input": "2024-12-16T03:23:15.592162Z",
     "iopub.status.busy": "2024-12-16T03:23:15.591953Z",
     "iopub.status.idle": "2024-12-16T03:23:15.604386Z",
     "shell.execute_reply": "2024-12-16T03:23:15.604208Z"
    }
   },
   "outputs": [
    {
     "data": {
      "image/svg+xml": [
       "<?xml version=\"1.0\" encoding=\"UTF-8\" standalone=\"no\"?><svg xmlns=\"http://www.w3.org/2000/svg\" xmlns:xlink=\"http://www.w3.org/1999/xlink\" contentStyleType=\"text/css\" height=\"112px\" preserveAspectRatio=\"none\" style=\"width:135px;height:112px;background:#FFFFFF;\" version=\"1.1\" viewBox=\"0 0 135 112\" width=\"135px\" zoomAndPan=\"magnify\"><defs/><g><!--MD5=[fbc87193dbaf4d95561dea2c320d4a47]\n",
       "cluster E1--><g id=\"cluster_E1\"><a href=\"psysml:0a90d248-380c-4e9b-b837-344deff0bbde\" target=\"_top\" title=\"psysml:0a90d248-380c-4e9b-b837-344deff0bbde\" xlink:actuate=\"onRequest\" xlink:href=\"psysml:0a90d248-380c-4e9b-b837-344deff0bbde\" xlink:show=\"new\" xlink:title=\"psysml:0a90d248-380c-4e9b-b837-344deff0bbde\" xlink:type=\"simple\"><polygon fill=\"none\" points=\"16,6,40.875,6,47.875,28.2969,118,28.2969,118,105,16,105,16,6\" style=\"stroke:#000000;stroke-width:1.5;\"/><line style=\"stroke:#000000;stroke-width:1.5;\" x1=\"16\" x2=\"47.875\" y1=\"28.2969\" y2=\"28.2969\"/><text fill=\"#000000\" font-family=\"sans-serif\" font-size=\"14\" font-weight=\"bold\" lengthAdjust=\"spacing\" textLength=\"18.875\" x=\"20\" y=\"20.9951\">P1</text></a></g><!--MD5=[b4997ac47864f28c2f74865a473b2911]\n",
       "class E2--><a href=\"psysml:e04e257c-b1d4-496b-86bb-c28797e46b80\" target=\"_top\" title=\"psysml:e04e257c-b1d4-496b-86bb-c28797e46b80\" xlink:actuate=\"onRequest\" xlink:href=\"psysml:e04e257c-b1d4-496b-86bb-c28797e46b80\" xlink:show=\"new\" xlink:title=\"psysml:e04e257c-b1d4-496b-86bb-c28797e46b80\" xlink:type=\"simple\"><g id=\"elem_E2\"><rect fill=\"#FFFFFF\" height=\"48.2656\" id=\"E2\" style=\"stroke:#181818;stroke-width:0.5;\" width=\"70\" x=\"32\" y=\"41\"/><text fill=\"#000000\" font-family=\"sans-serif\" font-size=\"12\" font-style=\"italic\" lengthAdjust=\"spacing\" textLength=\"68\" x=\"33\" y=\"57.1387\">«part  def»</text><text fill=\"#000000\" font-family=\"sans-serif\" font-size=\"14\" lengthAdjust=\"spacing\" textLength=\"9\" x=\"62.5\" y=\"72.9639\">A</text><line style=\"stroke:#181818;stroke-width:0.5;\" x1=\"33\" x2=\"101\" y1=\"81.2656\" y2=\"81.2656\"/></g></a><!--MD5=[1ffdfdf69b052344828fd9299ddf8ca7]\n",
       "@startuml\r\n",
       "skin sysmlbw\r\n",
       "skinparam monochrome true\r\n",
       "skinparam wrapWidth 300\r\n",
       "hide circle\r\n",
       "\r\n",
       "package \"P1\" as E1  [[psysml:0a90d248-380c-4e9b-b837-344deff0bbde ]]  {\r\n",
       "comp def \"A\" as E2  <<(T,blue) part  def>> [[psysml:e04e257c-b1d4-496b-86bb-c28797e46b80 ]] {\r\n",
       "}\r\n",
       "}\r\n",
       "@enduml\r\n",
       "\n",
       "PlantUML version 1.2022.7(Mon Aug 22 17:01:30 UTC 2022)\n",
       "(EPL source distribution)\n",
       "Java Runtime: OpenJDK Runtime Environment\n",
       "JVM: OpenJDK 64-Bit Server VM\n",
       "Default Encoding: UTF-8\n",
       "Language: en\n",
       "Country: null\n",
       "--></g></svg>"
      ]
     },
     "execution_count": 37,
     "metadata": {},
     "output_type": "execute_result"
    }
   ],
   "source": [
    "%viz --style=\"DEFAULT\" --view=\"Default\" \"P1\""
   ]
  },
  {
   "cell_type": "code",
   "execution_count": 38,
   "id": "6f079b60",
   "metadata": {
    "execution": {
     "iopub.execute_input": "2024-12-16T03:23:15.655957Z",
     "iopub.status.busy": "2024-12-16T03:23:15.655732Z",
     "iopub.status.idle": "2024-12-16T03:23:15.667024Z",
     "shell.execute_reply": "2024-12-16T03:23:15.666851Z"
    }
   },
   "outputs": [
    {
     "data": {
      "image/svg+xml": [
       "<?xml version=\"1.0\" encoding=\"UTF-8\" standalone=\"no\"?><svg xmlns=\"http://www.w3.org/2000/svg\" xmlns:xlink=\"http://www.w3.org/1999/xlink\" contentStyleType=\"text/css\" height=\"112px\" preserveAspectRatio=\"none\" style=\"width:135px;height:112px;background:#FFFFFF;\" version=\"1.1\" viewBox=\"0 0 135 112\" width=\"135px\" zoomAndPan=\"magnify\"><defs/><g><!--MD5=[fbc87193dbaf4d95561dea2c320d4a47]\n",
       "cluster E1--><g id=\"cluster_E1\"><a href=\"psysml:0a90d248-380c-4e9b-b837-344deff0bbde\" target=\"_top\" title=\"psysml:0a90d248-380c-4e9b-b837-344deff0bbde\" xlink:actuate=\"onRequest\" xlink:href=\"psysml:0a90d248-380c-4e9b-b837-344deff0bbde\" xlink:show=\"new\" xlink:title=\"psysml:0a90d248-380c-4e9b-b837-344deff0bbde\" xlink:type=\"simple\"><polygon fill=\"none\" points=\"16,6,40.875,6,47.875,28.2969,118,28.2969,118,105,16,105,16,6\" style=\"stroke:#000000;stroke-width:1.5;\"/><line style=\"stroke:#000000;stroke-width:1.5;\" x1=\"16\" x2=\"47.875\" y1=\"28.2969\" y2=\"28.2969\"/><text fill=\"#000000\" font-family=\"sans-serif\" font-size=\"14\" font-weight=\"bold\" lengthAdjust=\"spacing\" textLength=\"18.875\" x=\"20\" y=\"20.9951\">P1</text></a></g><!--MD5=[b4997ac47864f28c2f74865a473b2911]\n",
       "class E2--><a href=\"psysml:e04e257c-b1d4-496b-86bb-c28797e46b80\" target=\"_top\" title=\"psysml:e04e257c-b1d4-496b-86bb-c28797e46b80\" xlink:actuate=\"onRequest\" xlink:href=\"psysml:e04e257c-b1d4-496b-86bb-c28797e46b80\" xlink:show=\"new\" xlink:title=\"psysml:e04e257c-b1d4-496b-86bb-c28797e46b80\" xlink:type=\"simple\"><g id=\"elem_E2\"><rect fill=\"#FFFFFF\" height=\"48.2656\" id=\"E2\" style=\"stroke:#181818;stroke-width:0.5;\" width=\"70\" x=\"32\" y=\"41\"/><text fill=\"#000000\" font-family=\"sans-serif\" font-size=\"12\" font-style=\"italic\" lengthAdjust=\"spacing\" textLength=\"68\" x=\"33\" y=\"57.1387\">«part  def»</text><text fill=\"#000000\" font-family=\"sans-serif\" font-size=\"14\" lengthAdjust=\"spacing\" textLength=\"9\" x=\"62.5\" y=\"72.9639\">A</text><line style=\"stroke:#181818;stroke-width:0.5;\" x1=\"33\" x2=\"101\" y1=\"81.2656\" y2=\"81.2656\"/></g></a><!--MD5=[1ffdfdf69b052344828fd9299ddf8ca7]\n",
       "@startuml\r\n",
       "skin sysmlbw\r\n",
       "skinparam monochrome true\r\n",
       "skinparam wrapWidth 300\r\n",
       "hide circle\r\n",
       "\r\n",
       "package \"P1\" as E1  [[psysml:0a90d248-380c-4e9b-b837-344deff0bbde ]]  {\r\n",
       "comp def \"A\" as E2  <<(T,blue) part  def>> [[psysml:e04e257c-b1d4-496b-86bb-c28797e46b80 ]] {\r\n",
       "}\r\n",
       "}\r\n",
       "@enduml\r\n",
       "\n",
       "PlantUML version 1.2022.7(Mon Aug 22 17:01:30 UTC 2022)\n",
       "(EPL source distribution)\n",
       "Java Runtime: OpenJDK Runtime Environment\n",
       "JVM: OpenJDK 64-Bit Server VM\n",
       "Default Encoding: UTF-8\n",
       "Language: en\n",
       "Country: null\n",
       "--></g></svg>"
      ]
     },
     "execution_count": 38,
     "metadata": {},
     "output_type": "execute_result"
    }
   ],
   "source": [
    "%viz --style=\"DEFAULT\" --view=\"Tree\" \"P1\""
   ]
  },
  {
   "cell_type": "code",
   "execution_count": 39,
   "id": "705f907b",
   "metadata": {
    "execution": {
     "iopub.execute_input": "2024-12-16T03:23:15.717550Z",
     "iopub.status.busy": "2024-12-16T03:23:15.717329Z",
     "iopub.status.idle": "2024-12-16T03:23:15.721351Z",
     "shell.execute_reply": "2024-12-16T03:23:15.721184Z"
    }
   },
   "outputs": [
    {
     "data": {
      "image/svg+xml": [
       "<?xml version=\"1.0\" encoding=\"UTF-8\" standalone=\"no\"?><svg xmlns=\"http://www.w3.org/2000/svg\" xmlns:xlink=\"http://www.w3.org/1999/xlink\" contentStyleType=\"text/css\" height=\"10px\" preserveAspectRatio=\"none\" style=\"width:10px;height:10px;background:#FFFFFF;\" version=\"1.1\" viewBox=\"0 0 10 10\" width=\"10px\" zoomAndPan=\"magnify\"><defs/><g><!--MD5=[ac12e6954f3af68464267ee74ddf8a9f]\n",
       "@startuml\r\n",
       "skin sysmlbw\r\n",
       "skinparam monochrome true\r\n",
       "skinparam wrapWidth 300\r\n",
       "hide circle\r\n",
       "\r\n",
       "@enduml\r\n",
       "\n",
       "PlantUML version 1.2022.7(Mon Aug 22 17:01:30 UTC 2022)\n",
       "(EPL source distribution)\n",
       "Java Runtime: OpenJDK Runtime Environment\n",
       "JVM: OpenJDK 64-Bit Server VM\n",
       "Default Encoding: UTF-8\n",
       "Language: en\n",
       "Country: null\n",
       "--></g></svg>"
      ]
     },
     "execution_count": 39,
     "metadata": {},
     "output_type": "execute_result"
    }
   ],
   "source": [
    "%viz --style=\"DEFAULT\" --view=\"State\" \"P1\""
   ]
  },
  {
   "cell_type": "code",
   "execution_count": 40,
   "id": "09406a73",
   "metadata": {
    "execution": {
     "iopub.execute_input": "2024-12-16T03:23:15.776029Z",
     "iopub.status.busy": "2024-12-16T03:23:15.775852Z",
     "iopub.status.idle": "2024-12-16T03:23:15.788111Z",
     "shell.execute_reply": "2024-12-16T03:23:15.787936Z"
    }
   },
   "outputs": [
    {
     "data": {
      "image/svg+xml": [
       "<?xml version=\"1.0\" encoding=\"UTF-8\" standalone=\"no\"?><svg xmlns=\"http://www.w3.org/2000/svg\" xmlns:xlink=\"http://www.w3.org/1999/xlink\" contentStyleType=\"text/css\" height=\"109px\" preserveAspectRatio=\"none\" style=\"width:139px;height:109px;background:#FFFFFF;\" version=\"1.1\" viewBox=\"0 0 139 109\" width=\"139px\" zoomAndPan=\"magnify\"><defs/><g><!--MD5=[fbc87193dbaf4d95561dea2c320d4a47]\n",
       "cluster E1--><g id=\"cluster_E1\"><a href=\"psysml:0a90d248-380c-4e9b-b837-344deff0bbde\" target=\"_top\" title=\"psysml:0a90d248-380c-4e9b-b837-344deff0bbde\" xlink:actuate=\"onRequest\" xlink:href=\"psysml:0a90d248-380c-4e9b-b837-344deff0bbde\" xlink:show=\"new\" xlink:title=\"psysml:0a90d248-380c-4e9b-b837-344deff0bbde\" xlink:type=\"simple\"><polygon fill=\"none\" points=\"16,6,40.875,6,47.875,28.2969,122,28.2969,122,102,16,102,16,6\" style=\"stroke:#000000;stroke-width:1.5;\"/><line style=\"stroke:#000000;stroke-width:1.5;\" x1=\"16\" x2=\"47.875\" y1=\"28.2969\" y2=\"28.2969\"/><text fill=\"#000000\" font-family=\"sans-serif\" font-size=\"14\" font-weight=\"bold\" lengthAdjust=\"spacing\" textLength=\"18.875\" x=\"20\" y=\"20.9951\">P1</text></a></g><g><a href=\"psysml:e04e257c-b1d4-496b-86bb-c28797e46b80\" target=\"_top\" title=\"psysml:e04e257c-b1d4-496b-86bb-c28797e46b80\" xlink:actuate=\"onRequest\" xlink:href=\"psysml:e04e257c-b1d4-496b-86bb-c28797e46b80\" xlink:show=\"new\" xlink:title=\"psysml:e04e257c-b1d4-496b-86bb-c28797e46b80\" xlink:type=\"simple\"><rect fill=\"#FFFFFF\" height=\"45.2656\" id=\"E2\" style=\"stroke:#383838;stroke-width:1.5;\" width=\"75\" x=\"31.5\" y=\"41\"/><text fill=\"#000000\" font-family=\"sans-serif\" font-size=\"12\" font-style=\"italic\" lengthAdjust=\"spacing\" textLength=\"68\" x=\"35\" y=\"57.1387\">«part  def»</text><text fill=\"#000000\" font-family=\"sans-serif\" font-size=\"14\" lengthAdjust=\"spacing\" textLength=\"9\" x=\"64.5\" y=\"72.9639\">A</text></a></g><!--MD5=[cc1d357c5c0a8f6d0e3cf0cf64f9f0f9]\n",
       "@startuml\r\n",
       "skin sysmlbw\r\n",
       "skinparam monochrome true\r\n",
       "skinparam wrapWidth 300\r\n",
       "hide circle\r\n",
       "skinparam ranksep 10\r\n",
       "skinparam rectangle {\r\n",
       " backgroundColor<<block>> LightGreen\r\n",
       "}\r\n",
       "\r\n",
       "package \"P1\" as E1  [[psysml:0a90d248-380c-4e9b-b837-344deff0bbde ]]  {\r\n",
       "rec def \"A\" as E2  <<(T,blue) part  def>> [[psysml:e04e257c-b1d4-496b-86bb-c28797e46b80 ]] {\r\n",
       "}\r\n",
       "}\r\n",
       "@enduml\r\n",
       "\n",
       "PlantUML version 1.2022.7(Mon Aug 22 17:01:30 UTC 2022)\n",
       "(EPL source distribution)\n",
       "Java Runtime: OpenJDK Runtime Environment\n",
       "JVM: OpenJDK 64-Bit Server VM\n",
       "Default Encoding: UTF-8\n",
       "Language: en\n",
       "Country: null\n",
       "--></g></svg>"
      ]
     },
     "execution_count": 40,
     "metadata": {},
     "output_type": "execute_result"
    }
   ],
   "source": [
    "%viz --style=\"DEFAULT\" --view=\"Interconnection\" \"P1\""
   ]
  },
  {
   "cell_type": "code",
   "execution_count": 41,
   "id": "30cfc807",
   "metadata": {
    "execution": {
     "iopub.execute_input": "2024-12-16T03:23:15.838923Z",
     "iopub.status.busy": "2024-12-16T03:23:15.838710Z",
     "iopub.status.idle": "2024-12-16T03:23:15.843338Z",
     "shell.execute_reply": "2024-12-16T03:23:15.843140Z"
    }
   },
   "outputs": [
    {
     "data": {
      "image/svg+xml": [
       "<?xml version=\"1.0\" encoding=\"UTF-8\" standalone=\"no\"?><svg xmlns=\"http://www.w3.org/2000/svg\" xmlns:xlink=\"http://www.w3.org/1999/xlink\" contentStyleType=\"text/css\" height=\"10px\" preserveAspectRatio=\"none\" style=\"width:10px;height:10px;background:#FFFFFF;\" version=\"1.1\" viewBox=\"0 0 10 10\" width=\"10px\" zoomAndPan=\"magnify\"><defs/><g><!--MD5=[3d9597b1575ffc4802b0d6ba40297a8d]\n",
       "@startuml\r\n",
       "skin sysmlbw\r\n",
       "skinparam monochrome true\r\n",
       "skinparam wrapWidth 300\r\n",
       "hide circle\r\n",
       "skinparam ranksep 8\r\n",
       "\r\n",
       "@enduml\r\n",
       "\n",
       "PlantUML version 1.2022.7(Mon Aug 22 17:01:30 UTC 2022)\n",
       "(EPL source distribution)\n",
       "Java Runtime: OpenJDK Runtime Environment\n",
       "JVM: OpenJDK 64-Bit Server VM\n",
       "Default Encoding: UTF-8\n",
       "Language: en\n",
       "Country: null\n",
       "--></g></svg>"
      ]
     },
     "execution_count": 41,
     "metadata": {},
     "output_type": "execute_result"
    }
   ],
   "source": [
    "%viz --style=\"DEFAULT\" --view=\"Action\" \"P1\""
   ]
  },
  {
   "cell_type": "code",
   "execution_count": 42,
   "id": "3012706d",
   "metadata": {
    "execution": {
     "iopub.execute_input": "2024-12-16T03:23:15.901882Z",
     "iopub.status.busy": "2024-12-16T03:23:15.901551Z",
     "iopub.status.idle": "2024-12-16T03:23:15.905807Z",
     "shell.execute_reply": "2024-12-16T03:23:15.905639Z"
    }
   },
   "outputs": [
    {
     "data": {
      "image/svg+xml": [
       "<?xml version=\"1.0\" encoding=\"UTF-8\" standalone=\"no\"?><svg xmlns=\"http://www.w3.org/2000/svg\" xmlns:xlink=\"http://www.w3.org/1999/xlink\" contentStyleType=\"text/css\" height=\"10px\" preserveAspectRatio=\"none\" style=\"width:10px;height:10px;background:#FFFFFF;\" version=\"1.1\" viewBox=\"0 0 10 10\" width=\"10px\" zoomAndPan=\"magnify\"><defs/><g><!--MD5=[075159388321915a295a256e9638f934]\n",
       "@startuml\r\n",
       "skin sysmlbw\r\n",
       "skinparam monochrome true\r\n",
       "skinparam wrapWidth 300\r\n",
       "hide circle\r\n",
       "skinparam roundcorner 20\r\n",
       "skinparam BoxPadding 20\r\n",
       "skinparam SequenceBoxBackgroundColor #white\r\n",
       "skinparam style strictuml\r\n",
       "skinparam maxMessageSize 100\r\n",
       "\r\n",
       "@enduml\r\n",
       "\n",
       "PlantUML version 1.2022.7(Mon Aug 22 17:01:30 UTC 2022)\n",
       "(EPL source distribution)\n",
       "Java Runtime: OpenJDK Runtime Environment\n",
       "JVM: OpenJDK 64-Bit Server VM\n",
       "Default Encoding: UTF-8\n",
       "Language: en\n",
       "Country: null\n",
       "--></g></svg>"
      ]
     },
     "execution_count": 42,
     "metadata": {},
     "output_type": "execute_result"
    }
   ],
   "source": [
    "%viz --style=\"DEFAULT\" --view=\"Sequence\" \"P1\""
   ]
  },
  {
   "cell_type": "code",
   "execution_count": 43,
   "id": "e59b8e0a",
   "metadata": {
    "execution": {
     "iopub.execute_input": "2024-12-16T03:23:15.963576Z",
     "iopub.status.busy": "2024-12-16T03:23:15.962814Z",
     "iopub.status.idle": "2024-12-16T03:23:15.981276Z",
     "shell.execute_reply": "2024-12-16T03:23:15.981413Z"
    }
   },
   "outputs": [
    {
     "data": {
      "image/svg+xml": [
       "<?xml version=\"1.0\" encoding=\"UTF-8\" standalone=\"no\"?><svg xmlns=\"http://www.w3.org/2000/svg\" xmlns:xlink=\"http://www.w3.org/1999/xlink\" contentStyleType=\"text/css\" height=\"112px\" preserveAspectRatio=\"none\" style=\"width:135px;height:112px;background:#FFFFFF;\" version=\"1.1\" viewBox=\"0 0 135 112\" width=\"135px\" zoomAndPan=\"magnify\"><defs/><g><!--MD5=[fbc87193dbaf4d95561dea2c320d4a47]\n",
       "cluster E1--><g id=\"cluster_E1\"><a href=\"psysml:0a90d248-380c-4e9b-b837-344deff0bbde\" target=\"_top\" title=\"psysml:0a90d248-380c-4e9b-b837-344deff0bbde\" xlink:actuate=\"onRequest\" xlink:href=\"psysml:0a90d248-380c-4e9b-b837-344deff0bbde\" xlink:show=\"new\" xlink:title=\"psysml:0a90d248-380c-4e9b-b837-344deff0bbde\" xlink:type=\"simple\"><polygon fill=\"none\" points=\"16,6,40.875,6,47.875,28.2969,118,28.2969,118,105,16,105,16,6\" style=\"stroke:#000000;stroke-width:1.5;\"/><line style=\"stroke:#000000;stroke-width:1.5;\" x1=\"16\" x2=\"47.875\" y1=\"28.2969\" y2=\"28.2969\"/><text fill=\"#000000\" font-family=\"sans-serif\" font-size=\"14\" font-weight=\"bold\" lengthAdjust=\"spacing\" textLength=\"18.875\" x=\"20\" y=\"20.9951\">P1</text></a></g><!--MD5=[b4997ac47864f28c2f74865a473b2911]\n",
       "class E2--><a href=\"psysml:e04e257c-b1d4-496b-86bb-c28797e46b80\" target=\"_top\" title=\"psysml:e04e257c-b1d4-496b-86bb-c28797e46b80\" xlink:actuate=\"onRequest\" xlink:href=\"psysml:e04e257c-b1d4-496b-86bb-c28797e46b80\" xlink:show=\"new\" xlink:title=\"psysml:e04e257c-b1d4-496b-86bb-c28797e46b80\" xlink:type=\"simple\"><g id=\"elem_E2\"><rect fill=\"#FFFFFF\" height=\"48.2656\" id=\"E2\" style=\"stroke:#181818;stroke-width:0.5;\" width=\"70\" x=\"32\" y=\"41\"/><text fill=\"#000000\" font-family=\"sans-serif\" font-size=\"12\" font-style=\"italic\" lengthAdjust=\"spacing\" textLength=\"68\" x=\"33\" y=\"57.1387\">«part  def»</text><text fill=\"#000000\" font-family=\"sans-serif\" font-size=\"14\" lengthAdjust=\"spacing\" textLength=\"9\" x=\"62.5\" y=\"72.9639\">A</text><line style=\"stroke:#181818;stroke-width:0.5;\" x1=\"33\" x2=\"101\" y1=\"81.2656\" y2=\"81.2656\"/></g></a><!--MD5=[1ffdfdf69b052344828fd9299ddf8ca7]\n",
       "@startuml\r\n",
       "skin sysmlbw\r\n",
       "skinparam monochrome true\r\n",
       "skinparam wrapWidth 300\r\n",
       "hide circle\r\n",
       "\r\n",
       "package \"P1\" as E1  [[psysml:0a90d248-380c-4e9b-b837-344deff0bbde ]]  {\r\n",
       "comp def \"A\" as E2  <<(T,blue) part  def>> [[psysml:e04e257c-b1d4-496b-86bb-c28797e46b80 ]] {\r\n",
       "}\r\n",
       "}\r\n",
       "@enduml\r\n",
       "\n",
       "PlantUML version 1.2022.7(Mon Aug 22 17:01:30 UTC 2022)\n",
       "(EPL source distribution)\n",
       "Java Runtime: OpenJDK Runtime Environment\n",
       "JVM: OpenJDK 64-Bit Server VM\n",
       "Default Encoding: UTF-8\n",
       "Language: en\n",
       "Country: null\n",
       "--></g></svg>"
      ]
     },
     "execution_count": 43,
     "metadata": {},
     "output_type": "execute_result"
    }
   ],
   "source": [
    "%viz --style=\"DEFAULT\" --view=\"MIXED\" \"P1\""
   ]
  },
  {
   "cell_type": "code",
   "execution_count": 44,
   "id": "9ed7c48e",
   "metadata": {
    "execution": {
     "iopub.execute_input": "2024-12-16T03:23:16.035459Z",
     "iopub.status.busy": "2024-12-16T03:23:16.035256Z",
     "iopub.status.idle": "2024-12-16T03:23:16.045639Z",
     "shell.execute_reply": "2024-12-16T03:23:16.045460Z"
    }
   },
   "outputs": [
    {
     "data": {
      "image/svg+xml": [
       "<?xml version=\"1.0\" encoding=\"UTF-8\" standalone=\"no\"?><svg xmlns=\"http://www.w3.org/2000/svg\" xmlns:xlink=\"http://www.w3.org/1999/xlink\" contentStyleType=\"text/css\" height=\"112px\" preserveAspectRatio=\"none\" style=\"width:135px;height:112px;background:#FFFFFF;\" version=\"1.1\" viewBox=\"0 0 135 112\" width=\"135px\" zoomAndPan=\"magnify\"><defs/><g><!--MD5=[fbc87193dbaf4d95561dea2c320d4a47]\n",
       "cluster E1--><g id=\"cluster_E1\"><a href=\"psysml:0a90d248-380c-4e9b-b837-344deff0bbde\" target=\"_top\" title=\"psysml:0a90d248-380c-4e9b-b837-344deff0bbde\" xlink:actuate=\"onRequest\" xlink:href=\"psysml:0a90d248-380c-4e9b-b837-344deff0bbde\" xlink:show=\"new\" xlink:title=\"psysml:0a90d248-380c-4e9b-b837-344deff0bbde\" xlink:type=\"simple\"><polygon fill=\"none\" points=\"16,6,40.875,6,47.875,28.2969,118,28.2969,118,105,16,105,16,6\" style=\"stroke:#000000;stroke-width:1.5;\"/><line style=\"stroke:#000000;stroke-width:1.5;\" x1=\"16\" x2=\"47.875\" y1=\"28.2969\" y2=\"28.2969\"/><text fill=\"#000000\" font-family=\"sans-serif\" font-size=\"14\" font-weight=\"bold\" lengthAdjust=\"spacing\" textLength=\"18.875\" x=\"20\" y=\"20.9951\">P1</text></a></g><!--MD5=[b4997ac47864f28c2f74865a473b2911]\n",
       "class E2--><a href=\"psysml:e04e257c-b1d4-496b-86bb-c28797e46b80\" target=\"_top\" title=\"psysml:e04e257c-b1d4-496b-86bb-c28797e46b80\" xlink:actuate=\"onRequest\" xlink:href=\"psysml:e04e257c-b1d4-496b-86bb-c28797e46b80\" xlink:show=\"new\" xlink:title=\"psysml:e04e257c-b1d4-496b-86bb-c28797e46b80\" xlink:type=\"simple\"><g id=\"elem_E2\"><rect fill=\"#FFFFFF\" height=\"48.2656\" id=\"E2\" style=\"stroke:#181818;stroke-width:0.5;\" width=\"70\" x=\"32\" y=\"41\"/><text fill=\"#000000\" font-family=\"sans-serif\" font-size=\"12\" font-style=\"italic\" lengthAdjust=\"spacing\" textLength=\"68\" x=\"33\" y=\"57.1387\">«part  def»</text><text fill=\"#000000\" font-family=\"sans-serif\" font-size=\"14\" lengthAdjust=\"spacing\" textLength=\"9\" x=\"62.5\" y=\"72.9639\">A</text><line style=\"stroke:#181818;stroke-width:0.5;\" x1=\"33\" x2=\"101\" y1=\"81.2656\" y2=\"81.2656\"/></g></a><!--MD5=[188010b06c74b5b083bb703ce041e86e]\n",
       "@startuml\r\n",
       "skin sysmlbw\r\n",
       "skinparam monochrome true\r\n",
       "skinparam wrapWidth 300\r\n",
       "hide circle\r\n",
       "top to bottom direction\r\n",
       "\r\n",
       "package \"P1\" as E1  [[psysml:0a90d248-380c-4e9b-b837-344deff0bbde ]]  {\r\n",
       "comp def \"A\" as E2  <<(T,blue) part  def>> [[psysml:e04e257c-b1d4-496b-86bb-c28797e46b80 ]] {\r\n",
       "}\r\n",
       "}\r\n",
       "@enduml\r\n",
       "\n",
       "PlantUML version 1.2022.7(Mon Aug 22 17:01:30 UTC 2022)\n",
       "(EPL source distribution)\n",
       "Java Runtime: OpenJDK Runtime Environment\n",
       "JVM: OpenJDK 64-Bit Server VM\n",
       "Default Encoding: UTF-8\n",
       "Language: en\n",
       "Country: null\n",
       "--></g></svg>"
      ]
     },
     "execution_count": 44,
     "metadata": {},
     "output_type": "execute_result"
    }
   ],
   "source": [
    "%viz --style=\"TB\" --view=\"Default\" \"P1\""
   ]
  },
  {
   "cell_type": "code",
   "execution_count": 45,
   "id": "7a5dea69",
   "metadata": {
    "execution": {
     "iopub.execute_input": "2024-12-16T03:23:16.096714Z",
     "iopub.status.busy": "2024-12-16T03:23:16.096488Z",
     "iopub.status.idle": "2024-12-16T03:23:16.108551Z",
     "shell.execute_reply": "2024-12-16T03:23:16.108358Z"
    }
   },
   "outputs": [
    {
     "data": {
      "image/svg+xml": [
       "<?xml version=\"1.0\" encoding=\"UTF-8\" standalone=\"no\"?><svg xmlns=\"http://www.w3.org/2000/svg\" xmlns:xlink=\"http://www.w3.org/1999/xlink\" contentStyleType=\"text/css\" height=\"112px\" preserveAspectRatio=\"none\" style=\"width:135px;height:112px;background:#FFFFFF;\" version=\"1.1\" viewBox=\"0 0 135 112\" width=\"135px\" zoomAndPan=\"magnify\"><defs/><g><!--MD5=[fbc87193dbaf4d95561dea2c320d4a47]\n",
       "cluster E1--><g id=\"cluster_E1\"><a href=\"psysml:0a90d248-380c-4e9b-b837-344deff0bbde\" target=\"_top\" title=\"psysml:0a90d248-380c-4e9b-b837-344deff0bbde\" xlink:actuate=\"onRequest\" xlink:href=\"psysml:0a90d248-380c-4e9b-b837-344deff0bbde\" xlink:show=\"new\" xlink:title=\"psysml:0a90d248-380c-4e9b-b837-344deff0bbde\" xlink:type=\"simple\"><polygon fill=\"none\" points=\"16,6,40.875,6,47.875,28.2969,118,28.2969,118,105,16,105,16,6\" style=\"stroke:#000000;stroke-width:1.5;\"/><line style=\"stroke:#000000;stroke-width:1.5;\" x1=\"16\" x2=\"47.875\" y1=\"28.2969\" y2=\"28.2969\"/><text fill=\"#000000\" font-family=\"sans-serif\" font-size=\"14\" font-weight=\"bold\" lengthAdjust=\"spacing\" textLength=\"18.875\" x=\"20\" y=\"20.9951\">P1</text></a></g><!--MD5=[b4997ac47864f28c2f74865a473b2911]\n",
       "class E2--><a href=\"psysml:e04e257c-b1d4-496b-86bb-c28797e46b80\" target=\"_top\" title=\"psysml:e04e257c-b1d4-496b-86bb-c28797e46b80\" xlink:actuate=\"onRequest\" xlink:href=\"psysml:e04e257c-b1d4-496b-86bb-c28797e46b80\" xlink:show=\"new\" xlink:title=\"psysml:e04e257c-b1d4-496b-86bb-c28797e46b80\" xlink:type=\"simple\"><g id=\"elem_E2\"><rect fill=\"#FFFFFF\" height=\"48.2656\" id=\"E2\" style=\"stroke:#181818;stroke-width:0.5;\" width=\"70\" x=\"32\" y=\"41\"/><text fill=\"#000000\" font-family=\"sans-serif\" font-size=\"12\" font-style=\"italic\" lengthAdjust=\"spacing\" textLength=\"68\" x=\"33\" y=\"57.1387\">«part  def»</text><text fill=\"#000000\" font-family=\"sans-serif\" font-size=\"14\" lengthAdjust=\"spacing\" textLength=\"9\" x=\"62.5\" y=\"72.9639\">A</text><line style=\"stroke:#181818;stroke-width:0.5;\" x1=\"33\" x2=\"101\" y1=\"81.2656\" y2=\"81.2656\"/></g></a><!--MD5=[188010b06c74b5b083bb703ce041e86e]\n",
       "@startuml\r\n",
       "skin sysmlbw\r\n",
       "skinparam monochrome true\r\n",
       "skinparam wrapWidth 300\r\n",
       "hide circle\r\n",
       "top to bottom direction\r\n",
       "\r\n",
       "package \"P1\" as E1  [[psysml:0a90d248-380c-4e9b-b837-344deff0bbde ]]  {\r\n",
       "comp def \"A\" as E2  <<(T,blue) part  def>> [[psysml:e04e257c-b1d4-496b-86bb-c28797e46b80 ]] {\r\n",
       "}\r\n",
       "}\r\n",
       "@enduml\r\n",
       "\n",
       "PlantUML version 1.2022.7(Mon Aug 22 17:01:30 UTC 2022)\n",
       "(EPL source distribution)\n",
       "Java Runtime: OpenJDK Runtime Environment\n",
       "JVM: OpenJDK 64-Bit Server VM\n",
       "Default Encoding: UTF-8\n",
       "Language: en\n",
       "Country: null\n",
       "--></g></svg>"
      ]
     },
     "execution_count": 45,
     "metadata": {},
     "output_type": "execute_result"
    }
   ],
   "source": [
    "%viz --style=\"TB\" --view=\"Tree\" \"P1\""
   ]
  },
  {
   "cell_type": "code",
   "execution_count": 46,
   "id": "4261d714",
   "metadata": {
    "execution": {
     "iopub.execute_input": "2024-12-16T03:23:16.161764Z",
     "iopub.status.busy": "2024-12-16T03:23:16.161551Z",
     "iopub.status.idle": "2024-12-16T03:23:16.166065Z",
     "shell.execute_reply": "2024-12-16T03:23:16.165882Z"
    }
   },
   "outputs": [
    {
     "data": {
      "image/svg+xml": [
       "<?xml version=\"1.0\" encoding=\"UTF-8\" standalone=\"no\"?><svg xmlns=\"http://www.w3.org/2000/svg\" xmlns:xlink=\"http://www.w3.org/1999/xlink\" contentStyleType=\"text/css\" height=\"10px\" preserveAspectRatio=\"none\" style=\"width:10px;height:10px;background:#FFFFFF;\" version=\"1.1\" viewBox=\"0 0 10 10\" width=\"10px\" zoomAndPan=\"magnify\"><defs/><g><!--MD5=[457d54036ad86991b1ebb71db2c9a3b1]\n",
       "@startuml\r\n",
       "skin sysmlbw\r\n",
       "skinparam monochrome true\r\n",
       "skinparam wrapWidth 300\r\n",
       "hide circle\r\n",
       "top to bottom direction\r\n",
       "\r\n",
       "@enduml\r\n",
       "\n",
       "PlantUML version 1.2022.7(Mon Aug 22 17:01:30 UTC 2022)\n",
       "(EPL source distribution)\n",
       "Java Runtime: OpenJDK Runtime Environment\n",
       "JVM: OpenJDK 64-Bit Server VM\n",
       "Default Encoding: UTF-8\n",
       "Language: en\n",
       "Country: null\n",
       "--></g></svg>"
      ]
     },
     "execution_count": 46,
     "metadata": {},
     "output_type": "execute_result"
    }
   ],
   "source": [
    "%viz --style=\"TB\" --view=\"State\" \"P1\""
   ]
  },
  {
   "cell_type": "code",
   "execution_count": 47,
   "id": "b3365da2",
   "metadata": {
    "execution": {
     "iopub.execute_input": "2024-12-16T03:23:16.219053Z",
     "iopub.status.busy": "2024-12-16T03:23:16.218791Z",
     "iopub.status.idle": "2024-12-16T03:23:16.234825Z",
     "shell.execute_reply": "2024-12-16T03:23:16.234647Z"
    }
   },
   "outputs": [
    {
     "data": {
      "image/svg+xml": [
       "<?xml version=\"1.0\" encoding=\"UTF-8\" standalone=\"no\"?><svg xmlns=\"http://www.w3.org/2000/svg\" xmlns:xlink=\"http://www.w3.org/1999/xlink\" contentStyleType=\"text/css\" height=\"109px\" preserveAspectRatio=\"none\" style=\"width:139px;height:109px;background:#FFFFFF;\" version=\"1.1\" viewBox=\"0 0 139 109\" width=\"139px\" zoomAndPan=\"magnify\"><defs/><g><!--MD5=[fbc87193dbaf4d95561dea2c320d4a47]\n",
       "cluster E1--><g id=\"cluster_E1\"><a href=\"psysml:0a90d248-380c-4e9b-b837-344deff0bbde\" target=\"_top\" title=\"psysml:0a90d248-380c-4e9b-b837-344deff0bbde\" xlink:actuate=\"onRequest\" xlink:href=\"psysml:0a90d248-380c-4e9b-b837-344deff0bbde\" xlink:show=\"new\" xlink:title=\"psysml:0a90d248-380c-4e9b-b837-344deff0bbde\" xlink:type=\"simple\"><polygon fill=\"none\" points=\"16,6,40.875,6,47.875,28.2969,122,28.2969,122,102,16,102,16,6\" style=\"stroke:#000000;stroke-width:1.5;\"/><line style=\"stroke:#000000;stroke-width:1.5;\" x1=\"16\" x2=\"47.875\" y1=\"28.2969\" y2=\"28.2969\"/><text fill=\"#000000\" font-family=\"sans-serif\" font-size=\"14\" font-weight=\"bold\" lengthAdjust=\"spacing\" textLength=\"18.875\" x=\"20\" y=\"20.9951\">P1</text></a></g><g><a href=\"psysml:e04e257c-b1d4-496b-86bb-c28797e46b80\" target=\"_top\" title=\"psysml:e04e257c-b1d4-496b-86bb-c28797e46b80\" xlink:actuate=\"onRequest\" xlink:href=\"psysml:e04e257c-b1d4-496b-86bb-c28797e46b80\" xlink:show=\"new\" xlink:title=\"psysml:e04e257c-b1d4-496b-86bb-c28797e46b80\" xlink:type=\"simple\"><rect fill=\"#FFFFFF\" height=\"45.2656\" id=\"E2\" style=\"stroke:#383838;stroke-width:1.5;\" width=\"75\" x=\"31.5\" y=\"41\"/><text fill=\"#000000\" font-family=\"sans-serif\" font-size=\"12\" font-style=\"italic\" lengthAdjust=\"spacing\" textLength=\"68\" x=\"35\" y=\"57.1387\">«part  def»</text><text fill=\"#000000\" font-family=\"sans-serif\" font-size=\"14\" lengthAdjust=\"spacing\" textLength=\"9\" x=\"64.5\" y=\"72.9639\">A</text></a></g><!--MD5=[0895e7f9262d0dd916d18a41191f6641]\n",
       "@startuml\r\n",
       "skin sysmlbw\r\n",
       "skinparam monochrome true\r\n",
       "skinparam wrapWidth 300\r\n",
       "hide circle\r\n",
       "top to bottom direction\r\n",
       "skinparam ranksep 10\r\n",
       "skinparam rectangle {\r\n",
       " backgroundColor<<block>> LightGreen\r\n",
       "}\r\n",
       "\r\n",
       "package \"P1\" as E1  [[psysml:0a90d248-380c-4e9b-b837-344deff0bbde ]]  {\r\n",
       "rec def \"A\" as E2  <<(T,blue) part  def>> [[psysml:e04e257c-b1d4-496b-86bb-c28797e46b80 ]] {\r\n",
       "}\r\n",
       "}\r\n",
       "@enduml\r\n",
       "\n",
       "PlantUML version 1.2022.7(Mon Aug 22 17:01:30 UTC 2022)\n",
       "(EPL source distribution)\n",
       "Java Runtime: OpenJDK Runtime Environment\n",
       "JVM: OpenJDK 64-Bit Server VM\n",
       "Default Encoding: UTF-8\n",
       "Language: en\n",
       "Country: null\n",
       "--></g></svg>"
      ]
     },
     "execution_count": 47,
     "metadata": {},
     "output_type": "execute_result"
    }
   ],
   "source": [
    "%viz --style=\"TB\" --view=\"Interconnection\" \"P1\""
   ]
  },
  {
   "cell_type": "code",
   "execution_count": 48,
   "id": "b62d5359",
   "metadata": {
    "execution": {
     "iopub.execute_input": "2024-12-16T03:23:16.287266Z",
     "iopub.status.busy": "2024-12-16T03:23:16.287041Z",
     "iopub.status.idle": "2024-12-16T03:23:16.291704Z",
     "shell.execute_reply": "2024-12-16T03:23:16.291519Z"
    }
   },
   "outputs": [
    {
     "data": {
      "image/svg+xml": [
       "<?xml version=\"1.0\" encoding=\"UTF-8\" standalone=\"no\"?><svg xmlns=\"http://www.w3.org/2000/svg\" xmlns:xlink=\"http://www.w3.org/1999/xlink\" contentStyleType=\"text/css\" height=\"10px\" preserveAspectRatio=\"none\" style=\"width:10px;height:10px;background:#FFFFFF;\" version=\"1.1\" viewBox=\"0 0 10 10\" width=\"10px\" zoomAndPan=\"magnify\"><defs/><g><!--MD5=[c8dde5d066d102a500cd081cce1d9948]\n",
       "@startuml\r\n",
       "skin sysmlbw\r\n",
       "skinparam monochrome true\r\n",
       "skinparam wrapWidth 300\r\n",
       "hide circle\r\n",
       "top to bottom direction\r\n",
       "skinparam ranksep 8\r\n",
       "\r\n",
       "@enduml\r\n",
       "\n",
       "PlantUML version 1.2022.7(Mon Aug 22 17:01:30 UTC 2022)\n",
       "(EPL source distribution)\n",
       "Java Runtime: OpenJDK Runtime Environment\n",
       "JVM: OpenJDK 64-Bit Server VM\n",
       "Default Encoding: UTF-8\n",
       "Language: en\n",
       "Country: null\n",
       "--></g></svg>"
      ]
     },
     "execution_count": 48,
     "metadata": {},
     "output_type": "execute_result"
    }
   ],
   "source": [
    "%viz --style=\"TB\" --view=\"Action\" \"P1\""
   ]
  },
  {
   "cell_type": "code",
   "execution_count": 49,
   "id": "4393d4a2",
   "metadata": {
    "execution": {
     "iopub.execute_input": "2024-12-16T03:23:16.347361Z",
     "iopub.status.busy": "2024-12-16T03:23:16.347094Z",
     "iopub.status.idle": "2024-12-16T03:23:16.351725Z",
     "shell.execute_reply": "2024-12-16T03:23:16.351538Z"
    }
   },
   "outputs": [
    {
     "data": {
      "image/svg+xml": [
       "<?xml version=\"1.0\" encoding=\"UTF-8\" standalone=\"no\"?><svg xmlns=\"http://www.w3.org/2000/svg\" xmlns:xlink=\"http://www.w3.org/1999/xlink\" contentStyleType=\"text/css\" height=\"10px\" preserveAspectRatio=\"none\" style=\"width:10px;height:10px;background:#FFFFFF;\" version=\"1.1\" viewBox=\"0 0 10 10\" width=\"10px\" zoomAndPan=\"magnify\"><defs/><g><!--MD5=[228a58293b408a2cee091b1559da5a28]\n",
       "@startuml\r\n",
       "skin sysmlbw\r\n",
       "skinparam monochrome true\r\n",
       "skinparam wrapWidth 300\r\n",
       "hide circle\r\n",
       "top to bottom direction\r\n",
       "skinparam roundcorner 20\r\n",
       "skinparam BoxPadding 20\r\n",
       "skinparam SequenceBoxBackgroundColor #white\r\n",
       "skinparam style strictuml\r\n",
       "skinparam maxMessageSize 100\r\n",
       "\r\n",
       "@enduml\r\n",
       "\n",
       "PlantUML version 1.2022.7(Mon Aug 22 17:01:30 UTC 2022)\n",
       "(EPL source distribution)\n",
       "Java Runtime: OpenJDK Runtime Environment\n",
       "JVM: OpenJDK 64-Bit Server VM\n",
       "Default Encoding: UTF-8\n",
       "Language: en\n",
       "Country: null\n",
       "--></g></svg>"
      ]
     },
     "execution_count": 49,
     "metadata": {},
     "output_type": "execute_result"
    }
   ],
   "source": [
    "%viz --style=\"TB\" --view=\"Sequence\" \"P1\""
   ]
  },
  {
   "cell_type": "code",
   "execution_count": 50,
   "id": "1d25ad88",
   "metadata": {
    "execution": {
     "iopub.execute_input": "2024-12-16T03:23:16.404193Z",
     "iopub.status.busy": "2024-12-16T03:23:16.403955Z",
     "iopub.status.idle": "2024-12-16T03:23:16.415598Z",
     "shell.execute_reply": "2024-12-16T03:23:16.415384Z"
    }
   },
   "outputs": [
    {
     "data": {
      "image/svg+xml": [
       "<?xml version=\"1.0\" encoding=\"UTF-8\" standalone=\"no\"?><svg xmlns=\"http://www.w3.org/2000/svg\" xmlns:xlink=\"http://www.w3.org/1999/xlink\" contentStyleType=\"text/css\" height=\"112px\" preserveAspectRatio=\"none\" style=\"width:135px;height:112px;background:#FFFFFF;\" version=\"1.1\" viewBox=\"0 0 135 112\" width=\"135px\" zoomAndPan=\"magnify\"><defs/><g><!--MD5=[fbc87193dbaf4d95561dea2c320d4a47]\n",
       "cluster E1--><g id=\"cluster_E1\"><a href=\"psysml:0a90d248-380c-4e9b-b837-344deff0bbde\" target=\"_top\" title=\"psysml:0a90d248-380c-4e9b-b837-344deff0bbde\" xlink:actuate=\"onRequest\" xlink:href=\"psysml:0a90d248-380c-4e9b-b837-344deff0bbde\" xlink:show=\"new\" xlink:title=\"psysml:0a90d248-380c-4e9b-b837-344deff0bbde\" xlink:type=\"simple\"><polygon fill=\"none\" points=\"16,6,40.875,6,47.875,28.2969,118,28.2969,118,105,16,105,16,6\" style=\"stroke:#000000;stroke-width:1.5;\"/><line style=\"stroke:#000000;stroke-width:1.5;\" x1=\"16\" x2=\"47.875\" y1=\"28.2969\" y2=\"28.2969\"/><text fill=\"#000000\" font-family=\"sans-serif\" font-size=\"14\" font-weight=\"bold\" lengthAdjust=\"spacing\" textLength=\"18.875\" x=\"20\" y=\"20.9951\">P1</text></a></g><!--MD5=[b4997ac47864f28c2f74865a473b2911]\n",
       "class E2--><a href=\"psysml:e04e257c-b1d4-496b-86bb-c28797e46b80\" target=\"_top\" title=\"psysml:e04e257c-b1d4-496b-86bb-c28797e46b80\" xlink:actuate=\"onRequest\" xlink:href=\"psysml:e04e257c-b1d4-496b-86bb-c28797e46b80\" xlink:show=\"new\" xlink:title=\"psysml:e04e257c-b1d4-496b-86bb-c28797e46b80\" xlink:type=\"simple\"><g id=\"elem_E2\"><rect fill=\"#FFFFFF\" height=\"48.2656\" id=\"E2\" style=\"stroke:#181818;stroke-width:0.5;\" width=\"70\" x=\"32\" y=\"41\"/><text fill=\"#000000\" font-family=\"sans-serif\" font-size=\"12\" font-style=\"italic\" lengthAdjust=\"spacing\" textLength=\"68\" x=\"33\" y=\"57.1387\">«part  def»</text><text fill=\"#000000\" font-family=\"sans-serif\" font-size=\"14\" lengthAdjust=\"spacing\" textLength=\"9\" x=\"62.5\" y=\"72.9639\">A</text><line style=\"stroke:#181818;stroke-width:0.5;\" x1=\"33\" x2=\"101\" y1=\"81.2656\" y2=\"81.2656\"/></g></a><!--MD5=[188010b06c74b5b083bb703ce041e86e]\n",
       "@startuml\r\n",
       "skin sysmlbw\r\n",
       "skinparam monochrome true\r\n",
       "skinparam wrapWidth 300\r\n",
       "hide circle\r\n",
       "top to bottom direction\r\n",
       "\r\n",
       "package \"P1\" as E1  [[psysml:0a90d248-380c-4e9b-b837-344deff0bbde ]]  {\r\n",
       "comp def \"A\" as E2  <<(T,blue) part  def>> [[psysml:e04e257c-b1d4-496b-86bb-c28797e46b80 ]] {\r\n",
       "}\r\n",
       "}\r\n",
       "@enduml\r\n",
       "\n",
       "PlantUML version 1.2022.7(Mon Aug 22 17:01:30 UTC 2022)\n",
       "(EPL source distribution)\n",
       "Java Runtime: OpenJDK Runtime Environment\n",
       "JVM: OpenJDK 64-Bit Server VM\n",
       "Default Encoding: UTF-8\n",
       "Language: en\n",
       "Country: null\n",
       "--></g></svg>"
      ]
     },
     "execution_count": 50,
     "metadata": {},
     "output_type": "execute_result"
    }
   ],
   "source": [
    "%viz --style=\"TB\" --view=\"MIXED\" \"P1\""
   ]
  },
  {
   "cell_type": "code",
   "execution_count": 51,
   "id": "d4735e12",
   "metadata": {
    "execution": {
     "iopub.execute_input": "2024-12-16T03:23:16.471156Z",
     "iopub.status.busy": "2024-12-16T03:23:16.470942Z",
     "iopub.status.idle": "2024-12-16T03:23:16.481315Z",
     "shell.execute_reply": "2024-12-16T03:23:16.481120Z"
    }
   },
   "outputs": [
    {
     "data": {
      "image/svg+xml": [
       "<?xml version=\"1.0\" encoding=\"UTF-8\" standalone=\"no\"?><svg xmlns=\"http://www.w3.org/2000/svg\" xmlns:xlink=\"http://www.w3.org/1999/xlink\" contentStyleType=\"text/css\" height=\"112px\" preserveAspectRatio=\"none\" style=\"width:135px;height:112px;background:#FFFFFF;\" version=\"1.1\" viewBox=\"0 0 135 112\" width=\"135px\" zoomAndPan=\"magnify\"><defs/><g><!--MD5=[fbc87193dbaf4d95561dea2c320d4a47]\n",
       "cluster E1--><g id=\"cluster_E1\"><a href=\"psysml:0a90d248-380c-4e9b-b837-344deff0bbde\" target=\"_top\" title=\"psysml:0a90d248-380c-4e9b-b837-344deff0bbde\" xlink:actuate=\"onRequest\" xlink:href=\"psysml:0a90d248-380c-4e9b-b837-344deff0bbde\" xlink:show=\"new\" xlink:title=\"psysml:0a90d248-380c-4e9b-b837-344deff0bbde\" xlink:type=\"simple\"><polygon fill=\"none\" points=\"16,6,40.875,6,47.875,28.2969,118,28.2969,118,105,16,105,16,6\" style=\"stroke:#000000;stroke-width:1.5;\"/><line style=\"stroke:#000000;stroke-width:1.5;\" x1=\"16\" x2=\"47.875\" y1=\"28.2969\" y2=\"28.2969\"/><text fill=\"#000000\" font-family=\"sans-serif\" font-size=\"14\" font-weight=\"bold\" lengthAdjust=\"spacing\" textLength=\"18.875\" x=\"20\" y=\"20.9951\">P1</text></a></g><!--MD5=[b4997ac47864f28c2f74865a473b2911]\n",
       "class E2--><a href=\"psysml:e04e257c-b1d4-496b-86bb-c28797e46b80\" target=\"_top\" title=\"psysml:e04e257c-b1d4-496b-86bb-c28797e46b80\" xlink:actuate=\"onRequest\" xlink:href=\"psysml:e04e257c-b1d4-496b-86bb-c28797e46b80\" xlink:show=\"new\" xlink:title=\"psysml:e04e257c-b1d4-496b-86bb-c28797e46b80\" xlink:type=\"simple\"><g id=\"elem_E2\"><rect fill=\"#FFFFFF\" height=\"48.2656\" id=\"E2\" style=\"stroke:#181818;stroke-width:0.5;\" width=\"70\" x=\"32\" y=\"41\"/><text fill=\"#000000\" font-family=\"sans-serif\" font-size=\"12\" font-style=\"italic\" lengthAdjust=\"spacing\" textLength=\"68\" x=\"33\" y=\"57.1387\">«part  def»</text><text fill=\"#000000\" font-family=\"sans-serif\" font-size=\"14\" lengthAdjust=\"spacing\" textLength=\"9\" x=\"62.5\" y=\"72.9639\">A</text><line style=\"stroke:#181818;stroke-width:0.5;\" x1=\"33\" x2=\"101\" y1=\"81.2656\" y2=\"81.2656\"/></g></a><!--MD5=[00346b0dd843de5c6accaa2308d96cc5]\n",
       "@startuml\r\n",
       "skin sysmlbw\r\n",
       "skinparam monochrome true\r\n",
       "skinparam wrapWidth 300\r\n",
       "hide circle\r\n",
       "skinparam linetype ortho\r\n",
       "\r\n",
       "package \"P1\" as E1  [[psysml:0a90d248-380c-4e9b-b837-344deff0bbde ]]  {\r\n",
       "comp def \"A\" as E2  <<(T,blue) part  def>> [[psysml:e04e257c-b1d4-496b-86bb-c28797e46b80 ]] {\r\n",
       "}\r\n",
       "}\r\n",
       "@enduml\r\n",
       "\n",
       "PlantUML version 1.2022.7(Mon Aug 22 17:01:30 UTC 2022)\n",
       "(EPL source distribution)\n",
       "Java Runtime: OpenJDK Runtime Environment\n",
       "JVM: OpenJDK 64-Bit Server VM\n",
       "Default Encoding: UTF-8\n",
       "Language: en\n",
       "Country: null\n",
       "--></g></svg>"
      ]
     },
     "execution_count": 51,
     "metadata": {},
     "output_type": "execute_result"
    }
   ],
   "source": [
    "%viz --style=\"ORTHOLINE\" --view=\"Default\" \"P1\""
   ]
  },
  {
   "cell_type": "code",
   "execution_count": 52,
   "id": "5ee7ebe8",
   "metadata": {
    "execution": {
     "iopub.execute_input": "2024-12-16T03:23:16.533763Z",
     "iopub.status.busy": "2024-12-16T03:23:16.533539Z",
     "iopub.status.idle": "2024-12-16T03:23:16.543773Z",
     "shell.execute_reply": "2024-12-16T03:23:16.543598Z"
    }
   },
   "outputs": [
    {
     "data": {
      "image/svg+xml": [
       "<?xml version=\"1.0\" encoding=\"UTF-8\" standalone=\"no\"?><svg xmlns=\"http://www.w3.org/2000/svg\" xmlns:xlink=\"http://www.w3.org/1999/xlink\" contentStyleType=\"text/css\" height=\"112px\" preserveAspectRatio=\"none\" style=\"width:135px;height:112px;background:#FFFFFF;\" version=\"1.1\" viewBox=\"0 0 135 112\" width=\"135px\" zoomAndPan=\"magnify\"><defs/><g><!--MD5=[fbc87193dbaf4d95561dea2c320d4a47]\n",
       "cluster E1--><g id=\"cluster_E1\"><a href=\"psysml:0a90d248-380c-4e9b-b837-344deff0bbde\" target=\"_top\" title=\"psysml:0a90d248-380c-4e9b-b837-344deff0bbde\" xlink:actuate=\"onRequest\" xlink:href=\"psysml:0a90d248-380c-4e9b-b837-344deff0bbde\" xlink:show=\"new\" xlink:title=\"psysml:0a90d248-380c-4e9b-b837-344deff0bbde\" xlink:type=\"simple\"><polygon fill=\"none\" points=\"16,6,40.875,6,47.875,28.2969,118,28.2969,118,105,16,105,16,6\" style=\"stroke:#000000;stroke-width:1.5;\"/><line style=\"stroke:#000000;stroke-width:1.5;\" x1=\"16\" x2=\"47.875\" y1=\"28.2969\" y2=\"28.2969\"/><text fill=\"#000000\" font-family=\"sans-serif\" font-size=\"14\" font-weight=\"bold\" lengthAdjust=\"spacing\" textLength=\"18.875\" x=\"20\" y=\"20.9951\">P1</text></a></g><!--MD5=[b4997ac47864f28c2f74865a473b2911]\n",
       "class E2--><a href=\"psysml:e04e257c-b1d4-496b-86bb-c28797e46b80\" target=\"_top\" title=\"psysml:e04e257c-b1d4-496b-86bb-c28797e46b80\" xlink:actuate=\"onRequest\" xlink:href=\"psysml:e04e257c-b1d4-496b-86bb-c28797e46b80\" xlink:show=\"new\" xlink:title=\"psysml:e04e257c-b1d4-496b-86bb-c28797e46b80\" xlink:type=\"simple\"><g id=\"elem_E2\"><rect fill=\"#FFFFFF\" height=\"48.2656\" id=\"E2\" style=\"stroke:#181818;stroke-width:0.5;\" width=\"70\" x=\"32\" y=\"41\"/><text fill=\"#000000\" font-family=\"sans-serif\" font-size=\"12\" font-style=\"italic\" lengthAdjust=\"spacing\" textLength=\"68\" x=\"33\" y=\"57.1387\">«part  def»</text><text fill=\"#000000\" font-family=\"sans-serif\" font-size=\"14\" lengthAdjust=\"spacing\" textLength=\"9\" x=\"62.5\" y=\"72.9639\">A</text><line style=\"stroke:#181818;stroke-width:0.5;\" x1=\"33\" x2=\"101\" y1=\"81.2656\" y2=\"81.2656\"/></g></a><!--MD5=[00346b0dd843de5c6accaa2308d96cc5]\n",
       "@startuml\r\n",
       "skin sysmlbw\r\n",
       "skinparam monochrome true\r\n",
       "skinparam wrapWidth 300\r\n",
       "hide circle\r\n",
       "skinparam linetype ortho\r\n",
       "\r\n",
       "package \"P1\" as E1  [[psysml:0a90d248-380c-4e9b-b837-344deff0bbde ]]  {\r\n",
       "comp def \"A\" as E2  <<(T,blue) part  def>> [[psysml:e04e257c-b1d4-496b-86bb-c28797e46b80 ]] {\r\n",
       "}\r\n",
       "}\r\n",
       "@enduml\r\n",
       "\n",
       "PlantUML version 1.2022.7(Mon Aug 22 17:01:30 UTC 2022)\n",
       "(EPL source distribution)\n",
       "Java Runtime: OpenJDK Runtime Environment\n",
       "JVM: OpenJDK 64-Bit Server VM\n",
       "Default Encoding: UTF-8\n",
       "Language: en\n",
       "Country: null\n",
       "--></g></svg>"
      ]
     },
     "execution_count": 52,
     "metadata": {},
     "output_type": "execute_result"
    }
   ],
   "source": [
    "%viz --style=\"ORTHOLINE\" --view=\"Tree\" \"P1\""
   ]
  },
  {
   "cell_type": "code",
   "execution_count": 53,
   "id": "18e49b89",
   "metadata": {
    "execution": {
     "iopub.execute_input": "2024-12-16T03:23:16.595354Z",
     "iopub.status.busy": "2024-12-16T03:23:16.595092Z",
     "iopub.status.idle": "2024-12-16T03:23:16.599334Z",
     "shell.execute_reply": "2024-12-16T03:23:16.599129Z"
    }
   },
   "outputs": [
    {
     "data": {
      "image/svg+xml": [
       "<?xml version=\"1.0\" encoding=\"UTF-8\" standalone=\"no\"?><svg xmlns=\"http://www.w3.org/2000/svg\" xmlns:xlink=\"http://www.w3.org/1999/xlink\" contentStyleType=\"text/css\" height=\"10px\" preserveAspectRatio=\"none\" style=\"width:10px;height:10px;background:#FFFFFF;\" version=\"1.1\" viewBox=\"0 0 10 10\" width=\"10px\" zoomAndPan=\"magnify\"><defs/><g><!--MD5=[db5337d1ba6fd3a35e07e04988169323]\n",
       "@startuml\r\n",
       "skin sysmlbw\r\n",
       "skinparam monochrome true\r\n",
       "skinparam wrapWidth 300\r\n",
       "hide circle\r\n",
       "skinparam linetype ortho\r\n",
       "\r\n",
       "@enduml\r\n",
       "\n",
       "PlantUML version 1.2022.7(Mon Aug 22 17:01:30 UTC 2022)\n",
       "(EPL source distribution)\n",
       "Java Runtime: OpenJDK Runtime Environment\n",
       "JVM: OpenJDK 64-Bit Server VM\n",
       "Default Encoding: UTF-8\n",
       "Language: en\n",
       "Country: null\n",
       "--></g></svg>"
      ]
     },
     "execution_count": 53,
     "metadata": {},
     "output_type": "execute_result"
    }
   ],
   "source": [
    "%viz --style=\"ORTHOLINE\" --view=\"State\" \"P1\""
   ]
  },
  {
   "cell_type": "code",
   "execution_count": 54,
   "id": "ef8623b0",
   "metadata": {
    "execution": {
     "iopub.execute_input": "2024-12-16T03:23:16.655091Z",
     "iopub.status.busy": "2024-12-16T03:23:16.654891Z",
     "iopub.status.idle": "2024-12-16T03:23:16.665893Z",
     "shell.execute_reply": "2024-12-16T03:23:16.665717Z"
    }
   },
   "outputs": [
    {
     "data": {
      "image/svg+xml": [
       "<?xml version=\"1.0\" encoding=\"UTF-8\" standalone=\"no\"?><svg xmlns=\"http://www.w3.org/2000/svg\" xmlns:xlink=\"http://www.w3.org/1999/xlink\" contentStyleType=\"text/css\" height=\"109px\" preserveAspectRatio=\"none\" style=\"width:139px;height:109px;background:#FFFFFF;\" version=\"1.1\" viewBox=\"0 0 139 109\" width=\"139px\" zoomAndPan=\"magnify\"><defs/><g><!--MD5=[fbc87193dbaf4d95561dea2c320d4a47]\n",
       "cluster E1--><g id=\"cluster_E1\"><a href=\"psysml:0a90d248-380c-4e9b-b837-344deff0bbde\" target=\"_top\" title=\"psysml:0a90d248-380c-4e9b-b837-344deff0bbde\" xlink:actuate=\"onRequest\" xlink:href=\"psysml:0a90d248-380c-4e9b-b837-344deff0bbde\" xlink:show=\"new\" xlink:title=\"psysml:0a90d248-380c-4e9b-b837-344deff0bbde\" xlink:type=\"simple\"><polygon fill=\"none\" points=\"16,6,40.875,6,47.875,28.2969,122,28.2969,122,102,16,102,16,6\" style=\"stroke:#000000;stroke-width:1.5;\"/><line style=\"stroke:#000000;stroke-width:1.5;\" x1=\"16\" x2=\"47.875\" y1=\"28.2969\" y2=\"28.2969\"/><text fill=\"#000000\" font-family=\"sans-serif\" font-size=\"14\" font-weight=\"bold\" lengthAdjust=\"spacing\" textLength=\"18.875\" x=\"20\" y=\"20.9951\">P1</text></a></g><g><a href=\"psysml:e04e257c-b1d4-496b-86bb-c28797e46b80\" target=\"_top\" title=\"psysml:e04e257c-b1d4-496b-86bb-c28797e46b80\" xlink:actuate=\"onRequest\" xlink:href=\"psysml:e04e257c-b1d4-496b-86bb-c28797e46b80\" xlink:show=\"new\" xlink:title=\"psysml:e04e257c-b1d4-496b-86bb-c28797e46b80\" xlink:type=\"simple\"><rect fill=\"#FFFFFF\" height=\"45.2656\" id=\"E2\" style=\"stroke:#383838;stroke-width:1.5;\" width=\"75\" x=\"31.5\" y=\"41\"/><text fill=\"#000000\" font-family=\"sans-serif\" font-size=\"12\" font-style=\"italic\" lengthAdjust=\"spacing\" textLength=\"68\" x=\"35\" y=\"57.1387\">«part  def»</text><text fill=\"#000000\" font-family=\"sans-serif\" font-size=\"14\" lengthAdjust=\"spacing\" textLength=\"9\" x=\"64.5\" y=\"72.9639\">A</text></a></g><!--MD5=[fe20e06a9af878c736a8952818042ff9]\n",
       "@startuml\r\n",
       "skin sysmlbw\r\n",
       "skinparam monochrome true\r\n",
       "skinparam wrapWidth 300\r\n",
       "hide circle\r\n",
       "skinparam linetype ortho\r\n",
       "skinparam ranksep 10\r\n",
       "skinparam rectangle {\r\n",
       " backgroundColor<<block>> LightGreen\r\n",
       "}\r\n",
       "\r\n",
       "package \"P1\" as E1  [[psysml:0a90d248-380c-4e9b-b837-344deff0bbde ]]  {\r\n",
       "rec def \"A\" as E2  <<(T,blue) part  def>> [[psysml:e04e257c-b1d4-496b-86bb-c28797e46b80 ]] {\r\n",
       "}\r\n",
       "}\r\n",
       "@enduml\r\n",
       "\n",
       "PlantUML version 1.2022.7(Mon Aug 22 17:01:30 UTC 2022)\n",
       "(EPL source distribution)\n",
       "Java Runtime: OpenJDK Runtime Environment\n",
       "JVM: OpenJDK 64-Bit Server VM\n",
       "Default Encoding: UTF-8\n",
       "Language: en\n",
       "Country: null\n",
       "--></g></svg>"
      ]
     },
     "execution_count": 54,
     "metadata": {},
     "output_type": "execute_result"
    }
   ],
   "source": [
    "%viz --style=\"ORTHOLINE\" --view=\"Interconnection\" \"P1\""
   ]
  },
  {
   "cell_type": "code",
   "execution_count": 55,
   "id": "0f0b4367",
   "metadata": {
    "execution": {
     "iopub.execute_input": "2024-12-16T03:23:16.721488Z",
     "iopub.status.busy": "2024-12-16T03:23:16.721270Z",
     "iopub.status.idle": "2024-12-16T03:23:16.724934Z",
     "shell.execute_reply": "2024-12-16T03:23:16.724748Z"
    }
   },
   "outputs": [
    {
     "data": {
      "image/svg+xml": [
       "<?xml version=\"1.0\" encoding=\"UTF-8\" standalone=\"no\"?><svg xmlns=\"http://www.w3.org/2000/svg\" xmlns:xlink=\"http://www.w3.org/1999/xlink\" contentStyleType=\"text/css\" height=\"10px\" preserveAspectRatio=\"none\" style=\"width:10px;height:10px;background:#FFFFFF;\" version=\"1.1\" viewBox=\"0 0 10 10\" width=\"10px\" zoomAndPan=\"magnify\"><defs/><g><!--MD5=[13654d10b9e2b79db36f00fd31e63fb2]\n",
       "@startuml\r\n",
       "skin sysmlbw\r\n",
       "skinparam monochrome true\r\n",
       "skinparam wrapWidth 300\r\n",
       "hide circle\r\n",
       "skinparam linetype ortho\r\n",
       "skinparam ranksep 8\r\n",
       "\r\n",
       "@enduml\r\n",
       "\n",
       "PlantUML version 1.2022.7(Mon Aug 22 17:01:30 UTC 2022)\n",
       "(EPL source distribution)\n",
       "Java Runtime: OpenJDK Runtime Environment\n",
       "JVM: OpenJDK 64-Bit Server VM\n",
       "Default Encoding: UTF-8\n",
       "Language: en\n",
       "Country: null\n",
       "--></g></svg>"
      ]
     },
     "execution_count": 55,
     "metadata": {},
     "output_type": "execute_result"
    }
   ],
   "source": [
    "%viz --style=\"ORTHOLINE\" --view=\"Action\" \"P1\""
   ]
  },
  {
   "cell_type": "code",
   "execution_count": 56,
   "id": "c53c514b",
   "metadata": {
    "execution": {
     "iopub.execute_input": "2024-12-16T03:23:16.776465Z",
     "iopub.status.busy": "2024-12-16T03:23:16.776247Z",
     "iopub.status.idle": "2024-12-16T03:23:16.780283Z",
     "shell.execute_reply": "2024-12-16T03:23:16.780087Z"
    }
   },
   "outputs": [
    {
     "data": {
      "image/svg+xml": [
       "<?xml version=\"1.0\" encoding=\"UTF-8\" standalone=\"no\"?><svg xmlns=\"http://www.w3.org/2000/svg\" xmlns:xlink=\"http://www.w3.org/1999/xlink\" contentStyleType=\"text/css\" height=\"10px\" preserveAspectRatio=\"none\" style=\"width:10px;height:10px;background:#FFFFFF;\" version=\"1.1\" viewBox=\"0 0 10 10\" width=\"10px\" zoomAndPan=\"magnify\"><defs/><g><!--MD5=[5b6eb85285460e34b0e63326afe72cc5]\n",
       "@startuml\r\n",
       "skin sysmlbw\r\n",
       "skinparam monochrome true\r\n",
       "skinparam wrapWidth 300\r\n",
       "hide circle\r\n",
       "skinparam linetype ortho\r\n",
       "skinparam roundcorner 20\r\n",
       "skinparam BoxPadding 20\r\n",
       "skinparam SequenceBoxBackgroundColor #white\r\n",
       "skinparam style strictuml\r\n",
       "skinparam maxMessageSize 100\r\n",
       "\r\n",
       "@enduml\r\n",
       "\n",
       "PlantUML version 1.2022.7(Mon Aug 22 17:01:30 UTC 2022)\n",
       "(EPL source distribution)\n",
       "Java Runtime: OpenJDK Runtime Environment\n",
       "JVM: OpenJDK 64-Bit Server VM\n",
       "Default Encoding: UTF-8\n",
       "Language: en\n",
       "Country: null\n",
       "--></g></svg>"
      ]
     },
     "execution_count": 56,
     "metadata": {},
     "output_type": "execute_result"
    }
   ],
   "source": [
    "%viz --style=\"ORTHOLINE\" --view=\"Sequence\" \"P1\""
   ]
  },
  {
   "cell_type": "code",
   "execution_count": 57,
   "id": "e17cf785",
   "metadata": {
    "execution": {
     "iopub.execute_input": "2024-12-16T03:23:16.839976Z",
     "iopub.status.busy": "2024-12-16T03:23:16.839160Z",
     "iopub.status.idle": "2024-12-16T03:23:16.855731Z",
     "shell.execute_reply": "2024-12-16T03:23:16.855546Z"
    }
   },
   "outputs": [
    {
     "data": {
      "image/svg+xml": [
       "<?xml version=\"1.0\" encoding=\"UTF-8\" standalone=\"no\"?><svg xmlns=\"http://www.w3.org/2000/svg\" xmlns:xlink=\"http://www.w3.org/1999/xlink\" contentStyleType=\"text/css\" height=\"112px\" preserveAspectRatio=\"none\" style=\"width:135px;height:112px;background:#FFFFFF;\" version=\"1.1\" viewBox=\"0 0 135 112\" width=\"135px\" zoomAndPan=\"magnify\"><defs/><g><!--MD5=[fbc87193dbaf4d95561dea2c320d4a47]\n",
       "cluster E1--><g id=\"cluster_E1\"><a href=\"psysml:0a90d248-380c-4e9b-b837-344deff0bbde\" target=\"_top\" title=\"psysml:0a90d248-380c-4e9b-b837-344deff0bbde\" xlink:actuate=\"onRequest\" xlink:href=\"psysml:0a90d248-380c-4e9b-b837-344deff0bbde\" xlink:show=\"new\" xlink:title=\"psysml:0a90d248-380c-4e9b-b837-344deff0bbde\" xlink:type=\"simple\"><polygon fill=\"none\" points=\"16,6,40.875,6,47.875,28.2969,118,28.2969,118,105,16,105,16,6\" style=\"stroke:#000000;stroke-width:1.5;\"/><line style=\"stroke:#000000;stroke-width:1.5;\" x1=\"16\" x2=\"47.875\" y1=\"28.2969\" y2=\"28.2969\"/><text fill=\"#000000\" font-family=\"sans-serif\" font-size=\"14\" font-weight=\"bold\" lengthAdjust=\"spacing\" textLength=\"18.875\" x=\"20\" y=\"20.9951\">P1</text></a></g><!--MD5=[b4997ac47864f28c2f74865a473b2911]\n",
       "class E2--><a href=\"psysml:e04e257c-b1d4-496b-86bb-c28797e46b80\" target=\"_top\" title=\"psysml:e04e257c-b1d4-496b-86bb-c28797e46b80\" xlink:actuate=\"onRequest\" xlink:href=\"psysml:e04e257c-b1d4-496b-86bb-c28797e46b80\" xlink:show=\"new\" xlink:title=\"psysml:e04e257c-b1d4-496b-86bb-c28797e46b80\" xlink:type=\"simple\"><g id=\"elem_E2\"><rect fill=\"#FFFFFF\" height=\"48.2656\" id=\"E2\" style=\"stroke:#181818;stroke-width:0.5;\" width=\"70\" x=\"32\" y=\"41\"/><text fill=\"#000000\" font-family=\"sans-serif\" font-size=\"12\" font-style=\"italic\" lengthAdjust=\"spacing\" textLength=\"68\" x=\"33\" y=\"57.1387\">«part  def»</text><text fill=\"#000000\" font-family=\"sans-serif\" font-size=\"14\" lengthAdjust=\"spacing\" textLength=\"9\" x=\"62.5\" y=\"72.9639\">A</text><line style=\"stroke:#181818;stroke-width:0.5;\" x1=\"33\" x2=\"101\" y1=\"81.2656\" y2=\"81.2656\"/></g></a><!--MD5=[00346b0dd843de5c6accaa2308d96cc5]\n",
       "@startuml\r\n",
       "skin sysmlbw\r\n",
       "skinparam monochrome true\r\n",
       "skinparam wrapWidth 300\r\n",
       "hide circle\r\n",
       "skinparam linetype ortho\r\n",
       "\r\n",
       "package \"P1\" as E1  [[psysml:0a90d248-380c-4e9b-b837-344deff0bbde ]]  {\r\n",
       "comp def \"A\" as E2  <<(T,blue) part  def>> [[psysml:e04e257c-b1d4-496b-86bb-c28797e46b80 ]] {\r\n",
       "}\r\n",
       "}\r\n",
       "@enduml\r\n",
       "\n",
       "PlantUML version 1.2022.7(Mon Aug 22 17:01:30 UTC 2022)\n",
       "(EPL source distribution)\n",
       "Java Runtime: OpenJDK Runtime Environment\n",
       "JVM: OpenJDK 64-Bit Server VM\n",
       "Default Encoding: UTF-8\n",
       "Language: en\n",
       "Country: null\n",
       "--></g></svg>"
      ]
     },
     "execution_count": 57,
     "metadata": {},
     "output_type": "execute_result"
    }
   ],
   "source": [
    "%viz --style=\"ORTHOLINE\" --view=\"MIXED\" \"P1\""
   ]
  }
 ],
 "metadata": {
  "kernelspec": {
   "display_name": "SysML",
   "language": "sysml",
   "name": "sysml"
  },
  "language_info": {
   "codemirror_mode": "sysml",
   "file_extension": ".sysml",
   "mimetype": "text/x-sysml",
   "name": "SysML",
   "pygments_lexer": "java",
   "version": "1.0.0"
  }
 },
 "nbformat": 4,
 "nbformat_minor": 5
}
