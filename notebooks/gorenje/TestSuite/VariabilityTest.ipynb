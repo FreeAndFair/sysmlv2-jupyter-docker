{
 "cells": [
  {
   "cell_type": "markdown",
   "id": "executive-providence",
   "metadata": {},
   "source": [
    "# SysML v2 Test Suite\n",
    "\n",
    "This can notebook can be cleared using menu `Edit --> Clear All Outputs` and then all cells can be\n",
    "run using menu `Run --> Run All Cells`.\n",
    "\n",
    "**WARNING**: This file is generated, all modifications here will be ignored.\n"
   ]
  },
  {
   "cell_type": "markdown",
   "id": "elect-michael",
   "metadata": {},
   "source": [
    "## File: ../../sysml/src/examples/Simple Tests/VariabilityTest.sysml"
   ]
  },
  {
   "cell_type": "code",
   "execution_count": 1,
   "id": "annual-output",
   "metadata": {
    "execution": {
     "iopub.execute_input": "2021-03-25T15:07:33.299113Z",
     "iopub.status.busy": "2021-03-25T15:07:33.297747Z",
     "iopub.status.idle": "2021-03-25T15:07:33.493179Z",
     "shell.execute_reply": "2021-03-25T15:07:33.492159Z"
    }
   },
   "outputs": [
    {
     "data": {
      "text/plain": [
       "Package VariabilityTest (a0d2d2b6-2e6b-4612-ae69-30368c4914c5)\n"
      ]
     },
     "execution_count": 1,
     "metadata": {},
     "output_type": "execute_result"
    }
   ],
   "source": [
    "package VariabilityTest {\n",
    "\tpart def P {\n",
    "\t\tattribute a;\n",
    "\t}\n",
    "\tpart def Q :> P;\n",
    "\tattribute def B;\n",
    "\tvariation part def V :> P {\n",
    "\t\tvariant part x : Q {\n",
    "\t\t\tattribute b : B :>> a;\n",
    "\t\t}\n",
    "\t}\n",
    "\tpart q : Q;\n",
    "\tvariation part v : P {\n",
    "\t\tvariant part y :> q {\n",
    "\t\t\tattribute b : B :>> a;\n",
    "\t\t}\n",
    "\t}\n",
    "}"
   ]
  },
  {
   "cell_type": "code",
   "execution_count": 2,
   "id": "prospective-highlight",
   "metadata": {
    "execution": {
     "iopub.execute_input": "2021-03-25T15:07:33.545819Z",
     "iopub.status.busy": "2021-03-25T15:07:33.544336Z",
     "iopub.status.idle": "2021-03-25T15:07:34.898939Z",
     "shell.execute_reply": "2021-03-25T15:07:34.898495Z"
    }
   },
   "outputs": [
    {
     "data": {
      "image/svg+xml": [
       "<?xml version=\"1.0\" encoding=\"UTF-8\" standalone=\"no\"?><svg xmlns=\"http://www.w3.org/2000/svg\" xmlns:xlink=\"http://www.w3.org/1999/xlink\" contentScriptType=\"application/ecmascript\" contentStyleType=\"text/css\" height=\"385px\" preserveAspectRatio=\"none\" style=\"width:420px;height:385px;\" version=\"1.1\" viewBox=\"0 0 420 385\" width=\"420px\" zoomAndPan=\"magnify\"><defs><filter height=\"300%\" id=\"fg02vjukitpqn\" width=\"300%\" x=\"-1\" y=\"-1\"><feGaussianBlur result=\"blurOut\" stdDeviation=\"2.0\"/><feColorMatrix in=\"blurOut\" result=\"blurOut2\" type=\"matrix\" values=\"0 0 0 0 0 0 0 0 0 0 0 0 0 0 0 0 0 0 .4 0\"/><feOffset dx=\"4.0\" dy=\"4.0\" in=\"blurOut2\" result=\"blurOut3\"/><feBlend in=\"SourceGraphic\" in2=\"blurOut3\" mode=\"normal\"/></filter></defs><g><!--MD5=[fbc87193dbaf4d95561dea2c320d4a47]\n",
       "cluster E1--><a href=\"psysml:fc405a6c-3061-4540-9673-8b8e766ba6ac\" target=\"_top\" title=\"psysml:fc405a6c-3061-4540-9673-8b8e766ba6ac\" xlink:actuate=\"onRequest\" xlink:href=\"psysml:fc405a6c-3061-4540-9673-8b8e766ba6ac\" xlink:show=\"new\" xlink:title=\"psysml:fc405a6c-3061-4540-9673-8b8e766ba6ac\" xlink:type=\"simple\"><polygon fill=\"#FFFFFF\" filter=\"url(#fg02vjukitpqn)\" points=\"16,6,134,6,141,28.2969,398,28.2969,398,373,16,373,16,6\" style=\"stroke: #000000; stroke-width: 1.5;\"/><line style=\"stroke: #000000; stroke-width: 1.5;\" x1=\"16\" x2=\"141\" y1=\"28.2969\" y2=\"28.2969\"/><text fill=\"#000000\" font-family=\"sans-serif\" font-size=\"14\" font-weight=\"bold\" lengthAdjust=\"spacingAndGlyphs\" textLength=\"112\" x=\"20\" y=\"20.9951\">VariabilityTest</text></a><!--MD5=[b4997ac47864f28c2f74865a473b2911]\n",
       "class E2--><a href=\"psysml:dc902210-e855-46b4-a2dd-8255fef19514\" target=\"_top\" title=\"psysml:dc902210-e855-46b4-a2dd-8255fef19514\" xlink:actuate=\"onRequest\" xlink:href=\"psysml:dc902210-e855-46b4-a2dd-8255fef19514\" xlink:show=\"new\" xlink:title=\"psysml:dc902210-e855-46b4-a2dd-8255fef19514\" xlink:type=\"simple\"><rect fill=\"#FEFECE\" filter=\"url(#fg02vjukitpqn)\" height=\"58.7422\" id=\"E2\" style=\"stroke: #A80036; stroke-width: 1.5;\" width=\"92\" x=\"161\" y=\"291.5\"/><ellipse cx=\"176\" cy=\"310.4688\" fill=\"#0000FF\" rx=\"11\" ry=\"11\" style=\"stroke: #A80036; stroke-width: 1.0;\"/><path d=\"M176.8438,317.2188 L174.3906,317.2188 L174.3906,306.9688 L171.25,306.9688 L171.25,304.8281 L179.9844,304.8281 L179.9844,306.9688 L176.8438,306.9688 L176.8438,317.2188 Z \"/><text fill=\"#000000\" font-family=\"sans-serif\" font-size=\"12\" font-style=\"italic\" lengthAdjust=\"spacingAndGlyphs\" textLength=\"64\" x=\"188\" y=\"307.6387\">«part def»</text><text fill=\"#000000\" font-family=\"sans-serif\" font-size=\"12\" lengthAdjust=\"spacingAndGlyphs\" textLength=\"8\" x=\"216\" y=\"321.6074\">P</text><line style=\"stroke: #A80036; stroke-width: 1.5;\" x1=\"162\" x2=\"252\" y1=\"329.4375\" y2=\"329.4375\"/><text fill=\"#000000\" font-family=\"sans-serif\" font-size=\"11\" lengthAdjust=\"spacingAndGlyphs\" textLength=\"7\" x=\"167\" y=\"343.6479\">a</text></a><!--MD5=[09b614a08d8cba4a07c9adeb5e0fee81]\n",
       "class E3--><a href=\"psysml:b52c8837-30af-42aa-bc51-100eaed5de80\" target=\"_top\" title=\"psysml:b52c8837-30af-42aa-bc51-100eaed5de80\" xlink:actuate=\"onRequest\" xlink:href=\"psysml:b52c8837-30af-42aa-bc51-100eaed5de80\" xlink:show=\"new\" xlink:title=\"psysml:b52c8837-30af-42aa-bc51-100eaed5de80\" xlink:type=\"simple\"><rect fill=\"#FEFECE\" filter=\"url(#fg02vjukitpqn)\" height=\"45.9375\" id=\"E3\" style=\"stroke: #A80036; stroke-width: 1.5;\" width=\"92\" x=\"163\" y=\"155\"/><ellipse cx=\"178\" cy=\"173.9688\" fill=\"#0000FF\" rx=\"11\" ry=\"11\" style=\"stroke: #A80036; stroke-width: 1.0;\"/><path d=\"M178.8438,180.7188 L176.3906,180.7188 L176.3906,170.4688 L173.25,170.4688 L173.25,168.3281 L181.9844,168.3281 L181.9844,170.4688 L178.8438,170.4688 L178.8438,180.7188 Z \"/><text fill=\"#000000\" font-family=\"sans-serif\" font-size=\"12\" font-style=\"italic\" lengthAdjust=\"spacingAndGlyphs\" textLength=\"64\" x=\"190\" y=\"171.1387\">«part def»</text><text fill=\"#000000\" font-family=\"sans-serif\" font-size=\"12\" lengthAdjust=\"spacingAndGlyphs\" textLength=\"9\" x=\"217.5\" y=\"185.1074\">Q</text><line style=\"stroke: #A80036; stroke-width: 1.5;\" x1=\"164\" x2=\"254\" y1=\"192.9375\" y2=\"192.9375\"/></a><!--MD5=[ebbe1d658d1005bcc118a6aa81145e00]\n",
       "class E4--><a href=\"psysml:f17815b8-46c4-4dd9-bf70-524ba6c03f24\" target=\"_top\" title=\"psysml:f17815b8-46c4-4dd9-bf70-524ba6c03f24\" xlink:actuate=\"onRequest\" xlink:href=\"psysml:f17815b8-46c4-4dd9-bf70-524ba6c03f24\" xlink:show=\"new\" xlink:title=\"psysml:f17815b8-46c4-4dd9-bf70-524ba6c03f24\" xlink:type=\"simple\"><rect fill=\"#FEFECE\" filter=\"url(#fg02vjukitpqn)\" height=\"45.9375\" id=\"E4\" style=\"stroke: #A80036; stroke-width: 1.5;\" width=\"121\" x=\"260.5\" y=\"41\"/><ellipse cx=\"275.5\" cy=\"59.9688\" fill=\"#0000FF\" rx=\"11\" ry=\"11\" style=\"stroke: #A80036; stroke-width: 1.0;\"/><path d=\"M276.3438,66.7188 L273.8906,66.7188 L273.8906,56.4688 L270.75,56.4688 L270.75,54.3281 L279.4844,54.3281 L279.4844,56.4688 L276.3438,56.4688 L276.3438,66.7188 Z \"/><text fill=\"#000000\" font-family=\"sans-serif\" font-size=\"12\" font-style=\"italic\" lengthAdjust=\"spacingAndGlyphs\" textLength=\"93\" x=\"287.5\" y=\"57.1387\">«attribute def»</text><text fill=\"#000000\" font-family=\"sans-serif\" font-size=\"12\" lengthAdjust=\"spacingAndGlyphs\" textLength=\"8\" x=\"330\" y=\"71.1074\">B</text><line style=\"stroke: #A80036; stroke-width: 1.5;\" x1=\"261.5\" x2=\"380.5\" y1=\"78.9375\" y2=\"78.9375\"/></a><!--MD5=[270fce915f116d4de14055a7c1d9a0f3]\n",
       "class E5--><a href=\"psysml:b1ebe526-c40e-4c8f-ae74-16f7fcd1bdc9\" target=\"_top\" title=\"psysml:b1ebe526-c40e-4c8f-ae74-16f7fcd1bdc9\" xlink:actuate=\"onRequest\" xlink:href=\"psysml:b1ebe526-c40e-4c8f-ae74-16f7fcd1bdc9\" xlink:show=\"new\" xlink:title=\"psysml:b1ebe526-c40e-4c8f-ae74-16f7fcd1bdc9\" xlink:type=\"simple\"><rect fill=\"#FEFECE\" filter=\"url(#fg02vjukitpqn)\" height=\"45.9375\" id=\"E5\" style=\"stroke: #A80036; stroke-width: 1.5;\" width=\"92\" x=\"290\" y=\"155\"/><ellipse cx=\"305\" cy=\"173.9688\" fill=\"#0000FF\" rx=\"11\" ry=\"11\" style=\"stroke: #A80036; stroke-width: 1.0;\"/><path d=\"M305.8438,180.7188 L303.3906,180.7188 L303.3906,170.4688 L300.25,170.4688 L300.25,168.3281 L308.9844,168.3281 L308.9844,170.4688 L305.8438,170.4688 L305.8438,180.7188 Z \"/><text fill=\"#000000\" font-family=\"sans-serif\" font-size=\"12\" font-style=\"italic\" lengthAdjust=\"spacingAndGlyphs\" textLength=\"64\" x=\"317\" y=\"171.1387\">«part def»</text><text fill=\"#000000\" font-family=\"sans-serif\" font-size=\"12\" lengthAdjust=\"spacingAndGlyphs\" textLength=\"8\" x=\"345\" y=\"185.1074\">V</text><line style=\"stroke: #A80036; stroke-width: 1.5;\" x1=\"291\" x2=\"381\" y1=\"192.9375\" y2=\"192.9375\"/></a><!--MD5=[60a26617385b1d2d0262a64233df1f8d]\n",
       "class E6--><a href=\"psysml:05419eac-6c2b-46e9-bd3b-b31f448a077a\" target=\"_top\" title=\"psysml:05419eac-6c2b-46e9-bd3b-b31f448a077a\" xlink:actuate=\"onRequest\" xlink:href=\"psysml:05419eac-6c2b-46e9-bd3b-b31f448a077a\" xlink:show=\"new\" xlink:title=\"psysml:05419eac-6c2b-46e9-bd3b-b31f448a077a\" xlink:type=\"simple\"><rect fill=\"#FEFECE\" filter=\"url(#fg02vjukitpqn)\" height=\"71.5469\" id=\"E6\" rx=\"10\" ry=\"10\" style=\"stroke: #A80036; stroke-width: 1.5;\" width=\"68\" x=\"288\" y=\"285\"/><ellipse cx=\"303\" cy=\"303.9688\" fill=\"#0000FF\" rx=\"11\" ry=\"11\" style=\"stroke: #A80036; stroke-width: 1.0;\"/><path d=\"M303.8438,310.7188 L301.3906,310.7188 L301.3906,300.4688 L298.25,300.4688 L298.25,298.3281 L306.9844,298.3281 L306.9844,300.4688 L303.8438,300.4688 L303.8438,310.7188 Z \"/><text fill=\"#000000\" font-family=\"sans-serif\" font-size=\"12\" font-style=\"italic\" lengthAdjust=\"spacingAndGlyphs\" textLength=\"40\" x=\"315\" y=\"301.1387\">«part»</text><text fill=\"#000000\" font-family=\"sans-serif\" font-size=\"12\" lengthAdjust=\"spacingAndGlyphs\" textLength=\"23\" x=\"323.5\" y=\"315.1074\">x: Q</text><line style=\"stroke: #A80036; stroke-width: 1.5;\" x1=\"289\" x2=\"355\" y1=\"322.9375\" y2=\"322.9375\"/><text fill=\"#000000\" font-family=\"sans-serif\" font-size=\"11\" lengthAdjust=\"spacingAndGlyphs\" textLength=\"23\" x=\"294\" y=\"337.1479\">b: B</text><text fill=\"#000000\" font-family=\"sans-serif\" font-size=\"11\" font-style=\"italic\" lengthAdjust=\"spacingAndGlyphs\" textLength=\"44\" x=\"294\" y=\"349.9526\">:&gt;&gt;P::a</text></a><!--MD5=[2156ba9850f5573cc1fc38a6a4b2f02b]\n",
       "class E7--><a href=\"psysml:bd66bfa4-4cf8-4e62-98d6-c8549fcb8467\" target=\"_top\" title=\"psysml:bd66bfa4-4cf8-4e62-98d6-c8549fcb8467\" xlink:actuate=\"onRequest\" xlink:href=\"psysml:bd66bfa4-4cf8-4e62-98d6-c8549fcb8467\" xlink:show=\"new\" xlink:title=\"psysml:bd66bfa4-4cf8-4e62-98d6-c8549fcb8467\" xlink:type=\"simple\"><rect fill=\"#FEFECE\" filter=\"url(#fg02vjukitpqn)\" height=\"45.9375\" id=\"E7\" rx=\"10\" ry=\"10\" style=\"stroke: #A80036; stroke-width: 1.5;\" width=\"68\" x=\"157\" y=\"41\"/><ellipse cx=\"172\" cy=\"59.9688\" fill=\"#0000FF\" rx=\"11\" ry=\"11\" style=\"stroke: #A80036; stroke-width: 1.0;\"/><path d=\"M172.8438,66.7188 L170.3906,66.7188 L170.3906,56.4688 L167.25,56.4688 L167.25,54.3281 L175.9844,54.3281 L175.9844,56.4688 L172.8438,56.4688 L172.8438,66.7188 Z \"/><text fill=\"#000000\" font-family=\"sans-serif\" font-size=\"12\" font-style=\"italic\" lengthAdjust=\"spacingAndGlyphs\" textLength=\"40\" x=\"184\" y=\"57.1387\">«part»</text><text fill=\"#000000\" font-family=\"sans-serif\" font-size=\"12\" lengthAdjust=\"spacingAndGlyphs\" textLength=\"25\" x=\"191.5\" y=\"71.1074\">q: Q</text><line style=\"stroke: #A80036; stroke-width: 1.5;\" x1=\"158\" x2=\"224\" y1=\"78.9375\" y2=\"78.9375\"/></a><!--MD5=[b9389687b975829384b498ac4b7476b2]\n",
       "class E8--><a href=\"psysml:d11ba367-2498-4d3b-bf9a-6df5f0bc7068\" target=\"_top\" title=\"psysml:d11ba367-2498-4d3b-bf9a-6df5f0bc7068\" xlink:actuate=\"onRequest\" xlink:href=\"psysml:d11ba367-2498-4d3b-bf9a-6df5f0bc7068\" xlink:show=\"new\" xlink:title=\"psysml:d11ba367-2498-4d3b-bf9a-6df5f0bc7068\" xlink:type=\"simple\"><rect fill=\"#FEFECE\" filter=\"url(#fg02vjukitpqn)\" height=\"59.9063\" id=\"E8\" rx=\"10\" ry=\"10\" style=\"stroke: #A80036; stroke-width: 1.5;\" width=\"96\" x=\"32\" y=\"148\"/><ellipse cx=\"47\" cy=\"173.9531\" fill=\"#0000FF\" rx=\"11\" ry=\"11\" style=\"stroke: #A80036; stroke-width: 1.0;\"/><path d=\"M47.8438,180.7031 L45.3906,180.7031 L45.3906,170.4531 L42.25,170.4531 L42.25,168.3125 L50.9844,168.3125 L50.9844,170.4531 L47.8438,170.4531 L47.8438,180.7031 Z \"/><text fill=\"#000000\" font-family=\"sans-serif\" font-size=\"12\" font-style=\"italic\" lengthAdjust=\"spacingAndGlyphs\" textLength=\"68\" x=\"59\" y=\"164.1387\">«variation»</text><text fill=\"#000000\" font-family=\"sans-serif\" font-size=\"12\" font-style=\"italic\" lengthAdjust=\"spacingAndGlyphs\" textLength=\"40\" x=\"73\" y=\"178.1074\">«part»</text><text fill=\"#000000\" font-family=\"sans-serif\" font-size=\"12\" lengthAdjust=\"spacingAndGlyphs\" textLength=\"22\" x=\"82\" y=\"192.0762\">v: P</text><line style=\"stroke: #A80036; stroke-width: 1.5;\" x1=\"33\" x2=\"127\" y1=\"199.9063\" y2=\"199.9063\"/></a><!--MD5=[fd4143e9d270a159db93a4ea2a975926]\n",
       "class E9--><a href=\"psysml:72597939-8390-466d-9479-39928477d122\" target=\"_top\" title=\"psysml:72597939-8390-466d-9479-39928477d122\" xlink:actuate=\"onRequest\" xlink:href=\"psysml:72597939-8390-466d-9479-39928477d122\" xlink:show=\"new\" xlink:title=\"psysml:72597939-8390-466d-9479-39928477d122\" xlink:type=\"simple\"><rect fill=\"#FEFECE\" filter=\"url(#fg02vjukitpqn)\" height=\"71.5469\" id=\"E9\" rx=\"10\" ry=\"10\" style=\"stroke: #A80036; stroke-width: 1.5;\" width=\"68\" x=\"46\" y=\"285\"/><ellipse cx=\"61\" cy=\"303.9688\" fill=\"#0000FF\" rx=\"11\" ry=\"11\" style=\"stroke: #A80036; stroke-width: 1.0;\"/><path d=\"M61.8438,310.7188 L59.3906,310.7188 L59.3906,300.4688 L56.25,300.4688 L56.25,298.3281 L64.9844,298.3281 L64.9844,300.4688 L61.8438,300.4688 L61.8438,310.7188 Z \"/><text fill=\"#000000\" font-family=\"sans-serif\" font-size=\"12\" font-style=\"italic\" lengthAdjust=\"spacingAndGlyphs\" textLength=\"40\" x=\"73\" y=\"301.1387\">«part»</text><text fill=\"#000000\" font-family=\"sans-serif\" font-size=\"12\" lengthAdjust=\"spacingAndGlyphs\" textLength=\"6\" x=\"90\" y=\"315.1074\">y</text><line style=\"stroke: #A80036; stroke-width: 1.5;\" x1=\"47\" x2=\"113\" y1=\"322.9375\" y2=\"322.9375\"/><text fill=\"#000000\" font-family=\"sans-serif\" font-size=\"11\" lengthAdjust=\"spacingAndGlyphs\" textLength=\"23\" x=\"52\" y=\"337.1479\">b: B</text><text fill=\"#000000\" font-family=\"sans-serif\" font-size=\"11\" font-style=\"italic\" lengthAdjust=\"spacingAndGlyphs\" textLength=\"44\" x=\"52\" y=\"349.9526\">:&gt;&gt;P::a</text></a><!--MD5=[05d275557350bfb9b23a4ef7222b4c39]\n",
       "link E3 to E2--><a href=\"psysml:0057605f-0b36-40b5-a833-d8040f0d9e74\" target=\"_top\" title=\"psysml:0057605f-0b36-40b5-a833-d8040f0d9e74\" xlink:actuate=\"onRequest\" xlink:href=\"psysml:0057605f-0b36-40b5-a833-d8040f0d9e74\" xlink:show=\"new\" xlink:title=\"psysml:0057605f-0b36-40b5-a833-d8040f0d9e74\" xlink:type=\"simple\"><path d=\"M208.69,201.03 C208.42,219.75 208.03,247.29 207.69,271.17 \" fill=\"none\" id=\"E3-&gt;E2\" style=\"stroke: #A80036; stroke-width: 1.0;\"/><polygon fill=\"none\" points=\"214.69,271.4,207.41,291.3,200.69,271.2,214.69,271.4\" style=\"stroke: #A80036; stroke-width: 1.0;\"/></a><!--MD5=[15ebcb19ae302d9b601edb458606d402]\n",
       "link E5 to E2--><a href=\"psysml:922ee1f9-edf0-4204-bf0f-0435eb6f66de\" target=\"_top\" title=\"psysml:922ee1f9-edf0-4204-bf0f-0435eb6f66de\" xlink:actuate=\"onRequest\" xlink:href=\"psysml:922ee1f9-edf0-4204-bf0f-0435eb6f66de\" xlink:show=\"new\" xlink:title=\"psysml:922ee1f9-edf0-4204-bf0f-0435eb6f66de\" xlink:type=\"simple\"><path d=\"M315.84,201.03 C297.5,221.08 269.89,251.25 247.07,276.2 \" fill=\"none\" id=\"E5-&gt;E2\" style=\"stroke: #A80036; stroke-width: 1.0;\"/><polygon fill=\"none\" points=\"251.93,281.27,233.26,291.3,241.6,271.82,251.93,281.27\" style=\"stroke: #A80036; stroke-width: 1.0;\"/></a><!--MD5=[9120cf2e5df3bff93db8f754bbbc09b4]\n",
       "link E5 to E6--><a href=\"psysml:1c0ef759-8c31-4a4a-b0e7-e872c2806a04\" target=\"_top\" title=\"psysml:1c0ef759-8c31-4a4a-b0e7-e872c2806a04\" xlink:actuate=\"onRequest\" xlink:href=\"psysml:1c0ef759-8c31-4a4a-b0e7-e872c2806a04\" xlink:show=\"new\" xlink:title=\"psysml:1c0ef759-8c31-4a4a-b0e7-e872c2806a04\" xlink:type=\"simple\"><path d=\"M332.8,211.2 C330.93,230.03 328.54,254.09 326.49,274.8 \" fill=\"none\" id=\"E5-E6\" style=\"stroke: #A80036; stroke-width: 1.0;\"/><polygon fill=\"#A80036\" points=\"325.48,284.96,329.2535,277.2945,323.2827,276.7034,325.48,284.96\" style=\"stroke: #A80036; stroke-width: 1.0;\"/><path d=\"M325.0907,203.2601 A9,9 0 0 0 341.9229 204.9264\" fill=\"none\" style=\"stroke: #A80036; stroke-width: 1.5;\"/><text fill=\"#000000\" font-family=\"sans-serif\" font-size=\"13\" lengthAdjust=\"spacingAndGlyphs\" textLength=\"60\" x=\"330\" y=\"251.0669\">«variant»</text></a><!--MD5=[14ccda38c055a5c0da953d572bc50960]\n",
       "link E7 to E3--><a href=\"psysml:6aa04dcc-8d2e-4853-a2ca-5b94913b0044\" target=\"_top\" title=\"psysml:6aa04dcc-8d2e-4853-a2ca-5b94913b0044\" xlink:actuate=\"onRequest\" xlink:href=\"psysml:6aa04dcc-8d2e-4853-a2ca-5b94913b0044\" xlink:show=\"new\" xlink:title=\"psysml:6aa04dcc-8d2e-4853-a2ca-5b94913b0044\" xlink:type=\"simple\"><path d=\"M194.56,87.13 C196.75,100.78 199.64,118.74 202.25,135 \" fill=\"none\" id=\"E7-&gt;E3\" style=\"stroke: #A80036; stroke-width: 1.0;\"/><polygon fill=\"#FFFFFF\" points=\"205.45,154.92,195.5251,137.2707,209.3479,135.0503,205.45,154.92\" style=\"stroke: #A80036; stroke-width: 1.0;\"/><ellipse cx=\"196.5958\" cy=\"131.3257\" fill=\"#A80036\" rx=\"2\" ry=\"2\" style=\"stroke: #A80036; stroke-width: 1.0;\"/><ellipse cx=\"206.4692\" cy=\"129.7396\" fill=\"#A80036\" rx=\"2\" ry=\"2\" style=\"stroke: #A80036; stroke-width: 1.0;\"/></a><!--MD5=[f1f3f9f2fc535e6147756cb86a7f2e32]\n",
       "link E8 to E2--><a href=\"psysml:62998d3a-e41b-4231-af2c-a0f2b465e4e7\" target=\"_top\" title=\"psysml:62998d3a-e41b-4231-af2c-a0f2b465e4e7\" xlink:actuate=\"onRequest\" xlink:href=\"psysml:62998d3a-e41b-4231-af2c-a0f2b465e4e7\" xlink:show=\"new\" xlink:title=\"psysml:62998d3a-e41b-4231-af2c-a0f2b465e4e7\" xlink:type=\"simple\"><path d=\"M118.34,208.22 C129.11,217.23 140.47,227.54 150,238 C160.16,249.15 170,262.19 178.56,274.55 \" fill=\"none\" id=\"E8-&gt;E2\" style=\"stroke: #A80036; stroke-width: 1.0;\"/><polygon fill=\"#FFFFFF\" points=\"189.71,291.3,173.3582,279.3577,185.0146,271.6035,189.71,291.3\" style=\"stroke: #A80036; stroke-width: 1.0;\"/><ellipse cx=\"171.8663\" cy=\"273.5042\" fill=\"#A80036\" rx=\"2\" ry=\"2\" style=\"stroke: #A80036; stroke-width: 1.0;\"/><ellipse cx=\"180.1923\" cy=\"267.9654\" fill=\"#A80036\" rx=\"2\" ry=\"2\" style=\"stroke: #A80036; stroke-width: 1.0;\"/></a><!--MD5=[ed10624c06dd9a4fa49ccf290e8b16a8]\n",
       "link E8 to E9--><a href=\"psysml:196bced0-9581-41ba-9556-fc72f0b07990\" target=\"_top\" title=\"psysml:196bced0-9581-41ba-9556-fc72f0b07990\" xlink:actuate=\"onRequest\" xlink:href=\"psysml:196bced0-9581-41ba-9556-fc72f0b07990\" xlink:show=\"new\" xlink:title=\"psysml:196bced0-9581-41ba-9556-fc72f0b07990\" xlink:type=\"simple\"><path d=\"M80,218.35 C80,235.87 80,256.61 80,274.77 \" fill=\"none\" id=\"E8-E9\" style=\"stroke: #A80036; stroke-width: 1.0;\"/><polygon fill=\"#A80036\" points=\"80,284.83,83,276.83,77,276.83,80,284.83\" style=\"stroke: #A80036; stroke-width: 1.0;\"/><path d=\"M71.5428,211.2982 A9,9 0 0 0 88.4572 211.2982\" fill=\"none\" style=\"stroke: #A80036; stroke-width: 1.5;\"/><text fill=\"#000000\" font-family=\"sans-serif\" font-size=\"13\" lengthAdjust=\"spacingAndGlyphs\" textLength=\"60\" x=\"81\" y=\"251.0669\">«variant»</text></a><!--MD5=[293c00ddc430504143c6869641d8c045]\n",
       "@startuml\r\n",
       " \r\n",
       "package \"VariabilityTest\" as E1  [[psysml:fc405a6c-3061-4540-9673-8b8e766ba6ac ]]  {\r\n",
       "comp def \"P\" as E2  <<(T,blue)part def>> [[psysml:dc902210-e855-46b4-a2dd-8255fef19514 ]] {\r\n",
       "a\r\n",
       "}\r\n",
       "comp def \"Q\" as E3  <<(T,blue)part def>> [[psysml:b52c8837-30af-42aa-bc51-100eaed5de80 ]] {\r\n",
       "}\r\n",
       "comp def \"B\" as E4  <<(T,blue)attribute def>> [[psysml:f17815b8-46c4-4dd9-bf70-524ba6c03f24 ]] {\r\n",
       "}\r\n",
       "comp def \"V\" as E5  <<(T,blue)part def>> [[psysml:b1ebe526-c40e-4c8f-ae74-16f7fcd1bdc9 ]] {\r\n",
       "}\r\n",
       "comp usage \"x: Q\" as E6  <<(T,blue)part>> [[psysml:05419eac-6c2b-46e9-bd3b-b31f448a077a ]] {\r\n",
       "b: B\\n//:>>P::a// \r\n",
       "}\r\n",
       "comp usage \"q: Q\" as E7  <<(T,blue)part>> [[psysml:bd66bfa4-4cf8-4e62-98d6-c8549fcb8467 ]] {\r\n",
       "}\r\n",
       "comp usage \"v: P\" as E8  <<variation>>\\n <<(T,blue)part>> [[psysml:d11ba367-2498-4d3b-bf9a-6df5f0bc7068 ]] {\r\n",
       "}\r\n",
       "comp usage \"y\" as E9  <<(T,blue)part>> [[psysml:72597939-8390-466d-9479-39928477d122 ]] {\r\n",
       "b: B\\n//:>>P::a// \r\n",
       "}\r\n",
       "E3 - -|> E2 [[psysml:0057605f-0b36-40b5-a833-d8040f0d9e74 ]] \r\n",
       "E5 - -|> E2 [[psysml:922ee1f9-edf0-4204-bf0f-0435eb6f66de ]] \r\n",
       "E5 )- ->> E6 [[psysml:1c0ef759-8c31-4a4a-b0e7-e872c2806a04 ]] : <<variant>>\r\n",
       "E7 - -:|> E3 [[psysml:6aa04dcc-8d2e-4853-a2ca-5b94913b0044 ]] \r\n",
       "E8 - -:|> E2 [[psysml:62998d3a-e41b-4231-af2c-a0f2b465e4e7 ]] \r\n",
       "E8 )- ->> E9 [[psysml:196bced0-9581-41ba-9556-fc72f0b07990 ]] : <<variant>>\r\n",
       "}\r\n",
       "@enduml\r\n",
       "\n",
       "PlantUML version 1.2020.13(Sat Jun 13 12:26:38 UTC 2020)\n",
       "(EPL source distribution)\n",
       "Java Runtime: OpenJDK Runtime Environment\n",
       "JVM: OpenJDK 64-Bit Server VM\n",
       "Default Encoding: UTF-8\n",
       "Language: en\n",
       "Country: null\n",
       "--></g></svg>"
      ]
     },
     "execution_count": 2,
     "metadata": {},
     "output_type": "execute_result"
    }
   ],
   "source": [
    "%viz --style=\"COMPTREE\" --view=\"Default\" \"VariabilityTest\""
   ]
  },
  {
   "cell_type": "code",
   "execution_count": 3,
   "id": "retained-landing",
   "metadata": {
    "execution": {
     "iopub.execute_input": "2021-03-25T15:07:34.951547Z",
     "iopub.status.busy": "2021-03-25T15:07:34.951006Z",
     "iopub.status.idle": "2021-03-25T15:07:35.305010Z",
     "shell.execute_reply": "2021-03-25T15:07:35.304240Z"
    }
   },
   "outputs": [
    {
     "data": {
      "image/svg+xml": [
       "<?xml version=\"1.0\" encoding=\"UTF-8\" standalone=\"no\"?><svg xmlns=\"http://www.w3.org/2000/svg\" xmlns:xlink=\"http://www.w3.org/1999/xlink\" contentScriptType=\"application/ecmascript\" contentStyleType=\"text/css\" height=\"385px\" preserveAspectRatio=\"none\" style=\"width:420px;height:385px;\" version=\"1.1\" viewBox=\"0 0 420 385\" width=\"420px\" zoomAndPan=\"magnify\"><defs><filter height=\"300%\" id=\"fg02vjukitpqn\" width=\"300%\" x=\"-1\" y=\"-1\"><feGaussianBlur result=\"blurOut\" stdDeviation=\"2.0\"/><feColorMatrix in=\"blurOut\" result=\"blurOut2\" type=\"matrix\" values=\"0 0 0 0 0 0 0 0 0 0 0 0 0 0 0 0 0 0 .4 0\"/><feOffset dx=\"4.0\" dy=\"4.0\" in=\"blurOut2\" result=\"blurOut3\"/><feBlend in=\"SourceGraphic\" in2=\"blurOut3\" mode=\"normal\"/></filter></defs><g><!--MD5=[fbc87193dbaf4d95561dea2c320d4a47]\n",
       "cluster E1--><a href=\"psysml:fc405a6c-3061-4540-9673-8b8e766ba6ac\" target=\"_top\" title=\"psysml:fc405a6c-3061-4540-9673-8b8e766ba6ac\" xlink:actuate=\"onRequest\" xlink:href=\"psysml:fc405a6c-3061-4540-9673-8b8e766ba6ac\" xlink:show=\"new\" xlink:title=\"psysml:fc405a6c-3061-4540-9673-8b8e766ba6ac\" xlink:type=\"simple\"><polygon fill=\"#FFFFFF\" filter=\"url(#fg02vjukitpqn)\" points=\"16,6,134,6,141,28.2969,398,28.2969,398,373,16,373,16,6\" style=\"stroke: #000000; stroke-width: 1.5;\"/><line style=\"stroke: #000000; stroke-width: 1.5;\" x1=\"16\" x2=\"141\" y1=\"28.2969\" y2=\"28.2969\"/><text fill=\"#000000\" font-family=\"sans-serif\" font-size=\"14\" font-weight=\"bold\" lengthAdjust=\"spacingAndGlyphs\" textLength=\"112\" x=\"20\" y=\"20.9951\">VariabilityTest</text></a><!--MD5=[b4997ac47864f28c2f74865a473b2911]\n",
       "class E2--><a href=\"psysml:dc902210-e855-46b4-a2dd-8255fef19514\" target=\"_top\" title=\"psysml:dc902210-e855-46b4-a2dd-8255fef19514\" xlink:actuate=\"onRequest\" xlink:href=\"psysml:dc902210-e855-46b4-a2dd-8255fef19514\" xlink:show=\"new\" xlink:title=\"psysml:dc902210-e855-46b4-a2dd-8255fef19514\" xlink:type=\"simple\"><rect fill=\"#FEFECE\" filter=\"url(#fg02vjukitpqn)\" height=\"58.7422\" id=\"E2\" style=\"stroke: #A80036; stroke-width: 1.5;\" width=\"92\" x=\"161\" y=\"291.5\"/><ellipse cx=\"176\" cy=\"310.4688\" fill=\"#0000FF\" rx=\"11\" ry=\"11\" style=\"stroke: #A80036; stroke-width: 1.0;\"/><path d=\"M176.8438,317.2188 L174.3906,317.2188 L174.3906,306.9688 L171.25,306.9688 L171.25,304.8281 L179.9844,304.8281 L179.9844,306.9688 L176.8438,306.9688 L176.8438,317.2188 Z \"/><text fill=\"#000000\" font-family=\"sans-serif\" font-size=\"12\" font-style=\"italic\" lengthAdjust=\"spacingAndGlyphs\" textLength=\"64\" x=\"188\" y=\"307.6387\">«part def»</text><text fill=\"#000000\" font-family=\"sans-serif\" font-size=\"12\" lengthAdjust=\"spacingAndGlyphs\" textLength=\"8\" x=\"216\" y=\"321.6074\">P</text><line style=\"stroke: #A80036; stroke-width: 1.5;\" x1=\"162\" x2=\"252\" y1=\"329.4375\" y2=\"329.4375\"/><text fill=\"#000000\" font-family=\"sans-serif\" font-size=\"11\" lengthAdjust=\"spacingAndGlyphs\" textLength=\"7\" x=\"167\" y=\"343.6479\">a</text></a><!--MD5=[09b614a08d8cba4a07c9adeb5e0fee81]\n",
       "class E3--><a href=\"psysml:b52c8837-30af-42aa-bc51-100eaed5de80\" target=\"_top\" title=\"psysml:b52c8837-30af-42aa-bc51-100eaed5de80\" xlink:actuate=\"onRequest\" xlink:href=\"psysml:b52c8837-30af-42aa-bc51-100eaed5de80\" xlink:show=\"new\" xlink:title=\"psysml:b52c8837-30af-42aa-bc51-100eaed5de80\" xlink:type=\"simple\"><rect fill=\"#FEFECE\" filter=\"url(#fg02vjukitpqn)\" height=\"45.9375\" id=\"E3\" style=\"stroke: #A80036; stroke-width: 1.5;\" width=\"92\" x=\"163\" y=\"155\"/><ellipse cx=\"178\" cy=\"173.9688\" fill=\"#0000FF\" rx=\"11\" ry=\"11\" style=\"stroke: #A80036; stroke-width: 1.0;\"/><path d=\"M178.8438,180.7188 L176.3906,180.7188 L176.3906,170.4688 L173.25,170.4688 L173.25,168.3281 L181.9844,168.3281 L181.9844,170.4688 L178.8438,170.4688 L178.8438,180.7188 Z \"/><text fill=\"#000000\" font-family=\"sans-serif\" font-size=\"12\" font-style=\"italic\" lengthAdjust=\"spacingAndGlyphs\" textLength=\"64\" x=\"190\" y=\"171.1387\">«part def»</text><text fill=\"#000000\" font-family=\"sans-serif\" font-size=\"12\" lengthAdjust=\"spacingAndGlyphs\" textLength=\"9\" x=\"217.5\" y=\"185.1074\">Q</text><line style=\"stroke: #A80036; stroke-width: 1.5;\" x1=\"164\" x2=\"254\" y1=\"192.9375\" y2=\"192.9375\"/></a><!--MD5=[ebbe1d658d1005bcc118a6aa81145e00]\n",
       "class E4--><a href=\"psysml:f17815b8-46c4-4dd9-bf70-524ba6c03f24\" target=\"_top\" title=\"psysml:f17815b8-46c4-4dd9-bf70-524ba6c03f24\" xlink:actuate=\"onRequest\" xlink:href=\"psysml:f17815b8-46c4-4dd9-bf70-524ba6c03f24\" xlink:show=\"new\" xlink:title=\"psysml:f17815b8-46c4-4dd9-bf70-524ba6c03f24\" xlink:type=\"simple\"><rect fill=\"#FEFECE\" filter=\"url(#fg02vjukitpqn)\" height=\"45.9375\" id=\"E4\" style=\"stroke: #A80036; stroke-width: 1.5;\" width=\"121\" x=\"260.5\" y=\"41\"/><ellipse cx=\"275.5\" cy=\"59.9688\" fill=\"#0000FF\" rx=\"11\" ry=\"11\" style=\"stroke: #A80036; stroke-width: 1.0;\"/><path d=\"M276.3438,66.7188 L273.8906,66.7188 L273.8906,56.4688 L270.75,56.4688 L270.75,54.3281 L279.4844,54.3281 L279.4844,56.4688 L276.3438,56.4688 L276.3438,66.7188 Z \"/><text fill=\"#000000\" font-family=\"sans-serif\" font-size=\"12\" font-style=\"italic\" lengthAdjust=\"spacingAndGlyphs\" textLength=\"93\" x=\"287.5\" y=\"57.1387\">«attribute def»</text><text fill=\"#000000\" font-family=\"sans-serif\" font-size=\"12\" lengthAdjust=\"spacingAndGlyphs\" textLength=\"8\" x=\"330\" y=\"71.1074\">B</text><line style=\"stroke: #A80036; stroke-width: 1.5;\" x1=\"261.5\" x2=\"380.5\" y1=\"78.9375\" y2=\"78.9375\"/></a><!--MD5=[270fce915f116d4de14055a7c1d9a0f3]\n",
       "class E5--><a href=\"psysml:b1ebe526-c40e-4c8f-ae74-16f7fcd1bdc9\" target=\"_top\" title=\"psysml:b1ebe526-c40e-4c8f-ae74-16f7fcd1bdc9\" xlink:actuate=\"onRequest\" xlink:href=\"psysml:b1ebe526-c40e-4c8f-ae74-16f7fcd1bdc9\" xlink:show=\"new\" xlink:title=\"psysml:b1ebe526-c40e-4c8f-ae74-16f7fcd1bdc9\" xlink:type=\"simple\"><rect fill=\"#FEFECE\" filter=\"url(#fg02vjukitpqn)\" height=\"45.9375\" id=\"E5\" style=\"stroke: #A80036; stroke-width: 1.5;\" width=\"92\" x=\"290\" y=\"155\"/><ellipse cx=\"305\" cy=\"173.9688\" fill=\"#0000FF\" rx=\"11\" ry=\"11\" style=\"stroke: #A80036; stroke-width: 1.0;\"/><path d=\"M305.8438,180.7188 L303.3906,180.7188 L303.3906,170.4688 L300.25,170.4688 L300.25,168.3281 L308.9844,168.3281 L308.9844,170.4688 L305.8438,170.4688 L305.8438,180.7188 Z \"/><text fill=\"#000000\" font-family=\"sans-serif\" font-size=\"12\" font-style=\"italic\" lengthAdjust=\"spacingAndGlyphs\" textLength=\"64\" x=\"317\" y=\"171.1387\">«part def»</text><text fill=\"#000000\" font-family=\"sans-serif\" font-size=\"12\" lengthAdjust=\"spacingAndGlyphs\" textLength=\"8\" x=\"345\" y=\"185.1074\">V</text><line style=\"stroke: #A80036; stroke-width: 1.5;\" x1=\"291\" x2=\"381\" y1=\"192.9375\" y2=\"192.9375\"/></a><!--MD5=[60a26617385b1d2d0262a64233df1f8d]\n",
       "class E6--><a href=\"psysml:05419eac-6c2b-46e9-bd3b-b31f448a077a\" target=\"_top\" title=\"psysml:05419eac-6c2b-46e9-bd3b-b31f448a077a\" xlink:actuate=\"onRequest\" xlink:href=\"psysml:05419eac-6c2b-46e9-bd3b-b31f448a077a\" xlink:show=\"new\" xlink:title=\"psysml:05419eac-6c2b-46e9-bd3b-b31f448a077a\" xlink:type=\"simple\"><rect fill=\"#FEFECE\" filter=\"url(#fg02vjukitpqn)\" height=\"71.5469\" id=\"E6\" rx=\"10\" ry=\"10\" style=\"stroke: #A80036; stroke-width: 1.5;\" width=\"68\" x=\"288\" y=\"285\"/><ellipse cx=\"303\" cy=\"303.9688\" fill=\"#0000FF\" rx=\"11\" ry=\"11\" style=\"stroke: #A80036; stroke-width: 1.0;\"/><path d=\"M303.8438,310.7188 L301.3906,310.7188 L301.3906,300.4688 L298.25,300.4688 L298.25,298.3281 L306.9844,298.3281 L306.9844,300.4688 L303.8438,300.4688 L303.8438,310.7188 Z \"/><text fill=\"#000000\" font-family=\"sans-serif\" font-size=\"12\" font-style=\"italic\" lengthAdjust=\"spacingAndGlyphs\" textLength=\"40\" x=\"315\" y=\"301.1387\">«part»</text><text fill=\"#000000\" font-family=\"sans-serif\" font-size=\"12\" lengthAdjust=\"spacingAndGlyphs\" textLength=\"23\" x=\"323.5\" y=\"315.1074\">x: Q</text><line style=\"stroke: #A80036; stroke-width: 1.5;\" x1=\"289\" x2=\"355\" y1=\"322.9375\" y2=\"322.9375\"/><text fill=\"#000000\" font-family=\"sans-serif\" font-size=\"11\" lengthAdjust=\"spacingAndGlyphs\" textLength=\"23\" x=\"294\" y=\"337.1479\">b: B</text><text fill=\"#000000\" font-family=\"sans-serif\" font-size=\"11\" font-style=\"italic\" lengthAdjust=\"spacingAndGlyphs\" textLength=\"44\" x=\"294\" y=\"349.9526\">:&gt;&gt;P::a</text></a><!--MD5=[2156ba9850f5573cc1fc38a6a4b2f02b]\n",
       "class E7--><a href=\"psysml:bd66bfa4-4cf8-4e62-98d6-c8549fcb8467\" target=\"_top\" title=\"psysml:bd66bfa4-4cf8-4e62-98d6-c8549fcb8467\" xlink:actuate=\"onRequest\" xlink:href=\"psysml:bd66bfa4-4cf8-4e62-98d6-c8549fcb8467\" xlink:show=\"new\" xlink:title=\"psysml:bd66bfa4-4cf8-4e62-98d6-c8549fcb8467\" xlink:type=\"simple\"><rect fill=\"#FEFECE\" filter=\"url(#fg02vjukitpqn)\" height=\"45.9375\" id=\"E7\" rx=\"10\" ry=\"10\" style=\"stroke: #A80036; stroke-width: 1.5;\" width=\"68\" x=\"157\" y=\"41\"/><ellipse cx=\"172\" cy=\"59.9688\" fill=\"#0000FF\" rx=\"11\" ry=\"11\" style=\"stroke: #A80036; stroke-width: 1.0;\"/><path d=\"M172.8438,66.7188 L170.3906,66.7188 L170.3906,56.4688 L167.25,56.4688 L167.25,54.3281 L175.9844,54.3281 L175.9844,56.4688 L172.8438,56.4688 L172.8438,66.7188 Z \"/><text fill=\"#000000\" font-family=\"sans-serif\" font-size=\"12\" font-style=\"italic\" lengthAdjust=\"spacingAndGlyphs\" textLength=\"40\" x=\"184\" y=\"57.1387\">«part»</text><text fill=\"#000000\" font-family=\"sans-serif\" font-size=\"12\" lengthAdjust=\"spacingAndGlyphs\" textLength=\"25\" x=\"191.5\" y=\"71.1074\">q: Q</text><line style=\"stroke: #A80036; stroke-width: 1.5;\" x1=\"158\" x2=\"224\" y1=\"78.9375\" y2=\"78.9375\"/></a><!--MD5=[b9389687b975829384b498ac4b7476b2]\n",
       "class E8--><a href=\"psysml:d11ba367-2498-4d3b-bf9a-6df5f0bc7068\" target=\"_top\" title=\"psysml:d11ba367-2498-4d3b-bf9a-6df5f0bc7068\" xlink:actuate=\"onRequest\" xlink:href=\"psysml:d11ba367-2498-4d3b-bf9a-6df5f0bc7068\" xlink:show=\"new\" xlink:title=\"psysml:d11ba367-2498-4d3b-bf9a-6df5f0bc7068\" xlink:type=\"simple\"><rect fill=\"#FEFECE\" filter=\"url(#fg02vjukitpqn)\" height=\"59.9063\" id=\"E8\" rx=\"10\" ry=\"10\" style=\"stroke: #A80036; stroke-width: 1.5;\" width=\"96\" x=\"32\" y=\"148\"/><ellipse cx=\"47\" cy=\"173.9531\" fill=\"#0000FF\" rx=\"11\" ry=\"11\" style=\"stroke: #A80036; stroke-width: 1.0;\"/><path d=\"M47.8438,180.7031 L45.3906,180.7031 L45.3906,170.4531 L42.25,170.4531 L42.25,168.3125 L50.9844,168.3125 L50.9844,170.4531 L47.8438,170.4531 L47.8438,180.7031 Z \"/><text fill=\"#000000\" font-family=\"sans-serif\" font-size=\"12\" font-style=\"italic\" lengthAdjust=\"spacingAndGlyphs\" textLength=\"68\" x=\"59\" y=\"164.1387\">«variation»</text><text fill=\"#000000\" font-family=\"sans-serif\" font-size=\"12\" font-style=\"italic\" lengthAdjust=\"spacingAndGlyphs\" textLength=\"40\" x=\"73\" y=\"178.1074\">«part»</text><text fill=\"#000000\" font-family=\"sans-serif\" font-size=\"12\" lengthAdjust=\"spacingAndGlyphs\" textLength=\"22\" x=\"82\" y=\"192.0762\">v: P</text><line style=\"stroke: #A80036; stroke-width: 1.5;\" x1=\"33\" x2=\"127\" y1=\"199.9063\" y2=\"199.9063\"/></a><!--MD5=[fd4143e9d270a159db93a4ea2a975926]\n",
       "class E9--><a href=\"psysml:72597939-8390-466d-9479-39928477d122\" target=\"_top\" title=\"psysml:72597939-8390-466d-9479-39928477d122\" xlink:actuate=\"onRequest\" xlink:href=\"psysml:72597939-8390-466d-9479-39928477d122\" xlink:show=\"new\" xlink:title=\"psysml:72597939-8390-466d-9479-39928477d122\" xlink:type=\"simple\"><rect fill=\"#FEFECE\" filter=\"url(#fg02vjukitpqn)\" height=\"71.5469\" id=\"E9\" rx=\"10\" ry=\"10\" style=\"stroke: #A80036; stroke-width: 1.5;\" width=\"68\" x=\"46\" y=\"285\"/><ellipse cx=\"61\" cy=\"303.9688\" fill=\"#0000FF\" rx=\"11\" ry=\"11\" style=\"stroke: #A80036; stroke-width: 1.0;\"/><path d=\"M61.8438,310.7188 L59.3906,310.7188 L59.3906,300.4688 L56.25,300.4688 L56.25,298.3281 L64.9844,298.3281 L64.9844,300.4688 L61.8438,300.4688 L61.8438,310.7188 Z \"/><text fill=\"#000000\" font-family=\"sans-serif\" font-size=\"12\" font-style=\"italic\" lengthAdjust=\"spacingAndGlyphs\" textLength=\"40\" x=\"73\" y=\"301.1387\">«part»</text><text fill=\"#000000\" font-family=\"sans-serif\" font-size=\"12\" lengthAdjust=\"spacingAndGlyphs\" textLength=\"6\" x=\"90\" y=\"315.1074\">y</text><line style=\"stroke: #A80036; stroke-width: 1.5;\" x1=\"47\" x2=\"113\" y1=\"322.9375\" y2=\"322.9375\"/><text fill=\"#000000\" font-family=\"sans-serif\" font-size=\"11\" lengthAdjust=\"spacingAndGlyphs\" textLength=\"23\" x=\"52\" y=\"337.1479\">b: B</text><text fill=\"#000000\" font-family=\"sans-serif\" font-size=\"11\" font-style=\"italic\" lengthAdjust=\"spacingAndGlyphs\" textLength=\"44\" x=\"52\" y=\"349.9526\">:&gt;&gt;P::a</text></a><!--MD5=[05d275557350bfb9b23a4ef7222b4c39]\n",
       "link E3 to E2--><a href=\"psysml:0057605f-0b36-40b5-a833-d8040f0d9e74\" target=\"_top\" title=\"psysml:0057605f-0b36-40b5-a833-d8040f0d9e74\" xlink:actuate=\"onRequest\" xlink:href=\"psysml:0057605f-0b36-40b5-a833-d8040f0d9e74\" xlink:show=\"new\" xlink:title=\"psysml:0057605f-0b36-40b5-a833-d8040f0d9e74\" xlink:type=\"simple\"><path d=\"M208.69,201.03 C208.42,219.75 208.03,247.29 207.69,271.17 \" fill=\"none\" id=\"E3-&gt;E2\" style=\"stroke: #A80036; stroke-width: 1.0;\"/><polygon fill=\"none\" points=\"214.69,271.4,207.41,291.3,200.69,271.2,214.69,271.4\" style=\"stroke: #A80036; stroke-width: 1.0;\"/></a><!--MD5=[15ebcb19ae302d9b601edb458606d402]\n",
       "link E5 to E2--><a href=\"psysml:922ee1f9-edf0-4204-bf0f-0435eb6f66de\" target=\"_top\" title=\"psysml:922ee1f9-edf0-4204-bf0f-0435eb6f66de\" xlink:actuate=\"onRequest\" xlink:href=\"psysml:922ee1f9-edf0-4204-bf0f-0435eb6f66de\" xlink:show=\"new\" xlink:title=\"psysml:922ee1f9-edf0-4204-bf0f-0435eb6f66de\" xlink:type=\"simple\"><path d=\"M315.84,201.03 C297.5,221.08 269.89,251.25 247.07,276.2 \" fill=\"none\" id=\"E5-&gt;E2\" style=\"stroke: #A80036; stroke-width: 1.0;\"/><polygon fill=\"none\" points=\"251.93,281.27,233.26,291.3,241.6,271.82,251.93,281.27\" style=\"stroke: #A80036; stroke-width: 1.0;\"/></a><!--MD5=[9120cf2e5df3bff93db8f754bbbc09b4]\n",
       "link E5 to E6--><a href=\"psysml:1c0ef759-8c31-4a4a-b0e7-e872c2806a04\" target=\"_top\" title=\"psysml:1c0ef759-8c31-4a4a-b0e7-e872c2806a04\" xlink:actuate=\"onRequest\" xlink:href=\"psysml:1c0ef759-8c31-4a4a-b0e7-e872c2806a04\" xlink:show=\"new\" xlink:title=\"psysml:1c0ef759-8c31-4a4a-b0e7-e872c2806a04\" xlink:type=\"simple\"><path d=\"M332.8,211.2 C330.93,230.03 328.54,254.09 326.49,274.8 \" fill=\"none\" id=\"E5-E6\" style=\"stroke: #A80036; stroke-width: 1.0;\"/><polygon fill=\"#A80036\" points=\"325.48,284.96,329.2535,277.2945,323.2827,276.7034,325.48,284.96\" style=\"stroke: #A80036; stroke-width: 1.0;\"/><path d=\"M325.0907,203.2601 A9,9 0 0 0 341.9229 204.9264\" fill=\"none\" style=\"stroke: #A80036; stroke-width: 1.5;\"/><text fill=\"#000000\" font-family=\"sans-serif\" font-size=\"13\" lengthAdjust=\"spacingAndGlyphs\" textLength=\"60\" x=\"330\" y=\"251.0669\">«variant»</text></a><!--MD5=[14ccda38c055a5c0da953d572bc50960]\n",
       "link E7 to E3--><a href=\"psysml:6aa04dcc-8d2e-4853-a2ca-5b94913b0044\" target=\"_top\" title=\"psysml:6aa04dcc-8d2e-4853-a2ca-5b94913b0044\" xlink:actuate=\"onRequest\" xlink:href=\"psysml:6aa04dcc-8d2e-4853-a2ca-5b94913b0044\" xlink:show=\"new\" xlink:title=\"psysml:6aa04dcc-8d2e-4853-a2ca-5b94913b0044\" xlink:type=\"simple\"><path d=\"M194.56,87.13 C196.75,100.78 199.64,118.74 202.25,135 \" fill=\"none\" id=\"E7-&gt;E3\" style=\"stroke: #A80036; stroke-width: 1.0;\"/><polygon fill=\"#FFFFFF\" points=\"205.45,154.92,195.5251,137.2707,209.3479,135.0503,205.45,154.92\" style=\"stroke: #A80036; stroke-width: 1.0;\"/><ellipse cx=\"196.5958\" cy=\"131.3257\" fill=\"#A80036\" rx=\"2\" ry=\"2\" style=\"stroke: #A80036; stroke-width: 1.0;\"/><ellipse cx=\"206.4692\" cy=\"129.7396\" fill=\"#A80036\" rx=\"2\" ry=\"2\" style=\"stroke: #A80036; stroke-width: 1.0;\"/></a><!--MD5=[f1f3f9f2fc535e6147756cb86a7f2e32]\n",
       "link E8 to E2--><a href=\"psysml:62998d3a-e41b-4231-af2c-a0f2b465e4e7\" target=\"_top\" title=\"psysml:62998d3a-e41b-4231-af2c-a0f2b465e4e7\" xlink:actuate=\"onRequest\" xlink:href=\"psysml:62998d3a-e41b-4231-af2c-a0f2b465e4e7\" xlink:show=\"new\" xlink:title=\"psysml:62998d3a-e41b-4231-af2c-a0f2b465e4e7\" xlink:type=\"simple\"><path d=\"M118.34,208.22 C129.11,217.23 140.47,227.54 150,238 C160.16,249.15 170,262.19 178.56,274.55 \" fill=\"none\" id=\"E8-&gt;E2\" style=\"stroke: #A80036; stroke-width: 1.0;\"/><polygon fill=\"#FFFFFF\" points=\"189.71,291.3,173.3582,279.3577,185.0146,271.6035,189.71,291.3\" style=\"stroke: #A80036; stroke-width: 1.0;\"/><ellipse cx=\"171.8663\" cy=\"273.5042\" fill=\"#A80036\" rx=\"2\" ry=\"2\" style=\"stroke: #A80036; stroke-width: 1.0;\"/><ellipse cx=\"180.1923\" cy=\"267.9654\" fill=\"#A80036\" rx=\"2\" ry=\"2\" style=\"stroke: #A80036; stroke-width: 1.0;\"/></a><!--MD5=[ed10624c06dd9a4fa49ccf290e8b16a8]\n",
       "link E8 to E9--><a href=\"psysml:196bced0-9581-41ba-9556-fc72f0b07990\" target=\"_top\" title=\"psysml:196bced0-9581-41ba-9556-fc72f0b07990\" xlink:actuate=\"onRequest\" xlink:href=\"psysml:196bced0-9581-41ba-9556-fc72f0b07990\" xlink:show=\"new\" xlink:title=\"psysml:196bced0-9581-41ba-9556-fc72f0b07990\" xlink:type=\"simple\"><path d=\"M80,218.35 C80,235.87 80,256.61 80,274.77 \" fill=\"none\" id=\"E8-E9\" style=\"stroke: #A80036; stroke-width: 1.0;\"/><polygon fill=\"#A80036\" points=\"80,284.83,83,276.83,77,276.83,80,284.83\" style=\"stroke: #A80036; stroke-width: 1.0;\"/><path d=\"M71.5428,211.2982 A9,9 0 0 0 88.4572 211.2982\" fill=\"none\" style=\"stroke: #A80036; stroke-width: 1.5;\"/><text fill=\"#000000\" font-family=\"sans-serif\" font-size=\"13\" lengthAdjust=\"spacingAndGlyphs\" textLength=\"60\" x=\"81\" y=\"251.0669\">«variant»</text></a><!--MD5=[293c00ddc430504143c6869641d8c045]\n",
       "@startuml\r\n",
       " \r\n",
       "package \"VariabilityTest\" as E1  [[psysml:fc405a6c-3061-4540-9673-8b8e766ba6ac ]]  {\r\n",
       "comp def \"P\" as E2  <<(T,blue)part def>> [[psysml:dc902210-e855-46b4-a2dd-8255fef19514 ]] {\r\n",
       "a\r\n",
       "}\r\n",
       "comp def \"Q\" as E3  <<(T,blue)part def>> [[psysml:b52c8837-30af-42aa-bc51-100eaed5de80 ]] {\r\n",
       "}\r\n",
       "comp def \"B\" as E4  <<(T,blue)attribute def>> [[psysml:f17815b8-46c4-4dd9-bf70-524ba6c03f24 ]] {\r\n",
       "}\r\n",
       "comp def \"V\" as E5  <<(T,blue)part def>> [[psysml:b1ebe526-c40e-4c8f-ae74-16f7fcd1bdc9 ]] {\r\n",
       "}\r\n",
       "comp usage \"x: Q\" as E6  <<(T,blue)part>> [[psysml:05419eac-6c2b-46e9-bd3b-b31f448a077a ]] {\r\n",
       "b: B\\n//:>>P::a// \r\n",
       "}\r\n",
       "comp usage \"q: Q\" as E7  <<(T,blue)part>> [[psysml:bd66bfa4-4cf8-4e62-98d6-c8549fcb8467 ]] {\r\n",
       "}\r\n",
       "comp usage \"v: P\" as E8  <<variation>>\\n <<(T,blue)part>> [[psysml:d11ba367-2498-4d3b-bf9a-6df5f0bc7068 ]] {\r\n",
       "}\r\n",
       "comp usage \"y\" as E9  <<(T,blue)part>> [[psysml:72597939-8390-466d-9479-39928477d122 ]] {\r\n",
       "b: B\\n//:>>P::a// \r\n",
       "}\r\n",
       "E3 - -|> E2 [[psysml:0057605f-0b36-40b5-a833-d8040f0d9e74 ]] \r\n",
       "E5 - -|> E2 [[psysml:922ee1f9-edf0-4204-bf0f-0435eb6f66de ]] \r\n",
       "E5 )- ->> E6 [[psysml:1c0ef759-8c31-4a4a-b0e7-e872c2806a04 ]] : <<variant>>\r\n",
       "E7 - -:|> E3 [[psysml:6aa04dcc-8d2e-4853-a2ca-5b94913b0044 ]] \r\n",
       "E8 - -:|> E2 [[psysml:62998d3a-e41b-4231-af2c-a0f2b465e4e7 ]] \r\n",
       "E8 )- ->> E9 [[psysml:196bced0-9581-41ba-9556-fc72f0b07990 ]] : <<variant>>\r\n",
       "}\r\n",
       "@enduml\r\n",
       "\n",
       "PlantUML version 1.2020.13(Sat Jun 13 12:26:38 UTC 2020)\n",
       "(EPL source distribution)\n",
       "Java Runtime: OpenJDK Runtime Environment\n",
       "JVM: OpenJDK 64-Bit Server VM\n",
       "Default Encoding: UTF-8\n",
       "Language: en\n",
       "Country: null\n",
       "--></g></svg>"
      ]
     },
     "execution_count": 3,
     "metadata": {},
     "output_type": "execute_result"
    }
   ],
   "source": [
    "%viz --style=\"COMPTREE\" --view=\"Tree\" \"VariabilityTest\""
   ]
  },
  {
   "cell_type": "code",
   "execution_count": 4,
   "id": "imported-naples",
   "metadata": {
    "execution": {
     "iopub.execute_input": "2021-03-25T15:07:35.355449Z",
     "iopub.status.busy": "2021-03-25T15:07:35.355073Z",
     "iopub.status.idle": "2021-03-25T15:07:36.260553Z",
     "shell.execute_reply": "2021-03-25T15:07:36.259657Z"
    }
   },
   "outputs": [
    {
     "data": {
      "image/svg+xml": [
       "<?xml version=\"1.0\" encoding=\"UTF-8\" standalone=\"no\"?><svg xmlns=\"http://www.w3.org/2000/svg\" xmlns:xlink=\"http://www.w3.org/1999/xlink\" contentScriptType=\"application/ecmascript\" contentStyleType=\"text/css\" height=\"303px\" preserveAspectRatio=\"none\" style=\"width:603px;height:303px;background:#000000;\" version=\"1.1\" viewBox=\"0 0 603 303\" width=\"603px\" zoomAndPan=\"magnify\"><defs/><g><rect fill=\"#021B04\" height=\"1\" style=\"stroke: #021B04; stroke-width: 1.0;\" width=\"1\" x=\"0\" y=\"0\"/><rect fill=\"#FFFFFF\" height=\"205.5625\" style=\"stroke: #FFFFFF; stroke-width: 1.0;\" width=\"602\" x=\"0\" y=\"0\"/><text fill=\"#000000\" font-family=\"sans-serif\" font-size=\"12\" font-weight=\"bold\" lengthAdjust=\"spacingAndGlyphs\" textLength=\"159\" x=\"5\" y=\"16.1387\">Welcome to PlantUML!</text><text fill=\"#000000\" font-family=\"sans-serif\" font-size=\"12\" lengthAdjust=\"spacingAndGlyphs\" textLength=\"0\" x=\"9\" y=\"30.1074\"/><text fill=\"#000000\" font-family=\"sans-serif\" font-size=\"12\" lengthAdjust=\"spacingAndGlyphs\" textLength=\"293\" x=\"5\" y=\"44.0762\">If you use this software, you accept its license.</text><text fill=\"#000000\" font-family=\"sans-serif\" font-size=\"12\" lengthAdjust=\"spacingAndGlyphs\" textLength=\"107\" x=\"5\" y=\"58.0449\">(details by typing</text><text fill=\"#000000\" font-family=\"monospace\" font-size=\"12\" lengthAdjust=\"spacingAndGlyphs\" textLength=\"49\" x=\"116\" y=\"58.0449\">license</text><text fill=\"#000000\" font-family=\"sans-serif\" font-size=\"12\" lengthAdjust=\"spacingAndGlyphs\" textLength=\"56\" x=\"169\" y=\"58.0449\">keyword)</text><text fill=\"#000000\" font-family=\"sans-serif\" font-size=\"12\" lengthAdjust=\"spacingAndGlyphs\" textLength=\"0\" x=\"9\" y=\"72.0137\"/><text fill=\"#000000\" font-family=\"sans-serif\" font-size=\"12\" lengthAdjust=\"spacingAndGlyphs\" textLength=\"283\" x=\"5\" y=\"85.9824\">You can start with a simple UML Diagram like:</text><text fill=\"#000000\" font-family=\"sans-serif\" font-size=\"12\" lengthAdjust=\"spacingAndGlyphs\" textLength=\"0\" x=\"9\" y=\"99.9512\"/><text fill=\"#000000\" font-family=\"monospace\" font-size=\"12\" lengthAdjust=\"spacingAndGlyphs\" textLength=\"119\" x=\"5\" y=\"113.9199\">Bob-&gt;Alice: Hello</text><text fill=\"#000000\" font-family=\"sans-serif\" font-size=\"12\" lengthAdjust=\"spacingAndGlyphs\" textLength=\"0\" x=\"9\" y=\"127.8887\"/><text fill=\"#000000\" font-family=\"sans-serif\" font-size=\"12\" lengthAdjust=\"spacingAndGlyphs\" textLength=\"14\" x=\"5\" y=\"141.8574\">Or</text><text fill=\"#000000\" font-family=\"sans-serif\" font-size=\"12\" lengthAdjust=\"spacingAndGlyphs\" textLength=\"0\" x=\"9\" y=\"155.8262\"/><text fill=\"#000000\" font-family=\"monospace\" font-size=\"12\" lengthAdjust=\"spacingAndGlyphs\" textLength=\"91\" x=\"5\" y=\"169.7949\">class Example</text><text fill=\"#000000\" font-family=\"sans-serif\" font-size=\"12\" lengthAdjust=\"spacingAndGlyphs\" textLength=\"0\" x=\"9\" y=\"183.7637\"/><text fill=\"#000000\" font-family=\"sans-serif\" font-size=\"12\" lengthAdjust=\"spacingAndGlyphs\" textLength=\"349\" x=\"5\" y=\"197.7324\">You will find more information about PlantUML syntax on</text><text fill=\"#000000\" font-family=\"sans-serif\" font-size=\"12\" lengthAdjust=\"spacingAndGlyphs\" text-decoration=\"underline\" textLength=\"129\" x=\"358\" y=\"197.7324\">https://plantuml.com</text><image height=\"71\" width=\"80\" x=\"516\" xlink:href=\"data:image/png;base64,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\" y=\"6\"/><rect fill=\"#000000\" height=\"96.4844\" style=\"stroke: #000000; stroke-width: 1.0;\" width=\"602\" x=\"0\" y=\"205.5625\"/><rect fill=\"#33FF02\" height=\"21.2969\" style=\"stroke: #33FF02; stroke-width: 1.0;\" width=\"170\" x=\"5\" y=\"210.5625\"/><text fill=\"#000000\" font-family=\"sans-serif\" font-size=\"14\" font-weight=\"bold\" lengthAdjust=\"spacingAndGlyphs\" textLength=\"168\" x=\"6\" y=\"225.5625\">[From string (line 2) ]</text><text fill=\"#33FF02\" font-family=\"sans-serif\" font-size=\"14\" font-weight=\"bold\" lengthAdjust=\"spacingAndGlyphs\" textLength=\"0\" x=\"10\" y=\"245.8594\"/><text fill=\"#33FF02\" font-family=\"sans-serif\" font-size=\"14\" font-weight=\"bold\" lengthAdjust=\"spacingAndGlyphs\" textLength=\"79\" x=\"5\" y=\"262.1563\">@startuml</text><text fill=\"#33FF02\" font-family=\"sans-serif\" font-size=\"14\" font-weight=\"bold\" lengthAdjust=\"spacingAndGlyphs\" textLength=\"0\" x=\"10\" y=\"278.4531\"/><text fill=\"#FF0000\" font-family=\"sans-serif\" font-size=\"14\" font-weight=\"bold\" lengthAdjust=\"spacingAndGlyphs\" textLength=\"142\" x=\"10\" y=\"294.75\">Empty description</text><!--MD5=[f59edd8218d337f74d0c332fc6737304]\n",
       "@startuml\r\n",
       " \r\n",
       "@enduml\r\n",
       "\n",
       "PlantUML version 1.2020.13(Sat Jun 13 12:26:38 UTC 2020)\n",
       "(EPL source distribution)\n",
       "Java Runtime: OpenJDK Runtime Environment\n",
       "JVM: OpenJDK 64-Bit Server VM\n",
       "Default Encoding: UTF-8\n",
       "Language: en\n",
       "Country: null\n",
       "--></g></svg>"
      ]
     },
     "execution_count": 4,
     "metadata": {},
     "output_type": "execute_result"
    }
   ],
   "source": [
    "%viz --style=\"COMPTREE\" --view=\"State\" \"VariabilityTest\""
   ]
  },
  {
   "cell_type": "code",
   "execution_count": 5,
   "id": "controlling-treasure",
   "metadata": {
    "execution": {
     "iopub.execute_input": "2021-03-25T15:07:36.310421Z",
     "iopub.status.busy": "2021-03-25T15:07:36.310051Z",
     "iopub.status.idle": "2021-03-25T15:07:36.562525Z",
     "shell.execute_reply": "2021-03-25T15:07:36.560526Z"
    }
   },
   "outputs": [
    {
     "data": {
      "image/svg+xml": [
       "<?xml version=\"1.0\" encoding=\"UTF-8\" standalone=\"no\"?><svg xmlns=\"http://www.w3.org/2000/svg\" xmlns:xlink=\"http://www.w3.org/1999/xlink\" contentScriptType=\"application/ecmascript\" contentStyleType=\"text/css\" height=\"474px\" preserveAspectRatio=\"none\" style=\"width:920px;height:474px;\" version=\"1.1\" viewBox=\"0 0 920 474\" width=\"920px\" zoomAndPan=\"magnify\"><defs><filter height=\"300%\" id=\"f1ha900mr3kmgv\" width=\"300%\" x=\"-1\" y=\"-1\"><feGaussianBlur result=\"blurOut\" stdDeviation=\"2.0\"/><feColorMatrix in=\"blurOut\" result=\"blurOut2\" type=\"matrix\" values=\"0 0 0 0 0 0 0 0 0 0 0 0 0 0 0 0 0 0 .4 0\"/><feOffset dx=\"4.0\" dy=\"4.0\" in=\"blurOut2\" result=\"blurOut3\"/><feBlend in=\"SourceGraphic\" in2=\"blurOut3\" mode=\"normal\"/></filter></defs><g><!--MD5=[fbc87193dbaf4d95561dea2c320d4a47]\n",
       "cluster E1--><a href=\"psysml:fc405a6c-3061-4540-9673-8b8e766ba6ac\" target=\"_top\" title=\"psysml:fc405a6c-3061-4540-9673-8b8e766ba6ac\" xlink:actuate=\"onRequest\" xlink:href=\"psysml:fc405a6c-3061-4540-9673-8b8e766ba6ac\" xlink:show=\"new\" xlink:title=\"psysml:fc405a6c-3061-4540-9673-8b8e766ba6ac\" xlink:type=\"simple\"><polygon fill=\"#FFFFFF\" filter=\"url(#f1ha900mr3kmgv)\" points=\"16,6,134,6,141,28.2969,898,28.2969,898,462,16,462,16,6\" style=\"stroke: #000000; stroke-width: 1.5;\"/><line style=\"stroke: #000000; stroke-width: 1.5;\" x1=\"16\" x2=\"141\" y1=\"28.2969\" y2=\"28.2969\"/><text fill=\"#000000\" font-family=\"sans-serif\" font-size=\"14\" font-weight=\"bold\" lengthAdjust=\"spacingAndGlyphs\" textLength=\"112\" x=\"20\" y=\"20.9951\">VariabilityTest</text></a><!--MD5=[e4f7fae6ed58524ba242bb0b0d3be6b7]\n",
       "cluster E2--><a href=\"psysml:dc902210-e855-46b4-a2dd-8255fef19514\" target=\"_top\" title=\"psysml:dc902210-e855-46b4-a2dd-8255fef19514\" xlink:actuate=\"onRequest\" xlink:href=\"psysml:dc902210-e855-46b4-a2dd-8255fef19514\" xlink:show=\"new\" xlink:title=\"psysml:dc902210-e855-46b4-a2dd-8255fef19514\" xlink:type=\"simple\"><rect fill=\"#FFFFFF\" filter=\"url(#f1ha900mr3kmgv)\" height=\"126\" id=\"E2\" style=\"stroke: #A80036; stroke-width: 1.5;\" width=\"169\" x=\"415\" y=\"304\"/><rect fill=\"#FEFECE\" height=\"37.9375\" style=\"stroke: #A80036; stroke-width: 1.5;\" width=\"169\" x=\"415\" y=\"304\"/><text fill=\"#000000\" font-family=\"sans-serif\" font-size=\"12\" font-style=\"italic\" lengthAdjust=\"spacingAndGlyphs\" textLength=\"64\" x=\"467.5\" y=\"320.1387\">«part def»</text><text fill=\"#000000\" font-family=\"sans-serif\" font-size=\"12\" lengthAdjust=\"spacingAndGlyphs\" textLength=\"8\" x=\"495.5\" y=\"334.1074\">P</text></a><!--MD5=[14e3b0961a2654348d326746436168a1]\n",
       "cluster E6--><a href=\"psysml:b1ebe526-c40e-4c8f-ae74-16f7fcd1bdc9\" target=\"_top\" title=\"psysml:b1ebe526-c40e-4c8f-ae74-16f7fcd1bdc9\" xlink:actuate=\"onRequest\" xlink:href=\"psysml:b1ebe526-c40e-4c8f-ae74-16f7fcd1bdc9\" xlink:show=\"new\" xlink:title=\"psysml:b1ebe526-c40e-4c8f-ae74-16f7fcd1bdc9\" xlink:type=\"simple\"><rect fill=\"#FFFFFF\" filter=\"url(#f1ha900mr3kmgv)\" height=\"207\" id=\"E6\" style=\"stroke: #A80036; stroke-width: 1.5;\" width=\"206\" x=\"660\" y=\"57\"/><rect fill=\"#FEFECE\" height=\"37.9375\" style=\"stroke: #A80036; stroke-width: 1.5;\" width=\"206\" x=\"660\" y=\"57\"/><text fill=\"#000000\" font-family=\"sans-serif\" font-size=\"12\" font-style=\"italic\" lengthAdjust=\"spacingAndGlyphs\" textLength=\"64\" x=\"731\" y=\"73.1387\">«part def»</text><text fill=\"#000000\" font-family=\"sans-serif\" font-size=\"12\" lengthAdjust=\"spacingAndGlyphs\" textLength=\"8\" x=\"759\" y=\"87.1074\">V</text></a><!--MD5=[168fadf3d0c3fd93dd5d6da1b1d7ab76]\n",
       "cluster E7--><a href=\"psysml:05419eac-6c2b-46e9-bd3b-b31f448a077a\" target=\"_top\" title=\"psysml:05419eac-6c2b-46e9-bd3b-b31f448a077a\" xlink:actuate=\"onRequest\" xlink:href=\"psysml:05419eac-6c2b-46e9-bd3b-b31f448a077a\" xlink:show=\"new\" xlink:title=\"psysml:05419eac-6c2b-46e9-bd3b-b31f448a077a\" xlink:type=\"simple\"><rect fill=\"#FFFFFF\" filter=\"url(#f1ha900mr3kmgv)\" height=\"108\" id=\"E7\" rx=\"10\" ry=\"10\" style=\"stroke: #A80036; stroke-width: 1.5;\" width=\"134\" x=\"700\" y=\"124\"/><rect fill=\"#FEFECE\" height=\"23.9688\" rx=\"10\" ry=\"10\" style=\"stroke: #FEFECE; stroke-width: 1.5;\" width=\"134\" x=\"700\" y=\"124\"/><rect fill=\"#FEFECE\" height=\"10\" style=\"stroke: #FEFECE; stroke-width: 1.5;\" width=\"134\" x=\"700\" y=\"137.9688\"/><rect fill=\"none\" height=\"108\" id=\"E7\" rx=\"10\" ry=\"10\" style=\"stroke: #A80036; stroke-width: 1.5;\" width=\"134\" x=\"700\" y=\"124\"/><text fill=\"#000000\" font-family=\"sans-serif\" font-size=\"12\" lengthAdjust=\"spacingAndGlyphs\" textLength=\"23\" x=\"755.5\" y=\"140.1387\">x: Q</text><line style=\"stroke: #A80036; stroke-width: 1.0;\" x1=\"700\" x2=\"834\" y1=\"147.9688\" y2=\"147.9688\"/></a><!--MD5=[a84b4591f868c1fa4a211716a82f2f0d]\n",
       "cluster E10--><a href=\"psysml:d11ba367-2498-4d3b-bf9a-6df5f0bc7068\" target=\"_top\" title=\"psysml:d11ba367-2498-4d3b-bf9a-6df5f0bc7068\" xlink:actuate=\"onRequest\" xlink:href=\"psysml:d11ba367-2498-4d3b-bf9a-6df5f0bc7068\" xlink:show=\"new\" xlink:title=\"psysml:d11ba367-2498-4d3b-bf9a-6df5f0bc7068\" xlink:type=\"simple\"><rect fill=\"#FFFFFF\" filter=\"url(#f1ha900mr3kmgv)\" height=\"191\" id=\"E10\" rx=\"10\" ry=\"10\" style=\"stroke: #A80036; stroke-width: 1.5;\" width=\"182\" x=\"446\" y=\"65\"/><rect fill=\"#FEFECE\" height=\"37.9375\" rx=\"10\" ry=\"10\" style=\"stroke: #FEFECE; stroke-width: 1.5;\" width=\"182\" x=\"446\" y=\"65\"/><rect fill=\"#FEFECE\" height=\"10\" style=\"stroke: #FEFECE; stroke-width: 1.5;\" width=\"182\" x=\"446\" y=\"92.9375\"/><rect fill=\"none\" height=\"191\" id=\"E10\" rx=\"10\" ry=\"10\" style=\"stroke: #A80036; stroke-width: 1.5;\" width=\"182\" x=\"446\" y=\"65\"/><text fill=\"#000000\" font-family=\"sans-serif\" font-size=\"12\" font-style=\"italic\" lengthAdjust=\"spacingAndGlyphs\" textLength=\"68\" x=\"503\" y=\"81.1387\">«variation»</text><text fill=\"#000000\" font-family=\"sans-serif\" font-size=\"12\" lengthAdjust=\"spacingAndGlyphs\" textLength=\"22\" x=\"526\" y=\"95.1074\">v: P</text><line style=\"stroke: #A80036; stroke-width: 1.0;\" x1=\"446\" x2=\"628\" y1=\"102.9375\" y2=\"102.9375\"/></a><!--MD5=[917b9dd0c7eca3ee5f47219d1a84c0ad]\n",
       "cluster E11--><a href=\"psysml:72597939-8390-466d-9479-39928477d122\" target=\"_top\" title=\"psysml:72597939-8390-466d-9479-39928477d122\" xlink:actuate=\"onRequest\" xlink:href=\"psysml:72597939-8390-466d-9479-39928477d122\" xlink:show=\"new\" xlink:title=\"psysml:72597939-8390-466d-9479-39928477d122\" xlink:type=\"simple\"><rect fill=\"#FFFFFF\" filter=\"url(#f1ha900mr3kmgv)\" height=\"108\" id=\"E11\" rx=\"10\" ry=\"10\" style=\"stroke: #A80036; stroke-width: 1.5;\" width=\"134\" x=\"470\" y=\"124\"/><rect fill=\"#FEFECE\" height=\"23.9688\" rx=\"10\" ry=\"10\" style=\"stroke: #FEFECE; stroke-width: 1.5;\" width=\"134\" x=\"470\" y=\"124\"/><rect fill=\"#FEFECE\" height=\"10\" style=\"stroke: #FEFECE; stroke-width: 1.5;\" width=\"134\" x=\"470\" y=\"137.9688\"/><rect fill=\"none\" height=\"108\" id=\"E11\" rx=\"10\" ry=\"10\" style=\"stroke: #A80036; stroke-width: 1.5;\" width=\"134\" x=\"470\" y=\"124\"/><text fill=\"#000000\" font-family=\"sans-serif\" font-size=\"12\" lengthAdjust=\"spacingAndGlyphs\" textLength=\"6\" x=\"534\" y=\"140.1387\">y</text><line style=\"stroke: #A80036; stroke-width: 1.0;\" x1=\"470\" x2=\"604\" y1=\"147.9688\" y2=\"147.9688\"/></a><!--MD5=[270fce915f116d4de14055a7c1d9a0f3]\n",
       "class E5--><a href=\"psysml:f17815b8-46c4-4dd9-bf70-524ba6c03f24\" target=\"_top\" title=\"psysml:f17815b8-46c4-4dd9-bf70-524ba6c03f24\" xlink:actuate=\"onRequest\" xlink:href=\"psysml:f17815b8-46c4-4dd9-bf70-524ba6c03f24\" xlink:show=\"new\" xlink:title=\"psysml:f17815b8-46c4-4dd9-bf70-524ba6c03f24\" xlink:type=\"simple\"><rect fill=\"#FEFECE\" filter=\"url(#f1ha900mr3kmgv)\" height=\"53.9375\" id=\"E5\" style=\"stroke: #A80036; stroke-width: 1.5;\" width=\"169\" x=\"261.5\" y=\"160.5\"/><ellipse cx=\"276.5\" cy=\"179.4688\" fill=\"#ADD1B2\" rx=\"11\" ry=\"11\" style=\"stroke: #A80036; stroke-width: 1.0;\"/><path d=\"M279.4688,185.1094 Q278.8906,185.4063 278.25,185.5469 Q277.6094,185.7031 276.9063,185.7031 Q274.4063,185.7031 273.0781,184.0625 Q271.7656,182.4063 271.7656,179.2813 Q271.7656,176.1563 273.0781,174.5 Q274.4063,172.8438 276.9063,172.8438 Q277.6094,172.8438 278.25,173 Q278.9063,173.1563 279.4688,173.4531 L279.4688,176.1719 Q278.8438,175.5938 278.25,175.3281 Q277.6563,175.0469 277.0313,175.0469 Q275.6875,175.0469 275,176.125 Q274.3125,177.1875 274.3125,179.2813 Q274.3125,181.375 275,182.4531 Q275.6875,183.5156 277.0313,183.5156 Q277.6563,183.5156 278.25,183.25 Q278.8438,182.9688 279.4688,182.3906 L279.4688,185.1094 Z \"/><text fill=\"#000000\" font-family=\"sans-serif\" font-size=\"12\" font-style=\"italic\" lengthAdjust=\"spacingAndGlyphs\" textLength=\"141\" x=\"288.5\" y=\"176.6387\">«(T,blue)attribute def»</text><text fill=\"#000000\" font-family=\"sans-serif\" font-size=\"12\" lengthAdjust=\"spacingAndGlyphs\" textLength=\"8\" x=\"355\" y=\"190.6074\">B</text><line style=\"stroke: #A80036; stroke-width: 1.5;\" x1=\"262.5\" x2=\"429.5\" y1=\"198.4375\" y2=\"198.4375\"/><line style=\"stroke: #A80036; stroke-width: 1.5;\" x1=\"262.5\" x2=\"429.5\" y1=\"206.4375\" y2=\"206.4375\"/></a><g id=\"E1.E2.E3\"><a href=\"psysml:6681b89b-422d-48d0-bc41-7a96ec587b7c\" target=\"_top\" title=\"psysml:6681b89b-422d-48d0-bc41-7a96ec587b7c\" xlink:actuate=\"onRequest\" xlink:href=\"psysml:6681b89b-422d-48d0-bc41-7a96ec587b7c\" xlink:show=\"new\" xlink:title=\"psysml:6681b89b-422d-48d0-bc41-7a96ec587b7c\" xlink:type=\"simple\"><rect fill=\"#FEFECE\" filter=\"url(#f1ha900mr3kmgv)\" height=\"42.9375\" id=\"E3\" rx=\"10\" ry=\"10\" style=\"stroke: #A80036; stroke-width: 1.5;\" width=\"102\" x=\"458\" y=\"363\"/><ellipse cx=\"475.25\" cy=\"381.9688\" fill=\"#0000FF\" rx=\"11\" ry=\"11\" style=\"stroke: #A80036; stroke-width: 1.0;\"/><path d=\"M476.0938,388.7188 L473.6406,388.7188 L473.6406,378.4688 L470.5,378.4688 L470.5,376.3281 L479.2344,376.3281 L479.2344,378.4688 L476.0938,378.4688 L476.0938,388.7188 Z \"/><text fill=\"#000000\" font-family=\"sans-serif\" font-size=\"12\" font-style=\"italic\" lengthAdjust=\"spacingAndGlyphs\" textLength=\"69\" x=\"487.75\" y=\"379.1387\">«attribute»</text><text fill=\"#000000\" font-family=\"sans-serif\" font-size=\"12\" lengthAdjust=\"spacingAndGlyphs\" textLength=\"8\" x=\"518.25\" y=\"393.1074\">a</text></a></g><g id=\"E1.E4\"><a href=\"psysml:b52c8837-30af-42aa-bc51-100eaed5de80\" target=\"_top\" title=\"psysml:b52c8837-30af-42aa-bc51-100eaed5de80\" xlink:actuate=\"onRequest\" xlink:href=\"psysml:b52c8837-30af-42aa-bc51-100eaed5de80\" xlink:show=\"new\" xlink:title=\"psysml:b52c8837-30af-42aa-bc51-100eaed5de80\" xlink:type=\"simple\"><rect fill=\"#FEFECE\" filter=\"url(#f1ha900mr3kmgv)\" height=\"42.9375\" id=\"E4\" style=\"stroke: #A80036; stroke-width: 1.5;\" width=\"97\" x=\"129.5\" y=\"166\"/><ellipse cx=\"146.75\" cy=\"184.9688\" fill=\"#0000FF\" rx=\"11\" ry=\"11\" style=\"stroke: #A80036; stroke-width: 1.0;\"/><path d=\"M147.5938,191.7188 L145.1406,191.7188 L145.1406,181.4688 L142,181.4688 L142,179.3281 L150.7344,179.3281 L150.7344,181.4688 L147.5938,181.4688 L147.5938,191.7188 Z \"/><text fill=\"#000000\" font-family=\"sans-serif\" font-size=\"12\" font-style=\"italic\" lengthAdjust=\"spacingAndGlyphs\" textLength=\"64\" x=\"159.25\" y=\"182.1387\">«part def»</text><text fill=\"#000000\" font-family=\"sans-serif\" font-size=\"12\" lengthAdjust=\"spacingAndGlyphs\" textLength=\"9\" x=\"186.75\" y=\"196.1074\">Q</text></a></g><g id=\"E1.E6.E7.E8\"><a href=\"psysml:ea3366e9-5974-4411-9b27-ac275f4425c1\" target=\"_top\" title=\"psysml:ea3366e9-5974-4411-9b27-ac275f4425c1\" xlink:actuate=\"onRequest\" xlink:href=\"psysml:ea3366e9-5974-4411-9b27-ac275f4425c1\" xlink:show=\"new\" xlink:title=\"psysml:ea3366e9-5974-4411-9b27-ac275f4425c1\" xlink:type=\"simple\"><rect fill=\"#FEFECE\" filter=\"url(#f1ha900mr3kmgv)\" height=\"56.9063\" id=\"E8\" rx=\"10\" ry=\"10\" style=\"stroke: #A80036; stroke-width: 1.5;\" width=\"102\" x=\"716\" y=\"159\"/><ellipse cx=\"733.25\" cy=\"184.9531\" fill=\"#0000FF\" rx=\"11\" ry=\"11\" style=\"stroke: #A80036; stroke-width: 1.0;\"/><path d=\"M734.0938,191.7031 L731.6406,191.7031 L731.6406,181.4531 L728.5,181.4531 L728.5,179.3125 L737.2344,179.3125 L737.2344,181.4531 L734.0938,181.4531 L734.0938,191.7031 Z \"/><text fill=\"#000000\" font-family=\"sans-serif\" font-size=\"12\" font-style=\"italic\" lengthAdjust=\"spacingAndGlyphs\" textLength=\"69\" x=\"745.75\" y=\"175.1387\">«attribute»</text><text fill=\"#000000\" font-family=\"sans-serif\" font-size=\"12\" lengthAdjust=\"spacingAndGlyphs\" textLength=\"24\" x=\"768.25\" y=\"189.1074\">b: B</text><text fill=\"#000000\" font-family=\"sans-serif\" font-size=\"12\" font-style=\"italic\" lengthAdjust=\"spacingAndGlyphs\" textLength=\"48\" x=\"754.25\" y=\"203.0762\">:&gt;&gt;P::a</text><text fill=\"#000000\" font-family=\"sans-serif\" font-size=\"12\" lengthAdjust=\"spacingAndGlyphs\" textLength=\"0\" x=\"806.25\" y=\"203.0762\"/></a></g><g id=\"E1.E9\"><a href=\"psysml:bd66bfa4-4cf8-4e62-98d6-c8549fcb8467\" target=\"_top\" title=\"psysml:bd66bfa4-4cf8-4e62-98d6-c8549fcb8467\" xlink:actuate=\"onRequest\" xlink:href=\"psysml:bd66bfa4-4cf8-4e62-98d6-c8549fcb8467\" xlink:show=\"new\" xlink:title=\"psysml:bd66bfa4-4cf8-4e62-98d6-c8549fcb8467\" xlink:type=\"simple\"><rect fill=\"#FEFECE\" filter=\"url(#f1ha900mr3kmgv)\" height=\"40\" id=\"E9\" rx=\"10\" ry=\"10\" style=\"stroke: #A80036; stroke-width: 1.5;\" width=\"62\" x=\"32\" y=\"167.5\"/><ellipse cx=\"49.25\" cy=\"183.5\" fill=\"#B6DBBB\" rx=\"11\" ry=\"11\" style=\"stroke: #A80036; stroke-width: 1.0;\"/><path d=\"M45.125,185.4219 L45.125,177.6094 L47.5781,177.6094 L47.5781,186.0469 Q47.5781,186.9688 48.0469,187.5 Q48.5313,188.0313 49.3594,188.0313 Q50.2031,188.0313 50.6719,187.5 Q51.1406,186.9688 51.1406,186.0469 L51.1406,177.6094 L53.5938,177.6094 L53.5938,185.4219 Q53.5938,187.9531 52.5938,189.0938 Q51.5938,190.2344 49.3594,190.2344 Q47.1406,190.2344 46.125,189.0938 Q45.125,187.9531 45.125,185.4219 Z \"/><text fill=\"#000000\" font-family=\"sans-serif\" font-size=\"12\" lengthAdjust=\"spacingAndGlyphs\" textLength=\"25\" x=\"63.75\" y=\"187.6543\">q: Q</text></a></g><g id=\"E1.E10.E11.E12\"><a href=\"psysml:bdc7bdc2-851d-4524-9d87-06992ba679d3\" target=\"_top\" title=\"psysml:bdc7bdc2-851d-4524-9d87-06992ba679d3\" xlink:actuate=\"onRequest\" xlink:href=\"psysml:bdc7bdc2-851d-4524-9d87-06992ba679d3\" xlink:show=\"new\" xlink:title=\"psysml:bdc7bdc2-851d-4524-9d87-06992ba679d3\" xlink:type=\"simple\"><rect fill=\"#FEFECE\" filter=\"url(#f1ha900mr3kmgv)\" height=\"56.9063\" id=\"E12\" rx=\"10\" ry=\"10\" style=\"stroke: #A80036; stroke-width: 1.5;\" width=\"102\" x=\"486\" y=\"159\"/><ellipse cx=\"503.25\" cy=\"184.9531\" fill=\"#0000FF\" rx=\"11\" ry=\"11\" style=\"stroke: #A80036; stroke-width: 1.0;\"/><path d=\"M504.0938,191.7031 L501.6406,191.7031 L501.6406,181.4531 L498.5,181.4531 L498.5,179.3125 L507.2344,179.3125 L507.2344,181.4531 L504.0938,181.4531 L504.0938,191.7031 Z \"/><text fill=\"#000000\" font-family=\"sans-serif\" font-size=\"12\" font-style=\"italic\" lengthAdjust=\"spacingAndGlyphs\" textLength=\"69\" x=\"515.75\" y=\"175.1387\">«attribute»</text><text fill=\"#000000\" font-family=\"sans-serif\" font-size=\"12\" lengthAdjust=\"spacingAndGlyphs\" textLength=\"24\" x=\"538.25\" y=\"189.1074\">b: B</text><text fill=\"#000000\" font-family=\"sans-serif\" font-size=\"12\" font-style=\"italic\" lengthAdjust=\"spacingAndGlyphs\" textLength=\"48\" x=\"524.25\" y=\"203.0762\">:&gt;&gt;P::a</text><text fill=\"#000000\" font-family=\"sans-serif\" font-size=\"12\" lengthAdjust=\"spacingAndGlyphs\" textLength=\"0\" x=\"576.25\" y=\"203.0762\"/></a></g><!--MD5=[185131fc0dcab0a4505a2ebe144e961b]\n",
       "link E4 to E2--><a href=\"psysml:0057605f-0b36-40b5-a833-d8040f0d9e74\" target=\"_top\" title=\"psysml:0057605f-0b36-40b5-a833-d8040f0d9e74\" xlink:actuate=\"onRequest\" xlink:href=\"psysml:0057605f-0b36-40b5-a833-d8040f0d9e74\" xlink:show=\"new\" xlink:title=\"psysml:0057605f-0b36-40b5-a833-d8040f0d9e74\" xlink:type=\"simple\"><path d=\"M189.52,209.34 C201.28,229.26 221.04,259.25 244,280 C277.55,310.335 321.4375,335.8825 357.3588,354.0062 C375.3194,363.0681 391.2884,370.2741 402.978,375.2945 C405.9004,376.5496 408.5553,377.6682 410.907,378.645 C412.0828,379.1334 413.1828,379.5863 414.2026,380.0032 C414.4576,380.1074 414.7075,380.2094 414.9523,380.3091 \" fill=\"none\" id=\"E4-&gt;E2\" style=\"stroke: #A80036; stroke-width: 1.0;\"/><polygon fill=\"#FFFFFF\" points=\"414.9523,380.3091,399.9953,366.6604,394.7154,379.6266,414.9523,380.3091\" style=\"stroke: #A80036; stroke-width: 1.0;\"/></a><!--MD5=[2351f337d6de0f557b50152ba70847b5]\n",
       "link E6 to E2--><a href=\"psysml:922ee1f9-edf0-4204-bf0f-0435eb6f66de\" target=\"_top\" title=\"psysml:922ee1f9-edf0-4204-bf0f-0435eb6f66de\" xlink:actuate=\"onRequest\" xlink:href=\"psysml:922ee1f9-edf0-4204-bf0f-0435eb6f66de\" xlink:show=\"new\" xlink:title=\"psysml:922ee1f9-edf0-4204-bf0f-0435eb6f66de\" xlink:type=\"simple\"><path d=\"M659.9927,209.3444 C659.935,209.4755 659.8769,209.607 659.8186,209.739 C659.7019,210.0028 659.5839,210.2682 659.4647,210.5352 C659.2262,211.0692 658.9827,211.6095 658.7341,212.1557 C656.7452,216.5248 654.4316,221.2694 651.7887,226.1825 C641.2175,245.835 625.38,268.185 604,280 C588.23,288.72 455.65,276.23 442,288 C437.9688,291.4788 434.6419,295.5473 431.9071,300.0079 C431.2234,301.1231 430.5767,302.2628 429.9652,303.4238 C429.8888,303.5689 429.8129,303.7144 429.7376,303.8602 \" fill=\"none\" id=\"E6-&gt;E2\" style=\"stroke: #A80036; stroke-width: 1.0;\"/><polygon fill=\"#FFFFFF\" points=\"429.7376,303.8602,444.6783,290.1937,432.2405,283.767,429.7376,303.8602\" style=\"stroke: #A80036; stroke-width: 1.0;\"/></a><!--MD5=[3acfc3f599a427c70377b36119ba23c1]\n",
       "@startuml\r\n",
       "skinparam ranksep 8\r\n",
       "skinparam rectangle {\r\n",
       " backgroundColor<<block>> LightGreen\r\n",
       "}\r\n",
       " \r\n",
       "package \"VariabilityTest\" as E1  [[psysml:fc405a6c-3061-4540-9673-8b8e766ba6ac ]]  {\r\n",
       "rec def \"P\" as E2  <<(T,blue)part def>> [[psysml:dc902210-e855-46b4-a2dd-8255fef19514 ]] {\r\n",
       "rec usage \"a\" as E3  <<(T,blue)attribute>> [[psysml:6681b89b-422d-48d0-bc41-7a96ec587b7c ]] {\r\n",
       "}\r\n",
       "}\r\n",
       "rec def \"Q\" as E4  <<(T,blue)part def>> [[psysml:b52c8837-30af-42aa-bc51-100eaed5de80 ]] {\r\n",
       "}\r\n",
       "def \"B\" as E5  <<(T,blue)attribute def>> [[psysml:f17815b8-46c4-4dd9-bf70-524ba6c03f24 ]] \r\n",
       "rec def \"V\" as E6  <<(T,blue)part def>> [[psysml:b1ebe526-c40e-4c8f-ae74-16f7fcd1bdc9 ]] {\r\n",
       "rec usage \"x: Q\" as E7  [[psysml:05419eac-6c2b-46e9-bd3b-b31f448a077a ]] {\r\n",
       "rec usage \"b: B\\n//:>>P::a// \" as E8  <<(T,blue)attribute>> [[psysml:ea3366e9-5974-4411-9b27-ac275f4425c1 ]] {\r\n",
       "}\r\n",
       "}\r\n",
       "}\r\n",
       "rec usage \"q: Q\" as E9  [[psysml:bd66bfa4-4cf8-4e62-98d6-c8549fcb8467 ]] {\r\n",
       "}\r\n",
       "rec usage \"v: P\" as E10  <<variation>> [[psysml:d11ba367-2498-4d3b-bf9a-6df5f0bc7068 ]] {\r\n",
       "rec usage \"y\" as E11  [[psysml:72597939-8390-466d-9479-39928477d122 ]] {\r\n",
       "rec usage \"b: B\\n//:>>P::a// \" as E12  <<(T,blue)attribute>> [[psysml:bdc7bdc2-851d-4524-9d87-06992ba679d3 ]] {\r\n",
       "}\r\n",
       "}\r\n",
       "}\r\n",
       "E4 - -|> E2 [[psysml:0057605f-0b36-40b5-a833-d8040f0d9e74 ]] \r\n",
       "E6 - -|> E2 [[psysml:922ee1f9-edf0-4204-bf0f-0435eb6f66de ]] \r\n",
       "}\r\n",
       "@enduml\r\n",
       "\n",
       "PlantUML version 1.2020.13(Sat Jun 13 12:26:38 UTC 2020)\n",
       "(EPL source distribution)\n",
       "Java Runtime: OpenJDK Runtime Environment\n",
       "JVM: OpenJDK 64-Bit Server VM\n",
       "Default Encoding: UTF-8\n",
       "Language: en\n",
       "Country: null\n",
       "--></g></svg>"
      ]
     },
     "execution_count": 5,
     "metadata": {},
     "output_type": "execute_result"
    }
   ],
   "source": [
    "%viz --style=\"COMPTREE\" --view=\"Interconnection\" \"VariabilityTest\""
   ]
  },
  {
   "cell_type": "code",
   "execution_count": 6,
   "id": "disciplinary-logan",
   "metadata": {
    "execution": {
     "iopub.execute_input": "2021-03-25T15:07:36.612985Z",
     "iopub.status.busy": "2021-03-25T15:07:36.612299Z",
     "iopub.status.idle": "2021-03-25T15:07:36.620897Z",
     "shell.execute_reply": "2021-03-25T15:07:36.620501Z"
    }
   },
   "outputs": [
    {
     "data": {
      "image/svg+xml": [
       "<?xml version=\"1.0\" encoding=\"UTF-8\" standalone=\"no\"?><svg xmlns=\"http://www.w3.org/2000/svg\" xmlns:xlink=\"http://www.w3.org/1999/xlink\" contentScriptType=\"application/ecmascript\" contentStyleType=\"text/css\" height=\"12px\" preserveAspectRatio=\"none\" style=\"width:12px;height:12px;\" version=\"1.1\" viewBox=\"0 0 12 12\" width=\"12px\" zoomAndPan=\"magnify\"><defs/><g><!--MD5=[6a4cb978cab31700e1ce5529f947a75d]\n",
       "@startuml\r\n",
       "skinparam ranksep 8\r\n",
       " \r\n",
       "@enduml\r\n",
       "\n",
       "PlantUML version 1.2020.13(Sat Jun 13 12:26:38 UTC 2020)\n",
       "(EPL source distribution)\n",
       "Java Runtime: OpenJDK Runtime Environment\n",
       "JVM: OpenJDK 64-Bit Server VM\n",
       "Default Encoding: UTF-8\n",
       "Language: en\n",
       "Country: null\n",
       "--></g></svg>"
      ]
     },
     "execution_count": 6,
     "metadata": {},
     "output_type": "execute_result"
    }
   ],
   "source": [
    "%viz --style=\"COMPTREE\" --view=\"Action\" \"VariabilityTest\""
   ]
  },
  {
   "cell_type": "code",
   "execution_count": 7,
   "id": "nervous-batman",
   "metadata": {
    "execution": {
     "iopub.execute_input": "2021-03-25T15:07:36.672936Z",
     "iopub.status.busy": "2021-03-25T15:07:36.672000Z",
     "iopub.status.idle": "2021-03-25T15:07:36.933464Z",
     "shell.execute_reply": "2021-03-25T15:07:36.932745Z"
    }
   },
   "outputs": [
    {
     "data": {
      "image/svg+xml": [
       "<?xml version=\"1.0\" encoding=\"UTF-8\" standalone=\"no\"?><svg xmlns=\"http://www.w3.org/2000/svg\" xmlns:xlink=\"http://www.w3.org/1999/xlink\" contentScriptType=\"application/ecmascript\" contentStyleType=\"text/css\" height=\"385px\" preserveAspectRatio=\"none\" style=\"width:420px;height:385px;\" version=\"1.1\" viewBox=\"0 0 420 385\" width=\"420px\" zoomAndPan=\"magnify\"><defs><filter height=\"300%\" id=\"fg02vjukitpqn\" width=\"300%\" x=\"-1\" y=\"-1\"><feGaussianBlur result=\"blurOut\" stdDeviation=\"2.0\"/><feColorMatrix in=\"blurOut\" result=\"blurOut2\" type=\"matrix\" values=\"0 0 0 0 0 0 0 0 0 0 0 0 0 0 0 0 0 0 .4 0\"/><feOffset dx=\"4.0\" dy=\"4.0\" in=\"blurOut2\" result=\"blurOut3\"/><feBlend in=\"SourceGraphic\" in2=\"blurOut3\" mode=\"normal\"/></filter></defs><g><!--MD5=[fbc87193dbaf4d95561dea2c320d4a47]\n",
       "cluster E1--><a href=\"psysml:fc405a6c-3061-4540-9673-8b8e766ba6ac\" target=\"_top\" title=\"psysml:fc405a6c-3061-4540-9673-8b8e766ba6ac\" xlink:actuate=\"onRequest\" xlink:href=\"psysml:fc405a6c-3061-4540-9673-8b8e766ba6ac\" xlink:show=\"new\" xlink:title=\"psysml:fc405a6c-3061-4540-9673-8b8e766ba6ac\" xlink:type=\"simple\"><polygon fill=\"#FFFFFF\" filter=\"url(#fg02vjukitpqn)\" points=\"16,6,134,6,141,28.2969,398,28.2969,398,373,16,373,16,6\" style=\"stroke: #000000; stroke-width: 1.5;\"/><line style=\"stroke: #000000; stroke-width: 1.5;\" x1=\"16\" x2=\"141\" y1=\"28.2969\" y2=\"28.2969\"/><text fill=\"#000000\" font-family=\"sans-serif\" font-size=\"14\" font-weight=\"bold\" lengthAdjust=\"spacingAndGlyphs\" textLength=\"112\" x=\"20\" y=\"20.9951\">VariabilityTest</text></a><!--MD5=[b4997ac47864f28c2f74865a473b2911]\n",
       "class E2--><a href=\"psysml:dc902210-e855-46b4-a2dd-8255fef19514\" target=\"_top\" title=\"psysml:dc902210-e855-46b4-a2dd-8255fef19514\" xlink:actuate=\"onRequest\" xlink:href=\"psysml:dc902210-e855-46b4-a2dd-8255fef19514\" xlink:show=\"new\" xlink:title=\"psysml:dc902210-e855-46b4-a2dd-8255fef19514\" xlink:type=\"simple\"><rect fill=\"#FEFECE\" filter=\"url(#fg02vjukitpqn)\" height=\"58.7422\" id=\"E2\" style=\"stroke: #A80036; stroke-width: 1.5;\" width=\"92\" x=\"161\" y=\"291.5\"/><ellipse cx=\"176\" cy=\"310.4688\" fill=\"#0000FF\" rx=\"11\" ry=\"11\" style=\"stroke: #A80036; stroke-width: 1.0;\"/><path d=\"M176.8438,317.2188 L174.3906,317.2188 L174.3906,306.9688 L171.25,306.9688 L171.25,304.8281 L179.9844,304.8281 L179.9844,306.9688 L176.8438,306.9688 L176.8438,317.2188 Z \"/><text fill=\"#000000\" font-family=\"sans-serif\" font-size=\"12\" font-style=\"italic\" lengthAdjust=\"spacingAndGlyphs\" textLength=\"64\" x=\"188\" y=\"307.6387\">«part def»</text><text fill=\"#000000\" font-family=\"sans-serif\" font-size=\"12\" lengthAdjust=\"spacingAndGlyphs\" textLength=\"8\" x=\"216\" y=\"321.6074\">P</text><line style=\"stroke: #A80036; stroke-width: 1.5;\" x1=\"162\" x2=\"252\" y1=\"329.4375\" y2=\"329.4375\"/><text fill=\"#000000\" font-family=\"sans-serif\" font-size=\"11\" lengthAdjust=\"spacingAndGlyphs\" textLength=\"7\" x=\"167\" y=\"343.6479\">a</text></a><!--MD5=[09b614a08d8cba4a07c9adeb5e0fee81]\n",
       "class E3--><a href=\"psysml:b52c8837-30af-42aa-bc51-100eaed5de80\" target=\"_top\" title=\"psysml:b52c8837-30af-42aa-bc51-100eaed5de80\" xlink:actuate=\"onRequest\" xlink:href=\"psysml:b52c8837-30af-42aa-bc51-100eaed5de80\" xlink:show=\"new\" xlink:title=\"psysml:b52c8837-30af-42aa-bc51-100eaed5de80\" xlink:type=\"simple\"><rect fill=\"#FEFECE\" filter=\"url(#fg02vjukitpqn)\" height=\"45.9375\" id=\"E3\" style=\"stroke: #A80036; stroke-width: 1.5;\" width=\"92\" x=\"163\" y=\"155\"/><ellipse cx=\"178\" cy=\"173.9688\" fill=\"#0000FF\" rx=\"11\" ry=\"11\" style=\"stroke: #A80036; stroke-width: 1.0;\"/><path d=\"M178.8438,180.7188 L176.3906,180.7188 L176.3906,170.4688 L173.25,170.4688 L173.25,168.3281 L181.9844,168.3281 L181.9844,170.4688 L178.8438,170.4688 L178.8438,180.7188 Z \"/><text fill=\"#000000\" font-family=\"sans-serif\" font-size=\"12\" font-style=\"italic\" lengthAdjust=\"spacingAndGlyphs\" textLength=\"64\" x=\"190\" y=\"171.1387\">«part def»</text><text fill=\"#000000\" font-family=\"sans-serif\" font-size=\"12\" lengthAdjust=\"spacingAndGlyphs\" textLength=\"9\" x=\"217.5\" y=\"185.1074\">Q</text><line style=\"stroke: #A80036; stroke-width: 1.5;\" x1=\"164\" x2=\"254\" y1=\"192.9375\" y2=\"192.9375\"/></a><!--MD5=[ebbe1d658d1005bcc118a6aa81145e00]\n",
       "class E4--><a href=\"psysml:f17815b8-46c4-4dd9-bf70-524ba6c03f24\" target=\"_top\" title=\"psysml:f17815b8-46c4-4dd9-bf70-524ba6c03f24\" xlink:actuate=\"onRequest\" xlink:href=\"psysml:f17815b8-46c4-4dd9-bf70-524ba6c03f24\" xlink:show=\"new\" xlink:title=\"psysml:f17815b8-46c4-4dd9-bf70-524ba6c03f24\" xlink:type=\"simple\"><rect fill=\"#FEFECE\" filter=\"url(#fg02vjukitpqn)\" height=\"45.9375\" id=\"E4\" style=\"stroke: #A80036; stroke-width: 1.5;\" width=\"121\" x=\"260.5\" y=\"41\"/><ellipse cx=\"275.5\" cy=\"59.9688\" fill=\"#0000FF\" rx=\"11\" ry=\"11\" style=\"stroke: #A80036; stroke-width: 1.0;\"/><path d=\"M276.3438,66.7188 L273.8906,66.7188 L273.8906,56.4688 L270.75,56.4688 L270.75,54.3281 L279.4844,54.3281 L279.4844,56.4688 L276.3438,56.4688 L276.3438,66.7188 Z \"/><text fill=\"#000000\" font-family=\"sans-serif\" font-size=\"12\" font-style=\"italic\" lengthAdjust=\"spacingAndGlyphs\" textLength=\"93\" x=\"287.5\" y=\"57.1387\">«attribute def»</text><text fill=\"#000000\" font-family=\"sans-serif\" font-size=\"12\" lengthAdjust=\"spacingAndGlyphs\" textLength=\"8\" x=\"330\" y=\"71.1074\">B</text><line style=\"stroke: #A80036; stroke-width: 1.5;\" x1=\"261.5\" x2=\"380.5\" y1=\"78.9375\" y2=\"78.9375\"/></a><!--MD5=[270fce915f116d4de14055a7c1d9a0f3]\n",
       "class E5--><a href=\"psysml:b1ebe526-c40e-4c8f-ae74-16f7fcd1bdc9\" target=\"_top\" title=\"psysml:b1ebe526-c40e-4c8f-ae74-16f7fcd1bdc9\" xlink:actuate=\"onRequest\" xlink:href=\"psysml:b1ebe526-c40e-4c8f-ae74-16f7fcd1bdc9\" xlink:show=\"new\" xlink:title=\"psysml:b1ebe526-c40e-4c8f-ae74-16f7fcd1bdc9\" xlink:type=\"simple\"><rect fill=\"#FEFECE\" filter=\"url(#fg02vjukitpqn)\" height=\"45.9375\" id=\"E5\" style=\"stroke: #A80036; stroke-width: 1.5;\" width=\"92\" x=\"290\" y=\"155\"/><ellipse cx=\"305\" cy=\"173.9688\" fill=\"#0000FF\" rx=\"11\" ry=\"11\" style=\"stroke: #A80036; stroke-width: 1.0;\"/><path d=\"M305.8438,180.7188 L303.3906,180.7188 L303.3906,170.4688 L300.25,170.4688 L300.25,168.3281 L308.9844,168.3281 L308.9844,170.4688 L305.8438,170.4688 L305.8438,180.7188 Z \"/><text fill=\"#000000\" font-family=\"sans-serif\" font-size=\"12\" font-style=\"italic\" lengthAdjust=\"spacingAndGlyphs\" textLength=\"64\" x=\"317\" y=\"171.1387\">«part def»</text><text fill=\"#000000\" font-family=\"sans-serif\" font-size=\"12\" lengthAdjust=\"spacingAndGlyphs\" textLength=\"8\" x=\"345\" y=\"185.1074\">V</text><line style=\"stroke: #A80036; stroke-width: 1.5;\" x1=\"291\" x2=\"381\" y1=\"192.9375\" y2=\"192.9375\"/></a><!--MD5=[60a26617385b1d2d0262a64233df1f8d]\n",
       "class E6--><a href=\"psysml:05419eac-6c2b-46e9-bd3b-b31f448a077a\" target=\"_top\" title=\"psysml:05419eac-6c2b-46e9-bd3b-b31f448a077a\" xlink:actuate=\"onRequest\" xlink:href=\"psysml:05419eac-6c2b-46e9-bd3b-b31f448a077a\" xlink:show=\"new\" xlink:title=\"psysml:05419eac-6c2b-46e9-bd3b-b31f448a077a\" xlink:type=\"simple\"><rect fill=\"#FEFECE\" filter=\"url(#fg02vjukitpqn)\" height=\"71.5469\" id=\"E6\" rx=\"10\" ry=\"10\" style=\"stroke: #A80036; stroke-width: 1.5;\" width=\"68\" x=\"288\" y=\"285\"/><ellipse cx=\"303\" cy=\"303.9688\" fill=\"#0000FF\" rx=\"11\" ry=\"11\" style=\"stroke: #A80036; stroke-width: 1.0;\"/><path d=\"M303.8438,310.7188 L301.3906,310.7188 L301.3906,300.4688 L298.25,300.4688 L298.25,298.3281 L306.9844,298.3281 L306.9844,300.4688 L303.8438,300.4688 L303.8438,310.7188 Z \"/><text fill=\"#000000\" font-family=\"sans-serif\" font-size=\"12\" font-style=\"italic\" lengthAdjust=\"spacingAndGlyphs\" textLength=\"40\" x=\"315\" y=\"301.1387\">«part»</text><text fill=\"#000000\" font-family=\"sans-serif\" font-size=\"12\" lengthAdjust=\"spacingAndGlyphs\" textLength=\"23\" x=\"323.5\" y=\"315.1074\">x: Q</text><line style=\"stroke: #A80036; stroke-width: 1.5;\" x1=\"289\" x2=\"355\" y1=\"322.9375\" y2=\"322.9375\"/><text fill=\"#000000\" font-family=\"sans-serif\" font-size=\"11\" lengthAdjust=\"spacingAndGlyphs\" textLength=\"23\" x=\"294\" y=\"337.1479\">b: B</text><text fill=\"#000000\" font-family=\"sans-serif\" font-size=\"11\" font-style=\"italic\" lengthAdjust=\"spacingAndGlyphs\" textLength=\"44\" x=\"294\" y=\"349.9526\">:&gt;&gt;P::a</text></a><!--MD5=[2156ba9850f5573cc1fc38a6a4b2f02b]\n",
       "class E7--><a href=\"psysml:bd66bfa4-4cf8-4e62-98d6-c8549fcb8467\" target=\"_top\" title=\"psysml:bd66bfa4-4cf8-4e62-98d6-c8549fcb8467\" xlink:actuate=\"onRequest\" xlink:href=\"psysml:bd66bfa4-4cf8-4e62-98d6-c8549fcb8467\" xlink:show=\"new\" xlink:title=\"psysml:bd66bfa4-4cf8-4e62-98d6-c8549fcb8467\" xlink:type=\"simple\"><rect fill=\"#FEFECE\" filter=\"url(#fg02vjukitpqn)\" height=\"45.9375\" id=\"E7\" rx=\"10\" ry=\"10\" style=\"stroke: #A80036; stroke-width: 1.5;\" width=\"68\" x=\"157\" y=\"41\"/><ellipse cx=\"172\" cy=\"59.9688\" fill=\"#0000FF\" rx=\"11\" ry=\"11\" style=\"stroke: #A80036; stroke-width: 1.0;\"/><path d=\"M172.8438,66.7188 L170.3906,66.7188 L170.3906,56.4688 L167.25,56.4688 L167.25,54.3281 L175.9844,54.3281 L175.9844,56.4688 L172.8438,56.4688 L172.8438,66.7188 Z \"/><text fill=\"#000000\" font-family=\"sans-serif\" font-size=\"12\" font-style=\"italic\" lengthAdjust=\"spacingAndGlyphs\" textLength=\"40\" x=\"184\" y=\"57.1387\">«part»</text><text fill=\"#000000\" font-family=\"sans-serif\" font-size=\"12\" lengthAdjust=\"spacingAndGlyphs\" textLength=\"25\" x=\"191.5\" y=\"71.1074\">q: Q</text><line style=\"stroke: #A80036; stroke-width: 1.5;\" x1=\"158\" x2=\"224\" y1=\"78.9375\" y2=\"78.9375\"/></a><!--MD5=[b9389687b975829384b498ac4b7476b2]\n",
       "class E8--><a href=\"psysml:d11ba367-2498-4d3b-bf9a-6df5f0bc7068\" target=\"_top\" title=\"psysml:d11ba367-2498-4d3b-bf9a-6df5f0bc7068\" xlink:actuate=\"onRequest\" xlink:href=\"psysml:d11ba367-2498-4d3b-bf9a-6df5f0bc7068\" xlink:show=\"new\" xlink:title=\"psysml:d11ba367-2498-4d3b-bf9a-6df5f0bc7068\" xlink:type=\"simple\"><rect fill=\"#FEFECE\" filter=\"url(#fg02vjukitpqn)\" height=\"59.9063\" id=\"E8\" rx=\"10\" ry=\"10\" style=\"stroke: #A80036; stroke-width: 1.5;\" width=\"96\" x=\"32\" y=\"148\"/><ellipse cx=\"47\" cy=\"173.9531\" fill=\"#0000FF\" rx=\"11\" ry=\"11\" style=\"stroke: #A80036; stroke-width: 1.0;\"/><path d=\"M47.8438,180.7031 L45.3906,180.7031 L45.3906,170.4531 L42.25,170.4531 L42.25,168.3125 L50.9844,168.3125 L50.9844,170.4531 L47.8438,170.4531 L47.8438,180.7031 Z \"/><text fill=\"#000000\" font-family=\"sans-serif\" font-size=\"12\" font-style=\"italic\" lengthAdjust=\"spacingAndGlyphs\" textLength=\"68\" x=\"59\" y=\"164.1387\">«variation»</text><text fill=\"#000000\" font-family=\"sans-serif\" font-size=\"12\" font-style=\"italic\" lengthAdjust=\"spacingAndGlyphs\" textLength=\"40\" x=\"73\" y=\"178.1074\">«part»</text><text fill=\"#000000\" font-family=\"sans-serif\" font-size=\"12\" lengthAdjust=\"spacingAndGlyphs\" textLength=\"22\" x=\"82\" y=\"192.0762\">v: P</text><line style=\"stroke: #A80036; stroke-width: 1.5;\" x1=\"33\" x2=\"127\" y1=\"199.9063\" y2=\"199.9063\"/></a><!--MD5=[fd4143e9d270a159db93a4ea2a975926]\n",
       "class E9--><a href=\"psysml:72597939-8390-466d-9479-39928477d122\" target=\"_top\" title=\"psysml:72597939-8390-466d-9479-39928477d122\" xlink:actuate=\"onRequest\" xlink:href=\"psysml:72597939-8390-466d-9479-39928477d122\" xlink:show=\"new\" xlink:title=\"psysml:72597939-8390-466d-9479-39928477d122\" xlink:type=\"simple\"><rect fill=\"#FEFECE\" filter=\"url(#fg02vjukitpqn)\" height=\"71.5469\" id=\"E9\" rx=\"10\" ry=\"10\" style=\"stroke: #A80036; stroke-width: 1.5;\" width=\"68\" x=\"46\" y=\"285\"/><ellipse cx=\"61\" cy=\"303.9688\" fill=\"#0000FF\" rx=\"11\" ry=\"11\" style=\"stroke: #A80036; stroke-width: 1.0;\"/><path d=\"M61.8438,310.7188 L59.3906,310.7188 L59.3906,300.4688 L56.25,300.4688 L56.25,298.3281 L64.9844,298.3281 L64.9844,300.4688 L61.8438,300.4688 L61.8438,310.7188 Z \"/><text fill=\"#000000\" font-family=\"sans-serif\" font-size=\"12\" font-style=\"italic\" lengthAdjust=\"spacingAndGlyphs\" textLength=\"40\" x=\"73\" y=\"301.1387\">«part»</text><text fill=\"#000000\" font-family=\"sans-serif\" font-size=\"12\" lengthAdjust=\"spacingAndGlyphs\" textLength=\"6\" x=\"90\" y=\"315.1074\">y</text><line style=\"stroke: #A80036; stroke-width: 1.5;\" x1=\"47\" x2=\"113\" y1=\"322.9375\" y2=\"322.9375\"/><text fill=\"#000000\" font-family=\"sans-serif\" font-size=\"11\" lengthAdjust=\"spacingAndGlyphs\" textLength=\"23\" x=\"52\" y=\"337.1479\">b: B</text><text fill=\"#000000\" font-family=\"sans-serif\" font-size=\"11\" font-style=\"italic\" lengthAdjust=\"spacingAndGlyphs\" textLength=\"44\" x=\"52\" y=\"349.9526\">:&gt;&gt;P::a</text></a><!--MD5=[05d275557350bfb9b23a4ef7222b4c39]\n",
       "link E3 to E2--><a href=\"psysml:0057605f-0b36-40b5-a833-d8040f0d9e74\" target=\"_top\" title=\"psysml:0057605f-0b36-40b5-a833-d8040f0d9e74\" xlink:actuate=\"onRequest\" xlink:href=\"psysml:0057605f-0b36-40b5-a833-d8040f0d9e74\" xlink:show=\"new\" xlink:title=\"psysml:0057605f-0b36-40b5-a833-d8040f0d9e74\" xlink:type=\"simple\"><path d=\"M208.69,201.03 C208.42,219.75 208.03,247.29 207.69,271.17 \" fill=\"none\" id=\"E3-&gt;E2\" style=\"stroke: #A80036; stroke-width: 1.0;\"/><polygon fill=\"none\" points=\"214.69,271.4,207.41,291.3,200.69,271.2,214.69,271.4\" style=\"stroke: #A80036; stroke-width: 1.0;\"/></a><!--MD5=[15ebcb19ae302d9b601edb458606d402]\n",
       "link E5 to E2--><a href=\"psysml:922ee1f9-edf0-4204-bf0f-0435eb6f66de\" target=\"_top\" title=\"psysml:922ee1f9-edf0-4204-bf0f-0435eb6f66de\" xlink:actuate=\"onRequest\" xlink:href=\"psysml:922ee1f9-edf0-4204-bf0f-0435eb6f66de\" xlink:show=\"new\" xlink:title=\"psysml:922ee1f9-edf0-4204-bf0f-0435eb6f66de\" xlink:type=\"simple\"><path d=\"M315.84,201.03 C297.5,221.08 269.89,251.25 247.07,276.2 \" fill=\"none\" id=\"E5-&gt;E2\" style=\"stroke: #A80036; stroke-width: 1.0;\"/><polygon fill=\"none\" points=\"251.93,281.27,233.26,291.3,241.6,271.82,251.93,281.27\" style=\"stroke: #A80036; stroke-width: 1.0;\"/></a><!--MD5=[9120cf2e5df3bff93db8f754bbbc09b4]\n",
       "link E5 to E6--><a href=\"psysml:1c0ef759-8c31-4a4a-b0e7-e872c2806a04\" target=\"_top\" title=\"psysml:1c0ef759-8c31-4a4a-b0e7-e872c2806a04\" xlink:actuate=\"onRequest\" xlink:href=\"psysml:1c0ef759-8c31-4a4a-b0e7-e872c2806a04\" xlink:show=\"new\" xlink:title=\"psysml:1c0ef759-8c31-4a4a-b0e7-e872c2806a04\" xlink:type=\"simple\"><path d=\"M332.8,211.2 C330.93,230.03 328.54,254.09 326.49,274.8 \" fill=\"none\" id=\"E5-E6\" style=\"stroke: #A80036; stroke-width: 1.0;\"/><polygon fill=\"#A80036\" points=\"325.48,284.96,329.2535,277.2945,323.2827,276.7034,325.48,284.96\" style=\"stroke: #A80036; stroke-width: 1.0;\"/><path d=\"M325.0907,203.2601 A9,9 0 0 0 341.9229 204.9264\" fill=\"none\" style=\"stroke: #A80036; stroke-width: 1.5;\"/><text fill=\"#000000\" font-family=\"sans-serif\" font-size=\"13\" lengthAdjust=\"spacingAndGlyphs\" textLength=\"60\" x=\"330\" y=\"251.0669\">«variant»</text></a><!--MD5=[14ccda38c055a5c0da953d572bc50960]\n",
       "link E7 to E3--><a href=\"psysml:6aa04dcc-8d2e-4853-a2ca-5b94913b0044\" target=\"_top\" title=\"psysml:6aa04dcc-8d2e-4853-a2ca-5b94913b0044\" xlink:actuate=\"onRequest\" xlink:href=\"psysml:6aa04dcc-8d2e-4853-a2ca-5b94913b0044\" xlink:show=\"new\" xlink:title=\"psysml:6aa04dcc-8d2e-4853-a2ca-5b94913b0044\" xlink:type=\"simple\"><path d=\"M194.56,87.13 C196.75,100.78 199.64,118.74 202.25,135 \" fill=\"none\" id=\"E7-&gt;E3\" style=\"stroke: #A80036; stroke-width: 1.0;\"/><polygon fill=\"#FFFFFF\" points=\"205.45,154.92,195.5251,137.2707,209.3479,135.0503,205.45,154.92\" style=\"stroke: #A80036; stroke-width: 1.0;\"/><ellipse cx=\"196.5958\" cy=\"131.3257\" fill=\"#A80036\" rx=\"2\" ry=\"2\" style=\"stroke: #A80036; stroke-width: 1.0;\"/><ellipse cx=\"206.4692\" cy=\"129.7396\" fill=\"#A80036\" rx=\"2\" ry=\"2\" style=\"stroke: #A80036; stroke-width: 1.0;\"/></a><!--MD5=[f1f3f9f2fc535e6147756cb86a7f2e32]\n",
       "link E8 to E2--><a href=\"psysml:62998d3a-e41b-4231-af2c-a0f2b465e4e7\" target=\"_top\" title=\"psysml:62998d3a-e41b-4231-af2c-a0f2b465e4e7\" xlink:actuate=\"onRequest\" xlink:href=\"psysml:62998d3a-e41b-4231-af2c-a0f2b465e4e7\" xlink:show=\"new\" xlink:title=\"psysml:62998d3a-e41b-4231-af2c-a0f2b465e4e7\" xlink:type=\"simple\"><path d=\"M118.34,208.22 C129.11,217.23 140.47,227.54 150,238 C160.16,249.15 170,262.19 178.56,274.55 \" fill=\"none\" id=\"E8-&gt;E2\" style=\"stroke: #A80036; stroke-width: 1.0;\"/><polygon fill=\"#FFFFFF\" points=\"189.71,291.3,173.3582,279.3577,185.0146,271.6035,189.71,291.3\" style=\"stroke: #A80036; stroke-width: 1.0;\"/><ellipse cx=\"171.8663\" cy=\"273.5042\" fill=\"#A80036\" rx=\"2\" ry=\"2\" style=\"stroke: #A80036; stroke-width: 1.0;\"/><ellipse cx=\"180.1923\" cy=\"267.9654\" fill=\"#A80036\" rx=\"2\" ry=\"2\" style=\"stroke: #A80036; stroke-width: 1.0;\"/></a><!--MD5=[ed10624c06dd9a4fa49ccf290e8b16a8]\n",
       "link E8 to E9--><a href=\"psysml:196bced0-9581-41ba-9556-fc72f0b07990\" target=\"_top\" title=\"psysml:196bced0-9581-41ba-9556-fc72f0b07990\" xlink:actuate=\"onRequest\" xlink:href=\"psysml:196bced0-9581-41ba-9556-fc72f0b07990\" xlink:show=\"new\" xlink:title=\"psysml:196bced0-9581-41ba-9556-fc72f0b07990\" xlink:type=\"simple\"><path d=\"M80,218.35 C80,235.87 80,256.61 80,274.77 \" fill=\"none\" id=\"E8-E9\" style=\"stroke: #A80036; stroke-width: 1.0;\"/><polygon fill=\"#A80036\" points=\"80,284.83,83,276.83,77,276.83,80,284.83\" style=\"stroke: #A80036; stroke-width: 1.0;\"/><path d=\"M71.5428,211.2982 A9,9 0 0 0 88.4572 211.2982\" fill=\"none\" style=\"stroke: #A80036; stroke-width: 1.5;\"/><text fill=\"#000000\" font-family=\"sans-serif\" font-size=\"13\" lengthAdjust=\"spacingAndGlyphs\" textLength=\"60\" x=\"81\" y=\"251.0669\">«variant»</text></a><!--MD5=[293c00ddc430504143c6869641d8c045]\n",
       "@startuml\r\n",
       " \r\n",
       "package \"VariabilityTest\" as E1  [[psysml:fc405a6c-3061-4540-9673-8b8e766ba6ac ]]  {\r\n",
       "comp def \"P\" as E2  <<(T,blue)part def>> [[psysml:dc902210-e855-46b4-a2dd-8255fef19514 ]] {\r\n",
       "a\r\n",
       "}\r\n",
       "comp def \"Q\" as E3  <<(T,blue)part def>> [[psysml:b52c8837-30af-42aa-bc51-100eaed5de80 ]] {\r\n",
       "}\r\n",
       "comp def \"B\" as E4  <<(T,blue)attribute def>> [[psysml:f17815b8-46c4-4dd9-bf70-524ba6c03f24 ]] {\r\n",
       "}\r\n",
       "comp def \"V\" as E5  <<(T,blue)part def>> [[psysml:b1ebe526-c40e-4c8f-ae74-16f7fcd1bdc9 ]] {\r\n",
       "}\r\n",
       "comp usage \"x: Q\" as E6  <<(T,blue)part>> [[psysml:05419eac-6c2b-46e9-bd3b-b31f448a077a ]] {\r\n",
       "b: B\\n//:>>P::a// \r\n",
       "}\r\n",
       "comp usage \"q: Q\" as E7  <<(T,blue)part>> [[psysml:bd66bfa4-4cf8-4e62-98d6-c8549fcb8467 ]] {\r\n",
       "}\r\n",
       "comp usage \"v: P\" as E8  <<variation>>\\n <<(T,blue)part>> [[psysml:d11ba367-2498-4d3b-bf9a-6df5f0bc7068 ]] {\r\n",
       "}\r\n",
       "comp usage \"y\" as E9  <<(T,blue)part>> [[psysml:72597939-8390-466d-9479-39928477d122 ]] {\r\n",
       "b: B\\n//:>>P::a// \r\n",
       "}\r\n",
       "E3 - -|> E2 [[psysml:0057605f-0b36-40b5-a833-d8040f0d9e74 ]] \r\n",
       "E5 - -|> E2 [[psysml:922ee1f9-edf0-4204-bf0f-0435eb6f66de ]] \r\n",
       "E5 )- ->> E6 [[psysml:1c0ef759-8c31-4a4a-b0e7-e872c2806a04 ]] : <<variant>>\r\n",
       "E7 - -:|> E3 [[psysml:6aa04dcc-8d2e-4853-a2ca-5b94913b0044 ]] \r\n",
       "E8 - -:|> E2 [[psysml:62998d3a-e41b-4231-af2c-a0f2b465e4e7 ]] \r\n",
       "E8 )- ->> E9 [[psysml:196bced0-9581-41ba-9556-fc72f0b07990 ]] : <<variant>>\r\n",
       "}\r\n",
       "@enduml\r\n",
       "\n",
       "PlantUML version 1.2020.13(Sat Jun 13 12:26:38 UTC 2020)\n",
       "(EPL source distribution)\n",
       "Java Runtime: OpenJDK Runtime Environment\n",
       "JVM: OpenJDK 64-Bit Server VM\n",
       "Default Encoding: UTF-8\n",
       "Language: en\n",
       "Country: null\n",
       "--></g></svg>"
      ]
     },
     "execution_count": 7,
     "metadata": {},
     "output_type": "execute_result"
    }
   ],
   "source": [
    "%viz --style=\"COMPTREE\" --view=\"Sequence\" \"VariabilityTest\""
   ]
  },
  {
   "cell_type": "code",
   "execution_count": 8,
   "id": "opposite-toolbox",
   "metadata": {
    "execution": {
     "iopub.execute_input": "2021-03-25T15:07:36.984196Z",
     "iopub.status.busy": "2021-03-25T15:07:36.983374Z",
     "iopub.status.idle": "2021-03-25T15:07:37.241537Z",
     "shell.execute_reply": "2021-03-25T15:07:37.241217Z"
    }
   },
   "outputs": [
    {
     "data": {
      "image/svg+xml": [
       "<?xml version=\"1.0\" encoding=\"UTF-8\" standalone=\"no\"?><svg xmlns=\"http://www.w3.org/2000/svg\" xmlns:xlink=\"http://www.w3.org/1999/xlink\" contentScriptType=\"application/ecmascript\" contentStyleType=\"text/css\" height=\"385px\" preserveAspectRatio=\"none\" style=\"width:420px;height:385px;\" version=\"1.1\" viewBox=\"0 0 420 385\" width=\"420px\" zoomAndPan=\"magnify\"><defs><filter height=\"300%\" id=\"fg02vjukitpqn\" width=\"300%\" x=\"-1\" y=\"-1\"><feGaussianBlur result=\"blurOut\" stdDeviation=\"2.0\"/><feColorMatrix in=\"blurOut\" result=\"blurOut2\" type=\"matrix\" values=\"0 0 0 0 0 0 0 0 0 0 0 0 0 0 0 0 0 0 .4 0\"/><feOffset dx=\"4.0\" dy=\"4.0\" in=\"blurOut2\" result=\"blurOut3\"/><feBlend in=\"SourceGraphic\" in2=\"blurOut3\" mode=\"normal\"/></filter></defs><g><!--MD5=[fbc87193dbaf4d95561dea2c320d4a47]\n",
       "cluster E1--><a href=\"psysml:fc405a6c-3061-4540-9673-8b8e766ba6ac\" target=\"_top\" title=\"psysml:fc405a6c-3061-4540-9673-8b8e766ba6ac\" xlink:actuate=\"onRequest\" xlink:href=\"psysml:fc405a6c-3061-4540-9673-8b8e766ba6ac\" xlink:show=\"new\" xlink:title=\"psysml:fc405a6c-3061-4540-9673-8b8e766ba6ac\" xlink:type=\"simple\"><polygon fill=\"#FFFFFF\" filter=\"url(#fg02vjukitpqn)\" points=\"16,6,134,6,141,28.2969,398,28.2969,398,373,16,373,16,6\" style=\"stroke: #000000; stroke-width: 1.5;\"/><line style=\"stroke: #000000; stroke-width: 1.5;\" x1=\"16\" x2=\"141\" y1=\"28.2969\" y2=\"28.2969\"/><text fill=\"#000000\" font-family=\"sans-serif\" font-size=\"14\" font-weight=\"bold\" lengthAdjust=\"spacingAndGlyphs\" textLength=\"112\" x=\"20\" y=\"20.9951\">VariabilityTest</text></a><!--MD5=[b4997ac47864f28c2f74865a473b2911]\n",
       "class E2--><a href=\"psysml:dc902210-e855-46b4-a2dd-8255fef19514\" target=\"_top\" title=\"psysml:dc902210-e855-46b4-a2dd-8255fef19514\" xlink:actuate=\"onRequest\" xlink:href=\"psysml:dc902210-e855-46b4-a2dd-8255fef19514\" xlink:show=\"new\" xlink:title=\"psysml:dc902210-e855-46b4-a2dd-8255fef19514\" xlink:type=\"simple\"><rect fill=\"#FEFECE\" filter=\"url(#fg02vjukitpqn)\" height=\"58.7422\" id=\"E2\" style=\"stroke: #A80036; stroke-width: 1.5;\" width=\"92\" x=\"161\" y=\"291.5\"/><ellipse cx=\"176\" cy=\"310.4688\" fill=\"#0000FF\" rx=\"11\" ry=\"11\" style=\"stroke: #A80036; stroke-width: 1.0;\"/><path d=\"M176.8438,317.2188 L174.3906,317.2188 L174.3906,306.9688 L171.25,306.9688 L171.25,304.8281 L179.9844,304.8281 L179.9844,306.9688 L176.8438,306.9688 L176.8438,317.2188 Z \"/><text fill=\"#000000\" font-family=\"sans-serif\" font-size=\"12\" font-style=\"italic\" lengthAdjust=\"spacingAndGlyphs\" textLength=\"64\" x=\"188\" y=\"307.6387\">«part def»</text><text fill=\"#000000\" font-family=\"sans-serif\" font-size=\"12\" lengthAdjust=\"spacingAndGlyphs\" textLength=\"8\" x=\"216\" y=\"321.6074\">P</text><line style=\"stroke: #A80036; stroke-width: 1.5;\" x1=\"162\" x2=\"252\" y1=\"329.4375\" y2=\"329.4375\"/><text fill=\"#000000\" font-family=\"sans-serif\" font-size=\"11\" lengthAdjust=\"spacingAndGlyphs\" textLength=\"7\" x=\"167\" y=\"343.6479\">a</text></a><!--MD5=[09b614a08d8cba4a07c9adeb5e0fee81]\n",
       "class E3--><a href=\"psysml:b52c8837-30af-42aa-bc51-100eaed5de80\" target=\"_top\" title=\"psysml:b52c8837-30af-42aa-bc51-100eaed5de80\" xlink:actuate=\"onRequest\" xlink:href=\"psysml:b52c8837-30af-42aa-bc51-100eaed5de80\" xlink:show=\"new\" xlink:title=\"psysml:b52c8837-30af-42aa-bc51-100eaed5de80\" xlink:type=\"simple\"><rect fill=\"#FEFECE\" filter=\"url(#fg02vjukitpqn)\" height=\"45.9375\" id=\"E3\" style=\"stroke: #A80036; stroke-width: 1.5;\" width=\"92\" x=\"163\" y=\"155\"/><ellipse cx=\"178\" cy=\"173.9688\" fill=\"#0000FF\" rx=\"11\" ry=\"11\" style=\"stroke: #A80036; stroke-width: 1.0;\"/><path d=\"M178.8438,180.7188 L176.3906,180.7188 L176.3906,170.4688 L173.25,170.4688 L173.25,168.3281 L181.9844,168.3281 L181.9844,170.4688 L178.8438,170.4688 L178.8438,180.7188 Z \"/><text fill=\"#000000\" font-family=\"sans-serif\" font-size=\"12\" font-style=\"italic\" lengthAdjust=\"spacingAndGlyphs\" textLength=\"64\" x=\"190\" y=\"171.1387\">«part def»</text><text fill=\"#000000\" font-family=\"sans-serif\" font-size=\"12\" lengthAdjust=\"spacingAndGlyphs\" textLength=\"9\" x=\"217.5\" y=\"185.1074\">Q</text><line style=\"stroke: #A80036; stroke-width: 1.5;\" x1=\"164\" x2=\"254\" y1=\"192.9375\" y2=\"192.9375\"/></a><!--MD5=[ebbe1d658d1005bcc118a6aa81145e00]\n",
       "class E4--><a href=\"psysml:f17815b8-46c4-4dd9-bf70-524ba6c03f24\" target=\"_top\" title=\"psysml:f17815b8-46c4-4dd9-bf70-524ba6c03f24\" xlink:actuate=\"onRequest\" xlink:href=\"psysml:f17815b8-46c4-4dd9-bf70-524ba6c03f24\" xlink:show=\"new\" xlink:title=\"psysml:f17815b8-46c4-4dd9-bf70-524ba6c03f24\" xlink:type=\"simple\"><rect fill=\"#FEFECE\" filter=\"url(#fg02vjukitpqn)\" height=\"45.9375\" id=\"E4\" style=\"stroke: #A80036; stroke-width: 1.5;\" width=\"121\" x=\"260.5\" y=\"41\"/><ellipse cx=\"275.5\" cy=\"59.9688\" fill=\"#0000FF\" rx=\"11\" ry=\"11\" style=\"stroke: #A80036; stroke-width: 1.0;\"/><path d=\"M276.3438,66.7188 L273.8906,66.7188 L273.8906,56.4688 L270.75,56.4688 L270.75,54.3281 L279.4844,54.3281 L279.4844,56.4688 L276.3438,56.4688 L276.3438,66.7188 Z \"/><text fill=\"#000000\" font-family=\"sans-serif\" font-size=\"12\" font-style=\"italic\" lengthAdjust=\"spacingAndGlyphs\" textLength=\"93\" x=\"287.5\" y=\"57.1387\">«attribute def»</text><text fill=\"#000000\" font-family=\"sans-serif\" font-size=\"12\" lengthAdjust=\"spacingAndGlyphs\" textLength=\"8\" x=\"330\" y=\"71.1074\">B</text><line style=\"stroke: #A80036; stroke-width: 1.5;\" x1=\"261.5\" x2=\"380.5\" y1=\"78.9375\" y2=\"78.9375\"/></a><!--MD5=[270fce915f116d4de14055a7c1d9a0f3]\n",
       "class E5--><a href=\"psysml:b1ebe526-c40e-4c8f-ae74-16f7fcd1bdc9\" target=\"_top\" title=\"psysml:b1ebe526-c40e-4c8f-ae74-16f7fcd1bdc9\" xlink:actuate=\"onRequest\" xlink:href=\"psysml:b1ebe526-c40e-4c8f-ae74-16f7fcd1bdc9\" xlink:show=\"new\" xlink:title=\"psysml:b1ebe526-c40e-4c8f-ae74-16f7fcd1bdc9\" xlink:type=\"simple\"><rect fill=\"#FEFECE\" filter=\"url(#fg02vjukitpqn)\" height=\"45.9375\" id=\"E5\" style=\"stroke: #A80036; stroke-width: 1.5;\" width=\"92\" x=\"290\" y=\"155\"/><ellipse cx=\"305\" cy=\"173.9688\" fill=\"#0000FF\" rx=\"11\" ry=\"11\" style=\"stroke: #A80036; stroke-width: 1.0;\"/><path d=\"M305.8438,180.7188 L303.3906,180.7188 L303.3906,170.4688 L300.25,170.4688 L300.25,168.3281 L308.9844,168.3281 L308.9844,170.4688 L305.8438,170.4688 L305.8438,180.7188 Z \"/><text fill=\"#000000\" font-family=\"sans-serif\" font-size=\"12\" font-style=\"italic\" lengthAdjust=\"spacingAndGlyphs\" textLength=\"64\" x=\"317\" y=\"171.1387\">«part def»</text><text fill=\"#000000\" font-family=\"sans-serif\" font-size=\"12\" lengthAdjust=\"spacingAndGlyphs\" textLength=\"8\" x=\"345\" y=\"185.1074\">V</text><line style=\"stroke: #A80036; stroke-width: 1.5;\" x1=\"291\" x2=\"381\" y1=\"192.9375\" y2=\"192.9375\"/></a><!--MD5=[60a26617385b1d2d0262a64233df1f8d]\n",
       "class E6--><a href=\"psysml:05419eac-6c2b-46e9-bd3b-b31f448a077a\" target=\"_top\" title=\"psysml:05419eac-6c2b-46e9-bd3b-b31f448a077a\" xlink:actuate=\"onRequest\" xlink:href=\"psysml:05419eac-6c2b-46e9-bd3b-b31f448a077a\" xlink:show=\"new\" xlink:title=\"psysml:05419eac-6c2b-46e9-bd3b-b31f448a077a\" xlink:type=\"simple\"><rect fill=\"#FEFECE\" filter=\"url(#fg02vjukitpqn)\" height=\"71.5469\" id=\"E6\" rx=\"10\" ry=\"10\" style=\"stroke: #A80036; stroke-width: 1.5;\" width=\"68\" x=\"288\" y=\"285\"/><ellipse cx=\"303\" cy=\"303.9688\" fill=\"#0000FF\" rx=\"11\" ry=\"11\" style=\"stroke: #A80036; stroke-width: 1.0;\"/><path d=\"M303.8438,310.7188 L301.3906,310.7188 L301.3906,300.4688 L298.25,300.4688 L298.25,298.3281 L306.9844,298.3281 L306.9844,300.4688 L303.8438,300.4688 L303.8438,310.7188 Z \"/><text fill=\"#000000\" font-family=\"sans-serif\" font-size=\"12\" font-style=\"italic\" lengthAdjust=\"spacingAndGlyphs\" textLength=\"40\" x=\"315\" y=\"301.1387\">«part»</text><text fill=\"#000000\" font-family=\"sans-serif\" font-size=\"12\" lengthAdjust=\"spacingAndGlyphs\" textLength=\"23\" x=\"323.5\" y=\"315.1074\">x: Q</text><line style=\"stroke: #A80036; stroke-width: 1.5;\" x1=\"289\" x2=\"355\" y1=\"322.9375\" y2=\"322.9375\"/><text fill=\"#000000\" font-family=\"sans-serif\" font-size=\"11\" lengthAdjust=\"spacingAndGlyphs\" textLength=\"23\" x=\"294\" y=\"337.1479\">b: B</text><text fill=\"#000000\" font-family=\"sans-serif\" font-size=\"11\" font-style=\"italic\" lengthAdjust=\"spacingAndGlyphs\" textLength=\"44\" x=\"294\" y=\"349.9526\">:&gt;&gt;P::a</text></a><!--MD5=[2156ba9850f5573cc1fc38a6a4b2f02b]\n",
       "class E7--><a href=\"psysml:bd66bfa4-4cf8-4e62-98d6-c8549fcb8467\" target=\"_top\" title=\"psysml:bd66bfa4-4cf8-4e62-98d6-c8549fcb8467\" xlink:actuate=\"onRequest\" xlink:href=\"psysml:bd66bfa4-4cf8-4e62-98d6-c8549fcb8467\" xlink:show=\"new\" xlink:title=\"psysml:bd66bfa4-4cf8-4e62-98d6-c8549fcb8467\" xlink:type=\"simple\"><rect fill=\"#FEFECE\" filter=\"url(#fg02vjukitpqn)\" height=\"45.9375\" id=\"E7\" rx=\"10\" ry=\"10\" style=\"stroke: #A80036; stroke-width: 1.5;\" width=\"68\" x=\"157\" y=\"41\"/><ellipse cx=\"172\" cy=\"59.9688\" fill=\"#0000FF\" rx=\"11\" ry=\"11\" style=\"stroke: #A80036; stroke-width: 1.0;\"/><path d=\"M172.8438,66.7188 L170.3906,66.7188 L170.3906,56.4688 L167.25,56.4688 L167.25,54.3281 L175.9844,54.3281 L175.9844,56.4688 L172.8438,56.4688 L172.8438,66.7188 Z \"/><text fill=\"#000000\" font-family=\"sans-serif\" font-size=\"12\" font-style=\"italic\" lengthAdjust=\"spacingAndGlyphs\" textLength=\"40\" x=\"184\" y=\"57.1387\">«part»</text><text fill=\"#000000\" font-family=\"sans-serif\" font-size=\"12\" lengthAdjust=\"spacingAndGlyphs\" textLength=\"25\" x=\"191.5\" y=\"71.1074\">q: Q</text><line style=\"stroke: #A80036; stroke-width: 1.5;\" x1=\"158\" x2=\"224\" y1=\"78.9375\" y2=\"78.9375\"/></a><!--MD5=[b9389687b975829384b498ac4b7476b2]\n",
       "class E8--><a href=\"psysml:d11ba367-2498-4d3b-bf9a-6df5f0bc7068\" target=\"_top\" title=\"psysml:d11ba367-2498-4d3b-bf9a-6df5f0bc7068\" xlink:actuate=\"onRequest\" xlink:href=\"psysml:d11ba367-2498-4d3b-bf9a-6df5f0bc7068\" xlink:show=\"new\" xlink:title=\"psysml:d11ba367-2498-4d3b-bf9a-6df5f0bc7068\" xlink:type=\"simple\"><rect fill=\"#FEFECE\" filter=\"url(#fg02vjukitpqn)\" height=\"59.9063\" id=\"E8\" rx=\"10\" ry=\"10\" style=\"stroke: #A80036; stroke-width: 1.5;\" width=\"96\" x=\"32\" y=\"148\"/><ellipse cx=\"47\" cy=\"173.9531\" fill=\"#0000FF\" rx=\"11\" ry=\"11\" style=\"stroke: #A80036; stroke-width: 1.0;\"/><path d=\"M47.8438,180.7031 L45.3906,180.7031 L45.3906,170.4531 L42.25,170.4531 L42.25,168.3125 L50.9844,168.3125 L50.9844,170.4531 L47.8438,170.4531 L47.8438,180.7031 Z \"/><text fill=\"#000000\" font-family=\"sans-serif\" font-size=\"12\" font-style=\"italic\" lengthAdjust=\"spacingAndGlyphs\" textLength=\"68\" x=\"59\" y=\"164.1387\">«variation»</text><text fill=\"#000000\" font-family=\"sans-serif\" font-size=\"12\" font-style=\"italic\" lengthAdjust=\"spacingAndGlyphs\" textLength=\"40\" x=\"73\" y=\"178.1074\">«part»</text><text fill=\"#000000\" font-family=\"sans-serif\" font-size=\"12\" lengthAdjust=\"spacingAndGlyphs\" textLength=\"22\" x=\"82\" y=\"192.0762\">v: P</text><line style=\"stroke: #A80036; stroke-width: 1.5;\" x1=\"33\" x2=\"127\" y1=\"199.9063\" y2=\"199.9063\"/></a><!--MD5=[fd4143e9d270a159db93a4ea2a975926]\n",
       "class E9--><a href=\"psysml:72597939-8390-466d-9479-39928477d122\" target=\"_top\" title=\"psysml:72597939-8390-466d-9479-39928477d122\" xlink:actuate=\"onRequest\" xlink:href=\"psysml:72597939-8390-466d-9479-39928477d122\" xlink:show=\"new\" xlink:title=\"psysml:72597939-8390-466d-9479-39928477d122\" xlink:type=\"simple\"><rect fill=\"#FEFECE\" filter=\"url(#fg02vjukitpqn)\" height=\"71.5469\" id=\"E9\" rx=\"10\" ry=\"10\" style=\"stroke: #A80036; stroke-width: 1.5;\" width=\"68\" x=\"46\" y=\"285\"/><ellipse cx=\"61\" cy=\"303.9688\" fill=\"#0000FF\" rx=\"11\" ry=\"11\" style=\"stroke: #A80036; stroke-width: 1.0;\"/><path d=\"M61.8438,310.7188 L59.3906,310.7188 L59.3906,300.4688 L56.25,300.4688 L56.25,298.3281 L64.9844,298.3281 L64.9844,300.4688 L61.8438,300.4688 L61.8438,310.7188 Z \"/><text fill=\"#000000\" font-family=\"sans-serif\" font-size=\"12\" font-style=\"italic\" lengthAdjust=\"spacingAndGlyphs\" textLength=\"40\" x=\"73\" y=\"301.1387\">«part»</text><text fill=\"#000000\" font-family=\"sans-serif\" font-size=\"12\" lengthAdjust=\"spacingAndGlyphs\" textLength=\"6\" x=\"90\" y=\"315.1074\">y</text><line style=\"stroke: #A80036; stroke-width: 1.5;\" x1=\"47\" x2=\"113\" y1=\"322.9375\" y2=\"322.9375\"/><text fill=\"#000000\" font-family=\"sans-serif\" font-size=\"11\" lengthAdjust=\"spacingAndGlyphs\" textLength=\"23\" x=\"52\" y=\"337.1479\">b: B</text><text fill=\"#000000\" font-family=\"sans-serif\" font-size=\"11\" font-style=\"italic\" lengthAdjust=\"spacingAndGlyphs\" textLength=\"44\" x=\"52\" y=\"349.9526\">:&gt;&gt;P::a</text></a><!--MD5=[05d275557350bfb9b23a4ef7222b4c39]\n",
       "link E3 to E2--><a href=\"psysml:0057605f-0b36-40b5-a833-d8040f0d9e74\" target=\"_top\" title=\"psysml:0057605f-0b36-40b5-a833-d8040f0d9e74\" xlink:actuate=\"onRequest\" xlink:href=\"psysml:0057605f-0b36-40b5-a833-d8040f0d9e74\" xlink:show=\"new\" xlink:title=\"psysml:0057605f-0b36-40b5-a833-d8040f0d9e74\" xlink:type=\"simple\"><path d=\"M208.69,201.03 C208.42,219.75 208.03,247.29 207.69,271.17 \" fill=\"none\" id=\"E3-&gt;E2\" style=\"stroke: #A80036; stroke-width: 1.0;\"/><polygon fill=\"none\" points=\"214.69,271.4,207.41,291.3,200.69,271.2,214.69,271.4\" style=\"stroke: #A80036; stroke-width: 1.0;\"/></a><!--MD5=[15ebcb19ae302d9b601edb458606d402]\n",
       "link E5 to E2--><a href=\"psysml:922ee1f9-edf0-4204-bf0f-0435eb6f66de\" target=\"_top\" title=\"psysml:922ee1f9-edf0-4204-bf0f-0435eb6f66de\" xlink:actuate=\"onRequest\" xlink:href=\"psysml:922ee1f9-edf0-4204-bf0f-0435eb6f66de\" xlink:show=\"new\" xlink:title=\"psysml:922ee1f9-edf0-4204-bf0f-0435eb6f66de\" xlink:type=\"simple\"><path d=\"M315.84,201.03 C297.5,221.08 269.89,251.25 247.07,276.2 \" fill=\"none\" id=\"E5-&gt;E2\" style=\"stroke: #A80036; stroke-width: 1.0;\"/><polygon fill=\"none\" points=\"251.93,281.27,233.26,291.3,241.6,271.82,251.93,281.27\" style=\"stroke: #A80036; stroke-width: 1.0;\"/></a><!--MD5=[9120cf2e5df3bff93db8f754bbbc09b4]\n",
       "link E5 to E6--><a href=\"psysml:1c0ef759-8c31-4a4a-b0e7-e872c2806a04\" target=\"_top\" title=\"psysml:1c0ef759-8c31-4a4a-b0e7-e872c2806a04\" xlink:actuate=\"onRequest\" xlink:href=\"psysml:1c0ef759-8c31-4a4a-b0e7-e872c2806a04\" xlink:show=\"new\" xlink:title=\"psysml:1c0ef759-8c31-4a4a-b0e7-e872c2806a04\" xlink:type=\"simple\"><path d=\"M332.8,211.2 C330.93,230.03 328.54,254.09 326.49,274.8 \" fill=\"none\" id=\"E5-E6\" style=\"stroke: #A80036; stroke-width: 1.0;\"/><polygon fill=\"#A80036\" points=\"325.48,284.96,329.2535,277.2945,323.2827,276.7034,325.48,284.96\" style=\"stroke: #A80036; stroke-width: 1.0;\"/><path d=\"M325.0907,203.2601 A9,9 0 0 0 341.9229 204.9264\" fill=\"none\" style=\"stroke: #A80036; stroke-width: 1.5;\"/><text fill=\"#000000\" font-family=\"sans-serif\" font-size=\"13\" lengthAdjust=\"spacingAndGlyphs\" textLength=\"60\" x=\"330\" y=\"251.0669\">«variant»</text></a><!--MD5=[14ccda38c055a5c0da953d572bc50960]\n",
       "link E7 to E3--><a href=\"psysml:6aa04dcc-8d2e-4853-a2ca-5b94913b0044\" target=\"_top\" title=\"psysml:6aa04dcc-8d2e-4853-a2ca-5b94913b0044\" xlink:actuate=\"onRequest\" xlink:href=\"psysml:6aa04dcc-8d2e-4853-a2ca-5b94913b0044\" xlink:show=\"new\" xlink:title=\"psysml:6aa04dcc-8d2e-4853-a2ca-5b94913b0044\" xlink:type=\"simple\"><path d=\"M194.56,87.13 C196.75,100.78 199.64,118.74 202.25,135 \" fill=\"none\" id=\"E7-&gt;E3\" style=\"stroke: #A80036; stroke-width: 1.0;\"/><polygon fill=\"#FFFFFF\" points=\"205.45,154.92,195.5251,137.2707,209.3479,135.0503,205.45,154.92\" style=\"stroke: #A80036; stroke-width: 1.0;\"/><ellipse cx=\"196.5958\" cy=\"131.3257\" fill=\"#A80036\" rx=\"2\" ry=\"2\" style=\"stroke: #A80036; stroke-width: 1.0;\"/><ellipse cx=\"206.4692\" cy=\"129.7396\" fill=\"#A80036\" rx=\"2\" ry=\"2\" style=\"stroke: #A80036; stroke-width: 1.0;\"/></a><!--MD5=[f1f3f9f2fc535e6147756cb86a7f2e32]\n",
       "link E8 to E2--><a href=\"psysml:62998d3a-e41b-4231-af2c-a0f2b465e4e7\" target=\"_top\" title=\"psysml:62998d3a-e41b-4231-af2c-a0f2b465e4e7\" xlink:actuate=\"onRequest\" xlink:href=\"psysml:62998d3a-e41b-4231-af2c-a0f2b465e4e7\" xlink:show=\"new\" xlink:title=\"psysml:62998d3a-e41b-4231-af2c-a0f2b465e4e7\" xlink:type=\"simple\"><path d=\"M118.34,208.22 C129.11,217.23 140.47,227.54 150,238 C160.16,249.15 170,262.19 178.56,274.55 \" fill=\"none\" id=\"E8-&gt;E2\" style=\"stroke: #A80036; stroke-width: 1.0;\"/><polygon fill=\"#FFFFFF\" points=\"189.71,291.3,173.3582,279.3577,185.0146,271.6035,189.71,291.3\" style=\"stroke: #A80036; stroke-width: 1.0;\"/><ellipse cx=\"171.8663\" cy=\"273.5042\" fill=\"#A80036\" rx=\"2\" ry=\"2\" style=\"stroke: #A80036; stroke-width: 1.0;\"/><ellipse cx=\"180.1923\" cy=\"267.9654\" fill=\"#A80036\" rx=\"2\" ry=\"2\" style=\"stroke: #A80036; stroke-width: 1.0;\"/></a><!--MD5=[ed10624c06dd9a4fa49ccf290e8b16a8]\n",
       "link E8 to E9--><a href=\"psysml:196bced0-9581-41ba-9556-fc72f0b07990\" target=\"_top\" title=\"psysml:196bced0-9581-41ba-9556-fc72f0b07990\" xlink:actuate=\"onRequest\" xlink:href=\"psysml:196bced0-9581-41ba-9556-fc72f0b07990\" xlink:show=\"new\" xlink:title=\"psysml:196bced0-9581-41ba-9556-fc72f0b07990\" xlink:type=\"simple\"><path d=\"M80,218.35 C80,235.87 80,256.61 80,274.77 \" fill=\"none\" id=\"E8-E9\" style=\"stroke: #A80036; stroke-width: 1.0;\"/><polygon fill=\"#A80036\" points=\"80,284.83,83,276.83,77,276.83,80,284.83\" style=\"stroke: #A80036; stroke-width: 1.0;\"/><path d=\"M71.5428,211.2982 A9,9 0 0 0 88.4572 211.2982\" fill=\"none\" style=\"stroke: #A80036; stroke-width: 1.5;\"/><text fill=\"#000000\" font-family=\"sans-serif\" font-size=\"13\" lengthAdjust=\"spacingAndGlyphs\" textLength=\"60\" x=\"81\" y=\"251.0669\">«variant»</text></a><!--MD5=[293c00ddc430504143c6869641d8c045]\n",
       "@startuml\r\n",
       " \r\n",
       "package \"VariabilityTest\" as E1  [[psysml:fc405a6c-3061-4540-9673-8b8e766ba6ac ]]  {\r\n",
       "comp def \"P\" as E2  <<(T,blue)part def>> [[psysml:dc902210-e855-46b4-a2dd-8255fef19514 ]] {\r\n",
       "a\r\n",
       "}\r\n",
       "comp def \"Q\" as E3  <<(T,blue)part def>> [[psysml:b52c8837-30af-42aa-bc51-100eaed5de80 ]] {\r\n",
       "}\r\n",
       "comp def \"B\" as E4  <<(T,blue)attribute def>> [[psysml:f17815b8-46c4-4dd9-bf70-524ba6c03f24 ]] {\r\n",
       "}\r\n",
       "comp def \"V\" as E5  <<(T,blue)part def>> [[psysml:b1ebe526-c40e-4c8f-ae74-16f7fcd1bdc9 ]] {\r\n",
       "}\r\n",
       "comp usage \"x: Q\" as E6  <<(T,blue)part>> [[psysml:05419eac-6c2b-46e9-bd3b-b31f448a077a ]] {\r\n",
       "b: B\\n//:>>P::a// \r\n",
       "}\r\n",
       "comp usage \"q: Q\" as E7  <<(T,blue)part>> [[psysml:bd66bfa4-4cf8-4e62-98d6-c8549fcb8467 ]] {\r\n",
       "}\r\n",
       "comp usage \"v: P\" as E8  <<variation>>\\n <<(T,blue)part>> [[psysml:d11ba367-2498-4d3b-bf9a-6df5f0bc7068 ]] {\r\n",
       "}\r\n",
       "comp usage \"y\" as E9  <<(T,blue)part>> [[psysml:72597939-8390-466d-9479-39928477d122 ]] {\r\n",
       "b: B\\n//:>>P::a// \r\n",
       "}\r\n",
       "E3 - -|> E2 [[psysml:0057605f-0b36-40b5-a833-d8040f0d9e74 ]] \r\n",
       "E5 - -|> E2 [[psysml:922ee1f9-edf0-4204-bf0f-0435eb6f66de ]] \r\n",
       "E5 )- ->> E6 [[psysml:1c0ef759-8c31-4a4a-b0e7-e872c2806a04 ]] : <<variant>>\r\n",
       "E7 - -:|> E3 [[psysml:6aa04dcc-8d2e-4853-a2ca-5b94913b0044 ]] \r\n",
       "E8 - -:|> E2 [[psysml:62998d3a-e41b-4231-af2c-a0f2b465e4e7 ]] \r\n",
       "E8 )- ->> E9 [[psysml:196bced0-9581-41ba-9556-fc72f0b07990 ]] : <<variant>>\r\n",
       "}\r\n",
       "@enduml\r\n",
       "\n",
       "PlantUML version 1.2020.13(Sat Jun 13 12:26:38 UTC 2020)\n",
       "(EPL source distribution)\n",
       "Java Runtime: OpenJDK Runtime Environment\n",
       "JVM: OpenJDK 64-Bit Server VM\n",
       "Default Encoding: UTF-8\n",
       "Language: en\n",
       "Country: null\n",
       "--></g></svg>"
      ]
     },
     "execution_count": 8,
     "metadata": {},
     "output_type": "execute_result"
    }
   ],
   "source": [
    "%viz --style=\"COMPTREE\" --view=\"MIXED\" \"VariabilityTest\""
   ]
  },
  {
   "cell_type": "code",
   "execution_count": 9,
   "id": "valued-beginning",
   "metadata": {
    "execution": {
     "iopub.execute_input": "2021-03-25T15:07:37.292139Z",
     "iopub.status.busy": "2021-03-25T15:07:37.291644Z",
     "iopub.status.idle": "2021-03-25T15:07:37.769885Z",
     "shell.execute_reply": "2021-03-25T15:07:37.768015Z"
    }
   },
   "outputs": [
    {
     "data": {
      "image/svg+xml": [
       "<?xml version=\"1.0\" encoding=\"UTF-8\" standalone=\"no\"?><svg xmlns=\"http://www.w3.org/2000/svg\" xmlns:xlink=\"http://www.w3.org/1999/xlink\" contentScriptType=\"application/ecmascript\" contentStyleType=\"text/css\" height=\"401px\" preserveAspectRatio=\"none\" style=\"width:342px;height:401px;\" version=\"1.1\" viewBox=\"0 0 342 401\" width=\"342px\" zoomAndPan=\"magnify\"><defs/><g><!--MD5=[fbc87193dbaf4d95561dea2c320d4a47]\n",
       "cluster E1--><a href=\"psysml:fc405a6c-3061-4540-9673-8b8e766ba6ac\" target=\"_top\" title=\"psysml:fc405a6c-3061-4540-9673-8b8e766ba6ac\" xlink:actuate=\"onRequest\" xlink:href=\"psysml:fc405a6c-3061-4540-9673-8b8e766ba6ac\" xlink:show=\"new\" xlink:title=\"psysml:fc405a6c-3061-4540-9673-8b8e766ba6ac\" xlink:type=\"simple\"><polygon fill=\"#FFFFFF\" points=\"16,6,134,6,141,28.2969,320,28.2969,320,389,16,389,16,6\" style=\"stroke: #000000; stroke-width: 1.5;\"/><line style=\"stroke: #000000; stroke-width: 1.5;\" x1=\"16\" x2=\"141\" y1=\"28.2969\" y2=\"28.2969\"/><text fill=\"#000000\" font-family=\"sans-serif\" font-size=\"14\" font-weight=\"bold\" lengthAdjust=\"spacingAndGlyphs\" textLength=\"112\" x=\"20\" y=\"20.9951\">VariabilityTest</text></a><!--MD5=[b4997ac47864f28c2f74865a473b2911]\n",
       "class E2--><a href=\"psysml:dc902210-e855-46b4-a2dd-8255fef19514\" target=\"_top\" title=\"psysml:dc902210-e855-46b4-a2dd-8255fef19514\" xlink:actuate=\"onRequest\" xlink:href=\"psysml:dc902210-e855-46b4-a2dd-8255fef19514\" xlink:show=\"new\" xlink:title=\"psysml:dc902210-e855-46b4-a2dd-8255fef19514\" xlink:type=\"simple\"><rect fill=\"#FFFFFF\" height=\"75.5469\" id=\"E2\" style=\"stroke: #383838; stroke-width: 1.5;\" width=\"66\" x=\"135\" y=\"291\"/><text fill=\"#000000\" font-family=\"sans-serif\" font-size=\"12\" font-style=\"italic\" lengthAdjust=\"spacingAndGlyphs\" textLength=\"64\" x=\"136\" y=\"307.1387\">«part def»</text><text fill=\"#000000\" font-family=\"sans-serif\" font-size=\"12\" lengthAdjust=\"spacingAndGlyphs\" textLength=\"8\" x=\"164\" y=\"321.1074\">P</text><line style=\"stroke: #383838; stroke-width: 1.5;\" x1=\"136\" x2=\"200\" y1=\"328.9375\" y2=\"328.9375\"/><text fill=\"#000000\" font-family=\"sans-serif\" font-size=\"11\" lengthAdjust=\"spacingAndGlyphs\" textLength=\"7\" x=\"141\" y=\"359.9526\">a</text><line style=\"stroke: #383838; stroke-width: 1.0;\" x1=\"136\" x2=\"140.5\" y1=\"343.3398\" y2=\"343.3398\"/><text fill=\"#000000\" font-family=\"sans-serif\" font-size=\"11\" lengthAdjust=\"spacingAndGlyphs\" textLength=\"55\" x=\"140.5\" y=\"346.6479\">attributes</text><line style=\"stroke: #383838; stroke-width: 1.0;\" x1=\"195.5\" x2=\"200\" y1=\"343.3398\" y2=\"343.3398\"/></a><!--MD5=[09b614a08d8cba4a07c9adeb5e0fee81]\n",
       "class E3--><a href=\"psysml:b52c8837-30af-42aa-bc51-100eaed5de80\" target=\"_top\" title=\"psysml:b52c8837-30af-42aa-bc51-100eaed5de80\" xlink:actuate=\"onRequest\" xlink:href=\"psysml:b52c8837-30af-42aa-bc51-100eaed5de80\" xlink:show=\"new\" xlink:title=\"psysml:b52c8837-30af-42aa-bc51-100eaed5de80\" xlink:type=\"simple\"><rect fill=\"#FFFFFF\" height=\"45.9375\" id=\"E3\" style=\"stroke: #383838; stroke-width: 1.5;\" width=\"66\" x=\"137\" y=\"155\"/><text fill=\"#000000\" font-family=\"sans-serif\" font-size=\"12\" font-style=\"italic\" lengthAdjust=\"spacingAndGlyphs\" textLength=\"64\" x=\"138\" y=\"171.1387\">«part def»</text><text fill=\"#000000\" font-family=\"sans-serif\" font-size=\"12\" lengthAdjust=\"spacingAndGlyphs\" textLength=\"9\" x=\"165.5\" y=\"185.1074\">Q</text><line style=\"stroke: #383838; stroke-width: 1.5;\" x1=\"138\" x2=\"202\" y1=\"192.9375\" y2=\"192.9375\"/></a><!--MD5=[ebbe1d658d1005bcc118a6aa81145e00]\n",
       "class E4--><a href=\"psysml:f17815b8-46c4-4dd9-bf70-524ba6c03f24\" target=\"_top\" title=\"psysml:f17815b8-46c4-4dd9-bf70-524ba6c03f24\" xlink:actuate=\"onRequest\" xlink:href=\"psysml:f17815b8-46c4-4dd9-bf70-524ba6c03f24\" xlink:show=\"new\" xlink:title=\"psysml:f17815b8-46c4-4dd9-bf70-524ba6c03f24\" xlink:type=\"simple\"><rect fill=\"#FFFFFF\" height=\"45.9375\" id=\"E4\" style=\"stroke: #383838; stroke-width: 1.5;\" width=\"95\" x=\"208.5\" y=\"41\"/><text fill=\"#000000\" font-family=\"sans-serif\" font-size=\"12\" font-style=\"italic\" lengthAdjust=\"spacingAndGlyphs\" textLength=\"93\" x=\"209.5\" y=\"57.1387\">«attribute def»</text><text fill=\"#000000\" font-family=\"sans-serif\" font-size=\"12\" lengthAdjust=\"spacingAndGlyphs\" textLength=\"8\" x=\"252\" y=\"71.1074\">B</text><line style=\"stroke: #383838; stroke-width: 1.5;\" x1=\"209.5\" x2=\"302.5\" y1=\"78.9375\" y2=\"78.9375\"/></a><!--MD5=[270fce915f116d4de14055a7c1d9a0f3]\n",
       "class E5--><a href=\"psysml:b1ebe526-c40e-4c8f-ae74-16f7fcd1bdc9\" target=\"_top\" title=\"psysml:b1ebe526-c40e-4c8f-ae74-16f7fcd1bdc9\" xlink:actuate=\"onRequest\" xlink:href=\"psysml:b1ebe526-c40e-4c8f-ae74-16f7fcd1bdc9\" xlink:show=\"new\" xlink:title=\"psysml:b1ebe526-c40e-4c8f-ae74-16f7fcd1bdc9\" xlink:type=\"simple\"><rect fill=\"#FFFFFF\" height=\"45.9375\" id=\"E5\" style=\"stroke: #383838; stroke-width: 1.5;\" width=\"66\" x=\"238\" y=\"155\"/><text fill=\"#000000\" font-family=\"sans-serif\" font-size=\"12\" font-style=\"italic\" lengthAdjust=\"spacingAndGlyphs\" textLength=\"64\" x=\"239\" y=\"171.1387\">«part def»</text><text fill=\"#000000\" font-family=\"sans-serif\" font-size=\"12\" lengthAdjust=\"spacingAndGlyphs\" textLength=\"8\" x=\"267\" y=\"185.1074\">V</text><line style=\"stroke: #383838; stroke-width: 1.5;\" x1=\"239\" x2=\"303\" y1=\"192.9375\" y2=\"192.9375\"/></a><!--MD5=[60a26617385b1d2d0262a64233df1f8d]\n",
       "class E6--><a href=\"psysml:05419eac-6c2b-46e9-bd3b-b31f448a077a\" target=\"_top\" title=\"psysml:05419eac-6c2b-46e9-bd3b-b31f448a077a\" xlink:actuate=\"onRequest\" xlink:href=\"psysml:05419eac-6c2b-46e9-bd3b-b31f448a077a\" xlink:show=\"new\" xlink:title=\"psysml:05419eac-6c2b-46e9-bd3b-b31f448a077a\" xlink:type=\"simple\"><rect fill=\"#FFFFFF\" height=\"88.3516\" id=\"E6\" rx=\"10\" ry=\"10\" style=\"stroke: #383838; stroke-width: 1.5;\" width=\"63\" x=\"236.5\" y=\"285\"/><text fill=\"#000000\" font-family=\"sans-serif\" font-size=\"12\" font-style=\"italic\" lengthAdjust=\"spacingAndGlyphs\" textLength=\"40\" x=\"248\" y=\"301.1387\">«part»</text><text fill=\"#000000\" font-family=\"sans-serif\" font-size=\"12\" lengthAdjust=\"spacingAndGlyphs\" textLength=\"23\" x=\"256.5\" y=\"315.1074\">x: Q</text><line style=\"stroke: #383838; stroke-width: 1.5;\" x1=\"237.5\" x2=\"298.5\" y1=\"322.9375\" y2=\"322.9375\"/><text fill=\"#000000\" font-family=\"sans-serif\" font-size=\"11\" lengthAdjust=\"spacingAndGlyphs\" textLength=\"23\" x=\"242.5\" y=\"353.9526\">b: B</text><text fill=\"#000000\" font-family=\"sans-serif\" font-size=\"11\" font-style=\"italic\" lengthAdjust=\"spacingAndGlyphs\" textLength=\"44\" x=\"242.5\" y=\"366.7573\">:&gt;&gt;P::a</text><line style=\"stroke: #383838; stroke-width: 1.0;\" x1=\"237.5\" x2=\"240.5\" y1=\"337.3398\" y2=\"337.3398\"/><text fill=\"#000000\" font-family=\"sans-serif\" font-size=\"11\" lengthAdjust=\"spacingAndGlyphs\" textLength=\"55\" x=\"240.5\" y=\"340.6479\">attributes</text><line style=\"stroke: #383838; stroke-width: 1.0;\" x1=\"295.5\" x2=\"298.5\" y1=\"337.3398\" y2=\"337.3398\"/></a><!--MD5=[2156ba9850f5573cc1fc38a6a4b2f02b]\n",
       "class E7--><a href=\"psysml:bd66bfa4-4cf8-4e62-98d6-c8549fcb8467\" target=\"_top\" title=\"psysml:bd66bfa4-4cf8-4e62-98d6-c8549fcb8467\" xlink:actuate=\"onRequest\" xlink:href=\"psysml:bd66bfa4-4cf8-4e62-98d6-c8549fcb8467\" xlink:show=\"new\" xlink:title=\"psysml:bd66bfa4-4cf8-4e62-98d6-c8549fcb8467\" xlink:type=\"simple\"><rect fill=\"#FFFFFF\" height=\"45.9375\" id=\"E7\" rx=\"10\" ry=\"10\" style=\"stroke: #383838; stroke-width: 1.5;\" width=\"42\" x=\"131\" y=\"41\"/><text fill=\"#000000\" font-family=\"sans-serif\" font-size=\"12\" font-style=\"italic\" lengthAdjust=\"spacingAndGlyphs\" textLength=\"40\" x=\"132\" y=\"57.1387\">«part»</text><text fill=\"#000000\" font-family=\"sans-serif\" font-size=\"12\" lengthAdjust=\"spacingAndGlyphs\" textLength=\"25\" x=\"139.5\" y=\"71.1074\">q: Q</text><line style=\"stroke: #383838; stroke-width: 1.5;\" x1=\"132\" x2=\"172\" y1=\"78.9375\" y2=\"78.9375\"/></a><!--MD5=[b9389687b975829384b498ac4b7476b2]\n",
       "class E8--><a href=\"psysml:d11ba367-2498-4d3b-bf9a-6df5f0bc7068\" target=\"_top\" title=\"psysml:d11ba367-2498-4d3b-bf9a-6df5f0bc7068\" xlink:actuate=\"onRequest\" xlink:href=\"psysml:d11ba367-2498-4d3b-bf9a-6df5f0bc7068\" xlink:show=\"new\" xlink:title=\"psysml:d11ba367-2498-4d3b-bf9a-6df5f0bc7068\" xlink:type=\"simple\"><rect fill=\"#FFFFFF\" height=\"59.9063\" id=\"E8\" rx=\"10\" ry=\"10\" style=\"stroke: #383838; stroke-width: 1.5;\" width=\"70\" x=\"32\" y=\"148\"/><text fill=\"#000000\" font-family=\"sans-serif\" font-size=\"12\" font-style=\"italic\" lengthAdjust=\"spacingAndGlyphs\" textLength=\"68\" x=\"33\" y=\"164.1387\">«variation»</text><text fill=\"#000000\" font-family=\"sans-serif\" font-size=\"12\" font-style=\"italic\" lengthAdjust=\"spacingAndGlyphs\" textLength=\"40\" x=\"47\" y=\"178.1074\">«part»</text><text fill=\"#000000\" font-family=\"sans-serif\" font-size=\"12\" lengthAdjust=\"spacingAndGlyphs\" textLength=\"22\" x=\"56\" y=\"192.0762\">v: P</text><line style=\"stroke: #383838; stroke-width: 1.5;\" x1=\"33\" x2=\"101\" y1=\"199.9063\" y2=\"199.9063\"/></a><!--MD5=[fd4143e9d270a159db93a4ea2a975926]\n",
       "class E9--><a href=\"psysml:72597939-8390-466d-9479-39928477d122\" target=\"_top\" title=\"psysml:72597939-8390-466d-9479-39928477d122\" xlink:actuate=\"onRequest\" xlink:href=\"psysml:72597939-8390-466d-9479-39928477d122\" xlink:show=\"new\" xlink:title=\"psysml:72597939-8390-466d-9479-39928477d122\" xlink:type=\"simple\"><rect fill=\"#FFFFFF\" height=\"88.3516\" id=\"E9\" rx=\"10\" ry=\"10\" style=\"stroke: #383838; stroke-width: 1.5;\" width=\"63\" x=\"35.5\" y=\"285\"/><text fill=\"#000000\" font-family=\"sans-serif\" font-size=\"12\" font-style=\"italic\" lengthAdjust=\"spacingAndGlyphs\" textLength=\"40\" x=\"47\" y=\"301.1387\">«part»</text><text fill=\"#000000\" font-family=\"sans-serif\" font-size=\"12\" lengthAdjust=\"spacingAndGlyphs\" textLength=\"6\" x=\"64\" y=\"315.1074\">y</text><line style=\"stroke: #383838; stroke-width: 1.5;\" x1=\"36.5\" x2=\"97.5\" y1=\"322.9375\" y2=\"322.9375\"/><text fill=\"#000000\" font-family=\"sans-serif\" font-size=\"11\" lengthAdjust=\"spacingAndGlyphs\" textLength=\"23\" x=\"41.5\" y=\"353.9526\">b: B</text><text fill=\"#000000\" font-family=\"sans-serif\" font-size=\"11\" font-style=\"italic\" lengthAdjust=\"spacingAndGlyphs\" textLength=\"44\" x=\"41.5\" y=\"366.7573\">:&gt;&gt;P::a</text><line style=\"stroke: #383838; stroke-width: 1.0;\" x1=\"36.5\" x2=\"39.5\" y1=\"337.3398\" y2=\"337.3398\"/><text fill=\"#000000\" font-family=\"sans-serif\" font-size=\"11\" lengthAdjust=\"spacingAndGlyphs\" textLength=\"55\" x=\"39.5\" y=\"340.6479\">attributes</text><line style=\"stroke: #383838; stroke-width: 1.0;\" x1=\"94.5\" x2=\"97.5\" y1=\"337.3398\" y2=\"337.3398\"/></a><!--MD5=[05d275557350bfb9b23a4ef7222b4c39]\n",
       "link E3 to E2--><a href=\"psysml:0057605f-0b36-40b5-a833-d8040f0d9e74\" target=\"_top\" title=\"psysml:0057605f-0b36-40b5-a833-d8040f0d9e74\" xlink:actuate=\"onRequest\" xlink:href=\"psysml:0057605f-0b36-40b5-a833-d8040f0d9e74\" xlink:show=\"new\" xlink:title=\"psysml:0057605f-0b36-40b5-a833-d8040f0d9e74\" xlink:type=\"simple\"><path d=\"M169.7,201.31 C169.46,219.58 169.1,246.27 168.77,270.44 \" fill=\"none\" id=\"E3-&gt;E2\" style=\"stroke: #383838; stroke-width: 1.0;\"/><polygon fill=\"none\" points=\"175.77,270.86,168.5,290.77,161.77,270.68,175.77,270.86\" style=\"stroke: #383838; stroke-width: 1.0;\"/></a><!--MD5=[15ebcb19ae302d9b601edb458606d402]\n",
       "link E5 to E2--><a href=\"psysml:922ee1f9-edf0-4204-bf0f-0435eb6f66de\" target=\"_top\" title=\"psysml:922ee1f9-edf0-4204-bf0f-0435eb6f66de\" xlink:actuate=\"onRequest\" xlink:href=\"psysml:922ee1f9-edf0-4204-bf0f-0435eb6f66de\" xlink:show=\"new\" xlink:title=\"psysml:922ee1f9-edf0-4204-bf0f-0435eb6f66de\" xlink:type=\"simple\"><path d=\"M255.58,201.31 C242.31,220.5 222.62,248.99 205.27,274.09 \" fill=\"none\" id=\"E5-&gt;E2\" style=\"stroke: #383838; stroke-width: 1.0;\"/><polygon fill=\"none\" points=\"210.87,278.3,193.74,290.77,199.35,270.34,210.87,278.3\" style=\"stroke: #383838; stroke-width: 1.0;\"/></a><!--MD5=[9120cf2e5df3bff93db8f754bbbc09b4]\n",
       "link E5 to E6--><a href=\"psysml:1c0ef759-8c31-4a4a-b0e7-e872c2806a04\" target=\"_top\" title=\"psysml:1c0ef759-8c31-4a4a-b0e7-e872c2806a04\" xlink:actuate=\"onRequest\" xlink:href=\"psysml:1c0ef759-8c31-4a4a-b0e7-e872c2806a04\" xlink:show=\"new\" xlink:title=\"psysml:1c0ef759-8c31-4a4a-b0e7-e872c2806a04\" xlink:type=\"simple\"><path d=\"M270.34,211.55 C269.97,230.03 269.5,253.61 269.07,274.71 \" fill=\"none\" id=\"E5-E6\" style=\"stroke: #383838; stroke-width: 1.0;\"/><polygon fill=\"#383838\" points=\"268.87,284.84,272.0294,276.9016,266.0306,276.7816,268.87,284.84\" style=\"stroke: #383838; stroke-width: 1.0;\"/><path d=\"M262.0288,204.2063 A9,9 0 0 0 278.9393 204.5687\" fill=\"none\" style=\"stroke: #383838; stroke-width: 1.5;\"/><text fill=\"#000000\" font-family=\"sans-serif\" font-size=\"13\" lengthAdjust=\"spacingAndGlyphs\" textLength=\"60\" x=\"270\" y=\"251.0669\">«variant»</text></a><!--MD5=[14ccda38c055a5c0da953d572bc50960]\n",
       "link E7 to E3--><a href=\"psysml:6aa04dcc-8d2e-4853-a2ca-5b94913b0044\" target=\"_top\" title=\"psysml:6aa04dcc-8d2e-4853-a2ca-5b94913b0044\" xlink:actuate=\"onRequest\" xlink:href=\"psysml:6aa04dcc-8d2e-4853-a2ca-5b94913b0044\" xlink:show=\"new\" xlink:title=\"psysml:6aa04dcc-8d2e-4853-a2ca-5b94913b0044\" xlink:type=\"simple\"><path d=\"M155.56,87.13 C157.75,100.78 160.64,118.74 163.25,135 \" fill=\"none\" id=\"E7-&gt;E3\" style=\"stroke: #383838; stroke-width: 1.0;\"/><polygon fill=\"#FFFFFF\" points=\"166.45,154.92,156.5251,137.2707,170.3479,135.0503,166.45,154.92\" style=\"stroke: #383838; stroke-width: 1.0;\"/><ellipse cx=\"157.5958\" cy=\"131.3257\" fill=\"#383838\" rx=\"2\" ry=\"2\" style=\"stroke: #383838; stroke-width: 1.0;\"/><ellipse cx=\"167.4692\" cy=\"129.7396\" fill=\"#383838\" rx=\"2\" ry=\"2\" style=\"stroke: #383838; stroke-width: 1.0;\"/></a><!--MD5=[f1f3f9f2fc535e6147756cb86a7f2e32]\n",
       "link E8 to E2--><a href=\"psysml:62998d3a-e41b-4231-af2c-a0f2b465e4e7\" target=\"_top\" title=\"psysml:62998d3a-e41b-4231-af2c-a0f2b465e4e7\" xlink:actuate=\"onRequest\" xlink:href=\"psysml:62998d3a-e41b-4231-af2c-a0f2b465e4e7\" xlink:show=\"new\" xlink:title=\"psysml:62998d3a-e41b-4231-af2c-a0f2b465e4e7\" xlink:type=\"simple\"><path d=\"M101.59,208.15 C119.23,223.02 137,238 137,238 C137,238 142.38,253.63 148.67,271.87 \" fill=\"none\" id=\"E8-&gt;E2\" style=\"stroke: #383838; stroke-width: 1.0;\"/><polygon fill=\"#FFFFFF\" points=\"155.21,290.87,142.4044,275.1851,155.6413,270.6261,155.21,290.87\" style=\"stroke: #383838; stroke-width: 1.0;\"/><ellipse cx=\"142.4393\" cy=\"269.1445\" fill=\"#383838\" rx=\"2\" ry=\"2\" style=\"stroke: #383838; stroke-width: 1.0;\"/><ellipse cx=\"151.8942\" cy=\"265.8881\" fill=\"#383838\" rx=\"2\" ry=\"2\" style=\"stroke: #383838; stroke-width: 1.0;\"/></a><!--MD5=[ed10624c06dd9a4fa49ccf290e8b16a8]\n",
       "link E8 to E9--><a href=\"psysml:196bced0-9581-41ba-9556-fc72f0b07990\" target=\"_top\" title=\"psysml:196bced0-9581-41ba-9556-fc72f0b07990\" xlink:actuate=\"onRequest\" xlink:href=\"psysml:196bced0-9581-41ba-9556-fc72f0b07990\" xlink:show=\"new\" xlink:title=\"psysml:196bced0-9581-41ba-9556-fc72f0b07990\" xlink:type=\"simple\"><path d=\"M67,218.32 C67,235.6 67,256.15 67,274.77 \" fill=\"none\" id=\"E8-E9\" style=\"stroke: #383838; stroke-width: 1.0;\"/><polygon fill=\"#383838\" points=\"67,284.88,70,276.88,64,276.88,67,284.88\" style=\"stroke: #383838; stroke-width: 1.0;\"/><path d=\"M58.5428,211.1582 A9,9 0 0 0 75.4572 211.1582\" fill=\"none\" style=\"stroke: #383838; stroke-width: 1.5;\"/><text fill=\"#000000\" font-family=\"sans-serif\" font-size=\"13\" lengthAdjust=\"spacingAndGlyphs\" textLength=\"60\" x=\"68\" y=\"251.0669\">«variant»</text></a><!--MD5=[30759ad5a3c9fd3b8b1797135fecd951]\n",
       "@startuml\r\n",
       "skinparam linetype polyline\r\n",
       "skinparam monochrome true\r\n",
       "skinparam classbackgroundcolor white\r\n",
       "skinparam shadowing false\r\n",
       "skinparam wrapWidth 300\r\n",
       "hide circle\r\n",
       "\r\n",
       "package \"VariabilityTest\" as E1  [[psysml:fc405a6c-3061-4540-9673-8b8e766ba6ac ]]  {\r\n",
       "comp def \"P\" as E2  <<(T,blue)part def>> [[psysml:dc902210-e855-46b4-a2dd-8255fef19514 ]] {\r\n",
       "- - attributes - -\r\n",
       "a\r\n",
       "}\r\n",
       "comp def \"Q\" as E3  <<(T,blue)part def>> [[psysml:b52c8837-30af-42aa-bc51-100eaed5de80 ]] {\r\n",
       "}\r\n",
       "comp def \"B\" as E4  <<(T,blue)attribute def>> [[psysml:f17815b8-46c4-4dd9-bf70-524ba6c03f24 ]] {\r\n",
       "}\r\n",
       "comp def \"V\" as E5  <<(T,blue)part def>> [[psysml:b1ebe526-c40e-4c8f-ae74-16f7fcd1bdc9 ]] {\r\n",
       "}\r\n",
       "comp usage \"x: Q\" as E6  <<(T,blue)part>> [[psysml:05419eac-6c2b-46e9-bd3b-b31f448a077a ]] {\r\n",
       "- - attributes - -\r\n",
       "b: B\\n//:>>P::a// \r\n",
       "}\r\n",
       "comp usage \"q: Q\" as E7  <<(T,blue)part>> [[psysml:bd66bfa4-4cf8-4e62-98d6-c8549fcb8467 ]] {\r\n",
       "}\r\n",
       "comp usage \"v: P\" as E8  <<variation>>\\n <<(T,blue)part>> [[psysml:d11ba367-2498-4d3b-bf9a-6df5f0bc7068 ]] {\r\n",
       "}\r\n",
       "comp usage \"y\" as E9  <<(T,blue)part>> [[psysml:72597939-8390-466d-9479-39928477d122 ]] {\r\n",
       "- - attributes - -\r\n",
       "b: B\\n//:>>P::a// \r\n",
       "}\r\n",
       "E3 - -|> E2 [[psysml:0057605f-0b36-40b5-a833-d8040f0d9e74 ]] \r\n",
       "E5 - -|> E2 [[psysml:922ee1f9-edf0-4204-bf0f-0435eb6f66de ]] \r\n",
       "E5 )- ->> E6 [[psysml:1c0ef759-8c31-4a4a-b0e7-e872c2806a04 ]] : <<variant>>\r\n",
       "E7 - -:|> E3 [[psysml:6aa04dcc-8d2e-4853-a2ca-5b94913b0044 ]] \r\n",
       "E8 - -:|> E2 [[psysml:62998d3a-e41b-4231-af2c-a0f2b465e4e7 ]] \r\n",
       "E8 )- ->> E9 [[psysml:196bced0-9581-41ba-9556-fc72f0b07990 ]] : <<variant>>\r\n",
       "}\r\n",
       "@enduml\r\n",
       "\n",
       "PlantUML version 1.2020.13(Sat Jun 13 12:26:38 UTC 2020)\n",
       "(EPL source distribution)\n",
       "Java Runtime: OpenJDK Runtime Environment\n",
       "JVM: OpenJDK 64-Bit Server VM\n",
       "Default Encoding: UTF-8\n",
       "Language: en\n",
       "Country: null\n",
       "--></g></svg>"
      ]
     },
     "execution_count": 9,
     "metadata": {},
     "output_type": "execute_result"
    }
   ],
   "source": [
    "%viz --style=\"POLYLINE\" --view=\"Default\" \"VariabilityTest\""
   ]
  },
  {
   "cell_type": "code",
   "execution_count": 10,
   "id": "opened-softball",
   "metadata": {
    "execution": {
     "iopub.execute_input": "2021-03-25T15:07:37.820267Z",
     "iopub.status.busy": "2021-03-25T15:07:37.819867Z",
     "iopub.status.idle": "2021-03-25T15:07:38.337792Z",
     "shell.execute_reply": "2021-03-25T15:07:38.337225Z"
    }
   },
   "outputs": [
    {
     "data": {
      "image/svg+xml": [
       "<?xml version=\"1.0\" encoding=\"UTF-8\" standalone=\"no\"?><svg xmlns=\"http://www.w3.org/2000/svg\" xmlns:xlink=\"http://www.w3.org/1999/xlink\" contentScriptType=\"application/ecmascript\" contentStyleType=\"text/css\" height=\"401px\" preserveAspectRatio=\"none\" style=\"width:342px;height:401px;\" version=\"1.1\" viewBox=\"0 0 342 401\" width=\"342px\" zoomAndPan=\"magnify\"><defs/><g><!--MD5=[fbc87193dbaf4d95561dea2c320d4a47]\n",
       "cluster E1--><a href=\"psysml:fc405a6c-3061-4540-9673-8b8e766ba6ac\" target=\"_top\" title=\"psysml:fc405a6c-3061-4540-9673-8b8e766ba6ac\" xlink:actuate=\"onRequest\" xlink:href=\"psysml:fc405a6c-3061-4540-9673-8b8e766ba6ac\" xlink:show=\"new\" xlink:title=\"psysml:fc405a6c-3061-4540-9673-8b8e766ba6ac\" xlink:type=\"simple\"><polygon fill=\"#FFFFFF\" points=\"16,6,134,6,141,28.2969,320,28.2969,320,389,16,389,16,6\" style=\"stroke: #000000; stroke-width: 1.5;\"/><line style=\"stroke: #000000; stroke-width: 1.5;\" x1=\"16\" x2=\"141\" y1=\"28.2969\" y2=\"28.2969\"/><text fill=\"#000000\" font-family=\"sans-serif\" font-size=\"14\" font-weight=\"bold\" lengthAdjust=\"spacingAndGlyphs\" textLength=\"112\" x=\"20\" y=\"20.9951\">VariabilityTest</text></a><!--MD5=[b4997ac47864f28c2f74865a473b2911]\n",
       "class E2--><a href=\"psysml:dc902210-e855-46b4-a2dd-8255fef19514\" target=\"_top\" title=\"psysml:dc902210-e855-46b4-a2dd-8255fef19514\" xlink:actuate=\"onRequest\" xlink:href=\"psysml:dc902210-e855-46b4-a2dd-8255fef19514\" xlink:show=\"new\" xlink:title=\"psysml:dc902210-e855-46b4-a2dd-8255fef19514\" xlink:type=\"simple\"><rect fill=\"#FFFFFF\" height=\"75.5469\" id=\"E2\" style=\"stroke: #383838; stroke-width: 1.5;\" width=\"66\" x=\"135\" y=\"291\"/><text fill=\"#000000\" font-family=\"sans-serif\" font-size=\"12\" font-style=\"italic\" lengthAdjust=\"spacingAndGlyphs\" textLength=\"64\" x=\"136\" y=\"307.1387\">«part def»</text><text fill=\"#000000\" font-family=\"sans-serif\" font-size=\"12\" lengthAdjust=\"spacingAndGlyphs\" textLength=\"8\" x=\"164\" y=\"321.1074\">P</text><line style=\"stroke: #383838; stroke-width: 1.5;\" x1=\"136\" x2=\"200\" y1=\"328.9375\" y2=\"328.9375\"/><text fill=\"#000000\" font-family=\"sans-serif\" font-size=\"11\" lengthAdjust=\"spacingAndGlyphs\" textLength=\"7\" x=\"141\" y=\"359.9526\">a</text><line style=\"stroke: #383838; stroke-width: 1.0;\" x1=\"136\" x2=\"140.5\" y1=\"343.3398\" y2=\"343.3398\"/><text fill=\"#000000\" font-family=\"sans-serif\" font-size=\"11\" lengthAdjust=\"spacingAndGlyphs\" textLength=\"55\" x=\"140.5\" y=\"346.6479\">attributes</text><line style=\"stroke: #383838; stroke-width: 1.0;\" x1=\"195.5\" x2=\"200\" y1=\"343.3398\" y2=\"343.3398\"/></a><!--MD5=[09b614a08d8cba4a07c9adeb5e0fee81]\n",
       "class E3--><a href=\"psysml:b52c8837-30af-42aa-bc51-100eaed5de80\" target=\"_top\" title=\"psysml:b52c8837-30af-42aa-bc51-100eaed5de80\" xlink:actuate=\"onRequest\" xlink:href=\"psysml:b52c8837-30af-42aa-bc51-100eaed5de80\" xlink:show=\"new\" xlink:title=\"psysml:b52c8837-30af-42aa-bc51-100eaed5de80\" xlink:type=\"simple\"><rect fill=\"#FFFFFF\" height=\"45.9375\" id=\"E3\" style=\"stroke: #383838; stroke-width: 1.5;\" width=\"66\" x=\"137\" y=\"155\"/><text fill=\"#000000\" font-family=\"sans-serif\" font-size=\"12\" font-style=\"italic\" lengthAdjust=\"spacingAndGlyphs\" textLength=\"64\" x=\"138\" y=\"171.1387\">«part def»</text><text fill=\"#000000\" font-family=\"sans-serif\" font-size=\"12\" lengthAdjust=\"spacingAndGlyphs\" textLength=\"9\" x=\"165.5\" y=\"185.1074\">Q</text><line style=\"stroke: #383838; stroke-width: 1.5;\" x1=\"138\" x2=\"202\" y1=\"192.9375\" y2=\"192.9375\"/></a><!--MD5=[ebbe1d658d1005bcc118a6aa81145e00]\n",
       "class E4--><a href=\"psysml:f17815b8-46c4-4dd9-bf70-524ba6c03f24\" target=\"_top\" title=\"psysml:f17815b8-46c4-4dd9-bf70-524ba6c03f24\" xlink:actuate=\"onRequest\" xlink:href=\"psysml:f17815b8-46c4-4dd9-bf70-524ba6c03f24\" xlink:show=\"new\" xlink:title=\"psysml:f17815b8-46c4-4dd9-bf70-524ba6c03f24\" xlink:type=\"simple\"><rect fill=\"#FFFFFF\" height=\"45.9375\" id=\"E4\" style=\"stroke: #383838; stroke-width: 1.5;\" width=\"95\" x=\"208.5\" y=\"41\"/><text fill=\"#000000\" font-family=\"sans-serif\" font-size=\"12\" font-style=\"italic\" lengthAdjust=\"spacingAndGlyphs\" textLength=\"93\" x=\"209.5\" y=\"57.1387\">«attribute def»</text><text fill=\"#000000\" font-family=\"sans-serif\" font-size=\"12\" lengthAdjust=\"spacingAndGlyphs\" textLength=\"8\" x=\"252\" y=\"71.1074\">B</text><line style=\"stroke: #383838; stroke-width: 1.5;\" x1=\"209.5\" x2=\"302.5\" y1=\"78.9375\" y2=\"78.9375\"/></a><!--MD5=[270fce915f116d4de14055a7c1d9a0f3]\n",
       "class E5--><a href=\"psysml:b1ebe526-c40e-4c8f-ae74-16f7fcd1bdc9\" target=\"_top\" title=\"psysml:b1ebe526-c40e-4c8f-ae74-16f7fcd1bdc9\" xlink:actuate=\"onRequest\" xlink:href=\"psysml:b1ebe526-c40e-4c8f-ae74-16f7fcd1bdc9\" xlink:show=\"new\" xlink:title=\"psysml:b1ebe526-c40e-4c8f-ae74-16f7fcd1bdc9\" xlink:type=\"simple\"><rect fill=\"#FFFFFF\" height=\"45.9375\" id=\"E5\" style=\"stroke: #383838; stroke-width: 1.5;\" width=\"66\" x=\"238\" y=\"155\"/><text fill=\"#000000\" font-family=\"sans-serif\" font-size=\"12\" font-style=\"italic\" lengthAdjust=\"spacingAndGlyphs\" textLength=\"64\" x=\"239\" y=\"171.1387\">«part def»</text><text fill=\"#000000\" font-family=\"sans-serif\" font-size=\"12\" lengthAdjust=\"spacingAndGlyphs\" textLength=\"8\" x=\"267\" y=\"185.1074\">V</text><line style=\"stroke: #383838; stroke-width: 1.5;\" x1=\"239\" x2=\"303\" y1=\"192.9375\" y2=\"192.9375\"/></a><!--MD5=[60a26617385b1d2d0262a64233df1f8d]\n",
       "class E6--><a href=\"psysml:05419eac-6c2b-46e9-bd3b-b31f448a077a\" target=\"_top\" title=\"psysml:05419eac-6c2b-46e9-bd3b-b31f448a077a\" xlink:actuate=\"onRequest\" xlink:href=\"psysml:05419eac-6c2b-46e9-bd3b-b31f448a077a\" xlink:show=\"new\" xlink:title=\"psysml:05419eac-6c2b-46e9-bd3b-b31f448a077a\" xlink:type=\"simple\"><rect fill=\"#FFFFFF\" height=\"88.3516\" id=\"E6\" rx=\"10\" ry=\"10\" style=\"stroke: #383838; stroke-width: 1.5;\" width=\"63\" x=\"236.5\" y=\"285\"/><text fill=\"#000000\" font-family=\"sans-serif\" font-size=\"12\" font-style=\"italic\" lengthAdjust=\"spacingAndGlyphs\" textLength=\"40\" x=\"248\" y=\"301.1387\">«part»</text><text fill=\"#000000\" font-family=\"sans-serif\" font-size=\"12\" lengthAdjust=\"spacingAndGlyphs\" textLength=\"23\" x=\"256.5\" y=\"315.1074\">x: Q</text><line style=\"stroke: #383838; stroke-width: 1.5;\" x1=\"237.5\" x2=\"298.5\" y1=\"322.9375\" y2=\"322.9375\"/><text fill=\"#000000\" font-family=\"sans-serif\" font-size=\"11\" lengthAdjust=\"spacingAndGlyphs\" textLength=\"23\" x=\"242.5\" y=\"353.9526\">b: B</text><text fill=\"#000000\" font-family=\"sans-serif\" font-size=\"11\" font-style=\"italic\" lengthAdjust=\"spacingAndGlyphs\" textLength=\"44\" x=\"242.5\" y=\"366.7573\">:&gt;&gt;P::a</text><line style=\"stroke: #383838; stroke-width: 1.0;\" x1=\"237.5\" x2=\"240.5\" y1=\"337.3398\" y2=\"337.3398\"/><text fill=\"#000000\" font-family=\"sans-serif\" font-size=\"11\" lengthAdjust=\"spacingAndGlyphs\" textLength=\"55\" x=\"240.5\" y=\"340.6479\">attributes</text><line style=\"stroke: #383838; stroke-width: 1.0;\" x1=\"295.5\" x2=\"298.5\" y1=\"337.3398\" y2=\"337.3398\"/></a><!--MD5=[2156ba9850f5573cc1fc38a6a4b2f02b]\n",
       "class E7--><a href=\"psysml:bd66bfa4-4cf8-4e62-98d6-c8549fcb8467\" target=\"_top\" title=\"psysml:bd66bfa4-4cf8-4e62-98d6-c8549fcb8467\" xlink:actuate=\"onRequest\" xlink:href=\"psysml:bd66bfa4-4cf8-4e62-98d6-c8549fcb8467\" xlink:show=\"new\" xlink:title=\"psysml:bd66bfa4-4cf8-4e62-98d6-c8549fcb8467\" xlink:type=\"simple\"><rect fill=\"#FFFFFF\" height=\"45.9375\" id=\"E7\" rx=\"10\" ry=\"10\" style=\"stroke: #383838; stroke-width: 1.5;\" width=\"42\" x=\"131\" y=\"41\"/><text fill=\"#000000\" font-family=\"sans-serif\" font-size=\"12\" font-style=\"italic\" lengthAdjust=\"spacingAndGlyphs\" textLength=\"40\" x=\"132\" y=\"57.1387\">«part»</text><text fill=\"#000000\" font-family=\"sans-serif\" font-size=\"12\" lengthAdjust=\"spacingAndGlyphs\" textLength=\"25\" x=\"139.5\" y=\"71.1074\">q: Q</text><line style=\"stroke: #383838; stroke-width: 1.5;\" x1=\"132\" x2=\"172\" y1=\"78.9375\" y2=\"78.9375\"/></a><!--MD5=[b9389687b975829384b498ac4b7476b2]\n",
       "class E8--><a href=\"psysml:d11ba367-2498-4d3b-bf9a-6df5f0bc7068\" target=\"_top\" title=\"psysml:d11ba367-2498-4d3b-bf9a-6df5f0bc7068\" xlink:actuate=\"onRequest\" xlink:href=\"psysml:d11ba367-2498-4d3b-bf9a-6df5f0bc7068\" xlink:show=\"new\" xlink:title=\"psysml:d11ba367-2498-4d3b-bf9a-6df5f0bc7068\" xlink:type=\"simple\"><rect fill=\"#FFFFFF\" height=\"59.9063\" id=\"E8\" rx=\"10\" ry=\"10\" style=\"stroke: #383838; stroke-width: 1.5;\" width=\"70\" x=\"32\" y=\"148\"/><text fill=\"#000000\" font-family=\"sans-serif\" font-size=\"12\" font-style=\"italic\" lengthAdjust=\"spacingAndGlyphs\" textLength=\"68\" x=\"33\" y=\"164.1387\">«variation»</text><text fill=\"#000000\" font-family=\"sans-serif\" font-size=\"12\" font-style=\"italic\" lengthAdjust=\"spacingAndGlyphs\" textLength=\"40\" x=\"47\" y=\"178.1074\">«part»</text><text fill=\"#000000\" font-family=\"sans-serif\" font-size=\"12\" lengthAdjust=\"spacingAndGlyphs\" textLength=\"22\" x=\"56\" y=\"192.0762\">v: P</text><line style=\"stroke: #383838; stroke-width: 1.5;\" x1=\"33\" x2=\"101\" y1=\"199.9063\" y2=\"199.9063\"/></a><!--MD5=[fd4143e9d270a159db93a4ea2a975926]\n",
       "class E9--><a href=\"psysml:72597939-8390-466d-9479-39928477d122\" target=\"_top\" title=\"psysml:72597939-8390-466d-9479-39928477d122\" xlink:actuate=\"onRequest\" xlink:href=\"psysml:72597939-8390-466d-9479-39928477d122\" xlink:show=\"new\" xlink:title=\"psysml:72597939-8390-466d-9479-39928477d122\" xlink:type=\"simple\"><rect fill=\"#FFFFFF\" height=\"88.3516\" id=\"E9\" rx=\"10\" ry=\"10\" style=\"stroke: #383838; stroke-width: 1.5;\" width=\"63\" x=\"35.5\" y=\"285\"/><text fill=\"#000000\" font-family=\"sans-serif\" font-size=\"12\" font-style=\"italic\" lengthAdjust=\"spacingAndGlyphs\" textLength=\"40\" x=\"47\" y=\"301.1387\">«part»</text><text fill=\"#000000\" font-family=\"sans-serif\" font-size=\"12\" lengthAdjust=\"spacingAndGlyphs\" textLength=\"6\" x=\"64\" y=\"315.1074\">y</text><line style=\"stroke: #383838; stroke-width: 1.5;\" x1=\"36.5\" x2=\"97.5\" y1=\"322.9375\" y2=\"322.9375\"/><text fill=\"#000000\" font-family=\"sans-serif\" font-size=\"11\" lengthAdjust=\"spacingAndGlyphs\" textLength=\"23\" x=\"41.5\" y=\"353.9526\">b: B</text><text fill=\"#000000\" font-family=\"sans-serif\" font-size=\"11\" font-style=\"italic\" lengthAdjust=\"spacingAndGlyphs\" textLength=\"44\" x=\"41.5\" y=\"366.7573\">:&gt;&gt;P::a</text><line style=\"stroke: #383838; stroke-width: 1.0;\" x1=\"36.5\" x2=\"39.5\" y1=\"337.3398\" y2=\"337.3398\"/><text fill=\"#000000\" font-family=\"sans-serif\" font-size=\"11\" lengthAdjust=\"spacingAndGlyphs\" textLength=\"55\" x=\"39.5\" y=\"340.6479\">attributes</text><line style=\"stroke: #383838; stroke-width: 1.0;\" x1=\"94.5\" x2=\"97.5\" y1=\"337.3398\" y2=\"337.3398\"/></a><!--MD5=[05d275557350bfb9b23a4ef7222b4c39]\n",
       "link E3 to E2--><a href=\"psysml:0057605f-0b36-40b5-a833-d8040f0d9e74\" target=\"_top\" title=\"psysml:0057605f-0b36-40b5-a833-d8040f0d9e74\" xlink:actuate=\"onRequest\" xlink:href=\"psysml:0057605f-0b36-40b5-a833-d8040f0d9e74\" xlink:show=\"new\" xlink:title=\"psysml:0057605f-0b36-40b5-a833-d8040f0d9e74\" xlink:type=\"simple\"><path d=\"M169.7,201.31 C169.46,219.58 169.1,246.27 168.77,270.44 \" fill=\"none\" id=\"E3-&gt;E2\" style=\"stroke: #383838; stroke-width: 1.0;\"/><polygon fill=\"none\" points=\"175.77,270.86,168.5,290.77,161.77,270.68,175.77,270.86\" style=\"stroke: #383838; stroke-width: 1.0;\"/></a><!--MD5=[15ebcb19ae302d9b601edb458606d402]\n",
       "link E5 to E2--><a href=\"psysml:922ee1f9-edf0-4204-bf0f-0435eb6f66de\" target=\"_top\" title=\"psysml:922ee1f9-edf0-4204-bf0f-0435eb6f66de\" xlink:actuate=\"onRequest\" xlink:href=\"psysml:922ee1f9-edf0-4204-bf0f-0435eb6f66de\" xlink:show=\"new\" xlink:title=\"psysml:922ee1f9-edf0-4204-bf0f-0435eb6f66de\" xlink:type=\"simple\"><path d=\"M255.58,201.31 C242.31,220.5 222.62,248.99 205.27,274.09 \" fill=\"none\" id=\"E5-&gt;E2\" style=\"stroke: #383838; stroke-width: 1.0;\"/><polygon fill=\"none\" points=\"210.87,278.3,193.74,290.77,199.35,270.34,210.87,278.3\" style=\"stroke: #383838; stroke-width: 1.0;\"/></a><!--MD5=[9120cf2e5df3bff93db8f754bbbc09b4]\n",
       "link E5 to E6--><a href=\"psysml:1c0ef759-8c31-4a4a-b0e7-e872c2806a04\" target=\"_top\" title=\"psysml:1c0ef759-8c31-4a4a-b0e7-e872c2806a04\" xlink:actuate=\"onRequest\" xlink:href=\"psysml:1c0ef759-8c31-4a4a-b0e7-e872c2806a04\" xlink:show=\"new\" xlink:title=\"psysml:1c0ef759-8c31-4a4a-b0e7-e872c2806a04\" xlink:type=\"simple\"><path d=\"M270.34,211.55 C269.97,230.03 269.5,253.61 269.07,274.71 \" fill=\"none\" id=\"E5-E6\" style=\"stroke: #383838; stroke-width: 1.0;\"/><polygon fill=\"#383838\" points=\"268.87,284.84,272.0294,276.9016,266.0306,276.7816,268.87,284.84\" style=\"stroke: #383838; stroke-width: 1.0;\"/><path d=\"M262.0288,204.2063 A9,9 0 0 0 278.9393 204.5687\" fill=\"none\" style=\"stroke: #383838; stroke-width: 1.5;\"/><text fill=\"#000000\" font-family=\"sans-serif\" font-size=\"13\" lengthAdjust=\"spacingAndGlyphs\" textLength=\"60\" x=\"270\" y=\"251.0669\">«variant»</text></a><!--MD5=[14ccda38c055a5c0da953d572bc50960]\n",
       "link E7 to E3--><a href=\"psysml:6aa04dcc-8d2e-4853-a2ca-5b94913b0044\" target=\"_top\" title=\"psysml:6aa04dcc-8d2e-4853-a2ca-5b94913b0044\" xlink:actuate=\"onRequest\" xlink:href=\"psysml:6aa04dcc-8d2e-4853-a2ca-5b94913b0044\" xlink:show=\"new\" xlink:title=\"psysml:6aa04dcc-8d2e-4853-a2ca-5b94913b0044\" xlink:type=\"simple\"><path d=\"M155.56,87.13 C157.75,100.78 160.64,118.74 163.25,135 \" fill=\"none\" id=\"E7-&gt;E3\" style=\"stroke: #383838; stroke-width: 1.0;\"/><polygon fill=\"#FFFFFF\" points=\"166.45,154.92,156.5251,137.2707,170.3479,135.0503,166.45,154.92\" style=\"stroke: #383838; stroke-width: 1.0;\"/><ellipse cx=\"157.5958\" cy=\"131.3257\" fill=\"#383838\" rx=\"2\" ry=\"2\" style=\"stroke: #383838; stroke-width: 1.0;\"/><ellipse cx=\"167.4692\" cy=\"129.7396\" fill=\"#383838\" rx=\"2\" ry=\"2\" style=\"stroke: #383838; stroke-width: 1.0;\"/></a><!--MD5=[f1f3f9f2fc535e6147756cb86a7f2e32]\n",
       "link E8 to E2--><a href=\"psysml:62998d3a-e41b-4231-af2c-a0f2b465e4e7\" target=\"_top\" title=\"psysml:62998d3a-e41b-4231-af2c-a0f2b465e4e7\" xlink:actuate=\"onRequest\" xlink:href=\"psysml:62998d3a-e41b-4231-af2c-a0f2b465e4e7\" xlink:show=\"new\" xlink:title=\"psysml:62998d3a-e41b-4231-af2c-a0f2b465e4e7\" xlink:type=\"simple\"><path d=\"M101.59,208.15 C119.23,223.02 137,238 137,238 C137,238 142.38,253.63 148.67,271.87 \" fill=\"none\" id=\"E8-&gt;E2\" style=\"stroke: #383838; stroke-width: 1.0;\"/><polygon fill=\"#FFFFFF\" points=\"155.21,290.87,142.4044,275.1851,155.6413,270.6261,155.21,290.87\" style=\"stroke: #383838; stroke-width: 1.0;\"/><ellipse cx=\"142.4393\" cy=\"269.1445\" fill=\"#383838\" rx=\"2\" ry=\"2\" style=\"stroke: #383838; stroke-width: 1.0;\"/><ellipse cx=\"151.8942\" cy=\"265.8881\" fill=\"#383838\" rx=\"2\" ry=\"2\" style=\"stroke: #383838; stroke-width: 1.0;\"/></a><!--MD5=[ed10624c06dd9a4fa49ccf290e8b16a8]\n",
       "link E8 to E9--><a href=\"psysml:196bced0-9581-41ba-9556-fc72f0b07990\" target=\"_top\" title=\"psysml:196bced0-9581-41ba-9556-fc72f0b07990\" xlink:actuate=\"onRequest\" xlink:href=\"psysml:196bced0-9581-41ba-9556-fc72f0b07990\" xlink:show=\"new\" xlink:title=\"psysml:196bced0-9581-41ba-9556-fc72f0b07990\" xlink:type=\"simple\"><path d=\"M67,218.32 C67,235.6 67,256.15 67,274.77 \" fill=\"none\" id=\"E8-E9\" style=\"stroke: #383838; stroke-width: 1.0;\"/><polygon fill=\"#383838\" points=\"67,284.88,70,276.88,64,276.88,67,284.88\" style=\"stroke: #383838; stroke-width: 1.0;\"/><path d=\"M58.5428,211.1582 A9,9 0 0 0 75.4572 211.1582\" fill=\"none\" style=\"stroke: #383838; stroke-width: 1.5;\"/><text fill=\"#000000\" font-family=\"sans-serif\" font-size=\"13\" lengthAdjust=\"spacingAndGlyphs\" textLength=\"60\" x=\"68\" y=\"251.0669\">«variant»</text></a><!--MD5=[30759ad5a3c9fd3b8b1797135fecd951]\n",
       "@startuml\r\n",
       "skinparam linetype polyline\r\n",
       "skinparam monochrome true\r\n",
       "skinparam classbackgroundcolor white\r\n",
       "skinparam shadowing false\r\n",
       "skinparam wrapWidth 300\r\n",
       "hide circle\r\n",
       "\r\n",
       "package \"VariabilityTest\" as E1  [[psysml:fc405a6c-3061-4540-9673-8b8e766ba6ac ]]  {\r\n",
       "comp def \"P\" as E2  <<(T,blue)part def>> [[psysml:dc902210-e855-46b4-a2dd-8255fef19514 ]] {\r\n",
       "- - attributes - -\r\n",
       "a\r\n",
       "}\r\n",
       "comp def \"Q\" as E3  <<(T,blue)part def>> [[psysml:b52c8837-30af-42aa-bc51-100eaed5de80 ]] {\r\n",
       "}\r\n",
       "comp def \"B\" as E4  <<(T,blue)attribute def>> [[psysml:f17815b8-46c4-4dd9-bf70-524ba6c03f24 ]] {\r\n",
       "}\r\n",
       "comp def \"V\" as E5  <<(T,blue)part def>> [[psysml:b1ebe526-c40e-4c8f-ae74-16f7fcd1bdc9 ]] {\r\n",
       "}\r\n",
       "comp usage \"x: Q\" as E6  <<(T,blue)part>> [[psysml:05419eac-6c2b-46e9-bd3b-b31f448a077a ]] {\r\n",
       "- - attributes - -\r\n",
       "b: B\\n//:>>P::a// \r\n",
       "}\r\n",
       "comp usage \"q: Q\" as E7  <<(T,blue)part>> [[psysml:bd66bfa4-4cf8-4e62-98d6-c8549fcb8467 ]] {\r\n",
       "}\r\n",
       "comp usage \"v: P\" as E8  <<variation>>\\n <<(T,blue)part>> [[psysml:d11ba367-2498-4d3b-bf9a-6df5f0bc7068 ]] {\r\n",
       "}\r\n",
       "comp usage \"y\" as E9  <<(T,blue)part>> [[psysml:72597939-8390-466d-9479-39928477d122 ]] {\r\n",
       "- - attributes - -\r\n",
       "b: B\\n//:>>P::a// \r\n",
       "}\r\n",
       "E3 - -|> E2 [[psysml:0057605f-0b36-40b5-a833-d8040f0d9e74 ]] \r\n",
       "E5 - -|> E2 [[psysml:922ee1f9-edf0-4204-bf0f-0435eb6f66de ]] \r\n",
       "E5 )- ->> E6 [[psysml:1c0ef759-8c31-4a4a-b0e7-e872c2806a04 ]] : <<variant>>\r\n",
       "E7 - -:|> E3 [[psysml:6aa04dcc-8d2e-4853-a2ca-5b94913b0044 ]] \r\n",
       "E8 - -:|> E2 [[psysml:62998d3a-e41b-4231-af2c-a0f2b465e4e7 ]] \r\n",
       "E8 )- ->> E9 [[psysml:196bced0-9581-41ba-9556-fc72f0b07990 ]] : <<variant>>\r\n",
       "}\r\n",
       "@enduml\r\n",
       "\n",
       "PlantUML version 1.2020.13(Sat Jun 13 12:26:38 UTC 2020)\n",
       "(EPL source distribution)\n",
       "Java Runtime: OpenJDK Runtime Environment\n",
       "JVM: OpenJDK 64-Bit Server VM\n",
       "Default Encoding: UTF-8\n",
       "Language: en\n",
       "Country: null\n",
       "--></g></svg>"
      ]
     },
     "execution_count": 10,
     "metadata": {},
     "output_type": "execute_result"
    }
   ],
   "source": [
    "%viz --style=\"POLYLINE\" --view=\"Tree\" \"VariabilityTest\""
   ]
  },
  {
   "cell_type": "code",
   "execution_count": 11,
   "id": "weird-virgin",
   "metadata": {
    "execution": {
     "iopub.execute_input": "2021-03-25T15:07:38.390118Z",
     "iopub.status.busy": "2021-03-25T15:07:38.389109Z",
     "iopub.status.idle": "2021-03-25T15:07:38.399880Z",
     "shell.execute_reply": "2021-03-25T15:07:38.400252Z"
    }
   },
   "outputs": [
    {
     "data": {
      "image/svg+xml": [
       "<?xml version=\"1.0\" encoding=\"UTF-8\" standalone=\"no\"?><svg xmlns=\"http://www.w3.org/2000/svg\" xmlns:xlink=\"http://www.w3.org/1999/xlink\" contentScriptType=\"application/ecmascript\" contentStyleType=\"text/css\" height=\"12px\" preserveAspectRatio=\"none\" style=\"width:12px;height:12px;\" version=\"1.1\" viewBox=\"0 0 12 12\" width=\"12px\" zoomAndPan=\"magnify\"><defs/><g><!--MD5=[896ac0e7a515d8dd7765a661cb4ee08b]\n",
       "@startuml\r\n",
       "skinparam linetype polyline\r\n",
       "skinparam monochrome true\r\n",
       "skinparam classbackgroundcolor white\r\n",
       "skinparam shadowing false\r\n",
       "skinparam wrapWidth 300\r\n",
       "hide circle\r\n",
       "\r\n",
       "@enduml\r\n",
       "\n",
       "PlantUML version 1.2020.13(Sat Jun 13 12:26:38 UTC 2020)\n",
       "(EPL source distribution)\n",
       "Java Runtime: OpenJDK Runtime Environment\n",
       "JVM: OpenJDK 64-Bit Server VM\n",
       "Default Encoding: UTF-8\n",
       "Language: en\n",
       "Country: null\n",
       "--></g></svg>"
      ]
     },
     "execution_count": 11,
     "metadata": {},
     "output_type": "execute_result"
    }
   ],
   "source": [
    "%viz --style=\"POLYLINE\" --view=\"State\" \"VariabilityTest\""
   ]
  },
  {
   "cell_type": "code",
   "execution_count": 12,
   "id": "average-steel",
   "metadata": {
    "execution": {
     "iopub.execute_input": "2021-03-25T15:07:38.452696Z",
     "iopub.status.busy": "2021-03-25T15:07:38.452006Z",
     "iopub.status.idle": "2021-03-25T15:07:38.645712Z",
     "shell.execute_reply": "2021-03-25T15:07:38.646150Z"
    }
   },
   "outputs": [
    {
     "data": {
      "image/svg+xml": [
       "<?xml version=\"1.0\" encoding=\"UTF-8\" standalone=\"no\"?><svg xmlns=\"http://www.w3.org/2000/svg\" xmlns:xlink=\"http://www.w3.org/1999/xlink\" contentScriptType=\"application/ecmascript\" contentStyleType=\"text/css\" height=\"474px\" preserveAspectRatio=\"none\" style=\"width:805px;height:474px;\" version=\"1.1\" viewBox=\"0 0 805 474\" width=\"805px\" zoomAndPan=\"magnify\"><defs/><g><!--MD5=[fbc87193dbaf4d95561dea2c320d4a47]\n",
       "cluster E1--><a href=\"psysml:fc405a6c-3061-4540-9673-8b8e766ba6ac\" target=\"_top\" title=\"psysml:fc405a6c-3061-4540-9673-8b8e766ba6ac\" xlink:actuate=\"onRequest\" xlink:href=\"psysml:fc405a6c-3061-4540-9673-8b8e766ba6ac\" xlink:show=\"new\" xlink:title=\"psysml:fc405a6c-3061-4540-9673-8b8e766ba6ac\" xlink:type=\"simple\"><polygon fill=\"#FFFFFF\" points=\"16,6,134,6,141,28.2969,783,28.2969,783,462,16,462,16,6\" style=\"stroke: #000000; stroke-width: 1.5;\"/><line style=\"stroke: #000000; stroke-width: 1.5;\" x1=\"16\" x2=\"141\" y1=\"28.2969\" y2=\"28.2969\"/><text fill=\"#000000\" font-family=\"sans-serif\" font-size=\"14\" font-weight=\"bold\" lengthAdjust=\"spacingAndGlyphs\" textLength=\"112\" x=\"20\" y=\"20.9951\">VariabilityTest</text></a><!--MD5=[e4f7fae6ed58524ba242bb0b0d3be6b7]\n",
       "cluster E2--><a href=\"psysml:dc902210-e855-46b4-a2dd-8255fef19514\" target=\"_top\" title=\"psysml:dc902210-e855-46b4-a2dd-8255fef19514\" xlink:actuate=\"onRequest\" xlink:href=\"psysml:dc902210-e855-46b4-a2dd-8255fef19514\" xlink:show=\"new\" xlink:title=\"psysml:dc902210-e855-46b4-a2dd-8255fef19514\" xlink:type=\"simple\"><rect fill=\"#FFFFFF\" height=\"126\" id=\"E2\" style=\"stroke: #383838; stroke-width: 1.5;\" width=\"143\" x=\"358\" y=\"304\"/><rect fill=\"#F8F8F8\" height=\"37.9375\" style=\"stroke: #383838; stroke-width: 1.5;\" width=\"143\" x=\"358\" y=\"304\"/><text fill=\"#000000\" font-family=\"sans-serif\" font-size=\"12\" font-style=\"italic\" lengthAdjust=\"spacingAndGlyphs\" textLength=\"64\" x=\"397.5\" y=\"320.1387\">«part def»</text><text fill=\"#000000\" font-family=\"sans-serif\" font-size=\"12\" lengthAdjust=\"spacingAndGlyphs\" textLength=\"8\" x=\"425.5\" y=\"334.1074\">P</text></a><!--MD5=[14e3b0961a2654348d326746436168a1]\n",
       "cluster E6--><a href=\"psysml:b1ebe526-c40e-4c8f-ae74-16f7fcd1bdc9\" target=\"_top\" title=\"psysml:b1ebe526-c40e-4c8f-ae74-16f7fcd1bdc9\" xlink:actuate=\"onRequest\" xlink:href=\"psysml:b1ebe526-c40e-4c8f-ae74-16f7fcd1bdc9\" xlink:show=\"new\" xlink:title=\"psysml:b1ebe526-c40e-4c8f-ae74-16f7fcd1bdc9\" xlink:type=\"simple\"><rect fill=\"#FFFFFF\" height=\"207\" id=\"E6\" style=\"stroke: #383838; stroke-width: 1.5;\" width=\"180\" x=\"571\" y=\"57\"/><rect fill=\"#F8F8F8\" height=\"37.9375\" style=\"stroke: #383838; stroke-width: 1.5;\" width=\"180\" x=\"571\" y=\"57\"/><text fill=\"#000000\" font-family=\"sans-serif\" font-size=\"12\" font-style=\"italic\" lengthAdjust=\"spacingAndGlyphs\" textLength=\"64\" x=\"629\" y=\"73.1387\">«part def»</text><text fill=\"#000000\" font-family=\"sans-serif\" font-size=\"12\" lengthAdjust=\"spacingAndGlyphs\" textLength=\"8\" x=\"657\" y=\"87.1074\">V</text></a><!--MD5=[168fadf3d0c3fd93dd5d6da1b1d7ab76]\n",
       "cluster E7--><a href=\"psysml:05419eac-6c2b-46e9-bd3b-b31f448a077a\" target=\"_top\" title=\"psysml:05419eac-6c2b-46e9-bd3b-b31f448a077a\" xlink:actuate=\"onRequest\" xlink:href=\"psysml:05419eac-6c2b-46e9-bd3b-b31f448a077a\" xlink:show=\"new\" xlink:title=\"psysml:05419eac-6c2b-46e9-bd3b-b31f448a077a\" xlink:type=\"simple\"><rect fill=\"#FFFFFF\" height=\"108\" id=\"E7\" rx=\"10\" ry=\"10\" style=\"stroke: #383838; stroke-width: 1.5;\" width=\"108\" x=\"611\" y=\"124\"/><rect fill=\"#F8F8F8\" height=\"23.9688\" rx=\"10\" ry=\"10\" style=\"stroke: #F8F8F8; stroke-width: 1.5;\" width=\"108\" x=\"611\" y=\"124\"/><rect fill=\"#F8F8F8\" height=\"10\" style=\"stroke: #F8F8F8; stroke-width: 1.5;\" width=\"108\" x=\"611\" y=\"137.9688\"/><rect fill=\"none\" height=\"108\" id=\"E7\" rx=\"10\" ry=\"10\" style=\"stroke: #383838; stroke-width: 1.5;\" width=\"108\" x=\"611\" y=\"124\"/><text fill=\"#000000\" font-family=\"sans-serif\" font-size=\"12\" lengthAdjust=\"spacingAndGlyphs\" textLength=\"23\" x=\"653.5\" y=\"140.1387\">x: Q</text><line style=\"stroke: #383838; stroke-width: 1.0;\" x1=\"611\" x2=\"719\" y1=\"147.9688\" y2=\"147.9688\"/></a><!--MD5=[a84b4591f868c1fa4a211716a82f2f0d]\n",
       "cluster E10--><a href=\"psysml:d11ba367-2498-4d3b-bf9a-6df5f0bc7068\" target=\"_top\" title=\"psysml:d11ba367-2498-4d3b-bf9a-6df5f0bc7068\" xlink:actuate=\"onRequest\" xlink:href=\"psysml:d11ba367-2498-4d3b-bf9a-6df5f0bc7068\" xlink:show=\"new\" xlink:title=\"psysml:d11ba367-2498-4d3b-bf9a-6df5f0bc7068\" xlink:type=\"simple\"><rect fill=\"#FFFFFF\" height=\"191\" id=\"E10\" rx=\"10\" ry=\"10\" style=\"stroke: #383838; stroke-width: 1.5;\" width=\"156\" x=\"383\" y=\"65\"/><rect fill=\"#F8F8F8\" height=\"37.9375\" rx=\"10\" ry=\"10\" style=\"stroke: #F8F8F8; stroke-width: 1.5;\" width=\"156\" x=\"383\" y=\"65\"/><rect fill=\"#F8F8F8\" height=\"10\" style=\"stroke: #F8F8F8; stroke-width: 1.5;\" width=\"156\" x=\"383\" y=\"92.9375\"/><rect fill=\"none\" height=\"191\" id=\"E10\" rx=\"10\" ry=\"10\" style=\"stroke: #383838; stroke-width: 1.5;\" width=\"156\" x=\"383\" y=\"65\"/><text fill=\"#000000\" font-family=\"sans-serif\" font-size=\"12\" font-style=\"italic\" lengthAdjust=\"spacingAndGlyphs\" textLength=\"68\" x=\"427\" y=\"81.1387\">«variation»</text><text fill=\"#000000\" font-family=\"sans-serif\" font-size=\"12\" lengthAdjust=\"spacingAndGlyphs\" textLength=\"22\" x=\"450\" y=\"95.1074\">v: P</text><line style=\"stroke: #383838; stroke-width: 1.0;\" x1=\"383\" x2=\"539\" y1=\"102.9375\" y2=\"102.9375\"/></a><!--MD5=[917b9dd0c7eca3ee5f47219d1a84c0ad]\n",
       "cluster E11--><a href=\"psysml:72597939-8390-466d-9479-39928477d122\" target=\"_top\" title=\"psysml:72597939-8390-466d-9479-39928477d122\" xlink:actuate=\"onRequest\" xlink:href=\"psysml:72597939-8390-466d-9479-39928477d122\" xlink:show=\"new\" xlink:title=\"psysml:72597939-8390-466d-9479-39928477d122\" xlink:type=\"simple\"><rect fill=\"#FFFFFF\" height=\"108\" id=\"E11\" rx=\"10\" ry=\"10\" style=\"stroke: #383838; stroke-width: 1.5;\" width=\"108\" x=\"407\" y=\"124\"/><rect fill=\"#F8F8F8\" height=\"23.9688\" rx=\"10\" ry=\"10\" style=\"stroke: #F8F8F8; stroke-width: 1.5;\" width=\"108\" x=\"407\" y=\"124\"/><rect fill=\"#F8F8F8\" height=\"10\" style=\"stroke: #F8F8F8; stroke-width: 1.5;\" width=\"108\" x=\"407\" y=\"137.9688\"/><rect fill=\"none\" height=\"108\" id=\"E11\" rx=\"10\" ry=\"10\" style=\"stroke: #383838; stroke-width: 1.5;\" width=\"108\" x=\"407\" y=\"124\"/><text fill=\"#000000\" font-family=\"sans-serif\" font-size=\"12\" lengthAdjust=\"spacingAndGlyphs\" textLength=\"6\" x=\"458\" y=\"140.1387\">y</text><line style=\"stroke: #383838; stroke-width: 1.0;\" x1=\"407\" x2=\"515\" y1=\"147.9688\" y2=\"147.9688\"/></a><!--MD5=[270fce915f116d4de14055a7c1d9a0f3]\n",
       "class E5--><a href=\"psysml:f17815b8-46c4-4dd9-bf70-524ba6c03f24\" target=\"_top\" title=\"psysml:f17815b8-46c4-4dd9-bf70-524ba6c03f24\" xlink:actuate=\"onRequest\" xlink:href=\"psysml:f17815b8-46c4-4dd9-bf70-524ba6c03f24\" xlink:show=\"new\" xlink:title=\"psysml:f17815b8-46c4-4dd9-bf70-524ba6c03f24\" xlink:type=\"simple\"><rect fill=\"#FFFFFF\" height=\"53.9375\" id=\"E5\" style=\"stroke: #383838; stroke-width: 1.5;\" width=\"143\" x=\"223.5\" y=\"160.5\"/><text fill=\"#000000\" font-family=\"sans-serif\" font-size=\"12\" font-style=\"italic\" lengthAdjust=\"spacingAndGlyphs\" textLength=\"141\" x=\"224.5\" y=\"176.6387\">«(T,blue)attribute def»</text><text fill=\"#000000\" font-family=\"sans-serif\" font-size=\"12\" lengthAdjust=\"spacingAndGlyphs\" textLength=\"8\" x=\"291\" y=\"190.6074\">B</text><line style=\"stroke: #383838; stroke-width: 1.5;\" x1=\"224.5\" x2=\"365.5\" y1=\"198.4375\" y2=\"198.4375\"/><line style=\"stroke: #383838; stroke-width: 1.5;\" x1=\"224.5\" x2=\"365.5\" y1=\"206.4375\" y2=\"206.4375\"/></a><g id=\"E1.E2.E3\"><a href=\"psysml:6681b89b-422d-48d0-bc41-7a96ec587b7c\" target=\"_top\" title=\"psysml:6681b89b-422d-48d0-bc41-7a96ec587b7c\" xlink:actuate=\"onRequest\" xlink:href=\"psysml:6681b89b-422d-48d0-bc41-7a96ec587b7c\" xlink:show=\"new\" xlink:title=\"psysml:6681b89b-422d-48d0-bc41-7a96ec587b7c\" xlink:type=\"simple\"><rect fill=\"#FFFFFF\" height=\"42.9375\" id=\"E3\" rx=\"10\" ry=\"10\" style=\"stroke: #383838; stroke-width: 1.5;\" width=\"76\" x=\"401\" y=\"363\"/><rect fill=\"#F8F8F8\" height=\"37.9375\" rx=\"10\" ry=\"10\" style=\"stroke: #F8F8F8; stroke-width: 1.5;\" width=\"76\" x=\"401\" y=\"363\"/><rect fill=\"#F8F8F8\" height=\"10\" style=\"stroke: #F8F8F8; stroke-width: 1.5;\" width=\"76\" x=\"401\" y=\"390.9375\"/><rect fill=\"none\" height=\"42.9375\" id=\"E3\" rx=\"10\" ry=\"10\" style=\"stroke: #383838; stroke-width: 1.5;\" width=\"76\" x=\"401\" y=\"363\"/><text fill=\"#000000\" font-family=\"sans-serif\" font-size=\"12\" font-style=\"italic\" lengthAdjust=\"spacingAndGlyphs\" textLength=\"69\" x=\"404.5\" y=\"379.1387\">«attribute»</text><text fill=\"#000000\" font-family=\"sans-serif\" font-size=\"12\" lengthAdjust=\"spacingAndGlyphs\" textLength=\"8\" x=\"435\" y=\"393.1074\">a</text></a></g><g id=\"E1.E4\"><a href=\"psysml:b52c8837-30af-42aa-bc51-100eaed5de80\" target=\"_top\" title=\"psysml:b52c8837-30af-42aa-bc51-100eaed5de80\" xlink:actuate=\"onRequest\" xlink:href=\"psysml:b52c8837-30af-42aa-bc51-100eaed5de80\" xlink:show=\"new\" xlink:title=\"psysml:b52c8837-30af-42aa-bc51-100eaed5de80\" xlink:type=\"simple\"><rect fill=\"#FFFFFF\" height=\"42.9375\" id=\"E4\" style=\"stroke: #383838; stroke-width: 1.5;\" width=\"71\" x=\"117.5\" y=\"166\"/><rect fill=\"#F8F8F8\" height=\"37.9375\" style=\"stroke: #383838; stroke-width: 1.5;\" width=\"71\" x=\"117.5\" y=\"166\"/><text fill=\"#000000\" font-family=\"sans-serif\" font-size=\"12\" font-style=\"italic\" lengthAdjust=\"spacingAndGlyphs\" textLength=\"64\" x=\"121\" y=\"182.1387\">«part def»</text><text fill=\"#000000\" font-family=\"sans-serif\" font-size=\"12\" lengthAdjust=\"spacingAndGlyphs\" textLength=\"9\" x=\"148.5\" y=\"196.1074\">Q</text></a></g><g id=\"E1.E6.E7.E8\"><a href=\"psysml:ea3366e9-5974-4411-9b27-ac275f4425c1\" target=\"_top\" title=\"psysml:ea3366e9-5974-4411-9b27-ac275f4425c1\" xlink:actuate=\"onRequest\" xlink:href=\"psysml:ea3366e9-5974-4411-9b27-ac275f4425c1\" xlink:show=\"new\" xlink:title=\"psysml:ea3366e9-5974-4411-9b27-ac275f4425c1\" xlink:type=\"simple\"><rect fill=\"#FFFFFF\" height=\"56.9063\" id=\"E8\" rx=\"10\" ry=\"10\" style=\"stroke: #383838; stroke-width: 1.5;\" width=\"76\" x=\"627\" y=\"159\"/><rect fill=\"#F8F8F8\" height=\"51.9063\" rx=\"10\" ry=\"10\" style=\"stroke: #F8F8F8; stroke-width: 1.5;\" width=\"76\" x=\"627\" y=\"159\"/><rect fill=\"#F8F8F8\" height=\"10\" style=\"stroke: #F8F8F8; stroke-width: 1.5;\" width=\"76\" x=\"627\" y=\"200.9063\"/><rect fill=\"none\" height=\"56.9063\" id=\"E8\" rx=\"10\" ry=\"10\" style=\"stroke: #383838; stroke-width: 1.5;\" width=\"76\" x=\"627\" y=\"159\"/><text fill=\"#000000\" font-family=\"sans-serif\" font-size=\"12\" font-style=\"italic\" lengthAdjust=\"spacingAndGlyphs\" textLength=\"69\" x=\"630.5\" y=\"175.1387\">«attribute»</text><text fill=\"#000000\" font-family=\"sans-serif\" font-size=\"12\" lengthAdjust=\"spacingAndGlyphs\" textLength=\"24\" x=\"653\" y=\"189.1074\">b: B</text><text fill=\"#000000\" font-family=\"sans-serif\" font-size=\"12\" font-style=\"italic\" lengthAdjust=\"spacingAndGlyphs\" textLength=\"48\" x=\"639\" y=\"203.0762\">:&gt;&gt;P::a</text><text fill=\"#000000\" font-family=\"sans-serif\" font-size=\"12\" lengthAdjust=\"spacingAndGlyphs\" textLength=\"0\" x=\"691\" y=\"203.0762\"/></a></g><g id=\"E1.E9\"><a href=\"psysml:bd66bfa4-4cf8-4e62-98d6-c8549fcb8467\" target=\"_top\" title=\"psysml:bd66bfa4-4cf8-4e62-98d6-c8549fcb8467\" xlink:actuate=\"onRequest\" xlink:href=\"psysml:bd66bfa4-4cf8-4e62-98d6-c8549fcb8467\" xlink:show=\"new\" xlink:title=\"psysml:bd66bfa4-4cf8-4e62-98d6-c8549fcb8467\" xlink:type=\"simple\"><rect fill=\"#FFFFFF\" height=\"40\" id=\"E9\" rx=\"10\" ry=\"10\" style=\"stroke: #383838; stroke-width: 1.5;\" width=\"50\" x=\"32\" y=\"167.5\"/><rect fill=\"#F8F8F8\" height=\"23.9688\" rx=\"10\" ry=\"10\" style=\"stroke: #F8F8F8; stroke-width: 1.5;\" width=\"50\" x=\"32\" y=\"167.5\"/><rect fill=\"#F8F8F8\" height=\"10\" style=\"stroke: #F8F8F8; stroke-width: 1.5;\" width=\"50\" x=\"32\" y=\"181.4688\"/><rect fill=\"none\" height=\"40\" id=\"E9\" rx=\"10\" ry=\"10\" style=\"stroke: #383838; stroke-width: 1.5;\" width=\"50\" x=\"32\" y=\"167.5\"/><text fill=\"#000000\" font-family=\"sans-serif\" font-size=\"12\" lengthAdjust=\"spacingAndGlyphs\" textLength=\"25\" x=\"44.5\" y=\"183.6387\">q: Q</text></a></g><g id=\"E1.E10.E11.E12\"><a href=\"psysml:bdc7bdc2-851d-4524-9d87-06992ba679d3\" target=\"_top\" title=\"psysml:bdc7bdc2-851d-4524-9d87-06992ba679d3\" xlink:actuate=\"onRequest\" xlink:href=\"psysml:bdc7bdc2-851d-4524-9d87-06992ba679d3\" xlink:show=\"new\" xlink:title=\"psysml:bdc7bdc2-851d-4524-9d87-06992ba679d3\" xlink:type=\"simple\"><rect fill=\"#FFFFFF\" height=\"56.9063\" id=\"E12\" rx=\"10\" ry=\"10\" style=\"stroke: #383838; stroke-width: 1.5;\" width=\"76\" x=\"423\" y=\"159\"/><rect fill=\"#F8F8F8\" height=\"51.9063\" rx=\"10\" ry=\"10\" style=\"stroke: #F8F8F8; stroke-width: 1.5;\" width=\"76\" x=\"423\" y=\"159\"/><rect fill=\"#F8F8F8\" height=\"10\" style=\"stroke: #F8F8F8; stroke-width: 1.5;\" width=\"76\" x=\"423\" y=\"200.9063\"/><rect fill=\"none\" height=\"56.9063\" id=\"E12\" rx=\"10\" ry=\"10\" style=\"stroke: #383838; stroke-width: 1.5;\" width=\"76\" x=\"423\" y=\"159\"/><text fill=\"#000000\" font-family=\"sans-serif\" font-size=\"12\" font-style=\"italic\" lengthAdjust=\"spacingAndGlyphs\" textLength=\"69\" x=\"426.5\" y=\"175.1387\">«attribute»</text><text fill=\"#000000\" font-family=\"sans-serif\" font-size=\"12\" lengthAdjust=\"spacingAndGlyphs\" textLength=\"24\" x=\"449\" y=\"189.1074\">b: B</text><text fill=\"#000000\" font-family=\"sans-serif\" font-size=\"12\" font-style=\"italic\" lengthAdjust=\"spacingAndGlyphs\" textLength=\"48\" x=\"435\" y=\"203.0762\">:&gt;&gt;P::a</text><text fill=\"#000000\" font-family=\"sans-serif\" font-size=\"12\" lengthAdjust=\"spacingAndGlyphs\" textLength=\"0\" x=\"487\" y=\"203.0762\"/></a></g><!--MD5=[185131fc0dcab0a4505a2ebe144e961b]\n",
       "link E4 to E2--><a href=\"psysml:0057605f-0b36-40b5-a833-d8040f0d9e74\" target=\"_top\" title=\"psysml:0057605f-0b36-40b5-a833-d8040f0d9e74\" xlink:actuate=\"onRequest\" xlink:href=\"psysml:0057605f-0b36-40b5-a833-d8040f0d9e74\" xlink:show=\"new\" xlink:title=\"psysml:0057605f-0b36-40b5-a833-d8040f0d9e74\" xlink:type=\"simple\"><path d=\"M165.03,209.26 C180.66,236.26 206,280 206,280 C206,280 244.76,305.0725 284.125,330.5363 C303.8075,343.2681 323.6413,356.0978 338.8569,365.9402 C346.4647,370.8613 352.918,375.0357 357.6205,378.0775 \" fill=\"none\" id=\"E4-&gt;E2\" style=\"stroke: #383838; stroke-width: 1.0;\"/><polygon fill=\"#FFFFFF\" points=\"357.6205,378.0775,345.4691,361.8806,337.8653,373.6357,357.6205,378.0775\" style=\"stroke: #383838; stroke-width: 1.0;\"/></a><!--MD5=[2351f337d6de0f557b50152ba70847b5]\n",
       "link E6 to E2--><a href=\"psysml:922ee1f9-edf0-4204-bf0f-0435eb6f66de\" target=\"_top\" title=\"psysml:922ee1f9-edf0-4204-bf0f-0435eb6f66de\" xlink:actuate=\"onRequest\" xlink:href=\"psysml:922ee1f9-edf0-4204-bf0f-0435eb6f66de\" xlink:show=\"new\" xlink:title=\"psysml:922ee1f9-edf0-4204-bf0f-0435eb6f66de\" xlink:type=\"simple\"><path d=\"M570.8537,200.1496 C570.683,200.3936 570.5102,200.6407 570.3354,200.8906 C569.6362,201.8904 568.9043,202.9369 568.1436,204.0245 C562.0578,212.7259 554.1244,224.0681 546.2513,235.3238 C530.505,257.835 515,280 515,280 C515,280 385,288 385,288 C385,288 383.8494,293.7838 382.1144,302.5045 C382.0602,302.7771 382.0054,303.0524 381.95,303.3306 C381.9224,303.4697 381.8945,303.6095 381.8666,303.75 \" fill=\"none\" id=\"E6-&gt;E2\" style=\"stroke: #383838; stroke-width: 1.0;\"/><polygon fill=\"#FFFFFF\" points=\"381.8666,303.75,392.4394,286.4811,378.7086,283.7493,381.8666,303.75\" style=\"stroke: #383838; stroke-width: 1.0;\"/></a><!--MD5=[e5bed70086420728d490d41eb4987a0a]\n",
       "@startuml\r\n",
       "skinparam ranksep 8\r\n",
       "skinparam rectangle {\r\n",
       " backgroundColor<<block>> LightGreen\r\n",
       "}\r\n",
       "skinparam linetype polyline\r\n",
       "skinparam monochrome true\r\n",
       "skinparam classbackgroundcolor white\r\n",
       "skinparam shadowing false\r\n",
       "skinparam wrapWidth 300\r\n",
       "hide circle\r\n",
       "\r\n",
       "package \"VariabilityTest\" as E1  [[psysml:fc405a6c-3061-4540-9673-8b8e766ba6ac ]]  {\r\n",
       "rec def \"P\" as E2  <<(T,blue)part def>> [[psysml:dc902210-e855-46b4-a2dd-8255fef19514 ]] {\r\n",
       "rec usage \"a\" as E3  <<(T,blue)attribute>> [[psysml:6681b89b-422d-48d0-bc41-7a96ec587b7c ]] {\r\n",
       "}\r\n",
       "}\r\n",
       "rec def \"Q\" as E4  <<(T,blue)part def>> [[psysml:b52c8837-30af-42aa-bc51-100eaed5de80 ]] {\r\n",
       "}\r\n",
       "def \"B\" as E5  <<(T,blue)attribute def>> [[psysml:f17815b8-46c4-4dd9-bf70-524ba6c03f24 ]] \r\n",
       "rec def \"V\" as E6  <<(T,blue)part def>> [[psysml:b1ebe526-c40e-4c8f-ae74-16f7fcd1bdc9 ]] {\r\n",
       "rec usage \"x: Q\" as E7  [[psysml:05419eac-6c2b-46e9-bd3b-b31f448a077a ]] {\r\n",
       "rec usage \"b: B\\n//:>>P::a// \" as E8  <<(T,blue)attribute>> [[psysml:ea3366e9-5974-4411-9b27-ac275f4425c1 ]] {\r\n",
       "}\r\n",
       "}\r\n",
       "}\r\n",
       "rec usage \"q: Q\" as E9  [[psysml:bd66bfa4-4cf8-4e62-98d6-c8549fcb8467 ]] {\r\n",
       "}\r\n",
       "rec usage \"v: P\" as E10  <<variation>> [[psysml:d11ba367-2498-4d3b-bf9a-6df5f0bc7068 ]] {\r\n",
       "rec usage \"y\" as E11  [[psysml:72597939-8390-466d-9479-39928477d122 ]] {\r\n",
       "rec usage \"b: B\\n//:>>P::a// \" as E12  <<(T,blue)attribute>> [[psysml:bdc7bdc2-851d-4524-9d87-06992ba679d3 ]] {\r\n",
       "}\r\n",
       "}\r\n",
       "}\r\n",
       "E4 - -|> E2 [[psysml:0057605f-0b36-40b5-a833-d8040f0d9e74 ]] \r\n",
       "E6 - -|> E2 [[psysml:922ee1f9-edf0-4204-bf0f-0435eb6f66de ]] \r\n",
       "}\r\n",
       "@enduml\r\n",
       "\n",
       "PlantUML version 1.2020.13(Sat Jun 13 12:26:38 UTC 2020)\n",
       "(EPL source distribution)\n",
       "Java Runtime: OpenJDK Runtime Environment\n",
       "JVM: OpenJDK 64-Bit Server VM\n",
       "Default Encoding: UTF-8\n",
       "Language: en\n",
       "Country: null\n",
       "--></g></svg>"
      ]
     },
     "execution_count": 12,
     "metadata": {},
     "output_type": "execute_result"
    }
   ],
   "source": [
    "%viz --style=\"POLYLINE\" --view=\"Interconnection\" \"VariabilityTest\""
   ]
  },
  {
   "cell_type": "code",
   "execution_count": 13,
   "id": "adaptive-serum",
   "metadata": {
    "execution": {
     "iopub.execute_input": "2021-03-25T15:07:38.697561Z",
     "iopub.status.busy": "2021-03-25T15:07:38.696891Z",
     "iopub.status.idle": "2021-03-25T15:07:38.709265Z",
     "shell.execute_reply": "2021-03-25T15:07:38.708971Z"
    }
   },
   "outputs": [
    {
     "data": {
      "image/svg+xml": [
       "<?xml version=\"1.0\" encoding=\"UTF-8\" standalone=\"no\"?><svg xmlns=\"http://www.w3.org/2000/svg\" xmlns:xlink=\"http://www.w3.org/1999/xlink\" contentScriptType=\"application/ecmascript\" contentStyleType=\"text/css\" height=\"12px\" preserveAspectRatio=\"none\" style=\"width:12px;height:12px;\" version=\"1.1\" viewBox=\"0 0 12 12\" width=\"12px\" zoomAndPan=\"magnify\"><defs/><g><!--MD5=[97bbf32f66ccd50cbc40d92ea8f5a65e]\n",
       "@startuml\r\n",
       "skinparam ranksep 8\r\n",
       "skinparam linetype polyline\r\n",
       "skinparam monochrome true\r\n",
       "skinparam classbackgroundcolor white\r\n",
       "skinparam shadowing false\r\n",
       "skinparam wrapWidth 300\r\n",
       "hide circle\r\n",
       "\r\n",
       "@enduml\r\n",
       "\n",
       "PlantUML version 1.2020.13(Sat Jun 13 12:26:38 UTC 2020)\n",
       "(EPL source distribution)\n",
       "Java Runtime: OpenJDK Runtime Environment\n",
       "JVM: OpenJDK 64-Bit Server VM\n",
       "Default Encoding: UTF-8\n",
       "Language: en\n",
       "Country: null\n",
       "--></g></svg>"
      ]
     },
     "execution_count": 13,
     "metadata": {},
     "output_type": "execute_result"
    }
   ],
   "source": [
    "%viz --style=\"POLYLINE\" --view=\"Action\" \"VariabilityTest\""
   ]
  },
  {
   "cell_type": "code",
   "execution_count": 14,
   "id": "distinct-oakland",
   "metadata": {
    "execution": {
     "iopub.execute_input": "2021-03-25T15:07:38.761416Z",
     "iopub.status.busy": "2021-03-25T15:07:38.760955Z",
     "iopub.status.idle": "2021-03-25T15:07:39.203807Z",
     "shell.execute_reply": "2021-03-25T15:07:39.203382Z"
    }
   },
   "outputs": [
    {
     "data": {
      "image/svg+xml": [
       "<?xml version=\"1.0\" encoding=\"UTF-8\" standalone=\"no\"?><svg xmlns=\"http://www.w3.org/2000/svg\" xmlns:xlink=\"http://www.w3.org/1999/xlink\" contentScriptType=\"application/ecmascript\" contentStyleType=\"text/css\" height=\"401px\" preserveAspectRatio=\"none\" style=\"width:342px;height:401px;\" version=\"1.1\" viewBox=\"0 0 342 401\" width=\"342px\" zoomAndPan=\"magnify\"><defs/><g><!--MD5=[fbc87193dbaf4d95561dea2c320d4a47]\n",
       "cluster E1--><a href=\"psysml:fc405a6c-3061-4540-9673-8b8e766ba6ac\" target=\"_top\" title=\"psysml:fc405a6c-3061-4540-9673-8b8e766ba6ac\" xlink:actuate=\"onRequest\" xlink:href=\"psysml:fc405a6c-3061-4540-9673-8b8e766ba6ac\" xlink:show=\"new\" xlink:title=\"psysml:fc405a6c-3061-4540-9673-8b8e766ba6ac\" xlink:type=\"simple\"><polygon fill=\"#FFFFFF\" points=\"16,6,134,6,141,28.2969,320,28.2969,320,389,16,389,16,6\" style=\"stroke: #000000; stroke-width: 1.5;\"/><line style=\"stroke: #000000; stroke-width: 1.5;\" x1=\"16\" x2=\"141\" y1=\"28.2969\" y2=\"28.2969\"/><text fill=\"#000000\" font-family=\"sans-serif\" font-size=\"14\" font-weight=\"bold\" lengthAdjust=\"spacingAndGlyphs\" textLength=\"112\" x=\"20\" y=\"20.9951\">VariabilityTest</text></a><!--MD5=[b4997ac47864f28c2f74865a473b2911]\n",
       "class E2--><a href=\"psysml:dc902210-e855-46b4-a2dd-8255fef19514\" target=\"_top\" title=\"psysml:dc902210-e855-46b4-a2dd-8255fef19514\" xlink:actuate=\"onRequest\" xlink:href=\"psysml:dc902210-e855-46b4-a2dd-8255fef19514\" xlink:show=\"new\" xlink:title=\"psysml:dc902210-e855-46b4-a2dd-8255fef19514\" xlink:type=\"simple\"><rect fill=\"#FFFFFF\" height=\"75.5469\" id=\"E2\" style=\"stroke: #383838; stroke-width: 1.5;\" width=\"66\" x=\"135\" y=\"291\"/><text fill=\"#000000\" font-family=\"sans-serif\" font-size=\"12\" font-style=\"italic\" lengthAdjust=\"spacingAndGlyphs\" textLength=\"64\" x=\"136\" y=\"307.1387\">«part def»</text><text fill=\"#000000\" font-family=\"sans-serif\" font-size=\"12\" lengthAdjust=\"spacingAndGlyphs\" textLength=\"8\" x=\"164\" y=\"321.1074\">P</text><line style=\"stroke: #383838; stroke-width: 1.5;\" x1=\"136\" x2=\"200\" y1=\"328.9375\" y2=\"328.9375\"/><text fill=\"#000000\" font-family=\"sans-serif\" font-size=\"11\" lengthAdjust=\"spacingAndGlyphs\" textLength=\"7\" x=\"141\" y=\"359.9526\">a</text><line style=\"stroke: #383838; stroke-width: 1.0;\" x1=\"136\" x2=\"140.5\" y1=\"343.3398\" y2=\"343.3398\"/><text fill=\"#000000\" font-family=\"sans-serif\" font-size=\"11\" lengthAdjust=\"spacingAndGlyphs\" textLength=\"55\" x=\"140.5\" y=\"346.6479\">attributes</text><line style=\"stroke: #383838; stroke-width: 1.0;\" x1=\"195.5\" x2=\"200\" y1=\"343.3398\" y2=\"343.3398\"/></a><!--MD5=[09b614a08d8cba4a07c9adeb5e0fee81]\n",
       "class E3--><a href=\"psysml:b52c8837-30af-42aa-bc51-100eaed5de80\" target=\"_top\" title=\"psysml:b52c8837-30af-42aa-bc51-100eaed5de80\" xlink:actuate=\"onRequest\" xlink:href=\"psysml:b52c8837-30af-42aa-bc51-100eaed5de80\" xlink:show=\"new\" xlink:title=\"psysml:b52c8837-30af-42aa-bc51-100eaed5de80\" xlink:type=\"simple\"><rect fill=\"#FFFFFF\" height=\"45.9375\" id=\"E3\" style=\"stroke: #383838; stroke-width: 1.5;\" width=\"66\" x=\"137\" y=\"155\"/><text fill=\"#000000\" font-family=\"sans-serif\" font-size=\"12\" font-style=\"italic\" lengthAdjust=\"spacingAndGlyphs\" textLength=\"64\" x=\"138\" y=\"171.1387\">«part def»</text><text fill=\"#000000\" font-family=\"sans-serif\" font-size=\"12\" lengthAdjust=\"spacingAndGlyphs\" textLength=\"9\" x=\"165.5\" y=\"185.1074\">Q</text><line style=\"stroke: #383838; stroke-width: 1.5;\" x1=\"138\" x2=\"202\" y1=\"192.9375\" y2=\"192.9375\"/></a><!--MD5=[ebbe1d658d1005bcc118a6aa81145e00]\n",
       "class E4--><a href=\"psysml:f17815b8-46c4-4dd9-bf70-524ba6c03f24\" target=\"_top\" title=\"psysml:f17815b8-46c4-4dd9-bf70-524ba6c03f24\" xlink:actuate=\"onRequest\" xlink:href=\"psysml:f17815b8-46c4-4dd9-bf70-524ba6c03f24\" xlink:show=\"new\" xlink:title=\"psysml:f17815b8-46c4-4dd9-bf70-524ba6c03f24\" xlink:type=\"simple\"><rect fill=\"#FFFFFF\" height=\"45.9375\" id=\"E4\" style=\"stroke: #383838; stroke-width: 1.5;\" width=\"95\" x=\"208.5\" y=\"41\"/><text fill=\"#000000\" font-family=\"sans-serif\" font-size=\"12\" font-style=\"italic\" lengthAdjust=\"spacingAndGlyphs\" textLength=\"93\" x=\"209.5\" y=\"57.1387\">«attribute def»</text><text fill=\"#000000\" font-family=\"sans-serif\" font-size=\"12\" lengthAdjust=\"spacingAndGlyphs\" textLength=\"8\" x=\"252\" y=\"71.1074\">B</text><line style=\"stroke: #383838; stroke-width: 1.5;\" x1=\"209.5\" x2=\"302.5\" y1=\"78.9375\" y2=\"78.9375\"/></a><!--MD5=[270fce915f116d4de14055a7c1d9a0f3]\n",
       "class E5--><a href=\"psysml:b1ebe526-c40e-4c8f-ae74-16f7fcd1bdc9\" target=\"_top\" title=\"psysml:b1ebe526-c40e-4c8f-ae74-16f7fcd1bdc9\" xlink:actuate=\"onRequest\" xlink:href=\"psysml:b1ebe526-c40e-4c8f-ae74-16f7fcd1bdc9\" xlink:show=\"new\" xlink:title=\"psysml:b1ebe526-c40e-4c8f-ae74-16f7fcd1bdc9\" xlink:type=\"simple\"><rect fill=\"#FFFFFF\" height=\"45.9375\" id=\"E5\" style=\"stroke: #383838; stroke-width: 1.5;\" width=\"66\" x=\"238\" y=\"155\"/><text fill=\"#000000\" font-family=\"sans-serif\" font-size=\"12\" font-style=\"italic\" lengthAdjust=\"spacingAndGlyphs\" textLength=\"64\" x=\"239\" y=\"171.1387\">«part def»</text><text fill=\"#000000\" font-family=\"sans-serif\" font-size=\"12\" lengthAdjust=\"spacingAndGlyphs\" textLength=\"8\" x=\"267\" y=\"185.1074\">V</text><line style=\"stroke: #383838; stroke-width: 1.5;\" x1=\"239\" x2=\"303\" y1=\"192.9375\" y2=\"192.9375\"/></a><!--MD5=[60a26617385b1d2d0262a64233df1f8d]\n",
       "class E6--><a href=\"psysml:05419eac-6c2b-46e9-bd3b-b31f448a077a\" target=\"_top\" title=\"psysml:05419eac-6c2b-46e9-bd3b-b31f448a077a\" xlink:actuate=\"onRequest\" xlink:href=\"psysml:05419eac-6c2b-46e9-bd3b-b31f448a077a\" xlink:show=\"new\" xlink:title=\"psysml:05419eac-6c2b-46e9-bd3b-b31f448a077a\" xlink:type=\"simple\"><rect fill=\"#FFFFFF\" height=\"88.3516\" id=\"E6\" rx=\"10\" ry=\"10\" style=\"stroke: #383838; stroke-width: 1.5;\" width=\"63\" x=\"236.5\" y=\"285\"/><text fill=\"#000000\" font-family=\"sans-serif\" font-size=\"12\" font-style=\"italic\" lengthAdjust=\"spacingAndGlyphs\" textLength=\"40\" x=\"248\" y=\"301.1387\">«part»</text><text fill=\"#000000\" font-family=\"sans-serif\" font-size=\"12\" lengthAdjust=\"spacingAndGlyphs\" textLength=\"23\" x=\"256.5\" y=\"315.1074\">x: Q</text><line style=\"stroke: #383838; stroke-width: 1.5;\" x1=\"237.5\" x2=\"298.5\" y1=\"322.9375\" y2=\"322.9375\"/><text fill=\"#000000\" font-family=\"sans-serif\" font-size=\"11\" lengthAdjust=\"spacingAndGlyphs\" textLength=\"23\" x=\"242.5\" y=\"353.9526\">b: B</text><text fill=\"#000000\" font-family=\"sans-serif\" font-size=\"11\" font-style=\"italic\" lengthAdjust=\"spacingAndGlyphs\" textLength=\"44\" x=\"242.5\" y=\"366.7573\">:&gt;&gt;P::a</text><line style=\"stroke: #383838; stroke-width: 1.0;\" x1=\"237.5\" x2=\"240.5\" y1=\"337.3398\" y2=\"337.3398\"/><text fill=\"#000000\" font-family=\"sans-serif\" font-size=\"11\" lengthAdjust=\"spacingAndGlyphs\" textLength=\"55\" x=\"240.5\" y=\"340.6479\">attributes</text><line style=\"stroke: #383838; stroke-width: 1.0;\" x1=\"295.5\" x2=\"298.5\" y1=\"337.3398\" y2=\"337.3398\"/></a><!--MD5=[2156ba9850f5573cc1fc38a6a4b2f02b]\n",
       "class E7--><a href=\"psysml:bd66bfa4-4cf8-4e62-98d6-c8549fcb8467\" target=\"_top\" title=\"psysml:bd66bfa4-4cf8-4e62-98d6-c8549fcb8467\" xlink:actuate=\"onRequest\" xlink:href=\"psysml:bd66bfa4-4cf8-4e62-98d6-c8549fcb8467\" xlink:show=\"new\" xlink:title=\"psysml:bd66bfa4-4cf8-4e62-98d6-c8549fcb8467\" xlink:type=\"simple\"><rect fill=\"#FFFFFF\" height=\"45.9375\" id=\"E7\" rx=\"10\" ry=\"10\" style=\"stroke: #383838; stroke-width: 1.5;\" width=\"42\" x=\"131\" y=\"41\"/><text fill=\"#000000\" font-family=\"sans-serif\" font-size=\"12\" font-style=\"italic\" lengthAdjust=\"spacingAndGlyphs\" textLength=\"40\" x=\"132\" y=\"57.1387\">«part»</text><text fill=\"#000000\" font-family=\"sans-serif\" font-size=\"12\" lengthAdjust=\"spacingAndGlyphs\" textLength=\"25\" x=\"139.5\" y=\"71.1074\">q: Q</text><line style=\"stroke: #383838; stroke-width: 1.5;\" x1=\"132\" x2=\"172\" y1=\"78.9375\" y2=\"78.9375\"/></a><!--MD5=[b9389687b975829384b498ac4b7476b2]\n",
       "class E8--><a href=\"psysml:d11ba367-2498-4d3b-bf9a-6df5f0bc7068\" target=\"_top\" title=\"psysml:d11ba367-2498-4d3b-bf9a-6df5f0bc7068\" xlink:actuate=\"onRequest\" xlink:href=\"psysml:d11ba367-2498-4d3b-bf9a-6df5f0bc7068\" xlink:show=\"new\" xlink:title=\"psysml:d11ba367-2498-4d3b-bf9a-6df5f0bc7068\" xlink:type=\"simple\"><rect fill=\"#FFFFFF\" height=\"59.9063\" id=\"E8\" rx=\"10\" ry=\"10\" style=\"stroke: #383838; stroke-width: 1.5;\" width=\"70\" x=\"32\" y=\"148\"/><text fill=\"#000000\" font-family=\"sans-serif\" font-size=\"12\" font-style=\"italic\" lengthAdjust=\"spacingAndGlyphs\" textLength=\"68\" x=\"33\" y=\"164.1387\">«variation»</text><text fill=\"#000000\" font-family=\"sans-serif\" font-size=\"12\" font-style=\"italic\" lengthAdjust=\"spacingAndGlyphs\" textLength=\"40\" x=\"47\" y=\"178.1074\">«part»</text><text fill=\"#000000\" font-family=\"sans-serif\" font-size=\"12\" lengthAdjust=\"spacingAndGlyphs\" textLength=\"22\" x=\"56\" y=\"192.0762\">v: P</text><line style=\"stroke: #383838; stroke-width: 1.5;\" x1=\"33\" x2=\"101\" y1=\"199.9063\" y2=\"199.9063\"/></a><!--MD5=[fd4143e9d270a159db93a4ea2a975926]\n",
       "class E9--><a href=\"psysml:72597939-8390-466d-9479-39928477d122\" target=\"_top\" title=\"psysml:72597939-8390-466d-9479-39928477d122\" xlink:actuate=\"onRequest\" xlink:href=\"psysml:72597939-8390-466d-9479-39928477d122\" xlink:show=\"new\" xlink:title=\"psysml:72597939-8390-466d-9479-39928477d122\" xlink:type=\"simple\"><rect fill=\"#FFFFFF\" height=\"88.3516\" id=\"E9\" rx=\"10\" ry=\"10\" style=\"stroke: #383838; stroke-width: 1.5;\" width=\"63\" x=\"35.5\" y=\"285\"/><text fill=\"#000000\" font-family=\"sans-serif\" font-size=\"12\" font-style=\"italic\" lengthAdjust=\"spacingAndGlyphs\" textLength=\"40\" x=\"47\" y=\"301.1387\">«part»</text><text fill=\"#000000\" font-family=\"sans-serif\" font-size=\"12\" lengthAdjust=\"spacingAndGlyphs\" textLength=\"6\" x=\"64\" y=\"315.1074\">y</text><line style=\"stroke: #383838; stroke-width: 1.5;\" x1=\"36.5\" x2=\"97.5\" y1=\"322.9375\" y2=\"322.9375\"/><text fill=\"#000000\" font-family=\"sans-serif\" font-size=\"11\" lengthAdjust=\"spacingAndGlyphs\" textLength=\"23\" x=\"41.5\" y=\"353.9526\">b: B</text><text fill=\"#000000\" font-family=\"sans-serif\" font-size=\"11\" font-style=\"italic\" lengthAdjust=\"spacingAndGlyphs\" textLength=\"44\" x=\"41.5\" y=\"366.7573\">:&gt;&gt;P::a</text><line style=\"stroke: #383838; stroke-width: 1.0;\" x1=\"36.5\" x2=\"39.5\" y1=\"337.3398\" y2=\"337.3398\"/><text fill=\"#000000\" font-family=\"sans-serif\" font-size=\"11\" lengthAdjust=\"spacingAndGlyphs\" textLength=\"55\" x=\"39.5\" y=\"340.6479\">attributes</text><line style=\"stroke: #383838; stroke-width: 1.0;\" x1=\"94.5\" x2=\"97.5\" y1=\"337.3398\" y2=\"337.3398\"/></a><!--MD5=[05d275557350bfb9b23a4ef7222b4c39]\n",
       "link E3 to E2--><a href=\"psysml:0057605f-0b36-40b5-a833-d8040f0d9e74\" target=\"_top\" title=\"psysml:0057605f-0b36-40b5-a833-d8040f0d9e74\" xlink:actuate=\"onRequest\" xlink:href=\"psysml:0057605f-0b36-40b5-a833-d8040f0d9e74\" xlink:show=\"new\" xlink:title=\"psysml:0057605f-0b36-40b5-a833-d8040f0d9e74\" xlink:type=\"simple\"><path d=\"M169.7,201.31 C169.46,219.58 169.1,246.27 168.77,270.44 \" fill=\"none\" id=\"E3-&gt;E2\" style=\"stroke: #383838; stroke-width: 1.0;\"/><polygon fill=\"none\" points=\"175.77,270.86,168.5,290.77,161.77,270.68,175.77,270.86\" style=\"stroke: #383838; stroke-width: 1.0;\"/></a><!--MD5=[15ebcb19ae302d9b601edb458606d402]\n",
       "link E5 to E2--><a href=\"psysml:922ee1f9-edf0-4204-bf0f-0435eb6f66de\" target=\"_top\" title=\"psysml:922ee1f9-edf0-4204-bf0f-0435eb6f66de\" xlink:actuate=\"onRequest\" xlink:href=\"psysml:922ee1f9-edf0-4204-bf0f-0435eb6f66de\" xlink:show=\"new\" xlink:title=\"psysml:922ee1f9-edf0-4204-bf0f-0435eb6f66de\" xlink:type=\"simple\"><path d=\"M255.58,201.31 C242.31,220.5 222.62,248.99 205.27,274.09 \" fill=\"none\" id=\"E5-&gt;E2\" style=\"stroke: #383838; stroke-width: 1.0;\"/><polygon fill=\"none\" points=\"210.87,278.3,193.74,290.77,199.35,270.34,210.87,278.3\" style=\"stroke: #383838; stroke-width: 1.0;\"/></a><!--MD5=[9120cf2e5df3bff93db8f754bbbc09b4]\n",
       "link E5 to E6--><a href=\"psysml:1c0ef759-8c31-4a4a-b0e7-e872c2806a04\" target=\"_top\" title=\"psysml:1c0ef759-8c31-4a4a-b0e7-e872c2806a04\" xlink:actuate=\"onRequest\" xlink:href=\"psysml:1c0ef759-8c31-4a4a-b0e7-e872c2806a04\" xlink:show=\"new\" xlink:title=\"psysml:1c0ef759-8c31-4a4a-b0e7-e872c2806a04\" xlink:type=\"simple\"><path d=\"M270.34,211.55 C269.97,230.03 269.5,253.61 269.07,274.71 \" fill=\"none\" id=\"E5-E6\" style=\"stroke: #383838; stroke-width: 1.0;\"/><polygon fill=\"#383838\" points=\"268.87,284.84,272.0294,276.9016,266.0306,276.7816,268.87,284.84\" style=\"stroke: #383838; stroke-width: 1.0;\"/><path d=\"M262.0288,204.2063 A9,9 0 0 0 278.9393 204.5687\" fill=\"none\" style=\"stroke: #383838; stroke-width: 1.5;\"/><text fill=\"#000000\" font-family=\"sans-serif\" font-size=\"13\" lengthAdjust=\"spacingAndGlyphs\" textLength=\"60\" x=\"270\" y=\"251.0669\">«variant»</text></a><!--MD5=[14ccda38c055a5c0da953d572bc50960]\n",
       "link E7 to E3--><a href=\"psysml:6aa04dcc-8d2e-4853-a2ca-5b94913b0044\" target=\"_top\" title=\"psysml:6aa04dcc-8d2e-4853-a2ca-5b94913b0044\" xlink:actuate=\"onRequest\" xlink:href=\"psysml:6aa04dcc-8d2e-4853-a2ca-5b94913b0044\" xlink:show=\"new\" xlink:title=\"psysml:6aa04dcc-8d2e-4853-a2ca-5b94913b0044\" xlink:type=\"simple\"><path d=\"M155.56,87.13 C157.75,100.78 160.64,118.74 163.25,135 \" fill=\"none\" id=\"E7-&gt;E3\" style=\"stroke: #383838; stroke-width: 1.0;\"/><polygon fill=\"#FFFFFF\" points=\"166.45,154.92,156.5251,137.2707,170.3479,135.0503,166.45,154.92\" style=\"stroke: #383838; stroke-width: 1.0;\"/><ellipse cx=\"157.5958\" cy=\"131.3257\" fill=\"#383838\" rx=\"2\" ry=\"2\" style=\"stroke: #383838; stroke-width: 1.0;\"/><ellipse cx=\"167.4692\" cy=\"129.7396\" fill=\"#383838\" rx=\"2\" ry=\"2\" style=\"stroke: #383838; stroke-width: 1.0;\"/></a><!--MD5=[f1f3f9f2fc535e6147756cb86a7f2e32]\n",
       "link E8 to E2--><a href=\"psysml:62998d3a-e41b-4231-af2c-a0f2b465e4e7\" target=\"_top\" title=\"psysml:62998d3a-e41b-4231-af2c-a0f2b465e4e7\" xlink:actuate=\"onRequest\" xlink:href=\"psysml:62998d3a-e41b-4231-af2c-a0f2b465e4e7\" xlink:show=\"new\" xlink:title=\"psysml:62998d3a-e41b-4231-af2c-a0f2b465e4e7\" xlink:type=\"simple\"><path d=\"M101.59,208.15 C119.23,223.02 137,238 137,238 C137,238 142.38,253.63 148.67,271.87 \" fill=\"none\" id=\"E8-&gt;E2\" style=\"stroke: #383838; stroke-width: 1.0;\"/><polygon fill=\"#FFFFFF\" points=\"155.21,290.87,142.4044,275.1851,155.6413,270.6261,155.21,290.87\" style=\"stroke: #383838; stroke-width: 1.0;\"/><ellipse cx=\"142.4393\" cy=\"269.1445\" fill=\"#383838\" rx=\"2\" ry=\"2\" style=\"stroke: #383838; stroke-width: 1.0;\"/><ellipse cx=\"151.8942\" cy=\"265.8881\" fill=\"#383838\" rx=\"2\" ry=\"2\" style=\"stroke: #383838; stroke-width: 1.0;\"/></a><!--MD5=[ed10624c06dd9a4fa49ccf290e8b16a8]\n",
       "link E8 to E9--><a href=\"psysml:196bced0-9581-41ba-9556-fc72f0b07990\" target=\"_top\" title=\"psysml:196bced0-9581-41ba-9556-fc72f0b07990\" xlink:actuate=\"onRequest\" xlink:href=\"psysml:196bced0-9581-41ba-9556-fc72f0b07990\" xlink:show=\"new\" xlink:title=\"psysml:196bced0-9581-41ba-9556-fc72f0b07990\" xlink:type=\"simple\"><path d=\"M67,218.32 C67,235.6 67,256.15 67,274.77 \" fill=\"none\" id=\"E8-E9\" style=\"stroke: #383838; stroke-width: 1.0;\"/><polygon fill=\"#383838\" points=\"67,284.88,70,276.88,64,276.88,67,284.88\" style=\"stroke: #383838; stroke-width: 1.0;\"/><path d=\"M58.5428,211.1582 A9,9 0 0 0 75.4572 211.1582\" fill=\"none\" style=\"stroke: #383838; stroke-width: 1.5;\"/><text fill=\"#000000\" font-family=\"sans-serif\" font-size=\"13\" lengthAdjust=\"spacingAndGlyphs\" textLength=\"60\" x=\"68\" y=\"251.0669\">«variant»</text></a><!--MD5=[30759ad5a3c9fd3b8b1797135fecd951]\n",
       "@startuml\r\n",
       "skinparam linetype polyline\r\n",
       "skinparam monochrome true\r\n",
       "skinparam classbackgroundcolor white\r\n",
       "skinparam shadowing false\r\n",
       "skinparam wrapWidth 300\r\n",
       "hide circle\r\n",
       "\r\n",
       "package \"VariabilityTest\" as E1  [[psysml:fc405a6c-3061-4540-9673-8b8e766ba6ac ]]  {\r\n",
       "comp def \"P\" as E2  <<(T,blue)part def>> [[psysml:dc902210-e855-46b4-a2dd-8255fef19514 ]] {\r\n",
       "- - attributes - -\r\n",
       "a\r\n",
       "}\r\n",
       "comp def \"Q\" as E3  <<(T,blue)part def>> [[psysml:b52c8837-30af-42aa-bc51-100eaed5de80 ]] {\r\n",
       "}\r\n",
       "comp def \"B\" as E4  <<(T,blue)attribute def>> [[psysml:f17815b8-46c4-4dd9-bf70-524ba6c03f24 ]] {\r\n",
       "}\r\n",
       "comp def \"V\" as E5  <<(T,blue)part def>> [[psysml:b1ebe526-c40e-4c8f-ae74-16f7fcd1bdc9 ]] {\r\n",
       "}\r\n",
       "comp usage \"x: Q\" as E6  <<(T,blue)part>> [[psysml:05419eac-6c2b-46e9-bd3b-b31f448a077a ]] {\r\n",
       "- - attributes - -\r\n",
       "b: B\\n//:>>P::a// \r\n",
       "}\r\n",
       "comp usage \"q: Q\" as E7  <<(T,blue)part>> [[psysml:bd66bfa4-4cf8-4e62-98d6-c8549fcb8467 ]] {\r\n",
       "}\r\n",
       "comp usage \"v: P\" as E8  <<variation>>\\n <<(T,blue)part>> [[psysml:d11ba367-2498-4d3b-bf9a-6df5f0bc7068 ]] {\r\n",
       "}\r\n",
       "comp usage \"y\" as E9  <<(T,blue)part>> [[psysml:72597939-8390-466d-9479-39928477d122 ]] {\r\n",
       "- - attributes - -\r\n",
       "b: B\\n//:>>P::a// \r\n",
       "}\r\n",
       "E3 - -|> E2 [[psysml:0057605f-0b36-40b5-a833-d8040f0d9e74 ]] \r\n",
       "E5 - -|> E2 [[psysml:922ee1f9-edf0-4204-bf0f-0435eb6f66de ]] \r\n",
       "E5 )- ->> E6 [[psysml:1c0ef759-8c31-4a4a-b0e7-e872c2806a04 ]] : <<variant>>\r\n",
       "E7 - -:|> E3 [[psysml:6aa04dcc-8d2e-4853-a2ca-5b94913b0044 ]] \r\n",
       "E8 - -:|> E2 [[psysml:62998d3a-e41b-4231-af2c-a0f2b465e4e7 ]] \r\n",
       "E8 )- ->> E9 [[psysml:196bced0-9581-41ba-9556-fc72f0b07990 ]] : <<variant>>\r\n",
       "}\r\n",
       "@enduml\r\n",
       "\n",
       "PlantUML version 1.2020.13(Sat Jun 13 12:26:38 UTC 2020)\n",
       "(EPL source distribution)\n",
       "Java Runtime: OpenJDK Runtime Environment\n",
       "JVM: OpenJDK 64-Bit Server VM\n",
       "Default Encoding: UTF-8\n",
       "Language: en\n",
       "Country: null\n",
       "--></g></svg>"
      ]
     },
     "execution_count": 14,
     "metadata": {},
     "output_type": "execute_result"
    }
   ],
   "source": [
    "%viz --style=\"POLYLINE\" --view=\"Sequence\" \"VariabilityTest\""
   ]
  },
  {
   "cell_type": "code",
   "execution_count": 15,
   "id": "enabling-pulse",
   "metadata": {
    "execution": {
     "iopub.execute_input": "2021-03-25T15:07:39.254126Z",
     "iopub.status.busy": "2021-03-25T15:07:39.253692Z",
     "iopub.status.idle": "2021-03-25T15:07:39.721396Z",
     "shell.execute_reply": "2021-03-25T15:07:39.721866Z"
    }
   },
   "outputs": [
    {
     "data": {
      "image/svg+xml": [
       "<?xml version=\"1.0\" encoding=\"UTF-8\" standalone=\"no\"?><svg xmlns=\"http://www.w3.org/2000/svg\" xmlns:xlink=\"http://www.w3.org/1999/xlink\" contentScriptType=\"application/ecmascript\" contentStyleType=\"text/css\" height=\"401px\" preserveAspectRatio=\"none\" style=\"width:342px;height:401px;\" version=\"1.1\" viewBox=\"0 0 342 401\" width=\"342px\" zoomAndPan=\"magnify\"><defs/><g><!--MD5=[fbc87193dbaf4d95561dea2c320d4a47]\n",
       "cluster E1--><a href=\"psysml:fc405a6c-3061-4540-9673-8b8e766ba6ac\" target=\"_top\" title=\"psysml:fc405a6c-3061-4540-9673-8b8e766ba6ac\" xlink:actuate=\"onRequest\" xlink:href=\"psysml:fc405a6c-3061-4540-9673-8b8e766ba6ac\" xlink:show=\"new\" xlink:title=\"psysml:fc405a6c-3061-4540-9673-8b8e766ba6ac\" xlink:type=\"simple\"><polygon fill=\"#FFFFFF\" points=\"16,6,134,6,141,28.2969,320,28.2969,320,389,16,389,16,6\" style=\"stroke: #000000; stroke-width: 1.5;\"/><line style=\"stroke: #000000; stroke-width: 1.5;\" x1=\"16\" x2=\"141\" y1=\"28.2969\" y2=\"28.2969\"/><text fill=\"#000000\" font-family=\"sans-serif\" font-size=\"14\" font-weight=\"bold\" lengthAdjust=\"spacingAndGlyphs\" textLength=\"112\" x=\"20\" y=\"20.9951\">VariabilityTest</text></a><!--MD5=[b4997ac47864f28c2f74865a473b2911]\n",
       "class E2--><a href=\"psysml:dc902210-e855-46b4-a2dd-8255fef19514\" target=\"_top\" title=\"psysml:dc902210-e855-46b4-a2dd-8255fef19514\" xlink:actuate=\"onRequest\" xlink:href=\"psysml:dc902210-e855-46b4-a2dd-8255fef19514\" xlink:show=\"new\" xlink:title=\"psysml:dc902210-e855-46b4-a2dd-8255fef19514\" xlink:type=\"simple\"><rect fill=\"#FFFFFF\" height=\"75.5469\" id=\"E2\" style=\"stroke: #383838; stroke-width: 1.5;\" width=\"66\" x=\"135\" y=\"291\"/><text fill=\"#000000\" font-family=\"sans-serif\" font-size=\"12\" font-style=\"italic\" lengthAdjust=\"spacingAndGlyphs\" textLength=\"64\" x=\"136\" y=\"307.1387\">«part def»</text><text fill=\"#000000\" font-family=\"sans-serif\" font-size=\"12\" lengthAdjust=\"spacingAndGlyphs\" textLength=\"8\" x=\"164\" y=\"321.1074\">P</text><line style=\"stroke: #383838; stroke-width: 1.5;\" x1=\"136\" x2=\"200\" y1=\"328.9375\" y2=\"328.9375\"/><text fill=\"#000000\" font-family=\"sans-serif\" font-size=\"11\" lengthAdjust=\"spacingAndGlyphs\" textLength=\"7\" x=\"141\" y=\"359.9526\">a</text><line style=\"stroke: #383838; stroke-width: 1.0;\" x1=\"136\" x2=\"140.5\" y1=\"343.3398\" y2=\"343.3398\"/><text fill=\"#000000\" font-family=\"sans-serif\" font-size=\"11\" lengthAdjust=\"spacingAndGlyphs\" textLength=\"55\" x=\"140.5\" y=\"346.6479\">attributes</text><line style=\"stroke: #383838; stroke-width: 1.0;\" x1=\"195.5\" x2=\"200\" y1=\"343.3398\" y2=\"343.3398\"/></a><!--MD5=[09b614a08d8cba4a07c9adeb5e0fee81]\n",
       "class E3--><a href=\"psysml:b52c8837-30af-42aa-bc51-100eaed5de80\" target=\"_top\" title=\"psysml:b52c8837-30af-42aa-bc51-100eaed5de80\" xlink:actuate=\"onRequest\" xlink:href=\"psysml:b52c8837-30af-42aa-bc51-100eaed5de80\" xlink:show=\"new\" xlink:title=\"psysml:b52c8837-30af-42aa-bc51-100eaed5de80\" xlink:type=\"simple\"><rect fill=\"#FFFFFF\" height=\"45.9375\" id=\"E3\" style=\"stroke: #383838; stroke-width: 1.5;\" width=\"66\" x=\"137\" y=\"155\"/><text fill=\"#000000\" font-family=\"sans-serif\" font-size=\"12\" font-style=\"italic\" lengthAdjust=\"spacingAndGlyphs\" textLength=\"64\" x=\"138\" y=\"171.1387\">«part def»</text><text fill=\"#000000\" font-family=\"sans-serif\" font-size=\"12\" lengthAdjust=\"spacingAndGlyphs\" textLength=\"9\" x=\"165.5\" y=\"185.1074\">Q</text><line style=\"stroke: #383838; stroke-width: 1.5;\" x1=\"138\" x2=\"202\" y1=\"192.9375\" y2=\"192.9375\"/></a><!--MD5=[ebbe1d658d1005bcc118a6aa81145e00]\n",
       "class E4--><a href=\"psysml:f17815b8-46c4-4dd9-bf70-524ba6c03f24\" target=\"_top\" title=\"psysml:f17815b8-46c4-4dd9-bf70-524ba6c03f24\" xlink:actuate=\"onRequest\" xlink:href=\"psysml:f17815b8-46c4-4dd9-bf70-524ba6c03f24\" xlink:show=\"new\" xlink:title=\"psysml:f17815b8-46c4-4dd9-bf70-524ba6c03f24\" xlink:type=\"simple\"><rect fill=\"#FFFFFF\" height=\"45.9375\" id=\"E4\" style=\"stroke: #383838; stroke-width: 1.5;\" width=\"95\" x=\"208.5\" y=\"41\"/><text fill=\"#000000\" font-family=\"sans-serif\" font-size=\"12\" font-style=\"italic\" lengthAdjust=\"spacingAndGlyphs\" textLength=\"93\" x=\"209.5\" y=\"57.1387\">«attribute def»</text><text fill=\"#000000\" font-family=\"sans-serif\" font-size=\"12\" lengthAdjust=\"spacingAndGlyphs\" textLength=\"8\" x=\"252\" y=\"71.1074\">B</text><line style=\"stroke: #383838; stroke-width: 1.5;\" x1=\"209.5\" x2=\"302.5\" y1=\"78.9375\" y2=\"78.9375\"/></a><!--MD5=[270fce915f116d4de14055a7c1d9a0f3]\n",
       "class E5--><a href=\"psysml:b1ebe526-c40e-4c8f-ae74-16f7fcd1bdc9\" target=\"_top\" title=\"psysml:b1ebe526-c40e-4c8f-ae74-16f7fcd1bdc9\" xlink:actuate=\"onRequest\" xlink:href=\"psysml:b1ebe526-c40e-4c8f-ae74-16f7fcd1bdc9\" xlink:show=\"new\" xlink:title=\"psysml:b1ebe526-c40e-4c8f-ae74-16f7fcd1bdc9\" xlink:type=\"simple\"><rect fill=\"#FFFFFF\" height=\"45.9375\" id=\"E5\" style=\"stroke: #383838; stroke-width: 1.5;\" width=\"66\" x=\"238\" y=\"155\"/><text fill=\"#000000\" font-family=\"sans-serif\" font-size=\"12\" font-style=\"italic\" lengthAdjust=\"spacingAndGlyphs\" textLength=\"64\" x=\"239\" y=\"171.1387\">«part def»</text><text fill=\"#000000\" font-family=\"sans-serif\" font-size=\"12\" lengthAdjust=\"spacingAndGlyphs\" textLength=\"8\" x=\"267\" y=\"185.1074\">V</text><line style=\"stroke: #383838; stroke-width: 1.5;\" x1=\"239\" x2=\"303\" y1=\"192.9375\" y2=\"192.9375\"/></a><!--MD5=[60a26617385b1d2d0262a64233df1f8d]\n",
       "class E6--><a href=\"psysml:05419eac-6c2b-46e9-bd3b-b31f448a077a\" target=\"_top\" title=\"psysml:05419eac-6c2b-46e9-bd3b-b31f448a077a\" xlink:actuate=\"onRequest\" xlink:href=\"psysml:05419eac-6c2b-46e9-bd3b-b31f448a077a\" xlink:show=\"new\" xlink:title=\"psysml:05419eac-6c2b-46e9-bd3b-b31f448a077a\" xlink:type=\"simple\"><rect fill=\"#FFFFFF\" height=\"88.3516\" id=\"E6\" rx=\"10\" ry=\"10\" style=\"stroke: #383838; stroke-width: 1.5;\" width=\"63\" x=\"236.5\" y=\"285\"/><text fill=\"#000000\" font-family=\"sans-serif\" font-size=\"12\" font-style=\"italic\" lengthAdjust=\"spacingAndGlyphs\" textLength=\"40\" x=\"248\" y=\"301.1387\">«part»</text><text fill=\"#000000\" font-family=\"sans-serif\" font-size=\"12\" lengthAdjust=\"spacingAndGlyphs\" textLength=\"23\" x=\"256.5\" y=\"315.1074\">x: Q</text><line style=\"stroke: #383838; stroke-width: 1.5;\" x1=\"237.5\" x2=\"298.5\" y1=\"322.9375\" y2=\"322.9375\"/><text fill=\"#000000\" font-family=\"sans-serif\" font-size=\"11\" lengthAdjust=\"spacingAndGlyphs\" textLength=\"23\" x=\"242.5\" y=\"353.9526\">b: B</text><text fill=\"#000000\" font-family=\"sans-serif\" font-size=\"11\" font-style=\"italic\" lengthAdjust=\"spacingAndGlyphs\" textLength=\"44\" x=\"242.5\" y=\"366.7573\">:&gt;&gt;P::a</text><line style=\"stroke: #383838; stroke-width: 1.0;\" x1=\"237.5\" x2=\"240.5\" y1=\"337.3398\" y2=\"337.3398\"/><text fill=\"#000000\" font-family=\"sans-serif\" font-size=\"11\" lengthAdjust=\"spacingAndGlyphs\" textLength=\"55\" x=\"240.5\" y=\"340.6479\">attributes</text><line style=\"stroke: #383838; stroke-width: 1.0;\" x1=\"295.5\" x2=\"298.5\" y1=\"337.3398\" y2=\"337.3398\"/></a><!--MD5=[2156ba9850f5573cc1fc38a6a4b2f02b]\n",
       "class E7--><a href=\"psysml:bd66bfa4-4cf8-4e62-98d6-c8549fcb8467\" target=\"_top\" title=\"psysml:bd66bfa4-4cf8-4e62-98d6-c8549fcb8467\" xlink:actuate=\"onRequest\" xlink:href=\"psysml:bd66bfa4-4cf8-4e62-98d6-c8549fcb8467\" xlink:show=\"new\" xlink:title=\"psysml:bd66bfa4-4cf8-4e62-98d6-c8549fcb8467\" xlink:type=\"simple\"><rect fill=\"#FFFFFF\" height=\"45.9375\" id=\"E7\" rx=\"10\" ry=\"10\" style=\"stroke: #383838; stroke-width: 1.5;\" width=\"42\" x=\"131\" y=\"41\"/><text fill=\"#000000\" font-family=\"sans-serif\" font-size=\"12\" font-style=\"italic\" lengthAdjust=\"spacingAndGlyphs\" textLength=\"40\" x=\"132\" y=\"57.1387\">«part»</text><text fill=\"#000000\" font-family=\"sans-serif\" font-size=\"12\" lengthAdjust=\"spacingAndGlyphs\" textLength=\"25\" x=\"139.5\" y=\"71.1074\">q: Q</text><line style=\"stroke: #383838; stroke-width: 1.5;\" x1=\"132\" x2=\"172\" y1=\"78.9375\" y2=\"78.9375\"/></a><!--MD5=[b9389687b975829384b498ac4b7476b2]\n",
       "class E8--><a href=\"psysml:d11ba367-2498-4d3b-bf9a-6df5f0bc7068\" target=\"_top\" title=\"psysml:d11ba367-2498-4d3b-bf9a-6df5f0bc7068\" xlink:actuate=\"onRequest\" xlink:href=\"psysml:d11ba367-2498-4d3b-bf9a-6df5f0bc7068\" xlink:show=\"new\" xlink:title=\"psysml:d11ba367-2498-4d3b-bf9a-6df5f0bc7068\" xlink:type=\"simple\"><rect fill=\"#FFFFFF\" height=\"59.9063\" id=\"E8\" rx=\"10\" ry=\"10\" style=\"stroke: #383838; stroke-width: 1.5;\" width=\"70\" x=\"32\" y=\"148\"/><text fill=\"#000000\" font-family=\"sans-serif\" font-size=\"12\" font-style=\"italic\" lengthAdjust=\"spacingAndGlyphs\" textLength=\"68\" x=\"33\" y=\"164.1387\">«variation»</text><text fill=\"#000000\" font-family=\"sans-serif\" font-size=\"12\" font-style=\"italic\" lengthAdjust=\"spacingAndGlyphs\" textLength=\"40\" x=\"47\" y=\"178.1074\">«part»</text><text fill=\"#000000\" font-family=\"sans-serif\" font-size=\"12\" lengthAdjust=\"spacingAndGlyphs\" textLength=\"22\" x=\"56\" y=\"192.0762\">v: P</text><line style=\"stroke: #383838; stroke-width: 1.5;\" x1=\"33\" x2=\"101\" y1=\"199.9063\" y2=\"199.9063\"/></a><!--MD5=[fd4143e9d270a159db93a4ea2a975926]\n",
       "class E9--><a href=\"psysml:72597939-8390-466d-9479-39928477d122\" target=\"_top\" title=\"psysml:72597939-8390-466d-9479-39928477d122\" xlink:actuate=\"onRequest\" xlink:href=\"psysml:72597939-8390-466d-9479-39928477d122\" xlink:show=\"new\" xlink:title=\"psysml:72597939-8390-466d-9479-39928477d122\" xlink:type=\"simple\"><rect fill=\"#FFFFFF\" height=\"88.3516\" id=\"E9\" rx=\"10\" ry=\"10\" style=\"stroke: #383838; stroke-width: 1.5;\" width=\"63\" x=\"35.5\" y=\"285\"/><text fill=\"#000000\" font-family=\"sans-serif\" font-size=\"12\" font-style=\"italic\" lengthAdjust=\"spacingAndGlyphs\" textLength=\"40\" x=\"47\" y=\"301.1387\">«part»</text><text fill=\"#000000\" font-family=\"sans-serif\" font-size=\"12\" lengthAdjust=\"spacingAndGlyphs\" textLength=\"6\" x=\"64\" y=\"315.1074\">y</text><line style=\"stroke: #383838; stroke-width: 1.5;\" x1=\"36.5\" x2=\"97.5\" y1=\"322.9375\" y2=\"322.9375\"/><text fill=\"#000000\" font-family=\"sans-serif\" font-size=\"11\" lengthAdjust=\"spacingAndGlyphs\" textLength=\"23\" x=\"41.5\" y=\"353.9526\">b: B</text><text fill=\"#000000\" font-family=\"sans-serif\" font-size=\"11\" font-style=\"italic\" lengthAdjust=\"spacingAndGlyphs\" textLength=\"44\" x=\"41.5\" y=\"366.7573\">:&gt;&gt;P::a</text><line style=\"stroke: #383838; stroke-width: 1.0;\" x1=\"36.5\" x2=\"39.5\" y1=\"337.3398\" y2=\"337.3398\"/><text fill=\"#000000\" font-family=\"sans-serif\" font-size=\"11\" lengthAdjust=\"spacingAndGlyphs\" textLength=\"55\" x=\"39.5\" y=\"340.6479\">attributes</text><line style=\"stroke: #383838; stroke-width: 1.0;\" x1=\"94.5\" x2=\"97.5\" y1=\"337.3398\" y2=\"337.3398\"/></a><!--MD5=[05d275557350bfb9b23a4ef7222b4c39]\n",
       "link E3 to E2--><a href=\"psysml:0057605f-0b36-40b5-a833-d8040f0d9e74\" target=\"_top\" title=\"psysml:0057605f-0b36-40b5-a833-d8040f0d9e74\" xlink:actuate=\"onRequest\" xlink:href=\"psysml:0057605f-0b36-40b5-a833-d8040f0d9e74\" xlink:show=\"new\" xlink:title=\"psysml:0057605f-0b36-40b5-a833-d8040f0d9e74\" xlink:type=\"simple\"><path d=\"M169.7,201.31 C169.46,219.58 169.1,246.27 168.77,270.44 \" fill=\"none\" id=\"E3-&gt;E2\" style=\"stroke: #383838; stroke-width: 1.0;\"/><polygon fill=\"none\" points=\"175.77,270.86,168.5,290.77,161.77,270.68,175.77,270.86\" style=\"stroke: #383838; stroke-width: 1.0;\"/></a><!--MD5=[15ebcb19ae302d9b601edb458606d402]\n",
       "link E5 to E2--><a href=\"psysml:922ee1f9-edf0-4204-bf0f-0435eb6f66de\" target=\"_top\" title=\"psysml:922ee1f9-edf0-4204-bf0f-0435eb6f66de\" xlink:actuate=\"onRequest\" xlink:href=\"psysml:922ee1f9-edf0-4204-bf0f-0435eb6f66de\" xlink:show=\"new\" xlink:title=\"psysml:922ee1f9-edf0-4204-bf0f-0435eb6f66de\" xlink:type=\"simple\"><path d=\"M255.58,201.31 C242.31,220.5 222.62,248.99 205.27,274.09 \" fill=\"none\" id=\"E5-&gt;E2\" style=\"stroke: #383838; stroke-width: 1.0;\"/><polygon fill=\"none\" points=\"210.87,278.3,193.74,290.77,199.35,270.34,210.87,278.3\" style=\"stroke: #383838; stroke-width: 1.0;\"/></a><!--MD5=[9120cf2e5df3bff93db8f754bbbc09b4]\n",
       "link E5 to E6--><a href=\"psysml:1c0ef759-8c31-4a4a-b0e7-e872c2806a04\" target=\"_top\" title=\"psysml:1c0ef759-8c31-4a4a-b0e7-e872c2806a04\" xlink:actuate=\"onRequest\" xlink:href=\"psysml:1c0ef759-8c31-4a4a-b0e7-e872c2806a04\" xlink:show=\"new\" xlink:title=\"psysml:1c0ef759-8c31-4a4a-b0e7-e872c2806a04\" xlink:type=\"simple\"><path d=\"M270.34,211.55 C269.97,230.03 269.5,253.61 269.07,274.71 \" fill=\"none\" id=\"E5-E6\" style=\"stroke: #383838; stroke-width: 1.0;\"/><polygon fill=\"#383838\" points=\"268.87,284.84,272.0294,276.9016,266.0306,276.7816,268.87,284.84\" style=\"stroke: #383838; stroke-width: 1.0;\"/><path d=\"M262.0288,204.2063 A9,9 0 0 0 278.9393 204.5687\" fill=\"none\" style=\"stroke: #383838; stroke-width: 1.5;\"/><text fill=\"#000000\" font-family=\"sans-serif\" font-size=\"13\" lengthAdjust=\"spacingAndGlyphs\" textLength=\"60\" x=\"270\" y=\"251.0669\">«variant»</text></a><!--MD5=[14ccda38c055a5c0da953d572bc50960]\n",
       "link E7 to E3--><a href=\"psysml:6aa04dcc-8d2e-4853-a2ca-5b94913b0044\" target=\"_top\" title=\"psysml:6aa04dcc-8d2e-4853-a2ca-5b94913b0044\" xlink:actuate=\"onRequest\" xlink:href=\"psysml:6aa04dcc-8d2e-4853-a2ca-5b94913b0044\" xlink:show=\"new\" xlink:title=\"psysml:6aa04dcc-8d2e-4853-a2ca-5b94913b0044\" xlink:type=\"simple\"><path d=\"M155.56,87.13 C157.75,100.78 160.64,118.74 163.25,135 \" fill=\"none\" id=\"E7-&gt;E3\" style=\"stroke: #383838; stroke-width: 1.0;\"/><polygon fill=\"#FFFFFF\" points=\"166.45,154.92,156.5251,137.2707,170.3479,135.0503,166.45,154.92\" style=\"stroke: #383838; stroke-width: 1.0;\"/><ellipse cx=\"157.5958\" cy=\"131.3257\" fill=\"#383838\" rx=\"2\" ry=\"2\" style=\"stroke: #383838; stroke-width: 1.0;\"/><ellipse cx=\"167.4692\" cy=\"129.7396\" fill=\"#383838\" rx=\"2\" ry=\"2\" style=\"stroke: #383838; stroke-width: 1.0;\"/></a><!--MD5=[f1f3f9f2fc535e6147756cb86a7f2e32]\n",
       "link E8 to E2--><a href=\"psysml:62998d3a-e41b-4231-af2c-a0f2b465e4e7\" target=\"_top\" title=\"psysml:62998d3a-e41b-4231-af2c-a0f2b465e4e7\" xlink:actuate=\"onRequest\" xlink:href=\"psysml:62998d3a-e41b-4231-af2c-a0f2b465e4e7\" xlink:show=\"new\" xlink:title=\"psysml:62998d3a-e41b-4231-af2c-a0f2b465e4e7\" xlink:type=\"simple\"><path d=\"M101.59,208.15 C119.23,223.02 137,238 137,238 C137,238 142.38,253.63 148.67,271.87 \" fill=\"none\" id=\"E8-&gt;E2\" style=\"stroke: #383838; stroke-width: 1.0;\"/><polygon fill=\"#FFFFFF\" points=\"155.21,290.87,142.4044,275.1851,155.6413,270.6261,155.21,290.87\" style=\"stroke: #383838; stroke-width: 1.0;\"/><ellipse cx=\"142.4393\" cy=\"269.1445\" fill=\"#383838\" rx=\"2\" ry=\"2\" style=\"stroke: #383838; stroke-width: 1.0;\"/><ellipse cx=\"151.8942\" cy=\"265.8881\" fill=\"#383838\" rx=\"2\" ry=\"2\" style=\"stroke: #383838; stroke-width: 1.0;\"/></a><!--MD5=[ed10624c06dd9a4fa49ccf290e8b16a8]\n",
       "link E8 to E9--><a href=\"psysml:196bced0-9581-41ba-9556-fc72f0b07990\" target=\"_top\" title=\"psysml:196bced0-9581-41ba-9556-fc72f0b07990\" xlink:actuate=\"onRequest\" xlink:href=\"psysml:196bced0-9581-41ba-9556-fc72f0b07990\" xlink:show=\"new\" xlink:title=\"psysml:196bced0-9581-41ba-9556-fc72f0b07990\" xlink:type=\"simple\"><path d=\"M67,218.32 C67,235.6 67,256.15 67,274.77 \" fill=\"none\" id=\"E8-E9\" style=\"stroke: #383838; stroke-width: 1.0;\"/><polygon fill=\"#383838\" points=\"67,284.88,70,276.88,64,276.88,67,284.88\" style=\"stroke: #383838; stroke-width: 1.0;\"/><path d=\"M58.5428,211.1582 A9,9 0 0 0 75.4572 211.1582\" fill=\"none\" style=\"stroke: #383838; stroke-width: 1.5;\"/><text fill=\"#000000\" font-family=\"sans-serif\" font-size=\"13\" lengthAdjust=\"spacingAndGlyphs\" textLength=\"60\" x=\"68\" y=\"251.0669\">«variant»</text></a><!--MD5=[30759ad5a3c9fd3b8b1797135fecd951]\n",
       "@startuml\r\n",
       "skinparam linetype polyline\r\n",
       "skinparam monochrome true\r\n",
       "skinparam classbackgroundcolor white\r\n",
       "skinparam shadowing false\r\n",
       "skinparam wrapWidth 300\r\n",
       "hide circle\r\n",
       "\r\n",
       "package \"VariabilityTest\" as E1  [[psysml:fc405a6c-3061-4540-9673-8b8e766ba6ac ]]  {\r\n",
       "comp def \"P\" as E2  <<(T,blue)part def>> [[psysml:dc902210-e855-46b4-a2dd-8255fef19514 ]] {\r\n",
       "- - attributes - -\r\n",
       "a\r\n",
       "}\r\n",
       "comp def \"Q\" as E3  <<(T,blue)part def>> [[psysml:b52c8837-30af-42aa-bc51-100eaed5de80 ]] {\r\n",
       "}\r\n",
       "comp def \"B\" as E4  <<(T,blue)attribute def>> [[psysml:f17815b8-46c4-4dd9-bf70-524ba6c03f24 ]] {\r\n",
       "}\r\n",
       "comp def \"V\" as E5  <<(T,blue)part def>> [[psysml:b1ebe526-c40e-4c8f-ae74-16f7fcd1bdc9 ]] {\r\n",
       "}\r\n",
       "comp usage \"x: Q\" as E6  <<(T,blue)part>> [[psysml:05419eac-6c2b-46e9-bd3b-b31f448a077a ]] {\r\n",
       "- - attributes - -\r\n",
       "b: B\\n//:>>P::a// \r\n",
       "}\r\n",
       "comp usage \"q: Q\" as E7  <<(T,blue)part>> [[psysml:bd66bfa4-4cf8-4e62-98d6-c8549fcb8467 ]] {\r\n",
       "}\r\n",
       "comp usage \"v: P\" as E8  <<variation>>\\n <<(T,blue)part>> [[psysml:d11ba367-2498-4d3b-bf9a-6df5f0bc7068 ]] {\r\n",
       "}\r\n",
       "comp usage \"y\" as E9  <<(T,blue)part>> [[psysml:72597939-8390-466d-9479-39928477d122 ]] {\r\n",
       "- - attributes - -\r\n",
       "b: B\\n//:>>P::a// \r\n",
       "}\r\n",
       "E3 - -|> E2 [[psysml:0057605f-0b36-40b5-a833-d8040f0d9e74 ]] \r\n",
       "E5 - -|> E2 [[psysml:922ee1f9-edf0-4204-bf0f-0435eb6f66de ]] \r\n",
       "E5 )- ->> E6 [[psysml:1c0ef759-8c31-4a4a-b0e7-e872c2806a04 ]] : <<variant>>\r\n",
       "E7 - -:|> E3 [[psysml:6aa04dcc-8d2e-4853-a2ca-5b94913b0044 ]] \r\n",
       "E8 - -:|> E2 [[psysml:62998d3a-e41b-4231-af2c-a0f2b465e4e7 ]] \r\n",
       "E8 )- ->> E9 [[psysml:196bced0-9581-41ba-9556-fc72f0b07990 ]] : <<variant>>\r\n",
       "}\r\n",
       "@enduml\r\n",
       "\n",
       "PlantUML version 1.2020.13(Sat Jun 13 12:26:38 UTC 2020)\n",
       "(EPL source distribution)\n",
       "Java Runtime: OpenJDK Runtime Environment\n",
       "JVM: OpenJDK 64-Bit Server VM\n",
       "Default Encoding: UTF-8\n",
       "Language: en\n",
       "Country: null\n",
       "--></g></svg>"
      ]
     },
     "execution_count": 15,
     "metadata": {},
     "output_type": "execute_result"
    }
   ],
   "source": [
    "%viz --style=\"POLYLINE\" --view=\"MIXED\" \"VariabilityTest\""
   ]
  },
  {
   "cell_type": "code",
   "execution_count": 16,
   "id": "friendly-barrel",
   "metadata": {
    "execution": {
     "iopub.execute_input": "2021-03-25T15:07:39.772846Z",
     "iopub.status.busy": "2021-03-25T15:07:39.772170Z",
     "iopub.status.idle": "2021-03-25T15:07:40.223333Z",
     "shell.execute_reply": "2021-03-25T15:07:40.221536Z"
    }
   },
   "outputs": [
    {
     "data": {
      "image/svg+xml": [
       "<?xml version=\"1.0\" encoding=\"UTF-8\" standalone=\"no\"?><svg xmlns=\"http://www.w3.org/2000/svg\" xmlns:xlink=\"http://www.w3.org/1999/xlink\" contentScriptType=\"application/ecmascript\" contentStyleType=\"text/css\" height=\"391px\" preserveAspectRatio=\"none\" style=\"width:484px;height:391px;\" version=\"1.1\" viewBox=\"0 0 484 391\" width=\"484px\" zoomAndPan=\"magnify\"><defs/><g><!--MD5=[fbc87193dbaf4d95561dea2c320d4a47]\n",
       "cluster E1--><a href=\"psysml:fc405a6c-3061-4540-9673-8b8e766ba6ac\" target=\"_top\" title=\"psysml:fc405a6c-3061-4540-9673-8b8e766ba6ac\" xlink:actuate=\"onRequest\" xlink:href=\"psysml:fc405a6c-3061-4540-9673-8b8e766ba6ac\" xlink:show=\"new\" xlink:title=\"psysml:fc405a6c-3061-4540-9673-8b8e766ba6ac\" xlink:type=\"simple\"><polygon fill=\"#FFFFFF\" points=\"16,6,134,6,141,28.2969,462,28.2969,462,379,16,379,16,6\" style=\"stroke: #000000; stroke-width: 1.5;\"/><line style=\"stroke: #000000; stroke-width: 1.5;\" x1=\"16\" x2=\"141\" y1=\"28.2969\" y2=\"28.2969\"/><text fill=\"#000000\" font-family=\"sans-serif\" font-size=\"14\" font-weight=\"bold\" lengthAdjust=\"spacingAndGlyphs\" textLength=\"112\" x=\"20\" y=\"20.9951\">VariabilityTest</text></a><!--MD5=[b4997ac47864f28c2f74865a473b2911]\n",
       "class E2--><a href=\"psysml:dc902210-e855-46b4-a2dd-8255fef19514\" target=\"_top\" title=\"psysml:dc902210-e855-46b4-a2dd-8255fef19514\" xlink:actuate=\"onRequest\" xlink:href=\"psysml:dc902210-e855-46b4-a2dd-8255fef19514\" xlink:show=\"new\" xlink:title=\"psysml:dc902210-e855-46b4-a2dd-8255fef19514\" xlink:type=\"simple\"><rect fill=\"#FFFFFF\" height=\"75.5469\" id=\"E2\" style=\"stroke: #383838; stroke-width: 1.5;\" width=\"66\" x=\"380\" y=\"164\"/><text fill=\"#000000\" font-family=\"sans-serif\" font-size=\"12\" font-style=\"italic\" lengthAdjust=\"spacingAndGlyphs\" textLength=\"64\" x=\"381\" y=\"180.1387\">«part def»</text><text fill=\"#000000\" font-family=\"sans-serif\" font-size=\"12\" lengthAdjust=\"spacingAndGlyphs\" textLength=\"8\" x=\"409\" y=\"194.1074\">P</text><line style=\"stroke: #383838; stroke-width: 1.5;\" x1=\"381\" x2=\"445\" y1=\"201.9375\" y2=\"201.9375\"/><text fill=\"#000000\" font-family=\"sans-serif\" font-size=\"11\" lengthAdjust=\"spacingAndGlyphs\" textLength=\"7\" x=\"386\" y=\"232.9526\">a</text><line style=\"stroke: #383838; stroke-width: 1.0;\" x1=\"381\" x2=\"385.5\" y1=\"216.3398\" y2=\"216.3398\"/><text fill=\"#000000\" font-family=\"sans-serif\" font-size=\"11\" lengthAdjust=\"spacingAndGlyphs\" textLength=\"55\" x=\"385.5\" y=\"219.6479\">attributes</text><line style=\"stroke: #383838; stroke-width: 1.0;\" x1=\"440.5\" x2=\"445\" y1=\"216.3398\" y2=\"216.3398\"/></a><!--MD5=[09b614a08d8cba4a07c9adeb5e0fee81]\n",
       "class E3--><a href=\"psysml:b52c8837-30af-42aa-bc51-100eaed5de80\" target=\"_top\" title=\"psysml:b52c8837-30af-42aa-bc51-100eaed5de80\" xlink:actuate=\"onRequest\" xlink:href=\"psysml:b52c8837-30af-42aa-bc51-100eaed5de80\" xlink:show=\"new\" xlink:title=\"psysml:b52c8837-30af-42aa-bc51-100eaed5de80\" xlink:type=\"simple\"><rect fill=\"#FFFFFF\" height=\"45.9375\" id=\"E3\" style=\"stroke: #383838; stroke-width: 1.5;\" width=\"66\" x=\"190\" y=\"179\"/><text fill=\"#000000\" font-family=\"sans-serif\" font-size=\"12\" font-style=\"italic\" lengthAdjust=\"spacingAndGlyphs\" textLength=\"64\" x=\"191\" y=\"195.1387\">«part def»</text><text fill=\"#000000\" font-family=\"sans-serif\" font-size=\"12\" lengthAdjust=\"spacingAndGlyphs\" textLength=\"9\" x=\"218.5\" y=\"209.1074\">Q</text><line style=\"stroke: #383838; stroke-width: 1.5;\" x1=\"191\" x2=\"255\" y1=\"216.9375\" y2=\"216.9375\"/></a><!--MD5=[ebbe1d658d1005bcc118a6aa81145e00]\n",
       "class E4--><a href=\"psysml:f17815b8-46c4-4dd9-bf70-524ba6c03f24\" target=\"_top\" title=\"psysml:f17815b8-46c4-4dd9-bf70-524ba6c03f24\" xlink:actuate=\"onRequest\" xlink:href=\"psysml:f17815b8-46c4-4dd9-bf70-524ba6c03f24\" xlink:show=\"new\" xlink:title=\"psysml:f17815b8-46c4-4dd9-bf70-524ba6c03f24\" xlink:type=\"simple\"><rect fill=\"#FFFFFF\" height=\"45.9375\" id=\"E4\" style=\"stroke: #383838; stroke-width: 1.5;\" width=\"95\" x=\"32\" y=\"70\"/><text fill=\"#000000\" font-family=\"sans-serif\" font-size=\"12\" font-style=\"italic\" lengthAdjust=\"spacingAndGlyphs\" textLength=\"93\" x=\"33\" y=\"86.1387\">«attribute def»</text><text fill=\"#000000\" font-family=\"sans-serif\" font-size=\"12\" lengthAdjust=\"spacingAndGlyphs\" textLength=\"8\" x=\"75.5\" y=\"100.1074\">B</text><line style=\"stroke: #383838; stroke-width: 1.5;\" x1=\"33\" x2=\"126\" y1=\"107.9375\" y2=\"107.9375\"/></a><!--MD5=[270fce915f116d4de14055a7c1d9a0f3]\n",
       "class E5--><a href=\"psysml:b1ebe526-c40e-4c8f-ae74-16f7fcd1bdc9\" target=\"_top\" title=\"psysml:b1ebe526-c40e-4c8f-ae74-16f7fcd1bdc9\" xlink:actuate=\"onRequest\" xlink:href=\"psysml:b1ebe526-c40e-4c8f-ae74-16f7fcd1bdc9\" xlink:show=\"new\" xlink:title=\"psysml:b1ebe526-c40e-4c8f-ae74-16f7fcd1bdc9\" xlink:type=\"simple\"><rect fill=\"#FFFFFF\" height=\"45.9375\" id=\"E5\" style=\"stroke: #383838; stroke-width: 1.5;\" width=\"66\" x=\"190\" y=\"80\"/><text fill=\"#000000\" font-family=\"sans-serif\" font-size=\"12\" font-style=\"italic\" lengthAdjust=\"spacingAndGlyphs\" textLength=\"64\" x=\"191\" y=\"96.1387\">«part def»</text><text fill=\"#000000\" font-family=\"sans-serif\" font-size=\"12\" lengthAdjust=\"spacingAndGlyphs\" textLength=\"8\" x=\"219\" y=\"110.1074\">V</text><line style=\"stroke: #383838; stroke-width: 1.5;\" x1=\"191\" x2=\"255\" y1=\"117.9375\" y2=\"117.9375\"/></a><!--MD5=[60a26617385b1d2d0262a64233df1f8d]\n",
       "class E6--><a href=\"psysml:05419eac-6c2b-46e9-bd3b-b31f448a077a\" target=\"_top\" title=\"psysml:05419eac-6c2b-46e9-bd3b-b31f448a077a\" xlink:actuate=\"onRequest\" xlink:href=\"psysml:05419eac-6c2b-46e9-bd3b-b31f448a077a\" xlink:show=\"new\" xlink:title=\"psysml:05419eac-6c2b-46e9-bd3b-b31f448a077a\" xlink:type=\"simple\"><rect fill=\"#FFFFFF\" height=\"88.3516\" id=\"E6\" rx=\"10\" ry=\"10\" style=\"stroke: #383838; stroke-width: 1.5;\" width=\"63\" x=\"381.5\" y=\"41\"/><text fill=\"#000000\" font-family=\"sans-serif\" font-size=\"12\" font-style=\"italic\" lengthAdjust=\"spacingAndGlyphs\" textLength=\"40\" x=\"393\" y=\"57.1387\">«part»</text><text fill=\"#000000\" font-family=\"sans-serif\" font-size=\"12\" lengthAdjust=\"spacingAndGlyphs\" textLength=\"23\" x=\"401.5\" y=\"71.1074\">x: Q</text><line style=\"stroke: #383838; stroke-width: 1.5;\" x1=\"382.5\" x2=\"443.5\" y1=\"78.9375\" y2=\"78.9375\"/><text fill=\"#000000\" font-family=\"sans-serif\" font-size=\"11\" lengthAdjust=\"spacingAndGlyphs\" textLength=\"23\" x=\"387.5\" y=\"109.9526\">b: B</text><text fill=\"#000000\" font-family=\"sans-serif\" font-size=\"11\" font-style=\"italic\" lengthAdjust=\"spacingAndGlyphs\" textLength=\"44\" x=\"387.5\" y=\"122.7573\">:&gt;&gt;P::a</text><line style=\"stroke: #383838; stroke-width: 1.0;\" x1=\"382.5\" x2=\"385.5\" y1=\"93.3398\" y2=\"93.3398\"/><text fill=\"#000000\" font-family=\"sans-serif\" font-size=\"11\" lengthAdjust=\"spacingAndGlyphs\" textLength=\"55\" x=\"385.5\" y=\"96.6479\">attributes</text><line style=\"stroke: #383838; stroke-width: 1.0;\" x1=\"440.5\" x2=\"443.5\" y1=\"93.3398\" y2=\"93.3398\"/></a><!--MD5=[2156ba9850f5573cc1fc38a6a4b2f02b]\n",
       "class E7--><a href=\"psysml:bd66bfa4-4cf8-4e62-98d6-c8549fcb8467\" target=\"_top\" title=\"psysml:bd66bfa4-4cf8-4e62-98d6-c8549fcb8467\" xlink:actuate=\"onRequest\" xlink:href=\"psysml:bd66bfa4-4cf8-4e62-98d6-c8549fcb8467\" xlink:show=\"new\" xlink:title=\"psysml:bd66bfa4-4cf8-4e62-98d6-c8549fcb8467\" xlink:type=\"simple\"><rect fill=\"#FFFFFF\" height=\"45.9375\" id=\"E7\" rx=\"10\" ry=\"10\" style=\"stroke: #383838; stroke-width: 1.5;\" width=\"42\" x=\"58.5\" y=\"179\"/><text fill=\"#000000\" font-family=\"sans-serif\" font-size=\"12\" font-style=\"italic\" lengthAdjust=\"spacingAndGlyphs\" textLength=\"40\" x=\"59.5\" y=\"195.1387\">«part»</text><text fill=\"#000000\" font-family=\"sans-serif\" font-size=\"12\" lengthAdjust=\"spacingAndGlyphs\" textLength=\"25\" x=\"67\" y=\"209.1074\">q: Q</text><line style=\"stroke: #383838; stroke-width: 1.5;\" x1=\"59.5\" x2=\"99.5\" y1=\"216.9375\" y2=\"216.9375\"/></a><!--MD5=[b9389687b975829384b498ac4b7476b2]\n",
       "class E8--><a href=\"psysml:d11ba367-2498-4d3b-bf9a-6df5f0bc7068\" target=\"_top\" title=\"psysml:d11ba367-2498-4d3b-bf9a-6df5f0bc7068\" xlink:actuate=\"onRequest\" xlink:href=\"psysml:d11ba367-2498-4d3b-bf9a-6df5f0bc7068\" xlink:show=\"new\" xlink:title=\"psysml:d11ba367-2498-4d3b-bf9a-6df5f0bc7068\" xlink:type=\"simple\"><rect fill=\"#FFFFFF\" height=\"59.9063\" id=\"E8\" rx=\"10\" ry=\"10\" style=\"stroke: #383838; stroke-width: 1.5;\" width=\"70\" x=\"188\" y=\"268\"/><text fill=\"#000000\" font-family=\"sans-serif\" font-size=\"12\" font-style=\"italic\" lengthAdjust=\"spacingAndGlyphs\" textLength=\"68\" x=\"189\" y=\"284.1387\">«variation»</text><text fill=\"#000000\" font-family=\"sans-serif\" font-size=\"12\" font-style=\"italic\" lengthAdjust=\"spacingAndGlyphs\" textLength=\"40\" x=\"203\" y=\"298.1074\">«part»</text><text fill=\"#000000\" font-family=\"sans-serif\" font-size=\"12\" lengthAdjust=\"spacingAndGlyphs\" textLength=\"22\" x=\"212\" y=\"312.0762\">v: P</text><line style=\"stroke: #383838; stroke-width: 1.5;\" x1=\"189\" x2=\"257\" y1=\"319.9063\" y2=\"319.9063\"/></a><!--MD5=[fd4143e9d270a159db93a4ea2a975926]\n",
       "class E9--><a href=\"psysml:72597939-8390-466d-9479-39928477d122\" target=\"_top\" title=\"psysml:72597939-8390-466d-9479-39928477d122\" xlink:actuate=\"onRequest\" xlink:href=\"psysml:72597939-8390-466d-9479-39928477d122\" xlink:show=\"new\" xlink:title=\"psysml:72597939-8390-466d-9479-39928477d122\" xlink:type=\"simple\"><rect fill=\"#FFFFFF\" height=\"88.3516\" id=\"E9\" rx=\"10\" ry=\"10\" style=\"stroke: #383838; stroke-width: 1.5;\" width=\"63\" x=\"381.5\" y=\"275\"/><text fill=\"#000000\" font-family=\"sans-serif\" font-size=\"12\" font-style=\"italic\" lengthAdjust=\"spacingAndGlyphs\" textLength=\"40\" x=\"393\" y=\"291.1387\">«part»</text><text fill=\"#000000\" font-family=\"sans-serif\" font-size=\"12\" lengthAdjust=\"spacingAndGlyphs\" textLength=\"6\" x=\"410\" y=\"305.1074\">y</text><line style=\"stroke: #383838; stroke-width: 1.5;\" x1=\"382.5\" x2=\"443.5\" y1=\"312.9375\" y2=\"312.9375\"/><text fill=\"#000000\" font-family=\"sans-serif\" font-size=\"11\" lengthAdjust=\"spacingAndGlyphs\" textLength=\"23\" x=\"387.5\" y=\"343.9526\">b: B</text><text fill=\"#000000\" font-family=\"sans-serif\" font-size=\"11\" font-style=\"italic\" lengthAdjust=\"spacingAndGlyphs\" textLength=\"44\" x=\"387.5\" y=\"356.7573\">:&gt;&gt;P::a</text><line style=\"stroke: #383838; stroke-width: 1.0;\" x1=\"382.5\" x2=\"385.5\" y1=\"327.3398\" y2=\"327.3398\"/><text fill=\"#000000\" font-family=\"sans-serif\" font-size=\"11\" lengthAdjust=\"spacingAndGlyphs\" textLength=\"55\" x=\"385.5\" y=\"330.6479\">attributes</text><line style=\"stroke: #383838; stroke-width: 1.0;\" x1=\"440.5\" x2=\"443.5\" y1=\"327.3398\" y2=\"327.3398\"/></a><!--MD5=[05d275557350bfb9b23a4ef7222b4c39]\n",
       "link E3 to E2--><a href=\"psysml:0057605f-0b36-40b5-a833-d8040f0d9e74\" target=\"_top\" title=\"psysml:0057605f-0b36-40b5-a833-d8040f0d9e74\" xlink:actuate=\"onRequest\" xlink:href=\"psysml:0057605f-0b36-40b5-a833-d8040f0d9e74\" xlink:show=\"new\" xlink:title=\"psysml:0057605f-0b36-40b5-a833-d8040f0d9e74\" xlink:type=\"simple\"><path d=\"M256.32,202 C284.65,202 326.37,202 359.49,202 \" fill=\"none\" id=\"E3-&gt;E2\" style=\"stroke: #383838; stroke-width: 1.0;\"/><polygon fill=\"none\" points=\"359.79,195,379.79,202,359.79,209,359.79,195\" style=\"stroke: #383838; stroke-width: 1.0;\"/></a><!--MD5=[15ebcb19ae302d9b601edb458606d402]\n",
       "link E5 to E2--><a href=\"psysml:922ee1f9-edf0-4204-bf0f-0435eb6f66de\" target=\"_top\" title=\"psysml:922ee1f9-edf0-4204-bf0f-0435eb6f66de\" xlink:actuate=\"onRequest\" xlink:href=\"psysml:922ee1f9-edf0-4204-bf0f-0435eb6f66de\" xlink:show=\"new\" xlink:title=\"psysml:922ee1f9-edf0-4204-bf0f-0435eb6f66de\" xlink:type=\"simple\"><path d=\"M256.32,120.02 C285.33,135.29 328.37,157.96 361.84,175.59 \" fill=\"none\" id=\"E5-&gt;E2\" style=\"stroke: #383838; stroke-width: 1.0;\"/><polygon fill=\"none\" points=\"365.35,169.53,379.79,185.04,358.83,181.91,365.35,169.53\" style=\"stroke: #383838; stroke-width: 1.0;\"/></a><!--MD5=[9120cf2e5df3bff93db8f754bbbc09b4]\n",
       "link E5 to E6--><a href=\"psysml:1c0ef759-8c31-4a4a-b0e7-e872c2806a04\" target=\"_top\" title=\"psysml:1c0ef759-8c31-4a4a-b0e7-e872c2806a04\" xlink:actuate=\"onRequest\" xlink:href=\"psysml:1c0ef759-8c31-4a4a-b0e7-e872c2806a04\" xlink:show=\"new\" xlink:title=\"psysml:1c0ef759-8c31-4a4a-b0e7-e872c2806a04\" xlink:type=\"simple\"><path d=\"M266.69,98.91 C298.07,95.91 340.45,91.85 371.34,88.89 \" fill=\"none\" id=\"E5-E6\" style=\"stroke: #383838; stroke-width: 1.0;\"/><polygon fill=\"#383838\" points=\"381.35,87.93,373.0997,85.7092,373.6738,91.6817,381.35,87.93\" style=\"stroke: #383838; stroke-width: 1.0;\"/><path d=\"M260.1933,108.0339 A9,9 0 0 0 258.5748 91.197\" fill=\"none\" style=\"stroke: #383838; stroke-width: 1.5;\"/><text fill=\"#000000\" font-family=\"sans-serif\" font-size=\"13\" lengthAdjust=\"spacingAndGlyphs\" textLength=\"60\" x=\"289\" y=\"88.0669\">«variant»</text></a><!--MD5=[14ccda38c055a5c0da953d572bc50960]\n",
       "link E7 to E3--><a href=\"psysml:6aa04dcc-8d2e-4853-a2ca-5b94913b0044\" target=\"_top\" title=\"psysml:6aa04dcc-8d2e-4853-a2ca-5b94913b0044\" xlink:actuate=\"onRequest\" xlink:href=\"psysml:6aa04dcc-8d2e-4853-a2ca-5b94913b0044\" xlink:show=\"new\" xlink:title=\"psysml:6aa04dcc-8d2e-4853-a2ca-5b94913b0044\" xlink:type=\"simple\"><path d=\"M100.77,202 C118.65,202 145.5,202 169.39,202 \" fill=\"none\" id=\"E7-&gt;E3\" style=\"stroke: #383838; stroke-width: 1.0;\"/><polygon fill=\"#FFFFFF\" points=\"189.74,202,170.74,209,170.74,195,189.74,202\" style=\"stroke: #383838; stroke-width: 1.0;\"/><ellipse cx=\"165.04\" cy=\"207\" fill=\"#383838\" rx=\"2\" ry=\"2\" style=\"stroke: #383838; stroke-width: 1.0;\"/><ellipse cx=\"165.04\" cy=\"197\" fill=\"#383838\" rx=\"2\" ry=\"2\" style=\"stroke: #383838; stroke-width: 1.0;\"/></a><!--MD5=[f1f3f9f2fc535e6147756cb86a7f2e32]\n",
       "link E8 to E2--><a href=\"psysml:62998d3a-e41b-4231-af2c-a0f2b465e4e7\" target=\"_top\" title=\"psysml:62998d3a-e41b-4231-af2c-a0f2b465e4e7\" xlink:actuate=\"onRequest\" xlink:href=\"psysml:62998d3a-e41b-4231-af2c-a0f2b465e4e7\" xlink:show=\"new\" xlink:title=\"psysml:62998d3a-e41b-4231-af2c-a0f2b465e4e7\" xlink:type=\"simple\"><path d=\"M258.05,280.62 C286.97,265.85 328.89,244.44 361.69,227.69 \" fill=\"none\" id=\"E8-&gt;E2\" style=\"stroke: #383838; stroke-width: 1.0;\"/><polygon fill=\"#FFFFFF\" points=\"379.78,218.45,366.049,233.3315,359.6762,220.8661,379.78,218.45\" style=\"stroke: #383838; stroke-width: 1.0;\"/><ellipse cx=\"360.0634\" cy=\"234.1454\" fill=\"#383838\" rx=\"2\" ry=\"2\" style=\"stroke: #383838; stroke-width: 1.0;\"/><ellipse cx=\"355.5114\" cy=\"225.2415\" fill=\"#383838\" rx=\"2\" ry=\"2\" style=\"stroke: #383838; stroke-width: 1.0;\"/></a><!--MD5=[ed10624c06dd9a4fa49ccf290e8b16a8]\n",
       "link E8 to E9--><a href=\"psysml:196bced0-9581-41ba-9556-fc72f0b07990\" target=\"_top\" title=\"psysml:196bced0-9581-41ba-9556-fc72f0b07990\" xlink:actuate=\"onRequest\" xlink:href=\"psysml:196bced0-9581-41ba-9556-fc72f0b07990\" xlink:show=\"new\" xlink:title=\"psysml:196bced0-9581-41ba-9556-fc72f0b07990\" xlink:type=\"simple\"><path d=\"M268.4,302.96 C299.51,306.43 340.78,311.04 371.09,314.43 \" fill=\"none\" id=\"E8-E9\" style=\"stroke: #383838; stroke-width: 1.0;\"/><polygon fill=\"#383838\" points=\"381.32,315.57,373.7039,311.6977,373.0357,317.6604,381.32,315.57\" style=\"stroke: #383838; stroke-width: 1.0;\"/><path d=\"M260.1795,310.5444 A9,9 0 0 0 262.0395 293.7325\" fill=\"none\" style=\"stroke: #383838; stroke-width: 1.5;\"/><text fill=\"#000000\" font-family=\"sans-serif\" font-size=\"13\" lengthAdjust=\"spacingAndGlyphs\" textLength=\"60\" x=\"289\" y=\"302.0669\">«variant»</text></a><!--MD5=[ecb1f2b9092cd1a39b52a7707b787fcf]\n",
       "@startuml\r\n",
       "left to right direction\r\n",
       "skinparam monochrome true\r\n",
       "skinparam classbackgroundcolor white\r\n",
       "skinparam shadowing false\r\n",
       "skinparam wrapWidth 300\r\n",
       "hide circle\r\n",
       "\r\n",
       "package \"VariabilityTest\" as E1  [[psysml:fc405a6c-3061-4540-9673-8b8e766ba6ac ]]  {\r\n",
       "comp def \"P\" as E2  <<(T,blue)part def>> [[psysml:dc902210-e855-46b4-a2dd-8255fef19514 ]] {\r\n",
       "- - attributes - -\r\n",
       "a\r\n",
       "}\r\n",
       "comp def \"Q\" as E3  <<(T,blue)part def>> [[psysml:b52c8837-30af-42aa-bc51-100eaed5de80 ]] {\r\n",
       "}\r\n",
       "comp def \"B\" as E4  <<(T,blue)attribute def>> [[psysml:f17815b8-46c4-4dd9-bf70-524ba6c03f24 ]] {\r\n",
       "}\r\n",
       "comp def \"V\" as E5  <<(T,blue)part def>> [[psysml:b1ebe526-c40e-4c8f-ae74-16f7fcd1bdc9 ]] {\r\n",
       "}\r\n",
       "comp usage \"x: Q\" as E6  <<(T,blue)part>> [[psysml:05419eac-6c2b-46e9-bd3b-b31f448a077a ]] {\r\n",
       "- - attributes - -\r\n",
       "b: B\\n//:>>P::a// \r\n",
       "}\r\n",
       "comp usage \"q: Q\" as E7  <<(T,blue)part>> [[psysml:bd66bfa4-4cf8-4e62-98d6-c8549fcb8467 ]] {\r\n",
       "}\r\n",
       "comp usage \"v: P\" as E8  <<variation>>\\n <<(T,blue)part>> [[psysml:d11ba367-2498-4d3b-bf9a-6df5f0bc7068 ]] {\r\n",
       "}\r\n",
       "comp usage \"y\" as E9  <<(T,blue)part>> [[psysml:72597939-8390-466d-9479-39928477d122 ]] {\r\n",
       "- - attributes - -\r\n",
       "b: B\\n//:>>P::a// \r\n",
       "}\r\n",
       "E3 - -|> E2 [[psysml:0057605f-0b36-40b5-a833-d8040f0d9e74 ]] \r\n",
       "E5 - -|> E2 [[psysml:922ee1f9-edf0-4204-bf0f-0435eb6f66de ]] \r\n",
       "E5 )- ->> E6 [[psysml:1c0ef759-8c31-4a4a-b0e7-e872c2806a04 ]] : <<variant>>\r\n",
       "E7 - -:|> E3 [[psysml:6aa04dcc-8d2e-4853-a2ca-5b94913b0044 ]] \r\n",
       "E8 - -:|> E2 [[psysml:62998d3a-e41b-4231-af2c-a0f2b465e4e7 ]] \r\n",
       "E8 )- ->> E9 [[psysml:196bced0-9581-41ba-9556-fc72f0b07990 ]] : <<variant>>\r\n",
       "}\r\n",
       "@enduml\r\n",
       "\n",
       "PlantUML version 1.2020.13(Sat Jun 13 12:26:38 UTC 2020)\n",
       "(EPL source distribution)\n",
       "Java Runtime: OpenJDK Runtime Environment\n",
       "JVM: OpenJDK 64-Bit Server VM\n",
       "Default Encoding: UTF-8\n",
       "Language: en\n",
       "Country: null\n",
       "--></g></svg>"
      ]
     },
     "execution_count": 16,
     "metadata": {},
     "output_type": "execute_result"
    }
   ],
   "source": [
    "%viz --style=\"LR\" --view=\"Default\" \"VariabilityTest\""
   ]
  },
  {
   "cell_type": "code",
   "execution_count": 17,
   "id": "fantastic-valuable",
   "metadata": {
    "execution": {
     "iopub.execute_input": "2021-03-25T15:07:40.273836Z",
     "iopub.status.busy": "2021-03-25T15:07:40.273323Z",
     "iopub.status.idle": "2021-03-25T15:07:40.722837Z",
     "shell.execute_reply": "2021-03-25T15:07:40.723224Z"
    }
   },
   "outputs": [
    {
     "data": {
      "image/svg+xml": [
       "<?xml version=\"1.0\" encoding=\"UTF-8\" standalone=\"no\"?><svg xmlns=\"http://www.w3.org/2000/svg\" xmlns:xlink=\"http://www.w3.org/1999/xlink\" contentScriptType=\"application/ecmascript\" contentStyleType=\"text/css\" height=\"391px\" preserveAspectRatio=\"none\" style=\"width:484px;height:391px;\" version=\"1.1\" viewBox=\"0 0 484 391\" width=\"484px\" zoomAndPan=\"magnify\"><defs/><g><!--MD5=[fbc87193dbaf4d95561dea2c320d4a47]\n",
       "cluster E1--><a href=\"psysml:fc405a6c-3061-4540-9673-8b8e766ba6ac\" target=\"_top\" title=\"psysml:fc405a6c-3061-4540-9673-8b8e766ba6ac\" xlink:actuate=\"onRequest\" xlink:href=\"psysml:fc405a6c-3061-4540-9673-8b8e766ba6ac\" xlink:show=\"new\" xlink:title=\"psysml:fc405a6c-3061-4540-9673-8b8e766ba6ac\" xlink:type=\"simple\"><polygon fill=\"#FFFFFF\" points=\"16,6,134,6,141,28.2969,462,28.2969,462,379,16,379,16,6\" style=\"stroke: #000000; stroke-width: 1.5;\"/><line style=\"stroke: #000000; stroke-width: 1.5;\" x1=\"16\" x2=\"141\" y1=\"28.2969\" y2=\"28.2969\"/><text fill=\"#000000\" font-family=\"sans-serif\" font-size=\"14\" font-weight=\"bold\" lengthAdjust=\"spacingAndGlyphs\" textLength=\"112\" x=\"20\" y=\"20.9951\">VariabilityTest</text></a><!--MD5=[b4997ac47864f28c2f74865a473b2911]\n",
       "class E2--><a href=\"psysml:dc902210-e855-46b4-a2dd-8255fef19514\" target=\"_top\" title=\"psysml:dc902210-e855-46b4-a2dd-8255fef19514\" xlink:actuate=\"onRequest\" xlink:href=\"psysml:dc902210-e855-46b4-a2dd-8255fef19514\" xlink:show=\"new\" xlink:title=\"psysml:dc902210-e855-46b4-a2dd-8255fef19514\" xlink:type=\"simple\"><rect fill=\"#FFFFFF\" height=\"75.5469\" id=\"E2\" style=\"stroke: #383838; stroke-width: 1.5;\" width=\"66\" x=\"380\" y=\"164\"/><text fill=\"#000000\" font-family=\"sans-serif\" font-size=\"12\" font-style=\"italic\" lengthAdjust=\"spacingAndGlyphs\" textLength=\"64\" x=\"381\" y=\"180.1387\">«part def»</text><text fill=\"#000000\" font-family=\"sans-serif\" font-size=\"12\" lengthAdjust=\"spacingAndGlyphs\" textLength=\"8\" x=\"409\" y=\"194.1074\">P</text><line style=\"stroke: #383838; stroke-width: 1.5;\" x1=\"381\" x2=\"445\" y1=\"201.9375\" y2=\"201.9375\"/><text fill=\"#000000\" font-family=\"sans-serif\" font-size=\"11\" lengthAdjust=\"spacingAndGlyphs\" textLength=\"7\" x=\"386\" y=\"232.9526\">a</text><line style=\"stroke: #383838; stroke-width: 1.0;\" x1=\"381\" x2=\"385.5\" y1=\"216.3398\" y2=\"216.3398\"/><text fill=\"#000000\" font-family=\"sans-serif\" font-size=\"11\" lengthAdjust=\"spacingAndGlyphs\" textLength=\"55\" x=\"385.5\" y=\"219.6479\">attributes</text><line style=\"stroke: #383838; stroke-width: 1.0;\" x1=\"440.5\" x2=\"445\" y1=\"216.3398\" y2=\"216.3398\"/></a><!--MD5=[09b614a08d8cba4a07c9adeb5e0fee81]\n",
       "class E3--><a href=\"psysml:b52c8837-30af-42aa-bc51-100eaed5de80\" target=\"_top\" title=\"psysml:b52c8837-30af-42aa-bc51-100eaed5de80\" xlink:actuate=\"onRequest\" xlink:href=\"psysml:b52c8837-30af-42aa-bc51-100eaed5de80\" xlink:show=\"new\" xlink:title=\"psysml:b52c8837-30af-42aa-bc51-100eaed5de80\" xlink:type=\"simple\"><rect fill=\"#FFFFFF\" height=\"45.9375\" id=\"E3\" style=\"stroke: #383838; stroke-width: 1.5;\" width=\"66\" x=\"190\" y=\"179\"/><text fill=\"#000000\" font-family=\"sans-serif\" font-size=\"12\" font-style=\"italic\" lengthAdjust=\"spacingAndGlyphs\" textLength=\"64\" x=\"191\" y=\"195.1387\">«part def»</text><text fill=\"#000000\" font-family=\"sans-serif\" font-size=\"12\" lengthAdjust=\"spacingAndGlyphs\" textLength=\"9\" x=\"218.5\" y=\"209.1074\">Q</text><line style=\"stroke: #383838; stroke-width: 1.5;\" x1=\"191\" x2=\"255\" y1=\"216.9375\" y2=\"216.9375\"/></a><!--MD5=[ebbe1d658d1005bcc118a6aa81145e00]\n",
       "class E4--><a href=\"psysml:f17815b8-46c4-4dd9-bf70-524ba6c03f24\" target=\"_top\" title=\"psysml:f17815b8-46c4-4dd9-bf70-524ba6c03f24\" xlink:actuate=\"onRequest\" xlink:href=\"psysml:f17815b8-46c4-4dd9-bf70-524ba6c03f24\" xlink:show=\"new\" xlink:title=\"psysml:f17815b8-46c4-4dd9-bf70-524ba6c03f24\" xlink:type=\"simple\"><rect fill=\"#FFFFFF\" height=\"45.9375\" id=\"E4\" style=\"stroke: #383838; stroke-width: 1.5;\" width=\"95\" x=\"32\" y=\"70\"/><text fill=\"#000000\" font-family=\"sans-serif\" font-size=\"12\" font-style=\"italic\" lengthAdjust=\"spacingAndGlyphs\" textLength=\"93\" x=\"33\" y=\"86.1387\">«attribute def»</text><text fill=\"#000000\" font-family=\"sans-serif\" font-size=\"12\" lengthAdjust=\"spacingAndGlyphs\" textLength=\"8\" x=\"75.5\" y=\"100.1074\">B</text><line style=\"stroke: #383838; stroke-width: 1.5;\" x1=\"33\" x2=\"126\" y1=\"107.9375\" y2=\"107.9375\"/></a><!--MD5=[270fce915f116d4de14055a7c1d9a0f3]\n",
       "class E5--><a href=\"psysml:b1ebe526-c40e-4c8f-ae74-16f7fcd1bdc9\" target=\"_top\" title=\"psysml:b1ebe526-c40e-4c8f-ae74-16f7fcd1bdc9\" xlink:actuate=\"onRequest\" xlink:href=\"psysml:b1ebe526-c40e-4c8f-ae74-16f7fcd1bdc9\" xlink:show=\"new\" xlink:title=\"psysml:b1ebe526-c40e-4c8f-ae74-16f7fcd1bdc9\" xlink:type=\"simple\"><rect fill=\"#FFFFFF\" height=\"45.9375\" id=\"E5\" style=\"stroke: #383838; stroke-width: 1.5;\" width=\"66\" x=\"190\" y=\"80\"/><text fill=\"#000000\" font-family=\"sans-serif\" font-size=\"12\" font-style=\"italic\" lengthAdjust=\"spacingAndGlyphs\" textLength=\"64\" x=\"191\" y=\"96.1387\">«part def»</text><text fill=\"#000000\" font-family=\"sans-serif\" font-size=\"12\" lengthAdjust=\"spacingAndGlyphs\" textLength=\"8\" x=\"219\" y=\"110.1074\">V</text><line style=\"stroke: #383838; stroke-width: 1.5;\" x1=\"191\" x2=\"255\" y1=\"117.9375\" y2=\"117.9375\"/></a><!--MD5=[60a26617385b1d2d0262a64233df1f8d]\n",
       "class E6--><a href=\"psysml:05419eac-6c2b-46e9-bd3b-b31f448a077a\" target=\"_top\" title=\"psysml:05419eac-6c2b-46e9-bd3b-b31f448a077a\" xlink:actuate=\"onRequest\" xlink:href=\"psysml:05419eac-6c2b-46e9-bd3b-b31f448a077a\" xlink:show=\"new\" xlink:title=\"psysml:05419eac-6c2b-46e9-bd3b-b31f448a077a\" xlink:type=\"simple\"><rect fill=\"#FFFFFF\" height=\"88.3516\" id=\"E6\" rx=\"10\" ry=\"10\" style=\"stroke: #383838; stroke-width: 1.5;\" width=\"63\" x=\"381.5\" y=\"41\"/><text fill=\"#000000\" font-family=\"sans-serif\" font-size=\"12\" font-style=\"italic\" lengthAdjust=\"spacingAndGlyphs\" textLength=\"40\" x=\"393\" y=\"57.1387\">«part»</text><text fill=\"#000000\" font-family=\"sans-serif\" font-size=\"12\" lengthAdjust=\"spacingAndGlyphs\" textLength=\"23\" x=\"401.5\" y=\"71.1074\">x: Q</text><line style=\"stroke: #383838; stroke-width: 1.5;\" x1=\"382.5\" x2=\"443.5\" y1=\"78.9375\" y2=\"78.9375\"/><text fill=\"#000000\" font-family=\"sans-serif\" font-size=\"11\" lengthAdjust=\"spacingAndGlyphs\" textLength=\"23\" x=\"387.5\" y=\"109.9526\">b: B</text><text fill=\"#000000\" font-family=\"sans-serif\" font-size=\"11\" font-style=\"italic\" lengthAdjust=\"spacingAndGlyphs\" textLength=\"44\" x=\"387.5\" y=\"122.7573\">:&gt;&gt;P::a</text><line style=\"stroke: #383838; stroke-width: 1.0;\" x1=\"382.5\" x2=\"385.5\" y1=\"93.3398\" y2=\"93.3398\"/><text fill=\"#000000\" font-family=\"sans-serif\" font-size=\"11\" lengthAdjust=\"spacingAndGlyphs\" textLength=\"55\" x=\"385.5\" y=\"96.6479\">attributes</text><line style=\"stroke: #383838; stroke-width: 1.0;\" x1=\"440.5\" x2=\"443.5\" y1=\"93.3398\" y2=\"93.3398\"/></a><!--MD5=[2156ba9850f5573cc1fc38a6a4b2f02b]\n",
       "class E7--><a href=\"psysml:bd66bfa4-4cf8-4e62-98d6-c8549fcb8467\" target=\"_top\" title=\"psysml:bd66bfa4-4cf8-4e62-98d6-c8549fcb8467\" xlink:actuate=\"onRequest\" xlink:href=\"psysml:bd66bfa4-4cf8-4e62-98d6-c8549fcb8467\" xlink:show=\"new\" xlink:title=\"psysml:bd66bfa4-4cf8-4e62-98d6-c8549fcb8467\" xlink:type=\"simple\"><rect fill=\"#FFFFFF\" height=\"45.9375\" id=\"E7\" rx=\"10\" ry=\"10\" style=\"stroke: #383838; stroke-width: 1.5;\" width=\"42\" x=\"58.5\" y=\"179\"/><text fill=\"#000000\" font-family=\"sans-serif\" font-size=\"12\" font-style=\"italic\" lengthAdjust=\"spacingAndGlyphs\" textLength=\"40\" x=\"59.5\" y=\"195.1387\">«part»</text><text fill=\"#000000\" font-family=\"sans-serif\" font-size=\"12\" lengthAdjust=\"spacingAndGlyphs\" textLength=\"25\" x=\"67\" y=\"209.1074\">q: Q</text><line style=\"stroke: #383838; stroke-width: 1.5;\" x1=\"59.5\" x2=\"99.5\" y1=\"216.9375\" y2=\"216.9375\"/></a><!--MD5=[b9389687b975829384b498ac4b7476b2]\n",
       "class E8--><a href=\"psysml:d11ba367-2498-4d3b-bf9a-6df5f0bc7068\" target=\"_top\" title=\"psysml:d11ba367-2498-4d3b-bf9a-6df5f0bc7068\" xlink:actuate=\"onRequest\" xlink:href=\"psysml:d11ba367-2498-4d3b-bf9a-6df5f0bc7068\" xlink:show=\"new\" xlink:title=\"psysml:d11ba367-2498-4d3b-bf9a-6df5f0bc7068\" xlink:type=\"simple\"><rect fill=\"#FFFFFF\" height=\"59.9063\" id=\"E8\" rx=\"10\" ry=\"10\" style=\"stroke: #383838; stroke-width: 1.5;\" width=\"70\" x=\"188\" y=\"268\"/><text fill=\"#000000\" font-family=\"sans-serif\" font-size=\"12\" font-style=\"italic\" lengthAdjust=\"spacingAndGlyphs\" textLength=\"68\" x=\"189\" y=\"284.1387\">«variation»</text><text fill=\"#000000\" font-family=\"sans-serif\" font-size=\"12\" font-style=\"italic\" lengthAdjust=\"spacingAndGlyphs\" textLength=\"40\" x=\"203\" y=\"298.1074\">«part»</text><text fill=\"#000000\" font-family=\"sans-serif\" font-size=\"12\" lengthAdjust=\"spacingAndGlyphs\" textLength=\"22\" x=\"212\" y=\"312.0762\">v: P</text><line style=\"stroke: #383838; stroke-width: 1.5;\" x1=\"189\" x2=\"257\" y1=\"319.9063\" y2=\"319.9063\"/></a><!--MD5=[fd4143e9d270a159db93a4ea2a975926]\n",
       "class E9--><a href=\"psysml:72597939-8390-466d-9479-39928477d122\" target=\"_top\" title=\"psysml:72597939-8390-466d-9479-39928477d122\" xlink:actuate=\"onRequest\" xlink:href=\"psysml:72597939-8390-466d-9479-39928477d122\" xlink:show=\"new\" xlink:title=\"psysml:72597939-8390-466d-9479-39928477d122\" xlink:type=\"simple\"><rect fill=\"#FFFFFF\" height=\"88.3516\" id=\"E9\" rx=\"10\" ry=\"10\" style=\"stroke: #383838; stroke-width: 1.5;\" width=\"63\" x=\"381.5\" y=\"275\"/><text fill=\"#000000\" font-family=\"sans-serif\" font-size=\"12\" font-style=\"italic\" lengthAdjust=\"spacingAndGlyphs\" textLength=\"40\" x=\"393\" y=\"291.1387\">«part»</text><text fill=\"#000000\" font-family=\"sans-serif\" font-size=\"12\" lengthAdjust=\"spacingAndGlyphs\" textLength=\"6\" x=\"410\" y=\"305.1074\">y</text><line style=\"stroke: #383838; stroke-width: 1.5;\" x1=\"382.5\" x2=\"443.5\" y1=\"312.9375\" y2=\"312.9375\"/><text fill=\"#000000\" font-family=\"sans-serif\" font-size=\"11\" lengthAdjust=\"spacingAndGlyphs\" textLength=\"23\" x=\"387.5\" y=\"343.9526\">b: B</text><text fill=\"#000000\" font-family=\"sans-serif\" font-size=\"11\" font-style=\"italic\" lengthAdjust=\"spacingAndGlyphs\" textLength=\"44\" x=\"387.5\" y=\"356.7573\">:&gt;&gt;P::a</text><line style=\"stroke: #383838; stroke-width: 1.0;\" x1=\"382.5\" x2=\"385.5\" y1=\"327.3398\" y2=\"327.3398\"/><text fill=\"#000000\" font-family=\"sans-serif\" font-size=\"11\" lengthAdjust=\"spacingAndGlyphs\" textLength=\"55\" x=\"385.5\" y=\"330.6479\">attributes</text><line style=\"stroke: #383838; stroke-width: 1.0;\" x1=\"440.5\" x2=\"443.5\" y1=\"327.3398\" y2=\"327.3398\"/></a><!--MD5=[05d275557350bfb9b23a4ef7222b4c39]\n",
       "link E3 to E2--><a href=\"psysml:0057605f-0b36-40b5-a833-d8040f0d9e74\" target=\"_top\" title=\"psysml:0057605f-0b36-40b5-a833-d8040f0d9e74\" xlink:actuate=\"onRequest\" xlink:href=\"psysml:0057605f-0b36-40b5-a833-d8040f0d9e74\" xlink:show=\"new\" xlink:title=\"psysml:0057605f-0b36-40b5-a833-d8040f0d9e74\" xlink:type=\"simple\"><path d=\"M256.32,202 C284.65,202 326.37,202 359.49,202 \" fill=\"none\" id=\"E3-&gt;E2\" style=\"stroke: #383838; stroke-width: 1.0;\"/><polygon fill=\"none\" points=\"359.79,195,379.79,202,359.79,209,359.79,195\" style=\"stroke: #383838; stroke-width: 1.0;\"/></a><!--MD5=[15ebcb19ae302d9b601edb458606d402]\n",
       "link E5 to E2--><a href=\"psysml:922ee1f9-edf0-4204-bf0f-0435eb6f66de\" target=\"_top\" title=\"psysml:922ee1f9-edf0-4204-bf0f-0435eb6f66de\" xlink:actuate=\"onRequest\" xlink:href=\"psysml:922ee1f9-edf0-4204-bf0f-0435eb6f66de\" xlink:show=\"new\" xlink:title=\"psysml:922ee1f9-edf0-4204-bf0f-0435eb6f66de\" xlink:type=\"simple\"><path d=\"M256.32,120.02 C285.33,135.29 328.37,157.96 361.84,175.59 \" fill=\"none\" id=\"E5-&gt;E2\" style=\"stroke: #383838; stroke-width: 1.0;\"/><polygon fill=\"none\" points=\"365.35,169.53,379.79,185.04,358.83,181.91,365.35,169.53\" style=\"stroke: #383838; stroke-width: 1.0;\"/></a><!--MD5=[9120cf2e5df3bff93db8f754bbbc09b4]\n",
       "link E5 to E6--><a href=\"psysml:1c0ef759-8c31-4a4a-b0e7-e872c2806a04\" target=\"_top\" title=\"psysml:1c0ef759-8c31-4a4a-b0e7-e872c2806a04\" xlink:actuate=\"onRequest\" xlink:href=\"psysml:1c0ef759-8c31-4a4a-b0e7-e872c2806a04\" xlink:show=\"new\" xlink:title=\"psysml:1c0ef759-8c31-4a4a-b0e7-e872c2806a04\" xlink:type=\"simple\"><path d=\"M266.69,98.91 C298.07,95.91 340.45,91.85 371.34,88.89 \" fill=\"none\" id=\"E5-E6\" style=\"stroke: #383838; stroke-width: 1.0;\"/><polygon fill=\"#383838\" points=\"381.35,87.93,373.0997,85.7092,373.6738,91.6817,381.35,87.93\" style=\"stroke: #383838; stroke-width: 1.0;\"/><path d=\"M260.1933,108.0339 A9,9 0 0 0 258.5748 91.197\" fill=\"none\" style=\"stroke: #383838; stroke-width: 1.5;\"/><text fill=\"#000000\" font-family=\"sans-serif\" font-size=\"13\" lengthAdjust=\"spacingAndGlyphs\" textLength=\"60\" x=\"289\" y=\"88.0669\">«variant»</text></a><!--MD5=[14ccda38c055a5c0da953d572bc50960]\n",
       "link E7 to E3--><a href=\"psysml:6aa04dcc-8d2e-4853-a2ca-5b94913b0044\" target=\"_top\" title=\"psysml:6aa04dcc-8d2e-4853-a2ca-5b94913b0044\" xlink:actuate=\"onRequest\" xlink:href=\"psysml:6aa04dcc-8d2e-4853-a2ca-5b94913b0044\" xlink:show=\"new\" xlink:title=\"psysml:6aa04dcc-8d2e-4853-a2ca-5b94913b0044\" xlink:type=\"simple\"><path d=\"M100.77,202 C118.65,202 145.5,202 169.39,202 \" fill=\"none\" id=\"E7-&gt;E3\" style=\"stroke: #383838; stroke-width: 1.0;\"/><polygon fill=\"#FFFFFF\" points=\"189.74,202,170.74,209,170.74,195,189.74,202\" style=\"stroke: #383838; stroke-width: 1.0;\"/><ellipse cx=\"165.04\" cy=\"207\" fill=\"#383838\" rx=\"2\" ry=\"2\" style=\"stroke: #383838; stroke-width: 1.0;\"/><ellipse cx=\"165.04\" cy=\"197\" fill=\"#383838\" rx=\"2\" ry=\"2\" style=\"stroke: #383838; stroke-width: 1.0;\"/></a><!--MD5=[f1f3f9f2fc535e6147756cb86a7f2e32]\n",
       "link E8 to E2--><a href=\"psysml:62998d3a-e41b-4231-af2c-a0f2b465e4e7\" target=\"_top\" title=\"psysml:62998d3a-e41b-4231-af2c-a0f2b465e4e7\" xlink:actuate=\"onRequest\" xlink:href=\"psysml:62998d3a-e41b-4231-af2c-a0f2b465e4e7\" xlink:show=\"new\" xlink:title=\"psysml:62998d3a-e41b-4231-af2c-a0f2b465e4e7\" xlink:type=\"simple\"><path d=\"M258.05,280.62 C286.97,265.85 328.89,244.44 361.69,227.69 \" fill=\"none\" id=\"E8-&gt;E2\" style=\"stroke: #383838; stroke-width: 1.0;\"/><polygon fill=\"#FFFFFF\" points=\"379.78,218.45,366.049,233.3315,359.6762,220.8661,379.78,218.45\" style=\"stroke: #383838; stroke-width: 1.0;\"/><ellipse cx=\"360.0634\" cy=\"234.1454\" fill=\"#383838\" rx=\"2\" ry=\"2\" style=\"stroke: #383838; stroke-width: 1.0;\"/><ellipse cx=\"355.5114\" cy=\"225.2415\" fill=\"#383838\" rx=\"2\" ry=\"2\" style=\"stroke: #383838; stroke-width: 1.0;\"/></a><!--MD5=[ed10624c06dd9a4fa49ccf290e8b16a8]\n",
       "link E8 to E9--><a href=\"psysml:196bced0-9581-41ba-9556-fc72f0b07990\" target=\"_top\" title=\"psysml:196bced0-9581-41ba-9556-fc72f0b07990\" xlink:actuate=\"onRequest\" xlink:href=\"psysml:196bced0-9581-41ba-9556-fc72f0b07990\" xlink:show=\"new\" xlink:title=\"psysml:196bced0-9581-41ba-9556-fc72f0b07990\" xlink:type=\"simple\"><path d=\"M268.4,302.96 C299.51,306.43 340.78,311.04 371.09,314.43 \" fill=\"none\" id=\"E8-E9\" style=\"stroke: #383838; stroke-width: 1.0;\"/><polygon fill=\"#383838\" points=\"381.32,315.57,373.7039,311.6977,373.0357,317.6604,381.32,315.57\" style=\"stroke: #383838; stroke-width: 1.0;\"/><path d=\"M260.1795,310.5444 A9,9 0 0 0 262.0395 293.7325\" fill=\"none\" style=\"stroke: #383838; stroke-width: 1.5;\"/><text fill=\"#000000\" font-family=\"sans-serif\" font-size=\"13\" lengthAdjust=\"spacingAndGlyphs\" textLength=\"60\" x=\"289\" y=\"302.0669\">«variant»</text></a><!--MD5=[ecb1f2b9092cd1a39b52a7707b787fcf]\n",
       "@startuml\r\n",
       "left to right direction\r\n",
       "skinparam monochrome true\r\n",
       "skinparam classbackgroundcolor white\r\n",
       "skinparam shadowing false\r\n",
       "skinparam wrapWidth 300\r\n",
       "hide circle\r\n",
       "\r\n",
       "package \"VariabilityTest\" as E1  [[psysml:fc405a6c-3061-4540-9673-8b8e766ba6ac ]]  {\r\n",
       "comp def \"P\" as E2  <<(T,blue)part def>> [[psysml:dc902210-e855-46b4-a2dd-8255fef19514 ]] {\r\n",
       "- - attributes - -\r\n",
       "a\r\n",
       "}\r\n",
       "comp def \"Q\" as E3  <<(T,blue)part def>> [[psysml:b52c8837-30af-42aa-bc51-100eaed5de80 ]] {\r\n",
       "}\r\n",
       "comp def \"B\" as E4  <<(T,blue)attribute def>> [[psysml:f17815b8-46c4-4dd9-bf70-524ba6c03f24 ]] {\r\n",
       "}\r\n",
       "comp def \"V\" as E5  <<(T,blue)part def>> [[psysml:b1ebe526-c40e-4c8f-ae74-16f7fcd1bdc9 ]] {\r\n",
       "}\r\n",
       "comp usage \"x: Q\" as E6  <<(T,blue)part>> [[psysml:05419eac-6c2b-46e9-bd3b-b31f448a077a ]] {\r\n",
       "- - attributes - -\r\n",
       "b: B\\n//:>>P::a// \r\n",
       "}\r\n",
       "comp usage \"q: Q\" as E7  <<(T,blue)part>> [[psysml:bd66bfa4-4cf8-4e62-98d6-c8549fcb8467 ]] {\r\n",
       "}\r\n",
       "comp usage \"v: P\" as E8  <<variation>>\\n <<(T,blue)part>> [[psysml:d11ba367-2498-4d3b-bf9a-6df5f0bc7068 ]] {\r\n",
       "}\r\n",
       "comp usage \"y\" as E9  <<(T,blue)part>> [[psysml:72597939-8390-466d-9479-39928477d122 ]] {\r\n",
       "- - attributes - -\r\n",
       "b: B\\n//:>>P::a// \r\n",
       "}\r\n",
       "E3 - -|> E2 [[psysml:0057605f-0b36-40b5-a833-d8040f0d9e74 ]] \r\n",
       "E5 - -|> E2 [[psysml:922ee1f9-edf0-4204-bf0f-0435eb6f66de ]] \r\n",
       "E5 )- ->> E6 [[psysml:1c0ef759-8c31-4a4a-b0e7-e872c2806a04 ]] : <<variant>>\r\n",
       "E7 - -:|> E3 [[psysml:6aa04dcc-8d2e-4853-a2ca-5b94913b0044 ]] \r\n",
       "E8 - -:|> E2 [[psysml:62998d3a-e41b-4231-af2c-a0f2b465e4e7 ]] \r\n",
       "E8 )- ->> E9 [[psysml:196bced0-9581-41ba-9556-fc72f0b07990 ]] : <<variant>>\r\n",
       "}\r\n",
       "@enduml\r\n",
       "\n",
       "PlantUML version 1.2020.13(Sat Jun 13 12:26:38 UTC 2020)\n",
       "(EPL source distribution)\n",
       "Java Runtime: OpenJDK Runtime Environment\n",
       "JVM: OpenJDK 64-Bit Server VM\n",
       "Default Encoding: UTF-8\n",
       "Language: en\n",
       "Country: null\n",
       "--></g></svg>"
      ]
     },
     "execution_count": 17,
     "metadata": {},
     "output_type": "execute_result"
    }
   ],
   "source": [
    "%viz --style=\"LR\" --view=\"Tree\" \"VariabilityTest\""
   ]
  },
  {
   "cell_type": "code",
   "execution_count": 18,
   "id": "unavailable-handle",
   "metadata": {
    "execution": {
     "iopub.execute_input": "2021-03-25T15:07:40.774504Z",
     "iopub.status.busy": "2021-03-25T15:07:40.773456Z",
     "iopub.status.idle": "2021-03-25T15:07:40.781766Z",
     "shell.execute_reply": "2021-03-25T15:07:40.781405Z"
    }
   },
   "outputs": [
    {
     "data": {
      "image/svg+xml": [
       "<?xml version=\"1.0\" encoding=\"UTF-8\" standalone=\"no\"?><svg xmlns=\"http://www.w3.org/2000/svg\" xmlns:xlink=\"http://www.w3.org/1999/xlink\" contentScriptType=\"application/ecmascript\" contentStyleType=\"text/css\" height=\"12px\" preserveAspectRatio=\"none\" style=\"width:12px;height:12px;\" version=\"1.1\" viewBox=\"0 0 12 12\" width=\"12px\" zoomAndPan=\"magnify\"><defs/><g><!--MD5=[19d285c9d72a204eba4e2cd117d745e8]\n",
       "@startuml\r\n",
       "left to right direction\r\n",
       "skinparam monochrome true\r\n",
       "skinparam classbackgroundcolor white\r\n",
       "skinparam shadowing false\r\n",
       "skinparam wrapWidth 300\r\n",
       "hide circle\r\n",
       "\r\n",
       "@enduml\r\n",
       "\n",
       "PlantUML version 1.2020.13(Sat Jun 13 12:26:38 UTC 2020)\n",
       "(EPL source distribution)\n",
       "Java Runtime: OpenJDK Runtime Environment\n",
       "JVM: OpenJDK 64-Bit Server VM\n",
       "Default Encoding: UTF-8\n",
       "Language: en\n",
       "Country: null\n",
       "--></g></svg>"
      ]
     },
     "execution_count": 18,
     "metadata": {},
     "output_type": "execute_result"
    }
   ],
   "source": [
    "%viz --style=\"LR\" --view=\"State\" \"VariabilityTest\""
   ]
  },
  {
   "cell_type": "code",
   "execution_count": 19,
   "id": "linear-housing",
   "metadata": {
    "execution": {
     "iopub.execute_input": "2021-03-25T15:07:40.832692Z",
     "iopub.status.busy": "2021-03-25T15:07:40.832221Z",
     "iopub.status.idle": "2021-03-25T15:07:41.009056Z",
     "shell.execute_reply": "2021-03-25T15:07:41.008621Z"
    }
   },
   "outputs": [
    {
     "data": {
      "image/svg+xml": [
       "<?xml version=\"1.0\" encoding=\"UTF-8\" standalone=\"no\"?><svg xmlns=\"http://www.w3.org/2000/svg\" xmlns:xlink=\"http://www.w3.org/1999/xlink\" contentScriptType=\"application/ecmascript\" contentStyleType=\"text/css\" height=\"749px\" preserveAspectRatio=\"none\" style=\"width:438px;height:749px;\" version=\"1.1\" viewBox=\"0 0 438 749\" width=\"438px\" zoomAndPan=\"magnify\"><defs/><g><!--MD5=[fbc87193dbaf4d95561dea2c320d4a47]\n",
       "cluster E1--><a href=\"psysml:fc405a6c-3061-4540-9673-8b8e766ba6ac\" target=\"_top\" title=\"psysml:fc405a6c-3061-4540-9673-8b8e766ba6ac\" xlink:actuate=\"onRequest\" xlink:href=\"psysml:fc405a6c-3061-4540-9673-8b8e766ba6ac\" xlink:show=\"new\" xlink:title=\"psysml:fc405a6c-3061-4540-9673-8b8e766ba6ac\" xlink:type=\"simple\"><polygon fill=\"#FFFFFF\" points=\"16,6,134,6,141,28.2969,416,28.2969,416,737,16,737,16,6\" style=\"stroke: #000000; stroke-width: 1.5;\"/><line style=\"stroke: #000000; stroke-width: 1.5;\" x1=\"16\" x2=\"141\" y1=\"28.2969\" y2=\"28.2969\"/><text fill=\"#000000\" font-family=\"sans-serif\" font-size=\"14\" font-weight=\"bold\" lengthAdjust=\"spacingAndGlyphs\" textLength=\"112\" x=\"20\" y=\"20.9951\">VariabilityTest</text></a><!--MD5=[e4f7fae6ed58524ba242bb0b0d3be6b7]\n",
       "cluster E2--><a href=\"psysml:dc902210-e855-46b4-a2dd-8255fef19514\" target=\"_top\" title=\"psysml:dc902210-e855-46b4-a2dd-8255fef19514\" xlink:actuate=\"onRequest\" xlink:href=\"psysml:dc902210-e855-46b4-a2dd-8255fef19514\" xlink:show=\"new\" xlink:title=\"psysml:dc902210-e855-46b4-a2dd-8255fef19514\" xlink:type=\"simple\"><rect fill=\"#FFFFFF\" height=\"146\" id=\"E2\" style=\"stroke: #383838; stroke-width: 1.5;\" width=\"124\" x=\"260\" y=\"307\"/><rect fill=\"#F8F8F8\" height=\"37.9375\" style=\"stroke: #383838; stroke-width: 1.5;\" width=\"124\" x=\"260\" y=\"307\"/><text fill=\"#000000\" font-family=\"sans-serif\" font-size=\"12\" font-style=\"italic\" lengthAdjust=\"spacingAndGlyphs\" textLength=\"64\" x=\"290\" y=\"323.1387\">«part def»</text><text fill=\"#000000\" font-family=\"sans-serif\" font-size=\"12\" lengthAdjust=\"spacingAndGlyphs\" textLength=\"8\" x=\"318\" y=\"337.1074\">P</text></a><!--MD5=[14e3b0961a2654348d326746436168a1]\n",
       "cluster E6--><a href=\"psysml:b1ebe526-c40e-4c8f-ae74-16f7fcd1bdc9\" target=\"_top\" title=\"psysml:b1ebe526-c40e-4c8f-ae74-16f7fcd1bdc9\" xlink:actuate=\"onRequest\" xlink:href=\"psysml:b1ebe526-c40e-4c8f-ae74-16f7fcd1bdc9\" xlink:show=\"new\" xlink:title=\"psysml:b1ebe526-c40e-4c8f-ae74-16f7fcd1bdc9\" xlink:type=\"simple\"><rect fill=\"#FFFFFF\" height=\"216\" id=\"E6\" style=\"stroke: #383838; stroke-width: 1.5;\" width=\"172\" x=\"48\" y=\"57\"/><rect fill=\"#F8F8F8\" height=\"37.9375\" style=\"stroke: #383838; stroke-width: 1.5;\" width=\"172\" x=\"48\" y=\"57\"/><text fill=\"#000000\" font-family=\"sans-serif\" font-size=\"12\" font-style=\"italic\" lengthAdjust=\"spacingAndGlyphs\" textLength=\"64\" x=\"102\" y=\"73.1387\">«part def»</text><text fill=\"#000000\" font-family=\"sans-serif\" font-size=\"12\" lengthAdjust=\"spacingAndGlyphs\" textLength=\"8\" x=\"130\" y=\"87.1074\">V</text></a><!--MD5=[168fadf3d0c3fd93dd5d6da1b1d7ab76]\n",
       "cluster E7--><a href=\"psysml:05419eac-6c2b-46e9-bd3b-b31f448a077a\" target=\"_top\" title=\"psysml:05419eac-6c2b-46e9-bd3b-b31f448a077a\" xlink:actuate=\"onRequest\" xlink:href=\"psysml:05419eac-6c2b-46e9-bd3b-b31f448a077a\" xlink:show=\"new\" xlink:title=\"psysml:05419eac-6c2b-46e9-bd3b-b31f448a077a\" xlink:type=\"simple\"><rect fill=\"#FFFFFF\" height=\"109\" id=\"E7\" rx=\"10\" ry=\"10\" style=\"stroke: #383838; stroke-width: 1.5;\" width=\"108\" x=\"80\" y=\"124\"/><rect fill=\"#F8F8F8\" height=\"23.9688\" rx=\"10\" ry=\"10\" style=\"stroke: #F8F8F8; stroke-width: 1.5;\" width=\"108\" x=\"80\" y=\"124\"/><rect fill=\"#F8F8F8\" height=\"10\" style=\"stroke: #F8F8F8; stroke-width: 1.5;\" width=\"108\" x=\"80\" y=\"137.9688\"/><rect fill=\"none\" height=\"109\" id=\"E7\" rx=\"10\" ry=\"10\" style=\"stroke: #383838; stroke-width: 1.5;\" width=\"108\" x=\"80\" y=\"124\"/><text fill=\"#000000\" font-family=\"sans-serif\" font-size=\"12\" lengthAdjust=\"spacingAndGlyphs\" textLength=\"23\" x=\"122.5\" y=\"140.1387\">x: Q</text><line style=\"stroke: #383838; stroke-width: 1.0;\" x1=\"80\" x2=\"188\" y1=\"147.9688\" y2=\"147.9688\"/></a><!--MD5=[a84b4591f868c1fa4a211716a82f2f0d]\n",
       "cluster E10--><a href=\"psysml:d11ba367-2498-4d3b-bf9a-6df5f0bc7068\" target=\"_top\" title=\"psysml:d11ba367-2498-4d3b-bf9a-6df5f0bc7068\" xlink:actuate=\"onRequest\" xlink:href=\"psysml:d11ba367-2498-4d3b-bf9a-6df5f0bc7068\" xlink:show=\"new\" xlink:title=\"psysml:d11ba367-2498-4d3b-bf9a-6df5f0bc7068\" xlink:type=\"simple\"><rect fill=\"#FFFFFF\" height=\"192\" id=\"E10\" rx=\"10\" ry=\"10\" style=\"stroke: #383838; stroke-width: 1.5;\" width=\"156\" x=\"56\" y=\"305\"/><rect fill=\"#F8F8F8\" height=\"37.9375\" rx=\"10\" ry=\"10\" style=\"stroke: #F8F8F8; stroke-width: 1.5;\" width=\"156\" x=\"56\" y=\"305\"/><rect fill=\"#F8F8F8\" height=\"10\" style=\"stroke: #F8F8F8; stroke-width: 1.5;\" width=\"156\" x=\"56\" y=\"332.9375\"/><rect fill=\"none\" height=\"192\" id=\"E10\" rx=\"10\" ry=\"10\" style=\"stroke: #383838; stroke-width: 1.5;\" width=\"156\" x=\"56\" y=\"305\"/><text fill=\"#000000\" font-family=\"sans-serif\" font-size=\"12\" font-style=\"italic\" lengthAdjust=\"spacingAndGlyphs\" textLength=\"68\" x=\"100\" y=\"321.1387\">«variation»</text><text fill=\"#000000\" font-family=\"sans-serif\" font-size=\"12\" lengthAdjust=\"spacingAndGlyphs\" textLength=\"22\" x=\"123\" y=\"335.1074\">v: P</text><line style=\"stroke: #383838; stroke-width: 1.0;\" x1=\"56\" x2=\"212\" y1=\"342.9375\" y2=\"342.9375\"/></a><!--MD5=[917b9dd0c7eca3ee5f47219d1a84c0ad]\n",
       "cluster E11--><a href=\"psysml:72597939-8390-466d-9479-39928477d122\" target=\"_top\" title=\"psysml:72597939-8390-466d-9479-39928477d122\" xlink:actuate=\"onRequest\" xlink:href=\"psysml:72597939-8390-466d-9479-39928477d122\" xlink:show=\"new\" xlink:title=\"psysml:72597939-8390-466d-9479-39928477d122\" xlink:type=\"simple\"><rect fill=\"#FFFFFF\" height=\"109\" id=\"E11\" rx=\"10\" ry=\"10\" style=\"stroke: #383838; stroke-width: 1.5;\" width=\"108\" x=\"80\" y=\"364\"/><rect fill=\"#F8F8F8\" height=\"23.9688\" rx=\"10\" ry=\"10\" style=\"stroke: #F8F8F8; stroke-width: 1.5;\" width=\"108\" x=\"80\" y=\"364\"/><rect fill=\"#F8F8F8\" height=\"10\" style=\"stroke: #F8F8F8; stroke-width: 1.5;\" width=\"108\" x=\"80\" y=\"377.9688\"/><rect fill=\"none\" height=\"109\" id=\"E11\" rx=\"10\" ry=\"10\" style=\"stroke: #383838; stroke-width: 1.5;\" width=\"108\" x=\"80\" y=\"364\"/><text fill=\"#000000\" font-family=\"sans-serif\" font-size=\"12\" lengthAdjust=\"spacingAndGlyphs\" textLength=\"6\" x=\"131\" y=\"380.1387\">y</text><line style=\"stroke: #383838; stroke-width: 1.0;\" x1=\"80\" x2=\"188\" y1=\"387.9688\" y2=\"387.9688\"/></a><!--MD5=[270fce915f116d4de14055a7c1d9a0f3]\n",
       "class E5--><a href=\"psysml:f17815b8-46c4-4dd9-bf70-524ba6c03f24\" target=\"_top\" title=\"psysml:f17815b8-46c4-4dd9-bf70-524ba6c03f24\" xlink:actuate=\"onRequest\" xlink:href=\"psysml:f17815b8-46c4-4dd9-bf70-524ba6c03f24\" xlink:show=\"new\" xlink:title=\"psysml:f17815b8-46c4-4dd9-bf70-524ba6c03f24\" xlink:type=\"simple\"><rect fill=\"#FFFFFF\" height=\"53.9375\" id=\"E5\" style=\"stroke: #383838; stroke-width: 1.5;\" width=\"143\" x=\"62.5\" y=\"513\"/><text fill=\"#000000\" font-family=\"sans-serif\" font-size=\"12\" font-style=\"italic\" lengthAdjust=\"spacingAndGlyphs\" textLength=\"141\" x=\"63.5\" y=\"529.1387\">«(T,blue)attribute def»</text><text fill=\"#000000\" font-family=\"sans-serif\" font-size=\"12\" lengthAdjust=\"spacingAndGlyphs\" textLength=\"8\" x=\"130\" y=\"543.1074\">B</text><line style=\"stroke: #383838; stroke-width: 1.5;\" x1=\"63.5\" x2=\"204.5\" y1=\"550.9375\" y2=\"550.9375\"/><line style=\"stroke: #383838; stroke-width: 1.5;\" x1=\"63.5\" x2=\"204.5\" y1=\"558.9375\" y2=\"558.9375\"/></a><g id=\"E1.E2.E3\"><a href=\"psysml:6681b89b-422d-48d0-bc41-7a96ec587b7c\" target=\"_top\" title=\"psysml:6681b89b-422d-48d0-bc41-7a96ec587b7c\" xlink:actuate=\"onRequest\" xlink:href=\"psysml:6681b89b-422d-48d0-bc41-7a96ec587b7c\" xlink:show=\"new\" xlink:title=\"psysml:6681b89b-422d-48d0-bc41-7a96ec587b7c\" xlink:type=\"simple\"><rect fill=\"#FFFFFF\" height=\"42.9375\" id=\"E3\" rx=\"10\" ry=\"10\" style=\"stroke: #383838; stroke-width: 1.5;\" width=\"76\" x=\"284\" y=\"366.5\"/><rect fill=\"#F8F8F8\" height=\"37.9375\" rx=\"10\" ry=\"10\" style=\"stroke: #F8F8F8; stroke-width: 1.5;\" width=\"76\" x=\"284\" y=\"366.5\"/><rect fill=\"#F8F8F8\" height=\"10\" style=\"stroke: #F8F8F8; stroke-width: 1.5;\" width=\"76\" x=\"284\" y=\"394.4375\"/><rect fill=\"none\" height=\"42.9375\" id=\"E3\" rx=\"10\" ry=\"10\" style=\"stroke: #383838; stroke-width: 1.5;\" width=\"76\" x=\"284\" y=\"366.5\"/><text fill=\"#000000\" font-family=\"sans-serif\" font-size=\"12\" font-style=\"italic\" lengthAdjust=\"spacingAndGlyphs\" textLength=\"69\" x=\"287.5\" y=\"382.6387\">«attribute»</text><text fill=\"#000000\" font-family=\"sans-serif\" font-size=\"12\" lengthAdjust=\"spacingAndGlyphs\" textLength=\"8\" x=\"318\" y=\"396.6074\">a</text></a></g><g id=\"E1.E4\"><a href=\"psysml:b52c8837-30af-42aa-bc51-100eaed5de80\" target=\"_top\" title=\"psysml:b52c8837-30af-42aa-bc51-100eaed5de80\" xlink:actuate=\"onRequest\" xlink:href=\"psysml:b52c8837-30af-42aa-bc51-100eaed5de80\" xlink:show=\"new\" xlink:title=\"psysml:b52c8837-30af-42aa-bc51-100eaed5de80\" xlink:type=\"simple\"><rect fill=\"#FFFFFF\" height=\"42.9375\" id=\"E4\" style=\"stroke: #383838; stroke-width: 1.5;\" width=\"71\" x=\"98.5\" y=\"602.5\"/><rect fill=\"#F8F8F8\" height=\"37.9375\" style=\"stroke: #383838; stroke-width: 1.5;\" width=\"71\" x=\"98.5\" y=\"602.5\"/><text fill=\"#000000\" font-family=\"sans-serif\" font-size=\"12\" font-style=\"italic\" lengthAdjust=\"spacingAndGlyphs\" textLength=\"64\" x=\"102\" y=\"618.6387\">«part def»</text><text fill=\"#000000\" font-family=\"sans-serif\" font-size=\"12\" lengthAdjust=\"spacingAndGlyphs\" textLength=\"9\" x=\"129.5\" y=\"632.6074\">Q</text></a></g><g id=\"E1.E6.E7.E8\"><a href=\"psysml:ea3366e9-5974-4411-9b27-ac275f4425c1\" target=\"_top\" title=\"psysml:ea3366e9-5974-4411-9b27-ac275f4425c1\" xlink:actuate=\"onRequest\" xlink:href=\"psysml:ea3366e9-5974-4411-9b27-ac275f4425c1\" xlink:show=\"new\" xlink:title=\"psysml:ea3366e9-5974-4411-9b27-ac275f4425c1\" xlink:type=\"simple\"><rect fill=\"#FFFFFF\" height=\"56.9063\" id=\"E8\" rx=\"10\" ry=\"10\" style=\"stroke: #383838; stroke-width: 1.5;\" width=\"76\" x=\"96\" y=\"159.5\"/><rect fill=\"#F8F8F8\" height=\"51.9063\" rx=\"10\" ry=\"10\" style=\"stroke: #F8F8F8; stroke-width: 1.5;\" width=\"76\" x=\"96\" y=\"159.5\"/><rect fill=\"#F8F8F8\" height=\"10\" style=\"stroke: #F8F8F8; stroke-width: 1.5;\" width=\"76\" x=\"96\" y=\"201.4063\"/><rect fill=\"none\" height=\"56.9063\" id=\"E8\" rx=\"10\" ry=\"10\" style=\"stroke: #383838; stroke-width: 1.5;\" width=\"76\" x=\"96\" y=\"159.5\"/><text fill=\"#000000\" font-family=\"sans-serif\" font-size=\"12\" font-style=\"italic\" lengthAdjust=\"spacingAndGlyphs\" textLength=\"69\" x=\"99.5\" y=\"175.6387\">«attribute»</text><text fill=\"#000000\" font-family=\"sans-serif\" font-size=\"12\" lengthAdjust=\"spacingAndGlyphs\" textLength=\"24\" x=\"122\" y=\"189.6074\">b: B</text><text fill=\"#000000\" font-family=\"sans-serif\" font-size=\"12\" font-style=\"italic\" lengthAdjust=\"spacingAndGlyphs\" textLength=\"48\" x=\"108\" y=\"203.5762\">:&gt;&gt;P::a</text><text fill=\"#000000\" font-family=\"sans-serif\" font-size=\"12\" lengthAdjust=\"spacingAndGlyphs\" textLength=\"0\" x=\"160\" y=\"203.5762\"/></a></g><g id=\"E1.E9\"><a href=\"psysml:bd66bfa4-4cf8-4e62-98d6-c8549fcb8467\" target=\"_top\" title=\"psysml:bd66bfa4-4cf8-4e62-98d6-c8549fcb8467\" xlink:actuate=\"onRequest\" xlink:href=\"psysml:bd66bfa4-4cf8-4e62-98d6-c8549fcb8467\" xlink:show=\"new\" xlink:title=\"psysml:bd66bfa4-4cf8-4e62-98d6-c8549fcb8467\" xlink:type=\"simple\"><rect fill=\"#FFFFFF\" height=\"40\" id=\"E9\" rx=\"10\" ry=\"10\" style=\"stroke: #383838; stroke-width: 1.5;\" width=\"50\" x=\"109\" y=\"681\"/><rect fill=\"#F8F8F8\" height=\"23.9688\" rx=\"10\" ry=\"10\" style=\"stroke: #F8F8F8; stroke-width: 1.5;\" width=\"50\" x=\"109\" y=\"681\"/><rect fill=\"#F8F8F8\" height=\"10\" style=\"stroke: #F8F8F8; stroke-width: 1.5;\" width=\"50\" x=\"109\" y=\"694.9688\"/><rect fill=\"none\" height=\"40\" id=\"E9\" rx=\"10\" ry=\"10\" style=\"stroke: #383838; stroke-width: 1.5;\" width=\"50\" x=\"109\" y=\"681\"/><text fill=\"#000000\" font-family=\"sans-serif\" font-size=\"12\" lengthAdjust=\"spacingAndGlyphs\" textLength=\"25\" x=\"121.5\" y=\"697.1387\">q: Q</text></a></g><g id=\"E1.E10.E11.E12\"><a href=\"psysml:bdc7bdc2-851d-4524-9d87-06992ba679d3\" target=\"_top\" title=\"psysml:bdc7bdc2-851d-4524-9d87-06992ba679d3\" xlink:actuate=\"onRequest\" xlink:href=\"psysml:bdc7bdc2-851d-4524-9d87-06992ba679d3\" xlink:show=\"new\" xlink:title=\"psysml:bdc7bdc2-851d-4524-9d87-06992ba679d3\" xlink:type=\"simple\"><rect fill=\"#FFFFFF\" height=\"56.9063\" id=\"E12\" rx=\"10\" ry=\"10\" style=\"stroke: #383838; stroke-width: 1.5;\" width=\"76\" x=\"96\" y=\"399.5\"/><rect fill=\"#F8F8F8\" height=\"51.9063\" rx=\"10\" ry=\"10\" style=\"stroke: #F8F8F8; stroke-width: 1.5;\" width=\"76\" x=\"96\" y=\"399.5\"/><rect fill=\"#F8F8F8\" height=\"10\" style=\"stroke: #F8F8F8; stroke-width: 1.5;\" width=\"76\" x=\"96\" y=\"441.4063\"/><rect fill=\"none\" height=\"56.9063\" id=\"E12\" rx=\"10\" ry=\"10\" style=\"stroke: #383838; stroke-width: 1.5;\" width=\"76\" x=\"96\" y=\"399.5\"/><text fill=\"#000000\" font-family=\"sans-serif\" font-size=\"12\" font-style=\"italic\" lengthAdjust=\"spacingAndGlyphs\" textLength=\"69\" x=\"99.5\" y=\"415.6387\">«attribute»</text><text fill=\"#000000\" font-family=\"sans-serif\" font-size=\"12\" lengthAdjust=\"spacingAndGlyphs\" textLength=\"24\" x=\"122\" y=\"429.6074\">b: B</text><text fill=\"#000000\" font-family=\"sans-serif\" font-size=\"12\" font-style=\"italic\" lengthAdjust=\"spacingAndGlyphs\" textLength=\"48\" x=\"108\" y=\"443.5762\">:&gt;&gt;P::a</text><text fill=\"#000000\" font-family=\"sans-serif\" font-size=\"12\" lengthAdjust=\"spacingAndGlyphs\" textLength=\"0\" x=\"160\" y=\"443.5762\"/></a></g><!--MD5=[185131fc0dcab0a4505a2ebe144e961b]\n",
       "link E4 to E2--><a href=\"psysml:0057605f-0b36-40b5-a833-d8040f0d9e74\" target=\"_top\" title=\"psysml:0057605f-0b36-40b5-a833-d8040f0d9e74\" xlink:actuate=\"onRequest\" xlink:href=\"psysml:0057605f-0b36-40b5-a833-d8040f0d9e74\" xlink:show=\"new\" xlink:title=\"psysml:0057605f-0b36-40b5-a833-d8040f0d9e74\" xlink:type=\"simple\"><path d=\"M169.73,616.22 C190.69,610.16 216.95,600.03 236,584 C263.27,561.055 284.2875,527.025 298.6013,498.38 C305.7581,484.0575 311.2391,471.0813 314.9877,461.51 C315.9248,459.1172 316.7537,456.9372 317.4734,455.0022 C317.6533,454.5184 317.8264,454.05 317.9927,453.5973 C318.0343,453.4842 318.0754,453.372 318.1161,453.2608 \" fill=\"none\" id=\"E4-&gt;E2\" style=\"stroke: #383838; stroke-width: 1.0;\"/><polygon fill=\"#FFFFFF\" points=\"318.1161,453.2608,305.0093,468.6949,318.1554,473.5093,318.1161,453.2608\" style=\"stroke: #383838; stroke-width: 1.0;\"/></a><!--MD5=[2351f337d6de0f557b50152ba70847b5]\n",
       "link E6 to E2--><a href=\"psysml:922ee1f9-edf0-4204-bf0f-0435eb6f66de\" target=\"_top\" title=\"psysml:922ee1f9-edf0-4204-bf0f-0435eb6f66de\" xlink:actuate=\"onRequest\" xlink:href=\"psysml:922ee1f9-edf0-4204-bf0f-0435eb6f66de\" xlink:show=\"new\" xlink:title=\"psysml:922ee1f9-edf0-4204-bf0f-0435eb6f66de\" xlink:type=\"simple\"><path d=\"M144.7022,273.0444 C144.8043,273.132 144.907,273.2202 145.0105,273.3091 C145.8377,274.0201 146.7077,274.7731 147.6172,275.5667 C154.8931,281.9153 164.6962,290.8594 175.3475,301.6663 C196.65,323.28 221.345,352.345 236,383 C244.38,400.54 230.66,411.86 244,426 C246.93,429.105 250.2795,431.7366 253.904,433.9638 C255.7163,435.0775 257.5973,436.09 259.5289,437.0101 C259.6496,437.0677 259.7706,437.1248 259.8917,437.1816 \" fill=\"none\" id=\"E6-&gt;E2\" style=\"stroke: #383838; stroke-width: 1.0;\"/><polygon fill=\"#FFFFFF\" points=\"259.8917,437.1816,245.6603,422.7779,239.7171,435.4538,259.8917,437.1816\" style=\"stroke: #383838; stroke-width: 1.0;\"/></a><!--MD5=[39585a6384bcf6810fdd19da4111bb04]\n",
       "@startuml\r\n",
       "skinparam ranksep 8\r\n",
       "skinparam rectangle {\r\n",
       " backgroundColor<<block>> LightGreen\r\n",
       "}\r\n",
       "left to right direction\r\n",
       "skinparam monochrome true\r\n",
       "skinparam classbackgroundcolor white\r\n",
       "skinparam shadowing false\r\n",
       "skinparam wrapWidth 300\r\n",
       "hide circle\r\n",
       "\r\n",
       "package \"VariabilityTest\" as E1  [[psysml:fc405a6c-3061-4540-9673-8b8e766ba6ac ]]  {\r\n",
       "rec def \"P\" as E2  <<(T,blue)part def>> [[psysml:dc902210-e855-46b4-a2dd-8255fef19514 ]] {\r\n",
       "rec usage \"a\" as E3  <<(T,blue)attribute>> [[psysml:6681b89b-422d-48d0-bc41-7a96ec587b7c ]] {\r\n",
       "}\r\n",
       "}\r\n",
       "rec def \"Q\" as E4  <<(T,blue)part def>> [[psysml:b52c8837-30af-42aa-bc51-100eaed5de80 ]] {\r\n",
       "}\r\n",
       "def \"B\" as E5  <<(T,blue)attribute def>> [[psysml:f17815b8-46c4-4dd9-bf70-524ba6c03f24 ]] \r\n",
       "rec def \"V\" as E6  <<(T,blue)part def>> [[psysml:b1ebe526-c40e-4c8f-ae74-16f7fcd1bdc9 ]] {\r\n",
       "rec usage \"x: Q\" as E7  [[psysml:05419eac-6c2b-46e9-bd3b-b31f448a077a ]] {\r\n",
       "rec usage \"b: B\\n//:>>P::a// \" as E8  <<(T,blue)attribute>> [[psysml:ea3366e9-5974-4411-9b27-ac275f4425c1 ]] {\r\n",
       "}\r\n",
       "}\r\n",
       "}\r\n",
       "rec usage \"q: Q\" as E9  [[psysml:bd66bfa4-4cf8-4e62-98d6-c8549fcb8467 ]] {\r\n",
       "}\r\n",
       "rec usage \"v: P\" as E10  <<variation>> [[psysml:d11ba367-2498-4d3b-bf9a-6df5f0bc7068 ]] {\r\n",
       "rec usage \"y\" as E11  [[psysml:72597939-8390-466d-9479-39928477d122 ]] {\r\n",
       "rec usage \"b: B\\n//:>>P::a// \" as E12  <<(T,blue)attribute>> [[psysml:bdc7bdc2-851d-4524-9d87-06992ba679d3 ]] {\r\n",
       "}\r\n",
       "}\r\n",
       "}\r\n",
       "E4 - -|> E2 [[psysml:0057605f-0b36-40b5-a833-d8040f0d9e74 ]] \r\n",
       "E6 - -|> E2 [[psysml:922ee1f9-edf0-4204-bf0f-0435eb6f66de ]] \r\n",
       "}\r\n",
       "@enduml\r\n",
       "\n",
       "PlantUML version 1.2020.13(Sat Jun 13 12:26:38 UTC 2020)\n",
       "(EPL source distribution)\n",
       "Java Runtime: OpenJDK Runtime Environment\n",
       "JVM: OpenJDK 64-Bit Server VM\n",
       "Default Encoding: UTF-8\n",
       "Language: en\n",
       "Country: null\n",
       "--></g></svg>"
      ]
     },
     "execution_count": 19,
     "metadata": {},
     "output_type": "execute_result"
    }
   ],
   "source": [
    "%viz --style=\"LR\" --view=\"Interconnection\" \"VariabilityTest\""
   ]
  },
  {
   "cell_type": "code",
   "execution_count": 20,
   "id": "polished-victorian",
   "metadata": {
    "execution": {
     "iopub.execute_input": "2021-03-25T15:07:41.058956Z",
     "iopub.status.busy": "2021-03-25T15:07:41.058474Z",
     "iopub.status.idle": "2021-03-25T15:07:41.065932Z",
     "shell.execute_reply": "2021-03-25T15:07:41.066348Z"
    }
   },
   "outputs": [
    {
     "data": {
      "image/svg+xml": [
       "<?xml version=\"1.0\" encoding=\"UTF-8\" standalone=\"no\"?><svg xmlns=\"http://www.w3.org/2000/svg\" xmlns:xlink=\"http://www.w3.org/1999/xlink\" contentScriptType=\"application/ecmascript\" contentStyleType=\"text/css\" height=\"12px\" preserveAspectRatio=\"none\" style=\"width:12px;height:12px;\" version=\"1.1\" viewBox=\"0 0 12 12\" width=\"12px\" zoomAndPan=\"magnify\"><defs/><g><!--MD5=[7aeb398939421629f6affaa4a1a7b125]\n",
       "@startuml\r\n",
       "skinparam ranksep 8\r\n",
       "left to right direction\r\n",
       "skinparam monochrome true\r\n",
       "skinparam classbackgroundcolor white\r\n",
       "skinparam shadowing false\r\n",
       "skinparam wrapWidth 300\r\n",
       "hide circle\r\n",
       "\r\n",
       "@enduml\r\n",
       "\n",
       "PlantUML version 1.2020.13(Sat Jun 13 12:26:38 UTC 2020)\n",
       "(EPL source distribution)\n",
       "Java Runtime: OpenJDK Runtime Environment\n",
       "JVM: OpenJDK 64-Bit Server VM\n",
       "Default Encoding: UTF-8\n",
       "Language: en\n",
       "Country: null\n",
       "--></g></svg>"
      ]
     },
     "execution_count": 20,
     "metadata": {},
     "output_type": "execute_result"
    }
   ],
   "source": [
    "%viz --style=\"LR\" --view=\"Action\" \"VariabilityTest\""
   ]
  },
  {
   "cell_type": "code",
   "execution_count": 21,
   "id": "prostate-meaning",
   "metadata": {
    "execution": {
     "iopub.execute_input": "2021-03-25T15:07:41.118012Z",
     "iopub.status.busy": "2021-03-25T15:07:41.117252Z",
     "iopub.status.idle": "2021-03-25T15:07:41.560914Z",
     "shell.execute_reply": "2021-03-25T15:07:41.558346Z"
    }
   },
   "outputs": [
    {
     "data": {
      "image/svg+xml": [
       "<?xml version=\"1.0\" encoding=\"UTF-8\" standalone=\"no\"?><svg xmlns=\"http://www.w3.org/2000/svg\" xmlns:xlink=\"http://www.w3.org/1999/xlink\" contentScriptType=\"application/ecmascript\" contentStyleType=\"text/css\" height=\"391px\" preserveAspectRatio=\"none\" style=\"width:484px;height:391px;\" version=\"1.1\" viewBox=\"0 0 484 391\" width=\"484px\" zoomAndPan=\"magnify\"><defs/><g><!--MD5=[fbc87193dbaf4d95561dea2c320d4a47]\n",
       "cluster E1--><a href=\"psysml:fc405a6c-3061-4540-9673-8b8e766ba6ac\" target=\"_top\" title=\"psysml:fc405a6c-3061-4540-9673-8b8e766ba6ac\" xlink:actuate=\"onRequest\" xlink:href=\"psysml:fc405a6c-3061-4540-9673-8b8e766ba6ac\" xlink:show=\"new\" xlink:title=\"psysml:fc405a6c-3061-4540-9673-8b8e766ba6ac\" xlink:type=\"simple\"><polygon fill=\"#FFFFFF\" points=\"16,6,134,6,141,28.2969,462,28.2969,462,379,16,379,16,6\" style=\"stroke: #000000; stroke-width: 1.5;\"/><line style=\"stroke: #000000; stroke-width: 1.5;\" x1=\"16\" x2=\"141\" y1=\"28.2969\" y2=\"28.2969\"/><text fill=\"#000000\" font-family=\"sans-serif\" font-size=\"14\" font-weight=\"bold\" lengthAdjust=\"spacingAndGlyphs\" textLength=\"112\" x=\"20\" y=\"20.9951\">VariabilityTest</text></a><!--MD5=[b4997ac47864f28c2f74865a473b2911]\n",
       "class E2--><a href=\"psysml:dc902210-e855-46b4-a2dd-8255fef19514\" target=\"_top\" title=\"psysml:dc902210-e855-46b4-a2dd-8255fef19514\" xlink:actuate=\"onRequest\" xlink:href=\"psysml:dc902210-e855-46b4-a2dd-8255fef19514\" xlink:show=\"new\" xlink:title=\"psysml:dc902210-e855-46b4-a2dd-8255fef19514\" xlink:type=\"simple\"><rect fill=\"#FFFFFF\" height=\"75.5469\" id=\"E2\" style=\"stroke: #383838; stroke-width: 1.5;\" width=\"66\" x=\"380\" y=\"164\"/><text fill=\"#000000\" font-family=\"sans-serif\" font-size=\"12\" font-style=\"italic\" lengthAdjust=\"spacingAndGlyphs\" textLength=\"64\" x=\"381\" y=\"180.1387\">«part def»</text><text fill=\"#000000\" font-family=\"sans-serif\" font-size=\"12\" lengthAdjust=\"spacingAndGlyphs\" textLength=\"8\" x=\"409\" y=\"194.1074\">P</text><line style=\"stroke: #383838; stroke-width: 1.5;\" x1=\"381\" x2=\"445\" y1=\"201.9375\" y2=\"201.9375\"/><text fill=\"#000000\" font-family=\"sans-serif\" font-size=\"11\" lengthAdjust=\"spacingAndGlyphs\" textLength=\"7\" x=\"386\" y=\"232.9526\">a</text><line style=\"stroke: #383838; stroke-width: 1.0;\" x1=\"381\" x2=\"385.5\" y1=\"216.3398\" y2=\"216.3398\"/><text fill=\"#000000\" font-family=\"sans-serif\" font-size=\"11\" lengthAdjust=\"spacingAndGlyphs\" textLength=\"55\" x=\"385.5\" y=\"219.6479\">attributes</text><line style=\"stroke: #383838; stroke-width: 1.0;\" x1=\"440.5\" x2=\"445\" y1=\"216.3398\" y2=\"216.3398\"/></a><!--MD5=[09b614a08d8cba4a07c9adeb5e0fee81]\n",
       "class E3--><a href=\"psysml:b52c8837-30af-42aa-bc51-100eaed5de80\" target=\"_top\" title=\"psysml:b52c8837-30af-42aa-bc51-100eaed5de80\" xlink:actuate=\"onRequest\" xlink:href=\"psysml:b52c8837-30af-42aa-bc51-100eaed5de80\" xlink:show=\"new\" xlink:title=\"psysml:b52c8837-30af-42aa-bc51-100eaed5de80\" xlink:type=\"simple\"><rect fill=\"#FFFFFF\" height=\"45.9375\" id=\"E3\" style=\"stroke: #383838; stroke-width: 1.5;\" width=\"66\" x=\"190\" y=\"179\"/><text fill=\"#000000\" font-family=\"sans-serif\" font-size=\"12\" font-style=\"italic\" lengthAdjust=\"spacingAndGlyphs\" textLength=\"64\" x=\"191\" y=\"195.1387\">«part def»</text><text fill=\"#000000\" font-family=\"sans-serif\" font-size=\"12\" lengthAdjust=\"spacingAndGlyphs\" textLength=\"9\" x=\"218.5\" y=\"209.1074\">Q</text><line style=\"stroke: #383838; stroke-width: 1.5;\" x1=\"191\" x2=\"255\" y1=\"216.9375\" y2=\"216.9375\"/></a><!--MD5=[ebbe1d658d1005bcc118a6aa81145e00]\n",
       "class E4--><a href=\"psysml:f17815b8-46c4-4dd9-bf70-524ba6c03f24\" target=\"_top\" title=\"psysml:f17815b8-46c4-4dd9-bf70-524ba6c03f24\" xlink:actuate=\"onRequest\" xlink:href=\"psysml:f17815b8-46c4-4dd9-bf70-524ba6c03f24\" xlink:show=\"new\" xlink:title=\"psysml:f17815b8-46c4-4dd9-bf70-524ba6c03f24\" xlink:type=\"simple\"><rect fill=\"#FFFFFF\" height=\"45.9375\" id=\"E4\" style=\"stroke: #383838; stroke-width: 1.5;\" width=\"95\" x=\"32\" y=\"70\"/><text fill=\"#000000\" font-family=\"sans-serif\" font-size=\"12\" font-style=\"italic\" lengthAdjust=\"spacingAndGlyphs\" textLength=\"93\" x=\"33\" y=\"86.1387\">«attribute def»</text><text fill=\"#000000\" font-family=\"sans-serif\" font-size=\"12\" lengthAdjust=\"spacingAndGlyphs\" textLength=\"8\" x=\"75.5\" y=\"100.1074\">B</text><line style=\"stroke: #383838; stroke-width: 1.5;\" x1=\"33\" x2=\"126\" y1=\"107.9375\" y2=\"107.9375\"/></a><!--MD5=[270fce915f116d4de14055a7c1d9a0f3]\n",
       "class E5--><a href=\"psysml:b1ebe526-c40e-4c8f-ae74-16f7fcd1bdc9\" target=\"_top\" title=\"psysml:b1ebe526-c40e-4c8f-ae74-16f7fcd1bdc9\" xlink:actuate=\"onRequest\" xlink:href=\"psysml:b1ebe526-c40e-4c8f-ae74-16f7fcd1bdc9\" xlink:show=\"new\" xlink:title=\"psysml:b1ebe526-c40e-4c8f-ae74-16f7fcd1bdc9\" xlink:type=\"simple\"><rect fill=\"#FFFFFF\" height=\"45.9375\" id=\"E5\" style=\"stroke: #383838; stroke-width: 1.5;\" width=\"66\" x=\"190\" y=\"80\"/><text fill=\"#000000\" font-family=\"sans-serif\" font-size=\"12\" font-style=\"italic\" lengthAdjust=\"spacingAndGlyphs\" textLength=\"64\" x=\"191\" y=\"96.1387\">«part def»</text><text fill=\"#000000\" font-family=\"sans-serif\" font-size=\"12\" lengthAdjust=\"spacingAndGlyphs\" textLength=\"8\" x=\"219\" y=\"110.1074\">V</text><line style=\"stroke: #383838; stroke-width: 1.5;\" x1=\"191\" x2=\"255\" y1=\"117.9375\" y2=\"117.9375\"/></a><!--MD5=[60a26617385b1d2d0262a64233df1f8d]\n",
       "class E6--><a href=\"psysml:05419eac-6c2b-46e9-bd3b-b31f448a077a\" target=\"_top\" title=\"psysml:05419eac-6c2b-46e9-bd3b-b31f448a077a\" xlink:actuate=\"onRequest\" xlink:href=\"psysml:05419eac-6c2b-46e9-bd3b-b31f448a077a\" xlink:show=\"new\" xlink:title=\"psysml:05419eac-6c2b-46e9-bd3b-b31f448a077a\" xlink:type=\"simple\"><rect fill=\"#FFFFFF\" height=\"88.3516\" id=\"E6\" rx=\"10\" ry=\"10\" style=\"stroke: #383838; stroke-width: 1.5;\" width=\"63\" x=\"381.5\" y=\"41\"/><text fill=\"#000000\" font-family=\"sans-serif\" font-size=\"12\" font-style=\"italic\" lengthAdjust=\"spacingAndGlyphs\" textLength=\"40\" x=\"393\" y=\"57.1387\">«part»</text><text fill=\"#000000\" font-family=\"sans-serif\" font-size=\"12\" lengthAdjust=\"spacingAndGlyphs\" textLength=\"23\" x=\"401.5\" y=\"71.1074\">x: Q</text><line style=\"stroke: #383838; stroke-width: 1.5;\" x1=\"382.5\" x2=\"443.5\" y1=\"78.9375\" y2=\"78.9375\"/><text fill=\"#000000\" font-family=\"sans-serif\" font-size=\"11\" lengthAdjust=\"spacingAndGlyphs\" textLength=\"23\" x=\"387.5\" y=\"109.9526\">b: B</text><text fill=\"#000000\" font-family=\"sans-serif\" font-size=\"11\" font-style=\"italic\" lengthAdjust=\"spacingAndGlyphs\" textLength=\"44\" x=\"387.5\" y=\"122.7573\">:&gt;&gt;P::a</text><line style=\"stroke: #383838; stroke-width: 1.0;\" x1=\"382.5\" x2=\"385.5\" y1=\"93.3398\" y2=\"93.3398\"/><text fill=\"#000000\" font-family=\"sans-serif\" font-size=\"11\" lengthAdjust=\"spacingAndGlyphs\" textLength=\"55\" x=\"385.5\" y=\"96.6479\">attributes</text><line style=\"stroke: #383838; stroke-width: 1.0;\" x1=\"440.5\" x2=\"443.5\" y1=\"93.3398\" y2=\"93.3398\"/></a><!--MD5=[2156ba9850f5573cc1fc38a6a4b2f02b]\n",
       "class E7--><a href=\"psysml:bd66bfa4-4cf8-4e62-98d6-c8549fcb8467\" target=\"_top\" title=\"psysml:bd66bfa4-4cf8-4e62-98d6-c8549fcb8467\" xlink:actuate=\"onRequest\" xlink:href=\"psysml:bd66bfa4-4cf8-4e62-98d6-c8549fcb8467\" xlink:show=\"new\" xlink:title=\"psysml:bd66bfa4-4cf8-4e62-98d6-c8549fcb8467\" xlink:type=\"simple\"><rect fill=\"#FFFFFF\" height=\"45.9375\" id=\"E7\" rx=\"10\" ry=\"10\" style=\"stroke: #383838; stroke-width: 1.5;\" width=\"42\" x=\"58.5\" y=\"179\"/><text fill=\"#000000\" font-family=\"sans-serif\" font-size=\"12\" font-style=\"italic\" lengthAdjust=\"spacingAndGlyphs\" textLength=\"40\" x=\"59.5\" y=\"195.1387\">«part»</text><text fill=\"#000000\" font-family=\"sans-serif\" font-size=\"12\" lengthAdjust=\"spacingAndGlyphs\" textLength=\"25\" x=\"67\" y=\"209.1074\">q: Q</text><line style=\"stroke: #383838; stroke-width: 1.5;\" x1=\"59.5\" x2=\"99.5\" y1=\"216.9375\" y2=\"216.9375\"/></a><!--MD5=[b9389687b975829384b498ac4b7476b2]\n",
       "class E8--><a href=\"psysml:d11ba367-2498-4d3b-bf9a-6df5f0bc7068\" target=\"_top\" title=\"psysml:d11ba367-2498-4d3b-bf9a-6df5f0bc7068\" xlink:actuate=\"onRequest\" xlink:href=\"psysml:d11ba367-2498-4d3b-bf9a-6df5f0bc7068\" xlink:show=\"new\" xlink:title=\"psysml:d11ba367-2498-4d3b-bf9a-6df5f0bc7068\" xlink:type=\"simple\"><rect fill=\"#FFFFFF\" height=\"59.9063\" id=\"E8\" rx=\"10\" ry=\"10\" style=\"stroke: #383838; stroke-width: 1.5;\" width=\"70\" x=\"188\" y=\"268\"/><text fill=\"#000000\" font-family=\"sans-serif\" font-size=\"12\" font-style=\"italic\" lengthAdjust=\"spacingAndGlyphs\" textLength=\"68\" x=\"189\" y=\"284.1387\">«variation»</text><text fill=\"#000000\" font-family=\"sans-serif\" font-size=\"12\" font-style=\"italic\" lengthAdjust=\"spacingAndGlyphs\" textLength=\"40\" x=\"203\" y=\"298.1074\">«part»</text><text fill=\"#000000\" font-family=\"sans-serif\" font-size=\"12\" lengthAdjust=\"spacingAndGlyphs\" textLength=\"22\" x=\"212\" y=\"312.0762\">v: P</text><line style=\"stroke: #383838; stroke-width: 1.5;\" x1=\"189\" x2=\"257\" y1=\"319.9063\" y2=\"319.9063\"/></a><!--MD5=[fd4143e9d270a159db93a4ea2a975926]\n",
       "class E9--><a href=\"psysml:72597939-8390-466d-9479-39928477d122\" target=\"_top\" title=\"psysml:72597939-8390-466d-9479-39928477d122\" xlink:actuate=\"onRequest\" xlink:href=\"psysml:72597939-8390-466d-9479-39928477d122\" xlink:show=\"new\" xlink:title=\"psysml:72597939-8390-466d-9479-39928477d122\" xlink:type=\"simple\"><rect fill=\"#FFFFFF\" height=\"88.3516\" id=\"E9\" rx=\"10\" ry=\"10\" style=\"stroke: #383838; stroke-width: 1.5;\" width=\"63\" x=\"381.5\" y=\"275\"/><text fill=\"#000000\" font-family=\"sans-serif\" font-size=\"12\" font-style=\"italic\" lengthAdjust=\"spacingAndGlyphs\" textLength=\"40\" x=\"393\" y=\"291.1387\">«part»</text><text fill=\"#000000\" font-family=\"sans-serif\" font-size=\"12\" lengthAdjust=\"spacingAndGlyphs\" textLength=\"6\" x=\"410\" y=\"305.1074\">y</text><line style=\"stroke: #383838; stroke-width: 1.5;\" x1=\"382.5\" x2=\"443.5\" y1=\"312.9375\" y2=\"312.9375\"/><text fill=\"#000000\" font-family=\"sans-serif\" font-size=\"11\" lengthAdjust=\"spacingAndGlyphs\" textLength=\"23\" x=\"387.5\" y=\"343.9526\">b: B</text><text fill=\"#000000\" font-family=\"sans-serif\" font-size=\"11\" font-style=\"italic\" lengthAdjust=\"spacingAndGlyphs\" textLength=\"44\" x=\"387.5\" y=\"356.7573\">:&gt;&gt;P::a</text><line style=\"stroke: #383838; stroke-width: 1.0;\" x1=\"382.5\" x2=\"385.5\" y1=\"327.3398\" y2=\"327.3398\"/><text fill=\"#000000\" font-family=\"sans-serif\" font-size=\"11\" lengthAdjust=\"spacingAndGlyphs\" textLength=\"55\" x=\"385.5\" y=\"330.6479\">attributes</text><line style=\"stroke: #383838; stroke-width: 1.0;\" x1=\"440.5\" x2=\"443.5\" y1=\"327.3398\" y2=\"327.3398\"/></a><!--MD5=[05d275557350bfb9b23a4ef7222b4c39]\n",
       "link E3 to E2--><a href=\"psysml:0057605f-0b36-40b5-a833-d8040f0d9e74\" target=\"_top\" title=\"psysml:0057605f-0b36-40b5-a833-d8040f0d9e74\" xlink:actuate=\"onRequest\" xlink:href=\"psysml:0057605f-0b36-40b5-a833-d8040f0d9e74\" xlink:show=\"new\" xlink:title=\"psysml:0057605f-0b36-40b5-a833-d8040f0d9e74\" xlink:type=\"simple\"><path d=\"M256.32,202 C284.65,202 326.37,202 359.49,202 \" fill=\"none\" id=\"E3-&gt;E2\" style=\"stroke: #383838; stroke-width: 1.0;\"/><polygon fill=\"none\" points=\"359.79,195,379.79,202,359.79,209,359.79,195\" style=\"stroke: #383838; stroke-width: 1.0;\"/></a><!--MD5=[15ebcb19ae302d9b601edb458606d402]\n",
       "link E5 to E2--><a href=\"psysml:922ee1f9-edf0-4204-bf0f-0435eb6f66de\" target=\"_top\" title=\"psysml:922ee1f9-edf0-4204-bf0f-0435eb6f66de\" xlink:actuate=\"onRequest\" xlink:href=\"psysml:922ee1f9-edf0-4204-bf0f-0435eb6f66de\" xlink:show=\"new\" xlink:title=\"psysml:922ee1f9-edf0-4204-bf0f-0435eb6f66de\" xlink:type=\"simple\"><path d=\"M256.32,120.02 C285.33,135.29 328.37,157.96 361.84,175.59 \" fill=\"none\" id=\"E5-&gt;E2\" style=\"stroke: #383838; stroke-width: 1.0;\"/><polygon fill=\"none\" points=\"365.35,169.53,379.79,185.04,358.83,181.91,365.35,169.53\" style=\"stroke: #383838; stroke-width: 1.0;\"/></a><!--MD5=[9120cf2e5df3bff93db8f754bbbc09b4]\n",
       "link E5 to E6--><a href=\"psysml:1c0ef759-8c31-4a4a-b0e7-e872c2806a04\" target=\"_top\" title=\"psysml:1c0ef759-8c31-4a4a-b0e7-e872c2806a04\" xlink:actuate=\"onRequest\" xlink:href=\"psysml:1c0ef759-8c31-4a4a-b0e7-e872c2806a04\" xlink:show=\"new\" xlink:title=\"psysml:1c0ef759-8c31-4a4a-b0e7-e872c2806a04\" xlink:type=\"simple\"><path d=\"M266.69,98.91 C298.07,95.91 340.45,91.85 371.34,88.89 \" fill=\"none\" id=\"E5-E6\" style=\"stroke: #383838; stroke-width: 1.0;\"/><polygon fill=\"#383838\" points=\"381.35,87.93,373.0997,85.7092,373.6738,91.6817,381.35,87.93\" style=\"stroke: #383838; stroke-width: 1.0;\"/><path d=\"M260.1933,108.0339 A9,9 0 0 0 258.5748 91.197\" fill=\"none\" style=\"stroke: #383838; stroke-width: 1.5;\"/><text fill=\"#000000\" font-family=\"sans-serif\" font-size=\"13\" lengthAdjust=\"spacingAndGlyphs\" textLength=\"60\" x=\"289\" y=\"88.0669\">«variant»</text></a><!--MD5=[14ccda38c055a5c0da953d572bc50960]\n",
       "link E7 to E3--><a href=\"psysml:6aa04dcc-8d2e-4853-a2ca-5b94913b0044\" target=\"_top\" title=\"psysml:6aa04dcc-8d2e-4853-a2ca-5b94913b0044\" xlink:actuate=\"onRequest\" xlink:href=\"psysml:6aa04dcc-8d2e-4853-a2ca-5b94913b0044\" xlink:show=\"new\" xlink:title=\"psysml:6aa04dcc-8d2e-4853-a2ca-5b94913b0044\" xlink:type=\"simple\"><path d=\"M100.77,202 C118.65,202 145.5,202 169.39,202 \" fill=\"none\" id=\"E7-&gt;E3\" style=\"stroke: #383838; stroke-width: 1.0;\"/><polygon fill=\"#FFFFFF\" points=\"189.74,202,170.74,209,170.74,195,189.74,202\" style=\"stroke: #383838; stroke-width: 1.0;\"/><ellipse cx=\"165.04\" cy=\"207\" fill=\"#383838\" rx=\"2\" ry=\"2\" style=\"stroke: #383838; stroke-width: 1.0;\"/><ellipse cx=\"165.04\" cy=\"197\" fill=\"#383838\" rx=\"2\" ry=\"2\" style=\"stroke: #383838; stroke-width: 1.0;\"/></a><!--MD5=[f1f3f9f2fc535e6147756cb86a7f2e32]\n",
       "link E8 to E2--><a href=\"psysml:62998d3a-e41b-4231-af2c-a0f2b465e4e7\" target=\"_top\" title=\"psysml:62998d3a-e41b-4231-af2c-a0f2b465e4e7\" xlink:actuate=\"onRequest\" xlink:href=\"psysml:62998d3a-e41b-4231-af2c-a0f2b465e4e7\" xlink:show=\"new\" xlink:title=\"psysml:62998d3a-e41b-4231-af2c-a0f2b465e4e7\" xlink:type=\"simple\"><path d=\"M258.05,280.62 C286.97,265.85 328.89,244.44 361.69,227.69 \" fill=\"none\" id=\"E8-&gt;E2\" style=\"stroke: #383838; stroke-width: 1.0;\"/><polygon fill=\"#FFFFFF\" points=\"379.78,218.45,366.049,233.3315,359.6762,220.8661,379.78,218.45\" style=\"stroke: #383838; stroke-width: 1.0;\"/><ellipse cx=\"360.0634\" cy=\"234.1454\" fill=\"#383838\" rx=\"2\" ry=\"2\" style=\"stroke: #383838; stroke-width: 1.0;\"/><ellipse cx=\"355.5114\" cy=\"225.2415\" fill=\"#383838\" rx=\"2\" ry=\"2\" style=\"stroke: #383838; stroke-width: 1.0;\"/></a><!--MD5=[ed10624c06dd9a4fa49ccf290e8b16a8]\n",
       "link E8 to E9--><a href=\"psysml:196bced0-9581-41ba-9556-fc72f0b07990\" target=\"_top\" title=\"psysml:196bced0-9581-41ba-9556-fc72f0b07990\" xlink:actuate=\"onRequest\" xlink:href=\"psysml:196bced0-9581-41ba-9556-fc72f0b07990\" xlink:show=\"new\" xlink:title=\"psysml:196bced0-9581-41ba-9556-fc72f0b07990\" xlink:type=\"simple\"><path d=\"M268.4,302.96 C299.51,306.43 340.78,311.04 371.09,314.43 \" fill=\"none\" id=\"E8-E9\" style=\"stroke: #383838; stroke-width: 1.0;\"/><polygon fill=\"#383838\" points=\"381.32,315.57,373.7039,311.6977,373.0357,317.6604,381.32,315.57\" style=\"stroke: #383838; stroke-width: 1.0;\"/><path d=\"M260.1795,310.5444 A9,9 0 0 0 262.0395 293.7325\" fill=\"none\" style=\"stroke: #383838; stroke-width: 1.5;\"/><text fill=\"#000000\" font-family=\"sans-serif\" font-size=\"13\" lengthAdjust=\"spacingAndGlyphs\" textLength=\"60\" x=\"289\" y=\"302.0669\">«variant»</text></a><!--MD5=[ecb1f2b9092cd1a39b52a7707b787fcf]\n",
       "@startuml\r\n",
       "left to right direction\r\n",
       "skinparam monochrome true\r\n",
       "skinparam classbackgroundcolor white\r\n",
       "skinparam shadowing false\r\n",
       "skinparam wrapWidth 300\r\n",
       "hide circle\r\n",
       "\r\n",
       "package \"VariabilityTest\" as E1  [[psysml:fc405a6c-3061-4540-9673-8b8e766ba6ac ]]  {\r\n",
       "comp def \"P\" as E2  <<(T,blue)part def>> [[psysml:dc902210-e855-46b4-a2dd-8255fef19514 ]] {\r\n",
       "- - attributes - -\r\n",
       "a\r\n",
       "}\r\n",
       "comp def \"Q\" as E3  <<(T,blue)part def>> [[psysml:b52c8837-30af-42aa-bc51-100eaed5de80 ]] {\r\n",
       "}\r\n",
       "comp def \"B\" as E4  <<(T,blue)attribute def>> [[psysml:f17815b8-46c4-4dd9-bf70-524ba6c03f24 ]] {\r\n",
       "}\r\n",
       "comp def \"V\" as E5  <<(T,blue)part def>> [[psysml:b1ebe526-c40e-4c8f-ae74-16f7fcd1bdc9 ]] {\r\n",
       "}\r\n",
       "comp usage \"x: Q\" as E6  <<(T,blue)part>> [[psysml:05419eac-6c2b-46e9-bd3b-b31f448a077a ]] {\r\n",
       "- - attributes - -\r\n",
       "b: B\\n//:>>P::a// \r\n",
       "}\r\n",
       "comp usage \"q: Q\" as E7  <<(T,blue)part>> [[psysml:bd66bfa4-4cf8-4e62-98d6-c8549fcb8467 ]] {\r\n",
       "}\r\n",
       "comp usage \"v: P\" as E8  <<variation>>\\n <<(T,blue)part>> [[psysml:d11ba367-2498-4d3b-bf9a-6df5f0bc7068 ]] {\r\n",
       "}\r\n",
       "comp usage \"y\" as E9  <<(T,blue)part>> [[psysml:72597939-8390-466d-9479-39928477d122 ]] {\r\n",
       "- - attributes - -\r\n",
       "b: B\\n//:>>P::a// \r\n",
       "}\r\n",
       "E3 - -|> E2 [[psysml:0057605f-0b36-40b5-a833-d8040f0d9e74 ]] \r\n",
       "E5 - -|> E2 [[psysml:922ee1f9-edf0-4204-bf0f-0435eb6f66de ]] \r\n",
       "E5 )- ->> E6 [[psysml:1c0ef759-8c31-4a4a-b0e7-e872c2806a04 ]] : <<variant>>\r\n",
       "E7 - -:|> E3 [[psysml:6aa04dcc-8d2e-4853-a2ca-5b94913b0044 ]] \r\n",
       "E8 - -:|> E2 [[psysml:62998d3a-e41b-4231-af2c-a0f2b465e4e7 ]] \r\n",
       "E8 )- ->> E9 [[psysml:196bced0-9581-41ba-9556-fc72f0b07990 ]] : <<variant>>\r\n",
       "}\r\n",
       "@enduml\r\n",
       "\n",
       "PlantUML version 1.2020.13(Sat Jun 13 12:26:38 UTC 2020)\n",
       "(EPL source distribution)\n",
       "Java Runtime: OpenJDK Runtime Environment\n",
       "JVM: OpenJDK 64-Bit Server VM\n",
       "Default Encoding: UTF-8\n",
       "Language: en\n",
       "Country: null\n",
       "--></g></svg>"
      ]
     },
     "execution_count": 21,
     "metadata": {},
     "output_type": "execute_result"
    }
   ],
   "source": [
    "%viz --style=\"LR\" --view=\"Sequence\" \"VariabilityTest\""
   ]
  },
  {
   "cell_type": "code",
   "execution_count": 22,
   "id": "regional-knock",
   "metadata": {
    "execution": {
     "iopub.execute_input": "2021-03-25T15:07:41.611979Z",
     "iopub.status.busy": "2021-03-25T15:07:41.611098Z",
     "iopub.status.idle": "2021-03-25T15:07:42.076724Z",
     "shell.execute_reply": "2021-03-25T15:07:42.077131Z"
    }
   },
   "outputs": [
    {
     "data": {
      "image/svg+xml": [
       "<?xml version=\"1.0\" encoding=\"UTF-8\" standalone=\"no\"?><svg xmlns=\"http://www.w3.org/2000/svg\" xmlns:xlink=\"http://www.w3.org/1999/xlink\" contentScriptType=\"application/ecmascript\" contentStyleType=\"text/css\" height=\"391px\" preserveAspectRatio=\"none\" style=\"width:484px;height:391px;\" version=\"1.1\" viewBox=\"0 0 484 391\" width=\"484px\" zoomAndPan=\"magnify\"><defs/><g><!--MD5=[fbc87193dbaf4d95561dea2c320d4a47]\n",
       "cluster E1--><a href=\"psysml:fc405a6c-3061-4540-9673-8b8e766ba6ac\" target=\"_top\" title=\"psysml:fc405a6c-3061-4540-9673-8b8e766ba6ac\" xlink:actuate=\"onRequest\" xlink:href=\"psysml:fc405a6c-3061-4540-9673-8b8e766ba6ac\" xlink:show=\"new\" xlink:title=\"psysml:fc405a6c-3061-4540-9673-8b8e766ba6ac\" xlink:type=\"simple\"><polygon fill=\"#FFFFFF\" points=\"16,6,134,6,141,28.2969,462,28.2969,462,379,16,379,16,6\" style=\"stroke: #000000; stroke-width: 1.5;\"/><line style=\"stroke: #000000; stroke-width: 1.5;\" x1=\"16\" x2=\"141\" y1=\"28.2969\" y2=\"28.2969\"/><text fill=\"#000000\" font-family=\"sans-serif\" font-size=\"14\" font-weight=\"bold\" lengthAdjust=\"spacingAndGlyphs\" textLength=\"112\" x=\"20\" y=\"20.9951\">VariabilityTest</text></a><!--MD5=[b4997ac47864f28c2f74865a473b2911]\n",
       "class E2--><a href=\"psysml:dc902210-e855-46b4-a2dd-8255fef19514\" target=\"_top\" title=\"psysml:dc902210-e855-46b4-a2dd-8255fef19514\" xlink:actuate=\"onRequest\" xlink:href=\"psysml:dc902210-e855-46b4-a2dd-8255fef19514\" xlink:show=\"new\" xlink:title=\"psysml:dc902210-e855-46b4-a2dd-8255fef19514\" xlink:type=\"simple\"><rect fill=\"#FFFFFF\" height=\"75.5469\" id=\"E2\" style=\"stroke: #383838; stroke-width: 1.5;\" width=\"66\" x=\"380\" y=\"164\"/><text fill=\"#000000\" font-family=\"sans-serif\" font-size=\"12\" font-style=\"italic\" lengthAdjust=\"spacingAndGlyphs\" textLength=\"64\" x=\"381\" y=\"180.1387\">«part def»</text><text fill=\"#000000\" font-family=\"sans-serif\" font-size=\"12\" lengthAdjust=\"spacingAndGlyphs\" textLength=\"8\" x=\"409\" y=\"194.1074\">P</text><line style=\"stroke: #383838; stroke-width: 1.5;\" x1=\"381\" x2=\"445\" y1=\"201.9375\" y2=\"201.9375\"/><text fill=\"#000000\" font-family=\"sans-serif\" font-size=\"11\" lengthAdjust=\"spacingAndGlyphs\" textLength=\"7\" x=\"386\" y=\"232.9526\">a</text><line style=\"stroke: #383838; stroke-width: 1.0;\" x1=\"381\" x2=\"385.5\" y1=\"216.3398\" y2=\"216.3398\"/><text fill=\"#000000\" font-family=\"sans-serif\" font-size=\"11\" lengthAdjust=\"spacingAndGlyphs\" textLength=\"55\" x=\"385.5\" y=\"219.6479\">attributes</text><line style=\"stroke: #383838; stroke-width: 1.0;\" x1=\"440.5\" x2=\"445\" y1=\"216.3398\" y2=\"216.3398\"/></a><!--MD5=[09b614a08d8cba4a07c9adeb5e0fee81]\n",
       "class E3--><a href=\"psysml:b52c8837-30af-42aa-bc51-100eaed5de80\" target=\"_top\" title=\"psysml:b52c8837-30af-42aa-bc51-100eaed5de80\" xlink:actuate=\"onRequest\" xlink:href=\"psysml:b52c8837-30af-42aa-bc51-100eaed5de80\" xlink:show=\"new\" xlink:title=\"psysml:b52c8837-30af-42aa-bc51-100eaed5de80\" xlink:type=\"simple\"><rect fill=\"#FFFFFF\" height=\"45.9375\" id=\"E3\" style=\"stroke: #383838; stroke-width: 1.5;\" width=\"66\" x=\"190\" y=\"179\"/><text fill=\"#000000\" font-family=\"sans-serif\" font-size=\"12\" font-style=\"italic\" lengthAdjust=\"spacingAndGlyphs\" textLength=\"64\" x=\"191\" y=\"195.1387\">«part def»</text><text fill=\"#000000\" font-family=\"sans-serif\" font-size=\"12\" lengthAdjust=\"spacingAndGlyphs\" textLength=\"9\" x=\"218.5\" y=\"209.1074\">Q</text><line style=\"stroke: #383838; stroke-width: 1.5;\" x1=\"191\" x2=\"255\" y1=\"216.9375\" y2=\"216.9375\"/></a><!--MD5=[ebbe1d658d1005bcc118a6aa81145e00]\n",
       "class E4--><a href=\"psysml:f17815b8-46c4-4dd9-bf70-524ba6c03f24\" target=\"_top\" title=\"psysml:f17815b8-46c4-4dd9-bf70-524ba6c03f24\" xlink:actuate=\"onRequest\" xlink:href=\"psysml:f17815b8-46c4-4dd9-bf70-524ba6c03f24\" xlink:show=\"new\" xlink:title=\"psysml:f17815b8-46c4-4dd9-bf70-524ba6c03f24\" xlink:type=\"simple\"><rect fill=\"#FFFFFF\" height=\"45.9375\" id=\"E4\" style=\"stroke: #383838; stroke-width: 1.5;\" width=\"95\" x=\"32\" y=\"70\"/><text fill=\"#000000\" font-family=\"sans-serif\" font-size=\"12\" font-style=\"italic\" lengthAdjust=\"spacingAndGlyphs\" textLength=\"93\" x=\"33\" y=\"86.1387\">«attribute def»</text><text fill=\"#000000\" font-family=\"sans-serif\" font-size=\"12\" lengthAdjust=\"spacingAndGlyphs\" textLength=\"8\" x=\"75.5\" y=\"100.1074\">B</text><line style=\"stroke: #383838; stroke-width: 1.5;\" x1=\"33\" x2=\"126\" y1=\"107.9375\" y2=\"107.9375\"/></a><!--MD5=[270fce915f116d4de14055a7c1d9a0f3]\n",
       "class E5--><a href=\"psysml:b1ebe526-c40e-4c8f-ae74-16f7fcd1bdc9\" target=\"_top\" title=\"psysml:b1ebe526-c40e-4c8f-ae74-16f7fcd1bdc9\" xlink:actuate=\"onRequest\" xlink:href=\"psysml:b1ebe526-c40e-4c8f-ae74-16f7fcd1bdc9\" xlink:show=\"new\" xlink:title=\"psysml:b1ebe526-c40e-4c8f-ae74-16f7fcd1bdc9\" xlink:type=\"simple\"><rect fill=\"#FFFFFF\" height=\"45.9375\" id=\"E5\" style=\"stroke: #383838; stroke-width: 1.5;\" width=\"66\" x=\"190\" y=\"80\"/><text fill=\"#000000\" font-family=\"sans-serif\" font-size=\"12\" font-style=\"italic\" lengthAdjust=\"spacingAndGlyphs\" textLength=\"64\" x=\"191\" y=\"96.1387\">«part def»</text><text fill=\"#000000\" font-family=\"sans-serif\" font-size=\"12\" lengthAdjust=\"spacingAndGlyphs\" textLength=\"8\" x=\"219\" y=\"110.1074\">V</text><line style=\"stroke: #383838; stroke-width: 1.5;\" x1=\"191\" x2=\"255\" y1=\"117.9375\" y2=\"117.9375\"/></a><!--MD5=[60a26617385b1d2d0262a64233df1f8d]\n",
       "class E6--><a href=\"psysml:05419eac-6c2b-46e9-bd3b-b31f448a077a\" target=\"_top\" title=\"psysml:05419eac-6c2b-46e9-bd3b-b31f448a077a\" xlink:actuate=\"onRequest\" xlink:href=\"psysml:05419eac-6c2b-46e9-bd3b-b31f448a077a\" xlink:show=\"new\" xlink:title=\"psysml:05419eac-6c2b-46e9-bd3b-b31f448a077a\" xlink:type=\"simple\"><rect fill=\"#FFFFFF\" height=\"88.3516\" id=\"E6\" rx=\"10\" ry=\"10\" style=\"stroke: #383838; stroke-width: 1.5;\" width=\"63\" x=\"381.5\" y=\"41\"/><text fill=\"#000000\" font-family=\"sans-serif\" font-size=\"12\" font-style=\"italic\" lengthAdjust=\"spacingAndGlyphs\" textLength=\"40\" x=\"393\" y=\"57.1387\">«part»</text><text fill=\"#000000\" font-family=\"sans-serif\" font-size=\"12\" lengthAdjust=\"spacingAndGlyphs\" textLength=\"23\" x=\"401.5\" y=\"71.1074\">x: Q</text><line style=\"stroke: #383838; stroke-width: 1.5;\" x1=\"382.5\" x2=\"443.5\" y1=\"78.9375\" y2=\"78.9375\"/><text fill=\"#000000\" font-family=\"sans-serif\" font-size=\"11\" lengthAdjust=\"spacingAndGlyphs\" textLength=\"23\" x=\"387.5\" y=\"109.9526\">b: B</text><text fill=\"#000000\" font-family=\"sans-serif\" font-size=\"11\" font-style=\"italic\" lengthAdjust=\"spacingAndGlyphs\" textLength=\"44\" x=\"387.5\" y=\"122.7573\">:&gt;&gt;P::a</text><line style=\"stroke: #383838; stroke-width: 1.0;\" x1=\"382.5\" x2=\"385.5\" y1=\"93.3398\" y2=\"93.3398\"/><text fill=\"#000000\" font-family=\"sans-serif\" font-size=\"11\" lengthAdjust=\"spacingAndGlyphs\" textLength=\"55\" x=\"385.5\" y=\"96.6479\">attributes</text><line style=\"stroke: #383838; stroke-width: 1.0;\" x1=\"440.5\" x2=\"443.5\" y1=\"93.3398\" y2=\"93.3398\"/></a><!--MD5=[2156ba9850f5573cc1fc38a6a4b2f02b]\n",
       "class E7--><a href=\"psysml:bd66bfa4-4cf8-4e62-98d6-c8549fcb8467\" target=\"_top\" title=\"psysml:bd66bfa4-4cf8-4e62-98d6-c8549fcb8467\" xlink:actuate=\"onRequest\" xlink:href=\"psysml:bd66bfa4-4cf8-4e62-98d6-c8549fcb8467\" xlink:show=\"new\" xlink:title=\"psysml:bd66bfa4-4cf8-4e62-98d6-c8549fcb8467\" xlink:type=\"simple\"><rect fill=\"#FFFFFF\" height=\"45.9375\" id=\"E7\" rx=\"10\" ry=\"10\" style=\"stroke: #383838; stroke-width: 1.5;\" width=\"42\" x=\"58.5\" y=\"179\"/><text fill=\"#000000\" font-family=\"sans-serif\" font-size=\"12\" font-style=\"italic\" lengthAdjust=\"spacingAndGlyphs\" textLength=\"40\" x=\"59.5\" y=\"195.1387\">«part»</text><text fill=\"#000000\" font-family=\"sans-serif\" font-size=\"12\" lengthAdjust=\"spacingAndGlyphs\" textLength=\"25\" x=\"67\" y=\"209.1074\">q: Q</text><line style=\"stroke: #383838; stroke-width: 1.5;\" x1=\"59.5\" x2=\"99.5\" y1=\"216.9375\" y2=\"216.9375\"/></a><!--MD5=[b9389687b975829384b498ac4b7476b2]\n",
       "class E8--><a href=\"psysml:d11ba367-2498-4d3b-bf9a-6df5f0bc7068\" target=\"_top\" title=\"psysml:d11ba367-2498-4d3b-bf9a-6df5f0bc7068\" xlink:actuate=\"onRequest\" xlink:href=\"psysml:d11ba367-2498-4d3b-bf9a-6df5f0bc7068\" xlink:show=\"new\" xlink:title=\"psysml:d11ba367-2498-4d3b-bf9a-6df5f0bc7068\" xlink:type=\"simple\"><rect fill=\"#FFFFFF\" height=\"59.9063\" id=\"E8\" rx=\"10\" ry=\"10\" style=\"stroke: #383838; stroke-width: 1.5;\" width=\"70\" x=\"188\" y=\"268\"/><text fill=\"#000000\" font-family=\"sans-serif\" font-size=\"12\" font-style=\"italic\" lengthAdjust=\"spacingAndGlyphs\" textLength=\"68\" x=\"189\" y=\"284.1387\">«variation»</text><text fill=\"#000000\" font-family=\"sans-serif\" font-size=\"12\" font-style=\"italic\" lengthAdjust=\"spacingAndGlyphs\" textLength=\"40\" x=\"203\" y=\"298.1074\">«part»</text><text fill=\"#000000\" font-family=\"sans-serif\" font-size=\"12\" lengthAdjust=\"spacingAndGlyphs\" textLength=\"22\" x=\"212\" y=\"312.0762\">v: P</text><line style=\"stroke: #383838; stroke-width: 1.5;\" x1=\"189\" x2=\"257\" y1=\"319.9063\" y2=\"319.9063\"/></a><!--MD5=[fd4143e9d270a159db93a4ea2a975926]\n",
       "class E9--><a href=\"psysml:72597939-8390-466d-9479-39928477d122\" target=\"_top\" title=\"psysml:72597939-8390-466d-9479-39928477d122\" xlink:actuate=\"onRequest\" xlink:href=\"psysml:72597939-8390-466d-9479-39928477d122\" xlink:show=\"new\" xlink:title=\"psysml:72597939-8390-466d-9479-39928477d122\" xlink:type=\"simple\"><rect fill=\"#FFFFFF\" height=\"88.3516\" id=\"E9\" rx=\"10\" ry=\"10\" style=\"stroke: #383838; stroke-width: 1.5;\" width=\"63\" x=\"381.5\" y=\"275\"/><text fill=\"#000000\" font-family=\"sans-serif\" font-size=\"12\" font-style=\"italic\" lengthAdjust=\"spacingAndGlyphs\" textLength=\"40\" x=\"393\" y=\"291.1387\">«part»</text><text fill=\"#000000\" font-family=\"sans-serif\" font-size=\"12\" lengthAdjust=\"spacingAndGlyphs\" textLength=\"6\" x=\"410\" y=\"305.1074\">y</text><line style=\"stroke: #383838; stroke-width: 1.5;\" x1=\"382.5\" x2=\"443.5\" y1=\"312.9375\" y2=\"312.9375\"/><text fill=\"#000000\" font-family=\"sans-serif\" font-size=\"11\" lengthAdjust=\"spacingAndGlyphs\" textLength=\"23\" x=\"387.5\" y=\"343.9526\">b: B</text><text fill=\"#000000\" font-family=\"sans-serif\" font-size=\"11\" font-style=\"italic\" lengthAdjust=\"spacingAndGlyphs\" textLength=\"44\" x=\"387.5\" y=\"356.7573\">:&gt;&gt;P::a</text><line style=\"stroke: #383838; stroke-width: 1.0;\" x1=\"382.5\" x2=\"385.5\" y1=\"327.3398\" y2=\"327.3398\"/><text fill=\"#000000\" font-family=\"sans-serif\" font-size=\"11\" lengthAdjust=\"spacingAndGlyphs\" textLength=\"55\" x=\"385.5\" y=\"330.6479\">attributes</text><line style=\"stroke: #383838; stroke-width: 1.0;\" x1=\"440.5\" x2=\"443.5\" y1=\"327.3398\" y2=\"327.3398\"/></a><!--MD5=[05d275557350bfb9b23a4ef7222b4c39]\n",
       "link E3 to E2--><a href=\"psysml:0057605f-0b36-40b5-a833-d8040f0d9e74\" target=\"_top\" title=\"psysml:0057605f-0b36-40b5-a833-d8040f0d9e74\" xlink:actuate=\"onRequest\" xlink:href=\"psysml:0057605f-0b36-40b5-a833-d8040f0d9e74\" xlink:show=\"new\" xlink:title=\"psysml:0057605f-0b36-40b5-a833-d8040f0d9e74\" xlink:type=\"simple\"><path d=\"M256.32,202 C284.65,202 326.37,202 359.49,202 \" fill=\"none\" id=\"E3-&gt;E2\" style=\"stroke: #383838; stroke-width: 1.0;\"/><polygon fill=\"none\" points=\"359.79,195,379.79,202,359.79,209,359.79,195\" style=\"stroke: #383838; stroke-width: 1.0;\"/></a><!--MD5=[15ebcb19ae302d9b601edb458606d402]\n",
       "link E5 to E2--><a href=\"psysml:922ee1f9-edf0-4204-bf0f-0435eb6f66de\" target=\"_top\" title=\"psysml:922ee1f9-edf0-4204-bf0f-0435eb6f66de\" xlink:actuate=\"onRequest\" xlink:href=\"psysml:922ee1f9-edf0-4204-bf0f-0435eb6f66de\" xlink:show=\"new\" xlink:title=\"psysml:922ee1f9-edf0-4204-bf0f-0435eb6f66de\" xlink:type=\"simple\"><path d=\"M256.32,120.02 C285.33,135.29 328.37,157.96 361.84,175.59 \" fill=\"none\" id=\"E5-&gt;E2\" style=\"stroke: #383838; stroke-width: 1.0;\"/><polygon fill=\"none\" points=\"365.35,169.53,379.79,185.04,358.83,181.91,365.35,169.53\" style=\"stroke: #383838; stroke-width: 1.0;\"/></a><!--MD5=[9120cf2e5df3bff93db8f754bbbc09b4]\n",
       "link E5 to E6--><a href=\"psysml:1c0ef759-8c31-4a4a-b0e7-e872c2806a04\" target=\"_top\" title=\"psysml:1c0ef759-8c31-4a4a-b0e7-e872c2806a04\" xlink:actuate=\"onRequest\" xlink:href=\"psysml:1c0ef759-8c31-4a4a-b0e7-e872c2806a04\" xlink:show=\"new\" xlink:title=\"psysml:1c0ef759-8c31-4a4a-b0e7-e872c2806a04\" xlink:type=\"simple\"><path d=\"M266.69,98.91 C298.07,95.91 340.45,91.85 371.34,88.89 \" fill=\"none\" id=\"E5-E6\" style=\"stroke: #383838; stroke-width: 1.0;\"/><polygon fill=\"#383838\" points=\"381.35,87.93,373.0997,85.7092,373.6738,91.6817,381.35,87.93\" style=\"stroke: #383838; stroke-width: 1.0;\"/><path d=\"M260.1933,108.0339 A9,9 0 0 0 258.5748 91.197\" fill=\"none\" style=\"stroke: #383838; stroke-width: 1.5;\"/><text fill=\"#000000\" font-family=\"sans-serif\" font-size=\"13\" lengthAdjust=\"spacingAndGlyphs\" textLength=\"60\" x=\"289\" y=\"88.0669\">«variant»</text></a><!--MD5=[14ccda38c055a5c0da953d572bc50960]\n",
       "link E7 to E3--><a href=\"psysml:6aa04dcc-8d2e-4853-a2ca-5b94913b0044\" target=\"_top\" title=\"psysml:6aa04dcc-8d2e-4853-a2ca-5b94913b0044\" xlink:actuate=\"onRequest\" xlink:href=\"psysml:6aa04dcc-8d2e-4853-a2ca-5b94913b0044\" xlink:show=\"new\" xlink:title=\"psysml:6aa04dcc-8d2e-4853-a2ca-5b94913b0044\" xlink:type=\"simple\"><path d=\"M100.77,202 C118.65,202 145.5,202 169.39,202 \" fill=\"none\" id=\"E7-&gt;E3\" style=\"stroke: #383838; stroke-width: 1.0;\"/><polygon fill=\"#FFFFFF\" points=\"189.74,202,170.74,209,170.74,195,189.74,202\" style=\"stroke: #383838; stroke-width: 1.0;\"/><ellipse cx=\"165.04\" cy=\"207\" fill=\"#383838\" rx=\"2\" ry=\"2\" style=\"stroke: #383838; stroke-width: 1.0;\"/><ellipse cx=\"165.04\" cy=\"197\" fill=\"#383838\" rx=\"2\" ry=\"2\" style=\"stroke: #383838; stroke-width: 1.0;\"/></a><!--MD5=[f1f3f9f2fc535e6147756cb86a7f2e32]\n",
       "link E8 to E2--><a href=\"psysml:62998d3a-e41b-4231-af2c-a0f2b465e4e7\" target=\"_top\" title=\"psysml:62998d3a-e41b-4231-af2c-a0f2b465e4e7\" xlink:actuate=\"onRequest\" xlink:href=\"psysml:62998d3a-e41b-4231-af2c-a0f2b465e4e7\" xlink:show=\"new\" xlink:title=\"psysml:62998d3a-e41b-4231-af2c-a0f2b465e4e7\" xlink:type=\"simple\"><path d=\"M258.05,280.62 C286.97,265.85 328.89,244.44 361.69,227.69 \" fill=\"none\" id=\"E8-&gt;E2\" style=\"stroke: #383838; stroke-width: 1.0;\"/><polygon fill=\"#FFFFFF\" points=\"379.78,218.45,366.049,233.3315,359.6762,220.8661,379.78,218.45\" style=\"stroke: #383838; stroke-width: 1.0;\"/><ellipse cx=\"360.0634\" cy=\"234.1454\" fill=\"#383838\" rx=\"2\" ry=\"2\" style=\"stroke: #383838; stroke-width: 1.0;\"/><ellipse cx=\"355.5114\" cy=\"225.2415\" fill=\"#383838\" rx=\"2\" ry=\"2\" style=\"stroke: #383838; stroke-width: 1.0;\"/></a><!--MD5=[ed10624c06dd9a4fa49ccf290e8b16a8]\n",
       "link E8 to E9--><a href=\"psysml:196bced0-9581-41ba-9556-fc72f0b07990\" target=\"_top\" title=\"psysml:196bced0-9581-41ba-9556-fc72f0b07990\" xlink:actuate=\"onRequest\" xlink:href=\"psysml:196bced0-9581-41ba-9556-fc72f0b07990\" xlink:show=\"new\" xlink:title=\"psysml:196bced0-9581-41ba-9556-fc72f0b07990\" xlink:type=\"simple\"><path d=\"M268.4,302.96 C299.51,306.43 340.78,311.04 371.09,314.43 \" fill=\"none\" id=\"E8-E9\" style=\"stroke: #383838; stroke-width: 1.0;\"/><polygon fill=\"#383838\" points=\"381.32,315.57,373.7039,311.6977,373.0357,317.6604,381.32,315.57\" style=\"stroke: #383838; stroke-width: 1.0;\"/><path d=\"M260.1795,310.5444 A9,9 0 0 0 262.0395 293.7325\" fill=\"none\" style=\"stroke: #383838; stroke-width: 1.5;\"/><text fill=\"#000000\" font-family=\"sans-serif\" font-size=\"13\" lengthAdjust=\"spacingAndGlyphs\" textLength=\"60\" x=\"289\" y=\"302.0669\">«variant»</text></a><!--MD5=[ecb1f2b9092cd1a39b52a7707b787fcf]\n",
       "@startuml\r\n",
       "left to right direction\r\n",
       "skinparam monochrome true\r\n",
       "skinparam classbackgroundcolor white\r\n",
       "skinparam shadowing false\r\n",
       "skinparam wrapWidth 300\r\n",
       "hide circle\r\n",
       "\r\n",
       "package \"VariabilityTest\" as E1  [[psysml:fc405a6c-3061-4540-9673-8b8e766ba6ac ]]  {\r\n",
       "comp def \"P\" as E2  <<(T,blue)part def>> [[psysml:dc902210-e855-46b4-a2dd-8255fef19514 ]] {\r\n",
       "- - attributes - -\r\n",
       "a\r\n",
       "}\r\n",
       "comp def \"Q\" as E3  <<(T,blue)part def>> [[psysml:b52c8837-30af-42aa-bc51-100eaed5de80 ]] {\r\n",
       "}\r\n",
       "comp def \"B\" as E4  <<(T,blue)attribute def>> [[psysml:f17815b8-46c4-4dd9-bf70-524ba6c03f24 ]] {\r\n",
       "}\r\n",
       "comp def \"V\" as E5  <<(T,blue)part def>> [[psysml:b1ebe526-c40e-4c8f-ae74-16f7fcd1bdc9 ]] {\r\n",
       "}\r\n",
       "comp usage \"x: Q\" as E6  <<(T,blue)part>> [[psysml:05419eac-6c2b-46e9-bd3b-b31f448a077a ]] {\r\n",
       "- - attributes - -\r\n",
       "b: B\\n//:>>P::a// \r\n",
       "}\r\n",
       "comp usage \"q: Q\" as E7  <<(T,blue)part>> [[psysml:bd66bfa4-4cf8-4e62-98d6-c8549fcb8467 ]] {\r\n",
       "}\r\n",
       "comp usage \"v: P\" as E8  <<variation>>\\n <<(T,blue)part>> [[psysml:d11ba367-2498-4d3b-bf9a-6df5f0bc7068 ]] {\r\n",
       "}\r\n",
       "comp usage \"y\" as E9  <<(T,blue)part>> [[psysml:72597939-8390-466d-9479-39928477d122 ]] {\r\n",
       "- - attributes - -\r\n",
       "b: B\\n//:>>P::a// \r\n",
       "}\r\n",
       "E3 - -|> E2 [[psysml:0057605f-0b36-40b5-a833-d8040f0d9e74 ]] \r\n",
       "E5 - -|> E2 [[psysml:922ee1f9-edf0-4204-bf0f-0435eb6f66de ]] \r\n",
       "E5 )- ->> E6 [[psysml:1c0ef759-8c31-4a4a-b0e7-e872c2806a04 ]] : <<variant>>\r\n",
       "E7 - -:|> E3 [[psysml:6aa04dcc-8d2e-4853-a2ca-5b94913b0044 ]] \r\n",
       "E8 - -:|> E2 [[psysml:62998d3a-e41b-4231-af2c-a0f2b465e4e7 ]] \r\n",
       "E8 )- ->> E9 [[psysml:196bced0-9581-41ba-9556-fc72f0b07990 ]] : <<variant>>\r\n",
       "}\r\n",
       "@enduml\r\n",
       "\n",
       "PlantUML version 1.2020.13(Sat Jun 13 12:26:38 UTC 2020)\n",
       "(EPL source distribution)\n",
       "Java Runtime: OpenJDK Runtime Environment\n",
       "JVM: OpenJDK 64-Bit Server VM\n",
       "Default Encoding: UTF-8\n",
       "Language: en\n",
       "Country: null\n",
       "--></g></svg>"
      ]
     },
     "execution_count": 22,
     "metadata": {},
     "output_type": "execute_result"
    }
   ],
   "source": [
    "%viz --style=\"LR\" --view=\"MIXED\" \"VariabilityTest\""
   ]
  },
  {
   "cell_type": "code",
   "execution_count": 23,
   "id": "furnished-pierce",
   "metadata": {
    "execution": {
     "iopub.execute_input": "2021-03-25T15:07:42.129219Z",
     "iopub.status.busy": "2021-03-25T15:07:42.128332Z",
     "iopub.status.idle": "2021-03-25T15:07:42.404618Z",
     "shell.execute_reply": "2021-03-25T15:07:42.404229Z"
    }
   },
   "outputs": [
    {
     "data": {
      "image/svg+xml": [
       "<?xml version=\"1.0\" encoding=\"UTF-8\" standalone=\"no\"?><svg xmlns=\"http://www.w3.org/2000/svg\" xmlns:xlink=\"http://www.w3.org/1999/xlink\" contentScriptType=\"application/ecmascript\" contentStyleType=\"text/css\" height=\"373px\" preserveAspectRatio=\"none\" style=\"width:362px;height:373px;\" version=\"1.1\" viewBox=\"0 0 362 373\" width=\"362px\" zoomAndPan=\"magnify\"><defs><filter height=\"300%\" id=\"f1fe2hcxx489qu\" width=\"300%\" x=\"-1\" y=\"-1\"><feGaussianBlur result=\"blurOut\" stdDeviation=\"2.0\"/><feColorMatrix in=\"blurOut\" result=\"blurOut2\" type=\"matrix\" values=\"0 0 0 0 0 0 0 0 0 0 0 0 0 0 0 0 0 0 .4 0\"/><feOffset dx=\"4.0\" dy=\"4.0\" in=\"blurOut2\" result=\"blurOut3\"/><feBlend in=\"SourceGraphic\" in2=\"blurOut3\" mode=\"normal\"/></filter></defs><g><!--MD5=[fbc87193dbaf4d95561dea2c320d4a47]\n",
       "cluster E1--><a href=\"psysml:fc405a6c-3061-4540-9673-8b8e766ba6ac\" target=\"_top\" title=\"psysml:fc405a6c-3061-4540-9673-8b8e766ba6ac\" xlink:actuate=\"onRequest\" xlink:href=\"psysml:fc405a6c-3061-4540-9673-8b8e766ba6ac\" xlink:show=\"new\" xlink:title=\"psysml:fc405a6c-3061-4540-9673-8b8e766ba6ac\" xlink:type=\"simple\"><polygon fill=\"#FFFFFF\" filter=\"url(#f1fe2hcxx489qu)\" points=\"16,6,134,6,141,28.2969,340,28.2969,340,361,16,361,16,6\" style=\"stroke: #000000; stroke-width: 1.5;\"/><line style=\"stroke: #000000; stroke-width: 1.5;\" x1=\"16\" x2=\"141\" y1=\"28.2969\" y2=\"28.2969\"/><text fill=\"#000000\" font-family=\"sans-serif\" font-size=\"14\" font-weight=\"bold\" lengthAdjust=\"spacingAndGlyphs\" textLength=\"112\" x=\"20\" y=\"20.9951\">VariabilityTest</text></a><!--MD5=[b4997ac47864f28c2f74865a473b2911]\n",
       "class E2--><a href=\"psysml:dc902210-e855-46b4-a2dd-8255fef19514\" target=\"_top\" title=\"psysml:dc902210-e855-46b4-a2dd-8255fef19514\" xlink:actuate=\"onRequest\" xlink:href=\"psysml:dc902210-e855-46b4-a2dd-8255fef19514\" xlink:show=\"new\" xlink:title=\"psysml:dc902210-e855-46b4-a2dd-8255fef19514\" xlink:type=\"simple\"><rect fill=\"#FEFECE\" filter=\"url(#f1fe2hcxx489qu)\" height=\"58.7422\" id=\"E2\" style=\"stroke: #A80036; stroke-width: 1.5;\" width=\"66\" x=\"145\" y=\"285.5\"/><text fill=\"#000000\" font-family=\"sans-serif\" font-size=\"12\" font-style=\"italic\" lengthAdjust=\"spacingAndGlyphs\" textLength=\"64\" x=\"146\" y=\"301.6387\">«part def»</text><text fill=\"#000000\" font-family=\"sans-serif\" font-size=\"12\" lengthAdjust=\"spacingAndGlyphs\" textLength=\"8\" x=\"174\" y=\"315.6074\">P</text><line style=\"stroke: #A80036; stroke-width: 1.5;\" x1=\"146\" x2=\"210\" y1=\"323.4375\" y2=\"323.4375\"/><text fill=\"#000000\" font-family=\"sans-serif\" font-size=\"11\" lengthAdjust=\"spacingAndGlyphs\" textLength=\"7\" x=\"151\" y=\"337.6479\">a</text></a><!--MD5=[09b614a08d8cba4a07c9adeb5e0fee81]\n",
       "class E3--><a href=\"psysml:b52c8837-30af-42aa-bc51-100eaed5de80\" target=\"_top\" title=\"psysml:b52c8837-30af-42aa-bc51-100eaed5de80\" xlink:actuate=\"onRequest\" xlink:href=\"psysml:b52c8837-30af-42aa-bc51-100eaed5de80\" xlink:show=\"new\" xlink:title=\"psysml:b52c8837-30af-42aa-bc51-100eaed5de80\" xlink:type=\"simple\"><rect fill=\"#FEFECE\" filter=\"url(#f1fe2hcxx489qu)\" height=\"45.9375\" id=\"E3\" style=\"stroke: #A80036; stroke-width: 1.5;\" width=\"66\" x=\"140\" y=\"155\"/><text fill=\"#000000\" font-family=\"sans-serif\" font-size=\"12\" font-style=\"italic\" lengthAdjust=\"spacingAndGlyphs\" textLength=\"64\" x=\"141\" y=\"171.1387\">«part def»</text><text fill=\"#000000\" font-family=\"sans-serif\" font-size=\"12\" lengthAdjust=\"spacingAndGlyphs\" textLength=\"9\" x=\"168.5\" y=\"185.1074\">Q</text><line style=\"stroke: #A80036; stroke-width: 1.5;\" x1=\"141\" x2=\"205\" y1=\"192.9375\" y2=\"192.9375\"/></a><!--MD5=[ebbe1d658d1005bcc118a6aa81145e00]\n",
       "class E4--><a href=\"psysml:f17815b8-46c4-4dd9-bf70-524ba6c03f24\" target=\"_top\" title=\"psysml:f17815b8-46c4-4dd9-bf70-524ba6c03f24\" xlink:actuate=\"onRequest\" xlink:href=\"psysml:f17815b8-46c4-4dd9-bf70-524ba6c03f24\" xlink:show=\"new\" xlink:title=\"psysml:f17815b8-46c4-4dd9-bf70-524ba6c03f24\" xlink:type=\"simple\"><rect fill=\"#FEFECE\" filter=\"url(#f1fe2hcxx489qu)\" height=\"45.9375\" id=\"E4\" style=\"stroke: #A80036; stroke-width: 1.5;\" width=\"95\" x=\"228.5\" y=\"41\"/><text fill=\"#000000\" font-family=\"sans-serif\" font-size=\"12\" font-style=\"italic\" lengthAdjust=\"spacingAndGlyphs\" textLength=\"93\" x=\"229.5\" y=\"57.1387\">«attribute def»</text><text fill=\"#000000\" font-family=\"sans-serif\" font-size=\"12\" lengthAdjust=\"spacingAndGlyphs\" textLength=\"8\" x=\"272\" y=\"71.1074\">B</text><line style=\"stroke: #A80036; stroke-width: 1.5;\" x1=\"229.5\" x2=\"322.5\" y1=\"78.9375\" y2=\"78.9375\"/></a><!--MD5=[270fce915f116d4de14055a7c1d9a0f3]\n",
       "class E5--><a href=\"psysml:b1ebe526-c40e-4c8f-ae74-16f7fcd1bdc9\" target=\"_top\" title=\"psysml:b1ebe526-c40e-4c8f-ae74-16f7fcd1bdc9\" xlink:actuate=\"onRequest\" xlink:href=\"psysml:b1ebe526-c40e-4c8f-ae74-16f7fcd1bdc9\" xlink:show=\"new\" xlink:title=\"psysml:b1ebe526-c40e-4c8f-ae74-16f7fcd1bdc9\" xlink:type=\"simple\"><rect fill=\"#FEFECE\" filter=\"url(#f1fe2hcxx489qu)\" height=\"45.9375\" id=\"E5\" style=\"stroke: #A80036; stroke-width: 1.5;\" width=\"66\" x=\"241\" y=\"155\"/><text fill=\"#000000\" font-family=\"sans-serif\" font-size=\"12\" font-style=\"italic\" lengthAdjust=\"spacingAndGlyphs\" textLength=\"64\" x=\"242\" y=\"171.1387\">«part def»</text><text fill=\"#000000\" font-family=\"sans-serif\" font-size=\"12\" lengthAdjust=\"spacingAndGlyphs\" textLength=\"8\" x=\"270\" y=\"185.1074\">V</text><line style=\"stroke: #A80036; stroke-width: 1.5;\" x1=\"242\" x2=\"306\" y1=\"192.9375\" y2=\"192.9375\"/></a><!--MD5=[60a26617385b1d2d0262a64233df1f8d]\n",
       "class E6--><a href=\"psysml:05419eac-6c2b-46e9-bd3b-b31f448a077a\" target=\"_top\" title=\"psysml:05419eac-6c2b-46e9-bd3b-b31f448a077a\" xlink:actuate=\"onRequest\" xlink:href=\"psysml:05419eac-6c2b-46e9-bd3b-b31f448a077a\" xlink:show=\"new\" xlink:title=\"psysml:05419eac-6c2b-46e9-bd3b-b31f448a077a\" xlink:type=\"simple\"><rect fill=\"#FEFECE\" filter=\"url(#f1fe2hcxx489qu)\" height=\"59.6875\" id=\"E6\" rx=\"10\" ry=\"10\" style=\"stroke: #A80036; stroke-width: 1.5;\" width=\"78\" x=\"246\" y=\"285\"/><text fill=\"#000000\" font-family=\"sans-serif\" font-size=\"12\" font-style=\"italic\" lengthAdjust=\"spacingAndGlyphs\" textLength=\"40\" x=\"265\" y=\"301.1387\">«part»</text><text fill=\"#000000\" font-family=\"sans-serif\" font-size=\"12\" lengthAdjust=\"spacingAndGlyphs\" textLength=\"23\" x=\"273.5\" y=\"315.1074\">x: Q</text><line style=\"stroke: #A80036; stroke-width: 1.5;\" x1=\"247\" x2=\"323\" y1=\"322.9375\" y2=\"322.9375\"/><path d=\"M253.9167,327.8542 L253.9167,337.0208 L254.8333,337.0208 L254.8333,327.8542 M257.5833,327.8542 L257.5833,337.0208 L264.9167,332.4375 L257.5833,327.8542 L258.5,329.2292 L263.5417,332.4375 L258.5,335.6458 L258.5,329.2292 \" fill=\"#000000\" style=\"stroke: ; stroke-width: 0.0; stroke-dasharray: ;\"/><text fill=\"#000000\" font-family=\"sans-serif\" font-size=\"11\" lengthAdjust=\"spacingAndGlyphs\" textLength=\"23\" x=\"269\" y=\"338.0933\">b: B</text><text fill=\"#000000\" font-family=\"sans-serif\" font-size=\"11\" lengthAdjust=\"spacingAndGlyphs\" text-decoration=\"line-through\" textLength=\"22\" x=\"296\" y=\"338.0933\">P::a</text></a><!--MD5=[2156ba9850f5573cc1fc38a6a4b2f02b]\n",
       "class E7--><a href=\"psysml:bd66bfa4-4cf8-4e62-98d6-c8549fcb8467\" target=\"_top\" title=\"psysml:bd66bfa4-4cf8-4e62-98d6-c8549fcb8467\" xlink:actuate=\"onRequest\" xlink:href=\"psysml:bd66bfa4-4cf8-4e62-98d6-c8549fcb8467\" xlink:show=\"new\" xlink:title=\"psysml:bd66bfa4-4cf8-4e62-98d6-c8549fcb8467\" xlink:type=\"simple\"><rect fill=\"#FEFECE\" filter=\"url(#f1fe2hcxx489qu)\" height=\"45.9375\" id=\"E7\" rx=\"10\" ry=\"10\" style=\"stroke: #A80036; stroke-width: 1.5;\" width=\"42\" x=\"151\" y=\"41\"/><text fill=\"#000000\" font-family=\"sans-serif\" font-size=\"12\" font-style=\"italic\" lengthAdjust=\"spacingAndGlyphs\" textLength=\"40\" x=\"152\" y=\"57.1387\">«part»</text><text fill=\"#000000\" font-family=\"sans-serif\" font-size=\"12\" lengthAdjust=\"spacingAndGlyphs\" textLength=\"25\" x=\"159.5\" y=\"71.1074\">q: Q</text><line style=\"stroke: #A80036; stroke-width: 1.5;\" x1=\"152\" x2=\"192\" y1=\"78.9375\" y2=\"78.9375\"/></a><!--MD5=[b9389687b975829384b498ac4b7476b2]\n",
       "class E8--><a href=\"psysml:d11ba367-2498-4d3b-bf9a-6df5f0bc7068\" target=\"_top\" title=\"psysml:d11ba367-2498-4d3b-bf9a-6df5f0bc7068\" xlink:actuate=\"onRequest\" xlink:href=\"psysml:d11ba367-2498-4d3b-bf9a-6df5f0bc7068\" xlink:show=\"new\" xlink:title=\"psysml:d11ba367-2498-4d3b-bf9a-6df5f0bc7068\" xlink:type=\"simple\"><rect fill=\"#FEFECE\" filter=\"url(#f1fe2hcxx489qu)\" height=\"59.9063\" id=\"E8\" rx=\"10\" ry=\"10\" style=\"stroke: #A80036; stroke-width: 1.5;\" width=\"70\" x=\"35\" y=\"148\"/><text fill=\"#000000\" font-family=\"sans-serif\" font-size=\"12\" font-style=\"italic\" lengthAdjust=\"spacingAndGlyphs\" textLength=\"68\" x=\"36\" y=\"164.1387\">«variation»</text><text fill=\"#000000\" font-family=\"sans-serif\" font-size=\"12\" font-style=\"italic\" lengthAdjust=\"spacingAndGlyphs\" textLength=\"40\" x=\"50\" y=\"178.1074\">«part»</text><text fill=\"#000000\" font-family=\"sans-serif\" font-size=\"12\" lengthAdjust=\"spacingAndGlyphs\" textLength=\"22\" x=\"59\" y=\"192.0762\">v: P</text><line style=\"stroke: #A80036; stroke-width: 1.5;\" x1=\"36\" x2=\"104\" y1=\"199.9063\" y2=\"199.9063\"/></a><!--MD5=[fd4143e9d270a159db93a4ea2a975926]\n",
       "class E9--><a href=\"psysml:72597939-8390-466d-9479-39928477d122\" target=\"_top\" title=\"psysml:72597939-8390-466d-9479-39928477d122\" xlink:actuate=\"onRequest\" xlink:href=\"psysml:72597939-8390-466d-9479-39928477d122\" xlink:show=\"new\" xlink:title=\"psysml:72597939-8390-466d-9479-39928477d122\" xlink:type=\"simple\"><rect fill=\"#FEFECE\" filter=\"url(#f1fe2hcxx489qu)\" height=\"59.6875\" id=\"E9\" rx=\"10\" ry=\"10\" style=\"stroke: #A80036; stroke-width: 1.5;\" width=\"78\" x=\"32\" y=\"285\"/><text fill=\"#000000\" font-family=\"sans-serif\" font-size=\"12\" font-style=\"italic\" lengthAdjust=\"spacingAndGlyphs\" textLength=\"40\" x=\"51\" y=\"301.1387\">«part»</text><text fill=\"#000000\" font-family=\"sans-serif\" font-size=\"12\" lengthAdjust=\"spacingAndGlyphs\" textLength=\"6\" x=\"68\" y=\"315.1074\">y</text><line style=\"stroke: #A80036; stroke-width: 1.5;\" x1=\"33\" x2=\"109\" y1=\"322.9375\" y2=\"322.9375\"/><path d=\"M39.9167,327.8542 L39.9167,337.0208 L40.8333,337.0208 L40.8333,327.8542 M43.5833,327.8542 L43.5833,337.0208 L50.9167,332.4375 L43.5833,327.8542 L44.5,329.2292 L49.5417,332.4375 L44.5,335.6458 L44.5,329.2292 \" fill=\"#000000\" style=\"stroke: ; stroke-width: 0.0; stroke-dasharray: ;\"/><text fill=\"#000000\" font-family=\"sans-serif\" font-size=\"11\" lengthAdjust=\"spacingAndGlyphs\" textLength=\"23\" x=\"55\" y=\"338.0933\">b: B</text><text fill=\"#000000\" font-family=\"sans-serif\" font-size=\"11\" lengthAdjust=\"spacingAndGlyphs\" text-decoration=\"line-through\" textLength=\"22\" x=\"82\" y=\"338.0933\">P::a</text></a><!--MD5=[05d275557350bfb9b23a4ef7222b4c39]\n",
       "link E3 to E2--><a href=\"psysml:0057605f-0b36-40b5-a833-d8040f0d9e74\" target=\"_top\" title=\"psysml:0057605f-0b36-40b5-a833-d8040f0d9e74\" xlink:actuate=\"onRequest\" xlink:href=\"psysml:0057605f-0b36-40b5-a833-d8040f0d9e74\" xlink:show=\"new\" xlink:title=\"psysml:0057605f-0b36-40b5-a833-d8040f0d9e74\" xlink:type=\"simple\"><path d=\"M173.83,201.29 C174.47,218.57 175.38,243.16 176.18,264.96 \" fill=\"none\" id=\"E3-&gt;E2\" style=\"stroke: #A80036; stroke-width: 1.0;\"/><polygon fill=\"none\" points=\"183.18,264.83,176.93,285.08,169.19,265.35,183.18,264.83\" style=\"stroke: #A80036; stroke-width: 1.0;\"/></a><!--MD5=[15ebcb19ae302d9b601edb458606d402]\n",
       "link E5 to E2--><a href=\"psysml:922ee1f9-edf0-4204-bf0f-0435eb6f66de\" target=\"_top\" title=\"psysml:922ee1f9-edf0-4204-bf0f-0435eb6f66de\" xlink:actuate=\"onRequest\" xlink:href=\"psysml:922ee1f9-edf0-4204-bf0f-0435eb6f66de\" xlink:show=\"new\" xlink:title=\"psysml:922ee1f9-edf0-4204-bf0f-0435eb6f66de\" xlink:type=\"simple\"><path d=\"M258.15,201.29 C245.16,219.55 226.37,245.99 210.24,268.66 \" fill=\"none\" id=\"E5-&gt;E2\" style=\"stroke: #A80036; stroke-width: 1.0;\"/><polygon fill=\"none\" points=\"215.86,272.83,198.57,285.08,204.45,264.72,215.86,272.83\" style=\"stroke: #A80036; stroke-width: 1.0;\"/></a><!--MD5=[9120cf2e5df3bff93db8f754bbbc09b4]\n",
       "link E5 to E6--><a href=\"psysml:1c0ef759-8c31-4a4a-b0e7-e872c2806a04\" target=\"_top\" title=\"psysml:1c0ef759-8c31-4a4a-b0e7-e872c2806a04\" xlink:actuate=\"onRequest\" xlink:href=\"psysml:1c0ef759-8c31-4a4a-b0e7-e872c2806a04\" xlink:show=\"new\" xlink:title=\"psysml:1c0ef759-8c31-4a4a-b0e7-e872c2806a04\" xlink:type=\"simple\"><path d=\"M276.63,211.28 C278.18,230.26 280.14,254.38 281.78,274.49 \" fill=\"none\" id=\"E5-E6\" style=\"stroke: #A80036; stroke-width: 1.0;\"/><polygon fill=\"#A80036\" points=\"282.6,284.58,284.9389,276.3624,278.9588,276.8507,282.6,284.58\" style=\"stroke: #A80036; stroke-width: 1.0;\"/><path d=\"M267.636,205.0347 A9,9 0 0 0 284.4963 203.682\" fill=\"none\" style=\"stroke: #A80036; stroke-width: 1.5;\"/><text fill=\"#000000\" font-family=\"sans-serif\" font-size=\"13\" lengthAdjust=\"spacingAndGlyphs\" textLength=\"60\" x=\"281\" y=\"251.0669\">«variant»</text></a><!--MD5=[14ccda38c055a5c0da953d572bc50960]\n",
       "link E7 to E3--><a href=\"psysml:6aa04dcc-8d2e-4853-a2ca-5b94913b0044\" target=\"_top\" title=\"psysml:6aa04dcc-8d2e-4853-a2ca-5b94913b0044\" xlink:actuate=\"onRequest\" xlink:href=\"psysml:6aa04dcc-8d2e-4853-a2ca-5b94913b0044\" xlink:show=\"new\" xlink:title=\"psysml:6aa04dcc-8d2e-4853-a2ca-5b94913b0044\" xlink:type=\"simple\"><path d=\"M172.2,87.13 C172.32,100.7 172.48,118.53 172.62,134.73 \" fill=\"none\" id=\"E7-&gt;E3\" style=\"stroke: #A80036; stroke-width: 1.0;\"/><polygon fill=\"#FFFFFF\" points=\"172.8,154.92,165.6374,135.9807,179.6369,135.8607,172.8,154.92\" style=\"stroke: #A80036; stroke-width: 1.0;\"/><ellipse cx=\"167.5885\" cy=\"130.2638\" fill=\"#A80036\" rx=\"2\" ry=\"2\" style=\"stroke: #A80036; stroke-width: 1.0;\"/><ellipse cx=\"177.5881\" cy=\"130.1781\" fill=\"#A80036\" rx=\"2\" ry=\"2\" style=\"stroke: #A80036; stroke-width: 1.0;\"/></a><!--MD5=[f1f3f9f2fc535e6147756cb86a7f2e32]\n",
       "link E8 to E2--><a href=\"psysml:62998d3a-e41b-4231-af2c-a0f2b465e4e7\" target=\"_top\" title=\"psysml:62998d3a-e41b-4231-af2c-a0f2b465e4e7\" xlink:actuate=\"onRequest\" xlink:href=\"psysml:62998d3a-e41b-4231-af2c-a0f2b465e4e7\" xlink:show=\"new\" xlink:title=\"psysml:62998d3a-e41b-4231-af2c-a0f2b465e4e7\" xlink:type=\"simple\"><path d=\"M105.35,204.11 C117.33,213.78 130.17,225.51 140,238 C146.93,246.8 153.09,257.06 158.33,267.15 \" fill=\"none\" id=\"E8-&gt;E2\" style=\"stroke: #A80036; stroke-width: 1.0;\"/><polygon fill=\"#FFFFFF\" points=\"166.98,285.32,152.4904,271.1761,165.13,265.1562,166.98,285.32\" style=\"stroke: #A80036; stroke-width: 1.0;\"/><ellipse cx=\"151.8451\" cy=\"265.1699\" fill=\"#A80036\" rx=\"2\" ry=\"2\" style=\"stroke: #A80036; stroke-width: 1.0;\"/><ellipse cx=\"160.8734\" cy=\"260.8701\" fill=\"#A80036\" rx=\"2\" ry=\"2\" style=\"stroke: #A80036; stroke-width: 1.0;\"/></a><!--MD5=[ed10624c06dd9a4fa49ccf290e8b16a8]\n",
       "link E8 to E9--><a href=\"psysml:196bced0-9581-41ba-9556-fc72f0b07990\" target=\"_top\" title=\"psysml:196bced0-9581-41ba-9556-fc72f0b07990\" xlink:actuate=\"onRequest\" xlink:href=\"psysml:196bced0-9581-41ba-9556-fc72f0b07990\" xlink:show=\"new\" xlink:title=\"psysml:196bced0-9581-41ba-9556-fc72f0b07990\" xlink:type=\"simple\"><path d=\"M70.29,218.31 C70.42,236.06 70.58,256.98 70.71,274.73 \" fill=\"none\" id=\"E8-E9\" style=\"stroke: #A80036; stroke-width: 1.0;\"/><polygon fill=\"#A80036\" points=\"70.78,284.76,73.7228,276.7388,67.7229,276.7816,70.78,284.76\" style=\"stroke: #A80036; stroke-width: 1.0;\"/><path d=\"M61.785,211.4285 A9,9 0 0 0 78.699 211.3077\" fill=\"none\" style=\"stroke: #A80036; stroke-width: 1.5;\"/><text fill=\"#000000\" font-family=\"sans-serif\" font-size=\"13\" lengthAdjust=\"spacingAndGlyphs\" textLength=\"60\" x=\"71\" y=\"251.0669\">«variant»</text></a><!--MD5=[9f66aebb26613d519c60971046c42b17]\n",
       "@startuml\r\n",
       "skinparam wrapWidth 300\r\n",
       "hide circle\r\n",
       "\r\n",
       "package \"VariabilityTest\" as E1  [[psysml:fc405a6c-3061-4540-9673-8b8e766ba6ac ]]  {\r\n",
       "comp def \"P\" as E2  <<(T,blue)part def>> [[psysml:dc902210-e855-46b4-a2dd-8255fef19514 ]] {\r\n",
       "a\r\n",
       "}\r\n",
       "comp def \"Q\" as E3  <<(T,blue)part def>> [[psysml:b52c8837-30af-42aa-bc51-100eaed5de80 ]] {\r\n",
       "}\r\n",
       "comp def \"B\" as E4  <<(T,blue)attribute def>> [[psysml:f17815b8-46c4-4dd9-bf70-524ba6c03f24 ]] {\r\n",
       "}\r\n",
       "comp def \"V\" as E5  <<(T,blue)part def>> [[psysml:b1ebe526-c40e-4c8f-ae74-16f7fcd1bdc9 ]] {\r\n",
       "}\r\n",
       "comp usage \"x: Q\" as E6  <<(T,blue)part>> [[psysml:05419eac-6c2b-46e9-bd3b-b31f448a077a ]] {\r\n",
       "<&bar-trig> b: B <s>P::a</s>\r\n",
       "}\r\n",
       "comp usage \"q: Q\" as E7  <<(T,blue)part>> [[psysml:bd66bfa4-4cf8-4e62-98d6-c8549fcb8467 ]] {\r\n",
       "}\r\n",
       "comp usage \"v: P\" as E8  <<variation>>\\n <<(T,blue)part>> [[psysml:d11ba367-2498-4d3b-bf9a-6df5f0bc7068 ]] {\r\n",
       "}\r\n",
       "comp usage \"y\" as E9  <<(T,blue)part>> [[psysml:72597939-8390-466d-9479-39928477d122 ]] {\r\n",
       "<&bar-trig> b: B <s>P::a</s>\r\n",
       "}\r\n",
       "E3 - -|> E2 [[psysml:0057605f-0b36-40b5-a833-d8040f0d9e74 ]] \r\n",
       "E5 - -|> E2 [[psysml:922ee1f9-edf0-4204-bf0f-0435eb6f66de ]] \r\n",
       "E5 )- ->> E6 [[psysml:1c0ef759-8c31-4a4a-b0e7-e872c2806a04 ]] : <<variant>>\r\n",
       "E7 - -:|> E3 [[psysml:6aa04dcc-8d2e-4853-a2ca-5b94913b0044 ]] \r\n",
       "E8 - -:|> E2 [[psysml:62998d3a-e41b-4231-af2c-a0f2b465e4e7 ]] \r\n",
       "E8 )- ->> E9 [[psysml:196bced0-9581-41ba-9556-fc72f0b07990 ]] : <<variant>>\r\n",
       "}\r\n",
       "@enduml\r\n",
       "\n",
       "PlantUML version 1.2020.13(Sat Jun 13 12:26:38 UTC 2020)\n",
       "(EPL source distribution)\n",
       "Java Runtime: OpenJDK Runtime Environment\n",
       "JVM: OpenJDK 64-Bit Server VM\n",
       "Default Encoding: UTF-8\n",
       "Language: en\n",
       "Country: null\n",
       "--></g></svg>"
      ]
     },
     "execution_count": 23,
     "metadata": {},
     "output_type": "execute_result"
    }
   ],
   "source": [
    "%viz --style=\"STDCOLOR\" --view=\"Default\" \"VariabilityTest\""
   ]
  },
  {
   "cell_type": "code",
   "execution_count": 24,
   "id": "psychological-carry",
   "metadata": {
    "execution": {
     "iopub.execute_input": "2021-03-25T15:07:42.457284Z",
     "iopub.status.busy": "2021-03-25T15:07:42.456743Z",
     "iopub.status.idle": "2021-03-25T15:07:42.695746Z",
     "shell.execute_reply": "2021-03-25T15:07:42.696199Z"
    }
   },
   "outputs": [
    {
     "data": {
      "image/svg+xml": [
       "<?xml version=\"1.0\" encoding=\"UTF-8\" standalone=\"no\"?><svg xmlns=\"http://www.w3.org/2000/svg\" xmlns:xlink=\"http://www.w3.org/1999/xlink\" contentScriptType=\"application/ecmascript\" contentStyleType=\"text/css\" height=\"373px\" preserveAspectRatio=\"none\" style=\"width:362px;height:373px;\" version=\"1.1\" viewBox=\"0 0 362 373\" width=\"362px\" zoomAndPan=\"magnify\"><defs><filter height=\"300%\" id=\"f1fe2hcxx489qu\" width=\"300%\" x=\"-1\" y=\"-1\"><feGaussianBlur result=\"blurOut\" stdDeviation=\"2.0\"/><feColorMatrix in=\"blurOut\" result=\"blurOut2\" type=\"matrix\" values=\"0 0 0 0 0 0 0 0 0 0 0 0 0 0 0 0 0 0 .4 0\"/><feOffset dx=\"4.0\" dy=\"4.0\" in=\"blurOut2\" result=\"blurOut3\"/><feBlend in=\"SourceGraphic\" in2=\"blurOut3\" mode=\"normal\"/></filter></defs><g><!--MD5=[fbc87193dbaf4d95561dea2c320d4a47]\n",
       "cluster E1--><a href=\"psysml:fc405a6c-3061-4540-9673-8b8e766ba6ac\" target=\"_top\" title=\"psysml:fc405a6c-3061-4540-9673-8b8e766ba6ac\" xlink:actuate=\"onRequest\" xlink:href=\"psysml:fc405a6c-3061-4540-9673-8b8e766ba6ac\" xlink:show=\"new\" xlink:title=\"psysml:fc405a6c-3061-4540-9673-8b8e766ba6ac\" xlink:type=\"simple\"><polygon fill=\"#FFFFFF\" filter=\"url(#f1fe2hcxx489qu)\" points=\"16,6,134,6,141,28.2969,340,28.2969,340,361,16,361,16,6\" style=\"stroke: #000000; stroke-width: 1.5;\"/><line style=\"stroke: #000000; stroke-width: 1.5;\" x1=\"16\" x2=\"141\" y1=\"28.2969\" y2=\"28.2969\"/><text fill=\"#000000\" font-family=\"sans-serif\" font-size=\"14\" font-weight=\"bold\" lengthAdjust=\"spacingAndGlyphs\" textLength=\"112\" x=\"20\" y=\"20.9951\">VariabilityTest</text></a><!--MD5=[b4997ac47864f28c2f74865a473b2911]\n",
       "class E2--><a href=\"psysml:dc902210-e855-46b4-a2dd-8255fef19514\" target=\"_top\" title=\"psysml:dc902210-e855-46b4-a2dd-8255fef19514\" xlink:actuate=\"onRequest\" xlink:href=\"psysml:dc902210-e855-46b4-a2dd-8255fef19514\" xlink:show=\"new\" xlink:title=\"psysml:dc902210-e855-46b4-a2dd-8255fef19514\" xlink:type=\"simple\"><rect fill=\"#FEFECE\" filter=\"url(#f1fe2hcxx489qu)\" height=\"58.7422\" id=\"E2\" style=\"stroke: #A80036; stroke-width: 1.5;\" width=\"66\" x=\"145\" y=\"285.5\"/><text fill=\"#000000\" font-family=\"sans-serif\" font-size=\"12\" font-style=\"italic\" lengthAdjust=\"spacingAndGlyphs\" textLength=\"64\" x=\"146\" y=\"301.6387\">«part def»</text><text fill=\"#000000\" font-family=\"sans-serif\" font-size=\"12\" lengthAdjust=\"spacingAndGlyphs\" textLength=\"8\" x=\"174\" y=\"315.6074\">P</text><line style=\"stroke: #A80036; stroke-width: 1.5;\" x1=\"146\" x2=\"210\" y1=\"323.4375\" y2=\"323.4375\"/><text fill=\"#000000\" font-family=\"sans-serif\" font-size=\"11\" lengthAdjust=\"spacingAndGlyphs\" textLength=\"7\" x=\"151\" y=\"337.6479\">a</text></a><!--MD5=[09b614a08d8cba4a07c9adeb5e0fee81]\n",
       "class E3--><a href=\"psysml:b52c8837-30af-42aa-bc51-100eaed5de80\" target=\"_top\" title=\"psysml:b52c8837-30af-42aa-bc51-100eaed5de80\" xlink:actuate=\"onRequest\" xlink:href=\"psysml:b52c8837-30af-42aa-bc51-100eaed5de80\" xlink:show=\"new\" xlink:title=\"psysml:b52c8837-30af-42aa-bc51-100eaed5de80\" xlink:type=\"simple\"><rect fill=\"#FEFECE\" filter=\"url(#f1fe2hcxx489qu)\" height=\"45.9375\" id=\"E3\" style=\"stroke: #A80036; stroke-width: 1.5;\" width=\"66\" x=\"140\" y=\"155\"/><text fill=\"#000000\" font-family=\"sans-serif\" font-size=\"12\" font-style=\"italic\" lengthAdjust=\"spacingAndGlyphs\" textLength=\"64\" x=\"141\" y=\"171.1387\">«part def»</text><text fill=\"#000000\" font-family=\"sans-serif\" font-size=\"12\" lengthAdjust=\"spacingAndGlyphs\" textLength=\"9\" x=\"168.5\" y=\"185.1074\">Q</text><line style=\"stroke: #A80036; stroke-width: 1.5;\" x1=\"141\" x2=\"205\" y1=\"192.9375\" y2=\"192.9375\"/></a><!--MD5=[ebbe1d658d1005bcc118a6aa81145e00]\n",
       "class E4--><a href=\"psysml:f17815b8-46c4-4dd9-bf70-524ba6c03f24\" target=\"_top\" title=\"psysml:f17815b8-46c4-4dd9-bf70-524ba6c03f24\" xlink:actuate=\"onRequest\" xlink:href=\"psysml:f17815b8-46c4-4dd9-bf70-524ba6c03f24\" xlink:show=\"new\" xlink:title=\"psysml:f17815b8-46c4-4dd9-bf70-524ba6c03f24\" xlink:type=\"simple\"><rect fill=\"#FEFECE\" filter=\"url(#f1fe2hcxx489qu)\" height=\"45.9375\" id=\"E4\" style=\"stroke: #A80036; stroke-width: 1.5;\" width=\"95\" x=\"228.5\" y=\"41\"/><text fill=\"#000000\" font-family=\"sans-serif\" font-size=\"12\" font-style=\"italic\" lengthAdjust=\"spacingAndGlyphs\" textLength=\"93\" x=\"229.5\" y=\"57.1387\">«attribute def»</text><text fill=\"#000000\" font-family=\"sans-serif\" font-size=\"12\" lengthAdjust=\"spacingAndGlyphs\" textLength=\"8\" x=\"272\" y=\"71.1074\">B</text><line style=\"stroke: #A80036; stroke-width: 1.5;\" x1=\"229.5\" x2=\"322.5\" y1=\"78.9375\" y2=\"78.9375\"/></a><!--MD5=[270fce915f116d4de14055a7c1d9a0f3]\n",
       "class E5--><a href=\"psysml:b1ebe526-c40e-4c8f-ae74-16f7fcd1bdc9\" target=\"_top\" title=\"psysml:b1ebe526-c40e-4c8f-ae74-16f7fcd1bdc9\" xlink:actuate=\"onRequest\" xlink:href=\"psysml:b1ebe526-c40e-4c8f-ae74-16f7fcd1bdc9\" xlink:show=\"new\" xlink:title=\"psysml:b1ebe526-c40e-4c8f-ae74-16f7fcd1bdc9\" xlink:type=\"simple\"><rect fill=\"#FEFECE\" filter=\"url(#f1fe2hcxx489qu)\" height=\"45.9375\" id=\"E5\" style=\"stroke: #A80036; stroke-width: 1.5;\" width=\"66\" x=\"241\" y=\"155\"/><text fill=\"#000000\" font-family=\"sans-serif\" font-size=\"12\" font-style=\"italic\" lengthAdjust=\"spacingAndGlyphs\" textLength=\"64\" x=\"242\" y=\"171.1387\">«part def»</text><text fill=\"#000000\" font-family=\"sans-serif\" font-size=\"12\" lengthAdjust=\"spacingAndGlyphs\" textLength=\"8\" x=\"270\" y=\"185.1074\">V</text><line style=\"stroke: #A80036; stroke-width: 1.5;\" x1=\"242\" x2=\"306\" y1=\"192.9375\" y2=\"192.9375\"/></a><!--MD5=[60a26617385b1d2d0262a64233df1f8d]\n",
       "class E6--><a href=\"psysml:05419eac-6c2b-46e9-bd3b-b31f448a077a\" target=\"_top\" title=\"psysml:05419eac-6c2b-46e9-bd3b-b31f448a077a\" xlink:actuate=\"onRequest\" xlink:href=\"psysml:05419eac-6c2b-46e9-bd3b-b31f448a077a\" xlink:show=\"new\" xlink:title=\"psysml:05419eac-6c2b-46e9-bd3b-b31f448a077a\" xlink:type=\"simple\"><rect fill=\"#FEFECE\" filter=\"url(#f1fe2hcxx489qu)\" height=\"59.6875\" id=\"E6\" rx=\"10\" ry=\"10\" style=\"stroke: #A80036; stroke-width: 1.5;\" width=\"78\" x=\"246\" y=\"285\"/><text fill=\"#000000\" font-family=\"sans-serif\" font-size=\"12\" font-style=\"italic\" lengthAdjust=\"spacingAndGlyphs\" textLength=\"40\" x=\"265\" y=\"301.1387\">«part»</text><text fill=\"#000000\" font-family=\"sans-serif\" font-size=\"12\" lengthAdjust=\"spacingAndGlyphs\" textLength=\"23\" x=\"273.5\" y=\"315.1074\">x: Q</text><line style=\"stroke: #A80036; stroke-width: 1.5;\" x1=\"247\" x2=\"323\" y1=\"322.9375\" y2=\"322.9375\"/><path d=\"M253.9167,327.8542 L253.9167,337.0208 L254.8333,337.0208 L254.8333,327.8542 M257.5833,327.8542 L257.5833,337.0208 L264.9167,332.4375 L257.5833,327.8542 L258.5,329.2292 L263.5417,332.4375 L258.5,335.6458 L258.5,329.2292 \" fill=\"#000000\" style=\"stroke: ; stroke-width: 0.0; stroke-dasharray: ;\"/><text fill=\"#000000\" font-family=\"sans-serif\" font-size=\"11\" lengthAdjust=\"spacingAndGlyphs\" textLength=\"23\" x=\"269\" y=\"338.0933\">b: B</text><text fill=\"#000000\" font-family=\"sans-serif\" font-size=\"11\" lengthAdjust=\"spacingAndGlyphs\" text-decoration=\"line-through\" textLength=\"22\" x=\"296\" y=\"338.0933\">P::a</text></a><!--MD5=[2156ba9850f5573cc1fc38a6a4b2f02b]\n",
       "class E7--><a href=\"psysml:bd66bfa4-4cf8-4e62-98d6-c8549fcb8467\" target=\"_top\" title=\"psysml:bd66bfa4-4cf8-4e62-98d6-c8549fcb8467\" xlink:actuate=\"onRequest\" xlink:href=\"psysml:bd66bfa4-4cf8-4e62-98d6-c8549fcb8467\" xlink:show=\"new\" xlink:title=\"psysml:bd66bfa4-4cf8-4e62-98d6-c8549fcb8467\" xlink:type=\"simple\"><rect fill=\"#FEFECE\" filter=\"url(#f1fe2hcxx489qu)\" height=\"45.9375\" id=\"E7\" rx=\"10\" ry=\"10\" style=\"stroke: #A80036; stroke-width: 1.5;\" width=\"42\" x=\"151\" y=\"41\"/><text fill=\"#000000\" font-family=\"sans-serif\" font-size=\"12\" font-style=\"italic\" lengthAdjust=\"spacingAndGlyphs\" textLength=\"40\" x=\"152\" y=\"57.1387\">«part»</text><text fill=\"#000000\" font-family=\"sans-serif\" font-size=\"12\" lengthAdjust=\"spacingAndGlyphs\" textLength=\"25\" x=\"159.5\" y=\"71.1074\">q: Q</text><line style=\"stroke: #A80036; stroke-width: 1.5;\" x1=\"152\" x2=\"192\" y1=\"78.9375\" y2=\"78.9375\"/></a><!--MD5=[b9389687b975829384b498ac4b7476b2]\n",
       "class E8--><a href=\"psysml:d11ba367-2498-4d3b-bf9a-6df5f0bc7068\" target=\"_top\" title=\"psysml:d11ba367-2498-4d3b-bf9a-6df5f0bc7068\" xlink:actuate=\"onRequest\" xlink:href=\"psysml:d11ba367-2498-4d3b-bf9a-6df5f0bc7068\" xlink:show=\"new\" xlink:title=\"psysml:d11ba367-2498-4d3b-bf9a-6df5f0bc7068\" xlink:type=\"simple\"><rect fill=\"#FEFECE\" filter=\"url(#f1fe2hcxx489qu)\" height=\"59.9063\" id=\"E8\" rx=\"10\" ry=\"10\" style=\"stroke: #A80036; stroke-width: 1.5;\" width=\"70\" x=\"35\" y=\"148\"/><text fill=\"#000000\" font-family=\"sans-serif\" font-size=\"12\" font-style=\"italic\" lengthAdjust=\"spacingAndGlyphs\" textLength=\"68\" x=\"36\" y=\"164.1387\">«variation»</text><text fill=\"#000000\" font-family=\"sans-serif\" font-size=\"12\" font-style=\"italic\" lengthAdjust=\"spacingAndGlyphs\" textLength=\"40\" x=\"50\" y=\"178.1074\">«part»</text><text fill=\"#000000\" font-family=\"sans-serif\" font-size=\"12\" lengthAdjust=\"spacingAndGlyphs\" textLength=\"22\" x=\"59\" y=\"192.0762\">v: P</text><line style=\"stroke: #A80036; stroke-width: 1.5;\" x1=\"36\" x2=\"104\" y1=\"199.9063\" y2=\"199.9063\"/></a><!--MD5=[fd4143e9d270a159db93a4ea2a975926]\n",
       "class E9--><a href=\"psysml:72597939-8390-466d-9479-39928477d122\" target=\"_top\" title=\"psysml:72597939-8390-466d-9479-39928477d122\" xlink:actuate=\"onRequest\" xlink:href=\"psysml:72597939-8390-466d-9479-39928477d122\" xlink:show=\"new\" xlink:title=\"psysml:72597939-8390-466d-9479-39928477d122\" xlink:type=\"simple\"><rect fill=\"#FEFECE\" filter=\"url(#f1fe2hcxx489qu)\" height=\"59.6875\" id=\"E9\" rx=\"10\" ry=\"10\" style=\"stroke: #A80036; stroke-width: 1.5;\" width=\"78\" x=\"32\" y=\"285\"/><text fill=\"#000000\" font-family=\"sans-serif\" font-size=\"12\" font-style=\"italic\" lengthAdjust=\"spacingAndGlyphs\" textLength=\"40\" x=\"51\" y=\"301.1387\">«part»</text><text fill=\"#000000\" font-family=\"sans-serif\" font-size=\"12\" lengthAdjust=\"spacingAndGlyphs\" textLength=\"6\" x=\"68\" y=\"315.1074\">y</text><line style=\"stroke: #A80036; stroke-width: 1.5;\" x1=\"33\" x2=\"109\" y1=\"322.9375\" y2=\"322.9375\"/><path d=\"M39.9167,327.8542 L39.9167,337.0208 L40.8333,337.0208 L40.8333,327.8542 M43.5833,327.8542 L43.5833,337.0208 L50.9167,332.4375 L43.5833,327.8542 L44.5,329.2292 L49.5417,332.4375 L44.5,335.6458 L44.5,329.2292 \" fill=\"#000000\" style=\"stroke: ; stroke-width: 0.0; stroke-dasharray: ;\"/><text fill=\"#000000\" font-family=\"sans-serif\" font-size=\"11\" lengthAdjust=\"spacingAndGlyphs\" textLength=\"23\" x=\"55\" y=\"338.0933\">b: B</text><text fill=\"#000000\" font-family=\"sans-serif\" font-size=\"11\" lengthAdjust=\"spacingAndGlyphs\" text-decoration=\"line-through\" textLength=\"22\" x=\"82\" y=\"338.0933\">P::a</text></a><!--MD5=[05d275557350bfb9b23a4ef7222b4c39]\n",
       "link E3 to E2--><a href=\"psysml:0057605f-0b36-40b5-a833-d8040f0d9e74\" target=\"_top\" title=\"psysml:0057605f-0b36-40b5-a833-d8040f0d9e74\" xlink:actuate=\"onRequest\" xlink:href=\"psysml:0057605f-0b36-40b5-a833-d8040f0d9e74\" xlink:show=\"new\" xlink:title=\"psysml:0057605f-0b36-40b5-a833-d8040f0d9e74\" xlink:type=\"simple\"><path d=\"M173.83,201.29 C174.47,218.57 175.38,243.16 176.18,264.96 \" fill=\"none\" id=\"E3-&gt;E2\" style=\"stroke: #A80036; stroke-width: 1.0;\"/><polygon fill=\"none\" points=\"183.18,264.83,176.93,285.08,169.19,265.35,183.18,264.83\" style=\"stroke: #A80036; stroke-width: 1.0;\"/></a><!--MD5=[15ebcb19ae302d9b601edb458606d402]\n",
       "link E5 to E2--><a href=\"psysml:922ee1f9-edf0-4204-bf0f-0435eb6f66de\" target=\"_top\" title=\"psysml:922ee1f9-edf0-4204-bf0f-0435eb6f66de\" xlink:actuate=\"onRequest\" xlink:href=\"psysml:922ee1f9-edf0-4204-bf0f-0435eb6f66de\" xlink:show=\"new\" xlink:title=\"psysml:922ee1f9-edf0-4204-bf0f-0435eb6f66de\" xlink:type=\"simple\"><path d=\"M258.15,201.29 C245.16,219.55 226.37,245.99 210.24,268.66 \" fill=\"none\" id=\"E5-&gt;E2\" style=\"stroke: #A80036; stroke-width: 1.0;\"/><polygon fill=\"none\" points=\"215.86,272.83,198.57,285.08,204.45,264.72,215.86,272.83\" style=\"stroke: #A80036; stroke-width: 1.0;\"/></a><!--MD5=[9120cf2e5df3bff93db8f754bbbc09b4]\n",
       "link E5 to E6--><a href=\"psysml:1c0ef759-8c31-4a4a-b0e7-e872c2806a04\" target=\"_top\" title=\"psysml:1c0ef759-8c31-4a4a-b0e7-e872c2806a04\" xlink:actuate=\"onRequest\" xlink:href=\"psysml:1c0ef759-8c31-4a4a-b0e7-e872c2806a04\" xlink:show=\"new\" xlink:title=\"psysml:1c0ef759-8c31-4a4a-b0e7-e872c2806a04\" xlink:type=\"simple\"><path d=\"M276.63,211.28 C278.18,230.26 280.14,254.38 281.78,274.49 \" fill=\"none\" id=\"E5-E6\" style=\"stroke: #A80036; stroke-width: 1.0;\"/><polygon fill=\"#A80036\" points=\"282.6,284.58,284.9389,276.3624,278.9588,276.8507,282.6,284.58\" style=\"stroke: #A80036; stroke-width: 1.0;\"/><path d=\"M267.636,205.0347 A9,9 0 0 0 284.4963 203.682\" fill=\"none\" style=\"stroke: #A80036; stroke-width: 1.5;\"/><text fill=\"#000000\" font-family=\"sans-serif\" font-size=\"13\" lengthAdjust=\"spacingAndGlyphs\" textLength=\"60\" x=\"281\" y=\"251.0669\">«variant»</text></a><!--MD5=[14ccda38c055a5c0da953d572bc50960]\n",
       "link E7 to E3--><a href=\"psysml:6aa04dcc-8d2e-4853-a2ca-5b94913b0044\" target=\"_top\" title=\"psysml:6aa04dcc-8d2e-4853-a2ca-5b94913b0044\" xlink:actuate=\"onRequest\" xlink:href=\"psysml:6aa04dcc-8d2e-4853-a2ca-5b94913b0044\" xlink:show=\"new\" xlink:title=\"psysml:6aa04dcc-8d2e-4853-a2ca-5b94913b0044\" xlink:type=\"simple\"><path d=\"M172.2,87.13 C172.32,100.7 172.48,118.53 172.62,134.73 \" fill=\"none\" id=\"E7-&gt;E3\" style=\"stroke: #A80036; stroke-width: 1.0;\"/><polygon fill=\"#FFFFFF\" points=\"172.8,154.92,165.6374,135.9807,179.6369,135.8607,172.8,154.92\" style=\"stroke: #A80036; stroke-width: 1.0;\"/><ellipse cx=\"167.5885\" cy=\"130.2638\" fill=\"#A80036\" rx=\"2\" ry=\"2\" style=\"stroke: #A80036; stroke-width: 1.0;\"/><ellipse cx=\"177.5881\" cy=\"130.1781\" fill=\"#A80036\" rx=\"2\" ry=\"2\" style=\"stroke: #A80036; stroke-width: 1.0;\"/></a><!--MD5=[f1f3f9f2fc535e6147756cb86a7f2e32]\n",
       "link E8 to E2--><a href=\"psysml:62998d3a-e41b-4231-af2c-a0f2b465e4e7\" target=\"_top\" title=\"psysml:62998d3a-e41b-4231-af2c-a0f2b465e4e7\" xlink:actuate=\"onRequest\" xlink:href=\"psysml:62998d3a-e41b-4231-af2c-a0f2b465e4e7\" xlink:show=\"new\" xlink:title=\"psysml:62998d3a-e41b-4231-af2c-a0f2b465e4e7\" xlink:type=\"simple\"><path d=\"M105.35,204.11 C117.33,213.78 130.17,225.51 140,238 C146.93,246.8 153.09,257.06 158.33,267.15 \" fill=\"none\" id=\"E8-&gt;E2\" style=\"stroke: #A80036; stroke-width: 1.0;\"/><polygon fill=\"#FFFFFF\" points=\"166.98,285.32,152.4904,271.1761,165.13,265.1562,166.98,285.32\" style=\"stroke: #A80036; stroke-width: 1.0;\"/><ellipse cx=\"151.8451\" cy=\"265.1699\" fill=\"#A80036\" rx=\"2\" ry=\"2\" style=\"stroke: #A80036; stroke-width: 1.0;\"/><ellipse cx=\"160.8734\" cy=\"260.8701\" fill=\"#A80036\" rx=\"2\" ry=\"2\" style=\"stroke: #A80036; stroke-width: 1.0;\"/></a><!--MD5=[ed10624c06dd9a4fa49ccf290e8b16a8]\n",
       "link E8 to E9--><a href=\"psysml:196bced0-9581-41ba-9556-fc72f0b07990\" target=\"_top\" title=\"psysml:196bced0-9581-41ba-9556-fc72f0b07990\" xlink:actuate=\"onRequest\" xlink:href=\"psysml:196bced0-9581-41ba-9556-fc72f0b07990\" xlink:show=\"new\" xlink:title=\"psysml:196bced0-9581-41ba-9556-fc72f0b07990\" xlink:type=\"simple\"><path d=\"M70.29,218.31 C70.42,236.06 70.58,256.98 70.71,274.73 \" fill=\"none\" id=\"E8-E9\" style=\"stroke: #A80036; stroke-width: 1.0;\"/><polygon fill=\"#A80036\" points=\"70.78,284.76,73.7228,276.7388,67.7229,276.7816,70.78,284.76\" style=\"stroke: #A80036; stroke-width: 1.0;\"/><path d=\"M61.785,211.4285 A9,9 0 0 0 78.699 211.3077\" fill=\"none\" style=\"stroke: #A80036; stroke-width: 1.5;\"/><text fill=\"#000000\" font-family=\"sans-serif\" font-size=\"13\" lengthAdjust=\"spacingAndGlyphs\" textLength=\"60\" x=\"71\" y=\"251.0669\">«variant»</text></a><!--MD5=[9f66aebb26613d519c60971046c42b17]\n",
       "@startuml\r\n",
       "skinparam wrapWidth 300\r\n",
       "hide circle\r\n",
       "\r\n",
       "package \"VariabilityTest\" as E1  [[psysml:fc405a6c-3061-4540-9673-8b8e766ba6ac ]]  {\r\n",
       "comp def \"P\" as E2  <<(T,blue)part def>> [[psysml:dc902210-e855-46b4-a2dd-8255fef19514 ]] {\r\n",
       "a\r\n",
       "}\r\n",
       "comp def \"Q\" as E3  <<(T,blue)part def>> [[psysml:b52c8837-30af-42aa-bc51-100eaed5de80 ]] {\r\n",
       "}\r\n",
       "comp def \"B\" as E4  <<(T,blue)attribute def>> [[psysml:f17815b8-46c4-4dd9-bf70-524ba6c03f24 ]] {\r\n",
       "}\r\n",
       "comp def \"V\" as E5  <<(T,blue)part def>> [[psysml:b1ebe526-c40e-4c8f-ae74-16f7fcd1bdc9 ]] {\r\n",
       "}\r\n",
       "comp usage \"x: Q\" as E6  <<(T,blue)part>> [[psysml:05419eac-6c2b-46e9-bd3b-b31f448a077a ]] {\r\n",
       "<&bar-trig> b: B <s>P::a</s>\r\n",
       "}\r\n",
       "comp usage \"q: Q\" as E7  <<(T,blue)part>> [[psysml:bd66bfa4-4cf8-4e62-98d6-c8549fcb8467 ]] {\r\n",
       "}\r\n",
       "comp usage \"v: P\" as E8  <<variation>>\\n <<(T,blue)part>> [[psysml:d11ba367-2498-4d3b-bf9a-6df5f0bc7068 ]] {\r\n",
       "}\r\n",
       "comp usage \"y\" as E9  <<(T,blue)part>> [[psysml:72597939-8390-466d-9479-39928477d122 ]] {\r\n",
       "<&bar-trig> b: B <s>P::a</s>\r\n",
       "}\r\n",
       "E3 - -|> E2 [[psysml:0057605f-0b36-40b5-a833-d8040f0d9e74 ]] \r\n",
       "E5 - -|> E2 [[psysml:922ee1f9-edf0-4204-bf0f-0435eb6f66de ]] \r\n",
       "E5 )- ->> E6 [[psysml:1c0ef759-8c31-4a4a-b0e7-e872c2806a04 ]] : <<variant>>\r\n",
       "E7 - -:|> E3 [[psysml:6aa04dcc-8d2e-4853-a2ca-5b94913b0044 ]] \r\n",
       "E8 - -:|> E2 [[psysml:62998d3a-e41b-4231-af2c-a0f2b465e4e7 ]] \r\n",
       "E8 )- ->> E9 [[psysml:196bced0-9581-41ba-9556-fc72f0b07990 ]] : <<variant>>\r\n",
       "}\r\n",
       "@enduml\r\n",
       "\n",
       "PlantUML version 1.2020.13(Sat Jun 13 12:26:38 UTC 2020)\n",
       "(EPL source distribution)\n",
       "Java Runtime: OpenJDK Runtime Environment\n",
       "JVM: OpenJDK 64-Bit Server VM\n",
       "Default Encoding: UTF-8\n",
       "Language: en\n",
       "Country: null\n",
       "--></g></svg>"
      ]
     },
     "execution_count": 24,
     "metadata": {},
     "output_type": "execute_result"
    }
   ],
   "source": [
    "%viz --style=\"STDCOLOR\" --view=\"Tree\" \"VariabilityTest\""
   ]
  },
  {
   "cell_type": "code",
   "execution_count": 25,
   "id": "trying-survival",
   "metadata": {
    "execution": {
     "iopub.execute_input": "2021-03-25T15:07:42.746189Z",
     "iopub.status.busy": "2021-03-25T15:07:42.745508Z",
     "iopub.status.idle": "2021-03-25T15:07:42.751195Z",
     "shell.execute_reply": "2021-03-25T15:07:42.750856Z"
    }
   },
   "outputs": [
    {
     "data": {
      "image/svg+xml": [
       "<?xml version=\"1.0\" encoding=\"UTF-8\" standalone=\"no\"?><svg xmlns=\"http://www.w3.org/2000/svg\" xmlns:xlink=\"http://www.w3.org/1999/xlink\" contentScriptType=\"application/ecmascript\" contentStyleType=\"text/css\" height=\"12px\" preserveAspectRatio=\"none\" style=\"width:12px;height:12px;\" version=\"1.1\" viewBox=\"0 0 12 12\" width=\"12px\" zoomAndPan=\"magnify\"><defs/><g><!--MD5=[aeeef50f102b80d730deb6443d14f702]\n",
       "@startuml\r\n",
       "skinparam wrapWidth 300\r\n",
       "hide circle\r\n",
       "\r\n",
       "@enduml\r\n",
       "\n",
       "PlantUML version 1.2020.13(Sat Jun 13 12:26:38 UTC 2020)\n",
       "(EPL source distribution)\n",
       "Java Runtime: OpenJDK Runtime Environment\n",
       "JVM: OpenJDK 64-Bit Server VM\n",
       "Default Encoding: UTF-8\n",
       "Language: en\n",
       "Country: null\n",
       "--></g></svg>"
      ]
     },
     "execution_count": 25,
     "metadata": {},
     "output_type": "execute_result"
    }
   ],
   "source": [
    "%viz --style=\"STDCOLOR\" --view=\"State\" \"VariabilityTest\""
   ]
  },
  {
   "cell_type": "code",
   "execution_count": 26,
   "id": "olive-embassy",
   "metadata": {
    "execution": {
     "iopub.execute_input": "2021-03-25T15:07:42.801826Z",
     "iopub.status.busy": "2021-03-25T15:07:42.801423Z",
     "iopub.status.idle": "2021-03-25T15:07:42.968900Z",
     "shell.execute_reply": "2021-03-25T15:07:42.967009Z"
    }
   },
   "outputs": [
    {
     "data": {
      "image/svg+xml": [
       "<?xml version=\"1.0\" encoding=\"UTF-8\" standalone=\"no\"?><svg xmlns=\"http://www.w3.org/2000/svg\" xmlns:xlink=\"http://www.w3.org/1999/xlink\" contentScriptType=\"application/ecmascript\" contentStyleType=\"text/css\" height=\"461px\" preserveAspectRatio=\"none\" style=\"width:817px;height:461px;\" version=\"1.1\" viewBox=\"0 0 817 461\" width=\"817px\" zoomAndPan=\"magnify\"><defs><filter height=\"300%\" id=\"f1uvanep24og3w\" width=\"300%\" x=\"-1\" y=\"-1\"><feGaussianBlur result=\"blurOut\" stdDeviation=\"2.0\"/><feColorMatrix in=\"blurOut\" result=\"blurOut2\" type=\"matrix\" values=\"0 0 0 0 0 0 0 0 0 0 0 0 0 0 0 0 0 0 .4 0\"/><feOffset dx=\"4.0\" dy=\"4.0\" in=\"blurOut2\" result=\"blurOut3\"/><feBlend in=\"SourceGraphic\" in2=\"blurOut3\" mode=\"normal\"/></filter></defs><g><!--MD5=[fbc87193dbaf4d95561dea2c320d4a47]\n",
       "cluster E1--><a href=\"psysml:fc405a6c-3061-4540-9673-8b8e766ba6ac\" target=\"_top\" title=\"psysml:fc405a6c-3061-4540-9673-8b8e766ba6ac\" xlink:actuate=\"onRequest\" xlink:href=\"psysml:fc405a6c-3061-4540-9673-8b8e766ba6ac\" xlink:show=\"new\" xlink:title=\"psysml:fc405a6c-3061-4540-9673-8b8e766ba6ac\" xlink:type=\"simple\"><polygon fill=\"#FFFFFF\" filter=\"url(#f1uvanep24og3w)\" points=\"16,6,134,6,141,28.2969,795,28.2969,795,449,16,449,16,6\" style=\"stroke: #000000; stroke-width: 1.5;\"/><line style=\"stroke: #000000; stroke-width: 1.5;\" x1=\"16\" x2=\"141\" y1=\"28.2969\" y2=\"28.2969\"/><text fill=\"#000000\" font-family=\"sans-serif\" font-size=\"14\" font-weight=\"bold\" lengthAdjust=\"spacingAndGlyphs\" textLength=\"112\" x=\"20\" y=\"20.9951\">VariabilityTest</text></a><!--MD5=[e4f7fae6ed58524ba242bb0b0d3be6b7]\n",
       "cluster E2--><a href=\"psysml:dc902210-e855-46b4-a2dd-8255fef19514\" target=\"_top\" title=\"psysml:dc902210-e855-46b4-a2dd-8255fef19514\" xlink:actuate=\"onRequest\" xlink:href=\"psysml:dc902210-e855-46b4-a2dd-8255fef19514\" xlink:show=\"new\" xlink:title=\"psysml:dc902210-e855-46b4-a2dd-8255fef19514\" xlink:type=\"simple\"><rect fill=\"#FFFFFF\" filter=\"url(#f1uvanep24og3w)\" height=\"126\" id=\"E2\" style=\"stroke: #A80036; stroke-width: 1.5;\" width=\"143\" x=\"361\" y=\"291\"/><rect fill=\"#FEFECE\" height=\"37.9375\" style=\"stroke: #A80036; stroke-width: 1.5;\" width=\"143\" x=\"361\" y=\"291\"/><text fill=\"#000000\" font-family=\"sans-serif\" font-size=\"12\" font-style=\"italic\" lengthAdjust=\"spacingAndGlyphs\" textLength=\"64\" x=\"400.5\" y=\"307.1387\">«part def»</text><text fill=\"#000000\" font-family=\"sans-serif\" font-size=\"12\" lengthAdjust=\"spacingAndGlyphs\" textLength=\"8\" x=\"428.5\" y=\"321.1074\">P</text></a><!--MD5=[14e3b0961a2654348d326746436168a1]\n",
       "cluster E6--><a href=\"psysml:b1ebe526-c40e-4c8f-ae74-16f7fcd1bdc9\" target=\"_top\" title=\"psysml:b1ebe526-c40e-4c8f-ae74-16f7fcd1bdc9\" xlink:actuate=\"onRequest\" xlink:href=\"psysml:b1ebe526-c40e-4c8f-ae74-16f7fcd1bdc9\" xlink:show=\"new\" xlink:title=\"psysml:b1ebe526-c40e-4c8f-ae74-16f7fcd1bdc9\" xlink:type=\"simple\"><rect fill=\"#FFFFFF\" filter=\"url(#f1uvanep24og3w)\" height=\"194\" id=\"E6\" style=\"stroke: #A80036; stroke-width: 1.5;\" width=\"186\" x=\"577\" y=\"57\"/><rect fill=\"#FEFECE\" height=\"37.9375\" style=\"stroke: #A80036; stroke-width: 1.5;\" width=\"186\" x=\"577\" y=\"57\"/><text fill=\"#000000\" font-family=\"sans-serif\" font-size=\"12\" font-style=\"italic\" lengthAdjust=\"spacingAndGlyphs\" textLength=\"64\" x=\"638\" y=\"73.1387\">«part def»</text><text fill=\"#000000\" font-family=\"sans-serif\" font-size=\"12\" lengthAdjust=\"spacingAndGlyphs\" textLength=\"8\" x=\"666\" y=\"87.1074\">V</text></a><!--MD5=[168fadf3d0c3fd93dd5d6da1b1d7ab76]\n",
       "cluster E7--><a href=\"psysml:05419eac-6c2b-46e9-bd3b-b31f448a077a\" target=\"_top\" title=\"psysml:05419eac-6c2b-46e9-bd3b-b31f448a077a\" xlink:actuate=\"onRequest\" xlink:href=\"psysml:05419eac-6c2b-46e9-bd3b-b31f448a077a\" xlink:show=\"new\" xlink:title=\"psysml:05419eac-6c2b-46e9-bd3b-b31f448a077a\" xlink:type=\"simple\"><rect fill=\"#FFFFFF\" filter=\"url(#f1uvanep24og3w)\" height=\"95\" id=\"E7\" rx=\"10\" ry=\"10\" style=\"stroke: #A80036; stroke-width: 1.5;\" width=\"114\" x=\"617\" y=\"124\"/><rect fill=\"#FEFECE\" height=\"23.9688\" rx=\"10\" ry=\"10\" style=\"stroke: #FEFECE; stroke-width: 1.5;\" width=\"114\" x=\"617\" y=\"124\"/><rect fill=\"#FEFECE\" height=\"10\" style=\"stroke: #FEFECE; stroke-width: 1.5;\" width=\"114\" x=\"617\" y=\"137.9688\"/><rect fill=\"none\" height=\"95\" id=\"E7\" rx=\"10\" ry=\"10\" style=\"stroke: #A80036; stroke-width: 1.5;\" width=\"114\" x=\"617\" y=\"124\"/><text fill=\"#000000\" font-family=\"sans-serif\" font-size=\"12\" lengthAdjust=\"spacingAndGlyphs\" textLength=\"23\" x=\"662.5\" y=\"140.1387\">x: Q</text><line style=\"stroke: #A80036; stroke-width: 1.0;\" x1=\"617\" x2=\"731\" y1=\"147.9688\" y2=\"147.9688\"/></a><!--MD5=[a84b4591f868c1fa4a211716a82f2f0d]\n",
       "cluster E10--><a href=\"psysml:d11ba367-2498-4d3b-bf9a-6df5f0bc7068\" target=\"_top\" title=\"psysml:d11ba367-2498-4d3b-bf9a-6df5f0bc7068\" xlink:actuate=\"onRequest\" xlink:href=\"psysml:d11ba367-2498-4d3b-bf9a-6df5f0bc7068\" xlink:show=\"new\" xlink:title=\"psysml:d11ba367-2498-4d3b-bf9a-6df5f0bc7068\" xlink:type=\"simple\"><rect fill=\"#FFFFFF\" filter=\"url(#f1uvanep24og3w)\" height=\"178\" id=\"E10\" rx=\"10\" ry=\"10\" style=\"stroke: #A80036; stroke-width: 1.5;\" width=\"162\" x=\"383\" y=\"65\"/><rect fill=\"#FEFECE\" height=\"37.9375\" rx=\"10\" ry=\"10\" style=\"stroke: #FEFECE; stroke-width: 1.5;\" width=\"162\" x=\"383\" y=\"65\"/><rect fill=\"#FEFECE\" height=\"10\" style=\"stroke: #FEFECE; stroke-width: 1.5;\" width=\"162\" x=\"383\" y=\"92.9375\"/><rect fill=\"none\" height=\"178\" id=\"E10\" rx=\"10\" ry=\"10\" style=\"stroke: #A80036; stroke-width: 1.5;\" width=\"162\" x=\"383\" y=\"65\"/><text fill=\"#000000\" font-family=\"sans-serif\" font-size=\"12\" font-style=\"italic\" lengthAdjust=\"spacingAndGlyphs\" textLength=\"68\" x=\"430\" y=\"81.1387\">«variation»</text><text fill=\"#000000\" font-family=\"sans-serif\" font-size=\"12\" lengthAdjust=\"spacingAndGlyphs\" textLength=\"22\" x=\"453\" y=\"95.1074\">v: P</text><line style=\"stroke: #A80036; stroke-width: 1.0;\" x1=\"383\" x2=\"545\" y1=\"102.9375\" y2=\"102.9375\"/></a><!--MD5=[917b9dd0c7eca3ee5f47219d1a84c0ad]\n",
       "cluster E11--><a href=\"psysml:72597939-8390-466d-9479-39928477d122\" target=\"_top\" title=\"psysml:72597939-8390-466d-9479-39928477d122\" xlink:actuate=\"onRequest\" xlink:href=\"psysml:72597939-8390-466d-9479-39928477d122\" xlink:show=\"new\" xlink:title=\"psysml:72597939-8390-466d-9479-39928477d122\" xlink:type=\"simple\"><rect fill=\"#FFFFFF\" filter=\"url(#f1uvanep24og3w)\" height=\"95\" id=\"E11\" rx=\"10\" ry=\"10\" style=\"stroke: #A80036; stroke-width: 1.5;\" width=\"114\" x=\"407\" y=\"124\"/><rect fill=\"#FEFECE\" height=\"23.9688\" rx=\"10\" ry=\"10\" style=\"stroke: #FEFECE; stroke-width: 1.5;\" width=\"114\" x=\"407\" y=\"124\"/><rect fill=\"#FEFECE\" height=\"10\" style=\"stroke: #FEFECE; stroke-width: 1.5;\" width=\"114\" x=\"407\" y=\"137.9688\"/><rect fill=\"none\" height=\"95\" id=\"E11\" rx=\"10\" ry=\"10\" style=\"stroke: #A80036; stroke-width: 1.5;\" width=\"114\" x=\"407\" y=\"124\"/><text fill=\"#000000\" font-family=\"sans-serif\" font-size=\"12\" lengthAdjust=\"spacingAndGlyphs\" textLength=\"6\" x=\"461\" y=\"140.1387\">y</text><line style=\"stroke: #A80036; stroke-width: 1.0;\" x1=\"407\" x2=\"521\" y1=\"147.9688\" y2=\"147.9688\"/></a><!--MD5=[270fce915f116d4de14055a7c1d9a0f3]\n",
       "class E5--><a href=\"psysml:f17815b8-46c4-4dd9-bf70-524ba6c03f24\" target=\"_top\" title=\"psysml:f17815b8-46c4-4dd9-bf70-524ba6c03f24\" xlink:actuate=\"onRequest\" xlink:href=\"psysml:f17815b8-46c4-4dd9-bf70-524ba6c03f24\" xlink:show=\"new\" xlink:title=\"psysml:f17815b8-46c4-4dd9-bf70-524ba6c03f24\" xlink:type=\"simple\"><rect fill=\"#FEFECE\" filter=\"url(#f1uvanep24og3w)\" height=\"53.9375\" id=\"E5\" style=\"stroke: #A80036; stroke-width: 1.5;\" width=\"143\" x=\"223.5\" y=\"154\"/><text fill=\"#000000\" font-family=\"sans-serif\" font-size=\"12\" font-style=\"italic\" lengthAdjust=\"spacingAndGlyphs\" textLength=\"141\" x=\"224.5\" y=\"170.1387\">«(T,blue)attribute def»</text><text fill=\"#000000\" font-family=\"sans-serif\" font-size=\"12\" lengthAdjust=\"spacingAndGlyphs\" textLength=\"8\" x=\"291\" y=\"184.1074\">B</text><line style=\"stroke: #A80036; stroke-width: 1.5;\" x1=\"224.5\" x2=\"365.5\" y1=\"191.9375\" y2=\"191.9375\"/><line style=\"stroke: #A80036; stroke-width: 1.5;\" x1=\"224.5\" x2=\"365.5\" y1=\"199.9375\" y2=\"199.9375\"/></a><g id=\"E1.E2.E3\"><a href=\"psysml:6681b89b-422d-48d0-bc41-7a96ec587b7c\" target=\"_top\" title=\"psysml:6681b89b-422d-48d0-bc41-7a96ec587b7c\" xlink:actuate=\"onRequest\" xlink:href=\"psysml:6681b89b-422d-48d0-bc41-7a96ec587b7c\" xlink:show=\"new\" xlink:title=\"psysml:6681b89b-422d-48d0-bc41-7a96ec587b7c\" xlink:type=\"simple\"><rect fill=\"#FEFECE\" filter=\"url(#f1uvanep24og3w)\" height=\"42.9375\" id=\"E3\" rx=\"10\" ry=\"10\" style=\"stroke: #A80036; stroke-width: 1.5;\" width=\"76\" x=\"404\" y=\"350\"/><text fill=\"#000000\" font-family=\"sans-serif\" font-size=\"12\" font-style=\"italic\" lengthAdjust=\"spacingAndGlyphs\" textLength=\"69\" x=\"407.5\" y=\"366.1387\">«attribute»</text><text fill=\"#000000\" font-family=\"sans-serif\" font-size=\"12\" lengthAdjust=\"spacingAndGlyphs\" textLength=\"8\" x=\"438\" y=\"380.1074\">a</text></a></g><g id=\"E1.E4\"><a href=\"psysml:b52c8837-30af-42aa-bc51-100eaed5de80\" target=\"_top\" title=\"psysml:b52c8837-30af-42aa-bc51-100eaed5de80\" xlink:actuate=\"onRequest\" xlink:href=\"psysml:b52c8837-30af-42aa-bc51-100eaed5de80\" xlink:show=\"new\" xlink:title=\"psysml:b52c8837-30af-42aa-bc51-100eaed5de80\" xlink:type=\"simple\"><rect fill=\"#FEFECE\" filter=\"url(#f1uvanep24og3w)\" height=\"42.9375\" id=\"E4\" style=\"stroke: #A80036; stroke-width: 1.5;\" width=\"71\" x=\"117.5\" y=\"159.5\"/><text fill=\"#000000\" font-family=\"sans-serif\" font-size=\"12\" font-style=\"italic\" lengthAdjust=\"spacingAndGlyphs\" textLength=\"64\" x=\"121\" y=\"175.6387\">«part def»</text><text fill=\"#000000\" font-family=\"sans-serif\" font-size=\"12\" lengthAdjust=\"spacingAndGlyphs\" textLength=\"9\" x=\"148.5\" y=\"189.6074\">Q</text></a></g><g id=\"E1.E6.E7.E8\"><a href=\"psysml:ea3366e9-5974-4411-9b27-ac275f4425c1\" target=\"_top\" title=\"psysml:ea3366e9-5974-4411-9b27-ac275f4425c1\" xlink:actuate=\"onRequest\" xlink:href=\"psysml:ea3366e9-5974-4411-9b27-ac275f4425c1\" xlink:show=\"new\" xlink:title=\"psysml:ea3366e9-5974-4411-9b27-ac275f4425c1\" xlink:type=\"simple\"><rect fill=\"#FEFECE\" filter=\"url(#f1uvanep24og3w)\" height=\"43.9688\" id=\"E8\" rx=\"10\" ry=\"10\" style=\"stroke: #A80036; stroke-width: 1.5;\" width=\"81\" x=\"633.5\" y=\"159\"/><text fill=\"#000000\" font-family=\"sans-serif\" font-size=\"12\" font-style=\"italic\" lengthAdjust=\"spacingAndGlyphs\" textLength=\"69\" x=\"639.5\" y=\"175.1387\">«attribute»</text><path d=\"M641,178.9688 L641,188.9688 L642,188.9688 L642,178.9688 M645,178.9688 L645,188.9688 L653,183.9688 L645,178.9688 L646,180.4688 L651.5,183.9688 L646,187.4688 L646,180.4688 \" fill=\"#000000\" style=\"stroke: ; stroke-width: 0.0; stroke-dasharray: ;\"/><text fill=\"#000000\" font-family=\"sans-serif\" font-size=\"12\" lengthAdjust=\"spacingAndGlyphs\" textLength=\"24\" x=\"657\" y=\"190.1387\">b: B</text><text fill=\"#000000\" font-family=\"sans-serif\" font-size=\"12\" lengthAdjust=\"spacingAndGlyphs\" text-decoration=\"line-through\" textLength=\"24\" x=\"685\" y=\"190.1387\">P::a</text></a></g><g id=\"E1.E9\"><a href=\"psysml:bd66bfa4-4cf8-4e62-98d6-c8549fcb8467\" target=\"_top\" title=\"psysml:bd66bfa4-4cf8-4e62-98d6-c8549fcb8467\" xlink:actuate=\"onRequest\" xlink:href=\"psysml:bd66bfa4-4cf8-4e62-98d6-c8549fcb8467\" xlink:show=\"new\" xlink:title=\"psysml:bd66bfa4-4cf8-4e62-98d6-c8549fcb8467\" xlink:type=\"simple\"><rect fill=\"#FEFECE\" filter=\"url(#f1uvanep24og3w)\" height=\"40\" id=\"E9\" rx=\"10\" ry=\"10\" style=\"stroke: #A80036; stroke-width: 1.5;\" width=\"50\" x=\"32\" y=\"161\"/><text fill=\"#000000\" font-family=\"sans-serif\" font-size=\"12\" lengthAdjust=\"spacingAndGlyphs\" textLength=\"25\" x=\"44.5\" y=\"177.1387\">q: Q</text></a></g><g id=\"E1.E10.E11.E12\"><a href=\"psysml:bdc7bdc2-851d-4524-9d87-06992ba679d3\" target=\"_top\" title=\"psysml:bdc7bdc2-851d-4524-9d87-06992ba679d3\" xlink:actuate=\"onRequest\" xlink:href=\"psysml:bdc7bdc2-851d-4524-9d87-06992ba679d3\" xlink:show=\"new\" xlink:title=\"psysml:bdc7bdc2-851d-4524-9d87-06992ba679d3\" xlink:type=\"simple\"><rect fill=\"#FEFECE\" filter=\"url(#f1uvanep24og3w)\" height=\"43.9688\" id=\"E12\" rx=\"10\" ry=\"10\" style=\"stroke: #A80036; stroke-width: 1.5;\" width=\"81\" x=\"423.5\" y=\"159\"/><text fill=\"#000000\" font-family=\"sans-serif\" font-size=\"12\" font-style=\"italic\" lengthAdjust=\"spacingAndGlyphs\" textLength=\"69\" x=\"429.5\" y=\"175.1387\">«attribute»</text><path d=\"M431,178.9688 L431,188.9688 L432,188.9688 L432,178.9688 M435,178.9688 L435,188.9688 L443,183.9688 L435,178.9688 L436,180.4688 L441.5,183.9688 L436,187.4688 L436,180.4688 \" fill=\"#000000\" style=\"stroke: ; stroke-width: 0.0; stroke-dasharray: ;\"/><text fill=\"#000000\" font-family=\"sans-serif\" font-size=\"12\" lengthAdjust=\"spacingAndGlyphs\" textLength=\"24\" x=\"447\" y=\"190.1387\">b: B</text><text fill=\"#000000\" font-family=\"sans-serif\" font-size=\"12\" lengthAdjust=\"spacingAndGlyphs\" text-decoration=\"line-through\" textLength=\"24\" x=\"475\" y=\"190.1387\">P::a</text></a></g><!--MD5=[185131fc0dcab0a4505a2ebe144e961b]\n",
       "link E4 to E2--><a href=\"psysml:0057605f-0b36-40b5-a833-d8040f0d9e74\" target=\"_top\" title=\"psysml:0057605f-0b36-40b5-a833-d8040f0d9e74\" xlink:actuate=\"onRequest\" xlink:href=\"psysml:0057605f-0b36-40b5-a833-d8040f0d9e74\" xlink:show=\"new\" xlink:title=\"psysml:0057605f-0b36-40b5-a833-d8040f0d9e74\" xlink:type=\"simple\"><path d=\"M162.55,202.67 C171.79,221.09 187.14,247.99 206,267 C235.745,296.99 275.6975,322.5325 308.6038,340.74 C325.0569,349.8438 339.7484,357.1138 350.5217,362.1891 C353.215,363.4579 355.6635,364.5896 357.8333,365.5784 C358.9182,366.0728 359.9335,366.5316 360.8749,366.9539 \" fill=\"none\" id=\"E4-&gt;E2\" style=\"stroke: #A80036; stroke-width: 1.0;\"/><polygon fill=\"#FFFFFF\" points=\"360.8749,366.9539,346.4044,352.7903,340.6742,365.5639,360.8749,366.9539\" style=\"stroke: #A80036; stroke-width: 1.0;\"/></a><!--MD5=[2351f337d6de0f557b50152ba70847b5]\n",
       "link E6 to E2--><a href=\"psysml:922ee1f9-edf0-4204-bf0f-0435eb6f66de\" target=\"_top\" title=\"psysml:922ee1f9-edf0-4204-bf0f-0435eb6f66de\" xlink:actuate=\"onRequest\" xlink:href=\"psysml:922ee1f9-edf0-4204-bf0f-0435eb6f66de\" xlink:show=\"new\" xlink:title=\"psysml:922ee1f9-edf0-4204-bf0f-0435eb6f66de\" xlink:type=\"simple\"><path d=\"M576.9127,200.6226 C576.854,200.7427 576.7949,200.8632 576.7356,200.9842 C576.2607,201.9515 575.7657,202.9437 575.2507,203.9576 C573.1905,208.0134 570.8097,212.4181 568.1138,216.98 C557.33,235.2275 541.505,255.99 521,267 C494.91,281.01 410.31,255.54 388,275 C383.9875,278.5 380.6748,282.5845 377.9505,287.0568 C377.2695,288.1748 376.6252,289.3171 376.0159,290.4805 C375.9397,290.626 375.8641,290.7717 375.7891,290.9178 \" fill=\"none\" id=\"E6-&gt;E2\" style=\"stroke: #A80036; stroke-width: 1.0;\"/><polygon fill=\"#FFFFFF\" points=\"375.7891,290.9178,390.6991,277.2178,378.2469,270.8191,375.7891,290.9178\" style=\"stroke: #A80036; stroke-width: 1.0;\"/></a><!--MD5=[942c2acf4e6da06b1566de90ca570c8d]\n",
       "@startuml\r\n",
       "skinparam ranksep 8\r\n",
       "skinparam rectangle {\r\n",
       " backgroundColor<<block>> LightGreen\r\n",
       "}\r\n",
       "skinparam wrapWidth 300\r\n",
       "hide circle\r\n",
       "\r\n",
       "package \"VariabilityTest\" as E1  [[psysml:fc405a6c-3061-4540-9673-8b8e766ba6ac ]]  {\r\n",
       "rec def \"P\" as E2  <<(T,blue)part def>> [[psysml:dc902210-e855-46b4-a2dd-8255fef19514 ]] {\r\n",
       "rec usage \"a\" as E3  <<(T,blue)attribute>> [[psysml:6681b89b-422d-48d0-bc41-7a96ec587b7c ]] {\r\n",
       "}\r\n",
       "}\r\n",
       "rec def \"Q\" as E4  <<(T,blue)part def>> [[psysml:b52c8837-30af-42aa-bc51-100eaed5de80 ]] {\r\n",
       "}\r\n",
       "def \"B\" as E5  <<(T,blue)attribute def>> [[psysml:f17815b8-46c4-4dd9-bf70-524ba6c03f24 ]] \r\n",
       "rec def \"V\" as E6  <<(T,blue)part def>> [[psysml:b1ebe526-c40e-4c8f-ae74-16f7fcd1bdc9 ]] {\r\n",
       "rec usage \"x: Q\" as E7  [[psysml:05419eac-6c2b-46e9-bd3b-b31f448a077a ]] {\r\n",
       "rec usage \"<&bar-trig> b: B <s>P::a</s>\" as E8  <<(T,blue)attribute>> [[psysml:ea3366e9-5974-4411-9b27-ac275f4425c1 ]] {\r\n",
       "}\r\n",
       "}\r\n",
       "}\r\n",
       "rec usage \"q: Q\" as E9  [[psysml:bd66bfa4-4cf8-4e62-98d6-c8549fcb8467 ]] {\r\n",
       "}\r\n",
       "rec usage \"v: P\" as E10  <<variation>> [[psysml:d11ba367-2498-4d3b-bf9a-6df5f0bc7068 ]] {\r\n",
       "rec usage \"y\" as E11  [[psysml:72597939-8390-466d-9479-39928477d122 ]] {\r\n",
       "rec usage \"<&bar-trig> b: B <s>P::a</s>\" as E12  <<(T,blue)attribute>> [[psysml:bdc7bdc2-851d-4524-9d87-06992ba679d3 ]] {\r\n",
       "}\r\n",
       "}\r\n",
       "}\r\n",
       "E4 - -|> E2 [[psysml:0057605f-0b36-40b5-a833-d8040f0d9e74 ]] \r\n",
       "E6 - -|> E2 [[psysml:922ee1f9-edf0-4204-bf0f-0435eb6f66de ]] \r\n",
       "}\r\n",
       "@enduml\r\n",
       "\n",
       "PlantUML version 1.2020.13(Sat Jun 13 12:26:38 UTC 2020)\n",
       "(EPL source distribution)\n",
       "Java Runtime: OpenJDK Runtime Environment\n",
       "JVM: OpenJDK 64-Bit Server VM\n",
       "Default Encoding: UTF-8\n",
       "Language: en\n",
       "Country: null\n",
       "--></g></svg>"
      ]
     },
     "execution_count": 26,
     "metadata": {},
     "output_type": "execute_result"
    }
   ],
   "source": [
    "%viz --style=\"STDCOLOR\" --view=\"Interconnection\" \"VariabilityTest\""
   ]
  },
  {
   "cell_type": "code",
   "execution_count": 27,
   "id": "dated-scope",
   "metadata": {
    "execution": {
     "iopub.execute_input": "2021-03-25T15:07:43.018784Z",
     "iopub.status.busy": "2021-03-25T15:07:43.018358Z",
     "iopub.status.idle": "2021-03-25T15:07:43.024242Z",
     "shell.execute_reply": "2021-03-25T15:07:43.023800Z"
    }
   },
   "outputs": [
    {
     "data": {
      "image/svg+xml": [
       "<?xml version=\"1.0\" encoding=\"UTF-8\" standalone=\"no\"?><svg xmlns=\"http://www.w3.org/2000/svg\" xmlns:xlink=\"http://www.w3.org/1999/xlink\" contentScriptType=\"application/ecmascript\" contentStyleType=\"text/css\" height=\"12px\" preserveAspectRatio=\"none\" style=\"width:12px;height:12px;\" version=\"1.1\" viewBox=\"0 0 12 12\" width=\"12px\" zoomAndPan=\"magnify\"><defs/><g><!--MD5=[9863325348a96a77dacc89509d8ee65e]\n",
       "@startuml\r\n",
       "skinparam ranksep 8\r\n",
       "skinparam wrapWidth 300\r\n",
       "hide circle\r\n",
       "\r\n",
       "@enduml\r\n",
       "\n",
       "PlantUML version 1.2020.13(Sat Jun 13 12:26:38 UTC 2020)\n",
       "(EPL source distribution)\n",
       "Java Runtime: OpenJDK Runtime Environment\n",
       "JVM: OpenJDK 64-Bit Server VM\n",
       "Default Encoding: UTF-8\n",
       "Language: en\n",
       "Country: null\n",
       "--></g></svg>"
      ]
     },
     "execution_count": 27,
     "metadata": {},
     "output_type": "execute_result"
    }
   ],
   "source": [
    "%viz --style=\"STDCOLOR\" --view=\"Action\" \"VariabilityTest\""
   ]
  },
  {
   "cell_type": "code",
   "execution_count": 28,
   "id": "supposed-differential",
   "metadata": {
    "execution": {
     "iopub.execute_input": "2021-03-25T15:07:43.075482Z",
     "iopub.status.busy": "2021-03-25T15:07:43.075089Z",
     "iopub.status.idle": "2021-03-25T15:07:43.313754Z",
     "shell.execute_reply": "2021-03-25T15:07:43.312130Z"
    }
   },
   "outputs": [
    {
     "data": {
      "image/svg+xml": [
       "<?xml version=\"1.0\" encoding=\"UTF-8\" standalone=\"no\"?><svg xmlns=\"http://www.w3.org/2000/svg\" xmlns:xlink=\"http://www.w3.org/1999/xlink\" contentScriptType=\"application/ecmascript\" contentStyleType=\"text/css\" height=\"373px\" preserveAspectRatio=\"none\" style=\"width:362px;height:373px;\" version=\"1.1\" viewBox=\"0 0 362 373\" width=\"362px\" zoomAndPan=\"magnify\"><defs><filter height=\"300%\" id=\"f1fe2hcxx489qu\" width=\"300%\" x=\"-1\" y=\"-1\"><feGaussianBlur result=\"blurOut\" stdDeviation=\"2.0\"/><feColorMatrix in=\"blurOut\" result=\"blurOut2\" type=\"matrix\" values=\"0 0 0 0 0 0 0 0 0 0 0 0 0 0 0 0 0 0 .4 0\"/><feOffset dx=\"4.0\" dy=\"4.0\" in=\"blurOut2\" result=\"blurOut3\"/><feBlend in=\"SourceGraphic\" in2=\"blurOut3\" mode=\"normal\"/></filter></defs><g><!--MD5=[fbc87193dbaf4d95561dea2c320d4a47]\n",
       "cluster E1--><a href=\"psysml:fc405a6c-3061-4540-9673-8b8e766ba6ac\" target=\"_top\" title=\"psysml:fc405a6c-3061-4540-9673-8b8e766ba6ac\" xlink:actuate=\"onRequest\" xlink:href=\"psysml:fc405a6c-3061-4540-9673-8b8e766ba6ac\" xlink:show=\"new\" xlink:title=\"psysml:fc405a6c-3061-4540-9673-8b8e766ba6ac\" xlink:type=\"simple\"><polygon fill=\"#FFFFFF\" filter=\"url(#f1fe2hcxx489qu)\" points=\"16,6,134,6,141,28.2969,340,28.2969,340,361,16,361,16,6\" style=\"stroke: #000000; stroke-width: 1.5;\"/><line style=\"stroke: #000000; stroke-width: 1.5;\" x1=\"16\" x2=\"141\" y1=\"28.2969\" y2=\"28.2969\"/><text fill=\"#000000\" font-family=\"sans-serif\" font-size=\"14\" font-weight=\"bold\" lengthAdjust=\"spacingAndGlyphs\" textLength=\"112\" x=\"20\" y=\"20.9951\">VariabilityTest</text></a><!--MD5=[b4997ac47864f28c2f74865a473b2911]\n",
       "class E2--><a href=\"psysml:dc902210-e855-46b4-a2dd-8255fef19514\" target=\"_top\" title=\"psysml:dc902210-e855-46b4-a2dd-8255fef19514\" xlink:actuate=\"onRequest\" xlink:href=\"psysml:dc902210-e855-46b4-a2dd-8255fef19514\" xlink:show=\"new\" xlink:title=\"psysml:dc902210-e855-46b4-a2dd-8255fef19514\" xlink:type=\"simple\"><rect fill=\"#FEFECE\" filter=\"url(#f1fe2hcxx489qu)\" height=\"58.7422\" id=\"E2\" style=\"stroke: #A80036; stroke-width: 1.5;\" width=\"66\" x=\"145\" y=\"285.5\"/><text fill=\"#000000\" font-family=\"sans-serif\" font-size=\"12\" font-style=\"italic\" lengthAdjust=\"spacingAndGlyphs\" textLength=\"64\" x=\"146\" y=\"301.6387\">«part def»</text><text fill=\"#000000\" font-family=\"sans-serif\" font-size=\"12\" lengthAdjust=\"spacingAndGlyphs\" textLength=\"8\" x=\"174\" y=\"315.6074\">P</text><line style=\"stroke: #A80036; stroke-width: 1.5;\" x1=\"146\" x2=\"210\" y1=\"323.4375\" y2=\"323.4375\"/><text fill=\"#000000\" font-family=\"sans-serif\" font-size=\"11\" lengthAdjust=\"spacingAndGlyphs\" textLength=\"7\" x=\"151\" y=\"337.6479\">a</text></a><!--MD5=[09b614a08d8cba4a07c9adeb5e0fee81]\n",
       "class E3--><a href=\"psysml:b52c8837-30af-42aa-bc51-100eaed5de80\" target=\"_top\" title=\"psysml:b52c8837-30af-42aa-bc51-100eaed5de80\" xlink:actuate=\"onRequest\" xlink:href=\"psysml:b52c8837-30af-42aa-bc51-100eaed5de80\" xlink:show=\"new\" xlink:title=\"psysml:b52c8837-30af-42aa-bc51-100eaed5de80\" xlink:type=\"simple\"><rect fill=\"#FEFECE\" filter=\"url(#f1fe2hcxx489qu)\" height=\"45.9375\" id=\"E3\" style=\"stroke: #A80036; stroke-width: 1.5;\" width=\"66\" x=\"140\" y=\"155\"/><text fill=\"#000000\" font-family=\"sans-serif\" font-size=\"12\" font-style=\"italic\" lengthAdjust=\"spacingAndGlyphs\" textLength=\"64\" x=\"141\" y=\"171.1387\">«part def»</text><text fill=\"#000000\" font-family=\"sans-serif\" font-size=\"12\" lengthAdjust=\"spacingAndGlyphs\" textLength=\"9\" x=\"168.5\" y=\"185.1074\">Q</text><line style=\"stroke: #A80036; stroke-width: 1.5;\" x1=\"141\" x2=\"205\" y1=\"192.9375\" y2=\"192.9375\"/></a><!--MD5=[ebbe1d658d1005bcc118a6aa81145e00]\n",
       "class E4--><a href=\"psysml:f17815b8-46c4-4dd9-bf70-524ba6c03f24\" target=\"_top\" title=\"psysml:f17815b8-46c4-4dd9-bf70-524ba6c03f24\" xlink:actuate=\"onRequest\" xlink:href=\"psysml:f17815b8-46c4-4dd9-bf70-524ba6c03f24\" xlink:show=\"new\" xlink:title=\"psysml:f17815b8-46c4-4dd9-bf70-524ba6c03f24\" xlink:type=\"simple\"><rect fill=\"#FEFECE\" filter=\"url(#f1fe2hcxx489qu)\" height=\"45.9375\" id=\"E4\" style=\"stroke: #A80036; stroke-width: 1.5;\" width=\"95\" x=\"228.5\" y=\"41\"/><text fill=\"#000000\" font-family=\"sans-serif\" font-size=\"12\" font-style=\"italic\" lengthAdjust=\"spacingAndGlyphs\" textLength=\"93\" x=\"229.5\" y=\"57.1387\">«attribute def»</text><text fill=\"#000000\" font-family=\"sans-serif\" font-size=\"12\" lengthAdjust=\"spacingAndGlyphs\" textLength=\"8\" x=\"272\" y=\"71.1074\">B</text><line style=\"stroke: #A80036; stroke-width: 1.5;\" x1=\"229.5\" x2=\"322.5\" y1=\"78.9375\" y2=\"78.9375\"/></a><!--MD5=[270fce915f116d4de14055a7c1d9a0f3]\n",
       "class E5--><a href=\"psysml:b1ebe526-c40e-4c8f-ae74-16f7fcd1bdc9\" target=\"_top\" title=\"psysml:b1ebe526-c40e-4c8f-ae74-16f7fcd1bdc9\" xlink:actuate=\"onRequest\" xlink:href=\"psysml:b1ebe526-c40e-4c8f-ae74-16f7fcd1bdc9\" xlink:show=\"new\" xlink:title=\"psysml:b1ebe526-c40e-4c8f-ae74-16f7fcd1bdc9\" xlink:type=\"simple\"><rect fill=\"#FEFECE\" filter=\"url(#f1fe2hcxx489qu)\" height=\"45.9375\" id=\"E5\" style=\"stroke: #A80036; stroke-width: 1.5;\" width=\"66\" x=\"241\" y=\"155\"/><text fill=\"#000000\" font-family=\"sans-serif\" font-size=\"12\" font-style=\"italic\" lengthAdjust=\"spacingAndGlyphs\" textLength=\"64\" x=\"242\" y=\"171.1387\">«part def»</text><text fill=\"#000000\" font-family=\"sans-serif\" font-size=\"12\" lengthAdjust=\"spacingAndGlyphs\" textLength=\"8\" x=\"270\" y=\"185.1074\">V</text><line style=\"stroke: #A80036; stroke-width: 1.5;\" x1=\"242\" x2=\"306\" y1=\"192.9375\" y2=\"192.9375\"/></a><!--MD5=[60a26617385b1d2d0262a64233df1f8d]\n",
       "class E6--><a href=\"psysml:05419eac-6c2b-46e9-bd3b-b31f448a077a\" target=\"_top\" title=\"psysml:05419eac-6c2b-46e9-bd3b-b31f448a077a\" xlink:actuate=\"onRequest\" xlink:href=\"psysml:05419eac-6c2b-46e9-bd3b-b31f448a077a\" xlink:show=\"new\" xlink:title=\"psysml:05419eac-6c2b-46e9-bd3b-b31f448a077a\" xlink:type=\"simple\"><rect fill=\"#FEFECE\" filter=\"url(#f1fe2hcxx489qu)\" height=\"59.6875\" id=\"E6\" rx=\"10\" ry=\"10\" style=\"stroke: #A80036; stroke-width: 1.5;\" width=\"78\" x=\"246\" y=\"285\"/><text fill=\"#000000\" font-family=\"sans-serif\" font-size=\"12\" font-style=\"italic\" lengthAdjust=\"spacingAndGlyphs\" textLength=\"40\" x=\"265\" y=\"301.1387\">«part»</text><text fill=\"#000000\" font-family=\"sans-serif\" font-size=\"12\" lengthAdjust=\"spacingAndGlyphs\" textLength=\"23\" x=\"273.5\" y=\"315.1074\">x: Q</text><line style=\"stroke: #A80036; stroke-width: 1.5;\" x1=\"247\" x2=\"323\" y1=\"322.9375\" y2=\"322.9375\"/><path d=\"M253.9167,327.8542 L253.9167,337.0208 L254.8333,337.0208 L254.8333,327.8542 M257.5833,327.8542 L257.5833,337.0208 L264.9167,332.4375 L257.5833,327.8542 L258.5,329.2292 L263.5417,332.4375 L258.5,335.6458 L258.5,329.2292 \" fill=\"#000000\" style=\"stroke: ; stroke-width: 0.0; stroke-dasharray: ;\"/><text fill=\"#000000\" font-family=\"sans-serif\" font-size=\"11\" lengthAdjust=\"spacingAndGlyphs\" textLength=\"23\" x=\"269\" y=\"338.0933\">b: B</text><text fill=\"#000000\" font-family=\"sans-serif\" font-size=\"11\" lengthAdjust=\"spacingAndGlyphs\" text-decoration=\"line-through\" textLength=\"22\" x=\"296\" y=\"338.0933\">P::a</text></a><!--MD5=[2156ba9850f5573cc1fc38a6a4b2f02b]\n",
       "class E7--><a href=\"psysml:bd66bfa4-4cf8-4e62-98d6-c8549fcb8467\" target=\"_top\" title=\"psysml:bd66bfa4-4cf8-4e62-98d6-c8549fcb8467\" xlink:actuate=\"onRequest\" xlink:href=\"psysml:bd66bfa4-4cf8-4e62-98d6-c8549fcb8467\" xlink:show=\"new\" xlink:title=\"psysml:bd66bfa4-4cf8-4e62-98d6-c8549fcb8467\" xlink:type=\"simple\"><rect fill=\"#FEFECE\" filter=\"url(#f1fe2hcxx489qu)\" height=\"45.9375\" id=\"E7\" rx=\"10\" ry=\"10\" style=\"stroke: #A80036; stroke-width: 1.5;\" width=\"42\" x=\"151\" y=\"41\"/><text fill=\"#000000\" font-family=\"sans-serif\" font-size=\"12\" font-style=\"italic\" lengthAdjust=\"spacingAndGlyphs\" textLength=\"40\" x=\"152\" y=\"57.1387\">«part»</text><text fill=\"#000000\" font-family=\"sans-serif\" font-size=\"12\" lengthAdjust=\"spacingAndGlyphs\" textLength=\"25\" x=\"159.5\" y=\"71.1074\">q: Q</text><line style=\"stroke: #A80036; stroke-width: 1.5;\" x1=\"152\" x2=\"192\" y1=\"78.9375\" y2=\"78.9375\"/></a><!--MD5=[b9389687b975829384b498ac4b7476b2]\n",
       "class E8--><a href=\"psysml:d11ba367-2498-4d3b-bf9a-6df5f0bc7068\" target=\"_top\" title=\"psysml:d11ba367-2498-4d3b-bf9a-6df5f0bc7068\" xlink:actuate=\"onRequest\" xlink:href=\"psysml:d11ba367-2498-4d3b-bf9a-6df5f0bc7068\" xlink:show=\"new\" xlink:title=\"psysml:d11ba367-2498-4d3b-bf9a-6df5f0bc7068\" xlink:type=\"simple\"><rect fill=\"#FEFECE\" filter=\"url(#f1fe2hcxx489qu)\" height=\"59.9063\" id=\"E8\" rx=\"10\" ry=\"10\" style=\"stroke: #A80036; stroke-width: 1.5;\" width=\"70\" x=\"35\" y=\"148\"/><text fill=\"#000000\" font-family=\"sans-serif\" font-size=\"12\" font-style=\"italic\" lengthAdjust=\"spacingAndGlyphs\" textLength=\"68\" x=\"36\" y=\"164.1387\">«variation»</text><text fill=\"#000000\" font-family=\"sans-serif\" font-size=\"12\" font-style=\"italic\" lengthAdjust=\"spacingAndGlyphs\" textLength=\"40\" x=\"50\" y=\"178.1074\">«part»</text><text fill=\"#000000\" font-family=\"sans-serif\" font-size=\"12\" lengthAdjust=\"spacingAndGlyphs\" textLength=\"22\" x=\"59\" y=\"192.0762\">v: P</text><line style=\"stroke: #A80036; stroke-width: 1.5;\" x1=\"36\" x2=\"104\" y1=\"199.9063\" y2=\"199.9063\"/></a><!--MD5=[fd4143e9d270a159db93a4ea2a975926]\n",
       "class E9--><a href=\"psysml:72597939-8390-466d-9479-39928477d122\" target=\"_top\" title=\"psysml:72597939-8390-466d-9479-39928477d122\" xlink:actuate=\"onRequest\" xlink:href=\"psysml:72597939-8390-466d-9479-39928477d122\" xlink:show=\"new\" xlink:title=\"psysml:72597939-8390-466d-9479-39928477d122\" xlink:type=\"simple\"><rect fill=\"#FEFECE\" filter=\"url(#f1fe2hcxx489qu)\" height=\"59.6875\" id=\"E9\" rx=\"10\" ry=\"10\" style=\"stroke: #A80036; stroke-width: 1.5;\" width=\"78\" x=\"32\" y=\"285\"/><text fill=\"#000000\" font-family=\"sans-serif\" font-size=\"12\" font-style=\"italic\" lengthAdjust=\"spacingAndGlyphs\" textLength=\"40\" x=\"51\" y=\"301.1387\">«part»</text><text fill=\"#000000\" font-family=\"sans-serif\" font-size=\"12\" lengthAdjust=\"spacingAndGlyphs\" textLength=\"6\" x=\"68\" y=\"315.1074\">y</text><line style=\"stroke: #A80036; stroke-width: 1.5;\" x1=\"33\" x2=\"109\" y1=\"322.9375\" y2=\"322.9375\"/><path d=\"M39.9167,327.8542 L39.9167,337.0208 L40.8333,337.0208 L40.8333,327.8542 M43.5833,327.8542 L43.5833,337.0208 L50.9167,332.4375 L43.5833,327.8542 L44.5,329.2292 L49.5417,332.4375 L44.5,335.6458 L44.5,329.2292 \" fill=\"#000000\" style=\"stroke: ; stroke-width: 0.0; stroke-dasharray: ;\"/><text fill=\"#000000\" font-family=\"sans-serif\" font-size=\"11\" lengthAdjust=\"spacingAndGlyphs\" textLength=\"23\" x=\"55\" y=\"338.0933\">b: B</text><text fill=\"#000000\" font-family=\"sans-serif\" font-size=\"11\" lengthAdjust=\"spacingAndGlyphs\" text-decoration=\"line-through\" textLength=\"22\" x=\"82\" y=\"338.0933\">P::a</text></a><!--MD5=[05d275557350bfb9b23a4ef7222b4c39]\n",
       "link E3 to E2--><a href=\"psysml:0057605f-0b36-40b5-a833-d8040f0d9e74\" target=\"_top\" title=\"psysml:0057605f-0b36-40b5-a833-d8040f0d9e74\" xlink:actuate=\"onRequest\" xlink:href=\"psysml:0057605f-0b36-40b5-a833-d8040f0d9e74\" xlink:show=\"new\" xlink:title=\"psysml:0057605f-0b36-40b5-a833-d8040f0d9e74\" xlink:type=\"simple\"><path d=\"M173.83,201.29 C174.47,218.57 175.38,243.16 176.18,264.96 \" fill=\"none\" id=\"E3-&gt;E2\" style=\"stroke: #A80036; stroke-width: 1.0;\"/><polygon fill=\"none\" points=\"183.18,264.83,176.93,285.08,169.19,265.35,183.18,264.83\" style=\"stroke: #A80036; stroke-width: 1.0;\"/></a><!--MD5=[15ebcb19ae302d9b601edb458606d402]\n",
       "link E5 to E2--><a href=\"psysml:922ee1f9-edf0-4204-bf0f-0435eb6f66de\" target=\"_top\" title=\"psysml:922ee1f9-edf0-4204-bf0f-0435eb6f66de\" xlink:actuate=\"onRequest\" xlink:href=\"psysml:922ee1f9-edf0-4204-bf0f-0435eb6f66de\" xlink:show=\"new\" xlink:title=\"psysml:922ee1f9-edf0-4204-bf0f-0435eb6f66de\" xlink:type=\"simple\"><path d=\"M258.15,201.29 C245.16,219.55 226.37,245.99 210.24,268.66 \" fill=\"none\" id=\"E5-&gt;E2\" style=\"stroke: #A80036; stroke-width: 1.0;\"/><polygon fill=\"none\" points=\"215.86,272.83,198.57,285.08,204.45,264.72,215.86,272.83\" style=\"stroke: #A80036; stroke-width: 1.0;\"/></a><!--MD5=[9120cf2e5df3bff93db8f754bbbc09b4]\n",
       "link E5 to E6--><a href=\"psysml:1c0ef759-8c31-4a4a-b0e7-e872c2806a04\" target=\"_top\" title=\"psysml:1c0ef759-8c31-4a4a-b0e7-e872c2806a04\" xlink:actuate=\"onRequest\" xlink:href=\"psysml:1c0ef759-8c31-4a4a-b0e7-e872c2806a04\" xlink:show=\"new\" xlink:title=\"psysml:1c0ef759-8c31-4a4a-b0e7-e872c2806a04\" xlink:type=\"simple\"><path d=\"M276.63,211.28 C278.18,230.26 280.14,254.38 281.78,274.49 \" fill=\"none\" id=\"E5-E6\" style=\"stroke: #A80036; stroke-width: 1.0;\"/><polygon fill=\"#A80036\" points=\"282.6,284.58,284.9389,276.3624,278.9588,276.8507,282.6,284.58\" style=\"stroke: #A80036; stroke-width: 1.0;\"/><path d=\"M267.636,205.0347 A9,9 0 0 0 284.4963 203.682\" fill=\"none\" style=\"stroke: #A80036; stroke-width: 1.5;\"/><text fill=\"#000000\" font-family=\"sans-serif\" font-size=\"13\" lengthAdjust=\"spacingAndGlyphs\" textLength=\"60\" x=\"281\" y=\"251.0669\">«variant»</text></a><!--MD5=[14ccda38c055a5c0da953d572bc50960]\n",
       "link E7 to E3--><a href=\"psysml:6aa04dcc-8d2e-4853-a2ca-5b94913b0044\" target=\"_top\" title=\"psysml:6aa04dcc-8d2e-4853-a2ca-5b94913b0044\" xlink:actuate=\"onRequest\" xlink:href=\"psysml:6aa04dcc-8d2e-4853-a2ca-5b94913b0044\" xlink:show=\"new\" xlink:title=\"psysml:6aa04dcc-8d2e-4853-a2ca-5b94913b0044\" xlink:type=\"simple\"><path d=\"M172.2,87.13 C172.32,100.7 172.48,118.53 172.62,134.73 \" fill=\"none\" id=\"E7-&gt;E3\" style=\"stroke: #A80036; stroke-width: 1.0;\"/><polygon fill=\"#FFFFFF\" points=\"172.8,154.92,165.6374,135.9807,179.6369,135.8607,172.8,154.92\" style=\"stroke: #A80036; stroke-width: 1.0;\"/><ellipse cx=\"167.5885\" cy=\"130.2638\" fill=\"#A80036\" rx=\"2\" ry=\"2\" style=\"stroke: #A80036; stroke-width: 1.0;\"/><ellipse cx=\"177.5881\" cy=\"130.1781\" fill=\"#A80036\" rx=\"2\" ry=\"2\" style=\"stroke: #A80036; stroke-width: 1.0;\"/></a><!--MD5=[f1f3f9f2fc535e6147756cb86a7f2e32]\n",
       "link E8 to E2--><a href=\"psysml:62998d3a-e41b-4231-af2c-a0f2b465e4e7\" target=\"_top\" title=\"psysml:62998d3a-e41b-4231-af2c-a0f2b465e4e7\" xlink:actuate=\"onRequest\" xlink:href=\"psysml:62998d3a-e41b-4231-af2c-a0f2b465e4e7\" xlink:show=\"new\" xlink:title=\"psysml:62998d3a-e41b-4231-af2c-a0f2b465e4e7\" xlink:type=\"simple\"><path d=\"M105.35,204.11 C117.33,213.78 130.17,225.51 140,238 C146.93,246.8 153.09,257.06 158.33,267.15 \" fill=\"none\" id=\"E8-&gt;E2\" style=\"stroke: #A80036; stroke-width: 1.0;\"/><polygon fill=\"#FFFFFF\" points=\"166.98,285.32,152.4904,271.1761,165.13,265.1562,166.98,285.32\" style=\"stroke: #A80036; stroke-width: 1.0;\"/><ellipse cx=\"151.8451\" cy=\"265.1699\" fill=\"#A80036\" rx=\"2\" ry=\"2\" style=\"stroke: #A80036; stroke-width: 1.0;\"/><ellipse cx=\"160.8734\" cy=\"260.8701\" fill=\"#A80036\" rx=\"2\" ry=\"2\" style=\"stroke: #A80036; stroke-width: 1.0;\"/></a><!--MD5=[ed10624c06dd9a4fa49ccf290e8b16a8]\n",
       "link E8 to E9--><a href=\"psysml:196bced0-9581-41ba-9556-fc72f0b07990\" target=\"_top\" title=\"psysml:196bced0-9581-41ba-9556-fc72f0b07990\" xlink:actuate=\"onRequest\" xlink:href=\"psysml:196bced0-9581-41ba-9556-fc72f0b07990\" xlink:show=\"new\" xlink:title=\"psysml:196bced0-9581-41ba-9556-fc72f0b07990\" xlink:type=\"simple\"><path d=\"M70.29,218.31 C70.42,236.06 70.58,256.98 70.71,274.73 \" fill=\"none\" id=\"E8-E9\" style=\"stroke: #A80036; stroke-width: 1.0;\"/><polygon fill=\"#A80036\" points=\"70.78,284.76,73.7228,276.7388,67.7229,276.7816,70.78,284.76\" style=\"stroke: #A80036; stroke-width: 1.0;\"/><path d=\"M61.785,211.4285 A9,9 0 0 0 78.699 211.3077\" fill=\"none\" style=\"stroke: #A80036; stroke-width: 1.5;\"/><text fill=\"#000000\" font-family=\"sans-serif\" font-size=\"13\" lengthAdjust=\"spacingAndGlyphs\" textLength=\"60\" x=\"71\" y=\"251.0669\">«variant»</text></a><!--MD5=[9f66aebb26613d519c60971046c42b17]\n",
       "@startuml\r\n",
       "skinparam wrapWidth 300\r\n",
       "hide circle\r\n",
       "\r\n",
       "package \"VariabilityTest\" as E1  [[psysml:fc405a6c-3061-4540-9673-8b8e766ba6ac ]]  {\r\n",
       "comp def \"P\" as E2  <<(T,blue)part def>> [[psysml:dc902210-e855-46b4-a2dd-8255fef19514 ]] {\r\n",
       "a\r\n",
       "}\r\n",
       "comp def \"Q\" as E3  <<(T,blue)part def>> [[psysml:b52c8837-30af-42aa-bc51-100eaed5de80 ]] {\r\n",
       "}\r\n",
       "comp def \"B\" as E4  <<(T,blue)attribute def>> [[psysml:f17815b8-46c4-4dd9-bf70-524ba6c03f24 ]] {\r\n",
       "}\r\n",
       "comp def \"V\" as E5  <<(T,blue)part def>> [[psysml:b1ebe526-c40e-4c8f-ae74-16f7fcd1bdc9 ]] {\r\n",
       "}\r\n",
       "comp usage \"x: Q\" as E6  <<(T,blue)part>> [[psysml:05419eac-6c2b-46e9-bd3b-b31f448a077a ]] {\r\n",
       "<&bar-trig> b: B <s>P::a</s>\r\n",
       "}\r\n",
       "comp usage \"q: Q\" as E7  <<(T,blue)part>> [[psysml:bd66bfa4-4cf8-4e62-98d6-c8549fcb8467 ]] {\r\n",
       "}\r\n",
       "comp usage \"v: P\" as E8  <<variation>>\\n <<(T,blue)part>> [[psysml:d11ba367-2498-4d3b-bf9a-6df5f0bc7068 ]] {\r\n",
       "}\r\n",
       "comp usage \"y\" as E9  <<(T,blue)part>> [[psysml:72597939-8390-466d-9479-39928477d122 ]] {\r\n",
       "<&bar-trig> b: B <s>P::a</s>\r\n",
       "}\r\n",
       "E3 - -|> E2 [[psysml:0057605f-0b36-40b5-a833-d8040f0d9e74 ]] \r\n",
       "E5 - -|> E2 [[psysml:922ee1f9-edf0-4204-bf0f-0435eb6f66de ]] \r\n",
       "E5 )- ->> E6 [[psysml:1c0ef759-8c31-4a4a-b0e7-e872c2806a04 ]] : <<variant>>\r\n",
       "E7 - -:|> E3 [[psysml:6aa04dcc-8d2e-4853-a2ca-5b94913b0044 ]] \r\n",
       "E8 - -:|> E2 [[psysml:62998d3a-e41b-4231-af2c-a0f2b465e4e7 ]] \r\n",
       "E8 )- ->> E9 [[psysml:196bced0-9581-41ba-9556-fc72f0b07990 ]] : <<variant>>\r\n",
       "}\r\n",
       "@enduml\r\n",
       "\n",
       "PlantUML version 1.2020.13(Sat Jun 13 12:26:38 UTC 2020)\n",
       "(EPL source distribution)\n",
       "Java Runtime: OpenJDK Runtime Environment\n",
       "JVM: OpenJDK 64-Bit Server VM\n",
       "Default Encoding: UTF-8\n",
       "Language: en\n",
       "Country: null\n",
       "--></g></svg>"
      ]
     },
     "execution_count": 28,
     "metadata": {},
     "output_type": "execute_result"
    }
   ],
   "source": [
    "%viz --style=\"STDCOLOR\" --view=\"Sequence\" \"VariabilityTest\""
   ]
  },
  {
   "cell_type": "code",
   "execution_count": 29,
   "id": "major-prairie",
   "metadata": {
    "execution": {
     "iopub.execute_input": "2021-03-25T15:07:43.365591Z",
     "iopub.status.busy": "2021-03-25T15:07:43.364978Z",
     "iopub.status.idle": "2021-03-25T15:07:43.617729Z",
     "shell.execute_reply": "2021-03-25T15:07:43.616174Z"
    }
   },
   "outputs": [
    {
     "data": {
      "image/svg+xml": [
       "<?xml version=\"1.0\" encoding=\"UTF-8\" standalone=\"no\"?><svg xmlns=\"http://www.w3.org/2000/svg\" xmlns:xlink=\"http://www.w3.org/1999/xlink\" contentScriptType=\"application/ecmascript\" contentStyleType=\"text/css\" height=\"373px\" preserveAspectRatio=\"none\" style=\"width:362px;height:373px;\" version=\"1.1\" viewBox=\"0 0 362 373\" width=\"362px\" zoomAndPan=\"magnify\"><defs><filter height=\"300%\" id=\"f1fe2hcxx489qu\" width=\"300%\" x=\"-1\" y=\"-1\"><feGaussianBlur result=\"blurOut\" stdDeviation=\"2.0\"/><feColorMatrix in=\"blurOut\" result=\"blurOut2\" type=\"matrix\" values=\"0 0 0 0 0 0 0 0 0 0 0 0 0 0 0 0 0 0 .4 0\"/><feOffset dx=\"4.0\" dy=\"4.0\" in=\"blurOut2\" result=\"blurOut3\"/><feBlend in=\"SourceGraphic\" in2=\"blurOut3\" mode=\"normal\"/></filter></defs><g><!--MD5=[fbc87193dbaf4d95561dea2c320d4a47]\n",
       "cluster E1--><a href=\"psysml:fc405a6c-3061-4540-9673-8b8e766ba6ac\" target=\"_top\" title=\"psysml:fc405a6c-3061-4540-9673-8b8e766ba6ac\" xlink:actuate=\"onRequest\" xlink:href=\"psysml:fc405a6c-3061-4540-9673-8b8e766ba6ac\" xlink:show=\"new\" xlink:title=\"psysml:fc405a6c-3061-4540-9673-8b8e766ba6ac\" xlink:type=\"simple\"><polygon fill=\"#FFFFFF\" filter=\"url(#f1fe2hcxx489qu)\" points=\"16,6,134,6,141,28.2969,340,28.2969,340,361,16,361,16,6\" style=\"stroke: #000000; stroke-width: 1.5;\"/><line style=\"stroke: #000000; stroke-width: 1.5;\" x1=\"16\" x2=\"141\" y1=\"28.2969\" y2=\"28.2969\"/><text fill=\"#000000\" font-family=\"sans-serif\" font-size=\"14\" font-weight=\"bold\" lengthAdjust=\"spacingAndGlyphs\" textLength=\"112\" x=\"20\" y=\"20.9951\">VariabilityTest</text></a><!--MD5=[b4997ac47864f28c2f74865a473b2911]\n",
       "class E2--><a href=\"psysml:dc902210-e855-46b4-a2dd-8255fef19514\" target=\"_top\" title=\"psysml:dc902210-e855-46b4-a2dd-8255fef19514\" xlink:actuate=\"onRequest\" xlink:href=\"psysml:dc902210-e855-46b4-a2dd-8255fef19514\" xlink:show=\"new\" xlink:title=\"psysml:dc902210-e855-46b4-a2dd-8255fef19514\" xlink:type=\"simple\"><rect fill=\"#FEFECE\" filter=\"url(#f1fe2hcxx489qu)\" height=\"58.7422\" id=\"E2\" style=\"stroke: #A80036; stroke-width: 1.5;\" width=\"66\" x=\"145\" y=\"285.5\"/><text fill=\"#000000\" font-family=\"sans-serif\" font-size=\"12\" font-style=\"italic\" lengthAdjust=\"spacingAndGlyphs\" textLength=\"64\" x=\"146\" y=\"301.6387\">«part def»</text><text fill=\"#000000\" font-family=\"sans-serif\" font-size=\"12\" lengthAdjust=\"spacingAndGlyphs\" textLength=\"8\" x=\"174\" y=\"315.6074\">P</text><line style=\"stroke: #A80036; stroke-width: 1.5;\" x1=\"146\" x2=\"210\" y1=\"323.4375\" y2=\"323.4375\"/><text fill=\"#000000\" font-family=\"sans-serif\" font-size=\"11\" lengthAdjust=\"spacingAndGlyphs\" textLength=\"7\" x=\"151\" y=\"337.6479\">a</text></a><!--MD5=[09b614a08d8cba4a07c9adeb5e0fee81]\n",
       "class E3--><a href=\"psysml:b52c8837-30af-42aa-bc51-100eaed5de80\" target=\"_top\" title=\"psysml:b52c8837-30af-42aa-bc51-100eaed5de80\" xlink:actuate=\"onRequest\" xlink:href=\"psysml:b52c8837-30af-42aa-bc51-100eaed5de80\" xlink:show=\"new\" xlink:title=\"psysml:b52c8837-30af-42aa-bc51-100eaed5de80\" xlink:type=\"simple\"><rect fill=\"#FEFECE\" filter=\"url(#f1fe2hcxx489qu)\" height=\"45.9375\" id=\"E3\" style=\"stroke: #A80036; stroke-width: 1.5;\" width=\"66\" x=\"140\" y=\"155\"/><text fill=\"#000000\" font-family=\"sans-serif\" font-size=\"12\" font-style=\"italic\" lengthAdjust=\"spacingAndGlyphs\" textLength=\"64\" x=\"141\" y=\"171.1387\">«part def»</text><text fill=\"#000000\" font-family=\"sans-serif\" font-size=\"12\" lengthAdjust=\"spacingAndGlyphs\" textLength=\"9\" x=\"168.5\" y=\"185.1074\">Q</text><line style=\"stroke: #A80036; stroke-width: 1.5;\" x1=\"141\" x2=\"205\" y1=\"192.9375\" y2=\"192.9375\"/></a><!--MD5=[ebbe1d658d1005bcc118a6aa81145e00]\n",
       "class E4--><a href=\"psysml:f17815b8-46c4-4dd9-bf70-524ba6c03f24\" target=\"_top\" title=\"psysml:f17815b8-46c4-4dd9-bf70-524ba6c03f24\" xlink:actuate=\"onRequest\" xlink:href=\"psysml:f17815b8-46c4-4dd9-bf70-524ba6c03f24\" xlink:show=\"new\" xlink:title=\"psysml:f17815b8-46c4-4dd9-bf70-524ba6c03f24\" xlink:type=\"simple\"><rect fill=\"#FEFECE\" filter=\"url(#f1fe2hcxx489qu)\" height=\"45.9375\" id=\"E4\" style=\"stroke: #A80036; stroke-width: 1.5;\" width=\"95\" x=\"228.5\" y=\"41\"/><text fill=\"#000000\" font-family=\"sans-serif\" font-size=\"12\" font-style=\"italic\" lengthAdjust=\"spacingAndGlyphs\" textLength=\"93\" x=\"229.5\" y=\"57.1387\">«attribute def»</text><text fill=\"#000000\" font-family=\"sans-serif\" font-size=\"12\" lengthAdjust=\"spacingAndGlyphs\" textLength=\"8\" x=\"272\" y=\"71.1074\">B</text><line style=\"stroke: #A80036; stroke-width: 1.5;\" x1=\"229.5\" x2=\"322.5\" y1=\"78.9375\" y2=\"78.9375\"/></a><!--MD5=[270fce915f116d4de14055a7c1d9a0f3]\n",
       "class E5--><a href=\"psysml:b1ebe526-c40e-4c8f-ae74-16f7fcd1bdc9\" target=\"_top\" title=\"psysml:b1ebe526-c40e-4c8f-ae74-16f7fcd1bdc9\" xlink:actuate=\"onRequest\" xlink:href=\"psysml:b1ebe526-c40e-4c8f-ae74-16f7fcd1bdc9\" xlink:show=\"new\" xlink:title=\"psysml:b1ebe526-c40e-4c8f-ae74-16f7fcd1bdc9\" xlink:type=\"simple\"><rect fill=\"#FEFECE\" filter=\"url(#f1fe2hcxx489qu)\" height=\"45.9375\" id=\"E5\" style=\"stroke: #A80036; stroke-width: 1.5;\" width=\"66\" x=\"241\" y=\"155\"/><text fill=\"#000000\" font-family=\"sans-serif\" font-size=\"12\" font-style=\"italic\" lengthAdjust=\"spacingAndGlyphs\" textLength=\"64\" x=\"242\" y=\"171.1387\">«part def»</text><text fill=\"#000000\" font-family=\"sans-serif\" font-size=\"12\" lengthAdjust=\"spacingAndGlyphs\" textLength=\"8\" x=\"270\" y=\"185.1074\">V</text><line style=\"stroke: #A80036; stroke-width: 1.5;\" x1=\"242\" x2=\"306\" y1=\"192.9375\" y2=\"192.9375\"/></a><!--MD5=[60a26617385b1d2d0262a64233df1f8d]\n",
       "class E6--><a href=\"psysml:05419eac-6c2b-46e9-bd3b-b31f448a077a\" target=\"_top\" title=\"psysml:05419eac-6c2b-46e9-bd3b-b31f448a077a\" xlink:actuate=\"onRequest\" xlink:href=\"psysml:05419eac-6c2b-46e9-bd3b-b31f448a077a\" xlink:show=\"new\" xlink:title=\"psysml:05419eac-6c2b-46e9-bd3b-b31f448a077a\" xlink:type=\"simple\"><rect fill=\"#FEFECE\" filter=\"url(#f1fe2hcxx489qu)\" height=\"59.6875\" id=\"E6\" rx=\"10\" ry=\"10\" style=\"stroke: #A80036; stroke-width: 1.5;\" width=\"78\" x=\"246\" y=\"285\"/><text fill=\"#000000\" font-family=\"sans-serif\" font-size=\"12\" font-style=\"italic\" lengthAdjust=\"spacingAndGlyphs\" textLength=\"40\" x=\"265\" y=\"301.1387\">«part»</text><text fill=\"#000000\" font-family=\"sans-serif\" font-size=\"12\" lengthAdjust=\"spacingAndGlyphs\" textLength=\"23\" x=\"273.5\" y=\"315.1074\">x: Q</text><line style=\"stroke: #A80036; stroke-width: 1.5;\" x1=\"247\" x2=\"323\" y1=\"322.9375\" y2=\"322.9375\"/><path d=\"M253.9167,327.8542 L253.9167,337.0208 L254.8333,337.0208 L254.8333,327.8542 M257.5833,327.8542 L257.5833,337.0208 L264.9167,332.4375 L257.5833,327.8542 L258.5,329.2292 L263.5417,332.4375 L258.5,335.6458 L258.5,329.2292 \" fill=\"#000000\" style=\"stroke: ; stroke-width: 0.0; stroke-dasharray: ;\"/><text fill=\"#000000\" font-family=\"sans-serif\" font-size=\"11\" lengthAdjust=\"spacingAndGlyphs\" textLength=\"23\" x=\"269\" y=\"338.0933\">b: B</text><text fill=\"#000000\" font-family=\"sans-serif\" font-size=\"11\" lengthAdjust=\"spacingAndGlyphs\" text-decoration=\"line-through\" textLength=\"22\" x=\"296\" y=\"338.0933\">P::a</text></a><!--MD5=[2156ba9850f5573cc1fc38a6a4b2f02b]\n",
       "class E7--><a href=\"psysml:bd66bfa4-4cf8-4e62-98d6-c8549fcb8467\" target=\"_top\" title=\"psysml:bd66bfa4-4cf8-4e62-98d6-c8549fcb8467\" xlink:actuate=\"onRequest\" xlink:href=\"psysml:bd66bfa4-4cf8-4e62-98d6-c8549fcb8467\" xlink:show=\"new\" xlink:title=\"psysml:bd66bfa4-4cf8-4e62-98d6-c8549fcb8467\" xlink:type=\"simple\"><rect fill=\"#FEFECE\" filter=\"url(#f1fe2hcxx489qu)\" height=\"45.9375\" id=\"E7\" rx=\"10\" ry=\"10\" style=\"stroke: #A80036; stroke-width: 1.5;\" width=\"42\" x=\"151\" y=\"41\"/><text fill=\"#000000\" font-family=\"sans-serif\" font-size=\"12\" font-style=\"italic\" lengthAdjust=\"spacingAndGlyphs\" textLength=\"40\" x=\"152\" y=\"57.1387\">«part»</text><text fill=\"#000000\" font-family=\"sans-serif\" font-size=\"12\" lengthAdjust=\"spacingAndGlyphs\" textLength=\"25\" x=\"159.5\" y=\"71.1074\">q: Q</text><line style=\"stroke: #A80036; stroke-width: 1.5;\" x1=\"152\" x2=\"192\" y1=\"78.9375\" y2=\"78.9375\"/></a><!--MD5=[b9389687b975829384b498ac4b7476b2]\n",
       "class E8--><a href=\"psysml:d11ba367-2498-4d3b-bf9a-6df5f0bc7068\" target=\"_top\" title=\"psysml:d11ba367-2498-4d3b-bf9a-6df5f0bc7068\" xlink:actuate=\"onRequest\" xlink:href=\"psysml:d11ba367-2498-4d3b-bf9a-6df5f0bc7068\" xlink:show=\"new\" xlink:title=\"psysml:d11ba367-2498-4d3b-bf9a-6df5f0bc7068\" xlink:type=\"simple\"><rect fill=\"#FEFECE\" filter=\"url(#f1fe2hcxx489qu)\" height=\"59.9063\" id=\"E8\" rx=\"10\" ry=\"10\" style=\"stroke: #A80036; stroke-width: 1.5;\" width=\"70\" x=\"35\" y=\"148\"/><text fill=\"#000000\" font-family=\"sans-serif\" font-size=\"12\" font-style=\"italic\" lengthAdjust=\"spacingAndGlyphs\" textLength=\"68\" x=\"36\" y=\"164.1387\">«variation»</text><text fill=\"#000000\" font-family=\"sans-serif\" font-size=\"12\" font-style=\"italic\" lengthAdjust=\"spacingAndGlyphs\" textLength=\"40\" x=\"50\" y=\"178.1074\">«part»</text><text fill=\"#000000\" font-family=\"sans-serif\" font-size=\"12\" lengthAdjust=\"spacingAndGlyphs\" textLength=\"22\" x=\"59\" y=\"192.0762\">v: P</text><line style=\"stroke: #A80036; stroke-width: 1.5;\" x1=\"36\" x2=\"104\" y1=\"199.9063\" y2=\"199.9063\"/></a><!--MD5=[fd4143e9d270a159db93a4ea2a975926]\n",
       "class E9--><a href=\"psysml:72597939-8390-466d-9479-39928477d122\" target=\"_top\" title=\"psysml:72597939-8390-466d-9479-39928477d122\" xlink:actuate=\"onRequest\" xlink:href=\"psysml:72597939-8390-466d-9479-39928477d122\" xlink:show=\"new\" xlink:title=\"psysml:72597939-8390-466d-9479-39928477d122\" xlink:type=\"simple\"><rect fill=\"#FEFECE\" filter=\"url(#f1fe2hcxx489qu)\" height=\"59.6875\" id=\"E9\" rx=\"10\" ry=\"10\" style=\"stroke: #A80036; stroke-width: 1.5;\" width=\"78\" x=\"32\" y=\"285\"/><text fill=\"#000000\" font-family=\"sans-serif\" font-size=\"12\" font-style=\"italic\" lengthAdjust=\"spacingAndGlyphs\" textLength=\"40\" x=\"51\" y=\"301.1387\">«part»</text><text fill=\"#000000\" font-family=\"sans-serif\" font-size=\"12\" lengthAdjust=\"spacingAndGlyphs\" textLength=\"6\" x=\"68\" y=\"315.1074\">y</text><line style=\"stroke: #A80036; stroke-width: 1.5;\" x1=\"33\" x2=\"109\" y1=\"322.9375\" y2=\"322.9375\"/><path d=\"M39.9167,327.8542 L39.9167,337.0208 L40.8333,337.0208 L40.8333,327.8542 M43.5833,327.8542 L43.5833,337.0208 L50.9167,332.4375 L43.5833,327.8542 L44.5,329.2292 L49.5417,332.4375 L44.5,335.6458 L44.5,329.2292 \" fill=\"#000000\" style=\"stroke: ; stroke-width: 0.0; stroke-dasharray: ;\"/><text fill=\"#000000\" font-family=\"sans-serif\" font-size=\"11\" lengthAdjust=\"spacingAndGlyphs\" textLength=\"23\" x=\"55\" y=\"338.0933\">b: B</text><text fill=\"#000000\" font-family=\"sans-serif\" font-size=\"11\" lengthAdjust=\"spacingAndGlyphs\" text-decoration=\"line-through\" textLength=\"22\" x=\"82\" y=\"338.0933\">P::a</text></a><!--MD5=[05d275557350bfb9b23a4ef7222b4c39]\n",
       "link E3 to E2--><a href=\"psysml:0057605f-0b36-40b5-a833-d8040f0d9e74\" target=\"_top\" title=\"psysml:0057605f-0b36-40b5-a833-d8040f0d9e74\" xlink:actuate=\"onRequest\" xlink:href=\"psysml:0057605f-0b36-40b5-a833-d8040f0d9e74\" xlink:show=\"new\" xlink:title=\"psysml:0057605f-0b36-40b5-a833-d8040f0d9e74\" xlink:type=\"simple\"><path d=\"M173.83,201.29 C174.47,218.57 175.38,243.16 176.18,264.96 \" fill=\"none\" id=\"E3-&gt;E2\" style=\"stroke: #A80036; stroke-width: 1.0;\"/><polygon fill=\"none\" points=\"183.18,264.83,176.93,285.08,169.19,265.35,183.18,264.83\" style=\"stroke: #A80036; stroke-width: 1.0;\"/></a><!--MD5=[15ebcb19ae302d9b601edb458606d402]\n",
       "link E5 to E2--><a href=\"psysml:922ee1f9-edf0-4204-bf0f-0435eb6f66de\" target=\"_top\" title=\"psysml:922ee1f9-edf0-4204-bf0f-0435eb6f66de\" xlink:actuate=\"onRequest\" xlink:href=\"psysml:922ee1f9-edf0-4204-bf0f-0435eb6f66de\" xlink:show=\"new\" xlink:title=\"psysml:922ee1f9-edf0-4204-bf0f-0435eb6f66de\" xlink:type=\"simple\"><path d=\"M258.15,201.29 C245.16,219.55 226.37,245.99 210.24,268.66 \" fill=\"none\" id=\"E5-&gt;E2\" style=\"stroke: #A80036; stroke-width: 1.0;\"/><polygon fill=\"none\" points=\"215.86,272.83,198.57,285.08,204.45,264.72,215.86,272.83\" style=\"stroke: #A80036; stroke-width: 1.0;\"/></a><!--MD5=[9120cf2e5df3bff93db8f754bbbc09b4]\n",
       "link E5 to E6--><a href=\"psysml:1c0ef759-8c31-4a4a-b0e7-e872c2806a04\" target=\"_top\" title=\"psysml:1c0ef759-8c31-4a4a-b0e7-e872c2806a04\" xlink:actuate=\"onRequest\" xlink:href=\"psysml:1c0ef759-8c31-4a4a-b0e7-e872c2806a04\" xlink:show=\"new\" xlink:title=\"psysml:1c0ef759-8c31-4a4a-b0e7-e872c2806a04\" xlink:type=\"simple\"><path d=\"M276.63,211.28 C278.18,230.26 280.14,254.38 281.78,274.49 \" fill=\"none\" id=\"E5-E6\" style=\"stroke: #A80036; stroke-width: 1.0;\"/><polygon fill=\"#A80036\" points=\"282.6,284.58,284.9389,276.3624,278.9588,276.8507,282.6,284.58\" style=\"stroke: #A80036; stroke-width: 1.0;\"/><path d=\"M267.636,205.0347 A9,9 0 0 0 284.4963 203.682\" fill=\"none\" style=\"stroke: #A80036; stroke-width: 1.5;\"/><text fill=\"#000000\" font-family=\"sans-serif\" font-size=\"13\" lengthAdjust=\"spacingAndGlyphs\" textLength=\"60\" x=\"281\" y=\"251.0669\">«variant»</text></a><!--MD5=[14ccda38c055a5c0da953d572bc50960]\n",
       "link E7 to E3--><a href=\"psysml:6aa04dcc-8d2e-4853-a2ca-5b94913b0044\" target=\"_top\" title=\"psysml:6aa04dcc-8d2e-4853-a2ca-5b94913b0044\" xlink:actuate=\"onRequest\" xlink:href=\"psysml:6aa04dcc-8d2e-4853-a2ca-5b94913b0044\" xlink:show=\"new\" xlink:title=\"psysml:6aa04dcc-8d2e-4853-a2ca-5b94913b0044\" xlink:type=\"simple\"><path d=\"M172.2,87.13 C172.32,100.7 172.48,118.53 172.62,134.73 \" fill=\"none\" id=\"E7-&gt;E3\" style=\"stroke: #A80036; stroke-width: 1.0;\"/><polygon fill=\"#FFFFFF\" points=\"172.8,154.92,165.6374,135.9807,179.6369,135.8607,172.8,154.92\" style=\"stroke: #A80036; stroke-width: 1.0;\"/><ellipse cx=\"167.5885\" cy=\"130.2638\" fill=\"#A80036\" rx=\"2\" ry=\"2\" style=\"stroke: #A80036; stroke-width: 1.0;\"/><ellipse cx=\"177.5881\" cy=\"130.1781\" fill=\"#A80036\" rx=\"2\" ry=\"2\" style=\"stroke: #A80036; stroke-width: 1.0;\"/></a><!--MD5=[f1f3f9f2fc535e6147756cb86a7f2e32]\n",
       "link E8 to E2--><a href=\"psysml:62998d3a-e41b-4231-af2c-a0f2b465e4e7\" target=\"_top\" title=\"psysml:62998d3a-e41b-4231-af2c-a0f2b465e4e7\" xlink:actuate=\"onRequest\" xlink:href=\"psysml:62998d3a-e41b-4231-af2c-a0f2b465e4e7\" xlink:show=\"new\" xlink:title=\"psysml:62998d3a-e41b-4231-af2c-a0f2b465e4e7\" xlink:type=\"simple\"><path d=\"M105.35,204.11 C117.33,213.78 130.17,225.51 140,238 C146.93,246.8 153.09,257.06 158.33,267.15 \" fill=\"none\" id=\"E8-&gt;E2\" style=\"stroke: #A80036; stroke-width: 1.0;\"/><polygon fill=\"#FFFFFF\" points=\"166.98,285.32,152.4904,271.1761,165.13,265.1562,166.98,285.32\" style=\"stroke: #A80036; stroke-width: 1.0;\"/><ellipse cx=\"151.8451\" cy=\"265.1699\" fill=\"#A80036\" rx=\"2\" ry=\"2\" style=\"stroke: #A80036; stroke-width: 1.0;\"/><ellipse cx=\"160.8734\" cy=\"260.8701\" fill=\"#A80036\" rx=\"2\" ry=\"2\" style=\"stroke: #A80036; stroke-width: 1.0;\"/></a><!--MD5=[ed10624c06dd9a4fa49ccf290e8b16a8]\n",
       "link E8 to E9--><a href=\"psysml:196bced0-9581-41ba-9556-fc72f0b07990\" target=\"_top\" title=\"psysml:196bced0-9581-41ba-9556-fc72f0b07990\" xlink:actuate=\"onRequest\" xlink:href=\"psysml:196bced0-9581-41ba-9556-fc72f0b07990\" xlink:show=\"new\" xlink:title=\"psysml:196bced0-9581-41ba-9556-fc72f0b07990\" xlink:type=\"simple\"><path d=\"M70.29,218.31 C70.42,236.06 70.58,256.98 70.71,274.73 \" fill=\"none\" id=\"E8-E9\" style=\"stroke: #A80036; stroke-width: 1.0;\"/><polygon fill=\"#A80036\" points=\"70.78,284.76,73.7228,276.7388,67.7229,276.7816,70.78,284.76\" style=\"stroke: #A80036; stroke-width: 1.0;\"/><path d=\"M61.785,211.4285 A9,9 0 0 0 78.699 211.3077\" fill=\"none\" style=\"stroke: #A80036; stroke-width: 1.5;\"/><text fill=\"#000000\" font-family=\"sans-serif\" font-size=\"13\" lengthAdjust=\"spacingAndGlyphs\" textLength=\"60\" x=\"71\" y=\"251.0669\">«variant»</text></a><!--MD5=[9f66aebb26613d519c60971046c42b17]\n",
       "@startuml\r\n",
       "skinparam wrapWidth 300\r\n",
       "hide circle\r\n",
       "\r\n",
       "package \"VariabilityTest\" as E1  [[psysml:fc405a6c-3061-4540-9673-8b8e766ba6ac ]]  {\r\n",
       "comp def \"P\" as E2  <<(T,blue)part def>> [[psysml:dc902210-e855-46b4-a2dd-8255fef19514 ]] {\r\n",
       "a\r\n",
       "}\r\n",
       "comp def \"Q\" as E3  <<(T,blue)part def>> [[psysml:b52c8837-30af-42aa-bc51-100eaed5de80 ]] {\r\n",
       "}\r\n",
       "comp def \"B\" as E4  <<(T,blue)attribute def>> [[psysml:f17815b8-46c4-4dd9-bf70-524ba6c03f24 ]] {\r\n",
       "}\r\n",
       "comp def \"V\" as E5  <<(T,blue)part def>> [[psysml:b1ebe526-c40e-4c8f-ae74-16f7fcd1bdc9 ]] {\r\n",
       "}\r\n",
       "comp usage \"x: Q\" as E6  <<(T,blue)part>> [[psysml:05419eac-6c2b-46e9-bd3b-b31f448a077a ]] {\r\n",
       "<&bar-trig> b: B <s>P::a</s>\r\n",
       "}\r\n",
       "comp usage \"q: Q\" as E7  <<(T,blue)part>> [[psysml:bd66bfa4-4cf8-4e62-98d6-c8549fcb8467 ]] {\r\n",
       "}\r\n",
       "comp usage \"v: P\" as E8  <<variation>>\\n <<(T,blue)part>> [[psysml:d11ba367-2498-4d3b-bf9a-6df5f0bc7068 ]] {\r\n",
       "}\r\n",
       "comp usage \"y\" as E9  <<(T,blue)part>> [[psysml:72597939-8390-466d-9479-39928477d122 ]] {\r\n",
       "<&bar-trig> b: B <s>P::a</s>\r\n",
       "}\r\n",
       "E3 - -|> E2 [[psysml:0057605f-0b36-40b5-a833-d8040f0d9e74 ]] \r\n",
       "E5 - -|> E2 [[psysml:922ee1f9-edf0-4204-bf0f-0435eb6f66de ]] \r\n",
       "E5 )- ->> E6 [[psysml:1c0ef759-8c31-4a4a-b0e7-e872c2806a04 ]] : <<variant>>\r\n",
       "E7 - -:|> E3 [[psysml:6aa04dcc-8d2e-4853-a2ca-5b94913b0044 ]] \r\n",
       "E8 - -:|> E2 [[psysml:62998d3a-e41b-4231-af2c-a0f2b465e4e7 ]] \r\n",
       "E8 )- ->> E9 [[psysml:196bced0-9581-41ba-9556-fc72f0b07990 ]] : <<variant>>\r\n",
       "}\r\n",
       "@enduml\r\n",
       "\n",
       "PlantUML version 1.2020.13(Sat Jun 13 12:26:38 UTC 2020)\n",
       "(EPL source distribution)\n",
       "Java Runtime: OpenJDK Runtime Environment\n",
       "JVM: OpenJDK 64-Bit Server VM\n",
       "Default Encoding: UTF-8\n",
       "Language: en\n",
       "Country: null\n",
       "--></g></svg>"
      ]
     },
     "execution_count": 29,
     "metadata": {},
     "output_type": "execute_result"
    }
   ],
   "source": [
    "%viz --style=\"STDCOLOR\" --view=\"MIXED\" \"VariabilityTest\""
   ]
  },
  {
   "cell_type": "code",
   "execution_count": 30,
   "id": "damaged-making",
   "metadata": {
    "execution": {
     "iopub.execute_input": "2021-03-25T15:07:43.669442Z",
     "iopub.status.busy": "2021-03-25T15:07:43.668594Z",
     "iopub.status.idle": "2021-03-25T15:07:43.932006Z",
     "shell.execute_reply": "2021-03-25T15:07:43.930061Z"
    }
   },
   "outputs": [
    {
     "data": {
      "image/svg+xml": [
       "<?xml version=\"1.0\" encoding=\"UTF-8\" standalone=\"no\"?><svg xmlns=\"http://www.w3.org/2000/svg\" xmlns:xlink=\"http://www.w3.org/1999/xlink\" contentScriptType=\"application/ecmascript\" contentStyleType=\"text/css\" height=\"385px\" preserveAspectRatio=\"none\" style=\"width:326px;height:385px;\" version=\"1.1\" viewBox=\"0 0 326 385\" width=\"326px\" zoomAndPan=\"magnify\"><defs><filter height=\"300%\" id=\"fmhwp7apabhcc\" width=\"300%\" x=\"-1\" y=\"-1\"><feGaussianBlur result=\"blurOut\" stdDeviation=\"2.0\"/><feColorMatrix in=\"blurOut\" result=\"blurOut2\" type=\"matrix\" values=\"0 0 0 0 0 0 0 0 0 0 0 0 0 0 0 0 0 0 .4 0\"/><feOffset dx=\"4.0\" dy=\"4.0\" in=\"blurOut2\" result=\"blurOut3\"/><feBlend in=\"SourceGraphic\" in2=\"blurOut3\" mode=\"normal\"/></filter></defs><g><!--MD5=[fbc87193dbaf4d95561dea2c320d4a47]\n",
       "cluster E1--><a href=\"psysml:fc405a6c-3061-4540-9673-8b8e766ba6ac\" target=\"_top\" title=\"psysml:fc405a6c-3061-4540-9673-8b8e766ba6ac\" xlink:actuate=\"onRequest\" xlink:href=\"psysml:fc405a6c-3061-4540-9673-8b8e766ba6ac\" xlink:show=\"new\" xlink:title=\"psysml:fc405a6c-3061-4540-9673-8b8e766ba6ac\" xlink:type=\"simple\"><polygon fill=\"#FFFFFF\" filter=\"url(#fmhwp7apabhcc)\" points=\"16,6,134,6,141,28.2969,296,28.2969,296,373,16,373,16,6\" style=\"stroke: #000000; stroke-width: 1.5;\"/><line style=\"stroke: #000000; stroke-width: 1.5;\" x1=\"16\" x2=\"141\" y1=\"28.2969\" y2=\"28.2969\"/><text fill=\"#000000\" font-family=\"sans-serif\" font-size=\"14\" font-weight=\"bold\" lengthAdjust=\"spacingAndGlyphs\" textLength=\"112\" x=\"20\" y=\"20.9951\">VariabilityTest</text></a><!--MD5=[b4997ac47864f28c2f74865a473b2911]\n",
       "class E2--><a href=\"psysml:dc902210-e855-46b4-a2dd-8255fef19514\" target=\"_top\" title=\"psysml:dc902210-e855-46b4-a2dd-8255fef19514\" xlink:actuate=\"onRequest\" xlink:href=\"psysml:dc902210-e855-46b4-a2dd-8255fef19514\" xlink:show=\"new\" xlink:title=\"psysml:dc902210-e855-46b4-a2dd-8255fef19514\" xlink:type=\"simple\"><rect fill=\"#FEFECE\" filter=\"url(#fmhwp7apabhcc)\" height=\"52.8047\" id=\"E2\" style=\"stroke: #A80036; stroke-width: 1.5;\" width=\"40\" x=\"137\" y=\"294.5\"/><ellipse cx=\"152\" cy=\"310.5\" fill=\"#008000\" rx=\"11\" ry=\"11\" style=\"stroke: #A80036; stroke-width: 1.0;\"/><path d=\"M150.9063,310.875 L150.9063,314.5469 L152.5313,314.5469 Q153.7031,314.5469 154.1719,314.1563 Q154.6406,313.75 154.6406,312.75 Q154.6406,311.75 154.1406,311.3125 Q153.6563,310.875 152.5313,310.875 L150.9063,310.875 Z M150.9063,306.0469 L150.9063,308.9219 L152.5313,308.9219 Q153.4531,308.9219 153.8438,308.5938 Q154.25,308.25 154.25,307.5 Q154.25,306.7344 153.8438,306.3906 Q153.4375,306.0469 152.5313,306.0469 L150.9063,306.0469 Z M148.5313,304.0938 L152.5313,304.0938 Q154.5938,304.0938 155.6406,304.875 Q156.6875,305.6563 156.6875,307.2188 Q156.6875,308.4219 156.0625,309.0938 Q155.4531,309.7656 154.2656,309.875 Q155.6875,310.0156 156.4063,310.8281 Q157.125,311.6406 157.125,313.0938 Q157.125,314.8906 156.0469,315.7031 Q154.9688,316.5 152.5313,316.5 L148.5313,316.5 L148.5313,304.0938 Z \"/><text fill=\"#000000\" font-family=\"sans-serif\" font-size=\"12\" lengthAdjust=\"spacingAndGlyphs\" textLength=\"8\" x=\"166\" y=\"314.6543\">P</text><line style=\"stroke: #A80036; stroke-width: 1.5;\" x1=\"138\" x2=\"176\" y1=\"326.5\" y2=\"326.5\"/><text fill=\"#000000\" font-family=\"sans-serif\" font-size=\"11\" lengthAdjust=\"spacingAndGlyphs\" textLength=\"7\" x=\"143\" y=\"340.7104\">a</text></a><!--MD5=[09b614a08d8cba4a07c9adeb5e0fee81]\n",
       "class E3--><a href=\"psysml:b52c8837-30af-42aa-bc51-100eaed5de80\" target=\"_top\" title=\"psysml:b52c8837-30af-42aa-bc51-100eaed5de80\" xlink:actuate=\"onRequest\" xlink:href=\"psysml:b52c8837-30af-42aa-bc51-100eaed5de80\" xlink:show=\"new\" xlink:title=\"psysml:b52c8837-30af-42aa-bc51-100eaed5de80\" xlink:type=\"simple\"><rect fill=\"#FEFECE\" filter=\"url(#fmhwp7apabhcc)\" height=\"40\" id=\"E3\" style=\"stroke: #A80036; stroke-width: 1.5;\" width=\"41\" x=\"163.5\" y=\"158\"/><ellipse cx=\"178.5\" cy=\"174\" fill=\"#008000\" rx=\"11\" ry=\"11\" style=\"stroke: #A80036; stroke-width: 1.0;\"/><path d=\"M177.4063,174.375 L177.4063,178.0469 L179.0313,178.0469 Q180.2031,178.0469 180.6719,177.6563 Q181.1406,177.25 181.1406,176.25 Q181.1406,175.25 180.6406,174.8125 Q180.1563,174.375 179.0313,174.375 L177.4063,174.375 Z M177.4063,169.5469 L177.4063,172.4219 L179.0313,172.4219 Q179.9531,172.4219 180.3438,172.0938 Q180.75,171.75 180.75,171 Q180.75,170.2344 180.3438,169.8906 Q179.9375,169.5469 179.0313,169.5469 L177.4063,169.5469 Z M175.0313,167.5938 L179.0313,167.5938 Q181.0938,167.5938 182.1406,168.375 Q183.1875,169.1563 183.1875,170.7188 Q183.1875,171.9219 182.5625,172.5938 Q181.9531,173.2656 180.7656,173.375 Q182.1875,173.5156 182.9063,174.3281 Q183.625,175.1406 183.625,176.5938 Q183.625,178.3906 182.5469,179.2031 Q181.4688,180 179.0313,180 L175.0313,180 L175.0313,167.5938 Z \"/><text fill=\"#000000\" font-family=\"sans-serif\" font-size=\"12\" lengthAdjust=\"spacingAndGlyphs\" textLength=\"9\" x=\"192.5\" y=\"178.1543\">Q</text><line style=\"stroke: #A80036; stroke-width: 1.5;\" x1=\"164.5\" x2=\"203.5\" y1=\"190\" y2=\"190\"/></a><!--MD5=[ebbe1d658d1005bcc118a6aa81145e00]\n",
       "class E4--><a href=\"psysml:f17815b8-46c4-4dd9-bf70-524ba6c03f24\" target=\"_top\" title=\"psysml:f17815b8-46c4-4dd9-bf70-524ba6c03f24\" xlink:actuate=\"onRequest\" xlink:href=\"psysml:f17815b8-46c4-4dd9-bf70-524ba6c03f24\" xlink:show=\"new\" xlink:title=\"psysml:f17815b8-46c4-4dd9-bf70-524ba6c03f24\" xlink:type=\"simple\"><rect fill=\"#FEFECE\" filter=\"url(#fmhwp7apabhcc)\" height=\"45.9375\" id=\"E4\" style=\"stroke: #A80036; stroke-width: 1.5;\" width=\"121\" x=\"158.5\" y=\"41\"/><ellipse cx=\"173.5\" cy=\"59.9688\" fill=\"#A52A2A\" rx=\"11\" ry=\"11\" style=\"stroke: #A80036; stroke-width: 1.0;\"/><path d=\"M173.0938,55.7813 L173.0938,63.7656 L173.75,63.7656 Q175.1875,63.7656 175.7969,62.8594 Q176.4219,61.9375 176.4219,59.7656 Q176.4219,57.5938 175.7969,56.6875 Q175.1875,55.7813 173.75,55.7813 L173.0938,55.7813 Z M170.6406,53.5781 L173.2656,53.5781 Q176.2969,53.5781 177.625,55.0313 Q178.9688,56.4688 178.9688,59.7656 Q178.9688,63.0625 177.625,64.5156 Q176.2969,65.9688 173.2656,65.9688 L170.6406,65.9688 L170.6406,53.5781 Z \"/><text fill=\"#000000\" font-family=\"sans-serif\" font-size=\"12\" font-style=\"italic\" lengthAdjust=\"spacingAndGlyphs\" textLength=\"93\" x=\"185.5\" y=\"57.1387\">«attribute def»</text><text fill=\"#000000\" font-family=\"sans-serif\" font-size=\"12\" lengthAdjust=\"spacingAndGlyphs\" textLength=\"8\" x=\"228\" y=\"71.1074\">B</text><line style=\"stroke: #A80036; stroke-width: 1.5;\" x1=\"159.5\" x2=\"278.5\" y1=\"78.9375\" y2=\"78.9375\"/></a><!--MD5=[270fce915f116d4de14055a7c1d9a0f3]\n",
       "class E5--><a href=\"psysml:b1ebe526-c40e-4c8f-ae74-16f7fcd1bdc9\" target=\"_top\" title=\"psysml:b1ebe526-c40e-4c8f-ae74-16f7fcd1bdc9\" xlink:actuate=\"onRequest\" xlink:href=\"psysml:b1ebe526-c40e-4c8f-ae74-16f7fcd1bdc9\" xlink:show=\"new\" xlink:title=\"psysml:b1ebe526-c40e-4c8f-ae74-16f7fcd1bdc9\" xlink:type=\"simple\"><rect fill=\"#FEFECE\" filter=\"url(#fmhwp7apabhcc)\" height=\"40\" id=\"E5\" style=\"stroke: #A80036; stroke-width: 1.5;\" width=\"40\" x=\"240\" y=\"158\"/><ellipse cx=\"255\" cy=\"174\" fill=\"#008000\" rx=\"11\" ry=\"11\" style=\"stroke: #A80036; stroke-width: 1.0;\"/><path d=\"M253.9063,174.375 L253.9063,178.0469 L255.5313,178.0469 Q256.7031,178.0469 257.1719,177.6563 Q257.6406,177.25 257.6406,176.25 Q257.6406,175.25 257.1406,174.8125 Q256.6563,174.375 255.5313,174.375 L253.9063,174.375 Z M253.9063,169.5469 L253.9063,172.4219 L255.5313,172.4219 Q256.4531,172.4219 256.8438,172.0938 Q257.25,171.75 257.25,171 Q257.25,170.2344 256.8438,169.8906 Q256.4375,169.5469 255.5313,169.5469 L253.9063,169.5469 Z M251.5313,167.5938 L255.5313,167.5938 Q257.5938,167.5938 258.6406,168.375 Q259.6875,169.1563 259.6875,170.7188 Q259.6875,171.9219 259.0625,172.5938 Q258.4531,173.2656 257.2656,173.375 Q258.6875,173.5156 259.4063,174.3281 Q260.125,175.1406 260.125,176.5938 Q260.125,178.3906 259.0469,179.2031 Q257.9688,180 255.5313,180 L251.5313,180 L251.5313,167.5938 Z \"/><text fill=\"#000000\" font-family=\"sans-serif\" font-size=\"12\" lengthAdjust=\"spacingAndGlyphs\" textLength=\"8\" x=\"269\" y=\"178.1543\">V</text><line style=\"stroke: #A80036; stroke-width: 1.5;\" x1=\"241\" x2=\"279\" y1=\"190\" y2=\"190\"/></a><!--MD5=[60a26617385b1d2d0262a64233df1f8d]\n",
       "class E6--><a href=\"psysml:05419eac-6c2b-46e9-bd3b-b31f448a077a\" target=\"_top\" title=\"psysml:05419eac-6c2b-46e9-bd3b-b31f448a077a\" xlink:actuate=\"onRequest\" xlink:href=\"psysml:05419eac-6c2b-46e9-bd3b-b31f448a077a\" xlink:show=\"new\" xlink:title=\"psysml:05419eac-6c2b-46e9-bd3b-b31f448a077a\" xlink:type=\"simple\"><rect fill=\"#FEFECE\" filter=\"url(#fmhwp7apabhcc)\" height=\"71.5469\" id=\"E6\" rx=\"10\" ry=\"10\" style=\"stroke: #A80036; stroke-width: 1.5;\" width=\"68\" x=\"212\" y=\"285\"/><ellipse cx=\"227\" cy=\"303.9688\" fill=\"#32CD32\" rx=\"11\" ry=\"11\" style=\"stroke: #A80036; stroke-width: 1.0;\"/><path d=\"M226.7969,299.6406 L226.7969,303.2656 L227.7969,303.2656 Q229,303.2656 229.4844,302.8594 Q229.9688,302.4531 229.9688,301.4531 Q229.9688,300.4531 229.4844,300.0469 Q229,299.6406 227.7969,299.6406 L226.7969,299.6406 Z M224.3438,297.5781 L227.7031,297.5781 Q230.2656,297.5781 231.3906,298.5 Q232.5156,299.4063 232.5156,301.4531 Q232.5156,303.5 231.3906,304.4219 Q230.2656,305.3281 227.7031,305.3281 L226.7969,305.3281 L226.7969,309.9688 L224.3438,309.9688 L224.3438,297.5781 Z \"/><text fill=\"#000000\" font-family=\"sans-serif\" font-size=\"12\" font-style=\"italic\" lengthAdjust=\"spacingAndGlyphs\" textLength=\"40\" x=\"239\" y=\"301.1387\">«part»</text><text fill=\"#000000\" font-family=\"sans-serif\" font-size=\"12\" lengthAdjust=\"spacingAndGlyphs\" textLength=\"23\" x=\"247.5\" y=\"315.1074\">x: Q</text><line style=\"stroke: #A80036; stroke-width: 1.5;\" x1=\"213\" x2=\"279\" y1=\"322.9375\" y2=\"322.9375\"/><text fill=\"#000000\" font-family=\"sans-serif\" font-size=\"11\" lengthAdjust=\"spacingAndGlyphs\" textLength=\"23\" x=\"218\" y=\"337.1479\">b: B</text><text fill=\"#000000\" font-family=\"sans-serif\" font-size=\"11\" font-style=\"italic\" lengthAdjust=\"spacingAndGlyphs\" textLength=\"44\" x=\"218\" y=\"349.9526\">:&gt;&gt;P::a</text></a><!--MD5=[2156ba9850f5573cc1fc38a6a4b2f02b]\n",
       "class E7--><a href=\"psysml:bd66bfa4-4cf8-4e62-98d6-c8549fcb8467\" target=\"_top\" title=\"psysml:bd66bfa4-4cf8-4e62-98d6-c8549fcb8467\" xlink:actuate=\"onRequest\" xlink:href=\"psysml:bd66bfa4-4cf8-4e62-98d6-c8549fcb8467\" xlink:show=\"new\" xlink:title=\"psysml:bd66bfa4-4cf8-4e62-98d6-c8549fcb8467\" xlink:type=\"simple\"><rect fill=\"#FEFECE\" filter=\"url(#fmhwp7apabhcc)\" height=\"45.9375\" id=\"E7\" rx=\"10\" ry=\"10\" style=\"stroke: #A80036; stroke-width: 1.5;\" width=\"68\" x=\"55\" y=\"41\"/><ellipse cx=\"70\" cy=\"59.9688\" fill=\"#32CD32\" rx=\"11\" ry=\"11\" style=\"stroke: #A80036; stroke-width: 1.0;\"/><path d=\"M69.7969,55.6406 L69.7969,59.2656 L70.7969,59.2656 Q72,59.2656 72.4844,58.8594 Q72.9688,58.4531 72.9688,57.4531 Q72.9688,56.4531 72.4844,56.0469 Q72,55.6406 70.7969,55.6406 L69.7969,55.6406 Z M67.3438,53.5781 L70.7031,53.5781 Q73.2656,53.5781 74.3906,54.5 Q75.5156,55.4063 75.5156,57.4531 Q75.5156,59.5 74.3906,60.4219 Q73.2656,61.3281 70.7031,61.3281 L69.7969,61.3281 L69.7969,65.9688 L67.3438,65.9688 L67.3438,53.5781 Z \"/><text fill=\"#000000\" font-family=\"sans-serif\" font-size=\"12\" font-style=\"italic\" lengthAdjust=\"spacingAndGlyphs\" textLength=\"40\" x=\"82\" y=\"57.1387\">«part»</text><text fill=\"#000000\" font-family=\"sans-serif\" font-size=\"12\" lengthAdjust=\"spacingAndGlyphs\" textLength=\"25\" x=\"89.5\" y=\"71.1074\">q: Q</text><line style=\"stroke: #A80036; stroke-width: 1.5;\" x1=\"56\" x2=\"122\" y1=\"78.9375\" y2=\"78.9375\"/></a><!--MD5=[b9389687b975829384b498ac4b7476b2]\n",
       "class E8--><a href=\"psysml:d11ba367-2498-4d3b-bf9a-6df5f0bc7068\" target=\"_top\" title=\"psysml:d11ba367-2498-4d3b-bf9a-6df5f0bc7068\" xlink:actuate=\"onRequest\" xlink:href=\"psysml:d11ba367-2498-4d3b-bf9a-6df5f0bc7068\" xlink:show=\"new\" xlink:title=\"psysml:d11ba367-2498-4d3b-bf9a-6df5f0bc7068\" xlink:type=\"simple\"><rect fill=\"#FEFECE\" filter=\"url(#fmhwp7apabhcc)\" height=\"59.9063\" id=\"E8\" rx=\"10\" ry=\"10\" style=\"stroke: #A80036; stroke-width: 1.5;\" width=\"96\" x=\"32\" y=\"148\"/><ellipse cx=\"47\" cy=\"173.9531\" fill=\"#32CD32\" rx=\"11\" ry=\"11\" style=\"stroke: #A80036; stroke-width: 1.0;\"/><path d=\"M46.7969,169.625 L46.7969,173.25 L47.7969,173.25 Q49,173.25 49.4844,172.8438 Q49.9688,172.4375 49.9688,171.4375 Q49.9688,170.4375 49.4844,170.0313 Q49,169.625 47.7969,169.625 L46.7969,169.625 Z M44.3438,167.5625 L47.7031,167.5625 Q50.2656,167.5625 51.3906,168.4844 Q52.5156,169.3906 52.5156,171.4375 Q52.5156,173.4844 51.3906,174.4063 Q50.2656,175.3125 47.7031,175.3125 L46.7969,175.3125 L46.7969,179.9531 L44.3438,179.9531 L44.3438,167.5625 Z \"/><text fill=\"#000000\" font-family=\"sans-serif\" font-size=\"12\" font-style=\"italic\" lengthAdjust=\"spacingAndGlyphs\" textLength=\"68\" x=\"59\" y=\"164.1387\">«variation»</text><text fill=\"#000000\" font-family=\"sans-serif\" font-size=\"12\" font-style=\"italic\" lengthAdjust=\"spacingAndGlyphs\" textLength=\"40\" x=\"73\" y=\"178.1074\">«part»</text><text fill=\"#000000\" font-family=\"sans-serif\" font-size=\"12\" lengthAdjust=\"spacingAndGlyphs\" textLength=\"22\" x=\"82\" y=\"192.0762\">v: P</text><line style=\"stroke: #A80036; stroke-width: 1.5;\" x1=\"33\" x2=\"127\" y1=\"199.9063\" y2=\"199.9063\"/></a><!--MD5=[fd4143e9d270a159db93a4ea2a975926]\n",
       "class E9--><a href=\"psysml:72597939-8390-466d-9479-39928477d122\" target=\"_top\" title=\"psysml:72597939-8390-466d-9479-39928477d122\" xlink:actuate=\"onRequest\" xlink:href=\"psysml:72597939-8390-466d-9479-39928477d122\" xlink:show=\"new\" xlink:title=\"psysml:72597939-8390-466d-9479-39928477d122\" xlink:type=\"simple\"><rect fill=\"#FEFECE\" filter=\"url(#fmhwp7apabhcc)\" height=\"71.5469\" id=\"E9\" rx=\"10\" ry=\"10\" style=\"stroke: #A80036; stroke-width: 1.5;\" width=\"68\" x=\"34\" y=\"285\"/><ellipse cx=\"49\" cy=\"303.9688\" fill=\"#32CD32\" rx=\"11\" ry=\"11\" style=\"stroke: #A80036; stroke-width: 1.0;\"/><path d=\"M48.7969,299.6406 L48.7969,303.2656 L49.7969,303.2656 Q51,303.2656 51.4844,302.8594 Q51.9688,302.4531 51.9688,301.4531 Q51.9688,300.4531 51.4844,300.0469 Q51,299.6406 49.7969,299.6406 L48.7969,299.6406 Z M46.3438,297.5781 L49.7031,297.5781 Q52.2656,297.5781 53.3906,298.5 Q54.5156,299.4063 54.5156,301.4531 Q54.5156,303.5 53.3906,304.4219 Q52.2656,305.3281 49.7031,305.3281 L48.7969,305.3281 L48.7969,309.9688 L46.3438,309.9688 L46.3438,297.5781 Z \"/><text fill=\"#000000\" font-family=\"sans-serif\" font-size=\"12\" font-style=\"italic\" lengthAdjust=\"spacingAndGlyphs\" textLength=\"40\" x=\"61\" y=\"301.1387\">«part»</text><text fill=\"#000000\" font-family=\"sans-serif\" font-size=\"12\" lengthAdjust=\"spacingAndGlyphs\" textLength=\"6\" x=\"78\" y=\"315.1074\">y</text><line style=\"stroke: #A80036; stroke-width: 1.5;\" x1=\"35\" x2=\"101\" y1=\"322.9375\" y2=\"322.9375\"/><text fill=\"#000000\" font-family=\"sans-serif\" font-size=\"11\" lengthAdjust=\"spacingAndGlyphs\" textLength=\"23\" x=\"40\" y=\"337.1479\">b: B</text><text fill=\"#000000\" font-family=\"sans-serif\" font-size=\"11\" font-style=\"italic\" lengthAdjust=\"spacingAndGlyphs\" textLength=\"44\" x=\"40\" y=\"349.9526\">:&gt;&gt;P::a</text></a><!--MD5=[05d275557350bfb9b23a4ef7222b4c39]\n",
       "link E3 to E2--><a href=\"psysml:0057605f-0b36-40b5-a833-d8040f0d9e74\" target=\"_top\" title=\"psysml:0057605f-0b36-40b5-a833-d8040f0d9e74\" xlink:actuate=\"onRequest\" xlink:href=\"psysml:0057605f-0b36-40b5-a833-d8040f0d9e74\" xlink:show=\"new\" xlink:title=\"psysml:0057605f-0b36-40b5-a833-d8040f0d9e74\" xlink:type=\"simple\"><path d=\"M176.69,198.12 C172.62,209.53 167.82,224.41 165,238 C162.59,249.64 160.9,262.37 159.72,274.25 \" fill=\"none\" id=\"E3-&gt;E2\" style=\"stroke: #A80036; stroke-width: 1.0;\"/><polygon fill=\"none\" points=\"166.68,274.93,158.09,294.3,152.73,273.8,166.68,274.93\" style=\"stroke: #A80036; stroke-width: 1.0;\"/></a><!--MD5=[15ebcb19ae302d9b601edb458606d402]\n",
       "link E5 to E2--><a href=\"psysml:922ee1f9-edf0-4204-bf0f-0435eb6f66de\" target=\"_top\" title=\"psysml:922ee1f9-edf0-4204-bf0f-0435eb6f66de\" xlink:actuate=\"onRequest\" xlink:href=\"psysml:922ee1f9-edf0-4204-bf0f-0435eb6f66de\" xlink:show=\"new\" xlink:title=\"psysml:922ee1f9-edf0-4204-bf0f-0435eb6f66de\" xlink:type=\"simple\"><path d=\"M246.11,198.02 C231.2,218.43 207.04,251.5 187.64,278.06 \" fill=\"none\" id=\"E5-&gt;E2\" style=\"stroke: #A80036; stroke-width: 1.0;\"/><polygon fill=\"none\" points=\"193.17,282.35,175.72,294.37,181.87,274.09,193.17,282.35\" style=\"stroke: #A80036; stroke-width: 1.0;\"/></a><!--MD5=[9120cf2e5df3bff93db8f754bbbc09b4]\n",
       "link E5 to E6--><a href=\"psysml:1c0ef759-8c31-4a4a-b0e7-e872c2806a04\" target=\"_top\" title=\"psysml:1c0ef759-8c31-4a4a-b0e7-e872c2806a04\" xlink:actuate=\"onRequest\" xlink:href=\"psysml:1c0ef759-8c31-4a4a-b0e7-e872c2806a04\" xlink:show=\"new\" xlink:title=\"psysml:1c0ef759-8c31-4a4a-b0e7-e872c2806a04\" xlink:type=\"simple\"><path d=\"M257.1,208.19 C255.19,227.4 252.66,252.93 250.49,274.74 \" fill=\"none\" id=\"E5-E6\" style=\"stroke: #A80036; stroke-width: 1.0;\"/><polygon fill=\"#A80036\" points=\"249.5,284.79,253.2735,277.1245,247.3027,276.5334,249.5,284.79\" style=\"stroke: #A80036; stroke-width: 1.0;\"/><path d=\"M249.3907,200.2501 A9,9 0 0 0 266.2229 201.9164\" fill=\"none\" style=\"stroke: #A80036; stroke-width: 1.5;\"/><text fill=\"#000000\" font-family=\"sans-serif\" font-size=\"13\" lengthAdjust=\"spacingAndGlyphs\" textLength=\"60\" x=\"254\" y=\"251.0669\">«variant»</text></a><!--MD5=[14ccda38c055a5c0da953d572bc50960]\n",
       "link E7 to E3--><a href=\"psysml:6aa04dcc-8d2e-4853-a2ca-5b94913b0044\" target=\"_top\" title=\"psysml:6aa04dcc-8d2e-4853-a2ca-5b94913b0044\" xlink:actuate=\"onRequest\" xlink:href=\"psysml:6aa04dcc-8d2e-4853-a2ca-5b94913b0044\" xlink:show=\"new\" xlink:title=\"psysml:6aa04dcc-8d2e-4853-a2ca-5b94913b0044\" xlink:type=\"simple\"><path d=\"M107.77,87.13 C121.18,102.94 139.49,124.53 154.81,142.58 \" fill=\"none\" id=\"E7-&gt;E3\" style=\"stroke: #A80036; stroke-width: 1.0;\"/><polygon fill=\"#FFFFFF\" points=\"167.8,157.9,150.1709,147.9394,160.8469,138.8828,167.8,157.9\" style=\"stroke: #A80036; stroke-width: 1.0;\"/><ellipse cx=\"148.0087\" cy=\"142.299\" fill=\"#A80036\" rx=\"2\" ry=\"2\" style=\"stroke: #A80036; stroke-width: 1.0;\"/><ellipse cx=\"155.6344\" cy=\"135.8299\" fill=\"#A80036\" rx=\"2\" ry=\"2\" style=\"stroke: #A80036; stroke-width: 1.0;\"/></a><!--MD5=[f1f3f9f2fc535e6147756cb86a7f2e32]\n",
       "link E8 to E2--><a href=\"psysml:62998d3a-e41b-4231-af2c-a0f2b465e4e7\" target=\"_top\" title=\"psysml:62998d3a-e41b-4231-af2c-a0f2b465e4e7\" xlink:actuate=\"onRequest\" xlink:href=\"psysml:62998d3a-e41b-4231-af2c-a0f2b465e4e7\" xlink:show=\"new\" xlink:title=\"psysml:62998d3a-e41b-4231-af2c-a0f2b465e4e7\" xlink:type=\"simple\"><path d=\"M120.07,208.27 C129.27,216.85 138.08,226.94 144,238 C149.86,248.94 153.24,261.79 155.16,274.03 \" fill=\"none\" id=\"E8-&gt;E2\" style=\"stroke: #A80036; stroke-width: 1.0;\"/><polygon fill=\"#FFFFFF\" points=\"157.21,294.23,148.3322,276.0315,162.261,274.6217,157.21,294.23\" style=\"stroke: #A80036; stroke-width: 1.0;\"/><ellipse cx=\"149.748\" cy=\"270.1591\" fill=\"#A80036\" rx=\"2\" ry=\"2\" style=\"stroke: #A80036; stroke-width: 1.0;\"/><ellipse cx=\"159.6971\" cy=\"269.152\" fill=\"#A80036\" rx=\"2\" ry=\"2\" style=\"stroke: #A80036; stroke-width: 1.0;\"/></a><!--MD5=[ed10624c06dd9a4fa49ccf290e8b16a8]\n",
       "link E8 to E9--><a href=\"psysml:196bced0-9581-41ba-9556-fc72f0b07990\" target=\"_top\" title=\"psysml:196bced0-9581-41ba-9556-fc72f0b07990\" xlink:actuate=\"onRequest\" xlink:href=\"psysml:196bced0-9581-41ba-9556-fc72f0b07990\" xlink:show=\"new\" xlink:title=\"psysml:196bced0-9581-41ba-9556-fc72f0b07990\" xlink:type=\"simple\"><path d=\"M76.65,218.35 C75.16,235.87 73.39,256.61 71.85,274.77 \" fill=\"none\" id=\"E8-E9\" style=\"stroke: #A80036; stroke-width: 1.0;\"/><polygon fill=\"#A80036\" points=\"70.99,284.83,74.6641,277.1163,68.6862,276.6025,70.99,284.83\" style=\"stroke: #A80036; stroke-width: 1.0;\"/><path d=\"M68.8199,210.5615 A9,9 0 0 0 85.6721 212.0122\" fill=\"none\" style=\"stroke: #A80036; stroke-width: 1.5;\"/><text fill=\"#000000\" font-family=\"sans-serif\" font-size=\"13\" lengthAdjust=\"spacingAndGlyphs\" textLength=\"60\" x=\"75\" y=\"251.0669\">«variant»</text></a><!--MD5=[9ef2c84ccc8fee6b3ab1c9c385768e5b]\n",
       "@startuml\r\n",
       " \r\n",
       "package \"VariabilityTest\" as E1  [[psysml:fc405a6c-3061-4540-9673-8b8e766ba6ac ]]  {\r\n",
       "comp def \"P\" as E2  << (B,green) >> [[psysml:dc902210-e855-46b4-a2dd-8255fef19514 ]] {\r\n",
       "a\r\n",
       "}\r\n",
       "comp def \"Q\" as E3  << (B,green) >> [[psysml:b52c8837-30af-42aa-bc51-100eaed5de80 ]] {\r\n",
       "}\r\n",
       "comp def \"B\" as E4  <<(D,brown)attribute def>> [[psysml:f17815b8-46c4-4dd9-bf70-524ba6c03f24 ]] {\r\n",
       "}\r\n",
       "comp def \"V\" as E5  << (B,green) >> [[psysml:b1ebe526-c40e-4c8f-ae74-16f7fcd1bdc9 ]] {\r\n",
       "}\r\n",
       "comp usage \"x: Q\" as E6  << (P,limegreen) part>> [[psysml:05419eac-6c2b-46e9-bd3b-b31f448a077a ]] {\r\n",
       "b: B\\n//:>>P::a// \r\n",
       "}\r\n",
       "comp usage \"q: Q\" as E7  << (P,limegreen) part>> [[psysml:bd66bfa4-4cf8-4e62-98d6-c8549fcb8467 ]] {\r\n",
       "}\r\n",
       "comp usage \"v: P\" as E8  <<variation>>\\n << (P,limegreen) part>> [[psysml:d11ba367-2498-4d3b-bf9a-6df5f0bc7068 ]] {\r\n",
       "}\r\n",
       "comp usage \"y\" as E9  << (P,limegreen) part>> [[psysml:72597939-8390-466d-9479-39928477d122 ]] {\r\n",
       "b: B\\n//:>>P::a// \r\n",
       "}\r\n",
       "E3 - -|> E2 [[psysml:0057605f-0b36-40b5-a833-d8040f0d9e74 ]] \r\n",
       "E5 - -|> E2 [[psysml:922ee1f9-edf0-4204-bf0f-0435eb6f66de ]] \r\n",
       "E5 )- ->> E6 [[psysml:1c0ef759-8c31-4a4a-b0e7-e872c2806a04 ]] : <<variant>>\r\n",
       "E7 - -:|> E3 [[psysml:6aa04dcc-8d2e-4853-a2ca-5b94913b0044 ]] \r\n",
       "E8 - -:|> E2 [[psysml:62998d3a-e41b-4231-af2c-a0f2b465e4e7 ]] \r\n",
       "E8 )- ->> E9 [[psysml:196bced0-9581-41ba-9556-fc72f0b07990 ]] : <<variant>>\r\n",
       "}\r\n",
       "@enduml\r\n",
       "\n",
       "PlantUML version 1.2020.13(Sat Jun 13 12:26:38 UTC 2020)\n",
       "(EPL source distribution)\n",
       "Java Runtime: OpenJDK Runtime Environment\n",
       "JVM: OpenJDK 64-Bit Server VM\n",
       "Default Encoding: UTF-8\n",
       "Language: en\n",
       "Country: null\n",
       "--></g></svg>"
      ]
     },
     "execution_count": 30,
     "metadata": {},
     "output_type": "execute_result"
    }
   ],
   "source": [
    "%viz --style=\"PLANTUML\" --view=\"Default\" \"VariabilityTest\""
   ]
  },
  {
   "cell_type": "code",
   "execution_count": 31,
   "id": "silent-teach",
   "metadata": {
    "execution": {
     "iopub.execute_input": "2021-03-25T15:07:43.981969Z",
     "iopub.status.busy": "2021-03-25T15:07:43.981094Z",
     "iopub.status.idle": "2021-03-25T15:07:44.199498Z",
     "shell.execute_reply": "2021-03-25T15:07:44.199092Z"
    }
   },
   "outputs": [
    {
     "data": {
      "image/svg+xml": [
       "<?xml version=\"1.0\" encoding=\"UTF-8\" standalone=\"no\"?><svg xmlns=\"http://www.w3.org/2000/svg\" xmlns:xlink=\"http://www.w3.org/1999/xlink\" contentScriptType=\"application/ecmascript\" contentStyleType=\"text/css\" height=\"385px\" preserveAspectRatio=\"none\" style=\"width:326px;height:385px;\" version=\"1.1\" viewBox=\"0 0 326 385\" width=\"326px\" zoomAndPan=\"magnify\"><defs><filter height=\"300%\" id=\"fmhwp7apabhcc\" width=\"300%\" x=\"-1\" y=\"-1\"><feGaussianBlur result=\"blurOut\" stdDeviation=\"2.0\"/><feColorMatrix in=\"blurOut\" result=\"blurOut2\" type=\"matrix\" values=\"0 0 0 0 0 0 0 0 0 0 0 0 0 0 0 0 0 0 .4 0\"/><feOffset dx=\"4.0\" dy=\"4.0\" in=\"blurOut2\" result=\"blurOut3\"/><feBlend in=\"SourceGraphic\" in2=\"blurOut3\" mode=\"normal\"/></filter></defs><g><!--MD5=[fbc87193dbaf4d95561dea2c320d4a47]\n",
       "cluster E1--><a href=\"psysml:fc405a6c-3061-4540-9673-8b8e766ba6ac\" target=\"_top\" title=\"psysml:fc405a6c-3061-4540-9673-8b8e766ba6ac\" xlink:actuate=\"onRequest\" xlink:href=\"psysml:fc405a6c-3061-4540-9673-8b8e766ba6ac\" xlink:show=\"new\" xlink:title=\"psysml:fc405a6c-3061-4540-9673-8b8e766ba6ac\" xlink:type=\"simple\"><polygon fill=\"#FFFFFF\" filter=\"url(#fmhwp7apabhcc)\" points=\"16,6,134,6,141,28.2969,296,28.2969,296,373,16,373,16,6\" style=\"stroke: #000000; stroke-width: 1.5;\"/><line style=\"stroke: #000000; stroke-width: 1.5;\" x1=\"16\" x2=\"141\" y1=\"28.2969\" y2=\"28.2969\"/><text fill=\"#000000\" font-family=\"sans-serif\" font-size=\"14\" font-weight=\"bold\" lengthAdjust=\"spacingAndGlyphs\" textLength=\"112\" x=\"20\" y=\"20.9951\">VariabilityTest</text></a><!--MD5=[b4997ac47864f28c2f74865a473b2911]\n",
       "class E2--><a href=\"psysml:dc902210-e855-46b4-a2dd-8255fef19514\" target=\"_top\" title=\"psysml:dc902210-e855-46b4-a2dd-8255fef19514\" xlink:actuate=\"onRequest\" xlink:href=\"psysml:dc902210-e855-46b4-a2dd-8255fef19514\" xlink:show=\"new\" xlink:title=\"psysml:dc902210-e855-46b4-a2dd-8255fef19514\" xlink:type=\"simple\"><rect fill=\"#FEFECE\" filter=\"url(#fmhwp7apabhcc)\" height=\"52.8047\" id=\"E2\" style=\"stroke: #A80036; stroke-width: 1.5;\" width=\"40\" x=\"137\" y=\"294.5\"/><ellipse cx=\"152\" cy=\"310.5\" fill=\"#008000\" rx=\"11\" ry=\"11\" style=\"stroke: #A80036; stroke-width: 1.0;\"/><path d=\"M150.9063,310.875 L150.9063,314.5469 L152.5313,314.5469 Q153.7031,314.5469 154.1719,314.1563 Q154.6406,313.75 154.6406,312.75 Q154.6406,311.75 154.1406,311.3125 Q153.6563,310.875 152.5313,310.875 L150.9063,310.875 Z M150.9063,306.0469 L150.9063,308.9219 L152.5313,308.9219 Q153.4531,308.9219 153.8438,308.5938 Q154.25,308.25 154.25,307.5 Q154.25,306.7344 153.8438,306.3906 Q153.4375,306.0469 152.5313,306.0469 L150.9063,306.0469 Z M148.5313,304.0938 L152.5313,304.0938 Q154.5938,304.0938 155.6406,304.875 Q156.6875,305.6563 156.6875,307.2188 Q156.6875,308.4219 156.0625,309.0938 Q155.4531,309.7656 154.2656,309.875 Q155.6875,310.0156 156.4063,310.8281 Q157.125,311.6406 157.125,313.0938 Q157.125,314.8906 156.0469,315.7031 Q154.9688,316.5 152.5313,316.5 L148.5313,316.5 L148.5313,304.0938 Z \"/><text fill=\"#000000\" font-family=\"sans-serif\" font-size=\"12\" lengthAdjust=\"spacingAndGlyphs\" textLength=\"8\" x=\"166\" y=\"314.6543\">P</text><line style=\"stroke: #A80036; stroke-width: 1.5;\" x1=\"138\" x2=\"176\" y1=\"326.5\" y2=\"326.5\"/><text fill=\"#000000\" font-family=\"sans-serif\" font-size=\"11\" lengthAdjust=\"spacingAndGlyphs\" textLength=\"7\" x=\"143\" y=\"340.7104\">a</text></a><!--MD5=[09b614a08d8cba4a07c9adeb5e0fee81]\n",
       "class E3--><a href=\"psysml:b52c8837-30af-42aa-bc51-100eaed5de80\" target=\"_top\" title=\"psysml:b52c8837-30af-42aa-bc51-100eaed5de80\" xlink:actuate=\"onRequest\" xlink:href=\"psysml:b52c8837-30af-42aa-bc51-100eaed5de80\" xlink:show=\"new\" xlink:title=\"psysml:b52c8837-30af-42aa-bc51-100eaed5de80\" xlink:type=\"simple\"><rect fill=\"#FEFECE\" filter=\"url(#fmhwp7apabhcc)\" height=\"40\" id=\"E3\" style=\"stroke: #A80036; stroke-width: 1.5;\" width=\"41\" x=\"163.5\" y=\"158\"/><ellipse cx=\"178.5\" cy=\"174\" fill=\"#008000\" rx=\"11\" ry=\"11\" style=\"stroke: #A80036; stroke-width: 1.0;\"/><path d=\"M177.4063,174.375 L177.4063,178.0469 L179.0313,178.0469 Q180.2031,178.0469 180.6719,177.6563 Q181.1406,177.25 181.1406,176.25 Q181.1406,175.25 180.6406,174.8125 Q180.1563,174.375 179.0313,174.375 L177.4063,174.375 Z M177.4063,169.5469 L177.4063,172.4219 L179.0313,172.4219 Q179.9531,172.4219 180.3438,172.0938 Q180.75,171.75 180.75,171 Q180.75,170.2344 180.3438,169.8906 Q179.9375,169.5469 179.0313,169.5469 L177.4063,169.5469 Z M175.0313,167.5938 L179.0313,167.5938 Q181.0938,167.5938 182.1406,168.375 Q183.1875,169.1563 183.1875,170.7188 Q183.1875,171.9219 182.5625,172.5938 Q181.9531,173.2656 180.7656,173.375 Q182.1875,173.5156 182.9063,174.3281 Q183.625,175.1406 183.625,176.5938 Q183.625,178.3906 182.5469,179.2031 Q181.4688,180 179.0313,180 L175.0313,180 L175.0313,167.5938 Z \"/><text fill=\"#000000\" font-family=\"sans-serif\" font-size=\"12\" lengthAdjust=\"spacingAndGlyphs\" textLength=\"9\" x=\"192.5\" y=\"178.1543\">Q</text><line style=\"stroke: #A80036; stroke-width: 1.5;\" x1=\"164.5\" x2=\"203.5\" y1=\"190\" y2=\"190\"/></a><!--MD5=[ebbe1d658d1005bcc118a6aa81145e00]\n",
       "class E4--><a href=\"psysml:f17815b8-46c4-4dd9-bf70-524ba6c03f24\" target=\"_top\" title=\"psysml:f17815b8-46c4-4dd9-bf70-524ba6c03f24\" xlink:actuate=\"onRequest\" xlink:href=\"psysml:f17815b8-46c4-4dd9-bf70-524ba6c03f24\" xlink:show=\"new\" xlink:title=\"psysml:f17815b8-46c4-4dd9-bf70-524ba6c03f24\" xlink:type=\"simple\"><rect fill=\"#FEFECE\" filter=\"url(#fmhwp7apabhcc)\" height=\"45.9375\" id=\"E4\" style=\"stroke: #A80036; stroke-width: 1.5;\" width=\"121\" x=\"158.5\" y=\"41\"/><ellipse cx=\"173.5\" cy=\"59.9688\" fill=\"#A52A2A\" rx=\"11\" ry=\"11\" style=\"stroke: #A80036; stroke-width: 1.0;\"/><path d=\"M173.0938,55.7813 L173.0938,63.7656 L173.75,63.7656 Q175.1875,63.7656 175.7969,62.8594 Q176.4219,61.9375 176.4219,59.7656 Q176.4219,57.5938 175.7969,56.6875 Q175.1875,55.7813 173.75,55.7813 L173.0938,55.7813 Z M170.6406,53.5781 L173.2656,53.5781 Q176.2969,53.5781 177.625,55.0313 Q178.9688,56.4688 178.9688,59.7656 Q178.9688,63.0625 177.625,64.5156 Q176.2969,65.9688 173.2656,65.9688 L170.6406,65.9688 L170.6406,53.5781 Z \"/><text fill=\"#000000\" font-family=\"sans-serif\" font-size=\"12\" font-style=\"italic\" lengthAdjust=\"spacingAndGlyphs\" textLength=\"93\" x=\"185.5\" y=\"57.1387\">«attribute def»</text><text fill=\"#000000\" font-family=\"sans-serif\" font-size=\"12\" lengthAdjust=\"spacingAndGlyphs\" textLength=\"8\" x=\"228\" y=\"71.1074\">B</text><line style=\"stroke: #A80036; stroke-width: 1.5;\" x1=\"159.5\" x2=\"278.5\" y1=\"78.9375\" y2=\"78.9375\"/></a><!--MD5=[270fce915f116d4de14055a7c1d9a0f3]\n",
       "class E5--><a href=\"psysml:b1ebe526-c40e-4c8f-ae74-16f7fcd1bdc9\" target=\"_top\" title=\"psysml:b1ebe526-c40e-4c8f-ae74-16f7fcd1bdc9\" xlink:actuate=\"onRequest\" xlink:href=\"psysml:b1ebe526-c40e-4c8f-ae74-16f7fcd1bdc9\" xlink:show=\"new\" xlink:title=\"psysml:b1ebe526-c40e-4c8f-ae74-16f7fcd1bdc9\" xlink:type=\"simple\"><rect fill=\"#FEFECE\" filter=\"url(#fmhwp7apabhcc)\" height=\"40\" id=\"E5\" style=\"stroke: #A80036; stroke-width: 1.5;\" width=\"40\" x=\"240\" y=\"158\"/><ellipse cx=\"255\" cy=\"174\" fill=\"#008000\" rx=\"11\" ry=\"11\" style=\"stroke: #A80036; stroke-width: 1.0;\"/><path d=\"M253.9063,174.375 L253.9063,178.0469 L255.5313,178.0469 Q256.7031,178.0469 257.1719,177.6563 Q257.6406,177.25 257.6406,176.25 Q257.6406,175.25 257.1406,174.8125 Q256.6563,174.375 255.5313,174.375 L253.9063,174.375 Z M253.9063,169.5469 L253.9063,172.4219 L255.5313,172.4219 Q256.4531,172.4219 256.8438,172.0938 Q257.25,171.75 257.25,171 Q257.25,170.2344 256.8438,169.8906 Q256.4375,169.5469 255.5313,169.5469 L253.9063,169.5469 Z M251.5313,167.5938 L255.5313,167.5938 Q257.5938,167.5938 258.6406,168.375 Q259.6875,169.1563 259.6875,170.7188 Q259.6875,171.9219 259.0625,172.5938 Q258.4531,173.2656 257.2656,173.375 Q258.6875,173.5156 259.4063,174.3281 Q260.125,175.1406 260.125,176.5938 Q260.125,178.3906 259.0469,179.2031 Q257.9688,180 255.5313,180 L251.5313,180 L251.5313,167.5938 Z \"/><text fill=\"#000000\" font-family=\"sans-serif\" font-size=\"12\" lengthAdjust=\"spacingAndGlyphs\" textLength=\"8\" x=\"269\" y=\"178.1543\">V</text><line style=\"stroke: #A80036; stroke-width: 1.5;\" x1=\"241\" x2=\"279\" y1=\"190\" y2=\"190\"/></a><!--MD5=[60a26617385b1d2d0262a64233df1f8d]\n",
       "class E6--><a href=\"psysml:05419eac-6c2b-46e9-bd3b-b31f448a077a\" target=\"_top\" title=\"psysml:05419eac-6c2b-46e9-bd3b-b31f448a077a\" xlink:actuate=\"onRequest\" xlink:href=\"psysml:05419eac-6c2b-46e9-bd3b-b31f448a077a\" xlink:show=\"new\" xlink:title=\"psysml:05419eac-6c2b-46e9-bd3b-b31f448a077a\" xlink:type=\"simple\"><rect fill=\"#FEFECE\" filter=\"url(#fmhwp7apabhcc)\" height=\"71.5469\" id=\"E6\" rx=\"10\" ry=\"10\" style=\"stroke: #A80036; stroke-width: 1.5;\" width=\"68\" x=\"212\" y=\"285\"/><ellipse cx=\"227\" cy=\"303.9688\" fill=\"#32CD32\" rx=\"11\" ry=\"11\" style=\"stroke: #A80036; stroke-width: 1.0;\"/><path d=\"M226.7969,299.6406 L226.7969,303.2656 L227.7969,303.2656 Q229,303.2656 229.4844,302.8594 Q229.9688,302.4531 229.9688,301.4531 Q229.9688,300.4531 229.4844,300.0469 Q229,299.6406 227.7969,299.6406 L226.7969,299.6406 Z M224.3438,297.5781 L227.7031,297.5781 Q230.2656,297.5781 231.3906,298.5 Q232.5156,299.4063 232.5156,301.4531 Q232.5156,303.5 231.3906,304.4219 Q230.2656,305.3281 227.7031,305.3281 L226.7969,305.3281 L226.7969,309.9688 L224.3438,309.9688 L224.3438,297.5781 Z \"/><text fill=\"#000000\" font-family=\"sans-serif\" font-size=\"12\" font-style=\"italic\" lengthAdjust=\"spacingAndGlyphs\" textLength=\"40\" x=\"239\" y=\"301.1387\">«part»</text><text fill=\"#000000\" font-family=\"sans-serif\" font-size=\"12\" lengthAdjust=\"spacingAndGlyphs\" textLength=\"23\" x=\"247.5\" y=\"315.1074\">x: Q</text><line style=\"stroke: #A80036; stroke-width: 1.5;\" x1=\"213\" x2=\"279\" y1=\"322.9375\" y2=\"322.9375\"/><text fill=\"#000000\" font-family=\"sans-serif\" font-size=\"11\" lengthAdjust=\"spacingAndGlyphs\" textLength=\"23\" x=\"218\" y=\"337.1479\">b: B</text><text fill=\"#000000\" font-family=\"sans-serif\" font-size=\"11\" font-style=\"italic\" lengthAdjust=\"spacingAndGlyphs\" textLength=\"44\" x=\"218\" y=\"349.9526\">:&gt;&gt;P::a</text></a><!--MD5=[2156ba9850f5573cc1fc38a6a4b2f02b]\n",
       "class E7--><a href=\"psysml:bd66bfa4-4cf8-4e62-98d6-c8549fcb8467\" target=\"_top\" title=\"psysml:bd66bfa4-4cf8-4e62-98d6-c8549fcb8467\" xlink:actuate=\"onRequest\" xlink:href=\"psysml:bd66bfa4-4cf8-4e62-98d6-c8549fcb8467\" xlink:show=\"new\" xlink:title=\"psysml:bd66bfa4-4cf8-4e62-98d6-c8549fcb8467\" xlink:type=\"simple\"><rect fill=\"#FEFECE\" filter=\"url(#fmhwp7apabhcc)\" height=\"45.9375\" id=\"E7\" rx=\"10\" ry=\"10\" style=\"stroke: #A80036; stroke-width: 1.5;\" width=\"68\" x=\"55\" y=\"41\"/><ellipse cx=\"70\" cy=\"59.9688\" fill=\"#32CD32\" rx=\"11\" ry=\"11\" style=\"stroke: #A80036; stroke-width: 1.0;\"/><path d=\"M69.7969,55.6406 L69.7969,59.2656 L70.7969,59.2656 Q72,59.2656 72.4844,58.8594 Q72.9688,58.4531 72.9688,57.4531 Q72.9688,56.4531 72.4844,56.0469 Q72,55.6406 70.7969,55.6406 L69.7969,55.6406 Z M67.3438,53.5781 L70.7031,53.5781 Q73.2656,53.5781 74.3906,54.5 Q75.5156,55.4063 75.5156,57.4531 Q75.5156,59.5 74.3906,60.4219 Q73.2656,61.3281 70.7031,61.3281 L69.7969,61.3281 L69.7969,65.9688 L67.3438,65.9688 L67.3438,53.5781 Z \"/><text fill=\"#000000\" font-family=\"sans-serif\" font-size=\"12\" font-style=\"italic\" lengthAdjust=\"spacingAndGlyphs\" textLength=\"40\" x=\"82\" y=\"57.1387\">«part»</text><text fill=\"#000000\" font-family=\"sans-serif\" font-size=\"12\" lengthAdjust=\"spacingAndGlyphs\" textLength=\"25\" x=\"89.5\" y=\"71.1074\">q: Q</text><line style=\"stroke: #A80036; stroke-width: 1.5;\" x1=\"56\" x2=\"122\" y1=\"78.9375\" y2=\"78.9375\"/></a><!--MD5=[b9389687b975829384b498ac4b7476b2]\n",
       "class E8--><a href=\"psysml:d11ba367-2498-4d3b-bf9a-6df5f0bc7068\" target=\"_top\" title=\"psysml:d11ba367-2498-4d3b-bf9a-6df5f0bc7068\" xlink:actuate=\"onRequest\" xlink:href=\"psysml:d11ba367-2498-4d3b-bf9a-6df5f0bc7068\" xlink:show=\"new\" xlink:title=\"psysml:d11ba367-2498-4d3b-bf9a-6df5f0bc7068\" xlink:type=\"simple\"><rect fill=\"#FEFECE\" filter=\"url(#fmhwp7apabhcc)\" height=\"59.9063\" id=\"E8\" rx=\"10\" ry=\"10\" style=\"stroke: #A80036; stroke-width: 1.5;\" width=\"96\" x=\"32\" y=\"148\"/><ellipse cx=\"47\" cy=\"173.9531\" fill=\"#32CD32\" rx=\"11\" ry=\"11\" style=\"stroke: #A80036; stroke-width: 1.0;\"/><path d=\"M46.7969,169.625 L46.7969,173.25 L47.7969,173.25 Q49,173.25 49.4844,172.8438 Q49.9688,172.4375 49.9688,171.4375 Q49.9688,170.4375 49.4844,170.0313 Q49,169.625 47.7969,169.625 L46.7969,169.625 Z M44.3438,167.5625 L47.7031,167.5625 Q50.2656,167.5625 51.3906,168.4844 Q52.5156,169.3906 52.5156,171.4375 Q52.5156,173.4844 51.3906,174.4063 Q50.2656,175.3125 47.7031,175.3125 L46.7969,175.3125 L46.7969,179.9531 L44.3438,179.9531 L44.3438,167.5625 Z \"/><text fill=\"#000000\" font-family=\"sans-serif\" font-size=\"12\" font-style=\"italic\" lengthAdjust=\"spacingAndGlyphs\" textLength=\"68\" x=\"59\" y=\"164.1387\">«variation»</text><text fill=\"#000000\" font-family=\"sans-serif\" font-size=\"12\" font-style=\"italic\" lengthAdjust=\"spacingAndGlyphs\" textLength=\"40\" x=\"73\" y=\"178.1074\">«part»</text><text fill=\"#000000\" font-family=\"sans-serif\" font-size=\"12\" lengthAdjust=\"spacingAndGlyphs\" textLength=\"22\" x=\"82\" y=\"192.0762\">v: P</text><line style=\"stroke: #A80036; stroke-width: 1.5;\" x1=\"33\" x2=\"127\" y1=\"199.9063\" y2=\"199.9063\"/></a><!--MD5=[fd4143e9d270a159db93a4ea2a975926]\n",
       "class E9--><a href=\"psysml:72597939-8390-466d-9479-39928477d122\" target=\"_top\" title=\"psysml:72597939-8390-466d-9479-39928477d122\" xlink:actuate=\"onRequest\" xlink:href=\"psysml:72597939-8390-466d-9479-39928477d122\" xlink:show=\"new\" xlink:title=\"psysml:72597939-8390-466d-9479-39928477d122\" xlink:type=\"simple\"><rect fill=\"#FEFECE\" filter=\"url(#fmhwp7apabhcc)\" height=\"71.5469\" id=\"E9\" rx=\"10\" ry=\"10\" style=\"stroke: #A80036; stroke-width: 1.5;\" width=\"68\" x=\"34\" y=\"285\"/><ellipse cx=\"49\" cy=\"303.9688\" fill=\"#32CD32\" rx=\"11\" ry=\"11\" style=\"stroke: #A80036; stroke-width: 1.0;\"/><path d=\"M48.7969,299.6406 L48.7969,303.2656 L49.7969,303.2656 Q51,303.2656 51.4844,302.8594 Q51.9688,302.4531 51.9688,301.4531 Q51.9688,300.4531 51.4844,300.0469 Q51,299.6406 49.7969,299.6406 L48.7969,299.6406 Z M46.3438,297.5781 L49.7031,297.5781 Q52.2656,297.5781 53.3906,298.5 Q54.5156,299.4063 54.5156,301.4531 Q54.5156,303.5 53.3906,304.4219 Q52.2656,305.3281 49.7031,305.3281 L48.7969,305.3281 L48.7969,309.9688 L46.3438,309.9688 L46.3438,297.5781 Z \"/><text fill=\"#000000\" font-family=\"sans-serif\" font-size=\"12\" font-style=\"italic\" lengthAdjust=\"spacingAndGlyphs\" textLength=\"40\" x=\"61\" y=\"301.1387\">«part»</text><text fill=\"#000000\" font-family=\"sans-serif\" font-size=\"12\" lengthAdjust=\"spacingAndGlyphs\" textLength=\"6\" x=\"78\" y=\"315.1074\">y</text><line style=\"stroke: #A80036; stroke-width: 1.5;\" x1=\"35\" x2=\"101\" y1=\"322.9375\" y2=\"322.9375\"/><text fill=\"#000000\" font-family=\"sans-serif\" font-size=\"11\" lengthAdjust=\"spacingAndGlyphs\" textLength=\"23\" x=\"40\" y=\"337.1479\">b: B</text><text fill=\"#000000\" font-family=\"sans-serif\" font-size=\"11\" font-style=\"italic\" lengthAdjust=\"spacingAndGlyphs\" textLength=\"44\" x=\"40\" y=\"349.9526\">:&gt;&gt;P::a</text></a><!--MD5=[05d275557350bfb9b23a4ef7222b4c39]\n",
       "link E3 to E2--><a href=\"psysml:0057605f-0b36-40b5-a833-d8040f0d9e74\" target=\"_top\" title=\"psysml:0057605f-0b36-40b5-a833-d8040f0d9e74\" xlink:actuate=\"onRequest\" xlink:href=\"psysml:0057605f-0b36-40b5-a833-d8040f0d9e74\" xlink:show=\"new\" xlink:title=\"psysml:0057605f-0b36-40b5-a833-d8040f0d9e74\" xlink:type=\"simple\"><path d=\"M176.69,198.12 C172.62,209.53 167.82,224.41 165,238 C162.59,249.64 160.9,262.37 159.72,274.25 \" fill=\"none\" id=\"E3-&gt;E2\" style=\"stroke: #A80036; stroke-width: 1.0;\"/><polygon fill=\"none\" points=\"166.68,274.93,158.09,294.3,152.73,273.8,166.68,274.93\" style=\"stroke: #A80036; stroke-width: 1.0;\"/></a><!--MD5=[15ebcb19ae302d9b601edb458606d402]\n",
       "link E5 to E2--><a href=\"psysml:922ee1f9-edf0-4204-bf0f-0435eb6f66de\" target=\"_top\" title=\"psysml:922ee1f9-edf0-4204-bf0f-0435eb6f66de\" xlink:actuate=\"onRequest\" xlink:href=\"psysml:922ee1f9-edf0-4204-bf0f-0435eb6f66de\" xlink:show=\"new\" xlink:title=\"psysml:922ee1f9-edf0-4204-bf0f-0435eb6f66de\" xlink:type=\"simple\"><path d=\"M246.11,198.02 C231.2,218.43 207.04,251.5 187.64,278.06 \" fill=\"none\" id=\"E5-&gt;E2\" style=\"stroke: #A80036; stroke-width: 1.0;\"/><polygon fill=\"none\" points=\"193.17,282.35,175.72,294.37,181.87,274.09,193.17,282.35\" style=\"stroke: #A80036; stroke-width: 1.0;\"/></a><!--MD5=[9120cf2e5df3bff93db8f754bbbc09b4]\n",
       "link E5 to E6--><a href=\"psysml:1c0ef759-8c31-4a4a-b0e7-e872c2806a04\" target=\"_top\" title=\"psysml:1c0ef759-8c31-4a4a-b0e7-e872c2806a04\" xlink:actuate=\"onRequest\" xlink:href=\"psysml:1c0ef759-8c31-4a4a-b0e7-e872c2806a04\" xlink:show=\"new\" xlink:title=\"psysml:1c0ef759-8c31-4a4a-b0e7-e872c2806a04\" xlink:type=\"simple\"><path d=\"M257.1,208.19 C255.19,227.4 252.66,252.93 250.49,274.74 \" fill=\"none\" id=\"E5-E6\" style=\"stroke: #A80036; stroke-width: 1.0;\"/><polygon fill=\"#A80036\" points=\"249.5,284.79,253.2735,277.1245,247.3027,276.5334,249.5,284.79\" style=\"stroke: #A80036; stroke-width: 1.0;\"/><path d=\"M249.3907,200.2501 A9,9 0 0 0 266.2229 201.9164\" fill=\"none\" style=\"stroke: #A80036; stroke-width: 1.5;\"/><text fill=\"#000000\" font-family=\"sans-serif\" font-size=\"13\" lengthAdjust=\"spacingAndGlyphs\" textLength=\"60\" x=\"254\" y=\"251.0669\">«variant»</text></a><!--MD5=[14ccda38c055a5c0da953d572bc50960]\n",
       "link E7 to E3--><a href=\"psysml:6aa04dcc-8d2e-4853-a2ca-5b94913b0044\" target=\"_top\" title=\"psysml:6aa04dcc-8d2e-4853-a2ca-5b94913b0044\" xlink:actuate=\"onRequest\" xlink:href=\"psysml:6aa04dcc-8d2e-4853-a2ca-5b94913b0044\" xlink:show=\"new\" xlink:title=\"psysml:6aa04dcc-8d2e-4853-a2ca-5b94913b0044\" xlink:type=\"simple\"><path d=\"M107.77,87.13 C121.18,102.94 139.49,124.53 154.81,142.58 \" fill=\"none\" id=\"E7-&gt;E3\" style=\"stroke: #A80036; stroke-width: 1.0;\"/><polygon fill=\"#FFFFFF\" points=\"167.8,157.9,150.1709,147.9394,160.8469,138.8828,167.8,157.9\" style=\"stroke: #A80036; stroke-width: 1.0;\"/><ellipse cx=\"148.0087\" cy=\"142.299\" fill=\"#A80036\" rx=\"2\" ry=\"2\" style=\"stroke: #A80036; stroke-width: 1.0;\"/><ellipse cx=\"155.6344\" cy=\"135.8299\" fill=\"#A80036\" rx=\"2\" ry=\"2\" style=\"stroke: #A80036; stroke-width: 1.0;\"/></a><!--MD5=[f1f3f9f2fc535e6147756cb86a7f2e32]\n",
       "link E8 to E2--><a href=\"psysml:62998d3a-e41b-4231-af2c-a0f2b465e4e7\" target=\"_top\" title=\"psysml:62998d3a-e41b-4231-af2c-a0f2b465e4e7\" xlink:actuate=\"onRequest\" xlink:href=\"psysml:62998d3a-e41b-4231-af2c-a0f2b465e4e7\" xlink:show=\"new\" xlink:title=\"psysml:62998d3a-e41b-4231-af2c-a0f2b465e4e7\" xlink:type=\"simple\"><path d=\"M120.07,208.27 C129.27,216.85 138.08,226.94 144,238 C149.86,248.94 153.24,261.79 155.16,274.03 \" fill=\"none\" id=\"E8-&gt;E2\" style=\"stroke: #A80036; stroke-width: 1.0;\"/><polygon fill=\"#FFFFFF\" points=\"157.21,294.23,148.3322,276.0315,162.261,274.6217,157.21,294.23\" style=\"stroke: #A80036; stroke-width: 1.0;\"/><ellipse cx=\"149.748\" cy=\"270.1591\" fill=\"#A80036\" rx=\"2\" ry=\"2\" style=\"stroke: #A80036; stroke-width: 1.0;\"/><ellipse cx=\"159.6971\" cy=\"269.152\" fill=\"#A80036\" rx=\"2\" ry=\"2\" style=\"stroke: #A80036; stroke-width: 1.0;\"/></a><!--MD5=[ed10624c06dd9a4fa49ccf290e8b16a8]\n",
       "link E8 to E9--><a href=\"psysml:196bced0-9581-41ba-9556-fc72f0b07990\" target=\"_top\" title=\"psysml:196bced0-9581-41ba-9556-fc72f0b07990\" xlink:actuate=\"onRequest\" xlink:href=\"psysml:196bced0-9581-41ba-9556-fc72f0b07990\" xlink:show=\"new\" xlink:title=\"psysml:196bced0-9581-41ba-9556-fc72f0b07990\" xlink:type=\"simple\"><path d=\"M76.65,218.35 C75.16,235.87 73.39,256.61 71.85,274.77 \" fill=\"none\" id=\"E8-E9\" style=\"stroke: #A80036; stroke-width: 1.0;\"/><polygon fill=\"#A80036\" points=\"70.99,284.83,74.6641,277.1163,68.6862,276.6025,70.99,284.83\" style=\"stroke: #A80036; stroke-width: 1.0;\"/><path d=\"M68.8199,210.5615 A9,9 0 0 0 85.6721 212.0122\" fill=\"none\" style=\"stroke: #A80036; stroke-width: 1.5;\"/><text fill=\"#000000\" font-family=\"sans-serif\" font-size=\"13\" lengthAdjust=\"spacingAndGlyphs\" textLength=\"60\" x=\"75\" y=\"251.0669\">«variant»</text></a><!--MD5=[9ef2c84ccc8fee6b3ab1c9c385768e5b]\n",
       "@startuml\r\n",
       " \r\n",
       "package \"VariabilityTest\" as E1  [[psysml:fc405a6c-3061-4540-9673-8b8e766ba6ac ]]  {\r\n",
       "comp def \"P\" as E2  << (B,green) >> [[psysml:dc902210-e855-46b4-a2dd-8255fef19514 ]] {\r\n",
       "a\r\n",
       "}\r\n",
       "comp def \"Q\" as E3  << (B,green) >> [[psysml:b52c8837-30af-42aa-bc51-100eaed5de80 ]] {\r\n",
       "}\r\n",
       "comp def \"B\" as E4  <<(D,brown)attribute def>> [[psysml:f17815b8-46c4-4dd9-bf70-524ba6c03f24 ]] {\r\n",
       "}\r\n",
       "comp def \"V\" as E5  << (B,green) >> [[psysml:b1ebe526-c40e-4c8f-ae74-16f7fcd1bdc9 ]] {\r\n",
       "}\r\n",
       "comp usage \"x: Q\" as E6  << (P,limegreen) part>> [[psysml:05419eac-6c2b-46e9-bd3b-b31f448a077a ]] {\r\n",
       "b: B\\n//:>>P::a// \r\n",
       "}\r\n",
       "comp usage \"q: Q\" as E7  << (P,limegreen) part>> [[psysml:bd66bfa4-4cf8-4e62-98d6-c8549fcb8467 ]] {\r\n",
       "}\r\n",
       "comp usage \"v: P\" as E8  <<variation>>\\n << (P,limegreen) part>> [[psysml:d11ba367-2498-4d3b-bf9a-6df5f0bc7068 ]] {\r\n",
       "}\r\n",
       "comp usage \"y\" as E9  << (P,limegreen) part>> [[psysml:72597939-8390-466d-9479-39928477d122 ]] {\r\n",
       "b: B\\n//:>>P::a// \r\n",
       "}\r\n",
       "E3 - -|> E2 [[psysml:0057605f-0b36-40b5-a833-d8040f0d9e74 ]] \r\n",
       "E5 - -|> E2 [[psysml:922ee1f9-edf0-4204-bf0f-0435eb6f66de ]] \r\n",
       "E5 )- ->> E6 [[psysml:1c0ef759-8c31-4a4a-b0e7-e872c2806a04 ]] : <<variant>>\r\n",
       "E7 - -:|> E3 [[psysml:6aa04dcc-8d2e-4853-a2ca-5b94913b0044 ]] \r\n",
       "E8 - -:|> E2 [[psysml:62998d3a-e41b-4231-af2c-a0f2b465e4e7 ]] \r\n",
       "E8 )- ->> E9 [[psysml:196bced0-9581-41ba-9556-fc72f0b07990 ]] : <<variant>>\r\n",
       "}\r\n",
       "@enduml\r\n",
       "\n",
       "PlantUML version 1.2020.13(Sat Jun 13 12:26:38 UTC 2020)\n",
       "(EPL source distribution)\n",
       "Java Runtime: OpenJDK Runtime Environment\n",
       "JVM: OpenJDK 64-Bit Server VM\n",
       "Default Encoding: UTF-8\n",
       "Language: en\n",
       "Country: null\n",
       "--></g></svg>"
      ]
     },
     "execution_count": 31,
     "metadata": {},
     "output_type": "execute_result"
    }
   ],
   "source": [
    "%viz --style=\"PLANTUML\" --view=\"Tree\" \"VariabilityTest\""
   ]
  },
  {
   "cell_type": "code",
   "execution_count": 32,
   "id": "industrial-carolina",
   "metadata": {
    "execution": {
     "iopub.execute_input": "2021-03-25T15:07:44.250200Z",
     "iopub.status.busy": "2021-03-25T15:07:44.249638Z",
     "iopub.status.idle": "2021-03-25T15:07:45.109981Z",
     "shell.execute_reply": "2021-03-25T15:07:45.109546Z"
    }
   },
   "outputs": [
    {
     "data": {
      "image/svg+xml": [
       "<?xml version=\"1.0\" encoding=\"UTF-8\" standalone=\"no\"?><svg xmlns=\"http://www.w3.org/2000/svg\" xmlns:xlink=\"http://www.w3.org/1999/xlink\" contentScriptType=\"application/ecmascript\" contentStyleType=\"text/css\" height=\"303px\" preserveAspectRatio=\"none\" style=\"width:603px;height:303px;background:#000000;\" version=\"1.1\" viewBox=\"0 0 603 303\" width=\"603px\" zoomAndPan=\"magnify\"><defs/><g><rect fill=\"#122624\" height=\"1\" style=\"stroke: #122624; stroke-width: 1.0;\" width=\"1\" x=\"0\" y=\"0\"/><rect fill=\"#FFFFFF\" height=\"205.5625\" style=\"stroke: #FFFFFF; stroke-width: 1.0;\" width=\"602\" x=\"0\" y=\"0\"/><text fill=\"#000000\" font-family=\"sans-serif\" font-size=\"12\" font-weight=\"bold\" lengthAdjust=\"spacingAndGlyphs\" textLength=\"159\" x=\"5\" y=\"16.1387\">Welcome to PlantUML!</text><text fill=\"#000000\" font-family=\"sans-serif\" font-size=\"12\" lengthAdjust=\"spacingAndGlyphs\" textLength=\"0\" x=\"9\" y=\"30.1074\"/><text fill=\"#000000\" font-family=\"sans-serif\" font-size=\"12\" lengthAdjust=\"spacingAndGlyphs\" textLength=\"293\" x=\"5\" y=\"44.0762\">If you use this software, you accept its license.</text><text fill=\"#000000\" font-family=\"sans-serif\" font-size=\"12\" lengthAdjust=\"spacingAndGlyphs\" textLength=\"107\" x=\"5\" y=\"58.0449\">(details by typing</text><text fill=\"#000000\" font-family=\"monospace\" font-size=\"12\" lengthAdjust=\"spacingAndGlyphs\" textLength=\"49\" x=\"116\" y=\"58.0449\">license</text><text fill=\"#000000\" font-family=\"sans-serif\" font-size=\"12\" lengthAdjust=\"spacingAndGlyphs\" textLength=\"56\" x=\"169\" y=\"58.0449\">keyword)</text><text fill=\"#000000\" font-family=\"sans-serif\" font-size=\"12\" lengthAdjust=\"spacingAndGlyphs\" textLength=\"0\" x=\"9\" y=\"72.0137\"/><text fill=\"#000000\" font-family=\"sans-serif\" font-size=\"12\" lengthAdjust=\"spacingAndGlyphs\" textLength=\"283\" x=\"5\" y=\"85.9824\">You can start with a simple UML Diagram like:</text><text fill=\"#000000\" font-family=\"sans-serif\" font-size=\"12\" lengthAdjust=\"spacingAndGlyphs\" textLength=\"0\" x=\"9\" y=\"99.9512\"/><text fill=\"#000000\" font-family=\"monospace\" font-size=\"12\" lengthAdjust=\"spacingAndGlyphs\" textLength=\"119\" x=\"5\" y=\"113.9199\">Bob-&gt;Alice: Hello</text><text fill=\"#000000\" font-family=\"sans-serif\" font-size=\"12\" lengthAdjust=\"spacingAndGlyphs\" textLength=\"0\" x=\"9\" y=\"127.8887\"/><text fill=\"#000000\" font-family=\"sans-serif\" font-size=\"12\" lengthAdjust=\"spacingAndGlyphs\" textLength=\"14\" x=\"5\" y=\"141.8574\">Or</text><text fill=\"#000000\" font-family=\"sans-serif\" font-size=\"12\" lengthAdjust=\"spacingAndGlyphs\" textLength=\"0\" x=\"9\" y=\"155.8262\"/><text fill=\"#000000\" font-family=\"monospace\" font-size=\"12\" lengthAdjust=\"spacingAndGlyphs\" textLength=\"91\" x=\"5\" y=\"169.7949\">class Example</text><text fill=\"#000000\" font-family=\"sans-serif\" font-size=\"12\" lengthAdjust=\"spacingAndGlyphs\" textLength=\"0\" x=\"9\" y=\"183.7637\"/><text fill=\"#000000\" font-family=\"sans-serif\" font-size=\"12\" lengthAdjust=\"spacingAndGlyphs\" textLength=\"349\" x=\"5\" y=\"197.7324\">You will find more information about PlantUML syntax on</text><text fill=\"#000000\" font-family=\"sans-serif\" font-size=\"12\" lengthAdjust=\"spacingAndGlyphs\" text-decoration=\"underline\" textLength=\"129\" x=\"358\" y=\"197.7324\">https://plantuml.com</text><image height=\"71\" width=\"80\" x=\"516\" xlink:href=\"data:image/png;base64,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\" y=\"6\"/><rect fill=\"#000000\" height=\"96.4844\" style=\"stroke: #000000; stroke-width: 1.0;\" width=\"602\" x=\"0\" y=\"205.5625\"/><rect fill=\"#33FF02\" height=\"21.2969\" style=\"stroke: #33FF02; stroke-width: 1.0;\" width=\"170\" x=\"5\" y=\"210.5625\"/><text fill=\"#000000\" font-family=\"sans-serif\" font-size=\"14\" font-weight=\"bold\" lengthAdjust=\"spacingAndGlyphs\" textLength=\"168\" x=\"6\" y=\"225.5625\">[From string (line 2) ]</text><text fill=\"#33FF02\" font-family=\"sans-serif\" font-size=\"14\" font-weight=\"bold\" lengthAdjust=\"spacingAndGlyphs\" textLength=\"0\" x=\"10\" y=\"245.8594\"/><text fill=\"#33FF02\" font-family=\"sans-serif\" font-size=\"14\" font-weight=\"bold\" lengthAdjust=\"spacingAndGlyphs\" textLength=\"79\" x=\"5\" y=\"262.1563\">@startuml</text><text fill=\"#33FF02\" font-family=\"sans-serif\" font-size=\"14\" font-weight=\"bold\" lengthAdjust=\"spacingAndGlyphs\" textLength=\"0\" x=\"10\" y=\"278.4531\"/><text fill=\"#FF0000\" font-family=\"sans-serif\" font-size=\"14\" font-weight=\"bold\" lengthAdjust=\"spacingAndGlyphs\" textLength=\"142\" x=\"10\" y=\"294.75\">Empty description</text><!--MD5=[f59edd8218d337f74d0c332fc6737304]\n",
       "@startuml\r\n",
       " \r\n",
       "@enduml\r\n",
       "\n",
       "PlantUML version 1.2020.13(Sat Jun 13 12:26:38 UTC 2020)\n",
       "(EPL source distribution)\n",
       "Java Runtime: OpenJDK Runtime Environment\n",
       "JVM: OpenJDK 64-Bit Server VM\n",
       "Default Encoding: UTF-8\n",
       "Language: en\n",
       "Country: null\n",
       "--></g></svg>"
      ]
     },
     "execution_count": 32,
     "metadata": {},
     "output_type": "execute_result"
    }
   ],
   "source": [
    "%viz --style=\"PLANTUML\" --view=\"State\" \"VariabilityTest\""
   ]
  },
  {
   "cell_type": "code",
   "execution_count": 33,
   "id": "moral-opening",
   "metadata": {
    "execution": {
     "iopub.execute_input": "2021-03-25T15:07:45.161052Z",
     "iopub.status.busy": "2021-03-25T15:07:45.160499Z",
     "iopub.status.idle": "2021-03-25T15:07:45.293916Z",
     "shell.execute_reply": "2021-03-25T15:07:45.291863Z"
    }
   },
   "outputs": [
    {
     "data": {
      "image/svg+xml": [
       "<?xml version=\"1.0\" encoding=\"UTF-8\" standalone=\"no\"?><svg xmlns=\"http://www.w3.org/2000/svg\" xmlns:xlink=\"http://www.w3.org/1999/xlink\" contentScriptType=\"application/ecmascript\" contentStyleType=\"text/css\" height=\"442px\" preserveAspectRatio=\"none\" style=\"width:886px;height:442px;\" version=\"1.1\" viewBox=\"0 0 886 442\" width=\"886px\" zoomAndPan=\"magnify\"><defs><filter height=\"300%\" id=\"f159cmvr7ckmt1\" width=\"300%\" x=\"-1\" y=\"-1\"><feGaussianBlur result=\"blurOut\" stdDeviation=\"2.0\"/><feColorMatrix in=\"blurOut\" result=\"blurOut2\" type=\"matrix\" values=\"0 0 0 0 0 0 0 0 0 0 0 0 0 0 0 0 0 0 .4 0\"/><feOffset dx=\"4.0\" dy=\"4.0\" in=\"blurOut2\" result=\"blurOut3\"/><feBlend in=\"SourceGraphic\" in2=\"blurOut3\" mode=\"normal\"/></filter></defs><g><!--MD5=[fbc87193dbaf4d95561dea2c320d4a47]\n",
       "cluster E1--><a href=\"psysml:fc405a6c-3061-4540-9673-8b8e766ba6ac\" target=\"_top\" title=\"psysml:fc405a6c-3061-4540-9673-8b8e766ba6ac\" xlink:actuate=\"onRequest\" xlink:href=\"psysml:fc405a6c-3061-4540-9673-8b8e766ba6ac\" xlink:show=\"new\" xlink:title=\"psysml:fc405a6c-3061-4540-9673-8b8e766ba6ac\" xlink:type=\"simple\"><polygon fill=\"#FFFFFF\" filter=\"url(#f159cmvr7ckmt1)\" points=\"16,6,134,6,141,28.2969,864,28.2969,864,430,16,430,16,6\" style=\"stroke: #000000; stroke-width: 1.5;\"/><line style=\"stroke: #000000; stroke-width: 1.5;\" x1=\"16\" x2=\"141\" y1=\"28.2969\" y2=\"28.2969\"/><text fill=\"#000000\" font-family=\"sans-serif\" font-size=\"14\" font-weight=\"bold\" lengthAdjust=\"spacingAndGlyphs\" textLength=\"112\" x=\"20\" y=\"20.9951\">VariabilityTest</text></a><!--MD5=[e4f7fae6ed58524ba242bb0b0d3be6b7]\n",
       "cluster E2--><a href=\"psysml:dc902210-e855-46b4-a2dd-8255fef19514\" target=\"_top\" title=\"psysml:dc902210-e855-46b4-a2dd-8255fef19514\" xlink:actuate=\"onRequest\" xlink:href=\"psysml:dc902210-e855-46b4-a2dd-8255fef19514\" xlink:show=\"new\" xlink:title=\"psysml:dc902210-e855-46b4-a2dd-8255fef19514\" xlink:type=\"simple\"><rect fill=\"#FFFFFF\" filter=\"url(#f159cmvr7ckmt1)\" height=\"110\" id=\"E2\" style=\"stroke: #A80036; stroke-width: 1.5;\" width=\"169\" x=\"386\" y=\"288\"/><rect fill=\"#FEFECE\" height=\"23.9688\" style=\"stroke: #A80036; stroke-width: 1.5;\" width=\"169\" x=\"386\" y=\"288\"/><text fill=\"#000000\" font-family=\"sans-serif\" font-size=\"12\" lengthAdjust=\"spacingAndGlyphs\" textLength=\"8\" x=\"466.5\" y=\"304.1387\">P</text></a><!--MD5=[14e3b0961a2654348d326746436168a1]\n",
       "cluster E6--><a href=\"psysml:b1ebe526-c40e-4c8f-ae74-16f7fcd1bdc9\" target=\"_top\" title=\"psysml:b1ebe526-c40e-4c8f-ae74-16f7fcd1bdc9\" xlink:actuate=\"onRequest\" xlink:href=\"psysml:b1ebe526-c40e-4c8f-ae74-16f7fcd1bdc9\" xlink:show=\"new\" xlink:title=\"psysml:b1ebe526-c40e-4c8f-ae74-16f7fcd1bdc9\" xlink:type=\"simple\"><rect fill=\"#FFFFFF\" filter=\"url(#f159cmvr7ckmt1)\" height=\"191\" id=\"E6\" style=\"stroke: #A80036; stroke-width: 1.5;\" width=\"206\" x=\"626\" y=\"57\"/><rect fill=\"#FEFECE\" height=\"23.9688\" style=\"stroke: #A80036; stroke-width: 1.5;\" width=\"206\" x=\"626\" y=\"57\"/><text fill=\"#000000\" font-family=\"sans-serif\" font-size=\"12\" lengthAdjust=\"spacingAndGlyphs\" textLength=\"8\" x=\"725\" y=\"73.1387\">V</text></a><!--MD5=[168fadf3d0c3fd93dd5d6da1b1d7ab76]\n",
       "cluster E7--><a href=\"psysml:05419eac-6c2b-46e9-bd3b-b31f448a077a\" target=\"_top\" title=\"psysml:05419eac-6c2b-46e9-bd3b-b31f448a077a\" xlink:actuate=\"onRequest\" xlink:href=\"psysml:05419eac-6c2b-46e9-bd3b-b31f448a077a\" xlink:show=\"new\" xlink:title=\"psysml:05419eac-6c2b-46e9-bd3b-b31f448a077a\" xlink:type=\"simple\"><rect fill=\"#FFFFFF\" filter=\"url(#f159cmvr7ckmt1)\" height=\"108\" id=\"E7\" rx=\"10\" ry=\"10\" style=\"stroke: #A80036; stroke-width: 1.5;\" width=\"134\" x=\"666\" y=\"108\"/><rect fill=\"#FEFECE\" height=\"23.9688\" rx=\"10\" ry=\"10\" style=\"stroke: #FEFECE; stroke-width: 1.5;\" width=\"134\" x=\"666\" y=\"108\"/><rect fill=\"#FEFECE\" height=\"10\" style=\"stroke: #FEFECE; stroke-width: 1.5;\" width=\"134\" x=\"666\" y=\"121.9688\"/><rect fill=\"none\" height=\"108\" id=\"E7\" rx=\"10\" ry=\"10\" style=\"stroke: #A80036; stroke-width: 1.5;\" width=\"134\" x=\"666\" y=\"108\"/><text fill=\"#000000\" font-family=\"sans-serif\" font-size=\"12\" lengthAdjust=\"spacingAndGlyphs\" textLength=\"23\" x=\"721.5\" y=\"124.1387\">x: Q</text><line style=\"stroke: #A80036; stroke-width: 1.0;\" x1=\"666\" x2=\"800\" y1=\"131.9688\" y2=\"131.9688\"/></a><!--MD5=[a84b4591f868c1fa4a211716a82f2f0d]\n",
       "cluster E10--><a href=\"psysml:d11ba367-2498-4d3b-bf9a-6df5f0bc7068\" target=\"_top\" title=\"psysml:d11ba367-2498-4d3b-bf9a-6df5f0bc7068\" xlink:actuate=\"onRequest\" xlink:href=\"psysml:d11ba367-2498-4d3b-bf9a-6df5f0bc7068\" xlink:show=\"new\" xlink:title=\"psysml:d11ba367-2498-4d3b-bf9a-6df5f0bc7068\" xlink:type=\"simple\"><rect fill=\"#FFFFFF\" filter=\"url(#f159cmvr7ckmt1)\" height=\"191\" id=\"E10\" rx=\"10\" ry=\"10\" style=\"stroke: #A80036; stroke-width: 1.5;\" width=\"182\" x=\"412\" y=\"49\"/><rect fill=\"#FEFECE\" height=\"37.9375\" rx=\"10\" ry=\"10\" style=\"stroke: #FEFECE; stroke-width: 1.5;\" width=\"182\" x=\"412\" y=\"49\"/><rect fill=\"#FEFECE\" height=\"10\" style=\"stroke: #FEFECE; stroke-width: 1.5;\" width=\"182\" x=\"412\" y=\"76.9375\"/><rect fill=\"none\" height=\"191\" id=\"E10\" rx=\"10\" ry=\"10\" style=\"stroke: #A80036; stroke-width: 1.5;\" width=\"182\" x=\"412\" y=\"49\"/><text fill=\"#000000\" font-family=\"sans-serif\" font-size=\"12\" font-style=\"italic\" lengthAdjust=\"spacingAndGlyphs\" textLength=\"68\" x=\"469\" y=\"65.1387\">«variation»</text><text fill=\"#000000\" font-family=\"sans-serif\" font-size=\"12\" lengthAdjust=\"spacingAndGlyphs\" textLength=\"22\" x=\"492\" y=\"79.1074\">v: P</text><line style=\"stroke: #A80036; stroke-width: 1.0;\" x1=\"412\" x2=\"594\" y1=\"86.9375\" y2=\"86.9375\"/></a><!--MD5=[917b9dd0c7eca3ee5f47219d1a84c0ad]\n",
       "cluster E11--><a href=\"psysml:72597939-8390-466d-9479-39928477d122\" target=\"_top\" title=\"psysml:72597939-8390-466d-9479-39928477d122\" xlink:actuate=\"onRequest\" xlink:href=\"psysml:72597939-8390-466d-9479-39928477d122\" xlink:show=\"new\" xlink:title=\"psysml:72597939-8390-466d-9479-39928477d122\" xlink:type=\"simple\"><rect fill=\"#FFFFFF\" filter=\"url(#f159cmvr7ckmt1)\" height=\"108\" id=\"E11\" rx=\"10\" ry=\"10\" style=\"stroke: #A80036; stroke-width: 1.5;\" width=\"134\" x=\"436\" y=\"108\"/><rect fill=\"#FEFECE\" height=\"23.9688\" rx=\"10\" ry=\"10\" style=\"stroke: #FEFECE; stroke-width: 1.5;\" width=\"134\" x=\"436\" y=\"108\"/><rect fill=\"#FEFECE\" height=\"10\" style=\"stroke: #FEFECE; stroke-width: 1.5;\" width=\"134\" x=\"436\" y=\"121.9688\"/><rect fill=\"none\" height=\"108\" id=\"E11\" rx=\"10\" ry=\"10\" style=\"stroke: #A80036; stroke-width: 1.5;\" width=\"134\" x=\"436\" y=\"108\"/><text fill=\"#000000\" font-family=\"sans-serif\" font-size=\"12\" lengthAdjust=\"spacingAndGlyphs\" textLength=\"6\" x=\"500\" y=\"124.1387\">y</text><line style=\"stroke: #A80036; stroke-width: 1.0;\" x1=\"436\" x2=\"570\" y1=\"131.9688\" y2=\"131.9688\"/></a><!--MD5=[270fce915f116d4de14055a7c1d9a0f3]\n",
       "class E5--><a href=\"psysml:f17815b8-46c4-4dd9-bf70-524ba6c03f24\" target=\"_top\" title=\"psysml:f17815b8-46c4-4dd9-bf70-524ba6c03f24\" xlink:actuate=\"onRequest\" xlink:href=\"psysml:f17815b8-46c4-4dd9-bf70-524ba6c03f24\" xlink:show=\"new\" xlink:title=\"psysml:f17815b8-46c4-4dd9-bf70-524ba6c03f24\" xlink:type=\"simple\"><rect fill=\"#FEFECE\" filter=\"url(#f159cmvr7ckmt1)\" height=\"53.9375\" id=\"E5\" style=\"stroke: #A80036; stroke-width: 1.5;\" width=\"182\" x=\"214\" y=\"144.5\"/><ellipse cx=\"229\" cy=\"163.4688\" fill=\"#ADD1B2\" rx=\"11\" ry=\"11\" style=\"stroke: #A80036; stroke-width: 1.0;\"/><path d=\"M231.9688,169.1094 Q231.3906,169.4063 230.75,169.5469 Q230.1094,169.7031 229.4063,169.7031 Q226.9063,169.7031 225.5781,168.0625 Q224.2656,166.4063 224.2656,163.2813 Q224.2656,160.1563 225.5781,158.5 Q226.9063,156.8438 229.4063,156.8438 Q230.1094,156.8438 230.75,157 Q231.4063,157.1563 231.9688,157.4531 L231.9688,160.1719 Q231.3438,159.5938 230.75,159.3281 Q230.1563,159.0469 229.5313,159.0469 Q228.1875,159.0469 227.5,160.125 Q226.8125,161.1875 226.8125,163.2813 Q226.8125,165.375 227.5,166.4531 Q228.1875,167.5156 229.5313,167.5156 Q230.1563,167.5156 230.75,167.25 Q231.3438,166.9688 231.9688,166.3906 L231.9688,169.1094 Z \"/><text fill=\"#000000\" font-family=\"sans-serif\" font-size=\"12\" font-style=\"italic\" lengthAdjust=\"spacingAndGlyphs\" textLength=\"154\" x=\"241\" y=\"160.6387\">«(D,brown)attribute def»</text><text fill=\"#000000\" font-family=\"sans-serif\" font-size=\"12\" lengthAdjust=\"spacingAndGlyphs\" textLength=\"8\" x=\"314\" y=\"174.6074\">B</text><line style=\"stroke: #A80036; stroke-width: 1.5;\" x1=\"215\" x2=\"395\" y1=\"182.4375\" y2=\"182.4375\"/><line style=\"stroke: #A80036; stroke-width: 1.5;\" x1=\"215\" x2=\"395\" y1=\"190.4375\" y2=\"190.4375\"/></a><g id=\"E1.E2.E3\"><a href=\"psysml:6681b89b-422d-48d0-bc41-7a96ec587b7c\" target=\"_top\" title=\"psysml:6681b89b-422d-48d0-bc41-7a96ec587b7c\" xlink:actuate=\"onRequest\" xlink:href=\"psysml:6681b89b-422d-48d0-bc41-7a96ec587b7c\" xlink:show=\"new\" xlink:title=\"psysml:6681b89b-422d-48d0-bc41-7a96ec587b7c\" xlink:type=\"simple\"><rect fill=\"#FEFECE\" filter=\"url(#f159cmvr7ckmt1)\" height=\"42.9375\" id=\"E3\" rx=\"10\" ry=\"10\" style=\"stroke: #A80036; stroke-width: 1.5;\" width=\"102\" x=\"429\" y=\"331\"/><ellipse cx=\"446.25\" cy=\"349.9688\" fill=\"#FFA500\" rx=\"11\" ry=\"11\" style=\"stroke: #A80036; stroke-width: 1.0;\"/><path d=\"M442.125,351.8906 L442.125,344.0781 L444.5781,344.0781 L444.5781,352.5156 Q444.5781,353.4375 445.0469,353.9688 Q445.5313,354.5 446.3594,354.5 Q447.2031,354.5 447.6719,353.9688 Q448.1406,353.4375 448.1406,352.5156 L448.1406,344.0781 L450.5938,344.0781 L450.5938,351.8906 Q450.5938,354.4219 449.5938,355.5625 Q448.5938,356.7031 446.3594,356.7031 Q444.1406,356.7031 443.125,355.5625 Q442.125,354.4219 442.125,351.8906 Z \"/><text fill=\"#000000\" font-family=\"sans-serif\" font-size=\"12\" font-style=\"italic\" lengthAdjust=\"spacingAndGlyphs\" textLength=\"69\" x=\"458.75\" y=\"347.1387\">«attribute»</text><text fill=\"#000000\" font-family=\"sans-serif\" font-size=\"12\" lengthAdjust=\"spacingAndGlyphs\" textLength=\"8\" x=\"489.25\" y=\"361.1074\">a</text></a></g><g id=\"E1.E4\"><a href=\"psysml:b52c8837-30af-42aa-bc51-100eaed5de80\" target=\"_top\" title=\"psysml:b52c8837-30af-42aa-bc51-100eaed5de80\" xlink:actuate=\"onRequest\" xlink:href=\"psysml:b52c8837-30af-42aa-bc51-100eaed5de80\" xlink:show=\"new\" xlink:title=\"psysml:b52c8837-30af-42aa-bc51-100eaed5de80\" xlink:type=\"simple\"><rect fill=\"#FEFECE\" filter=\"url(#f159cmvr7ckmt1)\" height=\"40\" id=\"E4\" style=\"stroke: #A80036; stroke-width: 1.5;\" width=\"50\" x=\"129\" y=\"151.5\"/><ellipse cx=\"148.05\" cy=\"167.5\" fill=\"#008000\" rx=\"11\" ry=\"11\" style=\"stroke: #A80036; stroke-width: 1.0;\"/><path d=\"M146.9563,167.875 L146.9563,171.5469 L148.5813,171.5469 Q149.7531,171.5469 150.2219,171.1563 Q150.6906,170.75 150.6906,169.75 Q150.6906,168.75 150.1906,168.3125 Q149.7063,167.875 148.5813,167.875 L146.9563,167.875 Z M146.9563,163.0469 L146.9563,165.9219 L148.5813,165.9219 Q149.5031,165.9219 149.8938,165.5938 Q150.3,165.25 150.3,164.5 Q150.3,163.7344 149.8938,163.3906 Q149.4875,163.0469 148.5813,163.0469 L146.9563,163.0469 Z M144.5813,161.0938 L148.5813,161.0938 Q150.6438,161.0938 151.6906,161.875 Q152.7375,162.6563 152.7375,164.2188 Q152.7375,165.4219 152.1125,166.0938 Q151.5031,166.7656 150.3156,166.875 Q151.7375,167.0156 152.4563,167.8281 Q153.175,168.6406 153.175,170.0938 Q153.175,171.8906 152.0969,172.7031 Q151.0188,173.5 148.5813,173.5 L144.5813,173.5 L144.5813,161.0938 Z \"/><text fill=\"#000000\" font-family=\"sans-serif\" font-size=\"12\" lengthAdjust=\"spacingAndGlyphs\" textLength=\"9\" x=\"162.95\" y=\"171.6543\">Q</text></a></g><g id=\"E1.E6.E7.E8\"><a href=\"psysml:ea3366e9-5974-4411-9b27-ac275f4425c1\" target=\"_top\" title=\"psysml:ea3366e9-5974-4411-9b27-ac275f4425c1\" xlink:actuate=\"onRequest\" xlink:href=\"psysml:ea3366e9-5974-4411-9b27-ac275f4425c1\" xlink:show=\"new\" xlink:title=\"psysml:ea3366e9-5974-4411-9b27-ac275f4425c1\" xlink:type=\"simple\"><rect fill=\"#FEFECE\" filter=\"url(#f159cmvr7ckmt1)\" height=\"56.9063\" id=\"E8\" rx=\"10\" ry=\"10\" style=\"stroke: #A80036; stroke-width: 1.5;\" width=\"102\" x=\"682\" y=\"143\"/><ellipse cx=\"699.25\" cy=\"168.9531\" fill=\"#FFA500\" rx=\"11\" ry=\"11\" style=\"stroke: #A80036; stroke-width: 1.0;\"/><path d=\"M695.125,170.875 L695.125,163.0625 L697.5781,163.0625 L697.5781,171.5 Q697.5781,172.4219 698.0469,172.9531 Q698.5313,173.4844 699.3594,173.4844 Q700.2031,173.4844 700.6719,172.9531 Q701.1406,172.4219 701.1406,171.5 L701.1406,163.0625 L703.5938,163.0625 L703.5938,170.875 Q703.5938,173.4063 702.5938,174.5469 Q701.5938,175.6875 699.3594,175.6875 Q697.1406,175.6875 696.125,174.5469 Q695.125,173.4063 695.125,170.875 Z \"/><text fill=\"#000000\" font-family=\"sans-serif\" font-size=\"12\" font-style=\"italic\" lengthAdjust=\"spacingAndGlyphs\" textLength=\"69\" x=\"711.75\" y=\"159.1387\">«attribute»</text><text fill=\"#000000\" font-family=\"sans-serif\" font-size=\"12\" lengthAdjust=\"spacingAndGlyphs\" textLength=\"24\" x=\"734.25\" y=\"173.1074\">b: B</text><text fill=\"#000000\" font-family=\"sans-serif\" font-size=\"12\" font-style=\"italic\" lengthAdjust=\"spacingAndGlyphs\" textLength=\"48\" x=\"720.25\" y=\"187.0762\">:&gt;&gt;P::a</text><text fill=\"#000000\" font-family=\"sans-serif\" font-size=\"12\" lengthAdjust=\"spacingAndGlyphs\" textLength=\"0\" x=\"772.25\" y=\"187.0762\"/></a></g><g id=\"E1.E9\"><a href=\"psysml:bd66bfa4-4cf8-4e62-98d6-c8549fcb8467\" target=\"_top\" title=\"psysml:bd66bfa4-4cf8-4e62-98d6-c8549fcb8467\" xlink:actuate=\"onRequest\" xlink:href=\"psysml:bd66bfa4-4cf8-4e62-98d6-c8549fcb8467\" xlink:show=\"new\" xlink:title=\"psysml:bd66bfa4-4cf8-4e62-98d6-c8549fcb8467\" xlink:type=\"simple\"><rect fill=\"#FEFECE\" filter=\"url(#f159cmvr7ckmt1)\" height=\"40\" id=\"E9\" rx=\"10\" ry=\"10\" style=\"stroke: #A80036; stroke-width: 1.5;\" width=\"62\" x=\"32\" y=\"151.5\"/><ellipse cx=\"49.25\" cy=\"167.5\" fill=\"#B6DBBB\" rx=\"11\" ry=\"11\" style=\"stroke: #A80036; stroke-width: 1.0;\"/><path d=\"M45.125,169.4219 L45.125,161.6094 L47.5781,161.6094 L47.5781,170.0469 Q47.5781,170.9688 48.0469,171.5 Q48.5313,172.0313 49.3594,172.0313 Q50.2031,172.0313 50.6719,171.5 Q51.1406,170.9688 51.1406,170.0469 L51.1406,161.6094 L53.5938,161.6094 L53.5938,169.4219 Q53.5938,171.9531 52.5938,173.0938 Q51.5938,174.2344 49.3594,174.2344 Q47.1406,174.2344 46.125,173.0938 Q45.125,171.9531 45.125,169.4219 Z \"/><text fill=\"#000000\" font-family=\"sans-serif\" font-size=\"12\" lengthAdjust=\"spacingAndGlyphs\" textLength=\"25\" x=\"63.75\" y=\"171.6543\">q: Q</text></a></g><g id=\"E1.E10.E11.E12\"><a href=\"psysml:bdc7bdc2-851d-4524-9d87-06992ba679d3\" target=\"_top\" title=\"psysml:bdc7bdc2-851d-4524-9d87-06992ba679d3\" xlink:actuate=\"onRequest\" xlink:href=\"psysml:bdc7bdc2-851d-4524-9d87-06992ba679d3\" xlink:show=\"new\" xlink:title=\"psysml:bdc7bdc2-851d-4524-9d87-06992ba679d3\" xlink:type=\"simple\"><rect fill=\"#FEFECE\" filter=\"url(#f159cmvr7ckmt1)\" height=\"56.9063\" id=\"E12\" rx=\"10\" ry=\"10\" style=\"stroke: #A80036; stroke-width: 1.5;\" width=\"102\" x=\"452\" y=\"143\"/><ellipse cx=\"469.25\" cy=\"168.9531\" fill=\"#FFA500\" rx=\"11\" ry=\"11\" style=\"stroke: #A80036; stroke-width: 1.0;\"/><path d=\"M465.125,170.875 L465.125,163.0625 L467.5781,163.0625 L467.5781,171.5 Q467.5781,172.4219 468.0469,172.9531 Q468.5313,173.4844 469.3594,173.4844 Q470.2031,173.4844 470.6719,172.9531 Q471.1406,172.4219 471.1406,171.5 L471.1406,163.0625 L473.5938,163.0625 L473.5938,170.875 Q473.5938,173.4063 472.5938,174.5469 Q471.5938,175.6875 469.3594,175.6875 Q467.1406,175.6875 466.125,174.5469 Q465.125,173.4063 465.125,170.875 Z \"/><text fill=\"#000000\" font-family=\"sans-serif\" font-size=\"12\" font-style=\"italic\" lengthAdjust=\"spacingAndGlyphs\" textLength=\"69\" x=\"481.75\" y=\"159.1387\">«attribute»</text><text fill=\"#000000\" font-family=\"sans-serif\" font-size=\"12\" lengthAdjust=\"spacingAndGlyphs\" textLength=\"24\" x=\"504.25\" y=\"173.1074\">b: B</text><text fill=\"#000000\" font-family=\"sans-serif\" font-size=\"12\" font-style=\"italic\" lengthAdjust=\"spacingAndGlyphs\" textLength=\"48\" x=\"490.25\" y=\"187.0762\">:&gt;&gt;P::a</text><text fill=\"#000000\" font-family=\"sans-serif\" font-size=\"12\" lengthAdjust=\"spacingAndGlyphs\" textLength=\"0\" x=\"542.25\" y=\"187.0762\"/></a></g><!--MD5=[185131fc0dcab0a4505a2ebe144e961b]\n",
       "link E4 to E2--><a href=\"psysml:0057605f-0b36-40b5-a833-d8040f0d9e74\" target=\"_top\" title=\"psysml:0057605f-0b36-40b5-a833-d8040f0d9e74\" xlink:actuate=\"onRequest\" xlink:href=\"psysml:0057605f-0b36-40b5-a833-d8040f0d9e74\" xlink:show=\"new\" xlink:title=\"psysml:0057605f-0b36-40b5-a833-d8040f0d9e74\" xlink:type=\"simple\"><path d=\"M158.7,191.66 C164.57,211.98 176.43,243.86 197,264 C230.695,296.985 278.945,318.6975 319.26,332.2425 C339.4175,339.015 357.5913,343.7456 370.97,346.8225 C374.3147,347.5917 377.3597,348.2576 380.0611,348.8261 C381.4118,349.1104 382.6766,349.3704 383.85,349.6068 C384.4367,349.725 385.0005,349.8373 385.5408,349.9438 C385.6759,349.9704 385.8095,349.9967 385.9416,350.0226 \" fill=\"none\" id=\"E4-&gt;E2\" style=\"stroke: #A80036; stroke-width: 1.0;\"/><polygon fill=\"#FFFFFF\" points=\"385.9416,350.0226,368.6433,339.4979,365.9498,353.2364,385.9416,350.0226\" style=\"stroke: #A80036; stroke-width: 1.0;\"/></a><!--MD5=[2351f337d6de0f557b50152ba70847b5]\n",
       "link E6 to E2--><a href=\"psysml:922ee1f9-edf0-4204-bf0f-0435eb6f66de\" target=\"_top\" title=\"psysml:922ee1f9-edf0-4204-bf0f-0435eb6f66de\" xlink:actuate=\"onRequest\" xlink:href=\"psysml:922ee1f9-edf0-4204-bf0f-0435eb6f66de\" xlink:show=\"new\" xlink:title=\"psysml:922ee1f9-edf0-4204-bf0f-0435eb6f66de\" xlink:type=\"simple\"><path d=\"M625.9879,193.3373 C625.9302,193.4684 625.8721,193.5999 625.8138,193.7317 C625.697,193.9955 625.579,194.2608 625.4597,194.5278 C625.2212,195.0616 624.9775,195.6018 624.7288,196.1478 C622.7391,200.5157 620.4247,205.2591 617.7813,210.1713 C607.2075,229.82 591.37,252.17 570,264 C554.72,272.46 426.43,260.83 413,272 C409.6175,274.8125 406.7756,278.1097 404.393,281.7329 C403.2018,283.5446 402.1253,285.4377 401.1535,287.3925 C401.0927,287.5147 401.0324,287.6371 400.9725,287.7598 \" fill=\"none\" id=\"E6-&gt;E2\" style=\"stroke: #A80036; stroke-width: 1.0;\"/><polygon fill=\"#FFFFFF\" points=\"400.9725,287.7598,415.6024,273.761,403.0234,267.6154,400.9725,287.7598\" style=\"stroke: #A80036; stroke-width: 1.0;\"/></a><!--MD5=[699294055a861dfb41528c7344ef295d]\n",
       "@startuml\r\n",
       "skinparam ranksep 8\r\n",
       "skinparam rectangle {\r\n",
       " backgroundColor<<block>> LightGreen\r\n",
       "}\r\n",
       " \r\n",
       "package \"VariabilityTest\" as E1  [[psysml:fc405a6c-3061-4540-9673-8b8e766ba6ac ]]  {\r\n",
       "rec def \"P\" as E2  << (B,green) >> [[psysml:dc902210-e855-46b4-a2dd-8255fef19514 ]] {\r\n",
       "rec usage \"a\" as E3  <<(U,orange)attribute>> [[psysml:6681b89b-422d-48d0-bc41-7a96ec587b7c ]] {\r\n",
       "}\r\n",
       "}\r\n",
       "rec def \"Q\" as E4  << (B,green) >> [[psysml:b52c8837-30af-42aa-bc51-100eaed5de80 ]] {\r\n",
       "}\r\n",
       "def \"B\" as E5  <<(D,brown)attribute def>> [[psysml:f17815b8-46c4-4dd9-bf70-524ba6c03f24 ]] \r\n",
       "rec def \"V\" as E6  << (B,green) >> [[psysml:b1ebe526-c40e-4c8f-ae74-16f7fcd1bdc9 ]] {\r\n",
       "rec usage \"x: Q\" as E7  [[psysml:05419eac-6c2b-46e9-bd3b-b31f448a077a ]] {\r\n",
       "rec usage \"b: B\\n//:>>P::a// \" as E8  <<(U,orange)attribute>> [[psysml:ea3366e9-5974-4411-9b27-ac275f4425c1 ]] {\r\n",
       "}\r\n",
       "}\r\n",
       "}\r\n",
       "rec usage \"q: Q\" as E9  [[psysml:bd66bfa4-4cf8-4e62-98d6-c8549fcb8467 ]] {\r\n",
       "}\r\n",
       "rec usage \"v: P\" as E10  <<variation>> [[psysml:d11ba367-2498-4d3b-bf9a-6df5f0bc7068 ]] {\r\n",
       "rec usage \"y\" as E11  [[psysml:72597939-8390-466d-9479-39928477d122 ]] {\r\n",
       "rec usage \"b: B\\n//:>>P::a// \" as E12  <<(U,orange)attribute>> [[psysml:bdc7bdc2-851d-4524-9d87-06992ba679d3 ]] {\r\n",
       "}\r\n",
       "}\r\n",
       "}\r\n",
       "E4 - -|> E2 [[psysml:0057605f-0b36-40b5-a833-d8040f0d9e74 ]] \r\n",
       "E6 - -|> E2 [[psysml:922ee1f9-edf0-4204-bf0f-0435eb6f66de ]] \r\n",
       "}\r\n",
       "@enduml\r\n",
       "\n",
       "PlantUML version 1.2020.13(Sat Jun 13 12:26:38 UTC 2020)\n",
       "(EPL source distribution)\n",
       "Java Runtime: OpenJDK Runtime Environment\n",
       "JVM: OpenJDK 64-Bit Server VM\n",
       "Default Encoding: UTF-8\n",
       "Language: en\n",
       "Country: null\n",
       "--></g></svg>"
      ]
     },
     "execution_count": 33,
     "metadata": {},
     "output_type": "execute_result"
    }
   ],
   "source": [
    "%viz --style=\"PLANTUML\" --view=\"Interconnection\" \"VariabilityTest\""
   ]
  },
  {
   "cell_type": "code",
   "execution_count": 34,
   "id": "banned-patient",
   "metadata": {
    "execution": {
     "iopub.execute_input": "2021-03-25T15:07:45.343972Z",
     "iopub.status.busy": "2021-03-25T15:07:45.343440Z",
     "iopub.status.idle": "2021-03-25T15:07:45.348071Z",
     "shell.execute_reply": "2021-03-25T15:07:45.348431Z"
    }
   },
   "outputs": [
    {
     "data": {
      "image/svg+xml": [
       "<?xml version=\"1.0\" encoding=\"UTF-8\" standalone=\"no\"?><svg xmlns=\"http://www.w3.org/2000/svg\" xmlns:xlink=\"http://www.w3.org/1999/xlink\" contentScriptType=\"application/ecmascript\" contentStyleType=\"text/css\" height=\"12px\" preserveAspectRatio=\"none\" style=\"width:12px;height:12px;\" version=\"1.1\" viewBox=\"0 0 12 12\" width=\"12px\" zoomAndPan=\"magnify\"><defs/><g><!--MD5=[6a4cb978cab31700e1ce5529f947a75d]\n",
       "@startuml\r\n",
       "skinparam ranksep 8\r\n",
       " \r\n",
       "@enduml\r\n",
       "\n",
       "PlantUML version 1.2020.13(Sat Jun 13 12:26:38 UTC 2020)\n",
       "(EPL source distribution)\n",
       "Java Runtime: OpenJDK Runtime Environment\n",
       "JVM: OpenJDK 64-Bit Server VM\n",
       "Default Encoding: UTF-8\n",
       "Language: en\n",
       "Country: null\n",
       "--></g></svg>"
      ]
     },
     "execution_count": 34,
     "metadata": {},
     "output_type": "execute_result"
    }
   ],
   "source": [
    "%viz --style=\"PLANTUML\" --view=\"Action\" \"VariabilityTest\""
   ]
  },
  {
   "cell_type": "code",
   "execution_count": 35,
   "id": "filled-speed",
   "metadata": {
    "execution": {
     "iopub.execute_input": "2021-03-25T15:07:45.400042Z",
     "iopub.status.busy": "2021-03-25T15:07:45.399497Z",
     "iopub.status.idle": "2021-03-25T15:07:45.620662Z",
     "shell.execute_reply": "2021-03-25T15:07:45.621161Z"
    }
   },
   "outputs": [
    {
     "data": {
      "image/svg+xml": [
       "<?xml version=\"1.0\" encoding=\"UTF-8\" standalone=\"no\"?><svg xmlns=\"http://www.w3.org/2000/svg\" xmlns:xlink=\"http://www.w3.org/1999/xlink\" contentScriptType=\"application/ecmascript\" contentStyleType=\"text/css\" height=\"385px\" preserveAspectRatio=\"none\" style=\"width:326px;height:385px;\" version=\"1.1\" viewBox=\"0 0 326 385\" width=\"326px\" zoomAndPan=\"magnify\"><defs><filter height=\"300%\" id=\"fmhwp7apabhcc\" width=\"300%\" x=\"-1\" y=\"-1\"><feGaussianBlur result=\"blurOut\" stdDeviation=\"2.0\"/><feColorMatrix in=\"blurOut\" result=\"blurOut2\" type=\"matrix\" values=\"0 0 0 0 0 0 0 0 0 0 0 0 0 0 0 0 0 0 .4 0\"/><feOffset dx=\"4.0\" dy=\"4.0\" in=\"blurOut2\" result=\"blurOut3\"/><feBlend in=\"SourceGraphic\" in2=\"blurOut3\" mode=\"normal\"/></filter></defs><g><!--MD5=[fbc87193dbaf4d95561dea2c320d4a47]\n",
       "cluster E1--><a href=\"psysml:fc405a6c-3061-4540-9673-8b8e766ba6ac\" target=\"_top\" title=\"psysml:fc405a6c-3061-4540-9673-8b8e766ba6ac\" xlink:actuate=\"onRequest\" xlink:href=\"psysml:fc405a6c-3061-4540-9673-8b8e766ba6ac\" xlink:show=\"new\" xlink:title=\"psysml:fc405a6c-3061-4540-9673-8b8e766ba6ac\" xlink:type=\"simple\"><polygon fill=\"#FFFFFF\" filter=\"url(#fmhwp7apabhcc)\" points=\"16,6,134,6,141,28.2969,296,28.2969,296,373,16,373,16,6\" style=\"stroke: #000000; stroke-width: 1.5;\"/><line style=\"stroke: #000000; stroke-width: 1.5;\" x1=\"16\" x2=\"141\" y1=\"28.2969\" y2=\"28.2969\"/><text fill=\"#000000\" font-family=\"sans-serif\" font-size=\"14\" font-weight=\"bold\" lengthAdjust=\"spacingAndGlyphs\" textLength=\"112\" x=\"20\" y=\"20.9951\">VariabilityTest</text></a><!--MD5=[b4997ac47864f28c2f74865a473b2911]\n",
       "class E2--><a href=\"psysml:dc902210-e855-46b4-a2dd-8255fef19514\" target=\"_top\" title=\"psysml:dc902210-e855-46b4-a2dd-8255fef19514\" xlink:actuate=\"onRequest\" xlink:href=\"psysml:dc902210-e855-46b4-a2dd-8255fef19514\" xlink:show=\"new\" xlink:title=\"psysml:dc902210-e855-46b4-a2dd-8255fef19514\" xlink:type=\"simple\"><rect fill=\"#FEFECE\" filter=\"url(#fmhwp7apabhcc)\" height=\"52.8047\" id=\"E2\" style=\"stroke: #A80036; stroke-width: 1.5;\" width=\"40\" x=\"137\" y=\"294.5\"/><ellipse cx=\"152\" cy=\"310.5\" fill=\"#008000\" rx=\"11\" ry=\"11\" style=\"stroke: #A80036; stroke-width: 1.0;\"/><path d=\"M150.9063,310.875 L150.9063,314.5469 L152.5313,314.5469 Q153.7031,314.5469 154.1719,314.1563 Q154.6406,313.75 154.6406,312.75 Q154.6406,311.75 154.1406,311.3125 Q153.6563,310.875 152.5313,310.875 L150.9063,310.875 Z M150.9063,306.0469 L150.9063,308.9219 L152.5313,308.9219 Q153.4531,308.9219 153.8438,308.5938 Q154.25,308.25 154.25,307.5 Q154.25,306.7344 153.8438,306.3906 Q153.4375,306.0469 152.5313,306.0469 L150.9063,306.0469 Z M148.5313,304.0938 L152.5313,304.0938 Q154.5938,304.0938 155.6406,304.875 Q156.6875,305.6563 156.6875,307.2188 Q156.6875,308.4219 156.0625,309.0938 Q155.4531,309.7656 154.2656,309.875 Q155.6875,310.0156 156.4063,310.8281 Q157.125,311.6406 157.125,313.0938 Q157.125,314.8906 156.0469,315.7031 Q154.9688,316.5 152.5313,316.5 L148.5313,316.5 L148.5313,304.0938 Z \"/><text fill=\"#000000\" font-family=\"sans-serif\" font-size=\"12\" lengthAdjust=\"spacingAndGlyphs\" textLength=\"8\" x=\"166\" y=\"314.6543\">P</text><line style=\"stroke: #A80036; stroke-width: 1.5;\" x1=\"138\" x2=\"176\" y1=\"326.5\" y2=\"326.5\"/><text fill=\"#000000\" font-family=\"sans-serif\" font-size=\"11\" lengthAdjust=\"spacingAndGlyphs\" textLength=\"7\" x=\"143\" y=\"340.7104\">a</text></a><!--MD5=[09b614a08d8cba4a07c9adeb5e0fee81]\n",
       "class E3--><a href=\"psysml:b52c8837-30af-42aa-bc51-100eaed5de80\" target=\"_top\" title=\"psysml:b52c8837-30af-42aa-bc51-100eaed5de80\" xlink:actuate=\"onRequest\" xlink:href=\"psysml:b52c8837-30af-42aa-bc51-100eaed5de80\" xlink:show=\"new\" xlink:title=\"psysml:b52c8837-30af-42aa-bc51-100eaed5de80\" xlink:type=\"simple\"><rect fill=\"#FEFECE\" filter=\"url(#fmhwp7apabhcc)\" height=\"40\" id=\"E3\" style=\"stroke: #A80036; stroke-width: 1.5;\" width=\"41\" x=\"163.5\" y=\"158\"/><ellipse cx=\"178.5\" cy=\"174\" fill=\"#008000\" rx=\"11\" ry=\"11\" style=\"stroke: #A80036; stroke-width: 1.0;\"/><path d=\"M177.4063,174.375 L177.4063,178.0469 L179.0313,178.0469 Q180.2031,178.0469 180.6719,177.6563 Q181.1406,177.25 181.1406,176.25 Q181.1406,175.25 180.6406,174.8125 Q180.1563,174.375 179.0313,174.375 L177.4063,174.375 Z M177.4063,169.5469 L177.4063,172.4219 L179.0313,172.4219 Q179.9531,172.4219 180.3438,172.0938 Q180.75,171.75 180.75,171 Q180.75,170.2344 180.3438,169.8906 Q179.9375,169.5469 179.0313,169.5469 L177.4063,169.5469 Z M175.0313,167.5938 L179.0313,167.5938 Q181.0938,167.5938 182.1406,168.375 Q183.1875,169.1563 183.1875,170.7188 Q183.1875,171.9219 182.5625,172.5938 Q181.9531,173.2656 180.7656,173.375 Q182.1875,173.5156 182.9063,174.3281 Q183.625,175.1406 183.625,176.5938 Q183.625,178.3906 182.5469,179.2031 Q181.4688,180 179.0313,180 L175.0313,180 L175.0313,167.5938 Z \"/><text fill=\"#000000\" font-family=\"sans-serif\" font-size=\"12\" lengthAdjust=\"spacingAndGlyphs\" textLength=\"9\" x=\"192.5\" y=\"178.1543\">Q</text><line style=\"stroke: #A80036; stroke-width: 1.5;\" x1=\"164.5\" x2=\"203.5\" y1=\"190\" y2=\"190\"/></a><!--MD5=[ebbe1d658d1005bcc118a6aa81145e00]\n",
       "class E4--><a href=\"psysml:f17815b8-46c4-4dd9-bf70-524ba6c03f24\" target=\"_top\" title=\"psysml:f17815b8-46c4-4dd9-bf70-524ba6c03f24\" xlink:actuate=\"onRequest\" xlink:href=\"psysml:f17815b8-46c4-4dd9-bf70-524ba6c03f24\" xlink:show=\"new\" xlink:title=\"psysml:f17815b8-46c4-4dd9-bf70-524ba6c03f24\" xlink:type=\"simple\"><rect fill=\"#FEFECE\" filter=\"url(#fmhwp7apabhcc)\" height=\"45.9375\" id=\"E4\" style=\"stroke: #A80036; stroke-width: 1.5;\" width=\"121\" x=\"158.5\" y=\"41\"/><ellipse cx=\"173.5\" cy=\"59.9688\" fill=\"#A52A2A\" rx=\"11\" ry=\"11\" style=\"stroke: #A80036; stroke-width: 1.0;\"/><path d=\"M173.0938,55.7813 L173.0938,63.7656 L173.75,63.7656 Q175.1875,63.7656 175.7969,62.8594 Q176.4219,61.9375 176.4219,59.7656 Q176.4219,57.5938 175.7969,56.6875 Q175.1875,55.7813 173.75,55.7813 L173.0938,55.7813 Z M170.6406,53.5781 L173.2656,53.5781 Q176.2969,53.5781 177.625,55.0313 Q178.9688,56.4688 178.9688,59.7656 Q178.9688,63.0625 177.625,64.5156 Q176.2969,65.9688 173.2656,65.9688 L170.6406,65.9688 L170.6406,53.5781 Z \"/><text fill=\"#000000\" font-family=\"sans-serif\" font-size=\"12\" font-style=\"italic\" lengthAdjust=\"spacingAndGlyphs\" textLength=\"93\" x=\"185.5\" y=\"57.1387\">«attribute def»</text><text fill=\"#000000\" font-family=\"sans-serif\" font-size=\"12\" lengthAdjust=\"spacingAndGlyphs\" textLength=\"8\" x=\"228\" y=\"71.1074\">B</text><line style=\"stroke: #A80036; stroke-width: 1.5;\" x1=\"159.5\" x2=\"278.5\" y1=\"78.9375\" y2=\"78.9375\"/></a><!--MD5=[270fce915f116d4de14055a7c1d9a0f3]\n",
       "class E5--><a href=\"psysml:b1ebe526-c40e-4c8f-ae74-16f7fcd1bdc9\" target=\"_top\" title=\"psysml:b1ebe526-c40e-4c8f-ae74-16f7fcd1bdc9\" xlink:actuate=\"onRequest\" xlink:href=\"psysml:b1ebe526-c40e-4c8f-ae74-16f7fcd1bdc9\" xlink:show=\"new\" xlink:title=\"psysml:b1ebe526-c40e-4c8f-ae74-16f7fcd1bdc9\" xlink:type=\"simple\"><rect fill=\"#FEFECE\" filter=\"url(#fmhwp7apabhcc)\" height=\"40\" id=\"E5\" style=\"stroke: #A80036; stroke-width: 1.5;\" width=\"40\" x=\"240\" y=\"158\"/><ellipse cx=\"255\" cy=\"174\" fill=\"#008000\" rx=\"11\" ry=\"11\" style=\"stroke: #A80036; stroke-width: 1.0;\"/><path d=\"M253.9063,174.375 L253.9063,178.0469 L255.5313,178.0469 Q256.7031,178.0469 257.1719,177.6563 Q257.6406,177.25 257.6406,176.25 Q257.6406,175.25 257.1406,174.8125 Q256.6563,174.375 255.5313,174.375 L253.9063,174.375 Z M253.9063,169.5469 L253.9063,172.4219 L255.5313,172.4219 Q256.4531,172.4219 256.8438,172.0938 Q257.25,171.75 257.25,171 Q257.25,170.2344 256.8438,169.8906 Q256.4375,169.5469 255.5313,169.5469 L253.9063,169.5469 Z M251.5313,167.5938 L255.5313,167.5938 Q257.5938,167.5938 258.6406,168.375 Q259.6875,169.1563 259.6875,170.7188 Q259.6875,171.9219 259.0625,172.5938 Q258.4531,173.2656 257.2656,173.375 Q258.6875,173.5156 259.4063,174.3281 Q260.125,175.1406 260.125,176.5938 Q260.125,178.3906 259.0469,179.2031 Q257.9688,180 255.5313,180 L251.5313,180 L251.5313,167.5938 Z \"/><text fill=\"#000000\" font-family=\"sans-serif\" font-size=\"12\" lengthAdjust=\"spacingAndGlyphs\" textLength=\"8\" x=\"269\" y=\"178.1543\">V</text><line style=\"stroke: #A80036; stroke-width: 1.5;\" x1=\"241\" x2=\"279\" y1=\"190\" y2=\"190\"/></a><!--MD5=[60a26617385b1d2d0262a64233df1f8d]\n",
       "class E6--><a href=\"psysml:05419eac-6c2b-46e9-bd3b-b31f448a077a\" target=\"_top\" title=\"psysml:05419eac-6c2b-46e9-bd3b-b31f448a077a\" xlink:actuate=\"onRequest\" xlink:href=\"psysml:05419eac-6c2b-46e9-bd3b-b31f448a077a\" xlink:show=\"new\" xlink:title=\"psysml:05419eac-6c2b-46e9-bd3b-b31f448a077a\" xlink:type=\"simple\"><rect fill=\"#FEFECE\" filter=\"url(#fmhwp7apabhcc)\" height=\"71.5469\" id=\"E6\" rx=\"10\" ry=\"10\" style=\"stroke: #A80036; stroke-width: 1.5;\" width=\"68\" x=\"212\" y=\"285\"/><ellipse cx=\"227\" cy=\"303.9688\" fill=\"#32CD32\" rx=\"11\" ry=\"11\" style=\"stroke: #A80036; stroke-width: 1.0;\"/><path d=\"M226.7969,299.6406 L226.7969,303.2656 L227.7969,303.2656 Q229,303.2656 229.4844,302.8594 Q229.9688,302.4531 229.9688,301.4531 Q229.9688,300.4531 229.4844,300.0469 Q229,299.6406 227.7969,299.6406 L226.7969,299.6406 Z M224.3438,297.5781 L227.7031,297.5781 Q230.2656,297.5781 231.3906,298.5 Q232.5156,299.4063 232.5156,301.4531 Q232.5156,303.5 231.3906,304.4219 Q230.2656,305.3281 227.7031,305.3281 L226.7969,305.3281 L226.7969,309.9688 L224.3438,309.9688 L224.3438,297.5781 Z \"/><text fill=\"#000000\" font-family=\"sans-serif\" font-size=\"12\" font-style=\"italic\" lengthAdjust=\"spacingAndGlyphs\" textLength=\"40\" x=\"239\" y=\"301.1387\">«part»</text><text fill=\"#000000\" font-family=\"sans-serif\" font-size=\"12\" lengthAdjust=\"spacingAndGlyphs\" textLength=\"23\" x=\"247.5\" y=\"315.1074\">x: Q</text><line style=\"stroke: #A80036; stroke-width: 1.5;\" x1=\"213\" x2=\"279\" y1=\"322.9375\" y2=\"322.9375\"/><text fill=\"#000000\" font-family=\"sans-serif\" font-size=\"11\" lengthAdjust=\"spacingAndGlyphs\" textLength=\"23\" x=\"218\" y=\"337.1479\">b: B</text><text fill=\"#000000\" font-family=\"sans-serif\" font-size=\"11\" font-style=\"italic\" lengthAdjust=\"spacingAndGlyphs\" textLength=\"44\" x=\"218\" y=\"349.9526\">:&gt;&gt;P::a</text></a><!--MD5=[2156ba9850f5573cc1fc38a6a4b2f02b]\n",
       "class E7--><a href=\"psysml:bd66bfa4-4cf8-4e62-98d6-c8549fcb8467\" target=\"_top\" title=\"psysml:bd66bfa4-4cf8-4e62-98d6-c8549fcb8467\" xlink:actuate=\"onRequest\" xlink:href=\"psysml:bd66bfa4-4cf8-4e62-98d6-c8549fcb8467\" xlink:show=\"new\" xlink:title=\"psysml:bd66bfa4-4cf8-4e62-98d6-c8549fcb8467\" xlink:type=\"simple\"><rect fill=\"#FEFECE\" filter=\"url(#fmhwp7apabhcc)\" height=\"45.9375\" id=\"E7\" rx=\"10\" ry=\"10\" style=\"stroke: #A80036; stroke-width: 1.5;\" width=\"68\" x=\"55\" y=\"41\"/><ellipse cx=\"70\" cy=\"59.9688\" fill=\"#32CD32\" rx=\"11\" ry=\"11\" style=\"stroke: #A80036; stroke-width: 1.0;\"/><path d=\"M69.7969,55.6406 L69.7969,59.2656 L70.7969,59.2656 Q72,59.2656 72.4844,58.8594 Q72.9688,58.4531 72.9688,57.4531 Q72.9688,56.4531 72.4844,56.0469 Q72,55.6406 70.7969,55.6406 L69.7969,55.6406 Z M67.3438,53.5781 L70.7031,53.5781 Q73.2656,53.5781 74.3906,54.5 Q75.5156,55.4063 75.5156,57.4531 Q75.5156,59.5 74.3906,60.4219 Q73.2656,61.3281 70.7031,61.3281 L69.7969,61.3281 L69.7969,65.9688 L67.3438,65.9688 L67.3438,53.5781 Z \"/><text fill=\"#000000\" font-family=\"sans-serif\" font-size=\"12\" font-style=\"italic\" lengthAdjust=\"spacingAndGlyphs\" textLength=\"40\" x=\"82\" y=\"57.1387\">«part»</text><text fill=\"#000000\" font-family=\"sans-serif\" font-size=\"12\" lengthAdjust=\"spacingAndGlyphs\" textLength=\"25\" x=\"89.5\" y=\"71.1074\">q: Q</text><line style=\"stroke: #A80036; stroke-width: 1.5;\" x1=\"56\" x2=\"122\" y1=\"78.9375\" y2=\"78.9375\"/></a><!--MD5=[b9389687b975829384b498ac4b7476b2]\n",
       "class E8--><a href=\"psysml:d11ba367-2498-4d3b-bf9a-6df5f0bc7068\" target=\"_top\" title=\"psysml:d11ba367-2498-4d3b-bf9a-6df5f0bc7068\" xlink:actuate=\"onRequest\" xlink:href=\"psysml:d11ba367-2498-4d3b-bf9a-6df5f0bc7068\" xlink:show=\"new\" xlink:title=\"psysml:d11ba367-2498-4d3b-bf9a-6df5f0bc7068\" xlink:type=\"simple\"><rect fill=\"#FEFECE\" filter=\"url(#fmhwp7apabhcc)\" height=\"59.9063\" id=\"E8\" rx=\"10\" ry=\"10\" style=\"stroke: #A80036; stroke-width: 1.5;\" width=\"96\" x=\"32\" y=\"148\"/><ellipse cx=\"47\" cy=\"173.9531\" fill=\"#32CD32\" rx=\"11\" ry=\"11\" style=\"stroke: #A80036; stroke-width: 1.0;\"/><path d=\"M46.7969,169.625 L46.7969,173.25 L47.7969,173.25 Q49,173.25 49.4844,172.8438 Q49.9688,172.4375 49.9688,171.4375 Q49.9688,170.4375 49.4844,170.0313 Q49,169.625 47.7969,169.625 L46.7969,169.625 Z M44.3438,167.5625 L47.7031,167.5625 Q50.2656,167.5625 51.3906,168.4844 Q52.5156,169.3906 52.5156,171.4375 Q52.5156,173.4844 51.3906,174.4063 Q50.2656,175.3125 47.7031,175.3125 L46.7969,175.3125 L46.7969,179.9531 L44.3438,179.9531 L44.3438,167.5625 Z \"/><text fill=\"#000000\" font-family=\"sans-serif\" font-size=\"12\" font-style=\"italic\" lengthAdjust=\"spacingAndGlyphs\" textLength=\"68\" x=\"59\" y=\"164.1387\">«variation»</text><text fill=\"#000000\" font-family=\"sans-serif\" font-size=\"12\" font-style=\"italic\" lengthAdjust=\"spacingAndGlyphs\" textLength=\"40\" x=\"73\" y=\"178.1074\">«part»</text><text fill=\"#000000\" font-family=\"sans-serif\" font-size=\"12\" lengthAdjust=\"spacingAndGlyphs\" textLength=\"22\" x=\"82\" y=\"192.0762\">v: P</text><line style=\"stroke: #A80036; stroke-width: 1.5;\" x1=\"33\" x2=\"127\" y1=\"199.9063\" y2=\"199.9063\"/></a><!--MD5=[fd4143e9d270a159db93a4ea2a975926]\n",
       "class E9--><a href=\"psysml:72597939-8390-466d-9479-39928477d122\" target=\"_top\" title=\"psysml:72597939-8390-466d-9479-39928477d122\" xlink:actuate=\"onRequest\" xlink:href=\"psysml:72597939-8390-466d-9479-39928477d122\" xlink:show=\"new\" xlink:title=\"psysml:72597939-8390-466d-9479-39928477d122\" xlink:type=\"simple\"><rect fill=\"#FEFECE\" filter=\"url(#fmhwp7apabhcc)\" height=\"71.5469\" id=\"E9\" rx=\"10\" ry=\"10\" style=\"stroke: #A80036; stroke-width: 1.5;\" width=\"68\" x=\"34\" y=\"285\"/><ellipse cx=\"49\" cy=\"303.9688\" fill=\"#32CD32\" rx=\"11\" ry=\"11\" style=\"stroke: #A80036; stroke-width: 1.0;\"/><path d=\"M48.7969,299.6406 L48.7969,303.2656 L49.7969,303.2656 Q51,303.2656 51.4844,302.8594 Q51.9688,302.4531 51.9688,301.4531 Q51.9688,300.4531 51.4844,300.0469 Q51,299.6406 49.7969,299.6406 L48.7969,299.6406 Z M46.3438,297.5781 L49.7031,297.5781 Q52.2656,297.5781 53.3906,298.5 Q54.5156,299.4063 54.5156,301.4531 Q54.5156,303.5 53.3906,304.4219 Q52.2656,305.3281 49.7031,305.3281 L48.7969,305.3281 L48.7969,309.9688 L46.3438,309.9688 L46.3438,297.5781 Z \"/><text fill=\"#000000\" font-family=\"sans-serif\" font-size=\"12\" font-style=\"italic\" lengthAdjust=\"spacingAndGlyphs\" textLength=\"40\" x=\"61\" y=\"301.1387\">«part»</text><text fill=\"#000000\" font-family=\"sans-serif\" font-size=\"12\" lengthAdjust=\"spacingAndGlyphs\" textLength=\"6\" x=\"78\" y=\"315.1074\">y</text><line style=\"stroke: #A80036; stroke-width: 1.5;\" x1=\"35\" x2=\"101\" y1=\"322.9375\" y2=\"322.9375\"/><text fill=\"#000000\" font-family=\"sans-serif\" font-size=\"11\" lengthAdjust=\"spacingAndGlyphs\" textLength=\"23\" x=\"40\" y=\"337.1479\">b: B</text><text fill=\"#000000\" font-family=\"sans-serif\" font-size=\"11\" font-style=\"italic\" lengthAdjust=\"spacingAndGlyphs\" textLength=\"44\" x=\"40\" y=\"349.9526\">:&gt;&gt;P::a</text></a><!--MD5=[05d275557350bfb9b23a4ef7222b4c39]\n",
       "link E3 to E2--><a href=\"psysml:0057605f-0b36-40b5-a833-d8040f0d9e74\" target=\"_top\" title=\"psysml:0057605f-0b36-40b5-a833-d8040f0d9e74\" xlink:actuate=\"onRequest\" xlink:href=\"psysml:0057605f-0b36-40b5-a833-d8040f0d9e74\" xlink:show=\"new\" xlink:title=\"psysml:0057605f-0b36-40b5-a833-d8040f0d9e74\" xlink:type=\"simple\"><path d=\"M176.69,198.12 C172.62,209.53 167.82,224.41 165,238 C162.59,249.64 160.9,262.37 159.72,274.25 \" fill=\"none\" id=\"E3-&gt;E2\" style=\"stroke: #A80036; stroke-width: 1.0;\"/><polygon fill=\"none\" points=\"166.68,274.93,158.09,294.3,152.73,273.8,166.68,274.93\" style=\"stroke: #A80036; stroke-width: 1.0;\"/></a><!--MD5=[15ebcb19ae302d9b601edb458606d402]\n",
       "link E5 to E2--><a href=\"psysml:922ee1f9-edf0-4204-bf0f-0435eb6f66de\" target=\"_top\" title=\"psysml:922ee1f9-edf0-4204-bf0f-0435eb6f66de\" xlink:actuate=\"onRequest\" xlink:href=\"psysml:922ee1f9-edf0-4204-bf0f-0435eb6f66de\" xlink:show=\"new\" xlink:title=\"psysml:922ee1f9-edf0-4204-bf0f-0435eb6f66de\" xlink:type=\"simple\"><path d=\"M246.11,198.02 C231.2,218.43 207.04,251.5 187.64,278.06 \" fill=\"none\" id=\"E5-&gt;E2\" style=\"stroke: #A80036; stroke-width: 1.0;\"/><polygon fill=\"none\" points=\"193.17,282.35,175.72,294.37,181.87,274.09,193.17,282.35\" style=\"stroke: #A80036; stroke-width: 1.0;\"/></a><!--MD5=[9120cf2e5df3bff93db8f754bbbc09b4]\n",
       "link E5 to E6--><a href=\"psysml:1c0ef759-8c31-4a4a-b0e7-e872c2806a04\" target=\"_top\" title=\"psysml:1c0ef759-8c31-4a4a-b0e7-e872c2806a04\" xlink:actuate=\"onRequest\" xlink:href=\"psysml:1c0ef759-8c31-4a4a-b0e7-e872c2806a04\" xlink:show=\"new\" xlink:title=\"psysml:1c0ef759-8c31-4a4a-b0e7-e872c2806a04\" xlink:type=\"simple\"><path d=\"M257.1,208.19 C255.19,227.4 252.66,252.93 250.49,274.74 \" fill=\"none\" id=\"E5-E6\" style=\"stroke: #A80036; stroke-width: 1.0;\"/><polygon fill=\"#A80036\" points=\"249.5,284.79,253.2735,277.1245,247.3027,276.5334,249.5,284.79\" style=\"stroke: #A80036; stroke-width: 1.0;\"/><path d=\"M249.3907,200.2501 A9,9 0 0 0 266.2229 201.9164\" fill=\"none\" style=\"stroke: #A80036; stroke-width: 1.5;\"/><text fill=\"#000000\" font-family=\"sans-serif\" font-size=\"13\" lengthAdjust=\"spacingAndGlyphs\" textLength=\"60\" x=\"254\" y=\"251.0669\">«variant»</text></a><!--MD5=[14ccda38c055a5c0da953d572bc50960]\n",
       "link E7 to E3--><a href=\"psysml:6aa04dcc-8d2e-4853-a2ca-5b94913b0044\" target=\"_top\" title=\"psysml:6aa04dcc-8d2e-4853-a2ca-5b94913b0044\" xlink:actuate=\"onRequest\" xlink:href=\"psysml:6aa04dcc-8d2e-4853-a2ca-5b94913b0044\" xlink:show=\"new\" xlink:title=\"psysml:6aa04dcc-8d2e-4853-a2ca-5b94913b0044\" xlink:type=\"simple\"><path d=\"M107.77,87.13 C121.18,102.94 139.49,124.53 154.81,142.58 \" fill=\"none\" id=\"E7-&gt;E3\" style=\"stroke: #A80036; stroke-width: 1.0;\"/><polygon fill=\"#FFFFFF\" points=\"167.8,157.9,150.1709,147.9394,160.8469,138.8828,167.8,157.9\" style=\"stroke: #A80036; stroke-width: 1.0;\"/><ellipse cx=\"148.0087\" cy=\"142.299\" fill=\"#A80036\" rx=\"2\" ry=\"2\" style=\"stroke: #A80036; stroke-width: 1.0;\"/><ellipse cx=\"155.6344\" cy=\"135.8299\" fill=\"#A80036\" rx=\"2\" ry=\"2\" style=\"stroke: #A80036; stroke-width: 1.0;\"/></a><!--MD5=[f1f3f9f2fc535e6147756cb86a7f2e32]\n",
       "link E8 to E2--><a href=\"psysml:62998d3a-e41b-4231-af2c-a0f2b465e4e7\" target=\"_top\" title=\"psysml:62998d3a-e41b-4231-af2c-a0f2b465e4e7\" xlink:actuate=\"onRequest\" xlink:href=\"psysml:62998d3a-e41b-4231-af2c-a0f2b465e4e7\" xlink:show=\"new\" xlink:title=\"psysml:62998d3a-e41b-4231-af2c-a0f2b465e4e7\" xlink:type=\"simple\"><path d=\"M120.07,208.27 C129.27,216.85 138.08,226.94 144,238 C149.86,248.94 153.24,261.79 155.16,274.03 \" fill=\"none\" id=\"E8-&gt;E2\" style=\"stroke: #A80036; stroke-width: 1.0;\"/><polygon fill=\"#FFFFFF\" points=\"157.21,294.23,148.3322,276.0315,162.261,274.6217,157.21,294.23\" style=\"stroke: #A80036; stroke-width: 1.0;\"/><ellipse cx=\"149.748\" cy=\"270.1591\" fill=\"#A80036\" rx=\"2\" ry=\"2\" style=\"stroke: #A80036; stroke-width: 1.0;\"/><ellipse cx=\"159.6971\" cy=\"269.152\" fill=\"#A80036\" rx=\"2\" ry=\"2\" style=\"stroke: #A80036; stroke-width: 1.0;\"/></a><!--MD5=[ed10624c06dd9a4fa49ccf290e8b16a8]\n",
       "link E8 to E9--><a href=\"psysml:196bced0-9581-41ba-9556-fc72f0b07990\" target=\"_top\" title=\"psysml:196bced0-9581-41ba-9556-fc72f0b07990\" xlink:actuate=\"onRequest\" xlink:href=\"psysml:196bced0-9581-41ba-9556-fc72f0b07990\" xlink:show=\"new\" xlink:title=\"psysml:196bced0-9581-41ba-9556-fc72f0b07990\" xlink:type=\"simple\"><path d=\"M76.65,218.35 C75.16,235.87 73.39,256.61 71.85,274.77 \" fill=\"none\" id=\"E8-E9\" style=\"stroke: #A80036; stroke-width: 1.0;\"/><polygon fill=\"#A80036\" points=\"70.99,284.83,74.6641,277.1163,68.6862,276.6025,70.99,284.83\" style=\"stroke: #A80036; stroke-width: 1.0;\"/><path d=\"M68.8199,210.5615 A9,9 0 0 0 85.6721 212.0122\" fill=\"none\" style=\"stroke: #A80036; stroke-width: 1.5;\"/><text fill=\"#000000\" font-family=\"sans-serif\" font-size=\"13\" lengthAdjust=\"spacingAndGlyphs\" textLength=\"60\" x=\"75\" y=\"251.0669\">«variant»</text></a><!--MD5=[9ef2c84ccc8fee6b3ab1c9c385768e5b]\n",
       "@startuml\r\n",
       " \r\n",
       "package \"VariabilityTest\" as E1  [[psysml:fc405a6c-3061-4540-9673-8b8e766ba6ac ]]  {\r\n",
       "comp def \"P\" as E2  << (B,green) >> [[psysml:dc902210-e855-46b4-a2dd-8255fef19514 ]] {\r\n",
       "a\r\n",
       "}\r\n",
       "comp def \"Q\" as E3  << (B,green) >> [[psysml:b52c8837-30af-42aa-bc51-100eaed5de80 ]] {\r\n",
       "}\r\n",
       "comp def \"B\" as E4  <<(D,brown)attribute def>> [[psysml:f17815b8-46c4-4dd9-bf70-524ba6c03f24 ]] {\r\n",
       "}\r\n",
       "comp def \"V\" as E5  << (B,green) >> [[psysml:b1ebe526-c40e-4c8f-ae74-16f7fcd1bdc9 ]] {\r\n",
       "}\r\n",
       "comp usage \"x: Q\" as E6  << (P,limegreen) part>> [[psysml:05419eac-6c2b-46e9-bd3b-b31f448a077a ]] {\r\n",
       "b: B\\n//:>>P::a// \r\n",
       "}\r\n",
       "comp usage \"q: Q\" as E7  << (P,limegreen) part>> [[psysml:bd66bfa4-4cf8-4e62-98d6-c8549fcb8467 ]] {\r\n",
       "}\r\n",
       "comp usage \"v: P\" as E8  <<variation>>\\n << (P,limegreen) part>> [[psysml:d11ba367-2498-4d3b-bf9a-6df5f0bc7068 ]] {\r\n",
       "}\r\n",
       "comp usage \"y\" as E9  << (P,limegreen) part>> [[psysml:72597939-8390-466d-9479-39928477d122 ]] {\r\n",
       "b: B\\n//:>>P::a// \r\n",
       "}\r\n",
       "E3 - -|> E2 [[psysml:0057605f-0b36-40b5-a833-d8040f0d9e74 ]] \r\n",
       "E5 - -|> E2 [[psysml:922ee1f9-edf0-4204-bf0f-0435eb6f66de ]] \r\n",
       "E5 )- ->> E6 [[psysml:1c0ef759-8c31-4a4a-b0e7-e872c2806a04 ]] : <<variant>>\r\n",
       "E7 - -:|> E3 [[psysml:6aa04dcc-8d2e-4853-a2ca-5b94913b0044 ]] \r\n",
       "E8 - -:|> E2 [[psysml:62998d3a-e41b-4231-af2c-a0f2b465e4e7 ]] \r\n",
       "E8 )- ->> E9 [[psysml:196bced0-9581-41ba-9556-fc72f0b07990 ]] : <<variant>>\r\n",
       "}\r\n",
       "@enduml\r\n",
       "\n",
       "PlantUML version 1.2020.13(Sat Jun 13 12:26:38 UTC 2020)\n",
       "(EPL source distribution)\n",
       "Java Runtime: OpenJDK Runtime Environment\n",
       "JVM: OpenJDK 64-Bit Server VM\n",
       "Default Encoding: UTF-8\n",
       "Language: en\n",
       "Country: null\n",
       "--></g></svg>"
      ]
     },
     "execution_count": 35,
     "metadata": {},
     "output_type": "execute_result"
    }
   ],
   "source": [
    "%viz --style=\"PLANTUML\" --view=\"Sequence\" \"VariabilityTest\""
   ]
  },
  {
   "cell_type": "code",
   "execution_count": 36,
   "id": "juvenile-failing",
   "metadata": {
    "execution": {
     "iopub.execute_input": "2021-03-25T15:07:45.671522Z",
     "iopub.status.busy": "2021-03-25T15:07:45.671049Z",
     "iopub.status.idle": "2021-03-25T15:07:45.896999Z",
     "shell.execute_reply": "2021-03-25T15:07:45.895095Z"
    }
   },
   "outputs": [
    {
     "data": {
      "image/svg+xml": [
       "<?xml version=\"1.0\" encoding=\"UTF-8\" standalone=\"no\"?><svg xmlns=\"http://www.w3.org/2000/svg\" xmlns:xlink=\"http://www.w3.org/1999/xlink\" contentScriptType=\"application/ecmascript\" contentStyleType=\"text/css\" height=\"385px\" preserveAspectRatio=\"none\" style=\"width:326px;height:385px;\" version=\"1.1\" viewBox=\"0 0 326 385\" width=\"326px\" zoomAndPan=\"magnify\"><defs><filter height=\"300%\" id=\"fmhwp7apabhcc\" width=\"300%\" x=\"-1\" y=\"-1\"><feGaussianBlur result=\"blurOut\" stdDeviation=\"2.0\"/><feColorMatrix in=\"blurOut\" result=\"blurOut2\" type=\"matrix\" values=\"0 0 0 0 0 0 0 0 0 0 0 0 0 0 0 0 0 0 .4 0\"/><feOffset dx=\"4.0\" dy=\"4.0\" in=\"blurOut2\" result=\"blurOut3\"/><feBlend in=\"SourceGraphic\" in2=\"blurOut3\" mode=\"normal\"/></filter></defs><g><!--MD5=[fbc87193dbaf4d95561dea2c320d4a47]\n",
       "cluster E1--><a href=\"psysml:fc405a6c-3061-4540-9673-8b8e766ba6ac\" target=\"_top\" title=\"psysml:fc405a6c-3061-4540-9673-8b8e766ba6ac\" xlink:actuate=\"onRequest\" xlink:href=\"psysml:fc405a6c-3061-4540-9673-8b8e766ba6ac\" xlink:show=\"new\" xlink:title=\"psysml:fc405a6c-3061-4540-9673-8b8e766ba6ac\" xlink:type=\"simple\"><polygon fill=\"#FFFFFF\" filter=\"url(#fmhwp7apabhcc)\" points=\"16,6,134,6,141,28.2969,296,28.2969,296,373,16,373,16,6\" style=\"stroke: #000000; stroke-width: 1.5;\"/><line style=\"stroke: #000000; stroke-width: 1.5;\" x1=\"16\" x2=\"141\" y1=\"28.2969\" y2=\"28.2969\"/><text fill=\"#000000\" font-family=\"sans-serif\" font-size=\"14\" font-weight=\"bold\" lengthAdjust=\"spacingAndGlyphs\" textLength=\"112\" x=\"20\" y=\"20.9951\">VariabilityTest</text></a><!--MD5=[b4997ac47864f28c2f74865a473b2911]\n",
       "class E2--><a href=\"psysml:dc902210-e855-46b4-a2dd-8255fef19514\" target=\"_top\" title=\"psysml:dc902210-e855-46b4-a2dd-8255fef19514\" xlink:actuate=\"onRequest\" xlink:href=\"psysml:dc902210-e855-46b4-a2dd-8255fef19514\" xlink:show=\"new\" xlink:title=\"psysml:dc902210-e855-46b4-a2dd-8255fef19514\" xlink:type=\"simple\"><rect fill=\"#FEFECE\" filter=\"url(#fmhwp7apabhcc)\" height=\"52.8047\" id=\"E2\" style=\"stroke: #A80036; stroke-width: 1.5;\" width=\"40\" x=\"137\" y=\"294.5\"/><ellipse cx=\"152\" cy=\"310.5\" fill=\"#008000\" rx=\"11\" ry=\"11\" style=\"stroke: #A80036; stroke-width: 1.0;\"/><path d=\"M150.9063,310.875 L150.9063,314.5469 L152.5313,314.5469 Q153.7031,314.5469 154.1719,314.1563 Q154.6406,313.75 154.6406,312.75 Q154.6406,311.75 154.1406,311.3125 Q153.6563,310.875 152.5313,310.875 L150.9063,310.875 Z M150.9063,306.0469 L150.9063,308.9219 L152.5313,308.9219 Q153.4531,308.9219 153.8438,308.5938 Q154.25,308.25 154.25,307.5 Q154.25,306.7344 153.8438,306.3906 Q153.4375,306.0469 152.5313,306.0469 L150.9063,306.0469 Z M148.5313,304.0938 L152.5313,304.0938 Q154.5938,304.0938 155.6406,304.875 Q156.6875,305.6563 156.6875,307.2188 Q156.6875,308.4219 156.0625,309.0938 Q155.4531,309.7656 154.2656,309.875 Q155.6875,310.0156 156.4063,310.8281 Q157.125,311.6406 157.125,313.0938 Q157.125,314.8906 156.0469,315.7031 Q154.9688,316.5 152.5313,316.5 L148.5313,316.5 L148.5313,304.0938 Z \"/><text fill=\"#000000\" font-family=\"sans-serif\" font-size=\"12\" lengthAdjust=\"spacingAndGlyphs\" textLength=\"8\" x=\"166\" y=\"314.6543\">P</text><line style=\"stroke: #A80036; stroke-width: 1.5;\" x1=\"138\" x2=\"176\" y1=\"326.5\" y2=\"326.5\"/><text fill=\"#000000\" font-family=\"sans-serif\" font-size=\"11\" lengthAdjust=\"spacingAndGlyphs\" textLength=\"7\" x=\"143\" y=\"340.7104\">a</text></a><!--MD5=[09b614a08d8cba4a07c9adeb5e0fee81]\n",
       "class E3--><a href=\"psysml:b52c8837-30af-42aa-bc51-100eaed5de80\" target=\"_top\" title=\"psysml:b52c8837-30af-42aa-bc51-100eaed5de80\" xlink:actuate=\"onRequest\" xlink:href=\"psysml:b52c8837-30af-42aa-bc51-100eaed5de80\" xlink:show=\"new\" xlink:title=\"psysml:b52c8837-30af-42aa-bc51-100eaed5de80\" xlink:type=\"simple\"><rect fill=\"#FEFECE\" filter=\"url(#fmhwp7apabhcc)\" height=\"40\" id=\"E3\" style=\"stroke: #A80036; stroke-width: 1.5;\" width=\"41\" x=\"163.5\" y=\"158\"/><ellipse cx=\"178.5\" cy=\"174\" fill=\"#008000\" rx=\"11\" ry=\"11\" style=\"stroke: #A80036; stroke-width: 1.0;\"/><path d=\"M177.4063,174.375 L177.4063,178.0469 L179.0313,178.0469 Q180.2031,178.0469 180.6719,177.6563 Q181.1406,177.25 181.1406,176.25 Q181.1406,175.25 180.6406,174.8125 Q180.1563,174.375 179.0313,174.375 L177.4063,174.375 Z M177.4063,169.5469 L177.4063,172.4219 L179.0313,172.4219 Q179.9531,172.4219 180.3438,172.0938 Q180.75,171.75 180.75,171 Q180.75,170.2344 180.3438,169.8906 Q179.9375,169.5469 179.0313,169.5469 L177.4063,169.5469 Z M175.0313,167.5938 L179.0313,167.5938 Q181.0938,167.5938 182.1406,168.375 Q183.1875,169.1563 183.1875,170.7188 Q183.1875,171.9219 182.5625,172.5938 Q181.9531,173.2656 180.7656,173.375 Q182.1875,173.5156 182.9063,174.3281 Q183.625,175.1406 183.625,176.5938 Q183.625,178.3906 182.5469,179.2031 Q181.4688,180 179.0313,180 L175.0313,180 L175.0313,167.5938 Z \"/><text fill=\"#000000\" font-family=\"sans-serif\" font-size=\"12\" lengthAdjust=\"spacingAndGlyphs\" textLength=\"9\" x=\"192.5\" y=\"178.1543\">Q</text><line style=\"stroke: #A80036; stroke-width: 1.5;\" x1=\"164.5\" x2=\"203.5\" y1=\"190\" y2=\"190\"/></a><!--MD5=[ebbe1d658d1005bcc118a6aa81145e00]\n",
       "class E4--><a href=\"psysml:f17815b8-46c4-4dd9-bf70-524ba6c03f24\" target=\"_top\" title=\"psysml:f17815b8-46c4-4dd9-bf70-524ba6c03f24\" xlink:actuate=\"onRequest\" xlink:href=\"psysml:f17815b8-46c4-4dd9-bf70-524ba6c03f24\" xlink:show=\"new\" xlink:title=\"psysml:f17815b8-46c4-4dd9-bf70-524ba6c03f24\" xlink:type=\"simple\"><rect fill=\"#FEFECE\" filter=\"url(#fmhwp7apabhcc)\" height=\"45.9375\" id=\"E4\" style=\"stroke: #A80036; stroke-width: 1.5;\" width=\"121\" x=\"158.5\" y=\"41\"/><ellipse cx=\"173.5\" cy=\"59.9688\" fill=\"#A52A2A\" rx=\"11\" ry=\"11\" style=\"stroke: #A80036; stroke-width: 1.0;\"/><path d=\"M173.0938,55.7813 L173.0938,63.7656 L173.75,63.7656 Q175.1875,63.7656 175.7969,62.8594 Q176.4219,61.9375 176.4219,59.7656 Q176.4219,57.5938 175.7969,56.6875 Q175.1875,55.7813 173.75,55.7813 L173.0938,55.7813 Z M170.6406,53.5781 L173.2656,53.5781 Q176.2969,53.5781 177.625,55.0313 Q178.9688,56.4688 178.9688,59.7656 Q178.9688,63.0625 177.625,64.5156 Q176.2969,65.9688 173.2656,65.9688 L170.6406,65.9688 L170.6406,53.5781 Z \"/><text fill=\"#000000\" font-family=\"sans-serif\" font-size=\"12\" font-style=\"italic\" lengthAdjust=\"spacingAndGlyphs\" textLength=\"93\" x=\"185.5\" y=\"57.1387\">«attribute def»</text><text fill=\"#000000\" font-family=\"sans-serif\" font-size=\"12\" lengthAdjust=\"spacingAndGlyphs\" textLength=\"8\" x=\"228\" y=\"71.1074\">B</text><line style=\"stroke: #A80036; stroke-width: 1.5;\" x1=\"159.5\" x2=\"278.5\" y1=\"78.9375\" y2=\"78.9375\"/></a><!--MD5=[270fce915f116d4de14055a7c1d9a0f3]\n",
       "class E5--><a href=\"psysml:b1ebe526-c40e-4c8f-ae74-16f7fcd1bdc9\" target=\"_top\" title=\"psysml:b1ebe526-c40e-4c8f-ae74-16f7fcd1bdc9\" xlink:actuate=\"onRequest\" xlink:href=\"psysml:b1ebe526-c40e-4c8f-ae74-16f7fcd1bdc9\" xlink:show=\"new\" xlink:title=\"psysml:b1ebe526-c40e-4c8f-ae74-16f7fcd1bdc9\" xlink:type=\"simple\"><rect fill=\"#FEFECE\" filter=\"url(#fmhwp7apabhcc)\" height=\"40\" id=\"E5\" style=\"stroke: #A80036; stroke-width: 1.5;\" width=\"40\" x=\"240\" y=\"158\"/><ellipse cx=\"255\" cy=\"174\" fill=\"#008000\" rx=\"11\" ry=\"11\" style=\"stroke: #A80036; stroke-width: 1.0;\"/><path d=\"M253.9063,174.375 L253.9063,178.0469 L255.5313,178.0469 Q256.7031,178.0469 257.1719,177.6563 Q257.6406,177.25 257.6406,176.25 Q257.6406,175.25 257.1406,174.8125 Q256.6563,174.375 255.5313,174.375 L253.9063,174.375 Z M253.9063,169.5469 L253.9063,172.4219 L255.5313,172.4219 Q256.4531,172.4219 256.8438,172.0938 Q257.25,171.75 257.25,171 Q257.25,170.2344 256.8438,169.8906 Q256.4375,169.5469 255.5313,169.5469 L253.9063,169.5469 Z M251.5313,167.5938 L255.5313,167.5938 Q257.5938,167.5938 258.6406,168.375 Q259.6875,169.1563 259.6875,170.7188 Q259.6875,171.9219 259.0625,172.5938 Q258.4531,173.2656 257.2656,173.375 Q258.6875,173.5156 259.4063,174.3281 Q260.125,175.1406 260.125,176.5938 Q260.125,178.3906 259.0469,179.2031 Q257.9688,180 255.5313,180 L251.5313,180 L251.5313,167.5938 Z \"/><text fill=\"#000000\" font-family=\"sans-serif\" font-size=\"12\" lengthAdjust=\"spacingAndGlyphs\" textLength=\"8\" x=\"269\" y=\"178.1543\">V</text><line style=\"stroke: #A80036; stroke-width: 1.5;\" x1=\"241\" x2=\"279\" y1=\"190\" y2=\"190\"/></a><!--MD5=[60a26617385b1d2d0262a64233df1f8d]\n",
       "class E6--><a href=\"psysml:05419eac-6c2b-46e9-bd3b-b31f448a077a\" target=\"_top\" title=\"psysml:05419eac-6c2b-46e9-bd3b-b31f448a077a\" xlink:actuate=\"onRequest\" xlink:href=\"psysml:05419eac-6c2b-46e9-bd3b-b31f448a077a\" xlink:show=\"new\" xlink:title=\"psysml:05419eac-6c2b-46e9-bd3b-b31f448a077a\" xlink:type=\"simple\"><rect fill=\"#FEFECE\" filter=\"url(#fmhwp7apabhcc)\" height=\"71.5469\" id=\"E6\" rx=\"10\" ry=\"10\" style=\"stroke: #A80036; stroke-width: 1.5;\" width=\"68\" x=\"212\" y=\"285\"/><ellipse cx=\"227\" cy=\"303.9688\" fill=\"#32CD32\" rx=\"11\" ry=\"11\" style=\"stroke: #A80036; stroke-width: 1.0;\"/><path d=\"M226.7969,299.6406 L226.7969,303.2656 L227.7969,303.2656 Q229,303.2656 229.4844,302.8594 Q229.9688,302.4531 229.9688,301.4531 Q229.9688,300.4531 229.4844,300.0469 Q229,299.6406 227.7969,299.6406 L226.7969,299.6406 Z M224.3438,297.5781 L227.7031,297.5781 Q230.2656,297.5781 231.3906,298.5 Q232.5156,299.4063 232.5156,301.4531 Q232.5156,303.5 231.3906,304.4219 Q230.2656,305.3281 227.7031,305.3281 L226.7969,305.3281 L226.7969,309.9688 L224.3438,309.9688 L224.3438,297.5781 Z \"/><text fill=\"#000000\" font-family=\"sans-serif\" font-size=\"12\" font-style=\"italic\" lengthAdjust=\"spacingAndGlyphs\" textLength=\"40\" x=\"239\" y=\"301.1387\">«part»</text><text fill=\"#000000\" font-family=\"sans-serif\" font-size=\"12\" lengthAdjust=\"spacingAndGlyphs\" textLength=\"23\" x=\"247.5\" y=\"315.1074\">x: Q</text><line style=\"stroke: #A80036; stroke-width: 1.5;\" x1=\"213\" x2=\"279\" y1=\"322.9375\" y2=\"322.9375\"/><text fill=\"#000000\" font-family=\"sans-serif\" font-size=\"11\" lengthAdjust=\"spacingAndGlyphs\" textLength=\"23\" x=\"218\" y=\"337.1479\">b: B</text><text fill=\"#000000\" font-family=\"sans-serif\" font-size=\"11\" font-style=\"italic\" lengthAdjust=\"spacingAndGlyphs\" textLength=\"44\" x=\"218\" y=\"349.9526\">:&gt;&gt;P::a</text></a><!--MD5=[2156ba9850f5573cc1fc38a6a4b2f02b]\n",
       "class E7--><a href=\"psysml:bd66bfa4-4cf8-4e62-98d6-c8549fcb8467\" target=\"_top\" title=\"psysml:bd66bfa4-4cf8-4e62-98d6-c8549fcb8467\" xlink:actuate=\"onRequest\" xlink:href=\"psysml:bd66bfa4-4cf8-4e62-98d6-c8549fcb8467\" xlink:show=\"new\" xlink:title=\"psysml:bd66bfa4-4cf8-4e62-98d6-c8549fcb8467\" xlink:type=\"simple\"><rect fill=\"#FEFECE\" filter=\"url(#fmhwp7apabhcc)\" height=\"45.9375\" id=\"E7\" rx=\"10\" ry=\"10\" style=\"stroke: #A80036; stroke-width: 1.5;\" width=\"68\" x=\"55\" y=\"41\"/><ellipse cx=\"70\" cy=\"59.9688\" fill=\"#32CD32\" rx=\"11\" ry=\"11\" style=\"stroke: #A80036; stroke-width: 1.0;\"/><path d=\"M69.7969,55.6406 L69.7969,59.2656 L70.7969,59.2656 Q72,59.2656 72.4844,58.8594 Q72.9688,58.4531 72.9688,57.4531 Q72.9688,56.4531 72.4844,56.0469 Q72,55.6406 70.7969,55.6406 L69.7969,55.6406 Z M67.3438,53.5781 L70.7031,53.5781 Q73.2656,53.5781 74.3906,54.5 Q75.5156,55.4063 75.5156,57.4531 Q75.5156,59.5 74.3906,60.4219 Q73.2656,61.3281 70.7031,61.3281 L69.7969,61.3281 L69.7969,65.9688 L67.3438,65.9688 L67.3438,53.5781 Z \"/><text fill=\"#000000\" font-family=\"sans-serif\" font-size=\"12\" font-style=\"italic\" lengthAdjust=\"spacingAndGlyphs\" textLength=\"40\" x=\"82\" y=\"57.1387\">«part»</text><text fill=\"#000000\" font-family=\"sans-serif\" font-size=\"12\" lengthAdjust=\"spacingAndGlyphs\" textLength=\"25\" x=\"89.5\" y=\"71.1074\">q: Q</text><line style=\"stroke: #A80036; stroke-width: 1.5;\" x1=\"56\" x2=\"122\" y1=\"78.9375\" y2=\"78.9375\"/></a><!--MD5=[b9389687b975829384b498ac4b7476b2]\n",
       "class E8--><a href=\"psysml:d11ba367-2498-4d3b-bf9a-6df5f0bc7068\" target=\"_top\" title=\"psysml:d11ba367-2498-4d3b-bf9a-6df5f0bc7068\" xlink:actuate=\"onRequest\" xlink:href=\"psysml:d11ba367-2498-4d3b-bf9a-6df5f0bc7068\" xlink:show=\"new\" xlink:title=\"psysml:d11ba367-2498-4d3b-bf9a-6df5f0bc7068\" xlink:type=\"simple\"><rect fill=\"#FEFECE\" filter=\"url(#fmhwp7apabhcc)\" height=\"59.9063\" id=\"E8\" rx=\"10\" ry=\"10\" style=\"stroke: #A80036; stroke-width: 1.5;\" width=\"96\" x=\"32\" y=\"148\"/><ellipse cx=\"47\" cy=\"173.9531\" fill=\"#32CD32\" rx=\"11\" ry=\"11\" style=\"stroke: #A80036; stroke-width: 1.0;\"/><path d=\"M46.7969,169.625 L46.7969,173.25 L47.7969,173.25 Q49,173.25 49.4844,172.8438 Q49.9688,172.4375 49.9688,171.4375 Q49.9688,170.4375 49.4844,170.0313 Q49,169.625 47.7969,169.625 L46.7969,169.625 Z M44.3438,167.5625 L47.7031,167.5625 Q50.2656,167.5625 51.3906,168.4844 Q52.5156,169.3906 52.5156,171.4375 Q52.5156,173.4844 51.3906,174.4063 Q50.2656,175.3125 47.7031,175.3125 L46.7969,175.3125 L46.7969,179.9531 L44.3438,179.9531 L44.3438,167.5625 Z \"/><text fill=\"#000000\" font-family=\"sans-serif\" font-size=\"12\" font-style=\"italic\" lengthAdjust=\"spacingAndGlyphs\" textLength=\"68\" x=\"59\" y=\"164.1387\">«variation»</text><text fill=\"#000000\" font-family=\"sans-serif\" font-size=\"12\" font-style=\"italic\" lengthAdjust=\"spacingAndGlyphs\" textLength=\"40\" x=\"73\" y=\"178.1074\">«part»</text><text fill=\"#000000\" font-family=\"sans-serif\" font-size=\"12\" lengthAdjust=\"spacingAndGlyphs\" textLength=\"22\" x=\"82\" y=\"192.0762\">v: P</text><line style=\"stroke: #A80036; stroke-width: 1.5;\" x1=\"33\" x2=\"127\" y1=\"199.9063\" y2=\"199.9063\"/></a><!--MD5=[fd4143e9d270a159db93a4ea2a975926]\n",
       "class E9--><a href=\"psysml:72597939-8390-466d-9479-39928477d122\" target=\"_top\" title=\"psysml:72597939-8390-466d-9479-39928477d122\" xlink:actuate=\"onRequest\" xlink:href=\"psysml:72597939-8390-466d-9479-39928477d122\" xlink:show=\"new\" xlink:title=\"psysml:72597939-8390-466d-9479-39928477d122\" xlink:type=\"simple\"><rect fill=\"#FEFECE\" filter=\"url(#fmhwp7apabhcc)\" height=\"71.5469\" id=\"E9\" rx=\"10\" ry=\"10\" style=\"stroke: #A80036; stroke-width: 1.5;\" width=\"68\" x=\"34\" y=\"285\"/><ellipse cx=\"49\" cy=\"303.9688\" fill=\"#32CD32\" rx=\"11\" ry=\"11\" style=\"stroke: #A80036; stroke-width: 1.0;\"/><path d=\"M48.7969,299.6406 L48.7969,303.2656 L49.7969,303.2656 Q51,303.2656 51.4844,302.8594 Q51.9688,302.4531 51.9688,301.4531 Q51.9688,300.4531 51.4844,300.0469 Q51,299.6406 49.7969,299.6406 L48.7969,299.6406 Z M46.3438,297.5781 L49.7031,297.5781 Q52.2656,297.5781 53.3906,298.5 Q54.5156,299.4063 54.5156,301.4531 Q54.5156,303.5 53.3906,304.4219 Q52.2656,305.3281 49.7031,305.3281 L48.7969,305.3281 L48.7969,309.9688 L46.3438,309.9688 L46.3438,297.5781 Z \"/><text fill=\"#000000\" font-family=\"sans-serif\" font-size=\"12\" font-style=\"italic\" lengthAdjust=\"spacingAndGlyphs\" textLength=\"40\" x=\"61\" y=\"301.1387\">«part»</text><text fill=\"#000000\" font-family=\"sans-serif\" font-size=\"12\" lengthAdjust=\"spacingAndGlyphs\" textLength=\"6\" x=\"78\" y=\"315.1074\">y</text><line style=\"stroke: #A80036; stroke-width: 1.5;\" x1=\"35\" x2=\"101\" y1=\"322.9375\" y2=\"322.9375\"/><text fill=\"#000000\" font-family=\"sans-serif\" font-size=\"11\" lengthAdjust=\"spacingAndGlyphs\" textLength=\"23\" x=\"40\" y=\"337.1479\">b: B</text><text fill=\"#000000\" font-family=\"sans-serif\" font-size=\"11\" font-style=\"italic\" lengthAdjust=\"spacingAndGlyphs\" textLength=\"44\" x=\"40\" y=\"349.9526\">:&gt;&gt;P::a</text></a><!--MD5=[05d275557350bfb9b23a4ef7222b4c39]\n",
       "link E3 to E2--><a href=\"psysml:0057605f-0b36-40b5-a833-d8040f0d9e74\" target=\"_top\" title=\"psysml:0057605f-0b36-40b5-a833-d8040f0d9e74\" xlink:actuate=\"onRequest\" xlink:href=\"psysml:0057605f-0b36-40b5-a833-d8040f0d9e74\" xlink:show=\"new\" xlink:title=\"psysml:0057605f-0b36-40b5-a833-d8040f0d9e74\" xlink:type=\"simple\"><path d=\"M176.69,198.12 C172.62,209.53 167.82,224.41 165,238 C162.59,249.64 160.9,262.37 159.72,274.25 \" fill=\"none\" id=\"E3-&gt;E2\" style=\"stroke: #A80036; stroke-width: 1.0;\"/><polygon fill=\"none\" points=\"166.68,274.93,158.09,294.3,152.73,273.8,166.68,274.93\" style=\"stroke: #A80036; stroke-width: 1.0;\"/></a><!--MD5=[15ebcb19ae302d9b601edb458606d402]\n",
       "link E5 to E2--><a href=\"psysml:922ee1f9-edf0-4204-bf0f-0435eb6f66de\" target=\"_top\" title=\"psysml:922ee1f9-edf0-4204-bf0f-0435eb6f66de\" xlink:actuate=\"onRequest\" xlink:href=\"psysml:922ee1f9-edf0-4204-bf0f-0435eb6f66de\" xlink:show=\"new\" xlink:title=\"psysml:922ee1f9-edf0-4204-bf0f-0435eb6f66de\" xlink:type=\"simple\"><path d=\"M246.11,198.02 C231.2,218.43 207.04,251.5 187.64,278.06 \" fill=\"none\" id=\"E5-&gt;E2\" style=\"stroke: #A80036; stroke-width: 1.0;\"/><polygon fill=\"none\" points=\"193.17,282.35,175.72,294.37,181.87,274.09,193.17,282.35\" style=\"stroke: #A80036; stroke-width: 1.0;\"/></a><!--MD5=[9120cf2e5df3bff93db8f754bbbc09b4]\n",
       "link E5 to E6--><a href=\"psysml:1c0ef759-8c31-4a4a-b0e7-e872c2806a04\" target=\"_top\" title=\"psysml:1c0ef759-8c31-4a4a-b0e7-e872c2806a04\" xlink:actuate=\"onRequest\" xlink:href=\"psysml:1c0ef759-8c31-4a4a-b0e7-e872c2806a04\" xlink:show=\"new\" xlink:title=\"psysml:1c0ef759-8c31-4a4a-b0e7-e872c2806a04\" xlink:type=\"simple\"><path d=\"M257.1,208.19 C255.19,227.4 252.66,252.93 250.49,274.74 \" fill=\"none\" id=\"E5-E6\" style=\"stroke: #A80036; stroke-width: 1.0;\"/><polygon fill=\"#A80036\" points=\"249.5,284.79,253.2735,277.1245,247.3027,276.5334,249.5,284.79\" style=\"stroke: #A80036; stroke-width: 1.0;\"/><path d=\"M249.3907,200.2501 A9,9 0 0 0 266.2229 201.9164\" fill=\"none\" style=\"stroke: #A80036; stroke-width: 1.5;\"/><text fill=\"#000000\" font-family=\"sans-serif\" font-size=\"13\" lengthAdjust=\"spacingAndGlyphs\" textLength=\"60\" x=\"254\" y=\"251.0669\">«variant»</text></a><!--MD5=[14ccda38c055a5c0da953d572bc50960]\n",
       "link E7 to E3--><a href=\"psysml:6aa04dcc-8d2e-4853-a2ca-5b94913b0044\" target=\"_top\" title=\"psysml:6aa04dcc-8d2e-4853-a2ca-5b94913b0044\" xlink:actuate=\"onRequest\" xlink:href=\"psysml:6aa04dcc-8d2e-4853-a2ca-5b94913b0044\" xlink:show=\"new\" xlink:title=\"psysml:6aa04dcc-8d2e-4853-a2ca-5b94913b0044\" xlink:type=\"simple\"><path d=\"M107.77,87.13 C121.18,102.94 139.49,124.53 154.81,142.58 \" fill=\"none\" id=\"E7-&gt;E3\" style=\"stroke: #A80036; stroke-width: 1.0;\"/><polygon fill=\"#FFFFFF\" points=\"167.8,157.9,150.1709,147.9394,160.8469,138.8828,167.8,157.9\" style=\"stroke: #A80036; stroke-width: 1.0;\"/><ellipse cx=\"148.0087\" cy=\"142.299\" fill=\"#A80036\" rx=\"2\" ry=\"2\" style=\"stroke: #A80036; stroke-width: 1.0;\"/><ellipse cx=\"155.6344\" cy=\"135.8299\" fill=\"#A80036\" rx=\"2\" ry=\"2\" style=\"stroke: #A80036; stroke-width: 1.0;\"/></a><!--MD5=[f1f3f9f2fc535e6147756cb86a7f2e32]\n",
       "link E8 to E2--><a href=\"psysml:62998d3a-e41b-4231-af2c-a0f2b465e4e7\" target=\"_top\" title=\"psysml:62998d3a-e41b-4231-af2c-a0f2b465e4e7\" xlink:actuate=\"onRequest\" xlink:href=\"psysml:62998d3a-e41b-4231-af2c-a0f2b465e4e7\" xlink:show=\"new\" xlink:title=\"psysml:62998d3a-e41b-4231-af2c-a0f2b465e4e7\" xlink:type=\"simple\"><path d=\"M120.07,208.27 C129.27,216.85 138.08,226.94 144,238 C149.86,248.94 153.24,261.79 155.16,274.03 \" fill=\"none\" id=\"E8-&gt;E2\" style=\"stroke: #A80036; stroke-width: 1.0;\"/><polygon fill=\"#FFFFFF\" points=\"157.21,294.23,148.3322,276.0315,162.261,274.6217,157.21,294.23\" style=\"stroke: #A80036; stroke-width: 1.0;\"/><ellipse cx=\"149.748\" cy=\"270.1591\" fill=\"#A80036\" rx=\"2\" ry=\"2\" style=\"stroke: #A80036; stroke-width: 1.0;\"/><ellipse cx=\"159.6971\" cy=\"269.152\" fill=\"#A80036\" rx=\"2\" ry=\"2\" style=\"stroke: #A80036; stroke-width: 1.0;\"/></a><!--MD5=[ed10624c06dd9a4fa49ccf290e8b16a8]\n",
       "link E8 to E9--><a href=\"psysml:196bced0-9581-41ba-9556-fc72f0b07990\" target=\"_top\" title=\"psysml:196bced0-9581-41ba-9556-fc72f0b07990\" xlink:actuate=\"onRequest\" xlink:href=\"psysml:196bced0-9581-41ba-9556-fc72f0b07990\" xlink:show=\"new\" xlink:title=\"psysml:196bced0-9581-41ba-9556-fc72f0b07990\" xlink:type=\"simple\"><path d=\"M76.65,218.35 C75.16,235.87 73.39,256.61 71.85,274.77 \" fill=\"none\" id=\"E8-E9\" style=\"stroke: #A80036; stroke-width: 1.0;\"/><polygon fill=\"#A80036\" points=\"70.99,284.83,74.6641,277.1163,68.6862,276.6025,70.99,284.83\" style=\"stroke: #A80036; stroke-width: 1.0;\"/><path d=\"M68.8199,210.5615 A9,9 0 0 0 85.6721 212.0122\" fill=\"none\" style=\"stroke: #A80036; stroke-width: 1.5;\"/><text fill=\"#000000\" font-family=\"sans-serif\" font-size=\"13\" lengthAdjust=\"spacingAndGlyphs\" textLength=\"60\" x=\"75\" y=\"251.0669\">«variant»</text></a><!--MD5=[9ef2c84ccc8fee6b3ab1c9c385768e5b]\n",
       "@startuml\r\n",
       " \r\n",
       "package \"VariabilityTest\" as E1  [[psysml:fc405a6c-3061-4540-9673-8b8e766ba6ac ]]  {\r\n",
       "comp def \"P\" as E2  << (B,green) >> [[psysml:dc902210-e855-46b4-a2dd-8255fef19514 ]] {\r\n",
       "a\r\n",
       "}\r\n",
       "comp def \"Q\" as E3  << (B,green) >> [[psysml:b52c8837-30af-42aa-bc51-100eaed5de80 ]] {\r\n",
       "}\r\n",
       "comp def \"B\" as E4  <<(D,brown)attribute def>> [[psysml:f17815b8-46c4-4dd9-bf70-524ba6c03f24 ]] {\r\n",
       "}\r\n",
       "comp def \"V\" as E5  << (B,green) >> [[psysml:b1ebe526-c40e-4c8f-ae74-16f7fcd1bdc9 ]] {\r\n",
       "}\r\n",
       "comp usage \"x: Q\" as E6  << (P,limegreen) part>> [[psysml:05419eac-6c2b-46e9-bd3b-b31f448a077a ]] {\r\n",
       "b: B\\n//:>>P::a// \r\n",
       "}\r\n",
       "comp usage \"q: Q\" as E7  << (P,limegreen) part>> [[psysml:bd66bfa4-4cf8-4e62-98d6-c8549fcb8467 ]] {\r\n",
       "}\r\n",
       "comp usage \"v: P\" as E8  <<variation>>\\n << (P,limegreen) part>> [[psysml:d11ba367-2498-4d3b-bf9a-6df5f0bc7068 ]] {\r\n",
       "}\r\n",
       "comp usage \"y\" as E9  << (P,limegreen) part>> [[psysml:72597939-8390-466d-9479-39928477d122 ]] {\r\n",
       "b: B\\n//:>>P::a// \r\n",
       "}\r\n",
       "E3 - -|> E2 [[psysml:0057605f-0b36-40b5-a833-d8040f0d9e74 ]] \r\n",
       "E5 - -|> E2 [[psysml:922ee1f9-edf0-4204-bf0f-0435eb6f66de ]] \r\n",
       "E5 )- ->> E6 [[psysml:1c0ef759-8c31-4a4a-b0e7-e872c2806a04 ]] : <<variant>>\r\n",
       "E7 - -:|> E3 [[psysml:6aa04dcc-8d2e-4853-a2ca-5b94913b0044 ]] \r\n",
       "E8 - -:|> E2 [[psysml:62998d3a-e41b-4231-af2c-a0f2b465e4e7 ]] \r\n",
       "E8 )- ->> E9 [[psysml:196bced0-9581-41ba-9556-fc72f0b07990 ]] : <<variant>>\r\n",
       "}\r\n",
       "@enduml\r\n",
       "\n",
       "PlantUML version 1.2020.13(Sat Jun 13 12:26:38 UTC 2020)\n",
       "(EPL source distribution)\n",
       "Java Runtime: OpenJDK Runtime Environment\n",
       "JVM: OpenJDK 64-Bit Server VM\n",
       "Default Encoding: UTF-8\n",
       "Language: en\n",
       "Country: null\n",
       "--></g></svg>"
      ]
     },
     "execution_count": 36,
     "metadata": {},
     "output_type": "execute_result"
    }
   ],
   "source": [
    "%viz --style=\"PLANTUML\" --view=\"MIXED\" \"VariabilityTest\""
   ]
  },
  {
   "cell_type": "code",
   "execution_count": 37,
   "id": "effective-thirty",
   "metadata": {
    "execution": {
     "iopub.execute_input": "2021-03-25T15:07:45.947101Z",
     "iopub.status.busy": "2021-03-25T15:07:45.946596Z",
     "iopub.status.idle": "2021-03-25T15:07:46.376913Z",
     "shell.execute_reply": "2021-03-25T15:07:46.375387Z"
    }
   },
   "outputs": [
    {
     "data": {
      "image/svg+xml": [
       "<?xml version=\"1.0\" encoding=\"UTF-8\" standalone=\"no\"?><svg xmlns=\"http://www.w3.org/2000/svg\" xmlns:xlink=\"http://www.w3.org/1999/xlink\" contentScriptType=\"application/ecmascript\" contentStyleType=\"text/css\" height=\"401px\" preserveAspectRatio=\"none\" style=\"width:342px;height:401px;\" version=\"1.1\" viewBox=\"0 0 342 401\" width=\"342px\" zoomAndPan=\"magnify\"><defs/><g><!--MD5=[fbc87193dbaf4d95561dea2c320d4a47]\n",
       "cluster E1--><a href=\"psysml:fc405a6c-3061-4540-9673-8b8e766ba6ac\" target=\"_top\" title=\"psysml:fc405a6c-3061-4540-9673-8b8e766ba6ac\" xlink:actuate=\"onRequest\" xlink:href=\"psysml:fc405a6c-3061-4540-9673-8b8e766ba6ac\" xlink:show=\"new\" xlink:title=\"psysml:fc405a6c-3061-4540-9673-8b8e766ba6ac\" xlink:type=\"simple\"><polygon fill=\"#FFFFFF\" points=\"16,6,134,6,141,28.2969,320,28.2969,320,389,16,389,16,6\" style=\"stroke: #000000; stroke-width: 1.5;\"/><line style=\"stroke: #000000; stroke-width: 1.5;\" x1=\"16\" x2=\"141\" y1=\"28.2969\" y2=\"28.2969\"/><text fill=\"#000000\" font-family=\"sans-serif\" font-size=\"14\" font-weight=\"bold\" lengthAdjust=\"spacingAndGlyphs\" textLength=\"112\" x=\"20\" y=\"20.9951\">VariabilityTest</text></a><!--MD5=[b4997ac47864f28c2f74865a473b2911]\n",
       "class E2--><a href=\"psysml:dc902210-e855-46b4-a2dd-8255fef19514\" target=\"_top\" title=\"psysml:dc902210-e855-46b4-a2dd-8255fef19514\" xlink:actuate=\"onRequest\" xlink:href=\"psysml:dc902210-e855-46b4-a2dd-8255fef19514\" xlink:show=\"new\" xlink:title=\"psysml:dc902210-e855-46b4-a2dd-8255fef19514\" xlink:type=\"simple\"><rect fill=\"#FFFFFF\" height=\"75.5469\" id=\"E2\" style=\"stroke: #383838; stroke-width: 1.5;\" width=\"66\" x=\"135\" y=\"291\"/><text fill=\"#000000\" font-family=\"sans-serif\" font-size=\"12\" font-style=\"italic\" lengthAdjust=\"spacingAndGlyphs\" textLength=\"64\" x=\"136\" y=\"307.1387\">«part def»</text><text fill=\"#000000\" font-family=\"sans-serif\" font-size=\"12\" lengthAdjust=\"spacingAndGlyphs\" textLength=\"8\" x=\"164\" y=\"321.1074\">P</text><line style=\"stroke: #383838; stroke-width: 1.5;\" x1=\"136\" x2=\"200\" y1=\"328.9375\" y2=\"328.9375\"/><text fill=\"#000000\" font-family=\"sans-serif\" font-size=\"11\" lengthAdjust=\"spacingAndGlyphs\" textLength=\"7\" x=\"141\" y=\"359.9526\">a</text><line style=\"stroke: #383838; stroke-width: 1.0;\" x1=\"136\" x2=\"140.5\" y1=\"343.3398\" y2=\"343.3398\"/><text fill=\"#000000\" font-family=\"sans-serif\" font-size=\"11\" lengthAdjust=\"spacingAndGlyphs\" textLength=\"55\" x=\"140.5\" y=\"346.6479\">attributes</text><line style=\"stroke: #383838; stroke-width: 1.0;\" x1=\"195.5\" x2=\"200\" y1=\"343.3398\" y2=\"343.3398\"/></a><!--MD5=[09b614a08d8cba4a07c9adeb5e0fee81]\n",
       "class E3--><a href=\"psysml:b52c8837-30af-42aa-bc51-100eaed5de80\" target=\"_top\" title=\"psysml:b52c8837-30af-42aa-bc51-100eaed5de80\" xlink:actuate=\"onRequest\" xlink:href=\"psysml:b52c8837-30af-42aa-bc51-100eaed5de80\" xlink:show=\"new\" xlink:title=\"psysml:b52c8837-30af-42aa-bc51-100eaed5de80\" xlink:type=\"simple\"><rect fill=\"#FFFFFF\" height=\"45.9375\" id=\"E3\" style=\"stroke: #383838; stroke-width: 1.5;\" width=\"66\" x=\"137\" y=\"155\"/><text fill=\"#000000\" font-family=\"sans-serif\" font-size=\"12\" font-style=\"italic\" lengthAdjust=\"spacingAndGlyphs\" textLength=\"64\" x=\"138\" y=\"171.1387\">«part def»</text><text fill=\"#000000\" font-family=\"sans-serif\" font-size=\"12\" lengthAdjust=\"spacingAndGlyphs\" textLength=\"9\" x=\"165.5\" y=\"185.1074\">Q</text><line style=\"stroke: #383838; stroke-width: 1.5;\" x1=\"138\" x2=\"202\" y1=\"192.9375\" y2=\"192.9375\"/></a><!--MD5=[ebbe1d658d1005bcc118a6aa81145e00]\n",
       "class E4--><a href=\"psysml:f17815b8-46c4-4dd9-bf70-524ba6c03f24\" target=\"_top\" title=\"psysml:f17815b8-46c4-4dd9-bf70-524ba6c03f24\" xlink:actuate=\"onRequest\" xlink:href=\"psysml:f17815b8-46c4-4dd9-bf70-524ba6c03f24\" xlink:show=\"new\" xlink:title=\"psysml:f17815b8-46c4-4dd9-bf70-524ba6c03f24\" xlink:type=\"simple\"><rect fill=\"#FFFFFF\" height=\"45.9375\" id=\"E4\" style=\"stroke: #383838; stroke-width: 1.5;\" width=\"95\" x=\"208.5\" y=\"41\"/><text fill=\"#000000\" font-family=\"sans-serif\" font-size=\"12\" font-style=\"italic\" lengthAdjust=\"spacingAndGlyphs\" textLength=\"93\" x=\"209.5\" y=\"57.1387\">«attribute def»</text><text fill=\"#000000\" font-family=\"sans-serif\" font-size=\"12\" lengthAdjust=\"spacingAndGlyphs\" textLength=\"8\" x=\"252\" y=\"71.1074\">B</text><line style=\"stroke: #383838; stroke-width: 1.5;\" x1=\"209.5\" x2=\"302.5\" y1=\"78.9375\" y2=\"78.9375\"/></a><!--MD5=[270fce915f116d4de14055a7c1d9a0f3]\n",
       "class E5--><a href=\"psysml:b1ebe526-c40e-4c8f-ae74-16f7fcd1bdc9\" target=\"_top\" title=\"psysml:b1ebe526-c40e-4c8f-ae74-16f7fcd1bdc9\" xlink:actuate=\"onRequest\" xlink:href=\"psysml:b1ebe526-c40e-4c8f-ae74-16f7fcd1bdc9\" xlink:show=\"new\" xlink:title=\"psysml:b1ebe526-c40e-4c8f-ae74-16f7fcd1bdc9\" xlink:type=\"simple\"><rect fill=\"#FFFFFF\" height=\"45.9375\" id=\"E5\" style=\"stroke: #383838; stroke-width: 1.5;\" width=\"66\" x=\"238\" y=\"155\"/><text fill=\"#000000\" font-family=\"sans-serif\" font-size=\"12\" font-style=\"italic\" lengthAdjust=\"spacingAndGlyphs\" textLength=\"64\" x=\"239\" y=\"171.1387\">«part def»</text><text fill=\"#000000\" font-family=\"sans-serif\" font-size=\"12\" lengthAdjust=\"spacingAndGlyphs\" textLength=\"8\" x=\"267\" y=\"185.1074\">V</text><line style=\"stroke: #383838; stroke-width: 1.5;\" x1=\"239\" x2=\"303\" y1=\"192.9375\" y2=\"192.9375\"/></a><!--MD5=[60a26617385b1d2d0262a64233df1f8d]\n",
       "class E6--><a href=\"psysml:05419eac-6c2b-46e9-bd3b-b31f448a077a\" target=\"_top\" title=\"psysml:05419eac-6c2b-46e9-bd3b-b31f448a077a\" xlink:actuate=\"onRequest\" xlink:href=\"psysml:05419eac-6c2b-46e9-bd3b-b31f448a077a\" xlink:show=\"new\" xlink:title=\"psysml:05419eac-6c2b-46e9-bd3b-b31f448a077a\" xlink:type=\"simple\"><rect fill=\"#FFFFFF\" height=\"88.3516\" id=\"E6\" rx=\"10\" ry=\"10\" style=\"stroke: #383838; stroke-width: 1.5;\" width=\"63\" x=\"236.5\" y=\"285\"/><text fill=\"#000000\" font-family=\"sans-serif\" font-size=\"12\" font-style=\"italic\" lengthAdjust=\"spacingAndGlyphs\" textLength=\"40\" x=\"248\" y=\"301.1387\">«part»</text><text fill=\"#000000\" font-family=\"sans-serif\" font-size=\"12\" lengthAdjust=\"spacingAndGlyphs\" textLength=\"23\" x=\"256.5\" y=\"315.1074\">x: Q</text><line style=\"stroke: #383838; stroke-width: 1.5;\" x1=\"237.5\" x2=\"298.5\" y1=\"322.9375\" y2=\"322.9375\"/><text fill=\"#000000\" font-family=\"sans-serif\" font-size=\"11\" lengthAdjust=\"spacingAndGlyphs\" textLength=\"23\" x=\"242.5\" y=\"353.9526\">b: B</text><text fill=\"#000000\" font-family=\"sans-serif\" font-size=\"11\" font-style=\"italic\" lengthAdjust=\"spacingAndGlyphs\" textLength=\"44\" x=\"242.5\" y=\"366.7573\">:&gt;&gt;P::a</text><line style=\"stroke: #383838; stroke-width: 1.0;\" x1=\"237.5\" x2=\"240.5\" y1=\"337.3398\" y2=\"337.3398\"/><text fill=\"#000000\" font-family=\"sans-serif\" font-size=\"11\" lengthAdjust=\"spacingAndGlyphs\" textLength=\"55\" x=\"240.5\" y=\"340.6479\">attributes</text><line style=\"stroke: #383838; stroke-width: 1.0;\" x1=\"295.5\" x2=\"298.5\" y1=\"337.3398\" y2=\"337.3398\"/></a><!--MD5=[2156ba9850f5573cc1fc38a6a4b2f02b]\n",
       "class E7--><a href=\"psysml:bd66bfa4-4cf8-4e62-98d6-c8549fcb8467\" target=\"_top\" title=\"psysml:bd66bfa4-4cf8-4e62-98d6-c8549fcb8467\" xlink:actuate=\"onRequest\" xlink:href=\"psysml:bd66bfa4-4cf8-4e62-98d6-c8549fcb8467\" xlink:show=\"new\" xlink:title=\"psysml:bd66bfa4-4cf8-4e62-98d6-c8549fcb8467\" xlink:type=\"simple\"><rect fill=\"#FFFFFF\" height=\"45.9375\" id=\"E7\" rx=\"10\" ry=\"10\" style=\"stroke: #383838; stroke-width: 1.5;\" width=\"42\" x=\"131\" y=\"41\"/><text fill=\"#000000\" font-family=\"sans-serif\" font-size=\"12\" font-style=\"italic\" lengthAdjust=\"spacingAndGlyphs\" textLength=\"40\" x=\"132\" y=\"57.1387\">«part»</text><text fill=\"#000000\" font-family=\"sans-serif\" font-size=\"12\" lengthAdjust=\"spacingAndGlyphs\" textLength=\"25\" x=\"139.5\" y=\"71.1074\">q: Q</text><line style=\"stroke: #383838; stroke-width: 1.5;\" x1=\"132\" x2=\"172\" y1=\"78.9375\" y2=\"78.9375\"/></a><!--MD5=[b9389687b975829384b498ac4b7476b2]\n",
       "class E8--><a href=\"psysml:d11ba367-2498-4d3b-bf9a-6df5f0bc7068\" target=\"_top\" title=\"psysml:d11ba367-2498-4d3b-bf9a-6df5f0bc7068\" xlink:actuate=\"onRequest\" xlink:href=\"psysml:d11ba367-2498-4d3b-bf9a-6df5f0bc7068\" xlink:show=\"new\" xlink:title=\"psysml:d11ba367-2498-4d3b-bf9a-6df5f0bc7068\" xlink:type=\"simple\"><rect fill=\"#FFFFFF\" height=\"59.9063\" id=\"E8\" rx=\"10\" ry=\"10\" style=\"stroke: #383838; stroke-width: 1.5;\" width=\"70\" x=\"32\" y=\"148\"/><text fill=\"#000000\" font-family=\"sans-serif\" font-size=\"12\" font-style=\"italic\" lengthAdjust=\"spacingAndGlyphs\" textLength=\"68\" x=\"33\" y=\"164.1387\">«variation»</text><text fill=\"#000000\" font-family=\"sans-serif\" font-size=\"12\" font-style=\"italic\" lengthAdjust=\"spacingAndGlyphs\" textLength=\"40\" x=\"47\" y=\"178.1074\">«part»</text><text fill=\"#000000\" font-family=\"sans-serif\" font-size=\"12\" lengthAdjust=\"spacingAndGlyphs\" textLength=\"22\" x=\"56\" y=\"192.0762\">v: P</text><line style=\"stroke: #383838; stroke-width: 1.5;\" x1=\"33\" x2=\"101\" y1=\"199.9063\" y2=\"199.9063\"/></a><!--MD5=[fd4143e9d270a159db93a4ea2a975926]\n",
       "class E9--><a href=\"psysml:72597939-8390-466d-9479-39928477d122\" target=\"_top\" title=\"psysml:72597939-8390-466d-9479-39928477d122\" xlink:actuate=\"onRequest\" xlink:href=\"psysml:72597939-8390-466d-9479-39928477d122\" xlink:show=\"new\" xlink:title=\"psysml:72597939-8390-466d-9479-39928477d122\" xlink:type=\"simple\"><rect fill=\"#FFFFFF\" height=\"88.3516\" id=\"E9\" rx=\"10\" ry=\"10\" style=\"stroke: #383838; stroke-width: 1.5;\" width=\"63\" x=\"35.5\" y=\"285\"/><text fill=\"#000000\" font-family=\"sans-serif\" font-size=\"12\" font-style=\"italic\" lengthAdjust=\"spacingAndGlyphs\" textLength=\"40\" x=\"47\" y=\"301.1387\">«part»</text><text fill=\"#000000\" font-family=\"sans-serif\" font-size=\"12\" lengthAdjust=\"spacingAndGlyphs\" textLength=\"6\" x=\"64\" y=\"315.1074\">y</text><line style=\"stroke: #383838; stroke-width: 1.5;\" x1=\"36.5\" x2=\"97.5\" y1=\"322.9375\" y2=\"322.9375\"/><text fill=\"#000000\" font-family=\"sans-serif\" font-size=\"11\" lengthAdjust=\"spacingAndGlyphs\" textLength=\"23\" x=\"41.5\" y=\"353.9526\">b: B</text><text fill=\"#000000\" font-family=\"sans-serif\" font-size=\"11\" font-style=\"italic\" lengthAdjust=\"spacingAndGlyphs\" textLength=\"44\" x=\"41.5\" y=\"366.7573\">:&gt;&gt;P::a</text><line style=\"stroke: #383838; stroke-width: 1.0;\" x1=\"36.5\" x2=\"39.5\" y1=\"337.3398\" y2=\"337.3398\"/><text fill=\"#000000\" font-family=\"sans-serif\" font-size=\"11\" lengthAdjust=\"spacingAndGlyphs\" textLength=\"55\" x=\"39.5\" y=\"340.6479\">attributes</text><line style=\"stroke: #383838; stroke-width: 1.0;\" x1=\"94.5\" x2=\"97.5\" y1=\"337.3398\" y2=\"337.3398\"/></a><!--MD5=[05d275557350bfb9b23a4ef7222b4c39]\n",
       "link E3 to E2--><a href=\"psysml:0057605f-0b36-40b5-a833-d8040f0d9e74\" target=\"_top\" title=\"psysml:0057605f-0b36-40b5-a833-d8040f0d9e74\" xlink:actuate=\"onRequest\" xlink:href=\"psysml:0057605f-0b36-40b5-a833-d8040f0d9e74\" xlink:show=\"new\" xlink:title=\"psysml:0057605f-0b36-40b5-a833-d8040f0d9e74\" xlink:type=\"simple\"><path d=\"M169.7,201.31 C169.46,219.58 169.1,246.27 168.77,270.44 \" fill=\"none\" id=\"E3-&gt;E2\" style=\"stroke: #383838; stroke-width: 1.0;\"/><polygon fill=\"none\" points=\"175.77,270.86,168.5,290.77,161.77,270.68,175.77,270.86\" style=\"stroke: #383838; stroke-width: 1.0;\"/></a><!--MD5=[15ebcb19ae302d9b601edb458606d402]\n",
       "link E5 to E2--><a href=\"psysml:922ee1f9-edf0-4204-bf0f-0435eb6f66de\" target=\"_top\" title=\"psysml:922ee1f9-edf0-4204-bf0f-0435eb6f66de\" xlink:actuate=\"onRequest\" xlink:href=\"psysml:922ee1f9-edf0-4204-bf0f-0435eb6f66de\" xlink:show=\"new\" xlink:title=\"psysml:922ee1f9-edf0-4204-bf0f-0435eb6f66de\" xlink:type=\"simple\"><path d=\"M255.58,201.31 C242.31,220.5 222.62,248.99 205.27,274.09 \" fill=\"none\" id=\"E5-&gt;E2\" style=\"stroke: #383838; stroke-width: 1.0;\"/><polygon fill=\"none\" points=\"210.87,278.3,193.74,290.77,199.35,270.34,210.87,278.3\" style=\"stroke: #383838; stroke-width: 1.0;\"/></a><!--MD5=[9120cf2e5df3bff93db8f754bbbc09b4]\n",
       "link E5 to E6--><a href=\"psysml:1c0ef759-8c31-4a4a-b0e7-e872c2806a04\" target=\"_top\" title=\"psysml:1c0ef759-8c31-4a4a-b0e7-e872c2806a04\" xlink:actuate=\"onRequest\" xlink:href=\"psysml:1c0ef759-8c31-4a4a-b0e7-e872c2806a04\" xlink:show=\"new\" xlink:title=\"psysml:1c0ef759-8c31-4a4a-b0e7-e872c2806a04\" xlink:type=\"simple\"><path d=\"M270.34,211.55 C269.97,230.03 269.5,253.61 269.07,274.71 \" fill=\"none\" id=\"E5-E6\" style=\"stroke: #383838; stroke-width: 1.0;\"/><polygon fill=\"#383838\" points=\"268.87,284.84,272.0294,276.9016,266.0306,276.7816,268.87,284.84\" style=\"stroke: #383838; stroke-width: 1.0;\"/><path d=\"M262.0288,204.2063 A9,9 0 0 0 278.9393 204.5687\" fill=\"none\" style=\"stroke: #383838; stroke-width: 1.5;\"/><text fill=\"#000000\" font-family=\"sans-serif\" font-size=\"13\" lengthAdjust=\"spacingAndGlyphs\" textLength=\"60\" x=\"270\" y=\"251.0669\">«variant»</text></a><!--MD5=[14ccda38c055a5c0da953d572bc50960]\n",
       "link E7 to E3--><a href=\"psysml:6aa04dcc-8d2e-4853-a2ca-5b94913b0044\" target=\"_top\" title=\"psysml:6aa04dcc-8d2e-4853-a2ca-5b94913b0044\" xlink:actuate=\"onRequest\" xlink:href=\"psysml:6aa04dcc-8d2e-4853-a2ca-5b94913b0044\" xlink:show=\"new\" xlink:title=\"psysml:6aa04dcc-8d2e-4853-a2ca-5b94913b0044\" xlink:type=\"simple\"><path d=\"M155.56,87.13 C157.75,100.78 160.64,118.74 163.25,135 \" fill=\"none\" id=\"E7-&gt;E3\" style=\"stroke: #383838; stroke-width: 1.0;\"/><polygon fill=\"#FFFFFF\" points=\"166.45,154.92,156.5251,137.2707,170.3479,135.0503,166.45,154.92\" style=\"stroke: #383838; stroke-width: 1.0;\"/><ellipse cx=\"157.5958\" cy=\"131.3257\" fill=\"#383838\" rx=\"2\" ry=\"2\" style=\"stroke: #383838; stroke-width: 1.0;\"/><ellipse cx=\"167.4692\" cy=\"129.7396\" fill=\"#383838\" rx=\"2\" ry=\"2\" style=\"stroke: #383838; stroke-width: 1.0;\"/></a><!--MD5=[f1f3f9f2fc535e6147756cb86a7f2e32]\n",
       "link E8 to E2--><a href=\"psysml:62998d3a-e41b-4231-af2c-a0f2b465e4e7\" target=\"_top\" title=\"psysml:62998d3a-e41b-4231-af2c-a0f2b465e4e7\" xlink:actuate=\"onRequest\" xlink:href=\"psysml:62998d3a-e41b-4231-af2c-a0f2b465e4e7\" xlink:show=\"new\" xlink:title=\"psysml:62998d3a-e41b-4231-af2c-a0f2b465e4e7\" xlink:type=\"simple\"><path d=\"M102.2,202.57 C114.6,212.31 127.74,224.5 137,238 C143.95,248.13 149.47,259.96 153.82,271.65 \" fill=\"none\" id=\"E8-&gt;E2\" style=\"stroke: #383838; stroke-width: 1.0;\"/><polygon fill=\"#FFFFFF\" points=\"160.05,290.88,147.5299,274.9663,160.847,270.6472,160.05,290.88\" style=\"stroke: #383838; stroke-width: 1.0;\"/><ellipse cx=\"147.6738\" cy=\"268.9273\" fill=\"#383838\" rx=\"2\" ry=\"2\" style=\"stroke: #383838; stroke-width: 1.0;\"/><ellipse cx=\"157.186\" cy=\"265.8423\" fill=\"#383838\" rx=\"2\" ry=\"2\" style=\"stroke: #383838; stroke-width: 1.0;\"/></a><!--MD5=[ed10624c06dd9a4fa49ccf290e8b16a8]\n",
       "link E8 to E9--><a href=\"psysml:196bced0-9581-41ba-9556-fc72f0b07990\" target=\"_top\" title=\"psysml:196bced0-9581-41ba-9556-fc72f0b07990\" xlink:actuate=\"onRequest\" xlink:href=\"psysml:196bced0-9581-41ba-9556-fc72f0b07990\" xlink:show=\"new\" xlink:title=\"psysml:196bced0-9581-41ba-9556-fc72f0b07990\" xlink:type=\"simple\"><path d=\"M67,218.32 C67,235.6 67,256.15 67,274.77 \" fill=\"none\" id=\"E8-E9\" style=\"stroke: #383838; stroke-width: 1.0;\"/><polygon fill=\"#383838\" points=\"67,284.88,70,276.88,64,276.88,67,284.88\" style=\"stroke: #383838; stroke-width: 1.0;\"/><path d=\"M58.5428,211.1582 A9,9 0 0 0 75.4572 211.1582\" fill=\"none\" style=\"stroke: #383838; stroke-width: 1.5;\"/><text fill=\"#000000\" font-family=\"sans-serif\" font-size=\"13\" lengthAdjust=\"spacingAndGlyphs\" textLength=\"60\" x=\"68\" y=\"251.0669\">«variant»</text></a><!--MD5=[712623f70ad3e6c92407a6ae434c622f]\n",
       "@startuml\r\n",
       "skinparam monochrome true\r\n",
       "skinparam classbackgroundcolor white\r\n",
       "skinparam shadowing false\r\n",
       "skinparam wrapWidth 300\r\n",
       "hide circle\r\n",
       "\r\n",
       "package \"VariabilityTest\" as E1  [[psysml:fc405a6c-3061-4540-9673-8b8e766ba6ac ]]  {\r\n",
       "comp def \"P\" as E2  <<(T,blue)part def>> [[psysml:dc902210-e855-46b4-a2dd-8255fef19514 ]] {\r\n",
       "- - attributes - -\r\n",
       "a\r\n",
       "}\r\n",
       "comp def \"Q\" as E3  <<(T,blue)part def>> [[psysml:b52c8837-30af-42aa-bc51-100eaed5de80 ]] {\r\n",
       "}\r\n",
       "comp def \"B\" as E4  <<(T,blue)attribute def>> [[psysml:f17815b8-46c4-4dd9-bf70-524ba6c03f24 ]] {\r\n",
       "}\r\n",
       "comp def \"V\" as E5  <<(T,blue)part def>> [[psysml:b1ebe526-c40e-4c8f-ae74-16f7fcd1bdc9 ]] {\r\n",
       "}\r\n",
       "comp usage \"x: Q\" as E6  <<(T,blue)part>> [[psysml:05419eac-6c2b-46e9-bd3b-b31f448a077a ]] {\r\n",
       "- - attributes - -\r\n",
       "b: B\\n//:>>P::a// \r\n",
       "}\r\n",
       "comp usage \"q: Q\" as E7  <<(T,blue)part>> [[psysml:bd66bfa4-4cf8-4e62-98d6-c8549fcb8467 ]] {\r\n",
       "}\r\n",
       "comp usage \"v: P\" as E8  <<variation>>\\n <<(T,blue)part>> [[psysml:d11ba367-2498-4d3b-bf9a-6df5f0bc7068 ]] {\r\n",
       "}\r\n",
       "comp usage \"y\" as E9  <<(T,blue)part>> [[psysml:72597939-8390-466d-9479-39928477d122 ]] {\r\n",
       "- - attributes - -\r\n",
       "b: B\\n//:>>P::a// \r\n",
       "}\r\n",
       "E3 - -|> E2 [[psysml:0057605f-0b36-40b5-a833-d8040f0d9e74 ]] \r\n",
       "E5 - -|> E2 [[psysml:922ee1f9-edf0-4204-bf0f-0435eb6f66de ]] \r\n",
       "E5 )- ->> E6 [[psysml:1c0ef759-8c31-4a4a-b0e7-e872c2806a04 ]] : <<variant>>\r\n",
       "E7 - -:|> E3 [[psysml:6aa04dcc-8d2e-4853-a2ca-5b94913b0044 ]] \r\n",
       "E8 - -:|> E2 [[psysml:62998d3a-e41b-4231-af2c-a0f2b465e4e7 ]] \r\n",
       "E8 )- ->> E9 [[psysml:196bced0-9581-41ba-9556-fc72f0b07990 ]] : <<variant>>\r\n",
       "}\r\n",
       "@enduml\r\n",
       "\n",
       "PlantUML version 1.2020.13(Sat Jun 13 12:26:38 UTC 2020)\n",
       "(EPL source distribution)\n",
       "Java Runtime: OpenJDK Runtime Environment\n",
       "JVM: OpenJDK 64-Bit Server VM\n",
       "Default Encoding: UTF-8\n",
       "Language: en\n",
       "Country: null\n",
       "--></g></svg>"
      ]
     },
     "execution_count": 37,
     "metadata": {},
     "output_type": "execute_result"
    }
   ],
   "source": [
    "%viz --style=\"DEFAULT\" --view=\"Default\" \"VariabilityTest\""
   ]
  },
  {
   "cell_type": "code",
   "execution_count": 38,
   "id": "forced-invitation",
   "metadata": {
    "execution": {
     "iopub.execute_input": "2021-03-25T15:07:46.428285Z",
     "iopub.status.busy": "2021-03-25T15:07:46.427748Z",
     "iopub.status.idle": "2021-03-25T15:07:46.862961Z",
     "shell.execute_reply": "2021-03-25T15:07:46.861496Z"
    }
   },
   "outputs": [
    {
     "data": {
      "image/svg+xml": [
       "<?xml version=\"1.0\" encoding=\"UTF-8\" standalone=\"no\"?><svg xmlns=\"http://www.w3.org/2000/svg\" xmlns:xlink=\"http://www.w3.org/1999/xlink\" contentScriptType=\"application/ecmascript\" contentStyleType=\"text/css\" height=\"401px\" preserveAspectRatio=\"none\" style=\"width:342px;height:401px;\" version=\"1.1\" viewBox=\"0 0 342 401\" width=\"342px\" zoomAndPan=\"magnify\"><defs/><g><!--MD5=[fbc87193dbaf4d95561dea2c320d4a47]\n",
       "cluster E1--><a href=\"psysml:fc405a6c-3061-4540-9673-8b8e766ba6ac\" target=\"_top\" title=\"psysml:fc405a6c-3061-4540-9673-8b8e766ba6ac\" xlink:actuate=\"onRequest\" xlink:href=\"psysml:fc405a6c-3061-4540-9673-8b8e766ba6ac\" xlink:show=\"new\" xlink:title=\"psysml:fc405a6c-3061-4540-9673-8b8e766ba6ac\" xlink:type=\"simple\"><polygon fill=\"#FFFFFF\" points=\"16,6,134,6,141,28.2969,320,28.2969,320,389,16,389,16,6\" style=\"stroke: #000000; stroke-width: 1.5;\"/><line style=\"stroke: #000000; stroke-width: 1.5;\" x1=\"16\" x2=\"141\" y1=\"28.2969\" y2=\"28.2969\"/><text fill=\"#000000\" font-family=\"sans-serif\" font-size=\"14\" font-weight=\"bold\" lengthAdjust=\"spacingAndGlyphs\" textLength=\"112\" x=\"20\" y=\"20.9951\">VariabilityTest</text></a><!--MD5=[b4997ac47864f28c2f74865a473b2911]\n",
       "class E2--><a href=\"psysml:dc902210-e855-46b4-a2dd-8255fef19514\" target=\"_top\" title=\"psysml:dc902210-e855-46b4-a2dd-8255fef19514\" xlink:actuate=\"onRequest\" xlink:href=\"psysml:dc902210-e855-46b4-a2dd-8255fef19514\" xlink:show=\"new\" xlink:title=\"psysml:dc902210-e855-46b4-a2dd-8255fef19514\" xlink:type=\"simple\"><rect fill=\"#FFFFFF\" height=\"75.5469\" id=\"E2\" style=\"stroke: #383838; stroke-width: 1.5;\" width=\"66\" x=\"135\" y=\"291\"/><text fill=\"#000000\" font-family=\"sans-serif\" font-size=\"12\" font-style=\"italic\" lengthAdjust=\"spacingAndGlyphs\" textLength=\"64\" x=\"136\" y=\"307.1387\">«part def»</text><text fill=\"#000000\" font-family=\"sans-serif\" font-size=\"12\" lengthAdjust=\"spacingAndGlyphs\" textLength=\"8\" x=\"164\" y=\"321.1074\">P</text><line style=\"stroke: #383838; stroke-width: 1.5;\" x1=\"136\" x2=\"200\" y1=\"328.9375\" y2=\"328.9375\"/><text fill=\"#000000\" font-family=\"sans-serif\" font-size=\"11\" lengthAdjust=\"spacingAndGlyphs\" textLength=\"7\" x=\"141\" y=\"359.9526\">a</text><line style=\"stroke: #383838; stroke-width: 1.0;\" x1=\"136\" x2=\"140.5\" y1=\"343.3398\" y2=\"343.3398\"/><text fill=\"#000000\" font-family=\"sans-serif\" font-size=\"11\" lengthAdjust=\"spacingAndGlyphs\" textLength=\"55\" x=\"140.5\" y=\"346.6479\">attributes</text><line style=\"stroke: #383838; stroke-width: 1.0;\" x1=\"195.5\" x2=\"200\" y1=\"343.3398\" y2=\"343.3398\"/></a><!--MD5=[09b614a08d8cba4a07c9adeb5e0fee81]\n",
       "class E3--><a href=\"psysml:b52c8837-30af-42aa-bc51-100eaed5de80\" target=\"_top\" title=\"psysml:b52c8837-30af-42aa-bc51-100eaed5de80\" xlink:actuate=\"onRequest\" xlink:href=\"psysml:b52c8837-30af-42aa-bc51-100eaed5de80\" xlink:show=\"new\" xlink:title=\"psysml:b52c8837-30af-42aa-bc51-100eaed5de80\" xlink:type=\"simple\"><rect fill=\"#FFFFFF\" height=\"45.9375\" id=\"E3\" style=\"stroke: #383838; stroke-width: 1.5;\" width=\"66\" x=\"137\" y=\"155\"/><text fill=\"#000000\" font-family=\"sans-serif\" font-size=\"12\" font-style=\"italic\" lengthAdjust=\"spacingAndGlyphs\" textLength=\"64\" x=\"138\" y=\"171.1387\">«part def»</text><text fill=\"#000000\" font-family=\"sans-serif\" font-size=\"12\" lengthAdjust=\"spacingAndGlyphs\" textLength=\"9\" x=\"165.5\" y=\"185.1074\">Q</text><line style=\"stroke: #383838; stroke-width: 1.5;\" x1=\"138\" x2=\"202\" y1=\"192.9375\" y2=\"192.9375\"/></a><!--MD5=[ebbe1d658d1005bcc118a6aa81145e00]\n",
       "class E4--><a href=\"psysml:f17815b8-46c4-4dd9-bf70-524ba6c03f24\" target=\"_top\" title=\"psysml:f17815b8-46c4-4dd9-bf70-524ba6c03f24\" xlink:actuate=\"onRequest\" xlink:href=\"psysml:f17815b8-46c4-4dd9-bf70-524ba6c03f24\" xlink:show=\"new\" xlink:title=\"psysml:f17815b8-46c4-4dd9-bf70-524ba6c03f24\" xlink:type=\"simple\"><rect fill=\"#FFFFFF\" height=\"45.9375\" id=\"E4\" style=\"stroke: #383838; stroke-width: 1.5;\" width=\"95\" x=\"208.5\" y=\"41\"/><text fill=\"#000000\" font-family=\"sans-serif\" font-size=\"12\" font-style=\"italic\" lengthAdjust=\"spacingAndGlyphs\" textLength=\"93\" x=\"209.5\" y=\"57.1387\">«attribute def»</text><text fill=\"#000000\" font-family=\"sans-serif\" font-size=\"12\" lengthAdjust=\"spacingAndGlyphs\" textLength=\"8\" x=\"252\" y=\"71.1074\">B</text><line style=\"stroke: #383838; stroke-width: 1.5;\" x1=\"209.5\" x2=\"302.5\" y1=\"78.9375\" y2=\"78.9375\"/></a><!--MD5=[270fce915f116d4de14055a7c1d9a0f3]\n",
       "class E5--><a href=\"psysml:b1ebe526-c40e-4c8f-ae74-16f7fcd1bdc9\" target=\"_top\" title=\"psysml:b1ebe526-c40e-4c8f-ae74-16f7fcd1bdc9\" xlink:actuate=\"onRequest\" xlink:href=\"psysml:b1ebe526-c40e-4c8f-ae74-16f7fcd1bdc9\" xlink:show=\"new\" xlink:title=\"psysml:b1ebe526-c40e-4c8f-ae74-16f7fcd1bdc9\" xlink:type=\"simple\"><rect fill=\"#FFFFFF\" height=\"45.9375\" id=\"E5\" style=\"stroke: #383838; stroke-width: 1.5;\" width=\"66\" x=\"238\" y=\"155\"/><text fill=\"#000000\" font-family=\"sans-serif\" font-size=\"12\" font-style=\"italic\" lengthAdjust=\"spacingAndGlyphs\" textLength=\"64\" x=\"239\" y=\"171.1387\">«part def»</text><text fill=\"#000000\" font-family=\"sans-serif\" font-size=\"12\" lengthAdjust=\"spacingAndGlyphs\" textLength=\"8\" x=\"267\" y=\"185.1074\">V</text><line style=\"stroke: #383838; stroke-width: 1.5;\" x1=\"239\" x2=\"303\" y1=\"192.9375\" y2=\"192.9375\"/></a><!--MD5=[60a26617385b1d2d0262a64233df1f8d]\n",
       "class E6--><a href=\"psysml:05419eac-6c2b-46e9-bd3b-b31f448a077a\" target=\"_top\" title=\"psysml:05419eac-6c2b-46e9-bd3b-b31f448a077a\" xlink:actuate=\"onRequest\" xlink:href=\"psysml:05419eac-6c2b-46e9-bd3b-b31f448a077a\" xlink:show=\"new\" xlink:title=\"psysml:05419eac-6c2b-46e9-bd3b-b31f448a077a\" xlink:type=\"simple\"><rect fill=\"#FFFFFF\" height=\"88.3516\" id=\"E6\" rx=\"10\" ry=\"10\" style=\"stroke: #383838; stroke-width: 1.5;\" width=\"63\" x=\"236.5\" y=\"285\"/><text fill=\"#000000\" font-family=\"sans-serif\" font-size=\"12\" font-style=\"italic\" lengthAdjust=\"spacingAndGlyphs\" textLength=\"40\" x=\"248\" y=\"301.1387\">«part»</text><text fill=\"#000000\" font-family=\"sans-serif\" font-size=\"12\" lengthAdjust=\"spacingAndGlyphs\" textLength=\"23\" x=\"256.5\" y=\"315.1074\">x: Q</text><line style=\"stroke: #383838; stroke-width: 1.5;\" x1=\"237.5\" x2=\"298.5\" y1=\"322.9375\" y2=\"322.9375\"/><text fill=\"#000000\" font-family=\"sans-serif\" font-size=\"11\" lengthAdjust=\"spacingAndGlyphs\" textLength=\"23\" x=\"242.5\" y=\"353.9526\">b: B</text><text fill=\"#000000\" font-family=\"sans-serif\" font-size=\"11\" font-style=\"italic\" lengthAdjust=\"spacingAndGlyphs\" textLength=\"44\" x=\"242.5\" y=\"366.7573\">:&gt;&gt;P::a</text><line style=\"stroke: #383838; stroke-width: 1.0;\" x1=\"237.5\" x2=\"240.5\" y1=\"337.3398\" y2=\"337.3398\"/><text fill=\"#000000\" font-family=\"sans-serif\" font-size=\"11\" lengthAdjust=\"spacingAndGlyphs\" textLength=\"55\" x=\"240.5\" y=\"340.6479\">attributes</text><line style=\"stroke: #383838; stroke-width: 1.0;\" x1=\"295.5\" x2=\"298.5\" y1=\"337.3398\" y2=\"337.3398\"/></a><!--MD5=[2156ba9850f5573cc1fc38a6a4b2f02b]\n",
       "class E7--><a href=\"psysml:bd66bfa4-4cf8-4e62-98d6-c8549fcb8467\" target=\"_top\" title=\"psysml:bd66bfa4-4cf8-4e62-98d6-c8549fcb8467\" xlink:actuate=\"onRequest\" xlink:href=\"psysml:bd66bfa4-4cf8-4e62-98d6-c8549fcb8467\" xlink:show=\"new\" xlink:title=\"psysml:bd66bfa4-4cf8-4e62-98d6-c8549fcb8467\" xlink:type=\"simple\"><rect fill=\"#FFFFFF\" height=\"45.9375\" id=\"E7\" rx=\"10\" ry=\"10\" style=\"stroke: #383838; stroke-width: 1.5;\" width=\"42\" x=\"131\" y=\"41\"/><text fill=\"#000000\" font-family=\"sans-serif\" font-size=\"12\" font-style=\"italic\" lengthAdjust=\"spacingAndGlyphs\" textLength=\"40\" x=\"132\" y=\"57.1387\">«part»</text><text fill=\"#000000\" font-family=\"sans-serif\" font-size=\"12\" lengthAdjust=\"spacingAndGlyphs\" textLength=\"25\" x=\"139.5\" y=\"71.1074\">q: Q</text><line style=\"stroke: #383838; stroke-width: 1.5;\" x1=\"132\" x2=\"172\" y1=\"78.9375\" y2=\"78.9375\"/></a><!--MD5=[b9389687b975829384b498ac4b7476b2]\n",
       "class E8--><a href=\"psysml:d11ba367-2498-4d3b-bf9a-6df5f0bc7068\" target=\"_top\" title=\"psysml:d11ba367-2498-4d3b-bf9a-6df5f0bc7068\" xlink:actuate=\"onRequest\" xlink:href=\"psysml:d11ba367-2498-4d3b-bf9a-6df5f0bc7068\" xlink:show=\"new\" xlink:title=\"psysml:d11ba367-2498-4d3b-bf9a-6df5f0bc7068\" xlink:type=\"simple\"><rect fill=\"#FFFFFF\" height=\"59.9063\" id=\"E8\" rx=\"10\" ry=\"10\" style=\"stroke: #383838; stroke-width: 1.5;\" width=\"70\" x=\"32\" y=\"148\"/><text fill=\"#000000\" font-family=\"sans-serif\" font-size=\"12\" font-style=\"italic\" lengthAdjust=\"spacingAndGlyphs\" textLength=\"68\" x=\"33\" y=\"164.1387\">«variation»</text><text fill=\"#000000\" font-family=\"sans-serif\" font-size=\"12\" font-style=\"italic\" lengthAdjust=\"spacingAndGlyphs\" textLength=\"40\" x=\"47\" y=\"178.1074\">«part»</text><text fill=\"#000000\" font-family=\"sans-serif\" font-size=\"12\" lengthAdjust=\"spacingAndGlyphs\" textLength=\"22\" x=\"56\" y=\"192.0762\">v: P</text><line style=\"stroke: #383838; stroke-width: 1.5;\" x1=\"33\" x2=\"101\" y1=\"199.9063\" y2=\"199.9063\"/></a><!--MD5=[fd4143e9d270a159db93a4ea2a975926]\n",
       "class E9--><a href=\"psysml:72597939-8390-466d-9479-39928477d122\" target=\"_top\" title=\"psysml:72597939-8390-466d-9479-39928477d122\" xlink:actuate=\"onRequest\" xlink:href=\"psysml:72597939-8390-466d-9479-39928477d122\" xlink:show=\"new\" xlink:title=\"psysml:72597939-8390-466d-9479-39928477d122\" xlink:type=\"simple\"><rect fill=\"#FFFFFF\" height=\"88.3516\" id=\"E9\" rx=\"10\" ry=\"10\" style=\"stroke: #383838; stroke-width: 1.5;\" width=\"63\" x=\"35.5\" y=\"285\"/><text fill=\"#000000\" font-family=\"sans-serif\" font-size=\"12\" font-style=\"italic\" lengthAdjust=\"spacingAndGlyphs\" textLength=\"40\" x=\"47\" y=\"301.1387\">«part»</text><text fill=\"#000000\" font-family=\"sans-serif\" font-size=\"12\" lengthAdjust=\"spacingAndGlyphs\" textLength=\"6\" x=\"64\" y=\"315.1074\">y</text><line style=\"stroke: #383838; stroke-width: 1.5;\" x1=\"36.5\" x2=\"97.5\" y1=\"322.9375\" y2=\"322.9375\"/><text fill=\"#000000\" font-family=\"sans-serif\" font-size=\"11\" lengthAdjust=\"spacingAndGlyphs\" textLength=\"23\" x=\"41.5\" y=\"353.9526\">b: B</text><text fill=\"#000000\" font-family=\"sans-serif\" font-size=\"11\" font-style=\"italic\" lengthAdjust=\"spacingAndGlyphs\" textLength=\"44\" x=\"41.5\" y=\"366.7573\">:&gt;&gt;P::a</text><line style=\"stroke: #383838; stroke-width: 1.0;\" x1=\"36.5\" x2=\"39.5\" y1=\"337.3398\" y2=\"337.3398\"/><text fill=\"#000000\" font-family=\"sans-serif\" font-size=\"11\" lengthAdjust=\"spacingAndGlyphs\" textLength=\"55\" x=\"39.5\" y=\"340.6479\">attributes</text><line style=\"stroke: #383838; stroke-width: 1.0;\" x1=\"94.5\" x2=\"97.5\" y1=\"337.3398\" y2=\"337.3398\"/></a><!--MD5=[05d275557350bfb9b23a4ef7222b4c39]\n",
       "link E3 to E2--><a href=\"psysml:0057605f-0b36-40b5-a833-d8040f0d9e74\" target=\"_top\" title=\"psysml:0057605f-0b36-40b5-a833-d8040f0d9e74\" xlink:actuate=\"onRequest\" xlink:href=\"psysml:0057605f-0b36-40b5-a833-d8040f0d9e74\" xlink:show=\"new\" xlink:title=\"psysml:0057605f-0b36-40b5-a833-d8040f0d9e74\" xlink:type=\"simple\"><path d=\"M169.7,201.31 C169.46,219.58 169.1,246.27 168.77,270.44 \" fill=\"none\" id=\"E3-&gt;E2\" style=\"stroke: #383838; stroke-width: 1.0;\"/><polygon fill=\"none\" points=\"175.77,270.86,168.5,290.77,161.77,270.68,175.77,270.86\" style=\"stroke: #383838; stroke-width: 1.0;\"/></a><!--MD5=[15ebcb19ae302d9b601edb458606d402]\n",
       "link E5 to E2--><a href=\"psysml:922ee1f9-edf0-4204-bf0f-0435eb6f66de\" target=\"_top\" title=\"psysml:922ee1f9-edf0-4204-bf0f-0435eb6f66de\" xlink:actuate=\"onRequest\" xlink:href=\"psysml:922ee1f9-edf0-4204-bf0f-0435eb6f66de\" xlink:show=\"new\" xlink:title=\"psysml:922ee1f9-edf0-4204-bf0f-0435eb6f66de\" xlink:type=\"simple\"><path d=\"M255.58,201.31 C242.31,220.5 222.62,248.99 205.27,274.09 \" fill=\"none\" id=\"E5-&gt;E2\" style=\"stroke: #383838; stroke-width: 1.0;\"/><polygon fill=\"none\" points=\"210.87,278.3,193.74,290.77,199.35,270.34,210.87,278.3\" style=\"stroke: #383838; stroke-width: 1.0;\"/></a><!--MD5=[9120cf2e5df3bff93db8f754bbbc09b4]\n",
       "link E5 to E6--><a href=\"psysml:1c0ef759-8c31-4a4a-b0e7-e872c2806a04\" target=\"_top\" title=\"psysml:1c0ef759-8c31-4a4a-b0e7-e872c2806a04\" xlink:actuate=\"onRequest\" xlink:href=\"psysml:1c0ef759-8c31-4a4a-b0e7-e872c2806a04\" xlink:show=\"new\" xlink:title=\"psysml:1c0ef759-8c31-4a4a-b0e7-e872c2806a04\" xlink:type=\"simple\"><path d=\"M270.34,211.55 C269.97,230.03 269.5,253.61 269.07,274.71 \" fill=\"none\" id=\"E5-E6\" style=\"stroke: #383838; stroke-width: 1.0;\"/><polygon fill=\"#383838\" points=\"268.87,284.84,272.0294,276.9016,266.0306,276.7816,268.87,284.84\" style=\"stroke: #383838; stroke-width: 1.0;\"/><path d=\"M262.0288,204.2063 A9,9 0 0 0 278.9393 204.5687\" fill=\"none\" style=\"stroke: #383838; stroke-width: 1.5;\"/><text fill=\"#000000\" font-family=\"sans-serif\" font-size=\"13\" lengthAdjust=\"spacingAndGlyphs\" textLength=\"60\" x=\"270\" y=\"251.0669\">«variant»</text></a><!--MD5=[14ccda38c055a5c0da953d572bc50960]\n",
       "link E7 to E3--><a href=\"psysml:6aa04dcc-8d2e-4853-a2ca-5b94913b0044\" target=\"_top\" title=\"psysml:6aa04dcc-8d2e-4853-a2ca-5b94913b0044\" xlink:actuate=\"onRequest\" xlink:href=\"psysml:6aa04dcc-8d2e-4853-a2ca-5b94913b0044\" xlink:show=\"new\" xlink:title=\"psysml:6aa04dcc-8d2e-4853-a2ca-5b94913b0044\" xlink:type=\"simple\"><path d=\"M155.56,87.13 C157.75,100.78 160.64,118.74 163.25,135 \" fill=\"none\" id=\"E7-&gt;E3\" style=\"stroke: #383838; stroke-width: 1.0;\"/><polygon fill=\"#FFFFFF\" points=\"166.45,154.92,156.5251,137.2707,170.3479,135.0503,166.45,154.92\" style=\"stroke: #383838; stroke-width: 1.0;\"/><ellipse cx=\"157.5958\" cy=\"131.3257\" fill=\"#383838\" rx=\"2\" ry=\"2\" style=\"stroke: #383838; stroke-width: 1.0;\"/><ellipse cx=\"167.4692\" cy=\"129.7396\" fill=\"#383838\" rx=\"2\" ry=\"2\" style=\"stroke: #383838; stroke-width: 1.0;\"/></a><!--MD5=[f1f3f9f2fc535e6147756cb86a7f2e32]\n",
       "link E8 to E2--><a href=\"psysml:62998d3a-e41b-4231-af2c-a0f2b465e4e7\" target=\"_top\" title=\"psysml:62998d3a-e41b-4231-af2c-a0f2b465e4e7\" xlink:actuate=\"onRequest\" xlink:href=\"psysml:62998d3a-e41b-4231-af2c-a0f2b465e4e7\" xlink:show=\"new\" xlink:title=\"psysml:62998d3a-e41b-4231-af2c-a0f2b465e4e7\" xlink:type=\"simple\"><path d=\"M102.2,202.57 C114.6,212.31 127.74,224.5 137,238 C143.95,248.13 149.47,259.96 153.82,271.65 \" fill=\"none\" id=\"E8-&gt;E2\" style=\"stroke: #383838; stroke-width: 1.0;\"/><polygon fill=\"#FFFFFF\" points=\"160.05,290.88,147.5299,274.9663,160.847,270.6472,160.05,290.88\" style=\"stroke: #383838; stroke-width: 1.0;\"/><ellipse cx=\"147.6738\" cy=\"268.9273\" fill=\"#383838\" rx=\"2\" ry=\"2\" style=\"stroke: #383838; stroke-width: 1.0;\"/><ellipse cx=\"157.186\" cy=\"265.8423\" fill=\"#383838\" rx=\"2\" ry=\"2\" style=\"stroke: #383838; stroke-width: 1.0;\"/></a><!--MD5=[ed10624c06dd9a4fa49ccf290e8b16a8]\n",
       "link E8 to E9--><a href=\"psysml:196bced0-9581-41ba-9556-fc72f0b07990\" target=\"_top\" title=\"psysml:196bced0-9581-41ba-9556-fc72f0b07990\" xlink:actuate=\"onRequest\" xlink:href=\"psysml:196bced0-9581-41ba-9556-fc72f0b07990\" xlink:show=\"new\" xlink:title=\"psysml:196bced0-9581-41ba-9556-fc72f0b07990\" xlink:type=\"simple\"><path d=\"M67,218.32 C67,235.6 67,256.15 67,274.77 \" fill=\"none\" id=\"E8-E9\" style=\"stroke: #383838; stroke-width: 1.0;\"/><polygon fill=\"#383838\" points=\"67,284.88,70,276.88,64,276.88,67,284.88\" style=\"stroke: #383838; stroke-width: 1.0;\"/><path d=\"M58.5428,211.1582 A9,9 0 0 0 75.4572 211.1582\" fill=\"none\" style=\"stroke: #383838; stroke-width: 1.5;\"/><text fill=\"#000000\" font-family=\"sans-serif\" font-size=\"13\" lengthAdjust=\"spacingAndGlyphs\" textLength=\"60\" x=\"68\" y=\"251.0669\">«variant»</text></a><!--MD5=[712623f70ad3e6c92407a6ae434c622f]\n",
       "@startuml\r\n",
       "skinparam monochrome true\r\n",
       "skinparam classbackgroundcolor white\r\n",
       "skinparam shadowing false\r\n",
       "skinparam wrapWidth 300\r\n",
       "hide circle\r\n",
       "\r\n",
       "package \"VariabilityTest\" as E1  [[psysml:fc405a6c-3061-4540-9673-8b8e766ba6ac ]]  {\r\n",
       "comp def \"P\" as E2  <<(T,blue)part def>> [[psysml:dc902210-e855-46b4-a2dd-8255fef19514 ]] {\r\n",
       "- - attributes - -\r\n",
       "a\r\n",
       "}\r\n",
       "comp def \"Q\" as E3  <<(T,blue)part def>> [[psysml:b52c8837-30af-42aa-bc51-100eaed5de80 ]] {\r\n",
       "}\r\n",
       "comp def \"B\" as E4  <<(T,blue)attribute def>> [[psysml:f17815b8-46c4-4dd9-bf70-524ba6c03f24 ]] {\r\n",
       "}\r\n",
       "comp def \"V\" as E5  <<(T,blue)part def>> [[psysml:b1ebe526-c40e-4c8f-ae74-16f7fcd1bdc9 ]] {\r\n",
       "}\r\n",
       "comp usage \"x: Q\" as E6  <<(T,blue)part>> [[psysml:05419eac-6c2b-46e9-bd3b-b31f448a077a ]] {\r\n",
       "- - attributes - -\r\n",
       "b: B\\n//:>>P::a// \r\n",
       "}\r\n",
       "comp usage \"q: Q\" as E7  <<(T,blue)part>> [[psysml:bd66bfa4-4cf8-4e62-98d6-c8549fcb8467 ]] {\r\n",
       "}\r\n",
       "comp usage \"v: P\" as E8  <<variation>>\\n <<(T,blue)part>> [[psysml:d11ba367-2498-4d3b-bf9a-6df5f0bc7068 ]] {\r\n",
       "}\r\n",
       "comp usage \"y\" as E9  <<(T,blue)part>> [[psysml:72597939-8390-466d-9479-39928477d122 ]] {\r\n",
       "- - attributes - -\r\n",
       "b: B\\n//:>>P::a// \r\n",
       "}\r\n",
       "E3 - -|> E2 [[psysml:0057605f-0b36-40b5-a833-d8040f0d9e74 ]] \r\n",
       "E5 - -|> E2 [[psysml:922ee1f9-edf0-4204-bf0f-0435eb6f66de ]] \r\n",
       "E5 )- ->> E6 [[psysml:1c0ef759-8c31-4a4a-b0e7-e872c2806a04 ]] : <<variant>>\r\n",
       "E7 - -:|> E3 [[psysml:6aa04dcc-8d2e-4853-a2ca-5b94913b0044 ]] \r\n",
       "E8 - -:|> E2 [[psysml:62998d3a-e41b-4231-af2c-a0f2b465e4e7 ]] \r\n",
       "E8 )- ->> E9 [[psysml:196bced0-9581-41ba-9556-fc72f0b07990 ]] : <<variant>>\r\n",
       "}\r\n",
       "@enduml\r\n",
       "\n",
       "PlantUML version 1.2020.13(Sat Jun 13 12:26:38 UTC 2020)\n",
       "(EPL source distribution)\n",
       "Java Runtime: OpenJDK Runtime Environment\n",
       "JVM: OpenJDK 64-Bit Server VM\n",
       "Default Encoding: UTF-8\n",
       "Language: en\n",
       "Country: null\n",
       "--></g></svg>"
      ]
     },
     "execution_count": 38,
     "metadata": {},
     "output_type": "execute_result"
    }
   ],
   "source": [
    "%viz --style=\"DEFAULT\" --view=\"Tree\" \"VariabilityTest\""
   ]
  },
  {
   "cell_type": "code",
   "execution_count": 39,
   "id": "prepared-retreat",
   "metadata": {
    "execution": {
     "iopub.execute_input": "2021-03-25T15:07:46.914880Z",
     "iopub.status.busy": "2021-03-25T15:07:46.913728Z",
     "iopub.status.idle": "2021-03-25T15:07:46.921568Z",
     "shell.execute_reply": "2021-03-25T15:07:46.921241Z"
    }
   },
   "outputs": [
    {
     "data": {
      "image/svg+xml": [
       "<?xml version=\"1.0\" encoding=\"UTF-8\" standalone=\"no\"?><svg xmlns=\"http://www.w3.org/2000/svg\" xmlns:xlink=\"http://www.w3.org/1999/xlink\" contentScriptType=\"application/ecmascript\" contentStyleType=\"text/css\" height=\"12px\" preserveAspectRatio=\"none\" style=\"width:12px;height:12px;\" version=\"1.1\" viewBox=\"0 0 12 12\" width=\"12px\" zoomAndPan=\"magnify\"><defs/><g><!--MD5=[c5f280e076d0d61ccf4b0f27871bda1d]\n",
       "@startuml\r\n",
       "skinparam monochrome true\r\n",
       "skinparam classbackgroundcolor white\r\n",
       "skinparam shadowing false\r\n",
       "skinparam wrapWidth 300\r\n",
       "hide circle\r\n",
       "\r\n",
       "@enduml\r\n",
       "\n",
       "PlantUML version 1.2020.13(Sat Jun 13 12:26:38 UTC 2020)\n",
       "(EPL source distribution)\n",
       "Java Runtime: OpenJDK Runtime Environment\n",
       "JVM: OpenJDK 64-Bit Server VM\n",
       "Default Encoding: UTF-8\n",
       "Language: en\n",
       "Country: null\n",
       "--></g></svg>"
      ]
     },
     "execution_count": 39,
     "metadata": {},
     "output_type": "execute_result"
    }
   ],
   "source": [
    "%viz --style=\"DEFAULT\" --view=\"State\" \"VariabilityTest\""
   ]
  },
  {
   "cell_type": "code",
   "execution_count": 40,
   "id": "comprehensive-cabinet",
   "metadata": {
    "execution": {
     "iopub.execute_input": "2021-03-25T15:07:46.974302Z",
     "iopub.status.busy": "2021-03-25T15:07:46.973541Z",
     "iopub.status.idle": "2021-03-25T15:07:47.140421Z",
     "shell.execute_reply": "2021-03-25T15:07:47.140089Z"
    }
   },
   "outputs": [
    {
     "data": {
      "image/svg+xml": [
       "<?xml version=\"1.0\" encoding=\"UTF-8\" standalone=\"no\"?><svg xmlns=\"http://www.w3.org/2000/svg\" xmlns:xlink=\"http://www.w3.org/1999/xlink\" contentScriptType=\"application/ecmascript\" contentStyleType=\"text/css\" height=\"474px\" preserveAspectRatio=\"none\" style=\"width:805px;height:474px;\" version=\"1.1\" viewBox=\"0 0 805 474\" width=\"805px\" zoomAndPan=\"magnify\"><defs/><g><!--MD5=[fbc87193dbaf4d95561dea2c320d4a47]\n",
       "cluster E1--><a href=\"psysml:fc405a6c-3061-4540-9673-8b8e766ba6ac\" target=\"_top\" title=\"psysml:fc405a6c-3061-4540-9673-8b8e766ba6ac\" xlink:actuate=\"onRequest\" xlink:href=\"psysml:fc405a6c-3061-4540-9673-8b8e766ba6ac\" xlink:show=\"new\" xlink:title=\"psysml:fc405a6c-3061-4540-9673-8b8e766ba6ac\" xlink:type=\"simple\"><polygon fill=\"#FFFFFF\" points=\"16,6,134,6,141,28.2969,783,28.2969,783,462,16,462,16,6\" style=\"stroke: #000000; stroke-width: 1.5;\"/><line style=\"stroke: #000000; stroke-width: 1.5;\" x1=\"16\" x2=\"141\" y1=\"28.2969\" y2=\"28.2969\"/><text fill=\"#000000\" font-family=\"sans-serif\" font-size=\"14\" font-weight=\"bold\" lengthAdjust=\"spacingAndGlyphs\" textLength=\"112\" x=\"20\" y=\"20.9951\">VariabilityTest</text></a><!--MD5=[e4f7fae6ed58524ba242bb0b0d3be6b7]\n",
       "cluster E2--><a href=\"psysml:dc902210-e855-46b4-a2dd-8255fef19514\" target=\"_top\" title=\"psysml:dc902210-e855-46b4-a2dd-8255fef19514\" xlink:actuate=\"onRequest\" xlink:href=\"psysml:dc902210-e855-46b4-a2dd-8255fef19514\" xlink:show=\"new\" xlink:title=\"psysml:dc902210-e855-46b4-a2dd-8255fef19514\" xlink:type=\"simple\"><rect fill=\"#FFFFFF\" height=\"126\" id=\"E2\" style=\"stroke: #383838; stroke-width: 1.5;\" width=\"143\" x=\"358\" y=\"304\"/><rect fill=\"#F8F8F8\" height=\"37.9375\" style=\"stroke: #383838; stroke-width: 1.5;\" width=\"143\" x=\"358\" y=\"304\"/><text fill=\"#000000\" font-family=\"sans-serif\" font-size=\"12\" font-style=\"italic\" lengthAdjust=\"spacingAndGlyphs\" textLength=\"64\" x=\"397.5\" y=\"320.1387\">«part def»</text><text fill=\"#000000\" font-family=\"sans-serif\" font-size=\"12\" lengthAdjust=\"spacingAndGlyphs\" textLength=\"8\" x=\"425.5\" y=\"334.1074\">P</text></a><!--MD5=[14e3b0961a2654348d326746436168a1]\n",
       "cluster E6--><a href=\"psysml:b1ebe526-c40e-4c8f-ae74-16f7fcd1bdc9\" target=\"_top\" title=\"psysml:b1ebe526-c40e-4c8f-ae74-16f7fcd1bdc9\" xlink:actuate=\"onRequest\" xlink:href=\"psysml:b1ebe526-c40e-4c8f-ae74-16f7fcd1bdc9\" xlink:show=\"new\" xlink:title=\"psysml:b1ebe526-c40e-4c8f-ae74-16f7fcd1bdc9\" xlink:type=\"simple\"><rect fill=\"#FFFFFF\" height=\"207\" id=\"E6\" style=\"stroke: #383838; stroke-width: 1.5;\" width=\"180\" x=\"571\" y=\"57\"/><rect fill=\"#F8F8F8\" height=\"37.9375\" style=\"stroke: #383838; stroke-width: 1.5;\" width=\"180\" x=\"571\" y=\"57\"/><text fill=\"#000000\" font-family=\"sans-serif\" font-size=\"12\" font-style=\"italic\" lengthAdjust=\"spacingAndGlyphs\" textLength=\"64\" x=\"629\" y=\"73.1387\">«part def»</text><text fill=\"#000000\" font-family=\"sans-serif\" font-size=\"12\" lengthAdjust=\"spacingAndGlyphs\" textLength=\"8\" x=\"657\" y=\"87.1074\">V</text></a><!--MD5=[168fadf3d0c3fd93dd5d6da1b1d7ab76]\n",
       "cluster E7--><a href=\"psysml:05419eac-6c2b-46e9-bd3b-b31f448a077a\" target=\"_top\" title=\"psysml:05419eac-6c2b-46e9-bd3b-b31f448a077a\" xlink:actuate=\"onRequest\" xlink:href=\"psysml:05419eac-6c2b-46e9-bd3b-b31f448a077a\" xlink:show=\"new\" xlink:title=\"psysml:05419eac-6c2b-46e9-bd3b-b31f448a077a\" xlink:type=\"simple\"><rect fill=\"#FFFFFF\" height=\"108\" id=\"E7\" rx=\"10\" ry=\"10\" style=\"stroke: #383838; stroke-width: 1.5;\" width=\"108\" x=\"611\" y=\"124\"/><rect fill=\"#F8F8F8\" height=\"23.9688\" rx=\"10\" ry=\"10\" style=\"stroke: #F8F8F8; stroke-width: 1.5;\" width=\"108\" x=\"611\" y=\"124\"/><rect fill=\"#F8F8F8\" height=\"10\" style=\"stroke: #F8F8F8; stroke-width: 1.5;\" width=\"108\" x=\"611\" y=\"137.9688\"/><rect fill=\"none\" height=\"108\" id=\"E7\" rx=\"10\" ry=\"10\" style=\"stroke: #383838; stroke-width: 1.5;\" width=\"108\" x=\"611\" y=\"124\"/><text fill=\"#000000\" font-family=\"sans-serif\" font-size=\"12\" lengthAdjust=\"spacingAndGlyphs\" textLength=\"23\" x=\"653.5\" y=\"140.1387\">x: Q</text><line style=\"stroke: #383838; stroke-width: 1.0;\" x1=\"611\" x2=\"719\" y1=\"147.9688\" y2=\"147.9688\"/></a><!--MD5=[a84b4591f868c1fa4a211716a82f2f0d]\n",
       "cluster E10--><a href=\"psysml:d11ba367-2498-4d3b-bf9a-6df5f0bc7068\" target=\"_top\" title=\"psysml:d11ba367-2498-4d3b-bf9a-6df5f0bc7068\" xlink:actuate=\"onRequest\" xlink:href=\"psysml:d11ba367-2498-4d3b-bf9a-6df5f0bc7068\" xlink:show=\"new\" xlink:title=\"psysml:d11ba367-2498-4d3b-bf9a-6df5f0bc7068\" xlink:type=\"simple\"><rect fill=\"#FFFFFF\" height=\"191\" id=\"E10\" rx=\"10\" ry=\"10\" style=\"stroke: #383838; stroke-width: 1.5;\" width=\"156\" x=\"383\" y=\"65\"/><rect fill=\"#F8F8F8\" height=\"37.9375\" rx=\"10\" ry=\"10\" style=\"stroke: #F8F8F8; stroke-width: 1.5;\" width=\"156\" x=\"383\" y=\"65\"/><rect fill=\"#F8F8F8\" height=\"10\" style=\"stroke: #F8F8F8; stroke-width: 1.5;\" width=\"156\" x=\"383\" y=\"92.9375\"/><rect fill=\"none\" height=\"191\" id=\"E10\" rx=\"10\" ry=\"10\" style=\"stroke: #383838; stroke-width: 1.5;\" width=\"156\" x=\"383\" y=\"65\"/><text fill=\"#000000\" font-family=\"sans-serif\" font-size=\"12\" font-style=\"italic\" lengthAdjust=\"spacingAndGlyphs\" textLength=\"68\" x=\"427\" y=\"81.1387\">«variation»</text><text fill=\"#000000\" font-family=\"sans-serif\" font-size=\"12\" lengthAdjust=\"spacingAndGlyphs\" textLength=\"22\" x=\"450\" y=\"95.1074\">v: P</text><line style=\"stroke: #383838; stroke-width: 1.0;\" x1=\"383\" x2=\"539\" y1=\"102.9375\" y2=\"102.9375\"/></a><!--MD5=[917b9dd0c7eca3ee5f47219d1a84c0ad]\n",
       "cluster E11--><a href=\"psysml:72597939-8390-466d-9479-39928477d122\" target=\"_top\" title=\"psysml:72597939-8390-466d-9479-39928477d122\" xlink:actuate=\"onRequest\" xlink:href=\"psysml:72597939-8390-466d-9479-39928477d122\" xlink:show=\"new\" xlink:title=\"psysml:72597939-8390-466d-9479-39928477d122\" xlink:type=\"simple\"><rect fill=\"#FFFFFF\" height=\"108\" id=\"E11\" rx=\"10\" ry=\"10\" style=\"stroke: #383838; stroke-width: 1.5;\" width=\"108\" x=\"407\" y=\"124\"/><rect fill=\"#F8F8F8\" height=\"23.9688\" rx=\"10\" ry=\"10\" style=\"stroke: #F8F8F8; stroke-width: 1.5;\" width=\"108\" x=\"407\" y=\"124\"/><rect fill=\"#F8F8F8\" height=\"10\" style=\"stroke: #F8F8F8; stroke-width: 1.5;\" width=\"108\" x=\"407\" y=\"137.9688\"/><rect fill=\"none\" height=\"108\" id=\"E11\" rx=\"10\" ry=\"10\" style=\"stroke: #383838; stroke-width: 1.5;\" width=\"108\" x=\"407\" y=\"124\"/><text fill=\"#000000\" font-family=\"sans-serif\" font-size=\"12\" lengthAdjust=\"spacingAndGlyphs\" textLength=\"6\" x=\"458\" y=\"140.1387\">y</text><line style=\"stroke: #383838; stroke-width: 1.0;\" x1=\"407\" x2=\"515\" y1=\"147.9688\" y2=\"147.9688\"/></a><!--MD5=[270fce915f116d4de14055a7c1d9a0f3]\n",
       "class E5--><a href=\"psysml:f17815b8-46c4-4dd9-bf70-524ba6c03f24\" target=\"_top\" title=\"psysml:f17815b8-46c4-4dd9-bf70-524ba6c03f24\" xlink:actuate=\"onRequest\" xlink:href=\"psysml:f17815b8-46c4-4dd9-bf70-524ba6c03f24\" xlink:show=\"new\" xlink:title=\"psysml:f17815b8-46c4-4dd9-bf70-524ba6c03f24\" xlink:type=\"simple\"><rect fill=\"#FFFFFF\" height=\"53.9375\" id=\"E5\" style=\"stroke: #383838; stroke-width: 1.5;\" width=\"143\" x=\"223.5\" y=\"160.5\"/><text fill=\"#000000\" font-family=\"sans-serif\" font-size=\"12\" font-style=\"italic\" lengthAdjust=\"spacingAndGlyphs\" textLength=\"141\" x=\"224.5\" y=\"176.6387\">«(T,blue)attribute def»</text><text fill=\"#000000\" font-family=\"sans-serif\" font-size=\"12\" lengthAdjust=\"spacingAndGlyphs\" textLength=\"8\" x=\"291\" y=\"190.6074\">B</text><line style=\"stroke: #383838; stroke-width: 1.5;\" x1=\"224.5\" x2=\"365.5\" y1=\"198.4375\" y2=\"198.4375\"/><line style=\"stroke: #383838; stroke-width: 1.5;\" x1=\"224.5\" x2=\"365.5\" y1=\"206.4375\" y2=\"206.4375\"/></a><g id=\"E1.E2.E3\"><a href=\"psysml:6681b89b-422d-48d0-bc41-7a96ec587b7c\" target=\"_top\" title=\"psysml:6681b89b-422d-48d0-bc41-7a96ec587b7c\" xlink:actuate=\"onRequest\" xlink:href=\"psysml:6681b89b-422d-48d0-bc41-7a96ec587b7c\" xlink:show=\"new\" xlink:title=\"psysml:6681b89b-422d-48d0-bc41-7a96ec587b7c\" xlink:type=\"simple\"><rect fill=\"#FFFFFF\" height=\"42.9375\" id=\"E3\" rx=\"10\" ry=\"10\" style=\"stroke: #383838; stroke-width: 1.5;\" width=\"76\" x=\"401\" y=\"363\"/><rect fill=\"#F8F8F8\" height=\"37.9375\" rx=\"10\" ry=\"10\" style=\"stroke: #F8F8F8; stroke-width: 1.5;\" width=\"76\" x=\"401\" y=\"363\"/><rect fill=\"#F8F8F8\" height=\"10\" style=\"stroke: #F8F8F8; stroke-width: 1.5;\" width=\"76\" x=\"401\" y=\"390.9375\"/><rect fill=\"none\" height=\"42.9375\" id=\"E3\" rx=\"10\" ry=\"10\" style=\"stroke: #383838; stroke-width: 1.5;\" width=\"76\" x=\"401\" y=\"363\"/><text fill=\"#000000\" font-family=\"sans-serif\" font-size=\"12\" font-style=\"italic\" lengthAdjust=\"spacingAndGlyphs\" textLength=\"69\" x=\"404.5\" y=\"379.1387\">«attribute»</text><text fill=\"#000000\" font-family=\"sans-serif\" font-size=\"12\" lengthAdjust=\"spacingAndGlyphs\" textLength=\"8\" x=\"435\" y=\"393.1074\">a</text></a></g><g id=\"E1.E4\"><a href=\"psysml:b52c8837-30af-42aa-bc51-100eaed5de80\" target=\"_top\" title=\"psysml:b52c8837-30af-42aa-bc51-100eaed5de80\" xlink:actuate=\"onRequest\" xlink:href=\"psysml:b52c8837-30af-42aa-bc51-100eaed5de80\" xlink:show=\"new\" xlink:title=\"psysml:b52c8837-30af-42aa-bc51-100eaed5de80\" xlink:type=\"simple\"><rect fill=\"#FFFFFF\" height=\"42.9375\" id=\"E4\" style=\"stroke: #383838; stroke-width: 1.5;\" width=\"71\" x=\"117.5\" y=\"166\"/><rect fill=\"#F8F8F8\" height=\"37.9375\" style=\"stroke: #383838; stroke-width: 1.5;\" width=\"71\" x=\"117.5\" y=\"166\"/><text fill=\"#000000\" font-family=\"sans-serif\" font-size=\"12\" font-style=\"italic\" lengthAdjust=\"spacingAndGlyphs\" textLength=\"64\" x=\"121\" y=\"182.1387\">«part def»</text><text fill=\"#000000\" font-family=\"sans-serif\" font-size=\"12\" lengthAdjust=\"spacingAndGlyphs\" textLength=\"9\" x=\"148.5\" y=\"196.1074\">Q</text></a></g><g id=\"E1.E6.E7.E8\"><a href=\"psysml:ea3366e9-5974-4411-9b27-ac275f4425c1\" target=\"_top\" title=\"psysml:ea3366e9-5974-4411-9b27-ac275f4425c1\" xlink:actuate=\"onRequest\" xlink:href=\"psysml:ea3366e9-5974-4411-9b27-ac275f4425c1\" xlink:show=\"new\" xlink:title=\"psysml:ea3366e9-5974-4411-9b27-ac275f4425c1\" xlink:type=\"simple\"><rect fill=\"#FFFFFF\" height=\"56.9063\" id=\"E8\" rx=\"10\" ry=\"10\" style=\"stroke: #383838; stroke-width: 1.5;\" width=\"76\" x=\"627\" y=\"159\"/><rect fill=\"#F8F8F8\" height=\"51.9063\" rx=\"10\" ry=\"10\" style=\"stroke: #F8F8F8; stroke-width: 1.5;\" width=\"76\" x=\"627\" y=\"159\"/><rect fill=\"#F8F8F8\" height=\"10\" style=\"stroke: #F8F8F8; stroke-width: 1.5;\" width=\"76\" x=\"627\" y=\"200.9063\"/><rect fill=\"none\" height=\"56.9063\" id=\"E8\" rx=\"10\" ry=\"10\" style=\"stroke: #383838; stroke-width: 1.5;\" width=\"76\" x=\"627\" y=\"159\"/><text fill=\"#000000\" font-family=\"sans-serif\" font-size=\"12\" font-style=\"italic\" lengthAdjust=\"spacingAndGlyphs\" textLength=\"69\" x=\"630.5\" y=\"175.1387\">«attribute»</text><text fill=\"#000000\" font-family=\"sans-serif\" font-size=\"12\" lengthAdjust=\"spacingAndGlyphs\" textLength=\"24\" x=\"653\" y=\"189.1074\">b: B</text><text fill=\"#000000\" font-family=\"sans-serif\" font-size=\"12\" font-style=\"italic\" lengthAdjust=\"spacingAndGlyphs\" textLength=\"48\" x=\"639\" y=\"203.0762\">:&gt;&gt;P::a</text><text fill=\"#000000\" font-family=\"sans-serif\" font-size=\"12\" lengthAdjust=\"spacingAndGlyphs\" textLength=\"0\" x=\"691\" y=\"203.0762\"/></a></g><g id=\"E1.E9\"><a href=\"psysml:bd66bfa4-4cf8-4e62-98d6-c8549fcb8467\" target=\"_top\" title=\"psysml:bd66bfa4-4cf8-4e62-98d6-c8549fcb8467\" xlink:actuate=\"onRequest\" xlink:href=\"psysml:bd66bfa4-4cf8-4e62-98d6-c8549fcb8467\" xlink:show=\"new\" xlink:title=\"psysml:bd66bfa4-4cf8-4e62-98d6-c8549fcb8467\" xlink:type=\"simple\"><rect fill=\"#FFFFFF\" height=\"40\" id=\"E9\" rx=\"10\" ry=\"10\" style=\"stroke: #383838; stroke-width: 1.5;\" width=\"50\" x=\"32\" y=\"167.5\"/><rect fill=\"#F8F8F8\" height=\"23.9688\" rx=\"10\" ry=\"10\" style=\"stroke: #F8F8F8; stroke-width: 1.5;\" width=\"50\" x=\"32\" y=\"167.5\"/><rect fill=\"#F8F8F8\" height=\"10\" style=\"stroke: #F8F8F8; stroke-width: 1.5;\" width=\"50\" x=\"32\" y=\"181.4688\"/><rect fill=\"none\" height=\"40\" id=\"E9\" rx=\"10\" ry=\"10\" style=\"stroke: #383838; stroke-width: 1.5;\" width=\"50\" x=\"32\" y=\"167.5\"/><text fill=\"#000000\" font-family=\"sans-serif\" font-size=\"12\" lengthAdjust=\"spacingAndGlyphs\" textLength=\"25\" x=\"44.5\" y=\"183.6387\">q: Q</text></a></g><g id=\"E1.E10.E11.E12\"><a href=\"psysml:bdc7bdc2-851d-4524-9d87-06992ba679d3\" target=\"_top\" title=\"psysml:bdc7bdc2-851d-4524-9d87-06992ba679d3\" xlink:actuate=\"onRequest\" xlink:href=\"psysml:bdc7bdc2-851d-4524-9d87-06992ba679d3\" xlink:show=\"new\" xlink:title=\"psysml:bdc7bdc2-851d-4524-9d87-06992ba679d3\" xlink:type=\"simple\"><rect fill=\"#FFFFFF\" height=\"56.9063\" id=\"E12\" rx=\"10\" ry=\"10\" style=\"stroke: #383838; stroke-width: 1.5;\" width=\"76\" x=\"423\" y=\"159\"/><rect fill=\"#F8F8F8\" height=\"51.9063\" rx=\"10\" ry=\"10\" style=\"stroke: #F8F8F8; stroke-width: 1.5;\" width=\"76\" x=\"423\" y=\"159\"/><rect fill=\"#F8F8F8\" height=\"10\" style=\"stroke: #F8F8F8; stroke-width: 1.5;\" width=\"76\" x=\"423\" y=\"200.9063\"/><rect fill=\"none\" height=\"56.9063\" id=\"E12\" rx=\"10\" ry=\"10\" style=\"stroke: #383838; stroke-width: 1.5;\" width=\"76\" x=\"423\" y=\"159\"/><text fill=\"#000000\" font-family=\"sans-serif\" font-size=\"12\" font-style=\"italic\" lengthAdjust=\"spacingAndGlyphs\" textLength=\"69\" x=\"426.5\" y=\"175.1387\">«attribute»</text><text fill=\"#000000\" font-family=\"sans-serif\" font-size=\"12\" lengthAdjust=\"spacingAndGlyphs\" textLength=\"24\" x=\"449\" y=\"189.1074\">b: B</text><text fill=\"#000000\" font-family=\"sans-serif\" font-size=\"12\" font-style=\"italic\" lengthAdjust=\"spacingAndGlyphs\" textLength=\"48\" x=\"435\" y=\"203.0762\">:&gt;&gt;P::a</text><text fill=\"#000000\" font-family=\"sans-serif\" font-size=\"12\" lengthAdjust=\"spacingAndGlyphs\" textLength=\"0\" x=\"487\" y=\"203.0762\"/></a></g><!--MD5=[185131fc0dcab0a4505a2ebe144e961b]\n",
       "link E4 to E2--><a href=\"psysml:0057605f-0b36-40b5-a833-d8040f0d9e74\" target=\"_top\" title=\"psysml:0057605f-0b36-40b5-a833-d8040f0d9e74\" xlink:actuate=\"onRequest\" xlink:href=\"psysml:0057605f-0b36-40b5-a833-d8040f0d9e74\" xlink:show=\"new\" xlink:title=\"psysml:0057605f-0b36-40b5-a833-d8040f0d9e74\" xlink:type=\"simple\"><path d=\"M161.56,209.22 C170.5,229.06 186,258.99 206,280 C234.74,310.19 273.95,335.735 306.3613,353.8938 C322.5669,362.9731 337.0728,370.2059 347.7205,375.2495 C350.3824,376.5104 352.8032,377.6345 354.9491,378.6164 C356.022,379.1073 357.0262,379.5627 357.9575,379.9819 \" fill=\"none\" id=\"E4-&gt;E2\" style=\"stroke: #383838; stroke-width: 1.0;\"/><polygon fill=\"#FFFFFF\" points=\"357.9575,379.9819,343.5049,365.8002,337.7586,378.5666,357.9575,379.9819\" style=\"stroke: #383838; stroke-width: 1.0;\"/></a><!--MD5=[2351f337d6de0f557b50152ba70847b5]\n",
       "link E6 to E2--><a href=\"psysml:922ee1f9-edf0-4204-bf0f-0435eb6f66de\" target=\"_top\" title=\"psysml:922ee1f9-edf0-4204-bf0f-0435eb6f66de\" xlink:actuate=\"onRequest\" xlink:href=\"psysml:922ee1f9-edf0-4204-bf0f-0435eb6f66de\" xlink:show=\"new\" xlink:title=\"psysml:922ee1f9-edf0-4204-bf0f-0435eb6f66de\" xlink:type=\"simple\"><path d=\"M570.9572,209.2785 C570.8993,209.4093 570.8411,209.5404 570.7825,209.672 C570.6654,209.9352 570.5471,210.1999 570.4275,210.4663 C570.1882,210.9989 569.9439,211.5379 569.6945,212.0827 C567.6995,216.4413 565.38,221.1759 562.7325,226.0812 C552.1425,245.7025 536.305,268.055 515,280 C489.75,294.15 406.8,268.96 385,288 C380.99,291.5025 377.6792,295.5889 374.9563,300.0625 C374.2756,301.1809 373.6316,302.3235 373.0226,303.4872 C372.9464,303.6327 372.8709,303.7785 372.7958,303.9246 \" fill=\"none\" id=\"E6-&gt;E2\" style=\"stroke: #383838; stroke-width: 1.0;\"/><polygon fill=\"#FFFFFF\" points=\"372.7958,303.9246,387.702,290.2204,375.2481,283.8252,372.7958,303.9246\" style=\"stroke: #383838; stroke-width: 1.0;\"/></a><!--MD5=[e5d81f6c4342867c185e62347f9ee459]\n",
       "@startuml\r\n",
       "skinparam ranksep 8\r\n",
       "skinparam rectangle {\r\n",
       " backgroundColor<<block>> LightGreen\r\n",
       "}\r\n",
       "skinparam monochrome true\r\n",
       "skinparam classbackgroundcolor white\r\n",
       "skinparam shadowing false\r\n",
       "skinparam wrapWidth 300\r\n",
       "hide circle\r\n",
       "\r\n",
       "package \"VariabilityTest\" as E1  [[psysml:fc405a6c-3061-4540-9673-8b8e766ba6ac ]]  {\r\n",
       "rec def \"P\" as E2  <<(T,blue)part def>> [[psysml:dc902210-e855-46b4-a2dd-8255fef19514 ]] {\r\n",
       "rec usage \"a\" as E3  <<(T,blue)attribute>> [[psysml:6681b89b-422d-48d0-bc41-7a96ec587b7c ]] {\r\n",
       "}\r\n",
       "}\r\n",
       "rec def \"Q\" as E4  <<(T,blue)part def>> [[psysml:b52c8837-30af-42aa-bc51-100eaed5de80 ]] {\r\n",
       "}\r\n",
       "def \"B\" as E5  <<(T,blue)attribute def>> [[psysml:f17815b8-46c4-4dd9-bf70-524ba6c03f24 ]] \r\n",
       "rec def \"V\" as E6  <<(T,blue)part def>> [[psysml:b1ebe526-c40e-4c8f-ae74-16f7fcd1bdc9 ]] {\r\n",
       "rec usage \"x: Q\" as E7  [[psysml:05419eac-6c2b-46e9-bd3b-b31f448a077a ]] {\r\n",
       "rec usage \"b: B\\n//:>>P::a// \" as E8  <<(T,blue)attribute>> [[psysml:ea3366e9-5974-4411-9b27-ac275f4425c1 ]] {\r\n",
       "}\r\n",
       "}\r\n",
       "}\r\n",
       "rec usage \"q: Q\" as E9  [[psysml:bd66bfa4-4cf8-4e62-98d6-c8549fcb8467 ]] {\r\n",
       "}\r\n",
       "rec usage \"v: P\" as E10  <<variation>> [[psysml:d11ba367-2498-4d3b-bf9a-6df5f0bc7068 ]] {\r\n",
       "rec usage \"y\" as E11  [[psysml:72597939-8390-466d-9479-39928477d122 ]] {\r\n",
       "rec usage \"b: B\\n//:>>P::a// \" as E12  <<(T,blue)attribute>> [[psysml:bdc7bdc2-851d-4524-9d87-06992ba679d3 ]] {\r\n",
       "}\r\n",
       "}\r\n",
       "}\r\n",
       "E4 - -|> E2 [[psysml:0057605f-0b36-40b5-a833-d8040f0d9e74 ]] \r\n",
       "E6 - -|> E2 [[psysml:922ee1f9-edf0-4204-bf0f-0435eb6f66de ]] \r\n",
       "}\r\n",
       "@enduml\r\n",
       "\n",
       "PlantUML version 1.2020.13(Sat Jun 13 12:26:38 UTC 2020)\n",
       "(EPL source distribution)\n",
       "Java Runtime: OpenJDK Runtime Environment\n",
       "JVM: OpenJDK 64-Bit Server VM\n",
       "Default Encoding: UTF-8\n",
       "Language: en\n",
       "Country: null\n",
       "--></g></svg>"
      ]
     },
     "execution_count": 40,
     "metadata": {},
     "output_type": "execute_result"
    }
   ],
   "source": [
    "%viz --style=\"DEFAULT\" --view=\"Interconnection\" \"VariabilityTest\""
   ]
  },
  {
   "cell_type": "code",
   "execution_count": 41,
   "id": "median-violation",
   "metadata": {
    "execution": {
     "iopub.execute_input": "2021-03-25T15:07:47.191601Z",
     "iopub.status.busy": "2021-03-25T15:07:47.190797Z",
     "iopub.status.idle": "2021-03-25T15:07:47.200563Z",
     "shell.execute_reply": "2021-03-25T15:07:47.200967Z"
    }
   },
   "outputs": [
    {
     "data": {
      "image/svg+xml": [
       "<?xml version=\"1.0\" encoding=\"UTF-8\" standalone=\"no\"?><svg xmlns=\"http://www.w3.org/2000/svg\" xmlns:xlink=\"http://www.w3.org/1999/xlink\" contentScriptType=\"application/ecmascript\" contentStyleType=\"text/css\" height=\"12px\" preserveAspectRatio=\"none\" style=\"width:12px;height:12px;\" version=\"1.1\" viewBox=\"0 0 12 12\" width=\"12px\" zoomAndPan=\"magnify\"><defs/><g><!--MD5=[388f21188e31bfdd97050473b19af356]\n",
       "@startuml\r\n",
       "skinparam ranksep 8\r\n",
       "skinparam monochrome true\r\n",
       "skinparam classbackgroundcolor white\r\n",
       "skinparam shadowing false\r\n",
       "skinparam wrapWidth 300\r\n",
       "hide circle\r\n",
       "\r\n",
       "@enduml\r\n",
       "\n",
       "PlantUML version 1.2020.13(Sat Jun 13 12:26:38 UTC 2020)\n",
       "(EPL source distribution)\n",
       "Java Runtime: OpenJDK Runtime Environment\n",
       "JVM: OpenJDK 64-Bit Server VM\n",
       "Default Encoding: UTF-8\n",
       "Language: en\n",
       "Country: null\n",
       "--></g></svg>"
      ]
     },
     "execution_count": 41,
     "metadata": {},
     "output_type": "execute_result"
    }
   ],
   "source": [
    "%viz --style=\"DEFAULT\" --view=\"Action\" \"VariabilityTest\""
   ]
  },
  {
   "cell_type": "code",
   "execution_count": 42,
   "id": "adaptive-saint",
   "metadata": {
    "execution": {
     "iopub.execute_input": "2021-03-25T15:07:47.252635Z",
     "iopub.status.busy": "2021-03-25T15:07:47.252113Z",
     "iopub.status.idle": "2021-03-25T15:07:47.674737Z",
     "shell.execute_reply": "2021-03-25T15:07:47.674343Z"
    }
   },
   "outputs": [
    {
     "data": {
      "image/svg+xml": [
       "<?xml version=\"1.0\" encoding=\"UTF-8\" standalone=\"no\"?><svg xmlns=\"http://www.w3.org/2000/svg\" xmlns:xlink=\"http://www.w3.org/1999/xlink\" contentScriptType=\"application/ecmascript\" contentStyleType=\"text/css\" height=\"401px\" preserveAspectRatio=\"none\" style=\"width:342px;height:401px;\" version=\"1.1\" viewBox=\"0 0 342 401\" width=\"342px\" zoomAndPan=\"magnify\"><defs/><g><!--MD5=[fbc87193dbaf4d95561dea2c320d4a47]\n",
       "cluster E1--><a href=\"psysml:fc405a6c-3061-4540-9673-8b8e766ba6ac\" target=\"_top\" title=\"psysml:fc405a6c-3061-4540-9673-8b8e766ba6ac\" xlink:actuate=\"onRequest\" xlink:href=\"psysml:fc405a6c-3061-4540-9673-8b8e766ba6ac\" xlink:show=\"new\" xlink:title=\"psysml:fc405a6c-3061-4540-9673-8b8e766ba6ac\" xlink:type=\"simple\"><polygon fill=\"#FFFFFF\" points=\"16,6,134,6,141,28.2969,320,28.2969,320,389,16,389,16,6\" style=\"stroke: #000000; stroke-width: 1.5;\"/><line style=\"stroke: #000000; stroke-width: 1.5;\" x1=\"16\" x2=\"141\" y1=\"28.2969\" y2=\"28.2969\"/><text fill=\"#000000\" font-family=\"sans-serif\" font-size=\"14\" font-weight=\"bold\" lengthAdjust=\"spacingAndGlyphs\" textLength=\"112\" x=\"20\" y=\"20.9951\">VariabilityTest</text></a><!--MD5=[b4997ac47864f28c2f74865a473b2911]\n",
       "class E2--><a href=\"psysml:dc902210-e855-46b4-a2dd-8255fef19514\" target=\"_top\" title=\"psysml:dc902210-e855-46b4-a2dd-8255fef19514\" xlink:actuate=\"onRequest\" xlink:href=\"psysml:dc902210-e855-46b4-a2dd-8255fef19514\" xlink:show=\"new\" xlink:title=\"psysml:dc902210-e855-46b4-a2dd-8255fef19514\" xlink:type=\"simple\"><rect fill=\"#FFFFFF\" height=\"75.5469\" id=\"E2\" style=\"stroke: #383838; stroke-width: 1.5;\" width=\"66\" x=\"135\" y=\"291\"/><text fill=\"#000000\" font-family=\"sans-serif\" font-size=\"12\" font-style=\"italic\" lengthAdjust=\"spacingAndGlyphs\" textLength=\"64\" x=\"136\" y=\"307.1387\">«part def»</text><text fill=\"#000000\" font-family=\"sans-serif\" font-size=\"12\" lengthAdjust=\"spacingAndGlyphs\" textLength=\"8\" x=\"164\" y=\"321.1074\">P</text><line style=\"stroke: #383838; stroke-width: 1.5;\" x1=\"136\" x2=\"200\" y1=\"328.9375\" y2=\"328.9375\"/><text fill=\"#000000\" font-family=\"sans-serif\" font-size=\"11\" lengthAdjust=\"spacingAndGlyphs\" textLength=\"7\" x=\"141\" y=\"359.9526\">a</text><line style=\"stroke: #383838; stroke-width: 1.0;\" x1=\"136\" x2=\"140.5\" y1=\"343.3398\" y2=\"343.3398\"/><text fill=\"#000000\" font-family=\"sans-serif\" font-size=\"11\" lengthAdjust=\"spacingAndGlyphs\" textLength=\"55\" x=\"140.5\" y=\"346.6479\">attributes</text><line style=\"stroke: #383838; stroke-width: 1.0;\" x1=\"195.5\" x2=\"200\" y1=\"343.3398\" y2=\"343.3398\"/></a><!--MD5=[09b614a08d8cba4a07c9adeb5e0fee81]\n",
       "class E3--><a href=\"psysml:b52c8837-30af-42aa-bc51-100eaed5de80\" target=\"_top\" title=\"psysml:b52c8837-30af-42aa-bc51-100eaed5de80\" xlink:actuate=\"onRequest\" xlink:href=\"psysml:b52c8837-30af-42aa-bc51-100eaed5de80\" xlink:show=\"new\" xlink:title=\"psysml:b52c8837-30af-42aa-bc51-100eaed5de80\" xlink:type=\"simple\"><rect fill=\"#FFFFFF\" height=\"45.9375\" id=\"E3\" style=\"stroke: #383838; stroke-width: 1.5;\" width=\"66\" x=\"137\" y=\"155\"/><text fill=\"#000000\" font-family=\"sans-serif\" font-size=\"12\" font-style=\"italic\" lengthAdjust=\"spacingAndGlyphs\" textLength=\"64\" x=\"138\" y=\"171.1387\">«part def»</text><text fill=\"#000000\" font-family=\"sans-serif\" font-size=\"12\" lengthAdjust=\"spacingAndGlyphs\" textLength=\"9\" x=\"165.5\" y=\"185.1074\">Q</text><line style=\"stroke: #383838; stroke-width: 1.5;\" x1=\"138\" x2=\"202\" y1=\"192.9375\" y2=\"192.9375\"/></a><!--MD5=[ebbe1d658d1005bcc118a6aa81145e00]\n",
       "class E4--><a href=\"psysml:f17815b8-46c4-4dd9-bf70-524ba6c03f24\" target=\"_top\" title=\"psysml:f17815b8-46c4-4dd9-bf70-524ba6c03f24\" xlink:actuate=\"onRequest\" xlink:href=\"psysml:f17815b8-46c4-4dd9-bf70-524ba6c03f24\" xlink:show=\"new\" xlink:title=\"psysml:f17815b8-46c4-4dd9-bf70-524ba6c03f24\" xlink:type=\"simple\"><rect fill=\"#FFFFFF\" height=\"45.9375\" id=\"E4\" style=\"stroke: #383838; stroke-width: 1.5;\" width=\"95\" x=\"208.5\" y=\"41\"/><text fill=\"#000000\" font-family=\"sans-serif\" font-size=\"12\" font-style=\"italic\" lengthAdjust=\"spacingAndGlyphs\" textLength=\"93\" x=\"209.5\" y=\"57.1387\">«attribute def»</text><text fill=\"#000000\" font-family=\"sans-serif\" font-size=\"12\" lengthAdjust=\"spacingAndGlyphs\" textLength=\"8\" x=\"252\" y=\"71.1074\">B</text><line style=\"stroke: #383838; stroke-width: 1.5;\" x1=\"209.5\" x2=\"302.5\" y1=\"78.9375\" y2=\"78.9375\"/></a><!--MD5=[270fce915f116d4de14055a7c1d9a0f3]\n",
       "class E5--><a href=\"psysml:b1ebe526-c40e-4c8f-ae74-16f7fcd1bdc9\" target=\"_top\" title=\"psysml:b1ebe526-c40e-4c8f-ae74-16f7fcd1bdc9\" xlink:actuate=\"onRequest\" xlink:href=\"psysml:b1ebe526-c40e-4c8f-ae74-16f7fcd1bdc9\" xlink:show=\"new\" xlink:title=\"psysml:b1ebe526-c40e-4c8f-ae74-16f7fcd1bdc9\" xlink:type=\"simple\"><rect fill=\"#FFFFFF\" height=\"45.9375\" id=\"E5\" style=\"stroke: #383838; stroke-width: 1.5;\" width=\"66\" x=\"238\" y=\"155\"/><text fill=\"#000000\" font-family=\"sans-serif\" font-size=\"12\" font-style=\"italic\" lengthAdjust=\"spacingAndGlyphs\" textLength=\"64\" x=\"239\" y=\"171.1387\">«part def»</text><text fill=\"#000000\" font-family=\"sans-serif\" font-size=\"12\" lengthAdjust=\"spacingAndGlyphs\" textLength=\"8\" x=\"267\" y=\"185.1074\">V</text><line style=\"stroke: #383838; stroke-width: 1.5;\" x1=\"239\" x2=\"303\" y1=\"192.9375\" y2=\"192.9375\"/></a><!--MD5=[60a26617385b1d2d0262a64233df1f8d]\n",
       "class E6--><a href=\"psysml:05419eac-6c2b-46e9-bd3b-b31f448a077a\" target=\"_top\" title=\"psysml:05419eac-6c2b-46e9-bd3b-b31f448a077a\" xlink:actuate=\"onRequest\" xlink:href=\"psysml:05419eac-6c2b-46e9-bd3b-b31f448a077a\" xlink:show=\"new\" xlink:title=\"psysml:05419eac-6c2b-46e9-bd3b-b31f448a077a\" xlink:type=\"simple\"><rect fill=\"#FFFFFF\" height=\"88.3516\" id=\"E6\" rx=\"10\" ry=\"10\" style=\"stroke: #383838; stroke-width: 1.5;\" width=\"63\" x=\"236.5\" y=\"285\"/><text fill=\"#000000\" font-family=\"sans-serif\" font-size=\"12\" font-style=\"italic\" lengthAdjust=\"spacingAndGlyphs\" textLength=\"40\" x=\"248\" y=\"301.1387\">«part»</text><text fill=\"#000000\" font-family=\"sans-serif\" font-size=\"12\" lengthAdjust=\"spacingAndGlyphs\" textLength=\"23\" x=\"256.5\" y=\"315.1074\">x: Q</text><line style=\"stroke: #383838; stroke-width: 1.5;\" x1=\"237.5\" x2=\"298.5\" y1=\"322.9375\" y2=\"322.9375\"/><text fill=\"#000000\" font-family=\"sans-serif\" font-size=\"11\" lengthAdjust=\"spacingAndGlyphs\" textLength=\"23\" x=\"242.5\" y=\"353.9526\">b: B</text><text fill=\"#000000\" font-family=\"sans-serif\" font-size=\"11\" font-style=\"italic\" lengthAdjust=\"spacingAndGlyphs\" textLength=\"44\" x=\"242.5\" y=\"366.7573\">:&gt;&gt;P::a</text><line style=\"stroke: #383838; stroke-width: 1.0;\" x1=\"237.5\" x2=\"240.5\" y1=\"337.3398\" y2=\"337.3398\"/><text fill=\"#000000\" font-family=\"sans-serif\" font-size=\"11\" lengthAdjust=\"spacingAndGlyphs\" textLength=\"55\" x=\"240.5\" y=\"340.6479\">attributes</text><line style=\"stroke: #383838; stroke-width: 1.0;\" x1=\"295.5\" x2=\"298.5\" y1=\"337.3398\" y2=\"337.3398\"/></a><!--MD5=[2156ba9850f5573cc1fc38a6a4b2f02b]\n",
       "class E7--><a href=\"psysml:bd66bfa4-4cf8-4e62-98d6-c8549fcb8467\" target=\"_top\" title=\"psysml:bd66bfa4-4cf8-4e62-98d6-c8549fcb8467\" xlink:actuate=\"onRequest\" xlink:href=\"psysml:bd66bfa4-4cf8-4e62-98d6-c8549fcb8467\" xlink:show=\"new\" xlink:title=\"psysml:bd66bfa4-4cf8-4e62-98d6-c8549fcb8467\" xlink:type=\"simple\"><rect fill=\"#FFFFFF\" height=\"45.9375\" id=\"E7\" rx=\"10\" ry=\"10\" style=\"stroke: #383838; stroke-width: 1.5;\" width=\"42\" x=\"131\" y=\"41\"/><text fill=\"#000000\" font-family=\"sans-serif\" font-size=\"12\" font-style=\"italic\" lengthAdjust=\"spacingAndGlyphs\" textLength=\"40\" x=\"132\" y=\"57.1387\">«part»</text><text fill=\"#000000\" font-family=\"sans-serif\" font-size=\"12\" lengthAdjust=\"spacingAndGlyphs\" textLength=\"25\" x=\"139.5\" y=\"71.1074\">q: Q</text><line style=\"stroke: #383838; stroke-width: 1.5;\" x1=\"132\" x2=\"172\" y1=\"78.9375\" y2=\"78.9375\"/></a><!--MD5=[b9389687b975829384b498ac4b7476b2]\n",
       "class E8--><a href=\"psysml:d11ba367-2498-4d3b-bf9a-6df5f0bc7068\" target=\"_top\" title=\"psysml:d11ba367-2498-4d3b-bf9a-6df5f0bc7068\" xlink:actuate=\"onRequest\" xlink:href=\"psysml:d11ba367-2498-4d3b-bf9a-6df5f0bc7068\" xlink:show=\"new\" xlink:title=\"psysml:d11ba367-2498-4d3b-bf9a-6df5f0bc7068\" xlink:type=\"simple\"><rect fill=\"#FFFFFF\" height=\"59.9063\" id=\"E8\" rx=\"10\" ry=\"10\" style=\"stroke: #383838; stroke-width: 1.5;\" width=\"70\" x=\"32\" y=\"148\"/><text fill=\"#000000\" font-family=\"sans-serif\" font-size=\"12\" font-style=\"italic\" lengthAdjust=\"spacingAndGlyphs\" textLength=\"68\" x=\"33\" y=\"164.1387\">«variation»</text><text fill=\"#000000\" font-family=\"sans-serif\" font-size=\"12\" font-style=\"italic\" lengthAdjust=\"spacingAndGlyphs\" textLength=\"40\" x=\"47\" y=\"178.1074\">«part»</text><text fill=\"#000000\" font-family=\"sans-serif\" font-size=\"12\" lengthAdjust=\"spacingAndGlyphs\" textLength=\"22\" x=\"56\" y=\"192.0762\">v: P</text><line style=\"stroke: #383838; stroke-width: 1.5;\" x1=\"33\" x2=\"101\" y1=\"199.9063\" y2=\"199.9063\"/></a><!--MD5=[fd4143e9d270a159db93a4ea2a975926]\n",
       "class E9--><a href=\"psysml:72597939-8390-466d-9479-39928477d122\" target=\"_top\" title=\"psysml:72597939-8390-466d-9479-39928477d122\" xlink:actuate=\"onRequest\" xlink:href=\"psysml:72597939-8390-466d-9479-39928477d122\" xlink:show=\"new\" xlink:title=\"psysml:72597939-8390-466d-9479-39928477d122\" xlink:type=\"simple\"><rect fill=\"#FFFFFF\" height=\"88.3516\" id=\"E9\" rx=\"10\" ry=\"10\" style=\"stroke: #383838; stroke-width: 1.5;\" width=\"63\" x=\"35.5\" y=\"285\"/><text fill=\"#000000\" font-family=\"sans-serif\" font-size=\"12\" font-style=\"italic\" lengthAdjust=\"spacingAndGlyphs\" textLength=\"40\" x=\"47\" y=\"301.1387\">«part»</text><text fill=\"#000000\" font-family=\"sans-serif\" font-size=\"12\" lengthAdjust=\"spacingAndGlyphs\" textLength=\"6\" x=\"64\" y=\"315.1074\">y</text><line style=\"stroke: #383838; stroke-width: 1.5;\" x1=\"36.5\" x2=\"97.5\" y1=\"322.9375\" y2=\"322.9375\"/><text fill=\"#000000\" font-family=\"sans-serif\" font-size=\"11\" lengthAdjust=\"spacingAndGlyphs\" textLength=\"23\" x=\"41.5\" y=\"353.9526\">b: B</text><text fill=\"#000000\" font-family=\"sans-serif\" font-size=\"11\" font-style=\"italic\" lengthAdjust=\"spacingAndGlyphs\" textLength=\"44\" x=\"41.5\" y=\"366.7573\">:&gt;&gt;P::a</text><line style=\"stroke: #383838; stroke-width: 1.0;\" x1=\"36.5\" x2=\"39.5\" y1=\"337.3398\" y2=\"337.3398\"/><text fill=\"#000000\" font-family=\"sans-serif\" font-size=\"11\" lengthAdjust=\"spacingAndGlyphs\" textLength=\"55\" x=\"39.5\" y=\"340.6479\">attributes</text><line style=\"stroke: #383838; stroke-width: 1.0;\" x1=\"94.5\" x2=\"97.5\" y1=\"337.3398\" y2=\"337.3398\"/></a><!--MD5=[05d275557350bfb9b23a4ef7222b4c39]\n",
       "link E3 to E2--><a href=\"psysml:0057605f-0b36-40b5-a833-d8040f0d9e74\" target=\"_top\" title=\"psysml:0057605f-0b36-40b5-a833-d8040f0d9e74\" xlink:actuate=\"onRequest\" xlink:href=\"psysml:0057605f-0b36-40b5-a833-d8040f0d9e74\" xlink:show=\"new\" xlink:title=\"psysml:0057605f-0b36-40b5-a833-d8040f0d9e74\" xlink:type=\"simple\"><path d=\"M169.7,201.31 C169.46,219.58 169.1,246.27 168.77,270.44 \" fill=\"none\" id=\"E3-&gt;E2\" style=\"stroke: #383838; stroke-width: 1.0;\"/><polygon fill=\"none\" points=\"175.77,270.86,168.5,290.77,161.77,270.68,175.77,270.86\" style=\"stroke: #383838; stroke-width: 1.0;\"/></a><!--MD5=[15ebcb19ae302d9b601edb458606d402]\n",
       "link E5 to E2--><a href=\"psysml:922ee1f9-edf0-4204-bf0f-0435eb6f66de\" target=\"_top\" title=\"psysml:922ee1f9-edf0-4204-bf0f-0435eb6f66de\" xlink:actuate=\"onRequest\" xlink:href=\"psysml:922ee1f9-edf0-4204-bf0f-0435eb6f66de\" xlink:show=\"new\" xlink:title=\"psysml:922ee1f9-edf0-4204-bf0f-0435eb6f66de\" xlink:type=\"simple\"><path d=\"M255.58,201.31 C242.31,220.5 222.62,248.99 205.27,274.09 \" fill=\"none\" id=\"E5-&gt;E2\" style=\"stroke: #383838; stroke-width: 1.0;\"/><polygon fill=\"none\" points=\"210.87,278.3,193.74,290.77,199.35,270.34,210.87,278.3\" style=\"stroke: #383838; stroke-width: 1.0;\"/></a><!--MD5=[9120cf2e5df3bff93db8f754bbbc09b4]\n",
       "link E5 to E6--><a href=\"psysml:1c0ef759-8c31-4a4a-b0e7-e872c2806a04\" target=\"_top\" title=\"psysml:1c0ef759-8c31-4a4a-b0e7-e872c2806a04\" xlink:actuate=\"onRequest\" xlink:href=\"psysml:1c0ef759-8c31-4a4a-b0e7-e872c2806a04\" xlink:show=\"new\" xlink:title=\"psysml:1c0ef759-8c31-4a4a-b0e7-e872c2806a04\" xlink:type=\"simple\"><path d=\"M270.34,211.55 C269.97,230.03 269.5,253.61 269.07,274.71 \" fill=\"none\" id=\"E5-E6\" style=\"stroke: #383838; stroke-width: 1.0;\"/><polygon fill=\"#383838\" points=\"268.87,284.84,272.0294,276.9016,266.0306,276.7816,268.87,284.84\" style=\"stroke: #383838; stroke-width: 1.0;\"/><path d=\"M262.0288,204.2063 A9,9 0 0 0 278.9393 204.5687\" fill=\"none\" style=\"stroke: #383838; stroke-width: 1.5;\"/><text fill=\"#000000\" font-family=\"sans-serif\" font-size=\"13\" lengthAdjust=\"spacingAndGlyphs\" textLength=\"60\" x=\"270\" y=\"251.0669\">«variant»</text></a><!--MD5=[14ccda38c055a5c0da953d572bc50960]\n",
       "link E7 to E3--><a href=\"psysml:6aa04dcc-8d2e-4853-a2ca-5b94913b0044\" target=\"_top\" title=\"psysml:6aa04dcc-8d2e-4853-a2ca-5b94913b0044\" xlink:actuate=\"onRequest\" xlink:href=\"psysml:6aa04dcc-8d2e-4853-a2ca-5b94913b0044\" xlink:show=\"new\" xlink:title=\"psysml:6aa04dcc-8d2e-4853-a2ca-5b94913b0044\" xlink:type=\"simple\"><path d=\"M155.56,87.13 C157.75,100.78 160.64,118.74 163.25,135 \" fill=\"none\" id=\"E7-&gt;E3\" style=\"stroke: #383838; stroke-width: 1.0;\"/><polygon fill=\"#FFFFFF\" points=\"166.45,154.92,156.5251,137.2707,170.3479,135.0503,166.45,154.92\" style=\"stroke: #383838; stroke-width: 1.0;\"/><ellipse cx=\"157.5958\" cy=\"131.3257\" fill=\"#383838\" rx=\"2\" ry=\"2\" style=\"stroke: #383838; stroke-width: 1.0;\"/><ellipse cx=\"167.4692\" cy=\"129.7396\" fill=\"#383838\" rx=\"2\" ry=\"2\" style=\"stroke: #383838; stroke-width: 1.0;\"/></a><!--MD5=[f1f3f9f2fc535e6147756cb86a7f2e32]\n",
       "link E8 to E2--><a href=\"psysml:62998d3a-e41b-4231-af2c-a0f2b465e4e7\" target=\"_top\" title=\"psysml:62998d3a-e41b-4231-af2c-a0f2b465e4e7\" xlink:actuate=\"onRequest\" xlink:href=\"psysml:62998d3a-e41b-4231-af2c-a0f2b465e4e7\" xlink:show=\"new\" xlink:title=\"psysml:62998d3a-e41b-4231-af2c-a0f2b465e4e7\" xlink:type=\"simple\"><path d=\"M102.2,202.57 C114.6,212.31 127.74,224.5 137,238 C143.95,248.13 149.47,259.96 153.82,271.65 \" fill=\"none\" id=\"E8-&gt;E2\" style=\"stroke: #383838; stroke-width: 1.0;\"/><polygon fill=\"#FFFFFF\" points=\"160.05,290.88,147.5299,274.9663,160.847,270.6472,160.05,290.88\" style=\"stroke: #383838; stroke-width: 1.0;\"/><ellipse cx=\"147.6738\" cy=\"268.9273\" fill=\"#383838\" rx=\"2\" ry=\"2\" style=\"stroke: #383838; stroke-width: 1.0;\"/><ellipse cx=\"157.186\" cy=\"265.8423\" fill=\"#383838\" rx=\"2\" ry=\"2\" style=\"stroke: #383838; stroke-width: 1.0;\"/></a><!--MD5=[ed10624c06dd9a4fa49ccf290e8b16a8]\n",
       "link E8 to E9--><a href=\"psysml:196bced0-9581-41ba-9556-fc72f0b07990\" target=\"_top\" title=\"psysml:196bced0-9581-41ba-9556-fc72f0b07990\" xlink:actuate=\"onRequest\" xlink:href=\"psysml:196bced0-9581-41ba-9556-fc72f0b07990\" xlink:show=\"new\" xlink:title=\"psysml:196bced0-9581-41ba-9556-fc72f0b07990\" xlink:type=\"simple\"><path d=\"M67,218.32 C67,235.6 67,256.15 67,274.77 \" fill=\"none\" id=\"E8-E9\" style=\"stroke: #383838; stroke-width: 1.0;\"/><polygon fill=\"#383838\" points=\"67,284.88,70,276.88,64,276.88,67,284.88\" style=\"stroke: #383838; stroke-width: 1.0;\"/><path d=\"M58.5428,211.1582 A9,9 0 0 0 75.4572 211.1582\" fill=\"none\" style=\"stroke: #383838; stroke-width: 1.5;\"/><text fill=\"#000000\" font-family=\"sans-serif\" font-size=\"13\" lengthAdjust=\"spacingAndGlyphs\" textLength=\"60\" x=\"68\" y=\"251.0669\">«variant»</text></a><!--MD5=[712623f70ad3e6c92407a6ae434c622f]\n",
       "@startuml\r\n",
       "skinparam monochrome true\r\n",
       "skinparam classbackgroundcolor white\r\n",
       "skinparam shadowing false\r\n",
       "skinparam wrapWidth 300\r\n",
       "hide circle\r\n",
       "\r\n",
       "package \"VariabilityTest\" as E1  [[psysml:fc405a6c-3061-4540-9673-8b8e766ba6ac ]]  {\r\n",
       "comp def \"P\" as E2  <<(T,blue)part def>> [[psysml:dc902210-e855-46b4-a2dd-8255fef19514 ]] {\r\n",
       "- - attributes - -\r\n",
       "a\r\n",
       "}\r\n",
       "comp def \"Q\" as E3  <<(T,blue)part def>> [[psysml:b52c8837-30af-42aa-bc51-100eaed5de80 ]] {\r\n",
       "}\r\n",
       "comp def \"B\" as E4  <<(T,blue)attribute def>> [[psysml:f17815b8-46c4-4dd9-bf70-524ba6c03f24 ]] {\r\n",
       "}\r\n",
       "comp def \"V\" as E5  <<(T,blue)part def>> [[psysml:b1ebe526-c40e-4c8f-ae74-16f7fcd1bdc9 ]] {\r\n",
       "}\r\n",
       "comp usage \"x: Q\" as E6  <<(T,blue)part>> [[psysml:05419eac-6c2b-46e9-bd3b-b31f448a077a ]] {\r\n",
       "- - attributes - -\r\n",
       "b: B\\n//:>>P::a// \r\n",
       "}\r\n",
       "comp usage \"q: Q\" as E7  <<(T,blue)part>> [[psysml:bd66bfa4-4cf8-4e62-98d6-c8549fcb8467 ]] {\r\n",
       "}\r\n",
       "comp usage \"v: P\" as E8  <<variation>>\\n <<(T,blue)part>> [[psysml:d11ba367-2498-4d3b-bf9a-6df5f0bc7068 ]] {\r\n",
       "}\r\n",
       "comp usage \"y\" as E9  <<(T,blue)part>> [[psysml:72597939-8390-466d-9479-39928477d122 ]] {\r\n",
       "- - attributes - -\r\n",
       "b: B\\n//:>>P::a// \r\n",
       "}\r\n",
       "E3 - -|> E2 [[psysml:0057605f-0b36-40b5-a833-d8040f0d9e74 ]] \r\n",
       "E5 - -|> E2 [[psysml:922ee1f9-edf0-4204-bf0f-0435eb6f66de ]] \r\n",
       "E5 )- ->> E6 [[psysml:1c0ef759-8c31-4a4a-b0e7-e872c2806a04 ]] : <<variant>>\r\n",
       "E7 - -:|> E3 [[psysml:6aa04dcc-8d2e-4853-a2ca-5b94913b0044 ]] \r\n",
       "E8 - -:|> E2 [[psysml:62998d3a-e41b-4231-af2c-a0f2b465e4e7 ]] \r\n",
       "E8 )- ->> E9 [[psysml:196bced0-9581-41ba-9556-fc72f0b07990 ]] : <<variant>>\r\n",
       "}\r\n",
       "@enduml\r\n",
       "\n",
       "PlantUML version 1.2020.13(Sat Jun 13 12:26:38 UTC 2020)\n",
       "(EPL source distribution)\n",
       "Java Runtime: OpenJDK Runtime Environment\n",
       "JVM: OpenJDK 64-Bit Server VM\n",
       "Default Encoding: UTF-8\n",
       "Language: en\n",
       "Country: null\n",
       "--></g></svg>"
      ]
     },
     "execution_count": 42,
     "metadata": {},
     "output_type": "execute_result"
    }
   ],
   "source": [
    "%viz --style=\"DEFAULT\" --view=\"Sequence\" \"VariabilityTest\""
   ]
  },
  {
   "cell_type": "code",
   "execution_count": 43,
   "id": "senior-medline",
   "metadata": {
    "execution": {
     "iopub.execute_input": "2021-03-25T15:07:47.725058Z",
     "iopub.status.busy": "2021-03-25T15:07:47.724408Z",
     "iopub.status.idle": "2021-03-25T15:07:48.154183Z",
     "shell.execute_reply": "2021-03-25T15:07:48.152413Z"
    }
   },
   "outputs": [
    {
     "data": {
      "image/svg+xml": [
       "<?xml version=\"1.0\" encoding=\"UTF-8\" standalone=\"no\"?><svg xmlns=\"http://www.w3.org/2000/svg\" xmlns:xlink=\"http://www.w3.org/1999/xlink\" contentScriptType=\"application/ecmascript\" contentStyleType=\"text/css\" height=\"401px\" preserveAspectRatio=\"none\" style=\"width:342px;height:401px;\" version=\"1.1\" viewBox=\"0 0 342 401\" width=\"342px\" zoomAndPan=\"magnify\"><defs/><g><!--MD5=[fbc87193dbaf4d95561dea2c320d4a47]\n",
       "cluster E1--><a href=\"psysml:fc405a6c-3061-4540-9673-8b8e766ba6ac\" target=\"_top\" title=\"psysml:fc405a6c-3061-4540-9673-8b8e766ba6ac\" xlink:actuate=\"onRequest\" xlink:href=\"psysml:fc405a6c-3061-4540-9673-8b8e766ba6ac\" xlink:show=\"new\" xlink:title=\"psysml:fc405a6c-3061-4540-9673-8b8e766ba6ac\" xlink:type=\"simple\"><polygon fill=\"#FFFFFF\" points=\"16,6,134,6,141,28.2969,320,28.2969,320,389,16,389,16,6\" style=\"stroke: #000000; stroke-width: 1.5;\"/><line style=\"stroke: #000000; stroke-width: 1.5;\" x1=\"16\" x2=\"141\" y1=\"28.2969\" y2=\"28.2969\"/><text fill=\"#000000\" font-family=\"sans-serif\" font-size=\"14\" font-weight=\"bold\" lengthAdjust=\"spacingAndGlyphs\" textLength=\"112\" x=\"20\" y=\"20.9951\">VariabilityTest</text></a><!--MD5=[b4997ac47864f28c2f74865a473b2911]\n",
       "class E2--><a href=\"psysml:dc902210-e855-46b4-a2dd-8255fef19514\" target=\"_top\" title=\"psysml:dc902210-e855-46b4-a2dd-8255fef19514\" xlink:actuate=\"onRequest\" xlink:href=\"psysml:dc902210-e855-46b4-a2dd-8255fef19514\" xlink:show=\"new\" xlink:title=\"psysml:dc902210-e855-46b4-a2dd-8255fef19514\" xlink:type=\"simple\"><rect fill=\"#FFFFFF\" height=\"75.5469\" id=\"E2\" style=\"stroke: #383838; stroke-width: 1.5;\" width=\"66\" x=\"135\" y=\"291\"/><text fill=\"#000000\" font-family=\"sans-serif\" font-size=\"12\" font-style=\"italic\" lengthAdjust=\"spacingAndGlyphs\" textLength=\"64\" x=\"136\" y=\"307.1387\">«part def»</text><text fill=\"#000000\" font-family=\"sans-serif\" font-size=\"12\" lengthAdjust=\"spacingAndGlyphs\" textLength=\"8\" x=\"164\" y=\"321.1074\">P</text><line style=\"stroke: #383838; stroke-width: 1.5;\" x1=\"136\" x2=\"200\" y1=\"328.9375\" y2=\"328.9375\"/><text fill=\"#000000\" font-family=\"sans-serif\" font-size=\"11\" lengthAdjust=\"spacingAndGlyphs\" textLength=\"7\" x=\"141\" y=\"359.9526\">a</text><line style=\"stroke: #383838; stroke-width: 1.0;\" x1=\"136\" x2=\"140.5\" y1=\"343.3398\" y2=\"343.3398\"/><text fill=\"#000000\" font-family=\"sans-serif\" font-size=\"11\" lengthAdjust=\"spacingAndGlyphs\" textLength=\"55\" x=\"140.5\" y=\"346.6479\">attributes</text><line style=\"stroke: #383838; stroke-width: 1.0;\" x1=\"195.5\" x2=\"200\" y1=\"343.3398\" y2=\"343.3398\"/></a><!--MD5=[09b614a08d8cba4a07c9adeb5e0fee81]\n",
       "class E3--><a href=\"psysml:b52c8837-30af-42aa-bc51-100eaed5de80\" target=\"_top\" title=\"psysml:b52c8837-30af-42aa-bc51-100eaed5de80\" xlink:actuate=\"onRequest\" xlink:href=\"psysml:b52c8837-30af-42aa-bc51-100eaed5de80\" xlink:show=\"new\" xlink:title=\"psysml:b52c8837-30af-42aa-bc51-100eaed5de80\" xlink:type=\"simple\"><rect fill=\"#FFFFFF\" height=\"45.9375\" id=\"E3\" style=\"stroke: #383838; stroke-width: 1.5;\" width=\"66\" x=\"137\" y=\"155\"/><text fill=\"#000000\" font-family=\"sans-serif\" font-size=\"12\" font-style=\"italic\" lengthAdjust=\"spacingAndGlyphs\" textLength=\"64\" x=\"138\" y=\"171.1387\">«part def»</text><text fill=\"#000000\" font-family=\"sans-serif\" font-size=\"12\" lengthAdjust=\"spacingAndGlyphs\" textLength=\"9\" x=\"165.5\" y=\"185.1074\">Q</text><line style=\"stroke: #383838; stroke-width: 1.5;\" x1=\"138\" x2=\"202\" y1=\"192.9375\" y2=\"192.9375\"/></a><!--MD5=[ebbe1d658d1005bcc118a6aa81145e00]\n",
       "class E4--><a href=\"psysml:f17815b8-46c4-4dd9-bf70-524ba6c03f24\" target=\"_top\" title=\"psysml:f17815b8-46c4-4dd9-bf70-524ba6c03f24\" xlink:actuate=\"onRequest\" xlink:href=\"psysml:f17815b8-46c4-4dd9-bf70-524ba6c03f24\" xlink:show=\"new\" xlink:title=\"psysml:f17815b8-46c4-4dd9-bf70-524ba6c03f24\" xlink:type=\"simple\"><rect fill=\"#FFFFFF\" height=\"45.9375\" id=\"E4\" style=\"stroke: #383838; stroke-width: 1.5;\" width=\"95\" x=\"208.5\" y=\"41\"/><text fill=\"#000000\" font-family=\"sans-serif\" font-size=\"12\" font-style=\"italic\" lengthAdjust=\"spacingAndGlyphs\" textLength=\"93\" x=\"209.5\" y=\"57.1387\">«attribute def»</text><text fill=\"#000000\" font-family=\"sans-serif\" font-size=\"12\" lengthAdjust=\"spacingAndGlyphs\" textLength=\"8\" x=\"252\" y=\"71.1074\">B</text><line style=\"stroke: #383838; stroke-width: 1.5;\" x1=\"209.5\" x2=\"302.5\" y1=\"78.9375\" y2=\"78.9375\"/></a><!--MD5=[270fce915f116d4de14055a7c1d9a0f3]\n",
       "class E5--><a href=\"psysml:b1ebe526-c40e-4c8f-ae74-16f7fcd1bdc9\" target=\"_top\" title=\"psysml:b1ebe526-c40e-4c8f-ae74-16f7fcd1bdc9\" xlink:actuate=\"onRequest\" xlink:href=\"psysml:b1ebe526-c40e-4c8f-ae74-16f7fcd1bdc9\" xlink:show=\"new\" xlink:title=\"psysml:b1ebe526-c40e-4c8f-ae74-16f7fcd1bdc9\" xlink:type=\"simple\"><rect fill=\"#FFFFFF\" height=\"45.9375\" id=\"E5\" style=\"stroke: #383838; stroke-width: 1.5;\" width=\"66\" x=\"238\" y=\"155\"/><text fill=\"#000000\" font-family=\"sans-serif\" font-size=\"12\" font-style=\"italic\" lengthAdjust=\"spacingAndGlyphs\" textLength=\"64\" x=\"239\" y=\"171.1387\">«part def»</text><text fill=\"#000000\" font-family=\"sans-serif\" font-size=\"12\" lengthAdjust=\"spacingAndGlyphs\" textLength=\"8\" x=\"267\" y=\"185.1074\">V</text><line style=\"stroke: #383838; stroke-width: 1.5;\" x1=\"239\" x2=\"303\" y1=\"192.9375\" y2=\"192.9375\"/></a><!--MD5=[60a26617385b1d2d0262a64233df1f8d]\n",
       "class E6--><a href=\"psysml:05419eac-6c2b-46e9-bd3b-b31f448a077a\" target=\"_top\" title=\"psysml:05419eac-6c2b-46e9-bd3b-b31f448a077a\" xlink:actuate=\"onRequest\" xlink:href=\"psysml:05419eac-6c2b-46e9-bd3b-b31f448a077a\" xlink:show=\"new\" xlink:title=\"psysml:05419eac-6c2b-46e9-bd3b-b31f448a077a\" xlink:type=\"simple\"><rect fill=\"#FFFFFF\" height=\"88.3516\" id=\"E6\" rx=\"10\" ry=\"10\" style=\"stroke: #383838; stroke-width: 1.5;\" width=\"63\" x=\"236.5\" y=\"285\"/><text fill=\"#000000\" font-family=\"sans-serif\" font-size=\"12\" font-style=\"italic\" lengthAdjust=\"spacingAndGlyphs\" textLength=\"40\" x=\"248\" y=\"301.1387\">«part»</text><text fill=\"#000000\" font-family=\"sans-serif\" font-size=\"12\" lengthAdjust=\"spacingAndGlyphs\" textLength=\"23\" x=\"256.5\" y=\"315.1074\">x: Q</text><line style=\"stroke: #383838; stroke-width: 1.5;\" x1=\"237.5\" x2=\"298.5\" y1=\"322.9375\" y2=\"322.9375\"/><text fill=\"#000000\" font-family=\"sans-serif\" font-size=\"11\" lengthAdjust=\"spacingAndGlyphs\" textLength=\"23\" x=\"242.5\" y=\"353.9526\">b: B</text><text fill=\"#000000\" font-family=\"sans-serif\" font-size=\"11\" font-style=\"italic\" lengthAdjust=\"spacingAndGlyphs\" textLength=\"44\" x=\"242.5\" y=\"366.7573\">:&gt;&gt;P::a</text><line style=\"stroke: #383838; stroke-width: 1.0;\" x1=\"237.5\" x2=\"240.5\" y1=\"337.3398\" y2=\"337.3398\"/><text fill=\"#000000\" font-family=\"sans-serif\" font-size=\"11\" lengthAdjust=\"spacingAndGlyphs\" textLength=\"55\" x=\"240.5\" y=\"340.6479\">attributes</text><line style=\"stroke: #383838; stroke-width: 1.0;\" x1=\"295.5\" x2=\"298.5\" y1=\"337.3398\" y2=\"337.3398\"/></a><!--MD5=[2156ba9850f5573cc1fc38a6a4b2f02b]\n",
       "class E7--><a href=\"psysml:bd66bfa4-4cf8-4e62-98d6-c8549fcb8467\" target=\"_top\" title=\"psysml:bd66bfa4-4cf8-4e62-98d6-c8549fcb8467\" xlink:actuate=\"onRequest\" xlink:href=\"psysml:bd66bfa4-4cf8-4e62-98d6-c8549fcb8467\" xlink:show=\"new\" xlink:title=\"psysml:bd66bfa4-4cf8-4e62-98d6-c8549fcb8467\" xlink:type=\"simple\"><rect fill=\"#FFFFFF\" height=\"45.9375\" id=\"E7\" rx=\"10\" ry=\"10\" style=\"stroke: #383838; stroke-width: 1.5;\" width=\"42\" x=\"131\" y=\"41\"/><text fill=\"#000000\" font-family=\"sans-serif\" font-size=\"12\" font-style=\"italic\" lengthAdjust=\"spacingAndGlyphs\" textLength=\"40\" x=\"132\" y=\"57.1387\">«part»</text><text fill=\"#000000\" font-family=\"sans-serif\" font-size=\"12\" lengthAdjust=\"spacingAndGlyphs\" textLength=\"25\" x=\"139.5\" y=\"71.1074\">q: Q</text><line style=\"stroke: #383838; stroke-width: 1.5;\" x1=\"132\" x2=\"172\" y1=\"78.9375\" y2=\"78.9375\"/></a><!--MD5=[b9389687b975829384b498ac4b7476b2]\n",
       "class E8--><a href=\"psysml:d11ba367-2498-4d3b-bf9a-6df5f0bc7068\" target=\"_top\" title=\"psysml:d11ba367-2498-4d3b-bf9a-6df5f0bc7068\" xlink:actuate=\"onRequest\" xlink:href=\"psysml:d11ba367-2498-4d3b-bf9a-6df5f0bc7068\" xlink:show=\"new\" xlink:title=\"psysml:d11ba367-2498-4d3b-bf9a-6df5f0bc7068\" xlink:type=\"simple\"><rect fill=\"#FFFFFF\" height=\"59.9063\" id=\"E8\" rx=\"10\" ry=\"10\" style=\"stroke: #383838; stroke-width: 1.5;\" width=\"70\" x=\"32\" y=\"148\"/><text fill=\"#000000\" font-family=\"sans-serif\" font-size=\"12\" font-style=\"italic\" lengthAdjust=\"spacingAndGlyphs\" textLength=\"68\" x=\"33\" y=\"164.1387\">«variation»</text><text fill=\"#000000\" font-family=\"sans-serif\" font-size=\"12\" font-style=\"italic\" lengthAdjust=\"spacingAndGlyphs\" textLength=\"40\" x=\"47\" y=\"178.1074\">«part»</text><text fill=\"#000000\" font-family=\"sans-serif\" font-size=\"12\" lengthAdjust=\"spacingAndGlyphs\" textLength=\"22\" x=\"56\" y=\"192.0762\">v: P</text><line style=\"stroke: #383838; stroke-width: 1.5;\" x1=\"33\" x2=\"101\" y1=\"199.9063\" y2=\"199.9063\"/></a><!--MD5=[fd4143e9d270a159db93a4ea2a975926]\n",
       "class E9--><a href=\"psysml:72597939-8390-466d-9479-39928477d122\" target=\"_top\" title=\"psysml:72597939-8390-466d-9479-39928477d122\" xlink:actuate=\"onRequest\" xlink:href=\"psysml:72597939-8390-466d-9479-39928477d122\" xlink:show=\"new\" xlink:title=\"psysml:72597939-8390-466d-9479-39928477d122\" xlink:type=\"simple\"><rect fill=\"#FFFFFF\" height=\"88.3516\" id=\"E9\" rx=\"10\" ry=\"10\" style=\"stroke: #383838; stroke-width: 1.5;\" width=\"63\" x=\"35.5\" y=\"285\"/><text fill=\"#000000\" font-family=\"sans-serif\" font-size=\"12\" font-style=\"italic\" lengthAdjust=\"spacingAndGlyphs\" textLength=\"40\" x=\"47\" y=\"301.1387\">«part»</text><text fill=\"#000000\" font-family=\"sans-serif\" font-size=\"12\" lengthAdjust=\"spacingAndGlyphs\" textLength=\"6\" x=\"64\" y=\"315.1074\">y</text><line style=\"stroke: #383838; stroke-width: 1.5;\" x1=\"36.5\" x2=\"97.5\" y1=\"322.9375\" y2=\"322.9375\"/><text fill=\"#000000\" font-family=\"sans-serif\" font-size=\"11\" lengthAdjust=\"spacingAndGlyphs\" textLength=\"23\" x=\"41.5\" y=\"353.9526\">b: B</text><text fill=\"#000000\" font-family=\"sans-serif\" font-size=\"11\" font-style=\"italic\" lengthAdjust=\"spacingAndGlyphs\" textLength=\"44\" x=\"41.5\" y=\"366.7573\">:&gt;&gt;P::a</text><line style=\"stroke: #383838; stroke-width: 1.0;\" x1=\"36.5\" x2=\"39.5\" y1=\"337.3398\" y2=\"337.3398\"/><text fill=\"#000000\" font-family=\"sans-serif\" font-size=\"11\" lengthAdjust=\"spacingAndGlyphs\" textLength=\"55\" x=\"39.5\" y=\"340.6479\">attributes</text><line style=\"stroke: #383838; stroke-width: 1.0;\" x1=\"94.5\" x2=\"97.5\" y1=\"337.3398\" y2=\"337.3398\"/></a><!--MD5=[05d275557350bfb9b23a4ef7222b4c39]\n",
       "link E3 to E2--><a href=\"psysml:0057605f-0b36-40b5-a833-d8040f0d9e74\" target=\"_top\" title=\"psysml:0057605f-0b36-40b5-a833-d8040f0d9e74\" xlink:actuate=\"onRequest\" xlink:href=\"psysml:0057605f-0b36-40b5-a833-d8040f0d9e74\" xlink:show=\"new\" xlink:title=\"psysml:0057605f-0b36-40b5-a833-d8040f0d9e74\" xlink:type=\"simple\"><path d=\"M169.7,201.31 C169.46,219.58 169.1,246.27 168.77,270.44 \" fill=\"none\" id=\"E3-&gt;E2\" style=\"stroke: #383838; stroke-width: 1.0;\"/><polygon fill=\"none\" points=\"175.77,270.86,168.5,290.77,161.77,270.68,175.77,270.86\" style=\"stroke: #383838; stroke-width: 1.0;\"/></a><!--MD5=[15ebcb19ae302d9b601edb458606d402]\n",
       "link E5 to E2--><a href=\"psysml:922ee1f9-edf0-4204-bf0f-0435eb6f66de\" target=\"_top\" title=\"psysml:922ee1f9-edf0-4204-bf0f-0435eb6f66de\" xlink:actuate=\"onRequest\" xlink:href=\"psysml:922ee1f9-edf0-4204-bf0f-0435eb6f66de\" xlink:show=\"new\" xlink:title=\"psysml:922ee1f9-edf0-4204-bf0f-0435eb6f66de\" xlink:type=\"simple\"><path d=\"M255.58,201.31 C242.31,220.5 222.62,248.99 205.27,274.09 \" fill=\"none\" id=\"E5-&gt;E2\" style=\"stroke: #383838; stroke-width: 1.0;\"/><polygon fill=\"none\" points=\"210.87,278.3,193.74,290.77,199.35,270.34,210.87,278.3\" style=\"stroke: #383838; stroke-width: 1.0;\"/></a><!--MD5=[9120cf2e5df3bff93db8f754bbbc09b4]\n",
       "link E5 to E6--><a href=\"psysml:1c0ef759-8c31-4a4a-b0e7-e872c2806a04\" target=\"_top\" title=\"psysml:1c0ef759-8c31-4a4a-b0e7-e872c2806a04\" xlink:actuate=\"onRequest\" xlink:href=\"psysml:1c0ef759-8c31-4a4a-b0e7-e872c2806a04\" xlink:show=\"new\" xlink:title=\"psysml:1c0ef759-8c31-4a4a-b0e7-e872c2806a04\" xlink:type=\"simple\"><path d=\"M270.34,211.55 C269.97,230.03 269.5,253.61 269.07,274.71 \" fill=\"none\" id=\"E5-E6\" style=\"stroke: #383838; stroke-width: 1.0;\"/><polygon fill=\"#383838\" points=\"268.87,284.84,272.0294,276.9016,266.0306,276.7816,268.87,284.84\" style=\"stroke: #383838; stroke-width: 1.0;\"/><path d=\"M262.0288,204.2063 A9,9 0 0 0 278.9393 204.5687\" fill=\"none\" style=\"stroke: #383838; stroke-width: 1.5;\"/><text fill=\"#000000\" font-family=\"sans-serif\" font-size=\"13\" lengthAdjust=\"spacingAndGlyphs\" textLength=\"60\" x=\"270\" y=\"251.0669\">«variant»</text></a><!--MD5=[14ccda38c055a5c0da953d572bc50960]\n",
       "link E7 to E3--><a href=\"psysml:6aa04dcc-8d2e-4853-a2ca-5b94913b0044\" target=\"_top\" title=\"psysml:6aa04dcc-8d2e-4853-a2ca-5b94913b0044\" xlink:actuate=\"onRequest\" xlink:href=\"psysml:6aa04dcc-8d2e-4853-a2ca-5b94913b0044\" xlink:show=\"new\" xlink:title=\"psysml:6aa04dcc-8d2e-4853-a2ca-5b94913b0044\" xlink:type=\"simple\"><path d=\"M155.56,87.13 C157.75,100.78 160.64,118.74 163.25,135 \" fill=\"none\" id=\"E7-&gt;E3\" style=\"stroke: #383838; stroke-width: 1.0;\"/><polygon fill=\"#FFFFFF\" points=\"166.45,154.92,156.5251,137.2707,170.3479,135.0503,166.45,154.92\" style=\"stroke: #383838; stroke-width: 1.0;\"/><ellipse cx=\"157.5958\" cy=\"131.3257\" fill=\"#383838\" rx=\"2\" ry=\"2\" style=\"stroke: #383838; stroke-width: 1.0;\"/><ellipse cx=\"167.4692\" cy=\"129.7396\" fill=\"#383838\" rx=\"2\" ry=\"2\" style=\"stroke: #383838; stroke-width: 1.0;\"/></a><!--MD5=[f1f3f9f2fc535e6147756cb86a7f2e32]\n",
       "link E8 to E2--><a href=\"psysml:62998d3a-e41b-4231-af2c-a0f2b465e4e7\" target=\"_top\" title=\"psysml:62998d3a-e41b-4231-af2c-a0f2b465e4e7\" xlink:actuate=\"onRequest\" xlink:href=\"psysml:62998d3a-e41b-4231-af2c-a0f2b465e4e7\" xlink:show=\"new\" xlink:title=\"psysml:62998d3a-e41b-4231-af2c-a0f2b465e4e7\" xlink:type=\"simple\"><path d=\"M102.2,202.57 C114.6,212.31 127.74,224.5 137,238 C143.95,248.13 149.47,259.96 153.82,271.65 \" fill=\"none\" id=\"E8-&gt;E2\" style=\"stroke: #383838; stroke-width: 1.0;\"/><polygon fill=\"#FFFFFF\" points=\"160.05,290.88,147.5299,274.9663,160.847,270.6472,160.05,290.88\" style=\"stroke: #383838; stroke-width: 1.0;\"/><ellipse cx=\"147.6738\" cy=\"268.9273\" fill=\"#383838\" rx=\"2\" ry=\"2\" style=\"stroke: #383838; stroke-width: 1.0;\"/><ellipse cx=\"157.186\" cy=\"265.8423\" fill=\"#383838\" rx=\"2\" ry=\"2\" style=\"stroke: #383838; stroke-width: 1.0;\"/></a><!--MD5=[ed10624c06dd9a4fa49ccf290e8b16a8]\n",
       "link E8 to E9--><a href=\"psysml:196bced0-9581-41ba-9556-fc72f0b07990\" target=\"_top\" title=\"psysml:196bced0-9581-41ba-9556-fc72f0b07990\" xlink:actuate=\"onRequest\" xlink:href=\"psysml:196bced0-9581-41ba-9556-fc72f0b07990\" xlink:show=\"new\" xlink:title=\"psysml:196bced0-9581-41ba-9556-fc72f0b07990\" xlink:type=\"simple\"><path d=\"M67,218.32 C67,235.6 67,256.15 67,274.77 \" fill=\"none\" id=\"E8-E9\" style=\"stroke: #383838; stroke-width: 1.0;\"/><polygon fill=\"#383838\" points=\"67,284.88,70,276.88,64,276.88,67,284.88\" style=\"stroke: #383838; stroke-width: 1.0;\"/><path d=\"M58.5428,211.1582 A9,9 0 0 0 75.4572 211.1582\" fill=\"none\" style=\"stroke: #383838; stroke-width: 1.5;\"/><text fill=\"#000000\" font-family=\"sans-serif\" font-size=\"13\" lengthAdjust=\"spacingAndGlyphs\" textLength=\"60\" x=\"68\" y=\"251.0669\">«variant»</text></a><!--MD5=[712623f70ad3e6c92407a6ae434c622f]\n",
       "@startuml\r\n",
       "skinparam monochrome true\r\n",
       "skinparam classbackgroundcolor white\r\n",
       "skinparam shadowing false\r\n",
       "skinparam wrapWidth 300\r\n",
       "hide circle\r\n",
       "\r\n",
       "package \"VariabilityTest\" as E1  [[psysml:fc405a6c-3061-4540-9673-8b8e766ba6ac ]]  {\r\n",
       "comp def \"P\" as E2  <<(T,blue)part def>> [[psysml:dc902210-e855-46b4-a2dd-8255fef19514 ]] {\r\n",
       "- - attributes - -\r\n",
       "a\r\n",
       "}\r\n",
       "comp def \"Q\" as E3  <<(T,blue)part def>> [[psysml:b52c8837-30af-42aa-bc51-100eaed5de80 ]] {\r\n",
       "}\r\n",
       "comp def \"B\" as E4  <<(T,blue)attribute def>> [[psysml:f17815b8-46c4-4dd9-bf70-524ba6c03f24 ]] {\r\n",
       "}\r\n",
       "comp def \"V\" as E5  <<(T,blue)part def>> [[psysml:b1ebe526-c40e-4c8f-ae74-16f7fcd1bdc9 ]] {\r\n",
       "}\r\n",
       "comp usage \"x: Q\" as E6  <<(T,blue)part>> [[psysml:05419eac-6c2b-46e9-bd3b-b31f448a077a ]] {\r\n",
       "- - attributes - -\r\n",
       "b: B\\n//:>>P::a// \r\n",
       "}\r\n",
       "comp usage \"q: Q\" as E7  <<(T,blue)part>> [[psysml:bd66bfa4-4cf8-4e62-98d6-c8549fcb8467 ]] {\r\n",
       "}\r\n",
       "comp usage \"v: P\" as E8  <<variation>>\\n <<(T,blue)part>> [[psysml:d11ba367-2498-4d3b-bf9a-6df5f0bc7068 ]] {\r\n",
       "}\r\n",
       "comp usage \"y\" as E9  <<(T,blue)part>> [[psysml:72597939-8390-466d-9479-39928477d122 ]] {\r\n",
       "- - attributes - -\r\n",
       "b: B\\n//:>>P::a// \r\n",
       "}\r\n",
       "E3 - -|> E2 [[psysml:0057605f-0b36-40b5-a833-d8040f0d9e74 ]] \r\n",
       "E5 - -|> E2 [[psysml:922ee1f9-edf0-4204-bf0f-0435eb6f66de ]] \r\n",
       "E5 )- ->> E6 [[psysml:1c0ef759-8c31-4a4a-b0e7-e872c2806a04 ]] : <<variant>>\r\n",
       "E7 - -:|> E3 [[psysml:6aa04dcc-8d2e-4853-a2ca-5b94913b0044 ]] \r\n",
       "E8 - -:|> E2 [[psysml:62998d3a-e41b-4231-af2c-a0f2b465e4e7 ]] \r\n",
       "E8 )- ->> E9 [[psysml:196bced0-9581-41ba-9556-fc72f0b07990 ]] : <<variant>>\r\n",
       "}\r\n",
       "@enduml\r\n",
       "\n",
       "PlantUML version 1.2020.13(Sat Jun 13 12:26:38 UTC 2020)\n",
       "(EPL source distribution)\n",
       "Java Runtime: OpenJDK Runtime Environment\n",
       "JVM: OpenJDK 64-Bit Server VM\n",
       "Default Encoding: UTF-8\n",
       "Language: en\n",
       "Country: null\n",
       "--></g></svg>"
      ]
     },
     "execution_count": 43,
     "metadata": {},
     "output_type": "execute_result"
    }
   ],
   "source": [
    "%viz --style=\"DEFAULT\" --view=\"MIXED\" \"VariabilityTest\""
   ]
  },
  {
   "cell_type": "code",
   "execution_count": 44,
   "id": "indie-package",
   "metadata": {
    "execution": {
     "iopub.execute_input": "2021-03-25T15:07:48.205036Z",
     "iopub.status.busy": "2021-03-25T15:07:48.204312Z",
     "iopub.status.idle": "2021-03-25T15:07:48.643562Z",
     "shell.execute_reply": "2021-03-25T15:07:48.642177Z"
    }
   },
   "outputs": [
    {
     "data": {
      "image/svg+xml": [
       "<?xml version=\"1.0\" encoding=\"UTF-8\" standalone=\"no\"?><svg xmlns=\"http://www.w3.org/2000/svg\" xmlns:xlink=\"http://www.w3.org/1999/xlink\" contentScriptType=\"application/ecmascript\" contentStyleType=\"text/css\" height=\"401px\" preserveAspectRatio=\"none\" style=\"width:342px;height:401px;\" version=\"1.1\" viewBox=\"0 0 342 401\" width=\"342px\" zoomAndPan=\"magnify\"><defs/><g><!--MD5=[fbc87193dbaf4d95561dea2c320d4a47]\n",
       "cluster E1--><a href=\"psysml:fc405a6c-3061-4540-9673-8b8e766ba6ac\" target=\"_top\" title=\"psysml:fc405a6c-3061-4540-9673-8b8e766ba6ac\" xlink:actuate=\"onRequest\" xlink:href=\"psysml:fc405a6c-3061-4540-9673-8b8e766ba6ac\" xlink:show=\"new\" xlink:title=\"psysml:fc405a6c-3061-4540-9673-8b8e766ba6ac\" xlink:type=\"simple\"><polygon fill=\"#FFFFFF\" points=\"16,6,134,6,141,28.2969,320,28.2969,320,389,16,389,16,6\" style=\"stroke: #000000; stroke-width: 1.5;\"/><line style=\"stroke: #000000; stroke-width: 1.5;\" x1=\"16\" x2=\"141\" y1=\"28.2969\" y2=\"28.2969\"/><text fill=\"#000000\" font-family=\"sans-serif\" font-size=\"14\" font-weight=\"bold\" lengthAdjust=\"spacingAndGlyphs\" textLength=\"112\" x=\"20\" y=\"20.9951\">VariabilityTest</text></a><!--MD5=[b4997ac47864f28c2f74865a473b2911]\n",
       "class E2--><a href=\"psysml:dc902210-e855-46b4-a2dd-8255fef19514\" target=\"_top\" title=\"psysml:dc902210-e855-46b4-a2dd-8255fef19514\" xlink:actuate=\"onRequest\" xlink:href=\"psysml:dc902210-e855-46b4-a2dd-8255fef19514\" xlink:show=\"new\" xlink:title=\"psysml:dc902210-e855-46b4-a2dd-8255fef19514\" xlink:type=\"simple\"><rect fill=\"#FFFFFF\" height=\"75.5469\" id=\"E2\" style=\"stroke: #383838; stroke-width: 1.5;\" width=\"66\" x=\"135\" y=\"291\"/><text fill=\"#000000\" font-family=\"sans-serif\" font-size=\"12\" font-style=\"italic\" lengthAdjust=\"spacingAndGlyphs\" textLength=\"64\" x=\"136\" y=\"307.1387\">«part def»</text><text fill=\"#000000\" font-family=\"sans-serif\" font-size=\"12\" lengthAdjust=\"spacingAndGlyphs\" textLength=\"8\" x=\"164\" y=\"321.1074\">P</text><line style=\"stroke: #383838; stroke-width: 1.5;\" x1=\"136\" x2=\"200\" y1=\"328.9375\" y2=\"328.9375\"/><text fill=\"#000000\" font-family=\"sans-serif\" font-size=\"11\" lengthAdjust=\"spacingAndGlyphs\" textLength=\"7\" x=\"141\" y=\"359.9526\">a</text><line style=\"stroke: #383838; stroke-width: 1.0;\" x1=\"136\" x2=\"140.5\" y1=\"343.3398\" y2=\"343.3398\"/><text fill=\"#000000\" font-family=\"sans-serif\" font-size=\"11\" lengthAdjust=\"spacingAndGlyphs\" textLength=\"55\" x=\"140.5\" y=\"346.6479\">attributes</text><line style=\"stroke: #383838; stroke-width: 1.0;\" x1=\"195.5\" x2=\"200\" y1=\"343.3398\" y2=\"343.3398\"/></a><!--MD5=[09b614a08d8cba4a07c9adeb5e0fee81]\n",
       "class E3--><a href=\"psysml:b52c8837-30af-42aa-bc51-100eaed5de80\" target=\"_top\" title=\"psysml:b52c8837-30af-42aa-bc51-100eaed5de80\" xlink:actuate=\"onRequest\" xlink:href=\"psysml:b52c8837-30af-42aa-bc51-100eaed5de80\" xlink:show=\"new\" xlink:title=\"psysml:b52c8837-30af-42aa-bc51-100eaed5de80\" xlink:type=\"simple\"><rect fill=\"#FFFFFF\" height=\"45.9375\" id=\"E3\" style=\"stroke: #383838; stroke-width: 1.5;\" width=\"66\" x=\"137\" y=\"155\"/><text fill=\"#000000\" font-family=\"sans-serif\" font-size=\"12\" font-style=\"italic\" lengthAdjust=\"spacingAndGlyphs\" textLength=\"64\" x=\"138\" y=\"171.1387\">«part def»</text><text fill=\"#000000\" font-family=\"sans-serif\" font-size=\"12\" lengthAdjust=\"spacingAndGlyphs\" textLength=\"9\" x=\"165.5\" y=\"185.1074\">Q</text><line style=\"stroke: #383838; stroke-width: 1.5;\" x1=\"138\" x2=\"202\" y1=\"192.9375\" y2=\"192.9375\"/></a><!--MD5=[ebbe1d658d1005bcc118a6aa81145e00]\n",
       "class E4--><a href=\"psysml:f17815b8-46c4-4dd9-bf70-524ba6c03f24\" target=\"_top\" title=\"psysml:f17815b8-46c4-4dd9-bf70-524ba6c03f24\" xlink:actuate=\"onRequest\" xlink:href=\"psysml:f17815b8-46c4-4dd9-bf70-524ba6c03f24\" xlink:show=\"new\" xlink:title=\"psysml:f17815b8-46c4-4dd9-bf70-524ba6c03f24\" xlink:type=\"simple\"><rect fill=\"#FFFFFF\" height=\"45.9375\" id=\"E4\" style=\"stroke: #383838; stroke-width: 1.5;\" width=\"95\" x=\"208.5\" y=\"41\"/><text fill=\"#000000\" font-family=\"sans-serif\" font-size=\"12\" font-style=\"italic\" lengthAdjust=\"spacingAndGlyphs\" textLength=\"93\" x=\"209.5\" y=\"57.1387\">«attribute def»</text><text fill=\"#000000\" font-family=\"sans-serif\" font-size=\"12\" lengthAdjust=\"spacingAndGlyphs\" textLength=\"8\" x=\"252\" y=\"71.1074\">B</text><line style=\"stroke: #383838; stroke-width: 1.5;\" x1=\"209.5\" x2=\"302.5\" y1=\"78.9375\" y2=\"78.9375\"/></a><!--MD5=[270fce915f116d4de14055a7c1d9a0f3]\n",
       "class E5--><a href=\"psysml:b1ebe526-c40e-4c8f-ae74-16f7fcd1bdc9\" target=\"_top\" title=\"psysml:b1ebe526-c40e-4c8f-ae74-16f7fcd1bdc9\" xlink:actuate=\"onRequest\" xlink:href=\"psysml:b1ebe526-c40e-4c8f-ae74-16f7fcd1bdc9\" xlink:show=\"new\" xlink:title=\"psysml:b1ebe526-c40e-4c8f-ae74-16f7fcd1bdc9\" xlink:type=\"simple\"><rect fill=\"#FFFFFF\" height=\"45.9375\" id=\"E5\" style=\"stroke: #383838; stroke-width: 1.5;\" width=\"66\" x=\"238\" y=\"155\"/><text fill=\"#000000\" font-family=\"sans-serif\" font-size=\"12\" font-style=\"italic\" lengthAdjust=\"spacingAndGlyphs\" textLength=\"64\" x=\"239\" y=\"171.1387\">«part def»</text><text fill=\"#000000\" font-family=\"sans-serif\" font-size=\"12\" lengthAdjust=\"spacingAndGlyphs\" textLength=\"8\" x=\"267\" y=\"185.1074\">V</text><line style=\"stroke: #383838; stroke-width: 1.5;\" x1=\"239\" x2=\"303\" y1=\"192.9375\" y2=\"192.9375\"/></a><!--MD5=[60a26617385b1d2d0262a64233df1f8d]\n",
       "class E6--><a href=\"psysml:05419eac-6c2b-46e9-bd3b-b31f448a077a\" target=\"_top\" title=\"psysml:05419eac-6c2b-46e9-bd3b-b31f448a077a\" xlink:actuate=\"onRequest\" xlink:href=\"psysml:05419eac-6c2b-46e9-bd3b-b31f448a077a\" xlink:show=\"new\" xlink:title=\"psysml:05419eac-6c2b-46e9-bd3b-b31f448a077a\" xlink:type=\"simple\"><rect fill=\"#FFFFFF\" height=\"88.3516\" id=\"E6\" rx=\"10\" ry=\"10\" style=\"stroke: #383838; stroke-width: 1.5;\" width=\"63\" x=\"236.5\" y=\"285\"/><text fill=\"#000000\" font-family=\"sans-serif\" font-size=\"12\" font-style=\"italic\" lengthAdjust=\"spacingAndGlyphs\" textLength=\"40\" x=\"248\" y=\"301.1387\">«part»</text><text fill=\"#000000\" font-family=\"sans-serif\" font-size=\"12\" lengthAdjust=\"spacingAndGlyphs\" textLength=\"23\" x=\"256.5\" y=\"315.1074\">x: Q</text><line style=\"stroke: #383838; stroke-width: 1.5;\" x1=\"237.5\" x2=\"298.5\" y1=\"322.9375\" y2=\"322.9375\"/><text fill=\"#000000\" font-family=\"sans-serif\" font-size=\"11\" lengthAdjust=\"spacingAndGlyphs\" textLength=\"23\" x=\"242.5\" y=\"353.9526\">b: B</text><text fill=\"#000000\" font-family=\"sans-serif\" font-size=\"11\" font-style=\"italic\" lengthAdjust=\"spacingAndGlyphs\" textLength=\"44\" x=\"242.5\" y=\"366.7573\">:&gt;&gt;P::a</text><line style=\"stroke: #383838; stroke-width: 1.0;\" x1=\"237.5\" x2=\"240.5\" y1=\"337.3398\" y2=\"337.3398\"/><text fill=\"#000000\" font-family=\"sans-serif\" font-size=\"11\" lengthAdjust=\"spacingAndGlyphs\" textLength=\"55\" x=\"240.5\" y=\"340.6479\">attributes</text><line style=\"stroke: #383838; stroke-width: 1.0;\" x1=\"295.5\" x2=\"298.5\" y1=\"337.3398\" y2=\"337.3398\"/></a><!--MD5=[2156ba9850f5573cc1fc38a6a4b2f02b]\n",
       "class E7--><a href=\"psysml:bd66bfa4-4cf8-4e62-98d6-c8549fcb8467\" target=\"_top\" title=\"psysml:bd66bfa4-4cf8-4e62-98d6-c8549fcb8467\" xlink:actuate=\"onRequest\" xlink:href=\"psysml:bd66bfa4-4cf8-4e62-98d6-c8549fcb8467\" xlink:show=\"new\" xlink:title=\"psysml:bd66bfa4-4cf8-4e62-98d6-c8549fcb8467\" xlink:type=\"simple\"><rect fill=\"#FFFFFF\" height=\"45.9375\" id=\"E7\" rx=\"10\" ry=\"10\" style=\"stroke: #383838; stroke-width: 1.5;\" width=\"42\" x=\"131\" y=\"41\"/><text fill=\"#000000\" font-family=\"sans-serif\" font-size=\"12\" font-style=\"italic\" lengthAdjust=\"spacingAndGlyphs\" textLength=\"40\" x=\"132\" y=\"57.1387\">«part»</text><text fill=\"#000000\" font-family=\"sans-serif\" font-size=\"12\" lengthAdjust=\"spacingAndGlyphs\" textLength=\"25\" x=\"139.5\" y=\"71.1074\">q: Q</text><line style=\"stroke: #383838; stroke-width: 1.5;\" x1=\"132\" x2=\"172\" y1=\"78.9375\" y2=\"78.9375\"/></a><!--MD5=[b9389687b975829384b498ac4b7476b2]\n",
       "class E8--><a href=\"psysml:d11ba367-2498-4d3b-bf9a-6df5f0bc7068\" target=\"_top\" title=\"psysml:d11ba367-2498-4d3b-bf9a-6df5f0bc7068\" xlink:actuate=\"onRequest\" xlink:href=\"psysml:d11ba367-2498-4d3b-bf9a-6df5f0bc7068\" xlink:show=\"new\" xlink:title=\"psysml:d11ba367-2498-4d3b-bf9a-6df5f0bc7068\" xlink:type=\"simple\"><rect fill=\"#FFFFFF\" height=\"59.9063\" id=\"E8\" rx=\"10\" ry=\"10\" style=\"stroke: #383838; stroke-width: 1.5;\" width=\"70\" x=\"32\" y=\"148\"/><text fill=\"#000000\" font-family=\"sans-serif\" font-size=\"12\" font-style=\"italic\" lengthAdjust=\"spacingAndGlyphs\" textLength=\"68\" x=\"33\" y=\"164.1387\">«variation»</text><text fill=\"#000000\" font-family=\"sans-serif\" font-size=\"12\" font-style=\"italic\" lengthAdjust=\"spacingAndGlyphs\" textLength=\"40\" x=\"47\" y=\"178.1074\">«part»</text><text fill=\"#000000\" font-family=\"sans-serif\" font-size=\"12\" lengthAdjust=\"spacingAndGlyphs\" textLength=\"22\" x=\"56\" y=\"192.0762\">v: P</text><line style=\"stroke: #383838; stroke-width: 1.5;\" x1=\"33\" x2=\"101\" y1=\"199.9063\" y2=\"199.9063\"/></a><!--MD5=[fd4143e9d270a159db93a4ea2a975926]\n",
       "class E9--><a href=\"psysml:72597939-8390-466d-9479-39928477d122\" target=\"_top\" title=\"psysml:72597939-8390-466d-9479-39928477d122\" xlink:actuate=\"onRequest\" xlink:href=\"psysml:72597939-8390-466d-9479-39928477d122\" xlink:show=\"new\" xlink:title=\"psysml:72597939-8390-466d-9479-39928477d122\" xlink:type=\"simple\"><rect fill=\"#FFFFFF\" height=\"88.3516\" id=\"E9\" rx=\"10\" ry=\"10\" style=\"stroke: #383838; stroke-width: 1.5;\" width=\"63\" x=\"35.5\" y=\"285\"/><text fill=\"#000000\" font-family=\"sans-serif\" font-size=\"12\" font-style=\"italic\" lengthAdjust=\"spacingAndGlyphs\" textLength=\"40\" x=\"47\" y=\"301.1387\">«part»</text><text fill=\"#000000\" font-family=\"sans-serif\" font-size=\"12\" lengthAdjust=\"spacingAndGlyphs\" textLength=\"6\" x=\"64\" y=\"315.1074\">y</text><line style=\"stroke: #383838; stroke-width: 1.5;\" x1=\"36.5\" x2=\"97.5\" y1=\"322.9375\" y2=\"322.9375\"/><text fill=\"#000000\" font-family=\"sans-serif\" font-size=\"11\" lengthAdjust=\"spacingAndGlyphs\" textLength=\"23\" x=\"41.5\" y=\"353.9526\">b: B</text><text fill=\"#000000\" font-family=\"sans-serif\" font-size=\"11\" font-style=\"italic\" lengthAdjust=\"spacingAndGlyphs\" textLength=\"44\" x=\"41.5\" y=\"366.7573\">:&gt;&gt;P::a</text><line style=\"stroke: #383838; stroke-width: 1.0;\" x1=\"36.5\" x2=\"39.5\" y1=\"337.3398\" y2=\"337.3398\"/><text fill=\"#000000\" font-family=\"sans-serif\" font-size=\"11\" lengthAdjust=\"spacingAndGlyphs\" textLength=\"55\" x=\"39.5\" y=\"340.6479\">attributes</text><line style=\"stroke: #383838; stroke-width: 1.0;\" x1=\"94.5\" x2=\"97.5\" y1=\"337.3398\" y2=\"337.3398\"/></a><!--MD5=[05d275557350bfb9b23a4ef7222b4c39]\n",
       "link E3 to E2--><a href=\"psysml:0057605f-0b36-40b5-a833-d8040f0d9e74\" target=\"_top\" title=\"psysml:0057605f-0b36-40b5-a833-d8040f0d9e74\" xlink:actuate=\"onRequest\" xlink:href=\"psysml:0057605f-0b36-40b5-a833-d8040f0d9e74\" xlink:show=\"new\" xlink:title=\"psysml:0057605f-0b36-40b5-a833-d8040f0d9e74\" xlink:type=\"simple\"><path d=\"M169.7,201.31 C169.46,219.58 169.1,246.27 168.77,270.44 \" fill=\"none\" id=\"E3-&gt;E2\" style=\"stroke: #383838; stroke-width: 1.0;\"/><polygon fill=\"none\" points=\"175.77,270.86,168.5,290.77,161.77,270.68,175.77,270.86\" style=\"stroke: #383838; stroke-width: 1.0;\"/></a><!--MD5=[15ebcb19ae302d9b601edb458606d402]\n",
       "link E5 to E2--><a href=\"psysml:922ee1f9-edf0-4204-bf0f-0435eb6f66de\" target=\"_top\" title=\"psysml:922ee1f9-edf0-4204-bf0f-0435eb6f66de\" xlink:actuate=\"onRequest\" xlink:href=\"psysml:922ee1f9-edf0-4204-bf0f-0435eb6f66de\" xlink:show=\"new\" xlink:title=\"psysml:922ee1f9-edf0-4204-bf0f-0435eb6f66de\" xlink:type=\"simple\"><path d=\"M255.58,201.31 C242.31,220.5 222.62,248.99 205.27,274.09 \" fill=\"none\" id=\"E5-&gt;E2\" style=\"stroke: #383838; stroke-width: 1.0;\"/><polygon fill=\"none\" points=\"210.87,278.3,193.74,290.77,199.35,270.34,210.87,278.3\" style=\"stroke: #383838; stroke-width: 1.0;\"/></a><!--MD5=[9120cf2e5df3bff93db8f754bbbc09b4]\n",
       "link E5 to E6--><a href=\"psysml:1c0ef759-8c31-4a4a-b0e7-e872c2806a04\" target=\"_top\" title=\"psysml:1c0ef759-8c31-4a4a-b0e7-e872c2806a04\" xlink:actuate=\"onRequest\" xlink:href=\"psysml:1c0ef759-8c31-4a4a-b0e7-e872c2806a04\" xlink:show=\"new\" xlink:title=\"psysml:1c0ef759-8c31-4a4a-b0e7-e872c2806a04\" xlink:type=\"simple\"><path d=\"M270.34,211.55 C269.97,230.03 269.5,253.61 269.07,274.71 \" fill=\"none\" id=\"E5-E6\" style=\"stroke: #383838; stroke-width: 1.0;\"/><polygon fill=\"#383838\" points=\"268.87,284.84,272.0294,276.9016,266.0306,276.7816,268.87,284.84\" style=\"stroke: #383838; stroke-width: 1.0;\"/><path d=\"M262.0288,204.2063 A9,9 0 0 0 278.9393 204.5687\" fill=\"none\" style=\"stroke: #383838; stroke-width: 1.5;\"/><text fill=\"#000000\" font-family=\"sans-serif\" font-size=\"13\" lengthAdjust=\"spacingAndGlyphs\" textLength=\"60\" x=\"270\" y=\"251.0669\">«variant»</text></a><!--MD5=[14ccda38c055a5c0da953d572bc50960]\n",
       "link E7 to E3--><a href=\"psysml:6aa04dcc-8d2e-4853-a2ca-5b94913b0044\" target=\"_top\" title=\"psysml:6aa04dcc-8d2e-4853-a2ca-5b94913b0044\" xlink:actuate=\"onRequest\" xlink:href=\"psysml:6aa04dcc-8d2e-4853-a2ca-5b94913b0044\" xlink:show=\"new\" xlink:title=\"psysml:6aa04dcc-8d2e-4853-a2ca-5b94913b0044\" xlink:type=\"simple\"><path d=\"M155.56,87.13 C157.75,100.78 160.64,118.74 163.25,135 \" fill=\"none\" id=\"E7-&gt;E3\" style=\"stroke: #383838; stroke-width: 1.0;\"/><polygon fill=\"#FFFFFF\" points=\"166.45,154.92,156.5251,137.2707,170.3479,135.0503,166.45,154.92\" style=\"stroke: #383838; stroke-width: 1.0;\"/><ellipse cx=\"157.5958\" cy=\"131.3257\" fill=\"#383838\" rx=\"2\" ry=\"2\" style=\"stroke: #383838; stroke-width: 1.0;\"/><ellipse cx=\"167.4692\" cy=\"129.7396\" fill=\"#383838\" rx=\"2\" ry=\"2\" style=\"stroke: #383838; stroke-width: 1.0;\"/></a><!--MD5=[f1f3f9f2fc535e6147756cb86a7f2e32]\n",
       "link E8 to E2--><a href=\"psysml:62998d3a-e41b-4231-af2c-a0f2b465e4e7\" target=\"_top\" title=\"psysml:62998d3a-e41b-4231-af2c-a0f2b465e4e7\" xlink:actuate=\"onRequest\" xlink:href=\"psysml:62998d3a-e41b-4231-af2c-a0f2b465e4e7\" xlink:show=\"new\" xlink:title=\"psysml:62998d3a-e41b-4231-af2c-a0f2b465e4e7\" xlink:type=\"simple\"><path d=\"M102.2,202.57 C114.6,212.31 127.74,224.5 137,238 C143.95,248.13 149.47,259.96 153.82,271.65 \" fill=\"none\" id=\"E8-&gt;E2\" style=\"stroke: #383838; stroke-width: 1.0;\"/><polygon fill=\"#FFFFFF\" points=\"160.05,290.88,147.5299,274.9663,160.847,270.6472,160.05,290.88\" style=\"stroke: #383838; stroke-width: 1.0;\"/><ellipse cx=\"147.6738\" cy=\"268.9273\" fill=\"#383838\" rx=\"2\" ry=\"2\" style=\"stroke: #383838; stroke-width: 1.0;\"/><ellipse cx=\"157.186\" cy=\"265.8423\" fill=\"#383838\" rx=\"2\" ry=\"2\" style=\"stroke: #383838; stroke-width: 1.0;\"/></a><!--MD5=[ed10624c06dd9a4fa49ccf290e8b16a8]\n",
       "link E8 to E9--><a href=\"psysml:196bced0-9581-41ba-9556-fc72f0b07990\" target=\"_top\" title=\"psysml:196bced0-9581-41ba-9556-fc72f0b07990\" xlink:actuate=\"onRequest\" xlink:href=\"psysml:196bced0-9581-41ba-9556-fc72f0b07990\" xlink:show=\"new\" xlink:title=\"psysml:196bced0-9581-41ba-9556-fc72f0b07990\" xlink:type=\"simple\"><path d=\"M67,218.32 C67,235.6 67,256.15 67,274.77 \" fill=\"none\" id=\"E8-E9\" style=\"stroke: #383838; stroke-width: 1.0;\"/><polygon fill=\"#383838\" points=\"67,284.88,70,276.88,64,276.88,67,284.88\" style=\"stroke: #383838; stroke-width: 1.0;\"/><path d=\"M58.5428,211.1582 A9,9 0 0 0 75.4572 211.1582\" fill=\"none\" style=\"stroke: #383838; stroke-width: 1.5;\"/><text fill=\"#000000\" font-family=\"sans-serif\" font-size=\"13\" lengthAdjust=\"spacingAndGlyphs\" textLength=\"60\" x=\"68\" y=\"251.0669\">«variant»</text></a><!--MD5=[deb19a83c1cf1a5e50cbe527fccc5512]\n",
       "@startuml\r\n",
       "top to bottom direction\r\n",
       "skinparam monochrome true\r\n",
       "skinparam classbackgroundcolor white\r\n",
       "skinparam shadowing false\r\n",
       "skinparam wrapWidth 300\r\n",
       "hide circle\r\n",
       "\r\n",
       "package \"VariabilityTest\" as E1  [[psysml:fc405a6c-3061-4540-9673-8b8e766ba6ac ]]  {\r\n",
       "comp def \"P\" as E2  <<(T,blue)part def>> [[psysml:dc902210-e855-46b4-a2dd-8255fef19514 ]] {\r\n",
       "- - attributes - -\r\n",
       "a\r\n",
       "}\r\n",
       "comp def \"Q\" as E3  <<(T,blue)part def>> [[psysml:b52c8837-30af-42aa-bc51-100eaed5de80 ]] {\r\n",
       "}\r\n",
       "comp def \"B\" as E4  <<(T,blue)attribute def>> [[psysml:f17815b8-46c4-4dd9-bf70-524ba6c03f24 ]] {\r\n",
       "}\r\n",
       "comp def \"V\" as E5  <<(T,blue)part def>> [[psysml:b1ebe526-c40e-4c8f-ae74-16f7fcd1bdc9 ]] {\r\n",
       "}\r\n",
       "comp usage \"x: Q\" as E6  <<(T,blue)part>> [[psysml:05419eac-6c2b-46e9-bd3b-b31f448a077a ]] {\r\n",
       "- - attributes - -\r\n",
       "b: B\\n//:>>P::a// \r\n",
       "}\r\n",
       "comp usage \"q: Q\" as E7  <<(T,blue)part>> [[psysml:bd66bfa4-4cf8-4e62-98d6-c8549fcb8467 ]] {\r\n",
       "}\r\n",
       "comp usage \"v: P\" as E8  <<variation>>\\n <<(T,blue)part>> [[psysml:d11ba367-2498-4d3b-bf9a-6df5f0bc7068 ]] {\r\n",
       "}\r\n",
       "comp usage \"y\" as E9  <<(T,blue)part>> [[psysml:72597939-8390-466d-9479-39928477d122 ]] {\r\n",
       "- - attributes - -\r\n",
       "b: B\\n//:>>P::a// \r\n",
       "}\r\n",
       "E3 - -|> E2 [[psysml:0057605f-0b36-40b5-a833-d8040f0d9e74 ]] \r\n",
       "E5 - -|> E2 [[psysml:922ee1f9-edf0-4204-bf0f-0435eb6f66de ]] \r\n",
       "E5 )- ->> E6 [[psysml:1c0ef759-8c31-4a4a-b0e7-e872c2806a04 ]] : <<variant>>\r\n",
       "E7 - -:|> E3 [[psysml:6aa04dcc-8d2e-4853-a2ca-5b94913b0044 ]] \r\n",
       "E8 - -:|> E2 [[psysml:62998d3a-e41b-4231-af2c-a0f2b465e4e7 ]] \r\n",
       "E8 )- ->> E9 [[psysml:196bced0-9581-41ba-9556-fc72f0b07990 ]] : <<variant>>\r\n",
       "}\r\n",
       "@enduml\r\n",
       "\n",
       "PlantUML version 1.2020.13(Sat Jun 13 12:26:38 UTC 2020)\n",
       "(EPL source distribution)\n",
       "Java Runtime: OpenJDK Runtime Environment\n",
       "JVM: OpenJDK 64-Bit Server VM\n",
       "Default Encoding: UTF-8\n",
       "Language: en\n",
       "Country: null\n",
       "--></g></svg>"
      ]
     },
     "execution_count": 44,
     "metadata": {},
     "output_type": "execute_result"
    }
   ],
   "source": [
    "%viz --style=\"TB\" --view=\"Default\" \"VariabilityTest\""
   ]
  },
  {
   "cell_type": "code",
   "execution_count": 45,
   "id": "intellectual-fraud",
   "metadata": {
    "execution": {
     "iopub.execute_input": "2021-03-25T15:07:48.696320Z",
     "iopub.status.busy": "2021-03-25T15:07:48.695230Z",
     "iopub.status.idle": "2021-03-25T15:07:49.122462Z",
     "shell.execute_reply": "2021-03-25T15:07:49.121124Z"
    }
   },
   "outputs": [
    {
     "data": {
      "image/svg+xml": [
       "<?xml version=\"1.0\" encoding=\"UTF-8\" standalone=\"no\"?><svg xmlns=\"http://www.w3.org/2000/svg\" xmlns:xlink=\"http://www.w3.org/1999/xlink\" contentScriptType=\"application/ecmascript\" contentStyleType=\"text/css\" height=\"401px\" preserveAspectRatio=\"none\" style=\"width:342px;height:401px;\" version=\"1.1\" viewBox=\"0 0 342 401\" width=\"342px\" zoomAndPan=\"magnify\"><defs/><g><!--MD5=[fbc87193dbaf4d95561dea2c320d4a47]\n",
       "cluster E1--><a href=\"psysml:fc405a6c-3061-4540-9673-8b8e766ba6ac\" target=\"_top\" title=\"psysml:fc405a6c-3061-4540-9673-8b8e766ba6ac\" xlink:actuate=\"onRequest\" xlink:href=\"psysml:fc405a6c-3061-4540-9673-8b8e766ba6ac\" xlink:show=\"new\" xlink:title=\"psysml:fc405a6c-3061-4540-9673-8b8e766ba6ac\" xlink:type=\"simple\"><polygon fill=\"#FFFFFF\" points=\"16,6,134,6,141,28.2969,320,28.2969,320,389,16,389,16,6\" style=\"stroke: #000000; stroke-width: 1.5;\"/><line style=\"stroke: #000000; stroke-width: 1.5;\" x1=\"16\" x2=\"141\" y1=\"28.2969\" y2=\"28.2969\"/><text fill=\"#000000\" font-family=\"sans-serif\" font-size=\"14\" font-weight=\"bold\" lengthAdjust=\"spacingAndGlyphs\" textLength=\"112\" x=\"20\" y=\"20.9951\">VariabilityTest</text></a><!--MD5=[b4997ac47864f28c2f74865a473b2911]\n",
       "class E2--><a href=\"psysml:dc902210-e855-46b4-a2dd-8255fef19514\" target=\"_top\" title=\"psysml:dc902210-e855-46b4-a2dd-8255fef19514\" xlink:actuate=\"onRequest\" xlink:href=\"psysml:dc902210-e855-46b4-a2dd-8255fef19514\" xlink:show=\"new\" xlink:title=\"psysml:dc902210-e855-46b4-a2dd-8255fef19514\" xlink:type=\"simple\"><rect fill=\"#FFFFFF\" height=\"75.5469\" id=\"E2\" style=\"stroke: #383838; stroke-width: 1.5;\" width=\"66\" x=\"135\" y=\"291\"/><text fill=\"#000000\" font-family=\"sans-serif\" font-size=\"12\" font-style=\"italic\" lengthAdjust=\"spacingAndGlyphs\" textLength=\"64\" x=\"136\" y=\"307.1387\">«part def»</text><text fill=\"#000000\" font-family=\"sans-serif\" font-size=\"12\" lengthAdjust=\"spacingAndGlyphs\" textLength=\"8\" x=\"164\" y=\"321.1074\">P</text><line style=\"stroke: #383838; stroke-width: 1.5;\" x1=\"136\" x2=\"200\" y1=\"328.9375\" y2=\"328.9375\"/><text fill=\"#000000\" font-family=\"sans-serif\" font-size=\"11\" lengthAdjust=\"spacingAndGlyphs\" textLength=\"7\" x=\"141\" y=\"359.9526\">a</text><line style=\"stroke: #383838; stroke-width: 1.0;\" x1=\"136\" x2=\"140.5\" y1=\"343.3398\" y2=\"343.3398\"/><text fill=\"#000000\" font-family=\"sans-serif\" font-size=\"11\" lengthAdjust=\"spacingAndGlyphs\" textLength=\"55\" x=\"140.5\" y=\"346.6479\">attributes</text><line style=\"stroke: #383838; stroke-width: 1.0;\" x1=\"195.5\" x2=\"200\" y1=\"343.3398\" y2=\"343.3398\"/></a><!--MD5=[09b614a08d8cba4a07c9adeb5e0fee81]\n",
       "class E3--><a href=\"psysml:b52c8837-30af-42aa-bc51-100eaed5de80\" target=\"_top\" title=\"psysml:b52c8837-30af-42aa-bc51-100eaed5de80\" xlink:actuate=\"onRequest\" xlink:href=\"psysml:b52c8837-30af-42aa-bc51-100eaed5de80\" xlink:show=\"new\" xlink:title=\"psysml:b52c8837-30af-42aa-bc51-100eaed5de80\" xlink:type=\"simple\"><rect fill=\"#FFFFFF\" height=\"45.9375\" id=\"E3\" style=\"stroke: #383838; stroke-width: 1.5;\" width=\"66\" x=\"137\" y=\"155\"/><text fill=\"#000000\" font-family=\"sans-serif\" font-size=\"12\" font-style=\"italic\" lengthAdjust=\"spacingAndGlyphs\" textLength=\"64\" x=\"138\" y=\"171.1387\">«part def»</text><text fill=\"#000000\" font-family=\"sans-serif\" font-size=\"12\" lengthAdjust=\"spacingAndGlyphs\" textLength=\"9\" x=\"165.5\" y=\"185.1074\">Q</text><line style=\"stroke: #383838; stroke-width: 1.5;\" x1=\"138\" x2=\"202\" y1=\"192.9375\" y2=\"192.9375\"/></a><!--MD5=[ebbe1d658d1005bcc118a6aa81145e00]\n",
       "class E4--><a href=\"psysml:f17815b8-46c4-4dd9-bf70-524ba6c03f24\" target=\"_top\" title=\"psysml:f17815b8-46c4-4dd9-bf70-524ba6c03f24\" xlink:actuate=\"onRequest\" xlink:href=\"psysml:f17815b8-46c4-4dd9-bf70-524ba6c03f24\" xlink:show=\"new\" xlink:title=\"psysml:f17815b8-46c4-4dd9-bf70-524ba6c03f24\" xlink:type=\"simple\"><rect fill=\"#FFFFFF\" height=\"45.9375\" id=\"E4\" style=\"stroke: #383838; stroke-width: 1.5;\" width=\"95\" x=\"208.5\" y=\"41\"/><text fill=\"#000000\" font-family=\"sans-serif\" font-size=\"12\" font-style=\"italic\" lengthAdjust=\"spacingAndGlyphs\" textLength=\"93\" x=\"209.5\" y=\"57.1387\">«attribute def»</text><text fill=\"#000000\" font-family=\"sans-serif\" font-size=\"12\" lengthAdjust=\"spacingAndGlyphs\" textLength=\"8\" x=\"252\" y=\"71.1074\">B</text><line style=\"stroke: #383838; stroke-width: 1.5;\" x1=\"209.5\" x2=\"302.5\" y1=\"78.9375\" y2=\"78.9375\"/></a><!--MD5=[270fce915f116d4de14055a7c1d9a0f3]\n",
       "class E5--><a href=\"psysml:b1ebe526-c40e-4c8f-ae74-16f7fcd1bdc9\" target=\"_top\" title=\"psysml:b1ebe526-c40e-4c8f-ae74-16f7fcd1bdc9\" xlink:actuate=\"onRequest\" xlink:href=\"psysml:b1ebe526-c40e-4c8f-ae74-16f7fcd1bdc9\" xlink:show=\"new\" xlink:title=\"psysml:b1ebe526-c40e-4c8f-ae74-16f7fcd1bdc9\" xlink:type=\"simple\"><rect fill=\"#FFFFFF\" height=\"45.9375\" id=\"E5\" style=\"stroke: #383838; stroke-width: 1.5;\" width=\"66\" x=\"238\" y=\"155\"/><text fill=\"#000000\" font-family=\"sans-serif\" font-size=\"12\" font-style=\"italic\" lengthAdjust=\"spacingAndGlyphs\" textLength=\"64\" x=\"239\" y=\"171.1387\">«part def»</text><text fill=\"#000000\" font-family=\"sans-serif\" font-size=\"12\" lengthAdjust=\"spacingAndGlyphs\" textLength=\"8\" x=\"267\" y=\"185.1074\">V</text><line style=\"stroke: #383838; stroke-width: 1.5;\" x1=\"239\" x2=\"303\" y1=\"192.9375\" y2=\"192.9375\"/></a><!--MD5=[60a26617385b1d2d0262a64233df1f8d]\n",
       "class E6--><a href=\"psysml:05419eac-6c2b-46e9-bd3b-b31f448a077a\" target=\"_top\" title=\"psysml:05419eac-6c2b-46e9-bd3b-b31f448a077a\" xlink:actuate=\"onRequest\" xlink:href=\"psysml:05419eac-6c2b-46e9-bd3b-b31f448a077a\" xlink:show=\"new\" xlink:title=\"psysml:05419eac-6c2b-46e9-bd3b-b31f448a077a\" xlink:type=\"simple\"><rect fill=\"#FFFFFF\" height=\"88.3516\" id=\"E6\" rx=\"10\" ry=\"10\" style=\"stroke: #383838; stroke-width: 1.5;\" width=\"63\" x=\"236.5\" y=\"285\"/><text fill=\"#000000\" font-family=\"sans-serif\" font-size=\"12\" font-style=\"italic\" lengthAdjust=\"spacingAndGlyphs\" textLength=\"40\" x=\"248\" y=\"301.1387\">«part»</text><text fill=\"#000000\" font-family=\"sans-serif\" font-size=\"12\" lengthAdjust=\"spacingAndGlyphs\" textLength=\"23\" x=\"256.5\" y=\"315.1074\">x: Q</text><line style=\"stroke: #383838; stroke-width: 1.5;\" x1=\"237.5\" x2=\"298.5\" y1=\"322.9375\" y2=\"322.9375\"/><text fill=\"#000000\" font-family=\"sans-serif\" font-size=\"11\" lengthAdjust=\"spacingAndGlyphs\" textLength=\"23\" x=\"242.5\" y=\"353.9526\">b: B</text><text fill=\"#000000\" font-family=\"sans-serif\" font-size=\"11\" font-style=\"italic\" lengthAdjust=\"spacingAndGlyphs\" textLength=\"44\" x=\"242.5\" y=\"366.7573\">:&gt;&gt;P::a</text><line style=\"stroke: #383838; stroke-width: 1.0;\" x1=\"237.5\" x2=\"240.5\" y1=\"337.3398\" y2=\"337.3398\"/><text fill=\"#000000\" font-family=\"sans-serif\" font-size=\"11\" lengthAdjust=\"spacingAndGlyphs\" textLength=\"55\" x=\"240.5\" y=\"340.6479\">attributes</text><line style=\"stroke: #383838; stroke-width: 1.0;\" x1=\"295.5\" x2=\"298.5\" y1=\"337.3398\" y2=\"337.3398\"/></a><!--MD5=[2156ba9850f5573cc1fc38a6a4b2f02b]\n",
       "class E7--><a href=\"psysml:bd66bfa4-4cf8-4e62-98d6-c8549fcb8467\" target=\"_top\" title=\"psysml:bd66bfa4-4cf8-4e62-98d6-c8549fcb8467\" xlink:actuate=\"onRequest\" xlink:href=\"psysml:bd66bfa4-4cf8-4e62-98d6-c8549fcb8467\" xlink:show=\"new\" xlink:title=\"psysml:bd66bfa4-4cf8-4e62-98d6-c8549fcb8467\" xlink:type=\"simple\"><rect fill=\"#FFFFFF\" height=\"45.9375\" id=\"E7\" rx=\"10\" ry=\"10\" style=\"stroke: #383838; stroke-width: 1.5;\" width=\"42\" x=\"131\" y=\"41\"/><text fill=\"#000000\" font-family=\"sans-serif\" font-size=\"12\" font-style=\"italic\" lengthAdjust=\"spacingAndGlyphs\" textLength=\"40\" x=\"132\" y=\"57.1387\">«part»</text><text fill=\"#000000\" font-family=\"sans-serif\" font-size=\"12\" lengthAdjust=\"spacingAndGlyphs\" textLength=\"25\" x=\"139.5\" y=\"71.1074\">q: Q</text><line style=\"stroke: #383838; stroke-width: 1.5;\" x1=\"132\" x2=\"172\" y1=\"78.9375\" y2=\"78.9375\"/></a><!--MD5=[b9389687b975829384b498ac4b7476b2]\n",
       "class E8--><a href=\"psysml:d11ba367-2498-4d3b-bf9a-6df5f0bc7068\" target=\"_top\" title=\"psysml:d11ba367-2498-4d3b-bf9a-6df5f0bc7068\" xlink:actuate=\"onRequest\" xlink:href=\"psysml:d11ba367-2498-4d3b-bf9a-6df5f0bc7068\" xlink:show=\"new\" xlink:title=\"psysml:d11ba367-2498-4d3b-bf9a-6df5f0bc7068\" xlink:type=\"simple\"><rect fill=\"#FFFFFF\" height=\"59.9063\" id=\"E8\" rx=\"10\" ry=\"10\" style=\"stroke: #383838; stroke-width: 1.5;\" width=\"70\" x=\"32\" y=\"148\"/><text fill=\"#000000\" font-family=\"sans-serif\" font-size=\"12\" font-style=\"italic\" lengthAdjust=\"spacingAndGlyphs\" textLength=\"68\" x=\"33\" y=\"164.1387\">«variation»</text><text fill=\"#000000\" font-family=\"sans-serif\" font-size=\"12\" font-style=\"italic\" lengthAdjust=\"spacingAndGlyphs\" textLength=\"40\" x=\"47\" y=\"178.1074\">«part»</text><text fill=\"#000000\" font-family=\"sans-serif\" font-size=\"12\" lengthAdjust=\"spacingAndGlyphs\" textLength=\"22\" x=\"56\" y=\"192.0762\">v: P</text><line style=\"stroke: #383838; stroke-width: 1.5;\" x1=\"33\" x2=\"101\" y1=\"199.9063\" y2=\"199.9063\"/></a><!--MD5=[fd4143e9d270a159db93a4ea2a975926]\n",
       "class E9--><a href=\"psysml:72597939-8390-466d-9479-39928477d122\" target=\"_top\" title=\"psysml:72597939-8390-466d-9479-39928477d122\" xlink:actuate=\"onRequest\" xlink:href=\"psysml:72597939-8390-466d-9479-39928477d122\" xlink:show=\"new\" xlink:title=\"psysml:72597939-8390-466d-9479-39928477d122\" xlink:type=\"simple\"><rect fill=\"#FFFFFF\" height=\"88.3516\" id=\"E9\" rx=\"10\" ry=\"10\" style=\"stroke: #383838; stroke-width: 1.5;\" width=\"63\" x=\"35.5\" y=\"285\"/><text fill=\"#000000\" font-family=\"sans-serif\" font-size=\"12\" font-style=\"italic\" lengthAdjust=\"spacingAndGlyphs\" textLength=\"40\" x=\"47\" y=\"301.1387\">«part»</text><text fill=\"#000000\" font-family=\"sans-serif\" font-size=\"12\" lengthAdjust=\"spacingAndGlyphs\" textLength=\"6\" x=\"64\" y=\"315.1074\">y</text><line style=\"stroke: #383838; stroke-width: 1.5;\" x1=\"36.5\" x2=\"97.5\" y1=\"322.9375\" y2=\"322.9375\"/><text fill=\"#000000\" font-family=\"sans-serif\" font-size=\"11\" lengthAdjust=\"spacingAndGlyphs\" textLength=\"23\" x=\"41.5\" y=\"353.9526\">b: B</text><text fill=\"#000000\" font-family=\"sans-serif\" font-size=\"11\" font-style=\"italic\" lengthAdjust=\"spacingAndGlyphs\" textLength=\"44\" x=\"41.5\" y=\"366.7573\">:&gt;&gt;P::a</text><line style=\"stroke: #383838; stroke-width: 1.0;\" x1=\"36.5\" x2=\"39.5\" y1=\"337.3398\" y2=\"337.3398\"/><text fill=\"#000000\" font-family=\"sans-serif\" font-size=\"11\" lengthAdjust=\"spacingAndGlyphs\" textLength=\"55\" x=\"39.5\" y=\"340.6479\">attributes</text><line style=\"stroke: #383838; stroke-width: 1.0;\" x1=\"94.5\" x2=\"97.5\" y1=\"337.3398\" y2=\"337.3398\"/></a><!--MD5=[05d275557350bfb9b23a4ef7222b4c39]\n",
       "link E3 to E2--><a href=\"psysml:0057605f-0b36-40b5-a833-d8040f0d9e74\" target=\"_top\" title=\"psysml:0057605f-0b36-40b5-a833-d8040f0d9e74\" xlink:actuate=\"onRequest\" xlink:href=\"psysml:0057605f-0b36-40b5-a833-d8040f0d9e74\" xlink:show=\"new\" xlink:title=\"psysml:0057605f-0b36-40b5-a833-d8040f0d9e74\" xlink:type=\"simple\"><path d=\"M169.7,201.31 C169.46,219.58 169.1,246.27 168.77,270.44 \" fill=\"none\" id=\"E3-&gt;E2\" style=\"stroke: #383838; stroke-width: 1.0;\"/><polygon fill=\"none\" points=\"175.77,270.86,168.5,290.77,161.77,270.68,175.77,270.86\" style=\"stroke: #383838; stroke-width: 1.0;\"/></a><!--MD5=[15ebcb19ae302d9b601edb458606d402]\n",
       "link E5 to E2--><a href=\"psysml:922ee1f9-edf0-4204-bf0f-0435eb6f66de\" target=\"_top\" title=\"psysml:922ee1f9-edf0-4204-bf0f-0435eb6f66de\" xlink:actuate=\"onRequest\" xlink:href=\"psysml:922ee1f9-edf0-4204-bf0f-0435eb6f66de\" xlink:show=\"new\" xlink:title=\"psysml:922ee1f9-edf0-4204-bf0f-0435eb6f66de\" xlink:type=\"simple\"><path d=\"M255.58,201.31 C242.31,220.5 222.62,248.99 205.27,274.09 \" fill=\"none\" id=\"E5-&gt;E2\" style=\"stroke: #383838; stroke-width: 1.0;\"/><polygon fill=\"none\" points=\"210.87,278.3,193.74,290.77,199.35,270.34,210.87,278.3\" style=\"stroke: #383838; stroke-width: 1.0;\"/></a><!--MD5=[9120cf2e5df3bff93db8f754bbbc09b4]\n",
       "link E5 to E6--><a href=\"psysml:1c0ef759-8c31-4a4a-b0e7-e872c2806a04\" target=\"_top\" title=\"psysml:1c0ef759-8c31-4a4a-b0e7-e872c2806a04\" xlink:actuate=\"onRequest\" xlink:href=\"psysml:1c0ef759-8c31-4a4a-b0e7-e872c2806a04\" xlink:show=\"new\" xlink:title=\"psysml:1c0ef759-8c31-4a4a-b0e7-e872c2806a04\" xlink:type=\"simple\"><path d=\"M270.34,211.55 C269.97,230.03 269.5,253.61 269.07,274.71 \" fill=\"none\" id=\"E5-E6\" style=\"stroke: #383838; stroke-width: 1.0;\"/><polygon fill=\"#383838\" points=\"268.87,284.84,272.0294,276.9016,266.0306,276.7816,268.87,284.84\" style=\"stroke: #383838; stroke-width: 1.0;\"/><path d=\"M262.0288,204.2063 A9,9 0 0 0 278.9393 204.5687\" fill=\"none\" style=\"stroke: #383838; stroke-width: 1.5;\"/><text fill=\"#000000\" font-family=\"sans-serif\" font-size=\"13\" lengthAdjust=\"spacingAndGlyphs\" textLength=\"60\" x=\"270\" y=\"251.0669\">«variant»</text></a><!--MD5=[14ccda38c055a5c0da953d572bc50960]\n",
       "link E7 to E3--><a href=\"psysml:6aa04dcc-8d2e-4853-a2ca-5b94913b0044\" target=\"_top\" title=\"psysml:6aa04dcc-8d2e-4853-a2ca-5b94913b0044\" xlink:actuate=\"onRequest\" xlink:href=\"psysml:6aa04dcc-8d2e-4853-a2ca-5b94913b0044\" xlink:show=\"new\" xlink:title=\"psysml:6aa04dcc-8d2e-4853-a2ca-5b94913b0044\" xlink:type=\"simple\"><path d=\"M155.56,87.13 C157.75,100.78 160.64,118.74 163.25,135 \" fill=\"none\" id=\"E7-&gt;E3\" style=\"stroke: #383838; stroke-width: 1.0;\"/><polygon fill=\"#FFFFFF\" points=\"166.45,154.92,156.5251,137.2707,170.3479,135.0503,166.45,154.92\" style=\"stroke: #383838; stroke-width: 1.0;\"/><ellipse cx=\"157.5958\" cy=\"131.3257\" fill=\"#383838\" rx=\"2\" ry=\"2\" style=\"stroke: #383838; stroke-width: 1.0;\"/><ellipse cx=\"167.4692\" cy=\"129.7396\" fill=\"#383838\" rx=\"2\" ry=\"2\" style=\"stroke: #383838; stroke-width: 1.0;\"/></a><!--MD5=[f1f3f9f2fc535e6147756cb86a7f2e32]\n",
       "link E8 to E2--><a href=\"psysml:62998d3a-e41b-4231-af2c-a0f2b465e4e7\" target=\"_top\" title=\"psysml:62998d3a-e41b-4231-af2c-a0f2b465e4e7\" xlink:actuate=\"onRequest\" xlink:href=\"psysml:62998d3a-e41b-4231-af2c-a0f2b465e4e7\" xlink:show=\"new\" xlink:title=\"psysml:62998d3a-e41b-4231-af2c-a0f2b465e4e7\" xlink:type=\"simple\"><path d=\"M102.2,202.57 C114.6,212.31 127.74,224.5 137,238 C143.95,248.13 149.47,259.96 153.82,271.65 \" fill=\"none\" id=\"E8-&gt;E2\" style=\"stroke: #383838; stroke-width: 1.0;\"/><polygon fill=\"#FFFFFF\" points=\"160.05,290.88,147.5299,274.9663,160.847,270.6472,160.05,290.88\" style=\"stroke: #383838; stroke-width: 1.0;\"/><ellipse cx=\"147.6738\" cy=\"268.9273\" fill=\"#383838\" rx=\"2\" ry=\"2\" style=\"stroke: #383838; stroke-width: 1.0;\"/><ellipse cx=\"157.186\" cy=\"265.8423\" fill=\"#383838\" rx=\"2\" ry=\"2\" style=\"stroke: #383838; stroke-width: 1.0;\"/></a><!--MD5=[ed10624c06dd9a4fa49ccf290e8b16a8]\n",
       "link E8 to E9--><a href=\"psysml:196bced0-9581-41ba-9556-fc72f0b07990\" target=\"_top\" title=\"psysml:196bced0-9581-41ba-9556-fc72f0b07990\" xlink:actuate=\"onRequest\" xlink:href=\"psysml:196bced0-9581-41ba-9556-fc72f0b07990\" xlink:show=\"new\" xlink:title=\"psysml:196bced0-9581-41ba-9556-fc72f0b07990\" xlink:type=\"simple\"><path d=\"M67,218.32 C67,235.6 67,256.15 67,274.77 \" fill=\"none\" id=\"E8-E9\" style=\"stroke: #383838; stroke-width: 1.0;\"/><polygon fill=\"#383838\" points=\"67,284.88,70,276.88,64,276.88,67,284.88\" style=\"stroke: #383838; stroke-width: 1.0;\"/><path d=\"M58.5428,211.1582 A9,9 0 0 0 75.4572 211.1582\" fill=\"none\" style=\"stroke: #383838; stroke-width: 1.5;\"/><text fill=\"#000000\" font-family=\"sans-serif\" font-size=\"13\" lengthAdjust=\"spacingAndGlyphs\" textLength=\"60\" x=\"68\" y=\"251.0669\">«variant»</text></a><!--MD5=[deb19a83c1cf1a5e50cbe527fccc5512]\n",
       "@startuml\r\n",
       "top to bottom direction\r\n",
       "skinparam monochrome true\r\n",
       "skinparam classbackgroundcolor white\r\n",
       "skinparam shadowing false\r\n",
       "skinparam wrapWidth 300\r\n",
       "hide circle\r\n",
       "\r\n",
       "package \"VariabilityTest\" as E1  [[psysml:fc405a6c-3061-4540-9673-8b8e766ba6ac ]]  {\r\n",
       "comp def \"P\" as E2  <<(T,blue)part def>> [[psysml:dc902210-e855-46b4-a2dd-8255fef19514 ]] {\r\n",
       "- - attributes - -\r\n",
       "a\r\n",
       "}\r\n",
       "comp def \"Q\" as E3  <<(T,blue)part def>> [[psysml:b52c8837-30af-42aa-bc51-100eaed5de80 ]] {\r\n",
       "}\r\n",
       "comp def \"B\" as E4  <<(T,blue)attribute def>> [[psysml:f17815b8-46c4-4dd9-bf70-524ba6c03f24 ]] {\r\n",
       "}\r\n",
       "comp def \"V\" as E5  <<(T,blue)part def>> [[psysml:b1ebe526-c40e-4c8f-ae74-16f7fcd1bdc9 ]] {\r\n",
       "}\r\n",
       "comp usage \"x: Q\" as E6  <<(T,blue)part>> [[psysml:05419eac-6c2b-46e9-bd3b-b31f448a077a ]] {\r\n",
       "- - attributes - -\r\n",
       "b: B\\n//:>>P::a// \r\n",
       "}\r\n",
       "comp usage \"q: Q\" as E7  <<(T,blue)part>> [[psysml:bd66bfa4-4cf8-4e62-98d6-c8549fcb8467 ]] {\r\n",
       "}\r\n",
       "comp usage \"v: P\" as E8  <<variation>>\\n <<(T,blue)part>> [[psysml:d11ba367-2498-4d3b-bf9a-6df5f0bc7068 ]] {\r\n",
       "}\r\n",
       "comp usage \"y\" as E9  <<(T,blue)part>> [[psysml:72597939-8390-466d-9479-39928477d122 ]] {\r\n",
       "- - attributes - -\r\n",
       "b: B\\n//:>>P::a// \r\n",
       "}\r\n",
       "E3 - -|> E2 [[psysml:0057605f-0b36-40b5-a833-d8040f0d9e74 ]] \r\n",
       "E5 - -|> E2 [[psysml:922ee1f9-edf0-4204-bf0f-0435eb6f66de ]] \r\n",
       "E5 )- ->> E6 [[psysml:1c0ef759-8c31-4a4a-b0e7-e872c2806a04 ]] : <<variant>>\r\n",
       "E7 - -:|> E3 [[psysml:6aa04dcc-8d2e-4853-a2ca-5b94913b0044 ]] \r\n",
       "E8 - -:|> E2 [[psysml:62998d3a-e41b-4231-af2c-a0f2b465e4e7 ]] \r\n",
       "E8 )- ->> E9 [[psysml:196bced0-9581-41ba-9556-fc72f0b07990 ]] : <<variant>>\r\n",
       "}\r\n",
       "@enduml\r\n",
       "\n",
       "PlantUML version 1.2020.13(Sat Jun 13 12:26:38 UTC 2020)\n",
       "(EPL source distribution)\n",
       "Java Runtime: OpenJDK Runtime Environment\n",
       "JVM: OpenJDK 64-Bit Server VM\n",
       "Default Encoding: UTF-8\n",
       "Language: en\n",
       "Country: null\n",
       "--></g></svg>"
      ]
     },
     "execution_count": 45,
     "metadata": {},
     "output_type": "execute_result"
    }
   ],
   "source": [
    "%viz --style=\"TB\" --view=\"Tree\" \"VariabilityTest\""
   ]
  },
  {
   "cell_type": "code",
   "execution_count": 46,
   "id": "waiting-tablet",
   "metadata": {
    "execution": {
     "iopub.execute_input": "2021-03-25T15:07:49.173067Z",
     "iopub.status.busy": "2021-03-25T15:07:49.172359Z",
     "iopub.status.idle": "2021-03-25T15:07:49.178298Z",
     "shell.execute_reply": "2021-03-25T15:07:49.177930Z"
    }
   },
   "outputs": [
    {
     "data": {
      "image/svg+xml": [
       "<?xml version=\"1.0\" encoding=\"UTF-8\" standalone=\"no\"?><svg xmlns=\"http://www.w3.org/2000/svg\" xmlns:xlink=\"http://www.w3.org/1999/xlink\" contentScriptType=\"application/ecmascript\" contentStyleType=\"text/css\" height=\"12px\" preserveAspectRatio=\"none\" style=\"width:12px;height:12px;\" version=\"1.1\" viewBox=\"0 0 12 12\" width=\"12px\" zoomAndPan=\"magnify\"><defs/><g><!--MD5=[f4ee21bc66e489b5061b7c3e9601fdef]\n",
       "@startuml\r\n",
       "top to bottom direction\r\n",
       "skinparam monochrome true\r\n",
       "skinparam classbackgroundcolor white\r\n",
       "skinparam shadowing false\r\n",
       "skinparam wrapWidth 300\r\n",
       "hide circle\r\n",
       "\r\n",
       "@enduml\r\n",
       "\n",
       "PlantUML version 1.2020.13(Sat Jun 13 12:26:38 UTC 2020)\n",
       "(EPL source distribution)\n",
       "Java Runtime: OpenJDK Runtime Environment\n",
       "JVM: OpenJDK 64-Bit Server VM\n",
       "Default Encoding: UTF-8\n",
       "Language: en\n",
       "Country: null\n",
       "--></g></svg>"
      ]
     },
     "execution_count": 46,
     "metadata": {},
     "output_type": "execute_result"
    }
   ],
   "source": [
    "%viz --style=\"TB\" --view=\"State\" \"VariabilityTest\""
   ]
  },
  {
   "cell_type": "code",
   "execution_count": 47,
   "id": "direct-rochester",
   "metadata": {
    "execution": {
     "iopub.execute_input": "2021-03-25T15:07:49.229300Z",
     "iopub.status.busy": "2021-03-25T15:07:49.228471Z",
     "iopub.status.idle": "2021-03-25T15:07:49.402263Z",
     "shell.execute_reply": "2021-03-25T15:07:49.400555Z"
    }
   },
   "outputs": [
    {
     "data": {
      "image/svg+xml": [
       "<?xml version=\"1.0\" encoding=\"UTF-8\" standalone=\"no\"?><svg xmlns=\"http://www.w3.org/2000/svg\" xmlns:xlink=\"http://www.w3.org/1999/xlink\" contentScriptType=\"application/ecmascript\" contentStyleType=\"text/css\" height=\"474px\" preserveAspectRatio=\"none\" style=\"width:805px;height:474px;\" version=\"1.1\" viewBox=\"0 0 805 474\" width=\"805px\" zoomAndPan=\"magnify\"><defs/><g><!--MD5=[fbc87193dbaf4d95561dea2c320d4a47]\n",
       "cluster E1--><a href=\"psysml:fc405a6c-3061-4540-9673-8b8e766ba6ac\" target=\"_top\" title=\"psysml:fc405a6c-3061-4540-9673-8b8e766ba6ac\" xlink:actuate=\"onRequest\" xlink:href=\"psysml:fc405a6c-3061-4540-9673-8b8e766ba6ac\" xlink:show=\"new\" xlink:title=\"psysml:fc405a6c-3061-4540-9673-8b8e766ba6ac\" xlink:type=\"simple\"><polygon fill=\"#FFFFFF\" points=\"16,6,134,6,141,28.2969,783,28.2969,783,462,16,462,16,6\" style=\"stroke: #000000; stroke-width: 1.5;\"/><line style=\"stroke: #000000; stroke-width: 1.5;\" x1=\"16\" x2=\"141\" y1=\"28.2969\" y2=\"28.2969\"/><text fill=\"#000000\" font-family=\"sans-serif\" font-size=\"14\" font-weight=\"bold\" lengthAdjust=\"spacingAndGlyphs\" textLength=\"112\" x=\"20\" y=\"20.9951\">VariabilityTest</text></a><!--MD5=[e4f7fae6ed58524ba242bb0b0d3be6b7]\n",
       "cluster E2--><a href=\"psysml:dc902210-e855-46b4-a2dd-8255fef19514\" target=\"_top\" title=\"psysml:dc902210-e855-46b4-a2dd-8255fef19514\" xlink:actuate=\"onRequest\" xlink:href=\"psysml:dc902210-e855-46b4-a2dd-8255fef19514\" xlink:show=\"new\" xlink:title=\"psysml:dc902210-e855-46b4-a2dd-8255fef19514\" xlink:type=\"simple\"><rect fill=\"#FFFFFF\" height=\"126\" id=\"E2\" style=\"stroke: #383838; stroke-width: 1.5;\" width=\"143\" x=\"358\" y=\"304\"/><rect fill=\"#F8F8F8\" height=\"37.9375\" style=\"stroke: #383838; stroke-width: 1.5;\" width=\"143\" x=\"358\" y=\"304\"/><text fill=\"#000000\" font-family=\"sans-serif\" font-size=\"12\" font-style=\"italic\" lengthAdjust=\"spacingAndGlyphs\" textLength=\"64\" x=\"397.5\" y=\"320.1387\">«part def»</text><text fill=\"#000000\" font-family=\"sans-serif\" font-size=\"12\" lengthAdjust=\"spacingAndGlyphs\" textLength=\"8\" x=\"425.5\" y=\"334.1074\">P</text></a><!--MD5=[14e3b0961a2654348d326746436168a1]\n",
       "cluster E6--><a href=\"psysml:b1ebe526-c40e-4c8f-ae74-16f7fcd1bdc9\" target=\"_top\" title=\"psysml:b1ebe526-c40e-4c8f-ae74-16f7fcd1bdc9\" xlink:actuate=\"onRequest\" xlink:href=\"psysml:b1ebe526-c40e-4c8f-ae74-16f7fcd1bdc9\" xlink:show=\"new\" xlink:title=\"psysml:b1ebe526-c40e-4c8f-ae74-16f7fcd1bdc9\" xlink:type=\"simple\"><rect fill=\"#FFFFFF\" height=\"207\" id=\"E6\" style=\"stroke: #383838; stroke-width: 1.5;\" width=\"180\" x=\"571\" y=\"57\"/><rect fill=\"#F8F8F8\" height=\"37.9375\" style=\"stroke: #383838; stroke-width: 1.5;\" width=\"180\" x=\"571\" y=\"57\"/><text fill=\"#000000\" font-family=\"sans-serif\" font-size=\"12\" font-style=\"italic\" lengthAdjust=\"spacingAndGlyphs\" textLength=\"64\" x=\"629\" y=\"73.1387\">«part def»</text><text fill=\"#000000\" font-family=\"sans-serif\" font-size=\"12\" lengthAdjust=\"spacingAndGlyphs\" textLength=\"8\" x=\"657\" y=\"87.1074\">V</text></a><!--MD5=[168fadf3d0c3fd93dd5d6da1b1d7ab76]\n",
       "cluster E7--><a href=\"psysml:05419eac-6c2b-46e9-bd3b-b31f448a077a\" target=\"_top\" title=\"psysml:05419eac-6c2b-46e9-bd3b-b31f448a077a\" xlink:actuate=\"onRequest\" xlink:href=\"psysml:05419eac-6c2b-46e9-bd3b-b31f448a077a\" xlink:show=\"new\" xlink:title=\"psysml:05419eac-6c2b-46e9-bd3b-b31f448a077a\" xlink:type=\"simple\"><rect fill=\"#FFFFFF\" height=\"108\" id=\"E7\" rx=\"10\" ry=\"10\" style=\"stroke: #383838; stroke-width: 1.5;\" width=\"108\" x=\"611\" y=\"124\"/><rect fill=\"#F8F8F8\" height=\"23.9688\" rx=\"10\" ry=\"10\" style=\"stroke: #F8F8F8; stroke-width: 1.5;\" width=\"108\" x=\"611\" y=\"124\"/><rect fill=\"#F8F8F8\" height=\"10\" style=\"stroke: #F8F8F8; stroke-width: 1.5;\" width=\"108\" x=\"611\" y=\"137.9688\"/><rect fill=\"none\" height=\"108\" id=\"E7\" rx=\"10\" ry=\"10\" style=\"stroke: #383838; stroke-width: 1.5;\" width=\"108\" x=\"611\" y=\"124\"/><text fill=\"#000000\" font-family=\"sans-serif\" font-size=\"12\" lengthAdjust=\"spacingAndGlyphs\" textLength=\"23\" x=\"653.5\" y=\"140.1387\">x: Q</text><line style=\"stroke: #383838; stroke-width: 1.0;\" x1=\"611\" x2=\"719\" y1=\"147.9688\" y2=\"147.9688\"/></a><!--MD5=[a84b4591f868c1fa4a211716a82f2f0d]\n",
       "cluster E10--><a href=\"psysml:d11ba367-2498-4d3b-bf9a-6df5f0bc7068\" target=\"_top\" title=\"psysml:d11ba367-2498-4d3b-bf9a-6df5f0bc7068\" xlink:actuate=\"onRequest\" xlink:href=\"psysml:d11ba367-2498-4d3b-bf9a-6df5f0bc7068\" xlink:show=\"new\" xlink:title=\"psysml:d11ba367-2498-4d3b-bf9a-6df5f0bc7068\" xlink:type=\"simple\"><rect fill=\"#FFFFFF\" height=\"191\" id=\"E10\" rx=\"10\" ry=\"10\" style=\"stroke: #383838; stroke-width: 1.5;\" width=\"156\" x=\"383\" y=\"65\"/><rect fill=\"#F8F8F8\" height=\"37.9375\" rx=\"10\" ry=\"10\" style=\"stroke: #F8F8F8; stroke-width: 1.5;\" width=\"156\" x=\"383\" y=\"65\"/><rect fill=\"#F8F8F8\" height=\"10\" style=\"stroke: #F8F8F8; stroke-width: 1.5;\" width=\"156\" x=\"383\" y=\"92.9375\"/><rect fill=\"none\" height=\"191\" id=\"E10\" rx=\"10\" ry=\"10\" style=\"stroke: #383838; stroke-width: 1.5;\" width=\"156\" x=\"383\" y=\"65\"/><text fill=\"#000000\" font-family=\"sans-serif\" font-size=\"12\" font-style=\"italic\" lengthAdjust=\"spacingAndGlyphs\" textLength=\"68\" x=\"427\" y=\"81.1387\">«variation»</text><text fill=\"#000000\" font-family=\"sans-serif\" font-size=\"12\" lengthAdjust=\"spacingAndGlyphs\" textLength=\"22\" x=\"450\" y=\"95.1074\">v: P</text><line style=\"stroke: #383838; stroke-width: 1.0;\" x1=\"383\" x2=\"539\" y1=\"102.9375\" y2=\"102.9375\"/></a><!--MD5=[917b9dd0c7eca3ee5f47219d1a84c0ad]\n",
       "cluster E11--><a href=\"psysml:72597939-8390-466d-9479-39928477d122\" target=\"_top\" title=\"psysml:72597939-8390-466d-9479-39928477d122\" xlink:actuate=\"onRequest\" xlink:href=\"psysml:72597939-8390-466d-9479-39928477d122\" xlink:show=\"new\" xlink:title=\"psysml:72597939-8390-466d-9479-39928477d122\" xlink:type=\"simple\"><rect fill=\"#FFFFFF\" height=\"108\" id=\"E11\" rx=\"10\" ry=\"10\" style=\"stroke: #383838; stroke-width: 1.5;\" width=\"108\" x=\"407\" y=\"124\"/><rect fill=\"#F8F8F8\" height=\"23.9688\" rx=\"10\" ry=\"10\" style=\"stroke: #F8F8F8; stroke-width: 1.5;\" width=\"108\" x=\"407\" y=\"124\"/><rect fill=\"#F8F8F8\" height=\"10\" style=\"stroke: #F8F8F8; stroke-width: 1.5;\" width=\"108\" x=\"407\" y=\"137.9688\"/><rect fill=\"none\" height=\"108\" id=\"E11\" rx=\"10\" ry=\"10\" style=\"stroke: #383838; stroke-width: 1.5;\" width=\"108\" x=\"407\" y=\"124\"/><text fill=\"#000000\" font-family=\"sans-serif\" font-size=\"12\" lengthAdjust=\"spacingAndGlyphs\" textLength=\"6\" x=\"458\" y=\"140.1387\">y</text><line style=\"stroke: #383838; stroke-width: 1.0;\" x1=\"407\" x2=\"515\" y1=\"147.9688\" y2=\"147.9688\"/></a><!--MD5=[270fce915f116d4de14055a7c1d9a0f3]\n",
       "class E5--><a href=\"psysml:f17815b8-46c4-4dd9-bf70-524ba6c03f24\" target=\"_top\" title=\"psysml:f17815b8-46c4-4dd9-bf70-524ba6c03f24\" xlink:actuate=\"onRequest\" xlink:href=\"psysml:f17815b8-46c4-4dd9-bf70-524ba6c03f24\" xlink:show=\"new\" xlink:title=\"psysml:f17815b8-46c4-4dd9-bf70-524ba6c03f24\" xlink:type=\"simple\"><rect fill=\"#FFFFFF\" height=\"53.9375\" id=\"E5\" style=\"stroke: #383838; stroke-width: 1.5;\" width=\"143\" x=\"223.5\" y=\"160.5\"/><text fill=\"#000000\" font-family=\"sans-serif\" font-size=\"12\" font-style=\"italic\" lengthAdjust=\"spacingAndGlyphs\" textLength=\"141\" x=\"224.5\" y=\"176.6387\">«(T,blue)attribute def»</text><text fill=\"#000000\" font-family=\"sans-serif\" font-size=\"12\" lengthAdjust=\"spacingAndGlyphs\" textLength=\"8\" x=\"291\" y=\"190.6074\">B</text><line style=\"stroke: #383838; stroke-width: 1.5;\" x1=\"224.5\" x2=\"365.5\" y1=\"198.4375\" y2=\"198.4375\"/><line style=\"stroke: #383838; stroke-width: 1.5;\" x1=\"224.5\" x2=\"365.5\" y1=\"206.4375\" y2=\"206.4375\"/></a><g id=\"E1.E2.E3\"><a href=\"psysml:6681b89b-422d-48d0-bc41-7a96ec587b7c\" target=\"_top\" title=\"psysml:6681b89b-422d-48d0-bc41-7a96ec587b7c\" xlink:actuate=\"onRequest\" xlink:href=\"psysml:6681b89b-422d-48d0-bc41-7a96ec587b7c\" xlink:show=\"new\" xlink:title=\"psysml:6681b89b-422d-48d0-bc41-7a96ec587b7c\" xlink:type=\"simple\"><rect fill=\"#FFFFFF\" height=\"42.9375\" id=\"E3\" rx=\"10\" ry=\"10\" style=\"stroke: #383838; stroke-width: 1.5;\" width=\"76\" x=\"401\" y=\"363\"/><rect fill=\"#F8F8F8\" height=\"37.9375\" rx=\"10\" ry=\"10\" style=\"stroke: #F8F8F8; stroke-width: 1.5;\" width=\"76\" x=\"401\" y=\"363\"/><rect fill=\"#F8F8F8\" height=\"10\" style=\"stroke: #F8F8F8; stroke-width: 1.5;\" width=\"76\" x=\"401\" y=\"390.9375\"/><rect fill=\"none\" height=\"42.9375\" id=\"E3\" rx=\"10\" ry=\"10\" style=\"stroke: #383838; stroke-width: 1.5;\" width=\"76\" x=\"401\" y=\"363\"/><text fill=\"#000000\" font-family=\"sans-serif\" font-size=\"12\" font-style=\"italic\" lengthAdjust=\"spacingAndGlyphs\" textLength=\"69\" x=\"404.5\" y=\"379.1387\">«attribute»</text><text fill=\"#000000\" font-family=\"sans-serif\" font-size=\"12\" lengthAdjust=\"spacingAndGlyphs\" textLength=\"8\" x=\"435\" y=\"393.1074\">a</text></a></g><g id=\"E1.E4\"><a href=\"psysml:b52c8837-30af-42aa-bc51-100eaed5de80\" target=\"_top\" title=\"psysml:b52c8837-30af-42aa-bc51-100eaed5de80\" xlink:actuate=\"onRequest\" xlink:href=\"psysml:b52c8837-30af-42aa-bc51-100eaed5de80\" xlink:show=\"new\" xlink:title=\"psysml:b52c8837-30af-42aa-bc51-100eaed5de80\" xlink:type=\"simple\"><rect fill=\"#FFFFFF\" height=\"42.9375\" id=\"E4\" style=\"stroke: #383838; stroke-width: 1.5;\" width=\"71\" x=\"117.5\" y=\"166\"/><rect fill=\"#F8F8F8\" height=\"37.9375\" style=\"stroke: #383838; stroke-width: 1.5;\" width=\"71\" x=\"117.5\" y=\"166\"/><text fill=\"#000000\" font-family=\"sans-serif\" font-size=\"12\" font-style=\"italic\" lengthAdjust=\"spacingAndGlyphs\" textLength=\"64\" x=\"121\" y=\"182.1387\">«part def»</text><text fill=\"#000000\" font-family=\"sans-serif\" font-size=\"12\" lengthAdjust=\"spacingAndGlyphs\" textLength=\"9\" x=\"148.5\" y=\"196.1074\">Q</text></a></g><g id=\"E1.E6.E7.E8\"><a href=\"psysml:ea3366e9-5974-4411-9b27-ac275f4425c1\" target=\"_top\" title=\"psysml:ea3366e9-5974-4411-9b27-ac275f4425c1\" xlink:actuate=\"onRequest\" xlink:href=\"psysml:ea3366e9-5974-4411-9b27-ac275f4425c1\" xlink:show=\"new\" xlink:title=\"psysml:ea3366e9-5974-4411-9b27-ac275f4425c1\" xlink:type=\"simple\"><rect fill=\"#FFFFFF\" height=\"56.9063\" id=\"E8\" rx=\"10\" ry=\"10\" style=\"stroke: #383838; stroke-width: 1.5;\" width=\"76\" x=\"627\" y=\"159\"/><rect fill=\"#F8F8F8\" height=\"51.9063\" rx=\"10\" ry=\"10\" style=\"stroke: #F8F8F8; stroke-width: 1.5;\" width=\"76\" x=\"627\" y=\"159\"/><rect fill=\"#F8F8F8\" height=\"10\" style=\"stroke: #F8F8F8; stroke-width: 1.5;\" width=\"76\" x=\"627\" y=\"200.9063\"/><rect fill=\"none\" height=\"56.9063\" id=\"E8\" rx=\"10\" ry=\"10\" style=\"stroke: #383838; stroke-width: 1.5;\" width=\"76\" x=\"627\" y=\"159\"/><text fill=\"#000000\" font-family=\"sans-serif\" font-size=\"12\" font-style=\"italic\" lengthAdjust=\"spacingAndGlyphs\" textLength=\"69\" x=\"630.5\" y=\"175.1387\">«attribute»</text><text fill=\"#000000\" font-family=\"sans-serif\" font-size=\"12\" lengthAdjust=\"spacingAndGlyphs\" textLength=\"24\" x=\"653\" y=\"189.1074\">b: B</text><text fill=\"#000000\" font-family=\"sans-serif\" font-size=\"12\" font-style=\"italic\" lengthAdjust=\"spacingAndGlyphs\" textLength=\"48\" x=\"639\" y=\"203.0762\">:&gt;&gt;P::a</text><text fill=\"#000000\" font-family=\"sans-serif\" font-size=\"12\" lengthAdjust=\"spacingAndGlyphs\" textLength=\"0\" x=\"691\" y=\"203.0762\"/></a></g><g id=\"E1.E9\"><a href=\"psysml:bd66bfa4-4cf8-4e62-98d6-c8549fcb8467\" target=\"_top\" title=\"psysml:bd66bfa4-4cf8-4e62-98d6-c8549fcb8467\" xlink:actuate=\"onRequest\" xlink:href=\"psysml:bd66bfa4-4cf8-4e62-98d6-c8549fcb8467\" xlink:show=\"new\" xlink:title=\"psysml:bd66bfa4-4cf8-4e62-98d6-c8549fcb8467\" xlink:type=\"simple\"><rect fill=\"#FFFFFF\" height=\"40\" id=\"E9\" rx=\"10\" ry=\"10\" style=\"stroke: #383838; stroke-width: 1.5;\" width=\"50\" x=\"32\" y=\"167.5\"/><rect fill=\"#F8F8F8\" height=\"23.9688\" rx=\"10\" ry=\"10\" style=\"stroke: #F8F8F8; stroke-width: 1.5;\" width=\"50\" x=\"32\" y=\"167.5\"/><rect fill=\"#F8F8F8\" height=\"10\" style=\"stroke: #F8F8F8; stroke-width: 1.5;\" width=\"50\" x=\"32\" y=\"181.4688\"/><rect fill=\"none\" height=\"40\" id=\"E9\" rx=\"10\" ry=\"10\" style=\"stroke: #383838; stroke-width: 1.5;\" width=\"50\" x=\"32\" y=\"167.5\"/><text fill=\"#000000\" font-family=\"sans-serif\" font-size=\"12\" lengthAdjust=\"spacingAndGlyphs\" textLength=\"25\" x=\"44.5\" y=\"183.6387\">q: Q</text></a></g><g id=\"E1.E10.E11.E12\"><a href=\"psysml:bdc7bdc2-851d-4524-9d87-06992ba679d3\" target=\"_top\" title=\"psysml:bdc7bdc2-851d-4524-9d87-06992ba679d3\" xlink:actuate=\"onRequest\" xlink:href=\"psysml:bdc7bdc2-851d-4524-9d87-06992ba679d3\" xlink:show=\"new\" xlink:title=\"psysml:bdc7bdc2-851d-4524-9d87-06992ba679d3\" xlink:type=\"simple\"><rect fill=\"#FFFFFF\" height=\"56.9063\" id=\"E12\" rx=\"10\" ry=\"10\" style=\"stroke: #383838; stroke-width: 1.5;\" width=\"76\" x=\"423\" y=\"159\"/><rect fill=\"#F8F8F8\" height=\"51.9063\" rx=\"10\" ry=\"10\" style=\"stroke: #F8F8F8; stroke-width: 1.5;\" width=\"76\" x=\"423\" y=\"159\"/><rect fill=\"#F8F8F8\" height=\"10\" style=\"stroke: #F8F8F8; stroke-width: 1.5;\" width=\"76\" x=\"423\" y=\"200.9063\"/><rect fill=\"none\" height=\"56.9063\" id=\"E12\" rx=\"10\" ry=\"10\" style=\"stroke: #383838; stroke-width: 1.5;\" width=\"76\" x=\"423\" y=\"159\"/><text fill=\"#000000\" font-family=\"sans-serif\" font-size=\"12\" font-style=\"italic\" lengthAdjust=\"spacingAndGlyphs\" textLength=\"69\" x=\"426.5\" y=\"175.1387\">«attribute»</text><text fill=\"#000000\" font-family=\"sans-serif\" font-size=\"12\" lengthAdjust=\"spacingAndGlyphs\" textLength=\"24\" x=\"449\" y=\"189.1074\">b: B</text><text fill=\"#000000\" font-family=\"sans-serif\" font-size=\"12\" font-style=\"italic\" lengthAdjust=\"spacingAndGlyphs\" textLength=\"48\" x=\"435\" y=\"203.0762\">:&gt;&gt;P::a</text><text fill=\"#000000\" font-family=\"sans-serif\" font-size=\"12\" lengthAdjust=\"spacingAndGlyphs\" textLength=\"0\" x=\"487\" y=\"203.0762\"/></a></g><!--MD5=[185131fc0dcab0a4505a2ebe144e961b]\n",
       "link E4 to E2--><a href=\"psysml:0057605f-0b36-40b5-a833-d8040f0d9e74\" target=\"_top\" title=\"psysml:0057605f-0b36-40b5-a833-d8040f0d9e74\" xlink:actuate=\"onRequest\" xlink:href=\"psysml:0057605f-0b36-40b5-a833-d8040f0d9e74\" xlink:show=\"new\" xlink:title=\"psysml:0057605f-0b36-40b5-a833-d8040f0d9e74\" xlink:type=\"simple\"><path d=\"M161.56,209.22 C170.5,229.06 186,258.99 206,280 C234.74,310.19 273.95,335.735 306.3613,353.8938 C322.5669,362.9731 337.0728,370.2059 347.7205,375.2495 C350.3824,376.5104 352.8032,377.6345 354.9491,378.6164 C356.022,379.1073 357.0262,379.5627 357.9575,379.9819 \" fill=\"none\" id=\"E4-&gt;E2\" style=\"stroke: #383838; stroke-width: 1.0;\"/><polygon fill=\"#FFFFFF\" points=\"357.9575,379.9819,343.5049,365.8002,337.7586,378.5666,357.9575,379.9819\" style=\"stroke: #383838; stroke-width: 1.0;\"/></a><!--MD5=[2351f337d6de0f557b50152ba70847b5]\n",
       "link E6 to E2--><a href=\"psysml:922ee1f9-edf0-4204-bf0f-0435eb6f66de\" target=\"_top\" title=\"psysml:922ee1f9-edf0-4204-bf0f-0435eb6f66de\" xlink:actuate=\"onRequest\" xlink:href=\"psysml:922ee1f9-edf0-4204-bf0f-0435eb6f66de\" xlink:show=\"new\" xlink:title=\"psysml:922ee1f9-edf0-4204-bf0f-0435eb6f66de\" xlink:type=\"simple\"><path d=\"M570.9572,209.2785 C570.8993,209.4093 570.8411,209.5404 570.7825,209.672 C570.6654,209.9352 570.5471,210.1999 570.4275,210.4663 C570.1882,210.9989 569.9439,211.5379 569.6945,212.0827 C567.6995,216.4413 565.38,221.1759 562.7325,226.0812 C552.1425,245.7025 536.305,268.055 515,280 C489.75,294.15 406.8,268.96 385,288 C380.99,291.5025 377.6792,295.5889 374.9563,300.0625 C374.2756,301.1809 373.6316,302.3235 373.0226,303.4872 C372.9464,303.6327 372.8709,303.7785 372.7958,303.9246 \" fill=\"none\" id=\"E6-&gt;E2\" style=\"stroke: #383838; stroke-width: 1.0;\"/><polygon fill=\"#FFFFFF\" points=\"372.7958,303.9246,387.702,290.2204,375.2481,283.8252,372.7958,303.9246\" style=\"stroke: #383838; stroke-width: 1.0;\"/></a><!--MD5=[db4a12f70219a4bc7438ae751c93e291]\n",
       "@startuml\r\n",
       "skinparam ranksep 8\r\n",
       "skinparam rectangle {\r\n",
       " backgroundColor<<block>> LightGreen\r\n",
       "}\r\n",
       "top to bottom direction\r\n",
       "skinparam monochrome true\r\n",
       "skinparam classbackgroundcolor white\r\n",
       "skinparam shadowing false\r\n",
       "skinparam wrapWidth 300\r\n",
       "hide circle\r\n",
       "\r\n",
       "package \"VariabilityTest\" as E1  [[psysml:fc405a6c-3061-4540-9673-8b8e766ba6ac ]]  {\r\n",
       "rec def \"P\" as E2  <<(T,blue)part def>> [[psysml:dc902210-e855-46b4-a2dd-8255fef19514 ]] {\r\n",
       "rec usage \"a\" as E3  <<(T,blue)attribute>> [[psysml:6681b89b-422d-48d0-bc41-7a96ec587b7c ]] {\r\n",
       "}\r\n",
       "}\r\n",
       "rec def \"Q\" as E4  <<(T,blue)part def>> [[psysml:b52c8837-30af-42aa-bc51-100eaed5de80 ]] {\r\n",
       "}\r\n",
       "def \"B\" as E5  <<(T,blue)attribute def>> [[psysml:f17815b8-46c4-4dd9-bf70-524ba6c03f24 ]] \r\n",
       "rec def \"V\" as E6  <<(T,blue)part def>> [[psysml:b1ebe526-c40e-4c8f-ae74-16f7fcd1bdc9 ]] {\r\n",
       "rec usage \"x: Q\" as E7  [[psysml:05419eac-6c2b-46e9-bd3b-b31f448a077a ]] {\r\n",
       "rec usage \"b: B\\n//:>>P::a// \" as E8  <<(T,blue)attribute>> [[psysml:ea3366e9-5974-4411-9b27-ac275f4425c1 ]] {\r\n",
       "}\r\n",
       "}\r\n",
       "}\r\n",
       "rec usage \"q: Q\" as E9  [[psysml:bd66bfa4-4cf8-4e62-98d6-c8549fcb8467 ]] {\r\n",
       "}\r\n",
       "rec usage \"v: P\" as E10  <<variation>> [[psysml:d11ba367-2498-4d3b-bf9a-6df5f0bc7068 ]] {\r\n",
       "rec usage \"y\" as E11  [[psysml:72597939-8390-466d-9479-39928477d122 ]] {\r\n",
       "rec usage \"b: B\\n//:>>P::a// \" as E12  <<(T,blue)attribute>> [[psysml:bdc7bdc2-851d-4524-9d87-06992ba679d3 ]] {\r\n",
       "}\r\n",
       "}\r\n",
       "}\r\n",
       "E4 - -|> E2 [[psysml:0057605f-0b36-40b5-a833-d8040f0d9e74 ]] \r\n",
       "E6 - -|> E2 [[psysml:922ee1f9-edf0-4204-bf0f-0435eb6f66de ]] \r\n",
       "}\r\n",
       "@enduml\r\n",
       "\n",
       "PlantUML version 1.2020.13(Sat Jun 13 12:26:38 UTC 2020)\n",
       "(EPL source distribution)\n",
       "Java Runtime: OpenJDK Runtime Environment\n",
       "JVM: OpenJDK 64-Bit Server VM\n",
       "Default Encoding: UTF-8\n",
       "Language: en\n",
       "Country: null\n",
       "--></g></svg>"
      ]
     },
     "execution_count": 47,
     "metadata": {},
     "output_type": "execute_result"
    }
   ],
   "source": [
    "%viz --style=\"TB\" --view=\"Interconnection\" \"VariabilityTest\""
   ]
  },
  {
   "cell_type": "code",
   "execution_count": 48,
   "id": "domestic-dividend",
   "metadata": {
    "execution": {
     "iopub.execute_input": "2021-03-25T15:07:49.453777Z",
     "iopub.status.busy": "2021-03-25T15:07:49.452928Z",
     "iopub.status.idle": "2021-03-25T15:07:49.459778Z",
     "shell.execute_reply": "2021-03-25T15:07:49.460153Z"
    }
   },
   "outputs": [
    {
     "data": {
      "image/svg+xml": [
       "<?xml version=\"1.0\" encoding=\"UTF-8\" standalone=\"no\"?><svg xmlns=\"http://www.w3.org/2000/svg\" xmlns:xlink=\"http://www.w3.org/1999/xlink\" contentScriptType=\"application/ecmascript\" contentStyleType=\"text/css\" height=\"12px\" preserveAspectRatio=\"none\" style=\"width:12px;height:12px;\" version=\"1.1\" viewBox=\"0 0 12 12\" width=\"12px\" zoomAndPan=\"magnify\"><defs/><g><!--MD5=[06afc254b03ac5e9d9fb7773b07d0800]\n",
       "@startuml\r\n",
       "skinparam ranksep 8\r\n",
       "top to bottom direction\r\n",
       "skinparam monochrome true\r\n",
       "skinparam classbackgroundcolor white\r\n",
       "skinparam shadowing false\r\n",
       "skinparam wrapWidth 300\r\n",
       "hide circle\r\n",
       "\r\n",
       "@enduml\r\n",
       "\n",
       "PlantUML version 1.2020.13(Sat Jun 13 12:26:38 UTC 2020)\n",
       "(EPL source distribution)\n",
       "Java Runtime: OpenJDK Runtime Environment\n",
       "JVM: OpenJDK 64-Bit Server VM\n",
       "Default Encoding: UTF-8\n",
       "Language: en\n",
       "Country: null\n",
       "--></g></svg>"
      ]
     },
     "execution_count": 48,
     "metadata": {},
     "output_type": "execute_result"
    }
   ],
   "source": [
    "%viz --style=\"TB\" --view=\"Action\" \"VariabilityTest\""
   ]
  },
  {
   "cell_type": "code",
   "execution_count": 49,
   "id": "clinical-gardening",
   "metadata": {
    "execution": {
     "iopub.execute_input": "2021-03-25T15:07:49.512563Z",
     "iopub.status.busy": "2021-03-25T15:07:49.511477Z",
     "iopub.status.idle": "2021-03-25T15:07:49.970251Z",
     "shell.execute_reply": "2021-03-25T15:07:49.968487Z"
    }
   },
   "outputs": [
    {
     "data": {
      "image/svg+xml": [
       "<?xml version=\"1.0\" encoding=\"UTF-8\" standalone=\"no\"?><svg xmlns=\"http://www.w3.org/2000/svg\" xmlns:xlink=\"http://www.w3.org/1999/xlink\" contentScriptType=\"application/ecmascript\" contentStyleType=\"text/css\" height=\"401px\" preserveAspectRatio=\"none\" style=\"width:342px;height:401px;\" version=\"1.1\" viewBox=\"0 0 342 401\" width=\"342px\" zoomAndPan=\"magnify\"><defs/><g><!--MD5=[fbc87193dbaf4d95561dea2c320d4a47]\n",
       "cluster E1--><a href=\"psysml:fc405a6c-3061-4540-9673-8b8e766ba6ac\" target=\"_top\" title=\"psysml:fc405a6c-3061-4540-9673-8b8e766ba6ac\" xlink:actuate=\"onRequest\" xlink:href=\"psysml:fc405a6c-3061-4540-9673-8b8e766ba6ac\" xlink:show=\"new\" xlink:title=\"psysml:fc405a6c-3061-4540-9673-8b8e766ba6ac\" xlink:type=\"simple\"><polygon fill=\"#FFFFFF\" points=\"16,6,134,6,141,28.2969,320,28.2969,320,389,16,389,16,6\" style=\"stroke: #000000; stroke-width: 1.5;\"/><line style=\"stroke: #000000; stroke-width: 1.5;\" x1=\"16\" x2=\"141\" y1=\"28.2969\" y2=\"28.2969\"/><text fill=\"#000000\" font-family=\"sans-serif\" font-size=\"14\" font-weight=\"bold\" lengthAdjust=\"spacingAndGlyphs\" textLength=\"112\" x=\"20\" y=\"20.9951\">VariabilityTest</text></a><!--MD5=[b4997ac47864f28c2f74865a473b2911]\n",
       "class E2--><a href=\"psysml:dc902210-e855-46b4-a2dd-8255fef19514\" target=\"_top\" title=\"psysml:dc902210-e855-46b4-a2dd-8255fef19514\" xlink:actuate=\"onRequest\" xlink:href=\"psysml:dc902210-e855-46b4-a2dd-8255fef19514\" xlink:show=\"new\" xlink:title=\"psysml:dc902210-e855-46b4-a2dd-8255fef19514\" xlink:type=\"simple\"><rect fill=\"#FFFFFF\" height=\"75.5469\" id=\"E2\" style=\"stroke: #383838; stroke-width: 1.5;\" width=\"66\" x=\"135\" y=\"291\"/><text fill=\"#000000\" font-family=\"sans-serif\" font-size=\"12\" font-style=\"italic\" lengthAdjust=\"spacingAndGlyphs\" textLength=\"64\" x=\"136\" y=\"307.1387\">«part def»</text><text fill=\"#000000\" font-family=\"sans-serif\" font-size=\"12\" lengthAdjust=\"spacingAndGlyphs\" textLength=\"8\" x=\"164\" y=\"321.1074\">P</text><line style=\"stroke: #383838; stroke-width: 1.5;\" x1=\"136\" x2=\"200\" y1=\"328.9375\" y2=\"328.9375\"/><text fill=\"#000000\" font-family=\"sans-serif\" font-size=\"11\" lengthAdjust=\"spacingAndGlyphs\" textLength=\"7\" x=\"141\" y=\"359.9526\">a</text><line style=\"stroke: #383838; stroke-width: 1.0;\" x1=\"136\" x2=\"140.5\" y1=\"343.3398\" y2=\"343.3398\"/><text fill=\"#000000\" font-family=\"sans-serif\" font-size=\"11\" lengthAdjust=\"spacingAndGlyphs\" textLength=\"55\" x=\"140.5\" y=\"346.6479\">attributes</text><line style=\"stroke: #383838; stroke-width: 1.0;\" x1=\"195.5\" x2=\"200\" y1=\"343.3398\" y2=\"343.3398\"/></a><!--MD5=[09b614a08d8cba4a07c9adeb5e0fee81]\n",
       "class E3--><a href=\"psysml:b52c8837-30af-42aa-bc51-100eaed5de80\" target=\"_top\" title=\"psysml:b52c8837-30af-42aa-bc51-100eaed5de80\" xlink:actuate=\"onRequest\" xlink:href=\"psysml:b52c8837-30af-42aa-bc51-100eaed5de80\" xlink:show=\"new\" xlink:title=\"psysml:b52c8837-30af-42aa-bc51-100eaed5de80\" xlink:type=\"simple\"><rect fill=\"#FFFFFF\" height=\"45.9375\" id=\"E3\" style=\"stroke: #383838; stroke-width: 1.5;\" width=\"66\" x=\"137\" y=\"155\"/><text fill=\"#000000\" font-family=\"sans-serif\" font-size=\"12\" font-style=\"italic\" lengthAdjust=\"spacingAndGlyphs\" textLength=\"64\" x=\"138\" y=\"171.1387\">«part def»</text><text fill=\"#000000\" font-family=\"sans-serif\" font-size=\"12\" lengthAdjust=\"spacingAndGlyphs\" textLength=\"9\" x=\"165.5\" y=\"185.1074\">Q</text><line style=\"stroke: #383838; stroke-width: 1.5;\" x1=\"138\" x2=\"202\" y1=\"192.9375\" y2=\"192.9375\"/></a><!--MD5=[ebbe1d658d1005bcc118a6aa81145e00]\n",
       "class E4--><a href=\"psysml:f17815b8-46c4-4dd9-bf70-524ba6c03f24\" target=\"_top\" title=\"psysml:f17815b8-46c4-4dd9-bf70-524ba6c03f24\" xlink:actuate=\"onRequest\" xlink:href=\"psysml:f17815b8-46c4-4dd9-bf70-524ba6c03f24\" xlink:show=\"new\" xlink:title=\"psysml:f17815b8-46c4-4dd9-bf70-524ba6c03f24\" xlink:type=\"simple\"><rect fill=\"#FFFFFF\" height=\"45.9375\" id=\"E4\" style=\"stroke: #383838; stroke-width: 1.5;\" width=\"95\" x=\"208.5\" y=\"41\"/><text fill=\"#000000\" font-family=\"sans-serif\" font-size=\"12\" font-style=\"italic\" lengthAdjust=\"spacingAndGlyphs\" textLength=\"93\" x=\"209.5\" y=\"57.1387\">«attribute def»</text><text fill=\"#000000\" font-family=\"sans-serif\" font-size=\"12\" lengthAdjust=\"spacingAndGlyphs\" textLength=\"8\" x=\"252\" y=\"71.1074\">B</text><line style=\"stroke: #383838; stroke-width: 1.5;\" x1=\"209.5\" x2=\"302.5\" y1=\"78.9375\" y2=\"78.9375\"/></a><!--MD5=[270fce915f116d4de14055a7c1d9a0f3]\n",
       "class E5--><a href=\"psysml:b1ebe526-c40e-4c8f-ae74-16f7fcd1bdc9\" target=\"_top\" title=\"psysml:b1ebe526-c40e-4c8f-ae74-16f7fcd1bdc9\" xlink:actuate=\"onRequest\" xlink:href=\"psysml:b1ebe526-c40e-4c8f-ae74-16f7fcd1bdc9\" xlink:show=\"new\" xlink:title=\"psysml:b1ebe526-c40e-4c8f-ae74-16f7fcd1bdc9\" xlink:type=\"simple\"><rect fill=\"#FFFFFF\" height=\"45.9375\" id=\"E5\" style=\"stroke: #383838; stroke-width: 1.5;\" width=\"66\" x=\"238\" y=\"155\"/><text fill=\"#000000\" font-family=\"sans-serif\" font-size=\"12\" font-style=\"italic\" lengthAdjust=\"spacingAndGlyphs\" textLength=\"64\" x=\"239\" y=\"171.1387\">«part def»</text><text fill=\"#000000\" font-family=\"sans-serif\" font-size=\"12\" lengthAdjust=\"spacingAndGlyphs\" textLength=\"8\" x=\"267\" y=\"185.1074\">V</text><line style=\"stroke: #383838; stroke-width: 1.5;\" x1=\"239\" x2=\"303\" y1=\"192.9375\" y2=\"192.9375\"/></a><!--MD5=[60a26617385b1d2d0262a64233df1f8d]\n",
       "class E6--><a href=\"psysml:05419eac-6c2b-46e9-bd3b-b31f448a077a\" target=\"_top\" title=\"psysml:05419eac-6c2b-46e9-bd3b-b31f448a077a\" xlink:actuate=\"onRequest\" xlink:href=\"psysml:05419eac-6c2b-46e9-bd3b-b31f448a077a\" xlink:show=\"new\" xlink:title=\"psysml:05419eac-6c2b-46e9-bd3b-b31f448a077a\" xlink:type=\"simple\"><rect fill=\"#FFFFFF\" height=\"88.3516\" id=\"E6\" rx=\"10\" ry=\"10\" style=\"stroke: #383838; stroke-width: 1.5;\" width=\"63\" x=\"236.5\" y=\"285\"/><text fill=\"#000000\" font-family=\"sans-serif\" font-size=\"12\" font-style=\"italic\" lengthAdjust=\"spacingAndGlyphs\" textLength=\"40\" x=\"248\" y=\"301.1387\">«part»</text><text fill=\"#000000\" font-family=\"sans-serif\" font-size=\"12\" lengthAdjust=\"spacingAndGlyphs\" textLength=\"23\" x=\"256.5\" y=\"315.1074\">x: Q</text><line style=\"stroke: #383838; stroke-width: 1.5;\" x1=\"237.5\" x2=\"298.5\" y1=\"322.9375\" y2=\"322.9375\"/><text fill=\"#000000\" font-family=\"sans-serif\" font-size=\"11\" lengthAdjust=\"spacingAndGlyphs\" textLength=\"23\" x=\"242.5\" y=\"353.9526\">b: B</text><text fill=\"#000000\" font-family=\"sans-serif\" font-size=\"11\" font-style=\"italic\" lengthAdjust=\"spacingAndGlyphs\" textLength=\"44\" x=\"242.5\" y=\"366.7573\">:&gt;&gt;P::a</text><line style=\"stroke: #383838; stroke-width: 1.0;\" x1=\"237.5\" x2=\"240.5\" y1=\"337.3398\" y2=\"337.3398\"/><text fill=\"#000000\" font-family=\"sans-serif\" font-size=\"11\" lengthAdjust=\"spacingAndGlyphs\" textLength=\"55\" x=\"240.5\" y=\"340.6479\">attributes</text><line style=\"stroke: #383838; stroke-width: 1.0;\" x1=\"295.5\" x2=\"298.5\" y1=\"337.3398\" y2=\"337.3398\"/></a><!--MD5=[2156ba9850f5573cc1fc38a6a4b2f02b]\n",
       "class E7--><a href=\"psysml:bd66bfa4-4cf8-4e62-98d6-c8549fcb8467\" target=\"_top\" title=\"psysml:bd66bfa4-4cf8-4e62-98d6-c8549fcb8467\" xlink:actuate=\"onRequest\" xlink:href=\"psysml:bd66bfa4-4cf8-4e62-98d6-c8549fcb8467\" xlink:show=\"new\" xlink:title=\"psysml:bd66bfa4-4cf8-4e62-98d6-c8549fcb8467\" xlink:type=\"simple\"><rect fill=\"#FFFFFF\" height=\"45.9375\" id=\"E7\" rx=\"10\" ry=\"10\" style=\"stroke: #383838; stroke-width: 1.5;\" width=\"42\" x=\"131\" y=\"41\"/><text fill=\"#000000\" font-family=\"sans-serif\" font-size=\"12\" font-style=\"italic\" lengthAdjust=\"spacingAndGlyphs\" textLength=\"40\" x=\"132\" y=\"57.1387\">«part»</text><text fill=\"#000000\" font-family=\"sans-serif\" font-size=\"12\" lengthAdjust=\"spacingAndGlyphs\" textLength=\"25\" x=\"139.5\" y=\"71.1074\">q: Q</text><line style=\"stroke: #383838; stroke-width: 1.5;\" x1=\"132\" x2=\"172\" y1=\"78.9375\" y2=\"78.9375\"/></a><!--MD5=[b9389687b975829384b498ac4b7476b2]\n",
       "class E8--><a href=\"psysml:d11ba367-2498-4d3b-bf9a-6df5f0bc7068\" target=\"_top\" title=\"psysml:d11ba367-2498-4d3b-bf9a-6df5f0bc7068\" xlink:actuate=\"onRequest\" xlink:href=\"psysml:d11ba367-2498-4d3b-bf9a-6df5f0bc7068\" xlink:show=\"new\" xlink:title=\"psysml:d11ba367-2498-4d3b-bf9a-6df5f0bc7068\" xlink:type=\"simple\"><rect fill=\"#FFFFFF\" height=\"59.9063\" id=\"E8\" rx=\"10\" ry=\"10\" style=\"stroke: #383838; stroke-width: 1.5;\" width=\"70\" x=\"32\" y=\"148\"/><text fill=\"#000000\" font-family=\"sans-serif\" font-size=\"12\" font-style=\"italic\" lengthAdjust=\"spacingAndGlyphs\" textLength=\"68\" x=\"33\" y=\"164.1387\">«variation»</text><text fill=\"#000000\" font-family=\"sans-serif\" font-size=\"12\" font-style=\"italic\" lengthAdjust=\"spacingAndGlyphs\" textLength=\"40\" x=\"47\" y=\"178.1074\">«part»</text><text fill=\"#000000\" font-family=\"sans-serif\" font-size=\"12\" lengthAdjust=\"spacingAndGlyphs\" textLength=\"22\" x=\"56\" y=\"192.0762\">v: P</text><line style=\"stroke: #383838; stroke-width: 1.5;\" x1=\"33\" x2=\"101\" y1=\"199.9063\" y2=\"199.9063\"/></a><!--MD5=[fd4143e9d270a159db93a4ea2a975926]\n",
       "class E9--><a href=\"psysml:72597939-8390-466d-9479-39928477d122\" target=\"_top\" title=\"psysml:72597939-8390-466d-9479-39928477d122\" xlink:actuate=\"onRequest\" xlink:href=\"psysml:72597939-8390-466d-9479-39928477d122\" xlink:show=\"new\" xlink:title=\"psysml:72597939-8390-466d-9479-39928477d122\" xlink:type=\"simple\"><rect fill=\"#FFFFFF\" height=\"88.3516\" id=\"E9\" rx=\"10\" ry=\"10\" style=\"stroke: #383838; stroke-width: 1.5;\" width=\"63\" x=\"35.5\" y=\"285\"/><text fill=\"#000000\" font-family=\"sans-serif\" font-size=\"12\" font-style=\"italic\" lengthAdjust=\"spacingAndGlyphs\" textLength=\"40\" x=\"47\" y=\"301.1387\">«part»</text><text fill=\"#000000\" font-family=\"sans-serif\" font-size=\"12\" lengthAdjust=\"spacingAndGlyphs\" textLength=\"6\" x=\"64\" y=\"315.1074\">y</text><line style=\"stroke: #383838; stroke-width: 1.5;\" x1=\"36.5\" x2=\"97.5\" y1=\"322.9375\" y2=\"322.9375\"/><text fill=\"#000000\" font-family=\"sans-serif\" font-size=\"11\" lengthAdjust=\"spacingAndGlyphs\" textLength=\"23\" x=\"41.5\" y=\"353.9526\">b: B</text><text fill=\"#000000\" font-family=\"sans-serif\" font-size=\"11\" font-style=\"italic\" lengthAdjust=\"spacingAndGlyphs\" textLength=\"44\" x=\"41.5\" y=\"366.7573\">:&gt;&gt;P::a</text><line style=\"stroke: #383838; stroke-width: 1.0;\" x1=\"36.5\" x2=\"39.5\" y1=\"337.3398\" y2=\"337.3398\"/><text fill=\"#000000\" font-family=\"sans-serif\" font-size=\"11\" lengthAdjust=\"spacingAndGlyphs\" textLength=\"55\" x=\"39.5\" y=\"340.6479\">attributes</text><line style=\"stroke: #383838; stroke-width: 1.0;\" x1=\"94.5\" x2=\"97.5\" y1=\"337.3398\" y2=\"337.3398\"/></a><!--MD5=[05d275557350bfb9b23a4ef7222b4c39]\n",
       "link E3 to E2--><a href=\"psysml:0057605f-0b36-40b5-a833-d8040f0d9e74\" target=\"_top\" title=\"psysml:0057605f-0b36-40b5-a833-d8040f0d9e74\" xlink:actuate=\"onRequest\" xlink:href=\"psysml:0057605f-0b36-40b5-a833-d8040f0d9e74\" xlink:show=\"new\" xlink:title=\"psysml:0057605f-0b36-40b5-a833-d8040f0d9e74\" xlink:type=\"simple\"><path d=\"M169.7,201.31 C169.46,219.58 169.1,246.27 168.77,270.44 \" fill=\"none\" id=\"E3-&gt;E2\" style=\"stroke: #383838; stroke-width: 1.0;\"/><polygon fill=\"none\" points=\"175.77,270.86,168.5,290.77,161.77,270.68,175.77,270.86\" style=\"stroke: #383838; stroke-width: 1.0;\"/></a><!--MD5=[15ebcb19ae302d9b601edb458606d402]\n",
       "link E5 to E2--><a href=\"psysml:922ee1f9-edf0-4204-bf0f-0435eb6f66de\" target=\"_top\" title=\"psysml:922ee1f9-edf0-4204-bf0f-0435eb6f66de\" xlink:actuate=\"onRequest\" xlink:href=\"psysml:922ee1f9-edf0-4204-bf0f-0435eb6f66de\" xlink:show=\"new\" xlink:title=\"psysml:922ee1f9-edf0-4204-bf0f-0435eb6f66de\" xlink:type=\"simple\"><path d=\"M255.58,201.31 C242.31,220.5 222.62,248.99 205.27,274.09 \" fill=\"none\" id=\"E5-&gt;E2\" style=\"stroke: #383838; stroke-width: 1.0;\"/><polygon fill=\"none\" points=\"210.87,278.3,193.74,290.77,199.35,270.34,210.87,278.3\" style=\"stroke: #383838; stroke-width: 1.0;\"/></a><!--MD5=[9120cf2e5df3bff93db8f754bbbc09b4]\n",
       "link E5 to E6--><a href=\"psysml:1c0ef759-8c31-4a4a-b0e7-e872c2806a04\" target=\"_top\" title=\"psysml:1c0ef759-8c31-4a4a-b0e7-e872c2806a04\" xlink:actuate=\"onRequest\" xlink:href=\"psysml:1c0ef759-8c31-4a4a-b0e7-e872c2806a04\" xlink:show=\"new\" xlink:title=\"psysml:1c0ef759-8c31-4a4a-b0e7-e872c2806a04\" xlink:type=\"simple\"><path d=\"M270.34,211.55 C269.97,230.03 269.5,253.61 269.07,274.71 \" fill=\"none\" id=\"E5-E6\" style=\"stroke: #383838; stroke-width: 1.0;\"/><polygon fill=\"#383838\" points=\"268.87,284.84,272.0294,276.9016,266.0306,276.7816,268.87,284.84\" style=\"stroke: #383838; stroke-width: 1.0;\"/><path d=\"M262.0288,204.2063 A9,9 0 0 0 278.9393 204.5687\" fill=\"none\" style=\"stroke: #383838; stroke-width: 1.5;\"/><text fill=\"#000000\" font-family=\"sans-serif\" font-size=\"13\" lengthAdjust=\"spacingAndGlyphs\" textLength=\"60\" x=\"270\" y=\"251.0669\">«variant»</text></a><!--MD5=[14ccda38c055a5c0da953d572bc50960]\n",
       "link E7 to E3--><a href=\"psysml:6aa04dcc-8d2e-4853-a2ca-5b94913b0044\" target=\"_top\" title=\"psysml:6aa04dcc-8d2e-4853-a2ca-5b94913b0044\" xlink:actuate=\"onRequest\" xlink:href=\"psysml:6aa04dcc-8d2e-4853-a2ca-5b94913b0044\" xlink:show=\"new\" xlink:title=\"psysml:6aa04dcc-8d2e-4853-a2ca-5b94913b0044\" xlink:type=\"simple\"><path d=\"M155.56,87.13 C157.75,100.78 160.64,118.74 163.25,135 \" fill=\"none\" id=\"E7-&gt;E3\" style=\"stroke: #383838; stroke-width: 1.0;\"/><polygon fill=\"#FFFFFF\" points=\"166.45,154.92,156.5251,137.2707,170.3479,135.0503,166.45,154.92\" style=\"stroke: #383838; stroke-width: 1.0;\"/><ellipse cx=\"157.5958\" cy=\"131.3257\" fill=\"#383838\" rx=\"2\" ry=\"2\" style=\"stroke: #383838; stroke-width: 1.0;\"/><ellipse cx=\"167.4692\" cy=\"129.7396\" fill=\"#383838\" rx=\"2\" ry=\"2\" style=\"stroke: #383838; stroke-width: 1.0;\"/></a><!--MD5=[f1f3f9f2fc535e6147756cb86a7f2e32]\n",
       "link E8 to E2--><a href=\"psysml:62998d3a-e41b-4231-af2c-a0f2b465e4e7\" target=\"_top\" title=\"psysml:62998d3a-e41b-4231-af2c-a0f2b465e4e7\" xlink:actuate=\"onRequest\" xlink:href=\"psysml:62998d3a-e41b-4231-af2c-a0f2b465e4e7\" xlink:show=\"new\" xlink:title=\"psysml:62998d3a-e41b-4231-af2c-a0f2b465e4e7\" xlink:type=\"simple\"><path d=\"M102.2,202.57 C114.6,212.31 127.74,224.5 137,238 C143.95,248.13 149.47,259.96 153.82,271.65 \" fill=\"none\" id=\"E8-&gt;E2\" style=\"stroke: #383838; stroke-width: 1.0;\"/><polygon fill=\"#FFFFFF\" points=\"160.05,290.88,147.5299,274.9663,160.847,270.6472,160.05,290.88\" style=\"stroke: #383838; stroke-width: 1.0;\"/><ellipse cx=\"147.6738\" cy=\"268.9273\" fill=\"#383838\" rx=\"2\" ry=\"2\" style=\"stroke: #383838; stroke-width: 1.0;\"/><ellipse cx=\"157.186\" cy=\"265.8423\" fill=\"#383838\" rx=\"2\" ry=\"2\" style=\"stroke: #383838; stroke-width: 1.0;\"/></a><!--MD5=[ed10624c06dd9a4fa49ccf290e8b16a8]\n",
       "link E8 to E9--><a href=\"psysml:196bced0-9581-41ba-9556-fc72f0b07990\" target=\"_top\" title=\"psysml:196bced0-9581-41ba-9556-fc72f0b07990\" xlink:actuate=\"onRequest\" xlink:href=\"psysml:196bced0-9581-41ba-9556-fc72f0b07990\" xlink:show=\"new\" xlink:title=\"psysml:196bced0-9581-41ba-9556-fc72f0b07990\" xlink:type=\"simple\"><path d=\"M67,218.32 C67,235.6 67,256.15 67,274.77 \" fill=\"none\" id=\"E8-E9\" style=\"stroke: #383838; stroke-width: 1.0;\"/><polygon fill=\"#383838\" points=\"67,284.88,70,276.88,64,276.88,67,284.88\" style=\"stroke: #383838; stroke-width: 1.0;\"/><path d=\"M58.5428,211.1582 A9,9 0 0 0 75.4572 211.1582\" fill=\"none\" style=\"stroke: #383838; stroke-width: 1.5;\"/><text fill=\"#000000\" font-family=\"sans-serif\" font-size=\"13\" lengthAdjust=\"spacingAndGlyphs\" textLength=\"60\" x=\"68\" y=\"251.0669\">«variant»</text></a><!--MD5=[deb19a83c1cf1a5e50cbe527fccc5512]\n",
       "@startuml\r\n",
       "top to bottom direction\r\n",
       "skinparam monochrome true\r\n",
       "skinparam classbackgroundcolor white\r\n",
       "skinparam shadowing false\r\n",
       "skinparam wrapWidth 300\r\n",
       "hide circle\r\n",
       "\r\n",
       "package \"VariabilityTest\" as E1  [[psysml:fc405a6c-3061-4540-9673-8b8e766ba6ac ]]  {\r\n",
       "comp def \"P\" as E2  <<(T,blue)part def>> [[psysml:dc902210-e855-46b4-a2dd-8255fef19514 ]] {\r\n",
       "- - attributes - -\r\n",
       "a\r\n",
       "}\r\n",
       "comp def \"Q\" as E3  <<(T,blue)part def>> [[psysml:b52c8837-30af-42aa-bc51-100eaed5de80 ]] {\r\n",
       "}\r\n",
       "comp def \"B\" as E4  <<(T,blue)attribute def>> [[psysml:f17815b8-46c4-4dd9-bf70-524ba6c03f24 ]] {\r\n",
       "}\r\n",
       "comp def \"V\" as E5  <<(T,blue)part def>> [[psysml:b1ebe526-c40e-4c8f-ae74-16f7fcd1bdc9 ]] {\r\n",
       "}\r\n",
       "comp usage \"x: Q\" as E6  <<(T,blue)part>> [[psysml:05419eac-6c2b-46e9-bd3b-b31f448a077a ]] {\r\n",
       "- - attributes - -\r\n",
       "b: B\\n//:>>P::a// \r\n",
       "}\r\n",
       "comp usage \"q: Q\" as E7  <<(T,blue)part>> [[psysml:bd66bfa4-4cf8-4e62-98d6-c8549fcb8467 ]] {\r\n",
       "}\r\n",
       "comp usage \"v: P\" as E8  <<variation>>\\n <<(T,blue)part>> [[psysml:d11ba367-2498-4d3b-bf9a-6df5f0bc7068 ]] {\r\n",
       "}\r\n",
       "comp usage \"y\" as E9  <<(T,blue)part>> [[psysml:72597939-8390-466d-9479-39928477d122 ]] {\r\n",
       "- - attributes - -\r\n",
       "b: B\\n//:>>P::a// \r\n",
       "}\r\n",
       "E3 - -|> E2 [[psysml:0057605f-0b36-40b5-a833-d8040f0d9e74 ]] \r\n",
       "E5 - -|> E2 [[psysml:922ee1f9-edf0-4204-bf0f-0435eb6f66de ]] \r\n",
       "E5 )- ->> E6 [[psysml:1c0ef759-8c31-4a4a-b0e7-e872c2806a04 ]] : <<variant>>\r\n",
       "E7 - -:|> E3 [[psysml:6aa04dcc-8d2e-4853-a2ca-5b94913b0044 ]] \r\n",
       "E8 - -:|> E2 [[psysml:62998d3a-e41b-4231-af2c-a0f2b465e4e7 ]] \r\n",
       "E8 )- ->> E9 [[psysml:196bced0-9581-41ba-9556-fc72f0b07990 ]] : <<variant>>\r\n",
       "}\r\n",
       "@enduml\r\n",
       "\n",
       "PlantUML version 1.2020.13(Sat Jun 13 12:26:38 UTC 2020)\n",
       "(EPL source distribution)\n",
       "Java Runtime: OpenJDK Runtime Environment\n",
       "JVM: OpenJDK 64-Bit Server VM\n",
       "Default Encoding: UTF-8\n",
       "Language: en\n",
       "Country: null\n",
       "--></g></svg>"
      ]
     },
     "execution_count": 49,
     "metadata": {},
     "output_type": "execute_result"
    }
   ],
   "source": [
    "%viz --style=\"TB\" --view=\"Sequence\" \"VariabilityTest\""
   ]
  },
  {
   "cell_type": "code",
   "execution_count": 50,
   "id": "toxic-submission",
   "metadata": {
    "execution": {
     "iopub.execute_input": "2021-03-25T15:07:50.020901Z",
     "iopub.status.busy": "2021-03-25T15:07:50.020253Z",
     "iopub.status.idle": "2021-03-25T15:07:50.439971Z",
     "shell.execute_reply": "2021-03-25T15:07:50.438350Z"
    }
   },
   "outputs": [
    {
     "data": {
      "image/svg+xml": [
       "<?xml version=\"1.0\" encoding=\"UTF-8\" standalone=\"no\"?><svg xmlns=\"http://www.w3.org/2000/svg\" xmlns:xlink=\"http://www.w3.org/1999/xlink\" contentScriptType=\"application/ecmascript\" contentStyleType=\"text/css\" height=\"401px\" preserveAspectRatio=\"none\" style=\"width:342px;height:401px;\" version=\"1.1\" viewBox=\"0 0 342 401\" width=\"342px\" zoomAndPan=\"magnify\"><defs/><g><!--MD5=[fbc87193dbaf4d95561dea2c320d4a47]\n",
       "cluster E1--><a href=\"psysml:fc405a6c-3061-4540-9673-8b8e766ba6ac\" target=\"_top\" title=\"psysml:fc405a6c-3061-4540-9673-8b8e766ba6ac\" xlink:actuate=\"onRequest\" xlink:href=\"psysml:fc405a6c-3061-4540-9673-8b8e766ba6ac\" xlink:show=\"new\" xlink:title=\"psysml:fc405a6c-3061-4540-9673-8b8e766ba6ac\" xlink:type=\"simple\"><polygon fill=\"#FFFFFF\" points=\"16,6,134,6,141,28.2969,320,28.2969,320,389,16,389,16,6\" style=\"stroke: #000000; stroke-width: 1.5;\"/><line style=\"stroke: #000000; stroke-width: 1.5;\" x1=\"16\" x2=\"141\" y1=\"28.2969\" y2=\"28.2969\"/><text fill=\"#000000\" font-family=\"sans-serif\" font-size=\"14\" font-weight=\"bold\" lengthAdjust=\"spacingAndGlyphs\" textLength=\"112\" x=\"20\" y=\"20.9951\">VariabilityTest</text></a><!--MD5=[b4997ac47864f28c2f74865a473b2911]\n",
       "class E2--><a href=\"psysml:dc902210-e855-46b4-a2dd-8255fef19514\" target=\"_top\" title=\"psysml:dc902210-e855-46b4-a2dd-8255fef19514\" xlink:actuate=\"onRequest\" xlink:href=\"psysml:dc902210-e855-46b4-a2dd-8255fef19514\" xlink:show=\"new\" xlink:title=\"psysml:dc902210-e855-46b4-a2dd-8255fef19514\" xlink:type=\"simple\"><rect fill=\"#FFFFFF\" height=\"75.5469\" id=\"E2\" style=\"stroke: #383838; stroke-width: 1.5;\" width=\"66\" x=\"135\" y=\"291\"/><text fill=\"#000000\" font-family=\"sans-serif\" font-size=\"12\" font-style=\"italic\" lengthAdjust=\"spacingAndGlyphs\" textLength=\"64\" x=\"136\" y=\"307.1387\">«part def»</text><text fill=\"#000000\" font-family=\"sans-serif\" font-size=\"12\" lengthAdjust=\"spacingAndGlyphs\" textLength=\"8\" x=\"164\" y=\"321.1074\">P</text><line style=\"stroke: #383838; stroke-width: 1.5;\" x1=\"136\" x2=\"200\" y1=\"328.9375\" y2=\"328.9375\"/><text fill=\"#000000\" font-family=\"sans-serif\" font-size=\"11\" lengthAdjust=\"spacingAndGlyphs\" textLength=\"7\" x=\"141\" y=\"359.9526\">a</text><line style=\"stroke: #383838; stroke-width: 1.0;\" x1=\"136\" x2=\"140.5\" y1=\"343.3398\" y2=\"343.3398\"/><text fill=\"#000000\" font-family=\"sans-serif\" font-size=\"11\" lengthAdjust=\"spacingAndGlyphs\" textLength=\"55\" x=\"140.5\" y=\"346.6479\">attributes</text><line style=\"stroke: #383838; stroke-width: 1.0;\" x1=\"195.5\" x2=\"200\" y1=\"343.3398\" y2=\"343.3398\"/></a><!--MD5=[09b614a08d8cba4a07c9adeb5e0fee81]\n",
       "class E3--><a href=\"psysml:b52c8837-30af-42aa-bc51-100eaed5de80\" target=\"_top\" title=\"psysml:b52c8837-30af-42aa-bc51-100eaed5de80\" xlink:actuate=\"onRequest\" xlink:href=\"psysml:b52c8837-30af-42aa-bc51-100eaed5de80\" xlink:show=\"new\" xlink:title=\"psysml:b52c8837-30af-42aa-bc51-100eaed5de80\" xlink:type=\"simple\"><rect fill=\"#FFFFFF\" height=\"45.9375\" id=\"E3\" style=\"stroke: #383838; stroke-width: 1.5;\" width=\"66\" x=\"137\" y=\"155\"/><text fill=\"#000000\" font-family=\"sans-serif\" font-size=\"12\" font-style=\"italic\" lengthAdjust=\"spacingAndGlyphs\" textLength=\"64\" x=\"138\" y=\"171.1387\">«part def»</text><text fill=\"#000000\" font-family=\"sans-serif\" font-size=\"12\" lengthAdjust=\"spacingAndGlyphs\" textLength=\"9\" x=\"165.5\" y=\"185.1074\">Q</text><line style=\"stroke: #383838; stroke-width: 1.5;\" x1=\"138\" x2=\"202\" y1=\"192.9375\" y2=\"192.9375\"/></a><!--MD5=[ebbe1d658d1005bcc118a6aa81145e00]\n",
       "class E4--><a href=\"psysml:f17815b8-46c4-4dd9-bf70-524ba6c03f24\" target=\"_top\" title=\"psysml:f17815b8-46c4-4dd9-bf70-524ba6c03f24\" xlink:actuate=\"onRequest\" xlink:href=\"psysml:f17815b8-46c4-4dd9-bf70-524ba6c03f24\" xlink:show=\"new\" xlink:title=\"psysml:f17815b8-46c4-4dd9-bf70-524ba6c03f24\" xlink:type=\"simple\"><rect fill=\"#FFFFFF\" height=\"45.9375\" id=\"E4\" style=\"stroke: #383838; stroke-width: 1.5;\" width=\"95\" x=\"208.5\" y=\"41\"/><text fill=\"#000000\" font-family=\"sans-serif\" font-size=\"12\" font-style=\"italic\" lengthAdjust=\"spacingAndGlyphs\" textLength=\"93\" x=\"209.5\" y=\"57.1387\">«attribute def»</text><text fill=\"#000000\" font-family=\"sans-serif\" font-size=\"12\" lengthAdjust=\"spacingAndGlyphs\" textLength=\"8\" x=\"252\" y=\"71.1074\">B</text><line style=\"stroke: #383838; stroke-width: 1.5;\" x1=\"209.5\" x2=\"302.5\" y1=\"78.9375\" y2=\"78.9375\"/></a><!--MD5=[270fce915f116d4de14055a7c1d9a0f3]\n",
       "class E5--><a href=\"psysml:b1ebe526-c40e-4c8f-ae74-16f7fcd1bdc9\" target=\"_top\" title=\"psysml:b1ebe526-c40e-4c8f-ae74-16f7fcd1bdc9\" xlink:actuate=\"onRequest\" xlink:href=\"psysml:b1ebe526-c40e-4c8f-ae74-16f7fcd1bdc9\" xlink:show=\"new\" xlink:title=\"psysml:b1ebe526-c40e-4c8f-ae74-16f7fcd1bdc9\" xlink:type=\"simple\"><rect fill=\"#FFFFFF\" height=\"45.9375\" id=\"E5\" style=\"stroke: #383838; stroke-width: 1.5;\" width=\"66\" x=\"238\" y=\"155\"/><text fill=\"#000000\" font-family=\"sans-serif\" font-size=\"12\" font-style=\"italic\" lengthAdjust=\"spacingAndGlyphs\" textLength=\"64\" x=\"239\" y=\"171.1387\">«part def»</text><text fill=\"#000000\" font-family=\"sans-serif\" font-size=\"12\" lengthAdjust=\"spacingAndGlyphs\" textLength=\"8\" x=\"267\" y=\"185.1074\">V</text><line style=\"stroke: #383838; stroke-width: 1.5;\" x1=\"239\" x2=\"303\" y1=\"192.9375\" y2=\"192.9375\"/></a><!--MD5=[60a26617385b1d2d0262a64233df1f8d]\n",
       "class E6--><a href=\"psysml:05419eac-6c2b-46e9-bd3b-b31f448a077a\" target=\"_top\" title=\"psysml:05419eac-6c2b-46e9-bd3b-b31f448a077a\" xlink:actuate=\"onRequest\" xlink:href=\"psysml:05419eac-6c2b-46e9-bd3b-b31f448a077a\" xlink:show=\"new\" xlink:title=\"psysml:05419eac-6c2b-46e9-bd3b-b31f448a077a\" xlink:type=\"simple\"><rect fill=\"#FFFFFF\" height=\"88.3516\" id=\"E6\" rx=\"10\" ry=\"10\" style=\"stroke: #383838; stroke-width: 1.5;\" width=\"63\" x=\"236.5\" y=\"285\"/><text fill=\"#000000\" font-family=\"sans-serif\" font-size=\"12\" font-style=\"italic\" lengthAdjust=\"spacingAndGlyphs\" textLength=\"40\" x=\"248\" y=\"301.1387\">«part»</text><text fill=\"#000000\" font-family=\"sans-serif\" font-size=\"12\" lengthAdjust=\"spacingAndGlyphs\" textLength=\"23\" x=\"256.5\" y=\"315.1074\">x: Q</text><line style=\"stroke: #383838; stroke-width: 1.5;\" x1=\"237.5\" x2=\"298.5\" y1=\"322.9375\" y2=\"322.9375\"/><text fill=\"#000000\" font-family=\"sans-serif\" font-size=\"11\" lengthAdjust=\"spacingAndGlyphs\" textLength=\"23\" x=\"242.5\" y=\"353.9526\">b: B</text><text fill=\"#000000\" font-family=\"sans-serif\" font-size=\"11\" font-style=\"italic\" lengthAdjust=\"spacingAndGlyphs\" textLength=\"44\" x=\"242.5\" y=\"366.7573\">:&gt;&gt;P::a</text><line style=\"stroke: #383838; stroke-width: 1.0;\" x1=\"237.5\" x2=\"240.5\" y1=\"337.3398\" y2=\"337.3398\"/><text fill=\"#000000\" font-family=\"sans-serif\" font-size=\"11\" lengthAdjust=\"spacingAndGlyphs\" textLength=\"55\" x=\"240.5\" y=\"340.6479\">attributes</text><line style=\"stroke: #383838; stroke-width: 1.0;\" x1=\"295.5\" x2=\"298.5\" y1=\"337.3398\" y2=\"337.3398\"/></a><!--MD5=[2156ba9850f5573cc1fc38a6a4b2f02b]\n",
       "class E7--><a href=\"psysml:bd66bfa4-4cf8-4e62-98d6-c8549fcb8467\" target=\"_top\" title=\"psysml:bd66bfa4-4cf8-4e62-98d6-c8549fcb8467\" xlink:actuate=\"onRequest\" xlink:href=\"psysml:bd66bfa4-4cf8-4e62-98d6-c8549fcb8467\" xlink:show=\"new\" xlink:title=\"psysml:bd66bfa4-4cf8-4e62-98d6-c8549fcb8467\" xlink:type=\"simple\"><rect fill=\"#FFFFFF\" height=\"45.9375\" id=\"E7\" rx=\"10\" ry=\"10\" style=\"stroke: #383838; stroke-width: 1.5;\" width=\"42\" x=\"131\" y=\"41\"/><text fill=\"#000000\" font-family=\"sans-serif\" font-size=\"12\" font-style=\"italic\" lengthAdjust=\"spacingAndGlyphs\" textLength=\"40\" x=\"132\" y=\"57.1387\">«part»</text><text fill=\"#000000\" font-family=\"sans-serif\" font-size=\"12\" lengthAdjust=\"spacingAndGlyphs\" textLength=\"25\" x=\"139.5\" y=\"71.1074\">q: Q</text><line style=\"stroke: #383838; stroke-width: 1.5;\" x1=\"132\" x2=\"172\" y1=\"78.9375\" y2=\"78.9375\"/></a><!--MD5=[b9389687b975829384b498ac4b7476b2]\n",
       "class E8--><a href=\"psysml:d11ba367-2498-4d3b-bf9a-6df5f0bc7068\" target=\"_top\" title=\"psysml:d11ba367-2498-4d3b-bf9a-6df5f0bc7068\" xlink:actuate=\"onRequest\" xlink:href=\"psysml:d11ba367-2498-4d3b-bf9a-6df5f0bc7068\" xlink:show=\"new\" xlink:title=\"psysml:d11ba367-2498-4d3b-bf9a-6df5f0bc7068\" xlink:type=\"simple\"><rect fill=\"#FFFFFF\" height=\"59.9063\" id=\"E8\" rx=\"10\" ry=\"10\" style=\"stroke: #383838; stroke-width: 1.5;\" width=\"70\" x=\"32\" y=\"148\"/><text fill=\"#000000\" font-family=\"sans-serif\" font-size=\"12\" font-style=\"italic\" lengthAdjust=\"spacingAndGlyphs\" textLength=\"68\" x=\"33\" y=\"164.1387\">«variation»</text><text fill=\"#000000\" font-family=\"sans-serif\" font-size=\"12\" font-style=\"italic\" lengthAdjust=\"spacingAndGlyphs\" textLength=\"40\" x=\"47\" y=\"178.1074\">«part»</text><text fill=\"#000000\" font-family=\"sans-serif\" font-size=\"12\" lengthAdjust=\"spacingAndGlyphs\" textLength=\"22\" x=\"56\" y=\"192.0762\">v: P</text><line style=\"stroke: #383838; stroke-width: 1.5;\" x1=\"33\" x2=\"101\" y1=\"199.9063\" y2=\"199.9063\"/></a><!--MD5=[fd4143e9d270a159db93a4ea2a975926]\n",
       "class E9--><a href=\"psysml:72597939-8390-466d-9479-39928477d122\" target=\"_top\" title=\"psysml:72597939-8390-466d-9479-39928477d122\" xlink:actuate=\"onRequest\" xlink:href=\"psysml:72597939-8390-466d-9479-39928477d122\" xlink:show=\"new\" xlink:title=\"psysml:72597939-8390-466d-9479-39928477d122\" xlink:type=\"simple\"><rect fill=\"#FFFFFF\" height=\"88.3516\" id=\"E9\" rx=\"10\" ry=\"10\" style=\"stroke: #383838; stroke-width: 1.5;\" width=\"63\" x=\"35.5\" y=\"285\"/><text fill=\"#000000\" font-family=\"sans-serif\" font-size=\"12\" font-style=\"italic\" lengthAdjust=\"spacingAndGlyphs\" textLength=\"40\" x=\"47\" y=\"301.1387\">«part»</text><text fill=\"#000000\" font-family=\"sans-serif\" font-size=\"12\" lengthAdjust=\"spacingAndGlyphs\" textLength=\"6\" x=\"64\" y=\"315.1074\">y</text><line style=\"stroke: #383838; stroke-width: 1.5;\" x1=\"36.5\" x2=\"97.5\" y1=\"322.9375\" y2=\"322.9375\"/><text fill=\"#000000\" font-family=\"sans-serif\" font-size=\"11\" lengthAdjust=\"spacingAndGlyphs\" textLength=\"23\" x=\"41.5\" y=\"353.9526\">b: B</text><text fill=\"#000000\" font-family=\"sans-serif\" font-size=\"11\" font-style=\"italic\" lengthAdjust=\"spacingAndGlyphs\" textLength=\"44\" x=\"41.5\" y=\"366.7573\">:&gt;&gt;P::a</text><line style=\"stroke: #383838; stroke-width: 1.0;\" x1=\"36.5\" x2=\"39.5\" y1=\"337.3398\" y2=\"337.3398\"/><text fill=\"#000000\" font-family=\"sans-serif\" font-size=\"11\" lengthAdjust=\"spacingAndGlyphs\" textLength=\"55\" x=\"39.5\" y=\"340.6479\">attributes</text><line style=\"stroke: #383838; stroke-width: 1.0;\" x1=\"94.5\" x2=\"97.5\" y1=\"337.3398\" y2=\"337.3398\"/></a><!--MD5=[05d275557350bfb9b23a4ef7222b4c39]\n",
       "link E3 to E2--><a href=\"psysml:0057605f-0b36-40b5-a833-d8040f0d9e74\" target=\"_top\" title=\"psysml:0057605f-0b36-40b5-a833-d8040f0d9e74\" xlink:actuate=\"onRequest\" xlink:href=\"psysml:0057605f-0b36-40b5-a833-d8040f0d9e74\" xlink:show=\"new\" xlink:title=\"psysml:0057605f-0b36-40b5-a833-d8040f0d9e74\" xlink:type=\"simple\"><path d=\"M169.7,201.31 C169.46,219.58 169.1,246.27 168.77,270.44 \" fill=\"none\" id=\"E3-&gt;E2\" style=\"stroke: #383838; stroke-width: 1.0;\"/><polygon fill=\"none\" points=\"175.77,270.86,168.5,290.77,161.77,270.68,175.77,270.86\" style=\"stroke: #383838; stroke-width: 1.0;\"/></a><!--MD5=[15ebcb19ae302d9b601edb458606d402]\n",
       "link E5 to E2--><a href=\"psysml:922ee1f9-edf0-4204-bf0f-0435eb6f66de\" target=\"_top\" title=\"psysml:922ee1f9-edf0-4204-bf0f-0435eb6f66de\" xlink:actuate=\"onRequest\" xlink:href=\"psysml:922ee1f9-edf0-4204-bf0f-0435eb6f66de\" xlink:show=\"new\" xlink:title=\"psysml:922ee1f9-edf0-4204-bf0f-0435eb6f66de\" xlink:type=\"simple\"><path d=\"M255.58,201.31 C242.31,220.5 222.62,248.99 205.27,274.09 \" fill=\"none\" id=\"E5-&gt;E2\" style=\"stroke: #383838; stroke-width: 1.0;\"/><polygon fill=\"none\" points=\"210.87,278.3,193.74,290.77,199.35,270.34,210.87,278.3\" style=\"stroke: #383838; stroke-width: 1.0;\"/></a><!--MD5=[9120cf2e5df3bff93db8f754bbbc09b4]\n",
       "link E5 to E6--><a href=\"psysml:1c0ef759-8c31-4a4a-b0e7-e872c2806a04\" target=\"_top\" title=\"psysml:1c0ef759-8c31-4a4a-b0e7-e872c2806a04\" xlink:actuate=\"onRequest\" xlink:href=\"psysml:1c0ef759-8c31-4a4a-b0e7-e872c2806a04\" xlink:show=\"new\" xlink:title=\"psysml:1c0ef759-8c31-4a4a-b0e7-e872c2806a04\" xlink:type=\"simple\"><path d=\"M270.34,211.55 C269.97,230.03 269.5,253.61 269.07,274.71 \" fill=\"none\" id=\"E5-E6\" style=\"stroke: #383838; stroke-width: 1.0;\"/><polygon fill=\"#383838\" points=\"268.87,284.84,272.0294,276.9016,266.0306,276.7816,268.87,284.84\" style=\"stroke: #383838; stroke-width: 1.0;\"/><path d=\"M262.0288,204.2063 A9,9 0 0 0 278.9393 204.5687\" fill=\"none\" style=\"stroke: #383838; stroke-width: 1.5;\"/><text fill=\"#000000\" font-family=\"sans-serif\" font-size=\"13\" lengthAdjust=\"spacingAndGlyphs\" textLength=\"60\" x=\"270\" y=\"251.0669\">«variant»</text></a><!--MD5=[14ccda38c055a5c0da953d572bc50960]\n",
       "link E7 to E3--><a href=\"psysml:6aa04dcc-8d2e-4853-a2ca-5b94913b0044\" target=\"_top\" title=\"psysml:6aa04dcc-8d2e-4853-a2ca-5b94913b0044\" xlink:actuate=\"onRequest\" xlink:href=\"psysml:6aa04dcc-8d2e-4853-a2ca-5b94913b0044\" xlink:show=\"new\" xlink:title=\"psysml:6aa04dcc-8d2e-4853-a2ca-5b94913b0044\" xlink:type=\"simple\"><path d=\"M155.56,87.13 C157.75,100.78 160.64,118.74 163.25,135 \" fill=\"none\" id=\"E7-&gt;E3\" style=\"stroke: #383838; stroke-width: 1.0;\"/><polygon fill=\"#FFFFFF\" points=\"166.45,154.92,156.5251,137.2707,170.3479,135.0503,166.45,154.92\" style=\"stroke: #383838; stroke-width: 1.0;\"/><ellipse cx=\"157.5958\" cy=\"131.3257\" fill=\"#383838\" rx=\"2\" ry=\"2\" style=\"stroke: #383838; stroke-width: 1.0;\"/><ellipse cx=\"167.4692\" cy=\"129.7396\" fill=\"#383838\" rx=\"2\" ry=\"2\" style=\"stroke: #383838; stroke-width: 1.0;\"/></a><!--MD5=[f1f3f9f2fc535e6147756cb86a7f2e32]\n",
       "link E8 to E2--><a href=\"psysml:62998d3a-e41b-4231-af2c-a0f2b465e4e7\" target=\"_top\" title=\"psysml:62998d3a-e41b-4231-af2c-a0f2b465e4e7\" xlink:actuate=\"onRequest\" xlink:href=\"psysml:62998d3a-e41b-4231-af2c-a0f2b465e4e7\" xlink:show=\"new\" xlink:title=\"psysml:62998d3a-e41b-4231-af2c-a0f2b465e4e7\" xlink:type=\"simple\"><path d=\"M102.2,202.57 C114.6,212.31 127.74,224.5 137,238 C143.95,248.13 149.47,259.96 153.82,271.65 \" fill=\"none\" id=\"E8-&gt;E2\" style=\"stroke: #383838; stroke-width: 1.0;\"/><polygon fill=\"#FFFFFF\" points=\"160.05,290.88,147.5299,274.9663,160.847,270.6472,160.05,290.88\" style=\"stroke: #383838; stroke-width: 1.0;\"/><ellipse cx=\"147.6738\" cy=\"268.9273\" fill=\"#383838\" rx=\"2\" ry=\"2\" style=\"stroke: #383838; stroke-width: 1.0;\"/><ellipse cx=\"157.186\" cy=\"265.8423\" fill=\"#383838\" rx=\"2\" ry=\"2\" style=\"stroke: #383838; stroke-width: 1.0;\"/></a><!--MD5=[ed10624c06dd9a4fa49ccf290e8b16a8]\n",
       "link E8 to E9--><a href=\"psysml:196bced0-9581-41ba-9556-fc72f0b07990\" target=\"_top\" title=\"psysml:196bced0-9581-41ba-9556-fc72f0b07990\" xlink:actuate=\"onRequest\" xlink:href=\"psysml:196bced0-9581-41ba-9556-fc72f0b07990\" xlink:show=\"new\" xlink:title=\"psysml:196bced0-9581-41ba-9556-fc72f0b07990\" xlink:type=\"simple\"><path d=\"M67,218.32 C67,235.6 67,256.15 67,274.77 \" fill=\"none\" id=\"E8-E9\" style=\"stroke: #383838; stroke-width: 1.0;\"/><polygon fill=\"#383838\" points=\"67,284.88,70,276.88,64,276.88,67,284.88\" style=\"stroke: #383838; stroke-width: 1.0;\"/><path d=\"M58.5428,211.1582 A9,9 0 0 0 75.4572 211.1582\" fill=\"none\" style=\"stroke: #383838; stroke-width: 1.5;\"/><text fill=\"#000000\" font-family=\"sans-serif\" font-size=\"13\" lengthAdjust=\"spacingAndGlyphs\" textLength=\"60\" x=\"68\" y=\"251.0669\">«variant»</text></a><!--MD5=[deb19a83c1cf1a5e50cbe527fccc5512]\n",
       "@startuml\r\n",
       "top to bottom direction\r\n",
       "skinparam monochrome true\r\n",
       "skinparam classbackgroundcolor white\r\n",
       "skinparam shadowing false\r\n",
       "skinparam wrapWidth 300\r\n",
       "hide circle\r\n",
       "\r\n",
       "package \"VariabilityTest\" as E1  [[psysml:fc405a6c-3061-4540-9673-8b8e766ba6ac ]]  {\r\n",
       "comp def \"P\" as E2  <<(T,blue)part def>> [[psysml:dc902210-e855-46b4-a2dd-8255fef19514 ]] {\r\n",
       "- - attributes - -\r\n",
       "a\r\n",
       "}\r\n",
       "comp def \"Q\" as E3  <<(T,blue)part def>> [[psysml:b52c8837-30af-42aa-bc51-100eaed5de80 ]] {\r\n",
       "}\r\n",
       "comp def \"B\" as E4  <<(T,blue)attribute def>> [[psysml:f17815b8-46c4-4dd9-bf70-524ba6c03f24 ]] {\r\n",
       "}\r\n",
       "comp def \"V\" as E5  <<(T,blue)part def>> [[psysml:b1ebe526-c40e-4c8f-ae74-16f7fcd1bdc9 ]] {\r\n",
       "}\r\n",
       "comp usage \"x: Q\" as E6  <<(T,blue)part>> [[psysml:05419eac-6c2b-46e9-bd3b-b31f448a077a ]] {\r\n",
       "- - attributes - -\r\n",
       "b: B\\n//:>>P::a// \r\n",
       "}\r\n",
       "comp usage \"q: Q\" as E7  <<(T,blue)part>> [[psysml:bd66bfa4-4cf8-4e62-98d6-c8549fcb8467 ]] {\r\n",
       "}\r\n",
       "comp usage \"v: P\" as E8  <<variation>>\\n <<(T,blue)part>> [[psysml:d11ba367-2498-4d3b-bf9a-6df5f0bc7068 ]] {\r\n",
       "}\r\n",
       "comp usage \"y\" as E9  <<(T,blue)part>> [[psysml:72597939-8390-466d-9479-39928477d122 ]] {\r\n",
       "- - attributes - -\r\n",
       "b: B\\n//:>>P::a// \r\n",
       "}\r\n",
       "E3 - -|> E2 [[psysml:0057605f-0b36-40b5-a833-d8040f0d9e74 ]] \r\n",
       "E5 - -|> E2 [[psysml:922ee1f9-edf0-4204-bf0f-0435eb6f66de ]] \r\n",
       "E5 )- ->> E6 [[psysml:1c0ef759-8c31-4a4a-b0e7-e872c2806a04 ]] : <<variant>>\r\n",
       "E7 - -:|> E3 [[psysml:6aa04dcc-8d2e-4853-a2ca-5b94913b0044 ]] \r\n",
       "E8 - -:|> E2 [[psysml:62998d3a-e41b-4231-af2c-a0f2b465e4e7 ]] \r\n",
       "E8 )- ->> E9 [[psysml:196bced0-9581-41ba-9556-fc72f0b07990 ]] : <<variant>>\r\n",
       "}\r\n",
       "@enduml\r\n",
       "\n",
       "PlantUML version 1.2020.13(Sat Jun 13 12:26:38 UTC 2020)\n",
       "(EPL source distribution)\n",
       "Java Runtime: OpenJDK Runtime Environment\n",
       "JVM: OpenJDK 64-Bit Server VM\n",
       "Default Encoding: UTF-8\n",
       "Language: en\n",
       "Country: null\n",
       "--></g></svg>"
      ]
     },
     "execution_count": 50,
     "metadata": {},
     "output_type": "execute_result"
    }
   ],
   "source": [
    "%viz --style=\"TB\" --view=\"MIXED\" \"VariabilityTest\""
   ]
  },
  {
   "cell_type": "code",
   "execution_count": 51,
   "id": "frequent-airfare",
   "metadata": {
    "execution": {
     "iopub.execute_input": "2021-03-25T15:07:50.491854Z",
     "iopub.status.busy": "2021-03-25T15:07:50.491206Z",
     "iopub.status.idle": "2021-03-25T15:07:50.917702Z",
     "shell.execute_reply": "2021-03-25T15:07:50.914630Z"
    }
   },
   "outputs": [
    {
     "data": {
      "image/svg+xml": [
       "<?xml version=\"1.0\" encoding=\"UTF-8\" standalone=\"no\"?><svg xmlns=\"http://www.w3.org/2000/svg\" xmlns:xlink=\"http://www.w3.org/1999/xlink\" contentScriptType=\"application/ecmascript\" contentStyleType=\"text/css\" height=\"401px\" preserveAspectRatio=\"none\" style=\"width:342px;height:401px;\" version=\"1.1\" viewBox=\"0 0 342 401\" width=\"342px\" zoomAndPan=\"magnify\"><defs/><g><!--MD5=[fbc87193dbaf4d95561dea2c320d4a47]\n",
       "cluster E1--><a href=\"psysml:fc405a6c-3061-4540-9673-8b8e766ba6ac\" target=\"_top\" title=\"psysml:fc405a6c-3061-4540-9673-8b8e766ba6ac\" xlink:actuate=\"onRequest\" xlink:href=\"psysml:fc405a6c-3061-4540-9673-8b8e766ba6ac\" xlink:show=\"new\" xlink:title=\"psysml:fc405a6c-3061-4540-9673-8b8e766ba6ac\" xlink:type=\"simple\"><polygon fill=\"#FFFFFF\" points=\"16,6,134,6,141,28.2969,320,28.2969,320,389,16,389,16,6\" style=\"stroke: #000000; stroke-width: 1.5;\"/><line style=\"stroke: #000000; stroke-width: 1.5;\" x1=\"16\" x2=\"141\" y1=\"28.2969\" y2=\"28.2969\"/><text fill=\"#000000\" font-family=\"sans-serif\" font-size=\"14\" font-weight=\"bold\" lengthAdjust=\"spacingAndGlyphs\" textLength=\"112\" x=\"20\" y=\"20.9951\">VariabilityTest</text></a><!--MD5=[b4997ac47864f28c2f74865a473b2911]\n",
       "class E2--><a href=\"psysml:dc902210-e855-46b4-a2dd-8255fef19514\" target=\"_top\" title=\"psysml:dc902210-e855-46b4-a2dd-8255fef19514\" xlink:actuate=\"onRequest\" xlink:href=\"psysml:dc902210-e855-46b4-a2dd-8255fef19514\" xlink:show=\"new\" xlink:title=\"psysml:dc902210-e855-46b4-a2dd-8255fef19514\" xlink:type=\"simple\"><rect fill=\"#FFFFFF\" height=\"75.5469\" id=\"E2\" style=\"stroke: #383838; stroke-width: 1.5;\" width=\"66\" x=\"135\" y=\"291\"/><text fill=\"#000000\" font-family=\"sans-serif\" font-size=\"12\" font-style=\"italic\" lengthAdjust=\"spacingAndGlyphs\" textLength=\"64\" x=\"136\" y=\"307.1387\">«part def»</text><text fill=\"#000000\" font-family=\"sans-serif\" font-size=\"12\" lengthAdjust=\"spacingAndGlyphs\" textLength=\"8\" x=\"164\" y=\"321.1074\">P</text><line style=\"stroke: #383838; stroke-width: 1.5;\" x1=\"136\" x2=\"200\" y1=\"328.9375\" y2=\"328.9375\"/><text fill=\"#000000\" font-family=\"sans-serif\" font-size=\"11\" lengthAdjust=\"spacingAndGlyphs\" textLength=\"7\" x=\"141\" y=\"359.9526\">a</text><line style=\"stroke: #383838; stroke-width: 1.0;\" x1=\"136\" x2=\"140.5\" y1=\"343.3398\" y2=\"343.3398\"/><text fill=\"#000000\" font-family=\"sans-serif\" font-size=\"11\" lengthAdjust=\"spacingAndGlyphs\" textLength=\"55\" x=\"140.5\" y=\"346.6479\">attributes</text><line style=\"stroke: #383838; stroke-width: 1.0;\" x1=\"195.5\" x2=\"200\" y1=\"343.3398\" y2=\"343.3398\"/></a><!--MD5=[09b614a08d8cba4a07c9adeb5e0fee81]\n",
       "class E3--><a href=\"psysml:b52c8837-30af-42aa-bc51-100eaed5de80\" target=\"_top\" title=\"psysml:b52c8837-30af-42aa-bc51-100eaed5de80\" xlink:actuate=\"onRequest\" xlink:href=\"psysml:b52c8837-30af-42aa-bc51-100eaed5de80\" xlink:show=\"new\" xlink:title=\"psysml:b52c8837-30af-42aa-bc51-100eaed5de80\" xlink:type=\"simple\"><rect fill=\"#FFFFFF\" height=\"45.9375\" id=\"E3\" style=\"stroke: #383838; stroke-width: 1.5;\" width=\"66\" x=\"137\" y=\"155\"/><text fill=\"#000000\" font-family=\"sans-serif\" font-size=\"12\" font-style=\"italic\" lengthAdjust=\"spacingAndGlyphs\" textLength=\"64\" x=\"138\" y=\"171.1387\">«part def»</text><text fill=\"#000000\" font-family=\"sans-serif\" font-size=\"12\" lengthAdjust=\"spacingAndGlyphs\" textLength=\"9\" x=\"165.5\" y=\"185.1074\">Q</text><line style=\"stroke: #383838; stroke-width: 1.5;\" x1=\"138\" x2=\"202\" y1=\"192.9375\" y2=\"192.9375\"/></a><!--MD5=[ebbe1d658d1005bcc118a6aa81145e00]\n",
       "class E4--><a href=\"psysml:f17815b8-46c4-4dd9-bf70-524ba6c03f24\" target=\"_top\" title=\"psysml:f17815b8-46c4-4dd9-bf70-524ba6c03f24\" xlink:actuate=\"onRequest\" xlink:href=\"psysml:f17815b8-46c4-4dd9-bf70-524ba6c03f24\" xlink:show=\"new\" xlink:title=\"psysml:f17815b8-46c4-4dd9-bf70-524ba6c03f24\" xlink:type=\"simple\"><rect fill=\"#FFFFFF\" height=\"45.9375\" id=\"E4\" style=\"stroke: #383838; stroke-width: 1.5;\" width=\"95\" x=\"208.5\" y=\"41\"/><text fill=\"#000000\" font-family=\"sans-serif\" font-size=\"12\" font-style=\"italic\" lengthAdjust=\"spacingAndGlyphs\" textLength=\"93\" x=\"209.5\" y=\"57.1387\">«attribute def»</text><text fill=\"#000000\" font-family=\"sans-serif\" font-size=\"12\" lengthAdjust=\"spacingAndGlyphs\" textLength=\"8\" x=\"252\" y=\"71.1074\">B</text><line style=\"stroke: #383838; stroke-width: 1.5;\" x1=\"209.5\" x2=\"302.5\" y1=\"78.9375\" y2=\"78.9375\"/></a><!--MD5=[270fce915f116d4de14055a7c1d9a0f3]\n",
       "class E5--><a href=\"psysml:b1ebe526-c40e-4c8f-ae74-16f7fcd1bdc9\" target=\"_top\" title=\"psysml:b1ebe526-c40e-4c8f-ae74-16f7fcd1bdc9\" xlink:actuate=\"onRequest\" xlink:href=\"psysml:b1ebe526-c40e-4c8f-ae74-16f7fcd1bdc9\" xlink:show=\"new\" xlink:title=\"psysml:b1ebe526-c40e-4c8f-ae74-16f7fcd1bdc9\" xlink:type=\"simple\"><rect fill=\"#FFFFFF\" height=\"45.9375\" id=\"E5\" style=\"stroke: #383838; stroke-width: 1.5;\" width=\"66\" x=\"238\" y=\"155\"/><text fill=\"#000000\" font-family=\"sans-serif\" font-size=\"12\" font-style=\"italic\" lengthAdjust=\"spacingAndGlyphs\" textLength=\"64\" x=\"239\" y=\"171.1387\">«part def»</text><text fill=\"#000000\" font-family=\"sans-serif\" font-size=\"12\" lengthAdjust=\"spacingAndGlyphs\" textLength=\"8\" x=\"267\" y=\"185.1074\">V</text><line style=\"stroke: #383838; stroke-width: 1.5;\" x1=\"239\" x2=\"303\" y1=\"192.9375\" y2=\"192.9375\"/></a><!--MD5=[60a26617385b1d2d0262a64233df1f8d]\n",
       "class E6--><a href=\"psysml:05419eac-6c2b-46e9-bd3b-b31f448a077a\" target=\"_top\" title=\"psysml:05419eac-6c2b-46e9-bd3b-b31f448a077a\" xlink:actuate=\"onRequest\" xlink:href=\"psysml:05419eac-6c2b-46e9-bd3b-b31f448a077a\" xlink:show=\"new\" xlink:title=\"psysml:05419eac-6c2b-46e9-bd3b-b31f448a077a\" xlink:type=\"simple\"><rect fill=\"#FFFFFF\" height=\"88.3516\" id=\"E6\" rx=\"10\" ry=\"10\" style=\"stroke: #383838; stroke-width: 1.5;\" width=\"63\" x=\"236.5\" y=\"285\"/><text fill=\"#000000\" font-family=\"sans-serif\" font-size=\"12\" font-style=\"italic\" lengthAdjust=\"spacingAndGlyphs\" textLength=\"40\" x=\"248\" y=\"301.1387\">«part»</text><text fill=\"#000000\" font-family=\"sans-serif\" font-size=\"12\" lengthAdjust=\"spacingAndGlyphs\" textLength=\"23\" x=\"256.5\" y=\"315.1074\">x: Q</text><line style=\"stroke: #383838; stroke-width: 1.5;\" x1=\"237.5\" x2=\"298.5\" y1=\"322.9375\" y2=\"322.9375\"/><text fill=\"#000000\" font-family=\"sans-serif\" font-size=\"11\" lengthAdjust=\"spacingAndGlyphs\" textLength=\"23\" x=\"242.5\" y=\"353.9526\">b: B</text><text fill=\"#000000\" font-family=\"sans-serif\" font-size=\"11\" font-style=\"italic\" lengthAdjust=\"spacingAndGlyphs\" textLength=\"44\" x=\"242.5\" y=\"366.7573\">:&gt;&gt;P::a</text><line style=\"stroke: #383838; stroke-width: 1.0;\" x1=\"237.5\" x2=\"240.5\" y1=\"337.3398\" y2=\"337.3398\"/><text fill=\"#000000\" font-family=\"sans-serif\" font-size=\"11\" lengthAdjust=\"spacingAndGlyphs\" textLength=\"55\" x=\"240.5\" y=\"340.6479\">attributes</text><line style=\"stroke: #383838; stroke-width: 1.0;\" x1=\"295.5\" x2=\"298.5\" y1=\"337.3398\" y2=\"337.3398\"/></a><!--MD5=[2156ba9850f5573cc1fc38a6a4b2f02b]\n",
       "class E7--><a href=\"psysml:bd66bfa4-4cf8-4e62-98d6-c8549fcb8467\" target=\"_top\" title=\"psysml:bd66bfa4-4cf8-4e62-98d6-c8549fcb8467\" xlink:actuate=\"onRequest\" xlink:href=\"psysml:bd66bfa4-4cf8-4e62-98d6-c8549fcb8467\" xlink:show=\"new\" xlink:title=\"psysml:bd66bfa4-4cf8-4e62-98d6-c8549fcb8467\" xlink:type=\"simple\"><rect fill=\"#FFFFFF\" height=\"45.9375\" id=\"E7\" rx=\"10\" ry=\"10\" style=\"stroke: #383838; stroke-width: 1.5;\" width=\"42\" x=\"131\" y=\"41\"/><text fill=\"#000000\" font-family=\"sans-serif\" font-size=\"12\" font-style=\"italic\" lengthAdjust=\"spacingAndGlyphs\" textLength=\"40\" x=\"132\" y=\"57.1387\">«part»</text><text fill=\"#000000\" font-family=\"sans-serif\" font-size=\"12\" lengthAdjust=\"spacingAndGlyphs\" textLength=\"25\" x=\"139.5\" y=\"71.1074\">q: Q</text><line style=\"stroke: #383838; stroke-width: 1.5;\" x1=\"132\" x2=\"172\" y1=\"78.9375\" y2=\"78.9375\"/></a><!--MD5=[b9389687b975829384b498ac4b7476b2]\n",
       "class E8--><a href=\"psysml:d11ba367-2498-4d3b-bf9a-6df5f0bc7068\" target=\"_top\" title=\"psysml:d11ba367-2498-4d3b-bf9a-6df5f0bc7068\" xlink:actuate=\"onRequest\" xlink:href=\"psysml:d11ba367-2498-4d3b-bf9a-6df5f0bc7068\" xlink:show=\"new\" xlink:title=\"psysml:d11ba367-2498-4d3b-bf9a-6df5f0bc7068\" xlink:type=\"simple\"><rect fill=\"#FFFFFF\" height=\"59.9063\" id=\"E8\" rx=\"10\" ry=\"10\" style=\"stroke: #383838; stroke-width: 1.5;\" width=\"70\" x=\"32\" y=\"148\"/><text fill=\"#000000\" font-family=\"sans-serif\" font-size=\"12\" font-style=\"italic\" lengthAdjust=\"spacingAndGlyphs\" textLength=\"68\" x=\"33\" y=\"164.1387\">«variation»</text><text fill=\"#000000\" font-family=\"sans-serif\" font-size=\"12\" font-style=\"italic\" lengthAdjust=\"spacingAndGlyphs\" textLength=\"40\" x=\"47\" y=\"178.1074\">«part»</text><text fill=\"#000000\" font-family=\"sans-serif\" font-size=\"12\" lengthAdjust=\"spacingAndGlyphs\" textLength=\"22\" x=\"56\" y=\"192.0762\">v: P</text><line style=\"stroke: #383838; stroke-width: 1.5;\" x1=\"33\" x2=\"101\" y1=\"199.9063\" y2=\"199.9063\"/></a><!--MD5=[fd4143e9d270a159db93a4ea2a975926]\n",
       "class E9--><a href=\"psysml:72597939-8390-466d-9479-39928477d122\" target=\"_top\" title=\"psysml:72597939-8390-466d-9479-39928477d122\" xlink:actuate=\"onRequest\" xlink:href=\"psysml:72597939-8390-466d-9479-39928477d122\" xlink:show=\"new\" xlink:title=\"psysml:72597939-8390-466d-9479-39928477d122\" xlink:type=\"simple\"><rect fill=\"#FFFFFF\" height=\"88.3516\" id=\"E9\" rx=\"10\" ry=\"10\" style=\"stroke: #383838; stroke-width: 1.5;\" width=\"63\" x=\"35.5\" y=\"285\"/><text fill=\"#000000\" font-family=\"sans-serif\" font-size=\"12\" font-style=\"italic\" lengthAdjust=\"spacingAndGlyphs\" textLength=\"40\" x=\"47\" y=\"301.1387\">«part»</text><text fill=\"#000000\" font-family=\"sans-serif\" font-size=\"12\" lengthAdjust=\"spacingAndGlyphs\" textLength=\"6\" x=\"64\" y=\"315.1074\">y</text><line style=\"stroke: #383838; stroke-width: 1.5;\" x1=\"36.5\" x2=\"97.5\" y1=\"322.9375\" y2=\"322.9375\"/><text fill=\"#000000\" font-family=\"sans-serif\" font-size=\"11\" lengthAdjust=\"spacingAndGlyphs\" textLength=\"23\" x=\"41.5\" y=\"353.9526\">b: B</text><text fill=\"#000000\" font-family=\"sans-serif\" font-size=\"11\" font-style=\"italic\" lengthAdjust=\"spacingAndGlyphs\" textLength=\"44\" x=\"41.5\" y=\"366.7573\">:&gt;&gt;P::a</text><line style=\"stroke: #383838; stroke-width: 1.0;\" x1=\"36.5\" x2=\"39.5\" y1=\"337.3398\" y2=\"337.3398\"/><text fill=\"#000000\" font-family=\"sans-serif\" font-size=\"11\" lengthAdjust=\"spacingAndGlyphs\" textLength=\"55\" x=\"39.5\" y=\"340.6479\">attributes</text><line style=\"stroke: #383838; stroke-width: 1.0;\" x1=\"94.5\" x2=\"97.5\" y1=\"337.3398\" y2=\"337.3398\"/></a><!--MD5=[05d275557350bfb9b23a4ef7222b4c39]\n",
       "link E3 to E2--><a href=\"psysml:0057605f-0b36-40b5-a833-d8040f0d9e74\" target=\"_top\" title=\"psysml:0057605f-0b36-40b5-a833-d8040f0d9e74\" xlink:actuate=\"onRequest\" xlink:href=\"psysml:0057605f-0b36-40b5-a833-d8040f0d9e74\" xlink:show=\"new\" xlink:title=\"psysml:0057605f-0b36-40b5-a833-d8040f0d9e74\" xlink:type=\"simple\"><path d=\"M179.67,201.26 C179.67,201.26 179.67,270.73 179.67,270.73 \" fill=\"none\" id=\"E3-&gt;E2\" style=\"stroke: #383838; stroke-width: 1.0;\"/><polygon fill=\"none\" points=\"186.67,270.73,179.67,290.73,172.67,270.73,186.67,270.73\" style=\"stroke: #383838; stroke-width: 1.0;\"/></a><!--MD5=[15ebcb19ae302d9b601edb458606d402]\n",
       "link E5 to E2--><a href=\"psysml:922ee1f9-edf0-4204-bf0f-0435eb6f66de\" target=\"_top\" title=\"psysml:922ee1f9-edf0-4204-bf0f-0435eb6f66de\" xlink:actuate=\"onRequest\" xlink:href=\"psysml:922ee1f9-edf0-4204-bf0f-0435eb6f66de\" xlink:show=\"new\" xlink:title=\"psysml:922ee1f9-edf0-4204-bf0f-0435eb6f66de\" xlink:type=\"simple\"><path d=\"M237.85,178 C229.32,178 222.5,178 222.5,178 C222.5,178 222.5,329 222.5,329 C222.5,329 220.38,329 220.38,329 \" fill=\"none\" id=\"E5-&gt;E2\" style=\"stroke: #383838; stroke-width: 1.0;\"/><polygon fill=\"none\" points=\"221.27,336,201.27,329,221.27,322,221.27,336\" style=\"stroke: #383838; stroke-width: 1.0;\"/></a><!--MD5=[9120cf2e5df3bff93db8f754bbbc09b4]\n",
       "link E5 to E6--><a href=\"psysml:1c0ef759-8c31-4a4a-b0e7-e872c2806a04\" target=\"_top\" title=\"psysml:1c0ef759-8c31-4a4a-b0e7-e872c2806a04\" xlink:actuate=\"onRequest\" xlink:href=\"psysml:1c0ef759-8c31-4a4a-b0e7-e872c2806a04\" xlink:show=\"new\" xlink:title=\"psysml:1c0ef759-8c31-4a4a-b0e7-e872c2806a04\" xlink:type=\"simple\"><path d=\"M268.75,211.26 C268.75,211.26 268.75,274.72 268.75,274.72 \" fill=\"none\" id=\"E5-E6\" style=\"stroke: #383838; stroke-width: 1.0;\"/><polygon fill=\"#383838\" points=\"268.75,284.72,271.75,276.72,265.75,276.72,268.75,284.72\" style=\"stroke: #383838; stroke-width: 1.0;\"/><path d=\"M260.2928,204.3382 A9,9 0 0 0 277.2072 204.3382\" fill=\"none\" style=\"stroke: #383838; stroke-width: 1.5;\"/><text fill=\"#000000\" font-family=\"sans-serif\" font-size=\"13\" lengthAdjust=\"spacingAndGlyphs\" textLength=\"60\" x=\"243\" y=\"251.0669\">«variant»</text></a><!--MD5=[14ccda38c055a5c0da953d572bc50960]\n",
       "link E7 to E3--><a href=\"psysml:6aa04dcc-8d2e-4853-a2ca-5b94913b0044\" target=\"_top\" title=\"psysml:6aa04dcc-8d2e-4853-a2ca-5b94913b0044\" xlink:actuate=\"onRequest\" xlink:href=\"psysml:6aa04dcc-8d2e-4853-a2ca-5b94913b0044\" xlink:show=\"new\" xlink:title=\"psysml:6aa04dcc-8d2e-4853-a2ca-5b94913b0044\" xlink:type=\"simple\"><path d=\"M155,87.07 C155,87.07 155,134.96 155,134.96 \" fill=\"none\" id=\"E7-&gt;E3\" style=\"stroke: #383838; stroke-width: 1.0;\"/><polygon fill=\"#FFFFFF\" points=\"155,154.96,148,135.96,162,135.96,155,154.96\" style=\"stroke: #383838; stroke-width: 1.0;\"/><ellipse cx=\"150\" cy=\"130.26\" fill=\"#383838\" rx=\"2\" ry=\"2\" style=\"stroke: #383838; stroke-width: 1.0;\"/><ellipse cx=\"160\" cy=\"130.26\" fill=\"#383838\" rx=\"2\" ry=\"2\" style=\"stroke: #383838; stroke-width: 1.0;\"/></a><!--MD5=[f1f3f9f2fc535e6147756cb86a7f2e32]\n",
       "link E8 to E2--><a href=\"psysml:62998d3a-e41b-4231-af2c-a0f2b465e4e7\" target=\"_top\" title=\"psysml:62998d3a-e41b-4231-af2c-a0f2b465e4e7\" xlink:actuate=\"onRequest\" xlink:href=\"psysml:62998d3a-e41b-4231-af2c-a0f2b465e4e7\" xlink:show=\"new\" xlink:title=\"psysml:62998d3a-e41b-4231-af2c-a0f2b465e4e7\" xlink:type=\"simple\"><path d=\"M102.05,205 C127.81,205 158.33,205 158.33,205 C158.33,205 158.33,270.78 158.33,270.78 \" fill=\"none\" id=\"E8-&gt;E2\" style=\"stroke: #383838; stroke-width: 1.0;\"/><polygon fill=\"#FFFFFF\" points=\"158.33,290.78,151.33,271.78,165.33,271.78,158.33,290.78\" style=\"stroke: #383838; stroke-width: 1.0;\"/><ellipse cx=\"153.33\" cy=\"266.08\" fill=\"#383838\" rx=\"2\" ry=\"2\" style=\"stroke: #383838; stroke-width: 1.0;\"/><ellipse cx=\"163.33\" cy=\"266.08\" fill=\"#383838\" rx=\"2\" ry=\"2\" style=\"stroke: #383838; stroke-width: 1.0;\"/></a><!--MD5=[ed10624c06dd9a4fa49ccf290e8b16a8]\n",
       "link E8 to E9--><a href=\"psysml:196bced0-9581-41ba-9556-fc72f0b07990\" target=\"_top\" title=\"psysml:196bced0-9581-41ba-9556-fc72f0b07990\" xlink:actuate=\"onRequest\" xlink:href=\"psysml:196bced0-9581-41ba-9556-fc72f0b07990\" xlink:show=\"new\" xlink:title=\"psysml:196bced0-9581-41ba-9556-fc72f0b07990\" xlink:type=\"simple\"><path d=\"M67,218.19 C67,218.19 67,274.83 67,274.83 \" fill=\"none\" id=\"E8-E9\" style=\"stroke: #383838; stroke-width: 1.0;\"/><polygon fill=\"#383838\" points=\"67,284.83,70,276.83,64,276.83,67,284.83\" style=\"stroke: #383838; stroke-width: 1.0;\"/><path d=\"M58.5428,211.2682 A9,9 0 0 0 75.4572 211.2682\" fill=\"none\" style=\"stroke: #383838; stroke-width: 1.5;\"/><text fill=\"#000000\" font-family=\"sans-serif\" font-size=\"13\" lengthAdjust=\"spacingAndGlyphs\" textLength=\"60\" x=\"68\" y=\"251.0669\">«variant»</text></a><!--MD5=[fde387e89e60da240c25db555b78d851]\n",
       "@startuml\r\n",
       "skinparam linetype ortho\r\n",
       "skinparam monochrome true\r\n",
       "skinparam classbackgroundcolor white\r\n",
       "skinparam shadowing false\r\n",
       "skinparam wrapWidth 300\r\n",
       "hide circle\r\n",
       "\r\n",
       "package \"VariabilityTest\" as E1  [[psysml:fc405a6c-3061-4540-9673-8b8e766ba6ac ]]  {\r\n",
       "comp def \"P\" as E2  <<(T,blue)part def>> [[psysml:dc902210-e855-46b4-a2dd-8255fef19514 ]] {\r\n",
       "- - attributes - -\r\n",
       "a\r\n",
       "}\r\n",
       "comp def \"Q\" as E3  <<(T,blue)part def>> [[psysml:b52c8837-30af-42aa-bc51-100eaed5de80 ]] {\r\n",
       "}\r\n",
       "comp def \"B\" as E4  <<(T,blue)attribute def>> [[psysml:f17815b8-46c4-4dd9-bf70-524ba6c03f24 ]] {\r\n",
       "}\r\n",
       "comp def \"V\" as E5  <<(T,blue)part def>> [[psysml:b1ebe526-c40e-4c8f-ae74-16f7fcd1bdc9 ]] {\r\n",
       "}\r\n",
       "comp usage \"x: Q\" as E6  <<(T,blue)part>> [[psysml:05419eac-6c2b-46e9-bd3b-b31f448a077a ]] {\r\n",
       "- - attributes - -\r\n",
       "b: B\\n//:>>P::a// \r\n",
       "}\r\n",
       "comp usage \"q: Q\" as E7  <<(T,blue)part>> [[psysml:bd66bfa4-4cf8-4e62-98d6-c8549fcb8467 ]] {\r\n",
       "}\r\n",
       "comp usage \"v: P\" as E8  <<variation>>\\n <<(T,blue)part>> [[psysml:d11ba367-2498-4d3b-bf9a-6df5f0bc7068 ]] {\r\n",
       "}\r\n",
       "comp usage \"y\" as E9  <<(T,blue)part>> [[psysml:72597939-8390-466d-9479-39928477d122 ]] {\r\n",
       "- - attributes - -\r\n",
       "b: B\\n//:>>P::a// \r\n",
       "}\r\n",
       "E3 - -|> E2 [[psysml:0057605f-0b36-40b5-a833-d8040f0d9e74 ]] \r\n",
       "E5 - -|> E2 [[psysml:922ee1f9-edf0-4204-bf0f-0435eb6f66de ]] \r\n",
       "E5 )- ->> E6 [[psysml:1c0ef759-8c31-4a4a-b0e7-e872c2806a04 ]] : <<variant>>\r\n",
       "E7 - -:|> E3 [[psysml:6aa04dcc-8d2e-4853-a2ca-5b94913b0044 ]] \r\n",
       "E8 - -:|> E2 [[psysml:62998d3a-e41b-4231-af2c-a0f2b465e4e7 ]] \r\n",
       "E8 )- ->> E9 [[psysml:196bced0-9581-41ba-9556-fc72f0b07990 ]] : <<variant>>\r\n",
       "}\r\n",
       "@enduml\r\n",
       "\n",
       "PlantUML version 1.2020.13(Sat Jun 13 12:26:38 UTC 2020)\n",
       "(EPL source distribution)\n",
       "Java Runtime: OpenJDK Runtime Environment\n",
       "JVM: OpenJDK 64-Bit Server VM\n",
       "Default Encoding: UTF-8\n",
       "Language: en\n",
       "Country: null\n",
       "--></g></svg>"
      ]
     },
     "execution_count": 51,
     "metadata": {},
     "output_type": "execute_result"
    }
   ],
   "source": [
    "%viz --style=\"ORTHOLINE\" --view=\"Default\" \"VariabilityTest\""
   ]
  },
  {
   "cell_type": "code",
   "execution_count": 52,
   "id": "clinical-amsterdam",
   "metadata": {
    "execution": {
     "iopub.execute_input": "2021-03-25T15:07:50.967280Z",
     "iopub.status.busy": "2021-03-25T15:07:50.966698Z",
     "iopub.status.idle": "2021-03-25T15:07:51.390987Z",
     "shell.execute_reply": "2021-03-25T15:07:51.389614Z"
    }
   },
   "outputs": [
    {
     "data": {
      "image/svg+xml": [
       "<?xml version=\"1.0\" encoding=\"UTF-8\" standalone=\"no\"?><svg xmlns=\"http://www.w3.org/2000/svg\" xmlns:xlink=\"http://www.w3.org/1999/xlink\" contentScriptType=\"application/ecmascript\" contentStyleType=\"text/css\" height=\"401px\" preserveAspectRatio=\"none\" style=\"width:342px;height:401px;\" version=\"1.1\" viewBox=\"0 0 342 401\" width=\"342px\" zoomAndPan=\"magnify\"><defs/><g><!--MD5=[fbc87193dbaf4d95561dea2c320d4a47]\n",
       "cluster E1--><a href=\"psysml:fc405a6c-3061-4540-9673-8b8e766ba6ac\" target=\"_top\" title=\"psysml:fc405a6c-3061-4540-9673-8b8e766ba6ac\" xlink:actuate=\"onRequest\" xlink:href=\"psysml:fc405a6c-3061-4540-9673-8b8e766ba6ac\" xlink:show=\"new\" xlink:title=\"psysml:fc405a6c-3061-4540-9673-8b8e766ba6ac\" xlink:type=\"simple\"><polygon fill=\"#FFFFFF\" points=\"16,6,134,6,141,28.2969,320,28.2969,320,389,16,389,16,6\" style=\"stroke: #000000; stroke-width: 1.5;\"/><line style=\"stroke: #000000; stroke-width: 1.5;\" x1=\"16\" x2=\"141\" y1=\"28.2969\" y2=\"28.2969\"/><text fill=\"#000000\" font-family=\"sans-serif\" font-size=\"14\" font-weight=\"bold\" lengthAdjust=\"spacingAndGlyphs\" textLength=\"112\" x=\"20\" y=\"20.9951\">VariabilityTest</text></a><!--MD5=[b4997ac47864f28c2f74865a473b2911]\n",
       "class E2--><a href=\"psysml:dc902210-e855-46b4-a2dd-8255fef19514\" target=\"_top\" title=\"psysml:dc902210-e855-46b4-a2dd-8255fef19514\" xlink:actuate=\"onRequest\" xlink:href=\"psysml:dc902210-e855-46b4-a2dd-8255fef19514\" xlink:show=\"new\" xlink:title=\"psysml:dc902210-e855-46b4-a2dd-8255fef19514\" xlink:type=\"simple\"><rect fill=\"#FFFFFF\" height=\"75.5469\" id=\"E2\" style=\"stroke: #383838; stroke-width: 1.5;\" width=\"66\" x=\"135\" y=\"291\"/><text fill=\"#000000\" font-family=\"sans-serif\" font-size=\"12\" font-style=\"italic\" lengthAdjust=\"spacingAndGlyphs\" textLength=\"64\" x=\"136\" y=\"307.1387\">«part def»</text><text fill=\"#000000\" font-family=\"sans-serif\" font-size=\"12\" lengthAdjust=\"spacingAndGlyphs\" textLength=\"8\" x=\"164\" y=\"321.1074\">P</text><line style=\"stroke: #383838; stroke-width: 1.5;\" x1=\"136\" x2=\"200\" y1=\"328.9375\" y2=\"328.9375\"/><text fill=\"#000000\" font-family=\"sans-serif\" font-size=\"11\" lengthAdjust=\"spacingAndGlyphs\" textLength=\"7\" x=\"141\" y=\"359.9526\">a</text><line style=\"stroke: #383838; stroke-width: 1.0;\" x1=\"136\" x2=\"140.5\" y1=\"343.3398\" y2=\"343.3398\"/><text fill=\"#000000\" font-family=\"sans-serif\" font-size=\"11\" lengthAdjust=\"spacingAndGlyphs\" textLength=\"55\" x=\"140.5\" y=\"346.6479\">attributes</text><line style=\"stroke: #383838; stroke-width: 1.0;\" x1=\"195.5\" x2=\"200\" y1=\"343.3398\" y2=\"343.3398\"/></a><!--MD5=[09b614a08d8cba4a07c9adeb5e0fee81]\n",
       "class E3--><a href=\"psysml:b52c8837-30af-42aa-bc51-100eaed5de80\" target=\"_top\" title=\"psysml:b52c8837-30af-42aa-bc51-100eaed5de80\" xlink:actuate=\"onRequest\" xlink:href=\"psysml:b52c8837-30af-42aa-bc51-100eaed5de80\" xlink:show=\"new\" xlink:title=\"psysml:b52c8837-30af-42aa-bc51-100eaed5de80\" xlink:type=\"simple\"><rect fill=\"#FFFFFF\" height=\"45.9375\" id=\"E3\" style=\"stroke: #383838; stroke-width: 1.5;\" width=\"66\" x=\"137\" y=\"155\"/><text fill=\"#000000\" font-family=\"sans-serif\" font-size=\"12\" font-style=\"italic\" lengthAdjust=\"spacingAndGlyphs\" textLength=\"64\" x=\"138\" y=\"171.1387\">«part def»</text><text fill=\"#000000\" font-family=\"sans-serif\" font-size=\"12\" lengthAdjust=\"spacingAndGlyphs\" textLength=\"9\" x=\"165.5\" y=\"185.1074\">Q</text><line style=\"stroke: #383838; stroke-width: 1.5;\" x1=\"138\" x2=\"202\" y1=\"192.9375\" y2=\"192.9375\"/></a><!--MD5=[ebbe1d658d1005bcc118a6aa81145e00]\n",
       "class E4--><a href=\"psysml:f17815b8-46c4-4dd9-bf70-524ba6c03f24\" target=\"_top\" title=\"psysml:f17815b8-46c4-4dd9-bf70-524ba6c03f24\" xlink:actuate=\"onRequest\" xlink:href=\"psysml:f17815b8-46c4-4dd9-bf70-524ba6c03f24\" xlink:show=\"new\" xlink:title=\"psysml:f17815b8-46c4-4dd9-bf70-524ba6c03f24\" xlink:type=\"simple\"><rect fill=\"#FFFFFF\" height=\"45.9375\" id=\"E4\" style=\"stroke: #383838; stroke-width: 1.5;\" width=\"95\" x=\"208.5\" y=\"41\"/><text fill=\"#000000\" font-family=\"sans-serif\" font-size=\"12\" font-style=\"italic\" lengthAdjust=\"spacingAndGlyphs\" textLength=\"93\" x=\"209.5\" y=\"57.1387\">«attribute def»</text><text fill=\"#000000\" font-family=\"sans-serif\" font-size=\"12\" lengthAdjust=\"spacingAndGlyphs\" textLength=\"8\" x=\"252\" y=\"71.1074\">B</text><line style=\"stroke: #383838; stroke-width: 1.5;\" x1=\"209.5\" x2=\"302.5\" y1=\"78.9375\" y2=\"78.9375\"/></a><!--MD5=[270fce915f116d4de14055a7c1d9a0f3]\n",
       "class E5--><a href=\"psysml:b1ebe526-c40e-4c8f-ae74-16f7fcd1bdc9\" target=\"_top\" title=\"psysml:b1ebe526-c40e-4c8f-ae74-16f7fcd1bdc9\" xlink:actuate=\"onRequest\" xlink:href=\"psysml:b1ebe526-c40e-4c8f-ae74-16f7fcd1bdc9\" xlink:show=\"new\" xlink:title=\"psysml:b1ebe526-c40e-4c8f-ae74-16f7fcd1bdc9\" xlink:type=\"simple\"><rect fill=\"#FFFFFF\" height=\"45.9375\" id=\"E5\" style=\"stroke: #383838; stroke-width: 1.5;\" width=\"66\" x=\"238\" y=\"155\"/><text fill=\"#000000\" font-family=\"sans-serif\" font-size=\"12\" font-style=\"italic\" lengthAdjust=\"spacingAndGlyphs\" textLength=\"64\" x=\"239\" y=\"171.1387\">«part def»</text><text fill=\"#000000\" font-family=\"sans-serif\" font-size=\"12\" lengthAdjust=\"spacingAndGlyphs\" textLength=\"8\" x=\"267\" y=\"185.1074\">V</text><line style=\"stroke: #383838; stroke-width: 1.5;\" x1=\"239\" x2=\"303\" y1=\"192.9375\" y2=\"192.9375\"/></a><!--MD5=[60a26617385b1d2d0262a64233df1f8d]\n",
       "class E6--><a href=\"psysml:05419eac-6c2b-46e9-bd3b-b31f448a077a\" target=\"_top\" title=\"psysml:05419eac-6c2b-46e9-bd3b-b31f448a077a\" xlink:actuate=\"onRequest\" xlink:href=\"psysml:05419eac-6c2b-46e9-bd3b-b31f448a077a\" xlink:show=\"new\" xlink:title=\"psysml:05419eac-6c2b-46e9-bd3b-b31f448a077a\" xlink:type=\"simple\"><rect fill=\"#FFFFFF\" height=\"88.3516\" id=\"E6\" rx=\"10\" ry=\"10\" style=\"stroke: #383838; stroke-width: 1.5;\" width=\"63\" x=\"236.5\" y=\"285\"/><text fill=\"#000000\" font-family=\"sans-serif\" font-size=\"12\" font-style=\"italic\" lengthAdjust=\"spacingAndGlyphs\" textLength=\"40\" x=\"248\" y=\"301.1387\">«part»</text><text fill=\"#000000\" font-family=\"sans-serif\" font-size=\"12\" lengthAdjust=\"spacingAndGlyphs\" textLength=\"23\" x=\"256.5\" y=\"315.1074\">x: Q</text><line style=\"stroke: #383838; stroke-width: 1.5;\" x1=\"237.5\" x2=\"298.5\" y1=\"322.9375\" y2=\"322.9375\"/><text fill=\"#000000\" font-family=\"sans-serif\" font-size=\"11\" lengthAdjust=\"spacingAndGlyphs\" textLength=\"23\" x=\"242.5\" y=\"353.9526\">b: B</text><text fill=\"#000000\" font-family=\"sans-serif\" font-size=\"11\" font-style=\"italic\" lengthAdjust=\"spacingAndGlyphs\" textLength=\"44\" x=\"242.5\" y=\"366.7573\">:&gt;&gt;P::a</text><line style=\"stroke: #383838; stroke-width: 1.0;\" x1=\"237.5\" x2=\"240.5\" y1=\"337.3398\" y2=\"337.3398\"/><text fill=\"#000000\" font-family=\"sans-serif\" font-size=\"11\" lengthAdjust=\"spacingAndGlyphs\" textLength=\"55\" x=\"240.5\" y=\"340.6479\">attributes</text><line style=\"stroke: #383838; stroke-width: 1.0;\" x1=\"295.5\" x2=\"298.5\" y1=\"337.3398\" y2=\"337.3398\"/></a><!--MD5=[2156ba9850f5573cc1fc38a6a4b2f02b]\n",
       "class E7--><a href=\"psysml:bd66bfa4-4cf8-4e62-98d6-c8549fcb8467\" target=\"_top\" title=\"psysml:bd66bfa4-4cf8-4e62-98d6-c8549fcb8467\" xlink:actuate=\"onRequest\" xlink:href=\"psysml:bd66bfa4-4cf8-4e62-98d6-c8549fcb8467\" xlink:show=\"new\" xlink:title=\"psysml:bd66bfa4-4cf8-4e62-98d6-c8549fcb8467\" xlink:type=\"simple\"><rect fill=\"#FFFFFF\" height=\"45.9375\" id=\"E7\" rx=\"10\" ry=\"10\" style=\"stroke: #383838; stroke-width: 1.5;\" width=\"42\" x=\"131\" y=\"41\"/><text fill=\"#000000\" font-family=\"sans-serif\" font-size=\"12\" font-style=\"italic\" lengthAdjust=\"spacingAndGlyphs\" textLength=\"40\" x=\"132\" y=\"57.1387\">«part»</text><text fill=\"#000000\" font-family=\"sans-serif\" font-size=\"12\" lengthAdjust=\"spacingAndGlyphs\" textLength=\"25\" x=\"139.5\" y=\"71.1074\">q: Q</text><line style=\"stroke: #383838; stroke-width: 1.5;\" x1=\"132\" x2=\"172\" y1=\"78.9375\" y2=\"78.9375\"/></a><!--MD5=[b9389687b975829384b498ac4b7476b2]\n",
       "class E8--><a href=\"psysml:d11ba367-2498-4d3b-bf9a-6df5f0bc7068\" target=\"_top\" title=\"psysml:d11ba367-2498-4d3b-bf9a-6df5f0bc7068\" xlink:actuate=\"onRequest\" xlink:href=\"psysml:d11ba367-2498-4d3b-bf9a-6df5f0bc7068\" xlink:show=\"new\" xlink:title=\"psysml:d11ba367-2498-4d3b-bf9a-6df5f0bc7068\" xlink:type=\"simple\"><rect fill=\"#FFFFFF\" height=\"59.9063\" id=\"E8\" rx=\"10\" ry=\"10\" style=\"stroke: #383838; stroke-width: 1.5;\" width=\"70\" x=\"32\" y=\"148\"/><text fill=\"#000000\" font-family=\"sans-serif\" font-size=\"12\" font-style=\"italic\" lengthAdjust=\"spacingAndGlyphs\" textLength=\"68\" x=\"33\" y=\"164.1387\">«variation»</text><text fill=\"#000000\" font-family=\"sans-serif\" font-size=\"12\" font-style=\"italic\" lengthAdjust=\"spacingAndGlyphs\" textLength=\"40\" x=\"47\" y=\"178.1074\">«part»</text><text fill=\"#000000\" font-family=\"sans-serif\" font-size=\"12\" lengthAdjust=\"spacingAndGlyphs\" textLength=\"22\" x=\"56\" y=\"192.0762\">v: P</text><line style=\"stroke: #383838; stroke-width: 1.5;\" x1=\"33\" x2=\"101\" y1=\"199.9063\" y2=\"199.9063\"/></a><!--MD5=[fd4143e9d270a159db93a4ea2a975926]\n",
       "class E9--><a href=\"psysml:72597939-8390-466d-9479-39928477d122\" target=\"_top\" title=\"psysml:72597939-8390-466d-9479-39928477d122\" xlink:actuate=\"onRequest\" xlink:href=\"psysml:72597939-8390-466d-9479-39928477d122\" xlink:show=\"new\" xlink:title=\"psysml:72597939-8390-466d-9479-39928477d122\" xlink:type=\"simple\"><rect fill=\"#FFFFFF\" height=\"88.3516\" id=\"E9\" rx=\"10\" ry=\"10\" style=\"stroke: #383838; stroke-width: 1.5;\" width=\"63\" x=\"35.5\" y=\"285\"/><text fill=\"#000000\" font-family=\"sans-serif\" font-size=\"12\" font-style=\"italic\" lengthAdjust=\"spacingAndGlyphs\" textLength=\"40\" x=\"47\" y=\"301.1387\">«part»</text><text fill=\"#000000\" font-family=\"sans-serif\" font-size=\"12\" lengthAdjust=\"spacingAndGlyphs\" textLength=\"6\" x=\"64\" y=\"315.1074\">y</text><line style=\"stroke: #383838; stroke-width: 1.5;\" x1=\"36.5\" x2=\"97.5\" y1=\"322.9375\" y2=\"322.9375\"/><text fill=\"#000000\" font-family=\"sans-serif\" font-size=\"11\" lengthAdjust=\"spacingAndGlyphs\" textLength=\"23\" x=\"41.5\" y=\"353.9526\">b: B</text><text fill=\"#000000\" font-family=\"sans-serif\" font-size=\"11\" font-style=\"italic\" lengthAdjust=\"spacingAndGlyphs\" textLength=\"44\" x=\"41.5\" y=\"366.7573\">:&gt;&gt;P::a</text><line style=\"stroke: #383838; stroke-width: 1.0;\" x1=\"36.5\" x2=\"39.5\" y1=\"337.3398\" y2=\"337.3398\"/><text fill=\"#000000\" font-family=\"sans-serif\" font-size=\"11\" lengthAdjust=\"spacingAndGlyphs\" textLength=\"55\" x=\"39.5\" y=\"340.6479\">attributes</text><line style=\"stroke: #383838; stroke-width: 1.0;\" x1=\"94.5\" x2=\"97.5\" y1=\"337.3398\" y2=\"337.3398\"/></a><!--MD5=[05d275557350bfb9b23a4ef7222b4c39]\n",
       "link E3 to E2--><a href=\"psysml:0057605f-0b36-40b5-a833-d8040f0d9e74\" target=\"_top\" title=\"psysml:0057605f-0b36-40b5-a833-d8040f0d9e74\" xlink:actuate=\"onRequest\" xlink:href=\"psysml:0057605f-0b36-40b5-a833-d8040f0d9e74\" xlink:show=\"new\" xlink:title=\"psysml:0057605f-0b36-40b5-a833-d8040f0d9e74\" xlink:type=\"simple\"><path d=\"M179.67,201.26 C179.67,201.26 179.67,270.73 179.67,270.73 \" fill=\"none\" id=\"E3-&gt;E2\" style=\"stroke: #383838; stroke-width: 1.0;\"/><polygon fill=\"none\" points=\"186.67,270.73,179.67,290.73,172.67,270.73,186.67,270.73\" style=\"stroke: #383838; stroke-width: 1.0;\"/></a><!--MD5=[15ebcb19ae302d9b601edb458606d402]\n",
       "link E5 to E2--><a href=\"psysml:922ee1f9-edf0-4204-bf0f-0435eb6f66de\" target=\"_top\" title=\"psysml:922ee1f9-edf0-4204-bf0f-0435eb6f66de\" xlink:actuate=\"onRequest\" xlink:href=\"psysml:922ee1f9-edf0-4204-bf0f-0435eb6f66de\" xlink:show=\"new\" xlink:title=\"psysml:922ee1f9-edf0-4204-bf0f-0435eb6f66de\" xlink:type=\"simple\"><path d=\"M237.85,178 C229.32,178 222.5,178 222.5,178 C222.5,178 222.5,329 222.5,329 C222.5,329 220.38,329 220.38,329 \" fill=\"none\" id=\"E5-&gt;E2\" style=\"stroke: #383838; stroke-width: 1.0;\"/><polygon fill=\"none\" points=\"221.27,336,201.27,329,221.27,322,221.27,336\" style=\"stroke: #383838; stroke-width: 1.0;\"/></a><!--MD5=[9120cf2e5df3bff93db8f754bbbc09b4]\n",
       "link E5 to E6--><a href=\"psysml:1c0ef759-8c31-4a4a-b0e7-e872c2806a04\" target=\"_top\" title=\"psysml:1c0ef759-8c31-4a4a-b0e7-e872c2806a04\" xlink:actuate=\"onRequest\" xlink:href=\"psysml:1c0ef759-8c31-4a4a-b0e7-e872c2806a04\" xlink:show=\"new\" xlink:title=\"psysml:1c0ef759-8c31-4a4a-b0e7-e872c2806a04\" xlink:type=\"simple\"><path d=\"M268.75,211.26 C268.75,211.26 268.75,274.72 268.75,274.72 \" fill=\"none\" id=\"E5-E6\" style=\"stroke: #383838; stroke-width: 1.0;\"/><polygon fill=\"#383838\" points=\"268.75,284.72,271.75,276.72,265.75,276.72,268.75,284.72\" style=\"stroke: #383838; stroke-width: 1.0;\"/><path d=\"M260.2928,204.3382 A9,9 0 0 0 277.2072 204.3382\" fill=\"none\" style=\"stroke: #383838; stroke-width: 1.5;\"/><text fill=\"#000000\" font-family=\"sans-serif\" font-size=\"13\" lengthAdjust=\"spacingAndGlyphs\" textLength=\"60\" x=\"243\" y=\"251.0669\">«variant»</text></a><!--MD5=[14ccda38c055a5c0da953d572bc50960]\n",
       "link E7 to E3--><a href=\"psysml:6aa04dcc-8d2e-4853-a2ca-5b94913b0044\" target=\"_top\" title=\"psysml:6aa04dcc-8d2e-4853-a2ca-5b94913b0044\" xlink:actuate=\"onRequest\" xlink:href=\"psysml:6aa04dcc-8d2e-4853-a2ca-5b94913b0044\" xlink:show=\"new\" xlink:title=\"psysml:6aa04dcc-8d2e-4853-a2ca-5b94913b0044\" xlink:type=\"simple\"><path d=\"M155,87.07 C155,87.07 155,134.96 155,134.96 \" fill=\"none\" id=\"E7-&gt;E3\" style=\"stroke: #383838; stroke-width: 1.0;\"/><polygon fill=\"#FFFFFF\" points=\"155,154.96,148,135.96,162,135.96,155,154.96\" style=\"stroke: #383838; stroke-width: 1.0;\"/><ellipse cx=\"150\" cy=\"130.26\" fill=\"#383838\" rx=\"2\" ry=\"2\" style=\"stroke: #383838; stroke-width: 1.0;\"/><ellipse cx=\"160\" cy=\"130.26\" fill=\"#383838\" rx=\"2\" ry=\"2\" style=\"stroke: #383838; stroke-width: 1.0;\"/></a><!--MD5=[f1f3f9f2fc535e6147756cb86a7f2e32]\n",
       "link E8 to E2--><a href=\"psysml:62998d3a-e41b-4231-af2c-a0f2b465e4e7\" target=\"_top\" title=\"psysml:62998d3a-e41b-4231-af2c-a0f2b465e4e7\" xlink:actuate=\"onRequest\" xlink:href=\"psysml:62998d3a-e41b-4231-af2c-a0f2b465e4e7\" xlink:show=\"new\" xlink:title=\"psysml:62998d3a-e41b-4231-af2c-a0f2b465e4e7\" xlink:type=\"simple\"><path d=\"M102.05,205 C127.81,205 158.33,205 158.33,205 C158.33,205 158.33,270.78 158.33,270.78 \" fill=\"none\" id=\"E8-&gt;E2\" style=\"stroke: #383838; stroke-width: 1.0;\"/><polygon fill=\"#FFFFFF\" points=\"158.33,290.78,151.33,271.78,165.33,271.78,158.33,290.78\" style=\"stroke: #383838; stroke-width: 1.0;\"/><ellipse cx=\"153.33\" cy=\"266.08\" fill=\"#383838\" rx=\"2\" ry=\"2\" style=\"stroke: #383838; stroke-width: 1.0;\"/><ellipse cx=\"163.33\" cy=\"266.08\" fill=\"#383838\" rx=\"2\" ry=\"2\" style=\"stroke: #383838; stroke-width: 1.0;\"/></a><!--MD5=[ed10624c06dd9a4fa49ccf290e8b16a8]\n",
       "link E8 to E9--><a href=\"psysml:196bced0-9581-41ba-9556-fc72f0b07990\" target=\"_top\" title=\"psysml:196bced0-9581-41ba-9556-fc72f0b07990\" xlink:actuate=\"onRequest\" xlink:href=\"psysml:196bced0-9581-41ba-9556-fc72f0b07990\" xlink:show=\"new\" xlink:title=\"psysml:196bced0-9581-41ba-9556-fc72f0b07990\" xlink:type=\"simple\"><path d=\"M67,218.19 C67,218.19 67,274.83 67,274.83 \" fill=\"none\" id=\"E8-E9\" style=\"stroke: #383838; stroke-width: 1.0;\"/><polygon fill=\"#383838\" points=\"67,284.83,70,276.83,64,276.83,67,284.83\" style=\"stroke: #383838; stroke-width: 1.0;\"/><path d=\"M58.5428,211.2682 A9,9 0 0 0 75.4572 211.2682\" fill=\"none\" style=\"stroke: #383838; stroke-width: 1.5;\"/><text fill=\"#000000\" font-family=\"sans-serif\" font-size=\"13\" lengthAdjust=\"spacingAndGlyphs\" textLength=\"60\" x=\"68\" y=\"251.0669\">«variant»</text></a><!--MD5=[fde387e89e60da240c25db555b78d851]\n",
       "@startuml\r\n",
       "skinparam linetype ortho\r\n",
       "skinparam monochrome true\r\n",
       "skinparam classbackgroundcolor white\r\n",
       "skinparam shadowing false\r\n",
       "skinparam wrapWidth 300\r\n",
       "hide circle\r\n",
       "\r\n",
       "package \"VariabilityTest\" as E1  [[psysml:fc405a6c-3061-4540-9673-8b8e766ba6ac ]]  {\r\n",
       "comp def \"P\" as E2  <<(T,blue)part def>> [[psysml:dc902210-e855-46b4-a2dd-8255fef19514 ]] {\r\n",
       "- - attributes - -\r\n",
       "a\r\n",
       "}\r\n",
       "comp def \"Q\" as E3  <<(T,blue)part def>> [[psysml:b52c8837-30af-42aa-bc51-100eaed5de80 ]] {\r\n",
       "}\r\n",
       "comp def \"B\" as E4  <<(T,blue)attribute def>> [[psysml:f17815b8-46c4-4dd9-bf70-524ba6c03f24 ]] {\r\n",
       "}\r\n",
       "comp def \"V\" as E5  <<(T,blue)part def>> [[psysml:b1ebe526-c40e-4c8f-ae74-16f7fcd1bdc9 ]] {\r\n",
       "}\r\n",
       "comp usage \"x: Q\" as E6  <<(T,blue)part>> [[psysml:05419eac-6c2b-46e9-bd3b-b31f448a077a ]] {\r\n",
       "- - attributes - -\r\n",
       "b: B\\n//:>>P::a// \r\n",
       "}\r\n",
       "comp usage \"q: Q\" as E7  <<(T,blue)part>> [[psysml:bd66bfa4-4cf8-4e62-98d6-c8549fcb8467 ]] {\r\n",
       "}\r\n",
       "comp usage \"v: P\" as E8  <<variation>>\\n <<(T,blue)part>> [[psysml:d11ba367-2498-4d3b-bf9a-6df5f0bc7068 ]] {\r\n",
       "}\r\n",
       "comp usage \"y\" as E9  <<(T,blue)part>> [[psysml:72597939-8390-466d-9479-39928477d122 ]] {\r\n",
       "- - attributes - -\r\n",
       "b: B\\n//:>>P::a// \r\n",
       "}\r\n",
       "E3 - -|> E2 [[psysml:0057605f-0b36-40b5-a833-d8040f0d9e74 ]] \r\n",
       "E5 - -|> E2 [[psysml:922ee1f9-edf0-4204-bf0f-0435eb6f66de ]] \r\n",
       "E5 )- ->> E6 [[psysml:1c0ef759-8c31-4a4a-b0e7-e872c2806a04 ]] : <<variant>>\r\n",
       "E7 - -:|> E3 [[psysml:6aa04dcc-8d2e-4853-a2ca-5b94913b0044 ]] \r\n",
       "E8 - -:|> E2 [[psysml:62998d3a-e41b-4231-af2c-a0f2b465e4e7 ]] \r\n",
       "E8 )- ->> E9 [[psysml:196bced0-9581-41ba-9556-fc72f0b07990 ]] : <<variant>>\r\n",
       "}\r\n",
       "@enduml\r\n",
       "\n",
       "PlantUML version 1.2020.13(Sat Jun 13 12:26:38 UTC 2020)\n",
       "(EPL source distribution)\n",
       "Java Runtime: OpenJDK Runtime Environment\n",
       "JVM: OpenJDK 64-Bit Server VM\n",
       "Default Encoding: UTF-8\n",
       "Language: en\n",
       "Country: null\n",
       "--></g></svg>"
      ]
     },
     "execution_count": 52,
     "metadata": {},
     "output_type": "execute_result"
    }
   ],
   "source": [
    "%viz --style=\"ORTHOLINE\" --view=\"Tree\" \"VariabilityTest\""
   ]
  },
  {
   "cell_type": "code",
   "execution_count": 53,
   "id": "subsequent-editing",
   "metadata": {
    "execution": {
     "iopub.execute_input": "2021-03-25T15:07:51.442920Z",
     "iopub.status.busy": "2021-03-25T15:07:51.442249Z",
     "iopub.status.idle": "2021-03-25T15:07:51.451510Z",
     "shell.execute_reply": "2021-03-25T15:07:51.451984Z"
    }
   },
   "outputs": [
    {
     "data": {
      "image/svg+xml": [
       "<?xml version=\"1.0\" encoding=\"UTF-8\" standalone=\"no\"?><svg xmlns=\"http://www.w3.org/2000/svg\" xmlns:xlink=\"http://www.w3.org/1999/xlink\" contentScriptType=\"application/ecmascript\" contentStyleType=\"text/css\" height=\"12px\" preserveAspectRatio=\"none\" style=\"width:12px;height:12px;\" version=\"1.1\" viewBox=\"0 0 12 12\" width=\"12px\" zoomAndPan=\"magnify\"><defs/><g><!--MD5=[97d6f38768b311333d388e66b2b27985]\n",
       "@startuml\r\n",
       "skinparam linetype ortho\r\n",
       "skinparam monochrome true\r\n",
       "skinparam classbackgroundcolor white\r\n",
       "skinparam shadowing false\r\n",
       "skinparam wrapWidth 300\r\n",
       "hide circle\r\n",
       "\r\n",
       "@enduml\r\n",
       "\n",
       "PlantUML version 1.2020.13(Sat Jun 13 12:26:38 UTC 2020)\n",
       "(EPL source distribution)\n",
       "Java Runtime: OpenJDK Runtime Environment\n",
       "JVM: OpenJDK 64-Bit Server VM\n",
       "Default Encoding: UTF-8\n",
       "Language: en\n",
       "Country: null\n",
       "--></g></svg>"
      ]
     },
     "execution_count": 53,
     "metadata": {},
     "output_type": "execute_result"
    }
   ],
   "source": [
    "%viz --style=\"ORTHOLINE\" --view=\"State\" \"VariabilityTest\""
   ]
  },
  {
   "cell_type": "code",
   "execution_count": 54,
   "id": "internal-florida",
   "metadata": {
    "execution": {
     "iopub.execute_input": "2021-03-25T15:07:51.503324Z",
     "iopub.status.busy": "2021-03-25T15:07:51.502754Z",
     "iopub.status.idle": "2021-03-25T15:07:51.701982Z",
     "shell.execute_reply": "2021-03-25T15:07:51.698845Z"
    }
   },
   "outputs": [
    {
     "data": {
      "image/svg+xml": [
       "<?xml version=\"1.0\" encoding=\"UTF-8\" standalone=\"no\"?><svg xmlns=\"http://www.w3.org/2000/svg\" xmlns:xlink=\"http://www.w3.org/1999/xlink\" contentScriptType=\"application/ecmascript\" contentStyleType=\"text/css\" height=\"474px\" preserveAspectRatio=\"none\" style=\"width:805px;height:474px;\" version=\"1.1\" viewBox=\"0 0 805 474\" width=\"805px\" zoomAndPan=\"magnify\"><defs/><g><!--MD5=[fbc87193dbaf4d95561dea2c320d4a47]\n",
       "cluster E1--><a href=\"psysml:fc405a6c-3061-4540-9673-8b8e766ba6ac\" target=\"_top\" title=\"psysml:fc405a6c-3061-4540-9673-8b8e766ba6ac\" xlink:actuate=\"onRequest\" xlink:href=\"psysml:fc405a6c-3061-4540-9673-8b8e766ba6ac\" xlink:show=\"new\" xlink:title=\"psysml:fc405a6c-3061-4540-9673-8b8e766ba6ac\" xlink:type=\"simple\"><polygon fill=\"#FFFFFF\" points=\"16,6,134,6,141,28.2969,783,28.2969,783,462,16,462,16,6\" style=\"stroke: #000000; stroke-width: 1.5;\"/><line style=\"stroke: #000000; stroke-width: 1.5;\" x1=\"16\" x2=\"141\" y1=\"28.2969\" y2=\"28.2969\"/><text fill=\"#000000\" font-family=\"sans-serif\" font-size=\"14\" font-weight=\"bold\" lengthAdjust=\"spacingAndGlyphs\" textLength=\"112\" x=\"20\" y=\"20.9951\">VariabilityTest</text></a><!--MD5=[e4f7fae6ed58524ba242bb0b0d3be6b7]\n",
       "cluster E2--><a href=\"psysml:dc902210-e855-46b4-a2dd-8255fef19514\" target=\"_top\" title=\"psysml:dc902210-e855-46b4-a2dd-8255fef19514\" xlink:actuate=\"onRequest\" xlink:href=\"psysml:dc902210-e855-46b4-a2dd-8255fef19514\" xlink:show=\"new\" xlink:title=\"psysml:dc902210-e855-46b4-a2dd-8255fef19514\" xlink:type=\"simple\"><rect fill=\"#FFFFFF\" height=\"126\" id=\"E2\" style=\"stroke: #383838; stroke-width: 1.5;\" width=\"143\" x=\"358\" y=\"304\"/><rect fill=\"#F8F8F8\" height=\"37.9375\" style=\"stroke: #383838; stroke-width: 1.5;\" width=\"143\" x=\"358\" y=\"304\"/><text fill=\"#000000\" font-family=\"sans-serif\" font-size=\"12\" font-style=\"italic\" lengthAdjust=\"spacingAndGlyphs\" textLength=\"64\" x=\"397.5\" y=\"320.1387\">«part def»</text><text fill=\"#000000\" font-family=\"sans-serif\" font-size=\"12\" lengthAdjust=\"spacingAndGlyphs\" textLength=\"8\" x=\"425.5\" y=\"334.1074\">P</text></a><!--MD5=[14e3b0961a2654348d326746436168a1]\n",
       "cluster E6--><a href=\"psysml:b1ebe526-c40e-4c8f-ae74-16f7fcd1bdc9\" target=\"_top\" title=\"psysml:b1ebe526-c40e-4c8f-ae74-16f7fcd1bdc9\" xlink:actuate=\"onRequest\" xlink:href=\"psysml:b1ebe526-c40e-4c8f-ae74-16f7fcd1bdc9\" xlink:show=\"new\" xlink:title=\"psysml:b1ebe526-c40e-4c8f-ae74-16f7fcd1bdc9\" xlink:type=\"simple\"><rect fill=\"#FFFFFF\" height=\"207\" id=\"E6\" style=\"stroke: #383838; stroke-width: 1.5;\" width=\"180\" x=\"571\" y=\"57\"/><rect fill=\"#F8F8F8\" height=\"37.9375\" style=\"stroke: #383838; stroke-width: 1.5;\" width=\"180\" x=\"571\" y=\"57\"/><text fill=\"#000000\" font-family=\"sans-serif\" font-size=\"12\" font-style=\"italic\" lengthAdjust=\"spacingAndGlyphs\" textLength=\"64\" x=\"629\" y=\"73.1387\">«part def»</text><text fill=\"#000000\" font-family=\"sans-serif\" font-size=\"12\" lengthAdjust=\"spacingAndGlyphs\" textLength=\"8\" x=\"657\" y=\"87.1074\">V</text></a><!--MD5=[168fadf3d0c3fd93dd5d6da1b1d7ab76]\n",
       "cluster E7--><a href=\"psysml:05419eac-6c2b-46e9-bd3b-b31f448a077a\" target=\"_top\" title=\"psysml:05419eac-6c2b-46e9-bd3b-b31f448a077a\" xlink:actuate=\"onRequest\" xlink:href=\"psysml:05419eac-6c2b-46e9-bd3b-b31f448a077a\" xlink:show=\"new\" xlink:title=\"psysml:05419eac-6c2b-46e9-bd3b-b31f448a077a\" xlink:type=\"simple\"><rect fill=\"#FFFFFF\" height=\"108\" id=\"E7\" rx=\"10\" ry=\"10\" style=\"stroke: #383838; stroke-width: 1.5;\" width=\"108\" x=\"611\" y=\"124\"/><rect fill=\"#F8F8F8\" height=\"23.9688\" rx=\"10\" ry=\"10\" style=\"stroke: #F8F8F8; stroke-width: 1.5;\" width=\"108\" x=\"611\" y=\"124\"/><rect fill=\"#F8F8F8\" height=\"10\" style=\"stroke: #F8F8F8; stroke-width: 1.5;\" width=\"108\" x=\"611\" y=\"137.9688\"/><rect fill=\"none\" height=\"108\" id=\"E7\" rx=\"10\" ry=\"10\" style=\"stroke: #383838; stroke-width: 1.5;\" width=\"108\" x=\"611\" y=\"124\"/><text fill=\"#000000\" font-family=\"sans-serif\" font-size=\"12\" lengthAdjust=\"spacingAndGlyphs\" textLength=\"23\" x=\"653.5\" y=\"140.1387\">x: Q</text><line style=\"stroke: #383838; stroke-width: 1.0;\" x1=\"611\" x2=\"719\" y1=\"147.9688\" y2=\"147.9688\"/></a><!--MD5=[a84b4591f868c1fa4a211716a82f2f0d]\n",
       "cluster E10--><a href=\"psysml:d11ba367-2498-4d3b-bf9a-6df5f0bc7068\" target=\"_top\" title=\"psysml:d11ba367-2498-4d3b-bf9a-6df5f0bc7068\" xlink:actuate=\"onRequest\" xlink:href=\"psysml:d11ba367-2498-4d3b-bf9a-6df5f0bc7068\" xlink:show=\"new\" xlink:title=\"psysml:d11ba367-2498-4d3b-bf9a-6df5f0bc7068\" xlink:type=\"simple\"><rect fill=\"#FFFFFF\" height=\"191\" id=\"E10\" rx=\"10\" ry=\"10\" style=\"stroke: #383838; stroke-width: 1.5;\" width=\"156\" x=\"383\" y=\"65\"/><rect fill=\"#F8F8F8\" height=\"37.9375\" rx=\"10\" ry=\"10\" style=\"stroke: #F8F8F8; stroke-width: 1.5;\" width=\"156\" x=\"383\" y=\"65\"/><rect fill=\"#F8F8F8\" height=\"10\" style=\"stroke: #F8F8F8; stroke-width: 1.5;\" width=\"156\" x=\"383\" y=\"92.9375\"/><rect fill=\"none\" height=\"191\" id=\"E10\" rx=\"10\" ry=\"10\" style=\"stroke: #383838; stroke-width: 1.5;\" width=\"156\" x=\"383\" y=\"65\"/><text fill=\"#000000\" font-family=\"sans-serif\" font-size=\"12\" font-style=\"italic\" lengthAdjust=\"spacingAndGlyphs\" textLength=\"68\" x=\"427\" y=\"81.1387\">«variation»</text><text fill=\"#000000\" font-family=\"sans-serif\" font-size=\"12\" lengthAdjust=\"spacingAndGlyphs\" textLength=\"22\" x=\"450\" y=\"95.1074\">v: P</text><line style=\"stroke: #383838; stroke-width: 1.0;\" x1=\"383\" x2=\"539\" y1=\"102.9375\" y2=\"102.9375\"/></a><!--MD5=[917b9dd0c7eca3ee5f47219d1a84c0ad]\n",
       "cluster E11--><a href=\"psysml:72597939-8390-466d-9479-39928477d122\" target=\"_top\" title=\"psysml:72597939-8390-466d-9479-39928477d122\" xlink:actuate=\"onRequest\" xlink:href=\"psysml:72597939-8390-466d-9479-39928477d122\" xlink:show=\"new\" xlink:title=\"psysml:72597939-8390-466d-9479-39928477d122\" xlink:type=\"simple\"><rect fill=\"#FFFFFF\" height=\"108\" id=\"E11\" rx=\"10\" ry=\"10\" style=\"stroke: #383838; stroke-width: 1.5;\" width=\"108\" x=\"407\" y=\"124\"/><rect fill=\"#F8F8F8\" height=\"23.9688\" rx=\"10\" ry=\"10\" style=\"stroke: #F8F8F8; stroke-width: 1.5;\" width=\"108\" x=\"407\" y=\"124\"/><rect fill=\"#F8F8F8\" height=\"10\" style=\"stroke: #F8F8F8; stroke-width: 1.5;\" width=\"108\" x=\"407\" y=\"137.9688\"/><rect fill=\"none\" height=\"108\" id=\"E11\" rx=\"10\" ry=\"10\" style=\"stroke: #383838; stroke-width: 1.5;\" width=\"108\" x=\"407\" y=\"124\"/><text fill=\"#000000\" font-family=\"sans-serif\" font-size=\"12\" lengthAdjust=\"spacingAndGlyphs\" textLength=\"6\" x=\"458\" y=\"140.1387\">y</text><line style=\"stroke: #383838; stroke-width: 1.0;\" x1=\"407\" x2=\"515\" y1=\"147.9688\" y2=\"147.9688\"/></a><!--MD5=[270fce915f116d4de14055a7c1d9a0f3]\n",
       "class E5--><a href=\"psysml:f17815b8-46c4-4dd9-bf70-524ba6c03f24\" target=\"_top\" title=\"psysml:f17815b8-46c4-4dd9-bf70-524ba6c03f24\" xlink:actuate=\"onRequest\" xlink:href=\"psysml:f17815b8-46c4-4dd9-bf70-524ba6c03f24\" xlink:show=\"new\" xlink:title=\"psysml:f17815b8-46c4-4dd9-bf70-524ba6c03f24\" xlink:type=\"simple\"><rect fill=\"#FFFFFF\" height=\"53.9375\" id=\"E5\" style=\"stroke: #383838; stroke-width: 1.5;\" width=\"143\" x=\"223.5\" y=\"160.5\"/><text fill=\"#000000\" font-family=\"sans-serif\" font-size=\"12\" font-style=\"italic\" lengthAdjust=\"spacingAndGlyphs\" textLength=\"141\" x=\"224.5\" y=\"176.6387\">«(T,blue)attribute def»</text><text fill=\"#000000\" font-family=\"sans-serif\" font-size=\"12\" lengthAdjust=\"spacingAndGlyphs\" textLength=\"8\" x=\"291\" y=\"190.6074\">B</text><line style=\"stroke: #383838; stroke-width: 1.5;\" x1=\"224.5\" x2=\"365.5\" y1=\"198.4375\" y2=\"198.4375\"/><line style=\"stroke: #383838; stroke-width: 1.5;\" x1=\"224.5\" x2=\"365.5\" y1=\"206.4375\" y2=\"206.4375\"/></a><g id=\"E1.E2.E3\"><a href=\"psysml:6681b89b-422d-48d0-bc41-7a96ec587b7c\" target=\"_top\" title=\"psysml:6681b89b-422d-48d0-bc41-7a96ec587b7c\" xlink:actuate=\"onRequest\" xlink:href=\"psysml:6681b89b-422d-48d0-bc41-7a96ec587b7c\" xlink:show=\"new\" xlink:title=\"psysml:6681b89b-422d-48d0-bc41-7a96ec587b7c\" xlink:type=\"simple\"><rect fill=\"#FFFFFF\" height=\"42.9375\" id=\"E3\" rx=\"10\" ry=\"10\" style=\"stroke: #383838; stroke-width: 1.5;\" width=\"76\" x=\"401\" y=\"363\"/><rect fill=\"#F8F8F8\" height=\"37.9375\" rx=\"10\" ry=\"10\" style=\"stroke: #F8F8F8; stroke-width: 1.5;\" width=\"76\" x=\"401\" y=\"363\"/><rect fill=\"#F8F8F8\" height=\"10\" style=\"stroke: #F8F8F8; stroke-width: 1.5;\" width=\"76\" x=\"401\" y=\"390.9375\"/><rect fill=\"none\" height=\"42.9375\" id=\"E3\" rx=\"10\" ry=\"10\" style=\"stroke: #383838; stroke-width: 1.5;\" width=\"76\" x=\"401\" y=\"363\"/><text fill=\"#000000\" font-family=\"sans-serif\" font-size=\"12\" font-style=\"italic\" lengthAdjust=\"spacingAndGlyphs\" textLength=\"69\" x=\"404.5\" y=\"379.1387\">«attribute»</text><text fill=\"#000000\" font-family=\"sans-serif\" font-size=\"12\" lengthAdjust=\"spacingAndGlyphs\" textLength=\"8\" x=\"435\" y=\"393.1074\">a</text></a></g><g id=\"E1.E4\"><a href=\"psysml:b52c8837-30af-42aa-bc51-100eaed5de80\" target=\"_top\" title=\"psysml:b52c8837-30af-42aa-bc51-100eaed5de80\" xlink:actuate=\"onRequest\" xlink:href=\"psysml:b52c8837-30af-42aa-bc51-100eaed5de80\" xlink:show=\"new\" xlink:title=\"psysml:b52c8837-30af-42aa-bc51-100eaed5de80\" xlink:type=\"simple\"><rect fill=\"#FFFFFF\" height=\"42.9375\" id=\"E4\" style=\"stroke: #383838; stroke-width: 1.5;\" width=\"71\" x=\"117.5\" y=\"166\"/><rect fill=\"#F8F8F8\" height=\"37.9375\" style=\"stroke: #383838; stroke-width: 1.5;\" width=\"71\" x=\"117.5\" y=\"166\"/><text fill=\"#000000\" font-family=\"sans-serif\" font-size=\"12\" font-style=\"italic\" lengthAdjust=\"spacingAndGlyphs\" textLength=\"64\" x=\"121\" y=\"182.1387\">«part def»</text><text fill=\"#000000\" font-family=\"sans-serif\" font-size=\"12\" lengthAdjust=\"spacingAndGlyphs\" textLength=\"9\" x=\"148.5\" y=\"196.1074\">Q</text></a></g><g id=\"E1.E6.E7.E8\"><a href=\"psysml:ea3366e9-5974-4411-9b27-ac275f4425c1\" target=\"_top\" title=\"psysml:ea3366e9-5974-4411-9b27-ac275f4425c1\" xlink:actuate=\"onRequest\" xlink:href=\"psysml:ea3366e9-5974-4411-9b27-ac275f4425c1\" xlink:show=\"new\" xlink:title=\"psysml:ea3366e9-5974-4411-9b27-ac275f4425c1\" xlink:type=\"simple\"><rect fill=\"#FFFFFF\" height=\"56.9063\" id=\"E8\" rx=\"10\" ry=\"10\" style=\"stroke: #383838; stroke-width: 1.5;\" width=\"76\" x=\"627\" y=\"159\"/><rect fill=\"#F8F8F8\" height=\"51.9063\" rx=\"10\" ry=\"10\" style=\"stroke: #F8F8F8; stroke-width: 1.5;\" width=\"76\" x=\"627\" y=\"159\"/><rect fill=\"#F8F8F8\" height=\"10\" style=\"stroke: #F8F8F8; stroke-width: 1.5;\" width=\"76\" x=\"627\" y=\"200.9063\"/><rect fill=\"none\" height=\"56.9063\" id=\"E8\" rx=\"10\" ry=\"10\" style=\"stroke: #383838; stroke-width: 1.5;\" width=\"76\" x=\"627\" y=\"159\"/><text fill=\"#000000\" font-family=\"sans-serif\" font-size=\"12\" font-style=\"italic\" lengthAdjust=\"spacingAndGlyphs\" textLength=\"69\" x=\"630.5\" y=\"175.1387\">«attribute»</text><text fill=\"#000000\" font-family=\"sans-serif\" font-size=\"12\" lengthAdjust=\"spacingAndGlyphs\" textLength=\"24\" x=\"653\" y=\"189.1074\">b: B</text><text fill=\"#000000\" font-family=\"sans-serif\" font-size=\"12\" font-style=\"italic\" lengthAdjust=\"spacingAndGlyphs\" textLength=\"48\" x=\"639\" y=\"203.0762\">:&gt;&gt;P::a</text><text fill=\"#000000\" font-family=\"sans-serif\" font-size=\"12\" lengthAdjust=\"spacingAndGlyphs\" textLength=\"0\" x=\"691\" y=\"203.0762\"/></a></g><g id=\"E1.E9\"><a href=\"psysml:bd66bfa4-4cf8-4e62-98d6-c8549fcb8467\" target=\"_top\" title=\"psysml:bd66bfa4-4cf8-4e62-98d6-c8549fcb8467\" xlink:actuate=\"onRequest\" xlink:href=\"psysml:bd66bfa4-4cf8-4e62-98d6-c8549fcb8467\" xlink:show=\"new\" xlink:title=\"psysml:bd66bfa4-4cf8-4e62-98d6-c8549fcb8467\" xlink:type=\"simple\"><rect fill=\"#FFFFFF\" height=\"40\" id=\"E9\" rx=\"10\" ry=\"10\" style=\"stroke: #383838; stroke-width: 1.5;\" width=\"50\" x=\"32\" y=\"167.5\"/><rect fill=\"#F8F8F8\" height=\"23.9688\" rx=\"10\" ry=\"10\" style=\"stroke: #F8F8F8; stroke-width: 1.5;\" width=\"50\" x=\"32\" y=\"167.5\"/><rect fill=\"#F8F8F8\" height=\"10\" style=\"stroke: #F8F8F8; stroke-width: 1.5;\" width=\"50\" x=\"32\" y=\"181.4688\"/><rect fill=\"none\" height=\"40\" id=\"E9\" rx=\"10\" ry=\"10\" style=\"stroke: #383838; stroke-width: 1.5;\" width=\"50\" x=\"32\" y=\"167.5\"/><text fill=\"#000000\" font-family=\"sans-serif\" font-size=\"12\" lengthAdjust=\"spacingAndGlyphs\" textLength=\"25\" x=\"44.5\" y=\"183.6387\">q: Q</text></a></g><g id=\"E1.E10.E11.E12\"><a href=\"psysml:bdc7bdc2-851d-4524-9d87-06992ba679d3\" target=\"_top\" title=\"psysml:bdc7bdc2-851d-4524-9d87-06992ba679d3\" xlink:actuate=\"onRequest\" xlink:href=\"psysml:bdc7bdc2-851d-4524-9d87-06992ba679d3\" xlink:show=\"new\" xlink:title=\"psysml:bdc7bdc2-851d-4524-9d87-06992ba679d3\" xlink:type=\"simple\"><rect fill=\"#FFFFFF\" height=\"56.9063\" id=\"E12\" rx=\"10\" ry=\"10\" style=\"stroke: #383838; stroke-width: 1.5;\" width=\"76\" x=\"423\" y=\"159\"/><rect fill=\"#F8F8F8\" height=\"51.9063\" rx=\"10\" ry=\"10\" style=\"stroke: #F8F8F8; stroke-width: 1.5;\" width=\"76\" x=\"423\" y=\"159\"/><rect fill=\"#F8F8F8\" height=\"10\" style=\"stroke: #F8F8F8; stroke-width: 1.5;\" width=\"76\" x=\"423\" y=\"200.9063\"/><rect fill=\"none\" height=\"56.9063\" id=\"E12\" rx=\"10\" ry=\"10\" style=\"stroke: #383838; stroke-width: 1.5;\" width=\"76\" x=\"423\" y=\"159\"/><text fill=\"#000000\" font-family=\"sans-serif\" font-size=\"12\" font-style=\"italic\" lengthAdjust=\"spacingAndGlyphs\" textLength=\"69\" x=\"426.5\" y=\"175.1387\">«attribute»</text><text fill=\"#000000\" font-family=\"sans-serif\" font-size=\"12\" lengthAdjust=\"spacingAndGlyphs\" textLength=\"24\" x=\"449\" y=\"189.1074\">b: B</text><text fill=\"#000000\" font-family=\"sans-serif\" font-size=\"12\" font-style=\"italic\" lengthAdjust=\"spacingAndGlyphs\" textLength=\"48\" x=\"435\" y=\"203.0762\">:&gt;&gt;P::a</text><text fill=\"#000000\" font-family=\"sans-serif\" font-size=\"12\" lengthAdjust=\"spacingAndGlyphs\" textLength=\"0\" x=\"487\" y=\"203.0762\"/></a></g><!--MD5=[185131fc0dcab0a4505a2ebe144e961b]\n",
       "link E4 to E2--><a href=\"psysml:0057605f-0b36-40b5-a833-d8040f0d9e74\" target=\"_top\" title=\"psysml:0057605f-0b36-40b5-a833-d8040f0d9e74\" xlink:actuate=\"onRequest\" xlink:href=\"psysml:0057605f-0b36-40b5-a833-d8040f0d9e74\" xlink:show=\"new\" xlink:title=\"psysml:0057605f-0b36-40b5-a833-d8040f0d9e74\" xlink:type=\"simple\"><path d=\"M153,209.01 C153,260.2 153,385 153,385 C153,385 204.6,385 257.0063,385 C283.2094,385 309.6141,385 329.8711,385 C339.9996,385 348.5912,385 354.8522,385 C355.6349,385 356.3811,385 357.0893,385 C357.2664,385 357.4411,385 357.6134,385 \" fill=\"none\" id=\"E4-&gt;E2\" style=\"stroke: #383838; stroke-width: 1.0;\"/><polygon fill=\"#FFFFFF\" points=\"357.6134,385,338.6134,378,338.6134,392,357.6134,385\" style=\"stroke: #383838; stroke-width: 1.0;\"/></a><!--MD5=[2351f337d6de0f557b50152ba70847b5]\n",
       "link E6 to E2--><a href=\"psysml:922ee1f9-edf0-4204-bf0f-0435eb6f66de\" target=\"_top\" title=\"psysml:922ee1f9-edf0-4204-bf0f-0435eb6f66de\" xlink:actuate=\"onRequest\" xlink:href=\"psysml:922ee1f9-edf0-4204-bf0f-0435eb6f66de\" xlink:show=\"new\" xlink:title=\"psysml:922ee1f9-edf0-4204-bf0f-0435eb6f66de\" xlink:type=\"simple\"><path d=\"M579,264.1999 C579,265.5451 579,266.8589 579,268.1359 C579,270.69 579,273.097 579,275.3136 C579,284.18 579,290 579,290 C579,290 366.75,290 366.75,290 C366.75,290 366.75,291.4308 366.75,293.9402 C366.75,295.195 366.75,296.7194 366.75,298.4694 C366.75,299.3444 366.75,300.2759 366.75,301.2582 C366.75,301.7494 366.75,302.2533 366.75,302.7692 C366.75,303.0272 366.75,303.2882 366.75,303.5521 C366.75,303.684 366.75,303.8167 366.75,303.9501 \" fill=\"none\" id=\"E6-&gt;E2\" style=\"stroke: #383838; stroke-width: 1.0;\"/><polygon fill=\"#FFFFFF\" points=\"366.75,303.9501,373.75,284.9501,359.75,284.9501,366.75,303.9501\" style=\"stroke: #383838; stroke-width: 1.0;\"/></a><!--MD5=[9336d3e3c67ef9fb0fa6ccdac5637928]\n",
       "@startuml\r\n",
       "skinparam ranksep 8\r\n",
       "skinparam rectangle {\r\n",
       " backgroundColor<<block>> LightGreen\r\n",
       "}\r\n",
       "skinparam linetype ortho\r\n",
       "skinparam monochrome true\r\n",
       "skinparam classbackgroundcolor white\r\n",
       "skinparam shadowing false\r\n",
       "skinparam wrapWidth 300\r\n",
       "hide circle\r\n",
       "\r\n",
       "package \"VariabilityTest\" as E1  [[psysml:fc405a6c-3061-4540-9673-8b8e766ba6ac ]]  {\r\n",
       "rec def \"P\" as E2  <<(T,blue)part def>> [[psysml:dc902210-e855-46b4-a2dd-8255fef19514 ]] {\r\n",
       "rec usage \"a\" as E3  <<(T,blue)attribute>> [[psysml:6681b89b-422d-48d0-bc41-7a96ec587b7c ]] {\r\n",
       "}\r\n",
       "}\r\n",
       "rec def \"Q\" as E4  <<(T,blue)part def>> [[psysml:b52c8837-30af-42aa-bc51-100eaed5de80 ]] {\r\n",
       "}\r\n",
       "def \"B\" as E5  <<(T,blue)attribute def>> [[psysml:f17815b8-46c4-4dd9-bf70-524ba6c03f24 ]] \r\n",
       "rec def \"V\" as E6  <<(T,blue)part def>> [[psysml:b1ebe526-c40e-4c8f-ae74-16f7fcd1bdc9 ]] {\r\n",
       "rec usage \"x: Q\" as E7  [[psysml:05419eac-6c2b-46e9-bd3b-b31f448a077a ]] {\r\n",
       "rec usage \"b: B\\n//:>>P::a// \" as E8  <<(T,blue)attribute>> [[psysml:ea3366e9-5974-4411-9b27-ac275f4425c1 ]] {\r\n",
       "}\r\n",
       "}\r\n",
       "}\r\n",
       "rec usage \"q: Q\" as E9  [[psysml:bd66bfa4-4cf8-4e62-98d6-c8549fcb8467 ]] {\r\n",
       "}\r\n",
       "rec usage \"v: P\" as E10  <<variation>> [[psysml:d11ba367-2498-4d3b-bf9a-6df5f0bc7068 ]] {\r\n",
       "rec usage \"y\" as E11  [[psysml:72597939-8390-466d-9479-39928477d122 ]] {\r\n",
       "rec usage \"b: B\\n//:>>P::a// \" as E12  <<(T,blue)attribute>> [[psysml:bdc7bdc2-851d-4524-9d87-06992ba679d3 ]] {\r\n",
       "}\r\n",
       "}\r\n",
       "}\r\n",
       "E4 - -|> E2 [[psysml:0057605f-0b36-40b5-a833-d8040f0d9e74 ]] \r\n",
       "E6 - -|> E2 [[psysml:922ee1f9-edf0-4204-bf0f-0435eb6f66de ]] \r\n",
       "}\r\n",
       "@enduml\r\n",
       "\n",
       "PlantUML version 1.2020.13(Sat Jun 13 12:26:38 UTC 2020)\n",
       "(EPL source distribution)\n",
       "Java Runtime: OpenJDK Runtime Environment\n",
       "JVM: OpenJDK 64-Bit Server VM\n",
       "Default Encoding: UTF-8\n",
       "Language: en\n",
       "Country: null\n",
       "--></g></svg>"
      ]
     },
     "execution_count": 54,
     "metadata": {},
     "output_type": "execute_result"
    }
   ],
   "source": [
    "%viz --style=\"ORTHOLINE\" --view=\"Interconnection\" \"VariabilityTest\""
   ]
  },
  {
   "cell_type": "code",
   "execution_count": 55,
   "id": "alleged-globe",
   "metadata": {
    "execution": {
     "iopub.execute_input": "2021-03-25T15:07:51.751987Z",
     "iopub.status.busy": "2021-03-25T15:07:51.751145Z",
     "iopub.status.idle": "2021-03-25T15:07:51.763280Z",
     "shell.execute_reply": "2021-03-25T15:07:51.762940Z"
    }
   },
   "outputs": [
    {
     "data": {
      "image/svg+xml": [
       "<?xml version=\"1.0\" encoding=\"UTF-8\" standalone=\"no\"?><svg xmlns=\"http://www.w3.org/2000/svg\" xmlns:xlink=\"http://www.w3.org/1999/xlink\" contentScriptType=\"application/ecmascript\" contentStyleType=\"text/css\" height=\"12px\" preserveAspectRatio=\"none\" style=\"width:12px;height:12px;\" version=\"1.1\" viewBox=\"0 0 12 12\" width=\"12px\" zoomAndPan=\"magnify\"><defs/><g><!--MD5=[72934c63077099a26744516a776b4749]\n",
       "@startuml\r\n",
       "skinparam ranksep 8\r\n",
       "skinparam linetype ortho\r\n",
       "skinparam monochrome true\r\n",
       "skinparam classbackgroundcolor white\r\n",
       "skinparam shadowing false\r\n",
       "skinparam wrapWidth 300\r\n",
       "hide circle\r\n",
       "\r\n",
       "@enduml\r\n",
       "\n",
       "PlantUML version 1.2020.13(Sat Jun 13 12:26:38 UTC 2020)\n",
       "(EPL source distribution)\n",
       "Java Runtime: OpenJDK Runtime Environment\n",
       "JVM: OpenJDK 64-Bit Server VM\n",
       "Default Encoding: UTF-8\n",
       "Language: en\n",
       "Country: null\n",
       "--></g></svg>"
      ]
     },
     "execution_count": 55,
     "metadata": {},
     "output_type": "execute_result"
    }
   ],
   "source": [
    "%viz --style=\"ORTHOLINE\" --view=\"Action\" \"VariabilityTest\""
   ]
  },
  {
   "cell_type": "code",
   "execution_count": 56,
   "id": "immediate-aggregate",
   "metadata": {
    "execution": {
     "iopub.execute_input": "2021-03-25T15:07:51.815589Z",
     "iopub.status.busy": "2021-03-25T15:07:51.814347Z",
     "iopub.status.idle": "2021-03-25T15:07:52.243465Z",
     "shell.execute_reply": "2021-03-25T15:07:52.241954Z"
    }
   },
   "outputs": [
    {
     "data": {
      "image/svg+xml": [
       "<?xml version=\"1.0\" encoding=\"UTF-8\" standalone=\"no\"?><svg xmlns=\"http://www.w3.org/2000/svg\" xmlns:xlink=\"http://www.w3.org/1999/xlink\" contentScriptType=\"application/ecmascript\" contentStyleType=\"text/css\" height=\"401px\" preserveAspectRatio=\"none\" style=\"width:342px;height:401px;\" version=\"1.1\" viewBox=\"0 0 342 401\" width=\"342px\" zoomAndPan=\"magnify\"><defs/><g><!--MD5=[fbc87193dbaf4d95561dea2c320d4a47]\n",
       "cluster E1--><a href=\"psysml:fc405a6c-3061-4540-9673-8b8e766ba6ac\" target=\"_top\" title=\"psysml:fc405a6c-3061-4540-9673-8b8e766ba6ac\" xlink:actuate=\"onRequest\" xlink:href=\"psysml:fc405a6c-3061-4540-9673-8b8e766ba6ac\" xlink:show=\"new\" xlink:title=\"psysml:fc405a6c-3061-4540-9673-8b8e766ba6ac\" xlink:type=\"simple\"><polygon fill=\"#FFFFFF\" points=\"16,6,134,6,141,28.2969,320,28.2969,320,389,16,389,16,6\" style=\"stroke: #000000; stroke-width: 1.5;\"/><line style=\"stroke: #000000; stroke-width: 1.5;\" x1=\"16\" x2=\"141\" y1=\"28.2969\" y2=\"28.2969\"/><text fill=\"#000000\" font-family=\"sans-serif\" font-size=\"14\" font-weight=\"bold\" lengthAdjust=\"spacingAndGlyphs\" textLength=\"112\" x=\"20\" y=\"20.9951\">VariabilityTest</text></a><!--MD5=[b4997ac47864f28c2f74865a473b2911]\n",
       "class E2--><a href=\"psysml:dc902210-e855-46b4-a2dd-8255fef19514\" target=\"_top\" title=\"psysml:dc902210-e855-46b4-a2dd-8255fef19514\" xlink:actuate=\"onRequest\" xlink:href=\"psysml:dc902210-e855-46b4-a2dd-8255fef19514\" xlink:show=\"new\" xlink:title=\"psysml:dc902210-e855-46b4-a2dd-8255fef19514\" xlink:type=\"simple\"><rect fill=\"#FFFFFF\" height=\"75.5469\" id=\"E2\" style=\"stroke: #383838; stroke-width: 1.5;\" width=\"66\" x=\"135\" y=\"291\"/><text fill=\"#000000\" font-family=\"sans-serif\" font-size=\"12\" font-style=\"italic\" lengthAdjust=\"spacingAndGlyphs\" textLength=\"64\" x=\"136\" y=\"307.1387\">«part def»</text><text fill=\"#000000\" font-family=\"sans-serif\" font-size=\"12\" lengthAdjust=\"spacingAndGlyphs\" textLength=\"8\" x=\"164\" y=\"321.1074\">P</text><line style=\"stroke: #383838; stroke-width: 1.5;\" x1=\"136\" x2=\"200\" y1=\"328.9375\" y2=\"328.9375\"/><text fill=\"#000000\" font-family=\"sans-serif\" font-size=\"11\" lengthAdjust=\"spacingAndGlyphs\" textLength=\"7\" x=\"141\" y=\"359.9526\">a</text><line style=\"stroke: #383838; stroke-width: 1.0;\" x1=\"136\" x2=\"140.5\" y1=\"343.3398\" y2=\"343.3398\"/><text fill=\"#000000\" font-family=\"sans-serif\" font-size=\"11\" lengthAdjust=\"spacingAndGlyphs\" textLength=\"55\" x=\"140.5\" y=\"346.6479\">attributes</text><line style=\"stroke: #383838; stroke-width: 1.0;\" x1=\"195.5\" x2=\"200\" y1=\"343.3398\" y2=\"343.3398\"/></a><!--MD5=[09b614a08d8cba4a07c9adeb5e0fee81]\n",
       "class E3--><a href=\"psysml:b52c8837-30af-42aa-bc51-100eaed5de80\" target=\"_top\" title=\"psysml:b52c8837-30af-42aa-bc51-100eaed5de80\" xlink:actuate=\"onRequest\" xlink:href=\"psysml:b52c8837-30af-42aa-bc51-100eaed5de80\" xlink:show=\"new\" xlink:title=\"psysml:b52c8837-30af-42aa-bc51-100eaed5de80\" xlink:type=\"simple\"><rect fill=\"#FFFFFF\" height=\"45.9375\" id=\"E3\" style=\"stroke: #383838; stroke-width: 1.5;\" width=\"66\" x=\"137\" y=\"155\"/><text fill=\"#000000\" font-family=\"sans-serif\" font-size=\"12\" font-style=\"italic\" lengthAdjust=\"spacingAndGlyphs\" textLength=\"64\" x=\"138\" y=\"171.1387\">«part def»</text><text fill=\"#000000\" font-family=\"sans-serif\" font-size=\"12\" lengthAdjust=\"spacingAndGlyphs\" textLength=\"9\" x=\"165.5\" y=\"185.1074\">Q</text><line style=\"stroke: #383838; stroke-width: 1.5;\" x1=\"138\" x2=\"202\" y1=\"192.9375\" y2=\"192.9375\"/></a><!--MD5=[ebbe1d658d1005bcc118a6aa81145e00]\n",
       "class E4--><a href=\"psysml:f17815b8-46c4-4dd9-bf70-524ba6c03f24\" target=\"_top\" title=\"psysml:f17815b8-46c4-4dd9-bf70-524ba6c03f24\" xlink:actuate=\"onRequest\" xlink:href=\"psysml:f17815b8-46c4-4dd9-bf70-524ba6c03f24\" xlink:show=\"new\" xlink:title=\"psysml:f17815b8-46c4-4dd9-bf70-524ba6c03f24\" xlink:type=\"simple\"><rect fill=\"#FFFFFF\" height=\"45.9375\" id=\"E4\" style=\"stroke: #383838; stroke-width: 1.5;\" width=\"95\" x=\"208.5\" y=\"41\"/><text fill=\"#000000\" font-family=\"sans-serif\" font-size=\"12\" font-style=\"italic\" lengthAdjust=\"spacingAndGlyphs\" textLength=\"93\" x=\"209.5\" y=\"57.1387\">«attribute def»</text><text fill=\"#000000\" font-family=\"sans-serif\" font-size=\"12\" lengthAdjust=\"spacingAndGlyphs\" textLength=\"8\" x=\"252\" y=\"71.1074\">B</text><line style=\"stroke: #383838; stroke-width: 1.5;\" x1=\"209.5\" x2=\"302.5\" y1=\"78.9375\" y2=\"78.9375\"/></a><!--MD5=[270fce915f116d4de14055a7c1d9a0f3]\n",
       "class E5--><a href=\"psysml:b1ebe526-c40e-4c8f-ae74-16f7fcd1bdc9\" target=\"_top\" title=\"psysml:b1ebe526-c40e-4c8f-ae74-16f7fcd1bdc9\" xlink:actuate=\"onRequest\" xlink:href=\"psysml:b1ebe526-c40e-4c8f-ae74-16f7fcd1bdc9\" xlink:show=\"new\" xlink:title=\"psysml:b1ebe526-c40e-4c8f-ae74-16f7fcd1bdc9\" xlink:type=\"simple\"><rect fill=\"#FFFFFF\" height=\"45.9375\" id=\"E5\" style=\"stroke: #383838; stroke-width: 1.5;\" width=\"66\" x=\"238\" y=\"155\"/><text fill=\"#000000\" font-family=\"sans-serif\" font-size=\"12\" font-style=\"italic\" lengthAdjust=\"spacingAndGlyphs\" textLength=\"64\" x=\"239\" y=\"171.1387\">«part def»</text><text fill=\"#000000\" font-family=\"sans-serif\" font-size=\"12\" lengthAdjust=\"spacingAndGlyphs\" textLength=\"8\" x=\"267\" y=\"185.1074\">V</text><line style=\"stroke: #383838; stroke-width: 1.5;\" x1=\"239\" x2=\"303\" y1=\"192.9375\" y2=\"192.9375\"/></a><!--MD5=[60a26617385b1d2d0262a64233df1f8d]\n",
       "class E6--><a href=\"psysml:05419eac-6c2b-46e9-bd3b-b31f448a077a\" target=\"_top\" title=\"psysml:05419eac-6c2b-46e9-bd3b-b31f448a077a\" xlink:actuate=\"onRequest\" xlink:href=\"psysml:05419eac-6c2b-46e9-bd3b-b31f448a077a\" xlink:show=\"new\" xlink:title=\"psysml:05419eac-6c2b-46e9-bd3b-b31f448a077a\" xlink:type=\"simple\"><rect fill=\"#FFFFFF\" height=\"88.3516\" id=\"E6\" rx=\"10\" ry=\"10\" style=\"stroke: #383838; stroke-width: 1.5;\" width=\"63\" x=\"236.5\" y=\"285\"/><text fill=\"#000000\" font-family=\"sans-serif\" font-size=\"12\" font-style=\"italic\" lengthAdjust=\"spacingAndGlyphs\" textLength=\"40\" x=\"248\" y=\"301.1387\">«part»</text><text fill=\"#000000\" font-family=\"sans-serif\" font-size=\"12\" lengthAdjust=\"spacingAndGlyphs\" textLength=\"23\" x=\"256.5\" y=\"315.1074\">x: Q</text><line style=\"stroke: #383838; stroke-width: 1.5;\" x1=\"237.5\" x2=\"298.5\" y1=\"322.9375\" y2=\"322.9375\"/><text fill=\"#000000\" font-family=\"sans-serif\" font-size=\"11\" lengthAdjust=\"spacingAndGlyphs\" textLength=\"23\" x=\"242.5\" y=\"353.9526\">b: B</text><text fill=\"#000000\" font-family=\"sans-serif\" font-size=\"11\" font-style=\"italic\" lengthAdjust=\"spacingAndGlyphs\" textLength=\"44\" x=\"242.5\" y=\"366.7573\">:&gt;&gt;P::a</text><line style=\"stroke: #383838; stroke-width: 1.0;\" x1=\"237.5\" x2=\"240.5\" y1=\"337.3398\" y2=\"337.3398\"/><text fill=\"#000000\" font-family=\"sans-serif\" font-size=\"11\" lengthAdjust=\"spacingAndGlyphs\" textLength=\"55\" x=\"240.5\" y=\"340.6479\">attributes</text><line style=\"stroke: #383838; stroke-width: 1.0;\" x1=\"295.5\" x2=\"298.5\" y1=\"337.3398\" y2=\"337.3398\"/></a><!--MD5=[2156ba9850f5573cc1fc38a6a4b2f02b]\n",
       "class E7--><a href=\"psysml:bd66bfa4-4cf8-4e62-98d6-c8549fcb8467\" target=\"_top\" title=\"psysml:bd66bfa4-4cf8-4e62-98d6-c8549fcb8467\" xlink:actuate=\"onRequest\" xlink:href=\"psysml:bd66bfa4-4cf8-4e62-98d6-c8549fcb8467\" xlink:show=\"new\" xlink:title=\"psysml:bd66bfa4-4cf8-4e62-98d6-c8549fcb8467\" xlink:type=\"simple\"><rect fill=\"#FFFFFF\" height=\"45.9375\" id=\"E7\" rx=\"10\" ry=\"10\" style=\"stroke: #383838; stroke-width: 1.5;\" width=\"42\" x=\"131\" y=\"41\"/><text fill=\"#000000\" font-family=\"sans-serif\" font-size=\"12\" font-style=\"italic\" lengthAdjust=\"spacingAndGlyphs\" textLength=\"40\" x=\"132\" y=\"57.1387\">«part»</text><text fill=\"#000000\" font-family=\"sans-serif\" font-size=\"12\" lengthAdjust=\"spacingAndGlyphs\" textLength=\"25\" x=\"139.5\" y=\"71.1074\">q: Q</text><line style=\"stroke: #383838; stroke-width: 1.5;\" x1=\"132\" x2=\"172\" y1=\"78.9375\" y2=\"78.9375\"/></a><!--MD5=[b9389687b975829384b498ac4b7476b2]\n",
       "class E8--><a href=\"psysml:d11ba367-2498-4d3b-bf9a-6df5f0bc7068\" target=\"_top\" title=\"psysml:d11ba367-2498-4d3b-bf9a-6df5f0bc7068\" xlink:actuate=\"onRequest\" xlink:href=\"psysml:d11ba367-2498-4d3b-bf9a-6df5f0bc7068\" xlink:show=\"new\" xlink:title=\"psysml:d11ba367-2498-4d3b-bf9a-6df5f0bc7068\" xlink:type=\"simple\"><rect fill=\"#FFFFFF\" height=\"59.9063\" id=\"E8\" rx=\"10\" ry=\"10\" style=\"stroke: #383838; stroke-width: 1.5;\" width=\"70\" x=\"32\" y=\"148\"/><text fill=\"#000000\" font-family=\"sans-serif\" font-size=\"12\" font-style=\"italic\" lengthAdjust=\"spacingAndGlyphs\" textLength=\"68\" x=\"33\" y=\"164.1387\">«variation»</text><text fill=\"#000000\" font-family=\"sans-serif\" font-size=\"12\" font-style=\"italic\" lengthAdjust=\"spacingAndGlyphs\" textLength=\"40\" x=\"47\" y=\"178.1074\">«part»</text><text fill=\"#000000\" font-family=\"sans-serif\" font-size=\"12\" lengthAdjust=\"spacingAndGlyphs\" textLength=\"22\" x=\"56\" y=\"192.0762\">v: P</text><line style=\"stroke: #383838; stroke-width: 1.5;\" x1=\"33\" x2=\"101\" y1=\"199.9063\" y2=\"199.9063\"/></a><!--MD5=[fd4143e9d270a159db93a4ea2a975926]\n",
       "class E9--><a href=\"psysml:72597939-8390-466d-9479-39928477d122\" target=\"_top\" title=\"psysml:72597939-8390-466d-9479-39928477d122\" xlink:actuate=\"onRequest\" xlink:href=\"psysml:72597939-8390-466d-9479-39928477d122\" xlink:show=\"new\" xlink:title=\"psysml:72597939-8390-466d-9479-39928477d122\" xlink:type=\"simple\"><rect fill=\"#FFFFFF\" height=\"88.3516\" id=\"E9\" rx=\"10\" ry=\"10\" style=\"stroke: #383838; stroke-width: 1.5;\" width=\"63\" x=\"35.5\" y=\"285\"/><text fill=\"#000000\" font-family=\"sans-serif\" font-size=\"12\" font-style=\"italic\" lengthAdjust=\"spacingAndGlyphs\" textLength=\"40\" x=\"47\" y=\"301.1387\">«part»</text><text fill=\"#000000\" font-family=\"sans-serif\" font-size=\"12\" lengthAdjust=\"spacingAndGlyphs\" textLength=\"6\" x=\"64\" y=\"315.1074\">y</text><line style=\"stroke: #383838; stroke-width: 1.5;\" x1=\"36.5\" x2=\"97.5\" y1=\"322.9375\" y2=\"322.9375\"/><text fill=\"#000000\" font-family=\"sans-serif\" font-size=\"11\" lengthAdjust=\"spacingAndGlyphs\" textLength=\"23\" x=\"41.5\" y=\"353.9526\">b: B</text><text fill=\"#000000\" font-family=\"sans-serif\" font-size=\"11\" font-style=\"italic\" lengthAdjust=\"spacingAndGlyphs\" textLength=\"44\" x=\"41.5\" y=\"366.7573\">:&gt;&gt;P::a</text><line style=\"stroke: #383838; stroke-width: 1.0;\" x1=\"36.5\" x2=\"39.5\" y1=\"337.3398\" y2=\"337.3398\"/><text fill=\"#000000\" font-family=\"sans-serif\" font-size=\"11\" lengthAdjust=\"spacingAndGlyphs\" textLength=\"55\" x=\"39.5\" y=\"340.6479\">attributes</text><line style=\"stroke: #383838; stroke-width: 1.0;\" x1=\"94.5\" x2=\"97.5\" y1=\"337.3398\" y2=\"337.3398\"/></a><!--MD5=[05d275557350bfb9b23a4ef7222b4c39]\n",
       "link E3 to E2--><a href=\"psysml:0057605f-0b36-40b5-a833-d8040f0d9e74\" target=\"_top\" title=\"psysml:0057605f-0b36-40b5-a833-d8040f0d9e74\" xlink:actuate=\"onRequest\" xlink:href=\"psysml:0057605f-0b36-40b5-a833-d8040f0d9e74\" xlink:show=\"new\" xlink:title=\"psysml:0057605f-0b36-40b5-a833-d8040f0d9e74\" xlink:type=\"simple\"><path d=\"M179.67,201.26 C179.67,201.26 179.67,270.73 179.67,270.73 \" fill=\"none\" id=\"E3-&gt;E2\" style=\"stroke: #383838; stroke-width: 1.0;\"/><polygon fill=\"none\" points=\"186.67,270.73,179.67,290.73,172.67,270.73,186.67,270.73\" style=\"stroke: #383838; stroke-width: 1.0;\"/></a><!--MD5=[15ebcb19ae302d9b601edb458606d402]\n",
       "link E5 to E2--><a href=\"psysml:922ee1f9-edf0-4204-bf0f-0435eb6f66de\" target=\"_top\" title=\"psysml:922ee1f9-edf0-4204-bf0f-0435eb6f66de\" xlink:actuate=\"onRequest\" xlink:href=\"psysml:922ee1f9-edf0-4204-bf0f-0435eb6f66de\" xlink:show=\"new\" xlink:title=\"psysml:922ee1f9-edf0-4204-bf0f-0435eb6f66de\" xlink:type=\"simple\"><path d=\"M237.85,178 C229.32,178 222.5,178 222.5,178 C222.5,178 222.5,329 222.5,329 C222.5,329 220.38,329 220.38,329 \" fill=\"none\" id=\"E5-&gt;E2\" style=\"stroke: #383838; stroke-width: 1.0;\"/><polygon fill=\"none\" points=\"221.27,336,201.27,329,221.27,322,221.27,336\" style=\"stroke: #383838; stroke-width: 1.0;\"/></a><!--MD5=[9120cf2e5df3bff93db8f754bbbc09b4]\n",
       "link E5 to E6--><a href=\"psysml:1c0ef759-8c31-4a4a-b0e7-e872c2806a04\" target=\"_top\" title=\"psysml:1c0ef759-8c31-4a4a-b0e7-e872c2806a04\" xlink:actuate=\"onRequest\" xlink:href=\"psysml:1c0ef759-8c31-4a4a-b0e7-e872c2806a04\" xlink:show=\"new\" xlink:title=\"psysml:1c0ef759-8c31-4a4a-b0e7-e872c2806a04\" xlink:type=\"simple\"><path d=\"M268.75,211.26 C268.75,211.26 268.75,274.72 268.75,274.72 \" fill=\"none\" id=\"E5-E6\" style=\"stroke: #383838; stroke-width: 1.0;\"/><polygon fill=\"#383838\" points=\"268.75,284.72,271.75,276.72,265.75,276.72,268.75,284.72\" style=\"stroke: #383838; stroke-width: 1.0;\"/><path d=\"M260.2928,204.3382 A9,9 0 0 0 277.2072 204.3382\" fill=\"none\" style=\"stroke: #383838; stroke-width: 1.5;\"/><text fill=\"#000000\" font-family=\"sans-serif\" font-size=\"13\" lengthAdjust=\"spacingAndGlyphs\" textLength=\"60\" x=\"243\" y=\"251.0669\">«variant»</text></a><!--MD5=[14ccda38c055a5c0da953d572bc50960]\n",
       "link E7 to E3--><a href=\"psysml:6aa04dcc-8d2e-4853-a2ca-5b94913b0044\" target=\"_top\" title=\"psysml:6aa04dcc-8d2e-4853-a2ca-5b94913b0044\" xlink:actuate=\"onRequest\" xlink:href=\"psysml:6aa04dcc-8d2e-4853-a2ca-5b94913b0044\" xlink:show=\"new\" xlink:title=\"psysml:6aa04dcc-8d2e-4853-a2ca-5b94913b0044\" xlink:type=\"simple\"><path d=\"M155,87.07 C155,87.07 155,134.96 155,134.96 \" fill=\"none\" id=\"E7-&gt;E3\" style=\"stroke: #383838; stroke-width: 1.0;\"/><polygon fill=\"#FFFFFF\" points=\"155,154.96,148,135.96,162,135.96,155,154.96\" style=\"stroke: #383838; stroke-width: 1.0;\"/><ellipse cx=\"150\" cy=\"130.26\" fill=\"#383838\" rx=\"2\" ry=\"2\" style=\"stroke: #383838; stroke-width: 1.0;\"/><ellipse cx=\"160\" cy=\"130.26\" fill=\"#383838\" rx=\"2\" ry=\"2\" style=\"stroke: #383838; stroke-width: 1.0;\"/></a><!--MD5=[f1f3f9f2fc535e6147756cb86a7f2e32]\n",
       "link E8 to E2--><a href=\"psysml:62998d3a-e41b-4231-af2c-a0f2b465e4e7\" target=\"_top\" title=\"psysml:62998d3a-e41b-4231-af2c-a0f2b465e4e7\" xlink:actuate=\"onRequest\" xlink:href=\"psysml:62998d3a-e41b-4231-af2c-a0f2b465e4e7\" xlink:show=\"new\" xlink:title=\"psysml:62998d3a-e41b-4231-af2c-a0f2b465e4e7\" xlink:type=\"simple\"><path d=\"M102.05,205 C127.81,205 158.33,205 158.33,205 C158.33,205 158.33,270.78 158.33,270.78 \" fill=\"none\" id=\"E8-&gt;E2\" style=\"stroke: #383838; stroke-width: 1.0;\"/><polygon fill=\"#FFFFFF\" points=\"158.33,290.78,151.33,271.78,165.33,271.78,158.33,290.78\" style=\"stroke: #383838; stroke-width: 1.0;\"/><ellipse cx=\"153.33\" cy=\"266.08\" fill=\"#383838\" rx=\"2\" ry=\"2\" style=\"stroke: #383838; stroke-width: 1.0;\"/><ellipse cx=\"163.33\" cy=\"266.08\" fill=\"#383838\" rx=\"2\" ry=\"2\" style=\"stroke: #383838; stroke-width: 1.0;\"/></a><!--MD5=[ed10624c06dd9a4fa49ccf290e8b16a8]\n",
       "link E8 to E9--><a href=\"psysml:196bced0-9581-41ba-9556-fc72f0b07990\" target=\"_top\" title=\"psysml:196bced0-9581-41ba-9556-fc72f0b07990\" xlink:actuate=\"onRequest\" xlink:href=\"psysml:196bced0-9581-41ba-9556-fc72f0b07990\" xlink:show=\"new\" xlink:title=\"psysml:196bced0-9581-41ba-9556-fc72f0b07990\" xlink:type=\"simple\"><path d=\"M67,218.19 C67,218.19 67,274.83 67,274.83 \" fill=\"none\" id=\"E8-E9\" style=\"stroke: #383838; stroke-width: 1.0;\"/><polygon fill=\"#383838\" points=\"67,284.83,70,276.83,64,276.83,67,284.83\" style=\"stroke: #383838; stroke-width: 1.0;\"/><path d=\"M58.5428,211.2682 A9,9 0 0 0 75.4572 211.2682\" fill=\"none\" style=\"stroke: #383838; stroke-width: 1.5;\"/><text fill=\"#000000\" font-family=\"sans-serif\" font-size=\"13\" lengthAdjust=\"spacingAndGlyphs\" textLength=\"60\" x=\"68\" y=\"251.0669\">«variant»</text></a><!--MD5=[fde387e89e60da240c25db555b78d851]\n",
       "@startuml\r\n",
       "skinparam linetype ortho\r\n",
       "skinparam monochrome true\r\n",
       "skinparam classbackgroundcolor white\r\n",
       "skinparam shadowing false\r\n",
       "skinparam wrapWidth 300\r\n",
       "hide circle\r\n",
       "\r\n",
       "package \"VariabilityTest\" as E1  [[psysml:fc405a6c-3061-4540-9673-8b8e766ba6ac ]]  {\r\n",
       "comp def \"P\" as E2  <<(T,blue)part def>> [[psysml:dc902210-e855-46b4-a2dd-8255fef19514 ]] {\r\n",
       "- - attributes - -\r\n",
       "a\r\n",
       "}\r\n",
       "comp def \"Q\" as E3  <<(T,blue)part def>> [[psysml:b52c8837-30af-42aa-bc51-100eaed5de80 ]] {\r\n",
       "}\r\n",
       "comp def \"B\" as E4  <<(T,blue)attribute def>> [[psysml:f17815b8-46c4-4dd9-bf70-524ba6c03f24 ]] {\r\n",
       "}\r\n",
       "comp def \"V\" as E5  <<(T,blue)part def>> [[psysml:b1ebe526-c40e-4c8f-ae74-16f7fcd1bdc9 ]] {\r\n",
       "}\r\n",
       "comp usage \"x: Q\" as E6  <<(T,blue)part>> [[psysml:05419eac-6c2b-46e9-bd3b-b31f448a077a ]] {\r\n",
       "- - attributes - -\r\n",
       "b: B\\n//:>>P::a// \r\n",
       "}\r\n",
       "comp usage \"q: Q\" as E7  <<(T,blue)part>> [[psysml:bd66bfa4-4cf8-4e62-98d6-c8549fcb8467 ]] {\r\n",
       "}\r\n",
       "comp usage \"v: P\" as E8  <<variation>>\\n <<(T,blue)part>> [[psysml:d11ba367-2498-4d3b-bf9a-6df5f0bc7068 ]] {\r\n",
       "}\r\n",
       "comp usage \"y\" as E9  <<(T,blue)part>> [[psysml:72597939-8390-466d-9479-39928477d122 ]] {\r\n",
       "- - attributes - -\r\n",
       "b: B\\n//:>>P::a// \r\n",
       "}\r\n",
       "E3 - -|> E2 [[psysml:0057605f-0b36-40b5-a833-d8040f0d9e74 ]] \r\n",
       "E5 - -|> E2 [[psysml:922ee1f9-edf0-4204-bf0f-0435eb6f66de ]] \r\n",
       "E5 )- ->> E6 [[psysml:1c0ef759-8c31-4a4a-b0e7-e872c2806a04 ]] : <<variant>>\r\n",
       "E7 - -:|> E3 [[psysml:6aa04dcc-8d2e-4853-a2ca-5b94913b0044 ]] \r\n",
       "E8 - -:|> E2 [[psysml:62998d3a-e41b-4231-af2c-a0f2b465e4e7 ]] \r\n",
       "E8 )- ->> E9 [[psysml:196bced0-9581-41ba-9556-fc72f0b07990 ]] : <<variant>>\r\n",
       "}\r\n",
       "@enduml\r\n",
       "\n",
       "PlantUML version 1.2020.13(Sat Jun 13 12:26:38 UTC 2020)\n",
       "(EPL source distribution)\n",
       "Java Runtime: OpenJDK Runtime Environment\n",
       "JVM: OpenJDK 64-Bit Server VM\n",
       "Default Encoding: UTF-8\n",
       "Language: en\n",
       "Country: null\n",
       "--></g></svg>"
      ]
     },
     "execution_count": 56,
     "metadata": {},
     "output_type": "execute_result"
    }
   ],
   "source": [
    "%viz --style=\"ORTHOLINE\" --view=\"Sequence\" \"VariabilityTest\""
   ]
  },
  {
   "cell_type": "code",
   "execution_count": 57,
   "id": "regional-death",
   "metadata": {
    "execution": {
     "iopub.execute_input": "2021-03-25T15:07:52.295928Z",
     "iopub.status.busy": "2021-03-25T15:07:52.295243Z",
     "iopub.status.idle": "2021-03-25T15:07:52.730056Z",
     "shell.execute_reply": "2021-03-25T15:07:52.729584Z"
    }
   },
   "outputs": [
    {
     "data": {
      "image/svg+xml": [
       "<?xml version=\"1.0\" encoding=\"UTF-8\" standalone=\"no\"?><svg xmlns=\"http://www.w3.org/2000/svg\" xmlns:xlink=\"http://www.w3.org/1999/xlink\" contentScriptType=\"application/ecmascript\" contentStyleType=\"text/css\" height=\"401px\" preserveAspectRatio=\"none\" style=\"width:342px;height:401px;\" version=\"1.1\" viewBox=\"0 0 342 401\" width=\"342px\" zoomAndPan=\"magnify\"><defs/><g><!--MD5=[fbc87193dbaf4d95561dea2c320d4a47]\n",
       "cluster E1--><a href=\"psysml:fc405a6c-3061-4540-9673-8b8e766ba6ac\" target=\"_top\" title=\"psysml:fc405a6c-3061-4540-9673-8b8e766ba6ac\" xlink:actuate=\"onRequest\" xlink:href=\"psysml:fc405a6c-3061-4540-9673-8b8e766ba6ac\" xlink:show=\"new\" xlink:title=\"psysml:fc405a6c-3061-4540-9673-8b8e766ba6ac\" xlink:type=\"simple\"><polygon fill=\"#FFFFFF\" points=\"16,6,134,6,141,28.2969,320,28.2969,320,389,16,389,16,6\" style=\"stroke: #000000; stroke-width: 1.5;\"/><line style=\"stroke: #000000; stroke-width: 1.5;\" x1=\"16\" x2=\"141\" y1=\"28.2969\" y2=\"28.2969\"/><text fill=\"#000000\" font-family=\"sans-serif\" font-size=\"14\" font-weight=\"bold\" lengthAdjust=\"spacingAndGlyphs\" textLength=\"112\" x=\"20\" y=\"20.9951\">VariabilityTest</text></a><!--MD5=[b4997ac47864f28c2f74865a473b2911]\n",
       "class E2--><a href=\"psysml:dc902210-e855-46b4-a2dd-8255fef19514\" target=\"_top\" title=\"psysml:dc902210-e855-46b4-a2dd-8255fef19514\" xlink:actuate=\"onRequest\" xlink:href=\"psysml:dc902210-e855-46b4-a2dd-8255fef19514\" xlink:show=\"new\" xlink:title=\"psysml:dc902210-e855-46b4-a2dd-8255fef19514\" xlink:type=\"simple\"><rect fill=\"#FFFFFF\" height=\"75.5469\" id=\"E2\" style=\"stroke: #383838; stroke-width: 1.5;\" width=\"66\" x=\"135\" y=\"291\"/><text fill=\"#000000\" font-family=\"sans-serif\" font-size=\"12\" font-style=\"italic\" lengthAdjust=\"spacingAndGlyphs\" textLength=\"64\" x=\"136\" y=\"307.1387\">«part def»</text><text fill=\"#000000\" font-family=\"sans-serif\" font-size=\"12\" lengthAdjust=\"spacingAndGlyphs\" textLength=\"8\" x=\"164\" y=\"321.1074\">P</text><line style=\"stroke: #383838; stroke-width: 1.5;\" x1=\"136\" x2=\"200\" y1=\"328.9375\" y2=\"328.9375\"/><text fill=\"#000000\" font-family=\"sans-serif\" font-size=\"11\" lengthAdjust=\"spacingAndGlyphs\" textLength=\"7\" x=\"141\" y=\"359.9526\">a</text><line style=\"stroke: #383838; stroke-width: 1.0;\" x1=\"136\" x2=\"140.5\" y1=\"343.3398\" y2=\"343.3398\"/><text fill=\"#000000\" font-family=\"sans-serif\" font-size=\"11\" lengthAdjust=\"spacingAndGlyphs\" textLength=\"55\" x=\"140.5\" y=\"346.6479\">attributes</text><line style=\"stroke: #383838; stroke-width: 1.0;\" x1=\"195.5\" x2=\"200\" y1=\"343.3398\" y2=\"343.3398\"/></a><!--MD5=[09b614a08d8cba4a07c9adeb5e0fee81]\n",
       "class E3--><a href=\"psysml:b52c8837-30af-42aa-bc51-100eaed5de80\" target=\"_top\" title=\"psysml:b52c8837-30af-42aa-bc51-100eaed5de80\" xlink:actuate=\"onRequest\" xlink:href=\"psysml:b52c8837-30af-42aa-bc51-100eaed5de80\" xlink:show=\"new\" xlink:title=\"psysml:b52c8837-30af-42aa-bc51-100eaed5de80\" xlink:type=\"simple\"><rect fill=\"#FFFFFF\" height=\"45.9375\" id=\"E3\" style=\"stroke: #383838; stroke-width: 1.5;\" width=\"66\" x=\"137\" y=\"155\"/><text fill=\"#000000\" font-family=\"sans-serif\" font-size=\"12\" font-style=\"italic\" lengthAdjust=\"spacingAndGlyphs\" textLength=\"64\" x=\"138\" y=\"171.1387\">«part def»</text><text fill=\"#000000\" font-family=\"sans-serif\" font-size=\"12\" lengthAdjust=\"spacingAndGlyphs\" textLength=\"9\" x=\"165.5\" y=\"185.1074\">Q</text><line style=\"stroke: #383838; stroke-width: 1.5;\" x1=\"138\" x2=\"202\" y1=\"192.9375\" y2=\"192.9375\"/></a><!--MD5=[ebbe1d658d1005bcc118a6aa81145e00]\n",
       "class E4--><a href=\"psysml:f17815b8-46c4-4dd9-bf70-524ba6c03f24\" target=\"_top\" title=\"psysml:f17815b8-46c4-4dd9-bf70-524ba6c03f24\" xlink:actuate=\"onRequest\" xlink:href=\"psysml:f17815b8-46c4-4dd9-bf70-524ba6c03f24\" xlink:show=\"new\" xlink:title=\"psysml:f17815b8-46c4-4dd9-bf70-524ba6c03f24\" xlink:type=\"simple\"><rect fill=\"#FFFFFF\" height=\"45.9375\" id=\"E4\" style=\"stroke: #383838; stroke-width: 1.5;\" width=\"95\" x=\"208.5\" y=\"41\"/><text fill=\"#000000\" font-family=\"sans-serif\" font-size=\"12\" font-style=\"italic\" lengthAdjust=\"spacingAndGlyphs\" textLength=\"93\" x=\"209.5\" y=\"57.1387\">«attribute def»</text><text fill=\"#000000\" font-family=\"sans-serif\" font-size=\"12\" lengthAdjust=\"spacingAndGlyphs\" textLength=\"8\" x=\"252\" y=\"71.1074\">B</text><line style=\"stroke: #383838; stroke-width: 1.5;\" x1=\"209.5\" x2=\"302.5\" y1=\"78.9375\" y2=\"78.9375\"/></a><!--MD5=[270fce915f116d4de14055a7c1d9a0f3]\n",
       "class E5--><a href=\"psysml:b1ebe526-c40e-4c8f-ae74-16f7fcd1bdc9\" target=\"_top\" title=\"psysml:b1ebe526-c40e-4c8f-ae74-16f7fcd1bdc9\" xlink:actuate=\"onRequest\" xlink:href=\"psysml:b1ebe526-c40e-4c8f-ae74-16f7fcd1bdc9\" xlink:show=\"new\" xlink:title=\"psysml:b1ebe526-c40e-4c8f-ae74-16f7fcd1bdc9\" xlink:type=\"simple\"><rect fill=\"#FFFFFF\" height=\"45.9375\" id=\"E5\" style=\"stroke: #383838; stroke-width: 1.5;\" width=\"66\" x=\"238\" y=\"155\"/><text fill=\"#000000\" font-family=\"sans-serif\" font-size=\"12\" font-style=\"italic\" lengthAdjust=\"spacingAndGlyphs\" textLength=\"64\" x=\"239\" y=\"171.1387\">«part def»</text><text fill=\"#000000\" font-family=\"sans-serif\" font-size=\"12\" lengthAdjust=\"spacingAndGlyphs\" textLength=\"8\" x=\"267\" y=\"185.1074\">V</text><line style=\"stroke: #383838; stroke-width: 1.5;\" x1=\"239\" x2=\"303\" y1=\"192.9375\" y2=\"192.9375\"/></a><!--MD5=[60a26617385b1d2d0262a64233df1f8d]\n",
       "class E6--><a href=\"psysml:05419eac-6c2b-46e9-bd3b-b31f448a077a\" target=\"_top\" title=\"psysml:05419eac-6c2b-46e9-bd3b-b31f448a077a\" xlink:actuate=\"onRequest\" xlink:href=\"psysml:05419eac-6c2b-46e9-bd3b-b31f448a077a\" xlink:show=\"new\" xlink:title=\"psysml:05419eac-6c2b-46e9-bd3b-b31f448a077a\" xlink:type=\"simple\"><rect fill=\"#FFFFFF\" height=\"88.3516\" id=\"E6\" rx=\"10\" ry=\"10\" style=\"stroke: #383838; stroke-width: 1.5;\" width=\"63\" x=\"236.5\" y=\"285\"/><text fill=\"#000000\" font-family=\"sans-serif\" font-size=\"12\" font-style=\"italic\" lengthAdjust=\"spacingAndGlyphs\" textLength=\"40\" x=\"248\" y=\"301.1387\">«part»</text><text fill=\"#000000\" font-family=\"sans-serif\" font-size=\"12\" lengthAdjust=\"spacingAndGlyphs\" textLength=\"23\" x=\"256.5\" y=\"315.1074\">x: Q</text><line style=\"stroke: #383838; stroke-width: 1.5;\" x1=\"237.5\" x2=\"298.5\" y1=\"322.9375\" y2=\"322.9375\"/><text fill=\"#000000\" font-family=\"sans-serif\" font-size=\"11\" lengthAdjust=\"spacingAndGlyphs\" textLength=\"23\" x=\"242.5\" y=\"353.9526\">b: B</text><text fill=\"#000000\" font-family=\"sans-serif\" font-size=\"11\" font-style=\"italic\" lengthAdjust=\"spacingAndGlyphs\" textLength=\"44\" x=\"242.5\" y=\"366.7573\">:&gt;&gt;P::a</text><line style=\"stroke: #383838; stroke-width: 1.0;\" x1=\"237.5\" x2=\"240.5\" y1=\"337.3398\" y2=\"337.3398\"/><text fill=\"#000000\" font-family=\"sans-serif\" font-size=\"11\" lengthAdjust=\"spacingAndGlyphs\" textLength=\"55\" x=\"240.5\" y=\"340.6479\">attributes</text><line style=\"stroke: #383838; stroke-width: 1.0;\" x1=\"295.5\" x2=\"298.5\" y1=\"337.3398\" y2=\"337.3398\"/></a><!--MD5=[2156ba9850f5573cc1fc38a6a4b2f02b]\n",
       "class E7--><a href=\"psysml:bd66bfa4-4cf8-4e62-98d6-c8549fcb8467\" target=\"_top\" title=\"psysml:bd66bfa4-4cf8-4e62-98d6-c8549fcb8467\" xlink:actuate=\"onRequest\" xlink:href=\"psysml:bd66bfa4-4cf8-4e62-98d6-c8549fcb8467\" xlink:show=\"new\" xlink:title=\"psysml:bd66bfa4-4cf8-4e62-98d6-c8549fcb8467\" xlink:type=\"simple\"><rect fill=\"#FFFFFF\" height=\"45.9375\" id=\"E7\" rx=\"10\" ry=\"10\" style=\"stroke: #383838; stroke-width: 1.5;\" width=\"42\" x=\"131\" y=\"41\"/><text fill=\"#000000\" font-family=\"sans-serif\" font-size=\"12\" font-style=\"italic\" lengthAdjust=\"spacingAndGlyphs\" textLength=\"40\" x=\"132\" y=\"57.1387\">«part»</text><text fill=\"#000000\" font-family=\"sans-serif\" font-size=\"12\" lengthAdjust=\"spacingAndGlyphs\" textLength=\"25\" x=\"139.5\" y=\"71.1074\">q: Q</text><line style=\"stroke: #383838; stroke-width: 1.5;\" x1=\"132\" x2=\"172\" y1=\"78.9375\" y2=\"78.9375\"/></a><!--MD5=[b9389687b975829384b498ac4b7476b2]\n",
       "class E8--><a href=\"psysml:d11ba367-2498-4d3b-bf9a-6df5f0bc7068\" target=\"_top\" title=\"psysml:d11ba367-2498-4d3b-bf9a-6df5f0bc7068\" xlink:actuate=\"onRequest\" xlink:href=\"psysml:d11ba367-2498-4d3b-bf9a-6df5f0bc7068\" xlink:show=\"new\" xlink:title=\"psysml:d11ba367-2498-4d3b-bf9a-6df5f0bc7068\" xlink:type=\"simple\"><rect fill=\"#FFFFFF\" height=\"59.9063\" id=\"E8\" rx=\"10\" ry=\"10\" style=\"stroke: #383838; stroke-width: 1.5;\" width=\"70\" x=\"32\" y=\"148\"/><text fill=\"#000000\" font-family=\"sans-serif\" font-size=\"12\" font-style=\"italic\" lengthAdjust=\"spacingAndGlyphs\" textLength=\"68\" x=\"33\" y=\"164.1387\">«variation»</text><text fill=\"#000000\" font-family=\"sans-serif\" font-size=\"12\" font-style=\"italic\" lengthAdjust=\"spacingAndGlyphs\" textLength=\"40\" x=\"47\" y=\"178.1074\">«part»</text><text fill=\"#000000\" font-family=\"sans-serif\" font-size=\"12\" lengthAdjust=\"spacingAndGlyphs\" textLength=\"22\" x=\"56\" y=\"192.0762\">v: P</text><line style=\"stroke: #383838; stroke-width: 1.5;\" x1=\"33\" x2=\"101\" y1=\"199.9063\" y2=\"199.9063\"/></a><!--MD5=[fd4143e9d270a159db93a4ea2a975926]\n",
       "class E9--><a href=\"psysml:72597939-8390-466d-9479-39928477d122\" target=\"_top\" title=\"psysml:72597939-8390-466d-9479-39928477d122\" xlink:actuate=\"onRequest\" xlink:href=\"psysml:72597939-8390-466d-9479-39928477d122\" xlink:show=\"new\" xlink:title=\"psysml:72597939-8390-466d-9479-39928477d122\" xlink:type=\"simple\"><rect fill=\"#FFFFFF\" height=\"88.3516\" id=\"E9\" rx=\"10\" ry=\"10\" style=\"stroke: #383838; stroke-width: 1.5;\" width=\"63\" x=\"35.5\" y=\"285\"/><text fill=\"#000000\" font-family=\"sans-serif\" font-size=\"12\" font-style=\"italic\" lengthAdjust=\"spacingAndGlyphs\" textLength=\"40\" x=\"47\" y=\"301.1387\">«part»</text><text fill=\"#000000\" font-family=\"sans-serif\" font-size=\"12\" lengthAdjust=\"spacingAndGlyphs\" textLength=\"6\" x=\"64\" y=\"315.1074\">y</text><line style=\"stroke: #383838; stroke-width: 1.5;\" x1=\"36.5\" x2=\"97.5\" y1=\"322.9375\" y2=\"322.9375\"/><text fill=\"#000000\" font-family=\"sans-serif\" font-size=\"11\" lengthAdjust=\"spacingAndGlyphs\" textLength=\"23\" x=\"41.5\" y=\"353.9526\">b: B</text><text fill=\"#000000\" font-family=\"sans-serif\" font-size=\"11\" font-style=\"italic\" lengthAdjust=\"spacingAndGlyphs\" textLength=\"44\" x=\"41.5\" y=\"366.7573\">:&gt;&gt;P::a</text><line style=\"stroke: #383838; stroke-width: 1.0;\" x1=\"36.5\" x2=\"39.5\" y1=\"337.3398\" y2=\"337.3398\"/><text fill=\"#000000\" font-family=\"sans-serif\" font-size=\"11\" lengthAdjust=\"spacingAndGlyphs\" textLength=\"55\" x=\"39.5\" y=\"340.6479\">attributes</text><line style=\"stroke: #383838; stroke-width: 1.0;\" x1=\"94.5\" x2=\"97.5\" y1=\"337.3398\" y2=\"337.3398\"/></a><!--MD5=[05d275557350bfb9b23a4ef7222b4c39]\n",
       "link E3 to E2--><a href=\"psysml:0057605f-0b36-40b5-a833-d8040f0d9e74\" target=\"_top\" title=\"psysml:0057605f-0b36-40b5-a833-d8040f0d9e74\" xlink:actuate=\"onRequest\" xlink:href=\"psysml:0057605f-0b36-40b5-a833-d8040f0d9e74\" xlink:show=\"new\" xlink:title=\"psysml:0057605f-0b36-40b5-a833-d8040f0d9e74\" xlink:type=\"simple\"><path d=\"M179.67,201.26 C179.67,201.26 179.67,270.73 179.67,270.73 \" fill=\"none\" id=\"E3-&gt;E2\" style=\"stroke: #383838; stroke-width: 1.0;\"/><polygon fill=\"none\" points=\"186.67,270.73,179.67,290.73,172.67,270.73,186.67,270.73\" style=\"stroke: #383838; stroke-width: 1.0;\"/></a><!--MD5=[15ebcb19ae302d9b601edb458606d402]\n",
       "link E5 to E2--><a href=\"psysml:922ee1f9-edf0-4204-bf0f-0435eb6f66de\" target=\"_top\" title=\"psysml:922ee1f9-edf0-4204-bf0f-0435eb6f66de\" xlink:actuate=\"onRequest\" xlink:href=\"psysml:922ee1f9-edf0-4204-bf0f-0435eb6f66de\" xlink:show=\"new\" xlink:title=\"psysml:922ee1f9-edf0-4204-bf0f-0435eb6f66de\" xlink:type=\"simple\"><path d=\"M237.85,178 C229.32,178 222.5,178 222.5,178 C222.5,178 222.5,329 222.5,329 C222.5,329 220.38,329 220.38,329 \" fill=\"none\" id=\"E5-&gt;E2\" style=\"stroke: #383838; stroke-width: 1.0;\"/><polygon fill=\"none\" points=\"221.27,336,201.27,329,221.27,322,221.27,336\" style=\"stroke: #383838; stroke-width: 1.0;\"/></a><!--MD5=[9120cf2e5df3bff93db8f754bbbc09b4]\n",
       "link E5 to E6--><a href=\"psysml:1c0ef759-8c31-4a4a-b0e7-e872c2806a04\" target=\"_top\" title=\"psysml:1c0ef759-8c31-4a4a-b0e7-e872c2806a04\" xlink:actuate=\"onRequest\" xlink:href=\"psysml:1c0ef759-8c31-4a4a-b0e7-e872c2806a04\" xlink:show=\"new\" xlink:title=\"psysml:1c0ef759-8c31-4a4a-b0e7-e872c2806a04\" xlink:type=\"simple\"><path d=\"M268.75,211.26 C268.75,211.26 268.75,274.72 268.75,274.72 \" fill=\"none\" id=\"E5-E6\" style=\"stroke: #383838; stroke-width: 1.0;\"/><polygon fill=\"#383838\" points=\"268.75,284.72,271.75,276.72,265.75,276.72,268.75,284.72\" style=\"stroke: #383838; stroke-width: 1.0;\"/><path d=\"M260.2928,204.3382 A9,9 0 0 0 277.2072 204.3382\" fill=\"none\" style=\"stroke: #383838; stroke-width: 1.5;\"/><text fill=\"#000000\" font-family=\"sans-serif\" font-size=\"13\" lengthAdjust=\"spacingAndGlyphs\" textLength=\"60\" x=\"243\" y=\"251.0669\">«variant»</text></a><!--MD5=[14ccda38c055a5c0da953d572bc50960]\n",
       "link E7 to E3--><a href=\"psysml:6aa04dcc-8d2e-4853-a2ca-5b94913b0044\" target=\"_top\" title=\"psysml:6aa04dcc-8d2e-4853-a2ca-5b94913b0044\" xlink:actuate=\"onRequest\" xlink:href=\"psysml:6aa04dcc-8d2e-4853-a2ca-5b94913b0044\" xlink:show=\"new\" xlink:title=\"psysml:6aa04dcc-8d2e-4853-a2ca-5b94913b0044\" xlink:type=\"simple\"><path d=\"M155,87.07 C155,87.07 155,134.96 155,134.96 \" fill=\"none\" id=\"E7-&gt;E3\" style=\"stroke: #383838; stroke-width: 1.0;\"/><polygon fill=\"#FFFFFF\" points=\"155,154.96,148,135.96,162,135.96,155,154.96\" style=\"stroke: #383838; stroke-width: 1.0;\"/><ellipse cx=\"150\" cy=\"130.26\" fill=\"#383838\" rx=\"2\" ry=\"2\" style=\"stroke: #383838; stroke-width: 1.0;\"/><ellipse cx=\"160\" cy=\"130.26\" fill=\"#383838\" rx=\"2\" ry=\"2\" style=\"stroke: #383838; stroke-width: 1.0;\"/></a><!--MD5=[f1f3f9f2fc535e6147756cb86a7f2e32]\n",
       "link E8 to E2--><a href=\"psysml:62998d3a-e41b-4231-af2c-a0f2b465e4e7\" target=\"_top\" title=\"psysml:62998d3a-e41b-4231-af2c-a0f2b465e4e7\" xlink:actuate=\"onRequest\" xlink:href=\"psysml:62998d3a-e41b-4231-af2c-a0f2b465e4e7\" xlink:show=\"new\" xlink:title=\"psysml:62998d3a-e41b-4231-af2c-a0f2b465e4e7\" xlink:type=\"simple\"><path d=\"M102.05,205 C127.81,205 158.33,205 158.33,205 C158.33,205 158.33,270.78 158.33,270.78 \" fill=\"none\" id=\"E8-&gt;E2\" style=\"stroke: #383838; stroke-width: 1.0;\"/><polygon fill=\"#FFFFFF\" points=\"158.33,290.78,151.33,271.78,165.33,271.78,158.33,290.78\" style=\"stroke: #383838; stroke-width: 1.0;\"/><ellipse cx=\"153.33\" cy=\"266.08\" fill=\"#383838\" rx=\"2\" ry=\"2\" style=\"stroke: #383838; stroke-width: 1.0;\"/><ellipse cx=\"163.33\" cy=\"266.08\" fill=\"#383838\" rx=\"2\" ry=\"2\" style=\"stroke: #383838; stroke-width: 1.0;\"/></a><!--MD5=[ed10624c06dd9a4fa49ccf290e8b16a8]\n",
       "link E8 to E9--><a href=\"psysml:196bced0-9581-41ba-9556-fc72f0b07990\" target=\"_top\" title=\"psysml:196bced0-9581-41ba-9556-fc72f0b07990\" xlink:actuate=\"onRequest\" xlink:href=\"psysml:196bced0-9581-41ba-9556-fc72f0b07990\" xlink:show=\"new\" xlink:title=\"psysml:196bced0-9581-41ba-9556-fc72f0b07990\" xlink:type=\"simple\"><path d=\"M67,218.19 C67,218.19 67,274.83 67,274.83 \" fill=\"none\" id=\"E8-E9\" style=\"stroke: #383838; stroke-width: 1.0;\"/><polygon fill=\"#383838\" points=\"67,284.83,70,276.83,64,276.83,67,284.83\" style=\"stroke: #383838; stroke-width: 1.0;\"/><path d=\"M58.5428,211.2682 A9,9 0 0 0 75.4572 211.2682\" fill=\"none\" style=\"stroke: #383838; stroke-width: 1.5;\"/><text fill=\"#000000\" font-family=\"sans-serif\" font-size=\"13\" lengthAdjust=\"spacingAndGlyphs\" textLength=\"60\" x=\"68\" y=\"251.0669\">«variant»</text></a><!--MD5=[fde387e89e60da240c25db555b78d851]\n",
       "@startuml\r\n",
       "skinparam linetype ortho\r\n",
       "skinparam monochrome true\r\n",
       "skinparam classbackgroundcolor white\r\n",
       "skinparam shadowing false\r\n",
       "skinparam wrapWidth 300\r\n",
       "hide circle\r\n",
       "\r\n",
       "package \"VariabilityTest\" as E1  [[psysml:fc405a6c-3061-4540-9673-8b8e766ba6ac ]]  {\r\n",
       "comp def \"P\" as E2  <<(T,blue)part def>> [[psysml:dc902210-e855-46b4-a2dd-8255fef19514 ]] {\r\n",
       "- - attributes - -\r\n",
       "a\r\n",
       "}\r\n",
       "comp def \"Q\" as E3  <<(T,blue)part def>> [[psysml:b52c8837-30af-42aa-bc51-100eaed5de80 ]] {\r\n",
       "}\r\n",
       "comp def \"B\" as E4  <<(T,blue)attribute def>> [[psysml:f17815b8-46c4-4dd9-bf70-524ba6c03f24 ]] {\r\n",
       "}\r\n",
       "comp def \"V\" as E5  <<(T,blue)part def>> [[psysml:b1ebe526-c40e-4c8f-ae74-16f7fcd1bdc9 ]] {\r\n",
       "}\r\n",
       "comp usage \"x: Q\" as E6  <<(T,blue)part>> [[psysml:05419eac-6c2b-46e9-bd3b-b31f448a077a ]] {\r\n",
       "- - attributes - -\r\n",
       "b: B\\n//:>>P::a// \r\n",
       "}\r\n",
       "comp usage \"q: Q\" as E7  <<(T,blue)part>> [[psysml:bd66bfa4-4cf8-4e62-98d6-c8549fcb8467 ]] {\r\n",
       "}\r\n",
       "comp usage \"v: P\" as E8  <<variation>>\\n <<(T,blue)part>> [[psysml:d11ba367-2498-4d3b-bf9a-6df5f0bc7068 ]] {\r\n",
       "}\r\n",
       "comp usage \"y\" as E9  <<(T,blue)part>> [[psysml:72597939-8390-466d-9479-39928477d122 ]] {\r\n",
       "- - attributes - -\r\n",
       "b: B\\n//:>>P::a// \r\n",
       "}\r\n",
       "E3 - -|> E2 [[psysml:0057605f-0b36-40b5-a833-d8040f0d9e74 ]] \r\n",
       "E5 - -|> E2 [[psysml:922ee1f9-edf0-4204-bf0f-0435eb6f66de ]] \r\n",
       "E5 )- ->> E6 [[psysml:1c0ef759-8c31-4a4a-b0e7-e872c2806a04 ]] : <<variant>>\r\n",
       "E7 - -:|> E3 [[psysml:6aa04dcc-8d2e-4853-a2ca-5b94913b0044 ]] \r\n",
       "E8 - -:|> E2 [[psysml:62998d3a-e41b-4231-af2c-a0f2b465e4e7 ]] \r\n",
       "E8 )- ->> E9 [[psysml:196bced0-9581-41ba-9556-fc72f0b07990 ]] : <<variant>>\r\n",
       "}\r\n",
       "@enduml\r\n",
       "\n",
       "PlantUML version 1.2020.13(Sat Jun 13 12:26:38 UTC 2020)\n",
       "(EPL source distribution)\n",
       "Java Runtime: OpenJDK Runtime Environment\n",
       "JVM: OpenJDK 64-Bit Server VM\n",
       "Default Encoding: UTF-8\n",
       "Language: en\n",
       "Country: null\n",
       "--></g></svg>"
      ]
     },
     "execution_count": 57,
     "metadata": {},
     "output_type": "execute_result"
    }
   ],
   "source": [
    "%viz --style=\"ORTHOLINE\" --view=\"MIXED\" \"VariabilityTest\""
   ]
  }
 ],
 "metadata": {
  "kernelspec": {
   "display_name": "SysML",
   "language": "sysml",
   "name": "sysml"
  },
  "language_info": {
   "codemirror_mode": "sysml",
   "file_extension": ".sysml",
   "mimetype": "text/x-sysml",
   "name": "SysML",
   "pygments_lexer": "java",
   "version": "1.0.0"
  }
 },
 "nbformat": 4,
 "nbformat_minor": 5
}
