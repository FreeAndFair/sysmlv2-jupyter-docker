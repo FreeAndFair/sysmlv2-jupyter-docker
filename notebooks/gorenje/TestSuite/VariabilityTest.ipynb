{
 "cells": [
  {
   "cell_type": "markdown",
   "id": "7453a103",
   "metadata": {},
   "source": [
    "# SysML v2 Test Suite\n",
    "\n",
    "This can notebook can be cleared using menu `Edit --> Clear All Outputs` and then all cells can be\n",
    "run using menu `Run --> Run All Cells`.\n",
    "\n",
    "**WARNING**: This file is generated, all modifications here will be ignored.\n"
   ]
  },
  {
   "cell_type": "markdown",
   "id": "922c6914",
   "metadata": {},
   "source": [
    "## File: ../../sysml/src/examples/Simple Tests/VariabilityTest.sysml"
   ]
  },
  {
   "cell_type": "code",
   "execution_count": 1,
   "id": "57a2e3ce",
   "metadata": {
    "execution": {
     "iopub.execute_input": "2021-05-28T10:47:52.422127Z",
     "iopub.status.busy": "2021-05-28T10:47:52.421491Z",
     "iopub.status.idle": "2021-05-28T10:47:52.715085Z",
     "shell.execute_reply": "2021-05-28T10:47:52.714613Z"
    }
   },
   "outputs": [
    {
     "data": {
      "text/plain": [
       "Package VariabilityTest (a0e53c1f-5dae-4cc6-b7db-db591670b498)\n"
      ]
     },
     "execution_count": 1,
     "metadata": {},
     "output_type": "execute_result"
    }
   ],
   "source": [
    "package VariabilityTest {\n",
    "\tpart def P {\n",
    "\t\tattribute a;\n",
    "\t}\n",
    "\t\n",
    "\tpart def Q :> P;\n",
    "\tattribute def B;\n",
    "\tvariation part def V :> P {\n",
    "\t\tvariant part x : Q {\n",
    "\t\t\tattribute b : B :>> a;\n",
    "\t\t}\n",
    "\t}\n",
    "\t\n",
    "\tpart q : Q;\n",
    "\tvariation part v : P {\n",
    "\t\tvariant q {\n",
    "\t\t\tattribute b : B :>> a;\n",
    "\t\t}\n",
    "\t}\n",
    "\t\n",
    "\tpart y : P = v::q;\n",
    "}"
   ]
  },
  {
   "cell_type": "code",
   "execution_count": 2,
   "id": "b758c221",
   "metadata": {
    "execution": {
     "iopub.execute_input": "2021-05-28T10:47:52.766148Z",
     "iopub.status.busy": "2021-05-28T10:47:52.765765Z",
     "iopub.status.idle": "2021-05-28T10:47:53.516004Z",
     "shell.execute_reply": "2021-05-28T10:47:53.516346Z"
    }
   },
   "outputs": [
    {
     "data": {
      "image/svg+xml": [
       "<?xml version=\"1.0\" encoding=\"UTF-8\" standalone=\"no\"?><svg xmlns=\"http://www.w3.org/2000/svg\" xmlns:xlink=\"http://www.w3.org/1999/xlink\" contentScriptType=\"application/ecmascript\" contentStyleType=\"text/css\" height=\"401px\" preserveAspectRatio=\"none\" style=\"width:419px;height:401px;\" version=\"1.1\" viewBox=\"0 0 419 401\" width=\"419px\" zoomAndPan=\"magnify\"><defs/><g><!--MD5=[fbc87193dbaf4d95561dea2c320d4a47]\n",
       "cluster E1--><a href=\"psysml:c9192910-aa77-45a9-9ae3-16f7deb9d13d\" target=\"_top\" title=\"psysml:c9192910-aa77-45a9-9ae3-16f7deb9d13d\" xlink:actuate=\"onRequest\" xlink:href=\"psysml:c9192910-aa77-45a9-9ae3-16f7deb9d13d\" xlink:show=\"new\" xlink:title=\"psysml:c9192910-aa77-45a9-9ae3-16f7deb9d13d\" xlink:type=\"simple\"><polygon fill=\"#FFFFFF\" points=\"16,6,134,6,141,28.2969,397,28.2969,397,389,16,389,16,6\" style=\"stroke: #000000; stroke-width: 1.5;\"/><line style=\"stroke: #000000; stroke-width: 1.5;\" x1=\"16\" x2=\"141\" y1=\"28.2969\" y2=\"28.2969\"/><text fill=\"#000000\" font-family=\"sans-serif\" font-size=\"14\" font-weight=\"bold\" lengthAdjust=\"spacingAndGlyphs\" textLength=\"112\" x=\"20\" y=\"20.9951\">VariabilityTest</text></a><!--MD5=[b4997ac47864f28c2f74865a473b2911]\n",
       "class E2--><a href=\"psysml:28b4b804-815b-4815-9c5e-e5b09d6ccef7\" target=\"_top\" title=\"psysml:28b4b804-815b-4815-9c5e-e5b09d6ccef7\" xlink:actuate=\"onRequest\" xlink:href=\"psysml:28b4b804-815b-4815-9c5e-e5b09d6ccef7\" xlink:show=\"new\" xlink:title=\"psysml:28b4b804-815b-4815-9c5e-e5b09d6ccef7\" xlink:type=\"simple\"><rect fill=\"#FFFFFF\" height=\"75.5469\" id=\"E2\" style=\"stroke: #383838; stroke-width: 1.5;\" width=\"66\" x=\"166\" y=\"291\"/><text fill=\"#000000\" font-family=\"sans-serif\" font-size=\"12\" font-style=\"italic\" lengthAdjust=\"spacingAndGlyphs\" textLength=\"64\" x=\"167\" y=\"307.1387\">«part def»</text><text fill=\"#000000\" font-family=\"sans-serif\" font-size=\"12\" lengthAdjust=\"spacingAndGlyphs\" textLength=\"8\" x=\"195\" y=\"321.1074\">P</text><line style=\"stroke: #383838; stroke-width: 1.5;\" x1=\"167\" x2=\"231\" y1=\"328.9375\" y2=\"328.9375\"/><text fill=\"#000000\" font-family=\"sans-serif\" font-size=\"11\" lengthAdjust=\"spacingAndGlyphs\" textLength=\"7\" x=\"172\" y=\"359.9526\">a</text><line style=\"stroke: #383838; stroke-width: 1.0;\" x1=\"167\" x2=\"171.5\" y1=\"343.3398\" y2=\"343.3398\"/><text fill=\"#000000\" font-family=\"sans-serif\" font-size=\"11\" lengthAdjust=\"spacingAndGlyphs\" textLength=\"55\" x=\"171.5\" y=\"346.6479\">attributes</text><line style=\"stroke: #383838; stroke-width: 1.0;\" x1=\"226.5\" x2=\"231\" y1=\"343.3398\" y2=\"343.3398\"/></a><!--MD5=[09b614a08d8cba4a07c9adeb5e0fee81]\n",
       "class E3--><a href=\"psysml:3556ece0-f840-441c-8cd2-5d7027a1a805\" target=\"_top\" title=\"psysml:3556ece0-f840-441c-8cd2-5d7027a1a805\" xlink:actuate=\"onRequest\" xlink:href=\"psysml:3556ece0-f840-441c-8cd2-5d7027a1a805\" xlink:show=\"new\" xlink:title=\"psysml:3556ece0-f840-441c-8cd2-5d7027a1a805\" xlink:type=\"simple\"><rect fill=\"#FFFFFF\" height=\"45.9375\" id=\"E3\" style=\"stroke: #383838; stroke-width: 1.5;\" width=\"66\" x=\"137\" y=\"155\"/><text fill=\"#000000\" font-family=\"sans-serif\" font-size=\"12\" font-style=\"italic\" lengthAdjust=\"spacingAndGlyphs\" textLength=\"64\" x=\"138\" y=\"171.1387\">«part def»</text><text fill=\"#000000\" font-family=\"sans-serif\" font-size=\"12\" lengthAdjust=\"spacingAndGlyphs\" textLength=\"9\" x=\"165.5\" y=\"185.1074\">Q</text><line style=\"stroke: #383838; stroke-width: 1.5;\" x1=\"138\" x2=\"202\" y1=\"192.9375\" y2=\"192.9375\"/></a><!--MD5=[ebbe1d658d1005bcc118a6aa81145e00]\n",
       "class E4--><a href=\"psysml:c1ea47d2-f15e-4f05-bf93-ec81669ca641\" target=\"_top\" title=\"psysml:c1ea47d2-f15e-4f05-bf93-ec81669ca641\" xlink:actuate=\"onRequest\" xlink:href=\"psysml:c1ea47d2-f15e-4f05-bf93-ec81669ca641\" xlink:show=\"new\" xlink:title=\"psysml:c1ea47d2-f15e-4f05-bf93-ec81669ca641\" xlink:type=\"simple\"><rect fill=\"#FFFFFF\" height=\"45.9375\" id=\"E4\" style=\"stroke: #383838; stroke-width: 1.5;\" width=\"95\" x=\"255.5\" y=\"41\"/><text fill=\"#000000\" font-family=\"sans-serif\" font-size=\"12\" font-style=\"italic\" lengthAdjust=\"spacingAndGlyphs\" textLength=\"93\" x=\"256.5\" y=\"57.1387\">«attribute def»</text><text fill=\"#000000\" font-family=\"sans-serif\" font-size=\"12\" lengthAdjust=\"spacingAndGlyphs\" textLength=\"8\" x=\"299\" y=\"71.1074\">B</text><line style=\"stroke: #383838; stroke-width: 1.5;\" x1=\"256.5\" x2=\"349.5\" y1=\"78.9375\" y2=\"78.9375\"/></a><!--MD5=[270fce915f116d4de14055a7c1d9a0f3]\n",
       "class E5--><a href=\"psysml:735cd89a-e4b2-4dc5-b3d6-41534f400f39\" target=\"_top\" title=\"psysml:735cd89a-e4b2-4dc5-b3d6-41534f400f39\" xlink:actuate=\"onRequest\" xlink:href=\"psysml:735cd89a-e4b2-4dc5-b3d6-41534f400f39\" xlink:show=\"new\" xlink:title=\"psysml:735cd89a-e4b2-4dc5-b3d6-41534f400f39\" xlink:type=\"simple\"><rect fill=\"#FFFFFF\" height=\"45.9375\" id=\"E5\" style=\"stroke: #383838; stroke-width: 1.5;\" width=\"66\" x=\"315\" y=\"155\"/><text fill=\"#000000\" font-family=\"sans-serif\" font-size=\"12\" font-style=\"italic\" lengthAdjust=\"spacingAndGlyphs\" textLength=\"64\" x=\"316\" y=\"171.1387\">«part def»</text><text fill=\"#000000\" font-family=\"sans-serif\" font-size=\"12\" lengthAdjust=\"spacingAndGlyphs\" textLength=\"8\" x=\"344\" y=\"185.1074\">V</text><line style=\"stroke: #383838; stroke-width: 1.5;\" x1=\"316\" x2=\"380\" y1=\"192.9375\" y2=\"192.9375\"/></a><!--MD5=[60a26617385b1d2d0262a64233df1f8d]\n",
       "class E6--><a href=\"psysml:0400016e-70f0-4405-a71c-97e49bd60e65\" target=\"_top\" title=\"psysml:0400016e-70f0-4405-a71c-97e49bd60e65\" xlink:actuate=\"onRequest\" xlink:href=\"psysml:0400016e-70f0-4405-a71c-97e49bd60e65\" xlink:show=\"new\" xlink:title=\"psysml:0400016e-70f0-4405-a71c-97e49bd60e65\" xlink:type=\"simple\"><rect fill=\"#FFFFFF\" height=\"88.3516\" id=\"E6\" rx=\"10\" ry=\"10\" style=\"stroke: #383838; stroke-width: 1.5;\" width=\"63\" x=\"287.5\" y=\"285\"/><text fill=\"#000000\" font-family=\"sans-serif\" font-size=\"12\" font-style=\"italic\" lengthAdjust=\"spacingAndGlyphs\" textLength=\"40\" x=\"299\" y=\"301.1387\">«part»</text><text fill=\"#000000\" font-family=\"sans-serif\" font-size=\"12\" lengthAdjust=\"spacingAndGlyphs\" textLength=\"23\" x=\"307.5\" y=\"315.1074\">x: Q</text><line style=\"stroke: #383838; stroke-width: 1.5;\" x1=\"288.5\" x2=\"349.5\" y1=\"322.9375\" y2=\"322.9375\"/><text fill=\"#000000\" font-family=\"sans-serif\" font-size=\"11\" lengthAdjust=\"spacingAndGlyphs\" textLength=\"23\" x=\"293.5\" y=\"353.9526\">b: B</text><text fill=\"#000000\" font-family=\"sans-serif\" font-size=\"11\" font-style=\"italic\" lengthAdjust=\"spacingAndGlyphs\" textLength=\"44\" x=\"293.5\" y=\"366.7573\">:&gt;&gt;P::a</text><line style=\"stroke: #383838; stroke-width: 1.0;\" x1=\"288.5\" x2=\"291.5\" y1=\"337.3398\" y2=\"337.3398\"/><text fill=\"#000000\" font-family=\"sans-serif\" font-size=\"11\" lengthAdjust=\"spacingAndGlyphs\" textLength=\"55\" x=\"291.5\" y=\"340.6479\">attributes</text><line style=\"stroke: #383838; stroke-width: 1.0;\" x1=\"346.5\" x2=\"349.5\" y1=\"337.3398\" y2=\"337.3398\"/></a><!--MD5=[2156ba9850f5573cc1fc38a6a4b2f02b]\n",
       "class E7--><a href=\"psysml:ac43cc4c-8177-486e-b5a5-e877f62f9bc5\" target=\"_top\" title=\"psysml:ac43cc4c-8177-486e-b5a5-e877f62f9bc5\" xlink:actuate=\"onRequest\" xlink:href=\"psysml:ac43cc4c-8177-486e-b5a5-e877f62f9bc5\" xlink:show=\"new\" xlink:title=\"psysml:ac43cc4c-8177-486e-b5a5-e877f62f9bc5\" xlink:type=\"simple\"><rect fill=\"#FFFFFF\" height=\"45.9375\" id=\"E7\" rx=\"10\" ry=\"10\" style=\"stroke: #383838; stroke-width: 1.5;\" width=\"42\" x=\"149\" y=\"41\"/><text fill=\"#000000\" font-family=\"sans-serif\" font-size=\"12\" font-style=\"italic\" lengthAdjust=\"spacingAndGlyphs\" textLength=\"40\" x=\"150\" y=\"57.1387\">«part»</text><text fill=\"#000000\" font-family=\"sans-serif\" font-size=\"12\" lengthAdjust=\"spacingAndGlyphs\" textLength=\"25\" x=\"157.5\" y=\"71.1074\">q: Q</text><line style=\"stroke: #383838; stroke-width: 1.5;\" x1=\"150\" x2=\"190\" y1=\"78.9375\" y2=\"78.9375\"/></a><!--MD5=[b9389687b975829384b498ac4b7476b2]\n",
       "class E8--><a href=\"psysml:ce952eae-8bb1-4ad0-9f02-4c42d4c1d0c7\" target=\"_top\" title=\"psysml:ce952eae-8bb1-4ad0-9f02-4c42d4c1d0c7\" xlink:actuate=\"onRequest\" xlink:href=\"psysml:ce952eae-8bb1-4ad0-9f02-4c42d4c1d0c7\" xlink:show=\"new\" xlink:title=\"psysml:ce952eae-8bb1-4ad0-9f02-4c42d4c1d0c7\" xlink:type=\"simple\"><rect fill=\"#FFFFFF\" height=\"59.9063\" id=\"E8\" rx=\"10\" ry=\"10\" style=\"stroke: #383838; stroke-width: 1.5;\" width=\"70\" x=\"32\" y=\"148\"/><text fill=\"#000000\" font-family=\"sans-serif\" font-size=\"12\" font-style=\"italic\" lengthAdjust=\"spacingAndGlyphs\" textLength=\"68\" x=\"33\" y=\"164.1387\">«variation»</text><text fill=\"#000000\" font-family=\"sans-serif\" font-size=\"12\" font-style=\"italic\" lengthAdjust=\"spacingAndGlyphs\" textLength=\"40\" x=\"47\" y=\"178.1074\">«part»</text><text fill=\"#000000\" font-family=\"sans-serif\" font-size=\"12\" lengthAdjust=\"spacingAndGlyphs\" textLength=\"22\" x=\"56\" y=\"192.0762\">v: P</text><line style=\"stroke: #383838; stroke-width: 1.5;\" x1=\"33\" x2=\"101\" y1=\"199.9063\" y2=\"199.9063\"/></a><!--MD5=[fd4143e9d270a159db93a4ea2a975926]\n",
       "class E9--><a href=\"psysml:572dfe4e-6d7c-4ba8-94a3-d7ce0272bed9\" target=\"_top\" title=\"psysml:572dfe4e-6d7c-4ba8-94a3-d7ce0272bed9\" xlink:actuate=\"onRequest\" xlink:href=\"psysml:572dfe4e-6d7c-4ba8-94a3-d7ce0272bed9\" xlink:show=\"new\" xlink:title=\"psysml:572dfe4e-6d7c-4ba8-94a3-d7ce0272bed9\" xlink:type=\"simple\"><rect fill=\"#FFFFFF\" height=\"88.3516\" id=\"E9\" rx=\"10\" ry=\"10\" style=\"stroke: #383838; stroke-width: 1.5;\" width=\"77\" x=\"32.5\" y=\"285\"/><text fill=\"#000000\" font-family=\"sans-serif\" font-size=\"12\" font-style=\"italic\" lengthAdjust=\"spacingAndGlyphs\" textLength=\"75\" x=\"33.5\" y=\"301.1387\">«reference»</text><text fill=\"#000000\" font-family=\"sans-serif\" font-size=\"12\" lengthAdjust=\"spacingAndGlyphs\" textLength=\"8\" x=\"67\" y=\"315.1074\">q</text><line style=\"stroke: #383838; stroke-width: 1.5;\" x1=\"33.5\" x2=\"108.5\" y1=\"322.9375\" y2=\"322.9375\"/><text fill=\"#000000\" font-family=\"sans-serif\" font-size=\"11\" lengthAdjust=\"spacingAndGlyphs\" textLength=\"23\" x=\"38.5\" y=\"353.9526\">b: B</text><text fill=\"#000000\" font-family=\"sans-serif\" font-size=\"11\" font-style=\"italic\" lengthAdjust=\"spacingAndGlyphs\" textLength=\"44\" x=\"38.5\" y=\"366.7573\">:&gt;&gt;P::a</text><line style=\"stroke: #383838; stroke-width: 1.0;\" x1=\"33.5\" x2=\"43.5\" y1=\"337.3398\" y2=\"337.3398\"/><text fill=\"#000000\" font-family=\"sans-serif\" font-size=\"11\" lengthAdjust=\"spacingAndGlyphs\" textLength=\"55\" x=\"43.5\" y=\"340.6479\">attributes</text><line style=\"stroke: #383838; stroke-width: 1.0;\" x1=\"98.5\" x2=\"108.5\" y1=\"337.3398\" y2=\"337.3398\"/></a><!--MD5=[96f4274e9e20536e775497830990834d]\n",
       "class E10--><a href=\"psysml:983a8093-9810-4637-96cc-9ee8fb3d9cf5\" target=\"_top\" title=\"psysml:983a8093-9810-4637-96cc-9ee8fb3d9cf5\" xlink:actuate=\"onRequest\" xlink:href=\"psysml:983a8093-9810-4637-96cc-9ee8fb3d9cf5\" xlink:show=\"new\" xlink:title=\"psysml:983a8093-9810-4637-96cc-9ee8fb3d9cf5\" xlink:type=\"simple\"><rect fill=\"#FFFFFF\" height=\"45.9375\" id=\"E10\" rx=\"10\" ry=\"10\" style=\"stroke: #383838; stroke-width: 1.5;\" width=\"42\" x=\"238\" y=\"155\"/><text fill=\"#000000\" font-family=\"sans-serif\" font-size=\"12\" font-style=\"italic\" lengthAdjust=\"spacingAndGlyphs\" textLength=\"40\" x=\"239\" y=\"171.1387\">«part»</text><text fill=\"#000000\" font-family=\"sans-serif\" font-size=\"12\" lengthAdjust=\"spacingAndGlyphs\" textLength=\"22\" x=\"248\" y=\"185.1074\">y: P</text><line style=\"stroke: #383838; stroke-width: 1.5;\" x1=\"239\" x2=\"279\" y1=\"192.9375\" y2=\"192.9375\"/></a><!--MD5=[05d275557350bfb9b23a4ef7222b4c39]\n",
       "link E3 to E2--><a href=\"psysml:9e57242c-9184-4252-9565-bec20c63fdb8\" target=\"_top\" title=\"psysml:9e57242c-9184-4252-9565-bec20c63fdb8\" xlink:actuate=\"onRequest\" xlink:href=\"psysml:9e57242c-9184-4252-9565-bec20c63fdb8\" xlink:show=\"new\" xlink:title=\"psysml:9e57242c-9184-4252-9565-bec20c63fdb8\" xlink:type=\"simple\"><path d=\"M174.34,201.31 C177.92,219.67 183.15,246.54 187.87,270.81 \" fill=\"none\" id=\"E3-&gt;E2\" style=\"stroke: #383838; stroke-width: 1.0;\"/><polygon fill=\"none\" points=\"194.8,269.8,191.75,290.77,181.06,272.47,194.8,269.8\" style=\"stroke: #383838; stroke-width: 1.0;\"/></a><!--MD5=[15ebcb19ae302d9b601edb458606d402]\n",
       "link E5 to E2--><a href=\"psysml:5cdbdbe7-d14c-45c9-a804-61f18115238e\" target=\"_top\" title=\"psysml:5cdbdbe7-d14c-45c9-a804-61f18115238e\" xlink:actuate=\"onRequest\" xlink:href=\"psysml:5cdbdbe7-d14c-45c9-a804-61f18115238e\" xlink:show=\"new\" xlink:title=\"psysml:5cdbdbe7-d14c-45c9-a804-61f18115238e\" xlink:type=\"simple\"><path d=\"M325.69,201.31 C304.9,222.1 273.2,253.8 246.71,280.29 \" fill=\"none\" id=\"E5-&gt;E2\" style=\"stroke: #383838; stroke-width: 1.0;\"/><polygon fill=\"none\" points=\"251.33,285.57,232.24,294.76,241.43,275.67,251.33,285.57\" style=\"stroke: #383838; stroke-width: 1.0;\"/></a><!--MD5=[9120cf2e5df3bff93db8f754bbbc09b4]\n",
       "link E5 to E6--><a href=\"psysml:052c6ce9-d9db-4da6-90c4-ac16555550ac\" target=\"_top\" title=\"psysml:052c6ce9-d9db-4da6-90c4-ac16555550ac\" xlink:actuate=\"onRequest\" xlink:href=\"psysml:052c6ce9-d9db-4da6-90c4-ac16555550ac\" xlink:show=\"new\" xlink:title=\"psysml:052c6ce9-d9db-4da6-90c4-ac16555550ac\" xlink:type=\"simple\"><path d=\"M341.72,211.26 C338.1,229.85 333.47,253.68 329.32,274.95 \" fill=\"none\" id=\"E5-E6\" style=\"stroke: #383838; stroke-width: 1.0;\"/><polygon fill=\"#383838\" points=\"327.4,284.84,331.8761,277.5623,325.987,276.4136,327.4,284.84\" style=\"stroke: #383838; stroke-width: 1.0;\"/><path d=\"M334.7699,202.7122 A9,9 0 0 0 351.3715 205.9503\" fill=\"none\" style=\"stroke: #383838; stroke-width: 1.5;\"/><text fill=\"#000000\" font-family=\"sans-serif\" font-size=\"13\" lengthAdjust=\"spacingAndGlyphs\" textLength=\"60\" x=\"337\" y=\"251.0669\">«variant»</text></a><!--MD5=[14ccda38c055a5c0da953d572bc50960]\n",
       "link E7 to E3--><a href=\"psysml:648145d1-1ec9-42fc-8307-fa8910350658\" target=\"_top\" title=\"psysml:648145d1-1ec9-42fc-8307-fa8910350658\" xlink:actuate=\"onRequest\" xlink:href=\"psysml:648145d1-1ec9-42fc-8307-fa8910350658\" xlink:show=\"new\" xlink:title=\"psysml:648145d1-1ec9-42fc-8307-fa8910350658\" xlink:type=\"simple\"><path d=\"M170,87.13 C170,100.7 170,118.53 170,134.73 \" fill=\"none\" id=\"E7-&gt;E3\" style=\"stroke: #383838; stroke-width: 1.0;\"/><polygon fill=\"#FFFFFF\" points=\"170,154.92,163,135.92,177,135.92,170,154.92\" style=\"stroke: #383838; stroke-width: 1.0;\"/><ellipse cx=\"165\" cy=\"130.22\" fill=\"#383838\" rx=\"2\" ry=\"2\" style=\"stroke: #383838; stroke-width: 1.0;\"/><ellipse cx=\"175\" cy=\"130.22\" fill=\"#383838\" rx=\"2\" ry=\"2\" style=\"stroke: #383838; stroke-width: 1.0;\"/></a><!--MD5=[f1f3f9f2fc535e6147756cb86a7f2e32]\n",
       "link E8 to E2--><a href=\"psysml:19cda0c9-2775-4d9d-8cd8-191c5ad52b34\" target=\"_top\" title=\"psysml:19cda0c9-2775-4d9d-8cd8-191c5ad52b34\" xlink:actuate=\"onRequest\" xlink:href=\"psysml:19cda0c9-2775-4d9d-8cd8-191c5ad52b34\" xlink:show=\"new\" xlink:title=\"psysml:19cda0c9-2775-4d9d-8cd8-191c5ad52b34\" xlink:type=\"simple\"><path d=\"M102.17,204.39 C114.52,214.17 128.04,225.9 139,238 C148.86,248.88 158.29,261.5 166.63,273.79 \" fill=\"none\" id=\"E8-&gt;E2\" style=\"stroke: #383838; stroke-width: 1.0;\"/><polygon fill=\"#FFFFFF\" points=\"177.64,290.73,161.4168,278.6135,173.1555,270.9844,177.64,290.73\" style=\"stroke: #383838; stroke-width: 1.0;\"/><ellipse cx=\"159.9876\" cy=\"272.7443\" fill=\"#383838\" rx=\"2\" ry=\"2\" style=\"stroke: #383838; stroke-width: 1.0;\"/><ellipse cx=\"168.3724\" cy=\"267.2949\" fill=\"#383838\" rx=\"2\" ry=\"2\" style=\"stroke: #383838; stroke-width: 1.0;\"/></a><!--MD5=[ed10624c06dd9a4fa49ccf290e8b16a8]\n",
       "link E8 to E9--><a href=\"psysml:28d39c7a-e0c7-42b0-858e-2cb4e488f108\" target=\"_top\" title=\"psysml:28d39c7a-e0c7-42b0-858e-2cb4e488f108\" xlink:actuate=\"onRequest\" xlink:href=\"psysml:28d39c7a-e0c7-42b0-858e-2cb4e488f108\" xlink:show=\"new\" xlink:title=\"psysml:28d39c7a-e0c7-42b0-858e-2cb4e488f108\" xlink:type=\"simple\"><path d=\"M68.06,218.32 C68.52,235.6 69.07,256.15 69.57,274.77 \" fill=\"none\" id=\"E8-E9\" style=\"stroke: #383838; stroke-width: 1.0;\"/><polygon fill=\"#383838\" points=\"69.84,284.88,72.6331,276.8054,66.6351,276.9599,69.84,284.88\" style=\"stroke: #383838; stroke-width: 1.0;\"/><path d=\"M59.4094,211.3865 A9,9 0 0 0 76.3176 210.9276\" fill=\"none\" style=\"stroke: #383838; stroke-width: 1.5;\"/><text fill=\"#000000\" font-family=\"sans-serif\" font-size=\"13\" lengthAdjust=\"spacingAndGlyphs\" textLength=\"60\" x=\"70\" y=\"251.0669\">«variant»</text></a><!--MD5=[0f36bececdf0dff6e600d6f64214b0f1]\n",
       "link E10 to E2--><a href=\"psysml:8cfcd01d-a74f-43be-a680-d41b6ee6accc\" target=\"_top\" title=\"psysml:8cfcd01d-a74f-43be-a680-d41b6ee6accc\" xlink:actuate=\"onRequest\" xlink:href=\"psysml:8cfcd01d-a74f-43be-a680-d41b6ee6accc\" xlink:show=\"new\" xlink:title=\"psysml:8cfcd01d-a74f-43be-a680-d41b6ee6accc\" xlink:type=\"simple\"><path d=\"M250.02,201.31 C242.51,219.95 231.48,247.35 221.59,271.91 \" fill=\"none\" id=\"E10-&gt;E2\" style=\"stroke: #383838; stroke-width: 1.0;\"/><polygon fill=\"#FFFFFF\" points=\"213.99,290.77,214.5927,270.5305,227.5796,275.7593,213.99,290.77\" style=\"stroke: #383838; stroke-width: 1.0;\"/><ellipse cx=\"218.5768\" cy=\"265.9899\" fill=\"#383838\" rx=\"2\" ry=\"2\" style=\"stroke: #383838; stroke-width: 1.0;\"/><ellipse cx=\"227.8532\" cy=\"269.7248\" fill=\"#383838\" rx=\"2\" ry=\"2\" style=\"stroke: #383838; stroke-width: 1.0;\"/></a><!--MD5=[924dbd7dfcf3683bf4db00389314ea67]\n",
       "@startuml\r\n",
       " skinparam monochrome true\r\n",
       "skinparam classbackgroundcolor white\r\n",
       "skinparam shadowing false\r\n",
       "skinparam wrapWidth 300\r\n",
       "hide circle\r\n",
       "\r\n",
       "package \"VariabilityTest\" as E1  [[psysml:c9192910-aa77-45a9-9ae3-16f7deb9d13d ]]  {\r\n",
       "comp def \"P\" as E2  <<(T,blue)part def>> [[psysml:28b4b804-815b-4815-9c5e-e5b09d6ccef7 ]] {\r\n",
       "- - attributes - -\r\n",
       "a\r\n",
       "}\r\n",
       "comp def \"Q\" as E3  <<(T,blue)part def>> [[psysml:3556ece0-f840-441c-8cd2-5d7027a1a805 ]] {\r\n",
       "}\r\n",
       "comp def \"B\" as E4  <<(T,blue)attribute def>> [[psysml:c1ea47d2-f15e-4f05-bf93-ec81669ca641 ]] {\r\n",
       "}\r\n",
       "comp def \"V\" as E5  <<(T,blue)part def>> [[psysml:735cd89a-e4b2-4dc5-b3d6-41534f400f39 ]] {\r\n",
       "}\r\n",
       "comp usage \"x: Q\" as E6  <<(T,blue)part>> [[psysml:0400016e-70f0-4405-a71c-97e49bd60e65 ]] {\r\n",
       "- - attributes - -\r\n",
       "b: B\\n//:>>P::a// \r\n",
       "}\r\n",
       "comp usage \"q: Q\" as E7  <<(T,blue)part>> [[psysml:ac43cc4c-8177-486e-b5a5-e877f62f9bc5 ]] {\r\n",
       "}\r\n",
       "comp usage \"v: P\" as E8  <<variation>>\\n <<(T,blue)part>> [[psysml:ce952eae-8bb1-4ad0-9f02-4c42d4c1d0c7 ]] {\r\n",
       "}\r\n",
       "comp usage \"q\" as E9  <<(T,blue)reference>> [[psysml:572dfe4e-6d7c-4ba8-94a3-d7ce0272bed9 ]] {\r\n",
       "- - attributes - -\r\n",
       "b: B\\n//:>>P::a// \r\n",
       "}\r\n",
       "comp usage \"y: P\" as E10  <<(T,blue)part>> [[psysml:983a8093-9810-4637-96cc-9ee8fb3d9cf5 ]] {\r\n",
       "}\r\n",
       "E3 - -|> E2 [[psysml:9e57242c-9184-4252-9565-bec20c63fdb8 ]] \r\n",
       "E5 - -|> E2 [[psysml:5cdbdbe7-d14c-45c9-a804-61f18115238e ]] \r\n",
       "E5 )- ->> E6 [[psysml:052c6ce9-d9db-4da6-90c4-ac16555550ac ]] : <<variant>>\r\n",
       "E7 - -:|> E3 [[psysml:648145d1-1ec9-42fc-8307-fa8910350658 ]] \r\n",
       "E8 - -:|> E2 [[psysml:19cda0c9-2775-4d9d-8cd8-191c5ad52b34 ]] \r\n",
       "E8 )- ->> E9 [[psysml:28d39c7a-e0c7-42b0-858e-2cb4e488f108 ]] : <<variant>>\r\n",
       "E10 - -:|> E2 [[psysml:8cfcd01d-a74f-43be-a680-d41b6ee6accc ]] \r\n",
       "}\r\n",
       "@enduml\r\n",
       "\n",
       "PlantUML version 1.2020.13(Sat Jun 13 12:26:38 UTC 2020)\n",
       "(EPL source distribution)\n",
       "Java Runtime: OpenJDK Runtime Environment\n",
       "JVM: OpenJDK 64-Bit Server VM\n",
       "Default Encoding: UTF-8\n",
       "Language: en\n",
       "Country: null\n",
       "--></g></svg>"
      ]
     },
     "execution_count": 2,
     "metadata": {},
     "output_type": "execute_result"
    }
   ],
   "source": [
    "%viz --style=\"COMPTREE\" --view=\"Default\" \"VariabilityTest\""
   ]
  },
  {
   "cell_type": "code",
   "execution_count": 3,
   "id": "0b607ea6",
   "metadata": {
    "execution": {
     "iopub.execute_input": "2021-05-28T10:47:53.567604Z",
     "iopub.status.busy": "2021-05-28T10:47:53.566592Z",
     "iopub.status.idle": "2021-05-28T10:47:53.728529Z",
     "shell.execute_reply": "2021-05-28T10:47:53.728146Z"
    }
   },
   "outputs": [
    {
     "data": {
      "image/svg+xml": [
       "<?xml version=\"1.0\" encoding=\"UTF-8\" standalone=\"no\"?><svg xmlns=\"http://www.w3.org/2000/svg\" xmlns:xlink=\"http://www.w3.org/1999/xlink\" contentScriptType=\"application/ecmascript\" contentStyleType=\"text/css\" height=\"401px\" preserveAspectRatio=\"none\" style=\"width:419px;height:401px;\" version=\"1.1\" viewBox=\"0 0 419 401\" width=\"419px\" zoomAndPan=\"magnify\"><defs/><g><!--MD5=[fbc87193dbaf4d95561dea2c320d4a47]\n",
       "cluster E1--><a href=\"psysml:c9192910-aa77-45a9-9ae3-16f7deb9d13d\" target=\"_top\" title=\"psysml:c9192910-aa77-45a9-9ae3-16f7deb9d13d\" xlink:actuate=\"onRequest\" xlink:href=\"psysml:c9192910-aa77-45a9-9ae3-16f7deb9d13d\" xlink:show=\"new\" xlink:title=\"psysml:c9192910-aa77-45a9-9ae3-16f7deb9d13d\" xlink:type=\"simple\"><polygon fill=\"#FFFFFF\" points=\"16,6,134,6,141,28.2969,397,28.2969,397,389,16,389,16,6\" style=\"stroke: #000000; stroke-width: 1.5;\"/><line style=\"stroke: #000000; stroke-width: 1.5;\" x1=\"16\" x2=\"141\" y1=\"28.2969\" y2=\"28.2969\"/><text fill=\"#000000\" font-family=\"sans-serif\" font-size=\"14\" font-weight=\"bold\" lengthAdjust=\"spacingAndGlyphs\" textLength=\"112\" x=\"20\" y=\"20.9951\">VariabilityTest</text></a><!--MD5=[b4997ac47864f28c2f74865a473b2911]\n",
       "class E2--><a href=\"psysml:28b4b804-815b-4815-9c5e-e5b09d6ccef7\" target=\"_top\" title=\"psysml:28b4b804-815b-4815-9c5e-e5b09d6ccef7\" xlink:actuate=\"onRequest\" xlink:href=\"psysml:28b4b804-815b-4815-9c5e-e5b09d6ccef7\" xlink:show=\"new\" xlink:title=\"psysml:28b4b804-815b-4815-9c5e-e5b09d6ccef7\" xlink:type=\"simple\"><rect fill=\"#FFFFFF\" height=\"75.5469\" id=\"E2\" style=\"stroke: #383838; stroke-width: 1.5;\" width=\"66\" x=\"166\" y=\"291\"/><text fill=\"#000000\" font-family=\"sans-serif\" font-size=\"12\" font-style=\"italic\" lengthAdjust=\"spacingAndGlyphs\" textLength=\"64\" x=\"167\" y=\"307.1387\">«part def»</text><text fill=\"#000000\" font-family=\"sans-serif\" font-size=\"12\" lengthAdjust=\"spacingAndGlyphs\" textLength=\"8\" x=\"195\" y=\"321.1074\">P</text><line style=\"stroke: #383838; stroke-width: 1.5;\" x1=\"167\" x2=\"231\" y1=\"328.9375\" y2=\"328.9375\"/><text fill=\"#000000\" font-family=\"sans-serif\" font-size=\"11\" lengthAdjust=\"spacingAndGlyphs\" textLength=\"7\" x=\"172\" y=\"359.9526\">a</text><line style=\"stroke: #383838; stroke-width: 1.0;\" x1=\"167\" x2=\"171.5\" y1=\"343.3398\" y2=\"343.3398\"/><text fill=\"#000000\" font-family=\"sans-serif\" font-size=\"11\" lengthAdjust=\"spacingAndGlyphs\" textLength=\"55\" x=\"171.5\" y=\"346.6479\">attributes</text><line style=\"stroke: #383838; stroke-width: 1.0;\" x1=\"226.5\" x2=\"231\" y1=\"343.3398\" y2=\"343.3398\"/></a><!--MD5=[09b614a08d8cba4a07c9adeb5e0fee81]\n",
       "class E3--><a href=\"psysml:3556ece0-f840-441c-8cd2-5d7027a1a805\" target=\"_top\" title=\"psysml:3556ece0-f840-441c-8cd2-5d7027a1a805\" xlink:actuate=\"onRequest\" xlink:href=\"psysml:3556ece0-f840-441c-8cd2-5d7027a1a805\" xlink:show=\"new\" xlink:title=\"psysml:3556ece0-f840-441c-8cd2-5d7027a1a805\" xlink:type=\"simple\"><rect fill=\"#FFFFFF\" height=\"45.9375\" id=\"E3\" style=\"stroke: #383838; stroke-width: 1.5;\" width=\"66\" x=\"137\" y=\"155\"/><text fill=\"#000000\" font-family=\"sans-serif\" font-size=\"12\" font-style=\"italic\" lengthAdjust=\"spacingAndGlyphs\" textLength=\"64\" x=\"138\" y=\"171.1387\">«part def»</text><text fill=\"#000000\" font-family=\"sans-serif\" font-size=\"12\" lengthAdjust=\"spacingAndGlyphs\" textLength=\"9\" x=\"165.5\" y=\"185.1074\">Q</text><line style=\"stroke: #383838; stroke-width: 1.5;\" x1=\"138\" x2=\"202\" y1=\"192.9375\" y2=\"192.9375\"/></a><!--MD5=[ebbe1d658d1005bcc118a6aa81145e00]\n",
       "class E4--><a href=\"psysml:c1ea47d2-f15e-4f05-bf93-ec81669ca641\" target=\"_top\" title=\"psysml:c1ea47d2-f15e-4f05-bf93-ec81669ca641\" xlink:actuate=\"onRequest\" xlink:href=\"psysml:c1ea47d2-f15e-4f05-bf93-ec81669ca641\" xlink:show=\"new\" xlink:title=\"psysml:c1ea47d2-f15e-4f05-bf93-ec81669ca641\" xlink:type=\"simple\"><rect fill=\"#FFFFFF\" height=\"45.9375\" id=\"E4\" style=\"stroke: #383838; stroke-width: 1.5;\" width=\"95\" x=\"255.5\" y=\"41\"/><text fill=\"#000000\" font-family=\"sans-serif\" font-size=\"12\" font-style=\"italic\" lengthAdjust=\"spacingAndGlyphs\" textLength=\"93\" x=\"256.5\" y=\"57.1387\">«attribute def»</text><text fill=\"#000000\" font-family=\"sans-serif\" font-size=\"12\" lengthAdjust=\"spacingAndGlyphs\" textLength=\"8\" x=\"299\" y=\"71.1074\">B</text><line style=\"stroke: #383838; stroke-width: 1.5;\" x1=\"256.5\" x2=\"349.5\" y1=\"78.9375\" y2=\"78.9375\"/></a><!--MD5=[270fce915f116d4de14055a7c1d9a0f3]\n",
       "class E5--><a href=\"psysml:735cd89a-e4b2-4dc5-b3d6-41534f400f39\" target=\"_top\" title=\"psysml:735cd89a-e4b2-4dc5-b3d6-41534f400f39\" xlink:actuate=\"onRequest\" xlink:href=\"psysml:735cd89a-e4b2-4dc5-b3d6-41534f400f39\" xlink:show=\"new\" xlink:title=\"psysml:735cd89a-e4b2-4dc5-b3d6-41534f400f39\" xlink:type=\"simple\"><rect fill=\"#FFFFFF\" height=\"45.9375\" id=\"E5\" style=\"stroke: #383838; stroke-width: 1.5;\" width=\"66\" x=\"315\" y=\"155\"/><text fill=\"#000000\" font-family=\"sans-serif\" font-size=\"12\" font-style=\"italic\" lengthAdjust=\"spacingAndGlyphs\" textLength=\"64\" x=\"316\" y=\"171.1387\">«part def»</text><text fill=\"#000000\" font-family=\"sans-serif\" font-size=\"12\" lengthAdjust=\"spacingAndGlyphs\" textLength=\"8\" x=\"344\" y=\"185.1074\">V</text><line style=\"stroke: #383838; stroke-width: 1.5;\" x1=\"316\" x2=\"380\" y1=\"192.9375\" y2=\"192.9375\"/></a><!--MD5=[60a26617385b1d2d0262a64233df1f8d]\n",
       "class E6--><a href=\"psysml:0400016e-70f0-4405-a71c-97e49bd60e65\" target=\"_top\" title=\"psysml:0400016e-70f0-4405-a71c-97e49bd60e65\" xlink:actuate=\"onRequest\" xlink:href=\"psysml:0400016e-70f0-4405-a71c-97e49bd60e65\" xlink:show=\"new\" xlink:title=\"psysml:0400016e-70f0-4405-a71c-97e49bd60e65\" xlink:type=\"simple\"><rect fill=\"#FFFFFF\" height=\"88.3516\" id=\"E6\" rx=\"10\" ry=\"10\" style=\"stroke: #383838; stroke-width: 1.5;\" width=\"63\" x=\"287.5\" y=\"285\"/><text fill=\"#000000\" font-family=\"sans-serif\" font-size=\"12\" font-style=\"italic\" lengthAdjust=\"spacingAndGlyphs\" textLength=\"40\" x=\"299\" y=\"301.1387\">«part»</text><text fill=\"#000000\" font-family=\"sans-serif\" font-size=\"12\" lengthAdjust=\"spacingAndGlyphs\" textLength=\"23\" x=\"307.5\" y=\"315.1074\">x: Q</text><line style=\"stroke: #383838; stroke-width: 1.5;\" x1=\"288.5\" x2=\"349.5\" y1=\"322.9375\" y2=\"322.9375\"/><text fill=\"#000000\" font-family=\"sans-serif\" font-size=\"11\" lengthAdjust=\"spacingAndGlyphs\" textLength=\"23\" x=\"293.5\" y=\"353.9526\">b: B</text><text fill=\"#000000\" font-family=\"sans-serif\" font-size=\"11\" font-style=\"italic\" lengthAdjust=\"spacingAndGlyphs\" textLength=\"44\" x=\"293.5\" y=\"366.7573\">:&gt;&gt;P::a</text><line style=\"stroke: #383838; stroke-width: 1.0;\" x1=\"288.5\" x2=\"291.5\" y1=\"337.3398\" y2=\"337.3398\"/><text fill=\"#000000\" font-family=\"sans-serif\" font-size=\"11\" lengthAdjust=\"spacingAndGlyphs\" textLength=\"55\" x=\"291.5\" y=\"340.6479\">attributes</text><line style=\"stroke: #383838; stroke-width: 1.0;\" x1=\"346.5\" x2=\"349.5\" y1=\"337.3398\" y2=\"337.3398\"/></a><!--MD5=[2156ba9850f5573cc1fc38a6a4b2f02b]\n",
       "class E7--><a href=\"psysml:ac43cc4c-8177-486e-b5a5-e877f62f9bc5\" target=\"_top\" title=\"psysml:ac43cc4c-8177-486e-b5a5-e877f62f9bc5\" xlink:actuate=\"onRequest\" xlink:href=\"psysml:ac43cc4c-8177-486e-b5a5-e877f62f9bc5\" xlink:show=\"new\" xlink:title=\"psysml:ac43cc4c-8177-486e-b5a5-e877f62f9bc5\" xlink:type=\"simple\"><rect fill=\"#FFFFFF\" height=\"45.9375\" id=\"E7\" rx=\"10\" ry=\"10\" style=\"stroke: #383838; stroke-width: 1.5;\" width=\"42\" x=\"149\" y=\"41\"/><text fill=\"#000000\" font-family=\"sans-serif\" font-size=\"12\" font-style=\"italic\" lengthAdjust=\"spacingAndGlyphs\" textLength=\"40\" x=\"150\" y=\"57.1387\">«part»</text><text fill=\"#000000\" font-family=\"sans-serif\" font-size=\"12\" lengthAdjust=\"spacingAndGlyphs\" textLength=\"25\" x=\"157.5\" y=\"71.1074\">q: Q</text><line style=\"stroke: #383838; stroke-width: 1.5;\" x1=\"150\" x2=\"190\" y1=\"78.9375\" y2=\"78.9375\"/></a><!--MD5=[b9389687b975829384b498ac4b7476b2]\n",
       "class E8--><a href=\"psysml:ce952eae-8bb1-4ad0-9f02-4c42d4c1d0c7\" target=\"_top\" title=\"psysml:ce952eae-8bb1-4ad0-9f02-4c42d4c1d0c7\" xlink:actuate=\"onRequest\" xlink:href=\"psysml:ce952eae-8bb1-4ad0-9f02-4c42d4c1d0c7\" xlink:show=\"new\" xlink:title=\"psysml:ce952eae-8bb1-4ad0-9f02-4c42d4c1d0c7\" xlink:type=\"simple\"><rect fill=\"#FFFFFF\" height=\"59.9063\" id=\"E8\" rx=\"10\" ry=\"10\" style=\"stroke: #383838; stroke-width: 1.5;\" width=\"70\" x=\"32\" y=\"148\"/><text fill=\"#000000\" font-family=\"sans-serif\" font-size=\"12\" font-style=\"italic\" lengthAdjust=\"spacingAndGlyphs\" textLength=\"68\" x=\"33\" y=\"164.1387\">«variation»</text><text fill=\"#000000\" font-family=\"sans-serif\" font-size=\"12\" font-style=\"italic\" lengthAdjust=\"spacingAndGlyphs\" textLength=\"40\" x=\"47\" y=\"178.1074\">«part»</text><text fill=\"#000000\" font-family=\"sans-serif\" font-size=\"12\" lengthAdjust=\"spacingAndGlyphs\" textLength=\"22\" x=\"56\" y=\"192.0762\">v: P</text><line style=\"stroke: #383838; stroke-width: 1.5;\" x1=\"33\" x2=\"101\" y1=\"199.9063\" y2=\"199.9063\"/></a><!--MD5=[fd4143e9d270a159db93a4ea2a975926]\n",
       "class E9--><a href=\"psysml:572dfe4e-6d7c-4ba8-94a3-d7ce0272bed9\" target=\"_top\" title=\"psysml:572dfe4e-6d7c-4ba8-94a3-d7ce0272bed9\" xlink:actuate=\"onRequest\" xlink:href=\"psysml:572dfe4e-6d7c-4ba8-94a3-d7ce0272bed9\" xlink:show=\"new\" xlink:title=\"psysml:572dfe4e-6d7c-4ba8-94a3-d7ce0272bed9\" xlink:type=\"simple\"><rect fill=\"#FFFFFF\" height=\"88.3516\" id=\"E9\" rx=\"10\" ry=\"10\" style=\"stroke: #383838; stroke-width: 1.5;\" width=\"77\" x=\"32.5\" y=\"285\"/><text fill=\"#000000\" font-family=\"sans-serif\" font-size=\"12\" font-style=\"italic\" lengthAdjust=\"spacingAndGlyphs\" textLength=\"75\" x=\"33.5\" y=\"301.1387\">«reference»</text><text fill=\"#000000\" font-family=\"sans-serif\" font-size=\"12\" lengthAdjust=\"spacingAndGlyphs\" textLength=\"8\" x=\"67\" y=\"315.1074\">q</text><line style=\"stroke: #383838; stroke-width: 1.5;\" x1=\"33.5\" x2=\"108.5\" y1=\"322.9375\" y2=\"322.9375\"/><text fill=\"#000000\" font-family=\"sans-serif\" font-size=\"11\" lengthAdjust=\"spacingAndGlyphs\" textLength=\"23\" x=\"38.5\" y=\"353.9526\">b: B</text><text fill=\"#000000\" font-family=\"sans-serif\" font-size=\"11\" font-style=\"italic\" lengthAdjust=\"spacingAndGlyphs\" textLength=\"44\" x=\"38.5\" y=\"366.7573\">:&gt;&gt;P::a</text><line style=\"stroke: #383838; stroke-width: 1.0;\" x1=\"33.5\" x2=\"43.5\" y1=\"337.3398\" y2=\"337.3398\"/><text fill=\"#000000\" font-family=\"sans-serif\" font-size=\"11\" lengthAdjust=\"spacingAndGlyphs\" textLength=\"55\" x=\"43.5\" y=\"340.6479\">attributes</text><line style=\"stroke: #383838; stroke-width: 1.0;\" x1=\"98.5\" x2=\"108.5\" y1=\"337.3398\" y2=\"337.3398\"/></a><!--MD5=[96f4274e9e20536e775497830990834d]\n",
       "class E10--><a href=\"psysml:983a8093-9810-4637-96cc-9ee8fb3d9cf5\" target=\"_top\" title=\"psysml:983a8093-9810-4637-96cc-9ee8fb3d9cf5\" xlink:actuate=\"onRequest\" xlink:href=\"psysml:983a8093-9810-4637-96cc-9ee8fb3d9cf5\" xlink:show=\"new\" xlink:title=\"psysml:983a8093-9810-4637-96cc-9ee8fb3d9cf5\" xlink:type=\"simple\"><rect fill=\"#FFFFFF\" height=\"45.9375\" id=\"E10\" rx=\"10\" ry=\"10\" style=\"stroke: #383838; stroke-width: 1.5;\" width=\"42\" x=\"238\" y=\"155\"/><text fill=\"#000000\" font-family=\"sans-serif\" font-size=\"12\" font-style=\"italic\" lengthAdjust=\"spacingAndGlyphs\" textLength=\"40\" x=\"239\" y=\"171.1387\">«part»</text><text fill=\"#000000\" font-family=\"sans-serif\" font-size=\"12\" lengthAdjust=\"spacingAndGlyphs\" textLength=\"22\" x=\"248\" y=\"185.1074\">y: P</text><line style=\"stroke: #383838; stroke-width: 1.5;\" x1=\"239\" x2=\"279\" y1=\"192.9375\" y2=\"192.9375\"/></a><!--MD5=[05d275557350bfb9b23a4ef7222b4c39]\n",
       "link E3 to E2--><a href=\"psysml:9e57242c-9184-4252-9565-bec20c63fdb8\" target=\"_top\" title=\"psysml:9e57242c-9184-4252-9565-bec20c63fdb8\" xlink:actuate=\"onRequest\" xlink:href=\"psysml:9e57242c-9184-4252-9565-bec20c63fdb8\" xlink:show=\"new\" xlink:title=\"psysml:9e57242c-9184-4252-9565-bec20c63fdb8\" xlink:type=\"simple\"><path d=\"M174.34,201.31 C177.92,219.67 183.15,246.54 187.87,270.81 \" fill=\"none\" id=\"E3-&gt;E2\" style=\"stroke: #383838; stroke-width: 1.0;\"/><polygon fill=\"none\" points=\"194.8,269.8,191.75,290.77,181.06,272.47,194.8,269.8\" style=\"stroke: #383838; stroke-width: 1.0;\"/></a><!--MD5=[15ebcb19ae302d9b601edb458606d402]\n",
       "link E5 to E2--><a href=\"psysml:5cdbdbe7-d14c-45c9-a804-61f18115238e\" target=\"_top\" title=\"psysml:5cdbdbe7-d14c-45c9-a804-61f18115238e\" xlink:actuate=\"onRequest\" xlink:href=\"psysml:5cdbdbe7-d14c-45c9-a804-61f18115238e\" xlink:show=\"new\" xlink:title=\"psysml:5cdbdbe7-d14c-45c9-a804-61f18115238e\" xlink:type=\"simple\"><path d=\"M325.69,201.31 C304.9,222.1 273.2,253.8 246.71,280.29 \" fill=\"none\" id=\"E5-&gt;E2\" style=\"stroke: #383838; stroke-width: 1.0;\"/><polygon fill=\"none\" points=\"251.33,285.57,232.24,294.76,241.43,275.67,251.33,285.57\" style=\"stroke: #383838; stroke-width: 1.0;\"/></a><!--MD5=[9120cf2e5df3bff93db8f754bbbc09b4]\n",
       "link E5 to E6--><a href=\"psysml:052c6ce9-d9db-4da6-90c4-ac16555550ac\" target=\"_top\" title=\"psysml:052c6ce9-d9db-4da6-90c4-ac16555550ac\" xlink:actuate=\"onRequest\" xlink:href=\"psysml:052c6ce9-d9db-4da6-90c4-ac16555550ac\" xlink:show=\"new\" xlink:title=\"psysml:052c6ce9-d9db-4da6-90c4-ac16555550ac\" xlink:type=\"simple\"><path d=\"M341.72,211.26 C338.1,229.85 333.47,253.68 329.32,274.95 \" fill=\"none\" id=\"E5-E6\" style=\"stroke: #383838; stroke-width: 1.0;\"/><polygon fill=\"#383838\" points=\"327.4,284.84,331.8761,277.5623,325.987,276.4136,327.4,284.84\" style=\"stroke: #383838; stroke-width: 1.0;\"/><path d=\"M334.7699,202.7122 A9,9 0 0 0 351.3715 205.9503\" fill=\"none\" style=\"stroke: #383838; stroke-width: 1.5;\"/><text fill=\"#000000\" font-family=\"sans-serif\" font-size=\"13\" lengthAdjust=\"spacingAndGlyphs\" textLength=\"60\" x=\"337\" y=\"251.0669\">«variant»</text></a><!--MD5=[14ccda38c055a5c0da953d572bc50960]\n",
       "link E7 to E3--><a href=\"psysml:648145d1-1ec9-42fc-8307-fa8910350658\" target=\"_top\" title=\"psysml:648145d1-1ec9-42fc-8307-fa8910350658\" xlink:actuate=\"onRequest\" xlink:href=\"psysml:648145d1-1ec9-42fc-8307-fa8910350658\" xlink:show=\"new\" xlink:title=\"psysml:648145d1-1ec9-42fc-8307-fa8910350658\" xlink:type=\"simple\"><path d=\"M170,87.13 C170,100.7 170,118.53 170,134.73 \" fill=\"none\" id=\"E7-&gt;E3\" style=\"stroke: #383838; stroke-width: 1.0;\"/><polygon fill=\"#FFFFFF\" points=\"170,154.92,163,135.92,177,135.92,170,154.92\" style=\"stroke: #383838; stroke-width: 1.0;\"/><ellipse cx=\"165\" cy=\"130.22\" fill=\"#383838\" rx=\"2\" ry=\"2\" style=\"stroke: #383838; stroke-width: 1.0;\"/><ellipse cx=\"175\" cy=\"130.22\" fill=\"#383838\" rx=\"2\" ry=\"2\" style=\"stroke: #383838; stroke-width: 1.0;\"/></a><!--MD5=[f1f3f9f2fc535e6147756cb86a7f2e32]\n",
       "link E8 to E2--><a href=\"psysml:19cda0c9-2775-4d9d-8cd8-191c5ad52b34\" target=\"_top\" title=\"psysml:19cda0c9-2775-4d9d-8cd8-191c5ad52b34\" xlink:actuate=\"onRequest\" xlink:href=\"psysml:19cda0c9-2775-4d9d-8cd8-191c5ad52b34\" xlink:show=\"new\" xlink:title=\"psysml:19cda0c9-2775-4d9d-8cd8-191c5ad52b34\" xlink:type=\"simple\"><path d=\"M102.17,204.39 C114.52,214.17 128.04,225.9 139,238 C148.86,248.88 158.29,261.5 166.63,273.79 \" fill=\"none\" id=\"E8-&gt;E2\" style=\"stroke: #383838; stroke-width: 1.0;\"/><polygon fill=\"#FFFFFF\" points=\"177.64,290.73,161.4168,278.6135,173.1555,270.9844,177.64,290.73\" style=\"stroke: #383838; stroke-width: 1.0;\"/><ellipse cx=\"159.9876\" cy=\"272.7443\" fill=\"#383838\" rx=\"2\" ry=\"2\" style=\"stroke: #383838; stroke-width: 1.0;\"/><ellipse cx=\"168.3724\" cy=\"267.2949\" fill=\"#383838\" rx=\"2\" ry=\"2\" style=\"stroke: #383838; stroke-width: 1.0;\"/></a><!--MD5=[ed10624c06dd9a4fa49ccf290e8b16a8]\n",
       "link E8 to E9--><a href=\"psysml:28d39c7a-e0c7-42b0-858e-2cb4e488f108\" target=\"_top\" title=\"psysml:28d39c7a-e0c7-42b0-858e-2cb4e488f108\" xlink:actuate=\"onRequest\" xlink:href=\"psysml:28d39c7a-e0c7-42b0-858e-2cb4e488f108\" xlink:show=\"new\" xlink:title=\"psysml:28d39c7a-e0c7-42b0-858e-2cb4e488f108\" xlink:type=\"simple\"><path d=\"M68.06,218.32 C68.52,235.6 69.07,256.15 69.57,274.77 \" fill=\"none\" id=\"E8-E9\" style=\"stroke: #383838; stroke-width: 1.0;\"/><polygon fill=\"#383838\" points=\"69.84,284.88,72.6331,276.8054,66.6351,276.9599,69.84,284.88\" style=\"stroke: #383838; stroke-width: 1.0;\"/><path d=\"M59.4094,211.3865 A9,9 0 0 0 76.3176 210.9276\" fill=\"none\" style=\"stroke: #383838; stroke-width: 1.5;\"/><text fill=\"#000000\" font-family=\"sans-serif\" font-size=\"13\" lengthAdjust=\"spacingAndGlyphs\" textLength=\"60\" x=\"70\" y=\"251.0669\">«variant»</text></a><!--MD5=[0f36bececdf0dff6e600d6f64214b0f1]\n",
       "link E10 to E2--><a href=\"psysml:8cfcd01d-a74f-43be-a680-d41b6ee6accc\" target=\"_top\" title=\"psysml:8cfcd01d-a74f-43be-a680-d41b6ee6accc\" xlink:actuate=\"onRequest\" xlink:href=\"psysml:8cfcd01d-a74f-43be-a680-d41b6ee6accc\" xlink:show=\"new\" xlink:title=\"psysml:8cfcd01d-a74f-43be-a680-d41b6ee6accc\" xlink:type=\"simple\"><path d=\"M250.02,201.31 C242.51,219.95 231.48,247.35 221.59,271.91 \" fill=\"none\" id=\"E10-&gt;E2\" style=\"stroke: #383838; stroke-width: 1.0;\"/><polygon fill=\"#FFFFFF\" points=\"213.99,290.77,214.5927,270.5305,227.5796,275.7593,213.99,290.77\" style=\"stroke: #383838; stroke-width: 1.0;\"/><ellipse cx=\"218.5768\" cy=\"265.9899\" fill=\"#383838\" rx=\"2\" ry=\"2\" style=\"stroke: #383838; stroke-width: 1.0;\"/><ellipse cx=\"227.8532\" cy=\"269.7248\" fill=\"#383838\" rx=\"2\" ry=\"2\" style=\"stroke: #383838; stroke-width: 1.0;\"/></a><!--MD5=[924dbd7dfcf3683bf4db00389314ea67]\n",
       "@startuml\r\n",
       " skinparam monochrome true\r\n",
       "skinparam classbackgroundcolor white\r\n",
       "skinparam shadowing false\r\n",
       "skinparam wrapWidth 300\r\n",
       "hide circle\r\n",
       "\r\n",
       "package \"VariabilityTest\" as E1  [[psysml:c9192910-aa77-45a9-9ae3-16f7deb9d13d ]]  {\r\n",
       "comp def \"P\" as E2  <<(T,blue)part def>> [[psysml:28b4b804-815b-4815-9c5e-e5b09d6ccef7 ]] {\r\n",
       "- - attributes - -\r\n",
       "a\r\n",
       "}\r\n",
       "comp def \"Q\" as E3  <<(T,blue)part def>> [[psysml:3556ece0-f840-441c-8cd2-5d7027a1a805 ]] {\r\n",
       "}\r\n",
       "comp def \"B\" as E4  <<(T,blue)attribute def>> [[psysml:c1ea47d2-f15e-4f05-bf93-ec81669ca641 ]] {\r\n",
       "}\r\n",
       "comp def \"V\" as E5  <<(T,blue)part def>> [[psysml:735cd89a-e4b2-4dc5-b3d6-41534f400f39 ]] {\r\n",
       "}\r\n",
       "comp usage \"x: Q\" as E6  <<(T,blue)part>> [[psysml:0400016e-70f0-4405-a71c-97e49bd60e65 ]] {\r\n",
       "- - attributes - -\r\n",
       "b: B\\n//:>>P::a// \r\n",
       "}\r\n",
       "comp usage \"q: Q\" as E7  <<(T,blue)part>> [[psysml:ac43cc4c-8177-486e-b5a5-e877f62f9bc5 ]] {\r\n",
       "}\r\n",
       "comp usage \"v: P\" as E8  <<variation>>\\n <<(T,blue)part>> [[psysml:ce952eae-8bb1-4ad0-9f02-4c42d4c1d0c7 ]] {\r\n",
       "}\r\n",
       "comp usage \"q\" as E9  <<(T,blue)reference>> [[psysml:572dfe4e-6d7c-4ba8-94a3-d7ce0272bed9 ]] {\r\n",
       "- - attributes - -\r\n",
       "b: B\\n//:>>P::a// \r\n",
       "}\r\n",
       "comp usage \"y: P\" as E10  <<(T,blue)part>> [[psysml:983a8093-9810-4637-96cc-9ee8fb3d9cf5 ]] {\r\n",
       "}\r\n",
       "E3 - -|> E2 [[psysml:9e57242c-9184-4252-9565-bec20c63fdb8 ]] \r\n",
       "E5 - -|> E2 [[psysml:5cdbdbe7-d14c-45c9-a804-61f18115238e ]] \r\n",
       "E5 )- ->> E6 [[psysml:052c6ce9-d9db-4da6-90c4-ac16555550ac ]] : <<variant>>\r\n",
       "E7 - -:|> E3 [[psysml:648145d1-1ec9-42fc-8307-fa8910350658 ]] \r\n",
       "E8 - -:|> E2 [[psysml:19cda0c9-2775-4d9d-8cd8-191c5ad52b34 ]] \r\n",
       "E8 )- ->> E9 [[psysml:28d39c7a-e0c7-42b0-858e-2cb4e488f108 ]] : <<variant>>\r\n",
       "E10 - -:|> E2 [[psysml:8cfcd01d-a74f-43be-a680-d41b6ee6accc ]] \r\n",
       "}\r\n",
       "@enduml\r\n",
       "\n",
       "PlantUML version 1.2020.13(Sat Jun 13 12:26:38 UTC 2020)\n",
       "(EPL source distribution)\n",
       "Java Runtime: OpenJDK Runtime Environment\n",
       "JVM: OpenJDK 64-Bit Server VM\n",
       "Default Encoding: UTF-8\n",
       "Language: en\n",
       "Country: null\n",
       "--></g></svg>"
      ]
     },
     "execution_count": 3,
     "metadata": {},
     "output_type": "execute_result"
    }
   ],
   "source": [
    "%viz --style=\"COMPTREE\" --view=\"Tree\" \"VariabilityTest\""
   ]
  },
  {
   "cell_type": "code",
   "execution_count": 4,
   "id": "e79e59a6",
   "metadata": {
    "execution": {
     "iopub.execute_input": "2021-05-28T10:47:53.802503Z",
     "iopub.status.busy": "2021-05-28T10:47:53.778882Z",
     "iopub.status.idle": "2021-05-28T10:47:53.803926Z",
     "shell.execute_reply": "2021-05-28T10:47:53.804224Z"
    }
   },
   "outputs": [
    {
     "data": {
      "image/svg+xml": [
       "<?xml version=\"1.0\" encoding=\"UTF-8\" standalone=\"no\"?><svg xmlns=\"http://www.w3.org/2000/svg\" xmlns:xlink=\"http://www.w3.org/1999/xlink\" contentScriptType=\"application/ecmascript\" contentStyleType=\"text/css\" height=\"12px\" preserveAspectRatio=\"none\" style=\"width:12px;height:12px;\" version=\"1.1\" viewBox=\"0 0 12 12\" width=\"12px\" zoomAndPan=\"magnify\"><defs/><g><!--MD5=[f19188ef49e11757b5c46753f95d9edc]\n",
       "@startuml\r\n",
       " skinparam monochrome true\r\n",
       "skinparam classbackgroundcolor white\r\n",
       "skinparam shadowing false\r\n",
       "skinparam wrapWidth 300\r\n",
       "hide circle\r\n",
       "\r\n",
       "@enduml\r\n",
       "\n",
       "PlantUML version 1.2020.13(Sat Jun 13 12:26:38 UTC 2020)\n",
       "(EPL source distribution)\n",
       "Java Runtime: OpenJDK Runtime Environment\n",
       "JVM: OpenJDK 64-Bit Server VM\n",
       "Default Encoding: UTF-8\n",
       "Language: en\n",
       "Country: null\n",
       "--></g></svg>"
      ]
     },
     "execution_count": 4,
     "metadata": {},
     "output_type": "execute_result"
    }
   ],
   "source": [
    "%viz --style=\"COMPTREE\" --view=\"State\" \"VariabilityTest\""
   ]
  },
  {
   "cell_type": "code",
   "execution_count": 5,
   "id": "630bb946",
   "metadata": {
    "execution": {
     "iopub.execute_input": "2021-05-28T10:47:53.857304Z",
     "iopub.status.busy": "2021-05-28T10:47:53.856671Z",
     "iopub.status.idle": "2021-05-28T10:47:53.998034Z",
     "shell.execute_reply": "2021-05-28T10:47:53.997606Z"
    }
   },
   "outputs": [
    {
     "data": {
      "image/svg+xml": [
       "<?xml version=\"1.0\" encoding=\"UTF-8\" standalone=\"no\"?><svg xmlns=\"http://www.w3.org/2000/svg\" xmlns:xlink=\"http://www.w3.org/1999/xlink\" contentScriptType=\"application/ecmascript\" contentStyleType=\"text/css\" height=\"427px\" preserveAspectRatio=\"none\" style=\"width:779px;height:427px;\" version=\"1.1\" viewBox=\"0 0 779 427\" width=\"779px\" zoomAndPan=\"magnify\"><defs/><g><!--MD5=[fbc87193dbaf4d95561dea2c320d4a47]\n",
       "cluster E1--><a href=\"psysml:c9192910-aa77-45a9-9ae3-16f7deb9d13d\" target=\"_top\" title=\"psysml:c9192910-aa77-45a9-9ae3-16f7deb9d13d\" xlink:actuate=\"onRequest\" xlink:href=\"psysml:c9192910-aa77-45a9-9ae3-16f7deb9d13d\" xlink:show=\"new\" xlink:title=\"psysml:c9192910-aa77-45a9-9ae3-16f7deb9d13d\" xlink:type=\"simple\"><polygon fill=\"#FFFFFF\" points=\"16,6,134,6,141,28.2969,757,28.2969,757,415,16,415,16,6\" style=\"stroke: #000000; stroke-width: 1.5;\"/><line style=\"stroke: #000000; stroke-width: 1.5;\" x1=\"16\" x2=\"141\" y1=\"28.2969\" y2=\"28.2969\"/><text fill=\"#000000\" font-family=\"sans-serif\" font-size=\"14\" font-weight=\"bold\" lengthAdjust=\"spacingAndGlyphs\" textLength=\"112\" x=\"20\" y=\"20.9951\">VariabilityTest</text></a><!--MD5=[e4f7fae6ed58524ba242bb0b0d3be6b7]\n",
       "cluster E2--><a href=\"psysml:28b4b804-815b-4815-9c5e-e5b09d6ccef7\" target=\"_top\" title=\"psysml:28b4b804-815b-4815-9c5e-e5b09d6ccef7\" xlink:actuate=\"onRequest\" xlink:href=\"psysml:28b4b804-815b-4815-9c5e-e5b09d6ccef7\" xlink:show=\"new\" xlink:title=\"psysml:28b4b804-815b-4815-9c5e-e5b09d6ccef7\" xlink:type=\"simple\"><rect fill=\"#FFFFFF\" height=\"129\" id=\"E2\" style=\"stroke: #383838; stroke-width: 1.5;\" width=\"139\" x=\"420\" y=\"254\"/><rect fill=\"#F8F8F8\" height=\"37.9375\" style=\"stroke: #383838; stroke-width: 1.5;\" width=\"139\" x=\"420\" y=\"254\"/><text fill=\"#000000\" font-family=\"sans-serif\" font-size=\"12\" font-style=\"italic\" lengthAdjust=\"spacingAndGlyphs\" textLength=\"64\" x=\"457.5\" y=\"270.1387\">«part def»</text><text fill=\"#000000\" font-family=\"sans-serif\" font-size=\"12\" lengthAdjust=\"spacingAndGlyphs\" textLength=\"8\" x=\"485.5\" y=\"284.1074\">P</text></a><!--MD5=[14e3b0961a2654348d326746436168a1]\n",
       "cluster E6--><a href=\"psysml:735cd89a-e4b2-4dc5-b3d6-41534f400f39\" target=\"_top\" title=\"psysml:735cd89a-e4b2-4dc5-b3d6-41534f400f39\" xlink:actuate=\"onRequest\" xlink:href=\"psysml:735cd89a-e4b2-4dc5-b3d6-41534f400f39\" xlink:show=\"new\" xlink:title=\"psysml:735cd89a-e4b2-4dc5-b3d6-41534f400f39\" xlink:type=\"simple\"><rect fill=\"#FFFFFF\" height=\"157\" id=\"E6\" style=\"stroke: #383838; stroke-width: 1.5;\" width=\"131\" x=\"594\" y=\"57\"/><rect fill=\"#F8F8F8\" height=\"37.9375\" style=\"stroke: #383838; stroke-width: 1.5;\" width=\"131\" x=\"594\" y=\"57\"/><text fill=\"#000000\" font-family=\"sans-serif\" font-size=\"12\" font-style=\"italic\" lengthAdjust=\"spacingAndGlyphs\" textLength=\"64\" x=\"627.5\" y=\"73.1387\">«part def»</text><text fill=\"#000000\" font-family=\"sans-serif\" font-size=\"12\" lengthAdjust=\"spacingAndGlyphs\" textLength=\"8\" x=\"655.5\" y=\"87.1074\">V</text></a><!--MD5=[7f149f147074ac12df2cb0a7728a5fb0]\n",
       "cluster E9--><a href=\"psysml:ce952eae-8bb1-4ad0-9f02-4c42d4c1d0c7\" target=\"_top\" title=\"psysml:ce952eae-8bb1-4ad0-9f02-4c42d4c1d0c7\" xlink:actuate=\"onRequest\" xlink:href=\"psysml:ce952eae-8bb1-4ad0-9f02-4c42d4c1d0c7\" xlink:show=\"new\" xlink:title=\"psysml:ce952eae-8bb1-4ad0-9f02-4c42d4c1d0c7\" xlink:type=\"simple\"><rect fill=\"#FFFFFF\" height=\"155\" id=\"E9\" rx=\"10\" ry=\"10\" style=\"stroke: #383838; stroke-width: 1.5;\" width=\"110\" x=\"452\" y=\"58\"/><rect fill=\"#F8F8F8\" height=\"37.9375\" rx=\"10\" ry=\"10\" style=\"stroke: #F8F8F8; stroke-width: 1.5;\" width=\"110\" x=\"452\" y=\"58\"/><rect fill=\"#F8F8F8\" height=\"10\" style=\"stroke: #F8F8F8; stroke-width: 1.5;\" width=\"110\" x=\"452\" y=\"85.9375\"/><rect fill=\"none\" height=\"155\" id=\"E9\" rx=\"10\" ry=\"10\" style=\"stroke: #383838; stroke-width: 1.5;\" width=\"110\" x=\"452\" y=\"58\"/><text fill=\"#000000\" font-family=\"sans-serif\" font-size=\"12\" font-style=\"italic\" lengthAdjust=\"spacingAndGlyphs\" textLength=\"68\" x=\"473\" y=\"74.1387\">«variation»</text><text fill=\"#000000\" font-family=\"sans-serif\" font-size=\"12\" lengthAdjust=\"spacingAndGlyphs\" textLength=\"22\" x=\"496\" y=\"88.1074\">v: P</text><line style=\"stroke: #383838; stroke-width: 1.0;\" x1=\"452\" x2=\"562\" y1=\"95.9375\" y2=\"95.9375\"/></a><g id=\"E1.E5\"><a href=\"psysml:c1ea47d2-f15e-4f05-bf93-ec81669ca641\" target=\"_top\" title=\"psysml:c1ea47d2-f15e-4f05-bf93-ec81669ca641\" xlink:actuate=\"onRequest\" xlink:href=\"psysml:c1ea47d2-f15e-4f05-bf93-ec81669ca641\" xlink:show=\"new\" xlink:title=\"psysml:c1ea47d2-f15e-4f05-bf93-ec81669ca641\" xlink:type=\"simple\"><rect fill=\"#FFFFFF\" height=\"42.9375\" id=\"E5\" style=\"stroke: #383838; stroke-width: 1.5;\" width=\"100\" x=\"333\" y=\"131.5\"/><rect fill=\"#F8F8F8\" height=\"37.9375\" style=\"stroke: #383838; stroke-width: 1.5;\" width=\"100\" x=\"333\" y=\"131.5\"/><text fill=\"#000000\" font-family=\"sans-serif\" font-size=\"12\" font-style=\"italic\" lengthAdjust=\"spacingAndGlyphs\" textLength=\"93\" x=\"336.5\" y=\"147.6387\">«attribute def»</text><text fill=\"#000000\" font-family=\"sans-serif\" font-size=\"12\" lengthAdjust=\"spacingAndGlyphs\" textLength=\"8\" x=\"379\" y=\"161.6074\">B</text></a></g><!--MD5=[09b614a08d8cba4a07c9adeb5e0fee81]\n",
       "class E3--><a href=\"psysml:29e7d07c-e0ef-43b2-a175-0967043bb668\" target=\"_top\" title=\"psysml:29e7d07c-e0ef-43b2-a175-0967043bb668\" xlink:actuate=\"onRequest\" xlink:href=\"psysml:29e7d07c-e0ef-43b2-a175-0967043bb668\" xlink:show=\"new\" xlink:title=\"psysml:29e7d07c-e0ef-43b2-a175-0967043bb668\" xlink:type=\"simple\"><rect fill=\"#FFFFFF\" height=\"45.9375\" id=\"E3\" rx=\"10\" ry=\"10\" style=\"stroke: #383838; stroke-width: 1.5;\" width=\"71\" x=\"463.5\" y=\"313\"/><text fill=\"#000000\" font-family=\"sans-serif\" font-size=\"12\" font-style=\"italic\" lengthAdjust=\"spacingAndGlyphs\" textLength=\"69\" x=\"464.5\" y=\"329.1387\">«attribute»</text><text fill=\"#000000\" font-family=\"sans-serif\" font-size=\"12\" lengthAdjust=\"spacingAndGlyphs\" textLength=\"8\" x=\"495\" y=\"343.1074\">a</text><line style=\"stroke: #383838; stroke-width: 1.5;\" x1=\"464.5\" x2=\"533.5\" y1=\"350.9375\" y2=\"350.9375\"/></a><g id=\"E1.E4\"><a href=\"psysml:3556ece0-f840-441c-8cd2-5d7027a1a805\" target=\"_top\" title=\"psysml:3556ece0-f840-441c-8cd2-5d7027a1a805\" xlink:actuate=\"onRequest\" xlink:href=\"psysml:3556ece0-f840-441c-8cd2-5d7027a1a805\" xlink:show=\"new\" xlink:title=\"psysml:3556ece0-f840-441c-8cd2-5d7027a1a805\" xlink:type=\"simple\"><rect fill=\"#FFFFFF\" height=\"42.9375\" id=\"E4\" style=\"stroke: #383838; stroke-width: 1.5;\" width=\"71\" x=\"226.5\" y=\"131.5\"/><rect fill=\"#F8F8F8\" height=\"37.9375\" style=\"stroke: #383838; stroke-width: 1.5;\" width=\"71\" x=\"226.5\" y=\"131.5\"/><text fill=\"#000000\" font-family=\"sans-serif\" font-size=\"12\" font-style=\"italic\" lengthAdjust=\"spacingAndGlyphs\" textLength=\"64\" x=\"230\" y=\"147.6387\">«part def»</text><text fill=\"#000000\" font-family=\"sans-serif\" font-size=\"12\" lengthAdjust=\"spacingAndGlyphs\" textLength=\"9\" x=\"257.5\" y=\"161.6074\">Q</text></a></g><!--MD5=[2156ba9850f5573cc1fc38a6a4b2f02b]\n",
       "class E7--><a href=\"psysml:0400016e-70f0-4405-a71c-97e49bd60e65\" target=\"_top\" title=\"psysml:0400016e-70f0-4405-a71c-97e49bd60e65\" xlink:actuate=\"onRequest\" xlink:href=\"psysml:0400016e-70f0-4405-a71c-97e49bd60e65\" xlink:show=\"new\" xlink:title=\"psysml:0400016e-70f0-4405-a71c-97e49bd60e65\" xlink:type=\"simple\"><rect fill=\"#FFFFFF\" height=\"74.3828\" id=\"E7\" rx=\"10\" ry=\"10\" style=\"stroke: #383838; stroke-width: 1.5;\" width=\"63\" x=\"637.5\" y=\"116\"/><text fill=\"#000000\" font-family=\"sans-serif\" font-size=\"12\" lengthAdjust=\"spacingAndGlyphs\" textLength=\"23\" x=\"657.5\" y=\"132.1387\">x: Q</text><line style=\"stroke: #383838; stroke-width: 1.5;\" x1=\"638.5\" x2=\"699.5\" y1=\"139.9688\" y2=\"139.9688\"/><text fill=\"#000000\" font-family=\"sans-serif\" font-size=\"11\" lengthAdjust=\"spacingAndGlyphs\" textLength=\"23\" x=\"643.5\" y=\"170.9839\">b: B</text><text fill=\"#000000\" font-family=\"sans-serif\" font-size=\"11\" font-style=\"italic\" lengthAdjust=\"spacingAndGlyphs\" textLength=\"44\" x=\"643.5\" y=\"183.7886\">:&gt;&gt;P::a</text><line style=\"stroke: #383838; stroke-width: 1.0;\" x1=\"638.5\" x2=\"641.5\" y1=\"154.3711\" y2=\"154.3711\"/><text fill=\"#000000\" font-family=\"sans-serif\" font-size=\"11\" lengthAdjust=\"spacingAndGlyphs\" textLength=\"55\" x=\"641.5\" y=\"157.6792\">attributes</text><line style=\"stroke: #383838; stroke-width: 1.0;\" x1=\"696.5\" x2=\"699.5\" y1=\"154.3711\" y2=\"154.3711\"/></a><g id=\"E1.E8\"><a href=\"psysml:ac43cc4c-8177-486e-b5a5-e877f62f9bc5\" target=\"_top\" title=\"psysml:ac43cc4c-8177-486e-b5a5-e877f62f9bc5\" xlink:actuate=\"onRequest\" xlink:href=\"psysml:ac43cc4c-8177-486e-b5a5-e877f62f9bc5\" xlink:show=\"new\" xlink:title=\"psysml:ac43cc4c-8177-486e-b5a5-e877f62f9bc5\" xlink:type=\"simple\"><rect fill=\"#FFFFFF\" height=\"40\" id=\"E8\" rx=\"10\" ry=\"10\" style=\"stroke: #383838; stroke-width: 1.5;\" width=\"50\" x=\"141\" y=\"133\"/><rect fill=\"#F8F8F8\" height=\"23.9688\" rx=\"10\" ry=\"10\" style=\"stroke: #F8F8F8; stroke-width: 1.5;\" width=\"50\" x=\"141\" y=\"133\"/><rect fill=\"#F8F8F8\" height=\"10\" style=\"stroke: #F8F8F8; stroke-width: 1.5;\" width=\"50\" x=\"141\" y=\"146.9688\"/><rect fill=\"none\" height=\"40\" id=\"E8\" rx=\"10\" ry=\"10\" style=\"stroke: #383838; stroke-width: 1.5;\" width=\"50\" x=\"141\" y=\"133\"/><text fill=\"#000000\" font-family=\"sans-serif\" font-size=\"12\" lengthAdjust=\"spacingAndGlyphs\" textLength=\"25\" x=\"153.5\" y=\"149.1387\">q: Q</text></a></g><!--MD5=[96f4274e9e20536e775497830990834d]\n",
       "class E10--><a href=\"psysml:572dfe4e-6d7c-4ba8-94a3-d7ce0272bed9\" target=\"_top\" title=\"psysml:572dfe4e-6d7c-4ba8-94a3-d7ce0272bed9\" xlink:actuate=\"onRequest\" xlink:href=\"psysml:572dfe4e-6d7c-4ba8-94a3-d7ce0272bed9\" xlink:show=\"new\" xlink:title=\"psysml:572dfe4e-6d7c-4ba8-94a3-d7ce0272bed9\" xlink:type=\"simple\"><rect fill=\"#FFFFFF\" height=\"88.3516\" id=\"E10\" rx=\"10\" ry=\"10\" style=\"stroke: #383838; stroke-width: 1.5;\" width=\"77\" x=\"468.5\" y=\"109\"/><text fill=\"#000000\" font-family=\"sans-serif\" font-size=\"12\" font-style=\"italic\" lengthAdjust=\"spacingAndGlyphs\" textLength=\"75\" x=\"469.5\" y=\"125.1387\">«reference»</text><text fill=\"#000000\" font-family=\"sans-serif\" font-size=\"12\" lengthAdjust=\"spacingAndGlyphs\" textLength=\"8\" x=\"503\" y=\"139.1074\">q</text><line style=\"stroke: #383838; stroke-width: 1.5;\" x1=\"469.5\" x2=\"544.5\" y1=\"146.9375\" y2=\"146.9375\"/><text fill=\"#000000\" font-family=\"sans-serif\" font-size=\"11\" lengthAdjust=\"spacingAndGlyphs\" textLength=\"23\" x=\"474.5\" y=\"177.9526\">b: B</text><text fill=\"#000000\" font-family=\"sans-serif\" font-size=\"11\" font-style=\"italic\" lengthAdjust=\"spacingAndGlyphs\" textLength=\"44\" x=\"474.5\" y=\"190.7573\">:&gt;&gt;P::a</text><line style=\"stroke: #383838; stroke-width: 1.0;\" x1=\"469.5\" x2=\"479.5\" y1=\"161.3398\" y2=\"161.3398\"/><text fill=\"#000000\" font-family=\"sans-serif\" font-size=\"11\" lengthAdjust=\"spacingAndGlyphs\" textLength=\"55\" x=\"479.5\" y=\"164.6479\">attributes</text><line style=\"stroke: #383838; stroke-width: 1.0;\" x1=\"534.5\" x2=\"544.5\" y1=\"161.3398\" y2=\"161.3398\"/></a><g id=\"E1.E11\"><a href=\"psysml:983a8093-9810-4637-96cc-9ee8fb3d9cf5\" target=\"_top\" title=\"psysml:983a8093-9810-4637-96cc-9ee8fb3d9cf5\" xlink:actuate=\"onRequest\" xlink:href=\"psysml:983a8093-9810-4637-96cc-9ee8fb3d9cf5\" xlink:show=\"new\" xlink:title=\"psysml:983a8093-9810-4637-96cc-9ee8fb3d9cf5\" xlink:type=\"simple\"><rect fill=\"#FFFFFF\" height=\"40\" id=\"E11\" rx=\"10\" ry=\"10\" style=\"stroke: #383838; stroke-width: 1.5;\" width=\"73\" x=\"32.5\" y=\"133\"/><rect fill=\"#F8F8F8\" height=\"23.9688\" rx=\"10\" ry=\"10\" style=\"stroke: #F8F8F8; stroke-width: 1.5;\" width=\"73\" x=\"32.5\" y=\"133\"/><rect fill=\"#F8F8F8\" height=\"10\" style=\"stroke: #F8F8F8; stroke-width: 1.5;\" width=\"73\" x=\"32.5\" y=\"146.9688\"/><rect fill=\"none\" height=\"40\" id=\"E11\" rx=\"10\" ry=\"10\" style=\"stroke: #383838; stroke-width: 1.5;\" width=\"73\" x=\"32.5\" y=\"133\"/><text fill=\"#000000\" font-family=\"sans-serif\" font-size=\"12\" lengthAdjust=\"spacingAndGlyphs\" textLength=\"58\" x=\"38\" y=\"149.1387\">y: P=v::q;</text></a></g><!--MD5=[185131fc0dcab0a4505a2ebe144e961b]\n",
       "link E4 to E2--><a href=\"psysml:9e57242c-9184-4252-9565-bec20c63fdb8\" target=\"_top\" title=\"psysml:9e57242c-9184-4252-9565-bec20c63fdb8\" xlink:actuate=\"onRequest\" xlink:href=\"psysml:9e57242c-9184-4252-9565-bec20c63fdb8\" xlink:show=\"new\" xlink:title=\"psysml:9e57242c-9184-4252-9565-bec20c63fdb8\" xlink:type=\"simple\"><path d=\"M274.95,174.5 C285.29,190.29 300.57,212.32 316,230 C338.085,255.3 365.5625,281.1325 387.7738,300.8438 C398.8794,310.6994 408.6684,319.0247 415.8086,324.988 C416.7011,325.7334 417.5522,326.4419 418.3594,327.1119 C418.763,327.4468 419.1555,327.7722 419.5368,328.0877 C419.6321,328.1666 419.7267,328.2449 419.8206,328.3225 \" fill=\"none\" id=\"E4-&gt;E2\" style=\"stroke: #383838; stroke-width: 1.0;\"/><polygon fill=\"#FFFFFF\" points=\"419.8206,328.3225,409.6398,310.8196,400.7177,321.6083,419.8206,328.3225\" style=\"stroke: #383838; stroke-width: 1.0;\"/></a><!--MD5=[2351f337d6de0f557b50152ba70847b5]\n",
       "link E6 to E2--><a href=\"psysml:5cdbdbe7-d14c-45c9-a804-61f18115238e\" target=\"_top\" title=\"psysml:5cdbdbe7-d14c-45c9-a804-61f18115238e\" xlink:actuate=\"onRequest\" xlink:href=\"psysml:5cdbdbe7-d14c-45c9-a804-61f18115238e\" xlink:show=\"new\" xlink:title=\"psysml:5cdbdbe7-d14c-45c9-a804-61f18115238e\" xlink:type=\"simple\"><path d=\"M593.9695,184.2276 C593.7875,184.724 593.6019,185.2229 593.4125,185.7238 C587.3525,201.7525 577.485,219.9 562,230 C540.54,243.99 466.2,221.04 447,238 C442.9488,241.5788 439.6069,245.7455 436.8611,250.3013 C436.1747,251.4402 435.5255,252.6035 434.9118,253.788 \" fill=\"none\" id=\"E6-&gt;E2\" style=\"stroke: #383838; stroke-width: 1.0;\"/><polygon fill=\"#FFFFFF\" points=\"434.9118,253.788,449.8677,240.138,437.4371,233.6976,434.9118,253.788\" style=\"stroke: #383838; stroke-width: 1.0;\"/></a><!--MD5=[33fe48e107db6896cb0896a941716d9f]\n",
       "@startuml\r\n",
       "skinparam ranksep 10\r\n",
       "skinparam rectangle {\r\n",
       " backgroundColor<<block>> LightGreen\r\n",
       "}\r\n",
       " skinparam monochrome true\r\n",
       "skinparam classbackgroundcolor white\r\n",
       "skinparam shadowing false\r\n",
       "skinparam wrapWidth 300\r\n",
       "hide circle\r\n",
       "\r\n",
       "package \"VariabilityTest\" as E1  [[psysml:c9192910-aa77-45a9-9ae3-16f7deb9d13d ]]  {\r\n",
       "rec def \"P\" as E2  <<(T,blue)part def>> [[psysml:28b4b804-815b-4815-9c5e-e5b09d6ccef7 ]] {\r\n",
       "comp usage \"a\" as E3  <<(T,blue)attribute>> [[psysml:29e7d07c-e0ef-43b2-a175-0967043bb668 ]] {\r\n",
       "}\r\n",
       "}\r\n",
       "rec def \"Q\" as E4  <<(T,blue)part def>> [[psysml:3556ece0-f840-441c-8cd2-5d7027a1a805 ]] {\r\n",
       "}\r\n",
       "def \"B\" as E5  <<(T,blue)attribute def>> [[psysml:c1ea47d2-f15e-4f05-bf93-ec81669ca641 ]] \r\n",
       "rec def \"V\" as E6  <<(T,blue)part def>> [[psysml:735cd89a-e4b2-4dc5-b3d6-41534f400f39 ]] {\r\n",
       "comp usage \"x: Q\" as E7  [[psysml:0400016e-70f0-4405-a71c-97e49bd60e65 ]] {\r\n",
       "- - attributes - -\r\n",
       "b: B\\n//:>>P::a// \r\n",
       "}\r\n",
       "}\r\n",
       "rec usage \"q: Q\" as E8  [[psysml:ac43cc4c-8177-486e-b5a5-e877f62f9bc5 ]] {\r\n",
       "}\r\n",
       "rec usage \"v: P\" as E9  <<variation>> [[psysml:ce952eae-8bb1-4ad0-9f02-4c42d4c1d0c7 ]] {\r\n",
       "comp usage \"q\" as E10  <<(T,blue)reference>> [[psysml:572dfe4e-6d7c-4ba8-94a3-d7ce0272bed9 ]] {\r\n",
       "- - attributes - -\r\n",
       "b: B\\n//:>>P::a// \r\n",
       "}\r\n",
       "}\r\n",
       "rec usage \"y: P=v::q; \" as E11  [[psysml:983a8093-9810-4637-96cc-9ee8fb3d9cf5 ]] {\r\n",
       "}\r\n",
       "E4 - -|> E2 [[psysml:9e57242c-9184-4252-9565-bec20c63fdb8 ]] \r\n",
       "E6 - -|> E2 [[psysml:5cdbdbe7-d14c-45c9-a804-61f18115238e ]] \r\n",
       "}\r\n",
       "@enduml\r\n",
       "\n",
       "PlantUML version 1.2020.13(Sat Jun 13 12:26:38 UTC 2020)\n",
       "(EPL source distribution)\n",
       "Java Runtime: OpenJDK Runtime Environment\n",
       "JVM: OpenJDK 64-Bit Server VM\n",
       "Default Encoding: UTF-8\n",
       "Language: en\n",
       "Country: null\n",
       "--></g></svg>"
      ]
     },
     "execution_count": 5,
     "metadata": {},
     "output_type": "execute_result"
    }
   ],
   "source": [
    "%viz --style=\"COMPTREE\" --view=\"Interconnection\" \"VariabilityTest\""
   ]
  },
  {
   "cell_type": "code",
   "execution_count": 6,
   "id": "1378d165",
   "metadata": {
    "execution": {
     "iopub.execute_input": "2021-05-28T10:47:54.049436Z",
     "iopub.status.busy": "2021-05-28T10:47:54.048698Z",
     "iopub.status.idle": "2021-05-28T10:47:54.055838Z",
     "shell.execute_reply": "2021-05-28T10:47:54.056194Z"
    }
   },
   "outputs": [
    {
     "data": {
      "image/svg+xml": [
       "<?xml version=\"1.0\" encoding=\"UTF-8\" standalone=\"no\"?><svg xmlns=\"http://www.w3.org/2000/svg\" xmlns:xlink=\"http://www.w3.org/1999/xlink\" contentScriptType=\"application/ecmascript\" contentStyleType=\"text/css\" height=\"12px\" preserveAspectRatio=\"none\" style=\"width:12px;height:12px;\" version=\"1.1\" viewBox=\"0 0 12 12\" width=\"12px\" zoomAndPan=\"magnify\"><defs/><g><!--MD5=[655b888544ca4751ea36af1068543f84]\n",
       "@startuml\r\n",
       "skinparam ranksep 8\r\n",
       " skinparam monochrome true\r\n",
       "skinparam classbackgroundcolor white\r\n",
       "skinparam shadowing false\r\n",
       "skinparam wrapWidth 300\r\n",
       "hide circle\r\n",
       "\r\n",
       "@enduml\r\n",
       "\n",
       "PlantUML version 1.2020.13(Sat Jun 13 12:26:38 UTC 2020)\n",
       "(EPL source distribution)\n",
       "Java Runtime: OpenJDK Runtime Environment\n",
       "JVM: OpenJDK 64-Bit Server VM\n",
       "Default Encoding: UTF-8\n",
       "Language: en\n",
       "Country: null\n",
       "--></g></svg>"
      ]
     },
     "execution_count": 6,
     "metadata": {},
     "output_type": "execute_result"
    }
   ],
   "source": [
    "%viz --style=\"COMPTREE\" --view=\"Action\" \"VariabilityTest\""
   ]
  },
  {
   "cell_type": "code",
   "execution_count": 7,
   "id": "48015527",
   "metadata": {
    "execution": {
     "iopub.execute_input": "2021-05-28T10:47:54.108039Z",
     "iopub.status.busy": "2021-05-28T10:47:54.107492Z",
     "iopub.status.idle": "2021-05-28T10:47:54.211187Z",
     "shell.execute_reply": "2021-05-28T10:47:54.209650Z"
    }
   },
   "outputs": [
    {
     "data": {
      "image/svg+xml": [
       "<?xml version=\"1.0\" encoding=\"UTF-8\" standalone=\"no\"?><svg xmlns=\"http://www.w3.org/2000/svg\" xmlns:xlink=\"http://www.w3.org/1999/xlink\" contentScriptType=\"application/ecmascript\" contentStyleType=\"text/css\" height=\"401px\" preserveAspectRatio=\"none\" style=\"width:419px;height:401px;\" version=\"1.1\" viewBox=\"0 0 419 401\" width=\"419px\" zoomAndPan=\"magnify\"><defs/><g><!--MD5=[fbc87193dbaf4d95561dea2c320d4a47]\n",
       "cluster E1--><a href=\"psysml:c9192910-aa77-45a9-9ae3-16f7deb9d13d\" target=\"_top\" title=\"psysml:c9192910-aa77-45a9-9ae3-16f7deb9d13d\" xlink:actuate=\"onRequest\" xlink:href=\"psysml:c9192910-aa77-45a9-9ae3-16f7deb9d13d\" xlink:show=\"new\" xlink:title=\"psysml:c9192910-aa77-45a9-9ae3-16f7deb9d13d\" xlink:type=\"simple\"><polygon fill=\"#FFFFFF\" points=\"16,6,134,6,141,28.2969,397,28.2969,397,389,16,389,16,6\" style=\"stroke: #000000; stroke-width: 1.5;\"/><line style=\"stroke: #000000; stroke-width: 1.5;\" x1=\"16\" x2=\"141\" y1=\"28.2969\" y2=\"28.2969\"/><text fill=\"#000000\" font-family=\"sans-serif\" font-size=\"14\" font-weight=\"bold\" lengthAdjust=\"spacingAndGlyphs\" textLength=\"112\" x=\"20\" y=\"20.9951\">VariabilityTest</text></a><!--MD5=[b4997ac47864f28c2f74865a473b2911]\n",
       "class E2--><a href=\"psysml:28b4b804-815b-4815-9c5e-e5b09d6ccef7\" target=\"_top\" title=\"psysml:28b4b804-815b-4815-9c5e-e5b09d6ccef7\" xlink:actuate=\"onRequest\" xlink:href=\"psysml:28b4b804-815b-4815-9c5e-e5b09d6ccef7\" xlink:show=\"new\" xlink:title=\"psysml:28b4b804-815b-4815-9c5e-e5b09d6ccef7\" xlink:type=\"simple\"><rect fill=\"#FFFFFF\" height=\"75.5469\" id=\"E2\" style=\"stroke: #383838; stroke-width: 1.5;\" width=\"66\" x=\"166\" y=\"291\"/><text fill=\"#000000\" font-family=\"sans-serif\" font-size=\"12\" font-style=\"italic\" lengthAdjust=\"spacingAndGlyphs\" textLength=\"64\" x=\"167\" y=\"307.1387\">«part def»</text><text fill=\"#000000\" font-family=\"sans-serif\" font-size=\"12\" lengthAdjust=\"spacingAndGlyphs\" textLength=\"8\" x=\"195\" y=\"321.1074\">P</text><line style=\"stroke: #383838; stroke-width: 1.5;\" x1=\"167\" x2=\"231\" y1=\"328.9375\" y2=\"328.9375\"/><text fill=\"#000000\" font-family=\"sans-serif\" font-size=\"11\" lengthAdjust=\"spacingAndGlyphs\" textLength=\"7\" x=\"172\" y=\"359.9526\">a</text><line style=\"stroke: #383838; stroke-width: 1.0;\" x1=\"167\" x2=\"171.5\" y1=\"343.3398\" y2=\"343.3398\"/><text fill=\"#000000\" font-family=\"sans-serif\" font-size=\"11\" lengthAdjust=\"spacingAndGlyphs\" textLength=\"55\" x=\"171.5\" y=\"346.6479\">attributes</text><line style=\"stroke: #383838; stroke-width: 1.0;\" x1=\"226.5\" x2=\"231\" y1=\"343.3398\" y2=\"343.3398\"/></a><!--MD5=[09b614a08d8cba4a07c9adeb5e0fee81]\n",
       "class E3--><a href=\"psysml:3556ece0-f840-441c-8cd2-5d7027a1a805\" target=\"_top\" title=\"psysml:3556ece0-f840-441c-8cd2-5d7027a1a805\" xlink:actuate=\"onRequest\" xlink:href=\"psysml:3556ece0-f840-441c-8cd2-5d7027a1a805\" xlink:show=\"new\" xlink:title=\"psysml:3556ece0-f840-441c-8cd2-5d7027a1a805\" xlink:type=\"simple\"><rect fill=\"#FFFFFF\" height=\"45.9375\" id=\"E3\" style=\"stroke: #383838; stroke-width: 1.5;\" width=\"66\" x=\"137\" y=\"155\"/><text fill=\"#000000\" font-family=\"sans-serif\" font-size=\"12\" font-style=\"italic\" lengthAdjust=\"spacingAndGlyphs\" textLength=\"64\" x=\"138\" y=\"171.1387\">«part def»</text><text fill=\"#000000\" font-family=\"sans-serif\" font-size=\"12\" lengthAdjust=\"spacingAndGlyphs\" textLength=\"9\" x=\"165.5\" y=\"185.1074\">Q</text><line style=\"stroke: #383838; stroke-width: 1.5;\" x1=\"138\" x2=\"202\" y1=\"192.9375\" y2=\"192.9375\"/></a><!--MD5=[ebbe1d658d1005bcc118a6aa81145e00]\n",
       "class E4--><a href=\"psysml:c1ea47d2-f15e-4f05-bf93-ec81669ca641\" target=\"_top\" title=\"psysml:c1ea47d2-f15e-4f05-bf93-ec81669ca641\" xlink:actuate=\"onRequest\" xlink:href=\"psysml:c1ea47d2-f15e-4f05-bf93-ec81669ca641\" xlink:show=\"new\" xlink:title=\"psysml:c1ea47d2-f15e-4f05-bf93-ec81669ca641\" xlink:type=\"simple\"><rect fill=\"#FFFFFF\" height=\"45.9375\" id=\"E4\" style=\"stroke: #383838; stroke-width: 1.5;\" width=\"95\" x=\"255.5\" y=\"41\"/><text fill=\"#000000\" font-family=\"sans-serif\" font-size=\"12\" font-style=\"italic\" lengthAdjust=\"spacingAndGlyphs\" textLength=\"93\" x=\"256.5\" y=\"57.1387\">«attribute def»</text><text fill=\"#000000\" font-family=\"sans-serif\" font-size=\"12\" lengthAdjust=\"spacingAndGlyphs\" textLength=\"8\" x=\"299\" y=\"71.1074\">B</text><line style=\"stroke: #383838; stroke-width: 1.5;\" x1=\"256.5\" x2=\"349.5\" y1=\"78.9375\" y2=\"78.9375\"/></a><!--MD5=[270fce915f116d4de14055a7c1d9a0f3]\n",
       "class E5--><a href=\"psysml:735cd89a-e4b2-4dc5-b3d6-41534f400f39\" target=\"_top\" title=\"psysml:735cd89a-e4b2-4dc5-b3d6-41534f400f39\" xlink:actuate=\"onRequest\" xlink:href=\"psysml:735cd89a-e4b2-4dc5-b3d6-41534f400f39\" xlink:show=\"new\" xlink:title=\"psysml:735cd89a-e4b2-4dc5-b3d6-41534f400f39\" xlink:type=\"simple\"><rect fill=\"#FFFFFF\" height=\"45.9375\" id=\"E5\" style=\"stroke: #383838; stroke-width: 1.5;\" width=\"66\" x=\"315\" y=\"155\"/><text fill=\"#000000\" font-family=\"sans-serif\" font-size=\"12\" font-style=\"italic\" lengthAdjust=\"spacingAndGlyphs\" textLength=\"64\" x=\"316\" y=\"171.1387\">«part def»</text><text fill=\"#000000\" font-family=\"sans-serif\" font-size=\"12\" lengthAdjust=\"spacingAndGlyphs\" textLength=\"8\" x=\"344\" y=\"185.1074\">V</text><line style=\"stroke: #383838; stroke-width: 1.5;\" x1=\"316\" x2=\"380\" y1=\"192.9375\" y2=\"192.9375\"/></a><!--MD5=[60a26617385b1d2d0262a64233df1f8d]\n",
       "class E6--><a href=\"psysml:0400016e-70f0-4405-a71c-97e49bd60e65\" target=\"_top\" title=\"psysml:0400016e-70f0-4405-a71c-97e49bd60e65\" xlink:actuate=\"onRequest\" xlink:href=\"psysml:0400016e-70f0-4405-a71c-97e49bd60e65\" xlink:show=\"new\" xlink:title=\"psysml:0400016e-70f0-4405-a71c-97e49bd60e65\" xlink:type=\"simple\"><rect fill=\"#FFFFFF\" height=\"88.3516\" id=\"E6\" rx=\"10\" ry=\"10\" style=\"stroke: #383838; stroke-width: 1.5;\" width=\"63\" x=\"287.5\" y=\"285\"/><text fill=\"#000000\" font-family=\"sans-serif\" font-size=\"12\" font-style=\"italic\" lengthAdjust=\"spacingAndGlyphs\" textLength=\"40\" x=\"299\" y=\"301.1387\">«part»</text><text fill=\"#000000\" font-family=\"sans-serif\" font-size=\"12\" lengthAdjust=\"spacingAndGlyphs\" textLength=\"23\" x=\"307.5\" y=\"315.1074\">x: Q</text><line style=\"stroke: #383838; stroke-width: 1.5;\" x1=\"288.5\" x2=\"349.5\" y1=\"322.9375\" y2=\"322.9375\"/><text fill=\"#000000\" font-family=\"sans-serif\" font-size=\"11\" lengthAdjust=\"spacingAndGlyphs\" textLength=\"23\" x=\"293.5\" y=\"353.9526\">b: B</text><text fill=\"#000000\" font-family=\"sans-serif\" font-size=\"11\" font-style=\"italic\" lengthAdjust=\"spacingAndGlyphs\" textLength=\"44\" x=\"293.5\" y=\"366.7573\">:&gt;&gt;P::a</text><line style=\"stroke: #383838; stroke-width: 1.0;\" x1=\"288.5\" x2=\"291.5\" y1=\"337.3398\" y2=\"337.3398\"/><text fill=\"#000000\" font-family=\"sans-serif\" font-size=\"11\" lengthAdjust=\"spacingAndGlyphs\" textLength=\"55\" x=\"291.5\" y=\"340.6479\">attributes</text><line style=\"stroke: #383838; stroke-width: 1.0;\" x1=\"346.5\" x2=\"349.5\" y1=\"337.3398\" y2=\"337.3398\"/></a><!--MD5=[2156ba9850f5573cc1fc38a6a4b2f02b]\n",
       "class E7--><a href=\"psysml:ac43cc4c-8177-486e-b5a5-e877f62f9bc5\" target=\"_top\" title=\"psysml:ac43cc4c-8177-486e-b5a5-e877f62f9bc5\" xlink:actuate=\"onRequest\" xlink:href=\"psysml:ac43cc4c-8177-486e-b5a5-e877f62f9bc5\" xlink:show=\"new\" xlink:title=\"psysml:ac43cc4c-8177-486e-b5a5-e877f62f9bc5\" xlink:type=\"simple\"><rect fill=\"#FFFFFF\" height=\"45.9375\" id=\"E7\" rx=\"10\" ry=\"10\" style=\"stroke: #383838; stroke-width: 1.5;\" width=\"42\" x=\"149\" y=\"41\"/><text fill=\"#000000\" font-family=\"sans-serif\" font-size=\"12\" font-style=\"italic\" lengthAdjust=\"spacingAndGlyphs\" textLength=\"40\" x=\"150\" y=\"57.1387\">«part»</text><text fill=\"#000000\" font-family=\"sans-serif\" font-size=\"12\" lengthAdjust=\"spacingAndGlyphs\" textLength=\"25\" x=\"157.5\" y=\"71.1074\">q: Q</text><line style=\"stroke: #383838; stroke-width: 1.5;\" x1=\"150\" x2=\"190\" y1=\"78.9375\" y2=\"78.9375\"/></a><!--MD5=[b9389687b975829384b498ac4b7476b2]\n",
       "class E8--><a href=\"psysml:ce952eae-8bb1-4ad0-9f02-4c42d4c1d0c7\" target=\"_top\" title=\"psysml:ce952eae-8bb1-4ad0-9f02-4c42d4c1d0c7\" xlink:actuate=\"onRequest\" xlink:href=\"psysml:ce952eae-8bb1-4ad0-9f02-4c42d4c1d0c7\" xlink:show=\"new\" xlink:title=\"psysml:ce952eae-8bb1-4ad0-9f02-4c42d4c1d0c7\" xlink:type=\"simple\"><rect fill=\"#FFFFFF\" height=\"59.9063\" id=\"E8\" rx=\"10\" ry=\"10\" style=\"stroke: #383838; stroke-width: 1.5;\" width=\"70\" x=\"32\" y=\"148\"/><text fill=\"#000000\" font-family=\"sans-serif\" font-size=\"12\" font-style=\"italic\" lengthAdjust=\"spacingAndGlyphs\" textLength=\"68\" x=\"33\" y=\"164.1387\">«variation»</text><text fill=\"#000000\" font-family=\"sans-serif\" font-size=\"12\" font-style=\"italic\" lengthAdjust=\"spacingAndGlyphs\" textLength=\"40\" x=\"47\" y=\"178.1074\">«part»</text><text fill=\"#000000\" font-family=\"sans-serif\" font-size=\"12\" lengthAdjust=\"spacingAndGlyphs\" textLength=\"22\" x=\"56\" y=\"192.0762\">v: P</text><line style=\"stroke: #383838; stroke-width: 1.5;\" x1=\"33\" x2=\"101\" y1=\"199.9063\" y2=\"199.9063\"/></a><!--MD5=[fd4143e9d270a159db93a4ea2a975926]\n",
       "class E9--><a href=\"psysml:572dfe4e-6d7c-4ba8-94a3-d7ce0272bed9\" target=\"_top\" title=\"psysml:572dfe4e-6d7c-4ba8-94a3-d7ce0272bed9\" xlink:actuate=\"onRequest\" xlink:href=\"psysml:572dfe4e-6d7c-4ba8-94a3-d7ce0272bed9\" xlink:show=\"new\" xlink:title=\"psysml:572dfe4e-6d7c-4ba8-94a3-d7ce0272bed9\" xlink:type=\"simple\"><rect fill=\"#FFFFFF\" height=\"88.3516\" id=\"E9\" rx=\"10\" ry=\"10\" style=\"stroke: #383838; stroke-width: 1.5;\" width=\"77\" x=\"32.5\" y=\"285\"/><text fill=\"#000000\" font-family=\"sans-serif\" font-size=\"12\" font-style=\"italic\" lengthAdjust=\"spacingAndGlyphs\" textLength=\"75\" x=\"33.5\" y=\"301.1387\">«reference»</text><text fill=\"#000000\" font-family=\"sans-serif\" font-size=\"12\" lengthAdjust=\"spacingAndGlyphs\" textLength=\"8\" x=\"67\" y=\"315.1074\">q</text><line style=\"stroke: #383838; stroke-width: 1.5;\" x1=\"33.5\" x2=\"108.5\" y1=\"322.9375\" y2=\"322.9375\"/><text fill=\"#000000\" font-family=\"sans-serif\" font-size=\"11\" lengthAdjust=\"spacingAndGlyphs\" textLength=\"23\" x=\"38.5\" y=\"353.9526\">b: B</text><text fill=\"#000000\" font-family=\"sans-serif\" font-size=\"11\" font-style=\"italic\" lengthAdjust=\"spacingAndGlyphs\" textLength=\"44\" x=\"38.5\" y=\"366.7573\">:&gt;&gt;P::a</text><line style=\"stroke: #383838; stroke-width: 1.0;\" x1=\"33.5\" x2=\"43.5\" y1=\"337.3398\" y2=\"337.3398\"/><text fill=\"#000000\" font-family=\"sans-serif\" font-size=\"11\" lengthAdjust=\"spacingAndGlyphs\" textLength=\"55\" x=\"43.5\" y=\"340.6479\">attributes</text><line style=\"stroke: #383838; stroke-width: 1.0;\" x1=\"98.5\" x2=\"108.5\" y1=\"337.3398\" y2=\"337.3398\"/></a><!--MD5=[96f4274e9e20536e775497830990834d]\n",
       "class E10--><a href=\"psysml:983a8093-9810-4637-96cc-9ee8fb3d9cf5\" target=\"_top\" title=\"psysml:983a8093-9810-4637-96cc-9ee8fb3d9cf5\" xlink:actuate=\"onRequest\" xlink:href=\"psysml:983a8093-9810-4637-96cc-9ee8fb3d9cf5\" xlink:show=\"new\" xlink:title=\"psysml:983a8093-9810-4637-96cc-9ee8fb3d9cf5\" xlink:type=\"simple\"><rect fill=\"#FFFFFF\" height=\"45.9375\" id=\"E10\" rx=\"10\" ry=\"10\" style=\"stroke: #383838; stroke-width: 1.5;\" width=\"42\" x=\"238\" y=\"155\"/><text fill=\"#000000\" font-family=\"sans-serif\" font-size=\"12\" font-style=\"italic\" lengthAdjust=\"spacingAndGlyphs\" textLength=\"40\" x=\"239\" y=\"171.1387\">«part»</text><text fill=\"#000000\" font-family=\"sans-serif\" font-size=\"12\" lengthAdjust=\"spacingAndGlyphs\" textLength=\"22\" x=\"248\" y=\"185.1074\">y: P</text><line style=\"stroke: #383838; stroke-width: 1.5;\" x1=\"239\" x2=\"279\" y1=\"192.9375\" y2=\"192.9375\"/></a><!--MD5=[05d275557350bfb9b23a4ef7222b4c39]\n",
       "link E3 to E2--><a href=\"psysml:9e57242c-9184-4252-9565-bec20c63fdb8\" target=\"_top\" title=\"psysml:9e57242c-9184-4252-9565-bec20c63fdb8\" xlink:actuate=\"onRequest\" xlink:href=\"psysml:9e57242c-9184-4252-9565-bec20c63fdb8\" xlink:show=\"new\" xlink:title=\"psysml:9e57242c-9184-4252-9565-bec20c63fdb8\" xlink:type=\"simple\"><path d=\"M174.34,201.31 C177.92,219.67 183.15,246.54 187.87,270.81 \" fill=\"none\" id=\"E3-&gt;E2\" style=\"stroke: #383838; stroke-width: 1.0;\"/><polygon fill=\"none\" points=\"194.8,269.8,191.75,290.77,181.06,272.47,194.8,269.8\" style=\"stroke: #383838; stroke-width: 1.0;\"/></a><!--MD5=[15ebcb19ae302d9b601edb458606d402]\n",
       "link E5 to E2--><a href=\"psysml:5cdbdbe7-d14c-45c9-a804-61f18115238e\" target=\"_top\" title=\"psysml:5cdbdbe7-d14c-45c9-a804-61f18115238e\" xlink:actuate=\"onRequest\" xlink:href=\"psysml:5cdbdbe7-d14c-45c9-a804-61f18115238e\" xlink:show=\"new\" xlink:title=\"psysml:5cdbdbe7-d14c-45c9-a804-61f18115238e\" xlink:type=\"simple\"><path d=\"M325.69,201.31 C304.9,222.1 273.2,253.8 246.71,280.29 \" fill=\"none\" id=\"E5-&gt;E2\" style=\"stroke: #383838; stroke-width: 1.0;\"/><polygon fill=\"none\" points=\"251.33,285.57,232.24,294.76,241.43,275.67,251.33,285.57\" style=\"stroke: #383838; stroke-width: 1.0;\"/></a><!--MD5=[9120cf2e5df3bff93db8f754bbbc09b4]\n",
       "link E5 to E6--><a href=\"psysml:052c6ce9-d9db-4da6-90c4-ac16555550ac\" target=\"_top\" title=\"psysml:052c6ce9-d9db-4da6-90c4-ac16555550ac\" xlink:actuate=\"onRequest\" xlink:href=\"psysml:052c6ce9-d9db-4da6-90c4-ac16555550ac\" xlink:show=\"new\" xlink:title=\"psysml:052c6ce9-d9db-4da6-90c4-ac16555550ac\" xlink:type=\"simple\"><path d=\"M341.72,211.26 C338.1,229.85 333.47,253.68 329.32,274.95 \" fill=\"none\" id=\"E5-E6\" style=\"stroke: #383838; stroke-width: 1.0;\"/><polygon fill=\"#383838\" points=\"327.4,284.84,331.8761,277.5623,325.987,276.4136,327.4,284.84\" style=\"stroke: #383838; stroke-width: 1.0;\"/><path d=\"M334.7699,202.7122 A9,9 0 0 0 351.3715 205.9503\" fill=\"none\" style=\"stroke: #383838; stroke-width: 1.5;\"/><text fill=\"#000000\" font-family=\"sans-serif\" font-size=\"13\" lengthAdjust=\"spacingAndGlyphs\" textLength=\"60\" x=\"337\" y=\"251.0669\">«variant»</text></a><!--MD5=[14ccda38c055a5c0da953d572bc50960]\n",
       "link E7 to E3--><a href=\"psysml:648145d1-1ec9-42fc-8307-fa8910350658\" target=\"_top\" title=\"psysml:648145d1-1ec9-42fc-8307-fa8910350658\" xlink:actuate=\"onRequest\" xlink:href=\"psysml:648145d1-1ec9-42fc-8307-fa8910350658\" xlink:show=\"new\" xlink:title=\"psysml:648145d1-1ec9-42fc-8307-fa8910350658\" xlink:type=\"simple\"><path d=\"M170,87.13 C170,100.7 170,118.53 170,134.73 \" fill=\"none\" id=\"E7-&gt;E3\" style=\"stroke: #383838; stroke-width: 1.0;\"/><polygon fill=\"#FFFFFF\" points=\"170,154.92,163,135.92,177,135.92,170,154.92\" style=\"stroke: #383838; stroke-width: 1.0;\"/><ellipse cx=\"165\" cy=\"130.22\" fill=\"#383838\" rx=\"2\" ry=\"2\" style=\"stroke: #383838; stroke-width: 1.0;\"/><ellipse cx=\"175\" cy=\"130.22\" fill=\"#383838\" rx=\"2\" ry=\"2\" style=\"stroke: #383838; stroke-width: 1.0;\"/></a><!--MD5=[f1f3f9f2fc535e6147756cb86a7f2e32]\n",
       "link E8 to E2--><a href=\"psysml:19cda0c9-2775-4d9d-8cd8-191c5ad52b34\" target=\"_top\" title=\"psysml:19cda0c9-2775-4d9d-8cd8-191c5ad52b34\" xlink:actuate=\"onRequest\" xlink:href=\"psysml:19cda0c9-2775-4d9d-8cd8-191c5ad52b34\" xlink:show=\"new\" xlink:title=\"psysml:19cda0c9-2775-4d9d-8cd8-191c5ad52b34\" xlink:type=\"simple\"><path d=\"M102.17,204.39 C114.52,214.17 128.04,225.9 139,238 C148.86,248.88 158.29,261.5 166.63,273.79 \" fill=\"none\" id=\"E8-&gt;E2\" style=\"stroke: #383838; stroke-width: 1.0;\"/><polygon fill=\"#FFFFFF\" points=\"177.64,290.73,161.4168,278.6135,173.1555,270.9844,177.64,290.73\" style=\"stroke: #383838; stroke-width: 1.0;\"/><ellipse cx=\"159.9876\" cy=\"272.7443\" fill=\"#383838\" rx=\"2\" ry=\"2\" style=\"stroke: #383838; stroke-width: 1.0;\"/><ellipse cx=\"168.3724\" cy=\"267.2949\" fill=\"#383838\" rx=\"2\" ry=\"2\" style=\"stroke: #383838; stroke-width: 1.0;\"/></a><!--MD5=[ed10624c06dd9a4fa49ccf290e8b16a8]\n",
       "link E8 to E9--><a href=\"psysml:28d39c7a-e0c7-42b0-858e-2cb4e488f108\" target=\"_top\" title=\"psysml:28d39c7a-e0c7-42b0-858e-2cb4e488f108\" xlink:actuate=\"onRequest\" xlink:href=\"psysml:28d39c7a-e0c7-42b0-858e-2cb4e488f108\" xlink:show=\"new\" xlink:title=\"psysml:28d39c7a-e0c7-42b0-858e-2cb4e488f108\" xlink:type=\"simple\"><path d=\"M68.06,218.32 C68.52,235.6 69.07,256.15 69.57,274.77 \" fill=\"none\" id=\"E8-E9\" style=\"stroke: #383838; stroke-width: 1.0;\"/><polygon fill=\"#383838\" points=\"69.84,284.88,72.6331,276.8054,66.6351,276.9599,69.84,284.88\" style=\"stroke: #383838; stroke-width: 1.0;\"/><path d=\"M59.4094,211.3865 A9,9 0 0 0 76.3176 210.9276\" fill=\"none\" style=\"stroke: #383838; stroke-width: 1.5;\"/><text fill=\"#000000\" font-family=\"sans-serif\" font-size=\"13\" lengthAdjust=\"spacingAndGlyphs\" textLength=\"60\" x=\"70\" y=\"251.0669\">«variant»</text></a><!--MD5=[0f36bececdf0dff6e600d6f64214b0f1]\n",
       "link E10 to E2--><a href=\"psysml:8cfcd01d-a74f-43be-a680-d41b6ee6accc\" target=\"_top\" title=\"psysml:8cfcd01d-a74f-43be-a680-d41b6ee6accc\" xlink:actuate=\"onRequest\" xlink:href=\"psysml:8cfcd01d-a74f-43be-a680-d41b6ee6accc\" xlink:show=\"new\" xlink:title=\"psysml:8cfcd01d-a74f-43be-a680-d41b6ee6accc\" xlink:type=\"simple\"><path d=\"M250.02,201.31 C242.51,219.95 231.48,247.35 221.59,271.91 \" fill=\"none\" id=\"E10-&gt;E2\" style=\"stroke: #383838; stroke-width: 1.0;\"/><polygon fill=\"#FFFFFF\" points=\"213.99,290.77,214.5927,270.5305,227.5796,275.7593,213.99,290.77\" style=\"stroke: #383838; stroke-width: 1.0;\"/><ellipse cx=\"218.5768\" cy=\"265.9899\" fill=\"#383838\" rx=\"2\" ry=\"2\" style=\"stroke: #383838; stroke-width: 1.0;\"/><ellipse cx=\"227.8532\" cy=\"269.7248\" fill=\"#383838\" rx=\"2\" ry=\"2\" style=\"stroke: #383838; stroke-width: 1.0;\"/></a><!--MD5=[924dbd7dfcf3683bf4db00389314ea67]\n",
       "@startuml\r\n",
       " skinparam monochrome true\r\n",
       "skinparam classbackgroundcolor white\r\n",
       "skinparam shadowing false\r\n",
       "skinparam wrapWidth 300\r\n",
       "hide circle\r\n",
       "\r\n",
       "package \"VariabilityTest\" as E1  [[psysml:c9192910-aa77-45a9-9ae3-16f7deb9d13d ]]  {\r\n",
       "comp def \"P\" as E2  <<(T,blue)part def>> [[psysml:28b4b804-815b-4815-9c5e-e5b09d6ccef7 ]] {\r\n",
       "- - attributes - -\r\n",
       "a\r\n",
       "}\r\n",
       "comp def \"Q\" as E3  <<(T,blue)part def>> [[psysml:3556ece0-f840-441c-8cd2-5d7027a1a805 ]] {\r\n",
       "}\r\n",
       "comp def \"B\" as E4  <<(T,blue)attribute def>> [[psysml:c1ea47d2-f15e-4f05-bf93-ec81669ca641 ]] {\r\n",
       "}\r\n",
       "comp def \"V\" as E5  <<(T,blue)part def>> [[psysml:735cd89a-e4b2-4dc5-b3d6-41534f400f39 ]] {\r\n",
       "}\r\n",
       "comp usage \"x: Q\" as E6  <<(T,blue)part>> [[psysml:0400016e-70f0-4405-a71c-97e49bd60e65 ]] {\r\n",
       "- - attributes - -\r\n",
       "b: B\\n//:>>P::a// \r\n",
       "}\r\n",
       "comp usage \"q: Q\" as E7  <<(T,blue)part>> [[psysml:ac43cc4c-8177-486e-b5a5-e877f62f9bc5 ]] {\r\n",
       "}\r\n",
       "comp usage \"v: P\" as E8  <<variation>>\\n <<(T,blue)part>> [[psysml:ce952eae-8bb1-4ad0-9f02-4c42d4c1d0c7 ]] {\r\n",
       "}\r\n",
       "comp usage \"q\" as E9  <<(T,blue)reference>> [[psysml:572dfe4e-6d7c-4ba8-94a3-d7ce0272bed9 ]] {\r\n",
       "- - attributes - -\r\n",
       "b: B\\n//:>>P::a// \r\n",
       "}\r\n",
       "comp usage \"y: P\" as E10  <<(T,blue)part>> [[psysml:983a8093-9810-4637-96cc-9ee8fb3d9cf5 ]] {\r\n",
       "}\r\n",
       "E3 - -|> E2 [[psysml:9e57242c-9184-4252-9565-bec20c63fdb8 ]] \r\n",
       "E5 - -|> E2 [[psysml:5cdbdbe7-d14c-45c9-a804-61f18115238e ]] \r\n",
       "E5 )- ->> E6 [[psysml:052c6ce9-d9db-4da6-90c4-ac16555550ac ]] : <<variant>>\r\n",
       "E7 - -:|> E3 [[psysml:648145d1-1ec9-42fc-8307-fa8910350658 ]] \r\n",
       "E8 - -:|> E2 [[psysml:19cda0c9-2775-4d9d-8cd8-191c5ad52b34 ]] \r\n",
       "E8 )- ->> E9 [[psysml:28d39c7a-e0c7-42b0-858e-2cb4e488f108 ]] : <<variant>>\r\n",
       "E10 - -:|> E2 [[psysml:8cfcd01d-a74f-43be-a680-d41b6ee6accc ]] \r\n",
       "}\r\n",
       "@enduml\r\n",
       "\n",
       "PlantUML version 1.2020.13(Sat Jun 13 12:26:38 UTC 2020)\n",
       "(EPL source distribution)\n",
       "Java Runtime: OpenJDK Runtime Environment\n",
       "JVM: OpenJDK 64-Bit Server VM\n",
       "Default Encoding: UTF-8\n",
       "Language: en\n",
       "Country: null\n",
       "--></g></svg>"
      ]
     },
     "execution_count": 7,
     "metadata": {},
     "output_type": "execute_result"
    }
   ],
   "source": [
    "%viz --style=\"COMPTREE\" --view=\"Sequence\" \"VariabilityTest\""
   ]
  },
  {
   "cell_type": "code",
   "execution_count": 8,
   "id": "6889fe82",
   "metadata": {
    "execution": {
     "iopub.execute_input": "2021-05-28T10:47:54.261687Z",
     "iopub.status.busy": "2021-05-28T10:47:54.261302Z",
     "iopub.status.idle": "2021-05-28T10:47:54.357487Z",
     "shell.execute_reply": "2021-05-28T10:47:54.357096Z"
    }
   },
   "outputs": [
    {
     "data": {
      "image/svg+xml": [
       "<?xml version=\"1.0\" encoding=\"UTF-8\" standalone=\"no\"?><svg xmlns=\"http://www.w3.org/2000/svg\" xmlns:xlink=\"http://www.w3.org/1999/xlink\" contentScriptType=\"application/ecmascript\" contentStyleType=\"text/css\" height=\"401px\" preserveAspectRatio=\"none\" style=\"width:419px;height:401px;\" version=\"1.1\" viewBox=\"0 0 419 401\" width=\"419px\" zoomAndPan=\"magnify\"><defs/><g><!--MD5=[fbc87193dbaf4d95561dea2c320d4a47]\n",
       "cluster E1--><a href=\"psysml:c9192910-aa77-45a9-9ae3-16f7deb9d13d\" target=\"_top\" title=\"psysml:c9192910-aa77-45a9-9ae3-16f7deb9d13d\" xlink:actuate=\"onRequest\" xlink:href=\"psysml:c9192910-aa77-45a9-9ae3-16f7deb9d13d\" xlink:show=\"new\" xlink:title=\"psysml:c9192910-aa77-45a9-9ae3-16f7deb9d13d\" xlink:type=\"simple\"><polygon fill=\"#FFFFFF\" points=\"16,6,134,6,141,28.2969,397,28.2969,397,389,16,389,16,6\" style=\"stroke: #000000; stroke-width: 1.5;\"/><line style=\"stroke: #000000; stroke-width: 1.5;\" x1=\"16\" x2=\"141\" y1=\"28.2969\" y2=\"28.2969\"/><text fill=\"#000000\" font-family=\"sans-serif\" font-size=\"14\" font-weight=\"bold\" lengthAdjust=\"spacingAndGlyphs\" textLength=\"112\" x=\"20\" y=\"20.9951\">VariabilityTest</text></a><!--MD5=[b4997ac47864f28c2f74865a473b2911]\n",
       "class E2--><a href=\"psysml:28b4b804-815b-4815-9c5e-e5b09d6ccef7\" target=\"_top\" title=\"psysml:28b4b804-815b-4815-9c5e-e5b09d6ccef7\" xlink:actuate=\"onRequest\" xlink:href=\"psysml:28b4b804-815b-4815-9c5e-e5b09d6ccef7\" xlink:show=\"new\" xlink:title=\"psysml:28b4b804-815b-4815-9c5e-e5b09d6ccef7\" xlink:type=\"simple\"><rect fill=\"#FFFFFF\" height=\"75.5469\" id=\"E2\" style=\"stroke: #383838; stroke-width: 1.5;\" width=\"66\" x=\"166\" y=\"291\"/><text fill=\"#000000\" font-family=\"sans-serif\" font-size=\"12\" font-style=\"italic\" lengthAdjust=\"spacingAndGlyphs\" textLength=\"64\" x=\"167\" y=\"307.1387\">«part def»</text><text fill=\"#000000\" font-family=\"sans-serif\" font-size=\"12\" lengthAdjust=\"spacingAndGlyphs\" textLength=\"8\" x=\"195\" y=\"321.1074\">P</text><line style=\"stroke: #383838; stroke-width: 1.5;\" x1=\"167\" x2=\"231\" y1=\"328.9375\" y2=\"328.9375\"/><text fill=\"#000000\" font-family=\"sans-serif\" font-size=\"11\" lengthAdjust=\"spacingAndGlyphs\" textLength=\"7\" x=\"172\" y=\"359.9526\">a</text><line style=\"stroke: #383838; stroke-width: 1.0;\" x1=\"167\" x2=\"171.5\" y1=\"343.3398\" y2=\"343.3398\"/><text fill=\"#000000\" font-family=\"sans-serif\" font-size=\"11\" lengthAdjust=\"spacingAndGlyphs\" textLength=\"55\" x=\"171.5\" y=\"346.6479\">attributes</text><line style=\"stroke: #383838; stroke-width: 1.0;\" x1=\"226.5\" x2=\"231\" y1=\"343.3398\" y2=\"343.3398\"/></a><!--MD5=[09b614a08d8cba4a07c9adeb5e0fee81]\n",
       "class E3--><a href=\"psysml:3556ece0-f840-441c-8cd2-5d7027a1a805\" target=\"_top\" title=\"psysml:3556ece0-f840-441c-8cd2-5d7027a1a805\" xlink:actuate=\"onRequest\" xlink:href=\"psysml:3556ece0-f840-441c-8cd2-5d7027a1a805\" xlink:show=\"new\" xlink:title=\"psysml:3556ece0-f840-441c-8cd2-5d7027a1a805\" xlink:type=\"simple\"><rect fill=\"#FFFFFF\" height=\"45.9375\" id=\"E3\" style=\"stroke: #383838; stroke-width: 1.5;\" width=\"66\" x=\"137\" y=\"155\"/><text fill=\"#000000\" font-family=\"sans-serif\" font-size=\"12\" font-style=\"italic\" lengthAdjust=\"spacingAndGlyphs\" textLength=\"64\" x=\"138\" y=\"171.1387\">«part def»</text><text fill=\"#000000\" font-family=\"sans-serif\" font-size=\"12\" lengthAdjust=\"spacingAndGlyphs\" textLength=\"9\" x=\"165.5\" y=\"185.1074\">Q</text><line style=\"stroke: #383838; stroke-width: 1.5;\" x1=\"138\" x2=\"202\" y1=\"192.9375\" y2=\"192.9375\"/></a><!--MD5=[ebbe1d658d1005bcc118a6aa81145e00]\n",
       "class E4--><a href=\"psysml:c1ea47d2-f15e-4f05-bf93-ec81669ca641\" target=\"_top\" title=\"psysml:c1ea47d2-f15e-4f05-bf93-ec81669ca641\" xlink:actuate=\"onRequest\" xlink:href=\"psysml:c1ea47d2-f15e-4f05-bf93-ec81669ca641\" xlink:show=\"new\" xlink:title=\"psysml:c1ea47d2-f15e-4f05-bf93-ec81669ca641\" xlink:type=\"simple\"><rect fill=\"#FFFFFF\" height=\"45.9375\" id=\"E4\" style=\"stroke: #383838; stroke-width: 1.5;\" width=\"95\" x=\"255.5\" y=\"41\"/><text fill=\"#000000\" font-family=\"sans-serif\" font-size=\"12\" font-style=\"italic\" lengthAdjust=\"spacingAndGlyphs\" textLength=\"93\" x=\"256.5\" y=\"57.1387\">«attribute def»</text><text fill=\"#000000\" font-family=\"sans-serif\" font-size=\"12\" lengthAdjust=\"spacingAndGlyphs\" textLength=\"8\" x=\"299\" y=\"71.1074\">B</text><line style=\"stroke: #383838; stroke-width: 1.5;\" x1=\"256.5\" x2=\"349.5\" y1=\"78.9375\" y2=\"78.9375\"/></a><!--MD5=[270fce915f116d4de14055a7c1d9a0f3]\n",
       "class E5--><a href=\"psysml:735cd89a-e4b2-4dc5-b3d6-41534f400f39\" target=\"_top\" title=\"psysml:735cd89a-e4b2-4dc5-b3d6-41534f400f39\" xlink:actuate=\"onRequest\" xlink:href=\"psysml:735cd89a-e4b2-4dc5-b3d6-41534f400f39\" xlink:show=\"new\" xlink:title=\"psysml:735cd89a-e4b2-4dc5-b3d6-41534f400f39\" xlink:type=\"simple\"><rect fill=\"#FFFFFF\" height=\"45.9375\" id=\"E5\" style=\"stroke: #383838; stroke-width: 1.5;\" width=\"66\" x=\"315\" y=\"155\"/><text fill=\"#000000\" font-family=\"sans-serif\" font-size=\"12\" font-style=\"italic\" lengthAdjust=\"spacingAndGlyphs\" textLength=\"64\" x=\"316\" y=\"171.1387\">«part def»</text><text fill=\"#000000\" font-family=\"sans-serif\" font-size=\"12\" lengthAdjust=\"spacingAndGlyphs\" textLength=\"8\" x=\"344\" y=\"185.1074\">V</text><line style=\"stroke: #383838; stroke-width: 1.5;\" x1=\"316\" x2=\"380\" y1=\"192.9375\" y2=\"192.9375\"/></a><!--MD5=[60a26617385b1d2d0262a64233df1f8d]\n",
       "class E6--><a href=\"psysml:0400016e-70f0-4405-a71c-97e49bd60e65\" target=\"_top\" title=\"psysml:0400016e-70f0-4405-a71c-97e49bd60e65\" xlink:actuate=\"onRequest\" xlink:href=\"psysml:0400016e-70f0-4405-a71c-97e49bd60e65\" xlink:show=\"new\" xlink:title=\"psysml:0400016e-70f0-4405-a71c-97e49bd60e65\" xlink:type=\"simple\"><rect fill=\"#FFFFFF\" height=\"88.3516\" id=\"E6\" rx=\"10\" ry=\"10\" style=\"stroke: #383838; stroke-width: 1.5;\" width=\"63\" x=\"287.5\" y=\"285\"/><text fill=\"#000000\" font-family=\"sans-serif\" font-size=\"12\" font-style=\"italic\" lengthAdjust=\"spacingAndGlyphs\" textLength=\"40\" x=\"299\" y=\"301.1387\">«part»</text><text fill=\"#000000\" font-family=\"sans-serif\" font-size=\"12\" lengthAdjust=\"spacingAndGlyphs\" textLength=\"23\" x=\"307.5\" y=\"315.1074\">x: Q</text><line style=\"stroke: #383838; stroke-width: 1.5;\" x1=\"288.5\" x2=\"349.5\" y1=\"322.9375\" y2=\"322.9375\"/><text fill=\"#000000\" font-family=\"sans-serif\" font-size=\"11\" lengthAdjust=\"spacingAndGlyphs\" textLength=\"23\" x=\"293.5\" y=\"353.9526\">b: B</text><text fill=\"#000000\" font-family=\"sans-serif\" font-size=\"11\" font-style=\"italic\" lengthAdjust=\"spacingAndGlyphs\" textLength=\"44\" x=\"293.5\" y=\"366.7573\">:&gt;&gt;P::a</text><line style=\"stroke: #383838; stroke-width: 1.0;\" x1=\"288.5\" x2=\"291.5\" y1=\"337.3398\" y2=\"337.3398\"/><text fill=\"#000000\" font-family=\"sans-serif\" font-size=\"11\" lengthAdjust=\"spacingAndGlyphs\" textLength=\"55\" x=\"291.5\" y=\"340.6479\">attributes</text><line style=\"stroke: #383838; stroke-width: 1.0;\" x1=\"346.5\" x2=\"349.5\" y1=\"337.3398\" y2=\"337.3398\"/></a><!--MD5=[2156ba9850f5573cc1fc38a6a4b2f02b]\n",
       "class E7--><a href=\"psysml:ac43cc4c-8177-486e-b5a5-e877f62f9bc5\" target=\"_top\" title=\"psysml:ac43cc4c-8177-486e-b5a5-e877f62f9bc5\" xlink:actuate=\"onRequest\" xlink:href=\"psysml:ac43cc4c-8177-486e-b5a5-e877f62f9bc5\" xlink:show=\"new\" xlink:title=\"psysml:ac43cc4c-8177-486e-b5a5-e877f62f9bc5\" xlink:type=\"simple\"><rect fill=\"#FFFFFF\" height=\"45.9375\" id=\"E7\" rx=\"10\" ry=\"10\" style=\"stroke: #383838; stroke-width: 1.5;\" width=\"42\" x=\"149\" y=\"41\"/><text fill=\"#000000\" font-family=\"sans-serif\" font-size=\"12\" font-style=\"italic\" lengthAdjust=\"spacingAndGlyphs\" textLength=\"40\" x=\"150\" y=\"57.1387\">«part»</text><text fill=\"#000000\" font-family=\"sans-serif\" font-size=\"12\" lengthAdjust=\"spacingAndGlyphs\" textLength=\"25\" x=\"157.5\" y=\"71.1074\">q: Q</text><line style=\"stroke: #383838; stroke-width: 1.5;\" x1=\"150\" x2=\"190\" y1=\"78.9375\" y2=\"78.9375\"/></a><!--MD5=[b9389687b975829384b498ac4b7476b2]\n",
       "class E8--><a href=\"psysml:ce952eae-8bb1-4ad0-9f02-4c42d4c1d0c7\" target=\"_top\" title=\"psysml:ce952eae-8bb1-4ad0-9f02-4c42d4c1d0c7\" xlink:actuate=\"onRequest\" xlink:href=\"psysml:ce952eae-8bb1-4ad0-9f02-4c42d4c1d0c7\" xlink:show=\"new\" xlink:title=\"psysml:ce952eae-8bb1-4ad0-9f02-4c42d4c1d0c7\" xlink:type=\"simple\"><rect fill=\"#FFFFFF\" height=\"59.9063\" id=\"E8\" rx=\"10\" ry=\"10\" style=\"stroke: #383838; stroke-width: 1.5;\" width=\"70\" x=\"32\" y=\"148\"/><text fill=\"#000000\" font-family=\"sans-serif\" font-size=\"12\" font-style=\"italic\" lengthAdjust=\"spacingAndGlyphs\" textLength=\"68\" x=\"33\" y=\"164.1387\">«variation»</text><text fill=\"#000000\" font-family=\"sans-serif\" font-size=\"12\" font-style=\"italic\" lengthAdjust=\"spacingAndGlyphs\" textLength=\"40\" x=\"47\" y=\"178.1074\">«part»</text><text fill=\"#000000\" font-family=\"sans-serif\" font-size=\"12\" lengthAdjust=\"spacingAndGlyphs\" textLength=\"22\" x=\"56\" y=\"192.0762\">v: P</text><line style=\"stroke: #383838; stroke-width: 1.5;\" x1=\"33\" x2=\"101\" y1=\"199.9063\" y2=\"199.9063\"/></a><!--MD5=[fd4143e9d270a159db93a4ea2a975926]\n",
       "class E9--><a href=\"psysml:572dfe4e-6d7c-4ba8-94a3-d7ce0272bed9\" target=\"_top\" title=\"psysml:572dfe4e-6d7c-4ba8-94a3-d7ce0272bed9\" xlink:actuate=\"onRequest\" xlink:href=\"psysml:572dfe4e-6d7c-4ba8-94a3-d7ce0272bed9\" xlink:show=\"new\" xlink:title=\"psysml:572dfe4e-6d7c-4ba8-94a3-d7ce0272bed9\" xlink:type=\"simple\"><rect fill=\"#FFFFFF\" height=\"88.3516\" id=\"E9\" rx=\"10\" ry=\"10\" style=\"stroke: #383838; stroke-width: 1.5;\" width=\"77\" x=\"32.5\" y=\"285\"/><text fill=\"#000000\" font-family=\"sans-serif\" font-size=\"12\" font-style=\"italic\" lengthAdjust=\"spacingAndGlyphs\" textLength=\"75\" x=\"33.5\" y=\"301.1387\">«reference»</text><text fill=\"#000000\" font-family=\"sans-serif\" font-size=\"12\" lengthAdjust=\"spacingAndGlyphs\" textLength=\"8\" x=\"67\" y=\"315.1074\">q</text><line style=\"stroke: #383838; stroke-width: 1.5;\" x1=\"33.5\" x2=\"108.5\" y1=\"322.9375\" y2=\"322.9375\"/><text fill=\"#000000\" font-family=\"sans-serif\" font-size=\"11\" lengthAdjust=\"spacingAndGlyphs\" textLength=\"23\" x=\"38.5\" y=\"353.9526\">b: B</text><text fill=\"#000000\" font-family=\"sans-serif\" font-size=\"11\" font-style=\"italic\" lengthAdjust=\"spacingAndGlyphs\" textLength=\"44\" x=\"38.5\" y=\"366.7573\">:&gt;&gt;P::a</text><line style=\"stroke: #383838; stroke-width: 1.0;\" x1=\"33.5\" x2=\"43.5\" y1=\"337.3398\" y2=\"337.3398\"/><text fill=\"#000000\" font-family=\"sans-serif\" font-size=\"11\" lengthAdjust=\"spacingAndGlyphs\" textLength=\"55\" x=\"43.5\" y=\"340.6479\">attributes</text><line style=\"stroke: #383838; stroke-width: 1.0;\" x1=\"98.5\" x2=\"108.5\" y1=\"337.3398\" y2=\"337.3398\"/></a><!--MD5=[96f4274e9e20536e775497830990834d]\n",
       "class E10--><a href=\"psysml:983a8093-9810-4637-96cc-9ee8fb3d9cf5\" target=\"_top\" title=\"psysml:983a8093-9810-4637-96cc-9ee8fb3d9cf5\" xlink:actuate=\"onRequest\" xlink:href=\"psysml:983a8093-9810-4637-96cc-9ee8fb3d9cf5\" xlink:show=\"new\" xlink:title=\"psysml:983a8093-9810-4637-96cc-9ee8fb3d9cf5\" xlink:type=\"simple\"><rect fill=\"#FFFFFF\" height=\"45.9375\" id=\"E10\" rx=\"10\" ry=\"10\" style=\"stroke: #383838; stroke-width: 1.5;\" width=\"42\" x=\"238\" y=\"155\"/><text fill=\"#000000\" font-family=\"sans-serif\" font-size=\"12\" font-style=\"italic\" lengthAdjust=\"spacingAndGlyphs\" textLength=\"40\" x=\"239\" y=\"171.1387\">«part»</text><text fill=\"#000000\" font-family=\"sans-serif\" font-size=\"12\" lengthAdjust=\"spacingAndGlyphs\" textLength=\"22\" x=\"248\" y=\"185.1074\">y: P</text><line style=\"stroke: #383838; stroke-width: 1.5;\" x1=\"239\" x2=\"279\" y1=\"192.9375\" y2=\"192.9375\"/></a><!--MD5=[05d275557350bfb9b23a4ef7222b4c39]\n",
       "link E3 to E2--><a href=\"psysml:9e57242c-9184-4252-9565-bec20c63fdb8\" target=\"_top\" title=\"psysml:9e57242c-9184-4252-9565-bec20c63fdb8\" xlink:actuate=\"onRequest\" xlink:href=\"psysml:9e57242c-9184-4252-9565-bec20c63fdb8\" xlink:show=\"new\" xlink:title=\"psysml:9e57242c-9184-4252-9565-bec20c63fdb8\" xlink:type=\"simple\"><path d=\"M174.34,201.31 C177.92,219.67 183.15,246.54 187.87,270.81 \" fill=\"none\" id=\"E3-&gt;E2\" style=\"stroke: #383838; stroke-width: 1.0;\"/><polygon fill=\"none\" points=\"194.8,269.8,191.75,290.77,181.06,272.47,194.8,269.8\" style=\"stroke: #383838; stroke-width: 1.0;\"/></a><!--MD5=[15ebcb19ae302d9b601edb458606d402]\n",
       "link E5 to E2--><a href=\"psysml:5cdbdbe7-d14c-45c9-a804-61f18115238e\" target=\"_top\" title=\"psysml:5cdbdbe7-d14c-45c9-a804-61f18115238e\" xlink:actuate=\"onRequest\" xlink:href=\"psysml:5cdbdbe7-d14c-45c9-a804-61f18115238e\" xlink:show=\"new\" xlink:title=\"psysml:5cdbdbe7-d14c-45c9-a804-61f18115238e\" xlink:type=\"simple\"><path d=\"M325.69,201.31 C304.9,222.1 273.2,253.8 246.71,280.29 \" fill=\"none\" id=\"E5-&gt;E2\" style=\"stroke: #383838; stroke-width: 1.0;\"/><polygon fill=\"none\" points=\"251.33,285.57,232.24,294.76,241.43,275.67,251.33,285.57\" style=\"stroke: #383838; stroke-width: 1.0;\"/></a><!--MD5=[9120cf2e5df3bff93db8f754bbbc09b4]\n",
       "link E5 to E6--><a href=\"psysml:052c6ce9-d9db-4da6-90c4-ac16555550ac\" target=\"_top\" title=\"psysml:052c6ce9-d9db-4da6-90c4-ac16555550ac\" xlink:actuate=\"onRequest\" xlink:href=\"psysml:052c6ce9-d9db-4da6-90c4-ac16555550ac\" xlink:show=\"new\" xlink:title=\"psysml:052c6ce9-d9db-4da6-90c4-ac16555550ac\" xlink:type=\"simple\"><path d=\"M341.72,211.26 C338.1,229.85 333.47,253.68 329.32,274.95 \" fill=\"none\" id=\"E5-E6\" style=\"stroke: #383838; stroke-width: 1.0;\"/><polygon fill=\"#383838\" points=\"327.4,284.84,331.8761,277.5623,325.987,276.4136,327.4,284.84\" style=\"stroke: #383838; stroke-width: 1.0;\"/><path d=\"M334.7699,202.7122 A9,9 0 0 0 351.3715 205.9503\" fill=\"none\" style=\"stroke: #383838; stroke-width: 1.5;\"/><text fill=\"#000000\" font-family=\"sans-serif\" font-size=\"13\" lengthAdjust=\"spacingAndGlyphs\" textLength=\"60\" x=\"337\" y=\"251.0669\">«variant»</text></a><!--MD5=[14ccda38c055a5c0da953d572bc50960]\n",
       "link E7 to E3--><a href=\"psysml:648145d1-1ec9-42fc-8307-fa8910350658\" target=\"_top\" title=\"psysml:648145d1-1ec9-42fc-8307-fa8910350658\" xlink:actuate=\"onRequest\" xlink:href=\"psysml:648145d1-1ec9-42fc-8307-fa8910350658\" xlink:show=\"new\" xlink:title=\"psysml:648145d1-1ec9-42fc-8307-fa8910350658\" xlink:type=\"simple\"><path d=\"M170,87.13 C170,100.7 170,118.53 170,134.73 \" fill=\"none\" id=\"E7-&gt;E3\" style=\"stroke: #383838; stroke-width: 1.0;\"/><polygon fill=\"#FFFFFF\" points=\"170,154.92,163,135.92,177,135.92,170,154.92\" style=\"stroke: #383838; stroke-width: 1.0;\"/><ellipse cx=\"165\" cy=\"130.22\" fill=\"#383838\" rx=\"2\" ry=\"2\" style=\"stroke: #383838; stroke-width: 1.0;\"/><ellipse cx=\"175\" cy=\"130.22\" fill=\"#383838\" rx=\"2\" ry=\"2\" style=\"stroke: #383838; stroke-width: 1.0;\"/></a><!--MD5=[f1f3f9f2fc535e6147756cb86a7f2e32]\n",
       "link E8 to E2--><a href=\"psysml:19cda0c9-2775-4d9d-8cd8-191c5ad52b34\" target=\"_top\" title=\"psysml:19cda0c9-2775-4d9d-8cd8-191c5ad52b34\" xlink:actuate=\"onRequest\" xlink:href=\"psysml:19cda0c9-2775-4d9d-8cd8-191c5ad52b34\" xlink:show=\"new\" xlink:title=\"psysml:19cda0c9-2775-4d9d-8cd8-191c5ad52b34\" xlink:type=\"simple\"><path d=\"M102.17,204.39 C114.52,214.17 128.04,225.9 139,238 C148.86,248.88 158.29,261.5 166.63,273.79 \" fill=\"none\" id=\"E8-&gt;E2\" style=\"stroke: #383838; stroke-width: 1.0;\"/><polygon fill=\"#FFFFFF\" points=\"177.64,290.73,161.4168,278.6135,173.1555,270.9844,177.64,290.73\" style=\"stroke: #383838; stroke-width: 1.0;\"/><ellipse cx=\"159.9876\" cy=\"272.7443\" fill=\"#383838\" rx=\"2\" ry=\"2\" style=\"stroke: #383838; stroke-width: 1.0;\"/><ellipse cx=\"168.3724\" cy=\"267.2949\" fill=\"#383838\" rx=\"2\" ry=\"2\" style=\"stroke: #383838; stroke-width: 1.0;\"/></a><!--MD5=[ed10624c06dd9a4fa49ccf290e8b16a8]\n",
       "link E8 to E9--><a href=\"psysml:28d39c7a-e0c7-42b0-858e-2cb4e488f108\" target=\"_top\" title=\"psysml:28d39c7a-e0c7-42b0-858e-2cb4e488f108\" xlink:actuate=\"onRequest\" xlink:href=\"psysml:28d39c7a-e0c7-42b0-858e-2cb4e488f108\" xlink:show=\"new\" xlink:title=\"psysml:28d39c7a-e0c7-42b0-858e-2cb4e488f108\" xlink:type=\"simple\"><path d=\"M68.06,218.32 C68.52,235.6 69.07,256.15 69.57,274.77 \" fill=\"none\" id=\"E8-E9\" style=\"stroke: #383838; stroke-width: 1.0;\"/><polygon fill=\"#383838\" points=\"69.84,284.88,72.6331,276.8054,66.6351,276.9599,69.84,284.88\" style=\"stroke: #383838; stroke-width: 1.0;\"/><path d=\"M59.4094,211.3865 A9,9 0 0 0 76.3176 210.9276\" fill=\"none\" style=\"stroke: #383838; stroke-width: 1.5;\"/><text fill=\"#000000\" font-family=\"sans-serif\" font-size=\"13\" lengthAdjust=\"spacingAndGlyphs\" textLength=\"60\" x=\"70\" y=\"251.0669\">«variant»</text></a><!--MD5=[0f36bececdf0dff6e600d6f64214b0f1]\n",
       "link E10 to E2--><a href=\"psysml:8cfcd01d-a74f-43be-a680-d41b6ee6accc\" target=\"_top\" title=\"psysml:8cfcd01d-a74f-43be-a680-d41b6ee6accc\" xlink:actuate=\"onRequest\" xlink:href=\"psysml:8cfcd01d-a74f-43be-a680-d41b6ee6accc\" xlink:show=\"new\" xlink:title=\"psysml:8cfcd01d-a74f-43be-a680-d41b6ee6accc\" xlink:type=\"simple\"><path d=\"M250.02,201.31 C242.51,219.95 231.48,247.35 221.59,271.91 \" fill=\"none\" id=\"E10-&gt;E2\" style=\"stroke: #383838; stroke-width: 1.0;\"/><polygon fill=\"#FFFFFF\" points=\"213.99,290.77,214.5927,270.5305,227.5796,275.7593,213.99,290.77\" style=\"stroke: #383838; stroke-width: 1.0;\"/><ellipse cx=\"218.5768\" cy=\"265.9899\" fill=\"#383838\" rx=\"2\" ry=\"2\" style=\"stroke: #383838; stroke-width: 1.0;\"/><ellipse cx=\"227.8532\" cy=\"269.7248\" fill=\"#383838\" rx=\"2\" ry=\"2\" style=\"stroke: #383838; stroke-width: 1.0;\"/></a><!--MD5=[924dbd7dfcf3683bf4db00389314ea67]\n",
       "@startuml\r\n",
       " skinparam monochrome true\r\n",
       "skinparam classbackgroundcolor white\r\n",
       "skinparam shadowing false\r\n",
       "skinparam wrapWidth 300\r\n",
       "hide circle\r\n",
       "\r\n",
       "package \"VariabilityTest\" as E1  [[psysml:c9192910-aa77-45a9-9ae3-16f7deb9d13d ]]  {\r\n",
       "comp def \"P\" as E2  <<(T,blue)part def>> [[psysml:28b4b804-815b-4815-9c5e-e5b09d6ccef7 ]] {\r\n",
       "- - attributes - -\r\n",
       "a\r\n",
       "}\r\n",
       "comp def \"Q\" as E3  <<(T,blue)part def>> [[psysml:3556ece0-f840-441c-8cd2-5d7027a1a805 ]] {\r\n",
       "}\r\n",
       "comp def \"B\" as E4  <<(T,blue)attribute def>> [[psysml:c1ea47d2-f15e-4f05-bf93-ec81669ca641 ]] {\r\n",
       "}\r\n",
       "comp def \"V\" as E5  <<(T,blue)part def>> [[psysml:735cd89a-e4b2-4dc5-b3d6-41534f400f39 ]] {\r\n",
       "}\r\n",
       "comp usage \"x: Q\" as E6  <<(T,blue)part>> [[psysml:0400016e-70f0-4405-a71c-97e49bd60e65 ]] {\r\n",
       "- - attributes - -\r\n",
       "b: B\\n//:>>P::a// \r\n",
       "}\r\n",
       "comp usage \"q: Q\" as E7  <<(T,blue)part>> [[psysml:ac43cc4c-8177-486e-b5a5-e877f62f9bc5 ]] {\r\n",
       "}\r\n",
       "comp usage \"v: P\" as E8  <<variation>>\\n <<(T,blue)part>> [[psysml:ce952eae-8bb1-4ad0-9f02-4c42d4c1d0c7 ]] {\r\n",
       "}\r\n",
       "comp usage \"q\" as E9  <<(T,blue)reference>> [[psysml:572dfe4e-6d7c-4ba8-94a3-d7ce0272bed9 ]] {\r\n",
       "- - attributes - -\r\n",
       "b: B\\n//:>>P::a// \r\n",
       "}\r\n",
       "comp usage \"y: P\" as E10  <<(T,blue)part>> [[psysml:983a8093-9810-4637-96cc-9ee8fb3d9cf5 ]] {\r\n",
       "}\r\n",
       "E3 - -|> E2 [[psysml:9e57242c-9184-4252-9565-bec20c63fdb8 ]] \r\n",
       "E5 - -|> E2 [[psysml:5cdbdbe7-d14c-45c9-a804-61f18115238e ]] \r\n",
       "E5 )- ->> E6 [[psysml:052c6ce9-d9db-4da6-90c4-ac16555550ac ]] : <<variant>>\r\n",
       "E7 - -:|> E3 [[psysml:648145d1-1ec9-42fc-8307-fa8910350658 ]] \r\n",
       "E8 - -:|> E2 [[psysml:19cda0c9-2775-4d9d-8cd8-191c5ad52b34 ]] \r\n",
       "E8 )- ->> E9 [[psysml:28d39c7a-e0c7-42b0-858e-2cb4e488f108 ]] : <<variant>>\r\n",
       "E10 - -:|> E2 [[psysml:8cfcd01d-a74f-43be-a680-d41b6ee6accc ]] \r\n",
       "}\r\n",
       "@enduml\r\n",
       "\n",
       "PlantUML version 1.2020.13(Sat Jun 13 12:26:38 UTC 2020)\n",
       "(EPL source distribution)\n",
       "Java Runtime: OpenJDK Runtime Environment\n",
       "JVM: OpenJDK 64-Bit Server VM\n",
       "Default Encoding: UTF-8\n",
       "Language: en\n",
       "Country: null\n",
       "--></g></svg>"
      ]
     },
     "execution_count": 8,
     "metadata": {},
     "output_type": "execute_result"
    }
   ],
   "source": [
    "%viz --style=\"COMPTREE\" --view=\"MIXED\" \"VariabilityTest\""
   ]
  },
  {
   "cell_type": "code",
   "execution_count": 9,
   "id": "bc38b2b7",
   "metadata": {
    "execution": {
     "iopub.execute_input": "2021-05-28T10:47:54.410263Z",
     "iopub.status.busy": "2021-05-28T10:47:54.409214Z",
     "iopub.status.idle": "2021-05-28T10:47:54.526820Z",
     "shell.execute_reply": "2021-05-28T10:47:54.525300Z"
    }
   },
   "outputs": [
    {
     "data": {
      "image/svg+xml": [
       "<?xml version=\"1.0\" encoding=\"UTF-8\" standalone=\"no\"?><svg xmlns=\"http://www.w3.org/2000/svg\" xmlns:xlink=\"http://www.w3.org/1999/xlink\" contentScriptType=\"application/ecmascript\" contentStyleType=\"text/css\" height=\"401px\" preserveAspectRatio=\"none\" style=\"width:419px;height:401px;\" version=\"1.1\" viewBox=\"0 0 419 401\" width=\"419px\" zoomAndPan=\"magnify\"><defs/><g><!--MD5=[fbc87193dbaf4d95561dea2c320d4a47]\n",
       "cluster E1--><a href=\"psysml:c9192910-aa77-45a9-9ae3-16f7deb9d13d\" target=\"_top\" title=\"psysml:c9192910-aa77-45a9-9ae3-16f7deb9d13d\" xlink:actuate=\"onRequest\" xlink:href=\"psysml:c9192910-aa77-45a9-9ae3-16f7deb9d13d\" xlink:show=\"new\" xlink:title=\"psysml:c9192910-aa77-45a9-9ae3-16f7deb9d13d\" xlink:type=\"simple\"><polygon fill=\"#FFFFFF\" points=\"16,6,134,6,141,28.2969,397,28.2969,397,389,16,389,16,6\" style=\"stroke: #000000; stroke-width: 1.5;\"/><line style=\"stroke: #000000; stroke-width: 1.5;\" x1=\"16\" x2=\"141\" y1=\"28.2969\" y2=\"28.2969\"/><text fill=\"#000000\" font-family=\"sans-serif\" font-size=\"14\" font-weight=\"bold\" lengthAdjust=\"spacingAndGlyphs\" textLength=\"112\" x=\"20\" y=\"20.9951\">VariabilityTest</text></a><!--MD5=[b4997ac47864f28c2f74865a473b2911]\n",
       "class E2--><a href=\"psysml:28b4b804-815b-4815-9c5e-e5b09d6ccef7\" target=\"_top\" title=\"psysml:28b4b804-815b-4815-9c5e-e5b09d6ccef7\" xlink:actuate=\"onRequest\" xlink:href=\"psysml:28b4b804-815b-4815-9c5e-e5b09d6ccef7\" xlink:show=\"new\" xlink:title=\"psysml:28b4b804-815b-4815-9c5e-e5b09d6ccef7\" xlink:type=\"simple\"><rect fill=\"#FFFFFF\" height=\"75.5469\" id=\"E2\" style=\"stroke: #383838; stroke-width: 1.5;\" width=\"66\" x=\"166\" y=\"291\"/><text fill=\"#000000\" font-family=\"sans-serif\" font-size=\"12\" font-style=\"italic\" lengthAdjust=\"spacingAndGlyphs\" textLength=\"64\" x=\"167\" y=\"307.1387\">«part def»</text><text fill=\"#000000\" font-family=\"sans-serif\" font-size=\"12\" lengthAdjust=\"spacingAndGlyphs\" textLength=\"8\" x=\"195\" y=\"321.1074\">P</text><line style=\"stroke: #383838; stroke-width: 1.5;\" x1=\"167\" x2=\"231\" y1=\"328.9375\" y2=\"328.9375\"/><text fill=\"#000000\" font-family=\"sans-serif\" font-size=\"11\" lengthAdjust=\"spacingAndGlyphs\" textLength=\"7\" x=\"172\" y=\"359.9526\">a</text><line style=\"stroke: #383838; stroke-width: 1.0;\" x1=\"167\" x2=\"171.5\" y1=\"343.3398\" y2=\"343.3398\"/><text fill=\"#000000\" font-family=\"sans-serif\" font-size=\"11\" lengthAdjust=\"spacingAndGlyphs\" textLength=\"55\" x=\"171.5\" y=\"346.6479\">attributes</text><line style=\"stroke: #383838; stroke-width: 1.0;\" x1=\"226.5\" x2=\"231\" y1=\"343.3398\" y2=\"343.3398\"/></a><!--MD5=[09b614a08d8cba4a07c9adeb5e0fee81]\n",
       "class E3--><a href=\"psysml:3556ece0-f840-441c-8cd2-5d7027a1a805\" target=\"_top\" title=\"psysml:3556ece0-f840-441c-8cd2-5d7027a1a805\" xlink:actuate=\"onRequest\" xlink:href=\"psysml:3556ece0-f840-441c-8cd2-5d7027a1a805\" xlink:show=\"new\" xlink:title=\"psysml:3556ece0-f840-441c-8cd2-5d7027a1a805\" xlink:type=\"simple\"><rect fill=\"#FFFFFF\" height=\"45.9375\" id=\"E3\" style=\"stroke: #383838; stroke-width: 1.5;\" width=\"66\" x=\"137\" y=\"155\"/><text fill=\"#000000\" font-family=\"sans-serif\" font-size=\"12\" font-style=\"italic\" lengthAdjust=\"spacingAndGlyphs\" textLength=\"64\" x=\"138\" y=\"171.1387\">«part def»</text><text fill=\"#000000\" font-family=\"sans-serif\" font-size=\"12\" lengthAdjust=\"spacingAndGlyphs\" textLength=\"9\" x=\"165.5\" y=\"185.1074\">Q</text><line style=\"stroke: #383838; stroke-width: 1.5;\" x1=\"138\" x2=\"202\" y1=\"192.9375\" y2=\"192.9375\"/></a><!--MD5=[ebbe1d658d1005bcc118a6aa81145e00]\n",
       "class E4--><a href=\"psysml:c1ea47d2-f15e-4f05-bf93-ec81669ca641\" target=\"_top\" title=\"psysml:c1ea47d2-f15e-4f05-bf93-ec81669ca641\" xlink:actuate=\"onRequest\" xlink:href=\"psysml:c1ea47d2-f15e-4f05-bf93-ec81669ca641\" xlink:show=\"new\" xlink:title=\"psysml:c1ea47d2-f15e-4f05-bf93-ec81669ca641\" xlink:type=\"simple\"><rect fill=\"#FFFFFF\" height=\"45.9375\" id=\"E4\" style=\"stroke: #383838; stroke-width: 1.5;\" width=\"95\" x=\"255.5\" y=\"41\"/><text fill=\"#000000\" font-family=\"sans-serif\" font-size=\"12\" font-style=\"italic\" lengthAdjust=\"spacingAndGlyphs\" textLength=\"93\" x=\"256.5\" y=\"57.1387\">«attribute def»</text><text fill=\"#000000\" font-family=\"sans-serif\" font-size=\"12\" lengthAdjust=\"spacingAndGlyphs\" textLength=\"8\" x=\"299\" y=\"71.1074\">B</text><line style=\"stroke: #383838; stroke-width: 1.5;\" x1=\"256.5\" x2=\"349.5\" y1=\"78.9375\" y2=\"78.9375\"/></a><!--MD5=[270fce915f116d4de14055a7c1d9a0f3]\n",
       "class E5--><a href=\"psysml:735cd89a-e4b2-4dc5-b3d6-41534f400f39\" target=\"_top\" title=\"psysml:735cd89a-e4b2-4dc5-b3d6-41534f400f39\" xlink:actuate=\"onRequest\" xlink:href=\"psysml:735cd89a-e4b2-4dc5-b3d6-41534f400f39\" xlink:show=\"new\" xlink:title=\"psysml:735cd89a-e4b2-4dc5-b3d6-41534f400f39\" xlink:type=\"simple\"><rect fill=\"#FFFFFF\" height=\"45.9375\" id=\"E5\" style=\"stroke: #383838; stroke-width: 1.5;\" width=\"66\" x=\"315\" y=\"155\"/><text fill=\"#000000\" font-family=\"sans-serif\" font-size=\"12\" font-style=\"italic\" lengthAdjust=\"spacingAndGlyphs\" textLength=\"64\" x=\"316\" y=\"171.1387\">«part def»</text><text fill=\"#000000\" font-family=\"sans-serif\" font-size=\"12\" lengthAdjust=\"spacingAndGlyphs\" textLength=\"8\" x=\"344\" y=\"185.1074\">V</text><line style=\"stroke: #383838; stroke-width: 1.5;\" x1=\"316\" x2=\"380\" y1=\"192.9375\" y2=\"192.9375\"/></a><!--MD5=[60a26617385b1d2d0262a64233df1f8d]\n",
       "class E6--><a href=\"psysml:0400016e-70f0-4405-a71c-97e49bd60e65\" target=\"_top\" title=\"psysml:0400016e-70f0-4405-a71c-97e49bd60e65\" xlink:actuate=\"onRequest\" xlink:href=\"psysml:0400016e-70f0-4405-a71c-97e49bd60e65\" xlink:show=\"new\" xlink:title=\"psysml:0400016e-70f0-4405-a71c-97e49bd60e65\" xlink:type=\"simple\"><rect fill=\"#FFFFFF\" height=\"88.3516\" id=\"E6\" rx=\"10\" ry=\"10\" style=\"stroke: #383838; stroke-width: 1.5;\" width=\"63\" x=\"287.5\" y=\"285\"/><text fill=\"#000000\" font-family=\"sans-serif\" font-size=\"12\" font-style=\"italic\" lengthAdjust=\"spacingAndGlyphs\" textLength=\"40\" x=\"299\" y=\"301.1387\">«part»</text><text fill=\"#000000\" font-family=\"sans-serif\" font-size=\"12\" lengthAdjust=\"spacingAndGlyphs\" textLength=\"23\" x=\"307.5\" y=\"315.1074\">x: Q</text><line style=\"stroke: #383838; stroke-width: 1.5;\" x1=\"288.5\" x2=\"349.5\" y1=\"322.9375\" y2=\"322.9375\"/><text fill=\"#000000\" font-family=\"sans-serif\" font-size=\"11\" lengthAdjust=\"spacingAndGlyphs\" textLength=\"23\" x=\"293.5\" y=\"353.9526\">b: B</text><text fill=\"#000000\" font-family=\"sans-serif\" font-size=\"11\" font-style=\"italic\" lengthAdjust=\"spacingAndGlyphs\" textLength=\"44\" x=\"293.5\" y=\"366.7573\">:&gt;&gt;P::a</text><line style=\"stroke: #383838; stroke-width: 1.0;\" x1=\"288.5\" x2=\"291.5\" y1=\"337.3398\" y2=\"337.3398\"/><text fill=\"#000000\" font-family=\"sans-serif\" font-size=\"11\" lengthAdjust=\"spacingAndGlyphs\" textLength=\"55\" x=\"291.5\" y=\"340.6479\">attributes</text><line style=\"stroke: #383838; stroke-width: 1.0;\" x1=\"346.5\" x2=\"349.5\" y1=\"337.3398\" y2=\"337.3398\"/></a><!--MD5=[2156ba9850f5573cc1fc38a6a4b2f02b]\n",
       "class E7--><a href=\"psysml:ac43cc4c-8177-486e-b5a5-e877f62f9bc5\" target=\"_top\" title=\"psysml:ac43cc4c-8177-486e-b5a5-e877f62f9bc5\" xlink:actuate=\"onRequest\" xlink:href=\"psysml:ac43cc4c-8177-486e-b5a5-e877f62f9bc5\" xlink:show=\"new\" xlink:title=\"psysml:ac43cc4c-8177-486e-b5a5-e877f62f9bc5\" xlink:type=\"simple\"><rect fill=\"#FFFFFF\" height=\"45.9375\" id=\"E7\" rx=\"10\" ry=\"10\" style=\"stroke: #383838; stroke-width: 1.5;\" width=\"42\" x=\"149\" y=\"41\"/><text fill=\"#000000\" font-family=\"sans-serif\" font-size=\"12\" font-style=\"italic\" lengthAdjust=\"spacingAndGlyphs\" textLength=\"40\" x=\"150\" y=\"57.1387\">«part»</text><text fill=\"#000000\" font-family=\"sans-serif\" font-size=\"12\" lengthAdjust=\"spacingAndGlyphs\" textLength=\"25\" x=\"157.5\" y=\"71.1074\">q: Q</text><line style=\"stroke: #383838; stroke-width: 1.5;\" x1=\"150\" x2=\"190\" y1=\"78.9375\" y2=\"78.9375\"/></a><!--MD5=[b9389687b975829384b498ac4b7476b2]\n",
       "class E8--><a href=\"psysml:ce952eae-8bb1-4ad0-9f02-4c42d4c1d0c7\" target=\"_top\" title=\"psysml:ce952eae-8bb1-4ad0-9f02-4c42d4c1d0c7\" xlink:actuate=\"onRequest\" xlink:href=\"psysml:ce952eae-8bb1-4ad0-9f02-4c42d4c1d0c7\" xlink:show=\"new\" xlink:title=\"psysml:ce952eae-8bb1-4ad0-9f02-4c42d4c1d0c7\" xlink:type=\"simple\"><rect fill=\"#FFFFFF\" height=\"59.9063\" id=\"E8\" rx=\"10\" ry=\"10\" style=\"stroke: #383838; stroke-width: 1.5;\" width=\"70\" x=\"32\" y=\"148\"/><text fill=\"#000000\" font-family=\"sans-serif\" font-size=\"12\" font-style=\"italic\" lengthAdjust=\"spacingAndGlyphs\" textLength=\"68\" x=\"33\" y=\"164.1387\">«variation»</text><text fill=\"#000000\" font-family=\"sans-serif\" font-size=\"12\" font-style=\"italic\" lengthAdjust=\"spacingAndGlyphs\" textLength=\"40\" x=\"47\" y=\"178.1074\">«part»</text><text fill=\"#000000\" font-family=\"sans-serif\" font-size=\"12\" lengthAdjust=\"spacingAndGlyphs\" textLength=\"22\" x=\"56\" y=\"192.0762\">v: P</text><line style=\"stroke: #383838; stroke-width: 1.5;\" x1=\"33\" x2=\"101\" y1=\"199.9063\" y2=\"199.9063\"/></a><!--MD5=[fd4143e9d270a159db93a4ea2a975926]\n",
       "class E9--><a href=\"psysml:572dfe4e-6d7c-4ba8-94a3-d7ce0272bed9\" target=\"_top\" title=\"psysml:572dfe4e-6d7c-4ba8-94a3-d7ce0272bed9\" xlink:actuate=\"onRequest\" xlink:href=\"psysml:572dfe4e-6d7c-4ba8-94a3-d7ce0272bed9\" xlink:show=\"new\" xlink:title=\"psysml:572dfe4e-6d7c-4ba8-94a3-d7ce0272bed9\" xlink:type=\"simple\"><rect fill=\"#FFFFFF\" height=\"88.3516\" id=\"E9\" rx=\"10\" ry=\"10\" style=\"stroke: #383838; stroke-width: 1.5;\" width=\"77\" x=\"32.5\" y=\"285\"/><text fill=\"#000000\" font-family=\"sans-serif\" font-size=\"12\" font-style=\"italic\" lengthAdjust=\"spacingAndGlyphs\" textLength=\"75\" x=\"33.5\" y=\"301.1387\">«reference»</text><text fill=\"#000000\" font-family=\"sans-serif\" font-size=\"12\" lengthAdjust=\"spacingAndGlyphs\" textLength=\"8\" x=\"67\" y=\"315.1074\">q</text><line style=\"stroke: #383838; stroke-width: 1.5;\" x1=\"33.5\" x2=\"108.5\" y1=\"322.9375\" y2=\"322.9375\"/><text fill=\"#000000\" font-family=\"sans-serif\" font-size=\"11\" lengthAdjust=\"spacingAndGlyphs\" textLength=\"23\" x=\"38.5\" y=\"353.9526\">b: B</text><text fill=\"#000000\" font-family=\"sans-serif\" font-size=\"11\" font-style=\"italic\" lengthAdjust=\"spacingAndGlyphs\" textLength=\"44\" x=\"38.5\" y=\"366.7573\">:&gt;&gt;P::a</text><line style=\"stroke: #383838; stroke-width: 1.0;\" x1=\"33.5\" x2=\"43.5\" y1=\"337.3398\" y2=\"337.3398\"/><text fill=\"#000000\" font-family=\"sans-serif\" font-size=\"11\" lengthAdjust=\"spacingAndGlyphs\" textLength=\"55\" x=\"43.5\" y=\"340.6479\">attributes</text><line style=\"stroke: #383838; stroke-width: 1.0;\" x1=\"98.5\" x2=\"108.5\" y1=\"337.3398\" y2=\"337.3398\"/></a><!--MD5=[96f4274e9e20536e775497830990834d]\n",
       "class E10--><a href=\"psysml:983a8093-9810-4637-96cc-9ee8fb3d9cf5\" target=\"_top\" title=\"psysml:983a8093-9810-4637-96cc-9ee8fb3d9cf5\" xlink:actuate=\"onRequest\" xlink:href=\"psysml:983a8093-9810-4637-96cc-9ee8fb3d9cf5\" xlink:show=\"new\" xlink:title=\"psysml:983a8093-9810-4637-96cc-9ee8fb3d9cf5\" xlink:type=\"simple\"><rect fill=\"#FFFFFF\" height=\"45.9375\" id=\"E10\" rx=\"10\" ry=\"10\" style=\"stroke: #383838; stroke-width: 1.5;\" width=\"42\" x=\"238\" y=\"155\"/><text fill=\"#000000\" font-family=\"sans-serif\" font-size=\"12\" font-style=\"italic\" lengthAdjust=\"spacingAndGlyphs\" textLength=\"40\" x=\"239\" y=\"171.1387\">«part»</text><text fill=\"#000000\" font-family=\"sans-serif\" font-size=\"12\" lengthAdjust=\"spacingAndGlyphs\" textLength=\"22\" x=\"248\" y=\"185.1074\">y: P</text><line style=\"stroke: #383838; stroke-width: 1.5;\" x1=\"239\" x2=\"279\" y1=\"192.9375\" y2=\"192.9375\"/></a><!--MD5=[05d275557350bfb9b23a4ef7222b4c39]\n",
       "link E3 to E2--><a href=\"psysml:9e57242c-9184-4252-9565-bec20c63fdb8\" target=\"_top\" title=\"psysml:9e57242c-9184-4252-9565-bec20c63fdb8\" xlink:actuate=\"onRequest\" xlink:href=\"psysml:9e57242c-9184-4252-9565-bec20c63fdb8\" xlink:show=\"new\" xlink:title=\"psysml:9e57242c-9184-4252-9565-bec20c63fdb8\" xlink:type=\"simple\"><path d=\"M174.34,201.31 C177.92,219.67 183.15,246.54 187.87,270.81 \" fill=\"none\" id=\"E3-&gt;E2\" style=\"stroke: #383838; stroke-width: 1.0;\"/><polygon fill=\"none\" points=\"194.8,269.8,191.75,290.77,181.06,272.47,194.8,269.8\" style=\"stroke: #383838; stroke-width: 1.0;\"/></a><!--MD5=[15ebcb19ae302d9b601edb458606d402]\n",
       "link E5 to E2--><a href=\"psysml:5cdbdbe7-d14c-45c9-a804-61f18115238e\" target=\"_top\" title=\"psysml:5cdbdbe7-d14c-45c9-a804-61f18115238e\" xlink:actuate=\"onRequest\" xlink:href=\"psysml:5cdbdbe7-d14c-45c9-a804-61f18115238e\" xlink:show=\"new\" xlink:title=\"psysml:5cdbdbe7-d14c-45c9-a804-61f18115238e\" xlink:type=\"simple\"><path d=\"M325.69,201.31 C304.9,222.1 273.2,253.8 246.71,280.29 \" fill=\"none\" id=\"E5-&gt;E2\" style=\"stroke: #383838; stroke-width: 1.0;\"/><polygon fill=\"none\" points=\"251.33,285.57,232.24,294.76,241.43,275.67,251.33,285.57\" style=\"stroke: #383838; stroke-width: 1.0;\"/></a><!--MD5=[9120cf2e5df3bff93db8f754bbbc09b4]\n",
       "link E5 to E6--><a href=\"psysml:052c6ce9-d9db-4da6-90c4-ac16555550ac\" target=\"_top\" title=\"psysml:052c6ce9-d9db-4da6-90c4-ac16555550ac\" xlink:actuate=\"onRequest\" xlink:href=\"psysml:052c6ce9-d9db-4da6-90c4-ac16555550ac\" xlink:show=\"new\" xlink:title=\"psysml:052c6ce9-d9db-4da6-90c4-ac16555550ac\" xlink:type=\"simple\"><path d=\"M341.72,211.26 C338.1,229.85 333.47,253.68 329.32,274.95 \" fill=\"none\" id=\"E5-E6\" style=\"stroke: #383838; stroke-width: 1.0;\"/><polygon fill=\"#383838\" points=\"327.4,284.84,331.8761,277.5623,325.987,276.4136,327.4,284.84\" style=\"stroke: #383838; stroke-width: 1.0;\"/><path d=\"M334.7699,202.7122 A9,9 0 0 0 351.3715 205.9503\" fill=\"none\" style=\"stroke: #383838; stroke-width: 1.5;\"/><text fill=\"#000000\" font-family=\"sans-serif\" font-size=\"13\" lengthAdjust=\"spacingAndGlyphs\" textLength=\"60\" x=\"337\" y=\"251.0669\">«variant»</text></a><!--MD5=[14ccda38c055a5c0da953d572bc50960]\n",
       "link E7 to E3--><a href=\"psysml:648145d1-1ec9-42fc-8307-fa8910350658\" target=\"_top\" title=\"psysml:648145d1-1ec9-42fc-8307-fa8910350658\" xlink:actuate=\"onRequest\" xlink:href=\"psysml:648145d1-1ec9-42fc-8307-fa8910350658\" xlink:show=\"new\" xlink:title=\"psysml:648145d1-1ec9-42fc-8307-fa8910350658\" xlink:type=\"simple\"><path d=\"M170,87.13 C170,100.7 170,118.53 170,134.73 \" fill=\"none\" id=\"E7-&gt;E3\" style=\"stroke: #383838; stroke-width: 1.0;\"/><polygon fill=\"#FFFFFF\" points=\"170,154.92,163,135.92,177,135.92,170,154.92\" style=\"stroke: #383838; stroke-width: 1.0;\"/><ellipse cx=\"165\" cy=\"130.22\" fill=\"#383838\" rx=\"2\" ry=\"2\" style=\"stroke: #383838; stroke-width: 1.0;\"/><ellipse cx=\"175\" cy=\"130.22\" fill=\"#383838\" rx=\"2\" ry=\"2\" style=\"stroke: #383838; stroke-width: 1.0;\"/></a><!--MD5=[f1f3f9f2fc535e6147756cb86a7f2e32]\n",
       "link E8 to E2--><a href=\"psysml:19cda0c9-2775-4d9d-8cd8-191c5ad52b34\" target=\"_top\" title=\"psysml:19cda0c9-2775-4d9d-8cd8-191c5ad52b34\" xlink:actuate=\"onRequest\" xlink:href=\"psysml:19cda0c9-2775-4d9d-8cd8-191c5ad52b34\" xlink:show=\"new\" xlink:title=\"psysml:19cda0c9-2775-4d9d-8cd8-191c5ad52b34\" xlink:type=\"simple\"><path d=\"M102.16,207.81 C120.43,222.79 139,238 139,238 C139,238 150.31,254.97 163.11,274.17 \" fill=\"none\" id=\"E8-&gt;E2\" style=\"stroke: #383838; stroke-width: 1.0;\"/><polygon fill=\"#FFFFFF\" points=\"174.25,290.87,157.884,278.9472,169.5311,271.1791,174.25,290.87\" style=\"stroke: #383838; stroke-width: 1.0;\"/><ellipse cx=\"156.3851\" cy=\"273.0954\" fill=\"#383838\" rx=\"2\" ry=\"2\" style=\"stroke: #383838; stroke-width: 1.0;\"/><ellipse cx=\"164.7045\" cy=\"267.5467\" fill=\"#383838\" rx=\"2\" ry=\"2\" style=\"stroke: #383838; stroke-width: 1.0;\"/></a><!--MD5=[ed10624c06dd9a4fa49ccf290e8b16a8]\n",
       "link E8 to E9--><a href=\"psysml:28d39c7a-e0c7-42b0-858e-2cb4e488f108\" target=\"_top\" title=\"psysml:28d39c7a-e0c7-42b0-858e-2cb4e488f108\" xlink:actuate=\"onRequest\" xlink:href=\"psysml:28d39c7a-e0c7-42b0-858e-2cb4e488f108\" xlink:show=\"new\" xlink:title=\"psysml:28d39c7a-e0c7-42b0-858e-2cb4e488f108\" xlink:type=\"simple\"><path d=\"M68.06,218.32 C68.52,235.6 69.07,256.15 69.57,274.77 \" fill=\"none\" id=\"E8-E9\" style=\"stroke: #383838; stroke-width: 1.0;\"/><polygon fill=\"#383838\" points=\"69.84,284.88,72.6331,276.8054,66.6351,276.9599,69.84,284.88\" style=\"stroke: #383838; stroke-width: 1.0;\"/><path d=\"M59.4094,211.3865 A9,9 0 0 0 76.3176 210.9276\" fill=\"none\" style=\"stroke: #383838; stroke-width: 1.5;\"/><text fill=\"#000000\" font-family=\"sans-serif\" font-size=\"13\" lengthAdjust=\"spacingAndGlyphs\" textLength=\"60\" x=\"70\" y=\"251.0669\">«variant»</text></a><!--MD5=[0f36bececdf0dff6e600d6f64214b0f1]\n",
       "link E10 to E2--><a href=\"psysml:8cfcd01d-a74f-43be-a680-d41b6ee6accc\" target=\"_top\" title=\"psysml:8cfcd01d-a74f-43be-a680-d41b6ee6accc\" xlink:actuate=\"onRequest\" xlink:href=\"psysml:8cfcd01d-a74f-43be-a680-d41b6ee6accc\" xlink:show=\"new\" xlink:title=\"psysml:8cfcd01d-a74f-43be-a680-d41b6ee6accc\" xlink:type=\"simple\"><path d=\"M250.02,201.31 C242.51,219.95 231.48,247.35 221.59,271.91 \" fill=\"none\" id=\"E10-&gt;E2\" style=\"stroke: #383838; stroke-width: 1.0;\"/><polygon fill=\"#FFFFFF\" points=\"213.99,290.77,214.5927,270.5305,227.5796,275.7593,213.99,290.77\" style=\"stroke: #383838; stroke-width: 1.0;\"/><ellipse cx=\"218.5768\" cy=\"265.9899\" fill=\"#383838\" rx=\"2\" ry=\"2\" style=\"stroke: #383838; stroke-width: 1.0;\"/><ellipse cx=\"227.8532\" cy=\"269.7248\" fill=\"#383838\" rx=\"2\" ry=\"2\" style=\"stroke: #383838; stroke-width: 1.0;\"/></a><!--MD5=[b7b65e70b534f9b7cb0a4e3c79c46acb]\n",
       "@startuml\r\n",
       "skinparam linetype polyline\r\n",
       "skinparam monochrome true\r\n",
       "skinparam classbackgroundcolor white\r\n",
       "skinparam shadowing false\r\n",
       "skinparam wrapWidth 300\r\n",
       "hide circle\r\n",
       "\r\n",
       "package \"VariabilityTest\" as E1  [[psysml:c9192910-aa77-45a9-9ae3-16f7deb9d13d ]]  {\r\n",
       "comp def \"P\" as E2  <<(T,blue)part def>> [[psysml:28b4b804-815b-4815-9c5e-e5b09d6ccef7 ]] {\r\n",
       "- - attributes - -\r\n",
       "a\r\n",
       "}\r\n",
       "comp def \"Q\" as E3  <<(T,blue)part def>> [[psysml:3556ece0-f840-441c-8cd2-5d7027a1a805 ]] {\r\n",
       "}\r\n",
       "comp def \"B\" as E4  <<(T,blue)attribute def>> [[psysml:c1ea47d2-f15e-4f05-bf93-ec81669ca641 ]] {\r\n",
       "}\r\n",
       "comp def \"V\" as E5  <<(T,blue)part def>> [[psysml:735cd89a-e4b2-4dc5-b3d6-41534f400f39 ]] {\r\n",
       "}\r\n",
       "comp usage \"x: Q\" as E6  <<(T,blue)part>> [[psysml:0400016e-70f0-4405-a71c-97e49bd60e65 ]] {\r\n",
       "- - attributes - -\r\n",
       "b: B\\n//:>>P::a// \r\n",
       "}\r\n",
       "comp usage \"q: Q\" as E7  <<(T,blue)part>> [[psysml:ac43cc4c-8177-486e-b5a5-e877f62f9bc5 ]] {\r\n",
       "}\r\n",
       "comp usage \"v: P\" as E8  <<variation>>\\n <<(T,blue)part>> [[psysml:ce952eae-8bb1-4ad0-9f02-4c42d4c1d0c7 ]] {\r\n",
       "}\r\n",
       "comp usage \"q\" as E9  <<(T,blue)reference>> [[psysml:572dfe4e-6d7c-4ba8-94a3-d7ce0272bed9 ]] {\r\n",
       "- - attributes - -\r\n",
       "b: B\\n//:>>P::a// \r\n",
       "}\r\n",
       "comp usage \"y: P\" as E10  <<(T,blue)part>> [[psysml:983a8093-9810-4637-96cc-9ee8fb3d9cf5 ]] {\r\n",
       "}\r\n",
       "E3 - -|> E2 [[psysml:9e57242c-9184-4252-9565-bec20c63fdb8 ]] \r\n",
       "E5 - -|> E2 [[psysml:5cdbdbe7-d14c-45c9-a804-61f18115238e ]] \r\n",
       "E5 )- ->> E6 [[psysml:052c6ce9-d9db-4da6-90c4-ac16555550ac ]] : <<variant>>\r\n",
       "E7 - -:|> E3 [[psysml:648145d1-1ec9-42fc-8307-fa8910350658 ]] \r\n",
       "E8 - -:|> E2 [[psysml:19cda0c9-2775-4d9d-8cd8-191c5ad52b34 ]] \r\n",
       "E8 )- ->> E9 [[psysml:28d39c7a-e0c7-42b0-858e-2cb4e488f108 ]] : <<variant>>\r\n",
       "E10 - -:|> E2 [[psysml:8cfcd01d-a74f-43be-a680-d41b6ee6accc ]] \r\n",
       "}\r\n",
       "@enduml\r\n",
       "\n",
       "PlantUML version 1.2020.13(Sat Jun 13 12:26:38 UTC 2020)\n",
       "(EPL source distribution)\n",
       "Java Runtime: OpenJDK Runtime Environment\n",
       "JVM: OpenJDK 64-Bit Server VM\n",
       "Default Encoding: UTF-8\n",
       "Language: en\n",
       "Country: null\n",
       "--></g></svg>"
      ]
     },
     "execution_count": 9,
     "metadata": {},
     "output_type": "execute_result"
    }
   ],
   "source": [
    "%viz --style=\"POLYLINE\" --view=\"Default\" \"VariabilityTest\""
   ]
  },
  {
   "cell_type": "code",
   "execution_count": 10,
   "id": "6b4478eb",
   "metadata": {
    "execution": {
     "iopub.execute_input": "2021-05-28T10:47:54.578756Z",
     "iopub.status.busy": "2021-05-28T10:47:54.577896Z",
     "iopub.status.idle": "2021-05-28T10:47:54.660788Z",
     "shell.execute_reply": "2021-05-28T10:47:54.658990Z"
    }
   },
   "outputs": [
    {
     "data": {
      "image/svg+xml": [
       "<?xml version=\"1.0\" encoding=\"UTF-8\" standalone=\"no\"?><svg xmlns=\"http://www.w3.org/2000/svg\" xmlns:xlink=\"http://www.w3.org/1999/xlink\" contentScriptType=\"application/ecmascript\" contentStyleType=\"text/css\" height=\"401px\" preserveAspectRatio=\"none\" style=\"width:419px;height:401px;\" version=\"1.1\" viewBox=\"0 0 419 401\" width=\"419px\" zoomAndPan=\"magnify\"><defs/><g><!--MD5=[fbc87193dbaf4d95561dea2c320d4a47]\n",
       "cluster E1--><a href=\"psysml:c9192910-aa77-45a9-9ae3-16f7deb9d13d\" target=\"_top\" title=\"psysml:c9192910-aa77-45a9-9ae3-16f7deb9d13d\" xlink:actuate=\"onRequest\" xlink:href=\"psysml:c9192910-aa77-45a9-9ae3-16f7deb9d13d\" xlink:show=\"new\" xlink:title=\"psysml:c9192910-aa77-45a9-9ae3-16f7deb9d13d\" xlink:type=\"simple\"><polygon fill=\"#FFFFFF\" points=\"16,6,134,6,141,28.2969,397,28.2969,397,389,16,389,16,6\" style=\"stroke: #000000; stroke-width: 1.5;\"/><line style=\"stroke: #000000; stroke-width: 1.5;\" x1=\"16\" x2=\"141\" y1=\"28.2969\" y2=\"28.2969\"/><text fill=\"#000000\" font-family=\"sans-serif\" font-size=\"14\" font-weight=\"bold\" lengthAdjust=\"spacingAndGlyphs\" textLength=\"112\" x=\"20\" y=\"20.9951\">VariabilityTest</text></a><!--MD5=[b4997ac47864f28c2f74865a473b2911]\n",
       "class E2--><a href=\"psysml:28b4b804-815b-4815-9c5e-e5b09d6ccef7\" target=\"_top\" title=\"psysml:28b4b804-815b-4815-9c5e-e5b09d6ccef7\" xlink:actuate=\"onRequest\" xlink:href=\"psysml:28b4b804-815b-4815-9c5e-e5b09d6ccef7\" xlink:show=\"new\" xlink:title=\"psysml:28b4b804-815b-4815-9c5e-e5b09d6ccef7\" xlink:type=\"simple\"><rect fill=\"#FFFFFF\" height=\"75.5469\" id=\"E2\" style=\"stroke: #383838; stroke-width: 1.5;\" width=\"66\" x=\"166\" y=\"291\"/><text fill=\"#000000\" font-family=\"sans-serif\" font-size=\"12\" font-style=\"italic\" lengthAdjust=\"spacingAndGlyphs\" textLength=\"64\" x=\"167\" y=\"307.1387\">«part def»</text><text fill=\"#000000\" font-family=\"sans-serif\" font-size=\"12\" lengthAdjust=\"spacingAndGlyphs\" textLength=\"8\" x=\"195\" y=\"321.1074\">P</text><line style=\"stroke: #383838; stroke-width: 1.5;\" x1=\"167\" x2=\"231\" y1=\"328.9375\" y2=\"328.9375\"/><text fill=\"#000000\" font-family=\"sans-serif\" font-size=\"11\" lengthAdjust=\"spacingAndGlyphs\" textLength=\"7\" x=\"172\" y=\"359.9526\">a</text><line style=\"stroke: #383838; stroke-width: 1.0;\" x1=\"167\" x2=\"171.5\" y1=\"343.3398\" y2=\"343.3398\"/><text fill=\"#000000\" font-family=\"sans-serif\" font-size=\"11\" lengthAdjust=\"spacingAndGlyphs\" textLength=\"55\" x=\"171.5\" y=\"346.6479\">attributes</text><line style=\"stroke: #383838; stroke-width: 1.0;\" x1=\"226.5\" x2=\"231\" y1=\"343.3398\" y2=\"343.3398\"/></a><!--MD5=[09b614a08d8cba4a07c9adeb5e0fee81]\n",
       "class E3--><a href=\"psysml:3556ece0-f840-441c-8cd2-5d7027a1a805\" target=\"_top\" title=\"psysml:3556ece0-f840-441c-8cd2-5d7027a1a805\" xlink:actuate=\"onRequest\" xlink:href=\"psysml:3556ece0-f840-441c-8cd2-5d7027a1a805\" xlink:show=\"new\" xlink:title=\"psysml:3556ece0-f840-441c-8cd2-5d7027a1a805\" xlink:type=\"simple\"><rect fill=\"#FFFFFF\" height=\"45.9375\" id=\"E3\" style=\"stroke: #383838; stroke-width: 1.5;\" width=\"66\" x=\"137\" y=\"155\"/><text fill=\"#000000\" font-family=\"sans-serif\" font-size=\"12\" font-style=\"italic\" lengthAdjust=\"spacingAndGlyphs\" textLength=\"64\" x=\"138\" y=\"171.1387\">«part def»</text><text fill=\"#000000\" font-family=\"sans-serif\" font-size=\"12\" lengthAdjust=\"spacingAndGlyphs\" textLength=\"9\" x=\"165.5\" y=\"185.1074\">Q</text><line style=\"stroke: #383838; stroke-width: 1.5;\" x1=\"138\" x2=\"202\" y1=\"192.9375\" y2=\"192.9375\"/></a><!--MD5=[ebbe1d658d1005bcc118a6aa81145e00]\n",
       "class E4--><a href=\"psysml:c1ea47d2-f15e-4f05-bf93-ec81669ca641\" target=\"_top\" title=\"psysml:c1ea47d2-f15e-4f05-bf93-ec81669ca641\" xlink:actuate=\"onRequest\" xlink:href=\"psysml:c1ea47d2-f15e-4f05-bf93-ec81669ca641\" xlink:show=\"new\" xlink:title=\"psysml:c1ea47d2-f15e-4f05-bf93-ec81669ca641\" xlink:type=\"simple\"><rect fill=\"#FFFFFF\" height=\"45.9375\" id=\"E4\" style=\"stroke: #383838; stroke-width: 1.5;\" width=\"95\" x=\"255.5\" y=\"41\"/><text fill=\"#000000\" font-family=\"sans-serif\" font-size=\"12\" font-style=\"italic\" lengthAdjust=\"spacingAndGlyphs\" textLength=\"93\" x=\"256.5\" y=\"57.1387\">«attribute def»</text><text fill=\"#000000\" font-family=\"sans-serif\" font-size=\"12\" lengthAdjust=\"spacingAndGlyphs\" textLength=\"8\" x=\"299\" y=\"71.1074\">B</text><line style=\"stroke: #383838; stroke-width: 1.5;\" x1=\"256.5\" x2=\"349.5\" y1=\"78.9375\" y2=\"78.9375\"/></a><!--MD5=[270fce915f116d4de14055a7c1d9a0f3]\n",
       "class E5--><a href=\"psysml:735cd89a-e4b2-4dc5-b3d6-41534f400f39\" target=\"_top\" title=\"psysml:735cd89a-e4b2-4dc5-b3d6-41534f400f39\" xlink:actuate=\"onRequest\" xlink:href=\"psysml:735cd89a-e4b2-4dc5-b3d6-41534f400f39\" xlink:show=\"new\" xlink:title=\"psysml:735cd89a-e4b2-4dc5-b3d6-41534f400f39\" xlink:type=\"simple\"><rect fill=\"#FFFFFF\" height=\"45.9375\" id=\"E5\" style=\"stroke: #383838; stroke-width: 1.5;\" width=\"66\" x=\"315\" y=\"155\"/><text fill=\"#000000\" font-family=\"sans-serif\" font-size=\"12\" font-style=\"italic\" lengthAdjust=\"spacingAndGlyphs\" textLength=\"64\" x=\"316\" y=\"171.1387\">«part def»</text><text fill=\"#000000\" font-family=\"sans-serif\" font-size=\"12\" lengthAdjust=\"spacingAndGlyphs\" textLength=\"8\" x=\"344\" y=\"185.1074\">V</text><line style=\"stroke: #383838; stroke-width: 1.5;\" x1=\"316\" x2=\"380\" y1=\"192.9375\" y2=\"192.9375\"/></a><!--MD5=[60a26617385b1d2d0262a64233df1f8d]\n",
       "class E6--><a href=\"psysml:0400016e-70f0-4405-a71c-97e49bd60e65\" target=\"_top\" title=\"psysml:0400016e-70f0-4405-a71c-97e49bd60e65\" xlink:actuate=\"onRequest\" xlink:href=\"psysml:0400016e-70f0-4405-a71c-97e49bd60e65\" xlink:show=\"new\" xlink:title=\"psysml:0400016e-70f0-4405-a71c-97e49bd60e65\" xlink:type=\"simple\"><rect fill=\"#FFFFFF\" height=\"88.3516\" id=\"E6\" rx=\"10\" ry=\"10\" style=\"stroke: #383838; stroke-width: 1.5;\" width=\"63\" x=\"287.5\" y=\"285\"/><text fill=\"#000000\" font-family=\"sans-serif\" font-size=\"12\" font-style=\"italic\" lengthAdjust=\"spacingAndGlyphs\" textLength=\"40\" x=\"299\" y=\"301.1387\">«part»</text><text fill=\"#000000\" font-family=\"sans-serif\" font-size=\"12\" lengthAdjust=\"spacingAndGlyphs\" textLength=\"23\" x=\"307.5\" y=\"315.1074\">x: Q</text><line style=\"stroke: #383838; stroke-width: 1.5;\" x1=\"288.5\" x2=\"349.5\" y1=\"322.9375\" y2=\"322.9375\"/><text fill=\"#000000\" font-family=\"sans-serif\" font-size=\"11\" lengthAdjust=\"spacingAndGlyphs\" textLength=\"23\" x=\"293.5\" y=\"353.9526\">b: B</text><text fill=\"#000000\" font-family=\"sans-serif\" font-size=\"11\" font-style=\"italic\" lengthAdjust=\"spacingAndGlyphs\" textLength=\"44\" x=\"293.5\" y=\"366.7573\">:&gt;&gt;P::a</text><line style=\"stroke: #383838; stroke-width: 1.0;\" x1=\"288.5\" x2=\"291.5\" y1=\"337.3398\" y2=\"337.3398\"/><text fill=\"#000000\" font-family=\"sans-serif\" font-size=\"11\" lengthAdjust=\"spacingAndGlyphs\" textLength=\"55\" x=\"291.5\" y=\"340.6479\">attributes</text><line style=\"stroke: #383838; stroke-width: 1.0;\" x1=\"346.5\" x2=\"349.5\" y1=\"337.3398\" y2=\"337.3398\"/></a><!--MD5=[2156ba9850f5573cc1fc38a6a4b2f02b]\n",
       "class E7--><a href=\"psysml:ac43cc4c-8177-486e-b5a5-e877f62f9bc5\" target=\"_top\" title=\"psysml:ac43cc4c-8177-486e-b5a5-e877f62f9bc5\" xlink:actuate=\"onRequest\" xlink:href=\"psysml:ac43cc4c-8177-486e-b5a5-e877f62f9bc5\" xlink:show=\"new\" xlink:title=\"psysml:ac43cc4c-8177-486e-b5a5-e877f62f9bc5\" xlink:type=\"simple\"><rect fill=\"#FFFFFF\" height=\"45.9375\" id=\"E7\" rx=\"10\" ry=\"10\" style=\"stroke: #383838; stroke-width: 1.5;\" width=\"42\" x=\"149\" y=\"41\"/><text fill=\"#000000\" font-family=\"sans-serif\" font-size=\"12\" font-style=\"italic\" lengthAdjust=\"spacingAndGlyphs\" textLength=\"40\" x=\"150\" y=\"57.1387\">«part»</text><text fill=\"#000000\" font-family=\"sans-serif\" font-size=\"12\" lengthAdjust=\"spacingAndGlyphs\" textLength=\"25\" x=\"157.5\" y=\"71.1074\">q: Q</text><line style=\"stroke: #383838; stroke-width: 1.5;\" x1=\"150\" x2=\"190\" y1=\"78.9375\" y2=\"78.9375\"/></a><!--MD5=[b9389687b975829384b498ac4b7476b2]\n",
       "class E8--><a href=\"psysml:ce952eae-8bb1-4ad0-9f02-4c42d4c1d0c7\" target=\"_top\" title=\"psysml:ce952eae-8bb1-4ad0-9f02-4c42d4c1d0c7\" xlink:actuate=\"onRequest\" xlink:href=\"psysml:ce952eae-8bb1-4ad0-9f02-4c42d4c1d0c7\" xlink:show=\"new\" xlink:title=\"psysml:ce952eae-8bb1-4ad0-9f02-4c42d4c1d0c7\" xlink:type=\"simple\"><rect fill=\"#FFFFFF\" height=\"59.9063\" id=\"E8\" rx=\"10\" ry=\"10\" style=\"stroke: #383838; stroke-width: 1.5;\" width=\"70\" x=\"32\" y=\"148\"/><text fill=\"#000000\" font-family=\"sans-serif\" font-size=\"12\" font-style=\"italic\" lengthAdjust=\"spacingAndGlyphs\" textLength=\"68\" x=\"33\" y=\"164.1387\">«variation»</text><text fill=\"#000000\" font-family=\"sans-serif\" font-size=\"12\" font-style=\"italic\" lengthAdjust=\"spacingAndGlyphs\" textLength=\"40\" x=\"47\" y=\"178.1074\">«part»</text><text fill=\"#000000\" font-family=\"sans-serif\" font-size=\"12\" lengthAdjust=\"spacingAndGlyphs\" textLength=\"22\" x=\"56\" y=\"192.0762\">v: P</text><line style=\"stroke: #383838; stroke-width: 1.5;\" x1=\"33\" x2=\"101\" y1=\"199.9063\" y2=\"199.9063\"/></a><!--MD5=[fd4143e9d270a159db93a4ea2a975926]\n",
       "class E9--><a href=\"psysml:572dfe4e-6d7c-4ba8-94a3-d7ce0272bed9\" target=\"_top\" title=\"psysml:572dfe4e-6d7c-4ba8-94a3-d7ce0272bed9\" xlink:actuate=\"onRequest\" xlink:href=\"psysml:572dfe4e-6d7c-4ba8-94a3-d7ce0272bed9\" xlink:show=\"new\" xlink:title=\"psysml:572dfe4e-6d7c-4ba8-94a3-d7ce0272bed9\" xlink:type=\"simple\"><rect fill=\"#FFFFFF\" height=\"88.3516\" id=\"E9\" rx=\"10\" ry=\"10\" style=\"stroke: #383838; stroke-width: 1.5;\" width=\"77\" x=\"32.5\" y=\"285\"/><text fill=\"#000000\" font-family=\"sans-serif\" font-size=\"12\" font-style=\"italic\" lengthAdjust=\"spacingAndGlyphs\" textLength=\"75\" x=\"33.5\" y=\"301.1387\">«reference»</text><text fill=\"#000000\" font-family=\"sans-serif\" font-size=\"12\" lengthAdjust=\"spacingAndGlyphs\" textLength=\"8\" x=\"67\" y=\"315.1074\">q</text><line style=\"stroke: #383838; stroke-width: 1.5;\" x1=\"33.5\" x2=\"108.5\" y1=\"322.9375\" y2=\"322.9375\"/><text fill=\"#000000\" font-family=\"sans-serif\" font-size=\"11\" lengthAdjust=\"spacingAndGlyphs\" textLength=\"23\" x=\"38.5\" y=\"353.9526\">b: B</text><text fill=\"#000000\" font-family=\"sans-serif\" font-size=\"11\" font-style=\"italic\" lengthAdjust=\"spacingAndGlyphs\" textLength=\"44\" x=\"38.5\" y=\"366.7573\">:&gt;&gt;P::a</text><line style=\"stroke: #383838; stroke-width: 1.0;\" x1=\"33.5\" x2=\"43.5\" y1=\"337.3398\" y2=\"337.3398\"/><text fill=\"#000000\" font-family=\"sans-serif\" font-size=\"11\" lengthAdjust=\"spacingAndGlyphs\" textLength=\"55\" x=\"43.5\" y=\"340.6479\">attributes</text><line style=\"stroke: #383838; stroke-width: 1.0;\" x1=\"98.5\" x2=\"108.5\" y1=\"337.3398\" y2=\"337.3398\"/></a><!--MD5=[96f4274e9e20536e775497830990834d]\n",
       "class E10--><a href=\"psysml:983a8093-9810-4637-96cc-9ee8fb3d9cf5\" target=\"_top\" title=\"psysml:983a8093-9810-4637-96cc-9ee8fb3d9cf5\" xlink:actuate=\"onRequest\" xlink:href=\"psysml:983a8093-9810-4637-96cc-9ee8fb3d9cf5\" xlink:show=\"new\" xlink:title=\"psysml:983a8093-9810-4637-96cc-9ee8fb3d9cf5\" xlink:type=\"simple\"><rect fill=\"#FFFFFF\" height=\"45.9375\" id=\"E10\" rx=\"10\" ry=\"10\" style=\"stroke: #383838; stroke-width: 1.5;\" width=\"42\" x=\"238\" y=\"155\"/><text fill=\"#000000\" font-family=\"sans-serif\" font-size=\"12\" font-style=\"italic\" lengthAdjust=\"spacingAndGlyphs\" textLength=\"40\" x=\"239\" y=\"171.1387\">«part»</text><text fill=\"#000000\" font-family=\"sans-serif\" font-size=\"12\" lengthAdjust=\"spacingAndGlyphs\" textLength=\"22\" x=\"248\" y=\"185.1074\">y: P</text><line style=\"stroke: #383838; stroke-width: 1.5;\" x1=\"239\" x2=\"279\" y1=\"192.9375\" y2=\"192.9375\"/></a><!--MD5=[05d275557350bfb9b23a4ef7222b4c39]\n",
       "link E3 to E2--><a href=\"psysml:9e57242c-9184-4252-9565-bec20c63fdb8\" target=\"_top\" title=\"psysml:9e57242c-9184-4252-9565-bec20c63fdb8\" xlink:actuate=\"onRequest\" xlink:href=\"psysml:9e57242c-9184-4252-9565-bec20c63fdb8\" xlink:show=\"new\" xlink:title=\"psysml:9e57242c-9184-4252-9565-bec20c63fdb8\" xlink:type=\"simple\"><path d=\"M174.34,201.31 C177.92,219.67 183.15,246.54 187.87,270.81 \" fill=\"none\" id=\"E3-&gt;E2\" style=\"stroke: #383838; stroke-width: 1.0;\"/><polygon fill=\"none\" points=\"194.8,269.8,191.75,290.77,181.06,272.47,194.8,269.8\" style=\"stroke: #383838; stroke-width: 1.0;\"/></a><!--MD5=[15ebcb19ae302d9b601edb458606d402]\n",
       "link E5 to E2--><a href=\"psysml:5cdbdbe7-d14c-45c9-a804-61f18115238e\" target=\"_top\" title=\"psysml:5cdbdbe7-d14c-45c9-a804-61f18115238e\" xlink:actuate=\"onRequest\" xlink:href=\"psysml:5cdbdbe7-d14c-45c9-a804-61f18115238e\" xlink:show=\"new\" xlink:title=\"psysml:5cdbdbe7-d14c-45c9-a804-61f18115238e\" xlink:type=\"simple\"><path d=\"M325.69,201.31 C304.9,222.1 273.2,253.8 246.71,280.29 \" fill=\"none\" id=\"E5-&gt;E2\" style=\"stroke: #383838; stroke-width: 1.0;\"/><polygon fill=\"none\" points=\"251.33,285.57,232.24,294.76,241.43,275.67,251.33,285.57\" style=\"stroke: #383838; stroke-width: 1.0;\"/></a><!--MD5=[9120cf2e5df3bff93db8f754bbbc09b4]\n",
       "link E5 to E6--><a href=\"psysml:052c6ce9-d9db-4da6-90c4-ac16555550ac\" target=\"_top\" title=\"psysml:052c6ce9-d9db-4da6-90c4-ac16555550ac\" xlink:actuate=\"onRequest\" xlink:href=\"psysml:052c6ce9-d9db-4da6-90c4-ac16555550ac\" xlink:show=\"new\" xlink:title=\"psysml:052c6ce9-d9db-4da6-90c4-ac16555550ac\" xlink:type=\"simple\"><path d=\"M341.72,211.26 C338.1,229.85 333.47,253.68 329.32,274.95 \" fill=\"none\" id=\"E5-E6\" style=\"stroke: #383838; stroke-width: 1.0;\"/><polygon fill=\"#383838\" points=\"327.4,284.84,331.8761,277.5623,325.987,276.4136,327.4,284.84\" style=\"stroke: #383838; stroke-width: 1.0;\"/><path d=\"M334.7699,202.7122 A9,9 0 0 0 351.3715 205.9503\" fill=\"none\" style=\"stroke: #383838; stroke-width: 1.5;\"/><text fill=\"#000000\" font-family=\"sans-serif\" font-size=\"13\" lengthAdjust=\"spacingAndGlyphs\" textLength=\"60\" x=\"337\" y=\"251.0669\">«variant»</text></a><!--MD5=[14ccda38c055a5c0da953d572bc50960]\n",
       "link E7 to E3--><a href=\"psysml:648145d1-1ec9-42fc-8307-fa8910350658\" target=\"_top\" title=\"psysml:648145d1-1ec9-42fc-8307-fa8910350658\" xlink:actuate=\"onRequest\" xlink:href=\"psysml:648145d1-1ec9-42fc-8307-fa8910350658\" xlink:show=\"new\" xlink:title=\"psysml:648145d1-1ec9-42fc-8307-fa8910350658\" xlink:type=\"simple\"><path d=\"M170,87.13 C170,100.7 170,118.53 170,134.73 \" fill=\"none\" id=\"E7-&gt;E3\" style=\"stroke: #383838; stroke-width: 1.0;\"/><polygon fill=\"#FFFFFF\" points=\"170,154.92,163,135.92,177,135.92,170,154.92\" style=\"stroke: #383838; stroke-width: 1.0;\"/><ellipse cx=\"165\" cy=\"130.22\" fill=\"#383838\" rx=\"2\" ry=\"2\" style=\"stroke: #383838; stroke-width: 1.0;\"/><ellipse cx=\"175\" cy=\"130.22\" fill=\"#383838\" rx=\"2\" ry=\"2\" style=\"stroke: #383838; stroke-width: 1.0;\"/></a><!--MD5=[f1f3f9f2fc535e6147756cb86a7f2e32]\n",
       "link E8 to E2--><a href=\"psysml:19cda0c9-2775-4d9d-8cd8-191c5ad52b34\" target=\"_top\" title=\"psysml:19cda0c9-2775-4d9d-8cd8-191c5ad52b34\" xlink:actuate=\"onRequest\" xlink:href=\"psysml:19cda0c9-2775-4d9d-8cd8-191c5ad52b34\" xlink:show=\"new\" xlink:title=\"psysml:19cda0c9-2775-4d9d-8cd8-191c5ad52b34\" xlink:type=\"simple\"><path d=\"M102.16,207.81 C120.43,222.79 139,238 139,238 C139,238 150.31,254.97 163.11,274.17 \" fill=\"none\" id=\"E8-&gt;E2\" style=\"stroke: #383838; stroke-width: 1.0;\"/><polygon fill=\"#FFFFFF\" points=\"174.25,290.87,157.884,278.9472,169.5311,271.1791,174.25,290.87\" style=\"stroke: #383838; stroke-width: 1.0;\"/><ellipse cx=\"156.3851\" cy=\"273.0954\" fill=\"#383838\" rx=\"2\" ry=\"2\" style=\"stroke: #383838; stroke-width: 1.0;\"/><ellipse cx=\"164.7045\" cy=\"267.5467\" fill=\"#383838\" rx=\"2\" ry=\"2\" style=\"stroke: #383838; stroke-width: 1.0;\"/></a><!--MD5=[ed10624c06dd9a4fa49ccf290e8b16a8]\n",
       "link E8 to E9--><a href=\"psysml:28d39c7a-e0c7-42b0-858e-2cb4e488f108\" target=\"_top\" title=\"psysml:28d39c7a-e0c7-42b0-858e-2cb4e488f108\" xlink:actuate=\"onRequest\" xlink:href=\"psysml:28d39c7a-e0c7-42b0-858e-2cb4e488f108\" xlink:show=\"new\" xlink:title=\"psysml:28d39c7a-e0c7-42b0-858e-2cb4e488f108\" xlink:type=\"simple\"><path d=\"M68.06,218.32 C68.52,235.6 69.07,256.15 69.57,274.77 \" fill=\"none\" id=\"E8-E9\" style=\"stroke: #383838; stroke-width: 1.0;\"/><polygon fill=\"#383838\" points=\"69.84,284.88,72.6331,276.8054,66.6351,276.9599,69.84,284.88\" style=\"stroke: #383838; stroke-width: 1.0;\"/><path d=\"M59.4094,211.3865 A9,9 0 0 0 76.3176 210.9276\" fill=\"none\" style=\"stroke: #383838; stroke-width: 1.5;\"/><text fill=\"#000000\" font-family=\"sans-serif\" font-size=\"13\" lengthAdjust=\"spacingAndGlyphs\" textLength=\"60\" x=\"70\" y=\"251.0669\">«variant»</text></a><!--MD5=[0f36bececdf0dff6e600d6f64214b0f1]\n",
       "link E10 to E2--><a href=\"psysml:8cfcd01d-a74f-43be-a680-d41b6ee6accc\" target=\"_top\" title=\"psysml:8cfcd01d-a74f-43be-a680-d41b6ee6accc\" xlink:actuate=\"onRequest\" xlink:href=\"psysml:8cfcd01d-a74f-43be-a680-d41b6ee6accc\" xlink:show=\"new\" xlink:title=\"psysml:8cfcd01d-a74f-43be-a680-d41b6ee6accc\" xlink:type=\"simple\"><path d=\"M250.02,201.31 C242.51,219.95 231.48,247.35 221.59,271.91 \" fill=\"none\" id=\"E10-&gt;E2\" style=\"stroke: #383838; stroke-width: 1.0;\"/><polygon fill=\"#FFFFFF\" points=\"213.99,290.77,214.5927,270.5305,227.5796,275.7593,213.99,290.77\" style=\"stroke: #383838; stroke-width: 1.0;\"/><ellipse cx=\"218.5768\" cy=\"265.9899\" fill=\"#383838\" rx=\"2\" ry=\"2\" style=\"stroke: #383838; stroke-width: 1.0;\"/><ellipse cx=\"227.8532\" cy=\"269.7248\" fill=\"#383838\" rx=\"2\" ry=\"2\" style=\"stroke: #383838; stroke-width: 1.0;\"/></a><!--MD5=[b7b65e70b534f9b7cb0a4e3c79c46acb]\n",
       "@startuml\r\n",
       "skinparam linetype polyline\r\n",
       "skinparam monochrome true\r\n",
       "skinparam classbackgroundcolor white\r\n",
       "skinparam shadowing false\r\n",
       "skinparam wrapWidth 300\r\n",
       "hide circle\r\n",
       "\r\n",
       "package \"VariabilityTest\" as E1  [[psysml:c9192910-aa77-45a9-9ae3-16f7deb9d13d ]]  {\r\n",
       "comp def \"P\" as E2  <<(T,blue)part def>> [[psysml:28b4b804-815b-4815-9c5e-e5b09d6ccef7 ]] {\r\n",
       "- - attributes - -\r\n",
       "a\r\n",
       "}\r\n",
       "comp def \"Q\" as E3  <<(T,blue)part def>> [[psysml:3556ece0-f840-441c-8cd2-5d7027a1a805 ]] {\r\n",
       "}\r\n",
       "comp def \"B\" as E4  <<(T,blue)attribute def>> [[psysml:c1ea47d2-f15e-4f05-bf93-ec81669ca641 ]] {\r\n",
       "}\r\n",
       "comp def \"V\" as E5  <<(T,blue)part def>> [[psysml:735cd89a-e4b2-4dc5-b3d6-41534f400f39 ]] {\r\n",
       "}\r\n",
       "comp usage \"x: Q\" as E6  <<(T,blue)part>> [[psysml:0400016e-70f0-4405-a71c-97e49bd60e65 ]] {\r\n",
       "- - attributes - -\r\n",
       "b: B\\n//:>>P::a// \r\n",
       "}\r\n",
       "comp usage \"q: Q\" as E7  <<(T,blue)part>> [[psysml:ac43cc4c-8177-486e-b5a5-e877f62f9bc5 ]] {\r\n",
       "}\r\n",
       "comp usage \"v: P\" as E8  <<variation>>\\n <<(T,blue)part>> [[psysml:ce952eae-8bb1-4ad0-9f02-4c42d4c1d0c7 ]] {\r\n",
       "}\r\n",
       "comp usage \"q\" as E9  <<(T,blue)reference>> [[psysml:572dfe4e-6d7c-4ba8-94a3-d7ce0272bed9 ]] {\r\n",
       "- - attributes - -\r\n",
       "b: B\\n//:>>P::a// \r\n",
       "}\r\n",
       "comp usage \"y: P\" as E10  <<(T,blue)part>> [[psysml:983a8093-9810-4637-96cc-9ee8fb3d9cf5 ]] {\r\n",
       "}\r\n",
       "E3 - -|> E2 [[psysml:9e57242c-9184-4252-9565-bec20c63fdb8 ]] \r\n",
       "E5 - -|> E2 [[psysml:5cdbdbe7-d14c-45c9-a804-61f18115238e ]] \r\n",
       "E5 )- ->> E6 [[psysml:052c6ce9-d9db-4da6-90c4-ac16555550ac ]] : <<variant>>\r\n",
       "E7 - -:|> E3 [[psysml:648145d1-1ec9-42fc-8307-fa8910350658 ]] \r\n",
       "E8 - -:|> E2 [[psysml:19cda0c9-2775-4d9d-8cd8-191c5ad52b34 ]] \r\n",
       "E8 )- ->> E9 [[psysml:28d39c7a-e0c7-42b0-858e-2cb4e488f108 ]] : <<variant>>\r\n",
       "E10 - -:|> E2 [[psysml:8cfcd01d-a74f-43be-a680-d41b6ee6accc ]] \r\n",
       "}\r\n",
       "@enduml\r\n",
       "\n",
       "PlantUML version 1.2020.13(Sat Jun 13 12:26:38 UTC 2020)\n",
       "(EPL source distribution)\n",
       "Java Runtime: OpenJDK Runtime Environment\n",
       "JVM: OpenJDK 64-Bit Server VM\n",
       "Default Encoding: UTF-8\n",
       "Language: en\n",
       "Country: null\n",
       "--></g></svg>"
      ]
     },
     "execution_count": 10,
     "metadata": {},
     "output_type": "execute_result"
    }
   ],
   "source": [
    "%viz --style=\"POLYLINE\" --view=\"Tree\" \"VariabilityTest\""
   ]
  },
  {
   "cell_type": "code",
   "execution_count": 11,
   "id": "0cc46ded",
   "metadata": {
    "execution": {
     "iopub.execute_input": "2021-05-28T10:47:54.712784Z",
     "iopub.status.busy": "2021-05-28T10:47:54.711931Z",
     "iopub.status.idle": "2021-05-28T10:47:54.719037Z",
     "shell.execute_reply": "2021-05-28T10:47:54.718658Z"
    }
   },
   "outputs": [
    {
     "data": {
      "image/svg+xml": [
       "<?xml version=\"1.0\" encoding=\"UTF-8\" standalone=\"no\"?><svg xmlns=\"http://www.w3.org/2000/svg\" xmlns:xlink=\"http://www.w3.org/1999/xlink\" contentScriptType=\"application/ecmascript\" contentStyleType=\"text/css\" height=\"12px\" preserveAspectRatio=\"none\" style=\"width:12px;height:12px;\" version=\"1.1\" viewBox=\"0 0 12 12\" width=\"12px\" zoomAndPan=\"magnify\"><defs/><g><!--MD5=[896ac0e7a515d8dd7765a661cb4ee08b]\n",
       "@startuml\r\n",
       "skinparam linetype polyline\r\n",
       "skinparam monochrome true\r\n",
       "skinparam classbackgroundcolor white\r\n",
       "skinparam shadowing false\r\n",
       "skinparam wrapWidth 300\r\n",
       "hide circle\r\n",
       "\r\n",
       "@enduml\r\n",
       "\n",
       "PlantUML version 1.2020.13(Sat Jun 13 12:26:38 UTC 2020)\n",
       "(EPL source distribution)\n",
       "Java Runtime: OpenJDK Runtime Environment\n",
       "JVM: OpenJDK 64-Bit Server VM\n",
       "Default Encoding: UTF-8\n",
       "Language: en\n",
       "Country: null\n",
       "--></g></svg>"
      ]
     },
     "execution_count": 11,
     "metadata": {},
     "output_type": "execute_result"
    }
   ],
   "source": [
    "%viz --style=\"POLYLINE\" --view=\"State\" \"VariabilityTest\""
   ]
  },
  {
   "cell_type": "code",
   "execution_count": 12,
   "id": "7ec38552",
   "metadata": {
    "execution": {
     "iopub.execute_input": "2021-05-28T10:47:54.771443Z",
     "iopub.status.busy": "2021-05-28T10:47:54.770735Z",
     "iopub.status.idle": "2021-05-28T10:47:54.848073Z",
     "shell.execute_reply": "2021-05-28T10:47:54.847735Z"
    }
   },
   "outputs": [
    {
     "data": {
      "image/svg+xml": [
       "<?xml version=\"1.0\" encoding=\"UTF-8\" standalone=\"no\"?><svg xmlns=\"http://www.w3.org/2000/svg\" xmlns:xlink=\"http://www.w3.org/1999/xlink\" contentScriptType=\"application/ecmascript\" contentStyleType=\"text/css\" height=\"427px\" preserveAspectRatio=\"none\" style=\"width:779px;height:427px;\" version=\"1.1\" viewBox=\"0 0 779 427\" width=\"779px\" zoomAndPan=\"magnify\"><defs/><g><!--MD5=[fbc87193dbaf4d95561dea2c320d4a47]\n",
       "cluster E1--><a href=\"psysml:c9192910-aa77-45a9-9ae3-16f7deb9d13d\" target=\"_top\" title=\"psysml:c9192910-aa77-45a9-9ae3-16f7deb9d13d\" xlink:actuate=\"onRequest\" xlink:href=\"psysml:c9192910-aa77-45a9-9ae3-16f7deb9d13d\" xlink:show=\"new\" xlink:title=\"psysml:c9192910-aa77-45a9-9ae3-16f7deb9d13d\" xlink:type=\"simple\"><polygon fill=\"#FFFFFF\" points=\"16,6,134,6,141,28.2969,757,28.2969,757,415,16,415,16,6\" style=\"stroke: #000000; stroke-width: 1.5;\"/><line style=\"stroke: #000000; stroke-width: 1.5;\" x1=\"16\" x2=\"141\" y1=\"28.2969\" y2=\"28.2969\"/><text fill=\"#000000\" font-family=\"sans-serif\" font-size=\"14\" font-weight=\"bold\" lengthAdjust=\"spacingAndGlyphs\" textLength=\"112\" x=\"20\" y=\"20.9951\">VariabilityTest</text></a><!--MD5=[e4f7fae6ed58524ba242bb0b0d3be6b7]\n",
       "cluster E2--><a href=\"psysml:28b4b804-815b-4815-9c5e-e5b09d6ccef7\" target=\"_top\" title=\"psysml:28b4b804-815b-4815-9c5e-e5b09d6ccef7\" xlink:actuate=\"onRequest\" xlink:href=\"psysml:28b4b804-815b-4815-9c5e-e5b09d6ccef7\" xlink:show=\"new\" xlink:title=\"psysml:28b4b804-815b-4815-9c5e-e5b09d6ccef7\" xlink:type=\"simple\"><rect fill=\"#FFFFFF\" height=\"129\" id=\"E2\" style=\"stroke: #383838; stroke-width: 1.5;\" width=\"139\" x=\"420\" y=\"254\"/><rect fill=\"#F8F8F8\" height=\"37.9375\" style=\"stroke: #383838; stroke-width: 1.5;\" width=\"139\" x=\"420\" y=\"254\"/><text fill=\"#000000\" font-family=\"sans-serif\" font-size=\"12\" font-style=\"italic\" lengthAdjust=\"spacingAndGlyphs\" textLength=\"64\" x=\"457.5\" y=\"270.1387\">«part def»</text><text fill=\"#000000\" font-family=\"sans-serif\" font-size=\"12\" lengthAdjust=\"spacingAndGlyphs\" textLength=\"8\" x=\"485.5\" y=\"284.1074\">P</text></a><!--MD5=[14e3b0961a2654348d326746436168a1]\n",
       "cluster E6--><a href=\"psysml:735cd89a-e4b2-4dc5-b3d6-41534f400f39\" target=\"_top\" title=\"psysml:735cd89a-e4b2-4dc5-b3d6-41534f400f39\" xlink:actuate=\"onRequest\" xlink:href=\"psysml:735cd89a-e4b2-4dc5-b3d6-41534f400f39\" xlink:show=\"new\" xlink:title=\"psysml:735cd89a-e4b2-4dc5-b3d6-41534f400f39\" xlink:type=\"simple\"><rect fill=\"#FFFFFF\" height=\"157\" id=\"E6\" style=\"stroke: #383838; stroke-width: 1.5;\" width=\"131\" x=\"594\" y=\"57\"/><rect fill=\"#F8F8F8\" height=\"37.9375\" style=\"stroke: #383838; stroke-width: 1.5;\" width=\"131\" x=\"594\" y=\"57\"/><text fill=\"#000000\" font-family=\"sans-serif\" font-size=\"12\" font-style=\"italic\" lengthAdjust=\"spacingAndGlyphs\" textLength=\"64\" x=\"627.5\" y=\"73.1387\">«part def»</text><text fill=\"#000000\" font-family=\"sans-serif\" font-size=\"12\" lengthAdjust=\"spacingAndGlyphs\" textLength=\"8\" x=\"655.5\" y=\"87.1074\">V</text></a><!--MD5=[7f149f147074ac12df2cb0a7728a5fb0]\n",
       "cluster E9--><a href=\"psysml:ce952eae-8bb1-4ad0-9f02-4c42d4c1d0c7\" target=\"_top\" title=\"psysml:ce952eae-8bb1-4ad0-9f02-4c42d4c1d0c7\" xlink:actuate=\"onRequest\" xlink:href=\"psysml:ce952eae-8bb1-4ad0-9f02-4c42d4c1d0c7\" xlink:show=\"new\" xlink:title=\"psysml:ce952eae-8bb1-4ad0-9f02-4c42d4c1d0c7\" xlink:type=\"simple\"><rect fill=\"#FFFFFF\" height=\"155\" id=\"E9\" rx=\"10\" ry=\"10\" style=\"stroke: #383838; stroke-width: 1.5;\" width=\"110\" x=\"452\" y=\"58\"/><rect fill=\"#F8F8F8\" height=\"37.9375\" rx=\"10\" ry=\"10\" style=\"stroke: #F8F8F8; stroke-width: 1.5;\" width=\"110\" x=\"452\" y=\"58\"/><rect fill=\"#F8F8F8\" height=\"10\" style=\"stroke: #F8F8F8; stroke-width: 1.5;\" width=\"110\" x=\"452\" y=\"85.9375\"/><rect fill=\"none\" height=\"155\" id=\"E9\" rx=\"10\" ry=\"10\" style=\"stroke: #383838; stroke-width: 1.5;\" width=\"110\" x=\"452\" y=\"58\"/><text fill=\"#000000\" font-family=\"sans-serif\" font-size=\"12\" font-style=\"italic\" lengthAdjust=\"spacingAndGlyphs\" textLength=\"68\" x=\"473\" y=\"74.1387\">«variation»</text><text fill=\"#000000\" font-family=\"sans-serif\" font-size=\"12\" lengthAdjust=\"spacingAndGlyphs\" textLength=\"22\" x=\"496\" y=\"88.1074\">v: P</text><line style=\"stroke: #383838; stroke-width: 1.0;\" x1=\"452\" x2=\"562\" y1=\"95.9375\" y2=\"95.9375\"/></a><g id=\"E1.E5\"><a href=\"psysml:c1ea47d2-f15e-4f05-bf93-ec81669ca641\" target=\"_top\" title=\"psysml:c1ea47d2-f15e-4f05-bf93-ec81669ca641\" xlink:actuate=\"onRequest\" xlink:href=\"psysml:c1ea47d2-f15e-4f05-bf93-ec81669ca641\" xlink:show=\"new\" xlink:title=\"psysml:c1ea47d2-f15e-4f05-bf93-ec81669ca641\" xlink:type=\"simple\"><rect fill=\"#FFFFFF\" height=\"42.9375\" id=\"E5\" style=\"stroke: #383838; stroke-width: 1.5;\" width=\"100\" x=\"333\" y=\"131.5\"/><rect fill=\"#F8F8F8\" height=\"37.9375\" style=\"stroke: #383838; stroke-width: 1.5;\" width=\"100\" x=\"333\" y=\"131.5\"/><text fill=\"#000000\" font-family=\"sans-serif\" font-size=\"12\" font-style=\"italic\" lengthAdjust=\"spacingAndGlyphs\" textLength=\"93\" x=\"336.5\" y=\"147.6387\">«attribute def»</text><text fill=\"#000000\" font-family=\"sans-serif\" font-size=\"12\" lengthAdjust=\"spacingAndGlyphs\" textLength=\"8\" x=\"379\" y=\"161.6074\">B</text></a></g><!--MD5=[09b614a08d8cba4a07c9adeb5e0fee81]\n",
       "class E3--><a href=\"psysml:29e7d07c-e0ef-43b2-a175-0967043bb668\" target=\"_top\" title=\"psysml:29e7d07c-e0ef-43b2-a175-0967043bb668\" xlink:actuate=\"onRequest\" xlink:href=\"psysml:29e7d07c-e0ef-43b2-a175-0967043bb668\" xlink:show=\"new\" xlink:title=\"psysml:29e7d07c-e0ef-43b2-a175-0967043bb668\" xlink:type=\"simple\"><rect fill=\"#FFFFFF\" height=\"45.9375\" id=\"E3\" rx=\"10\" ry=\"10\" style=\"stroke: #383838; stroke-width: 1.5;\" width=\"71\" x=\"463.5\" y=\"313\"/><text fill=\"#000000\" font-family=\"sans-serif\" font-size=\"12\" font-style=\"italic\" lengthAdjust=\"spacingAndGlyphs\" textLength=\"69\" x=\"464.5\" y=\"329.1387\">«attribute»</text><text fill=\"#000000\" font-family=\"sans-serif\" font-size=\"12\" lengthAdjust=\"spacingAndGlyphs\" textLength=\"8\" x=\"495\" y=\"343.1074\">a</text><line style=\"stroke: #383838; stroke-width: 1.5;\" x1=\"464.5\" x2=\"533.5\" y1=\"350.9375\" y2=\"350.9375\"/></a><g id=\"E1.E4\"><a href=\"psysml:3556ece0-f840-441c-8cd2-5d7027a1a805\" target=\"_top\" title=\"psysml:3556ece0-f840-441c-8cd2-5d7027a1a805\" xlink:actuate=\"onRequest\" xlink:href=\"psysml:3556ece0-f840-441c-8cd2-5d7027a1a805\" xlink:show=\"new\" xlink:title=\"psysml:3556ece0-f840-441c-8cd2-5d7027a1a805\" xlink:type=\"simple\"><rect fill=\"#FFFFFF\" height=\"42.9375\" id=\"E4\" style=\"stroke: #383838; stroke-width: 1.5;\" width=\"71\" x=\"226.5\" y=\"131.5\"/><rect fill=\"#F8F8F8\" height=\"37.9375\" style=\"stroke: #383838; stroke-width: 1.5;\" width=\"71\" x=\"226.5\" y=\"131.5\"/><text fill=\"#000000\" font-family=\"sans-serif\" font-size=\"12\" font-style=\"italic\" lengthAdjust=\"spacingAndGlyphs\" textLength=\"64\" x=\"230\" y=\"147.6387\">«part def»</text><text fill=\"#000000\" font-family=\"sans-serif\" font-size=\"12\" lengthAdjust=\"spacingAndGlyphs\" textLength=\"9\" x=\"257.5\" y=\"161.6074\">Q</text></a></g><!--MD5=[2156ba9850f5573cc1fc38a6a4b2f02b]\n",
       "class E7--><a href=\"psysml:0400016e-70f0-4405-a71c-97e49bd60e65\" target=\"_top\" title=\"psysml:0400016e-70f0-4405-a71c-97e49bd60e65\" xlink:actuate=\"onRequest\" xlink:href=\"psysml:0400016e-70f0-4405-a71c-97e49bd60e65\" xlink:show=\"new\" xlink:title=\"psysml:0400016e-70f0-4405-a71c-97e49bd60e65\" xlink:type=\"simple\"><rect fill=\"#FFFFFF\" height=\"74.3828\" id=\"E7\" rx=\"10\" ry=\"10\" style=\"stroke: #383838; stroke-width: 1.5;\" width=\"63\" x=\"637.5\" y=\"116\"/><text fill=\"#000000\" font-family=\"sans-serif\" font-size=\"12\" lengthAdjust=\"spacingAndGlyphs\" textLength=\"23\" x=\"657.5\" y=\"132.1387\">x: Q</text><line style=\"stroke: #383838; stroke-width: 1.5;\" x1=\"638.5\" x2=\"699.5\" y1=\"139.9688\" y2=\"139.9688\"/><text fill=\"#000000\" font-family=\"sans-serif\" font-size=\"11\" lengthAdjust=\"spacingAndGlyphs\" textLength=\"23\" x=\"643.5\" y=\"170.9839\">b: B</text><text fill=\"#000000\" font-family=\"sans-serif\" font-size=\"11\" font-style=\"italic\" lengthAdjust=\"spacingAndGlyphs\" textLength=\"44\" x=\"643.5\" y=\"183.7886\">:&gt;&gt;P::a</text><line style=\"stroke: #383838; stroke-width: 1.0;\" x1=\"638.5\" x2=\"641.5\" y1=\"154.3711\" y2=\"154.3711\"/><text fill=\"#000000\" font-family=\"sans-serif\" font-size=\"11\" lengthAdjust=\"spacingAndGlyphs\" textLength=\"55\" x=\"641.5\" y=\"157.6792\">attributes</text><line style=\"stroke: #383838; stroke-width: 1.0;\" x1=\"696.5\" x2=\"699.5\" y1=\"154.3711\" y2=\"154.3711\"/></a><g id=\"E1.E8\"><a href=\"psysml:ac43cc4c-8177-486e-b5a5-e877f62f9bc5\" target=\"_top\" title=\"psysml:ac43cc4c-8177-486e-b5a5-e877f62f9bc5\" xlink:actuate=\"onRequest\" xlink:href=\"psysml:ac43cc4c-8177-486e-b5a5-e877f62f9bc5\" xlink:show=\"new\" xlink:title=\"psysml:ac43cc4c-8177-486e-b5a5-e877f62f9bc5\" xlink:type=\"simple\"><rect fill=\"#FFFFFF\" height=\"40\" id=\"E8\" rx=\"10\" ry=\"10\" style=\"stroke: #383838; stroke-width: 1.5;\" width=\"50\" x=\"141\" y=\"133\"/><rect fill=\"#F8F8F8\" height=\"23.9688\" rx=\"10\" ry=\"10\" style=\"stroke: #F8F8F8; stroke-width: 1.5;\" width=\"50\" x=\"141\" y=\"133\"/><rect fill=\"#F8F8F8\" height=\"10\" style=\"stroke: #F8F8F8; stroke-width: 1.5;\" width=\"50\" x=\"141\" y=\"146.9688\"/><rect fill=\"none\" height=\"40\" id=\"E8\" rx=\"10\" ry=\"10\" style=\"stroke: #383838; stroke-width: 1.5;\" width=\"50\" x=\"141\" y=\"133\"/><text fill=\"#000000\" font-family=\"sans-serif\" font-size=\"12\" lengthAdjust=\"spacingAndGlyphs\" textLength=\"25\" x=\"153.5\" y=\"149.1387\">q: Q</text></a></g><!--MD5=[96f4274e9e20536e775497830990834d]\n",
       "class E10--><a href=\"psysml:572dfe4e-6d7c-4ba8-94a3-d7ce0272bed9\" target=\"_top\" title=\"psysml:572dfe4e-6d7c-4ba8-94a3-d7ce0272bed9\" xlink:actuate=\"onRequest\" xlink:href=\"psysml:572dfe4e-6d7c-4ba8-94a3-d7ce0272bed9\" xlink:show=\"new\" xlink:title=\"psysml:572dfe4e-6d7c-4ba8-94a3-d7ce0272bed9\" xlink:type=\"simple\"><rect fill=\"#FFFFFF\" height=\"88.3516\" id=\"E10\" rx=\"10\" ry=\"10\" style=\"stroke: #383838; stroke-width: 1.5;\" width=\"77\" x=\"468.5\" y=\"109\"/><text fill=\"#000000\" font-family=\"sans-serif\" font-size=\"12\" font-style=\"italic\" lengthAdjust=\"spacingAndGlyphs\" textLength=\"75\" x=\"469.5\" y=\"125.1387\">«reference»</text><text fill=\"#000000\" font-family=\"sans-serif\" font-size=\"12\" lengthAdjust=\"spacingAndGlyphs\" textLength=\"8\" x=\"503\" y=\"139.1074\">q</text><line style=\"stroke: #383838; stroke-width: 1.5;\" x1=\"469.5\" x2=\"544.5\" y1=\"146.9375\" y2=\"146.9375\"/><text fill=\"#000000\" font-family=\"sans-serif\" font-size=\"11\" lengthAdjust=\"spacingAndGlyphs\" textLength=\"23\" x=\"474.5\" y=\"177.9526\">b: B</text><text fill=\"#000000\" font-family=\"sans-serif\" font-size=\"11\" font-style=\"italic\" lengthAdjust=\"spacingAndGlyphs\" textLength=\"44\" x=\"474.5\" y=\"190.7573\">:&gt;&gt;P::a</text><line style=\"stroke: #383838; stroke-width: 1.0;\" x1=\"469.5\" x2=\"479.5\" y1=\"161.3398\" y2=\"161.3398\"/><text fill=\"#000000\" font-family=\"sans-serif\" font-size=\"11\" lengthAdjust=\"spacingAndGlyphs\" textLength=\"55\" x=\"479.5\" y=\"164.6479\">attributes</text><line style=\"stroke: #383838; stroke-width: 1.0;\" x1=\"534.5\" x2=\"544.5\" y1=\"161.3398\" y2=\"161.3398\"/></a><g id=\"E1.E11\"><a href=\"psysml:983a8093-9810-4637-96cc-9ee8fb3d9cf5\" target=\"_top\" title=\"psysml:983a8093-9810-4637-96cc-9ee8fb3d9cf5\" xlink:actuate=\"onRequest\" xlink:href=\"psysml:983a8093-9810-4637-96cc-9ee8fb3d9cf5\" xlink:show=\"new\" xlink:title=\"psysml:983a8093-9810-4637-96cc-9ee8fb3d9cf5\" xlink:type=\"simple\"><rect fill=\"#FFFFFF\" height=\"40\" id=\"E11\" rx=\"10\" ry=\"10\" style=\"stroke: #383838; stroke-width: 1.5;\" width=\"73\" x=\"32.5\" y=\"133\"/><rect fill=\"#F8F8F8\" height=\"23.9688\" rx=\"10\" ry=\"10\" style=\"stroke: #F8F8F8; stroke-width: 1.5;\" width=\"73\" x=\"32.5\" y=\"133\"/><rect fill=\"#F8F8F8\" height=\"10\" style=\"stroke: #F8F8F8; stroke-width: 1.5;\" width=\"73\" x=\"32.5\" y=\"146.9688\"/><rect fill=\"none\" height=\"40\" id=\"E11\" rx=\"10\" ry=\"10\" style=\"stroke: #383838; stroke-width: 1.5;\" width=\"73\" x=\"32.5\" y=\"133\"/><text fill=\"#000000\" font-family=\"sans-serif\" font-size=\"12\" lengthAdjust=\"spacingAndGlyphs\" textLength=\"58\" x=\"38\" y=\"149.1387\">y: P=v::q;</text></a></g><!--MD5=[185131fc0dcab0a4505a2ebe144e961b]\n",
       "link E4 to E2--><a href=\"psysml:9e57242c-9184-4252-9565-bec20c63fdb8\" target=\"_top\" title=\"psysml:9e57242c-9184-4252-9565-bec20c63fdb8\" xlink:actuate=\"onRequest\" xlink:href=\"psysml:9e57242c-9184-4252-9565-bec20c63fdb8\" xlink:show=\"new\" xlink:title=\"psysml:9e57242c-9184-4252-9565-bec20c63fdb8\" xlink:type=\"simple\"><path d=\"M276.76,174.77 C292.74,197.27 316,230 316,230 C316,230 343.1325,255.435 370.6888,281.2675 C384.4669,294.1838 398.3509,307.1994 409.0023,317.1847 C411.6652,319.681 414.126,321.9879 416.3326,324.0566 C417.4359,325.0909 418.4757,326.0657 419.4453,326.9747 C419.5666,327.0883 419.6867,327.2009 419.8057,327.3125 \" fill=\"none\" id=\"E4-&gt;E2\" style=\"stroke: #383838; stroke-width: 1.0;\"/><polygon fill=\"#FFFFFF\" points=\"419.8057,327.3125,410.7319,309.2109,401.1568,319.4245,419.8057,327.3125\" style=\"stroke: #383838; stroke-width: 1.0;\"/></a><!--MD5=[2351f337d6de0f557b50152ba70847b5]\n",
       "link E6 to E2--><a href=\"psysml:5cdbdbe7-d14c-45c9-a804-61f18115238e\" target=\"_top\" title=\"psysml:5cdbdbe7-d14c-45c9-a804-61f18115238e\" xlink:actuate=\"onRequest\" xlink:href=\"psysml:5cdbdbe7-d14c-45c9-a804-61f18115238e\" xlink:show=\"new\" xlink:title=\"psysml:5cdbdbe7-d14c-45c9-a804-61f18115238e\" xlink:type=\"simple\"><path d=\"M593.9262,169.3431 C593.863,169.4631 593.7996,169.5836 593.736,169.7045 C593.2267,170.672 592.7018,171.6694 592.1634,172.6922 C591.0868,174.7378 589.9566,176.8851 588.7915,179.0986 C586.4613,183.5258 583.9916,188.2181 581.5313,192.8925 C571.69,211.59 562,230 562,230 C562,230 447,238 447,238 C447,238 445.8494,243.8744 444.1144,252.7319 C444.0602,253.0087 444.0054,253.2884 443.95,253.5709 C443.9224,253.7122 443.8945,253.8542 443.8666,253.9968 \" fill=\"none\" id=\"E6-&gt;E2\" style=\"stroke: #383838; stroke-width: 1.0;\"/><polygon fill=\"#FFFFFF\" points=\"443.8666,253.9968,454.3884,236.6968,440.6494,234.0056,443.8666,253.9968\" style=\"stroke: #383838; stroke-width: 1.0;\"/></a><!--MD5=[c36a65baa71dbdc71d7c957c97320762]\n",
       "@startuml\r\n",
       "skinparam ranksep 10\r\n",
       "skinparam rectangle {\r\n",
       " backgroundColor<<block>> LightGreen\r\n",
       "}\r\n",
       "skinparam linetype polyline\r\n",
       "skinparam monochrome true\r\n",
       "skinparam classbackgroundcolor white\r\n",
       "skinparam shadowing false\r\n",
       "skinparam wrapWidth 300\r\n",
       "hide circle\r\n",
       "\r\n",
       "package \"VariabilityTest\" as E1  [[psysml:c9192910-aa77-45a9-9ae3-16f7deb9d13d ]]  {\r\n",
       "rec def \"P\" as E2  <<(T,blue)part def>> [[psysml:28b4b804-815b-4815-9c5e-e5b09d6ccef7 ]] {\r\n",
       "comp usage \"a\" as E3  <<(T,blue)attribute>> [[psysml:29e7d07c-e0ef-43b2-a175-0967043bb668 ]] {\r\n",
       "}\r\n",
       "}\r\n",
       "rec def \"Q\" as E4  <<(T,blue)part def>> [[psysml:3556ece0-f840-441c-8cd2-5d7027a1a805 ]] {\r\n",
       "}\r\n",
       "def \"B\" as E5  <<(T,blue)attribute def>> [[psysml:c1ea47d2-f15e-4f05-bf93-ec81669ca641 ]] \r\n",
       "rec def \"V\" as E6  <<(T,blue)part def>> [[psysml:735cd89a-e4b2-4dc5-b3d6-41534f400f39 ]] {\r\n",
       "comp usage \"x: Q\" as E7  [[psysml:0400016e-70f0-4405-a71c-97e49bd60e65 ]] {\r\n",
       "- - attributes - -\r\n",
       "b: B\\n//:>>P::a// \r\n",
       "}\r\n",
       "}\r\n",
       "rec usage \"q: Q\" as E8  [[psysml:ac43cc4c-8177-486e-b5a5-e877f62f9bc5 ]] {\r\n",
       "}\r\n",
       "rec usage \"v: P\" as E9  <<variation>> [[psysml:ce952eae-8bb1-4ad0-9f02-4c42d4c1d0c7 ]] {\r\n",
       "comp usage \"q\" as E10  <<(T,blue)reference>> [[psysml:572dfe4e-6d7c-4ba8-94a3-d7ce0272bed9 ]] {\r\n",
       "- - attributes - -\r\n",
       "b: B\\n//:>>P::a// \r\n",
       "}\r\n",
       "}\r\n",
       "rec usage \"y: P=v::q; \" as E11  [[psysml:983a8093-9810-4637-96cc-9ee8fb3d9cf5 ]] {\r\n",
       "}\r\n",
       "E4 - -|> E2 [[psysml:9e57242c-9184-4252-9565-bec20c63fdb8 ]] \r\n",
       "E6 - -|> E2 [[psysml:5cdbdbe7-d14c-45c9-a804-61f18115238e ]] \r\n",
       "}\r\n",
       "@enduml\r\n",
       "\n",
       "PlantUML version 1.2020.13(Sat Jun 13 12:26:38 UTC 2020)\n",
       "(EPL source distribution)\n",
       "Java Runtime: OpenJDK Runtime Environment\n",
       "JVM: OpenJDK 64-Bit Server VM\n",
       "Default Encoding: UTF-8\n",
       "Language: en\n",
       "Country: null\n",
       "--></g></svg>"
      ]
     },
     "execution_count": 12,
     "metadata": {},
     "output_type": "execute_result"
    }
   ],
   "source": [
    "%viz --style=\"POLYLINE\" --view=\"Interconnection\" \"VariabilityTest\""
   ]
  },
  {
   "cell_type": "code",
   "execution_count": 13,
   "id": "c8d46963",
   "metadata": {
    "execution": {
     "iopub.execute_input": "2021-05-28T10:47:54.899841Z",
     "iopub.status.busy": "2021-05-28T10:47:54.899267Z",
     "iopub.status.idle": "2021-05-28T10:47:54.905900Z",
     "shell.execute_reply": "2021-05-28T10:47:54.905484Z"
    }
   },
   "outputs": [
    {
     "data": {
      "image/svg+xml": [
       "<?xml version=\"1.0\" encoding=\"UTF-8\" standalone=\"no\"?><svg xmlns=\"http://www.w3.org/2000/svg\" xmlns:xlink=\"http://www.w3.org/1999/xlink\" contentScriptType=\"application/ecmascript\" contentStyleType=\"text/css\" height=\"12px\" preserveAspectRatio=\"none\" style=\"width:12px;height:12px;\" version=\"1.1\" viewBox=\"0 0 12 12\" width=\"12px\" zoomAndPan=\"magnify\"><defs/><g><!--MD5=[97bbf32f66ccd50cbc40d92ea8f5a65e]\n",
       "@startuml\r\n",
       "skinparam ranksep 8\r\n",
       "skinparam linetype polyline\r\n",
       "skinparam monochrome true\r\n",
       "skinparam classbackgroundcolor white\r\n",
       "skinparam shadowing false\r\n",
       "skinparam wrapWidth 300\r\n",
       "hide circle\r\n",
       "\r\n",
       "@enduml\r\n",
       "\n",
       "PlantUML version 1.2020.13(Sat Jun 13 12:26:38 UTC 2020)\n",
       "(EPL source distribution)\n",
       "Java Runtime: OpenJDK Runtime Environment\n",
       "JVM: OpenJDK 64-Bit Server VM\n",
       "Default Encoding: UTF-8\n",
       "Language: en\n",
       "Country: null\n",
       "--></g></svg>"
      ]
     },
     "execution_count": 13,
     "metadata": {},
     "output_type": "execute_result"
    }
   ],
   "source": [
    "%viz --style=\"POLYLINE\" --view=\"Action\" \"VariabilityTest\""
   ]
  },
  {
   "cell_type": "code",
   "execution_count": 14,
   "id": "ec07c240",
   "metadata": {
    "execution": {
     "iopub.execute_input": "2021-05-28T10:47:54.958033Z",
     "iopub.status.busy": "2021-05-28T10:47:54.957301Z",
     "iopub.status.idle": "2021-05-28T10:47:55.035513Z",
     "shell.execute_reply": "2021-05-28T10:47:55.033976Z"
    }
   },
   "outputs": [
    {
     "data": {
      "image/svg+xml": [
       "<?xml version=\"1.0\" encoding=\"UTF-8\" standalone=\"no\"?><svg xmlns=\"http://www.w3.org/2000/svg\" xmlns:xlink=\"http://www.w3.org/1999/xlink\" contentScriptType=\"application/ecmascript\" contentStyleType=\"text/css\" height=\"401px\" preserveAspectRatio=\"none\" style=\"width:419px;height:401px;\" version=\"1.1\" viewBox=\"0 0 419 401\" width=\"419px\" zoomAndPan=\"magnify\"><defs/><g><!--MD5=[fbc87193dbaf4d95561dea2c320d4a47]\n",
       "cluster E1--><a href=\"psysml:c9192910-aa77-45a9-9ae3-16f7deb9d13d\" target=\"_top\" title=\"psysml:c9192910-aa77-45a9-9ae3-16f7deb9d13d\" xlink:actuate=\"onRequest\" xlink:href=\"psysml:c9192910-aa77-45a9-9ae3-16f7deb9d13d\" xlink:show=\"new\" xlink:title=\"psysml:c9192910-aa77-45a9-9ae3-16f7deb9d13d\" xlink:type=\"simple\"><polygon fill=\"#FFFFFF\" points=\"16,6,134,6,141,28.2969,397,28.2969,397,389,16,389,16,6\" style=\"stroke: #000000; stroke-width: 1.5;\"/><line style=\"stroke: #000000; stroke-width: 1.5;\" x1=\"16\" x2=\"141\" y1=\"28.2969\" y2=\"28.2969\"/><text fill=\"#000000\" font-family=\"sans-serif\" font-size=\"14\" font-weight=\"bold\" lengthAdjust=\"spacingAndGlyphs\" textLength=\"112\" x=\"20\" y=\"20.9951\">VariabilityTest</text></a><!--MD5=[b4997ac47864f28c2f74865a473b2911]\n",
       "class E2--><a href=\"psysml:28b4b804-815b-4815-9c5e-e5b09d6ccef7\" target=\"_top\" title=\"psysml:28b4b804-815b-4815-9c5e-e5b09d6ccef7\" xlink:actuate=\"onRequest\" xlink:href=\"psysml:28b4b804-815b-4815-9c5e-e5b09d6ccef7\" xlink:show=\"new\" xlink:title=\"psysml:28b4b804-815b-4815-9c5e-e5b09d6ccef7\" xlink:type=\"simple\"><rect fill=\"#FFFFFF\" height=\"75.5469\" id=\"E2\" style=\"stroke: #383838; stroke-width: 1.5;\" width=\"66\" x=\"166\" y=\"291\"/><text fill=\"#000000\" font-family=\"sans-serif\" font-size=\"12\" font-style=\"italic\" lengthAdjust=\"spacingAndGlyphs\" textLength=\"64\" x=\"167\" y=\"307.1387\">«part def»</text><text fill=\"#000000\" font-family=\"sans-serif\" font-size=\"12\" lengthAdjust=\"spacingAndGlyphs\" textLength=\"8\" x=\"195\" y=\"321.1074\">P</text><line style=\"stroke: #383838; stroke-width: 1.5;\" x1=\"167\" x2=\"231\" y1=\"328.9375\" y2=\"328.9375\"/><text fill=\"#000000\" font-family=\"sans-serif\" font-size=\"11\" lengthAdjust=\"spacingAndGlyphs\" textLength=\"7\" x=\"172\" y=\"359.9526\">a</text><line style=\"stroke: #383838; stroke-width: 1.0;\" x1=\"167\" x2=\"171.5\" y1=\"343.3398\" y2=\"343.3398\"/><text fill=\"#000000\" font-family=\"sans-serif\" font-size=\"11\" lengthAdjust=\"spacingAndGlyphs\" textLength=\"55\" x=\"171.5\" y=\"346.6479\">attributes</text><line style=\"stroke: #383838; stroke-width: 1.0;\" x1=\"226.5\" x2=\"231\" y1=\"343.3398\" y2=\"343.3398\"/></a><!--MD5=[09b614a08d8cba4a07c9adeb5e0fee81]\n",
       "class E3--><a href=\"psysml:3556ece0-f840-441c-8cd2-5d7027a1a805\" target=\"_top\" title=\"psysml:3556ece0-f840-441c-8cd2-5d7027a1a805\" xlink:actuate=\"onRequest\" xlink:href=\"psysml:3556ece0-f840-441c-8cd2-5d7027a1a805\" xlink:show=\"new\" xlink:title=\"psysml:3556ece0-f840-441c-8cd2-5d7027a1a805\" xlink:type=\"simple\"><rect fill=\"#FFFFFF\" height=\"45.9375\" id=\"E3\" style=\"stroke: #383838; stroke-width: 1.5;\" width=\"66\" x=\"137\" y=\"155\"/><text fill=\"#000000\" font-family=\"sans-serif\" font-size=\"12\" font-style=\"italic\" lengthAdjust=\"spacingAndGlyphs\" textLength=\"64\" x=\"138\" y=\"171.1387\">«part def»</text><text fill=\"#000000\" font-family=\"sans-serif\" font-size=\"12\" lengthAdjust=\"spacingAndGlyphs\" textLength=\"9\" x=\"165.5\" y=\"185.1074\">Q</text><line style=\"stroke: #383838; stroke-width: 1.5;\" x1=\"138\" x2=\"202\" y1=\"192.9375\" y2=\"192.9375\"/></a><!--MD5=[ebbe1d658d1005bcc118a6aa81145e00]\n",
       "class E4--><a href=\"psysml:c1ea47d2-f15e-4f05-bf93-ec81669ca641\" target=\"_top\" title=\"psysml:c1ea47d2-f15e-4f05-bf93-ec81669ca641\" xlink:actuate=\"onRequest\" xlink:href=\"psysml:c1ea47d2-f15e-4f05-bf93-ec81669ca641\" xlink:show=\"new\" xlink:title=\"psysml:c1ea47d2-f15e-4f05-bf93-ec81669ca641\" xlink:type=\"simple\"><rect fill=\"#FFFFFF\" height=\"45.9375\" id=\"E4\" style=\"stroke: #383838; stroke-width: 1.5;\" width=\"95\" x=\"255.5\" y=\"41\"/><text fill=\"#000000\" font-family=\"sans-serif\" font-size=\"12\" font-style=\"italic\" lengthAdjust=\"spacingAndGlyphs\" textLength=\"93\" x=\"256.5\" y=\"57.1387\">«attribute def»</text><text fill=\"#000000\" font-family=\"sans-serif\" font-size=\"12\" lengthAdjust=\"spacingAndGlyphs\" textLength=\"8\" x=\"299\" y=\"71.1074\">B</text><line style=\"stroke: #383838; stroke-width: 1.5;\" x1=\"256.5\" x2=\"349.5\" y1=\"78.9375\" y2=\"78.9375\"/></a><!--MD5=[270fce915f116d4de14055a7c1d9a0f3]\n",
       "class E5--><a href=\"psysml:735cd89a-e4b2-4dc5-b3d6-41534f400f39\" target=\"_top\" title=\"psysml:735cd89a-e4b2-4dc5-b3d6-41534f400f39\" xlink:actuate=\"onRequest\" xlink:href=\"psysml:735cd89a-e4b2-4dc5-b3d6-41534f400f39\" xlink:show=\"new\" xlink:title=\"psysml:735cd89a-e4b2-4dc5-b3d6-41534f400f39\" xlink:type=\"simple\"><rect fill=\"#FFFFFF\" height=\"45.9375\" id=\"E5\" style=\"stroke: #383838; stroke-width: 1.5;\" width=\"66\" x=\"315\" y=\"155\"/><text fill=\"#000000\" font-family=\"sans-serif\" font-size=\"12\" font-style=\"italic\" lengthAdjust=\"spacingAndGlyphs\" textLength=\"64\" x=\"316\" y=\"171.1387\">«part def»</text><text fill=\"#000000\" font-family=\"sans-serif\" font-size=\"12\" lengthAdjust=\"spacingAndGlyphs\" textLength=\"8\" x=\"344\" y=\"185.1074\">V</text><line style=\"stroke: #383838; stroke-width: 1.5;\" x1=\"316\" x2=\"380\" y1=\"192.9375\" y2=\"192.9375\"/></a><!--MD5=[60a26617385b1d2d0262a64233df1f8d]\n",
       "class E6--><a href=\"psysml:0400016e-70f0-4405-a71c-97e49bd60e65\" target=\"_top\" title=\"psysml:0400016e-70f0-4405-a71c-97e49bd60e65\" xlink:actuate=\"onRequest\" xlink:href=\"psysml:0400016e-70f0-4405-a71c-97e49bd60e65\" xlink:show=\"new\" xlink:title=\"psysml:0400016e-70f0-4405-a71c-97e49bd60e65\" xlink:type=\"simple\"><rect fill=\"#FFFFFF\" height=\"88.3516\" id=\"E6\" rx=\"10\" ry=\"10\" style=\"stroke: #383838; stroke-width: 1.5;\" width=\"63\" x=\"287.5\" y=\"285\"/><text fill=\"#000000\" font-family=\"sans-serif\" font-size=\"12\" font-style=\"italic\" lengthAdjust=\"spacingAndGlyphs\" textLength=\"40\" x=\"299\" y=\"301.1387\">«part»</text><text fill=\"#000000\" font-family=\"sans-serif\" font-size=\"12\" lengthAdjust=\"spacingAndGlyphs\" textLength=\"23\" x=\"307.5\" y=\"315.1074\">x: Q</text><line style=\"stroke: #383838; stroke-width: 1.5;\" x1=\"288.5\" x2=\"349.5\" y1=\"322.9375\" y2=\"322.9375\"/><text fill=\"#000000\" font-family=\"sans-serif\" font-size=\"11\" lengthAdjust=\"spacingAndGlyphs\" textLength=\"23\" x=\"293.5\" y=\"353.9526\">b: B</text><text fill=\"#000000\" font-family=\"sans-serif\" font-size=\"11\" font-style=\"italic\" lengthAdjust=\"spacingAndGlyphs\" textLength=\"44\" x=\"293.5\" y=\"366.7573\">:&gt;&gt;P::a</text><line style=\"stroke: #383838; stroke-width: 1.0;\" x1=\"288.5\" x2=\"291.5\" y1=\"337.3398\" y2=\"337.3398\"/><text fill=\"#000000\" font-family=\"sans-serif\" font-size=\"11\" lengthAdjust=\"spacingAndGlyphs\" textLength=\"55\" x=\"291.5\" y=\"340.6479\">attributes</text><line style=\"stroke: #383838; stroke-width: 1.0;\" x1=\"346.5\" x2=\"349.5\" y1=\"337.3398\" y2=\"337.3398\"/></a><!--MD5=[2156ba9850f5573cc1fc38a6a4b2f02b]\n",
       "class E7--><a href=\"psysml:ac43cc4c-8177-486e-b5a5-e877f62f9bc5\" target=\"_top\" title=\"psysml:ac43cc4c-8177-486e-b5a5-e877f62f9bc5\" xlink:actuate=\"onRequest\" xlink:href=\"psysml:ac43cc4c-8177-486e-b5a5-e877f62f9bc5\" xlink:show=\"new\" xlink:title=\"psysml:ac43cc4c-8177-486e-b5a5-e877f62f9bc5\" xlink:type=\"simple\"><rect fill=\"#FFFFFF\" height=\"45.9375\" id=\"E7\" rx=\"10\" ry=\"10\" style=\"stroke: #383838; stroke-width: 1.5;\" width=\"42\" x=\"149\" y=\"41\"/><text fill=\"#000000\" font-family=\"sans-serif\" font-size=\"12\" font-style=\"italic\" lengthAdjust=\"spacingAndGlyphs\" textLength=\"40\" x=\"150\" y=\"57.1387\">«part»</text><text fill=\"#000000\" font-family=\"sans-serif\" font-size=\"12\" lengthAdjust=\"spacingAndGlyphs\" textLength=\"25\" x=\"157.5\" y=\"71.1074\">q: Q</text><line style=\"stroke: #383838; stroke-width: 1.5;\" x1=\"150\" x2=\"190\" y1=\"78.9375\" y2=\"78.9375\"/></a><!--MD5=[b9389687b975829384b498ac4b7476b2]\n",
       "class E8--><a href=\"psysml:ce952eae-8bb1-4ad0-9f02-4c42d4c1d0c7\" target=\"_top\" title=\"psysml:ce952eae-8bb1-4ad0-9f02-4c42d4c1d0c7\" xlink:actuate=\"onRequest\" xlink:href=\"psysml:ce952eae-8bb1-4ad0-9f02-4c42d4c1d0c7\" xlink:show=\"new\" xlink:title=\"psysml:ce952eae-8bb1-4ad0-9f02-4c42d4c1d0c7\" xlink:type=\"simple\"><rect fill=\"#FFFFFF\" height=\"59.9063\" id=\"E8\" rx=\"10\" ry=\"10\" style=\"stroke: #383838; stroke-width: 1.5;\" width=\"70\" x=\"32\" y=\"148\"/><text fill=\"#000000\" font-family=\"sans-serif\" font-size=\"12\" font-style=\"italic\" lengthAdjust=\"spacingAndGlyphs\" textLength=\"68\" x=\"33\" y=\"164.1387\">«variation»</text><text fill=\"#000000\" font-family=\"sans-serif\" font-size=\"12\" font-style=\"italic\" lengthAdjust=\"spacingAndGlyphs\" textLength=\"40\" x=\"47\" y=\"178.1074\">«part»</text><text fill=\"#000000\" font-family=\"sans-serif\" font-size=\"12\" lengthAdjust=\"spacingAndGlyphs\" textLength=\"22\" x=\"56\" y=\"192.0762\">v: P</text><line style=\"stroke: #383838; stroke-width: 1.5;\" x1=\"33\" x2=\"101\" y1=\"199.9063\" y2=\"199.9063\"/></a><!--MD5=[fd4143e9d270a159db93a4ea2a975926]\n",
       "class E9--><a href=\"psysml:572dfe4e-6d7c-4ba8-94a3-d7ce0272bed9\" target=\"_top\" title=\"psysml:572dfe4e-6d7c-4ba8-94a3-d7ce0272bed9\" xlink:actuate=\"onRequest\" xlink:href=\"psysml:572dfe4e-6d7c-4ba8-94a3-d7ce0272bed9\" xlink:show=\"new\" xlink:title=\"psysml:572dfe4e-6d7c-4ba8-94a3-d7ce0272bed9\" xlink:type=\"simple\"><rect fill=\"#FFFFFF\" height=\"88.3516\" id=\"E9\" rx=\"10\" ry=\"10\" style=\"stroke: #383838; stroke-width: 1.5;\" width=\"77\" x=\"32.5\" y=\"285\"/><text fill=\"#000000\" font-family=\"sans-serif\" font-size=\"12\" font-style=\"italic\" lengthAdjust=\"spacingAndGlyphs\" textLength=\"75\" x=\"33.5\" y=\"301.1387\">«reference»</text><text fill=\"#000000\" font-family=\"sans-serif\" font-size=\"12\" lengthAdjust=\"spacingAndGlyphs\" textLength=\"8\" x=\"67\" y=\"315.1074\">q</text><line style=\"stroke: #383838; stroke-width: 1.5;\" x1=\"33.5\" x2=\"108.5\" y1=\"322.9375\" y2=\"322.9375\"/><text fill=\"#000000\" font-family=\"sans-serif\" font-size=\"11\" lengthAdjust=\"spacingAndGlyphs\" textLength=\"23\" x=\"38.5\" y=\"353.9526\">b: B</text><text fill=\"#000000\" font-family=\"sans-serif\" font-size=\"11\" font-style=\"italic\" lengthAdjust=\"spacingAndGlyphs\" textLength=\"44\" x=\"38.5\" y=\"366.7573\">:&gt;&gt;P::a</text><line style=\"stroke: #383838; stroke-width: 1.0;\" x1=\"33.5\" x2=\"43.5\" y1=\"337.3398\" y2=\"337.3398\"/><text fill=\"#000000\" font-family=\"sans-serif\" font-size=\"11\" lengthAdjust=\"spacingAndGlyphs\" textLength=\"55\" x=\"43.5\" y=\"340.6479\">attributes</text><line style=\"stroke: #383838; stroke-width: 1.0;\" x1=\"98.5\" x2=\"108.5\" y1=\"337.3398\" y2=\"337.3398\"/></a><!--MD5=[96f4274e9e20536e775497830990834d]\n",
       "class E10--><a href=\"psysml:983a8093-9810-4637-96cc-9ee8fb3d9cf5\" target=\"_top\" title=\"psysml:983a8093-9810-4637-96cc-9ee8fb3d9cf5\" xlink:actuate=\"onRequest\" xlink:href=\"psysml:983a8093-9810-4637-96cc-9ee8fb3d9cf5\" xlink:show=\"new\" xlink:title=\"psysml:983a8093-9810-4637-96cc-9ee8fb3d9cf5\" xlink:type=\"simple\"><rect fill=\"#FFFFFF\" height=\"45.9375\" id=\"E10\" rx=\"10\" ry=\"10\" style=\"stroke: #383838; stroke-width: 1.5;\" width=\"42\" x=\"238\" y=\"155\"/><text fill=\"#000000\" font-family=\"sans-serif\" font-size=\"12\" font-style=\"italic\" lengthAdjust=\"spacingAndGlyphs\" textLength=\"40\" x=\"239\" y=\"171.1387\">«part»</text><text fill=\"#000000\" font-family=\"sans-serif\" font-size=\"12\" lengthAdjust=\"spacingAndGlyphs\" textLength=\"22\" x=\"248\" y=\"185.1074\">y: P</text><line style=\"stroke: #383838; stroke-width: 1.5;\" x1=\"239\" x2=\"279\" y1=\"192.9375\" y2=\"192.9375\"/></a><!--MD5=[05d275557350bfb9b23a4ef7222b4c39]\n",
       "link E3 to E2--><a href=\"psysml:9e57242c-9184-4252-9565-bec20c63fdb8\" target=\"_top\" title=\"psysml:9e57242c-9184-4252-9565-bec20c63fdb8\" xlink:actuate=\"onRequest\" xlink:href=\"psysml:9e57242c-9184-4252-9565-bec20c63fdb8\" xlink:show=\"new\" xlink:title=\"psysml:9e57242c-9184-4252-9565-bec20c63fdb8\" xlink:type=\"simple\"><path d=\"M174.34,201.31 C177.92,219.67 183.15,246.54 187.87,270.81 \" fill=\"none\" id=\"E3-&gt;E2\" style=\"stroke: #383838; stroke-width: 1.0;\"/><polygon fill=\"none\" points=\"194.8,269.8,191.75,290.77,181.06,272.47,194.8,269.8\" style=\"stroke: #383838; stroke-width: 1.0;\"/></a><!--MD5=[15ebcb19ae302d9b601edb458606d402]\n",
       "link E5 to E2--><a href=\"psysml:5cdbdbe7-d14c-45c9-a804-61f18115238e\" target=\"_top\" title=\"psysml:5cdbdbe7-d14c-45c9-a804-61f18115238e\" xlink:actuate=\"onRequest\" xlink:href=\"psysml:5cdbdbe7-d14c-45c9-a804-61f18115238e\" xlink:show=\"new\" xlink:title=\"psysml:5cdbdbe7-d14c-45c9-a804-61f18115238e\" xlink:type=\"simple\"><path d=\"M325.69,201.31 C304.9,222.1 273.2,253.8 246.71,280.29 \" fill=\"none\" id=\"E5-&gt;E2\" style=\"stroke: #383838; stroke-width: 1.0;\"/><polygon fill=\"none\" points=\"251.33,285.57,232.24,294.76,241.43,275.67,251.33,285.57\" style=\"stroke: #383838; stroke-width: 1.0;\"/></a><!--MD5=[9120cf2e5df3bff93db8f754bbbc09b4]\n",
       "link E5 to E6--><a href=\"psysml:052c6ce9-d9db-4da6-90c4-ac16555550ac\" target=\"_top\" title=\"psysml:052c6ce9-d9db-4da6-90c4-ac16555550ac\" xlink:actuate=\"onRequest\" xlink:href=\"psysml:052c6ce9-d9db-4da6-90c4-ac16555550ac\" xlink:show=\"new\" xlink:title=\"psysml:052c6ce9-d9db-4da6-90c4-ac16555550ac\" xlink:type=\"simple\"><path d=\"M341.72,211.26 C338.1,229.85 333.47,253.68 329.32,274.95 \" fill=\"none\" id=\"E5-E6\" style=\"stroke: #383838; stroke-width: 1.0;\"/><polygon fill=\"#383838\" points=\"327.4,284.84,331.8761,277.5623,325.987,276.4136,327.4,284.84\" style=\"stroke: #383838; stroke-width: 1.0;\"/><path d=\"M334.7699,202.7122 A9,9 0 0 0 351.3715 205.9503\" fill=\"none\" style=\"stroke: #383838; stroke-width: 1.5;\"/><text fill=\"#000000\" font-family=\"sans-serif\" font-size=\"13\" lengthAdjust=\"spacingAndGlyphs\" textLength=\"60\" x=\"337\" y=\"251.0669\">«variant»</text></a><!--MD5=[14ccda38c055a5c0da953d572bc50960]\n",
       "link E7 to E3--><a href=\"psysml:648145d1-1ec9-42fc-8307-fa8910350658\" target=\"_top\" title=\"psysml:648145d1-1ec9-42fc-8307-fa8910350658\" xlink:actuate=\"onRequest\" xlink:href=\"psysml:648145d1-1ec9-42fc-8307-fa8910350658\" xlink:show=\"new\" xlink:title=\"psysml:648145d1-1ec9-42fc-8307-fa8910350658\" xlink:type=\"simple\"><path d=\"M170,87.13 C170,100.7 170,118.53 170,134.73 \" fill=\"none\" id=\"E7-&gt;E3\" style=\"stroke: #383838; stroke-width: 1.0;\"/><polygon fill=\"#FFFFFF\" points=\"170,154.92,163,135.92,177,135.92,170,154.92\" style=\"stroke: #383838; stroke-width: 1.0;\"/><ellipse cx=\"165\" cy=\"130.22\" fill=\"#383838\" rx=\"2\" ry=\"2\" style=\"stroke: #383838; stroke-width: 1.0;\"/><ellipse cx=\"175\" cy=\"130.22\" fill=\"#383838\" rx=\"2\" ry=\"2\" style=\"stroke: #383838; stroke-width: 1.0;\"/></a><!--MD5=[f1f3f9f2fc535e6147756cb86a7f2e32]\n",
       "link E8 to E2--><a href=\"psysml:19cda0c9-2775-4d9d-8cd8-191c5ad52b34\" target=\"_top\" title=\"psysml:19cda0c9-2775-4d9d-8cd8-191c5ad52b34\" xlink:actuate=\"onRequest\" xlink:href=\"psysml:19cda0c9-2775-4d9d-8cd8-191c5ad52b34\" xlink:show=\"new\" xlink:title=\"psysml:19cda0c9-2775-4d9d-8cd8-191c5ad52b34\" xlink:type=\"simple\"><path d=\"M102.16,207.81 C120.43,222.79 139,238 139,238 C139,238 150.31,254.97 163.11,274.17 \" fill=\"none\" id=\"E8-&gt;E2\" style=\"stroke: #383838; stroke-width: 1.0;\"/><polygon fill=\"#FFFFFF\" points=\"174.25,290.87,157.884,278.9472,169.5311,271.1791,174.25,290.87\" style=\"stroke: #383838; stroke-width: 1.0;\"/><ellipse cx=\"156.3851\" cy=\"273.0954\" fill=\"#383838\" rx=\"2\" ry=\"2\" style=\"stroke: #383838; stroke-width: 1.0;\"/><ellipse cx=\"164.7045\" cy=\"267.5467\" fill=\"#383838\" rx=\"2\" ry=\"2\" style=\"stroke: #383838; stroke-width: 1.0;\"/></a><!--MD5=[ed10624c06dd9a4fa49ccf290e8b16a8]\n",
       "link E8 to E9--><a href=\"psysml:28d39c7a-e0c7-42b0-858e-2cb4e488f108\" target=\"_top\" title=\"psysml:28d39c7a-e0c7-42b0-858e-2cb4e488f108\" xlink:actuate=\"onRequest\" xlink:href=\"psysml:28d39c7a-e0c7-42b0-858e-2cb4e488f108\" xlink:show=\"new\" xlink:title=\"psysml:28d39c7a-e0c7-42b0-858e-2cb4e488f108\" xlink:type=\"simple\"><path d=\"M68.06,218.32 C68.52,235.6 69.07,256.15 69.57,274.77 \" fill=\"none\" id=\"E8-E9\" style=\"stroke: #383838; stroke-width: 1.0;\"/><polygon fill=\"#383838\" points=\"69.84,284.88,72.6331,276.8054,66.6351,276.9599,69.84,284.88\" style=\"stroke: #383838; stroke-width: 1.0;\"/><path d=\"M59.4094,211.3865 A9,9 0 0 0 76.3176 210.9276\" fill=\"none\" style=\"stroke: #383838; stroke-width: 1.5;\"/><text fill=\"#000000\" font-family=\"sans-serif\" font-size=\"13\" lengthAdjust=\"spacingAndGlyphs\" textLength=\"60\" x=\"70\" y=\"251.0669\">«variant»</text></a><!--MD5=[0f36bececdf0dff6e600d6f64214b0f1]\n",
       "link E10 to E2--><a href=\"psysml:8cfcd01d-a74f-43be-a680-d41b6ee6accc\" target=\"_top\" title=\"psysml:8cfcd01d-a74f-43be-a680-d41b6ee6accc\" xlink:actuate=\"onRequest\" xlink:href=\"psysml:8cfcd01d-a74f-43be-a680-d41b6ee6accc\" xlink:show=\"new\" xlink:title=\"psysml:8cfcd01d-a74f-43be-a680-d41b6ee6accc\" xlink:type=\"simple\"><path d=\"M250.02,201.31 C242.51,219.95 231.48,247.35 221.59,271.91 \" fill=\"none\" id=\"E10-&gt;E2\" style=\"stroke: #383838; stroke-width: 1.0;\"/><polygon fill=\"#FFFFFF\" points=\"213.99,290.77,214.5927,270.5305,227.5796,275.7593,213.99,290.77\" style=\"stroke: #383838; stroke-width: 1.0;\"/><ellipse cx=\"218.5768\" cy=\"265.9899\" fill=\"#383838\" rx=\"2\" ry=\"2\" style=\"stroke: #383838; stroke-width: 1.0;\"/><ellipse cx=\"227.8532\" cy=\"269.7248\" fill=\"#383838\" rx=\"2\" ry=\"2\" style=\"stroke: #383838; stroke-width: 1.0;\"/></a><!--MD5=[b7b65e70b534f9b7cb0a4e3c79c46acb]\n",
       "@startuml\r\n",
       "skinparam linetype polyline\r\n",
       "skinparam monochrome true\r\n",
       "skinparam classbackgroundcolor white\r\n",
       "skinparam shadowing false\r\n",
       "skinparam wrapWidth 300\r\n",
       "hide circle\r\n",
       "\r\n",
       "package \"VariabilityTest\" as E1  [[psysml:c9192910-aa77-45a9-9ae3-16f7deb9d13d ]]  {\r\n",
       "comp def \"P\" as E2  <<(T,blue)part def>> [[psysml:28b4b804-815b-4815-9c5e-e5b09d6ccef7 ]] {\r\n",
       "- - attributes - -\r\n",
       "a\r\n",
       "}\r\n",
       "comp def \"Q\" as E3  <<(T,blue)part def>> [[psysml:3556ece0-f840-441c-8cd2-5d7027a1a805 ]] {\r\n",
       "}\r\n",
       "comp def \"B\" as E4  <<(T,blue)attribute def>> [[psysml:c1ea47d2-f15e-4f05-bf93-ec81669ca641 ]] {\r\n",
       "}\r\n",
       "comp def \"V\" as E5  <<(T,blue)part def>> [[psysml:735cd89a-e4b2-4dc5-b3d6-41534f400f39 ]] {\r\n",
       "}\r\n",
       "comp usage \"x: Q\" as E6  <<(T,blue)part>> [[psysml:0400016e-70f0-4405-a71c-97e49bd60e65 ]] {\r\n",
       "- - attributes - -\r\n",
       "b: B\\n//:>>P::a// \r\n",
       "}\r\n",
       "comp usage \"q: Q\" as E7  <<(T,blue)part>> [[psysml:ac43cc4c-8177-486e-b5a5-e877f62f9bc5 ]] {\r\n",
       "}\r\n",
       "comp usage \"v: P\" as E8  <<variation>>\\n <<(T,blue)part>> [[psysml:ce952eae-8bb1-4ad0-9f02-4c42d4c1d0c7 ]] {\r\n",
       "}\r\n",
       "comp usage \"q\" as E9  <<(T,blue)reference>> [[psysml:572dfe4e-6d7c-4ba8-94a3-d7ce0272bed9 ]] {\r\n",
       "- - attributes - -\r\n",
       "b: B\\n//:>>P::a// \r\n",
       "}\r\n",
       "comp usage \"y: P\" as E10  <<(T,blue)part>> [[psysml:983a8093-9810-4637-96cc-9ee8fb3d9cf5 ]] {\r\n",
       "}\r\n",
       "E3 - -|> E2 [[psysml:9e57242c-9184-4252-9565-bec20c63fdb8 ]] \r\n",
       "E5 - -|> E2 [[psysml:5cdbdbe7-d14c-45c9-a804-61f18115238e ]] \r\n",
       "E5 )- ->> E6 [[psysml:052c6ce9-d9db-4da6-90c4-ac16555550ac ]] : <<variant>>\r\n",
       "E7 - -:|> E3 [[psysml:648145d1-1ec9-42fc-8307-fa8910350658 ]] \r\n",
       "E8 - -:|> E2 [[psysml:19cda0c9-2775-4d9d-8cd8-191c5ad52b34 ]] \r\n",
       "E8 )- ->> E9 [[psysml:28d39c7a-e0c7-42b0-858e-2cb4e488f108 ]] : <<variant>>\r\n",
       "E10 - -:|> E2 [[psysml:8cfcd01d-a74f-43be-a680-d41b6ee6accc ]] \r\n",
       "}\r\n",
       "@enduml\r\n",
       "\n",
       "PlantUML version 1.2020.13(Sat Jun 13 12:26:38 UTC 2020)\n",
       "(EPL source distribution)\n",
       "Java Runtime: OpenJDK Runtime Environment\n",
       "JVM: OpenJDK 64-Bit Server VM\n",
       "Default Encoding: UTF-8\n",
       "Language: en\n",
       "Country: null\n",
       "--></g></svg>"
      ]
     },
     "execution_count": 14,
     "metadata": {},
     "output_type": "execute_result"
    }
   ],
   "source": [
    "%viz --style=\"POLYLINE\" --view=\"Sequence\" \"VariabilityTest\""
   ]
  },
  {
   "cell_type": "code",
   "execution_count": 15,
   "id": "33b835f6",
   "metadata": {
    "execution": {
     "iopub.execute_input": "2021-05-28T10:47:55.087352Z",
     "iopub.status.busy": "2021-05-28T10:47:55.086487Z",
     "iopub.status.idle": "2021-05-28T10:47:55.167079Z",
     "shell.execute_reply": "2021-05-28T10:47:55.165617Z"
    }
   },
   "outputs": [
    {
     "data": {
      "image/svg+xml": [
       "<?xml version=\"1.0\" encoding=\"UTF-8\" standalone=\"no\"?><svg xmlns=\"http://www.w3.org/2000/svg\" xmlns:xlink=\"http://www.w3.org/1999/xlink\" contentScriptType=\"application/ecmascript\" contentStyleType=\"text/css\" height=\"401px\" preserveAspectRatio=\"none\" style=\"width:419px;height:401px;\" version=\"1.1\" viewBox=\"0 0 419 401\" width=\"419px\" zoomAndPan=\"magnify\"><defs/><g><!--MD5=[fbc87193dbaf4d95561dea2c320d4a47]\n",
       "cluster E1--><a href=\"psysml:c9192910-aa77-45a9-9ae3-16f7deb9d13d\" target=\"_top\" title=\"psysml:c9192910-aa77-45a9-9ae3-16f7deb9d13d\" xlink:actuate=\"onRequest\" xlink:href=\"psysml:c9192910-aa77-45a9-9ae3-16f7deb9d13d\" xlink:show=\"new\" xlink:title=\"psysml:c9192910-aa77-45a9-9ae3-16f7deb9d13d\" xlink:type=\"simple\"><polygon fill=\"#FFFFFF\" points=\"16,6,134,6,141,28.2969,397,28.2969,397,389,16,389,16,6\" style=\"stroke: #000000; stroke-width: 1.5;\"/><line style=\"stroke: #000000; stroke-width: 1.5;\" x1=\"16\" x2=\"141\" y1=\"28.2969\" y2=\"28.2969\"/><text fill=\"#000000\" font-family=\"sans-serif\" font-size=\"14\" font-weight=\"bold\" lengthAdjust=\"spacingAndGlyphs\" textLength=\"112\" x=\"20\" y=\"20.9951\">VariabilityTest</text></a><!--MD5=[b4997ac47864f28c2f74865a473b2911]\n",
       "class E2--><a href=\"psysml:28b4b804-815b-4815-9c5e-e5b09d6ccef7\" target=\"_top\" title=\"psysml:28b4b804-815b-4815-9c5e-e5b09d6ccef7\" xlink:actuate=\"onRequest\" xlink:href=\"psysml:28b4b804-815b-4815-9c5e-e5b09d6ccef7\" xlink:show=\"new\" xlink:title=\"psysml:28b4b804-815b-4815-9c5e-e5b09d6ccef7\" xlink:type=\"simple\"><rect fill=\"#FFFFFF\" height=\"75.5469\" id=\"E2\" style=\"stroke: #383838; stroke-width: 1.5;\" width=\"66\" x=\"166\" y=\"291\"/><text fill=\"#000000\" font-family=\"sans-serif\" font-size=\"12\" font-style=\"italic\" lengthAdjust=\"spacingAndGlyphs\" textLength=\"64\" x=\"167\" y=\"307.1387\">«part def»</text><text fill=\"#000000\" font-family=\"sans-serif\" font-size=\"12\" lengthAdjust=\"spacingAndGlyphs\" textLength=\"8\" x=\"195\" y=\"321.1074\">P</text><line style=\"stroke: #383838; stroke-width: 1.5;\" x1=\"167\" x2=\"231\" y1=\"328.9375\" y2=\"328.9375\"/><text fill=\"#000000\" font-family=\"sans-serif\" font-size=\"11\" lengthAdjust=\"spacingAndGlyphs\" textLength=\"7\" x=\"172\" y=\"359.9526\">a</text><line style=\"stroke: #383838; stroke-width: 1.0;\" x1=\"167\" x2=\"171.5\" y1=\"343.3398\" y2=\"343.3398\"/><text fill=\"#000000\" font-family=\"sans-serif\" font-size=\"11\" lengthAdjust=\"spacingAndGlyphs\" textLength=\"55\" x=\"171.5\" y=\"346.6479\">attributes</text><line style=\"stroke: #383838; stroke-width: 1.0;\" x1=\"226.5\" x2=\"231\" y1=\"343.3398\" y2=\"343.3398\"/></a><!--MD5=[09b614a08d8cba4a07c9adeb5e0fee81]\n",
       "class E3--><a href=\"psysml:3556ece0-f840-441c-8cd2-5d7027a1a805\" target=\"_top\" title=\"psysml:3556ece0-f840-441c-8cd2-5d7027a1a805\" xlink:actuate=\"onRequest\" xlink:href=\"psysml:3556ece0-f840-441c-8cd2-5d7027a1a805\" xlink:show=\"new\" xlink:title=\"psysml:3556ece0-f840-441c-8cd2-5d7027a1a805\" xlink:type=\"simple\"><rect fill=\"#FFFFFF\" height=\"45.9375\" id=\"E3\" style=\"stroke: #383838; stroke-width: 1.5;\" width=\"66\" x=\"137\" y=\"155\"/><text fill=\"#000000\" font-family=\"sans-serif\" font-size=\"12\" font-style=\"italic\" lengthAdjust=\"spacingAndGlyphs\" textLength=\"64\" x=\"138\" y=\"171.1387\">«part def»</text><text fill=\"#000000\" font-family=\"sans-serif\" font-size=\"12\" lengthAdjust=\"spacingAndGlyphs\" textLength=\"9\" x=\"165.5\" y=\"185.1074\">Q</text><line style=\"stroke: #383838; stroke-width: 1.5;\" x1=\"138\" x2=\"202\" y1=\"192.9375\" y2=\"192.9375\"/></a><!--MD5=[ebbe1d658d1005bcc118a6aa81145e00]\n",
       "class E4--><a href=\"psysml:c1ea47d2-f15e-4f05-bf93-ec81669ca641\" target=\"_top\" title=\"psysml:c1ea47d2-f15e-4f05-bf93-ec81669ca641\" xlink:actuate=\"onRequest\" xlink:href=\"psysml:c1ea47d2-f15e-4f05-bf93-ec81669ca641\" xlink:show=\"new\" xlink:title=\"psysml:c1ea47d2-f15e-4f05-bf93-ec81669ca641\" xlink:type=\"simple\"><rect fill=\"#FFFFFF\" height=\"45.9375\" id=\"E4\" style=\"stroke: #383838; stroke-width: 1.5;\" width=\"95\" x=\"255.5\" y=\"41\"/><text fill=\"#000000\" font-family=\"sans-serif\" font-size=\"12\" font-style=\"italic\" lengthAdjust=\"spacingAndGlyphs\" textLength=\"93\" x=\"256.5\" y=\"57.1387\">«attribute def»</text><text fill=\"#000000\" font-family=\"sans-serif\" font-size=\"12\" lengthAdjust=\"spacingAndGlyphs\" textLength=\"8\" x=\"299\" y=\"71.1074\">B</text><line style=\"stroke: #383838; stroke-width: 1.5;\" x1=\"256.5\" x2=\"349.5\" y1=\"78.9375\" y2=\"78.9375\"/></a><!--MD5=[270fce915f116d4de14055a7c1d9a0f3]\n",
       "class E5--><a href=\"psysml:735cd89a-e4b2-4dc5-b3d6-41534f400f39\" target=\"_top\" title=\"psysml:735cd89a-e4b2-4dc5-b3d6-41534f400f39\" xlink:actuate=\"onRequest\" xlink:href=\"psysml:735cd89a-e4b2-4dc5-b3d6-41534f400f39\" xlink:show=\"new\" xlink:title=\"psysml:735cd89a-e4b2-4dc5-b3d6-41534f400f39\" xlink:type=\"simple\"><rect fill=\"#FFFFFF\" height=\"45.9375\" id=\"E5\" style=\"stroke: #383838; stroke-width: 1.5;\" width=\"66\" x=\"315\" y=\"155\"/><text fill=\"#000000\" font-family=\"sans-serif\" font-size=\"12\" font-style=\"italic\" lengthAdjust=\"spacingAndGlyphs\" textLength=\"64\" x=\"316\" y=\"171.1387\">«part def»</text><text fill=\"#000000\" font-family=\"sans-serif\" font-size=\"12\" lengthAdjust=\"spacingAndGlyphs\" textLength=\"8\" x=\"344\" y=\"185.1074\">V</text><line style=\"stroke: #383838; stroke-width: 1.5;\" x1=\"316\" x2=\"380\" y1=\"192.9375\" y2=\"192.9375\"/></a><!--MD5=[60a26617385b1d2d0262a64233df1f8d]\n",
       "class E6--><a href=\"psysml:0400016e-70f0-4405-a71c-97e49bd60e65\" target=\"_top\" title=\"psysml:0400016e-70f0-4405-a71c-97e49bd60e65\" xlink:actuate=\"onRequest\" xlink:href=\"psysml:0400016e-70f0-4405-a71c-97e49bd60e65\" xlink:show=\"new\" xlink:title=\"psysml:0400016e-70f0-4405-a71c-97e49bd60e65\" xlink:type=\"simple\"><rect fill=\"#FFFFFF\" height=\"88.3516\" id=\"E6\" rx=\"10\" ry=\"10\" style=\"stroke: #383838; stroke-width: 1.5;\" width=\"63\" x=\"287.5\" y=\"285\"/><text fill=\"#000000\" font-family=\"sans-serif\" font-size=\"12\" font-style=\"italic\" lengthAdjust=\"spacingAndGlyphs\" textLength=\"40\" x=\"299\" y=\"301.1387\">«part»</text><text fill=\"#000000\" font-family=\"sans-serif\" font-size=\"12\" lengthAdjust=\"spacingAndGlyphs\" textLength=\"23\" x=\"307.5\" y=\"315.1074\">x: Q</text><line style=\"stroke: #383838; stroke-width: 1.5;\" x1=\"288.5\" x2=\"349.5\" y1=\"322.9375\" y2=\"322.9375\"/><text fill=\"#000000\" font-family=\"sans-serif\" font-size=\"11\" lengthAdjust=\"spacingAndGlyphs\" textLength=\"23\" x=\"293.5\" y=\"353.9526\">b: B</text><text fill=\"#000000\" font-family=\"sans-serif\" font-size=\"11\" font-style=\"italic\" lengthAdjust=\"spacingAndGlyphs\" textLength=\"44\" x=\"293.5\" y=\"366.7573\">:&gt;&gt;P::a</text><line style=\"stroke: #383838; stroke-width: 1.0;\" x1=\"288.5\" x2=\"291.5\" y1=\"337.3398\" y2=\"337.3398\"/><text fill=\"#000000\" font-family=\"sans-serif\" font-size=\"11\" lengthAdjust=\"spacingAndGlyphs\" textLength=\"55\" x=\"291.5\" y=\"340.6479\">attributes</text><line style=\"stroke: #383838; stroke-width: 1.0;\" x1=\"346.5\" x2=\"349.5\" y1=\"337.3398\" y2=\"337.3398\"/></a><!--MD5=[2156ba9850f5573cc1fc38a6a4b2f02b]\n",
       "class E7--><a href=\"psysml:ac43cc4c-8177-486e-b5a5-e877f62f9bc5\" target=\"_top\" title=\"psysml:ac43cc4c-8177-486e-b5a5-e877f62f9bc5\" xlink:actuate=\"onRequest\" xlink:href=\"psysml:ac43cc4c-8177-486e-b5a5-e877f62f9bc5\" xlink:show=\"new\" xlink:title=\"psysml:ac43cc4c-8177-486e-b5a5-e877f62f9bc5\" xlink:type=\"simple\"><rect fill=\"#FFFFFF\" height=\"45.9375\" id=\"E7\" rx=\"10\" ry=\"10\" style=\"stroke: #383838; stroke-width: 1.5;\" width=\"42\" x=\"149\" y=\"41\"/><text fill=\"#000000\" font-family=\"sans-serif\" font-size=\"12\" font-style=\"italic\" lengthAdjust=\"spacingAndGlyphs\" textLength=\"40\" x=\"150\" y=\"57.1387\">«part»</text><text fill=\"#000000\" font-family=\"sans-serif\" font-size=\"12\" lengthAdjust=\"spacingAndGlyphs\" textLength=\"25\" x=\"157.5\" y=\"71.1074\">q: Q</text><line style=\"stroke: #383838; stroke-width: 1.5;\" x1=\"150\" x2=\"190\" y1=\"78.9375\" y2=\"78.9375\"/></a><!--MD5=[b9389687b975829384b498ac4b7476b2]\n",
       "class E8--><a href=\"psysml:ce952eae-8bb1-4ad0-9f02-4c42d4c1d0c7\" target=\"_top\" title=\"psysml:ce952eae-8bb1-4ad0-9f02-4c42d4c1d0c7\" xlink:actuate=\"onRequest\" xlink:href=\"psysml:ce952eae-8bb1-4ad0-9f02-4c42d4c1d0c7\" xlink:show=\"new\" xlink:title=\"psysml:ce952eae-8bb1-4ad0-9f02-4c42d4c1d0c7\" xlink:type=\"simple\"><rect fill=\"#FFFFFF\" height=\"59.9063\" id=\"E8\" rx=\"10\" ry=\"10\" style=\"stroke: #383838; stroke-width: 1.5;\" width=\"70\" x=\"32\" y=\"148\"/><text fill=\"#000000\" font-family=\"sans-serif\" font-size=\"12\" font-style=\"italic\" lengthAdjust=\"spacingAndGlyphs\" textLength=\"68\" x=\"33\" y=\"164.1387\">«variation»</text><text fill=\"#000000\" font-family=\"sans-serif\" font-size=\"12\" font-style=\"italic\" lengthAdjust=\"spacingAndGlyphs\" textLength=\"40\" x=\"47\" y=\"178.1074\">«part»</text><text fill=\"#000000\" font-family=\"sans-serif\" font-size=\"12\" lengthAdjust=\"spacingAndGlyphs\" textLength=\"22\" x=\"56\" y=\"192.0762\">v: P</text><line style=\"stroke: #383838; stroke-width: 1.5;\" x1=\"33\" x2=\"101\" y1=\"199.9063\" y2=\"199.9063\"/></a><!--MD5=[fd4143e9d270a159db93a4ea2a975926]\n",
       "class E9--><a href=\"psysml:572dfe4e-6d7c-4ba8-94a3-d7ce0272bed9\" target=\"_top\" title=\"psysml:572dfe4e-6d7c-4ba8-94a3-d7ce0272bed9\" xlink:actuate=\"onRequest\" xlink:href=\"psysml:572dfe4e-6d7c-4ba8-94a3-d7ce0272bed9\" xlink:show=\"new\" xlink:title=\"psysml:572dfe4e-6d7c-4ba8-94a3-d7ce0272bed9\" xlink:type=\"simple\"><rect fill=\"#FFFFFF\" height=\"88.3516\" id=\"E9\" rx=\"10\" ry=\"10\" style=\"stroke: #383838; stroke-width: 1.5;\" width=\"77\" x=\"32.5\" y=\"285\"/><text fill=\"#000000\" font-family=\"sans-serif\" font-size=\"12\" font-style=\"italic\" lengthAdjust=\"spacingAndGlyphs\" textLength=\"75\" x=\"33.5\" y=\"301.1387\">«reference»</text><text fill=\"#000000\" font-family=\"sans-serif\" font-size=\"12\" lengthAdjust=\"spacingAndGlyphs\" textLength=\"8\" x=\"67\" y=\"315.1074\">q</text><line style=\"stroke: #383838; stroke-width: 1.5;\" x1=\"33.5\" x2=\"108.5\" y1=\"322.9375\" y2=\"322.9375\"/><text fill=\"#000000\" font-family=\"sans-serif\" font-size=\"11\" lengthAdjust=\"spacingAndGlyphs\" textLength=\"23\" x=\"38.5\" y=\"353.9526\">b: B</text><text fill=\"#000000\" font-family=\"sans-serif\" font-size=\"11\" font-style=\"italic\" lengthAdjust=\"spacingAndGlyphs\" textLength=\"44\" x=\"38.5\" y=\"366.7573\">:&gt;&gt;P::a</text><line style=\"stroke: #383838; stroke-width: 1.0;\" x1=\"33.5\" x2=\"43.5\" y1=\"337.3398\" y2=\"337.3398\"/><text fill=\"#000000\" font-family=\"sans-serif\" font-size=\"11\" lengthAdjust=\"spacingAndGlyphs\" textLength=\"55\" x=\"43.5\" y=\"340.6479\">attributes</text><line style=\"stroke: #383838; stroke-width: 1.0;\" x1=\"98.5\" x2=\"108.5\" y1=\"337.3398\" y2=\"337.3398\"/></a><!--MD5=[96f4274e9e20536e775497830990834d]\n",
       "class E10--><a href=\"psysml:983a8093-9810-4637-96cc-9ee8fb3d9cf5\" target=\"_top\" title=\"psysml:983a8093-9810-4637-96cc-9ee8fb3d9cf5\" xlink:actuate=\"onRequest\" xlink:href=\"psysml:983a8093-9810-4637-96cc-9ee8fb3d9cf5\" xlink:show=\"new\" xlink:title=\"psysml:983a8093-9810-4637-96cc-9ee8fb3d9cf5\" xlink:type=\"simple\"><rect fill=\"#FFFFFF\" height=\"45.9375\" id=\"E10\" rx=\"10\" ry=\"10\" style=\"stroke: #383838; stroke-width: 1.5;\" width=\"42\" x=\"238\" y=\"155\"/><text fill=\"#000000\" font-family=\"sans-serif\" font-size=\"12\" font-style=\"italic\" lengthAdjust=\"spacingAndGlyphs\" textLength=\"40\" x=\"239\" y=\"171.1387\">«part»</text><text fill=\"#000000\" font-family=\"sans-serif\" font-size=\"12\" lengthAdjust=\"spacingAndGlyphs\" textLength=\"22\" x=\"248\" y=\"185.1074\">y: P</text><line style=\"stroke: #383838; stroke-width: 1.5;\" x1=\"239\" x2=\"279\" y1=\"192.9375\" y2=\"192.9375\"/></a><!--MD5=[05d275557350bfb9b23a4ef7222b4c39]\n",
       "link E3 to E2--><a href=\"psysml:9e57242c-9184-4252-9565-bec20c63fdb8\" target=\"_top\" title=\"psysml:9e57242c-9184-4252-9565-bec20c63fdb8\" xlink:actuate=\"onRequest\" xlink:href=\"psysml:9e57242c-9184-4252-9565-bec20c63fdb8\" xlink:show=\"new\" xlink:title=\"psysml:9e57242c-9184-4252-9565-bec20c63fdb8\" xlink:type=\"simple\"><path d=\"M174.34,201.31 C177.92,219.67 183.15,246.54 187.87,270.81 \" fill=\"none\" id=\"E3-&gt;E2\" style=\"stroke: #383838; stroke-width: 1.0;\"/><polygon fill=\"none\" points=\"194.8,269.8,191.75,290.77,181.06,272.47,194.8,269.8\" style=\"stroke: #383838; stroke-width: 1.0;\"/></a><!--MD5=[15ebcb19ae302d9b601edb458606d402]\n",
       "link E5 to E2--><a href=\"psysml:5cdbdbe7-d14c-45c9-a804-61f18115238e\" target=\"_top\" title=\"psysml:5cdbdbe7-d14c-45c9-a804-61f18115238e\" xlink:actuate=\"onRequest\" xlink:href=\"psysml:5cdbdbe7-d14c-45c9-a804-61f18115238e\" xlink:show=\"new\" xlink:title=\"psysml:5cdbdbe7-d14c-45c9-a804-61f18115238e\" xlink:type=\"simple\"><path d=\"M325.69,201.31 C304.9,222.1 273.2,253.8 246.71,280.29 \" fill=\"none\" id=\"E5-&gt;E2\" style=\"stroke: #383838; stroke-width: 1.0;\"/><polygon fill=\"none\" points=\"251.33,285.57,232.24,294.76,241.43,275.67,251.33,285.57\" style=\"stroke: #383838; stroke-width: 1.0;\"/></a><!--MD5=[9120cf2e5df3bff93db8f754bbbc09b4]\n",
       "link E5 to E6--><a href=\"psysml:052c6ce9-d9db-4da6-90c4-ac16555550ac\" target=\"_top\" title=\"psysml:052c6ce9-d9db-4da6-90c4-ac16555550ac\" xlink:actuate=\"onRequest\" xlink:href=\"psysml:052c6ce9-d9db-4da6-90c4-ac16555550ac\" xlink:show=\"new\" xlink:title=\"psysml:052c6ce9-d9db-4da6-90c4-ac16555550ac\" xlink:type=\"simple\"><path d=\"M341.72,211.26 C338.1,229.85 333.47,253.68 329.32,274.95 \" fill=\"none\" id=\"E5-E6\" style=\"stroke: #383838; stroke-width: 1.0;\"/><polygon fill=\"#383838\" points=\"327.4,284.84,331.8761,277.5623,325.987,276.4136,327.4,284.84\" style=\"stroke: #383838; stroke-width: 1.0;\"/><path d=\"M334.7699,202.7122 A9,9 0 0 0 351.3715 205.9503\" fill=\"none\" style=\"stroke: #383838; stroke-width: 1.5;\"/><text fill=\"#000000\" font-family=\"sans-serif\" font-size=\"13\" lengthAdjust=\"spacingAndGlyphs\" textLength=\"60\" x=\"337\" y=\"251.0669\">«variant»</text></a><!--MD5=[14ccda38c055a5c0da953d572bc50960]\n",
       "link E7 to E3--><a href=\"psysml:648145d1-1ec9-42fc-8307-fa8910350658\" target=\"_top\" title=\"psysml:648145d1-1ec9-42fc-8307-fa8910350658\" xlink:actuate=\"onRequest\" xlink:href=\"psysml:648145d1-1ec9-42fc-8307-fa8910350658\" xlink:show=\"new\" xlink:title=\"psysml:648145d1-1ec9-42fc-8307-fa8910350658\" xlink:type=\"simple\"><path d=\"M170,87.13 C170,100.7 170,118.53 170,134.73 \" fill=\"none\" id=\"E7-&gt;E3\" style=\"stroke: #383838; stroke-width: 1.0;\"/><polygon fill=\"#FFFFFF\" points=\"170,154.92,163,135.92,177,135.92,170,154.92\" style=\"stroke: #383838; stroke-width: 1.0;\"/><ellipse cx=\"165\" cy=\"130.22\" fill=\"#383838\" rx=\"2\" ry=\"2\" style=\"stroke: #383838; stroke-width: 1.0;\"/><ellipse cx=\"175\" cy=\"130.22\" fill=\"#383838\" rx=\"2\" ry=\"2\" style=\"stroke: #383838; stroke-width: 1.0;\"/></a><!--MD5=[f1f3f9f2fc535e6147756cb86a7f2e32]\n",
       "link E8 to E2--><a href=\"psysml:19cda0c9-2775-4d9d-8cd8-191c5ad52b34\" target=\"_top\" title=\"psysml:19cda0c9-2775-4d9d-8cd8-191c5ad52b34\" xlink:actuate=\"onRequest\" xlink:href=\"psysml:19cda0c9-2775-4d9d-8cd8-191c5ad52b34\" xlink:show=\"new\" xlink:title=\"psysml:19cda0c9-2775-4d9d-8cd8-191c5ad52b34\" xlink:type=\"simple\"><path d=\"M102.16,207.81 C120.43,222.79 139,238 139,238 C139,238 150.31,254.97 163.11,274.17 \" fill=\"none\" id=\"E8-&gt;E2\" style=\"stroke: #383838; stroke-width: 1.0;\"/><polygon fill=\"#FFFFFF\" points=\"174.25,290.87,157.884,278.9472,169.5311,271.1791,174.25,290.87\" style=\"stroke: #383838; stroke-width: 1.0;\"/><ellipse cx=\"156.3851\" cy=\"273.0954\" fill=\"#383838\" rx=\"2\" ry=\"2\" style=\"stroke: #383838; stroke-width: 1.0;\"/><ellipse cx=\"164.7045\" cy=\"267.5467\" fill=\"#383838\" rx=\"2\" ry=\"2\" style=\"stroke: #383838; stroke-width: 1.0;\"/></a><!--MD5=[ed10624c06dd9a4fa49ccf290e8b16a8]\n",
       "link E8 to E9--><a href=\"psysml:28d39c7a-e0c7-42b0-858e-2cb4e488f108\" target=\"_top\" title=\"psysml:28d39c7a-e0c7-42b0-858e-2cb4e488f108\" xlink:actuate=\"onRequest\" xlink:href=\"psysml:28d39c7a-e0c7-42b0-858e-2cb4e488f108\" xlink:show=\"new\" xlink:title=\"psysml:28d39c7a-e0c7-42b0-858e-2cb4e488f108\" xlink:type=\"simple\"><path d=\"M68.06,218.32 C68.52,235.6 69.07,256.15 69.57,274.77 \" fill=\"none\" id=\"E8-E9\" style=\"stroke: #383838; stroke-width: 1.0;\"/><polygon fill=\"#383838\" points=\"69.84,284.88,72.6331,276.8054,66.6351,276.9599,69.84,284.88\" style=\"stroke: #383838; stroke-width: 1.0;\"/><path d=\"M59.4094,211.3865 A9,9 0 0 0 76.3176 210.9276\" fill=\"none\" style=\"stroke: #383838; stroke-width: 1.5;\"/><text fill=\"#000000\" font-family=\"sans-serif\" font-size=\"13\" lengthAdjust=\"spacingAndGlyphs\" textLength=\"60\" x=\"70\" y=\"251.0669\">«variant»</text></a><!--MD5=[0f36bececdf0dff6e600d6f64214b0f1]\n",
       "link E10 to E2--><a href=\"psysml:8cfcd01d-a74f-43be-a680-d41b6ee6accc\" target=\"_top\" title=\"psysml:8cfcd01d-a74f-43be-a680-d41b6ee6accc\" xlink:actuate=\"onRequest\" xlink:href=\"psysml:8cfcd01d-a74f-43be-a680-d41b6ee6accc\" xlink:show=\"new\" xlink:title=\"psysml:8cfcd01d-a74f-43be-a680-d41b6ee6accc\" xlink:type=\"simple\"><path d=\"M250.02,201.31 C242.51,219.95 231.48,247.35 221.59,271.91 \" fill=\"none\" id=\"E10-&gt;E2\" style=\"stroke: #383838; stroke-width: 1.0;\"/><polygon fill=\"#FFFFFF\" points=\"213.99,290.77,214.5927,270.5305,227.5796,275.7593,213.99,290.77\" style=\"stroke: #383838; stroke-width: 1.0;\"/><ellipse cx=\"218.5768\" cy=\"265.9899\" fill=\"#383838\" rx=\"2\" ry=\"2\" style=\"stroke: #383838; stroke-width: 1.0;\"/><ellipse cx=\"227.8532\" cy=\"269.7248\" fill=\"#383838\" rx=\"2\" ry=\"2\" style=\"stroke: #383838; stroke-width: 1.0;\"/></a><!--MD5=[b7b65e70b534f9b7cb0a4e3c79c46acb]\n",
       "@startuml\r\n",
       "skinparam linetype polyline\r\n",
       "skinparam monochrome true\r\n",
       "skinparam classbackgroundcolor white\r\n",
       "skinparam shadowing false\r\n",
       "skinparam wrapWidth 300\r\n",
       "hide circle\r\n",
       "\r\n",
       "package \"VariabilityTest\" as E1  [[psysml:c9192910-aa77-45a9-9ae3-16f7deb9d13d ]]  {\r\n",
       "comp def \"P\" as E2  <<(T,blue)part def>> [[psysml:28b4b804-815b-4815-9c5e-e5b09d6ccef7 ]] {\r\n",
       "- - attributes - -\r\n",
       "a\r\n",
       "}\r\n",
       "comp def \"Q\" as E3  <<(T,blue)part def>> [[psysml:3556ece0-f840-441c-8cd2-5d7027a1a805 ]] {\r\n",
       "}\r\n",
       "comp def \"B\" as E4  <<(T,blue)attribute def>> [[psysml:c1ea47d2-f15e-4f05-bf93-ec81669ca641 ]] {\r\n",
       "}\r\n",
       "comp def \"V\" as E5  <<(T,blue)part def>> [[psysml:735cd89a-e4b2-4dc5-b3d6-41534f400f39 ]] {\r\n",
       "}\r\n",
       "comp usage \"x: Q\" as E6  <<(T,blue)part>> [[psysml:0400016e-70f0-4405-a71c-97e49bd60e65 ]] {\r\n",
       "- - attributes - -\r\n",
       "b: B\\n//:>>P::a// \r\n",
       "}\r\n",
       "comp usage \"q: Q\" as E7  <<(T,blue)part>> [[psysml:ac43cc4c-8177-486e-b5a5-e877f62f9bc5 ]] {\r\n",
       "}\r\n",
       "comp usage \"v: P\" as E8  <<variation>>\\n <<(T,blue)part>> [[psysml:ce952eae-8bb1-4ad0-9f02-4c42d4c1d0c7 ]] {\r\n",
       "}\r\n",
       "comp usage \"q\" as E9  <<(T,blue)reference>> [[psysml:572dfe4e-6d7c-4ba8-94a3-d7ce0272bed9 ]] {\r\n",
       "- - attributes - -\r\n",
       "b: B\\n//:>>P::a// \r\n",
       "}\r\n",
       "comp usage \"y: P\" as E10  <<(T,blue)part>> [[psysml:983a8093-9810-4637-96cc-9ee8fb3d9cf5 ]] {\r\n",
       "}\r\n",
       "E3 - -|> E2 [[psysml:9e57242c-9184-4252-9565-bec20c63fdb8 ]] \r\n",
       "E5 - -|> E2 [[psysml:5cdbdbe7-d14c-45c9-a804-61f18115238e ]] \r\n",
       "E5 )- ->> E6 [[psysml:052c6ce9-d9db-4da6-90c4-ac16555550ac ]] : <<variant>>\r\n",
       "E7 - -:|> E3 [[psysml:648145d1-1ec9-42fc-8307-fa8910350658 ]] \r\n",
       "E8 - -:|> E2 [[psysml:19cda0c9-2775-4d9d-8cd8-191c5ad52b34 ]] \r\n",
       "E8 )- ->> E9 [[psysml:28d39c7a-e0c7-42b0-858e-2cb4e488f108 ]] : <<variant>>\r\n",
       "E10 - -:|> E2 [[psysml:8cfcd01d-a74f-43be-a680-d41b6ee6accc ]] \r\n",
       "}\r\n",
       "@enduml\r\n",
       "\n",
       "PlantUML version 1.2020.13(Sat Jun 13 12:26:38 UTC 2020)\n",
       "(EPL source distribution)\n",
       "Java Runtime: OpenJDK Runtime Environment\n",
       "JVM: OpenJDK 64-Bit Server VM\n",
       "Default Encoding: UTF-8\n",
       "Language: en\n",
       "Country: null\n",
       "--></g></svg>"
      ]
     },
     "execution_count": 15,
     "metadata": {},
     "output_type": "execute_result"
    }
   ],
   "source": [
    "%viz --style=\"POLYLINE\" --view=\"MIXED\" \"VariabilityTest\""
   ]
  },
  {
   "cell_type": "code",
   "execution_count": 16,
   "id": "5ec0cf53",
   "metadata": {
    "execution": {
     "iopub.execute_input": "2021-05-28T10:47:55.220785Z",
     "iopub.status.busy": "2021-05-28T10:47:55.220030Z",
     "iopub.status.idle": "2021-05-28T10:47:55.293992Z",
     "shell.execute_reply": "2021-05-28T10:47:55.292163Z"
    }
   },
   "outputs": [
    {
     "data": {
      "image/svg+xml": [
       "<?xml version=\"1.0\" encoding=\"UTF-8\" standalone=\"no\"?><svg xmlns=\"http://www.w3.org/2000/svg\" xmlns:xlink=\"http://www.w3.org/1999/xlink\" contentScriptType=\"application/ecmascript\" contentStyleType=\"text/css\" height=\"391px\" preserveAspectRatio=\"none\" style=\"width:495px;height:391px;\" version=\"1.1\" viewBox=\"0 0 495 391\" width=\"495px\" zoomAndPan=\"magnify\"><defs/><g><!--MD5=[fbc87193dbaf4d95561dea2c320d4a47]\n",
       "cluster E1--><a href=\"psysml:c9192910-aa77-45a9-9ae3-16f7deb9d13d\" target=\"_top\" title=\"psysml:c9192910-aa77-45a9-9ae3-16f7deb9d13d\" xlink:actuate=\"onRequest\" xlink:href=\"psysml:c9192910-aa77-45a9-9ae3-16f7deb9d13d\" xlink:show=\"new\" xlink:title=\"psysml:c9192910-aa77-45a9-9ae3-16f7deb9d13d\" xlink:type=\"simple\"><polygon fill=\"#FFFFFF\" points=\"16,6,134,6,141,28.2969,473,28.2969,473,379,16,379,16,6\" style=\"stroke: #000000; stroke-width: 1.5;\"/><line style=\"stroke: #000000; stroke-width: 1.5;\" x1=\"16\" x2=\"141\" y1=\"28.2969\" y2=\"28.2969\"/><text fill=\"#000000\" font-family=\"sans-serif\" font-size=\"14\" font-weight=\"bold\" lengthAdjust=\"spacingAndGlyphs\" textLength=\"112\" x=\"20\" y=\"20.9951\">VariabilityTest</text></a><!--MD5=[b4997ac47864f28c2f74865a473b2911]\n",
       "class E2--><a href=\"psysml:28b4b804-815b-4815-9c5e-e5b09d6ccef7\" target=\"_top\" title=\"psysml:28b4b804-815b-4815-9c5e-e5b09d6ccef7\" xlink:actuate=\"onRequest\" xlink:href=\"psysml:28b4b804-815b-4815-9c5e-e5b09d6ccef7\" xlink:show=\"new\" xlink:title=\"psysml:28b4b804-815b-4815-9c5e-e5b09d6ccef7\" xlink:type=\"simple\"><rect fill=\"#FFFFFF\" height=\"75.5469\" id=\"E2\" style=\"stroke: #383838; stroke-width: 1.5;\" width=\"66\" x=\"385.5\" y=\"164\"/><text fill=\"#000000\" font-family=\"sans-serif\" font-size=\"12\" font-style=\"italic\" lengthAdjust=\"spacingAndGlyphs\" textLength=\"64\" x=\"386.5\" y=\"180.1387\">«part def»</text><text fill=\"#000000\" font-family=\"sans-serif\" font-size=\"12\" lengthAdjust=\"spacingAndGlyphs\" textLength=\"8\" x=\"414.5\" y=\"194.1074\">P</text><line style=\"stroke: #383838; stroke-width: 1.5;\" x1=\"386.5\" x2=\"450.5\" y1=\"201.9375\" y2=\"201.9375\"/><text fill=\"#000000\" font-family=\"sans-serif\" font-size=\"11\" lengthAdjust=\"spacingAndGlyphs\" textLength=\"7\" x=\"391.5\" y=\"232.9526\">a</text><line style=\"stroke: #383838; stroke-width: 1.0;\" x1=\"386.5\" x2=\"391\" y1=\"216.3398\" y2=\"216.3398\"/><text fill=\"#000000\" font-family=\"sans-serif\" font-size=\"11\" lengthAdjust=\"spacingAndGlyphs\" textLength=\"55\" x=\"391\" y=\"219.6479\">attributes</text><line style=\"stroke: #383838; stroke-width: 1.0;\" x1=\"446\" x2=\"450.5\" y1=\"216.3398\" y2=\"216.3398\"/></a><!--MD5=[09b614a08d8cba4a07c9adeb5e0fee81]\n",
       "class E3--><a href=\"psysml:3556ece0-f840-441c-8cd2-5d7027a1a805\" target=\"_top\" title=\"psysml:3556ece0-f840-441c-8cd2-5d7027a1a805\" xlink:actuate=\"onRequest\" xlink:href=\"psysml:3556ece0-f840-441c-8cd2-5d7027a1a805\" xlink:show=\"new\" xlink:title=\"psysml:3556ece0-f840-441c-8cd2-5d7027a1a805\" xlink:type=\"simple\"><rect fill=\"#FFFFFF\" height=\"45.9375\" id=\"E3\" style=\"stroke: #383838; stroke-width: 1.5;\" width=\"66\" x=\"190\" y=\"215\"/><text fill=\"#000000\" font-family=\"sans-serif\" font-size=\"12\" font-style=\"italic\" lengthAdjust=\"spacingAndGlyphs\" textLength=\"64\" x=\"191\" y=\"231.1387\">«part def»</text><text fill=\"#000000\" font-family=\"sans-serif\" font-size=\"12\" lengthAdjust=\"spacingAndGlyphs\" textLength=\"9\" x=\"218.5\" y=\"245.1074\">Q</text><line style=\"stroke: #383838; stroke-width: 1.5;\" x1=\"191\" x2=\"255\" y1=\"252.9375\" y2=\"252.9375\"/></a><!--MD5=[ebbe1d658d1005bcc118a6aa81145e00]\n",
       "class E4--><a href=\"psysml:c1ea47d2-f15e-4f05-bf93-ec81669ca641\" target=\"_top\" title=\"psysml:c1ea47d2-f15e-4f05-bf93-ec81669ca641\" xlink:actuate=\"onRequest\" xlink:href=\"psysml:c1ea47d2-f15e-4f05-bf93-ec81669ca641\" xlink:show=\"new\" xlink:title=\"psysml:c1ea47d2-f15e-4f05-bf93-ec81669ca641\" xlink:type=\"simple\"><rect fill=\"#FFFFFF\" height=\"45.9375\" id=\"E4\" style=\"stroke: #383838; stroke-width: 1.5;\" width=\"95\" x=\"32\" y=\"84\"/><text fill=\"#000000\" font-family=\"sans-serif\" font-size=\"12\" font-style=\"italic\" lengthAdjust=\"spacingAndGlyphs\" textLength=\"93\" x=\"33\" y=\"100.1387\">«attribute def»</text><text fill=\"#000000\" font-family=\"sans-serif\" font-size=\"12\" lengthAdjust=\"spacingAndGlyphs\" textLength=\"8\" x=\"75.5\" y=\"114.1074\">B</text><line style=\"stroke: #383838; stroke-width: 1.5;\" x1=\"33\" x2=\"126\" y1=\"121.9375\" y2=\"121.9375\"/></a><!--MD5=[270fce915f116d4de14055a7c1d9a0f3]\n",
       "class E5--><a href=\"psysml:735cd89a-e4b2-4dc5-b3d6-41534f400f39\" target=\"_top\" title=\"psysml:735cd89a-e4b2-4dc5-b3d6-41534f400f39\" xlink:actuate=\"onRequest\" xlink:href=\"psysml:735cd89a-e4b2-4dc5-b3d6-41534f400f39\" xlink:show=\"new\" xlink:title=\"psysml:735cd89a-e4b2-4dc5-b3d6-41534f400f39\" xlink:type=\"simple\"><rect fill=\"#FFFFFF\" height=\"45.9375\" id=\"E5\" style=\"stroke: #383838; stroke-width: 1.5;\" width=\"66\" x=\"190\" y=\"53\"/><text fill=\"#000000\" font-family=\"sans-serif\" font-size=\"12\" font-style=\"italic\" lengthAdjust=\"spacingAndGlyphs\" textLength=\"64\" x=\"191\" y=\"69.1387\">«part def»</text><text fill=\"#000000\" font-family=\"sans-serif\" font-size=\"12\" lengthAdjust=\"spacingAndGlyphs\" textLength=\"8\" x=\"219\" y=\"83.1074\">V</text><line style=\"stroke: #383838; stroke-width: 1.5;\" x1=\"191\" x2=\"255\" y1=\"90.9375\" y2=\"90.9375\"/></a><!--MD5=[60a26617385b1d2d0262a64233df1f8d]\n",
       "class E6--><a href=\"psysml:0400016e-70f0-4405-a71c-97e49bd60e65\" target=\"_top\" title=\"psysml:0400016e-70f0-4405-a71c-97e49bd60e65\" xlink:actuate=\"onRequest\" xlink:href=\"psysml:0400016e-70f0-4405-a71c-97e49bd60e65\" xlink:show=\"new\" xlink:title=\"psysml:0400016e-70f0-4405-a71c-97e49bd60e65\" xlink:type=\"simple\"><rect fill=\"#FFFFFF\" height=\"88.3516\" id=\"E6\" rx=\"10\" ry=\"10\" style=\"stroke: #383838; stroke-width: 1.5;\" width=\"63\" x=\"387\" y=\"41\"/><text fill=\"#000000\" font-family=\"sans-serif\" font-size=\"12\" font-style=\"italic\" lengthAdjust=\"spacingAndGlyphs\" textLength=\"40\" x=\"398.5\" y=\"57.1387\">«part»</text><text fill=\"#000000\" font-family=\"sans-serif\" font-size=\"12\" lengthAdjust=\"spacingAndGlyphs\" textLength=\"23\" x=\"407\" y=\"71.1074\">x: Q</text><line style=\"stroke: #383838; stroke-width: 1.5;\" x1=\"388\" x2=\"449\" y1=\"78.9375\" y2=\"78.9375\"/><text fill=\"#000000\" font-family=\"sans-serif\" font-size=\"11\" lengthAdjust=\"spacingAndGlyphs\" textLength=\"23\" x=\"393\" y=\"109.9526\">b: B</text><text fill=\"#000000\" font-family=\"sans-serif\" font-size=\"11\" font-style=\"italic\" lengthAdjust=\"spacingAndGlyphs\" textLength=\"44\" x=\"393\" y=\"122.7573\">:&gt;&gt;P::a</text><line style=\"stroke: #383838; stroke-width: 1.0;\" x1=\"388\" x2=\"391\" y1=\"93.3398\" y2=\"93.3398\"/><text fill=\"#000000\" font-family=\"sans-serif\" font-size=\"11\" lengthAdjust=\"spacingAndGlyphs\" textLength=\"55\" x=\"391\" y=\"96.6479\">attributes</text><line style=\"stroke: #383838; stroke-width: 1.0;\" x1=\"446\" x2=\"449\" y1=\"93.3398\" y2=\"93.3398\"/></a><!--MD5=[2156ba9850f5573cc1fc38a6a4b2f02b]\n",
       "class E7--><a href=\"psysml:ac43cc4c-8177-486e-b5a5-e877f62f9bc5\" target=\"_top\" title=\"psysml:ac43cc4c-8177-486e-b5a5-e877f62f9bc5\" xlink:actuate=\"onRequest\" xlink:href=\"psysml:ac43cc4c-8177-486e-b5a5-e877f62f9bc5\" xlink:show=\"new\" xlink:title=\"psysml:ac43cc4c-8177-486e-b5a5-e877f62f9bc5\" xlink:type=\"simple\"><rect fill=\"#FFFFFF\" height=\"45.9375\" id=\"E7\" rx=\"10\" ry=\"10\" style=\"stroke: #383838; stroke-width: 1.5;\" width=\"42\" x=\"58.5\" y=\"215\"/><text fill=\"#000000\" font-family=\"sans-serif\" font-size=\"12\" font-style=\"italic\" lengthAdjust=\"spacingAndGlyphs\" textLength=\"40\" x=\"59.5\" y=\"231.1387\">«part»</text><text fill=\"#000000\" font-family=\"sans-serif\" font-size=\"12\" lengthAdjust=\"spacingAndGlyphs\" textLength=\"25\" x=\"67\" y=\"245.1074\">q: Q</text><line style=\"stroke: #383838; stroke-width: 1.5;\" x1=\"59.5\" x2=\"99.5\" y1=\"252.9375\" y2=\"252.9375\"/></a><!--MD5=[b9389687b975829384b498ac4b7476b2]\n",
       "class E8--><a href=\"psysml:ce952eae-8bb1-4ad0-9f02-4c42d4c1d0c7\" target=\"_top\" title=\"psysml:ce952eae-8bb1-4ad0-9f02-4c42d4c1d0c7\" xlink:actuate=\"onRequest\" xlink:href=\"psysml:ce952eae-8bb1-4ad0-9f02-4c42d4c1d0c7\" xlink:show=\"new\" xlink:title=\"psysml:ce952eae-8bb1-4ad0-9f02-4c42d4c1d0c7\" xlink:type=\"simple\"><rect fill=\"#FFFFFF\" height=\"59.9063\" id=\"E8\" rx=\"10\" ry=\"10\" style=\"stroke: #383838; stroke-width: 1.5;\" width=\"70\" x=\"188\" y=\"296\"/><text fill=\"#000000\" font-family=\"sans-serif\" font-size=\"12\" font-style=\"italic\" lengthAdjust=\"spacingAndGlyphs\" textLength=\"68\" x=\"189\" y=\"312.1387\">«variation»</text><text fill=\"#000000\" font-family=\"sans-serif\" font-size=\"12\" font-style=\"italic\" lengthAdjust=\"spacingAndGlyphs\" textLength=\"40\" x=\"203\" y=\"326.1074\">«part»</text><text fill=\"#000000\" font-family=\"sans-serif\" font-size=\"12\" lengthAdjust=\"spacingAndGlyphs\" textLength=\"22\" x=\"212\" y=\"340.0762\">v: P</text><line style=\"stroke: #383838; stroke-width: 1.5;\" x1=\"189\" x2=\"257\" y1=\"347.9063\" y2=\"347.9063\"/></a><!--MD5=[fd4143e9d270a159db93a4ea2a975926]\n",
       "class E9--><a href=\"psysml:572dfe4e-6d7c-4ba8-94a3-d7ce0272bed9\" target=\"_top\" title=\"psysml:572dfe4e-6d7c-4ba8-94a3-d7ce0272bed9\" xlink:actuate=\"onRequest\" xlink:href=\"psysml:572dfe4e-6d7c-4ba8-94a3-d7ce0272bed9\" xlink:show=\"new\" xlink:title=\"psysml:572dfe4e-6d7c-4ba8-94a3-d7ce0272bed9\" xlink:type=\"simple\"><rect fill=\"#FFFFFF\" height=\"88.3516\" id=\"E9\" rx=\"10\" ry=\"10\" style=\"stroke: #383838; stroke-width: 1.5;\" width=\"77\" x=\"380\" y=\"275\"/><text fill=\"#000000\" font-family=\"sans-serif\" font-size=\"12\" font-style=\"italic\" lengthAdjust=\"spacingAndGlyphs\" textLength=\"75\" x=\"381\" y=\"291.1387\">«reference»</text><text fill=\"#000000\" font-family=\"sans-serif\" font-size=\"12\" lengthAdjust=\"spacingAndGlyphs\" textLength=\"8\" x=\"414.5\" y=\"305.1074\">q</text><line style=\"stroke: #383838; stroke-width: 1.5;\" x1=\"381\" x2=\"456\" y1=\"312.9375\" y2=\"312.9375\"/><text fill=\"#000000\" font-family=\"sans-serif\" font-size=\"11\" lengthAdjust=\"spacingAndGlyphs\" textLength=\"23\" x=\"386\" y=\"343.9526\">b: B</text><text fill=\"#000000\" font-family=\"sans-serif\" font-size=\"11\" font-style=\"italic\" lengthAdjust=\"spacingAndGlyphs\" textLength=\"44\" x=\"386\" y=\"356.7573\">:&gt;&gt;P::a</text><line style=\"stroke: #383838; stroke-width: 1.0;\" x1=\"381\" x2=\"391\" y1=\"327.3398\" y2=\"327.3398\"/><text fill=\"#000000\" font-family=\"sans-serif\" font-size=\"11\" lengthAdjust=\"spacingAndGlyphs\" textLength=\"55\" x=\"391\" y=\"330.6479\">attributes</text><line style=\"stroke: #383838; stroke-width: 1.0;\" x1=\"446\" x2=\"456\" y1=\"327.3398\" y2=\"327.3398\"/></a><!--MD5=[96f4274e9e20536e775497830990834d]\n",
       "class E10--><a href=\"psysml:983a8093-9810-4637-96cc-9ee8fb3d9cf5\" target=\"_top\" title=\"psysml:983a8093-9810-4637-96cc-9ee8fb3d9cf5\" xlink:actuate=\"onRequest\" xlink:href=\"psysml:983a8093-9810-4637-96cc-9ee8fb3d9cf5\" xlink:show=\"new\" xlink:title=\"psysml:983a8093-9810-4637-96cc-9ee8fb3d9cf5\" xlink:type=\"simple\"><rect fill=\"#FFFFFF\" height=\"45.9375\" id=\"E10\" rx=\"10\" ry=\"10\" style=\"stroke: #383838; stroke-width: 1.5;\" width=\"42\" x=\"202\" y=\"134\"/><text fill=\"#000000\" font-family=\"sans-serif\" font-size=\"12\" font-style=\"italic\" lengthAdjust=\"spacingAndGlyphs\" textLength=\"40\" x=\"203\" y=\"150.1387\">«part»</text><text fill=\"#000000\" font-family=\"sans-serif\" font-size=\"12\" lengthAdjust=\"spacingAndGlyphs\" textLength=\"22\" x=\"212\" y=\"164.1074\">y: P</text><line style=\"stroke: #383838; stroke-width: 1.5;\" x1=\"203\" x2=\"243\" y1=\"171.9375\" y2=\"171.9375\"/></a><!--MD5=[05d275557350bfb9b23a4ef7222b4c39]\n",
       "link E3 to E2--><a href=\"psysml:9e57242c-9184-4252-9565-bec20c63fdb8\" target=\"_top\" title=\"psysml:9e57242c-9184-4252-9565-bec20c63fdb8\" xlink:actuate=\"onRequest\" xlink:href=\"psysml:9e57242c-9184-4252-9565-bec20c63fdb8\" xlink:show=\"new\" xlink:title=\"psysml:9e57242c-9184-4252-9565-bec20c63fdb8\" xlink:type=\"simple\"><path d=\"M256.39,231.97 C286.06,226.45 330.5,218.19 365.2,211.73 \" fill=\"none\" id=\"E3-&gt;E2\" style=\"stroke: #383838; stroke-width: 1.0;\"/><polygon fill=\"none\" points=\"364.39,204.76,385.33,207.99,366.95,218.53,364.39,204.76\" style=\"stroke: #383838; stroke-width: 1.0;\"/></a><!--MD5=[15ebcb19ae302d9b601edb458606d402]\n",
       "link E5 to E2--><a href=\"psysml:5cdbdbe7-d14c-45c9-a804-61f18115238e\" target=\"_top\" title=\"psysml:5cdbdbe7-d14c-45c9-a804-61f18115238e\" xlink:actuate=\"onRequest\" xlink:href=\"psysml:5cdbdbe7-d14c-45c9-a804-61f18115238e\" xlink:show=\"new\" xlink:title=\"psysml:5cdbdbe7-d14c-45c9-a804-61f18115238e\" xlink:type=\"simple\"><path d=\"M256.39,97.09 C286.9,116.96 333.03,147 368.13,169.85 \" fill=\"none\" id=\"E5-&gt;E2\" style=\"stroke: #383838; stroke-width: 1.0;\"/><polygon fill=\"none\" points=\"372.39,164.27,385.33,181.05,364.75,176,372.39,164.27\" style=\"stroke: #383838; stroke-width: 1.0;\"/></a><!--MD5=[9120cf2e5df3bff93db8f754bbbc09b4]\n",
       "link E5 to E6--><a href=\"psysml:052c6ce9-d9db-4da6-90c4-ac16555550ac\" target=\"_top\" title=\"psysml:052c6ce9-d9db-4da6-90c4-ac16555550ac\" xlink:actuate=\"onRequest\" xlink:href=\"psysml:052c6ce9-d9db-4da6-90c4-ac16555550ac\" xlink:show=\"new\" xlink:title=\"psysml:052c6ce9-d9db-4da6-90c4-ac16555550ac\" xlink:type=\"simple\"><path d=\"M266.69,77.99 C299.54,79.51 344.62,81.61 376.92,83.11 \" fill=\"none\" id=\"E5-E6\" style=\"stroke: #383838; stroke-width: 1.0;\"/><polygon fill=\"#383838\" points=\"386.92,83.58,379.0704,80.2061,378.7874,86.1994,386.92,83.58\" style=\"stroke: #383838; stroke-width: 1.0;\"/><path d=\"M259.0665,86.1028 A9,9 0 0 0 259.863 69.2071\" fill=\"none\" style=\"stroke: #383838; stroke-width: 1.5;\"/><text fill=\"#000000\" font-family=\"sans-serif\" font-size=\"13\" lengthAdjust=\"spacingAndGlyphs\" textLength=\"60\" x=\"289\" y=\"76.0669\">«variant»</text></a><!--MD5=[14ccda38c055a5c0da953d572bc50960]\n",
       "link E7 to E3--><a href=\"psysml:648145d1-1ec9-42fc-8307-fa8910350658\" target=\"_top\" title=\"psysml:648145d1-1ec9-42fc-8307-fa8910350658\" xlink:actuate=\"onRequest\" xlink:href=\"psysml:648145d1-1ec9-42fc-8307-fa8910350658\" xlink:show=\"new\" xlink:title=\"psysml:648145d1-1ec9-42fc-8307-fa8910350658\" xlink:type=\"simple\"><path d=\"M100.77,238 C118.65,238 145.5,238 169.39,238 \" fill=\"none\" id=\"E7-&gt;E3\" style=\"stroke: #383838; stroke-width: 1.0;\"/><polygon fill=\"#FFFFFF\" points=\"189.74,238,170.74,245,170.74,231,189.74,238\" style=\"stroke: #383838; stroke-width: 1.0;\"/><ellipse cx=\"165.04\" cy=\"243\" fill=\"#383838\" rx=\"2\" ry=\"2\" style=\"stroke: #383838; stroke-width: 1.0;\"/><ellipse cx=\"165.04\" cy=\"233\" fill=\"#383838\" rx=\"2\" ry=\"2\" style=\"stroke: #383838; stroke-width: 1.0;\"/></a><!--MD5=[f1f3f9f2fc535e6147756cb86a7f2e32]\n",
       "link E8 to E2--><a href=\"psysml:19cda0c9-2775-4d9d-8cd8-191c5ad52b34\" target=\"_top\" title=\"psysml:19cda0c9-2775-4d9d-8cd8-191c5ad52b34\" xlink:actuate=\"onRequest\" xlink:href=\"psysml:19cda0c9-2775-4d9d-8cd8-191c5ad52b34\" xlink:show=\"new\" xlink:title=\"psysml:19cda0c9-2775-4d9d-8cd8-191c5ad52b34\" xlink:type=\"simple\"><path d=\"M258.15,304.12 C288.73,284.52 333.94,255.55 368.39,233.47 \" fill=\"none\" id=\"E8-&gt;E2\" style=\"stroke: #383838; stroke-width: 1.0;\"/><polygon fill=\"#FFFFFF\" points=\"385.3,222.63,373.0842,238.7785,365.5272,226.9932,385.3,222.63\" style=\"stroke: #383838; stroke-width: 1.0;\"/><ellipse cx=\"367.2063\" cy=\"240.1717\" fill=\"#383838\" rx=\"2\" ry=\"2\" style=\"stroke: #383838; stroke-width: 1.0;\"/><ellipse cx=\"361.8085\" cy=\"231.7536\" fill=\"#383838\" rx=\"2\" ry=\"2\" style=\"stroke: #383838; stroke-width: 1.0;\"/></a><!--MD5=[ed10624c06dd9a4fa49ccf290e8b16a8]\n",
       "link E8 to E9--><a href=\"psysml:28d39c7a-e0c7-42b0-858e-2cb4e488f108\" target=\"_top\" title=\"psysml:28d39c7a-e0c7-42b0-858e-2cb4e488f108\" xlink:actuate=\"onRequest\" xlink:href=\"psysml:28d39c7a-e0c7-42b0-858e-2cb4e488f108\" xlink:show=\"new\" xlink:title=\"psysml:28d39c7a-e0c7-42b0-858e-2cb4e488f108\" xlink:type=\"simple\"><path d=\"M268.18,324.4 C298.44,323.31 338.55,321.86 369.58,320.73 \" fill=\"none\" id=\"E8-E9\" style=\"stroke: #383838; stroke-width: 1.0;\"/><polygon fill=\"#383838\" points=\"379.72,320.37,371.6142,317.669,371.8369,323.6649,379.72,320.37\" style=\"stroke: #383838; stroke-width: 1.0;\"/><path d=\"M261.5285,333.1018 A9,9 0 0 0 260.9239 316.1981\" fill=\"none\" style=\"stroke: #383838; stroke-width: 1.5;\"/><text fill=\"#000000\" font-family=\"sans-serif\" font-size=\"13\" lengthAdjust=\"spacingAndGlyphs\" textLength=\"60\" x=\"289\" y=\"318.0669\">«variant»</text></a><!--MD5=[0f36bececdf0dff6e600d6f64214b0f1]\n",
       "link E10 to E2--><a href=\"psysml:8cfcd01d-a74f-43be-a680-d41b6ee6accc\" target=\"_top\" title=\"psysml:8cfcd01d-a74f-43be-a680-d41b6ee6accc\" xlink:actuate=\"onRequest\" xlink:href=\"psysml:8cfcd01d-a74f-43be-a680-d41b6ee6accc\" xlink:show=\"new\" xlink:title=\"psysml:8cfcd01d-a74f-43be-a680-d41b6ee6accc\" xlink:type=\"simple\"><path d=\"M244.34,161.73 C272.87,168.36 325.72,180.66 365.56,189.92 \" fill=\"none\" id=\"E10-&gt;E2\" style=\"stroke: #383838; stroke-width: 1.0;\"/><polygon fill=\"#FFFFFF\" points=\"385.28,194.51,365.1886,197.0272,368.3578,183.3907,385.28,194.51\" style=\"stroke: #383838; stroke-width: 1.0;\"/><ellipse cx=\"360.0893\" cy=\"193.7888\" fill=\"#383838\" rx=\"2\" ry=\"2\" style=\"stroke: #383838; stroke-width: 1.0;\"/><ellipse cx=\"362.353\" cy=\"184.0484\" fill=\"#383838\" rx=\"2\" ry=\"2\" style=\"stroke: #383838; stroke-width: 1.0;\"/></a><!--MD5=[f621de47961b74ffd42b472deb94a102]\n",
       "@startuml\r\n",
       "left to right direction\r\n",
       "skinparam monochrome true\r\n",
       "skinparam classbackgroundcolor white\r\n",
       "skinparam shadowing false\r\n",
       "skinparam wrapWidth 300\r\n",
       "hide circle\r\n",
       "\r\n",
       "package \"VariabilityTest\" as E1  [[psysml:c9192910-aa77-45a9-9ae3-16f7deb9d13d ]]  {\r\n",
       "comp def \"P\" as E2  <<(T,blue)part def>> [[psysml:28b4b804-815b-4815-9c5e-e5b09d6ccef7 ]] {\r\n",
       "- - attributes - -\r\n",
       "a\r\n",
       "}\r\n",
       "comp def \"Q\" as E3  <<(T,blue)part def>> [[psysml:3556ece0-f840-441c-8cd2-5d7027a1a805 ]] {\r\n",
       "}\r\n",
       "comp def \"B\" as E4  <<(T,blue)attribute def>> [[psysml:c1ea47d2-f15e-4f05-bf93-ec81669ca641 ]] {\r\n",
       "}\r\n",
       "comp def \"V\" as E5  <<(T,blue)part def>> [[psysml:735cd89a-e4b2-4dc5-b3d6-41534f400f39 ]] {\r\n",
       "}\r\n",
       "comp usage \"x: Q\" as E6  <<(T,blue)part>> [[psysml:0400016e-70f0-4405-a71c-97e49bd60e65 ]] {\r\n",
       "- - attributes - -\r\n",
       "b: B\\n//:>>P::a// \r\n",
       "}\r\n",
       "comp usage \"q: Q\" as E7  <<(T,blue)part>> [[psysml:ac43cc4c-8177-486e-b5a5-e877f62f9bc5 ]] {\r\n",
       "}\r\n",
       "comp usage \"v: P\" as E8  <<variation>>\\n <<(T,blue)part>> [[psysml:ce952eae-8bb1-4ad0-9f02-4c42d4c1d0c7 ]] {\r\n",
       "}\r\n",
       "comp usage \"q\" as E9  <<(T,blue)reference>> [[psysml:572dfe4e-6d7c-4ba8-94a3-d7ce0272bed9 ]] {\r\n",
       "- - attributes - -\r\n",
       "b: B\\n//:>>P::a// \r\n",
       "}\r\n",
       "comp usage \"y: P\" as E10  <<(T,blue)part>> [[psysml:983a8093-9810-4637-96cc-9ee8fb3d9cf5 ]] {\r\n",
       "}\r\n",
       "E3 - -|> E2 [[psysml:9e57242c-9184-4252-9565-bec20c63fdb8 ]] \r\n",
       "E5 - -|> E2 [[psysml:5cdbdbe7-d14c-45c9-a804-61f18115238e ]] \r\n",
       "E5 )- ->> E6 [[psysml:052c6ce9-d9db-4da6-90c4-ac16555550ac ]] : <<variant>>\r\n",
       "E7 - -:|> E3 [[psysml:648145d1-1ec9-42fc-8307-fa8910350658 ]] \r\n",
       "E8 - -:|> E2 [[psysml:19cda0c9-2775-4d9d-8cd8-191c5ad52b34 ]] \r\n",
       "E8 )- ->> E9 [[psysml:28d39c7a-e0c7-42b0-858e-2cb4e488f108 ]] : <<variant>>\r\n",
       "E10 - -:|> E2 [[psysml:8cfcd01d-a74f-43be-a680-d41b6ee6accc ]] \r\n",
       "}\r\n",
       "@enduml\r\n",
       "\n",
       "PlantUML version 1.2020.13(Sat Jun 13 12:26:38 UTC 2020)\n",
       "(EPL source distribution)\n",
       "Java Runtime: OpenJDK Runtime Environment\n",
       "JVM: OpenJDK 64-Bit Server VM\n",
       "Default Encoding: UTF-8\n",
       "Language: en\n",
       "Country: null\n",
       "--></g></svg>"
      ]
     },
     "execution_count": 16,
     "metadata": {},
     "output_type": "execute_result"
    }
   ],
   "source": [
    "%viz --style=\"LR\" --view=\"Default\" \"VariabilityTest\""
   ]
  },
  {
   "cell_type": "code",
   "execution_count": 17,
   "id": "5228a067",
   "metadata": {
    "execution": {
     "iopub.execute_input": "2021-05-28T10:47:55.344543Z",
     "iopub.status.busy": "2021-05-28T10:47:55.343803Z",
     "iopub.status.idle": "2021-05-28T10:47:55.416532Z",
     "shell.execute_reply": "2021-05-28T10:47:55.415062Z"
    }
   },
   "outputs": [
    {
     "data": {
      "image/svg+xml": [
       "<?xml version=\"1.0\" encoding=\"UTF-8\" standalone=\"no\"?><svg xmlns=\"http://www.w3.org/2000/svg\" xmlns:xlink=\"http://www.w3.org/1999/xlink\" contentScriptType=\"application/ecmascript\" contentStyleType=\"text/css\" height=\"391px\" preserveAspectRatio=\"none\" style=\"width:495px;height:391px;\" version=\"1.1\" viewBox=\"0 0 495 391\" width=\"495px\" zoomAndPan=\"magnify\"><defs/><g><!--MD5=[fbc87193dbaf4d95561dea2c320d4a47]\n",
       "cluster E1--><a href=\"psysml:c9192910-aa77-45a9-9ae3-16f7deb9d13d\" target=\"_top\" title=\"psysml:c9192910-aa77-45a9-9ae3-16f7deb9d13d\" xlink:actuate=\"onRequest\" xlink:href=\"psysml:c9192910-aa77-45a9-9ae3-16f7deb9d13d\" xlink:show=\"new\" xlink:title=\"psysml:c9192910-aa77-45a9-9ae3-16f7deb9d13d\" xlink:type=\"simple\"><polygon fill=\"#FFFFFF\" points=\"16,6,134,6,141,28.2969,473,28.2969,473,379,16,379,16,6\" style=\"stroke: #000000; stroke-width: 1.5;\"/><line style=\"stroke: #000000; stroke-width: 1.5;\" x1=\"16\" x2=\"141\" y1=\"28.2969\" y2=\"28.2969\"/><text fill=\"#000000\" font-family=\"sans-serif\" font-size=\"14\" font-weight=\"bold\" lengthAdjust=\"spacingAndGlyphs\" textLength=\"112\" x=\"20\" y=\"20.9951\">VariabilityTest</text></a><!--MD5=[b4997ac47864f28c2f74865a473b2911]\n",
       "class E2--><a href=\"psysml:28b4b804-815b-4815-9c5e-e5b09d6ccef7\" target=\"_top\" title=\"psysml:28b4b804-815b-4815-9c5e-e5b09d6ccef7\" xlink:actuate=\"onRequest\" xlink:href=\"psysml:28b4b804-815b-4815-9c5e-e5b09d6ccef7\" xlink:show=\"new\" xlink:title=\"psysml:28b4b804-815b-4815-9c5e-e5b09d6ccef7\" xlink:type=\"simple\"><rect fill=\"#FFFFFF\" height=\"75.5469\" id=\"E2\" style=\"stroke: #383838; stroke-width: 1.5;\" width=\"66\" x=\"385.5\" y=\"164\"/><text fill=\"#000000\" font-family=\"sans-serif\" font-size=\"12\" font-style=\"italic\" lengthAdjust=\"spacingAndGlyphs\" textLength=\"64\" x=\"386.5\" y=\"180.1387\">«part def»</text><text fill=\"#000000\" font-family=\"sans-serif\" font-size=\"12\" lengthAdjust=\"spacingAndGlyphs\" textLength=\"8\" x=\"414.5\" y=\"194.1074\">P</text><line style=\"stroke: #383838; stroke-width: 1.5;\" x1=\"386.5\" x2=\"450.5\" y1=\"201.9375\" y2=\"201.9375\"/><text fill=\"#000000\" font-family=\"sans-serif\" font-size=\"11\" lengthAdjust=\"spacingAndGlyphs\" textLength=\"7\" x=\"391.5\" y=\"232.9526\">a</text><line style=\"stroke: #383838; stroke-width: 1.0;\" x1=\"386.5\" x2=\"391\" y1=\"216.3398\" y2=\"216.3398\"/><text fill=\"#000000\" font-family=\"sans-serif\" font-size=\"11\" lengthAdjust=\"spacingAndGlyphs\" textLength=\"55\" x=\"391\" y=\"219.6479\">attributes</text><line style=\"stroke: #383838; stroke-width: 1.0;\" x1=\"446\" x2=\"450.5\" y1=\"216.3398\" y2=\"216.3398\"/></a><!--MD5=[09b614a08d8cba4a07c9adeb5e0fee81]\n",
       "class E3--><a href=\"psysml:3556ece0-f840-441c-8cd2-5d7027a1a805\" target=\"_top\" title=\"psysml:3556ece0-f840-441c-8cd2-5d7027a1a805\" xlink:actuate=\"onRequest\" xlink:href=\"psysml:3556ece0-f840-441c-8cd2-5d7027a1a805\" xlink:show=\"new\" xlink:title=\"psysml:3556ece0-f840-441c-8cd2-5d7027a1a805\" xlink:type=\"simple\"><rect fill=\"#FFFFFF\" height=\"45.9375\" id=\"E3\" style=\"stroke: #383838; stroke-width: 1.5;\" width=\"66\" x=\"190\" y=\"215\"/><text fill=\"#000000\" font-family=\"sans-serif\" font-size=\"12\" font-style=\"italic\" lengthAdjust=\"spacingAndGlyphs\" textLength=\"64\" x=\"191\" y=\"231.1387\">«part def»</text><text fill=\"#000000\" font-family=\"sans-serif\" font-size=\"12\" lengthAdjust=\"spacingAndGlyphs\" textLength=\"9\" x=\"218.5\" y=\"245.1074\">Q</text><line style=\"stroke: #383838; stroke-width: 1.5;\" x1=\"191\" x2=\"255\" y1=\"252.9375\" y2=\"252.9375\"/></a><!--MD5=[ebbe1d658d1005bcc118a6aa81145e00]\n",
       "class E4--><a href=\"psysml:c1ea47d2-f15e-4f05-bf93-ec81669ca641\" target=\"_top\" title=\"psysml:c1ea47d2-f15e-4f05-bf93-ec81669ca641\" xlink:actuate=\"onRequest\" xlink:href=\"psysml:c1ea47d2-f15e-4f05-bf93-ec81669ca641\" xlink:show=\"new\" xlink:title=\"psysml:c1ea47d2-f15e-4f05-bf93-ec81669ca641\" xlink:type=\"simple\"><rect fill=\"#FFFFFF\" height=\"45.9375\" id=\"E4\" style=\"stroke: #383838; stroke-width: 1.5;\" width=\"95\" x=\"32\" y=\"84\"/><text fill=\"#000000\" font-family=\"sans-serif\" font-size=\"12\" font-style=\"italic\" lengthAdjust=\"spacingAndGlyphs\" textLength=\"93\" x=\"33\" y=\"100.1387\">«attribute def»</text><text fill=\"#000000\" font-family=\"sans-serif\" font-size=\"12\" lengthAdjust=\"spacingAndGlyphs\" textLength=\"8\" x=\"75.5\" y=\"114.1074\">B</text><line style=\"stroke: #383838; stroke-width: 1.5;\" x1=\"33\" x2=\"126\" y1=\"121.9375\" y2=\"121.9375\"/></a><!--MD5=[270fce915f116d4de14055a7c1d9a0f3]\n",
       "class E5--><a href=\"psysml:735cd89a-e4b2-4dc5-b3d6-41534f400f39\" target=\"_top\" title=\"psysml:735cd89a-e4b2-4dc5-b3d6-41534f400f39\" xlink:actuate=\"onRequest\" xlink:href=\"psysml:735cd89a-e4b2-4dc5-b3d6-41534f400f39\" xlink:show=\"new\" xlink:title=\"psysml:735cd89a-e4b2-4dc5-b3d6-41534f400f39\" xlink:type=\"simple\"><rect fill=\"#FFFFFF\" height=\"45.9375\" id=\"E5\" style=\"stroke: #383838; stroke-width: 1.5;\" width=\"66\" x=\"190\" y=\"53\"/><text fill=\"#000000\" font-family=\"sans-serif\" font-size=\"12\" font-style=\"italic\" lengthAdjust=\"spacingAndGlyphs\" textLength=\"64\" x=\"191\" y=\"69.1387\">«part def»</text><text fill=\"#000000\" font-family=\"sans-serif\" font-size=\"12\" lengthAdjust=\"spacingAndGlyphs\" textLength=\"8\" x=\"219\" y=\"83.1074\">V</text><line style=\"stroke: #383838; stroke-width: 1.5;\" x1=\"191\" x2=\"255\" y1=\"90.9375\" y2=\"90.9375\"/></a><!--MD5=[60a26617385b1d2d0262a64233df1f8d]\n",
       "class E6--><a href=\"psysml:0400016e-70f0-4405-a71c-97e49bd60e65\" target=\"_top\" title=\"psysml:0400016e-70f0-4405-a71c-97e49bd60e65\" xlink:actuate=\"onRequest\" xlink:href=\"psysml:0400016e-70f0-4405-a71c-97e49bd60e65\" xlink:show=\"new\" xlink:title=\"psysml:0400016e-70f0-4405-a71c-97e49bd60e65\" xlink:type=\"simple\"><rect fill=\"#FFFFFF\" height=\"88.3516\" id=\"E6\" rx=\"10\" ry=\"10\" style=\"stroke: #383838; stroke-width: 1.5;\" width=\"63\" x=\"387\" y=\"41\"/><text fill=\"#000000\" font-family=\"sans-serif\" font-size=\"12\" font-style=\"italic\" lengthAdjust=\"spacingAndGlyphs\" textLength=\"40\" x=\"398.5\" y=\"57.1387\">«part»</text><text fill=\"#000000\" font-family=\"sans-serif\" font-size=\"12\" lengthAdjust=\"spacingAndGlyphs\" textLength=\"23\" x=\"407\" y=\"71.1074\">x: Q</text><line style=\"stroke: #383838; stroke-width: 1.5;\" x1=\"388\" x2=\"449\" y1=\"78.9375\" y2=\"78.9375\"/><text fill=\"#000000\" font-family=\"sans-serif\" font-size=\"11\" lengthAdjust=\"spacingAndGlyphs\" textLength=\"23\" x=\"393\" y=\"109.9526\">b: B</text><text fill=\"#000000\" font-family=\"sans-serif\" font-size=\"11\" font-style=\"italic\" lengthAdjust=\"spacingAndGlyphs\" textLength=\"44\" x=\"393\" y=\"122.7573\">:&gt;&gt;P::a</text><line style=\"stroke: #383838; stroke-width: 1.0;\" x1=\"388\" x2=\"391\" y1=\"93.3398\" y2=\"93.3398\"/><text fill=\"#000000\" font-family=\"sans-serif\" font-size=\"11\" lengthAdjust=\"spacingAndGlyphs\" textLength=\"55\" x=\"391\" y=\"96.6479\">attributes</text><line style=\"stroke: #383838; stroke-width: 1.0;\" x1=\"446\" x2=\"449\" y1=\"93.3398\" y2=\"93.3398\"/></a><!--MD5=[2156ba9850f5573cc1fc38a6a4b2f02b]\n",
       "class E7--><a href=\"psysml:ac43cc4c-8177-486e-b5a5-e877f62f9bc5\" target=\"_top\" title=\"psysml:ac43cc4c-8177-486e-b5a5-e877f62f9bc5\" xlink:actuate=\"onRequest\" xlink:href=\"psysml:ac43cc4c-8177-486e-b5a5-e877f62f9bc5\" xlink:show=\"new\" xlink:title=\"psysml:ac43cc4c-8177-486e-b5a5-e877f62f9bc5\" xlink:type=\"simple\"><rect fill=\"#FFFFFF\" height=\"45.9375\" id=\"E7\" rx=\"10\" ry=\"10\" style=\"stroke: #383838; stroke-width: 1.5;\" width=\"42\" x=\"58.5\" y=\"215\"/><text fill=\"#000000\" font-family=\"sans-serif\" font-size=\"12\" font-style=\"italic\" lengthAdjust=\"spacingAndGlyphs\" textLength=\"40\" x=\"59.5\" y=\"231.1387\">«part»</text><text fill=\"#000000\" font-family=\"sans-serif\" font-size=\"12\" lengthAdjust=\"spacingAndGlyphs\" textLength=\"25\" x=\"67\" y=\"245.1074\">q: Q</text><line style=\"stroke: #383838; stroke-width: 1.5;\" x1=\"59.5\" x2=\"99.5\" y1=\"252.9375\" y2=\"252.9375\"/></a><!--MD5=[b9389687b975829384b498ac4b7476b2]\n",
       "class E8--><a href=\"psysml:ce952eae-8bb1-4ad0-9f02-4c42d4c1d0c7\" target=\"_top\" title=\"psysml:ce952eae-8bb1-4ad0-9f02-4c42d4c1d0c7\" xlink:actuate=\"onRequest\" xlink:href=\"psysml:ce952eae-8bb1-4ad0-9f02-4c42d4c1d0c7\" xlink:show=\"new\" xlink:title=\"psysml:ce952eae-8bb1-4ad0-9f02-4c42d4c1d0c7\" xlink:type=\"simple\"><rect fill=\"#FFFFFF\" height=\"59.9063\" id=\"E8\" rx=\"10\" ry=\"10\" style=\"stroke: #383838; stroke-width: 1.5;\" width=\"70\" x=\"188\" y=\"296\"/><text fill=\"#000000\" font-family=\"sans-serif\" font-size=\"12\" font-style=\"italic\" lengthAdjust=\"spacingAndGlyphs\" textLength=\"68\" x=\"189\" y=\"312.1387\">«variation»</text><text fill=\"#000000\" font-family=\"sans-serif\" font-size=\"12\" font-style=\"italic\" lengthAdjust=\"spacingAndGlyphs\" textLength=\"40\" x=\"203\" y=\"326.1074\">«part»</text><text fill=\"#000000\" font-family=\"sans-serif\" font-size=\"12\" lengthAdjust=\"spacingAndGlyphs\" textLength=\"22\" x=\"212\" y=\"340.0762\">v: P</text><line style=\"stroke: #383838; stroke-width: 1.5;\" x1=\"189\" x2=\"257\" y1=\"347.9063\" y2=\"347.9063\"/></a><!--MD5=[fd4143e9d270a159db93a4ea2a975926]\n",
       "class E9--><a href=\"psysml:572dfe4e-6d7c-4ba8-94a3-d7ce0272bed9\" target=\"_top\" title=\"psysml:572dfe4e-6d7c-4ba8-94a3-d7ce0272bed9\" xlink:actuate=\"onRequest\" xlink:href=\"psysml:572dfe4e-6d7c-4ba8-94a3-d7ce0272bed9\" xlink:show=\"new\" xlink:title=\"psysml:572dfe4e-6d7c-4ba8-94a3-d7ce0272bed9\" xlink:type=\"simple\"><rect fill=\"#FFFFFF\" height=\"88.3516\" id=\"E9\" rx=\"10\" ry=\"10\" style=\"stroke: #383838; stroke-width: 1.5;\" width=\"77\" x=\"380\" y=\"275\"/><text fill=\"#000000\" font-family=\"sans-serif\" font-size=\"12\" font-style=\"italic\" lengthAdjust=\"spacingAndGlyphs\" textLength=\"75\" x=\"381\" y=\"291.1387\">«reference»</text><text fill=\"#000000\" font-family=\"sans-serif\" font-size=\"12\" lengthAdjust=\"spacingAndGlyphs\" textLength=\"8\" x=\"414.5\" y=\"305.1074\">q</text><line style=\"stroke: #383838; stroke-width: 1.5;\" x1=\"381\" x2=\"456\" y1=\"312.9375\" y2=\"312.9375\"/><text fill=\"#000000\" font-family=\"sans-serif\" font-size=\"11\" lengthAdjust=\"spacingAndGlyphs\" textLength=\"23\" x=\"386\" y=\"343.9526\">b: B</text><text fill=\"#000000\" font-family=\"sans-serif\" font-size=\"11\" font-style=\"italic\" lengthAdjust=\"spacingAndGlyphs\" textLength=\"44\" x=\"386\" y=\"356.7573\">:&gt;&gt;P::a</text><line style=\"stroke: #383838; stroke-width: 1.0;\" x1=\"381\" x2=\"391\" y1=\"327.3398\" y2=\"327.3398\"/><text fill=\"#000000\" font-family=\"sans-serif\" font-size=\"11\" lengthAdjust=\"spacingAndGlyphs\" textLength=\"55\" x=\"391\" y=\"330.6479\">attributes</text><line style=\"stroke: #383838; stroke-width: 1.0;\" x1=\"446\" x2=\"456\" y1=\"327.3398\" y2=\"327.3398\"/></a><!--MD5=[96f4274e9e20536e775497830990834d]\n",
       "class E10--><a href=\"psysml:983a8093-9810-4637-96cc-9ee8fb3d9cf5\" target=\"_top\" title=\"psysml:983a8093-9810-4637-96cc-9ee8fb3d9cf5\" xlink:actuate=\"onRequest\" xlink:href=\"psysml:983a8093-9810-4637-96cc-9ee8fb3d9cf5\" xlink:show=\"new\" xlink:title=\"psysml:983a8093-9810-4637-96cc-9ee8fb3d9cf5\" xlink:type=\"simple\"><rect fill=\"#FFFFFF\" height=\"45.9375\" id=\"E10\" rx=\"10\" ry=\"10\" style=\"stroke: #383838; stroke-width: 1.5;\" width=\"42\" x=\"202\" y=\"134\"/><text fill=\"#000000\" font-family=\"sans-serif\" font-size=\"12\" font-style=\"italic\" lengthAdjust=\"spacingAndGlyphs\" textLength=\"40\" x=\"203\" y=\"150.1387\">«part»</text><text fill=\"#000000\" font-family=\"sans-serif\" font-size=\"12\" lengthAdjust=\"spacingAndGlyphs\" textLength=\"22\" x=\"212\" y=\"164.1074\">y: P</text><line style=\"stroke: #383838; stroke-width: 1.5;\" x1=\"203\" x2=\"243\" y1=\"171.9375\" y2=\"171.9375\"/></a><!--MD5=[05d275557350bfb9b23a4ef7222b4c39]\n",
       "link E3 to E2--><a href=\"psysml:9e57242c-9184-4252-9565-bec20c63fdb8\" target=\"_top\" title=\"psysml:9e57242c-9184-4252-9565-bec20c63fdb8\" xlink:actuate=\"onRequest\" xlink:href=\"psysml:9e57242c-9184-4252-9565-bec20c63fdb8\" xlink:show=\"new\" xlink:title=\"psysml:9e57242c-9184-4252-9565-bec20c63fdb8\" xlink:type=\"simple\"><path d=\"M256.39,231.97 C286.06,226.45 330.5,218.19 365.2,211.73 \" fill=\"none\" id=\"E3-&gt;E2\" style=\"stroke: #383838; stroke-width: 1.0;\"/><polygon fill=\"none\" points=\"364.39,204.76,385.33,207.99,366.95,218.53,364.39,204.76\" style=\"stroke: #383838; stroke-width: 1.0;\"/></a><!--MD5=[15ebcb19ae302d9b601edb458606d402]\n",
       "link E5 to E2--><a href=\"psysml:5cdbdbe7-d14c-45c9-a804-61f18115238e\" target=\"_top\" title=\"psysml:5cdbdbe7-d14c-45c9-a804-61f18115238e\" xlink:actuate=\"onRequest\" xlink:href=\"psysml:5cdbdbe7-d14c-45c9-a804-61f18115238e\" xlink:show=\"new\" xlink:title=\"psysml:5cdbdbe7-d14c-45c9-a804-61f18115238e\" xlink:type=\"simple\"><path d=\"M256.39,97.09 C286.9,116.96 333.03,147 368.13,169.85 \" fill=\"none\" id=\"E5-&gt;E2\" style=\"stroke: #383838; stroke-width: 1.0;\"/><polygon fill=\"none\" points=\"372.39,164.27,385.33,181.05,364.75,176,372.39,164.27\" style=\"stroke: #383838; stroke-width: 1.0;\"/></a><!--MD5=[9120cf2e5df3bff93db8f754bbbc09b4]\n",
       "link E5 to E6--><a href=\"psysml:052c6ce9-d9db-4da6-90c4-ac16555550ac\" target=\"_top\" title=\"psysml:052c6ce9-d9db-4da6-90c4-ac16555550ac\" xlink:actuate=\"onRequest\" xlink:href=\"psysml:052c6ce9-d9db-4da6-90c4-ac16555550ac\" xlink:show=\"new\" xlink:title=\"psysml:052c6ce9-d9db-4da6-90c4-ac16555550ac\" xlink:type=\"simple\"><path d=\"M266.69,77.99 C299.54,79.51 344.62,81.61 376.92,83.11 \" fill=\"none\" id=\"E5-E6\" style=\"stroke: #383838; stroke-width: 1.0;\"/><polygon fill=\"#383838\" points=\"386.92,83.58,379.0704,80.2061,378.7874,86.1994,386.92,83.58\" style=\"stroke: #383838; stroke-width: 1.0;\"/><path d=\"M259.0665,86.1028 A9,9 0 0 0 259.863 69.2071\" fill=\"none\" style=\"stroke: #383838; stroke-width: 1.5;\"/><text fill=\"#000000\" font-family=\"sans-serif\" font-size=\"13\" lengthAdjust=\"spacingAndGlyphs\" textLength=\"60\" x=\"289\" y=\"76.0669\">«variant»</text></a><!--MD5=[14ccda38c055a5c0da953d572bc50960]\n",
       "link E7 to E3--><a href=\"psysml:648145d1-1ec9-42fc-8307-fa8910350658\" target=\"_top\" title=\"psysml:648145d1-1ec9-42fc-8307-fa8910350658\" xlink:actuate=\"onRequest\" xlink:href=\"psysml:648145d1-1ec9-42fc-8307-fa8910350658\" xlink:show=\"new\" xlink:title=\"psysml:648145d1-1ec9-42fc-8307-fa8910350658\" xlink:type=\"simple\"><path d=\"M100.77,238 C118.65,238 145.5,238 169.39,238 \" fill=\"none\" id=\"E7-&gt;E3\" style=\"stroke: #383838; stroke-width: 1.0;\"/><polygon fill=\"#FFFFFF\" points=\"189.74,238,170.74,245,170.74,231,189.74,238\" style=\"stroke: #383838; stroke-width: 1.0;\"/><ellipse cx=\"165.04\" cy=\"243\" fill=\"#383838\" rx=\"2\" ry=\"2\" style=\"stroke: #383838; stroke-width: 1.0;\"/><ellipse cx=\"165.04\" cy=\"233\" fill=\"#383838\" rx=\"2\" ry=\"2\" style=\"stroke: #383838; stroke-width: 1.0;\"/></a><!--MD5=[f1f3f9f2fc535e6147756cb86a7f2e32]\n",
       "link E8 to E2--><a href=\"psysml:19cda0c9-2775-4d9d-8cd8-191c5ad52b34\" target=\"_top\" title=\"psysml:19cda0c9-2775-4d9d-8cd8-191c5ad52b34\" xlink:actuate=\"onRequest\" xlink:href=\"psysml:19cda0c9-2775-4d9d-8cd8-191c5ad52b34\" xlink:show=\"new\" xlink:title=\"psysml:19cda0c9-2775-4d9d-8cd8-191c5ad52b34\" xlink:type=\"simple\"><path d=\"M258.15,304.12 C288.73,284.52 333.94,255.55 368.39,233.47 \" fill=\"none\" id=\"E8-&gt;E2\" style=\"stroke: #383838; stroke-width: 1.0;\"/><polygon fill=\"#FFFFFF\" points=\"385.3,222.63,373.0842,238.7785,365.5272,226.9932,385.3,222.63\" style=\"stroke: #383838; stroke-width: 1.0;\"/><ellipse cx=\"367.2063\" cy=\"240.1717\" fill=\"#383838\" rx=\"2\" ry=\"2\" style=\"stroke: #383838; stroke-width: 1.0;\"/><ellipse cx=\"361.8085\" cy=\"231.7536\" fill=\"#383838\" rx=\"2\" ry=\"2\" style=\"stroke: #383838; stroke-width: 1.0;\"/></a><!--MD5=[ed10624c06dd9a4fa49ccf290e8b16a8]\n",
       "link E8 to E9--><a href=\"psysml:28d39c7a-e0c7-42b0-858e-2cb4e488f108\" target=\"_top\" title=\"psysml:28d39c7a-e0c7-42b0-858e-2cb4e488f108\" xlink:actuate=\"onRequest\" xlink:href=\"psysml:28d39c7a-e0c7-42b0-858e-2cb4e488f108\" xlink:show=\"new\" xlink:title=\"psysml:28d39c7a-e0c7-42b0-858e-2cb4e488f108\" xlink:type=\"simple\"><path d=\"M268.18,324.4 C298.44,323.31 338.55,321.86 369.58,320.73 \" fill=\"none\" id=\"E8-E9\" style=\"stroke: #383838; stroke-width: 1.0;\"/><polygon fill=\"#383838\" points=\"379.72,320.37,371.6142,317.669,371.8369,323.6649,379.72,320.37\" style=\"stroke: #383838; stroke-width: 1.0;\"/><path d=\"M261.5285,333.1018 A9,9 0 0 0 260.9239 316.1981\" fill=\"none\" style=\"stroke: #383838; stroke-width: 1.5;\"/><text fill=\"#000000\" font-family=\"sans-serif\" font-size=\"13\" lengthAdjust=\"spacingAndGlyphs\" textLength=\"60\" x=\"289\" y=\"318.0669\">«variant»</text></a><!--MD5=[0f36bececdf0dff6e600d6f64214b0f1]\n",
       "link E10 to E2--><a href=\"psysml:8cfcd01d-a74f-43be-a680-d41b6ee6accc\" target=\"_top\" title=\"psysml:8cfcd01d-a74f-43be-a680-d41b6ee6accc\" xlink:actuate=\"onRequest\" xlink:href=\"psysml:8cfcd01d-a74f-43be-a680-d41b6ee6accc\" xlink:show=\"new\" xlink:title=\"psysml:8cfcd01d-a74f-43be-a680-d41b6ee6accc\" xlink:type=\"simple\"><path d=\"M244.34,161.73 C272.87,168.36 325.72,180.66 365.56,189.92 \" fill=\"none\" id=\"E10-&gt;E2\" style=\"stroke: #383838; stroke-width: 1.0;\"/><polygon fill=\"#FFFFFF\" points=\"385.28,194.51,365.1886,197.0272,368.3578,183.3907,385.28,194.51\" style=\"stroke: #383838; stroke-width: 1.0;\"/><ellipse cx=\"360.0893\" cy=\"193.7888\" fill=\"#383838\" rx=\"2\" ry=\"2\" style=\"stroke: #383838; stroke-width: 1.0;\"/><ellipse cx=\"362.353\" cy=\"184.0484\" fill=\"#383838\" rx=\"2\" ry=\"2\" style=\"stroke: #383838; stroke-width: 1.0;\"/></a><!--MD5=[f621de47961b74ffd42b472deb94a102]\n",
       "@startuml\r\n",
       "left to right direction\r\n",
       "skinparam monochrome true\r\n",
       "skinparam classbackgroundcolor white\r\n",
       "skinparam shadowing false\r\n",
       "skinparam wrapWidth 300\r\n",
       "hide circle\r\n",
       "\r\n",
       "package \"VariabilityTest\" as E1  [[psysml:c9192910-aa77-45a9-9ae3-16f7deb9d13d ]]  {\r\n",
       "comp def \"P\" as E2  <<(T,blue)part def>> [[psysml:28b4b804-815b-4815-9c5e-e5b09d6ccef7 ]] {\r\n",
       "- - attributes - -\r\n",
       "a\r\n",
       "}\r\n",
       "comp def \"Q\" as E3  <<(T,blue)part def>> [[psysml:3556ece0-f840-441c-8cd2-5d7027a1a805 ]] {\r\n",
       "}\r\n",
       "comp def \"B\" as E4  <<(T,blue)attribute def>> [[psysml:c1ea47d2-f15e-4f05-bf93-ec81669ca641 ]] {\r\n",
       "}\r\n",
       "comp def \"V\" as E5  <<(T,blue)part def>> [[psysml:735cd89a-e4b2-4dc5-b3d6-41534f400f39 ]] {\r\n",
       "}\r\n",
       "comp usage \"x: Q\" as E6  <<(T,blue)part>> [[psysml:0400016e-70f0-4405-a71c-97e49bd60e65 ]] {\r\n",
       "- - attributes - -\r\n",
       "b: B\\n//:>>P::a// \r\n",
       "}\r\n",
       "comp usage \"q: Q\" as E7  <<(T,blue)part>> [[psysml:ac43cc4c-8177-486e-b5a5-e877f62f9bc5 ]] {\r\n",
       "}\r\n",
       "comp usage \"v: P\" as E8  <<variation>>\\n <<(T,blue)part>> [[psysml:ce952eae-8bb1-4ad0-9f02-4c42d4c1d0c7 ]] {\r\n",
       "}\r\n",
       "comp usage \"q\" as E9  <<(T,blue)reference>> [[psysml:572dfe4e-6d7c-4ba8-94a3-d7ce0272bed9 ]] {\r\n",
       "- - attributes - -\r\n",
       "b: B\\n//:>>P::a// \r\n",
       "}\r\n",
       "comp usage \"y: P\" as E10  <<(T,blue)part>> [[psysml:983a8093-9810-4637-96cc-9ee8fb3d9cf5 ]] {\r\n",
       "}\r\n",
       "E3 - -|> E2 [[psysml:9e57242c-9184-4252-9565-bec20c63fdb8 ]] \r\n",
       "E5 - -|> E2 [[psysml:5cdbdbe7-d14c-45c9-a804-61f18115238e ]] \r\n",
       "E5 )- ->> E6 [[psysml:052c6ce9-d9db-4da6-90c4-ac16555550ac ]] : <<variant>>\r\n",
       "E7 - -:|> E3 [[psysml:648145d1-1ec9-42fc-8307-fa8910350658 ]] \r\n",
       "E8 - -:|> E2 [[psysml:19cda0c9-2775-4d9d-8cd8-191c5ad52b34 ]] \r\n",
       "E8 )- ->> E9 [[psysml:28d39c7a-e0c7-42b0-858e-2cb4e488f108 ]] : <<variant>>\r\n",
       "E10 - -:|> E2 [[psysml:8cfcd01d-a74f-43be-a680-d41b6ee6accc ]] \r\n",
       "}\r\n",
       "@enduml\r\n",
       "\n",
       "PlantUML version 1.2020.13(Sat Jun 13 12:26:38 UTC 2020)\n",
       "(EPL source distribution)\n",
       "Java Runtime: OpenJDK Runtime Environment\n",
       "JVM: OpenJDK 64-Bit Server VM\n",
       "Default Encoding: UTF-8\n",
       "Language: en\n",
       "Country: null\n",
       "--></g></svg>"
      ]
     },
     "execution_count": 17,
     "metadata": {},
     "output_type": "execute_result"
    }
   ],
   "source": [
    "%viz --style=\"LR\" --view=\"Tree\" \"VariabilityTest\""
   ]
  },
  {
   "cell_type": "code",
   "execution_count": 18,
   "id": "cd34765a",
   "metadata": {
    "execution": {
     "iopub.execute_input": "2021-05-28T10:47:55.467132Z",
     "iopub.status.busy": "2021-05-28T10:47:55.466451Z",
     "iopub.status.idle": "2021-05-28T10:47:55.471716Z",
     "shell.execute_reply": "2021-05-28T10:47:55.471387Z"
    }
   },
   "outputs": [
    {
     "data": {
      "image/svg+xml": [
       "<?xml version=\"1.0\" encoding=\"UTF-8\" standalone=\"no\"?><svg xmlns=\"http://www.w3.org/2000/svg\" xmlns:xlink=\"http://www.w3.org/1999/xlink\" contentScriptType=\"application/ecmascript\" contentStyleType=\"text/css\" height=\"12px\" preserveAspectRatio=\"none\" style=\"width:12px;height:12px;\" version=\"1.1\" viewBox=\"0 0 12 12\" width=\"12px\" zoomAndPan=\"magnify\"><defs/><g><!--MD5=[19d285c9d72a204eba4e2cd117d745e8]\n",
       "@startuml\r\n",
       "left to right direction\r\n",
       "skinparam monochrome true\r\n",
       "skinparam classbackgroundcolor white\r\n",
       "skinparam shadowing false\r\n",
       "skinparam wrapWidth 300\r\n",
       "hide circle\r\n",
       "\r\n",
       "@enduml\r\n",
       "\n",
       "PlantUML version 1.2020.13(Sat Jun 13 12:26:38 UTC 2020)\n",
       "(EPL source distribution)\n",
       "Java Runtime: OpenJDK Runtime Environment\n",
       "JVM: OpenJDK 64-Bit Server VM\n",
       "Default Encoding: UTF-8\n",
       "Language: en\n",
       "Country: null\n",
       "--></g></svg>"
      ]
     },
     "execution_count": 18,
     "metadata": {},
     "output_type": "execute_result"
    }
   ],
   "source": [
    "%viz --style=\"LR\" --view=\"State\" \"VariabilityTest\""
   ]
  },
  {
   "cell_type": "code",
   "execution_count": 19,
   "id": "087fe8b9",
   "metadata": {
    "execution": {
     "iopub.execute_input": "2021-05-28T10:47:55.523616Z",
     "iopub.status.busy": "2021-05-28T10:47:55.523092Z",
     "iopub.status.idle": "2021-05-28T10:47:55.593599Z",
     "shell.execute_reply": "2021-05-28T10:47:55.592220Z"
    }
   },
   "outputs": [
    {
     "data": {
      "image/svg+xml": [
       "<?xml version=\"1.0\" encoding=\"UTF-8\" standalone=\"no\"?><svg xmlns=\"http://www.w3.org/2000/svg\" xmlns:xlink=\"http://www.w3.org/1999/xlink\" contentScriptType=\"application/ecmascript\" contentStyleType=\"text/css\" height=\"739px\" preserveAspectRatio=\"none\" style=\"width:372px;height:739px;\" version=\"1.1\" viewBox=\"0 0 372 739\" width=\"372px\" zoomAndPan=\"magnify\"><defs/><g><!--MD5=[fbc87193dbaf4d95561dea2c320d4a47]\n",
       "cluster E1--><a href=\"psysml:c9192910-aa77-45a9-9ae3-16f7deb9d13d\" target=\"_top\" title=\"psysml:c9192910-aa77-45a9-9ae3-16f7deb9d13d\" xlink:actuate=\"onRequest\" xlink:href=\"psysml:c9192910-aa77-45a9-9ae3-16f7deb9d13d\" xlink:show=\"new\" xlink:title=\"psysml:c9192910-aa77-45a9-9ae3-16f7deb9d13d\" xlink:type=\"simple\"><polygon fill=\"#FFFFFF\" points=\"16,6,134,6,141,28.2969,350,28.2969,350,727,16,727,16,6\" style=\"stroke: #000000; stroke-width: 1.5;\"/><line style=\"stroke: #000000; stroke-width: 1.5;\" x1=\"16\" x2=\"141\" y1=\"28.2969\" y2=\"28.2969\"/><text fill=\"#000000\" font-family=\"sans-serif\" font-size=\"14\" font-weight=\"bold\" lengthAdjust=\"spacingAndGlyphs\" textLength=\"112\" x=\"20\" y=\"20.9951\">VariabilityTest</text></a><!--MD5=[e4f7fae6ed58524ba242bb0b0d3be6b7]\n",
       "cluster E2--><a href=\"psysml:28b4b804-815b-4815-9c5e-e5b09d6ccef7\" target=\"_top\" title=\"psysml:28b4b804-815b-4815-9c5e-e5b09d6ccef7\" xlink:actuate=\"onRequest\" xlink:href=\"psysml:28b4b804-815b-4815-9c5e-e5b09d6ccef7\" xlink:show=\"new\" xlink:title=\"psysml:28b4b804-815b-4815-9c5e-e5b09d6ccef7\" xlink:type=\"simple\"><rect fill=\"#FFFFFF\" height=\"148\" id=\"E2\" style=\"stroke: #383838; stroke-width: 1.5;\" width=\"119\" x=\"199\" y=\"242\"/><rect fill=\"#F8F8F8\" height=\"37.9375\" style=\"stroke: #383838; stroke-width: 1.5;\" width=\"119\" x=\"199\" y=\"242\"/><text fill=\"#000000\" font-family=\"sans-serif\" font-size=\"12\" font-style=\"italic\" lengthAdjust=\"spacingAndGlyphs\" textLength=\"64\" x=\"226.5\" y=\"258.1387\">«part def»</text><text fill=\"#000000\" font-family=\"sans-serif\" font-size=\"12\" lengthAdjust=\"spacingAndGlyphs\" textLength=\"8\" x=\"254.5\" y=\"272.1074\">P</text></a><!--MD5=[14e3b0961a2654348d326746436168a1]\n",
       "cluster E6--><a href=\"psysml:735cd89a-e4b2-4dc5-b3d6-41534f400f39\" target=\"_top\" title=\"psysml:735cd89a-e4b2-4dc5-b3d6-41534f400f39\" xlink:actuate=\"onRequest\" xlink:href=\"psysml:735cd89a-e4b2-4dc5-b3d6-41534f400f39\" xlink:show=\"new\" xlink:title=\"psysml:735cd89a-e4b2-4dc5-b3d6-41534f400f39\" xlink:type=\"simple\"><rect fill=\"#FFFFFF\" height=\"176\" id=\"E6\" style=\"stroke: #383838; stroke-width: 1.5;\" width=\"111\" x=\"48\" y=\"57\"/><rect fill=\"#F8F8F8\" height=\"37.9375\" style=\"stroke: #383838; stroke-width: 1.5;\" width=\"111\" x=\"48\" y=\"57\"/><text fill=\"#000000\" font-family=\"sans-serif\" font-size=\"12\" font-style=\"italic\" lengthAdjust=\"spacingAndGlyphs\" textLength=\"64\" x=\"71.5\" y=\"73.1387\">«part def»</text><text fill=\"#000000\" font-family=\"sans-serif\" font-size=\"12\" lengthAdjust=\"spacingAndGlyphs\" textLength=\"8\" x=\"99.5\" y=\"87.1074\">V</text></a><!--MD5=[7f149f147074ac12df2cb0a7728a5fb0]\n",
       "cluster E9--><a href=\"psysml:ce952eae-8bb1-4ad0-9f02-4c42d4c1d0c7\" target=\"_top\" title=\"psysml:ce952eae-8bb1-4ad0-9f02-4c42d4c1d0c7\" xlink:actuate=\"onRequest\" xlink:href=\"psysml:ce952eae-8bb1-4ad0-9f02-4c42d4c1d0c7\" xlink:show=\"new\" xlink:title=\"psysml:ce952eae-8bb1-4ad0-9f02-4c42d4c1d0c7\" xlink:type=\"simple\"><rect fill=\"#FFFFFF\" height=\"155\" id=\"E9\" rx=\"10\" ry=\"10\" style=\"stroke: #383838; stroke-width: 1.5;\" width=\"109\" x=\"49\" y=\"265\"/><rect fill=\"#F8F8F8\" height=\"37.9375\" rx=\"10\" ry=\"10\" style=\"stroke: #F8F8F8; stroke-width: 1.5;\" width=\"109\" x=\"49\" y=\"265\"/><rect fill=\"#F8F8F8\" height=\"10\" style=\"stroke: #F8F8F8; stroke-width: 1.5;\" width=\"109\" x=\"49\" y=\"292.9375\"/><rect fill=\"none\" height=\"155\" id=\"E9\" rx=\"10\" ry=\"10\" style=\"stroke: #383838; stroke-width: 1.5;\" width=\"109\" x=\"49\" y=\"265\"/><text fill=\"#000000\" font-family=\"sans-serif\" font-size=\"12\" font-style=\"italic\" lengthAdjust=\"spacingAndGlyphs\" textLength=\"68\" x=\"69.5\" y=\"281.1387\">«variation»</text><text fill=\"#000000\" font-family=\"sans-serif\" font-size=\"12\" lengthAdjust=\"spacingAndGlyphs\" textLength=\"22\" x=\"92.5\" y=\"295.1074\">v: P</text><line style=\"stroke: #383838; stroke-width: 1.0;\" x1=\"49\" x2=\"158\" y1=\"302.9375\" y2=\"302.9375\"/></a><g id=\"E1.E5\"><a href=\"psysml:c1ea47d2-f15e-4f05-bf93-ec81669ca641\" target=\"_top\" title=\"psysml:c1ea47d2-f15e-4f05-bf93-ec81669ca641\" xlink:actuate=\"onRequest\" xlink:href=\"psysml:c1ea47d2-f15e-4f05-bf93-ec81669ca641\" xlink:show=\"new\" xlink:title=\"psysml:c1ea47d2-f15e-4f05-bf93-ec81669ca641\" xlink:type=\"simple\"><rect fill=\"#FFFFFF\" height=\"42.9375\" id=\"E5\" style=\"stroke: #383838; stroke-width: 1.5;\" width=\"100\" x=\"53.5\" y=\"439.5\"/><rect fill=\"#F8F8F8\" height=\"37.9375\" style=\"stroke: #383838; stroke-width: 1.5;\" width=\"100\" x=\"53.5\" y=\"439.5\"/><text fill=\"#000000\" font-family=\"sans-serif\" font-size=\"12\" font-style=\"italic\" lengthAdjust=\"spacingAndGlyphs\" textLength=\"93\" x=\"57\" y=\"455.6387\">«attribute def»</text><text fill=\"#000000\" font-family=\"sans-serif\" font-size=\"12\" lengthAdjust=\"spacingAndGlyphs\" textLength=\"8\" x=\"99.5\" y=\"469.6074\">B</text></a></g><!--MD5=[09b614a08d8cba4a07c9adeb5e0fee81]\n",
       "class E3--><a href=\"psysml:29e7d07c-e0ef-43b2-a175-0967043bb668\" target=\"_top\" title=\"psysml:29e7d07c-e0ef-43b2-a175-0967043bb668\" xlink:actuate=\"onRequest\" xlink:href=\"psysml:29e7d07c-e0ef-43b2-a175-0967043bb668\" xlink:show=\"new\" xlink:title=\"psysml:29e7d07c-e0ef-43b2-a175-0967043bb668\" xlink:type=\"simple\"><rect fill=\"#FFFFFF\" height=\"45.9375\" id=\"E3\" rx=\"10\" ry=\"10\" style=\"stroke: #383838; stroke-width: 1.5;\" width=\"71\" x=\"223\" y=\"301\"/><text fill=\"#000000\" font-family=\"sans-serif\" font-size=\"12\" font-style=\"italic\" lengthAdjust=\"spacingAndGlyphs\" textLength=\"69\" x=\"224\" y=\"317.1387\">«attribute»</text><text fill=\"#000000\" font-family=\"sans-serif\" font-size=\"12\" lengthAdjust=\"spacingAndGlyphs\" textLength=\"8\" x=\"254.5\" y=\"331.1074\">a</text><line style=\"stroke: #383838; stroke-width: 1.5;\" x1=\"224\" x2=\"293\" y1=\"338.9375\" y2=\"338.9375\"/></a><g id=\"E1.E4\"><a href=\"psysml:3556ece0-f840-441c-8cd2-5d7027a1a805\" target=\"_top\" title=\"psysml:3556ece0-f840-441c-8cd2-5d7027a1a805\" xlink:actuate=\"onRequest\" xlink:href=\"psysml:3556ece0-f840-441c-8cd2-5d7027a1a805\" xlink:show=\"new\" xlink:title=\"psysml:3556ece0-f840-441c-8cd2-5d7027a1a805\" xlink:type=\"simple\"><rect fill=\"#FFFFFF\" height=\"42.9375\" id=\"E4\" style=\"stroke: #383838; stroke-width: 1.5;\" width=\"71\" x=\"68\" y=\"517.5\"/><rect fill=\"#F8F8F8\" height=\"37.9375\" style=\"stroke: #383838; stroke-width: 1.5;\" width=\"71\" x=\"68\" y=\"517.5\"/><text fill=\"#000000\" font-family=\"sans-serif\" font-size=\"12\" font-style=\"italic\" lengthAdjust=\"spacingAndGlyphs\" textLength=\"64\" x=\"71.5\" y=\"533.6387\">«part def»</text><text fill=\"#000000\" font-family=\"sans-serif\" font-size=\"12\" lengthAdjust=\"spacingAndGlyphs\" textLength=\"9\" x=\"99\" y=\"547.6074\">Q</text></a></g><!--MD5=[2156ba9850f5573cc1fc38a6a4b2f02b]\n",
       "class E7--><a href=\"psysml:0400016e-70f0-4405-a71c-97e49bd60e65\" target=\"_top\" title=\"psysml:0400016e-70f0-4405-a71c-97e49bd60e65\" xlink:actuate=\"onRequest\" xlink:href=\"psysml:0400016e-70f0-4405-a71c-97e49bd60e65\" xlink:show=\"new\" xlink:title=\"psysml:0400016e-70f0-4405-a71c-97e49bd60e65\" xlink:type=\"simple\"><rect fill=\"#FFFFFF\" height=\"74.3828\" id=\"E7\" rx=\"10\" ry=\"10\" style=\"stroke: #383838; stroke-width: 1.5;\" width=\"63\" x=\"72\" y=\"116\"/><text fill=\"#000000\" font-family=\"sans-serif\" font-size=\"12\" lengthAdjust=\"spacingAndGlyphs\" textLength=\"23\" x=\"92\" y=\"132.1387\">x: Q</text><line style=\"stroke: #383838; stroke-width: 1.5;\" x1=\"73\" x2=\"134\" y1=\"139.9688\" y2=\"139.9688\"/><text fill=\"#000000\" font-family=\"sans-serif\" font-size=\"11\" lengthAdjust=\"spacingAndGlyphs\" textLength=\"23\" x=\"78\" y=\"170.9839\">b: B</text><text fill=\"#000000\" font-family=\"sans-serif\" font-size=\"11\" font-style=\"italic\" lengthAdjust=\"spacingAndGlyphs\" textLength=\"44\" x=\"78\" y=\"183.7886\">:&gt;&gt;P::a</text><line style=\"stroke: #383838; stroke-width: 1.0;\" x1=\"73\" x2=\"76\" y1=\"154.3711\" y2=\"154.3711\"/><text fill=\"#000000\" font-family=\"sans-serif\" font-size=\"11\" lengthAdjust=\"spacingAndGlyphs\" textLength=\"55\" x=\"76\" y=\"157.6792\">attributes</text><line style=\"stroke: #383838; stroke-width: 1.0;\" x1=\"131\" x2=\"134\" y1=\"154.3711\" y2=\"154.3711\"/></a><g id=\"E1.E8\"><a href=\"psysml:ac43cc4c-8177-486e-b5a5-e877f62f9bc5\" target=\"_top\" title=\"psysml:ac43cc4c-8177-486e-b5a5-e877f62f9bc5\" xlink:actuate=\"onRequest\" xlink:href=\"psysml:ac43cc4c-8177-486e-b5a5-e877f62f9bc5\" xlink:show=\"new\" xlink:title=\"psysml:ac43cc4c-8177-486e-b5a5-e877f62f9bc5\" xlink:type=\"simple\"><rect fill=\"#FFFFFF\" height=\"40\" id=\"E8\" rx=\"10\" ry=\"10\" style=\"stroke: #383838; stroke-width: 1.5;\" width=\"50\" x=\"78.5\" y=\"596\"/><rect fill=\"#F8F8F8\" height=\"23.9688\" rx=\"10\" ry=\"10\" style=\"stroke: #F8F8F8; stroke-width: 1.5;\" width=\"50\" x=\"78.5\" y=\"596\"/><rect fill=\"#F8F8F8\" height=\"10\" style=\"stroke: #F8F8F8; stroke-width: 1.5;\" width=\"50\" x=\"78.5\" y=\"609.9688\"/><rect fill=\"none\" height=\"40\" id=\"E8\" rx=\"10\" ry=\"10\" style=\"stroke: #383838; stroke-width: 1.5;\" width=\"50\" x=\"78.5\" y=\"596\"/><text fill=\"#000000\" font-family=\"sans-serif\" font-size=\"12\" lengthAdjust=\"spacingAndGlyphs\" textLength=\"25\" x=\"91\" y=\"612.1387\">q: Q</text></a></g><!--MD5=[96f4274e9e20536e775497830990834d]\n",
       "class E10--><a href=\"psysml:572dfe4e-6d7c-4ba8-94a3-d7ce0272bed9\" target=\"_top\" title=\"psysml:572dfe4e-6d7c-4ba8-94a3-d7ce0272bed9\" xlink:actuate=\"onRequest\" xlink:href=\"psysml:572dfe4e-6d7c-4ba8-94a3-d7ce0272bed9\" xlink:show=\"new\" xlink:title=\"psysml:572dfe4e-6d7c-4ba8-94a3-d7ce0272bed9\" xlink:type=\"simple\"><rect fill=\"#FFFFFF\" height=\"88.3516\" id=\"E10\" rx=\"10\" ry=\"10\" style=\"stroke: #383838; stroke-width: 1.5;\" width=\"77\" x=\"65\" y=\"316\"/><text fill=\"#000000\" font-family=\"sans-serif\" font-size=\"12\" font-style=\"italic\" lengthAdjust=\"spacingAndGlyphs\" textLength=\"75\" x=\"66\" y=\"332.1387\">«reference»</text><text fill=\"#000000\" font-family=\"sans-serif\" font-size=\"12\" lengthAdjust=\"spacingAndGlyphs\" textLength=\"8\" x=\"99.5\" y=\"346.1074\">q</text><line style=\"stroke: #383838; stroke-width: 1.5;\" x1=\"66\" x2=\"141\" y1=\"353.9375\" y2=\"353.9375\"/><text fill=\"#000000\" font-family=\"sans-serif\" font-size=\"11\" lengthAdjust=\"spacingAndGlyphs\" textLength=\"23\" x=\"71\" y=\"384.9526\">b: B</text><text fill=\"#000000\" font-family=\"sans-serif\" font-size=\"11\" font-style=\"italic\" lengthAdjust=\"spacingAndGlyphs\" textLength=\"44\" x=\"71\" y=\"397.7573\">:&gt;&gt;P::a</text><line style=\"stroke: #383838; stroke-width: 1.0;\" x1=\"66\" x2=\"76\" y1=\"368.3398\" y2=\"368.3398\"/><text fill=\"#000000\" font-family=\"sans-serif\" font-size=\"11\" lengthAdjust=\"spacingAndGlyphs\" textLength=\"55\" x=\"76\" y=\"371.6479\">attributes</text><line style=\"stroke: #383838; stroke-width: 1.0;\" x1=\"131\" x2=\"141\" y1=\"368.3398\" y2=\"368.3398\"/></a><g id=\"E1.E11\"><a href=\"psysml:983a8093-9810-4637-96cc-9ee8fb3d9cf5\" target=\"_top\" title=\"psysml:983a8093-9810-4637-96cc-9ee8fb3d9cf5\" xlink:actuate=\"onRequest\" xlink:href=\"psysml:983a8093-9810-4637-96cc-9ee8fb3d9cf5\" xlink:show=\"new\" xlink:title=\"psysml:983a8093-9810-4637-96cc-9ee8fb3d9cf5\" xlink:type=\"simple\"><rect fill=\"#FFFFFF\" height=\"40\" id=\"E11\" rx=\"10\" ry=\"10\" style=\"stroke: #383838; stroke-width: 1.5;\" width=\"73\" x=\"67\" y=\"671\"/><rect fill=\"#F8F8F8\" height=\"23.9688\" rx=\"10\" ry=\"10\" style=\"stroke: #F8F8F8; stroke-width: 1.5;\" width=\"73\" x=\"67\" y=\"671\"/><rect fill=\"#F8F8F8\" height=\"10\" style=\"stroke: #F8F8F8; stroke-width: 1.5;\" width=\"73\" x=\"67\" y=\"684.9688\"/><rect fill=\"none\" height=\"40\" id=\"E11\" rx=\"10\" ry=\"10\" style=\"stroke: #383838; stroke-width: 1.5;\" width=\"73\" x=\"67\" y=\"671\"/><text fill=\"#000000\" font-family=\"sans-serif\" font-size=\"12\" lengthAdjust=\"spacingAndGlyphs\" textLength=\"58\" x=\"72.5\" y=\"687.1387\">y: P=v::q;</text></a></g><!--MD5=[185131fc0dcab0a4505a2ebe144e961b]\n",
       "link E4 to E2--><a href=\"psysml:9e57242c-9184-4252-9565-bec20c63fdb8\" target=\"_top\" title=\"psysml:9e57242c-9184-4252-9565-bec20c63fdb8\" xlink:actuate=\"onRequest\" xlink:href=\"psysml:9e57242c-9184-4252-9565-bec20c63fdb8\" xlink:show=\"new\" xlink:title=\"psysml:9e57242c-9184-4252-9565-bec20c63fdb8\" xlink:type=\"simple\"><path d=\"M139.19,523.82 C151.31,517.52 164.5,509.45 175,500 C198.405,478.925 218.755,450.01 233.3875,426.0775 C240.7037,414.1113 246.5906,403.3906 250.7153,395.5184 C251.7465,393.5504 252.6675,391.7604 253.4732,390.1734 \" fill=\"none\" id=\"E4-&gt;E2\" style=\"stroke: #383838; stroke-width: 1.0;\"/><polygon fill=\"#FFFFFF\" points=\"253.4732,390.1734,238.6303,403.9461,251.1136,410.2839,253.4732,390.1734\" style=\"stroke: #383838; stroke-width: 1.0;\"/></a><!--MD5=[2351f337d6de0f557b50152ba70847b5]\n",
       "link E6 to E2--><a href=\"psysml:5cdbdbe7-d14c-45c9-a804-61f18115238e\" target=\"_top\" title=\"psysml:5cdbdbe7-d14c-45c9-a804-61f18115238e\" xlink:actuate=\"onRequest\" xlink:href=\"psysml:5cdbdbe7-d14c-45c9-a804-61f18115238e\" xlink:show=\"new\" xlink:title=\"psysml:5cdbdbe7-d14c-45c9-a804-61f18115238e\" xlink:type=\"simple\"><path d=\"M115.7782,233.1747 C115.952,233.3082 116.1274,233.4432 116.3043,233.5797 C117.0117,234.1257 117.7429,234.6953 118.4956,235.2877 C120.0009,236.4726 121.5922,237.7492 123.2512,239.1115 C126.5691,241.8362 130.1575,244.9044 133.87,248.27 C148.72,261.7325 165.555,279.955 175,300 C187.03,325.53 164.31,341.85 183,363 C185.74,366.1013 188.9089,368.73 192.3627,370.9552 C194.0895,372.0678 195.8876,373.0795 197.7389,373.999 C197.9703,374.1139 198.2026,374.2274 198.4356,374.3395 C198.5521,374.3955 198.6688,374.4512 198.7857,374.5065 \" fill=\"none\" id=\"E6-&gt;E2\" style=\"stroke: #383838; stroke-width: 1.0;\"/><polygon fill=\"#FFFFFF\" points=\"198.7857,374.5065,184.6056,360.0524,178.6174,372.7071,198.7857,374.5065\" style=\"stroke: #383838; stroke-width: 1.0;\"/></a><!--MD5=[0df7d2dd5bef25386bd67ab5140d1478]\n",
       "@startuml\r\n",
       "skinparam ranksep 10\r\n",
       "skinparam rectangle {\r\n",
       " backgroundColor<<block>> LightGreen\r\n",
       "}\r\n",
       "left to right direction\r\n",
       "skinparam monochrome true\r\n",
       "skinparam classbackgroundcolor white\r\n",
       "skinparam shadowing false\r\n",
       "skinparam wrapWidth 300\r\n",
       "hide circle\r\n",
       "\r\n",
       "package \"VariabilityTest\" as E1  [[psysml:c9192910-aa77-45a9-9ae3-16f7deb9d13d ]]  {\r\n",
       "rec def \"P\" as E2  <<(T,blue)part def>> [[psysml:28b4b804-815b-4815-9c5e-e5b09d6ccef7 ]] {\r\n",
       "comp usage \"a\" as E3  <<(T,blue)attribute>> [[psysml:29e7d07c-e0ef-43b2-a175-0967043bb668 ]] {\r\n",
       "}\r\n",
       "}\r\n",
       "rec def \"Q\" as E4  <<(T,blue)part def>> [[psysml:3556ece0-f840-441c-8cd2-5d7027a1a805 ]] {\r\n",
       "}\r\n",
       "def \"B\" as E5  <<(T,blue)attribute def>> [[psysml:c1ea47d2-f15e-4f05-bf93-ec81669ca641 ]] \r\n",
       "rec def \"V\" as E6  <<(T,blue)part def>> [[psysml:735cd89a-e4b2-4dc5-b3d6-41534f400f39 ]] {\r\n",
       "comp usage \"x: Q\" as E7  [[psysml:0400016e-70f0-4405-a71c-97e49bd60e65 ]] {\r\n",
       "- - attributes - -\r\n",
       "b: B\\n//:>>P::a// \r\n",
       "}\r\n",
       "}\r\n",
       "rec usage \"q: Q\" as E8  [[psysml:ac43cc4c-8177-486e-b5a5-e877f62f9bc5 ]] {\r\n",
       "}\r\n",
       "rec usage \"v: P\" as E9  <<variation>> [[psysml:ce952eae-8bb1-4ad0-9f02-4c42d4c1d0c7 ]] {\r\n",
       "comp usage \"q\" as E10  <<(T,blue)reference>> [[psysml:572dfe4e-6d7c-4ba8-94a3-d7ce0272bed9 ]] {\r\n",
       "- - attributes - -\r\n",
       "b: B\\n//:>>P::a// \r\n",
       "}\r\n",
       "}\r\n",
       "rec usage \"y: P=v::q; \" as E11  [[psysml:983a8093-9810-4637-96cc-9ee8fb3d9cf5 ]] {\r\n",
       "}\r\n",
       "E4 - -|> E2 [[psysml:9e57242c-9184-4252-9565-bec20c63fdb8 ]] \r\n",
       "E6 - -|> E2 [[psysml:5cdbdbe7-d14c-45c9-a804-61f18115238e ]] \r\n",
       "}\r\n",
       "@enduml\r\n",
       "\n",
       "PlantUML version 1.2020.13(Sat Jun 13 12:26:38 UTC 2020)\n",
       "(EPL source distribution)\n",
       "Java Runtime: OpenJDK Runtime Environment\n",
       "JVM: OpenJDK 64-Bit Server VM\n",
       "Default Encoding: UTF-8\n",
       "Language: en\n",
       "Country: null\n",
       "--></g></svg>"
      ]
     },
     "execution_count": 19,
     "metadata": {},
     "output_type": "execute_result"
    }
   ],
   "source": [
    "%viz --style=\"LR\" --view=\"Interconnection\" \"VariabilityTest\""
   ]
  },
  {
   "cell_type": "code",
   "execution_count": 20,
   "id": "55e70f4c",
   "metadata": {
    "execution": {
     "iopub.execute_input": "2021-05-28T10:47:55.644611Z",
     "iopub.status.busy": "2021-05-28T10:47:55.643844Z",
     "iopub.status.idle": "2021-05-28T10:47:55.650013Z",
     "shell.execute_reply": "2021-05-28T10:47:55.650279Z"
    }
   },
   "outputs": [
    {
     "data": {
      "image/svg+xml": [
       "<?xml version=\"1.0\" encoding=\"UTF-8\" standalone=\"no\"?><svg xmlns=\"http://www.w3.org/2000/svg\" xmlns:xlink=\"http://www.w3.org/1999/xlink\" contentScriptType=\"application/ecmascript\" contentStyleType=\"text/css\" height=\"12px\" preserveAspectRatio=\"none\" style=\"width:12px;height:12px;\" version=\"1.1\" viewBox=\"0 0 12 12\" width=\"12px\" zoomAndPan=\"magnify\"><defs/><g><!--MD5=[7aeb398939421629f6affaa4a1a7b125]\n",
       "@startuml\r\n",
       "skinparam ranksep 8\r\n",
       "left to right direction\r\n",
       "skinparam monochrome true\r\n",
       "skinparam classbackgroundcolor white\r\n",
       "skinparam shadowing false\r\n",
       "skinparam wrapWidth 300\r\n",
       "hide circle\r\n",
       "\r\n",
       "@enduml\r\n",
       "\n",
       "PlantUML version 1.2020.13(Sat Jun 13 12:26:38 UTC 2020)\n",
       "(EPL source distribution)\n",
       "Java Runtime: OpenJDK Runtime Environment\n",
       "JVM: OpenJDK 64-Bit Server VM\n",
       "Default Encoding: UTF-8\n",
       "Language: en\n",
       "Country: null\n",
       "--></g></svg>"
      ]
     },
     "execution_count": 20,
     "metadata": {},
     "output_type": "execute_result"
    }
   ],
   "source": [
    "%viz --style=\"LR\" --view=\"Action\" \"VariabilityTest\""
   ]
  },
  {
   "cell_type": "code",
   "execution_count": 21,
   "id": "8262311e",
   "metadata": {
    "execution": {
     "iopub.execute_input": "2021-05-28T10:47:55.701794Z",
     "iopub.status.busy": "2021-05-28T10:47:55.701002Z",
     "iopub.status.idle": "2021-05-28T10:47:55.772179Z",
     "shell.execute_reply": "2021-05-28T10:47:55.770784Z"
    }
   },
   "outputs": [
    {
     "data": {
      "image/svg+xml": [
       "<?xml version=\"1.0\" encoding=\"UTF-8\" standalone=\"no\"?><svg xmlns=\"http://www.w3.org/2000/svg\" xmlns:xlink=\"http://www.w3.org/1999/xlink\" contentScriptType=\"application/ecmascript\" contentStyleType=\"text/css\" height=\"391px\" preserveAspectRatio=\"none\" style=\"width:495px;height:391px;\" version=\"1.1\" viewBox=\"0 0 495 391\" width=\"495px\" zoomAndPan=\"magnify\"><defs/><g><!--MD5=[fbc87193dbaf4d95561dea2c320d4a47]\n",
       "cluster E1--><a href=\"psysml:c9192910-aa77-45a9-9ae3-16f7deb9d13d\" target=\"_top\" title=\"psysml:c9192910-aa77-45a9-9ae3-16f7deb9d13d\" xlink:actuate=\"onRequest\" xlink:href=\"psysml:c9192910-aa77-45a9-9ae3-16f7deb9d13d\" xlink:show=\"new\" xlink:title=\"psysml:c9192910-aa77-45a9-9ae3-16f7deb9d13d\" xlink:type=\"simple\"><polygon fill=\"#FFFFFF\" points=\"16,6,134,6,141,28.2969,473,28.2969,473,379,16,379,16,6\" style=\"stroke: #000000; stroke-width: 1.5;\"/><line style=\"stroke: #000000; stroke-width: 1.5;\" x1=\"16\" x2=\"141\" y1=\"28.2969\" y2=\"28.2969\"/><text fill=\"#000000\" font-family=\"sans-serif\" font-size=\"14\" font-weight=\"bold\" lengthAdjust=\"spacingAndGlyphs\" textLength=\"112\" x=\"20\" y=\"20.9951\">VariabilityTest</text></a><!--MD5=[b4997ac47864f28c2f74865a473b2911]\n",
       "class E2--><a href=\"psysml:28b4b804-815b-4815-9c5e-e5b09d6ccef7\" target=\"_top\" title=\"psysml:28b4b804-815b-4815-9c5e-e5b09d6ccef7\" xlink:actuate=\"onRequest\" xlink:href=\"psysml:28b4b804-815b-4815-9c5e-e5b09d6ccef7\" xlink:show=\"new\" xlink:title=\"psysml:28b4b804-815b-4815-9c5e-e5b09d6ccef7\" xlink:type=\"simple\"><rect fill=\"#FFFFFF\" height=\"75.5469\" id=\"E2\" style=\"stroke: #383838; stroke-width: 1.5;\" width=\"66\" x=\"385.5\" y=\"164\"/><text fill=\"#000000\" font-family=\"sans-serif\" font-size=\"12\" font-style=\"italic\" lengthAdjust=\"spacingAndGlyphs\" textLength=\"64\" x=\"386.5\" y=\"180.1387\">«part def»</text><text fill=\"#000000\" font-family=\"sans-serif\" font-size=\"12\" lengthAdjust=\"spacingAndGlyphs\" textLength=\"8\" x=\"414.5\" y=\"194.1074\">P</text><line style=\"stroke: #383838; stroke-width: 1.5;\" x1=\"386.5\" x2=\"450.5\" y1=\"201.9375\" y2=\"201.9375\"/><text fill=\"#000000\" font-family=\"sans-serif\" font-size=\"11\" lengthAdjust=\"spacingAndGlyphs\" textLength=\"7\" x=\"391.5\" y=\"232.9526\">a</text><line style=\"stroke: #383838; stroke-width: 1.0;\" x1=\"386.5\" x2=\"391\" y1=\"216.3398\" y2=\"216.3398\"/><text fill=\"#000000\" font-family=\"sans-serif\" font-size=\"11\" lengthAdjust=\"spacingAndGlyphs\" textLength=\"55\" x=\"391\" y=\"219.6479\">attributes</text><line style=\"stroke: #383838; stroke-width: 1.0;\" x1=\"446\" x2=\"450.5\" y1=\"216.3398\" y2=\"216.3398\"/></a><!--MD5=[09b614a08d8cba4a07c9adeb5e0fee81]\n",
       "class E3--><a href=\"psysml:3556ece0-f840-441c-8cd2-5d7027a1a805\" target=\"_top\" title=\"psysml:3556ece0-f840-441c-8cd2-5d7027a1a805\" xlink:actuate=\"onRequest\" xlink:href=\"psysml:3556ece0-f840-441c-8cd2-5d7027a1a805\" xlink:show=\"new\" xlink:title=\"psysml:3556ece0-f840-441c-8cd2-5d7027a1a805\" xlink:type=\"simple\"><rect fill=\"#FFFFFF\" height=\"45.9375\" id=\"E3\" style=\"stroke: #383838; stroke-width: 1.5;\" width=\"66\" x=\"190\" y=\"215\"/><text fill=\"#000000\" font-family=\"sans-serif\" font-size=\"12\" font-style=\"italic\" lengthAdjust=\"spacingAndGlyphs\" textLength=\"64\" x=\"191\" y=\"231.1387\">«part def»</text><text fill=\"#000000\" font-family=\"sans-serif\" font-size=\"12\" lengthAdjust=\"spacingAndGlyphs\" textLength=\"9\" x=\"218.5\" y=\"245.1074\">Q</text><line style=\"stroke: #383838; stroke-width: 1.5;\" x1=\"191\" x2=\"255\" y1=\"252.9375\" y2=\"252.9375\"/></a><!--MD5=[ebbe1d658d1005bcc118a6aa81145e00]\n",
       "class E4--><a href=\"psysml:c1ea47d2-f15e-4f05-bf93-ec81669ca641\" target=\"_top\" title=\"psysml:c1ea47d2-f15e-4f05-bf93-ec81669ca641\" xlink:actuate=\"onRequest\" xlink:href=\"psysml:c1ea47d2-f15e-4f05-bf93-ec81669ca641\" xlink:show=\"new\" xlink:title=\"psysml:c1ea47d2-f15e-4f05-bf93-ec81669ca641\" xlink:type=\"simple\"><rect fill=\"#FFFFFF\" height=\"45.9375\" id=\"E4\" style=\"stroke: #383838; stroke-width: 1.5;\" width=\"95\" x=\"32\" y=\"84\"/><text fill=\"#000000\" font-family=\"sans-serif\" font-size=\"12\" font-style=\"italic\" lengthAdjust=\"spacingAndGlyphs\" textLength=\"93\" x=\"33\" y=\"100.1387\">«attribute def»</text><text fill=\"#000000\" font-family=\"sans-serif\" font-size=\"12\" lengthAdjust=\"spacingAndGlyphs\" textLength=\"8\" x=\"75.5\" y=\"114.1074\">B</text><line style=\"stroke: #383838; stroke-width: 1.5;\" x1=\"33\" x2=\"126\" y1=\"121.9375\" y2=\"121.9375\"/></a><!--MD5=[270fce915f116d4de14055a7c1d9a0f3]\n",
       "class E5--><a href=\"psysml:735cd89a-e4b2-4dc5-b3d6-41534f400f39\" target=\"_top\" title=\"psysml:735cd89a-e4b2-4dc5-b3d6-41534f400f39\" xlink:actuate=\"onRequest\" xlink:href=\"psysml:735cd89a-e4b2-4dc5-b3d6-41534f400f39\" xlink:show=\"new\" xlink:title=\"psysml:735cd89a-e4b2-4dc5-b3d6-41534f400f39\" xlink:type=\"simple\"><rect fill=\"#FFFFFF\" height=\"45.9375\" id=\"E5\" style=\"stroke: #383838; stroke-width: 1.5;\" width=\"66\" x=\"190\" y=\"53\"/><text fill=\"#000000\" font-family=\"sans-serif\" font-size=\"12\" font-style=\"italic\" lengthAdjust=\"spacingAndGlyphs\" textLength=\"64\" x=\"191\" y=\"69.1387\">«part def»</text><text fill=\"#000000\" font-family=\"sans-serif\" font-size=\"12\" lengthAdjust=\"spacingAndGlyphs\" textLength=\"8\" x=\"219\" y=\"83.1074\">V</text><line style=\"stroke: #383838; stroke-width: 1.5;\" x1=\"191\" x2=\"255\" y1=\"90.9375\" y2=\"90.9375\"/></a><!--MD5=[60a26617385b1d2d0262a64233df1f8d]\n",
       "class E6--><a href=\"psysml:0400016e-70f0-4405-a71c-97e49bd60e65\" target=\"_top\" title=\"psysml:0400016e-70f0-4405-a71c-97e49bd60e65\" xlink:actuate=\"onRequest\" xlink:href=\"psysml:0400016e-70f0-4405-a71c-97e49bd60e65\" xlink:show=\"new\" xlink:title=\"psysml:0400016e-70f0-4405-a71c-97e49bd60e65\" xlink:type=\"simple\"><rect fill=\"#FFFFFF\" height=\"88.3516\" id=\"E6\" rx=\"10\" ry=\"10\" style=\"stroke: #383838; stroke-width: 1.5;\" width=\"63\" x=\"387\" y=\"41\"/><text fill=\"#000000\" font-family=\"sans-serif\" font-size=\"12\" font-style=\"italic\" lengthAdjust=\"spacingAndGlyphs\" textLength=\"40\" x=\"398.5\" y=\"57.1387\">«part»</text><text fill=\"#000000\" font-family=\"sans-serif\" font-size=\"12\" lengthAdjust=\"spacingAndGlyphs\" textLength=\"23\" x=\"407\" y=\"71.1074\">x: Q</text><line style=\"stroke: #383838; stroke-width: 1.5;\" x1=\"388\" x2=\"449\" y1=\"78.9375\" y2=\"78.9375\"/><text fill=\"#000000\" font-family=\"sans-serif\" font-size=\"11\" lengthAdjust=\"spacingAndGlyphs\" textLength=\"23\" x=\"393\" y=\"109.9526\">b: B</text><text fill=\"#000000\" font-family=\"sans-serif\" font-size=\"11\" font-style=\"italic\" lengthAdjust=\"spacingAndGlyphs\" textLength=\"44\" x=\"393\" y=\"122.7573\">:&gt;&gt;P::a</text><line style=\"stroke: #383838; stroke-width: 1.0;\" x1=\"388\" x2=\"391\" y1=\"93.3398\" y2=\"93.3398\"/><text fill=\"#000000\" font-family=\"sans-serif\" font-size=\"11\" lengthAdjust=\"spacingAndGlyphs\" textLength=\"55\" x=\"391\" y=\"96.6479\">attributes</text><line style=\"stroke: #383838; stroke-width: 1.0;\" x1=\"446\" x2=\"449\" y1=\"93.3398\" y2=\"93.3398\"/></a><!--MD5=[2156ba9850f5573cc1fc38a6a4b2f02b]\n",
       "class E7--><a href=\"psysml:ac43cc4c-8177-486e-b5a5-e877f62f9bc5\" target=\"_top\" title=\"psysml:ac43cc4c-8177-486e-b5a5-e877f62f9bc5\" xlink:actuate=\"onRequest\" xlink:href=\"psysml:ac43cc4c-8177-486e-b5a5-e877f62f9bc5\" xlink:show=\"new\" xlink:title=\"psysml:ac43cc4c-8177-486e-b5a5-e877f62f9bc5\" xlink:type=\"simple\"><rect fill=\"#FFFFFF\" height=\"45.9375\" id=\"E7\" rx=\"10\" ry=\"10\" style=\"stroke: #383838; stroke-width: 1.5;\" width=\"42\" x=\"58.5\" y=\"215\"/><text fill=\"#000000\" font-family=\"sans-serif\" font-size=\"12\" font-style=\"italic\" lengthAdjust=\"spacingAndGlyphs\" textLength=\"40\" x=\"59.5\" y=\"231.1387\">«part»</text><text fill=\"#000000\" font-family=\"sans-serif\" font-size=\"12\" lengthAdjust=\"spacingAndGlyphs\" textLength=\"25\" x=\"67\" y=\"245.1074\">q: Q</text><line style=\"stroke: #383838; stroke-width: 1.5;\" x1=\"59.5\" x2=\"99.5\" y1=\"252.9375\" y2=\"252.9375\"/></a><!--MD5=[b9389687b975829384b498ac4b7476b2]\n",
       "class E8--><a href=\"psysml:ce952eae-8bb1-4ad0-9f02-4c42d4c1d0c7\" target=\"_top\" title=\"psysml:ce952eae-8bb1-4ad0-9f02-4c42d4c1d0c7\" xlink:actuate=\"onRequest\" xlink:href=\"psysml:ce952eae-8bb1-4ad0-9f02-4c42d4c1d0c7\" xlink:show=\"new\" xlink:title=\"psysml:ce952eae-8bb1-4ad0-9f02-4c42d4c1d0c7\" xlink:type=\"simple\"><rect fill=\"#FFFFFF\" height=\"59.9063\" id=\"E8\" rx=\"10\" ry=\"10\" style=\"stroke: #383838; stroke-width: 1.5;\" width=\"70\" x=\"188\" y=\"296\"/><text fill=\"#000000\" font-family=\"sans-serif\" font-size=\"12\" font-style=\"italic\" lengthAdjust=\"spacingAndGlyphs\" textLength=\"68\" x=\"189\" y=\"312.1387\">«variation»</text><text fill=\"#000000\" font-family=\"sans-serif\" font-size=\"12\" font-style=\"italic\" lengthAdjust=\"spacingAndGlyphs\" textLength=\"40\" x=\"203\" y=\"326.1074\">«part»</text><text fill=\"#000000\" font-family=\"sans-serif\" font-size=\"12\" lengthAdjust=\"spacingAndGlyphs\" textLength=\"22\" x=\"212\" y=\"340.0762\">v: P</text><line style=\"stroke: #383838; stroke-width: 1.5;\" x1=\"189\" x2=\"257\" y1=\"347.9063\" y2=\"347.9063\"/></a><!--MD5=[fd4143e9d270a159db93a4ea2a975926]\n",
       "class E9--><a href=\"psysml:572dfe4e-6d7c-4ba8-94a3-d7ce0272bed9\" target=\"_top\" title=\"psysml:572dfe4e-6d7c-4ba8-94a3-d7ce0272bed9\" xlink:actuate=\"onRequest\" xlink:href=\"psysml:572dfe4e-6d7c-4ba8-94a3-d7ce0272bed9\" xlink:show=\"new\" xlink:title=\"psysml:572dfe4e-6d7c-4ba8-94a3-d7ce0272bed9\" xlink:type=\"simple\"><rect fill=\"#FFFFFF\" height=\"88.3516\" id=\"E9\" rx=\"10\" ry=\"10\" style=\"stroke: #383838; stroke-width: 1.5;\" width=\"77\" x=\"380\" y=\"275\"/><text fill=\"#000000\" font-family=\"sans-serif\" font-size=\"12\" font-style=\"italic\" lengthAdjust=\"spacingAndGlyphs\" textLength=\"75\" x=\"381\" y=\"291.1387\">«reference»</text><text fill=\"#000000\" font-family=\"sans-serif\" font-size=\"12\" lengthAdjust=\"spacingAndGlyphs\" textLength=\"8\" x=\"414.5\" y=\"305.1074\">q</text><line style=\"stroke: #383838; stroke-width: 1.5;\" x1=\"381\" x2=\"456\" y1=\"312.9375\" y2=\"312.9375\"/><text fill=\"#000000\" font-family=\"sans-serif\" font-size=\"11\" lengthAdjust=\"spacingAndGlyphs\" textLength=\"23\" x=\"386\" y=\"343.9526\">b: B</text><text fill=\"#000000\" font-family=\"sans-serif\" font-size=\"11\" font-style=\"italic\" lengthAdjust=\"spacingAndGlyphs\" textLength=\"44\" x=\"386\" y=\"356.7573\">:&gt;&gt;P::a</text><line style=\"stroke: #383838; stroke-width: 1.0;\" x1=\"381\" x2=\"391\" y1=\"327.3398\" y2=\"327.3398\"/><text fill=\"#000000\" font-family=\"sans-serif\" font-size=\"11\" lengthAdjust=\"spacingAndGlyphs\" textLength=\"55\" x=\"391\" y=\"330.6479\">attributes</text><line style=\"stroke: #383838; stroke-width: 1.0;\" x1=\"446\" x2=\"456\" y1=\"327.3398\" y2=\"327.3398\"/></a><!--MD5=[96f4274e9e20536e775497830990834d]\n",
       "class E10--><a href=\"psysml:983a8093-9810-4637-96cc-9ee8fb3d9cf5\" target=\"_top\" title=\"psysml:983a8093-9810-4637-96cc-9ee8fb3d9cf5\" xlink:actuate=\"onRequest\" xlink:href=\"psysml:983a8093-9810-4637-96cc-9ee8fb3d9cf5\" xlink:show=\"new\" xlink:title=\"psysml:983a8093-9810-4637-96cc-9ee8fb3d9cf5\" xlink:type=\"simple\"><rect fill=\"#FFFFFF\" height=\"45.9375\" id=\"E10\" rx=\"10\" ry=\"10\" style=\"stroke: #383838; stroke-width: 1.5;\" width=\"42\" x=\"202\" y=\"134\"/><text fill=\"#000000\" font-family=\"sans-serif\" font-size=\"12\" font-style=\"italic\" lengthAdjust=\"spacingAndGlyphs\" textLength=\"40\" x=\"203\" y=\"150.1387\">«part»</text><text fill=\"#000000\" font-family=\"sans-serif\" font-size=\"12\" lengthAdjust=\"spacingAndGlyphs\" textLength=\"22\" x=\"212\" y=\"164.1074\">y: P</text><line style=\"stroke: #383838; stroke-width: 1.5;\" x1=\"203\" x2=\"243\" y1=\"171.9375\" y2=\"171.9375\"/></a><!--MD5=[05d275557350bfb9b23a4ef7222b4c39]\n",
       "link E3 to E2--><a href=\"psysml:9e57242c-9184-4252-9565-bec20c63fdb8\" target=\"_top\" title=\"psysml:9e57242c-9184-4252-9565-bec20c63fdb8\" xlink:actuate=\"onRequest\" xlink:href=\"psysml:9e57242c-9184-4252-9565-bec20c63fdb8\" xlink:show=\"new\" xlink:title=\"psysml:9e57242c-9184-4252-9565-bec20c63fdb8\" xlink:type=\"simple\"><path d=\"M256.39,231.97 C286.06,226.45 330.5,218.19 365.2,211.73 \" fill=\"none\" id=\"E3-&gt;E2\" style=\"stroke: #383838; stroke-width: 1.0;\"/><polygon fill=\"none\" points=\"364.39,204.76,385.33,207.99,366.95,218.53,364.39,204.76\" style=\"stroke: #383838; stroke-width: 1.0;\"/></a><!--MD5=[15ebcb19ae302d9b601edb458606d402]\n",
       "link E5 to E2--><a href=\"psysml:5cdbdbe7-d14c-45c9-a804-61f18115238e\" target=\"_top\" title=\"psysml:5cdbdbe7-d14c-45c9-a804-61f18115238e\" xlink:actuate=\"onRequest\" xlink:href=\"psysml:5cdbdbe7-d14c-45c9-a804-61f18115238e\" xlink:show=\"new\" xlink:title=\"psysml:5cdbdbe7-d14c-45c9-a804-61f18115238e\" xlink:type=\"simple\"><path d=\"M256.39,97.09 C286.9,116.96 333.03,147 368.13,169.85 \" fill=\"none\" id=\"E5-&gt;E2\" style=\"stroke: #383838; stroke-width: 1.0;\"/><polygon fill=\"none\" points=\"372.39,164.27,385.33,181.05,364.75,176,372.39,164.27\" style=\"stroke: #383838; stroke-width: 1.0;\"/></a><!--MD5=[9120cf2e5df3bff93db8f754bbbc09b4]\n",
       "link E5 to E6--><a href=\"psysml:052c6ce9-d9db-4da6-90c4-ac16555550ac\" target=\"_top\" title=\"psysml:052c6ce9-d9db-4da6-90c4-ac16555550ac\" xlink:actuate=\"onRequest\" xlink:href=\"psysml:052c6ce9-d9db-4da6-90c4-ac16555550ac\" xlink:show=\"new\" xlink:title=\"psysml:052c6ce9-d9db-4da6-90c4-ac16555550ac\" xlink:type=\"simple\"><path d=\"M266.69,77.99 C299.54,79.51 344.62,81.61 376.92,83.11 \" fill=\"none\" id=\"E5-E6\" style=\"stroke: #383838; stroke-width: 1.0;\"/><polygon fill=\"#383838\" points=\"386.92,83.58,379.0704,80.2061,378.7874,86.1994,386.92,83.58\" style=\"stroke: #383838; stroke-width: 1.0;\"/><path d=\"M259.0665,86.1028 A9,9 0 0 0 259.863 69.2071\" fill=\"none\" style=\"stroke: #383838; stroke-width: 1.5;\"/><text fill=\"#000000\" font-family=\"sans-serif\" font-size=\"13\" lengthAdjust=\"spacingAndGlyphs\" textLength=\"60\" x=\"289\" y=\"76.0669\">«variant»</text></a><!--MD5=[14ccda38c055a5c0da953d572bc50960]\n",
       "link E7 to E3--><a href=\"psysml:648145d1-1ec9-42fc-8307-fa8910350658\" target=\"_top\" title=\"psysml:648145d1-1ec9-42fc-8307-fa8910350658\" xlink:actuate=\"onRequest\" xlink:href=\"psysml:648145d1-1ec9-42fc-8307-fa8910350658\" xlink:show=\"new\" xlink:title=\"psysml:648145d1-1ec9-42fc-8307-fa8910350658\" xlink:type=\"simple\"><path d=\"M100.77,238 C118.65,238 145.5,238 169.39,238 \" fill=\"none\" id=\"E7-&gt;E3\" style=\"stroke: #383838; stroke-width: 1.0;\"/><polygon fill=\"#FFFFFF\" points=\"189.74,238,170.74,245,170.74,231,189.74,238\" style=\"stroke: #383838; stroke-width: 1.0;\"/><ellipse cx=\"165.04\" cy=\"243\" fill=\"#383838\" rx=\"2\" ry=\"2\" style=\"stroke: #383838; stroke-width: 1.0;\"/><ellipse cx=\"165.04\" cy=\"233\" fill=\"#383838\" rx=\"2\" ry=\"2\" style=\"stroke: #383838; stroke-width: 1.0;\"/></a><!--MD5=[f1f3f9f2fc535e6147756cb86a7f2e32]\n",
       "link E8 to E2--><a href=\"psysml:19cda0c9-2775-4d9d-8cd8-191c5ad52b34\" target=\"_top\" title=\"psysml:19cda0c9-2775-4d9d-8cd8-191c5ad52b34\" xlink:actuate=\"onRequest\" xlink:href=\"psysml:19cda0c9-2775-4d9d-8cd8-191c5ad52b34\" xlink:show=\"new\" xlink:title=\"psysml:19cda0c9-2775-4d9d-8cd8-191c5ad52b34\" xlink:type=\"simple\"><path d=\"M258.15,304.12 C288.73,284.52 333.94,255.55 368.39,233.47 \" fill=\"none\" id=\"E8-&gt;E2\" style=\"stroke: #383838; stroke-width: 1.0;\"/><polygon fill=\"#FFFFFF\" points=\"385.3,222.63,373.0842,238.7785,365.5272,226.9932,385.3,222.63\" style=\"stroke: #383838; stroke-width: 1.0;\"/><ellipse cx=\"367.2063\" cy=\"240.1717\" fill=\"#383838\" rx=\"2\" ry=\"2\" style=\"stroke: #383838; stroke-width: 1.0;\"/><ellipse cx=\"361.8085\" cy=\"231.7536\" fill=\"#383838\" rx=\"2\" ry=\"2\" style=\"stroke: #383838; stroke-width: 1.0;\"/></a><!--MD5=[ed10624c06dd9a4fa49ccf290e8b16a8]\n",
       "link E8 to E9--><a href=\"psysml:28d39c7a-e0c7-42b0-858e-2cb4e488f108\" target=\"_top\" title=\"psysml:28d39c7a-e0c7-42b0-858e-2cb4e488f108\" xlink:actuate=\"onRequest\" xlink:href=\"psysml:28d39c7a-e0c7-42b0-858e-2cb4e488f108\" xlink:show=\"new\" xlink:title=\"psysml:28d39c7a-e0c7-42b0-858e-2cb4e488f108\" xlink:type=\"simple\"><path d=\"M268.18,324.4 C298.44,323.31 338.55,321.86 369.58,320.73 \" fill=\"none\" id=\"E8-E9\" style=\"stroke: #383838; stroke-width: 1.0;\"/><polygon fill=\"#383838\" points=\"379.72,320.37,371.6142,317.669,371.8369,323.6649,379.72,320.37\" style=\"stroke: #383838; stroke-width: 1.0;\"/><path d=\"M261.5285,333.1018 A9,9 0 0 0 260.9239 316.1981\" fill=\"none\" style=\"stroke: #383838; stroke-width: 1.5;\"/><text fill=\"#000000\" font-family=\"sans-serif\" font-size=\"13\" lengthAdjust=\"spacingAndGlyphs\" textLength=\"60\" x=\"289\" y=\"318.0669\">«variant»</text></a><!--MD5=[0f36bececdf0dff6e600d6f64214b0f1]\n",
       "link E10 to E2--><a href=\"psysml:8cfcd01d-a74f-43be-a680-d41b6ee6accc\" target=\"_top\" title=\"psysml:8cfcd01d-a74f-43be-a680-d41b6ee6accc\" xlink:actuate=\"onRequest\" xlink:href=\"psysml:8cfcd01d-a74f-43be-a680-d41b6ee6accc\" xlink:show=\"new\" xlink:title=\"psysml:8cfcd01d-a74f-43be-a680-d41b6ee6accc\" xlink:type=\"simple\"><path d=\"M244.34,161.73 C272.87,168.36 325.72,180.66 365.56,189.92 \" fill=\"none\" id=\"E10-&gt;E2\" style=\"stroke: #383838; stroke-width: 1.0;\"/><polygon fill=\"#FFFFFF\" points=\"385.28,194.51,365.1886,197.0272,368.3578,183.3907,385.28,194.51\" style=\"stroke: #383838; stroke-width: 1.0;\"/><ellipse cx=\"360.0893\" cy=\"193.7888\" fill=\"#383838\" rx=\"2\" ry=\"2\" style=\"stroke: #383838; stroke-width: 1.0;\"/><ellipse cx=\"362.353\" cy=\"184.0484\" fill=\"#383838\" rx=\"2\" ry=\"2\" style=\"stroke: #383838; stroke-width: 1.0;\"/></a><!--MD5=[f621de47961b74ffd42b472deb94a102]\n",
       "@startuml\r\n",
       "left to right direction\r\n",
       "skinparam monochrome true\r\n",
       "skinparam classbackgroundcolor white\r\n",
       "skinparam shadowing false\r\n",
       "skinparam wrapWidth 300\r\n",
       "hide circle\r\n",
       "\r\n",
       "package \"VariabilityTest\" as E1  [[psysml:c9192910-aa77-45a9-9ae3-16f7deb9d13d ]]  {\r\n",
       "comp def \"P\" as E2  <<(T,blue)part def>> [[psysml:28b4b804-815b-4815-9c5e-e5b09d6ccef7 ]] {\r\n",
       "- - attributes - -\r\n",
       "a\r\n",
       "}\r\n",
       "comp def \"Q\" as E3  <<(T,blue)part def>> [[psysml:3556ece0-f840-441c-8cd2-5d7027a1a805 ]] {\r\n",
       "}\r\n",
       "comp def \"B\" as E4  <<(T,blue)attribute def>> [[psysml:c1ea47d2-f15e-4f05-bf93-ec81669ca641 ]] {\r\n",
       "}\r\n",
       "comp def \"V\" as E5  <<(T,blue)part def>> [[psysml:735cd89a-e4b2-4dc5-b3d6-41534f400f39 ]] {\r\n",
       "}\r\n",
       "comp usage \"x: Q\" as E6  <<(T,blue)part>> [[psysml:0400016e-70f0-4405-a71c-97e49bd60e65 ]] {\r\n",
       "- - attributes - -\r\n",
       "b: B\\n//:>>P::a// \r\n",
       "}\r\n",
       "comp usage \"q: Q\" as E7  <<(T,blue)part>> [[psysml:ac43cc4c-8177-486e-b5a5-e877f62f9bc5 ]] {\r\n",
       "}\r\n",
       "comp usage \"v: P\" as E8  <<variation>>\\n <<(T,blue)part>> [[psysml:ce952eae-8bb1-4ad0-9f02-4c42d4c1d0c7 ]] {\r\n",
       "}\r\n",
       "comp usage \"q\" as E9  <<(T,blue)reference>> [[psysml:572dfe4e-6d7c-4ba8-94a3-d7ce0272bed9 ]] {\r\n",
       "- - attributes - -\r\n",
       "b: B\\n//:>>P::a// \r\n",
       "}\r\n",
       "comp usage \"y: P\" as E10  <<(T,blue)part>> [[psysml:983a8093-9810-4637-96cc-9ee8fb3d9cf5 ]] {\r\n",
       "}\r\n",
       "E3 - -|> E2 [[psysml:9e57242c-9184-4252-9565-bec20c63fdb8 ]] \r\n",
       "E5 - -|> E2 [[psysml:5cdbdbe7-d14c-45c9-a804-61f18115238e ]] \r\n",
       "E5 )- ->> E6 [[psysml:052c6ce9-d9db-4da6-90c4-ac16555550ac ]] : <<variant>>\r\n",
       "E7 - -:|> E3 [[psysml:648145d1-1ec9-42fc-8307-fa8910350658 ]] \r\n",
       "E8 - -:|> E2 [[psysml:19cda0c9-2775-4d9d-8cd8-191c5ad52b34 ]] \r\n",
       "E8 )- ->> E9 [[psysml:28d39c7a-e0c7-42b0-858e-2cb4e488f108 ]] : <<variant>>\r\n",
       "E10 - -:|> E2 [[psysml:8cfcd01d-a74f-43be-a680-d41b6ee6accc ]] \r\n",
       "}\r\n",
       "@enduml\r\n",
       "\n",
       "PlantUML version 1.2020.13(Sat Jun 13 12:26:38 UTC 2020)\n",
       "(EPL source distribution)\n",
       "Java Runtime: OpenJDK Runtime Environment\n",
       "JVM: OpenJDK 64-Bit Server VM\n",
       "Default Encoding: UTF-8\n",
       "Language: en\n",
       "Country: null\n",
       "--></g></svg>"
      ]
     },
     "execution_count": 21,
     "metadata": {},
     "output_type": "execute_result"
    }
   ],
   "source": [
    "%viz --style=\"LR\" --view=\"Sequence\" \"VariabilityTest\""
   ]
  },
  {
   "cell_type": "code",
   "execution_count": 22,
   "id": "92efec8b",
   "metadata": {
    "execution": {
     "iopub.execute_input": "2021-05-28T10:47:55.824638Z",
     "iopub.status.busy": "2021-05-28T10:47:55.823977Z",
     "iopub.status.idle": "2021-05-28T10:47:55.900724Z",
     "shell.execute_reply": "2021-05-28T10:47:55.899357Z"
    }
   },
   "outputs": [
    {
     "data": {
      "image/svg+xml": [
       "<?xml version=\"1.0\" encoding=\"UTF-8\" standalone=\"no\"?><svg xmlns=\"http://www.w3.org/2000/svg\" xmlns:xlink=\"http://www.w3.org/1999/xlink\" contentScriptType=\"application/ecmascript\" contentStyleType=\"text/css\" height=\"391px\" preserveAspectRatio=\"none\" style=\"width:495px;height:391px;\" version=\"1.1\" viewBox=\"0 0 495 391\" width=\"495px\" zoomAndPan=\"magnify\"><defs/><g><!--MD5=[fbc87193dbaf4d95561dea2c320d4a47]\n",
       "cluster E1--><a href=\"psysml:c9192910-aa77-45a9-9ae3-16f7deb9d13d\" target=\"_top\" title=\"psysml:c9192910-aa77-45a9-9ae3-16f7deb9d13d\" xlink:actuate=\"onRequest\" xlink:href=\"psysml:c9192910-aa77-45a9-9ae3-16f7deb9d13d\" xlink:show=\"new\" xlink:title=\"psysml:c9192910-aa77-45a9-9ae3-16f7deb9d13d\" xlink:type=\"simple\"><polygon fill=\"#FFFFFF\" points=\"16,6,134,6,141,28.2969,473,28.2969,473,379,16,379,16,6\" style=\"stroke: #000000; stroke-width: 1.5;\"/><line style=\"stroke: #000000; stroke-width: 1.5;\" x1=\"16\" x2=\"141\" y1=\"28.2969\" y2=\"28.2969\"/><text fill=\"#000000\" font-family=\"sans-serif\" font-size=\"14\" font-weight=\"bold\" lengthAdjust=\"spacingAndGlyphs\" textLength=\"112\" x=\"20\" y=\"20.9951\">VariabilityTest</text></a><!--MD5=[b4997ac47864f28c2f74865a473b2911]\n",
       "class E2--><a href=\"psysml:28b4b804-815b-4815-9c5e-e5b09d6ccef7\" target=\"_top\" title=\"psysml:28b4b804-815b-4815-9c5e-e5b09d6ccef7\" xlink:actuate=\"onRequest\" xlink:href=\"psysml:28b4b804-815b-4815-9c5e-e5b09d6ccef7\" xlink:show=\"new\" xlink:title=\"psysml:28b4b804-815b-4815-9c5e-e5b09d6ccef7\" xlink:type=\"simple\"><rect fill=\"#FFFFFF\" height=\"75.5469\" id=\"E2\" style=\"stroke: #383838; stroke-width: 1.5;\" width=\"66\" x=\"385.5\" y=\"164\"/><text fill=\"#000000\" font-family=\"sans-serif\" font-size=\"12\" font-style=\"italic\" lengthAdjust=\"spacingAndGlyphs\" textLength=\"64\" x=\"386.5\" y=\"180.1387\">«part def»</text><text fill=\"#000000\" font-family=\"sans-serif\" font-size=\"12\" lengthAdjust=\"spacingAndGlyphs\" textLength=\"8\" x=\"414.5\" y=\"194.1074\">P</text><line style=\"stroke: #383838; stroke-width: 1.5;\" x1=\"386.5\" x2=\"450.5\" y1=\"201.9375\" y2=\"201.9375\"/><text fill=\"#000000\" font-family=\"sans-serif\" font-size=\"11\" lengthAdjust=\"spacingAndGlyphs\" textLength=\"7\" x=\"391.5\" y=\"232.9526\">a</text><line style=\"stroke: #383838; stroke-width: 1.0;\" x1=\"386.5\" x2=\"391\" y1=\"216.3398\" y2=\"216.3398\"/><text fill=\"#000000\" font-family=\"sans-serif\" font-size=\"11\" lengthAdjust=\"spacingAndGlyphs\" textLength=\"55\" x=\"391\" y=\"219.6479\">attributes</text><line style=\"stroke: #383838; stroke-width: 1.0;\" x1=\"446\" x2=\"450.5\" y1=\"216.3398\" y2=\"216.3398\"/></a><!--MD5=[09b614a08d8cba4a07c9adeb5e0fee81]\n",
       "class E3--><a href=\"psysml:3556ece0-f840-441c-8cd2-5d7027a1a805\" target=\"_top\" title=\"psysml:3556ece0-f840-441c-8cd2-5d7027a1a805\" xlink:actuate=\"onRequest\" xlink:href=\"psysml:3556ece0-f840-441c-8cd2-5d7027a1a805\" xlink:show=\"new\" xlink:title=\"psysml:3556ece0-f840-441c-8cd2-5d7027a1a805\" xlink:type=\"simple\"><rect fill=\"#FFFFFF\" height=\"45.9375\" id=\"E3\" style=\"stroke: #383838; stroke-width: 1.5;\" width=\"66\" x=\"190\" y=\"215\"/><text fill=\"#000000\" font-family=\"sans-serif\" font-size=\"12\" font-style=\"italic\" lengthAdjust=\"spacingAndGlyphs\" textLength=\"64\" x=\"191\" y=\"231.1387\">«part def»</text><text fill=\"#000000\" font-family=\"sans-serif\" font-size=\"12\" lengthAdjust=\"spacingAndGlyphs\" textLength=\"9\" x=\"218.5\" y=\"245.1074\">Q</text><line style=\"stroke: #383838; stroke-width: 1.5;\" x1=\"191\" x2=\"255\" y1=\"252.9375\" y2=\"252.9375\"/></a><!--MD5=[ebbe1d658d1005bcc118a6aa81145e00]\n",
       "class E4--><a href=\"psysml:c1ea47d2-f15e-4f05-bf93-ec81669ca641\" target=\"_top\" title=\"psysml:c1ea47d2-f15e-4f05-bf93-ec81669ca641\" xlink:actuate=\"onRequest\" xlink:href=\"psysml:c1ea47d2-f15e-4f05-bf93-ec81669ca641\" xlink:show=\"new\" xlink:title=\"psysml:c1ea47d2-f15e-4f05-bf93-ec81669ca641\" xlink:type=\"simple\"><rect fill=\"#FFFFFF\" height=\"45.9375\" id=\"E4\" style=\"stroke: #383838; stroke-width: 1.5;\" width=\"95\" x=\"32\" y=\"84\"/><text fill=\"#000000\" font-family=\"sans-serif\" font-size=\"12\" font-style=\"italic\" lengthAdjust=\"spacingAndGlyphs\" textLength=\"93\" x=\"33\" y=\"100.1387\">«attribute def»</text><text fill=\"#000000\" font-family=\"sans-serif\" font-size=\"12\" lengthAdjust=\"spacingAndGlyphs\" textLength=\"8\" x=\"75.5\" y=\"114.1074\">B</text><line style=\"stroke: #383838; stroke-width: 1.5;\" x1=\"33\" x2=\"126\" y1=\"121.9375\" y2=\"121.9375\"/></a><!--MD5=[270fce915f116d4de14055a7c1d9a0f3]\n",
       "class E5--><a href=\"psysml:735cd89a-e4b2-4dc5-b3d6-41534f400f39\" target=\"_top\" title=\"psysml:735cd89a-e4b2-4dc5-b3d6-41534f400f39\" xlink:actuate=\"onRequest\" xlink:href=\"psysml:735cd89a-e4b2-4dc5-b3d6-41534f400f39\" xlink:show=\"new\" xlink:title=\"psysml:735cd89a-e4b2-4dc5-b3d6-41534f400f39\" xlink:type=\"simple\"><rect fill=\"#FFFFFF\" height=\"45.9375\" id=\"E5\" style=\"stroke: #383838; stroke-width: 1.5;\" width=\"66\" x=\"190\" y=\"53\"/><text fill=\"#000000\" font-family=\"sans-serif\" font-size=\"12\" font-style=\"italic\" lengthAdjust=\"spacingAndGlyphs\" textLength=\"64\" x=\"191\" y=\"69.1387\">«part def»</text><text fill=\"#000000\" font-family=\"sans-serif\" font-size=\"12\" lengthAdjust=\"spacingAndGlyphs\" textLength=\"8\" x=\"219\" y=\"83.1074\">V</text><line style=\"stroke: #383838; stroke-width: 1.5;\" x1=\"191\" x2=\"255\" y1=\"90.9375\" y2=\"90.9375\"/></a><!--MD5=[60a26617385b1d2d0262a64233df1f8d]\n",
       "class E6--><a href=\"psysml:0400016e-70f0-4405-a71c-97e49bd60e65\" target=\"_top\" title=\"psysml:0400016e-70f0-4405-a71c-97e49bd60e65\" xlink:actuate=\"onRequest\" xlink:href=\"psysml:0400016e-70f0-4405-a71c-97e49bd60e65\" xlink:show=\"new\" xlink:title=\"psysml:0400016e-70f0-4405-a71c-97e49bd60e65\" xlink:type=\"simple\"><rect fill=\"#FFFFFF\" height=\"88.3516\" id=\"E6\" rx=\"10\" ry=\"10\" style=\"stroke: #383838; stroke-width: 1.5;\" width=\"63\" x=\"387\" y=\"41\"/><text fill=\"#000000\" font-family=\"sans-serif\" font-size=\"12\" font-style=\"italic\" lengthAdjust=\"spacingAndGlyphs\" textLength=\"40\" x=\"398.5\" y=\"57.1387\">«part»</text><text fill=\"#000000\" font-family=\"sans-serif\" font-size=\"12\" lengthAdjust=\"spacingAndGlyphs\" textLength=\"23\" x=\"407\" y=\"71.1074\">x: Q</text><line style=\"stroke: #383838; stroke-width: 1.5;\" x1=\"388\" x2=\"449\" y1=\"78.9375\" y2=\"78.9375\"/><text fill=\"#000000\" font-family=\"sans-serif\" font-size=\"11\" lengthAdjust=\"spacingAndGlyphs\" textLength=\"23\" x=\"393\" y=\"109.9526\">b: B</text><text fill=\"#000000\" font-family=\"sans-serif\" font-size=\"11\" font-style=\"italic\" lengthAdjust=\"spacingAndGlyphs\" textLength=\"44\" x=\"393\" y=\"122.7573\">:&gt;&gt;P::a</text><line style=\"stroke: #383838; stroke-width: 1.0;\" x1=\"388\" x2=\"391\" y1=\"93.3398\" y2=\"93.3398\"/><text fill=\"#000000\" font-family=\"sans-serif\" font-size=\"11\" lengthAdjust=\"spacingAndGlyphs\" textLength=\"55\" x=\"391\" y=\"96.6479\">attributes</text><line style=\"stroke: #383838; stroke-width: 1.0;\" x1=\"446\" x2=\"449\" y1=\"93.3398\" y2=\"93.3398\"/></a><!--MD5=[2156ba9850f5573cc1fc38a6a4b2f02b]\n",
       "class E7--><a href=\"psysml:ac43cc4c-8177-486e-b5a5-e877f62f9bc5\" target=\"_top\" title=\"psysml:ac43cc4c-8177-486e-b5a5-e877f62f9bc5\" xlink:actuate=\"onRequest\" xlink:href=\"psysml:ac43cc4c-8177-486e-b5a5-e877f62f9bc5\" xlink:show=\"new\" xlink:title=\"psysml:ac43cc4c-8177-486e-b5a5-e877f62f9bc5\" xlink:type=\"simple\"><rect fill=\"#FFFFFF\" height=\"45.9375\" id=\"E7\" rx=\"10\" ry=\"10\" style=\"stroke: #383838; stroke-width: 1.5;\" width=\"42\" x=\"58.5\" y=\"215\"/><text fill=\"#000000\" font-family=\"sans-serif\" font-size=\"12\" font-style=\"italic\" lengthAdjust=\"spacingAndGlyphs\" textLength=\"40\" x=\"59.5\" y=\"231.1387\">«part»</text><text fill=\"#000000\" font-family=\"sans-serif\" font-size=\"12\" lengthAdjust=\"spacingAndGlyphs\" textLength=\"25\" x=\"67\" y=\"245.1074\">q: Q</text><line style=\"stroke: #383838; stroke-width: 1.5;\" x1=\"59.5\" x2=\"99.5\" y1=\"252.9375\" y2=\"252.9375\"/></a><!--MD5=[b9389687b975829384b498ac4b7476b2]\n",
       "class E8--><a href=\"psysml:ce952eae-8bb1-4ad0-9f02-4c42d4c1d0c7\" target=\"_top\" title=\"psysml:ce952eae-8bb1-4ad0-9f02-4c42d4c1d0c7\" xlink:actuate=\"onRequest\" xlink:href=\"psysml:ce952eae-8bb1-4ad0-9f02-4c42d4c1d0c7\" xlink:show=\"new\" xlink:title=\"psysml:ce952eae-8bb1-4ad0-9f02-4c42d4c1d0c7\" xlink:type=\"simple\"><rect fill=\"#FFFFFF\" height=\"59.9063\" id=\"E8\" rx=\"10\" ry=\"10\" style=\"stroke: #383838; stroke-width: 1.5;\" width=\"70\" x=\"188\" y=\"296\"/><text fill=\"#000000\" font-family=\"sans-serif\" font-size=\"12\" font-style=\"italic\" lengthAdjust=\"spacingAndGlyphs\" textLength=\"68\" x=\"189\" y=\"312.1387\">«variation»</text><text fill=\"#000000\" font-family=\"sans-serif\" font-size=\"12\" font-style=\"italic\" lengthAdjust=\"spacingAndGlyphs\" textLength=\"40\" x=\"203\" y=\"326.1074\">«part»</text><text fill=\"#000000\" font-family=\"sans-serif\" font-size=\"12\" lengthAdjust=\"spacingAndGlyphs\" textLength=\"22\" x=\"212\" y=\"340.0762\">v: P</text><line style=\"stroke: #383838; stroke-width: 1.5;\" x1=\"189\" x2=\"257\" y1=\"347.9063\" y2=\"347.9063\"/></a><!--MD5=[fd4143e9d270a159db93a4ea2a975926]\n",
       "class E9--><a href=\"psysml:572dfe4e-6d7c-4ba8-94a3-d7ce0272bed9\" target=\"_top\" title=\"psysml:572dfe4e-6d7c-4ba8-94a3-d7ce0272bed9\" xlink:actuate=\"onRequest\" xlink:href=\"psysml:572dfe4e-6d7c-4ba8-94a3-d7ce0272bed9\" xlink:show=\"new\" xlink:title=\"psysml:572dfe4e-6d7c-4ba8-94a3-d7ce0272bed9\" xlink:type=\"simple\"><rect fill=\"#FFFFFF\" height=\"88.3516\" id=\"E9\" rx=\"10\" ry=\"10\" style=\"stroke: #383838; stroke-width: 1.5;\" width=\"77\" x=\"380\" y=\"275\"/><text fill=\"#000000\" font-family=\"sans-serif\" font-size=\"12\" font-style=\"italic\" lengthAdjust=\"spacingAndGlyphs\" textLength=\"75\" x=\"381\" y=\"291.1387\">«reference»</text><text fill=\"#000000\" font-family=\"sans-serif\" font-size=\"12\" lengthAdjust=\"spacingAndGlyphs\" textLength=\"8\" x=\"414.5\" y=\"305.1074\">q</text><line style=\"stroke: #383838; stroke-width: 1.5;\" x1=\"381\" x2=\"456\" y1=\"312.9375\" y2=\"312.9375\"/><text fill=\"#000000\" font-family=\"sans-serif\" font-size=\"11\" lengthAdjust=\"spacingAndGlyphs\" textLength=\"23\" x=\"386\" y=\"343.9526\">b: B</text><text fill=\"#000000\" font-family=\"sans-serif\" font-size=\"11\" font-style=\"italic\" lengthAdjust=\"spacingAndGlyphs\" textLength=\"44\" x=\"386\" y=\"356.7573\">:&gt;&gt;P::a</text><line style=\"stroke: #383838; stroke-width: 1.0;\" x1=\"381\" x2=\"391\" y1=\"327.3398\" y2=\"327.3398\"/><text fill=\"#000000\" font-family=\"sans-serif\" font-size=\"11\" lengthAdjust=\"spacingAndGlyphs\" textLength=\"55\" x=\"391\" y=\"330.6479\">attributes</text><line style=\"stroke: #383838; stroke-width: 1.0;\" x1=\"446\" x2=\"456\" y1=\"327.3398\" y2=\"327.3398\"/></a><!--MD5=[96f4274e9e20536e775497830990834d]\n",
       "class E10--><a href=\"psysml:983a8093-9810-4637-96cc-9ee8fb3d9cf5\" target=\"_top\" title=\"psysml:983a8093-9810-4637-96cc-9ee8fb3d9cf5\" xlink:actuate=\"onRequest\" xlink:href=\"psysml:983a8093-9810-4637-96cc-9ee8fb3d9cf5\" xlink:show=\"new\" xlink:title=\"psysml:983a8093-9810-4637-96cc-9ee8fb3d9cf5\" xlink:type=\"simple\"><rect fill=\"#FFFFFF\" height=\"45.9375\" id=\"E10\" rx=\"10\" ry=\"10\" style=\"stroke: #383838; stroke-width: 1.5;\" width=\"42\" x=\"202\" y=\"134\"/><text fill=\"#000000\" font-family=\"sans-serif\" font-size=\"12\" font-style=\"italic\" lengthAdjust=\"spacingAndGlyphs\" textLength=\"40\" x=\"203\" y=\"150.1387\">«part»</text><text fill=\"#000000\" font-family=\"sans-serif\" font-size=\"12\" lengthAdjust=\"spacingAndGlyphs\" textLength=\"22\" x=\"212\" y=\"164.1074\">y: P</text><line style=\"stroke: #383838; stroke-width: 1.5;\" x1=\"203\" x2=\"243\" y1=\"171.9375\" y2=\"171.9375\"/></a><!--MD5=[05d275557350bfb9b23a4ef7222b4c39]\n",
       "link E3 to E2--><a href=\"psysml:9e57242c-9184-4252-9565-bec20c63fdb8\" target=\"_top\" title=\"psysml:9e57242c-9184-4252-9565-bec20c63fdb8\" xlink:actuate=\"onRequest\" xlink:href=\"psysml:9e57242c-9184-4252-9565-bec20c63fdb8\" xlink:show=\"new\" xlink:title=\"psysml:9e57242c-9184-4252-9565-bec20c63fdb8\" xlink:type=\"simple\"><path d=\"M256.39,231.97 C286.06,226.45 330.5,218.19 365.2,211.73 \" fill=\"none\" id=\"E3-&gt;E2\" style=\"stroke: #383838; stroke-width: 1.0;\"/><polygon fill=\"none\" points=\"364.39,204.76,385.33,207.99,366.95,218.53,364.39,204.76\" style=\"stroke: #383838; stroke-width: 1.0;\"/></a><!--MD5=[15ebcb19ae302d9b601edb458606d402]\n",
       "link E5 to E2--><a href=\"psysml:5cdbdbe7-d14c-45c9-a804-61f18115238e\" target=\"_top\" title=\"psysml:5cdbdbe7-d14c-45c9-a804-61f18115238e\" xlink:actuate=\"onRequest\" xlink:href=\"psysml:5cdbdbe7-d14c-45c9-a804-61f18115238e\" xlink:show=\"new\" xlink:title=\"psysml:5cdbdbe7-d14c-45c9-a804-61f18115238e\" xlink:type=\"simple\"><path d=\"M256.39,97.09 C286.9,116.96 333.03,147 368.13,169.85 \" fill=\"none\" id=\"E5-&gt;E2\" style=\"stroke: #383838; stroke-width: 1.0;\"/><polygon fill=\"none\" points=\"372.39,164.27,385.33,181.05,364.75,176,372.39,164.27\" style=\"stroke: #383838; stroke-width: 1.0;\"/></a><!--MD5=[9120cf2e5df3bff93db8f754bbbc09b4]\n",
       "link E5 to E6--><a href=\"psysml:052c6ce9-d9db-4da6-90c4-ac16555550ac\" target=\"_top\" title=\"psysml:052c6ce9-d9db-4da6-90c4-ac16555550ac\" xlink:actuate=\"onRequest\" xlink:href=\"psysml:052c6ce9-d9db-4da6-90c4-ac16555550ac\" xlink:show=\"new\" xlink:title=\"psysml:052c6ce9-d9db-4da6-90c4-ac16555550ac\" xlink:type=\"simple\"><path d=\"M266.69,77.99 C299.54,79.51 344.62,81.61 376.92,83.11 \" fill=\"none\" id=\"E5-E6\" style=\"stroke: #383838; stroke-width: 1.0;\"/><polygon fill=\"#383838\" points=\"386.92,83.58,379.0704,80.2061,378.7874,86.1994,386.92,83.58\" style=\"stroke: #383838; stroke-width: 1.0;\"/><path d=\"M259.0665,86.1028 A9,9 0 0 0 259.863 69.2071\" fill=\"none\" style=\"stroke: #383838; stroke-width: 1.5;\"/><text fill=\"#000000\" font-family=\"sans-serif\" font-size=\"13\" lengthAdjust=\"spacingAndGlyphs\" textLength=\"60\" x=\"289\" y=\"76.0669\">«variant»</text></a><!--MD5=[14ccda38c055a5c0da953d572bc50960]\n",
       "link E7 to E3--><a href=\"psysml:648145d1-1ec9-42fc-8307-fa8910350658\" target=\"_top\" title=\"psysml:648145d1-1ec9-42fc-8307-fa8910350658\" xlink:actuate=\"onRequest\" xlink:href=\"psysml:648145d1-1ec9-42fc-8307-fa8910350658\" xlink:show=\"new\" xlink:title=\"psysml:648145d1-1ec9-42fc-8307-fa8910350658\" xlink:type=\"simple\"><path d=\"M100.77,238 C118.65,238 145.5,238 169.39,238 \" fill=\"none\" id=\"E7-&gt;E3\" style=\"stroke: #383838; stroke-width: 1.0;\"/><polygon fill=\"#FFFFFF\" points=\"189.74,238,170.74,245,170.74,231,189.74,238\" style=\"stroke: #383838; stroke-width: 1.0;\"/><ellipse cx=\"165.04\" cy=\"243\" fill=\"#383838\" rx=\"2\" ry=\"2\" style=\"stroke: #383838; stroke-width: 1.0;\"/><ellipse cx=\"165.04\" cy=\"233\" fill=\"#383838\" rx=\"2\" ry=\"2\" style=\"stroke: #383838; stroke-width: 1.0;\"/></a><!--MD5=[f1f3f9f2fc535e6147756cb86a7f2e32]\n",
       "link E8 to E2--><a href=\"psysml:19cda0c9-2775-4d9d-8cd8-191c5ad52b34\" target=\"_top\" title=\"psysml:19cda0c9-2775-4d9d-8cd8-191c5ad52b34\" xlink:actuate=\"onRequest\" xlink:href=\"psysml:19cda0c9-2775-4d9d-8cd8-191c5ad52b34\" xlink:show=\"new\" xlink:title=\"psysml:19cda0c9-2775-4d9d-8cd8-191c5ad52b34\" xlink:type=\"simple\"><path d=\"M258.15,304.12 C288.73,284.52 333.94,255.55 368.39,233.47 \" fill=\"none\" id=\"E8-&gt;E2\" style=\"stroke: #383838; stroke-width: 1.0;\"/><polygon fill=\"#FFFFFF\" points=\"385.3,222.63,373.0842,238.7785,365.5272,226.9932,385.3,222.63\" style=\"stroke: #383838; stroke-width: 1.0;\"/><ellipse cx=\"367.2063\" cy=\"240.1717\" fill=\"#383838\" rx=\"2\" ry=\"2\" style=\"stroke: #383838; stroke-width: 1.0;\"/><ellipse cx=\"361.8085\" cy=\"231.7536\" fill=\"#383838\" rx=\"2\" ry=\"2\" style=\"stroke: #383838; stroke-width: 1.0;\"/></a><!--MD5=[ed10624c06dd9a4fa49ccf290e8b16a8]\n",
       "link E8 to E9--><a href=\"psysml:28d39c7a-e0c7-42b0-858e-2cb4e488f108\" target=\"_top\" title=\"psysml:28d39c7a-e0c7-42b0-858e-2cb4e488f108\" xlink:actuate=\"onRequest\" xlink:href=\"psysml:28d39c7a-e0c7-42b0-858e-2cb4e488f108\" xlink:show=\"new\" xlink:title=\"psysml:28d39c7a-e0c7-42b0-858e-2cb4e488f108\" xlink:type=\"simple\"><path d=\"M268.18,324.4 C298.44,323.31 338.55,321.86 369.58,320.73 \" fill=\"none\" id=\"E8-E9\" style=\"stroke: #383838; stroke-width: 1.0;\"/><polygon fill=\"#383838\" points=\"379.72,320.37,371.6142,317.669,371.8369,323.6649,379.72,320.37\" style=\"stroke: #383838; stroke-width: 1.0;\"/><path d=\"M261.5285,333.1018 A9,9 0 0 0 260.9239 316.1981\" fill=\"none\" style=\"stroke: #383838; stroke-width: 1.5;\"/><text fill=\"#000000\" font-family=\"sans-serif\" font-size=\"13\" lengthAdjust=\"spacingAndGlyphs\" textLength=\"60\" x=\"289\" y=\"318.0669\">«variant»</text></a><!--MD5=[0f36bececdf0dff6e600d6f64214b0f1]\n",
       "link E10 to E2--><a href=\"psysml:8cfcd01d-a74f-43be-a680-d41b6ee6accc\" target=\"_top\" title=\"psysml:8cfcd01d-a74f-43be-a680-d41b6ee6accc\" xlink:actuate=\"onRequest\" xlink:href=\"psysml:8cfcd01d-a74f-43be-a680-d41b6ee6accc\" xlink:show=\"new\" xlink:title=\"psysml:8cfcd01d-a74f-43be-a680-d41b6ee6accc\" xlink:type=\"simple\"><path d=\"M244.34,161.73 C272.87,168.36 325.72,180.66 365.56,189.92 \" fill=\"none\" id=\"E10-&gt;E2\" style=\"stroke: #383838; stroke-width: 1.0;\"/><polygon fill=\"#FFFFFF\" points=\"385.28,194.51,365.1886,197.0272,368.3578,183.3907,385.28,194.51\" style=\"stroke: #383838; stroke-width: 1.0;\"/><ellipse cx=\"360.0893\" cy=\"193.7888\" fill=\"#383838\" rx=\"2\" ry=\"2\" style=\"stroke: #383838; stroke-width: 1.0;\"/><ellipse cx=\"362.353\" cy=\"184.0484\" fill=\"#383838\" rx=\"2\" ry=\"2\" style=\"stroke: #383838; stroke-width: 1.0;\"/></a><!--MD5=[f621de47961b74ffd42b472deb94a102]\n",
       "@startuml\r\n",
       "left to right direction\r\n",
       "skinparam monochrome true\r\n",
       "skinparam classbackgroundcolor white\r\n",
       "skinparam shadowing false\r\n",
       "skinparam wrapWidth 300\r\n",
       "hide circle\r\n",
       "\r\n",
       "package \"VariabilityTest\" as E1  [[psysml:c9192910-aa77-45a9-9ae3-16f7deb9d13d ]]  {\r\n",
       "comp def \"P\" as E2  <<(T,blue)part def>> [[psysml:28b4b804-815b-4815-9c5e-e5b09d6ccef7 ]] {\r\n",
       "- - attributes - -\r\n",
       "a\r\n",
       "}\r\n",
       "comp def \"Q\" as E3  <<(T,blue)part def>> [[psysml:3556ece0-f840-441c-8cd2-5d7027a1a805 ]] {\r\n",
       "}\r\n",
       "comp def \"B\" as E4  <<(T,blue)attribute def>> [[psysml:c1ea47d2-f15e-4f05-bf93-ec81669ca641 ]] {\r\n",
       "}\r\n",
       "comp def \"V\" as E5  <<(T,blue)part def>> [[psysml:735cd89a-e4b2-4dc5-b3d6-41534f400f39 ]] {\r\n",
       "}\r\n",
       "comp usage \"x: Q\" as E6  <<(T,blue)part>> [[psysml:0400016e-70f0-4405-a71c-97e49bd60e65 ]] {\r\n",
       "- - attributes - -\r\n",
       "b: B\\n//:>>P::a// \r\n",
       "}\r\n",
       "comp usage \"q: Q\" as E7  <<(T,blue)part>> [[psysml:ac43cc4c-8177-486e-b5a5-e877f62f9bc5 ]] {\r\n",
       "}\r\n",
       "comp usage \"v: P\" as E8  <<variation>>\\n <<(T,blue)part>> [[psysml:ce952eae-8bb1-4ad0-9f02-4c42d4c1d0c7 ]] {\r\n",
       "}\r\n",
       "comp usage \"q\" as E9  <<(T,blue)reference>> [[psysml:572dfe4e-6d7c-4ba8-94a3-d7ce0272bed9 ]] {\r\n",
       "- - attributes - -\r\n",
       "b: B\\n//:>>P::a// \r\n",
       "}\r\n",
       "comp usage \"y: P\" as E10  <<(T,blue)part>> [[psysml:983a8093-9810-4637-96cc-9ee8fb3d9cf5 ]] {\r\n",
       "}\r\n",
       "E3 - -|> E2 [[psysml:9e57242c-9184-4252-9565-bec20c63fdb8 ]] \r\n",
       "E5 - -|> E2 [[psysml:5cdbdbe7-d14c-45c9-a804-61f18115238e ]] \r\n",
       "E5 )- ->> E6 [[psysml:052c6ce9-d9db-4da6-90c4-ac16555550ac ]] : <<variant>>\r\n",
       "E7 - -:|> E3 [[psysml:648145d1-1ec9-42fc-8307-fa8910350658 ]] \r\n",
       "E8 - -:|> E2 [[psysml:19cda0c9-2775-4d9d-8cd8-191c5ad52b34 ]] \r\n",
       "E8 )- ->> E9 [[psysml:28d39c7a-e0c7-42b0-858e-2cb4e488f108 ]] : <<variant>>\r\n",
       "E10 - -:|> E2 [[psysml:8cfcd01d-a74f-43be-a680-d41b6ee6accc ]] \r\n",
       "}\r\n",
       "@enduml\r\n",
       "\n",
       "PlantUML version 1.2020.13(Sat Jun 13 12:26:38 UTC 2020)\n",
       "(EPL source distribution)\n",
       "Java Runtime: OpenJDK Runtime Environment\n",
       "JVM: OpenJDK 64-Bit Server VM\n",
       "Default Encoding: UTF-8\n",
       "Language: en\n",
       "Country: null\n",
       "--></g></svg>"
      ]
     },
     "execution_count": 22,
     "metadata": {},
     "output_type": "execute_result"
    }
   ],
   "source": [
    "%viz --style=\"LR\" --view=\"MIXED\" \"VariabilityTest\""
   ]
  },
  {
   "cell_type": "code",
   "execution_count": 23,
   "id": "e4095e07",
   "metadata": {
    "execution": {
     "iopub.execute_input": "2021-05-28T10:47:55.952087Z",
     "iopub.status.busy": "2021-05-28T10:47:55.951586Z",
     "iopub.status.idle": "2021-05-28T10:47:56.012082Z",
     "shell.execute_reply": "2021-05-28T10:47:56.011750Z"
    }
   },
   "outputs": [
    {
     "data": {
      "image/svg+xml": [
       "<?xml version=\"1.0\" encoding=\"UTF-8\" standalone=\"no\"?><svg xmlns=\"http://www.w3.org/2000/svg\" xmlns:xlink=\"http://www.w3.org/1999/xlink\" contentScriptType=\"application/ecmascript\" contentStyleType=\"text/css\" height=\"373px\" preserveAspectRatio=\"none\" style=\"width:419px;height:373px;\" version=\"1.1\" viewBox=\"0 0 419 373\" width=\"419px\" zoomAndPan=\"magnify\"><defs><filter height=\"300%\" id=\"f1ww0pdq2rcvle\" width=\"300%\" x=\"-1\" y=\"-1\"><feGaussianBlur result=\"blurOut\" stdDeviation=\"2.0\"/><feColorMatrix in=\"blurOut\" result=\"blurOut2\" type=\"matrix\" values=\"0 0 0 0 0 0 0 0 0 0 0 0 0 0 0 0 0 0 .4 0\"/><feOffset dx=\"4.0\" dy=\"4.0\" in=\"blurOut2\" result=\"blurOut3\"/><feBlend in=\"SourceGraphic\" in2=\"blurOut3\" mode=\"normal\"/></filter></defs><g><!--MD5=[fbc87193dbaf4d95561dea2c320d4a47]\n",
       "cluster E1--><a href=\"psysml:c9192910-aa77-45a9-9ae3-16f7deb9d13d\" target=\"_top\" title=\"psysml:c9192910-aa77-45a9-9ae3-16f7deb9d13d\" xlink:actuate=\"onRequest\" xlink:href=\"psysml:c9192910-aa77-45a9-9ae3-16f7deb9d13d\" xlink:show=\"new\" xlink:title=\"psysml:c9192910-aa77-45a9-9ae3-16f7deb9d13d\" xlink:type=\"simple\"><polygon fill=\"#FFFFFF\" filter=\"url(#f1ww0pdq2rcvle)\" points=\"16,6,134,6,141,28.2969,397,28.2969,397,361,16,361,16,6\" style=\"stroke: #000000; stroke-width: 1.5;\"/><line style=\"stroke: #000000; stroke-width: 1.5;\" x1=\"16\" x2=\"141\" y1=\"28.2969\" y2=\"28.2969\"/><text fill=\"#000000\" font-family=\"sans-serif\" font-size=\"14\" font-weight=\"bold\" lengthAdjust=\"spacingAndGlyphs\" textLength=\"112\" x=\"20\" y=\"20.9951\">VariabilityTest</text></a><!--MD5=[b4997ac47864f28c2f74865a473b2911]\n",
       "class E2--><a href=\"psysml:28b4b804-815b-4815-9c5e-e5b09d6ccef7\" target=\"_top\" title=\"psysml:28b4b804-815b-4815-9c5e-e5b09d6ccef7\" xlink:actuate=\"onRequest\" xlink:href=\"psysml:28b4b804-815b-4815-9c5e-e5b09d6ccef7\" xlink:show=\"new\" xlink:title=\"psysml:28b4b804-815b-4815-9c5e-e5b09d6ccef7\" xlink:type=\"simple\"><rect fill=\"#FEFECE\" filter=\"url(#f1ww0pdq2rcvle)\" height=\"58.7422\" id=\"E2\" style=\"stroke: #A80036; stroke-width: 1.5;\" width=\"66\" x=\"162\" y=\"285.5\"/><text fill=\"#000000\" font-family=\"sans-serif\" font-size=\"12\" font-style=\"italic\" lengthAdjust=\"spacingAndGlyphs\" textLength=\"64\" x=\"163\" y=\"301.6387\">«part def»</text><text fill=\"#000000\" font-family=\"sans-serif\" font-size=\"12\" lengthAdjust=\"spacingAndGlyphs\" textLength=\"8\" x=\"191\" y=\"315.6074\">P</text><line style=\"stroke: #A80036; stroke-width: 1.5;\" x1=\"163\" x2=\"227\" y1=\"323.4375\" y2=\"323.4375\"/><text fill=\"#000000\" font-family=\"sans-serif\" font-size=\"11\" lengthAdjust=\"spacingAndGlyphs\" textLength=\"7\" x=\"168\" y=\"337.6479\">a</text></a><!--MD5=[09b614a08d8cba4a07c9adeb5e0fee81]\n",
       "class E3--><a href=\"psysml:3556ece0-f840-441c-8cd2-5d7027a1a805\" target=\"_top\" title=\"psysml:3556ece0-f840-441c-8cd2-5d7027a1a805\" xlink:actuate=\"onRequest\" xlink:href=\"psysml:3556ece0-f840-441c-8cd2-5d7027a1a805\" xlink:show=\"new\" xlink:title=\"psysml:3556ece0-f840-441c-8cd2-5d7027a1a805\" xlink:type=\"simple\"><rect fill=\"#FEFECE\" filter=\"url(#f1ww0pdq2rcvle)\" height=\"45.9375\" id=\"E3\" style=\"stroke: #A80036; stroke-width: 1.5;\" width=\"66\" x=\"137\" y=\"155\"/><text fill=\"#000000\" font-family=\"sans-serif\" font-size=\"12\" font-style=\"italic\" lengthAdjust=\"spacingAndGlyphs\" textLength=\"64\" x=\"138\" y=\"171.1387\">«part def»</text><text fill=\"#000000\" font-family=\"sans-serif\" font-size=\"12\" lengthAdjust=\"spacingAndGlyphs\" textLength=\"9\" x=\"165.5\" y=\"185.1074\">Q</text><line style=\"stroke: #A80036; stroke-width: 1.5;\" x1=\"138\" x2=\"202\" y1=\"192.9375\" y2=\"192.9375\"/></a><!--MD5=[ebbe1d658d1005bcc118a6aa81145e00]\n",
       "class E4--><a href=\"psysml:c1ea47d2-f15e-4f05-bf93-ec81669ca641\" target=\"_top\" title=\"psysml:c1ea47d2-f15e-4f05-bf93-ec81669ca641\" xlink:actuate=\"onRequest\" xlink:href=\"psysml:c1ea47d2-f15e-4f05-bf93-ec81669ca641\" xlink:show=\"new\" xlink:title=\"psysml:c1ea47d2-f15e-4f05-bf93-ec81669ca641\" xlink:type=\"simple\"><rect fill=\"#FEFECE\" filter=\"url(#f1ww0pdq2rcvle)\" height=\"45.9375\" id=\"E4\" style=\"stroke: #A80036; stroke-width: 1.5;\" width=\"95\" x=\"255.5\" y=\"41\"/><text fill=\"#000000\" font-family=\"sans-serif\" font-size=\"12\" font-style=\"italic\" lengthAdjust=\"spacingAndGlyphs\" textLength=\"93\" x=\"256.5\" y=\"57.1387\">«attribute def»</text><text fill=\"#000000\" font-family=\"sans-serif\" font-size=\"12\" lengthAdjust=\"spacingAndGlyphs\" textLength=\"8\" x=\"299\" y=\"71.1074\">B</text><line style=\"stroke: #A80036; stroke-width: 1.5;\" x1=\"256.5\" x2=\"349.5\" y1=\"78.9375\" y2=\"78.9375\"/></a><!--MD5=[270fce915f116d4de14055a7c1d9a0f3]\n",
       "class E5--><a href=\"psysml:735cd89a-e4b2-4dc5-b3d6-41534f400f39\" target=\"_top\" title=\"psysml:735cd89a-e4b2-4dc5-b3d6-41534f400f39\" xlink:actuate=\"onRequest\" xlink:href=\"psysml:735cd89a-e4b2-4dc5-b3d6-41534f400f39\" xlink:show=\"new\" xlink:title=\"psysml:735cd89a-e4b2-4dc5-b3d6-41534f400f39\" xlink:type=\"simple\"><rect fill=\"#FEFECE\" filter=\"url(#f1ww0pdq2rcvle)\" height=\"45.9375\" id=\"E5\" style=\"stroke: #A80036; stroke-width: 1.5;\" width=\"66\" x=\"315\" y=\"155\"/><text fill=\"#000000\" font-family=\"sans-serif\" font-size=\"12\" font-style=\"italic\" lengthAdjust=\"spacingAndGlyphs\" textLength=\"64\" x=\"316\" y=\"171.1387\">«part def»</text><text fill=\"#000000\" font-family=\"sans-serif\" font-size=\"12\" lengthAdjust=\"spacingAndGlyphs\" textLength=\"8\" x=\"344\" y=\"185.1074\">V</text><line style=\"stroke: #A80036; stroke-width: 1.5;\" x1=\"316\" x2=\"380\" y1=\"192.9375\" y2=\"192.9375\"/></a><!--MD5=[60a26617385b1d2d0262a64233df1f8d]\n",
       "class E6--><a href=\"psysml:0400016e-70f0-4405-a71c-97e49bd60e65\" target=\"_top\" title=\"psysml:0400016e-70f0-4405-a71c-97e49bd60e65\" xlink:actuate=\"onRequest\" xlink:href=\"psysml:0400016e-70f0-4405-a71c-97e49bd60e65\" xlink:show=\"new\" xlink:title=\"psysml:0400016e-70f0-4405-a71c-97e49bd60e65\" xlink:type=\"simple\"><rect fill=\"#FEFECE\" filter=\"url(#f1ww0pdq2rcvle)\" height=\"59.6875\" id=\"E6\" rx=\"10\" ry=\"10\" style=\"stroke: #A80036; stroke-width: 1.5;\" width=\"78\" x=\"280\" y=\"285\"/><text fill=\"#000000\" font-family=\"sans-serif\" font-size=\"12\" font-style=\"italic\" lengthAdjust=\"spacingAndGlyphs\" textLength=\"40\" x=\"299\" y=\"301.1387\">«part»</text><text fill=\"#000000\" font-family=\"sans-serif\" font-size=\"12\" lengthAdjust=\"spacingAndGlyphs\" textLength=\"23\" x=\"307.5\" y=\"315.1074\">x: Q</text><line style=\"stroke: #A80036; stroke-width: 1.5;\" x1=\"281\" x2=\"357\" y1=\"322.9375\" y2=\"322.9375\"/><path d=\"M287.9167,327.8542 L287.9167,337.0208 L288.8333,337.0208 L288.8333,327.8542 M291.5833,327.8542 L291.5833,337.0208 L298.9167,332.4375 L291.5833,327.8542 L292.5,329.2292 L297.5417,332.4375 L292.5,335.6458 L292.5,329.2292 \" fill=\"#000000\" style=\"stroke: ; stroke-width: 0.0; stroke-dasharray: ;\"/><text fill=\"#000000\" font-family=\"sans-serif\" font-size=\"11\" lengthAdjust=\"spacingAndGlyphs\" textLength=\"23\" x=\"303\" y=\"338.0933\">b: B</text><text fill=\"#000000\" font-family=\"sans-serif\" font-size=\"11\" lengthAdjust=\"spacingAndGlyphs\" text-decoration=\"line-through\" textLength=\"22\" x=\"330\" y=\"338.0933\">P::a</text></a><!--MD5=[2156ba9850f5573cc1fc38a6a4b2f02b]\n",
       "class E7--><a href=\"psysml:ac43cc4c-8177-486e-b5a5-e877f62f9bc5\" target=\"_top\" title=\"psysml:ac43cc4c-8177-486e-b5a5-e877f62f9bc5\" xlink:actuate=\"onRequest\" xlink:href=\"psysml:ac43cc4c-8177-486e-b5a5-e877f62f9bc5\" xlink:show=\"new\" xlink:title=\"psysml:ac43cc4c-8177-486e-b5a5-e877f62f9bc5\" xlink:type=\"simple\"><rect fill=\"#FEFECE\" filter=\"url(#f1ww0pdq2rcvle)\" height=\"45.9375\" id=\"E7\" rx=\"10\" ry=\"10\" style=\"stroke: #A80036; stroke-width: 1.5;\" width=\"42\" x=\"149\" y=\"41\"/><text fill=\"#000000\" font-family=\"sans-serif\" font-size=\"12\" font-style=\"italic\" lengthAdjust=\"spacingAndGlyphs\" textLength=\"40\" x=\"150\" y=\"57.1387\">«part»</text><text fill=\"#000000\" font-family=\"sans-serif\" font-size=\"12\" lengthAdjust=\"spacingAndGlyphs\" textLength=\"25\" x=\"157.5\" y=\"71.1074\">q: Q</text><line style=\"stroke: #A80036; stroke-width: 1.5;\" x1=\"150\" x2=\"190\" y1=\"78.9375\" y2=\"78.9375\"/></a><!--MD5=[b9389687b975829384b498ac4b7476b2]\n",
       "class E8--><a href=\"psysml:ce952eae-8bb1-4ad0-9f02-4c42d4c1d0c7\" target=\"_top\" title=\"psysml:ce952eae-8bb1-4ad0-9f02-4c42d4c1d0c7\" xlink:actuate=\"onRequest\" xlink:href=\"psysml:ce952eae-8bb1-4ad0-9f02-4c42d4c1d0c7\" xlink:show=\"new\" xlink:title=\"psysml:ce952eae-8bb1-4ad0-9f02-4c42d4c1d0c7\" xlink:type=\"simple\"><rect fill=\"#FEFECE\" filter=\"url(#f1ww0pdq2rcvle)\" height=\"59.9063\" id=\"E8\" rx=\"10\" ry=\"10\" style=\"stroke: #A80036; stroke-width: 1.5;\" width=\"70\" x=\"32\" y=\"148\"/><text fill=\"#000000\" font-family=\"sans-serif\" font-size=\"12\" font-style=\"italic\" lengthAdjust=\"spacingAndGlyphs\" textLength=\"68\" x=\"33\" y=\"164.1387\">«variation»</text><text fill=\"#000000\" font-family=\"sans-serif\" font-size=\"12\" font-style=\"italic\" lengthAdjust=\"spacingAndGlyphs\" textLength=\"40\" x=\"47\" y=\"178.1074\">«part»</text><text fill=\"#000000\" font-family=\"sans-serif\" font-size=\"12\" lengthAdjust=\"spacingAndGlyphs\" textLength=\"22\" x=\"56\" y=\"192.0762\">v: P</text><line style=\"stroke: #A80036; stroke-width: 1.5;\" x1=\"33\" x2=\"101\" y1=\"199.9063\" y2=\"199.9063\"/></a><!--MD5=[fd4143e9d270a159db93a4ea2a975926]\n",
       "class E9--><a href=\"psysml:572dfe4e-6d7c-4ba8-94a3-d7ce0272bed9\" target=\"_top\" title=\"psysml:572dfe4e-6d7c-4ba8-94a3-d7ce0272bed9\" xlink:actuate=\"onRequest\" xlink:href=\"psysml:572dfe4e-6d7c-4ba8-94a3-d7ce0272bed9\" xlink:show=\"new\" xlink:title=\"psysml:572dfe4e-6d7c-4ba8-94a3-d7ce0272bed9\" xlink:type=\"simple\"><rect fill=\"#FEFECE\" filter=\"url(#f1ww0pdq2rcvle)\" height=\"59.6875\" id=\"E9\" rx=\"10\" ry=\"10\" style=\"stroke: #A80036; stroke-width: 1.5;\" width=\"78\" x=\"32\" y=\"285\"/><text fill=\"#000000\" font-family=\"sans-serif\" font-size=\"12\" font-style=\"italic\" lengthAdjust=\"spacingAndGlyphs\" textLength=\"75\" x=\"33.5\" y=\"301.1387\">«reference»</text><text fill=\"#000000\" font-family=\"sans-serif\" font-size=\"12\" lengthAdjust=\"spacingAndGlyphs\" textLength=\"8\" x=\"67\" y=\"315.1074\">q</text><line style=\"stroke: #A80036; stroke-width: 1.5;\" x1=\"33\" x2=\"109\" y1=\"322.9375\" y2=\"322.9375\"/><path d=\"M39.9167,327.8542 L39.9167,337.0208 L40.8333,337.0208 L40.8333,327.8542 M43.5833,327.8542 L43.5833,337.0208 L50.9167,332.4375 L43.5833,327.8542 L44.5,329.2292 L49.5417,332.4375 L44.5,335.6458 L44.5,329.2292 \" fill=\"#000000\" style=\"stroke: ; stroke-width: 0.0; stroke-dasharray: ;\"/><text fill=\"#000000\" font-family=\"sans-serif\" font-size=\"11\" lengthAdjust=\"spacingAndGlyphs\" textLength=\"23\" x=\"55\" y=\"338.0933\">b: B</text><text fill=\"#000000\" font-family=\"sans-serif\" font-size=\"11\" lengthAdjust=\"spacingAndGlyphs\" text-decoration=\"line-through\" textLength=\"22\" x=\"82\" y=\"338.0933\">P::a</text></a><!--MD5=[96f4274e9e20536e775497830990834d]\n",
       "class E10--><a href=\"psysml:983a8093-9810-4637-96cc-9ee8fb3d9cf5\" target=\"_top\" title=\"psysml:983a8093-9810-4637-96cc-9ee8fb3d9cf5\" xlink:actuate=\"onRequest\" xlink:href=\"psysml:983a8093-9810-4637-96cc-9ee8fb3d9cf5\" xlink:show=\"new\" xlink:title=\"psysml:983a8093-9810-4637-96cc-9ee8fb3d9cf5\" xlink:type=\"simple\"><rect fill=\"#FEFECE\" filter=\"url(#f1ww0pdq2rcvle)\" height=\"45.9375\" id=\"E10\" rx=\"10\" ry=\"10\" style=\"stroke: #A80036; stroke-width: 1.5;\" width=\"42\" x=\"238\" y=\"155\"/><text fill=\"#000000\" font-family=\"sans-serif\" font-size=\"12\" font-style=\"italic\" lengthAdjust=\"spacingAndGlyphs\" textLength=\"40\" x=\"239\" y=\"171.1387\">«part»</text><text fill=\"#000000\" font-family=\"sans-serif\" font-size=\"12\" lengthAdjust=\"spacingAndGlyphs\" textLength=\"22\" x=\"248\" y=\"185.1074\">y: P</text><line style=\"stroke: #A80036; stroke-width: 1.5;\" x1=\"239\" x2=\"279\" y1=\"192.9375\" y2=\"192.9375\"/></a><!--MD5=[05d275557350bfb9b23a4ef7222b4c39]\n",
       "link E3 to E2--><a href=\"psysml:9e57242c-9184-4252-9565-bec20c63fdb8\" target=\"_top\" title=\"psysml:9e57242c-9184-4252-9565-bec20c63fdb8\" xlink:actuate=\"onRequest\" xlink:href=\"psysml:9e57242c-9184-4252-9565-bec20c63fdb8\" xlink:show=\"new\" xlink:title=\"psysml:9e57242c-9184-4252-9565-bec20c63fdb8\" xlink:type=\"simple\"><path d=\"M174.13,201.29 C177.34,218.66 181.93,243.41 185.98,265.3 \" fill=\"none\" id=\"E3-&gt;E2\" style=\"stroke: #A80036; stroke-width: 1.0;\"/><polygon fill=\"none\" points=\"192.88,264.14,189.64,285.08,179.12,266.68,192.88,264.14\" style=\"stroke: #A80036; stroke-width: 1.0;\"/></a><!--MD5=[15ebcb19ae302d9b601edb458606d402]\n",
       "link E5 to E2--><a href=\"psysml:5cdbdbe7-d14c-45c9-a804-61f18115238e\" target=\"_top\" title=\"psysml:5cdbdbe7-d14c-45c9-a804-61f18115238e\" xlink:actuate=\"onRequest\" xlink:href=\"psysml:5cdbdbe7-d14c-45c9-a804-61f18115238e\" xlink:show=\"new\" xlink:title=\"psysml:5cdbdbe7-d14c-45c9-a804-61f18115238e\" xlink:type=\"simple\"><path d=\"M322.74,201.29 C301.06,220.42 269.21,248.52 242.75,271.87 \" fill=\"none\" id=\"E5-&gt;E2\" style=\"stroke: #A80036; stroke-width: 1.0;\"/><polygon fill=\"none\" points=\"247.13,277.34,227.5,285.32,237.87,266.84,247.13,277.34\" style=\"stroke: #A80036; stroke-width: 1.0;\"/></a><!--MD5=[9120cf2e5df3bff93db8f754bbbc09b4]\n",
       "link E5 to E6--><a href=\"psysml:052c6ce9-d9db-4da6-90c4-ac16555550ac\" target=\"_top\" title=\"psysml:052c6ce9-d9db-4da6-90c4-ac16555550ac\" xlink:actuate=\"onRequest\" xlink:href=\"psysml:052c6ce9-d9db-4da6-90c4-ac16555550ac\" xlink:show=\"new\" xlink:title=\"psysml:052c6ce9-d9db-4da6-90c4-ac16555550ac\" xlink:type=\"simple\"><path d=\"M341.07,211.28 C336.97,230.34 331.76,254.6 327.43,274.76 \" fill=\"none\" id=\"E5-E6\" style=\"stroke: #A80036; stroke-width: 1.0;\"/><polygon fill=\"#A80036\" points=\"325.32,284.58,329.9339,277.3889,324.0679,276.1282,325.32,284.58\" style=\"stroke: #A80036; stroke-width: 1.0;\"/><path d=\"M334.2948,202.5225 A9,9 0 0 0 350.8317 206.0765\" fill=\"none\" style=\"stroke: #A80036; stroke-width: 1.5;\"/><text fill=\"#000000\" font-family=\"sans-serif\" font-size=\"13\" lengthAdjust=\"spacingAndGlyphs\" textLength=\"60\" x=\"336\" y=\"251.0669\">«variant»</text></a><!--MD5=[14ccda38c055a5c0da953d572bc50960]\n",
       "link E7 to E3--><a href=\"psysml:648145d1-1ec9-42fc-8307-fa8910350658\" target=\"_top\" title=\"psysml:648145d1-1ec9-42fc-8307-fa8910350658\" xlink:actuate=\"onRequest\" xlink:href=\"psysml:648145d1-1ec9-42fc-8307-fa8910350658\" xlink:show=\"new\" xlink:title=\"psysml:648145d1-1ec9-42fc-8307-fa8910350658\" xlink:type=\"simple\"><path d=\"M170,87.13 C170,100.7 170,118.53 170,134.73 \" fill=\"none\" id=\"E7-&gt;E3\" style=\"stroke: #A80036; stroke-width: 1.0;\"/><polygon fill=\"#FFFFFF\" points=\"170,154.92,163,135.92,177,135.92,170,154.92\" style=\"stroke: #A80036; stroke-width: 1.0;\"/><ellipse cx=\"165\" cy=\"130.22\" fill=\"#A80036\" rx=\"2\" ry=\"2\" style=\"stroke: #A80036; stroke-width: 1.0;\"/><ellipse cx=\"175\" cy=\"130.22\" fill=\"#A80036\" rx=\"2\" ry=\"2\" style=\"stroke: #A80036; stroke-width: 1.0;\"/></a><!--MD5=[f1f3f9f2fc535e6147756cb86a7f2e32]\n",
       "link E8 to E2--><a href=\"psysml:19cda0c9-2775-4d9d-8cd8-191c5ad52b34\" target=\"_top\" title=\"psysml:19cda0c9-2775-4d9d-8cd8-191c5ad52b34\" xlink:actuate=\"onRequest\" xlink:href=\"psysml:19cda0c9-2775-4d9d-8cd8-191c5ad52b34\" xlink:show=\"new\" xlink:title=\"psysml:19cda0c9-2775-4d9d-8cd8-191c5ad52b34\" xlink:type=\"simple\"><path d=\"M102.23,204.97 C114.45,214.72 127.87,226.28 139,238 C147.93,247.4 156.69,258.25 164.53,268.75 \" fill=\"none\" id=\"E8-&gt;E2\" style=\"stroke: #A80036; stroke-width: 1.0;\"/><polygon fill=\"#FFFFFF\" points=\"176.35,285.25,159.5896,273.8883,170.967,265.7302,176.35,285.25\" style=\"stroke: #A80036; stroke-width: 1.0;\"/><ellipse cx=\"157.8934\" cy=\"268.0907\" fill=\"#A80036\" rx=\"2\" ry=\"2\" style=\"stroke: #A80036; stroke-width: 1.0;\"/><ellipse cx=\"166.0201\" cy=\"262.2634\" fill=\"#A80036\" rx=\"2\" ry=\"2\" style=\"stroke: #A80036; stroke-width: 1.0;\"/></a><!--MD5=[ed10624c06dd9a4fa49ccf290e8b16a8]\n",
       "link E8 to E9--><a href=\"psysml:28d39c7a-e0c7-42b0-858e-2cb4e488f108\" target=\"_top\" title=\"psysml:28d39c7a-e0c7-42b0-858e-2cb4e488f108\" xlink:actuate=\"onRequest\" xlink:href=\"psysml:28d39c7a-e0c7-42b0-858e-2cb4e488f108\" xlink:show=\"new\" xlink:title=\"psysml:28d39c7a-e0c7-42b0-858e-2cb4e488f108\" xlink:type=\"simple\"><path d=\"M68.16,218.31 C68.69,236.06 69.31,256.98 69.84,274.73 \" fill=\"none\" id=\"E8-E9\" style=\"stroke: #A80036; stroke-width: 1.0;\"/><polygon fill=\"#A80036\" points=\"70.13,284.76,72.8888,276.6736,66.8915,276.8536,70.13,284.76\" style=\"stroke: #A80036; stroke-width: 1.0;\"/><path d=\"M59.509,211.6208 A9,9 0 0 0 76.4159 211.1128\" fill=\"none\" style=\"stroke: #A80036; stroke-width: 1.5;\"/><text fill=\"#000000\" font-family=\"sans-serif\" font-size=\"13\" lengthAdjust=\"spacingAndGlyphs\" textLength=\"60\" x=\"70\" y=\"251.0669\">«variant»</text></a><!--MD5=[0f36bececdf0dff6e600d6f64214b0f1]\n",
       "link E10 to E2--><a href=\"psysml:8cfcd01d-a74f-43be-a680-d41b6ee6accc\" target=\"_top\" title=\"psysml:8cfcd01d-a74f-43be-a680-d41b6ee6accc\" xlink:actuate=\"onRequest\" xlink:href=\"psysml:8cfcd01d-a74f-43be-a680-d41b6ee6accc\" xlink:show=\"new\" xlink:title=\"psysml:8cfcd01d-a74f-43be-a680-d41b6ee6accc\" xlink:type=\"simple\"><path d=\"M248.43,201.29 C239.99,219.11 227.86,244.69 217.29,266.99 \" fill=\"none\" id=\"E10-&gt;E2\" style=\"stroke: #A80036; stroke-width: 1.0;\"/><polygon fill=\"#FFFFFF\" points=\"208.71,285.08,210.5216,264.9127,223.1727,270.9085,208.71,285.08\" style=\"stroke: #A80036; stroke-width: 1.0;\"/><ellipse cx=\"214.77\" cy=\"260.6185\" fill=\"#A80036\" rx=\"2\" ry=\"2\" style=\"stroke: #A80036; stroke-width: 1.0;\"/><ellipse cx=\"223.8065\" cy=\"264.9012\" fill=\"#A80036\" rx=\"2\" ry=\"2\" style=\"stroke: #A80036; stroke-width: 1.0;\"/></a><!--MD5=[a0c2028eab1ff41ad5c718c7b71a8b9c]\n",
       "@startuml\r\n",
       "skinparam wrapWidth 300\r\n",
       "hide circle\r\n",
       "\r\n",
       "package \"VariabilityTest\" as E1  [[psysml:c9192910-aa77-45a9-9ae3-16f7deb9d13d ]]  {\r\n",
       "comp def \"P\" as E2  <<(T,blue)part def>> [[psysml:28b4b804-815b-4815-9c5e-e5b09d6ccef7 ]] {\r\n",
       "a\r\n",
       "}\r\n",
       "comp def \"Q\" as E3  <<(T,blue)part def>> [[psysml:3556ece0-f840-441c-8cd2-5d7027a1a805 ]] {\r\n",
       "}\r\n",
       "comp def \"B\" as E4  <<(T,blue)attribute def>> [[psysml:c1ea47d2-f15e-4f05-bf93-ec81669ca641 ]] {\r\n",
       "}\r\n",
       "comp def \"V\" as E5  <<(T,blue)part def>> [[psysml:735cd89a-e4b2-4dc5-b3d6-41534f400f39 ]] {\r\n",
       "}\r\n",
       "comp usage \"x: Q\" as E6  <<(T,blue)part>> [[psysml:0400016e-70f0-4405-a71c-97e49bd60e65 ]] {\r\n",
       "<&bar-trig> b: B <s>P::a</s>\r\n",
       "}\r\n",
       "comp usage \"q: Q\" as E7  <<(T,blue)part>> [[psysml:ac43cc4c-8177-486e-b5a5-e877f62f9bc5 ]] {\r\n",
       "}\r\n",
       "comp usage \"v: P\" as E8  <<variation>>\\n <<(T,blue)part>> [[psysml:ce952eae-8bb1-4ad0-9f02-4c42d4c1d0c7 ]] {\r\n",
       "}\r\n",
       "comp usage \"q\" as E9  <<(T,blue)reference>> [[psysml:572dfe4e-6d7c-4ba8-94a3-d7ce0272bed9 ]] {\r\n",
       "<&bar-trig> b: B <s>P::a</s>\r\n",
       "}\r\n",
       "comp usage \"y: P\" as E10  <<(T,blue)part>> [[psysml:983a8093-9810-4637-96cc-9ee8fb3d9cf5 ]] {\r\n",
       "}\r\n",
       "E3 - -|> E2 [[psysml:9e57242c-9184-4252-9565-bec20c63fdb8 ]] \r\n",
       "E5 - -|> E2 [[psysml:5cdbdbe7-d14c-45c9-a804-61f18115238e ]] \r\n",
       "E5 )- ->> E6 [[psysml:052c6ce9-d9db-4da6-90c4-ac16555550ac ]] : <<variant>>\r\n",
       "E7 - -:|> E3 [[psysml:648145d1-1ec9-42fc-8307-fa8910350658 ]] \r\n",
       "E8 - -:|> E2 [[psysml:19cda0c9-2775-4d9d-8cd8-191c5ad52b34 ]] \r\n",
       "E8 )- ->> E9 [[psysml:28d39c7a-e0c7-42b0-858e-2cb4e488f108 ]] : <<variant>>\r\n",
       "E10 - -:|> E2 [[psysml:8cfcd01d-a74f-43be-a680-d41b6ee6accc ]] \r\n",
       "}\r\n",
       "@enduml\r\n",
       "\n",
       "PlantUML version 1.2020.13(Sat Jun 13 12:26:38 UTC 2020)\n",
       "(EPL source distribution)\n",
       "Java Runtime: OpenJDK Runtime Environment\n",
       "JVM: OpenJDK 64-Bit Server VM\n",
       "Default Encoding: UTF-8\n",
       "Language: en\n",
       "Country: null\n",
       "--></g></svg>"
      ]
     },
     "execution_count": 23,
     "metadata": {},
     "output_type": "execute_result"
    }
   ],
   "source": [
    "%viz --style=\"STDCOLOR\" --view=\"Default\" \"VariabilityTest\""
   ]
  },
  {
   "cell_type": "code",
   "execution_count": 24,
   "id": "f7db249c",
   "metadata": {
    "execution": {
     "iopub.execute_input": "2021-05-28T10:47:56.062494Z",
     "iopub.status.busy": "2021-05-28T10:47:56.061948Z",
     "iopub.status.idle": "2021-05-28T10:47:56.116162Z",
     "shell.execute_reply": "2021-05-28T10:47:56.114599Z"
    }
   },
   "outputs": [
    {
     "data": {
      "image/svg+xml": [
       "<?xml version=\"1.0\" encoding=\"UTF-8\" standalone=\"no\"?><svg xmlns=\"http://www.w3.org/2000/svg\" xmlns:xlink=\"http://www.w3.org/1999/xlink\" contentScriptType=\"application/ecmascript\" contentStyleType=\"text/css\" height=\"373px\" preserveAspectRatio=\"none\" style=\"width:419px;height:373px;\" version=\"1.1\" viewBox=\"0 0 419 373\" width=\"419px\" zoomAndPan=\"magnify\"><defs><filter height=\"300%\" id=\"f1ww0pdq2rcvle\" width=\"300%\" x=\"-1\" y=\"-1\"><feGaussianBlur result=\"blurOut\" stdDeviation=\"2.0\"/><feColorMatrix in=\"blurOut\" result=\"blurOut2\" type=\"matrix\" values=\"0 0 0 0 0 0 0 0 0 0 0 0 0 0 0 0 0 0 .4 0\"/><feOffset dx=\"4.0\" dy=\"4.0\" in=\"blurOut2\" result=\"blurOut3\"/><feBlend in=\"SourceGraphic\" in2=\"blurOut3\" mode=\"normal\"/></filter></defs><g><!--MD5=[fbc87193dbaf4d95561dea2c320d4a47]\n",
       "cluster E1--><a href=\"psysml:c9192910-aa77-45a9-9ae3-16f7deb9d13d\" target=\"_top\" title=\"psysml:c9192910-aa77-45a9-9ae3-16f7deb9d13d\" xlink:actuate=\"onRequest\" xlink:href=\"psysml:c9192910-aa77-45a9-9ae3-16f7deb9d13d\" xlink:show=\"new\" xlink:title=\"psysml:c9192910-aa77-45a9-9ae3-16f7deb9d13d\" xlink:type=\"simple\"><polygon fill=\"#FFFFFF\" filter=\"url(#f1ww0pdq2rcvle)\" points=\"16,6,134,6,141,28.2969,397,28.2969,397,361,16,361,16,6\" style=\"stroke: #000000; stroke-width: 1.5;\"/><line style=\"stroke: #000000; stroke-width: 1.5;\" x1=\"16\" x2=\"141\" y1=\"28.2969\" y2=\"28.2969\"/><text fill=\"#000000\" font-family=\"sans-serif\" font-size=\"14\" font-weight=\"bold\" lengthAdjust=\"spacingAndGlyphs\" textLength=\"112\" x=\"20\" y=\"20.9951\">VariabilityTest</text></a><!--MD5=[b4997ac47864f28c2f74865a473b2911]\n",
       "class E2--><a href=\"psysml:28b4b804-815b-4815-9c5e-e5b09d6ccef7\" target=\"_top\" title=\"psysml:28b4b804-815b-4815-9c5e-e5b09d6ccef7\" xlink:actuate=\"onRequest\" xlink:href=\"psysml:28b4b804-815b-4815-9c5e-e5b09d6ccef7\" xlink:show=\"new\" xlink:title=\"psysml:28b4b804-815b-4815-9c5e-e5b09d6ccef7\" xlink:type=\"simple\"><rect fill=\"#FEFECE\" filter=\"url(#f1ww0pdq2rcvle)\" height=\"58.7422\" id=\"E2\" style=\"stroke: #A80036; stroke-width: 1.5;\" width=\"66\" x=\"162\" y=\"285.5\"/><text fill=\"#000000\" font-family=\"sans-serif\" font-size=\"12\" font-style=\"italic\" lengthAdjust=\"spacingAndGlyphs\" textLength=\"64\" x=\"163\" y=\"301.6387\">«part def»</text><text fill=\"#000000\" font-family=\"sans-serif\" font-size=\"12\" lengthAdjust=\"spacingAndGlyphs\" textLength=\"8\" x=\"191\" y=\"315.6074\">P</text><line style=\"stroke: #A80036; stroke-width: 1.5;\" x1=\"163\" x2=\"227\" y1=\"323.4375\" y2=\"323.4375\"/><text fill=\"#000000\" font-family=\"sans-serif\" font-size=\"11\" lengthAdjust=\"spacingAndGlyphs\" textLength=\"7\" x=\"168\" y=\"337.6479\">a</text></a><!--MD5=[09b614a08d8cba4a07c9adeb5e0fee81]\n",
       "class E3--><a href=\"psysml:3556ece0-f840-441c-8cd2-5d7027a1a805\" target=\"_top\" title=\"psysml:3556ece0-f840-441c-8cd2-5d7027a1a805\" xlink:actuate=\"onRequest\" xlink:href=\"psysml:3556ece0-f840-441c-8cd2-5d7027a1a805\" xlink:show=\"new\" xlink:title=\"psysml:3556ece0-f840-441c-8cd2-5d7027a1a805\" xlink:type=\"simple\"><rect fill=\"#FEFECE\" filter=\"url(#f1ww0pdq2rcvle)\" height=\"45.9375\" id=\"E3\" style=\"stroke: #A80036; stroke-width: 1.5;\" width=\"66\" x=\"137\" y=\"155\"/><text fill=\"#000000\" font-family=\"sans-serif\" font-size=\"12\" font-style=\"italic\" lengthAdjust=\"spacingAndGlyphs\" textLength=\"64\" x=\"138\" y=\"171.1387\">«part def»</text><text fill=\"#000000\" font-family=\"sans-serif\" font-size=\"12\" lengthAdjust=\"spacingAndGlyphs\" textLength=\"9\" x=\"165.5\" y=\"185.1074\">Q</text><line style=\"stroke: #A80036; stroke-width: 1.5;\" x1=\"138\" x2=\"202\" y1=\"192.9375\" y2=\"192.9375\"/></a><!--MD5=[ebbe1d658d1005bcc118a6aa81145e00]\n",
       "class E4--><a href=\"psysml:c1ea47d2-f15e-4f05-bf93-ec81669ca641\" target=\"_top\" title=\"psysml:c1ea47d2-f15e-4f05-bf93-ec81669ca641\" xlink:actuate=\"onRequest\" xlink:href=\"psysml:c1ea47d2-f15e-4f05-bf93-ec81669ca641\" xlink:show=\"new\" xlink:title=\"psysml:c1ea47d2-f15e-4f05-bf93-ec81669ca641\" xlink:type=\"simple\"><rect fill=\"#FEFECE\" filter=\"url(#f1ww0pdq2rcvle)\" height=\"45.9375\" id=\"E4\" style=\"stroke: #A80036; stroke-width: 1.5;\" width=\"95\" x=\"255.5\" y=\"41\"/><text fill=\"#000000\" font-family=\"sans-serif\" font-size=\"12\" font-style=\"italic\" lengthAdjust=\"spacingAndGlyphs\" textLength=\"93\" x=\"256.5\" y=\"57.1387\">«attribute def»</text><text fill=\"#000000\" font-family=\"sans-serif\" font-size=\"12\" lengthAdjust=\"spacingAndGlyphs\" textLength=\"8\" x=\"299\" y=\"71.1074\">B</text><line style=\"stroke: #A80036; stroke-width: 1.5;\" x1=\"256.5\" x2=\"349.5\" y1=\"78.9375\" y2=\"78.9375\"/></a><!--MD5=[270fce915f116d4de14055a7c1d9a0f3]\n",
       "class E5--><a href=\"psysml:735cd89a-e4b2-4dc5-b3d6-41534f400f39\" target=\"_top\" title=\"psysml:735cd89a-e4b2-4dc5-b3d6-41534f400f39\" xlink:actuate=\"onRequest\" xlink:href=\"psysml:735cd89a-e4b2-4dc5-b3d6-41534f400f39\" xlink:show=\"new\" xlink:title=\"psysml:735cd89a-e4b2-4dc5-b3d6-41534f400f39\" xlink:type=\"simple\"><rect fill=\"#FEFECE\" filter=\"url(#f1ww0pdq2rcvle)\" height=\"45.9375\" id=\"E5\" style=\"stroke: #A80036; stroke-width: 1.5;\" width=\"66\" x=\"315\" y=\"155\"/><text fill=\"#000000\" font-family=\"sans-serif\" font-size=\"12\" font-style=\"italic\" lengthAdjust=\"spacingAndGlyphs\" textLength=\"64\" x=\"316\" y=\"171.1387\">«part def»</text><text fill=\"#000000\" font-family=\"sans-serif\" font-size=\"12\" lengthAdjust=\"spacingAndGlyphs\" textLength=\"8\" x=\"344\" y=\"185.1074\">V</text><line style=\"stroke: #A80036; stroke-width: 1.5;\" x1=\"316\" x2=\"380\" y1=\"192.9375\" y2=\"192.9375\"/></a><!--MD5=[60a26617385b1d2d0262a64233df1f8d]\n",
       "class E6--><a href=\"psysml:0400016e-70f0-4405-a71c-97e49bd60e65\" target=\"_top\" title=\"psysml:0400016e-70f0-4405-a71c-97e49bd60e65\" xlink:actuate=\"onRequest\" xlink:href=\"psysml:0400016e-70f0-4405-a71c-97e49bd60e65\" xlink:show=\"new\" xlink:title=\"psysml:0400016e-70f0-4405-a71c-97e49bd60e65\" xlink:type=\"simple\"><rect fill=\"#FEFECE\" filter=\"url(#f1ww0pdq2rcvle)\" height=\"59.6875\" id=\"E6\" rx=\"10\" ry=\"10\" style=\"stroke: #A80036; stroke-width: 1.5;\" width=\"78\" x=\"280\" y=\"285\"/><text fill=\"#000000\" font-family=\"sans-serif\" font-size=\"12\" font-style=\"italic\" lengthAdjust=\"spacingAndGlyphs\" textLength=\"40\" x=\"299\" y=\"301.1387\">«part»</text><text fill=\"#000000\" font-family=\"sans-serif\" font-size=\"12\" lengthAdjust=\"spacingAndGlyphs\" textLength=\"23\" x=\"307.5\" y=\"315.1074\">x: Q</text><line style=\"stroke: #A80036; stroke-width: 1.5;\" x1=\"281\" x2=\"357\" y1=\"322.9375\" y2=\"322.9375\"/><path d=\"M287.9167,327.8542 L287.9167,337.0208 L288.8333,337.0208 L288.8333,327.8542 M291.5833,327.8542 L291.5833,337.0208 L298.9167,332.4375 L291.5833,327.8542 L292.5,329.2292 L297.5417,332.4375 L292.5,335.6458 L292.5,329.2292 \" fill=\"#000000\" style=\"stroke: ; stroke-width: 0.0; stroke-dasharray: ;\"/><text fill=\"#000000\" font-family=\"sans-serif\" font-size=\"11\" lengthAdjust=\"spacingAndGlyphs\" textLength=\"23\" x=\"303\" y=\"338.0933\">b: B</text><text fill=\"#000000\" font-family=\"sans-serif\" font-size=\"11\" lengthAdjust=\"spacingAndGlyphs\" text-decoration=\"line-through\" textLength=\"22\" x=\"330\" y=\"338.0933\">P::a</text></a><!--MD5=[2156ba9850f5573cc1fc38a6a4b2f02b]\n",
       "class E7--><a href=\"psysml:ac43cc4c-8177-486e-b5a5-e877f62f9bc5\" target=\"_top\" title=\"psysml:ac43cc4c-8177-486e-b5a5-e877f62f9bc5\" xlink:actuate=\"onRequest\" xlink:href=\"psysml:ac43cc4c-8177-486e-b5a5-e877f62f9bc5\" xlink:show=\"new\" xlink:title=\"psysml:ac43cc4c-8177-486e-b5a5-e877f62f9bc5\" xlink:type=\"simple\"><rect fill=\"#FEFECE\" filter=\"url(#f1ww0pdq2rcvle)\" height=\"45.9375\" id=\"E7\" rx=\"10\" ry=\"10\" style=\"stroke: #A80036; stroke-width: 1.5;\" width=\"42\" x=\"149\" y=\"41\"/><text fill=\"#000000\" font-family=\"sans-serif\" font-size=\"12\" font-style=\"italic\" lengthAdjust=\"spacingAndGlyphs\" textLength=\"40\" x=\"150\" y=\"57.1387\">«part»</text><text fill=\"#000000\" font-family=\"sans-serif\" font-size=\"12\" lengthAdjust=\"spacingAndGlyphs\" textLength=\"25\" x=\"157.5\" y=\"71.1074\">q: Q</text><line style=\"stroke: #A80036; stroke-width: 1.5;\" x1=\"150\" x2=\"190\" y1=\"78.9375\" y2=\"78.9375\"/></a><!--MD5=[b9389687b975829384b498ac4b7476b2]\n",
       "class E8--><a href=\"psysml:ce952eae-8bb1-4ad0-9f02-4c42d4c1d0c7\" target=\"_top\" title=\"psysml:ce952eae-8bb1-4ad0-9f02-4c42d4c1d0c7\" xlink:actuate=\"onRequest\" xlink:href=\"psysml:ce952eae-8bb1-4ad0-9f02-4c42d4c1d0c7\" xlink:show=\"new\" xlink:title=\"psysml:ce952eae-8bb1-4ad0-9f02-4c42d4c1d0c7\" xlink:type=\"simple\"><rect fill=\"#FEFECE\" filter=\"url(#f1ww0pdq2rcvle)\" height=\"59.9063\" id=\"E8\" rx=\"10\" ry=\"10\" style=\"stroke: #A80036; stroke-width: 1.5;\" width=\"70\" x=\"32\" y=\"148\"/><text fill=\"#000000\" font-family=\"sans-serif\" font-size=\"12\" font-style=\"italic\" lengthAdjust=\"spacingAndGlyphs\" textLength=\"68\" x=\"33\" y=\"164.1387\">«variation»</text><text fill=\"#000000\" font-family=\"sans-serif\" font-size=\"12\" font-style=\"italic\" lengthAdjust=\"spacingAndGlyphs\" textLength=\"40\" x=\"47\" y=\"178.1074\">«part»</text><text fill=\"#000000\" font-family=\"sans-serif\" font-size=\"12\" lengthAdjust=\"spacingAndGlyphs\" textLength=\"22\" x=\"56\" y=\"192.0762\">v: P</text><line style=\"stroke: #A80036; stroke-width: 1.5;\" x1=\"33\" x2=\"101\" y1=\"199.9063\" y2=\"199.9063\"/></a><!--MD5=[fd4143e9d270a159db93a4ea2a975926]\n",
       "class E9--><a href=\"psysml:572dfe4e-6d7c-4ba8-94a3-d7ce0272bed9\" target=\"_top\" title=\"psysml:572dfe4e-6d7c-4ba8-94a3-d7ce0272bed9\" xlink:actuate=\"onRequest\" xlink:href=\"psysml:572dfe4e-6d7c-4ba8-94a3-d7ce0272bed9\" xlink:show=\"new\" xlink:title=\"psysml:572dfe4e-6d7c-4ba8-94a3-d7ce0272bed9\" xlink:type=\"simple\"><rect fill=\"#FEFECE\" filter=\"url(#f1ww0pdq2rcvle)\" height=\"59.6875\" id=\"E9\" rx=\"10\" ry=\"10\" style=\"stroke: #A80036; stroke-width: 1.5;\" width=\"78\" x=\"32\" y=\"285\"/><text fill=\"#000000\" font-family=\"sans-serif\" font-size=\"12\" font-style=\"italic\" lengthAdjust=\"spacingAndGlyphs\" textLength=\"75\" x=\"33.5\" y=\"301.1387\">«reference»</text><text fill=\"#000000\" font-family=\"sans-serif\" font-size=\"12\" lengthAdjust=\"spacingAndGlyphs\" textLength=\"8\" x=\"67\" y=\"315.1074\">q</text><line style=\"stroke: #A80036; stroke-width: 1.5;\" x1=\"33\" x2=\"109\" y1=\"322.9375\" y2=\"322.9375\"/><path d=\"M39.9167,327.8542 L39.9167,337.0208 L40.8333,337.0208 L40.8333,327.8542 M43.5833,327.8542 L43.5833,337.0208 L50.9167,332.4375 L43.5833,327.8542 L44.5,329.2292 L49.5417,332.4375 L44.5,335.6458 L44.5,329.2292 \" fill=\"#000000\" style=\"stroke: ; stroke-width: 0.0; stroke-dasharray: ;\"/><text fill=\"#000000\" font-family=\"sans-serif\" font-size=\"11\" lengthAdjust=\"spacingAndGlyphs\" textLength=\"23\" x=\"55\" y=\"338.0933\">b: B</text><text fill=\"#000000\" font-family=\"sans-serif\" font-size=\"11\" lengthAdjust=\"spacingAndGlyphs\" text-decoration=\"line-through\" textLength=\"22\" x=\"82\" y=\"338.0933\">P::a</text></a><!--MD5=[96f4274e9e20536e775497830990834d]\n",
       "class E10--><a href=\"psysml:983a8093-9810-4637-96cc-9ee8fb3d9cf5\" target=\"_top\" title=\"psysml:983a8093-9810-4637-96cc-9ee8fb3d9cf5\" xlink:actuate=\"onRequest\" xlink:href=\"psysml:983a8093-9810-4637-96cc-9ee8fb3d9cf5\" xlink:show=\"new\" xlink:title=\"psysml:983a8093-9810-4637-96cc-9ee8fb3d9cf5\" xlink:type=\"simple\"><rect fill=\"#FEFECE\" filter=\"url(#f1ww0pdq2rcvle)\" height=\"45.9375\" id=\"E10\" rx=\"10\" ry=\"10\" style=\"stroke: #A80036; stroke-width: 1.5;\" width=\"42\" x=\"238\" y=\"155\"/><text fill=\"#000000\" font-family=\"sans-serif\" font-size=\"12\" font-style=\"italic\" lengthAdjust=\"spacingAndGlyphs\" textLength=\"40\" x=\"239\" y=\"171.1387\">«part»</text><text fill=\"#000000\" font-family=\"sans-serif\" font-size=\"12\" lengthAdjust=\"spacingAndGlyphs\" textLength=\"22\" x=\"248\" y=\"185.1074\">y: P</text><line style=\"stroke: #A80036; stroke-width: 1.5;\" x1=\"239\" x2=\"279\" y1=\"192.9375\" y2=\"192.9375\"/></a><!--MD5=[05d275557350bfb9b23a4ef7222b4c39]\n",
       "link E3 to E2--><a href=\"psysml:9e57242c-9184-4252-9565-bec20c63fdb8\" target=\"_top\" title=\"psysml:9e57242c-9184-4252-9565-bec20c63fdb8\" xlink:actuate=\"onRequest\" xlink:href=\"psysml:9e57242c-9184-4252-9565-bec20c63fdb8\" xlink:show=\"new\" xlink:title=\"psysml:9e57242c-9184-4252-9565-bec20c63fdb8\" xlink:type=\"simple\"><path d=\"M174.13,201.29 C177.34,218.66 181.93,243.41 185.98,265.3 \" fill=\"none\" id=\"E3-&gt;E2\" style=\"stroke: #A80036; stroke-width: 1.0;\"/><polygon fill=\"none\" points=\"192.88,264.14,189.64,285.08,179.12,266.68,192.88,264.14\" style=\"stroke: #A80036; stroke-width: 1.0;\"/></a><!--MD5=[15ebcb19ae302d9b601edb458606d402]\n",
       "link E5 to E2--><a href=\"psysml:5cdbdbe7-d14c-45c9-a804-61f18115238e\" target=\"_top\" title=\"psysml:5cdbdbe7-d14c-45c9-a804-61f18115238e\" xlink:actuate=\"onRequest\" xlink:href=\"psysml:5cdbdbe7-d14c-45c9-a804-61f18115238e\" xlink:show=\"new\" xlink:title=\"psysml:5cdbdbe7-d14c-45c9-a804-61f18115238e\" xlink:type=\"simple\"><path d=\"M322.74,201.29 C301.06,220.42 269.21,248.52 242.75,271.87 \" fill=\"none\" id=\"E5-&gt;E2\" style=\"stroke: #A80036; stroke-width: 1.0;\"/><polygon fill=\"none\" points=\"247.13,277.34,227.5,285.32,237.87,266.84,247.13,277.34\" style=\"stroke: #A80036; stroke-width: 1.0;\"/></a><!--MD5=[9120cf2e5df3bff93db8f754bbbc09b4]\n",
       "link E5 to E6--><a href=\"psysml:052c6ce9-d9db-4da6-90c4-ac16555550ac\" target=\"_top\" title=\"psysml:052c6ce9-d9db-4da6-90c4-ac16555550ac\" xlink:actuate=\"onRequest\" xlink:href=\"psysml:052c6ce9-d9db-4da6-90c4-ac16555550ac\" xlink:show=\"new\" xlink:title=\"psysml:052c6ce9-d9db-4da6-90c4-ac16555550ac\" xlink:type=\"simple\"><path d=\"M341.07,211.28 C336.97,230.34 331.76,254.6 327.43,274.76 \" fill=\"none\" id=\"E5-E6\" style=\"stroke: #A80036; stroke-width: 1.0;\"/><polygon fill=\"#A80036\" points=\"325.32,284.58,329.9339,277.3889,324.0679,276.1282,325.32,284.58\" style=\"stroke: #A80036; stroke-width: 1.0;\"/><path d=\"M334.2948,202.5225 A9,9 0 0 0 350.8317 206.0765\" fill=\"none\" style=\"stroke: #A80036; stroke-width: 1.5;\"/><text fill=\"#000000\" font-family=\"sans-serif\" font-size=\"13\" lengthAdjust=\"spacingAndGlyphs\" textLength=\"60\" x=\"336\" y=\"251.0669\">«variant»</text></a><!--MD5=[14ccda38c055a5c0da953d572bc50960]\n",
       "link E7 to E3--><a href=\"psysml:648145d1-1ec9-42fc-8307-fa8910350658\" target=\"_top\" title=\"psysml:648145d1-1ec9-42fc-8307-fa8910350658\" xlink:actuate=\"onRequest\" xlink:href=\"psysml:648145d1-1ec9-42fc-8307-fa8910350658\" xlink:show=\"new\" xlink:title=\"psysml:648145d1-1ec9-42fc-8307-fa8910350658\" xlink:type=\"simple\"><path d=\"M170,87.13 C170,100.7 170,118.53 170,134.73 \" fill=\"none\" id=\"E7-&gt;E3\" style=\"stroke: #A80036; stroke-width: 1.0;\"/><polygon fill=\"#FFFFFF\" points=\"170,154.92,163,135.92,177,135.92,170,154.92\" style=\"stroke: #A80036; stroke-width: 1.0;\"/><ellipse cx=\"165\" cy=\"130.22\" fill=\"#A80036\" rx=\"2\" ry=\"2\" style=\"stroke: #A80036; stroke-width: 1.0;\"/><ellipse cx=\"175\" cy=\"130.22\" fill=\"#A80036\" rx=\"2\" ry=\"2\" style=\"stroke: #A80036; stroke-width: 1.0;\"/></a><!--MD5=[f1f3f9f2fc535e6147756cb86a7f2e32]\n",
       "link E8 to E2--><a href=\"psysml:19cda0c9-2775-4d9d-8cd8-191c5ad52b34\" target=\"_top\" title=\"psysml:19cda0c9-2775-4d9d-8cd8-191c5ad52b34\" xlink:actuate=\"onRequest\" xlink:href=\"psysml:19cda0c9-2775-4d9d-8cd8-191c5ad52b34\" xlink:show=\"new\" xlink:title=\"psysml:19cda0c9-2775-4d9d-8cd8-191c5ad52b34\" xlink:type=\"simple\"><path d=\"M102.23,204.97 C114.45,214.72 127.87,226.28 139,238 C147.93,247.4 156.69,258.25 164.53,268.75 \" fill=\"none\" id=\"E8-&gt;E2\" style=\"stroke: #A80036; stroke-width: 1.0;\"/><polygon fill=\"#FFFFFF\" points=\"176.35,285.25,159.5896,273.8883,170.967,265.7302,176.35,285.25\" style=\"stroke: #A80036; stroke-width: 1.0;\"/><ellipse cx=\"157.8934\" cy=\"268.0907\" fill=\"#A80036\" rx=\"2\" ry=\"2\" style=\"stroke: #A80036; stroke-width: 1.0;\"/><ellipse cx=\"166.0201\" cy=\"262.2634\" fill=\"#A80036\" rx=\"2\" ry=\"2\" style=\"stroke: #A80036; stroke-width: 1.0;\"/></a><!--MD5=[ed10624c06dd9a4fa49ccf290e8b16a8]\n",
       "link E8 to E9--><a href=\"psysml:28d39c7a-e0c7-42b0-858e-2cb4e488f108\" target=\"_top\" title=\"psysml:28d39c7a-e0c7-42b0-858e-2cb4e488f108\" xlink:actuate=\"onRequest\" xlink:href=\"psysml:28d39c7a-e0c7-42b0-858e-2cb4e488f108\" xlink:show=\"new\" xlink:title=\"psysml:28d39c7a-e0c7-42b0-858e-2cb4e488f108\" xlink:type=\"simple\"><path d=\"M68.16,218.31 C68.69,236.06 69.31,256.98 69.84,274.73 \" fill=\"none\" id=\"E8-E9\" style=\"stroke: #A80036; stroke-width: 1.0;\"/><polygon fill=\"#A80036\" points=\"70.13,284.76,72.8888,276.6736,66.8915,276.8536,70.13,284.76\" style=\"stroke: #A80036; stroke-width: 1.0;\"/><path d=\"M59.509,211.6208 A9,9 0 0 0 76.4159 211.1128\" fill=\"none\" style=\"stroke: #A80036; stroke-width: 1.5;\"/><text fill=\"#000000\" font-family=\"sans-serif\" font-size=\"13\" lengthAdjust=\"spacingAndGlyphs\" textLength=\"60\" x=\"70\" y=\"251.0669\">«variant»</text></a><!--MD5=[0f36bececdf0dff6e600d6f64214b0f1]\n",
       "link E10 to E2--><a href=\"psysml:8cfcd01d-a74f-43be-a680-d41b6ee6accc\" target=\"_top\" title=\"psysml:8cfcd01d-a74f-43be-a680-d41b6ee6accc\" xlink:actuate=\"onRequest\" xlink:href=\"psysml:8cfcd01d-a74f-43be-a680-d41b6ee6accc\" xlink:show=\"new\" xlink:title=\"psysml:8cfcd01d-a74f-43be-a680-d41b6ee6accc\" xlink:type=\"simple\"><path d=\"M248.43,201.29 C239.99,219.11 227.86,244.69 217.29,266.99 \" fill=\"none\" id=\"E10-&gt;E2\" style=\"stroke: #A80036; stroke-width: 1.0;\"/><polygon fill=\"#FFFFFF\" points=\"208.71,285.08,210.5216,264.9127,223.1727,270.9085,208.71,285.08\" style=\"stroke: #A80036; stroke-width: 1.0;\"/><ellipse cx=\"214.77\" cy=\"260.6185\" fill=\"#A80036\" rx=\"2\" ry=\"2\" style=\"stroke: #A80036; stroke-width: 1.0;\"/><ellipse cx=\"223.8065\" cy=\"264.9012\" fill=\"#A80036\" rx=\"2\" ry=\"2\" style=\"stroke: #A80036; stroke-width: 1.0;\"/></a><!--MD5=[a0c2028eab1ff41ad5c718c7b71a8b9c]\n",
       "@startuml\r\n",
       "skinparam wrapWidth 300\r\n",
       "hide circle\r\n",
       "\r\n",
       "package \"VariabilityTest\" as E1  [[psysml:c9192910-aa77-45a9-9ae3-16f7deb9d13d ]]  {\r\n",
       "comp def \"P\" as E2  <<(T,blue)part def>> [[psysml:28b4b804-815b-4815-9c5e-e5b09d6ccef7 ]] {\r\n",
       "a\r\n",
       "}\r\n",
       "comp def \"Q\" as E3  <<(T,blue)part def>> [[psysml:3556ece0-f840-441c-8cd2-5d7027a1a805 ]] {\r\n",
       "}\r\n",
       "comp def \"B\" as E4  <<(T,blue)attribute def>> [[psysml:c1ea47d2-f15e-4f05-bf93-ec81669ca641 ]] {\r\n",
       "}\r\n",
       "comp def \"V\" as E5  <<(T,blue)part def>> [[psysml:735cd89a-e4b2-4dc5-b3d6-41534f400f39 ]] {\r\n",
       "}\r\n",
       "comp usage \"x: Q\" as E6  <<(T,blue)part>> [[psysml:0400016e-70f0-4405-a71c-97e49bd60e65 ]] {\r\n",
       "<&bar-trig> b: B <s>P::a</s>\r\n",
       "}\r\n",
       "comp usage \"q: Q\" as E7  <<(T,blue)part>> [[psysml:ac43cc4c-8177-486e-b5a5-e877f62f9bc5 ]] {\r\n",
       "}\r\n",
       "comp usage \"v: P\" as E8  <<variation>>\\n <<(T,blue)part>> [[psysml:ce952eae-8bb1-4ad0-9f02-4c42d4c1d0c7 ]] {\r\n",
       "}\r\n",
       "comp usage \"q\" as E9  <<(T,blue)reference>> [[psysml:572dfe4e-6d7c-4ba8-94a3-d7ce0272bed9 ]] {\r\n",
       "<&bar-trig> b: B <s>P::a</s>\r\n",
       "}\r\n",
       "comp usage \"y: P\" as E10  <<(T,blue)part>> [[psysml:983a8093-9810-4637-96cc-9ee8fb3d9cf5 ]] {\r\n",
       "}\r\n",
       "E3 - -|> E2 [[psysml:9e57242c-9184-4252-9565-bec20c63fdb8 ]] \r\n",
       "E5 - -|> E2 [[psysml:5cdbdbe7-d14c-45c9-a804-61f18115238e ]] \r\n",
       "E5 )- ->> E6 [[psysml:052c6ce9-d9db-4da6-90c4-ac16555550ac ]] : <<variant>>\r\n",
       "E7 - -:|> E3 [[psysml:648145d1-1ec9-42fc-8307-fa8910350658 ]] \r\n",
       "E8 - -:|> E2 [[psysml:19cda0c9-2775-4d9d-8cd8-191c5ad52b34 ]] \r\n",
       "E8 )- ->> E9 [[psysml:28d39c7a-e0c7-42b0-858e-2cb4e488f108 ]] : <<variant>>\r\n",
       "E10 - -:|> E2 [[psysml:8cfcd01d-a74f-43be-a680-d41b6ee6accc ]] \r\n",
       "}\r\n",
       "@enduml\r\n",
       "\n",
       "PlantUML version 1.2020.13(Sat Jun 13 12:26:38 UTC 2020)\n",
       "(EPL source distribution)\n",
       "Java Runtime: OpenJDK Runtime Environment\n",
       "JVM: OpenJDK 64-Bit Server VM\n",
       "Default Encoding: UTF-8\n",
       "Language: en\n",
       "Country: null\n",
       "--></g></svg>"
      ]
     },
     "execution_count": 24,
     "metadata": {},
     "output_type": "execute_result"
    }
   ],
   "source": [
    "%viz --style=\"STDCOLOR\" --view=\"Tree\" \"VariabilityTest\""
   ]
  },
  {
   "cell_type": "code",
   "execution_count": 25,
   "id": "479cbb0e",
   "metadata": {
    "execution": {
     "iopub.execute_input": "2021-05-28T10:47:56.166140Z",
     "iopub.status.busy": "2021-05-28T10:47:56.165793Z",
     "iopub.status.idle": "2021-05-28T10:47:56.171540Z",
     "shell.execute_reply": "2021-05-28T10:47:56.171186Z"
    }
   },
   "outputs": [
    {
     "data": {
      "image/svg+xml": [
       "<?xml version=\"1.0\" encoding=\"UTF-8\" standalone=\"no\"?><svg xmlns=\"http://www.w3.org/2000/svg\" xmlns:xlink=\"http://www.w3.org/1999/xlink\" contentScriptType=\"application/ecmascript\" contentStyleType=\"text/css\" height=\"12px\" preserveAspectRatio=\"none\" style=\"width:12px;height:12px;\" version=\"1.1\" viewBox=\"0 0 12 12\" width=\"12px\" zoomAndPan=\"magnify\"><defs/><g><!--MD5=[aeeef50f102b80d730deb6443d14f702]\n",
       "@startuml\r\n",
       "skinparam wrapWidth 300\r\n",
       "hide circle\r\n",
       "\r\n",
       "@enduml\r\n",
       "\n",
       "PlantUML version 1.2020.13(Sat Jun 13 12:26:38 UTC 2020)\n",
       "(EPL source distribution)\n",
       "Java Runtime: OpenJDK Runtime Environment\n",
       "JVM: OpenJDK 64-Bit Server VM\n",
       "Default Encoding: UTF-8\n",
       "Language: en\n",
       "Country: null\n",
       "--></g></svg>"
      ]
     },
     "execution_count": 25,
     "metadata": {},
     "output_type": "execute_result"
    }
   ],
   "source": [
    "%viz --style=\"STDCOLOR\" --view=\"State\" \"VariabilityTest\""
   ]
  },
  {
   "cell_type": "code",
   "execution_count": 26,
   "id": "63d34308",
   "metadata": {
    "execution": {
     "iopub.execute_input": "2021-05-28T10:47:56.221456Z",
     "iopub.status.busy": "2021-05-28T10:47:56.220858Z",
     "iopub.status.idle": "2021-05-28T10:47:56.272244Z",
     "shell.execute_reply": "2021-05-28T10:47:56.270777Z"
    }
   },
   "outputs": [
    {
     "data": {
      "image/svg+xml": [
       "<?xml version=\"1.0\" encoding=\"UTF-8\" standalone=\"no\"?><svg xmlns=\"http://www.w3.org/2000/svg\" xmlns:xlink=\"http://www.w3.org/1999/xlink\" contentScriptType=\"application/ecmascript\" contentStyleType=\"text/css\" height=\"399px\" preserveAspectRatio=\"none\" style=\"width:793px;height:399px;\" version=\"1.1\" viewBox=\"0 0 793 399\" width=\"793px\" zoomAndPan=\"magnify\"><defs><filter height=\"300%\" id=\"fo60g846jyq76\" width=\"300%\" x=\"-1\" y=\"-1\"><feGaussianBlur result=\"blurOut\" stdDeviation=\"2.0\"/><feColorMatrix in=\"blurOut\" result=\"blurOut2\" type=\"matrix\" values=\"0 0 0 0 0 0 0 0 0 0 0 0 0 0 0 0 0 0 .4 0\"/><feOffset dx=\"4.0\" dy=\"4.0\" in=\"blurOut2\" result=\"blurOut3\"/><feBlend in=\"SourceGraphic\" in2=\"blurOut3\" mode=\"normal\"/></filter></defs><g><!--MD5=[fbc87193dbaf4d95561dea2c320d4a47]\n",
       "cluster E1--><a href=\"psysml:c9192910-aa77-45a9-9ae3-16f7deb9d13d\" target=\"_top\" title=\"psysml:c9192910-aa77-45a9-9ae3-16f7deb9d13d\" xlink:actuate=\"onRequest\" xlink:href=\"psysml:c9192910-aa77-45a9-9ae3-16f7deb9d13d\" xlink:show=\"new\" xlink:title=\"psysml:c9192910-aa77-45a9-9ae3-16f7deb9d13d\" xlink:type=\"simple\"><polygon fill=\"#FFFFFF\" filter=\"url(#fo60g846jyq76)\" points=\"16,6,134,6,141,28.2969,771,28.2969,771,387,16,387,16,6\" style=\"stroke: #000000; stroke-width: 1.5;\"/><line style=\"stroke: #000000; stroke-width: 1.5;\" x1=\"16\" x2=\"141\" y1=\"28.2969\" y2=\"28.2969\"/><text fill=\"#000000\" font-family=\"sans-serif\" font-size=\"14\" font-weight=\"bold\" lengthAdjust=\"spacingAndGlyphs\" textLength=\"112\" x=\"20\" y=\"20.9951\">VariabilityTest</text></a><!--MD5=[e4f7fae6ed58524ba242bb0b0d3be6b7]\n",
       "cluster E2--><a href=\"psysml:28b4b804-815b-4815-9c5e-e5b09d6ccef7\" target=\"_top\" title=\"psysml:28b4b804-815b-4815-9c5e-e5b09d6ccef7\" xlink:actuate=\"onRequest\" xlink:href=\"psysml:28b4b804-815b-4815-9c5e-e5b09d6ccef7\" xlink:show=\"new\" xlink:title=\"psysml:28b4b804-815b-4815-9c5e-e5b09d6ccef7\" xlink:type=\"simple\"><rect fill=\"#FFFFFF\" filter=\"url(#fo60g846jyq76)\" height=\"129\" id=\"E2\" style=\"stroke: #A80036; stroke-width: 1.5;\" width=\"139\" x=\"424\" y=\"226\"/><rect fill=\"#FEFECE\" height=\"37.9375\" style=\"stroke: #A80036; stroke-width: 1.5;\" width=\"139\" x=\"424\" y=\"226\"/><text fill=\"#000000\" font-family=\"sans-serif\" font-size=\"12\" font-style=\"italic\" lengthAdjust=\"spacingAndGlyphs\" textLength=\"64\" x=\"461.5\" y=\"242.1387\">«part def»</text><text fill=\"#000000\" font-family=\"sans-serif\" font-size=\"12\" lengthAdjust=\"spacingAndGlyphs\" textLength=\"8\" x=\"489.5\" y=\"256.1074\">P</text></a><!--MD5=[14e3b0961a2654348d326746436168a1]\n",
       "cluster E6--><a href=\"psysml:735cd89a-e4b2-4dc5-b3d6-41534f400f39\" target=\"_top\" title=\"psysml:735cd89a-e4b2-4dc5-b3d6-41534f400f39\" xlink:actuate=\"onRequest\" xlink:href=\"psysml:735cd89a-e4b2-4dc5-b3d6-41534f400f39\" xlink:show=\"new\" xlink:title=\"psysml:735cd89a-e4b2-4dc5-b3d6-41534f400f39\" xlink:type=\"simple\"><rect fill=\"#FFFFFF\" filter=\"url(#fo60g846jyq76)\" height=\"129\" id=\"E6\" style=\"stroke: #A80036; stroke-width: 1.5;\" width=\"145\" x=\"594\" y=\"57\"/><rect fill=\"#FEFECE\" height=\"37.9375\" style=\"stroke: #A80036; stroke-width: 1.5;\" width=\"145\" x=\"594\" y=\"57\"/><text fill=\"#000000\" font-family=\"sans-serif\" font-size=\"12\" font-style=\"italic\" lengthAdjust=\"spacingAndGlyphs\" textLength=\"64\" x=\"634.5\" y=\"73.1387\">«part def»</text><text fill=\"#000000\" font-family=\"sans-serif\" font-size=\"12\" lengthAdjust=\"spacingAndGlyphs\" textLength=\"8\" x=\"662.5\" y=\"87.1074\">V</text></a><!--MD5=[7f149f147074ac12df2cb0a7728a5fb0]\n",
       "cluster E9--><a href=\"psysml:ce952eae-8bb1-4ad0-9f02-4c42d4c1d0c7\" target=\"_top\" title=\"psysml:ce952eae-8bb1-4ad0-9f02-4c42d4c1d0c7\" xlink:actuate=\"onRequest\" xlink:href=\"psysml:ce952eae-8bb1-4ad0-9f02-4c42d4c1d0c7\" xlink:show=\"new\" xlink:title=\"psysml:ce952eae-8bb1-4ad0-9f02-4c42d4c1d0c7\" xlink:type=\"simple\"><rect fill=\"#FFFFFF\" filter=\"url(#fo60g846jyq76)\" height=\"127\" id=\"E9\" rx=\"10\" ry=\"10\" style=\"stroke: #A80036; stroke-width: 1.5;\" width=\"110\" x=\"452\" y=\"58\"/><rect fill=\"#FEFECE\" height=\"37.9375\" rx=\"10\" ry=\"10\" style=\"stroke: #FEFECE; stroke-width: 1.5;\" width=\"110\" x=\"452\" y=\"58\"/><rect fill=\"#FEFECE\" height=\"10\" style=\"stroke: #FEFECE; stroke-width: 1.5;\" width=\"110\" x=\"452\" y=\"85.9375\"/><rect fill=\"none\" height=\"127\" id=\"E9\" rx=\"10\" ry=\"10\" style=\"stroke: #A80036; stroke-width: 1.5;\" width=\"110\" x=\"452\" y=\"58\"/><text fill=\"#000000\" font-family=\"sans-serif\" font-size=\"12\" font-style=\"italic\" lengthAdjust=\"spacingAndGlyphs\" textLength=\"68\" x=\"473\" y=\"74.1387\">«variation»</text><text fill=\"#000000\" font-family=\"sans-serif\" font-size=\"12\" lengthAdjust=\"spacingAndGlyphs\" textLength=\"22\" x=\"496\" y=\"88.1074\">v: P</text><line style=\"stroke: #A80036; stroke-width: 1.0;\" x1=\"452\" x2=\"562\" y1=\"95.9375\" y2=\"95.9375\"/></a><g id=\"E1.E5\"><a href=\"psysml:c1ea47d2-f15e-4f05-bf93-ec81669ca641\" target=\"_top\" title=\"psysml:c1ea47d2-f15e-4f05-bf93-ec81669ca641\" xlink:actuate=\"onRequest\" xlink:href=\"psysml:c1ea47d2-f15e-4f05-bf93-ec81669ca641\" xlink:show=\"new\" xlink:title=\"psysml:c1ea47d2-f15e-4f05-bf93-ec81669ca641\" xlink:type=\"simple\"><rect fill=\"#FEFECE\" filter=\"url(#fo60g846jyq76)\" height=\"42.9375\" id=\"E5\" style=\"stroke: #A80036; stroke-width: 1.5;\" width=\"100\" x=\"333\" y=\"117.5\"/><text fill=\"#000000\" font-family=\"sans-serif\" font-size=\"12\" font-style=\"italic\" lengthAdjust=\"spacingAndGlyphs\" textLength=\"93\" x=\"336.5\" y=\"133.6387\">«attribute def»</text><text fill=\"#000000\" font-family=\"sans-serif\" font-size=\"12\" lengthAdjust=\"spacingAndGlyphs\" textLength=\"8\" x=\"379\" y=\"147.6074\">B</text></a></g><!--MD5=[09b614a08d8cba4a07c9adeb5e0fee81]\n",
       "class E3--><a href=\"psysml:29e7d07c-e0ef-43b2-a175-0967043bb668\" target=\"_top\" title=\"psysml:29e7d07c-e0ef-43b2-a175-0967043bb668\" xlink:actuate=\"onRequest\" xlink:href=\"psysml:29e7d07c-e0ef-43b2-a175-0967043bb668\" xlink:show=\"new\" xlink:title=\"psysml:29e7d07c-e0ef-43b2-a175-0967043bb668\" xlink:type=\"simple\"><rect fill=\"#FEFECE\" filter=\"url(#fo60g846jyq76)\" height=\"45.9375\" id=\"E3\" rx=\"10\" ry=\"10\" style=\"stroke: #A80036; stroke-width: 1.5;\" width=\"71\" x=\"467.5\" y=\"285\"/><text fill=\"#000000\" font-family=\"sans-serif\" font-size=\"12\" font-style=\"italic\" lengthAdjust=\"spacingAndGlyphs\" textLength=\"69\" x=\"468.5\" y=\"301.1387\">«attribute»</text><text fill=\"#000000\" font-family=\"sans-serif\" font-size=\"12\" lengthAdjust=\"spacingAndGlyphs\" textLength=\"8\" x=\"499\" y=\"315.1074\">a</text><line style=\"stroke: #A80036; stroke-width: 1.5;\" x1=\"468.5\" x2=\"537.5\" y1=\"322.9375\" y2=\"322.9375\"/></a><g id=\"E1.E4\"><a href=\"psysml:3556ece0-f840-441c-8cd2-5d7027a1a805\" target=\"_top\" title=\"psysml:3556ece0-f840-441c-8cd2-5d7027a1a805\" xlink:actuate=\"onRequest\" xlink:href=\"psysml:3556ece0-f840-441c-8cd2-5d7027a1a805\" xlink:show=\"new\" xlink:title=\"psysml:3556ece0-f840-441c-8cd2-5d7027a1a805\" xlink:type=\"simple\"><rect fill=\"#FEFECE\" filter=\"url(#fo60g846jyq76)\" height=\"42.9375\" id=\"E4\" style=\"stroke: #A80036; stroke-width: 1.5;\" width=\"71\" x=\"226.5\" y=\"117.5\"/><text fill=\"#000000\" font-family=\"sans-serif\" font-size=\"12\" font-style=\"italic\" lengthAdjust=\"spacingAndGlyphs\" textLength=\"64\" x=\"230\" y=\"133.6387\">«part def»</text><text fill=\"#000000\" font-family=\"sans-serif\" font-size=\"12\" lengthAdjust=\"spacingAndGlyphs\" textLength=\"9\" x=\"257.5\" y=\"147.6074\">Q</text></a></g><!--MD5=[2156ba9850f5573cc1fc38a6a4b2f02b]\n",
       "class E7--><a href=\"psysml:0400016e-70f0-4405-a71c-97e49bd60e65\" target=\"_top\" title=\"psysml:0400016e-70f0-4405-a71c-97e49bd60e65\" xlink:actuate=\"onRequest\" xlink:href=\"psysml:0400016e-70f0-4405-a71c-97e49bd60e65\" xlink:show=\"new\" xlink:title=\"psysml:0400016e-70f0-4405-a71c-97e49bd60e65\" xlink:type=\"simple\"><rect fill=\"#FEFECE\" filter=\"url(#fo60g846jyq76)\" height=\"45.7188\" id=\"E7\" rx=\"10\" ry=\"10\" style=\"stroke: #A80036; stroke-width: 1.5;\" width=\"78\" x=\"637\" y=\"116\"/><text fill=\"#000000\" font-family=\"sans-serif\" font-size=\"12\" lengthAdjust=\"spacingAndGlyphs\" textLength=\"23\" x=\"664.5\" y=\"132.1387\">x: Q</text><line style=\"stroke: #A80036; stroke-width: 1.5;\" x1=\"638\" x2=\"714\" y1=\"139.9688\" y2=\"139.9688\"/><path d=\"M644.9167,144.8854 L644.9167,154.0521 L645.8333,154.0521 L645.8333,144.8854 M648.5833,144.8854 L648.5833,154.0521 L655.9167,149.4688 L648.5833,144.8854 L649.5,146.2604 L654.5417,149.4688 L649.5,152.6771 L649.5,146.2604 \" fill=\"#000000\" style=\"stroke: ; stroke-width: 0.0; stroke-dasharray: ;\"/><text fill=\"#000000\" font-family=\"sans-serif\" font-size=\"11\" lengthAdjust=\"spacingAndGlyphs\" textLength=\"23\" x=\"660\" y=\"155.1245\">b: B</text><text fill=\"#000000\" font-family=\"sans-serif\" font-size=\"11\" lengthAdjust=\"spacingAndGlyphs\" text-decoration=\"line-through\" textLength=\"22\" x=\"687\" y=\"155.1245\">P::a</text></a><g id=\"E1.E8\"><a href=\"psysml:ac43cc4c-8177-486e-b5a5-e877f62f9bc5\" target=\"_top\" title=\"psysml:ac43cc4c-8177-486e-b5a5-e877f62f9bc5\" xlink:actuate=\"onRequest\" xlink:href=\"psysml:ac43cc4c-8177-486e-b5a5-e877f62f9bc5\" xlink:show=\"new\" xlink:title=\"psysml:ac43cc4c-8177-486e-b5a5-e877f62f9bc5\" xlink:type=\"simple\"><rect fill=\"#FEFECE\" filter=\"url(#fo60g846jyq76)\" height=\"40\" id=\"E8\" rx=\"10\" ry=\"10\" style=\"stroke: #A80036; stroke-width: 1.5;\" width=\"50\" x=\"141\" y=\"119\"/><text fill=\"#000000\" font-family=\"sans-serif\" font-size=\"12\" lengthAdjust=\"spacingAndGlyphs\" textLength=\"25\" x=\"153.5\" y=\"135.1387\">q: Q</text></a></g><!--MD5=[96f4274e9e20536e775497830990834d]\n",
       "class E10--><a href=\"psysml:572dfe4e-6d7c-4ba8-94a3-d7ce0272bed9\" target=\"_top\" title=\"psysml:572dfe4e-6d7c-4ba8-94a3-d7ce0272bed9\" xlink:actuate=\"onRequest\" xlink:href=\"psysml:572dfe4e-6d7c-4ba8-94a3-d7ce0272bed9\" xlink:show=\"new\" xlink:title=\"psysml:572dfe4e-6d7c-4ba8-94a3-d7ce0272bed9\" xlink:type=\"simple\"><rect fill=\"#FEFECE\" filter=\"url(#fo60g846jyq76)\" height=\"59.6875\" id=\"E10\" rx=\"10\" ry=\"10\" style=\"stroke: #A80036; stroke-width: 1.5;\" width=\"78\" x=\"468\" y=\"109\"/><text fill=\"#000000\" font-family=\"sans-serif\" font-size=\"12\" font-style=\"italic\" lengthAdjust=\"spacingAndGlyphs\" textLength=\"75\" x=\"469.5\" y=\"125.1387\">«reference»</text><text fill=\"#000000\" font-family=\"sans-serif\" font-size=\"12\" lengthAdjust=\"spacingAndGlyphs\" textLength=\"8\" x=\"503\" y=\"139.1074\">q</text><line style=\"stroke: #A80036; stroke-width: 1.5;\" x1=\"469\" x2=\"545\" y1=\"146.9375\" y2=\"146.9375\"/><path d=\"M475.9167,151.8542 L475.9167,161.0208 L476.8333,161.0208 L476.8333,151.8542 M479.5833,151.8542 L479.5833,161.0208 L486.9167,156.4375 L479.5833,151.8542 L480.5,153.2292 L485.5417,156.4375 L480.5,159.6458 L480.5,153.2292 \" fill=\"#000000\" style=\"stroke: ; stroke-width: 0.0; stroke-dasharray: ;\"/><text fill=\"#000000\" font-family=\"sans-serif\" font-size=\"11\" lengthAdjust=\"spacingAndGlyphs\" textLength=\"23\" x=\"491\" y=\"162.0933\">b: B</text><text fill=\"#000000\" font-family=\"sans-serif\" font-size=\"11\" lengthAdjust=\"spacingAndGlyphs\" text-decoration=\"line-through\" textLength=\"22\" x=\"518\" y=\"162.0933\">P::a</text></a><g id=\"E1.E11\"><a href=\"psysml:983a8093-9810-4637-96cc-9ee8fb3d9cf5\" target=\"_top\" title=\"psysml:983a8093-9810-4637-96cc-9ee8fb3d9cf5\" xlink:actuate=\"onRequest\" xlink:href=\"psysml:983a8093-9810-4637-96cc-9ee8fb3d9cf5\" xlink:show=\"new\" xlink:title=\"psysml:983a8093-9810-4637-96cc-9ee8fb3d9cf5\" xlink:type=\"simple\"><rect fill=\"#FEFECE\" filter=\"url(#fo60g846jyq76)\" height=\"40\" id=\"E11\" rx=\"10\" ry=\"10\" style=\"stroke: #A80036; stroke-width: 1.5;\" width=\"73\" x=\"32.5\" y=\"119\"/><text fill=\"#000000\" font-family=\"sans-serif\" font-size=\"12\" lengthAdjust=\"spacingAndGlyphs\" textLength=\"58\" x=\"38\" y=\"135.1387\">y: P=v::q;</text></a></g><!--MD5=[185131fc0dcab0a4505a2ebe144e961b]\n",
       "link E4 to E2--><a href=\"psysml:9e57242c-9184-4252-9565-bec20c63fdb8\" target=\"_top\" title=\"psysml:9e57242c-9184-4252-9565-bec20c63fdb8\" xlink:actuate=\"onRequest\" xlink:href=\"psysml:9e57242c-9184-4252-9565-bec20c63fdb8\" xlink:show=\"new\" xlink:title=\"psysml:9e57242c-9184-4252-9565-bec20c63fdb8\" xlink:type=\"simple\"><path d=\"M278.92,160.65 C289.28,172.97 303,188.75 316,202 C339.97,226.43 368.445,252.2475 391.1838,272.1688 C402.5531,282.1294 412.4884,290.6159 419.7095,296.718 C420.6122,297.4807 421.4724,298.2062 422.2877,298.8927 C422.6954,299.2359 423.0918,299.5694 423.4767,299.8929 C423.5729,299.9737 423.6684,300.054 423.7632,300.1336 \" fill=\"none\" id=\"E4-&gt;E2\" style=\"stroke: #A80036; stroke-width: 1.0;\"/><polygon fill=\"#FFFFFF\" points=\"423.7632,300.1336,413.7182,282.5524,404.7129,293.2717,423.7632,300.1336\" style=\"stroke: #A80036; stroke-width: 1.0;\"/></a><!--MD5=[2351f337d6de0f557b50152ba70847b5]\n",
       "link E6 to E2--><a href=\"psysml:5cdbdbe7-d14c-45c9-a804-61f18115238e\" target=\"_top\" title=\"psysml:5cdbdbe7-d14c-45c9-a804-61f18115238e\" xlink:actuate=\"onRequest\" xlink:href=\"psysml:5cdbdbe7-d14c-45c9-a804-61f18115238e\" xlink:show=\"new\" xlink:title=\"psysml:5cdbdbe7-d14c-45c9-a804-61f18115238e\" xlink:type=\"simple\"><path d=\"M593.9734,161.7649 C593.8833,161.9624 593.7924,162.1606 593.7007,162.3593 C593.5174,162.7568 593.3308,163.1567 593.1411,163.5587 C592.7615,164.3629 592.3691,165.1756 591.9638,165.995 C585.4775,179.105 575.665,193.905 562,202 C540.72,214.61 469.52,193.61 451,210 C446.9525,213.5838 443.6134,217.7542 440.8697,222.3128 C440.1838,223.4524 439.5351,224.6163 438.9218,225.8013 \" fill=\"none\" id=\"E6-&gt;E2\" style=\"stroke: #A80036; stroke-width: 1.0;\"/><polygon fill=\"#FFFFFF\" points=\"438.9218,225.8013,453.8713,212.1443,441.4376,205.7097,438.9218,225.8013\" style=\"stroke: #A80036; stroke-width: 1.0;\"/></a><!--MD5=[38afa37c8ab7f997387daf872099bbf9]\n",
       "@startuml\r\n",
       "skinparam ranksep 10\r\n",
       "skinparam rectangle {\r\n",
       " backgroundColor<<block>> LightGreen\r\n",
       "}\r\n",
       "skinparam wrapWidth 300\r\n",
       "hide circle\r\n",
       "\r\n",
       "package \"VariabilityTest\" as E1  [[psysml:c9192910-aa77-45a9-9ae3-16f7deb9d13d ]]  {\r\n",
       "rec def \"P\" as E2  <<(T,blue)part def>> [[psysml:28b4b804-815b-4815-9c5e-e5b09d6ccef7 ]] {\r\n",
       "comp usage \"a\" as E3  <<(T,blue)attribute>> [[psysml:29e7d07c-e0ef-43b2-a175-0967043bb668 ]] {\r\n",
       "}\r\n",
       "}\r\n",
       "rec def \"Q\" as E4  <<(T,blue)part def>> [[psysml:3556ece0-f840-441c-8cd2-5d7027a1a805 ]] {\r\n",
       "}\r\n",
       "def \"B\" as E5  <<(T,blue)attribute def>> [[psysml:c1ea47d2-f15e-4f05-bf93-ec81669ca641 ]] \r\n",
       "rec def \"V\" as E6  <<(T,blue)part def>> [[psysml:735cd89a-e4b2-4dc5-b3d6-41534f400f39 ]] {\r\n",
       "comp usage \"x: Q\" as E7  [[psysml:0400016e-70f0-4405-a71c-97e49bd60e65 ]] {\r\n",
       "<&bar-trig> b: B <s>P::a</s>\r\n",
       "}\r\n",
       "}\r\n",
       "rec usage \"q: Q\" as E8  [[psysml:ac43cc4c-8177-486e-b5a5-e877f62f9bc5 ]] {\r\n",
       "}\r\n",
       "rec usage \"v: P\" as E9  <<variation>> [[psysml:ce952eae-8bb1-4ad0-9f02-4c42d4c1d0c7 ]] {\r\n",
       "comp usage \"q\" as E10  <<(T,blue)reference>> [[psysml:572dfe4e-6d7c-4ba8-94a3-d7ce0272bed9 ]] {\r\n",
       "<&bar-trig> b: B <s>P::a</s>\r\n",
       "}\r\n",
       "}\r\n",
       "rec usage \"y: P=v::q; \" as E11  [[psysml:983a8093-9810-4637-96cc-9ee8fb3d9cf5 ]] {\r\n",
       "}\r\n",
       "E4 - -|> E2 [[psysml:9e57242c-9184-4252-9565-bec20c63fdb8 ]] \r\n",
       "E6 - -|> E2 [[psysml:5cdbdbe7-d14c-45c9-a804-61f18115238e ]] \r\n",
       "}\r\n",
       "@enduml\r\n",
       "\n",
       "PlantUML version 1.2020.13(Sat Jun 13 12:26:38 UTC 2020)\n",
       "(EPL source distribution)\n",
       "Java Runtime: OpenJDK Runtime Environment\n",
       "JVM: OpenJDK 64-Bit Server VM\n",
       "Default Encoding: UTF-8\n",
       "Language: en\n",
       "Country: null\n",
       "--></g></svg>"
      ]
     },
     "execution_count": 26,
     "metadata": {},
     "output_type": "execute_result"
    }
   ],
   "source": [
    "%viz --style=\"STDCOLOR\" --view=\"Interconnection\" \"VariabilityTest\""
   ]
  },
  {
   "cell_type": "code",
   "execution_count": 27,
   "id": "03049dbc",
   "metadata": {
    "execution": {
     "iopub.execute_input": "2021-05-28T10:47:56.322575Z",
     "iopub.status.busy": "2021-05-28T10:47:56.322016Z",
     "iopub.status.idle": "2021-05-28T10:47:56.326920Z",
     "shell.execute_reply": "2021-05-28T10:47:56.326600Z"
    }
   },
   "outputs": [
    {
     "data": {
      "image/svg+xml": [
       "<?xml version=\"1.0\" encoding=\"UTF-8\" standalone=\"no\"?><svg xmlns=\"http://www.w3.org/2000/svg\" xmlns:xlink=\"http://www.w3.org/1999/xlink\" contentScriptType=\"application/ecmascript\" contentStyleType=\"text/css\" height=\"12px\" preserveAspectRatio=\"none\" style=\"width:12px;height:12px;\" version=\"1.1\" viewBox=\"0 0 12 12\" width=\"12px\" zoomAndPan=\"magnify\"><defs/><g><!--MD5=[9863325348a96a77dacc89509d8ee65e]\n",
       "@startuml\r\n",
       "skinparam ranksep 8\r\n",
       "skinparam wrapWidth 300\r\n",
       "hide circle\r\n",
       "\r\n",
       "@enduml\r\n",
       "\n",
       "PlantUML version 1.2020.13(Sat Jun 13 12:26:38 UTC 2020)\n",
       "(EPL source distribution)\n",
       "Java Runtime: OpenJDK Runtime Environment\n",
       "JVM: OpenJDK 64-Bit Server VM\n",
       "Default Encoding: UTF-8\n",
       "Language: en\n",
       "Country: null\n",
       "--></g></svg>"
      ]
     },
     "execution_count": 27,
     "metadata": {},
     "output_type": "execute_result"
    }
   ],
   "source": [
    "%viz --style=\"STDCOLOR\" --view=\"Action\" \"VariabilityTest\""
   ]
  },
  {
   "cell_type": "code",
   "execution_count": 28,
   "id": "e6b2e289",
   "metadata": {
    "execution": {
     "iopub.execute_input": "2021-05-28T10:47:56.377395Z",
     "iopub.status.busy": "2021-05-28T10:47:56.376970Z",
     "iopub.status.idle": "2021-05-28T10:47:56.433842Z",
     "shell.execute_reply": "2021-05-28T10:47:56.432382Z"
    }
   },
   "outputs": [
    {
     "data": {
      "image/svg+xml": [
       "<?xml version=\"1.0\" encoding=\"UTF-8\" standalone=\"no\"?><svg xmlns=\"http://www.w3.org/2000/svg\" xmlns:xlink=\"http://www.w3.org/1999/xlink\" contentScriptType=\"application/ecmascript\" contentStyleType=\"text/css\" height=\"373px\" preserveAspectRatio=\"none\" style=\"width:419px;height:373px;\" version=\"1.1\" viewBox=\"0 0 419 373\" width=\"419px\" zoomAndPan=\"magnify\"><defs><filter height=\"300%\" id=\"f1ww0pdq2rcvle\" width=\"300%\" x=\"-1\" y=\"-1\"><feGaussianBlur result=\"blurOut\" stdDeviation=\"2.0\"/><feColorMatrix in=\"blurOut\" result=\"blurOut2\" type=\"matrix\" values=\"0 0 0 0 0 0 0 0 0 0 0 0 0 0 0 0 0 0 .4 0\"/><feOffset dx=\"4.0\" dy=\"4.0\" in=\"blurOut2\" result=\"blurOut3\"/><feBlend in=\"SourceGraphic\" in2=\"blurOut3\" mode=\"normal\"/></filter></defs><g><!--MD5=[fbc87193dbaf4d95561dea2c320d4a47]\n",
       "cluster E1--><a href=\"psysml:c9192910-aa77-45a9-9ae3-16f7deb9d13d\" target=\"_top\" title=\"psysml:c9192910-aa77-45a9-9ae3-16f7deb9d13d\" xlink:actuate=\"onRequest\" xlink:href=\"psysml:c9192910-aa77-45a9-9ae3-16f7deb9d13d\" xlink:show=\"new\" xlink:title=\"psysml:c9192910-aa77-45a9-9ae3-16f7deb9d13d\" xlink:type=\"simple\"><polygon fill=\"#FFFFFF\" filter=\"url(#f1ww0pdq2rcvle)\" points=\"16,6,134,6,141,28.2969,397,28.2969,397,361,16,361,16,6\" style=\"stroke: #000000; stroke-width: 1.5;\"/><line style=\"stroke: #000000; stroke-width: 1.5;\" x1=\"16\" x2=\"141\" y1=\"28.2969\" y2=\"28.2969\"/><text fill=\"#000000\" font-family=\"sans-serif\" font-size=\"14\" font-weight=\"bold\" lengthAdjust=\"spacingAndGlyphs\" textLength=\"112\" x=\"20\" y=\"20.9951\">VariabilityTest</text></a><!--MD5=[b4997ac47864f28c2f74865a473b2911]\n",
       "class E2--><a href=\"psysml:28b4b804-815b-4815-9c5e-e5b09d6ccef7\" target=\"_top\" title=\"psysml:28b4b804-815b-4815-9c5e-e5b09d6ccef7\" xlink:actuate=\"onRequest\" xlink:href=\"psysml:28b4b804-815b-4815-9c5e-e5b09d6ccef7\" xlink:show=\"new\" xlink:title=\"psysml:28b4b804-815b-4815-9c5e-e5b09d6ccef7\" xlink:type=\"simple\"><rect fill=\"#FEFECE\" filter=\"url(#f1ww0pdq2rcvle)\" height=\"58.7422\" id=\"E2\" style=\"stroke: #A80036; stroke-width: 1.5;\" width=\"66\" x=\"162\" y=\"285.5\"/><text fill=\"#000000\" font-family=\"sans-serif\" font-size=\"12\" font-style=\"italic\" lengthAdjust=\"spacingAndGlyphs\" textLength=\"64\" x=\"163\" y=\"301.6387\">«part def»</text><text fill=\"#000000\" font-family=\"sans-serif\" font-size=\"12\" lengthAdjust=\"spacingAndGlyphs\" textLength=\"8\" x=\"191\" y=\"315.6074\">P</text><line style=\"stroke: #A80036; stroke-width: 1.5;\" x1=\"163\" x2=\"227\" y1=\"323.4375\" y2=\"323.4375\"/><text fill=\"#000000\" font-family=\"sans-serif\" font-size=\"11\" lengthAdjust=\"spacingAndGlyphs\" textLength=\"7\" x=\"168\" y=\"337.6479\">a</text></a><!--MD5=[09b614a08d8cba4a07c9adeb5e0fee81]\n",
       "class E3--><a href=\"psysml:3556ece0-f840-441c-8cd2-5d7027a1a805\" target=\"_top\" title=\"psysml:3556ece0-f840-441c-8cd2-5d7027a1a805\" xlink:actuate=\"onRequest\" xlink:href=\"psysml:3556ece0-f840-441c-8cd2-5d7027a1a805\" xlink:show=\"new\" xlink:title=\"psysml:3556ece0-f840-441c-8cd2-5d7027a1a805\" xlink:type=\"simple\"><rect fill=\"#FEFECE\" filter=\"url(#f1ww0pdq2rcvle)\" height=\"45.9375\" id=\"E3\" style=\"stroke: #A80036; stroke-width: 1.5;\" width=\"66\" x=\"137\" y=\"155\"/><text fill=\"#000000\" font-family=\"sans-serif\" font-size=\"12\" font-style=\"italic\" lengthAdjust=\"spacingAndGlyphs\" textLength=\"64\" x=\"138\" y=\"171.1387\">«part def»</text><text fill=\"#000000\" font-family=\"sans-serif\" font-size=\"12\" lengthAdjust=\"spacingAndGlyphs\" textLength=\"9\" x=\"165.5\" y=\"185.1074\">Q</text><line style=\"stroke: #A80036; stroke-width: 1.5;\" x1=\"138\" x2=\"202\" y1=\"192.9375\" y2=\"192.9375\"/></a><!--MD5=[ebbe1d658d1005bcc118a6aa81145e00]\n",
       "class E4--><a href=\"psysml:c1ea47d2-f15e-4f05-bf93-ec81669ca641\" target=\"_top\" title=\"psysml:c1ea47d2-f15e-4f05-bf93-ec81669ca641\" xlink:actuate=\"onRequest\" xlink:href=\"psysml:c1ea47d2-f15e-4f05-bf93-ec81669ca641\" xlink:show=\"new\" xlink:title=\"psysml:c1ea47d2-f15e-4f05-bf93-ec81669ca641\" xlink:type=\"simple\"><rect fill=\"#FEFECE\" filter=\"url(#f1ww0pdq2rcvle)\" height=\"45.9375\" id=\"E4\" style=\"stroke: #A80036; stroke-width: 1.5;\" width=\"95\" x=\"255.5\" y=\"41\"/><text fill=\"#000000\" font-family=\"sans-serif\" font-size=\"12\" font-style=\"italic\" lengthAdjust=\"spacingAndGlyphs\" textLength=\"93\" x=\"256.5\" y=\"57.1387\">«attribute def»</text><text fill=\"#000000\" font-family=\"sans-serif\" font-size=\"12\" lengthAdjust=\"spacingAndGlyphs\" textLength=\"8\" x=\"299\" y=\"71.1074\">B</text><line style=\"stroke: #A80036; stroke-width: 1.5;\" x1=\"256.5\" x2=\"349.5\" y1=\"78.9375\" y2=\"78.9375\"/></a><!--MD5=[270fce915f116d4de14055a7c1d9a0f3]\n",
       "class E5--><a href=\"psysml:735cd89a-e4b2-4dc5-b3d6-41534f400f39\" target=\"_top\" title=\"psysml:735cd89a-e4b2-4dc5-b3d6-41534f400f39\" xlink:actuate=\"onRequest\" xlink:href=\"psysml:735cd89a-e4b2-4dc5-b3d6-41534f400f39\" xlink:show=\"new\" xlink:title=\"psysml:735cd89a-e4b2-4dc5-b3d6-41534f400f39\" xlink:type=\"simple\"><rect fill=\"#FEFECE\" filter=\"url(#f1ww0pdq2rcvle)\" height=\"45.9375\" id=\"E5\" style=\"stroke: #A80036; stroke-width: 1.5;\" width=\"66\" x=\"315\" y=\"155\"/><text fill=\"#000000\" font-family=\"sans-serif\" font-size=\"12\" font-style=\"italic\" lengthAdjust=\"spacingAndGlyphs\" textLength=\"64\" x=\"316\" y=\"171.1387\">«part def»</text><text fill=\"#000000\" font-family=\"sans-serif\" font-size=\"12\" lengthAdjust=\"spacingAndGlyphs\" textLength=\"8\" x=\"344\" y=\"185.1074\">V</text><line style=\"stroke: #A80036; stroke-width: 1.5;\" x1=\"316\" x2=\"380\" y1=\"192.9375\" y2=\"192.9375\"/></a><!--MD5=[60a26617385b1d2d0262a64233df1f8d]\n",
       "class E6--><a href=\"psysml:0400016e-70f0-4405-a71c-97e49bd60e65\" target=\"_top\" title=\"psysml:0400016e-70f0-4405-a71c-97e49bd60e65\" xlink:actuate=\"onRequest\" xlink:href=\"psysml:0400016e-70f0-4405-a71c-97e49bd60e65\" xlink:show=\"new\" xlink:title=\"psysml:0400016e-70f0-4405-a71c-97e49bd60e65\" xlink:type=\"simple\"><rect fill=\"#FEFECE\" filter=\"url(#f1ww0pdq2rcvle)\" height=\"59.6875\" id=\"E6\" rx=\"10\" ry=\"10\" style=\"stroke: #A80036; stroke-width: 1.5;\" width=\"78\" x=\"280\" y=\"285\"/><text fill=\"#000000\" font-family=\"sans-serif\" font-size=\"12\" font-style=\"italic\" lengthAdjust=\"spacingAndGlyphs\" textLength=\"40\" x=\"299\" y=\"301.1387\">«part»</text><text fill=\"#000000\" font-family=\"sans-serif\" font-size=\"12\" lengthAdjust=\"spacingAndGlyphs\" textLength=\"23\" x=\"307.5\" y=\"315.1074\">x: Q</text><line style=\"stroke: #A80036; stroke-width: 1.5;\" x1=\"281\" x2=\"357\" y1=\"322.9375\" y2=\"322.9375\"/><path d=\"M287.9167,327.8542 L287.9167,337.0208 L288.8333,337.0208 L288.8333,327.8542 M291.5833,327.8542 L291.5833,337.0208 L298.9167,332.4375 L291.5833,327.8542 L292.5,329.2292 L297.5417,332.4375 L292.5,335.6458 L292.5,329.2292 \" fill=\"#000000\" style=\"stroke: ; stroke-width: 0.0; stroke-dasharray: ;\"/><text fill=\"#000000\" font-family=\"sans-serif\" font-size=\"11\" lengthAdjust=\"spacingAndGlyphs\" textLength=\"23\" x=\"303\" y=\"338.0933\">b: B</text><text fill=\"#000000\" font-family=\"sans-serif\" font-size=\"11\" lengthAdjust=\"spacingAndGlyphs\" text-decoration=\"line-through\" textLength=\"22\" x=\"330\" y=\"338.0933\">P::a</text></a><!--MD5=[2156ba9850f5573cc1fc38a6a4b2f02b]\n",
       "class E7--><a href=\"psysml:ac43cc4c-8177-486e-b5a5-e877f62f9bc5\" target=\"_top\" title=\"psysml:ac43cc4c-8177-486e-b5a5-e877f62f9bc5\" xlink:actuate=\"onRequest\" xlink:href=\"psysml:ac43cc4c-8177-486e-b5a5-e877f62f9bc5\" xlink:show=\"new\" xlink:title=\"psysml:ac43cc4c-8177-486e-b5a5-e877f62f9bc5\" xlink:type=\"simple\"><rect fill=\"#FEFECE\" filter=\"url(#f1ww0pdq2rcvle)\" height=\"45.9375\" id=\"E7\" rx=\"10\" ry=\"10\" style=\"stroke: #A80036; stroke-width: 1.5;\" width=\"42\" x=\"149\" y=\"41\"/><text fill=\"#000000\" font-family=\"sans-serif\" font-size=\"12\" font-style=\"italic\" lengthAdjust=\"spacingAndGlyphs\" textLength=\"40\" x=\"150\" y=\"57.1387\">«part»</text><text fill=\"#000000\" font-family=\"sans-serif\" font-size=\"12\" lengthAdjust=\"spacingAndGlyphs\" textLength=\"25\" x=\"157.5\" y=\"71.1074\">q: Q</text><line style=\"stroke: #A80036; stroke-width: 1.5;\" x1=\"150\" x2=\"190\" y1=\"78.9375\" y2=\"78.9375\"/></a><!--MD5=[b9389687b975829384b498ac4b7476b2]\n",
       "class E8--><a href=\"psysml:ce952eae-8bb1-4ad0-9f02-4c42d4c1d0c7\" target=\"_top\" title=\"psysml:ce952eae-8bb1-4ad0-9f02-4c42d4c1d0c7\" xlink:actuate=\"onRequest\" xlink:href=\"psysml:ce952eae-8bb1-4ad0-9f02-4c42d4c1d0c7\" xlink:show=\"new\" xlink:title=\"psysml:ce952eae-8bb1-4ad0-9f02-4c42d4c1d0c7\" xlink:type=\"simple\"><rect fill=\"#FEFECE\" filter=\"url(#f1ww0pdq2rcvle)\" height=\"59.9063\" id=\"E8\" rx=\"10\" ry=\"10\" style=\"stroke: #A80036; stroke-width: 1.5;\" width=\"70\" x=\"32\" y=\"148\"/><text fill=\"#000000\" font-family=\"sans-serif\" font-size=\"12\" font-style=\"italic\" lengthAdjust=\"spacingAndGlyphs\" textLength=\"68\" x=\"33\" y=\"164.1387\">«variation»</text><text fill=\"#000000\" font-family=\"sans-serif\" font-size=\"12\" font-style=\"italic\" lengthAdjust=\"spacingAndGlyphs\" textLength=\"40\" x=\"47\" y=\"178.1074\">«part»</text><text fill=\"#000000\" font-family=\"sans-serif\" font-size=\"12\" lengthAdjust=\"spacingAndGlyphs\" textLength=\"22\" x=\"56\" y=\"192.0762\">v: P</text><line style=\"stroke: #A80036; stroke-width: 1.5;\" x1=\"33\" x2=\"101\" y1=\"199.9063\" y2=\"199.9063\"/></a><!--MD5=[fd4143e9d270a159db93a4ea2a975926]\n",
       "class E9--><a href=\"psysml:572dfe4e-6d7c-4ba8-94a3-d7ce0272bed9\" target=\"_top\" title=\"psysml:572dfe4e-6d7c-4ba8-94a3-d7ce0272bed9\" xlink:actuate=\"onRequest\" xlink:href=\"psysml:572dfe4e-6d7c-4ba8-94a3-d7ce0272bed9\" xlink:show=\"new\" xlink:title=\"psysml:572dfe4e-6d7c-4ba8-94a3-d7ce0272bed9\" xlink:type=\"simple\"><rect fill=\"#FEFECE\" filter=\"url(#f1ww0pdq2rcvle)\" height=\"59.6875\" id=\"E9\" rx=\"10\" ry=\"10\" style=\"stroke: #A80036; stroke-width: 1.5;\" width=\"78\" x=\"32\" y=\"285\"/><text fill=\"#000000\" font-family=\"sans-serif\" font-size=\"12\" font-style=\"italic\" lengthAdjust=\"spacingAndGlyphs\" textLength=\"75\" x=\"33.5\" y=\"301.1387\">«reference»</text><text fill=\"#000000\" font-family=\"sans-serif\" font-size=\"12\" lengthAdjust=\"spacingAndGlyphs\" textLength=\"8\" x=\"67\" y=\"315.1074\">q</text><line style=\"stroke: #A80036; stroke-width: 1.5;\" x1=\"33\" x2=\"109\" y1=\"322.9375\" y2=\"322.9375\"/><path d=\"M39.9167,327.8542 L39.9167,337.0208 L40.8333,337.0208 L40.8333,327.8542 M43.5833,327.8542 L43.5833,337.0208 L50.9167,332.4375 L43.5833,327.8542 L44.5,329.2292 L49.5417,332.4375 L44.5,335.6458 L44.5,329.2292 \" fill=\"#000000\" style=\"stroke: ; stroke-width: 0.0; stroke-dasharray: ;\"/><text fill=\"#000000\" font-family=\"sans-serif\" font-size=\"11\" lengthAdjust=\"spacingAndGlyphs\" textLength=\"23\" x=\"55\" y=\"338.0933\">b: B</text><text fill=\"#000000\" font-family=\"sans-serif\" font-size=\"11\" lengthAdjust=\"spacingAndGlyphs\" text-decoration=\"line-through\" textLength=\"22\" x=\"82\" y=\"338.0933\">P::a</text></a><!--MD5=[96f4274e9e20536e775497830990834d]\n",
       "class E10--><a href=\"psysml:983a8093-9810-4637-96cc-9ee8fb3d9cf5\" target=\"_top\" title=\"psysml:983a8093-9810-4637-96cc-9ee8fb3d9cf5\" xlink:actuate=\"onRequest\" xlink:href=\"psysml:983a8093-9810-4637-96cc-9ee8fb3d9cf5\" xlink:show=\"new\" xlink:title=\"psysml:983a8093-9810-4637-96cc-9ee8fb3d9cf5\" xlink:type=\"simple\"><rect fill=\"#FEFECE\" filter=\"url(#f1ww0pdq2rcvle)\" height=\"45.9375\" id=\"E10\" rx=\"10\" ry=\"10\" style=\"stroke: #A80036; stroke-width: 1.5;\" width=\"42\" x=\"238\" y=\"155\"/><text fill=\"#000000\" font-family=\"sans-serif\" font-size=\"12\" font-style=\"italic\" lengthAdjust=\"spacingAndGlyphs\" textLength=\"40\" x=\"239\" y=\"171.1387\">«part»</text><text fill=\"#000000\" font-family=\"sans-serif\" font-size=\"12\" lengthAdjust=\"spacingAndGlyphs\" textLength=\"22\" x=\"248\" y=\"185.1074\">y: P</text><line style=\"stroke: #A80036; stroke-width: 1.5;\" x1=\"239\" x2=\"279\" y1=\"192.9375\" y2=\"192.9375\"/></a><!--MD5=[05d275557350bfb9b23a4ef7222b4c39]\n",
       "link E3 to E2--><a href=\"psysml:9e57242c-9184-4252-9565-bec20c63fdb8\" target=\"_top\" title=\"psysml:9e57242c-9184-4252-9565-bec20c63fdb8\" xlink:actuate=\"onRequest\" xlink:href=\"psysml:9e57242c-9184-4252-9565-bec20c63fdb8\" xlink:show=\"new\" xlink:title=\"psysml:9e57242c-9184-4252-9565-bec20c63fdb8\" xlink:type=\"simple\"><path d=\"M174.13,201.29 C177.34,218.66 181.93,243.41 185.98,265.3 \" fill=\"none\" id=\"E3-&gt;E2\" style=\"stroke: #A80036; stroke-width: 1.0;\"/><polygon fill=\"none\" points=\"192.88,264.14,189.64,285.08,179.12,266.68,192.88,264.14\" style=\"stroke: #A80036; stroke-width: 1.0;\"/></a><!--MD5=[15ebcb19ae302d9b601edb458606d402]\n",
       "link E5 to E2--><a href=\"psysml:5cdbdbe7-d14c-45c9-a804-61f18115238e\" target=\"_top\" title=\"psysml:5cdbdbe7-d14c-45c9-a804-61f18115238e\" xlink:actuate=\"onRequest\" xlink:href=\"psysml:5cdbdbe7-d14c-45c9-a804-61f18115238e\" xlink:show=\"new\" xlink:title=\"psysml:5cdbdbe7-d14c-45c9-a804-61f18115238e\" xlink:type=\"simple\"><path d=\"M322.74,201.29 C301.06,220.42 269.21,248.52 242.75,271.87 \" fill=\"none\" id=\"E5-&gt;E2\" style=\"stroke: #A80036; stroke-width: 1.0;\"/><polygon fill=\"none\" points=\"247.13,277.34,227.5,285.32,237.87,266.84,247.13,277.34\" style=\"stroke: #A80036; stroke-width: 1.0;\"/></a><!--MD5=[9120cf2e5df3bff93db8f754bbbc09b4]\n",
       "link E5 to E6--><a href=\"psysml:052c6ce9-d9db-4da6-90c4-ac16555550ac\" target=\"_top\" title=\"psysml:052c6ce9-d9db-4da6-90c4-ac16555550ac\" xlink:actuate=\"onRequest\" xlink:href=\"psysml:052c6ce9-d9db-4da6-90c4-ac16555550ac\" xlink:show=\"new\" xlink:title=\"psysml:052c6ce9-d9db-4da6-90c4-ac16555550ac\" xlink:type=\"simple\"><path d=\"M341.07,211.28 C336.97,230.34 331.76,254.6 327.43,274.76 \" fill=\"none\" id=\"E5-E6\" style=\"stroke: #A80036; stroke-width: 1.0;\"/><polygon fill=\"#A80036\" points=\"325.32,284.58,329.9339,277.3889,324.0679,276.1282,325.32,284.58\" style=\"stroke: #A80036; stroke-width: 1.0;\"/><path d=\"M334.2948,202.5225 A9,9 0 0 0 350.8317 206.0765\" fill=\"none\" style=\"stroke: #A80036; stroke-width: 1.5;\"/><text fill=\"#000000\" font-family=\"sans-serif\" font-size=\"13\" lengthAdjust=\"spacingAndGlyphs\" textLength=\"60\" x=\"336\" y=\"251.0669\">«variant»</text></a><!--MD5=[14ccda38c055a5c0da953d572bc50960]\n",
       "link E7 to E3--><a href=\"psysml:648145d1-1ec9-42fc-8307-fa8910350658\" target=\"_top\" title=\"psysml:648145d1-1ec9-42fc-8307-fa8910350658\" xlink:actuate=\"onRequest\" xlink:href=\"psysml:648145d1-1ec9-42fc-8307-fa8910350658\" xlink:show=\"new\" xlink:title=\"psysml:648145d1-1ec9-42fc-8307-fa8910350658\" xlink:type=\"simple\"><path d=\"M170,87.13 C170,100.7 170,118.53 170,134.73 \" fill=\"none\" id=\"E7-&gt;E3\" style=\"stroke: #A80036; stroke-width: 1.0;\"/><polygon fill=\"#FFFFFF\" points=\"170,154.92,163,135.92,177,135.92,170,154.92\" style=\"stroke: #A80036; stroke-width: 1.0;\"/><ellipse cx=\"165\" cy=\"130.22\" fill=\"#A80036\" rx=\"2\" ry=\"2\" style=\"stroke: #A80036; stroke-width: 1.0;\"/><ellipse cx=\"175\" cy=\"130.22\" fill=\"#A80036\" rx=\"2\" ry=\"2\" style=\"stroke: #A80036; stroke-width: 1.0;\"/></a><!--MD5=[f1f3f9f2fc535e6147756cb86a7f2e32]\n",
       "link E8 to E2--><a href=\"psysml:19cda0c9-2775-4d9d-8cd8-191c5ad52b34\" target=\"_top\" title=\"psysml:19cda0c9-2775-4d9d-8cd8-191c5ad52b34\" xlink:actuate=\"onRequest\" xlink:href=\"psysml:19cda0c9-2775-4d9d-8cd8-191c5ad52b34\" xlink:show=\"new\" xlink:title=\"psysml:19cda0c9-2775-4d9d-8cd8-191c5ad52b34\" xlink:type=\"simple\"><path d=\"M102.23,204.97 C114.45,214.72 127.87,226.28 139,238 C147.93,247.4 156.69,258.25 164.53,268.75 \" fill=\"none\" id=\"E8-&gt;E2\" style=\"stroke: #A80036; stroke-width: 1.0;\"/><polygon fill=\"#FFFFFF\" points=\"176.35,285.25,159.5896,273.8883,170.967,265.7302,176.35,285.25\" style=\"stroke: #A80036; stroke-width: 1.0;\"/><ellipse cx=\"157.8934\" cy=\"268.0907\" fill=\"#A80036\" rx=\"2\" ry=\"2\" style=\"stroke: #A80036; stroke-width: 1.0;\"/><ellipse cx=\"166.0201\" cy=\"262.2634\" fill=\"#A80036\" rx=\"2\" ry=\"2\" style=\"stroke: #A80036; stroke-width: 1.0;\"/></a><!--MD5=[ed10624c06dd9a4fa49ccf290e8b16a8]\n",
       "link E8 to E9--><a href=\"psysml:28d39c7a-e0c7-42b0-858e-2cb4e488f108\" target=\"_top\" title=\"psysml:28d39c7a-e0c7-42b0-858e-2cb4e488f108\" xlink:actuate=\"onRequest\" xlink:href=\"psysml:28d39c7a-e0c7-42b0-858e-2cb4e488f108\" xlink:show=\"new\" xlink:title=\"psysml:28d39c7a-e0c7-42b0-858e-2cb4e488f108\" xlink:type=\"simple\"><path d=\"M68.16,218.31 C68.69,236.06 69.31,256.98 69.84,274.73 \" fill=\"none\" id=\"E8-E9\" style=\"stroke: #A80036; stroke-width: 1.0;\"/><polygon fill=\"#A80036\" points=\"70.13,284.76,72.8888,276.6736,66.8915,276.8536,70.13,284.76\" style=\"stroke: #A80036; stroke-width: 1.0;\"/><path d=\"M59.509,211.6208 A9,9 0 0 0 76.4159 211.1128\" fill=\"none\" style=\"stroke: #A80036; stroke-width: 1.5;\"/><text fill=\"#000000\" font-family=\"sans-serif\" font-size=\"13\" lengthAdjust=\"spacingAndGlyphs\" textLength=\"60\" x=\"70\" y=\"251.0669\">«variant»</text></a><!--MD5=[0f36bececdf0dff6e600d6f64214b0f1]\n",
       "link E10 to E2--><a href=\"psysml:8cfcd01d-a74f-43be-a680-d41b6ee6accc\" target=\"_top\" title=\"psysml:8cfcd01d-a74f-43be-a680-d41b6ee6accc\" xlink:actuate=\"onRequest\" xlink:href=\"psysml:8cfcd01d-a74f-43be-a680-d41b6ee6accc\" xlink:show=\"new\" xlink:title=\"psysml:8cfcd01d-a74f-43be-a680-d41b6ee6accc\" xlink:type=\"simple\"><path d=\"M248.43,201.29 C239.99,219.11 227.86,244.69 217.29,266.99 \" fill=\"none\" id=\"E10-&gt;E2\" style=\"stroke: #A80036; stroke-width: 1.0;\"/><polygon fill=\"#FFFFFF\" points=\"208.71,285.08,210.5216,264.9127,223.1727,270.9085,208.71,285.08\" style=\"stroke: #A80036; stroke-width: 1.0;\"/><ellipse cx=\"214.77\" cy=\"260.6185\" fill=\"#A80036\" rx=\"2\" ry=\"2\" style=\"stroke: #A80036; stroke-width: 1.0;\"/><ellipse cx=\"223.8065\" cy=\"264.9012\" fill=\"#A80036\" rx=\"2\" ry=\"2\" style=\"stroke: #A80036; stroke-width: 1.0;\"/></a><!--MD5=[a0c2028eab1ff41ad5c718c7b71a8b9c]\n",
       "@startuml\r\n",
       "skinparam wrapWidth 300\r\n",
       "hide circle\r\n",
       "\r\n",
       "package \"VariabilityTest\" as E1  [[psysml:c9192910-aa77-45a9-9ae3-16f7deb9d13d ]]  {\r\n",
       "comp def \"P\" as E2  <<(T,blue)part def>> [[psysml:28b4b804-815b-4815-9c5e-e5b09d6ccef7 ]] {\r\n",
       "a\r\n",
       "}\r\n",
       "comp def \"Q\" as E3  <<(T,blue)part def>> [[psysml:3556ece0-f840-441c-8cd2-5d7027a1a805 ]] {\r\n",
       "}\r\n",
       "comp def \"B\" as E4  <<(T,blue)attribute def>> [[psysml:c1ea47d2-f15e-4f05-bf93-ec81669ca641 ]] {\r\n",
       "}\r\n",
       "comp def \"V\" as E5  <<(T,blue)part def>> [[psysml:735cd89a-e4b2-4dc5-b3d6-41534f400f39 ]] {\r\n",
       "}\r\n",
       "comp usage \"x: Q\" as E6  <<(T,blue)part>> [[psysml:0400016e-70f0-4405-a71c-97e49bd60e65 ]] {\r\n",
       "<&bar-trig> b: B <s>P::a</s>\r\n",
       "}\r\n",
       "comp usage \"q: Q\" as E7  <<(T,blue)part>> [[psysml:ac43cc4c-8177-486e-b5a5-e877f62f9bc5 ]] {\r\n",
       "}\r\n",
       "comp usage \"v: P\" as E8  <<variation>>\\n <<(T,blue)part>> [[psysml:ce952eae-8bb1-4ad0-9f02-4c42d4c1d0c7 ]] {\r\n",
       "}\r\n",
       "comp usage \"q\" as E9  <<(T,blue)reference>> [[psysml:572dfe4e-6d7c-4ba8-94a3-d7ce0272bed9 ]] {\r\n",
       "<&bar-trig> b: B <s>P::a</s>\r\n",
       "}\r\n",
       "comp usage \"y: P\" as E10  <<(T,blue)part>> [[psysml:983a8093-9810-4637-96cc-9ee8fb3d9cf5 ]] {\r\n",
       "}\r\n",
       "E3 - -|> E2 [[psysml:9e57242c-9184-4252-9565-bec20c63fdb8 ]] \r\n",
       "E5 - -|> E2 [[psysml:5cdbdbe7-d14c-45c9-a804-61f18115238e ]] \r\n",
       "E5 )- ->> E6 [[psysml:052c6ce9-d9db-4da6-90c4-ac16555550ac ]] : <<variant>>\r\n",
       "E7 - -:|> E3 [[psysml:648145d1-1ec9-42fc-8307-fa8910350658 ]] \r\n",
       "E8 - -:|> E2 [[psysml:19cda0c9-2775-4d9d-8cd8-191c5ad52b34 ]] \r\n",
       "E8 )- ->> E9 [[psysml:28d39c7a-e0c7-42b0-858e-2cb4e488f108 ]] : <<variant>>\r\n",
       "E10 - -:|> E2 [[psysml:8cfcd01d-a74f-43be-a680-d41b6ee6accc ]] \r\n",
       "}\r\n",
       "@enduml\r\n",
       "\n",
       "PlantUML version 1.2020.13(Sat Jun 13 12:26:38 UTC 2020)\n",
       "(EPL source distribution)\n",
       "Java Runtime: OpenJDK Runtime Environment\n",
       "JVM: OpenJDK 64-Bit Server VM\n",
       "Default Encoding: UTF-8\n",
       "Language: en\n",
       "Country: null\n",
       "--></g></svg>"
      ]
     },
     "execution_count": 28,
     "metadata": {},
     "output_type": "execute_result"
    }
   ],
   "source": [
    "%viz --style=\"STDCOLOR\" --view=\"Sequence\" \"VariabilityTest\""
   ]
  },
  {
   "cell_type": "code",
   "execution_count": 29,
   "id": "209fd063",
   "metadata": {
    "execution": {
     "iopub.execute_input": "2021-05-28T10:47:56.484072Z",
     "iopub.status.busy": "2021-05-28T10:47:56.483665Z",
     "iopub.status.idle": "2021-05-28T10:47:56.535877Z",
     "shell.execute_reply": "2021-05-28T10:47:56.535511Z"
    }
   },
   "outputs": [
    {
     "data": {
      "image/svg+xml": [
       "<?xml version=\"1.0\" encoding=\"UTF-8\" standalone=\"no\"?><svg xmlns=\"http://www.w3.org/2000/svg\" xmlns:xlink=\"http://www.w3.org/1999/xlink\" contentScriptType=\"application/ecmascript\" contentStyleType=\"text/css\" height=\"373px\" preserveAspectRatio=\"none\" style=\"width:419px;height:373px;\" version=\"1.1\" viewBox=\"0 0 419 373\" width=\"419px\" zoomAndPan=\"magnify\"><defs><filter height=\"300%\" id=\"f1ww0pdq2rcvle\" width=\"300%\" x=\"-1\" y=\"-1\"><feGaussianBlur result=\"blurOut\" stdDeviation=\"2.0\"/><feColorMatrix in=\"blurOut\" result=\"blurOut2\" type=\"matrix\" values=\"0 0 0 0 0 0 0 0 0 0 0 0 0 0 0 0 0 0 .4 0\"/><feOffset dx=\"4.0\" dy=\"4.0\" in=\"blurOut2\" result=\"blurOut3\"/><feBlend in=\"SourceGraphic\" in2=\"blurOut3\" mode=\"normal\"/></filter></defs><g><!--MD5=[fbc87193dbaf4d95561dea2c320d4a47]\n",
       "cluster E1--><a href=\"psysml:c9192910-aa77-45a9-9ae3-16f7deb9d13d\" target=\"_top\" title=\"psysml:c9192910-aa77-45a9-9ae3-16f7deb9d13d\" xlink:actuate=\"onRequest\" xlink:href=\"psysml:c9192910-aa77-45a9-9ae3-16f7deb9d13d\" xlink:show=\"new\" xlink:title=\"psysml:c9192910-aa77-45a9-9ae3-16f7deb9d13d\" xlink:type=\"simple\"><polygon fill=\"#FFFFFF\" filter=\"url(#f1ww0pdq2rcvle)\" points=\"16,6,134,6,141,28.2969,397,28.2969,397,361,16,361,16,6\" style=\"stroke: #000000; stroke-width: 1.5;\"/><line style=\"stroke: #000000; stroke-width: 1.5;\" x1=\"16\" x2=\"141\" y1=\"28.2969\" y2=\"28.2969\"/><text fill=\"#000000\" font-family=\"sans-serif\" font-size=\"14\" font-weight=\"bold\" lengthAdjust=\"spacingAndGlyphs\" textLength=\"112\" x=\"20\" y=\"20.9951\">VariabilityTest</text></a><!--MD5=[b4997ac47864f28c2f74865a473b2911]\n",
       "class E2--><a href=\"psysml:28b4b804-815b-4815-9c5e-e5b09d6ccef7\" target=\"_top\" title=\"psysml:28b4b804-815b-4815-9c5e-e5b09d6ccef7\" xlink:actuate=\"onRequest\" xlink:href=\"psysml:28b4b804-815b-4815-9c5e-e5b09d6ccef7\" xlink:show=\"new\" xlink:title=\"psysml:28b4b804-815b-4815-9c5e-e5b09d6ccef7\" xlink:type=\"simple\"><rect fill=\"#FEFECE\" filter=\"url(#f1ww0pdq2rcvle)\" height=\"58.7422\" id=\"E2\" style=\"stroke: #A80036; stroke-width: 1.5;\" width=\"66\" x=\"162\" y=\"285.5\"/><text fill=\"#000000\" font-family=\"sans-serif\" font-size=\"12\" font-style=\"italic\" lengthAdjust=\"spacingAndGlyphs\" textLength=\"64\" x=\"163\" y=\"301.6387\">«part def»</text><text fill=\"#000000\" font-family=\"sans-serif\" font-size=\"12\" lengthAdjust=\"spacingAndGlyphs\" textLength=\"8\" x=\"191\" y=\"315.6074\">P</text><line style=\"stroke: #A80036; stroke-width: 1.5;\" x1=\"163\" x2=\"227\" y1=\"323.4375\" y2=\"323.4375\"/><text fill=\"#000000\" font-family=\"sans-serif\" font-size=\"11\" lengthAdjust=\"spacingAndGlyphs\" textLength=\"7\" x=\"168\" y=\"337.6479\">a</text></a><!--MD5=[09b614a08d8cba4a07c9adeb5e0fee81]\n",
       "class E3--><a href=\"psysml:3556ece0-f840-441c-8cd2-5d7027a1a805\" target=\"_top\" title=\"psysml:3556ece0-f840-441c-8cd2-5d7027a1a805\" xlink:actuate=\"onRequest\" xlink:href=\"psysml:3556ece0-f840-441c-8cd2-5d7027a1a805\" xlink:show=\"new\" xlink:title=\"psysml:3556ece0-f840-441c-8cd2-5d7027a1a805\" xlink:type=\"simple\"><rect fill=\"#FEFECE\" filter=\"url(#f1ww0pdq2rcvle)\" height=\"45.9375\" id=\"E3\" style=\"stroke: #A80036; stroke-width: 1.5;\" width=\"66\" x=\"137\" y=\"155\"/><text fill=\"#000000\" font-family=\"sans-serif\" font-size=\"12\" font-style=\"italic\" lengthAdjust=\"spacingAndGlyphs\" textLength=\"64\" x=\"138\" y=\"171.1387\">«part def»</text><text fill=\"#000000\" font-family=\"sans-serif\" font-size=\"12\" lengthAdjust=\"spacingAndGlyphs\" textLength=\"9\" x=\"165.5\" y=\"185.1074\">Q</text><line style=\"stroke: #A80036; stroke-width: 1.5;\" x1=\"138\" x2=\"202\" y1=\"192.9375\" y2=\"192.9375\"/></a><!--MD5=[ebbe1d658d1005bcc118a6aa81145e00]\n",
       "class E4--><a href=\"psysml:c1ea47d2-f15e-4f05-bf93-ec81669ca641\" target=\"_top\" title=\"psysml:c1ea47d2-f15e-4f05-bf93-ec81669ca641\" xlink:actuate=\"onRequest\" xlink:href=\"psysml:c1ea47d2-f15e-4f05-bf93-ec81669ca641\" xlink:show=\"new\" xlink:title=\"psysml:c1ea47d2-f15e-4f05-bf93-ec81669ca641\" xlink:type=\"simple\"><rect fill=\"#FEFECE\" filter=\"url(#f1ww0pdq2rcvle)\" height=\"45.9375\" id=\"E4\" style=\"stroke: #A80036; stroke-width: 1.5;\" width=\"95\" x=\"255.5\" y=\"41\"/><text fill=\"#000000\" font-family=\"sans-serif\" font-size=\"12\" font-style=\"italic\" lengthAdjust=\"spacingAndGlyphs\" textLength=\"93\" x=\"256.5\" y=\"57.1387\">«attribute def»</text><text fill=\"#000000\" font-family=\"sans-serif\" font-size=\"12\" lengthAdjust=\"spacingAndGlyphs\" textLength=\"8\" x=\"299\" y=\"71.1074\">B</text><line style=\"stroke: #A80036; stroke-width: 1.5;\" x1=\"256.5\" x2=\"349.5\" y1=\"78.9375\" y2=\"78.9375\"/></a><!--MD5=[270fce915f116d4de14055a7c1d9a0f3]\n",
       "class E5--><a href=\"psysml:735cd89a-e4b2-4dc5-b3d6-41534f400f39\" target=\"_top\" title=\"psysml:735cd89a-e4b2-4dc5-b3d6-41534f400f39\" xlink:actuate=\"onRequest\" xlink:href=\"psysml:735cd89a-e4b2-4dc5-b3d6-41534f400f39\" xlink:show=\"new\" xlink:title=\"psysml:735cd89a-e4b2-4dc5-b3d6-41534f400f39\" xlink:type=\"simple\"><rect fill=\"#FEFECE\" filter=\"url(#f1ww0pdq2rcvle)\" height=\"45.9375\" id=\"E5\" style=\"stroke: #A80036; stroke-width: 1.5;\" width=\"66\" x=\"315\" y=\"155\"/><text fill=\"#000000\" font-family=\"sans-serif\" font-size=\"12\" font-style=\"italic\" lengthAdjust=\"spacingAndGlyphs\" textLength=\"64\" x=\"316\" y=\"171.1387\">«part def»</text><text fill=\"#000000\" font-family=\"sans-serif\" font-size=\"12\" lengthAdjust=\"spacingAndGlyphs\" textLength=\"8\" x=\"344\" y=\"185.1074\">V</text><line style=\"stroke: #A80036; stroke-width: 1.5;\" x1=\"316\" x2=\"380\" y1=\"192.9375\" y2=\"192.9375\"/></a><!--MD5=[60a26617385b1d2d0262a64233df1f8d]\n",
       "class E6--><a href=\"psysml:0400016e-70f0-4405-a71c-97e49bd60e65\" target=\"_top\" title=\"psysml:0400016e-70f0-4405-a71c-97e49bd60e65\" xlink:actuate=\"onRequest\" xlink:href=\"psysml:0400016e-70f0-4405-a71c-97e49bd60e65\" xlink:show=\"new\" xlink:title=\"psysml:0400016e-70f0-4405-a71c-97e49bd60e65\" xlink:type=\"simple\"><rect fill=\"#FEFECE\" filter=\"url(#f1ww0pdq2rcvle)\" height=\"59.6875\" id=\"E6\" rx=\"10\" ry=\"10\" style=\"stroke: #A80036; stroke-width: 1.5;\" width=\"78\" x=\"280\" y=\"285\"/><text fill=\"#000000\" font-family=\"sans-serif\" font-size=\"12\" font-style=\"italic\" lengthAdjust=\"spacingAndGlyphs\" textLength=\"40\" x=\"299\" y=\"301.1387\">«part»</text><text fill=\"#000000\" font-family=\"sans-serif\" font-size=\"12\" lengthAdjust=\"spacingAndGlyphs\" textLength=\"23\" x=\"307.5\" y=\"315.1074\">x: Q</text><line style=\"stroke: #A80036; stroke-width: 1.5;\" x1=\"281\" x2=\"357\" y1=\"322.9375\" y2=\"322.9375\"/><path d=\"M287.9167,327.8542 L287.9167,337.0208 L288.8333,337.0208 L288.8333,327.8542 M291.5833,327.8542 L291.5833,337.0208 L298.9167,332.4375 L291.5833,327.8542 L292.5,329.2292 L297.5417,332.4375 L292.5,335.6458 L292.5,329.2292 \" fill=\"#000000\" style=\"stroke: ; stroke-width: 0.0; stroke-dasharray: ;\"/><text fill=\"#000000\" font-family=\"sans-serif\" font-size=\"11\" lengthAdjust=\"spacingAndGlyphs\" textLength=\"23\" x=\"303\" y=\"338.0933\">b: B</text><text fill=\"#000000\" font-family=\"sans-serif\" font-size=\"11\" lengthAdjust=\"spacingAndGlyphs\" text-decoration=\"line-through\" textLength=\"22\" x=\"330\" y=\"338.0933\">P::a</text></a><!--MD5=[2156ba9850f5573cc1fc38a6a4b2f02b]\n",
       "class E7--><a href=\"psysml:ac43cc4c-8177-486e-b5a5-e877f62f9bc5\" target=\"_top\" title=\"psysml:ac43cc4c-8177-486e-b5a5-e877f62f9bc5\" xlink:actuate=\"onRequest\" xlink:href=\"psysml:ac43cc4c-8177-486e-b5a5-e877f62f9bc5\" xlink:show=\"new\" xlink:title=\"psysml:ac43cc4c-8177-486e-b5a5-e877f62f9bc5\" xlink:type=\"simple\"><rect fill=\"#FEFECE\" filter=\"url(#f1ww0pdq2rcvle)\" height=\"45.9375\" id=\"E7\" rx=\"10\" ry=\"10\" style=\"stroke: #A80036; stroke-width: 1.5;\" width=\"42\" x=\"149\" y=\"41\"/><text fill=\"#000000\" font-family=\"sans-serif\" font-size=\"12\" font-style=\"italic\" lengthAdjust=\"spacingAndGlyphs\" textLength=\"40\" x=\"150\" y=\"57.1387\">«part»</text><text fill=\"#000000\" font-family=\"sans-serif\" font-size=\"12\" lengthAdjust=\"spacingAndGlyphs\" textLength=\"25\" x=\"157.5\" y=\"71.1074\">q: Q</text><line style=\"stroke: #A80036; stroke-width: 1.5;\" x1=\"150\" x2=\"190\" y1=\"78.9375\" y2=\"78.9375\"/></a><!--MD5=[b9389687b975829384b498ac4b7476b2]\n",
       "class E8--><a href=\"psysml:ce952eae-8bb1-4ad0-9f02-4c42d4c1d0c7\" target=\"_top\" title=\"psysml:ce952eae-8bb1-4ad0-9f02-4c42d4c1d0c7\" xlink:actuate=\"onRequest\" xlink:href=\"psysml:ce952eae-8bb1-4ad0-9f02-4c42d4c1d0c7\" xlink:show=\"new\" xlink:title=\"psysml:ce952eae-8bb1-4ad0-9f02-4c42d4c1d0c7\" xlink:type=\"simple\"><rect fill=\"#FEFECE\" filter=\"url(#f1ww0pdq2rcvle)\" height=\"59.9063\" id=\"E8\" rx=\"10\" ry=\"10\" style=\"stroke: #A80036; stroke-width: 1.5;\" width=\"70\" x=\"32\" y=\"148\"/><text fill=\"#000000\" font-family=\"sans-serif\" font-size=\"12\" font-style=\"italic\" lengthAdjust=\"spacingAndGlyphs\" textLength=\"68\" x=\"33\" y=\"164.1387\">«variation»</text><text fill=\"#000000\" font-family=\"sans-serif\" font-size=\"12\" font-style=\"italic\" lengthAdjust=\"spacingAndGlyphs\" textLength=\"40\" x=\"47\" y=\"178.1074\">«part»</text><text fill=\"#000000\" font-family=\"sans-serif\" font-size=\"12\" lengthAdjust=\"spacingAndGlyphs\" textLength=\"22\" x=\"56\" y=\"192.0762\">v: P</text><line style=\"stroke: #A80036; stroke-width: 1.5;\" x1=\"33\" x2=\"101\" y1=\"199.9063\" y2=\"199.9063\"/></a><!--MD5=[fd4143e9d270a159db93a4ea2a975926]\n",
       "class E9--><a href=\"psysml:572dfe4e-6d7c-4ba8-94a3-d7ce0272bed9\" target=\"_top\" title=\"psysml:572dfe4e-6d7c-4ba8-94a3-d7ce0272bed9\" xlink:actuate=\"onRequest\" xlink:href=\"psysml:572dfe4e-6d7c-4ba8-94a3-d7ce0272bed9\" xlink:show=\"new\" xlink:title=\"psysml:572dfe4e-6d7c-4ba8-94a3-d7ce0272bed9\" xlink:type=\"simple\"><rect fill=\"#FEFECE\" filter=\"url(#f1ww0pdq2rcvle)\" height=\"59.6875\" id=\"E9\" rx=\"10\" ry=\"10\" style=\"stroke: #A80036; stroke-width: 1.5;\" width=\"78\" x=\"32\" y=\"285\"/><text fill=\"#000000\" font-family=\"sans-serif\" font-size=\"12\" font-style=\"italic\" lengthAdjust=\"spacingAndGlyphs\" textLength=\"75\" x=\"33.5\" y=\"301.1387\">«reference»</text><text fill=\"#000000\" font-family=\"sans-serif\" font-size=\"12\" lengthAdjust=\"spacingAndGlyphs\" textLength=\"8\" x=\"67\" y=\"315.1074\">q</text><line style=\"stroke: #A80036; stroke-width: 1.5;\" x1=\"33\" x2=\"109\" y1=\"322.9375\" y2=\"322.9375\"/><path d=\"M39.9167,327.8542 L39.9167,337.0208 L40.8333,337.0208 L40.8333,327.8542 M43.5833,327.8542 L43.5833,337.0208 L50.9167,332.4375 L43.5833,327.8542 L44.5,329.2292 L49.5417,332.4375 L44.5,335.6458 L44.5,329.2292 \" fill=\"#000000\" style=\"stroke: ; stroke-width: 0.0; stroke-dasharray: ;\"/><text fill=\"#000000\" font-family=\"sans-serif\" font-size=\"11\" lengthAdjust=\"spacingAndGlyphs\" textLength=\"23\" x=\"55\" y=\"338.0933\">b: B</text><text fill=\"#000000\" font-family=\"sans-serif\" font-size=\"11\" lengthAdjust=\"spacingAndGlyphs\" text-decoration=\"line-through\" textLength=\"22\" x=\"82\" y=\"338.0933\">P::a</text></a><!--MD5=[96f4274e9e20536e775497830990834d]\n",
       "class E10--><a href=\"psysml:983a8093-9810-4637-96cc-9ee8fb3d9cf5\" target=\"_top\" title=\"psysml:983a8093-9810-4637-96cc-9ee8fb3d9cf5\" xlink:actuate=\"onRequest\" xlink:href=\"psysml:983a8093-9810-4637-96cc-9ee8fb3d9cf5\" xlink:show=\"new\" xlink:title=\"psysml:983a8093-9810-4637-96cc-9ee8fb3d9cf5\" xlink:type=\"simple\"><rect fill=\"#FEFECE\" filter=\"url(#f1ww0pdq2rcvle)\" height=\"45.9375\" id=\"E10\" rx=\"10\" ry=\"10\" style=\"stroke: #A80036; stroke-width: 1.5;\" width=\"42\" x=\"238\" y=\"155\"/><text fill=\"#000000\" font-family=\"sans-serif\" font-size=\"12\" font-style=\"italic\" lengthAdjust=\"spacingAndGlyphs\" textLength=\"40\" x=\"239\" y=\"171.1387\">«part»</text><text fill=\"#000000\" font-family=\"sans-serif\" font-size=\"12\" lengthAdjust=\"spacingAndGlyphs\" textLength=\"22\" x=\"248\" y=\"185.1074\">y: P</text><line style=\"stroke: #A80036; stroke-width: 1.5;\" x1=\"239\" x2=\"279\" y1=\"192.9375\" y2=\"192.9375\"/></a><!--MD5=[05d275557350bfb9b23a4ef7222b4c39]\n",
       "link E3 to E2--><a href=\"psysml:9e57242c-9184-4252-9565-bec20c63fdb8\" target=\"_top\" title=\"psysml:9e57242c-9184-4252-9565-bec20c63fdb8\" xlink:actuate=\"onRequest\" xlink:href=\"psysml:9e57242c-9184-4252-9565-bec20c63fdb8\" xlink:show=\"new\" xlink:title=\"psysml:9e57242c-9184-4252-9565-bec20c63fdb8\" xlink:type=\"simple\"><path d=\"M174.13,201.29 C177.34,218.66 181.93,243.41 185.98,265.3 \" fill=\"none\" id=\"E3-&gt;E2\" style=\"stroke: #A80036; stroke-width: 1.0;\"/><polygon fill=\"none\" points=\"192.88,264.14,189.64,285.08,179.12,266.68,192.88,264.14\" style=\"stroke: #A80036; stroke-width: 1.0;\"/></a><!--MD5=[15ebcb19ae302d9b601edb458606d402]\n",
       "link E5 to E2--><a href=\"psysml:5cdbdbe7-d14c-45c9-a804-61f18115238e\" target=\"_top\" title=\"psysml:5cdbdbe7-d14c-45c9-a804-61f18115238e\" xlink:actuate=\"onRequest\" xlink:href=\"psysml:5cdbdbe7-d14c-45c9-a804-61f18115238e\" xlink:show=\"new\" xlink:title=\"psysml:5cdbdbe7-d14c-45c9-a804-61f18115238e\" xlink:type=\"simple\"><path d=\"M322.74,201.29 C301.06,220.42 269.21,248.52 242.75,271.87 \" fill=\"none\" id=\"E5-&gt;E2\" style=\"stroke: #A80036; stroke-width: 1.0;\"/><polygon fill=\"none\" points=\"247.13,277.34,227.5,285.32,237.87,266.84,247.13,277.34\" style=\"stroke: #A80036; stroke-width: 1.0;\"/></a><!--MD5=[9120cf2e5df3bff93db8f754bbbc09b4]\n",
       "link E5 to E6--><a href=\"psysml:052c6ce9-d9db-4da6-90c4-ac16555550ac\" target=\"_top\" title=\"psysml:052c6ce9-d9db-4da6-90c4-ac16555550ac\" xlink:actuate=\"onRequest\" xlink:href=\"psysml:052c6ce9-d9db-4da6-90c4-ac16555550ac\" xlink:show=\"new\" xlink:title=\"psysml:052c6ce9-d9db-4da6-90c4-ac16555550ac\" xlink:type=\"simple\"><path d=\"M341.07,211.28 C336.97,230.34 331.76,254.6 327.43,274.76 \" fill=\"none\" id=\"E5-E6\" style=\"stroke: #A80036; stroke-width: 1.0;\"/><polygon fill=\"#A80036\" points=\"325.32,284.58,329.9339,277.3889,324.0679,276.1282,325.32,284.58\" style=\"stroke: #A80036; stroke-width: 1.0;\"/><path d=\"M334.2948,202.5225 A9,9 0 0 0 350.8317 206.0765\" fill=\"none\" style=\"stroke: #A80036; stroke-width: 1.5;\"/><text fill=\"#000000\" font-family=\"sans-serif\" font-size=\"13\" lengthAdjust=\"spacingAndGlyphs\" textLength=\"60\" x=\"336\" y=\"251.0669\">«variant»</text></a><!--MD5=[14ccda38c055a5c0da953d572bc50960]\n",
       "link E7 to E3--><a href=\"psysml:648145d1-1ec9-42fc-8307-fa8910350658\" target=\"_top\" title=\"psysml:648145d1-1ec9-42fc-8307-fa8910350658\" xlink:actuate=\"onRequest\" xlink:href=\"psysml:648145d1-1ec9-42fc-8307-fa8910350658\" xlink:show=\"new\" xlink:title=\"psysml:648145d1-1ec9-42fc-8307-fa8910350658\" xlink:type=\"simple\"><path d=\"M170,87.13 C170,100.7 170,118.53 170,134.73 \" fill=\"none\" id=\"E7-&gt;E3\" style=\"stroke: #A80036; stroke-width: 1.0;\"/><polygon fill=\"#FFFFFF\" points=\"170,154.92,163,135.92,177,135.92,170,154.92\" style=\"stroke: #A80036; stroke-width: 1.0;\"/><ellipse cx=\"165\" cy=\"130.22\" fill=\"#A80036\" rx=\"2\" ry=\"2\" style=\"stroke: #A80036; stroke-width: 1.0;\"/><ellipse cx=\"175\" cy=\"130.22\" fill=\"#A80036\" rx=\"2\" ry=\"2\" style=\"stroke: #A80036; stroke-width: 1.0;\"/></a><!--MD5=[f1f3f9f2fc535e6147756cb86a7f2e32]\n",
       "link E8 to E2--><a href=\"psysml:19cda0c9-2775-4d9d-8cd8-191c5ad52b34\" target=\"_top\" title=\"psysml:19cda0c9-2775-4d9d-8cd8-191c5ad52b34\" xlink:actuate=\"onRequest\" xlink:href=\"psysml:19cda0c9-2775-4d9d-8cd8-191c5ad52b34\" xlink:show=\"new\" xlink:title=\"psysml:19cda0c9-2775-4d9d-8cd8-191c5ad52b34\" xlink:type=\"simple\"><path d=\"M102.23,204.97 C114.45,214.72 127.87,226.28 139,238 C147.93,247.4 156.69,258.25 164.53,268.75 \" fill=\"none\" id=\"E8-&gt;E2\" style=\"stroke: #A80036; stroke-width: 1.0;\"/><polygon fill=\"#FFFFFF\" points=\"176.35,285.25,159.5896,273.8883,170.967,265.7302,176.35,285.25\" style=\"stroke: #A80036; stroke-width: 1.0;\"/><ellipse cx=\"157.8934\" cy=\"268.0907\" fill=\"#A80036\" rx=\"2\" ry=\"2\" style=\"stroke: #A80036; stroke-width: 1.0;\"/><ellipse cx=\"166.0201\" cy=\"262.2634\" fill=\"#A80036\" rx=\"2\" ry=\"2\" style=\"stroke: #A80036; stroke-width: 1.0;\"/></a><!--MD5=[ed10624c06dd9a4fa49ccf290e8b16a8]\n",
       "link E8 to E9--><a href=\"psysml:28d39c7a-e0c7-42b0-858e-2cb4e488f108\" target=\"_top\" title=\"psysml:28d39c7a-e0c7-42b0-858e-2cb4e488f108\" xlink:actuate=\"onRequest\" xlink:href=\"psysml:28d39c7a-e0c7-42b0-858e-2cb4e488f108\" xlink:show=\"new\" xlink:title=\"psysml:28d39c7a-e0c7-42b0-858e-2cb4e488f108\" xlink:type=\"simple\"><path d=\"M68.16,218.31 C68.69,236.06 69.31,256.98 69.84,274.73 \" fill=\"none\" id=\"E8-E9\" style=\"stroke: #A80036; stroke-width: 1.0;\"/><polygon fill=\"#A80036\" points=\"70.13,284.76,72.8888,276.6736,66.8915,276.8536,70.13,284.76\" style=\"stroke: #A80036; stroke-width: 1.0;\"/><path d=\"M59.509,211.6208 A9,9 0 0 0 76.4159 211.1128\" fill=\"none\" style=\"stroke: #A80036; stroke-width: 1.5;\"/><text fill=\"#000000\" font-family=\"sans-serif\" font-size=\"13\" lengthAdjust=\"spacingAndGlyphs\" textLength=\"60\" x=\"70\" y=\"251.0669\">«variant»</text></a><!--MD5=[0f36bececdf0dff6e600d6f64214b0f1]\n",
       "link E10 to E2--><a href=\"psysml:8cfcd01d-a74f-43be-a680-d41b6ee6accc\" target=\"_top\" title=\"psysml:8cfcd01d-a74f-43be-a680-d41b6ee6accc\" xlink:actuate=\"onRequest\" xlink:href=\"psysml:8cfcd01d-a74f-43be-a680-d41b6ee6accc\" xlink:show=\"new\" xlink:title=\"psysml:8cfcd01d-a74f-43be-a680-d41b6ee6accc\" xlink:type=\"simple\"><path d=\"M248.43,201.29 C239.99,219.11 227.86,244.69 217.29,266.99 \" fill=\"none\" id=\"E10-&gt;E2\" style=\"stroke: #A80036; stroke-width: 1.0;\"/><polygon fill=\"#FFFFFF\" points=\"208.71,285.08,210.5216,264.9127,223.1727,270.9085,208.71,285.08\" style=\"stroke: #A80036; stroke-width: 1.0;\"/><ellipse cx=\"214.77\" cy=\"260.6185\" fill=\"#A80036\" rx=\"2\" ry=\"2\" style=\"stroke: #A80036; stroke-width: 1.0;\"/><ellipse cx=\"223.8065\" cy=\"264.9012\" fill=\"#A80036\" rx=\"2\" ry=\"2\" style=\"stroke: #A80036; stroke-width: 1.0;\"/></a><!--MD5=[a0c2028eab1ff41ad5c718c7b71a8b9c]\n",
       "@startuml\r\n",
       "skinparam wrapWidth 300\r\n",
       "hide circle\r\n",
       "\r\n",
       "package \"VariabilityTest\" as E1  [[psysml:c9192910-aa77-45a9-9ae3-16f7deb9d13d ]]  {\r\n",
       "comp def \"P\" as E2  <<(T,blue)part def>> [[psysml:28b4b804-815b-4815-9c5e-e5b09d6ccef7 ]] {\r\n",
       "a\r\n",
       "}\r\n",
       "comp def \"Q\" as E3  <<(T,blue)part def>> [[psysml:3556ece0-f840-441c-8cd2-5d7027a1a805 ]] {\r\n",
       "}\r\n",
       "comp def \"B\" as E4  <<(T,blue)attribute def>> [[psysml:c1ea47d2-f15e-4f05-bf93-ec81669ca641 ]] {\r\n",
       "}\r\n",
       "comp def \"V\" as E5  <<(T,blue)part def>> [[psysml:735cd89a-e4b2-4dc5-b3d6-41534f400f39 ]] {\r\n",
       "}\r\n",
       "comp usage \"x: Q\" as E6  <<(T,blue)part>> [[psysml:0400016e-70f0-4405-a71c-97e49bd60e65 ]] {\r\n",
       "<&bar-trig> b: B <s>P::a</s>\r\n",
       "}\r\n",
       "comp usage \"q: Q\" as E7  <<(T,blue)part>> [[psysml:ac43cc4c-8177-486e-b5a5-e877f62f9bc5 ]] {\r\n",
       "}\r\n",
       "comp usage \"v: P\" as E8  <<variation>>\\n <<(T,blue)part>> [[psysml:ce952eae-8bb1-4ad0-9f02-4c42d4c1d0c7 ]] {\r\n",
       "}\r\n",
       "comp usage \"q\" as E9  <<(T,blue)reference>> [[psysml:572dfe4e-6d7c-4ba8-94a3-d7ce0272bed9 ]] {\r\n",
       "<&bar-trig> b: B <s>P::a</s>\r\n",
       "}\r\n",
       "comp usage \"y: P\" as E10  <<(T,blue)part>> [[psysml:983a8093-9810-4637-96cc-9ee8fb3d9cf5 ]] {\r\n",
       "}\r\n",
       "E3 - -|> E2 [[psysml:9e57242c-9184-4252-9565-bec20c63fdb8 ]] \r\n",
       "E5 - -|> E2 [[psysml:5cdbdbe7-d14c-45c9-a804-61f18115238e ]] \r\n",
       "E5 )- ->> E6 [[psysml:052c6ce9-d9db-4da6-90c4-ac16555550ac ]] : <<variant>>\r\n",
       "E7 - -:|> E3 [[psysml:648145d1-1ec9-42fc-8307-fa8910350658 ]] \r\n",
       "E8 - -:|> E2 [[psysml:19cda0c9-2775-4d9d-8cd8-191c5ad52b34 ]] \r\n",
       "E8 )- ->> E9 [[psysml:28d39c7a-e0c7-42b0-858e-2cb4e488f108 ]] : <<variant>>\r\n",
       "E10 - -:|> E2 [[psysml:8cfcd01d-a74f-43be-a680-d41b6ee6accc ]] \r\n",
       "}\r\n",
       "@enduml\r\n",
       "\n",
       "PlantUML version 1.2020.13(Sat Jun 13 12:26:38 UTC 2020)\n",
       "(EPL source distribution)\n",
       "Java Runtime: OpenJDK Runtime Environment\n",
       "JVM: OpenJDK 64-Bit Server VM\n",
       "Default Encoding: UTF-8\n",
       "Language: en\n",
       "Country: null\n",
       "--></g></svg>"
      ]
     },
     "execution_count": 29,
     "metadata": {},
     "output_type": "execute_result"
    }
   ],
   "source": [
    "%viz --style=\"STDCOLOR\" --view=\"MIXED\" \"VariabilityTest\""
   ]
  },
  {
   "cell_type": "code",
   "execution_count": 30,
   "id": "726881fc",
   "metadata": {
    "execution": {
     "iopub.execute_input": "2021-05-28T10:47:56.585873Z",
     "iopub.status.busy": "2021-05-28T10:47:56.585497Z",
     "iopub.status.idle": "2021-05-28T10:47:56.657761Z",
     "shell.execute_reply": "2021-05-28T10:47:56.657439Z"
    }
   },
   "outputs": [
    {
     "data": {
      "image/svg+xml": [
       "<?xml version=\"1.0\" encoding=\"UTF-8\" standalone=\"no\"?><svg xmlns=\"http://www.w3.org/2000/svg\" xmlns:xlink=\"http://www.w3.org/1999/xlink\" contentScriptType=\"application/ecmascript\" contentStyleType=\"text/css\" height=\"385px\" preserveAspectRatio=\"none\" style=\"width:421px;height:385px;\" version=\"1.1\" viewBox=\"0 0 421 385\" width=\"421px\" zoomAndPan=\"magnify\"><defs><filter height=\"300%\" id=\"flt1x46b8zxgp\" width=\"300%\" x=\"-1\" y=\"-1\"><feGaussianBlur result=\"blurOut\" stdDeviation=\"2.0\"/><feColorMatrix in=\"blurOut\" result=\"blurOut2\" type=\"matrix\" values=\"0 0 0 0 0 0 0 0 0 0 0 0 0 0 0 0 0 0 .4 0\"/><feOffset dx=\"4.0\" dy=\"4.0\" in=\"blurOut2\" result=\"blurOut3\"/><feBlend in=\"SourceGraphic\" in2=\"blurOut3\" mode=\"normal\"/></filter></defs><g><!--MD5=[fbc87193dbaf4d95561dea2c320d4a47]\n",
       "cluster E1--><a href=\"psysml:c9192910-aa77-45a9-9ae3-16f7deb9d13d\" target=\"_top\" title=\"psysml:c9192910-aa77-45a9-9ae3-16f7deb9d13d\" xlink:actuate=\"onRequest\" xlink:href=\"psysml:c9192910-aa77-45a9-9ae3-16f7deb9d13d\" xlink:show=\"new\" xlink:title=\"psysml:c9192910-aa77-45a9-9ae3-16f7deb9d13d\" xlink:type=\"simple\"><polygon fill=\"#FFFFFF\" filter=\"url(#flt1x46b8zxgp)\" points=\"16,6,134,6,141,28.2969,399,28.2969,399,373,16,373,16,6\" style=\"stroke: #000000; stroke-width: 1.5;\"/><line style=\"stroke: #000000; stroke-width: 1.5;\" x1=\"16\" x2=\"141\" y1=\"28.2969\" y2=\"28.2969\"/><text fill=\"#000000\" font-family=\"sans-serif\" font-size=\"14\" font-weight=\"bold\" lengthAdjust=\"spacingAndGlyphs\" textLength=\"112\" x=\"20\" y=\"20.9951\">VariabilityTest</text></a><!--MD5=[b4997ac47864f28c2f74865a473b2911]\n",
       "class E2--><a href=\"psysml:28b4b804-815b-4815-9c5e-e5b09d6ccef7\" target=\"_top\" title=\"psysml:28b4b804-815b-4815-9c5e-e5b09d6ccef7\" xlink:actuate=\"onRequest\" xlink:href=\"psysml:28b4b804-815b-4815-9c5e-e5b09d6ccef7\" xlink:show=\"new\" xlink:title=\"psysml:28b4b804-815b-4815-9c5e-e5b09d6ccef7\" xlink:type=\"simple\"><rect fill=\"#FEFECE\" filter=\"url(#flt1x46b8zxgp)\" height=\"52.8047\" id=\"E2\" style=\"stroke: #A80036; stroke-width: 1.5;\" width=\"40\" x=\"192\" y=\"294.5\"/><ellipse cx=\"207\" cy=\"310.5\" fill=\"#008000\" rx=\"11\" ry=\"11\" style=\"stroke: #A80036; stroke-width: 1.0;\"/><path d=\"M205.9063,310.875 L205.9063,314.5469 L207.5313,314.5469 Q208.7031,314.5469 209.1719,314.1563 Q209.6406,313.75 209.6406,312.75 Q209.6406,311.75 209.1406,311.3125 Q208.6563,310.875 207.5313,310.875 L205.9063,310.875 Z M205.9063,306.0469 L205.9063,308.9219 L207.5313,308.9219 Q208.4531,308.9219 208.8438,308.5938 Q209.25,308.25 209.25,307.5 Q209.25,306.7344 208.8438,306.3906 Q208.4375,306.0469 207.5313,306.0469 L205.9063,306.0469 Z M203.5313,304.0938 L207.5313,304.0938 Q209.5938,304.0938 210.6406,304.875 Q211.6875,305.6563 211.6875,307.2188 Q211.6875,308.4219 211.0625,309.0938 Q210.4531,309.7656 209.2656,309.875 Q210.6875,310.0156 211.4063,310.8281 Q212.125,311.6406 212.125,313.0938 Q212.125,314.8906 211.0469,315.7031 Q209.9688,316.5 207.5313,316.5 L203.5313,316.5 L203.5313,304.0938 Z \"/><text fill=\"#000000\" font-family=\"sans-serif\" font-size=\"12\" lengthAdjust=\"spacingAndGlyphs\" textLength=\"8\" x=\"221\" y=\"314.6543\">P</text><line style=\"stroke: #A80036; stroke-width: 1.5;\" x1=\"193\" x2=\"231\" y1=\"326.5\" y2=\"326.5\"/><text fill=\"#000000\" font-family=\"sans-serif\" font-size=\"11\" lengthAdjust=\"spacingAndGlyphs\" textLength=\"7\" x=\"198\" y=\"340.7104\">a</text></a><!--MD5=[09b614a08d8cba4a07c9adeb5e0fee81]\n",
       "class E3--><a href=\"psysml:3556ece0-f840-441c-8cd2-5d7027a1a805\" target=\"_top\" title=\"psysml:3556ece0-f840-441c-8cd2-5d7027a1a805\" xlink:actuate=\"onRequest\" xlink:href=\"psysml:3556ece0-f840-441c-8cd2-5d7027a1a805\" xlink:show=\"new\" xlink:title=\"psysml:3556ece0-f840-441c-8cd2-5d7027a1a805\" xlink:type=\"simple\"><rect fill=\"#FEFECE\" filter=\"url(#flt1x46b8zxgp)\" height=\"40\" id=\"E3\" style=\"stroke: #A80036; stroke-width: 1.5;\" width=\"41\" x=\"163.5\" y=\"158\"/><ellipse cx=\"178.5\" cy=\"174\" fill=\"#008000\" rx=\"11\" ry=\"11\" style=\"stroke: #A80036; stroke-width: 1.0;\"/><path d=\"M177.4063,174.375 L177.4063,178.0469 L179.0313,178.0469 Q180.2031,178.0469 180.6719,177.6563 Q181.1406,177.25 181.1406,176.25 Q181.1406,175.25 180.6406,174.8125 Q180.1563,174.375 179.0313,174.375 L177.4063,174.375 Z M177.4063,169.5469 L177.4063,172.4219 L179.0313,172.4219 Q179.9531,172.4219 180.3438,172.0938 Q180.75,171.75 180.75,171 Q180.75,170.2344 180.3438,169.8906 Q179.9375,169.5469 179.0313,169.5469 L177.4063,169.5469 Z M175.0313,167.5938 L179.0313,167.5938 Q181.0938,167.5938 182.1406,168.375 Q183.1875,169.1563 183.1875,170.7188 Q183.1875,171.9219 182.5625,172.5938 Q181.9531,173.2656 180.7656,173.375 Q182.1875,173.5156 182.9063,174.3281 Q183.625,175.1406 183.625,176.5938 Q183.625,178.3906 182.5469,179.2031 Q181.4688,180 179.0313,180 L175.0313,180 L175.0313,167.5938 Z \"/><text fill=\"#000000\" font-family=\"sans-serif\" font-size=\"12\" lengthAdjust=\"spacingAndGlyphs\" textLength=\"9\" x=\"192.5\" y=\"178.1543\">Q</text><line style=\"stroke: #A80036; stroke-width: 1.5;\" x1=\"164.5\" x2=\"203.5\" y1=\"190\" y2=\"190\"/></a><!--MD5=[ebbe1d658d1005bcc118a6aa81145e00]\n",
       "class E4--><a href=\"psysml:c1ea47d2-f15e-4f05-bf93-ec81669ca641\" target=\"_top\" title=\"psysml:c1ea47d2-f15e-4f05-bf93-ec81669ca641\" xlink:actuate=\"onRequest\" xlink:href=\"psysml:c1ea47d2-f15e-4f05-bf93-ec81669ca641\" xlink:show=\"new\" xlink:title=\"psysml:c1ea47d2-f15e-4f05-bf93-ec81669ca641\" xlink:type=\"simple\"><rect fill=\"#FEFECE\" filter=\"url(#flt1x46b8zxgp)\" height=\"45.9375\" id=\"E4\" style=\"stroke: #A80036; stroke-width: 1.5;\" width=\"121\" x=\"257.5\" y=\"41\"/><ellipse cx=\"272.5\" cy=\"59.9688\" fill=\"#A52A2A\" rx=\"11\" ry=\"11\" style=\"stroke: #A80036; stroke-width: 1.0;\"/><path d=\"M272.0938,55.7813 L272.0938,63.7656 L272.75,63.7656 Q274.1875,63.7656 274.7969,62.8594 Q275.4219,61.9375 275.4219,59.7656 Q275.4219,57.5938 274.7969,56.6875 Q274.1875,55.7813 272.75,55.7813 L272.0938,55.7813 Z M269.6406,53.5781 L272.2656,53.5781 Q275.2969,53.5781 276.625,55.0313 Q277.9688,56.4688 277.9688,59.7656 Q277.9688,63.0625 276.625,64.5156 Q275.2969,65.9688 272.2656,65.9688 L269.6406,65.9688 L269.6406,53.5781 Z \"/><text fill=\"#000000\" font-family=\"sans-serif\" font-size=\"12\" font-style=\"italic\" lengthAdjust=\"spacingAndGlyphs\" textLength=\"93\" x=\"284.5\" y=\"57.1387\">«attribute def»</text><text fill=\"#000000\" font-family=\"sans-serif\" font-size=\"12\" lengthAdjust=\"spacingAndGlyphs\" textLength=\"8\" x=\"327\" y=\"71.1074\">B</text><line style=\"stroke: #A80036; stroke-width: 1.5;\" x1=\"258.5\" x2=\"377.5\" y1=\"78.9375\" y2=\"78.9375\"/></a><!--MD5=[270fce915f116d4de14055a7c1d9a0f3]\n",
       "class E5--><a href=\"psysml:735cd89a-e4b2-4dc5-b3d6-41534f400f39\" target=\"_top\" title=\"psysml:735cd89a-e4b2-4dc5-b3d6-41534f400f39\" xlink:actuate=\"onRequest\" xlink:href=\"psysml:735cd89a-e4b2-4dc5-b3d6-41534f400f39\" xlink:show=\"new\" xlink:title=\"psysml:735cd89a-e4b2-4dc5-b3d6-41534f400f39\" xlink:type=\"simple\"><rect fill=\"#FEFECE\" filter=\"url(#flt1x46b8zxgp)\" height=\"40\" id=\"E5\" style=\"stroke: #A80036; stroke-width: 1.5;\" width=\"40\" x=\"343\" y=\"158\"/><ellipse cx=\"358\" cy=\"174\" fill=\"#008000\" rx=\"11\" ry=\"11\" style=\"stroke: #A80036; stroke-width: 1.0;\"/><path d=\"M356.9063,174.375 L356.9063,178.0469 L358.5313,178.0469 Q359.7031,178.0469 360.1719,177.6563 Q360.6406,177.25 360.6406,176.25 Q360.6406,175.25 360.1406,174.8125 Q359.6563,174.375 358.5313,174.375 L356.9063,174.375 Z M356.9063,169.5469 L356.9063,172.4219 L358.5313,172.4219 Q359.4531,172.4219 359.8438,172.0938 Q360.25,171.75 360.25,171 Q360.25,170.2344 359.8438,169.8906 Q359.4375,169.5469 358.5313,169.5469 L356.9063,169.5469 Z M354.5313,167.5938 L358.5313,167.5938 Q360.5938,167.5938 361.6406,168.375 Q362.6875,169.1563 362.6875,170.7188 Q362.6875,171.9219 362.0625,172.5938 Q361.4531,173.2656 360.2656,173.375 Q361.6875,173.5156 362.4063,174.3281 Q363.125,175.1406 363.125,176.5938 Q363.125,178.3906 362.0469,179.2031 Q360.9688,180 358.5313,180 L354.5313,180 L354.5313,167.5938 Z \"/><text fill=\"#000000\" font-family=\"sans-serif\" font-size=\"12\" lengthAdjust=\"spacingAndGlyphs\" textLength=\"8\" x=\"372\" y=\"178.1543\">V</text><line style=\"stroke: #A80036; stroke-width: 1.5;\" x1=\"344\" x2=\"382\" y1=\"190\" y2=\"190\"/></a><!--MD5=[60a26617385b1d2d0262a64233df1f8d]\n",
       "class E6--><a href=\"psysml:0400016e-70f0-4405-a71c-97e49bd60e65\" target=\"_top\" title=\"psysml:0400016e-70f0-4405-a71c-97e49bd60e65\" xlink:actuate=\"onRequest\" xlink:href=\"psysml:0400016e-70f0-4405-a71c-97e49bd60e65\" xlink:show=\"new\" xlink:title=\"psysml:0400016e-70f0-4405-a71c-97e49bd60e65\" xlink:type=\"simple\"><rect fill=\"#FEFECE\" filter=\"url(#flt1x46b8zxgp)\" height=\"71.5469\" id=\"E6\" rx=\"10\" ry=\"10\" style=\"stroke: #A80036; stroke-width: 1.5;\" width=\"68\" x=\"287\" y=\"285\"/><ellipse cx=\"302\" cy=\"303.9688\" fill=\"#32CD32\" rx=\"11\" ry=\"11\" style=\"stroke: #A80036; stroke-width: 1.0;\"/><path d=\"M301.7969,299.6406 L301.7969,303.2656 L302.7969,303.2656 Q304,303.2656 304.4844,302.8594 Q304.9688,302.4531 304.9688,301.4531 Q304.9688,300.4531 304.4844,300.0469 Q304,299.6406 302.7969,299.6406 L301.7969,299.6406 Z M299.3438,297.5781 L302.7031,297.5781 Q305.2656,297.5781 306.3906,298.5 Q307.5156,299.4063 307.5156,301.4531 Q307.5156,303.5 306.3906,304.4219 Q305.2656,305.3281 302.7031,305.3281 L301.7969,305.3281 L301.7969,309.9688 L299.3438,309.9688 L299.3438,297.5781 Z \"/><text fill=\"#000000\" font-family=\"sans-serif\" font-size=\"12\" font-style=\"italic\" lengthAdjust=\"spacingAndGlyphs\" textLength=\"40\" x=\"314\" y=\"301.1387\">«part»</text><text fill=\"#000000\" font-family=\"sans-serif\" font-size=\"12\" lengthAdjust=\"spacingAndGlyphs\" textLength=\"23\" x=\"322.5\" y=\"315.1074\">x: Q</text><line style=\"stroke: #A80036; stroke-width: 1.5;\" x1=\"288\" x2=\"354\" y1=\"322.9375\" y2=\"322.9375\"/><text fill=\"#000000\" font-family=\"sans-serif\" font-size=\"11\" lengthAdjust=\"spacingAndGlyphs\" textLength=\"23\" x=\"293\" y=\"337.1479\">b: B</text><text fill=\"#000000\" font-family=\"sans-serif\" font-size=\"11\" font-style=\"italic\" lengthAdjust=\"spacingAndGlyphs\" textLength=\"44\" x=\"293\" y=\"349.9526\">:&gt;&gt;P::a</text></a><!--MD5=[2156ba9850f5573cc1fc38a6a4b2f02b]\n",
       "class E7--><a href=\"psysml:ac43cc4c-8177-486e-b5a5-e877f62f9bc5\" target=\"_top\" title=\"psysml:ac43cc4c-8177-486e-b5a5-e877f62f9bc5\" xlink:actuate=\"onRequest\" xlink:href=\"psysml:ac43cc4c-8177-486e-b5a5-e877f62f9bc5\" xlink:show=\"new\" xlink:title=\"psysml:ac43cc4c-8177-486e-b5a5-e877f62f9bc5\" xlink:type=\"simple\"><rect fill=\"#FEFECE\" filter=\"url(#flt1x46b8zxgp)\" height=\"45.9375\" id=\"E7\" rx=\"10\" ry=\"10\" style=\"stroke: #A80036; stroke-width: 1.5;\" width=\"68\" x=\"150\" y=\"41\"/><ellipse cx=\"165\" cy=\"59.9688\" fill=\"#32CD32\" rx=\"11\" ry=\"11\" style=\"stroke: #A80036; stroke-width: 1.0;\"/><path d=\"M164.7969,55.6406 L164.7969,59.2656 L165.7969,59.2656 Q167,59.2656 167.4844,58.8594 Q167.9688,58.4531 167.9688,57.4531 Q167.9688,56.4531 167.4844,56.0469 Q167,55.6406 165.7969,55.6406 L164.7969,55.6406 Z M162.3438,53.5781 L165.7031,53.5781 Q168.2656,53.5781 169.3906,54.5 Q170.5156,55.4063 170.5156,57.4531 Q170.5156,59.5 169.3906,60.4219 Q168.2656,61.3281 165.7031,61.3281 L164.7969,61.3281 L164.7969,65.9688 L162.3438,65.9688 L162.3438,53.5781 Z \"/><text fill=\"#000000\" font-family=\"sans-serif\" font-size=\"12\" font-style=\"italic\" lengthAdjust=\"spacingAndGlyphs\" textLength=\"40\" x=\"177\" y=\"57.1387\">«part»</text><text fill=\"#000000\" font-family=\"sans-serif\" font-size=\"12\" lengthAdjust=\"spacingAndGlyphs\" textLength=\"25\" x=\"184.5\" y=\"71.1074\">q: Q</text><line style=\"stroke: #A80036; stroke-width: 1.5;\" x1=\"151\" x2=\"217\" y1=\"78.9375\" y2=\"78.9375\"/></a><!--MD5=[b9389687b975829384b498ac4b7476b2]\n",
       "class E8--><a href=\"psysml:ce952eae-8bb1-4ad0-9f02-4c42d4c1d0c7\" target=\"_top\" title=\"psysml:ce952eae-8bb1-4ad0-9f02-4c42d4c1d0c7\" xlink:actuate=\"onRequest\" xlink:href=\"psysml:ce952eae-8bb1-4ad0-9f02-4c42d4c1d0c7\" xlink:show=\"new\" xlink:title=\"psysml:ce952eae-8bb1-4ad0-9f02-4c42d4c1d0c7\" xlink:type=\"simple\"><rect fill=\"#FEFECE\" filter=\"url(#flt1x46b8zxgp)\" height=\"59.9063\" id=\"E8\" rx=\"10\" ry=\"10\" style=\"stroke: #A80036; stroke-width: 1.5;\" width=\"96\" x=\"32\" y=\"148\"/><ellipse cx=\"47\" cy=\"173.9531\" fill=\"#32CD32\" rx=\"11\" ry=\"11\" style=\"stroke: #A80036; stroke-width: 1.0;\"/><path d=\"M46.7969,169.625 L46.7969,173.25 L47.7969,173.25 Q49,173.25 49.4844,172.8438 Q49.9688,172.4375 49.9688,171.4375 Q49.9688,170.4375 49.4844,170.0313 Q49,169.625 47.7969,169.625 L46.7969,169.625 Z M44.3438,167.5625 L47.7031,167.5625 Q50.2656,167.5625 51.3906,168.4844 Q52.5156,169.3906 52.5156,171.4375 Q52.5156,173.4844 51.3906,174.4063 Q50.2656,175.3125 47.7031,175.3125 L46.7969,175.3125 L46.7969,179.9531 L44.3438,179.9531 L44.3438,167.5625 Z \"/><text fill=\"#000000\" font-family=\"sans-serif\" font-size=\"12\" font-style=\"italic\" lengthAdjust=\"spacingAndGlyphs\" textLength=\"68\" x=\"59\" y=\"164.1387\">«variation»</text><text fill=\"#000000\" font-family=\"sans-serif\" font-size=\"12\" font-style=\"italic\" lengthAdjust=\"spacingAndGlyphs\" textLength=\"40\" x=\"73\" y=\"178.1074\">«part»</text><text fill=\"#000000\" font-family=\"sans-serif\" font-size=\"12\" lengthAdjust=\"spacingAndGlyphs\" textLength=\"22\" x=\"82\" y=\"192.0762\">v: P</text><line style=\"stroke: #A80036; stroke-width: 1.5;\" x1=\"33\" x2=\"127\" y1=\"199.9063\" y2=\"199.9063\"/></a><!--MD5=[fd4143e9d270a159db93a4ea2a975926]\n",
       "class E9--><a href=\"psysml:572dfe4e-6d7c-4ba8-94a3-d7ce0272bed9\" target=\"_top\" title=\"psysml:572dfe4e-6d7c-4ba8-94a3-d7ce0272bed9\" xlink:actuate=\"onRequest\" xlink:href=\"psysml:572dfe4e-6d7c-4ba8-94a3-d7ce0272bed9\" xlink:show=\"new\" xlink:title=\"psysml:572dfe4e-6d7c-4ba8-94a3-d7ce0272bed9\" xlink:type=\"simple\"><rect fill=\"#FEFECE\" filter=\"url(#flt1x46b8zxgp)\" height=\"71.5469\" id=\"E9\" rx=\"10\" ry=\"10\" style=\"stroke: #A80036; stroke-width: 1.5;\" width=\"103\" x=\"32.5\" y=\"285\"/><ellipse cx=\"47.5\" cy=\"303.9688\" fill=\"#FFA500\" rx=\"11\" ry=\"11\" style=\"stroke: #A80036; stroke-width: 1.0;\"/><path d=\"M43.375,305.8906 L43.375,298.0781 L45.8281,298.0781 L45.8281,306.5156 Q45.8281,307.4375 46.2969,307.9688 Q46.7813,308.5 47.6094,308.5 Q48.4531,308.5 48.9219,307.9688 Q49.3906,307.4375 49.3906,306.5156 L49.3906,298.0781 L51.8438,298.0781 L51.8438,305.8906 Q51.8438,308.4219 50.8438,309.5625 Q49.8438,310.7031 47.6094,310.7031 Q45.3906,310.7031 44.375,309.5625 Q43.375,308.4219 43.375,305.8906 Z \"/><text fill=\"#000000\" font-family=\"sans-serif\" font-size=\"12\" font-style=\"italic\" lengthAdjust=\"spacingAndGlyphs\" textLength=\"75\" x=\"59.5\" y=\"301.1387\">«reference»</text><text fill=\"#000000\" font-family=\"sans-serif\" font-size=\"12\" lengthAdjust=\"spacingAndGlyphs\" textLength=\"8\" x=\"93\" y=\"315.1074\">q</text><line style=\"stroke: #A80036; stroke-width: 1.5;\" x1=\"33.5\" x2=\"134.5\" y1=\"322.9375\" y2=\"322.9375\"/><text fill=\"#000000\" font-family=\"sans-serif\" font-size=\"11\" lengthAdjust=\"spacingAndGlyphs\" textLength=\"23\" x=\"38.5\" y=\"337.1479\">b: B</text><text fill=\"#000000\" font-family=\"sans-serif\" font-size=\"11\" font-style=\"italic\" lengthAdjust=\"spacingAndGlyphs\" textLength=\"44\" x=\"38.5\" y=\"349.9526\">:&gt;&gt;P::a</text></a><!--MD5=[96f4274e9e20536e775497830990834d]\n",
       "class E10--><a href=\"psysml:983a8093-9810-4637-96cc-9ee8fb3d9cf5\" target=\"_top\" title=\"psysml:983a8093-9810-4637-96cc-9ee8fb3d9cf5\" xlink:actuate=\"onRequest\" xlink:href=\"psysml:983a8093-9810-4637-96cc-9ee8fb3d9cf5\" xlink:show=\"new\" xlink:title=\"psysml:983a8093-9810-4637-96cc-9ee8fb3d9cf5\" xlink:type=\"simple\"><rect fill=\"#FEFECE\" filter=\"url(#flt1x46b8zxgp)\" height=\"45.9375\" id=\"E10\" rx=\"10\" ry=\"10\" style=\"stroke: #A80036; stroke-width: 1.5;\" width=\"68\" x=\"240\" y=\"155\"/><ellipse cx=\"255\" cy=\"173.9688\" fill=\"#32CD32\" rx=\"11\" ry=\"11\" style=\"stroke: #A80036; stroke-width: 1.0;\"/><path d=\"M254.7969,169.6406 L254.7969,173.2656 L255.7969,173.2656 Q257,173.2656 257.4844,172.8594 Q257.9688,172.4531 257.9688,171.4531 Q257.9688,170.4531 257.4844,170.0469 Q257,169.6406 255.7969,169.6406 L254.7969,169.6406 Z M252.3438,167.5781 L255.7031,167.5781 Q258.2656,167.5781 259.3906,168.5 Q260.5156,169.4063 260.5156,171.4531 Q260.5156,173.5 259.3906,174.4219 Q258.2656,175.3281 255.7031,175.3281 L254.7969,175.3281 L254.7969,179.9688 L252.3438,179.9688 L252.3438,167.5781 Z \"/><text fill=\"#000000\" font-family=\"sans-serif\" font-size=\"12\" font-style=\"italic\" lengthAdjust=\"spacingAndGlyphs\" textLength=\"40\" x=\"267\" y=\"171.1387\">«part»</text><text fill=\"#000000\" font-family=\"sans-serif\" font-size=\"12\" lengthAdjust=\"spacingAndGlyphs\" textLength=\"22\" x=\"276\" y=\"185.1074\">y: P</text><line style=\"stroke: #A80036; stroke-width: 1.5;\" x1=\"241\" x2=\"307\" y1=\"192.9375\" y2=\"192.9375\"/></a><!--MD5=[05d275557350bfb9b23a4ef7222b4c39]\n",
       "link E3 to E2--><a href=\"psysml:9e57242c-9184-4252-9565-bec20c63fdb8\" target=\"_top\" title=\"psysml:9e57242c-9184-4252-9565-bec20c63fdb8\" xlink:actuate=\"onRequest\" xlink:href=\"psysml:9e57242c-9184-4252-9565-bec20c63fdb8\" xlink:show=\"new\" xlink:title=\"psysml:9e57242c-9184-4252-9565-bec20c63fdb8\" xlink:type=\"simple\"><path d=\"M187.78,198.02 C191.66,217.55 197.84,248.68 202.99,274.61 \" fill=\"none\" id=\"E3-&gt;E2\" style=\"stroke: #A80036; stroke-width: 1.0;\"/><polygon fill=\"none\" points=\"209.88,273.39,206.91,294.37,196.15,276.12,209.88,273.39\" style=\"stroke: #A80036; stroke-width: 1.0;\"/></a><!--MD5=[15ebcb19ae302d9b601edb458606d402]\n",
       "link E5 to E2--><a href=\"psysml:5cdbdbe7-d14c-45c9-a804-61f18115238e\" target=\"_top\" title=\"psysml:5cdbdbe7-d14c-45c9-a804-61f18115238e\" xlink:actuate=\"onRequest\" xlink:href=\"psysml:5cdbdbe7-d14c-45c9-a804-61f18115238e\" xlink:show=\"new\" xlink:title=\"psysml:5cdbdbe7-d14c-45c9-a804-61f18115238e\" xlink:type=\"simple\"><path d=\"M342.95,197.72 C318.47,220.58 276.65,259.63 246.86,287.45 \" fill=\"none\" id=\"E5-&gt;E2\" style=\"stroke: #A80036; stroke-width: 1.0;\"/><polygon fill=\"none\" points=\"251.53,292.67,232.13,301.2,241.98,282.43,251.53,292.67\" style=\"stroke: #A80036; stroke-width: 1.0;\"/></a><!--MD5=[9120cf2e5df3bff93db8f754bbbc09b4]\n",
       "link E5 to E6--><a href=\"psysml:052c6ce9-d9db-4da6-90c4-ac16555550ac\" target=\"_top\" title=\"psysml:052c6ce9-d9db-4da6-90c4-ac16555550ac\" xlink:actuate=\"onRequest\" xlink:href=\"psysml:052c6ce9-d9db-4da6-90c4-ac16555550ac\" xlink:show=\"new\" xlink:title=\"psysml:052c6ce9-d9db-4da6-90c4-ac16555550ac\" xlink:type=\"simple\"><path d=\"M354.4,207.89 C348.64,227.2 340.95,253.01 334.41,274.99 \" fill=\"none\" id=\"E5-E6\" style=\"stroke: #A80036; stroke-width: 1.0;\"/><polygon fill=\"#A80036\" points=\"331.49,284.79,336.6502,277.9802,330.9001,276.2664,331.49,284.79\" style=\"stroke: #A80036; stroke-width: 1.0;\"/><path d=\"M348.3559,198.5542 A9,9 0 0 0 364.5656 203.3857\" fill=\"none\" style=\"stroke: #A80036; stroke-width: 1.5;\"/><text fill=\"#000000\" font-family=\"sans-serif\" font-size=\"13\" lengthAdjust=\"spacingAndGlyphs\" textLength=\"60\" x=\"345\" y=\"251.0669\">«variant»</text></a><!--MD5=[14ccda38c055a5c0da953d572bc50960]\n",
       "link E7 to E3--><a href=\"psysml:648145d1-1ec9-42fc-8307-fa8910350658\" target=\"_top\" title=\"psysml:648145d1-1ec9-42fc-8307-fa8910350658\" xlink:actuate=\"onRequest\" xlink:href=\"psysml:648145d1-1ec9-42fc-8307-fa8910350658\" xlink:show=\"new\" xlink:title=\"psysml:648145d1-1ec9-42fc-8307-fa8910350658\" xlink:type=\"simple\"><path d=\"M184,87.13 C184,101.57 184,120.83 184,137.81 \" fill=\"none\" id=\"E7-&gt;E3\" style=\"stroke: #A80036; stroke-width: 1.0;\"/><polygon fill=\"#FFFFFF\" points=\"184,157.9,177,138.9,191,138.9,184,157.9\" style=\"stroke: #A80036; stroke-width: 1.0;\"/><ellipse cx=\"179\" cy=\"133.2\" fill=\"#A80036\" rx=\"2\" ry=\"2\" style=\"stroke: #A80036; stroke-width: 1.0;\"/><ellipse cx=\"189\" cy=\"133.2\" fill=\"#A80036\" rx=\"2\" ry=\"2\" style=\"stroke: #A80036; stroke-width: 1.0;\"/></a><!--MD5=[f1f3f9f2fc535e6147756cb86a7f2e32]\n",
       "link E8 to E2--><a href=\"psysml:19cda0c9-2775-4d9d-8cd8-191c5ad52b34\" target=\"_top\" title=\"psysml:19cda0c9-2775-4d9d-8cd8-191c5ad52b34\" xlink:actuate=\"onRequest\" xlink:href=\"psysml:19cda0c9-2775-4d9d-8cd8-191c5ad52b34\" xlink:show=\"new\" xlink:title=\"psysml:19cda0c9-2775-4d9d-8cd8-191c5ad52b34\" xlink:type=\"simple\"><path d=\"M119.32,208.23 C130.4,217.24 142.11,227.55 152,238 C163.47,250.11 174.65,264.47 184.19,277.75 \" fill=\"none\" id=\"E8-&gt;E2\" style=\"stroke: #A80036; stroke-width: 1.0;\"/><polygon fill=\"#FFFFFF\" points=\"195.68,294.32,179.1086,282.6843,190.6186,274.7143,195.68,294.32\" style=\"stroke: #A80036; stroke-width: 1.0;\"/><ellipse cx=\"177.508\" cy=\"276.8595\" fill=\"#A80036\" rx=\"2\" ry=\"2\" style=\"stroke: #A80036; stroke-width: 1.0;\"/><ellipse cx=\"185.7294\" cy=\"271.1667\" fill=\"#A80036\" rx=\"2\" ry=\"2\" style=\"stroke: #A80036; stroke-width: 1.0;\"/></a><!--MD5=[ed10624c06dd9a4fa49ccf290e8b16a8]\n",
       "link E8 to E9--><a href=\"psysml:28d39c7a-e0c7-42b0-858e-2cb4e488f108\" target=\"_top\" title=\"psysml:28d39c7a-e0c7-42b0-858e-2cb4e488f108\" xlink:actuate=\"onRequest\" xlink:href=\"psysml:28d39c7a-e0c7-42b0-858e-2cb4e488f108\" xlink:show=\"new\" xlink:title=\"psysml:28d39c7a-e0c7-42b0-858e-2cb4e488f108\" xlink:type=\"simple\"><path d=\"M81.12,218.35 C81.61,235.87 82.2,256.61 82.72,274.77 \" fill=\"none\" id=\"E8-E9\" style=\"stroke: #A80036; stroke-width: 1.0;\"/><polygon fill=\"#A80036\" points=\"83,284.83,85.7703,276.7476,79.7727,276.9189,83,284.83\" style=\"stroke: #A80036; stroke-width: 1.0;\"/><path d=\"M72.4641,211.5385 A9,9 0 0 0 89.3717 211.0554\" fill=\"none\" style=\"stroke: #A80036; stroke-width: 1.5;\"/><text fill=\"#000000\" font-family=\"sans-serif\" font-size=\"13\" lengthAdjust=\"spacingAndGlyphs\" textLength=\"60\" x=\"83\" y=\"251.0669\">«variant»</text></a><!--MD5=[0f36bececdf0dff6e600d6f64214b0f1]\n",
       "link E10 to E2--><a href=\"psysml:8cfcd01d-a74f-43be-a680-d41b6ee6accc\" target=\"_top\" title=\"psysml:8cfcd01d-a74f-43be-a680-d41b6ee6accc\" xlink:actuate=\"onRequest\" xlink:href=\"psysml:8cfcd01d-a74f-43be-a680-d41b6ee6accc\" xlink:show=\"new\" xlink:title=\"psysml:8cfcd01d-a74f-43be-a680-d41b6ee6accc\" xlink:type=\"simple\"><path d=\"M264.31,201.03 C255.55,220.95 242.39,250.89 231.46,275.74 \" fill=\"none\" id=\"E10-&gt;E2\" style=\"stroke: #A80036; stroke-width: 1.0;\"/><polygon fill=\"#FFFFFF\" points=\"223.3,294.3,224.5306,274.089,237.3489,279.7183,223.3,294.3\" style=\"stroke: #A80036; stroke-width: 1.0;\"/><ellipse cx=\"228.6537\" cy=\"269.6742\" fill=\"#A80036\" rx=\"2\" ry=\"2\" style=\"stroke: #A80036; stroke-width: 1.0;\"/><ellipse cx=\"237.8097\" cy=\"273.6952\" fill=\"#A80036\" rx=\"2\" ry=\"2\" style=\"stroke: #A80036; stroke-width: 1.0;\"/></a><!--MD5=[ac5dd6cc245f4146fa69a29f0895703c]\n",
       "@startuml\r\n",
       " \r\n",
       "package \"VariabilityTest\" as E1  [[psysml:c9192910-aa77-45a9-9ae3-16f7deb9d13d ]]  {\r\n",
       "comp def \"P\" as E2  << (B,green) >> [[psysml:28b4b804-815b-4815-9c5e-e5b09d6ccef7 ]] {\r\n",
       "a\r\n",
       "}\r\n",
       "comp def \"Q\" as E3  << (B,green) >> [[psysml:3556ece0-f840-441c-8cd2-5d7027a1a805 ]] {\r\n",
       "}\r\n",
       "comp def \"B\" as E4  <<(D,brown)attribute def>> [[psysml:c1ea47d2-f15e-4f05-bf93-ec81669ca641 ]] {\r\n",
       "}\r\n",
       "comp def \"V\" as E5  << (B,green) >> [[psysml:735cd89a-e4b2-4dc5-b3d6-41534f400f39 ]] {\r\n",
       "}\r\n",
       "comp usage \"x: Q\" as E6  << (P,limegreen) part>> [[psysml:0400016e-70f0-4405-a71c-97e49bd60e65 ]] {\r\n",
       "b: B\\n//:>>P::a// \r\n",
       "}\r\n",
       "comp usage \"q: Q\" as E7  << (P,limegreen) part>> [[psysml:ac43cc4c-8177-486e-b5a5-e877f62f9bc5 ]] {\r\n",
       "}\r\n",
       "comp usage \"v: P\" as E8  <<variation>>\\n << (P,limegreen) part>> [[psysml:ce952eae-8bb1-4ad0-9f02-4c42d4c1d0c7 ]] {\r\n",
       "}\r\n",
       "comp usage \"q\" as E9  <<(U,orange)reference>> [[psysml:572dfe4e-6d7c-4ba8-94a3-d7ce0272bed9 ]] {\r\n",
       "b: B\\n//:>>P::a// \r\n",
       "}\r\n",
       "comp usage \"y: P\" as E10  << (P,limegreen) part>> [[psysml:983a8093-9810-4637-96cc-9ee8fb3d9cf5 ]] {\r\n",
       "}\r\n",
       "E3 - -|> E2 [[psysml:9e57242c-9184-4252-9565-bec20c63fdb8 ]] \r\n",
       "E5 - -|> E2 [[psysml:5cdbdbe7-d14c-45c9-a804-61f18115238e ]] \r\n",
       "E5 )- ->> E6 [[psysml:052c6ce9-d9db-4da6-90c4-ac16555550ac ]] : <<variant>>\r\n",
       "E7 - -:|> E3 [[psysml:648145d1-1ec9-42fc-8307-fa8910350658 ]] \r\n",
       "E8 - -:|> E2 [[psysml:19cda0c9-2775-4d9d-8cd8-191c5ad52b34 ]] \r\n",
       "E8 )- ->> E9 [[psysml:28d39c7a-e0c7-42b0-858e-2cb4e488f108 ]] : <<variant>>\r\n",
       "E10 - -:|> E2 [[psysml:8cfcd01d-a74f-43be-a680-d41b6ee6accc ]] \r\n",
       "}\r\n",
       "@enduml\r\n",
       "\n",
       "PlantUML version 1.2020.13(Sat Jun 13 12:26:38 UTC 2020)\n",
       "(EPL source distribution)\n",
       "Java Runtime: OpenJDK Runtime Environment\n",
       "JVM: OpenJDK 64-Bit Server VM\n",
       "Default Encoding: UTF-8\n",
       "Language: en\n",
       "Country: null\n",
       "--></g></svg>"
      ]
     },
     "execution_count": 30,
     "metadata": {},
     "output_type": "execute_result"
    }
   ],
   "source": [
    "%viz --style=\"PLANTUML\" --view=\"Default\" \"VariabilityTest\""
   ]
  },
  {
   "cell_type": "code",
   "execution_count": 31,
   "id": "41885814",
   "metadata": {
    "execution": {
     "iopub.execute_input": "2021-05-28T10:47:56.707767Z",
     "iopub.status.busy": "2021-05-28T10:47:56.707290Z",
     "iopub.status.idle": "2021-05-28T10:47:56.758211Z",
     "shell.execute_reply": "2021-05-28T10:47:56.756725Z"
    }
   },
   "outputs": [
    {
     "data": {
      "image/svg+xml": [
       "<?xml version=\"1.0\" encoding=\"UTF-8\" standalone=\"no\"?><svg xmlns=\"http://www.w3.org/2000/svg\" xmlns:xlink=\"http://www.w3.org/1999/xlink\" contentScriptType=\"application/ecmascript\" contentStyleType=\"text/css\" height=\"385px\" preserveAspectRatio=\"none\" style=\"width:421px;height:385px;\" version=\"1.1\" viewBox=\"0 0 421 385\" width=\"421px\" zoomAndPan=\"magnify\"><defs><filter height=\"300%\" id=\"flt1x46b8zxgp\" width=\"300%\" x=\"-1\" y=\"-1\"><feGaussianBlur result=\"blurOut\" stdDeviation=\"2.0\"/><feColorMatrix in=\"blurOut\" result=\"blurOut2\" type=\"matrix\" values=\"0 0 0 0 0 0 0 0 0 0 0 0 0 0 0 0 0 0 .4 0\"/><feOffset dx=\"4.0\" dy=\"4.0\" in=\"blurOut2\" result=\"blurOut3\"/><feBlend in=\"SourceGraphic\" in2=\"blurOut3\" mode=\"normal\"/></filter></defs><g><!--MD5=[fbc87193dbaf4d95561dea2c320d4a47]\n",
       "cluster E1--><a href=\"psysml:c9192910-aa77-45a9-9ae3-16f7deb9d13d\" target=\"_top\" title=\"psysml:c9192910-aa77-45a9-9ae3-16f7deb9d13d\" xlink:actuate=\"onRequest\" xlink:href=\"psysml:c9192910-aa77-45a9-9ae3-16f7deb9d13d\" xlink:show=\"new\" xlink:title=\"psysml:c9192910-aa77-45a9-9ae3-16f7deb9d13d\" xlink:type=\"simple\"><polygon fill=\"#FFFFFF\" filter=\"url(#flt1x46b8zxgp)\" points=\"16,6,134,6,141,28.2969,399,28.2969,399,373,16,373,16,6\" style=\"stroke: #000000; stroke-width: 1.5;\"/><line style=\"stroke: #000000; stroke-width: 1.5;\" x1=\"16\" x2=\"141\" y1=\"28.2969\" y2=\"28.2969\"/><text fill=\"#000000\" font-family=\"sans-serif\" font-size=\"14\" font-weight=\"bold\" lengthAdjust=\"spacingAndGlyphs\" textLength=\"112\" x=\"20\" y=\"20.9951\">VariabilityTest</text></a><!--MD5=[b4997ac47864f28c2f74865a473b2911]\n",
       "class E2--><a href=\"psysml:28b4b804-815b-4815-9c5e-e5b09d6ccef7\" target=\"_top\" title=\"psysml:28b4b804-815b-4815-9c5e-e5b09d6ccef7\" xlink:actuate=\"onRequest\" xlink:href=\"psysml:28b4b804-815b-4815-9c5e-e5b09d6ccef7\" xlink:show=\"new\" xlink:title=\"psysml:28b4b804-815b-4815-9c5e-e5b09d6ccef7\" xlink:type=\"simple\"><rect fill=\"#FEFECE\" filter=\"url(#flt1x46b8zxgp)\" height=\"52.8047\" id=\"E2\" style=\"stroke: #A80036; stroke-width: 1.5;\" width=\"40\" x=\"192\" y=\"294.5\"/><ellipse cx=\"207\" cy=\"310.5\" fill=\"#008000\" rx=\"11\" ry=\"11\" style=\"stroke: #A80036; stroke-width: 1.0;\"/><path d=\"M205.9063,310.875 L205.9063,314.5469 L207.5313,314.5469 Q208.7031,314.5469 209.1719,314.1563 Q209.6406,313.75 209.6406,312.75 Q209.6406,311.75 209.1406,311.3125 Q208.6563,310.875 207.5313,310.875 L205.9063,310.875 Z M205.9063,306.0469 L205.9063,308.9219 L207.5313,308.9219 Q208.4531,308.9219 208.8438,308.5938 Q209.25,308.25 209.25,307.5 Q209.25,306.7344 208.8438,306.3906 Q208.4375,306.0469 207.5313,306.0469 L205.9063,306.0469 Z M203.5313,304.0938 L207.5313,304.0938 Q209.5938,304.0938 210.6406,304.875 Q211.6875,305.6563 211.6875,307.2188 Q211.6875,308.4219 211.0625,309.0938 Q210.4531,309.7656 209.2656,309.875 Q210.6875,310.0156 211.4063,310.8281 Q212.125,311.6406 212.125,313.0938 Q212.125,314.8906 211.0469,315.7031 Q209.9688,316.5 207.5313,316.5 L203.5313,316.5 L203.5313,304.0938 Z \"/><text fill=\"#000000\" font-family=\"sans-serif\" font-size=\"12\" lengthAdjust=\"spacingAndGlyphs\" textLength=\"8\" x=\"221\" y=\"314.6543\">P</text><line style=\"stroke: #A80036; stroke-width: 1.5;\" x1=\"193\" x2=\"231\" y1=\"326.5\" y2=\"326.5\"/><text fill=\"#000000\" font-family=\"sans-serif\" font-size=\"11\" lengthAdjust=\"spacingAndGlyphs\" textLength=\"7\" x=\"198\" y=\"340.7104\">a</text></a><!--MD5=[09b614a08d8cba4a07c9adeb5e0fee81]\n",
       "class E3--><a href=\"psysml:3556ece0-f840-441c-8cd2-5d7027a1a805\" target=\"_top\" title=\"psysml:3556ece0-f840-441c-8cd2-5d7027a1a805\" xlink:actuate=\"onRequest\" xlink:href=\"psysml:3556ece0-f840-441c-8cd2-5d7027a1a805\" xlink:show=\"new\" xlink:title=\"psysml:3556ece0-f840-441c-8cd2-5d7027a1a805\" xlink:type=\"simple\"><rect fill=\"#FEFECE\" filter=\"url(#flt1x46b8zxgp)\" height=\"40\" id=\"E3\" style=\"stroke: #A80036; stroke-width: 1.5;\" width=\"41\" x=\"163.5\" y=\"158\"/><ellipse cx=\"178.5\" cy=\"174\" fill=\"#008000\" rx=\"11\" ry=\"11\" style=\"stroke: #A80036; stroke-width: 1.0;\"/><path d=\"M177.4063,174.375 L177.4063,178.0469 L179.0313,178.0469 Q180.2031,178.0469 180.6719,177.6563 Q181.1406,177.25 181.1406,176.25 Q181.1406,175.25 180.6406,174.8125 Q180.1563,174.375 179.0313,174.375 L177.4063,174.375 Z M177.4063,169.5469 L177.4063,172.4219 L179.0313,172.4219 Q179.9531,172.4219 180.3438,172.0938 Q180.75,171.75 180.75,171 Q180.75,170.2344 180.3438,169.8906 Q179.9375,169.5469 179.0313,169.5469 L177.4063,169.5469 Z M175.0313,167.5938 L179.0313,167.5938 Q181.0938,167.5938 182.1406,168.375 Q183.1875,169.1563 183.1875,170.7188 Q183.1875,171.9219 182.5625,172.5938 Q181.9531,173.2656 180.7656,173.375 Q182.1875,173.5156 182.9063,174.3281 Q183.625,175.1406 183.625,176.5938 Q183.625,178.3906 182.5469,179.2031 Q181.4688,180 179.0313,180 L175.0313,180 L175.0313,167.5938 Z \"/><text fill=\"#000000\" font-family=\"sans-serif\" font-size=\"12\" lengthAdjust=\"spacingAndGlyphs\" textLength=\"9\" x=\"192.5\" y=\"178.1543\">Q</text><line style=\"stroke: #A80036; stroke-width: 1.5;\" x1=\"164.5\" x2=\"203.5\" y1=\"190\" y2=\"190\"/></a><!--MD5=[ebbe1d658d1005bcc118a6aa81145e00]\n",
       "class E4--><a href=\"psysml:c1ea47d2-f15e-4f05-bf93-ec81669ca641\" target=\"_top\" title=\"psysml:c1ea47d2-f15e-4f05-bf93-ec81669ca641\" xlink:actuate=\"onRequest\" xlink:href=\"psysml:c1ea47d2-f15e-4f05-bf93-ec81669ca641\" xlink:show=\"new\" xlink:title=\"psysml:c1ea47d2-f15e-4f05-bf93-ec81669ca641\" xlink:type=\"simple\"><rect fill=\"#FEFECE\" filter=\"url(#flt1x46b8zxgp)\" height=\"45.9375\" id=\"E4\" style=\"stroke: #A80036; stroke-width: 1.5;\" width=\"121\" x=\"257.5\" y=\"41\"/><ellipse cx=\"272.5\" cy=\"59.9688\" fill=\"#A52A2A\" rx=\"11\" ry=\"11\" style=\"stroke: #A80036; stroke-width: 1.0;\"/><path d=\"M272.0938,55.7813 L272.0938,63.7656 L272.75,63.7656 Q274.1875,63.7656 274.7969,62.8594 Q275.4219,61.9375 275.4219,59.7656 Q275.4219,57.5938 274.7969,56.6875 Q274.1875,55.7813 272.75,55.7813 L272.0938,55.7813 Z M269.6406,53.5781 L272.2656,53.5781 Q275.2969,53.5781 276.625,55.0313 Q277.9688,56.4688 277.9688,59.7656 Q277.9688,63.0625 276.625,64.5156 Q275.2969,65.9688 272.2656,65.9688 L269.6406,65.9688 L269.6406,53.5781 Z \"/><text fill=\"#000000\" font-family=\"sans-serif\" font-size=\"12\" font-style=\"italic\" lengthAdjust=\"spacingAndGlyphs\" textLength=\"93\" x=\"284.5\" y=\"57.1387\">«attribute def»</text><text fill=\"#000000\" font-family=\"sans-serif\" font-size=\"12\" lengthAdjust=\"spacingAndGlyphs\" textLength=\"8\" x=\"327\" y=\"71.1074\">B</text><line style=\"stroke: #A80036; stroke-width: 1.5;\" x1=\"258.5\" x2=\"377.5\" y1=\"78.9375\" y2=\"78.9375\"/></a><!--MD5=[270fce915f116d4de14055a7c1d9a0f3]\n",
       "class E5--><a href=\"psysml:735cd89a-e4b2-4dc5-b3d6-41534f400f39\" target=\"_top\" title=\"psysml:735cd89a-e4b2-4dc5-b3d6-41534f400f39\" xlink:actuate=\"onRequest\" xlink:href=\"psysml:735cd89a-e4b2-4dc5-b3d6-41534f400f39\" xlink:show=\"new\" xlink:title=\"psysml:735cd89a-e4b2-4dc5-b3d6-41534f400f39\" xlink:type=\"simple\"><rect fill=\"#FEFECE\" filter=\"url(#flt1x46b8zxgp)\" height=\"40\" id=\"E5\" style=\"stroke: #A80036; stroke-width: 1.5;\" width=\"40\" x=\"343\" y=\"158\"/><ellipse cx=\"358\" cy=\"174\" fill=\"#008000\" rx=\"11\" ry=\"11\" style=\"stroke: #A80036; stroke-width: 1.0;\"/><path d=\"M356.9063,174.375 L356.9063,178.0469 L358.5313,178.0469 Q359.7031,178.0469 360.1719,177.6563 Q360.6406,177.25 360.6406,176.25 Q360.6406,175.25 360.1406,174.8125 Q359.6563,174.375 358.5313,174.375 L356.9063,174.375 Z M356.9063,169.5469 L356.9063,172.4219 L358.5313,172.4219 Q359.4531,172.4219 359.8438,172.0938 Q360.25,171.75 360.25,171 Q360.25,170.2344 359.8438,169.8906 Q359.4375,169.5469 358.5313,169.5469 L356.9063,169.5469 Z M354.5313,167.5938 L358.5313,167.5938 Q360.5938,167.5938 361.6406,168.375 Q362.6875,169.1563 362.6875,170.7188 Q362.6875,171.9219 362.0625,172.5938 Q361.4531,173.2656 360.2656,173.375 Q361.6875,173.5156 362.4063,174.3281 Q363.125,175.1406 363.125,176.5938 Q363.125,178.3906 362.0469,179.2031 Q360.9688,180 358.5313,180 L354.5313,180 L354.5313,167.5938 Z \"/><text fill=\"#000000\" font-family=\"sans-serif\" font-size=\"12\" lengthAdjust=\"spacingAndGlyphs\" textLength=\"8\" x=\"372\" y=\"178.1543\">V</text><line style=\"stroke: #A80036; stroke-width: 1.5;\" x1=\"344\" x2=\"382\" y1=\"190\" y2=\"190\"/></a><!--MD5=[60a26617385b1d2d0262a64233df1f8d]\n",
       "class E6--><a href=\"psysml:0400016e-70f0-4405-a71c-97e49bd60e65\" target=\"_top\" title=\"psysml:0400016e-70f0-4405-a71c-97e49bd60e65\" xlink:actuate=\"onRequest\" xlink:href=\"psysml:0400016e-70f0-4405-a71c-97e49bd60e65\" xlink:show=\"new\" xlink:title=\"psysml:0400016e-70f0-4405-a71c-97e49bd60e65\" xlink:type=\"simple\"><rect fill=\"#FEFECE\" filter=\"url(#flt1x46b8zxgp)\" height=\"71.5469\" id=\"E6\" rx=\"10\" ry=\"10\" style=\"stroke: #A80036; stroke-width: 1.5;\" width=\"68\" x=\"287\" y=\"285\"/><ellipse cx=\"302\" cy=\"303.9688\" fill=\"#32CD32\" rx=\"11\" ry=\"11\" style=\"stroke: #A80036; stroke-width: 1.0;\"/><path d=\"M301.7969,299.6406 L301.7969,303.2656 L302.7969,303.2656 Q304,303.2656 304.4844,302.8594 Q304.9688,302.4531 304.9688,301.4531 Q304.9688,300.4531 304.4844,300.0469 Q304,299.6406 302.7969,299.6406 L301.7969,299.6406 Z M299.3438,297.5781 L302.7031,297.5781 Q305.2656,297.5781 306.3906,298.5 Q307.5156,299.4063 307.5156,301.4531 Q307.5156,303.5 306.3906,304.4219 Q305.2656,305.3281 302.7031,305.3281 L301.7969,305.3281 L301.7969,309.9688 L299.3438,309.9688 L299.3438,297.5781 Z \"/><text fill=\"#000000\" font-family=\"sans-serif\" font-size=\"12\" font-style=\"italic\" lengthAdjust=\"spacingAndGlyphs\" textLength=\"40\" x=\"314\" y=\"301.1387\">«part»</text><text fill=\"#000000\" font-family=\"sans-serif\" font-size=\"12\" lengthAdjust=\"spacingAndGlyphs\" textLength=\"23\" x=\"322.5\" y=\"315.1074\">x: Q</text><line style=\"stroke: #A80036; stroke-width: 1.5;\" x1=\"288\" x2=\"354\" y1=\"322.9375\" y2=\"322.9375\"/><text fill=\"#000000\" font-family=\"sans-serif\" font-size=\"11\" lengthAdjust=\"spacingAndGlyphs\" textLength=\"23\" x=\"293\" y=\"337.1479\">b: B</text><text fill=\"#000000\" font-family=\"sans-serif\" font-size=\"11\" font-style=\"italic\" lengthAdjust=\"spacingAndGlyphs\" textLength=\"44\" x=\"293\" y=\"349.9526\">:&gt;&gt;P::a</text></a><!--MD5=[2156ba9850f5573cc1fc38a6a4b2f02b]\n",
       "class E7--><a href=\"psysml:ac43cc4c-8177-486e-b5a5-e877f62f9bc5\" target=\"_top\" title=\"psysml:ac43cc4c-8177-486e-b5a5-e877f62f9bc5\" xlink:actuate=\"onRequest\" xlink:href=\"psysml:ac43cc4c-8177-486e-b5a5-e877f62f9bc5\" xlink:show=\"new\" xlink:title=\"psysml:ac43cc4c-8177-486e-b5a5-e877f62f9bc5\" xlink:type=\"simple\"><rect fill=\"#FEFECE\" filter=\"url(#flt1x46b8zxgp)\" height=\"45.9375\" id=\"E7\" rx=\"10\" ry=\"10\" style=\"stroke: #A80036; stroke-width: 1.5;\" width=\"68\" x=\"150\" y=\"41\"/><ellipse cx=\"165\" cy=\"59.9688\" fill=\"#32CD32\" rx=\"11\" ry=\"11\" style=\"stroke: #A80036; stroke-width: 1.0;\"/><path d=\"M164.7969,55.6406 L164.7969,59.2656 L165.7969,59.2656 Q167,59.2656 167.4844,58.8594 Q167.9688,58.4531 167.9688,57.4531 Q167.9688,56.4531 167.4844,56.0469 Q167,55.6406 165.7969,55.6406 L164.7969,55.6406 Z M162.3438,53.5781 L165.7031,53.5781 Q168.2656,53.5781 169.3906,54.5 Q170.5156,55.4063 170.5156,57.4531 Q170.5156,59.5 169.3906,60.4219 Q168.2656,61.3281 165.7031,61.3281 L164.7969,61.3281 L164.7969,65.9688 L162.3438,65.9688 L162.3438,53.5781 Z \"/><text fill=\"#000000\" font-family=\"sans-serif\" font-size=\"12\" font-style=\"italic\" lengthAdjust=\"spacingAndGlyphs\" textLength=\"40\" x=\"177\" y=\"57.1387\">«part»</text><text fill=\"#000000\" font-family=\"sans-serif\" font-size=\"12\" lengthAdjust=\"spacingAndGlyphs\" textLength=\"25\" x=\"184.5\" y=\"71.1074\">q: Q</text><line style=\"stroke: #A80036; stroke-width: 1.5;\" x1=\"151\" x2=\"217\" y1=\"78.9375\" y2=\"78.9375\"/></a><!--MD5=[b9389687b975829384b498ac4b7476b2]\n",
       "class E8--><a href=\"psysml:ce952eae-8bb1-4ad0-9f02-4c42d4c1d0c7\" target=\"_top\" title=\"psysml:ce952eae-8bb1-4ad0-9f02-4c42d4c1d0c7\" xlink:actuate=\"onRequest\" xlink:href=\"psysml:ce952eae-8bb1-4ad0-9f02-4c42d4c1d0c7\" xlink:show=\"new\" xlink:title=\"psysml:ce952eae-8bb1-4ad0-9f02-4c42d4c1d0c7\" xlink:type=\"simple\"><rect fill=\"#FEFECE\" filter=\"url(#flt1x46b8zxgp)\" height=\"59.9063\" id=\"E8\" rx=\"10\" ry=\"10\" style=\"stroke: #A80036; stroke-width: 1.5;\" width=\"96\" x=\"32\" y=\"148\"/><ellipse cx=\"47\" cy=\"173.9531\" fill=\"#32CD32\" rx=\"11\" ry=\"11\" style=\"stroke: #A80036; stroke-width: 1.0;\"/><path d=\"M46.7969,169.625 L46.7969,173.25 L47.7969,173.25 Q49,173.25 49.4844,172.8438 Q49.9688,172.4375 49.9688,171.4375 Q49.9688,170.4375 49.4844,170.0313 Q49,169.625 47.7969,169.625 L46.7969,169.625 Z M44.3438,167.5625 L47.7031,167.5625 Q50.2656,167.5625 51.3906,168.4844 Q52.5156,169.3906 52.5156,171.4375 Q52.5156,173.4844 51.3906,174.4063 Q50.2656,175.3125 47.7031,175.3125 L46.7969,175.3125 L46.7969,179.9531 L44.3438,179.9531 L44.3438,167.5625 Z \"/><text fill=\"#000000\" font-family=\"sans-serif\" font-size=\"12\" font-style=\"italic\" lengthAdjust=\"spacingAndGlyphs\" textLength=\"68\" x=\"59\" y=\"164.1387\">«variation»</text><text fill=\"#000000\" font-family=\"sans-serif\" font-size=\"12\" font-style=\"italic\" lengthAdjust=\"spacingAndGlyphs\" textLength=\"40\" x=\"73\" y=\"178.1074\">«part»</text><text fill=\"#000000\" font-family=\"sans-serif\" font-size=\"12\" lengthAdjust=\"spacingAndGlyphs\" textLength=\"22\" x=\"82\" y=\"192.0762\">v: P</text><line style=\"stroke: #A80036; stroke-width: 1.5;\" x1=\"33\" x2=\"127\" y1=\"199.9063\" y2=\"199.9063\"/></a><!--MD5=[fd4143e9d270a159db93a4ea2a975926]\n",
       "class E9--><a href=\"psysml:572dfe4e-6d7c-4ba8-94a3-d7ce0272bed9\" target=\"_top\" title=\"psysml:572dfe4e-6d7c-4ba8-94a3-d7ce0272bed9\" xlink:actuate=\"onRequest\" xlink:href=\"psysml:572dfe4e-6d7c-4ba8-94a3-d7ce0272bed9\" xlink:show=\"new\" xlink:title=\"psysml:572dfe4e-6d7c-4ba8-94a3-d7ce0272bed9\" xlink:type=\"simple\"><rect fill=\"#FEFECE\" filter=\"url(#flt1x46b8zxgp)\" height=\"71.5469\" id=\"E9\" rx=\"10\" ry=\"10\" style=\"stroke: #A80036; stroke-width: 1.5;\" width=\"103\" x=\"32.5\" y=\"285\"/><ellipse cx=\"47.5\" cy=\"303.9688\" fill=\"#FFA500\" rx=\"11\" ry=\"11\" style=\"stroke: #A80036; stroke-width: 1.0;\"/><path d=\"M43.375,305.8906 L43.375,298.0781 L45.8281,298.0781 L45.8281,306.5156 Q45.8281,307.4375 46.2969,307.9688 Q46.7813,308.5 47.6094,308.5 Q48.4531,308.5 48.9219,307.9688 Q49.3906,307.4375 49.3906,306.5156 L49.3906,298.0781 L51.8438,298.0781 L51.8438,305.8906 Q51.8438,308.4219 50.8438,309.5625 Q49.8438,310.7031 47.6094,310.7031 Q45.3906,310.7031 44.375,309.5625 Q43.375,308.4219 43.375,305.8906 Z \"/><text fill=\"#000000\" font-family=\"sans-serif\" font-size=\"12\" font-style=\"italic\" lengthAdjust=\"spacingAndGlyphs\" textLength=\"75\" x=\"59.5\" y=\"301.1387\">«reference»</text><text fill=\"#000000\" font-family=\"sans-serif\" font-size=\"12\" lengthAdjust=\"spacingAndGlyphs\" textLength=\"8\" x=\"93\" y=\"315.1074\">q</text><line style=\"stroke: #A80036; stroke-width: 1.5;\" x1=\"33.5\" x2=\"134.5\" y1=\"322.9375\" y2=\"322.9375\"/><text fill=\"#000000\" font-family=\"sans-serif\" font-size=\"11\" lengthAdjust=\"spacingAndGlyphs\" textLength=\"23\" x=\"38.5\" y=\"337.1479\">b: B</text><text fill=\"#000000\" font-family=\"sans-serif\" font-size=\"11\" font-style=\"italic\" lengthAdjust=\"spacingAndGlyphs\" textLength=\"44\" x=\"38.5\" y=\"349.9526\">:&gt;&gt;P::a</text></a><!--MD5=[96f4274e9e20536e775497830990834d]\n",
       "class E10--><a href=\"psysml:983a8093-9810-4637-96cc-9ee8fb3d9cf5\" target=\"_top\" title=\"psysml:983a8093-9810-4637-96cc-9ee8fb3d9cf5\" xlink:actuate=\"onRequest\" xlink:href=\"psysml:983a8093-9810-4637-96cc-9ee8fb3d9cf5\" xlink:show=\"new\" xlink:title=\"psysml:983a8093-9810-4637-96cc-9ee8fb3d9cf5\" xlink:type=\"simple\"><rect fill=\"#FEFECE\" filter=\"url(#flt1x46b8zxgp)\" height=\"45.9375\" id=\"E10\" rx=\"10\" ry=\"10\" style=\"stroke: #A80036; stroke-width: 1.5;\" width=\"68\" x=\"240\" y=\"155\"/><ellipse cx=\"255\" cy=\"173.9688\" fill=\"#32CD32\" rx=\"11\" ry=\"11\" style=\"stroke: #A80036; stroke-width: 1.0;\"/><path d=\"M254.7969,169.6406 L254.7969,173.2656 L255.7969,173.2656 Q257,173.2656 257.4844,172.8594 Q257.9688,172.4531 257.9688,171.4531 Q257.9688,170.4531 257.4844,170.0469 Q257,169.6406 255.7969,169.6406 L254.7969,169.6406 Z M252.3438,167.5781 L255.7031,167.5781 Q258.2656,167.5781 259.3906,168.5 Q260.5156,169.4063 260.5156,171.4531 Q260.5156,173.5 259.3906,174.4219 Q258.2656,175.3281 255.7031,175.3281 L254.7969,175.3281 L254.7969,179.9688 L252.3438,179.9688 L252.3438,167.5781 Z \"/><text fill=\"#000000\" font-family=\"sans-serif\" font-size=\"12\" font-style=\"italic\" lengthAdjust=\"spacingAndGlyphs\" textLength=\"40\" x=\"267\" y=\"171.1387\">«part»</text><text fill=\"#000000\" font-family=\"sans-serif\" font-size=\"12\" lengthAdjust=\"spacingAndGlyphs\" textLength=\"22\" x=\"276\" y=\"185.1074\">y: P</text><line style=\"stroke: #A80036; stroke-width: 1.5;\" x1=\"241\" x2=\"307\" y1=\"192.9375\" y2=\"192.9375\"/></a><!--MD5=[05d275557350bfb9b23a4ef7222b4c39]\n",
       "link E3 to E2--><a href=\"psysml:9e57242c-9184-4252-9565-bec20c63fdb8\" target=\"_top\" title=\"psysml:9e57242c-9184-4252-9565-bec20c63fdb8\" xlink:actuate=\"onRequest\" xlink:href=\"psysml:9e57242c-9184-4252-9565-bec20c63fdb8\" xlink:show=\"new\" xlink:title=\"psysml:9e57242c-9184-4252-9565-bec20c63fdb8\" xlink:type=\"simple\"><path d=\"M187.78,198.02 C191.66,217.55 197.84,248.68 202.99,274.61 \" fill=\"none\" id=\"E3-&gt;E2\" style=\"stroke: #A80036; stroke-width: 1.0;\"/><polygon fill=\"none\" points=\"209.88,273.39,206.91,294.37,196.15,276.12,209.88,273.39\" style=\"stroke: #A80036; stroke-width: 1.0;\"/></a><!--MD5=[15ebcb19ae302d9b601edb458606d402]\n",
       "link E5 to E2--><a href=\"psysml:5cdbdbe7-d14c-45c9-a804-61f18115238e\" target=\"_top\" title=\"psysml:5cdbdbe7-d14c-45c9-a804-61f18115238e\" xlink:actuate=\"onRequest\" xlink:href=\"psysml:5cdbdbe7-d14c-45c9-a804-61f18115238e\" xlink:show=\"new\" xlink:title=\"psysml:5cdbdbe7-d14c-45c9-a804-61f18115238e\" xlink:type=\"simple\"><path d=\"M342.95,197.72 C318.47,220.58 276.65,259.63 246.86,287.45 \" fill=\"none\" id=\"E5-&gt;E2\" style=\"stroke: #A80036; stroke-width: 1.0;\"/><polygon fill=\"none\" points=\"251.53,292.67,232.13,301.2,241.98,282.43,251.53,292.67\" style=\"stroke: #A80036; stroke-width: 1.0;\"/></a><!--MD5=[9120cf2e5df3bff93db8f754bbbc09b4]\n",
       "link E5 to E6--><a href=\"psysml:052c6ce9-d9db-4da6-90c4-ac16555550ac\" target=\"_top\" title=\"psysml:052c6ce9-d9db-4da6-90c4-ac16555550ac\" xlink:actuate=\"onRequest\" xlink:href=\"psysml:052c6ce9-d9db-4da6-90c4-ac16555550ac\" xlink:show=\"new\" xlink:title=\"psysml:052c6ce9-d9db-4da6-90c4-ac16555550ac\" xlink:type=\"simple\"><path d=\"M354.4,207.89 C348.64,227.2 340.95,253.01 334.41,274.99 \" fill=\"none\" id=\"E5-E6\" style=\"stroke: #A80036; stroke-width: 1.0;\"/><polygon fill=\"#A80036\" points=\"331.49,284.79,336.6502,277.9802,330.9001,276.2664,331.49,284.79\" style=\"stroke: #A80036; stroke-width: 1.0;\"/><path d=\"M348.3559,198.5542 A9,9 0 0 0 364.5656 203.3857\" fill=\"none\" style=\"stroke: #A80036; stroke-width: 1.5;\"/><text fill=\"#000000\" font-family=\"sans-serif\" font-size=\"13\" lengthAdjust=\"spacingAndGlyphs\" textLength=\"60\" x=\"345\" y=\"251.0669\">«variant»</text></a><!--MD5=[14ccda38c055a5c0da953d572bc50960]\n",
       "link E7 to E3--><a href=\"psysml:648145d1-1ec9-42fc-8307-fa8910350658\" target=\"_top\" title=\"psysml:648145d1-1ec9-42fc-8307-fa8910350658\" xlink:actuate=\"onRequest\" xlink:href=\"psysml:648145d1-1ec9-42fc-8307-fa8910350658\" xlink:show=\"new\" xlink:title=\"psysml:648145d1-1ec9-42fc-8307-fa8910350658\" xlink:type=\"simple\"><path d=\"M184,87.13 C184,101.57 184,120.83 184,137.81 \" fill=\"none\" id=\"E7-&gt;E3\" style=\"stroke: #A80036; stroke-width: 1.0;\"/><polygon fill=\"#FFFFFF\" points=\"184,157.9,177,138.9,191,138.9,184,157.9\" style=\"stroke: #A80036; stroke-width: 1.0;\"/><ellipse cx=\"179\" cy=\"133.2\" fill=\"#A80036\" rx=\"2\" ry=\"2\" style=\"stroke: #A80036; stroke-width: 1.0;\"/><ellipse cx=\"189\" cy=\"133.2\" fill=\"#A80036\" rx=\"2\" ry=\"2\" style=\"stroke: #A80036; stroke-width: 1.0;\"/></a><!--MD5=[f1f3f9f2fc535e6147756cb86a7f2e32]\n",
       "link E8 to E2--><a href=\"psysml:19cda0c9-2775-4d9d-8cd8-191c5ad52b34\" target=\"_top\" title=\"psysml:19cda0c9-2775-4d9d-8cd8-191c5ad52b34\" xlink:actuate=\"onRequest\" xlink:href=\"psysml:19cda0c9-2775-4d9d-8cd8-191c5ad52b34\" xlink:show=\"new\" xlink:title=\"psysml:19cda0c9-2775-4d9d-8cd8-191c5ad52b34\" xlink:type=\"simple\"><path d=\"M119.32,208.23 C130.4,217.24 142.11,227.55 152,238 C163.47,250.11 174.65,264.47 184.19,277.75 \" fill=\"none\" id=\"E8-&gt;E2\" style=\"stroke: #A80036; stroke-width: 1.0;\"/><polygon fill=\"#FFFFFF\" points=\"195.68,294.32,179.1086,282.6843,190.6186,274.7143,195.68,294.32\" style=\"stroke: #A80036; stroke-width: 1.0;\"/><ellipse cx=\"177.508\" cy=\"276.8595\" fill=\"#A80036\" rx=\"2\" ry=\"2\" style=\"stroke: #A80036; stroke-width: 1.0;\"/><ellipse cx=\"185.7294\" cy=\"271.1667\" fill=\"#A80036\" rx=\"2\" ry=\"2\" style=\"stroke: #A80036; stroke-width: 1.0;\"/></a><!--MD5=[ed10624c06dd9a4fa49ccf290e8b16a8]\n",
       "link E8 to E9--><a href=\"psysml:28d39c7a-e0c7-42b0-858e-2cb4e488f108\" target=\"_top\" title=\"psysml:28d39c7a-e0c7-42b0-858e-2cb4e488f108\" xlink:actuate=\"onRequest\" xlink:href=\"psysml:28d39c7a-e0c7-42b0-858e-2cb4e488f108\" xlink:show=\"new\" xlink:title=\"psysml:28d39c7a-e0c7-42b0-858e-2cb4e488f108\" xlink:type=\"simple\"><path d=\"M81.12,218.35 C81.61,235.87 82.2,256.61 82.72,274.77 \" fill=\"none\" id=\"E8-E9\" style=\"stroke: #A80036; stroke-width: 1.0;\"/><polygon fill=\"#A80036\" points=\"83,284.83,85.7703,276.7476,79.7727,276.9189,83,284.83\" style=\"stroke: #A80036; stroke-width: 1.0;\"/><path d=\"M72.4641,211.5385 A9,9 0 0 0 89.3717 211.0554\" fill=\"none\" style=\"stroke: #A80036; stroke-width: 1.5;\"/><text fill=\"#000000\" font-family=\"sans-serif\" font-size=\"13\" lengthAdjust=\"spacingAndGlyphs\" textLength=\"60\" x=\"83\" y=\"251.0669\">«variant»</text></a><!--MD5=[0f36bececdf0dff6e600d6f64214b0f1]\n",
       "link E10 to E2--><a href=\"psysml:8cfcd01d-a74f-43be-a680-d41b6ee6accc\" target=\"_top\" title=\"psysml:8cfcd01d-a74f-43be-a680-d41b6ee6accc\" xlink:actuate=\"onRequest\" xlink:href=\"psysml:8cfcd01d-a74f-43be-a680-d41b6ee6accc\" xlink:show=\"new\" xlink:title=\"psysml:8cfcd01d-a74f-43be-a680-d41b6ee6accc\" xlink:type=\"simple\"><path d=\"M264.31,201.03 C255.55,220.95 242.39,250.89 231.46,275.74 \" fill=\"none\" id=\"E10-&gt;E2\" style=\"stroke: #A80036; stroke-width: 1.0;\"/><polygon fill=\"#FFFFFF\" points=\"223.3,294.3,224.5306,274.089,237.3489,279.7183,223.3,294.3\" style=\"stroke: #A80036; stroke-width: 1.0;\"/><ellipse cx=\"228.6537\" cy=\"269.6742\" fill=\"#A80036\" rx=\"2\" ry=\"2\" style=\"stroke: #A80036; stroke-width: 1.0;\"/><ellipse cx=\"237.8097\" cy=\"273.6952\" fill=\"#A80036\" rx=\"2\" ry=\"2\" style=\"stroke: #A80036; stroke-width: 1.0;\"/></a><!--MD5=[ac5dd6cc245f4146fa69a29f0895703c]\n",
       "@startuml\r\n",
       " \r\n",
       "package \"VariabilityTest\" as E1  [[psysml:c9192910-aa77-45a9-9ae3-16f7deb9d13d ]]  {\r\n",
       "comp def \"P\" as E2  << (B,green) >> [[psysml:28b4b804-815b-4815-9c5e-e5b09d6ccef7 ]] {\r\n",
       "a\r\n",
       "}\r\n",
       "comp def \"Q\" as E3  << (B,green) >> [[psysml:3556ece0-f840-441c-8cd2-5d7027a1a805 ]] {\r\n",
       "}\r\n",
       "comp def \"B\" as E4  <<(D,brown)attribute def>> [[psysml:c1ea47d2-f15e-4f05-bf93-ec81669ca641 ]] {\r\n",
       "}\r\n",
       "comp def \"V\" as E5  << (B,green) >> [[psysml:735cd89a-e4b2-4dc5-b3d6-41534f400f39 ]] {\r\n",
       "}\r\n",
       "comp usage \"x: Q\" as E6  << (P,limegreen) part>> [[psysml:0400016e-70f0-4405-a71c-97e49bd60e65 ]] {\r\n",
       "b: B\\n//:>>P::a// \r\n",
       "}\r\n",
       "comp usage \"q: Q\" as E7  << (P,limegreen) part>> [[psysml:ac43cc4c-8177-486e-b5a5-e877f62f9bc5 ]] {\r\n",
       "}\r\n",
       "comp usage \"v: P\" as E8  <<variation>>\\n << (P,limegreen) part>> [[psysml:ce952eae-8bb1-4ad0-9f02-4c42d4c1d0c7 ]] {\r\n",
       "}\r\n",
       "comp usage \"q\" as E9  <<(U,orange)reference>> [[psysml:572dfe4e-6d7c-4ba8-94a3-d7ce0272bed9 ]] {\r\n",
       "b: B\\n//:>>P::a// \r\n",
       "}\r\n",
       "comp usage \"y: P\" as E10  << (P,limegreen) part>> [[psysml:983a8093-9810-4637-96cc-9ee8fb3d9cf5 ]] {\r\n",
       "}\r\n",
       "E3 - -|> E2 [[psysml:9e57242c-9184-4252-9565-bec20c63fdb8 ]] \r\n",
       "E5 - -|> E2 [[psysml:5cdbdbe7-d14c-45c9-a804-61f18115238e ]] \r\n",
       "E5 )- ->> E6 [[psysml:052c6ce9-d9db-4da6-90c4-ac16555550ac ]] : <<variant>>\r\n",
       "E7 - -:|> E3 [[psysml:648145d1-1ec9-42fc-8307-fa8910350658 ]] \r\n",
       "E8 - -:|> E2 [[psysml:19cda0c9-2775-4d9d-8cd8-191c5ad52b34 ]] \r\n",
       "E8 )- ->> E9 [[psysml:28d39c7a-e0c7-42b0-858e-2cb4e488f108 ]] : <<variant>>\r\n",
       "E10 - -:|> E2 [[psysml:8cfcd01d-a74f-43be-a680-d41b6ee6accc ]] \r\n",
       "}\r\n",
       "@enduml\r\n",
       "\n",
       "PlantUML version 1.2020.13(Sat Jun 13 12:26:38 UTC 2020)\n",
       "(EPL source distribution)\n",
       "Java Runtime: OpenJDK Runtime Environment\n",
       "JVM: OpenJDK 64-Bit Server VM\n",
       "Default Encoding: UTF-8\n",
       "Language: en\n",
       "Country: null\n",
       "--></g></svg>"
      ]
     },
     "execution_count": 31,
     "metadata": {},
     "output_type": "execute_result"
    }
   ],
   "source": [
    "%viz --style=\"PLANTUML\" --view=\"Tree\" \"VariabilityTest\""
   ]
  },
  {
   "cell_type": "code",
   "execution_count": 32,
   "id": "f935e74b",
   "metadata": {
    "execution": {
     "iopub.execute_input": "2021-05-28T10:47:56.810174Z",
     "iopub.status.busy": "2021-05-28T10:47:56.809350Z",
     "iopub.status.idle": "2021-05-28T10:47:56.884468Z",
     "shell.execute_reply": "2021-05-28T10:47:56.883162Z"
    }
   },
   "outputs": [
    {
     "data": {
      "image/svg+xml": [
       "<?xml version=\"1.0\" encoding=\"UTF-8\" standalone=\"no\"?><svg xmlns=\"http://www.w3.org/2000/svg\" xmlns:xlink=\"http://www.w3.org/1999/xlink\" contentScriptType=\"application/ecmascript\" contentStyleType=\"text/css\" height=\"303px\" preserveAspectRatio=\"none\" style=\"width:603px;height:303px;background:#000000;\" version=\"1.1\" viewBox=\"0 0 603 303\" width=\"603px\" zoomAndPan=\"magnify\"><defs/><g><rect fill=\"#061222\" height=\"1\" style=\"stroke: #061222; stroke-width: 1.0;\" width=\"1\" x=\"0\" y=\"0\"/><rect fill=\"#FFFFFF\" height=\"205.5625\" style=\"stroke: #FFFFFF; stroke-width: 1.0;\" width=\"602\" x=\"0\" y=\"0\"/><text fill=\"#000000\" font-family=\"sans-serif\" font-size=\"12\" font-weight=\"bold\" lengthAdjust=\"spacingAndGlyphs\" textLength=\"159\" x=\"5\" y=\"16.1387\">Welcome to PlantUML!</text><text fill=\"#000000\" font-family=\"sans-serif\" font-size=\"12\" lengthAdjust=\"spacingAndGlyphs\" textLength=\"0\" x=\"9\" y=\"30.1074\"/><text fill=\"#000000\" font-family=\"sans-serif\" font-size=\"12\" lengthAdjust=\"spacingAndGlyphs\" textLength=\"293\" x=\"5\" y=\"44.0762\">If you use this software, you accept its license.</text><text fill=\"#000000\" font-family=\"sans-serif\" font-size=\"12\" lengthAdjust=\"spacingAndGlyphs\" textLength=\"107\" x=\"5\" y=\"58.0449\">(details by typing</text><text fill=\"#000000\" font-family=\"monospace\" font-size=\"12\" lengthAdjust=\"spacingAndGlyphs\" textLength=\"49\" x=\"116\" y=\"58.0449\">license</text><text fill=\"#000000\" font-family=\"sans-serif\" font-size=\"12\" lengthAdjust=\"spacingAndGlyphs\" textLength=\"56\" x=\"169\" y=\"58.0449\">keyword)</text><text fill=\"#000000\" font-family=\"sans-serif\" font-size=\"12\" lengthAdjust=\"spacingAndGlyphs\" textLength=\"0\" x=\"9\" y=\"72.0137\"/><text fill=\"#000000\" font-family=\"sans-serif\" font-size=\"12\" lengthAdjust=\"spacingAndGlyphs\" textLength=\"283\" x=\"5\" y=\"85.9824\">You can start with a simple UML Diagram like:</text><text fill=\"#000000\" font-family=\"sans-serif\" font-size=\"12\" lengthAdjust=\"spacingAndGlyphs\" textLength=\"0\" x=\"9\" y=\"99.9512\"/><text fill=\"#000000\" font-family=\"monospace\" font-size=\"12\" lengthAdjust=\"spacingAndGlyphs\" textLength=\"119\" x=\"5\" y=\"113.9199\">Bob-&gt;Alice: Hello</text><text fill=\"#000000\" font-family=\"sans-serif\" font-size=\"12\" lengthAdjust=\"spacingAndGlyphs\" textLength=\"0\" x=\"9\" y=\"127.8887\"/><text fill=\"#000000\" font-family=\"sans-serif\" font-size=\"12\" lengthAdjust=\"spacingAndGlyphs\" textLength=\"14\" x=\"5\" y=\"141.8574\">Or</text><text fill=\"#000000\" font-family=\"sans-serif\" font-size=\"12\" lengthAdjust=\"spacingAndGlyphs\" textLength=\"0\" x=\"9\" y=\"155.8262\"/><text fill=\"#000000\" font-family=\"monospace\" font-size=\"12\" lengthAdjust=\"spacingAndGlyphs\" textLength=\"91\" x=\"5\" y=\"169.7949\">class Example</text><text fill=\"#000000\" font-family=\"sans-serif\" font-size=\"12\" lengthAdjust=\"spacingAndGlyphs\" textLength=\"0\" x=\"9\" y=\"183.7637\"/><text fill=\"#000000\" font-family=\"sans-serif\" font-size=\"12\" lengthAdjust=\"spacingAndGlyphs\" textLength=\"349\" x=\"5\" y=\"197.7324\">You will find more information about PlantUML syntax on</text><text fill=\"#000000\" font-family=\"sans-serif\" font-size=\"12\" lengthAdjust=\"spacingAndGlyphs\" text-decoration=\"underline\" textLength=\"129\" x=\"358\" y=\"197.7324\">https://plantuml.com</text><image height=\"71\" width=\"80\" x=\"516\" xlink:href=\"data:image/png;base64,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\" y=\"6\"/><rect fill=\"#000000\" height=\"96.4844\" style=\"stroke: #000000; stroke-width: 1.0;\" width=\"602\" x=\"0\" y=\"205.5625\"/><rect fill=\"#33FF02\" height=\"21.2969\" style=\"stroke: #33FF02; stroke-width: 1.0;\" width=\"170\" x=\"5\" y=\"210.5625\"/><text fill=\"#000000\" font-family=\"sans-serif\" font-size=\"14\" font-weight=\"bold\" lengthAdjust=\"spacingAndGlyphs\" textLength=\"168\" x=\"6\" y=\"225.5625\">[From string (line 2) ]</text><text fill=\"#33FF02\" font-family=\"sans-serif\" font-size=\"14\" font-weight=\"bold\" lengthAdjust=\"spacingAndGlyphs\" textLength=\"0\" x=\"10\" y=\"245.8594\"/><text fill=\"#33FF02\" font-family=\"sans-serif\" font-size=\"14\" font-weight=\"bold\" lengthAdjust=\"spacingAndGlyphs\" textLength=\"79\" x=\"5\" y=\"262.1563\">@startuml</text><text fill=\"#33FF02\" font-family=\"sans-serif\" font-size=\"14\" font-weight=\"bold\" lengthAdjust=\"spacingAndGlyphs\" textLength=\"0\" x=\"10\" y=\"278.4531\"/><text fill=\"#FF0000\" font-family=\"sans-serif\" font-size=\"14\" font-weight=\"bold\" lengthAdjust=\"spacingAndGlyphs\" textLength=\"142\" x=\"10\" y=\"294.75\">Empty description</text><!--MD5=[f59edd8218d337f74d0c332fc6737304]\n",
       "@startuml\r\n",
       " \r\n",
       "@enduml\r\n",
       "\n",
       "PlantUML version 1.2020.13(Sat Jun 13 12:26:38 UTC 2020)\n",
       "(EPL source distribution)\n",
       "Java Runtime: OpenJDK Runtime Environment\n",
       "JVM: OpenJDK 64-Bit Server VM\n",
       "Default Encoding: UTF-8\n",
       "Language: en\n",
       "Country: null\n",
       "--></g></svg>"
      ]
     },
     "execution_count": 32,
     "metadata": {},
     "output_type": "execute_result"
    }
   ],
   "source": [
    "%viz --style=\"PLANTUML\" --view=\"State\" \"VariabilityTest\""
   ]
  },
  {
   "cell_type": "code",
   "execution_count": 33,
   "id": "ab8759ff",
   "metadata": {
    "execution": {
     "iopub.execute_input": "2021-05-28T10:47:56.934582Z",
     "iopub.status.busy": "2021-05-28T10:47:56.934132Z",
     "iopub.status.idle": "2021-05-28T10:47:56.980822Z",
     "shell.execute_reply": "2021-05-28T10:47:56.980542Z"
    }
   },
   "outputs": [
    {
     "data": {
      "image/svg+xml": [
       "<?xml version=\"1.0\" encoding=\"UTF-8\" standalone=\"no\"?><svg xmlns=\"http://www.w3.org/2000/svg\" xmlns:xlink=\"http://www.w3.org/1999/xlink\" contentScriptType=\"application/ecmascript\" contentStyleType=\"text/css\" height=\"390px\" preserveAspectRatio=\"none\" style=\"width:839px;height:390px;\" version=\"1.1\" viewBox=\"0 0 839 390\" width=\"839px\" zoomAndPan=\"magnify\"><defs><filter height=\"300%\" id=\"f1teyijep0fiou\" width=\"300%\" x=\"-1\" y=\"-1\"><feGaussianBlur result=\"blurOut\" stdDeviation=\"2.0\"/><feColorMatrix in=\"blurOut\" result=\"blurOut2\" type=\"matrix\" values=\"0 0 0 0 0 0 0 0 0 0 0 0 0 0 0 0 0 0 .4 0\"/><feOffset dx=\"4.0\" dy=\"4.0\" in=\"blurOut2\" result=\"blurOut3\"/><feBlend in=\"SourceGraphic\" in2=\"blurOut3\" mode=\"normal\"/></filter></defs><g><!--MD5=[fbc87193dbaf4d95561dea2c320d4a47]\n",
       "cluster E1--><a href=\"psysml:c9192910-aa77-45a9-9ae3-16f7deb9d13d\" target=\"_top\" title=\"psysml:c9192910-aa77-45a9-9ae3-16f7deb9d13d\" xlink:actuate=\"onRequest\" xlink:href=\"psysml:c9192910-aa77-45a9-9ae3-16f7deb9d13d\" xlink:show=\"new\" xlink:title=\"psysml:c9192910-aa77-45a9-9ae3-16f7deb9d13d\" xlink:type=\"simple\"><polygon fill=\"#FFFFFF\" filter=\"url(#f1teyijep0fiou)\" points=\"16,6,134,6,141,28.2969,817,28.2969,817,378,16,378,16,6\" style=\"stroke: #000000; stroke-width: 1.5;\"/><line style=\"stroke: #000000; stroke-width: 1.5;\" x1=\"16\" x2=\"141\" y1=\"28.2969\" y2=\"28.2969\"/><text fill=\"#000000\" font-family=\"sans-serif\" font-size=\"14\" font-weight=\"bold\" lengthAdjust=\"spacingAndGlyphs\" textLength=\"112\" x=\"20\" y=\"20.9951\">VariabilityTest</text></a><!--MD5=[e4f7fae6ed58524ba242bb0b0d3be6b7]\n",
       "cluster E2--><a href=\"psysml:28b4b804-815b-4815-9c5e-e5b09d6ccef7\" target=\"_top\" title=\"psysml:28b4b804-815b-4815-9c5e-e5b09d6ccef7\" xlink:actuate=\"onRequest\" xlink:href=\"psysml:28b4b804-815b-4815-9c5e-e5b09d6ccef7\" xlink:show=\"new\" xlink:title=\"psysml:28b4b804-815b-4815-9c5e-e5b09d6ccef7\" xlink:type=\"simple\"><rect fill=\"#FFFFFF\" filter=\"url(#f1teyijep0fiou)\" height=\"113\" id=\"E2\" style=\"stroke: #A80036; stroke-width: 1.5;\" width=\"164\" x=\"451\" y=\"233\"/><rect fill=\"#FEFECE\" height=\"23.9688\" style=\"stroke: #A80036; stroke-width: 1.5;\" width=\"164\" x=\"451\" y=\"233\"/><text fill=\"#000000\" font-family=\"sans-serif\" font-size=\"12\" lengthAdjust=\"spacingAndGlyphs\" textLength=\"8\" x=\"529\" y=\"249.1387\">P</text></a><!--MD5=[14e3b0961a2654348d326746436168a1]\n",
       "cluster E6--><a href=\"psysml:735cd89a-e4b2-4dc5-b3d6-41534f400f39\" target=\"_top\" title=\"psysml:735cd89a-e4b2-4dc5-b3d6-41534f400f39\" xlink:actuate=\"onRequest\" xlink:href=\"psysml:735cd89a-e4b2-4dc5-b3d6-41534f400f39\" xlink:show=\"new\" xlink:title=\"psysml:735cd89a-e4b2-4dc5-b3d6-41534f400f39\" xlink:type=\"simple\"><rect fill=\"#FFFFFF\" filter=\"url(#f1teyijep0fiou)\" height=\"133\" id=\"E6\" style=\"stroke: #A80036; stroke-width: 1.5;\" width=\"123\" x=\"662\" y=\"60\"/><rect fill=\"#FEFECE\" height=\"23.9688\" style=\"stroke: #A80036; stroke-width: 1.5;\" width=\"123\" x=\"662\" y=\"60\"/><text fill=\"#000000\" font-family=\"sans-serif\" font-size=\"12\" lengthAdjust=\"spacingAndGlyphs\" textLength=\"8\" x=\"719.5\" y=\"76.1387\">V</text></a><!--MD5=[7f149f147074ac12df2cb0a7728a5fb0]\n",
       "cluster E9--><a href=\"psysml:ce952eae-8bb1-4ad0-9f02-4c42d4c1d0c7\" target=\"_top\" title=\"psysml:ce952eae-8bb1-4ad0-9f02-4c42d4c1d0c7\" xlink:actuate=\"onRequest\" xlink:href=\"psysml:ce952eae-8bb1-4ad0-9f02-4c42d4c1d0c7\" xlink:show=\"new\" xlink:title=\"psysml:ce952eae-8bb1-4ad0-9f02-4c42d4c1d0c7\" xlink:type=\"simple\"><rect fill=\"#FFFFFF\" filter=\"url(#f1teyijep0fiou)\" height=\"139\" id=\"E9\" rx=\"10\" ry=\"10\" style=\"stroke: #A80036; stroke-width: 1.5;\" width=\"136\" x=\"494\" y=\"49\"/><rect fill=\"#FEFECE\" height=\"37.9375\" rx=\"10\" ry=\"10\" style=\"stroke: #FEFECE; stroke-width: 1.5;\" width=\"136\" x=\"494\" y=\"49\"/><rect fill=\"#FEFECE\" height=\"10\" style=\"stroke: #FEFECE; stroke-width: 1.5;\" width=\"136\" x=\"494\" y=\"76.9375\"/><rect fill=\"none\" height=\"139\" id=\"E9\" rx=\"10\" ry=\"10\" style=\"stroke: #A80036; stroke-width: 1.5;\" width=\"136\" x=\"494\" y=\"49\"/><text fill=\"#000000\" font-family=\"sans-serif\" font-size=\"12\" font-style=\"italic\" lengthAdjust=\"spacingAndGlyphs\" textLength=\"68\" x=\"528\" y=\"65.1387\">«variation»</text><text fill=\"#000000\" font-family=\"sans-serif\" font-size=\"12\" lengthAdjust=\"spacingAndGlyphs\" textLength=\"22\" x=\"551\" y=\"79.1074\">v: P</text><line style=\"stroke: #A80036; stroke-width: 1.0;\" x1=\"494\" x2=\"630\" y1=\"86.9375\" y2=\"86.9375\"/></a><g id=\"E1.E5\"><a href=\"psysml:c1ea47d2-f15e-4f05-bf93-ec81669ca641\" target=\"_top\" title=\"psysml:c1ea47d2-f15e-4f05-bf93-ec81669ca641\" xlink:actuate=\"onRequest\" xlink:href=\"psysml:c1ea47d2-f15e-4f05-bf93-ec81669ca641\" xlink:show=\"new\" xlink:title=\"psysml:c1ea47d2-f15e-4f05-bf93-ec81669ca641\" xlink:type=\"simple\"><rect fill=\"#FEFECE\" filter=\"url(#f1teyijep0fiou)\" height=\"42.9375\" id=\"E5\" style=\"stroke: #A80036; stroke-width: 1.5;\" width=\"126\" x=\"349\" y=\"114.5\"/><ellipse cx=\"366.25\" cy=\"133.4688\" fill=\"#A52A2A\" rx=\"11\" ry=\"11\" style=\"stroke: #A80036; stroke-width: 1.0;\"/><path d=\"M365.8438,129.2813 L365.8438,137.2656 L366.5,137.2656 Q367.9375,137.2656 368.5469,136.3594 Q369.1719,135.4375 369.1719,133.2656 Q369.1719,131.0938 368.5469,130.1875 Q367.9375,129.2813 366.5,129.2813 L365.8438,129.2813 Z M363.3906,127.0781 L366.0156,127.0781 Q369.0469,127.0781 370.375,128.5313 Q371.7188,129.9688 371.7188,133.2656 Q371.7188,136.5625 370.375,138.0156 Q369.0469,139.4688 366.0156,139.4688 L363.3906,139.4688 L363.3906,127.0781 Z \"/><text fill=\"#000000\" font-family=\"sans-serif\" font-size=\"12\" font-style=\"italic\" lengthAdjust=\"spacingAndGlyphs\" textLength=\"93\" x=\"378.75\" y=\"130.6387\">«attribute def»</text><text fill=\"#000000\" font-family=\"sans-serif\" font-size=\"12\" lengthAdjust=\"spacingAndGlyphs\" textLength=\"8\" x=\"421.25\" y=\"144.6074\">B</text></a></g><!--MD5=[09b614a08d8cba4a07c9adeb5e0fee81]\n",
       "class E3--><a href=\"psysml:29e7d07c-e0ef-43b2-a175-0967043bb668\" target=\"_top\" title=\"psysml:29e7d07c-e0ef-43b2-a175-0967043bb668\" xlink:actuate=\"onRequest\" xlink:href=\"psysml:29e7d07c-e0ef-43b2-a175-0967043bb668\" xlink:show=\"new\" xlink:title=\"psysml:29e7d07c-e0ef-43b2-a175-0967043bb668\" xlink:type=\"simple\"><rect fill=\"#FEFECE\" filter=\"url(#f1teyijep0fiou)\" height=\"45.9375\" id=\"E3\" rx=\"10\" ry=\"10\" style=\"stroke: #A80036; stroke-width: 1.5;\" width=\"97\" x=\"494.5\" y=\"276\"/><ellipse cx=\"509.5\" cy=\"294.9688\" fill=\"#FFA500\" rx=\"11\" ry=\"11\" style=\"stroke: #A80036; stroke-width: 1.0;\"/><path d=\"M505.375,296.8906 L505.375,289.0781 L507.8281,289.0781 L507.8281,297.5156 Q507.8281,298.4375 508.2969,298.9688 Q508.7813,299.5 509.6094,299.5 Q510.4531,299.5 510.9219,298.9688 Q511.3906,298.4375 511.3906,297.5156 L511.3906,289.0781 L513.8438,289.0781 L513.8438,296.8906 Q513.8438,299.4219 512.8438,300.5625 Q511.8438,301.7031 509.6094,301.7031 Q507.3906,301.7031 506.375,300.5625 Q505.375,299.4219 505.375,296.8906 Z \"/><text fill=\"#000000\" font-family=\"sans-serif\" font-size=\"12\" font-style=\"italic\" lengthAdjust=\"spacingAndGlyphs\" textLength=\"69\" x=\"521.5\" y=\"292.1387\">«attribute»</text><text fill=\"#000000\" font-family=\"sans-serif\" font-size=\"12\" lengthAdjust=\"spacingAndGlyphs\" textLength=\"8\" x=\"552\" y=\"306.1074\">a</text><line style=\"stroke: #A80036; stroke-width: 1.5;\" x1=\"495.5\" x2=\"590.5\" y1=\"313.9375\" y2=\"313.9375\"/></a><g id=\"E1.E4\"><a href=\"psysml:3556ece0-f840-441c-8cd2-5d7027a1a805\" target=\"_top\" title=\"psysml:3556ece0-f840-441c-8cd2-5d7027a1a805\" xlink:actuate=\"onRequest\" xlink:href=\"psysml:3556ece0-f840-441c-8cd2-5d7027a1a805\" xlink:show=\"new\" xlink:title=\"psysml:3556ece0-f840-441c-8cd2-5d7027a1a805\" xlink:type=\"simple\"><rect fill=\"#FEFECE\" filter=\"url(#f1teyijep0fiou)\" height=\"40\" id=\"E4\" style=\"stroke: #A80036; stroke-width: 1.5;\" width=\"50\" x=\"264\" y=\"116\"/><ellipse cx=\"283.05\" cy=\"132\" fill=\"#008000\" rx=\"11\" ry=\"11\" style=\"stroke: #A80036; stroke-width: 1.0;\"/><path d=\"M281.9563,132.375 L281.9563,136.0469 L283.5813,136.0469 Q284.7531,136.0469 285.2219,135.6563 Q285.6906,135.25 285.6906,134.25 Q285.6906,133.25 285.1906,132.8125 Q284.7063,132.375 283.5813,132.375 L281.9563,132.375 Z M281.9563,127.5469 L281.9563,130.4219 L283.5813,130.4219 Q284.5031,130.4219 284.8938,130.0938 Q285.3,129.75 285.3,129 Q285.3,128.2344 284.8938,127.8906 Q284.4875,127.5469 283.5813,127.5469 L281.9563,127.5469 Z M279.5813,125.5938 L283.5813,125.5938 Q285.6438,125.5938 286.6906,126.375 Q287.7375,127.1563 287.7375,128.7188 Q287.7375,129.9219 287.1125,130.5938 Q286.5031,131.2656 285.3156,131.375 Q286.7375,131.5156 287.4563,132.3281 Q288.175,133.1406 288.175,134.5938 Q288.175,136.3906 287.0969,137.2031 Q286.0188,138 283.5813,138 L279.5813,138 L279.5813,125.5938 Z \"/><text fill=\"#000000\" font-family=\"sans-serif\" font-size=\"12\" lengthAdjust=\"spacingAndGlyphs\" textLength=\"9\" x=\"297.95\" y=\"136.1543\">Q</text></a></g><!--MD5=[2156ba9850f5573cc1fc38a6a4b2f02b]\n",
       "class E7--><a href=\"psysml:0400016e-70f0-4405-a71c-97e49bd60e65\" target=\"_top\" title=\"psysml:0400016e-70f0-4405-a71c-97e49bd60e65\" xlink:actuate=\"onRequest\" xlink:href=\"psysml:0400016e-70f0-4405-a71c-97e49bd60e65\" xlink:show=\"new\" xlink:title=\"psysml:0400016e-70f0-4405-a71c-97e49bd60e65\" xlink:type=\"simple\"><rect fill=\"#FEFECE\" filter=\"url(#f1teyijep0fiou)\" height=\"65.6094\" id=\"E7\" rx=\"10\" ry=\"10\" style=\"stroke: #A80036; stroke-width: 1.5;\" width=\"56\" x=\"705\" y=\"103\"/><ellipse cx=\"720.45\" cy=\"119\" fill=\"#B6DBBB\" rx=\"11\" ry=\"11\" style=\"stroke: #A80036; stroke-width: 1.0;\"/><path d=\"M716.325,120.9219 L716.325,113.1094 L718.7781,113.1094 L718.7781,121.5469 Q718.7781,122.4688 719.2469,123 Q719.7313,123.5313 720.5594,123.5313 Q721.4031,123.5313 721.8719,123 Q722.3406,122.4688 722.3406,121.5469 L722.3406,113.1094 L724.7938,113.1094 L724.7938,120.9219 Q724.7938,123.4531 723.7938,124.5938 Q722.7938,125.7344 720.5594,125.7344 Q718.3406,125.7344 717.325,124.5938 Q716.325,123.4531 716.325,120.9219 Z \"/><text fill=\"#000000\" font-family=\"sans-serif\" font-size=\"12\" lengthAdjust=\"spacingAndGlyphs\" textLength=\"23\" x=\"734.55\" y=\"123.1543\">x: Q</text><line style=\"stroke: #A80036; stroke-width: 1.5;\" x1=\"706\" x2=\"760\" y1=\"135\" y2=\"135\"/><text fill=\"#000000\" font-family=\"sans-serif\" font-size=\"11\" lengthAdjust=\"spacingAndGlyphs\" textLength=\"23\" x=\"711\" y=\"149.2104\">b: B</text><text fill=\"#000000\" font-family=\"sans-serif\" font-size=\"11\" font-style=\"italic\" lengthAdjust=\"spacingAndGlyphs\" textLength=\"44\" x=\"711\" y=\"162.0151\">:&gt;&gt;P::a</text></a><g id=\"E1.E8\"><a href=\"psysml:ac43cc4c-8177-486e-b5a5-e877f62f9bc5\" target=\"_top\" title=\"psysml:ac43cc4c-8177-486e-b5a5-e877f62f9bc5\" xlink:actuate=\"onRequest\" xlink:href=\"psysml:ac43cc4c-8177-486e-b5a5-e877f62f9bc5\" xlink:show=\"new\" xlink:title=\"psysml:ac43cc4c-8177-486e-b5a5-e877f62f9bc5\" xlink:type=\"simple\"><rect fill=\"#FEFECE\" filter=\"url(#f1teyijep0fiou)\" height=\"40\" id=\"E8\" rx=\"10\" ry=\"10\" style=\"stroke: #A80036; stroke-width: 1.5;\" width=\"62\" x=\"167\" y=\"116\"/><ellipse cx=\"184.25\" cy=\"132\" fill=\"#B6DBBB\" rx=\"11\" ry=\"11\" style=\"stroke: #A80036; stroke-width: 1.0;\"/><path d=\"M180.125,133.9219 L180.125,126.1094 L182.5781,126.1094 L182.5781,134.5469 Q182.5781,135.4688 183.0469,136 Q183.5313,136.5313 184.3594,136.5313 Q185.2031,136.5313 185.6719,136 Q186.1406,135.4688 186.1406,134.5469 L186.1406,126.1094 L188.5938,126.1094 L188.5938,133.9219 Q188.5938,136.4531 187.5938,137.5938 Q186.5938,138.7344 184.3594,138.7344 Q182.1406,138.7344 181.125,137.5938 Q180.125,136.4531 180.125,133.9219 Z \"/><text fill=\"#000000\" font-family=\"sans-serif\" font-size=\"12\" lengthAdjust=\"spacingAndGlyphs\" textLength=\"25\" x=\"198.75\" y=\"136.1543\">q: Q</text></a></g><!--MD5=[96f4274e9e20536e775497830990834d]\n",
       "class E10--><a href=\"psysml:572dfe4e-6d7c-4ba8-94a3-d7ce0272bed9\" target=\"_top\" title=\"psysml:572dfe4e-6d7c-4ba8-94a3-d7ce0272bed9\" xlink:actuate=\"onRequest\" xlink:href=\"psysml:572dfe4e-6d7c-4ba8-94a3-d7ce0272bed9\" xlink:show=\"new\" xlink:title=\"psysml:572dfe4e-6d7c-4ba8-94a3-d7ce0272bed9\" xlink:type=\"simple\"><rect fill=\"#FEFECE\" filter=\"url(#f1teyijep0fiou)\" height=\"71.5469\" id=\"E10\" rx=\"10\" ry=\"10\" style=\"stroke: #A80036; stroke-width: 1.5;\" width=\"103\" x=\"510.5\" y=\"100\"/><ellipse cx=\"525.5\" cy=\"118.9688\" fill=\"#FFA500\" rx=\"11\" ry=\"11\" style=\"stroke: #A80036; stroke-width: 1.0;\"/><path d=\"M521.375,120.8906 L521.375,113.0781 L523.8281,113.0781 L523.8281,121.5156 Q523.8281,122.4375 524.2969,122.9688 Q524.7813,123.5 525.6094,123.5 Q526.4531,123.5 526.9219,122.9688 Q527.3906,122.4375 527.3906,121.5156 L527.3906,113.0781 L529.8438,113.0781 L529.8438,120.8906 Q529.8438,123.4219 528.8438,124.5625 Q527.8438,125.7031 525.6094,125.7031 Q523.3906,125.7031 522.375,124.5625 Q521.375,123.4219 521.375,120.8906 Z \"/><text fill=\"#000000\" font-family=\"sans-serif\" font-size=\"12\" font-style=\"italic\" lengthAdjust=\"spacingAndGlyphs\" textLength=\"75\" x=\"537.5\" y=\"116.1387\">«reference»</text><text fill=\"#000000\" font-family=\"sans-serif\" font-size=\"12\" lengthAdjust=\"spacingAndGlyphs\" textLength=\"8\" x=\"571\" y=\"130.1074\">q</text><line style=\"stroke: #A80036; stroke-width: 1.5;\" x1=\"511.5\" x2=\"612.5\" y1=\"137.9375\" y2=\"137.9375\"/><text fill=\"#000000\" font-family=\"sans-serif\" font-size=\"11\" lengthAdjust=\"spacingAndGlyphs\" textLength=\"23\" x=\"516.5\" y=\"152.1479\">b: B</text><text fill=\"#000000\" font-family=\"sans-serif\" font-size=\"11\" font-style=\"italic\" lengthAdjust=\"spacingAndGlyphs\" textLength=\"44\" x=\"516.5\" y=\"164.9526\">:&gt;&gt;P::a</text></a><g id=\"E1.E11\"><a href=\"psysml:983a8093-9810-4637-96cc-9ee8fb3d9cf5\" target=\"_top\" title=\"psysml:983a8093-9810-4637-96cc-9ee8fb3d9cf5\" xlink:actuate=\"onRequest\" xlink:href=\"psysml:983a8093-9810-4637-96cc-9ee8fb3d9cf5\" xlink:show=\"new\" xlink:title=\"psysml:983a8093-9810-4637-96cc-9ee8fb3d9cf5\" xlink:type=\"simple\"><rect fill=\"#FEFECE\" filter=\"url(#f1teyijep0fiou)\" height=\"40\" id=\"E11\" rx=\"10\" ry=\"10\" style=\"stroke: #A80036; stroke-width: 1.5;\" width=\"99\" x=\"32.5\" y=\"116\"/><ellipse cx=\"49.75\" cy=\"132\" fill=\"#B6DBBB\" rx=\"11\" ry=\"11\" style=\"stroke: #A80036; stroke-width: 1.0;\"/><path d=\"M45.625,133.9219 L45.625,126.1094 L48.0781,126.1094 L48.0781,134.5469 Q48.0781,135.4688 48.5469,136 Q49.0313,136.5313 49.8594,136.5313 Q50.7031,136.5313 51.1719,136 Q51.6406,135.4688 51.6406,134.5469 L51.6406,126.1094 L54.0938,126.1094 L54.0938,133.9219 Q54.0938,136.4531 53.0938,137.5938 Q52.0938,138.7344 49.8594,138.7344 Q47.6406,138.7344 46.625,137.5938 Q45.625,136.4531 45.625,133.9219 Z \"/><text fill=\"#000000\" font-family=\"sans-serif\" font-size=\"12\" lengthAdjust=\"spacingAndGlyphs\" textLength=\"58\" x=\"64.25\" y=\"136.1543\">y: P=v::q;</text></a></g><!--MD5=[185131fc0dcab0a4505a2ebe144e961b]\n",
       "link E4 to E2--><a href=\"psysml:9e57242c-9184-4252-9565-bec20c63fdb8\" target=\"_top\" title=\"psysml:9e57242c-9184-4252-9565-bec20c63fdb8\" xlink:actuate=\"onRequest\" xlink:href=\"psysml:9e57242c-9184-4252-9565-bec20c63fdb8\" xlink:show=\"new\" xlink:title=\"psysml:9e57242c-9184-4252-9565-bec20c63fdb8\" xlink:type=\"simple\"><path d=\"M297.67,156.2 C305.25,171.62 317.33,193.22 332,209 C355.1,233.845 386.2275,255.7925 411.8838,271.6763 C424.7119,279.6181 436.1722,286.0441 444.5773,290.5583 C446.6786,291.6868 448.589,292.6959 450.282,293.5793 C450.4936,293.6897 450.7019,293.7982 450.9067,293.9047 \" fill=\"none\" id=\"E4-&gt;E2\" style=\"stroke: #A80036; stroke-width: 1.0;\"/><polygon fill=\"#FFFFFF\" points=\"450.9067,293.9047,437.2789,278.9286,430.82,291.3497,450.9067,293.9047\" style=\"stroke: #A80036; stroke-width: 1.0;\"/></a><!--MD5=[2351f337d6de0f557b50152ba70847b5]\n",
       "link E6 to E2--><a href=\"psysml:5cdbdbe7-d14c-45c9-a804-61f18115238e\" target=\"_top\" title=\"psysml:5cdbdbe7-d14c-45c9-a804-61f18115238e\" xlink:actuate=\"onRequest\" xlink:href=\"psysml:5cdbdbe7-d14c-45c9-a804-61f18115238e\" xlink:show=\"new\" xlink:title=\"psysml:5cdbdbe7-d14c-45c9-a804-61f18115238e\" xlink:type=\"simple\"><path d=\"M661.9013,165.0679 C661.8104,165.3026 661.7186,165.5379 661.6258,165.7737 C661.4404,166.2454 661.2514,166.7192 661.0587,167.195 C654.895,182.42 645.04,199.605 630,209 C601.5,226.8 504.9,195.59 479,217 C475.5388,219.8612 472.6225,223.2173 470.17,226.9065 C468.9438,228.751 467.8335,230.6788 466.829,232.6697 \" fill=\"none\" id=\"E6-&gt;E2\" style=\"stroke: #A80036; stroke-width: 1.0;\"/><polygon fill=\"#FFFFFF\" points=\"466.829,232.6697,481.6374,218.8599,469.1384,212.5534,466.829,232.6697\" style=\"stroke: #A80036; stroke-width: 1.0;\"/></a><!--MD5=[8d6a17df035e128e3107ffd04819c7c9]\n",
       "@startuml\r\n",
       "skinparam ranksep 10\r\n",
       "skinparam rectangle {\r\n",
       " backgroundColor<<block>> LightGreen\r\n",
       "}\r\n",
       " \r\n",
       "package \"VariabilityTest\" as E1  [[psysml:c9192910-aa77-45a9-9ae3-16f7deb9d13d ]]  {\r\n",
       "rec def \"P\" as E2  << (B,green) >> [[psysml:28b4b804-815b-4815-9c5e-e5b09d6ccef7 ]] {\r\n",
       "comp usage \"a\" as E3  <<(U,orange)attribute>> [[psysml:29e7d07c-e0ef-43b2-a175-0967043bb668 ]] {\r\n",
       "}\r\n",
       "}\r\n",
       "rec def \"Q\" as E4  << (B,green) >> [[psysml:3556ece0-f840-441c-8cd2-5d7027a1a805 ]] {\r\n",
       "}\r\n",
       "def \"B\" as E5  <<(D,brown)attribute def>> [[psysml:c1ea47d2-f15e-4f05-bf93-ec81669ca641 ]] \r\n",
       "rec def \"V\" as E6  << (B,green) >> [[psysml:735cd89a-e4b2-4dc5-b3d6-41534f400f39 ]] {\r\n",
       "comp usage \"x: Q\" as E7  [[psysml:0400016e-70f0-4405-a71c-97e49bd60e65 ]] {\r\n",
       "b: B\\n//:>>P::a// \r\n",
       "}\r\n",
       "}\r\n",
       "rec usage \"q: Q\" as E8  [[psysml:ac43cc4c-8177-486e-b5a5-e877f62f9bc5 ]] {\r\n",
       "}\r\n",
       "rec usage \"v: P\" as E9  <<variation>> [[psysml:ce952eae-8bb1-4ad0-9f02-4c42d4c1d0c7 ]] {\r\n",
       "comp usage \"q\" as E10  <<(U,orange)reference>> [[psysml:572dfe4e-6d7c-4ba8-94a3-d7ce0272bed9 ]] {\r\n",
       "b: B\\n//:>>P::a// \r\n",
       "}\r\n",
       "}\r\n",
       "rec usage \"y: P=v::q; \" as E11  [[psysml:983a8093-9810-4637-96cc-9ee8fb3d9cf5 ]] {\r\n",
       "}\r\n",
       "E4 - -|> E2 [[psysml:9e57242c-9184-4252-9565-bec20c63fdb8 ]] \r\n",
       "E6 - -|> E2 [[psysml:5cdbdbe7-d14c-45c9-a804-61f18115238e ]] \r\n",
       "}\r\n",
       "@enduml\r\n",
       "\n",
       "PlantUML version 1.2020.13(Sat Jun 13 12:26:38 UTC 2020)\n",
       "(EPL source distribution)\n",
       "Java Runtime: OpenJDK Runtime Environment\n",
       "JVM: OpenJDK 64-Bit Server VM\n",
       "Default Encoding: UTF-8\n",
       "Language: en\n",
       "Country: null\n",
       "--></g></svg>"
      ]
     },
     "execution_count": 33,
     "metadata": {},
     "output_type": "execute_result"
    }
   ],
   "source": [
    "%viz --style=\"PLANTUML\" --view=\"Interconnection\" \"VariabilityTest\""
   ]
  },
  {
   "cell_type": "code",
   "execution_count": 34,
   "id": "29554e79",
   "metadata": {
    "execution": {
     "iopub.execute_input": "2021-05-28T10:47:57.030921Z",
     "iopub.status.busy": "2021-05-28T10:47:57.030531Z",
     "iopub.status.idle": "2021-05-28T10:47:57.034589Z",
     "shell.execute_reply": "2021-05-28T10:47:57.034247Z"
    }
   },
   "outputs": [
    {
     "data": {
      "image/svg+xml": [
       "<?xml version=\"1.0\" encoding=\"UTF-8\" standalone=\"no\"?><svg xmlns=\"http://www.w3.org/2000/svg\" xmlns:xlink=\"http://www.w3.org/1999/xlink\" contentScriptType=\"application/ecmascript\" contentStyleType=\"text/css\" height=\"12px\" preserveAspectRatio=\"none\" style=\"width:12px;height:12px;\" version=\"1.1\" viewBox=\"0 0 12 12\" width=\"12px\" zoomAndPan=\"magnify\"><defs/><g><!--MD5=[6a4cb978cab31700e1ce5529f947a75d]\n",
       "@startuml\r\n",
       "skinparam ranksep 8\r\n",
       " \r\n",
       "@enduml\r\n",
       "\n",
       "PlantUML version 1.2020.13(Sat Jun 13 12:26:38 UTC 2020)\n",
       "(EPL source distribution)\n",
       "Java Runtime: OpenJDK Runtime Environment\n",
       "JVM: OpenJDK 64-Bit Server VM\n",
       "Default Encoding: UTF-8\n",
       "Language: en\n",
       "Country: null\n",
       "--></g></svg>"
      ]
     },
     "execution_count": 34,
     "metadata": {},
     "output_type": "execute_result"
    }
   ],
   "source": [
    "%viz --style=\"PLANTUML\" --view=\"Action\" \"VariabilityTest\""
   ]
  },
  {
   "cell_type": "code",
   "execution_count": 35,
   "id": "e16c65c9",
   "metadata": {
    "execution": {
     "iopub.execute_input": "2021-05-28T10:47:57.086835Z",
     "iopub.status.busy": "2021-05-28T10:47:57.086101Z",
     "iopub.status.idle": "2021-05-28T10:47:57.144111Z",
     "shell.execute_reply": "2021-05-28T10:47:57.142550Z"
    }
   },
   "outputs": [
    {
     "data": {
      "image/svg+xml": [
       "<?xml version=\"1.0\" encoding=\"UTF-8\" standalone=\"no\"?><svg xmlns=\"http://www.w3.org/2000/svg\" xmlns:xlink=\"http://www.w3.org/1999/xlink\" contentScriptType=\"application/ecmascript\" contentStyleType=\"text/css\" height=\"385px\" preserveAspectRatio=\"none\" style=\"width:421px;height:385px;\" version=\"1.1\" viewBox=\"0 0 421 385\" width=\"421px\" zoomAndPan=\"magnify\"><defs><filter height=\"300%\" id=\"flt1x46b8zxgp\" width=\"300%\" x=\"-1\" y=\"-1\"><feGaussianBlur result=\"blurOut\" stdDeviation=\"2.0\"/><feColorMatrix in=\"blurOut\" result=\"blurOut2\" type=\"matrix\" values=\"0 0 0 0 0 0 0 0 0 0 0 0 0 0 0 0 0 0 .4 0\"/><feOffset dx=\"4.0\" dy=\"4.0\" in=\"blurOut2\" result=\"blurOut3\"/><feBlend in=\"SourceGraphic\" in2=\"blurOut3\" mode=\"normal\"/></filter></defs><g><!--MD5=[fbc87193dbaf4d95561dea2c320d4a47]\n",
       "cluster E1--><a href=\"psysml:c9192910-aa77-45a9-9ae3-16f7deb9d13d\" target=\"_top\" title=\"psysml:c9192910-aa77-45a9-9ae3-16f7deb9d13d\" xlink:actuate=\"onRequest\" xlink:href=\"psysml:c9192910-aa77-45a9-9ae3-16f7deb9d13d\" xlink:show=\"new\" xlink:title=\"psysml:c9192910-aa77-45a9-9ae3-16f7deb9d13d\" xlink:type=\"simple\"><polygon fill=\"#FFFFFF\" filter=\"url(#flt1x46b8zxgp)\" points=\"16,6,134,6,141,28.2969,399,28.2969,399,373,16,373,16,6\" style=\"stroke: #000000; stroke-width: 1.5;\"/><line style=\"stroke: #000000; stroke-width: 1.5;\" x1=\"16\" x2=\"141\" y1=\"28.2969\" y2=\"28.2969\"/><text fill=\"#000000\" font-family=\"sans-serif\" font-size=\"14\" font-weight=\"bold\" lengthAdjust=\"spacingAndGlyphs\" textLength=\"112\" x=\"20\" y=\"20.9951\">VariabilityTest</text></a><!--MD5=[b4997ac47864f28c2f74865a473b2911]\n",
       "class E2--><a href=\"psysml:28b4b804-815b-4815-9c5e-e5b09d6ccef7\" target=\"_top\" title=\"psysml:28b4b804-815b-4815-9c5e-e5b09d6ccef7\" xlink:actuate=\"onRequest\" xlink:href=\"psysml:28b4b804-815b-4815-9c5e-e5b09d6ccef7\" xlink:show=\"new\" xlink:title=\"psysml:28b4b804-815b-4815-9c5e-e5b09d6ccef7\" xlink:type=\"simple\"><rect fill=\"#FEFECE\" filter=\"url(#flt1x46b8zxgp)\" height=\"52.8047\" id=\"E2\" style=\"stroke: #A80036; stroke-width: 1.5;\" width=\"40\" x=\"192\" y=\"294.5\"/><ellipse cx=\"207\" cy=\"310.5\" fill=\"#008000\" rx=\"11\" ry=\"11\" style=\"stroke: #A80036; stroke-width: 1.0;\"/><path d=\"M205.9063,310.875 L205.9063,314.5469 L207.5313,314.5469 Q208.7031,314.5469 209.1719,314.1563 Q209.6406,313.75 209.6406,312.75 Q209.6406,311.75 209.1406,311.3125 Q208.6563,310.875 207.5313,310.875 L205.9063,310.875 Z M205.9063,306.0469 L205.9063,308.9219 L207.5313,308.9219 Q208.4531,308.9219 208.8438,308.5938 Q209.25,308.25 209.25,307.5 Q209.25,306.7344 208.8438,306.3906 Q208.4375,306.0469 207.5313,306.0469 L205.9063,306.0469 Z M203.5313,304.0938 L207.5313,304.0938 Q209.5938,304.0938 210.6406,304.875 Q211.6875,305.6563 211.6875,307.2188 Q211.6875,308.4219 211.0625,309.0938 Q210.4531,309.7656 209.2656,309.875 Q210.6875,310.0156 211.4063,310.8281 Q212.125,311.6406 212.125,313.0938 Q212.125,314.8906 211.0469,315.7031 Q209.9688,316.5 207.5313,316.5 L203.5313,316.5 L203.5313,304.0938 Z \"/><text fill=\"#000000\" font-family=\"sans-serif\" font-size=\"12\" lengthAdjust=\"spacingAndGlyphs\" textLength=\"8\" x=\"221\" y=\"314.6543\">P</text><line style=\"stroke: #A80036; stroke-width: 1.5;\" x1=\"193\" x2=\"231\" y1=\"326.5\" y2=\"326.5\"/><text fill=\"#000000\" font-family=\"sans-serif\" font-size=\"11\" lengthAdjust=\"spacingAndGlyphs\" textLength=\"7\" x=\"198\" y=\"340.7104\">a</text></a><!--MD5=[09b614a08d8cba4a07c9adeb5e0fee81]\n",
       "class E3--><a href=\"psysml:3556ece0-f840-441c-8cd2-5d7027a1a805\" target=\"_top\" title=\"psysml:3556ece0-f840-441c-8cd2-5d7027a1a805\" xlink:actuate=\"onRequest\" xlink:href=\"psysml:3556ece0-f840-441c-8cd2-5d7027a1a805\" xlink:show=\"new\" xlink:title=\"psysml:3556ece0-f840-441c-8cd2-5d7027a1a805\" xlink:type=\"simple\"><rect fill=\"#FEFECE\" filter=\"url(#flt1x46b8zxgp)\" height=\"40\" id=\"E3\" style=\"stroke: #A80036; stroke-width: 1.5;\" width=\"41\" x=\"163.5\" y=\"158\"/><ellipse cx=\"178.5\" cy=\"174\" fill=\"#008000\" rx=\"11\" ry=\"11\" style=\"stroke: #A80036; stroke-width: 1.0;\"/><path d=\"M177.4063,174.375 L177.4063,178.0469 L179.0313,178.0469 Q180.2031,178.0469 180.6719,177.6563 Q181.1406,177.25 181.1406,176.25 Q181.1406,175.25 180.6406,174.8125 Q180.1563,174.375 179.0313,174.375 L177.4063,174.375 Z M177.4063,169.5469 L177.4063,172.4219 L179.0313,172.4219 Q179.9531,172.4219 180.3438,172.0938 Q180.75,171.75 180.75,171 Q180.75,170.2344 180.3438,169.8906 Q179.9375,169.5469 179.0313,169.5469 L177.4063,169.5469 Z M175.0313,167.5938 L179.0313,167.5938 Q181.0938,167.5938 182.1406,168.375 Q183.1875,169.1563 183.1875,170.7188 Q183.1875,171.9219 182.5625,172.5938 Q181.9531,173.2656 180.7656,173.375 Q182.1875,173.5156 182.9063,174.3281 Q183.625,175.1406 183.625,176.5938 Q183.625,178.3906 182.5469,179.2031 Q181.4688,180 179.0313,180 L175.0313,180 L175.0313,167.5938 Z \"/><text fill=\"#000000\" font-family=\"sans-serif\" font-size=\"12\" lengthAdjust=\"spacingAndGlyphs\" textLength=\"9\" x=\"192.5\" y=\"178.1543\">Q</text><line style=\"stroke: #A80036; stroke-width: 1.5;\" x1=\"164.5\" x2=\"203.5\" y1=\"190\" y2=\"190\"/></a><!--MD5=[ebbe1d658d1005bcc118a6aa81145e00]\n",
       "class E4--><a href=\"psysml:c1ea47d2-f15e-4f05-bf93-ec81669ca641\" target=\"_top\" title=\"psysml:c1ea47d2-f15e-4f05-bf93-ec81669ca641\" xlink:actuate=\"onRequest\" xlink:href=\"psysml:c1ea47d2-f15e-4f05-bf93-ec81669ca641\" xlink:show=\"new\" xlink:title=\"psysml:c1ea47d2-f15e-4f05-bf93-ec81669ca641\" xlink:type=\"simple\"><rect fill=\"#FEFECE\" filter=\"url(#flt1x46b8zxgp)\" height=\"45.9375\" id=\"E4\" style=\"stroke: #A80036; stroke-width: 1.5;\" width=\"121\" x=\"257.5\" y=\"41\"/><ellipse cx=\"272.5\" cy=\"59.9688\" fill=\"#A52A2A\" rx=\"11\" ry=\"11\" style=\"stroke: #A80036; stroke-width: 1.0;\"/><path d=\"M272.0938,55.7813 L272.0938,63.7656 L272.75,63.7656 Q274.1875,63.7656 274.7969,62.8594 Q275.4219,61.9375 275.4219,59.7656 Q275.4219,57.5938 274.7969,56.6875 Q274.1875,55.7813 272.75,55.7813 L272.0938,55.7813 Z M269.6406,53.5781 L272.2656,53.5781 Q275.2969,53.5781 276.625,55.0313 Q277.9688,56.4688 277.9688,59.7656 Q277.9688,63.0625 276.625,64.5156 Q275.2969,65.9688 272.2656,65.9688 L269.6406,65.9688 L269.6406,53.5781 Z \"/><text fill=\"#000000\" font-family=\"sans-serif\" font-size=\"12\" font-style=\"italic\" lengthAdjust=\"spacingAndGlyphs\" textLength=\"93\" x=\"284.5\" y=\"57.1387\">«attribute def»</text><text fill=\"#000000\" font-family=\"sans-serif\" font-size=\"12\" lengthAdjust=\"spacingAndGlyphs\" textLength=\"8\" x=\"327\" y=\"71.1074\">B</text><line style=\"stroke: #A80036; stroke-width: 1.5;\" x1=\"258.5\" x2=\"377.5\" y1=\"78.9375\" y2=\"78.9375\"/></a><!--MD5=[270fce915f116d4de14055a7c1d9a0f3]\n",
       "class E5--><a href=\"psysml:735cd89a-e4b2-4dc5-b3d6-41534f400f39\" target=\"_top\" title=\"psysml:735cd89a-e4b2-4dc5-b3d6-41534f400f39\" xlink:actuate=\"onRequest\" xlink:href=\"psysml:735cd89a-e4b2-4dc5-b3d6-41534f400f39\" xlink:show=\"new\" xlink:title=\"psysml:735cd89a-e4b2-4dc5-b3d6-41534f400f39\" xlink:type=\"simple\"><rect fill=\"#FEFECE\" filter=\"url(#flt1x46b8zxgp)\" height=\"40\" id=\"E5\" style=\"stroke: #A80036; stroke-width: 1.5;\" width=\"40\" x=\"343\" y=\"158\"/><ellipse cx=\"358\" cy=\"174\" fill=\"#008000\" rx=\"11\" ry=\"11\" style=\"stroke: #A80036; stroke-width: 1.0;\"/><path d=\"M356.9063,174.375 L356.9063,178.0469 L358.5313,178.0469 Q359.7031,178.0469 360.1719,177.6563 Q360.6406,177.25 360.6406,176.25 Q360.6406,175.25 360.1406,174.8125 Q359.6563,174.375 358.5313,174.375 L356.9063,174.375 Z M356.9063,169.5469 L356.9063,172.4219 L358.5313,172.4219 Q359.4531,172.4219 359.8438,172.0938 Q360.25,171.75 360.25,171 Q360.25,170.2344 359.8438,169.8906 Q359.4375,169.5469 358.5313,169.5469 L356.9063,169.5469 Z M354.5313,167.5938 L358.5313,167.5938 Q360.5938,167.5938 361.6406,168.375 Q362.6875,169.1563 362.6875,170.7188 Q362.6875,171.9219 362.0625,172.5938 Q361.4531,173.2656 360.2656,173.375 Q361.6875,173.5156 362.4063,174.3281 Q363.125,175.1406 363.125,176.5938 Q363.125,178.3906 362.0469,179.2031 Q360.9688,180 358.5313,180 L354.5313,180 L354.5313,167.5938 Z \"/><text fill=\"#000000\" font-family=\"sans-serif\" font-size=\"12\" lengthAdjust=\"spacingAndGlyphs\" textLength=\"8\" x=\"372\" y=\"178.1543\">V</text><line style=\"stroke: #A80036; stroke-width: 1.5;\" x1=\"344\" x2=\"382\" y1=\"190\" y2=\"190\"/></a><!--MD5=[60a26617385b1d2d0262a64233df1f8d]\n",
       "class E6--><a href=\"psysml:0400016e-70f0-4405-a71c-97e49bd60e65\" target=\"_top\" title=\"psysml:0400016e-70f0-4405-a71c-97e49bd60e65\" xlink:actuate=\"onRequest\" xlink:href=\"psysml:0400016e-70f0-4405-a71c-97e49bd60e65\" xlink:show=\"new\" xlink:title=\"psysml:0400016e-70f0-4405-a71c-97e49bd60e65\" xlink:type=\"simple\"><rect fill=\"#FEFECE\" filter=\"url(#flt1x46b8zxgp)\" height=\"71.5469\" id=\"E6\" rx=\"10\" ry=\"10\" style=\"stroke: #A80036; stroke-width: 1.5;\" width=\"68\" x=\"287\" y=\"285\"/><ellipse cx=\"302\" cy=\"303.9688\" fill=\"#32CD32\" rx=\"11\" ry=\"11\" style=\"stroke: #A80036; stroke-width: 1.0;\"/><path d=\"M301.7969,299.6406 L301.7969,303.2656 L302.7969,303.2656 Q304,303.2656 304.4844,302.8594 Q304.9688,302.4531 304.9688,301.4531 Q304.9688,300.4531 304.4844,300.0469 Q304,299.6406 302.7969,299.6406 L301.7969,299.6406 Z M299.3438,297.5781 L302.7031,297.5781 Q305.2656,297.5781 306.3906,298.5 Q307.5156,299.4063 307.5156,301.4531 Q307.5156,303.5 306.3906,304.4219 Q305.2656,305.3281 302.7031,305.3281 L301.7969,305.3281 L301.7969,309.9688 L299.3438,309.9688 L299.3438,297.5781 Z \"/><text fill=\"#000000\" font-family=\"sans-serif\" font-size=\"12\" font-style=\"italic\" lengthAdjust=\"spacingAndGlyphs\" textLength=\"40\" x=\"314\" y=\"301.1387\">«part»</text><text fill=\"#000000\" font-family=\"sans-serif\" font-size=\"12\" lengthAdjust=\"spacingAndGlyphs\" textLength=\"23\" x=\"322.5\" y=\"315.1074\">x: Q</text><line style=\"stroke: #A80036; stroke-width: 1.5;\" x1=\"288\" x2=\"354\" y1=\"322.9375\" y2=\"322.9375\"/><text fill=\"#000000\" font-family=\"sans-serif\" font-size=\"11\" lengthAdjust=\"spacingAndGlyphs\" textLength=\"23\" x=\"293\" y=\"337.1479\">b: B</text><text fill=\"#000000\" font-family=\"sans-serif\" font-size=\"11\" font-style=\"italic\" lengthAdjust=\"spacingAndGlyphs\" textLength=\"44\" x=\"293\" y=\"349.9526\">:&gt;&gt;P::a</text></a><!--MD5=[2156ba9850f5573cc1fc38a6a4b2f02b]\n",
       "class E7--><a href=\"psysml:ac43cc4c-8177-486e-b5a5-e877f62f9bc5\" target=\"_top\" title=\"psysml:ac43cc4c-8177-486e-b5a5-e877f62f9bc5\" xlink:actuate=\"onRequest\" xlink:href=\"psysml:ac43cc4c-8177-486e-b5a5-e877f62f9bc5\" xlink:show=\"new\" xlink:title=\"psysml:ac43cc4c-8177-486e-b5a5-e877f62f9bc5\" xlink:type=\"simple\"><rect fill=\"#FEFECE\" filter=\"url(#flt1x46b8zxgp)\" height=\"45.9375\" id=\"E7\" rx=\"10\" ry=\"10\" style=\"stroke: #A80036; stroke-width: 1.5;\" width=\"68\" x=\"150\" y=\"41\"/><ellipse cx=\"165\" cy=\"59.9688\" fill=\"#32CD32\" rx=\"11\" ry=\"11\" style=\"stroke: #A80036; stroke-width: 1.0;\"/><path d=\"M164.7969,55.6406 L164.7969,59.2656 L165.7969,59.2656 Q167,59.2656 167.4844,58.8594 Q167.9688,58.4531 167.9688,57.4531 Q167.9688,56.4531 167.4844,56.0469 Q167,55.6406 165.7969,55.6406 L164.7969,55.6406 Z M162.3438,53.5781 L165.7031,53.5781 Q168.2656,53.5781 169.3906,54.5 Q170.5156,55.4063 170.5156,57.4531 Q170.5156,59.5 169.3906,60.4219 Q168.2656,61.3281 165.7031,61.3281 L164.7969,61.3281 L164.7969,65.9688 L162.3438,65.9688 L162.3438,53.5781 Z \"/><text fill=\"#000000\" font-family=\"sans-serif\" font-size=\"12\" font-style=\"italic\" lengthAdjust=\"spacingAndGlyphs\" textLength=\"40\" x=\"177\" y=\"57.1387\">«part»</text><text fill=\"#000000\" font-family=\"sans-serif\" font-size=\"12\" lengthAdjust=\"spacingAndGlyphs\" textLength=\"25\" x=\"184.5\" y=\"71.1074\">q: Q</text><line style=\"stroke: #A80036; stroke-width: 1.5;\" x1=\"151\" x2=\"217\" y1=\"78.9375\" y2=\"78.9375\"/></a><!--MD5=[b9389687b975829384b498ac4b7476b2]\n",
       "class E8--><a href=\"psysml:ce952eae-8bb1-4ad0-9f02-4c42d4c1d0c7\" target=\"_top\" title=\"psysml:ce952eae-8bb1-4ad0-9f02-4c42d4c1d0c7\" xlink:actuate=\"onRequest\" xlink:href=\"psysml:ce952eae-8bb1-4ad0-9f02-4c42d4c1d0c7\" xlink:show=\"new\" xlink:title=\"psysml:ce952eae-8bb1-4ad0-9f02-4c42d4c1d0c7\" xlink:type=\"simple\"><rect fill=\"#FEFECE\" filter=\"url(#flt1x46b8zxgp)\" height=\"59.9063\" id=\"E8\" rx=\"10\" ry=\"10\" style=\"stroke: #A80036; stroke-width: 1.5;\" width=\"96\" x=\"32\" y=\"148\"/><ellipse cx=\"47\" cy=\"173.9531\" fill=\"#32CD32\" rx=\"11\" ry=\"11\" style=\"stroke: #A80036; stroke-width: 1.0;\"/><path d=\"M46.7969,169.625 L46.7969,173.25 L47.7969,173.25 Q49,173.25 49.4844,172.8438 Q49.9688,172.4375 49.9688,171.4375 Q49.9688,170.4375 49.4844,170.0313 Q49,169.625 47.7969,169.625 L46.7969,169.625 Z M44.3438,167.5625 L47.7031,167.5625 Q50.2656,167.5625 51.3906,168.4844 Q52.5156,169.3906 52.5156,171.4375 Q52.5156,173.4844 51.3906,174.4063 Q50.2656,175.3125 47.7031,175.3125 L46.7969,175.3125 L46.7969,179.9531 L44.3438,179.9531 L44.3438,167.5625 Z \"/><text fill=\"#000000\" font-family=\"sans-serif\" font-size=\"12\" font-style=\"italic\" lengthAdjust=\"spacingAndGlyphs\" textLength=\"68\" x=\"59\" y=\"164.1387\">«variation»</text><text fill=\"#000000\" font-family=\"sans-serif\" font-size=\"12\" font-style=\"italic\" lengthAdjust=\"spacingAndGlyphs\" textLength=\"40\" x=\"73\" y=\"178.1074\">«part»</text><text fill=\"#000000\" font-family=\"sans-serif\" font-size=\"12\" lengthAdjust=\"spacingAndGlyphs\" textLength=\"22\" x=\"82\" y=\"192.0762\">v: P</text><line style=\"stroke: #A80036; stroke-width: 1.5;\" x1=\"33\" x2=\"127\" y1=\"199.9063\" y2=\"199.9063\"/></a><!--MD5=[fd4143e9d270a159db93a4ea2a975926]\n",
       "class E9--><a href=\"psysml:572dfe4e-6d7c-4ba8-94a3-d7ce0272bed9\" target=\"_top\" title=\"psysml:572dfe4e-6d7c-4ba8-94a3-d7ce0272bed9\" xlink:actuate=\"onRequest\" xlink:href=\"psysml:572dfe4e-6d7c-4ba8-94a3-d7ce0272bed9\" xlink:show=\"new\" xlink:title=\"psysml:572dfe4e-6d7c-4ba8-94a3-d7ce0272bed9\" xlink:type=\"simple\"><rect fill=\"#FEFECE\" filter=\"url(#flt1x46b8zxgp)\" height=\"71.5469\" id=\"E9\" rx=\"10\" ry=\"10\" style=\"stroke: #A80036; stroke-width: 1.5;\" width=\"103\" x=\"32.5\" y=\"285\"/><ellipse cx=\"47.5\" cy=\"303.9688\" fill=\"#FFA500\" rx=\"11\" ry=\"11\" style=\"stroke: #A80036; stroke-width: 1.0;\"/><path d=\"M43.375,305.8906 L43.375,298.0781 L45.8281,298.0781 L45.8281,306.5156 Q45.8281,307.4375 46.2969,307.9688 Q46.7813,308.5 47.6094,308.5 Q48.4531,308.5 48.9219,307.9688 Q49.3906,307.4375 49.3906,306.5156 L49.3906,298.0781 L51.8438,298.0781 L51.8438,305.8906 Q51.8438,308.4219 50.8438,309.5625 Q49.8438,310.7031 47.6094,310.7031 Q45.3906,310.7031 44.375,309.5625 Q43.375,308.4219 43.375,305.8906 Z \"/><text fill=\"#000000\" font-family=\"sans-serif\" font-size=\"12\" font-style=\"italic\" lengthAdjust=\"spacingAndGlyphs\" textLength=\"75\" x=\"59.5\" y=\"301.1387\">«reference»</text><text fill=\"#000000\" font-family=\"sans-serif\" font-size=\"12\" lengthAdjust=\"spacingAndGlyphs\" textLength=\"8\" x=\"93\" y=\"315.1074\">q</text><line style=\"stroke: #A80036; stroke-width: 1.5;\" x1=\"33.5\" x2=\"134.5\" y1=\"322.9375\" y2=\"322.9375\"/><text fill=\"#000000\" font-family=\"sans-serif\" font-size=\"11\" lengthAdjust=\"spacingAndGlyphs\" textLength=\"23\" x=\"38.5\" y=\"337.1479\">b: B</text><text fill=\"#000000\" font-family=\"sans-serif\" font-size=\"11\" font-style=\"italic\" lengthAdjust=\"spacingAndGlyphs\" textLength=\"44\" x=\"38.5\" y=\"349.9526\">:&gt;&gt;P::a</text></a><!--MD5=[96f4274e9e20536e775497830990834d]\n",
       "class E10--><a href=\"psysml:983a8093-9810-4637-96cc-9ee8fb3d9cf5\" target=\"_top\" title=\"psysml:983a8093-9810-4637-96cc-9ee8fb3d9cf5\" xlink:actuate=\"onRequest\" xlink:href=\"psysml:983a8093-9810-4637-96cc-9ee8fb3d9cf5\" xlink:show=\"new\" xlink:title=\"psysml:983a8093-9810-4637-96cc-9ee8fb3d9cf5\" xlink:type=\"simple\"><rect fill=\"#FEFECE\" filter=\"url(#flt1x46b8zxgp)\" height=\"45.9375\" id=\"E10\" rx=\"10\" ry=\"10\" style=\"stroke: #A80036; stroke-width: 1.5;\" width=\"68\" x=\"240\" y=\"155\"/><ellipse cx=\"255\" cy=\"173.9688\" fill=\"#32CD32\" rx=\"11\" ry=\"11\" style=\"stroke: #A80036; stroke-width: 1.0;\"/><path d=\"M254.7969,169.6406 L254.7969,173.2656 L255.7969,173.2656 Q257,173.2656 257.4844,172.8594 Q257.9688,172.4531 257.9688,171.4531 Q257.9688,170.4531 257.4844,170.0469 Q257,169.6406 255.7969,169.6406 L254.7969,169.6406 Z M252.3438,167.5781 L255.7031,167.5781 Q258.2656,167.5781 259.3906,168.5 Q260.5156,169.4063 260.5156,171.4531 Q260.5156,173.5 259.3906,174.4219 Q258.2656,175.3281 255.7031,175.3281 L254.7969,175.3281 L254.7969,179.9688 L252.3438,179.9688 L252.3438,167.5781 Z \"/><text fill=\"#000000\" font-family=\"sans-serif\" font-size=\"12\" font-style=\"italic\" lengthAdjust=\"spacingAndGlyphs\" textLength=\"40\" x=\"267\" y=\"171.1387\">«part»</text><text fill=\"#000000\" font-family=\"sans-serif\" font-size=\"12\" lengthAdjust=\"spacingAndGlyphs\" textLength=\"22\" x=\"276\" y=\"185.1074\">y: P</text><line style=\"stroke: #A80036; stroke-width: 1.5;\" x1=\"241\" x2=\"307\" y1=\"192.9375\" y2=\"192.9375\"/></a><!--MD5=[05d275557350bfb9b23a4ef7222b4c39]\n",
       "link E3 to E2--><a href=\"psysml:9e57242c-9184-4252-9565-bec20c63fdb8\" target=\"_top\" title=\"psysml:9e57242c-9184-4252-9565-bec20c63fdb8\" xlink:actuate=\"onRequest\" xlink:href=\"psysml:9e57242c-9184-4252-9565-bec20c63fdb8\" xlink:show=\"new\" xlink:title=\"psysml:9e57242c-9184-4252-9565-bec20c63fdb8\" xlink:type=\"simple\"><path d=\"M187.78,198.02 C191.66,217.55 197.84,248.68 202.99,274.61 \" fill=\"none\" id=\"E3-&gt;E2\" style=\"stroke: #A80036; stroke-width: 1.0;\"/><polygon fill=\"none\" points=\"209.88,273.39,206.91,294.37,196.15,276.12,209.88,273.39\" style=\"stroke: #A80036; stroke-width: 1.0;\"/></a><!--MD5=[15ebcb19ae302d9b601edb458606d402]\n",
       "link E5 to E2--><a href=\"psysml:5cdbdbe7-d14c-45c9-a804-61f18115238e\" target=\"_top\" title=\"psysml:5cdbdbe7-d14c-45c9-a804-61f18115238e\" xlink:actuate=\"onRequest\" xlink:href=\"psysml:5cdbdbe7-d14c-45c9-a804-61f18115238e\" xlink:show=\"new\" xlink:title=\"psysml:5cdbdbe7-d14c-45c9-a804-61f18115238e\" xlink:type=\"simple\"><path d=\"M342.95,197.72 C318.47,220.58 276.65,259.63 246.86,287.45 \" fill=\"none\" id=\"E5-&gt;E2\" style=\"stroke: #A80036; stroke-width: 1.0;\"/><polygon fill=\"none\" points=\"251.53,292.67,232.13,301.2,241.98,282.43,251.53,292.67\" style=\"stroke: #A80036; stroke-width: 1.0;\"/></a><!--MD5=[9120cf2e5df3bff93db8f754bbbc09b4]\n",
       "link E5 to E6--><a href=\"psysml:052c6ce9-d9db-4da6-90c4-ac16555550ac\" target=\"_top\" title=\"psysml:052c6ce9-d9db-4da6-90c4-ac16555550ac\" xlink:actuate=\"onRequest\" xlink:href=\"psysml:052c6ce9-d9db-4da6-90c4-ac16555550ac\" xlink:show=\"new\" xlink:title=\"psysml:052c6ce9-d9db-4da6-90c4-ac16555550ac\" xlink:type=\"simple\"><path d=\"M354.4,207.89 C348.64,227.2 340.95,253.01 334.41,274.99 \" fill=\"none\" id=\"E5-E6\" style=\"stroke: #A80036; stroke-width: 1.0;\"/><polygon fill=\"#A80036\" points=\"331.49,284.79,336.6502,277.9802,330.9001,276.2664,331.49,284.79\" style=\"stroke: #A80036; stroke-width: 1.0;\"/><path d=\"M348.3559,198.5542 A9,9 0 0 0 364.5656 203.3857\" fill=\"none\" style=\"stroke: #A80036; stroke-width: 1.5;\"/><text fill=\"#000000\" font-family=\"sans-serif\" font-size=\"13\" lengthAdjust=\"spacingAndGlyphs\" textLength=\"60\" x=\"345\" y=\"251.0669\">«variant»</text></a><!--MD5=[14ccda38c055a5c0da953d572bc50960]\n",
       "link E7 to E3--><a href=\"psysml:648145d1-1ec9-42fc-8307-fa8910350658\" target=\"_top\" title=\"psysml:648145d1-1ec9-42fc-8307-fa8910350658\" xlink:actuate=\"onRequest\" xlink:href=\"psysml:648145d1-1ec9-42fc-8307-fa8910350658\" xlink:show=\"new\" xlink:title=\"psysml:648145d1-1ec9-42fc-8307-fa8910350658\" xlink:type=\"simple\"><path d=\"M184,87.13 C184,101.57 184,120.83 184,137.81 \" fill=\"none\" id=\"E7-&gt;E3\" style=\"stroke: #A80036; stroke-width: 1.0;\"/><polygon fill=\"#FFFFFF\" points=\"184,157.9,177,138.9,191,138.9,184,157.9\" style=\"stroke: #A80036; stroke-width: 1.0;\"/><ellipse cx=\"179\" cy=\"133.2\" fill=\"#A80036\" rx=\"2\" ry=\"2\" style=\"stroke: #A80036; stroke-width: 1.0;\"/><ellipse cx=\"189\" cy=\"133.2\" fill=\"#A80036\" rx=\"2\" ry=\"2\" style=\"stroke: #A80036; stroke-width: 1.0;\"/></a><!--MD5=[f1f3f9f2fc535e6147756cb86a7f2e32]\n",
       "link E8 to E2--><a href=\"psysml:19cda0c9-2775-4d9d-8cd8-191c5ad52b34\" target=\"_top\" title=\"psysml:19cda0c9-2775-4d9d-8cd8-191c5ad52b34\" xlink:actuate=\"onRequest\" xlink:href=\"psysml:19cda0c9-2775-4d9d-8cd8-191c5ad52b34\" xlink:show=\"new\" xlink:title=\"psysml:19cda0c9-2775-4d9d-8cd8-191c5ad52b34\" xlink:type=\"simple\"><path d=\"M119.32,208.23 C130.4,217.24 142.11,227.55 152,238 C163.47,250.11 174.65,264.47 184.19,277.75 \" fill=\"none\" id=\"E8-&gt;E2\" style=\"stroke: #A80036; stroke-width: 1.0;\"/><polygon fill=\"#FFFFFF\" points=\"195.68,294.32,179.1086,282.6843,190.6186,274.7143,195.68,294.32\" style=\"stroke: #A80036; stroke-width: 1.0;\"/><ellipse cx=\"177.508\" cy=\"276.8595\" fill=\"#A80036\" rx=\"2\" ry=\"2\" style=\"stroke: #A80036; stroke-width: 1.0;\"/><ellipse cx=\"185.7294\" cy=\"271.1667\" fill=\"#A80036\" rx=\"2\" ry=\"2\" style=\"stroke: #A80036; stroke-width: 1.0;\"/></a><!--MD5=[ed10624c06dd9a4fa49ccf290e8b16a8]\n",
       "link E8 to E9--><a href=\"psysml:28d39c7a-e0c7-42b0-858e-2cb4e488f108\" target=\"_top\" title=\"psysml:28d39c7a-e0c7-42b0-858e-2cb4e488f108\" xlink:actuate=\"onRequest\" xlink:href=\"psysml:28d39c7a-e0c7-42b0-858e-2cb4e488f108\" xlink:show=\"new\" xlink:title=\"psysml:28d39c7a-e0c7-42b0-858e-2cb4e488f108\" xlink:type=\"simple\"><path d=\"M81.12,218.35 C81.61,235.87 82.2,256.61 82.72,274.77 \" fill=\"none\" id=\"E8-E9\" style=\"stroke: #A80036; stroke-width: 1.0;\"/><polygon fill=\"#A80036\" points=\"83,284.83,85.7703,276.7476,79.7727,276.9189,83,284.83\" style=\"stroke: #A80036; stroke-width: 1.0;\"/><path d=\"M72.4641,211.5385 A9,9 0 0 0 89.3717 211.0554\" fill=\"none\" style=\"stroke: #A80036; stroke-width: 1.5;\"/><text fill=\"#000000\" font-family=\"sans-serif\" font-size=\"13\" lengthAdjust=\"spacingAndGlyphs\" textLength=\"60\" x=\"83\" y=\"251.0669\">«variant»</text></a><!--MD5=[0f36bececdf0dff6e600d6f64214b0f1]\n",
       "link E10 to E2--><a href=\"psysml:8cfcd01d-a74f-43be-a680-d41b6ee6accc\" target=\"_top\" title=\"psysml:8cfcd01d-a74f-43be-a680-d41b6ee6accc\" xlink:actuate=\"onRequest\" xlink:href=\"psysml:8cfcd01d-a74f-43be-a680-d41b6ee6accc\" xlink:show=\"new\" xlink:title=\"psysml:8cfcd01d-a74f-43be-a680-d41b6ee6accc\" xlink:type=\"simple\"><path d=\"M264.31,201.03 C255.55,220.95 242.39,250.89 231.46,275.74 \" fill=\"none\" id=\"E10-&gt;E2\" style=\"stroke: #A80036; stroke-width: 1.0;\"/><polygon fill=\"#FFFFFF\" points=\"223.3,294.3,224.5306,274.089,237.3489,279.7183,223.3,294.3\" style=\"stroke: #A80036; stroke-width: 1.0;\"/><ellipse cx=\"228.6537\" cy=\"269.6742\" fill=\"#A80036\" rx=\"2\" ry=\"2\" style=\"stroke: #A80036; stroke-width: 1.0;\"/><ellipse cx=\"237.8097\" cy=\"273.6952\" fill=\"#A80036\" rx=\"2\" ry=\"2\" style=\"stroke: #A80036; stroke-width: 1.0;\"/></a><!--MD5=[ac5dd6cc245f4146fa69a29f0895703c]\n",
       "@startuml\r\n",
       " \r\n",
       "package \"VariabilityTest\" as E1  [[psysml:c9192910-aa77-45a9-9ae3-16f7deb9d13d ]]  {\r\n",
       "comp def \"P\" as E2  << (B,green) >> [[psysml:28b4b804-815b-4815-9c5e-e5b09d6ccef7 ]] {\r\n",
       "a\r\n",
       "}\r\n",
       "comp def \"Q\" as E3  << (B,green) >> [[psysml:3556ece0-f840-441c-8cd2-5d7027a1a805 ]] {\r\n",
       "}\r\n",
       "comp def \"B\" as E4  <<(D,brown)attribute def>> [[psysml:c1ea47d2-f15e-4f05-bf93-ec81669ca641 ]] {\r\n",
       "}\r\n",
       "comp def \"V\" as E5  << (B,green) >> [[psysml:735cd89a-e4b2-4dc5-b3d6-41534f400f39 ]] {\r\n",
       "}\r\n",
       "comp usage \"x: Q\" as E6  << (P,limegreen) part>> [[psysml:0400016e-70f0-4405-a71c-97e49bd60e65 ]] {\r\n",
       "b: B\\n//:>>P::a// \r\n",
       "}\r\n",
       "comp usage \"q: Q\" as E7  << (P,limegreen) part>> [[psysml:ac43cc4c-8177-486e-b5a5-e877f62f9bc5 ]] {\r\n",
       "}\r\n",
       "comp usage \"v: P\" as E8  <<variation>>\\n << (P,limegreen) part>> [[psysml:ce952eae-8bb1-4ad0-9f02-4c42d4c1d0c7 ]] {\r\n",
       "}\r\n",
       "comp usage \"q\" as E9  <<(U,orange)reference>> [[psysml:572dfe4e-6d7c-4ba8-94a3-d7ce0272bed9 ]] {\r\n",
       "b: B\\n//:>>P::a// \r\n",
       "}\r\n",
       "comp usage \"y: P\" as E10  << (P,limegreen) part>> [[psysml:983a8093-9810-4637-96cc-9ee8fb3d9cf5 ]] {\r\n",
       "}\r\n",
       "E3 - -|> E2 [[psysml:9e57242c-9184-4252-9565-bec20c63fdb8 ]] \r\n",
       "E5 - -|> E2 [[psysml:5cdbdbe7-d14c-45c9-a804-61f18115238e ]] \r\n",
       "E5 )- ->> E6 [[psysml:052c6ce9-d9db-4da6-90c4-ac16555550ac ]] : <<variant>>\r\n",
       "E7 - -:|> E3 [[psysml:648145d1-1ec9-42fc-8307-fa8910350658 ]] \r\n",
       "E8 - -:|> E2 [[psysml:19cda0c9-2775-4d9d-8cd8-191c5ad52b34 ]] \r\n",
       "E8 )- ->> E9 [[psysml:28d39c7a-e0c7-42b0-858e-2cb4e488f108 ]] : <<variant>>\r\n",
       "E10 - -:|> E2 [[psysml:8cfcd01d-a74f-43be-a680-d41b6ee6accc ]] \r\n",
       "}\r\n",
       "@enduml\r\n",
       "\n",
       "PlantUML version 1.2020.13(Sat Jun 13 12:26:38 UTC 2020)\n",
       "(EPL source distribution)\n",
       "Java Runtime: OpenJDK Runtime Environment\n",
       "JVM: OpenJDK 64-Bit Server VM\n",
       "Default Encoding: UTF-8\n",
       "Language: en\n",
       "Country: null\n",
       "--></g></svg>"
      ]
     },
     "execution_count": 35,
     "metadata": {},
     "output_type": "execute_result"
    }
   ],
   "source": [
    "%viz --style=\"PLANTUML\" --view=\"Sequence\" \"VariabilityTest\""
   ]
  },
  {
   "cell_type": "code",
   "execution_count": 36,
   "id": "06c19250",
   "metadata": {
    "execution": {
     "iopub.execute_input": "2021-05-28T10:47:57.194531Z",
     "iopub.status.busy": "2021-05-28T10:47:57.194111Z",
     "iopub.status.idle": "2021-05-28T10:47:57.244899Z",
     "shell.execute_reply": "2021-05-28T10:47:57.242952Z"
    }
   },
   "outputs": [
    {
     "data": {
      "image/svg+xml": [
       "<?xml version=\"1.0\" encoding=\"UTF-8\" standalone=\"no\"?><svg xmlns=\"http://www.w3.org/2000/svg\" xmlns:xlink=\"http://www.w3.org/1999/xlink\" contentScriptType=\"application/ecmascript\" contentStyleType=\"text/css\" height=\"385px\" preserveAspectRatio=\"none\" style=\"width:421px;height:385px;\" version=\"1.1\" viewBox=\"0 0 421 385\" width=\"421px\" zoomAndPan=\"magnify\"><defs><filter height=\"300%\" id=\"flt1x46b8zxgp\" width=\"300%\" x=\"-1\" y=\"-1\"><feGaussianBlur result=\"blurOut\" stdDeviation=\"2.0\"/><feColorMatrix in=\"blurOut\" result=\"blurOut2\" type=\"matrix\" values=\"0 0 0 0 0 0 0 0 0 0 0 0 0 0 0 0 0 0 .4 0\"/><feOffset dx=\"4.0\" dy=\"4.0\" in=\"blurOut2\" result=\"blurOut3\"/><feBlend in=\"SourceGraphic\" in2=\"blurOut3\" mode=\"normal\"/></filter></defs><g><!--MD5=[fbc87193dbaf4d95561dea2c320d4a47]\n",
       "cluster E1--><a href=\"psysml:c9192910-aa77-45a9-9ae3-16f7deb9d13d\" target=\"_top\" title=\"psysml:c9192910-aa77-45a9-9ae3-16f7deb9d13d\" xlink:actuate=\"onRequest\" xlink:href=\"psysml:c9192910-aa77-45a9-9ae3-16f7deb9d13d\" xlink:show=\"new\" xlink:title=\"psysml:c9192910-aa77-45a9-9ae3-16f7deb9d13d\" xlink:type=\"simple\"><polygon fill=\"#FFFFFF\" filter=\"url(#flt1x46b8zxgp)\" points=\"16,6,134,6,141,28.2969,399,28.2969,399,373,16,373,16,6\" style=\"stroke: #000000; stroke-width: 1.5;\"/><line style=\"stroke: #000000; stroke-width: 1.5;\" x1=\"16\" x2=\"141\" y1=\"28.2969\" y2=\"28.2969\"/><text fill=\"#000000\" font-family=\"sans-serif\" font-size=\"14\" font-weight=\"bold\" lengthAdjust=\"spacingAndGlyphs\" textLength=\"112\" x=\"20\" y=\"20.9951\">VariabilityTest</text></a><!--MD5=[b4997ac47864f28c2f74865a473b2911]\n",
       "class E2--><a href=\"psysml:28b4b804-815b-4815-9c5e-e5b09d6ccef7\" target=\"_top\" title=\"psysml:28b4b804-815b-4815-9c5e-e5b09d6ccef7\" xlink:actuate=\"onRequest\" xlink:href=\"psysml:28b4b804-815b-4815-9c5e-e5b09d6ccef7\" xlink:show=\"new\" xlink:title=\"psysml:28b4b804-815b-4815-9c5e-e5b09d6ccef7\" xlink:type=\"simple\"><rect fill=\"#FEFECE\" filter=\"url(#flt1x46b8zxgp)\" height=\"52.8047\" id=\"E2\" style=\"stroke: #A80036; stroke-width: 1.5;\" width=\"40\" x=\"192\" y=\"294.5\"/><ellipse cx=\"207\" cy=\"310.5\" fill=\"#008000\" rx=\"11\" ry=\"11\" style=\"stroke: #A80036; stroke-width: 1.0;\"/><path d=\"M205.9063,310.875 L205.9063,314.5469 L207.5313,314.5469 Q208.7031,314.5469 209.1719,314.1563 Q209.6406,313.75 209.6406,312.75 Q209.6406,311.75 209.1406,311.3125 Q208.6563,310.875 207.5313,310.875 L205.9063,310.875 Z M205.9063,306.0469 L205.9063,308.9219 L207.5313,308.9219 Q208.4531,308.9219 208.8438,308.5938 Q209.25,308.25 209.25,307.5 Q209.25,306.7344 208.8438,306.3906 Q208.4375,306.0469 207.5313,306.0469 L205.9063,306.0469 Z M203.5313,304.0938 L207.5313,304.0938 Q209.5938,304.0938 210.6406,304.875 Q211.6875,305.6563 211.6875,307.2188 Q211.6875,308.4219 211.0625,309.0938 Q210.4531,309.7656 209.2656,309.875 Q210.6875,310.0156 211.4063,310.8281 Q212.125,311.6406 212.125,313.0938 Q212.125,314.8906 211.0469,315.7031 Q209.9688,316.5 207.5313,316.5 L203.5313,316.5 L203.5313,304.0938 Z \"/><text fill=\"#000000\" font-family=\"sans-serif\" font-size=\"12\" lengthAdjust=\"spacingAndGlyphs\" textLength=\"8\" x=\"221\" y=\"314.6543\">P</text><line style=\"stroke: #A80036; stroke-width: 1.5;\" x1=\"193\" x2=\"231\" y1=\"326.5\" y2=\"326.5\"/><text fill=\"#000000\" font-family=\"sans-serif\" font-size=\"11\" lengthAdjust=\"spacingAndGlyphs\" textLength=\"7\" x=\"198\" y=\"340.7104\">a</text></a><!--MD5=[09b614a08d8cba4a07c9adeb5e0fee81]\n",
       "class E3--><a href=\"psysml:3556ece0-f840-441c-8cd2-5d7027a1a805\" target=\"_top\" title=\"psysml:3556ece0-f840-441c-8cd2-5d7027a1a805\" xlink:actuate=\"onRequest\" xlink:href=\"psysml:3556ece0-f840-441c-8cd2-5d7027a1a805\" xlink:show=\"new\" xlink:title=\"psysml:3556ece0-f840-441c-8cd2-5d7027a1a805\" xlink:type=\"simple\"><rect fill=\"#FEFECE\" filter=\"url(#flt1x46b8zxgp)\" height=\"40\" id=\"E3\" style=\"stroke: #A80036; stroke-width: 1.5;\" width=\"41\" x=\"163.5\" y=\"158\"/><ellipse cx=\"178.5\" cy=\"174\" fill=\"#008000\" rx=\"11\" ry=\"11\" style=\"stroke: #A80036; stroke-width: 1.0;\"/><path d=\"M177.4063,174.375 L177.4063,178.0469 L179.0313,178.0469 Q180.2031,178.0469 180.6719,177.6563 Q181.1406,177.25 181.1406,176.25 Q181.1406,175.25 180.6406,174.8125 Q180.1563,174.375 179.0313,174.375 L177.4063,174.375 Z M177.4063,169.5469 L177.4063,172.4219 L179.0313,172.4219 Q179.9531,172.4219 180.3438,172.0938 Q180.75,171.75 180.75,171 Q180.75,170.2344 180.3438,169.8906 Q179.9375,169.5469 179.0313,169.5469 L177.4063,169.5469 Z M175.0313,167.5938 L179.0313,167.5938 Q181.0938,167.5938 182.1406,168.375 Q183.1875,169.1563 183.1875,170.7188 Q183.1875,171.9219 182.5625,172.5938 Q181.9531,173.2656 180.7656,173.375 Q182.1875,173.5156 182.9063,174.3281 Q183.625,175.1406 183.625,176.5938 Q183.625,178.3906 182.5469,179.2031 Q181.4688,180 179.0313,180 L175.0313,180 L175.0313,167.5938 Z \"/><text fill=\"#000000\" font-family=\"sans-serif\" font-size=\"12\" lengthAdjust=\"spacingAndGlyphs\" textLength=\"9\" x=\"192.5\" y=\"178.1543\">Q</text><line style=\"stroke: #A80036; stroke-width: 1.5;\" x1=\"164.5\" x2=\"203.5\" y1=\"190\" y2=\"190\"/></a><!--MD5=[ebbe1d658d1005bcc118a6aa81145e00]\n",
       "class E4--><a href=\"psysml:c1ea47d2-f15e-4f05-bf93-ec81669ca641\" target=\"_top\" title=\"psysml:c1ea47d2-f15e-4f05-bf93-ec81669ca641\" xlink:actuate=\"onRequest\" xlink:href=\"psysml:c1ea47d2-f15e-4f05-bf93-ec81669ca641\" xlink:show=\"new\" xlink:title=\"psysml:c1ea47d2-f15e-4f05-bf93-ec81669ca641\" xlink:type=\"simple\"><rect fill=\"#FEFECE\" filter=\"url(#flt1x46b8zxgp)\" height=\"45.9375\" id=\"E4\" style=\"stroke: #A80036; stroke-width: 1.5;\" width=\"121\" x=\"257.5\" y=\"41\"/><ellipse cx=\"272.5\" cy=\"59.9688\" fill=\"#A52A2A\" rx=\"11\" ry=\"11\" style=\"stroke: #A80036; stroke-width: 1.0;\"/><path d=\"M272.0938,55.7813 L272.0938,63.7656 L272.75,63.7656 Q274.1875,63.7656 274.7969,62.8594 Q275.4219,61.9375 275.4219,59.7656 Q275.4219,57.5938 274.7969,56.6875 Q274.1875,55.7813 272.75,55.7813 L272.0938,55.7813 Z M269.6406,53.5781 L272.2656,53.5781 Q275.2969,53.5781 276.625,55.0313 Q277.9688,56.4688 277.9688,59.7656 Q277.9688,63.0625 276.625,64.5156 Q275.2969,65.9688 272.2656,65.9688 L269.6406,65.9688 L269.6406,53.5781 Z \"/><text fill=\"#000000\" font-family=\"sans-serif\" font-size=\"12\" font-style=\"italic\" lengthAdjust=\"spacingAndGlyphs\" textLength=\"93\" x=\"284.5\" y=\"57.1387\">«attribute def»</text><text fill=\"#000000\" font-family=\"sans-serif\" font-size=\"12\" lengthAdjust=\"spacingAndGlyphs\" textLength=\"8\" x=\"327\" y=\"71.1074\">B</text><line style=\"stroke: #A80036; stroke-width: 1.5;\" x1=\"258.5\" x2=\"377.5\" y1=\"78.9375\" y2=\"78.9375\"/></a><!--MD5=[270fce915f116d4de14055a7c1d9a0f3]\n",
       "class E5--><a href=\"psysml:735cd89a-e4b2-4dc5-b3d6-41534f400f39\" target=\"_top\" title=\"psysml:735cd89a-e4b2-4dc5-b3d6-41534f400f39\" xlink:actuate=\"onRequest\" xlink:href=\"psysml:735cd89a-e4b2-4dc5-b3d6-41534f400f39\" xlink:show=\"new\" xlink:title=\"psysml:735cd89a-e4b2-4dc5-b3d6-41534f400f39\" xlink:type=\"simple\"><rect fill=\"#FEFECE\" filter=\"url(#flt1x46b8zxgp)\" height=\"40\" id=\"E5\" style=\"stroke: #A80036; stroke-width: 1.5;\" width=\"40\" x=\"343\" y=\"158\"/><ellipse cx=\"358\" cy=\"174\" fill=\"#008000\" rx=\"11\" ry=\"11\" style=\"stroke: #A80036; stroke-width: 1.0;\"/><path d=\"M356.9063,174.375 L356.9063,178.0469 L358.5313,178.0469 Q359.7031,178.0469 360.1719,177.6563 Q360.6406,177.25 360.6406,176.25 Q360.6406,175.25 360.1406,174.8125 Q359.6563,174.375 358.5313,174.375 L356.9063,174.375 Z M356.9063,169.5469 L356.9063,172.4219 L358.5313,172.4219 Q359.4531,172.4219 359.8438,172.0938 Q360.25,171.75 360.25,171 Q360.25,170.2344 359.8438,169.8906 Q359.4375,169.5469 358.5313,169.5469 L356.9063,169.5469 Z M354.5313,167.5938 L358.5313,167.5938 Q360.5938,167.5938 361.6406,168.375 Q362.6875,169.1563 362.6875,170.7188 Q362.6875,171.9219 362.0625,172.5938 Q361.4531,173.2656 360.2656,173.375 Q361.6875,173.5156 362.4063,174.3281 Q363.125,175.1406 363.125,176.5938 Q363.125,178.3906 362.0469,179.2031 Q360.9688,180 358.5313,180 L354.5313,180 L354.5313,167.5938 Z \"/><text fill=\"#000000\" font-family=\"sans-serif\" font-size=\"12\" lengthAdjust=\"spacingAndGlyphs\" textLength=\"8\" x=\"372\" y=\"178.1543\">V</text><line style=\"stroke: #A80036; stroke-width: 1.5;\" x1=\"344\" x2=\"382\" y1=\"190\" y2=\"190\"/></a><!--MD5=[60a26617385b1d2d0262a64233df1f8d]\n",
       "class E6--><a href=\"psysml:0400016e-70f0-4405-a71c-97e49bd60e65\" target=\"_top\" title=\"psysml:0400016e-70f0-4405-a71c-97e49bd60e65\" xlink:actuate=\"onRequest\" xlink:href=\"psysml:0400016e-70f0-4405-a71c-97e49bd60e65\" xlink:show=\"new\" xlink:title=\"psysml:0400016e-70f0-4405-a71c-97e49bd60e65\" xlink:type=\"simple\"><rect fill=\"#FEFECE\" filter=\"url(#flt1x46b8zxgp)\" height=\"71.5469\" id=\"E6\" rx=\"10\" ry=\"10\" style=\"stroke: #A80036; stroke-width: 1.5;\" width=\"68\" x=\"287\" y=\"285\"/><ellipse cx=\"302\" cy=\"303.9688\" fill=\"#32CD32\" rx=\"11\" ry=\"11\" style=\"stroke: #A80036; stroke-width: 1.0;\"/><path d=\"M301.7969,299.6406 L301.7969,303.2656 L302.7969,303.2656 Q304,303.2656 304.4844,302.8594 Q304.9688,302.4531 304.9688,301.4531 Q304.9688,300.4531 304.4844,300.0469 Q304,299.6406 302.7969,299.6406 L301.7969,299.6406 Z M299.3438,297.5781 L302.7031,297.5781 Q305.2656,297.5781 306.3906,298.5 Q307.5156,299.4063 307.5156,301.4531 Q307.5156,303.5 306.3906,304.4219 Q305.2656,305.3281 302.7031,305.3281 L301.7969,305.3281 L301.7969,309.9688 L299.3438,309.9688 L299.3438,297.5781 Z \"/><text fill=\"#000000\" font-family=\"sans-serif\" font-size=\"12\" font-style=\"italic\" lengthAdjust=\"spacingAndGlyphs\" textLength=\"40\" x=\"314\" y=\"301.1387\">«part»</text><text fill=\"#000000\" font-family=\"sans-serif\" font-size=\"12\" lengthAdjust=\"spacingAndGlyphs\" textLength=\"23\" x=\"322.5\" y=\"315.1074\">x: Q</text><line style=\"stroke: #A80036; stroke-width: 1.5;\" x1=\"288\" x2=\"354\" y1=\"322.9375\" y2=\"322.9375\"/><text fill=\"#000000\" font-family=\"sans-serif\" font-size=\"11\" lengthAdjust=\"spacingAndGlyphs\" textLength=\"23\" x=\"293\" y=\"337.1479\">b: B</text><text fill=\"#000000\" font-family=\"sans-serif\" font-size=\"11\" font-style=\"italic\" lengthAdjust=\"spacingAndGlyphs\" textLength=\"44\" x=\"293\" y=\"349.9526\">:&gt;&gt;P::a</text></a><!--MD5=[2156ba9850f5573cc1fc38a6a4b2f02b]\n",
       "class E7--><a href=\"psysml:ac43cc4c-8177-486e-b5a5-e877f62f9bc5\" target=\"_top\" title=\"psysml:ac43cc4c-8177-486e-b5a5-e877f62f9bc5\" xlink:actuate=\"onRequest\" xlink:href=\"psysml:ac43cc4c-8177-486e-b5a5-e877f62f9bc5\" xlink:show=\"new\" xlink:title=\"psysml:ac43cc4c-8177-486e-b5a5-e877f62f9bc5\" xlink:type=\"simple\"><rect fill=\"#FEFECE\" filter=\"url(#flt1x46b8zxgp)\" height=\"45.9375\" id=\"E7\" rx=\"10\" ry=\"10\" style=\"stroke: #A80036; stroke-width: 1.5;\" width=\"68\" x=\"150\" y=\"41\"/><ellipse cx=\"165\" cy=\"59.9688\" fill=\"#32CD32\" rx=\"11\" ry=\"11\" style=\"stroke: #A80036; stroke-width: 1.0;\"/><path d=\"M164.7969,55.6406 L164.7969,59.2656 L165.7969,59.2656 Q167,59.2656 167.4844,58.8594 Q167.9688,58.4531 167.9688,57.4531 Q167.9688,56.4531 167.4844,56.0469 Q167,55.6406 165.7969,55.6406 L164.7969,55.6406 Z M162.3438,53.5781 L165.7031,53.5781 Q168.2656,53.5781 169.3906,54.5 Q170.5156,55.4063 170.5156,57.4531 Q170.5156,59.5 169.3906,60.4219 Q168.2656,61.3281 165.7031,61.3281 L164.7969,61.3281 L164.7969,65.9688 L162.3438,65.9688 L162.3438,53.5781 Z \"/><text fill=\"#000000\" font-family=\"sans-serif\" font-size=\"12\" font-style=\"italic\" lengthAdjust=\"spacingAndGlyphs\" textLength=\"40\" x=\"177\" y=\"57.1387\">«part»</text><text fill=\"#000000\" font-family=\"sans-serif\" font-size=\"12\" lengthAdjust=\"spacingAndGlyphs\" textLength=\"25\" x=\"184.5\" y=\"71.1074\">q: Q</text><line style=\"stroke: #A80036; stroke-width: 1.5;\" x1=\"151\" x2=\"217\" y1=\"78.9375\" y2=\"78.9375\"/></a><!--MD5=[b9389687b975829384b498ac4b7476b2]\n",
       "class E8--><a href=\"psysml:ce952eae-8bb1-4ad0-9f02-4c42d4c1d0c7\" target=\"_top\" title=\"psysml:ce952eae-8bb1-4ad0-9f02-4c42d4c1d0c7\" xlink:actuate=\"onRequest\" xlink:href=\"psysml:ce952eae-8bb1-4ad0-9f02-4c42d4c1d0c7\" xlink:show=\"new\" xlink:title=\"psysml:ce952eae-8bb1-4ad0-9f02-4c42d4c1d0c7\" xlink:type=\"simple\"><rect fill=\"#FEFECE\" filter=\"url(#flt1x46b8zxgp)\" height=\"59.9063\" id=\"E8\" rx=\"10\" ry=\"10\" style=\"stroke: #A80036; stroke-width: 1.5;\" width=\"96\" x=\"32\" y=\"148\"/><ellipse cx=\"47\" cy=\"173.9531\" fill=\"#32CD32\" rx=\"11\" ry=\"11\" style=\"stroke: #A80036; stroke-width: 1.0;\"/><path d=\"M46.7969,169.625 L46.7969,173.25 L47.7969,173.25 Q49,173.25 49.4844,172.8438 Q49.9688,172.4375 49.9688,171.4375 Q49.9688,170.4375 49.4844,170.0313 Q49,169.625 47.7969,169.625 L46.7969,169.625 Z M44.3438,167.5625 L47.7031,167.5625 Q50.2656,167.5625 51.3906,168.4844 Q52.5156,169.3906 52.5156,171.4375 Q52.5156,173.4844 51.3906,174.4063 Q50.2656,175.3125 47.7031,175.3125 L46.7969,175.3125 L46.7969,179.9531 L44.3438,179.9531 L44.3438,167.5625 Z \"/><text fill=\"#000000\" font-family=\"sans-serif\" font-size=\"12\" font-style=\"italic\" lengthAdjust=\"spacingAndGlyphs\" textLength=\"68\" x=\"59\" y=\"164.1387\">«variation»</text><text fill=\"#000000\" font-family=\"sans-serif\" font-size=\"12\" font-style=\"italic\" lengthAdjust=\"spacingAndGlyphs\" textLength=\"40\" x=\"73\" y=\"178.1074\">«part»</text><text fill=\"#000000\" font-family=\"sans-serif\" font-size=\"12\" lengthAdjust=\"spacingAndGlyphs\" textLength=\"22\" x=\"82\" y=\"192.0762\">v: P</text><line style=\"stroke: #A80036; stroke-width: 1.5;\" x1=\"33\" x2=\"127\" y1=\"199.9063\" y2=\"199.9063\"/></a><!--MD5=[fd4143e9d270a159db93a4ea2a975926]\n",
       "class E9--><a href=\"psysml:572dfe4e-6d7c-4ba8-94a3-d7ce0272bed9\" target=\"_top\" title=\"psysml:572dfe4e-6d7c-4ba8-94a3-d7ce0272bed9\" xlink:actuate=\"onRequest\" xlink:href=\"psysml:572dfe4e-6d7c-4ba8-94a3-d7ce0272bed9\" xlink:show=\"new\" xlink:title=\"psysml:572dfe4e-6d7c-4ba8-94a3-d7ce0272bed9\" xlink:type=\"simple\"><rect fill=\"#FEFECE\" filter=\"url(#flt1x46b8zxgp)\" height=\"71.5469\" id=\"E9\" rx=\"10\" ry=\"10\" style=\"stroke: #A80036; stroke-width: 1.5;\" width=\"103\" x=\"32.5\" y=\"285\"/><ellipse cx=\"47.5\" cy=\"303.9688\" fill=\"#FFA500\" rx=\"11\" ry=\"11\" style=\"stroke: #A80036; stroke-width: 1.0;\"/><path d=\"M43.375,305.8906 L43.375,298.0781 L45.8281,298.0781 L45.8281,306.5156 Q45.8281,307.4375 46.2969,307.9688 Q46.7813,308.5 47.6094,308.5 Q48.4531,308.5 48.9219,307.9688 Q49.3906,307.4375 49.3906,306.5156 L49.3906,298.0781 L51.8438,298.0781 L51.8438,305.8906 Q51.8438,308.4219 50.8438,309.5625 Q49.8438,310.7031 47.6094,310.7031 Q45.3906,310.7031 44.375,309.5625 Q43.375,308.4219 43.375,305.8906 Z \"/><text fill=\"#000000\" font-family=\"sans-serif\" font-size=\"12\" font-style=\"italic\" lengthAdjust=\"spacingAndGlyphs\" textLength=\"75\" x=\"59.5\" y=\"301.1387\">«reference»</text><text fill=\"#000000\" font-family=\"sans-serif\" font-size=\"12\" lengthAdjust=\"spacingAndGlyphs\" textLength=\"8\" x=\"93\" y=\"315.1074\">q</text><line style=\"stroke: #A80036; stroke-width: 1.5;\" x1=\"33.5\" x2=\"134.5\" y1=\"322.9375\" y2=\"322.9375\"/><text fill=\"#000000\" font-family=\"sans-serif\" font-size=\"11\" lengthAdjust=\"spacingAndGlyphs\" textLength=\"23\" x=\"38.5\" y=\"337.1479\">b: B</text><text fill=\"#000000\" font-family=\"sans-serif\" font-size=\"11\" font-style=\"italic\" lengthAdjust=\"spacingAndGlyphs\" textLength=\"44\" x=\"38.5\" y=\"349.9526\">:&gt;&gt;P::a</text></a><!--MD5=[96f4274e9e20536e775497830990834d]\n",
       "class E10--><a href=\"psysml:983a8093-9810-4637-96cc-9ee8fb3d9cf5\" target=\"_top\" title=\"psysml:983a8093-9810-4637-96cc-9ee8fb3d9cf5\" xlink:actuate=\"onRequest\" xlink:href=\"psysml:983a8093-9810-4637-96cc-9ee8fb3d9cf5\" xlink:show=\"new\" xlink:title=\"psysml:983a8093-9810-4637-96cc-9ee8fb3d9cf5\" xlink:type=\"simple\"><rect fill=\"#FEFECE\" filter=\"url(#flt1x46b8zxgp)\" height=\"45.9375\" id=\"E10\" rx=\"10\" ry=\"10\" style=\"stroke: #A80036; stroke-width: 1.5;\" width=\"68\" x=\"240\" y=\"155\"/><ellipse cx=\"255\" cy=\"173.9688\" fill=\"#32CD32\" rx=\"11\" ry=\"11\" style=\"stroke: #A80036; stroke-width: 1.0;\"/><path d=\"M254.7969,169.6406 L254.7969,173.2656 L255.7969,173.2656 Q257,173.2656 257.4844,172.8594 Q257.9688,172.4531 257.9688,171.4531 Q257.9688,170.4531 257.4844,170.0469 Q257,169.6406 255.7969,169.6406 L254.7969,169.6406 Z M252.3438,167.5781 L255.7031,167.5781 Q258.2656,167.5781 259.3906,168.5 Q260.5156,169.4063 260.5156,171.4531 Q260.5156,173.5 259.3906,174.4219 Q258.2656,175.3281 255.7031,175.3281 L254.7969,175.3281 L254.7969,179.9688 L252.3438,179.9688 L252.3438,167.5781 Z \"/><text fill=\"#000000\" font-family=\"sans-serif\" font-size=\"12\" font-style=\"italic\" lengthAdjust=\"spacingAndGlyphs\" textLength=\"40\" x=\"267\" y=\"171.1387\">«part»</text><text fill=\"#000000\" font-family=\"sans-serif\" font-size=\"12\" lengthAdjust=\"spacingAndGlyphs\" textLength=\"22\" x=\"276\" y=\"185.1074\">y: P</text><line style=\"stroke: #A80036; stroke-width: 1.5;\" x1=\"241\" x2=\"307\" y1=\"192.9375\" y2=\"192.9375\"/></a><!--MD5=[05d275557350bfb9b23a4ef7222b4c39]\n",
       "link E3 to E2--><a href=\"psysml:9e57242c-9184-4252-9565-bec20c63fdb8\" target=\"_top\" title=\"psysml:9e57242c-9184-4252-9565-bec20c63fdb8\" xlink:actuate=\"onRequest\" xlink:href=\"psysml:9e57242c-9184-4252-9565-bec20c63fdb8\" xlink:show=\"new\" xlink:title=\"psysml:9e57242c-9184-4252-9565-bec20c63fdb8\" xlink:type=\"simple\"><path d=\"M187.78,198.02 C191.66,217.55 197.84,248.68 202.99,274.61 \" fill=\"none\" id=\"E3-&gt;E2\" style=\"stroke: #A80036; stroke-width: 1.0;\"/><polygon fill=\"none\" points=\"209.88,273.39,206.91,294.37,196.15,276.12,209.88,273.39\" style=\"stroke: #A80036; stroke-width: 1.0;\"/></a><!--MD5=[15ebcb19ae302d9b601edb458606d402]\n",
       "link E5 to E2--><a href=\"psysml:5cdbdbe7-d14c-45c9-a804-61f18115238e\" target=\"_top\" title=\"psysml:5cdbdbe7-d14c-45c9-a804-61f18115238e\" xlink:actuate=\"onRequest\" xlink:href=\"psysml:5cdbdbe7-d14c-45c9-a804-61f18115238e\" xlink:show=\"new\" xlink:title=\"psysml:5cdbdbe7-d14c-45c9-a804-61f18115238e\" xlink:type=\"simple\"><path d=\"M342.95,197.72 C318.47,220.58 276.65,259.63 246.86,287.45 \" fill=\"none\" id=\"E5-&gt;E2\" style=\"stroke: #A80036; stroke-width: 1.0;\"/><polygon fill=\"none\" points=\"251.53,292.67,232.13,301.2,241.98,282.43,251.53,292.67\" style=\"stroke: #A80036; stroke-width: 1.0;\"/></a><!--MD5=[9120cf2e5df3bff93db8f754bbbc09b4]\n",
       "link E5 to E6--><a href=\"psysml:052c6ce9-d9db-4da6-90c4-ac16555550ac\" target=\"_top\" title=\"psysml:052c6ce9-d9db-4da6-90c4-ac16555550ac\" xlink:actuate=\"onRequest\" xlink:href=\"psysml:052c6ce9-d9db-4da6-90c4-ac16555550ac\" xlink:show=\"new\" xlink:title=\"psysml:052c6ce9-d9db-4da6-90c4-ac16555550ac\" xlink:type=\"simple\"><path d=\"M354.4,207.89 C348.64,227.2 340.95,253.01 334.41,274.99 \" fill=\"none\" id=\"E5-E6\" style=\"stroke: #A80036; stroke-width: 1.0;\"/><polygon fill=\"#A80036\" points=\"331.49,284.79,336.6502,277.9802,330.9001,276.2664,331.49,284.79\" style=\"stroke: #A80036; stroke-width: 1.0;\"/><path d=\"M348.3559,198.5542 A9,9 0 0 0 364.5656 203.3857\" fill=\"none\" style=\"stroke: #A80036; stroke-width: 1.5;\"/><text fill=\"#000000\" font-family=\"sans-serif\" font-size=\"13\" lengthAdjust=\"spacingAndGlyphs\" textLength=\"60\" x=\"345\" y=\"251.0669\">«variant»</text></a><!--MD5=[14ccda38c055a5c0da953d572bc50960]\n",
       "link E7 to E3--><a href=\"psysml:648145d1-1ec9-42fc-8307-fa8910350658\" target=\"_top\" title=\"psysml:648145d1-1ec9-42fc-8307-fa8910350658\" xlink:actuate=\"onRequest\" xlink:href=\"psysml:648145d1-1ec9-42fc-8307-fa8910350658\" xlink:show=\"new\" xlink:title=\"psysml:648145d1-1ec9-42fc-8307-fa8910350658\" xlink:type=\"simple\"><path d=\"M184,87.13 C184,101.57 184,120.83 184,137.81 \" fill=\"none\" id=\"E7-&gt;E3\" style=\"stroke: #A80036; stroke-width: 1.0;\"/><polygon fill=\"#FFFFFF\" points=\"184,157.9,177,138.9,191,138.9,184,157.9\" style=\"stroke: #A80036; stroke-width: 1.0;\"/><ellipse cx=\"179\" cy=\"133.2\" fill=\"#A80036\" rx=\"2\" ry=\"2\" style=\"stroke: #A80036; stroke-width: 1.0;\"/><ellipse cx=\"189\" cy=\"133.2\" fill=\"#A80036\" rx=\"2\" ry=\"2\" style=\"stroke: #A80036; stroke-width: 1.0;\"/></a><!--MD5=[f1f3f9f2fc535e6147756cb86a7f2e32]\n",
       "link E8 to E2--><a href=\"psysml:19cda0c9-2775-4d9d-8cd8-191c5ad52b34\" target=\"_top\" title=\"psysml:19cda0c9-2775-4d9d-8cd8-191c5ad52b34\" xlink:actuate=\"onRequest\" xlink:href=\"psysml:19cda0c9-2775-4d9d-8cd8-191c5ad52b34\" xlink:show=\"new\" xlink:title=\"psysml:19cda0c9-2775-4d9d-8cd8-191c5ad52b34\" xlink:type=\"simple\"><path d=\"M119.32,208.23 C130.4,217.24 142.11,227.55 152,238 C163.47,250.11 174.65,264.47 184.19,277.75 \" fill=\"none\" id=\"E8-&gt;E2\" style=\"stroke: #A80036; stroke-width: 1.0;\"/><polygon fill=\"#FFFFFF\" points=\"195.68,294.32,179.1086,282.6843,190.6186,274.7143,195.68,294.32\" style=\"stroke: #A80036; stroke-width: 1.0;\"/><ellipse cx=\"177.508\" cy=\"276.8595\" fill=\"#A80036\" rx=\"2\" ry=\"2\" style=\"stroke: #A80036; stroke-width: 1.0;\"/><ellipse cx=\"185.7294\" cy=\"271.1667\" fill=\"#A80036\" rx=\"2\" ry=\"2\" style=\"stroke: #A80036; stroke-width: 1.0;\"/></a><!--MD5=[ed10624c06dd9a4fa49ccf290e8b16a8]\n",
       "link E8 to E9--><a href=\"psysml:28d39c7a-e0c7-42b0-858e-2cb4e488f108\" target=\"_top\" title=\"psysml:28d39c7a-e0c7-42b0-858e-2cb4e488f108\" xlink:actuate=\"onRequest\" xlink:href=\"psysml:28d39c7a-e0c7-42b0-858e-2cb4e488f108\" xlink:show=\"new\" xlink:title=\"psysml:28d39c7a-e0c7-42b0-858e-2cb4e488f108\" xlink:type=\"simple\"><path d=\"M81.12,218.35 C81.61,235.87 82.2,256.61 82.72,274.77 \" fill=\"none\" id=\"E8-E9\" style=\"stroke: #A80036; stroke-width: 1.0;\"/><polygon fill=\"#A80036\" points=\"83,284.83,85.7703,276.7476,79.7727,276.9189,83,284.83\" style=\"stroke: #A80036; stroke-width: 1.0;\"/><path d=\"M72.4641,211.5385 A9,9 0 0 0 89.3717 211.0554\" fill=\"none\" style=\"stroke: #A80036; stroke-width: 1.5;\"/><text fill=\"#000000\" font-family=\"sans-serif\" font-size=\"13\" lengthAdjust=\"spacingAndGlyphs\" textLength=\"60\" x=\"83\" y=\"251.0669\">«variant»</text></a><!--MD5=[0f36bececdf0dff6e600d6f64214b0f1]\n",
       "link E10 to E2--><a href=\"psysml:8cfcd01d-a74f-43be-a680-d41b6ee6accc\" target=\"_top\" title=\"psysml:8cfcd01d-a74f-43be-a680-d41b6ee6accc\" xlink:actuate=\"onRequest\" xlink:href=\"psysml:8cfcd01d-a74f-43be-a680-d41b6ee6accc\" xlink:show=\"new\" xlink:title=\"psysml:8cfcd01d-a74f-43be-a680-d41b6ee6accc\" xlink:type=\"simple\"><path d=\"M264.31,201.03 C255.55,220.95 242.39,250.89 231.46,275.74 \" fill=\"none\" id=\"E10-&gt;E2\" style=\"stroke: #A80036; stroke-width: 1.0;\"/><polygon fill=\"#FFFFFF\" points=\"223.3,294.3,224.5306,274.089,237.3489,279.7183,223.3,294.3\" style=\"stroke: #A80036; stroke-width: 1.0;\"/><ellipse cx=\"228.6537\" cy=\"269.6742\" fill=\"#A80036\" rx=\"2\" ry=\"2\" style=\"stroke: #A80036; stroke-width: 1.0;\"/><ellipse cx=\"237.8097\" cy=\"273.6952\" fill=\"#A80036\" rx=\"2\" ry=\"2\" style=\"stroke: #A80036; stroke-width: 1.0;\"/></a><!--MD5=[ac5dd6cc245f4146fa69a29f0895703c]\n",
       "@startuml\r\n",
       " \r\n",
       "package \"VariabilityTest\" as E1  [[psysml:c9192910-aa77-45a9-9ae3-16f7deb9d13d ]]  {\r\n",
       "comp def \"P\" as E2  << (B,green) >> [[psysml:28b4b804-815b-4815-9c5e-e5b09d6ccef7 ]] {\r\n",
       "a\r\n",
       "}\r\n",
       "comp def \"Q\" as E3  << (B,green) >> [[psysml:3556ece0-f840-441c-8cd2-5d7027a1a805 ]] {\r\n",
       "}\r\n",
       "comp def \"B\" as E4  <<(D,brown)attribute def>> [[psysml:c1ea47d2-f15e-4f05-bf93-ec81669ca641 ]] {\r\n",
       "}\r\n",
       "comp def \"V\" as E5  << (B,green) >> [[psysml:735cd89a-e4b2-4dc5-b3d6-41534f400f39 ]] {\r\n",
       "}\r\n",
       "comp usage \"x: Q\" as E6  << (P,limegreen) part>> [[psysml:0400016e-70f0-4405-a71c-97e49bd60e65 ]] {\r\n",
       "b: B\\n//:>>P::a// \r\n",
       "}\r\n",
       "comp usage \"q: Q\" as E7  << (P,limegreen) part>> [[psysml:ac43cc4c-8177-486e-b5a5-e877f62f9bc5 ]] {\r\n",
       "}\r\n",
       "comp usage \"v: P\" as E8  <<variation>>\\n << (P,limegreen) part>> [[psysml:ce952eae-8bb1-4ad0-9f02-4c42d4c1d0c7 ]] {\r\n",
       "}\r\n",
       "comp usage \"q\" as E9  <<(U,orange)reference>> [[psysml:572dfe4e-6d7c-4ba8-94a3-d7ce0272bed9 ]] {\r\n",
       "b: B\\n//:>>P::a// \r\n",
       "}\r\n",
       "comp usage \"y: P\" as E10  << (P,limegreen) part>> [[psysml:983a8093-9810-4637-96cc-9ee8fb3d9cf5 ]] {\r\n",
       "}\r\n",
       "E3 - -|> E2 [[psysml:9e57242c-9184-4252-9565-bec20c63fdb8 ]] \r\n",
       "E5 - -|> E2 [[psysml:5cdbdbe7-d14c-45c9-a804-61f18115238e ]] \r\n",
       "E5 )- ->> E6 [[psysml:052c6ce9-d9db-4da6-90c4-ac16555550ac ]] : <<variant>>\r\n",
       "E7 - -:|> E3 [[psysml:648145d1-1ec9-42fc-8307-fa8910350658 ]] \r\n",
       "E8 - -:|> E2 [[psysml:19cda0c9-2775-4d9d-8cd8-191c5ad52b34 ]] \r\n",
       "E8 )- ->> E9 [[psysml:28d39c7a-e0c7-42b0-858e-2cb4e488f108 ]] : <<variant>>\r\n",
       "E10 - -:|> E2 [[psysml:8cfcd01d-a74f-43be-a680-d41b6ee6accc ]] \r\n",
       "}\r\n",
       "@enduml\r\n",
       "\n",
       "PlantUML version 1.2020.13(Sat Jun 13 12:26:38 UTC 2020)\n",
       "(EPL source distribution)\n",
       "Java Runtime: OpenJDK Runtime Environment\n",
       "JVM: OpenJDK 64-Bit Server VM\n",
       "Default Encoding: UTF-8\n",
       "Language: en\n",
       "Country: null\n",
       "--></g></svg>"
      ]
     },
     "execution_count": 36,
     "metadata": {},
     "output_type": "execute_result"
    }
   ],
   "source": [
    "%viz --style=\"PLANTUML\" --view=\"MIXED\" \"VariabilityTest\""
   ]
  },
  {
   "cell_type": "code",
   "execution_count": 37,
   "id": "828c0ab3",
   "metadata": {
    "execution": {
     "iopub.execute_input": "2021-05-28T10:47:57.296407Z",
     "iopub.status.busy": "2021-05-28T10:47:57.296031Z",
     "iopub.status.idle": "2021-05-28T10:47:57.364484Z",
     "shell.execute_reply": "2021-05-28T10:47:57.362715Z"
    }
   },
   "outputs": [
    {
     "data": {
      "image/svg+xml": [
       "<?xml version=\"1.0\" encoding=\"UTF-8\" standalone=\"no\"?><svg xmlns=\"http://www.w3.org/2000/svg\" xmlns:xlink=\"http://www.w3.org/1999/xlink\" contentScriptType=\"application/ecmascript\" contentStyleType=\"text/css\" height=\"401px\" preserveAspectRatio=\"none\" style=\"width:419px;height:401px;\" version=\"1.1\" viewBox=\"0 0 419 401\" width=\"419px\" zoomAndPan=\"magnify\"><defs/><g><!--MD5=[fbc87193dbaf4d95561dea2c320d4a47]\n",
       "cluster E1--><a href=\"psysml:c9192910-aa77-45a9-9ae3-16f7deb9d13d\" target=\"_top\" title=\"psysml:c9192910-aa77-45a9-9ae3-16f7deb9d13d\" xlink:actuate=\"onRequest\" xlink:href=\"psysml:c9192910-aa77-45a9-9ae3-16f7deb9d13d\" xlink:show=\"new\" xlink:title=\"psysml:c9192910-aa77-45a9-9ae3-16f7deb9d13d\" xlink:type=\"simple\"><polygon fill=\"#FFFFFF\" points=\"16,6,134,6,141,28.2969,397,28.2969,397,389,16,389,16,6\" style=\"stroke: #000000; stroke-width: 1.5;\"/><line style=\"stroke: #000000; stroke-width: 1.5;\" x1=\"16\" x2=\"141\" y1=\"28.2969\" y2=\"28.2969\"/><text fill=\"#000000\" font-family=\"sans-serif\" font-size=\"14\" font-weight=\"bold\" lengthAdjust=\"spacingAndGlyphs\" textLength=\"112\" x=\"20\" y=\"20.9951\">VariabilityTest</text></a><!--MD5=[b4997ac47864f28c2f74865a473b2911]\n",
       "class E2--><a href=\"psysml:28b4b804-815b-4815-9c5e-e5b09d6ccef7\" target=\"_top\" title=\"psysml:28b4b804-815b-4815-9c5e-e5b09d6ccef7\" xlink:actuate=\"onRequest\" xlink:href=\"psysml:28b4b804-815b-4815-9c5e-e5b09d6ccef7\" xlink:show=\"new\" xlink:title=\"psysml:28b4b804-815b-4815-9c5e-e5b09d6ccef7\" xlink:type=\"simple\"><rect fill=\"#FFFFFF\" height=\"75.5469\" id=\"E2\" style=\"stroke: #383838; stroke-width: 1.5;\" width=\"66\" x=\"166\" y=\"291\"/><text fill=\"#000000\" font-family=\"sans-serif\" font-size=\"12\" font-style=\"italic\" lengthAdjust=\"spacingAndGlyphs\" textLength=\"64\" x=\"167\" y=\"307.1387\">«part def»</text><text fill=\"#000000\" font-family=\"sans-serif\" font-size=\"12\" lengthAdjust=\"spacingAndGlyphs\" textLength=\"8\" x=\"195\" y=\"321.1074\">P</text><line style=\"stroke: #383838; stroke-width: 1.5;\" x1=\"167\" x2=\"231\" y1=\"328.9375\" y2=\"328.9375\"/><text fill=\"#000000\" font-family=\"sans-serif\" font-size=\"11\" lengthAdjust=\"spacingAndGlyphs\" textLength=\"7\" x=\"172\" y=\"359.9526\">a</text><line style=\"stroke: #383838; stroke-width: 1.0;\" x1=\"167\" x2=\"171.5\" y1=\"343.3398\" y2=\"343.3398\"/><text fill=\"#000000\" font-family=\"sans-serif\" font-size=\"11\" lengthAdjust=\"spacingAndGlyphs\" textLength=\"55\" x=\"171.5\" y=\"346.6479\">attributes</text><line style=\"stroke: #383838; stroke-width: 1.0;\" x1=\"226.5\" x2=\"231\" y1=\"343.3398\" y2=\"343.3398\"/></a><!--MD5=[09b614a08d8cba4a07c9adeb5e0fee81]\n",
       "class E3--><a href=\"psysml:3556ece0-f840-441c-8cd2-5d7027a1a805\" target=\"_top\" title=\"psysml:3556ece0-f840-441c-8cd2-5d7027a1a805\" xlink:actuate=\"onRequest\" xlink:href=\"psysml:3556ece0-f840-441c-8cd2-5d7027a1a805\" xlink:show=\"new\" xlink:title=\"psysml:3556ece0-f840-441c-8cd2-5d7027a1a805\" xlink:type=\"simple\"><rect fill=\"#FFFFFF\" height=\"45.9375\" id=\"E3\" style=\"stroke: #383838; stroke-width: 1.5;\" width=\"66\" x=\"137\" y=\"155\"/><text fill=\"#000000\" font-family=\"sans-serif\" font-size=\"12\" font-style=\"italic\" lengthAdjust=\"spacingAndGlyphs\" textLength=\"64\" x=\"138\" y=\"171.1387\">«part def»</text><text fill=\"#000000\" font-family=\"sans-serif\" font-size=\"12\" lengthAdjust=\"spacingAndGlyphs\" textLength=\"9\" x=\"165.5\" y=\"185.1074\">Q</text><line style=\"stroke: #383838; stroke-width: 1.5;\" x1=\"138\" x2=\"202\" y1=\"192.9375\" y2=\"192.9375\"/></a><!--MD5=[ebbe1d658d1005bcc118a6aa81145e00]\n",
       "class E4--><a href=\"psysml:c1ea47d2-f15e-4f05-bf93-ec81669ca641\" target=\"_top\" title=\"psysml:c1ea47d2-f15e-4f05-bf93-ec81669ca641\" xlink:actuate=\"onRequest\" xlink:href=\"psysml:c1ea47d2-f15e-4f05-bf93-ec81669ca641\" xlink:show=\"new\" xlink:title=\"psysml:c1ea47d2-f15e-4f05-bf93-ec81669ca641\" xlink:type=\"simple\"><rect fill=\"#FFFFFF\" height=\"45.9375\" id=\"E4\" style=\"stroke: #383838; stroke-width: 1.5;\" width=\"95\" x=\"255.5\" y=\"41\"/><text fill=\"#000000\" font-family=\"sans-serif\" font-size=\"12\" font-style=\"italic\" lengthAdjust=\"spacingAndGlyphs\" textLength=\"93\" x=\"256.5\" y=\"57.1387\">«attribute def»</text><text fill=\"#000000\" font-family=\"sans-serif\" font-size=\"12\" lengthAdjust=\"spacingAndGlyphs\" textLength=\"8\" x=\"299\" y=\"71.1074\">B</text><line style=\"stroke: #383838; stroke-width: 1.5;\" x1=\"256.5\" x2=\"349.5\" y1=\"78.9375\" y2=\"78.9375\"/></a><!--MD5=[270fce915f116d4de14055a7c1d9a0f3]\n",
       "class E5--><a href=\"psysml:735cd89a-e4b2-4dc5-b3d6-41534f400f39\" target=\"_top\" title=\"psysml:735cd89a-e4b2-4dc5-b3d6-41534f400f39\" xlink:actuate=\"onRequest\" xlink:href=\"psysml:735cd89a-e4b2-4dc5-b3d6-41534f400f39\" xlink:show=\"new\" xlink:title=\"psysml:735cd89a-e4b2-4dc5-b3d6-41534f400f39\" xlink:type=\"simple\"><rect fill=\"#FFFFFF\" height=\"45.9375\" id=\"E5\" style=\"stroke: #383838; stroke-width: 1.5;\" width=\"66\" x=\"315\" y=\"155\"/><text fill=\"#000000\" font-family=\"sans-serif\" font-size=\"12\" font-style=\"italic\" lengthAdjust=\"spacingAndGlyphs\" textLength=\"64\" x=\"316\" y=\"171.1387\">«part def»</text><text fill=\"#000000\" font-family=\"sans-serif\" font-size=\"12\" lengthAdjust=\"spacingAndGlyphs\" textLength=\"8\" x=\"344\" y=\"185.1074\">V</text><line style=\"stroke: #383838; stroke-width: 1.5;\" x1=\"316\" x2=\"380\" y1=\"192.9375\" y2=\"192.9375\"/></a><!--MD5=[60a26617385b1d2d0262a64233df1f8d]\n",
       "class E6--><a href=\"psysml:0400016e-70f0-4405-a71c-97e49bd60e65\" target=\"_top\" title=\"psysml:0400016e-70f0-4405-a71c-97e49bd60e65\" xlink:actuate=\"onRequest\" xlink:href=\"psysml:0400016e-70f0-4405-a71c-97e49bd60e65\" xlink:show=\"new\" xlink:title=\"psysml:0400016e-70f0-4405-a71c-97e49bd60e65\" xlink:type=\"simple\"><rect fill=\"#FFFFFF\" height=\"88.3516\" id=\"E6\" rx=\"10\" ry=\"10\" style=\"stroke: #383838; stroke-width: 1.5;\" width=\"63\" x=\"287.5\" y=\"285\"/><text fill=\"#000000\" font-family=\"sans-serif\" font-size=\"12\" font-style=\"italic\" lengthAdjust=\"spacingAndGlyphs\" textLength=\"40\" x=\"299\" y=\"301.1387\">«part»</text><text fill=\"#000000\" font-family=\"sans-serif\" font-size=\"12\" lengthAdjust=\"spacingAndGlyphs\" textLength=\"23\" x=\"307.5\" y=\"315.1074\">x: Q</text><line style=\"stroke: #383838; stroke-width: 1.5;\" x1=\"288.5\" x2=\"349.5\" y1=\"322.9375\" y2=\"322.9375\"/><text fill=\"#000000\" font-family=\"sans-serif\" font-size=\"11\" lengthAdjust=\"spacingAndGlyphs\" textLength=\"23\" x=\"293.5\" y=\"353.9526\">b: B</text><text fill=\"#000000\" font-family=\"sans-serif\" font-size=\"11\" font-style=\"italic\" lengthAdjust=\"spacingAndGlyphs\" textLength=\"44\" x=\"293.5\" y=\"366.7573\">:&gt;&gt;P::a</text><line style=\"stroke: #383838; stroke-width: 1.0;\" x1=\"288.5\" x2=\"291.5\" y1=\"337.3398\" y2=\"337.3398\"/><text fill=\"#000000\" font-family=\"sans-serif\" font-size=\"11\" lengthAdjust=\"spacingAndGlyphs\" textLength=\"55\" x=\"291.5\" y=\"340.6479\">attributes</text><line style=\"stroke: #383838; stroke-width: 1.0;\" x1=\"346.5\" x2=\"349.5\" y1=\"337.3398\" y2=\"337.3398\"/></a><!--MD5=[2156ba9850f5573cc1fc38a6a4b2f02b]\n",
       "class E7--><a href=\"psysml:ac43cc4c-8177-486e-b5a5-e877f62f9bc5\" target=\"_top\" title=\"psysml:ac43cc4c-8177-486e-b5a5-e877f62f9bc5\" xlink:actuate=\"onRequest\" xlink:href=\"psysml:ac43cc4c-8177-486e-b5a5-e877f62f9bc5\" xlink:show=\"new\" xlink:title=\"psysml:ac43cc4c-8177-486e-b5a5-e877f62f9bc5\" xlink:type=\"simple\"><rect fill=\"#FFFFFF\" height=\"45.9375\" id=\"E7\" rx=\"10\" ry=\"10\" style=\"stroke: #383838; stroke-width: 1.5;\" width=\"42\" x=\"149\" y=\"41\"/><text fill=\"#000000\" font-family=\"sans-serif\" font-size=\"12\" font-style=\"italic\" lengthAdjust=\"spacingAndGlyphs\" textLength=\"40\" x=\"150\" y=\"57.1387\">«part»</text><text fill=\"#000000\" font-family=\"sans-serif\" font-size=\"12\" lengthAdjust=\"spacingAndGlyphs\" textLength=\"25\" x=\"157.5\" y=\"71.1074\">q: Q</text><line style=\"stroke: #383838; stroke-width: 1.5;\" x1=\"150\" x2=\"190\" y1=\"78.9375\" y2=\"78.9375\"/></a><!--MD5=[b9389687b975829384b498ac4b7476b2]\n",
       "class E8--><a href=\"psysml:ce952eae-8bb1-4ad0-9f02-4c42d4c1d0c7\" target=\"_top\" title=\"psysml:ce952eae-8bb1-4ad0-9f02-4c42d4c1d0c7\" xlink:actuate=\"onRequest\" xlink:href=\"psysml:ce952eae-8bb1-4ad0-9f02-4c42d4c1d0c7\" xlink:show=\"new\" xlink:title=\"psysml:ce952eae-8bb1-4ad0-9f02-4c42d4c1d0c7\" xlink:type=\"simple\"><rect fill=\"#FFFFFF\" height=\"59.9063\" id=\"E8\" rx=\"10\" ry=\"10\" style=\"stroke: #383838; stroke-width: 1.5;\" width=\"70\" x=\"32\" y=\"148\"/><text fill=\"#000000\" font-family=\"sans-serif\" font-size=\"12\" font-style=\"italic\" lengthAdjust=\"spacingAndGlyphs\" textLength=\"68\" x=\"33\" y=\"164.1387\">«variation»</text><text fill=\"#000000\" font-family=\"sans-serif\" font-size=\"12\" font-style=\"italic\" lengthAdjust=\"spacingAndGlyphs\" textLength=\"40\" x=\"47\" y=\"178.1074\">«part»</text><text fill=\"#000000\" font-family=\"sans-serif\" font-size=\"12\" lengthAdjust=\"spacingAndGlyphs\" textLength=\"22\" x=\"56\" y=\"192.0762\">v: P</text><line style=\"stroke: #383838; stroke-width: 1.5;\" x1=\"33\" x2=\"101\" y1=\"199.9063\" y2=\"199.9063\"/></a><!--MD5=[fd4143e9d270a159db93a4ea2a975926]\n",
       "class E9--><a href=\"psysml:572dfe4e-6d7c-4ba8-94a3-d7ce0272bed9\" target=\"_top\" title=\"psysml:572dfe4e-6d7c-4ba8-94a3-d7ce0272bed9\" xlink:actuate=\"onRequest\" xlink:href=\"psysml:572dfe4e-6d7c-4ba8-94a3-d7ce0272bed9\" xlink:show=\"new\" xlink:title=\"psysml:572dfe4e-6d7c-4ba8-94a3-d7ce0272bed9\" xlink:type=\"simple\"><rect fill=\"#FFFFFF\" height=\"88.3516\" id=\"E9\" rx=\"10\" ry=\"10\" style=\"stroke: #383838; stroke-width: 1.5;\" width=\"77\" x=\"32.5\" y=\"285\"/><text fill=\"#000000\" font-family=\"sans-serif\" font-size=\"12\" font-style=\"italic\" lengthAdjust=\"spacingAndGlyphs\" textLength=\"75\" x=\"33.5\" y=\"301.1387\">«reference»</text><text fill=\"#000000\" font-family=\"sans-serif\" font-size=\"12\" lengthAdjust=\"spacingAndGlyphs\" textLength=\"8\" x=\"67\" y=\"315.1074\">q</text><line style=\"stroke: #383838; stroke-width: 1.5;\" x1=\"33.5\" x2=\"108.5\" y1=\"322.9375\" y2=\"322.9375\"/><text fill=\"#000000\" font-family=\"sans-serif\" font-size=\"11\" lengthAdjust=\"spacingAndGlyphs\" textLength=\"23\" x=\"38.5\" y=\"353.9526\">b: B</text><text fill=\"#000000\" font-family=\"sans-serif\" font-size=\"11\" font-style=\"italic\" lengthAdjust=\"spacingAndGlyphs\" textLength=\"44\" x=\"38.5\" y=\"366.7573\">:&gt;&gt;P::a</text><line style=\"stroke: #383838; stroke-width: 1.0;\" x1=\"33.5\" x2=\"43.5\" y1=\"337.3398\" y2=\"337.3398\"/><text fill=\"#000000\" font-family=\"sans-serif\" font-size=\"11\" lengthAdjust=\"spacingAndGlyphs\" textLength=\"55\" x=\"43.5\" y=\"340.6479\">attributes</text><line style=\"stroke: #383838; stroke-width: 1.0;\" x1=\"98.5\" x2=\"108.5\" y1=\"337.3398\" y2=\"337.3398\"/></a><!--MD5=[96f4274e9e20536e775497830990834d]\n",
       "class E10--><a href=\"psysml:983a8093-9810-4637-96cc-9ee8fb3d9cf5\" target=\"_top\" title=\"psysml:983a8093-9810-4637-96cc-9ee8fb3d9cf5\" xlink:actuate=\"onRequest\" xlink:href=\"psysml:983a8093-9810-4637-96cc-9ee8fb3d9cf5\" xlink:show=\"new\" xlink:title=\"psysml:983a8093-9810-4637-96cc-9ee8fb3d9cf5\" xlink:type=\"simple\"><rect fill=\"#FFFFFF\" height=\"45.9375\" id=\"E10\" rx=\"10\" ry=\"10\" style=\"stroke: #383838; stroke-width: 1.5;\" width=\"42\" x=\"238\" y=\"155\"/><text fill=\"#000000\" font-family=\"sans-serif\" font-size=\"12\" font-style=\"italic\" lengthAdjust=\"spacingAndGlyphs\" textLength=\"40\" x=\"239\" y=\"171.1387\">«part»</text><text fill=\"#000000\" font-family=\"sans-serif\" font-size=\"12\" lengthAdjust=\"spacingAndGlyphs\" textLength=\"22\" x=\"248\" y=\"185.1074\">y: P</text><line style=\"stroke: #383838; stroke-width: 1.5;\" x1=\"239\" x2=\"279\" y1=\"192.9375\" y2=\"192.9375\"/></a><!--MD5=[05d275557350bfb9b23a4ef7222b4c39]\n",
       "link E3 to E2--><a href=\"psysml:9e57242c-9184-4252-9565-bec20c63fdb8\" target=\"_top\" title=\"psysml:9e57242c-9184-4252-9565-bec20c63fdb8\" xlink:actuate=\"onRequest\" xlink:href=\"psysml:9e57242c-9184-4252-9565-bec20c63fdb8\" xlink:show=\"new\" xlink:title=\"psysml:9e57242c-9184-4252-9565-bec20c63fdb8\" xlink:type=\"simple\"><path d=\"M174.34,201.31 C177.92,219.67 183.15,246.54 187.87,270.81 \" fill=\"none\" id=\"E3-&gt;E2\" style=\"stroke: #383838; stroke-width: 1.0;\"/><polygon fill=\"none\" points=\"194.8,269.8,191.75,290.77,181.06,272.47,194.8,269.8\" style=\"stroke: #383838; stroke-width: 1.0;\"/></a><!--MD5=[15ebcb19ae302d9b601edb458606d402]\n",
       "link E5 to E2--><a href=\"psysml:5cdbdbe7-d14c-45c9-a804-61f18115238e\" target=\"_top\" title=\"psysml:5cdbdbe7-d14c-45c9-a804-61f18115238e\" xlink:actuate=\"onRequest\" xlink:href=\"psysml:5cdbdbe7-d14c-45c9-a804-61f18115238e\" xlink:show=\"new\" xlink:title=\"psysml:5cdbdbe7-d14c-45c9-a804-61f18115238e\" xlink:type=\"simple\"><path d=\"M325.69,201.31 C304.9,222.1 273.2,253.8 246.71,280.29 \" fill=\"none\" id=\"E5-&gt;E2\" style=\"stroke: #383838; stroke-width: 1.0;\"/><polygon fill=\"none\" points=\"251.33,285.57,232.24,294.76,241.43,275.67,251.33,285.57\" style=\"stroke: #383838; stroke-width: 1.0;\"/></a><!--MD5=[9120cf2e5df3bff93db8f754bbbc09b4]\n",
       "link E5 to E6--><a href=\"psysml:052c6ce9-d9db-4da6-90c4-ac16555550ac\" target=\"_top\" title=\"psysml:052c6ce9-d9db-4da6-90c4-ac16555550ac\" xlink:actuate=\"onRequest\" xlink:href=\"psysml:052c6ce9-d9db-4da6-90c4-ac16555550ac\" xlink:show=\"new\" xlink:title=\"psysml:052c6ce9-d9db-4da6-90c4-ac16555550ac\" xlink:type=\"simple\"><path d=\"M341.72,211.26 C338.1,229.85 333.47,253.68 329.32,274.95 \" fill=\"none\" id=\"E5-E6\" style=\"stroke: #383838; stroke-width: 1.0;\"/><polygon fill=\"#383838\" points=\"327.4,284.84,331.8761,277.5623,325.987,276.4136,327.4,284.84\" style=\"stroke: #383838; stroke-width: 1.0;\"/><path d=\"M334.7699,202.7122 A9,9 0 0 0 351.3715 205.9503\" fill=\"none\" style=\"stroke: #383838; stroke-width: 1.5;\"/><text fill=\"#000000\" font-family=\"sans-serif\" font-size=\"13\" lengthAdjust=\"spacingAndGlyphs\" textLength=\"60\" x=\"337\" y=\"251.0669\">«variant»</text></a><!--MD5=[14ccda38c055a5c0da953d572bc50960]\n",
       "link E7 to E3--><a href=\"psysml:648145d1-1ec9-42fc-8307-fa8910350658\" target=\"_top\" title=\"psysml:648145d1-1ec9-42fc-8307-fa8910350658\" xlink:actuate=\"onRequest\" xlink:href=\"psysml:648145d1-1ec9-42fc-8307-fa8910350658\" xlink:show=\"new\" xlink:title=\"psysml:648145d1-1ec9-42fc-8307-fa8910350658\" xlink:type=\"simple\"><path d=\"M170,87.13 C170,100.7 170,118.53 170,134.73 \" fill=\"none\" id=\"E7-&gt;E3\" style=\"stroke: #383838; stroke-width: 1.0;\"/><polygon fill=\"#FFFFFF\" points=\"170,154.92,163,135.92,177,135.92,170,154.92\" style=\"stroke: #383838; stroke-width: 1.0;\"/><ellipse cx=\"165\" cy=\"130.22\" fill=\"#383838\" rx=\"2\" ry=\"2\" style=\"stroke: #383838; stroke-width: 1.0;\"/><ellipse cx=\"175\" cy=\"130.22\" fill=\"#383838\" rx=\"2\" ry=\"2\" style=\"stroke: #383838; stroke-width: 1.0;\"/></a><!--MD5=[f1f3f9f2fc535e6147756cb86a7f2e32]\n",
       "link E8 to E2--><a href=\"psysml:19cda0c9-2775-4d9d-8cd8-191c5ad52b34\" target=\"_top\" title=\"psysml:19cda0c9-2775-4d9d-8cd8-191c5ad52b34\" xlink:actuate=\"onRequest\" xlink:href=\"psysml:19cda0c9-2775-4d9d-8cd8-191c5ad52b34\" xlink:show=\"new\" xlink:title=\"psysml:19cda0c9-2775-4d9d-8cd8-191c5ad52b34\" xlink:type=\"simple\"><path d=\"M102.17,204.39 C114.52,214.17 128.04,225.9 139,238 C148.86,248.88 158.29,261.5 166.63,273.79 \" fill=\"none\" id=\"E8-&gt;E2\" style=\"stroke: #383838; stroke-width: 1.0;\"/><polygon fill=\"#FFFFFF\" points=\"177.64,290.73,161.4168,278.6135,173.1555,270.9844,177.64,290.73\" style=\"stroke: #383838; stroke-width: 1.0;\"/><ellipse cx=\"159.9876\" cy=\"272.7443\" fill=\"#383838\" rx=\"2\" ry=\"2\" style=\"stroke: #383838; stroke-width: 1.0;\"/><ellipse cx=\"168.3724\" cy=\"267.2949\" fill=\"#383838\" rx=\"2\" ry=\"2\" style=\"stroke: #383838; stroke-width: 1.0;\"/></a><!--MD5=[ed10624c06dd9a4fa49ccf290e8b16a8]\n",
       "link E8 to E9--><a href=\"psysml:28d39c7a-e0c7-42b0-858e-2cb4e488f108\" target=\"_top\" title=\"psysml:28d39c7a-e0c7-42b0-858e-2cb4e488f108\" xlink:actuate=\"onRequest\" xlink:href=\"psysml:28d39c7a-e0c7-42b0-858e-2cb4e488f108\" xlink:show=\"new\" xlink:title=\"psysml:28d39c7a-e0c7-42b0-858e-2cb4e488f108\" xlink:type=\"simple\"><path d=\"M68.06,218.32 C68.52,235.6 69.07,256.15 69.57,274.77 \" fill=\"none\" id=\"E8-E9\" style=\"stroke: #383838; stroke-width: 1.0;\"/><polygon fill=\"#383838\" points=\"69.84,284.88,72.6331,276.8054,66.6351,276.9599,69.84,284.88\" style=\"stroke: #383838; stroke-width: 1.0;\"/><path d=\"M59.4094,211.3865 A9,9 0 0 0 76.3176 210.9276\" fill=\"none\" style=\"stroke: #383838; stroke-width: 1.5;\"/><text fill=\"#000000\" font-family=\"sans-serif\" font-size=\"13\" lengthAdjust=\"spacingAndGlyphs\" textLength=\"60\" x=\"70\" y=\"251.0669\">«variant»</text></a><!--MD5=[0f36bececdf0dff6e600d6f64214b0f1]\n",
       "link E10 to E2--><a href=\"psysml:8cfcd01d-a74f-43be-a680-d41b6ee6accc\" target=\"_top\" title=\"psysml:8cfcd01d-a74f-43be-a680-d41b6ee6accc\" xlink:actuate=\"onRequest\" xlink:href=\"psysml:8cfcd01d-a74f-43be-a680-d41b6ee6accc\" xlink:show=\"new\" xlink:title=\"psysml:8cfcd01d-a74f-43be-a680-d41b6ee6accc\" xlink:type=\"simple\"><path d=\"M250.02,201.31 C242.51,219.95 231.48,247.35 221.59,271.91 \" fill=\"none\" id=\"E10-&gt;E2\" style=\"stroke: #383838; stroke-width: 1.0;\"/><polygon fill=\"#FFFFFF\" points=\"213.99,290.77,214.5927,270.5305,227.5796,275.7593,213.99,290.77\" style=\"stroke: #383838; stroke-width: 1.0;\"/><ellipse cx=\"218.5768\" cy=\"265.9899\" fill=\"#383838\" rx=\"2\" ry=\"2\" style=\"stroke: #383838; stroke-width: 1.0;\"/><ellipse cx=\"227.8532\" cy=\"269.7248\" fill=\"#383838\" rx=\"2\" ry=\"2\" style=\"stroke: #383838; stroke-width: 1.0;\"/></a><!--MD5=[a217e4e4759a485a6a525c90a3cd304d]\n",
       "@startuml\r\n",
       "skinparam monochrome true\r\n",
       "skinparam classbackgroundcolor white\r\n",
       "skinparam shadowing false\r\n",
       "skinparam wrapWidth 300\r\n",
       "hide circle\r\n",
       "\r\n",
       "package \"VariabilityTest\" as E1  [[psysml:c9192910-aa77-45a9-9ae3-16f7deb9d13d ]]  {\r\n",
       "comp def \"P\" as E2  <<(T,blue)part def>> [[psysml:28b4b804-815b-4815-9c5e-e5b09d6ccef7 ]] {\r\n",
       "- - attributes - -\r\n",
       "a\r\n",
       "}\r\n",
       "comp def \"Q\" as E3  <<(T,blue)part def>> [[psysml:3556ece0-f840-441c-8cd2-5d7027a1a805 ]] {\r\n",
       "}\r\n",
       "comp def \"B\" as E4  <<(T,blue)attribute def>> [[psysml:c1ea47d2-f15e-4f05-bf93-ec81669ca641 ]] {\r\n",
       "}\r\n",
       "comp def \"V\" as E5  <<(T,blue)part def>> [[psysml:735cd89a-e4b2-4dc5-b3d6-41534f400f39 ]] {\r\n",
       "}\r\n",
       "comp usage \"x: Q\" as E6  <<(T,blue)part>> [[psysml:0400016e-70f0-4405-a71c-97e49bd60e65 ]] {\r\n",
       "- - attributes - -\r\n",
       "b: B\\n//:>>P::a// \r\n",
       "}\r\n",
       "comp usage \"q: Q\" as E7  <<(T,blue)part>> [[psysml:ac43cc4c-8177-486e-b5a5-e877f62f9bc5 ]] {\r\n",
       "}\r\n",
       "comp usage \"v: P\" as E8  <<variation>>\\n <<(T,blue)part>> [[psysml:ce952eae-8bb1-4ad0-9f02-4c42d4c1d0c7 ]] {\r\n",
       "}\r\n",
       "comp usage \"q\" as E9  <<(T,blue)reference>> [[psysml:572dfe4e-6d7c-4ba8-94a3-d7ce0272bed9 ]] {\r\n",
       "- - attributes - -\r\n",
       "b: B\\n//:>>P::a// \r\n",
       "}\r\n",
       "comp usage \"y: P\" as E10  <<(T,blue)part>> [[psysml:983a8093-9810-4637-96cc-9ee8fb3d9cf5 ]] {\r\n",
       "}\r\n",
       "E3 - -|> E2 [[psysml:9e57242c-9184-4252-9565-bec20c63fdb8 ]] \r\n",
       "E5 - -|> E2 [[psysml:5cdbdbe7-d14c-45c9-a804-61f18115238e ]] \r\n",
       "E5 )- ->> E6 [[psysml:052c6ce9-d9db-4da6-90c4-ac16555550ac ]] : <<variant>>\r\n",
       "E7 - -:|> E3 [[psysml:648145d1-1ec9-42fc-8307-fa8910350658 ]] \r\n",
       "E8 - -:|> E2 [[psysml:19cda0c9-2775-4d9d-8cd8-191c5ad52b34 ]] \r\n",
       "E8 )- ->> E9 [[psysml:28d39c7a-e0c7-42b0-858e-2cb4e488f108 ]] : <<variant>>\r\n",
       "E10 - -:|> E2 [[psysml:8cfcd01d-a74f-43be-a680-d41b6ee6accc ]] \r\n",
       "}\r\n",
       "@enduml\r\n",
       "\n",
       "PlantUML version 1.2020.13(Sat Jun 13 12:26:38 UTC 2020)\n",
       "(EPL source distribution)\n",
       "Java Runtime: OpenJDK Runtime Environment\n",
       "JVM: OpenJDK 64-Bit Server VM\n",
       "Default Encoding: UTF-8\n",
       "Language: en\n",
       "Country: null\n",
       "--></g></svg>"
      ]
     },
     "execution_count": 37,
     "metadata": {},
     "output_type": "execute_result"
    }
   ],
   "source": [
    "%viz --style=\"DEFAULT\" --view=\"Default\" \"VariabilityTest\""
   ]
  },
  {
   "cell_type": "code",
   "execution_count": 38,
   "id": "dccda96b",
   "metadata": {
    "execution": {
     "iopub.execute_input": "2021-05-28T10:47:57.416036Z",
     "iopub.status.busy": "2021-05-28T10:47:57.415686Z",
     "iopub.status.idle": "2021-05-28T10:47:57.480538Z",
     "shell.execute_reply": "2021-05-28T10:47:57.479128Z"
    }
   },
   "outputs": [
    {
     "data": {
      "image/svg+xml": [
       "<?xml version=\"1.0\" encoding=\"UTF-8\" standalone=\"no\"?><svg xmlns=\"http://www.w3.org/2000/svg\" xmlns:xlink=\"http://www.w3.org/1999/xlink\" contentScriptType=\"application/ecmascript\" contentStyleType=\"text/css\" height=\"401px\" preserveAspectRatio=\"none\" style=\"width:419px;height:401px;\" version=\"1.1\" viewBox=\"0 0 419 401\" width=\"419px\" zoomAndPan=\"magnify\"><defs/><g><!--MD5=[fbc87193dbaf4d95561dea2c320d4a47]\n",
       "cluster E1--><a href=\"psysml:c9192910-aa77-45a9-9ae3-16f7deb9d13d\" target=\"_top\" title=\"psysml:c9192910-aa77-45a9-9ae3-16f7deb9d13d\" xlink:actuate=\"onRequest\" xlink:href=\"psysml:c9192910-aa77-45a9-9ae3-16f7deb9d13d\" xlink:show=\"new\" xlink:title=\"psysml:c9192910-aa77-45a9-9ae3-16f7deb9d13d\" xlink:type=\"simple\"><polygon fill=\"#FFFFFF\" points=\"16,6,134,6,141,28.2969,397,28.2969,397,389,16,389,16,6\" style=\"stroke: #000000; stroke-width: 1.5;\"/><line style=\"stroke: #000000; stroke-width: 1.5;\" x1=\"16\" x2=\"141\" y1=\"28.2969\" y2=\"28.2969\"/><text fill=\"#000000\" font-family=\"sans-serif\" font-size=\"14\" font-weight=\"bold\" lengthAdjust=\"spacingAndGlyphs\" textLength=\"112\" x=\"20\" y=\"20.9951\">VariabilityTest</text></a><!--MD5=[b4997ac47864f28c2f74865a473b2911]\n",
       "class E2--><a href=\"psysml:28b4b804-815b-4815-9c5e-e5b09d6ccef7\" target=\"_top\" title=\"psysml:28b4b804-815b-4815-9c5e-e5b09d6ccef7\" xlink:actuate=\"onRequest\" xlink:href=\"psysml:28b4b804-815b-4815-9c5e-e5b09d6ccef7\" xlink:show=\"new\" xlink:title=\"psysml:28b4b804-815b-4815-9c5e-e5b09d6ccef7\" xlink:type=\"simple\"><rect fill=\"#FFFFFF\" height=\"75.5469\" id=\"E2\" style=\"stroke: #383838; stroke-width: 1.5;\" width=\"66\" x=\"166\" y=\"291\"/><text fill=\"#000000\" font-family=\"sans-serif\" font-size=\"12\" font-style=\"italic\" lengthAdjust=\"spacingAndGlyphs\" textLength=\"64\" x=\"167\" y=\"307.1387\">«part def»</text><text fill=\"#000000\" font-family=\"sans-serif\" font-size=\"12\" lengthAdjust=\"spacingAndGlyphs\" textLength=\"8\" x=\"195\" y=\"321.1074\">P</text><line style=\"stroke: #383838; stroke-width: 1.5;\" x1=\"167\" x2=\"231\" y1=\"328.9375\" y2=\"328.9375\"/><text fill=\"#000000\" font-family=\"sans-serif\" font-size=\"11\" lengthAdjust=\"spacingAndGlyphs\" textLength=\"7\" x=\"172\" y=\"359.9526\">a</text><line style=\"stroke: #383838; stroke-width: 1.0;\" x1=\"167\" x2=\"171.5\" y1=\"343.3398\" y2=\"343.3398\"/><text fill=\"#000000\" font-family=\"sans-serif\" font-size=\"11\" lengthAdjust=\"spacingAndGlyphs\" textLength=\"55\" x=\"171.5\" y=\"346.6479\">attributes</text><line style=\"stroke: #383838; stroke-width: 1.0;\" x1=\"226.5\" x2=\"231\" y1=\"343.3398\" y2=\"343.3398\"/></a><!--MD5=[09b614a08d8cba4a07c9adeb5e0fee81]\n",
       "class E3--><a href=\"psysml:3556ece0-f840-441c-8cd2-5d7027a1a805\" target=\"_top\" title=\"psysml:3556ece0-f840-441c-8cd2-5d7027a1a805\" xlink:actuate=\"onRequest\" xlink:href=\"psysml:3556ece0-f840-441c-8cd2-5d7027a1a805\" xlink:show=\"new\" xlink:title=\"psysml:3556ece0-f840-441c-8cd2-5d7027a1a805\" xlink:type=\"simple\"><rect fill=\"#FFFFFF\" height=\"45.9375\" id=\"E3\" style=\"stroke: #383838; stroke-width: 1.5;\" width=\"66\" x=\"137\" y=\"155\"/><text fill=\"#000000\" font-family=\"sans-serif\" font-size=\"12\" font-style=\"italic\" lengthAdjust=\"spacingAndGlyphs\" textLength=\"64\" x=\"138\" y=\"171.1387\">«part def»</text><text fill=\"#000000\" font-family=\"sans-serif\" font-size=\"12\" lengthAdjust=\"spacingAndGlyphs\" textLength=\"9\" x=\"165.5\" y=\"185.1074\">Q</text><line style=\"stroke: #383838; stroke-width: 1.5;\" x1=\"138\" x2=\"202\" y1=\"192.9375\" y2=\"192.9375\"/></a><!--MD5=[ebbe1d658d1005bcc118a6aa81145e00]\n",
       "class E4--><a href=\"psysml:c1ea47d2-f15e-4f05-bf93-ec81669ca641\" target=\"_top\" title=\"psysml:c1ea47d2-f15e-4f05-bf93-ec81669ca641\" xlink:actuate=\"onRequest\" xlink:href=\"psysml:c1ea47d2-f15e-4f05-bf93-ec81669ca641\" xlink:show=\"new\" xlink:title=\"psysml:c1ea47d2-f15e-4f05-bf93-ec81669ca641\" xlink:type=\"simple\"><rect fill=\"#FFFFFF\" height=\"45.9375\" id=\"E4\" style=\"stroke: #383838; stroke-width: 1.5;\" width=\"95\" x=\"255.5\" y=\"41\"/><text fill=\"#000000\" font-family=\"sans-serif\" font-size=\"12\" font-style=\"italic\" lengthAdjust=\"spacingAndGlyphs\" textLength=\"93\" x=\"256.5\" y=\"57.1387\">«attribute def»</text><text fill=\"#000000\" font-family=\"sans-serif\" font-size=\"12\" lengthAdjust=\"spacingAndGlyphs\" textLength=\"8\" x=\"299\" y=\"71.1074\">B</text><line style=\"stroke: #383838; stroke-width: 1.5;\" x1=\"256.5\" x2=\"349.5\" y1=\"78.9375\" y2=\"78.9375\"/></a><!--MD5=[270fce915f116d4de14055a7c1d9a0f3]\n",
       "class E5--><a href=\"psysml:735cd89a-e4b2-4dc5-b3d6-41534f400f39\" target=\"_top\" title=\"psysml:735cd89a-e4b2-4dc5-b3d6-41534f400f39\" xlink:actuate=\"onRequest\" xlink:href=\"psysml:735cd89a-e4b2-4dc5-b3d6-41534f400f39\" xlink:show=\"new\" xlink:title=\"psysml:735cd89a-e4b2-4dc5-b3d6-41534f400f39\" xlink:type=\"simple\"><rect fill=\"#FFFFFF\" height=\"45.9375\" id=\"E5\" style=\"stroke: #383838; stroke-width: 1.5;\" width=\"66\" x=\"315\" y=\"155\"/><text fill=\"#000000\" font-family=\"sans-serif\" font-size=\"12\" font-style=\"italic\" lengthAdjust=\"spacingAndGlyphs\" textLength=\"64\" x=\"316\" y=\"171.1387\">«part def»</text><text fill=\"#000000\" font-family=\"sans-serif\" font-size=\"12\" lengthAdjust=\"spacingAndGlyphs\" textLength=\"8\" x=\"344\" y=\"185.1074\">V</text><line style=\"stroke: #383838; stroke-width: 1.5;\" x1=\"316\" x2=\"380\" y1=\"192.9375\" y2=\"192.9375\"/></a><!--MD5=[60a26617385b1d2d0262a64233df1f8d]\n",
       "class E6--><a href=\"psysml:0400016e-70f0-4405-a71c-97e49bd60e65\" target=\"_top\" title=\"psysml:0400016e-70f0-4405-a71c-97e49bd60e65\" xlink:actuate=\"onRequest\" xlink:href=\"psysml:0400016e-70f0-4405-a71c-97e49bd60e65\" xlink:show=\"new\" xlink:title=\"psysml:0400016e-70f0-4405-a71c-97e49bd60e65\" xlink:type=\"simple\"><rect fill=\"#FFFFFF\" height=\"88.3516\" id=\"E6\" rx=\"10\" ry=\"10\" style=\"stroke: #383838; stroke-width: 1.5;\" width=\"63\" x=\"287.5\" y=\"285\"/><text fill=\"#000000\" font-family=\"sans-serif\" font-size=\"12\" font-style=\"italic\" lengthAdjust=\"spacingAndGlyphs\" textLength=\"40\" x=\"299\" y=\"301.1387\">«part»</text><text fill=\"#000000\" font-family=\"sans-serif\" font-size=\"12\" lengthAdjust=\"spacingAndGlyphs\" textLength=\"23\" x=\"307.5\" y=\"315.1074\">x: Q</text><line style=\"stroke: #383838; stroke-width: 1.5;\" x1=\"288.5\" x2=\"349.5\" y1=\"322.9375\" y2=\"322.9375\"/><text fill=\"#000000\" font-family=\"sans-serif\" font-size=\"11\" lengthAdjust=\"spacingAndGlyphs\" textLength=\"23\" x=\"293.5\" y=\"353.9526\">b: B</text><text fill=\"#000000\" font-family=\"sans-serif\" font-size=\"11\" font-style=\"italic\" lengthAdjust=\"spacingAndGlyphs\" textLength=\"44\" x=\"293.5\" y=\"366.7573\">:&gt;&gt;P::a</text><line style=\"stroke: #383838; stroke-width: 1.0;\" x1=\"288.5\" x2=\"291.5\" y1=\"337.3398\" y2=\"337.3398\"/><text fill=\"#000000\" font-family=\"sans-serif\" font-size=\"11\" lengthAdjust=\"spacingAndGlyphs\" textLength=\"55\" x=\"291.5\" y=\"340.6479\">attributes</text><line style=\"stroke: #383838; stroke-width: 1.0;\" x1=\"346.5\" x2=\"349.5\" y1=\"337.3398\" y2=\"337.3398\"/></a><!--MD5=[2156ba9850f5573cc1fc38a6a4b2f02b]\n",
       "class E7--><a href=\"psysml:ac43cc4c-8177-486e-b5a5-e877f62f9bc5\" target=\"_top\" title=\"psysml:ac43cc4c-8177-486e-b5a5-e877f62f9bc5\" xlink:actuate=\"onRequest\" xlink:href=\"psysml:ac43cc4c-8177-486e-b5a5-e877f62f9bc5\" xlink:show=\"new\" xlink:title=\"psysml:ac43cc4c-8177-486e-b5a5-e877f62f9bc5\" xlink:type=\"simple\"><rect fill=\"#FFFFFF\" height=\"45.9375\" id=\"E7\" rx=\"10\" ry=\"10\" style=\"stroke: #383838; stroke-width: 1.5;\" width=\"42\" x=\"149\" y=\"41\"/><text fill=\"#000000\" font-family=\"sans-serif\" font-size=\"12\" font-style=\"italic\" lengthAdjust=\"spacingAndGlyphs\" textLength=\"40\" x=\"150\" y=\"57.1387\">«part»</text><text fill=\"#000000\" font-family=\"sans-serif\" font-size=\"12\" lengthAdjust=\"spacingAndGlyphs\" textLength=\"25\" x=\"157.5\" y=\"71.1074\">q: Q</text><line style=\"stroke: #383838; stroke-width: 1.5;\" x1=\"150\" x2=\"190\" y1=\"78.9375\" y2=\"78.9375\"/></a><!--MD5=[b9389687b975829384b498ac4b7476b2]\n",
       "class E8--><a href=\"psysml:ce952eae-8bb1-4ad0-9f02-4c42d4c1d0c7\" target=\"_top\" title=\"psysml:ce952eae-8bb1-4ad0-9f02-4c42d4c1d0c7\" xlink:actuate=\"onRequest\" xlink:href=\"psysml:ce952eae-8bb1-4ad0-9f02-4c42d4c1d0c7\" xlink:show=\"new\" xlink:title=\"psysml:ce952eae-8bb1-4ad0-9f02-4c42d4c1d0c7\" xlink:type=\"simple\"><rect fill=\"#FFFFFF\" height=\"59.9063\" id=\"E8\" rx=\"10\" ry=\"10\" style=\"stroke: #383838; stroke-width: 1.5;\" width=\"70\" x=\"32\" y=\"148\"/><text fill=\"#000000\" font-family=\"sans-serif\" font-size=\"12\" font-style=\"italic\" lengthAdjust=\"spacingAndGlyphs\" textLength=\"68\" x=\"33\" y=\"164.1387\">«variation»</text><text fill=\"#000000\" font-family=\"sans-serif\" font-size=\"12\" font-style=\"italic\" lengthAdjust=\"spacingAndGlyphs\" textLength=\"40\" x=\"47\" y=\"178.1074\">«part»</text><text fill=\"#000000\" font-family=\"sans-serif\" font-size=\"12\" lengthAdjust=\"spacingAndGlyphs\" textLength=\"22\" x=\"56\" y=\"192.0762\">v: P</text><line style=\"stroke: #383838; stroke-width: 1.5;\" x1=\"33\" x2=\"101\" y1=\"199.9063\" y2=\"199.9063\"/></a><!--MD5=[fd4143e9d270a159db93a4ea2a975926]\n",
       "class E9--><a href=\"psysml:572dfe4e-6d7c-4ba8-94a3-d7ce0272bed9\" target=\"_top\" title=\"psysml:572dfe4e-6d7c-4ba8-94a3-d7ce0272bed9\" xlink:actuate=\"onRequest\" xlink:href=\"psysml:572dfe4e-6d7c-4ba8-94a3-d7ce0272bed9\" xlink:show=\"new\" xlink:title=\"psysml:572dfe4e-6d7c-4ba8-94a3-d7ce0272bed9\" xlink:type=\"simple\"><rect fill=\"#FFFFFF\" height=\"88.3516\" id=\"E9\" rx=\"10\" ry=\"10\" style=\"stroke: #383838; stroke-width: 1.5;\" width=\"77\" x=\"32.5\" y=\"285\"/><text fill=\"#000000\" font-family=\"sans-serif\" font-size=\"12\" font-style=\"italic\" lengthAdjust=\"spacingAndGlyphs\" textLength=\"75\" x=\"33.5\" y=\"301.1387\">«reference»</text><text fill=\"#000000\" font-family=\"sans-serif\" font-size=\"12\" lengthAdjust=\"spacingAndGlyphs\" textLength=\"8\" x=\"67\" y=\"315.1074\">q</text><line style=\"stroke: #383838; stroke-width: 1.5;\" x1=\"33.5\" x2=\"108.5\" y1=\"322.9375\" y2=\"322.9375\"/><text fill=\"#000000\" font-family=\"sans-serif\" font-size=\"11\" lengthAdjust=\"spacingAndGlyphs\" textLength=\"23\" x=\"38.5\" y=\"353.9526\">b: B</text><text fill=\"#000000\" font-family=\"sans-serif\" font-size=\"11\" font-style=\"italic\" lengthAdjust=\"spacingAndGlyphs\" textLength=\"44\" x=\"38.5\" y=\"366.7573\">:&gt;&gt;P::a</text><line style=\"stroke: #383838; stroke-width: 1.0;\" x1=\"33.5\" x2=\"43.5\" y1=\"337.3398\" y2=\"337.3398\"/><text fill=\"#000000\" font-family=\"sans-serif\" font-size=\"11\" lengthAdjust=\"spacingAndGlyphs\" textLength=\"55\" x=\"43.5\" y=\"340.6479\">attributes</text><line style=\"stroke: #383838; stroke-width: 1.0;\" x1=\"98.5\" x2=\"108.5\" y1=\"337.3398\" y2=\"337.3398\"/></a><!--MD5=[96f4274e9e20536e775497830990834d]\n",
       "class E10--><a href=\"psysml:983a8093-9810-4637-96cc-9ee8fb3d9cf5\" target=\"_top\" title=\"psysml:983a8093-9810-4637-96cc-9ee8fb3d9cf5\" xlink:actuate=\"onRequest\" xlink:href=\"psysml:983a8093-9810-4637-96cc-9ee8fb3d9cf5\" xlink:show=\"new\" xlink:title=\"psysml:983a8093-9810-4637-96cc-9ee8fb3d9cf5\" xlink:type=\"simple\"><rect fill=\"#FFFFFF\" height=\"45.9375\" id=\"E10\" rx=\"10\" ry=\"10\" style=\"stroke: #383838; stroke-width: 1.5;\" width=\"42\" x=\"238\" y=\"155\"/><text fill=\"#000000\" font-family=\"sans-serif\" font-size=\"12\" font-style=\"italic\" lengthAdjust=\"spacingAndGlyphs\" textLength=\"40\" x=\"239\" y=\"171.1387\">«part»</text><text fill=\"#000000\" font-family=\"sans-serif\" font-size=\"12\" lengthAdjust=\"spacingAndGlyphs\" textLength=\"22\" x=\"248\" y=\"185.1074\">y: P</text><line style=\"stroke: #383838; stroke-width: 1.5;\" x1=\"239\" x2=\"279\" y1=\"192.9375\" y2=\"192.9375\"/></a><!--MD5=[05d275557350bfb9b23a4ef7222b4c39]\n",
       "link E3 to E2--><a href=\"psysml:9e57242c-9184-4252-9565-bec20c63fdb8\" target=\"_top\" title=\"psysml:9e57242c-9184-4252-9565-bec20c63fdb8\" xlink:actuate=\"onRequest\" xlink:href=\"psysml:9e57242c-9184-4252-9565-bec20c63fdb8\" xlink:show=\"new\" xlink:title=\"psysml:9e57242c-9184-4252-9565-bec20c63fdb8\" xlink:type=\"simple\"><path d=\"M174.34,201.31 C177.92,219.67 183.15,246.54 187.87,270.81 \" fill=\"none\" id=\"E3-&gt;E2\" style=\"stroke: #383838; stroke-width: 1.0;\"/><polygon fill=\"none\" points=\"194.8,269.8,191.75,290.77,181.06,272.47,194.8,269.8\" style=\"stroke: #383838; stroke-width: 1.0;\"/></a><!--MD5=[15ebcb19ae302d9b601edb458606d402]\n",
       "link E5 to E2--><a href=\"psysml:5cdbdbe7-d14c-45c9-a804-61f18115238e\" target=\"_top\" title=\"psysml:5cdbdbe7-d14c-45c9-a804-61f18115238e\" xlink:actuate=\"onRequest\" xlink:href=\"psysml:5cdbdbe7-d14c-45c9-a804-61f18115238e\" xlink:show=\"new\" xlink:title=\"psysml:5cdbdbe7-d14c-45c9-a804-61f18115238e\" xlink:type=\"simple\"><path d=\"M325.69,201.31 C304.9,222.1 273.2,253.8 246.71,280.29 \" fill=\"none\" id=\"E5-&gt;E2\" style=\"stroke: #383838; stroke-width: 1.0;\"/><polygon fill=\"none\" points=\"251.33,285.57,232.24,294.76,241.43,275.67,251.33,285.57\" style=\"stroke: #383838; stroke-width: 1.0;\"/></a><!--MD5=[9120cf2e5df3bff93db8f754bbbc09b4]\n",
       "link E5 to E6--><a href=\"psysml:052c6ce9-d9db-4da6-90c4-ac16555550ac\" target=\"_top\" title=\"psysml:052c6ce9-d9db-4da6-90c4-ac16555550ac\" xlink:actuate=\"onRequest\" xlink:href=\"psysml:052c6ce9-d9db-4da6-90c4-ac16555550ac\" xlink:show=\"new\" xlink:title=\"psysml:052c6ce9-d9db-4da6-90c4-ac16555550ac\" xlink:type=\"simple\"><path d=\"M341.72,211.26 C338.1,229.85 333.47,253.68 329.32,274.95 \" fill=\"none\" id=\"E5-E6\" style=\"stroke: #383838; stroke-width: 1.0;\"/><polygon fill=\"#383838\" points=\"327.4,284.84,331.8761,277.5623,325.987,276.4136,327.4,284.84\" style=\"stroke: #383838; stroke-width: 1.0;\"/><path d=\"M334.7699,202.7122 A9,9 0 0 0 351.3715 205.9503\" fill=\"none\" style=\"stroke: #383838; stroke-width: 1.5;\"/><text fill=\"#000000\" font-family=\"sans-serif\" font-size=\"13\" lengthAdjust=\"spacingAndGlyphs\" textLength=\"60\" x=\"337\" y=\"251.0669\">«variant»</text></a><!--MD5=[14ccda38c055a5c0da953d572bc50960]\n",
       "link E7 to E3--><a href=\"psysml:648145d1-1ec9-42fc-8307-fa8910350658\" target=\"_top\" title=\"psysml:648145d1-1ec9-42fc-8307-fa8910350658\" xlink:actuate=\"onRequest\" xlink:href=\"psysml:648145d1-1ec9-42fc-8307-fa8910350658\" xlink:show=\"new\" xlink:title=\"psysml:648145d1-1ec9-42fc-8307-fa8910350658\" xlink:type=\"simple\"><path d=\"M170,87.13 C170,100.7 170,118.53 170,134.73 \" fill=\"none\" id=\"E7-&gt;E3\" style=\"stroke: #383838; stroke-width: 1.0;\"/><polygon fill=\"#FFFFFF\" points=\"170,154.92,163,135.92,177,135.92,170,154.92\" style=\"stroke: #383838; stroke-width: 1.0;\"/><ellipse cx=\"165\" cy=\"130.22\" fill=\"#383838\" rx=\"2\" ry=\"2\" style=\"stroke: #383838; stroke-width: 1.0;\"/><ellipse cx=\"175\" cy=\"130.22\" fill=\"#383838\" rx=\"2\" ry=\"2\" style=\"stroke: #383838; stroke-width: 1.0;\"/></a><!--MD5=[f1f3f9f2fc535e6147756cb86a7f2e32]\n",
       "link E8 to E2--><a href=\"psysml:19cda0c9-2775-4d9d-8cd8-191c5ad52b34\" target=\"_top\" title=\"psysml:19cda0c9-2775-4d9d-8cd8-191c5ad52b34\" xlink:actuate=\"onRequest\" xlink:href=\"psysml:19cda0c9-2775-4d9d-8cd8-191c5ad52b34\" xlink:show=\"new\" xlink:title=\"psysml:19cda0c9-2775-4d9d-8cd8-191c5ad52b34\" xlink:type=\"simple\"><path d=\"M102.17,204.39 C114.52,214.17 128.04,225.9 139,238 C148.86,248.88 158.29,261.5 166.63,273.79 \" fill=\"none\" id=\"E8-&gt;E2\" style=\"stroke: #383838; stroke-width: 1.0;\"/><polygon fill=\"#FFFFFF\" points=\"177.64,290.73,161.4168,278.6135,173.1555,270.9844,177.64,290.73\" style=\"stroke: #383838; stroke-width: 1.0;\"/><ellipse cx=\"159.9876\" cy=\"272.7443\" fill=\"#383838\" rx=\"2\" ry=\"2\" style=\"stroke: #383838; stroke-width: 1.0;\"/><ellipse cx=\"168.3724\" cy=\"267.2949\" fill=\"#383838\" rx=\"2\" ry=\"2\" style=\"stroke: #383838; stroke-width: 1.0;\"/></a><!--MD5=[ed10624c06dd9a4fa49ccf290e8b16a8]\n",
       "link E8 to E9--><a href=\"psysml:28d39c7a-e0c7-42b0-858e-2cb4e488f108\" target=\"_top\" title=\"psysml:28d39c7a-e0c7-42b0-858e-2cb4e488f108\" xlink:actuate=\"onRequest\" xlink:href=\"psysml:28d39c7a-e0c7-42b0-858e-2cb4e488f108\" xlink:show=\"new\" xlink:title=\"psysml:28d39c7a-e0c7-42b0-858e-2cb4e488f108\" xlink:type=\"simple\"><path d=\"M68.06,218.32 C68.52,235.6 69.07,256.15 69.57,274.77 \" fill=\"none\" id=\"E8-E9\" style=\"stroke: #383838; stroke-width: 1.0;\"/><polygon fill=\"#383838\" points=\"69.84,284.88,72.6331,276.8054,66.6351,276.9599,69.84,284.88\" style=\"stroke: #383838; stroke-width: 1.0;\"/><path d=\"M59.4094,211.3865 A9,9 0 0 0 76.3176 210.9276\" fill=\"none\" style=\"stroke: #383838; stroke-width: 1.5;\"/><text fill=\"#000000\" font-family=\"sans-serif\" font-size=\"13\" lengthAdjust=\"spacingAndGlyphs\" textLength=\"60\" x=\"70\" y=\"251.0669\">«variant»</text></a><!--MD5=[0f36bececdf0dff6e600d6f64214b0f1]\n",
       "link E10 to E2--><a href=\"psysml:8cfcd01d-a74f-43be-a680-d41b6ee6accc\" target=\"_top\" title=\"psysml:8cfcd01d-a74f-43be-a680-d41b6ee6accc\" xlink:actuate=\"onRequest\" xlink:href=\"psysml:8cfcd01d-a74f-43be-a680-d41b6ee6accc\" xlink:show=\"new\" xlink:title=\"psysml:8cfcd01d-a74f-43be-a680-d41b6ee6accc\" xlink:type=\"simple\"><path d=\"M250.02,201.31 C242.51,219.95 231.48,247.35 221.59,271.91 \" fill=\"none\" id=\"E10-&gt;E2\" style=\"stroke: #383838; stroke-width: 1.0;\"/><polygon fill=\"#FFFFFF\" points=\"213.99,290.77,214.5927,270.5305,227.5796,275.7593,213.99,290.77\" style=\"stroke: #383838; stroke-width: 1.0;\"/><ellipse cx=\"218.5768\" cy=\"265.9899\" fill=\"#383838\" rx=\"2\" ry=\"2\" style=\"stroke: #383838; stroke-width: 1.0;\"/><ellipse cx=\"227.8532\" cy=\"269.7248\" fill=\"#383838\" rx=\"2\" ry=\"2\" style=\"stroke: #383838; stroke-width: 1.0;\"/></a><!--MD5=[a217e4e4759a485a6a525c90a3cd304d]\n",
       "@startuml\r\n",
       "skinparam monochrome true\r\n",
       "skinparam classbackgroundcolor white\r\n",
       "skinparam shadowing false\r\n",
       "skinparam wrapWidth 300\r\n",
       "hide circle\r\n",
       "\r\n",
       "package \"VariabilityTest\" as E1  [[psysml:c9192910-aa77-45a9-9ae3-16f7deb9d13d ]]  {\r\n",
       "comp def \"P\" as E2  <<(T,blue)part def>> [[psysml:28b4b804-815b-4815-9c5e-e5b09d6ccef7 ]] {\r\n",
       "- - attributes - -\r\n",
       "a\r\n",
       "}\r\n",
       "comp def \"Q\" as E3  <<(T,blue)part def>> [[psysml:3556ece0-f840-441c-8cd2-5d7027a1a805 ]] {\r\n",
       "}\r\n",
       "comp def \"B\" as E4  <<(T,blue)attribute def>> [[psysml:c1ea47d2-f15e-4f05-bf93-ec81669ca641 ]] {\r\n",
       "}\r\n",
       "comp def \"V\" as E5  <<(T,blue)part def>> [[psysml:735cd89a-e4b2-4dc5-b3d6-41534f400f39 ]] {\r\n",
       "}\r\n",
       "comp usage \"x: Q\" as E6  <<(T,blue)part>> [[psysml:0400016e-70f0-4405-a71c-97e49bd60e65 ]] {\r\n",
       "- - attributes - -\r\n",
       "b: B\\n//:>>P::a// \r\n",
       "}\r\n",
       "comp usage \"q: Q\" as E7  <<(T,blue)part>> [[psysml:ac43cc4c-8177-486e-b5a5-e877f62f9bc5 ]] {\r\n",
       "}\r\n",
       "comp usage \"v: P\" as E8  <<variation>>\\n <<(T,blue)part>> [[psysml:ce952eae-8bb1-4ad0-9f02-4c42d4c1d0c7 ]] {\r\n",
       "}\r\n",
       "comp usage \"q\" as E9  <<(T,blue)reference>> [[psysml:572dfe4e-6d7c-4ba8-94a3-d7ce0272bed9 ]] {\r\n",
       "- - attributes - -\r\n",
       "b: B\\n//:>>P::a// \r\n",
       "}\r\n",
       "comp usage \"y: P\" as E10  <<(T,blue)part>> [[psysml:983a8093-9810-4637-96cc-9ee8fb3d9cf5 ]] {\r\n",
       "}\r\n",
       "E3 - -|> E2 [[psysml:9e57242c-9184-4252-9565-bec20c63fdb8 ]] \r\n",
       "E5 - -|> E2 [[psysml:5cdbdbe7-d14c-45c9-a804-61f18115238e ]] \r\n",
       "E5 )- ->> E6 [[psysml:052c6ce9-d9db-4da6-90c4-ac16555550ac ]] : <<variant>>\r\n",
       "E7 - -:|> E3 [[psysml:648145d1-1ec9-42fc-8307-fa8910350658 ]] \r\n",
       "E8 - -:|> E2 [[psysml:19cda0c9-2775-4d9d-8cd8-191c5ad52b34 ]] \r\n",
       "E8 )- ->> E9 [[psysml:28d39c7a-e0c7-42b0-858e-2cb4e488f108 ]] : <<variant>>\r\n",
       "E10 - -:|> E2 [[psysml:8cfcd01d-a74f-43be-a680-d41b6ee6accc ]] \r\n",
       "}\r\n",
       "@enduml\r\n",
       "\n",
       "PlantUML version 1.2020.13(Sat Jun 13 12:26:38 UTC 2020)\n",
       "(EPL source distribution)\n",
       "Java Runtime: OpenJDK Runtime Environment\n",
       "JVM: OpenJDK 64-Bit Server VM\n",
       "Default Encoding: UTF-8\n",
       "Language: en\n",
       "Country: null\n",
       "--></g></svg>"
      ]
     },
     "execution_count": 38,
     "metadata": {},
     "output_type": "execute_result"
    }
   ],
   "source": [
    "%viz --style=\"DEFAULT\" --view=\"Tree\" \"VariabilityTest\""
   ]
  },
  {
   "cell_type": "code",
   "execution_count": 39,
   "id": "f1ebca98",
   "metadata": {
    "execution": {
     "iopub.execute_input": "2021-05-28T10:47:57.530977Z",
     "iopub.status.busy": "2021-05-28T10:47:57.530473Z",
     "iopub.status.idle": "2021-05-28T10:47:57.536934Z",
     "shell.execute_reply": "2021-05-28T10:47:57.536131Z"
    }
   },
   "outputs": [
    {
     "data": {
      "image/svg+xml": [
       "<?xml version=\"1.0\" encoding=\"UTF-8\" standalone=\"no\"?><svg xmlns=\"http://www.w3.org/2000/svg\" xmlns:xlink=\"http://www.w3.org/1999/xlink\" contentScriptType=\"application/ecmascript\" contentStyleType=\"text/css\" height=\"12px\" preserveAspectRatio=\"none\" style=\"width:12px;height:12px;\" version=\"1.1\" viewBox=\"0 0 12 12\" width=\"12px\" zoomAndPan=\"magnify\"><defs/><g><!--MD5=[c5f280e076d0d61ccf4b0f27871bda1d]\n",
       "@startuml\r\n",
       "skinparam monochrome true\r\n",
       "skinparam classbackgroundcolor white\r\n",
       "skinparam shadowing false\r\n",
       "skinparam wrapWidth 300\r\n",
       "hide circle\r\n",
       "\r\n",
       "@enduml\r\n",
       "\n",
       "PlantUML version 1.2020.13(Sat Jun 13 12:26:38 UTC 2020)\n",
       "(EPL source distribution)\n",
       "Java Runtime: OpenJDK Runtime Environment\n",
       "JVM: OpenJDK 64-Bit Server VM\n",
       "Default Encoding: UTF-8\n",
       "Language: en\n",
       "Country: null\n",
       "--></g></svg>"
      ]
     },
     "execution_count": 39,
     "metadata": {},
     "output_type": "execute_result"
    }
   ],
   "source": [
    "%viz --style=\"DEFAULT\" --view=\"State\" \"VariabilityTest\""
   ]
  },
  {
   "cell_type": "code",
   "execution_count": 40,
   "id": "6222b9cc",
   "metadata": {
    "execution": {
     "iopub.execute_input": "2021-05-28T10:47:57.588566Z",
     "iopub.status.busy": "2021-05-28T10:47:57.588187Z",
     "iopub.status.idle": "2021-05-28T10:47:57.663143Z",
     "shell.execute_reply": "2021-05-28T10:47:57.661654Z"
    }
   },
   "outputs": [
    {
     "data": {
      "image/svg+xml": [
       "<?xml version=\"1.0\" encoding=\"UTF-8\" standalone=\"no\"?><svg xmlns=\"http://www.w3.org/2000/svg\" xmlns:xlink=\"http://www.w3.org/1999/xlink\" contentScriptType=\"application/ecmascript\" contentStyleType=\"text/css\" height=\"427px\" preserveAspectRatio=\"none\" style=\"width:779px;height:427px;\" version=\"1.1\" viewBox=\"0 0 779 427\" width=\"779px\" zoomAndPan=\"magnify\"><defs/><g><!--MD5=[fbc87193dbaf4d95561dea2c320d4a47]\n",
       "cluster E1--><a href=\"psysml:c9192910-aa77-45a9-9ae3-16f7deb9d13d\" target=\"_top\" title=\"psysml:c9192910-aa77-45a9-9ae3-16f7deb9d13d\" xlink:actuate=\"onRequest\" xlink:href=\"psysml:c9192910-aa77-45a9-9ae3-16f7deb9d13d\" xlink:show=\"new\" xlink:title=\"psysml:c9192910-aa77-45a9-9ae3-16f7deb9d13d\" xlink:type=\"simple\"><polygon fill=\"#FFFFFF\" points=\"16,6,134,6,141,28.2969,757,28.2969,757,415,16,415,16,6\" style=\"stroke: #000000; stroke-width: 1.5;\"/><line style=\"stroke: #000000; stroke-width: 1.5;\" x1=\"16\" x2=\"141\" y1=\"28.2969\" y2=\"28.2969\"/><text fill=\"#000000\" font-family=\"sans-serif\" font-size=\"14\" font-weight=\"bold\" lengthAdjust=\"spacingAndGlyphs\" textLength=\"112\" x=\"20\" y=\"20.9951\">VariabilityTest</text></a><!--MD5=[e4f7fae6ed58524ba242bb0b0d3be6b7]\n",
       "cluster E2--><a href=\"psysml:28b4b804-815b-4815-9c5e-e5b09d6ccef7\" target=\"_top\" title=\"psysml:28b4b804-815b-4815-9c5e-e5b09d6ccef7\" xlink:actuate=\"onRequest\" xlink:href=\"psysml:28b4b804-815b-4815-9c5e-e5b09d6ccef7\" xlink:show=\"new\" xlink:title=\"psysml:28b4b804-815b-4815-9c5e-e5b09d6ccef7\" xlink:type=\"simple\"><rect fill=\"#FFFFFF\" height=\"129\" id=\"E2\" style=\"stroke: #383838; stroke-width: 1.5;\" width=\"139\" x=\"420\" y=\"254\"/><rect fill=\"#F8F8F8\" height=\"37.9375\" style=\"stroke: #383838; stroke-width: 1.5;\" width=\"139\" x=\"420\" y=\"254\"/><text fill=\"#000000\" font-family=\"sans-serif\" font-size=\"12\" font-style=\"italic\" lengthAdjust=\"spacingAndGlyphs\" textLength=\"64\" x=\"457.5\" y=\"270.1387\">«part def»</text><text fill=\"#000000\" font-family=\"sans-serif\" font-size=\"12\" lengthAdjust=\"spacingAndGlyphs\" textLength=\"8\" x=\"485.5\" y=\"284.1074\">P</text></a><!--MD5=[14e3b0961a2654348d326746436168a1]\n",
       "cluster E6--><a href=\"psysml:735cd89a-e4b2-4dc5-b3d6-41534f400f39\" target=\"_top\" title=\"psysml:735cd89a-e4b2-4dc5-b3d6-41534f400f39\" xlink:actuate=\"onRequest\" xlink:href=\"psysml:735cd89a-e4b2-4dc5-b3d6-41534f400f39\" xlink:show=\"new\" xlink:title=\"psysml:735cd89a-e4b2-4dc5-b3d6-41534f400f39\" xlink:type=\"simple\"><rect fill=\"#FFFFFF\" height=\"157\" id=\"E6\" style=\"stroke: #383838; stroke-width: 1.5;\" width=\"131\" x=\"594\" y=\"57\"/><rect fill=\"#F8F8F8\" height=\"37.9375\" style=\"stroke: #383838; stroke-width: 1.5;\" width=\"131\" x=\"594\" y=\"57\"/><text fill=\"#000000\" font-family=\"sans-serif\" font-size=\"12\" font-style=\"italic\" lengthAdjust=\"spacingAndGlyphs\" textLength=\"64\" x=\"627.5\" y=\"73.1387\">«part def»</text><text fill=\"#000000\" font-family=\"sans-serif\" font-size=\"12\" lengthAdjust=\"spacingAndGlyphs\" textLength=\"8\" x=\"655.5\" y=\"87.1074\">V</text></a><!--MD5=[7f149f147074ac12df2cb0a7728a5fb0]\n",
       "cluster E9--><a href=\"psysml:ce952eae-8bb1-4ad0-9f02-4c42d4c1d0c7\" target=\"_top\" title=\"psysml:ce952eae-8bb1-4ad0-9f02-4c42d4c1d0c7\" xlink:actuate=\"onRequest\" xlink:href=\"psysml:ce952eae-8bb1-4ad0-9f02-4c42d4c1d0c7\" xlink:show=\"new\" xlink:title=\"psysml:ce952eae-8bb1-4ad0-9f02-4c42d4c1d0c7\" xlink:type=\"simple\"><rect fill=\"#FFFFFF\" height=\"155\" id=\"E9\" rx=\"10\" ry=\"10\" style=\"stroke: #383838; stroke-width: 1.5;\" width=\"110\" x=\"452\" y=\"58\"/><rect fill=\"#F8F8F8\" height=\"37.9375\" rx=\"10\" ry=\"10\" style=\"stroke: #F8F8F8; stroke-width: 1.5;\" width=\"110\" x=\"452\" y=\"58\"/><rect fill=\"#F8F8F8\" height=\"10\" style=\"stroke: #F8F8F8; stroke-width: 1.5;\" width=\"110\" x=\"452\" y=\"85.9375\"/><rect fill=\"none\" height=\"155\" id=\"E9\" rx=\"10\" ry=\"10\" style=\"stroke: #383838; stroke-width: 1.5;\" width=\"110\" x=\"452\" y=\"58\"/><text fill=\"#000000\" font-family=\"sans-serif\" font-size=\"12\" font-style=\"italic\" lengthAdjust=\"spacingAndGlyphs\" textLength=\"68\" x=\"473\" y=\"74.1387\">«variation»</text><text fill=\"#000000\" font-family=\"sans-serif\" font-size=\"12\" lengthAdjust=\"spacingAndGlyphs\" textLength=\"22\" x=\"496\" y=\"88.1074\">v: P</text><line style=\"stroke: #383838; stroke-width: 1.0;\" x1=\"452\" x2=\"562\" y1=\"95.9375\" y2=\"95.9375\"/></a><g id=\"E1.E5\"><a href=\"psysml:c1ea47d2-f15e-4f05-bf93-ec81669ca641\" target=\"_top\" title=\"psysml:c1ea47d2-f15e-4f05-bf93-ec81669ca641\" xlink:actuate=\"onRequest\" xlink:href=\"psysml:c1ea47d2-f15e-4f05-bf93-ec81669ca641\" xlink:show=\"new\" xlink:title=\"psysml:c1ea47d2-f15e-4f05-bf93-ec81669ca641\" xlink:type=\"simple\"><rect fill=\"#FFFFFF\" height=\"42.9375\" id=\"E5\" style=\"stroke: #383838; stroke-width: 1.5;\" width=\"100\" x=\"333\" y=\"131.5\"/><rect fill=\"#F8F8F8\" height=\"37.9375\" style=\"stroke: #383838; stroke-width: 1.5;\" width=\"100\" x=\"333\" y=\"131.5\"/><text fill=\"#000000\" font-family=\"sans-serif\" font-size=\"12\" font-style=\"italic\" lengthAdjust=\"spacingAndGlyphs\" textLength=\"93\" x=\"336.5\" y=\"147.6387\">«attribute def»</text><text fill=\"#000000\" font-family=\"sans-serif\" font-size=\"12\" lengthAdjust=\"spacingAndGlyphs\" textLength=\"8\" x=\"379\" y=\"161.6074\">B</text></a></g><!--MD5=[09b614a08d8cba4a07c9adeb5e0fee81]\n",
       "class E3--><a href=\"psysml:29e7d07c-e0ef-43b2-a175-0967043bb668\" target=\"_top\" title=\"psysml:29e7d07c-e0ef-43b2-a175-0967043bb668\" xlink:actuate=\"onRequest\" xlink:href=\"psysml:29e7d07c-e0ef-43b2-a175-0967043bb668\" xlink:show=\"new\" xlink:title=\"psysml:29e7d07c-e0ef-43b2-a175-0967043bb668\" xlink:type=\"simple\"><rect fill=\"#FFFFFF\" height=\"45.9375\" id=\"E3\" rx=\"10\" ry=\"10\" style=\"stroke: #383838; stroke-width: 1.5;\" width=\"71\" x=\"463.5\" y=\"313\"/><text fill=\"#000000\" font-family=\"sans-serif\" font-size=\"12\" font-style=\"italic\" lengthAdjust=\"spacingAndGlyphs\" textLength=\"69\" x=\"464.5\" y=\"329.1387\">«attribute»</text><text fill=\"#000000\" font-family=\"sans-serif\" font-size=\"12\" lengthAdjust=\"spacingAndGlyphs\" textLength=\"8\" x=\"495\" y=\"343.1074\">a</text><line style=\"stroke: #383838; stroke-width: 1.5;\" x1=\"464.5\" x2=\"533.5\" y1=\"350.9375\" y2=\"350.9375\"/></a><g id=\"E1.E4\"><a href=\"psysml:3556ece0-f840-441c-8cd2-5d7027a1a805\" target=\"_top\" title=\"psysml:3556ece0-f840-441c-8cd2-5d7027a1a805\" xlink:actuate=\"onRequest\" xlink:href=\"psysml:3556ece0-f840-441c-8cd2-5d7027a1a805\" xlink:show=\"new\" xlink:title=\"psysml:3556ece0-f840-441c-8cd2-5d7027a1a805\" xlink:type=\"simple\"><rect fill=\"#FFFFFF\" height=\"42.9375\" id=\"E4\" style=\"stroke: #383838; stroke-width: 1.5;\" width=\"71\" x=\"226.5\" y=\"131.5\"/><rect fill=\"#F8F8F8\" height=\"37.9375\" style=\"stroke: #383838; stroke-width: 1.5;\" width=\"71\" x=\"226.5\" y=\"131.5\"/><text fill=\"#000000\" font-family=\"sans-serif\" font-size=\"12\" font-style=\"italic\" lengthAdjust=\"spacingAndGlyphs\" textLength=\"64\" x=\"230\" y=\"147.6387\">«part def»</text><text fill=\"#000000\" font-family=\"sans-serif\" font-size=\"12\" lengthAdjust=\"spacingAndGlyphs\" textLength=\"9\" x=\"257.5\" y=\"161.6074\">Q</text></a></g><!--MD5=[2156ba9850f5573cc1fc38a6a4b2f02b]\n",
       "class E7--><a href=\"psysml:0400016e-70f0-4405-a71c-97e49bd60e65\" target=\"_top\" title=\"psysml:0400016e-70f0-4405-a71c-97e49bd60e65\" xlink:actuate=\"onRequest\" xlink:href=\"psysml:0400016e-70f0-4405-a71c-97e49bd60e65\" xlink:show=\"new\" xlink:title=\"psysml:0400016e-70f0-4405-a71c-97e49bd60e65\" xlink:type=\"simple\"><rect fill=\"#FFFFFF\" height=\"74.3828\" id=\"E7\" rx=\"10\" ry=\"10\" style=\"stroke: #383838; stroke-width: 1.5;\" width=\"63\" x=\"637.5\" y=\"116\"/><text fill=\"#000000\" font-family=\"sans-serif\" font-size=\"12\" lengthAdjust=\"spacingAndGlyphs\" textLength=\"23\" x=\"657.5\" y=\"132.1387\">x: Q</text><line style=\"stroke: #383838; stroke-width: 1.5;\" x1=\"638.5\" x2=\"699.5\" y1=\"139.9688\" y2=\"139.9688\"/><text fill=\"#000000\" font-family=\"sans-serif\" font-size=\"11\" lengthAdjust=\"spacingAndGlyphs\" textLength=\"23\" x=\"643.5\" y=\"170.9839\">b: B</text><text fill=\"#000000\" font-family=\"sans-serif\" font-size=\"11\" font-style=\"italic\" lengthAdjust=\"spacingAndGlyphs\" textLength=\"44\" x=\"643.5\" y=\"183.7886\">:&gt;&gt;P::a</text><line style=\"stroke: #383838; stroke-width: 1.0;\" x1=\"638.5\" x2=\"641.5\" y1=\"154.3711\" y2=\"154.3711\"/><text fill=\"#000000\" font-family=\"sans-serif\" font-size=\"11\" lengthAdjust=\"spacingAndGlyphs\" textLength=\"55\" x=\"641.5\" y=\"157.6792\">attributes</text><line style=\"stroke: #383838; stroke-width: 1.0;\" x1=\"696.5\" x2=\"699.5\" y1=\"154.3711\" y2=\"154.3711\"/></a><g id=\"E1.E8\"><a href=\"psysml:ac43cc4c-8177-486e-b5a5-e877f62f9bc5\" target=\"_top\" title=\"psysml:ac43cc4c-8177-486e-b5a5-e877f62f9bc5\" xlink:actuate=\"onRequest\" xlink:href=\"psysml:ac43cc4c-8177-486e-b5a5-e877f62f9bc5\" xlink:show=\"new\" xlink:title=\"psysml:ac43cc4c-8177-486e-b5a5-e877f62f9bc5\" xlink:type=\"simple\"><rect fill=\"#FFFFFF\" height=\"40\" id=\"E8\" rx=\"10\" ry=\"10\" style=\"stroke: #383838; stroke-width: 1.5;\" width=\"50\" x=\"141\" y=\"133\"/><rect fill=\"#F8F8F8\" height=\"23.9688\" rx=\"10\" ry=\"10\" style=\"stroke: #F8F8F8; stroke-width: 1.5;\" width=\"50\" x=\"141\" y=\"133\"/><rect fill=\"#F8F8F8\" height=\"10\" style=\"stroke: #F8F8F8; stroke-width: 1.5;\" width=\"50\" x=\"141\" y=\"146.9688\"/><rect fill=\"none\" height=\"40\" id=\"E8\" rx=\"10\" ry=\"10\" style=\"stroke: #383838; stroke-width: 1.5;\" width=\"50\" x=\"141\" y=\"133\"/><text fill=\"#000000\" font-family=\"sans-serif\" font-size=\"12\" lengthAdjust=\"spacingAndGlyphs\" textLength=\"25\" x=\"153.5\" y=\"149.1387\">q: Q</text></a></g><!--MD5=[96f4274e9e20536e775497830990834d]\n",
       "class E10--><a href=\"psysml:572dfe4e-6d7c-4ba8-94a3-d7ce0272bed9\" target=\"_top\" title=\"psysml:572dfe4e-6d7c-4ba8-94a3-d7ce0272bed9\" xlink:actuate=\"onRequest\" xlink:href=\"psysml:572dfe4e-6d7c-4ba8-94a3-d7ce0272bed9\" xlink:show=\"new\" xlink:title=\"psysml:572dfe4e-6d7c-4ba8-94a3-d7ce0272bed9\" xlink:type=\"simple\"><rect fill=\"#FFFFFF\" height=\"88.3516\" id=\"E10\" rx=\"10\" ry=\"10\" style=\"stroke: #383838; stroke-width: 1.5;\" width=\"77\" x=\"468.5\" y=\"109\"/><text fill=\"#000000\" font-family=\"sans-serif\" font-size=\"12\" font-style=\"italic\" lengthAdjust=\"spacingAndGlyphs\" textLength=\"75\" x=\"469.5\" y=\"125.1387\">«reference»</text><text fill=\"#000000\" font-family=\"sans-serif\" font-size=\"12\" lengthAdjust=\"spacingAndGlyphs\" textLength=\"8\" x=\"503\" y=\"139.1074\">q</text><line style=\"stroke: #383838; stroke-width: 1.5;\" x1=\"469.5\" x2=\"544.5\" y1=\"146.9375\" y2=\"146.9375\"/><text fill=\"#000000\" font-family=\"sans-serif\" font-size=\"11\" lengthAdjust=\"spacingAndGlyphs\" textLength=\"23\" x=\"474.5\" y=\"177.9526\">b: B</text><text fill=\"#000000\" font-family=\"sans-serif\" font-size=\"11\" font-style=\"italic\" lengthAdjust=\"spacingAndGlyphs\" textLength=\"44\" x=\"474.5\" y=\"190.7573\">:&gt;&gt;P::a</text><line style=\"stroke: #383838; stroke-width: 1.0;\" x1=\"469.5\" x2=\"479.5\" y1=\"161.3398\" y2=\"161.3398\"/><text fill=\"#000000\" font-family=\"sans-serif\" font-size=\"11\" lengthAdjust=\"spacingAndGlyphs\" textLength=\"55\" x=\"479.5\" y=\"164.6479\">attributes</text><line style=\"stroke: #383838; stroke-width: 1.0;\" x1=\"534.5\" x2=\"544.5\" y1=\"161.3398\" y2=\"161.3398\"/></a><g id=\"E1.E11\"><a href=\"psysml:983a8093-9810-4637-96cc-9ee8fb3d9cf5\" target=\"_top\" title=\"psysml:983a8093-9810-4637-96cc-9ee8fb3d9cf5\" xlink:actuate=\"onRequest\" xlink:href=\"psysml:983a8093-9810-4637-96cc-9ee8fb3d9cf5\" xlink:show=\"new\" xlink:title=\"psysml:983a8093-9810-4637-96cc-9ee8fb3d9cf5\" xlink:type=\"simple\"><rect fill=\"#FFFFFF\" height=\"40\" id=\"E11\" rx=\"10\" ry=\"10\" style=\"stroke: #383838; stroke-width: 1.5;\" width=\"73\" x=\"32.5\" y=\"133\"/><rect fill=\"#F8F8F8\" height=\"23.9688\" rx=\"10\" ry=\"10\" style=\"stroke: #F8F8F8; stroke-width: 1.5;\" width=\"73\" x=\"32.5\" y=\"133\"/><rect fill=\"#F8F8F8\" height=\"10\" style=\"stroke: #F8F8F8; stroke-width: 1.5;\" width=\"73\" x=\"32.5\" y=\"146.9688\"/><rect fill=\"none\" height=\"40\" id=\"E11\" rx=\"10\" ry=\"10\" style=\"stroke: #383838; stroke-width: 1.5;\" width=\"73\" x=\"32.5\" y=\"133\"/><text fill=\"#000000\" font-family=\"sans-serif\" font-size=\"12\" lengthAdjust=\"spacingAndGlyphs\" textLength=\"58\" x=\"38\" y=\"149.1387\">y: P=v::q;</text></a></g><!--MD5=[185131fc0dcab0a4505a2ebe144e961b]\n",
       "link E4 to E2--><a href=\"psysml:9e57242c-9184-4252-9565-bec20c63fdb8\" target=\"_top\" title=\"psysml:9e57242c-9184-4252-9565-bec20c63fdb8\" xlink:actuate=\"onRequest\" xlink:href=\"psysml:9e57242c-9184-4252-9565-bec20c63fdb8\" xlink:show=\"new\" xlink:title=\"psysml:9e57242c-9184-4252-9565-bec20c63fdb8\" xlink:type=\"simple\"><path d=\"M274.95,174.5 C285.29,190.29 300.57,212.32 316,230 C338.085,255.3 365.5625,281.1325 387.7738,300.8438 C398.8794,310.6994 408.6684,319.0247 415.8086,324.988 C416.7011,325.7334 417.5522,326.4419 418.3594,327.1119 C418.763,327.4468 419.1555,327.7722 419.5368,328.0877 C419.6321,328.1666 419.7267,328.2449 419.8206,328.3225 \" fill=\"none\" id=\"E4-&gt;E2\" style=\"stroke: #383838; stroke-width: 1.0;\"/><polygon fill=\"#FFFFFF\" points=\"419.8206,328.3225,409.6398,310.8196,400.7177,321.6083,419.8206,328.3225\" style=\"stroke: #383838; stroke-width: 1.0;\"/></a><!--MD5=[2351f337d6de0f557b50152ba70847b5]\n",
       "link E6 to E2--><a href=\"psysml:5cdbdbe7-d14c-45c9-a804-61f18115238e\" target=\"_top\" title=\"psysml:5cdbdbe7-d14c-45c9-a804-61f18115238e\" xlink:actuate=\"onRequest\" xlink:href=\"psysml:5cdbdbe7-d14c-45c9-a804-61f18115238e\" xlink:show=\"new\" xlink:title=\"psysml:5cdbdbe7-d14c-45c9-a804-61f18115238e\" xlink:type=\"simple\"><path d=\"M593.9695,184.2276 C593.7875,184.724 593.6019,185.2229 593.4125,185.7238 C587.3525,201.7525 577.485,219.9 562,230 C540.54,243.99 466.2,221.04 447,238 C442.9488,241.5788 439.6069,245.7455 436.8611,250.3013 C436.1747,251.4402 435.5255,252.6035 434.9118,253.788 \" fill=\"none\" id=\"E6-&gt;E2\" style=\"stroke: #383838; stroke-width: 1.0;\"/><polygon fill=\"#FFFFFF\" points=\"434.9118,253.788,449.8677,240.138,437.4371,233.6976,434.9118,253.788\" style=\"stroke: #383838; stroke-width: 1.0;\"/></a><!--MD5=[9318ac39af80a8c41811a62898a8ec85]\n",
       "@startuml\r\n",
       "skinparam ranksep 10\r\n",
       "skinparam rectangle {\r\n",
       " backgroundColor<<block>> LightGreen\r\n",
       "}\r\n",
       "skinparam monochrome true\r\n",
       "skinparam classbackgroundcolor white\r\n",
       "skinparam shadowing false\r\n",
       "skinparam wrapWidth 300\r\n",
       "hide circle\r\n",
       "\r\n",
       "package \"VariabilityTest\" as E1  [[psysml:c9192910-aa77-45a9-9ae3-16f7deb9d13d ]]  {\r\n",
       "rec def \"P\" as E2  <<(T,blue)part def>> [[psysml:28b4b804-815b-4815-9c5e-e5b09d6ccef7 ]] {\r\n",
       "comp usage \"a\" as E3  <<(T,blue)attribute>> [[psysml:29e7d07c-e0ef-43b2-a175-0967043bb668 ]] {\r\n",
       "}\r\n",
       "}\r\n",
       "rec def \"Q\" as E4  <<(T,blue)part def>> [[psysml:3556ece0-f840-441c-8cd2-5d7027a1a805 ]] {\r\n",
       "}\r\n",
       "def \"B\" as E5  <<(T,blue)attribute def>> [[psysml:c1ea47d2-f15e-4f05-bf93-ec81669ca641 ]] \r\n",
       "rec def \"V\" as E6  <<(T,blue)part def>> [[psysml:735cd89a-e4b2-4dc5-b3d6-41534f400f39 ]] {\r\n",
       "comp usage \"x: Q\" as E7  [[psysml:0400016e-70f0-4405-a71c-97e49bd60e65 ]] {\r\n",
       "- - attributes - -\r\n",
       "b: B\\n//:>>P::a// \r\n",
       "}\r\n",
       "}\r\n",
       "rec usage \"q: Q\" as E8  [[psysml:ac43cc4c-8177-486e-b5a5-e877f62f9bc5 ]] {\r\n",
       "}\r\n",
       "rec usage \"v: P\" as E9  <<variation>> [[psysml:ce952eae-8bb1-4ad0-9f02-4c42d4c1d0c7 ]] {\r\n",
       "comp usage \"q\" as E10  <<(T,blue)reference>> [[psysml:572dfe4e-6d7c-4ba8-94a3-d7ce0272bed9 ]] {\r\n",
       "- - attributes - -\r\n",
       "b: B\\n//:>>P::a// \r\n",
       "}\r\n",
       "}\r\n",
       "rec usage \"y: P=v::q; \" as E11  [[psysml:983a8093-9810-4637-96cc-9ee8fb3d9cf5 ]] {\r\n",
       "}\r\n",
       "E4 - -|> E2 [[psysml:9e57242c-9184-4252-9565-bec20c63fdb8 ]] \r\n",
       "E6 - -|> E2 [[psysml:5cdbdbe7-d14c-45c9-a804-61f18115238e ]] \r\n",
       "}\r\n",
       "@enduml\r\n",
       "\n",
       "PlantUML version 1.2020.13(Sat Jun 13 12:26:38 UTC 2020)\n",
       "(EPL source distribution)\n",
       "Java Runtime: OpenJDK Runtime Environment\n",
       "JVM: OpenJDK 64-Bit Server VM\n",
       "Default Encoding: UTF-8\n",
       "Language: en\n",
       "Country: null\n",
       "--></g></svg>"
      ]
     },
     "execution_count": 40,
     "metadata": {},
     "output_type": "execute_result"
    }
   ],
   "source": [
    "%viz --style=\"DEFAULT\" --view=\"Interconnection\" \"VariabilityTest\""
   ]
  },
  {
   "cell_type": "code",
   "execution_count": 41,
   "id": "a6f2d06d",
   "metadata": {
    "execution": {
     "iopub.execute_input": "2021-05-28T10:47:57.717117Z",
     "iopub.status.busy": "2021-05-28T10:47:57.716430Z",
     "iopub.status.idle": "2021-05-28T10:47:57.718098Z",
     "shell.execute_reply": "2021-05-28T10:47:57.716766Z"
    }
   },
   "outputs": [
    {
     "data": {
      "image/svg+xml": [
       "<?xml version=\"1.0\" encoding=\"UTF-8\" standalone=\"no\"?><svg xmlns=\"http://www.w3.org/2000/svg\" xmlns:xlink=\"http://www.w3.org/1999/xlink\" contentScriptType=\"application/ecmascript\" contentStyleType=\"text/css\" height=\"12px\" preserveAspectRatio=\"none\" style=\"width:12px;height:12px;\" version=\"1.1\" viewBox=\"0 0 12 12\" width=\"12px\" zoomAndPan=\"magnify\"><defs/><g><!--MD5=[388f21188e31bfdd97050473b19af356]\n",
       "@startuml\r\n",
       "skinparam ranksep 8\r\n",
       "skinparam monochrome true\r\n",
       "skinparam classbackgroundcolor white\r\n",
       "skinparam shadowing false\r\n",
       "skinparam wrapWidth 300\r\n",
       "hide circle\r\n",
       "\r\n",
       "@enduml\r\n",
       "\n",
       "PlantUML version 1.2020.13(Sat Jun 13 12:26:38 UTC 2020)\n",
       "(EPL source distribution)\n",
       "Java Runtime: OpenJDK Runtime Environment\n",
       "JVM: OpenJDK 64-Bit Server VM\n",
       "Default Encoding: UTF-8\n",
       "Language: en\n",
       "Country: null\n",
       "--></g></svg>"
      ]
     },
     "execution_count": 41,
     "metadata": {},
     "output_type": "execute_result"
    }
   ],
   "source": [
    "%viz --style=\"DEFAULT\" --view=\"Action\" \"VariabilityTest\""
   ]
  },
  {
   "cell_type": "code",
   "execution_count": 42,
   "id": "854cc99e",
   "metadata": {
    "execution": {
     "iopub.execute_input": "2021-05-28T10:47:57.786272Z",
     "iopub.status.busy": "2021-05-28T10:47:57.776515Z",
     "iopub.status.idle": "2021-05-28T10:47:57.850138Z",
     "shell.execute_reply": "2021-05-28T10:47:57.849795Z"
    }
   },
   "outputs": [
    {
     "data": {
      "image/svg+xml": [
       "<?xml version=\"1.0\" encoding=\"UTF-8\" standalone=\"no\"?><svg xmlns=\"http://www.w3.org/2000/svg\" xmlns:xlink=\"http://www.w3.org/1999/xlink\" contentScriptType=\"application/ecmascript\" contentStyleType=\"text/css\" height=\"401px\" preserveAspectRatio=\"none\" style=\"width:419px;height:401px;\" version=\"1.1\" viewBox=\"0 0 419 401\" width=\"419px\" zoomAndPan=\"magnify\"><defs/><g><!--MD5=[fbc87193dbaf4d95561dea2c320d4a47]\n",
       "cluster E1--><a href=\"psysml:c9192910-aa77-45a9-9ae3-16f7deb9d13d\" target=\"_top\" title=\"psysml:c9192910-aa77-45a9-9ae3-16f7deb9d13d\" xlink:actuate=\"onRequest\" xlink:href=\"psysml:c9192910-aa77-45a9-9ae3-16f7deb9d13d\" xlink:show=\"new\" xlink:title=\"psysml:c9192910-aa77-45a9-9ae3-16f7deb9d13d\" xlink:type=\"simple\"><polygon fill=\"#FFFFFF\" points=\"16,6,134,6,141,28.2969,397,28.2969,397,389,16,389,16,6\" style=\"stroke: #000000; stroke-width: 1.5;\"/><line style=\"stroke: #000000; stroke-width: 1.5;\" x1=\"16\" x2=\"141\" y1=\"28.2969\" y2=\"28.2969\"/><text fill=\"#000000\" font-family=\"sans-serif\" font-size=\"14\" font-weight=\"bold\" lengthAdjust=\"spacingAndGlyphs\" textLength=\"112\" x=\"20\" y=\"20.9951\">VariabilityTest</text></a><!--MD5=[b4997ac47864f28c2f74865a473b2911]\n",
       "class E2--><a href=\"psysml:28b4b804-815b-4815-9c5e-e5b09d6ccef7\" target=\"_top\" title=\"psysml:28b4b804-815b-4815-9c5e-e5b09d6ccef7\" xlink:actuate=\"onRequest\" xlink:href=\"psysml:28b4b804-815b-4815-9c5e-e5b09d6ccef7\" xlink:show=\"new\" xlink:title=\"psysml:28b4b804-815b-4815-9c5e-e5b09d6ccef7\" xlink:type=\"simple\"><rect fill=\"#FFFFFF\" height=\"75.5469\" id=\"E2\" style=\"stroke: #383838; stroke-width: 1.5;\" width=\"66\" x=\"166\" y=\"291\"/><text fill=\"#000000\" font-family=\"sans-serif\" font-size=\"12\" font-style=\"italic\" lengthAdjust=\"spacingAndGlyphs\" textLength=\"64\" x=\"167\" y=\"307.1387\">«part def»</text><text fill=\"#000000\" font-family=\"sans-serif\" font-size=\"12\" lengthAdjust=\"spacingAndGlyphs\" textLength=\"8\" x=\"195\" y=\"321.1074\">P</text><line style=\"stroke: #383838; stroke-width: 1.5;\" x1=\"167\" x2=\"231\" y1=\"328.9375\" y2=\"328.9375\"/><text fill=\"#000000\" font-family=\"sans-serif\" font-size=\"11\" lengthAdjust=\"spacingAndGlyphs\" textLength=\"7\" x=\"172\" y=\"359.9526\">a</text><line style=\"stroke: #383838; stroke-width: 1.0;\" x1=\"167\" x2=\"171.5\" y1=\"343.3398\" y2=\"343.3398\"/><text fill=\"#000000\" font-family=\"sans-serif\" font-size=\"11\" lengthAdjust=\"spacingAndGlyphs\" textLength=\"55\" x=\"171.5\" y=\"346.6479\">attributes</text><line style=\"stroke: #383838; stroke-width: 1.0;\" x1=\"226.5\" x2=\"231\" y1=\"343.3398\" y2=\"343.3398\"/></a><!--MD5=[09b614a08d8cba4a07c9adeb5e0fee81]\n",
       "class E3--><a href=\"psysml:3556ece0-f840-441c-8cd2-5d7027a1a805\" target=\"_top\" title=\"psysml:3556ece0-f840-441c-8cd2-5d7027a1a805\" xlink:actuate=\"onRequest\" xlink:href=\"psysml:3556ece0-f840-441c-8cd2-5d7027a1a805\" xlink:show=\"new\" xlink:title=\"psysml:3556ece0-f840-441c-8cd2-5d7027a1a805\" xlink:type=\"simple\"><rect fill=\"#FFFFFF\" height=\"45.9375\" id=\"E3\" style=\"stroke: #383838; stroke-width: 1.5;\" width=\"66\" x=\"137\" y=\"155\"/><text fill=\"#000000\" font-family=\"sans-serif\" font-size=\"12\" font-style=\"italic\" lengthAdjust=\"spacingAndGlyphs\" textLength=\"64\" x=\"138\" y=\"171.1387\">«part def»</text><text fill=\"#000000\" font-family=\"sans-serif\" font-size=\"12\" lengthAdjust=\"spacingAndGlyphs\" textLength=\"9\" x=\"165.5\" y=\"185.1074\">Q</text><line style=\"stroke: #383838; stroke-width: 1.5;\" x1=\"138\" x2=\"202\" y1=\"192.9375\" y2=\"192.9375\"/></a><!--MD5=[ebbe1d658d1005bcc118a6aa81145e00]\n",
       "class E4--><a href=\"psysml:c1ea47d2-f15e-4f05-bf93-ec81669ca641\" target=\"_top\" title=\"psysml:c1ea47d2-f15e-4f05-bf93-ec81669ca641\" xlink:actuate=\"onRequest\" xlink:href=\"psysml:c1ea47d2-f15e-4f05-bf93-ec81669ca641\" xlink:show=\"new\" xlink:title=\"psysml:c1ea47d2-f15e-4f05-bf93-ec81669ca641\" xlink:type=\"simple\"><rect fill=\"#FFFFFF\" height=\"45.9375\" id=\"E4\" style=\"stroke: #383838; stroke-width: 1.5;\" width=\"95\" x=\"255.5\" y=\"41\"/><text fill=\"#000000\" font-family=\"sans-serif\" font-size=\"12\" font-style=\"italic\" lengthAdjust=\"spacingAndGlyphs\" textLength=\"93\" x=\"256.5\" y=\"57.1387\">«attribute def»</text><text fill=\"#000000\" font-family=\"sans-serif\" font-size=\"12\" lengthAdjust=\"spacingAndGlyphs\" textLength=\"8\" x=\"299\" y=\"71.1074\">B</text><line style=\"stroke: #383838; stroke-width: 1.5;\" x1=\"256.5\" x2=\"349.5\" y1=\"78.9375\" y2=\"78.9375\"/></a><!--MD5=[270fce915f116d4de14055a7c1d9a0f3]\n",
       "class E5--><a href=\"psysml:735cd89a-e4b2-4dc5-b3d6-41534f400f39\" target=\"_top\" title=\"psysml:735cd89a-e4b2-4dc5-b3d6-41534f400f39\" xlink:actuate=\"onRequest\" xlink:href=\"psysml:735cd89a-e4b2-4dc5-b3d6-41534f400f39\" xlink:show=\"new\" xlink:title=\"psysml:735cd89a-e4b2-4dc5-b3d6-41534f400f39\" xlink:type=\"simple\"><rect fill=\"#FFFFFF\" height=\"45.9375\" id=\"E5\" style=\"stroke: #383838; stroke-width: 1.5;\" width=\"66\" x=\"315\" y=\"155\"/><text fill=\"#000000\" font-family=\"sans-serif\" font-size=\"12\" font-style=\"italic\" lengthAdjust=\"spacingAndGlyphs\" textLength=\"64\" x=\"316\" y=\"171.1387\">«part def»</text><text fill=\"#000000\" font-family=\"sans-serif\" font-size=\"12\" lengthAdjust=\"spacingAndGlyphs\" textLength=\"8\" x=\"344\" y=\"185.1074\">V</text><line style=\"stroke: #383838; stroke-width: 1.5;\" x1=\"316\" x2=\"380\" y1=\"192.9375\" y2=\"192.9375\"/></a><!--MD5=[60a26617385b1d2d0262a64233df1f8d]\n",
       "class E6--><a href=\"psysml:0400016e-70f0-4405-a71c-97e49bd60e65\" target=\"_top\" title=\"psysml:0400016e-70f0-4405-a71c-97e49bd60e65\" xlink:actuate=\"onRequest\" xlink:href=\"psysml:0400016e-70f0-4405-a71c-97e49bd60e65\" xlink:show=\"new\" xlink:title=\"psysml:0400016e-70f0-4405-a71c-97e49bd60e65\" xlink:type=\"simple\"><rect fill=\"#FFFFFF\" height=\"88.3516\" id=\"E6\" rx=\"10\" ry=\"10\" style=\"stroke: #383838; stroke-width: 1.5;\" width=\"63\" x=\"287.5\" y=\"285\"/><text fill=\"#000000\" font-family=\"sans-serif\" font-size=\"12\" font-style=\"italic\" lengthAdjust=\"spacingAndGlyphs\" textLength=\"40\" x=\"299\" y=\"301.1387\">«part»</text><text fill=\"#000000\" font-family=\"sans-serif\" font-size=\"12\" lengthAdjust=\"spacingAndGlyphs\" textLength=\"23\" x=\"307.5\" y=\"315.1074\">x: Q</text><line style=\"stroke: #383838; stroke-width: 1.5;\" x1=\"288.5\" x2=\"349.5\" y1=\"322.9375\" y2=\"322.9375\"/><text fill=\"#000000\" font-family=\"sans-serif\" font-size=\"11\" lengthAdjust=\"spacingAndGlyphs\" textLength=\"23\" x=\"293.5\" y=\"353.9526\">b: B</text><text fill=\"#000000\" font-family=\"sans-serif\" font-size=\"11\" font-style=\"italic\" lengthAdjust=\"spacingAndGlyphs\" textLength=\"44\" x=\"293.5\" y=\"366.7573\">:&gt;&gt;P::a</text><line style=\"stroke: #383838; stroke-width: 1.0;\" x1=\"288.5\" x2=\"291.5\" y1=\"337.3398\" y2=\"337.3398\"/><text fill=\"#000000\" font-family=\"sans-serif\" font-size=\"11\" lengthAdjust=\"spacingAndGlyphs\" textLength=\"55\" x=\"291.5\" y=\"340.6479\">attributes</text><line style=\"stroke: #383838; stroke-width: 1.0;\" x1=\"346.5\" x2=\"349.5\" y1=\"337.3398\" y2=\"337.3398\"/></a><!--MD5=[2156ba9850f5573cc1fc38a6a4b2f02b]\n",
       "class E7--><a href=\"psysml:ac43cc4c-8177-486e-b5a5-e877f62f9bc5\" target=\"_top\" title=\"psysml:ac43cc4c-8177-486e-b5a5-e877f62f9bc5\" xlink:actuate=\"onRequest\" xlink:href=\"psysml:ac43cc4c-8177-486e-b5a5-e877f62f9bc5\" xlink:show=\"new\" xlink:title=\"psysml:ac43cc4c-8177-486e-b5a5-e877f62f9bc5\" xlink:type=\"simple\"><rect fill=\"#FFFFFF\" height=\"45.9375\" id=\"E7\" rx=\"10\" ry=\"10\" style=\"stroke: #383838; stroke-width: 1.5;\" width=\"42\" x=\"149\" y=\"41\"/><text fill=\"#000000\" font-family=\"sans-serif\" font-size=\"12\" font-style=\"italic\" lengthAdjust=\"spacingAndGlyphs\" textLength=\"40\" x=\"150\" y=\"57.1387\">«part»</text><text fill=\"#000000\" font-family=\"sans-serif\" font-size=\"12\" lengthAdjust=\"spacingAndGlyphs\" textLength=\"25\" x=\"157.5\" y=\"71.1074\">q: Q</text><line style=\"stroke: #383838; stroke-width: 1.5;\" x1=\"150\" x2=\"190\" y1=\"78.9375\" y2=\"78.9375\"/></a><!--MD5=[b9389687b975829384b498ac4b7476b2]\n",
       "class E8--><a href=\"psysml:ce952eae-8bb1-4ad0-9f02-4c42d4c1d0c7\" target=\"_top\" title=\"psysml:ce952eae-8bb1-4ad0-9f02-4c42d4c1d0c7\" xlink:actuate=\"onRequest\" xlink:href=\"psysml:ce952eae-8bb1-4ad0-9f02-4c42d4c1d0c7\" xlink:show=\"new\" xlink:title=\"psysml:ce952eae-8bb1-4ad0-9f02-4c42d4c1d0c7\" xlink:type=\"simple\"><rect fill=\"#FFFFFF\" height=\"59.9063\" id=\"E8\" rx=\"10\" ry=\"10\" style=\"stroke: #383838; stroke-width: 1.5;\" width=\"70\" x=\"32\" y=\"148\"/><text fill=\"#000000\" font-family=\"sans-serif\" font-size=\"12\" font-style=\"italic\" lengthAdjust=\"spacingAndGlyphs\" textLength=\"68\" x=\"33\" y=\"164.1387\">«variation»</text><text fill=\"#000000\" font-family=\"sans-serif\" font-size=\"12\" font-style=\"italic\" lengthAdjust=\"spacingAndGlyphs\" textLength=\"40\" x=\"47\" y=\"178.1074\">«part»</text><text fill=\"#000000\" font-family=\"sans-serif\" font-size=\"12\" lengthAdjust=\"spacingAndGlyphs\" textLength=\"22\" x=\"56\" y=\"192.0762\">v: P</text><line style=\"stroke: #383838; stroke-width: 1.5;\" x1=\"33\" x2=\"101\" y1=\"199.9063\" y2=\"199.9063\"/></a><!--MD5=[fd4143e9d270a159db93a4ea2a975926]\n",
       "class E9--><a href=\"psysml:572dfe4e-6d7c-4ba8-94a3-d7ce0272bed9\" target=\"_top\" title=\"psysml:572dfe4e-6d7c-4ba8-94a3-d7ce0272bed9\" xlink:actuate=\"onRequest\" xlink:href=\"psysml:572dfe4e-6d7c-4ba8-94a3-d7ce0272bed9\" xlink:show=\"new\" xlink:title=\"psysml:572dfe4e-6d7c-4ba8-94a3-d7ce0272bed9\" xlink:type=\"simple\"><rect fill=\"#FFFFFF\" height=\"88.3516\" id=\"E9\" rx=\"10\" ry=\"10\" style=\"stroke: #383838; stroke-width: 1.5;\" width=\"77\" x=\"32.5\" y=\"285\"/><text fill=\"#000000\" font-family=\"sans-serif\" font-size=\"12\" font-style=\"italic\" lengthAdjust=\"spacingAndGlyphs\" textLength=\"75\" x=\"33.5\" y=\"301.1387\">«reference»</text><text fill=\"#000000\" font-family=\"sans-serif\" font-size=\"12\" lengthAdjust=\"spacingAndGlyphs\" textLength=\"8\" x=\"67\" y=\"315.1074\">q</text><line style=\"stroke: #383838; stroke-width: 1.5;\" x1=\"33.5\" x2=\"108.5\" y1=\"322.9375\" y2=\"322.9375\"/><text fill=\"#000000\" font-family=\"sans-serif\" font-size=\"11\" lengthAdjust=\"spacingAndGlyphs\" textLength=\"23\" x=\"38.5\" y=\"353.9526\">b: B</text><text fill=\"#000000\" font-family=\"sans-serif\" font-size=\"11\" font-style=\"italic\" lengthAdjust=\"spacingAndGlyphs\" textLength=\"44\" x=\"38.5\" y=\"366.7573\">:&gt;&gt;P::a</text><line style=\"stroke: #383838; stroke-width: 1.0;\" x1=\"33.5\" x2=\"43.5\" y1=\"337.3398\" y2=\"337.3398\"/><text fill=\"#000000\" font-family=\"sans-serif\" font-size=\"11\" lengthAdjust=\"spacingAndGlyphs\" textLength=\"55\" x=\"43.5\" y=\"340.6479\">attributes</text><line style=\"stroke: #383838; stroke-width: 1.0;\" x1=\"98.5\" x2=\"108.5\" y1=\"337.3398\" y2=\"337.3398\"/></a><!--MD5=[96f4274e9e20536e775497830990834d]\n",
       "class E10--><a href=\"psysml:983a8093-9810-4637-96cc-9ee8fb3d9cf5\" target=\"_top\" title=\"psysml:983a8093-9810-4637-96cc-9ee8fb3d9cf5\" xlink:actuate=\"onRequest\" xlink:href=\"psysml:983a8093-9810-4637-96cc-9ee8fb3d9cf5\" xlink:show=\"new\" xlink:title=\"psysml:983a8093-9810-4637-96cc-9ee8fb3d9cf5\" xlink:type=\"simple\"><rect fill=\"#FFFFFF\" height=\"45.9375\" id=\"E10\" rx=\"10\" ry=\"10\" style=\"stroke: #383838; stroke-width: 1.5;\" width=\"42\" x=\"238\" y=\"155\"/><text fill=\"#000000\" font-family=\"sans-serif\" font-size=\"12\" font-style=\"italic\" lengthAdjust=\"spacingAndGlyphs\" textLength=\"40\" x=\"239\" y=\"171.1387\">«part»</text><text fill=\"#000000\" font-family=\"sans-serif\" font-size=\"12\" lengthAdjust=\"spacingAndGlyphs\" textLength=\"22\" x=\"248\" y=\"185.1074\">y: P</text><line style=\"stroke: #383838; stroke-width: 1.5;\" x1=\"239\" x2=\"279\" y1=\"192.9375\" y2=\"192.9375\"/></a><!--MD5=[05d275557350bfb9b23a4ef7222b4c39]\n",
       "link E3 to E2--><a href=\"psysml:9e57242c-9184-4252-9565-bec20c63fdb8\" target=\"_top\" title=\"psysml:9e57242c-9184-4252-9565-bec20c63fdb8\" xlink:actuate=\"onRequest\" xlink:href=\"psysml:9e57242c-9184-4252-9565-bec20c63fdb8\" xlink:show=\"new\" xlink:title=\"psysml:9e57242c-9184-4252-9565-bec20c63fdb8\" xlink:type=\"simple\"><path d=\"M174.34,201.31 C177.92,219.67 183.15,246.54 187.87,270.81 \" fill=\"none\" id=\"E3-&gt;E2\" style=\"stroke: #383838; stroke-width: 1.0;\"/><polygon fill=\"none\" points=\"194.8,269.8,191.75,290.77,181.06,272.47,194.8,269.8\" style=\"stroke: #383838; stroke-width: 1.0;\"/></a><!--MD5=[15ebcb19ae302d9b601edb458606d402]\n",
       "link E5 to E2--><a href=\"psysml:5cdbdbe7-d14c-45c9-a804-61f18115238e\" target=\"_top\" title=\"psysml:5cdbdbe7-d14c-45c9-a804-61f18115238e\" xlink:actuate=\"onRequest\" xlink:href=\"psysml:5cdbdbe7-d14c-45c9-a804-61f18115238e\" xlink:show=\"new\" xlink:title=\"psysml:5cdbdbe7-d14c-45c9-a804-61f18115238e\" xlink:type=\"simple\"><path d=\"M325.69,201.31 C304.9,222.1 273.2,253.8 246.71,280.29 \" fill=\"none\" id=\"E5-&gt;E2\" style=\"stroke: #383838; stroke-width: 1.0;\"/><polygon fill=\"none\" points=\"251.33,285.57,232.24,294.76,241.43,275.67,251.33,285.57\" style=\"stroke: #383838; stroke-width: 1.0;\"/></a><!--MD5=[9120cf2e5df3bff93db8f754bbbc09b4]\n",
       "link E5 to E6--><a href=\"psysml:052c6ce9-d9db-4da6-90c4-ac16555550ac\" target=\"_top\" title=\"psysml:052c6ce9-d9db-4da6-90c4-ac16555550ac\" xlink:actuate=\"onRequest\" xlink:href=\"psysml:052c6ce9-d9db-4da6-90c4-ac16555550ac\" xlink:show=\"new\" xlink:title=\"psysml:052c6ce9-d9db-4da6-90c4-ac16555550ac\" xlink:type=\"simple\"><path d=\"M341.72,211.26 C338.1,229.85 333.47,253.68 329.32,274.95 \" fill=\"none\" id=\"E5-E6\" style=\"stroke: #383838; stroke-width: 1.0;\"/><polygon fill=\"#383838\" points=\"327.4,284.84,331.8761,277.5623,325.987,276.4136,327.4,284.84\" style=\"stroke: #383838; stroke-width: 1.0;\"/><path d=\"M334.7699,202.7122 A9,9 0 0 0 351.3715 205.9503\" fill=\"none\" style=\"stroke: #383838; stroke-width: 1.5;\"/><text fill=\"#000000\" font-family=\"sans-serif\" font-size=\"13\" lengthAdjust=\"spacingAndGlyphs\" textLength=\"60\" x=\"337\" y=\"251.0669\">«variant»</text></a><!--MD5=[14ccda38c055a5c0da953d572bc50960]\n",
       "link E7 to E3--><a href=\"psysml:648145d1-1ec9-42fc-8307-fa8910350658\" target=\"_top\" title=\"psysml:648145d1-1ec9-42fc-8307-fa8910350658\" xlink:actuate=\"onRequest\" xlink:href=\"psysml:648145d1-1ec9-42fc-8307-fa8910350658\" xlink:show=\"new\" xlink:title=\"psysml:648145d1-1ec9-42fc-8307-fa8910350658\" xlink:type=\"simple\"><path d=\"M170,87.13 C170,100.7 170,118.53 170,134.73 \" fill=\"none\" id=\"E7-&gt;E3\" style=\"stroke: #383838; stroke-width: 1.0;\"/><polygon fill=\"#FFFFFF\" points=\"170,154.92,163,135.92,177,135.92,170,154.92\" style=\"stroke: #383838; stroke-width: 1.0;\"/><ellipse cx=\"165\" cy=\"130.22\" fill=\"#383838\" rx=\"2\" ry=\"2\" style=\"stroke: #383838; stroke-width: 1.0;\"/><ellipse cx=\"175\" cy=\"130.22\" fill=\"#383838\" rx=\"2\" ry=\"2\" style=\"stroke: #383838; stroke-width: 1.0;\"/></a><!--MD5=[f1f3f9f2fc535e6147756cb86a7f2e32]\n",
       "link E8 to E2--><a href=\"psysml:19cda0c9-2775-4d9d-8cd8-191c5ad52b34\" target=\"_top\" title=\"psysml:19cda0c9-2775-4d9d-8cd8-191c5ad52b34\" xlink:actuate=\"onRequest\" xlink:href=\"psysml:19cda0c9-2775-4d9d-8cd8-191c5ad52b34\" xlink:show=\"new\" xlink:title=\"psysml:19cda0c9-2775-4d9d-8cd8-191c5ad52b34\" xlink:type=\"simple\"><path d=\"M102.17,204.39 C114.52,214.17 128.04,225.9 139,238 C148.86,248.88 158.29,261.5 166.63,273.79 \" fill=\"none\" id=\"E8-&gt;E2\" style=\"stroke: #383838; stroke-width: 1.0;\"/><polygon fill=\"#FFFFFF\" points=\"177.64,290.73,161.4168,278.6135,173.1555,270.9844,177.64,290.73\" style=\"stroke: #383838; stroke-width: 1.0;\"/><ellipse cx=\"159.9876\" cy=\"272.7443\" fill=\"#383838\" rx=\"2\" ry=\"2\" style=\"stroke: #383838; stroke-width: 1.0;\"/><ellipse cx=\"168.3724\" cy=\"267.2949\" fill=\"#383838\" rx=\"2\" ry=\"2\" style=\"stroke: #383838; stroke-width: 1.0;\"/></a><!--MD5=[ed10624c06dd9a4fa49ccf290e8b16a8]\n",
       "link E8 to E9--><a href=\"psysml:28d39c7a-e0c7-42b0-858e-2cb4e488f108\" target=\"_top\" title=\"psysml:28d39c7a-e0c7-42b0-858e-2cb4e488f108\" xlink:actuate=\"onRequest\" xlink:href=\"psysml:28d39c7a-e0c7-42b0-858e-2cb4e488f108\" xlink:show=\"new\" xlink:title=\"psysml:28d39c7a-e0c7-42b0-858e-2cb4e488f108\" xlink:type=\"simple\"><path d=\"M68.06,218.32 C68.52,235.6 69.07,256.15 69.57,274.77 \" fill=\"none\" id=\"E8-E9\" style=\"stroke: #383838; stroke-width: 1.0;\"/><polygon fill=\"#383838\" points=\"69.84,284.88,72.6331,276.8054,66.6351,276.9599,69.84,284.88\" style=\"stroke: #383838; stroke-width: 1.0;\"/><path d=\"M59.4094,211.3865 A9,9 0 0 0 76.3176 210.9276\" fill=\"none\" style=\"stroke: #383838; stroke-width: 1.5;\"/><text fill=\"#000000\" font-family=\"sans-serif\" font-size=\"13\" lengthAdjust=\"spacingAndGlyphs\" textLength=\"60\" x=\"70\" y=\"251.0669\">«variant»</text></a><!--MD5=[0f36bececdf0dff6e600d6f64214b0f1]\n",
       "link E10 to E2--><a href=\"psysml:8cfcd01d-a74f-43be-a680-d41b6ee6accc\" target=\"_top\" title=\"psysml:8cfcd01d-a74f-43be-a680-d41b6ee6accc\" xlink:actuate=\"onRequest\" xlink:href=\"psysml:8cfcd01d-a74f-43be-a680-d41b6ee6accc\" xlink:show=\"new\" xlink:title=\"psysml:8cfcd01d-a74f-43be-a680-d41b6ee6accc\" xlink:type=\"simple\"><path d=\"M250.02,201.31 C242.51,219.95 231.48,247.35 221.59,271.91 \" fill=\"none\" id=\"E10-&gt;E2\" style=\"stroke: #383838; stroke-width: 1.0;\"/><polygon fill=\"#FFFFFF\" points=\"213.99,290.77,214.5927,270.5305,227.5796,275.7593,213.99,290.77\" style=\"stroke: #383838; stroke-width: 1.0;\"/><ellipse cx=\"218.5768\" cy=\"265.9899\" fill=\"#383838\" rx=\"2\" ry=\"2\" style=\"stroke: #383838; stroke-width: 1.0;\"/><ellipse cx=\"227.8532\" cy=\"269.7248\" fill=\"#383838\" rx=\"2\" ry=\"2\" style=\"stroke: #383838; stroke-width: 1.0;\"/></a><!--MD5=[a217e4e4759a485a6a525c90a3cd304d]\n",
       "@startuml\r\n",
       "skinparam monochrome true\r\n",
       "skinparam classbackgroundcolor white\r\n",
       "skinparam shadowing false\r\n",
       "skinparam wrapWidth 300\r\n",
       "hide circle\r\n",
       "\r\n",
       "package \"VariabilityTest\" as E1  [[psysml:c9192910-aa77-45a9-9ae3-16f7deb9d13d ]]  {\r\n",
       "comp def \"P\" as E2  <<(T,blue)part def>> [[psysml:28b4b804-815b-4815-9c5e-e5b09d6ccef7 ]] {\r\n",
       "- - attributes - -\r\n",
       "a\r\n",
       "}\r\n",
       "comp def \"Q\" as E3  <<(T,blue)part def>> [[psysml:3556ece0-f840-441c-8cd2-5d7027a1a805 ]] {\r\n",
       "}\r\n",
       "comp def \"B\" as E4  <<(T,blue)attribute def>> [[psysml:c1ea47d2-f15e-4f05-bf93-ec81669ca641 ]] {\r\n",
       "}\r\n",
       "comp def \"V\" as E5  <<(T,blue)part def>> [[psysml:735cd89a-e4b2-4dc5-b3d6-41534f400f39 ]] {\r\n",
       "}\r\n",
       "comp usage \"x: Q\" as E6  <<(T,blue)part>> [[psysml:0400016e-70f0-4405-a71c-97e49bd60e65 ]] {\r\n",
       "- - attributes - -\r\n",
       "b: B\\n//:>>P::a// \r\n",
       "}\r\n",
       "comp usage \"q: Q\" as E7  <<(T,blue)part>> [[psysml:ac43cc4c-8177-486e-b5a5-e877f62f9bc5 ]] {\r\n",
       "}\r\n",
       "comp usage \"v: P\" as E8  <<variation>>\\n <<(T,blue)part>> [[psysml:ce952eae-8bb1-4ad0-9f02-4c42d4c1d0c7 ]] {\r\n",
       "}\r\n",
       "comp usage \"q\" as E9  <<(T,blue)reference>> [[psysml:572dfe4e-6d7c-4ba8-94a3-d7ce0272bed9 ]] {\r\n",
       "- - attributes - -\r\n",
       "b: B\\n//:>>P::a// \r\n",
       "}\r\n",
       "comp usage \"y: P\" as E10  <<(T,blue)part>> [[psysml:983a8093-9810-4637-96cc-9ee8fb3d9cf5 ]] {\r\n",
       "}\r\n",
       "E3 - -|> E2 [[psysml:9e57242c-9184-4252-9565-bec20c63fdb8 ]] \r\n",
       "E5 - -|> E2 [[psysml:5cdbdbe7-d14c-45c9-a804-61f18115238e ]] \r\n",
       "E5 )- ->> E6 [[psysml:052c6ce9-d9db-4da6-90c4-ac16555550ac ]] : <<variant>>\r\n",
       "E7 - -:|> E3 [[psysml:648145d1-1ec9-42fc-8307-fa8910350658 ]] \r\n",
       "E8 - -:|> E2 [[psysml:19cda0c9-2775-4d9d-8cd8-191c5ad52b34 ]] \r\n",
       "E8 )- ->> E9 [[psysml:28d39c7a-e0c7-42b0-858e-2cb4e488f108 ]] : <<variant>>\r\n",
       "E10 - -:|> E2 [[psysml:8cfcd01d-a74f-43be-a680-d41b6ee6accc ]] \r\n",
       "}\r\n",
       "@enduml\r\n",
       "\n",
       "PlantUML version 1.2020.13(Sat Jun 13 12:26:38 UTC 2020)\n",
       "(EPL source distribution)\n",
       "Java Runtime: OpenJDK Runtime Environment\n",
       "JVM: OpenJDK 64-Bit Server VM\n",
       "Default Encoding: UTF-8\n",
       "Language: en\n",
       "Country: null\n",
       "--></g></svg>"
      ]
     },
     "execution_count": 42,
     "metadata": {},
     "output_type": "execute_result"
    }
   ],
   "source": [
    "%viz --style=\"DEFAULT\" --view=\"Sequence\" \"VariabilityTest\""
   ]
  },
  {
   "cell_type": "code",
   "execution_count": 43,
   "id": "6e87ba56",
   "metadata": {
    "execution": {
     "iopub.execute_input": "2021-05-28T10:47:57.900673Z",
     "iopub.status.busy": "2021-05-28T10:47:57.900070Z",
     "iopub.status.idle": "2021-05-28T10:47:57.980506Z",
     "shell.execute_reply": "2021-05-28T10:47:57.978055Z"
    }
   },
   "outputs": [
    {
     "data": {
      "image/svg+xml": [
       "<?xml version=\"1.0\" encoding=\"UTF-8\" standalone=\"no\"?><svg xmlns=\"http://www.w3.org/2000/svg\" xmlns:xlink=\"http://www.w3.org/1999/xlink\" contentScriptType=\"application/ecmascript\" contentStyleType=\"text/css\" height=\"401px\" preserveAspectRatio=\"none\" style=\"width:419px;height:401px;\" version=\"1.1\" viewBox=\"0 0 419 401\" width=\"419px\" zoomAndPan=\"magnify\"><defs/><g><!--MD5=[fbc87193dbaf4d95561dea2c320d4a47]\n",
       "cluster E1--><a href=\"psysml:c9192910-aa77-45a9-9ae3-16f7deb9d13d\" target=\"_top\" title=\"psysml:c9192910-aa77-45a9-9ae3-16f7deb9d13d\" xlink:actuate=\"onRequest\" xlink:href=\"psysml:c9192910-aa77-45a9-9ae3-16f7deb9d13d\" xlink:show=\"new\" xlink:title=\"psysml:c9192910-aa77-45a9-9ae3-16f7deb9d13d\" xlink:type=\"simple\"><polygon fill=\"#FFFFFF\" points=\"16,6,134,6,141,28.2969,397,28.2969,397,389,16,389,16,6\" style=\"stroke: #000000; stroke-width: 1.5;\"/><line style=\"stroke: #000000; stroke-width: 1.5;\" x1=\"16\" x2=\"141\" y1=\"28.2969\" y2=\"28.2969\"/><text fill=\"#000000\" font-family=\"sans-serif\" font-size=\"14\" font-weight=\"bold\" lengthAdjust=\"spacingAndGlyphs\" textLength=\"112\" x=\"20\" y=\"20.9951\">VariabilityTest</text></a><!--MD5=[b4997ac47864f28c2f74865a473b2911]\n",
       "class E2--><a href=\"psysml:28b4b804-815b-4815-9c5e-e5b09d6ccef7\" target=\"_top\" title=\"psysml:28b4b804-815b-4815-9c5e-e5b09d6ccef7\" xlink:actuate=\"onRequest\" xlink:href=\"psysml:28b4b804-815b-4815-9c5e-e5b09d6ccef7\" xlink:show=\"new\" xlink:title=\"psysml:28b4b804-815b-4815-9c5e-e5b09d6ccef7\" xlink:type=\"simple\"><rect fill=\"#FFFFFF\" height=\"75.5469\" id=\"E2\" style=\"stroke: #383838; stroke-width: 1.5;\" width=\"66\" x=\"166\" y=\"291\"/><text fill=\"#000000\" font-family=\"sans-serif\" font-size=\"12\" font-style=\"italic\" lengthAdjust=\"spacingAndGlyphs\" textLength=\"64\" x=\"167\" y=\"307.1387\">«part def»</text><text fill=\"#000000\" font-family=\"sans-serif\" font-size=\"12\" lengthAdjust=\"spacingAndGlyphs\" textLength=\"8\" x=\"195\" y=\"321.1074\">P</text><line style=\"stroke: #383838; stroke-width: 1.5;\" x1=\"167\" x2=\"231\" y1=\"328.9375\" y2=\"328.9375\"/><text fill=\"#000000\" font-family=\"sans-serif\" font-size=\"11\" lengthAdjust=\"spacingAndGlyphs\" textLength=\"7\" x=\"172\" y=\"359.9526\">a</text><line style=\"stroke: #383838; stroke-width: 1.0;\" x1=\"167\" x2=\"171.5\" y1=\"343.3398\" y2=\"343.3398\"/><text fill=\"#000000\" font-family=\"sans-serif\" font-size=\"11\" lengthAdjust=\"spacingAndGlyphs\" textLength=\"55\" x=\"171.5\" y=\"346.6479\">attributes</text><line style=\"stroke: #383838; stroke-width: 1.0;\" x1=\"226.5\" x2=\"231\" y1=\"343.3398\" y2=\"343.3398\"/></a><!--MD5=[09b614a08d8cba4a07c9adeb5e0fee81]\n",
       "class E3--><a href=\"psysml:3556ece0-f840-441c-8cd2-5d7027a1a805\" target=\"_top\" title=\"psysml:3556ece0-f840-441c-8cd2-5d7027a1a805\" xlink:actuate=\"onRequest\" xlink:href=\"psysml:3556ece0-f840-441c-8cd2-5d7027a1a805\" xlink:show=\"new\" xlink:title=\"psysml:3556ece0-f840-441c-8cd2-5d7027a1a805\" xlink:type=\"simple\"><rect fill=\"#FFFFFF\" height=\"45.9375\" id=\"E3\" style=\"stroke: #383838; stroke-width: 1.5;\" width=\"66\" x=\"137\" y=\"155\"/><text fill=\"#000000\" font-family=\"sans-serif\" font-size=\"12\" font-style=\"italic\" lengthAdjust=\"spacingAndGlyphs\" textLength=\"64\" x=\"138\" y=\"171.1387\">«part def»</text><text fill=\"#000000\" font-family=\"sans-serif\" font-size=\"12\" lengthAdjust=\"spacingAndGlyphs\" textLength=\"9\" x=\"165.5\" y=\"185.1074\">Q</text><line style=\"stroke: #383838; stroke-width: 1.5;\" x1=\"138\" x2=\"202\" y1=\"192.9375\" y2=\"192.9375\"/></a><!--MD5=[ebbe1d658d1005bcc118a6aa81145e00]\n",
       "class E4--><a href=\"psysml:c1ea47d2-f15e-4f05-bf93-ec81669ca641\" target=\"_top\" title=\"psysml:c1ea47d2-f15e-4f05-bf93-ec81669ca641\" xlink:actuate=\"onRequest\" xlink:href=\"psysml:c1ea47d2-f15e-4f05-bf93-ec81669ca641\" xlink:show=\"new\" xlink:title=\"psysml:c1ea47d2-f15e-4f05-bf93-ec81669ca641\" xlink:type=\"simple\"><rect fill=\"#FFFFFF\" height=\"45.9375\" id=\"E4\" style=\"stroke: #383838; stroke-width: 1.5;\" width=\"95\" x=\"255.5\" y=\"41\"/><text fill=\"#000000\" font-family=\"sans-serif\" font-size=\"12\" font-style=\"italic\" lengthAdjust=\"spacingAndGlyphs\" textLength=\"93\" x=\"256.5\" y=\"57.1387\">«attribute def»</text><text fill=\"#000000\" font-family=\"sans-serif\" font-size=\"12\" lengthAdjust=\"spacingAndGlyphs\" textLength=\"8\" x=\"299\" y=\"71.1074\">B</text><line style=\"stroke: #383838; stroke-width: 1.5;\" x1=\"256.5\" x2=\"349.5\" y1=\"78.9375\" y2=\"78.9375\"/></a><!--MD5=[270fce915f116d4de14055a7c1d9a0f3]\n",
       "class E5--><a href=\"psysml:735cd89a-e4b2-4dc5-b3d6-41534f400f39\" target=\"_top\" title=\"psysml:735cd89a-e4b2-4dc5-b3d6-41534f400f39\" xlink:actuate=\"onRequest\" xlink:href=\"psysml:735cd89a-e4b2-4dc5-b3d6-41534f400f39\" xlink:show=\"new\" xlink:title=\"psysml:735cd89a-e4b2-4dc5-b3d6-41534f400f39\" xlink:type=\"simple\"><rect fill=\"#FFFFFF\" height=\"45.9375\" id=\"E5\" style=\"stroke: #383838; stroke-width: 1.5;\" width=\"66\" x=\"315\" y=\"155\"/><text fill=\"#000000\" font-family=\"sans-serif\" font-size=\"12\" font-style=\"italic\" lengthAdjust=\"spacingAndGlyphs\" textLength=\"64\" x=\"316\" y=\"171.1387\">«part def»</text><text fill=\"#000000\" font-family=\"sans-serif\" font-size=\"12\" lengthAdjust=\"spacingAndGlyphs\" textLength=\"8\" x=\"344\" y=\"185.1074\">V</text><line style=\"stroke: #383838; stroke-width: 1.5;\" x1=\"316\" x2=\"380\" y1=\"192.9375\" y2=\"192.9375\"/></a><!--MD5=[60a26617385b1d2d0262a64233df1f8d]\n",
       "class E6--><a href=\"psysml:0400016e-70f0-4405-a71c-97e49bd60e65\" target=\"_top\" title=\"psysml:0400016e-70f0-4405-a71c-97e49bd60e65\" xlink:actuate=\"onRequest\" xlink:href=\"psysml:0400016e-70f0-4405-a71c-97e49bd60e65\" xlink:show=\"new\" xlink:title=\"psysml:0400016e-70f0-4405-a71c-97e49bd60e65\" xlink:type=\"simple\"><rect fill=\"#FFFFFF\" height=\"88.3516\" id=\"E6\" rx=\"10\" ry=\"10\" style=\"stroke: #383838; stroke-width: 1.5;\" width=\"63\" x=\"287.5\" y=\"285\"/><text fill=\"#000000\" font-family=\"sans-serif\" font-size=\"12\" font-style=\"italic\" lengthAdjust=\"spacingAndGlyphs\" textLength=\"40\" x=\"299\" y=\"301.1387\">«part»</text><text fill=\"#000000\" font-family=\"sans-serif\" font-size=\"12\" lengthAdjust=\"spacingAndGlyphs\" textLength=\"23\" x=\"307.5\" y=\"315.1074\">x: Q</text><line style=\"stroke: #383838; stroke-width: 1.5;\" x1=\"288.5\" x2=\"349.5\" y1=\"322.9375\" y2=\"322.9375\"/><text fill=\"#000000\" font-family=\"sans-serif\" font-size=\"11\" lengthAdjust=\"spacingAndGlyphs\" textLength=\"23\" x=\"293.5\" y=\"353.9526\">b: B</text><text fill=\"#000000\" font-family=\"sans-serif\" font-size=\"11\" font-style=\"italic\" lengthAdjust=\"spacingAndGlyphs\" textLength=\"44\" x=\"293.5\" y=\"366.7573\">:&gt;&gt;P::a</text><line style=\"stroke: #383838; stroke-width: 1.0;\" x1=\"288.5\" x2=\"291.5\" y1=\"337.3398\" y2=\"337.3398\"/><text fill=\"#000000\" font-family=\"sans-serif\" font-size=\"11\" lengthAdjust=\"spacingAndGlyphs\" textLength=\"55\" x=\"291.5\" y=\"340.6479\">attributes</text><line style=\"stroke: #383838; stroke-width: 1.0;\" x1=\"346.5\" x2=\"349.5\" y1=\"337.3398\" y2=\"337.3398\"/></a><!--MD5=[2156ba9850f5573cc1fc38a6a4b2f02b]\n",
       "class E7--><a href=\"psysml:ac43cc4c-8177-486e-b5a5-e877f62f9bc5\" target=\"_top\" title=\"psysml:ac43cc4c-8177-486e-b5a5-e877f62f9bc5\" xlink:actuate=\"onRequest\" xlink:href=\"psysml:ac43cc4c-8177-486e-b5a5-e877f62f9bc5\" xlink:show=\"new\" xlink:title=\"psysml:ac43cc4c-8177-486e-b5a5-e877f62f9bc5\" xlink:type=\"simple\"><rect fill=\"#FFFFFF\" height=\"45.9375\" id=\"E7\" rx=\"10\" ry=\"10\" style=\"stroke: #383838; stroke-width: 1.5;\" width=\"42\" x=\"149\" y=\"41\"/><text fill=\"#000000\" font-family=\"sans-serif\" font-size=\"12\" font-style=\"italic\" lengthAdjust=\"spacingAndGlyphs\" textLength=\"40\" x=\"150\" y=\"57.1387\">«part»</text><text fill=\"#000000\" font-family=\"sans-serif\" font-size=\"12\" lengthAdjust=\"spacingAndGlyphs\" textLength=\"25\" x=\"157.5\" y=\"71.1074\">q: Q</text><line style=\"stroke: #383838; stroke-width: 1.5;\" x1=\"150\" x2=\"190\" y1=\"78.9375\" y2=\"78.9375\"/></a><!--MD5=[b9389687b975829384b498ac4b7476b2]\n",
       "class E8--><a href=\"psysml:ce952eae-8bb1-4ad0-9f02-4c42d4c1d0c7\" target=\"_top\" title=\"psysml:ce952eae-8bb1-4ad0-9f02-4c42d4c1d0c7\" xlink:actuate=\"onRequest\" xlink:href=\"psysml:ce952eae-8bb1-4ad0-9f02-4c42d4c1d0c7\" xlink:show=\"new\" xlink:title=\"psysml:ce952eae-8bb1-4ad0-9f02-4c42d4c1d0c7\" xlink:type=\"simple\"><rect fill=\"#FFFFFF\" height=\"59.9063\" id=\"E8\" rx=\"10\" ry=\"10\" style=\"stroke: #383838; stroke-width: 1.5;\" width=\"70\" x=\"32\" y=\"148\"/><text fill=\"#000000\" font-family=\"sans-serif\" font-size=\"12\" font-style=\"italic\" lengthAdjust=\"spacingAndGlyphs\" textLength=\"68\" x=\"33\" y=\"164.1387\">«variation»</text><text fill=\"#000000\" font-family=\"sans-serif\" font-size=\"12\" font-style=\"italic\" lengthAdjust=\"spacingAndGlyphs\" textLength=\"40\" x=\"47\" y=\"178.1074\">«part»</text><text fill=\"#000000\" font-family=\"sans-serif\" font-size=\"12\" lengthAdjust=\"spacingAndGlyphs\" textLength=\"22\" x=\"56\" y=\"192.0762\">v: P</text><line style=\"stroke: #383838; stroke-width: 1.5;\" x1=\"33\" x2=\"101\" y1=\"199.9063\" y2=\"199.9063\"/></a><!--MD5=[fd4143e9d270a159db93a4ea2a975926]\n",
       "class E9--><a href=\"psysml:572dfe4e-6d7c-4ba8-94a3-d7ce0272bed9\" target=\"_top\" title=\"psysml:572dfe4e-6d7c-4ba8-94a3-d7ce0272bed9\" xlink:actuate=\"onRequest\" xlink:href=\"psysml:572dfe4e-6d7c-4ba8-94a3-d7ce0272bed9\" xlink:show=\"new\" xlink:title=\"psysml:572dfe4e-6d7c-4ba8-94a3-d7ce0272bed9\" xlink:type=\"simple\"><rect fill=\"#FFFFFF\" height=\"88.3516\" id=\"E9\" rx=\"10\" ry=\"10\" style=\"stroke: #383838; stroke-width: 1.5;\" width=\"77\" x=\"32.5\" y=\"285\"/><text fill=\"#000000\" font-family=\"sans-serif\" font-size=\"12\" font-style=\"italic\" lengthAdjust=\"spacingAndGlyphs\" textLength=\"75\" x=\"33.5\" y=\"301.1387\">«reference»</text><text fill=\"#000000\" font-family=\"sans-serif\" font-size=\"12\" lengthAdjust=\"spacingAndGlyphs\" textLength=\"8\" x=\"67\" y=\"315.1074\">q</text><line style=\"stroke: #383838; stroke-width: 1.5;\" x1=\"33.5\" x2=\"108.5\" y1=\"322.9375\" y2=\"322.9375\"/><text fill=\"#000000\" font-family=\"sans-serif\" font-size=\"11\" lengthAdjust=\"spacingAndGlyphs\" textLength=\"23\" x=\"38.5\" y=\"353.9526\">b: B</text><text fill=\"#000000\" font-family=\"sans-serif\" font-size=\"11\" font-style=\"italic\" lengthAdjust=\"spacingAndGlyphs\" textLength=\"44\" x=\"38.5\" y=\"366.7573\">:&gt;&gt;P::a</text><line style=\"stroke: #383838; stroke-width: 1.0;\" x1=\"33.5\" x2=\"43.5\" y1=\"337.3398\" y2=\"337.3398\"/><text fill=\"#000000\" font-family=\"sans-serif\" font-size=\"11\" lengthAdjust=\"spacingAndGlyphs\" textLength=\"55\" x=\"43.5\" y=\"340.6479\">attributes</text><line style=\"stroke: #383838; stroke-width: 1.0;\" x1=\"98.5\" x2=\"108.5\" y1=\"337.3398\" y2=\"337.3398\"/></a><!--MD5=[96f4274e9e20536e775497830990834d]\n",
       "class E10--><a href=\"psysml:983a8093-9810-4637-96cc-9ee8fb3d9cf5\" target=\"_top\" title=\"psysml:983a8093-9810-4637-96cc-9ee8fb3d9cf5\" xlink:actuate=\"onRequest\" xlink:href=\"psysml:983a8093-9810-4637-96cc-9ee8fb3d9cf5\" xlink:show=\"new\" xlink:title=\"psysml:983a8093-9810-4637-96cc-9ee8fb3d9cf5\" xlink:type=\"simple\"><rect fill=\"#FFFFFF\" height=\"45.9375\" id=\"E10\" rx=\"10\" ry=\"10\" style=\"stroke: #383838; stroke-width: 1.5;\" width=\"42\" x=\"238\" y=\"155\"/><text fill=\"#000000\" font-family=\"sans-serif\" font-size=\"12\" font-style=\"italic\" lengthAdjust=\"spacingAndGlyphs\" textLength=\"40\" x=\"239\" y=\"171.1387\">«part»</text><text fill=\"#000000\" font-family=\"sans-serif\" font-size=\"12\" lengthAdjust=\"spacingAndGlyphs\" textLength=\"22\" x=\"248\" y=\"185.1074\">y: P</text><line style=\"stroke: #383838; stroke-width: 1.5;\" x1=\"239\" x2=\"279\" y1=\"192.9375\" y2=\"192.9375\"/></a><!--MD5=[05d275557350bfb9b23a4ef7222b4c39]\n",
       "link E3 to E2--><a href=\"psysml:9e57242c-9184-4252-9565-bec20c63fdb8\" target=\"_top\" title=\"psysml:9e57242c-9184-4252-9565-bec20c63fdb8\" xlink:actuate=\"onRequest\" xlink:href=\"psysml:9e57242c-9184-4252-9565-bec20c63fdb8\" xlink:show=\"new\" xlink:title=\"psysml:9e57242c-9184-4252-9565-bec20c63fdb8\" xlink:type=\"simple\"><path d=\"M174.34,201.31 C177.92,219.67 183.15,246.54 187.87,270.81 \" fill=\"none\" id=\"E3-&gt;E2\" style=\"stroke: #383838; stroke-width: 1.0;\"/><polygon fill=\"none\" points=\"194.8,269.8,191.75,290.77,181.06,272.47,194.8,269.8\" style=\"stroke: #383838; stroke-width: 1.0;\"/></a><!--MD5=[15ebcb19ae302d9b601edb458606d402]\n",
       "link E5 to E2--><a href=\"psysml:5cdbdbe7-d14c-45c9-a804-61f18115238e\" target=\"_top\" title=\"psysml:5cdbdbe7-d14c-45c9-a804-61f18115238e\" xlink:actuate=\"onRequest\" xlink:href=\"psysml:5cdbdbe7-d14c-45c9-a804-61f18115238e\" xlink:show=\"new\" xlink:title=\"psysml:5cdbdbe7-d14c-45c9-a804-61f18115238e\" xlink:type=\"simple\"><path d=\"M325.69,201.31 C304.9,222.1 273.2,253.8 246.71,280.29 \" fill=\"none\" id=\"E5-&gt;E2\" style=\"stroke: #383838; stroke-width: 1.0;\"/><polygon fill=\"none\" points=\"251.33,285.57,232.24,294.76,241.43,275.67,251.33,285.57\" style=\"stroke: #383838; stroke-width: 1.0;\"/></a><!--MD5=[9120cf2e5df3bff93db8f754bbbc09b4]\n",
       "link E5 to E6--><a href=\"psysml:052c6ce9-d9db-4da6-90c4-ac16555550ac\" target=\"_top\" title=\"psysml:052c6ce9-d9db-4da6-90c4-ac16555550ac\" xlink:actuate=\"onRequest\" xlink:href=\"psysml:052c6ce9-d9db-4da6-90c4-ac16555550ac\" xlink:show=\"new\" xlink:title=\"psysml:052c6ce9-d9db-4da6-90c4-ac16555550ac\" xlink:type=\"simple\"><path d=\"M341.72,211.26 C338.1,229.85 333.47,253.68 329.32,274.95 \" fill=\"none\" id=\"E5-E6\" style=\"stroke: #383838; stroke-width: 1.0;\"/><polygon fill=\"#383838\" points=\"327.4,284.84,331.8761,277.5623,325.987,276.4136,327.4,284.84\" style=\"stroke: #383838; stroke-width: 1.0;\"/><path d=\"M334.7699,202.7122 A9,9 0 0 0 351.3715 205.9503\" fill=\"none\" style=\"stroke: #383838; stroke-width: 1.5;\"/><text fill=\"#000000\" font-family=\"sans-serif\" font-size=\"13\" lengthAdjust=\"spacingAndGlyphs\" textLength=\"60\" x=\"337\" y=\"251.0669\">«variant»</text></a><!--MD5=[14ccda38c055a5c0da953d572bc50960]\n",
       "link E7 to E3--><a href=\"psysml:648145d1-1ec9-42fc-8307-fa8910350658\" target=\"_top\" title=\"psysml:648145d1-1ec9-42fc-8307-fa8910350658\" xlink:actuate=\"onRequest\" xlink:href=\"psysml:648145d1-1ec9-42fc-8307-fa8910350658\" xlink:show=\"new\" xlink:title=\"psysml:648145d1-1ec9-42fc-8307-fa8910350658\" xlink:type=\"simple\"><path d=\"M170,87.13 C170,100.7 170,118.53 170,134.73 \" fill=\"none\" id=\"E7-&gt;E3\" style=\"stroke: #383838; stroke-width: 1.0;\"/><polygon fill=\"#FFFFFF\" points=\"170,154.92,163,135.92,177,135.92,170,154.92\" style=\"stroke: #383838; stroke-width: 1.0;\"/><ellipse cx=\"165\" cy=\"130.22\" fill=\"#383838\" rx=\"2\" ry=\"2\" style=\"stroke: #383838; stroke-width: 1.0;\"/><ellipse cx=\"175\" cy=\"130.22\" fill=\"#383838\" rx=\"2\" ry=\"2\" style=\"stroke: #383838; stroke-width: 1.0;\"/></a><!--MD5=[f1f3f9f2fc535e6147756cb86a7f2e32]\n",
       "link E8 to E2--><a href=\"psysml:19cda0c9-2775-4d9d-8cd8-191c5ad52b34\" target=\"_top\" title=\"psysml:19cda0c9-2775-4d9d-8cd8-191c5ad52b34\" xlink:actuate=\"onRequest\" xlink:href=\"psysml:19cda0c9-2775-4d9d-8cd8-191c5ad52b34\" xlink:show=\"new\" xlink:title=\"psysml:19cda0c9-2775-4d9d-8cd8-191c5ad52b34\" xlink:type=\"simple\"><path d=\"M102.17,204.39 C114.52,214.17 128.04,225.9 139,238 C148.86,248.88 158.29,261.5 166.63,273.79 \" fill=\"none\" id=\"E8-&gt;E2\" style=\"stroke: #383838; stroke-width: 1.0;\"/><polygon fill=\"#FFFFFF\" points=\"177.64,290.73,161.4168,278.6135,173.1555,270.9844,177.64,290.73\" style=\"stroke: #383838; stroke-width: 1.0;\"/><ellipse cx=\"159.9876\" cy=\"272.7443\" fill=\"#383838\" rx=\"2\" ry=\"2\" style=\"stroke: #383838; stroke-width: 1.0;\"/><ellipse cx=\"168.3724\" cy=\"267.2949\" fill=\"#383838\" rx=\"2\" ry=\"2\" style=\"stroke: #383838; stroke-width: 1.0;\"/></a><!--MD5=[ed10624c06dd9a4fa49ccf290e8b16a8]\n",
       "link E8 to E9--><a href=\"psysml:28d39c7a-e0c7-42b0-858e-2cb4e488f108\" target=\"_top\" title=\"psysml:28d39c7a-e0c7-42b0-858e-2cb4e488f108\" xlink:actuate=\"onRequest\" xlink:href=\"psysml:28d39c7a-e0c7-42b0-858e-2cb4e488f108\" xlink:show=\"new\" xlink:title=\"psysml:28d39c7a-e0c7-42b0-858e-2cb4e488f108\" xlink:type=\"simple\"><path d=\"M68.06,218.32 C68.52,235.6 69.07,256.15 69.57,274.77 \" fill=\"none\" id=\"E8-E9\" style=\"stroke: #383838; stroke-width: 1.0;\"/><polygon fill=\"#383838\" points=\"69.84,284.88,72.6331,276.8054,66.6351,276.9599,69.84,284.88\" style=\"stroke: #383838; stroke-width: 1.0;\"/><path d=\"M59.4094,211.3865 A9,9 0 0 0 76.3176 210.9276\" fill=\"none\" style=\"stroke: #383838; stroke-width: 1.5;\"/><text fill=\"#000000\" font-family=\"sans-serif\" font-size=\"13\" lengthAdjust=\"spacingAndGlyphs\" textLength=\"60\" x=\"70\" y=\"251.0669\">«variant»</text></a><!--MD5=[0f36bececdf0dff6e600d6f64214b0f1]\n",
       "link E10 to E2--><a href=\"psysml:8cfcd01d-a74f-43be-a680-d41b6ee6accc\" target=\"_top\" title=\"psysml:8cfcd01d-a74f-43be-a680-d41b6ee6accc\" xlink:actuate=\"onRequest\" xlink:href=\"psysml:8cfcd01d-a74f-43be-a680-d41b6ee6accc\" xlink:show=\"new\" xlink:title=\"psysml:8cfcd01d-a74f-43be-a680-d41b6ee6accc\" xlink:type=\"simple\"><path d=\"M250.02,201.31 C242.51,219.95 231.48,247.35 221.59,271.91 \" fill=\"none\" id=\"E10-&gt;E2\" style=\"stroke: #383838; stroke-width: 1.0;\"/><polygon fill=\"#FFFFFF\" points=\"213.99,290.77,214.5927,270.5305,227.5796,275.7593,213.99,290.77\" style=\"stroke: #383838; stroke-width: 1.0;\"/><ellipse cx=\"218.5768\" cy=\"265.9899\" fill=\"#383838\" rx=\"2\" ry=\"2\" style=\"stroke: #383838; stroke-width: 1.0;\"/><ellipse cx=\"227.8532\" cy=\"269.7248\" fill=\"#383838\" rx=\"2\" ry=\"2\" style=\"stroke: #383838; stroke-width: 1.0;\"/></a><!--MD5=[a217e4e4759a485a6a525c90a3cd304d]\n",
       "@startuml\r\n",
       "skinparam monochrome true\r\n",
       "skinparam classbackgroundcolor white\r\n",
       "skinparam shadowing false\r\n",
       "skinparam wrapWidth 300\r\n",
       "hide circle\r\n",
       "\r\n",
       "package \"VariabilityTest\" as E1  [[psysml:c9192910-aa77-45a9-9ae3-16f7deb9d13d ]]  {\r\n",
       "comp def \"P\" as E2  <<(T,blue)part def>> [[psysml:28b4b804-815b-4815-9c5e-e5b09d6ccef7 ]] {\r\n",
       "- - attributes - -\r\n",
       "a\r\n",
       "}\r\n",
       "comp def \"Q\" as E3  <<(T,blue)part def>> [[psysml:3556ece0-f840-441c-8cd2-5d7027a1a805 ]] {\r\n",
       "}\r\n",
       "comp def \"B\" as E4  <<(T,blue)attribute def>> [[psysml:c1ea47d2-f15e-4f05-bf93-ec81669ca641 ]] {\r\n",
       "}\r\n",
       "comp def \"V\" as E5  <<(T,blue)part def>> [[psysml:735cd89a-e4b2-4dc5-b3d6-41534f400f39 ]] {\r\n",
       "}\r\n",
       "comp usage \"x: Q\" as E6  <<(T,blue)part>> [[psysml:0400016e-70f0-4405-a71c-97e49bd60e65 ]] {\r\n",
       "- - attributes - -\r\n",
       "b: B\\n//:>>P::a// \r\n",
       "}\r\n",
       "comp usage \"q: Q\" as E7  <<(T,blue)part>> [[psysml:ac43cc4c-8177-486e-b5a5-e877f62f9bc5 ]] {\r\n",
       "}\r\n",
       "comp usage \"v: P\" as E8  <<variation>>\\n <<(T,blue)part>> [[psysml:ce952eae-8bb1-4ad0-9f02-4c42d4c1d0c7 ]] {\r\n",
       "}\r\n",
       "comp usage \"q\" as E9  <<(T,blue)reference>> [[psysml:572dfe4e-6d7c-4ba8-94a3-d7ce0272bed9 ]] {\r\n",
       "- - attributes - -\r\n",
       "b: B\\n//:>>P::a// \r\n",
       "}\r\n",
       "comp usage \"y: P\" as E10  <<(T,blue)part>> [[psysml:983a8093-9810-4637-96cc-9ee8fb3d9cf5 ]] {\r\n",
       "}\r\n",
       "E3 - -|> E2 [[psysml:9e57242c-9184-4252-9565-bec20c63fdb8 ]] \r\n",
       "E5 - -|> E2 [[psysml:5cdbdbe7-d14c-45c9-a804-61f18115238e ]] \r\n",
       "E5 )- ->> E6 [[psysml:052c6ce9-d9db-4da6-90c4-ac16555550ac ]] : <<variant>>\r\n",
       "E7 - -:|> E3 [[psysml:648145d1-1ec9-42fc-8307-fa8910350658 ]] \r\n",
       "E8 - -:|> E2 [[psysml:19cda0c9-2775-4d9d-8cd8-191c5ad52b34 ]] \r\n",
       "E8 )- ->> E9 [[psysml:28d39c7a-e0c7-42b0-858e-2cb4e488f108 ]] : <<variant>>\r\n",
       "E10 - -:|> E2 [[psysml:8cfcd01d-a74f-43be-a680-d41b6ee6accc ]] \r\n",
       "}\r\n",
       "@enduml\r\n",
       "\n",
       "PlantUML version 1.2020.13(Sat Jun 13 12:26:38 UTC 2020)\n",
       "(EPL source distribution)\n",
       "Java Runtime: OpenJDK Runtime Environment\n",
       "JVM: OpenJDK 64-Bit Server VM\n",
       "Default Encoding: UTF-8\n",
       "Language: en\n",
       "Country: null\n",
       "--></g></svg>"
      ]
     },
     "execution_count": 43,
     "metadata": {},
     "output_type": "execute_result"
    }
   ],
   "source": [
    "%viz --style=\"DEFAULT\" --view=\"MIXED\" \"VariabilityTest\""
   ]
  },
  {
   "cell_type": "code",
   "execution_count": 44,
   "id": "f0a7d3de",
   "metadata": {
    "execution": {
     "iopub.execute_input": "2021-05-28T10:47:58.032777Z",
     "iopub.status.busy": "2021-05-28T10:47:58.032172Z",
     "iopub.status.idle": "2021-05-28T10:47:58.113976Z",
     "shell.execute_reply": "2021-05-28T10:47:58.113616Z"
    }
   },
   "outputs": [
    {
     "data": {
      "image/svg+xml": [
       "<?xml version=\"1.0\" encoding=\"UTF-8\" standalone=\"no\"?><svg xmlns=\"http://www.w3.org/2000/svg\" xmlns:xlink=\"http://www.w3.org/1999/xlink\" contentScriptType=\"application/ecmascript\" contentStyleType=\"text/css\" height=\"401px\" preserveAspectRatio=\"none\" style=\"width:419px;height:401px;\" version=\"1.1\" viewBox=\"0 0 419 401\" width=\"419px\" zoomAndPan=\"magnify\"><defs/><g><!--MD5=[fbc87193dbaf4d95561dea2c320d4a47]\n",
       "cluster E1--><a href=\"psysml:c9192910-aa77-45a9-9ae3-16f7deb9d13d\" target=\"_top\" title=\"psysml:c9192910-aa77-45a9-9ae3-16f7deb9d13d\" xlink:actuate=\"onRequest\" xlink:href=\"psysml:c9192910-aa77-45a9-9ae3-16f7deb9d13d\" xlink:show=\"new\" xlink:title=\"psysml:c9192910-aa77-45a9-9ae3-16f7deb9d13d\" xlink:type=\"simple\"><polygon fill=\"#FFFFFF\" points=\"16,6,134,6,141,28.2969,397,28.2969,397,389,16,389,16,6\" style=\"stroke: #000000; stroke-width: 1.5;\"/><line style=\"stroke: #000000; stroke-width: 1.5;\" x1=\"16\" x2=\"141\" y1=\"28.2969\" y2=\"28.2969\"/><text fill=\"#000000\" font-family=\"sans-serif\" font-size=\"14\" font-weight=\"bold\" lengthAdjust=\"spacingAndGlyphs\" textLength=\"112\" x=\"20\" y=\"20.9951\">VariabilityTest</text></a><!--MD5=[b4997ac47864f28c2f74865a473b2911]\n",
       "class E2--><a href=\"psysml:28b4b804-815b-4815-9c5e-e5b09d6ccef7\" target=\"_top\" title=\"psysml:28b4b804-815b-4815-9c5e-e5b09d6ccef7\" xlink:actuate=\"onRequest\" xlink:href=\"psysml:28b4b804-815b-4815-9c5e-e5b09d6ccef7\" xlink:show=\"new\" xlink:title=\"psysml:28b4b804-815b-4815-9c5e-e5b09d6ccef7\" xlink:type=\"simple\"><rect fill=\"#FFFFFF\" height=\"75.5469\" id=\"E2\" style=\"stroke: #383838; stroke-width: 1.5;\" width=\"66\" x=\"166\" y=\"291\"/><text fill=\"#000000\" font-family=\"sans-serif\" font-size=\"12\" font-style=\"italic\" lengthAdjust=\"spacingAndGlyphs\" textLength=\"64\" x=\"167\" y=\"307.1387\">«part def»</text><text fill=\"#000000\" font-family=\"sans-serif\" font-size=\"12\" lengthAdjust=\"spacingAndGlyphs\" textLength=\"8\" x=\"195\" y=\"321.1074\">P</text><line style=\"stroke: #383838; stroke-width: 1.5;\" x1=\"167\" x2=\"231\" y1=\"328.9375\" y2=\"328.9375\"/><text fill=\"#000000\" font-family=\"sans-serif\" font-size=\"11\" lengthAdjust=\"spacingAndGlyphs\" textLength=\"7\" x=\"172\" y=\"359.9526\">a</text><line style=\"stroke: #383838; stroke-width: 1.0;\" x1=\"167\" x2=\"171.5\" y1=\"343.3398\" y2=\"343.3398\"/><text fill=\"#000000\" font-family=\"sans-serif\" font-size=\"11\" lengthAdjust=\"spacingAndGlyphs\" textLength=\"55\" x=\"171.5\" y=\"346.6479\">attributes</text><line style=\"stroke: #383838; stroke-width: 1.0;\" x1=\"226.5\" x2=\"231\" y1=\"343.3398\" y2=\"343.3398\"/></a><!--MD5=[09b614a08d8cba4a07c9adeb5e0fee81]\n",
       "class E3--><a href=\"psysml:3556ece0-f840-441c-8cd2-5d7027a1a805\" target=\"_top\" title=\"psysml:3556ece0-f840-441c-8cd2-5d7027a1a805\" xlink:actuate=\"onRequest\" xlink:href=\"psysml:3556ece0-f840-441c-8cd2-5d7027a1a805\" xlink:show=\"new\" xlink:title=\"psysml:3556ece0-f840-441c-8cd2-5d7027a1a805\" xlink:type=\"simple\"><rect fill=\"#FFFFFF\" height=\"45.9375\" id=\"E3\" style=\"stroke: #383838; stroke-width: 1.5;\" width=\"66\" x=\"137\" y=\"155\"/><text fill=\"#000000\" font-family=\"sans-serif\" font-size=\"12\" font-style=\"italic\" lengthAdjust=\"spacingAndGlyphs\" textLength=\"64\" x=\"138\" y=\"171.1387\">«part def»</text><text fill=\"#000000\" font-family=\"sans-serif\" font-size=\"12\" lengthAdjust=\"spacingAndGlyphs\" textLength=\"9\" x=\"165.5\" y=\"185.1074\">Q</text><line style=\"stroke: #383838; stroke-width: 1.5;\" x1=\"138\" x2=\"202\" y1=\"192.9375\" y2=\"192.9375\"/></a><!--MD5=[ebbe1d658d1005bcc118a6aa81145e00]\n",
       "class E4--><a href=\"psysml:c1ea47d2-f15e-4f05-bf93-ec81669ca641\" target=\"_top\" title=\"psysml:c1ea47d2-f15e-4f05-bf93-ec81669ca641\" xlink:actuate=\"onRequest\" xlink:href=\"psysml:c1ea47d2-f15e-4f05-bf93-ec81669ca641\" xlink:show=\"new\" xlink:title=\"psysml:c1ea47d2-f15e-4f05-bf93-ec81669ca641\" xlink:type=\"simple\"><rect fill=\"#FFFFFF\" height=\"45.9375\" id=\"E4\" style=\"stroke: #383838; stroke-width: 1.5;\" width=\"95\" x=\"255.5\" y=\"41\"/><text fill=\"#000000\" font-family=\"sans-serif\" font-size=\"12\" font-style=\"italic\" lengthAdjust=\"spacingAndGlyphs\" textLength=\"93\" x=\"256.5\" y=\"57.1387\">«attribute def»</text><text fill=\"#000000\" font-family=\"sans-serif\" font-size=\"12\" lengthAdjust=\"spacingAndGlyphs\" textLength=\"8\" x=\"299\" y=\"71.1074\">B</text><line style=\"stroke: #383838; stroke-width: 1.5;\" x1=\"256.5\" x2=\"349.5\" y1=\"78.9375\" y2=\"78.9375\"/></a><!--MD5=[270fce915f116d4de14055a7c1d9a0f3]\n",
       "class E5--><a href=\"psysml:735cd89a-e4b2-4dc5-b3d6-41534f400f39\" target=\"_top\" title=\"psysml:735cd89a-e4b2-4dc5-b3d6-41534f400f39\" xlink:actuate=\"onRequest\" xlink:href=\"psysml:735cd89a-e4b2-4dc5-b3d6-41534f400f39\" xlink:show=\"new\" xlink:title=\"psysml:735cd89a-e4b2-4dc5-b3d6-41534f400f39\" xlink:type=\"simple\"><rect fill=\"#FFFFFF\" height=\"45.9375\" id=\"E5\" style=\"stroke: #383838; stroke-width: 1.5;\" width=\"66\" x=\"315\" y=\"155\"/><text fill=\"#000000\" font-family=\"sans-serif\" font-size=\"12\" font-style=\"italic\" lengthAdjust=\"spacingAndGlyphs\" textLength=\"64\" x=\"316\" y=\"171.1387\">«part def»</text><text fill=\"#000000\" font-family=\"sans-serif\" font-size=\"12\" lengthAdjust=\"spacingAndGlyphs\" textLength=\"8\" x=\"344\" y=\"185.1074\">V</text><line style=\"stroke: #383838; stroke-width: 1.5;\" x1=\"316\" x2=\"380\" y1=\"192.9375\" y2=\"192.9375\"/></a><!--MD5=[60a26617385b1d2d0262a64233df1f8d]\n",
       "class E6--><a href=\"psysml:0400016e-70f0-4405-a71c-97e49bd60e65\" target=\"_top\" title=\"psysml:0400016e-70f0-4405-a71c-97e49bd60e65\" xlink:actuate=\"onRequest\" xlink:href=\"psysml:0400016e-70f0-4405-a71c-97e49bd60e65\" xlink:show=\"new\" xlink:title=\"psysml:0400016e-70f0-4405-a71c-97e49bd60e65\" xlink:type=\"simple\"><rect fill=\"#FFFFFF\" height=\"88.3516\" id=\"E6\" rx=\"10\" ry=\"10\" style=\"stroke: #383838; stroke-width: 1.5;\" width=\"63\" x=\"287.5\" y=\"285\"/><text fill=\"#000000\" font-family=\"sans-serif\" font-size=\"12\" font-style=\"italic\" lengthAdjust=\"spacingAndGlyphs\" textLength=\"40\" x=\"299\" y=\"301.1387\">«part»</text><text fill=\"#000000\" font-family=\"sans-serif\" font-size=\"12\" lengthAdjust=\"spacingAndGlyphs\" textLength=\"23\" x=\"307.5\" y=\"315.1074\">x: Q</text><line style=\"stroke: #383838; stroke-width: 1.5;\" x1=\"288.5\" x2=\"349.5\" y1=\"322.9375\" y2=\"322.9375\"/><text fill=\"#000000\" font-family=\"sans-serif\" font-size=\"11\" lengthAdjust=\"spacingAndGlyphs\" textLength=\"23\" x=\"293.5\" y=\"353.9526\">b: B</text><text fill=\"#000000\" font-family=\"sans-serif\" font-size=\"11\" font-style=\"italic\" lengthAdjust=\"spacingAndGlyphs\" textLength=\"44\" x=\"293.5\" y=\"366.7573\">:&gt;&gt;P::a</text><line style=\"stroke: #383838; stroke-width: 1.0;\" x1=\"288.5\" x2=\"291.5\" y1=\"337.3398\" y2=\"337.3398\"/><text fill=\"#000000\" font-family=\"sans-serif\" font-size=\"11\" lengthAdjust=\"spacingAndGlyphs\" textLength=\"55\" x=\"291.5\" y=\"340.6479\">attributes</text><line style=\"stroke: #383838; stroke-width: 1.0;\" x1=\"346.5\" x2=\"349.5\" y1=\"337.3398\" y2=\"337.3398\"/></a><!--MD5=[2156ba9850f5573cc1fc38a6a4b2f02b]\n",
       "class E7--><a href=\"psysml:ac43cc4c-8177-486e-b5a5-e877f62f9bc5\" target=\"_top\" title=\"psysml:ac43cc4c-8177-486e-b5a5-e877f62f9bc5\" xlink:actuate=\"onRequest\" xlink:href=\"psysml:ac43cc4c-8177-486e-b5a5-e877f62f9bc5\" xlink:show=\"new\" xlink:title=\"psysml:ac43cc4c-8177-486e-b5a5-e877f62f9bc5\" xlink:type=\"simple\"><rect fill=\"#FFFFFF\" height=\"45.9375\" id=\"E7\" rx=\"10\" ry=\"10\" style=\"stroke: #383838; stroke-width: 1.5;\" width=\"42\" x=\"149\" y=\"41\"/><text fill=\"#000000\" font-family=\"sans-serif\" font-size=\"12\" font-style=\"italic\" lengthAdjust=\"spacingAndGlyphs\" textLength=\"40\" x=\"150\" y=\"57.1387\">«part»</text><text fill=\"#000000\" font-family=\"sans-serif\" font-size=\"12\" lengthAdjust=\"spacingAndGlyphs\" textLength=\"25\" x=\"157.5\" y=\"71.1074\">q: Q</text><line style=\"stroke: #383838; stroke-width: 1.5;\" x1=\"150\" x2=\"190\" y1=\"78.9375\" y2=\"78.9375\"/></a><!--MD5=[b9389687b975829384b498ac4b7476b2]\n",
       "class E8--><a href=\"psysml:ce952eae-8bb1-4ad0-9f02-4c42d4c1d0c7\" target=\"_top\" title=\"psysml:ce952eae-8bb1-4ad0-9f02-4c42d4c1d0c7\" xlink:actuate=\"onRequest\" xlink:href=\"psysml:ce952eae-8bb1-4ad0-9f02-4c42d4c1d0c7\" xlink:show=\"new\" xlink:title=\"psysml:ce952eae-8bb1-4ad0-9f02-4c42d4c1d0c7\" xlink:type=\"simple\"><rect fill=\"#FFFFFF\" height=\"59.9063\" id=\"E8\" rx=\"10\" ry=\"10\" style=\"stroke: #383838; stroke-width: 1.5;\" width=\"70\" x=\"32\" y=\"148\"/><text fill=\"#000000\" font-family=\"sans-serif\" font-size=\"12\" font-style=\"italic\" lengthAdjust=\"spacingAndGlyphs\" textLength=\"68\" x=\"33\" y=\"164.1387\">«variation»</text><text fill=\"#000000\" font-family=\"sans-serif\" font-size=\"12\" font-style=\"italic\" lengthAdjust=\"spacingAndGlyphs\" textLength=\"40\" x=\"47\" y=\"178.1074\">«part»</text><text fill=\"#000000\" font-family=\"sans-serif\" font-size=\"12\" lengthAdjust=\"spacingAndGlyphs\" textLength=\"22\" x=\"56\" y=\"192.0762\">v: P</text><line style=\"stroke: #383838; stroke-width: 1.5;\" x1=\"33\" x2=\"101\" y1=\"199.9063\" y2=\"199.9063\"/></a><!--MD5=[fd4143e9d270a159db93a4ea2a975926]\n",
       "class E9--><a href=\"psysml:572dfe4e-6d7c-4ba8-94a3-d7ce0272bed9\" target=\"_top\" title=\"psysml:572dfe4e-6d7c-4ba8-94a3-d7ce0272bed9\" xlink:actuate=\"onRequest\" xlink:href=\"psysml:572dfe4e-6d7c-4ba8-94a3-d7ce0272bed9\" xlink:show=\"new\" xlink:title=\"psysml:572dfe4e-6d7c-4ba8-94a3-d7ce0272bed9\" xlink:type=\"simple\"><rect fill=\"#FFFFFF\" height=\"88.3516\" id=\"E9\" rx=\"10\" ry=\"10\" style=\"stroke: #383838; stroke-width: 1.5;\" width=\"77\" x=\"32.5\" y=\"285\"/><text fill=\"#000000\" font-family=\"sans-serif\" font-size=\"12\" font-style=\"italic\" lengthAdjust=\"spacingAndGlyphs\" textLength=\"75\" x=\"33.5\" y=\"301.1387\">«reference»</text><text fill=\"#000000\" font-family=\"sans-serif\" font-size=\"12\" lengthAdjust=\"spacingAndGlyphs\" textLength=\"8\" x=\"67\" y=\"315.1074\">q</text><line style=\"stroke: #383838; stroke-width: 1.5;\" x1=\"33.5\" x2=\"108.5\" y1=\"322.9375\" y2=\"322.9375\"/><text fill=\"#000000\" font-family=\"sans-serif\" font-size=\"11\" lengthAdjust=\"spacingAndGlyphs\" textLength=\"23\" x=\"38.5\" y=\"353.9526\">b: B</text><text fill=\"#000000\" font-family=\"sans-serif\" font-size=\"11\" font-style=\"italic\" lengthAdjust=\"spacingAndGlyphs\" textLength=\"44\" x=\"38.5\" y=\"366.7573\">:&gt;&gt;P::a</text><line style=\"stroke: #383838; stroke-width: 1.0;\" x1=\"33.5\" x2=\"43.5\" y1=\"337.3398\" y2=\"337.3398\"/><text fill=\"#000000\" font-family=\"sans-serif\" font-size=\"11\" lengthAdjust=\"spacingAndGlyphs\" textLength=\"55\" x=\"43.5\" y=\"340.6479\">attributes</text><line style=\"stroke: #383838; stroke-width: 1.0;\" x1=\"98.5\" x2=\"108.5\" y1=\"337.3398\" y2=\"337.3398\"/></a><!--MD5=[96f4274e9e20536e775497830990834d]\n",
       "class E10--><a href=\"psysml:983a8093-9810-4637-96cc-9ee8fb3d9cf5\" target=\"_top\" title=\"psysml:983a8093-9810-4637-96cc-9ee8fb3d9cf5\" xlink:actuate=\"onRequest\" xlink:href=\"psysml:983a8093-9810-4637-96cc-9ee8fb3d9cf5\" xlink:show=\"new\" xlink:title=\"psysml:983a8093-9810-4637-96cc-9ee8fb3d9cf5\" xlink:type=\"simple\"><rect fill=\"#FFFFFF\" height=\"45.9375\" id=\"E10\" rx=\"10\" ry=\"10\" style=\"stroke: #383838; stroke-width: 1.5;\" width=\"42\" x=\"238\" y=\"155\"/><text fill=\"#000000\" font-family=\"sans-serif\" font-size=\"12\" font-style=\"italic\" lengthAdjust=\"spacingAndGlyphs\" textLength=\"40\" x=\"239\" y=\"171.1387\">«part»</text><text fill=\"#000000\" font-family=\"sans-serif\" font-size=\"12\" lengthAdjust=\"spacingAndGlyphs\" textLength=\"22\" x=\"248\" y=\"185.1074\">y: P</text><line style=\"stroke: #383838; stroke-width: 1.5;\" x1=\"239\" x2=\"279\" y1=\"192.9375\" y2=\"192.9375\"/></a><!--MD5=[05d275557350bfb9b23a4ef7222b4c39]\n",
       "link E3 to E2--><a href=\"psysml:9e57242c-9184-4252-9565-bec20c63fdb8\" target=\"_top\" title=\"psysml:9e57242c-9184-4252-9565-bec20c63fdb8\" xlink:actuate=\"onRequest\" xlink:href=\"psysml:9e57242c-9184-4252-9565-bec20c63fdb8\" xlink:show=\"new\" xlink:title=\"psysml:9e57242c-9184-4252-9565-bec20c63fdb8\" xlink:type=\"simple\"><path d=\"M174.34,201.31 C177.92,219.67 183.15,246.54 187.87,270.81 \" fill=\"none\" id=\"E3-&gt;E2\" style=\"stroke: #383838; stroke-width: 1.0;\"/><polygon fill=\"none\" points=\"194.8,269.8,191.75,290.77,181.06,272.47,194.8,269.8\" style=\"stroke: #383838; stroke-width: 1.0;\"/></a><!--MD5=[15ebcb19ae302d9b601edb458606d402]\n",
       "link E5 to E2--><a href=\"psysml:5cdbdbe7-d14c-45c9-a804-61f18115238e\" target=\"_top\" title=\"psysml:5cdbdbe7-d14c-45c9-a804-61f18115238e\" xlink:actuate=\"onRequest\" xlink:href=\"psysml:5cdbdbe7-d14c-45c9-a804-61f18115238e\" xlink:show=\"new\" xlink:title=\"psysml:5cdbdbe7-d14c-45c9-a804-61f18115238e\" xlink:type=\"simple\"><path d=\"M325.69,201.31 C304.9,222.1 273.2,253.8 246.71,280.29 \" fill=\"none\" id=\"E5-&gt;E2\" style=\"stroke: #383838; stroke-width: 1.0;\"/><polygon fill=\"none\" points=\"251.33,285.57,232.24,294.76,241.43,275.67,251.33,285.57\" style=\"stroke: #383838; stroke-width: 1.0;\"/></a><!--MD5=[9120cf2e5df3bff93db8f754bbbc09b4]\n",
       "link E5 to E6--><a href=\"psysml:052c6ce9-d9db-4da6-90c4-ac16555550ac\" target=\"_top\" title=\"psysml:052c6ce9-d9db-4da6-90c4-ac16555550ac\" xlink:actuate=\"onRequest\" xlink:href=\"psysml:052c6ce9-d9db-4da6-90c4-ac16555550ac\" xlink:show=\"new\" xlink:title=\"psysml:052c6ce9-d9db-4da6-90c4-ac16555550ac\" xlink:type=\"simple\"><path d=\"M341.72,211.26 C338.1,229.85 333.47,253.68 329.32,274.95 \" fill=\"none\" id=\"E5-E6\" style=\"stroke: #383838; stroke-width: 1.0;\"/><polygon fill=\"#383838\" points=\"327.4,284.84,331.8761,277.5623,325.987,276.4136,327.4,284.84\" style=\"stroke: #383838; stroke-width: 1.0;\"/><path d=\"M334.7699,202.7122 A9,9 0 0 0 351.3715 205.9503\" fill=\"none\" style=\"stroke: #383838; stroke-width: 1.5;\"/><text fill=\"#000000\" font-family=\"sans-serif\" font-size=\"13\" lengthAdjust=\"spacingAndGlyphs\" textLength=\"60\" x=\"337\" y=\"251.0669\">«variant»</text></a><!--MD5=[14ccda38c055a5c0da953d572bc50960]\n",
       "link E7 to E3--><a href=\"psysml:648145d1-1ec9-42fc-8307-fa8910350658\" target=\"_top\" title=\"psysml:648145d1-1ec9-42fc-8307-fa8910350658\" xlink:actuate=\"onRequest\" xlink:href=\"psysml:648145d1-1ec9-42fc-8307-fa8910350658\" xlink:show=\"new\" xlink:title=\"psysml:648145d1-1ec9-42fc-8307-fa8910350658\" xlink:type=\"simple\"><path d=\"M170,87.13 C170,100.7 170,118.53 170,134.73 \" fill=\"none\" id=\"E7-&gt;E3\" style=\"stroke: #383838; stroke-width: 1.0;\"/><polygon fill=\"#FFFFFF\" points=\"170,154.92,163,135.92,177,135.92,170,154.92\" style=\"stroke: #383838; stroke-width: 1.0;\"/><ellipse cx=\"165\" cy=\"130.22\" fill=\"#383838\" rx=\"2\" ry=\"2\" style=\"stroke: #383838; stroke-width: 1.0;\"/><ellipse cx=\"175\" cy=\"130.22\" fill=\"#383838\" rx=\"2\" ry=\"2\" style=\"stroke: #383838; stroke-width: 1.0;\"/></a><!--MD5=[f1f3f9f2fc535e6147756cb86a7f2e32]\n",
       "link E8 to E2--><a href=\"psysml:19cda0c9-2775-4d9d-8cd8-191c5ad52b34\" target=\"_top\" title=\"psysml:19cda0c9-2775-4d9d-8cd8-191c5ad52b34\" xlink:actuate=\"onRequest\" xlink:href=\"psysml:19cda0c9-2775-4d9d-8cd8-191c5ad52b34\" xlink:show=\"new\" xlink:title=\"psysml:19cda0c9-2775-4d9d-8cd8-191c5ad52b34\" xlink:type=\"simple\"><path d=\"M102.17,204.39 C114.52,214.17 128.04,225.9 139,238 C148.86,248.88 158.29,261.5 166.63,273.79 \" fill=\"none\" id=\"E8-&gt;E2\" style=\"stroke: #383838; stroke-width: 1.0;\"/><polygon fill=\"#FFFFFF\" points=\"177.64,290.73,161.4168,278.6135,173.1555,270.9844,177.64,290.73\" style=\"stroke: #383838; stroke-width: 1.0;\"/><ellipse cx=\"159.9876\" cy=\"272.7443\" fill=\"#383838\" rx=\"2\" ry=\"2\" style=\"stroke: #383838; stroke-width: 1.0;\"/><ellipse cx=\"168.3724\" cy=\"267.2949\" fill=\"#383838\" rx=\"2\" ry=\"2\" style=\"stroke: #383838; stroke-width: 1.0;\"/></a><!--MD5=[ed10624c06dd9a4fa49ccf290e8b16a8]\n",
       "link E8 to E9--><a href=\"psysml:28d39c7a-e0c7-42b0-858e-2cb4e488f108\" target=\"_top\" title=\"psysml:28d39c7a-e0c7-42b0-858e-2cb4e488f108\" xlink:actuate=\"onRequest\" xlink:href=\"psysml:28d39c7a-e0c7-42b0-858e-2cb4e488f108\" xlink:show=\"new\" xlink:title=\"psysml:28d39c7a-e0c7-42b0-858e-2cb4e488f108\" xlink:type=\"simple\"><path d=\"M68.06,218.32 C68.52,235.6 69.07,256.15 69.57,274.77 \" fill=\"none\" id=\"E8-E9\" style=\"stroke: #383838; stroke-width: 1.0;\"/><polygon fill=\"#383838\" points=\"69.84,284.88,72.6331,276.8054,66.6351,276.9599,69.84,284.88\" style=\"stroke: #383838; stroke-width: 1.0;\"/><path d=\"M59.4094,211.3865 A9,9 0 0 0 76.3176 210.9276\" fill=\"none\" style=\"stroke: #383838; stroke-width: 1.5;\"/><text fill=\"#000000\" font-family=\"sans-serif\" font-size=\"13\" lengthAdjust=\"spacingAndGlyphs\" textLength=\"60\" x=\"70\" y=\"251.0669\">«variant»</text></a><!--MD5=[0f36bececdf0dff6e600d6f64214b0f1]\n",
       "link E10 to E2--><a href=\"psysml:8cfcd01d-a74f-43be-a680-d41b6ee6accc\" target=\"_top\" title=\"psysml:8cfcd01d-a74f-43be-a680-d41b6ee6accc\" xlink:actuate=\"onRequest\" xlink:href=\"psysml:8cfcd01d-a74f-43be-a680-d41b6ee6accc\" xlink:show=\"new\" xlink:title=\"psysml:8cfcd01d-a74f-43be-a680-d41b6ee6accc\" xlink:type=\"simple\"><path d=\"M250.02,201.31 C242.51,219.95 231.48,247.35 221.59,271.91 \" fill=\"none\" id=\"E10-&gt;E2\" style=\"stroke: #383838; stroke-width: 1.0;\"/><polygon fill=\"#FFFFFF\" points=\"213.99,290.77,214.5927,270.5305,227.5796,275.7593,213.99,290.77\" style=\"stroke: #383838; stroke-width: 1.0;\"/><ellipse cx=\"218.5768\" cy=\"265.9899\" fill=\"#383838\" rx=\"2\" ry=\"2\" style=\"stroke: #383838; stroke-width: 1.0;\"/><ellipse cx=\"227.8532\" cy=\"269.7248\" fill=\"#383838\" rx=\"2\" ry=\"2\" style=\"stroke: #383838; stroke-width: 1.0;\"/></a><!--MD5=[6016c2f5bca4f415e58011c7236b8165]\n",
       "@startuml\r\n",
       "top to bottom direction\r\n",
       "skinparam monochrome true\r\n",
       "skinparam classbackgroundcolor white\r\n",
       "skinparam shadowing false\r\n",
       "skinparam wrapWidth 300\r\n",
       "hide circle\r\n",
       "\r\n",
       "package \"VariabilityTest\" as E1  [[psysml:c9192910-aa77-45a9-9ae3-16f7deb9d13d ]]  {\r\n",
       "comp def \"P\" as E2  <<(T,blue)part def>> [[psysml:28b4b804-815b-4815-9c5e-e5b09d6ccef7 ]] {\r\n",
       "- - attributes - -\r\n",
       "a\r\n",
       "}\r\n",
       "comp def \"Q\" as E3  <<(T,blue)part def>> [[psysml:3556ece0-f840-441c-8cd2-5d7027a1a805 ]] {\r\n",
       "}\r\n",
       "comp def \"B\" as E4  <<(T,blue)attribute def>> [[psysml:c1ea47d2-f15e-4f05-bf93-ec81669ca641 ]] {\r\n",
       "}\r\n",
       "comp def \"V\" as E5  <<(T,blue)part def>> [[psysml:735cd89a-e4b2-4dc5-b3d6-41534f400f39 ]] {\r\n",
       "}\r\n",
       "comp usage \"x: Q\" as E6  <<(T,blue)part>> [[psysml:0400016e-70f0-4405-a71c-97e49bd60e65 ]] {\r\n",
       "- - attributes - -\r\n",
       "b: B\\n//:>>P::a// \r\n",
       "}\r\n",
       "comp usage \"q: Q\" as E7  <<(T,blue)part>> [[psysml:ac43cc4c-8177-486e-b5a5-e877f62f9bc5 ]] {\r\n",
       "}\r\n",
       "comp usage \"v: P\" as E8  <<variation>>\\n <<(T,blue)part>> [[psysml:ce952eae-8bb1-4ad0-9f02-4c42d4c1d0c7 ]] {\r\n",
       "}\r\n",
       "comp usage \"q\" as E9  <<(T,blue)reference>> [[psysml:572dfe4e-6d7c-4ba8-94a3-d7ce0272bed9 ]] {\r\n",
       "- - attributes - -\r\n",
       "b: B\\n//:>>P::a// \r\n",
       "}\r\n",
       "comp usage \"y: P\" as E10  <<(T,blue)part>> [[psysml:983a8093-9810-4637-96cc-9ee8fb3d9cf5 ]] {\r\n",
       "}\r\n",
       "E3 - -|> E2 [[psysml:9e57242c-9184-4252-9565-bec20c63fdb8 ]] \r\n",
       "E5 - -|> E2 [[psysml:5cdbdbe7-d14c-45c9-a804-61f18115238e ]] \r\n",
       "E5 )- ->> E6 [[psysml:052c6ce9-d9db-4da6-90c4-ac16555550ac ]] : <<variant>>\r\n",
       "E7 - -:|> E3 [[psysml:648145d1-1ec9-42fc-8307-fa8910350658 ]] \r\n",
       "E8 - -:|> E2 [[psysml:19cda0c9-2775-4d9d-8cd8-191c5ad52b34 ]] \r\n",
       "E8 )- ->> E9 [[psysml:28d39c7a-e0c7-42b0-858e-2cb4e488f108 ]] : <<variant>>\r\n",
       "E10 - -:|> E2 [[psysml:8cfcd01d-a74f-43be-a680-d41b6ee6accc ]] \r\n",
       "}\r\n",
       "@enduml\r\n",
       "\n",
       "PlantUML version 1.2020.13(Sat Jun 13 12:26:38 UTC 2020)\n",
       "(EPL source distribution)\n",
       "Java Runtime: OpenJDK Runtime Environment\n",
       "JVM: OpenJDK 64-Bit Server VM\n",
       "Default Encoding: UTF-8\n",
       "Language: en\n",
       "Country: null\n",
       "--></g></svg>"
      ]
     },
     "execution_count": 44,
     "metadata": {},
     "output_type": "execute_result"
    }
   ],
   "source": [
    "%viz --style=\"TB\" --view=\"Default\" \"VariabilityTest\""
   ]
  },
  {
   "cell_type": "code",
   "execution_count": 45,
   "id": "ffbdebbd",
   "metadata": {
    "execution": {
     "iopub.execute_input": "2021-05-28T10:47:58.164094Z",
     "iopub.status.busy": "2021-05-28T10:47:58.163577Z",
     "iopub.status.idle": "2021-05-28T10:47:58.236518Z",
     "shell.execute_reply": "2021-05-28T10:47:58.234880Z"
    }
   },
   "outputs": [
    {
     "data": {
      "image/svg+xml": [
       "<?xml version=\"1.0\" encoding=\"UTF-8\" standalone=\"no\"?><svg xmlns=\"http://www.w3.org/2000/svg\" xmlns:xlink=\"http://www.w3.org/1999/xlink\" contentScriptType=\"application/ecmascript\" contentStyleType=\"text/css\" height=\"401px\" preserveAspectRatio=\"none\" style=\"width:419px;height:401px;\" version=\"1.1\" viewBox=\"0 0 419 401\" width=\"419px\" zoomAndPan=\"magnify\"><defs/><g><!--MD5=[fbc87193dbaf4d95561dea2c320d4a47]\n",
       "cluster E1--><a href=\"psysml:c9192910-aa77-45a9-9ae3-16f7deb9d13d\" target=\"_top\" title=\"psysml:c9192910-aa77-45a9-9ae3-16f7deb9d13d\" xlink:actuate=\"onRequest\" xlink:href=\"psysml:c9192910-aa77-45a9-9ae3-16f7deb9d13d\" xlink:show=\"new\" xlink:title=\"psysml:c9192910-aa77-45a9-9ae3-16f7deb9d13d\" xlink:type=\"simple\"><polygon fill=\"#FFFFFF\" points=\"16,6,134,6,141,28.2969,397,28.2969,397,389,16,389,16,6\" style=\"stroke: #000000; stroke-width: 1.5;\"/><line style=\"stroke: #000000; stroke-width: 1.5;\" x1=\"16\" x2=\"141\" y1=\"28.2969\" y2=\"28.2969\"/><text fill=\"#000000\" font-family=\"sans-serif\" font-size=\"14\" font-weight=\"bold\" lengthAdjust=\"spacingAndGlyphs\" textLength=\"112\" x=\"20\" y=\"20.9951\">VariabilityTest</text></a><!--MD5=[b4997ac47864f28c2f74865a473b2911]\n",
       "class E2--><a href=\"psysml:28b4b804-815b-4815-9c5e-e5b09d6ccef7\" target=\"_top\" title=\"psysml:28b4b804-815b-4815-9c5e-e5b09d6ccef7\" xlink:actuate=\"onRequest\" xlink:href=\"psysml:28b4b804-815b-4815-9c5e-e5b09d6ccef7\" xlink:show=\"new\" xlink:title=\"psysml:28b4b804-815b-4815-9c5e-e5b09d6ccef7\" xlink:type=\"simple\"><rect fill=\"#FFFFFF\" height=\"75.5469\" id=\"E2\" style=\"stroke: #383838; stroke-width: 1.5;\" width=\"66\" x=\"166\" y=\"291\"/><text fill=\"#000000\" font-family=\"sans-serif\" font-size=\"12\" font-style=\"italic\" lengthAdjust=\"spacingAndGlyphs\" textLength=\"64\" x=\"167\" y=\"307.1387\">«part def»</text><text fill=\"#000000\" font-family=\"sans-serif\" font-size=\"12\" lengthAdjust=\"spacingAndGlyphs\" textLength=\"8\" x=\"195\" y=\"321.1074\">P</text><line style=\"stroke: #383838; stroke-width: 1.5;\" x1=\"167\" x2=\"231\" y1=\"328.9375\" y2=\"328.9375\"/><text fill=\"#000000\" font-family=\"sans-serif\" font-size=\"11\" lengthAdjust=\"spacingAndGlyphs\" textLength=\"7\" x=\"172\" y=\"359.9526\">a</text><line style=\"stroke: #383838; stroke-width: 1.0;\" x1=\"167\" x2=\"171.5\" y1=\"343.3398\" y2=\"343.3398\"/><text fill=\"#000000\" font-family=\"sans-serif\" font-size=\"11\" lengthAdjust=\"spacingAndGlyphs\" textLength=\"55\" x=\"171.5\" y=\"346.6479\">attributes</text><line style=\"stroke: #383838; stroke-width: 1.0;\" x1=\"226.5\" x2=\"231\" y1=\"343.3398\" y2=\"343.3398\"/></a><!--MD5=[09b614a08d8cba4a07c9adeb5e0fee81]\n",
       "class E3--><a href=\"psysml:3556ece0-f840-441c-8cd2-5d7027a1a805\" target=\"_top\" title=\"psysml:3556ece0-f840-441c-8cd2-5d7027a1a805\" xlink:actuate=\"onRequest\" xlink:href=\"psysml:3556ece0-f840-441c-8cd2-5d7027a1a805\" xlink:show=\"new\" xlink:title=\"psysml:3556ece0-f840-441c-8cd2-5d7027a1a805\" xlink:type=\"simple\"><rect fill=\"#FFFFFF\" height=\"45.9375\" id=\"E3\" style=\"stroke: #383838; stroke-width: 1.5;\" width=\"66\" x=\"137\" y=\"155\"/><text fill=\"#000000\" font-family=\"sans-serif\" font-size=\"12\" font-style=\"italic\" lengthAdjust=\"spacingAndGlyphs\" textLength=\"64\" x=\"138\" y=\"171.1387\">«part def»</text><text fill=\"#000000\" font-family=\"sans-serif\" font-size=\"12\" lengthAdjust=\"spacingAndGlyphs\" textLength=\"9\" x=\"165.5\" y=\"185.1074\">Q</text><line style=\"stroke: #383838; stroke-width: 1.5;\" x1=\"138\" x2=\"202\" y1=\"192.9375\" y2=\"192.9375\"/></a><!--MD5=[ebbe1d658d1005bcc118a6aa81145e00]\n",
       "class E4--><a href=\"psysml:c1ea47d2-f15e-4f05-bf93-ec81669ca641\" target=\"_top\" title=\"psysml:c1ea47d2-f15e-4f05-bf93-ec81669ca641\" xlink:actuate=\"onRequest\" xlink:href=\"psysml:c1ea47d2-f15e-4f05-bf93-ec81669ca641\" xlink:show=\"new\" xlink:title=\"psysml:c1ea47d2-f15e-4f05-bf93-ec81669ca641\" xlink:type=\"simple\"><rect fill=\"#FFFFFF\" height=\"45.9375\" id=\"E4\" style=\"stroke: #383838; stroke-width: 1.5;\" width=\"95\" x=\"255.5\" y=\"41\"/><text fill=\"#000000\" font-family=\"sans-serif\" font-size=\"12\" font-style=\"italic\" lengthAdjust=\"spacingAndGlyphs\" textLength=\"93\" x=\"256.5\" y=\"57.1387\">«attribute def»</text><text fill=\"#000000\" font-family=\"sans-serif\" font-size=\"12\" lengthAdjust=\"spacingAndGlyphs\" textLength=\"8\" x=\"299\" y=\"71.1074\">B</text><line style=\"stroke: #383838; stroke-width: 1.5;\" x1=\"256.5\" x2=\"349.5\" y1=\"78.9375\" y2=\"78.9375\"/></a><!--MD5=[270fce915f116d4de14055a7c1d9a0f3]\n",
       "class E5--><a href=\"psysml:735cd89a-e4b2-4dc5-b3d6-41534f400f39\" target=\"_top\" title=\"psysml:735cd89a-e4b2-4dc5-b3d6-41534f400f39\" xlink:actuate=\"onRequest\" xlink:href=\"psysml:735cd89a-e4b2-4dc5-b3d6-41534f400f39\" xlink:show=\"new\" xlink:title=\"psysml:735cd89a-e4b2-4dc5-b3d6-41534f400f39\" xlink:type=\"simple\"><rect fill=\"#FFFFFF\" height=\"45.9375\" id=\"E5\" style=\"stroke: #383838; stroke-width: 1.5;\" width=\"66\" x=\"315\" y=\"155\"/><text fill=\"#000000\" font-family=\"sans-serif\" font-size=\"12\" font-style=\"italic\" lengthAdjust=\"spacingAndGlyphs\" textLength=\"64\" x=\"316\" y=\"171.1387\">«part def»</text><text fill=\"#000000\" font-family=\"sans-serif\" font-size=\"12\" lengthAdjust=\"spacingAndGlyphs\" textLength=\"8\" x=\"344\" y=\"185.1074\">V</text><line style=\"stroke: #383838; stroke-width: 1.5;\" x1=\"316\" x2=\"380\" y1=\"192.9375\" y2=\"192.9375\"/></a><!--MD5=[60a26617385b1d2d0262a64233df1f8d]\n",
       "class E6--><a href=\"psysml:0400016e-70f0-4405-a71c-97e49bd60e65\" target=\"_top\" title=\"psysml:0400016e-70f0-4405-a71c-97e49bd60e65\" xlink:actuate=\"onRequest\" xlink:href=\"psysml:0400016e-70f0-4405-a71c-97e49bd60e65\" xlink:show=\"new\" xlink:title=\"psysml:0400016e-70f0-4405-a71c-97e49bd60e65\" xlink:type=\"simple\"><rect fill=\"#FFFFFF\" height=\"88.3516\" id=\"E6\" rx=\"10\" ry=\"10\" style=\"stroke: #383838; stroke-width: 1.5;\" width=\"63\" x=\"287.5\" y=\"285\"/><text fill=\"#000000\" font-family=\"sans-serif\" font-size=\"12\" font-style=\"italic\" lengthAdjust=\"spacingAndGlyphs\" textLength=\"40\" x=\"299\" y=\"301.1387\">«part»</text><text fill=\"#000000\" font-family=\"sans-serif\" font-size=\"12\" lengthAdjust=\"spacingAndGlyphs\" textLength=\"23\" x=\"307.5\" y=\"315.1074\">x: Q</text><line style=\"stroke: #383838; stroke-width: 1.5;\" x1=\"288.5\" x2=\"349.5\" y1=\"322.9375\" y2=\"322.9375\"/><text fill=\"#000000\" font-family=\"sans-serif\" font-size=\"11\" lengthAdjust=\"spacingAndGlyphs\" textLength=\"23\" x=\"293.5\" y=\"353.9526\">b: B</text><text fill=\"#000000\" font-family=\"sans-serif\" font-size=\"11\" font-style=\"italic\" lengthAdjust=\"spacingAndGlyphs\" textLength=\"44\" x=\"293.5\" y=\"366.7573\">:&gt;&gt;P::a</text><line style=\"stroke: #383838; stroke-width: 1.0;\" x1=\"288.5\" x2=\"291.5\" y1=\"337.3398\" y2=\"337.3398\"/><text fill=\"#000000\" font-family=\"sans-serif\" font-size=\"11\" lengthAdjust=\"spacingAndGlyphs\" textLength=\"55\" x=\"291.5\" y=\"340.6479\">attributes</text><line style=\"stroke: #383838; stroke-width: 1.0;\" x1=\"346.5\" x2=\"349.5\" y1=\"337.3398\" y2=\"337.3398\"/></a><!--MD5=[2156ba9850f5573cc1fc38a6a4b2f02b]\n",
       "class E7--><a href=\"psysml:ac43cc4c-8177-486e-b5a5-e877f62f9bc5\" target=\"_top\" title=\"psysml:ac43cc4c-8177-486e-b5a5-e877f62f9bc5\" xlink:actuate=\"onRequest\" xlink:href=\"psysml:ac43cc4c-8177-486e-b5a5-e877f62f9bc5\" xlink:show=\"new\" xlink:title=\"psysml:ac43cc4c-8177-486e-b5a5-e877f62f9bc5\" xlink:type=\"simple\"><rect fill=\"#FFFFFF\" height=\"45.9375\" id=\"E7\" rx=\"10\" ry=\"10\" style=\"stroke: #383838; stroke-width: 1.5;\" width=\"42\" x=\"149\" y=\"41\"/><text fill=\"#000000\" font-family=\"sans-serif\" font-size=\"12\" font-style=\"italic\" lengthAdjust=\"spacingAndGlyphs\" textLength=\"40\" x=\"150\" y=\"57.1387\">«part»</text><text fill=\"#000000\" font-family=\"sans-serif\" font-size=\"12\" lengthAdjust=\"spacingAndGlyphs\" textLength=\"25\" x=\"157.5\" y=\"71.1074\">q: Q</text><line style=\"stroke: #383838; stroke-width: 1.5;\" x1=\"150\" x2=\"190\" y1=\"78.9375\" y2=\"78.9375\"/></a><!--MD5=[b9389687b975829384b498ac4b7476b2]\n",
       "class E8--><a href=\"psysml:ce952eae-8bb1-4ad0-9f02-4c42d4c1d0c7\" target=\"_top\" title=\"psysml:ce952eae-8bb1-4ad0-9f02-4c42d4c1d0c7\" xlink:actuate=\"onRequest\" xlink:href=\"psysml:ce952eae-8bb1-4ad0-9f02-4c42d4c1d0c7\" xlink:show=\"new\" xlink:title=\"psysml:ce952eae-8bb1-4ad0-9f02-4c42d4c1d0c7\" xlink:type=\"simple\"><rect fill=\"#FFFFFF\" height=\"59.9063\" id=\"E8\" rx=\"10\" ry=\"10\" style=\"stroke: #383838; stroke-width: 1.5;\" width=\"70\" x=\"32\" y=\"148\"/><text fill=\"#000000\" font-family=\"sans-serif\" font-size=\"12\" font-style=\"italic\" lengthAdjust=\"spacingAndGlyphs\" textLength=\"68\" x=\"33\" y=\"164.1387\">«variation»</text><text fill=\"#000000\" font-family=\"sans-serif\" font-size=\"12\" font-style=\"italic\" lengthAdjust=\"spacingAndGlyphs\" textLength=\"40\" x=\"47\" y=\"178.1074\">«part»</text><text fill=\"#000000\" font-family=\"sans-serif\" font-size=\"12\" lengthAdjust=\"spacingAndGlyphs\" textLength=\"22\" x=\"56\" y=\"192.0762\">v: P</text><line style=\"stroke: #383838; stroke-width: 1.5;\" x1=\"33\" x2=\"101\" y1=\"199.9063\" y2=\"199.9063\"/></a><!--MD5=[fd4143e9d270a159db93a4ea2a975926]\n",
       "class E9--><a href=\"psysml:572dfe4e-6d7c-4ba8-94a3-d7ce0272bed9\" target=\"_top\" title=\"psysml:572dfe4e-6d7c-4ba8-94a3-d7ce0272bed9\" xlink:actuate=\"onRequest\" xlink:href=\"psysml:572dfe4e-6d7c-4ba8-94a3-d7ce0272bed9\" xlink:show=\"new\" xlink:title=\"psysml:572dfe4e-6d7c-4ba8-94a3-d7ce0272bed9\" xlink:type=\"simple\"><rect fill=\"#FFFFFF\" height=\"88.3516\" id=\"E9\" rx=\"10\" ry=\"10\" style=\"stroke: #383838; stroke-width: 1.5;\" width=\"77\" x=\"32.5\" y=\"285\"/><text fill=\"#000000\" font-family=\"sans-serif\" font-size=\"12\" font-style=\"italic\" lengthAdjust=\"spacingAndGlyphs\" textLength=\"75\" x=\"33.5\" y=\"301.1387\">«reference»</text><text fill=\"#000000\" font-family=\"sans-serif\" font-size=\"12\" lengthAdjust=\"spacingAndGlyphs\" textLength=\"8\" x=\"67\" y=\"315.1074\">q</text><line style=\"stroke: #383838; stroke-width: 1.5;\" x1=\"33.5\" x2=\"108.5\" y1=\"322.9375\" y2=\"322.9375\"/><text fill=\"#000000\" font-family=\"sans-serif\" font-size=\"11\" lengthAdjust=\"spacingAndGlyphs\" textLength=\"23\" x=\"38.5\" y=\"353.9526\">b: B</text><text fill=\"#000000\" font-family=\"sans-serif\" font-size=\"11\" font-style=\"italic\" lengthAdjust=\"spacingAndGlyphs\" textLength=\"44\" x=\"38.5\" y=\"366.7573\">:&gt;&gt;P::a</text><line style=\"stroke: #383838; stroke-width: 1.0;\" x1=\"33.5\" x2=\"43.5\" y1=\"337.3398\" y2=\"337.3398\"/><text fill=\"#000000\" font-family=\"sans-serif\" font-size=\"11\" lengthAdjust=\"spacingAndGlyphs\" textLength=\"55\" x=\"43.5\" y=\"340.6479\">attributes</text><line style=\"stroke: #383838; stroke-width: 1.0;\" x1=\"98.5\" x2=\"108.5\" y1=\"337.3398\" y2=\"337.3398\"/></a><!--MD5=[96f4274e9e20536e775497830990834d]\n",
       "class E10--><a href=\"psysml:983a8093-9810-4637-96cc-9ee8fb3d9cf5\" target=\"_top\" title=\"psysml:983a8093-9810-4637-96cc-9ee8fb3d9cf5\" xlink:actuate=\"onRequest\" xlink:href=\"psysml:983a8093-9810-4637-96cc-9ee8fb3d9cf5\" xlink:show=\"new\" xlink:title=\"psysml:983a8093-9810-4637-96cc-9ee8fb3d9cf5\" xlink:type=\"simple\"><rect fill=\"#FFFFFF\" height=\"45.9375\" id=\"E10\" rx=\"10\" ry=\"10\" style=\"stroke: #383838; stroke-width: 1.5;\" width=\"42\" x=\"238\" y=\"155\"/><text fill=\"#000000\" font-family=\"sans-serif\" font-size=\"12\" font-style=\"italic\" lengthAdjust=\"spacingAndGlyphs\" textLength=\"40\" x=\"239\" y=\"171.1387\">«part»</text><text fill=\"#000000\" font-family=\"sans-serif\" font-size=\"12\" lengthAdjust=\"spacingAndGlyphs\" textLength=\"22\" x=\"248\" y=\"185.1074\">y: P</text><line style=\"stroke: #383838; stroke-width: 1.5;\" x1=\"239\" x2=\"279\" y1=\"192.9375\" y2=\"192.9375\"/></a><!--MD5=[05d275557350bfb9b23a4ef7222b4c39]\n",
       "link E3 to E2--><a href=\"psysml:9e57242c-9184-4252-9565-bec20c63fdb8\" target=\"_top\" title=\"psysml:9e57242c-9184-4252-9565-bec20c63fdb8\" xlink:actuate=\"onRequest\" xlink:href=\"psysml:9e57242c-9184-4252-9565-bec20c63fdb8\" xlink:show=\"new\" xlink:title=\"psysml:9e57242c-9184-4252-9565-bec20c63fdb8\" xlink:type=\"simple\"><path d=\"M174.34,201.31 C177.92,219.67 183.15,246.54 187.87,270.81 \" fill=\"none\" id=\"E3-&gt;E2\" style=\"stroke: #383838; stroke-width: 1.0;\"/><polygon fill=\"none\" points=\"194.8,269.8,191.75,290.77,181.06,272.47,194.8,269.8\" style=\"stroke: #383838; stroke-width: 1.0;\"/></a><!--MD5=[15ebcb19ae302d9b601edb458606d402]\n",
       "link E5 to E2--><a href=\"psysml:5cdbdbe7-d14c-45c9-a804-61f18115238e\" target=\"_top\" title=\"psysml:5cdbdbe7-d14c-45c9-a804-61f18115238e\" xlink:actuate=\"onRequest\" xlink:href=\"psysml:5cdbdbe7-d14c-45c9-a804-61f18115238e\" xlink:show=\"new\" xlink:title=\"psysml:5cdbdbe7-d14c-45c9-a804-61f18115238e\" xlink:type=\"simple\"><path d=\"M325.69,201.31 C304.9,222.1 273.2,253.8 246.71,280.29 \" fill=\"none\" id=\"E5-&gt;E2\" style=\"stroke: #383838; stroke-width: 1.0;\"/><polygon fill=\"none\" points=\"251.33,285.57,232.24,294.76,241.43,275.67,251.33,285.57\" style=\"stroke: #383838; stroke-width: 1.0;\"/></a><!--MD5=[9120cf2e5df3bff93db8f754bbbc09b4]\n",
       "link E5 to E6--><a href=\"psysml:052c6ce9-d9db-4da6-90c4-ac16555550ac\" target=\"_top\" title=\"psysml:052c6ce9-d9db-4da6-90c4-ac16555550ac\" xlink:actuate=\"onRequest\" xlink:href=\"psysml:052c6ce9-d9db-4da6-90c4-ac16555550ac\" xlink:show=\"new\" xlink:title=\"psysml:052c6ce9-d9db-4da6-90c4-ac16555550ac\" xlink:type=\"simple\"><path d=\"M341.72,211.26 C338.1,229.85 333.47,253.68 329.32,274.95 \" fill=\"none\" id=\"E5-E6\" style=\"stroke: #383838; stroke-width: 1.0;\"/><polygon fill=\"#383838\" points=\"327.4,284.84,331.8761,277.5623,325.987,276.4136,327.4,284.84\" style=\"stroke: #383838; stroke-width: 1.0;\"/><path d=\"M334.7699,202.7122 A9,9 0 0 0 351.3715 205.9503\" fill=\"none\" style=\"stroke: #383838; stroke-width: 1.5;\"/><text fill=\"#000000\" font-family=\"sans-serif\" font-size=\"13\" lengthAdjust=\"spacingAndGlyphs\" textLength=\"60\" x=\"337\" y=\"251.0669\">«variant»</text></a><!--MD5=[14ccda38c055a5c0da953d572bc50960]\n",
       "link E7 to E3--><a href=\"psysml:648145d1-1ec9-42fc-8307-fa8910350658\" target=\"_top\" title=\"psysml:648145d1-1ec9-42fc-8307-fa8910350658\" xlink:actuate=\"onRequest\" xlink:href=\"psysml:648145d1-1ec9-42fc-8307-fa8910350658\" xlink:show=\"new\" xlink:title=\"psysml:648145d1-1ec9-42fc-8307-fa8910350658\" xlink:type=\"simple\"><path d=\"M170,87.13 C170,100.7 170,118.53 170,134.73 \" fill=\"none\" id=\"E7-&gt;E3\" style=\"stroke: #383838; stroke-width: 1.0;\"/><polygon fill=\"#FFFFFF\" points=\"170,154.92,163,135.92,177,135.92,170,154.92\" style=\"stroke: #383838; stroke-width: 1.0;\"/><ellipse cx=\"165\" cy=\"130.22\" fill=\"#383838\" rx=\"2\" ry=\"2\" style=\"stroke: #383838; stroke-width: 1.0;\"/><ellipse cx=\"175\" cy=\"130.22\" fill=\"#383838\" rx=\"2\" ry=\"2\" style=\"stroke: #383838; stroke-width: 1.0;\"/></a><!--MD5=[f1f3f9f2fc535e6147756cb86a7f2e32]\n",
       "link E8 to E2--><a href=\"psysml:19cda0c9-2775-4d9d-8cd8-191c5ad52b34\" target=\"_top\" title=\"psysml:19cda0c9-2775-4d9d-8cd8-191c5ad52b34\" xlink:actuate=\"onRequest\" xlink:href=\"psysml:19cda0c9-2775-4d9d-8cd8-191c5ad52b34\" xlink:show=\"new\" xlink:title=\"psysml:19cda0c9-2775-4d9d-8cd8-191c5ad52b34\" xlink:type=\"simple\"><path d=\"M102.17,204.39 C114.52,214.17 128.04,225.9 139,238 C148.86,248.88 158.29,261.5 166.63,273.79 \" fill=\"none\" id=\"E8-&gt;E2\" style=\"stroke: #383838; stroke-width: 1.0;\"/><polygon fill=\"#FFFFFF\" points=\"177.64,290.73,161.4168,278.6135,173.1555,270.9844,177.64,290.73\" style=\"stroke: #383838; stroke-width: 1.0;\"/><ellipse cx=\"159.9876\" cy=\"272.7443\" fill=\"#383838\" rx=\"2\" ry=\"2\" style=\"stroke: #383838; stroke-width: 1.0;\"/><ellipse cx=\"168.3724\" cy=\"267.2949\" fill=\"#383838\" rx=\"2\" ry=\"2\" style=\"stroke: #383838; stroke-width: 1.0;\"/></a><!--MD5=[ed10624c06dd9a4fa49ccf290e8b16a8]\n",
       "link E8 to E9--><a href=\"psysml:28d39c7a-e0c7-42b0-858e-2cb4e488f108\" target=\"_top\" title=\"psysml:28d39c7a-e0c7-42b0-858e-2cb4e488f108\" xlink:actuate=\"onRequest\" xlink:href=\"psysml:28d39c7a-e0c7-42b0-858e-2cb4e488f108\" xlink:show=\"new\" xlink:title=\"psysml:28d39c7a-e0c7-42b0-858e-2cb4e488f108\" xlink:type=\"simple\"><path d=\"M68.06,218.32 C68.52,235.6 69.07,256.15 69.57,274.77 \" fill=\"none\" id=\"E8-E9\" style=\"stroke: #383838; stroke-width: 1.0;\"/><polygon fill=\"#383838\" points=\"69.84,284.88,72.6331,276.8054,66.6351,276.9599,69.84,284.88\" style=\"stroke: #383838; stroke-width: 1.0;\"/><path d=\"M59.4094,211.3865 A9,9 0 0 0 76.3176 210.9276\" fill=\"none\" style=\"stroke: #383838; stroke-width: 1.5;\"/><text fill=\"#000000\" font-family=\"sans-serif\" font-size=\"13\" lengthAdjust=\"spacingAndGlyphs\" textLength=\"60\" x=\"70\" y=\"251.0669\">«variant»</text></a><!--MD5=[0f36bececdf0dff6e600d6f64214b0f1]\n",
       "link E10 to E2--><a href=\"psysml:8cfcd01d-a74f-43be-a680-d41b6ee6accc\" target=\"_top\" title=\"psysml:8cfcd01d-a74f-43be-a680-d41b6ee6accc\" xlink:actuate=\"onRequest\" xlink:href=\"psysml:8cfcd01d-a74f-43be-a680-d41b6ee6accc\" xlink:show=\"new\" xlink:title=\"psysml:8cfcd01d-a74f-43be-a680-d41b6ee6accc\" xlink:type=\"simple\"><path d=\"M250.02,201.31 C242.51,219.95 231.48,247.35 221.59,271.91 \" fill=\"none\" id=\"E10-&gt;E2\" style=\"stroke: #383838; stroke-width: 1.0;\"/><polygon fill=\"#FFFFFF\" points=\"213.99,290.77,214.5927,270.5305,227.5796,275.7593,213.99,290.77\" style=\"stroke: #383838; stroke-width: 1.0;\"/><ellipse cx=\"218.5768\" cy=\"265.9899\" fill=\"#383838\" rx=\"2\" ry=\"2\" style=\"stroke: #383838; stroke-width: 1.0;\"/><ellipse cx=\"227.8532\" cy=\"269.7248\" fill=\"#383838\" rx=\"2\" ry=\"2\" style=\"stroke: #383838; stroke-width: 1.0;\"/></a><!--MD5=[6016c2f5bca4f415e58011c7236b8165]\n",
       "@startuml\r\n",
       "top to bottom direction\r\n",
       "skinparam monochrome true\r\n",
       "skinparam classbackgroundcolor white\r\n",
       "skinparam shadowing false\r\n",
       "skinparam wrapWidth 300\r\n",
       "hide circle\r\n",
       "\r\n",
       "package \"VariabilityTest\" as E1  [[psysml:c9192910-aa77-45a9-9ae3-16f7deb9d13d ]]  {\r\n",
       "comp def \"P\" as E2  <<(T,blue)part def>> [[psysml:28b4b804-815b-4815-9c5e-e5b09d6ccef7 ]] {\r\n",
       "- - attributes - -\r\n",
       "a\r\n",
       "}\r\n",
       "comp def \"Q\" as E3  <<(T,blue)part def>> [[psysml:3556ece0-f840-441c-8cd2-5d7027a1a805 ]] {\r\n",
       "}\r\n",
       "comp def \"B\" as E4  <<(T,blue)attribute def>> [[psysml:c1ea47d2-f15e-4f05-bf93-ec81669ca641 ]] {\r\n",
       "}\r\n",
       "comp def \"V\" as E5  <<(T,blue)part def>> [[psysml:735cd89a-e4b2-4dc5-b3d6-41534f400f39 ]] {\r\n",
       "}\r\n",
       "comp usage \"x: Q\" as E6  <<(T,blue)part>> [[psysml:0400016e-70f0-4405-a71c-97e49bd60e65 ]] {\r\n",
       "- - attributes - -\r\n",
       "b: B\\n//:>>P::a// \r\n",
       "}\r\n",
       "comp usage \"q: Q\" as E7  <<(T,blue)part>> [[psysml:ac43cc4c-8177-486e-b5a5-e877f62f9bc5 ]] {\r\n",
       "}\r\n",
       "comp usage \"v: P\" as E8  <<variation>>\\n <<(T,blue)part>> [[psysml:ce952eae-8bb1-4ad0-9f02-4c42d4c1d0c7 ]] {\r\n",
       "}\r\n",
       "comp usage \"q\" as E9  <<(T,blue)reference>> [[psysml:572dfe4e-6d7c-4ba8-94a3-d7ce0272bed9 ]] {\r\n",
       "- - attributes - -\r\n",
       "b: B\\n//:>>P::a// \r\n",
       "}\r\n",
       "comp usage \"y: P\" as E10  <<(T,blue)part>> [[psysml:983a8093-9810-4637-96cc-9ee8fb3d9cf5 ]] {\r\n",
       "}\r\n",
       "E3 - -|> E2 [[psysml:9e57242c-9184-4252-9565-bec20c63fdb8 ]] \r\n",
       "E5 - -|> E2 [[psysml:5cdbdbe7-d14c-45c9-a804-61f18115238e ]] \r\n",
       "E5 )- ->> E6 [[psysml:052c6ce9-d9db-4da6-90c4-ac16555550ac ]] : <<variant>>\r\n",
       "E7 - -:|> E3 [[psysml:648145d1-1ec9-42fc-8307-fa8910350658 ]] \r\n",
       "E8 - -:|> E2 [[psysml:19cda0c9-2775-4d9d-8cd8-191c5ad52b34 ]] \r\n",
       "E8 )- ->> E9 [[psysml:28d39c7a-e0c7-42b0-858e-2cb4e488f108 ]] : <<variant>>\r\n",
       "E10 - -:|> E2 [[psysml:8cfcd01d-a74f-43be-a680-d41b6ee6accc ]] \r\n",
       "}\r\n",
       "@enduml\r\n",
       "\n",
       "PlantUML version 1.2020.13(Sat Jun 13 12:26:38 UTC 2020)\n",
       "(EPL source distribution)\n",
       "Java Runtime: OpenJDK Runtime Environment\n",
       "JVM: OpenJDK 64-Bit Server VM\n",
       "Default Encoding: UTF-8\n",
       "Language: en\n",
       "Country: null\n",
       "--></g></svg>"
      ]
     },
     "execution_count": 45,
     "metadata": {},
     "output_type": "execute_result"
    }
   ],
   "source": [
    "%viz --style=\"TB\" --view=\"Tree\" \"VariabilityTest\""
   ]
  },
  {
   "cell_type": "code",
   "execution_count": 46,
   "id": "1e48f9a5",
   "metadata": {
    "execution": {
     "iopub.execute_input": "2021-05-28T10:47:58.286736Z",
     "iopub.status.busy": "2021-05-28T10:47:58.286229Z",
     "iopub.status.idle": "2021-05-28T10:47:58.290360Z",
     "shell.execute_reply": "2021-05-28T10:47:58.290606Z"
    }
   },
   "outputs": [
    {
     "data": {
      "image/svg+xml": [
       "<?xml version=\"1.0\" encoding=\"UTF-8\" standalone=\"no\"?><svg xmlns=\"http://www.w3.org/2000/svg\" xmlns:xlink=\"http://www.w3.org/1999/xlink\" contentScriptType=\"application/ecmascript\" contentStyleType=\"text/css\" height=\"12px\" preserveAspectRatio=\"none\" style=\"width:12px;height:12px;\" version=\"1.1\" viewBox=\"0 0 12 12\" width=\"12px\" zoomAndPan=\"magnify\"><defs/><g><!--MD5=[f4ee21bc66e489b5061b7c3e9601fdef]\n",
       "@startuml\r\n",
       "top to bottom direction\r\n",
       "skinparam monochrome true\r\n",
       "skinparam classbackgroundcolor white\r\n",
       "skinparam shadowing false\r\n",
       "skinparam wrapWidth 300\r\n",
       "hide circle\r\n",
       "\r\n",
       "@enduml\r\n",
       "\n",
       "PlantUML version 1.2020.13(Sat Jun 13 12:26:38 UTC 2020)\n",
       "(EPL source distribution)\n",
       "Java Runtime: OpenJDK Runtime Environment\n",
       "JVM: OpenJDK 64-Bit Server VM\n",
       "Default Encoding: UTF-8\n",
       "Language: en\n",
       "Country: null\n",
       "--></g></svg>"
      ]
     },
     "execution_count": 46,
     "metadata": {},
     "output_type": "execute_result"
    }
   ],
   "source": [
    "%viz --style=\"TB\" --view=\"State\" \"VariabilityTest\""
   ]
  },
  {
   "cell_type": "code",
   "execution_count": 47,
   "id": "12fb5d71",
   "metadata": {
    "execution": {
     "iopub.execute_input": "2021-05-28T10:47:58.342955Z",
     "iopub.status.busy": "2021-05-28T10:47:58.342331Z",
     "iopub.status.idle": "2021-05-28T10:47:58.408692Z",
     "shell.execute_reply": "2021-05-28T10:47:58.408408Z"
    }
   },
   "outputs": [
    {
     "data": {
      "image/svg+xml": [
       "<?xml version=\"1.0\" encoding=\"UTF-8\" standalone=\"no\"?><svg xmlns=\"http://www.w3.org/2000/svg\" xmlns:xlink=\"http://www.w3.org/1999/xlink\" contentScriptType=\"application/ecmascript\" contentStyleType=\"text/css\" height=\"427px\" preserveAspectRatio=\"none\" style=\"width:779px;height:427px;\" version=\"1.1\" viewBox=\"0 0 779 427\" width=\"779px\" zoomAndPan=\"magnify\"><defs/><g><!--MD5=[fbc87193dbaf4d95561dea2c320d4a47]\n",
       "cluster E1--><a href=\"psysml:c9192910-aa77-45a9-9ae3-16f7deb9d13d\" target=\"_top\" title=\"psysml:c9192910-aa77-45a9-9ae3-16f7deb9d13d\" xlink:actuate=\"onRequest\" xlink:href=\"psysml:c9192910-aa77-45a9-9ae3-16f7deb9d13d\" xlink:show=\"new\" xlink:title=\"psysml:c9192910-aa77-45a9-9ae3-16f7deb9d13d\" xlink:type=\"simple\"><polygon fill=\"#FFFFFF\" points=\"16,6,134,6,141,28.2969,757,28.2969,757,415,16,415,16,6\" style=\"stroke: #000000; stroke-width: 1.5;\"/><line style=\"stroke: #000000; stroke-width: 1.5;\" x1=\"16\" x2=\"141\" y1=\"28.2969\" y2=\"28.2969\"/><text fill=\"#000000\" font-family=\"sans-serif\" font-size=\"14\" font-weight=\"bold\" lengthAdjust=\"spacingAndGlyphs\" textLength=\"112\" x=\"20\" y=\"20.9951\">VariabilityTest</text></a><!--MD5=[e4f7fae6ed58524ba242bb0b0d3be6b7]\n",
       "cluster E2--><a href=\"psysml:28b4b804-815b-4815-9c5e-e5b09d6ccef7\" target=\"_top\" title=\"psysml:28b4b804-815b-4815-9c5e-e5b09d6ccef7\" xlink:actuate=\"onRequest\" xlink:href=\"psysml:28b4b804-815b-4815-9c5e-e5b09d6ccef7\" xlink:show=\"new\" xlink:title=\"psysml:28b4b804-815b-4815-9c5e-e5b09d6ccef7\" xlink:type=\"simple\"><rect fill=\"#FFFFFF\" height=\"129\" id=\"E2\" style=\"stroke: #383838; stroke-width: 1.5;\" width=\"139\" x=\"420\" y=\"254\"/><rect fill=\"#F8F8F8\" height=\"37.9375\" style=\"stroke: #383838; stroke-width: 1.5;\" width=\"139\" x=\"420\" y=\"254\"/><text fill=\"#000000\" font-family=\"sans-serif\" font-size=\"12\" font-style=\"italic\" lengthAdjust=\"spacingAndGlyphs\" textLength=\"64\" x=\"457.5\" y=\"270.1387\">«part def»</text><text fill=\"#000000\" font-family=\"sans-serif\" font-size=\"12\" lengthAdjust=\"spacingAndGlyphs\" textLength=\"8\" x=\"485.5\" y=\"284.1074\">P</text></a><!--MD5=[14e3b0961a2654348d326746436168a1]\n",
       "cluster E6--><a href=\"psysml:735cd89a-e4b2-4dc5-b3d6-41534f400f39\" target=\"_top\" title=\"psysml:735cd89a-e4b2-4dc5-b3d6-41534f400f39\" xlink:actuate=\"onRequest\" xlink:href=\"psysml:735cd89a-e4b2-4dc5-b3d6-41534f400f39\" xlink:show=\"new\" xlink:title=\"psysml:735cd89a-e4b2-4dc5-b3d6-41534f400f39\" xlink:type=\"simple\"><rect fill=\"#FFFFFF\" height=\"157\" id=\"E6\" style=\"stroke: #383838; stroke-width: 1.5;\" width=\"131\" x=\"594\" y=\"57\"/><rect fill=\"#F8F8F8\" height=\"37.9375\" style=\"stroke: #383838; stroke-width: 1.5;\" width=\"131\" x=\"594\" y=\"57\"/><text fill=\"#000000\" font-family=\"sans-serif\" font-size=\"12\" font-style=\"italic\" lengthAdjust=\"spacingAndGlyphs\" textLength=\"64\" x=\"627.5\" y=\"73.1387\">«part def»</text><text fill=\"#000000\" font-family=\"sans-serif\" font-size=\"12\" lengthAdjust=\"spacingAndGlyphs\" textLength=\"8\" x=\"655.5\" y=\"87.1074\">V</text></a><!--MD5=[7f149f147074ac12df2cb0a7728a5fb0]\n",
       "cluster E9--><a href=\"psysml:ce952eae-8bb1-4ad0-9f02-4c42d4c1d0c7\" target=\"_top\" title=\"psysml:ce952eae-8bb1-4ad0-9f02-4c42d4c1d0c7\" xlink:actuate=\"onRequest\" xlink:href=\"psysml:ce952eae-8bb1-4ad0-9f02-4c42d4c1d0c7\" xlink:show=\"new\" xlink:title=\"psysml:ce952eae-8bb1-4ad0-9f02-4c42d4c1d0c7\" xlink:type=\"simple\"><rect fill=\"#FFFFFF\" height=\"155\" id=\"E9\" rx=\"10\" ry=\"10\" style=\"stroke: #383838; stroke-width: 1.5;\" width=\"110\" x=\"452\" y=\"58\"/><rect fill=\"#F8F8F8\" height=\"37.9375\" rx=\"10\" ry=\"10\" style=\"stroke: #F8F8F8; stroke-width: 1.5;\" width=\"110\" x=\"452\" y=\"58\"/><rect fill=\"#F8F8F8\" height=\"10\" style=\"stroke: #F8F8F8; stroke-width: 1.5;\" width=\"110\" x=\"452\" y=\"85.9375\"/><rect fill=\"none\" height=\"155\" id=\"E9\" rx=\"10\" ry=\"10\" style=\"stroke: #383838; stroke-width: 1.5;\" width=\"110\" x=\"452\" y=\"58\"/><text fill=\"#000000\" font-family=\"sans-serif\" font-size=\"12\" font-style=\"italic\" lengthAdjust=\"spacingAndGlyphs\" textLength=\"68\" x=\"473\" y=\"74.1387\">«variation»</text><text fill=\"#000000\" font-family=\"sans-serif\" font-size=\"12\" lengthAdjust=\"spacingAndGlyphs\" textLength=\"22\" x=\"496\" y=\"88.1074\">v: P</text><line style=\"stroke: #383838; stroke-width: 1.0;\" x1=\"452\" x2=\"562\" y1=\"95.9375\" y2=\"95.9375\"/></a><g id=\"E1.E5\"><a href=\"psysml:c1ea47d2-f15e-4f05-bf93-ec81669ca641\" target=\"_top\" title=\"psysml:c1ea47d2-f15e-4f05-bf93-ec81669ca641\" xlink:actuate=\"onRequest\" xlink:href=\"psysml:c1ea47d2-f15e-4f05-bf93-ec81669ca641\" xlink:show=\"new\" xlink:title=\"psysml:c1ea47d2-f15e-4f05-bf93-ec81669ca641\" xlink:type=\"simple\"><rect fill=\"#FFFFFF\" height=\"42.9375\" id=\"E5\" style=\"stroke: #383838; stroke-width: 1.5;\" width=\"100\" x=\"333\" y=\"131.5\"/><rect fill=\"#F8F8F8\" height=\"37.9375\" style=\"stroke: #383838; stroke-width: 1.5;\" width=\"100\" x=\"333\" y=\"131.5\"/><text fill=\"#000000\" font-family=\"sans-serif\" font-size=\"12\" font-style=\"italic\" lengthAdjust=\"spacingAndGlyphs\" textLength=\"93\" x=\"336.5\" y=\"147.6387\">«attribute def»</text><text fill=\"#000000\" font-family=\"sans-serif\" font-size=\"12\" lengthAdjust=\"spacingAndGlyphs\" textLength=\"8\" x=\"379\" y=\"161.6074\">B</text></a></g><!--MD5=[09b614a08d8cba4a07c9adeb5e0fee81]\n",
       "class E3--><a href=\"psysml:29e7d07c-e0ef-43b2-a175-0967043bb668\" target=\"_top\" title=\"psysml:29e7d07c-e0ef-43b2-a175-0967043bb668\" xlink:actuate=\"onRequest\" xlink:href=\"psysml:29e7d07c-e0ef-43b2-a175-0967043bb668\" xlink:show=\"new\" xlink:title=\"psysml:29e7d07c-e0ef-43b2-a175-0967043bb668\" xlink:type=\"simple\"><rect fill=\"#FFFFFF\" height=\"45.9375\" id=\"E3\" rx=\"10\" ry=\"10\" style=\"stroke: #383838; stroke-width: 1.5;\" width=\"71\" x=\"463.5\" y=\"313\"/><text fill=\"#000000\" font-family=\"sans-serif\" font-size=\"12\" font-style=\"italic\" lengthAdjust=\"spacingAndGlyphs\" textLength=\"69\" x=\"464.5\" y=\"329.1387\">«attribute»</text><text fill=\"#000000\" font-family=\"sans-serif\" font-size=\"12\" lengthAdjust=\"spacingAndGlyphs\" textLength=\"8\" x=\"495\" y=\"343.1074\">a</text><line style=\"stroke: #383838; stroke-width: 1.5;\" x1=\"464.5\" x2=\"533.5\" y1=\"350.9375\" y2=\"350.9375\"/></a><g id=\"E1.E4\"><a href=\"psysml:3556ece0-f840-441c-8cd2-5d7027a1a805\" target=\"_top\" title=\"psysml:3556ece0-f840-441c-8cd2-5d7027a1a805\" xlink:actuate=\"onRequest\" xlink:href=\"psysml:3556ece0-f840-441c-8cd2-5d7027a1a805\" xlink:show=\"new\" xlink:title=\"psysml:3556ece0-f840-441c-8cd2-5d7027a1a805\" xlink:type=\"simple\"><rect fill=\"#FFFFFF\" height=\"42.9375\" id=\"E4\" style=\"stroke: #383838; stroke-width: 1.5;\" width=\"71\" x=\"226.5\" y=\"131.5\"/><rect fill=\"#F8F8F8\" height=\"37.9375\" style=\"stroke: #383838; stroke-width: 1.5;\" width=\"71\" x=\"226.5\" y=\"131.5\"/><text fill=\"#000000\" font-family=\"sans-serif\" font-size=\"12\" font-style=\"italic\" lengthAdjust=\"spacingAndGlyphs\" textLength=\"64\" x=\"230\" y=\"147.6387\">«part def»</text><text fill=\"#000000\" font-family=\"sans-serif\" font-size=\"12\" lengthAdjust=\"spacingAndGlyphs\" textLength=\"9\" x=\"257.5\" y=\"161.6074\">Q</text></a></g><!--MD5=[2156ba9850f5573cc1fc38a6a4b2f02b]\n",
       "class E7--><a href=\"psysml:0400016e-70f0-4405-a71c-97e49bd60e65\" target=\"_top\" title=\"psysml:0400016e-70f0-4405-a71c-97e49bd60e65\" xlink:actuate=\"onRequest\" xlink:href=\"psysml:0400016e-70f0-4405-a71c-97e49bd60e65\" xlink:show=\"new\" xlink:title=\"psysml:0400016e-70f0-4405-a71c-97e49bd60e65\" xlink:type=\"simple\"><rect fill=\"#FFFFFF\" height=\"74.3828\" id=\"E7\" rx=\"10\" ry=\"10\" style=\"stroke: #383838; stroke-width: 1.5;\" width=\"63\" x=\"637.5\" y=\"116\"/><text fill=\"#000000\" font-family=\"sans-serif\" font-size=\"12\" lengthAdjust=\"spacingAndGlyphs\" textLength=\"23\" x=\"657.5\" y=\"132.1387\">x: Q</text><line style=\"stroke: #383838; stroke-width: 1.5;\" x1=\"638.5\" x2=\"699.5\" y1=\"139.9688\" y2=\"139.9688\"/><text fill=\"#000000\" font-family=\"sans-serif\" font-size=\"11\" lengthAdjust=\"spacingAndGlyphs\" textLength=\"23\" x=\"643.5\" y=\"170.9839\">b: B</text><text fill=\"#000000\" font-family=\"sans-serif\" font-size=\"11\" font-style=\"italic\" lengthAdjust=\"spacingAndGlyphs\" textLength=\"44\" x=\"643.5\" y=\"183.7886\">:&gt;&gt;P::a</text><line style=\"stroke: #383838; stroke-width: 1.0;\" x1=\"638.5\" x2=\"641.5\" y1=\"154.3711\" y2=\"154.3711\"/><text fill=\"#000000\" font-family=\"sans-serif\" font-size=\"11\" lengthAdjust=\"spacingAndGlyphs\" textLength=\"55\" x=\"641.5\" y=\"157.6792\">attributes</text><line style=\"stroke: #383838; stroke-width: 1.0;\" x1=\"696.5\" x2=\"699.5\" y1=\"154.3711\" y2=\"154.3711\"/></a><g id=\"E1.E8\"><a href=\"psysml:ac43cc4c-8177-486e-b5a5-e877f62f9bc5\" target=\"_top\" title=\"psysml:ac43cc4c-8177-486e-b5a5-e877f62f9bc5\" xlink:actuate=\"onRequest\" xlink:href=\"psysml:ac43cc4c-8177-486e-b5a5-e877f62f9bc5\" xlink:show=\"new\" xlink:title=\"psysml:ac43cc4c-8177-486e-b5a5-e877f62f9bc5\" xlink:type=\"simple\"><rect fill=\"#FFFFFF\" height=\"40\" id=\"E8\" rx=\"10\" ry=\"10\" style=\"stroke: #383838; stroke-width: 1.5;\" width=\"50\" x=\"141\" y=\"133\"/><rect fill=\"#F8F8F8\" height=\"23.9688\" rx=\"10\" ry=\"10\" style=\"stroke: #F8F8F8; stroke-width: 1.5;\" width=\"50\" x=\"141\" y=\"133\"/><rect fill=\"#F8F8F8\" height=\"10\" style=\"stroke: #F8F8F8; stroke-width: 1.5;\" width=\"50\" x=\"141\" y=\"146.9688\"/><rect fill=\"none\" height=\"40\" id=\"E8\" rx=\"10\" ry=\"10\" style=\"stroke: #383838; stroke-width: 1.5;\" width=\"50\" x=\"141\" y=\"133\"/><text fill=\"#000000\" font-family=\"sans-serif\" font-size=\"12\" lengthAdjust=\"spacingAndGlyphs\" textLength=\"25\" x=\"153.5\" y=\"149.1387\">q: Q</text></a></g><!--MD5=[96f4274e9e20536e775497830990834d]\n",
       "class E10--><a href=\"psysml:572dfe4e-6d7c-4ba8-94a3-d7ce0272bed9\" target=\"_top\" title=\"psysml:572dfe4e-6d7c-4ba8-94a3-d7ce0272bed9\" xlink:actuate=\"onRequest\" xlink:href=\"psysml:572dfe4e-6d7c-4ba8-94a3-d7ce0272bed9\" xlink:show=\"new\" xlink:title=\"psysml:572dfe4e-6d7c-4ba8-94a3-d7ce0272bed9\" xlink:type=\"simple\"><rect fill=\"#FFFFFF\" height=\"88.3516\" id=\"E10\" rx=\"10\" ry=\"10\" style=\"stroke: #383838; stroke-width: 1.5;\" width=\"77\" x=\"468.5\" y=\"109\"/><text fill=\"#000000\" font-family=\"sans-serif\" font-size=\"12\" font-style=\"italic\" lengthAdjust=\"spacingAndGlyphs\" textLength=\"75\" x=\"469.5\" y=\"125.1387\">«reference»</text><text fill=\"#000000\" font-family=\"sans-serif\" font-size=\"12\" lengthAdjust=\"spacingAndGlyphs\" textLength=\"8\" x=\"503\" y=\"139.1074\">q</text><line style=\"stroke: #383838; stroke-width: 1.5;\" x1=\"469.5\" x2=\"544.5\" y1=\"146.9375\" y2=\"146.9375\"/><text fill=\"#000000\" font-family=\"sans-serif\" font-size=\"11\" lengthAdjust=\"spacingAndGlyphs\" textLength=\"23\" x=\"474.5\" y=\"177.9526\">b: B</text><text fill=\"#000000\" font-family=\"sans-serif\" font-size=\"11\" font-style=\"italic\" lengthAdjust=\"spacingAndGlyphs\" textLength=\"44\" x=\"474.5\" y=\"190.7573\">:&gt;&gt;P::a</text><line style=\"stroke: #383838; stroke-width: 1.0;\" x1=\"469.5\" x2=\"479.5\" y1=\"161.3398\" y2=\"161.3398\"/><text fill=\"#000000\" font-family=\"sans-serif\" font-size=\"11\" lengthAdjust=\"spacingAndGlyphs\" textLength=\"55\" x=\"479.5\" y=\"164.6479\">attributes</text><line style=\"stroke: #383838; stroke-width: 1.0;\" x1=\"534.5\" x2=\"544.5\" y1=\"161.3398\" y2=\"161.3398\"/></a><g id=\"E1.E11\"><a href=\"psysml:983a8093-9810-4637-96cc-9ee8fb3d9cf5\" target=\"_top\" title=\"psysml:983a8093-9810-4637-96cc-9ee8fb3d9cf5\" xlink:actuate=\"onRequest\" xlink:href=\"psysml:983a8093-9810-4637-96cc-9ee8fb3d9cf5\" xlink:show=\"new\" xlink:title=\"psysml:983a8093-9810-4637-96cc-9ee8fb3d9cf5\" xlink:type=\"simple\"><rect fill=\"#FFFFFF\" height=\"40\" id=\"E11\" rx=\"10\" ry=\"10\" style=\"stroke: #383838; stroke-width: 1.5;\" width=\"73\" x=\"32.5\" y=\"133\"/><rect fill=\"#F8F8F8\" height=\"23.9688\" rx=\"10\" ry=\"10\" style=\"stroke: #F8F8F8; stroke-width: 1.5;\" width=\"73\" x=\"32.5\" y=\"133\"/><rect fill=\"#F8F8F8\" height=\"10\" style=\"stroke: #F8F8F8; stroke-width: 1.5;\" width=\"73\" x=\"32.5\" y=\"146.9688\"/><rect fill=\"none\" height=\"40\" id=\"E11\" rx=\"10\" ry=\"10\" style=\"stroke: #383838; stroke-width: 1.5;\" width=\"73\" x=\"32.5\" y=\"133\"/><text fill=\"#000000\" font-family=\"sans-serif\" font-size=\"12\" lengthAdjust=\"spacingAndGlyphs\" textLength=\"58\" x=\"38\" y=\"149.1387\">y: P=v::q;</text></a></g><!--MD5=[185131fc0dcab0a4505a2ebe144e961b]\n",
       "link E4 to E2--><a href=\"psysml:9e57242c-9184-4252-9565-bec20c63fdb8\" target=\"_top\" title=\"psysml:9e57242c-9184-4252-9565-bec20c63fdb8\" xlink:actuate=\"onRequest\" xlink:href=\"psysml:9e57242c-9184-4252-9565-bec20c63fdb8\" xlink:show=\"new\" xlink:title=\"psysml:9e57242c-9184-4252-9565-bec20c63fdb8\" xlink:type=\"simple\"><path d=\"M274.95,174.5 C285.29,190.29 300.57,212.32 316,230 C338.085,255.3 365.5625,281.1325 387.7738,300.8438 C398.8794,310.6994 408.6684,319.0247 415.8086,324.988 C416.7011,325.7334 417.5522,326.4419 418.3594,327.1119 C418.763,327.4468 419.1555,327.7722 419.5368,328.0877 C419.6321,328.1666 419.7267,328.2449 419.8206,328.3225 \" fill=\"none\" id=\"E4-&gt;E2\" style=\"stroke: #383838; stroke-width: 1.0;\"/><polygon fill=\"#FFFFFF\" points=\"419.8206,328.3225,409.6398,310.8196,400.7177,321.6083,419.8206,328.3225\" style=\"stroke: #383838; stroke-width: 1.0;\"/></a><!--MD5=[2351f337d6de0f557b50152ba70847b5]\n",
       "link E6 to E2--><a href=\"psysml:5cdbdbe7-d14c-45c9-a804-61f18115238e\" target=\"_top\" title=\"psysml:5cdbdbe7-d14c-45c9-a804-61f18115238e\" xlink:actuate=\"onRequest\" xlink:href=\"psysml:5cdbdbe7-d14c-45c9-a804-61f18115238e\" xlink:show=\"new\" xlink:title=\"psysml:5cdbdbe7-d14c-45c9-a804-61f18115238e\" xlink:type=\"simple\"><path d=\"M593.9695,184.2276 C593.7875,184.724 593.6019,185.2229 593.4125,185.7238 C587.3525,201.7525 577.485,219.9 562,230 C540.54,243.99 466.2,221.04 447,238 C442.9488,241.5788 439.6069,245.7455 436.8611,250.3013 C436.1747,251.4402 435.5255,252.6035 434.9118,253.788 \" fill=\"none\" id=\"E6-&gt;E2\" style=\"stroke: #383838; stroke-width: 1.0;\"/><polygon fill=\"#FFFFFF\" points=\"434.9118,253.788,449.8677,240.138,437.4371,233.6976,434.9118,253.788\" style=\"stroke: #383838; stroke-width: 1.0;\"/></a><!--MD5=[d1feb91ef33d32cab0fdcd2f9e398d1c]\n",
       "@startuml\r\n",
       "skinparam ranksep 10\r\n",
       "skinparam rectangle {\r\n",
       " backgroundColor<<block>> LightGreen\r\n",
       "}\r\n",
       "top to bottom direction\r\n",
       "skinparam monochrome true\r\n",
       "skinparam classbackgroundcolor white\r\n",
       "skinparam shadowing false\r\n",
       "skinparam wrapWidth 300\r\n",
       "hide circle\r\n",
       "\r\n",
       "package \"VariabilityTest\" as E1  [[psysml:c9192910-aa77-45a9-9ae3-16f7deb9d13d ]]  {\r\n",
       "rec def \"P\" as E2  <<(T,blue)part def>> [[psysml:28b4b804-815b-4815-9c5e-e5b09d6ccef7 ]] {\r\n",
       "comp usage \"a\" as E3  <<(T,blue)attribute>> [[psysml:29e7d07c-e0ef-43b2-a175-0967043bb668 ]] {\r\n",
       "}\r\n",
       "}\r\n",
       "rec def \"Q\" as E4  <<(T,blue)part def>> [[psysml:3556ece0-f840-441c-8cd2-5d7027a1a805 ]] {\r\n",
       "}\r\n",
       "def \"B\" as E5  <<(T,blue)attribute def>> [[psysml:c1ea47d2-f15e-4f05-bf93-ec81669ca641 ]] \r\n",
       "rec def \"V\" as E6  <<(T,blue)part def>> [[psysml:735cd89a-e4b2-4dc5-b3d6-41534f400f39 ]] {\r\n",
       "comp usage \"x: Q\" as E7  [[psysml:0400016e-70f0-4405-a71c-97e49bd60e65 ]] {\r\n",
       "- - attributes - -\r\n",
       "b: B\\n//:>>P::a// \r\n",
       "}\r\n",
       "}\r\n",
       "rec usage \"q: Q\" as E8  [[psysml:ac43cc4c-8177-486e-b5a5-e877f62f9bc5 ]] {\r\n",
       "}\r\n",
       "rec usage \"v: P\" as E9  <<variation>> [[psysml:ce952eae-8bb1-4ad0-9f02-4c42d4c1d0c7 ]] {\r\n",
       "comp usage \"q\" as E10  <<(T,blue)reference>> [[psysml:572dfe4e-6d7c-4ba8-94a3-d7ce0272bed9 ]] {\r\n",
       "- - attributes - -\r\n",
       "b: B\\n//:>>P::a// \r\n",
       "}\r\n",
       "}\r\n",
       "rec usage \"y: P=v::q; \" as E11  [[psysml:983a8093-9810-4637-96cc-9ee8fb3d9cf5 ]] {\r\n",
       "}\r\n",
       "E4 - -|> E2 [[psysml:9e57242c-9184-4252-9565-bec20c63fdb8 ]] \r\n",
       "E6 - -|> E2 [[psysml:5cdbdbe7-d14c-45c9-a804-61f18115238e ]] \r\n",
       "}\r\n",
       "@enduml\r\n",
       "\n",
       "PlantUML version 1.2020.13(Sat Jun 13 12:26:38 UTC 2020)\n",
       "(EPL source distribution)\n",
       "Java Runtime: OpenJDK Runtime Environment\n",
       "JVM: OpenJDK 64-Bit Server VM\n",
       "Default Encoding: UTF-8\n",
       "Language: en\n",
       "Country: null\n",
       "--></g></svg>"
      ]
     },
     "execution_count": 47,
     "metadata": {},
     "output_type": "execute_result"
    }
   ],
   "source": [
    "%viz --style=\"TB\" --view=\"Interconnection\" \"VariabilityTest\""
   ]
  },
  {
   "cell_type": "code",
   "execution_count": 48,
   "id": "5f5ed556",
   "metadata": {
    "execution": {
     "iopub.execute_input": "2021-05-28T10:47:58.459003Z",
     "iopub.status.busy": "2021-05-28T10:47:58.458567Z",
     "iopub.status.idle": "2021-05-28T10:47:58.463146Z",
     "shell.execute_reply": "2021-05-28T10:47:58.462833Z"
    }
   },
   "outputs": [
    {
     "data": {
      "image/svg+xml": [
       "<?xml version=\"1.0\" encoding=\"UTF-8\" standalone=\"no\"?><svg xmlns=\"http://www.w3.org/2000/svg\" xmlns:xlink=\"http://www.w3.org/1999/xlink\" contentScriptType=\"application/ecmascript\" contentStyleType=\"text/css\" height=\"12px\" preserveAspectRatio=\"none\" style=\"width:12px;height:12px;\" version=\"1.1\" viewBox=\"0 0 12 12\" width=\"12px\" zoomAndPan=\"magnify\"><defs/><g><!--MD5=[06afc254b03ac5e9d9fb7773b07d0800]\n",
       "@startuml\r\n",
       "skinparam ranksep 8\r\n",
       "top to bottom direction\r\n",
       "skinparam monochrome true\r\n",
       "skinparam classbackgroundcolor white\r\n",
       "skinparam shadowing false\r\n",
       "skinparam wrapWidth 300\r\n",
       "hide circle\r\n",
       "\r\n",
       "@enduml\r\n",
       "\n",
       "PlantUML version 1.2020.13(Sat Jun 13 12:26:38 UTC 2020)\n",
       "(EPL source distribution)\n",
       "Java Runtime: OpenJDK Runtime Environment\n",
       "JVM: OpenJDK 64-Bit Server VM\n",
       "Default Encoding: UTF-8\n",
       "Language: en\n",
       "Country: null\n",
       "--></g></svg>"
      ]
     },
     "execution_count": 48,
     "metadata": {},
     "output_type": "execute_result"
    }
   ],
   "source": [
    "%viz --style=\"TB\" --view=\"Action\" \"VariabilityTest\""
   ]
  },
  {
   "cell_type": "code",
   "execution_count": 49,
   "id": "32aaf3b6",
   "metadata": {
    "execution": {
     "iopub.execute_input": "2021-05-28T10:47:58.513988Z",
     "iopub.status.busy": "2021-05-28T10:47:58.513595Z",
     "iopub.status.idle": "2021-05-28T10:47:58.577121Z",
     "shell.execute_reply": "2021-05-28T10:47:58.575709Z"
    }
   },
   "outputs": [
    {
     "data": {
      "image/svg+xml": [
       "<?xml version=\"1.0\" encoding=\"UTF-8\" standalone=\"no\"?><svg xmlns=\"http://www.w3.org/2000/svg\" xmlns:xlink=\"http://www.w3.org/1999/xlink\" contentScriptType=\"application/ecmascript\" contentStyleType=\"text/css\" height=\"401px\" preserveAspectRatio=\"none\" style=\"width:419px;height:401px;\" version=\"1.1\" viewBox=\"0 0 419 401\" width=\"419px\" zoomAndPan=\"magnify\"><defs/><g><!--MD5=[fbc87193dbaf4d95561dea2c320d4a47]\n",
       "cluster E1--><a href=\"psysml:c9192910-aa77-45a9-9ae3-16f7deb9d13d\" target=\"_top\" title=\"psysml:c9192910-aa77-45a9-9ae3-16f7deb9d13d\" xlink:actuate=\"onRequest\" xlink:href=\"psysml:c9192910-aa77-45a9-9ae3-16f7deb9d13d\" xlink:show=\"new\" xlink:title=\"psysml:c9192910-aa77-45a9-9ae3-16f7deb9d13d\" xlink:type=\"simple\"><polygon fill=\"#FFFFFF\" points=\"16,6,134,6,141,28.2969,397,28.2969,397,389,16,389,16,6\" style=\"stroke: #000000; stroke-width: 1.5;\"/><line style=\"stroke: #000000; stroke-width: 1.5;\" x1=\"16\" x2=\"141\" y1=\"28.2969\" y2=\"28.2969\"/><text fill=\"#000000\" font-family=\"sans-serif\" font-size=\"14\" font-weight=\"bold\" lengthAdjust=\"spacingAndGlyphs\" textLength=\"112\" x=\"20\" y=\"20.9951\">VariabilityTest</text></a><!--MD5=[b4997ac47864f28c2f74865a473b2911]\n",
       "class E2--><a href=\"psysml:28b4b804-815b-4815-9c5e-e5b09d6ccef7\" target=\"_top\" title=\"psysml:28b4b804-815b-4815-9c5e-e5b09d6ccef7\" xlink:actuate=\"onRequest\" xlink:href=\"psysml:28b4b804-815b-4815-9c5e-e5b09d6ccef7\" xlink:show=\"new\" xlink:title=\"psysml:28b4b804-815b-4815-9c5e-e5b09d6ccef7\" xlink:type=\"simple\"><rect fill=\"#FFFFFF\" height=\"75.5469\" id=\"E2\" style=\"stroke: #383838; stroke-width: 1.5;\" width=\"66\" x=\"166\" y=\"291\"/><text fill=\"#000000\" font-family=\"sans-serif\" font-size=\"12\" font-style=\"italic\" lengthAdjust=\"spacingAndGlyphs\" textLength=\"64\" x=\"167\" y=\"307.1387\">«part def»</text><text fill=\"#000000\" font-family=\"sans-serif\" font-size=\"12\" lengthAdjust=\"spacingAndGlyphs\" textLength=\"8\" x=\"195\" y=\"321.1074\">P</text><line style=\"stroke: #383838; stroke-width: 1.5;\" x1=\"167\" x2=\"231\" y1=\"328.9375\" y2=\"328.9375\"/><text fill=\"#000000\" font-family=\"sans-serif\" font-size=\"11\" lengthAdjust=\"spacingAndGlyphs\" textLength=\"7\" x=\"172\" y=\"359.9526\">a</text><line style=\"stroke: #383838; stroke-width: 1.0;\" x1=\"167\" x2=\"171.5\" y1=\"343.3398\" y2=\"343.3398\"/><text fill=\"#000000\" font-family=\"sans-serif\" font-size=\"11\" lengthAdjust=\"spacingAndGlyphs\" textLength=\"55\" x=\"171.5\" y=\"346.6479\">attributes</text><line style=\"stroke: #383838; stroke-width: 1.0;\" x1=\"226.5\" x2=\"231\" y1=\"343.3398\" y2=\"343.3398\"/></a><!--MD5=[09b614a08d8cba4a07c9adeb5e0fee81]\n",
       "class E3--><a href=\"psysml:3556ece0-f840-441c-8cd2-5d7027a1a805\" target=\"_top\" title=\"psysml:3556ece0-f840-441c-8cd2-5d7027a1a805\" xlink:actuate=\"onRequest\" xlink:href=\"psysml:3556ece0-f840-441c-8cd2-5d7027a1a805\" xlink:show=\"new\" xlink:title=\"psysml:3556ece0-f840-441c-8cd2-5d7027a1a805\" xlink:type=\"simple\"><rect fill=\"#FFFFFF\" height=\"45.9375\" id=\"E3\" style=\"stroke: #383838; stroke-width: 1.5;\" width=\"66\" x=\"137\" y=\"155\"/><text fill=\"#000000\" font-family=\"sans-serif\" font-size=\"12\" font-style=\"italic\" lengthAdjust=\"spacingAndGlyphs\" textLength=\"64\" x=\"138\" y=\"171.1387\">«part def»</text><text fill=\"#000000\" font-family=\"sans-serif\" font-size=\"12\" lengthAdjust=\"spacingAndGlyphs\" textLength=\"9\" x=\"165.5\" y=\"185.1074\">Q</text><line style=\"stroke: #383838; stroke-width: 1.5;\" x1=\"138\" x2=\"202\" y1=\"192.9375\" y2=\"192.9375\"/></a><!--MD5=[ebbe1d658d1005bcc118a6aa81145e00]\n",
       "class E4--><a href=\"psysml:c1ea47d2-f15e-4f05-bf93-ec81669ca641\" target=\"_top\" title=\"psysml:c1ea47d2-f15e-4f05-bf93-ec81669ca641\" xlink:actuate=\"onRequest\" xlink:href=\"psysml:c1ea47d2-f15e-4f05-bf93-ec81669ca641\" xlink:show=\"new\" xlink:title=\"psysml:c1ea47d2-f15e-4f05-bf93-ec81669ca641\" xlink:type=\"simple\"><rect fill=\"#FFFFFF\" height=\"45.9375\" id=\"E4\" style=\"stroke: #383838; stroke-width: 1.5;\" width=\"95\" x=\"255.5\" y=\"41\"/><text fill=\"#000000\" font-family=\"sans-serif\" font-size=\"12\" font-style=\"italic\" lengthAdjust=\"spacingAndGlyphs\" textLength=\"93\" x=\"256.5\" y=\"57.1387\">«attribute def»</text><text fill=\"#000000\" font-family=\"sans-serif\" font-size=\"12\" lengthAdjust=\"spacingAndGlyphs\" textLength=\"8\" x=\"299\" y=\"71.1074\">B</text><line style=\"stroke: #383838; stroke-width: 1.5;\" x1=\"256.5\" x2=\"349.5\" y1=\"78.9375\" y2=\"78.9375\"/></a><!--MD5=[270fce915f116d4de14055a7c1d9a0f3]\n",
       "class E5--><a href=\"psysml:735cd89a-e4b2-4dc5-b3d6-41534f400f39\" target=\"_top\" title=\"psysml:735cd89a-e4b2-4dc5-b3d6-41534f400f39\" xlink:actuate=\"onRequest\" xlink:href=\"psysml:735cd89a-e4b2-4dc5-b3d6-41534f400f39\" xlink:show=\"new\" xlink:title=\"psysml:735cd89a-e4b2-4dc5-b3d6-41534f400f39\" xlink:type=\"simple\"><rect fill=\"#FFFFFF\" height=\"45.9375\" id=\"E5\" style=\"stroke: #383838; stroke-width: 1.5;\" width=\"66\" x=\"315\" y=\"155\"/><text fill=\"#000000\" font-family=\"sans-serif\" font-size=\"12\" font-style=\"italic\" lengthAdjust=\"spacingAndGlyphs\" textLength=\"64\" x=\"316\" y=\"171.1387\">«part def»</text><text fill=\"#000000\" font-family=\"sans-serif\" font-size=\"12\" lengthAdjust=\"spacingAndGlyphs\" textLength=\"8\" x=\"344\" y=\"185.1074\">V</text><line style=\"stroke: #383838; stroke-width: 1.5;\" x1=\"316\" x2=\"380\" y1=\"192.9375\" y2=\"192.9375\"/></a><!--MD5=[60a26617385b1d2d0262a64233df1f8d]\n",
       "class E6--><a href=\"psysml:0400016e-70f0-4405-a71c-97e49bd60e65\" target=\"_top\" title=\"psysml:0400016e-70f0-4405-a71c-97e49bd60e65\" xlink:actuate=\"onRequest\" xlink:href=\"psysml:0400016e-70f0-4405-a71c-97e49bd60e65\" xlink:show=\"new\" xlink:title=\"psysml:0400016e-70f0-4405-a71c-97e49bd60e65\" xlink:type=\"simple\"><rect fill=\"#FFFFFF\" height=\"88.3516\" id=\"E6\" rx=\"10\" ry=\"10\" style=\"stroke: #383838; stroke-width: 1.5;\" width=\"63\" x=\"287.5\" y=\"285\"/><text fill=\"#000000\" font-family=\"sans-serif\" font-size=\"12\" font-style=\"italic\" lengthAdjust=\"spacingAndGlyphs\" textLength=\"40\" x=\"299\" y=\"301.1387\">«part»</text><text fill=\"#000000\" font-family=\"sans-serif\" font-size=\"12\" lengthAdjust=\"spacingAndGlyphs\" textLength=\"23\" x=\"307.5\" y=\"315.1074\">x: Q</text><line style=\"stroke: #383838; stroke-width: 1.5;\" x1=\"288.5\" x2=\"349.5\" y1=\"322.9375\" y2=\"322.9375\"/><text fill=\"#000000\" font-family=\"sans-serif\" font-size=\"11\" lengthAdjust=\"spacingAndGlyphs\" textLength=\"23\" x=\"293.5\" y=\"353.9526\">b: B</text><text fill=\"#000000\" font-family=\"sans-serif\" font-size=\"11\" font-style=\"italic\" lengthAdjust=\"spacingAndGlyphs\" textLength=\"44\" x=\"293.5\" y=\"366.7573\">:&gt;&gt;P::a</text><line style=\"stroke: #383838; stroke-width: 1.0;\" x1=\"288.5\" x2=\"291.5\" y1=\"337.3398\" y2=\"337.3398\"/><text fill=\"#000000\" font-family=\"sans-serif\" font-size=\"11\" lengthAdjust=\"spacingAndGlyphs\" textLength=\"55\" x=\"291.5\" y=\"340.6479\">attributes</text><line style=\"stroke: #383838; stroke-width: 1.0;\" x1=\"346.5\" x2=\"349.5\" y1=\"337.3398\" y2=\"337.3398\"/></a><!--MD5=[2156ba9850f5573cc1fc38a6a4b2f02b]\n",
       "class E7--><a href=\"psysml:ac43cc4c-8177-486e-b5a5-e877f62f9bc5\" target=\"_top\" title=\"psysml:ac43cc4c-8177-486e-b5a5-e877f62f9bc5\" xlink:actuate=\"onRequest\" xlink:href=\"psysml:ac43cc4c-8177-486e-b5a5-e877f62f9bc5\" xlink:show=\"new\" xlink:title=\"psysml:ac43cc4c-8177-486e-b5a5-e877f62f9bc5\" xlink:type=\"simple\"><rect fill=\"#FFFFFF\" height=\"45.9375\" id=\"E7\" rx=\"10\" ry=\"10\" style=\"stroke: #383838; stroke-width: 1.5;\" width=\"42\" x=\"149\" y=\"41\"/><text fill=\"#000000\" font-family=\"sans-serif\" font-size=\"12\" font-style=\"italic\" lengthAdjust=\"spacingAndGlyphs\" textLength=\"40\" x=\"150\" y=\"57.1387\">«part»</text><text fill=\"#000000\" font-family=\"sans-serif\" font-size=\"12\" lengthAdjust=\"spacingAndGlyphs\" textLength=\"25\" x=\"157.5\" y=\"71.1074\">q: Q</text><line style=\"stroke: #383838; stroke-width: 1.5;\" x1=\"150\" x2=\"190\" y1=\"78.9375\" y2=\"78.9375\"/></a><!--MD5=[b9389687b975829384b498ac4b7476b2]\n",
       "class E8--><a href=\"psysml:ce952eae-8bb1-4ad0-9f02-4c42d4c1d0c7\" target=\"_top\" title=\"psysml:ce952eae-8bb1-4ad0-9f02-4c42d4c1d0c7\" xlink:actuate=\"onRequest\" xlink:href=\"psysml:ce952eae-8bb1-4ad0-9f02-4c42d4c1d0c7\" xlink:show=\"new\" xlink:title=\"psysml:ce952eae-8bb1-4ad0-9f02-4c42d4c1d0c7\" xlink:type=\"simple\"><rect fill=\"#FFFFFF\" height=\"59.9063\" id=\"E8\" rx=\"10\" ry=\"10\" style=\"stroke: #383838; stroke-width: 1.5;\" width=\"70\" x=\"32\" y=\"148\"/><text fill=\"#000000\" font-family=\"sans-serif\" font-size=\"12\" font-style=\"italic\" lengthAdjust=\"spacingAndGlyphs\" textLength=\"68\" x=\"33\" y=\"164.1387\">«variation»</text><text fill=\"#000000\" font-family=\"sans-serif\" font-size=\"12\" font-style=\"italic\" lengthAdjust=\"spacingAndGlyphs\" textLength=\"40\" x=\"47\" y=\"178.1074\">«part»</text><text fill=\"#000000\" font-family=\"sans-serif\" font-size=\"12\" lengthAdjust=\"spacingAndGlyphs\" textLength=\"22\" x=\"56\" y=\"192.0762\">v: P</text><line style=\"stroke: #383838; stroke-width: 1.5;\" x1=\"33\" x2=\"101\" y1=\"199.9063\" y2=\"199.9063\"/></a><!--MD5=[fd4143e9d270a159db93a4ea2a975926]\n",
       "class E9--><a href=\"psysml:572dfe4e-6d7c-4ba8-94a3-d7ce0272bed9\" target=\"_top\" title=\"psysml:572dfe4e-6d7c-4ba8-94a3-d7ce0272bed9\" xlink:actuate=\"onRequest\" xlink:href=\"psysml:572dfe4e-6d7c-4ba8-94a3-d7ce0272bed9\" xlink:show=\"new\" xlink:title=\"psysml:572dfe4e-6d7c-4ba8-94a3-d7ce0272bed9\" xlink:type=\"simple\"><rect fill=\"#FFFFFF\" height=\"88.3516\" id=\"E9\" rx=\"10\" ry=\"10\" style=\"stroke: #383838; stroke-width: 1.5;\" width=\"77\" x=\"32.5\" y=\"285\"/><text fill=\"#000000\" font-family=\"sans-serif\" font-size=\"12\" font-style=\"italic\" lengthAdjust=\"spacingAndGlyphs\" textLength=\"75\" x=\"33.5\" y=\"301.1387\">«reference»</text><text fill=\"#000000\" font-family=\"sans-serif\" font-size=\"12\" lengthAdjust=\"spacingAndGlyphs\" textLength=\"8\" x=\"67\" y=\"315.1074\">q</text><line style=\"stroke: #383838; stroke-width: 1.5;\" x1=\"33.5\" x2=\"108.5\" y1=\"322.9375\" y2=\"322.9375\"/><text fill=\"#000000\" font-family=\"sans-serif\" font-size=\"11\" lengthAdjust=\"spacingAndGlyphs\" textLength=\"23\" x=\"38.5\" y=\"353.9526\">b: B</text><text fill=\"#000000\" font-family=\"sans-serif\" font-size=\"11\" font-style=\"italic\" lengthAdjust=\"spacingAndGlyphs\" textLength=\"44\" x=\"38.5\" y=\"366.7573\">:&gt;&gt;P::a</text><line style=\"stroke: #383838; stroke-width: 1.0;\" x1=\"33.5\" x2=\"43.5\" y1=\"337.3398\" y2=\"337.3398\"/><text fill=\"#000000\" font-family=\"sans-serif\" font-size=\"11\" lengthAdjust=\"spacingAndGlyphs\" textLength=\"55\" x=\"43.5\" y=\"340.6479\">attributes</text><line style=\"stroke: #383838; stroke-width: 1.0;\" x1=\"98.5\" x2=\"108.5\" y1=\"337.3398\" y2=\"337.3398\"/></a><!--MD5=[96f4274e9e20536e775497830990834d]\n",
       "class E10--><a href=\"psysml:983a8093-9810-4637-96cc-9ee8fb3d9cf5\" target=\"_top\" title=\"psysml:983a8093-9810-4637-96cc-9ee8fb3d9cf5\" xlink:actuate=\"onRequest\" xlink:href=\"psysml:983a8093-9810-4637-96cc-9ee8fb3d9cf5\" xlink:show=\"new\" xlink:title=\"psysml:983a8093-9810-4637-96cc-9ee8fb3d9cf5\" xlink:type=\"simple\"><rect fill=\"#FFFFFF\" height=\"45.9375\" id=\"E10\" rx=\"10\" ry=\"10\" style=\"stroke: #383838; stroke-width: 1.5;\" width=\"42\" x=\"238\" y=\"155\"/><text fill=\"#000000\" font-family=\"sans-serif\" font-size=\"12\" font-style=\"italic\" lengthAdjust=\"spacingAndGlyphs\" textLength=\"40\" x=\"239\" y=\"171.1387\">«part»</text><text fill=\"#000000\" font-family=\"sans-serif\" font-size=\"12\" lengthAdjust=\"spacingAndGlyphs\" textLength=\"22\" x=\"248\" y=\"185.1074\">y: P</text><line style=\"stroke: #383838; stroke-width: 1.5;\" x1=\"239\" x2=\"279\" y1=\"192.9375\" y2=\"192.9375\"/></a><!--MD5=[05d275557350bfb9b23a4ef7222b4c39]\n",
       "link E3 to E2--><a href=\"psysml:9e57242c-9184-4252-9565-bec20c63fdb8\" target=\"_top\" title=\"psysml:9e57242c-9184-4252-9565-bec20c63fdb8\" xlink:actuate=\"onRequest\" xlink:href=\"psysml:9e57242c-9184-4252-9565-bec20c63fdb8\" xlink:show=\"new\" xlink:title=\"psysml:9e57242c-9184-4252-9565-bec20c63fdb8\" xlink:type=\"simple\"><path d=\"M174.34,201.31 C177.92,219.67 183.15,246.54 187.87,270.81 \" fill=\"none\" id=\"E3-&gt;E2\" style=\"stroke: #383838; stroke-width: 1.0;\"/><polygon fill=\"none\" points=\"194.8,269.8,191.75,290.77,181.06,272.47,194.8,269.8\" style=\"stroke: #383838; stroke-width: 1.0;\"/></a><!--MD5=[15ebcb19ae302d9b601edb458606d402]\n",
       "link E5 to E2--><a href=\"psysml:5cdbdbe7-d14c-45c9-a804-61f18115238e\" target=\"_top\" title=\"psysml:5cdbdbe7-d14c-45c9-a804-61f18115238e\" xlink:actuate=\"onRequest\" xlink:href=\"psysml:5cdbdbe7-d14c-45c9-a804-61f18115238e\" xlink:show=\"new\" xlink:title=\"psysml:5cdbdbe7-d14c-45c9-a804-61f18115238e\" xlink:type=\"simple\"><path d=\"M325.69,201.31 C304.9,222.1 273.2,253.8 246.71,280.29 \" fill=\"none\" id=\"E5-&gt;E2\" style=\"stroke: #383838; stroke-width: 1.0;\"/><polygon fill=\"none\" points=\"251.33,285.57,232.24,294.76,241.43,275.67,251.33,285.57\" style=\"stroke: #383838; stroke-width: 1.0;\"/></a><!--MD5=[9120cf2e5df3bff93db8f754bbbc09b4]\n",
       "link E5 to E6--><a href=\"psysml:052c6ce9-d9db-4da6-90c4-ac16555550ac\" target=\"_top\" title=\"psysml:052c6ce9-d9db-4da6-90c4-ac16555550ac\" xlink:actuate=\"onRequest\" xlink:href=\"psysml:052c6ce9-d9db-4da6-90c4-ac16555550ac\" xlink:show=\"new\" xlink:title=\"psysml:052c6ce9-d9db-4da6-90c4-ac16555550ac\" xlink:type=\"simple\"><path d=\"M341.72,211.26 C338.1,229.85 333.47,253.68 329.32,274.95 \" fill=\"none\" id=\"E5-E6\" style=\"stroke: #383838; stroke-width: 1.0;\"/><polygon fill=\"#383838\" points=\"327.4,284.84,331.8761,277.5623,325.987,276.4136,327.4,284.84\" style=\"stroke: #383838; stroke-width: 1.0;\"/><path d=\"M334.7699,202.7122 A9,9 0 0 0 351.3715 205.9503\" fill=\"none\" style=\"stroke: #383838; stroke-width: 1.5;\"/><text fill=\"#000000\" font-family=\"sans-serif\" font-size=\"13\" lengthAdjust=\"spacingAndGlyphs\" textLength=\"60\" x=\"337\" y=\"251.0669\">«variant»</text></a><!--MD5=[14ccda38c055a5c0da953d572bc50960]\n",
       "link E7 to E3--><a href=\"psysml:648145d1-1ec9-42fc-8307-fa8910350658\" target=\"_top\" title=\"psysml:648145d1-1ec9-42fc-8307-fa8910350658\" xlink:actuate=\"onRequest\" xlink:href=\"psysml:648145d1-1ec9-42fc-8307-fa8910350658\" xlink:show=\"new\" xlink:title=\"psysml:648145d1-1ec9-42fc-8307-fa8910350658\" xlink:type=\"simple\"><path d=\"M170,87.13 C170,100.7 170,118.53 170,134.73 \" fill=\"none\" id=\"E7-&gt;E3\" style=\"stroke: #383838; stroke-width: 1.0;\"/><polygon fill=\"#FFFFFF\" points=\"170,154.92,163,135.92,177,135.92,170,154.92\" style=\"stroke: #383838; stroke-width: 1.0;\"/><ellipse cx=\"165\" cy=\"130.22\" fill=\"#383838\" rx=\"2\" ry=\"2\" style=\"stroke: #383838; stroke-width: 1.0;\"/><ellipse cx=\"175\" cy=\"130.22\" fill=\"#383838\" rx=\"2\" ry=\"2\" style=\"stroke: #383838; stroke-width: 1.0;\"/></a><!--MD5=[f1f3f9f2fc535e6147756cb86a7f2e32]\n",
       "link E8 to E2--><a href=\"psysml:19cda0c9-2775-4d9d-8cd8-191c5ad52b34\" target=\"_top\" title=\"psysml:19cda0c9-2775-4d9d-8cd8-191c5ad52b34\" xlink:actuate=\"onRequest\" xlink:href=\"psysml:19cda0c9-2775-4d9d-8cd8-191c5ad52b34\" xlink:show=\"new\" xlink:title=\"psysml:19cda0c9-2775-4d9d-8cd8-191c5ad52b34\" xlink:type=\"simple\"><path d=\"M102.17,204.39 C114.52,214.17 128.04,225.9 139,238 C148.86,248.88 158.29,261.5 166.63,273.79 \" fill=\"none\" id=\"E8-&gt;E2\" style=\"stroke: #383838; stroke-width: 1.0;\"/><polygon fill=\"#FFFFFF\" points=\"177.64,290.73,161.4168,278.6135,173.1555,270.9844,177.64,290.73\" style=\"stroke: #383838; stroke-width: 1.0;\"/><ellipse cx=\"159.9876\" cy=\"272.7443\" fill=\"#383838\" rx=\"2\" ry=\"2\" style=\"stroke: #383838; stroke-width: 1.0;\"/><ellipse cx=\"168.3724\" cy=\"267.2949\" fill=\"#383838\" rx=\"2\" ry=\"2\" style=\"stroke: #383838; stroke-width: 1.0;\"/></a><!--MD5=[ed10624c06dd9a4fa49ccf290e8b16a8]\n",
       "link E8 to E9--><a href=\"psysml:28d39c7a-e0c7-42b0-858e-2cb4e488f108\" target=\"_top\" title=\"psysml:28d39c7a-e0c7-42b0-858e-2cb4e488f108\" xlink:actuate=\"onRequest\" xlink:href=\"psysml:28d39c7a-e0c7-42b0-858e-2cb4e488f108\" xlink:show=\"new\" xlink:title=\"psysml:28d39c7a-e0c7-42b0-858e-2cb4e488f108\" xlink:type=\"simple\"><path d=\"M68.06,218.32 C68.52,235.6 69.07,256.15 69.57,274.77 \" fill=\"none\" id=\"E8-E9\" style=\"stroke: #383838; stroke-width: 1.0;\"/><polygon fill=\"#383838\" points=\"69.84,284.88,72.6331,276.8054,66.6351,276.9599,69.84,284.88\" style=\"stroke: #383838; stroke-width: 1.0;\"/><path d=\"M59.4094,211.3865 A9,9 0 0 0 76.3176 210.9276\" fill=\"none\" style=\"stroke: #383838; stroke-width: 1.5;\"/><text fill=\"#000000\" font-family=\"sans-serif\" font-size=\"13\" lengthAdjust=\"spacingAndGlyphs\" textLength=\"60\" x=\"70\" y=\"251.0669\">«variant»</text></a><!--MD5=[0f36bececdf0dff6e600d6f64214b0f1]\n",
       "link E10 to E2--><a href=\"psysml:8cfcd01d-a74f-43be-a680-d41b6ee6accc\" target=\"_top\" title=\"psysml:8cfcd01d-a74f-43be-a680-d41b6ee6accc\" xlink:actuate=\"onRequest\" xlink:href=\"psysml:8cfcd01d-a74f-43be-a680-d41b6ee6accc\" xlink:show=\"new\" xlink:title=\"psysml:8cfcd01d-a74f-43be-a680-d41b6ee6accc\" xlink:type=\"simple\"><path d=\"M250.02,201.31 C242.51,219.95 231.48,247.35 221.59,271.91 \" fill=\"none\" id=\"E10-&gt;E2\" style=\"stroke: #383838; stroke-width: 1.0;\"/><polygon fill=\"#FFFFFF\" points=\"213.99,290.77,214.5927,270.5305,227.5796,275.7593,213.99,290.77\" style=\"stroke: #383838; stroke-width: 1.0;\"/><ellipse cx=\"218.5768\" cy=\"265.9899\" fill=\"#383838\" rx=\"2\" ry=\"2\" style=\"stroke: #383838; stroke-width: 1.0;\"/><ellipse cx=\"227.8532\" cy=\"269.7248\" fill=\"#383838\" rx=\"2\" ry=\"2\" style=\"stroke: #383838; stroke-width: 1.0;\"/></a><!--MD5=[6016c2f5bca4f415e58011c7236b8165]\n",
       "@startuml\r\n",
       "top to bottom direction\r\n",
       "skinparam monochrome true\r\n",
       "skinparam classbackgroundcolor white\r\n",
       "skinparam shadowing false\r\n",
       "skinparam wrapWidth 300\r\n",
       "hide circle\r\n",
       "\r\n",
       "package \"VariabilityTest\" as E1  [[psysml:c9192910-aa77-45a9-9ae3-16f7deb9d13d ]]  {\r\n",
       "comp def \"P\" as E2  <<(T,blue)part def>> [[psysml:28b4b804-815b-4815-9c5e-e5b09d6ccef7 ]] {\r\n",
       "- - attributes - -\r\n",
       "a\r\n",
       "}\r\n",
       "comp def \"Q\" as E3  <<(T,blue)part def>> [[psysml:3556ece0-f840-441c-8cd2-5d7027a1a805 ]] {\r\n",
       "}\r\n",
       "comp def \"B\" as E4  <<(T,blue)attribute def>> [[psysml:c1ea47d2-f15e-4f05-bf93-ec81669ca641 ]] {\r\n",
       "}\r\n",
       "comp def \"V\" as E5  <<(T,blue)part def>> [[psysml:735cd89a-e4b2-4dc5-b3d6-41534f400f39 ]] {\r\n",
       "}\r\n",
       "comp usage \"x: Q\" as E6  <<(T,blue)part>> [[psysml:0400016e-70f0-4405-a71c-97e49bd60e65 ]] {\r\n",
       "- - attributes - -\r\n",
       "b: B\\n//:>>P::a// \r\n",
       "}\r\n",
       "comp usage \"q: Q\" as E7  <<(T,blue)part>> [[psysml:ac43cc4c-8177-486e-b5a5-e877f62f9bc5 ]] {\r\n",
       "}\r\n",
       "comp usage \"v: P\" as E8  <<variation>>\\n <<(T,blue)part>> [[psysml:ce952eae-8bb1-4ad0-9f02-4c42d4c1d0c7 ]] {\r\n",
       "}\r\n",
       "comp usage \"q\" as E9  <<(T,blue)reference>> [[psysml:572dfe4e-6d7c-4ba8-94a3-d7ce0272bed9 ]] {\r\n",
       "- - attributes - -\r\n",
       "b: B\\n//:>>P::a// \r\n",
       "}\r\n",
       "comp usage \"y: P\" as E10  <<(T,blue)part>> [[psysml:983a8093-9810-4637-96cc-9ee8fb3d9cf5 ]] {\r\n",
       "}\r\n",
       "E3 - -|> E2 [[psysml:9e57242c-9184-4252-9565-bec20c63fdb8 ]] \r\n",
       "E5 - -|> E2 [[psysml:5cdbdbe7-d14c-45c9-a804-61f18115238e ]] \r\n",
       "E5 )- ->> E6 [[psysml:052c6ce9-d9db-4da6-90c4-ac16555550ac ]] : <<variant>>\r\n",
       "E7 - -:|> E3 [[psysml:648145d1-1ec9-42fc-8307-fa8910350658 ]] \r\n",
       "E8 - -:|> E2 [[psysml:19cda0c9-2775-4d9d-8cd8-191c5ad52b34 ]] \r\n",
       "E8 )- ->> E9 [[psysml:28d39c7a-e0c7-42b0-858e-2cb4e488f108 ]] : <<variant>>\r\n",
       "E10 - -:|> E2 [[psysml:8cfcd01d-a74f-43be-a680-d41b6ee6accc ]] \r\n",
       "}\r\n",
       "@enduml\r\n",
       "\n",
       "PlantUML version 1.2020.13(Sat Jun 13 12:26:38 UTC 2020)\n",
       "(EPL source distribution)\n",
       "Java Runtime: OpenJDK Runtime Environment\n",
       "JVM: OpenJDK 64-Bit Server VM\n",
       "Default Encoding: UTF-8\n",
       "Language: en\n",
       "Country: null\n",
       "--></g></svg>"
      ]
     },
     "execution_count": 49,
     "metadata": {},
     "output_type": "execute_result"
    }
   ],
   "source": [
    "%viz --style=\"TB\" --view=\"Sequence\" \"VariabilityTest\""
   ]
  },
  {
   "cell_type": "code",
   "execution_count": 50,
   "id": "87210639",
   "metadata": {
    "execution": {
     "iopub.execute_input": "2021-05-28T10:47:58.629392Z",
     "iopub.status.busy": "2021-05-28T10:47:58.628704Z",
     "iopub.status.idle": "2021-05-28T10:47:58.693961Z",
     "shell.execute_reply": "2021-05-28T10:47:58.693654Z"
    }
   },
   "outputs": [
    {
     "data": {
      "image/svg+xml": [
       "<?xml version=\"1.0\" encoding=\"UTF-8\" standalone=\"no\"?><svg xmlns=\"http://www.w3.org/2000/svg\" xmlns:xlink=\"http://www.w3.org/1999/xlink\" contentScriptType=\"application/ecmascript\" contentStyleType=\"text/css\" height=\"401px\" preserveAspectRatio=\"none\" style=\"width:419px;height:401px;\" version=\"1.1\" viewBox=\"0 0 419 401\" width=\"419px\" zoomAndPan=\"magnify\"><defs/><g><!--MD5=[fbc87193dbaf4d95561dea2c320d4a47]\n",
       "cluster E1--><a href=\"psysml:c9192910-aa77-45a9-9ae3-16f7deb9d13d\" target=\"_top\" title=\"psysml:c9192910-aa77-45a9-9ae3-16f7deb9d13d\" xlink:actuate=\"onRequest\" xlink:href=\"psysml:c9192910-aa77-45a9-9ae3-16f7deb9d13d\" xlink:show=\"new\" xlink:title=\"psysml:c9192910-aa77-45a9-9ae3-16f7deb9d13d\" xlink:type=\"simple\"><polygon fill=\"#FFFFFF\" points=\"16,6,134,6,141,28.2969,397,28.2969,397,389,16,389,16,6\" style=\"stroke: #000000; stroke-width: 1.5;\"/><line style=\"stroke: #000000; stroke-width: 1.5;\" x1=\"16\" x2=\"141\" y1=\"28.2969\" y2=\"28.2969\"/><text fill=\"#000000\" font-family=\"sans-serif\" font-size=\"14\" font-weight=\"bold\" lengthAdjust=\"spacingAndGlyphs\" textLength=\"112\" x=\"20\" y=\"20.9951\">VariabilityTest</text></a><!--MD5=[b4997ac47864f28c2f74865a473b2911]\n",
       "class E2--><a href=\"psysml:28b4b804-815b-4815-9c5e-e5b09d6ccef7\" target=\"_top\" title=\"psysml:28b4b804-815b-4815-9c5e-e5b09d6ccef7\" xlink:actuate=\"onRequest\" xlink:href=\"psysml:28b4b804-815b-4815-9c5e-e5b09d6ccef7\" xlink:show=\"new\" xlink:title=\"psysml:28b4b804-815b-4815-9c5e-e5b09d6ccef7\" xlink:type=\"simple\"><rect fill=\"#FFFFFF\" height=\"75.5469\" id=\"E2\" style=\"stroke: #383838; stroke-width: 1.5;\" width=\"66\" x=\"166\" y=\"291\"/><text fill=\"#000000\" font-family=\"sans-serif\" font-size=\"12\" font-style=\"italic\" lengthAdjust=\"spacingAndGlyphs\" textLength=\"64\" x=\"167\" y=\"307.1387\">«part def»</text><text fill=\"#000000\" font-family=\"sans-serif\" font-size=\"12\" lengthAdjust=\"spacingAndGlyphs\" textLength=\"8\" x=\"195\" y=\"321.1074\">P</text><line style=\"stroke: #383838; stroke-width: 1.5;\" x1=\"167\" x2=\"231\" y1=\"328.9375\" y2=\"328.9375\"/><text fill=\"#000000\" font-family=\"sans-serif\" font-size=\"11\" lengthAdjust=\"spacingAndGlyphs\" textLength=\"7\" x=\"172\" y=\"359.9526\">a</text><line style=\"stroke: #383838; stroke-width: 1.0;\" x1=\"167\" x2=\"171.5\" y1=\"343.3398\" y2=\"343.3398\"/><text fill=\"#000000\" font-family=\"sans-serif\" font-size=\"11\" lengthAdjust=\"spacingAndGlyphs\" textLength=\"55\" x=\"171.5\" y=\"346.6479\">attributes</text><line style=\"stroke: #383838; stroke-width: 1.0;\" x1=\"226.5\" x2=\"231\" y1=\"343.3398\" y2=\"343.3398\"/></a><!--MD5=[09b614a08d8cba4a07c9adeb5e0fee81]\n",
       "class E3--><a href=\"psysml:3556ece0-f840-441c-8cd2-5d7027a1a805\" target=\"_top\" title=\"psysml:3556ece0-f840-441c-8cd2-5d7027a1a805\" xlink:actuate=\"onRequest\" xlink:href=\"psysml:3556ece0-f840-441c-8cd2-5d7027a1a805\" xlink:show=\"new\" xlink:title=\"psysml:3556ece0-f840-441c-8cd2-5d7027a1a805\" xlink:type=\"simple\"><rect fill=\"#FFFFFF\" height=\"45.9375\" id=\"E3\" style=\"stroke: #383838; stroke-width: 1.5;\" width=\"66\" x=\"137\" y=\"155\"/><text fill=\"#000000\" font-family=\"sans-serif\" font-size=\"12\" font-style=\"italic\" lengthAdjust=\"spacingAndGlyphs\" textLength=\"64\" x=\"138\" y=\"171.1387\">«part def»</text><text fill=\"#000000\" font-family=\"sans-serif\" font-size=\"12\" lengthAdjust=\"spacingAndGlyphs\" textLength=\"9\" x=\"165.5\" y=\"185.1074\">Q</text><line style=\"stroke: #383838; stroke-width: 1.5;\" x1=\"138\" x2=\"202\" y1=\"192.9375\" y2=\"192.9375\"/></a><!--MD5=[ebbe1d658d1005bcc118a6aa81145e00]\n",
       "class E4--><a href=\"psysml:c1ea47d2-f15e-4f05-bf93-ec81669ca641\" target=\"_top\" title=\"psysml:c1ea47d2-f15e-4f05-bf93-ec81669ca641\" xlink:actuate=\"onRequest\" xlink:href=\"psysml:c1ea47d2-f15e-4f05-bf93-ec81669ca641\" xlink:show=\"new\" xlink:title=\"psysml:c1ea47d2-f15e-4f05-bf93-ec81669ca641\" xlink:type=\"simple\"><rect fill=\"#FFFFFF\" height=\"45.9375\" id=\"E4\" style=\"stroke: #383838; stroke-width: 1.5;\" width=\"95\" x=\"255.5\" y=\"41\"/><text fill=\"#000000\" font-family=\"sans-serif\" font-size=\"12\" font-style=\"italic\" lengthAdjust=\"spacingAndGlyphs\" textLength=\"93\" x=\"256.5\" y=\"57.1387\">«attribute def»</text><text fill=\"#000000\" font-family=\"sans-serif\" font-size=\"12\" lengthAdjust=\"spacingAndGlyphs\" textLength=\"8\" x=\"299\" y=\"71.1074\">B</text><line style=\"stroke: #383838; stroke-width: 1.5;\" x1=\"256.5\" x2=\"349.5\" y1=\"78.9375\" y2=\"78.9375\"/></a><!--MD5=[270fce915f116d4de14055a7c1d9a0f3]\n",
       "class E5--><a href=\"psysml:735cd89a-e4b2-4dc5-b3d6-41534f400f39\" target=\"_top\" title=\"psysml:735cd89a-e4b2-4dc5-b3d6-41534f400f39\" xlink:actuate=\"onRequest\" xlink:href=\"psysml:735cd89a-e4b2-4dc5-b3d6-41534f400f39\" xlink:show=\"new\" xlink:title=\"psysml:735cd89a-e4b2-4dc5-b3d6-41534f400f39\" xlink:type=\"simple\"><rect fill=\"#FFFFFF\" height=\"45.9375\" id=\"E5\" style=\"stroke: #383838; stroke-width: 1.5;\" width=\"66\" x=\"315\" y=\"155\"/><text fill=\"#000000\" font-family=\"sans-serif\" font-size=\"12\" font-style=\"italic\" lengthAdjust=\"spacingAndGlyphs\" textLength=\"64\" x=\"316\" y=\"171.1387\">«part def»</text><text fill=\"#000000\" font-family=\"sans-serif\" font-size=\"12\" lengthAdjust=\"spacingAndGlyphs\" textLength=\"8\" x=\"344\" y=\"185.1074\">V</text><line style=\"stroke: #383838; stroke-width: 1.5;\" x1=\"316\" x2=\"380\" y1=\"192.9375\" y2=\"192.9375\"/></a><!--MD5=[60a26617385b1d2d0262a64233df1f8d]\n",
       "class E6--><a href=\"psysml:0400016e-70f0-4405-a71c-97e49bd60e65\" target=\"_top\" title=\"psysml:0400016e-70f0-4405-a71c-97e49bd60e65\" xlink:actuate=\"onRequest\" xlink:href=\"psysml:0400016e-70f0-4405-a71c-97e49bd60e65\" xlink:show=\"new\" xlink:title=\"psysml:0400016e-70f0-4405-a71c-97e49bd60e65\" xlink:type=\"simple\"><rect fill=\"#FFFFFF\" height=\"88.3516\" id=\"E6\" rx=\"10\" ry=\"10\" style=\"stroke: #383838; stroke-width: 1.5;\" width=\"63\" x=\"287.5\" y=\"285\"/><text fill=\"#000000\" font-family=\"sans-serif\" font-size=\"12\" font-style=\"italic\" lengthAdjust=\"spacingAndGlyphs\" textLength=\"40\" x=\"299\" y=\"301.1387\">«part»</text><text fill=\"#000000\" font-family=\"sans-serif\" font-size=\"12\" lengthAdjust=\"spacingAndGlyphs\" textLength=\"23\" x=\"307.5\" y=\"315.1074\">x: Q</text><line style=\"stroke: #383838; stroke-width: 1.5;\" x1=\"288.5\" x2=\"349.5\" y1=\"322.9375\" y2=\"322.9375\"/><text fill=\"#000000\" font-family=\"sans-serif\" font-size=\"11\" lengthAdjust=\"spacingAndGlyphs\" textLength=\"23\" x=\"293.5\" y=\"353.9526\">b: B</text><text fill=\"#000000\" font-family=\"sans-serif\" font-size=\"11\" font-style=\"italic\" lengthAdjust=\"spacingAndGlyphs\" textLength=\"44\" x=\"293.5\" y=\"366.7573\">:&gt;&gt;P::a</text><line style=\"stroke: #383838; stroke-width: 1.0;\" x1=\"288.5\" x2=\"291.5\" y1=\"337.3398\" y2=\"337.3398\"/><text fill=\"#000000\" font-family=\"sans-serif\" font-size=\"11\" lengthAdjust=\"spacingAndGlyphs\" textLength=\"55\" x=\"291.5\" y=\"340.6479\">attributes</text><line style=\"stroke: #383838; stroke-width: 1.0;\" x1=\"346.5\" x2=\"349.5\" y1=\"337.3398\" y2=\"337.3398\"/></a><!--MD5=[2156ba9850f5573cc1fc38a6a4b2f02b]\n",
       "class E7--><a href=\"psysml:ac43cc4c-8177-486e-b5a5-e877f62f9bc5\" target=\"_top\" title=\"psysml:ac43cc4c-8177-486e-b5a5-e877f62f9bc5\" xlink:actuate=\"onRequest\" xlink:href=\"psysml:ac43cc4c-8177-486e-b5a5-e877f62f9bc5\" xlink:show=\"new\" xlink:title=\"psysml:ac43cc4c-8177-486e-b5a5-e877f62f9bc5\" xlink:type=\"simple\"><rect fill=\"#FFFFFF\" height=\"45.9375\" id=\"E7\" rx=\"10\" ry=\"10\" style=\"stroke: #383838; stroke-width: 1.5;\" width=\"42\" x=\"149\" y=\"41\"/><text fill=\"#000000\" font-family=\"sans-serif\" font-size=\"12\" font-style=\"italic\" lengthAdjust=\"spacingAndGlyphs\" textLength=\"40\" x=\"150\" y=\"57.1387\">«part»</text><text fill=\"#000000\" font-family=\"sans-serif\" font-size=\"12\" lengthAdjust=\"spacingAndGlyphs\" textLength=\"25\" x=\"157.5\" y=\"71.1074\">q: Q</text><line style=\"stroke: #383838; stroke-width: 1.5;\" x1=\"150\" x2=\"190\" y1=\"78.9375\" y2=\"78.9375\"/></a><!--MD5=[b9389687b975829384b498ac4b7476b2]\n",
       "class E8--><a href=\"psysml:ce952eae-8bb1-4ad0-9f02-4c42d4c1d0c7\" target=\"_top\" title=\"psysml:ce952eae-8bb1-4ad0-9f02-4c42d4c1d0c7\" xlink:actuate=\"onRequest\" xlink:href=\"psysml:ce952eae-8bb1-4ad0-9f02-4c42d4c1d0c7\" xlink:show=\"new\" xlink:title=\"psysml:ce952eae-8bb1-4ad0-9f02-4c42d4c1d0c7\" xlink:type=\"simple\"><rect fill=\"#FFFFFF\" height=\"59.9063\" id=\"E8\" rx=\"10\" ry=\"10\" style=\"stroke: #383838; stroke-width: 1.5;\" width=\"70\" x=\"32\" y=\"148\"/><text fill=\"#000000\" font-family=\"sans-serif\" font-size=\"12\" font-style=\"italic\" lengthAdjust=\"spacingAndGlyphs\" textLength=\"68\" x=\"33\" y=\"164.1387\">«variation»</text><text fill=\"#000000\" font-family=\"sans-serif\" font-size=\"12\" font-style=\"italic\" lengthAdjust=\"spacingAndGlyphs\" textLength=\"40\" x=\"47\" y=\"178.1074\">«part»</text><text fill=\"#000000\" font-family=\"sans-serif\" font-size=\"12\" lengthAdjust=\"spacingAndGlyphs\" textLength=\"22\" x=\"56\" y=\"192.0762\">v: P</text><line style=\"stroke: #383838; stroke-width: 1.5;\" x1=\"33\" x2=\"101\" y1=\"199.9063\" y2=\"199.9063\"/></a><!--MD5=[fd4143e9d270a159db93a4ea2a975926]\n",
       "class E9--><a href=\"psysml:572dfe4e-6d7c-4ba8-94a3-d7ce0272bed9\" target=\"_top\" title=\"psysml:572dfe4e-6d7c-4ba8-94a3-d7ce0272bed9\" xlink:actuate=\"onRequest\" xlink:href=\"psysml:572dfe4e-6d7c-4ba8-94a3-d7ce0272bed9\" xlink:show=\"new\" xlink:title=\"psysml:572dfe4e-6d7c-4ba8-94a3-d7ce0272bed9\" xlink:type=\"simple\"><rect fill=\"#FFFFFF\" height=\"88.3516\" id=\"E9\" rx=\"10\" ry=\"10\" style=\"stroke: #383838; stroke-width: 1.5;\" width=\"77\" x=\"32.5\" y=\"285\"/><text fill=\"#000000\" font-family=\"sans-serif\" font-size=\"12\" font-style=\"italic\" lengthAdjust=\"spacingAndGlyphs\" textLength=\"75\" x=\"33.5\" y=\"301.1387\">«reference»</text><text fill=\"#000000\" font-family=\"sans-serif\" font-size=\"12\" lengthAdjust=\"spacingAndGlyphs\" textLength=\"8\" x=\"67\" y=\"315.1074\">q</text><line style=\"stroke: #383838; stroke-width: 1.5;\" x1=\"33.5\" x2=\"108.5\" y1=\"322.9375\" y2=\"322.9375\"/><text fill=\"#000000\" font-family=\"sans-serif\" font-size=\"11\" lengthAdjust=\"spacingAndGlyphs\" textLength=\"23\" x=\"38.5\" y=\"353.9526\">b: B</text><text fill=\"#000000\" font-family=\"sans-serif\" font-size=\"11\" font-style=\"italic\" lengthAdjust=\"spacingAndGlyphs\" textLength=\"44\" x=\"38.5\" y=\"366.7573\">:&gt;&gt;P::a</text><line style=\"stroke: #383838; stroke-width: 1.0;\" x1=\"33.5\" x2=\"43.5\" y1=\"337.3398\" y2=\"337.3398\"/><text fill=\"#000000\" font-family=\"sans-serif\" font-size=\"11\" lengthAdjust=\"spacingAndGlyphs\" textLength=\"55\" x=\"43.5\" y=\"340.6479\">attributes</text><line style=\"stroke: #383838; stroke-width: 1.0;\" x1=\"98.5\" x2=\"108.5\" y1=\"337.3398\" y2=\"337.3398\"/></a><!--MD5=[96f4274e9e20536e775497830990834d]\n",
       "class E10--><a href=\"psysml:983a8093-9810-4637-96cc-9ee8fb3d9cf5\" target=\"_top\" title=\"psysml:983a8093-9810-4637-96cc-9ee8fb3d9cf5\" xlink:actuate=\"onRequest\" xlink:href=\"psysml:983a8093-9810-4637-96cc-9ee8fb3d9cf5\" xlink:show=\"new\" xlink:title=\"psysml:983a8093-9810-4637-96cc-9ee8fb3d9cf5\" xlink:type=\"simple\"><rect fill=\"#FFFFFF\" height=\"45.9375\" id=\"E10\" rx=\"10\" ry=\"10\" style=\"stroke: #383838; stroke-width: 1.5;\" width=\"42\" x=\"238\" y=\"155\"/><text fill=\"#000000\" font-family=\"sans-serif\" font-size=\"12\" font-style=\"italic\" lengthAdjust=\"spacingAndGlyphs\" textLength=\"40\" x=\"239\" y=\"171.1387\">«part»</text><text fill=\"#000000\" font-family=\"sans-serif\" font-size=\"12\" lengthAdjust=\"spacingAndGlyphs\" textLength=\"22\" x=\"248\" y=\"185.1074\">y: P</text><line style=\"stroke: #383838; stroke-width: 1.5;\" x1=\"239\" x2=\"279\" y1=\"192.9375\" y2=\"192.9375\"/></a><!--MD5=[05d275557350bfb9b23a4ef7222b4c39]\n",
       "link E3 to E2--><a href=\"psysml:9e57242c-9184-4252-9565-bec20c63fdb8\" target=\"_top\" title=\"psysml:9e57242c-9184-4252-9565-bec20c63fdb8\" xlink:actuate=\"onRequest\" xlink:href=\"psysml:9e57242c-9184-4252-9565-bec20c63fdb8\" xlink:show=\"new\" xlink:title=\"psysml:9e57242c-9184-4252-9565-bec20c63fdb8\" xlink:type=\"simple\"><path d=\"M174.34,201.31 C177.92,219.67 183.15,246.54 187.87,270.81 \" fill=\"none\" id=\"E3-&gt;E2\" style=\"stroke: #383838; stroke-width: 1.0;\"/><polygon fill=\"none\" points=\"194.8,269.8,191.75,290.77,181.06,272.47,194.8,269.8\" style=\"stroke: #383838; stroke-width: 1.0;\"/></a><!--MD5=[15ebcb19ae302d9b601edb458606d402]\n",
       "link E5 to E2--><a href=\"psysml:5cdbdbe7-d14c-45c9-a804-61f18115238e\" target=\"_top\" title=\"psysml:5cdbdbe7-d14c-45c9-a804-61f18115238e\" xlink:actuate=\"onRequest\" xlink:href=\"psysml:5cdbdbe7-d14c-45c9-a804-61f18115238e\" xlink:show=\"new\" xlink:title=\"psysml:5cdbdbe7-d14c-45c9-a804-61f18115238e\" xlink:type=\"simple\"><path d=\"M325.69,201.31 C304.9,222.1 273.2,253.8 246.71,280.29 \" fill=\"none\" id=\"E5-&gt;E2\" style=\"stroke: #383838; stroke-width: 1.0;\"/><polygon fill=\"none\" points=\"251.33,285.57,232.24,294.76,241.43,275.67,251.33,285.57\" style=\"stroke: #383838; stroke-width: 1.0;\"/></a><!--MD5=[9120cf2e5df3bff93db8f754bbbc09b4]\n",
       "link E5 to E6--><a href=\"psysml:052c6ce9-d9db-4da6-90c4-ac16555550ac\" target=\"_top\" title=\"psysml:052c6ce9-d9db-4da6-90c4-ac16555550ac\" xlink:actuate=\"onRequest\" xlink:href=\"psysml:052c6ce9-d9db-4da6-90c4-ac16555550ac\" xlink:show=\"new\" xlink:title=\"psysml:052c6ce9-d9db-4da6-90c4-ac16555550ac\" xlink:type=\"simple\"><path d=\"M341.72,211.26 C338.1,229.85 333.47,253.68 329.32,274.95 \" fill=\"none\" id=\"E5-E6\" style=\"stroke: #383838; stroke-width: 1.0;\"/><polygon fill=\"#383838\" points=\"327.4,284.84,331.8761,277.5623,325.987,276.4136,327.4,284.84\" style=\"stroke: #383838; stroke-width: 1.0;\"/><path d=\"M334.7699,202.7122 A9,9 0 0 0 351.3715 205.9503\" fill=\"none\" style=\"stroke: #383838; stroke-width: 1.5;\"/><text fill=\"#000000\" font-family=\"sans-serif\" font-size=\"13\" lengthAdjust=\"spacingAndGlyphs\" textLength=\"60\" x=\"337\" y=\"251.0669\">«variant»</text></a><!--MD5=[14ccda38c055a5c0da953d572bc50960]\n",
       "link E7 to E3--><a href=\"psysml:648145d1-1ec9-42fc-8307-fa8910350658\" target=\"_top\" title=\"psysml:648145d1-1ec9-42fc-8307-fa8910350658\" xlink:actuate=\"onRequest\" xlink:href=\"psysml:648145d1-1ec9-42fc-8307-fa8910350658\" xlink:show=\"new\" xlink:title=\"psysml:648145d1-1ec9-42fc-8307-fa8910350658\" xlink:type=\"simple\"><path d=\"M170,87.13 C170,100.7 170,118.53 170,134.73 \" fill=\"none\" id=\"E7-&gt;E3\" style=\"stroke: #383838; stroke-width: 1.0;\"/><polygon fill=\"#FFFFFF\" points=\"170,154.92,163,135.92,177,135.92,170,154.92\" style=\"stroke: #383838; stroke-width: 1.0;\"/><ellipse cx=\"165\" cy=\"130.22\" fill=\"#383838\" rx=\"2\" ry=\"2\" style=\"stroke: #383838; stroke-width: 1.0;\"/><ellipse cx=\"175\" cy=\"130.22\" fill=\"#383838\" rx=\"2\" ry=\"2\" style=\"stroke: #383838; stroke-width: 1.0;\"/></a><!--MD5=[f1f3f9f2fc535e6147756cb86a7f2e32]\n",
       "link E8 to E2--><a href=\"psysml:19cda0c9-2775-4d9d-8cd8-191c5ad52b34\" target=\"_top\" title=\"psysml:19cda0c9-2775-4d9d-8cd8-191c5ad52b34\" xlink:actuate=\"onRequest\" xlink:href=\"psysml:19cda0c9-2775-4d9d-8cd8-191c5ad52b34\" xlink:show=\"new\" xlink:title=\"psysml:19cda0c9-2775-4d9d-8cd8-191c5ad52b34\" xlink:type=\"simple\"><path d=\"M102.17,204.39 C114.52,214.17 128.04,225.9 139,238 C148.86,248.88 158.29,261.5 166.63,273.79 \" fill=\"none\" id=\"E8-&gt;E2\" style=\"stroke: #383838; stroke-width: 1.0;\"/><polygon fill=\"#FFFFFF\" points=\"177.64,290.73,161.4168,278.6135,173.1555,270.9844,177.64,290.73\" style=\"stroke: #383838; stroke-width: 1.0;\"/><ellipse cx=\"159.9876\" cy=\"272.7443\" fill=\"#383838\" rx=\"2\" ry=\"2\" style=\"stroke: #383838; stroke-width: 1.0;\"/><ellipse cx=\"168.3724\" cy=\"267.2949\" fill=\"#383838\" rx=\"2\" ry=\"2\" style=\"stroke: #383838; stroke-width: 1.0;\"/></a><!--MD5=[ed10624c06dd9a4fa49ccf290e8b16a8]\n",
       "link E8 to E9--><a href=\"psysml:28d39c7a-e0c7-42b0-858e-2cb4e488f108\" target=\"_top\" title=\"psysml:28d39c7a-e0c7-42b0-858e-2cb4e488f108\" xlink:actuate=\"onRequest\" xlink:href=\"psysml:28d39c7a-e0c7-42b0-858e-2cb4e488f108\" xlink:show=\"new\" xlink:title=\"psysml:28d39c7a-e0c7-42b0-858e-2cb4e488f108\" xlink:type=\"simple\"><path d=\"M68.06,218.32 C68.52,235.6 69.07,256.15 69.57,274.77 \" fill=\"none\" id=\"E8-E9\" style=\"stroke: #383838; stroke-width: 1.0;\"/><polygon fill=\"#383838\" points=\"69.84,284.88,72.6331,276.8054,66.6351,276.9599,69.84,284.88\" style=\"stroke: #383838; stroke-width: 1.0;\"/><path d=\"M59.4094,211.3865 A9,9 0 0 0 76.3176 210.9276\" fill=\"none\" style=\"stroke: #383838; stroke-width: 1.5;\"/><text fill=\"#000000\" font-family=\"sans-serif\" font-size=\"13\" lengthAdjust=\"spacingAndGlyphs\" textLength=\"60\" x=\"70\" y=\"251.0669\">«variant»</text></a><!--MD5=[0f36bececdf0dff6e600d6f64214b0f1]\n",
       "link E10 to E2--><a href=\"psysml:8cfcd01d-a74f-43be-a680-d41b6ee6accc\" target=\"_top\" title=\"psysml:8cfcd01d-a74f-43be-a680-d41b6ee6accc\" xlink:actuate=\"onRequest\" xlink:href=\"psysml:8cfcd01d-a74f-43be-a680-d41b6ee6accc\" xlink:show=\"new\" xlink:title=\"psysml:8cfcd01d-a74f-43be-a680-d41b6ee6accc\" xlink:type=\"simple\"><path d=\"M250.02,201.31 C242.51,219.95 231.48,247.35 221.59,271.91 \" fill=\"none\" id=\"E10-&gt;E2\" style=\"stroke: #383838; stroke-width: 1.0;\"/><polygon fill=\"#FFFFFF\" points=\"213.99,290.77,214.5927,270.5305,227.5796,275.7593,213.99,290.77\" style=\"stroke: #383838; stroke-width: 1.0;\"/><ellipse cx=\"218.5768\" cy=\"265.9899\" fill=\"#383838\" rx=\"2\" ry=\"2\" style=\"stroke: #383838; stroke-width: 1.0;\"/><ellipse cx=\"227.8532\" cy=\"269.7248\" fill=\"#383838\" rx=\"2\" ry=\"2\" style=\"stroke: #383838; stroke-width: 1.0;\"/></a><!--MD5=[6016c2f5bca4f415e58011c7236b8165]\n",
       "@startuml\r\n",
       "top to bottom direction\r\n",
       "skinparam monochrome true\r\n",
       "skinparam classbackgroundcolor white\r\n",
       "skinparam shadowing false\r\n",
       "skinparam wrapWidth 300\r\n",
       "hide circle\r\n",
       "\r\n",
       "package \"VariabilityTest\" as E1  [[psysml:c9192910-aa77-45a9-9ae3-16f7deb9d13d ]]  {\r\n",
       "comp def \"P\" as E2  <<(T,blue)part def>> [[psysml:28b4b804-815b-4815-9c5e-e5b09d6ccef7 ]] {\r\n",
       "- - attributes - -\r\n",
       "a\r\n",
       "}\r\n",
       "comp def \"Q\" as E3  <<(T,blue)part def>> [[psysml:3556ece0-f840-441c-8cd2-5d7027a1a805 ]] {\r\n",
       "}\r\n",
       "comp def \"B\" as E4  <<(T,blue)attribute def>> [[psysml:c1ea47d2-f15e-4f05-bf93-ec81669ca641 ]] {\r\n",
       "}\r\n",
       "comp def \"V\" as E5  <<(T,blue)part def>> [[psysml:735cd89a-e4b2-4dc5-b3d6-41534f400f39 ]] {\r\n",
       "}\r\n",
       "comp usage \"x: Q\" as E6  <<(T,blue)part>> [[psysml:0400016e-70f0-4405-a71c-97e49bd60e65 ]] {\r\n",
       "- - attributes - -\r\n",
       "b: B\\n//:>>P::a// \r\n",
       "}\r\n",
       "comp usage \"q: Q\" as E7  <<(T,blue)part>> [[psysml:ac43cc4c-8177-486e-b5a5-e877f62f9bc5 ]] {\r\n",
       "}\r\n",
       "comp usage \"v: P\" as E8  <<variation>>\\n <<(T,blue)part>> [[psysml:ce952eae-8bb1-4ad0-9f02-4c42d4c1d0c7 ]] {\r\n",
       "}\r\n",
       "comp usage \"q\" as E9  <<(T,blue)reference>> [[psysml:572dfe4e-6d7c-4ba8-94a3-d7ce0272bed9 ]] {\r\n",
       "- - attributes - -\r\n",
       "b: B\\n//:>>P::a// \r\n",
       "}\r\n",
       "comp usage \"y: P\" as E10  <<(T,blue)part>> [[psysml:983a8093-9810-4637-96cc-9ee8fb3d9cf5 ]] {\r\n",
       "}\r\n",
       "E3 - -|> E2 [[psysml:9e57242c-9184-4252-9565-bec20c63fdb8 ]] \r\n",
       "E5 - -|> E2 [[psysml:5cdbdbe7-d14c-45c9-a804-61f18115238e ]] \r\n",
       "E5 )- ->> E6 [[psysml:052c6ce9-d9db-4da6-90c4-ac16555550ac ]] : <<variant>>\r\n",
       "E7 - -:|> E3 [[psysml:648145d1-1ec9-42fc-8307-fa8910350658 ]] \r\n",
       "E8 - -:|> E2 [[psysml:19cda0c9-2775-4d9d-8cd8-191c5ad52b34 ]] \r\n",
       "E8 )- ->> E9 [[psysml:28d39c7a-e0c7-42b0-858e-2cb4e488f108 ]] : <<variant>>\r\n",
       "E10 - -:|> E2 [[psysml:8cfcd01d-a74f-43be-a680-d41b6ee6accc ]] \r\n",
       "}\r\n",
       "@enduml\r\n",
       "\n",
       "PlantUML version 1.2020.13(Sat Jun 13 12:26:38 UTC 2020)\n",
       "(EPL source distribution)\n",
       "Java Runtime: OpenJDK Runtime Environment\n",
       "JVM: OpenJDK 64-Bit Server VM\n",
       "Default Encoding: UTF-8\n",
       "Language: en\n",
       "Country: null\n",
       "--></g></svg>"
      ]
     },
     "execution_count": 50,
     "metadata": {},
     "output_type": "execute_result"
    }
   ],
   "source": [
    "%viz --style=\"TB\" --view=\"MIXED\" \"VariabilityTest\""
   ]
  },
  {
   "cell_type": "code",
   "execution_count": 51,
   "id": "dc0dc970",
   "metadata": {
    "execution": {
     "iopub.execute_input": "2021-05-28T10:47:58.749953Z",
     "iopub.status.busy": "2021-05-28T10:47:58.744587Z",
     "iopub.status.idle": "2021-05-28T10:47:58.814949Z",
     "shell.execute_reply": "2021-05-28T10:47:58.812942Z"
    }
   },
   "outputs": [
    {
     "data": {
      "image/svg+xml": [
       "<?xml version=\"1.0\" encoding=\"UTF-8\" standalone=\"no\"?><svg xmlns=\"http://www.w3.org/2000/svg\" xmlns:xlink=\"http://www.w3.org/1999/xlink\" contentScriptType=\"application/ecmascript\" contentStyleType=\"text/css\" height=\"401px\" preserveAspectRatio=\"none\" style=\"width:419px;height:401px;\" version=\"1.1\" viewBox=\"0 0 419 401\" width=\"419px\" zoomAndPan=\"magnify\"><defs/><g><!--MD5=[fbc87193dbaf4d95561dea2c320d4a47]\n",
       "cluster E1--><a href=\"psysml:c9192910-aa77-45a9-9ae3-16f7deb9d13d\" target=\"_top\" title=\"psysml:c9192910-aa77-45a9-9ae3-16f7deb9d13d\" xlink:actuate=\"onRequest\" xlink:href=\"psysml:c9192910-aa77-45a9-9ae3-16f7deb9d13d\" xlink:show=\"new\" xlink:title=\"psysml:c9192910-aa77-45a9-9ae3-16f7deb9d13d\" xlink:type=\"simple\"><polygon fill=\"#FFFFFF\" points=\"16,6,134,6,141,28.2969,397,28.2969,397,389,16,389,16,6\" style=\"stroke: #000000; stroke-width: 1.5;\"/><line style=\"stroke: #000000; stroke-width: 1.5;\" x1=\"16\" x2=\"141\" y1=\"28.2969\" y2=\"28.2969\"/><text fill=\"#000000\" font-family=\"sans-serif\" font-size=\"14\" font-weight=\"bold\" lengthAdjust=\"spacingAndGlyphs\" textLength=\"112\" x=\"20\" y=\"20.9951\">VariabilityTest</text></a><!--MD5=[b4997ac47864f28c2f74865a473b2911]\n",
       "class E2--><a href=\"psysml:28b4b804-815b-4815-9c5e-e5b09d6ccef7\" target=\"_top\" title=\"psysml:28b4b804-815b-4815-9c5e-e5b09d6ccef7\" xlink:actuate=\"onRequest\" xlink:href=\"psysml:28b4b804-815b-4815-9c5e-e5b09d6ccef7\" xlink:show=\"new\" xlink:title=\"psysml:28b4b804-815b-4815-9c5e-e5b09d6ccef7\" xlink:type=\"simple\"><rect fill=\"#FFFFFF\" height=\"75.5469\" id=\"E2\" style=\"stroke: #383838; stroke-width: 1.5;\" width=\"66\" x=\"166\" y=\"291\"/><text fill=\"#000000\" font-family=\"sans-serif\" font-size=\"12\" font-style=\"italic\" lengthAdjust=\"spacingAndGlyphs\" textLength=\"64\" x=\"167\" y=\"307.1387\">«part def»</text><text fill=\"#000000\" font-family=\"sans-serif\" font-size=\"12\" lengthAdjust=\"spacingAndGlyphs\" textLength=\"8\" x=\"195\" y=\"321.1074\">P</text><line style=\"stroke: #383838; stroke-width: 1.5;\" x1=\"167\" x2=\"231\" y1=\"328.9375\" y2=\"328.9375\"/><text fill=\"#000000\" font-family=\"sans-serif\" font-size=\"11\" lengthAdjust=\"spacingAndGlyphs\" textLength=\"7\" x=\"172\" y=\"359.9526\">a</text><line style=\"stroke: #383838; stroke-width: 1.0;\" x1=\"167\" x2=\"171.5\" y1=\"343.3398\" y2=\"343.3398\"/><text fill=\"#000000\" font-family=\"sans-serif\" font-size=\"11\" lengthAdjust=\"spacingAndGlyphs\" textLength=\"55\" x=\"171.5\" y=\"346.6479\">attributes</text><line style=\"stroke: #383838; stroke-width: 1.0;\" x1=\"226.5\" x2=\"231\" y1=\"343.3398\" y2=\"343.3398\"/></a><!--MD5=[09b614a08d8cba4a07c9adeb5e0fee81]\n",
       "class E3--><a href=\"psysml:3556ece0-f840-441c-8cd2-5d7027a1a805\" target=\"_top\" title=\"psysml:3556ece0-f840-441c-8cd2-5d7027a1a805\" xlink:actuate=\"onRequest\" xlink:href=\"psysml:3556ece0-f840-441c-8cd2-5d7027a1a805\" xlink:show=\"new\" xlink:title=\"psysml:3556ece0-f840-441c-8cd2-5d7027a1a805\" xlink:type=\"simple\"><rect fill=\"#FFFFFF\" height=\"45.9375\" id=\"E3\" style=\"stroke: #383838; stroke-width: 1.5;\" width=\"66\" x=\"137\" y=\"155\"/><text fill=\"#000000\" font-family=\"sans-serif\" font-size=\"12\" font-style=\"italic\" lengthAdjust=\"spacingAndGlyphs\" textLength=\"64\" x=\"138\" y=\"171.1387\">«part def»</text><text fill=\"#000000\" font-family=\"sans-serif\" font-size=\"12\" lengthAdjust=\"spacingAndGlyphs\" textLength=\"9\" x=\"165.5\" y=\"185.1074\">Q</text><line style=\"stroke: #383838; stroke-width: 1.5;\" x1=\"138\" x2=\"202\" y1=\"192.9375\" y2=\"192.9375\"/></a><!--MD5=[ebbe1d658d1005bcc118a6aa81145e00]\n",
       "class E4--><a href=\"psysml:c1ea47d2-f15e-4f05-bf93-ec81669ca641\" target=\"_top\" title=\"psysml:c1ea47d2-f15e-4f05-bf93-ec81669ca641\" xlink:actuate=\"onRequest\" xlink:href=\"psysml:c1ea47d2-f15e-4f05-bf93-ec81669ca641\" xlink:show=\"new\" xlink:title=\"psysml:c1ea47d2-f15e-4f05-bf93-ec81669ca641\" xlink:type=\"simple\"><rect fill=\"#FFFFFF\" height=\"45.9375\" id=\"E4\" style=\"stroke: #383838; stroke-width: 1.5;\" width=\"95\" x=\"255.5\" y=\"41\"/><text fill=\"#000000\" font-family=\"sans-serif\" font-size=\"12\" font-style=\"italic\" lengthAdjust=\"spacingAndGlyphs\" textLength=\"93\" x=\"256.5\" y=\"57.1387\">«attribute def»</text><text fill=\"#000000\" font-family=\"sans-serif\" font-size=\"12\" lengthAdjust=\"spacingAndGlyphs\" textLength=\"8\" x=\"299\" y=\"71.1074\">B</text><line style=\"stroke: #383838; stroke-width: 1.5;\" x1=\"256.5\" x2=\"349.5\" y1=\"78.9375\" y2=\"78.9375\"/></a><!--MD5=[270fce915f116d4de14055a7c1d9a0f3]\n",
       "class E5--><a href=\"psysml:735cd89a-e4b2-4dc5-b3d6-41534f400f39\" target=\"_top\" title=\"psysml:735cd89a-e4b2-4dc5-b3d6-41534f400f39\" xlink:actuate=\"onRequest\" xlink:href=\"psysml:735cd89a-e4b2-4dc5-b3d6-41534f400f39\" xlink:show=\"new\" xlink:title=\"psysml:735cd89a-e4b2-4dc5-b3d6-41534f400f39\" xlink:type=\"simple\"><rect fill=\"#FFFFFF\" height=\"45.9375\" id=\"E5\" style=\"stroke: #383838; stroke-width: 1.5;\" width=\"66\" x=\"315\" y=\"155\"/><text fill=\"#000000\" font-family=\"sans-serif\" font-size=\"12\" font-style=\"italic\" lengthAdjust=\"spacingAndGlyphs\" textLength=\"64\" x=\"316\" y=\"171.1387\">«part def»</text><text fill=\"#000000\" font-family=\"sans-serif\" font-size=\"12\" lengthAdjust=\"spacingAndGlyphs\" textLength=\"8\" x=\"344\" y=\"185.1074\">V</text><line style=\"stroke: #383838; stroke-width: 1.5;\" x1=\"316\" x2=\"380\" y1=\"192.9375\" y2=\"192.9375\"/></a><!--MD5=[60a26617385b1d2d0262a64233df1f8d]\n",
       "class E6--><a href=\"psysml:0400016e-70f0-4405-a71c-97e49bd60e65\" target=\"_top\" title=\"psysml:0400016e-70f0-4405-a71c-97e49bd60e65\" xlink:actuate=\"onRequest\" xlink:href=\"psysml:0400016e-70f0-4405-a71c-97e49bd60e65\" xlink:show=\"new\" xlink:title=\"psysml:0400016e-70f0-4405-a71c-97e49bd60e65\" xlink:type=\"simple\"><rect fill=\"#FFFFFF\" height=\"88.3516\" id=\"E6\" rx=\"10\" ry=\"10\" style=\"stroke: #383838; stroke-width: 1.5;\" width=\"63\" x=\"287.5\" y=\"285\"/><text fill=\"#000000\" font-family=\"sans-serif\" font-size=\"12\" font-style=\"italic\" lengthAdjust=\"spacingAndGlyphs\" textLength=\"40\" x=\"299\" y=\"301.1387\">«part»</text><text fill=\"#000000\" font-family=\"sans-serif\" font-size=\"12\" lengthAdjust=\"spacingAndGlyphs\" textLength=\"23\" x=\"307.5\" y=\"315.1074\">x: Q</text><line style=\"stroke: #383838; stroke-width: 1.5;\" x1=\"288.5\" x2=\"349.5\" y1=\"322.9375\" y2=\"322.9375\"/><text fill=\"#000000\" font-family=\"sans-serif\" font-size=\"11\" lengthAdjust=\"spacingAndGlyphs\" textLength=\"23\" x=\"293.5\" y=\"353.9526\">b: B</text><text fill=\"#000000\" font-family=\"sans-serif\" font-size=\"11\" font-style=\"italic\" lengthAdjust=\"spacingAndGlyphs\" textLength=\"44\" x=\"293.5\" y=\"366.7573\">:&gt;&gt;P::a</text><line style=\"stroke: #383838; stroke-width: 1.0;\" x1=\"288.5\" x2=\"291.5\" y1=\"337.3398\" y2=\"337.3398\"/><text fill=\"#000000\" font-family=\"sans-serif\" font-size=\"11\" lengthAdjust=\"spacingAndGlyphs\" textLength=\"55\" x=\"291.5\" y=\"340.6479\">attributes</text><line style=\"stroke: #383838; stroke-width: 1.0;\" x1=\"346.5\" x2=\"349.5\" y1=\"337.3398\" y2=\"337.3398\"/></a><!--MD5=[2156ba9850f5573cc1fc38a6a4b2f02b]\n",
       "class E7--><a href=\"psysml:ac43cc4c-8177-486e-b5a5-e877f62f9bc5\" target=\"_top\" title=\"psysml:ac43cc4c-8177-486e-b5a5-e877f62f9bc5\" xlink:actuate=\"onRequest\" xlink:href=\"psysml:ac43cc4c-8177-486e-b5a5-e877f62f9bc5\" xlink:show=\"new\" xlink:title=\"psysml:ac43cc4c-8177-486e-b5a5-e877f62f9bc5\" xlink:type=\"simple\"><rect fill=\"#FFFFFF\" height=\"45.9375\" id=\"E7\" rx=\"10\" ry=\"10\" style=\"stroke: #383838; stroke-width: 1.5;\" width=\"42\" x=\"149\" y=\"41\"/><text fill=\"#000000\" font-family=\"sans-serif\" font-size=\"12\" font-style=\"italic\" lengthAdjust=\"spacingAndGlyphs\" textLength=\"40\" x=\"150\" y=\"57.1387\">«part»</text><text fill=\"#000000\" font-family=\"sans-serif\" font-size=\"12\" lengthAdjust=\"spacingAndGlyphs\" textLength=\"25\" x=\"157.5\" y=\"71.1074\">q: Q</text><line style=\"stroke: #383838; stroke-width: 1.5;\" x1=\"150\" x2=\"190\" y1=\"78.9375\" y2=\"78.9375\"/></a><!--MD5=[b9389687b975829384b498ac4b7476b2]\n",
       "class E8--><a href=\"psysml:ce952eae-8bb1-4ad0-9f02-4c42d4c1d0c7\" target=\"_top\" title=\"psysml:ce952eae-8bb1-4ad0-9f02-4c42d4c1d0c7\" xlink:actuate=\"onRequest\" xlink:href=\"psysml:ce952eae-8bb1-4ad0-9f02-4c42d4c1d0c7\" xlink:show=\"new\" xlink:title=\"psysml:ce952eae-8bb1-4ad0-9f02-4c42d4c1d0c7\" xlink:type=\"simple\"><rect fill=\"#FFFFFF\" height=\"59.9063\" id=\"E8\" rx=\"10\" ry=\"10\" style=\"stroke: #383838; stroke-width: 1.5;\" width=\"70\" x=\"32\" y=\"148\"/><text fill=\"#000000\" font-family=\"sans-serif\" font-size=\"12\" font-style=\"italic\" lengthAdjust=\"spacingAndGlyphs\" textLength=\"68\" x=\"33\" y=\"164.1387\">«variation»</text><text fill=\"#000000\" font-family=\"sans-serif\" font-size=\"12\" font-style=\"italic\" lengthAdjust=\"spacingAndGlyphs\" textLength=\"40\" x=\"47\" y=\"178.1074\">«part»</text><text fill=\"#000000\" font-family=\"sans-serif\" font-size=\"12\" lengthAdjust=\"spacingAndGlyphs\" textLength=\"22\" x=\"56\" y=\"192.0762\">v: P</text><line style=\"stroke: #383838; stroke-width: 1.5;\" x1=\"33\" x2=\"101\" y1=\"199.9063\" y2=\"199.9063\"/></a><!--MD5=[fd4143e9d270a159db93a4ea2a975926]\n",
       "class E9--><a href=\"psysml:572dfe4e-6d7c-4ba8-94a3-d7ce0272bed9\" target=\"_top\" title=\"psysml:572dfe4e-6d7c-4ba8-94a3-d7ce0272bed9\" xlink:actuate=\"onRequest\" xlink:href=\"psysml:572dfe4e-6d7c-4ba8-94a3-d7ce0272bed9\" xlink:show=\"new\" xlink:title=\"psysml:572dfe4e-6d7c-4ba8-94a3-d7ce0272bed9\" xlink:type=\"simple\"><rect fill=\"#FFFFFF\" height=\"88.3516\" id=\"E9\" rx=\"10\" ry=\"10\" style=\"stroke: #383838; stroke-width: 1.5;\" width=\"77\" x=\"32.5\" y=\"285\"/><text fill=\"#000000\" font-family=\"sans-serif\" font-size=\"12\" font-style=\"italic\" lengthAdjust=\"spacingAndGlyphs\" textLength=\"75\" x=\"33.5\" y=\"301.1387\">«reference»</text><text fill=\"#000000\" font-family=\"sans-serif\" font-size=\"12\" lengthAdjust=\"spacingAndGlyphs\" textLength=\"8\" x=\"67\" y=\"315.1074\">q</text><line style=\"stroke: #383838; stroke-width: 1.5;\" x1=\"33.5\" x2=\"108.5\" y1=\"322.9375\" y2=\"322.9375\"/><text fill=\"#000000\" font-family=\"sans-serif\" font-size=\"11\" lengthAdjust=\"spacingAndGlyphs\" textLength=\"23\" x=\"38.5\" y=\"353.9526\">b: B</text><text fill=\"#000000\" font-family=\"sans-serif\" font-size=\"11\" font-style=\"italic\" lengthAdjust=\"spacingAndGlyphs\" textLength=\"44\" x=\"38.5\" y=\"366.7573\">:&gt;&gt;P::a</text><line style=\"stroke: #383838; stroke-width: 1.0;\" x1=\"33.5\" x2=\"43.5\" y1=\"337.3398\" y2=\"337.3398\"/><text fill=\"#000000\" font-family=\"sans-serif\" font-size=\"11\" lengthAdjust=\"spacingAndGlyphs\" textLength=\"55\" x=\"43.5\" y=\"340.6479\">attributes</text><line style=\"stroke: #383838; stroke-width: 1.0;\" x1=\"98.5\" x2=\"108.5\" y1=\"337.3398\" y2=\"337.3398\"/></a><!--MD5=[96f4274e9e20536e775497830990834d]\n",
       "class E10--><a href=\"psysml:983a8093-9810-4637-96cc-9ee8fb3d9cf5\" target=\"_top\" title=\"psysml:983a8093-9810-4637-96cc-9ee8fb3d9cf5\" xlink:actuate=\"onRequest\" xlink:href=\"psysml:983a8093-9810-4637-96cc-9ee8fb3d9cf5\" xlink:show=\"new\" xlink:title=\"psysml:983a8093-9810-4637-96cc-9ee8fb3d9cf5\" xlink:type=\"simple\"><rect fill=\"#FFFFFF\" height=\"45.9375\" id=\"E10\" rx=\"10\" ry=\"10\" style=\"stroke: #383838; stroke-width: 1.5;\" width=\"42\" x=\"238\" y=\"155\"/><text fill=\"#000000\" font-family=\"sans-serif\" font-size=\"12\" font-style=\"italic\" lengthAdjust=\"spacingAndGlyphs\" textLength=\"40\" x=\"239\" y=\"171.1387\">«part»</text><text fill=\"#000000\" font-family=\"sans-serif\" font-size=\"12\" lengthAdjust=\"spacingAndGlyphs\" textLength=\"22\" x=\"248\" y=\"185.1074\">y: P</text><line style=\"stroke: #383838; stroke-width: 1.5;\" x1=\"239\" x2=\"279\" y1=\"192.9375\" y2=\"192.9375\"/></a><!--MD5=[05d275557350bfb9b23a4ef7222b4c39]\n",
       "link E3 to E2--><a href=\"psysml:9e57242c-9184-4252-9565-bec20c63fdb8\" target=\"_top\" title=\"psysml:9e57242c-9184-4252-9565-bec20c63fdb8\" xlink:actuate=\"onRequest\" xlink:href=\"psysml:9e57242c-9184-4252-9565-bec20c63fdb8\" xlink:show=\"new\" xlink:title=\"psysml:9e57242c-9184-4252-9565-bec20c63fdb8\" xlink:type=\"simple\"><path d=\"M190.67,201.26 C190.67,201.26 190.67,270.73 190.67,270.73 \" fill=\"none\" id=\"E3-&gt;E2\" style=\"stroke: #383838; stroke-width: 1.0;\"/><polygon fill=\"none\" points=\"197.67,270.73,190.67,290.73,183.67,270.73,197.67,270.73\" style=\"stroke: #383838; stroke-width: 1.0;\"/></a><!--MD5=[15ebcb19ae302d9b601edb458606d402]\n",
       "link E5 to E2--><a href=\"psysml:5cdbdbe7-d14c-45c9-a804-61f18115238e\" target=\"_top\" title=\"psysml:5cdbdbe7-d14c-45c9-a804-61f18115238e\" xlink:actuate=\"onRequest\" xlink:href=\"psysml:5cdbdbe7-d14c-45c9-a804-61f18115238e\" xlink:show=\"new\" xlink:title=\"psysml:5cdbdbe7-d14c-45c9-a804-61f18115238e\" xlink:type=\"simple\"><path d=\"M326.83,201.22 C326.83,202.93 326.83,204 326.83,204 C326.83,204 222.33,204 222.33,204 C222.33,204 222.33,270.82 222.33,270.82 \" fill=\"none\" id=\"E5-&gt;E2\" style=\"stroke: #383838; stroke-width: 1.0;\"/><polygon fill=\"none\" points=\"229.33,270.82,222.33,290.82,215.33,270.82,229.33,270.82\" style=\"stroke: #383838; stroke-width: 1.0;\"/></a><!--MD5=[9120cf2e5df3bff93db8f754bbbc09b4]\n",
       "link E5 to E6--><a href=\"psysml:052c6ce9-d9db-4da6-90c4-ac16555550ac\" target=\"_top\" title=\"psysml:052c6ce9-d9db-4da6-90c4-ac16555550ac\" xlink:actuate=\"onRequest\" xlink:href=\"psysml:052c6ce9-d9db-4da6-90c4-ac16555550ac\" xlink:show=\"new\" xlink:title=\"psysml:052c6ce9-d9db-4da6-90c4-ac16555550ac\" xlink:type=\"simple\"><path d=\"M338.67,211.26 C338.67,211.26 338.67,274.72 338.67,274.72 \" fill=\"none\" id=\"E5-E6\" style=\"stroke: #383838; stroke-width: 1.0;\"/><polygon fill=\"#383838\" points=\"338.67,284.72,341.67,276.72,335.67,276.72,338.67,284.72\" style=\"stroke: #383838; stroke-width: 1.0;\"/><path d=\"M330.2128,204.3382 A9,9 0 0 0 347.1272 204.3382\" fill=\"none\" style=\"stroke: #383838; stroke-width: 1.5;\"/><text fill=\"#000000\" font-family=\"sans-serif\" font-size=\"13\" lengthAdjust=\"spacingAndGlyphs\" textLength=\"60\" x=\"320\" y=\"251.0669\">«variant»</text></a><!--MD5=[14ccda38c055a5c0da953d572bc50960]\n",
       "link E7 to E3--><a href=\"psysml:648145d1-1ec9-42fc-8307-fa8910350658\" target=\"_top\" title=\"psysml:648145d1-1ec9-42fc-8307-fa8910350658\" xlink:actuate=\"onRequest\" xlink:href=\"psysml:648145d1-1ec9-42fc-8307-fa8910350658\" xlink:show=\"new\" xlink:title=\"psysml:648145d1-1ec9-42fc-8307-fa8910350658\" xlink:type=\"simple\"><path d=\"M170,87.07 C170,87.07 170,134.96 170,134.96 \" fill=\"none\" id=\"E7-&gt;E3\" style=\"stroke: #383838; stroke-width: 1.0;\"/><polygon fill=\"#FFFFFF\" points=\"170,154.96,163,135.96,177,135.96,170,154.96\" style=\"stroke: #383838; stroke-width: 1.0;\"/><ellipse cx=\"165\" cy=\"130.26\" fill=\"#383838\" rx=\"2\" ry=\"2\" style=\"stroke: #383838; stroke-width: 1.0;\"/><ellipse cx=\"175\" cy=\"130.26\" fill=\"#383838\" rx=\"2\" ry=\"2\" style=\"stroke: #383838; stroke-width: 1.0;\"/></a><!--MD5=[f1f3f9f2fc535e6147756cb86a7f2e32]\n",
       "link E8 to E2--><a href=\"psysml:19cda0c9-2775-4d9d-8cd8-191c5ad52b34\" target=\"_top\" title=\"psysml:19cda0c9-2775-4d9d-8cd8-191c5ad52b34\" xlink:actuate=\"onRequest\" xlink:href=\"psysml:19cda0c9-2775-4d9d-8cd8-191c5ad52b34\" xlink:show=\"new\" xlink:title=\"psysml:19cda0c9-2775-4d9d-8cd8-191c5ad52b34\" xlink:type=\"simple\"><path d=\"M102.23,206 C134.84,206 178.33,206 178.33,206 C178.33,206 178.33,270.76 178.33,270.76 \" fill=\"none\" id=\"E8-&gt;E2\" style=\"stroke: #383838; stroke-width: 1.0;\"/><polygon fill=\"#FFFFFF\" points=\"178.33,290.76,171.33,271.76,185.33,271.76,178.33,290.76\" style=\"stroke: #383838; stroke-width: 1.0;\"/><ellipse cx=\"173.33\" cy=\"266.06\" fill=\"#383838\" rx=\"2\" ry=\"2\" style=\"stroke: #383838; stroke-width: 1.0;\"/><ellipse cx=\"183.33\" cy=\"266.06\" fill=\"#383838\" rx=\"2\" ry=\"2\" style=\"stroke: #383838; stroke-width: 1.0;\"/></a><!--MD5=[ed10624c06dd9a4fa49ccf290e8b16a8]\n",
       "link E8 to E9--><a href=\"psysml:28d39c7a-e0c7-42b0-858e-2cb4e488f108\" target=\"_top\" title=\"psysml:28d39c7a-e0c7-42b0-858e-2cb4e488f108\" xlink:actuate=\"onRequest\" xlink:href=\"psysml:28d39c7a-e0c7-42b0-858e-2cb4e488f108\" xlink:show=\"new\" xlink:title=\"psysml:28d39c7a-e0c7-42b0-858e-2cb4e488f108\" xlink:type=\"simple\"><path d=\"M67.25,218.19 C67.25,218.19 67.25,274.83 67.25,274.83 \" fill=\"none\" id=\"E8-E9\" style=\"stroke: #383838; stroke-width: 1.0;\"/><polygon fill=\"#383838\" points=\"67.25,284.83,70.25,276.83,64.25,276.83,67.25,284.83\" style=\"stroke: #383838; stroke-width: 1.0;\"/><path d=\"M58.7928,211.2682 A9,9 0 0 0 75.7072 211.2682\" fill=\"none\" style=\"stroke: #383838; stroke-width: 1.5;\"/><text fill=\"#000000\" font-family=\"sans-serif\" font-size=\"13\" lengthAdjust=\"spacingAndGlyphs\" textLength=\"60\" x=\"70\" y=\"251.0669\">«variant»</text></a><!--MD5=[0f36bececdf0dff6e600d6f64214b0f1]\n",
       "link E10 to E2--><a href=\"psysml:8cfcd01d-a74f-43be-a680-d41b6ee6accc\" target=\"_top\" title=\"psysml:8cfcd01d-a74f-43be-a680-d41b6ee6accc\" xlink:actuate=\"onRequest\" xlink:href=\"psysml:8cfcd01d-a74f-43be-a680-d41b6ee6accc\" xlink:show=\"new\" xlink:title=\"psysml:8cfcd01d-a74f-43be-a680-d41b6ee6accc\" xlink:type=\"simple\"><path d=\"M237.73,178 C225.55,178 212.67,178 212.67,178 C212.67,178 212.67,270.9 212.67,270.9 \" fill=\"none\" id=\"E10-&gt;E2\" style=\"stroke: #383838; stroke-width: 1.0;\"/><polygon fill=\"#FFFFFF\" points=\"212.67,290.9,205.67,271.9,219.67,271.9,212.67,290.9\" style=\"stroke: #383838; stroke-width: 1.0;\"/><ellipse cx=\"207.67\" cy=\"266.2\" fill=\"#383838\" rx=\"2\" ry=\"2\" style=\"stroke: #383838; stroke-width: 1.0;\"/><ellipse cx=\"217.67\" cy=\"266.2\" fill=\"#383838\" rx=\"2\" ry=\"2\" style=\"stroke: #383838; stroke-width: 1.0;\"/></a><!--MD5=[46218fe3e9492150d64e01de84eb0b6a]\n",
       "@startuml\r\n",
       "skinparam linetype ortho\r\n",
       "skinparam monochrome true\r\n",
       "skinparam classbackgroundcolor white\r\n",
       "skinparam shadowing false\r\n",
       "skinparam wrapWidth 300\r\n",
       "hide circle\r\n",
       "\r\n",
       "package \"VariabilityTest\" as E1  [[psysml:c9192910-aa77-45a9-9ae3-16f7deb9d13d ]]  {\r\n",
       "comp def \"P\" as E2  <<(T,blue)part def>> [[psysml:28b4b804-815b-4815-9c5e-e5b09d6ccef7 ]] {\r\n",
       "- - attributes - -\r\n",
       "a\r\n",
       "}\r\n",
       "comp def \"Q\" as E3  <<(T,blue)part def>> [[psysml:3556ece0-f840-441c-8cd2-5d7027a1a805 ]] {\r\n",
       "}\r\n",
       "comp def \"B\" as E4  <<(T,blue)attribute def>> [[psysml:c1ea47d2-f15e-4f05-bf93-ec81669ca641 ]] {\r\n",
       "}\r\n",
       "comp def \"V\" as E5  <<(T,blue)part def>> [[psysml:735cd89a-e4b2-4dc5-b3d6-41534f400f39 ]] {\r\n",
       "}\r\n",
       "comp usage \"x: Q\" as E6  <<(T,blue)part>> [[psysml:0400016e-70f0-4405-a71c-97e49bd60e65 ]] {\r\n",
       "- - attributes - -\r\n",
       "b: B\\n//:>>P::a// \r\n",
       "}\r\n",
       "comp usage \"q: Q\" as E7  <<(T,blue)part>> [[psysml:ac43cc4c-8177-486e-b5a5-e877f62f9bc5 ]] {\r\n",
       "}\r\n",
       "comp usage \"v: P\" as E8  <<variation>>\\n <<(T,blue)part>> [[psysml:ce952eae-8bb1-4ad0-9f02-4c42d4c1d0c7 ]] {\r\n",
       "}\r\n",
       "comp usage \"q\" as E9  <<(T,blue)reference>> [[psysml:572dfe4e-6d7c-4ba8-94a3-d7ce0272bed9 ]] {\r\n",
       "- - attributes - -\r\n",
       "b: B\\n//:>>P::a// \r\n",
       "}\r\n",
       "comp usage \"y: P\" as E10  <<(T,blue)part>> [[psysml:983a8093-9810-4637-96cc-9ee8fb3d9cf5 ]] {\r\n",
       "}\r\n",
       "E3 - -|> E2 [[psysml:9e57242c-9184-4252-9565-bec20c63fdb8 ]] \r\n",
       "E5 - -|> E2 [[psysml:5cdbdbe7-d14c-45c9-a804-61f18115238e ]] \r\n",
       "E5 )- ->> E6 [[psysml:052c6ce9-d9db-4da6-90c4-ac16555550ac ]] : <<variant>>\r\n",
       "E7 - -:|> E3 [[psysml:648145d1-1ec9-42fc-8307-fa8910350658 ]] \r\n",
       "E8 - -:|> E2 [[psysml:19cda0c9-2775-4d9d-8cd8-191c5ad52b34 ]] \r\n",
       "E8 )- ->> E9 [[psysml:28d39c7a-e0c7-42b0-858e-2cb4e488f108 ]] : <<variant>>\r\n",
       "E10 - -:|> E2 [[psysml:8cfcd01d-a74f-43be-a680-d41b6ee6accc ]] \r\n",
       "}\r\n",
       "@enduml\r\n",
       "\n",
       "PlantUML version 1.2020.13(Sat Jun 13 12:26:38 UTC 2020)\n",
       "(EPL source distribution)\n",
       "Java Runtime: OpenJDK Runtime Environment\n",
       "JVM: OpenJDK 64-Bit Server VM\n",
       "Default Encoding: UTF-8\n",
       "Language: en\n",
       "Country: null\n",
       "--></g></svg>"
      ]
     },
     "execution_count": 51,
     "metadata": {},
     "output_type": "execute_result"
    }
   ],
   "source": [
    "%viz --style=\"ORTHOLINE\" --view=\"Default\" \"VariabilityTest\""
   ]
  },
  {
   "cell_type": "code",
   "execution_count": 52,
   "id": "ea6a6794",
   "metadata": {
    "execution": {
     "iopub.execute_input": "2021-05-28T10:47:58.866493Z",
     "iopub.status.busy": "2021-05-28T10:47:58.866046Z",
     "iopub.status.idle": "2021-05-28T10:47:58.928415Z",
     "shell.execute_reply": "2021-05-28T10:47:58.926930Z"
    }
   },
   "outputs": [
    {
     "data": {
      "image/svg+xml": [
       "<?xml version=\"1.0\" encoding=\"UTF-8\" standalone=\"no\"?><svg xmlns=\"http://www.w3.org/2000/svg\" xmlns:xlink=\"http://www.w3.org/1999/xlink\" contentScriptType=\"application/ecmascript\" contentStyleType=\"text/css\" height=\"401px\" preserveAspectRatio=\"none\" style=\"width:419px;height:401px;\" version=\"1.1\" viewBox=\"0 0 419 401\" width=\"419px\" zoomAndPan=\"magnify\"><defs/><g><!--MD5=[fbc87193dbaf4d95561dea2c320d4a47]\n",
       "cluster E1--><a href=\"psysml:c9192910-aa77-45a9-9ae3-16f7deb9d13d\" target=\"_top\" title=\"psysml:c9192910-aa77-45a9-9ae3-16f7deb9d13d\" xlink:actuate=\"onRequest\" xlink:href=\"psysml:c9192910-aa77-45a9-9ae3-16f7deb9d13d\" xlink:show=\"new\" xlink:title=\"psysml:c9192910-aa77-45a9-9ae3-16f7deb9d13d\" xlink:type=\"simple\"><polygon fill=\"#FFFFFF\" points=\"16,6,134,6,141,28.2969,397,28.2969,397,389,16,389,16,6\" style=\"stroke: #000000; stroke-width: 1.5;\"/><line style=\"stroke: #000000; stroke-width: 1.5;\" x1=\"16\" x2=\"141\" y1=\"28.2969\" y2=\"28.2969\"/><text fill=\"#000000\" font-family=\"sans-serif\" font-size=\"14\" font-weight=\"bold\" lengthAdjust=\"spacingAndGlyphs\" textLength=\"112\" x=\"20\" y=\"20.9951\">VariabilityTest</text></a><!--MD5=[b4997ac47864f28c2f74865a473b2911]\n",
       "class E2--><a href=\"psysml:28b4b804-815b-4815-9c5e-e5b09d6ccef7\" target=\"_top\" title=\"psysml:28b4b804-815b-4815-9c5e-e5b09d6ccef7\" xlink:actuate=\"onRequest\" xlink:href=\"psysml:28b4b804-815b-4815-9c5e-e5b09d6ccef7\" xlink:show=\"new\" xlink:title=\"psysml:28b4b804-815b-4815-9c5e-e5b09d6ccef7\" xlink:type=\"simple\"><rect fill=\"#FFFFFF\" height=\"75.5469\" id=\"E2\" style=\"stroke: #383838; stroke-width: 1.5;\" width=\"66\" x=\"166\" y=\"291\"/><text fill=\"#000000\" font-family=\"sans-serif\" font-size=\"12\" font-style=\"italic\" lengthAdjust=\"spacingAndGlyphs\" textLength=\"64\" x=\"167\" y=\"307.1387\">«part def»</text><text fill=\"#000000\" font-family=\"sans-serif\" font-size=\"12\" lengthAdjust=\"spacingAndGlyphs\" textLength=\"8\" x=\"195\" y=\"321.1074\">P</text><line style=\"stroke: #383838; stroke-width: 1.5;\" x1=\"167\" x2=\"231\" y1=\"328.9375\" y2=\"328.9375\"/><text fill=\"#000000\" font-family=\"sans-serif\" font-size=\"11\" lengthAdjust=\"spacingAndGlyphs\" textLength=\"7\" x=\"172\" y=\"359.9526\">a</text><line style=\"stroke: #383838; stroke-width: 1.0;\" x1=\"167\" x2=\"171.5\" y1=\"343.3398\" y2=\"343.3398\"/><text fill=\"#000000\" font-family=\"sans-serif\" font-size=\"11\" lengthAdjust=\"spacingAndGlyphs\" textLength=\"55\" x=\"171.5\" y=\"346.6479\">attributes</text><line style=\"stroke: #383838; stroke-width: 1.0;\" x1=\"226.5\" x2=\"231\" y1=\"343.3398\" y2=\"343.3398\"/></a><!--MD5=[09b614a08d8cba4a07c9adeb5e0fee81]\n",
       "class E3--><a href=\"psysml:3556ece0-f840-441c-8cd2-5d7027a1a805\" target=\"_top\" title=\"psysml:3556ece0-f840-441c-8cd2-5d7027a1a805\" xlink:actuate=\"onRequest\" xlink:href=\"psysml:3556ece0-f840-441c-8cd2-5d7027a1a805\" xlink:show=\"new\" xlink:title=\"psysml:3556ece0-f840-441c-8cd2-5d7027a1a805\" xlink:type=\"simple\"><rect fill=\"#FFFFFF\" height=\"45.9375\" id=\"E3\" style=\"stroke: #383838; stroke-width: 1.5;\" width=\"66\" x=\"137\" y=\"155\"/><text fill=\"#000000\" font-family=\"sans-serif\" font-size=\"12\" font-style=\"italic\" lengthAdjust=\"spacingAndGlyphs\" textLength=\"64\" x=\"138\" y=\"171.1387\">«part def»</text><text fill=\"#000000\" font-family=\"sans-serif\" font-size=\"12\" lengthAdjust=\"spacingAndGlyphs\" textLength=\"9\" x=\"165.5\" y=\"185.1074\">Q</text><line style=\"stroke: #383838; stroke-width: 1.5;\" x1=\"138\" x2=\"202\" y1=\"192.9375\" y2=\"192.9375\"/></a><!--MD5=[ebbe1d658d1005bcc118a6aa81145e00]\n",
       "class E4--><a href=\"psysml:c1ea47d2-f15e-4f05-bf93-ec81669ca641\" target=\"_top\" title=\"psysml:c1ea47d2-f15e-4f05-bf93-ec81669ca641\" xlink:actuate=\"onRequest\" xlink:href=\"psysml:c1ea47d2-f15e-4f05-bf93-ec81669ca641\" xlink:show=\"new\" xlink:title=\"psysml:c1ea47d2-f15e-4f05-bf93-ec81669ca641\" xlink:type=\"simple\"><rect fill=\"#FFFFFF\" height=\"45.9375\" id=\"E4\" style=\"stroke: #383838; stroke-width: 1.5;\" width=\"95\" x=\"255.5\" y=\"41\"/><text fill=\"#000000\" font-family=\"sans-serif\" font-size=\"12\" font-style=\"italic\" lengthAdjust=\"spacingAndGlyphs\" textLength=\"93\" x=\"256.5\" y=\"57.1387\">«attribute def»</text><text fill=\"#000000\" font-family=\"sans-serif\" font-size=\"12\" lengthAdjust=\"spacingAndGlyphs\" textLength=\"8\" x=\"299\" y=\"71.1074\">B</text><line style=\"stroke: #383838; stroke-width: 1.5;\" x1=\"256.5\" x2=\"349.5\" y1=\"78.9375\" y2=\"78.9375\"/></a><!--MD5=[270fce915f116d4de14055a7c1d9a0f3]\n",
       "class E5--><a href=\"psysml:735cd89a-e4b2-4dc5-b3d6-41534f400f39\" target=\"_top\" title=\"psysml:735cd89a-e4b2-4dc5-b3d6-41534f400f39\" xlink:actuate=\"onRequest\" xlink:href=\"psysml:735cd89a-e4b2-4dc5-b3d6-41534f400f39\" xlink:show=\"new\" xlink:title=\"psysml:735cd89a-e4b2-4dc5-b3d6-41534f400f39\" xlink:type=\"simple\"><rect fill=\"#FFFFFF\" height=\"45.9375\" id=\"E5\" style=\"stroke: #383838; stroke-width: 1.5;\" width=\"66\" x=\"315\" y=\"155\"/><text fill=\"#000000\" font-family=\"sans-serif\" font-size=\"12\" font-style=\"italic\" lengthAdjust=\"spacingAndGlyphs\" textLength=\"64\" x=\"316\" y=\"171.1387\">«part def»</text><text fill=\"#000000\" font-family=\"sans-serif\" font-size=\"12\" lengthAdjust=\"spacingAndGlyphs\" textLength=\"8\" x=\"344\" y=\"185.1074\">V</text><line style=\"stroke: #383838; stroke-width: 1.5;\" x1=\"316\" x2=\"380\" y1=\"192.9375\" y2=\"192.9375\"/></a><!--MD5=[60a26617385b1d2d0262a64233df1f8d]\n",
       "class E6--><a href=\"psysml:0400016e-70f0-4405-a71c-97e49bd60e65\" target=\"_top\" title=\"psysml:0400016e-70f0-4405-a71c-97e49bd60e65\" xlink:actuate=\"onRequest\" xlink:href=\"psysml:0400016e-70f0-4405-a71c-97e49bd60e65\" xlink:show=\"new\" xlink:title=\"psysml:0400016e-70f0-4405-a71c-97e49bd60e65\" xlink:type=\"simple\"><rect fill=\"#FFFFFF\" height=\"88.3516\" id=\"E6\" rx=\"10\" ry=\"10\" style=\"stroke: #383838; stroke-width: 1.5;\" width=\"63\" x=\"287.5\" y=\"285\"/><text fill=\"#000000\" font-family=\"sans-serif\" font-size=\"12\" font-style=\"italic\" lengthAdjust=\"spacingAndGlyphs\" textLength=\"40\" x=\"299\" y=\"301.1387\">«part»</text><text fill=\"#000000\" font-family=\"sans-serif\" font-size=\"12\" lengthAdjust=\"spacingAndGlyphs\" textLength=\"23\" x=\"307.5\" y=\"315.1074\">x: Q</text><line style=\"stroke: #383838; stroke-width: 1.5;\" x1=\"288.5\" x2=\"349.5\" y1=\"322.9375\" y2=\"322.9375\"/><text fill=\"#000000\" font-family=\"sans-serif\" font-size=\"11\" lengthAdjust=\"spacingAndGlyphs\" textLength=\"23\" x=\"293.5\" y=\"353.9526\">b: B</text><text fill=\"#000000\" font-family=\"sans-serif\" font-size=\"11\" font-style=\"italic\" lengthAdjust=\"spacingAndGlyphs\" textLength=\"44\" x=\"293.5\" y=\"366.7573\">:&gt;&gt;P::a</text><line style=\"stroke: #383838; stroke-width: 1.0;\" x1=\"288.5\" x2=\"291.5\" y1=\"337.3398\" y2=\"337.3398\"/><text fill=\"#000000\" font-family=\"sans-serif\" font-size=\"11\" lengthAdjust=\"spacingAndGlyphs\" textLength=\"55\" x=\"291.5\" y=\"340.6479\">attributes</text><line style=\"stroke: #383838; stroke-width: 1.0;\" x1=\"346.5\" x2=\"349.5\" y1=\"337.3398\" y2=\"337.3398\"/></a><!--MD5=[2156ba9850f5573cc1fc38a6a4b2f02b]\n",
       "class E7--><a href=\"psysml:ac43cc4c-8177-486e-b5a5-e877f62f9bc5\" target=\"_top\" title=\"psysml:ac43cc4c-8177-486e-b5a5-e877f62f9bc5\" xlink:actuate=\"onRequest\" xlink:href=\"psysml:ac43cc4c-8177-486e-b5a5-e877f62f9bc5\" xlink:show=\"new\" xlink:title=\"psysml:ac43cc4c-8177-486e-b5a5-e877f62f9bc5\" xlink:type=\"simple\"><rect fill=\"#FFFFFF\" height=\"45.9375\" id=\"E7\" rx=\"10\" ry=\"10\" style=\"stroke: #383838; stroke-width: 1.5;\" width=\"42\" x=\"149\" y=\"41\"/><text fill=\"#000000\" font-family=\"sans-serif\" font-size=\"12\" font-style=\"italic\" lengthAdjust=\"spacingAndGlyphs\" textLength=\"40\" x=\"150\" y=\"57.1387\">«part»</text><text fill=\"#000000\" font-family=\"sans-serif\" font-size=\"12\" lengthAdjust=\"spacingAndGlyphs\" textLength=\"25\" x=\"157.5\" y=\"71.1074\">q: Q</text><line style=\"stroke: #383838; stroke-width: 1.5;\" x1=\"150\" x2=\"190\" y1=\"78.9375\" y2=\"78.9375\"/></a><!--MD5=[b9389687b975829384b498ac4b7476b2]\n",
       "class E8--><a href=\"psysml:ce952eae-8bb1-4ad0-9f02-4c42d4c1d0c7\" target=\"_top\" title=\"psysml:ce952eae-8bb1-4ad0-9f02-4c42d4c1d0c7\" xlink:actuate=\"onRequest\" xlink:href=\"psysml:ce952eae-8bb1-4ad0-9f02-4c42d4c1d0c7\" xlink:show=\"new\" xlink:title=\"psysml:ce952eae-8bb1-4ad0-9f02-4c42d4c1d0c7\" xlink:type=\"simple\"><rect fill=\"#FFFFFF\" height=\"59.9063\" id=\"E8\" rx=\"10\" ry=\"10\" style=\"stroke: #383838; stroke-width: 1.5;\" width=\"70\" x=\"32\" y=\"148\"/><text fill=\"#000000\" font-family=\"sans-serif\" font-size=\"12\" font-style=\"italic\" lengthAdjust=\"spacingAndGlyphs\" textLength=\"68\" x=\"33\" y=\"164.1387\">«variation»</text><text fill=\"#000000\" font-family=\"sans-serif\" font-size=\"12\" font-style=\"italic\" lengthAdjust=\"spacingAndGlyphs\" textLength=\"40\" x=\"47\" y=\"178.1074\">«part»</text><text fill=\"#000000\" font-family=\"sans-serif\" font-size=\"12\" lengthAdjust=\"spacingAndGlyphs\" textLength=\"22\" x=\"56\" y=\"192.0762\">v: P</text><line style=\"stroke: #383838; stroke-width: 1.5;\" x1=\"33\" x2=\"101\" y1=\"199.9063\" y2=\"199.9063\"/></a><!--MD5=[fd4143e9d270a159db93a4ea2a975926]\n",
       "class E9--><a href=\"psysml:572dfe4e-6d7c-4ba8-94a3-d7ce0272bed9\" target=\"_top\" title=\"psysml:572dfe4e-6d7c-4ba8-94a3-d7ce0272bed9\" xlink:actuate=\"onRequest\" xlink:href=\"psysml:572dfe4e-6d7c-4ba8-94a3-d7ce0272bed9\" xlink:show=\"new\" xlink:title=\"psysml:572dfe4e-6d7c-4ba8-94a3-d7ce0272bed9\" xlink:type=\"simple\"><rect fill=\"#FFFFFF\" height=\"88.3516\" id=\"E9\" rx=\"10\" ry=\"10\" style=\"stroke: #383838; stroke-width: 1.5;\" width=\"77\" x=\"32.5\" y=\"285\"/><text fill=\"#000000\" font-family=\"sans-serif\" font-size=\"12\" font-style=\"italic\" lengthAdjust=\"spacingAndGlyphs\" textLength=\"75\" x=\"33.5\" y=\"301.1387\">«reference»</text><text fill=\"#000000\" font-family=\"sans-serif\" font-size=\"12\" lengthAdjust=\"spacingAndGlyphs\" textLength=\"8\" x=\"67\" y=\"315.1074\">q</text><line style=\"stroke: #383838; stroke-width: 1.5;\" x1=\"33.5\" x2=\"108.5\" y1=\"322.9375\" y2=\"322.9375\"/><text fill=\"#000000\" font-family=\"sans-serif\" font-size=\"11\" lengthAdjust=\"spacingAndGlyphs\" textLength=\"23\" x=\"38.5\" y=\"353.9526\">b: B</text><text fill=\"#000000\" font-family=\"sans-serif\" font-size=\"11\" font-style=\"italic\" lengthAdjust=\"spacingAndGlyphs\" textLength=\"44\" x=\"38.5\" y=\"366.7573\">:&gt;&gt;P::a</text><line style=\"stroke: #383838; stroke-width: 1.0;\" x1=\"33.5\" x2=\"43.5\" y1=\"337.3398\" y2=\"337.3398\"/><text fill=\"#000000\" font-family=\"sans-serif\" font-size=\"11\" lengthAdjust=\"spacingAndGlyphs\" textLength=\"55\" x=\"43.5\" y=\"340.6479\">attributes</text><line style=\"stroke: #383838; stroke-width: 1.0;\" x1=\"98.5\" x2=\"108.5\" y1=\"337.3398\" y2=\"337.3398\"/></a><!--MD5=[96f4274e9e20536e775497830990834d]\n",
       "class E10--><a href=\"psysml:983a8093-9810-4637-96cc-9ee8fb3d9cf5\" target=\"_top\" title=\"psysml:983a8093-9810-4637-96cc-9ee8fb3d9cf5\" xlink:actuate=\"onRequest\" xlink:href=\"psysml:983a8093-9810-4637-96cc-9ee8fb3d9cf5\" xlink:show=\"new\" xlink:title=\"psysml:983a8093-9810-4637-96cc-9ee8fb3d9cf5\" xlink:type=\"simple\"><rect fill=\"#FFFFFF\" height=\"45.9375\" id=\"E10\" rx=\"10\" ry=\"10\" style=\"stroke: #383838; stroke-width: 1.5;\" width=\"42\" x=\"238\" y=\"155\"/><text fill=\"#000000\" font-family=\"sans-serif\" font-size=\"12\" font-style=\"italic\" lengthAdjust=\"spacingAndGlyphs\" textLength=\"40\" x=\"239\" y=\"171.1387\">«part»</text><text fill=\"#000000\" font-family=\"sans-serif\" font-size=\"12\" lengthAdjust=\"spacingAndGlyphs\" textLength=\"22\" x=\"248\" y=\"185.1074\">y: P</text><line style=\"stroke: #383838; stroke-width: 1.5;\" x1=\"239\" x2=\"279\" y1=\"192.9375\" y2=\"192.9375\"/></a><!--MD5=[05d275557350bfb9b23a4ef7222b4c39]\n",
       "link E3 to E2--><a href=\"psysml:9e57242c-9184-4252-9565-bec20c63fdb8\" target=\"_top\" title=\"psysml:9e57242c-9184-4252-9565-bec20c63fdb8\" xlink:actuate=\"onRequest\" xlink:href=\"psysml:9e57242c-9184-4252-9565-bec20c63fdb8\" xlink:show=\"new\" xlink:title=\"psysml:9e57242c-9184-4252-9565-bec20c63fdb8\" xlink:type=\"simple\"><path d=\"M190.67,201.26 C190.67,201.26 190.67,270.73 190.67,270.73 \" fill=\"none\" id=\"E3-&gt;E2\" style=\"stroke: #383838; stroke-width: 1.0;\"/><polygon fill=\"none\" points=\"197.67,270.73,190.67,290.73,183.67,270.73,197.67,270.73\" style=\"stroke: #383838; stroke-width: 1.0;\"/></a><!--MD5=[15ebcb19ae302d9b601edb458606d402]\n",
       "link E5 to E2--><a href=\"psysml:5cdbdbe7-d14c-45c9-a804-61f18115238e\" target=\"_top\" title=\"psysml:5cdbdbe7-d14c-45c9-a804-61f18115238e\" xlink:actuate=\"onRequest\" xlink:href=\"psysml:5cdbdbe7-d14c-45c9-a804-61f18115238e\" xlink:show=\"new\" xlink:title=\"psysml:5cdbdbe7-d14c-45c9-a804-61f18115238e\" xlink:type=\"simple\"><path d=\"M326.83,201.22 C326.83,202.93 326.83,204 326.83,204 C326.83,204 222.33,204 222.33,204 C222.33,204 222.33,270.82 222.33,270.82 \" fill=\"none\" id=\"E5-&gt;E2\" style=\"stroke: #383838; stroke-width: 1.0;\"/><polygon fill=\"none\" points=\"229.33,270.82,222.33,290.82,215.33,270.82,229.33,270.82\" style=\"stroke: #383838; stroke-width: 1.0;\"/></a><!--MD5=[9120cf2e5df3bff93db8f754bbbc09b4]\n",
       "link E5 to E6--><a href=\"psysml:052c6ce9-d9db-4da6-90c4-ac16555550ac\" target=\"_top\" title=\"psysml:052c6ce9-d9db-4da6-90c4-ac16555550ac\" xlink:actuate=\"onRequest\" xlink:href=\"psysml:052c6ce9-d9db-4da6-90c4-ac16555550ac\" xlink:show=\"new\" xlink:title=\"psysml:052c6ce9-d9db-4da6-90c4-ac16555550ac\" xlink:type=\"simple\"><path d=\"M338.67,211.26 C338.67,211.26 338.67,274.72 338.67,274.72 \" fill=\"none\" id=\"E5-E6\" style=\"stroke: #383838; stroke-width: 1.0;\"/><polygon fill=\"#383838\" points=\"338.67,284.72,341.67,276.72,335.67,276.72,338.67,284.72\" style=\"stroke: #383838; stroke-width: 1.0;\"/><path d=\"M330.2128,204.3382 A9,9 0 0 0 347.1272 204.3382\" fill=\"none\" style=\"stroke: #383838; stroke-width: 1.5;\"/><text fill=\"#000000\" font-family=\"sans-serif\" font-size=\"13\" lengthAdjust=\"spacingAndGlyphs\" textLength=\"60\" x=\"320\" y=\"251.0669\">«variant»</text></a><!--MD5=[14ccda38c055a5c0da953d572bc50960]\n",
       "link E7 to E3--><a href=\"psysml:648145d1-1ec9-42fc-8307-fa8910350658\" target=\"_top\" title=\"psysml:648145d1-1ec9-42fc-8307-fa8910350658\" xlink:actuate=\"onRequest\" xlink:href=\"psysml:648145d1-1ec9-42fc-8307-fa8910350658\" xlink:show=\"new\" xlink:title=\"psysml:648145d1-1ec9-42fc-8307-fa8910350658\" xlink:type=\"simple\"><path d=\"M170,87.07 C170,87.07 170,134.96 170,134.96 \" fill=\"none\" id=\"E7-&gt;E3\" style=\"stroke: #383838; stroke-width: 1.0;\"/><polygon fill=\"#FFFFFF\" points=\"170,154.96,163,135.96,177,135.96,170,154.96\" style=\"stroke: #383838; stroke-width: 1.0;\"/><ellipse cx=\"165\" cy=\"130.26\" fill=\"#383838\" rx=\"2\" ry=\"2\" style=\"stroke: #383838; stroke-width: 1.0;\"/><ellipse cx=\"175\" cy=\"130.26\" fill=\"#383838\" rx=\"2\" ry=\"2\" style=\"stroke: #383838; stroke-width: 1.0;\"/></a><!--MD5=[f1f3f9f2fc535e6147756cb86a7f2e32]\n",
       "link E8 to E2--><a href=\"psysml:19cda0c9-2775-4d9d-8cd8-191c5ad52b34\" target=\"_top\" title=\"psysml:19cda0c9-2775-4d9d-8cd8-191c5ad52b34\" xlink:actuate=\"onRequest\" xlink:href=\"psysml:19cda0c9-2775-4d9d-8cd8-191c5ad52b34\" xlink:show=\"new\" xlink:title=\"psysml:19cda0c9-2775-4d9d-8cd8-191c5ad52b34\" xlink:type=\"simple\"><path d=\"M102.23,206 C134.84,206 178.33,206 178.33,206 C178.33,206 178.33,270.76 178.33,270.76 \" fill=\"none\" id=\"E8-&gt;E2\" style=\"stroke: #383838; stroke-width: 1.0;\"/><polygon fill=\"#FFFFFF\" points=\"178.33,290.76,171.33,271.76,185.33,271.76,178.33,290.76\" style=\"stroke: #383838; stroke-width: 1.0;\"/><ellipse cx=\"173.33\" cy=\"266.06\" fill=\"#383838\" rx=\"2\" ry=\"2\" style=\"stroke: #383838; stroke-width: 1.0;\"/><ellipse cx=\"183.33\" cy=\"266.06\" fill=\"#383838\" rx=\"2\" ry=\"2\" style=\"stroke: #383838; stroke-width: 1.0;\"/></a><!--MD5=[ed10624c06dd9a4fa49ccf290e8b16a8]\n",
       "link E8 to E9--><a href=\"psysml:28d39c7a-e0c7-42b0-858e-2cb4e488f108\" target=\"_top\" title=\"psysml:28d39c7a-e0c7-42b0-858e-2cb4e488f108\" xlink:actuate=\"onRequest\" xlink:href=\"psysml:28d39c7a-e0c7-42b0-858e-2cb4e488f108\" xlink:show=\"new\" xlink:title=\"psysml:28d39c7a-e0c7-42b0-858e-2cb4e488f108\" xlink:type=\"simple\"><path d=\"M67.25,218.19 C67.25,218.19 67.25,274.83 67.25,274.83 \" fill=\"none\" id=\"E8-E9\" style=\"stroke: #383838; stroke-width: 1.0;\"/><polygon fill=\"#383838\" points=\"67.25,284.83,70.25,276.83,64.25,276.83,67.25,284.83\" style=\"stroke: #383838; stroke-width: 1.0;\"/><path d=\"M58.7928,211.2682 A9,9 0 0 0 75.7072 211.2682\" fill=\"none\" style=\"stroke: #383838; stroke-width: 1.5;\"/><text fill=\"#000000\" font-family=\"sans-serif\" font-size=\"13\" lengthAdjust=\"spacingAndGlyphs\" textLength=\"60\" x=\"70\" y=\"251.0669\">«variant»</text></a><!--MD5=[0f36bececdf0dff6e600d6f64214b0f1]\n",
       "link E10 to E2--><a href=\"psysml:8cfcd01d-a74f-43be-a680-d41b6ee6accc\" target=\"_top\" title=\"psysml:8cfcd01d-a74f-43be-a680-d41b6ee6accc\" xlink:actuate=\"onRequest\" xlink:href=\"psysml:8cfcd01d-a74f-43be-a680-d41b6ee6accc\" xlink:show=\"new\" xlink:title=\"psysml:8cfcd01d-a74f-43be-a680-d41b6ee6accc\" xlink:type=\"simple\"><path d=\"M237.73,178 C225.55,178 212.67,178 212.67,178 C212.67,178 212.67,270.9 212.67,270.9 \" fill=\"none\" id=\"E10-&gt;E2\" style=\"stroke: #383838; stroke-width: 1.0;\"/><polygon fill=\"#FFFFFF\" points=\"212.67,290.9,205.67,271.9,219.67,271.9,212.67,290.9\" style=\"stroke: #383838; stroke-width: 1.0;\"/><ellipse cx=\"207.67\" cy=\"266.2\" fill=\"#383838\" rx=\"2\" ry=\"2\" style=\"stroke: #383838; stroke-width: 1.0;\"/><ellipse cx=\"217.67\" cy=\"266.2\" fill=\"#383838\" rx=\"2\" ry=\"2\" style=\"stroke: #383838; stroke-width: 1.0;\"/></a><!--MD5=[46218fe3e9492150d64e01de84eb0b6a]\n",
       "@startuml\r\n",
       "skinparam linetype ortho\r\n",
       "skinparam monochrome true\r\n",
       "skinparam classbackgroundcolor white\r\n",
       "skinparam shadowing false\r\n",
       "skinparam wrapWidth 300\r\n",
       "hide circle\r\n",
       "\r\n",
       "package \"VariabilityTest\" as E1  [[psysml:c9192910-aa77-45a9-9ae3-16f7deb9d13d ]]  {\r\n",
       "comp def \"P\" as E2  <<(T,blue)part def>> [[psysml:28b4b804-815b-4815-9c5e-e5b09d6ccef7 ]] {\r\n",
       "- - attributes - -\r\n",
       "a\r\n",
       "}\r\n",
       "comp def \"Q\" as E3  <<(T,blue)part def>> [[psysml:3556ece0-f840-441c-8cd2-5d7027a1a805 ]] {\r\n",
       "}\r\n",
       "comp def \"B\" as E4  <<(T,blue)attribute def>> [[psysml:c1ea47d2-f15e-4f05-bf93-ec81669ca641 ]] {\r\n",
       "}\r\n",
       "comp def \"V\" as E5  <<(T,blue)part def>> [[psysml:735cd89a-e4b2-4dc5-b3d6-41534f400f39 ]] {\r\n",
       "}\r\n",
       "comp usage \"x: Q\" as E6  <<(T,blue)part>> [[psysml:0400016e-70f0-4405-a71c-97e49bd60e65 ]] {\r\n",
       "- - attributes - -\r\n",
       "b: B\\n//:>>P::a// \r\n",
       "}\r\n",
       "comp usage \"q: Q\" as E7  <<(T,blue)part>> [[psysml:ac43cc4c-8177-486e-b5a5-e877f62f9bc5 ]] {\r\n",
       "}\r\n",
       "comp usage \"v: P\" as E8  <<variation>>\\n <<(T,blue)part>> [[psysml:ce952eae-8bb1-4ad0-9f02-4c42d4c1d0c7 ]] {\r\n",
       "}\r\n",
       "comp usage \"q\" as E9  <<(T,blue)reference>> [[psysml:572dfe4e-6d7c-4ba8-94a3-d7ce0272bed9 ]] {\r\n",
       "- - attributes - -\r\n",
       "b: B\\n//:>>P::a// \r\n",
       "}\r\n",
       "comp usage \"y: P\" as E10  <<(T,blue)part>> [[psysml:983a8093-9810-4637-96cc-9ee8fb3d9cf5 ]] {\r\n",
       "}\r\n",
       "E3 - -|> E2 [[psysml:9e57242c-9184-4252-9565-bec20c63fdb8 ]] \r\n",
       "E5 - -|> E2 [[psysml:5cdbdbe7-d14c-45c9-a804-61f18115238e ]] \r\n",
       "E5 )- ->> E6 [[psysml:052c6ce9-d9db-4da6-90c4-ac16555550ac ]] : <<variant>>\r\n",
       "E7 - -:|> E3 [[psysml:648145d1-1ec9-42fc-8307-fa8910350658 ]] \r\n",
       "E8 - -:|> E2 [[psysml:19cda0c9-2775-4d9d-8cd8-191c5ad52b34 ]] \r\n",
       "E8 )- ->> E9 [[psysml:28d39c7a-e0c7-42b0-858e-2cb4e488f108 ]] : <<variant>>\r\n",
       "E10 - -:|> E2 [[psysml:8cfcd01d-a74f-43be-a680-d41b6ee6accc ]] \r\n",
       "}\r\n",
       "@enduml\r\n",
       "\n",
       "PlantUML version 1.2020.13(Sat Jun 13 12:26:38 UTC 2020)\n",
       "(EPL source distribution)\n",
       "Java Runtime: OpenJDK Runtime Environment\n",
       "JVM: OpenJDK 64-Bit Server VM\n",
       "Default Encoding: UTF-8\n",
       "Language: en\n",
       "Country: null\n",
       "--></g></svg>"
      ]
     },
     "execution_count": 52,
     "metadata": {},
     "output_type": "execute_result"
    }
   ],
   "source": [
    "%viz --style=\"ORTHOLINE\" --view=\"Tree\" \"VariabilityTest\""
   ]
  },
  {
   "cell_type": "code",
   "execution_count": 53,
   "id": "da96747d",
   "metadata": {
    "execution": {
     "iopub.execute_input": "2021-05-28T10:47:58.978541Z",
     "iopub.status.busy": "2021-05-28T10:47:58.978036Z",
     "iopub.status.idle": "2021-05-28T10:47:58.984476Z",
     "shell.execute_reply": "2021-05-28T10:47:58.983838Z"
    }
   },
   "outputs": [
    {
     "data": {
      "image/svg+xml": [
       "<?xml version=\"1.0\" encoding=\"UTF-8\" standalone=\"no\"?><svg xmlns=\"http://www.w3.org/2000/svg\" xmlns:xlink=\"http://www.w3.org/1999/xlink\" contentScriptType=\"application/ecmascript\" contentStyleType=\"text/css\" height=\"12px\" preserveAspectRatio=\"none\" style=\"width:12px;height:12px;\" version=\"1.1\" viewBox=\"0 0 12 12\" width=\"12px\" zoomAndPan=\"magnify\"><defs/><g><!--MD5=[97d6f38768b311333d388e66b2b27985]\n",
       "@startuml\r\n",
       "skinparam linetype ortho\r\n",
       "skinparam monochrome true\r\n",
       "skinparam classbackgroundcolor white\r\n",
       "skinparam shadowing false\r\n",
       "skinparam wrapWidth 300\r\n",
       "hide circle\r\n",
       "\r\n",
       "@enduml\r\n",
       "\n",
       "PlantUML version 1.2020.13(Sat Jun 13 12:26:38 UTC 2020)\n",
       "(EPL source distribution)\n",
       "Java Runtime: OpenJDK Runtime Environment\n",
       "JVM: OpenJDK 64-Bit Server VM\n",
       "Default Encoding: UTF-8\n",
       "Language: en\n",
       "Country: null\n",
       "--></g></svg>"
      ]
     },
     "execution_count": 53,
     "metadata": {},
     "output_type": "execute_result"
    }
   ],
   "source": [
    "%viz --style=\"ORTHOLINE\" --view=\"State\" \"VariabilityTest\""
   ]
  },
  {
   "cell_type": "code",
   "execution_count": 54,
   "id": "3c2b5c61",
   "metadata": {
    "execution": {
     "iopub.execute_input": "2021-05-28T10:47:59.036485Z",
     "iopub.status.busy": "2021-05-28T10:47:59.035936Z",
     "iopub.status.idle": "2021-05-28T10:47:59.100208Z",
     "shell.execute_reply": "2021-05-28T10:47:59.098722Z"
    }
   },
   "outputs": [
    {
     "data": {
      "image/svg+xml": [
       "<?xml version=\"1.0\" encoding=\"UTF-8\" standalone=\"no\"?><svg xmlns=\"http://www.w3.org/2000/svg\" xmlns:xlink=\"http://www.w3.org/1999/xlink\" contentScriptType=\"application/ecmascript\" contentStyleType=\"text/css\" height=\"427px\" preserveAspectRatio=\"none\" style=\"width:779px;height:427px;\" version=\"1.1\" viewBox=\"0 0 779 427\" width=\"779px\" zoomAndPan=\"magnify\"><defs/><g><!--MD5=[fbc87193dbaf4d95561dea2c320d4a47]\n",
       "cluster E1--><a href=\"psysml:c9192910-aa77-45a9-9ae3-16f7deb9d13d\" target=\"_top\" title=\"psysml:c9192910-aa77-45a9-9ae3-16f7deb9d13d\" xlink:actuate=\"onRequest\" xlink:href=\"psysml:c9192910-aa77-45a9-9ae3-16f7deb9d13d\" xlink:show=\"new\" xlink:title=\"psysml:c9192910-aa77-45a9-9ae3-16f7deb9d13d\" xlink:type=\"simple\"><polygon fill=\"#FFFFFF\" points=\"16,6,134,6,141,28.2969,757,28.2969,757,415,16,415,16,6\" style=\"stroke: #000000; stroke-width: 1.5;\"/><line style=\"stroke: #000000; stroke-width: 1.5;\" x1=\"16\" x2=\"141\" y1=\"28.2969\" y2=\"28.2969\"/><text fill=\"#000000\" font-family=\"sans-serif\" font-size=\"14\" font-weight=\"bold\" lengthAdjust=\"spacingAndGlyphs\" textLength=\"112\" x=\"20\" y=\"20.9951\">VariabilityTest</text></a><!--MD5=[e4f7fae6ed58524ba242bb0b0d3be6b7]\n",
       "cluster E2--><a href=\"psysml:28b4b804-815b-4815-9c5e-e5b09d6ccef7\" target=\"_top\" title=\"psysml:28b4b804-815b-4815-9c5e-e5b09d6ccef7\" xlink:actuate=\"onRequest\" xlink:href=\"psysml:28b4b804-815b-4815-9c5e-e5b09d6ccef7\" xlink:show=\"new\" xlink:title=\"psysml:28b4b804-815b-4815-9c5e-e5b09d6ccef7\" xlink:type=\"simple\"><rect fill=\"#FFFFFF\" height=\"129\" id=\"E2\" style=\"stroke: #383838; stroke-width: 1.5;\" width=\"139\" x=\"420\" y=\"254\"/><rect fill=\"#F8F8F8\" height=\"37.9375\" style=\"stroke: #383838; stroke-width: 1.5;\" width=\"139\" x=\"420\" y=\"254\"/><text fill=\"#000000\" font-family=\"sans-serif\" font-size=\"12\" font-style=\"italic\" lengthAdjust=\"spacingAndGlyphs\" textLength=\"64\" x=\"457.5\" y=\"270.1387\">«part def»</text><text fill=\"#000000\" font-family=\"sans-serif\" font-size=\"12\" lengthAdjust=\"spacingAndGlyphs\" textLength=\"8\" x=\"485.5\" y=\"284.1074\">P</text></a><!--MD5=[14e3b0961a2654348d326746436168a1]\n",
       "cluster E6--><a href=\"psysml:735cd89a-e4b2-4dc5-b3d6-41534f400f39\" target=\"_top\" title=\"psysml:735cd89a-e4b2-4dc5-b3d6-41534f400f39\" xlink:actuate=\"onRequest\" xlink:href=\"psysml:735cd89a-e4b2-4dc5-b3d6-41534f400f39\" xlink:show=\"new\" xlink:title=\"psysml:735cd89a-e4b2-4dc5-b3d6-41534f400f39\" xlink:type=\"simple\"><rect fill=\"#FFFFFF\" height=\"157\" id=\"E6\" style=\"stroke: #383838; stroke-width: 1.5;\" width=\"131\" x=\"594\" y=\"57\"/><rect fill=\"#F8F8F8\" height=\"37.9375\" style=\"stroke: #383838; stroke-width: 1.5;\" width=\"131\" x=\"594\" y=\"57\"/><text fill=\"#000000\" font-family=\"sans-serif\" font-size=\"12\" font-style=\"italic\" lengthAdjust=\"spacingAndGlyphs\" textLength=\"64\" x=\"627.5\" y=\"73.1387\">«part def»</text><text fill=\"#000000\" font-family=\"sans-serif\" font-size=\"12\" lengthAdjust=\"spacingAndGlyphs\" textLength=\"8\" x=\"655.5\" y=\"87.1074\">V</text></a><!--MD5=[7f149f147074ac12df2cb0a7728a5fb0]\n",
       "cluster E9--><a href=\"psysml:ce952eae-8bb1-4ad0-9f02-4c42d4c1d0c7\" target=\"_top\" title=\"psysml:ce952eae-8bb1-4ad0-9f02-4c42d4c1d0c7\" xlink:actuate=\"onRequest\" xlink:href=\"psysml:ce952eae-8bb1-4ad0-9f02-4c42d4c1d0c7\" xlink:show=\"new\" xlink:title=\"psysml:ce952eae-8bb1-4ad0-9f02-4c42d4c1d0c7\" xlink:type=\"simple\"><rect fill=\"#FFFFFF\" height=\"155\" id=\"E9\" rx=\"10\" ry=\"10\" style=\"stroke: #383838; stroke-width: 1.5;\" width=\"110\" x=\"452\" y=\"58\"/><rect fill=\"#F8F8F8\" height=\"37.9375\" rx=\"10\" ry=\"10\" style=\"stroke: #F8F8F8; stroke-width: 1.5;\" width=\"110\" x=\"452\" y=\"58\"/><rect fill=\"#F8F8F8\" height=\"10\" style=\"stroke: #F8F8F8; stroke-width: 1.5;\" width=\"110\" x=\"452\" y=\"85.9375\"/><rect fill=\"none\" height=\"155\" id=\"E9\" rx=\"10\" ry=\"10\" style=\"stroke: #383838; stroke-width: 1.5;\" width=\"110\" x=\"452\" y=\"58\"/><text fill=\"#000000\" font-family=\"sans-serif\" font-size=\"12\" font-style=\"italic\" lengthAdjust=\"spacingAndGlyphs\" textLength=\"68\" x=\"473\" y=\"74.1387\">«variation»</text><text fill=\"#000000\" font-family=\"sans-serif\" font-size=\"12\" lengthAdjust=\"spacingAndGlyphs\" textLength=\"22\" x=\"496\" y=\"88.1074\">v: P</text><line style=\"stroke: #383838; stroke-width: 1.0;\" x1=\"452\" x2=\"562\" y1=\"95.9375\" y2=\"95.9375\"/></a><g id=\"E1.E5\"><a href=\"psysml:c1ea47d2-f15e-4f05-bf93-ec81669ca641\" target=\"_top\" title=\"psysml:c1ea47d2-f15e-4f05-bf93-ec81669ca641\" xlink:actuate=\"onRequest\" xlink:href=\"psysml:c1ea47d2-f15e-4f05-bf93-ec81669ca641\" xlink:show=\"new\" xlink:title=\"psysml:c1ea47d2-f15e-4f05-bf93-ec81669ca641\" xlink:type=\"simple\"><rect fill=\"#FFFFFF\" height=\"42.9375\" id=\"E5\" style=\"stroke: #383838; stroke-width: 1.5;\" width=\"100\" x=\"333\" y=\"131.5\"/><rect fill=\"#F8F8F8\" height=\"37.9375\" style=\"stroke: #383838; stroke-width: 1.5;\" width=\"100\" x=\"333\" y=\"131.5\"/><text fill=\"#000000\" font-family=\"sans-serif\" font-size=\"12\" font-style=\"italic\" lengthAdjust=\"spacingAndGlyphs\" textLength=\"93\" x=\"336.5\" y=\"147.6387\">«attribute def»</text><text fill=\"#000000\" font-family=\"sans-serif\" font-size=\"12\" lengthAdjust=\"spacingAndGlyphs\" textLength=\"8\" x=\"379\" y=\"161.6074\">B</text></a></g><!--MD5=[09b614a08d8cba4a07c9adeb5e0fee81]\n",
       "class E3--><a href=\"psysml:29e7d07c-e0ef-43b2-a175-0967043bb668\" target=\"_top\" title=\"psysml:29e7d07c-e0ef-43b2-a175-0967043bb668\" xlink:actuate=\"onRequest\" xlink:href=\"psysml:29e7d07c-e0ef-43b2-a175-0967043bb668\" xlink:show=\"new\" xlink:title=\"psysml:29e7d07c-e0ef-43b2-a175-0967043bb668\" xlink:type=\"simple\"><rect fill=\"#FFFFFF\" height=\"45.9375\" id=\"E3\" rx=\"10\" ry=\"10\" style=\"stroke: #383838; stroke-width: 1.5;\" width=\"71\" x=\"463.5\" y=\"313\"/><text fill=\"#000000\" font-family=\"sans-serif\" font-size=\"12\" font-style=\"italic\" lengthAdjust=\"spacingAndGlyphs\" textLength=\"69\" x=\"464.5\" y=\"329.1387\">«attribute»</text><text fill=\"#000000\" font-family=\"sans-serif\" font-size=\"12\" lengthAdjust=\"spacingAndGlyphs\" textLength=\"8\" x=\"495\" y=\"343.1074\">a</text><line style=\"stroke: #383838; stroke-width: 1.5;\" x1=\"464.5\" x2=\"533.5\" y1=\"350.9375\" y2=\"350.9375\"/></a><g id=\"E1.E4\"><a href=\"psysml:3556ece0-f840-441c-8cd2-5d7027a1a805\" target=\"_top\" title=\"psysml:3556ece0-f840-441c-8cd2-5d7027a1a805\" xlink:actuate=\"onRequest\" xlink:href=\"psysml:3556ece0-f840-441c-8cd2-5d7027a1a805\" xlink:show=\"new\" xlink:title=\"psysml:3556ece0-f840-441c-8cd2-5d7027a1a805\" xlink:type=\"simple\"><rect fill=\"#FFFFFF\" height=\"42.9375\" id=\"E4\" style=\"stroke: #383838; stroke-width: 1.5;\" width=\"71\" x=\"226.5\" y=\"131.5\"/><rect fill=\"#F8F8F8\" height=\"37.9375\" style=\"stroke: #383838; stroke-width: 1.5;\" width=\"71\" x=\"226.5\" y=\"131.5\"/><text fill=\"#000000\" font-family=\"sans-serif\" font-size=\"12\" font-style=\"italic\" lengthAdjust=\"spacingAndGlyphs\" textLength=\"64\" x=\"230\" y=\"147.6387\">«part def»</text><text fill=\"#000000\" font-family=\"sans-serif\" font-size=\"12\" lengthAdjust=\"spacingAndGlyphs\" textLength=\"9\" x=\"257.5\" y=\"161.6074\">Q</text></a></g><!--MD5=[2156ba9850f5573cc1fc38a6a4b2f02b]\n",
       "class E7--><a href=\"psysml:0400016e-70f0-4405-a71c-97e49bd60e65\" target=\"_top\" title=\"psysml:0400016e-70f0-4405-a71c-97e49bd60e65\" xlink:actuate=\"onRequest\" xlink:href=\"psysml:0400016e-70f0-4405-a71c-97e49bd60e65\" xlink:show=\"new\" xlink:title=\"psysml:0400016e-70f0-4405-a71c-97e49bd60e65\" xlink:type=\"simple\"><rect fill=\"#FFFFFF\" height=\"74.3828\" id=\"E7\" rx=\"10\" ry=\"10\" style=\"stroke: #383838; stroke-width: 1.5;\" width=\"63\" x=\"637.5\" y=\"116\"/><text fill=\"#000000\" font-family=\"sans-serif\" font-size=\"12\" lengthAdjust=\"spacingAndGlyphs\" textLength=\"23\" x=\"657.5\" y=\"132.1387\">x: Q</text><line style=\"stroke: #383838; stroke-width: 1.5;\" x1=\"638.5\" x2=\"699.5\" y1=\"139.9688\" y2=\"139.9688\"/><text fill=\"#000000\" font-family=\"sans-serif\" font-size=\"11\" lengthAdjust=\"spacingAndGlyphs\" textLength=\"23\" x=\"643.5\" y=\"170.9839\">b: B</text><text fill=\"#000000\" font-family=\"sans-serif\" font-size=\"11\" font-style=\"italic\" lengthAdjust=\"spacingAndGlyphs\" textLength=\"44\" x=\"643.5\" y=\"183.7886\">:&gt;&gt;P::a</text><line style=\"stroke: #383838; stroke-width: 1.0;\" x1=\"638.5\" x2=\"641.5\" y1=\"154.3711\" y2=\"154.3711\"/><text fill=\"#000000\" font-family=\"sans-serif\" font-size=\"11\" lengthAdjust=\"spacingAndGlyphs\" textLength=\"55\" x=\"641.5\" y=\"157.6792\">attributes</text><line style=\"stroke: #383838; stroke-width: 1.0;\" x1=\"696.5\" x2=\"699.5\" y1=\"154.3711\" y2=\"154.3711\"/></a><g id=\"E1.E8\"><a href=\"psysml:ac43cc4c-8177-486e-b5a5-e877f62f9bc5\" target=\"_top\" title=\"psysml:ac43cc4c-8177-486e-b5a5-e877f62f9bc5\" xlink:actuate=\"onRequest\" xlink:href=\"psysml:ac43cc4c-8177-486e-b5a5-e877f62f9bc5\" xlink:show=\"new\" xlink:title=\"psysml:ac43cc4c-8177-486e-b5a5-e877f62f9bc5\" xlink:type=\"simple\"><rect fill=\"#FFFFFF\" height=\"40\" id=\"E8\" rx=\"10\" ry=\"10\" style=\"stroke: #383838; stroke-width: 1.5;\" width=\"50\" x=\"141\" y=\"133\"/><rect fill=\"#F8F8F8\" height=\"23.9688\" rx=\"10\" ry=\"10\" style=\"stroke: #F8F8F8; stroke-width: 1.5;\" width=\"50\" x=\"141\" y=\"133\"/><rect fill=\"#F8F8F8\" height=\"10\" style=\"stroke: #F8F8F8; stroke-width: 1.5;\" width=\"50\" x=\"141\" y=\"146.9688\"/><rect fill=\"none\" height=\"40\" id=\"E8\" rx=\"10\" ry=\"10\" style=\"stroke: #383838; stroke-width: 1.5;\" width=\"50\" x=\"141\" y=\"133\"/><text fill=\"#000000\" font-family=\"sans-serif\" font-size=\"12\" lengthAdjust=\"spacingAndGlyphs\" textLength=\"25\" x=\"153.5\" y=\"149.1387\">q: Q</text></a></g><!--MD5=[96f4274e9e20536e775497830990834d]\n",
       "class E10--><a href=\"psysml:572dfe4e-6d7c-4ba8-94a3-d7ce0272bed9\" target=\"_top\" title=\"psysml:572dfe4e-6d7c-4ba8-94a3-d7ce0272bed9\" xlink:actuate=\"onRequest\" xlink:href=\"psysml:572dfe4e-6d7c-4ba8-94a3-d7ce0272bed9\" xlink:show=\"new\" xlink:title=\"psysml:572dfe4e-6d7c-4ba8-94a3-d7ce0272bed9\" xlink:type=\"simple\"><rect fill=\"#FFFFFF\" height=\"88.3516\" id=\"E10\" rx=\"10\" ry=\"10\" style=\"stroke: #383838; stroke-width: 1.5;\" width=\"77\" x=\"468.5\" y=\"109\"/><text fill=\"#000000\" font-family=\"sans-serif\" font-size=\"12\" font-style=\"italic\" lengthAdjust=\"spacingAndGlyphs\" textLength=\"75\" x=\"469.5\" y=\"125.1387\">«reference»</text><text fill=\"#000000\" font-family=\"sans-serif\" font-size=\"12\" lengthAdjust=\"spacingAndGlyphs\" textLength=\"8\" x=\"503\" y=\"139.1074\">q</text><line style=\"stroke: #383838; stroke-width: 1.5;\" x1=\"469.5\" x2=\"544.5\" y1=\"146.9375\" y2=\"146.9375\"/><text fill=\"#000000\" font-family=\"sans-serif\" font-size=\"11\" lengthAdjust=\"spacingAndGlyphs\" textLength=\"23\" x=\"474.5\" y=\"177.9526\">b: B</text><text fill=\"#000000\" font-family=\"sans-serif\" font-size=\"11\" font-style=\"italic\" lengthAdjust=\"spacingAndGlyphs\" textLength=\"44\" x=\"474.5\" y=\"190.7573\">:&gt;&gt;P::a</text><line style=\"stroke: #383838; stroke-width: 1.0;\" x1=\"469.5\" x2=\"479.5\" y1=\"161.3398\" y2=\"161.3398\"/><text fill=\"#000000\" font-family=\"sans-serif\" font-size=\"11\" lengthAdjust=\"spacingAndGlyphs\" textLength=\"55\" x=\"479.5\" y=\"164.6479\">attributes</text><line style=\"stroke: #383838; stroke-width: 1.0;\" x1=\"534.5\" x2=\"544.5\" y1=\"161.3398\" y2=\"161.3398\"/></a><g id=\"E1.E11\"><a href=\"psysml:983a8093-9810-4637-96cc-9ee8fb3d9cf5\" target=\"_top\" title=\"psysml:983a8093-9810-4637-96cc-9ee8fb3d9cf5\" xlink:actuate=\"onRequest\" xlink:href=\"psysml:983a8093-9810-4637-96cc-9ee8fb3d9cf5\" xlink:show=\"new\" xlink:title=\"psysml:983a8093-9810-4637-96cc-9ee8fb3d9cf5\" xlink:type=\"simple\"><rect fill=\"#FFFFFF\" height=\"40\" id=\"E11\" rx=\"10\" ry=\"10\" style=\"stroke: #383838; stroke-width: 1.5;\" width=\"73\" x=\"32.5\" y=\"133\"/><rect fill=\"#F8F8F8\" height=\"23.9688\" rx=\"10\" ry=\"10\" style=\"stroke: #F8F8F8; stroke-width: 1.5;\" width=\"73\" x=\"32.5\" y=\"133\"/><rect fill=\"#F8F8F8\" height=\"10\" style=\"stroke: #F8F8F8; stroke-width: 1.5;\" width=\"73\" x=\"32.5\" y=\"146.9688\"/><rect fill=\"none\" height=\"40\" id=\"E11\" rx=\"10\" ry=\"10\" style=\"stroke: #383838; stroke-width: 1.5;\" width=\"73\" x=\"32.5\" y=\"133\"/><text fill=\"#000000\" font-family=\"sans-serif\" font-size=\"12\" lengthAdjust=\"spacingAndGlyphs\" textLength=\"58\" x=\"38\" y=\"149.1387\">y: P=v::q;</text></a></g><!--MD5=[185131fc0dcab0a4505a2ebe144e961b]\n",
       "link E4 to E2--><a href=\"psysml:9e57242c-9184-4252-9565-bec20c63fdb8\" target=\"_top\" title=\"psysml:9e57242c-9184-4252-9565-bec20c63fdb8\" xlink:actuate=\"onRequest\" xlink:href=\"psysml:9e57242c-9184-4252-9565-bec20c63fdb8\" xlink:show=\"new\" xlink:title=\"psysml:9e57242c-9184-4252-9565-bec20c63fdb8\" xlink:type=\"simple\"><path d=\"M262,174.71 C262,223.19 262,336 262,336 C262,336 300.9475,336 341.1113,336 C361.1931,336 381.5791,336 397.5527,336 C405.5395,336 412.4232,336 417.6142,336 C418.2631,336 418.8856,336 419.4804,336 C419.6291,336 419.7761,336 419.9213,336 \" fill=\"none\" id=\"E4-&gt;E2\" style=\"stroke: #383838; stroke-width: 1.0;\"/><polygon fill=\"#FFFFFF\" points=\"419.9213,336,400.9213,329,400.9213,343,419.9213,336\" style=\"stroke: #383838; stroke-width: 1.0;\"/></a><!--MD5=[2351f337d6de0f557b50152ba70847b5]\n",
       "link E6 to E2--><a href=\"psysml:5cdbdbe7-d14c-45c9-a804-61f18115238e\" target=\"_top\" title=\"psysml:5cdbdbe7-d14c-45c9-a804-61f18115238e\" xlink:actuate=\"onRequest\" xlink:href=\"psysml:5cdbdbe7-d14c-45c9-a804-61f18115238e\" xlink:show=\"new\" xlink:title=\"psysml:5cdbdbe7-d14c-45c9-a804-61f18115238e\" xlink:type=\"simple\"><path d=\"M602,214.3576 C602,215.103 602,215.8453 602,216.5839 C602,219.5383 602,222.4325 602,225.2235 C602,230.8056 602,235.9748 602,240.3861 C602,249.2088 602,255 602,255 C602,255 591.125,255 574.8125,255 C570.7344,255 566.3164,255 561.6436,255 C561.0594,255 560.4714,255 559.8795,255 \" fill=\"none\" id=\"E6-&gt;E2\" style=\"stroke: #383838; stroke-width: 1.0;\"/><polygon fill=\"#FFFFFF\" points=\"559.8795,255,578.8795,262,578.8795,248,559.8795,255\" style=\"stroke: #383838; stroke-width: 1.0;\"/></a><!--MD5=[c7b2584e6b2fdafe5ff34663ddb9def6]\n",
       "@startuml\r\n",
       "skinparam ranksep 10\r\n",
       "skinparam rectangle {\r\n",
       " backgroundColor<<block>> LightGreen\r\n",
       "}\r\n",
       "skinparam linetype ortho\r\n",
       "skinparam monochrome true\r\n",
       "skinparam classbackgroundcolor white\r\n",
       "skinparam shadowing false\r\n",
       "skinparam wrapWidth 300\r\n",
       "hide circle\r\n",
       "\r\n",
       "package \"VariabilityTest\" as E1  [[psysml:c9192910-aa77-45a9-9ae3-16f7deb9d13d ]]  {\r\n",
       "rec def \"P\" as E2  <<(T,blue)part def>> [[psysml:28b4b804-815b-4815-9c5e-e5b09d6ccef7 ]] {\r\n",
       "comp usage \"a\" as E3  <<(T,blue)attribute>> [[psysml:29e7d07c-e0ef-43b2-a175-0967043bb668 ]] {\r\n",
       "}\r\n",
       "}\r\n",
       "rec def \"Q\" as E4  <<(T,blue)part def>> [[psysml:3556ece0-f840-441c-8cd2-5d7027a1a805 ]] {\r\n",
       "}\r\n",
       "def \"B\" as E5  <<(T,blue)attribute def>> [[psysml:c1ea47d2-f15e-4f05-bf93-ec81669ca641 ]] \r\n",
       "rec def \"V\" as E6  <<(T,blue)part def>> [[psysml:735cd89a-e4b2-4dc5-b3d6-41534f400f39 ]] {\r\n",
       "comp usage \"x: Q\" as E7  [[psysml:0400016e-70f0-4405-a71c-97e49bd60e65 ]] {\r\n",
       "- - attributes - -\r\n",
       "b: B\\n//:>>P::a// \r\n",
       "}\r\n",
       "}\r\n",
       "rec usage \"q: Q\" as E8  [[psysml:ac43cc4c-8177-486e-b5a5-e877f62f9bc5 ]] {\r\n",
       "}\r\n",
       "rec usage \"v: P\" as E9  <<variation>> [[psysml:ce952eae-8bb1-4ad0-9f02-4c42d4c1d0c7 ]] {\r\n",
       "comp usage \"q\" as E10  <<(T,blue)reference>> [[psysml:572dfe4e-6d7c-4ba8-94a3-d7ce0272bed9 ]] {\r\n",
       "- - attributes - -\r\n",
       "b: B\\n//:>>P::a// \r\n",
       "}\r\n",
       "}\r\n",
       "rec usage \"y: P=v::q; \" as E11  [[psysml:983a8093-9810-4637-96cc-9ee8fb3d9cf5 ]] {\r\n",
       "}\r\n",
       "E4 - -|> E2 [[psysml:9e57242c-9184-4252-9565-bec20c63fdb8 ]] \r\n",
       "E6 - -|> E2 [[psysml:5cdbdbe7-d14c-45c9-a804-61f18115238e ]] \r\n",
       "}\r\n",
       "@enduml\r\n",
       "\n",
       "PlantUML version 1.2020.13(Sat Jun 13 12:26:38 UTC 2020)\n",
       "(EPL source distribution)\n",
       "Java Runtime: OpenJDK Runtime Environment\n",
       "JVM: OpenJDK 64-Bit Server VM\n",
       "Default Encoding: UTF-8\n",
       "Language: en\n",
       "Country: null\n",
       "--></g></svg>"
      ]
     },
     "execution_count": 54,
     "metadata": {},
     "output_type": "execute_result"
    }
   ],
   "source": [
    "%viz --style=\"ORTHOLINE\" --view=\"Interconnection\" \"VariabilityTest\""
   ]
  },
  {
   "cell_type": "code",
   "execution_count": 55,
   "id": "053b2267",
   "metadata": {
    "execution": {
     "iopub.execute_input": "2021-05-28T10:47:59.152034Z",
     "iopub.status.busy": "2021-05-28T10:47:59.151496Z",
     "iopub.status.idle": "2021-05-28T10:47:59.159099Z",
     "shell.execute_reply": "2021-05-28T10:47:59.158651Z"
    }
   },
   "outputs": [
    {
     "data": {
      "image/svg+xml": [
       "<?xml version=\"1.0\" encoding=\"UTF-8\" standalone=\"no\"?><svg xmlns=\"http://www.w3.org/2000/svg\" xmlns:xlink=\"http://www.w3.org/1999/xlink\" contentScriptType=\"application/ecmascript\" contentStyleType=\"text/css\" height=\"12px\" preserveAspectRatio=\"none\" style=\"width:12px;height:12px;\" version=\"1.1\" viewBox=\"0 0 12 12\" width=\"12px\" zoomAndPan=\"magnify\"><defs/><g><!--MD5=[72934c63077099a26744516a776b4749]\n",
       "@startuml\r\n",
       "skinparam ranksep 8\r\n",
       "skinparam linetype ortho\r\n",
       "skinparam monochrome true\r\n",
       "skinparam classbackgroundcolor white\r\n",
       "skinparam shadowing false\r\n",
       "skinparam wrapWidth 300\r\n",
       "hide circle\r\n",
       "\r\n",
       "@enduml\r\n",
       "\n",
       "PlantUML version 1.2020.13(Sat Jun 13 12:26:38 UTC 2020)\n",
       "(EPL source distribution)\n",
       "Java Runtime: OpenJDK Runtime Environment\n",
       "JVM: OpenJDK 64-Bit Server VM\n",
       "Default Encoding: UTF-8\n",
       "Language: en\n",
       "Country: null\n",
       "--></g></svg>"
      ]
     },
     "execution_count": 55,
     "metadata": {},
     "output_type": "execute_result"
    }
   ],
   "source": [
    "%viz --style=\"ORTHOLINE\" --view=\"Action\" \"VariabilityTest\""
   ]
  },
  {
   "cell_type": "code",
   "execution_count": 56,
   "id": "17543981",
   "metadata": {
    "execution": {
     "iopub.execute_input": "2021-05-28T10:47:59.209639Z",
     "iopub.status.busy": "2021-05-28T10:47:59.209050Z",
     "iopub.status.idle": "2021-05-28T10:47:59.274145Z",
     "shell.execute_reply": "2021-05-28T10:47:59.272585Z"
    }
   },
   "outputs": [
    {
     "data": {
      "image/svg+xml": [
       "<?xml version=\"1.0\" encoding=\"UTF-8\" standalone=\"no\"?><svg xmlns=\"http://www.w3.org/2000/svg\" xmlns:xlink=\"http://www.w3.org/1999/xlink\" contentScriptType=\"application/ecmascript\" contentStyleType=\"text/css\" height=\"401px\" preserveAspectRatio=\"none\" style=\"width:419px;height:401px;\" version=\"1.1\" viewBox=\"0 0 419 401\" width=\"419px\" zoomAndPan=\"magnify\"><defs/><g><!--MD5=[fbc87193dbaf4d95561dea2c320d4a47]\n",
       "cluster E1--><a href=\"psysml:c9192910-aa77-45a9-9ae3-16f7deb9d13d\" target=\"_top\" title=\"psysml:c9192910-aa77-45a9-9ae3-16f7deb9d13d\" xlink:actuate=\"onRequest\" xlink:href=\"psysml:c9192910-aa77-45a9-9ae3-16f7deb9d13d\" xlink:show=\"new\" xlink:title=\"psysml:c9192910-aa77-45a9-9ae3-16f7deb9d13d\" xlink:type=\"simple\"><polygon fill=\"#FFFFFF\" points=\"16,6,134,6,141,28.2969,397,28.2969,397,389,16,389,16,6\" style=\"stroke: #000000; stroke-width: 1.5;\"/><line style=\"stroke: #000000; stroke-width: 1.5;\" x1=\"16\" x2=\"141\" y1=\"28.2969\" y2=\"28.2969\"/><text fill=\"#000000\" font-family=\"sans-serif\" font-size=\"14\" font-weight=\"bold\" lengthAdjust=\"spacingAndGlyphs\" textLength=\"112\" x=\"20\" y=\"20.9951\">VariabilityTest</text></a><!--MD5=[b4997ac47864f28c2f74865a473b2911]\n",
       "class E2--><a href=\"psysml:28b4b804-815b-4815-9c5e-e5b09d6ccef7\" target=\"_top\" title=\"psysml:28b4b804-815b-4815-9c5e-e5b09d6ccef7\" xlink:actuate=\"onRequest\" xlink:href=\"psysml:28b4b804-815b-4815-9c5e-e5b09d6ccef7\" xlink:show=\"new\" xlink:title=\"psysml:28b4b804-815b-4815-9c5e-e5b09d6ccef7\" xlink:type=\"simple\"><rect fill=\"#FFFFFF\" height=\"75.5469\" id=\"E2\" style=\"stroke: #383838; stroke-width: 1.5;\" width=\"66\" x=\"166\" y=\"291\"/><text fill=\"#000000\" font-family=\"sans-serif\" font-size=\"12\" font-style=\"italic\" lengthAdjust=\"spacingAndGlyphs\" textLength=\"64\" x=\"167\" y=\"307.1387\">«part def»</text><text fill=\"#000000\" font-family=\"sans-serif\" font-size=\"12\" lengthAdjust=\"spacingAndGlyphs\" textLength=\"8\" x=\"195\" y=\"321.1074\">P</text><line style=\"stroke: #383838; stroke-width: 1.5;\" x1=\"167\" x2=\"231\" y1=\"328.9375\" y2=\"328.9375\"/><text fill=\"#000000\" font-family=\"sans-serif\" font-size=\"11\" lengthAdjust=\"spacingAndGlyphs\" textLength=\"7\" x=\"172\" y=\"359.9526\">a</text><line style=\"stroke: #383838; stroke-width: 1.0;\" x1=\"167\" x2=\"171.5\" y1=\"343.3398\" y2=\"343.3398\"/><text fill=\"#000000\" font-family=\"sans-serif\" font-size=\"11\" lengthAdjust=\"spacingAndGlyphs\" textLength=\"55\" x=\"171.5\" y=\"346.6479\">attributes</text><line style=\"stroke: #383838; stroke-width: 1.0;\" x1=\"226.5\" x2=\"231\" y1=\"343.3398\" y2=\"343.3398\"/></a><!--MD5=[09b614a08d8cba4a07c9adeb5e0fee81]\n",
       "class E3--><a href=\"psysml:3556ece0-f840-441c-8cd2-5d7027a1a805\" target=\"_top\" title=\"psysml:3556ece0-f840-441c-8cd2-5d7027a1a805\" xlink:actuate=\"onRequest\" xlink:href=\"psysml:3556ece0-f840-441c-8cd2-5d7027a1a805\" xlink:show=\"new\" xlink:title=\"psysml:3556ece0-f840-441c-8cd2-5d7027a1a805\" xlink:type=\"simple\"><rect fill=\"#FFFFFF\" height=\"45.9375\" id=\"E3\" style=\"stroke: #383838; stroke-width: 1.5;\" width=\"66\" x=\"137\" y=\"155\"/><text fill=\"#000000\" font-family=\"sans-serif\" font-size=\"12\" font-style=\"italic\" lengthAdjust=\"spacingAndGlyphs\" textLength=\"64\" x=\"138\" y=\"171.1387\">«part def»</text><text fill=\"#000000\" font-family=\"sans-serif\" font-size=\"12\" lengthAdjust=\"spacingAndGlyphs\" textLength=\"9\" x=\"165.5\" y=\"185.1074\">Q</text><line style=\"stroke: #383838; stroke-width: 1.5;\" x1=\"138\" x2=\"202\" y1=\"192.9375\" y2=\"192.9375\"/></a><!--MD5=[ebbe1d658d1005bcc118a6aa81145e00]\n",
       "class E4--><a href=\"psysml:c1ea47d2-f15e-4f05-bf93-ec81669ca641\" target=\"_top\" title=\"psysml:c1ea47d2-f15e-4f05-bf93-ec81669ca641\" xlink:actuate=\"onRequest\" xlink:href=\"psysml:c1ea47d2-f15e-4f05-bf93-ec81669ca641\" xlink:show=\"new\" xlink:title=\"psysml:c1ea47d2-f15e-4f05-bf93-ec81669ca641\" xlink:type=\"simple\"><rect fill=\"#FFFFFF\" height=\"45.9375\" id=\"E4\" style=\"stroke: #383838; stroke-width: 1.5;\" width=\"95\" x=\"255.5\" y=\"41\"/><text fill=\"#000000\" font-family=\"sans-serif\" font-size=\"12\" font-style=\"italic\" lengthAdjust=\"spacingAndGlyphs\" textLength=\"93\" x=\"256.5\" y=\"57.1387\">«attribute def»</text><text fill=\"#000000\" font-family=\"sans-serif\" font-size=\"12\" lengthAdjust=\"spacingAndGlyphs\" textLength=\"8\" x=\"299\" y=\"71.1074\">B</text><line style=\"stroke: #383838; stroke-width: 1.5;\" x1=\"256.5\" x2=\"349.5\" y1=\"78.9375\" y2=\"78.9375\"/></a><!--MD5=[270fce915f116d4de14055a7c1d9a0f3]\n",
       "class E5--><a href=\"psysml:735cd89a-e4b2-4dc5-b3d6-41534f400f39\" target=\"_top\" title=\"psysml:735cd89a-e4b2-4dc5-b3d6-41534f400f39\" xlink:actuate=\"onRequest\" xlink:href=\"psysml:735cd89a-e4b2-4dc5-b3d6-41534f400f39\" xlink:show=\"new\" xlink:title=\"psysml:735cd89a-e4b2-4dc5-b3d6-41534f400f39\" xlink:type=\"simple\"><rect fill=\"#FFFFFF\" height=\"45.9375\" id=\"E5\" style=\"stroke: #383838; stroke-width: 1.5;\" width=\"66\" x=\"315\" y=\"155\"/><text fill=\"#000000\" font-family=\"sans-serif\" font-size=\"12\" font-style=\"italic\" lengthAdjust=\"spacingAndGlyphs\" textLength=\"64\" x=\"316\" y=\"171.1387\">«part def»</text><text fill=\"#000000\" font-family=\"sans-serif\" font-size=\"12\" lengthAdjust=\"spacingAndGlyphs\" textLength=\"8\" x=\"344\" y=\"185.1074\">V</text><line style=\"stroke: #383838; stroke-width: 1.5;\" x1=\"316\" x2=\"380\" y1=\"192.9375\" y2=\"192.9375\"/></a><!--MD5=[60a26617385b1d2d0262a64233df1f8d]\n",
       "class E6--><a href=\"psysml:0400016e-70f0-4405-a71c-97e49bd60e65\" target=\"_top\" title=\"psysml:0400016e-70f0-4405-a71c-97e49bd60e65\" xlink:actuate=\"onRequest\" xlink:href=\"psysml:0400016e-70f0-4405-a71c-97e49bd60e65\" xlink:show=\"new\" xlink:title=\"psysml:0400016e-70f0-4405-a71c-97e49bd60e65\" xlink:type=\"simple\"><rect fill=\"#FFFFFF\" height=\"88.3516\" id=\"E6\" rx=\"10\" ry=\"10\" style=\"stroke: #383838; stroke-width: 1.5;\" width=\"63\" x=\"287.5\" y=\"285\"/><text fill=\"#000000\" font-family=\"sans-serif\" font-size=\"12\" font-style=\"italic\" lengthAdjust=\"spacingAndGlyphs\" textLength=\"40\" x=\"299\" y=\"301.1387\">«part»</text><text fill=\"#000000\" font-family=\"sans-serif\" font-size=\"12\" lengthAdjust=\"spacingAndGlyphs\" textLength=\"23\" x=\"307.5\" y=\"315.1074\">x: Q</text><line style=\"stroke: #383838; stroke-width: 1.5;\" x1=\"288.5\" x2=\"349.5\" y1=\"322.9375\" y2=\"322.9375\"/><text fill=\"#000000\" font-family=\"sans-serif\" font-size=\"11\" lengthAdjust=\"spacingAndGlyphs\" textLength=\"23\" x=\"293.5\" y=\"353.9526\">b: B</text><text fill=\"#000000\" font-family=\"sans-serif\" font-size=\"11\" font-style=\"italic\" lengthAdjust=\"spacingAndGlyphs\" textLength=\"44\" x=\"293.5\" y=\"366.7573\">:&gt;&gt;P::a</text><line style=\"stroke: #383838; stroke-width: 1.0;\" x1=\"288.5\" x2=\"291.5\" y1=\"337.3398\" y2=\"337.3398\"/><text fill=\"#000000\" font-family=\"sans-serif\" font-size=\"11\" lengthAdjust=\"spacingAndGlyphs\" textLength=\"55\" x=\"291.5\" y=\"340.6479\">attributes</text><line style=\"stroke: #383838; stroke-width: 1.0;\" x1=\"346.5\" x2=\"349.5\" y1=\"337.3398\" y2=\"337.3398\"/></a><!--MD5=[2156ba9850f5573cc1fc38a6a4b2f02b]\n",
       "class E7--><a href=\"psysml:ac43cc4c-8177-486e-b5a5-e877f62f9bc5\" target=\"_top\" title=\"psysml:ac43cc4c-8177-486e-b5a5-e877f62f9bc5\" xlink:actuate=\"onRequest\" xlink:href=\"psysml:ac43cc4c-8177-486e-b5a5-e877f62f9bc5\" xlink:show=\"new\" xlink:title=\"psysml:ac43cc4c-8177-486e-b5a5-e877f62f9bc5\" xlink:type=\"simple\"><rect fill=\"#FFFFFF\" height=\"45.9375\" id=\"E7\" rx=\"10\" ry=\"10\" style=\"stroke: #383838; stroke-width: 1.5;\" width=\"42\" x=\"149\" y=\"41\"/><text fill=\"#000000\" font-family=\"sans-serif\" font-size=\"12\" font-style=\"italic\" lengthAdjust=\"spacingAndGlyphs\" textLength=\"40\" x=\"150\" y=\"57.1387\">«part»</text><text fill=\"#000000\" font-family=\"sans-serif\" font-size=\"12\" lengthAdjust=\"spacingAndGlyphs\" textLength=\"25\" x=\"157.5\" y=\"71.1074\">q: Q</text><line style=\"stroke: #383838; stroke-width: 1.5;\" x1=\"150\" x2=\"190\" y1=\"78.9375\" y2=\"78.9375\"/></a><!--MD5=[b9389687b975829384b498ac4b7476b2]\n",
       "class E8--><a href=\"psysml:ce952eae-8bb1-4ad0-9f02-4c42d4c1d0c7\" target=\"_top\" title=\"psysml:ce952eae-8bb1-4ad0-9f02-4c42d4c1d0c7\" xlink:actuate=\"onRequest\" xlink:href=\"psysml:ce952eae-8bb1-4ad0-9f02-4c42d4c1d0c7\" xlink:show=\"new\" xlink:title=\"psysml:ce952eae-8bb1-4ad0-9f02-4c42d4c1d0c7\" xlink:type=\"simple\"><rect fill=\"#FFFFFF\" height=\"59.9063\" id=\"E8\" rx=\"10\" ry=\"10\" style=\"stroke: #383838; stroke-width: 1.5;\" width=\"70\" x=\"32\" y=\"148\"/><text fill=\"#000000\" font-family=\"sans-serif\" font-size=\"12\" font-style=\"italic\" lengthAdjust=\"spacingAndGlyphs\" textLength=\"68\" x=\"33\" y=\"164.1387\">«variation»</text><text fill=\"#000000\" font-family=\"sans-serif\" font-size=\"12\" font-style=\"italic\" lengthAdjust=\"spacingAndGlyphs\" textLength=\"40\" x=\"47\" y=\"178.1074\">«part»</text><text fill=\"#000000\" font-family=\"sans-serif\" font-size=\"12\" lengthAdjust=\"spacingAndGlyphs\" textLength=\"22\" x=\"56\" y=\"192.0762\">v: P</text><line style=\"stroke: #383838; stroke-width: 1.5;\" x1=\"33\" x2=\"101\" y1=\"199.9063\" y2=\"199.9063\"/></a><!--MD5=[fd4143e9d270a159db93a4ea2a975926]\n",
       "class E9--><a href=\"psysml:572dfe4e-6d7c-4ba8-94a3-d7ce0272bed9\" target=\"_top\" title=\"psysml:572dfe4e-6d7c-4ba8-94a3-d7ce0272bed9\" xlink:actuate=\"onRequest\" xlink:href=\"psysml:572dfe4e-6d7c-4ba8-94a3-d7ce0272bed9\" xlink:show=\"new\" xlink:title=\"psysml:572dfe4e-6d7c-4ba8-94a3-d7ce0272bed9\" xlink:type=\"simple\"><rect fill=\"#FFFFFF\" height=\"88.3516\" id=\"E9\" rx=\"10\" ry=\"10\" style=\"stroke: #383838; stroke-width: 1.5;\" width=\"77\" x=\"32.5\" y=\"285\"/><text fill=\"#000000\" font-family=\"sans-serif\" font-size=\"12\" font-style=\"italic\" lengthAdjust=\"spacingAndGlyphs\" textLength=\"75\" x=\"33.5\" y=\"301.1387\">«reference»</text><text fill=\"#000000\" font-family=\"sans-serif\" font-size=\"12\" lengthAdjust=\"spacingAndGlyphs\" textLength=\"8\" x=\"67\" y=\"315.1074\">q</text><line style=\"stroke: #383838; stroke-width: 1.5;\" x1=\"33.5\" x2=\"108.5\" y1=\"322.9375\" y2=\"322.9375\"/><text fill=\"#000000\" font-family=\"sans-serif\" font-size=\"11\" lengthAdjust=\"spacingAndGlyphs\" textLength=\"23\" x=\"38.5\" y=\"353.9526\">b: B</text><text fill=\"#000000\" font-family=\"sans-serif\" font-size=\"11\" font-style=\"italic\" lengthAdjust=\"spacingAndGlyphs\" textLength=\"44\" x=\"38.5\" y=\"366.7573\">:&gt;&gt;P::a</text><line style=\"stroke: #383838; stroke-width: 1.0;\" x1=\"33.5\" x2=\"43.5\" y1=\"337.3398\" y2=\"337.3398\"/><text fill=\"#000000\" font-family=\"sans-serif\" font-size=\"11\" lengthAdjust=\"spacingAndGlyphs\" textLength=\"55\" x=\"43.5\" y=\"340.6479\">attributes</text><line style=\"stroke: #383838; stroke-width: 1.0;\" x1=\"98.5\" x2=\"108.5\" y1=\"337.3398\" y2=\"337.3398\"/></a><!--MD5=[96f4274e9e20536e775497830990834d]\n",
       "class E10--><a href=\"psysml:983a8093-9810-4637-96cc-9ee8fb3d9cf5\" target=\"_top\" title=\"psysml:983a8093-9810-4637-96cc-9ee8fb3d9cf5\" xlink:actuate=\"onRequest\" xlink:href=\"psysml:983a8093-9810-4637-96cc-9ee8fb3d9cf5\" xlink:show=\"new\" xlink:title=\"psysml:983a8093-9810-4637-96cc-9ee8fb3d9cf5\" xlink:type=\"simple\"><rect fill=\"#FFFFFF\" height=\"45.9375\" id=\"E10\" rx=\"10\" ry=\"10\" style=\"stroke: #383838; stroke-width: 1.5;\" width=\"42\" x=\"238\" y=\"155\"/><text fill=\"#000000\" font-family=\"sans-serif\" font-size=\"12\" font-style=\"italic\" lengthAdjust=\"spacingAndGlyphs\" textLength=\"40\" x=\"239\" y=\"171.1387\">«part»</text><text fill=\"#000000\" font-family=\"sans-serif\" font-size=\"12\" lengthAdjust=\"spacingAndGlyphs\" textLength=\"22\" x=\"248\" y=\"185.1074\">y: P</text><line style=\"stroke: #383838; stroke-width: 1.5;\" x1=\"239\" x2=\"279\" y1=\"192.9375\" y2=\"192.9375\"/></a><!--MD5=[05d275557350bfb9b23a4ef7222b4c39]\n",
       "link E3 to E2--><a href=\"psysml:9e57242c-9184-4252-9565-bec20c63fdb8\" target=\"_top\" title=\"psysml:9e57242c-9184-4252-9565-bec20c63fdb8\" xlink:actuate=\"onRequest\" xlink:href=\"psysml:9e57242c-9184-4252-9565-bec20c63fdb8\" xlink:show=\"new\" xlink:title=\"psysml:9e57242c-9184-4252-9565-bec20c63fdb8\" xlink:type=\"simple\"><path d=\"M190.67,201.26 C190.67,201.26 190.67,270.73 190.67,270.73 \" fill=\"none\" id=\"E3-&gt;E2\" style=\"stroke: #383838; stroke-width: 1.0;\"/><polygon fill=\"none\" points=\"197.67,270.73,190.67,290.73,183.67,270.73,197.67,270.73\" style=\"stroke: #383838; stroke-width: 1.0;\"/></a><!--MD5=[15ebcb19ae302d9b601edb458606d402]\n",
       "link E5 to E2--><a href=\"psysml:5cdbdbe7-d14c-45c9-a804-61f18115238e\" target=\"_top\" title=\"psysml:5cdbdbe7-d14c-45c9-a804-61f18115238e\" xlink:actuate=\"onRequest\" xlink:href=\"psysml:5cdbdbe7-d14c-45c9-a804-61f18115238e\" xlink:show=\"new\" xlink:title=\"psysml:5cdbdbe7-d14c-45c9-a804-61f18115238e\" xlink:type=\"simple\"><path d=\"M326.83,201.22 C326.83,202.93 326.83,204 326.83,204 C326.83,204 222.33,204 222.33,204 C222.33,204 222.33,270.82 222.33,270.82 \" fill=\"none\" id=\"E5-&gt;E2\" style=\"stroke: #383838; stroke-width: 1.0;\"/><polygon fill=\"none\" points=\"229.33,270.82,222.33,290.82,215.33,270.82,229.33,270.82\" style=\"stroke: #383838; stroke-width: 1.0;\"/></a><!--MD5=[9120cf2e5df3bff93db8f754bbbc09b4]\n",
       "link E5 to E6--><a href=\"psysml:052c6ce9-d9db-4da6-90c4-ac16555550ac\" target=\"_top\" title=\"psysml:052c6ce9-d9db-4da6-90c4-ac16555550ac\" xlink:actuate=\"onRequest\" xlink:href=\"psysml:052c6ce9-d9db-4da6-90c4-ac16555550ac\" xlink:show=\"new\" xlink:title=\"psysml:052c6ce9-d9db-4da6-90c4-ac16555550ac\" xlink:type=\"simple\"><path d=\"M338.67,211.26 C338.67,211.26 338.67,274.72 338.67,274.72 \" fill=\"none\" id=\"E5-E6\" style=\"stroke: #383838; stroke-width: 1.0;\"/><polygon fill=\"#383838\" points=\"338.67,284.72,341.67,276.72,335.67,276.72,338.67,284.72\" style=\"stroke: #383838; stroke-width: 1.0;\"/><path d=\"M330.2128,204.3382 A9,9 0 0 0 347.1272 204.3382\" fill=\"none\" style=\"stroke: #383838; stroke-width: 1.5;\"/><text fill=\"#000000\" font-family=\"sans-serif\" font-size=\"13\" lengthAdjust=\"spacingAndGlyphs\" textLength=\"60\" x=\"320\" y=\"251.0669\">«variant»</text></a><!--MD5=[14ccda38c055a5c0da953d572bc50960]\n",
       "link E7 to E3--><a href=\"psysml:648145d1-1ec9-42fc-8307-fa8910350658\" target=\"_top\" title=\"psysml:648145d1-1ec9-42fc-8307-fa8910350658\" xlink:actuate=\"onRequest\" xlink:href=\"psysml:648145d1-1ec9-42fc-8307-fa8910350658\" xlink:show=\"new\" xlink:title=\"psysml:648145d1-1ec9-42fc-8307-fa8910350658\" xlink:type=\"simple\"><path d=\"M170,87.07 C170,87.07 170,134.96 170,134.96 \" fill=\"none\" id=\"E7-&gt;E3\" style=\"stroke: #383838; stroke-width: 1.0;\"/><polygon fill=\"#FFFFFF\" points=\"170,154.96,163,135.96,177,135.96,170,154.96\" style=\"stroke: #383838; stroke-width: 1.0;\"/><ellipse cx=\"165\" cy=\"130.26\" fill=\"#383838\" rx=\"2\" ry=\"2\" style=\"stroke: #383838; stroke-width: 1.0;\"/><ellipse cx=\"175\" cy=\"130.26\" fill=\"#383838\" rx=\"2\" ry=\"2\" style=\"stroke: #383838; stroke-width: 1.0;\"/></a><!--MD5=[f1f3f9f2fc535e6147756cb86a7f2e32]\n",
       "link E8 to E2--><a href=\"psysml:19cda0c9-2775-4d9d-8cd8-191c5ad52b34\" target=\"_top\" title=\"psysml:19cda0c9-2775-4d9d-8cd8-191c5ad52b34\" xlink:actuate=\"onRequest\" xlink:href=\"psysml:19cda0c9-2775-4d9d-8cd8-191c5ad52b34\" xlink:show=\"new\" xlink:title=\"psysml:19cda0c9-2775-4d9d-8cd8-191c5ad52b34\" xlink:type=\"simple\"><path d=\"M102.23,206 C134.84,206 178.33,206 178.33,206 C178.33,206 178.33,270.76 178.33,270.76 \" fill=\"none\" id=\"E8-&gt;E2\" style=\"stroke: #383838; stroke-width: 1.0;\"/><polygon fill=\"#FFFFFF\" points=\"178.33,290.76,171.33,271.76,185.33,271.76,178.33,290.76\" style=\"stroke: #383838; stroke-width: 1.0;\"/><ellipse cx=\"173.33\" cy=\"266.06\" fill=\"#383838\" rx=\"2\" ry=\"2\" style=\"stroke: #383838; stroke-width: 1.0;\"/><ellipse cx=\"183.33\" cy=\"266.06\" fill=\"#383838\" rx=\"2\" ry=\"2\" style=\"stroke: #383838; stroke-width: 1.0;\"/></a><!--MD5=[ed10624c06dd9a4fa49ccf290e8b16a8]\n",
       "link E8 to E9--><a href=\"psysml:28d39c7a-e0c7-42b0-858e-2cb4e488f108\" target=\"_top\" title=\"psysml:28d39c7a-e0c7-42b0-858e-2cb4e488f108\" xlink:actuate=\"onRequest\" xlink:href=\"psysml:28d39c7a-e0c7-42b0-858e-2cb4e488f108\" xlink:show=\"new\" xlink:title=\"psysml:28d39c7a-e0c7-42b0-858e-2cb4e488f108\" xlink:type=\"simple\"><path d=\"M67.25,218.19 C67.25,218.19 67.25,274.83 67.25,274.83 \" fill=\"none\" id=\"E8-E9\" style=\"stroke: #383838; stroke-width: 1.0;\"/><polygon fill=\"#383838\" points=\"67.25,284.83,70.25,276.83,64.25,276.83,67.25,284.83\" style=\"stroke: #383838; stroke-width: 1.0;\"/><path d=\"M58.7928,211.2682 A9,9 0 0 0 75.7072 211.2682\" fill=\"none\" style=\"stroke: #383838; stroke-width: 1.5;\"/><text fill=\"#000000\" font-family=\"sans-serif\" font-size=\"13\" lengthAdjust=\"spacingAndGlyphs\" textLength=\"60\" x=\"70\" y=\"251.0669\">«variant»</text></a><!--MD5=[0f36bececdf0dff6e600d6f64214b0f1]\n",
       "link E10 to E2--><a href=\"psysml:8cfcd01d-a74f-43be-a680-d41b6ee6accc\" target=\"_top\" title=\"psysml:8cfcd01d-a74f-43be-a680-d41b6ee6accc\" xlink:actuate=\"onRequest\" xlink:href=\"psysml:8cfcd01d-a74f-43be-a680-d41b6ee6accc\" xlink:show=\"new\" xlink:title=\"psysml:8cfcd01d-a74f-43be-a680-d41b6ee6accc\" xlink:type=\"simple\"><path d=\"M237.73,178 C225.55,178 212.67,178 212.67,178 C212.67,178 212.67,270.9 212.67,270.9 \" fill=\"none\" id=\"E10-&gt;E2\" style=\"stroke: #383838; stroke-width: 1.0;\"/><polygon fill=\"#FFFFFF\" points=\"212.67,290.9,205.67,271.9,219.67,271.9,212.67,290.9\" style=\"stroke: #383838; stroke-width: 1.0;\"/><ellipse cx=\"207.67\" cy=\"266.2\" fill=\"#383838\" rx=\"2\" ry=\"2\" style=\"stroke: #383838; stroke-width: 1.0;\"/><ellipse cx=\"217.67\" cy=\"266.2\" fill=\"#383838\" rx=\"2\" ry=\"2\" style=\"stroke: #383838; stroke-width: 1.0;\"/></a><!--MD5=[46218fe3e9492150d64e01de84eb0b6a]\n",
       "@startuml\r\n",
       "skinparam linetype ortho\r\n",
       "skinparam monochrome true\r\n",
       "skinparam classbackgroundcolor white\r\n",
       "skinparam shadowing false\r\n",
       "skinparam wrapWidth 300\r\n",
       "hide circle\r\n",
       "\r\n",
       "package \"VariabilityTest\" as E1  [[psysml:c9192910-aa77-45a9-9ae3-16f7deb9d13d ]]  {\r\n",
       "comp def \"P\" as E2  <<(T,blue)part def>> [[psysml:28b4b804-815b-4815-9c5e-e5b09d6ccef7 ]] {\r\n",
       "- - attributes - -\r\n",
       "a\r\n",
       "}\r\n",
       "comp def \"Q\" as E3  <<(T,blue)part def>> [[psysml:3556ece0-f840-441c-8cd2-5d7027a1a805 ]] {\r\n",
       "}\r\n",
       "comp def \"B\" as E4  <<(T,blue)attribute def>> [[psysml:c1ea47d2-f15e-4f05-bf93-ec81669ca641 ]] {\r\n",
       "}\r\n",
       "comp def \"V\" as E5  <<(T,blue)part def>> [[psysml:735cd89a-e4b2-4dc5-b3d6-41534f400f39 ]] {\r\n",
       "}\r\n",
       "comp usage \"x: Q\" as E6  <<(T,blue)part>> [[psysml:0400016e-70f0-4405-a71c-97e49bd60e65 ]] {\r\n",
       "- - attributes - -\r\n",
       "b: B\\n//:>>P::a// \r\n",
       "}\r\n",
       "comp usage \"q: Q\" as E7  <<(T,blue)part>> [[psysml:ac43cc4c-8177-486e-b5a5-e877f62f9bc5 ]] {\r\n",
       "}\r\n",
       "comp usage \"v: P\" as E8  <<variation>>\\n <<(T,blue)part>> [[psysml:ce952eae-8bb1-4ad0-9f02-4c42d4c1d0c7 ]] {\r\n",
       "}\r\n",
       "comp usage \"q\" as E9  <<(T,blue)reference>> [[psysml:572dfe4e-6d7c-4ba8-94a3-d7ce0272bed9 ]] {\r\n",
       "- - attributes - -\r\n",
       "b: B\\n//:>>P::a// \r\n",
       "}\r\n",
       "comp usage \"y: P\" as E10  <<(T,blue)part>> [[psysml:983a8093-9810-4637-96cc-9ee8fb3d9cf5 ]] {\r\n",
       "}\r\n",
       "E3 - -|> E2 [[psysml:9e57242c-9184-4252-9565-bec20c63fdb8 ]] \r\n",
       "E5 - -|> E2 [[psysml:5cdbdbe7-d14c-45c9-a804-61f18115238e ]] \r\n",
       "E5 )- ->> E6 [[psysml:052c6ce9-d9db-4da6-90c4-ac16555550ac ]] : <<variant>>\r\n",
       "E7 - -:|> E3 [[psysml:648145d1-1ec9-42fc-8307-fa8910350658 ]] \r\n",
       "E8 - -:|> E2 [[psysml:19cda0c9-2775-4d9d-8cd8-191c5ad52b34 ]] \r\n",
       "E8 )- ->> E9 [[psysml:28d39c7a-e0c7-42b0-858e-2cb4e488f108 ]] : <<variant>>\r\n",
       "E10 - -:|> E2 [[psysml:8cfcd01d-a74f-43be-a680-d41b6ee6accc ]] \r\n",
       "}\r\n",
       "@enduml\r\n",
       "\n",
       "PlantUML version 1.2020.13(Sat Jun 13 12:26:38 UTC 2020)\n",
       "(EPL source distribution)\n",
       "Java Runtime: OpenJDK Runtime Environment\n",
       "JVM: OpenJDK 64-Bit Server VM\n",
       "Default Encoding: UTF-8\n",
       "Language: en\n",
       "Country: null\n",
       "--></g></svg>"
      ]
     },
     "execution_count": 56,
     "metadata": {},
     "output_type": "execute_result"
    }
   ],
   "source": [
    "%viz --style=\"ORTHOLINE\" --view=\"Sequence\" \"VariabilityTest\""
   ]
  },
  {
   "cell_type": "code",
   "execution_count": 57,
   "id": "0e52adde",
   "metadata": {
    "execution": {
     "iopub.execute_input": "2021-05-28T10:47:59.324096Z",
     "iopub.status.busy": "2021-05-28T10:47:59.323698Z",
     "iopub.status.idle": "2021-05-28T10:47:59.387870Z",
     "shell.execute_reply": "2021-05-28T10:47:59.386028Z"
    }
   },
   "outputs": [
    {
     "data": {
      "image/svg+xml": [
       "<?xml version=\"1.0\" encoding=\"UTF-8\" standalone=\"no\"?><svg xmlns=\"http://www.w3.org/2000/svg\" xmlns:xlink=\"http://www.w3.org/1999/xlink\" contentScriptType=\"application/ecmascript\" contentStyleType=\"text/css\" height=\"401px\" preserveAspectRatio=\"none\" style=\"width:419px;height:401px;\" version=\"1.1\" viewBox=\"0 0 419 401\" width=\"419px\" zoomAndPan=\"magnify\"><defs/><g><!--MD5=[fbc87193dbaf4d95561dea2c320d4a47]\n",
       "cluster E1--><a href=\"psysml:c9192910-aa77-45a9-9ae3-16f7deb9d13d\" target=\"_top\" title=\"psysml:c9192910-aa77-45a9-9ae3-16f7deb9d13d\" xlink:actuate=\"onRequest\" xlink:href=\"psysml:c9192910-aa77-45a9-9ae3-16f7deb9d13d\" xlink:show=\"new\" xlink:title=\"psysml:c9192910-aa77-45a9-9ae3-16f7deb9d13d\" xlink:type=\"simple\"><polygon fill=\"#FFFFFF\" points=\"16,6,134,6,141,28.2969,397,28.2969,397,389,16,389,16,6\" style=\"stroke: #000000; stroke-width: 1.5;\"/><line style=\"stroke: #000000; stroke-width: 1.5;\" x1=\"16\" x2=\"141\" y1=\"28.2969\" y2=\"28.2969\"/><text fill=\"#000000\" font-family=\"sans-serif\" font-size=\"14\" font-weight=\"bold\" lengthAdjust=\"spacingAndGlyphs\" textLength=\"112\" x=\"20\" y=\"20.9951\">VariabilityTest</text></a><!--MD5=[b4997ac47864f28c2f74865a473b2911]\n",
       "class E2--><a href=\"psysml:28b4b804-815b-4815-9c5e-e5b09d6ccef7\" target=\"_top\" title=\"psysml:28b4b804-815b-4815-9c5e-e5b09d6ccef7\" xlink:actuate=\"onRequest\" xlink:href=\"psysml:28b4b804-815b-4815-9c5e-e5b09d6ccef7\" xlink:show=\"new\" xlink:title=\"psysml:28b4b804-815b-4815-9c5e-e5b09d6ccef7\" xlink:type=\"simple\"><rect fill=\"#FFFFFF\" height=\"75.5469\" id=\"E2\" style=\"stroke: #383838; stroke-width: 1.5;\" width=\"66\" x=\"166\" y=\"291\"/><text fill=\"#000000\" font-family=\"sans-serif\" font-size=\"12\" font-style=\"italic\" lengthAdjust=\"spacingAndGlyphs\" textLength=\"64\" x=\"167\" y=\"307.1387\">«part def»</text><text fill=\"#000000\" font-family=\"sans-serif\" font-size=\"12\" lengthAdjust=\"spacingAndGlyphs\" textLength=\"8\" x=\"195\" y=\"321.1074\">P</text><line style=\"stroke: #383838; stroke-width: 1.5;\" x1=\"167\" x2=\"231\" y1=\"328.9375\" y2=\"328.9375\"/><text fill=\"#000000\" font-family=\"sans-serif\" font-size=\"11\" lengthAdjust=\"spacingAndGlyphs\" textLength=\"7\" x=\"172\" y=\"359.9526\">a</text><line style=\"stroke: #383838; stroke-width: 1.0;\" x1=\"167\" x2=\"171.5\" y1=\"343.3398\" y2=\"343.3398\"/><text fill=\"#000000\" font-family=\"sans-serif\" font-size=\"11\" lengthAdjust=\"spacingAndGlyphs\" textLength=\"55\" x=\"171.5\" y=\"346.6479\">attributes</text><line style=\"stroke: #383838; stroke-width: 1.0;\" x1=\"226.5\" x2=\"231\" y1=\"343.3398\" y2=\"343.3398\"/></a><!--MD5=[09b614a08d8cba4a07c9adeb5e0fee81]\n",
       "class E3--><a href=\"psysml:3556ece0-f840-441c-8cd2-5d7027a1a805\" target=\"_top\" title=\"psysml:3556ece0-f840-441c-8cd2-5d7027a1a805\" xlink:actuate=\"onRequest\" xlink:href=\"psysml:3556ece0-f840-441c-8cd2-5d7027a1a805\" xlink:show=\"new\" xlink:title=\"psysml:3556ece0-f840-441c-8cd2-5d7027a1a805\" xlink:type=\"simple\"><rect fill=\"#FFFFFF\" height=\"45.9375\" id=\"E3\" style=\"stroke: #383838; stroke-width: 1.5;\" width=\"66\" x=\"137\" y=\"155\"/><text fill=\"#000000\" font-family=\"sans-serif\" font-size=\"12\" font-style=\"italic\" lengthAdjust=\"spacingAndGlyphs\" textLength=\"64\" x=\"138\" y=\"171.1387\">«part def»</text><text fill=\"#000000\" font-family=\"sans-serif\" font-size=\"12\" lengthAdjust=\"spacingAndGlyphs\" textLength=\"9\" x=\"165.5\" y=\"185.1074\">Q</text><line style=\"stroke: #383838; stroke-width: 1.5;\" x1=\"138\" x2=\"202\" y1=\"192.9375\" y2=\"192.9375\"/></a><!--MD5=[ebbe1d658d1005bcc118a6aa81145e00]\n",
       "class E4--><a href=\"psysml:c1ea47d2-f15e-4f05-bf93-ec81669ca641\" target=\"_top\" title=\"psysml:c1ea47d2-f15e-4f05-bf93-ec81669ca641\" xlink:actuate=\"onRequest\" xlink:href=\"psysml:c1ea47d2-f15e-4f05-bf93-ec81669ca641\" xlink:show=\"new\" xlink:title=\"psysml:c1ea47d2-f15e-4f05-bf93-ec81669ca641\" xlink:type=\"simple\"><rect fill=\"#FFFFFF\" height=\"45.9375\" id=\"E4\" style=\"stroke: #383838; stroke-width: 1.5;\" width=\"95\" x=\"255.5\" y=\"41\"/><text fill=\"#000000\" font-family=\"sans-serif\" font-size=\"12\" font-style=\"italic\" lengthAdjust=\"spacingAndGlyphs\" textLength=\"93\" x=\"256.5\" y=\"57.1387\">«attribute def»</text><text fill=\"#000000\" font-family=\"sans-serif\" font-size=\"12\" lengthAdjust=\"spacingAndGlyphs\" textLength=\"8\" x=\"299\" y=\"71.1074\">B</text><line style=\"stroke: #383838; stroke-width: 1.5;\" x1=\"256.5\" x2=\"349.5\" y1=\"78.9375\" y2=\"78.9375\"/></a><!--MD5=[270fce915f116d4de14055a7c1d9a0f3]\n",
       "class E5--><a href=\"psysml:735cd89a-e4b2-4dc5-b3d6-41534f400f39\" target=\"_top\" title=\"psysml:735cd89a-e4b2-4dc5-b3d6-41534f400f39\" xlink:actuate=\"onRequest\" xlink:href=\"psysml:735cd89a-e4b2-4dc5-b3d6-41534f400f39\" xlink:show=\"new\" xlink:title=\"psysml:735cd89a-e4b2-4dc5-b3d6-41534f400f39\" xlink:type=\"simple\"><rect fill=\"#FFFFFF\" height=\"45.9375\" id=\"E5\" style=\"stroke: #383838; stroke-width: 1.5;\" width=\"66\" x=\"315\" y=\"155\"/><text fill=\"#000000\" font-family=\"sans-serif\" font-size=\"12\" font-style=\"italic\" lengthAdjust=\"spacingAndGlyphs\" textLength=\"64\" x=\"316\" y=\"171.1387\">«part def»</text><text fill=\"#000000\" font-family=\"sans-serif\" font-size=\"12\" lengthAdjust=\"spacingAndGlyphs\" textLength=\"8\" x=\"344\" y=\"185.1074\">V</text><line style=\"stroke: #383838; stroke-width: 1.5;\" x1=\"316\" x2=\"380\" y1=\"192.9375\" y2=\"192.9375\"/></a><!--MD5=[60a26617385b1d2d0262a64233df1f8d]\n",
       "class E6--><a href=\"psysml:0400016e-70f0-4405-a71c-97e49bd60e65\" target=\"_top\" title=\"psysml:0400016e-70f0-4405-a71c-97e49bd60e65\" xlink:actuate=\"onRequest\" xlink:href=\"psysml:0400016e-70f0-4405-a71c-97e49bd60e65\" xlink:show=\"new\" xlink:title=\"psysml:0400016e-70f0-4405-a71c-97e49bd60e65\" xlink:type=\"simple\"><rect fill=\"#FFFFFF\" height=\"88.3516\" id=\"E6\" rx=\"10\" ry=\"10\" style=\"stroke: #383838; stroke-width: 1.5;\" width=\"63\" x=\"287.5\" y=\"285\"/><text fill=\"#000000\" font-family=\"sans-serif\" font-size=\"12\" font-style=\"italic\" lengthAdjust=\"spacingAndGlyphs\" textLength=\"40\" x=\"299\" y=\"301.1387\">«part»</text><text fill=\"#000000\" font-family=\"sans-serif\" font-size=\"12\" lengthAdjust=\"spacingAndGlyphs\" textLength=\"23\" x=\"307.5\" y=\"315.1074\">x: Q</text><line style=\"stroke: #383838; stroke-width: 1.5;\" x1=\"288.5\" x2=\"349.5\" y1=\"322.9375\" y2=\"322.9375\"/><text fill=\"#000000\" font-family=\"sans-serif\" font-size=\"11\" lengthAdjust=\"spacingAndGlyphs\" textLength=\"23\" x=\"293.5\" y=\"353.9526\">b: B</text><text fill=\"#000000\" font-family=\"sans-serif\" font-size=\"11\" font-style=\"italic\" lengthAdjust=\"spacingAndGlyphs\" textLength=\"44\" x=\"293.5\" y=\"366.7573\">:&gt;&gt;P::a</text><line style=\"stroke: #383838; stroke-width: 1.0;\" x1=\"288.5\" x2=\"291.5\" y1=\"337.3398\" y2=\"337.3398\"/><text fill=\"#000000\" font-family=\"sans-serif\" font-size=\"11\" lengthAdjust=\"spacingAndGlyphs\" textLength=\"55\" x=\"291.5\" y=\"340.6479\">attributes</text><line style=\"stroke: #383838; stroke-width: 1.0;\" x1=\"346.5\" x2=\"349.5\" y1=\"337.3398\" y2=\"337.3398\"/></a><!--MD5=[2156ba9850f5573cc1fc38a6a4b2f02b]\n",
       "class E7--><a href=\"psysml:ac43cc4c-8177-486e-b5a5-e877f62f9bc5\" target=\"_top\" title=\"psysml:ac43cc4c-8177-486e-b5a5-e877f62f9bc5\" xlink:actuate=\"onRequest\" xlink:href=\"psysml:ac43cc4c-8177-486e-b5a5-e877f62f9bc5\" xlink:show=\"new\" xlink:title=\"psysml:ac43cc4c-8177-486e-b5a5-e877f62f9bc5\" xlink:type=\"simple\"><rect fill=\"#FFFFFF\" height=\"45.9375\" id=\"E7\" rx=\"10\" ry=\"10\" style=\"stroke: #383838; stroke-width: 1.5;\" width=\"42\" x=\"149\" y=\"41\"/><text fill=\"#000000\" font-family=\"sans-serif\" font-size=\"12\" font-style=\"italic\" lengthAdjust=\"spacingAndGlyphs\" textLength=\"40\" x=\"150\" y=\"57.1387\">«part»</text><text fill=\"#000000\" font-family=\"sans-serif\" font-size=\"12\" lengthAdjust=\"spacingAndGlyphs\" textLength=\"25\" x=\"157.5\" y=\"71.1074\">q: Q</text><line style=\"stroke: #383838; stroke-width: 1.5;\" x1=\"150\" x2=\"190\" y1=\"78.9375\" y2=\"78.9375\"/></a><!--MD5=[b9389687b975829384b498ac4b7476b2]\n",
       "class E8--><a href=\"psysml:ce952eae-8bb1-4ad0-9f02-4c42d4c1d0c7\" target=\"_top\" title=\"psysml:ce952eae-8bb1-4ad0-9f02-4c42d4c1d0c7\" xlink:actuate=\"onRequest\" xlink:href=\"psysml:ce952eae-8bb1-4ad0-9f02-4c42d4c1d0c7\" xlink:show=\"new\" xlink:title=\"psysml:ce952eae-8bb1-4ad0-9f02-4c42d4c1d0c7\" xlink:type=\"simple\"><rect fill=\"#FFFFFF\" height=\"59.9063\" id=\"E8\" rx=\"10\" ry=\"10\" style=\"stroke: #383838; stroke-width: 1.5;\" width=\"70\" x=\"32\" y=\"148\"/><text fill=\"#000000\" font-family=\"sans-serif\" font-size=\"12\" font-style=\"italic\" lengthAdjust=\"spacingAndGlyphs\" textLength=\"68\" x=\"33\" y=\"164.1387\">«variation»</text><text fill=\"#000000\" font-family=\"sans-serif\" font-size=\"12\" font-style=\"italic\" lengthAdjust=\"spacingAndGlyphs\" textLength=\"40\" x=\"47\" y=\"178.1074\">«part»</text><text fill=\"#000000\" font-family=\"sans-serif\" font-size=\"12\" lengthAdjust=\"spacingAndGlyphs\" textLength=\"22\" x=\"56\" y=\"192.0762\">v: P</text><line style=\"stroke: #383838; stroke-width: 1.5;\" x1=\"33\" x2=\"101\" y1=\"199.9063\" y2=\"199.9063\"/></a><!--MD5=[fd4143e9d270a159db93a4ea2a975926]\n",
       "class E9--><a href=\"psysml:572dfe4e-6d7c-4ba8-94a3-d7ce0272bed9\" target=\"_top\" title=\"psysml:572dfe4e-6d7c-4ba8-94a3-d7ce0272bed9\" xlink:actuate=\"onRequest\" xlink:href=\"psysml:572dfe4e-6d7c-4ba8-94a3-d7ce0272bed9\" xlink:show=\"new\" xlink:title=\"psysml:572dfe4e-6d7c-4ba8-94a3-d7ce0272bed9\" xlink:type=\"simple\"><rect fill=\"#FFFFFF\" height=\"88.3516\" id=\"E9\" rx=\"10\" ry=\"10\" style=\"stroke: #383838; stroke-width: 1.5;\" width=\"77\" x=\"32.5\" y=\"285\"/><text fill=\"#000000\" font-family=\"sans-serif\" font-size=\"12\" font-style=\"italic\" lengthAdjust=\"spacingAndGlyphs\" textLength=\"75\" x=\"33.5\" y=\"301.1387\">«reference»</text><text fill=\"#000000\" font-family=\"sans-serif\" font-size=\"12\" lengthAdjust=\"spacingAndGlyphs\" textLength=\"8\" x=\"67\" y=\"315.1074\">q</text><line style=\"stroke: #383838; stroke-width: 1.5;\" x1=\"33.5\" x2=\"108.5\" y1=\"322.9375\" y2=\"322.9375\"/><text fill=\"#000000\" font-family=\"sans-serif\" font-size=\"11\" lengthAdjust=\"spacingAndGlyphs\" textLength=\"23\" x=\"38.5\" y=\"353.9526\">b: B</text><text fill=\"#000000\" font-family=\"sans-serif\" font-size=\"11\" font-style=\"italic\" lengthAdjust=\"spacingAndGlyphs\" textLength=\"44\" x=\"38.5\" y=\"366.7573\">:&gt;&gt;P::a</text><line style=\"stroke: #383838; stroke-width: 1.0;\" x1=\"33.5\" x2=\"43.5\" y1=\"337.3398\" y2=\"337.3398\"/><text fill=\"#000000\" font-family=\"sans-serif\" font-size=\"11\" lengthAdjust=\"spacingAndGlyphs\" textLength=\"55\" x=\"43.5\" y=\"340.6479\">attributes</text><line style=\"stroke: #383838; stroke-width: 1.0;\" x1=\"98.5\" x2=\"108.5\" y1=\"337.3398\" y2=\"337.3398\"/></a><!--MD5=[96f4274e9e20536e775497830990834d]\n",
       "class E10--><a href=\"psysml:983a8093-9810-4637-96cc-9ee8fb3d9cf5\" target=\"_top\" title=\"psysml:983a8093-9810-4637-96cc-9ee8fb3d9cf5\" xlink:actuate=\"onRequest\" xlink:href=\"psysml:983a8093-9810-4637-96cc-9ee8fb3d9cf5\" xlink:show=\"new\" xlink:title=\"psysml:983a8093-9810-4637-96cc-9ee8fb3d9cf5\" xlink:type=\"simple\"><rect fill=\"#FFFFFF\" height=\"45.9375\" id=\"E10\" rx=\"10\" ry=\"10\" style=\"stroke: #383838; stroke-width: 1.5;\" width=\"42\" x=\"238\" y=\"155\"/><text fill=\"#000000\" font-family=\"sans-serif\" font-size=\"12\" font-style=\"italic\" lengthAdjust=\"spacingAndGlyphs\" textLength=\"40\" x=\"239\" y=\"171.1387\">«part»</text><text fill=\"#000000\" font-family=\"sans-serif\" font-size=\"12\" lengthAdjust=\"spacingAndGlyphs\" textLength=\"22\" x=\"248\" y=\"185.1074\">y: P</text><line style=\"stroke: #383838; stroke-width: 1.5;\" x1=\"239\" x2=\"279\" y1=\"192.9375\" y2=\"192.9375\"/></a><!--MD5=[05d275557350bfb9b23a4ef7222b4c39]\n",
       "link E3 to E2--><a href=\"psysml:9e57242c-9184-4252-9565-bec20c63fdb8\" target=\"_top\" title=\"psysml:9e57242c-9184-4252-9565-bec20c63fdb8\" xlink:actuate=\"onRequest\" xlink:href=\"psysml:9e57242c-9184-4252-9565-bec20c63fdb8\" xlink:show=\"new\" xlink:title=\"psysml:9e57242c-9184-4252-9565-bec20c63fdb8\" xlink:type=\"simple\"><path d=\"M190.67,201.26 C190.67,201.26 190.67,270.73 190.67,270.73 \" fill=\"none\" id=\"E3-&gt;E2\" style=\"stroke: #383838; stroke-width: 1.0;\"/><polygon fill=\"none\" points=\"197.67,270.73,190.67,290.73,183.67,270.73,197.67,270.73\" style=\"stroke: #383838; stroke-width: 1.0;\"/></a><!--MD5=[15ebcb19ae302d9b601edb458606d402]\n",
       "link E5 to E2--><a href=\"psysml:5cdbdbe7-d14c-45c9-a804-61f18115238e\" target=\"_top\" title=\"psysml:5cdbdbe7-d14c-45c9-a804-61f18115238e\" xlink:actuate=\"onRequest\" xlink:href=\"psysml:5cdbdbe7-d14c-45c9-a804-61f18115238e\" xlink:show=\"new\" xlink:title=\"psysml:5cdbdbe7-d14c-45c9-a804-61f18115238e\" xlink:type=\"simple\"><path d=\"M326.83,201.22 C326.83,202.93 326.83,204 326.83,204 C326.83,204 222.33,204 222.33,204 C222.33,204 222.33,270.82 222.33,270.82 \" fill=\"none\" id=\"E5-&gt;E2\" style=\"stroke: #383838; stroke-width: 1.0;\"/><polygon fill=\"none\" points=\"229.33,270.82,222.33,290.82,215.33,270.82,229.33,270.82\" style=\"stroke: #383838; stroke-width: 1.0;\"/></a><!--MD5=[9120cf2e5df3bff93db8f754bbbc09b4]\n",
       "link E5 to E6--><a href=\"psysml:052c6ce9-d9db-4da6-90c4-ac16555550ac\" target=\"_top\" title=\"psysml:052c6ce9-d9db-4da6-90c4-ac16555550ac\" xlink:actuate=\"onRequest\" xlink:href=\"psysml:052c6ce9-d9db-4da6-90c4-ac16555550ac\" xlink:show=\"new\" xlink:title=\"psysml:052c6ce9-d9db-4da6-90c4-ac16555550ac\" xlink:type=\"simple\"><path d=\"M338.67,211.26 C338.67,211.26 338.67,274.72 338.67,274.72 \" fill=\"none\" id=\"E5-E6\" style=\"stroke: #383838; stroke-width: 1.0;\"/><polygon fill=\"#383838\" points=\"338.67,284.72,341.67,276.72,335.67,276.72,338.67,284.72\" style=\"stroke: #383838; stroke-width: 1.0;\"/><path d=\"M330.2128,204.3382 A9,9 0 0 0 347.1272 204.3382\" fill=\"none\" style=\"stroke: #383838; stroke-width: 1.5;\"/><text fill=\"#000000\" font-family=\"sans-serif\" font-size=\"13\" lengthAdjust=\"spacingAndGlyphs\" textLength=\"60\" x=\"320\" y=\"251.0669\">«variant»</text></a><!--MD5=[14ccda38c055a5c0da953d572bc50960]\n",
       "link E7 to E3--><a href=\"psysml:648145d1-1ec9-42fc-8307-fa8910350658\" target=\"_top\" title=\"psysml:648145d1-1ec9-42fc-8307-fa8910350658\" xlink:actuate=\"onRequest\" xlink:href=\"psysml:648145d1-1ec9-42fc-8307-fa8910350658\" xlink:show=\"new\" xlink:title=\"psysml:648145d1-1ec9-42fc-8307-fa8910350658\" xlink:type=\"simple\"><path d=\"M170,87.07 C170,87.07 170,134.96 170,134.96 \" fill=\"none\" id=\"E7-&gt;E3\" style=\"stroke: #383838; stroke-width: 1.0;\"/><polygon fill=\"#FFFFFF\" points=\"170,154.96,163,135.96,177,135.96,170,154.96\" style=\"stroke: #383838; stroke-width: 1.0;\"/><ellipse cx=\"165\" cy=\"130.26\" fill=\"#383838\" rx=\"2\" ry=\"2\" style=\"stroke: #383838; stroke-width: 1.0;\"/><ellipse cx=\"175\" cy=\"130.26\" fill=\"#383838\" rx=\"2\" ry=\"2\" style=\"stroke: #383838; stroke-width: 1.0;\"/></a><!--MD5=[f1f3f9f2fc535e6147756cb86a7f2e32]\n",
       "link E8 to E2--><a href=\"psysml:19cda0c9-2775-4d9d-8cd8-191c5ad52b34\" target=\"_top\" title=\"psysml:19cda0c9-2775-4d9d-8cd8-191c5ad52b34\" xlink:actuate=\"onRequest\" xlink:href=\"psysml:19cda0c9-2775-4d9d-8cd8-191c5ad52b34\" xlink:show=\"new\" xlink:title=\"psysml:19cda0c9-2775-4d9d-8cd8-191c5ad52b34\" xlink:type=\"simple\"><path d=\"M102.23,206 C134.84,206 178.33,206 178.33,206 C178.33,206 178.33,270.76 178.33,270.76 \" fill=\"none\" id=\"E8-&gt;E2\" style=\"stroke: #383838; stroke-width: 1.0;\"/><polygon fill=\"#FFFFFF\" points=\"178.33,290.76,171.33,271.76,185.33,271.76,178.33,290.76\" style=\"stroke: #383838; stroke-width: 1.0;\"/><ellipse cx=\"173.33\" cy=\"266.06\" fill=\"#383838\" rx=\"2\" ry=\"2\" style=\"stroke: #383838; stroke-width: 1.0;\"/><ellipse cx=\"183.33\" cy=\"266.06\" fill=\"#383838\" rx=\"2\" ry=\"2\" style=\"stroke: #383838; stroke-width: 1.0;\"/></a><!--MD5=[ed10624c06dd9a4fa49ccf290e8b16a8]\n",
       "link E8 to E9--><a href=\"psysml:28d39c7a-e0c7-42b0-858e-2cb4e488f108\" target=\"_top\" title=\"psysml:28d39c7a-e0c7-42b0-858e-2cb4e488f108\" xlink:actuate=\"onRequest\" xlink:href=\"psysml:28d39c7a-e0c7-42b0-858e-2cb4e488f108\" xlink:show=\"new\" xlink:title=\"psysml:28d39c7a-e0c7-42b0-858e-2cb4e488f108\" xlink:type=\"simple\"><path d=\"M67.25,218.19 C67.25,218.19 67.25,274.83 67.25,274.83 \" fill=\"none\" id=\"E8-E9\" style=\"stroke: #383838; stroke-width: 1.0;\"/><polygon fill=\"#383838\" points=\"67.25,284.83,70.25,276.83,64.25,276.83,67.25,284.83\" style=\"stroke: #383838; stroke-width: 1.0;\"/><path d=\"M58.7928,211.2682 A9,9 0 0 0 75.7072 211.2682\" fill=\"none\" style=\"stroke: #383838; stroke-width: 1.5;\"/><text fill=\"#000000\" font-family=\"sans-serif\" font-size=\"13\" lengthAdjust=\"spacingAndGlyphs\" textLength=\"60\" x=\"70\" y=\"251.0669\">«variant»</text></a><!--MD5=[0f36bececdf0dff6e600d6f64214b0f1]\n",
       "link E10 to E2--><a href=\"psysml:8cfcd01d-a74f-43be-a680-d41b6ee6accc\" target=\"_top\" title=\"psysml:8cfcd01d-a74f-43be-a680-d41b6ee6accc\" xlink:actuate=\"onRequest\" xlink:href=\"psysml:8cfcd01d-a74f-43be-a680-d41b6ee6accc\" xlink:show=\"new\" xlink:title=\"psysml:8cfcd01d-a74f-43be-a680-d41b6ee6accc\" xlink:type=\"simple\"><path d=\"M237.73,178 C225.55,178 212.67,178 212.67,178 C212.67,178 212.67,270.9 212.67,270.9 \" fill=\"none\" id=\"E10-&gt;E2\" style=\"stroke: #383838; stroke-width: 1.0;\"/><polygon fill=\"#FFFFFF\" points=\"212.67,290.9,205.67,271.9,219.67,271.9,212.67,290.9\" style=\"stroke: #383838; stroke-width: 1.0;\"/><ellipse cx=\"207.67\" cy=\"266.2\" fill=\"#383838\" rx=\"2\" ry=\"2\" style=\"stroke: #383838; stroke-width: 1.0;\"/><ellipse cx=\"217.67\" cy=\"266.2\" fill=\"#383838\" rx=\"2\" ry=\"2\" style=\"stroke: #383838; stroke-width: 1.0;\"/></a><!--MD5=[46218fe3e9492150d64e01de84eb0b6a]\n",
       "@startuml\r\n",
       "skinparam linetype ortho\r\n",
       "skinparam monochrome true\r\n",
       "skinparam classbackgroundcolor white\r\n",
       "skinparam shadowing false\r\n",
       "skinparam wrapWidth 300\r\n",
       "hide circle\r\n",
       "\r\n",
       "package \"VariabilityTest\" as E1  [[psysml:c9192910-aa77-45a9-9ae3-16f7deb9d13d ]]  {\r\n",
       "comp def \"P\" as E2  <<(T,blue)part def>> [[psysml:28b4b804-815b-4815-9c5e-e5b09d6ccef7 ]] {\r\n",
       "- - attributes - -\r\n",
       "a\r\n",
       "}\r\n",
       "comp def \"Q\" as E3  <<(T,blue)part def>> [[psysml:3556ece0-f840-441c-8cd2-5d7027a1a805 ]] {\r\n",
       "}\r\n",
       "comp def \"B\" as E4  <<(T,blue)attribute def>> [[psysml:c1ea47d2-f15e-4f05-bf93-ec81669ca641 ]] {\r\n",
       "}\r\n",
       "comp def \"V\" as E5  <<(T,blue)part def>> [[psysml:735cd89a-e4b2-4dc5-b3d6-41534f400f39 ]] {\r\n",
       "}\r\n",
       "comp usage \"x: Q\" as E6  <<(T,blue)part>> [[psysml:0400016e-70f0-4405-a71c-97e49bd60e65 ]] {\r\n",
       "- - attributes - -\r\n",
       "b: B\\n//:>>P::a// \r\n",
       "}\r\n",
       "comp usage \"q: Q\" as E7  <<(T,blue)part>> [[psysml:ac43cc4c-8177-486e-b5a5-e877f62f9bc5 ]] {\r\n",
       "}\r\n",
       "comp usage \"v: P\" as E8  <<variation>>\\n <<(T,blue)part>> [[psysml:ce952eae-8bb1-4ad0-9f02-4c42d4c1d0c7 ]] {\r\n",
       "}\r\n",
       "comp usage \"q\" as E9  <<(T,blue)reference>> [[psysml:572dfe4e-6d7c-4ba8-94a3-d7ce0272bed9 ]] {\r\n",
       "- - attributes - -\r\n",
       "b: B\\n//:>>P::a// \r\n",
       "}\r\n",
       "comp usage \"y: P\" as E10  <<(T,blue)part>> [[psysml:983a8093-9810-4637-96cc-9ee8fb3d9cf5 ]] {\r\n",
       "}\r\n",
       "E3 - -|> E2 [[psysml:9e57242c-9184-4252-9565-bec20c63fdb8 ]] \r\n",
       "E5 - -|> E2 [[psysml:5cdbdbe7-d14c-45c9-a804-61f18115238e ]] \r\n",
       "E5 )- ->> E6 [[psysml:052c6ce9-d9db-4da6-90c4-ac16555550ac ]] : <<variant>>\r\n",
       "E7 - -:|> E3 [[psysml:648145d1-1ec9-42fc-8307-fa8910350658 ]] \r\n",
       "E8 - -:|> E2 [[psysml:19cda0c9-2775-4d9d-8cd8-191c5ad52b34 ]] \r\n",
       "E8 )- ->> E9 [[psysml:28d39c7a-e0c7-42b0-858e-2cb4e488f108 ]] : <<variant>>\r\n",
       "E10 - -:|> E2 [[psysml:8cfcd01d-a74f-43be-a680-d41b6ee6accc ]] \r\n",
       "}\r\n",
       "@enduml\r\n",
       "\n",
       "PlantUML version 1.2020.13(Sat Jun 13 12:26:38 UTC 2020)\n",
       "(EPL source distribution)\n",
       "Java Runtime: OpenJDK Runtime Environment\n",
       "JVM: OpenJDK 64-Bit Server VM\n",
       "Default Encoding: UTF-8\n",
       "Language: en\n",
       "Country: null\n",
       "--></g></svg>"
      ]
     },
     "execution_count": 57,
     "metadata": {},
     "output_type": "execute_result"
    }
   ],
   "source": [
    "%viz --style=\"ORTHOLINE\" --view=\"MIXED\" \"VariabilityTest\""
   ]
  }
 ],
 "metadata": {
  "kernelspec": {
   "display_name": "SysML",
   "language": "sysml",
   "name": "sysml"
  },
  "language_info": {
   "codemirror_mode": "sysml",
   "file_extension": ".sysml",
   "mimetype": "text/x-sysml",
   "name": "SysML",
   "pygments_lexer": "java",
   "version": "1.0.0"
  }
 },
 "nbformat": 4,
 "nbformat_minor": 5
}
