{
 "cells": [
  {
   "cell_type": "markdown",
   "id": "1a126dd6",
   "metadata": {},
   "source": [
    "# SysML v2 Test Suite\n",
    "\n",
    "This can notebook can be cleared using menu `Edit --> Clear All Outputs` and then all cells can be\n",
    "run using menu `Run --> Run All Cells`.\n",
    "\n",
    "**WARNING**: This file is generated, all modifications here will be ignored.\n"
   ]
  },
  {
   "cell_type": "markdown",
   "id": "e51f1720",
   "metadata": {},
   "source": [
    "## File: ../../sysml/src/examples/Simple Tests/DefaultValueTest.sysml"
   ]
  },
  {
   "cell_type": "code",
   "execution_count": 1,
   "id": "ff23eb11",
   "metadata": {
    "execution": {
     "iopub.execute_input": "2022-02-18T10:51:37.920637Z",
     "iopub.status.busy": "2022-02-18T10:51:37.919052Z",
     "iopub.status.idle": "2022-02-18T10:51:38.114530Z",
     "shell.execute_reply": "2022-02-18T10:51:38.114216Z"
    }
   },
   "outputs": [
    {
     "data": {
      "text/plain": [
       "Package DefaultValueTest (62461218-5e08-4fe5-862b-f9b947ca1841)\n"
      ]
     },
     "execution_count": 1,
     "metadata": {},
     "output_type": "execute_result"
    }
   ],
   "source": [
    "package DefaultValueTest {\n",
    "\t\n",
    "\tpart def V {\n",
    "\t\tattribute m default = 10;\n",
    "\t\tattribute n = 20;\n",
    "\t}\n",
    "\t\n",
    "\tpart v1 : V {\n",
    "\t\tattribute :>> m = 20;\n",
    "\t}\n",
    "\t\n",
    "\tpart def W :> V {\n",
    "\t\tattribute :>> m default = n;\n",
    "\t}\n",
    "\t\n",
    "\tpart v2 = W();\n",
    "\t\n",
    "}"
   ]
  },
  {
   "cell_type": "code",
   "execution_count": 2,
   "id": "d1ac5004",
   "metadata": {
    "execution": {
     "iopub.execute_input": "2022-02-18T10:51:38.165200Z",
     "iopub.status.busy": "2022-02-18T10:51:38.164924Z",
     "iopub.status.idle": "2022-02-18T10:51:38.697915Z",
     "shell.execute_reply": "2022-02-18T10:51:38.697415Z"
    }
   },
   "outputs": [
    {
     "data": {
      "image/svg+xml": [
       "<?xml version=\"1.0\" encoding=\"UTF-8\" standalone=\"no\"?><svg xmlns=\"http://www.w3.org/2000/svg\" xmlns:xlink=\"http://www.w3.org/1999/xlink\" contentScriptType=\"application/ecmascript\" contentStyleType=\"text/css\" height=\"305px\" preserveAspectRatio=\"none\" style=\"width:349px;height:305px;\" version=\"1.1\" viewBox=\"0 0 349 305\" width=\"349px\" zoomAndPan=\"magnify\"><defs/><g><!--MD5=[fbc87193dbaf4d95561dea2c320d4a47]\n",
       "cluster E1--><a href=\"psysml:6839459c-d74b-4e54-a7fb-96b2013b0c1a\" target=\"_top\" title=\"psysml:6839459c-d74b-4e54-a7fb-96b2013b0c1a\" xlink:actuate=\"onRequest\" xlink:href=\"psysml:6839459c-d74b-4e54-a7fb-96b2013b0c1a\" xlink:show=\"new\" xlink:title=\"psysml:6839459c-d74b-4e54-a7fb-96b2013b0c1a\" xlink:type=\"simple\"><polygon fill=\"#FFFFFF\" points=\"16,6,140,6,147,28.2969,327,28.2969,327,293,16,293,16,6\" style=\"stroke: #000000; stroke-width: 1.5;\"/><line style=\"stroke: #000000; stroke-width: 1.5;\" x1=\"16\" x2=\"147\" y1=\"28.2969\" y2=\"28.2969\"/><text fill=\"#000000\" font-family=\"sans-serif\" font-size=\"14\" font-weight=\"bold\" lengthAdjust=\"spacingAndGlyphs\" textLength=\"118\" x=\"20\" y=\"20.9951\">DefaultValueTest</text></a><!--MD5=[b4997ac47864f28c2f74865a473b2911]\n",
       "class E2--><a href=\"psysml:f6ad7545-3639-41cb-8da0-571497d98dc5\" target=\"_top\" title=\"psysml:f6ad7545-3639-41cb-8da0-571497d98dc5\" xlink:actuate=\"onRequest\" xlink:href=\"psysml:f6ad7545-3639-41cb-8da0-571497d98dc5\" xlink:show=\"new\" xlink:title=\"psysml:f6ad7545-3639-41cb-8da0-571497d98dc5\" xlink:type=\"simple\"><rect fill=\"#FFFFFF\" height=\"88.3516\" id=\"E2\" style=\"stroke: #383838; stroke-width: 1.5;\" width=\"106\" x=\"156\" y=\"189\"/><text fill=\"#000000\" font-family=\"sans-serif\" font-size=\"12\" font-style=\"italic\" lengthAdjust=\"spacingAndGlyphs\" textLength=\"68\" x=\"175\" y=\"205.1387\">«part  def»</text><text fill=\"#000000\" font-family=\"sans-serif\" font-size=\"12\" lengthAdjust=\"spacingAndGlyphs\" textLength=\"8\" x=\"205\" y=\"219.1074\">V</text><line style=\"stroke: #383838; stroke-width: 1.5;\" x1=\"157\" x2=\"261\" y1=\"226.9375\" y2=\"226.9375\"/><text fill=\"#000000\" font-family=\"sans-serif\" font-size=\"11\" lengthAdjust=\"spacingAndGlyphs\" textLength=\"94\" x=\"162\" y=\"257.9526\">m=default = 10;</text><text fill=\"#000000\" font-family=\"sans-serif\" font-size=\"11\" lengthAdjust=\"spacingAndGlyphs\" textLength=\"38\" x=\"162\" y=\"270.7573\">n= 20;</text><line style=\"stroke: #383838; stroke-width: 1.0;\" x1=\"157\" x2=\"181.5\" y1=\"241.3398\" y2=\"241.3398\"/><text fill=\"#000000\" font-family=\"sans-serif\" font-size=\"11\" lengthAdjust=\"spacingAndGlyphs\" textLength=\"55\" x=\"181.5\" y=\"244.6479\">attributes</text><line style=\"stroke: #383838; stroke-width: 1.0;\" x1=\"236.5\" x2=\"261\" y1=\"241.3398\" y2=\"241.3398\"/></a><!--MD5=[09b614a08d8cba4a07c9adeb5e0fee81]\n",
       "class E3--><a href=\"psysml:1ac351b0-bbdc-4492-9f99-b540f7d23706\" target=\"_top\" title=\"psysml:1ac351b0-bbdc-4492-9f99-b540f7d23706\" xlink:actuate=\"onRequest\" xlink:href=\"psysml:1ac351b0-bbdc-4492-9f99-b540f7d23706\" xlink:show=\"new\" xlink:title=\"psysml:1ac351b0-bbdc-4492-9f99-b540f7d23706\" xlink:type=\"simple\"><rect fill=\"#FFFFFF\" height=\"88.3516\" id=\"E3\" rx=\"10\" ry=\"10\" style=\"stroke: #383838; stroke-width: 1.5;\" width=\"63\" x=\"247.5\" y=\"41\"/><text fill=\"#000000\" font-family=\"sans-serif\" font-size=\"12\" font-style=\"italic\" lengthAdjust=\"spacingAndGlyphs\" textLength=\"40\" x=\"259\" y=\"57.1387\">«part»</text><text fill=\"#000000\" font-family=\"sans-serif\" font-size=\"12\" lengthAdjust=\"spacingAndGlyphs\" textLength=\"30\" x=\"262\" y=\"71.1074\">v1: V</text><line style=\"stroke: #383838; stroke-width: 1.5;\" x1=\"248.5\" x2=\"309.5\" y1=\"78.9375\" y2=\"78.9375\"/><text fill=\"#000000\" font-family=\"sans-serif\" font-size=\"11\" lengthAdjust=\"spacingAndGlyphs\" textLength=\"42\" x=\"253.5\" y=\"109.9526\">m= 20;</text><text fill=\"#000000\" font-family=\"sans-serif\" font-size=\"11\" font-style=\"italic\" lengthAdjust=\"spacingAndGlyphs\" textLength=\"48\" x=\"253.5\" y=\"122.7573\">:&gt;&gt;V::m</text><line style=\"stroke: #383838; stroke-width: 1.0;\" x1=\"248.5\" x2=\"251.5\" y1=\"93.3398\" y2=\"93.3398\"/><text fill=\"#000000\" font-family=\"sans-serif\" font-size=\"11\" lengthAdjust=\"spacingAndGlyphs\" textLength=\"55\" x=\"251.5\" y=\"96.6479\">attributes</text><line style=\"stroke: #383838; stroke-width: 1.0;\" x1=\"306.5\" x2=\"309.5\" y1=\"93.3398\" y2=\"93.3398\"/></a><!--MD5=[ebbe1d658d1005bcc118a6aa81145e00]\n",
       "class E4--><a href=\"psysml:aeba74e7-35ad-441a-aaf4-220a7e48fb18\" target=\"_top\" title=\"psysml:aeba74e7-35ad-441a-aaf4-220a7e48fb18\" xlink:actuate=\"onRequest\" xlink:href=\"psysml:aeba74e7-35ad-441a-aaf4-220a7e48fb18\" xlink:show=\"new\" xlink:title=\"psysml:aeba74e7-35ad-441a-aaf4-220a7e48fb18\" xlink:type=\"simple\"><rect fill=\"#FFFFFF\" height=\"88.3516\" id=\"E4\" style=\"stroke: #383838; stroke-width: 1.5;\" width=\"103\" x=\"109.5\" y=\"41\"/><text fill=\"#000000\" font-family=\"sans-serif\" font-size=\"12\" font-style=\"italic\" lengthAdjust=\"spacingAndGlyphs\" textLength=\"68\" x=\"127\" y=\"57.1387\">«part  def»</text><text fill=\"#000000\" font-family=\"sans-serif\" font-size=\"12\" lengthAdjust=\"spacingAndGlyphs\" textLength=\"11\" x=\"155.5\" y=\"71.1074\">W</text><line style=\"stroke: #383838; stroke-width: 1.5;\" x1=\"110.5\" x2=\"211.5\" y1=\"78.9375\" y2=\"78.9375\"/><text fill=\"#000000\" font-family=\"sans-serif\" font-size=\"11\" lengthAdjust=\"spacingAndGlyphs\" textLength=\"87\" x=\"115.5\" y=\"109.9526\">m=default = n;</text><text fill=\"#000000\" font-family=\"sans-serif\" font-size=\"11\" font-style=\"italic\" lengthAdjust=\"spacingAndGlyphs\" textLength=\"48\" x=\"115.5\" y=\"122.7573\">:&gt;&gt;V::m</text><line style=\"stroke: #383838; stroke-width: 1.0;\" x1=\"110.5\" x2=\"133.5\" y1=\"93.3398\" y2=\"93.3398\"/><text fill=\"#000000\" font-family=\"sans-serif\" font-size=\"11\" lengthAdjust=\"spacingAndGlyphs\" textLength=\"55\" x=\"133.5\" y=\"96.6479\">attributes</text><line style=\"stroke: #383838; stroke-width: 1.0;\" x1=\"188.5\" x2=\"211.5\" y1=\"93.3398\" y2=\"93.3398\"/></a><!--MD5=[270fce915f116d4de14055a7c1d9a0f3]\n",
       "class E5--><a href=\"psysml:8648f4f6-facd-4996-a918-0994903b340f\" target=\"_top\" title=\"psysml:8648f4f6-facd-4996-a918-0994903b340f\" xlink:actuate=\"onRequest\" xlink:href=\"psysml:8648f4f6-facd-4996-a918-0994903b340f\" xlink:show=\"new\" xlink:title=\"psysml:8648f4f6-facd-4996-a918-0994903b340f\" xlink:type=\"simple\"><rect fill=\"#FFFFFF\" height=\"45.9375\" id=\"E5\" rx=\"10\" ry=\"10\" style=\"stroke: #383838; stroke-width: 1.5;\" width=\"42\" x=\"32\" y=\"62\"/><text fill=\"#000000\" font-family=\"sans-serif\" font-size=\"12\" font-style=\"italic\" lengthAdjust=\"spacingAndGlyphs\" textLength=\"40\" x=\"33\" y=\"78.1387\">«part»</text><text fill=\"#000000\" font-family=\"sans-serif\" font-size=\"12\" lengthAdjust=\"spacingAndGlyphs\" textLength=\"14\" x=\"44\" y=\"92.1074\">v2</text><line style=\"stroke: #383838; stroke-width: 1.5;\" x1=\"33\" x2=\"73\" y1=\"99.9375\" y2=\"99.9375\"/></a><!--MD5=[05d275557350bfb9b23a4ef7222b4c39]\n",
       "link E3 to E2--><a href=\"psysml:f9d68518-1ffd-4856-b3d4-4b8d752762cd\" target=\"_top\" title=\"psysml:f9d68518-1ffd-4856-b3d4-4b8d752762cd\" xlink:actuate=\"onRequest\" xlink:href=\"psysml:f9d68518-1ffd-4856-b3d4-4b8d752762cd\" xlink:show=\"new\" xlink:title=\"psysml:f9d68518-1ffd-4856-b3d4-4b8d752762cd\" xlink:type=\"simple\"><path d=\"M258.38,129.02 C252.17,141.97 245.22,156.45 238.55,170.36 \" fill=\"none\" id=\"E3-&gt;E2\" style=\"stroke: #383838; stroke-width: 1.0;\"/><polygon fill=\"#FFFFFF\" points=\"229.72,188.79,231.6151,168.6304,244.2413,174.6786,229.72,188.79\" style=\"stroke: #383838; stroke-width: 1.0;\"/><ellipse cx=\"235.8813\" cy=\"164.3538\" fill=\"#383838\" rx=\"2\" ry=\"2\" style=\"stroke: #383838; stroke-width: 1.0;\"/><ellipse cx=\"244.9\" cy=\"168.6739\" fill=\"#383838\" rx=\"2\" ry=\"2\" style=\"stroke: #383838; stroke-width: 1.0;\"/></a><!--MD5=[185131fc0dcab0a4505a2ebe144e961b]\n",
       "link E4 to E2--><a href=\"psysml:13494711-98b1-4251-8963-46d1e0c35503\" target=\"_top\" title=\"psysml:13494711-98b1-4251-8963-46d1e0c35503\" xlink:actuate=\"onRequest\" xlink:href=\"psysml:13494711-98b1-4251-8963-46d1e0c35503\" xlink:show=\"new\" xlink:title=\"psysml:13494711-98b1-4251-8963-46d1e0c35503\" xlink:type=\"simple\"><path d=\"M175.14,129.02 C179.3,141.67 183.94,155.79 188.42,169.41 \" fill=\"none\" id=\"E4-&gt;E2\" style=\"stroke: #383838; stroke-width: 1.0;\"/><polygon fill=\"none\" points=\"195.2,167.6,194.79,188.79,181.9,171.97,195.2,167.6\" style=\"stroke: #383838; stroke-width: 1.0;\"/></a><!--MD5=[742bb30bdc9d5e85020c9b8041e725b8]\n",
       "@startuml\r\n",
       " skinparam monochrome true\r\n",
       "skinparam classbackgroundcolor white\r\n",
       "skinparam shadowing false\r\n",
       "skinparam wrapWidth 300\r\n",
       "hide circle\r\n",
       "\r\n",
       "package \"DefaultValueTest\" as E1  [[psysml:6839459c-d74b-4e54-a7fb-96b2013b0c1a ]]  {\r\n",
       "comp def \"V\" as E2  <<(T,blue) part  def>> [[psysml:f6ad7545-3639-41cb-8da0-571497d98dc5 ]] {\r\n",
       "- - attributes - -\r\n",
       "m=default = 10; \r\n",
       "n= 20; \r\n",
       "}\r\n",
       "comp usage \"v1: V \" as E3  <<(T,blue) part>> [[psysml:1ac351b0-bbdc-4492-9f99-b540f7d23706 ]] {\r\n",
       "- - attributes - -\r\n",
       "m= 20; \\n//:>>V::m// \r\n",
       "}\r\n",
       "comp def \"W\" as E4  <<(T,blue) part  def>> [[psysml:aeba74e7-35ad-441a-aaf4-220a7e48fb18 ]] {\r\n",
       "- - attributes - -\r\n",
       "m=default = n; \\n//:>>V::m// \r\n",
       "}\r\n",
       "comp usage \"v2 \" as E5  <<(T,blue) part>> [[psysml:8648f4f6-facd-4996-a918-0994903b340f ]] {\r\n",
       "}\r\n",
       "}\r\n",
       "E3 - -:|> E2 [[psysml:f9d68518-1ffd-4856-b3d4-4b8d752762cd ]] \r\n",
       "E4 - -|> E2 [[psysml:13494711-98b1-4251-8963-46d1e0c35503 ]] \r\n",
       "@enduml\r\n",
       "\n",
       "PlantUML version 1.2020.13(Sat Jun 13 12:26:38 UTC 2020)\n",
       "(EPL source distribution)\n",
       "Java Runtime: OpenJDK Runtime Environment\n",
       "JVM: OpenJDK 64-Bit Server VM\n",
       "Default Encoding: UTF-8\n",
       "Language: en\n",
       "Country: null\n",
       "--></g></svg>"
      ]
     },
     "execution_count": 2,
     "metadata": {},
     "output_type": "execute_result"
    }
   ],
   "source": [
    "%viz --style=\"COMPTREE\" --view=\"Default\" \"DefaultValueTest\""
   ]
  },
  {
   "cell_type": "code",
   "execution_count": 3,
   "id": "db786724",
   "metadata": {
    "execution": {
     "iopub.execute_input": "2022-02-18T10:51:38.746535Z",
     "iopub.status.busy": "2022-02-18T10:51:38.746294Z",
     "iopub.status.idle": "2022-02-18T10:51:38.846073Z",
     "shell.execute_reply": "2022-02-18T10:51:38.845244Z"
    }
   },
   "outputs": [
    {
     "data": {
      "image/svg+xml": [
       "<?xml version=\"1.0\" encoding=\"UTF-8\" standalone=\"no\"?><svg xmlns=\"http://www.w3.org/2000/svg\" xmlns:xlink=\"http://www.w3.org/1999/xlink\" contentScriptType=\"application/ecmascript\" contentStyleType=\"text/css\" height=\"305px\" preserveAspectRatio=\"none\" style=\"width:349px;height:305px;\" version=\"1.1\" viewBox=\"0 0 349 305\" width=\"349px\" zoomAndPan=\"magnify\"><defs/><g><!--MD5=[fbc87193dbaf4d95561dea2c320d4a47]\n",
       "cluster E1--><a href=\"psysml:6839459c-d74b-4e54-a7fb-96b2013b0c1a\" target=\"_top\" title=\"psysml:6839459c-d74b-4e54-a7fb-96b2013b0c1a\" xlink:actuate=\"onRequest\" xlink:href=\"psysml:6839459c-d74b-4e54-a7fb-96b2013b0c1a\" xlink:show=\"new\" xlink:title=\"psysml:6839459c-d74b-4e54-a7fb-96b2013b0c1a\" xlink:type=\"simple\"><polygon fill=\"#FFFFFF\" points=\"16,6,140,6,147,28.2969,327,28.2969,327,293,16,293,16,6\" style=\"stroke: #000000; stroke-width: 1.5;\"/><line style=\"stroke: #000000; stroke-width: 1.5;\" x1=\"16\" x2=\"147\" y1=\"28.2969\" y2=\"28.2969\"/><text fill=\"#000000\" font-family=\"sans-serif\" font-size=\"14\" font-weight=\"bold\" lengthAdjust=\"spacingAndGlyphs\" textLength=\"118\" x=\"20\" y=\"20.9951\">DefaultValueTest</text></a><!--MD5=[b4997ac47864f28c2f74865a473b2911]\n",
       "class E2--><a href=\"psysml:f6ad7545-3639-41cb-8da0-571497d98dc5\" target=\"_top\" title=\"psysml:f6ad7545-3639-41cb-8da0-571497d98dc5\" xlink:actuate=\"onRequest\" xlink:href=\"psysml:f6ad7545-3639-41cb-8da0-571497d98dc5\" xlink:show=\"new\" xlink:title=\"psysml:f6ad7545-3639-41cb-8da0-571497d98dc5\" xlink:type=\"simple\"><rect fill=\"#FFFFFF\" height=\"88.3516\" id=\"E2\" style=\"stroke: #383838; stroke-width: 1.5;\" width=\"106\" x=\"156\" y=\"189\"/><text fill=\"#000000\" font-family=\"sans-serif\" font-size=\"12\" font-style=\"italic\" lengthAdjust=\"spacingAndGlyphs\" textLength=\"68\" x=\"175\" y=\"205.1387\">«part  def»</text><text fill=\"#000000\" font-family=\"sans-serif\" font-size=\"12\" lengthAdjust=\"spacingAndGlyphs\" textLength=\"8\" x=\"205\" y=\"219.1074\">V</text><line style=\"stroke: #383838; stroke-width: 1.5;\" x1=\"157\" x2=\"261\" y1=\"226.9375\" y2=\"226.9375\"/><text fill=\"#000000\" font-family=\"sans-serif\" font-size=\"11\" lengthAdjust=\"spacingAndGlyphs\" textLength=\"94\" x=\"162\" y=\"257.9526\">m=default = 10;</text><text fill=\"#000000\" font-family=\"sans-serif\" font-size=\"11\" lengthAdjust=\"spacingAndGlyphs\" textLength=\"38\" x=\"162\" y=\"270.7573\">n= 20;</text><line style=\"stroke: #383838; stroke-width: 1.0;\" x1=\"157\" x2=\"181.5\" y1=\"241.3398\" y2=\"241.3398\"/><text fill=\"#000000\" font-family=\"sans-serif\" font-size=\"11\" lengthAdjust=\"spacingAndGlyphs\" textLength=\"55\" x=\"181.5\" y=\"244.6479\">attributes</text><line style=\"stroke: #383838; stroke-width: 1.0;\" x1=\"236.5\" x2=\"261\" y1=\"241.3398\" y2=\"241.3398\"/></a><!--MD5=[09b614a08d8cba4a07c9adeb5e0fee81]\n",
       "class E3--><a href=\"psysml:1ac351b0-bbdc-4492-9f99-b540f7d23706\" target=\"_top\" title=\"psysml:1ac351b0-bbdc-4492-9f99-b540f7d23706\" xlink:actuate=\"onRequest\" xlink:href=\"psysml:1ac351b0-bbdc-4492-9f99-b540f7d23706\" xlink:show=\"new\" xlink:title=\"psysml:1ac351b0-bbdc-4492-9f99-b540f7d23706\" xlink:type=\"simple\"><rect fill=\"#FFFFFF\" height=\"88.3516\" id=\"E3\" rx=\"10\" ry=\"10\" style=\"stroke: #383838; stroke-width: 1.5;\" width=\"63\" x=\"247.5\" y=\"41\"/><text fill=\"#000000\" font-family=\"sans-serif\" font-size=\"12\" font-style=\"italic\" lengthAdjust=\"spacingAndGlyphs\" textLength=\"40\" x=\"259\" y=\"57.1387\">«part»</text><text fill=\"#000000\" font-family=\"sans-serif\" font-size=\"12\" lengthAdjust=\"spacingAndGlyphs\" textLength=\"30\" x=\"262\" y=\"71.1074\">v1: V</text><line style=\"stroke: #383838; stroke-width: 1.5;\" x1=\"248.5\" x2=\"309.5\" y1=\"78.9375\" y2=\"78.9375\"/><text fill=\"#000000\" font-family=\"sans-serif\" font-size=\"11\" lengthAdjust=\"spacingAndGlyphs\" textLength=\"42\" x=\"253.5\" y=\"109.9526\">m= 20;</text><text fill=\"#000000\" font-family=\"sans-serif\" font-size=\"11\" font-style=\"italic\" lengthAdjust=\"spacingAndGlyphs\" textLength=\"48\" x=\"253.5\" y=\"122.7573\">:&gt;&gt;V::m</text><line style=\"stroke: #383838; stroke-width: 1.0;\" x1=\"248.5\" x2=\"251.5\" y1=\"93.3398\" y2=\"93.3398\"/><text fill=\"#000000\" font-family=\"sans-serif\" font-size=\"11\" lengthAdjust=\"spacingAndGlyphs\" textLength=\"55\" x=\"251.5\" y=\"96.6479\">attributes</text><line style=\"stroke: #383838; stroke-width: 1.0;\" x1=\"306.5\" x2=\"309.5\" y1=\"93.3398\" y2=\"93.3398\"/></a><!--MD5=[ebbe1d658d1005bcc118a6aa81145e00]\n",
       "class E4--><a href=\"psysml:aeba74e7-35ad-441a-aaf4-220a7e48fb18\" target=\"_top\" title=\"psysml:aeba74e7-35ad-441a-aaf4-220a7e48fb18\" xlink:actuate=\"onRequest\" xlink:href=\"psysml:aeba74e7-35ad-441a-aaf4-220a7e48fb18\" xlink:show=\"new\" xlink:title=\"psysml:aeba74e7-35ad-441a-aaf4-220a7e48fb18\" xlink:type=\"simple\"><rect fill=\"#FFFFFF\" height=\"88.3516\" id=\"E4\" style=\"stroke: #383838; stroke-width: 1.5;\" width=\"103\" x=\"109.5\" y=\"41\"/><text fill=\"#000000\" font-family=\"sans-serif\" font-size=\"12\" font-style=\"italic\" lengthAdjust=\"spacingAndGlyphs\" textLength=\"68\" x=\"127\" y=\"57.1387\">«part  def»</text><text fill=\"#000000\" font-family=\"sans-serif\" font-size=\"12\" lengthAdjust=\"spacingAndGlyphs\" textLength=\"11\" x=\"155.5\" y=\"71.1074\">W</text><line style=\"stroke: #383838; stroke-width: 1.5;\" x1=\"110.5\" x2=\"211.5\" y1=\"78.9375\" y2=\"78.9375\"/><text fill=\"#000000\" font-family=\"sans-serif\" font-size=\"11\" lengthAdjust=\"spacingAndGlyphs\" textLength=\"87\" x=\"115.5\" y=\"109.9526\">m=default = n;</text><text fill=\"#000000\" font-family=\"sans-serif\" font-size=\"11\" font-style=\"italic\" lengthAdjust=\"spacingAndGlyphs\" textLength=\"48\" x=\"115.5\" y=\"122.7573\">:&gt;&gt;V::m</text><line style=\"stroke: #383838; stroke-width: 1.0;\" x1=\"110.5\" x2=\"133.5\" y1=\"93.3398\" y2=\"93.3398\"/><text fill=\"#000000\" font-family=\"sans-serif\" font-size=\"11\" lengthAdjust=\"spacingAndGlyphs\" textLength=\"55\" x=\"133.5\" y=\"96.6479\">attributes</text><line style=\"stroke: #383838; stroke-width: 1.0;\" x1=\"188.5\" x2=\"211.5\" y1=\"93.3398\" y2=\"93.3398\"/></a><!--MD5=[270fce915f116d4de14055a7c1d9a0f3]\n",
       "class E5--><a href=\"psysml:8648f4f6-facd-4996-a918-0994903b340f\" target=\"_top\" title=\"psysml:8648f4f6-facd-4996-a918-0994903b340f\" xlink:actuate=\"onRequest\" xlink:href=\"psysml:8648f4f6-facd-4996-a918-0994903b340f\" xlink:show=\"new\" xlink:title=\"psysml:8648f4f6-facd-4996-a918-0994903b340f\" xlink:type=\"simple\"><rect fill=\"#FFFFFF\" height=\"45.9375\" id=\"E5\" rx=\"10\" ry=\"10\" style=\"stroke: #383838; stroke-width: 1.5;\" width=\"42\" x=\"32\" y=\"62\"/><text fill=\"#000000\" font-family=\"sans-serif\" font-size=\"12\" font-style=\"italic\" lengthAdjust=\"spacingAndGlyphs\" textLength=\"40\" x=\"33\" y=\"78.1387\">«part»</text><text fill=\"#000000\" font-family=\"sans-serif\" font-size=\"12\" lengthAdjust=\"spacingAndGlyphs\" textLength=\"14\" x=\"44\" y=\"92.1074\">v2</text><line style=\"stroke: #383838; stroke-width: 1.5;\" x1=\"33\" x2=\"73\" y1=\"99.9375\" y2=\"99.9375\"/></a><!--MD5=[05d275557350bfb9b23a4ef7222b4c39]\n",
       "link E3 to E2--><a href=\"psysml:f9d68518-1ffd-4856-b3d4-4b8d752762cd\" target=\"_top\" title=\"psysml:f9d68518-1ffd-4856-b3d4-4b8d752762cd\" xlink:actuate=\"onRequest\" xlink:href=\"psysml:f9d68518-1ffd-4856-b3d4-4b8d752762cd\" xlink:show=\"new\" xlink:title=\"psysml:f9d68518-1ffd-4856-b3d4-4b8d752762cd\" xlink:type=\"simple\"><path d=\"M258.38,129.02 C252.17,141.97 245.22,156.45 238.55,170.36 \" fill=\"none\" id=\"E3-&gt;E2\" style=\"stroke: #383838; stroke-width: 1.0;\"/><polygon fill=\"#FFFFFF\" points=\"229.72,188.79,231.6151,168.6304,244.2413,174.6786,229.72,188.79\" style=\"stroke: #383838; stroke-width: 1.0;\"/><ellipse cx=\"235.8813\" cy=\"164.3538\" fill=\"#383838\" rx=\"2\" ry=\"2\" style=\"stroke: #383838; stroke-width: 1.0;\"/><ellipse cx=\"244.9\" cy=\"168.6739\" fill=\"#383838\" rx=\"2\" ry=\"2\" style=\"stroke: #383838; stroke-width: 1.0;\"/></a><!--MD5=[185131fc0dcab0a4505a2ebe144e961b]\n",
       "link E4 to E2--><a href=\"psysml:13494711-98b1-4251-8963-46d1e0c35503\" target=\"_top\" title=\"psysml:13494711-98b1-4251-8963-46d1e0c35503\" xlink:actuate=\"onRequest\" xlink:href=\"psysml:13494711-98b1-4251-8963-46d1e0c35503\" xlink:show=\"new\" xlink:title=\"psysml:13494711-98b1-4251-8963-46d1e0c35503\" xlink:type=\"simple\"><path d=\"M175.14,129.02 C179.3,141.67 183.94,155.79 188.42,169.41 \" fill=\"none\" id=\"E4-&gt;E2\" style=\"stroke: #383838; stroke-width: 1.0;\"/><polygon fill=\"none\" points=\"195.2,167.6,194.79,188.79,181.9,171.97,195.2,167.6\" style=\"stroke: #383838; stroke-width: 1.0;\"/></a><!--MD5=[742bb30bdc9d5e85020c9b8041e725b8]\n",
       "@startuml\r\n",
       " skinparam monochrome true\r\n",
       "skinparam classbackgroundcolor white\r\n",
       "skinparam shadowing false\r\n",
       "skinparam wrapWidth 300\r\n",
       "hide circle\r\n",
       "\r\n",
       "package \"DefaultValueTest\" as E1  [[psysml:6839459c-d74b-4e54-a7fb-96b2013b0c1a ]]  {\r\n",
       "comp def \"V\" as E2  <<(T,blue) part  def>> [[psysml:f6ad7545-3639-41cb-8da0-571497d98dc5 ]] {\r\n",
       "- - attributes - -\r\n",
       "m=default = 10; \r\n",
       "n= 20; \r\n",
       "}\r\n",
       "comp usage \"v1: V \" as E3  <<(T,blue) part>> [[psysml:1ac351b0-bbdc-4492-9f99-b540f7d23706 ]] {\r\n",
       "- - attributes - -\r\n",
       "m= 20; \\n//:>>V::m// \r\n",
       "}\r\n",
       "comp def \"W\" as E4  <<(T,blue) part  def>> [[psysml:aeba74e7-35ad-441a-aaf4-220a7e48fb18 ]] {\r\n",
       "- - attributes - -\r\n",
       "m=default = n; \\n//:>>V::m// \r\n",
       "}\r\n",
       "comp usage \"v2 \" as E5  <<(T,blue) part>> [[psysml:8648f4f6-facd-4996-a918-0994903b340f ]] {\r\n",
       "}\r\n",
       "}\r\n",
       "E3 - -:|> E2 [[psysml:f9d68518-1ffd-4856-b3d4-4b8d752762cd ]] \r\n",
       "E4 - -|> E2 [[psysml:13494711-98b1-4251-8963-46d1e0c35503 ]] \r\n",
       "@enduml\r\n",
       "\n",
       "PlantUML version 1.2020.13(Sat Jun 13 12:26:38 UTC 2020)\n",
       "(EPL source distribution)\n",
       "Java Runtime: OpenJDK Runtime Environment\n",
       "JVM: OpenJDK 64-Bit Server VM\n",
       "Default Encoding: UTF-8\n",
       "Language: en\n",
       "Country: null\n",
       "--></g></svg>"
      ]
     },
     "execution_count": 3,
     "metadata": {},
     "output_type": "execute_result"
    }
   ],
   "source": [
    "%viz --style=\"COMPTREE\" --view=\"Tree\" \"DefaultValueTest\""
   ]
  },
  {
   "cell_type": "code",
   "execution_count": 4,
   "id": "d02fd998",
   "metadata": {
    "execution": {
     "iopub.execute_input": "2022-02-18T10:51:38.896683Z",
     "iopub.status.busy": "2022-02-18T10:51:38.896181Z",
     "iopub.status.idle": "2022-02-18T10:51:38.901696Z",
     "shell.execute_reply": "2022-02-18T10:51:38.901314Z"
    }
   },
   "outputs": [
    {
     "data": {
      "image/svg+xml": [
       "<?xml version=\"1.0\" encoding=\"UTF-8\" standalone=\"no\"?><svg xmlns=\"http://www.w3.org/2000/svg\" xmlns:xlink=\"http://www.w3.org/1999/xlink\" contentScriptType=\"application/ecmascript\" contentStyleType=\"text/css\" height=\"12px\" preserveAspectRatio=\"none\" style=\"width:12px;height:12px;\" version=\"1.1\" viewBox=\"0 0 12 12\" width=\"12px\" zoomAndPan=\"magnify\"><defs/><g><!--MD5=[f19188ef49e11757b5c46753f95d9edc]\n",
       "@startuml\r\n",
       " skinparam monochrome true\r\n",
       "skinparam classbackgroundcolor white\r\n",
       "skinparam shadowing false\r\n",
       "skinparam wrapWidth 300\r\n",
       "hide circle\r\n",
       "\r\n",
       "@enduml\r\n",
       "\n",
       "PlantUML version 1.2020.13(Sat Jun 13 12:26:38 UTC 2020)\n",
       "(EPL source distribution)\n",
       "Java Runtime: OpenJDK Runtime Environment\n",
       "JVM: OpenJDK 64-Bit Server VM\n",
       "Default Encoding: UTF-8\n",
       "Language: en\n",
       "Country: null\n",
       "--></g></svg>"
      ]
     },
     "execution_count": 4,
     "metadata": {},
     "output_type": "execute_result"
    }
   ],
   "source": [
    "%viz --style=\"COMPTREE\" --view=\"State\" \"DefaultValueTest\""
   ]
  },
  {
   "cell_type": "code",
   "execution_count": 5,
   "id": "70a3e17b",
   "metadata": {
    "execution": {
     "iopub.execute_input": "2022-02-18T10:51:38.951666Z",
     "iopub.status.busy": "2022-02-18T10:51:38.951124Z",
     "iopub.status.idle": "2022-02-18T10:51:39.004236Z",
     "shell.execute_reply": "2022-02-18T10:51:39.003837Z"
    }
   },
   "outputs": [
    {
     "data": {
      "image/svg+xml": [
       "<?xml version=\"1.0\" encoding=\"UTF-8\" standalone=\"no\"?><svg xmlns=\"http://www.w3.org/2000/svg\" xmlns:xlink=\"http://www.w3.org/1999/xlink\" contentScriptType=\"application/ecmascript\" contentStyleType=\"text/css\" height=\"399px\" preserveAspectRatio=\"none\" style=\"width:448px;height:399px;\" version=\"1.1\" viewBox=\"0 0 448 399\" width=\"448px\" zoomAndPan=\"magnify\"><defs/><g><!--MD5=[fbc87193dbaf4d95561dea2c320d4a47]\n",
       "cluster E1--><a href=\"psysml:6839459c-d74b-4e54-a7fb-96b2013b0c1a\" target=\"_top\" title=\"psysml:6839459c-d74b-4e54-a7fb-96b2013b0c1a\" xlink:actuate=\"onRequest\" xlink:href=\"psysml:6839459c-d74b-4e54-a7fb-96b2013b0c1a\" xlink:show=\"new\" xlink:title=\"psysml:6839459c-d74b-4e54-a7fb-96b2013b0c1a\" xlink:type=\"simple\"><polygon fill=\"#FFFFFF\" points=\"16,6,140,6,147,28.2969,426,28.2969,426,387,16,387,16,6\" style=\"stroke: #000000; stroke-width: 1.5;\"/><line style=\"stroke: #000000; stroke-width: 1.5;\" x1=\"16\" x2=\"147\" y1=\"28.2969\" y2=\"28.2969\"/><text fill=\"#000000\" font-family=\"sans-serif\" font-size=\"14\" font-weight=\"bold\" lengthAdjust=\"spacingAndGlyphs\" textLength=\"118\" x=\"20\" y=\"20.9951\">DefaultValueTest</text></a><!--MD5=[e4f7fae6ed58524ba242bb0b0d3be6b7]\n",
       "cluster E2--><a href=\"psysml:f6ad7545-3639-41cb-8da0-571497d98dc5\" target=\"_top\" title=\"psysml:f6ad7545-3639-41cb-8da0-571497d98dc5\" xlink:actuate=\"onRequest\" xlink:href=\"psysml:f6ad7545-3639-41cb-8da0-571497d98dc5\" xlink:show=\"new\" xlink:title=\"psysml:f6ad7545-3639-41cb-8da0-571497d98dc5\" xlink:type=\"simple\"><rect fill=\"#FFFFFF\" height=\"129\" id=\"E2\" style=\"stroke: #383838; stroke-width: 1.5;\" width=\"245\" x=\"127\" y=\"226\"/><rect fill=\"#F8F8F8\" height=\"37.9375\" style=\"stroke: #383838; stroke-width: 1.5;\" width=\"245\" x=\"127\" y=\"226\"/><text fill=\"#000000\" font-family=\"sans-serif\" font-size=\"12\" font-style=\"italic\" lengthAdjust=\"spacingAndGlyphs\" textLength=\"68\" x=\"215.5\" y=\"242.1387\">«part  def»</text><text fill=\"#000000\" font-family=\"sans-serif\" font-size=\"12\" lengthAdjust=\"spacingAndGlyphs\" textLength=\"8\" x=\"245.5\" y=\"256.1074\">V</text></a><!--MD5=[de5ec2e2e8f62f467e546659f5068c88]\n",
       "cluster E5--><a href=\"psysml:1ac351b0-bbdc-4492-9f99-b540f7d23706\" target=\"_top\" title=\"psysml:1ac351b0-bbdc-4492-9f99-b540f7d23706\" xlink:actuate=\"onRequest\" xlink:href=\"psysml:1ac351b0-bbdc-4492-9f99-b540f7d23706\" xlink:show=\"new\" xlink:title=\"psysml:1ac351b0-bbdc-4492-9f99-b540f7d23706\" xlink:type=\"simple\"><rect fill=\"#FFFFFF\" height=\"97\" id=\"E5\" rx=\"10\" ry=\"10\" style=\"stroke: #383838; stroke-width: 1.5;\" width=\"104\" x=\"298\" y=\"81\"/><rect fill=\"#F8F8F8\" height=\"23.9688\" rx=\"10\" ry=\"10\" style=\"stroke: #F8F8F8; stroke-width: 1.5;\" width=\"104\" x=\"298\" y=\"81\"/><rect fill=\"#F8F8F8\" height=\"10\" style=\"stroke: #F8F8F8; stroke-width: 1.5;\" width=\"104\" x=\"298\" y=\"94.9688\"/><rect fill=\"none\" height=\"97\" id=\"E5\" rx=\"10\" ry=\"10\" style=\"stroke: #383838; stroke-width: 1.5;\" width=\"104\" x=\"298\" y=\"81\"/><text fill=\"#000000\" font-family=\"sans-serif\" font-size=\"12\" lengthAdjust=\"spacingAndGlyphs\" textLength=\"30\" x=\"335\" y=\"97.1387\">v1: V</text><line style=\"stroke: #383838; stroke-width: 1.0;\" x1=\"298\" x2=\"402\" y1=\"104.9688\" y2=\"104.9688\"/></a><!--MD5=[168fadf3d0c3fd93dd5d6da1b1d7ab76]\n",
       "cluster E7--><a href=\"psysml:aeba74e7-35ad-441a-aaf4-220a7e48fb18\" target=\"_top\" title=\"psysml:aeba74e7-35ad-441a-aaf4-220a7e48fb18\" xlink:actuate=\"onRequest\" xlink:href=\"psysml:aeba74e7-35ad-441a-aaf4-220a7e48fb18\" xlink:show=\"new\" xlink:title=\"psysml:aeba74e7-35ad-441a-aaf4-220a7e48fb18\" xlink:type=\"simple\"><rect fill=\"#FFFFFF\" height=\"129\" id=\"E7\" style=\"stroke: #383838; stroke-width: 1.5;\" width=\"139\" x=\"127\" y=\"57\"/><rect fill=\"#F8F8F8\" height=\"37.9375\" style=\"stroke: #383838; stroke-width: 1.5;\" width=\"139\" x=\"127\" y=\"57\"/><text fill=\"#000000\" font-family=\"sans-serif\" font-size=\"12\" font-style=\"italic\" lengthAdjust=\"spacingAndGlyphs\" textLength=\"68\" x=\"162.5\" y=\"73.1387\">«part  def»</text><text fill=\"#000000\" font-family=\"sans-serif\" font-size=\"12\" lengthAdjust=\"spacingAndGlyphs\" textLength=\"11\" x=\"191\" y=\"87.1074\">W</text></a><!--MD5=[09b614a08d8cba4a07c9adeb5e0fee81]\n",
       "class E3--><a href=\"psysml:075fa6d2-8e51-4049-a184-a21376454cfa\" target=\"_top\" title=\"psysml:075fa6d2-8e51-4049-a184-a21376454cfa\" xlink:actuate=\"onRequest\" xlink:href=\"psysml:075fa6d2-8e51-4049-a184-a21376454cfa\" xlink:show=\"new\" xlink:title=\"psysml:075fa6d2-8e51-4049-a184-a21376454cfa\" xlink:type=\"simple\"><rect fill=\"#FFFFFF\" height=\"45.9375\" id=\"E3\" rx=\"10\" ry=\"10\" style=\"stroke: #383838; stroke-width: 1.5;\" width=\"71\" x=\"276.5\" y=\"285\"/><text fill=\"#000000\" font-family=\"sans-serif\" font-size=\"12\" font-style=\"italic\" lengthAdjust=\"spacingAndGlyphs\" textLength=\"69\" x=\"277.5\" y=\"301.1387\">«attribute»</text><text fill=\"#000000\" font-family=\"sans-serif\" font-size=\"12\" lengthAdjust=\"spacingAndGlyphs\" textLength=\"11\" x=\"304.5\" y=\"315.1074\">m</text><line style=\"stroke: #383838; stroke-width: 1.5;\" x1=\"277.5\" x2=\"346.5\" y1=\"322.9375\" y2=\"322.9375\"/></a><!--MD5=[ebbe1d658d1005bcc118a6aa81145e00]\n",
       "class E4--><a href=\"psysml:0ef473ce-6f49-4b48-ae7c-25bde7c2058c\" target=\"_top\" title=\"psysml:0ef473ce-6f49-4b48-ae7c-25bde7c2058c\" xlink:actuate=\"onRequest\" xlink:href=\"psysml:0ef473ce-6f49-4b48-ae7c-25bde7c2058c\" xlink:show=\"new\" xlink:title=\"psysml:0ef473ce-6f49-4b48-ae7c-25bde7c2058c\" xlink:type=\"simple\"><rect fill=\"#FFFFFF\" height=\"45.9375\" id=\"E4\" rx=\"10\" ry=\"10\" style=\"stroke: #383838; stroke-width: 1.5;\" width=\"71\" x=\"170.5\" y=\"285\"/><text fill=\"#000000\" font-family=\"sans-serif\" font-size=\"12\" font-style=\"italic\" lengthAdjust=\"spacingAndGlyphs\" textLength=\"69\" x=\"171.5\" y=\"301.1387\">«attribute»</text><text fill=\"#000000\" font-family=\"sans-serif\" font-size=\"12\" lengthAdjust=\"spacingAndGlyphs\" textLength=\"8\" x=\"200\" y=\"315.1074\">n</text><line style=\"stroke: #383838; stroke-width: 1.5;\" x1=\"171.5\" x2=\"240.5\" y1=\"322.9375\" y2=\"322.9375\"/></a><!--MD5=[60a26617385b1d2d0262a64233df1f8d]\n",
       "class E6--><a href=\"psysml:ec8a8e56-fcc6-4673-8c8e-468b75026770\" target=\"_top\" title=\"psysml:ec8a8e56-fcc6-4673-8c8e-468b75026770\" xlink:actuate=\"onRequest\" xlink:href=\"psysml:ec8a8e56-fcc6-4673-8c8e-468b75026770\" xlink:show=\"new\" xlink:title=\"psysml:ec8a8e56-fcc6-4673-8c8e-468b75026770\" xlink:type=\"simple\"><rect fill=\"#FFFFFF\" height=\"45.9375\" id=\"E6\" rx=\"10\" ry=\"10\" style=\"stroke: #383838; stroke-width: 1.5;\" width=\"71\" x=\"314.5\" y=\"116\"/><text fill=\"#000000\" font-family=\"sans-serif\" font-size=\"12\" font-style=\"italic\" lengthAdjust=\"spacingAndGlyphs\" textLength=\"69\" x=\"315.5\" y=\"132.1387\">«attribute»</text><text fill=\"#000000\" font-family=\"sans-serif\" font-size=\"12\" lengthAdjust=\"spacingAndGlyphs\" textLength=\"11\" x=\"342.5\" y=\"146.1074\">m</text><line style=\"stroke: #383838; stroke-width: 1.5;\" x1=\"315.5\" x2=\"384.5\" y1=\"153.9375\" y2=\"153.9375\"/></a><!--MD5=[b9389687b975829384b498ac4b7476b2]\n",
       "class E8--><a href=\"psysml:38866ed6-d027-47ed-9e9b-10f0103d500c\" target=\"_top\" title=\"psysml:38866ed6-d027-47ed-9e9b-10f0103d500c\" xlink:actuate=\"onRequest\" xlink:href=\"psysml:38866ed6-d027-47ed-9e9b-10f0103d500c\" xlink:show=\"new\" xlink:title=\"psysml:38866ed6-d027-47ed-9e9b-10f0103d500c\" xlink:type=\"simple\"><rect fill=\"#FFFFFF\" height=\"45.9375\" id=\"E8\" rx=\"10\" ry=\"10\" style=\"stroke: #383838; stroke-width: 1.5;\" width=\"71\" x=\"170.5\" y=\"116\"/><text fill=\"#000000\" font-family=\"sans-serif\" font-size=\"12\" font-style=\"italic\" lengthAdjust=\"spacingAndGlyphs\" textLength=\"69\" x=\"171.5\" y=\"132.1387\">«attribute»</text><text fill=\"#000000\" font-family=\"sans-serif\" font-size=\"12\" lengthAdjust=\"spacingAndGlyphs\" textLength=\"11\" x=\"198.5\" y=\"146.1074\">m</text><line style=\"stroke: #383838; stroke-width: 1.5;\" x1=\"171.5\" x2=\"240.5\" y1=\"153.9375\" y2=\"153.9375\"/></a><g id=\"E1.E9\"><a href=\"psysml:8648f4f6-facd-4996-a918-0994903b340f\" target=\"_top\" title=\"psysml:8648f4f6-facd-4996-a918-0994903b340f\" xlink:actuate=\"onRequest\" xlink:href=\"psysml:8648f4f6-facd-4996-a918-0994903b340f\" xlink:show=\"new\" xlink:title=\"psysml:8648f4f6-facd-4996-a918-0994903b340f\" xlink:type=\"simple\"><rect fill=\"#FFFFFF\" height=\"40\" id=\"E9\" rx=\"10\" ry=\"10\" style=\"stroke: #383838; stroke-width: 1.5;\" width=\"68\" x=\"32\" y=\"119\"/><rect fill=\"#F8F8F8\" height=\"23.9688\" rx=\"10\" ry=\"10\" style=\"stroke: #F8F8F8; stroke-width: 1.5;\" width=\"68\" x=\"32\" y=\"119\"/><rect fill=\"#F8F8F8\" height=\"10\" style=\"stroke: #F8F8F8; stroke-width: 1.5;\" width=\"68\" x=\"32\" y=\"132.9688\"/><rect fill=\"none\" height=\"40\" id=\"E9\" rx=\"10\" ry=\"10\" style=\"stroke: #383838; stroke-width: 1.5;\" width=\"68\" x=\"32\" y=\"119\"/><text fill=\"#000000\" font-family=\"sans-serif\" font-size=\"12\" lengthAdjust=\"spacingAndGlyphs\" textLength=\"53\" x=\"37.5\" y=\"135.1387\">v2= W();</text></a></g><!--MD5=[a717450b82c80b9240a525fa862496af]\n",
       "link E6 to E3--><a href=\"psysml:319addec-2b51-47f0-a10b-c2bc2405cd29\" target=\"_top\" title=\"psysml:319addec-2b51-47f0-a10b-c2bc2405cd29\" xlink:actuate=\"onRequest\" xlink:href=\"psysml:319addec-2b51-47f0-a10b-c2bc2405cd29\" xlink:show=\"new\" xlink:title=\"psysml:319addec-2b51-47f0-a10b-c2bc2405cd29\" xlink:type=\"simple\"><path d=\"M344.95,162.18 C338.98,188.45 328.89,232.78 321.45,265.49 \" fill=\"none\" id=\"E6-&gt;E3\" style=\"stroke: #383838; stroke-width: 1.0;\"/><polygon fill=\"#FFFFFF\" points=\"317.01,285,314.4057,264.9197,328.0559,268.0298,317.01,285\" style=\"stroke: #383838; stroke-width: 1.0;\"/><line style=\"stroke: #383838; stroke-width: 2.0;\" x1=\"315.2498\" x2=\"328.9\" y1=\"261.2147\" y2=\"264.3247\"/></a><!--MD5=[583832df87f4419a098336a29a52fa00]\n",
       "link E7 to E2--><a href=\"psysml:13494711-98b1-4251-8963-46d1e0c35503\" target=\"_top\" title=\"psysml:13494711-98b1-4251-8963-46d1e0c35503\" xlink:actuate=\"onRequest\" xlink:href=\"psysml:13494711-98b1-4251-8963-46d1e0c35503\" xlink:show=\"new\" xlink:title=\"psysml:13494711-98b1-4251-8963-46d1e0c35503\" xlink:type=\"simple\"><path d=\"M135,186.7597 C135,189.0567 135,191.4 135,193.7804 C135,203.3019 135,213.4163 135,223.53 C135,224.1621 135,224.7942 135,225.4262 C135,225.5842 135,225.7421 135,225.9001 \" fill=\"none\" id=\"E7-&gt;E2\" style=\"stroke: #383838; stroke-width: 1.0;\"/><polygon fill=\"#FFFFFF\" points=\"135,225.9001,142,206.9001,128,206.9001,135,225.9001\" style=\"stroke: #383838; stroke-width: 1.0;\"/></a><!--MD5=[95fa686b5a16158bcdbcaeead89f639b]\n",
       "link E8 to E3--><a href=\"psysml:27f15f96-8451-4ffb-b537-81d2f9d472fa\" target=\"_top\" title=\"psysml:27f15f96-8451-4ffb-b537-81d2f9d472fa\" xlink:actuate=\"onRequest\" xlink:href=\"psysml:27f15f96-8451-4ffb-b537-81d2f9d472fa\" xlink:show=\"new\" xlink:title=\"psysml:27f15f96-8451-4ffb-b537-81d2f9d472fa\" xlink:type=\"simple\"><path d=\"M224.06,162.09 C234.74,175.57 248.24,193.36 259,210 C270.79,228.22 282.5,249.28 291.91,267.1 \" fill=\"none\" id=\"E8-&gt;E3\" style=\"stroke: #383838; stroke-width: 1.0;\"/><polygon fill=\"#FFFFFF\" points=\"301.11,284.89,286.1673,271.2256,298.6042,264.7972,301.11,284.89\" style=\"stroke: #383838; stroke-width: 1.0;\"/><line style=\"stroke: #383838; stroke-width: 2.0;\" x1=\"284.4225\" x2=\"296.8594\" y1=\"267.8499\" y2=\"261.4215\"/></a><!--MD5=[960d6ae586b7261a00b4f5e08919589e]\n",
       "@startuml\r\n",
       "skinparam ranksep 10\r\n",
       "skinparam rectangle {\r\n",
       " backgroundColor<<block>> LightGreen\r\n",
       "}\r\n",
       " skinparam monochrome true\r\n",
       "skinparam classbackgroundcolor white\r\n",
       "skinparam shadowing false\r\n",
       "skinparam wrapWidth 300\r\n",
       "hide circle\r\n",
       "\r\n",
       "package \"DefaultValueTest\" as E1  [[psysml:6839459c-d74b-4e54-a7fb-96b2013b0c1a ]]  {\r\n",
       "rec def \"V\" as E2  <<(T,blue) part  def>> [[psysml:f6ad7545-3639-41cb-8da0-571497d98dc5 ]] {\r\n",
       "comp usage \"m \" as E3  <<(T,blue) attribute>> [[psysml:075fa6d2-8e51-4049-a184-a21376454cfa ]] {\r\n",
       "}\r\n",
       "comp usage \"n \" as E4  <<(T,blue) attribute>> [[psysml:0ef473ce-6f49-4b48-ae7c-25bde7c2058c ]] {\r\n",
       "}\r\n",
       "}\r\n",
       "rec usage \"v1: V\" as E5  [[psysml:1ac351b0-bbdc-4492-9f99-b540f7d23706 ]] {\r\n",
       "comp usage \"m \" as E6  <<(T,blue) attribute>> [[psysml:ec8a8e56-fcc6-4673-8c8e-468b75026770 ]] {\r\n",
       "}\r\n",
       "}\r\n",
       "rec def \"W\" as E7  <<(T,blue) part  def>> [[psysml:aeba74e7-35ad-441a-aaf4-220a7e48fb18 ]] {\r\n",
       "comp usage \"m \" as E8  <<(T,blue) attribute>> [[psysml:38866ed6-d027-47ed-9e9b-10f0103d500c ]] {\r\n",
       "}\r\n",
       "}\r\n",
       "rec usage \"v2= W(); \" as E9  [[psysml:8648f4f6-facd-4996-a918-0994903b340f ]] {\r\n",
       "}\r\n",
       "}\r\n",
       "E6 - -||> E3 [[psysml:319addec-2b51-47f0-a10b-c2bc2405cd29 ]] \r\n",
       "E7 - -|> E2 [[psysml:13494711-98b1-4251-8963-46d1e0c35503 ]] \r\n",
       "E8 - -||> E3 [[psysml:27f15f96-8451-4ffb-b537-81d2f9d472fa ]] \r\n",
       "@enduml\r\n",
       "\n",
       "PlantUML version 1.2020.13(Sat Jun 13 12:26:38 UTC 2020)\n",
       "(EPL source distribution)\n",
       "Java Runtime: OpenJDK Runtime Environment\n",
       "JVM: OpenJDK 64-Bit Server VM\n",
       "Default Encoding: UTF-8\n",
       "Language: en\n",
       "Country: null\n",
       "--></g></svg>"
      ]
     },
     "execution_count": 5,
     "metadata": {},
     "output_type": "execute_result"
    }
   ],
   "source": [
    "%viz --style=\"COMPTREE\" --view=\"Interconnection\" \"DefaultValueTest\""
   ]
  },
  {
   "cell_type": "code",
   "execution_count": 6,
   "id": "f3c7f6d5",
   "metadata": {
    "execution": {
     "iopub.execute_input": "2022-02-18T10:51:39.054238Z",
     "iopub.status.busy": "2022-02-18T10:51:39.053796Z",
     "iopub.status.idle": "2022-02-18T10:51:39.062086Z",
     "shell.execute_reply": "2022-02-18T10:51:39.062426Z"
    }
   },
   "outputs": [
    {
     "data": {
      "image/svg+xml": [
       "<?xml version=\"1.0\" encoding=\"UTF-8\" standalone=\"no\"?><svg xmlns=\"http://www.w3.org/2000/svg\" xmlns:xlink=\"http://www.w3.org/1999/xlink\" contentScriptType=\"application/ecmascript\" contentStyleType=\"text/css\" height=\"12px\" preserveAspectRatio=\"none\" style=\"width:12px;height:12px;\" version=\"1.1\" viewBox=\"0 0 12 12\" width=\"12px\" zoomAndPan=\"magnify\"><defs/><g><!--MD5=[655b888544ca4751ea36af1068543f84]\n",
       "@startuml\r\n",
       "skinparam ranksep 8\r\n",
       " skinparam monochrome true\r\n",
       "skinparam classbackgroundcolor white\r\n",
       "skinparam shadowing false\r\n",
       "skinparam wrapWidth 300\r\n",
       "hide circle\r\n",
       "\r\n",
       "@enduml\r\n",
       "\n",
       "PlantUML version 1.2020.13(Sat Jun 13 12:26:38 UTC 2020)\n",
       "(EPL source distribution)\n",
       "Java Runtime: OpenJDK Runtime Environment\n",
       "JVM: OpenJDK 64-Bit Server VM\n",
       "Default Encoding: UTF-8\n",
       "Language: en\n",
       "Country: null\n",
       "--></g></svg>"
      ]
     },
     "execution_count": 6,
     "metadata": {},
     "output_type": "execute_result"
    }
   ],
   "source": [
    "%viz --style=\"COMPTREE\" --view=\"Action\" \"DefaultValueTest\""
   ]
  },
  {
   "cell_type": "code",
   "execution_count": 7,
   "id": "68dafd29",
   "metadata": {
    "execution": {
     "iopub.execute_input": "2022-02-18T10:51:39.112625Z",
     "iopub.status.busy": "2022-02-18T10:51:39.112181Z",
     "iopub.status.idle": "2022-02-18T10:51:39.124105Z",
     "shell.execute_reply": "2022-02-18T10:51:39.124445Z"
    }
   },
   "outputs": [
    {
     "data": {
      "image/svg+xml": [
       "<?xml version=\"1.0\" encoding=\"UTF-8\" standalone=\"no\"?><svg xmlns=\"http://www.w3.org/2000/svg\" xmlns:xlink=\"http://www.w3.org/1999/xlink\" contentScriptType=\"application/ecmascript\" contentStyleType=\"text/css\" height=\"12px\" preserveAspectRatio=\"none\" style=\"width:12px;height:12px;\" version=\"1.1\" viewBox=\"0 0 12 12\" width=\"12px\" zoomAndPan=\"magnify\"><defs/><g><!--MD5=[803fc46c337be7a5c8a9831e35356779]\n",
       "@startuml\r\n",
       "skinparam roundcorner 20\r\n",
       "skinparam BoxPadding 20\r\n",
       "skinparam SequenceBoxBackgroundColor #white\r\n",
       "skinparam style strictuml\r\n",
       "skinparam maxMessageSize 100\r\n",
       " skinparam monochrome true\r\n",
       "skinparam classbackgroundcolor white\r\n",
       "skinparam shadowing false\r\n",
       "skinparam wrapWidth 300\r\n",
       "hide circle\r\n",
       "\r\n",
       "@enduml\r\n",
       "\n",
       "PlantUML version 1.2020.13(Sat Jun 13 12:26:38 UTC 2020)\n",
       "(EPL source distribution)\n",
       "Java Runtime: OpenJDK Runtime Environment\n",
       "JVM: OpenJDK 64-Bit Server VM\n",
       "Default Encoding: UTF-8\n",
       "Language: en\n",
       "Country: null\n",
       "--></g></svg>"
      ]
     },
     "execution_count": 7,
     "metadata": {},
     "output_type": "execute_result"
    }
   ],
   "source": [
    "%viz --style=\"COMPTREE\" --view=\"Sequence\" \"DefaultValueTest\""
   ]
  },
  {
   "cell_type": "code",
   "execution_count": 8,
   "id": "a8457b76",
   "metadata": {
    "execution": {
     "iopub.execute_input": "2022-02-18T10:51:39.174626Z",
     "iopub.status.busy": "2022-02-18T10:51:39.174216Z",
     "iopub.status.idle": "2022-02-18T10:51:39.286682Z",
     "shell.execute_reply": "2022-02-18T10:51:39.285312Z"
    }
   },
   "outputs": [
    {
     "data": {
      "image/svg+xml": [
       "<?xml version=\"1.0\" encoding=\"UTF-8\" standalone=\"no\"?><svg xmlns=\"http://www.w3.org/2000/svg\" xmlns:xlink=\"http://www.w3.org/1999/xlink\" contentScriptType=\"application/ecmascript\" contentStyleType=\"text/css\" height=\"305px\" preserveAspectRatio=\"none\" style=\"width:349px;height:305px;\" version=\"1.1\" viewBox=\"0 0 349 305\" width=\"349px\" zoomAndPan=\"magnify\"><defs/><g><!--MD5=[fbc87193dbaf4d95561dea2c320d4a47]\n",
       "cluster E1--><a href=\"psysml:6839459c-d74b-4e54-a7fb-96b2013b0c1a\" target=\"_top\" title=\"psysml:6839459c-d74b-4e54-a7fb-96b2013b0c1a\" xlink:actuate=\"onRequest\" xlink:href=\"psysml:6839459c-d74b-4e54-a7fb-96b2013b0c1a\" xlink:show=\"new\" xlink:title=\"psysml:6839459c-d74b-4e54-a7fb-96b2013b0c1a\" xlink:type=\"simple\"><polygon fill=\"#FFFFFF\" points=\"16,6,140,6,147,28.2969,327,28.2969,327,293,16,293,16,6\" style=\"stroke: #000000; stroke-width: 1.5;\"/><line style=\"stroke: #000000; stroke-width: 1.5;\" x1=\"16\" x2=\"147\" y1=\"28.2969\" y2=\"28.2969\"/><text fill=\"#000000\" font-family=\"sans-serif\" font-size=\"14\" font-weight=\"bold\" lengthAdjust=\"spacingAndGlyphs\" textLength=\"118\" x=\"20\" y=\"20.9951\">DefaultValueTest</text></a><!--MD5=[b4997ac47864f28c2f74865a473b2911]\n",
       "class E2--><a href=\"psysml:f6ad7545-3639-41cb-8da0-571497d98dc5\" target=\"_top\" title=\"psysml:f6ad7545-3639-41cb-8da0-571497d98dc5\" xlink:actuate=\"onRequest\" xlink:href=\"psysml:f6ad7545-3639-41cb-8da0-571497d98dc5\" xlink:show=\"new\" xlink:title=\"psysml:f6ad7545-3639-41cb-8da0-571497d98dc5\" xlink:type=\"simple\"><rect fill=\"#FFFFFF\" height=\"88.3516\" id=\"E2\" style=\"stroke: #383838; stroke-width: 1.5;\" width=\"106\" x=\"156\" y=\"189\"/><text fill=\"#000000\" font-family=\"sans-serif\" font-size=\"12\" font-style=\"italic\" lengthAdjust=\"spacingAndGlyphs\" textLength=\"68\" x=\"175\" y=\"205.1387\">«part  def»</text><text fill=\"#000000\" font-family=\"sans-serif\" font-size=\"12\" lengthAdjust=\"spacingAndGlyphs\" textLength=\"8\" x=\"205\" y=\"219.1074\">V</text><line style=\"stroke: #383838; stroke-width: 1.5;\" x1=\"157\" x2=\"261\" y1=\"226.9375\" y2=\"226.9375\"/><text fill=\"#000000\" font-family=\"sans-serif\" font-size=\"11\" lengthAdjust=\"spacingAndGlyphs\" textLength=\"94\" x=\"162\" y=\"257.9526\">m=default = 10;</text><text fill=\"#000000\" font-family=\"sans-serif\" font-size=\"11\" lengthAdjust=\"spacingAndGlyphs\" textLength=\"38\" x=\"162\" y=\"270.7573\">n= 20;</text><line style=\"stroke: #383838; stroke-width: 1.0;\" x1=\"157\" x2=\"181.5\" y1=\"241.3398\" y2=\"241.3398\"/><text fill=\"#000000\" font-family=\"sans-serif\" font-size=\"11\" lengthAdjust=\"spacingAndGlyphs\" textLength=\"55\" x=\"181.5\" y=\"244.6479\">attributes</text><line style=\"stroke: #383838; stroke-width: 1.0;\" x1=\"236.5\" x2=\"261\" y1=\"241.3398\" y2=\"241.3398\"/></a><!--MD5=[09b614a08d8cba4a07c9adeb5e0fee81]\n",
       "class E3--><a href=\"psysml:1ac351b0-bbdc-4492-9f99-b540f7d23706\" target=\"_top\" title=\"psysml:1ac351b0-bbdc-4492-9f99-b540f7d23706\" xlink:actuate=\"onRequest\" xlink:href=\"psysml:1ac351b0-bbdc-4492-9f99-b540f7d23706\" xlink:show=\"new\" xlink:title=\"psysml:1ac351b0-bbdc-4492-9f99-b540f7d23706\" xlink:type=\"simple\"><rect fill=\"#FFFFFF\" height=\"88.3516\" id=\"E3\" rx=\"10\" ry=\"10\" style=\"stroke: #383838; stroke-width: 1.5;\" width=\"63\" x=\"247.5\" y=\"41\"/><text fill=\"#000000\" font-family=\"sans-serif\" font-size=\"12\" font-style=\"italic\" lengthAdjust=\"spacingAndGlyphs\" textLength=\"40\" x=\"259\" y=\"57.1387\">«part»</text><text fill=\"#000000\" font-family=\"sans-serif\" font-size=\"12\" lengthAdjust=\"spacingAndGlyphs\" textLength=\"30\" x=\"262\" y=\"71.1074\">v1: V</text><line style=\"stroke: #383838; stroke-width: 1.5;\" x1=\"248.5\" x2=\"309.5\" y1=\"78.9375\" y2=\"78.9375\"/><text fill=\"#000000\" font-family=\"sans-serif\" font-size=\"11\" lengthAdjust=\"spacingAndGlyphs\" textLength=\"42\" x=\"253.5\" y=\"109.9526\">m= 20;</text><text fill=\"#000000\" font-family=\"sans-serif\" font-size=\"11\" font-style=\"italic\" lengthAdjust=\"spacingAndGlyphs\" textLength=\"48\" x=\"253.5\" y=\"122.7573\">:&gt;&gt;V::m</text><line style=\"stroke: #383838; stroke-width: 1.0;\" x1=\"248.5\" x2=\"251.5\" y1=\"93.3398\" y2=\"93.3398\"/><text fill=\"#000000\" font-family=\"sans-serif\" font-size=\"11\" lengthAdjust=\"spacingAndGlyphs\" textLength=\"55\" x=\"251.5\" y=\"96.6479\">attributes</text><line style=\"stroke: #383838; stroke-width: 1.0;\" x1=\"306.5\" x2=\"309.5\" y1=\"93.3398\" y2=\"93.3398\"/></a><!--MD5=[ebbe1d658d1005bcc118a6aa81145e00]\n",
       "class E4--><a href=\"psysml:aeba74e7-35ad-441a-aaf4-220a7e48fb18\" target=\"_top\" title=\"psysml:aeba74e7-35ad-441a-aaf4-220a7e48fb18\" xlink:actuate=\"onRequest\" xlink:href=\"psysml:aeba74e7-35ad-441a-aaf4-220a7e48fb18\" xlink:show=\"new\" xlink:title=\"psysml:aeba74e7-35ad-441a-aaf4-220a7e48fb18\" xlink:type=\"simple\"><rect fill=\"#FFFFFF\" height=\"88.3516\" id=\"E4\" style=\"stroke: #383838; stroke-width: 1.5;\" width=\"103\" x=\"109.5\" y=\"41\"/><text fill=\"#000000\" font-family=\"sans-serif\" font-size=\"12\" font-style=\"italic\" lengthAdjust=\"spacingAndGlyphs\" textLength=\"68\" x=\"127\" y=\"57.1387\">«part  def»</text><text fill=\"#000000\" font-family=\"sans-serif\" font-size=\"12\" lengthAdjust=\"spacingAndGlyphs\" textLength=\"11\" x=\"155.5\" y=\"71.1074\">W</text><line style=\"stroke: #383838; stroke-width: 1.5;\" x1=\"110.5\" x2=\"211.5\" y1=\"78.9375\" y2=\"78.9375\"/><text fill=\"#000000\" font-family=\"sans-serif\" font-size=\"11\" lengthAdjust=\"spacingAndGlyphs\" textLength=\"87\" x=\"115.5\" y=\"109.9526\">m=default = n;</text><text fill=\"#000000\" font-family=\"sans-serif\" font-size=\"11\" font-style=\"italic\" lengthAdjust=\"spacingAndGlyphs\" textLength=\"48\" x=\"115.5\" y=\"122.7573\">:&gt;&gt;V::m</text><line style=\"stroke: #383838; stroke-width: 1.0;\" x1=\"110.5\" x2=\"133.5\" y1=\"93.3398\" y2=\"93.3398\"/><text fill=\"#000000\" font-family=\"sans-serif\" font-size=\"11\" lengthAdjust=\"spacingAndGlyphs\" textLength=\"55\" x=\"133.5\" y=\"96.6479\">attributes</text><line style=\"stroke: #383838; stroke-width: 1.0;\" x1=\"188.5\" x2=\"211.5\" y1=\"93.3398\" y2=\"93.3398\"/></a><!--MD5=[270fce915f116d4de14055a7c1d9a0f3]\n",
       "class E5--><a href=\"psysml:8648f4f6-facd-4996-a918-0994903b340f\" target=\"_top\" title=\"psysml:8648f4f6-facd-4996-a918-0994903b340f\" xlink:actuate=\"onRequest\" xlink:href=\"psysml:8648f4f6-facd-4996-a918-0994903b340f\" xlink:show=\"new\" xlink:title=\"psysml:8648f4f6-facd-4996-a918-0994903b340f\" xlink:type=\"simple\"><rect fill=\"#FFFFFF\" height=\"45.9375\" id=\"E5\" rx=\"10\" ry=\"10\" style=\"stroke: #383838; stroke-width: 1.5;\" width=\"42\" x=\"32\" y=\"62\"/><text fill=\"#000000\" font-family=\"sans-serif\" font-size=\"12\" font-style=\"italic\" lengthAdjust=\"spacingAndGlyphs\" textLength=\"40\" x=\"33\" y=\"78.1387\">«part»</text><text fill=\"#000000\" font-family=\"sans-serif\" font-size=\"12\" lengthAdjust=\"spacingAndGlyphs\" textLength=\"14\" x=\"44\" y=\"92.1074\">v2</text><line style=\"stroke: #383838; stroke-width: 1.5;\" x1=\"33\" x2=\"73\" y1=\"99.9375\" y2=\"99.9375\"/></a><!--MD5=[05d275557350bfb9b23a4ef7222b4c39]\n",
       "link E3 to E2--><a href=\"psysml:f9d68518-1ffd-4856-b3d4-4b8d752762cd\" target=\"_top\" title=\"psysml:f9d68518-1ffd-4856-b3d4-4b8d752762cd\" xlink:actuate=\"onRequest\" xlink:href=\"psysml:f9d68518-1ffd-4856-b3d4-4b8d752762cd\" xlink:show=\"new\" xlink:title=\"psysml:f9d68518-1ffd-4856-b3d4-4b8d752762cd\" xlink:type=\"simple\"><path d=\"M258.38,129.02 C252.17,141.97 245.22,156.45 238.55,170.36 \" fill=\"none\" id=\"E3-&gt;E2\" style=\"stroke: #383838; stroke-width: 1.0;\"/><polygon fill=\"#FFFFFF\" points=\"229.72,188.79,231.6151,168.6304,244.2413,174.6786,229.72,188.79\" style=\"stroke: #383838; stroke-width: 1.0;\"/><ellipse cx=\"235.8813\" cy=\"164.3538\" fill=\"#383838\" rx=\"2\" ry=\"2\" style=\"stroke: #383838; stroke-width: 1.0;\"/><ellipse cx=\"244.9\" cy=\"168.6739\" fill=\"#383838\" rx=\"2\" ry=\"2\" style=\"stroke: #383838; stroke-width: 1.0;\"/></a><!--MD5=[185131fc0dcab0a4505a2ebe144e961b]\n",
       "link E4 to E2--><a href=\"psysml:13494711-98b1-4251-8963-46d1e0c35503\" target=\"_top\" title=\"psysml:13494711-98b1-4251-8963-46d1e0c35503\" xlink:actuate=\"onRequest\" xlink:href=\"psysml:13494711-98b1-4251-8963-46d1e0c35503\" xlink:show=\"new\" xlink:title=\"psysml:13494711-98b1-4251-8963-46d1e0c35503\" xlink:type=\"simple\"><path d=\"M175.14,129.02 C179.3,141.67 183.94,155.79 188.42,169.41 \" fill=\"none\" id=\"E4-&gt;E2\" style=\"stroke: #383838; stroke-width: 1.0;\"/><polygon fill=\"none\" points=\"195.2,167.6,194.79,188.79,181.9,171.97,195.2,167.6\" style=\"stroke: #383838; stroke-width: 1.0;\"/></a><!--MD5=[742bb30bdc9d5e85020c9b8041e725b8]\n",
       "@startuml\r\n",
       " skinparam monochrome true\r\n",
       "skinparam classbackgroundcolor white\r\n",
       "skinparam shadowing false\r\n",
       "skinparam wrapWidth 300\r\n",
       "hide circle\r\n",
       "\r\n",
       "package \"DefaultValueTest\" as E1  [[psysml:6839459c-d74b-4e54-a7fb-96b2013b0c1a ]]  {\r\n",
       "comp def \"V\" as E2  <<(T,blue) part  def>> [[psysml:f6ad7545-3639-41cb-8da0-571497d98dc5 ]] {\r\n",
       "- - attributes - -\r\n",
       "m=default = 10; \r\n",
       "n= 20; \r\n",
       "}\r\n",
       "comp usage \"v1: V \" as E3  <<(T,blue) part>> [[psysml:1ac351b0-bbdc-4492-9f99-b540f7d23706 ]] {\r\n",
       "- - attributes - -\r\n",
       "m= 20; \\n//:>>V::m// \r\n",
       "}\r\n",
       "comp def \"W\" as E4  <<(T,blue) part  def>> [[psysml:aeba74e7-35ad-441a-aaf4-220a7e48fb18 ]] {\r\n",
       "- - attributes - -\r\n",
       "m=default = n; \\n//:>>V::m// \r\n",
       "}\r\n",
       "comp usage \"v2 \" as E5  <<(T,blue) part>> [[psysml:8648f4f6-facd-4996-a918-0994903b340f ]] {\r\n",
       "}\r\n",
       "}\r\n",
       "E3 - -:|> E2 [[psysml:f9d68518-1ffd-4856-b3d4-4b8d752762cd ]] \r\n",
       "E4 - -|> E2 [[psysml:13494711-98b1-4251-8963-46d1e0c35503 ]] \r\n",
       "@enduml\r\n",
       "\n",
       "PlantUML version 1.2020.13(Sat Jun 13 12:26:38 UTC 2020)\n",
       "(EPL source distribution)\n",
       "Java Runtime: OpenJDK Runtime Environment\n",
       "JVM: OpenJDK 64-Bit Server VM\n",
       "Default Encoding: UTF-8\n",
       "Language: en\n",
       "Country: null\n",
       "--></g></svg>"
      ]
     },
     "execution_count": 8,
     "metadata": {},
     "output_type": "execute_result"
    }
   ],
   "source": [
    "%viz --style=\"COMPTREE\" --view=\"MIXED\" \"DefaultValueTest\""
   ]
  },
  {
   "cell_type": "code",
   "execution_count": 9,
   "id": "9281f66b",
   "metadata": {
    "execution": {
     "iopub.execute_input": "2022-02-18T10:51:39.336294Z",
     "iopub.status.busy": "2022-02-18T10:51:39.335813Z",
     "iopub.status.idle": "2022-02-18T10:51:39.429515Z",
     "shell.execute_reply": "2022-02-18T10:51:39.429120Z"
    }
   },
   "outputs": [
    {
     "data": {
      "image/svg+xml": [
       "<?xml version=\"1.0\" encoding=\"UTF-8\" standalone=\"no\"?><svg xmlns=\"http://www.w3.org/2000/svg\" xmlns:xlink=\"http://www.w3.org/1999/xlink\" contentScriptType=\"application/ecmascript\" contentStyleType=\"text/css\" height=\"305px\" preserveAspectRatio=\"none\" style=\"width:349px;height:305px;\" version=\"1.1\" viewBox=\"0 0 349 305\" width=\"349px\" zoomAndPan=\"magnify\"><defs/><g><!--MD5=[fbc87193dbaf4d95561dea2c320d4a47]\n",
       "cluster E1--><a href=\"psysml:6839459c-d74b-4e54-a7fb-96b2013b0c1a\" target=\"_top\" title=\"psysml:6839459c-d74b-4e54-a7fb-96b2013b0c1a\" xlink:actuate=\"onRequest\" xlink:href=\"psysml:6839459c-d74b-4e54-a7fb-96b2013b0c1a\" xlink:show=\"new\" xlink:title=\"psysml:6839459c-d74b-4e54-a7fb-96b2013b0c1a\" xlink:type=\"simple\"><polygon fill=\"#FFFFFF\" points=\"16,6,140,6,147,28.2969,327,28.2969,327,293,16,293,16,6\" style=\"stroke: #000000; stroke-width: 1.5;\"/><line style=\"stroke: #000000; stroke-width: 1.5;\" x1=\"16\" x2=\"147\" y1=\"28.2969\" y2=\"28.2969\"/><text fill=\"#000000\" font-family=\"sans-serif\" font-size=\"14\" font-weight=\"bold\" lengthAdjust=\"spacingAndGlyphs\" textLength=\"118\" x=\"20\" y=\"20.9951\">DefaultValueTest</text></a><!--MD5=[b4997ac47864f28c2f74865a473b2911]\n",
       "class E2--><a href=\"psysml:f6ad7545-3639-41cb-8da0-571497d98dc5\" target=\"_top\" title=\"psysml:f6ad7545-3639-41cb-8da0-571497d98dc5\" xlink:actuate=\"onRequest\" xlink:href=\"psysml:f6ad7545-3639-41cb-8da0-571497d98dc5\" xlink:show=\"new\" xlink:title=\"psysml:f6ad7545-3639-41cb-8da0-571497d98dc5\" xlink:type=\"simple\"><rect fill=\"#FFFFFF\" height=\"88.3516\" id=\"E2\" style=\"stroke: #383838; stroke-width: 1.5;\" width=\"106\" x=\"156\" y=\"189\"/><text fill=\"#000000\" font-family=\"sans-serif\" font-size=\"12\" font-style=\"italic\" lengthAdjust=\"spacingAndGlyphs\" textLength=\"68\" x=\"175\" y=\"205.1387\">«part  def»</text><text fill=\"#000000\" font-family=\"sans-serif\" font-size=\"12\" lengthAdjust=\"spacingAndGlyphs\" textLength=\"8\" x=\"205\" y=\"219.1074\">V</text><line style=\"stroke: #383838; stroke-width: 1.5;\" x1=\"157\" x2=\"261\" y1=\"226.9375\" y2=\"226.9375\"/><text fill=\"#000000\" font-family=\"sans-serif\" font-size=\"11\" lengthAdjust=\"spacingAndGlyphs\" textLength=\"94\" x=\"162\" y=\"257.9526\">m=default = 10;</text><text fill=\"#000000\" font-family=\"sans-serif\" font-size=\"11\" lengthAdjust=\"spacingAndGlyphs\" textLength=\"38\" x=\"162\" y=\"270.7573\">n= 20;</text><line style=\"stroke: #383838; stroke-width: 1.0;\" x1=\"157\" x2=\"181.5\" y1=\"241.3398\" y2=\"241.3398\"/><text fill=\"#000000\" font-family=\"sans-serif\" font-size=\"11\" lengthAdjust=\"spacingAndGlyphs\" textLength=\"55\" x=\"181.5\" y=\"244.6479\">attributes</text><line style=\"stroke: #383838; stroke-width: 1.0;\" x1=\"236.5\" x2=\"261\" y1=\"241.3398\" y2=\"241.3398\"/></a><!--MD5=[09b614a08d8cba4a07c9adeb5e0fee81]\n",
       "class E3--><a href=\"psysml:1ac351b0-bbdc-4492-9f99-b540f7d23706\" target=\"_top\" title=\"psysml:1ac351b0-bbdc-4492-9f99-b540f7d23706\" xlink:actuate=\"onRequest\" xlink:href=\"psysml:1ac351b0-bbdc-4492-9f99-b540f7d23706\" xlink:show=\"new\" xlink:title=\"psysml:1ac351b0-bbdc-4492-9f99-b540f7d23706\" xlink:type=\"simple\"><rect fill=\"#FFFFFF\" height=\"88.3516\" id=\"E3\" rx=\"10\" ry=\"10\" style=\"stroke: #383838; stroke-width: 1.5;\" width=\"63\" x=\"247.5\" y=\"41\"/><text fill=\"#000000\" font-family=\"sans-serif\" font-size=\"12\" font-style=\"italic\" lengthAdjust=\"spacingAndGlyphs\" textLength=\"40\" x=\"259\" y=\"57.1387\">«part»</text><text fill=\"#000000\" font-family=\"sans-serif\" font-size=\"12\" lengthAdjust=\"spacingAndGlyphs\" textLength=\"30\" x=\"262\" y=\"71.1074\">v1: V</text><line style=\"stroke: #383838; stroke-width: 1.5;\" x1=\"248.5\" x2=\"309.5\" y1=\"78.9375\" y2=\"78.9375\"/><text fill=\"#000000\" font-family=\"sans-serif\" font-size=\"11\" lengthAdjust=\"spacingAndGlyphs\" textLength=\"42\" x=\"253.5\" y=\"109.9526\">m= 20;</text><text fill=\"#000000\" font-family=\"sans-serif\" font-size=\"11\" font-style=\"italic\" lengthAdjust=\"spacingAndGlyphs\" textLength=\"48\" x=\"253.5\" y=\"122.7573\">:&gt;&gt;V::m</text><line style=\"stroke: #383838; stroke-width: 1.0;\" x1=\"248.5\" x2=\"251.5\" y1=\"93.3398\" y2=\"93.3398\"/><text fill=\"#000000\" font-family=\"sans-serif\" font-size=\"11\" lengthAdjust=\"spacingAndGlyphs\" textLength=\"55\" x=\"251.5\" y=\"96.6479\">attributes</text><line style=\"stroke: #383838; stroke-width: 1.0;\" x1=\"306.5\" x2=\"309.5\" y1=\"93.3398\" y2=\"93.3398\"/></a><!--MD5=[ebbe1d658d1005bcc118a6aa81145e00]\n",
       "class E4--><a href=\"psysml:aeba74e7-35ad-441a-aaf4-220a7e48fb18\" target=\"_top\" title=\"psysml:aeba74e7-35ad-441a-aaf4-220a7e48fb18\" xlink:actuate=\"onRequest\" xlink:href=\"psysml:aeba74e7-35ad-441a-aaf4-220a7e48fb18\" xlink:show=\"new\" xlink:title=\"psysml:aeba74e7-35ad-441a-aaf4-220a7e48fb18\" xlink:type=\"simple\"><rect fill=\"#FFFFFF\" height=\"88.3516\" id=\"E4\" style=\"stroke: #383838; stroke-width: 1.5;\" width=\"103\" x=\"109.5\" y=\"41\"/><text fill=\"#000000\" font-family=\"sans-serif\" font-size=\"12\" font-style=\"italic\" lengthAdjust=\"spacingAndGlyphs\" textLength=\"68\" x=\"127\" y=\"57.1387\">«part  def»</text><text fill=\"#000000\" font-family=\"sans-serif\" font-size=\"12\" lengthAdjust=\"spacingAndGlyphs\" textLength=\"11\" x=\"155.5\" y=\"71.1074\">W</text><line style=\"stroke: #383838; stroke-width: 1.5;\" x1=\"110.5\" x2=\"211.5\" y1=\"78.9375\" y2=\"78.9375\"/><text fill=\"#000000\" font-family=\"sans-serif\" font-size=\"11\" lengthAdjust=\"spacingAndGlyphs\" textLength=\"87\" x=\"115.5\" y=\"109.9526\">m=default = n;</text><text fill=\"#000000\" font-family=\"sans-serif\" font-size=\"11\" font-style=\"italic\" lengthAdjust=\"spacingAndGlyphs\" textLength=\"48\" x=\"115.5\" y=\"122.7573\">:&gt;&gt;V::m</text><line style=\"stroke: #383838; stroke-width: 1.0;\" x1=\"110.5\" x2=\"133.5\" y1=\"93.3398\" y2=\"93.3398\"/><text fill=\"#000000\" font-family=\"sans-serif\" font-size=\"11\" lengthAdjust=\"spacingAndGlyphs\" textLength=\"55\" x=\"133.5\" y=\"96.6479\">attributes</text><line style=\"stroke: #383838; stroke-width: 1.0;\" x1=\"188.5\" x2=\"211.5\" y1=\"93.3398\" y2=\"93.3398\"/></a><!--MD5=[270fce915f116d4de14055a7c1d9a0f3]\n",
       "class E5--><a href=\"psysml:8648f4f6-facd-4996-a918-0994903b340f\" target=\"_top\" title=\"psysml:8648f4f6-facd-4996-a918-0994903b340f\" xlink:actuate=\"onRequest\" xlink:href=\"psysml:8648f4f6-facd-4996-a918-0994903b340f\" xlink:show=\"new\" xlink:title=\"psysml:8648f4f6-facd-4996-a918-0994903b340f\" xlink:type=\"simple\"><rect fill=\"#FFFFFF\" height=\"45.9375\" id=\"E5\" rx=\"10\" ry=\"10\" style=\"stroke: #383838; stroke-width: 1.5;\" width=\"42\" x=\"32\" y=\"62\"/><text fill=\"#000000\" font-family=\"sans-serif\" font-size=\"12\" font-style=\"italic\" lengthAdjust=\"spacingAndGlyphs\" textLength=\"40\" x=\"33\" y=\"78.1387\">«part»</text><text fill=\"#000000\" font-family=\"sans-serif\" font-size=\"12\" lengthAdjust=\"spacingAndGlyphs\" textLength=\"14\" x=\"44\" y=\"92.1074\">v2</text><line style=\"stroke: #383838; stroke-width: 1.5;\" x1=\"33\" x2=\"73\" y1=\"99.9375\" y2=\"99.9375\"/></a><!--MD5=[05d275557350bfb9b23a4ef7222b4c39]\n",
       "link E3 to E2--><a href=\"psysml:f9d68518-1ffd-4856-b3d4-4b8d752762cd\" target=\"_top\" title=\"psysml:f9d68518-1ffd-4856-b3d4-4b8d752762cd\" xlink:actuate=\"onRequest\" xlink:href=\"psysml:f9d68518-1ffd-4856-b3d4-4b8d752762cd\" xlink:show=\"new\" xlink:title=\"psysml:f9d68518-1ffd-4856-b3d4-4b8d752762cd\" xlink:type=\"simple\"><path d=\"M258.38,129.02 C252.17,141.97 245.22,156.45 238.55,170.36 \" fill=\"none\" id=\"E3-&gt;E2\" style=\"stroke: #383838; stroke-width: 1.0;\"/><polygon fill=\"#FFFFFF\" points=\"229.72,188.79,231.6151,168.6304,244.2413,174.6786,229.72,188.79\" style=\"stroke: #383838; stroke-width: 1.0;\"/><ellipse cx=\"235.8813\" cy=\"164.3538\" fill=\"#383838\" rx=\"2\" ry=\"2\" style=\"stroke: #383838; stroke-width: 1.0;\"/><ellipse cx=\"244.9\" cy=\"168.6739\" fill=\"#383838\" rx=\"2\" ry=\"2\" style=\"stroke: #383838; stroke-width: 1.0;\"/></a><!--MD5=[185131fc0dcab0a4505a2ebe144e961b]\n",
       "link E4 to E2--><a href=\"psysml:13494711-98b1-4251-8963-46d1e0c35503\" target=\"_top\" title=\"psysml:13494711-98b1-4251-8963-46d1e0c35503\" xlink:actuate=\"onRequest\" xlink:href=\"psysml:13494711-98b1-4251-8963-46d1e0c35503\" xlink:show=\"new\" xlink:title=\"psysml:13494711-98b1-4251-8963-46d1e0c35503\" xlink:type=\"simple\"><path d=\"M175.14,129.02 C179.3,141.67 183.94,155.79 188.42,169.41 \" fill=\"none\" id=\"E4-&gt;E2\" style=\"stroke: #383838; stroke-width: 1.0;\"/><polygon fill=\"none\" points=\"195.2,167.6,194.79,188.79,181.9,171.97,195.2,167.6\" style=\"stroke: #383838; stroke-width: 1.0;\"/></a><!--MD5=[9e0aa1e2e46d241e1387c35746e1bb2e]\n",
       "@startuml\r\n",
       "skinparam linetype polyline\r\n",
       "skinparam monochrome true\r\n",
       "skinparam classbackgroundcolor white\r\n",
       "skinparam shadowing false\r\n",
       "skinparam wrapWidth 300\r\n",
       "hide circle\r\n",
       "\r\n",
       "package \"DefaultValueTest\" as E1  [[psysml:6839459c-d74b-4e54-a7fb-96b2013b0c1a ]]  {\r\n",
       "comp def \"V\" as E2  <<(T,blue) part  def>> [[psysml:f6ad7545-3639-41cb-8da0-571497d98dc5 ]] {\r\n",
       "- - attributes - -\r\n",
       "m=default = 10; \r\n",
       "n= 20; \r\n",
       "}\r\n",
       "comp usage \"v1: V \" as E3  <<(T,blue) part>> [[psysml:1ac351b0-bbdc-4492-9f99-b540f7d23706 ]] {\r\n",
       "- - attributes - -\r\n",
       "m= 20; \\n//:>>V::m// \r\n",
       "}\r\n",
       "comp def \"W\" as E4  <<(T,blue) part  def>> [[psysml:aeba74e7-35ad-441a-aaf4-220a7e48fb18 ]] {\r\n",
       "- - attributes - -\r\n",
       "m=default = n; \\n//:>>V::m// \r\n",
       "}\r\n",
       "comp usage \"v2 \" as E5  <<(T,blue) part>> [[psysml:8648f4f6-facd-4996-a918-0994903b340f ]] {\r\n",
       "}\r\n",
       "}\r\n",
       "E3 - -:|> E2 [[psysml:f9d68518-1ffd-4856-b3d4-4b8d752762cd ]] \r\n",
       "E4 - -|> E2 [[psysml:13494711-98b1-4251-8963-46d1e0c35503 ]] \r\n",
       "@enduml\r\n",
       "\n",
       "PlantUML version 1.2020.13(Sat Jun 13 12:26:38 UTC 2020)\n",
       "(EPL source distribution)\n",
       "Java Runtime: OpenJDK Runtime Environment\n",
       "JVM: OpenJDK 64-Bit Server VM\n",
       "Default Encoding: UTF-8\n",
       "Language: en\n",
       "Country: null\n",
       "--></g></svg>"
      ]
     },
     "execution_count": 9,
     "metadata": {},
     "output_type": "execute_result"
    }
   ],
   "source": [
    "%viz --style=\"POLYLINE\" --view=\"Default\" \"DefaultValueTest\""
   ]
  },
  {
   "cell_type": "code",
   "execution_count": 10,
   "id": "821b8628",
   "metadata": {
    "execution": {
     "iopub.execute_input": "2022-02-18T10:51:39.479022Z",
     "iopub.status.busy": "2022-02-18T10:51:39.478364Z",
     "iopub.status.idle": "2022-02-18T10:51:39.568784Z",
     "shell.execute_reply": "2022-02-18T10:51:39.567255Z"
    }
   },
   "outputs": [
    {
     "data": {
      "image/svg+xml": [
       "<?xml version=\"1.0\" encoding=\"UTF-8\" standalone=\"no\"?><svg xmlns=\"http://www.w3.org/2000/svg\" xmlns:xlink=\"http://www.w3.org/1999/xlink\" contentScriptType=\"application/ecmascript\" contentStyleType=\"text/css\" height=\"305px\" preserveAspectRatio=\"none\" style=\"width:349px;height:305px;\" version=\"1.1\" viewBox=\"0 0 349 305\" width=\"349px\" zoomAndPan=\"magnify\"><defs/><g><!--MD5=[fbc87193dbaf4d95561dea2c320d4a47]\n",
       "cluster E1--><a href=\"psysml:6839459c-d74b-4e54-a7fb-96b2013b0c1a\" target=\"_top\" title=\"psysml:6839459c-d74b-4e54-a7fb-96b2013b0c1a\" xlink:actuate=\"onRequest\" xlink:href=\"psysml:6839459c-d74b-4e54-a7fb-96b2013b0c1a\" xlink:show=\"new\" xlink:title=\"psysml:6839459c-d74b-4e54-a7fb-96b2013b0c1a\" xlink:type=\"simple\"><polygon fill=\"#FFFFFF\" points=\"16,6,140,6,147,28.2969,327,28.2969,327,293,16,293,16,6\" style=\"stroke: #000000; stroke-width: 1.5;\"/><line style=\"stroke: #000000; stroke-width: 1.5;\" x1=\"16\" x2=\"147\" y1=\"28.2969\" y2=\"28.2969\"/><text fill=\"#000000\" font-family=\"sans-serif\" font-size=\"14\" font-weight=\"bold\" lengthAdjust=\"spacingAndGlyphs\" textLength=\"118\" x=\"20\" y=\"20.9951\">DefaultValueTest</text></a><!--MD5=[b4997ac47864f28c2f74865a473b2911]\n",
       "class E2--><a href=\"psysml:f6ad7545-3639-41cb-8da0-571497d98dc5\" target=\"_top\" title=\"psysml:f6ad7545-3639-41cb-8da0-571497d98dc5\" xlink:actuate=\"onRequest\" xlink:href=\"psysml:f6ad7545-3639-41cb-8da0-571497d98dc5\" xlink:show=\"new\" xlink:title=\"psysml:f6ad7545-3639-41cb-8da0-571497d98dc5\" xlink:type=\"simple\"><rect fill=\"#FFFFFF\" height=\"88.3516\" id=\"E2\" style=\"stroke: #383838; stroke-width: 1.5;\" width=\"106\" x=\"156\" y=\"189\"/><text fill=\"#000000\" font-family=\"sans-serif\" font-size=\"12\" font-style=\"italic\" lengthAdjust=\"spacingAndGlyphs\" textLength=\"68\" x=\"175\" y=\"205.1387\">«part  def»</text><text fill=\"#000000\" font-family=\"sans-serif\" font-size=\"12\" lengthAdjust=\"spacingAndGlyphs\" textLength=\"8\" x=\"205\" y=\"219.1074\">V</text><line style=\"stroke: #383838; stroke-width: 1.5;\" x1=\"157\" x2=\"261\" y1=\"226.9375\" y2=\"226.9375\"/><text fill=\"#000000\" font-family=\"sans-serif\" font-size=\"11\" lengthAdjust=\"spacingAndGlyphs\" textLength=\"94\" x=\"162\" y=\"257.9526\">m=default = 10;</text><text fill=\"#000000\" font-family=\"sans-serif\" font-size=\"11\" lengthAdjust=\"spacingAndGlyphs\" textLength=\"38\" x=\"162\" y=\"270.7573\">n= 20;</text><line style=\"stroke: #383838; stroke-width: 1.0;\" x1=\"157\" x2=\"181.5\" y1=\"241.3398\" y2=\"241.3398\"/><text fill=\"#000000\" font-family=\"sans-serif\" font-size=\"11\" lengthAdjust=\"spacingAndGlyphs\" textLength=\"55\" x=\"181.5\" y=\"244.6479\">attributes</text><line style=\"stroke: #383838; stroke-width: 1.0;\" x1=\"236.5\" x2=\"261\" y1=\"241.3398\" y2=\"241.3398\"/></a><!--MD5=[09b614a08d8cba4a07c9adeb5e0fee81]\n",
       "class E3--><a href=\"psysml:1ac351b0-bbdc-4492-9f99-b540f7d23706\" target=\"_top\" title=\"psysml:1ac351b0-bbdc-4492-9f99-b540f7d23706\" xlink:actuate=\"onRequest\" xlink:href=\"psysml:1ac351b0-bbdc-4492-9f99-b540f7d23706\" xlink:show=\"new\" xlink:title=\"psysml:1ac351b0-bbdc-4492-9f99-b540f7d23706\" xlink:type=\"simple\"><rect fill=\"#FFFFFF\" height=\"88.3516\" id=\"E3\" rx=\"10\" ry=\"10\" style=\"stroke: #383838; stroke-width: 1.5;\" width=\"63\" x=\"247.5\" y=\"41\"/><text fill=\"#000000\" font-family=\"sans-serif\" font-size=\"12\" font-style=\"italic\" lengthAdjust=\"spacingAndGlyphs\" textLength=\"40\" x=\"259\" y=\"57.1387\">«part»</text><text fill=\"#000000\" font-family=\"sans-serif\" font-size=\"12\" lengthAdjust=\"spacingAndGlyphs\" textLength=\"30\" x=\"262\" y=\"71.1074\">v1: V</text><line style=\"stroke: #383838; stroke-width: 1.5;\" x1=\"248.5\" x2=\"309.5\" y1=\"78.9375\" y2=\"78.9375\"/><text fill=\"#000000\" font-family=\"sans-serif\" font-size=\"11\" lengthAdjust=\"spacingAndGlyphs\" textLength=\"42\" x=\"253.5\" y=\"109.9526\">m= 20;</text><text fill=\"#000000\" font-family=\"sans-serif\" font-size=\"11\" font-style=\"italic\" lengthAdjust=\"spacingAndGlyphs\" textLength=\"48\" x=\"253.5\" y=\"122.7573\">:&gt;&gt;V::m</text><line style=\"stroke: #383838; stroke-width: 1.0;\" x1=\"248.5\" x2=\"251.5\" y1=\"93.3398\" y2=\"93.3398\"/><text fill=\"#000000\" font-family=\"sans-serif\" font-size=\"11\" lengthAdjust=\"spacingAndGlyphs\" textLength=\"55\" x=\"251.5\" y=\"96.6479\">attributes</text><line style=\"stroke: #383838; stroke-width: 1.0;\" x1=\"306.5\" x2=\"309.5\" y1=\"93.3398\" y2=\"93.3398\"/></a><!--MD5=[ebbe1d658d1005bcc118a6aa81145e00]\n",
       "class E4--><a href=\"psysml:aeba74e7-35ad-441a-aaf4-220a7e48fb18\" target=\"_top\" title=\"psysml:aeba74e7-35ad-441a-aaf4-220a7e48fb18\" xlink:actuate=\"onRequest\" xlink:href=\"psysml:aeba74e7-35ad-441a-aaf4-220a7e48fb18\" xlink:show=\"new\" xlink:title=\"psysml:aeba74e7-35ad-441a-aaf4-220a7e48fb18\" xlink:type=\"simple\"><rect fill=\"#FFFFFF\" height=\"88.3516\" id=\"E4\" style=\"stroke: #383838; stroke-width: 1.5;\" width=\"103\" x=\"109.5\" y=\"41\"/><text fill=\"#000000\" font-family=\"sans-serif\" font-size=\"12\" font-style=\"italic\" lengthAdjust=\"spacingAndGlyphs\" textLength=\"68\" x=\"127\" y=\"57.1387\">«part  def»</text><text fill=\"#000000\" font-family=\"sans-serif\" font-size=\"12\" lengthAdjust=\"spacingAndGlyphs\" textLength=\"11\" x=\"155.5\" y=\"71.1074\">W</text><line style=\"stroke: #383838; stroke-width: 1.5;\" x1=\"110.5\" x2=\"211.5\" y1=\"78.9375\" y2=\"78.9375\"/><text fill=\"#000000\" font-family=\"sans-serif\" font-size=\"11\" lengthAdjust=\"spacingAndGlyphs\" textLength=\"87\" x=\"115.5\" y=\"109.9526\">m=default = n;</text><text fill=\"#000000\" font-family=\"sans-serif\" font-size=\"11\" font-style=\"italic\" lengthAdjust=\"spacingAndGlyphs\" textLength=\"48\" x=\"115.5\" y=\"122.7573\">:&gt;&gt;V::m</text><line style=\"stroke: #383838; stroke-width: 1.0;\" x1=\"110.5\" x2=\"133.5\" y1=\"93.3398\" y2=\"93.3398\"/><text fill=\"#000000\" font-family=\"sans-serif\" font-size=\"11\" lengthAdjust=\"spacingAndGlyphs\" textLength=\"55\" x=\"133.5\" y=\"96.6479\">attributes</text><line style=\"stroke: #383838; stroke-width: 1.0;\" x1=\"188.5\" x2=\"211.5\" y1=\"93.3398\" y2=\"93.3398\"/></a><!--MD5=[270fce915f116d4de14055a7c1d9a0f3]\n",
       "class E5--><a href=\"psysml:8648f4f6-facd-4996-a918-0994903b340f\" target=\"_top\" title=\"psysml:8648f4f6-facd-4996-a918-0994903b340f\" xlink:actuate=\"onRequest\" xlink:href=\"psysml:8648f4f6-facd-4996-a918-0994903b340f\" xlink:show=\"new\" xlink:title=\"psysml:8648f4f6-facd-4996-a918-0994903b340f\" xlink:type=\"simple\"><rect fill=\"#FFFFFF\" height=\"45.9375\" id=\"E5\" rx=\"10\" ry=\"10\" style=\"stroke: #383838; stroke-width: 1.5;\" width=\"42\" x=\"32\" y=\"62\"/><text fill=\"#000000\" font-family=\"sans-serif\" font-size=\"12\" font-style=\"italic\" lengthAdjust=\"spacingAndGlyphs\" textLength=\"40\" x=\"33\" y=\"78.1387\">«part»</text><text fill=\"#000000\" font-family=\"sans-serif\" font-size=\"12\" lengthAdjust=\"spacingAndGlyphs\" textLength=\"14\" x=\"44\" y=\"92.1074\">v2</text><line style=\"stroke: #383838; stroke-width: 1.5;\" x1=\"33\" x2=\"73\" y1=\"99.9375\" y2=\"99.9375\"/></a><!--MD5=[05d275557350bfb9b23a4ef7222b4c39]\n",
       "link E3 to E2--><a href=\"psysml:f9d68518-1ffd-4856-b3d4-4b8d752762cd\" target=\"_top\" title=\"psysml:f9d68518-1ffd-4856-b3d4-4b8d752762cd\" xlink:actuate=\"onRequest\" xlink:href=\"psysml:f9d68518-1ffd-4856-b3d4-4b8d752762cd\" xlink:show=\"new\" xlink:title=\"psysml:f9d68518-1ffd-4856-b3d4-4b8d752762cd\" xlink:type=\"simple\"><path d=\"M258.38,129.02 C252.17,141.97 245.22,156.45 238.55,170.36 \" fill=\"none\" id=\"E3-&gt;E2\" style=\"stroke: #383838; stroke-width: 1.0;\"/><polygon fill=\"#FFFFFF\" points=\"229.72,188.79,231.6151,168.6304,244.2413,174.6786,229.72,188.79\" style=\"stroke: #383838; stroke-width: 1.0;\"/><ellipse cx=\"235.8813\" cy=\"164.3538\" fill=\"#383838\" rx=\"2\" ry=\"2\" style=\"stroke: #383838; stroke-width: 1.0;\"/><ellipse cx=\"244.9\" cy=\"168.6739\" fill=\"#383838\" rx=\"2\" ry=\"2\" style=\"stroke: #383838; stroke-width: 1.0;\"/></a><!--MD5=[185131fc0dcab0a4505a2ebe144e961b]\n",
       "link E4 to E2--><a href=\"psysml:13494711-98b1-4251-8963-46d1e0c35503\" target=\"_top\" title=\"psysml:13494711-98b1-4251-8963-46d1e0c35503\" xlink:actuate=\"onRequest\" xlink:href=\"psysml:13494711-98b1-4251-8963-46d1e0c35503\" xlink:show=\"new\" xlink:title=\"psysml:13494711-98b1-4251-8963-46d1e0c35503\" xlink:type=\"simple\"><path d=\"M175.14,129.02 C179.3,141.67 183.94,155.79 188.42,169.41 \" fill=\"none\" id=\"E4-&gt;E2\" style=\"stroke: #383838; stroke-width: 1.0;\"/><polygon fill=\"none\" points=\"195.2,167.6,194.79,188.79,181.9,171.97,195.2,167.6\" style=\"stroke: #383838; stroke-width: 1.0;\"/></a><!--MD5=[9e0aa1e2e46d241e1387c35746e1bb2e]\n",
       "@startuml\r\n",
       "skinparam linetype polyline\r\n",
       "skinparam monochrome true\r\n",
       "skinparam classbackgroundcolor white\r\n",
       "skinparam shadowing false\r\n",
       "skinparam wrapWidth 300\r\n",
       "hide circle\r\n",
       "\r\n",
       "package \"DefaultValueTest\" as E1  [[psysml:6839459c-d74b-4e54-a7fb-96b2013b0c1a ]]  {\r\n",
       "comp def \"V\" as E2  <<(T,blue) part  def>> [[psysml:f6ad7545-3639-41cb-8da0-571497d98dc5 ]] {\r\n",
       "- - attributes - -\r\n",
       "m=default = 10; \r\n",
       "n= 20; \r\n",
       "}\r\n",
       "comp usage \"v1: V \" as E3  <<(T,blue) part>> [[psysml:1ac351b0-bbdc-4492-9f99-b540f7d23706 ]] {\r\n",
       "- - attributes - -\r\n",
       "m= 20; \\n//:>>V::m// \r\n",
       "}\r\n",
       "comp def \"W\" as E4  <<(T,blue) part  def>> [[psysml:aeba74e7-35ad-441a-aaf4-220a7e48fb18 ]] {\r\n",
       "- - attributes - -\r\n",
       "m=default = n; \\n//:>>V::m// \r\n",
       "}\r\n",
       "comp usage \"v2 \" as E5  <<(T,blue) part>> [[psysml:8648f4f6-facd-4996-a918-0994903b340f ]] {\r\n",
       "}\r\n",
       "}\r\n",
       "E3 - -:|> E2 [[psysml:f9d68518-1ffd-4856-b3d4-4b8d752762cd ]] \r\n",
       "E4 - -|> E2 [[psysml:13494711-98b1-4251-8963-46d1e0c35503 ]] \r\n",
       "@enduml\r\n",
       "\n",
       "PlantUML version 1.2020.13(Sat Jun 13 12:26:38 UTC 2020)\n",
       "(EPL source distribution)\n",
       "Java Runtime: OpenJDK Runtime Environment\n",
       "JVM: OpenJDK 64-Bit Server VM\n",
       "Default Encoding: UTF-8\n",
       "Language: en\n",
       "Country: null\n",
       "--></g></svg>"
      ]
     },
     "execution_count": 10,
     "metadata": {},
     "output_type": "execute_result"
    }
   ],
   "source": [
    "%viz --style=\"POLYLINE\" --view=\"Tree\" \"DefaultValueTest\""
   ]
  },
  {
   "cell_type": "code",
   "execution_count": 11,
   "id": "f37b44f3",
   "metadata": {
    "execution": {
     "iopub.execute_input": "2022-02-18T10:51:39.617951Z",
     "iopub.status.busy": "2022-02-18T10:51:39.617528Z",
     "iopub.status.idle": "2022-02-18T10:51:39.621759Z",
     "shell.execute_reply": "2022-02-18T10:51:39.621387Z"
    }
   },
   "outputs": [
    {
     "data": {
      "image/svg+xml": [
       "<?xml version=\"1.0\" encoding=\"UTF-8\" standalone=\"no\"?><svg xmlns=\"http://www.w3.org/2000/svg\" xmlns:xlink=\"http://www.w3.org/1999/xlink\" contentScriptType=\"application/ecmascript\" contentStyleType=\"text/css\" height=\"12px\" preserveAspectRatio=\"none\" style=\"width:12px;height:12px;\" version=\"1.1\" viewBox=\"0 0 12 12\" width=\"12px\" zoomAndPan=\"magnify\"><defs/><g><!--MD5=[896ac0e7a515d8dd7765a661cb4ee08b]\n",
       "@startuml\r\n",
       "skinparam linetype polyline\r\n",
       "skinparam monochrome true\r\n",
       "skinparam classbackgroundcolor white\r\n",
       "skinparam shadowing false\r\n",
       "skinparam wrapWidth 300\r\n",
       "hide circle\r\n",
       "\r\n",
       "@enduml\r\n",
       "\n",
       "PlantUML version 1.2020.13(Sat Jun 13 12:26:38 UTC 2020)\n",
       "(EPL source distribution)\n",
       "Java Runtime: OpenJDK Runtime Environment\n",
       "JVM: OpenJDK 64-Bit Server VM\n",
       "Default Encoding: UTF-8\n",
       "Language: en\n",
       "Country: null\n",
       "--></g></svg>"
      ]
     },
     "execution_count": 11,
     "metadata": {},
     "output_type": "execute_result"
    }
   ],
   "source": [
    "%viz --style=\"POLYLINE\" --view=\"State\" \"DefaultValueTest\""
   ]
  },
  {
   "cell_type": "code",
   "execution_count": 12,
   "id": "e7a77be2",
   "metadata": {
    "execution": {
     "iopub.execute_input": "2022-02-18T10:51:39.671536Z",
     "iopub.status.busy": "2022-02-18T10:51:39.671115Z",
     "iopub.status.idle": "2022-02-18T10:51:39.713206Z",
     "shell.execute_reply": "2022-02-18T10:51:39.712839Z"
    }
   },
   "outputs": [
    {
     "data": {
      "image/svg+xml": [
       "<?xml version=\"1.0\" encoding=\"UTF-8\" standalone=\"no\"?><svg xmlns=\"http://www.w3.org/2000/svg\" xmlns:xlink=\"http://www.w3.org/1999/xlink\" contentScriptType=\"application/ecmascript\" contentStyleType=\"text/css\" height=\"399px\" preserveAspectRatio=\"none\" style=\"width:448px;height:399px;\" version=\"1.1\" viewBox=\"0 0 448 399\" width=\"448px\" zoomAndPan=\"magnify\"><defs/><g><!--MD5=[fbc87193dbaf4d95561dea2c320d4a47]\n",
       "cluster E1--><a href=\"psysml:6839459c-d74b-4e54-a7fb-96b2013b0c1a\" target=\"_top\" title=\"psysml:6839459c-d74b-4e54-a7fb-96b2013b0c1a\" xlink:actuate=\"onRequest\" xlink:href=\"psysml:6839459c-d74b-4e54-a7fb-96b2013b0c1a\" xlink:show=\"new\" xlink:title=\"psysml:6839459c-d74b-4e54-a7fb-96b2013b0c1a\" xlink:type=\"simple\"><polygon fill=\"#FFFFFF\" points=\"16,6,140,6,147,28.2969,426,28.2969,426,387,16,387,16,6\" style=\"stroke: #000000; stroke-width: 1.5;\"/><line style=\"stroke: #000000; stroke-width: 1.5;\" x1=\"16\" x2=\"147\" y1=\"28.2969\" y2=\"28.2969\"/><text fill=\"#000000\" font-family=\"sans-serif\" font-size=\"14\" font-weight=\"bold\" lengthAdjust=\"spacingAndGlyphs\" textLength=\"118\" x=\"20\" y=\"20.9951\">DefaultValueTest</text></a><!--MD5=[e4f7fae6ed58524ba242bb0b0d3be6b7]\n",
       "cluster E2--><a href=\"psysml:f6ad7545-3639-41cb-8da0-571497d98dc5\" target=\"_top\" title=\"psysml:f6ad7545-3639-41cb-8da0-571497d98dc5\" xlink:actuate=\"onRequest\" xlink:href=\"psysml:f6ad7545-3639-41cb-8da0-571497d98dc5\" xlink:show=\"new\" xlink:title=\"psysml:f6ad7545-3639-41cb-8da0-571497d98dc5\" xlink:type=\"simple\"><rect fill=\"#FFFFFF\" height=\"129\" id=\"E2\" style=\"stroke: #383838; stroke-width: 1.5;\" width=\"245\" x=\"127\" y=\"226\"/><rect fill=\"#F8F8F8\" height=\"37.9375\" style=\"stroke: #383838; stroke-width: 1.5;\" width=\"245\" x=\"127\" y=\"226\"/><text fill=\"#000000\" font-family=\"sans-serif\" font-size=\"12\" font-style=\"italic\" lengthAdjust=\"spacingAndGlyphs\" textLength=\"68\" x=\"215.5\" y=\"242.1387\">«part  def»</text><text fill=\"#000000\" font-family=\"sans-serif\" font-size=\"12\" lengthAdjust=\"spacingAndGlyphs\" textLength=\"8\" x=\"245.5\" y=\"256.1074\">V</text></a><!--MD5=[de5ec2e2e8f62f467e546659f5068c88]\n",
       "cluster E5--><a href=\"psysml:1ac351b0-bbdc-4492-9f99-b540f7d23706\" target=\"_top\" title=\"psysml:1ac351b0-bbdc-4492-9f99-b540f7d23706\" xlink:actuate=\"onRequest\" xlink:href=\"psysml:1ac351b0-bbdc-4492-9f99-b540f7d23706\" xlink:show=\"new\" xlink:title=\"psysml:1ac351b0-bbdc-4492-9f99-b540f7d23706\" xlink:type=\"simple\"><rect fill=\"#FFFFFF\" height=\"97\" id=\"E5\" rx=\"10\" ry=\"10\" style=\"stroke: #383838; stroke-width: 1.5;\" width=\"104\" x=\"298\" y=\"81\"/><rect fill=\"#F8F8F8\" height=\"23.9688\" rx=\"10\" ry=\"10\" style=\"stroke: #F8F8F8; stroke-width: 1.5;\" width=\"104\" x=\"298\" y=\"81\"/><rect fill=\"#F8F8F8\" height=\"10\" style=\"stroke: #F8F8F8; stroke-width: 1.5;\" width=\"104\" x=\"298\" y=\"94.9688\"/><rect fill=\"none\" height=\"97\" id=\"E5\" rx=\"10\" ry=\"10\" style=\"stroke: #383838; stroke-width: 1.5;\" width=\"104\" x=\"298\" y=\"81\"/><text fill=\"#000000\" font-family=\"sans-serif\" font-size=\"12\" lengthAdjust=\"spacingAndGlyphs\" textLength=\"30\" x=\"335\" y=\"97.1387\">v1: V</text><line style=\"stroke: #383838; stroke-width: 1.0;\" x1=\"298\" x2=\"402\" y1=\"104.9688\" y2=\"104.9688\"/></a><!--MD5=[168fadf3d0c3fd93dd5d6da1b1d7ab76]\n",
       "cluster E7--><a href=\"psysml:aeba74e7-35ad-441a-aaf4-220a7e48fb18\" target=\"_top\" title=\"psysml:aeba74e7-35ad-441a-aaf4-220a7e48fb18\" xlink:actuate=\"onRequest\" xlink:href=\"psysml:aeba74e7-35ad-441a-aaf4-220a7e48fb18\" xlink:show=\"new\" xlink:title=\"psysml:aeba74e7-35ad-441a-aaf4-220a7e48fb18\" xlink:type=\"simple\"><rect fill=\"#FFFFFF\" height=\"129\" id=\"E7\" style=\"stroke: #383838; stroke-width: 1.5;\" width=\"139\" x=\"127\" y=\"57\"/><rect fill=\"#F8F8F8\" height=\"37.9375\" style=\"stroke: #383838; stroke-width: 1.5;\" width=\"139\" x=\"127\" y=\"57\"/><text fill=\"#000000\" font-family=\"sans-serif\" font-size=\"12\" font-style=\"italic\" lengthAdjust=\"spacingAndGlyphs\" textLength=\"68\" x=\"162.5\" y=\"73.1387\">«part  def»</text><text fill=\"#000000\" font-family=\"sans-serif\" font-size=\"12\" lengthAdjust=\"spacingAndGlyphs\" textLength=\"11\" x=\"191\" y=\"87.1074\">W</text></a><!--MD5=[09b614a08d8cba4a07c9adeb5e0fee81]\n",
       "class E3--><a href=\"psysml:075fa6d2-8e51-4049-a184-a21376454cfa\" target=\"_top\" title=\"psysml:075fa6d2-8e51-4049-a184-a21376454cfa\" xlink:actuate=\"onRequest\" xlink:href=\"psysml:075fa6d2-8e51-4049-a184-a21376454cfa\" xlink:show=\"new\" xlink:title=\"psysml:075fa6d2-8e51-4049-a184-a21376454cfa\" xlink:type=\"simple\"><rect fill=\"#FFFFFF\" height=\"45.9375\" id=\"E3\" rx=\"10\" ry=\"10\" style=\"stroke: #383838; stroke-width: 1.5;\" width=\"71\" x=\"276.5\" y=\"285\"/><text fill=\"#000000\" font-family=\"sans-serif\" font-size=\"12\" font-style=\"italic\" lengthAdjust=\"spacingAndGlyphs\" textLength=\"69\" x=\"277.5\" y=\"301.1387\">«attribute»</text><text fill=\"#000000\" font-family=\"sans-serif\" font-size=\"12\" lengthAdjust=\"spacingAndGlyphs\" textLength=\"11\" x=\"304.5\" y=\"315.1074\">m</text><line style=\"stroke: #383838; stroke-width: 1.5;\" x1=\"277.5\" x2=\"346.5\" y1=\"322.9375\" y2=\"322.9375\"/></a><!--MD5=[ebbe1d658d1005bcc118a6aa81145e00]\n",
       "class E4--><a href=\"psysml:0ef473ce-6f49-4b48-ae7c-25bde7c2058c\" target=\"_top\" title=\"psysml:0ef473ce-6f49-4b48-ae7c-25bde7c2058c\" xlink:actuate=\"onRequest\" xlink:href=\"psysml:0ef473ce-6f49-4b48-ae7c-25bde7c2058c\" xlink:show=\"new\" xlink:title=\"psysml:0ef473ce-6f49-4b48-ae7c-25bde7c2058c\" xlink:type=\"simple\"><rect fill=\"#FFFFFF\" height=\"45.9375\" id=\"E4\" rx=\"10\" ry=\"10\" style=\"stroke: #383838; stroke-width: 1.5;\" width=\"71\" x=\"170.5\" y=\"285\"/><text fill=\"#000000\" font-family=\"sans-serif\" font-size=\"12\" font-style=\"italic\" lengthAdjust=\"spacingAndGlyphs\" textLength=\"69\" x=\"171.5\" y=\"301.1387\">«attribute»</text><text fill=\"#000000\" font-family=\"sans-serif\" font-size=\"12\" lengthAdjust=\"spacingAndGlyphs\" textLength=\"8\" x=\"200\" y=\"315.1074\">n</text><line style=\"stroke: #383838; stroke-width: 1.5;\" x1=\"171.5\" x2=\"240.5\" y1=\"322.9375\" y2=\"322.9375\"/></a><!--MD5=[60a26617385b1d2d0262a64233df1f8d]\n",
       "class E6--><a href=\"psysml:ec8a8e56-fcc6-4673-8c8e-468b75026770\" target=\"_top\" title=\"psysml:ec8a8e56-fcc6-4673-8c8e-468b75026770\" xlink:actuate=\"onRequest\" xlink:href=\"psysml:ec8a8e56-fcc6-4673-8c8e-468b75026770\" xlink:show=\"new\" xlink:title=\"psysml:ec8a8e56-fcc6-4673-8c8e-468b75026770\" xlink:type=\"simple\"><rect fill=\"#FFFFFF\" height=\"45.9375\" id=\"E6\" rx=\"10\" ry=\"10\" style=\"stroke: #383838; stroke-width: 1.5;\" width=\"71\" x=\"314.5\" y=\"116\"/><text fill=\"#000000\" font-family=\"sans-serif\" font-size=\"12\" font-style=\"italic\" lengthAdjust=\"spacingAndGlyphs\" textLength=\"69\" x=\"315.5\" y=\"132.1387\">«attribute»</text><text fill=\"#000000\" font-family=\"sans-serif\" font-size=\"12\" lengthAdjust=\"spacingAndGlyphs\" textLength=\"11\" x=\"342.5\" y=\"146.1074\">m</text><line style=\"stroke: #383838; stroke-width: 1.5;\" x1=\"315.5\" x2=\"384.5\" y1=\"153.9375\" y2=\"153.9375\"/></a><!--MD5=[b9389687b975829384b498ac4b7476b2]\n",
       "class E8--><a href=\"psysml:38866ed6-d027-47ed-9e9b-10f0103d500c\" target=\"_top\" title=\"psysml:38866ed6-d027-47ed-9e9b-10f0103d500c\" xlink:actuate=\"onRequest\" xlink:href=\"psysml:38866ed6-d027-47ed-9e9b-10f0103d500c\" xlink:show=\"new\" xlink:title=\"psysml:38866ed6-d027-47ed-9e9b-10f0103d500c\" xlink:type=\"simple\"><rect fill=\"#FFFFFF\" height=\"45.9375\" id=\"E8\" rx=\"10\" ry=\"10\" style=\"stroke: #383838; stroke-width: 1.5;\" width=\"71\" x=\"170.5\" y=\"116\"/><text fill=\"#000000\" font-family=\"sans-serif\" font-size=\"12\" font-style=\"italic\" lengthAdjust=\"spacingAndGlyphs\" textLength=\"69\" x=\"171.5\" y=\"132.1387\">«attribute»</text><text fill=\"#000000\" font-family=\"sans-serif\" font-size=\"12\" lengthAdjust=\"spacingAndGlyphs\" textLength=\"11\" x=\"198.5\" y=\"146.1074\">m</text><line style=\"stroke: #383838; stroke-width: 1.5;\" x1=\"171.5\" x2=\"240.5\" y1=\"153.9375\" y2=\"153.9375\"/></a><g id=\"E1.E9\"><a href=\"psysml:8648f4f6-facd-4996-a918-0994903b340f\" target=\"_top\" title=\"psysml:8648f4f6-facd-4996-a918-0994903b340f\" xlink:actuate=\"onRequest\" xlink:href=\"psysml:8648f4f6-facd-4996-a918-0994903b340f\" xlink:show=\"new\" xlink:title=\"psysml:8648f4f6-facd-4996-a918-0994903b340f\" xlink:type=\"simple\"><rect fill=\"#FFFFFF\" height=\"40\" id=\"E9\" rx=\"10\" ry=\"10\" style=\"stroke: #383838; stroke-width: 1.5;\" width=\"68\" x=\"32\" y=\"119\"/><rect fill=\"#F8F8F8\" height=\"23.9688\" rx=\"10\" ry=\"10\" style=\"stroke: #F8F8F8; stroke-width: 1.5;\" width=\"68\" x=\"32\" y=\"119\"/><rect fill=\"#F8F8F8\" height=\"10\" style=\"stroke: #F8F8F8; stroke-width: 1.5;\" width=\"68\" x=\"32\" y=\"132.9688\"/><rect fill=\"none\" height=\"40\" id=\"E9\" rx=\"10\" ry=\"10\" style=\"stroke: #383838; stroke-width: 1.5;\" width=\"68\" x=\"32\" y=\"119\"/><text fill=\"#000000\" font-family=\"sans-serif\" font-size=\"12\" lengthAdjust=\"spacingAndGlyphs\" textLength=\"53\" x=\"37.5\" y=\"135.1387\">v2= W();</text></a></g><!--MD5=[a717450b82c80b9240a525fa862496af]\n",
       "link E6 to E3--><a href=\"psysml:319addec-2b51-47f0-a10b-c2bc2405cd29\" target=\"_top\" title=\"psysml:319addec-2b51-47f0-a10b-c2bc2405cd29\" xlink:actuate=\"onRequest\" xlink:href=\"psysml:319addec-2b51-47f0-a10b-c2bc2405cd29\" xlink:show=\"new\" xlink:title=\"psysml:319addec-2b51-47f0-a10b-c2bc2405cd29\" xlink:type=\"simple\"><path d=\"M344.95,162.18 C338.98,188.45 328.89,232.78 321.45,265.49 \" fill=\"none\" id=\"E6-&gt;E3\" style=\"stroke: #383838; stroke-width: 1.0;\"/><polygon fill=\"#FFFFFF\" points=\"317.01,285,314.4057,264.9197,328.0559,268.0298,317.01,285\" style=\"stroke: #383838; stroke-width: 1.0;\"/><line style=\"stroke: #383838; stroke-width: 2.0;\" x1=\"315.2498\" x2=\"328.9\" y1=\"261.2147\" y2=\"264.3247\"/></a><!--MD5=[583832df87f4419a098336a29a52fa00]\n",
       "link E7 to E2--><a href=\"psysml:13494711-98b1-4251-8963-46d1e0c35503\" target=\"_top\" title=\"psysml:13494711-98b1-4251-8963-46d1e0c35503\" xlink:actuate=\"onRequest\" xlink:href=\"psysml:13494711-98b1-4251-8963-46d1e0c35503\" xlink:show=\"new\" xlink:title=\"psysml:13494711-98b1-4251-8963-46d1e0c35503\" xlink:type=\"simple\"><path d=\"M135,186.7597 C135,189.0567 135,191.4 135,193.7804 C135,203.3019 135,213.4163 135,223.53 C135,224.1621 135,224.7942 135,225.4262 C135,225.5842 135,225.7421 135,225.9001 \" fill=\"none\" id=\"E7-&gt;E2\" style=\"stroke: #383838; stroke-width: 1.0;\"/><polygon fill=\"#FFFFFF\" points=\"135,225.9001,142,206.9001,128,206.9001,135,225.9001\" style=\"stroke: #383838; stroke-width: 1.0;\"/></a><!--MD5=[95fa686b5a16158bcdbcaeead89f639b]\n",
       "link E8 to E3--><a href=\"psysml:27f15f96-8451-4ffb-b537-81d2f9d472fa\" target=\"_top\" title=\"psysml:27f15f96-8451-4ffb-b537-81d2f9d472fa\" xlink:actuate=\"onRequest\" xlink:href=\"psysml:27f15f96-8451-4ffb-b537-81d2f9d472fa\" xlink:show=\"new\" xlink:title=\"psysml:27f15f96-8451-4ffb-b537-81d2f9d472fa\" xlink:type=\"simple\"><path d=\"M222.77,162.15 C238.3,182.66 259,210 259,210 C259,210 275.57,240.32 290.17,267.05 \" fill=\"none\" id=\"E8-&gt;E3\" style=\"stroke: #383838; stroke-width: 1.0;\"/><polygon fill=\"#FFFFFF\" points=\"299.97,284.99,284.7212,271.668,297.0091,264.9592,299.97,284.99\" style=\"stroke: #383838; stroke-width: 1.0;\"/><line style=\"stroke: #383838; stroke-width: 2.0;\" x1=\"282.9003\" x2=\"295.1881\" y1=\"268.3328\" y2=\"261.6239\"/></a><!--MD5=[895f51c1d7f290f82db8321464249076]\n",
       "@startuml\r\n",
       "skinparam ranksep 10\r\n",
       "skinparam rectangle {\r\n",
       " backgroundColor<<block>> LightGreen\r\n",
       "}\r\n",
       "skinparam linetype polyline\r\n",
       "skinparam monochrome true\r\n",
       "skinparam classbackgroundcolor white\r\n",
       "skinparam shadowing false\r\n",
       "skinparam wrapWidth 300\r\n",
       "hide circle\r\n",
       "\r\n",
       "package \"DefaultValueTest\" as E1  [[psysml:6839459c-d74b-4e54-a7fb-96b2013b0c1a ]]  {\r\n",
       "rec def \"V\" as E2  <<(T,blue) part  def>> [[psysml:f6ad7545-3639-41cb-8da0-571497d98dc5 ]] {\r\n",
       "comp usage \"m \" as E3  <<(T,blue) attribute>> [[psysml:075fa6d2-8e51-4049-a184-a21376454cfa ]] {\r\n",
       "}\r\n",
       "comp usage \"n \" as E4  <<(T,blue) attribute>> [[psysml:0ef473ce-6f49-4b48-ae7c-25bde7c2058c ]] {\r\n",
       "}\r\n",
       "}\r\n",
       "rec usage \"v1: V\" as E5  [[psysml:1ac351b0-bbdc-4492-9f99-b540f7d23706 ]] {\r\n",
       "comp usage \"m \" as E6  <<(T,blue) attribute>> [[psysml:ec8a8e56-fcc6-4673-8c8e-468b75026770 ]] {\r\n",
       "}\r\n",
       "}\r\n",
       "rec def \"W\" as E7  <<(T,blue) part  def>> [[psysml:aeba74e7-35ad-441a-aaf4-220a7e48fb18 ]] {\r\n",
       "comp usage \"m \" as E8  <<(T,blue) attribute>> [[psysml:38866ed6-d027-47ed-9e9b-10f0103d500c ]] {\r\n",
       "}\r\n",
       "}\r\n",
       "rec usage \"v2= W(); \" as E9  [[psysml:8648f4f6-facd-4996-a918-0994903b340f ]] {\r\n",
       "}\r\n",
       "}\r\n",
       "E6 - -||> E3 [[psysml:319addec-2b51-47f0-a10b-c2bc2405cd29 ]] \r\n",
       "E7 - -|> E2 [[psysml:13494711-98b1-4251-8963-46d1e0c35503 ]] \r\n",
       "E8 - -||> E3 [[psysml:27f15f96-8451-4ffb-b537-81d2f9d472fa ]] \r\n",
       "@enduml\r\n",
       "\n",
       "PlantUML version 1.2020.13(Sat Jun 13 12:26:38 UTC 2020)\n",
       "(EPL source distribution)\n",
       "Java Runtime: OpenJDK Runtime Environment\n",
       "JVM: OpenJDK 64-Bit Server VM\n",
       "Default Encoding: UTF-8\n",
       "Language: en\n",
       "Country: null\n",
       "--></g></svg>"
      ]
     },
     "execution_count": 12,
     "metadata": {},
     "output_type": "execute_result"
    }
   ],
   "source": [
    "%viz --style=\"POLYLINE\" --view=\"Interconnection\" \"DefaultValueTest\""
   ]
  },
  {
   "cell_type": "code",
   "execution_count": 13,
   "id": "9fa41ca6",
   "metadata": {
    "execution": {
     "iopub.execute_input": "2022-02-18T10:51:39.762834Z",
     "iopub.status.busy": "2022-02-18T10:51:39.762399Z",
     "iopub.status.idle": "2022-02-18T10:51:39.768113Z",
     "shell.execute_reply": "2022-02-18T10:51:39.768452Z"
    }
   },
   "outputs": [
    {
     "data": {
      "image/svg+xml": [
       "<?xml version=\"1.0\" encoding=\"UTF-8\" standalone=\"no\"?><svg xmlns=\"http://www.w3.org/2000/svg\" xmlns:xlink=\"http://www.w3.org/1999/xlink\" contentScriptType=\"application/ecmascript\" contentStyleType=\"text/css\" height=\"12px\" preserveAspectRatio=\"none\" style=\"width:12px;height:12px;\" version=\"1.1\" viewBox=\"0 0 12 12\" width=\"12px\" zoomAndPan=\"magnify\"><defs/><g><!--MD5=[97bbf32f66ccd50cbc40d92ea8f5a65e]\n",
       "@startuml\r\n",
       "skinparam ranksep 8\r\n",
       "skinparam linetype polyline\r\n",
       "skinparam monochrome true\r\n",
       "skinparam classbackgroundcolor white\r\n",
       "skinparam shadowing false\r\n",
       "skinparam wrapWidth 300\r\n",
       "hide circle\r\n",
       "\r\n",
       "@enduml\r\n",
       "\n",
       "PlantUML version 1.2020.13(Sat Jun 13 12:26:38 UTC 2020)\n",
       "(EPL source distribution)\n",
       "Java Runtime: OpenJDK Runtime Environment\n",
       "JVM: OpenJDK 64-Bit Server VM\n",
       "Default Encoding: UTF-8\n",
       "Language: en\n",
       "Country: null\n",
       "--></g></svg>"
      ]
     },
     "execution_count": 13,
     "metadata": {},
     "output_type": "execute_result"
    }
   ],
   "source": [
    "%viz --style=\"POLYLINE\" --view=\"Action\" \"DefaultValueTest\""
   ]
  },
  {
   "cell_type": "code",
   "execution_count": 14,
   "id": "1392c545",
   "metadata": {
    "execution": {
     "iopub.execute_input": "2022-02-18T10:51:39.818697Z",
     "iopub.status.busy": "2022-02-18T10:51:39.818290Z",
     "iopub.status.idle": "2022-02-18T10:51:39.824689Z",
     "shell.execute_reply": "2022-02-18T10:51:39.825001Z"
    }
   },
   "outputs": [
    {
     "data": {
      "image/svg+xml": [
       "<?xml version=\"1.0\" encoding=\"UTF-8\" standalone=\"no\"?><svg xmlns=\"http://www.w3.org/2000/svg\" xmlns:xlink=\"http://www.w3.org/1999/xlink\" contentScriptType=\"application/ecmascript\" contentStyleType=\"text/css\" height=\"12px\" preserveAspectRatio=\"none\" style=\"width:12px;height:12px;\" version=\"1.1\" viewBox=\"0 0 12 12\" width=\"12px\" zoomAndPan=\"magnify\"><defs/><g><!--MD5=[dc938048236c351797870c36b62f92ad]\n",
       "@startuml\r\n",
       "skinparam roundcorner 20\r\n",
       "skinparam BoxPadding 20\r\n",
       "skinparam SequenceBoxBackgroundColor #white\r\n",
       "skinparam style strictuml\r\n",
       "skinparam maxMessageSize 100\r\n",
       "skinparam linetype polyline\r\n",
       "skinparam monochrome true\r\n",
       "skinparam classbackgroundcolor white\r\n",
       "skinparam shadowing false\r\n",
       "skinparam wrapWidth 300\r\n",
       "hide circle\r\n",
       "\r\n",
       "@enduml\r\n",
       "\n",
       "PlantUML version 1.2020.13(Sat Jun 13 12:26:38 UTC 2020)\n",
       "(EPL source distribution)\n",
       "Java Runtime: OpenJDK Runtime Environment\n",
       "JVM: OpenJDK 64-Bit Server VM\n",
       "Default Encoding: UTF-8\n",
       "Language: en\n",
       "Country: null\n",
       "--></g></svg>"
      ]
     },
     "execution_count": 14,
     "metadata": {},
     "output_type": "execute_result"
    }
   ],
   "source": [
    "%viz --style=\"POLYLINE\" --view=\"Sequence\" \"DefaultValueTest\""
   ]
  },
  {
   "cell_type": "code",
   "execution_count": 15,
   "id": "0f78c748",
   "metadata": {
    "execution": {
     "iopub.execute_input": "2022-02-18T10:51:39.875088Z",
     "iopub.status.busy": "2022-02-18T10:51:39.874679Z",
     "iopub.status.idle": "2022-02-18T10:51:39.972590Z",
     "shell.execute_reply": "2022-02-18T10:51:39.971155Z"
    }
   },
   "outputs": [
    {
     "data": {
      "image/svg+xml": [
       "<?xml version=\"1.0\" encoding=\"UTF-8\" standalone=\"no\"?><svg xmlns=\"http://www.w3.org/2000/svg\" xmlns:xlink=\"http://www.w3.org/1999/xlink\" contentScriptType=\"application/ecmascript\" contentStyleType=\"text/css\" height=\"305px\" preserveAspectRatio=\"none\" style=\"width:349px;height:305px;\" version=\"1.1\" viewBox=\"0 0 349 305\" width=\"349px\" zoomAndPan=\"magnify\"><defs/><g><!--MD5=[fbc87193dbaf4d95561dea2c320d4a47]\n",
       "cluster E1--><a href=\"psysml:6839459c-d74b-4e54-a7fb-96b2013b0c1a\" target=\"_top\" title=\"psysml:6839459c-d74b-4e54-a7fb-96b2013b0c1a\" xlink:actuate=\"onRequest\" xlink:href=\"psysml:6839459c-d74b-4e54-a7fb-96b2013b0c1a\" xlink:show=\"new\" xlink:title=\"psysml:6839459c-d74b-4e54-a7fb-96b2013b0c1a\" xlink:type=\"simple\"><polygon fill=\"#FFFFFF\" points=\"16,6,140,6,147,28.2969,327,28.2969,327,293,16,293,16,6\" style=\"stroke: #000000; stroke-width: 1.5;\"/><line style=\"stroke: #000000; stroke-width: 1.5;\" x1=\"16\" x2=\"147\" y1=\"28.2969\" y2=\"28.2969\"/><text fill=\"#000000\" font-family=\"sans-serif\" font-size=\"14\" font-weight=\"bold\" lengthAdjust=\"spacingAndGlyphs\" textLength=\"118\" x=\"20\" y=\"20.9951\">DefaultValueTest</text></a><!--MD5=[b4997ac47864f28c2f74865a473b2911]\n",
       "class E2--><a href=\"psysml:f6ad7545-3639-41cb-8da0-571497d98dc5\" target=\"_top\" title=\"psysml:f6ad7545-3639-41cb-8da0-571497d98dc5\" xlink:actuate=\"onRequest\" xlink:href=\"psysml:f6ad7545-3639-41cb-8da0-571497d98dc5\" xlink:show=\"new\" xlink:title=\"psysml:f6ad7545-3639-41cb-8da0-571497d98dc5\" xlink:type=\"simple\"><rect fill=\"#FFFFFF\" height=\"88.3516\" id=\"E2\" style=\"stroke: #383838; stroke-width: 1.5;\" width=\"106\" x=\"156\" y=\"189\"/><text fill=\"#000000\" font-family=\"sans-serif\" font-size=\"12\" font-style=\"italic\" lengthAdjust=\"spacingAndGlyphs\" textLength=\"68\" x=\"175\" y=\"205.1387\">«part  def»</text><text fill=\"#000000\" font-family=\"sans-serif\" font-size=\"12\" lengthAdjust=\"spacingAndGlyphs\" textLength=\"8\" x=\"205\" y=\"219.1074\">V</text><line style=\"stroke: #383838; stroke-width: 1.5;\" x1=\"157\" x2=\"261\" y1=\"226.9375\" y2=\"226.9375\"/><text fill=\"#000000\" font-family=\"sans-serif\" font-size=\"11\" lengthAdjust=\"spacingAndGlyphs\" textLength=\"94\" x=\"162\" y=\"257.9526\">m=default = 10;</text><text fill=\"#000000\" font-family=\"sans-serif\" font-size=\"11\" lengthAdjust=\"spacingAndGlyphs\" textLength=\"38\" x=\"162\" y=\"270.7573\">n= 20;</text><line style=\"stroke: #383838; stroke-width: 1.0;\" x1=\"157\" x2=\"181.5\" y1=\"241.3398\" y2=\"241.3398\"/><text fill=\"#000000\" font-family=\"sans-serif\" font-size=\"11\" lengthAdjust=\"spacingAndGlyphs\" textLength=\"55\" x=\"181.5\" y=\"244.6479\">attributes</text><line style=\"stroke: #383838; stroke-width: 1.0;\" x1=\"236.5\" x2=\"261\" y1=\"241.3398\" y2=\"241.3398\"/></a><!--MD5=[09b614a08d8cba4a07c9adeb5e0fee81]\n",
       "class E3--><a href=\"psysml:1ac351b0-bbdc-4492-9f99-b540f7d23706\" target=\"_top\" title=\"psysml:1ac351b0-bbdc-4492-9f99-b540f7d23706\" xlink:actuate=\"onRequest\" xlink:href=\"psysml:1ac351b0-bbdc-4492-9f99-b540f7d23706\" xlink:show=\"new\" xlink:title=\"psysml:1ac351b0-bbdc-4492-9f99-b540f7d23706\" xlink:type=\"simple\"><rect fill=\"#FFFFFF\" height=\"88.3516\" id=\"E3\" rx=\"10\" ry=\"10\" style=\"stroke: #383838; stroke-width: 1.5;\" width=\"63\" x=\"247.5\" y=\"41\"/><text fill=\"#000000\" font-family=\"sans-serif\" font-size=\"12\" font-style=\"italic\" lengthAdjust=\"spacingAndGlyphs\" textLength=\"40\" x=\"259\" y=\"57.1387\">«part»</text><text fill=\"#000000\" font-family=\"sans-serif\" font-size=\"12\" lengthAdjust=\"spacingAndGlyphs\" textLength=\"30\" x=\"262\" y=\"71.1074\">v1: V</text><line style=\"stroke: #383838; stroke-width: 1.5;\" x1=\"248.5\" x2=\"309.5\" y1=\"78.9375\" y2=\"78.9375\"/><text fill=\"#000000\" font-family=\"sans-serif\" font-size=\"11\" lengthAdjust=\"spacingAndGlyphs\" textLength=\"42\" x=\"253.5\" y=\"109.9526\">m= 20;</text><text fill=\"#000000\" font-family=\"sans-serif\" font-size=\"11\" font-style=\"italic\" lengthAdjust=\"spacingAndGlyphs\" textLength=\"48\" x=\"253.5\" y=\"122.7573\">:&gt;&gt;V::m</text><line style=\"stroke: #383838; stroke-width: 1.0;\" x1=\"248.5\" x2=\"251.5\" y1=\"93.3398\" y2=\"93.3398\"/><text fill=\"#000000\" font-family=\"sans-serif\" font-size=\"11\" lengthAdjust=\"spacingAndGlyphs\" textLength=\"55\" x=\"251.5\" y=\"96.6479\">attributes</text><line style=\"stroke: #383838; stroke-width: 1.0;\" x1=\"306.5\" x2=\"309.5\" y1=\"93.3398\" y2=\"93.3398\"/></a><!--MD5=[ebbe1d658d1005bcc118a6aa81145e00]\n",
       "class E4--><a href=\"psysml:aeba74e7-35ad-441a-aaf4-220a7e48fb18\" target=\"_top\" title=\"psysml:aeba74e7-35ad-441a-aaf4-220a7e48fb18\" xlink:actuate=\"onRequest\" xlink:href=\"psysml:aeba74e7-35ad-441a-aaf4-220a7e48fb18\" xlink:show=\"new\" xlink:title=\"psysml:aeba74e7-35ad-441a-aaf4-220a7e48fb18\" xlink:type=\"simple\"><rect fill=\"#FFFFFF\" height=\"88.3516\" id=\"E4\" style=\"stroke: #383838; stroke-width: 1.5;\" width=\"103\" x=\"109.5\" y=\"41\"/><text fill=\"#000000\" font-family=\"sans-serif\" font-size=\"12\" font-style=\"italic\" lengthAdjust=\"spacingAndGlyphs\" textLength=\"68\" x=\"127\" y=\"57.1387\">«part  def»</text><text fill=\"#000000\" font-family=\"sans-serif\" font-size=\"12\" lengthAdjust=\"spacingAndGlyphs\" textLength=\"11\" x=\"155.5\" y=\"71.1074\">W</text><line style=\"stroke: #383838; stroke-width: 1.5;\" x1=\"110.5\" x2=\"211.5\" y1=\"78.9375\" y2=\"78.9375\"/><text fill=\"#000000\" font-family=\"sans-serif\" font-size=\"11\" lengthAdjust=\"spacingAndGlyphs\" textLength=\"87\" x=\"115.5\" y=\"109.9526\">m=default = n;</text><text fill=\"#000000\" font-family=\"sans-serif\" font-size=\"11\" font-style=\"italic\" lengthAdjust=\"spacingAndGlyphs\" textLength=\"48\" x=\"115.5\" y=\"122.7573\">:&gt;&gt;V::m</text><line style=\"stroke: #383838; stroke-width: 1.0;\" x1=\"110.5\" x2=\"133.5\" y1=\"93.3398\" y2=\"93.3398\"/><text fill=\"#000000\" font-family=\"sans-serif\" font-size=\"11\" lengthAdjust=\"spacingAndGlyphs\" textLength=\"55\" x=\"133.5\" y=\"96.6479\">attributes</text><line style=\"stroke: #383838; stroke-width: 1.0;\" x1=\"188.5\" x2=\"211.5\" y1=\"93.3398\" y2=\"93.3398\"/></a><!--MD5=[270fce915f116d4de14055a7c1d9a0f3]\n",
       "class E5--><a href=\"psysml:8648f4f6-facd-4996-a918-0994903b340f\" target=\"_top\" title=\"psysml:8648f4f6-facd-4996-a918-0994903b340f\" xlink:actuate=\"onRequest\" xlink:href=\"psysml:8648f4f6-facd-4996-a918-0994903b340f\" xlink:show=\"new\" xlink:title=\"psysml:8648f4f6-facd-4996-a918-0994903b340f\" xlink:type=\"simple\"><rect fill=\"#FFFFFF\" height=\"45.9375\" id=\"E5\" rx=\"10\" ry=\"10\" style=\"stroke: #383838; stroke-width: 1.5;\" width=\"42\" x=\"32\" y=\"62\"/><text fill=\"#000000\" font-family=\"sans-serif\" font-size=\"12\" font-style=\"italic\" lengthAdjust=\"spacingAndGlyphs\" textLength=\"40\" x=\"33\" y=\"78.1387\">«part»</text><text fill=\"#000000\" font-family=\"sans-serif\" font-size=\"12\" lengthAdjust=\"spacingAndGlyphs\" textLength=\"14\" x=\"44\" y=\"92.1074\">v2</text><line style=\"stroke: #383838; stroke-width: 1.5;\" x1=\"33\" x2=\"73\" y1=\"99.9375\" y2=\"99.9375\"/></a><!--MD5=[05d275557350bfb9b23a4ef7222b4c39]\n",
       "link E3 to E2--><a href=\"psysml:f9d68518-1ffd-4856-b3d4-4b8d752762cd\" target=\"_top\" title=\"psysml:f9d68518-1ffd-4856-b3d4-4b8d752762cd\" xlink:actuate=\"onRequest\" xlink:href=\"psysml:f9d68518-1ffd-4856-b3d4-4b8d752762cd\" xlink:show=\"new\" xlink:title=\"psysml:f9d68518-1ffd-4856-b3d4-4b8d752762cd\" xlink:type=\"simple\"><path d=\"M258.38,129.02 C252.17,141.97 245.22,156.45 238.55,170.36 \" fill=\"none\" id=\"E3-&gt;E2\" style=\"stroke: #383838; stroke-width: 1.0;\"/><polygon fill=\"#FFFFFF\" points=\"229.72,188.79,231.6151,168.6304,244.2413,174.6786,229.72,188.79\" style=\"stroke: #383838; stroke-width: 1.0;\"/><ellipse cx=\"235.8813\" cy=\"164.3538\" fill=\"#383838\" rx=\"2\" ry=\"2\" style=\"stroke: #383838; stroke-width: 1.0;\"/><ellipse cx=\"244.9\" cy=\"168.6739\" fill=\"#383838\" rx=\"2\" ry=\"2\" style=\"stroke: #383838; stroke-width: 1.0;\"/></a><!--MD5=[185131fc0dcab0a4505a2ebe144e961b]\n",
       "link E4 to E2--><a href=\"psysml:13494711-98b1-4251-8963-46d1e0c35503\" target=\"_top\" title=\"psysml:13494711-98b1-4251-8963-46d1e0c35503\" xlink:actuate=\"onRequest\" xlink:href=\"psysml:13494711-98b1-4251-8963-46d1e0c35503\" xlink:show=\"new\" xlink:title=\"psysml:13494711-98b1-4251-8963-46d1e0c35503\" xlink:type=\"simple\"><path d=\"M175.14,129.02 C179.3,141.67 183.94,155.79 188.42,169.41 \" fill=\"none\" id=\"E4-&gt;E2\" style=\"stroke: #383838; stroke-width: 1.0;\"/><polygon fill=\"none\" points=\"195.2,167.6,194.79,188.79,181.9,171.97,195.2,167.6\" style=\"stroke: #383838; stroke-width: 1.0;\"/></a><!--MD5=[9e0aa1e2e46d241e1387c35746e1bb2e]\n",
       "@startuml\r\n",
       "skinparam linetype polyline\r\n",
       "skinparam monochrome true\r\n",
       "skinparam classbackgroundcolor white\r\n",
       "skinparam shadowing false\r\n",
       "skinparam wrapWidth 300\r\n",
       "hide circle\r\n",
       "\r\n",
       "package \"DefaultValueTest\" as E1  [[psysml:6839459c-d74b-4e54-a7fb-96b2013b0c1a ]]  {\r\n",
       "comp def \"V\" as E2  <<(T,blue) part  def>> [[psysml:f6ad7545-3639-41cb-8da0-571497d98dc5 ]] {\r\n",
       "- - attributes - -\r\n",
       "m=default = 10; \r\n",
       "n= 20; \r\n",
       "}\r\n",
       "comp usage \"v1: V \" as E3  <<(T,blue) part>> [[psysml:1ac351b0-bbdc-4492-9f99-b540f7d23706 ]] {\r\n",
       "- - attributes - -\r\n",
       "m= 20; \\n//:>>V::m// \r\n",
       "}\r\n",
       "comp def \"W\" as E4  <<(T,blue) part  def>> [[psysml:aeba74e7-35ad-441a-aaf4-220a7e48fb18 ]] {\r\n",
       "- - attributes - -\r\n",
       "m=default = n; \\n//:>>V::m// \r\n",
       "}\r\n",
       "comp usage \"v2 \" as E5  <<(T,blue) part>> [[psysml:8648f4f6-facd-4996-a918-0994903b340f ]] {\r\n",
       "}\r\n",
       "}\r\n",
       "E3 - -:|> E2 [[psysml:f9d68518-1ffd-4856-b3d4-4b8d752762cd ]] \r\n",
       "E4 - -|> E2 [[psysml:13494711-98b1-4251-8963-46d1e0c35503 ]] \r\n",
       "@enduml\r\n",
       "\n",
       "PlantUML version 1.2020.13(Sat Jun 13 12:26:38 UTC 2020)\n",
       "(EPL source distribution)\n",
       "Java Runtime: OpenJDK Runtime Environment\n",
       "JVM: OpenJDK 64-Bit Server VM\n",
       "Default Encoding: UTF-8\n",
       "Language: en\n",
       "Country: null\n",
       "--></g></svg>"
      ]
     },
     "execution_count": 15,
     "metadata": {},
     "output_type": "execute_result"
    }
   ],
   "source": [
    "%viz --style=\"POLYLINE\" --view=\"MIXED\" \"DefaultValueTest\""
   ]
  },
  {
   "cell_type": "code",
   "execution_count": 16,
   "id": "f4ad3441",
   "metadata": {
    "execution": {
     "iopub.execute_input": "2022-02-18T10:51:40.022510Z",
     "iopub.status.busy": "2022-02-18T10:51:40.022029Z",
     "iopub.status.idle": "2022-02-18T10:51:40.108568Z",
     "shell.execute_reply": "2022-02-18T10:51:40.108185Z"
    }
   },
   "outputs": [
    {
     "data": {
      "image/svg+xml": [
       "<?xml version=\"1.0\" encoding=\"UTF-8\" standalone=\"no\"?><svg xmlns=\"http://www.w3.org/2000/svg\" xmlns:xlink=\"http://www.w3.org/1999/xlink\" contentScriptType=\"application/ecmascript\" contentStyleType=\"text/css\" height=\"361px\" preserveAspectRatio=\"none\" style=\"width:339px;height:361px;\" version=\"1.1\" viewBox=\"0 0 339 361\" width=\"339px\" zoomAndPan=\"magnify\"><defs/><g><!--MD5=[fbc87193dbaf4d95561dea2c320d4a47]\n",
       "cluster E1--><a href=\"psysml:6839459c-d74b-4e54-a7fb-96b2013b0c1a\" target=\"_top\" title=\"psysml:6839459c-d74b-4e54-a7fb-96b2013b0c1a\" xlink:actuate=\"onRequest\" xlink:href=\"psysml:6839459c-d74b-4e54-a7fb-96b2013b0c1a\" xlink:show=\"new\" xlink:title=\"psysml:6839459c-d74b-4e54-a7fb-96b2013b0c1a\" xlink:type=\"simple\"><polygon fill=\"#FFFFFF\" points=\"16,6,140,6,147,28.2969,317,28.2969,317,349,16,349,16,6\" style=\"stroke: #000000; stroke-width: 1.5;\"/><line style=\"stroke: #000000; stroke-width: 1.5;\" x1=\"16\" x2=\"147\" y1=\"28.2969\" y2=\"28.2969\"/><text fill=\"#000000\" font-family=\"sans-serif\" font-size=\"14\" font-weight=\"bold\" lengthAdjust=\"spacingAndGlyphs\" textLength=\"118\" x=\"20\" y=\"20.9951\">DefaultValueTest</text></a><!--MD5=[b4997ac47864f28c2f74865a473b2911]\n",
       "class E2--><a href=\"psysml:f6ad7545-3639-41cb-8da0-571497d98dc5\" target=\"_top\" title=\"psysml:f6ad7545-3639-41cb-8da0-571497d98dc5\" xlink:actuate=\"onRequest\" xlink:href=\"psysml:f6ad7545-3639-41cb-8da0-571497d98dc5\" xlink:show=\"new\" xlink:title=\"psysml:f6ad7545-3639-41cb-8da0-571497d98dc5\" xlink:type=\"simple\"><rect fill=\"#FFFFFF\" height=\"88.3516\" id=\"E2\" style=\"stroke: #383838; stroke-width: 1.5;\" width=\"106\" x=\"195\" y=\"103\"/><text fill=\"#000000\" font-family=\"sans-serif\" font-size=\"12\" font-style=\"italic\" lengthAdjust=\"spacingAndGlyphs\" textLength=\"68\" x=\"214\" y=\"119.1387\">«part  def»</text><text fill=\"#000000\" font-family=\"sans-serif\" font-size=\"12\" lengthAdjust=\"spacingAndGlyphs\" textLength=\"8\" x=\"244\" y=\"133.1074\">V</text><line style=\"stroke: #383838; stroke-width: 1.5;\" x1=\"196\" x2=\"300\" y1=\"140.9375\" y2=\"140.9375\"/><text fill=\"#000000\" font-family=\"sans-serif\" font-size=\"11\" lengthAdjust=\"spacingAndGlyphs\" textLength=\"94\" x=\"201\" y=\"171.9526\">m=default = 10;</text><text fill=\"#000000\" font-family=\"sans-serif\" font-size=\"11\" lengthAdjust=\"spacingAndGlyphs\" textLength=\"38\" x=\"201\" y=\"184.7573\">n= 20;</text><line style=\"stroke: #383838; stroke-width: 1.0;\" x1=\"196\" x2=\"220.5\" y1=\"155.3398\" y2=\"155.3398\"/><text fill=\"#000000\" font-family=\"sans-serif\" font-size=\"11\" lengthAdjust=\"spacingAndGlyphs\" textLength=\"55\" x=\"220.5\" y=\"158.6479\">attributes</text><line style=\"stroke: #383838; stroke-width: 1.0;\" x1=\"275.5\" x2=\"300\" y1=\"155.3398\" y2=\"155.3398\"/></a><!--MD5=[09b614a08d8cba4a07c9adeb5e0fee81]\n",
       "class E3--><a href=\"psysml:1ac351b0-bbdc-4492-9f99-b540f7d23706\" target=\"_top\" title=\"psysml:1ac351b0-bbdc-4492-9f99-b540f7d23706\" xlink:actuate=\"onRequest\" xlink:href=\"psysml:1ac351b0-bbdc-4492-9f99-b540f7d23706\" xlink:show=\"new\" xlink:title=\"psysml:1ac351b0-bbdc-4492-9f99-b540f7d23706\" xlink:type=\"simple\"><rect fill=\"#FFFFFF\" height=\"88.3516\" id=\"E3\" rx=\"10\" ry=\"10\" style=\"stroke: #383838; stroke-width: 1.5;\" width=\"63\" x=\"52\" y=\"41\"/><text fill=\"#000000\" font-family=\"sans-serif\" font-size=\"12\" font-style=\"italic\" lengthAdjust=\"spacingAndGlyphs\" textLength=\"40\" x=\"63.5\" y=\"57.1387\">«part»</text><text fill=\"#000000\" font-family=\"sans-serif\" font-size=\"12\" lengthAdjust=\"spacingAndGlyphs\" textLength=\"30\" x=\"66.5\" y=\"71.1074\">v1: V</text><line style=\"stroke: #383838; stroke-width: 1.5;\" x1=\"53\" x2=\"114\" y1=\"78.9375\" y2=\"78.9375\"/><text fill=\"#000000\" font-family=\"sans-serif\" font-size=\"11\" lengthAdjust=\"spacingAndGlyphs\" textLength=\"42\" x=\"58\" y=\"109.9526\">m= 20;</text><text fill=\"#000000\" font-family=\"sans-serif\" font-size=\"11\" font-style=\"italic\" lengthAdjust=\"spacingAndGlyphs\" textLength=\"48\" x=\"58\" y=\"122.7573\">:&gt;&gt;V::m</text><line style=\"stroke: #383838; stroke-width: 1.0;\" x1=\"53\" x2=\"56\" y1=\"93.3398\" y2=\"93.3398\"/><text fill=\"#000000\" font-family=\"sans-serif\" font-size=\"11\" lengthAdjust=\"spacingAndGlyphs\" textLength=\"55\" x=\"56\" y=\"96.6479\">attributes</text><line style=\"stroke: #383838; stroke-width: 1.0;\" x1=\"111\" x2=\"114\" y1=\"93.3398\" y2=\"93.3398\"/></a><!--MD5=[ebbe1d658d1005bcc118a6aa81145e00]\n",
       "class E4--><a href=\"psysml:aeba74e7-35ad-441a-aaf4-220a7e48fb18\" target=\"_top\" title=\"psysml:aeba74e7-35ad-441a-aaf4-220a7e48fb18\" xlink:actuate=\"onRequest\" xlink:href=\"psysml:aeba74e7-35ad-441a-aaf4-220a7e48fb18\" xlink:show=\"new\" xlink:title=\"psysml:aeba74e7-35ad-441a-aaf4-220a7e48fb18\" xlink:type=\"simple\"><rect fill=\"#FFFFFF\" height=\"88.3516\" id=\"E4\" style=\"stroke: #383838; stroke-width: 1.5;\" width=\"103\" x=\"32\" y=\"164\"/><text fill=\"#000000\" font-family=\"sans-serif\" font-size=\"12\" font-style=\"italic\" lengthAdjust=\"spacingAndGlyphs\" textLength=\"68\" x=\"49.5\" y=\"180.1387\">«part  def»</text><text fill=\"#000000\" font-family=\"sans-serif\" font-size=\"12\" lengthAdjust=\"spacingAndGlyphs\" textLength=\"11\" x=\"78\" y=\"194.1074\">W</text><line style=\"stroke: #383838; stroke-width: 1.5;\" x1=\"33\" x2=\"134\" y1=\"201.9375\" y2=\"201.9375\"/><text fill=\"#000000\" font-family=\"sans-serif\" font-size=\"11\" lengthAdjust=\"spacingAndGlyphs\" textLength=\"87\" x=\"38\" y=\"232.9526\">m=default = n;</text><text fill=\"#000000\" font-family=\"sans-serif\" font-size=\"11\" font-style=\"italic\" lengthAdjust=\"spacingAndGlyphs\" textLength=\"48\" x=\"38\" y=\"245.7573\">:&gt;&gt;V::m</text><line style=\"stroke: #383838; stroke-width: 1.0;\" x1=\"33\" x2=\"56\" y1=\"216.3398\" y2=\"216.3398\"/><text fill=\"#000000\" font-family=\"sans-serif\" font-size=\"11\" lengthAdjust=\"spacingAndGlyphs\" textLength=\"55\" x=\"56\" y=\"219.6479\">attributes</text><line style=\"stroke: #383838; stroke-width: 1.0;\" x1=\"111\" x2=\"134\" y1=\"216.3398\" y2=\"216.3398\"/></a><!--MD5=[270fce915f116d4de14055a7c1d9a0f3]\n",
       "class E5--><a href=\"psysml:8648f4f6-facd-4996-a918-0994903b340f\" target=\"_top\" title=\"psysml:8648f4f6-facd-4996-a918-0994903b340f\" xlink:actuate=\"onRequest\" xlink:href=\"psysml:8648f4f6-facd-4996-a918-0994903b340f\" xlink:show=\"new\" xlink:title=\"psysml:8648f4f6-facd-4996-a918-0994903b340f\" xlink:type=\"simple\"><rect fill=\"#FFFFFF\" height=\"45.9375\" id=\"E5\" rx=\"10\" ry=\"10\" style=\"stroke: #383838; stroke-width: 1.5;\" width=\"42\" x=\"62.5\" y=\"287\"/><text fill=\"#000000\" font-family=\"sans-serif\" font-size=\"12\" font-style=\"italic\" lengthAdjust=\"spacingAndGlyphs\" textLength=\"40\" x=\"63.5\" y=\"303.1387\">«part»</text><text fill=\"#000000\" font-family=\"sans-serif\" font-size=\"12\" lengthAdjust=\"spacingAndGlyphs\" textLength=\"14\" x=\"74.5\" y=\"317.1074\">v2</text><line style=\"stroke: #383838; stroke-width: 1.5;\" x1=\"63.5\" x2=\"103.5\" y1=\"324.9375\" y2=\"324.9375\"/></a><!--MD5=[05d275557350bfb9b23a4ef7222b4c39]\n",
       "link E3 to E2--><a href=\"psysml:f9d68518-1ffd-4856-b3d4-4b8d752762cd\" target=\"_top\" title=\"psysml:f9d68518-1ffd-4856-b3d4-4b8d752762cd\" xlink:actuate=\"onRequest\" xlink:href=\"psysml:f9d68518-1ffd-4856-b3d4-4b8d752762cd\" xlink:show=\"new\" xlink:title=\"psysml:f9d68518-1ffd-4856-b3d4-4b8d752762cd\" xlink:type=\"simple\"><path d=\"M115.07,96.66 C132.33,103.25 154.67,111.77 176.05,119.93 \" fill=\"none\" id=\"E3-&gt;E2\" style=\"stroke: #383838; stroke-width: 1.0;\"/><polygon fill=\"#FFFFFF\" points=\"194.84,127.1,174.5929,126.8678,179.583,113.7874,194.84,127.1\" style=\"stroke: #383838; stroke-width: 1.0;\"/><ellipse cx=\"169.9801\" cy=\"122.9675\" fill=\"#383838\" rx=\"2\" ry=\"2\" style=\"stroke: #383838; stroke-width: 1.0;\"/><ellipse cx=\"173.5446\" cy=\"113.6243\" fill=\"#383838\" rx=\"2\" ry=\"2\" style=\"stroke: #383838; stroke-width: 1.0;\"/></a><!--MD5=[185131fc0dcab0a4505a2ebe144e961b]\n",
       "link E4 to E2--><a href=\"psysml:13494711-98b1-4251-8963-46d1e0c35503\" target=\"_top\" title=\"psysml:13494711-98b1-4251-8963-46d1e0c35503\" xlink:actuate=\"onRequest\" xlink:href=\"psysml:13494711-98b1-4251-8963-46d1e0c35503\" xlink:show=\"new\" xlink:title=\"psysml:13494711-98b1-4251-8963-46d1e0c35503\" xlink:type=\"simple\"><path d=\"M135.03,189.03 C147.94,184.18 162.08,178.88 175.82,173.72 \" fill=\"none\" id=\"E4-&gt;E2\" style=\"stroke: #383838; stroke-width: 1.0;\"/><polygon fill=\"none\" points=\"173.64,167.06,194.82,166.59,178.56,180.17,173.64,167.06\" style=\"stroke: #383838; stroke-width: 1.0;\"/></a><!--MD5=[66e86422ca2e93b281c3a9dfa32b0af0]\n",
       "@startuml\r\n",
       "left to right direction\r\n",
       "skinparam monochrome true\r\n",
       "skinparam classbackgroundcolor white\r\n",
       "skinparam shadowing false\r\n",
       "skinparam wrapWidth 300\r\n",
       "hide circle\r\n",
       "\r\n",
       "package \"DefaultValueTest\" as E1  [[psysml:6839459c-d74b-4e54-a7fb-96b2013b0c1a ]]  {\r\n",
       "comp def \"V\" as E2  <<(T,blue) part  def>> [[psysml:f6ad7545-3639-41cb-8da0-571497d98dc5 ]] {\r\n",
       "- - attributes - -\r\n",
       "m=default = 10; \r\n",
       "n= 20; \r\n",
       "}\r\n",
       "comp usage \"v1: V \" as E3  <<(T,blue) part>> [[psysml:1ac351b0-bbdc-4492-9f99-b540f7d23706 ]] {\r\n",
       "- - attributes - -\r\n",
       "m= 20; \\n//:>>V::m// \r\n",
       "}\r\n",
       "comp def \"W\" as E4  <<(T,blue) part  def>> [[psysml:aeba74e7-35ad-441a-aaf4-220a7e48fb18 ]] {\r\n",
       "- - attributes - -\r\n",
       "m=default = n; \\n//:>>V::m// \r\n",
       "}\r\n",
       "comp usage \"v2 \" as E5  <<(T,blue) part>> [[psysml:8648f4f6-facd-4996-a918-0994903b340f ]] {\r\n",
       "}\r\n",
       "}\r\n",
       "E3 - -:|> E2 [[psysml:f9d68518-1ffd-4856-b3d4-4b8d752762cd ]] \r\n",
       "E4 - -|> E2 [[psysml:13494711-98b1-4251-8963-46d1e0c35503 ]] \r\n",
       "@enduml\r\n",
       "\n",
       "PlantUML version 1.2020.13(Sat Jun 13 12:26:38 UTC 2020)\n",
       "(EPL source distribution)\n",
       "Java Runtime: OpenJDK Runtime Environment\n",
       "JVM: OpenJDK 64-Bit Server VM\n",
       "Default Encoding: UTF-8\n",
       "Language: en\n",
       "Country: null\n",
       "--></g></svg>"
      ]
     },
     "execution_count": 16,
     "metadata": {},
     "output_type": "execute_result"
    }
   ],
   "source": [
    "%viz --style=\"LR\" --view=\"Default\" \"DefaultValueTest\""
   ]
  },
  {
   "cell_type": "code",
   "execution_count": 17,
   "id": "e416c17c",
   "metadata": {
    "execution": {
     "iopub.execute_input": "2022-02-18T10:51:40.157815Z",
     "iopub.status.busy": "2022-02-18T10:51:40.157380Z",
     "iopub.status.idle": "2022-02-18T10:51:40.252317Z",
     "shell.execute_reply": "2022-02-18T10:51:40.250858Z"
    }
   },
   "outputs": [
    {
     "data": {
      "image/svg+xml": [
       "<?xml version=\"1.0\" encoding=\"UTF-8\" standalone=\"no\"?><svg xmlns=\"http://www.w3.org/2000/svg\" xmlns:xlink=\"http://www.w3.org/1999/xlink\" contentScriptType=\"application/ecmascript\" contentStyleType=\"text/css\" height=\"361px\" preserveAspectRatio=\"none\" style=\"width:339px;height:361px;\" version=\"1.1\" viewBox=\"0 0 339 361\" width=\"339px\" zoomAndPan=\"magnify\"><defs/><g><!--MD5=[fbc87193dbaf4d95561dea2c320d4a47]\n",
       "cluster E1--><a href=\"psysml:6839459c-d74b-4e54-a7fb-96b2013b0c1a\" target=\"_top\" title=\"psysml:6839459c-d74b-4e54-a7fb-96b2013b0c1a\" xlink:actuate=\"onRequest\" xlink:href=\"psysml:6839459c-d74b-4e54-a7fb-96b2013b0c1a\" xlink:show=\"new\" xlink:title=\"psysml:6839459c-d74b-4e54-a7fb-96b2013b0c1a\" xlink:type=\"simple\"><polygon fill=\"#FFFFFF\" points=\"16,6,140,6,147,28.2969,317,28.2969,317,349,16,349,16,6\" style=\"stroke: #000000; stroke-width: 1.5;\"/><line style=\"stroke: #000000; stroke-width: 1.5;\" x1=\"16\" x2=\"147\" y1=\"28.2969\" y2=\"28.2969\"/><text fill=\"#000000\" font-family=\"sans-serif\" font-size=\"14\" font-weight=\"bold\" lengthAdjust=\"spacingAndGlyphs\" textLength=\"118\" x=\"20\" y=\"20.9951\">DefaultValueTest</text></a><!--MD5=[b4997ac47864f28c2f74865a473b2911]\n",
       "class E2--><a href=\"psysml:f6ad7545-3639-41cb-8da0-571497d98dc5\" target=\"_top\" title=\"psysml:f6ad7545-3639-41cb-8da0-571497d98dc5\" xlink:actuate=\"onRequest\" xlink:href=\"psysml:f6ad7545-3639-41cb-8da0-571497d98dc5\" xlink:show=\"new\" xlink:title=\"psysml:f6ad7545-3639-41cb-8da0-571497d98dc5\" xlink:type=\"simple\"><rect fill=\"#FFFFFF\" height=\"88.3516\" id=\"E2\" style=\"stroke: #383838; stroke-width: 1.5;\" width=\"106\" x=\"195\" y=\"103\"/><text fill=\"#000000\" font-family=\"sans-serif\" font-size=\"12\" font-style=\"italic\" lengthAdjust=\"spacingAndGlyphs\" textLength=\"68\" x=\"214\" y=\"119.1387\">«part  def»</text><text fill=\"#000000\" font-family=\"sans-serif\" font-size=\"12\" lengthAdjust=\"spacingAndGlyphs\" textLength=\"8\" x=\"244\" y=\"133.1074\">V</text><line style=\"stroke: #383838; stroke-width: 1.5;\" x1=\"196\" x2=\"300\" y1=\"140.9375\" y2=\"140.9375\"/><text fill=\"#000000\" font-family=\"sans-serif\" font-size=\"11\" lengthAdjust=\"spacingAndGlyphs\" textLength=\"94\" x=\"201\" y=\"171.9526\">m=default = 10;</text><text fill=\"#000000\" font-family=\"sans-serif\" font-size=\"11\" lengthAdjust=\"spacingAndGlyphs\" textLength=\"38\" x=\"201\" y=\"184.7573\">n= 20;</text><line style=\"stroke: #383838; stroke-width: 1.0;\" x1=\"196\" x2=\"220.5\" y1=\"155.3398\" y2=\"155.3398\"/><text fill=\"#000000\" font-family=\"sans-serif\" font-size=\"11\" lengthAdjust=\"spacingAndGlyphs\" textLength=\"55\" x=\"220.5\" y=\"158.6479\">attributes</text><line style=\"stroke: #383838; stroke-width: 1.0;\" x1=\"275.5\" x2=\"300\" y1=\"155.3398\" y2=\"155.3398\"/></a><!--MD5=[09b614a08d8cba4a07c9adeb5e0fee81]\n",
       "class E3--><a href=\"psysml:1ac351b0-bbdc-4492-9f99-b540f7d23706\" target=\"_top\" title=\"psysml:1ac351b0-bbdc-4492-9f99-b540f7d23706\" xlink:actuate=\"onRequest\" xlink:href=\"psysml:1ac351b0-bbdc-4492-9f99-b540f7d23706\" xlink:show=\"new\" xlink:title=\"psysml:1ac351b0-bbdc-4492-9f99-b540f7d23706\" xlink:type=\"simple\"><rect fill=\"#FFFFFF\" height=\"88.3516\" id=\"E3\" rx=\"10\" ry=\"10\" style=\"stroke: #383838; stroke-width: 1.5;\" width=\"63\" x=\"52\" y=\"41\"/><text fill=\"#000000\" font-family=\"sans-serif\" font-size=\"12\" font-style=\"italic\" lengthAdjust=\"spacingAndGlyphs\" textLength=\"40\" x=\"63.5\" y=\"57.1387\">«part»</text><text fill=\"#000000\" font-family=\"sans-serif\" font-size=\"12\" lengthAdjust=\"spacingAndGlyphs\" textLength=\"30\" x=\"66.5\" y=\"71.1074\">v1: V</text><line style=\"stroke: #383838; stroke-width: 1.5;\" x1=\"53\" x2=\"114\" y1=\"78.9375\" y2=\"78.9375\"/><text fill=\"#000000\" font-family=\"sans-serif\" font-size=\"11\" lengthAdjust=\"spacingAndGlyphs\" textLength=\"42\" x=\"58\" y=\"109.9526\">m= 20;</text><text fill=\"#000000\" font-family=\"sans-serif\" font-size=\"11\" font-style=\"italic\" lengthAdjust=\"spacingAndGlyphs\" textLength=\"48\" x=\"58\" y=\"122.7573\">:&gt;&gt;V::m</text><line style=\"stroke: #383838; stroke-width: 1.0;\" x1=\"53\" x2=\"56\" y1=\"93.3398\" y2=\"93.3398\"/><text fill=\"#000000\" font-family=\"sans-serif\" font-size=\"11\" lengthAdjust=\"spacingAndGlyphs\" textLength=\"55\" x=\"56\" y=\"96.6479\">attributes</text><line style=\"stroke: #383838; stroke-width: 1.0;\" x1=\"111\" x2=\"114\" y1=\"93.3398\" y2=\"93.3398\"/></a><!--MD5=[ebbe1d658d1005bcc118a6aa81145e00]\n",
       "class E4--><a href=\"psysml:aeba74e7-35ad-441a-aaf4-220a7e48fb18\" target=\"_top\" title=\"psysml:aeba74e7-35ad-441a-aaf4-220a7e48fb18\" xlink:actuate=\"onRequest\" xlink:href=\"psysml:aeba74e7-35ad-441a-aaf4-220a7e48fb18\" xlink:show=\"new\" xlink:title=\"psysml:aeba74e7-35ad-441a-aaf4-220a7e48fb18\" xlink:type=\"simple\"><rect fill=\"#FFFFFF\" height=\"88.3516\" id=\"E4\" style=\"stroke: #383838; stroke-width: 1.5;\" width=\"103\" x=\"32\" y=\"164\"/><text fill=\"#000000\" font-family=\"sans-serif\" font-size=\"12\" font-style=\"italic\" lengthAdjust=\"spacingAndGlyphs\" textLength=\"68\" x=\"49.5\" y=\"180.1387\">«part  def»</text><text fill=\"#000000\" font-family=\"sans-serif\" font-size=\"12\" lengthAdjust=\"spacingAndGlyphs\" textLength=\"11\" x=\"78\" y=\"194.1074\">W</text><line style=\"stroke: #383838; stroke-width: 1.5;\" x1=\"33\" x2=\"134\" y1=\"201.9375\" y2=\"201.9375\"/><text fill=\"#000000\" font-family=\"sans-serif\" font-size=\"11\" lengthAdjust=\"spacingAndGlyphs\" textLength=\"87\" x=\"38\" y=\"232.9526\">m=default = n;</text><text fill=\"#000000\" font-family=\"sans-serif\" font-size=\"11\" font-style=\"italic\" lengthAdjust=\"spacingAndGlyphs\" textLength=\"48\" x=\"38\" y=\"245.7573\">:&gt;&gt;V::m</text><line style=\"stroke: #383838; stroke-width: 1.0;\" x1=\"33\" x2=\"56\" y1=\"216.3398\" y2=\"216.3398\"/><text fill=\"#000000\" font-family=\"sans-serif\" font-size=\"11\" lengthAdjust=\"spacingAndGlyphs\" textLength=\"55\" x=\"56\" y=\"219.6479\">attributes</text><line style=\"stroke: #383838; stroke-width: 1.0;\" x1=\"111\" x2=\"134\" y1=\"216.3398\" y2=\"216.3398\"/></a><!--MD5=[270fce915f116d4de14055a7c1d9a0f3]\n",
       "class E5--><a href=\"psysml:8648f4f6-facd-4996-a918-0994903b340f\" target=\"_top\" title=\"psysml:8648f4f6-facd-4996-a918-0994903b340f\" xlink:actuate=\"onRequest\" xlink:href=\"psysml:8648f4f6-facd-4996-a918-0994903b340f\" xlink:show=\"new\" xlink:title=\"psysml:8648f4f6-facd-4996-a918-0994903b340f\" xlink:type=\"simple\"><rect fill=\"#FFFFFF\" height=\"45.9375\" id=\"E5\" rx=\"10\" ry=\"10\" style=\"stroke: #383838; stroke-width: 1.5;\" width=\"42\" x=\"62.5\" y=\"287\"/><text fill=\"#000000\" font-family=\"sans-serif\" font-size=\"12\" font-style=\"italic\" lengthAdjust=\"spacingAndGlyphs\" textLength=\"40\" x=\"63.5\" y=\"303.1387\">«part»</text><text fill=\"#000000\" font-family=\"sans-serif\" font-size=\"12\" lengthAdjust=\"spacingAndGlyphs\" textLength=\"14\" x=\"74.5\" y=\"317.1074\">v2</text><line style=\"stroke: #383838; stroke-width: 1.5;\" x1=\"63.5\" x2=\"103.5\" y1=\"324.9375\" y2=\"324.9375\"/></a><!--MD5=[05d275557350bfb9b23a4ef7222b4c39]\n",
       "link E3 to E2--><a href=\"psysml:f9d68518-1ffd-4856-b3d4-4b8d752762cd\" target=\"_top\" title=\"psysml:f9d68518-1ffd-4856-b3d4-4b8d752762cd\" xlink:actuate=\"onRequest\" xlink:href=\"psysml:f9d68518-1ffd-4856-b3d4-4b8d752762cd\" xlink:show=\"new\" xlink:title=\"psysml:f9d68518-1ffd-4856-b3d4-4b8d752762cd\" xlink:type=\"simple\"><path d=\"M115.07,96.66 C132.33,103.25 154.67,111.77 176.05,119.93 \" fill=\"none\" id=\"E3-&gt;E2\" style=\"stroke: #383838; stroke-width: 1.0;\"/><polygon fill=\"#FFFFFF\" points=\"194.84,127.1,174.5929,126.8678,179.583,113.7874,194.84,127.1\" style=\"stroke: #383838; stroke-width: 1.0;\"/><ellipse cx=\"169.9801\" cy=\"122.9675\" fill=\"#383838\" rx=\"2\" ry=\"2\" style=\"stroke: #383838; stroke-width: 1.0;\"/><ellipse cx=\"173.5446\" cy=\"113.6243\" fill=\"#383838\" rx=\"2\" ry=\"2\" style=\"stroke: #383838; stroke-width: 1.0;\"/></a><!--MD5=[185131fc0dcab0a4505a2ebe144e961b]\n",
       "link E4 to E2--><a href=\"psysml:13494711-98b1-4251-8963-46d1e0c35503\" target=\"_top\" title=\"psysml:13494711-98b1-4251-8963-46d1e0c35503\" xlink:actuate=\"onRequest\" xlink:href=\"psysml:13494711-98b1-4251-8963-46d1e0c35503\" xlink:show=\"new\" xlink:title=\"psysml:13494711-98b1-4251-8963-46d1e0c35503\" xlink:type=\"simple\"><path d=\"M135.03,189.03 C147.94,184.18 162.08,178.88 175.82,173.72 \" fill=\"none\" id=\"E4-&gt;E2\" style=\"stroke: #383838; stroke-width: 1.0;\"/><polygon fill=\"none\" points=\"173.64,167.06,194.82,166.59,178.56,180.17,173.64,167.06\" style=\"stroke: #383838; stroke-width: 1.0;\"/></a><!--MD5=[66e86422ca2e93b281c3a9dfa32b0af0]\n",
       "@startuml\r\n",
       "left to right direction\r\n",
       "skinparam monochrome true\r\n",
       "skinparam classbackgroundcolor white\r\n",
       "skinparam shadowing false\r\n",
       "skinparam wrapWidth 300\r\n",
       "hide circle\r\n",
       "\r\n",
       "package \"DefaultValueTest\" as E1  [[psysml:6839459c-d74b-4e54-a7fb-96b2013b0c1a ]]  {\r\n",
       "comp def \"V\" as E2  <<(T,blue) part  def>> [[psysml:f6ad7545-3639-41cb-8da0-571497d98dc5 ]] {\r\n",
       "- - attributes - -\r\n",
       "m=default = 10; \r\n",
       "n= 20; \r\n",
       "}\r\n",
       "comp usage \"v1: V \" as E3  <<(T,blue) part>> [[psysml:1ac351b0-bbdc-4492-9f99-b540f7d23706 ]] {\r\n",
       "- - attributes - -\r\n",
       "m= 20; \\n//:>>V::m// \r\n",
       "}\r\n",
       "comp def \"W\" as E4  <<(T,blue) part  def>> [[psysml:aeba74e7-35ad-441a-aaf4-220a7e48fb18 ]] {\r\n",
       "- - attributes - -\r\n",
       "m=default = n; \\n//:>>V::m// \r\n",
       "}\r\n",
       "comp usage \"v2 \" as E5  <<(T,blue) part>> [[psysml:8648f4f6-facd-4996-a918-0994903b340f ]] {\r\n",
       "}\r\n",
       "}\r\n",
       "E3 - -:|> E2 [[psysml:f9d68518-1ffd-4856-b3d4-4b8d752762cd ]] \r\n",
       "E4 - -|> E2 [[psysml:13494711-98b1-4251-8963-46d1e0c35503 ]] \r\n",
       "@enduml\r\n",
       "\n",
       "PlantUML version 1.2020.13(Sat Jun 13 12:26:38 UTC 2020)\n",
       "(EPL source distribution)\n",
       "Java Runtime: OpenJDK Runtime Environment\n",
       "JVM: OpenJDK 64-Bit Server VM\n",
       "Default Encoding: UTF-8\n",
       "Language: en\n",
       "Country: null\n",
       "--></g></svg>"
      ]
     },
     "execution_count": 17,
     "metadata": {},
     "output_type": "execute_result"
    }
   ],
   "source": [
    "%viz --style=\"LR\" --view=\"Tree\" \"DefaultValueTest\""
   ]
  },
  {
   "cell_type": "code",
   "execution_count": 18,
   "id": "37a28b82",
   "metadata": {
    "execution": {
     "iopub.execute_input": "2022-02-18T10:51:40.301195Z",
     "iopub.status.busy": "2022-02-18T10:51:40.300763Z",
     "iopub.status.idle": "2022-02-18T10:51:40.304352Z",
     "shell.execute_reply": "2022-02-18T10:51:40.304657Z"
    }
   },
   "outputs": [
    {
     "data": {
      "image/svg+xml": [
       "<?xml version=\"1.0\" encoding=\"UTF-8\" standalone=\"no\"?><svg xmlns=\"http://www.w3.org/2000/svg\" xmlns:xlink=\"http://www.w3.org/1999/xlink\" contentScriptType=\"application/ecmascript\" contentStyleType=\"text/css\" height=\"12px\" preserveAspectRatio=\"none\" style=\"width:12px;height:12px;\" version=\"1.1\" viewBox=\"0 0 12 12\" width=\"12px\" zoomAndPan=\"magnify\"><defs/><g><!--MD5=[19d285c9d72a204eba4e2cd117d745e8]\n",
       "@startuml\r\n",
       "left to right direction\r\n",
       "skinparam monochrome true\r\n",
       "skinparam classbackgroundcolor white\r\n",
       "skinparam shadowing false\r\n",
       "skinparam wrapWidth 300\r\n",
       "hide circle\r\n",
       "\r\n",
       "@enduml\r\n",
       "\n",
       "PlantUML version 1.2020.13(Sat Jun 13 12:26:38 UTC 2020)\n",
       "(EPL source distribution)\n",
       "Java Runtime: OpenJDK Runtime Environment\n",
       "JVM: OpenJDK 64-Bit Server VM\n",
       "Default Encoding: UTF-8\n",
       "Language: en\n",
       "Country: null\n",
       "--></g></svg>"
      ]
     },
     "execution_count": 18,
     "metadata": {},
     "output_type": "execute_result"
    }
   ],
   "source": [
    "%viz --style=\"LR\" --view=\"State\" \"DefaultValueTest\""
   ]
  },
  {
   "cell_type": "code",
   "execution_count": 19,
   "id": "2ab5f104",
   "metadata": {
    "execution": {
     "iopub.execute_input": "2022-02-18T10:51:40.354578Z",
     "iopub.status.busy": "2022-02-18T10:51:40.354127Z",
     "iopub.status.idle": "2022-02-18T10:51:40.390874Z",
     "shell.execute_reply": "2022-02-18T10:51:40.390484Z"
    }
   },
   "outputs": [
    {
     "data": {
      "image/svg+xml": [
       "<?xml version=\"1.0\" encoding=\"UTF-8\" standalone=\"no\"?><svg xmlns=\"http://www.w3.org/2000/svg\" xmlns:xlink=\"http://www.w3.org/1999/xlink\" contentScriptType=\"application/ecmascript\" contentStyleType=\"text/css\" height=\"421px\" preserveAspectRatio=\"none\" style=\"width:380px;height:421px;\" version=\"1.1\" viewBox=\"0 0 380 421\" width=\"380px\" zoomAndPan=\"magnify\"><defs/><g><!--MD5=[fbc87193dbaf4d95561dea2c320d4a47]\n",
       "cluster E1--><a href=\"psysml:6839459c-d74b-4e54-a7fb-96b2013b0c1a\" target=\"_top\" title=\"psysml:6839459c-d74b-4e54-a7fb-96b2013b0c1a\" xlink:actuate=\"onRequest\" xlink:href=\"psysml:6839459c-d74b-4e54-a7fb-96b2013b0c1a\" xlink:show=\"new\" xlink:title=\"psysml:6839459c-d74b-4e54-a7fb-96b2013b0c1a\" xlink:type=\"simple\"><polygon fill=\"#FFFFFF\" points=\"16,6,140,6,147,28.2969,358,28.2969,358,409,16,409,16,6\" style=\"stroke: #000000; stroke-width: 1.5;\"/><line style=\"stroke: #000000; stroke-width: 1.5;\" x1=\"16\" x2=\"147\" y1=\"28.2969\" y2=\"28.2969\"/><text fill=\"#000000\" font-family=\"sans-serif\" font-size=\"14\" font-weight=\"bold\" lengthAdjust=\"spacingAndGlyphs\" textLength=\"118\" x=\"20\" y=\"20.9951\">DefaultValueTest</text></a><!--MD5=[e4f7fae6ed58524ba242bb0b0d3be6b7]\n",
       "cluster E2--><a href=\"psysml:f6ad7545-3639-41cb-8da0-571497d98dc5\" target=\"_top\" title=\"psysml:f6ad7545-3639-41cb-8da0-571497d98dc5\" xlink:actuate=\"onRequest\" xlink:href=\"psysml:f6ad7545-3639-41cb-8da0-571497d98dc5\" xlink:show=\"new\" xlink:title=\"psysml:f6ad7545-3639-41cb-8da0-571497d98dc5\" xlink:type=\"simple\"><rect fill=\"#FFFFFF\" height=\"229\" id=\"E2\" style=\"stroke: #383838; stroke-width: 1.5;\" width=\"119\" x=\"207\" y=\"97\"/><rect fill=\"#F8F8F8\" height=\"37.9375\" style=\"stroke: #383838; stroke-width: 1.5;\" width=\"119\" x=\"207\" y=\"97\"/><text fill=\"#000000\" font-family=\"sans-serif\" font-size=\"12\" font-style=\"italic\" lengthAdjust=\"spacingAndGlyphs\" textLength=\"68\" x=\"232.5\" y=\"113.1387\">«part  def»</text><text fill=\"#000000\" font-family=\"sans-serif\" font-size=\"12\" lengthAdjust=\"spacingAndGlyphs\" textLength=\"8\" x=\"262.5\" y=\"127.1074\">V</text></a><!--MD5=[de5ec2e2e8f62f467e546659f5068c88]\n",
       "cluster E5--><a href=\"psysml:1ac351b0-bbdc-4492-9f99-b540f7d23706\" target=\"_top\" title=\"psysml:1ac351b0-bbdc-4492-9f99-b540f7d23706\" xlink:actuate=\"onRequest\" xlink:href=\"psysml:1ac351b0-bbdc-4492-9f99-b540f7d23706\" xlink:show=\"new\" xlink:title=\"psysml:1ac351b0-bbdc-4492-9f99-b540f7d23706\" xlink:type=\"simple\"><rect fill=\"#FFFFFF\" height=\"97\" id=\"E5\" rx=\"10\" ry=\"10\" style=\"stroke: #383838; stroke-width: 1.5;\" width=\"103\" x=\"56\" y=\"49\"/><rect fill=\"#F8F8F8\" height=\"23.9688\" rx=\"10\" ry=\"10\" style=\"stroke: #F8F8F8; stroke-width: 1.5;\" width=\"103\" x=\"56\" y=\"49\"/><rect fill=\"#F8F8F8\" height=\"10\" style=\"stroke: #F8F8F8; stroke-width: 1.5;\" width=\"103\" x=\"56\" y=\"62.9688\"/><rect fill=\"none\" height=\"97\" id=\"E5\" rx=\"10\" ry=\"10\" style=\"stroke: #383838; stroke-width: 1.5;\" width=\"103\" x=\"56\" y=\"49\"/><text fill=\"#000000\" font-family=\"sans-serif\" font-size=\"12\" lengthAdjust=\"spacingAndGlyphs\" textLength=\"30\" x=\"92.5\" y=\"65.1387\">v1: V</text><line style=\"stroke: #383838; stroke-width: 1.0;\" x1=\"56\" x2=\"159\" y1=\"72.9688\" y2=\"72.9688\"/></a><!--MD5=[168fadf3d0c3fd93dd5d6da1b1d7ab76]\n",
       "cluster E7--><a href=\"psysml:aeba74e7-35ad-441a-aaf4-220a7e48fb18\" target=\"_top\" title=\"psysml:aeba74e7-35ad-441a-aaf4-220a7e48fb18\" xlink:actuate=\"onRequest\" xlink:href=\"psysml:aeba74e7-35ad-441a-aaf4-220a7e48fb18\" xlink:show=\"new\" xlink:title=\"psysml:aeba74e7-35ad-441a-aaf4-220a7e48fb18\" xlink:type=\"simple\"><rect fill=\"#FFFFFF\" height=\"148\" id=\"E7\" style=\"stroke: #383838; stroke-width: 1.5;\" width=\"119\" x=\"48\" y=\"178\"/><rect fill=\"#F8F8F8\" height=\"37.9375\" style=\"stroke: #383838; stroke-width: 1.5;\" width=\"119\" x=\"48\" y=\"178\"/><text fill=\"#000000\" font-family=\"sans-serif\" font-size=\"12\" font-style=\"italic\" lengthAdjust=\"spacingAndGlyphs\" textLength=\"68\" x=\"73.5\" y=\"194.1387\">«part  def»</text><text fill=\"#000000\" font-family=\"sans-serif\" font-size=\"12\" lengthAdjust=\"spacingAndGlyphs\" textLength=\"11\" x=\"102\" y=\"208.1074\">W</text></a><!--MD5=[09b614a08d8cba4a07c9adeb5e0fee81]\n",
       "class E3--><a href=\"psysml:075fa6d2-8e51-4049-a184-a21376454cfa\" target=\"_top\" title=\"psysml:075fa6d2-8e51-4049-a184-a21376454cfa\" xlink:actuate=\"onRequest\" xlink:href=\"psysml:075fa6d2-8e51-4049-a184-a21376454cfa\" xlink:show=\"new\" xlink:title=\"psysml:075fa6d2-8e51-4049-a184-a21376454cfa\" xlink:type=\"simple\"><rect fill=\"#FFFFFF\" height=\"45.9375\" id=\"E3\" rx=\"10\" ry=\"10\" style=\"stroke: #383838; stroke-width: 1.5;\" width=\"71\" x=\"231\" y=\"156\"/><text fill=\"#000000\" font-family=\"sans-serif\" font-size=\"12\" font-style=\"italic\" lengthAdjust=\"spacingAndGlyphs\" textLength=\"69\" x=\"232\" y=\"172.1387\">«attribute»</text><text fill=\"#000000\" font-family=\"sans-serif\" font-size=\"12\" lengthAdjust=\"spacingAndGlyphs\" textLength=\"11\" x=\"259\" y=\"186.1074\">m</text><line style=\"stroke: #383838; stroke-width: 1.5;\" x1=\"232\" x2=\"301\" y1=\"193.9375\" y2=\"193.9375\"/></a><!--MD5=[ebbe1d658d1005bcc118a6aa81145e00]\n",
       "class E4--><a href=\"psysml:0ef473ce-6f49-4b48-ae7c-25bde7c2058c\" target=\"_top\" title=\"psysml:0ef473ce-6f49-4b48-ae7c-25bde7c2058c\" xlink:actuate=\"onRequest\" xlink:href=\"psysml:0ef473ce-6f49-4b48-ae7c-25bde7c2058c\" xlink:show=\"new\" xlink:title=\"psysml:0ef473ce-6f49-4b48-ae7c-25bde7c2058c\" xlink:type=\"simple\"><rect fill=\"#FFFFFF\" height=\"45.9375\" id=\"E4\" rx=\"10\" ry=\"10\" style=\"stroke: #383838; stroke-width: 1.5;\" width=\"71\" x=\"231\" y=\"237\"/><text fill=\"#000000\" font-family=\"sans-serif\" font-size=\"12\" font-style=\"italic\" lengthAdjust=\"spacingAndGlyphs\" textLength=\"69\" x=\"232\" y=\"253.1387\">«attribute»</text><text fill=\"#000000\" font-family=\"sans-serif\" font-size=\"12\" lengthAdjust=\"spacingAndGlyphs\" textLength=\"8\" x=\"260.5\" y=\"267.1074\">n</text><line style=\"stroke: #383838; stroke-width: 1.5;\" x1=\"232\" x2=\"301\" y1=\"274.9375\" y2=\"274.9375\"/></a><!--MD5=[60a26617385b1d2d0262a64233df1f8d]\n",
       "class E6--><a href=\"psysml:ec8a8e56-fcc6-4673-8c8e-468b75026770\" target=\"_top\" title=\"psysml:ec8a8e56-fcc6-4673-8c8e-468b75026770\" xlink:actuate=\"onRequest\" xlink:href=\"psysml:ec8a8e56-fcc6-4673-8c8e-468b75026770\" xlink:show=\"new\" xlink:title=\"psysml:ec8a8e56-fcc6-4673-8c8e-468b75026770\" xlink:type=\"simple\"><rect fill=\"#FFFFFF\" height=\"45.9375\" id=\"E6\" rx=\"10\" ry=\"10\" style=\"stroke: #383838; stroke-width: 1.5;\" width=\"71\" x=\"72\" y=\"84\"/><text fill=\"#000000\" font-family=\"sans-serif\" font-size=\"12\" font-style=\"italic\" lengthAdjust=\"spacingAndGlyphs\" textLength=\"69\" x=\"73\" y=\"100.1387\">«attribute»</text><text fill=\"#000000\" font-family=\"sans-serif\" font-size=\"12\" lengthAdjust=\"spacingAndGlyphs\" textLength=\"11\" x=\"100\" y=\"114.1074\">m</text><line style=\"stroke: #383838; stroke-width: 1.5;\" x1=\"73\" x2=\"142\" y1=\"121.9375\" y2=\"121.9375\"/></a><!--MD5=[b9389687b975829384b498ac4b7476b2]\n",
       "class E8--><a href=\"psysml:38866ed6-d027-47ed-9e9b-10f0103d500c\" target=\"_top\" title=\"psysml:38866ed6-d027-47ed-9e9b-10f0103d500c\" xlink:actuate=\"onRequest\" xlink:href=\"psysml:38866ed6-d027-47ed-9e9b-10f0103d500c\" xlink:show=\"new\" xlink:title=\"psysml:38866ed6-d027-47ed-9e9b-10f0103d500c\" xlink:type=\"simple\"><rect fill=\"#FFFFFF\" height=\"45.9375\" id=\"E8\" rx=\"10\" ry=\"10\" style=\"stroke: #383838; stroke-width: 1.5;\" width=\"71\" x=\"72\" y=\"237\"/><text fill=\"#000000\" font-family=\"sans-serif\" font-size=\"12\" font-style=\"italic\" lengthAdjust=\"spacingAndGlyphs\" textLength=\"69\" x=\"73\" y=\"253.1387\">«attribute»</text><text fill=\"#000000\" font-family=\"sans-serif\" font-size=\"12\" lengthAdjust=\"spacingAndGlyphs\" textLength=\"11\" x=\"100\" y=\"267.1074\">m</text><line style=\"stroke: #383838; stroke-width: 1.5;\" x1=\"73\" x2=\"142\" y1=\"274.9375\" y2=\"274.9375\"/></a><g id=\"E1.E9\"><a href=\"psysml:8648f4f6-facd-4996-a918-0994903b340f\" target=\"_top\" title=\"psysml:8648f4f6-facd-4996-a918-0994903b340f\" xlink:actuate=\"onRequest\" xlink:href=\"psysml:8648f4f6-facd-4996-a918-0994903b340f\" xlink:show=\"new\" xlink:title=\"psysml:8648f4f6-facd-4996-a918-0994903b340f\" xlink:type=\"simple\"><rect fill=\"#FFFFFF\" height=\"40\" id=\"E9\" rx=\"10\" ry=\"10\" style=\"stroke: #383838; stroke-width: 1.5;\" width=\"68\" x=\"73.5\" y=\"353\"/><rect fill=\"#F8F8F8\" height=\"23.9688\" rx=\"10\" ry=\"10\" style=\"stroke: #F8F8F8; stroke-width: 1.5;\" width=\"68\" x=\"73.5\" y=\"353\"/><rect fill=\"#F8F8F8\" height=\"10\" style=\"stroke: #F8F8F8; stroke-width: 1.5;\" width=\"68\" x=\"73.5\" y=\"366.9688\"/><rect fill=\"none\" height=\"40\" id=\"E9\" rx=\"10\" ry=\"10\" style=\"stroke: #383838; stroke-width: 1.5;\" width=\"68\" x=\"73.5\" y=\"353\"/><text fill=\"#000000\" font-family=\"sans-serif\" font-size=\"12\" lengthAdjust=\"spacingAndGlyphs\" textLength=\"53\" x=\"79\" y=\"369.1387\">v2= W();</text></a></g><!--MD5=[a717450b82c80b9240a525fa862496af]\n",
       "link E6 to E3--><a href=\"psysml:319addec-2b51-47f0-a10b-c2bc2405cd29\" target=\"_top\" title=\"psysml:319addec-2b51-47f0-a10b-c2bc2405cd29\" xlink:actuate=\"onRequest\" xlink:href=\"psysml:319addec-2b51-47f0-a10b-c2bc2405cd29\" xlink:show=\"new\" xlink:title=\"psysml:319addec-2b51-47f0-a10b-c2bc2405cd29\" xlink:type=\"simple\"><path d=\"M143.34,122.98 C163.67,132.3 189.72,144.25 212.54,154.71 \" fill=\"none\" id=\"E6-&gt;E3\" style=\"stroke: #383838; stroke-width: 1.0;\"/><polygon fill=\"#FFFFFF\" points=\"230.75,163.07,210.5612,161.517,216.3944,148.7901,230.75,163.07\" style=\"stroke: #383838; stroke-width: 1.0;\"/><line style=\"stroke: #383838; stroke-width: 2.0;\" x1=\"207.1067\" x2=\"212.9399\" y1=\"159.9337\" y2=\"147.2068\"/></a><!--MD5=[583832df87f4419a098336a29a52fa00]\n",
       "link E7 to E2--><a href=\"psysml:13494711-98b1-4251-8963-46d1e0c35503\" target=\"_top\" title=\"psysml:13494711-98b1-4251-8963-46d1e0c35503\" xlink:actuate=\"onRequest\" xlink:href=\"psysml:13494711-98b1-4251-8963-46d1e0c35503\" xlink:show=\"new\" xlink:title=\"psysml:13494711-98b1-4251-8963-46d1e0c35503\" xlink:type=\"simple\"><path d=\"M167.5956,318 C168.1735,318 168.7528,318 169.3335,318 C170.4949,318 171.6617,318 172.8329,318 C177.5177,318 182.272,318 187.0263,318 C191.7805,318 196.5346,318 201.2187,318 C202.3898,318 203.5565,318 204.7177,318 C205.2983,318 205.8776,318 206.4553,318 C206.5997,318 206.7441,318 206.8883,318 \" fill=\"none\" id=\"E7-&gt;E2\" style=\"stroke: #383838; stroke-width: 1.0;\"/><polygon fill=\"#FFFFFF\" points=\"206.8883,318,187.8883,311,187.8883,325,206.8883,318\" style=\"stroke: #383838; stroke-width: 1.0;\"/></a><!--MD5=[95fa686b5a16158bcdbcaeead89f639b]\n",
       "link E8 to E3--><a href=\"psysml:27f15f96-8451-4ffb-b537-81d2f9d472fa\" target=\"_top\" title=\"psysml:27f15f96-8451-4ffb-b537-81d2f9d472fa\" xlink:actuate=\"onRequest\" xlink:href=\"psysml:27f15f96-8451-4ffb-b537-81d2f9d472fa\" xlink:show=\"new\" xlink:title=\"psysml:27f15f96-8451-4ffb-b537-81d2f9d472fa\" xlink:type=\"simple\"><path d=\"M143.34,242.02 C163.77,231.48 189.98,217.96 212.88,206.15 \" fill=\"none\" id=\"E8-&gt;E3\" style=\"stroke: #383838; stroke-width: 1.0;\"/><polygon fill=\"#FFFFFF\" points=\"230.75,196.93,217.0761,211.864,210.6556,199.423,230.75,196.93\" style=\"stroke: #383838; stroke-width: 1.0;\"/><line style=\"stroke: #383838; stroke-width: 2.0;\" x1=\"213.6993\" x2=\"207.2788\" y1=\"213.6067\" y2=\"201.1658\"/></a><!--MD5=[6aa3c09a7ca74813b9ffa286dc8a73e5]\n",
       "@startuml\r\n",
       "skinparam ranksep 10\r\n",
       "skinparam rectangle {\r\n",
       " backgroundColor<<block>> LightGreen\r\n",
       "}\r\n",
       "left to right direction\r\n",
       "skinparam monochrome true\r\n",
       "skinparam classbackgroundcolor white\r\n",
       "skinparam shadowing false\r\n",
       "skinparam wrapWidth 300\r\n",
       "hide circle\r\n",
       "\r\n",
       "package \"DefaultValueTest\" as E1  [[psysml:6839459c-d74b-4e54-a7fb-96b2013b0c1a ]]  {\r\n",
       "rec def \"V\" as E2  <<(T,blue) part  def>> [[psysml:f6ad7545-3639-41cb-8da0-571497d98dc5 ]] {\r\n",
       "comp usage \"m \" as E3  <<(T,blue) attribute>> [[psysml:075fa6d2-8e51-4049-a184-a21376454cfa ]] {\r\n",
       "}\r\n",
       "comp usage \"n \" as E4  <<(T,blue) attribute>> [[psysml:0ef473ce-6f49-4b48-ae7c-25bde7c2058c ]] {\r\n",
       "}\r\n",
       "}\r\n",
       "rec usage \"v1: V\" as E5  [[psysml:1ac351b0-bbdc-4492-9f99-b540f7d23706 ]] {\r\n",
       "comp usage \"m \" as E6  <<(T,blue) attribute>> [[psysml:ec8a8e56-fcc6-4673-8c8e-468b75026770 ]] {\r\n",
       "}\r\n",
       "}\r\n",
       "rec def \"W\" as E7  <<(T,blue) part  def>> [[psysml:aeba74e7-35ad-441a-aaf4-220a7e48fb18 ]] {\r\n",
       "comp usage \"m \" as E8  <<(T,blue) attribute>> [[psysml:38866ed6-d027-47ed-9e9b-10f0103d500c ]] {\r\n",
       "}\r\n",
       "}\r\n",
       "rec usage \"v2= W(); \" as E9  [[psysml:8648f4f6-facd-4996-a918-0994903b340f ]] {\r\n",
       "}\r\n",
       "}\r\n",
       "E6 - -||> E3 [[psysml:319addec-2b51-47f0-a10b-c2bc2405cd29 ]] \r\n",
       "E7 - -|> E2 [[psysml:13494711-98b1-4251-8963-46d1e0c35503 ]] \r\n",
       "E8 - -||> E3 [[psysml:27f15f96-8451-4ffb-b537-81d2f9d472fa ]] \r\n",
       "@enduml\r\n",
       "\n",
       "PlantUML version 1.2020.13(Sat Jun 13 12:26:38 UTC 2020)\n",
       "(EPL source distribution)\n",
       "Java Runtime: OpenJDK Runtime Environment\n",
       "JVM: OpenJDK 64-Bit Server VM\n",
       "Default Encoding: UTF-8\n",
       "Language: en\n",
       "Country: null\n",
       "--></g></svg>"
      ]
     },
     "execution_count": 19,
     "metadata": {},
     "output_type": "execute_result"
    }
   ],
   "source": [
    "%viz --style=\"LR\" --view=\"Interconnection\" \"DefaultValueTest\""
   ]
  },
  {
   "cell_type": "code",
   "execution_count": 20,
   "id": "5a4d7887",
   "metadata": {
    "execution": {
     "iopub.execute_input": "2022-02-18T10:51:40.440503Z",
     "iopub.status.busy": "2022-02-18T10:51:40.439824Z",
     "iopub.status.idle": "2022-02-18T10:51:40.444668Z",
     "shell.execute_reply": "2022-02-18T10:51:40.444323Z"
    }
   },
   "outputs": [
    {
     "data": {
      "image/svg+xml": [
       "<?xml version=\"1.0\" encoding=\"UTF-8\" standalone=\"no\"?><svg xmlns=\"http://www.w3.org/2000/svg\" xmlns:xlink=\"http://www.w3.org/1999/xlink\" contentScriptType=\"application/ecmascript\" contentStyleType=\"text/css\" height=\"12px\" preserveAspectRatio=\"none\" style=\"width:12px;height:12px;\" version=\"1.1\" viewBox=\"0 0 12 12\" width=\"12px\" zoomAndPan=\"magnify\"><defs/><g><!--MD5=[7aeb398939421629f6affaa4a1a7b125]\n",
       "@startuml\r\n",
       "skinparam ranksep 8\r\n",
       "left to right direction\r\n",
       "skinparam monochrome true\r\n",
       "skinparam classbackgroundcolor white\r\n",
       "skinparam shadowing false\r\n",
       "skinparam wrapWidth 300\r\n",
       "hide circle\r\n",
       "\r\n",
       "@enduml\r\n",
       "\n",
       "PlantUML version 1.2020.13(Sat Jun 13 12:26:38 UTC 2020)\n",
       "(EPL source distribution)\n",
       "Java Runtime: OpenJDK Runtime Environment\n",
       "JVM: OpenJDK 64-Bit Server VM\n",
       "Default Encoding: UTF-8\n",
       "Language: en\n",
       "Country: null\n",
       "--></g></svg>"
      ]
     },
     "execution_count": 20,
     "metadata": {},
     "output_type": "execute_result"
    }
   ],
   "source": [
    "%viz --style=\"LR\" --view=\"Action\" \"DefaultValueTest\""
   ]
  },
  {
   "cell_type": "code",
   "execution_count": 21,
   "id": "24d18a7c",
   "metadata": {
    "execution": {
     "iopub.execute_input": "2022-02-18T10:51:40.494497Z",
     "iopub.status.busy": "2022-02-18T10:51:40.494071Z",
     "iopub.status.idle": "2022-02-18T10:51:40.500026Z",
     "shell.execute_reply": "2022-02-18T10:51:40.499611Z"
    }
   },
   "outputs": [
    {
     "data": {
      "image/svg+xml": [
       "<?xml version=\"1.0\" encoding=\"UTF-8\" standalone=\"no\"?><svg xmlns=\"http://www.w3.org/2000/svg\" xmlns:xlink=\"http://www.w3.org/1999/xlink\" contentScriptType=\"application/ecmascript\" contentStyleType=\"text/css\" height=\"12px\" preserveAspectRatio=\"none\" style=\"width:12px;height:12px;\" version=\"1.1\" viewBox=\"0 0 12 12\" width=\"12px\" zoomAndPan=\"magnify\"><defs/><g><!--MD5=[238c11ea2002f03115ad6b49a457d50e]\n",
       "@startuml\r\n",
       "skinparam roundcorner 20\r\n",
       "skinparam BoxPadding 20\r\n",
       "skinparam SequenceBoxBackgroundColor #white\r\n",
       "skinparam style strictuml\r\n",
       "skinparam maxMessageSize 100\r\n",
       "left to right direction\r\n",
       "skinparam monochrome true\r\n",
       "skinparam classbackgroundcolor white\r\n",
       "skinparam shadowing false\r\n",
       "skinparam wrapWidth 300\r\n",
       "hide circle\r\n",
       "\r\n",
       "@enduml\r\n",
       "\n",
       "PlantUML version 1.2020.13(Sat Jun 13 12:26:38 UTC 2020)\n",
       "(EPL source distribution)\n",
       "Java Runtime: OpenJDK Runtime Environment\n",
       "JVM: OpenJDK 64-Bit Server VM\n",
       "Default Encoding: UTF-8\n",
       "Language: en\n",
       "Country: null\n",
       "--></g></svg>"
      ]
     },
     "execution_count": 21,
     "metadata": {},
     "output_type": "execute_result"
    }
   ],
   "source": [
    "%viz --style=\"LR\" --view=\"Sequence\" \"DefaultValueTest\""
   ]
  },
  {
   "cell_type": "code",
   "execution_count": 22,
   "id": "e534327e",
   "metadata": {
    "execution": {
     "iopub.execute_input": "2022-02-18T10:51:40.549568Z",
     "iopub.status.busy": "2022-02-18T10:51:40.549088Z",
     "iopub.status.idle": "2022-02-18T10:51:40.646960Z",
     "shell.execute_reply": "2022-02-18T10:51:40.645507Z"
    }
   },
   "outputs": [
    {
     "data": {
      "image/svg+xml": [
       "<?xml version=\"1.0\" encoding=\"UTF-8\" standalone=\"no\"?><svg xmlns=\"http://www.w3.org/2000/svg\" xmlns:xlink=\"http://www.w3.org/1999/xlink\" contentScriptType=\"application/ecmascript\" contentStyleType=\"text/css\" height=\"361px\" preserveAspectRatio=\"none\" style=\"width:339px;height:361px;\" version=\"1.1\" viewBox=\"0 0 339 361\" width=\"339px\" zoomAndPan=\"magnify\"><defs/><g><!--MD5=[fbc87193dbaf4d95561dea2c320d4a47]\n",
       "cluster E1--><a href=\"psysml:6839459c-d74b-4e54-a7fb-96b2013b0c1a\" target=\"_top\" title=\"psysml:6839459c-d74b-4e54-a7fb-96b2013b0c1a\" xlink:actuate=\"onRequest\" xlink:href=\"psysml:6839459c-d74b-4e54-a7fb-96b2013b0c1a\" xlink:show=\"new\" xlink:title=\"psysml:6839459c-d74b-4e54-a7fb-96b2013b0c1a\" xlink:type=\"simple\"><polygon fill=\"#FFFFFF\" points=\"16,6,140,6,147,28.2969,317,28.2969,317,349,16,349,16,6\" style=\"stroke: #000000; stroke-width: 1.5;\"/><line style=\"stroke: #000000; stroke-width: 1.5;\" x1=\"16\" x2=\"147\" y1=\"28.2969\" y2=\"28.2969\"/><text fill=\"#000000\" font-family=\"sans-serif\" font-size=\"14\" font-weight=\"bold\" lengthAdjust=\"spacingAndGlyphs\" textLength=\"118\" x=\"20\" y=\"20.9951\">DefaultValueTest</text></a><!--MD5=[b4997ac47864f28c2f74865a473b2911]\n",
       "class E2--><a href=\"psysml:f6ad7545-3639-41cb-8da0-571497d98dc5\" target=\"_top\" title=\"psysml:f6ad7545-3639-41cb-8da0-571497d98dc5\" xlink:actuate=\"onRequest\" xlink:href=\"psysml:f6ad7545-3639-41cb-8da0-571497d98dc5\" xlink:show=\"new\" xlink:title=\"psysml:f6ad7545-3639-41cb-8da0-571497d98dc5\" xlink:type=\"simple\"><rect fill=\"#FFFFFF\" height=\"88.3516\" id=\"E2\" style=\"stroke: #383838; stroke-width: 1.5;\" width=\"106\" x=\"195\" y=\"103\"/><text fill=\"#000000\" font-family=\"sans-serif\" font-size=\"12\" font-style=\"italic\" lengthAdjust=\"spacingAndGlyphs\" textLength=\"68\" x=\"214\" y=\"119.1387\">«part  def»</text><text fill=\"#000000\" font-family=\"sans-serif\" font-size=\"12\" lengthAdjust=\"spacingAndGlyphs\" textLength=\"8\" x=\"244\" y=\"133.1074\">V</text><line style=\"stroke: #383838; stroke-width: 1.5;\" x1=\"196\" x2=\"300\" y1=\"140.9375\" y2=\"140.9375\"/><text fill=\"#000000\" font-family=\"sans-serif\" font-size=\"11\" lengthAdjust=\"spacingAndGlyphs\" textLength=\"94\" x=\"201\" y=\"171.9526\">m=default = 10;</text><text fill=\"#000000\" font-family=\"sans-serif\" font-size=\"11\" lengthAdjust=\"spacingAndGlyphs\" textLength=\"38\" x=\"201\" y=\"184.7573\">n= 20;</text><line style=\"stroke: #383838; stroke-width: 1.0;\" x1=\"196\" x2=\"220.5\" y1=\"155.3398\" y2=\"155.3398\"/><text fill=\"#000000\" font-family=\"sans-serif\" font-size=\"11\" lengthAdjust=\"spacingAndGlyphs\" textLength=\"55\" x=\"220.5\" y=\"158.6479\">attributes</text><line style=\"stroke: #383838; stroke-width: 1.0;\" x1=\"275.5\" x2=\"300\" y1=\"155.3398\" y2=\"155.3398\"/></a><!--MD5=[09b614a08d8cba4a07c9adeb5e0fee81]\n",
       "class E3--><a href=\"psysml:1ac351b0-bbdc-4492-9f99-b540f7d23706\" target=\"_top\" title=\"psysml:1ac351b0-bbdc-4492-9f99-b540f7d23706\" xlink:actuate=\"onRequest\" xlink:href=\"psysml:1ac351b0-bbdc-4492-9f99-b540f7d23706\" xlink:show=\"new\" xlink:title=\"psysml:1ac351b0-bbdc-4492-9f99-b540f7d23706\" xlink:type=\"simple\"><rect fill=\"#FFFFFF\" height=\"88.3516\" id=\"E3\" rx=\"10\" ry=\"10\" style=\"stroke: #383838; stroke-width: 1.5;\" width=\"63\" x=\"52\" y=\"41\"/><text fill=\"#000000\" font-family=\"sans-serif\" font-size=\"12\" font-style=\"italic\" lengthAdjust=\"spacingAndGlyphs\" textLength=\"40\" x=\"63.5\" y=\"57.1387\">«part»</text><text fill=\"#000000\" font-family=\"sans-serif\" font-size=\"12\" lengthAdjust=\"spacingAndGlyphs\" textLength=\"30\" x=\"66.5\" y=\"71.1074\">v1: V</text><line style=\"stroke: #383838; stroke-width: 1.5;\" x1=\"53\" x2=\"114\" y1=\"78.9375\" y2=\"78.9375\"/><text fill=\"#000000\" font-family=\"sans-serif\" font-size=\"11\" lengthAdjust=\"spacingAndGlyphs\" textLength=\"42\" x=\"58\" y=\"109.9526\">m= 20;</text><text fill=\"#000000\" font-family=\"sans-serif\" font-size=\"11\" font-style=\"italic\" lengthAdjust=\"spacingAndGlyphs\" textLength=\"48\" x=\"58\" y=\"122.7573\">:&gt;&gt;V::m</text><line style=\"stroke: #383838; stroke-width: 1.0;\" x1=\"53\" x2=\"56\" y1=\"93.3398\" y2=\"93.3398\"/><text fill=\"#000000\" font-family=\"sans-serif\" font-size=\"11\" lengthAdjust=\"spacingAndGlyphs\" textLength=\"55\" x=\"56\" y=\"96.6479\">attributes</text><line style=\"stroke: #383838; stroke-width: 1.0;\" x1=\"111\" x2=\"114\" y1=\"93.3398\" y2=\"93.3398\"/></a><!--MD5=[ebbe1d658d1005bcc118a6aa81145e00]\n",
       "class E4--><a href=\"psysml:aeba74e7-35ad-441a-aaf4-220a7e48fb18\" target=\"_top\" title=\"psysml:aeba74e7-35ad-441a-aaf4-220a7e48fb18\" xlink:actuate=\"onRequest\" xlink:href=\"psysml:aeba74e7-35ad-441a-aaf4-220a7e48fb18\" xlink:show=\"new\" xlink:title=\"psysml:aeba74e7-35ad-441a-aaf4-220a7e48fb18\" xlink:type=\"simple\"><rect fill=\"#FFFFFF\" height=\"88.3516\" id=\"E4\" style=\"stroke: #383838; stroke-width: 1.5;\" width=\"103\" x=\"32\" y=\"164\"/><text fill=\"#000000\" font-family=\"sans-serif\" font-size=\"12\" font-style=\"italic\" lengthAdjust=\"spacingAndGlyphs\" textLength=\"68\" x=\"49.5\" y=\"180.1387\">«part  def»</text><text fill=\"#000000\" font-family=\"sans-serif\" font-size=\"12\" lengthAdjust=\"spacingAndGlyphs\" textLength=\"11\" x=\"78\" y=\"194.1074\">W</text><line style=\"stroke: #383838; stroke-width: 1.5;\" x1=\"33\" x2=\"134\" y1=\"201.9375\" y2=\"201.9375\"/><text fill=\"#000000\" font-family=\"sans-serif\" font-size=\"11\" lengthAdjust=\"spacingAndGlyphs\" textLength=\"87\" x=\"38\" y=\"232.9526\">m=default = n;</text><text fill=\"#000000\" font-family=\"sans-serif\" font-size=\"11\" font-style=\"italic\" lengthAdjust=\"spacingAndGlyphs\" textLength=\"48\" x=\"38\" y=\"245.7573\">:&gt;&gt;V::m</text><line style=\"stroke: #383838; stroke-width: 1.0;\" x1=\"33\" x2=\"56\" y1=\"216.3398\" y2=\"216.3398\"/><text fill=\"#000000\" font-family=\"sans-serif\" font-size=\"11\" lengthAdjust=\"spacingAndGlyphs\" textLength=\"55\" x=\"56\" y=\"219.6479\">attributes</text><line style=\"stroke: #383838; stroke-width: 1.0;\" x1=\"111\" x2=\"134\" y1=\"216.3398\" y2=\"216.3398\"/></a><!--MD5=[270fce915f116d4de14055a7c1d9a0f3]\n",
       "class E5--><a href=\"psysml:8648f4f6-facd-4996-a918-0994903b340f\" target=\"_top\" title=\"psysml:8648f4f6-facd-4996-a918-0994903b340f\" xlink:actuate=\"onRequest\" xlink:href=\"psysml:8648f4f6-facd-4996-a918-0994903b340f\" xlink:show=\"new\" xlink:title=\"psysml:8648f4f6-facd-4996-a918-0994903b340f\" xlink:type=\"simple\"><rect fill=\"#FFFFFF\" height=\"45.9375\" id=\"E5\" rx=\"10\" ry=\"10\" style=\"stroke: #383838; stroke-width: 1.5;\" width=\"42\" x=\"62.5\" y=\"287\"/><text fill=\"#000000\" font-family=\"sans-serif\" font-size=\"12\" font-style=\"italic\" lengthAdjust=\"spacingAndGlyphs\" textLength=\"40\" x=\"63.5\" y=\"303.1387\">«part»</text><text fill=\"#000000\" font-family=\"sans-serif\" font-size=\"12\" lengthAdjust=\"spacingAndGlyphs\" textLength=\"14\" x=\"74.5\" y=\"317.1074\">v2</text><line style=\"stroke: #383838; stroke-width: 1.5;\" x1=\"63.5\" x2=\"103.5\" y1=\"324.9375\" y2=\"324.9375\"/></a><!--MD5=[05d275557350bfb9b23a4ef7222b4c39]\n",
       "link E3 to E2--><a href=\"psysml:f9d68518-1ffd-4856-b3d4-4b8d752762cd\" target=\"_top\" title=\"psysml:f9d68518-1ffd-4856-b3d4-4b8d752762cd\" xlink:actuate=\"onRequest\" xlink:href=\"psysml:f9d68518-1ffd-4856-b3d4-4b8d752762cd\" xlink:show=\"new\" xlink:title=\"psysml:f9d68518-1ffd-4856-b3d4-4b8d752762cd\" xlink:type=\"simple\"><path d=\"M115.07,96.66 C132.33,103.25 154.67,111.77 176.05,119.93 \" fill=\"none\" id=\"E3-&gt;E2\" style=\"stroke: #383838; stroke-width: 1.0;\"/><polygon fill=\"#FFFFFF\" points=\"194.84,127.1,174.5929,126.8678,179.583,113.7874,194.84,127.1\" style=\"stroke: #383838; stroke-width: 1.0;\"/><ellipse cx=\"169.9801\" cy=\"122.9675\" fill=\"#383838\" rx=\"2\" ry=\"2\" style=\"stroke: #383838; stroke-width: 1.0;\"/><ellipse cx=\"173.5446\" cy=\"113.6243\" fill=\"#383838\" rx=\"2\" ry=\"2\" style=\"stroke: #383838; stroke-width: 1.0;\"/></a><!--MD5=[185131fc0dcab0a4505a2ebe144e961b]\n",
       "link E4 to E2--><a href=\"psysml:13494711-98b1-4251-8963-46d1e0c35503\" target=\"_top\" title=\"psysml:13494711-98b1-4251-8963-46d1e0c35503\" xlink:actuate=\"onRequest\" xlink:href=\"psysml:13494711-98b1-4251-8963-46d1e0c35503\" xlink:show=\"new\" xlink:title=\"psysml:13494711-98b1-4251-8963-46d1e0c35503\" xlink:type=\"simple\"><path d=\"M135.03,189.03 C147.94,184.18 162.08,178.88 175.82,173.72 \" fill=\"none\" id=\"E4-&gt;E2\" style=\"stroke: #383838; stroke-width: 1.0;\"/><polygon fill=\"none\" points=\"173.64,167.06,194.82,166.59,178.56,180.17,173.64,167.06\" style=\"stroke: #383838; stroke-width: 1.0;\"/></a><!--MD5=[66e86422ca2e93b281c3a9dfa32b0af0]\n",
       "@startuml\r\n",
       "left to right direction\r\n",
       "skinparam monochrome true\r\n",
       "skinparam classbackgroundcolor white\r\n",
       "skinparam shadowing false\r\n",
       "skinparam wrapWidth 300\r\n",
       "hide circle\r\n",
       "\r\n",
       "package \"DefaultValueTest\" as E1  [[psysml:6839459c-d74b-4e54-a7fb-96b2013b0c1a ]]  {\r\n",
       "comp def \"V\" as E2  <<(T,blue) part  def>> [[psysml:f6ad7545-3639-41cb-8da0-571497d98dc5 ]] {\r\n",
       "- - attributes - -\r\n",
       "m=default = 10; \r\n",
       "n= 20; \r\n",
       "}\r\n",
       "comp usage \"v1: V \" as E3  <<(T,blue) part>> [[psysml:1ac351b0-bbdc-4492-9f99-b540f7d23706 ]] {\r\n",
       "- - attributes - -\r\n",
       "m= 20; \\n//:>>V::m// \r\n",
       "}\r\n",
       "comp def \"W\" as E4  <<(T,blue) part  def>> [[psysml:aeba74e7-35ad-441a-aaf4-220a7e48fb18 ]] {\r\n",
       "- - attributes - -\r\n",
       "m=default = n; \\n//:>>V::m// \r\n",
       "}\r\n",
       "comp usage \"v2 \" as E5  <<(T,blue) part>> [[psysml:8648f4f6-facd-4996-a918-0994903b340f ]] {\r\n",
       "}\r\n",
       "}\r\n",
       "E3 - -:|> E2 [[psysml:f9d68518-1ffd-4856-b3d4-4b8d752762cd ]] \r\n",
       "E4 - -|> E2 [[psysml:13494711-98b1-4251-8963-46d1e0c35503 ]] \r\n",
       "@enduml\r\n",
       "\n",
       "PlantUML version 1.2020.13(Sat Jun 13 12:26:38 UTC 2020)\n",
       "(EPL source distribution)\n",
       "Java Runtime: OpenJDK Runtime Environment\n",
       "JVM: OpenJDK 64-Bit Server VM\n",
       "Default Encoding: UTF-8\n",
       "Language: en\n",
       "Country: null\n",
       "--></g></svg>"
      ]
     },
     "execution_count": 22,
     "metadata": {},
     "output_type": "execute_result"
    }
   ],
   "source": [
    "%viz --style=\"LR\" --view=\"MIXED\" \"DefaultValueTest\""
   ]
  },
  {
   "cell_type": "code",
   "execution_count": 23,
   "id": "bd642620",
   "metadata": {
    "execution": {
     "iopub.execute_input": "2022-02-18T10:51:40.696438Z",
     "iopub.status.busy": "2022-02-18T10:51:40.695968Z",
     "iopub.status.idle": "2022-02-18T10:51:40.765651Z",
     "shell.execute_reply": "2022-02-18T10:51:40.764222Z"
    }
   },
   "outputs": [
    {
     "data": {
      "image/svg+xml": [
       "<?xml version=\"1.0\" encoding=\"UTF-8\" standalone=\"no\"?><svg xmlns=\"http://www.w3.org/2000/svg\" xmlns:xlink=\"http://www.w3.org/1999/xlink\" contentScriptType=\"application/ecmascript\" contentStyleType=\"text/css\" height=\"293px\" preserveAspectRatio=\"none\" style=\"width:438px;height:293px;\" version=\"1.1\" viewBox=\"0 0 438 293\" width=\"438px\" zoomAndPan=\"magnify\"><defs><filter height=\"300%\" id=\"f1gucsik3xajti\" width=\"300%\" x=\"-1\" y=\"-1\"><feGaussianBlur result=\"blurOut\" stdDeviation=\"2.0\"/><feColorMatrix in=\"blurOut\" result=\"blurOut2\" type=\"matrix\" values=\"0 0 0 0 0 0 0 0 0 0 0 0 0 0 0 0 0 0 .4 0\"/><feOffset dx=\"4.0\" dy=\"4.0\" in=\"blurOut2\" result=\"blurOut3\"/><feBlend in=\"SourceGraphic\" in2=\"blurOut3\" mode=\"normal\"/></filter></defs><g><!--MD5=[fbc87193dbaf4d95561dea2c320d4a47]\n",
       "cluster E1--><a href=\"psysml:6839459c-d74b-4e54-a7fb-96b2013b0c1a\" target=\"_top\" title=\"psysml:6839459c-d74b-4e54-a7fb-96b2013b0c1a\" xlink:actuate=\"onRequest\" xlink:href=\"psysml:6839459c-d74b-4e54-a7fb-96b2013b0c1a\" xlink:show=\"new\" xlink:title=\"psysml:6839459c-d74b-4e54-a7fb-96b2013b0c1a\" xlink:type=\"simple\"><polygon fill=\"#FFFFFF\" filter=\"url(#f1gucsik3xajti)\" points=\"16,6,140,6,147,28.2969,416,28.2969,416,281,16,281,16,6\" style=\"stroke: #000000; stroke-width: 1.5;\"/><line style=\"stroke: #000000; stroke-width: 1.5;\" x1=\"16\" x2=\"147\" y1=\"28.2969\" y2=\"28.2969\"/><text fill=\"#000000\" font-family=\"sans-serif\" font-size=\"14\" font-weight=\"bold\" lengthAdjust=\"spacingAndGlyphs\" textLength=\"118\" x=\"20\" y=\"20.9951\">DefaultValueTest</text></a><!--MD5=[b4997ac47864f28c2f74865a473b2911]\n",
       "class E2--><a href=\"psysml:f6ad7545-3639-41cb-8da0-571497d98dc5\" target=\"_top\" title=\"psysml:f6ad7545-3639-41cb-8da0-571497d98dc5\" xlink:actuate=\"onRequest\" xlink:href=\"psysml:f6ad7545-3639-41cb-8da0-571497d98dc5\" xlink:show=\"new\" xlink:title=\"psysml:f6ad7545-3639-41cb-8da0-571497d98dc5\" xlink:type=\"simple\"><rect fill=\"#FEFECE\" filter=\"url(#f1gucsik3xajti)\" height=\"88.3516\" id=\"E2\" style=\"stroke: #A80036; stroke-width: 1.5;\" width=\"106\" x=\"212\" y=\"177\"/><text fill=\"#000000\" font-family=\"sans-serif\" font-size=\"12\" font-style=\"italic\" lengthAdjust=\"spacingAndGlyphs\" textLength=\"68\" x=\"231\" y=\"193.1387\">«part  def»</text><text fill=\"#000000\" font-family=\"sans-serif\" font-size=\"12\" lengthAdjust=\"spacingAndGlyphs\" textLength=\"8\" x=\"261\" y=\"207.1074\">V</text><line style=\"stroke: #A80036; stroke-width: 1.5;\" x1=\"213\" x2=\"317\" y1=\"214.9375\" y2=\"214.9375\"/><text fill=\"#000000\" font-family=\"sans-serif\" font-size=\"11\" lengthAdjust=\"spacingAndGlyphs\" textLength=\"94\" x=\"218\" y=\"245.9526\">m=default = 10;</text><text fill=\"#000000\" font-family=\"sans-serif\" font-size=\"11\" lengthAdjust=\"spacingAndGlyphs\" textLength=\"38\" x=\"218\" y=\"258.7573\">n= 20;</text><line style=\"stroke: #A80036; stroke-width: 1.0;\" x1=\"213\" x2=\"237.5\" y1=\"229.3398\" y2=\"229.3398\"/><text fill=\"#000000\" font-family=\"sans-serif\" font-size=\"11\" lengthAdjust=\"spacingAndGlyphs\" textLength=\"55\" x=\"237.5\" y=\"232.6479\">attributes</text><line style=\"stroke: #A80036; stroke-width: 1.0;\" x1=\"292.5\" x2=\"317\" y1=\"229.3398\" y2=\"229.3398\"/></a><!--MD5=[09b614a08d8cba4a07c9adeb5e0fee81]\n",
       "class E3--><a href=\"psysml:1ac351b0-bbdc-4492-9f99-b540f7d23706\" target=\"_top\" title=\"psysml:1ac351b0-bbdc-4492-9f99-b540f7d23706\" xlink:actuate=\"onRequest\" xlink:href=\"psysml:1ac351b0-bbdc-4492-9f99-b540f7d23706\" xlink:show=\"new\" xlink:title=\"psysml:1ac351b0-bbdc-4492-9f99-b540f7d23706\" xlink:type=\"simple\"><rect fill=\"#FEFECE\" filter=\"url(#f1gucsik3xajti)\" height=\"76.4922\" id=\"E3\" rx=\"10\" ry=\"10\" style=\"stroke: #A80036; stroke-width: 1.5;\" width=\"105\" x=\"294.5\" y=\"41\"/><text fill=\"#000000\" font-family=\"sans-serif\" font-size=\"12\" font-style=\"italic\" lengthAdjust=\"spacingAndGlyphs\" textLength=\"40\" x=\"327\" y=\"57.1387\">«part»</text><text fill=\"#000000\" font-family=\"sans-serif\" font-size=\"12\" lengthAdjust=\"spacingAndGlyphs\" textLength=\"30\" x=\"330\" y=\"71.1074\">v1: V</text><line style=\"stroke: #A80036; stroke-width: 1.5;\" x1=\"295.5\" x2=\"398.5\" y1=\"78.9375\" y2=\"78.9375\"/><path d=\"M302.4167,100.6589 L302.4167,109.8255 L303.3333,109.8255 L303.3333,100.6589 M306.0833,100.6589 L306.0833,109.8255 L313.4167,105.2422 L306.0833,100.6589 L307,102.0339 L312.0417,105.2422 L307,108.4505 L307,102.0339 \" fill=\"#000000\" style=\"stroke: ; stroke-width: 0.0; stroke-dasharray: ;\"/><text fill=\"#000000\" font-family=\"sans-serif\" font-size=\"11\" lengthAdjust=\"spacingAndGlyphs\" textLength=\"42\" x=\"317.5\" y=\"110.8979\">m= 20;</text><text fill=\"#000000\" font-family=\"sans-serif\" font-size=\"11\" lengthAdjust=\"spacingAndGlyphs\" text-decoration=\"line-through\" textLength=\"26\" x=\"367.5\" y=\"110.8979\">V::m</text><line style=\"stroke: #A80036; stroke-width: 1.0;\" x1=\"295.5\" x2=\"319.5\" y1=\"93.3398\" y2=\"93.3398\"/><text fill=\"#000000\" font-family=\"sans-serif\" font-size=\"11\" lengthAdjust=\"spacingAndGlyphs\" textLength=\"55\" x=\"319.5\" y=\"96.6479\">attributes</text><line style=\"stroke: #A80036; stroke-width: 1.0;\" x1=\"374.5\" x2=\"398.5\" y1=\"93.3398\" y2=\"93.3398\"/></a><!--MD5=[ebbe1d658d1005bcc118a6aa81145e00]\n",
       "class E4--><a href=\"psysml:aeba74e7-35ad-441a-aaf4-220a7e48fb18\" target=\"_top\" title=\"psysml:aeba74e7-35ad-441a-aaf4-220a7e48fb18\" xlink:actuate=\"onRequest\" xlink:href=\"psysml:aeba74e7-35ad-441a-aaf4-220a7e48fb18\" xlink:show=\"new\" xlink:title=\"psysml:aeba74e7-35ad-441a-aaf4-220a7e48fb18\" xlink:type=\"simple\"><rect fill=\"#FEFECE\" filter=\"url(#f1gucsik3xajti)\" height=\"76.4922\" id=\"E4\" style=\"stroke: #A80036; stroke-width: 1.5;\" width=\"150\" x=\"109\" y=\"41\"/><text fill=\"#000000\" font-family=\"sans-serif\" font-size=\"12\" font-style=\"italic\" lengthAdjust=\"spacingAndGlyphs\" textLength=\"68\" x=\"150\" y=\"57.1387\">«part  def»</text><text fill=\"#000000\" font-family=\"sans-serif\" font-size=\"12\" lengthAdjust=\"spacingAndGlyphs\" textLength=\"11\" x=\"178.5\" y=\"71.1074\">W</text><line style=\"stroke: #A80036; stroke-width: 1.5;\" x1=\"110\" x2=\"258\" y1=\"78.9375\" y2=\"78.9375\"/><path d=\"M116.9167,100.6589 L116.9167,109.8255 L117.8333,109.8255 L117.8333,100.6589 M120.5833,100.6589 L120.5833,109.8255 L127.9167,105.2422 L120.5833,100.6589 L121.5,102.0339 L126.5417,105.2422 L121.5,108.4505 L121.5,102.0339 \" fill=\"#000000\" style=\"stroke: ; stroke-width: 0.0; stroke-dasharray: ;\"/><text fill=\"#000000\" font-family=\"sans-serif\" font-size=\"11\" lengthAdjust=\"spacingAndGlyphs\" textLength=\"87\" x=\"132\" y=\"110.8979\">m=default = n;</text><text fill=\"#000000\" font-family=\"sans-serif\" font-size=\"11\" lengthAdjust=\"spacingAndGlyphs\" text-decoration=\"line-through\" textLength=\"26\" x=\"227\" y=\"110.8979\">V::m</text><line style=\"stroke: #A80036; stroke-width: 1.0;\" x1=\"110\" x2=\"156.5\" y1=\"93.3398\" y2=\"93.3398\"/><text fill=\"#000000\" font-family=\"sans-serif\" font-size=\"11\" lengthAdjust=\"spacingAndGlyphs\" textLength=\"55\" x=\"156.5\" y=\"96.6479\">attributes</text><line style=\"stroke: #A80036; stroke-width: 1.0;\" x1=\"211.5\" x2=\"258\" y1=\"93.3398\" y2=\"93.3398\"/></a><!--MD5=[270fce915f116d4de14055a7c1d9a0f3]\n",
       "class E5--><a href=\"psysml:8648f4f6-facd-4996-a918-0994903b340f\" target=\"_top\" title=\"psysml:8648f4f6-facd-4996-a918-0994903b340f\" xlink:actuate=\"onRequest\" xlink:href=\"psysml:8648f4f6-facd-4996-a918-0994903b340f\" xlink:show=\"new\" xlink:title=\"psysml:8648f4f6-facd-4996-a918-0994903b340f\" xlink:type=\"simple\"><rect fill=\"#FEFECE\" filter=\"url(#f1gucsik3xajti)\" height=\"45.9375\" id=\"E5\" rx=\"10\" ry=\"10\" style=\"stroke: #A80036; stroke-width: 1.5;\" width=\"42\" x=\"32\" y=\"56\"/><text fill=\"#000000\" font-family=\"sans-serif\" font-size=\"12\" font-style=\"italic\" lengthAdjust=\"spacingAndGlyphs\" textLength=\"40\" x=\"33\" y=\"72.1387\">«part»</text><text fill=\"#000000\" font-family=\"sans-serif\" font-size=\"12\" lengthAdjust=\"spacingAndGlyphs\" textLength=\"14\" x=\"44\" y=\"86.1074\">v2</text><line style=\"stroke: #A80036; stroke-width: 1.5;\" x1=\"33\" x2=\"73\" y1=\"93.9375\" y2=\"93.9375\"/></a><!--MD5=[05d275557350bfb9b23a4ef7222b4c39]\n",
       "link E3 to E2--><a href=\"psysml:f9d68518-1ffd-4856-b3d4-4b8d752762cd\" target=\"_top\" title=\"psysml:f9d68518-1ffd-4856-b3d4-4b8d752762cd\" xlink:actuate=\"onRequest\" xlink:href=\"psysml:f9d68518-1ffd-4856-b3d4-4b8d752762cd\" xlink:show=\"new\" xlink:title=\"psysml:f9d68518-1ffd-4856-b3d4-4b8d752762cd\" xlink:type=\"simple\"><path d=\"M325.24,117.15 C317.67,130.08 308.96,144.94 300.57,159.28 \" fill=\"none\" id=\"E3-&gt;E2\" style=\"stroke: #A80036; stroke-width: 1.0;\"/><polygon fill=\"#FFFFFF\" points=\"290.2,176.97,293.7681,157.0384,305.8465,164.1174,290.2,176.97\" style=\"stroke: #A80036; stroke-width: 1.0;\"/><ellipse cx=\"298.3758\" cy=\"153.1321\" fill=\"#A80036\" rx=\"2\" ry=\"2\" style=\"stroke: #A80036; stroke-width: 1.0;\"/><ellipse cx=\"307.0032\" cy=\"158.1885\" fill=\"#A80036\" rx=\"2\" ry=\"2\" style=\"stroke: #A80036; stroke-width: 1.0;\"/></a><!--MD5=[185131fc0dcab0a4505a2ebe144e961b]\n",
       "link E4 to E2--><a href=\"psysml:13494711-98b1-4251-8963-46d1e0c35503\" target=\"_top\" title=\"psysml:13494711-98b1-4251-8963-46d1e0c35503\" xlink:actuate=\"onRequest\" xlink:href=\"psysml:13494711-98b1-4251-8963-46d1e0c35503\" xlink:show=\"new\" xlink:title=\"psysml:13494711-98b1-4251-8963-46d1e0c35503\" xlink:type=\"simple\"><path d=\"M205.49,117.15 C212.97,130.08 221.57,144.94 229.87,159.28 \" fill=\"none\" id=\"E4-&gt;E2\" style=\"stroke: #A80036; stroke-width: 1.0;\"/><polygon fill=\"none\" points=\"236.15,156.15,240.1,176.97,224.03,163.16,236.15,156.15\" style=\"stroke: #A80036; stroke-width: 1.0;\"/></a><!--MD5=[7eae9544b69288f1327144d72a063476]\n",
       "@startuml\r\n",
       "skinparam wrapWidth 300\r\n",
       "hide circle\r\n",
       "\r\n",
       "package \"DefaultValueTest\" as E1  [[psysml:6839459c-d74b-4e54-a7fb-96b2013b0c1a ]]  {\r\n",
       "comp def \"V\" as E2  <<(T,blue) part  def>> [[psysml:f6ad7545-3639-41cb-8da0-571497d98dc5 ]] {\r\n",
       "- - attributes - -\r\n",
       "m=default = 10; \r\n",
       "n= 20; \r\n",
       "}\r\n",
       "comp usage \"v1: V \" as E3  <<(T,blue) part>> [[psysml:1ac351b0-bbdc-4492-9f99-b540f7d23706 ]] {\r\n",
       "- - attributes - -\r\n",
       "<&bar-trig> m= 20;  <s>V::m</s>\r\n",
       "}\r\n",
       "comp def \"W\" as E4  <<(T,blue) part  def>> [[psysml:aeba74e7-35ad-441a-aaf4-220a7e48fb18 ]] {\r\n",
       "- - attributes - -\r\n",
       "<&bar-trig> m=default = n;  <s>V::m</s>\r\n",
       "}\r\n",
       "comp usage \"v2 \" as E5  <<(T,blue) part>> [[psysml:8648f4f6-facd-4996-a918-0994903b340f ]] {\r\n",
       "}\r\n",
       "}\r\n",
       "E3 - -:|> E2 [[psysml:f9d68518-1ffd-4856-b3d4-4b8d752762cd ]] \r\n",
       "E4 - -|> E2 [[psysml:13494711-98b1-4251-8963-46d1e0c35503 ]] \r\n",
       "@enduml\r\n",
       "\n",
       "PlantUML version 1.2020.13(Sat Jun 13 12:26:38 UTC 2020)\n",
       "(EPL source distribution)\n",
       "Java Runtime: OpenJDK Runtime Environment\n",
       "JVM: OpenJDK 64-Bit Server VM\n",
       "Default Encoding: UTF-8\n",
       "Language: en\n",
       "Country: null\n",
       "--></g></svg>"
      ]
     },
     "execution_count": 23,
     "metadata": {},
     "output_type": "execute_result"
    }
   ],
   "source": [
    "%viz --style=\"STDCOLOR\" --view=\"Default\" \"DefaultValueTest\""
   ]
  },
  {
   "cell_type": "code",
   "execution_count": 24,
   "id": "a6dd1321",
   "metadata": {
    "execution": {
     "iopub.execute_input": "2022-02-18T10:51:40.815133Z",
     "iopub.status.busy": "2022-02-18T10:51:40.814688Z",
     "iopub.status.idle": "2022-02-18T10:51:40.908214Z",
     "shell.execute_reply": "2022-02-18T10:51:40.906817Z"
    }
   },
   "outputs": [
    {
     "data": {
      "image/svg+xml": [
       "<?xml version=\"1.0\" encoding=\"UTF-8\" standalone=\"no\"?><svg xmlns=\"http://www.w3.org/2000/svg\" xmlns:xlink=\"http://www.w3.org/1999/xlink\" contentScriptType=\"application/ecmascript\" contentStyleType=\"text/css\" height=\"293px\" preserveAspectRatio=\"none\" style=\"width:438px;height:293px;\" version=\"1.1\" viewBox=\"0 0 438 293\" width=\"438px\" zoomAndPan=\"magnify\"><defs><filter height=\"300%\" id=\"f1gucsik3xajti\" width=\"300%\" x=\"-1\" y=\"-1\"><feGaussianBlur result=\"blurOut\" stdDeviation=\"2.0\"/><feColorMatrix in=\"blurOut\" result=\"blurOut2\" type=\"matrix\" values=\"0 0 0 0 0 0 0 0 0 0 0 0 0 0 0 0 0 0 .4 0\"/><feOffset dx=\"4.0\" dy=\"4.0\" in=\"blurOut2\" result=\"blurOut3\"/><feBlend in=\"SourceGraphic\" in2=\"blurOut3\" mode=\"normal\"/></filter></defs><g><!--MD5=[fbc87193dbaf4d95561dea2c320d4a47]\n",
       "cluster E1--><a href=\"psysml:6839459c-d74b-4e54-a7fb-96b2013b0c1a\" target=\"_top\" title=\"psysml:6839459c-d74b-4e54-a7fb-96b2013b0c1a\" xlink:actuate=\"onRequest\" xlink:href=\"psysml:6839459c-d74b-4e54-a7fb-96b2013b0c1a\" xlink:show=\"new\" xlink:title=\"psysml:6839459c-d74b-4e54-a7fb-96b2013b0c1a\" xlink:type=\"simple\"><polygon fill=\"#FFFFFF\" filter=\"url(#f1gucsik3xajti)\" points=\"16,6,140,6,147,28.2969,416,28.2969,416,281,16,281,16,6\" style=\"stroke: #000000; stroke-width: 1.5;\"/><line style=\"stroke: #000000; stroke-width: 1.5;\" x1=\"16\" x2=\"147\" y1=\"28.2969\" y2=\"28.2969\"/><text fill=\"#000000\" font-family=\"sans-serif\" font-size=\"14\" font-weight=\"bold\" lengthAdjust=\"spacingAndGlyphs\" textLength=\"118\" x=\"20\" y=\"20.9951\">DefaultValueTest</text></a><!--MD5=[b4997ac47864f28c2f74865a473b2911]\n",
       "class E2--><a href=\"psysml:f6ad7545-3639-41cb-8da0-571497d98dc5\" target=\"_top\" title=\"psysml:f6ad7545-3639-41cb-8da0-571497d98dc5\" xlink:actuate=\"onRequest\" xlink:href=\"psysml:f6ad7545-3639-41cb-8da0-571497d98dc5\" xlink:show=\"new\" xlink:title=\"psysml:f6ad7545-3639-41cb-8da0-571497d98dc5\" xlink:type=\"simple\"><rect fill=\"#FEFECE\" filter=\"url(#f1gucsik3xajti)\" height=\"88.3516\" id=\"E2\" style=\"stroke: #A80036; stroke-width: 1.5;\" width=\"106\" x=\"212\" y=\"177\"/><text fill=\"#000000\" font-family=\"sans-serif\" font-size=\"12\" font-style=\"italic\" lengthAdjust=\"spacingAndGlyphs\" textLength=\"68\" x=\"231\" y=\"193.1387\">«part  def»</text><text fill=\"#000000\" font-family=\"sans-serif\" font-size=\"12\" lengthAdjust=\"spacingAndGlyphs\" textLength=\"8\" x=\"261\" y=\"207.1074\">V</text><line style=\"stroke: #A80036; stroke-width: 1.5;\" x1=\"213\" x2=\"317\" y1=\"214.9375\" y2=\"214.9375\"/><text fill=\"#000000\" font-family=\"sans-serif\" font-size=\"11\" lengthAdjust=\"spacingAndGlyphs\" textLength=\"94\" x=\"218\" y=\"245.9526\">m=default = 10;</text><text fill=\"#000000\" font-family=\"sans-serif\" font-size=\"11\" lengthAdjust=\"spacingAndGlyphs\" textLength=\"38\" x=\"218\" y=\"258.7573\">n= 20;</text><line style=\"stroke: #A80036; stroke-width: 1.0;\" x1=\"213\" x2=\"237.5\" y1=\"229.3398\" y2=\"229.3398\"/><text fill=\"#000000\" font-family=\"sans-serif\" font-size=\"11\" lengthAdjust=\"spacingAndGlyphs\" textLength=\"55\" x=\"237.5\" y=\"232.6479\">attributes</text><line style=\"stroke: #A80036; stroke-width: 1.0;\" x1=\"292.5\" x2=\"317\" y1=\"229.3398\" y2=\"229.3398\"/></a><!--MD5=[09b614a08d8cba4a07c9adeb5e0fee81]\n",
       "class E3--><a href=\"psysml:1ac351b0-bbdc-4492-9f99-b540f7d23706\" target=\"_top\" title=\"psysml:1ac351b0-bbdc-4492-9f99-b540f7d23706\" xlink:actuate=\"onRequest\" xlink:href=\"psysml:1ac351b0-bbdc-4492-9f99-b540f7d23706\" xlink:show=\"new\" xlink:title=\"psysml:1ac351b0-bbdc-4492-9f99-b540f7d23706\" xlink:type=\"simple\"><rect fill=\"#FEFECE\" filter=\"url(#f1gucsik3xajti)\" height=\"76.4922\" id=\"E3\" rx=\"10\" ry=\"10\" style=\"stroke: #A80036; stroke-width: 1.5;\" width=\"105\" x=\"294.5\" y=\"41\"/><text fill=\"#000000\" font-family=\"sans-serif\" font-size=\"12\" font-style=\"italic\" lengthAdjust=\"spacingAndGlyphs\" textLength=\"40\" x=\"327\" y=\"57.1387\">«part»</text><text fill=\"#000000\" font-family=\"sans-serif\" font-size=\"12\" lengthAdjust=\"spacingAndGlyphs\" textLength=\"30\" x=\"330\" y=\"71.1074\">v1: V</text><line style=\"stroke: #A80036; stroke-width: 1.5;\" x1=\"295.5\" x2=\"398.5\" y1=\"78.9375\" y2=\"78.9375\"/><path d=\"M302.4167,100.6589 L302.4167,109.8255 L303.3333,109.8255 L303.3333,100.6589 M306.0833,100.6589 L306.0833,109.8255 L313.4167,105.2422 L306.0833,100.6589 L307,102.0339 L312.0417,105.2422 L307,108.4505 L307,102.0339 \" fill=\"#000000\" style=\"stroke: ; stroke-width: 0.0; stroke-dasharray: ;\"/><text fill=\"#000000\" font-family=\"sans-serif\" font-size=\"11\" lengthAdjust=\"spacingAndGlyphs\" textLength=\"42\" x=\"317.5\" y=\"110.8979\">m= 20;</text><text fill=\"#000000\" font-family=\"sans-serif\" font-size=\"11\" lengthAdjust=\"spacingAndGlyphs\" text-decoration=\"line-through\" textLength=\"26\" x=\"367.5\" y=\"110.8979\">V::m</text><line style=\"stroke: #A80036; stroke-width: 1.0;\" x1=\"295.5\" x2=\"319.5\" y1=\"93.3398\" y2=\"93.3398\"/><text fill=\"#000000\" font-family=\"sans-serif\" font-size=\"11\" lengthAdjust=\"spacingAndGlyphs\" textLength=\"55\" x=\"319.5\" y=\"96.6479\">attributes</text><line style=\"stroke: #A80036; stroke-width: 1.0;\" x1=\"374.5\" x2=\"398.5\" y1=\"93.3398\" y2=\"93.3398\"/></a><!--MD5=[ebbe1d658d1005bcc118a6aa81145e00]\n",
       "class E4--><a href=\"psysml:aeba74e7-35ad-441a-aaf4-220a7e48fb18\" target=\"_top\" title=\"psysml:aeba74e7-35ad-441a-aaf4-220a7e48fb18\" xlink:actuate=\"onRequest\" xlink:href=\"psysml:aeba74e7-35ad-441a-aaf4-220a7e48fb18\" xlink:show=\"new\" xlink:title=\"psysml:aeba74e7-35ad-441a-aaf4-220a7e48fb18\" xlink:type=\"simple\"><rect fill=\"#FEFECE\" filter=\"url(#f1gucsik3xajti)\" height=\"76.4922\" id=\"E4\" style=\"stroke: #A80036; stroke-width: 1.5;\" width=\"150\" x=\"109\" y=\"41\"/><text fill=\"#000000\" font-family=\"sans-serif\" font-size=\"12\" font-style=\"italic\" lengthAdjust=\"spacingAndGlyphs\" textLength=\"68\" x=\"150\" y=\"57.1387\">«part  def»</text><text fill=\"#000000\" font-family=\"sans-serif\" font-size=\"12\" lengthAdjust=\"spacingAndGlyphs\" textLength=\"11\" x=\"178.5\" y=\"71.1074\">W</text><line style=\"stroke: #A80036; stroke-width: 1.5;\" x1=\"110\" x2=\"258\" y1=\"78.9375\" y2=\"78.9375\"/><path d=\"M116.9167,100.6589 L116.9167,109.8255 L117.8333,109.8255 L117.8333,100.6589 M120.5833,100.6589 L120.5833,109.8255 L127.9167,105.2422 L120.5833,100.6589 L121.5,102.0339 L126.5417,105.2422 L121.5,108.4505 L121.5,102.0339 \" fill=\"#000000\" style=\"stroke: ; stroke-width: 0.0; stroke-dasharray: ;\"/><text fill=\"#000000\" font-family=\"sans-serif\" font-size=\"11\" lengthAdjust=\"spacingAndGlyphs\" textLength=\"87\" x=\"132\" y=\"110.8979\">m=default = n;</text><text fill=\"#000000\" font-family=\"sans-serif\" font-size=\"11\" lengthAdjust=\"spacingAndGlyphs\" text-decoration=\"line-through\" textLength=\"26\" x=\"227\" y=\"110.8979\">V::m</text><line style=\"stroke: #A80036; stroke-width: 1.0;\" x1=\"110\" x2=\"156.5\" y1=\"93.3398\" y2=\"93.3398\"/><text fill=\"#000000\" font-family=\"sans-serif\" font-size=\"11\" lengthAdjust=\"spacingAndGlyphs\" textLength=\"55\" x=\"156.5\" y=\"96.6479\">attributes</text><line style=\"stroke: #A80036; stroke-width: 1.0;\" x1=\"211.5\" x2=\"258\" y1=\"93.3398\" y2=\"93.3398\"/></a><!--MD5=[270fce915f116d4de14055a7c1d9a0f3]\n",
       "class E5--><a href=\"psysml:8648f4f6-facd-4996-a918-0994903b340f\" target=\"_top\" title=\"psysml:8648f4f6-facd-4996-a918-0994903b340f\" xlink:actuate=\"onRequest\" xlink:href=\"psysml:8648f4f6-facd-4996-a918-0994903b340f\" xlink:show=\"new\" xlink:title=\"psysml:8648f4f6-facd-4996-a918-0994903b340f\" xlink:type=\"simple\"><rect fill=\"#FEFECE\" filter=\"url(#f1gucsik3xajti)\" height=\"45.9375\" id=\"E5\" rx=\"10\" ry=\"10\" style=\"stroke: #A80036; stroke-width: 1.5;\" width=\"42\" x=\"32\" y=\"56\"/><text fill=\"#000000\" font-family=\"sans-serif\" font-size=\"12\" font-style=\"italic\" lengthAdjust=\"spacingAndGlyphs\" textLength=\"40\" x=\"33\" y=\"72.1387\">«part»</text><text fill=\"#000000\" font-family=\"sans-serif\" font-size=\"12\" lengthAdjust=\"spacingAndGlyphs\" textLength=\"14\" x=\"44\" y=\"86.1074\">v2</text><line style=\"stroke: #A80036; stroke-width: 1.5;\" x1=\"33\" x2=\"73\" y1=\"93.9375\" y2=\"93.9375\"/></a><!--MD5=[05d275557350bfb9b23a4ef7222b4c39]\n",
       "link E3 to E2--><a href=\"psysml:f9d68518-1ffd-4856-b3d4-4b8d752762cd\" target=\"_top\" title=\"psysml:f9d68518-1ffd-4856-b3d4-4b8d752762cd\" xlink:actuate=\"onRequest\" xlink:href=\"psysml:f9d68518-1ffd-4856-b3d4-4b8d752762cd\" xlink:show=\"new\" xlink:title=\"psysml:f9d68518-1ffd-4856-b3d4-4b8d752762cd\" xlink:type=\"simple\"><path d=\"M325.24,117.15 C317.67,130.08 308.96,144.94 300.57,159.28 \" fill=\"none\" id=\"E3-&gt;E2\" style=\"stroke: #A80036; stroke-width: 1.0;\"/><polygon fill=\"#FFFFFF\" points=\"290.2,176.97,293.7681,157.0384,305.8465,164.1174,290.2,176.97\" style=\"stroke: #A80036; stroke-width: 1.0;\"/><ellipse cx=\"298.3758\" cy=\"153.1321\" fill=\"#A80036\" rx=\"2\" ry=\"2\" style=\"stroke: #A80036; stroke-width: 1.0;\"/><ellipse cx=\"307.0032\" cy=\"158.1885\" fill=\"#A80036\" rx=\"2\" ry=\"2\" style=\"stroke: #A80036; stroke-width: 1.0;\"/></a><!--MD5=[185131fc0dcab0a4505a2ebe144e961b]\n",
       "link E4 to E2--><a href=\"psysml:13494711-98b1-4251-8963-46d1e0c35503\" target=\"_top\" title=\"psysml:13494711-98b1-4251-8963-46d1e0c35503\" xlink:actuate=\"onRequest\" xlink:href=\"psysml:13494711-98b1-4251-8963-46d1e0c35503\" xlink:show=\"new\" xlink:title=\"psysml:13494711-98b1-4251-8963-46d1e0c35503\" xlink:type=\"simple\"><path d=\"M205.49,117.15 C212.97,130.08 221.57,144.94 229.87,159.28 \" fill=\"none\" id=\"E4-&gt;E2\" style=\"stroke: #A80036; stroke-width: 1.0;\"/><polygon fill=\"none\" points=\"236.15,156.15,240.1,176.97,224.03,163.16,236.15,156.15\" style=\"stroke: #A80036; stroke-width: 1.0;\"/></a><!--MD5=[7eae9544b69288f1327144d72a063476]\n",
       "@startuml\r\n",
       "skinparam wrapWidth 300\r\n",
       "hide circle\r\n",
       "\r\n",
       "package \"DefaultValueTest\" as E1  [[psysml:6839459c-d74b-4e54-a7fb-96b2013b0c1a ]]  {\r\n",
       "comp def \"V\" as E2  <<(T,blue) part  def>> [[psysml:f6ad7545-3639-41cb-8da0-571497d98dc5 ]] {\r\n",
       "- - attributes - -\r\n",
       "m=default = 10; \r\n",
       "n= 20; \r\n",
       "}\r\n",
       "comp usage \"v1: V \" as E3  <<(T,blue) part>> [[psysml:1ac351b0-bbdc-4492-9f99-b540f7d23706 ]] {\r\n",
       "- - attributes - -\r\n",
       "<&bar-trig> m= 20;  <s>V::m</s>\r\n",
       "}\r\n",
       "comp def \"W\" as E4  <<(T,blue) part  def>> [[psysml:aeba74e7-35ad-441a-aaf4-220a7e48fb18 ]] {\r\n",
       "- - attributes - -\r\n",
       "<&bar-trig> m=default = n;  <s>V::m</s>\r\n",
       "}\r\n",
       "comp usage \"v2 \" as E5  <<(T,blue) part>> [[psysml:8648f4f6-facd-4996-a918-0994903b340f ]] {\r\n",
       "}\r\n",
       "}\r\n",
       "E3 - -:|> E2 [[psysml:f9d68518-1ffd-4856-b3d4-4b8d752762cd ]] \r\n",
       "E4 - -|> E2 [[psysml:13494711-98b1-4251-8963-46d1e0c35503 ]] \r\n",
       "@enduml\r\n",
       "\n",
       "PlantUML version 1.2020.13(Sat Jun 13 12:26:38 UTC 2020)\n",
       "(EPL source distribution)\n",
       "Java Runtime: OpenJDK Runtime Environment\n",
       "JVM: OpenJDK 64-Bit Server VM\n",
       "Default Encoding: UTF-8\n",
       "Language: en\n",
       "Country: null\n",
       "--></g></svg>"
      ]
     },
     "execution_count": 24,
     "metadata": {},
     "output_type": "execute_result"
    }
   ],
   "source": [
    "%viz --style=\"STDCOLOR\" --view=\"Tree\" \"DefaultValueTest\""
   ]
  },
  {
   "cell_type": "code",
   "execution_count": 25,
   "id": "3e6b7780",
   "metadata": {
    "execution": {
     "iopub.execute_input": "2022-02-18T10:51:40.957491Z",
     "iopub.status.busy": "2022-02-18T10:51:40.957064Z",
     "iopub.status.idle": "2022-02-18T10:51:40.960288Z",
     "shell.execute_reply": "2022-02-18T10:51:40.959919Z"
    }
   },
   "outputs": [
    {
     "data": {
      "image/svg+xml": [
       "<?xml version=\"1.0\" encoding=\"UTF-8\" standalone=\"no\"?><svg xmlns=\"http://www.w3.org/2000/svg\" xmlns:xlink=\"http://www.w3.org/1999/xlink\" contentScriptType=\"application/ecmascript\" contentStyleType=\"text/css\" height=\"12px\" preserveAspectRatio=\"none\" style=\"width:12px;height:12px;\" version=\"1.1\" viewBox=\"0 0 12 12\" width=\"12px\" zoomAndPan=\"magnify\"><defs/><g><!--MD5=[aeeef50f102b80d730deb6443d14f702]\n",
       "@startuml\r\n",
       "skinparam wrapWidth 300\r\n",
       "hide circle\r\n",
       "\r\n",
       "@enduml\r\n",
       "\n",
       "PlantUML version 1.2020.13(Sat Jun 13 12:26:38 UTC 2020)\n",
       "(EPL source distribution)\n",
       "Java Runtime: OpenJDK Runtime Environment\n",
       "JVM: OpenJDK 64-Bit Server VM\n",
       "Default Encoding: UTF-8\n",
       "Language: en\n",
       "Country: null\n",
       "--></g></svg>"
      ]
     },
     "execution_count": 25,
     "metadata": {},
     "output_type": "execute_result"
    }
   ],
   "source": [
    "%viz --style=\"STDCOLOR\" --view=\"State\" \"DefaultValueTest\""
   ]
  },
  {
   "cell_type": "code",
   "execution_count": 26,
   "id": "75016005",
   "metadata": {
    "execution": {
     "iopub.execute_input": "2022-02-18T10:51:41.009998Z",
     "iopub.status.busy": "2022-02-18T10:51:41.009603Z",
     "iopub.status.idle": "2022-02-18T10:51:41.044573Z",
     "shell.execute_reply": "2022-02-18T10:51:41.044183Z"
    }
   },
   "outputs": [
    {
     "data": {
      "image/svg+xml": [
       "<?xml version=\"1.0\" encoding=\"UTF-8\" standalone=\"no\"?><svg xmlns=\"http://www.w3.org/2000/svg\" xmlns:xlink=\"http://www.w3.org/1999/xlink\" contentScriptType=\"application/ecmascript\" contentStyleType=\"text/css\" height=\"399px\" preserveAspectRatio=\"none\" style=\"width:448px;height:399px;\" version=\"1.1\" viewBox=\"0 0 448 399\" width=\"448px\" zoomAndPan=\"magnify\"><defs><filter height=\"300%\" id=\"f16ugqod4ymwyk\" width=\"300%\" x=\"-1\" y=\"-1\"><feGaussianBlur result=\"blurOut\" stdDeviation=\"2.0\"/><feColorMatrix in=\"blurOut\" result=\"blurOut2\" type=\"matrix\" values=\"0 0 0 0 0 0 0 0 0 0 0 0 0 0 0 0 0 0 .4 0\"/><feOffset dx=\"4.0\" dy=\"4.0\" in=\"blurOut2\" result=\"blurOut3\"/><feBlend in=\"SourceGraphic\" in2=\"blurOut3\" mode=\"normal\"/></filter></defs><g><!--MD5=[fbc87193dbaf4d95561dea2c320d4a47]\n",
       "cluster E1--><a href=\"psysml:6839459c-d74b-4e54-a7fb-96b2013b0c1a\" target=\"_top\" title=\"psysml:6839459c-d74b-4e54-a7fb-96b2013b0c1a\" xlink:actuate=\"onRequest\" xlink:href=\"psysml:6839459c-d74b-4e54-a7fb-96b2013b0c1a\" xlink:show=\"new\" xlink:title=\"psysml:6839459c-d74b-4e54-a7fb-96b2013b0c1a\" xlink:type=\"simple\"><polygon fill=\"#FFFFFF\" filter=\"url(#f16ugqod4ymwyk)\" points=\"16,6,140,6,147,28.2969,426,28.2969,426,387,16,387,16,6\" style=\"stroke: #000000; stroke-width: 1.5;\"/><line style=\"stroke: #000000; stroke-width: 1.5;\" x1=\"16\" x2=\"147\" y1=\"28.2969\" y2=\"28.2969\"/><text fill=\"#000000\" font-family=\"sans-serif\" font-size=\"14\" font-weight=\"bold\" lengthAdjust=\"spacingAndGlyphs\" textLength=\"118\" x=\"20\" y=\"20.9951\">DefaultValueTest</text></a><!--MD5=[e4f7fae6ed58524ba242bb0b0d3be6b7]\n",
       "cluster E2--><a href=\"psysml:f6ad7545-3639-41cb-8da0-571497d98dc5\" target=\"_top\" title=\"psysml:f6ad7545-3639-41cb-8da0-571497d98dc5\" xlink:actuate=\"onRequest\" xlink:href=\"psysml:f6ad7545-3639-41cb-8da0-571497d98dc5\" xlink:show=\"new\" xlink:title=\"psysml:f6ad7545-3639-41cb-8da0-571497d98dc5\" xlink:type=\"simple\"><rect fill=\"#FFFFFF\" filter=\"url(#f16ugqod4ymwyk)\" height=\"129\" id=\"E2\" style=\"stroke: #A80036; stroke-width: 1.5;\" width=\"245\" x=\"127\" y=\"226\"/><rect fill=\"#FEFECE\" height=\"37.9375\" style=\"stroke: #A80036; stroke-width: 1.5;\" width=\"245\" x=\"127\" y=\"226\"/><text fill=\"#000000\" font-family=\"sans-serif\" font-size=\"12\" font-style=\"italic\" lengthAdjust=\"spacingAndGlyphs\" textLength=\"68\" x=\"215.5\" y=\"242.1387\">«part  def»</text><text fill=\"#000000\" font-family=\"sans-serif\" font-size=\"12\" lengthAdjust=\"spacingAndGlyphs\" textLength=\"8\" x=\"245.5\" y=\"256.1074\">V</text></a><!--MD5=[de5ec2e2e8f62f467e546659f5068c88]\n",
       "cluster E5--><a href=\"psysml:1ac351b0-bbdc-4492-9f99-b540f7d23706\" target=\"_top\" title=\"psysml:1ac351b0-bbdc-4492-9f99-b540f7d23706\" xlink:actuate=\"onRequest\" xlink:href=\"psysml:1ac351b0-bbdc-4492-9f99-b540f7d23706\" xlink:show=\"new\" xlink:title=\"psysml:1ac351b0-bbdc-4492-9f99-b540f7d23706\" xlink:type=\"simple\"><rect fill=\"#FFFFFF\" filter=\"url(#f16ugqod4ymwyk)\" height=\"97\" id=\"E5\" rx=\"10\" ry=\"10\" style=\"stroke: #A80036; stroke-width: 1.5;\" width=\"104\" x=\"298\" y=\"81\"/><rect fill=\"#FEFECE\" height=\"23.9688\" rx=\"10\" ry=\"10\" style=\"stroke: #FEFECE; stroke-width: 1.5;\" width=\"104\" x=\"298\" y=\"81\"/><rect fill=\"#FEFECE\" height=\"10\" style=\"stroke: #FEFECE; stroke-width: 1.5;\" width=\"104\" x=\"298\" y=\"94.9688\"/><rect fill=\"none\" height=\"97\" id=\"E5\" rx=\"10\" ry=\"10\" style=\"stroke: #A80036; stroke-width: 1.5;\" width=\"104\" x=\"298\" y=\"81\"/><text fill=\"#000000\" font-family=\"sans-serif\" font-size=\"12\" lengthAdjust=\"spacingAndGlyphs\" textLength=\"30\" x=\"335\" y=\"97.1387\">v1: V</text><line style=\"stroke: #A80036; stroke-width: 1.0;\" x1=\"298\" x2=\"402\" y1=\"104.9688\" y2=\"104.9688\"/></a><!--MD5=[168fadf3d0c3fd93dd5d6da1b1d7ab76]\n",
       "cluster E7--><a href=\"psysml:aeba74e7-35ad-441a-aaf4-220a7e48fb18\" target=\"_top\" title=\"psysml:aeba74e7-35ad-441a-aaf4-220a7e48fb18\" xlink:actuate=\"onRequest\" xlink:href=\"psysml:aeba74e7-35ad-441a-aaf4-220a7e48fb18\" xlink:show=\"new\" xlink:title=\"psysml:aeba74e7-35ad-441a-aaf4-220a7e48fb18\" xlink:type=\"simple\"><rect fill=\"#FFFFFF\" filter=\"url(#f16ugqod4ymwyk)\" height=\"129\" id=\"E7\" style=\"stroke: #A80036; stroke-width: 1.5;\" width=\"139\" x=\"127\" y=\"57\"/><rect fill=\"#FEFECE\" height=\"37.9375\" style=\"stroke: #A80036; stroke-width: 1.5;\" width=\"139\" x=\"127\" y=\"57\"/><text fill=\"#000000\" font-family=\"sans-serif\" font-size=\"12\" font-style=\"italic\" lengthAdjust=\"spacingAndGlyphs\" textLength=\"68\" x=\"162.5\" y=\"73.1387\">«part  def»</text><text fill=\"#000000\" font-family=\"sans-serif\" font-size=\"12\" lengthAdjust=\"spacingAndGlyphs\" textLength=\"11\" x=\"191\" y=\"87.1074\">W</text></a><!--MD5=[09b614a08d8cba4a07c9adeb5e0fee81]\n",
       "class E3--><a href=\"psysml:075fa6d2-8e51-4049-a184-a21376454cfa\" target=\"_top\" title=\"psysml:075fa6d2-8e51-4049-a184-a21376454cfa\" xlink:actuate=\"onRequest\" xlink:href=\"psysml:075fa6d2-8e51-4049-a184-a21376454cfa\" xlink:show=\"new\" xlink:title=\"psysml:075fa6d2-8e51-4049-a184-a21376454cfa\" xlink:type=\"simple\"><rect fill=\"#FEFECE\" filter=\"url(#f16ugqod4ymwyk)\" height=\"45.9375\" id=\"E3\" rx=\"10\" ry=\"10\" style=\"stroke: #A80036; stroke-width: 1.5;\" width=\"71\" x=\"276.5\" y=\"285\"/><text fill=\"#000000\" font-family=\"sans-serif\" font-size=\"12\" font-style=\"italic\" lengthAdjust=\"spacingAndGlyphs\" textLength=\"69\" x=\"277.5\" y=\"301.1387\">«attribute»</text><text fill=\"#000000\" font-family=\"sans-serif\" font-size=\"12\" lengthAdjust=\"spacingAndGlyphs\" textLength=\"11\" x=\"304.5\" y=\"315.1074\">m</text><line style=\"stroke: #A80036; stroke-width: 1.5;\" x1=\"277.5\" x2=\"346.5\" y1=\"322.9375\" y2=\"322.9375\"/></a><!--MD5=[ebbe1d658d1005bcc118a6aa81145e00]\n",
       "class E4--><a href=\"psysml:0ef473ce-6f49-4b48-ae7c-25bde7c2058c\" target=\"_top\" title=\"psysml:0ef473ce-6f49-4b48-ae7c-25bde7c2058c\" xlink:actuate=\"onRequest\" xlink:href=\"psysml:0ef473ce-6f49-4b48-ae7c-25bde7c2058c\" xlink:show=\"new\" xlink:title=\"psysml:0ef473ce-6f49-4b48-ae7c-25bde7c2058c\" xlink:type=\"simple\"><rect fill=\"#FEFECE\" filter=\"url(#f16ugqod4ymwyk)\" height=\"45.9375\" id=\"E4\" rx=\"10\" ry=\"10\" style=\"stroke: #A80036; stroke-width: 1.5;\" width=\"71\" x=\"170.5\" y=\"285\"/><text fill=\"#000000\" font-family=\"sans-serif\" font-size=\"12\" font-style=\"italic\" lengthAdjust=\"spacingAndGlyphs\" textLength=\"69\" x=\"171.5\" y=\"301.1387\">«attribute»</text><text fill=\"#000000\" font-family=\"sans-serif\" font-size=\"12\" lengthAdjust=\"spacingAndGlyphs\" textLength=\"8\" x=\"200\" y=\"315.1074\">n</text><line style=\"stroke: #A80036; stroke-width: 1.5;\" x1=\"171.5\" x2=\"240.5\" y1=\"322.9375\" y2=\"322.9375\"/></a><!--MD5=[60a26617385b1d2d0262a64233df1f8d]\n",
       "class E6--><a href=\"psysml:ec8a8e56-fcc6-4673-8c8e-468b75026770\" target=\"_top\" title=\"psysml:ec8a8e56-fcc6-4673-8c8e-468b75026770\" xlink:actuate=\"onRequest\" xlink:href=\"psysml:ec8a8e56-fcc6-4673-8c8e-468b75026770\" xlink:show=\"new\" xlink:title=\"psysml:ec8a8e56-fcc6-4673-8c8e-468b75026770\" xlink:type=\"simple\"><rect fill=\"#FEFECE\" filter=\"url(#f16ugqod4ymwyk)\" height=\"45.9375\" id=\"E6\" rx=\"10\" ry=\"10\" style=\"stroke: #A80036; stroke-width: 1.5;\" width=\"71\" x=\"314.5\" y=\"116\"/><text fill=\"#000000\" font-family=\"sans-serif\" font-size=\"12\" font-style=\"italic\" lengthAdjust=\"spacingAndGlyphs\" textLength=\"69\" x=\"315.5\" y=\"132.1387\">«attribute»</text><text fill=\"#000000\" font-family=\"sans-serif\" font-size=\"12\" lengthAdjust=\"spacingAndGlyphs\" textLength=\"11\" x=\"342.5\" y=\"146.1074\">m</text><line style=\"stroke: #A80036; stroke-width: 1.5;\" x1=\"315.5\" x2=\"384.5\" y1=\"153.9375\" y2=\"153.9375\"/></a><!--MD5=[b9389687b975829384b498ac4b7476b2]\n",
       "class E8--><a href=\"psysml:38866ed6-d027-47ed-9e9b-10f0103d500c\" target=\"_top\" title=\"psysml:38866ed6-d027-47ed-9e9b-10f0103d500c\" xlink:actuate=\"onRequest\" xlink:href=\"psysml:38866ed6-d027-47ed-9e9b-10f0103d500c\" xlink:show=\"new\" xlink:title=\"psysml:38866ed6-d027-47ed-9e9b-10f0103d500c\" xlink:type=\"simple\"><rect fill=\"#FEFECE\" filter=\"url(#f16ugqod4ymwyk)\" height=\"45.9375\" id=\"E8\" rx=\"10\" ry=\"10\" style=\"stroke: #A80036; stroke-width: 1.5;\" width=\"71\" x=\"170.5\" y=\"116\"/><text fill=\"#000000\" font-family=\"sans-serif\" font-size=\"12\" font-style=\"italic\" lengthAdjust=\"spacingAndGlyphs\" textLength=\"69\" x=\"171.5\" y=\"132.1387\">«attribute»</text><text fill=\"#000000\" font-family=\"sans-serif\" font-size=\"12\" lengthAdjust=\"spacingAndGlyphs\" textLength=\"11\" x=\"198.5\" y=\"146.1074\">m</text><line style=\"stroke: #A80036; stroke-width: 1.5;\" x1=\"171.5\" x2=\"240.5\" y1=\"153.9375\" y2=\"153.9375\"/></a><g id=\"E1.E9\"><a href=\"psysml:8648f4f6-facd-4996-a918-0994903b340f\" target=\"_top\" title=\"psysml:8648f4f6-facd-4996-a918-0994903b340f\" xlink:actuate=\"onRequest\" xlink:href=\"psysml:8648f4f6-facd-4996-a918-0994903b340f\" xlink:show=\"new\" xlink:title=\"psysml:8648f4f6-facd-4996-a918-0994903b340f\" xlink:type=\"simple\"><rect fill=\"#FEFECE\" filter=\"url(#f16ugqod4ymwyk)\" height=\"40\" id=\"E9\" rx=\"10\" ry=\"10\" style=\"stroke: #A80036; stroke-width: 1.5;\" width=\"68\" x=\"32\" y=\"119\"/><text fill=\"#000000\" font-family=\"sans-serif\" font-size=\"12\" lengthAdjust=\"spacingAndGlyphs\" textLength=\"53\" x=\"37.5\" y=\"135.1387\">v2= W();</text></a></g><!--MD5=[a717450b82c80b9240a525fa862496af]\n",
       "link E6 to E3--><a href=\"psysml:319addec-2b51-47f0-a10b-c2bc2405cd29\" target=\"_top\" title=\"psysml:319addec-2b51-47f0-a10b-c2bc2405cd29\" xlink:actuate=\"onRequest\" xlink:href=\"psysml:319addec-2b51-47f0-a10b-c2bc2405cd29\" xlink:show=\"new\" xlink:title=\"psysml:319addec-2b51-47f0-a10b-c2bc2405cd29\" xlink:type=\"simple\"><path d=\"M344.95,162.18 C338.98,188.45 328.89,232.78 321.45,265.49 \" fill=\"none\" id=\"E6-&gt;E3\" style=\"stroke: #A80036; stroke-width: 1.0;\"/><polygon fill=\"#FFFFFF\" points=\"317.01,285,314.4057,264.9197,328.0559,268.0298,317.01,285\" style=\"stroke: #A80036; stroke-width: 1.0;\"/><line style=\"stroke: #A80036; stroke-width: 2.0;\" x1=\"315.2498\" x2=\"328.9\" y1=\"261.2147\" y2=\"264.3247\"/></a><!--MD5=[583832df87f4419a098336a29a52fa00]\n",
       "link E7 to E2--><a href=\"psysml:13494711-98b1-4251-8963-46d1e0c35503\" target=\"_top\" title=\"psysml:13494711-98b1-4251-8963-46d1e0c35503\" xlink:actuate=\"onRequest\" xlink:href=\"psysml:13494711-98b1-4251-8963-46d1e0c35503\" xlink:show=\"new\" xlink:title=\"psysml:13494711-98b1-4251-8963-46d1e0c35503\" xlink:type=\"simple\"><path d=\"M135,186.7597 C135,189.0567 135,191.4 135,193.7804 C135,203.3019 135,213.4163 135,223.53 C135,224.1621 135,224.7942 135,225.4262 C135,225.5842 135,225.7421 135,225.9001 \" fill=\"none\" id=\"E7-&gt;E2\" style=\"stroke: #A80036; stroke-width: 1.0;\"/><polygon fill=\"#FFFFFF\" points=\"135,225.9001,142,206.9001,128,206.9001,135,225.9001\" style=\"stroke: #A80036; stroke-width: 1.0;\"/></a><!--MD5=[95fa686b5a16158bcdbcaeead89f639b]\n",
       "link E8 to E3--><a href=\"psysml:27f15f96-8451-4ffb-b537-81d2f9d472fa\" target=\"_top\" title=\"psysml:27f15f96-8451-4ffb-b537-81d2f9d472fa\" xlink:actuate=\"onRequest\" xlink:href=\"psysml:27f15f96-8451-4ffb-b537-81d2f9d472fa\" xlink:show=\"new\" xlink:title=\"psysml:27f15f96-8451-4ffb-b537-81d2f9d472fa\" xlink:type=\"simple\"><path d=\"M224.06,162.09 C234.74,175.57 248.24,193.36 259,210 C270.79,228.22 282.5,249.28 291.91,267.1 \" fill=\"none\" id=\"E8-&gt;E3\" style=\"stroke: #A80036; stroke-width: 1.0;\"/><polygon fill=\"#FFFFFF\" points=\"301.11,284.89,286.1673,271.2256,298.6042,264.7972,301.11,284.89\" style=\"stroke: #A80036; stroke-width: 1.0;\"/><line style=\"stroke: #A80036; stroke-width: 2.0;\" x1=\"284.4225\" x2=\"296.8594\" y1=\"267.8499\" y2=\"261.4215\"/></a><!--MD5=[e607a8cb98653b375421a1dff0cee7b5]\n",
       "@startuml\r\n",
       "skinparam ranksep 10\r\n",
       "skinparam rectangle {\r\n",
       " backgroundColor<<block>> LightGreen\r\n",
       "}\r\n",
       "skinparam wrapWidth 300\r\n",
       "hide circle\r\n",
       "\r\n",
       "package \"DefaultValueTest\" as E1  [[psysml:6839459c-d74b-4e54-a7fb-96b2013b0c1a ]]  {\r\n",
       "rec def \"V\" as E2  <<(T,blue) part  def>> [[psysml:f6ad7545-3639-41cb-8da0-571497d98dc5 ]] {\r\n",
       "comp usage \"m \" as E3  <<(T,blue) attribute>> [[psysml:075fa6d2-8e51-4049-a184-a21376454cfa ]] {\r\n",
       "}\r\n",
       "comp usage \"n \" as E4  <<(T,blue) attribute>> [[psysml:0ef473ce-6f49-4b48-ae7c-25bde7c2058c ]] {\r\n",
       "}\r\n",
       "}\r\n",
       "rec usage \"v1: V\" as E5  [[psysml:1ac351b0-bbdc-4492-9f99-b540f7d23706 ]] {\r\n",
       "comp usage \"m \" as E6  <<(T,blue) attribute>> [[psysml:ec8a8e56-fcc6-4673-8c8e-468b75026770 ]] {\r\n",
       "}\r\n",
       "}\r\n",
       "rec def \"W\" as E7  <<(T,blue) part  def>> [[psysml:aeba74e7-35ad-441a-aaf4-220a7e48fb18 ]] {\r\n",
       "comp usage \"m \" as E8  <<(T,blue) attribute>> [[psysml:38866ed6-d027-47ed-9e9b-10f0103d500c ]] {\r\n",
       "}\r\n",
       "}\r\n",
       "rec usage \"v2= W(); \" as E9  [[psysml:8648f4f6-facd-4996-a918-0994903b340f ]] {\r\n",
       "}\r\n",
       "}\r\n",
       "E6 - -||> E3 [[psysml:319addec-2b51-47f0-a10b-c2bc2405cd29 ]] \r\n",
       "E7 - -|> E2 [[psysml:13494711-98b1-4251-8963-46d1e0c35503 ]] \r\n",
       "E8 - -||> E3 [[psysml:27f15f96-8451-4ffb-b537-81d2f9d472fa ]] \r\n",
       "@enduml\r\n",
       "\n",
       "PlantUML version 1.2020.13(Sat Jun 13 12:26:38 UTC 2020)\n",
       "(EPL source distribution)\n",
       "Java Runtime: OpenJDK Runtime Environment\n",
       "JVM: OpenJDK 64-Bit Server VM\n",
       "Default Encoding: UTF-8\n",
       "Language: en\n",
       "Country: null\n",
       "--></g></svg>"
      ]
     },
     "execution_count": 26,
     "metadata": {},
     "output_type": "execute_result"
    }
   ],
   "source": [
    "%viz --style=\"STDCOLOR\" --view=\"Interconnection\" \"DefaultValueTest\""
   ]
  },
  {
   "cell_type": "code",
   "execution_count": 27,
   "id": "b4e97540",
   "metadata": {
    "execution": {
     "iopub.execute_input": "2022-02-18T10:51:41.094048Z",
     "iopub.status.busy": "2022-02-18T10:51:41.093644Z",
     "iopub.status.idle": "2022-02-18T10:51:41.098314Z",
     "shell.execute_reply": "2022-02-18T10:51:41.098629Z"
    }
   },
   "outputs": [
    {
     "data": {
      "image/svg+xml": [
       "<?xml version=\"1.0\" encoding=\"UTF-8\" standalone=\"no\"?><svg xmlns=\"http://www.w3.org/2000/svg\" xmlns:xlink=\"http://www.w3.org/1999/xlink\" contentScriptType=\"application/ecmascript\" contentStyleType=\"text/css\" height=\"12px\" preserveAspectRatio=\"none\" style=\"width:12px;height:12px;\" version=\"1.1\" viewBox=\"0 0 12 12\" width=\"12px\" zoomAndPan=\"magnify\"><defs/><g><!--MD5=[9863325348a96a77dacc89509d8ee65e]\n",
       "@startuml\r\n",
       "skinparam ranksep 8\r\n",
       "skinparam wrapWidth 300\r\n",
       "hide circle\r\n",
       "\r\n",
       "@enduml\r\n",
       "\n",
       "PlantUML version 1.2020.13(Sat Jun 13 12:26:38 UTC 2020)\n",
       "(EPL source distribution)\n",
       "Java Runtime: OpenJDK Runtime Environment\n",
       "JVM: OpenJDK 64-Bit Server VM\n",
       "Default Encoding: UTF-8\n",
       "Language: en\n",
       "Country: null\n",
       "--></g></svg>"
      ]
     },
     "execution_count": 27,
     "metadata": {},
     "output_type": "execute_result"
    }
   ],
   "source": [
    "%viz --style=\"STDCOLOR\" --view=\"Action\" \"DefaultValueTest\""
   ]
  },
  {
   "cell_type": "code",
   "execution_count": 28,
   "id": "eb306363",
   "metadata": {
    "execution": {
     "iopub.execute_input": "2022-02-18T10:51:41.148827Z",
     "iopub.status.busy": "2022-02-18T10:51:41.148366Z",
     "iopub.status.idle": "2022-02-18T10:51:41.153093Z",
     "shell.execute_reply": "2022-02-18T10:51:41.153385Z"
    }
   },
   "outputs": [
    {
     "data": {
      "image/svg+xml": [
       "<?xml version=\"1.0\" encoding=\"UTF-8\" standalone=\"no\"?><svg xmlns=\"http://www.w3.org/2000/svg\" xmlns:xlink=\"http://www.w3.org/1999/xlink\" contentScriptType=\"application/ecmascript\" contentStyleType=\"text/css\" height=\"12px\" preserveAspectRatio=\"none\" style=\"width:12px;height:12px;\" version=\"1.1\" viewBox=\"0 0 12 12\" width=\"12px\" zoomAndPan=\"magnify\"><defs/><g><!--MD5=[6c4bca67b4d71758159a5a7f1f1e1fc2]\n",
       "@startuml\r\n",
       "skinparam roundcorner 20\r\n",
       "skinparam BoxPadding 20\r\n",
       "skinparam SequenceBoxBackgroundColor #white\r\n",
       "skinparam style strictuml\r\n",
       "skinparam maxMessageSize 100\r\n",
       "skinparam wrapWidth 300\r\n",
       "hide circle\r\n",
       "\r\n",
       "@enduml\r\n",
       "\n",
       "PlantUML version 1.2020.13(Sat Jun 13 12:26:38 UTC 2020)\n",
       "(EPL source distribution)\n",
       "Java Runtime: OpenJDK Runtime Environment\n",
       "JVM: OpenJDK 64-Bit Server VM\n",
       "Default Encoding: UTF-8\n",
       "Language: en\n",
       "Country: null\n",
       "--></g></svg>"
      ]
     },
     "execution_count": 28,
     "metadata": {},
     "output_type": "execute_result"
    }
   ],
   "source": [
    "%viz --style=\"STDCOLOR\" --view=\"Sequence\" \"DefaultValueTest\""
   ]
  },
  {
   "cell_type": "code",
   "execution_count": 29,
   "id": "94d70dac",
   "metadata": {
    "execution": {
     "iopub.execute_input": "2022-02-18T10:51:41.203476Z",
     "iopub.status.busy": "2022-02-18T10:51:41.203036Z",
     "iopub.status.idle": "2022-02-18T10:51:41.300187Z",
     "shell.execute_reply": "2022-02-18T10:51:41.298845Z"
    }
   },
   "outputs": [
    {
     "data": {
      "image/svg+xml": [
       "<?xml version=\"1.0\" encoding=\"UTF-8\" standalone=\"no\"?><svg xmlns=\"http://www.w3.org/2000/svg\" xmlns:xlink=\"http://www.w3.org/1999/xlink\" contentScriptType=\"application/ecmascript\" contentStyleType=\"text/css\" height=\"293px\" preserveAspectRatio=\"none\" style=\"width:438px;height:293px;\" version=\"1.1\" viewBox=\"0 0 438 293\" width=\"438px\" zoomAndPan=\"magnify\"><defs><filter height=\"300%\" id=\"f1gucsik3xajti\" width=\"300%\" x=\"-1\" y=\"-1\"><feGaussianBlur result=\"blurOut\" stdDeviation=\"2.0\"/><feColorMatrix in=\"blurOut\" result=\"blurOut2\" type=\"matrix\" values=\"0 0 0 0 0 0 0 0 0 0 0 0 0 0 0 0 0 0 .4 0\"/><feOffset dx=\"4.0\" dy=\"4.0\" in=\"blurOut2\" result=\"blurOut3\"/><feBlend in=\"SourceGraphic\" in2=\"blurOut3\" mode=\"normal\"/></filter></defs><g><!--MD5=[fbc87193dbaf4d95561dea2c320d4a47]\n",
       "cluster E1--><a href=\"psysml:6839459c-d74b-4e54-a7fb-96b2013b0c1a\" target=\"_top\" title=\"psysml:6839459c-d74b-4e54-a7fb-96b2013b0c1a\" xlink:actuate=\"onRequest\" xlink:href=\"psysml:6839459c-d74b-4e54-a7fb-96b2013b0c1a\" xlink:show=\"new\" xlink:title=\"psysml:6839459c-d74b-4e54-a7fb-96b2013b0c1a\" xlink:type=\"simple\"><polygon fill=\"#FFFFFF\" filter=\"url(#f1gucsik3xajti)\" points=\"16,6,140,6,147,28.2969,416,28.2969,416,281,16,281,16,6\" style=\"stroke: #000000; stroke-width: 1.5;\"/><line style=\"stroke: #000000; stroke-width: 1.5;\" x1=\"16\" x2=\"147\" y1=\"28.2969\" y2=\"28.2969\"/><text fill=\"#000000\" font-family=\"sans-serif\" font-size=\"14\" font-weight=\"bold\" lengthAdjust=\"spacingAndGlyphs\" textLength=\"118\" x=\"20\" y=\"20.9951\">DefaultValueTest</text></a><!--MD5=[b4997ac47864f28c2f74865a473b2911]\n",
       "class E2--><a href=\"psysml:f6ad7545-3639-41cb-8da0-571497d98dc5\" target=\"_top\" title=\"psysml:f6ad7545-3639-41cb-8da0-571497d98dc5\" xlink:actuate=\"onRequest\" xlink:href=\"psysml:f6ad7545-3639-41cb-8da0-571497d98dc5\" xlink:show=\"new\" xlink:title=\"psysml:f6ad7545-3639-41cb-8da0-571497d98dc5\" xlink:type=\"simple\"><rect fill=\"#FEFECE\" filter=\"url(#f1gucsik3xajti)\" height=\"88.3516\" id=\"E2\" style=\"stroke: #A80036; stroke-width: 1.5;\" width=\"106\" x=\"212\" y=\"177\"/><text fill=\"#000000\" font-family=\"sans-serif\" font-size=\"12\" font-style=\"italic\" lengthAdjust=\"spacingAndGlyphs\" textLength=\"68\" x=\"231\" y=\"193.1387\">«part  def»</text><text fill=\"#000000\" font-family=\"sans-serif\" font-size=\"12\" lengthAdjust=\"spacingAndGlyphs\" textLength=\"8\" x=\"261\" y=\"207.1074\">V</text><line style=\"stroke: #A80036; stroke-width: 1.5;\" x1=\"213\" x2=\"317\" y1=\"214.9375\" y2=\"214.9375\"/><text fill=\"#000000\" font-family=\"sans-serif\" font-size=\"11\" lengthAdjust=\"spacingAndGlyphs\" textLength=\"94\" x=\"218\" y=\"245.9526\">m=default = 10;</text><text fill=\"#000000\" font-family=\"sans-serif\" font-size=\"11\" lengthAdjust=\"spacingAndGlyphs\" textLength=\"38\" x=\"218\" y=\"258.7573\">n= 20;</text><line style=\"stroke: #A80036; stroke-width: 1.0;\" x1=\"213\" x2=\"237.5\" y1=\"229.3398\" y2=\"229.3398\"/><text fill=\"#000000\" font-family=\"sans-serif\" font-size=\"11\" lengthAdjust=\"spacingAndGlyphs\" textLength=\"55\" x=\"237.5\" y=\"232.6479\">attributes</text><line style=\"stroke: #A80036; stroke-width: 1.0;\" x1=\"292.5\" x2=\"317\" y1=\"229.3398\" y2=\"229.3398\"/></a><!--MD5=[09b614a08d8cba4a07c9adeb5e0fee81]\n",
       "class E3--><a href=\"psysml:1ac351b0-bbdc-4492-9f99-b540f7d23706\" target=\"_top\" title=\"psysml:1ac351b0-bbdc-4492-9f99-b540f7d23706\" xlink:actuate=\"onRequest\" xlink:href=\"psysml:1ac351b0-bbdc-4492-9f99-b540f7d23706\" xlink:show=\"new\" xlink:title=\"psysml:1ac351b0-bbdc-4492-9f99-b540f7d23706\" xlink:type=\"simple\"><rect fill=\"#FEFECE\" filter=\"url(#f1gucsik3xajti)\" height=\"76.4922\" id=\"E3\" rx=\"10\" ry=\"10\" style=\"stroke: #A80036; stroke-width: 1.5;\" width=\"105\" x=\"294.5\" y=\"41\"/><text fill=\"#000000\" font-family=\"sans-serif\" font-size=\"12\" font-style=\"italic\" lengthAdjust=\"spacingAndGlyphs\" textLength=\"40\" x=\"327\" y=\"57.1387\">«part»</text><text fill=\"#000000\" font-family=\"sans-serif\" font-size=\"12\" lengthAdjust=\"spacingAndGlyphs\" textLength=\"30\" x=\"330\" y=\"71.1074\">v1: V</text><line style=\"stroke: #A80036; stroke-width: 1.5;\" x1=\"295.5\" x2=\"398.5\" y1=\"78.9375\" y2=\"78.9375\"/><path d=\"M302.4167,100.6589 L302.4167,109.8255 L303.3333,109.8255 L303.3333,100.6589 M306.0833,100.6589 L306.0833,109.8255 L313.4167,105.2422 L306.0833,100.6589 L307,102.0339 L312.0417,105.2422 L307,108.4505 L307,102.0339 \" fill=\"#000000\" style=\"stroke: ; stroke-width: 0.0; stroke-dasharray: ;\"/><text fill=\"#000000\" font-family=\"sans-serif\" font-size=\"11\" lengthAdjust=\"spacingAndGlyphs\" textLength=\"42\" x=\"317.5\" y=\"110.8979\">m= 20;</text><text fill=\"#000000\" font-family=\"sans-serif\" font-size=\"11\" lengthAdjust=\"spacingAndGlyphs\" text-decoration=\"line-through\" textLength=\"26\" x=\"367.5\" y=\"110.8979\">V::m</text><line style=\"stroke: #A80036; stroke-width: 1.0;\" x1=\"295.5\" x2=\"319.5\" y1=\"93.3398\" y2=\"93.3398\"/><text fill=\"#000000\" font-family=\"sans-serif\" font-size=\"11\" lengthAdjust=\"spacingAndGlyphs\" textLength=\"55\" x=\"319.5\" y=\"96.6479\">attributes</text><line style=\"stroke: #A80036; stroke-width: 1.0;\" x1=\"374.5\" x2=\"398.5\" y1=\"93.3398\" y2=\"93.3398\"/></a><!--MD5=[ebbe1d658d1005bcc118a6aa81145e00]\n",
       "class E4--><a href=\"psysml:aeba74e7-35ad-441a-aaf4-220a7e48fb18\" target=\"_top\" title=\"psysml:aeba74e7-35ad-441a-aaf4-220a7e48fb18\" xlink:actuate=\"onRequest\" xlink:href=\"psysml:aeba74e7-35ad-441a-aaf4-220a7e48fb18\" xlink:show=\"new\" xlink:title=\"psysml:aeba74e7-35ad-441a-aaf4-220a7e48fb18\" xlink:type=\"simple\"><rect fill=\"#FEFECE\" filter=\"url(#f1gucsik3xajti)\" height=\"76.4922\" id=\"E4\" style=\"stroke: #A80036; stroke-width: 1.5;\" width=\"150\" x=\"109\" y=\"41\"/><text fill=\"#000000\" font-family=\"sans-serif\" font-size=\"12\" font-style=\"italic\" lengthAdjust=\"spacingAndGlyphs\" textLength=\"68\" x=\"150\" y=\"57.1387\">«part  def»</text><text fill=\"#000000\" font-family=\"sans-serif\" font-size=\"12\" lengthAdjust=\"spacingAndGlyphs\" textLength=\"11\" x=\"178.5\" y=\"71.1074\">W</text><line style=\"stroke: #A80036; stroke-width: 1.5;\" x1=\"110\" x2=\"258\" y1=\"78.9375\" y2=\"78.9375\"/><path d=\"M116.9167,100.6589 L116.9167,109.8255 L117.8333,109.8255 L117.8333,100.6589 M120.5833,100.6589 L120.5833,109.8255 L127.9167,105.2422 L120.5833,100.6589 L121.5,102.0339 L126.5417,105.2422 L121.5,108.4505 L121.5,102.0339 \" fill=\"#000000\" style=\"stroke: ; stroke-width: 0.0; stroke-dasharray: ;\"/><text fill=\"#000000\" font-family=\"sans-serif\" font-size=\"11\" lengthAdjust=\"spacingAndGlyphs\" textLength=\"87\" x=\"132\" y=\"110.8979\">m=default = n;</text><text fill=\"#000000\" font-family=\"sans-serif\" font-size=\"11\" lengthAdjust=\"spacingAndGlyphs\" text-decoration=\"line-through\" textLength=\"26\" x=\"227\" y=\"110.8979\">V::m</text><line style=\"stroke: #A80036; stroke-width: 1.0;\" x1=\"110\" x2=\"156.5\" y1=\"93.3398\" y2=\"93.3398\"/><text fill=\"#000000\" font-family=\"sans-serif\" font-size=\"11\" lengthAdjust=\"spacingAndGlyphs\" textLength=\"55\" x=\"156.5\" y=\"96.6479\">attributes</text><line style=\"stroke: #A80036; stroke-width: 1.0;\" x1=\"211.5\" x2=\"258\" y1=\"93.3398\" y2=\"93.3398\"/></a><!--MD5=[270fce915f116d4de14055a7c1d9a0f3]\n",
       "class E5--><a href=\"psysml:8648f4f6-facd-4996-a918-0994903b340f\" target=\"_top\" title=\"psysml:8648f4f6-facd-4996-a918-0994903b340f\" xlink:actuate=\"onRequest\" xlink:href=\"psysml:8648f4f6-facd-4996-a918-0994903b340f\" xlink:show=\"new\" xlink:title=\"psysml:8648f4f6-facd-4996-a918-0994903b340f\" xlink:type=\"simple\"><rect fill=\"#FEFECE\" filter=\"url(#f1gucsik3xajti)\" height=\"45.9375\" id=\"E5\" rx=\"10\" ry=\"10\" style=\"stroke: #A80036; stroke-width: 1.5;\" width=\"42\" x=\"32\" y=\"56\"/><text fill=\"#000000\" font-family=\"sans-serif\" font-size=\"12\" font-style=\"italic\" lengthAdjust=\"spacingAndGlyphs\" textLength=\"40\" x=\"33\" y=\"72.1387\">«part»</text><text fill=\"#000000\" font-family=\"sans-serif\" font-size=\"12\" lengthAdjust=\"spacingAndGlyphs\" textLength=\"14\" x=\"44\" y=\"86.1074\">v2</text><line style=\"stroke: #A80036; stroke-width: 1.5;\" x1=\"33\" x2=\"73\" y1=\"93.9375\" y2=\"93.9375\"/></a><!--MD5=[05d275557350bfb9b23a4ef7222b4c39]\n",
       "link E3 to E2--><a href=\"psysml:f9d68518-1ffd-4856-b3d4-4b8d752762cd\" target=\"_top\" title=\"psysml:f9d68518-1ffd-4856-b3d4-4b8d752762cd\" xlink:actuate=\"onRequest\" xlink:href=\"psysml:f9d68518-1ffd-4856-b3d4-4b8d752762cd\" xlink:show=\"new\" xlink:title=\"psysml:f9d68518-1ffd-4856-b3d4-4b8d752762cd\" xlink:type=\"simple\"><path d=\"M325.24,117.15 C317.67,130.08 308.96,144.94 300.57,159.28 \" fill=\"none\" id=\"E3-&gt;E2\" style=\"stroke: #A80036; stroke-width: 1.0;\"/><polygon fill=\"#FFFFFF\" points=\"290.2,176.97,293.7681,157.0384,305.8465,164.1174,290.2,176.97\" style=\"stroke: #A80036; stroke-width: 1.0;\"/><ellipse cx=\"298.3758\" cy=\"153.1321\" fill=\"#A80036\" rx=\"2\" ry=\"2\" style=\"stroke: #A80036; stroke-width: 1.0;\"/><ellipse cx=\"307.0032\" cy=\"158.1885\" fill=\"#A80036\" rx=\"2\" ry=\"2\" style=\"stroke: #A80036; stroke-width: 1.0;\"/></a><!--MD5=[185131fc0dcab0a4505a2ebe144e961b]\n",
       "link E4 to E2--><a href=\"psysml:13494711-98b1-4251-8963-46d1e0c35503\" target=\"_top\" title=\"psysml:13494711-98b1-4251-8963-46d1e0c35503\" xlink:actuate=\"onRequest\" xlink:href=\"psysml:13494711-98b1-4251-8963-46d1e0c35503\" xlink:show=\"new\" xlink:title=\"psysml:13494711-98b1-4251-8963-46d1e0c35503\" xlink:type=\"simple\"><path d=\"M205.49,117.15 C212.97,130.08 221.57,144.94 229.87,159.28 \" fill=\"none\" id=\"E4-&gt;E2\" style=\"stroke: #A80036; stroke-width: 1.0;\"/><polygon fill=\"none\" points=\"236.15,156.15,240.1,176.97,224.03,163.16,236.15,156.15\" style=\"stroke: #A80036; stroke-width: 1.0;\"/></a><!--MD5=[7eae9544b69288f1327144d72a063476]\n",
       "@startuml\r\n",
       "skinparam wrapWidth 300\r\n",
       "hide circle\r\n",
       "\r\n",
       "package \"DefaultValueTest\" as E1  [[psysml:6839459c-d74b-4e54-a7fb-96b2013b0c1a ]]  {\r\n",
       "comp def \"V\" as E2  <<(T,blue) part  def>> [[psysml:f6ad7545-3639-41cb-8da0-571497d98dc5 ]] {\r\n",
       "- - attributes - -\r\n",
       "m=default = 10; \r\n",
       "n= 20; \r\n",
       "}\r\n",
       "comp usage \"v1: V \" as E3  <<(T,blue) part>> [[psysml:1ac351b0-bbdc-4492-9f99-b540f7d23706 ]] {\r\n",
       "- - attributes - -\r\n",
       "<&bar-trig> m= 20;  <s>V::m</s>\r\n",
       "}\r\n",
       "comp def \"W\" as E4  <<(T,blue) part  def>> [[psysml:aeba74e7-35ad-441a-aaf4-220a7e48fb18 ]] {\r\n",
       "- - attributes - -\r\n",
       "<&bar-trig> m=default = n;  <s>V::m</s>\r\n",
       "}\r\n",
       "comp usage \"v2 \" as E5  <<(T,blue) part>> [[psysml:8648f4f6-facd-4996-a918-0994903b340f ]] {\r\n",
       "}\r\n",
       "}\r\n",
       "E3 - -:|> E2 [[psysml:f9d68518-1ffd-4856-b3d4-4b8d752762cd ]] \r\n",
       "E4 - -|> E2 [[psysml:13494711-98b1-4251-8963-46d1e0c35503 ]] \r\n",
       "@enduml\r\n",
       "\n",
       "PlantUML version 1.2020.13(Sat Jun 13 12:26:38 UTC 2020)\n",
       "(EPL source distribution)\n",
       "Java Runtime: OpenJDK Runtime Environment\n",
       "JVM: OpenJDK 64-Bit Server VM\n",
       "Default Encoding: UTF-8\n",
       "Language: en\n",
       "Country: null\n",
       "--></g></svg>"
      ]
     },
     "execution_count": 29,
     "metadata": {},
     "output_type": "execute_result"
    }
   ],
   "source": [
    "%viz --style=\"STDCOLOR\" --view=\"MIXED\" \"DefaultValueTest\""
   ]
  },
  {
   "cell_type": "code",
   "execution_count": 30,
   "id": "a743c785",
   "metadata": {
    "execution": {
     "iopub.execute_input": "2022-02-18T10:51:41.349620Z",
     "iopub.status.busy": "2022-02-18T10:51:41.349163Z",
     "iopub.status.idle": "2022-02-18T10:51:41.410557Z",
     "shell.execute_reply": "2022-02-18T10:51:41.410116Z"
    }
   },
   "outputs": [
    {
     "data": {
      "image/svg+xml": [
       "<?xml version=\"1.0\" encoding=\"UTF-8\" standalone=\"no\"?><svg xmlns=\"http://www.w3.org/2000/svg\" xmlns:xlink=\"http://www.w3.org/1999/xlink\" contentScriptType=\"application/ecmascript\" contentStyleType=\"text/css\" height=\"299px\" preserveAspectRatio=\"none\" style=\"width:380px;height:299px;\" version=\"1.1\" viewBox=\"0 0 380 299\" width=\"380px\" zoomAndPan=\"magnify\"><defs><filter height=\"300%\" id=\"f1uvk9cf10s395\" width=\"300%\" x=\"-1\" y=\"-1\"><feGaussianBlur result=\"blurOut\" stdDeviation=\"2.0\"/><feColorMatrix in=\"blurOut\" result=\"blurOut2\" type=\"matrix\" values=\"0 0 0 0 0 0 0 0 0 0 0 0 0 0 0 0 0 0 .4 0\"/><feOffset dx=\"4.0\" dy=\"4.0\" in=\"blurOut2\" result=\"blurOut3\"/><feBlend in=\"SourceGraphic\" in2=\"blurOut3\" mode=\"normal\"/></filter></defs><g><!--MD5=[fbc87193dbaf4d95561dea2c320d4a47]\n",
       "cluster E1--><a href=\"psysml:6839459c-d74b-4e54-a7fb-96b2013b0c1a\" target=\"_top\" title=\"psysml:6839459c-d74b-4e54-a7fb-96b2013b0c1a\" xlink:actuate=\"onRequest\" xlink:href=\"psysml:6839459c-d74b-4e54-a7fb-96b2013b0c1a\" xlink:show=\"new\" xlink:title=\"psysml:6839459c-d74b-4e54-a7fb-96b2013b0c1a\" xlink:type=\"simple\"><polygon fill=\"#FFFFFF\" filter=\"url(#f1uvk9cf10s395)\" points=\"16,6,140,6,147,28.2969,358,28.2969,358,287,16,287,16,6\" style=\"stroke: #000000; stroke-width: 1.5;\"/><line style=\"stroke: #000000; stroke-width: 1.5;\" x1=\"16\" x2=\"147\" y1=\"28.2969\" y2=\"28.2969\"/><text fill=\"#000000\" font-family=\"sans-serif\" font-size=\"14\" font-weight=\"bold\" lengthAdjust=\"spacingAndGlyphs\" textLength=\"118\" x=\"20\" y=\"20.9951\">DefaultValueTest</text></a><!--MD5=[b4997ac47864f28c2f74865a473b2911]\n",
       "class E2--><a href=\"psysml:f6ad7545-3639-41cb-8da0-571497d98dc5\" target=\"_top\" title=\"psysml:f6ad7545-3639-41cb-8da0-571497d98dc5\" xlink:actuate=\"onRequest\" xlink:href=\"psysml:f6ad7545-3639-41cb-8da0-571497d98dc5\" xlink:show=\"new\" xlink:title=\"psysml:f6ad7545-3639-41cb-8da0-571497d98dc5\" xlink:type=\"simple\"><rect fill=\"#FEFECE\" filter=\"url(#f1uvk9cf10s395)\" height=\"82.4141\" id=\"E2\" style=\"stroke: #A80036; stroke-width: 1.5;\" width=\"106\" x=\"185\" y=\"189\"/><ellipse cx=\"229.75\" cy=\"205\" fill=\"#008000\" rx=\"11\" ry=\"11\" style=\"stroke: #A80036; stroke-width: 1.0;\"/><path d=\"M226.625,210 L226.625,199.4063 L229.8594,199.4063 Q231.7656,199.4063 232.6719,200.1563 Q233.5938,200.9063 233.5938,202.0781 Q233.5938,202.7656 233.2031,203.4219 Q232.8281,204.0781 232.1094,204.375 Q232.9688,204.75 233.4844,205.4375 Q234,206.125 234,206.9375 Q234,208.3125 232.9688,209.1563 Q231.9531,210 229.8438,210 L226.625,210 Z M228.5469,203.6406 L229.7031,203.6406 Q230.8281,203.6406 231.2344,203.2656 Q231.6563,202.875 231.6563,202.25 Q231.6563,201.6719 231.2344,201.3125 Q230.8125,200.9531 229.875,200.9531 L228.5469,200.9531 L228.5469,203.6406 Z M228.5469,208.4219 L230.0469,208.4219 Q230.9531,208.4219 231.4844,208.0313 Q232.0156,207.6406 232.0156,206.8906 Q232.0156,206.125 231.5156,205.6563 Q231.0156,205.1719 229.75,205.1719 L228.5469,205.1719 L228.5469,208.4219 Z \"/><text fill=\"#000000\" font-family=\"sans-serif\" font-size=\"12\" lengthAdjust=\"spacingAndGlyphs\" textLength=\"8\" x=\"250.25\" y=\"209.1543\">V</text><line style=\"stroke: #A80036; stroke-width: 1.5;\" x1=\"186\" x2=\"290\" y1=\"221\" y2=\"221\"/><text fill=\"#000000\" font-family=\"sans-serif\" font-size=\"11\" lengthAdjust=\"spacingAndGlyphs\" textLength=\"94\" x=\"191\" y=\"252.0151\">m=default = 10;</text><text fill=\"#000000\" font-family=\"sans-serif\" font-size=\"11\" lengthAdjust=\"spacingAndGlyphs\" textLength=\"38\" x=\"191\" y=\"264.8198\">n= 20;</text><line style=\"stroke: #A80036; stroke-width: 1.0;\" x1=\"186\" x2=\"210.5\" y1=\"235.4023\" y2=\"235.4023\"/><text fill=\"#000000\" font-family=\"sans-serif\" font-size=\"11\" lengthAdjust=\"spacingAndGlyphs\" textLength=\"55\" x=\"210.5\" y=\"238.7104\">attributes</text><line style=\"stroke: #A80036; stroke-width: 1.0;\" x1=\"265.5\" x2=\"290\" y1=\"235.4023\" y2=\"235.4023\"/></a><!--MD5=[09b614a08d8cba4a07c9adeb5e0fee81]\n",
       "class E3--><a href=\"psysml:1ac351b0-bbdc-4492-9f99-b540f7d23706\" target=\"_top\" title=\"psysml:1ac351b0-bbdc-4492-9f99-b540f7d23706\" xlink:actuate=\"onRequest\" xlink:href=\"psysml:1ac351b0-bbdc-4492-9f99-b540f7d23706\" xlink:show=\"new\" xlink:title=\"psysml:1ac351b0-bbdc-4492-9f99-b540f7d23706\" xlink:type=\"simple\"><rect fill=\"#FEFECE\" filter=\"url(#f1uvk9cf10s395)\" height=\"88.3516\" id=\"E3\" rx=\"10\" ry=\"10\" style=\"stroke: #A80036; stroke-width: 1.5;\" width=\"68\" x=\"274\" y=\"41\"/><ellipse cx=\"289\" cy=\"59.9688\" fill=\"#32CD32\" rx=\"11\" ry=\"11\" style=\"stroke: #A80036; stroke-width: 1.0;\"/><path d=\"M285.8125,64.9688 L285.8125,54.375 L289.4219,54.375 Q290.6406,54.375 291.4375,54.8125 Q292.2344,55.2344 292.6094,55.9375 Q293,56.6406 293,57.4844 Q293,58.3281 292.625,59.0156 Q292.2656,59.7031 291.4688,60.125 Q290.6875,60.5313 289.5,60.5313 L287.7656,60.5313 L287.7656,64.9688 L285.8125,64.9688 Z M287.7656,58.9375 L289.375,58.9375 Q290.1875,58.9375 290.6094,58.5313 Q291.0313,58.125 291.0313,57.4844 Q291.0313,56.8594 290.6094,56.4531 Q290.1875,56.0469 289.3906,56.0469 L287.7656,56.0469 L287.7656,58.9375 Z \"/><text fill=\"#000000\" font-family=\"sans-serif\" font-size=\"12\" font-style=\"italic\" lengthAdjust=\"spacingAndGlyphs\" textLength=\"40\" x=\"301\" y=\"57.1387\">«part»</text><text fill=\"#000000\" font-family=\"sans-serif\" font-size=\"12\" lengthAdjust=\"spacingAndGlyphs\" textLength=\"30\" x=\"304\" y=\"71.1074\">v1: V</text><line style=\"stroke: #A80036; stroke-width: 1.5;\" x1=\"275\" x2=\"341\" y1=\"78.9375\" y2=\"78.9375\"/><text fill=\"#000000\" font-family=\"sans-serif\" font-size=\"11\" lengthAdjust=\"spacingAndGlyphs\" textLength=\"42\" x=\"280\" y=\"109.9526\">m= 20;</text><text fill=\"#000000\" font-family=\"sans-serif\" font-size=\"11\" font-style=\"italic\" lengthAdjust=\"spacingAndGlyphs\" textLength=\"48\" x=\"280\" y=\"122.7573\">:&gt;&gt;V::m</text><line style=\"stroke: #A80036; stroke-width: 1.0;\" x1=\"275\" x2=\"280.5\" y1=\"93.3398\" y2=\"93.3398\"/><text fill=\"#000000\" font-family=\"sans-serif\" font-size=\"11\" lengthAdjust=\"spacingAndGlyphs\" textLength=\"55\" x=\"280.5\" y=\"96.6479\">attributes</text><line style=\"stroke: #A80036; stroke-width: 1.0;\" x1=\"335.5\" x2=\"341\" y1=\"93.3398\" y2=\"93.3398\"/></a><!--MD5=[ebbe1d658d1005bcc118a6aa81145e00]\n",
       "class E4--><a href=\"psysml:aeba74e7-35ad-441a-aaf4-220a7e48fb18\" target=\"_top\" title=\"psysml:aeba74e7-35ad-441a-aaf4-220a7e48fb18\" xlink:actuate=\"onRequest\" xlink:href=\"psysml:aeba74e7-35ad-441a-aaf4-220a7e48fb18\" xlink:show=\"new\" xlink:title=\"psysml:aeba74e7-35ad-441a-aaf4-220a7e48fb18\" xlink:type=\"simple\"><rect fill=\"#FEFECE\" filter=\"url(#f1uvk9cf10s395)\" height=\"82.4141\" id=\"E4\" style=\"stroke: #A80036; stroke-width: 1.5;\" width=\"103\" x=\"135.5\" y=\"44\"/><ellipse cx=\"177.5\" cy=\"60\" fill=\"#008000\" rx=\"11\" ry=\"11\" style=\"stroke: #A80036; stroke-width: 1.0;\"/><path d=\"M174.375,65 L174.375,54.4063 L177.6094,54.4063 Q179.5156,54.4063 180.4219,55.1563 Q181.3438,55.9063 181.3438,57.0781 Q181.3438,57.7656 180.9531,58.4219 Q180.5781,59.0781 179.8594,59.375 Q180.7188,59.75 181.2344,60.4375 Q181.75,61.125 181.75,61.9375 Q181.75,63.3125 180.7188,64.1563 Q179.7031,65 177.5938,65 L174.375,65 Z M176.2969,58.6406 L177.4531,58.6406 Q178.5781,58.6406 178.9844,58.2656 Q179.4063,57.875 179.4063,57.25 Q179.4063,56.6719 178.9844,56.3125 Q178.5625,55.9531 177.625,55.9531 L176.2969,55.9531 L176.2969,58.6406 Z M176.2969,63.4219 L177.7969,63.4219 Q178.7031,63.4219 179.2344,63.0313 Q179.7656,62.6406 179.7656,61.8906 Q179.7656,61.125 179.2656,60.6563 Q178.7656,60.1719 177.5,60.1719 L176.2969,60.1719 L176.2969,63.4219 Z \"/><text fill=\"#000000\" font-family=\"sans-serif\" font-size=\"12\" lengthAdjust=\"spacingAndGlyphs\" textLength=\"11\" x=\"197.5\" y=\"64.1543\">W</text><line style=\"stroke: #A80036; stroke-width: 1.5;\" x1=\"136.5\" x2=\"237.5\" y1=\"76\" y2=\"76\"/><text fill=\"#000000\" font-family=\"sans-serif\" font-size=\"11\" lengthAdjust=\"spacingAndGlyphs\" textLength=\"87\" x=\"141.5\" y=\"107.0151\">m=default = n;</text><text fill=\"#000000\" font-family=\"sans-serif\" font-size=\"11\" font-style=\"italic\" lengthAdjust=\"spacingAndGlyphs\" textLength=\"48\" x=\"141.5\" y=\"119.8198\">:&gt;&gt;V::m</text><line style=\"stroke: #A80036; stroke-width: 1.0;\" x1=\"136.5\" x2=\"159.5\" y1=\"90.4023\" y2=\"90.4023\"/><text fill=\"#000000\" font-family=\"sans-serif\" font-size=\"11\" lengthAdjust=\"spacingAndGlyphs\" textLength=\"55\" x=\"159.5\" y=\"93.7104\">attributes</text><line style=\"stroke: #A80036; stroke-width: 1.0;\" x1=\"214.5\" x2=\"237.5\" y1=\"90.4023\" y2=\"90.4023\"/></a><!--MD5=[270fce915f116d4de14055a7c1d9a0f3]\n",
       "class E5--><a href=\"psysml:8648f4f6-facd-4996-a918-0994903b340f\" target=\"_top\" title=\"psysml:8648f4f6-facd-4996-a918-0994903b340f\" xlink:actuate=\"onRequest\" xlink:href=\"psysml:8648f4f6-facd-4996-a918-0994903b340f\" xlink:show=\"new\" xlink:title=\"psysml:8648f4f6-facd-4996-a918-0994903b340f\" xlink:type=\"simple\"><rect fill=\"#FEFECE\" filter=\"url(#f1uvk9cf10s395)\" height=\"45.9375\" id=\"E5\" rx=\"10\" ry=\"10\" style=\"stroke: #A80036; stroke-width: 1.5;\" width=\"68\" x=\"32\" y=\"62\"/><ellipse cx=\"47\" cy=\"80.9688\" fill=\"#32CD32\" rx=\"11\" ry=\"11\" style=\"stroke: #A80036; stroke-width: 1.0;\"/><path d=\"M43.8125,85.9688 L43.8125,75.375 L47.4219,75.375 Q48.6406,75.375 49.4375,75.8125 Q50.2344,76.2344 50.6094,76.9375 Q51,77.6406 51,78.4844 Q51,79.3281 50.625,80.0156 Q50.2656,80.7031 49.4688,81.125 Q48.6875,81.5313 47.5,81.5313 L45.7656,81.5313 L45.7656,85.9688 L43.8125,85.9688 Z M45.7656,79.9375 L47.375,79.9375 Q48.1875,79.9375 48.6094,79.5313 Q49.0313,79.125 49.0313,78.4844 Q49.0313,77.8594 48.6094,77.4531 Q48.1875,77.0469 47.3906,77.0469 L45.7656,77.0469 L45.7656,79.9375 Z \"/><text fill=\"#000000\" font-family=\"sans-serif\" font-size=\"12\" font-style=\"italic\" lengthAdjust=\"spacingAndGlyphs\" textLength=\"40\" x=\"59\" y=\"78.1387\">«part»</text><text fill=\"#000000\" font-family=\"sans-serif\" font-size=\"12\" lengthAdjust=\"spacingAndGlyphs\" textLength=\"14\" x=\"70\" y=\"92.1074\">v2</text><line style=\"stroke: #A80036; stroke-width: 1.5;\" x1=\"33\" x2=\"99\" y1=\"99.9375\" y2=\"99.9375\"/></a><!--MD5=[05d275557350bfb9b23a4ef7222b4c39]\n",
       "link E3 to E2--><a href=\"psysml:f9d68518-1ffd-4856-b3d4-4b8d752762cd\" target=\"_top\" title=\"psysml:f9d68518-1ffd-4856-b3d4-4b8d752762cd\" xlink:actuate=\"onRequest\" xlink:href=\"psysml:f9d68518-1ffd-4856-b3d4-4b8d752762cd\" xlink:show=\"new\" xlink:title=\"psysml:f9d68518-1ffd-4856-b3d4-4b8d752762cd\" xlink:type=\"simple\"><path d=\"M286.81,129.29 C280.44,142.29 273.36,156.77 266.6,170.58 \" fill=\"none\" id=\"E3-&gt;E2\" style=\"stroke: #A80036; stroke-width: 1.0;\"/><polygon fill=\"#FFFFFF\" points=\"257.69,188.78,259.7589,168.6375,272.3325,174.7943,257.69,188.78\" style=\"stroke: #A80036; stroke-width: 1.0;\"/><ellipse cx=\"264.0619\" cy=\"164.3978\" fill=\"#A80036\" rx=\"2\" ry=\"2\" style=\"stroke: #A80036; stroke-width: 1.0;\"/><ellipse cx=\"273.0429\" cy=\"168.7956\" fill=\"#A80036\" rx=\"2\" ry=\"2\" style=\"stroke: #A80036; stroke-width: 1.0;\"/></a><!--MD5=[185131fc0dcab0a4505a2ebe144e961b]\n",
       "link E4 to E2--><a href=\"psysml:13494711-98b1-4251-8963-46d1e0c35503\" target=\"_top\" title=\"psysml:13494711-98b1-4251-8963-46d1e0c35503\" xlink:actuate=\"onRequest\" xlink:href=\"psysml:13494711-98b1-4251-8963-46d1e0c35503\" xlink:show=\"new\" xlink:title=\"psysml:13494711-98b1-4251-8963-46d1e0c35503\" xlink:type=\"simple\"><path d=\"M201.34,126.21 C206.12,139.62 211.55,154.85 216.74,169.4 \" fill=\"none\" id=\"E4-&gt;E2\" style=\"stroke: #A80036; stroke-width: 1.0;\"/><polygon fill=\"none\" points=\"223.46,167.4,223.59,188.59,210.28,172.11,223.46,167.4\" style=\"stroke: #A80036; stroke-width: 1.0;\"/></a><!--MD5=[4f8509bfc192e6251b0e5d21edb853a5]\n",
       "@startuml\r\n",
       " \r\n",
       "package \"DefaultValueTest\" as E1  [[psysml:6839459c-d74b-4e54-a7fb-96b2013b0c1a ]]  {\r\n",
       "comp def \"V\" as E2 << << (B,green) >> [[psysml:f6ad7545-3639-41cb-8da0-571497d98dc5 ]] {\r\n",
       "- - attributes - -\r\n",
       "m=default = 10; \r\n",
       "n= 20; \r\n",
       "}\r\n",
       "comp usage \"v1: V \" as E3 << << (P,limegreen) part>> [[psysml:1ac351b0-bbdc-4492-9f99-b540f7d23706 ]] {\r\n",
       "- - attributes - -\r\n",
       "m= 20; \\n//:>>V::m// \r\n",
       "}\r\n",
       "comp def \"W\" as E4 << << (B,green) >> [[psysml:aeba74e7-35ad-441a-aaf4-220a7e48fb18 ]] {\r\n",
       "- - attributes - -\r\n",
       "m=default = n; \\n//:>>V::m// \r\n",
       "}\r\n",
       "comp usage \"v2 \" as E5 << << (P,limegreen) part>> [[psysml:8648f4f6-facd-4996-a918-0994903b340f ]] {\r\n",
       "}\r\n",
       "}\r\n",
       "E3 - -:|> E2 [[psysml:f9d68518-1ffd-4856-b3d4-4b8d752762cd ]] \r\n",
       "E4 - -|> E2 [[psysml:13494711-98b1-4251-8963-46d1e0c35503 ]] \r\n",
       "@enduml\r\n",
       "\n",
       "PlantUML version 1.2020.13(Sat Jun 13 12:26:38 UTC 2020)\n",
       "(EPL source distribution)\n",
       "Java Runtime: OpenJDK Runtime Environment\n",
       "JVM: OpenJDK 64-Bit Server VM\n",
       "Default Encoding: UTF-8\n",
       "Language: en\n",
       "Country: null\n",
       "--></g></svg>"
      ]
     },
     "execution_count": 30,
     "metadata": {},
     "output_type": "execute_result"
    }
   ],
   "source": [
    "%viz --style=\"PLANTUML\" --view=\"Default\" \"DefaultValueTest\""
   ]
  },
  {
   "cell_type": "code",
   "execution_count": 31,
   "id": "d317640f",
   "metadata": {
    "execution": {
     "iopub.execute_input": "2022-02-18T10:51:41.459666Z",
     "iopub.status.busy": "2022-02-18T10:51:41.459210Z",
     "iopub.status.idle": "2022-02-18T10:51:41.536258Z",
     "shell.execute_reply": "2022-02-18T10:51:41.535848Z"
    }
   },
   "outputs": [
    {
     "data": {
      "image/svg+xml": [
       "<?xml version=\"1.0\" encoding=\"UTF-8\" standalone=\"no\"?><svg xmlns=\"http://www.w3.org/2000/svg\" xmlns:xlink=\"http://www.w3.org/1999/xlink\" contentScriptType=\"application/ecmascript\" contentStyleType=\"text/css\" height=\"299px\" preserveAspectRatio=\"none\" style=\"width:380px;height:299px;\" version=\"1.1\" viewBox=\"0 0 380 299\" width=\"380px\" zoomAndPan=\"magnify\"><defs><filter height=\"300%\" id=\"f1uvk9cf10s395\" width=\"300%\" x=\"-1\" y=\"-1\"><feGaussianBlur result=\"blurOut\" stdDeviation=\"2.0\"/><feColorMatrix in=\"blurOut\" result=\"blurOut2\" type=\"matrix\" values=\"0 0 0 0 0 0 0 0 0 0 0 0 0 0 0 0 0 0 .4 0\"/><feOffset dx=\"4.0\" dy=\"4.0\" in=\"blurOut2\" result=\"blurOut3\"/><feBlend in=\"SourceGraphic\" in2=\"blurOut3\" mode=\"normal\"/></filter></defs><g><!--MD5=[fbc87193dbaf4d95561dea2c320d4a47]\n",
       "cluster E1--><a href=\"psysml:6839459c-d74b-4e54-a7fb-96b2013b0c1a\" target=\"_top\" title=\"psysml:6839459c-d74b-4e54-a7fb-96b2013b0c1a\" xlink:actuate=\"onRequest\" xlink:href=\"psysml:6839459c-d74b-4e54-a7fb-96b2013b0c1a\" xlink:show=\"new\" xlink:title=\"psysml:6839459c-d74b-4e54-a7fb-96b2013b0c1a\" xlink:type=\"simple\"><polygon fill=\"#FFFFFF\" filter=\"url(#f1uvk9cf10s395)\" points=\"16,6,140,6,147,28.2969,358,28.2969,358,287,16,287,16,6\" style=\"stroke: #000000; stroke-width: 1.5;\"/><line style=\"stroke: #000000; stroke-width: 1.5;\" x1=\"16\" x2=\"147\" y1=\"28.2969\" y2=\"28.2969\"/><text fill=\"#000000\" font-family=\"sans-serif\" font-size=\"14\" font-weight=\"bold\" lengthAdjust=\"spacingAndGlyphs\" textLength=\"118\" x=\"20\" y=\"20.9951\">DefaultValueTest</text></a><!--MD5=[b4997ac47864f28c2f74865a473b2911]\n",
       "class E2--><a href=\"psysml:f6ad7545-3639-41cb-8da0-571497d98dc5\" target=\"_top\" title=\"psysml:f6ad7545-3639-41cb-8da0-571497d98dc5\" xlink:actuate=\"onRequest\" xlink:href=\"psysml:f6ad7545-3639-41cb-8da0-571497d98dc5\" xlink:show=\"new\" xlink:title=\"psysml:f6ad7545-3639-41cb-8da0-571497d98dc5\" xlink:type=\"simple\"><rect fill=\"#FEFECE\" filter=\"url(#f1uvk9cf10s395)\" height=\"82.4141\" id=\"E2\" style=\"stroke: #A80036; stroke-width: 1.5;\" width=\"106\" x=\"185\" y=\"189\"/><ellipse cx=\"229.75\" cy=\"205\" fill=\"#008000\" rx=\"11\" ry=\"11\" style=\"stroke: #A80036; stroke-width: 1.0;\"/><path d=\"M226.625,210 L226.625,199.4063 L229.8594,199.4063 Q231.7656,199.4063 232.6719,200.1563 Q233.5938,200.9063 233.5938,202.0781 Q233.5938,202.7656 233.2031,203.4219 Q232.8281,204.0781 232.1094,204.375 Q232.9688,204.75 233.4844,205.4375 Q234,206.125 234,206.9375 Q234,208.3125 232.9688,209.1563 Q231.9531,210 229.8438,210 L226.625,210 Z M228.5469,203.6406 L229.7031,203.6406 Q230.8281,203.6406 231.2344,203.2656 Q231.6563,202.875 231.6563,202.25 Q231.6563,201.6719 231.2344,201.3125 Q230.8125,200.9531 229.875,200.9531 L228.5469,200.9531 L228.5469,203.6406 Z M228.5469,208.4219 L230.0469,208.4219 Q230.9531,208.4219 231.4844,208.0313 Q232.0156,207.6406 232.0156,206.8906 Q232.0156,206.125 231.5156,205.6563 Q231.0156,205.1719 229.75,205.1719 L228.5469,205.1719 L228.5469,208.4219 Z \"/><text fill=\"#000000\" font-family=\"sans-serif\" font-size=\"12\" lengthAdjust=\"spacingAndGlyphs\" textLength=\"8\" x=\"250.25\" y=\"209.1543\">V</text><line style=\"stroke: #A80036; stroke-width: 1.5;\" x1=\"186\" x2=\"290\" y1=\"221\" y2=\"221\"/><text fill=\"#000000\" font-family=\"sans-serif\" font-size=\"11\" lengthAdjust=\"spacingAndGlyphs\" textLength=\"94\" x=\"191\" y=\"252.0151\">m=default = 10;</text><text fill=\"#000000\" font-family=\"sans-serif\" font-size=\"11\" lengthAdjust=\"spacingAndGlyphs\" textLength=\"38\" x=\"191\" y=\"264.8198\">n= 20;</text><line style=\"stroke: #A80036; stroke-width: 1.0;\" x1=\"186\" x2=\"210.5\" y1=\"235.4023\" y2=\"235.4023\"/><text fill=\"#000000\" font-family=\"sans-serif\" font-size=\"11\" lengthAdjust=\"spacingAndGlyphs\" textLength=\"55\" x=\"210.5\" y=\"238.7104\">attributes</text><line style=\"stroke: #A80036; stroke-width: 1.0;\" x1=\"265.5\" x2=\"290\" y1=\"235.4023\" y2=\"235.4023\"/></a><!--MD5=[09b614a08d8cba4a07c9adeb5e0fee81]\n",
       "class E3--><a href=\"psysml:1ac351b0-bbdc-4492-9f99-b540f7d23706\" target=\"_top\" title=\"psysml:1ac351b0-bbdc-4492-9f99-b540f7d23706\" xlink:actuate=\"onRequest\" xlink:href=\"psysml:1ac351b0-bbdc-4492-9f99-b540f7d23706\" xlink:show=\"new\" xlink:title=\"psysml:1ac351b0-bbdc-4492-9f99-b540f7d23706\" xlink:type=\"simple\"><rect fill=\"#FEFECE\" filter=\"url(#f1uvk9cf10s395)\" height=\"88.3516\" id=\"E3\" rx=\"10\" ry=\"10\" style=\"stroke: #A80036; stroke-width: 1.5;\" width=\"68\" x=\"274\" y=\"41\"/><ellipse cx=\"289\" cy=\"59.9688\" fill=\"#32CD32\" rx=\"11\" ry=\"11\" style=\"stroke: #A80036; stroke-width: 1.0;\"/><path d=\"M285.8125,64.9688 L285.8125,54.375 L289.4219,54.375 Q290.6406,54.375 291.4375,54.8125 Q292.2344,55.2344 292.6094,55.9375 Q293,56.6406 293,57.4844 Q293,58.3281 292.625,59.0156 Q292.2656,59.7031 291.4688,60.125 Q290.6875,60.5313 289.5,60.5313 L287.7656,60.5313 L287.7656,64.9688 L285.8125,64.9688 Z M287.7656,58.9375 L289.375,58.9375 Q290.1875,58.9375 290.6094,58.5313 Q291.0313,58.125 291.0313,57.4844 Q291.0313,56.8594 290.6094,56.4531 Q290.1875,56.0469 289.3906,56.0469 L287.7656,56.0469 L287.7656,58.9375 Z \"/><text fill=\"#000000\" font-family=\"sans-serif\" font-size=\"12\" font-style=\"italic\" lengthAdjust=\"spacingAndGlyphs\" textLength=\"40\" x=\"301\" y=\"57.1387\">«part»</text><text fill=\"#000000\" font-family=\"sans-serif\" font-size=\"12\" lengthAdjust=\"spacingAndGlyphs\" textLength=\"30\" x=\"304\" y=\"71.1074\">v1: V</text><line style=\"stroke: #A80036; stroke-width: 1.5;\" x1=\"275\" x2=\"341\" y1=\"78.9375\" y2=\"78.9375\"/><text fill=\"#000000\" font-family=\"sans-serif\" font-size=\"11\" lengthAdjust=\"spacingAndGlyphs\" textLength=\"42\" x=\"280\" y=\"109.9526\">m= 20;</text><text fill=\"#000000\" font-family=\"sans-serif\" font-size=\"11\" font-style=\"italic\" lengthAdjust=\"spacingAndGlyphs\" textLength=\"48\" x=\"280\" y=\"122.7573\">:&gt;&gt;V::m</text><line style=\"stroke: #A80036; stroke-width: 1.0;\" x1=\"275\" x2=\"280.5\" y1=\"93.3398\" y2=\"93.3398\"/><text fill=\"#000000\" font-family=\"sans-serif\" font-size=\"11\" lengthAdjust=\"spacingAndGlyphs\" textLength=\"55\" x=\"280.5\" y=\"96.6479\">attributes</text><line style=\"stroke: #A80036; stroke-width: 1.0;\" x1=\"335.5\" x2=\"341\" y1=\"93.3398\" y2=\"93.3398\"/></a><!--MD5=[ebbe1d658d1005bcc118a6aa81145e00]\n",
       "class E4--><a href=\"psysml:aeba74e7-35ad-441a-aaf4-220a7e48fb18\" target=\"_top\" title=\"psysml:aeba74e7-35ad-441a-aaf4-220a7e48fb18\" xlink:actuate=\"onRequest\" xlink:href=\"psysml:aeba74e7-35ad-441a-aaf4-220a7e48fb18\" xlink:show=\"new\" xlink:title=\"psysml:aeba74e7-35ad-441a-aaf4-220a7e48fb18\" xlink:type=\"simple\"><rect fill=\"#FEFECE\" filter=\"url(#f1uvk9cf10s395)\" height=\"82.4141\" id=\"E4\" style=\"stroke: #A80036; stroke-width: 1.5;\" width=\"103\" x=\"135.5\" y=\"44\"/><ellipse cx=\"177.5\" cy=\"60\" fill=\"#008000\" rx=\"11\" ry=\"11\" style=\"stroke: #A80036; stroke-width: 1.0;\"/><path d=\"M174.375,65 L174.375,54.4063 L177.6094,54.4063 Q179.5156,54.4063 180.4219,55.1563 Q181.3438,55.9063 181.3438,57.0781 Q181.3438,57.7656 180.9531,58.4219 Q180.5781,59.0781 179.8594,59.375 Q180.7188,59.75 181.2344,60.4375 Q181.75,61.125 181.75,61.9375 Q181.75,63.3125 180.7188,64.1563 Q179.7031,65 177.5938,65 L174.375,65 Z M176.2969,58.6406 L177.4531,58.6406 Q178.5781,58.6406 178.9844,58.2656 Q179.4063,57.875 179.4063,57.25 Q179.4063,56.6719 178.9844,56.3125 Q178.5625,55.9531 177.625,55.9531 L176.2969,55.9531 L176.2969,58.6406 Z M176.2969,63.4219 L177.7969,63.4219 Q178.7031,63.4219 179.2344,63.0313 Q179.7656,62.6406 179.7656,61.8906 Q179.7656,61.125 179.2656,60.6563 Q178.7656,60.1719 177.5,60.1719 L176.2969,60.1719 L176.2969,63.4219 Z \"/><text fill=\"#000000\" font-family=\"sans-serif\" font-size=\"12\" lengthAdjust=\"spacingAndGlyphs\" textLength=\"11\" x=\"197.5\" y=\"64.1543\">W</text><line style=\"stroke: #A80036; stroke-width: 1.5;\" x1=\"136.5\" x2=\"237.5\" y1=\"76\" y2=\"76\"/><text fill=\"#000000\" font-family=\"sans-serif\" font-size=\"11\" lengthAdjust=\"spacingAndGlyphs\" textLength=\"87\" x=\"141.5\" y=\"107.0151\">m=default = n;</text><text fill=\"#000000\" font-family=\"sans-serif\" font-size=\"11\" font-style=\"italic\" lengthAdjust=\"spacingAndGlyphs\" textLength=\"48\" x=\"141.5\" y=\"119.8198\">:&gt;&gt;V::m</text><line style=\"stroke: #A80036; stroke-width: 1.0;\" x1=\"136.5\" x2=\"159.5\" y1=\"90.4023\" y2=\"90.4023\"/><text fill=\"#000000\" font-family=\"sans-serif\" font-size=\"11\" lengthAdjust=\"spacingAndGlyphs\" textLength=\"55\" x=\"159.5\" y=\"93.7104\">attributes</text><line style=\"stroke: #A80036; stroke-width: 1.0;\" x1=\"214.5\" x2=\"237.5\" y1=\"90.4023\" y2=\"90.4023\"/></a><!--MD5=[270fce915f116d4de14055a7c1d9a0f3]\n",
       "class E5--><a href=\"psysml:8648f4f6-facd-4996-a918-0994903b340f\" target=\"_top\" title=\"psysml:8648f4f6-facd-4996-a918-0994903b340f\" xlink:actuate=\"onRequest\" xlink:href=\"psysml:8648f4f6-facd-4996-a918-0994903b340f\" xlink:show=\"new\" xlink:title=\"psysml:8648f4f6-facd-4996-a918-0994903b340f\" xlink:type=\"simple\"><rect fill=\"#FEFECE\" filter=\"url(#f1uvk9cf10s395)\" height=\"45.9375\" id=\"E5\" rx=\"10\" ry=\"10\" style=\"stroke: #A80036; stroke-width: 1.5;\" width=\"68\" x=\"32\" y=\"62\"/><ellipse cx=\"47\" cy=\"80.9688\" fill=\"#32CD32\" rx=\"11\" ry=\"11\" style=\"stroke: #A80036; stroke-width: 1.0;\"/><path d=\"M43.8125,85.9688 L43.8125,75.375 L47.4219,75.375 Q48.6406,75.375 49.4375,75.8125 Q50.2344,76.2344 50.6094,76.9375 Q51,77.6406 51,78.4844 Q51,79.3281 50.625,80.0156 Q50.2656,80.7031 49.4688,81.125 Q48.6875,81.5313 47.5,81.5313 L45.7656,81.5313 L45.7656,85.9688 L43.8125,85.9688 Z M45.7656,79.9375 L47.375,79.9375 Q48.1875,79.9375 48.6094,79.5313 Q49.0313,79.125 49.0313,78.4844 Q49.0313,77.8594 48.6094,77.4531 Q48.1875,77.0469 47.3906,77.0469 L45.7656,77.0469 L45.7656,79.9375 Z \"/><text fill=\"#000000\" font-family=\"sans-serif\" font-size=\"12\" font-style=\"italic\" lengthAdjust=\"spacingAndGlyphs\" textLength=\"40\" x=\"59\" y=\"78.1387\">«part»</text><text fill=\"#000000\" font-family=\"sans-serif\" font-size=\"12\" lengthAdjust=\"spacingAndGlyphs\" textLength=\"14\" x=\"70\" y=\"92.1074\">v2</text><line style=\"stroke: #A80036; stroke-width: 1.5;\" x1=\"33\" x2=\"99\" y1=\"99.9375\" y2=\"99.9375\"/></a><!--MD5=[05d275557350bfb9b23a4ef7222b4c39]\n",
       "link E3 to E2--><a href=\"psysml:f9d68518-1ffd-4856-b3d4-4b8d752762cd\" target=\"_top\" title=\"psysml:f9d68518-1ffd-4856-b3d4-4b8d752762cd\" xlink:actuate=\"onRequest\" xlink:href=\"psysml:f9d68518-1ffd-4856-b3d4-4b8d752762cd\" xlink:show=\"new\" xlink:title=\"psysml:f9d68518-1ffd-4856-b3d4-4b8d752762cd\" xlink:type=\"simple\"><path d=\"M286.81,129.29 C280.44,142.29 273.36,156.77 266.6,170.58 \" fill=\"none\" id=\"E3-&gt;E2\" style=\"stroke: #A80036; stroke-width: 1.0;\"/><polygon fill=\"#FFFFFF\" points=\"257.69,188.78,259.7589,168.6375,272.3325,174.7943,257.69,188.78\" style=\"stroke: #A80036; stroke-width: 1.0;\"/><ellipse cx=\"264.0619\" cy=\"164.3978\" fill=\"#A80036\" rx=\"2\" ry=\"2\" style=\"stroke: #A80036; stroke-width: 1.0;\"/><ellipse cx=\"273.0429\" cy=\"168.7956\" fill=\"#A80036\" rx=\"2\" ry=\"2\" style=\"stroke: #A80036; stroke-width: 1.0;\"/></a><!--MD5=[185131fc0dcab0a4505a2ebe144e961b]\n",
       "link E4 to E2--><a href=\"psysml:13494711-98b1-4251-8963-46d1e0c35503\" target=\"_top\" title=\"psysml:13494711-98b1-4251-8963-46d1e0c35503\" xlink:actuate=\"onRequest\" xlink:href=\"psysml:13494711-98b1-4251-8963-46d1e0c35503\" xlink:show=\"new\" xlink:title=\"psysml:13494711-98b1-4251-8963-46d1e0c35503\" xlink:type=\"simple\"><path d=\"M201.34,126.21 C206.12,139.62 211.55,154.85 216.74,169.4 \" fill=\"none\" id=\"E4-&gt;E2\" style=\"stroke: #A80036; stroke-width: 1.0;\"/><polygon fill=\"none\" points=\"223.46,167.4,223.59,188.59,210.28,172.11,223.46,167.4\" style=\"stroke: #A80036; stroke-width: 1.0;\"/></a><!--MD5=[4f8509bfc192e6251b0e5d21edb853a5]\n",
       "@startuml\r\n",
       " \r\n",
       "package \"DefaultValueTest\" as E1  [[psysml:6839459c-d74b-4e54-a7fb-96b2013b0c1a ]]  {\r\n",
       "comp def \"V\" as E2 << << (B,green) >> [[psysml:f6ad7545-3639-41cb-8da0-571497d98dc5 ]] {\r\n",
       "- - attributes - -\r\n",
       "m=default = 10; \r\n",
       "n= 20; \r\n",
       "}\r\n",
       "comp usage \"v1: V \" as E3 << << (P,limegreen) part>> [[psysml:1ac351b0-bbdc-4492-9f99-b540f7d23706 ]] {\r\n",
       "- - attributes - -\r\n",
       "m= 20; \\n//:>>V::m// \r\n",
       "}\r\n",
       "comp def \"W\" as E4 << << (B,green) >> [[psysml:aeba74e7-35ad-441a-aaf4-220a7e48fb18 ]] {\r\n",
       "- - attributes - -\r\n",
       "m=default = n; \\n//:>>V::m// \r\n",
       "}\r\n",
       "comp usage \"v2 \" as E5 << << (P,limegreen) part>> [[psysml:8648f4f6-facd-4996-a918-0994903b340f ]] {\r\n",
       "}\r\n",
       "}\r\n",
       "E3 - -:|> E2 [[psysml:f9d68518-1ffd-4856-b3d4-4b8d752762cd ]] \r\n",
       "E4 - -|> E2 [[psysml:13494711-98b1-4251-8963-46d1e0c35503 ]] \r\n",
       "@enduml\r\n",
       "\n",
       "PlantUML version 1.2020.13(Sat Jun 13 12:26:38 UTC 2020)\n",
       "(EPL source distribution)\n",
       "Java Runtime: OpenJDK Runtime Environment\n",
       "JVM: OpenJDK 64-Bit Server VM\n",
       "Default Encoding: UTF-8\n",
       "Language: en\n",
       "Country: null\n",
       "--></g></svg>"
      ]
     },
     "execution_count": 31,
     "metadata": {},
     "output_type": "execute_result"
    }
   ],
   "source": [
    "%viz --style=\"PLANTUML\" --view=\"Tree\" \"DefaultValueTest\""
   ]
  },
  {
   "cell_type": "code",
   "execution_count": 32,
   "id": "cf72e55b",
   "metadata": {
    "execution": {
     "iopub.execute_input": "2022-02-18T10:51:41.585771Z",
     "iopub.status.busy": "2022-02-18T10:51:41.585338Z",
     "iopub.status.idle": "2022-02-18T10:51:41.666041Z",
     "shell.execute_reply": "2022-02-18T10:51:41.664687Z"
    }
   },
   "outputs": [
    {
     "data": {
      "image/svg+xml": [
       "<?xml version=\"1.0\" encoding=\"UTF-8\" standalone=\"no\"?><svg xmlns=\"http://www.w3.org/2000/svg\" xmlns:xlink=\"http://www.w3.org/1999/xlink\" contentScriptType=\"application/ecmascript\" contentStyleType=\"text/css\" height=\"300px\" preserveAspectRatio=\"none\" style=\"width:603px;height:300px;background:#000000;\" version=\"1.1\" viewBox=\"0 0 603 300\" width=\"603px\" zoomAndPan=\"magnify\"><defs/><g><rect fill=\"#091E1D\" height=\"1\" style=\"stroke: #091E1D; stroke-width: 1.0;\" width=\"1\" x=\"0\" y=\"0\"/><rect fill=\"#FFFFFF\" height=\"202.8012\" style=\"stroke: #FFFFFF; stroke-width: 1.0;\" width=\"602\" x=\"0\" y=\"0\"/><text fill=\"#000000\" font-family=\"sans-serif\" font-size=\"12\" font-weight=\"bold\" lengthAdjust=\"spacingAndGlyphs\" textLength=\"139\" x=\"5\" y=\"16.1387\">Welcome to PlantUML!</text><text fill=\"#000000\" font-family=\"sans-serif\" font-size=\"12\" lengthAdjust=\"spacingAndGlyphs\" textLength=\"0\" x=\"9\" y=\"30.1074\"/><text fill=\"#000000\" font-family=\"sans-serif\" font-size=\"12\" lengthAdjust=\"spacingAndGlyphs\" textLength=\"293\" x=\"5\" y=\"44.0762\">If you use this software, you accept its license.</text><text fill=\"#000000\" font-family=\"sans-serif\" font-size=\"12\" lengthAdjust=\"spacingAndGlyphs\" textLength=\"107\" x=\"5\" y=\"58.0449\">(details by typing</text><text fill=\"#000000\" font-family=\"monospace\" font-size=\"12\" lengthAdjust=\"spacingAndGlyphs\" textLength=\"42\" x=\"116\" y=\"58.595\">license</text><text fill=\"#000000\" font-family=\"sans-serif\" font-size=\"12\" lengthAdjust=\"spacingAndGlyphs\" textLength=\"56\" x=\"162\" y=\"58.0449\">keyword)</text><text fill=\"#000000\" font-family=\"sans-serif\" font-size=\"12\" lengthAdjust=\"spacingAndGlyphs\" textLength=\"0\" x=\"9\" y=\"72.0137\"/><text fill=\"#000000\" font-family=\"sans-serif\" font-size=\"12\" lengthAdjust=\"spacingAndGlyphs\" textLength=\"283\" x=\"5\" y=\"85.9824\">You can start with a simple UML Diagram like:</text><text fill=\"#000000\" font-family=\"sans-serif\" font-size=\"12\" lengthAdjust=\"spacingAndGlyphs\" textLength=\"0\" x=\"9\" y=\"99.9512\"/><text fill=\"#000000\" font-family=\"monospace\" font-size=\"12\" lengthAdjust=\"spacingAndGlyphs\" textLength=\"102\" x=\"5\" y=\"113.0893\">Bob-&gt;Alice: Hello</text><text fill=\"#000000\" font-family=\"sans-serif\" font-size=\"12\" lengthAdjust=\"spacingAndGlyphs\" textLength=\"0\" x=\"9\" y=\"126.508\"/><text fill=\"#000000\" font-family=\"sans-serif\" font-size=\"12\" lengthAdjust=\"spacingAndGlyphs\" textLength=\"14\" x=\"5\" y=\"140.4768\">Or</text><text fill=\"#000000\" font-family=\"sans-serif\" font-size=\"12\" lengthAdjust=\"spacingAndGlyphs\" textLength=\"0\" x=\"9\" y=\"154.4455\"/><text fill=\"#000000\" font-family=\"monospace\" font-size=\"12\" lengthAdjust=\"spacingAndGlyphs\" textLength=\"78\" x=\"5\" y=\"167.5837\">class Example</text><text fill=\"#000000\" font-family=\"sans-serif\" font-size=\"12\" lengthAdjust=\"spacingAndGlyphs\" textLength=\"0\" x=\"9\" y=\"181.0023\"/><text fill=\"#000000\" font-family=\"sans-serif\" font-size=\"12\" lengthAdjust=\"spacingAndGlyphs\" textLength=\"349\" x=\"5\" y=\"194.9711\">You will find more information about PlantUML syntax on</text><text fill=\"#000000\" font-family=\"sans-serif\" font-size=\"12\" lengthAdjust=\"spacingAndGlyphs\" text-decoration=\"underline\" textLength=\"129\" x=\"358\" y=\"194.9711\">https://plantuml.com</text><image height=\"71\" width=\"80\" x=\"516\" xlink:href=\"data:image/png;base64,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\" y=\"6\"/><rect fill=\"#000000\" height=\"96.4844\" style=\"stroke: #000000; stroke-width: 1.0;\" width=\"602\" x=\"0\" y=\"202.8012\"/><rect fill=\"#33FF02\" height=\"21.2969\" style=\"stroke: #33FF02; stroke-width: 1.0;\" width=\"145\" x=\"5\" y=\"207.8012\"/><text fill=\"#000000\" font-family=\"sans-serif\" font-size=\"14\" font-weight=\"bold\" lengthAdjust=\"spacingAndGlyphs\" textLength=\"143\" x=\"6\" y=\"222.8012\">[From string (line 2) ]</text><text fill=\"#33FF02\" font-family=\"sans-serif\" font-size=\"14\" font-weight=\"bold\" lengthAdjust=\"spacingAndGlyphs\" textLength=\"0\" x=\"9\" y=\"243.0981\"/><text fill=\"#33FF02\" font-family=\"sans-serif\" font-size=\"14\" font-weight=\"bold\" lengthAdjust=\"spacingAndGlyphs\" textLength=\"70\" x=\"5\" y=\"259.3949\">@startuml</text><text fill=\"#33FF02\" font-family=\"sans-serif\" font-size=\"14\" font-weight=\"bold\" lengthAdjust=\"spacingAndGlyphs\" textLength=\"0\" x=\"9\" y=\"275.6918\"/><text fill=\"#FF0000\" font-family=\"sans-serif\" font-size=\"14\" font-weight=\"bold\" lengthAdjust=\"spacingAndGlyphs\" textLength=\"124\" x=\"9\" y=\"291.9887\">Empty description</text><!--MD5=[f59edd8218d337f74d0c332fc6737304]\n",
       "@startuml\r\n",
       " \r\n",
       "@enduml\r\n",
       "\n",
       "PlantUML version 1.2020.13(Sat Jun 13 12:26:38 UTC 2020)\n",
       "(EPL source distribution)\n",
       "Java Runtime: OpenJDK Runtime Environment\n",
       "JVM: OpenJDK 64-Bit Server VM\n",
       "Default Encoding: UTF-8\n",
       "Language: en\n",
       "Country: null\n",
       "--></g></svg>"
      ]
     },
     "execution_count": 32,
     "metadata": {},
     "output_type": "execute_result"
    }
   ],
   "source": [
    "%viz --style=\"PLANTUML\" --view=\"State\" \"DefaultValueTest\""
   ]
  },
  {
   "cell_type": "code",
   "execution_count": 33,
   "id": "8c5fe3c8",
   "metadata": {
    "execution": {
     "iopub.execute_input": "2022-02-18T10:51:41.715420Z",
     "iopub.status.busy": "2022-02-18T10:51:41.714852Z",
     "iopub.status.idle": "2022-02-18T10:51:41.744268Z",
     "shell.execute_reply": "2022-02-18T10:51:41.742704Z"
    }
   },
   "outputs": [
    {
     "data": {
      "image/svg+xml": [
       "<?xml version=\"1.0\" encoding=\"UTF-8\" standalone=\"no\"?><svg xmlns=\"http://www.w3.org/2000/svg\" xmlns:xlink=\"http://www.w3.org/1999/xlink\" contentScriptType=\"application/ecmascript\" contentStyleType=\"text/css\" height=\"367px\" preserveAspectRatio=\"none\" style=\"width:523px;height:367px;\" version=\"1.1\" viewBox=\"0 0 523 367\" width=\"523px\" zoomAndPan=\"magnify\"><defs><filter height=\"300%\" id=\"f4z4a5k4xaf1d\" width=\"300%\" x=\"-1\" y=\"-1\"><feGaussianBlur result=\"blurOut\" stdDeviation=\"2.0\"/><feColorMatrix in=\"blurOut\" result=\"blurOut2\" type=\"matrix\" values=\"0 0 0 0 0 0 0 0 0 0 0 0 0 0 0 0 0 0 .4 0\"/><feOffset dx=\"4.0\" dy=\"4.0\" in=\"blurOut2\" result=\"blurOut3\"/><feBlend in=\"SourceGraphic\" in2=\"blurOut3\" mode=\"normal\"/></filter></defs><g><!--MD5=[fbc87193dbaf4d95561dea2c320d4a47]\n",
       "cluster E1--><a href=\"psysml:6839459c-d74b-4e54-a7fb-96b2013b0c1a\" target=\"_top\" title=\"psysml:6839459c-d74b-4e54-a7fb-96b2013b0c1a\" xlink:actuate=\"onRequest\" xlink:href=\"psysml:6839459c-d74b-4e54-a7fb-96b2013b0c1a\" xlink:show=\"new\" xlink:title=\"psysml:6839459c-d74b-4e54-a7fb-96b2013b0c1a\" xlink:type=\"simple\"><polygon fill=\"#FFFFFF\" filter=\"url(#f4z4a5k4xaf1d)\" points=\"16,6,140,6,147,28.2969,501,28.2969,501,355,16,355,16,6\" style=\"stroke: #000000; stroke-width: 1.5;\"/><line style=\"stroke: #000000; stroke-width: 1.5;\" x1=\"16\" x2=\"147\" y1=\"28.2969\" y2=\"28.2969\"/><text fill=\"#000000\" font-family=\"sans-serif\" font-size=\"14\" font-weight=\"bold\" lengthAdjust=\"spacingAndGlyphs\" textLength=\"118\" x=\"20\" y=\"20.9951\">DefaultValueTest</text></a><!--MD5=[e4f7fae6ed58524ba242bb0b0d3be6b7]\n",
       "cluster E2--><a href=\"psysml:f6ad7545-3639-41cb-8da0-571497d98dc5\" target=\"_top\" title=\"psysml:f6ad7545-3639-41cb-8da0-571497d98dc5\" xlink:actuate=\"onRequest\" xlink:href=\"psysml:f6ad7545-3639-41cb-8da0-571497d98dc5\" xlink:show=\"new\" xlink:title=\"psysml:f6ad7545-3639-41cb-8da0-571497d98dc5\" xlink:type=\"simple\"><rect fill=\"#FFFFFF\" filter=\"url(#f4z4a5k4xaf1d)\" height=\"113\" id=\"E2\" style=\"stroke: #A80036; stroke-width: 1.5;\" width=\"296\" x=\"153\" y=\"210\"/><rect fill=\"#FEFECE\" height=\"23.9688\" style=\"stroke: #A80036; stroke-width: 1.5;\" width=\"296\" x=\"153\" y=\"210\"/><text fill=\"#000000\" font-family=\"sans-serif\" font-size=\"12\" lengthAdjust=\"spacingAndGlyphs\" textLength=\"8\" x=\"297\" y=\"226.1387\">V</text></a><!--MD5=[de5ec2e2e8f62f467e546659f5068c88]\n",
       "cluster E5--><a href=\"psysml:1ac351b0-bbdc-4492-9f99-b540f7d23706\" target=\"_top\" title=\"psysml:1ac351b0-bbdc-4492-9f99-b540f7d23706\" xlink:actuate=\"onRequest\" xlink:href=\"psysml:1ac351b0-bbdc-4492-9f99-b540f7d23706\" xlink:show=\"new\" xlink:title=\"psysml:1ac351b0-bbdc-4492-9f99-b540f7d23706\" xlink:type=\"simple\"><rect fill=\"#FFFFFF\" filter=\"url(#f4z4a5k4xaf1d)\" height=\"97\" id=\"E5\" rx=\"10\" ry=\"10\" style=\"stroke: #A80036; stroke-width: 1.5;\" width=\"128\" x=\"349\" y=\"65\"/><rect fill=\"#FEFECE\" height=\"23.9688\" rx=\"10\" ry=\"10\" style=\"stroke: #FEFECE; stroke-width: 1.5;\" width=\"128\" x=\"349\" y=\"65\"/><rect fill=\"#FEFECE\" height=\"10\" style=\"stroke: #FEFECE; stroke-width: 1.5;\" width=\"128\" x=\"349\" y=\"78.9688\"/><rect fill=\"none\" height=\"97\" id=\"E5\" rx=\"10\" ry=\"10\" style=\"stroke: #A80036; stroke-width: 1.5;\" width=\"128\" x=\"349\" y=\"65\"/><text fill=\"#000000\" font-family=\"sans-serif\" font-size=\"12\" lengthAdjust=\"spacingAndGlyphs\" textLength=\"30\" x=\"398\" y=\"81.1387\">v1: V</text><line style=\"stroke: #A80036; stroke-width: 1.0;\" x1=\"349\" x2=\"477\" y1=\"88.9688\" y2=\"88.9688\"/></a><!--MD5=[168fadf3d0c3fd93dd5d6da1b1d7ab76]\n",
       "cluster E7--><a href=\"psysml:aeba74e7-35ad-441a-aaf4-220a7e48fb18\" target=\"_top\" title=\"psysml:aeba74e7-35ad-441a-aaf4-220a7e48fb18\" xlink:actuate=\"onRequest\" xlink:href=\"psysml:aeba74e7-35ad-441a-aaf4-220a7e48fb18\" xlink:show=\"new\" xlink:title=\"psysml:aeba74e7-35ad-441a-aaf4-220a7e48fb18\" xlink:type=\"simple\"><rect fill=\"#FFFFFF\" filter=\"url(#f4z4a5k4xaf1d)\" height=\"113\" id=\"E7\" style=\"stroke: #A80036; stroke-width: 1.5;\" width=\"164\" x=\"153\" y=\"57\"/><rect fill=\"#FEFECE\" height=\"23.9688\" style=\"stroke: #A80036; stroke-width: 1.5;\" width=\"164\" x=\"153\" y=\"57\"/><text fill=\"#000000\" font-family=\"sans-serif\" font-size=\"12\" lengthAdjust=\"spacingAndGlyphs\" textLength=\"11\" x=\"229.5\" y=\"73.1387\">W</text></a><!--MD5=[09b614a08d8cba4a07c9adeb5e0fee81]\n",
       "class E3--><a href=\"psysml:075fa6d2-8e51-4049-a184-a21376454cfa\" target=\"_top\" title=\"psysml:075fa6d2-8e51-4049-a184-a21376454cfa\" xlink:actuate=\"onRequest\" xlink:href=\"psysml:075fa6d2-8e51-4049-a184-a21376454cfa\" xlink:show=\"new\" xlink:title=\"psysml:075fa6d2-8e51-4049-a184-a21376454cfa\" xlink:type=\"simple\"><rect fill=\"#FEFECE\" filter=\"url(#f4z4a5k4xaf1d)\" height=\"45.9375\" id=\"E3\" rx=\"10\" ry=\"10\" style=\"stroke: #A80036; stroke-width: 1.5;\" width=\"97\" x=\"328.5\" y=\"253\"/><ellipse cx=\"343.5\" cy=\"271.9688\" fill=\"#FFA500\" rx=\"11\" ry=\"11\" style=\"stroke: #A80036; stroke-width: 1.0;\"/><path d=\"M343.25,277.4375 Q341.5,277.4375 340.5469,276.4063 Q339.6094,275.3594 339.6094,273.5156 L339.6094,266.625 L341.6719,266.625 L341.6719,266.7813 Q341.5781,266.875 341.5469,267.0156 Q341.5313,267.1406 341.5313,267.4063 L341.5313,273.5313 Q341.5313,274.625 341.9063,275.25 Q342.2813,275.875 343.2656,275.875 Q344.25,275.875 344.6406,275.25 Q345.0313,274.625 345.0313,273.4844 L345.0313,266.625 L346.9063,266.625 L346.9063,273.4688 Q346.9063,275.5 345.875,276.4688 Q344.8594,277.4375 343.25,277.4375 Z \"/><text fill=\"#000000\" font-family=\"sans-serif\" font-size=\"12\" font-style=\"italic\" lengthAdjust=\"spacingAndGlyphs\" textLength=\"69\" x=\"355.5\" y=\"269.1387\">«attribute»</text><text fill=\"#000000\" font-family=\"sans-serif\" font-size=\"12\" lengthAdjust=\"spacingAndGlyphs\" textLength=\"11\" x=\"382.5\" y=\"283.1074\">m</text><line style=\"stroke: #A80036; stroke-width: 1.5;\" x1=\"329.5\" x2=\"424.5\" y1=\"290.9375\" y2=\"290.9375\"/></a><!--MD5=[ebbe1d658d1005bcc118a6aa81145e00]\n",
       "class E4--><a href=\"psysml:0ef473ce-6f49-4b48-ae7c-25bde7c2058c\" target=\"_top\" title=\"psysml:0ef473ce-6f49-4b48-ae7c-25bde7c2058c\" xlink:actuate=\"onRequest\" xlink:href=\"psysml:0ef473ce-6f49-4b48-ae7c-25bde7c2058c\" xlink:show=\"new\" xlink:title=\"psysml:0ef473ce-6f49-4b48-ae7c-25bde7c2058c\" xlink:type=\"simple\"><rect fill=\"#FEFECE\" filter=\"url(#f4z4a5k4xaf1d)\" height=\"45.9375\" id=\"E4\" rx=\"10\" ry=\"10\" style=\"stroke: #A80036; stroke-width: 1.5;\" width=\"97\" x=\"196.5\" y=\"253\"/><ellipse cx=\"211.5\" cy=\"271.9688\" fill=\"#FFA500\" rx=\"11\" ry=\"11\" style=\"stroke: #A80036; stroke-width: 1.0;\"/><path d=\"M211.25,277.4375 Q209.5,277.4375 208.5469,276.4063 Q207.6094,275.3594 207.6094,273.5156 L207.6094,266.625 L209.6719,266.625 L209.6719,266.7813 Q209.5781,266.875 209.5469,267.0156 Q209.5313,267.1406 209.5313,267.4063 L209.5313,273.5313 Q209.5313,274.625 209.9063,275.25 Q210.2813,275.875 211.2656,275.875 Q212.25,275.875 212.6406,275.25 Q213.0313,274.625 213.0313,273.4844 L213.0313,266.625 L214.9063,266.625 L214.9063,273.4688 Q214.9063,275.5 213.875,276.4688 Q212.8594,277.4375 211.25,277.4375 Z \"/><text fill=\"#000000\" font-family=\"sans-serif\" font-size=\"12\" font-style=\"italic\" lengthAdjust=\"spacingAndGlyphs\" textLength=\"69\" x=\"223.5\" y=\"269.1387\">«attribute»</text><text fill=\"#000000\" font-family=\"sans-serif\" font-size=\"12\" lengthAdjust=\"spacingAndGlyphs\" textLength=\"8\" x=\"252\" y=\"283.1074\">n</text><line style=\"stroke: #A80036; stroke-width: 1.5;\" x1=\"197.5\" x2=\"292.5\" y1=\"290.9375\" y2=\"290.9375\"/></a><!--MD5=[60a26617385b1d2d0262a64233df1f8d]\n",
       "class E6--><a href=\"psysml:ec8a8e56-fcc6-4673-8c8e-468b75026770\" target=\"_top\" title=\"psysml:ec8a8e56-fcc6-4673-8c8e-468b75026770\" xlink:actuate=\"onRequest\" xlink:href=\"psysml:ec8a8e56-fcc6-4673-8c8e-468b75026770\" xlink:show=\"new\" xlink:title=\"psysml:ec8a8e56-fcc6-4673-8c8e-468b75026770\" xlink:type=\"simple\"><rect fill=\"#FEFECE\" filter=\"url(#f4z4a5k4xaf1d)\" height=\"45.9375\" id=\"E6\" rx=\"10\" ry=\"10\" style=\"stroke: #A80036; stroke-width: 1.5;\" width=\"97\" x=\"364.5\" y=\"100\"/><ellipse cx=\"379.5\" cy=\"118.9688\" fill=\"#FFA500\" rx=\"11\" ry=\"11\" style=\"stroke: #A80036; stroke-width: 1.0;\"/><path d=\"M379.25,124.4375 Q377.5,124.4375 376.5469,123.4063 Q375.6094,122.3594 375.6094,120.5156 L375.6094,113.625 L377.6719,113.625 L377.6719,113.7813 Q377.5781,113.875 377.5469,114.0156 Q377.5313,114.1406 377.5313,114.4063 L377.5313,120.5313 Q377.5313,121.625 377.9063,122.25 Q378.2813,122.875 379.2656,122.875 Q380.25,122.875 380.6406,122.25 Q381.0313,121.625 381.0313,120.4844 L381.0313,113.625 L382.9063,113.625 L382.9063,120.4688 Q382.9063,122.5 381.875,123.4688 Q380.8594,124.4375 379.25,124.4375 Z \"/><text fill=\"#000000\" font-family=\"sans-serif\" font-size=\"12\" font-style=\"italic\" lengthAdjust=\"spacingAndGlyphs\" textLength=\"69\" x=\"391.5\" y=\"116.1387\">«attribute»</text><text fill=\"#000000\" font-family=\"sans-serif\" font-size=\"12\" lengthAdjust=\"spacingAndGlyphs\" textLength=\"11\" x=\"418.5\" y=\"130.1074\">m</text><line style=\"stroke: #A80036; stroke-width: 1.5;\" x1=\"365.5\" x2=\"460.5\" y1=\"137.9375\" y2=\"137.9375\"/></a><!--MD5=[b9389687b975829384b498ac4b7476b2]\n",
       "class E8--><a href=\"psysml:38866ed6-d027-47ed-9e9b-10f0103d500c\" target=\"_top\" title=\"psysml:38866ed6-d027-47ed-9e9b-10f0103d500c\" xlink:actuate=\"onRequest\" xlink:href=\"psysml:38866ed6-d027-47ed-9e9b-10f0103d500c\" xlink:show=\"new\" xlink:title=\"psysml:38866ed6-d027-47ed-9e9b-10f0103d500c\" xlink:type=\"simple\"><rect fill=\"#FEFECE\" filter=\"url(#f4z4a5k4xaf1d)\" height=\"45.9375\" id=\"E8\" rx=\"10\" ry=\"10\" style=\"stroke: #A80036; stroke-width: 1.5;\" width=\"97\" x=\"196.5\" y=\"100\"/><ellipse cx=\"211.5\" cy=\"118.9688\" fill=\"#FFA500\" rx=\"11\" ry=\"11\" style=\"stroke: #A80036; stroke-width: 1.0;\"/><path d=\"M211.25,124.4375 Q209.5,124.4375 208.5469,123.4063 Q207.6094,122.3594 207.6094,120.5156 L207.6094,113.625 L209.6719,113.625 L209.6719,113.7813 Q209.5781,113.875 209.5469,114.0156 Q209.5313,114.1406 209.5313,114.4063 L209.5313,120.5313 Q209.5313,121.625 209.9063,122.25 Q210.2813,122.875 211.2656,122.875 Q212.25,122.875 212.6406,122.25 Q213.0313,121.625 213.0313,120.4844 L213.0313,113.625 L214.9063,113.625 L214.9063,120.4688 Q214.9063,122.5 213.875,123.4688 Q212.8594,124.4375 211.25,124.4375 Z \"/><text fill=\"#000000\" font-family=\"sans-serif\" font-size=\"12\" font-style=\"italic\" lengthAdjust=\"spacingAndGlyphs\" textLength=\"69\" x=\"223.5\" y=\"116.1387\">«attribute»</text><text fill=\"#000000\" font-family=\"sans-serif\" font-size=\"12\" lengthAdjust=\"spacingAndGlyphs\" textLength=\"11\" x=\"250.5\" y=\"130.1074\">m</text><line style=\"stroke: #A80036; stroke-width: 1.5;\" x1=\"197.5\" x2=\"292.5\" y1=\"137.9375\" y2=\"137.9375\"/></a><g id=\"E1.E9\"><a href=\"psysml:8648f4f6-facd-4996-a918-0994903b340f\" target=\"_top\" title=\"psysml:8648f4f6-facd-4996-a918-0994903b340f\" xlink:actuate=\"onRequest\" xlink:href=\"psysml:8648f4f6-facd-4996-a918-0994903b340f\" xlink:show=\"new\" xlink:title=\"psysml:8648f4f6-facd-4996-a918-0994903b340f\" xlink:type=\"simple\"><rect fill=\"#FEFECE\" filter=\"url(#f4z4a5k4xaf1d)\" height=\"40\" id=\"E9\" rx=\"10\" ry=\"10\" style=\"stroke: #A80036; stroke-width: 1.5;\" width=\"94\" x=\"32\" y=\"103\"/><ellipse cx=\"49.25\" cy=\"119\" fill=\"#B6DBBB\" rx=\"11\" ry=\"11\" style=\"stroke: #A80036; stroke-width: 1.0;\"/><path d=\"M49,124.4688 Q47.25,124.4688 46.2969,123.4375 Q45.3594,122.3906 45.3594,120.5469 L45.3594,113.6563 L47.4219,113.6563 L47.4219,113.8125 Q47.3281,113.9063 47.2969,114.0469 Q47.2813,114.1719 47.2813,114.4375 L47.2813,120.5625 Q47.2813,121.6563 47.6563,122.2813 Q48.0313,122.9063 49.0156,122.9063 Q50,122.9063 50.3906,122.2813 Q50.7813,121.6563 50.7813,120.5156 L50.7813,113.6563 L52.6563,113.6563 L52.6563,120.5 Q52.6563,122.5313 51.625,123.5 Q50.6094,124.4688 49,124.4688 Z \"/><text fill=\"#000000\" font-family=\"sans-serif\" font-size=\"12\" lengthAdjust=\"spacingAndGlyphs\" textLength=\"53\" x=\"63.75\" y=\"123.1543\">v2= W();</text></a></g><!--MD5=[a717450b82c80b9240a525fa862496af]\n",
       "link E6 to E3--><a href=\"psysml:319addec-2b51-47f0-a10b-c2bc2405cd29\" target=\"_top\" title=\"psysml:319addec-2b51-47f0-a10b-c2bc2405cd29\" xlink:actuate=\"onRequest\" xlink:href=\"psysml:319addec-2b51-47f0-a10b-c2bc2405cd29\" xlink:show=\"new\" xlink:title=\"psysml:319addec-2b51-47f0-a10b-c2bc2405cd29\" xlink:type=\"simple\"><path d=\"M407.69,146.28 C402.26,169.03 393.71,204.9 387.01,233 \" fill=\"none\" id=\"E6-&gt;E3\" style=\"stroke: #A80036; stroke-width: 1.0;\"/><polygon fill=\"#FFFFFF\" points=\"382.33,252.63,379.9311,232.5241,393.5488,235.7736,382.33,252.63\" style=\"stroke: #A80036; stroke-width: 1.0;\"/><line style=\"stroke: #A80036; stroke-width: 2.0;\" x1=\"380.8131\" x2=\"394.4308\" y1=\"228.8279\" y2=\"232.0774\"/></a><!--MD5=[583832df87f4419a098336a29a52fa00]\n",
       "link E7 to E2--><a href=\"psysml:13494711-98b1-4251-8963-46d1e0c35503\" target=\"_top\" title=\"psysml:13494711-98b1-4251-8963-46d1e0c35503\" xlink:actuate=\"onRequest\" xlink:href=\"psysml:13494711-98b1-4251-8963-46d1e0c35503\" xlink:show=\"new\" xlink:title=\"psysml:13494711-98b1-4251-8963-46d1e0c35503\" xlink:type=\"simple\"><path d=\"M161,170.2205 C161,170.4862 161,170.7525 161,171.0194 C161,171.5532 161,172.0891 161,172.6272 C161,181.2363 161,190.3816 161,199.5262 C161,201.8124 161,204.0986 161,206.3763 C161,207.5151 161,208.6519 161,209.7855 \" fill=\"none\" id=\"E7-&gt;E2\" style=\"stroke: #A80036; stroke-width: 1.0;\"/><polygon fill=\"#FFFFFF\" points=\"161,209.7855,168,190.7855,154,190.7855,161,209.7855\" style=\"stroke: #A80036; stroke-width: 1.0;\"/></a><!--MD5=[95fa686b5a16158bcdbcaeead89f639b]\n",
       "link E8 to E3--><a href=\"psysml:27f15f96-8451-4ffb-b537-81d2f9d472fa\" target=\"_top\" title=\"psysml:27f15f96-8451-4ffb-b537-81d2f9d472fa\" xlink:actuate=\"onRequest\" xlink:href=\"psysml:27f15f96-8451-4ffb-b537-81d2f9d472fa\" xlink:show=\"new\" xlink:title=\"psysml:27f15f96-8451-4ffb-b537-81d2f9d472fa\" xlink:type=\"simple\"><path d=\"M266.52,146 C279.63,159.6 296.57,177.55 311,194 C323.16,207.87 336.07,223.49 347.22,237.3 \" fill=\"none\" id=\"E8-&gt;E3\" style=\"stroke: #A80036; stroke-width: 1.0;\"/><polygon fill=\"#FFFFFF\" points=\"359.77,252.99,342.437,242.5225,353.3712,233.7792,359.77,252.99\" style=\"stroke: #A80036; stroke-width: 1.0;\"/><line style=\"stroke: #A80036; stroke-width: 2.0;\" x1=\"340.0639\" x2=\"350.998\" y1=\"239.5547\" y2=\"230.8114\"/></a><!--MD5=[5be52f5b4b6877563374d8ac6841ad78]\n",
       "@startuml\r\n",
       "skinparam ranksep 10\r\n",
       "skinparam rectangle {\r\n",
       " backgroundColor<<block>> LightGreen\r\n",
       "}\r\n",
       " \r\n",
       "package \"DefaultValueTest\" as E1  [[psysml:6839459c-d74b-4e54-a7fb-96b2013b0c1a ]]  {\r\n",
       "rec def \"V\" as E2 << << (B,green) >> [[psysml:f6ad7545-3639-41cb-8da0-571497d98dc5 ]] {\r\n",
       "comp usage \"m \" as E3 << <<(U,orange) attribute>> [[psysml:075fa6d2-8e51-4049-a184-a21376454cfa ]] {\r\n",
       "}\r\n",
       "comp usage \"n \" as E4 << <<(U,orange) attribute>> [[psysml:0ef473ce-6f49-4b48-ae7c-25bde7c2058c ]] {\r\n",
       "}\r\n",
       "}\r\n",
       "rec usage \"v1: V\" as E5  [[psysml:1ac351b0-bbdc-4492-9f99-b540f7d23706 ]] {\r\n",
       "comp usage \"m \" as E6 << <<(U,orange) attribute>> [[psysml:ec8a8e56-fcc6-4673-8c8e-468b75026770 ]] {\r\n",
       "}\r\n",
       "}\r\n",
       "rec def \"W\" as E7 << << (B,green) >> [[psysml:aeba74e7-35ad-441a-aaf4-220a7e48fb18 ]] {\r\n",
       "comp usage \"m \" as E8 << <<(U,orange) attribute>> [[psysml:38866ed6-d027-47ed-9e9b-10f0103d500c ]] {\r\n",
       "}\r\n",
       "}\r\n",
       "rec usage \"v2= W(); \" as E9  [[psysml:8648f4f6-facd-4996-a918-0994903b340f ]] {\r\n",
       "}\r\n",
       "}\r\n",
       "E6 - -||> E3 [[psysml:319addec-2b51-47f0-a10b-c2bc2405cd29 ]] \r\n",
       "E7 - -|> E2 [[psysml:13494711-98b1-4251-8963-46d1e0c35503 ]] \r\n",
       "E8 - -||> E3 [[psysml:27f15f96-8451-4ffb-b537-81d2f9d472fa ]] \r\n",
       "@enduml\r\n",
       "\n",
       "PlantUML version 1.2020.13(Sat Jun 13 12:26:38 UTC 2020)\n",
       "(EPL source distribution)\n",
       "Java Runtime: OpenJDK Runtime Environment\n",
       "JVM: OpenJDK 64-Bit Server VM\n",
       "Default Encoding: UTF-8\n",
       "Language: en\n",
       "Country: null\n",
       "--></g></svg>"
      ]
     },
     "execution_count": 33,
     "metadata": {},
     "output_type": "execute_result"
    }
   ],
   "source": [
    "%viz --style=\"PLANTUML\" --view=\"Interconnection\" \"DefaultValueTest\""
   ]
  },
  {
   "cell_type": "code",
   "execution_count": 34,
   "id": "03340fb3",
   "metadata": {
    "execution": {
     "iopub.execute_input": "2022-02-18T10:51:41.793378Z",
     "iopub.status.busy": "2022-02-18T10:51:41.792954Z",
     "iopub.status.idle": "2022-02-18T10:51:41.796744Z",
     "shell.execute_reply": "2022-02-18T10:51:41.797053Z"
    }
   },
   "outputs": [
    {
     "data": {
      "image/svg+xml": [
       "<?xml version=\"1.0\" encoding=\"UTF-8\" standalone=\"no\"?><svg xmlns=\"http://www.w3.org/2000/svg\" xmlns:xlink=\"http://www.w3.org/1999/xlink\" contentScriptType=\"application/ecmascript\" contentStyleType=\"text/css\" height=\"12px\" preserveAspectRatio=\"none\" style=\"width:12px;height:12px;\" version=\"1.1\" viewBox=\"0 0 12 12\" width=\"12px\" zoomAndPan=\"magnify\"><defs/><g><!--MD5=[6a4cb978cab31700e1ce5529f947a75d]\n",
       "@startuml\r\n",
       "skinparam ranksep 8\r\n",
       " \r\n",
       "@enduml\r\n",
       "\n",
       "PlantUML version 1.2020.13(Sat Jun 13 12:26:38 UTC 2020)\n",
       "(EPL source distribution)\n",
       "Java Runtime: OpenJDK Runtime Environment\n",
       "JVM: OpenJDK 64-Bit Server VM\n",
       "Default Encoding: UTF-8\n",
       "Language: en\n",
       "Country: null\n",
       "--></g></svg>"
      ]
     },
     "execution_count": 34,
     "metadata": {},
     "output_type": "execute_result"
    }
   ],
   "source": [
    "%viz --style=\"PLANTUML\" --view=\"Action\" \"DefaultValueTest\""
   ]
  },
  {
   "cell_type": "code",
   "execution_count": 35,
   "id": "3c238e45",
   "metadata": {
    "execution": {
     "iopub.execute_input": "2022-02-18T10:51:41.847021Z",
     "iopub.status.busy": "2022-02-18T10:51:41.846626Z",
     "iopub.status.idle": "2022-02-18T10:51:41.850446Z",
     "shell.execute_reply": "2022-02-18T10:51:41.850730Z"
    }
   },
   "outputs": [
    {
     "data": {
      "image/svg+xml": [
       "<?xml version=\"1.0\" encoding=\"UTF-8\" standalone=\"no\"?><svg xmlns=\"http://www.w3.org/2000/svg\" xmlns:xlink=\"http://www.w3.org/1999/xlink\" contentScriptType=\"application/ecmascript\" contentStyleType=\"text/css\" height=\"12px\" preserveAspectRatio=\"none\" style=\"width:12px;height:12px;\" version=\"1.1\" viewBox=\"0 0 12 12\" width=\"12px\" zoomAndPan=\"magnify\"><defs/><g><!--MD5=[ca4faa0b02def275ea33c14ea7a1a98d]\n",
       "@startuml\r\n",
       "skinparam roundcorner 20\r\n",
       "skinparam BoxPadding 20\r\n",
       "skinparam SequenceBoxBackgroundColor #white\r\n",
       "skinparam style strictuml\r\n",
       "skinparam maxMessageSize 100\r\n",
       " \r\n",
       "@enduml\r\n",
       "\n",
       "PlantUML version 1.2020.13(Sat Jun 13 12:26:38 UTC 2020)\n",
       "(EPL source distribution)\n",
       "Java Runtime: OpenJDK Runtime Environment\n",
       "JVM: OpenJDK 64-Bit Server VM\n",
       "Default Encoding: UTF-8\n",
       "Language: en\n",
       "Country: null\n",
       "--></g></svg>"
      ]
     },
     "execution_count": 35,
     "metadata": {},
     "output_type": "execute_result"
    }
   ],
   "source": [
    "%viz --style=\"PLANTUML\" --view=\"Sequence\" \"DefaultValueTest\""
   ]
  },
  {
   "cell_type": "code",
   "execution_count": 36,
   "id": "4db7f746",
   "metadata": {
    "execution": {
     "iopub.execute_input": "2022-02-18T10:51:41.901096Z",
     "iopub.status.busy": "2022-02-18T10:51:41.900573Z",
     "iopub.status.idle": "2022-02-18T10:51:41.987626Z",
     "shell.execute_reply": "2022-02-18T10:51:41.987252Z"
    }
   },
   "outputs": [
    {
     "data": {
      "image/svg+xml": [
       "<?xml version=\"1.0\" encoding=\"UTF-8\" standalone=\"no\"?><svg xmlns=\"http://www.w3.org/2000/svg\" xmlns:xlink=\"http://www.w3.org/1999/xlink\" contentScriptType=\"application/ecmascript\" contentStyleType=\"text/css\" height=\"299px\" preserveAspectRatio=\"none\" style=\"width:380px;height:299px;\" version=\"1.1\" viewBox=\"0 0 380 299\" width=\"380px\" zoomAndPan=\"magnify\"><defs><filter height=\"300%\" id=\"f1uvk9cf10s395\" width=\"300%\" x=\"-1\" y=\"-1\"><feGaussianBlur result=\"blurOut\" stdDeviation=\"2.0\"/><feColorMatrix in=\"blurOut\" result=\"blurOut2\" type=\"matrix\" values=\"0 0 0 0 0 0 0 0 0 0 0 0 0 0 0 0 0 0 .4 0\"/><feOffset dx=\"4.0\" dy=\"4.0\" in=\"blurOut2\" result=\"blurOut3\"/><feBlend in=\"SourceGraphic\" in2=\"blurOut3\" mode=\"normal\"/></filter></defs><g><!--MD5=[fbc87193dbaf4d95561dea2c320d4a47]\n",
       "cluster E1--><a href=\"psysml:6839459c-d74b-4e54-a7fb-96b2013b0c1a\" target=\"_top\" title=\"psysml:6839459c-d74b-4e54-a7fb-96b2013b0c1a\" xlink:actuate=\"onRequest\" xlink:href=\"psysml:6839459c-d74b-4e54-a7fb-96b2013b0c1a\" xlink:show=\"new\" xlink:title=\"psysml:6839459c-d74b-4e54-a7fb-96b2013b0c1a\" xlink:type=\"simple\"><polygon fill=\"#FFFFFF\" filter=\"url(#f1uvk9cf10s395)\" points=\"16,6,140,6,147,28.2969,358,28.2969,358,287,16,287,16,6\" style=\"stroke: #000000; stroke-width: 1.5;\"/><line style=\"stroke: #000000; stroke-width: 1.5;\" x1=\"16\" x2=\"147\" y1=\"28.2969\" y2=\"28.2969\"/><text fill=\"#000000\" font-family=\"sans-serif\" font-size=\"14\" font-weight=\"bold\" lengthAdjust=\"spacingAndGlyphs\" textLength=\"118\" x=\"20\" y=\"20.9951\">DefaultValueTest</text></a><!--MD5=[b4997ac47864f28c2f74865a473b2911]\n",
       "class E2--><a href=\"psysml:f6ad7545-3639-41cb-8da0-571497d98dc5\" target=\"_top\" title=\"psysml:f6ad7545-3639-41cb-8da0-571497d98dc5\" xlink:actuate=\"onRequest\" xlink:href=\"psysml:f6ad7545-3639-41cb-8da0-571497d98dc5\" xlink:show=\"new\" xlink:title=\"psysml:f6ad7545-3639-41cb-8da0-571497d98dc5\" xlink:type=\"simple\"><rect fill=\"#FEFECE\" filter=\"url(#f1uvk9cf10s395)\" height=\"82.4141\" id=\"E2\" style=\"stroke: #A80036; stroke-width: 1.5;\" width=\"106\" x=\"185\" y=\"189\"/><ellipse cx=\"229.75\" cy=\"205\" fill=\"#008000\" rx=\"11\" ry=\"11\" style=\"stroke: #A80036; stroke-width: 1.0;\"/><path d=\"M226.625,210 L226.625,199.4063 L229.8594,199.4063 Q231.7656,199.4063 232.6719,200.1563 Q233.5938,200.9063 233.5938,202.0781 Q233.5938,202.7656 233.2031,203.4219 Q232.8281,204.0781 232.1094,204.375 Q232.9688,204.75 233.4844,205.4375 Q234,206.125 234,206.9375 Q234,208.3125 232.9688,209.1563 Q231.9531,210 229.8438,210 L226.625,210 Z M228.5469,203.6406 L229.7031,203.6406 Q230.8281,203.6406 231.2344,203.2656 Q231.6563,202.875 231.6563,202.25 Q231.6563,201.6719 231.2344,201.3125 Q230.8125,200.9531 229.875,200.9531 L228.5469,200.9531 L228.5469,203.6406 Z M228.5469,208.4219 L230.0469,208.4219 Q230.9531,208.4219 231.4844,208.0313 Q232.0156,207.6406 232.0156,206.8906 Q232.0156,206.125 231.5156,205.6563 Q231.0156,205.1719 229.75,205.1719 L228.5469,205.1719 L228.5469,208.4219 Z \"/><text fill=\"#000000\" font-family=\"sans-serif\" font-size=\"12\" lengthAdjust=\"spacingAndGlyphs\" textLength=\"8\" x=\"250.25\" y=\"209.1543\">V</text><line style=\"stroke: #A80036; stroke-width: 1.5;\" x1=\"186\" x2=\"290\" y1=\"221\" y2=\"221\"/><text fill=\"#000000\" font-family=\"sans-serif\" font-size=\"11\" lengthAdjust=\"spacingAndGlyphs\" textLength=\"94\" x=\"191\" y=\"252.0151\">m=default = 10;</text><text fill=\"#000000\" font-family=\"sans-serif\" font-size=\"11\" lengthAdjust=\"spacingAndGlyphs\" textLength=\"38\" x=\"191\" y=\"264.8198\">n= 20;</text><line style=\"stroke: #A80036; stroke-width: 1.0;\" x1=\"186\" x2=\"210.5\" y1=\"235.4023\" y2=\"235.4023\"/><text fill=\"#000000\" font-family=\"sans-serif\" font-size=\"11\" lengthAdjust=\"spacingAndGlyphs\" textLength=\"55\" x=\"210.5\" y=\"238.7104\">attributes</text><line style=\"stroke: #A80036; stroke-width: 1.0;\" x1=\"265.5\" x2=\"290\" y1=\"235.4023\" y2=\"235.4023\"/></a><!--MD5=[09b614a08d8cba4a07c9adeb5e0fee81]\n",
       "class E3--><a href=\"psysml:1ac351b0-bbdc-4492-9f99-b540f7d23706\" target=\"_top\" title=\"psysml:1ac351b0-bbdc-4492-9f99-b540f7d23706\" xlink:actuate=\"onRequest\" xlink:href=\"psysml:1ac351b0-bbdc-4492-9f99-b540f7d23706\" xlink:show=\"new\" xlink:title=\"psysml:1ac351b0-bbdc-4492-9f99-b540f7d23706\" xlink:type=\"simple\"><rect fill=\"#FEFECE\" filter=\"url(#f1uvk9cf10s395)\" height=\"88.3516\" id=\"E3\" rx=\"10\" ry=\"10\" style=\"stroke: #A80036; stroke-width: 1.5;\" width=\"68\" x=\"274\" y=\"41\"/><ellipse cx=\"289\" cy=\"59.9688\" fill=\"#32CD32\" rx=\"11\" ry=\"11\" style=\"stroke: #A80036; stroke-width: 1.0;\"/><path d=\"M285.8125,64.9688 L285.8125,54.375 L289.4219,54.375 Q290.6406,54.375 291.4375,54.8125 Q292.2344,55.2344 292.6094,55.9375 Q293,56.6406 293,57.4844 Q293,58.3281 292.625,59.0156 Q292.2656,59.7031 291.4688,60.125 Q290.6875,60.5313 289.5,60.5313 L287.7656,60.5313 L287.7656,64.9688 L285.8125,64.9688 Z M287.7656,58.9375 L289.375,58.9375 Q290.1875,58.9375 290.6094,58.5313 Q291.0313,58.125 291.0313,57.4844 Q291.0313,56.8594 290.6094,56.4531 Q290.1875,56.0469 289.3906,56.0469 L287.7656,56.0469 L287.7656,58.9375 Z \"/><text fill=\"#000000\" font-family=\"sans-serif\" font-size=\"12\" font-style=\"italic\" lengthAdjust=\"spacingAndGlyphs\" textLength=\"40\" x=\"301\" y=\"57.1387\">«part»</text><text fill=\"#000000\" font-family=\"sans-serif\" font-size=\"12\" lengthAdjust=\"spacingAndGlyphs\" textLength=\"30\" x=\"304\" y=\"71.1074\">v1: V</text><line style=\"stroke: #A80036; stroke-width: 1.5;\" x1=\"275\" x2=\"341\" y1=\"78.9375\" y2=\"78.9375\"/><text fill=\"#000000\" font-family=\"sans-serif\" font-size=\"11\" lengthAdjust=\"spacingAndGlyphs\" textLength=\"42\" x=\"280\" y=\"109.9526\">m= 20;</text><text fill=\"#000000\" font-family=\"sans-serif\" font-size=\"11\" font-style=\"italic\" lengthAdjust=\"spacingAndGlyphs\" textLength=\"48\" x=\"280\" y=\"122.7573\">:&gt;&gt;V::m</text><line style=\"stroke: #A80036; stroke-width: 1.0;\" x1=\"275\" x2=\"280.5\" y1=\"93.3398\" y2=\"93.3398\"/><text fill=\"#000000\" font-family=\"sans-serif\" font-size=\"11\" lengthAdjust=\"spacingAndGlyphs\" textLength=\"55\" x=\"280.5\" y=\"96.6479\">attributes</text><line style=\"stroke: #A80036; stroke-width: 1.0;\" x1=\"335.5\" x2=\"341\" y1=\"93.3398\" y2=\"93.3398\"/></a><!--MD5=[ebbe1d658d1005bcc118a6aa81145e00]\n",
       "class E4--><a href=\"psysml:aeba74e7-35ad-441a-aaf4-220a7e48fb18\" target=\"_top\" title=\"psysml:aeba74e7-35ad-441a-aaf4-220a7e48fb18\" xlink:actuate=\"onRequest\" xlink:href=\"psysml:aeba74e7-35ad-441a-aaf4-220a7e48fb18\" xlink:show=\"new\" xlink:title=\"psysml:aeba74e7-35ad-441a-aaf4-220a7e48fb18\" xlink:type=\"simple\"><rect fill=\"#FEFECE\" filter=\"url(#f1uvk9cf10s395)\" height=\"82.4141\" id=\"E4\" style=\"stroke: #A80036; stroke-width: 1.5;\" width=\"103\" x=\"135.5\" y=\"44\"/><ellipse cx=\"177.5\" cy=\"60\" fill=\"#008000\" rx=\"11\" ry=\"11\" style=\"stroke: #A80036; stroke-width: 1.0;\"/><path d=\"M174.375,65 L174.375,54.4063 L177.6094,54.4063 Q179.5156,54.4063 180.4219,55.1563 Q181.3438,55.9063 181.3438,57.0781 Q181.3438,57.7656 180.9531,58.4219 Q180.5781,59.0781 179.8594,59.375 Q180.7188,59.75 181.2344,60.4375 Q181.75,61.125 181.75,61.9375 Q181.75,63.3125 180.7188,64.1563 Q179.7031,65 177.5938,65 L174.375,65 Z M176.2969,58.6406 L177.4531,58.6406 Q178.5781,58.6406 178.9844,58.2656 Q179.4063,57.875 179.4063,57.25 Q179.4063,56.6719 178.9844,56.3125 Q178.5625,55.9531 177.625,55.9531 L176.2969,55.9531 L176.2969,58.6406 Z M176.2969,63.4219 L177.7969,63.4219 Q178.7031,63.4219 179.2344,63.0313 Q179.7656,62.6406 179.7656,61.8906 Q179.7656,61.125 179.2656,60.6563 Q178.7656,60.1719 177.5,60.1719 L176.2969,60.1719 L176.2969,63.4219 Z \"/><text fill=\"#000000\" font-family=\"sans-serif\" font-size=\"12\" lengthAdjust=\"spacingAndGlyphs\" textLength=\"11\" x=\"197.5\" y=\"64.1543\">W</text><line style=\"stroke: #A80036; stroke-width: 1.5;\" x1=\"136.5\" x2=\"237.5\" y1=\"76\" y2=\"76\"/><text fill=\"#000000\" font-family=\"sans-serif\" font-size=\"11\" lengthAdjust=\"spacingAndGlyphs\" textLength=\"87\" x=\"141.5\" y=\"107.0151\">m=default = n;</text><text fill=\"#000000\" font-family=\"sans-serif\" font-size=\"11\" font-style=\"italic\" lengthAdjust=\"spacingAndGlyphs\" textLength=\"48\" x=\"141.5\" y=\"119.8198\">:&gt;&gt;V::m</text><line style=\"stroke: #A80036; stroke-width: 1.0;\" x1=\"136.5\" x2=\"159.5\" y1=\"90.4023\" y2=\"90.4023\"/><text fill=\"#000000\" font-family=\"sans-serif\" font-size=\"11\" lengthAdjust=\"spacingAndGlyphs\" textLength=\"55\" x=\"159.5\" y=\"93.7104\">attributes</text><line style=\"stroke: #A80036; stroke-width: 1.0;\" x1=\"214.5\" x2=\"237.5\" y1=\"90.4023\" y2=\"90.4023\"/></a><!--MD5=[270fce915f116d4de14055a7c1d9a0f3]\n",
       "class E5--><a href=\"psysml:8648f4f6-facd-4996-a918-0994903b340f\" target=\"_top\" title=\"psysml:8648f4f6-facd-4996-a918-0994903b340f\" xlink:actuate=\"onRequest\" xlink:href=\"psysml:8648f4f6-facd-4996-a918-0994903b340f\" xlink:show=\"new\" xlink:title=\"psysml:8648f4f6-facd-4996-a918-0994903b340f\" xlink:type=\"simple\"><rect fill=\"#FEFECE\" filter=\"url(#f1uvk9cf10s395)\" height=\"45.9375\" id=\"E5\" rx=\"10\" ry=\"10\" style=\"stroke: #A80036; stroke-width: 1.5;\" width=\"68\" x=\"32\" y=\"62\"/><ellipse cx=\"47\" cy=\"80.9688\" fill=\"#32CD32\" rx=\"11\" ry=\"11\" style=\"stroke: #A80036; stroke-width: 1.0;\"/><path d=\"M43.8125,85.9688 L43.8125,75.375 L47.4219,75.375 Q48.6406,75.375 49.4375,75.8125 Q50.2344,76.2344 50.6094,76.9375 Q51,77.6406 51,78.4844 Q51,79.3281 50.625,80.0156 Q50.2656,80.7031 49.4688,81.125 Q48.6875,81.5313 47.5,81.5313 L45.7656,81.5313 L45.7656,85.9688 L43.8125,85.9688 Z M45.7656,79.9375 L47.375,79.9375 Q48.1875,79.9375 48.6094,79.5313 Q49.0313,79.125 49.0313,78.4844 Q49.0313,77.8594 48.6094,77.4531 Q48.1875,77.0469 47.3906,77.0469 L45.7656,77.0469 L45.7656,79.9375 Z \"/><text fill=\"#000000\" font-family=\"sans-serif\" font-size=\"12\" font-style=\"italic\" lengthAdjust=\"spacingAndGlyphs\" textLength=\"40\" x=\"59\" y=\"78.1387\">«part»</text><text fill=\"#000000\" font-family=\"sans-serif\" font-size=\"12\" lengthAdjust=\"spacingAndGlyphs\" textLength=\"14\" x=\"70\" y=\"92.1074\">v2</text><line style=\"stroke: #A80036; stroke-width: 1.5;\" x1=\"33\" x2=\"99\" y1=\"99.9375\" y2=\"99.9375\"/></a><!--MD5=[05d275557350bfb9b23a4ef7222b4c39]\n",
       "link E3 to E2--><a href=\"psysml:f9d68518-1ffd-4856-b3d4-4b8d752762cd\" target=\"_top\" title=\"psysml:f9d68518-1ffd-4856-b3d4-4b8d752762cd\" xlink:actuate=\"onRequest\" xlink:href=\"psysml:f9d68518-1ffd-4856-b3d4-4b8d752762cd\" xlink:show=\"new\" xlink:title=\"psysml:f9d68518-1ffd-4856-b3d4-4b8d752762cd\" xlink:type=\"simple\"><path d=\"M286.81,129.29 C280.44,142.29 273.36,156.77 266.6,170.58 \" fill=\"none\" id=\"E3-&gt;E2\" style=\"stroke: #A80036; stroke-width: 1.0;\"/><polygon fill=\"#FFFFFF\" points=\"257.69,188.78,259.7589,168.6375,272.3325,174.7943,257.69,188.78\" style=\"stroke: #A80036; stroke-width: 1.0;\"/><ellipse cx=\"264.0619\" cy=\"164.3978\" fill=\"#A80036\" rx=\"2\" ry=\"2\" style=\"stroke: #A80036; stroke-width: 1.0;\"/><ellipse cx=\"273.0429\" cy=\"168.7956\" fill=\"#A80036\" rx=\"2\" ry=\"2\" style=\"stroke: #A80036; stroke-width: 1.0;\"/></a><!--MD5=[185131fc0dcab0a4505a2ebe144e961b]\n",
       "link E4 to E2--><a href=\"psysml:13494711-98b1-4251-8963-46d1e0c35503\" target=\"_top\" title=\"psysml:13494711-98b1-4251-8963-46d1e0c35503\" xlink:actuate=\"onRequest\" xlink:href=\"psysml:13494711-98b1-4251-8963-46d1e0c35503\" xlink:show=\"new\" xlink:title=\"psysml:13494711-98b1-4251-8963-46d1e0c35503\" xlink:type=\"simple\"><path d=\"M201.34,126.21 C206.12,139.62 211.55,154.85 216.74,169.4 \" fill=\"none\" id=\"E4-&gt;E2\" style=\"stroke: #A80036; stroke-width: 1.0;\"/><polygon fill=\"none\" points=\"223.46,167.4,223.59,188.59,210.28,172.11,223.46,167.4\" style=\"stroke: #A80036; stroke-width: 1.0;\"/></a><!--MD5=[4f8509bfc192e6251b0e5d21edb853a5]\n",
       "@startuml\r\n",
       " \r\n",
       "package \"DefaultValueTest\" as E1  [[psysml:6839459c-d74b-4e54-a7fb-96b2013b0c1a ]]  {\r\n",
       "comp def \"V\" as E2 << << (B,green) >> [[psysml:f6ad7545-3639-41cb-8da0-571497d98dc5 ]] {\r\n",
       "- - attributes - -\r\n",
       "m=default = 10; \r\n",
       "n= 20; \r\n",
       "}\r\n",
       "comp usage \"v1: V \" as E3 << << (P,limegreen) part>> [[psysml:1ac351b0-bbdc-4492-9f99-b540f7d23706 ]] {\r\n",
       "- - attributes - -\r\n",
       "m= 20; \\n//:>>V::m// \r\n",
       "}\r\n",
       "comp def \"W\" as E4 << << (B,green) >> [[psysml:aeba74e7-35ad-441a-aaf4-220a7e48fb18 ]] {\r\n",
       "- - attributes - -\r\n",
       "m=default = n; \\n//:>>V::m// \r\n",
       "}\r\n",
       "comp usage \"v2 \" as E5 << << (P,limegreen) part>> [[psysml:8648f4f6-facd-4996-a918-0994903b340f ]] {\r\n",
       "}\r\n",
       "}\r\n",
       "E3 - -:|> E2 [[psysml:f9d68518-1ffd-4856-b3d4-4b8d752762cd ]] \r\n",
       "E4 - -|> E2 [[psysml:13494711-98b1-4251-8963-46d1e0c35503 ]] \r\n",
       "@enduml\r\n",
       "\n",
       "PlantUML version 1.2020.13(Sat Jun 13 12:26:38 UTC 2020)\n",
       "(EPL source distribution)\n",
       "Java Runtime: OpenJDK Runtime Environment\n",
       "JVM: OpenJDK 64-Bit Server VM\n",
       "Default Encoding: UTF-8\n",
       "Language: en\n",
       "Country: null\n",
       "--></g></svg>"
      ]
     },
     "execution_count": 36,
     "metadata": {},
     "output_type": "execute_result"
    }
   ],
   "source": [
    "%viz --style=\"PLANTUML\" --view=\"MIXED\" \"DefaultValueTest\""
   ]
  },
  {
   "cell_type": "code",
   "execution_count": 37,
   "id": "79189e65",
   "metadata": {
    "execution": {
     "iopub.execute_input": "2022-02-18T10:51:42.036875Z",
     "iopub.status.busy": "2022-02-18T10:51:42.036413Z",
     "iopub.status.idle": "2022-02-18T10:51:42.121003Z",
     "shell.execute_reply": "2022-02-18T10:51:42.119672Z"
    }
   },
   "outputs": [
    {
     "data": {
      "image/svg+xml": [
       "<?xml version=\"1.0\" encoding=\"UTF-8\" standalone=\"no\"?><svg xmlns=\"http://www.w3.org/2000/svg\" xmlns:xlink=\"http://www.w3.org/1999/xlink\" contentScriptType=\"application/ecmascript\" contentStyleType=\"text/css\" height=\"305px\" preserveAspectRatio=\"none\" style=\"width:349px;height:305px;\" version=\"1.1\" viewBox=\"0 0 349 305\" width=\"349px\" zoomAndPan=\"magnify\"><defs/><g><!--MD5=[fbc87193dbaf4d95561dea2c320d4a47]\n",
       "cluster E1--><a href=\"psysml:6839459c-d74b-4e54-a7fb-96b2013b0c1a\" target=\"_top\" title=\"psysml:6839459c-d74b-4e54-a7fb-96b2013b0c1a\" xlink:actuate=\"onRequest\" xlink:href=\"psysml:6839459c-d74b-4e54-a7fb-96b2013b0c1a\" xlink:show=\"new\" xlink:title=\"psysml:6839459c-d74b-4e54-a7fb-96b2013b0c1a\" xlink:type=\"simple\"><polygon fill=\"#FFFFFF\" points=\"16,6,140,6,147,28.2969,327,28.2969,327,293,16,293,16,6\" style=\"stroke: #000000; stroke-width: 1.5;\"/><line style=\"stroke: #000000; stroke-width: 1.5;\" x1=\"16\" x2=\"147\" y1=\"28.2969\" y2=\"28.2969\"/><text fill=\"#000000\" font-family=\"sans-serif\" font-size=\"14\" font-weight=\"bold\" lengthAdjust=\"spacingAndGlyphs\" textLength=\"118\" x=\"20\" y=\"20.9951\">DefaultValueTest</text></a><!--MD5=[b4997ac47864f28c2f74865a473b2911]\n",
       "class E2--><a href=\"psysml:f6ad7545-3639-41cb-8da0-571497d98dc5\" target=\"_top\" title=\"psysml:f6ad7545-3639-41cb-8da0-571497d98dc5\" xlink:actuate=\"onRequest\" xlink:href=\"psysml:f6ad7545-3639-41cb-8da0-571497d98dc5\" xlink:show=\"new\" xlink:title=\"psysml:f6ad7545-3639-41cb-8da0-571497d98dc5\" xlink:type=\"simple\"><rect fill=\"#FFFFFF\" height=\"88.3516\" id=\"E2\" style=\"stroke: #383838; stroke-width: 1.5;\" width=\"106\" x=\"156\" y=\"189\"/><text fill=\"#000000\" font-family=\"sans-serif\" font-size=\"12\" font-style=\"italic\" lengthAdjust=\"spacingAndGlyphs\" textLength=\"68\" x=\"175\" y=\"205.1387\">«part  def»</text><text fill=\"#000000\" font-family=\"sans-serif\" font-size=\"12\" lengthAdjust=\"spacingAndGlyphs\" textLength=\"8\" x=\"205\" y=\"219.1074\">V</text><line style=\"stroke: #383838; stroke-width: 1.5;\" x1=\"157\" x2=\"261\" y1=\"226.9375\" y2=\"226.9375\"/><text fill=\"#000000\" font-family=\"sans-serif\" font-size=\"11\" lengthAdjust=\"spacingAndGlyphs\" textLength=\"94\" x=\"162\" y=\"257.9526\">m=default = 10;</text><text fill=\"#000000\" font-family=\"sans-serif\" font-size=\"11\" lengthAdjust=\"spacingAndGlyphs\" textLength=\"38\" x=\"162\" y=\"270.7573\">n= 20;</text><line style=\"stroke: #383838; stroke-width: 1.0;\" x1=\"157\" x2=\"181.5\" y1=\"241.3398\" y2=\"241.3398\"/><text fill=\"#000000\" font-family=\"sans-serif\" font-size=\"11\" lengthAdjust=\"spacingAndGlyphs\" textLength=\"55\" x=\"181.5\" y=\"244.6479\">attributes</text><line style=\"stroke: #383838; stroke-width: 1.0;\" x1=\"236.5\" x2=\"261\" y1=\"241.3398\" y2=\"241.3398\"/></a><!--MD5=[09b614a08d8cba4a07c9adeb5e0fee81]\n",
       "class E3--><a href=\"psysml:1ac351b0-bbdc-4492-9f99-b540f7d23706\" target=\"_top\" title=\"psysml:1ac351b0-bbdc-4492-9f99-b540f7d23706\" xlink:actuate=\"onRequest\" xlink:href=\"psysml:1ac351b0-bbdc-4492-9f99-b540f7d23706\" xlink:show=\"new\" xlink:title=\"psysml:1ac351b0-bbdc-4492-9f99-b540f7d23706\" xlink:type=\"simple\"><rect fill=\"#FFFFFF\" height=\"88.3516\" id=\"E3\" rx=\"10\" ry=\"10\" style=\"stroke: #383838; stroke-width: 1.5;\" width=\"63\" x=\"247.5\" y=\"41\"/><text fill=\"#000000\" font-family=\"sans-serif\" font-size=\"12\" font-style=\"italic\" lengthAdjust=\"spacingAndGlyphs\" textLength=\"40\" x=\"259\" y=\"57.1387\">«part»</text><text fill=\"#000000\" font-family=\"sans-serif\" font-size=\"12\" lengthAdjust=\"spacingAndGlyphs\" textLength=\"30\" x=\"262\" y=\"71.1074\">v1: V</text><line style=\"stroke: #383838; stroke-width: 1.5;\" x1=\"248.5\" x2=\"309.5\" y1=\"78.9375\" y2=\"78.9375\"/><text fill=\"#000000\" font-family=\"sans-serif\" font-size=\"11\" lengthAdjust=\"spacingAndGlyphs\" textLength=\"42\" x=\"253.5\" y=\"109.9526\">m= 20;</text><text fill=\"#000000\" font-family=\"sans-serif\" font-size=\"11\" font-style=\"italic\" lengthAdjust=\"spacingAndGlyphs\" textLength=\"48\" x=\"253.5\" y=\"122.7573\">:&gt;&gt;V::m</text><line style=\"stroke: #383838; stroke-width: 1.0;\" x1=\"248.5\" x2=\"251.5\" y1=\"93.3398\" y2=\"93.3398\"/><text fill=\"#000000\" font-family=\"sans-serif\" font-size=\"11\" lengthAdjust=\"spacingAndGlyphs\" textLength=\"55\" x=\"251.5\" y=\"96.6479\">attributes</text><line style=\"stroke: #383838; stroke-width: 1.0;\" x1=\"306.5\" x2=\"309.5\" y1=\"93.3398\" y2=\"93.3398\"/></a><!--MD5=[ebbe1d658d1005bcc118a6aa81145e00]\n",
       "class E4--><a href=\"psysml:aeba74e7-35ad-441a-aaf4-220a7e48fb18\" target=\"_top\" title=\"psysml:aeba74e7-35ad-441a-aaf4-220a7e48fb18\" xlink:actuate=\"onRequest\" xlink:href=\"psysml:aeba74e7-35ad-441a-aaf4-220a7e48fb18\" xlink:show=\"new\" xlink:title=\"psysml:aeba74e7-35ad-441a-aaf4-220a7e48fb18\" xlink:type=\"simple\"><rect fill=\"#FFFFFF\" height=\"88.3516\" id=\"E4\" style=\"stroke: #383838; stroke-width: 1.5;\" width=\"103\" x=\"109.5\" y=\"41\"/><text fill=\"#000000\" font-family=\"sans-serif\" font-size=\"12\" font-style=\"italic\" lengthAdjust=\"spacingAndGlyphs\" textLength=\"68\" x=\"127\" y=\"57.1387\">«part  def»</text><text fill=\"#000000\" font-family=\"sans-serif\" font-size=\"12\" lengthAdjust=\"spacingAndGlyphs\" textLength=\"11\" x=\"155.5\" y=\"71.1074\">W</text><line style=\"stroke: #383838; stroke-width: 1.5;\" x1=\"110.5\" x2=\"211.5\" y1=\"78.9375\" y2=\"78.9375\"/><text fill=\"#000000\" font-family=\"sans-serif\" font-size=\"11\" lengthAdjust=\"spacingAndGlyphs\" textLength=\"87\" x=\"115.5\" y=\"109.9526\">m=default = n;</text><text fill=\"#000000\" font-family=\"sans-serif\" font-size=\"11\" font-style=\"italic\" lengthAdjust=\"spacingAndGlyphs\" textLength=\"48\" x=\"115.5\" y=\"122.7573\">:&gt;&gt;V::m</text><line style=\"stroke: #383838; stroke-width: 1.0;\" x1=\"110.5\" x2=\"133.5\" y1=\"93.3398\" y2=\"93.3398\"/><text fill=\"#000000\" font-family=\"sans-serif\" font-size=\"11\" lengthAdjust=\"spacingAndGlyphs\" textLength=\"55\" x=\"133.5\" y=\"96.6479\">attributes</text><line style=\"stroke: #383838; stroke-width: 1.0;\" x1=\"188.5\" x2=\"211.5\" y1=\"93.3398\" y2=\"93.3398\"/></a><!--MD5=[270fce915f116d4de14055a7c1d9a0f3]\n",
       "class E5--><a href=\"psysml:8648f4f6-facd-4996-a918-0994903b340f\" target=\"_top\" title=\"psysml:8648f4f6-facd-4996-a918-0994903b340f\" xlink:actuate=\"onRequest\" xlink:href=\"psysml:8648f4f6-facd-4996-a918-0994903b340f\" xlink:show=\"new\" xlink:title=\"psysml:8648f4f6-facd-4996-a918-0994903b340f\" xlink:type=\"simple\"><rect fill=\"#FFFFFF\" height=\"45.9375\" id=\"E5\" rx=\"10\" ry=\"10\" style=\"stroke: #383838; stroke-width: 1.5;\" width=\"42\" x=\"32\" y=\"62\"/><text fill=\"#000000\" font-family=\"sans-serif\" font-size=\"12\" font-style=\"italic\" lengthAdjust=\"spacingAndGlyphs\" textLength=\"40\" x=\"33\" y=\"78.1387\">«part»</text><text fill=\"#000000\" font-family=\"sans-serif\" font-size=\"12\" lengthAdjust=\"spacingAndGlyphs\" textLength=\"14\" x=\"44\" y=\"92.1074\">v2</text><line style=\"stroke: #383838; stroke-width: 1.5;\" x1=\"33\" x2=\"73\" y1=\"99.9375\" y2=\"99.9375\"/></a><!--MD5=[05d275557350bfb9b23a4ef7222b4c39]\n",
       "link E3 to E2--><a href=\"psysml:f9d68518-1ffd-4856-b3d4-4b8d752762cd\" target=\"_top\" title=\"psysml:f9d68518-1ffd-4856-b3d4-4b8d752762cd\" xlink:actuate=\"onRequest\" xlink:href=\"psysml:f9d68518-1ffd-4856-b3d4-4b8d752762cd\" xlink:show=\"new\" xlink:title=\"psysml:f9d68518-1ffd-4856-b3d4-4b8d752762cd\" xlink:type=\"simple\"><path d=\"M258.38,129.02 C252.17,141.97 245.22,156.45 238.55,170.36 \" fill=\"none\" id=\"E3-&gt;E2\" style=\"stroke: #383838; stroke-width: 1.0;\"/><polygon fill=\"#FFFFFF\" points=\"229.72,188.79,231.6151,168.6304,244.2413,174.6786,229.72,188.79\" style=\"stroke: #383838; stroke-width: 1.0;\"/><ellipse cx=\"235.8813\" cy=\"164.3538\" fill=\"#383838\" rx=\"2\" ry=\"2\" style=\"stroke: #383838; stroke-width: 1.0;\"/><ellipse cx=\"244.9\" cy=\"168.6739\" fill=\"#383838\" rx=\"2\" ry=\"2\" style=\"stroke: #383838; stroke-width: 1.0;\"/></a><!--MD5=[185131fc0dcab0a4505a2ebe144e961b]\n",
       "link E4 to E2--><a href=\"psysml:13494711-98b1-4251-8963-46d1e0c35503\" target=\"_top\" title=\"psysml:13494711-98b1-4251-8963-46d1e0c35503\" xlink:actuate=\"onRequest\" xlink:href=\"psysml:13494711-98b1-4251-8963-46d1e0c35503\" xlink:show=\"new\" xlink:title=\"psysml:13494711-98b1-4251-8963-46d1e0c35503\" xlink:type=\"simple\"><path d=\"M175.14,129.02 C179.3,141.67 183.94,155.79 188.42,169.41 \" fill=\"none\" id=\"E4-&gt;E2\" style=\"stroke: #383838; stroke-width: 1.0;\"/><polygon fill=\"none\" points=\"195.2,167.6,194.79,188.79,181.9,171.97,195.2,167.6\" style=\"stroke: #383838; stroke-width: 1.0;\"/></a><!--MD5=[42c030756d1cf88d4c4f530fe932f2bc]\n",
       "@startuml\r\n",
       "skinparam monochrome true\r\n",
       "skinparam classbackgroundcolor white\r\n",
       "skinparam shadowing false\r\n",
       "skinparam wrapWidth 300\r\n",
       "hide circle\r\n",
       "\r\n",
       "package \"DefaultValueTest\" as E1  [[psysml:6839459c-d74b-4e54-a7fb-96b2013b0c1a ]]  {\r\n",
       "comp def \"V\" as E2  <<(T,blue) part  def>> [[psysml:f6ad7545-3639-41cb-8da0-571497d98dc5 ]] {\r\n",
       "- - attributes - -\r\n",
       "m=default = 10; \r\n",
       "n= 20; \r\n",
       "}\r\n",
       "comp usage \"v1: V \" as E3  <<(T,blue) part>> [[psysml:1ac351b0-bbdc-4492-9f99-b540f7d23706 ]] {\r\n",
       "- - attributes - -\r\n",
       "m= 20; \\n//:>>V::m// \r\n",
       "}\r\n",
       "comp def \"W\" as E4  <<(T,blue) part  def>> [[psysml:aeba74e7-35ad-441a-aaf4-220a7e48fb18 ]] {\r\n",
       "- - attributes - -\r\n",
       "m=default = n; \\n//:>>V::m// \r\n",
       "}\r\n",
       "comp usage \"v2 \" as E5  <<(T,blue) part>> [[psysml:8648f4f6-facd-4996-a918-0994903b340f ]] {\r\n",
       "}\r\n",
       "}\r\n",
       "E3 - -:|> E2 [[psysml:f9d68518-1ffd-4856-b3d4-4b8d752762cd ]] \r\n",
       "E4 - -|> E2 [[psysml:13494711-98b1-4251-8963-46d1e0c35503 ]] \r\n",
       "@enduml\r\n",
       "\n",
       "PlantUML version 1.2020.13(Sat Jun 13 12:26:38 UTC 2020)\n",
       "(EPL source distribution)\n",
       "Java Runtime: OpenJDK Runtime Environment\n",
       "JVM: OpenJDK 64-Bit Server VM\n",
       "Default Encoding: UTF-8\n",
       "Language: en\n",
       "Country: null\n",
       "--></g></svg>"
      ]
     },
     "execution_count": 37,
     "metadata": {},
     "output_type": "execute_result"
    }
   ],
   "source": [
    "%viz --style=\"DEFAULT\" --view=\"Default\" \"DefaultValueTest\""
   ]
  },
  {
   "cell_type": "code",
   "execution_count": 38,
   "id": "039d588a",
   "metadata": {
    "execution": {
     "iopub.execute_input": "2022-02-18T10:51:42.170557Z",
     "iopub.status.busy": "2022-02-18T10:51:42.170105Z",
     "iopub.status.idle": "2022-02-18T10:51:42.253914Z",
     "shell.execute_reply": "2022-02-18T10:51:42.253534Z"
    }
   },
   "outputs": [
    {
     "data": {
      "image/svg+xml": [
       "<?xml version=\"1.0\" encoding=\"UTF-8\" standalone=\"no\"?><svg xmlns=\"http://www.w3.org/2000/svg\" xmlns:xlink=\"http://www.w3.org/1999/xlink\" contentScriptType=\"application/ecmascript\" contentStyleType=\"text/css\" height=\"305px\" preserveAspectRatio=\"none\" style=\"width:349px;height:305px;\" version=\"1.1\" viewBox=\"0 0 349 305\" width=\"349px\" zoomAndPan=\"magnify\"><defs/><g><!--MD5=[fbc87193dbaf4d95561dea2c320d4a47]\n",
       "cluster E1--><a href=\"psysml:6839459c-d74b-4e54-a7fb-96b2013b0c1a\" target=\"_top\" title=\"psysml:6839459c-d74b-4e54-a7fb-96b2013b0c1a\" xlink:actuate=\"onRequest\" xlink:href=\"psysml:6839459c-d74b-4e54-a7fb-96b2013b0c1a\" xlink:show=\"new\" xlink:title=\"psysml:6839459c-d74b-4e54-a7fb-96b2013b0c1a\" xlink:type=\"simple\"><polygon fill=\"#FFFFFF\" points=\"16,6,140,6,147,28.2969,327,28.2969,327,293,16,293,16,6\" style=\"stroke: #000000; stroke-width: 1.5;\"/><line style=\"stroke: #000000; stroke-width: 1.5;\" x1=\"16\" x2=\"147\" y1=\"28.2969\" y2=\"28.2969\"/><text fill=\"#000000\" font-family=\"sans-serif\" font-size=\"14\" font-weight=\"bold\" lengthAdjust=\"spacingAndGlyphs\" textLength=\"118\" x=\"20\" y=\"20.9951\">DefaultValueTest</text></a><!--MD5=[b4997ac47864f28c2f74865a473b2911]\n",
       "class E2--><a href=\"psysml:f6ad7545-3639-41cb-8da0-571497d98dc5\" target=\"_top\" title=\"psysml:f6ad7545-3639-41cb-8da0-571497d98dc5\" xlink:actuate=\"onRequest\" xlink:href=\"psysml:f6ad7545-3639-41cb-8da0-571497d98dc5\" xlink:show=\"new\" xlink:title=\"psysml:f6ad7545-3639-41cb-8da0-571497d98dc5\" xlink:type=\"simple\"><rect fill=\"#FFFFFF\" height=\"88.3516\" id=\"E2\" style=\"stroke: #383838; stroke-width: 1.5;\" width=\"106\" x=\"156\" y=\"189\"/><text fill=\"#000000\" font-family=\"sans-serif\" font-size=\"12\" font-style=\"italic\" lengthAdjust=\"spacingAndGlyphs\" textLength=\"68\" x=\"175\" y=\"205.1387\">«part  def»</text><text fill=\"#000000\" font-family=\"sans-serif\" font-size=\"12\" lengthAdjust=\"spacingAndGlyphs\" textLength=\"8\" x=\"205\" y=\"219.1074\">V</text><line style=\"stroke: #383838; stroke-width: 1.5;\" x1=\"157\" x2=\"261\" y1=\"226.9375\" y2=\"226.9375\"/><text fill=\"#000000\" font-family=\"sans-serif\" font-size=\"11\" lengthAdjust=\"spacingAndGlyphs\" textLength=\"94\" x=\"162\" y=\"257.9526\">m=default = 10;</text><text fill=\"#000000\" font-family=\"sans-serif\" font-size=\"11\" lengthAdjust=\"spacingAndGlyphs\" textLength=\"38\" x=\"162\" y=\"270.7573\">n= 20;</text><line style=\"stroke: #383838; stroke-width: 1.0;\" x1=\"157\" x2=\"181.5\" y1=\"241.3398\" y2=\"241.3398\"/><text fill=\"#000000\" font-family=\"sans-serif\" font-size=\"11\" lengthAdjust=\"spacingAndGlyphs\" textLength=\"55\" x=\"181.5\" y=\"244.6479\">attributes</text><line style=\"stroke: #383838; stroke-width: 1.0;\" x1=\"236.5\" x2=\"261\" y1=\"241.3398\" y2=\"241.3398\"/></a><!--MD5=[09b614a08d8cba4a07c9adeb5e0fee81]\n",
       "class E3--><a href=\"psysml:1ac351b0-bbdc-4492-9f99-b540f7d23706\" target=\"_top\" title=\"psysml:1ac351b0-bbdc-4492-9f99-b540f7d23706\" xlink:actuate=\"onRequest\" xlink:href=\"psysml:1ac351b0-bbdc-4492-9f99-b540f7d23706\" xlink:show=\"new\" xlink:title=\"psysml:1ac351b0-bbdc-4492-9f99-b540f7d23706\" xlink:type=\"simple\"><rect fill=\"#FFFFFF\" height=\"88.3516\" id=\"E3\" rx=\"10\" ry=\"10\" style=\"stroke: #383838; stroke-width: 1.5;\" width=\"63\" x=\"247.5\" y=\"41\"/><text fill=\"#000000\" font-family=\"sans-serif\" font-size=\"12\" font-style=\"italic\" lengthAdjust=\"spacingAndGlyphs\" textLength=\"40\" x=\"259\" y=\"57.1387\">«part»</text><text fill=\"#000000\" font-family=\"sans-serif\" font-size=\"12\" lengthAdjust=\"spacingAndGlyphs\" textLength=\"30\" x=\"262\" y=\"71.1074\">v1: V</text><line style=\"stroke: #383838; stroke-width: 1.5;\" x1=\"248.5\" x2=\"309.5\" y1=\"78.9375\" y2=\"78.9375\"/><text fill=\"#000000\" font-family=\"sans-serif\" font-size=\"11\" lengthAdjust=\"spacingAndGlyphs\" textLength=\"42\" x=\"253.5\" y=\"109.9526\">m= 20;</text><text fill=\"#000000\" font-family=\"sans-serif\" font-size=\"11\" font-style=\"italic\" lengthAdjust=\"spacingAndGlyphs\" textLength=\"48\" x=\"253.5\" y=\"122.7573\">:&gt;&gt;V::m</text><line style=\"stroke: #383838; stroke-width: 1.0;\" x1=\"248.5\" x2=\"251.5\" y1=\"93.3398\" y2=\"93.3398\"/><text fill=\"#000000\" font-family=\"sans-serif\" font-size=\"11\" lengthAdjust=\"spacingAndGlyphs\" textLength=\"55\" x=\"251.5\" y=\"96.6479\">attributes</text><line style=\"stroke: #383838; stroke-width: 1.0;\" x1=\"306.5\" x2=\"309.5\" y1=\"93.3398\" y2=\"93.3398\"/></a><!--MD5=[ebbe1d658d1005bcc118a6aa81145e00]\n",
       "class E4--><a href=\"psysml:aeba74e7-35ad-441a-aaf4-220a7e48fb18\" target=\"_top\" title=\"psysml:aeba74e7-35ad-441a-aaf4-220a7e48fb18\" xlink:actuate=\"onRequest\" xlink:href=\"psysml:aeba74e7-35ad-441a-aaf4-220a7e48fb18\" xlink:show=\"new\" xlink:title=\"psysml:aeba74e7-35ad-441a-aaf4-220a7e48fb18\" xlink:type=\"simple\"><rect fill=\"#FFFFFF\" height=\"88.3516\" id=\"E4\" style=\"stroke: #383838; stroke-width: 1.5;\" width=\"103\" x=\"109.5\" y=\"41\"/><text fill=\"#000000\" font-family=\"sans-serif\" font-size=\"12\" font-style=\"italic\" lengthAdjust=\"spacingAndGlyphs\" textLength=\"68\" x=\"127\" y=\"57.1387\">«part  def»</text><text fill=\"#000000\" font-family=\"sans-serif\" font-size=\"12\" lengthAdjust=\"spacingAndGlyphs\" textLength=\"11\" x=\"155.5\" y=\"71.1074\">W</text><line style=\"stroke: #383838; stroke-width: 1.5;\" x1=\"110.5\" x2=\"211.5\" y1=\"78.9375\" y2=\"78.9375\"/><text fill=\"#000000\" font-family=\"sans-serif\" font-size=\"11\" lengthAdjust=\"spacingAndGlyphs\" textLength=\"87\" x=\"115.5\" y=\"109.9526\">m=default = n;</text><text fill=\"#000000\" font-family=\"sans-serif\" font-size=\"11\" font-style=\"italic\" lengthAdjust=\"spacingAndGlyphs\" textLength=\"48\" x=\"115.5\" y=\"122.7573\">:&gt;&gt;V::m</text><line style=\"stroke: #383838; stroke-width: 1.0;\" x1=\"110.5\" x2=\"133.5\" y1=\"93.3398\" y2=\"93.3398\"/><text fill=\"#000000\" font-family=\"sans-serif\" font-size=\"11\" lengthAdjust=\"spacingAndGlyphs\" textLength=\"55\" x=\"133.5\" y=\"96.6479\">attributes</text><line style=\"stroke: #383838; stroke-width: 1.0;\" x1=\"188.5\" x2=\"211.5\" y1=\"93.3398\" y2=\"93.3398\"/></a><!--MD5=[270fce915f116d4de14055a7c1d9a0f3]\n",
       "class E5--><a href=\"psysml:8648f4f6-facd-4996-a918-0994903b340f\" target=\"_top\" title=\"psysml:8648f4f6-facd-4996-a918-0994903b340f\" xlink:actuate=\"onRequest\" xlink:href=\"psysml:8648f4f6-facd-4996-a918-0994903b340f\" xlink:show=\"new\" xlink:title=\"psysml:8648f4f6-facd-4996-a918-0994903b340f\" xlink:type=\"simple\"><rect fill=\"#FFFFFF\" height=\"45.9375\" id=\"E5\" rx=\"10\" ry=\"10\" style=\"stroke: #383838; stroke-width: 1.5;\" width=\"42\" x=\"32\" y=\"62\"/><text fill=\"#000000\" font-family=\"sans-serif\" font-size=\"12\" font-style=\"italic\" lengthAdjust=\"spacingAndGlyphs\" textLength=\"40\" x=\"33\" y=\"78.1387\">«part»</text><text fill=\"#000000\" font-family=\"sans-serif\" font-size=\"12\" lengthAdjust=\"spacingAndGlyphs\" textLength=\"14\" x=\"44\" y=\"92.1074\">v2</text><line style=\"stroke: #383838; stroke-width: 1.5;\" x1=\"33\" x2=\"73\" y1=\"99.9375\" y2=\"99.9375\"/></a><!--MD5=[05d275557350bfb9b23a4ef7222b4c39]\n",
       "link E3 to E2--><a href=\"psysml:f9d68518-1ffd-4856-b3d4-4b8d752762cd\" target=\"_top\" title=\"psysml:f9d68518-1ffd-4856-b3d4-4b8d752762cd\" xlink:actuate=\"onRequest\" xlink:href=\"psysml:f9d68518-1ffd-4856-b3d4-4b8d752762cd\" xlink:show=\"new\" xlink:title=\"psysml:f9d68518-1ffd-4856-b3d4-4b8d752762cd\" xlink:type=\"simple\"><path d=\"M258.38,129.02 C252.17,141.97 245.22,156.45 238.55,170.36 \" fill=\"none\" id=\"E3-&gt;E2\" style=\"stroke: #383838; stroke-width: 1.0;\"/><polygon fill=\"#FFFFFF\" points=\"229.72,188.79,231.6151,168.6304,244.2413,174.6786,229.72,188.79\" style=\"stroke: #383838; stroke-width: 1.0;\"/><ellipse cx=\"235.8813\" cy=\"164.3538\" fill=\"#383838\" rx=\"2\" ry=\"2\" style=\"stroke: #383838; stroke-width: 1.0;\"/><ellipse cx=\"244.9\" cy=\"168.6739\" fill=\"#383838\" rx=\"2\" ry=\"2\" style=\"stroke: #383838; stroke-width: 1.0;\"/></a><!--MD5=[185131fc0dcab0a4505a2ebe144e961b]\n",
       "link E4 to E2--><a href=\"psysml:13494711-98b1-4251-8963-46d1e0c35503\" target=\"_top\" title=\"psysml:13494711-98b1-4251-8963-46d1e0c35503\" xlink:actuate=\"onRequest\" xlink:href=\"psysml:13494711-98b1-4251-8963-46d1e0c35503\" xlink:show=\"new\" xlink:title=\"psysml:13494711-98b1-4251-8963-46d1e0c35503\" xlink:type=\"simple\"><path d=\"M175.14,129.02 C179.3,141.67 183.94,155.79 188.42,169.41 \" fill=\"none\" id=\"E4-&gt;E2\" style=\"stroke: #383838; stroke-width: 1.0;\"/><polygon fill=\"none\" points=\"195.2,167.6,194.79,188.79,181.9,171.97,195.2,167.6\" style=\"stroke: #383838; stroke-width: 1.0;\"/></a><!--MD5=[42c030756d1cf88d4c4f530fe932f2bc]\n",
       "@startuml\r\n",
       "skinparam monochrome true\r\n",
       "skinparam classbackgroundcolor white\r\n",
       "skinparam shadowing false\r\n",
       "skinparam wrapWidth 300\r\n",
       "hide circle\r\n",
       "\r\n",
       "package \"DefaultValueTest\" as E1  [[psysml:6839459c-d74b-4e54-a7fb-96b2013b0c1a ]]  {\r\n",
       "comp def \"V\" as E2  <<(T,blue) part  def>> [[psysml:f6ad7545-3639-41cb-8da0-571497d98dc5 ]] {\r\n",
       "- - attributes - -\r\n",
       "m=default = 10; \r\n",
       "n= 20; \r\n",
       "}\r\n",
       "comp usage \"v1: V \" as E3  <<(T,blue) part>> [[psysml:1ac351b0-bbdc-4492-9f99-b540f7d23706 ]] {\r\n",
       "- - attributes - -\r\n",
       "m= 20; \\n//:>>V::m// \r\n",
       "}\r\n",
       "comp def \"W\" as E4  <<(T,blue) part  def>> [[psysml:aeba74e7-35ad-441a-aaf4-220a7e48fb18 ]] {\r\n",
       "- - attributes - -\r\n",
       "m=default = n; \\n//:>>V::m// \r\n",
       "}\r\n",
       "comp usage \"v2 \" as E5  <<(T,blue) part>> [[psysml:8648f4f6-facd-4996-a918-0994903b340f ]] {\r\n",
       "}\r\n",
       "}\r\n",
       "E3 - -:|> E2 [[psysml:f9d68518-1ffd-4856-b3d4-4b8d752762cd ]] \r\n",
       "E4 - -|> E2 [[psysml:13494711-98b1-4251-8963-46d1e0c35503 ]] \r\n",
       "@enduml\r\n",
       "\n",
       "PlantUML version 1.2020.13(Sat Jun 13 12:26:38 UTC 2020)\n",
       "(EPL source distribution)\n",
       "Java Runtime: OpenJDK Runtime Environment\n",
       "JVM: OpenJDK 64-Bit Server VM\n",
       "Default Encoding: UTF-8\n",
       "Language: en\n",
       "Country: null\n",
       "--></g></svg>"
      ]
     },
     "execution_count": 38,
     "metadata": {},
     "output_type": "execute_result"
    }
   ],
   "source": [
    "%viz --style=\"DEFAULT\" --view=\"Tree\" \"DefaultValueTest\""
   ]
  },
  {
   "cell_type": "code",
   "execution_count": 39,
   "id": "0a7e4d7f",
   "metadata": {
    "execution": {
     "iopub.execute_input": "2022-02-18T10:51:42.303323Z",
     "iopub.status.busy": "2022-02-18T10:51:42.302897Z",
     "iopub.status.idle": "2022-02-18T10:51:42.305910Z",
     "shell.execute_reply": "2022-02-18T10:51:42.305572Z"
    }
   },
   "outputs": [
    {
     "data": {
      "image/svg+xml": [
       "<?xml version=\"1.0\" encoding=\"UTF-8\" standalone=\"no\"?><svg xmlns=\"http://www.w3.org/2000/svg\" xmlns:xlink=\"http://www.w3.org/1999/xlink\" contentScriptType=\"application/ecmascript\" contentStyleType=\"text/css\" height=\"12px\" preserveAspectRatio=\"none\" style=\"width:12px;height:12px;\" version=\"1.1\" viewBox=\"0 0 12 12\" width=\"12px\" zoomAndPan=\"magnify\"><defs/><g><!--MD5=[c5f280e076d0d61ccf4b0f27871bda1d]\n",
       "@startuml\r\n",
       "skinparam monochrome true\r\n",
       "skinparam classbackgroundcolor white\r\n",
       "skinparam shadowing false\r\n",
       "skinparam wrapWidth 300\r\n",
       "hide circle\r\n",
       "\r\n",
       "@enduml\r\n",
       "\n",
       "PlantUML version 1.2020.13(Sat Jun 13 12:26:38 UTC 2020)\n",
       "(EPL source distribution)\n",
       "Java Runtime: OpenJDK Runtime Environment\n",
       "JVM: OpenJDK 64-Bit Server VM\n",
       "Default Encoding: UTF-8\n",
       "Language: en\n",
       "Country: null\n",
       "--></g></svg>"
      ]
     },
     "execution_count": 39,
     "metadata": {},
     "output_type": "execute_result"
    }
   ],
   "source": [
    "%viz --style=\"DEFAULT\" --view=\"State\" \"DefaultValueTest\""
   ]
  },
  {
   "cell_type": "code",
   "execution_count": 40,
   "id": "1a308c24",
   "metadata": {
    "execution": {
     "iopub.execute_input": "2022-02-18T10:51:42.355789Z",
     "iopub.status.busy": "2022-02-18T10:51:42.355241Z",
     "iopub.status.idle": "2022-02-18T10:51:42.384311Z",
     "shell.execute_reply": "2022-02-18T10:51:42.383932Z"
    }
   },
   "outputs": [
    {
     "data": {
      "image/svg+xml": [
       "<?xml version=\"1.0\" encoding=\"UTF-8\" standalone=\"no\"?><svg xmlns=\"http://www.w3.org/2000/svg\" xmlns:xlink=\"http://www.w3.org/1999/xlink\" contentScriptType=\"application/ecmascript\" contentStyleType=\"text/css\" height=\"399px\" preserveAspectRatio=\"none\" style=\"width:448px;height:399px;\" version=\"1.1\" viewBox=\"0 0 448 399\" width=\"448px\" zoomAndPan=\"magnify\"><defs/><g><!--MD5=[fbc87193dbaf4d95561dea2c320d4a47]\n",
       "cluster E1--><a href=\"psysml:6839459c-d74b-4e54-a7fb-96b2013b0c1a\" target=\"_top\" title=\"psysml:6839459c-d74b-4e54-a7fb-96b2013b0c1a\" xlink:actuate=\"onRequest\" xlink:href=\"psysml:6839459c-d74b-4e54-a7fb-96b2013b0c1a\" xlink:show=\"new\" xlink:title=\"psysml:6839459c-d74b-4e54-a7fb-96b2013b0c1a\" xlink:type=\"simple\"><polygon fill=\"#FFFFFF\" points=\"16,6,140,6,147,28.2969,426,28.2969,426,387,16,387,16,6\" style=\"stroke: #000000; stroke-width: 1.5;\"/><line style=\"stroke: #000000; stroke-width: 1.5;\" x1=\"16\" x2=\"147\" y1=\"28.2969\" y2=\"28.2969\"/><text fill=\"#000000\" font-family=\"sans-serif\" font-size=\"14\" font-weight=\"bold\" lengthAdjust=\"spacingAndGlyphs\" textLength=\"118\" x=\"20\" y=\"20.9951\">DefaultValueTest</text></a><!--MD5=[e4f7fae6ed58524ba242bb0b0d3be6b7]\n",
       "cluster E2--><a href=\"psysml:f6ad7545-3639-41cb-8da0-571497d98dc5\" target=\"_top\" title=\"psysml:f6ad7545-3639-41cb-8da0-571497d98dc5\" xlink:actuate=\"onRequest\" xlink:href=\"psysml:f6ad7545-3639-41cb-8da0-571497d98dc5\" xlink:show=\"new\" xlink:title=\"psysml:f6ad7545-3639-41cb-8da0-571497d98dc5\" xlink:type=\"simple\"><rect fill=\"#FFFFFF\" height=\"129\" id=\"E2\" style=\"stroke: #383838; stroke-width: 1.5;\" width=\"245\" x=\"127\" y=\"226\"/><rect fill=\"#F8F8F8\" height=\"37.9375\" style=\"stroke: #383838; stroke-width: 1.5;\" width=\"245\" x=\"127\" y=\"226\"/><text fill=\"#000000\" font-family=\"sans-serif\" font-size=\"12\" font-style=\"italic\" lengthAdjust=\"spacingAndGlyphs\" textLength=\"68\" x=\"215.5\" y=\"242.1387\">«part  def»</text><text fill=\"#000000\" font-family=\"sans-serif\" font-size=\"12\" lengthAdjust=\"spacingAndGlyphs\" textLength=\"8\" x=\"245.5\" y=\"256.1074\">V</text></a><!--MD5=[de5ec2e2e8f62f467e546659f5068c88]\n",
       "cluster E5--><a href=\"psysml:1ac351b0-bbdc-4492-9f99-b540f7d23706\" target=\"_top\" title=\"psysml:1ac351b0-bbdc-4492-9f99-b540f7d23706\" xlink:actuate=\"onRequest\" xlink:href=\"psysml:1ac351b0-bbdc-4492-9f99-b540f7d23706\" xlink:show=\"new\" xlink:title=\"psysml:1ac351b0-bbdc-4492-9f99-b540f7d23706\" xlink:type=\"simple\"><rect fill=\"#FFFFFF\" height=\"97\" id=\"E5\" rx=\"10\" ry=\"10\" style=\"stroke: #383838; stroke-width: 1.5;\" width=\"104\" x=\"298\" y=\"81\"/><rect fill=\"#F8F8F8\" height=\"23.9688\" rx=\"10\" ry=\"10\" style=\"stroke: #F8F8F8; stroke-width: 1.5;\" width=\"104\" x=\"298\" y=\"81\"/><rect fill=\"#F8F8F8\" height=\"10\" style=\"stroke: #F8F8F8; stroke-width: 1.5;\" width=\"104\" x=\"298\" y=\"94.9688\"/><rect fill=\"none\" height=\"97\" id=\"E5\" rx=\"10\" ry=\"10\" style=\"stroke: #383838; stroke-width: 1.5;\" width=\"104\" x=\"298\" y=\"81\"/><text fill=\"#000000\" font-family=\"sans-serif\" font-size=\"12\" lengthAdjust=\"spacingAndGlyphs\" textLength=\"30\" x=\"335\" y=\"97.1387\">v1: V</text><line style=\"stroke: #383838; stroke-width: 1.0;\" x1=\"298\" x2=\"402\" y1=\"104.9688\" y2=\"104.9688\"/></a><!--MD5=[168fadf3d0c3fd93dd5d6da1b1d7ab76]\n",
       "cluster E7--><a href=\"psysml:aeba74e7-35ad-441a-aaf4-220a7e48fb18\" target=\"_top\" title=\"psysml:aeba74e7-35ad-441a-aaf4-220a7e48fb18\" xlink:actuate=\"onRequest\" xlink:href=\"psysml:aeba74e7-35ad-441a-aaf4-220a7e48fb18\" xlink:show=\"new\" xlink:title=\"psysml:aeba74e7-35ad-441a-aaf4-220a7e48fb18\" xlink:type=\"simple\"><rect fill=\"#FFFFFF\" height=\"129\" id=\"E7\" style=\"stroke: #383838; stroke-width: 1.5;\" width=\"139\" x=\"127\" y=\"57\"/><rect fill=\"#F8F8F8\" height=\"37.9375\" style=\"stroke: #383838; stroke-width: 1.5;\" width=\"139\" x=\"127\" y=\"57\"/><text fill=\"#000000\" font-family=\"sans-serif\" font-size=\"12\" font-style=\"italic\" lengthAdjust=\"spacingAndGlyphs\" textLength=\"68\" x=\"162.5\" y=\"73.1387\">«part  def»</text><text fill=\"#000000\" font-family=\"sans-serif\" font-size=\"12\" lengthAdjust=\"spacingAndGlyphs\" textLength=\"11\" x=\"191\" y=\"87.1074\">W</text></a><!--MD5=[09b614a08d8cba4a07c9adeb5e0fee81]\n",
       "class E3--><a href=\"psysml:075fa6d2-8e51-4049-a184-a21376454cfa\" target=\"_top\" title=\"psysml:075fa6d2-8e51-4049-a184-a21376454cfa\" xlink:actuate=\"onRequest\" xlink:href=\"psysml:075fa6d2-8e51-4049-a184-a21376454cfa\" xlink:show=\"new\" xlink:title=\"psysml:075fa6d2-8e51-4049-a184-a21376454cfa\" xlink:type=\"simple\"><rect fill=\"#FFFFFF\" height=\"45.9375\" id=\"E3\" rx=\"10\" ry=\"10\" style=\"stroke: #383838; stroke-width: 1.5;\" width=\"71\" x=\"276.5\" y=\"285\"/><text fill=\"#000000\" font-family=\"sans-serif\" font-size=\"12\" font-style=\"italic\" lengthAdjust=\"spacingAndGlyphs\" textLength=\"69\" x=\"277.5\" y=\"301.1387\">«attribute»</text><text fill=\"#000000\" font-family=\"sans-serif\" font-size=\"12\" lengthAdjust=\"spacingAndGlyphs\" textLength=\"11\" x=\"304.5\" y=\"315.1074\">m</text><line style=\"stroke: #383838; stroke-width: 1.5;\" x1=\"277.5\" x2=\"346.5\" y1=\"322.9375\" y2=\"322.9375\"/></a><!--MD5=[ebbe1d658d1005bcc118a6aa81145e00]\n",
       "class E4--><a href=\"psysml:0ef473ce-6f49-4b48-ae7c-25bde7c2058c\" target=\"_top\" title=\"psysml:0ef473ce-6f49-4b48-ae7c-25bde7c2058c\" xlink:actuate=\"onRequest\" xlink:href=\"psysml:0ef473ce-6f49-4b48-ae7c-25bde7c2058c\" xlink:show=\"new\" xlink:title=\"psysml:0ef473ce-6f49-4b48-ae7c-25bde7c2058c\" xlink:type=\"simple\"><rect fill=\"#FFFFFF\" height=\"45.9375\" id=\"E4\" rx=\"10\" ry=\"10\" style=\"stroke: #383838; stroke-width: 1.5;\" width=\"71\" x=\"170.5\" y=\"285\"/><text fill=\"#000000\" font-family=\"sans-serif\" font-size=\"12\" font-style=\"italic\" lengthAdjust=\"spacingAndGlyphs\" textLength=\"69\" x=\"171.5\" y=\"301.1387\">«attribute»</text><text fill=\"#000000\" font-family=\"sans-serif\" font-size=\"12\" lengthAdjust=\"spacingAndGlyphs\" textLength=\"8\" x=\"200\" y=\"315.1074\">n</text><line style=\"stroke: #383838; stroke-width: 1.5;\" x1=\"171.5\" x2=\"240.5\" y1=\"322.9375\" y2=\"322.9375\"/></a><!--MD5=[60a26617385b1d2d0262a64233df1f8d]\n",
       "class E6--><a href=\"psysml:ec8a8e56-fcc6-4673-8c8e-468b75026770\" target=\"_top\" title=\"psysml:ec8a8e56-fcc6-4673-8c8e-468b75026770\" xlink:actuate=\"onRequest\" xlink:href=\"psysml:ec8a8e56-fcc6-4673-8c8e-468b75026770\" xlink:show=\"new\" xlink:title=\"psysml:ec8a8e56-fcc6-4673-8c8e-468b75026770\" xlink:type=\"simple\"><rect fill=\"#FFFFFF\" height=\"45.9375\" id=\"E6\" rx=\"10\" ry=\"10\" style=\"stroke: #383838; stroke-width: 1.5;\" width=\"71\" x=\"314.5\" y=\"116\"/><text fill=\"#000000\" font-family=\"sans-serif\" font-size=\"12\" font-style=\"italic\" lengthAdjust=\"spacingAndGlyphs\" textLength=\"69\" x=\"315.5\" y=\"132.1387\">«attribute»</text><text fill=\"#000000\" font-family=\"sans-serif\" font-size=\"12\" lengthAdjust=\"spacingAndGlyphs\" textLength=\"11\" x=\"342.5\" y=\"146.1074\">m</text><line style=\"stroke: #383838; stroke-width: 1.5;\" x1=\"315.5\" x2=\"384.5\" y1=\"153.9375\" y2=\"153.9375\"/></a><!--MD5=[b9389687b975829384b498ac4b7476b2]\n",
       "class E8--><a href=\"psysml:38866ed6-d027-47ed-9e9b-10f0103d500c\" target=\"_top\" title=\"psysml:38866ed6-d027-47ed-9e9b-10f0103d500c\" xlink:actuate=\"onRequest\" xlink:href=\"psysml:38866ed6-d027-47ed-9e9b-10f0103d500c\" xlink:show=\"new\" xlink:title=\"psysml:38866ed6-d027-47ed-9e9b-10f0103d500c\" xlink:type=\"simple\"><rect fill=\"#FFFFFF\" height=\"45.9375\" id=\"E8\" rx=\"10\" ry=\"10\" style=\"stroke: #383838; stroke-width: 1.5;\" width=\"71\" x=\"170.5\" y=\"116\"/><text fill=\"#000000\" font-family=\"sans-serif\" font-size=\"12\" font-style=\"italic\" lengthAdjust=\"spacingAndGlyphs\" textLength=\"69\" x=\"171.5\" y=\"132.1387\">«attribute»</text><text fill=\"#000000\" font-family=\"sans-serif\" font-size=\"12\" lengthAdjust=\"spacingAndGlyphs\" textLength=\"11\" x=\"198.5\" y=\"146.1074\">m</text><line style=\"stroke: #383838; stroke-width: 1.5;\" x1=\"171.5\" x2=\"240.5\" y1=\"153.9375\" y2=\"153.9375\"/></a><g id=\"E1.E9\"><a href=\"psysml:8648f4f6-facd-4996-a918-0994903b340f\" target=\"_top\" title=\"psysml:8648f4f6-facd-4996-a918-0994903b340f\" xlink:actuate=\"onRequest\" xlink:href=\"psysml:8648f4f6-facd-4996-a918-0994903b340f\" xlink:show=\"new\" xlink:title=\"psysml:8648f4f6-facd-4996-a918-0994903b340f\" xlink:type=\"simple\"><rect fill=\"#FFFFFF\" height=\"40\" id=\"E9\" rx=\"10\" ry=\"10\" style=\"stroke: #383838; stroke-width: 1.5;\" width=\"68\" x=\"32\" y=\"119\"/><rect fill=\"#F8F8F8\" height=\"23.9688\" rx=\"10\" ry=\"10\" style=\"stroke: #F8F8F8; stroke-width: 1.5;\" width=\"68\" x=\"32\" y=\"119\"/><rect fill=\"#F8F8F8\" height=\"10\" style=\"stroke: #F8F8F8; stroke-width: 1.5;\" width=\"68\" x=\"32\" y=\"132.9688\"/><rect fill=\"none\" height=\"40\" id=\"E9\" rx=\"10\" ry=\"10\" style=\"stroke: #383838; stroke-width: 1.5;\" width=\"68\" x=\"32\" y=\"119\"/><text fill=\"#000000\" font-family=\"sans-serif\" font-size=\"12\" lengthAdjust=\"spacingAndGlyphs\" textLength=\"53\" x=\"37.5\" y=\"135.1387\">v2= W();</text></a></g><!--MD5=[a717450b82c80b9240a525fa862496af]\n",
       "link E6 to E3--><a href=\"psysml:319addec-2b51-47f0-a10b-c2bc2405cd29\" target=\"_top\" title=\"psysml:319addec-2b51-47f0-a10b-c2bc2405cd29\" xlink:actuate=\"onRequest\" xlink:href=\"psysml:319addec-2b51-47f0-a10b-c2bc2405cd29\" xlink:show=\"new\" xlink:title=\"psysml:319addec-2b51-47f0-a10b-c2bc2405cd29\" xlink:type=\"simple\"><path d=\"M344.95,162.18 C338.98,188.45 328.89,232.78 321.45,265.49 \" fill=\"none\" id=\"E6-&gt;E3\" style=\"stroke: #383838; stroke-width: 1.0;\"/><polygon fill=\"#FFFFFF\" points=\"317.01,285,314.4057,264.9197,328.0559,268.0298,317.01,285\" style=\"stroke: #383838; stroke-width: 1.0;\"/><line style=\"stroke: #383838; stroke-width: 2.0;\" x1=\"315.2498\" x2=\"328.9\" y1=\"261.2147\" y2=\"264.3247\"/></a><!--MD5=[583832df87f4419a098336a29a52fa00]\n",
       "link E7 to E2--><a href=\"psysml:13494711-98b1-4251-8963-46d1e0c35503\" target=\"_top\" title=\"psysml:13494711-98b1-4251-8963-46d1e0c35503\" xlink:actuate=\"onRequest\" xlink:href=\"psysml:13494711-98b1-4251-8963-46d1e0c35503\" xlink:show=\"new\" xlink:title=\"psysml:13494711-98b1-4251-8963-46d1e0c35503\" xlink:type=\"simple\"><path d=\"M135,186.7597 C135,189.0567 135,191.4 135,193.7804 C135,203.3019 135,213.4163 135,223.53 C135,224.1621 135,224.7942 135,225.4262 C135,225.5842 135,225.7421 135,225.9001 \" fill=\"none\" id=\"E7-&gt;E2\" style=\"stroke: #383838; stroke-width: 1.0;\"/><polygon fill=\"#FFFFFF\" points=\"135,225.9001,142,206.9001,128,206.9001,135,225.9001\" style=\"stroke: #383838; stroke-width: 1.0;\"/></a><!--MD5=[95fa686b5a16158bcdbcaeead89f639b]\n",
       "link E8 to E3--><a href=\"psysml:27f15f96-8451-4ffb-b537-81d2f9d472fa\" target=\"_top\" title=\"psysml:27f15f96-8451-4ffb-b537-81d2f9d472fa\" xlink:actuate=\"onRequest\" xlink:href=\"psysml:27f15f96-8451-4ffb-b537-81d2f9d472fa\" xlink:show=\"new\" xlink:title=\"psysml:27f15f96-8451-4ffb-b537-81d2f9d472fa\" xlink:type=\"simple\"><path d=\"M224.06,162.09 C234.74,175.57 248.24,193.36 259,210 C270.79,228.22 282.5,249.28 291.91,267.1 \" fill=\"none\" id=\"E8-&gt;E3\" style=\"stroke: #383838; stroke-width: 1.0;\"/><polygon fill=\"#FFFFFF\" points=\"301.11,284.89,286.1673,271.2256,298.6042,264.7972,301.11,284.89\" style=\"stroke: #383838; stroke-width: 1.0;\"/><line style=\"stroke: #383838; stroke-width: 2.0;\" x1=\"284.4225\" x2=\"296.8594\" y1=\"267.8499\" y2=\"261.4215\"/></a><!--MD5=[aa49224ab2673bba08350edba93c568a]\n",
       "@startuml\r\n",
       "skinparam ranksep 10\r\n",
       "skinparam rectangle {\r\n",
       " backgroundColor<<block>> LightGreen\r\n",
       "}\r\n",
       "skinparam monochrome true\r\n",
       "skinparam classbackgroundcolor white\r\n",
       "skinparam shadowing false\r\n",
       "skinparam wrapWidth 300\r\n",
       "hide circle\r\n",
       "\r\n",
       "package \"DefaultValueTest\" as E1  [[psysml:6839459c-d74b-4e54-a7fb-96b2013b0c1a ]]  {\r\n",
       "rec def \"V\" as E2  <<(T,blue) part  def>> [[psysml:f6ad7545-3639-41cb-8da0-571497d98dc5 ]] {\r\n",
       "comp usage \"m \" as E3  <<(T,blue) attribute>> [[psysml:075fa6d2-8e51-4049-a184-a21376454cfa ]] {\r\n",
       "}\r\n",
       "comp usage \"n \" as E4  <<(T,blue) attribute>> [[psysml:0ef473ce-6f49-4b48-ae7c-25bde7c2058c ]] {\r\n",
       "}\r\n",
       "}\r\n",
       "rec usage \"v1: V\" as E5  [[psysml:1ac351b0-bbdc-4492-9f99-b540f7d23706 ]] {\r\n",
       "comp usage \"m \" as E6  <<(T,blue) attribute>> [[psysml:ec8a8e56-fcc6-4673-8c8e-468b75026770 ]] {\r\n",
       "}\r\n",
       "}\r\n",
       "rec def \"W\" as E7  <<(T,blue) part  def>> [[psysml:aeba74e7-35ad-441a-aaf4-220a7e48fb18 ]] {\r\n",
       "comp usage \"m \" as E8  <<(T,blue) attribute>> [[psysml:38866ed6-d027-47ed-9e9b-10f0103d500c ]] {\r\n",
       "}\r\n",
       "}\r\n",
       "rec usage \"v2= W(); \" as E9  [[psysml:8648f4f6-facd-4996-a918-0994903b340f ]] {\r\n",
       "}\r\n",
       "}\r\n",
       "E6 - -||> E3 [[psysml:319addec-2b51-47f0-a10b-c2bc2405cd29 ]] \r\n",
       "E7 - -|> E2 [[psysml:13494711-98b1-4251-8963-46d1e0c35503 ]] \r\n",
       "E8 - -||> E3 [[psysml:27f15f96-8451-4ffb-b537-81d2f9d472fa ]] \r\n",
       "@enduml\r\n",
       "\n",
       "PlantUML version 1.2020.13(Sat Jun 13 12:26:38 UTC 2020)\n",
       "(EPL source distribution)\n",
       "Java Runtime: OpenJDK Runtime Environment\n",
       "JVM: OpenJDK 64-Bit Server VM\n",
       "Default Encoding: UTF-8\n",
       "Language: en\n",
       "Country: null\n",
       "--></g></svg>"
      ]
     },
     "execution_count": 40,
     "metadata": {},
     "output_type": "execute_result"
    }
   ],
   "source": [
    "%viz --style=\"DEFAULT\" --view=\"Interconnection\" \"DefaultValueTest\""
   ]
  },
  {
   "cell_type": "code",
   "execution_count": 41,
   "id": "099f8c56",
   "metadata": {
    "execution": {
     "iopub.execute_input": "2022-02-18T10:51:42.433893Z",
     "iopub.status.busy": "2022-02-18T10:51:42.433393Z",
     "iopub.status.idle": "2022-02-18T10:51:42.437774Z",
     "shell.execute_reply": "2022-02-18T10:51:42.437440Z"
    }
   },
   "outputs": [
    {
     "data": {
      "image/svg+xml": [
       "<?xml version=\"1.0\" encoding=\"UTF-8\" standalone=\"no\"?><svg xmlns=\"http://www.w3.org/2000/svg\" xmlns:xlink=\"http://www.w3.org/1999/xlink\" contentScriptType=\"application/ecmascript\" contentStyleType=\"text/css\" height=\"12px\" preserveAspectRatio=\"none\" style=\"width:12px;height:12px;\" version=\"1.1\" viewBox=\"0 0 12 12\" width=\"12px\" zoomAndPan=\"magnify\"><defs/><g><!--MD5=[388f21188e31bfdd97050473b19af356]\n",
       "@startuml\r\n",
       "skinparam ranksep 8\r\n",
       "skinparam monochrome true\r\n",
       "skinparam classbackgroundcolor white\r\n",
       "skinparam shadowing false\r\n",
       "skinparam wrapWidth 300\r\n",
       "hide circle\r\n",
       "\r\n",
       "@enduml\r\n",
       "\n",
       "PlantUML version 1.2020.13(Sat Jun 13 12:26:38 UTC 2020)\n",
       "(EPL source distribution)\n",
       "Java Runtime: OpenJDK Runtime Environment\n",
       "JVM: OpenJDK 64-Bit Server VM\n",
       "Default Encoding: UTF-8\n",
       "Language: en\n",
       "Country: null\n",
       "--></g></svg>"
      ]
     },
     "execution_count": 41,
     "metadata": {},
     "output_type": "execute_result"
    }
   ],
   "source": [
    "%viz --style=\"DEFAULT\" --view=\"Action\" \"DefaultValueTest\""
   ]
  },
  {
   "cell_type": "code",
   "execution_count": 42,
   "id": "dbbebc49",
   "metadata": {
    "execution": {
     "iopub.execute_input": "2022-02-18T10:51:42.487958Z",
     "iopub.status.busy": "2022-02-18T10:51:42.487380Z",
     "iopub.status.idle": "2022-02-18T10:51:42.491799Z",
     "shell.execute_reply": "2022-02-18T10:51:42.491448Z"
    }
   },
   "outputs": [
    {
     "data": {
      "image/svg+xml": [
       "<?xml version=\"1.0\" encoding=\"UTF-8\" standalone=\"no\"?><svg xmlns=\"http://www.w3.org/2000/svg\" xmlns:xlink=\"http://www.w3.org/1999/xlink\" contentScriptType=\"application/ecmascript\" contentStyleType=\"text/css\" height=\"12px\" preserveAspectRatio=\"none\" style=\"width:12px;height:12px;\" version=\"1.1\" viewBox=\"0 0 12 12\" width=\"12px\" zoomAndPan=\"magnify\"><defs/><g><!--MD5=[0b72472770326784bf6c2b53246e1e64]\n",
       "@startuml\r\n",
       "skinparam roundcorner 20\r\n",
       "skinparam BoxPadding 20\r\n",
       "skinparam SequenceBoxBackgroundColor #white\r\n",
       "skinparam style strictuml\r\n",
       "skinparam maxMessageSize 100\r\n",
       "skinparam monochrome true\r\n",
       "skinparam classbackgroundcolor white\r\n",
       "skinparam shadowing false\r\n",
       "skinparam wrapWidth 300\r\n",
       "hide circle\r\n",
       "\r\n",
       "@enduml\r\n",
       "\n",
       "PlantUML version 1.2020.13(Sat Jun 13 12:26:38 UTC 2020)\n",
       "(EPL source distribution)\n",
       "Java Runtime: OpenJDK Runtime Environment\n",
       "JVM: OpenJDK 64-Bit Server VM\n",
       "Default Encoding: UTF-8\n",
       "Language: en\n",
       "Country: null\n",
       "--></g></svg>"
      ]
     },
     "execution_count": 42,
     "metadata": {},
     "output_type": "execute_result"
    }
   ],
   "source": [
    "%viz --style=\"DEFAULT\" --view=\"Sequence\" \"DefaultValueTest\""
   ]
  },
  {
   "cell_type": "code",
   "execution_count": 43,
   "id": "8f315033",
   "metadata": {
    "execution": {
     "iopub.execute_input": "2022-02-18T10:51:42.541616Z",
     "iopub.status.busy": "2022-02-18T10:51:42.541217Z",
     "iopub.status.idle": "2022-02-18T10:51:42.625757Z",
     "shell.execute_reply": "2022-02-18T10:51:42.625399Z"
    }
   },
   "outputs": [
    {
     "data": {
      "image/svg+xml": [
       "<?xml version=\"1.0\" encoding=\"UTF-8\" standalone=\"no\"?><svg xmlns=\"http://www.w3.org/2000/svg\" xmlns:xlink=\"http://www.w3.org/1999/xlink\" contentScriptType=\"application/ecmascript\" contentStyleType=\"text/css\" height=\"305px\" preserveAspectRatio=\"none\" style=\"width:349px;height:305px;\" version=\"1.1\" viewBox=\"0 0 349 305\" width=\"349px\" zoomAndPan=\"magnify\"><defs/><g><!--MD5=[fbc87193dbaf4d95561dea2c320d4a47]\n",
       "cluster E1--><a href=\"psysml:6839459c-d74b-4e54-a7fb-96b2013b0c1a\" target=\"_top\" title=\"psysml:6839459c-d74b-4e54-a7fb-96b2013b0c1a\" xlink:actuate=\"onRequest\" xlink:href=\"psysml:6839459c-d74b-4e54-a7fb-96b2013b0c1a\" xlink:show=\"new\" xlink:title=\"psysml:6839459c-d74b-4e54-a7fb-96b2013b0c1a\" xlink:type=\"simple\"><polygon fill=\"#FFFFFF\" points=\"16,6,140,6,147,28.2969,327,28.2969,327,293,16,293,16,6\" style=\"stroke: #000000; stroke-width: 1.5;\"/><line style=\"stroke: #000000; stroke-width: 1.5;\" x1=\"16\" x2=\"147\" y1=\"28.2969\" y2=\"28.2969\"/><text fill=\"#000000\" font-family=\"sans-serif\" font-size=\"14\" font-weight=\"bold\" lengthAdjust=\"spacingAndGlyphs\" textLength=\"118\" x=\"20\" y=\"20.9951\">DefaultValueTest</text></a><!--MD5=[b4997ac47864f28c2f74865a473b2911]\n",
       "class E2--><a href=\"psysml:f6ad7545-3639-41cb-8da0-571497d98dc5\" target=\"_top\" title=\"psysml:f6ad7545-3639-41cb-8da0-571497d98dc5\" xlink:actuate=\"onRequest\" xlink:href=\"psysml:f6ad7545-3639-41cb-8da0-571497d98dc5\" xlink:show=\"new\" xlink:title=\"psysml:f6ad7545-3639-41cb-8da0-571497d98dc5\" xlink:type=\"simple\"><rect fill=\"#FFFFFF\" height=\"88.3516\" id=\"E2\" style=\"stroke: #383838; stroke-width: 1.5;\" width=\"106\" x=\"156\" y=\"189\"/><text fill=\"#000000\" font-family=\"sans-serif\" font-size=\"12\" font-style=\"italic\" lengthAdjust=\"spacingAndGlyphs\" textLength=\"68\" x=\"175\" y=\"205.1387\">«part  def»</text><text fill=\"#000000\" font-family=\"sans-serif\" font-size=\"12\" lengthAdjust=\"spacingAndGlyphs\" textLength=\"8\" x=\"205\" y=\"219.1074\">V</text><line style=\"stroke: #383838; stroke-width: 1.5;\" x1=\"157\" x2=\"261\" y1=\"226.9375\" y2=\"226.9375\"/><text fill=\"#000000\" font-family=\"sans-serif\" font-size=\"11\" lengthAdjust=\"spacingAndGlyphs\" textLength=\"94\" x=\"162\" y=\"257.9526\">m=default = 10;</text><text fill=\"#000000\" font-family=\"sans-serif\" font-size=\"11\" lengthAdjust=\"spacingAndGlyphs\" textLength=\"38\" x=\"162\" y=\"270.7573\">n= 20;</text><line style=\"stroke: #383838; stroke-width: 1.0;\" x1=\"157\" x2=\"181.5\" y1=\"241.3398\" y2=\"241.3398\"/><text fill=\"#000000\" font-family=\"sans-serif\" font-size=\"11\" lengthAdjust=\"spacingAndGlyphs\" textLength=\"55\" x=\"181.5\" y=\"244.6479\">attributes</text><line style=\"stroke: #383838; stroke-width: 1.0;\" x1=\"236.5\" x2=\"261\" y1=\"241.3398\" y2=\"241.3398\"/></a><!--MD5=[09b614a08d8cba4a07c9adeb5e0fee81]\n",
       "class E3--><a href=\"psysml:1ac351b0-bbdc-4492-9f99-b540f7d23706\" target=\"_top\" title=\"psysml:1ac351b0-bbdc-4492-9f99-b540f7d23706\" xlink:actuate=\"onRequest\" xlink:href=\"psysml:1ac351b0-bbdc-4492-9f99-b540f7d23706\" xlink:show=\"new\" xlink:title=\"psysml:1ac351b0-bbdc-4492-9f99-b540f7d23706\" xlink:type=\"simple\"><rect fill=\"#FFFFFF\" height=\"88.3516\" id=\"E3\" rx=\"10\" ry=\"10\" style=\"stroke: #383838; stroke-width: 1.5;\" width=\"63\" x=\"247.5\" y=\"41\"/><text fill=\"#000000\" font-family=\"sans-serif\" font-size=\"12\" font-style=\"italic\" lengthAdjust=\"spacingAndGlyphs\" textLength=\"40\" x=\"259\" y=\"57.1387\">«part»</text><text fill=\"#000000\" font-family=\"sans-serif\" font-size=\"12\" lengthAdjust=\"spacingAndGlyphs\" textLength=\"30\" x=\"262\" y=\"71.1074\">v1: V</text><line style=\"stroke: #383838; stroke-width: 1.5;\" x1=\"248.5\" x2=\"309.5\" y1=\"78.9375\" y2=\"78.9375\"/><text fill=\"#000000\" font-family=\"sans-serif\" font-size=\"11\" lengthAdjust=\"spacingAndGlyphs\" textLength=\"42\" x=\"253.5\" y=\"109.9526\">m= 20;</text><text fill=\"#000000\" font-family=\"sans-serif\" font-size=\"11\" font-style=\"italic\" lengthAdjust=\"spacingAndGlyphs\" textLength=\"48\" x=\"253.5\" y=\"122.7573\">:&gt;&gt;V::m</text><line style=\"stroke: #383838; stroke-width: 1.0;\" x1=\"248.5\" x2=\"251.5\" y1=\"93.3398\" y2=\"93.3398\"/><text fill=\"#000000\" font-family=\"sans-serif\" font-size=\"11\" lengthAdjust=\"spacingAndGlyphs\" textLength=\"55\" x=\"251.5\" y=\"96.6479\">attributes</text><line style=\"stroke: #383838; stroke-width: 1.0;\" x1=\"306.5\" x2=\"309.5\" y1=\"93.3398\" y2=\"93.3398\"/></a><!--MD5=[ebbe1d658d1005bcc118a6aa81145e00]\n",
       "class E4--><a href=\"psysml:aeba74e7-35ad-441a-aaf4-220a7e48fb18\" target=\"_top\" title=\"psysml:aeba74e7-35ad-441a-aaf4-220a7e48fb18\" xlink:actuate=\"onRequest\" xlink:href=\"psysml:aeba74e7-35ad-441a-aaf4-220a7e48fb18\" xlink:show=\"new\" xlink:title=\"psysml:aeba74e7-35ad-441a-aaf4-220a7e48fb18\" xlink:type=\"simple\"><rect fill=\"#FFFFFF\" height=\"88.3516\" id=\"E4\" style=\"stroke: #383838; stroke-width: 1.5;\" width=\"103\" x=\"109.5\" y=\"41\"/><text fill=\"#000000\" font-family=\"sans-serif\" font-size=\"12\" font-style=\"italic\" lengthAdjust=\"spacingAndGlyphs\" textLength=\"68\" x=\"127\" y=\"57.1387\">«part  def»</text><text fill=\"#000000\" font-family=\"sans-serif\" font-size=\"12\" lengthAdjust=\"spacingAndGlyphs\" textLength=\"11\" x=\"155.5\" y=\"71.1074\">W</text><line style=\"stroke: #383838; stroke-width: 1.5;\" x1=\"110.5\" x2=\"211.5\" y1=\"78.9375\" y2=\"78.9375\"/><text fill=\"#000000\" font-family=\"sans-serif\" font-size=\"11\" lengthAdjust=\"spacingAndGlyphs\" textLength=\"87\" x=\"115.5\" y=\"109.9526\">m=default = n;</text><text fill=\"#000000\" font-family=\"sans-serif\" font-size=\"11\" font-style=\"italic\" lengthAdjust=\"spacingAndGlyphs\" textLength=\"48\" x=\"115.5\" y=\"122.7573\">:&gt;&gt;V::m</text><line style=\"stroke: #383838; stroke-width: 1.0;\" x1=\"110.5\" x2=\"133.5\" y1=\"93.3398\" y2=\"93.3398\"/><text fill=\"#000000\" font-family=\"sans-serif\" font-size=\"11\" lengthAdjust=\"spacingAndGlyphs\" textLength=\"55\" x=\"133.5\" y=\"96.6479\">attributes</text><line style=\"stroke: #383838; stroke-width: 1.0;\" x1=\"188.5\" x2=\"211.5\" y1=\"93.3398\" y2=\"93.3398\"/></a><!--MD5=[270fce915f116d4de14055a7c1d9a0f3]\n",
       "class E5--><a href=\"psysml:8648f4f6-facd-4996-a918-0994903b340f\" target=\"_top\" title=\"psysml:8648f4f6-facd-4996-a918-0994903b340f\" xlink:actuate=\"onRequest\" xlink:href=\"psysml:8648f4f6-facd-4996-a918-0994903b340f\" xlink:show=\"new\" xlink:title=\"psysml:8648f4f6-facd-4996-a918-0994903b340f\" xlink:type=\"simple\"><rect fill=\"#FFFFFF\" height=\"45.9375\" id=\"E5\" rx=\"10\" ry=\"10\" style=\"stroke: #383838; stroke-width: 1.5;\" width=\"42\" x=\"32\" y=\"62\"/><text fill=\"#000000\" font-family=\"sans-serif\" font-size=\"12\" font-style=\"italic\" lengthAdjust=\"spacingAndGlyphs\" textLength=\"40\" x=\"33\" y=\"78.1387\">«part»</text><text fill=\"#000000\" font-family=\"sans-serif\" font-size=\"12\" lengthAdjust=\"spacingAndGlyphs\" textLength=\"14\" x=\"44\" y=\"92.1074\">v2</text><line style=\"stroke: #383838; stroke-width: 1.5;\" x1=\"33\" x2=\"73\" y1=\"99.9375\" y2=\"99.9375\"/></a><!--MD5=[05d275557350bfb9b23a4ef7222b4c39]\n",
       "link E3 to E2--><a href=\"psysml:f9d68518-1ffd-4856-b3d4-4b8d752762cd\" target=\"_top\" title=\"psysml:f9d68518-1ffd-4856-b3d4-4b8d752762cd\" xlink:actuate=\"onRequest\" xlink:href=\"psysml:f9d68518-1ffd-4856-b3d4-4b8d752762cd\" xlink:show=\"new\" xlink:title=\"psysml:f9d68518-1ffd-4856-b3d4-4b8d752762cd\" xlink:type=\"simple\"><path d=\"M258.38,129.02 C252.17,141.97 245.22,156.45 238.55,170.36 \" fill=\"none\" id=\"E3-&gt;E2\" style=\"stroke: #383838; stroke-width: 1.0;\"/><polygon fill=\"#FFFFFF\" points=\"229.72,188.79,231.6151,168.6304,244.2413,174.6786,229.72,188.79\" style=\"stroke: #383838; stroke-width: 1.0;\"/><ellipse cx=\"235.8813\" cy=\"164.3538\" fill=\"#383838\" rx=\"2\" ry=\"2\" style=\"stroke: #383838; stroke-width: 1.0;\"/><ellipse cx=\"244.9\" cy=\"168.6739\" fill=\"#383838\" rx=\"2\" ry=\"2\" style=\"stroke: #383838; stroke-width: 1.0;\"/></a><!--MD5=[185131fc0dcab0a4505a2ebe144e961b]\n",
       "link E4 to E2--><a href=\"psysml:13494711-98b1-4251-8963-46d1e0c35503\" target=\"_top\" title=\"psysml:13494711-98b1-4251-8963-46d1e0c35503\" xlink:actuate=\"onRequest\" xlink:href=\"psysml:13494711-98b1-4251-8963-46d1e0c35503\" xlink:show=\"new\" xlink:title=\"psysml:13494711-98b1-4251-8963-46d1e0c35503\" xlink:type=\"simple\"><path d=\"M175.14,129.02 C179.3,141.67 183.94,155.79 188.42,169.41 \" fill=\"none\" id=\"E4-&gt;E2\" style=\"stroke: #383838; stroke-width: 1.0;\"/><polygon fill=\"none\" points=\"195.2,167.6,194.79,188.79,181.9,171.97,195.2,167.6\" style=\"stroke: #383838; stroke-width: 1.0;\"/></a><!--MD5=[42c030756d1cf88d4c4f530fe932f2bc]\n",
       "@startuml\r\n",
       "skinparam monochrome true\r\n",
       "skinparam classbackgroundcolor white\r\n",
       "skinparam shadowing false\r\n",
       "skinparam wrapWidth 300\r\n",
       "hide circle\r\n",
       "\r\n",
       "package \"DefaultValueTest\" as E1  [[psysml:6839459c-d74b-4e54-a7fb-96b2013b0c1a ]]  {\r\n",
       "comp def \"V\" as E2  <<(T,blue) part  def>> [[psysml:f6ad7545-3639-41cb-8da0-571497d98dc5 ]] {\r\n",
       "- - attributes - -\r\n",
       "m=default = 10; \r\n",
       "n= 20; \r\n",
       "}\r\n",
       "comp usage \"v1: V \" as E3  <<(T,blue) part>> [[psysml:1ac351b0-bbdc-4492-9f99-b540f7d23706 ]] {\r\n",
       "- - attributes - -\r\n",
       "m= 20; \\n//:>>V::m// \r\n",
       "}\r\n",
       "comp def \"W\" as E4  <<(T,blue) part  def>> [[psysml:aeba74e7-35ad-441a-aaf4-220a7e48fb18 ]] {\r\n",
       "- - attributes - -\r\n",
       "m=default = n; \\n//:>>V::m// \r\n",
       "}\r\n",
       "comp usage \"v2 \" as E5  <<(T,blue) part>> [[psysml:8648f4f6-facd-4996-a918-0994903b340f ]] {\r\n",
       "}\r\n",
       "}\r\n",
       "E3 - -:|> E2 [[psysml:f9d68518-1ffd-4856-b3d4-4b8d752762cd ]] \r\n",
       "E4 - -|> E2 [[psysml:13494711-98b1-4251-8963-46d1e0c35503 ]] \r\n",
       "@enduml\r\n",
       "\n",
       "PlantUML version 1.2020.13(Sat Jun 13 12:26:38 UTC 2020)\n",
       "(EPL source distribution)\n",
       "Java Runtime: OpenJDK Runtime Environment\n",
       "JVM: OpenJDK 64-Bit Server VM\n",
       "Default Encoding: UTF-8\n",
       "Language: en\n",
       "Country: null\n",
       "--></g></svg>"
      ]
     },
     "execution_count": 43,
     "metadata": {},
     "output_type": "execute_result"
    }
   ],
   "source": [
    "%viz --style=\"DEFAULT\" --view=\"MIXED\" \"DefaultValueTest\""
   ]
  },
  {
   "cell_type": "code",
   "execution_count": 44,
   "id": "a66a720e",
   "metadata": {
    "execution": {
     "iopub.execute_input": "2022-02-18T10:51:42.676006Z",
     "iopub.status.busy": "2022-02-18T10:51:42.675389Z",
     "iopub.status.idle": "2022-02-18T10:51:42.760743Z",
     "shell.execute_reply": "2022-02-18T10:51:42.759373Z"
    }
   },
   "outputs": [
    {
     "data": {
      "image/svg+xml": [
       "<?xml version=\"1.0\" encoding=\"UTF-8\" standalone=\"no\"?><svg xmlns=\"http://www.w3.org/2000/svg\" xmlns:xlink=\"http://www.w3.org/1999/xlink\" contentScriptType=\"application/ecmascript\" contentStyleType=\"text/css\" height=\"305px\" preserveAspectRatio=\"none\" style=\"width:349px;height:305px;\" version=\"1.1\" viewBox=\"0 0 349 305\" width=\"349px\" zoomAndPan=\"magnify\"><defs/><g><!--MD5=[fbc87193dbaf4d95561dea2c320d4a47]\n",
       "cluster E1--><a href=\"psysml:6839459c-d74b-4e54-a7fb-96b2013b0c1a\" target=\"_top\" title=\"psysml:6839459c-d74b-4e54-a7fb-96b2013b0c1a\" xlink:actuate=\"onRequest\" xlink:href=\"psysml:6839459c-d74b-4e54-a7fb-96b2013b0c1a\" xlink:show=\"new\" xlink:title=\"psysml:6839459c-d74b-4e54-a7fb-96b2013b0c1a\" xlink:type=\"simple\"><polygon fill=\"#FFFFFF\" points=\"16,6,140,6,147,28.2969,327,28.2969,327,293,16,293,16,6\" style=\"stroke: #000000; stroke-width: 1.5;\"/><line style=\"stroke: #000000; stroke-width: 1.5;\" x1=\"16\" x2=\"147\" y1=\"28.2969\" y2=\"28.2969\"/><text fill=\"#000000\" font-family=\"sans-serif\" font-size=\"14\" font-weight=\"bold\" lengthAdjust=\"spacingAndGlyphs\" textLength=\"118\" x=\"20\" y=\"20.9951\">DefaultValueTest</text></a><!--MD5=[b4997ac47864f28c2f74865a473b2911]\n",
       "class E2--><a href=\"psysml:f6ad7545-3639-41cb-8da0-571497d98dc5\" target=\"_top\" title=\"psysml:f6ad7545-3639-41cb-8da0-571497d98dc5\" xlink:actuate=\"onRequest\" xlink:href=\"psysml:f6ad7545-3639-41cb-8da0-571497d98dc5\" xlink:show=\"new\" xlink:title=\"psysml:f6ad7545-3639-41cb-8da0-571497d98dc5\" xlink:type=\"simple\"><rect fill=\"#FFFFFF\" height=\"88.3516\" id=\"E2\" style=\"stroke: #383838; stroke-width: 1.5;\" width=\"106\" x=\"156\" y=\"189\"/><text fill=\"#000000\" font-family=\"sans-serif\" font-size=\"12\" font-style=\"italic\" lengthAdjust=\"spacingAndGlyphs\" textLength=\"68\" x=\"175\" y=\"205.1387\">«part  def»</text><text fill=\"#000000\" font-family=\"sans-serif\" font-size=\"12\" lengthAdjust=\"spacingAndGlyphs\" textLength=\"8\" x=\"205\" y=\"219.1074\">V</text><line style=\"stroke: #383838; stroke-width: 1.5;\" x1=\"157\" x2=\"261\" y1=\"226.9375\" y2=\"226.9375\"/><text fill=\"#000000\" font-family=\"sans-serif\" font-size=\"11\" lengthAdjust=\"spacingAndGlyphs\" textLength=\"94\" x=\"162\" y=\"257.9526\">m=default = 10;</text><text fill=\"#000000\" font-family=\"sans-serif\" font-size=\"11\" lengthAdjust=\"spacingAndGlyphs\" textLength=\"38\" x=\"162\" y=\"270.7573\">n= 20;</text><line style=\"stroke: #383838; stroke-width: 1.0;\" x1=\"157\" x2=\"181.5\" y1=\"241.3398\" y2=\"241.3398\"/><text fill=\"#000000\" font-family=\"sans-serif\" font-size=\"11\" lengthAdjust=\"spacingAndGlyphs\" textLength=\"55\" x=\"181.5\" y=\"244.6479\">attributes</text><line style=\"stroke: #383838; stroke-width: 1.0;\" x1=\"236.5\" x2=\"261\" y1=\"241.3398\" y2=\"241.3398\"/></a><!--MD5=[09b614a08d8cba4a07c9adeb5e0fee81]\n",
       "class E3--><a href=\"psysml:1ac351b0-bbdc-4492-9f99-b540f7d23706\" target=\"_top\" title=\"psysml:1ac351b0-bbdc-4492-9f99-b540f7d23706\" xlink:actuate=\"onRequest\" xlink:href=\"psysml:1ac351b0-bbdc-4492-9f99-b540f7d23706\" xlink:show=\"new\" xlink:title=\"psysml:1ac351b0-bbdc-4492-9f99-b540f7d23706\" xlink:type=\"simple\"><rect fill=\"#FFFFFF\" height=\"88.3516\" id=\"E3\" rx=\"10\" ry=\"10\" style=\"stroke: #383838; stroke-width: 1.5;\" width=\"63\" x=\"247.5\" y=\"41\"/><text fill=\"#000000\" font-family=\"sans-serif\" font-size=\"12\" font-style=\"italic\" lengthAdjust=\"spacingAndGlyphs\" textLength=\"40\" x=\"259\" y=\"57.1387\">«part»</text><text fill=\"#000000\" font-family=\"sans-serif\" font-size=\"12\" lengthAdjust=\"spacingAndGlyphs\" textLength=\"30\" x=\"262\" y=\"71.1074\">v1: V</text><line style=\"stroke: #383838; stroke-width: 1.5;\" x1=\"248.5\" x2=\"309.5\" y1=\"78.9375\" y2=\"78.9375\"/><text fill=\"#000000\" font-family=\"sans-serif\" font-size=\"11\" lengthAdjust=\"spacingAndGlyphs\" textLength=\"42\" x=\"253.5\" y=\"109.9526\">m= 20;</text><text fill=\"#000000\" font-family=\"sans-serif\" font-size=\"11\" font-style=\"italic\" lengthAdjust=\"spacingAndGlyphs\" textLength=\"48\" x=\"253.5\" y=\"122.7573\">:&gt;&gt;V::m</text><line style=\"stroke: #383838; stroke-width: 1.0;\" x1=\"248.5\" x2=\"251.5\" y1=\"93.3398\" y2=\"93.3398\"/><text fill=\"#000000\" font-family=\"sans-serif\" font-size=\"11\" lengthAdjust=\"spacingAndGlyphs\" textLength=\"55\" x=\"251.5\" y=\"96.6479\">attributes</text><line style=\"stroke: #383838; stroke-width: 1.0;\" x1=\"306.5\" x2=\"309.5\" y1=\"93.3398\" y2=\"93.3398\"/></a><!--MD5=[ebbe1d658d1005bcc118a6aa81145e00]\n",
       "class E4--><a href=\"psysml:aeba74e7-35ad-441a-aaf4-220a7e48fb18\" target=\"_top\" title=\"psysml:aeba74e7-35ad-441a-aaf4-220a7e48fb18\" xlink:actuate=\"onRequest\" xlink:href=\"psysml:aeba74e7-35ad-441a-aaf4-220a7e48fb18\" xlink:show=\"new\" xlink:title=\"psysml:aeba74e7-35ad-441a-aaf4-220a7e48fb18\" xlink:type=\"simple\"><rect fill=\"#FFFFFF\" height=\"88.3516\" id=\"E4\" style=\"stroke: #383838; stroke-width: 1.5;\" width=\"103\" x=\"109.5\" y=\"41\"/><text fill=\"#000000\" font-family=\"sans-serif\" font-size=\"12\" font-style=\"italic\" lengthAdjust=\"spacingAndGlyphs\" textLength=\"68\" x=\"127\" y=\"57.1387\">«part  def»</text><text fill=\"#000000\" font-family=\"sans-serif\" font-size=\"12\" lengthAdjust=\"spacingAndGlyphs\" textLength=\"11\" x=\"155.5\" y=\"71.1074\">W</text><line style=\"stroke: #383838; stroke-width: 1.5;\" x1=\"110.5\" x2=\"211.5\" y1=\"78.9375\" y2=\"78.9375\"/><text fill=\"#000000\" font-family=\"sans-serif\" font-size=\"11\" lengthAdjust=\"spacingAndGlyphs\" textLength=\"87\" x=\"115.5\" y=\"109.9526\">m=default = n;</text><text fill=\"#000000\" font-family=\"sans-serif\" font-size=\"11\" font-style=\"italic\" lengthAdjust=\"spacingAndGlyphs\" textLength=\"48\" x=\"115.5\" y=\"122.7573\">:&gt;&gt;V::m</text><line style=\"stroke: #383838; stroke-width: 1.0;\" x1=\"110.5\" x2=\"133.5\" y1=\"93.3398\" y2=\"93.3398\"/><text fill=\"#000000\" font-family=\"sans-serif\" font-size=\"11\" lengthAdjust=\"spacingAndGlyphs\" textLength=\"55\" x=\"133.5\" y=\"96.6479\">attributes</text><line style=\"stroke: #383838; stroke-width: 1.0;\" x1=\"188.5\" x2=\"211.5\" y1=\"93.3398\" y2=\"93.3398\"/></a><!--MD5=[270fce915f116d4de14055a7c1d9a0f3]\n",
       "class E5--><a href=\"psysml:8648f4f6-facd-4996-a918-0994903b340f\" target=\"_top\" title=\"psysml:8648f4f6-facd-4996-a918-0994903b340f\" xlink:actuate=\"onRequest\" xlink:href=\"psysml:8648f4f6-facd-4996-a918-0994903b340f\" xlink:show=\"new\" xlink:title=\"psysml:8648f4f6-facd-4996-a918-0994903b340f\" xlink:type=\"simple\"><rect fill=\"#FFFFFF\" height=\"45.9375\" id=\"E5\" rx=\"10\" ry=\"10\" style=\"stroke: #383838; stroke-width: 1.5;\" width=\"42\" x=\"32\" y=\"62\"/><text fill=\"#000000\" font-family=\"sans-serif\" font-size=\"12\" font-style=\"italic\" lengthAdjust=\"spacingAndGlyphs\" textLength=\"40\" x=\"33\" y=\"78.1387\">«part»</text><text fill=\"#000000\" font-family=\"sans-serif\" font-size=\"12\" lengthAdjust=\"spacingAndGlyphs\" textLength=\"14\" x=\"44\" y=\"92.1074\">v2</text><line style=\"stroke: #383838; stroke-width: 1.5;\" x1=\"33\" x2=\"73\" y1=\"99.9375\" y2=\"99.9375\"/></a><!--MD5=[05d275557350bfb9b23a4ef7222b4c39]\n",
       "link E3 to E2--><a href=\"psysml:f9d68518-1ffd-4856-b3d4-4b8d752762cd\" target=\"_top\" title=\"psysml:f9d68518-1ffd-4856-b3d4-4b8d752762cd\" xlink:actuate=\"onRequest\" xlink:href=\"psysml:f9d68518-1ffd-4856-b3d4-4b8d752762cd\" xlink:show=\"new\" xlink:title=\"psysml:f9d68518-1ffd-4856-b3d4-4b8d752762cd\" xlink:type=\"simple\"><path d=\"M258.38,129.02 C252.17,141.97 245.22,156.45 238.55,170.36 \" fill=\"none\" id=\"E3-&gt;E2\" style=\"stroke: #383838; stroke-width: 1.0;\"/><polygon fill=\"#FFFFFF\" points=\"229.72,188.79,231.6151,168.6304,244.2413,174.6786,229.72,188.79\" style=\"stroke: #383838; stroke-width: 1.0;\"/><ellipse cx=\"235.8813\" cy=\"164.3538\" fill=\"#383838\" rx=\"2\" ry=\"2\" style=\"stroke: #383838; stroke-width: 1.0;\"/><ellipse cx=\"244.9\" cy=\"168.6739\" fill=\"#383838\" rx=\"2\" ry=\"2\" style=\"stroke: #383838; stroke-width: 1.0;\"/></a><!--MD5=[185131fc0dcab0a4505a2ebe144e961b]\n",
       "link E4 to E2--><a href=\"psysml:13494711-98b1-4251-8963-46d1e0c35503\" target=\"_top\" title=\"psysml:13494711-98b1-4251-8963-46d1e0c35503\" xlink:actuate=\"onRequest\" xlink:href=\"psysml:13494711-98b1-4251-8963-46d1e0c35503\" xlink:show=\"new\" xlink:title=\"psysml:13494711-98b1-4251-8963-46d1e0c35503\" xlink:type=\"simple\"><path d=\"M175.14,129.02 C179.3,141.67 183.94,155.79 188.42,169.41 \" fill=\"none\" id=\"E4-&gt;E2\" style=\"stroke: #383838; stroke-width: 1.0;\"/><polygon fill=\"none\" points=\"195.2,167.6,194.79,188.79,181.9,171.97,195.2,167.6\" style=\"stroke: #383838; stroke-width: 1.0;\"/></a><!--MD5=[4adf5ee757d80e34507eb93aeade7778]\n",
       "@startuml\r\n",
       "top to bottom direction\r\n",
       "skinparam monochrome true\r\n",
       "skinparam classbackgroundcolor white\r\n",
       "skinparam shadowing false\r\n",
       "skinparam wrapWidth 300\r\n",
       "hide circle\r\n",
       "\r\n",
       "package \"DefaultValueTest\" as E1  [[psysml:6839459c-d74b-4e54-a7fb-96b2013b0c1a ]]  {\r\n",
       "comp def \"V\" as E2  <<(T,blue) part  def>> [[psysml:f6ad7545-3639-41cb-8da0-571497d98dc5 ]] {\r\n",
       "- - attributes - -\r\n",
       "m=default = 10; \r\n",
       "n= 20; \r\n",
       "}\r\n",
       "comp usage \"v1: V \" as E3  <<(T,blue) part>> [[psysml:1ac351b0-bbdc-4492-9f99-b540f7d23706 ]] {\r\n",
       "- - attributes - -\r\n",
       "m= 20; \\n//:>>V::m// \r\n",
       "}\r\n",
       "comp def \"W\" as E4  <<(T,blue) part  def>> [[psysml:aeba74e7-35ad-441a-aaf4-220a7e48fb18 ]] {\r\n",
       "- - attributes - -\r\n",
       "m=default = n; \\n//:>>V::m// \r\n",
       "}\r\n",
       "comp usage \"v2 \" as E5  <<(T,blue) part>> [[psysml:8648f4f6-facd-4996-a918-0994903b340f ]] {\r\n",
       "}\r\n",
       "}\r\n",
       "E3 - -:|> E2 [[psysml:f9d68518-1ffd-4856-b3d4-4b8d752762cd ]] \r\n",
       "E4 - -|> E2 [[psysml:13494711-98b1-4251-8963-46d1e0c35503 ]] \r\n",
       "@enduml\r\n",
       "\n",
       "PlantUML version 1.2020.13(Sat Jun 13 12:26:38 UTC 2020)\n",
       "(EPL source distribution)\n",
       "Java Runtime: OpenJDK Runtime Environment\n",
       "JVM: OpenJDK 64-Bit Server VM\n",
       "Default Encoding: UTF-8\n",
       "Language: en\n",
       "Country: null\n",
       "--></g></svg>"
      ]
     },
     "execution_count": 44,
     "metadata": {},
     "output_type": "execute_result"
    }
   ],
   "source": [
    "%viz --style=\"TB\" --view=\"Default\" \"DefaultValueTest\""
   ]
  },
  {
   "cell_type": "code",
   "execution_count": 45,
   "id": "87878e79",
   "metadata": {
    "execution": {
     "iopub.execute_input": "2022-02-18T10:51:42.810178Z",
     "iopub.status.busy": "2022-02-18T10:51:42.809768Z",
     "iopub.status.idle": "2022-02-18T10:51:42.891495Z",
     "shell.execute_reply": "2022-02-18T10:51:42.891113Z"
    }
   },
   "outputs": [
    {
     "data": {
      "image/svg+xml": [
       "<?xml version=\"1.0\" encoding=\"UTF-8\" standalone=\"no\"?><svg xmlns=\"http://www.w3.org/2000/svg\" xmlns:xlink=\"http://www.w3.org/1999/xlink\" contentScriptType=\"application/ecmascript\" contentStyleType=\"text/css\" height=\"305px\" preserveAspectRatio=\"none\" style=\"width:349px;height:305px;\" version=\"1.1\" viewBox=\"0 0 349 305\" width=\"349px\" zoomAndPan=\"magnify\"><defs/><g><!--MD5=[fbc87193dbaf4d95561dea2c320d4a47]\n",
       "cluster E1--><a href=\"psysml:6839459c-d74b-4e54-a7fb-96b2013b0c1a\" target=\"_top\" title=\"psysml:6839459c-d74b-4e54-a7fb-96b2013b0c1a\" xlink:actuate=\"onRequest\" xlink:href=\"psysml:6839459c-d74b-4e54-a7fb-96b2013b0c1a\" xlink:show=\"new\" xlink:title=\"psysml:6839459c-d74b-4e54-a7fb-96b2013b0c1a\" xlink:type=\"simple\"><polygon fill=\"#FFFFFF\" points=\"16,6,140,6,147,28.2969,327,28.2969,327,293,16,293,16,6\" style=\"stroke: #000000; stroke-width: 1.5;\"/><line style=\"stroke: #000000; stroke-width: 1.5;\" x1=\"16\" x2=\"147\" y1=\"28.2969\" y2=\"28.2969\"/><text fill=\"#000000\" font-family=\"sans-serif\" font-size=\"14\" font-weight=\"bold\" lengthAdjust=\"spacingAndGlyphs\" textLength=\"118\" x=\"20\" y=\"20.9951\">DefaultValueTest</text></a><!--MD5=[b4997ac47864f28c2f74865a473b2911]\n",
       "class E2--><a href=\"psysml:f6ad7545-3639-41cb-8da0-571497d98dc5\" target=\"_top\" title=\"psysml:f6ad7545-3639-41cb-8da0-571497d98dc5\" xlink:actuate=\"onRequest\" xlink:href=\"psysml:f6ad7545-3639-41cb-8da0-571497d98dc5\" xlink:show=\"new\" xlink:title=\"psysml:f6ad7545-3639-41cb-8da0-571497d98dc5\" xlink:type=\"simple\"><rect fill=\"#FFFFFF\" height=\"88.3516\" id=\"E2\" style=\"stroke: #383838; stroke-width: 1.5;\" width=\"106\" x=\"156\" y=\"189\"/><text fill=\"#000000\" font-family=\"sans-serif\" font-size=\"12\" font-style=\"italic\" lengthAdjust=\"spacingAndGlyphs\" textLength=\"68\" x=\"175\" y=\"205.1387\">«part  def»</text><text fill=\"#000000\" font-family=\"sans-serif\" font-size=\"12\" lengthAdjust=\"spacingAndGlyphs\" textLength=\"8\" x=\"205\" y=\"219.1074\">V</text><line style=\"stroke: #383838; stroke-width: 1.5;\" x1=\"157\" x2=\"261\" y1=\"226.9375\" y2=\"226.9375\"/><text fill=\"#000000\" font-family=\"sans-serif\" font-size=\"11\" lengthAdjust=\"spacingAndGlyphs\" textLength=\"94\" x=\"162\" y=\"257.9526\">m=default = 10;</text><text fill=\"#000000\" font-family=\"sans-serif\" font-size=\"11\" lengthAdjust=\"spacingAndGlyphs\" textLength=\"38\" x=\"162\" y=\"270.7573\">n= 20;</text><line style=\"stroke: #383838; stroke-width: 1.0;\" x1=\"157\" x2=\"181.5\" y1=\"241.3398\" y2=\"241.3398\"/><text fill=\"#000000\" font-family=\"sans-serif\" font-size=\"11\" lengthAdjust=\"spacingAndGlyphs\" textLength=\"55\" x=\"181.5\" y=\"244.6479\">attributes</text><line style=\"stroke: #383838; stroke-width: 1.0;\" x1=\"236.5\" x2=\"261\" y1=\"241.3398\" y2=\"241.3398\"/></a><!--MD5=[09b614a08d8cba4a07c9adeb5e0fee81]\n",
       "class E3--><a href=\"psysml:1ac351b0-bbdc-4492-9f99-b540f7d23706\" target=\"_top\" title=\"psysml:1ac351b0-bbdc-4492-9f99-b540f7d23706\" xlink:actuate=\"onRequest\" xlink:href=\"psysml:1ac351b0-bbdc-4492-9f99-b540f7d23706\" xlink:show=\"new\" xlink:title=\"psysml:1ac351b0-bbdc-4492-9f99-b540f7d23706\" xlink:type=\"simple\"><rect fill=\"#FFFFFF\" height=\"88.3516\" id=\"E3\" rx=\"10\" ry=\"10\" style=\"stroke: #383838; stroke-width: 1.5;\" width=\"63\" x=\"247.5\" y=\"41\"/><text fill=\"#000000\" font-family=\"sans-serif\" font-size=\"12\" font-style=\"italic\" lengthAdjust=\"spacingAndGlyphs\" textLength=\"40\" x=\"259\" y=\"57.1387\">«part»</text><text fill=\"#000000\" font-family=\"sans-serif\" font-size=\"12\" lengthAdjust=\"spacingAndGlyphs\" textLength=\"30\" x=\"262\" y=\"71.1074\">v1: V</text><line style=\"stroke: #383838; stroke-width: 1.5;\" x1=\"248.5\" x2=\"309.5\" y1=\"78.9375\" y2=\"78.9375\"/><text fill=\"#000000\" font-family=\"sans-serif\" font-size=\"11\" lengthAdjust=\"spacingAndGlyphs\" textLength=\"42\" x=\"253.5\" y=\"109.9526\">m= 20;</text><text fill=\"#000000\" font-family=\"sans-serif\" font-size=\"11\" font-style=\"italic\" lengthAdjust=\"spacingAndGlyphs\" textLength=\"48\" x=\"253.5\" y=\"122.7573\">:&gt;&gt;V::m</text><line style=\"stroke: #383838; stroke-width: 1.0;\" x1=\"248.5\" x2=\"251.5\" y1=\"93.3398\" y2=\"93.3398\"/><text fill=\"#000000\" font-family=\"sans-serif\" font-size=\"11\" lengthAdjust=\"spacingAndGlyphs\" textLength=\"55\" x=\"251.5\" y=\"96.6479\">attributes</text><line style=\"stroke: #383838; stroke-width: 1.0;\" x1=\"306.5\" x2=\"309.5\" y1=\"93.3398\" y2=\"93.3398\"/></a><!--MD5=[ebbe1d658d1005bcc118a6aa81145e00]\n",
       "class E4--><a href=\"psysml:aeba74e7-35ad-441a-aaf4-220a7e48fb18\" target=\"_top\" title=\"psysml:aeba74e7-35ad-441a-aaf4-220a7e48fb18\" xlink:actuate=\"onRequest\" xlink:href=\"psysml:aeba74e7-35ad-441a-aaf4-220a7e48fb18\" xlink:show=\"new\" xlink:title=\"psysml:aeba74e7-35ad-441a-aaf4-220a7e48fb18\" xlink:type=\"simple\"><rect fill=\"#FFFFFF\" height=\"88.3516\" id=\"E4\" style=\"stroke: #383838; stroke-width: 1.5;\" width=\"103\" x=\"109.5\" y=\"41\"/><text fill=\"#000000\" font-family=\"sans-serif\" font-size=\"12\" font-style=\"italic\" lengthAdjust=\"spacingAndGlyphs\" textLength=\"68\" x=\"127\" y=\"57.1387\">«part  def»</text><text fill=\"#000000\" font-family=\"sans-serif\" font-size=\"12\" lengthAdjust=\"spacingAndGlyphs\" textLength=\"11\" x=\"155.5\" y=\"71.1074\">W</text><line style=\"stroke: #383838; stroke-width: 1.5;\" x1=\"110.5\" x2=\"211.5\" y1=\"78.9375\" y2=\"78.9375\"/><text fill=\"#000000\" font-family=\"sans-serif\" font-size=\"11\" lengthAdjust=\"spacingAndGlyphs\" textLength=\"87\" x=\"115.5\" y=\"109.9526\">m=default = n;</text><text fill=\"#000000\" font-family=\"sans-serif\" font-size=\"11\" font-style=\"italic\" lengthAdjust=\"spacingAndGlyphs\" textLength=\"48\" x=\"115.5\" y=\"122.7573\">:&gt;&gt;V::m</text><line style=\"stroke: #383838; stroke-width: 1.0;\" x1=\"110.5\" x2=\"133.5\" y1=\"93.3398\" y2=\"93.3398\"/><text fill=\"#000000\" font-family=\"sans-serif\" font-size=\"11\" lengthAdjust=\"spacingAndGlyphs\" textLength=\"55\" x=\"133.5\" y=\"96.6479\">attributes</text><line style=\"stroke: #383838; stroke-width: 1.0;\" x1=\"188.5\" x2=\"211.5\" y1=\"93.3398\" y2=\"93.3398\"/></a><!--MD5=[270fce915f116d4de14055a7c1d9a0f3]\n",
       "class E5--><a href=\"psysml:8648f4f6-facd-4996-a918-0994903b340f\" target=\"_top\" title=\"psysml:8648f4f6-facd-4996-a918-0994903b340f\" xlink:actuate=\"onRequest\" xlink:href=\"psysml:8648f4f6-facd-4996-a918-0994903b340f\" xlink:show=\"new\" xlink:title=\"psysml:8648f4f6-facd-4996-a918-0994903b340f\" xlink:type=\"simple\"><rect fill=\"#FFFFFF\" height=\"45.9375\" id=\"E5\" rx=\"10\" ry=\"10\" style=\"stroke: #383838; stroke-width: 1.5;\" width=\"42\" x=\"32\" y=\"62\"/><text fill=\"#000000\" font-family=\"sans-serif\" font-size=\"12\" font-style=\"italic\" lengthAdjust=\"spacingAndGlyphs\" textLength=\"40\" x=\"33\" y=\"78.1387\">«part»</text><text fill=\"#000000\" font-family=\"sans-serif\" font-size=\"12\" lengthAdjust=\"spacingAndGlyphs\" textLength=\"14\" x=\"44\" y=\"92.1074\">v2</text><line style=\"stroke: #383838; stroke-width: 1.5;\" x1=\"33\" x2=\"73\" y1=\"99.9375\" y2=\"99.9375\"/></a><!--MD5=[05d275557350bfb9b23a4ef7222b4c39]\n",
       "link E3 to E2--><a href=\"psysml:f9d68518-1ffd-4856-b3d4-4b8d752762cd\" target=\"_top\" title=\"psysml:f9d68518-1ffd-4856-b3d4-4b8d752762cd\" xlink:actuate=\"onRequest\" xlink:href=\"psysml:f9d68518-1ffd-4856-b3d4-4b8d752762cd\" xlink:show=\"new\" xlink:title=\"psysml:f9d68518-1ffd-4856-b3d4-4b8d752762cd\" xlink:type=\"simple\"><path d=\"M258.38,129.02 C252.17,141.97 245.22,156.45 238.55,170.36 \" fill=\"none\" id=\"E3-&gt;E2\" style=\"stroke: #383838; stroke-width: 1.0;\"/><polygon fill=\"#FFFFFF\" points=\"229.72,188.79,231.6151,168.6304,244.2413,174.6786,229.72,188.79\" style=\"stroke: #383838; stroke-width: 1.0;\"/><ellipse cx=\"235.8813\" cy=\"164.3538\" fill=\"#383838\" rx=\"2\" ry=\"2\" style=\"stroke: #383838; stroke-width: 1.0;\"/><ellipse cx=\"244.9\" cy=\"168.6739\" fill=\"#383838\" rx=\"2\" ry=\"2\" style=\"stroke: #383838; stroke-width: 1.0;\"/></a><!--MD5=[185131fc0dcab0a4505a2ebe144e961b]\n",
       "link E4 to E2--><a href=\"psysml:13494711-98b1-4251-8963-46d1e0c35503\" target=\"_top\" title=\"psysml:13494711-98b1-4251-8963-46d1e0c35503\" xlink:actuate=\"onRequest\" xlink:href=\"psysml:13494711-98b1-4251-8963-46d1e0c35503\" xlink:show=\"new\" xlink:title=\"psysml:13494711-98b1-4251-8963-46d1e0c35503\" xlink:type=\"simple\"><path d=\"M175.14,129.02 C179.3,141.67 183.94,155.79 188.42,169.41 \" fill=\"none\" id=\"E4-&gt;E2\" style=\"stroke: #383838; stroke-width: 1.0;\"/><polygon fill=\"none\" points=\"195.2,167.6,194.79,188.79,181.9,171.97,195.2,167.6\" style=\"stroke: #383838; stroke-width: 1.0;\"/></a><!--MD5=[4adf5ee757d80e34507eb93aeade7778]\n",
       "@startuml\r\n",
       "top to bottom direction\r\n",
       "skinparam monochrome true\r\n",
       "skinparam classbackgroundcolor white\r\n",
       "skinparam shadowing false\r\n",
       "skinparam wrapWidth 300\r\n",
       "hide circle\r\n",
       "\r\n",
       "package \"DefaultValueTest\" as E1  [[psysml:6839459c-d74b-4e54-a7fb-96b2013b0c1a ]]  {\r\n",
       "comp def \"V\" as E2  <<(T,blue) part  def>> [[psysml:f6ad7545-3639-41cb-8da0-571497d98dc5 ]] {\r\n",
       "- - attributes - -\r\n",
       "m=default = 10; \r\n",
       "n= 20; \r\n",
       "}\r\n",
       "comp usage \"v1: V \" as E3  <<(T,blue) part>> [[psysml:1ac351b0-bbdc-4492-9f99-b540f7d23706 ]] {\r\n",
       "- - attributes - -\r\n",
       "m= 20; \\n//:>>V::m// \r\n",
       "}\r\n",
       "comp def \"W\" as E4  <<(T,blue) part  def>> [[psysml:aeba74e7-35ad-441a-aaf4-220a7e48fb18 ]] {\r\n",
       "- - attributes - -\r\n",
       "m=default = n; \\n//:>>V::m// \r\n",
       "}\r\n",
       "comp usage \"v2 \" as E5  <<(T,blue) part>> [[psysml:8648f4f6-facd-4996-a918-0994903b340f ]] {\r\n",
       "}\r\n",
       "}\r\n",
       "E3 - -:|> E2 [[psysml:f9d68518-1ffd-4856-b3d4-4b8d752762cd ]] \r\n",
       "E4 - -|> E2 [[psysml:13494711-98b1-4251-8963-46d1e0c35503 ]] \r\n",
       "@enduml\r\n",
       "\n",
       "PlantUML version 1.2020.13(Sat Jun 13 12:26:38 UTC 2020)\n",
       "(EPL source distribution)\n",
       "Java Runtime: OpenJDK Runtime Environment\n",
       "JVM: OpenJDK 64-Bit Server VM\n",
       "Default Encoding: UTF-8\n",
       "Language: en\n",
       "Country: null\n",
       "--></g></svg>"
      ]
     },
     "execution_count": 45,
     "metadata": {},
     "output_type": "execute_result"
    }
   ],
   "source": [
    "%viz --style=\"TB\" --view=\"Tree\" \"DefaultValueTest\""
   ]
  },
  {
   "cell_type": "code",
   "execution_count": 46,
   "id": "45d54076",
   "metadata": {
    "execution": {
     "iopub.execute_input": "2022-02-18T10:51:42.941021Z",
     "iopub.status.busy": "2022-02-18T10:51:42.940616Z",
     "iopub.status.idle": "2022-02-18T10:51:42.943725Z",
     "shell.execute_reply": "2022-02-18T10:51:42.943350Z"
    }
   },
   "outputs": [
    {
     "data": {
      "image/svg+xml": [
       "<?xml version=\"1.0\" encoding=\"UTF-8\" standalone=\"no\"?><svg xmlns=\"http://www.w3.org/2000/svg\" xmlns:xlink=\"http://www.w3.org/1999/xlink\" contentScriptType=\"application/ecmascript\" contentStyleType=\"text/css\" height=\"12px\" preserveAspectRatio=\"none\" style=\"width:12px;height:12px;\" version=\"1.1\" viewBox=\"0 0 12 12\" width=\"12px\" zoomAndPan=\"magnify\"><defs/><g><!--MD5=[f4ee21bc66e489b5061b7c3e9601fdef]\n",
       "@startuml\r\n",
       "top to bottom direction\r\n",
       "skinparam monochrome true\r\n",
       "skinparam classbackgroundcolor white\r\n",
       "skinparam shadowing false\r\n",
       "skinparam wrapWidth 300\r\n",
       "hide circle\r\n",
       "\r\n",
       "@enduml\r\n",
       "\n",
       "PlantUML version 1.2020.13(Sat Jun 13 12:26:38 UTC 2020)\n",
       "(EPL source distribution)\n",
       "Java Runtime: OpenJDK Runtime Environment\n",
       "JVM: OpenJDK 64-Bit Server VM\n",
       "Default Encoding: UTF-8\n",
       "Language: en\n",
       "Country: null\n",
       "--></g></svg>"
      ]
     },
     "execution_count": 46,
     "metadata": {},
     "output_type": "execute_result"
    }
   ],
   "source": [
    "%viz --style=\"TB\" --view=\"State\" \"DefaultValueTest\""
   ]
  },
  {
   "cell_type": "code",
   "execution_count": 47,
   "id": "e28e2c72",
   "metadata": {
    "execution": {
     "iopub.execute_input": "2022-02-18T10:51:42.993562Z",
     "iopub.status.busy": "2022-02-18T10:51:42.993164Z",
     "iopub.status.idle": "2022-02-18T10:51:43.030486Z",
     "shell.execute_reply": "2022-02-18T10:51:43.030134Z"
    }
   },
   "outputs": [
    {
     "data": {
      "image/svg+xml": [
       "<?xml version=\"1.0\" encoding=\"UTF-8\" standalone=\"no\"?><svg xmlns=\"http://www.w3.org/2000/svg\" xmlns:xlink=\"http://www.w3.org/1999/xlink\" contentScriptType=\"application/ecmascript\" contentStyleType=\"text/css\" height=\"399px\" preserveAspectRatio=\"none\" style=\"width:448px;height:399px;\" version=\"1.1\" viewBox=\"0 0 448 399\" width=\"448px\" zoomAndPan=\"magnify\"><defs/><g><!--MD5=[fbc87193dbaf4d95561dea2c320d4a47]\n",
       "cluster E1--><a href=\"psysml:6839459c-d74b-4e54-a7fb-96b2013b0c1a\" target=\"_top\" title=\"psysml:6839459c-d74b-4e54-a7fb-96b2013b0c1a\" xlink:actuate=\"onRequest\" xlink:href=\"psysml:6839459c-d74b-4e54-a7fb-96b2013b0c1a\" xlink:show=\"new\" xlink:title=\"psysml:6839459c-d74b-4e54-a7fb-96b2013b0c1a\" xlink:type=\"simple\"><polygon fill=\"#FFFFFF\" points=\"16,6,140,6,147,28.2969,426,28.2969,426,387,16,387,16,6\" style=\"stroke: #000000; stroke-width: 1.5;\"/><line style=\"stroke: #000000; stroke-width: 1.5;\" x1=\"16\" x2=\"147\" y1=\"28.2969\" y2=\"28.2969\"/><text fill=\"#000000\" font-family=\"sans-serif\" font-size=\"14\" font-weight=\"bold\" lengthAdjust=\"spacingAndGlyphs\" textLength=\"118\" x=\"20\" y=\"20.9951\">DefaultValueTest</text></a><!--MD5=[e4f7fae6ed58524ba242bb0b0d3be6b7]\n",
       "cluster E2--><a href=\"psysml:f6ad7545-3639-41cb-8da0-571497d98dc5\" target=\"_top\" title=\"psysml:f6ad7545-3639-41cb-8da0-571497d98dc5\" xlink:actuate=\"onRequest\" xlink:href=\"psysml:f6ad7545-3639-41cb-8da0-571497d98dc5\" xlink:show=\"new\" xlink:title=\"psysml:f6ad7545-3639-41cb-8da0-571497d98dc5\" xlink:type=\"simple\"><rect fill=\"#FFFFFF\" height=\"129\" id=\"E2\" style=\"stroke: #383838; stroke-width: 1.5;\" width=\"245\" x=\"127\" y=\"226\"/><rect fill=\"#F8F8F8\" height=\"37.9375\" style=\"stroke: #383838; stroke-width: 1.5;\" width=\"245\" x=\"127\" y=\"226\"/><text fill=\"#000000\" font-family=\"sans-serif\" font-size=\"12\" font-style=\"italic\" lengthAdjust=\"spacingAndGlyphs\" textLength=\"68\" x=\"215.5\" y=\"242.1387\">«part  def»</text><text fill=\"#000000\" font-family=\"sans-serif\" font-size=\"12\" lengthAdjust=\"spacingAndGlyphs\" textLength=\"8\" x=\"245.5\" y=\"256.1074\">V</text></a><!--MD5=[de5ec2e2e8f62f467e546659f5068c88]\n",
       "cluster E5--><a href=\"psysml:1ac351b0-bbdc-4492-9f99-b540f7d23706\" target=\"_top\" title=\"psysml:1ac351b0-bbdc-4492-9f99-b540f7d23706\" xlink:actuate=\"onRequest\" xlink:href=\"psysml:1ac351b0-bbdc-4492-9f99-b540f7d23706\" xlink:show=\"new\" xlink:title=\"psysml:1ac351b0-bbdc-4492-9f99-b540f7d23706\" xlink:type=\"simple\"><rect fill=\"#FFFFFF\" height=\"97\" id=\"E5\" rx=\"10\" ry=\"10\" style=\"stroke: #383838; stroke-width: 1.5;\" width=\"104\" x=\"298\" y=\"81\"/><rect fill=\"#F8F8F8\" height=\"23.9688\" rx=\"10\" ry=\"10\" style=\"stroke: #F8F8F8; stroke-width: 1.5;\" width=\"104\" x=\"298\" y=\"81\"/><rect fill=\"#F8F8F8\" height=\"10\" style=\"stroke: #F8F8F8; stroke-width: 1.5;\" width=\"104\" x=\"298\" y=\"94.9688\"/><rect fill=\"none\" height=\"97\" id=\"E5\" rx=\"10\" ry=\"10\" style=\"stroke: #383838; stroke-width: 1.5;\" width=\"104\" x=\"298\" y=\"81\"/><text fill=\"#000000\" font-family=\"sans-serif\" font-size=\"12\" lengthAdjust=\"spacingAndGlyphs\" textLength=\"30\" x=\"335\" y=\"97.1387\">v1: V</text><line style=\"stroke: #383838; stroke-width: 1.0;\" x1=\"298\" x2=\"402\" y1=\"104.9688\" y2=\"104.9688\"/></a><!--MD5=[168fadf3d0c3fd93dd5d6da1b1d7ab76]\n",
       "cluster E7--><a href=\"psysml:aeba74e7-35ad-441a-aaf4-220a7e48fb18\" target=\"_top\" title=\"psysml:aeba74e7-35ad-441a-aaf4-220a7e48fb18\" xlink:actuate=\"onRequest\" xlink:href=\"psysml:aeba74e7-35ad-441a-aaf4-220a7e48fb18\" xlink:show=\"new\" xlink:title=\"psysml:aeba74e7-35ad-441a-aaf4-220a7e48fb18\" xlink:type=\"simple\"><rect fill=\"#FFFFFF\" height=\"129\" id=\"E7\" style=\"stroke: #383838; stroke-width: 1.5;\" width=\"139\" x=\"127\" y=\"57\"/><rect fill=\"#F8F8F8\" height=\"37.9375\" style=\"stroke: #383838; stroke-width: 1.5;\" width=\"139\" x=\"127\" y=\"57\"/><text fill=\"#000000\" font-family=\"sans-serif\" font-size=\"12\" font-style=\"italic\" lengthAdjust=\"spacingAndGlyphs\" textLength=\"68\" x=\"162.5\" y=\"73.1387\">«part  def»</text><text fill=\"#000000\" font-family=\"sans-serif\" font-size=\"12\" lengthAdjust=\"spacingAndGlyphs\" textLength=\"11\" x=\"191\" y=\"87.1074\">W</text></a><!--MD5=[09b614a08d8cba4a07c9adeb5e0fee81]\n",
       "class E3--><a href=\"psysml:075fa6d2-8e51-4049-a184-a21376454cfa\" target=\"_top\" title=\"psysml:075fa6d2-8e51-4049-a184-a21376454cfa\" xlink:actuate=\"onRequest\" xlink:href=\"psysml:075fa6d2-8e51-4049-a184-a21376454cfa\" xlink:show=\"new\" xlink:title=\"psysml:075fa6d2-8e51-4049-a184-a21376454cfa\" xlink:type=\"simple\"><rect fill=\"#FFFFFF\" height=\"45.9375\" id=\"E3\" rx=\"10\" ry=\"10\" style=\"stroke: #383838; stroke-width: 1.5;\" width=\"71\" x=\"276.5\" y=\"285\"/><text fill=\"#000000\" font-family=\"sans-serif\" font-size=\"12\" font-style=\"italic\" lengthAdjust=\"spacingAndGlyphs\" textLength=\"69\" x=\"277.5\" y=\"301.1387\">«attribute»</text><text fill=\"#000000\" font-family=\"sans-serif\" font-size=\"12\" lengthAdjust=\"spacingAndGlyphs\" textLength=\"11\" x=\"304.5\" y=\"315.1074\">m</text><line style=\"stroke: #383838; stroke-width: 1.5;\" x1=\"277.5\" x2=\"346.5\" y1=\"322.9375\" y2=\"322.9375\"/></a><!--MD5=[ebbe1d658d1005bcc118a6aa81145e00]\n",
       "class E4--><a href=\"psysml:0ef473ce-6f49-4b48-ae7c-25bde7c2058c\" target=\"_top\" title=\"psysml:0ef473ce-6f49-4b48-ae7c-25bde7c2058c\" xlink:actuate=\"onRequest\" xlink:href=\"psysml:0ef473ce-6f49-4b48-ae7c-25bde7c2058c\" xlink:show=\"new\" xlink:title=\"psysml:0ef473ce-6f49-4b48-ae7c-25bde7c2058c\" xlink:type=\"simple\"><rect fill=\"#FFFFFF\" height=\"45.9375\" id=\"E4\" rx=\"10\" ry=\"10\" style=\"stroke: #383838; stroke-width: 1.5;\" width=\"71\" x=\"170.5\" y=\"285\"/><text fill=\"#000000\" font-family=\"sans-serif\" font-size=\"12\" font-style=\"italic\" lengthAdjust=\"spacingAndGlyphs\" textLength=\"69\" x=\"171.5\" y=\"301.1387\">«attribute»</text><text fill=\"#000000\" font-family=\"sans-serif\" font-size=\"12\" lengthAdjust=\"spacingAndGlyphs\" textLength=\"8\" x=\"200\" y=\"315.1074\">n</text><line style=\"stroke: #383838; stroke-width: 1.5;\" x1=\"171.5\" x2=\"240.5\" y1=\"322.9375\" y2=\"322.9375\"/></a><!--MD5=[60a26617385b1d2d0262a64233df1f8d]\n",
       "class E6--><a href=\"psysml:ec8a8e56-fcc6-4673-8c8e-468b75026770\" target=\"_top\" title=\"psysml:ec8a8e56-fcc6-4673-8c8e-468b75026770\" xlink:actuate=\"onRequest\" xlink:href=\"psysml:ec8a8e56-fcc6-4673-8c8e-468b75026770\" xlink:show=\"new\" xlink:title=\"psysml:ec8a8e56-fcc6-4673-8c8e-468b75026770\" xlink:type=\"simple\"><rect fill=\"#FFFFFF\" height=\"45.9375\" id=\"E6\" rx=\"10\" ry=\"10\" style=\"stroke: #383838; stroke-width: 1.5;\" width=\"71\" x=\"314.5\" y=\"116\"/><text fill=\"#000000\" font-family=\"sans-serif\" font-size=\"12\" font-style=\"italic\" lengthAdjust=\"spacingAndGlyphs\" textLength=\"69\" x=\"315.5\" y=\"132.1387\">«attribute»</text><text fill=\"#000000\" font-family=\"sans-serif\" font-size=\"12\" lengthAdjust=\"spacingAndGlyphs\" textLength=\"11\" x=\"342.5\" y=\"146.1074\">m</text><line style=\"stroke: #383838; stroke-width: 1.5;\" x1=\"315.5\" x2=\"384.5\" y1=\"153.9375\" y2=\"153.9375\"/></a><!--MD5=[b9389687b975829384b498ac4b7476b2]\n",
       "class E8--><a href=\"psysml:38866ed6-d027-47ed-9e9b-10f0103d500c\" target=\"_top\" title=\"psysml:38866ed6-d027-47ed-9e9b-10f0103d500c\" xlink:actuate=\"onRequest\" xlink:href=\"psysml:38866ed6-d027-47ed-9e9b-10f0103d500c\" xlink:show=\"new\" xlink:title=\"psysml:38866ed6-d027-47ed-9e9b-10f0103d500c\" xlink:type=\"simple\"><rect fill=\"#FFFFFF\" height=\"45.9375\" id=\"E8\" rx=\"10\" ry=\"10\" style=\"stroke: #383838; stroke-width: 1.5;\" width=\"71\" x=\"170.5\" y=\"116\"/><text fill=\"#000000\" font-family=\"sans-serif\" font-size=\"12\" font-style=\"italic\" lengthAdjust=\"spacingAndGlyphs\" textLength=\"69\" x=\"171.5\" y=\"132.1387\">«attribute»</text><text fill=\"#000000\" font-family=\"sans-serif\" font-size=\"12\" lengthAdjust=\"spacingAndGlyphs\" textLength=\"11\" x=\"198.5\" y=\"146.1074\">m</text><line style=\"stroke: #383838; stroke-width: 1.5;\" x1=\"171.5\" x2=\"240.5\" y1=\"153.9375\" y2=\"153.9375\"/></a><g id=\"E1.E9\"><a href=\"psysml:8648f4f6-facd-4996-a918-0994903b340f\" target=\"_top\" title=\"psysml:8648f4f6-facd-4996-a918-0994903b340f\" xlink:actuate=\"onRequest\" xlink:href=\"psysml:8648f4f6-facd-4996-a918-0994903b340f\" xlink:show=\"new\" xlink:title=\"psysml:8648f4f6-facd-4996-a918-0994903b340f\" xlink:type=\"simple\"><rect fill=\"#FFFFFF\" height=\"40\" id=\"E9\" rx=\"10\" ry=\"10\" style=\"stroke: #383838; stroke-width: 1.5;\" width=\"68\" x=\"32\" y=\"119\"/><rect fill=\"#F8F8F8\" height=\"23.9688\" rx=\"10\" ry=\"10\" style=\"stroke: #F8F8F8; stroke-width: 1.5;\" width=\"68\" x=\"32\" y=\"119\"/><rect fill=\"#F8F8F8\" height=\"10\" style=\"stroke: #F8F8F8; stroke-width: 1.5;\" width=\"68\" x=\"32\" y=\"132.9688\"/><rect fill=\"none\" height=\"40\" id=\"E9\" rx=\"10\" ry=\"10\" style=\"stroke: #383838; stroke-width: 1.5;\" width=\"68\" x=\"32\" y=\"119\"/><text fill=\"#000000\" font-family=\"sans-serif\" font-size=\"12\" lengthAdjust=\"spacingAndGlyphs\" textLength=\"53\" x=\"37.5\" y=\"135.1387\">v2= W();</text></a></g><!--MD5=[a717450b82c80b9240a525fa862496af]\n",
       "link E6 to E3--><a href=\"psysml:319addec-2b51-47f0-a10b-c2bc2405cd29\" target=\"_top\" title=\"psysml:319addec-2b51-47f0-a10b-c2bc2405cd29\" xlink:actuate=\"onRequest\" xlink:href=\"psysml:319addec-2b51-47f0-a10b-c2bc2405cd29\" xlink:show=\"new\" xlink:title=\"psysml:319addec-2b51-47f0-a10b-c2bc2405cd29\" xlink:type=\"simple\"><path d=\"M344.95,162.18 C338.98,188.45 328.89,232.78 321.45,265.49 \" fill=\"none\" id=\"E6-&gt;E3\" style=\"stroke: #383838; stroke-width: 1.0;\"/><polygon fill=\"#FFFFFF\" points=\"317.01,285,314.4057,264.9197,328.0559,268.0298,317.01,285\" style=\"stroke: #383838; stroke-width: 1.0;\"/><line style=\"stroke: #383838; stroke-width: 2.0;\" x1=\"315.2498\" x2=\"328.9\" y1=\"261.2147\" y2=\"264.3247\"/></a><!--MD5=[583832df87f4419a098336a29a52fa00]\n",
       "link E7 to E2--><a href=\"psysml:13494711-98b1-4251-8963-46d1e0c35503\" target=\"_top\" title=\"psysml:13494711-98b1-4251-8963-46d1e0c35503\" xlink:actuate=\"onRequest\" xlink:href=\"psysml:13494711-98b1-4251-8963-46d1e0c35503\" xlink:show=\"new\" xlink:title=\"psysml:13494711-98b1-4251-8963-46d1e0c35503\" xlink:type=\"simple\"><path d=\"M135,186.7597 C135,189.0567 135,191.4 135,193.7804 C135,203.3019 135,213.4163 135,223.53 C135,224.1621 135,224.7942 135,225.4262 C135,225.5842 135,225.7421 135,225.9001 \" fill=\"none\" id=\"E7-&gt;E2\" style=\"stroke: #383838; stroke-width: 1.0;\"/><polygon fill=\"#FFFFFF\" points=\"135,225.9001,142,206.9001,128,206.9001,135,225.9001\" style=\"stroke: #383838; stroke-width: 1.0;\"/></a><!--MD5=[95fa686b5a16158bcdbcaeead89f639b]\n",
       "link E8 to E3--><a href=\"psysml:27f15f96-8451-4ffb-b537-81d2f9d472fa\" target=\"_top\" title=\"psysml:27f15f96-8451-4ffb-b537-81d2f9d472fa\" xlink:actuate=\"onRequest\" xlink:href=\"psysml:27f15f96-8451-4ffb-b537-81d2f9d472fa\" xlink:show=\"new\" xlink:title=\"psysml:27f15f96-8451-4ffb-b537-81d2f9d472fa\" xlink:type=\"simple\"><path d=\"M224.06,162.09 C234.74,175.57 248.24,193.36 259,210 C270.79,228.22 282.5,249.28 291.91,267.1 \" fill=\"none\" id=\"E8-&gt;E3\" style=\"stroke: #383838; stroke-width: 1.0;\"/><polygon fill=\"#FFFFFF\" points=\"301.11,284.89,286.1673,271.2256,298.6042,264.7972,301.11,284.89\" style=\"stroke: #383838; stroke-width: 1.0;\"/><line style=\"stroke: #383838; stroke-width: 2.0;\" x1=\"284.4225\" x2=\"296.8594\" y1=\"267.8499\" y2=\"261.4215\"/></a><!--MD5=[81ee153fe275f0b9470c44f70f94e346]\n",
       "@startuml\r\n",
       "skinparam ranksep 10\r\n",
       "skinparam rectangle {\r\n",
       " backgroundColor<<block>> LightGreen\r\n",
       "}\r\n",
       "top to bottom direction\r\n",
       "skinparam monochrome true\r\n",
       "skinparam classbackgroundcolor white\r\n",
       "skinparam shadowing false\r\n",
       "skinparam wrapWidth 300\r\n",
       "hide circle\r\n",
       "\r\n",
       "package \"DefaultValueTest\" as E1  [[psysml:6839459c-d74b-4e54-a7fb-96b2013b0c1a ]]  {\r\n",
       "rec def \"V\" as E2  <<(T,blue) part  def>> [[psysml:f6ad7545-3639-41cb-8da0-571497d98dc5 ]] {\r\n",
       "comp usage \"m \" as E3  <<(T,blue) attribute>> [[psysml:075fa6d2-8e51-4049-a184-a21376454cfa ]] {\r\n",
       "}\r\n",
       "comp usage \"n \" as E4  <<(T,blue) attribute>> [[psysml:0ef473ce-6f49-4b48-ae7c-25bde7c2058c ]] {\r\n",
       "}\r\n",
       "}\r\n",
       "rec usage \"v1: V\" as E5  [[psysml:1ac351b0-bbdc-4492-9f99-b540f7d23706 ]] {\r\n",
       "comp usage \"m \" as E6  <<(T,blue) attribute>> [[psysml:ec8a8e56-fcc6-4673-8c8e-468b75026770 ]] {\r\n",
       "}\r\n",
       "}\r\n",
       "rec def \"W\" as E7  <<(T,blue) part  def>> [[psysml:aeba74e7-35ad-441a-aaf4-220a7e48fb18 ]] {\r\n",
       "comp usage \"m \" as E8  <<(T,blue) attribute>> [[psysml:38866ed6-d027-47ed-9e9b-10f0103d500c ]] {\r\n",
       "}\r\n",
       "}\r\n",
       "rec usage \"v2= W(); \" as E9  [[psysml:8648f4f6-facd-4996-a918-0994903b340f ]] {\r\n",
       "}\r\n",
       "}\r\n",
       "E6 - -||> E3 [[psysml:319addec-2b51-47f0-a10b-c2bc2405cd29 ]] \r\n",
       "E7 - -|> E2 [[psysml:13494711-98b1-4251-8963-46d1e0c35503 ]] \r\n",
       "E8 - -||> E3 [[psysml:27f15f96-8451-4ffb-b537-81d2f9d472fa ]] \r\n",
       "@enduml\r\n",
       "\n",
       "PlantUML version 1.2020.13(Sat Jun 13 12:26:38 UTC 2020)\n",
       "(EPL source distribution)\n",
       "Java Runtime: OpenJDK Runtime Environment\n",
       "JVM: OpenJDK 64-Bit Server VM\n",
       "Default Encoding: UTF-8\n",
       "Language: en\n",
       "Country: null\n",
       "--></g></svg>"
      ]
     },
     "execution_count": 47,
     "metadata": {},
     "output_type": "execute_result"
    }
   ],
   "source": [
    "%viz --style=\"TB\" --view=\"Interconnection\" \"DefaultValueTest\""
   ]
  },
  {
   "cell_type": "code",
   "execution_count": 48,
   "id": "afac1de8",
   "metadata": {
    "execution": {
     "iopub.execute_input": "2022-02-18T10:51:43.080016Z",
     "iopub.status.busy": "2022-02-18T10:51:43.079622Z",
     "iopub.status.idle": "2022-02-18T10:51:43.083873Z",
     "shell.execute_reply": "2022-02-18T10:51:43.084193Z"
    }
   },
   "outputs": [
    {
     "data": {
      "image/svg+xml": [
       "<?xml version=\"1.0\" encoding=\"UTF-8\" standalone=\"no\"?><svg xmlns=\"http://www.w3.org/2000/svg\" xmlns:xlink=\"http://www.w3.org/1999/xlink\" contentScriptType=\"application/ecmascript\" contentStyleType=\"text/css\" height=\"12px\" preserveAspectRatio=\"none\" style=\"width:12px;height:12px;\" version=\"1.1\" viewBox=\"0 0 12 12\" width=\"12px\" zoomAndPan=\"magnify\"><defs/><g><!--MD5=[06afc254b03ac5e9d9fb7773b07d0800]\n",
       "@startuml\r\n",
       "skinparam ranksep 8\r\n",
       "top to bottom direction\r\n",
       "skinparam monochrome true\r\n",
       "skinparam classbackgroundcolor white\r\n",
       "skinparam shadowing false\r\n",
       "skinparam wrapWidth 300\r\n",
       "hide circle\r\n",
       "\r\n",
       "@enduml\r\n",
       "\n",
       "PlantUML version 1.2020.13(Sat Jun 13 12:26:38 UTC 2020)\n",
       "(EPL source distribution)\n",
       "Java Runtime: OpenJDK Runtime Environment\n",
       "JVM: OpenJDK 64-Bit Server VM\n",
       "Default Encoding: UTF-8\n",
       "Language: en\n",
       "Country: null\n",
       "--></g></svg>"
      ]
     },
     "execution_count": 48,
     "metadata": {},
     "output_type": "execute_result"
    }
   ],
   "source": [
    "%viz --style=\"TB\" --view=\"Action\" \"DefaultValueTest\""
   ]
  },
  {
   "cell_type": "code",
   "execution_count": 49,
   "id": "b4d72823",
   "metadata": {
    "execution": {
     "iopub.execute_input": "2022-02-18T10:51:43.134292Z",
     "iopub.status.busy": "2022-02-18T10:51:43.133889Z",
     "iopub.status.idle": "2022-02-18T10:51:43.139347Z",
     "shell.execute_reply": "2022-02-18T10:51:43.139000Z"
    }
   },
   "outputs": [
    {
     "data": {
      "image/svg+xml": [
       "<?xml version=\"1.0\" encoding=\"UTF-8\" standalone=\"no\"?><svg xmlns=\"http://www.w3.org/2000/svg\" xmlns:xlink=\"http://www.w3.org/1999/xlink\" contentScriptType=\"application/ecmascript\" contentStyleType=\"text/css\" height=\"12px\" preserveAspectRatio=\"none\" style=\"width:12px;height:12px;\" version=\"1.1\" viewBox=\"0 0 12 12\" width=\"12px\" zoomAndPan=\"magnify\"><defs/><g><!--MD5=[e1ab0c84c44d2fef8bf5f140f2689906]\n",
       "@startuml\r\n",
       "skinparam roundcorner 20\r\n",
       "skinparam BoxPadding 20\r\n",
       "skinparam SequenceBoxBackgroundColor #white\r\n",
       "skinparam style strictuml\r\n",
       "skinparam maxMessageSize 100\r\n",
       "top to bottom direction\r\n",
       "skinparam monochrome true\r\n",
       "skinparam classbackgroundcolor white\r\n",
       "skinparam shadowing false\r\n",
       "skinparam wrapWidth 300\r\n",
       "hide circle\r\n",
       "\r\n",
       "@enduml\r\n",
       "\n",
       "PlantUML version 1.2020.13(Sat Jun 13 12:26:38 UTC 2020)\n",
       "(EPL source distribution)\n",
       "Java Runtime: OpenJDK Runtime Environment\n",
       "JVM: OpenJDK 64-Bit Server VM\n",
       "Default Encoding: UTF-8\n",
       "Language: en\n",
       "Country: null\n",
       "--></g></svg>"
      ]
     },
     "execution_count": 49,
     "metadata": {},
     "output_type": "execute_result"
    }
   ],
   "source": [
    "%viz --style=\"TB\" --view=\"Sequence\" \"DefaultValueTest\""
   ]
  },
  {
   "cell_type": "code",
   "execution_count": 50,
   "id": "90a5aefd",
   "metadata": {
    "execution": {
     "iopub.execute_input": "2022-02-18T10:51:43.189268Z",
     "iopub.status.busy": "2022-02-18T10:51:43.188873Z",
     "iopub.status.idle": "2022-02-18T10:51:43.278962Z",
     "shell.execute_reply": "2022-02-18T10:51:43.277650Z"
    }
   },
   "outputs": [
    {
     "data": {
      "image/svg+xml": [
       "<?xml version=\"1.0\" encoding=\"UTF-8\" standalone=\"no\"?><svg xmlns=\"http://www.w3.org/2000/svg\" xmlns:xlink=\"http://www.w3.org/1999/xlink\" contentScriptType=\"application/ecmascript\" contentStyleType=\"text/css\" height=\"305px\" preserveAspectRatio=\"none\" style=\"width:349px;height:305px;\" version=\"1.1\" viewBox=\"0 0 349 305\" width=\"349px\" zoomAndPan=\"magnify\"><defs/><g><!--MD5=[fbc87193dbaf4d95561dea2c320d4a47]\n",
       "cluster E1--><a href=\"psysml:6839459c-d74b-4e54-a7fb-96b2013b0c1a\" target=\"_top\" title=\"psysml:6839459c-d74b-4e54-a7fb-96b2013b0c1a\" xlink:actuate=\"onRequest\" xlink:href=\"psysml:6839459c-d74b-4e54-a7fb-96b2013b0c1a\" xlink:show=\"new\" xlink:title=\"psysml:6839459c-d74b-4e54-a7fb-96b2013b0c1a\" xlink:type=\"simple\"><polygon fill=\"#FFFFFF\" points=\"16,6,140,6,147,28.2969,327,28.2969,327,293,16,293,16,6\" style=\"stroke: #000000; stroke-width: 1.5;\"/><line style=\"stroke: #000000; stroke-width: 1.5;\" x1=\"16\" x2=\"147\" y1=\"28.2969\" y2=\"28.2969\"/><text fill=\"#000000\" font-family=\"sans-serif\" font-size=\"14\" font-weight=\"bold\" lengthAdjust=\"spacingAndGlyphs\" textLength=\"118\" x=\"20\" y=\"20.9951\">DefaultValueTest</text></a><!--MD5=[b4997ac47864f28c2f74865a473b2911]\n",
       "class E2--><a href=\"psysml:f6ad7545-3639-41cb-8da0-571497d98dc5\" target=\"_top\" title=\"psysml:f6ad7545-3639-41cb-8da0-571497d98dc5\" xlink:actuate=\"onRequest\" xlink:href=\"psysml:f6ad7545-3639-41cb-8da0-571497d98dc5\" xlink:show=\"new\" xlink:title=\"psysml:f6ad7545-3639-41cb-8da0-571497d98dc5\" xlink:type=\"simple\"><rect fill=\"#FFFFFF\" height=\"88.3516\" id=\"E2\" style=\"stroke: #383838; stroke-width: 1.5;\" width=\"106\" x=\"156\" y=\"189\"/><text fill=\"#000000\" font-family=\"sans-serif\" font-size=\"12\" font-style=\"italic\" lengthAdjust=\"spacingAndGlyphs\" textLength=\"68\" x=\"175\" y=\"205.1387\">«part  def»</text><text fill=\"#000000\" font-family=\"sans-serif\" font-size=\"12\" lengthAdjust=\"spacingAndGlyphs\" textLength=\"8\" x=\"205\" y=\"219.1074\">V</text><line style=\"stroke: #383838; stroke-width: 1.5;\" x1=\"157\" x2=\"261\" y1=\"226.9375\" y2=\"226.9375\"/><text fill=\"#000000\" font-family=\"sans-serif\" font-size=\"11\" lengthAdjust=\"spacingAndGlyphs\" textLength=\"94\" x=\"162\" y=\"257.9526\">m=default = 10;</text><text fill=\"#000000\" font-family=\"sans-serif\" font-size=\"11\" lengthAdjust=\"spacingAndGlyphs\" textLength=\"38\" x=\"162\" y=\"270.7573\">n= 20;</text><line style=\"stroke: #383838; stroke-width: 1.0;\" x1=\"157\" x2=\"181.5\" y1=\"241.3398\" y2=\"241.3398\"/><text fill=\"#000000\" font-family=\"sans-serif\" font-size=\"11\" lengthAdjust=\"spacingAndGlyphs\" textLength=\"55\" x=\"181.5\" y=\"244.6479\">attributes</text><line style=\"stroke: #383838; stroke-width: 1.0;\" x1=\"236.5\" x2=\"261\" y1=\"241.3398\" y2=\"241.3398\"/></a><!--MD5=[09b614a08d8cba4a07c9adeb5e0fee81]\n",
       "class E3--><a href=\"psysml:1ac351b0-bbdc-4492-9f99-b540f7d23706\" target=\"_top\" title=\"psysml:1ac351b0-bbdc-4492-9f99-b540f7d23706\" xlink:actuate=\"onRequest\" xlink:href=\"psysml:1ac351b0-bbdc-4492-9f99-b540f7d23706\" xlink:show=\"new\" xlink:title=\"psysml:1ac351b0-bbdc-4492-9f99-b540f7d23706\" xlink:type=\"simple\"><rect fill=\"#FFFFFF\" height=\"88.3516\" id=\"E3\" rx=\"10\" ry=\"10\" style=\"stroke: #383838; stroke-width: 1.5;\" width=\"63\" x=\"247.5\" y=\"41\"/><text fill=\"#000000\" font-family=\"sans-serif\" font-size=\"12\" font-style=\"italic\" lengthAdjust=\"spacingAndGlyphs\" textLength=\"40\" x=\"259\" y=\"57.1387\">«part»</text><text fill=\"#000000\" font-family=\"sans-serif\" font-size=\"12\" lengthAdjust=\"spacingAndGlyphs\" textLength=\"30\" x=\"262\" y=\"71.1074\">v1: V</text><line style=\"stroke: #383838; stroke-width: 1.5;\" x1=\"248.5\" x2=\"309.5\" y1=\"78.9375\" y2=\"78.9375\"/><text fill=\"#000000\" font-family=\"sans-serif\" font-size=\"11\" lengthAdjust=\"spacingAndGlyphs\" textLength=\"42\" x=\"253.5\" y=\"109.9526\">m= 20;</text><text fill=\"#000000\" font-family=\"sans-serif\" font-size=\"11\" font-style=\"italic\" lengthAdjust=\"spacingAndGlyphs\" textLength=\"48\" x=\"253.5\" y=\"122.7573\">:&gt;&gt;V::m</text><line style=\"stroke: #383838; stroke-width: 1.0;\" x1=\"248.5\" x2=\"251.5\" y1=\"93.3398\" y2=\"93.3398\"/><text fill=\"#000000\" font-family=\"sans-serif\" font-size=\"11\" lengthAdjust=\"spacingAndGlyphs\" textLength=\"55\" x=\"251.5\" y=\"96.6479\">attributes</text><line style=\"stroke: #383838; stroke-width: 1.0;\" x1=\"306.5\" x2=\"309.5\" y1=\"93.3398\" y2=\"93.3398\"/></a><!--MD5=[ebbe1d658d1005bcc118a6aa81145e00]\n",
       "class E4--><a href=\"psysml:aeba74e7-35ad-441a-aaf4-220a7e48fb18\" target=\"_top\" title=\"psysml:aeba74e7-35ad-441a-aaf4-220a7e48fb18\" xlink:actuate=\"onRequest\" xlink:href=\"psysml:aeba74e7-35ad-441a-aaf4-220a7e48fb18\" xlink:show=\"new\" xlink:title=\"psysml:aeba74e7-35ad-441a-aaf4-220a7e48fb18\" xlink:type=\"simple\"><rect fill=\"#FFFFFF\" height=\"88.3516\" id=\"E4\" style=\"stroke: #383838; stroke-width: 1.5;\" width=\"103\" x=\"109.5\" y=\"41\"/><text fill=\"#000000\" font-family=\"sans-serif\" font-size=\"12\" font-style=\"italic\" lengthAdjust=\"spacingAndGlyphs\" textLength=\"68\" x=\"127\" y=\"57.1387\">«part  def»</text><text fill=\"#000000\" font-family=\"sans-serif\" font-size=\"12\" lengthAdjust=\"spacingAndGlyphs\" textLength=\"11\" x=\"155.5\" y=\"71.1074\">W</text><line style=\"stroke: #383838; stroke-width: 1.5;\" x1=\"110.5\" x2=\"211.5\" y1=\"78.9375\" y2=\"78.9375\"/><text fill=\"#000000\" font-family=\"sans-serif\" font-size=\"11\" lengthAdjust=\"spacingAndGlyphs\" textLength=\"87\" x=\"115.5\" y=\"109.9526\">m=default = n;</text><text fill=\"#000000\" font-family=\"sans-serif\" font-size=\"11\" font-style=\"italic\" lengthAdjust=\"spacingAndGlyphs\" textLength=\"48\" x=\"115.5\" y=\"122.7573\">:&gt;&gt;V::m</text><line style=\"stroke: #383838; stroke-width: 1.0;\" x1=\"110.5\" x2=\"133.5\" y1=\"93.3398\" y2=\"93.3398\"/><text fill=\"#000000\" font-family=\"sans-serif\" font-size=\"11\" lengthAdjust=\"spacingAndGlyphs\" textLength=\"55\" x=\"133.5\" y=\"96.6479\">attributes</text><line style=\"stroke: #383838; stroke-width: 1.0;\" x1=\"188.5\" x2=\"211.5\" y1=\"93.3398\" y2=\"93.3398\"/></a><!--MD5=[270fce915f116d4de14055a7c1d9a0f3]\n",
       "class E5--><a href=\"psysml:8648f4f6-facd-4996-a918-0994903b340f\" target=\"_top\" title=\"psysml:8648f4f6-facd-4996-a918-0994903b340f\" xlink:actuate=\"onRequest\" xlink:href=\"psysml:8648f4f6-facd-4996-a918-0994903b340f\" xlink:show=\"new\" xlink:title=\"psysml:8648f4f6-facd-4996-a918-0994903b340f\" xlink:type=\"simple\"><rect fill=\"#FFFFFF\" height=\"45.9375\" id=\"E5\" rx=\"10\" ry=\"10\" style=\"stroke: #383838; stroke-width: 1.5;\" width=\"42\" x=\"32\" y=\"62\"/><text fill=\"#000000\" font-family=\"sans-serif\" font-size=\"12\" font-style=\"italic\" lengthAdjust=\"spacingAndGlyphs\" textLength=\"40\" x=\"33\" y=\"78.1387\">«part»</text><text fill=\"#000000\" font-family=\"sans-serif\" font-size=\"12\" lengthAdjust=\"spacingAndGlyphs\" textLength=\"14\" x=\"44\" y=\"92.1074\">v2</text><line style=\"stroke: #383838; stroke-width: 1.5;\" x1=\"33\" x2=\"73\" y1=\"99.9375\" y2=\"99.9375\"/></a><!--MD5=[05d275557350bfb9b23a4ef7222b4c39]\n",
       "link E3 to E2--><a href=\"psysml:f9d68518-1ffd-4856-b3d4-4b8d752762cd\" target=\"_top\" title=\"psysml:f9d68518-1ffd-4856-b3d4-4b8d752762cd\" xlink:actuate=\"onRequest\" xlink:href=\"psysml:f9d68518-1ffd-4856-b3d4-4b8d752762cd\" xlink:show=\"new\" xlink:title=\"psysml:f9d68518-1ffd-4856-b3d4-4b8d752762cd\" xlink:type=\"simple\"><path d=\"M258.38,129.02 C252.17,141.97 245.22,156.45 238.55,170.36 \" fill=\"none\" id=\"E3-&gt;E2\" style=\"stroke: #383838; stroke-width: 1.0;\"/><polygon fill=\"#FFFFFF\" points=\"229.72,188.79,231.6151,168.6304,244.2413,174.6786,229.72,188.79\" style=\"stroke: #383838; stroke-width: 1.0;\"/><ellipse cx=\"235.8813\" cy=\"164.3538\" fill=\"#383838\" rx=\"2\" ry=\"2\" style=\"stroke: #383838; stroke-width: 1.0;\"/><ellipse cx=\"244.9\" cy=\"168.6739\" fill=\"#383838\" rx=\"2\" ry=\"2\" style=\"stroke: #383838; stroke-width: 1.0;\"/></a><!--MD5=[185131fc0dcab0a4505a2ebe144e961b]\n",
       "link E4 to E2--><a href=\"psysml:13494711-98b1-4251-8963-46d1e0c35503\" target=\"_top\" title=\"psysml:13494711-98b1-4251-8963-46d1e0c35503\" xlink:actuate=\"onRequest\" xlink:href=\"psysml:13494711-98b1-4251-8963-46d1e0c35503\" xlink:show=\"new\" xlink:title=\"psysml:13494711-98b1-4251-8963-46d1e0c35503\" xlink:type=\"simple\"><path d=\"M175.14,129.02 C179.3,141.67 183.94,155.79 188.42,169.41 \" fill=\"none\" id=\"E4-&gt;E2\" style=\"stroke: #383838; stroke-width: 1.0;\"/><polygon fill=\"none\" points=\"195.2,167.6,194.79,188.79,181.9,171.97,195.2,167.6\" style=\"stroke: #383838; stroke-width: 1.0;\"/></a><!--MD5=[4adf5ee757d80e34507eb93aeade7778]\n",
       "@startuml\r\n",
       "top to bottom direction\r\n",
       "skinparam monochrome true\r\n",
       "skinparam classbackgroundcolor white\r\n",
       "skinparam shadowing false\r\n",
       "skinparam wrapWidth 300\r\n",
       "hide circle\r\n",
       "\r\n",
       "package \"DefaultValueTest\" as E1  [[psysml:6839459c-d74b-4e54-a7fb-96b2013b0c1a ]]  {\r\n",
       "comp def \"V\" as E2  <<(T,blue) part  def>> [[psysml:f6ad7545-3639-41cb-8da0-571497d98dc5 ]] {\r\n",
       "- - attributes - -\r\n",
       "m=default = 10; \r\n",
       "n= 20; \r\n",
       "}\r\n",
       "comp usage \"v1: V \" as E3  <<(T,blue) part>> [[psysml:1ac351b0-bbdc-4492-9f99-b540f7d23706 ]] {\r\n",
       "- - attributes - -\r\n",
       "m= 20; \\n//:>>V::m// \r\n",
       "}\r\n",
       "comp def \"W\" as E4  <<(T,blue) part  def>> [[psysml:aeba74e7-35ad-441a-aaf4-220a7e48fb18 ]] {\r\n",
       "- - attributes - -\r\n",
       "m=default = n; \\n//:>>V::m// \r\n",
       "}\r\n",
       "comp usage \"v2 \" as E5  <<(T,blue) part>> [[psysml:8648f4f6-facd-4996-a918-0994903b340f ]] {\r\n",
       "}\r\n",
       "}\r\n",
       "E3 - -:|> E2 [[psysml:f9d68518-1ffd-4856-b3d4-4b8d752762cd ]] \r\n",
       "E4 - -|> E2 [[psysml:13494711-98b1-4251-8963-46d1e0c35503 ]] \r\n",
       "@enduml\r\n",
       "\n",
       "PlantUML version 1.2020.13(Sat Jun 13 12:26:38 UTC 2020)\n",
       "(EPL source distribution)\n",
       "Java Runtime: OpenJDK Runtime Environment\n",
       "JVM: OpenJDK 64-Bit Server VM\n",
       "Default Encoding: UTF-8\n",
       "Language: en\n",
       "Country: null\n",
       "--></g></svg>"
      ]
     },
     "execution_count": 50,
     "metadata": {},
     "output_type": "execute_result"
    }
   ],
   "source": [
    "%viz --style=\"TB\" --view=\"MIXED\" \"DefaultValueTest\""
   ]
  },
  {
   "cell_type": "code",
   "execution_count": 51,
   "id": "2baded71",
   "metadata": {
    "execution": {
     "iopub.execute_input": "2022-02-18T10:51:43.328319Z",
     "iopub.status.busy": "2022-02-18T10:51:43.327907Z",
     "iopub.status.idle": "2022-02-18T10:51:43.411361Z",
     "shell.execute_reply": "2022-02-18T10:51:43.411009Z"
    }
   },
   "outputs": [
    {
     "data": {
      "image/svg+xml": [
       "<?xml version=\"1.0\" encoding=\"UTF-8\" standalone=\"no\"?><svg xmlns=\"http://www.w3.org/2000/svg\" xmlns:xlink=\"http://www.w3.org/1999/xlink\" contentScriptType=\"application/ecmascript\" contentStyleType=\"text/css\" height=\"305px\" preserveAspectRatio=\"none\" style=\"width:349px;height:305px;\" version=\"1.1\" viewBox=\"0 0 349 305\" width=\"349px\" zoomAndPan=\"magnify\"><defs/><g><!--MD5=[fbc87193dbaf4d95561dea2c320d4a47]\n",
       "cluster E1--><a href=\"psysml:6839459c-d74b-4e54-a7fb-96b2013b0c1a\" target=\"_top\" title=\"psysml:6839459c-d74b-4e54-a7fb-96b2013b0c1a\" xlink:actuate=\"onRequest\" xlink:href=\"psysml:6839459c-d74b-4e54-a7fb-96b2013b0c1a\" xlink:show=\"new\" xlink:title=\"psysml:6839459c-d74b-4e54-a7fb-96b2013b0c1a\" xlink:type=\"simple\"><polygon fill=\"#FFFFFF\" points=\"16,6,140,6,147,28.2969,327,28.2969,327,293,16,293,16,6\" style=\"stroke: #000000; stroke-width: 1.5;\"/><line style=\"stroke: #000000; stroke-width: 1.5;\" x1=\"16\" x2=\"147\" y1=\"28.2969\" y2=\"28.2969\"/><text fill=\"#000000\" font-family=\"sans-serif\" font-size=\"14\" font-weight=\"bold\" lengthAdjust=\"spacingAndGlyphs\" textLength=\"118\" x=\"20\" y=\"20.9951\">DefaultValueTest</text></a><!--MD5=[b4997ac47864f28c2f74865a473b2911]\n",
       "class E2--><a href=\"psysml:f6ad7545-3639-41cb-8da0-571497d98dc5\" target=\"_top\" title=\"psysml:f6ad7545-3639-41cb-8da0-571497d98dc5\" xlink:actuate=\"onRequest\" xlink:href=\"psysml:f6ad7545-3639-41cb-8da0-571497d98dc5\" xlink:show=\"new\" xlink:title=\"psysml:f6ad7545-3639-41cb-8da0-571497d98dc5\" xlink:type=\"simple\"><rect fill=\"#FFFFFF\" height=\"88.3516\" id=\"E2\" style=\"stroke: #383838; stroke-width: 1.5;\" width=\"106\" x=\"156\" y=\"189\"/><text fill=\"#000000\" font-family=\"sans-serif\" font-size=\"12\" font-style=\"italic\" lengthAdjust=\"spacingAndGlyphs\" textLength=\"68\" x=\"175\" y=\"205.1387\">«part  def»</text><text fill=\"#000000\" font-family=\"sans-serif\" font-size=\"12\" lengthAdjust=\"spacingAndGlyphs\" textLength=\"8\" x=\"205\" y=\"219.1074\">V</text><line style=\"stroke: #383838; stroke-width: 1.5;\" x1=\"157\" x2=\"261\" y1=\"226.9375\" y2=\"226.9375\"/><text fill=\"#000000\" font-family=\"sans-serif\" font-size=\"11\" lengthAdjust=\"spacingAndGlyphs\" textLength=\"94\" x=\"162\" y=\"257.9526\">m=default = 10;</text><text fill=\"#000000\" font-family=\"sans-serif\" font-size=\"11\" lengthAdjust=\"spacingAndGlyphs\" textLength=\"38\" x=\"162\" y=\"270.7573\">n= 20;</text><line style=\"stroke: #383838; stroke-width: 1.0;\" x1=\"157\" x2=\"181.5\" y1=\"241.3398\" y2=\"241.3398\"/><text fill=\"#000000\" font-family=\"sans-serif\" font-size=\"11\" lengthAdjust=\"spacingAndGlyphs\" textLength=\"55\" x=\"181.5\" y=\"244.6479\">attributes</text><line style=\"stroke: #383838; stroke-width: 1.0;\" x1=\"236.5\" x2=\"261\" y1=\"241.3398\" y2=\"241.3398\"/></a><!--MD5=[09b614a08d8cba4a07c9adeb5e0fee81]\n",
       "class E3--><a href=\"psysml:1ac351b0-bbdc-4492-9f99-b540f7d23706\" target=\"_top\" title=\"psysml:1ac351b0-bbdc-4492-9f99-b540f7d23706\" xlink:actuate=\"onRequest\" xlink:href=\"psysml:1ac351b0-bbdc-4492-9f99-b540f7d23706\" xlink:show=\"new\" xlink:title=\"psysml:1ac351b0-bbdc-4492-9f99-b540f7d23706\" xlink:type=\"simple\"><rect fill=\"#FFFFFF\" height=\"88.3516\" id=\"E3\" rx=\"10\" ry=\"10\" style=\"stroke: #383838; stroke-width: 1.5;\" width=\"63\" x=\"247.5\" y=\"41\"/><text fill=\"#000000\" font-family=\"sans-serif\" font-size=\"12\" font-style=\"italic\" lengthAdjust=\"spacingAndGlyphs\" textLength=\"40\" x=\"259\" y=\"57.1387\">«part»</text><text fill=\"#000000\" font-family=\"sans-serif\" font-size=\"12\" lengthAdjust=\"spacingAndGlyphs\" textLength=\"30\" x=\"262\" y=\"71.1074\">v1: V</text><line style=\"stroke: #383838; stroke-width: 1.5;\" x1=\"248.5\" x2=\"309.5\" y1=\"78.9375\" y2=\"78.9375\"/><text fill=\"#000000\" font-family=\"sans-serif\" font-size=\"11\" lengthAdjust=\"spacingAndGlyphs\" textLength=\"42\" x=\"253.5\" y=\"109.9526\">m= 20;</text><text fill=\"#000000\" font-family=\"sans-serif\" font-size=\"11\" font-style=\"italic\" lengthAdjust=\"spacingAndGlyphs\" textLength=\"48\" x=\"253.5\" y=\"122.7573\">:&gt;&gt;V::m</text><line style=\"stroke: #383838; stroke-width: 1.0;\" x1=\"248.5\" x2=\"251.5\" y1=\"93.3398\" y2=\"93.3398\"/><text fill=\"#000000\" font-family=\"sans-serif\" font-size=\"11\" lengthAdjust=\"spacingAndGlyphs\" textLength=\"55\" x=\"251.5\" y=\"96.6479\">attributes</text><line style=\"stroke: #383838; stroke-width: 1.0;\" x1=\"306.5\" x2=\"309.5\" y1=\"93.3398\" y2=\"93.3398\"/></a><!--MD5=[ebbe1d658d1005bcc118a6aa81145e00]\n",
       "class E4--><a href=\"psysml:aeba74e7-35ad-441a-aaf4-220a7e48fb18\" target=\"_top\" title=\"psysml:aeba74e7-35ad-441a-aaf4-220a7e48fb18\" xlink:actuate=\"onRequest\" xlink:href=\"psysml:aeba74e7-35ad-441a-aaf4-220a7e48fb18\" xlink:show=\"new\" xlink:title=\"psysml:aeba74e7-35ad-441a-aaf4-220a7e48fb18\" xlink:type=\"simple\"><rect fill=\"#FFFFFF\" height=\"88.3516\" id=\"E4\" style=\"stroke: #383838; stroke-width: 1.5;\" width=\"103\" x=\"109.5\" y=\"41\"/><text fill=\"#000000\" font-family=\"sans-serif\" font-size=\"12\" font-style=\"italic\" lengthAdjust=\"spacingAndGlyphs\" textLength=\"68\" x=\"127\" y=\"57.1387\">«part  def»</text><text fill=\"#000000\" font-family=\"sans-serif\" font-size=\"12\" lengthAdjust=\"spacingAndGlyphs\" textLength=\"11\" x=\"155.5\" y=\"71.1074\">W</text><line style=\"stroke: #383838; stroke-width: 1.5;\" x1=\"110.5\" x2=\"211.5\" y1=\"78.9375\" y2=\"78.9375\"/><text fill=\"#000000\" font-family=\"sans-serif\" font-size=\"11\" lengthAdjust=\"spacingAndGlyphs\" textLength=\"87\" x=\"115.5\" y=\"109.9526\">m=default = n;</text><text fill=\"#000000\" font-family=\"sans-serif\" font-size=\"11\" font-style=\"italic\" lengthAdjust=\"spacingAndGlyphs\" textLength=\"48\" x=\"115.5\" y=\"122.7573\">:&gt;&gt;V::m</text><line style=\"stroke: #383838; stroke-width: 1.0;\" x1=\"110.5\" x2=\"133.5\" y1=\"93.3398\" y2=\"93.3398\"/><text fill=\"#000000\" font-family=\"sans-serif\" font-size=\"11\" lengthAdjust=\"spacingAndGlyphs\" textLength=\"55\" x=\"133.5\" y=\"96.6479\">attributes</text><line style=\"stroke: #383838; stroke-width: 1.0;\" x1=\"188.5\" x2=\"211.5\" y1=\"93.3398\" y2=\"93.3398\"/></a><!--MD5=[270fce915f116d4de14055a7c1d9a0f3]\n",
       "class E5--><a href=\"psysml:8648f4f6-facd-4996-a918-0994903b340f\" target=\"_top\" title=\"psysml:8648f4f6-facd-4996-a918-0994903b340f\" xlink:actuate=\"onRequest\" xlink:href=\"psysml:8648f4f6-facd-4996-a918-0994903b340f\" xlink:show=\"new\" xlink:title=\"psysml:8648f4f6-facd-4996-a918-0994903b340f\" xlink:type=\"simple\"><rect fill=\"#FFFFFF\" height=\"45.9375\" id=\"E5\" rx=\"10\" ry=\"10\" style=\"stroke: #383838; stroke-width: 1.5;\" width=\"42\" x=\"32\" y=\"62\"/><text fill=\"#000000\" font-family=\"sans-serif\" font-size=\"12\" font-style=\"italic\" lengthAdjust=\"spacingAndGlyphs\" textLength=\"40\" x=\"33\" y=\"78.1387\">«part»</text><text fill=\"#000000\" font-family=\"sans-serif\" font-size=\"12\" lengthAdjust=\"spacingAndGlyphs\" textLength=\"14\" x=\"44\" y=\"92.1074\">v2</text><line style=\"stroke: #383838; stroke-width: 1.5;\" x1=\"33\" x2=\"73\" y1=\"99.9375\" y2=\"99.9375\"/></a><!--MD5=[05d275557350bfb9b23a4ef7222b4c39]\n",
       "link E3 to E2--><a href=\"psysml:f9d68518-1ffd-4856-b3d4-4b8d752762cd\" target=\"_top\" title=\"psysml:f9d68518-1ffd-4856-b3d4-4b8d752762cd\" xlink:actuate=\"onRequest\" xlink:href=\"psysml:f9d68518-1ffd-4856-b3d4-4b8d752762cd\" xlink:show=\"new\" xlink:title=\"psysml:f9d68518-1ffd-4856-b3d4-4b8d752762cd\" xlink:type=\"simple\"><path d=\"M254.75,129 C254.75,129 254.75,168.91 254.75,168.91 \" fill=\"none\" id=\"E3-&gt;E2\" style=\"stroke: #383838; stroke-width: 1.0;\"/><polygon fill=\"#FFFFFF\" points=\"254.75,188.91,247.75,169.91,261.75,169.91,254.75,188.91\" style=\"stroke: #383838; stroke-width: 1.0;\"/><ellipse cx=\"249.75\" cy=\"164.21\" fill=\"#383838\" rx=\"2\" ry=\"2\" style=\"stroke: #383838; stroke-width: 1.0;\"/><ellipse cx=\"259.75\" cy=\"164.21\" fill=\"#383838\" rx=\"2\" ry=\"2\" style=\"stroke: #383838; stroke-width: 1.0;\"/></a><!--MD5=[185131fc0dcab0a4505a2ebe144e961b]\n",
       "link E4 to E2--><a href=\"psysml:13494711-98b1-4251-8963-46d1e0c35503\" target=\"_top\" title=\"psysml:13494711-98b1-4251-8963-46d1e0c35503\" xlink:actuate=\"onRequest\" xlink:href=\"psysml:13494711-98b1-4251-8963-46d1e0c35503\" xlink:show=\"new\" xlink:title=\"psysml:13494711-98b1-4251-8963-46d1e0c35503\" xlink:type=\"simple\"><path d=\"M184.25,129 C184.25,129 184.25,168.91 184.25,168.91 \" fill=\"none\" id=\"E4-&gt;E2\" style=\"stroke: #383838; stroke-width: 1.0;\"/><polygon fill=\"none\" points=\"191.25,168.91,184.25,188.91,177.25,168.91,191.25,168.91\" style=\"stroke: #383838; stroke-width: 1.0;\"/></a><!--MD5=[26eeccaccb14a51d9b9e4d855cada5eb]\n",
       "@startuml\r\n",
       "skinparam linetype ortho\r\n",
       "skinparam monochrome true\r\n",
       "skinparam classbackgroundcolor white\r\n",
       "skinparam shadowing false\r\n",
       "skinparam wrapWidth 300\r\n",
       "hide circle\r\n",
       "\r\n",
       "package \"DefaultValueTest\" as E1  [[psysml:6839459c-d74b-4e54-a7fb-96b2013b0c1a ]]  {\r\n",
       "comp def \"V\" as E2  <<(T,blue) part  def>> [[psysml:f6ad7545-3639-41cb-8da0-571497d98dc5 ]] {\r\n",
       "- - attributes - -\r\n",
       "m=default = 10; \r\n",
       "n= 20; \r\n",
       "}\r\n",
       "comp usage \"v1: V \" as E3  <<(T,blue) part>> [[psysml:1ac351b0-bbdc-4492-9f99-b540f7d23706 ]] {\r\n",
       "- - attributes - -\r\n",
       "m= 20; \\n//:>>V::m// \r\n",
       "}\r\n",
       "comp def \"W\" as E4  <<(T,blue) part  def>> [[psysml:aeba74e7-35ad-441a-aaf4-220a7e48fb18 ]] {\r\n",
       "- - attributes - -\r\n",
       "m=default = n; \\n//:>>V::m// \r\n",
       "}\r\n",
       "comp usage \"v2 \" as E5  <<(T,blue) part>> [[psysml:8648f4f6-facd-4996-a918-0994903b340f ]] {\r\n",
       "}\r\n",
       "}\r\n",
       "E3 - -:|> E2 [[psysml:f9d68518-1ffd-4856-b3d4-4b8d752762cd ]] \r\n",
       "E4 - -|> E2 [[psysml:13494711-98b1-4251-8963-46d1e0c35503 ]] \r\n",
       "@enduml\r\n",
       "\n",
       "PlantUML version 1.2020.13(Sat Jun 13 12:26:38 UTC 2020)\n",
       "(EPL source distribution)\n",
       "Java Runtime: OpenJDK Runtime Environment\n",
       "JVM: OpenJDK 64-Bit Server VM\n",
       "Default Encoding: UTF-8\n",
       "Language: en\n",
       "Country: null\n",
       "--></g></svg>"
      ]
     },
     "execution_count": 51,
     "metadata": {},
     "output_type": "execute_result"
    }
   ],
   "source": [
    "%viz --style=\"ORTHOLINE\" --view=\"Default\" \"DefaultValueTest\""
   ]
  },
  {
   "cell_type": "code",
   "execution_count": 52,
   "id": "a35dd41d",
   "metadata": {
    "execution": {
     "iopub.execute_input": "2022-02-18T10:51:43.460915Z",
     "iopub.status.busy": "2022-02-18T10:51:43.460524Z",
     "iopub.status.idle": "2022-02-18T10:51:43.505913Z",
     "shell.execute_reply": "2022-02-18T10:51:43.505539Z"
    }
   },
   "outputs": [
    {
     "data": {
      "image/svg+xml": [
       "<?xml version=\"1.0\" encoding=\"UTF-8\" standalone=\"no\"?><svg xmlns=\"http://www.w3.org/2000/svg\" xmlns:xlink=\"http://www.w3.org/1999/xlink\" contentScriptType=\"application/ecmascript\" contentStyleType=\"text/css\" height=\"305px\" preserveAspectRatio=\"none\" style=\"width:349px;height:305px;\" version=\"1.1\" viewBox=\"0 0 349 305\" width=\"349px\" zoomAndPan=\"magnify\"><defs/><g><!--MD5=[fbc87193dbaf4d95561dea2c320d4a47]\n",
       "cluster E1--><a href=\"psysml:6839459c-d74b-4e54-a7fb-96b2013b0c1a\" target=\"_top\" title=\"psysml:6839459c-d74b-4e54-a7fb-96b2013b0c1a\" xlink:actuate=\"onRequest\" xlink:href=\"psysml:6839459c-d74b-4e54-a7fb-96b2013b0c1a\" xlink:show=\"new\" xlink:title=\"psysml:6839459c-d74b-4e54-a7fb-96b2013b0c1a\" xlink:type=\"simple\"><polygon fill=\"#FFFFFF\" points=\"16,6,140,6,147,28.2969,327,28.2969,327,293,16,293,16,6\" style=\"stroke: #000000; stroke-width: 1.5;\"/><line style=\"stroke: #000000; stroke-width: 1.5;\" x1=\"16\" x2=\"147\" y1=\"28.2969\" y2=\"28.2969\"/><text fill=\"#000000\" font-family=\"sans-serif\" font-size=\"14\" font-weight=\"bold\" lengthAdjust=\"spacingAndGlyphs\" textLength=\"118\" x=\"20\" y=\"20.9951\">DefaultValueTest</text></a><!--MD5=[b4997ac47864f28c2f74865a473b2911]\n",
       "class E2--><a href=\"psysml:f6ad7545-3639-41cb-8da0-571497d98dc5\" target=\"_top\" title=\"psysml:f6ad7545-3639-41cb-8da0-571497d98dc5\" xlink:actuate=\"onRequest\" xlink:href=\"psysml:f6ad7545-3639-41cb-8da0-571497d98dc5\" xlink:show=\"new\" xlink:title=\"psysml:f6ad7545-3639-41cb-8da0-571497d98dc5\" xlink:type=\"simple\"><rect fill=\"#FFFFFF\" height=\"88.3516\" id=\"E2\" style=\"stroke: #383838; stroke-width: 1.5;\" width=\"106\" x=\"156\" y=\"189\"/><text fill=\"#000000\" font-family=\"sans-serif\" font-size=\"12\" font-style=\"italic\" lengthAdjust=\"spacingAndGlyphs\" textLength=\"68\" x=\"175\" y=\"205.1387\">«part  def»</text><text fill=\"#000000\" font-family=\"sans-serif\" font-size=\"12\" lengthAdjust=\"spacingAndGlyphs\" textLength=\"8\" x=\"205\" y=\"219.1074\">V</text><line style=\"stroke: #383838; stroke-width: 1.5;\" x1=\"157\" x2=\"261\" y1=\"226.9375\" y2=\"226.9375\"/><text fill=\"#000000\" font-family=\"sans-serif\" font-size=\"11\" lengthAdjust=\"spacingAndGlyphs\" textLength=\"94\" x=\"162\" y=\"257.9526\">m=default = 10;</text><text fill=\"#000000\" font-family=\"sans-serif\" font-size=\"11\" lengthAdjust=\"spacingAndGlyphs\" textLength=\"38\" x=\"162\" y=\"270.7573\">n= 20;</text><line style=\"stroke: #383838; stroke-width: 1.0;\" x1=\"157\" x2=\"181.5\" y1=\"241.3398\" y2=\"241.3398\"/><text fill=\"#000000\" font-family=\"sans-serif\" font-size=\"11\" lengthAdjust=\"spacingAndGlyphs\" textLength=\"55\" x=\"181.5\" y=\"244.6479\">attributes</text><line style=\"stroke: #383838; stroke-width: 1.0;\" x1=\"236.5\" x2=\"261\" y1=\"241.3398\" y2=\"241.3398\"/></a><!--MD5=[09b614a08d8cba4a07c9adeb5e0fee81]\n",
       "class E3--><a href=\"psysml:1ac351b0-bbdc-4492-9f99-b540f7d23706\" target=\"_top\" title=\"psysml:1ac351b0-bbdc-4492-9f99-b540f7d23706\" xlink:actuate=\"onRequest\" xlink:href=\"psysml:1ac351b0-bbdc-4492-9f99-b540f7d23706\" xlink:show=\"new\" xlink:title=\"psysml:1ac351b0-bbdc-4492-9f99-b540f7d23706\" xlink:type=\"simple\"><rect fill=\"#FFFFFF\" height=\"88.3516\" id=\"E3\" rx=\"10\" ry=\"10\" style=\"stroke: #383838; stroke-width: 1.5;\" width=\"63\" x=\"247.5\" y=\"41\"/><text fill=\"#000000\" font-family=\"sans-serif\" font-size=\"12\" font-style=\"italic\" lengthAdjust=\"spacingAndGlyphs\" textLength=\"40\" x=\"259\" y=\"57.1387\">«part»</text><text fill=\"#000000\" font-family=\"sans-serif\" font-size=\"12\" lengthAdjust=\"spacingAndGlyphs\" textLength=\"30\" x=\"262\" y=\"71.1074\">v1: V</text><line style=\"stroke: #383838; stroke-width: 1.5;\" x1=\"248.5\" x2=\"309.5\" y1=\"78.9375\" y2=\"78.9375\"/><text fill=\"#000000\" font-family=\"sans-serif\" font-size=\"11\" lengthAdjust=\"spacingAndGlyphs\" textLength=\"42\" x=\"253.5\" y=\"109.9526\">m= 20;</text><text fill=\"#000000\" font-family=\"sans-serif\" font-size=\"11\" font-style=\"italic\" lengthAdjust=\"spacingAndGlyphs\" textLength=\"48\" x=\"253.5\" y=\"122.7573\">:&gt;&gt;V::m</text><line style=\"stroke: #383838; stroke-width: 1.0;\" x1=\"248.5\" x2=\"251.5\" y1=\"93.3398\" y2=\"93.3398\"/><text fill=\"#000000\" font-family=\"sans-serif\" font-size=\"11\" lengthAdjust=\"spacingAndGlyphs\" textLength=\"55\" x=\"251.5\" y=\"96.6479\">attributes</text><line style=\"stroke: #383838; stroke-width: 1.0;\" x1=\"306.5\" x2=\"309.5\" y1=\"93.3398\" y2=\"93.3398\"/></a><!--MD5=[ebbe1d658d1005bcc118a6aa81145e00]\n",
       "class E4--><a href=\"psysml:aeba74e7-35ad-441a-aaf4-220a7e48fb18\" target=\"_top\" title=\"psysml:aeba74e7-35ad-441a-aaf4-220a7e48fb18\" xlink:actuate=\"onRequest\" xlink:href=\"psysml:aeba74e7-35ad-441a-aaf4-220a7e48fb18\" xlink:show=\"new\" xlink:title=\"psysml:aeba74e7-35ad-441a-aaf4-220a7e48fb18\" xlink:type=\"simple\"><rect fill=\"#FFFFFF\" height=\"88.3516\" id=\"E4\" style=\"stroke: #383838; stroke-width: 1.5;\" width=\"103\" x=\"109.5\" y=\"41\"/><text fill=\"#000000\" font-family=\"sans-serif\" font-size=\"12\" font-style=\"italic\" lengthAdjust=\"spacingAndGlyphs\" textLength=\"68\" x=\"127\" y=\"57.1387\">«part  def»</text><text fill=\"#000000\" font-family=\"sans-serif\" font-size=\"12\" lengthAdjust=\"spacingAndGlyphs\" textLength=\"11\" x=\"155.5\" y=\"71.1074\">W</text><line style=\"stroke: #383838; stroke-width: 1.5;\" x1=\"110.5\" x2=\"211.5\" y1=\"78.9375\" y2=\"78.9375\"/><text fill=\"#000000\" font-family=\"sans-serif\" font-size=\"11\" lengthAdjust=\"spacingAndGlyphs\" textLength=\"87\" x=\"115.5\" y=\"109.9526\">m=default = n;</text><text fill=\"#000000\" font-family=\"sans-serif\" font-size=\"11\" font-style=\"italic\" lengthAdjust=\"spacingAndGlyphs\" textLength=\"48\" x=\"115.5\" y=\"122.7573\">:&gt;&gt;V::m</text><line style=\"stroke: #383838; stroke-width: 1.0;\" x1=\"110.5\" x2=\"133.5\" y1=\"93.3398\" y2=\"93.3398\"/><text fill=\"#000000\" font-family=\"sans-serif\" font-size=\"11\" lengthAdjust=\"spacingAndGlyphs\" textLength=\"55\" x=\"133.5\" y=\"96.6479\">attributes</text><line style=\"stroke: #383838; stroke-width: 1.0;\" x1=\"188.5\" x2=\"211.5\" y1=\"93.3398\" y2=\"93.3398\"/></a><!--MD5=[270fce915f116d4de14055a7c1d9a0f3]\n",
       "class E5--><a href=\"psysml:8648f4f6-facd-4996-a918-0994903b340f\" target=\"_top\" title=\"psysml:8648f4f6-facd-4996-a918-0994903b340f\" xlink:actuate=\"onRequest\" xlink:href=\"psysml:8648f4f6-facd-4996-a918-0994903b340f\" xlink:show=\"new\" xlink:title=\"psysml:8648f4f6-facd-4996-a918-0994903b340f\" xlink:type=\"simple\"><rect fill=\"#FFFFFF\" height=\"45.9375\" id=\"E5\" rx=\"10\" ry=\"10\" style=\"stroke: #383838; stroke-width: 1.5;\" width=\"42\" x=\"32\" y=\"62\"/><text fill=\"#000000\" font-family=\"sans-serif\" font-size=\"12\" font-style=\"italic\" lengthAdjust=\"spacingAndGlyphs\" textLength=\"40\" x=\"33\" y=\"78.1387\">«part»</text><text fill=\"#000000\" font-family=\"sans-serif\" font-size=\"12\" lengthAdjust=\"spacingAndGlyphs\" textLength=\"14\" x=\"44\" y=\"92.1074\">v2</text><line style=\"stroke: #383838; stroke-width: 1.5;\" x1=\"33\" x2=\"73\" y1=\"99.9375\" y2=\"99.9375\"/></a><!--MD5=[05d275557350bfb9b23a4ef7222b4c39]\n",
       "link E3 to E2--><a href=\"psysml:f9d68518-1ffd-4856-b3d4-4b8d752762cd\" target=\"_top\" title=\"psysml:f9d68518-1ffd-4856-b3d4-4b8d752762cd\" xlink:actuate=\"onRequest\" xlink:href=\"psysml:f9d68518-1ffd-4856-b3d4-4b8d752762cd\" xlink:show=\"new\" xlink:title=\"psysml:f9d68518-1ffd-4856-b3d4-4b8d752762cd\" xlink:type=\"simple\"><path d=\"M254.75,129 C254.75,129 254.75,168.91 254.75,168.91 \" fill=\"none\" id=\"E3-&gt;E2\" style=\"stroke: #383838; stroke-width: 1.0;\"/><polygon fill=\"#FFFFFF\" points=\"254.75,188.91,247.75,169.91,261.75,169.91,254.75,188.91\" style=\"stroke: #383838; stroke-width: 1.0;\"/><ellipse cx=\"249.75\" cy=\"164.21\" fill=\"#383838\" rx=\"2\" ry=\"2\" style=\"stroke: #383838; stroke-width: 1.0;\"/><ellipse cx=\"259.75\" cy=\"164.21\" fill=\"#383838\" rx=\"2\" ry=\"2\" style=\"stroke: #383838; stroke-width: 1.0;\"/></a><!--MD5=[185131fc0dcab0a4505a2ebe144e961b]\n",
       "link E4 to E2--><a href=\"psysml:13494711-98b1-4251-8963-46d1e0c35503\" target=\"_top\" title=\"psysml:13494711-98b1-4251-8963-46d1e0c35503\" xlink:actuate=\"onRequest\" xlink:href=\"psysml:13494711-98b1-4251-8963-46d1e0c35503\" xlink:show=\"new\" xlink:title=\"psysml:13494711-98b1-4251-8963-46d1e0c35503\" xlink:type=\"simple\"><path d=\"M184.25,129 C184.25,129 184.25,168.91 184.25,168.91 \" fill=\"none\" id=\"E4-&gt;E2\" style=\"stroke: #383838; stroke-width: 1.0;\"/><polygon fill=\"none\" points=\"191.25,168.91,184.25,188.91,177.25,168.91,191.25,168.91\" style=\"stroke: #383838; stroke-width: 1.0;\"/></a><!--MD5=[26eeccaccb14a51d9b9e4d855cada5eb]\n",
       "@startuml\r\n",
       "skinparam linetype ortho\r\n",
       "skinparam monochrome true\r\n",
       "skinparam classbackgroundcolor white\r\n",
       "skinparam shadowing false\r\n",
       "skinparam wrapWidth 300\r\n",
       "hide circle\r\n",
       "\r\n",
       "package \"DefaultValueTest\" as E1  [[psysml:6839459c-d74b-4e54-a7fb-96b2013b0c1a ]]  {\r\n",
       "comp def \"V\" as E2  <<(T,blue) part  def>> [[psysml:f6ad7545-3639-41cb-8da0-571497d98dc5 ]] {\r\n",
       "- - attributes - -\r\n",
       "m=default = 10; \r\n",
       "n= 20; \r\n",
       "}\r\n",
       "comp usage \"v1: V \" as E3  <<(T,blue) part>> [[psysml:1ac351b0-bbdc-4492-9f99-b540f7d23706 ]] {\r\n",
       "- - attributes - -\r\n",
       "m= 20; \\n//:>>V::m// \r\n",
       "}\r\n",
       "comp def \"W\" as E4  <<(T,blue) part  def>> [[psysml:aeba74e7-35ad-441a-aaf4-220a7e48fb18 ]] {\r\n",
       "- - attributes - -\r\n",
       "m=default = n; \\n//:>>V::m// \r\n",
       "}\r\n",
       "comp usage \"v2 \" as E5  <<(T,blue) part>> [[psysml:8648f4f6-facd-4996-a918-0994903b340f ]] {\r\n",
       "}\r\n",
       "}\r\n",
       "E3 - -:|> E2 [[psysml:f9d68518-1ffd-4856-b3d4-4b8d752762cd ]] \r\n",
       "E4 - -|> E2 [[psysml:13494711-98b1-4251-8963-46d1e0c35503 ]] \r\n",
       "@enduml\r\n",
       "\n",
       "PlantUML version 1.2020.13(Sat Jun 13 12:26:38 UTC 2020)\n",
       "(EPL source distribution)\n",
       "Java Runtime: OpenJDK Runtime Environment\n",
       "JVM: OpenJDK 64-Bit Server VM\n",
       "Default Encoding: UTF-8\n",
       "Language: en\n",
       "Country: null\n",
       "--></g></svg>"
      ]
     },
     "execution_count": 52,
     "metadata": {},
     "output_type": "execute_result"
    }
   ],
   "source": [
    "%viz --style=\"ORTHOLINE\" --view=\"Tree\" \"DefaultValueTest\""
   ]
  },
  {
   "cell_type": "code",
   "execution_count": 53,
   "id": "cd4cabda",
   "metadata": {
    "execution": {
     "iopub.execute_input": "2022-02-18T10:51:43.555409Z",
     "iopub.status.busy": "2022-02-18T10:51:43.555017Z",
     "iopub.status.idle": "2022-02-18T10:51:43.558430Z",
     "shell.execute_reply": "2022-02-18T10:51:43.558085Z"
    }
   },
   "outputs": [
    {
     "data": {
      "image/svg+xml": [
       "<?xml version=\"1.0\" encoding=\"UTF-8\" standalone=\"no\"?><svg xmlns=\"http://www.w3.org/2000/svg\" xmlns:xlink=\"http://www.w3.org/1999/xlink\" contentScriptType=\"application/ecmascript\" contentStyleType=\"text/css\" height=\"12px\" preserveAspectRatio=\"none\" style=\"width:12px;height:12px;\" version=\"1.1\" viewBox=\"0 0 12 12\" width=\"12px\" zoomAndPan=\"magnify\"><defs/><g><!--MD5=[97d6f38768b311333d388e66b2b27985]\n",
       "@startuml\r\n",
       "skinparam linetype ortho\r\n",
       "skinparam monochrome true\r\n",
       "skinparam classbackgroundcolor white\r\n",
       "skinparam shadowing false\r\n",
       "skinparam wrapWidth 300\r\n",
       "hide circle\r\n",
       "\r\n",
       "@enduml\r\n",
       "\n",
       "PlantUML version 1.2020.13(Sat Jun 13 12:26:38 UTC 2020)\n",
       "(EPL source distribution)\n",
       "Java Runtime: OpenJDK Runtime Environment\n",
       "JVM: OpenJDK 64-Bit Server VM\n",
       "Default Encoding: UTF-8\n",
       "Language: en\n",
       "Country: null\n",
       "--></g></svg>"
      ]
     },
     "execution_count": 53,
     "metadata": {},
     "output_type": "execute_result"
    }
   ],
   "source": [
    "%viz --style=\"ORTHOLINE\" --view=\"State\" \"DefaultValueTest\""
   ]
  },
  {
   "cell_type": "code",
   "execution_count": 54,
   "id": "5c0abcc4",
   "metadata": {
    "execution": {
     "iopub.execute_input": "2022-02-18T10:51:43.607896Z",
     "iopub.status.busy": "2022-02-18T10:51:43.607461Z",
     "iopub.status.idle": "2022-02-18T10:51:43.643496Z",
     "shell.execute_reply": "2022-02-18T10:51:43.641812Z"
    }
   },
   "outputs": [
    {
     "data": {
      "image/svg+xml": [
       "<?xml version=\"1.0\" encoding=\"UTF-8\" standalone=\"no\"?><svg xmlns=\"http://www.w3.org/2000/svg\" xmlns:xlink=\"http://www.w3.org/1999/xlink\" contentScriptType=\"application/ecmascript\" contentStyleType=\"text/css\" height=\"399px\" preserveAspectRatio=\"none\" style=\"width:448px;height:399px;\" version=\"1.1\" viewBox=\"0 0 448 399\" width=\"448px\" zoomAndPan=\"magnify\"><defs/><g><!--MD5=[fbc87193dbaf4d95561dea2c320d4a47]\n",
       "cluster E1--><a href=\"psysml:6839459c-d74b-4e54-a7fb-96b2013b0c1a\" target=\"_top\" title=\"psysml:6839459c-d74b-4e54-a7fb-96b2013b0c1a\" xlink:actuate=\"onRequest\" xlink:href=\"psysml:6839459c-d74b-4e54-a7fb-96b2013b0c1a\" xlink:show=\"new\" xlink:title=\"psysml:6839459c-d74b-4e54-a7fb-96b2013b0c1a\" xlink:type=\"simple\"><polygon fill=\"#FFFFFF\" points=\"16,6,140,6,147,28.2969,426,28.2969,426,387,16,387,16,6\" style=\"stroke: #000000; stroke-width: 1.5;\"/><line style=\"stroke: #000000; stroke-width: 1.5;\" x1=\"16\" x2=\"147\" y1=\"28.2969\" y2=\"28.2969\"/><text fill=\"#000000\" font-family=\"sans-serif\" font-size=\"14\" font-weight=\"bold\" lengthAdjust=\"spacingAndGlyphs\" textLength=\"118\" x=\"20\" y=\"20.9951\">DefaultValueTest</text></a><!--MD5=[e4f7fae6ed58524ba242bb0b0d3be6b7]\n",
       "cluster E2--><a href=\"psysml:f6ad7545-3639-41cb-8da0-571497d98dc5\" target=\"_top\" title=\"psysml:f6ad7545-3639-41cb-8da0-571497d98dc5\" xlink:actuate=\"onRequest\" xlink:href=\"psysml:f6ad7545-3639-41cb-8da0-571497d98dc5\" xlink:show=\"new\" xlink:title=\"psysml:f6ad7545-3639-41cb-8da0-571497d98dc5\" xlink:type=\"simple\"><rect fill=\"#FFFFFF\" height=\"129\" id=\"E2\" style=\"stroke: #383838; stroke-width: 1.5;\" width=\"245\" x=\"127\" y=\"226\"/><rect fill=\"#F8F8F8\" height=\"37.9375\" style=\"stroke: #383838; stroke-width: 1.5;\" width=\"245\" x=\"127\" y=\"226\"/><text fill=\"#000000\" font-family=\"sans-serif\" font-size=\"12\" font-style=\"italic\" lengthAdjust=\"spacingAndGlyphs\" textLength=\"68\" x=\"215.5\" y=\"242.1387\">«part  def»</text><text fill=\"#000000\" font-family=\"sans-serif\" font-size=\"12\" lengthAdjust=\"spacingAndGlyphs\" textLength=\"8\" x=\"245.5\" y=\"256.1074\">V</text></a><!--MD5=[de5ec2e2e8f62f467e546659f5068c88]\n",
       "cluster E5--><a href=\"psysml:1ac351b0-bbdc-4492-9f99-b540f7d23706\" target=\"_top\" title=\"psysml:1ac351b0-bbdc-4492-9f99-b540f7d23706\" xlink:actuate=\"onRequest\" xlink:href=\"psysml:1ac351b0-bbdc-4492-9f99-b540f7d23706\" xlink:show=\"new\" xlink:title=\"psysml:1ac351b0-bbdc-4492-9f99-b540f7d23706\" xlink:type=\"simple\"><rect fill=\"#FFFFFF\" height=\"97\" id=\"E5\" rx=\"10\" ry=\"10\" style=\"stroke: #383838; stroke-width: 1.5;\" width=\"104\" x=\"298\" y=\"81\"/><rect fill=\"#F8F8F8\" height=\"23.9688\" rx=\"10\" ry=\"10\" style=\"stroke: #F8F8F8; stroke-width: 1.5;\" width=\"104\" x=\"298\" y=\"81\"/><rect fill=\"#F8F8F8\" height=\"10\" style=\"stroke: #F8F8F8; stroke-width: 1.5;\" width=\"104\" x=\"298\" y=\"94.9688\"/><rect fill=\"none\" height=\"97\" id=\"E5\" rx=\"10\" ry=\"10\" style=\"stroke: #383838; stroke-width: 1.5;\" width=\"104\" x=\"298\" y=\"81\"/><text fill=\"#000000\" font-family=\"sans-serif\" font-size=\"12\" lengthAdjust=\"spacingAndGlyphs\" textLength=\"30\" x=\"335\" y=\"97.1387\">v1: V</text><line style=\"stroke: #383838; stroke-width: 1.0;\" x1=\"298\" x2=\"402\" y1=\"104.9688\" y2=\"104.9688\"/></a><!--MD5=[168fadf3d0c3fd93dd5d6da1b1d7ab76]\n",
       "cluster E7--><a href=\"psysml:aeba74e7-35ad-441a-aaf4-220a7e48fb18\" target=\"_top\" title=\"psysml:aeba74e7-35ad-441a-aaf4-220a7e48fb18\" xlink:actuate=\"onRequest\" xlink:href=\"psysml:aeba74e7-35ad-441a-aaf4-220a7e48fb18\" xlink:show=\"new\" xlink:title=\"psysml:aeba74e7-35ad-441a-aaf4-220a7e48fb18\" xlink:type=\"simple\"><rect fill=\"#FFFFFF\" height=\"129\" id=\"E7\" style=\"stroke: #383838; stroke-width: 1.5;\" width=\"139\" x=\"127\" y=\"57\"/><rect fill=\"#F8F8F8\" height=\"37.9375\" style=\"stroke: #383838; stroke-width: 1.5;\" width=\"139\" x=\"127\" y=\"57\"/><text fill=\"#000000\" font-family=\"sans-serif\" font-size=\"12\" font-style=\"italic\" lengthAdjust=\"spacingAndGlyphs\" textLength=\"68\" x=\"162.5\" y=\"73.1387\">«part  def»</text><text fill=\"#000000\" font-family=\"sans-serif\" font-size=\"12\" lengthAdjust=\"spacingAndGlyphs\" textLength=\"11\" x=\"191\" y=\"87.1074\">W</text></a><!--MD5=[09b614a08d8cba4a07c9adeb5e0fee81]\n",
       "class E3--><a href=\"psysml:075fa6d2-8e51-4049-a184-a21376454cfa\" target=\"_top\" title=\"psysml:075fa6d2-8e51-4049-a184-a21376454cfa\" xlink:actuate=\"onRequest\" xlink:href=\"psysml:075fa6d2-8e51-4049-a184-a21376454cfa\" xlink:show=\"new\" xlink:title=\"psysml:075fa6d2-8e51-4049-a184-a21376454cfa\" xlink:type=\"simple\"><rect fill=\"#FFFFFF\" height=\"45.9375\" id=\"E3\" rx=\"10\" ry=\"10\" style=\"stroke: #383838; stroke-width: 1.5;\" width=\"71\" x=\"276.5\" y=\"285\"/><text fill=\"#000000\" font-family=\"sans-serif\" font-size=\"12\" font-style=\"italic\" lengthAdjust=\"spacingAndGlyphs\" textLength=\"69\" x=\"277.5\" y=\"301.1387\">«attribute»</text><text fill=\"#000000\" font-family=\"sans-serif\" font-size=\"12\" lengthAdjust=\"spacingAndGlyphs\" textLength=\"11\" x=\"304.5\" y=\"315.1074\">m</text><line style=\"stroke: #383838; stroke-width: 1.5;\" x1=\"277.5\" x2=\"346.5\" y1=\"322.9375\" y2=\"322.9375\"/></a><!--MD5=[ebbe1d658d1005bcc118a6aa81145e00]\n",
       "class E4--><a href=\"psysml:0ef473ce-6f49-4b48-ae7c-25bde7c2058c\" target=\"_top\" title=\"psysml:0ef473ce-6f49-4b48-ae7c-25bde7c2058c\" xlink:actuate=\"onRequest\" xlink:href=\"psysml:0ef473ce-6f49-4b48-ae7c-25bde7c2058c\" xlink:show=\"new\" xlink:title=\"psysml:0ef473ce-6f49-4b48-ae7c-25bde7c2058c\" xlink:type=\"simple\"><rect fill=\"#FFFFFF\" height=\"45.9375\" id=\"E4\" rx=\"10\" ry=\"10\" style=\"stroke: #383838; stroke-width: 1.5;\" width=\"71\" x=\"170.5\" y=\"285\"/><text fill=\"#000000\" font-family=\"sans-serif\" font-size=\"12\" font-style=\"italic\" lengthAdjust=\"spacingAndGlyphs\" textLength=\"69\" x=\"171.5\" y=\"301.1387\">«attribute»</text><text fill=\"#000000\" font-family=\"sans-serif\" font-size=\"12\" lengthAdjust=\"spacingAndGlyphs\" textLength=\"8\" x=\"200\" y=\"315.1074\">n</text><line style=\"stroke: #383838; stroke-width: 1.5;\" x1=\"171.5\" x2=\"240.5\" y1=\"322.9375\" y2=\"322.9375\"/></a><!--MD5=[60a26617385b1d2d0262a64233df1f8d]\n",
       "class E6--><a href=\"psysml:ec8a8e56-fcc6-4673-8c8e-468b75026770\" target=\"_top\" title=\"psysml:ec8a8e56-fcc6-4673-8c8e-468b75026770\" xlink:actuate=\"onRequest\" xlink:href=\"psysml:ec8a8e56-fcc6-4673-8c8e-468b75026770\" xlink:show=\"new\" xlink:title=\"psysml:ec8a8e56-fcc6-4673-8c8e-468b75026770\" xlink:type=\"simple\"><rect fill=\"#FFFFFF\" height=\"45.9375\" id=\"E6\" rx=\"10\" ry=\"10\" style=\"stroke: #383838; stroke-width: 1.5;\" width=\"71\" x=\"314.5\" y=\"116\"/><text fill=\"#000000\" font-family=\"sans-serif\" font-size=\"12\" font-style=\"italic\" lengthAdjust=\"spacingAndGlyphs\" textLength=\"69\" x=\"315.5\" y=\"132.1387\">«attribute»</text><text fill=\"#000000\" font-family=\"sans-serif\" font-size=\"12\" lengthAdjust=\"spacingAndGlyphs\" textLength=\"11\" x=\"342.5\" y=\"146.1074\">m</text><line style=\"stroke: #383838; stroke-width: 1.5;\" x1=\"315.5\" x2=\"384.5\" y1=\"153.9375\" y2=\"153.9375\"/></a><!--MD5=[b9389687b975829384b498ac4b7476b2]\n",
       "class E8--><a href=\"psysml:38866ed6-d027-47ed-9e9b-10f0103d500c\" target=\"_top\" title=\"psysml:38866ed6-d027-47ed-9e9b-10f0103d500c\" xlink:actuate=\"onRequest\" xlink:href=\"psysml:38866ed6-d027-47ed-9e9b-10f0103d500c\" xlink:show=\"new\" xlink:title=\"psysml:38866ed6-d027-47ed-9e9b-10f0103d500c\" xlink:type=\"simple\"><rect fill=\"#FFFFFF\" height=\"45.9375\" id=\"E8\" rx=\"10\" ry=\"10\" style=\"stroke: #383838; stroke-width: 1.5;\" width=\"71\" x=\"170.5\" y=\"116\"/><text fill=\"#000000\" font-family=\"sans-serif\" font-size=\"12\" font-style=\"italic\" lengthAdjust=\"spacingAndGlyphs\" textLength=\"69\" x=\"171.5\" y=\"132.1387\">«attribute»</text><text fill=\"#000000\" font-family=\"sans-serif\" font-size=\"12\" lengthAdjust=\"spacingAndGlyphs\" textLength=\"11\" x=\"198.5\" y=\"146.1074\">m</text><line style=\"stroke: #383838; stroke-width: 1.5;\" x1=\"171.5\" x2=\"240.5\" y1=\"153.9375\" y2=\"153.9375\"/></a><g id=\"E1.E9\"><a href=\"psysml:8648f4f6-facd-4996-a918-0994903b340f\" target=\"_top\" title=\"psysml:8648f4f6-facd-4996-a918-0994903b340f\" xlink:actuate=\"onRequest\" xlink:href=\"psysml:8648f4f6-facd-4996-a918-0994903b340f\" xlink:show=\"new\" xlink:title=\"psysml:8648f4f6-facd-4996-a918-0994903b340f\" xlink:type=\"simple\"><rect fill=\"#FFFFFF\" height=\"40\" id=\"E9\" rx=\"10\" ry=\"10\" style=\"stroke: #383838; stroke-width: 1.5;\" width=\"68\" x=\"32\" y=\"119\"/><rect fill=\"#F8F8F8\" height=\"23.9688\" rx=\"10\" ry=\"10\" style=\"stroke: #F8F8F8; stroke-width: 1.5;\" width=\"68\" x=\"32\" y=\"119\"/><rect fill=\"#F8F8F8\" height=\"10\" style=\"stroke: #F8F8F8; stroke-width: 1.5;\" width=\"68\" x=\"32\" y=\"132.9688\"/><rect fill=\"none\" height=\"40\" id=\"E9\" rx=\"10\" ry=\"10\" style=\"stroke: #383838; stroke-width: 1.5;\" width=\"68\" x=\"32\" y=\"119\"/><text fill=\"#000000\" font-family=\"sans-serif\" font-size=\"12\" lengthAdjust=\"spacingAndGlyphs\" textLength=\"53\" x=\"37.5\" y=\"135.1387\">v2= W();</text></a></g><!--MD5=[a717450b82c80b9240a525fa862496af]\n",
       "link E6 to E3--><a href=\"psysml:319addec-2b51-47f0-a10b-c2bc2405cd29\" target=\"_top\" title=\"psysml:319addec-2b51-47f0-a10b-c2bc2405cd29\" xlink:actuate=\"onRequest\" xlink:href=\"psysml:319addec-2b51-47f0-a10b-c2bc2405cd29\" xlink:show=\"new\" xlink:title=\"psysml:319addec-2b51-47f0-a10b-c2bc2405cd29\" xlink:type=\"simple\"><path d=\"M331,162.14 C331,162.14 331,264.86 331,264.86 \" fill=\"none\" id=\"E6-&gt;E3\" style=\"stroke: #383838; stroke-width: 1.0;\"/><polygon fill=\"#FFFFFF\" points=\"331,284.86,324,265.86,338,265.86,331,284.86\" style=\"stroke: #383838; stroke-width: 1.0;\"/><line style=\"stroke: #383838; stroke-width: 2.0;\" x1=\"324\" x2=\"338\" y1=\"262.06\" y2=\"262.06\"/></a><!--MD5=[583832df87f4419a098336a29a52fa00]\n",
       "link E7 to E2--><a href=\"psysml:13494711-98b1-4251-8963-46d1e0c35503\" target=\"_top\" title=\"psysml:13494711-98b1-4251-8963-46d1e0c35503\" xlink:actuate=\"onRequest\" xlink:href=\"psysml:13494711-98b1-4251-8963-46d1e0c35503\" xlink:show=\"new\" xlink:title=\"psysml:13494711-98b1-4251-8963-46d1e0c35503\" xlink:type=\"simple\"><path d=\"M135,186.6574 C135,186.9394 135,187.222 135,187.5053 C135,189.7718 135,192.0807 135,194.4236 C135,203.7952 135,213.71 135,223.6225 C135,224.242 135,224.8616 135,225.4809 C135,225.6358 135,225.7906 135,225.9454 \" fill=\"none\" id=\"E7-&gt;E2\" style=\"stroke: #383838; stroke-width: 1.0;\"/><polygon fill=\"#FFFFFF\" points=\"135,225.9454,142,206.9454,128,206.9454,135,225.9454\" style=\"stroke: #383838; stroke-width: 1.0;\"/></a><!--MD5=[95fa686b5a16158bcdbcaeead89f639b]\n",
       "link E8 to E3--><a href=\"psysml:27f15f96-8451-4ffb-b537-81d2f9d472fa\" target=\"_top\" title=\"psysml:27f15f96-8451-4ffb-b537-81d2f9d472fa\" xlink:actuate=\"onRequest\" xlink:href=\"psysml:27f15f96-8451-4ffb-b537-81d2f9d472fa\" xlink:show=\"new\" xlink:title=\"psysml:27f15f96-8451-4ffb-b537-81d2f9d472fa\" xlink:type=\"simple\"><path d=\"M241.63,139 C266.59,139 295.5,139 295.5,139 C295.5,139 295.5,264.86 295.5,264.86 \" fill=\"none\" id=\"E8-&gt;E3\" style=\"stroke: #383838; stroke-width: 1.0;\"/><polygon fill=\"#FFFFFF\" points=\"295.5,284.86,288.5,265.86,302.5,265.86,295.5,284.86\" style=\"stroke: #383838; stroke-width: 1.0;\"/><line style=\"stroke: #383838; stroke-width: 2.0;\" x1=\"288.5\" x2=\"302.5\" y1=\"262.06\" y2=\"262.06\"/></a><!--MD5=[b634926da6c16a9d3394ef418afacac6]\n",
       "@startuml\r\n",
       "skinparam ranksep 10\r\n",
       "skinparam rectangle {\r\n",
       " backgroundColor<<block>> LightGreen\r\n",
       "}\r\n",
       "skinparam linetype ortho\r\n",
       "skinparam monochrome true\r\n",
       "skinparam classbackgroundcolor white\r\n",
       "skinparam shadowing false\r\n",
       "skinparam wrapWidth 300\r\n",
       "hide circle\r\n",
       "\r\n",
       "package \"DefaultValueTest\" as E1  [[psysml:6839459c-d74b-4e54-a7fb-96b2013b0c1a ]]  {\r\n",
       "rec def \"V\" as E2  <<(T,blue) part  def>> [[psysml:f6ad7545-3639-41cb-8da0-571497d98dc5 ]] {\r\n",
       "comp usage \"m \" as E3  <<(T,blue) attribute>> [[psysml:075fa6d2-8e51-4049-a184-a21376454cfa ]] {\r\n",
       "}\r\n",
       "comp usage \"n \" as E4  <<(T,blue) attribute>> [[psysml:0ef473ce-6f49-4b48-ae7c-25bde7c2058c ]] {\r\n",
       "}\r\n",
       "}\r\n",
       "rec usage \"v1: V\" as E5  [[psysml:1ac351b0-bbdc-4492-9f99-b540f7d23706 ]] {\r\n",
       "comp usage \"m \" as E6  <<(T,blue) attribute>> [[psysml:ec8a8e56-fcc6-4673-8c8e-468b75026770 ]] {\r\n",
       "}\r\n",
       "}\r\n",
       "rec def \"W\" as E7  <<(T,blue) part  def>> [[psysml:aeba74e7-35ad-441a-aaf4-220a7e48fb18 ]] {\r\n",
       "comp usage \"m \" as E8  <<(T,blue) attribute>> [[psysml:38866ed6-d027-47ed-9e9b-10f0103d500c ]] {\r\n",
       "}\r\n",
       "}\r\n",
       "rec usage \"v2= W(); \" as E9  [[psysml:8648f4f6-facd-4996-a918-0994903b340f ]] {\r\n",
       "}\r\n",
       "}\r\n",
       "E6 - -||> E3 [[psysml:319addec-2b51-47f0-a10b-c2bc2405cd29 ]] \r\n",
       "E7 - -|> E2 [[psysml:13494711-98b1-4251-8963-46d1e0c35503 ]] \r\n",
       "E8 - -||> E3 [[psysml:27f15f96-8451-4ffb-b537-81d2f9d472fa ]] \r\n",
       "@enduml\r\n",
       "\n",
       "PlantUML version 1.2020.13(Sat Jun 13 12:26:38 UTC 2020)\n",
       "(EPL source distribution)\n",
       "Java Runtime: OpenJDK Runtime Environment\n",
       "JVM: OpenJDK 64-Bit Server VM\n",
       "Default Encoding: UTF-8\n",
       "Language: en\n",
       "Country: null\n",
       "--></g></svg>"
      ]
     },
     "execution_count": 54,
     "metadata": {},
     "output_type": "execute_result"
    }
   ],
   "source": [
    "%viz --style=\"ORTHOLINE\" --view=\"Interconnection\" \"DefaultValueTest\""
   ]
  },
  {
   "cell_type": "code",
   "execution_count": 55,
   "id": "7fdd64d4",
   "metadata": {
    "execution": {
     "iopub.execute_input": "2022-02-18T10:51:43.692530Z",
     "iopub.status.busy": "2022-02-18T10:51:43.692114Z",
     "iopub.status.idle": "2022-02-18T10:51:43.696555Z",
     "shell.execute_reply": "2022-02-18T10:51:43.696208Z"
    }
   },
   "outputs": [
    {
     "data": {
      "image/svg+xml": [
       "<?xml version=\"1.0\" encoding=\"UTF-8\" standalone=\"no\"?><svg xmlns=\"http://www.w3.org/2000/svg\" xmlns:xlink=\"http://www.w3.org/1999/xlink\" contentScriptType=\"application/ecmascript\" contentStyleType=\"text/css\" height=\"12px\" preserveAspectRatio=\"none\" style=\"width:12px;height:12px;\" version=\"1.1\" viewBox=\"0 0 12 12\" width=\"12px\" zoomAndPan=\"magnify\"><defs/><g><!--MD5=[72934c63077099a26744516a776b4749]\n",
       "@startuml\r\n",
       "skinparam ranksep 8\r\n",
       "skinparam linetype ortho\r\n",
       "skinparam monochrome true\r\n",
       "skinparam classbackgroundcolor white\r\n",
       "skinparam shadowing false\r\n",
       "skinparam wrapWidth 300\r\n",
       "hide circle\r\n",
       "\r\n",
       "@enduml\r\n",
       "\n",
       "PlantUML version 1.2020.13(Sat Jun 13 12:26:38 UTC 2020)\n",
       "(EPL source distribution)\n",
       "Java Runtime: OpenJDK Runtime Environment\n",
       "JVM: OpenJDK 64-Bit Server VM\n",
       "Default Encoding: UTF-8\n",
       "Language: en\n",
       "Country: null\n",
       "--></g></svg>"
      ]
     },
     "execution_count": 55,
     "metadata": {},
     "output_type": "execute_result"
    }
   ],
   "source": [
    "%viz --style=\"ORTHOLINE\" --view=\"Action\" \"DefaultValueTest\""
   ]
  },
  {
   "cell_type": "code",
   "execution_count": 56,
   "id": "e8e7d6a2",
   "metadata": {
    "execution": {
     "iopub.execute_input": "2022-02-18T10:51:43.746334Z",
     "iopub.status.busy": "2022-02-18T10:51:43.745935Z",
     "iopub.status.idle": "2022-02-18T10:51:43.750248Z",
     "shell.execute_reply": "2022-02-18T10:51:43.749903Z"
    }
   },
   "outputs": [
    {
     "data": {
      "image/svg+xml": [
       "<?xml version=\"1.0\" encoding=\"UTF-8\" standalone=\"no\"?><svg xmlns=\"http://www.w3.org/2000/svg\" xmlns:xlink=\"http://www.w3.org/1999/xlink\" contentScriptType=\"application/ecmascript\" contentStyleType=\"text/css\" height=\"12px\" preserveAspectRatio=\"none\" style=\"width:12px;height:12px;\" version=\"1.1\" viewBox=\"0 0 12 12\" width=\"12px\" zoomAndPan=\"magnify\"><defs/><g><!--MD5=[30fc1de5121c5abddedd55b44417fde8]\n",
       "@startuml\r\n",
       "skinparam roundcorner 20\r\n",
       "skinparam BoxPadding 20\r\n",
       "skinparam SequenceBoxBackgroundColor #white\r\n",
       "skinparam style strictuml\r\n",
       "skinparam maxMessageSize 100\r\n",
       "skinparam linetype ortho\r\n",
       "skinparam monochrome true\r\n",
       "skinparam classbackgroundcolor white\r\n",
       "skinparam shadowing false\r\n",
       "skinparam wrapWidth 300\r\n",
       "hide circle\r\n",
       "\r\n",
       "@enduml\r\n",
       "\n",
       "PlantUML version 1.2020.13(Sat Jun 13 12:26:38 UTC 2020)\n",
       "(EPL source distribution)\n",
       "Java Runtime: OpenJDK Runtime Environment\n",
       "JVM: OpenJDK 64-Bit Server VM\n",
       "Default Encoding: UTF-8\n",
       "Language: en\n",
       "Country: null\n",
       "--></g></svg>"
      ]
     },
     "execution_count": 56,
     "metadata": {},
     "output_type": "execute_result"
    }
   ],
   "source": [
    "%viz --style=\"ORTHOLINE\" --view=\"Sequence\" \"DefaultValueTest\""
   ]
  },
  {
   "cell_type": "code",
   "execution_count": 57,
   "id": "c4602844",
   "metadata": {
    "execution": {
     "iopub.execute_input": "2022-02-18T10:51:43.799964Z",
     "iopub.status.busy": "2022-02-18T10:51:43.799568Z",
     "iopub.status.idle": "2022-02-18T10:51:43.882947Z",
     "shell.execute_reply": "2022-02-18T10:51:43.882601Z"
    }
   },
   "outputs": [
    {
     "data": {
      "image/svg+xml": [
       "<?xml version=\"1.0\" encoding=\"UTF-8\" standalone=\"no\"?><svg xmlns=\"http://www.w3.org/2000/svg\" xmlns:xlink=\"http://www.w3.org/1999/xlink\" contentScriptType=\"application/ecmascript\" contentStyleType=\"text/css\" height=\"305px\" preserveAspectRatio=\"none\" style=\"width:349px;height:305px;\" version=\"1.1\" viewBox=\"0 0 349 305\" width=\"349px\" zoomAndPan=\"magnify\"><defs/><g><!--MD5=[fbc87193dbaf4d95561dea2c320d4a47]\n",
       "cluster E1--><a href=\"psysml:6839459c-d74b-4e54-a7fb-96b2013b0c1a\" target=\"_top\" title=\"psysml:6839459c-d74b-4e54-a7fb-96b2013b0c1a\" xlink:actuate=\"onRequest\" xlink:href=\"psysml:6839459c-d74b-4e54-a7fb-96b2013b0c1a\" xlink:show=\"new\" xlink:title=\"psysml:6839459c-d74b-4e54-a7fb-96b2013b0c1a\" xlink:type=\"simple\"><polygon fill=\"#FFFFFF\" points=\"16,6,140,6,147,28.2969,327,28.2969,327,293,16,293,16,6\" style=\"stroke: #000000; stroke-width: 1.5;\"/><line style=\"stroke: #000000; stroke-width: 1.5;\" x1=\"16\" x2=\"147\" y1=\"28.2969\" y2=\"28.2969\"/><text fill=\"#000000\" font-family=\"sans-serif\" font-size=\"14\" font-weight=\"bold\" lengthAdjust=\"spacingAndGlyphs\" textLength=\"118\" x=\"20\" y=\"20.9951\">DefaultValueTest</text></a><!--MD5=[b4997ac47864f28c2f74865a473b2911]\n",
       "class E2--><a href=\"psysml:f6ad7545-3639-41cb-8da0-571497d98dc5\" target=\"_top\" title=\"psysml:f6ad7545-3639-41cb-8da0-571497d98dc5\" xlink:actuate=\"onRequest\" xlink:href=\"psysml:f6ad7545-3639-41cb-8da0-571497d98dc5\" xlink:show=\"new\" xlink:title=\"psysml:f6ad7545-3639-41cb-8da0-571497d98dc5\" xlink:type=\"simple\"><rect fill=\"#FFFFFF\" height=\"88.3516\" id=\"E2\" style=\"stroke: #383838; stroke-width: 1.5;\" width=\"106\" x=\"156\" y=\"189\"/><text fill=\"#000000\" font-family=\"sans-serif\" font-size=\"12\" font-style=\"italic\" lengthAdjust=\"spacingAndGlyphs\" textLength=\"68\" x=\"175\" y=\"205.1387\">«part  def»</text><text fill=\"#000000\" font-family=\"sans-serif\" font-size=\"12\" lengthAdjust=\"spacingAndGlyphs\" textLength=\"8\" x=\"205\" y=\"219.1074\">V</text><line style=\"stroke: #383838; stroke-width: 1.5;\" x1=\"157\" x2=\"261\" y1=\"226.9375\" y2=\"226.9375\"/><text fill=\"#000000\" font-family=\"sans-serif\" font-size=\"11\" lengthAdjust=\"spacingAndGlyphs\" textLength=\"94\" x=\"162\" y=\"257.9526\">m=default = 10;</text><text fill=\"#000000\" font-family=\"sans-serif\" font-size=\"11\" lengthAdjust=\"spacingAndGlyphs\" textLength=\"38\" x=\"162\" y=\"270.7573\">n= 20;</text><line style=\"stroke: #383838; stroke-width: 1.0;\" x1=\"157\" x2=\"181.5\" y1=\"241.3398\" y2=\"241.3398\"/><text fill=\"#000000\" font-family=\"sans-serif\" font-size=\"11\" lengthAdjust=\"spacingAndGlyphs\" textLength=\"55\" x=\"181.5\" y=\"244.6479\">attributes</text><line style=\"stroke: #383838; stroke-width: 1.0;\" x1=\"236.5\" x2=\"261\" y1=\"241.3398\" y2=\"241.3398\"/></a><!--MD5=[09b614a08d8cba4a07c9adeb5e0fee81]\n",
       "class E3--><a href=\"psysml:1ac351b0-bbdc-4492-9f99-b540f7d23706\" target=\"_top\" title=\"psysml:1ac351b0-bbdc-4492-9f99-b540f7d23706\" xlink:actuate=\"onRequest\" xlink:href=\"psysml:1ac351b0-bbdc-4492-9f99-b540f7d23706\" xlink:show=\"new\" xlink:title=\"psysml:1ac351b0-bbdc-4492-9f99-b540f7d23706\" xlink:type=\"simple\"><rect fill=\"#FFFFFF\" height=\"88.3516\" id=\"E3\" rx=\"10\" ry=\"10\" style=\"stroke: #383838; stroke-width: 1.5;\" width=\"63\" x=\"247.5\" y=\"41\"/><text fill=\"#000000\" font-family=\"sans-serif\" font-size=\"12\" font-style=\"italic\" lengthAdjust=\"spacingAndGlyphs\" textLength=\"40\" x=\"259\" y=\"57.1387\">«part»</text><text fill=\"#000000\" font-family=\"sans-serif\" font-size=\"12\" lengthAdjust=\"spacingAndGlyphs\" textLength=\"30\" x=\"262\" y=\"71.1074\">v1: V</text><line style=\"stroke: #383838; stroke-width: 1.5;\" x1=\"248.5\" x2=\"309.5\" y1=\"78.9375\" y2=\"78.9375\"/><text fill=\"#000000\" font-family=\"sans-serif\" font-size=\"11\" lengthAdjust=\"spacingAndGlyphs\" textLength=\"42\" x=\"253.5\" y=\"109.9526\">m= 20;</text><text fill=\"#000000\" font-family=\"sans-serif\" font-size=\"11\" font-style=\"italic\" lengthAdjust=\"spacingAndGlyphs\" textLength=\"48\" x=\"253.5\" y=\"122.7573\">:&gt;&gt;V::m</text><line style=\"stroke: #383838; stroke-width: 1.0;\" x1=\"248.5\" x2=\"251.5\" y1=\"93.3398\" y2=\"93.3398\"/><text fill=\"#000000\" font-family=\"sans-serif\" font-size=\"11\" lengthAdjust=\"spacingAndGlyphs\" textLength=\"55\" x=\"251.5\" y=\"96.6479\">attributes</text><line style=\"stroke: #383838; stroke-width: 1.0;\" x1=\"306.5\" x2=\"309.5\" y1=\"93.3398\" y2=\"93.3398\"/></a><!--MD5=[ebbe1d658d1005bcc118a6aa81145e00]\n",
       "class E4--><a href=\"psysml:aeba74e7-35ad-441a-aaf4-220a7e48fb18\" target=\"_top\" title=\"psysml:aeba74e7-35ad-441a-aaf4-220a7e48fb18\" xlink:actuate=\"onRequest\" xlink:href=\"psysml:aeba74e7-35ad-441a-aaf4-220a7e48fb18\" xlink:show=\"new\" xlink:title=\"psysml:aeba74e7-35ad-441a-aaf4-220a7e48fb18\" xlink:type=\"simple\"><rect fill=\"#FFFFFF\" height=\"88.3516\" id=\"E4\" style=\"stroke: #383838; stroke-width: 1.5;\" width=\"103\" x=\"109.5\" y=\"41\"/><text fill=\"#000000\" font-family=\"sans-serif\" font-size=\"12\" font-style=\"italic\" lengthAdjust=\"spacingAndGlyphs\" textLength=\"68\" x=\"127\" y=\"57.1387\">«part  def»</text><text fill=\"#000000\" font-family=\"sans-serif\" font-size=\"12\" lengthAdjust=\"spacingAndGlyphs\" textLength=\"11\" x=\"155.5\" y=\"71.1074\">W</text><line style=\"stroke: #383838; stroke-width: 1.5;\" x1=\"110.5\" x2=\"211.5\" y1=\"78.9375\" y2=\"78.9375\"/><text fill=\"#000000\" font-family=\"sans-serif\" font-size=\"11\" lengthAdjust=\"spacingAndGlyphs\" textLength=\"87\" x=\"115.5\" y=\"109.9526\">m=default = n;</text><text fill=\"#000000\" font-family=\"sans-serif\" font-size=\"11\" font-style=\"italic\" lengthAdjust=\"spacingAndGlyphs\" textLength=\"48\" x=\"115.5\" y=\"122.7573\">:&gt;&gt;V::m</text><line style=\"stroke: #383838; stroke-width: 1.0;\" x1=\"110.5\" x2=\"133.5\" y1=\"93.3398\" y2=\"93.3398\"/><text fill=\"#000000\" font-family=\"sans-serif\" font-size=\"11\" lengthAdjust=\"spacingAndGlyphs\" textLength=\"55\" x=\"133.5\" y=\"96.6479\">attributes</text><line style=\"stroke: #383838; stroke-width: 1.0;\" x1=\"188.5\" x2=\"211.5\" y1=\"93.3398\" y2=\"93.3398\"/></a><!--MD5=[270fce915f116d4de14055a7c1d9a0f3]\n",
       "class E5--><a href=\"psysml:8648f4f6-facd-4996-a918-0994903b340f\" target=\"_top\" title=\"psysml:8648f4f6-facd-4996-a918-0994903b340f\" xlink:actuate=\"onRequest\" xlink:href=\"psysml:8648f4f6-facd-4996-a918-0994903b340f\" xlink:show=\"new\" xlink:title=\"psysml:8648f4f6-facd-4996-a918-0994903b340f\" xlink:type=\"simple\"><rect fill=\"#FFFFFF\" height=\"45.9375\" id=\"E5\" rx=\"10\" ry=\"10\" style=\"stroke: #383838; stroke-width: 1.5;\" width=\"42\" x=\"32\" y=\"62\"/><text fill=\"#000000\" font-family=\"sans-serif\" font-size=\"12\" font-style=\"italic\" lengthAdjust=\"spacingAndGlyphs\" textLength=\"40\" x=\"33\" y=\"78.1387\">«part»</text><text fill=\"#000000\" font-family=\"sans-serif\" font-size=\"12\" lengthAdjust=\"spacingAndGlyphs\" textLength=\"14\" x=\"44\" y=\"92.1074\">v2</text><line style=\"stroke: #383838; stroke-width: 1.5;\" x1=\"33\" x2=\"73\" y1=\"99.9375\" y2=\"99.9375\"/></a><!--MD5=[05d275557350bfb9b23a4ef7222b4c39]\n",
       "link E3 to E2--><a href=\"psysml:f9d68518-1ffd-4856-b3d4-4b8d752762cd\" target=\"_top\" title=\"psysml:f9d68518-1ffd-4856-b3d4-4b8d752762cd\" xlink:actuate=\"onRequest\" xlink:href=\"psysml:f9d68518-1ffd-4856-b3d4-4b8d752762cd\" xlink:show=\"new\" xlink:title=\"psysml:f9d68518-1ffd-4856-b3d4-4b8d752762cd\" xlink:type=\"simple\"><path d=\"M254.75,129 C254.75,129 254.75,168.91 254.75,168.91 \" fill=\"none\" id=\"E3-&gt;E2\" style=\"stroke: #383838; stroke-width: 1.0;\"/><polygon fill=\"#FFFFFF\" points=\"254.75,188.91,247.75,169.91,261.75,169.91,254.75,188.91\" style=\"stroke: #383838; stroke-width: 1.0;\"/><ellipse cx=\"249.75\" cy=\"164.21\" fill=\"#383838\" rx=\"2\" ry=\"2\" style=\"stroke: #383838; stroke-width: 1.0;\"/><ellipse cx=\"259.75\" cy=\"164.21\" fill=\"#383838\" rx=\"2\" ry=\"2\" style=\"stroke: #383838; stroke-width: 1.0;\"/></a><!--MD5=[185131fc0dcab0a4505a2ebe144e961b]\n",
       "link E4 to E2--><a href=\"psysml:13494711-98b1-4251-8963-46d1e0c35503\" target=\"_top\" title=\"psysml:13494711-98b1-4251-8963-46d1e0c35503\" xlink:actuate=\"onRequest\" xlink:href=\"psysml:13494711-98b1-4251-8963-46d1e0c35503\" xlink:show=\"new\" xlink:title=\"psysml:13494711-98b1-4251-8963-46d1e0c35503\" xlink:type=\"simple\"><path d=\"M184.25,129 C184.25,129 184.25,168.91 184.25,168.91 \" fill=\"none\" id=\"E4-&gt;E2\" style=\"stroke: #383838; stroke-width: 1.0;\"/><polygon fill=\"none\" points=\"191.25,168.91,184.25,188.91,177.25,168.91,191.25,168.91\" style=\"stroke: #383838; stroke-width: 1.0;\"/></a><!--MD5=[26eeccaccb14a51d9b9e4d855cada5eb]\n",
       "@startuml\r\n",
       "skinparam linetype ortho\r\n",
       "skinparam monochrome true\r\n",
       "skinparam classbackgroundcolor white\r\n",
       "skinparam shadowing false\r\n",
       "skinparam wrapWidth 300\r\n",
       "hide circle\r\n",
       "\r\n",
       "package \"DefaultValueTest\" as E1  [[psysml:6839459c-d74b-4e54-a7fb-96b2013b0c1a ]]  {\r\n",
       "comp def \"V\" as E2  <<(T,blue) part  def>> [[psysml:f6ad7545-3639-41cb-8da0-571497d98dc5 ]] {\r\n",
       "- - attributes - -\r\n",
       "m=default = 10; \r\n",
       "n= 20; \r\n",
       "}\r\n",
       "comp usage \"v1: V \" as E3  <<(T,blue) part>> [[psysml:1ac351b0-bbdc-4492-9f99-b540f7d23706 ]] {\r\n",
       "- - attributes - -\r\n",
       "m= 20; \\n//:>>V::m// \r\n",
       "}\r\n",
       "comp def \"W\" as E4  <<(T,blue) part  def>> [[psysml:aeba74e7-35ad-441a-aaf4-220a7e48fb18 ]] {\r\n",
       "- - attributes - -\r\n",
       "m=default = n; \\n//:>>V::m// \r\n",
       "}\r\n",
       "comp usage \"v2 \" as E5  <<(T,blue) part>> [[psysml:8648f4f6-facd-4996-a918-0994903b340f ]] {\r\n",
       "}\r\n",
       "}\r\n",
       "E3 - -:|> E2 [[psysml:f9d68518-1ffd-4856-b3d4-4b8d752762cd ]] \r\n",
       "E4 - -|> E2 [[psysml:13494711-98b1-4251-8963-46d1e0c35503 ]] \r\n",
       "@enduml\r\n",
       "\n",
       "PlantUML version 1.2020.13(Sat Jun 13 12:26:38 UTC 2020)\n",
       "(EPL source distribution)\n",
       "Java Runtime: OpenJDK Runtime Environment\n",
       "JVM: OpenJDK 64-Bit Server VM\n",
       "Default Encoding: UTF-8\n",
       "Language: en\n",
       "Country: null\n",
       "--></g></svg>"
      ]
     },
     "execution_count": 57,
     "metadata": {},
     "output_type": "execute_result"
    }
   ],
   "source": [
    "%viz --style=\"ORTHOLINE\" --view=\"MIXED\" \"DefaultValueTest\""
   ]
  }
 ],
 "metadata": {
  "kernelspec": {
   "display_name": "SysML",
   "language": "sysml",
   "name": "sysml"
  },
  "language_info": {
   "codemirror_mode": "sysml",
   "file_extension": ".sysml",
   "mimetype": "text/x-sysml",
   "name": "SysML",
   "pygments_lexer": "java",
   "version": "1.0.0"
  }
 },
 "nbformat": 4,
 "nbformat_minor": 5
}
