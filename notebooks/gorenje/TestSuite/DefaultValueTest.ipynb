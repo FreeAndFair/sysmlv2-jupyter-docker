{
 "cells": [
  {
   "cell_type": "markdown",
   "id": "b2a8bf0a",
   "metadata": {},
   "source": [
    "# SysML v2 Test Suite\n",
    "\n",
    "This can notebook can be cleared using menu `Edit --> Clear All Outputs` and then all cells can be\n",
    "run using menu `Run --> Run All Cells`.\n",
    "\n",
    "**WARNING**: This file is generated, all modifications here will be ignored.\n"
   ]
  },
  {
   "cell_type": "markdown",
   "id": "9256e9d2",
   "metadata": {},
   "source": [
    "## File: ../../sysml/src/examples/Simple Tests/DefaultValueTest.sysml"
   ]
  },
  {
   "cell_type": "code",
   "execution_count": 1,
   "id": "f127111c",
   "metadata": {
    "execution": {
     "iopub.execute_input": "2024-12-16T14:21:26.326845Z",
     "iopub.status.busy": "2024-12-16T14:21:26.326057Z",
     "iopub.status.idle": "2024-12-16T14:21:26.620931Z",
     "shell.execute_reply": "2024-12-16T14:21:26.621079Z"
    }
   },
   "outputs": [
    {
     "data": {
      "text/plain": [
       "Package DefaultValueTest (7da0ff95-83c9-4c69-ab50-6e4dec268467)\n"
      ]
     },
     "execution_count": 1,
     "metadata": {},
     "output_type": "execute_result"
    }
   ],
   "source": [
    "package DefaultValueTest {\n",
    "\t\n",
    "\tpart def V {\n",
    "\t\tattribute m default = 10;\n",
    "\t\tattribute n = 20;\n",
    "\t}\n",
    "\t\n",
    "\tpart v1 : V {\n",
    "\t\tattribute :>> m = 20;\n",
    "\t}\n",
    "\t\n",
    "\tpart def W :> V {\n",
    "\t\tattribute :>> m default = n;\n",
    "\t}\n",
    "\t\n",
    "\tpart v2 = W();\n",
    "\t\n",
    "}"
   ]
  },
  {
   "cell_type": "code",
   "execution_count": 2,
   "id": "7504732f",
   "metadata": {
    "execution": {
     "iopub.execute_input": "2024-12-16T14:21:26.677186Z",
     "iopub.status.busy": "2024-12-16T14:21:26.676965Z",
     "iopub.status.idle": "2024-12-16T14:21:27.137646Z",
     "shell.execute_reply": "2024-12-16T14:21:27.136852Z"
    }
   },
   "outputs": [
    {
     "data": {
      "image/svg+xml": [
       "<?xml version=\"1.0\" encoding=\"UTF-8\" standalone=\"no\"?><svg xmlns=\"http://www.w3.org/2000/svg\" xmlns:xlink=\"http://www.w3.org/1999/xlink\" contentStyleType=\"text/css\" height=\"323px\" preserveAspectRatio=\"none\" style=\"width:369px;height:323px;background:#FFFFFF;\" version=\"1.1\" viewBox=\"0 0 369 323\" width=\"369px\" zoomAndPan=\"magnify\"><defs/><g><!--MD5=[fbc87193dbaf4d95561dea2c320d4a47]\n",
       "cluster E1--><g id=\"cluster_E1\"><a href=\"psysml:7da0ff95-83c9-4c69-ab50-6e4dec268467\" target=\"_top\" title=\"psysml:7da0ff95-83c9-4c69-ab50-6e4dec268467\" xlink:actuate=\"onRequest\" xlink:href=\"psysml:7da0ff95-83c9-4c69-ab50-6e4dec268467\" xlink:show=\"new\" xlink:title=\"psysml:7da0ff95-83c9-4c69-ab50-6e4dec268467\" xlink:type=\"simple\"><polygon fill=\"none\" points=\"16,6,147,6,154,28.2969,352,28.2969,352,316,16,316,16,6\" style=\"stroke:#000000;stroke-width:1.5;\"/><line style=\"stroke:#000000;stroke-width:1.5;\" x1=\"16\" x2=\"154\" y1=\"28.2969\" y2=\"28.2969\"/><text fill=\"#000000\" font-family=\"sans-serif\" font-size=\"14\" font-weight=\"bold\" lengthAdjust=\"spacing\" textLength=\"125\" x=\"20\" y=\"20.9951\">DefaultValueTest</text></a></g><!--MD5=[b4997ac47864f28c2f74865a473b2911]\n",
       "class E2--><a href=\"psysml:98a54266-dd8e-4aee-8801-c30b6645e897\" target=\"_top\" title=\"psysml:98a54266-dd8e-4aee-8801-c30b6645e897\" xlink:actuate=\"onRequest\" xlink:href=\"psysml:98a54266-dd8e-4aee-8801-c30b6645e897\" xlink:show=\"new\" xlink:title=\"psysml:98a54266-dd8e-4aee-8801-c30b6645e897\" xlink:type=\"simple\"><g id=\"elem_E2\"><rect fill=\"#FFFFFF\" height=\"91.3781\" id=\"E2\" style=\"stroke:#181818;stroke-width:0.5;\" width=\"117.0625\" x=\"166.5\" y=\"209\"/><text fill=\"#000000\" font-family=\"sans-serif\" font-size=\"12\" font-style=\"italic\" lengthAdjust=\"spacing\" textLength=\"68\" x=\"191.0313\" y=\"225.1387\">«part  def»</text><text fill=\"#000000\" font-family=\"sans-serif\" font-size=\"14\" lengthAdjust=\"spacing\" textLength=\"9\" x=\"220.5313\" y=\"240.9639\">V</text><line style=\"stroke:#181818;stroke-width:0.5;\" x1=\"167.5\" x2=\"282.5625\" y1=\"249.2656\" y2=\"249.2656\"/><text fill=\"#000000\" font-family=\"sans-serif\" font-size=\"14\" lengthAdjust=\"spacing\" textLength=\"13\" x=\"172.5\" y=\"276.7795\">m</text><text fill=\"#000000\" font-family=\"sans-serif\" font-size=\"14\" font-weight=\"bold\" lengthAdjust=\"spacing\" textLength=\"50.0625\" x=\"189.5\" y=\"276.7795\">default</text><text fill=\"#000000\" font-family=\"sans-serif\" font-size=\"14\" lengthAdjust=\"spacing\" textLength=\"34\" x=\"243.5625\" y=\"276.7795\">= 10</text><text fill=\"#000000\" font-family=\"sans-serif\" font-size=\"14\" lengthAdjust=\"spacing\" textLength=\"47\" x=\"172.5\" y=\"293.0764\">n = 20</text><text fill=\"#000000\" font-family=\"sans-serif\" font-size=\"14\" font-style=\"italic\" lengthAdjust=\"spacing\" textLength=\"66\" x=\"192.0313\" y=\"261.6123\">attributes</text></g></a><!--MD5=[09b614a08d8cba4a07c9adeb5e0fee81]\n",
       "class E3--><a href=\"psysml:f9c62a8d-8a1e-4486-94b1-ee59692b29ae\" target=\"_top\" title=\"psysml:f9c62a8d-8a1e-4486-94b1-ee59692b29ae\" xlink:actuate=\"onRequest\" xlink:href=\"psysml:f9c62a8d-8a1e-4486-94b1-ee59692b29ae\" xlink:show=\"new\" xlink:title=\"psysml:f9c62a8d-8a1e-4486-94b1-ee59692b29ae\" xlink:type=\"simple\"><g id=\"elem_E3\"><rect fill=\"#FFFFFF\" height=\"91.3781\" id=\"E3\" rx=\"10\" ry=\"10\" style=\"stroke:#181818;stroke-width:0.5;\" width=\"74\" x=\"262\" y=\"49.5\"/><text fill=\"#000000\" font-family=\"sans-serif\" font-size=\"12\" font-style=\"italic\" lengthAdjust=\"spacing\" textLength=\"40\" x=\"279\" y=\"65.6387\">«part»</text><text fill=\"#000000\" font-family=\"sans-serif\" font-size=\"14\" lengthAdjust=\"spacing\" textLength=\"34\" x=\"278\" y=\"81.4639\">v1: V</text><line style=\"stroke:#181818;stroke-width:0.5;\" x1=\"263\" x2=\"335\" y1=\"89.7656\" y2=\"89.7656\"/><text fill=\"#000000\" font-family=\"sans-serif\" font-size=\"14\" lengthAdjust=\"spacing\" textLength=\"51\" x=\"268\" y=\"117.2795\">m = 20</text><text fill=\"#000000\" font-family=\"sans-serif\" font-size=\"14\" font-style=\"italic\" lengthAdjust=\"spacing\" textLength=\"61\" x=\"268\" y=\"133.5764\">:&gt;&gt;V::m</text><text fill=\"#000000\" font-family=\"sans-serif\" font-size=\"14\" font-style=\"italic\" lengthAdjust=\"spacing\" textLength=\"66\" x=\"266\" y=\"102.1123\">attributes</text></g></a><!--MD5=[ebbe1d658d1005bcc118a6aa81145e00]\n",
       "class E4--><a href=\"psysml:ad7d8f37-2b75-4e7f-880b-981718b0db98\" target=\"_top\" title=\"psysml:ad7d8f37-2b75-4e7f-880b-981718b0db98\" xlink:actuate=\"onRequest\" xlink:href=\"psysml:ad7d8f37-2b75-4e7f-880b-981718b0db98\" xlink:show=\"new\" xlink:title=\"psysml:ad7d8f37-2b75-4e7f-880b-981718b0db98\" xlink:type=\"simple\"><g id=\"elem_E4\"><rect fill=\"#FFFFFF\" height=\"107.675\" id=\"E4\" style=\"stroke:#181818;stroke-width:0.5;\" width=\"108.0625\" x=\"119\" y=\"41\"/><text fill=\"#000000\" font-family=\"sans-serif\" font-size=\"12\" font-style=\"italic\" lengthAdjust=\"spacing\" textLength=\"68\" x=\"139.0313\" y=\"57.1387\">«part  def»</text><text fill=\"#000000\" font-family=\"sans-serif\" font-size=\"14\" lengthAdjust=\"spacing\" textLength=\"13\" x=\"166.5313\" y=\"72.9639\">W</text><line style=\"stroke:#181818;stroke-width:0.5;\" x1=\"120\" x2=\"226.0625\" y1=\"81.2656\" y2=\"81.2656\"/><text fill=\"#000000\" font-family=\"sans-serif\" font-size=\"14\" lengthAdjust=\"spacing\" textLength=\"13\" x=\"125\" y=\"108.7795\">m</text><text fill=\"#000000\" font-family=\"sans-serif\" font-size=\"14\" font-weight=\"bold\" lengthAdjust=\"spacing\" textLength=\"50.0625\" x=\"142\" y=\"108.7795\">default</text><text fill=\"#000000\" font-family=\"sans-serif\" font-size=\"14\" lengthAdjust=\"spacing\" textLength=\"25\" x=\"196.0625\" y=\"108.7795\">= n</text><text fill=\"#000000\" font-family=\"sans-serif\" font-size=\"14\" font-style=\"italic\" lengthAdjust=\"spacing\" textLength=\"61\" x=\"125\" y=\"125.0764\">:&gt;&gt;V::m</text><text fill=\"#000000\" font-family=\"sans-serif\" font-size=\"14\" lengthAdjust=\"spacing\" textLength=\"59\" x=\"125\" y=\"141.3732\">^n = 20</text><text fill=\"#000000\" font-family=\"sans-serif\" font-size=\"14\" font-style=\"italic\" lengthAdjust=\"spacing\" textLength=\"66\" x=\"140.0313\" y=\"93.6123\">attributes</text></g></a><!--MD5=[270fce915f116d4de14055a7c1d9a0f3]\n",
       "class E5--><a href=\"psysml:fd52748d-5cd7-4973-9bed-274bef6831d2\" target=\"_top\" title=\"psysml:fd52748d-5cd7-4973-9bed-274bef6831d2\" xlink:actuate=\"onRequest\" xlink:href=\"psysml:fd52748d-5cd7-4973-9bed-274bef6831d2\" xlink:show=\"new\" xlink:title=\"psysml:fd52748d-5cd7-4973-9bed-274bef6831d2\" xlink:type=\"simple\"><g id=\"elem_E5\"><rect fill=\"#FFFFFF\" height=\"75.0813\" id=\"E5\" rx=\"10\" ry=\"10\" style=\"stroke:#181818;stroke-width:0.5;\" width=\"52\" x=\"32\" y=\"57.5\"/><text fill=\"#000000\" font-family=\"sans-serif\" font-size=\"12\" font-style=\"italic\" lengthAdjust=\"spacing\" textLength=\"40\" x=\"38\" y=\"73.6387\">«part»</text><text fill=\"#000000\" font-family=\"sans-serif\" font-size=\"14\" lengthAdjust=\"spacing\" textLength=\"16\" x=\"46\" y=\"89.4639\">v2</text><line style=\"stroke:#181818;stroke-width:0.5;\" x1=\"33\" x2=\"83\" y1=\"97.7656\" y2=\"97.7656\"/><text fill=\"#000000\" font-family=\"sans-serif\" font-size=\"14\" lengthAdjust=\"spacing\" textLength=\"39\" x=\"38\" y=\"125.2795\">= W()</text><text fill=\"#000000\" font-family=\"sans-serif\" font-size=\"14\" font-style=\"italic\" lengthAdjust=\"spacing\" textLength=\"44\" x=\"36\" y=\"110.1123\">values</text></g></a><!--MD5=[05d275557350bfb9b23a4ef7222b4c39]\n",
       "link E3 to E2--><g id=\"link_E3_E2\"><a href=\"psysml:1a78d8f2-030e-492a-8201-32cffefdc08b\" target=\"_top\" title=\"psysml:1a78d8f2-030e-492a-8201-32cffefdc08b\" xlink:actuate=\"onRequest\" xlink:href=\"psysml:1a78d8f2-030e-492a-8201-32cffefdc08b\" xlink:show=\"new\" xlink:title=\"psysml:1a78d8f2-030e-492a-8201-32cffefdc08b\" xlink:type=\"simple\"><path d=\"M277.99,140.71 C270.7,156.24 262.37,173.95 254.52,190.67 \" fill=\"none\" id=\"E3-to-E2\" style=\"stroke:#181818;stroke-width:1.0;\"/><polygon fill=\"#FFFFFF\" points=\"245.93,208.95,247.6703,188.7765,260.3425,194.7275,245.93,208.95\" style=\"stroke:#181818;stroke-width:1.0;\"/><ellipse cx=\"251.9035\" cy=\"184.4672\" fill=\"#181818\" rx=\"2\" ry=\"2\" style=\"stroke:#181818;stroke-width:1.0;\"/><ellipse cx=\"260.9551\" cy=\"188.718\" fill=\"#181818\" rx=\"2\" ry=\"2\" style=\"stroke:#181818;stroke-width:1.0;\"/></a></g><!--MD5=[185131fc0dcab0a4505a2ebe144e961b]\n",
       "link E4 to E2--><g id=\"link_E4_E2\"><a href=\"psysml:5695b7ea-3fef-47ac-8247-2c32b379aa0a\" target=\"_top\" title=\"psysml:5695b7ea-3fef-47ac-8247-2c32b379aa0a\" xlink:actuate=\"onRequest\" xlink:href=\"psysml:5695b7ea-3fef-47ac-8247-2c32b379aa0a\" xlink:show=\"new\" xlink:title=\"psysml:5695b7ea-3fef-47ac-8247-2c32b379aa0a\" xlink:type=\"simple\"><path d=\"M190.6,149.32 C194.9,162.33 199.54,176.38 203.98,189.82 \" fill=\"none\" id=\"E4-to-E2\" style=\"stroke:#181818;stroke-width:1.0;\"/><polygon fill=\"none\" points=\"210.65,187.7,210.27,208.89,197.35,192.09,210.65,187.7\" style=\"stroke:#181818;stroke-width:1.0;\"/></a></g><!--MD5=[bb60e3e73aade4d56a3f7c26488f0b74]\n",
       "@startuml\r\n",
       "skin sysmlbw\r\n",
       "skinparam monochrome true\r\n",
       "skinparam wrapWidth 300\r\n",
       "hide circle\r\n",
       " \r\n",
       "package \"DefaultValueTest\" as E1  [[psysml:7da0ff95-83c9-4c69-ab50-6e4dec268467 ]]  {\r\n",
       "comp def \"V\" as E2  <<(T,blue) part  def>> [[psysml:98a54266-dd8e-4aee-8801-c30b6645e897 ]] {\r\n",
       "##//attributes//##\r\n",
       "m<b> default </b><U+003D> 10\r\n",
       "n <U+003D> 20\r\n",
       "}\r\n",
       "comp usage \"v1: V  \" as E3  <<(T,blue) part>> [[psysml:f9c62a8d-8a1e-4486-94b1-ee59692b29ae ]] {\r\n",
       "##//attributes//##\r\n",
       "m <U+003D> 20\\n//:>>V::m// \r\n",
       "}\r\n",
       "comp def \"W\" as E4  <<(T,blue) part  def>> [[psysml:ad7d8f37-2b75-4e7f-880b-981718b0db98 ]] {\r\n",
       "##//attributes//##\r\n",
       "m<b> default </b><U+003D> n\\n//:>>V::m// \r\n",
       "^n <U+003D> 20\r\n",
       "}\r\n",
       "comp usage \"v2  \" as E5  <<(T,blue) part>> [[psysml:fd52748d-5cd7-4973-9bed-274bef6831d2 ]] {\r\n",
       "##//values//##\r\n",
       " <U+003D> W()\r\n",
       "}\r\n",
       "}\r\n",
       "E3 - -:|> E2 [[psysml:1a78d8f2-030e-492a-8201-32cffefdc08b ]] \r\n",
       "E4 - -|> E2 [[psysml:5695b7ea-3fef-47ac-8247-2c32b379aa0a ]] \r\n",
       "@enduml\r\n",
       "\n",
       "PlantUML version 1.2022.7(Mon Aug 22 17:01:30 UTC 2022)\n",
       "(EPL source distribution)\n",
       "Java Runtime: OpenJDK Runtime Environment\n",
       "JVM: OpenJDK 64-Bit Server VM\n",
       "Default Encoding: UTF-8\n",
       "Language: en\n",
       "Country: null\n",
       "--></g></svg>"
      ]
     },
     "execution_count": 2,
     "metadata": {},
     "output_type": "execute_result"
    }
   ],
   "source": [
    "%viz --style=\"COMPTREE\" --view=\"Default\" \"DefaultValueTest\""
   ]
  },
  {
   "cell_type": "code",
   "execution_count": 3,
   "id": "34ec2be3",
   "metadata": {
    "execution": {
     "iopub.execute_input": "2024-12-16T14:21:27.192972Z",
     "iopub.status.busy": "2024-12-16T14:21:27.192762Z",
     "iopub.status.idle": "2024-12-16T14:21:27.247988Z",
     "shell.execute_reply": "2024-12-16T14:21:27.247820Z"
    }
   },
   "outputs": [
    {
     "data": {
      "image/svg+xml": [
       "<?xml version=\"1.0\" encoding=\"UTF-8\" standalone=\"no\"?><svg xmlns=\"http://www.w3.org/2000/svg\" xmlns:xlink=\"http://www.w3.org/1999/xlink\" contentStyleType=\"text/css\" height=\"323px\" preserveAspectRatio=\"none\" style=\"width:369px;height:323px;background:#FFFFFF;\" version=\"1.1\" viewBox=\"0 0 369 323\" width=\"369px\" zoomAndPan=\"magnify\"><defs/><g><!--MD5=[fbc87193dbaf4d95561dea2c320d4a47]\n",
       "cluster E1--><g id=\"cluster_E1\"><a href=\"psysml:7da0ff95-83c9-4c69-ab50-6e4dec268467\" target=\"_top\" title=\"psysml:7da0ff95-83c9-4c69-ab50-6e4dec268467\" xlink:actuate=\"onRequest\" xlink:href=\"psysml:7da0ff95-83c9-4c69-ab50-6e4dec268467\" xlink:show=\"new\" xlink:title=\"psysml:7da0ff95-83c9-4c69-ab50-6e4dec268467\" xlink:type=\"simple\"><polygon fill=\"none\" points=\"16,6,147,6,154,28.2969,352,28.2969,352,316,16,316,16,6\" style=\"stroke:#000000;stroke-width:1.5;\"/><line style=\"stroke:#000000;stroke-width:1.5;\" x1=\"16\" x2=\"154\" y1=\"28.2969\" y2=\"28.2969\"/><text fill=\"#000000\" font-family=\"sans-serif\" font-size=\"14\" font-weight=\"bold\" lengthAdjust=\"spacing\" textLength=\"125\" x=\"20\" y=\"20.9951\">DefaultValueTest</text></a></g><!--MD5=[b4997ac47864f28c2f74865a473b2911]\n",
       "class E2--><a href=\"psysml:98a54266-dd8e-4aee-8801-c30b6645e897\" target=\"_top\" title=\"psysml:98a54266-dd8e-4aee-8801-c30b6645e897\" xlink:actuate=\"onRequest\" xlink:href=\"psysml:98a54266-dd8e-4aee-8801-c30b6645e897\" xlink:show=\"new\" xlink:title=\"psysml:98a54266-dd8e-4aee-8801-c30b6645e897\" xlink:type=\"simple\"><g id=\"elem_E2\"><rect fill=\"#FFFFFF\" height=\"91.3781\" id=\"E2\" style=\"stroke:#181818;stroke-width:0.5;\" width=\"117.0625\" x=\"166.5\" y=\"209\"/><text fill=\"#000000\" font-family=\"sans-serif\" font-size=\"12\" font-style=\"italic\" lengthAdjust=\"spacing\" textLength=\"68\" x=\"191.0313\" y=\"225.1387\">«part  def»</text><text fill=\"#000000\" font-family=\"sans-serif\" font-size=\"14\" lengthAdjust=\"spacing\" textLength=\"9\" x=\"220.5313\" y=\"240.9639\">V</text><line style=\"stroke:#181818;stroke-width:0.5;\" x1=\"167.5\" x2=\"282.5625\" y1=\"249.2656\" y2=\"249.2656\"/><text fill=\"#000000\" font-family=\"sans-serif\" font-size=\"14\" lengthAdjust=\"spacing\" textLength=\"13\" x=\"172.5\" y=\"276.7795\">m</text><text fill=\"#000000\" font-family=\"sans-serif\" font-size=\"14\" font-weight=\"bold\" lengthAdjust=\"spacing\" textLength=\"50.0625\" x=\"189.5\" y=\"276.7795\">default</text><text fill=\"#000000\" font-family=\"sans-serif\" font-size=\"14\" lengthAdjust=\"spacing\" textLength=\"34\" x=\"243.5625\" y=\"276.7795\">= 10</text><text fill=\"#000000\" font-family=\"sans-serif\" font-size=\"14\" lengthAdjust=\"spacing\" textLength=\"47\" x=\"172.5\" y=\"293.0764\">n = 20</text><text fill=\"#000000\" font-family=\"sans-serif\" font-size=\"14\" font-style=\"italic\" lengthAdjust=\"spacing\" textLength=\"66\" x=\"192.0313\" y=\"261.6123\">attributes</text></g></a><!--MD5=[09b614a08d8cba4a07c9adeb5e0fee81]\n",
       "class E3--><a href=\"psysml:f9c62a8d-8a1e-4486-94b1-ee59692b29ae\" target=\"_top\" title=\"psysml:f9c62a8d-8a1e-4486-94b1-ee59692b29ae\" xlink:actuate=\"onRequest\" xlink:href=\"psysml:f9c62a8d-8a1e-4486-94b1-ee59692b29ae\" xlink:show=\"new\" xlink:title=\"psysml:f9c62a8d-8a1e-4486-94b1-ee59692b29ae\" xlink:type=\"simple\"><g id=\"elem_E3\"><rect fill=\"#FFFFFF\" height=\"91.3781\" id=\"E3\" rx=\"10\" ry=\"10\" style=\"stroke:#181818;stroke-width:0.5;\" width=\"74\" x=\"262\" y=\"49.5\"/><text fill=\"#000000\" font-family=\"sans-serif\" font-size=\"12\" font-style=\"italic\" lengthAdjust=\"spacing\" textLength=\"40\" x=\"279\" y=\"65.6387\">«part»</text><text fill=\"#000000\" font-family=\"sans-serif\" font-size=\"14\" lengthAdjust=\"spacing\" textLength=\"34\" x=\"278\" y=\"81.4639\">v1: V</text><line style=\"stroke:#181818;stroke-width:0.5;\" x1=\"263\" x2=\"335\" y1=\"89.7656\" y2=\"89.7656\"/><text fill=\"#000000\" font-family=\"sans-serif\" font-size=\"14\" lengthAdjust=\"spacing\" textLength=\"51\" x=\"268\" y=\"117.2795\">m = 20</text><text fill=\"#000000\" font-family=\"sans-serif\" font-size=\"14\" font-style=\"italic\" lengthAdjust=\"spacing\" textLength=\"61\" x=\"268\" y=\"133.5764\">:&gt;&gt;V::m</text><text fill=\"#000000\" font-family=\"sans-serif\" font-size=\"14\" font-style=\"italic\" lengthAdjust=\"spacing\" textLength=\"66\" x=\"266\" y=\"102.1123\">attributes</text></g></a><!--MD5=[ebbe1d658d1005bcc118a6aa81145e00]\n",
       "class E4--><a href=\"psysml:ad7d8f37-2b75-4e7f-880b-981718b0db98\" target=\"_top\" title=\"psysml:ad7d8f37-2b75-4e7f-880b-981718b0db98\" xlink:actuate=\"onRequest\" xlink:href=\"psysml:ad7d8f37-2b75-4e7f-880b-981718b0db98\" xlink:show=\"new\" xlink:title=\"psysml:ad7d8f37-2b75-4e7f-880b-981718b0db98\" xlink:type=\"simple\"><g id=\"elem_E4\"><rect fill=\"#FFFFFF\" height=\"107.675\" id=\"E4\" style=\"stroke:#181818;stroke-width:0.5;\" width=\"108.0625\" x=\"119\" y=\"41\"/><text fill=\"#000000\" font-family=\"sans-serif\" font-size=\"12\" font-style=\"italic\" lengthAdjust=\"spacing\" textLength=\"68\" x=\"139.0313\" y=\"57.1387\">«part  def»</text><text fill=\"#000000\" font-family=\"sans-serif\" font-size=\"14\" lengthAdjust=\"spacing\" textLength=\"13\" x=\"166.5313\" y=\"72.9639\">W</text><line style=\"stroke:#181818;stroke-width:0.5;\" x1=\"120\" x2=\"226.0625\" y1=\"81.2656\" y2=\"81.2656\"/><text fill=\"#000000\" font-family=\"sans-serif\" font-size=\"14\" lengthAdjust=\"spacing\" textLength=\"13\" x=\"125\" y=\"108.7795\">m</text><text fill=\"#000000\" font-family=\"sans-serif\" font-size=\"14\" font-weight=\"bold\" lengthAdjust=\"spacing\" textLength=\"50.0625\" x=\"142\" y=\"108.7795\">default</text><text fill=\"#000000\" font-family=\"sans-serif\" font-size=\"14\" lengthAdjust=\"spacing\" textLength=\"25\" x=\"196.0625\" y=\"108.7795\">= n</text><text fill=\"#000000\" font-family=\"sans-serif\" font-size=\"14\" font-style=\"italic\" lengthAdjust=\"spacing\" textLength=\"61\" x=\"125\" y=\"125.0764\">:&gt;&gt;V::m</text><text fill=\"#000000\" font-family=\"sans-serif\" font-size=\"14\" lengthAdjust=\"spacing\" textLength=\"59\" x=\"125\" y=\"141.3732\">^n = 20</text><text fill=\"#000000\" font-family=\"sans-serif\" font-size=\"14\" font-style=\"italic\" lengthAdjust=\"spacing\" textLength=\"66\" x=\"140.0313\" y=\"93.6123\">attributes</text></g></a><!--MD5=[270fce915f116d4de14055a7c1d9a0f3]\n",
       "class E5--><a href=\"psysml:fd52748d-5cd7-4973-9bed-274bef6831d2\" target=\"_top\" title=\"psysml:fd52748d-5cd7-4973-9bed-274bef6831d2\" xlink:actuate=\"onRequest\" xlink:href=\"psysml:fd52748d-5cd7-4973-9bed-274bef6831d2\" xlink:show=\"new\" xlink:title=\"psysml:fd52748d-5cd7-4973-9bed-274bef6831d2\" xlink:type=\"simple\"><g id=\"elem_E5\"><rect fill=\"#FFFFFF\" height=\"75.0813\" id=\"E5\" rx=\"10\" ry=\"10\" style=\"stroke:#181818;stroke-width:0.5;\" width=\"52\" x=\"32\" y=\"57.5\"/><text fill=\"#000000\" font-family=\"sans-serif\" font-size=\"12\" font-style=\"italic\" lengthAdjust=\"spacing\" textLength=\"40\" x=\"38\" y=\"73.6387\">«part»</text><text fill=\"#000000\" font-family=\"sans-serif\" font-size=\"14\" lengthAdjust=\"spacing\" textLength=\"16\" x=\"46\" y=\"89.4639\">v2</text><line style=\"stroke:#181818;stroke-width:0.5;\" x1=\"33\" x2=\"83\" y1=\"97.7656\" y2=\"97.7656\"/><text fill=\"#000000\" font-family=\"sans-serif\" font-size=\"14\" lengthAdjust=\"spacing\" textLength=\"39\" x=\"38\" y=\"125.2795\">= W()</text><text fill=\"#000000\" font-family=\"sans-serif\" font-size=\"14\" font-style=\"italic\" lengthAdjust=\"spacing\" textLength=\"44\" x=\"36\" y=\"110.1123\">values</text></g></a><!--MD5=[05d275557350bfb9b23a4ef7222b4c39]\n",
       "link E3 to E2--><g id=\"link_E3_E2\"><a href=\"psysml:1a78d8f2-030e-492a-8201-32cffefdc08b\" target=\"_top\" title=\"psysml:1a78d8f2-030e-492a-8201-32cffefdc08b\" xlink:actuate=\"onRequest\" xlink:href=\"psysml:1a78d8f2-030e-492a-8201-32cffefdc08b\" xlink:show=\"new\" xlink:title=\"psysml:1a78d8f2-030e-492a-8201-32cffefdc08b\" xlink:type=\"simple\"><path d=\"M277.99,140.71 C270.7,156.24 262.37,173.95 254.52,190.67 \" fill=\"none\" id=\"E3-to-E2\" style=\"stroke:#181818;stroke-width:1.0;\"/><polygon fill=\"#FFFFFF\" points=\"245.93,208.95,247.6703,188.7765,260.3425,194.7275,245.93,208.95\" style=\"stroke:#181818;stroke-width:1.0;\"/><ellipse cx=\"251.9035\" cy=\"184.4672\" fill=\"#181818\" rx=\"2\" ry=\"2\" style=\"stroke:#181818;stroke-width:1.0;\"/><ellipse cx=\"260.9551\" cy=\"188.718\" fill=\"#181818\" rx=\"2\" ry=\"2\" style=\"stroke:#181818;stroke-width:1.0;\"/></a></g><!--MD5=[185131fc0dcab0a4505a2ebe144e961b]\n",
       "link E4 to E2--><g id=\"link_E4_E2\"><a href=\"psysml:5695b7ea-3fef-47ac-8247-2c32b379aa0a\" target=\"_top\" title=\"psysml:5695b7ea-3fef-47ac-8247-2c32b379aa0a\" xlink:actuate=\"onRequest\" xlink:href=\"psysml:5695b7ea-3fef-47ac-8247-2c32b379aa0a\" xlink:show=\"new\" xlink:title=\"psysml:5695b7ea-3fef-47ac-8247-2c32b379aa0a\" xlink:type=\"simple\"><path d=\"M190.6,149.32 C194.9,162.33 199.54,176.38 203.98,189.82 \" fill=\"none\" id=\"E4-to-E2\" style=\"stroke:#181818;stroke-width:1.0;\"/><polygon fill=\"none\" points=\"210.65,187.7,210.27,208.89,197.35,192.09,210.65,187.7\" style=\"stroke:#181818;stroke-width:1.0;\"/></a></g><!--MD5=[bb60e3e73aade4d56a3f7c26488f0b74]\n",
       "@startuml\r\n",
       "skin sysmlbw\r\n",
       "skinparam monochrome true\r\n",
       "skinparam wrapWidth 300\r\n",
       "hide circle\r\n",
       " \r\n",
       "package \"DefaultValueTest\" as E1  [[psysml:7da0ff95-83c9-4c69-ab50-6e4dec268467 ]]  {\r\n",
       "comp def \"V\" as E2  <<(T,blue) part  def>> [[psysml:98a54266-dd8e-4aee-8801-c30b6645e897 ]] {\r\n",
       "##//attributes//##\r\n",
       "m<b> default </b><U+003D> 10\r\n",
       "n <U+003D> 20\r\n",
       "}\r\n",
       "comp usage \"v1: V  \" as E3  <<(T,blue) part>> [[psysml:f9c62a8d-8a1e-4486-94b1-ee59692b29ae ]] {\r\n",
       "##//attributes//##\r\n",
       "m <U+003D> 20\\n//:>>V::m// \r\n",
       "}\r\n",
       "comp def \"W\" as E4  <<(T,blue) part  def>> [[psysml:ad7d8f37-2b75-4e7f-880b-981718b0db98 ]] {\r\n",
       "##//attributes//##\r\n",
       "m<b> default </b><U+003D> n\\n//:>>V::m// \r\n",
       "^n <U+003D> 20\r\n",
       "}\r\n",
       "comp usage \"v2  \" as E5  <<(T,blue) part>> [[psysml:fd52748d-5cd7-4973-9bed-274bef6831d2 ]] {\r\n",
       "##//values//##\r\n",
       " <U+003D> W()\r\n",
       "}\r\n",
       "}\r\n",
       "E3 - -:|> E2 [[psysml:1a78d8f2-030e-492a-8201-32cffefdc08b ]] \r\n",
       "E4 - -|> E2 [[psysml:5695b7ea-3fef-47ac-8247-2c32b379aa0a ]] \r\n",
       "@enduml\r\n",
       "\n",
       "PlantUML version 1.2022.7(Mon Aug 22 17:01:30 UTC 2022)\n",
       "(EPL source distribution)\n",
       "Java Runtime: OpenJDK Runtime Environment\n",
       "JVM: OpenJDK 64-Bit Server VM\n",
       "Default Encoding: UTF-8\n",
       "Language: en\n",
       "Country: null\n",
       "--></g></svg>"
      ]
     },
     "execution_count": 3,
     "metadata": {},
     "output_type": "execute_result"
    }
   ],
   "source": [
    "%viz --style=\"COMPTREE\" --view=\"Tree\" \"DefaultValueTest\""
   ]
  },
  {
   "cell_type": "code",
   "execution_count": 4,
   "id": "a3afa15a",
   "metadata": {
    "execution": {
     "iopub.execute_input": "2024-12-16T14:21:27.303243Z",
     "iopub.status.busy": "2024-12-16T14:21:27.303004Z",
     "iopub.status.idle": "2024-12-16T14:21:27.310426Z",
     "shell.execute_reply": "2024-12-16T14:21:27.310566Z"
    }
   },
   "outputs": [
    {
     "data": {
      "image/svg+xml": [
       "<?xml version=\"1.0\" encoding=\"UTF-8\" standalone=\"no\"?><svg xmlns=\"http://www.w3.org/2000/svg\" xmlns:xlink=\"http://www.w3.org/1999/xlink\" contentStyleType=\"text/css\" height=\"10px\" preserveAspectRatio=\"none\" style=\"width:10px;height:10px;background:#FFFFFF;\" version=\"1.1\" viewBox=\"0 0 10 10\" width=\"10px\" zoomAndPan=\"magnify\"><defs/><g><!--MD5=[ee07d3037018df61283447c7fdb4a44f]\n",
       "@startuml\r\n",
       "skin sysmlbw\r\n",
       "skinparam monochrome true\r\n",
       "skinparam wrapWidth 300\r\n",
       "hide circle\r\n",
       " \r\n",
       "@enduml\r\n",
       "\n",
       "PlantUML version 1.2022.7(Mon Aug 22 17:01:30 UTC 2022)\n",
       "(EPL source distribution)\n",
       "Java Runtime: OpenJDK Runtime Environment\n",
       "JVM: OpenJDK 64-Bit Server VM\n",
       "Default Encoding: UTF-8\n",
       "Language: en\n",
       "Country: null\n",
       "--></g></svg>"
      ]
     },
     "execution_count": 4,
     "metadata": {},
     "output_type": "execute_result"
    }
   ],
   "source": [
    "%viz --style=\"COMPTREE\" --view=\"State\" \"DefaultValueTest\""
   ]
  },
  {
   "cell_type": "code",
   "execution_count": 5,
   "id": "25594fc4",
   "metadata": {
    "execution": {
     "iopub.execute_input": "2024-12-16T14:21:27.364285Z",
     "iopub.status.busy": "2024-12-16T14:21:27.364086Z",
     "iopub.status.idle": "2024-12-16T14:21:27.418843Z",
     "shell.execute_reply": "2024-12-16T14:21:27.418655Z"
    }
   },
   "outputs": [
    {
     "data": {
      "image/svg+xml": [
       "<?xml version=\"1.0\" encoding=\"UTF-8\" standalone=\"no\"?><svg xmlns=\"http://www.w3.org/2000/svg\" xmlns:xlink=\"http://www.w3.org/1999/xlink\" contentStyleType=\"text/css\" height=\"477px\" preserveAspectRatio=\"none\" style=\"width:656px;height:477px;background:#FFFFFF;\" version=\"1.1\" viewBox=\"0 0 656 477\" width=\"656px\" zoomAndPan=\"magnify\"><defs/><g><!--MD5=[fbc87193dbaf4d95561dea2c320d4a47]\n",
       "cluster E1--><g id=\"cluster_E1\"><a href=\"psysml:7da0ff95-83c9-4c69-ab50-6e4dec268467\" target=\"_top\" title=\"psysml:7da0ff95-83c9-4c69-ab50-6e4dec268467\" xlink:actuate=\"onRequest\" xlink:href=\"psysml:7da0ff95-83c9-4c69-ab50-6e4dec268467\" xlink:show=\"new\" xlink:title=\"psysml:7da0ff95-83c9-4c69-ab50-6e4dec268467\" xlink:type=\"simple\"><polygon fill=\"none\" points=\"16,6,147,6,154,28.2969,639,28.2969,639,470,16,470,16,6\" style=\"stroke:#000000;stroke-width:1.5;\"/><line style=\"stroke:#000000;stroke-width:1.5;\" x1=\"16\" x2=\"154\" y1=\"28.2969\" y2=\"28.2969\"/><text fill=\"#000000\" font-family=\"sans-serif\" font-size=\"14\" font-weight=\"bold\" lengthAdjust=\"spacing\" textLength=\"125\" x=\"20\" y=\"20.9951\">DefaultValueTest</text></a></g><!--MD5=[e4f7fae6ed58524ba242bb0b0d3be6b7]\n",
       "cluster E2--><g id=\"cluster_E2\"><a href=\"psysml:98a54266-dd8e-4aee-8801-c30b6645e897\" target=\"_top\" title=\"psysml:98a54266-dd8e-4aee-8801-c30b6645e897\" xlink:actuate=\"onRequest\" xlink:href=\"psysml:98a54266-dd8e-4aee-8801-c30b6645e897\" xlink:show=\"new\" xlink:title=\"psysml:98a54266-dd8e-4aee-8801-c30b6645e897\" xlink:type=\"simple\"><rect fill=\"#FFFFFF\" height=\"158\" id=\"E2\" style=\"stroke:#383838;stroke-width:1.5;\" width=\"278\" x=\"329\" y=\"280\"/><text fill=\"#000000\" font-family=\"sans-serif\" font-size=\"12\" font-style=\"italic\" lengthAdjust=\"spacing\" textLength=\"68\" x=\"434\" y=\"296.1387\">«part  def»</text><text fill=\"#000000\" font-family=\"sans-serif\" font-size=\"14\" lengthAdjust=\"spacing\" textLength=\"9\" x=\"463.5\" y=\"311.9639\">V</text><line style=\"stroke:#383838;stroke-width:1.0;\" x1=\"329\" x2=\"607\" y1=\"320.2656\" y2=\"320.2656\"/></a></g><!--MD5=[de5ec2e2e8f62f467e546659f5068c88]\n",
       "cluster E5--><g id=\"cluster_E5\"><a href=\"psysml:f9c62a8d-8a1e-4486-94b1-ee59692b29ae\" target=\"_top\" title=\"psysml:f9c62a8d-8a1e-4486-94b1-ee59692b29ae\" xlink:actuate=\"onRequest\" xlink:href=\"psysml:f9c62a8d-8a1e-4486-94b1-ee59692b29ae\" xlink:show=\"new\" xlink:title=\"psysml:f9c62a8d-8a1e-4486-94b1-ee59692b29ae\" xlink:type=\"simple\"><rect fill=\"#FFFFFF\" height=\"142\" id=\"E5\" rx=\"10\" ry=\"10\" style=\"stroke:#383838;stroke-width:1.5;\" width=\"139\" x=\"405\" y=\"73\"/><text fill=\"#000000\" font-family=\"sans-serif\" font-size=\"14\" lengthAdjust=\"spacing\" textLength=\"34\" x=\"457.5\" y=\"90.9951\">v1: V</text><line style=\"stroke:#383838;stroke-width:1.0;\" x1=\"405\" x2=\"544\" y1=\"99.2969\" y2=\"99.2969\"/></a></g><!--MD5=[168fadf3d0c3fd93dd5d6da1b1d7ab76]\n",
       "cluster E7--><g id=\"cluster_E7\"><a href=\"psysml:ad7d8f37-2b75-4e7f-880b-981718b0db98\" target=\"_top\" title=\"psysml:ad7d8f37-2b75-4e7f-880b-981718b0db98\" xlink:actuate=\"onRequest\" xlink:href=\"psysml:ad7d8f37-2b75-4e7f-880b-981718b0db98\" xlink:show=\"new\" xlink:title=\"psysml:ad7d8f37-2b75-4e7f-880b-981718b0db98\" xlink:type=\"simple\"><rect fill=\"#FFFFFF\" height=\"381\" id=\"E7\" style=\"stroke:#383838;stroke-width:1.5;\" width=\"163\" x=\"126\" y=\"57\"/><text fill=\"#000000\" font-family=\"sans-serif\" font-size=\"12\" font-style=\"italic\" lengthAdjust=\"spacing\" textLength=\"68\" x=\"173.5\" y=\"73.1387\">«part  def»</text><text fill=\"#000000\" font-family=\"sans-serif\" font-size=\"14\" lengthAdjust=\"spacing\" textLength=\"13\" x=\"201\" y=\"88.9639\">W</text><line style=\"stroke:#383838;stroke-width:1.0;\" x1=\"126\" x2=\"289\" y1=\"97.2656\" y2=\"97.2656\"/></a></g><!--MD5=[09b614a08d8cba4a07c9adeb5e0fee81]\n",
       "class E3--><a href=\"psysml:6c5b3b06-fe87-444e-9dd6-6649acbff1c0\" target=\"_top\" title=\"psysml:6c5b3b06-fe87-444e-9dd6-6649acbff1c0\" xlink:actuate=\"onRequest\" xlink:href=\"psysml:6c5b3b06-fe87-444e-9dd6-6649acbff1c0\" xlink:show=\"new\" xlink:title=\"psysml:6c5b3b06-fe87-444e-9dd6-6649acbff1c0\" xlink:type=\"simple\"><g id=\"elem_E3\"><rect fill=\"#FFFFFF\" height=\"75.0813\" id=\"E3\" rx=\"10\" ry=\"10\" style=\"stroke:#181818;stroke-width:0.5;\" width=\"104.0625\" x=\"479\" y=\"339\"/><text fill=\"#000000\" font-family=\"sans-serif\" font-size=\"12\" font-style=\"italic\" lengthAdjust=\"spacing\" textLength=\"69\" x=\"496.5313\" y=\"355.1387\">«attribute»</text><text fill=\"#000000\" font-family=\"sans-serif\" font-size=\"14\" lengthAdjust=\"spacing\" textLength=\"13\" x=\"520.5313\" y=\"370.9639\">m</text><line style=\"stroke:#181818;stroke-width:0.5;\" x1=\"480\" x2=\"582.0625\" y1=\"379.2656\" y2=\"379.2656\"/><text fill=\"#000000\" font-family=\"sans-serif\" font-size=\"14\" font-weight=\"bold\" lengthAdjust=\"spacing\" textLength=\"50.0625\" x=\"489\" y=\"406.7795\">default</text><text fill=\"#000000\" font-family=\"sans-serif\" font-size=\"14\" lengthAdjust=\"spacing\" textLength=\"34\" x=\"543.0625\" y=\"406.7795\">= 10</text><text fill=\"#000000\" font-family=\"sans-serif\" font-size=\"14\" font-style=\"italic\" lengthAdjust=\"spacing\" textLength=\"44\" x=\"509.0313\" y=\"391.6123\">values</text></g></a><!--MD5=[ebbe1d658d1005bcc118a6aa81145e00]\n",
       "class E4--><a href=\"psysml:d4a77e27-0ca8-4584-84f6-1d4e52d400d2\" target=\"_top\" title=\"psysml:d4a77e27-0ca8-4584-84f6-1d4e52d400d2\" xlink:actuate=\"onRequest\" xlink:href=\"psysml:d4a77e27-0ca8-4584-84f6-1d4e52d400d2\" xlink:show=\"new\" xlink:title=\"psysml:d4a77e27-0ca8-4584-84f6-1d4e52d400d2\" xlink:type=\"simple\"><g id=\"elem_E4\"><rect fill=\"#FFFFFF\" height=\"75.0813\" id=\"E4\" rx=\"10\" ry=\"10\" style=\"stroke:#181818;stroke-width:0.5;\" width=\"71\" x=\"372.5\" y=\"339\"/><text fill=\"#000000\" font-family=\"sans-serif\" font-size=\"12\" font-style=\"italic\" lengthAdjust=\"spacing\" textLength=\"69\" x=\"373.5\" y=\"355.1387\">«attribute»</text><text fill=\"#000000\" font-family=\"sans-serif\" font-size=\"14\" lengthAdjust=\"spacing\" textLength=\"9\" x=\"399.5\" y=\"370.9639\">n</text><line style=\"stroke:#181818;stroke-width:0.5;\" x1=\"373.5\" x2=\"442.5\" y1=\"379.2656\" y2=\"379.2656\"/><text fill=\"#000000\" font-family=\"sans-serif\" font-size=\"14\" lengthAdjust=\"spacing\" textLength=\"34\" x=\"378.5\" y=\"406.7795\">= 20</text><text fill=\"#000000\" font-family=\"sans-serif\" font-size=\"14\" font-style=\"italic\" lengthAdjust=\"spacing\" textLength=\"44\" x=\"386\" y=\"391.6123\">values</text></g></a><!--MD5=[60a26617385b1d2d0262a64233df1f8d]\n",
       "class E6--><a href=\"psysml:c20e1062-5069-459a-93a7-f31b5f49cd74\" target=\"_top\" title=\"psysml:c20e1062-5069-459a-93a7-f31b5f49cd74\" xlink:actuate=\"onRequest\" xlink:href=\"psysml:c20e1062-5069-459a-93a7-f31b5f49cd74\" xlink:show=\"new\" xlink:title=\"psysml:c20e1062-5069-459a-93a7-f31b5f49cd74\" xlink:type=\"simple\"><g id=\"elem_E6\"><rect fill=\"#FFFFFF\" height=\"75.0813\" id=\"E6\" rx=\"10\" ry=\"10\" style=\"stroke:#181818;stroke-width:0.5;\" width=\"71\" x=\"448.5\" y=\"116\"/><text fill=\"#000000\" font-family=\"sans-serif\" font-size=\"12\" font-style=\"italic\" lengthAdjust=\"spacing\" textLength=\"69\" x=\"449.5\" y=\"132.1387\">«attribute»</text><text fill=\"#000000\" font-family=\"sans-serif\" font-size=\"14\" lengthAdjust=\"spacing\" textLength=\"13\" x=\"473.5\" y=\"147.9639\">m</text><line style=\"stroke:#181818;stroke-width:0.5;\" x1=\"449.5\" x2=\"518.5\" y1=\"156.2656\" y2=\"156.2656\"/><text fill=\"#000000\" font-family=\"sans-serif\" font-size=\"14\" lengthAdjust=\"spacing\" textLength=\"34\" x=\"454.5\" y=\"183.7795\">= 20</text><text fill=\"#000000\" font-family=\"sans-serif\" font-size=\"14\" font-style=\"italic\" lengthAdjust=\"spacing\" textLength=\"44\" x=\"462\" y=\"168.6123\">values</text></g></a><!--MD5=[b9389687b975829384b498ac4b7476b2]\n",
       "class E8--><a href=\"psysml:073a166e-558c-466c-90f5-50af09b65e43\" target=\"_top\" title=\"psysml:073a166e-558c-466c-90f5-50af09b65e43\" xlink:actuate=\"onRequest\" xlink:href=\"psysml:073a166e-558c-466c-90f5-50af09b65e43\" xlink:show=\"new\" xlink:title=\"psysml:073a166e-558c-466c-90f5-50af09b65e43\" xlink:type=\"simple\"><g id=\"elem_E8\"><rect fill=\"#FFFFFF\" height=\"75.0813\" id=\"E8\" rx=\"10\" ry=\"10\" style=\"stroke:#181818;stroke-width:0.5;\" width=\"95.0625\" x=\"150.5\" y=\"116\"/><text fill=\"#000000\" font-family=\"sans-serif\" font-size=\"12\" font-style=\"italic\" lengthAdjust=\"spacing\" textLength=\"69\" x=\"163.5313\" y=\"132.1387\">«attribute»</text><text fill=\"#000000\" font-family=\"sans-serif\" font-size=\"14\" lengthAdjust=\"spacing\" textLength=\"13\" x=\"187.5313\" y=\"147.9639\">m</text><line style=\"stroke:#181818;stroke-width:0.5;\" x1=\"151.5\" x2=\"244.5625\" y1=\"156.2656\" y2=\"156.2656\"/><text fill=\"#000000\" font-family=\"sans-serif\" font-size=\"14\" font-weight=\"bold\" lengthAdjust=\"spacing\" textLength=\"50.0625\" x=\"160.5\" y=\"183.7795\">default</text><text fill=\"#000000\" font-family=\"sans-serif\" font-size=\"14\" lengthAdjust=\"spacing\" textLength=\"25\" x=\"214.5625\" y=\"183.7795\">= n</text><text fill=\"#000000\" font-family=\"sans-serif\" font-size=\"14\" font-style=\"italic\" lengthAdjust=\"spacing\" textLength=\"44\" x=\"176.0313\" y=\"168.6123\">values</text></g></a><!--MD5=[fd4143e9d270a159db93a4ea2a975926]\n",
       "class E9--><a href=\"psysml:d4a77e27-0ca8-4584-84f6-1d4e52d400d2\" target=\"_top\" title=\"psysml:d4a77e27-0ca8-4584-84f6-1d4e52d400d2\" xlink:actuate=\"onRequest\" xlink:href=\"psysml:d4a77e27-0ca8-4584-84f6-1d4e52d400d2\" xlink:show=\"new\" xlink:title=\"psysml:d4a77e27-0ca8-4584-84f6-1d4e52d400d2\" xlink:type=\"simple\"><g id=\"elem_E9\"><rect fill=\"#FFFFFF\" height=\"75.0813\" id=\"E9\" rx=\"10\" ry=\"10\" style=\"stroke:#181818;stroke-width:0.5;\" width=\"71\" x=\"162.5\" y=\"339\"/><text fill=\"#000000\" font-family=\"sans-serif\" font-size=\"12\" font-style=\"italic\" lengthAdjust=\"spacing\" textLength=\"69\" x=\"163.5\" y=\"355.1387\">«attribute»</text><text fill=\"#000000\" font-family=\"sans-serif\" font-size=\"14\" lengthAdjust=\"spacing\" textLength=\"21\" x=\"183.5\" y=\"370.9639\">^n</text><line style=\"stroke:#181818;stroke-width:0.5;\" x1=\"163.5\" x2=\"232.5\" y1=\"379.2656\" y2=\"379.2656\"/><text fill=\"#000000\" font-family=\"sans-serif\" font-size=\"14\" lengthAdjust=\"spacing\" textLength=\"34\" x=\"168.5\" y=\"406.7795\">= 20</text><text fill=\"#000000\" font-family=\"sans-serif\" font-size=\"14\" font-style=\"italic\" lengthAdjust=\"spacing\" textLength=\"44\" x=\"176\" y=\"391.6123\">values</text></g></a><g><a href=\"psysml:fd52748d-5cd7-4973-9bed-274bef6831d2\" target=\"_top\" title=\"psysml:fd52748d-5cd7-4973-9bed-274bef6831d2\" xlink:actuate=\"onRequest\" xlink:href=\"psysml:fd52748d-5cd7-4973-9bed-274bef6831d2\" xlink:show=\"new\" xlink:title=\"psysml:fd52748d-5cd7-4973-9bed-274bef6831d2\" xlink:type=\"simple\"><rect fill=\"#FFFFFF\" height=\"40\" id=\"E10\" rx=\"10\" ry=\"10\" style=\"stroke:#383838;stroke-width:1.5;\" width=\"70\" x=\"32\" y=\"133.5\"/><text fill=\"#000000\" font-family=\"sans-serif\" font-size=\"14\" lengthAdjust=\"spacing\" textLength=\"59\" x=\"37.5\" y=\"151.4951\">v2 = W()</text></a></g><!--MD5=[a717450b82c80b9240a525fa862496af]\n",
       "link E6 to E3--><g id=\"link_E6_E3\"><a href=\"psysml:bbca0750-a9c1-46d9-82f5-94045bc6258a\" target=\"_top\" title=\"psysml:bbca0750-a9c1-46d9-82f5-94045bc6258a\" xlink:actuate=\"onRequest\" xlink:href=\"psysml:bbca0750-a9c1-46d9-82f5-94045bc6258a\" xlink:show=\"new\" xlink:title=\"psysml:bbca0750-a9c1-46d9-82f5-94045bc6258a\" xlink:type=\"simple\"><path d=\"M491.87,191.49 C499.28,226.33 510.48,279.03 519.01,319.11 \" fill=\"none\" id=\"E6-to-E3\" style=\"stroke:#181818;stroke-width:1.0;\"/><polygon fill=\"#FFFFFF\" points=\"523.19,338.76,512.3925,321.6307,526.0866,318.7198,523.19,338.76\" style=\"stroke:#181818;stroke-width:1.0;\"/><line style=\"stroke:#181818;stroke-width:2.0;\" x1=\"511.6024\" x2=\"525.2965\" y1=\"317.9137\" y2=\"315.0028\"/></a></g><!--MD5=[15ebcb19ae302d9b601edb458606d402]\n",
       "link E5 to E2--><g id=\"link_E5_E2\"><a href=\"psysml:1a78d8f2-030e-492a-8201-32cffefdc08b\" target=\"_top\" title=\"psysml:1a78d8f2-030e-492a-8201-32cffefdc08b\" xlink:actuate=\"onRequest\" xlink:href=\"psysml:1a78d8f2-030e-492a-8201-32cffefdc08b\" xlink:show=\"new\" xlink:title=\"psysml:1a78d8f2-030e-492a-8201-32cffefdc08b\" xlink:type=\"simple\"><path d=\"M404.8079,167.0368 C404.7416,167.1414 404.675,167.2466 404.6081,167.3523 C404.3405,167.7752 404.0678,168.207 403.7904,168.6477 C403.2356,169.529 402.6617,170.4455 402.0704,171.3954 C400.8878,173.2952 399.6358,175.3287 398.3279,177.4818 C395.7122,181.7881 392.8731,186.5731 389.92,191.725 C378.1075,212.3325 364.47,238.81 356,264 C355.0144,266.9313 354.0781,269.9239 353.1889,272.9592 C352.7443,274.4769 352.3114,276.0052 351.8901,277.5419 C351.6794,278.3103 351.4715,279.0807 351.2665,279.8529 \" fill=\"none\" id=\"E5-to-E2\" style=\"stroke:#181818;stroke-width:1.0;\"/><polygon fill=\"#FFFFFF\" points=\"351.2665,279.8529,349.3758,259.6929,362.9072,263.285,351.2665,279.8529\" style=\"stroke:#181818;stroke-width:1.0;\"/><ellipse cx=\"352.7714\" cy=\"254.6969\" fill=\"#181818\" rx=\"2\" ry=\"2\" style=\"stroke:#181818;stroke-width:1.0;\"/><ellipse cx=\"362.4366\" cy=\"257.2627\" fill=\"#181818\" rx=\"2\" ry=\"2\" style=\"stroke:#181818;stroke-width:1.0;\"/></a></g><!--MD5=[583832df87f4419a098336a29a52fa00]\n",
       "link E7 to E2--><g id=\"link_E7_E2\"><a href=\"psysml:5695b7ea-3fef-47ac-8247-2c32b379aa0a\" target=\"_top\" title=\"psysml:5695b7ea-3fef-47ac-8247-2c32b379aa0a\" xlink:actuate=\"onRequest\" xlink:href=\"psysml:5695b7ea-3fef-47ac-8247-2c32b379aa0a\" xlink:show=\"new\" xlink:title=\"psysml:5695b7ea-3fef-47ac-8247-2c32b379aa0a\" xlink:type=\"simple\"><path d=\"M289.0643,186.3255 C289.1414,186.6297 289.2189,186.9356 289.2968,187.2431 C289.6085,188.4733 289.9269,189.7294 290.2514,191.0102 C295.4441,211.5016 302.2281,238.2731 309.0113,265.0413 C315.7944,291.8094 322.5766,318.5741 327.7655,339.0517 C328.0898,340.3316 328.4079,341.5869 328.7193,342.8161 C328.7972,343.1234 328.8747,343.429 328.9517,343.7331 \" fill=\"none\" id=\"E7-to-E2\" style=\"stroke:#181818;stroke-width:1.0;\"/><polygon fill=\"#FFFFFF\" points=\"328.9517,343.7331,331.0703,323.5957,317.4992,327.0345,328.9517,343.7331\" style=\"stroke:#181818;stroke-width:1.0;\"/></a></g><!--MD5=[95fa686b5a16158bcdbcaeead89f639b]\n",
       "link E8 to E3--><g id=\"link_E8_E3\"><a href=\"psysml:921fa623-ecc5-4b2e-b8c8-ebddf6697201\" target=\"_top\" title=\"psysml:921fa623-ecc5-4b2e-b8c8-ebddf6697201\" xlink:actuate=\"onRequest\" xlink:href=\"psysml:921fa623-ecc5-4b2e-b8c8-ebddf6697201\" xlink:show=\"new\" xlink:title=\"psysml:921fa623-ecc5-4b2e-b8c8-ebddf6697201\" xlink:type=\"simple\"><path d=\"M214.18,191.14 C222.5,205.81 234.07,221.46 249,231 C329.35,282.35 381.36,211.56 461,264 C481.71,277.64 497.44,299.75 508.69,320.69 \" fill=\"none\" id=\"E8-to-E3\" style=\"stroke:#181818;stroke-width:1.0;\"/><polygon fill=\"#FFFFFF\" points=\"517.61,338.94,502.9765,324.945,515.554,318.7962,517.61,338.94\" style=\"stroke:#181818;stroke-width:1.0;\"/><line style=\"stroke:#181818;stroke-width:2.0;\" x1=\"501.3076\" x2=\"513.885\" y1=\"321.5311\" y2=\"315.3823\"/></a></g><!--MD5=[ed10624c06dd9a4fa49ccf290e8b16a8]\n",
       "link E8 to E9--><g id=\"link_E8_E9\"><a href=\"psysml:fc577d85-8ebe-448e-af16-5782109a2fa7\" target=\"_top\" title=\"psysml:fc577d85-8ebe-448e-af16-5782109a2fa7\" xlink:actuate=\"onRequest\" xlink:href=\"psysml:fc577d85-8ebe-448e-af16-5782109a2fa7\" xlink:show=\"new\" xlink:title=\"psysml:fc577d85-8ebe-448e-af16-5782109a2fa7\" xlink:type=\"simple\"><path d=\"M198,191.49 C198,232.41 198,297.94 198,338.76 \" fill=\"none\" id=\"E8-E9\" style=\"stroke:#181818;stroke-width:5.0;\"/><text fill=\"#000000\" font-family=\"sans-serif\" font-size=\"13\" lengthAdjust=\"spacing\" textLength=\"11\" x=\"199\" y=\"252.0669\">=</text></a></g><!--MD5=[33c68d3ea137e494c71af6463acc64a9]\n",
       "@startuml\r\n",
       "skin sysmlbw\r\n",
       "skinparam monochrome true\r\n",
       "skinparam wrapWidth 300\r\n",
       "hide circle\r\n",
       " skinparam ranksep 10\r\n",
       "skinparam rectangle {\r\n",
       " backgroundColor<<block>> LightGreen\r\n",
       "}\r\n",
       "\r\n",
       "package \"DefaultValueTest\" as E1  [[psysml:7da0ff95-83c9-4c69-ab50-6e4dec268467 ]]  {\r\n",
       "rec def \"V\" as E2  <<(T,blue) part  def>> [[psysml:98a54266-dd8e-4aee-8801-c30b6645e897 ]] {\r\n",
       "comp usage \"m  \" as E3  <<(T,blue) attribute>> [[psysml:6c5b3b06-fe87-444e-9dd6-6649acbff1c0 ]] {\r\n",
       "##//values//##\r\n",
       "<b> default </b><U+003D> 10\r\n",
       "}\r\n",
       "comp usage \"n  \" as E4  <<(T,blue) attribute>> [[psysml:d4a77e27-0ca8-4584-84f6-1d4e52d400d2 ]] {\r\n",
       "##//values//##\r\n",
       " <U+003D> 20\r\n",
       "}\r\n",
       "}\r\n",
       "rec usage \"v1: V\" as E5 [[psysml:f9c62a8d-8a1e-4486-94b1-ee59692b29ae ]] {\r\n",
       "comp usage \"m  \" as E6  <<(T,blue) attribute>> [[psysml:c20e1062-5069-459a-93a7-f31b5f49cd74 ]] {\r\n",
       "##//values//##\r\n",
       " <U+003D> 20\r\n",
       "}\r\n",
       "}\r\n",
       "rec def \"W\" as E7  <<(T,blue) part  def>> [[psysml:ad7d8f37-2b75-4e7f-880b-981718b0db98 ]] {\r\n",
       "comp usage \"m  \" as E8  <<(T,blue) attribute>> [[psysml:073a166e-558c-466c-90f5-50af09b65e43 ]] {\r\n",
       "##//values//##\r\n",
       "<b> default </b><U+003D> n\r\n",
       "}\r\n",
       "comp usage \"^n  \" as E9  <<(T,blue) attribute>> [[psysml:d4a77e27-0ca8-4584-84f6-1d4e52d400d2 ]] {\r\n",
       "##//values//##\r\n",
       " <U+003D> 20\r\n",
       "}\r\n",
       "}\r\n",
       "rec usage \"v2 <U+003D> W()\" as E10 [[psysml:fd52748d-5cd7-4973-9bed-274bef6831d2 ]] {\r\n",
       "}\r\n",
       "}\r\n",
       "E6 - -||> E3 [[psysml:bbca0750-a9c1-46d9-82f5-94045bc6258a ]] \r\n",
       "E5 - -:|> E2 [[psysml:1a78d8f2-030e-492a-8201-32cffefdc08b ]] \r\n",
       "E7 - -|> E2 [[psysml:5695b7ea-3fef-47ac-8247-2c32b379aa0a ]] \r\n",
       "E8 - -||> E3 [[psysml:921fa623-ecc5-4b2e-b8c8-ebddf6697201 ]] \r\n",
       "E8 -[thickness=5]- E9 [[psysml:fc577d85-8ebe-448e-af16-5782109a2fa7 ]] : =\r\n",
       "@enduml\r\n",
       "\n",
       "PlantUML version 1.2022.7(Mon Aug 22 17:01:30 UTC 2022)\n",
       "(EPL source distribution)\n",
       "Java Runtime: OpenJDK Runtime Environment\n",
       "JVM: OpenJDK 64-Bit Server VM\n",
       "Default Encoding: UTF-8\n",
       "Language: en\n",
       "Country: null\n",
       "--></g></svg>"
      ]
     },
     "execution_count": 5,
     "metadata": {},
     "output_type": "execute_result"
    }
   ],
   "source": [
    "%viz --style=\"COMPTREE\" --view=\"Interconnection\" \"DefaultValueTest\""
   ]
  },
  {
   "cell_type": "code",
   "execution_count": 6,
   "id": "53deca38",
   "metadata": {
    "execution": {
     "iopub.execute_input": "2024-12-16T14:21:27.475044Z",
     "iopub.status.busy": "2024-12-16T14:21:27.474803Z",
     "iopub.status.idle": "2024-12-16T14:21:27.481990Z",
     "shell.execute_reply": "2024-12-16T14:21:27.481822Z"
    }
   },
   "outputs": [
    {
     "data": {
      "image/svg+xml": [
       "<?xml version=\"1.0\" encoding=\"UTF-8\" standalone=\"no\"?><svg xmlns=\"http://www.w3.org/2000/svg\" xmlns:xlink=\"http://www.w3.org/1999/xlink\" contentStyleType=\"text/css\" height=\"10px\" preserveAspectRatio=\"none\" style=\"width:10px;height:10px;background:#FFFFFF;\" version=\"1.1\" viewBox=\"0 0 10 10\" width=\"10px\" zoomAndPan=\"magnify\"><defs/><g><!--MD5=[042b5323e4810735e2315f6f99dad39e]\n",
       "@startuml\r\n",
       "skin sysmlbw\r\n",
       "skinparam monochrome true\r\n",
       "skinparam wrapWidth 300\r\n",
       "hide circle\r\n",
       " skinparam ranksep 8\r\n",
       "\r\n",
       "@enduml\r\n",
       "\n",
       "PlantUML version 1.2022.7(Mon Aug 22 17:01:30 UTC 2022)\n",
       "(EPL source distribution)\n",
       "Java Runtime: OpenJDK Runtime Environment\n",
       "JVM: OpenJDK 64-Bit Server VM\n",
       "Default Encoding: UTF-8\n",
       "Language: en\n",
       "Country: null\n",
       "--></g></svg>"
      ]
     },
     "execution_count": 6,
     "metadata": {},
     "output_type": "execute_result"
    }
   ],
   "source": [
    "%viz --style=\"COMPTREE\" --view=\"Action\" \"DefaultValueTest\""
   ]
  },
  {
   "cell_type": "code",
   "execution_count": 7,
   "id": "357e8217",
   "metadata": {
    "execution": {
     "iopub.execute_input": "2024-12-16T14:21:27.537457Z",
     "iopub.status.busy": "2024-12-16T14:21:27.537230Z",
     "iopub.status.idle": "2024-12-16T14:21:27.549559Z",
     "shell.execute_reply": "2024-12-16T14:21:27.549355Z"
    }
   },
   "outputs": [
    {
     "data": {
      "image/svg+xml": [
       "<?xml version=\"1.0\" encoding=\"UTF-8\" standalone=\"no\"?><svg xmlns=\"http://www.w3.org/2000/svg\" xmlns:xlink=\"http://www.w3.org/1999/xlink\" contentStyleType=\"text/css\" height=\"10px\" preserveAspectRatio=\"none\" style=\"width:10px;height:10px;background:#FFFFFF;\" version=\"1.1\" viewBox=\"0 0 10 10\" width=\"10px\" zoomAndPan=\"magnify\"><defs/><g><!--MD5=[f5e9abf0a6c8dccaf40d0172f495ca0b]\n",
       "@startuml\r\n",
       "skin sysmlbw\r\n",
       "skinparam monochrome true\r\n",
       "skinparam wrapWidth 300\r\n",
       "hide circle\r\n",
       " skinparam roundcorner 20\r\n",
       "skinparam BoxPadding 20\r\n",
       "skinparam SequenceBoxBackgroundColor #white\r\n",
       "skinparam style strictuml\r\n",
       "skinparam maxMessageSize 100\r\n",
       "\r\n",
       "@enduml\r\n",
       "\n",
       "PlantUML version 1.2022.7(Mon Aug 22 17:01:30 UTC 2022)\n",
       "(EPL source distribution)\n",
       "Java Runtime: OpenJDK Runtime Environment\n",
       "JVM: OpenJDK 64-Bit Server VM\n",
       "Default Encoding: UTF-8\n",
       "Language: en\n",
       "Country: null\n",
       "--></g></svg>"
      ]
     },
     "execution_count": 7,
     "metadata": {},
     "output_type": "execute_result"
    }
   ],
   "source": [
    "%viz --style=\"COMPTREE\" --view=\"Sequence\" \"DefaultValueTest\""
   ]
  },
  {
   "cell_type": "code",
   "execution_count": 8,
   "id": "40581762",
   "metadata": {
    "execution": {
     "iopub.execute_input": "2024-12-16T14:21:27.605196Z",
     "iopub.status.busy": "2024-12-16T14:21:27.604950Z",
     "iopub.status.idle": "2024-12-16T14:21:27.643873Z",
     "shell.execute_reply": "2024-12-16T14:21:27.644017Z"
    }
   },
   "outputs": [
    {
     "data": {
      "image/svg+xml": [
       "<?xml version=\"1.0\" encoding=\"UTF-8\" standalone=\"no\"?><svg xmlns=\"http://www.w3.org/2000/svg\" xmlns:xlink=\"http://www.w3.org/1999/xlink\" contentStyleType=\"text/css\" height=\"323px\" preserveAspectRatio=\"none\" style=\"width:369px;height:323px;background:#FFFFFF;\" version=\"1.1\" viewBox=\"0 0 369 323\" width=\"369px\" zoomAndPan=\"magnify\"><defs/><g><!--MD5=[fbc87193dbaf4d95561dea2c320d4a47]\n",
       "cluster E1--><g id=\"cluster_E1\"><a href=\"psysml:7da0ff95-83c9-4c69-ab50-6e4dec268467\" target=\"_top\" title=\"psysml:7da0ff95-83c9-4c69-ab50-6e4dec268467\" xlink:actuate=\"onRequest\" xlink:href=\"psysml:7da0ff95-83c9-4c69-ab50-6e4dec268467\" xlink:show=\"new\" xlink:title=\"psysml:7da0ff95-83c9-4c69-ab50-6e4dec268467\" xlink:type=\"simple\"><polygon fill=\"none\" points=\"16,6,147,6,154,28.2969,352,28.2969,352,316,16,316,16,6\" style=\"stroke:#000000;stroke-width:1.5;\"/><line style=\"stroke:#000000;stroke-width:1.5;\" x1=\"16\" x2=\"154\" y1=\"28.2969\" y2=\"28.2969\"/><text fill=\"#000000\" font-family=\"sans-serif\" font-size=\"14\" font-weight=\"bold\" lengthAdjust=\"spacing\" textLength=\"125\" x=\"20\" y=\"20.9951\">DefaultValueTest</text></a></g><!--MD5=[b4997ac47864f28c2f74865a473b2911]\n",
       "class E2--><a href=\"psysml:98a54266-dd8e-4aee-8801-c30b6645e897\" target=\"_top\" title=\"psysml:98a54266-dd8e-4aee-8801-c30b6645e897\" xlink:actuate=\"onRequest\" xlink:href=\"psysml:98a54266-dd8e-4aee-8801-c30b6645e897\" xlink:show=\"new\" xlink:title=\"psysml:98a54266-dd8e-4aee-8801-c30b6645e897\" xlink:type=\"simple\"><g id=\"elem_E2\"><rect fill=\"#FFFFFF\" height=\"91.3781\" id=\"E2\" style=\"stroke:#181818;stroke-width:0.5;\" width=\"117.0625\" x=\"166.5\" y=\"209\"/><text fill=\"#000000\" font-family=\"sans-serif\" font-size=\"12\" font-style=\"italic\" lengthAdjust=\"spacing\" textLength=\"68\" x=\"191.0313\" y=\"225.1387\">«part  def»</text><text fill=\"#000000\" font-family=\"sans-serif\" font-size=\"14\" lengthAdjust=\"spacing\" textLength=\"9\" x=\"220.5313\" y=\"240.9639\">V</text><line style=\"stroke:#181818;stroke-width:0.5;\" x1=\"167.5\" x2=\"282.5625\" y1=\"249.2656\" y2=\"249.2656\"/><text fill=\"#000000\" font-family=\"sans-serif\" font-size=\"14\" lengthAdjust=\"spacing\" textLength=\"13\" x=\"172.5\" y=\"276.7795\">m</text><text fill=\"#000000\" font-family=\"sans-serif\" font-size=\"14\" font-weight=\"bold\" lengthAdjust=\"spacing\" textLength=\"50.0625\" x=\"189.5\" y=\"276.7795\">default</text><text fill=\"#000000\" font-family=\"sans-serif\" font-size=\"14\" lengthAdjust=\"spacing\" textLength=\"34\" x=\"243.5625\" y=\"276.7795\">= 10</text><text fill=\"#000000\" font-family=\"sans-serif\" font-size=\"14\" lengthAdjust=\"spacing\" textLength=\"47\" x=\"172.5\" y=\"293.0764\">n = 20</text><text fill=\"#000000\" font-family=\"sans-serif\" font-size=\"14\" font-style=\"italic\" lengthAdjust=\"spacing\" textLength=\"66\" x=\"192.0313\" y=\"261.6123\">attributes</text></g></a><!--MD5=[09b614a08d8cba4a07c9adeb5e0fee81]\n",
       "class E3--><a href=\"psysml:f9c62a8d-8a1e-4486-94b1-ee59692b29ae\" target=\"_top\" title=\"psysml:f9c62a8d-8a1e-4486-94b1-ee59692b29ae\" xlink:actuate=\"onRequest\" xlink:href=\"psysml:f9c62a8d-8a1e-4486-94b1-ee59692b29ae\" xlink:show=\"new\" xlink:title=\"psysml:f9c62a8d-8a1e-4486-94b1-ee59692b29ae\" xlink:type=\"simple\"><g id=\"elem_E3\"><rect fill=\"#FFFFFF\" height=\"91.3781\" id=\"E3\" rx=\"10\" ry=\"10\" style=\"stroke:#181818;stroke-width:0.5;\" width=\"74\" x=\"262\" y=\"49.5\"/><text fill=\"#000000\" font-family=\"sans-serif\" font-size=\"12\" font-style=\"italic\" lengthAdjust=\"spacing\" textLength=\"40\" x=\"279\" y=\"65.6387\">«part»</text><text fill=\"#000000\" font-family=\"sans-serif\" font-size=\"14\" lengthAdjust=\"spacing\" textLength=\"34\" x=\"278\" y=\"81.4639\">v1: V</text><line style=\"stroke:#181818;stroke-width:0.5;\" x1=\"263\" x2=\"335\" y1=\"89.7656\" y2=\"89.7656\"/><text fill=\"#000000\" font-family=\"sans-serif\" font-size=\"14\" lengthAdjust=\"spacing\" textLength=\"51\" x=\"268\" y=\"117.2795\">m = 20</text><text fill=\"#000000\" font-family=\"sans-serif\" font-size=\"14\" font-style=\"italic\" lengthAdjust=\"spacing\" textLength=\"61\" x=\"268\" y=\"133.5764\">:&gt;&gt;V::m</text><text fill=\"#000000\" font-family=\"sans-serif\" font-size=\"14\" font-style=\"italic\" lengthAdjust=\"spacing\" textLength=\"66\" x=\"266\" y=\"102.1123\">attributes</text></g></a><!--MD5=[ebbe1d658d1005bcc118a6aa81145e00]\n",
       "class E4--><a href=\"psysml:ad7d8f37-2b75-4e7f-880b-981718b0db98\" target=\"_top\" title=\"psysml:ad7d8f37-2b75-4e7f-880b-981718b0db98\" xlink:actuate=\"onRequest\" xlink:href=\"psysml:ad7d8f37-2b75-4e7f-880b-981718b0db98\" xlink:show=\"new\" xlink:title=\"psysml:ad7d8f37-2b75-4e7f-880b-981718b0db98\" xlink:type=\"simple\"><g id=\"elem_E4\"><rect fill=\"#FFFFFF\" height=\"107.675\" id=\"E4\" style=\"stroke:#181818;stroke-width:0.5;\" width=\"108.0625\" x=\"119\" y=\"41\"/><text fill=\"#000000\" font-family=\"sans-serif\" font-size=\"12\" font-style=\"italic\" lengthAdjust=\"spacing\" textLength=\"68\" x=\"139.0313\" y=\"57.1387\">«part  def»</text><text fill=\"#000000\" font-family=\"sans-serif\" font-size=\"14\" lengthAdjust=\"spacing\" textLength=\"13\" x=\"166.5313\" y=\"72.9639\">W</text><line style=\"stroke:#181818;stroke-width:0.5;\" x1=\"120\" x2=\"226.0625\" y1=\"81.2656\" y2=\"81.2656\"/><text fill=\"#000000\" font-family=\"sans-serif\" font-size=\"14\" lengthAdjust=\"spacing\" textLength=\"13\" x=\"125\" y=\"108.7795\">m</text><text fill=\"#000000\" font-family=\"sans-serif\" font-size=\"14\" font-weight=\"bold\" lengthAdjust=\"spacing\" textLength=\"50.0625\" x=\"142\" y=\"108.7795\">default</text><text fill=\"#000000\" font-family=\"sans-serif\" font-size=\"14\" lengthAdjust=\"spacing\" textLength=\"25\" x=\"196.0625\" y=\"108.7795\">= n</text><text fill=\"#000000\" font-family=\"sans-serif\" font-size=\"14\" font-style=\"italic\" lengthAdjust=\"spacing\" textLength=\"61\" x=\"125\" y=\"125.0764\">:&gt;&gt;V::m</text><text fill=\"#000000\" font-family=\"sans-serif\" font-size=\"14\" lengthAdjust=\"spacing\" textLength=\"59\" x=\"125\" y=\"141.3732\">^n = 20</text><text fill=\"#000000\" font-family=\"sans-serif\" font-size=\"14\" font-style=\"italic\" lengthAdjust=\"spacing\" textLength=\"66\" x=\"140.0313\" y=\"93.6123\">attributes</text></g></a><!--MD5=[270fce915f116d4de14055a7c1d9a0f3]\n",
       "class E5--><a href=\"psysml:fd52748d-5cd7-4973-9bed-274bef6831d2\" target=\"_top\" title=\"psysml:fd52748d-5cd7-4973-9bed-274bef6831d2\" xlink:actuate=\"onRequest\" xlink:href=\"psysml:fd52748d-5cd7-4973-9bed-274bef6831d2\" xlink:show=\"new\" xlink:title=\"psysml:fd52748d-5cd7-4973-9bed-274bef6831d2\" xlink:type=\"simple\"><g id=\"elem_E5\"><rect fill=\"#FFFFFF\" height=\"75.0813\" id=\"E5\" rx=\"10\" ry=\"10\" style=\"stroke:#181818;stroke-width:0.5;\" width=\"52\" x=\"32\" y=\"57.5\"/><text fill=\"#000000\" font-family=\"sans-serif\" font-size=\"12\" font-style=\"italic\" lengthAdjust=\"spacing\" textLength=\"40\" x=\"38\" y=\"73.6387\">«part»</text><text fill=\"#000000\" font-family=\"sans-serif\" font-size=\"14\" lengthAdjust=\"spacing\" textLength=\"16\" x=\"46\" y=\"89.4639\">v2</text><line style=\"stroke:#181818;stroke-width:0.5;\" x1=\"33\" x2=\"83\" y1=\"97.7656\" y2=\"97.7656\"/><text fill=\"#000000\" font-family=\"sans-serif\" font-size=\"14\" lengthAdjust=\"spacing\" textLength=\"39\" x=\"38\" y=\"125.2795\">= W()</text><text fill=\"#000000\" font-family=\"sans-serif\" font-size=\"14\" font-style=\"italic\" lengthAdjust=\"spacing\" textLength=\"44\" x=\"36\" y=\"110.1123\">values</text></g></a><!--MD5=[05d275557350bfb9b23a4ef7222b4c39]\n",
       "link E3 to E2--><g id=\"link_E3_E2\"><a href=\"psysml:1a78d8f2-030e-492a-8201-32cffefdc08b\" target=\"_top\" title=\"psysml:1a78d8f2-030e-492a-8201-32cffefdc08b\" xlink:actuate=\"onRequest\" xlink:href=\"psysml:1a78d8f2-030e-492a-8201-32cffefdc08b\" xlink:show=\"new\" xlink:title=\"psysml:1a78d8f2-030e-492a-8201-32cffefdc08b\" xlink:type=\"simple\"><path d=\"M277.99,140.71 C270.7,156.24 262.37,173.95 254.52,190.67 \" fill=\"none\" id=\"E3-to-E2\" style=\"stroke:#181818;stroke-width:1.0;\"/><polygon fill=\"#FFFFFF\" points=\"245.93,208.95,247.6703,188.7765,260.3425,194.7275,245.93,208.95\" style=\"stroke:#181818;stroke-width:1.0;\"/><ellipse cx=\"251.9035\" cy=\"184.4672\" fill=\"#181818\" rx=\"2\" ry=\"2\" style=\"stroke:#181818;stroke-width:1.0;\"/><ellipse cx=\"260.9551\" cy=\"188.718\" fill=\"#181818\" rx=\"2\" ry=\"2\" style=\"stroke:#181818;stroke-width:1.0;\"/></a></g><!--MD5=[185131fc0dcab0a4505a2ebe144e961b]\n",
       "link E4 to E2--><g id=\"link_E4_E2\"><a href=\"psysml:5695b7ea-3fef-47ac-8247-2c32b379aa0a\" target=\"_top\" title=\"psysml:5695b7ea-3fef-47ac-8247-2c32b379aa0a\" xlink:actuate=\"onRequest\" xlink:href=\"psysml:5695b7ea-3fef-47ac-8247-2c32b379aa0a\" xlink:show=\"new\" xlink:title=\"psysml:5695b7ea-3fef-47ac-8247-2c32b379aa0a\" xlink:type=\"simple\"><path d=\"M190.6,149.32 C194.9,162.33 199.54,176.38 203.98,189.82 \" fill=\"none\" id=\"E4-to-E2\" style=\"stroke:#181818;stroke-width:1.0;\"/><polygon fill=\"none\" points=\"210.65,187.7,210.27,208.89,197.35,192.09,210.65,187.7\" style=\"stroke:#181818;stroke-width:1.0;\"/></a></g><!--MD5=[bb60e3e73aade4d56a3f7c26488f0b74]\n",
       "@startuml\r\n",
       "skin sysmlbw\r\n",
       "skinparam monochrome true\r\n",
       "skinparam wrapWidth 300\r\n",
       "hide circle\r\n",
       " \r\n",
       "package \"DefaultValueTest\" as E1  [[psysml:7da0ff95-83c9-4c69-ab50-6e4dec268467 ]]  {\r\n",
       "comp def \"V\" as E2  <<(T,blue) part  def>> [[psysml:98a54266-dd8e-4aee-8801-c30b6645e897 ]] {\r\n",
       "##//attributes//##\r\n",
       "m<b> default </b><U+003D> 10\r\n",
       "n <U+003D> 20\r\n",
       "}\r\n",
       "comp usage \"v1: V  \" as E3  <<(T,blue) part>> [[psysml:f9c62a8d-8a1e-4486-94b1-ee59692b29ae ]] {\r\n",
       "##//attributes//##\r\n",
       "m <U+003D> 20\\n//:>>V::m// \r\n",
       "}\r\n",
       "comp def \"W\" as E4  <<(T,blue) part  def>> [[psysml:ad7d8f37-2b75-4e7f-880b-981718b0db98 ]] {\r\n",
       "##//attributes//##\r\n",
       "m<b> default </b><U+003D> n\\n//:>>V::m// \r\n",
       "^n <U+003D> 20\r\n",
       "}\r\n",
       "comp usage \"v2  \" as E5  <<(T,blue) part>> [[psysml:fd52748d-5cd7-4973-9bed-274bef6831d2 ]] {\r\n",
       "##//values//##\r\n",
       " <U+003D> W()\r\n",
       "}\r\n",
       "}\r\n",
       "E3 - -:|> E2 [[psysml:1a78d8f2-030e-492a-8201-32cffefdc08b ]] \r\n",
       "E4 - -|> E2 [[psysml:5695b7ea-3fef-47ac-8247-2c32b379aa0a ]] \r\n",
       "@enduml\r\n",
       "\n",
       "PlantUML version 1.2022.7(Mon Aug 22 17:01:30 UTC 2022)\n",
       "(EPL source distribution)\n",
       "Java Runtime: OpenJDK Runtime Environment\n",
       "JVM: OpenJDK 64-Bit Server VM\n",
       "Default Encoding: UTF-8\n",
       "Language: en\n",
       "Country: null\n",
       "--></g></svg>"
      ]
     },
     "execution_count": 8,
     "metadata": {},
     "output_type": "execute_result"
    }
   ],
   "source": [
    "%viz --style=\"COMPTREE\" --view=\"MIXED\" \"DefaultValueTest\""
   ]
  },
  {
   "cell_type": "code",
   "execution_count": 9,
   "id": "768db858",
   "metadata": {
    "execution": {
     "iopub.execute_input": "2024-12-16T14:21:27.697646Z",
     "iopub.status.busy": "2024-12-16T14:21:27.697432Z",
     "iopub.status.idle": "2024-12-16T14:21:27.729346Z",
     "shell.execute_reply": "2024-12-16T14:21:27.728572Z"
    }
   },
   "outputs": [
    {
     "data": {
      "image/svg+xml": [
       "<?xml version=\"1.0\" encoding=\"UTF-8\" standalone=\"no\"?><svg xmlns=\"http://www.w3.org/2000/svg\" xmlns:xlink=\"http://www.w3.org/1999/xlink\" contentStyleType=\"text/css\" height=\"323px\" preserveAspectRatio=\"none\" style=\"width:369px;height:323px;background:#FFFFFF;\" version=\"1.1\" viewBox=\"0 0 369 323\" width=\"369px\" zoomAndPan=\"magnify\"><defs/><g><!--MD5=[fbc87193dbaf4d95561dea2c320d4a47]\n",
       "cluster E1--><g id=\"cluster_E1\"><a href=\"psysml:7da0ff95-83c9-4c69-ab50-6e4dec268467\" target=\"_top\" title=\"psysml:7da0ff95-83c9-4c69-ab50-6e4dec268467\" xlink:actuate=\"onRequest\" xlink:href=\"psysml:7da0ff95-83c9-4c69-ab50-6e4dec268467\" xlink:show=\"new\" xlink:title=\"psysml:7da0ff95-83c9-4c69-ab50-6e4dec268467\" xlink:type=\"simple\"><polygon fill=\"none\" points=\"16,6,147,6,154,28.2969,352,28.2969,352,316,16,316,16,6\" style=\"stroke:#000000;stroke-width:1.5;\"/><line style=\"stroke:#000000;stroke-width:1.5;\" x1=\"16\" x2=\"154\" y1=\"28.2969\" y2=\"28.2969\"/><text fill=\"#000000\" font-family=\"sans-serif\" font-size=\"14\" font-weight=\"bold\" lengthAdjust=\"spacing\" textLength=\"125\" x=\"20\" y=\"20.9951\">DefaultValueTest</text></a></g><!--MD5=[b4997ac47864f28c2f74865a473b2911]\n",
       "class E2--><a href=\"psysml:98a54266-dd8e-4aee-8801-c30b6645e897\" target=\"_top\" title=\"psysml:98a54266-dd8e-4aee-8801-c30b6645e897\" xlink:actuate=\"onRequest\" xlink:href=\"psysml:98a54266-dd8e-4aee-8801-c30b6645e897\" xlink:show=\"new\" xlink:title=\"psysml:98a54266-dd8e-4aee-8801-c30b6645e897\" xlink:type=\"simple\"><g id=\"elem_E2\"><rect fill=\"#FFFFFF\" height=\"91.3781\" id=\"E2\" style=\"stroke:#181818;stroke-width:0.5;\" width=\"117.0625\" x=\"166.5\" y=\"209\"/><text fill=\"#000000\" font-family=\"sans-serif\" font-size=\"12\" font-style=\"italic\" lengthAdjust=\"spacing\" textLength=\"68\" x=\"191.0313\" y=\"225.1387\">«part  def»</text><text fill=\"#000000\" font-family=\"sans-serif\" font-size=\"14\" lengthAdjust=\"spacing\" textLength=\"9\" x=\"220.5313\" y=\"240.9639\">V</text><line style=\"stroke:#181818;stroke-width:0.5;\" x1=\"167.5\" x2=\"282.5625\" y1=\"249.2656\" y2=\"249.2656\"/><text fill=\"#000000\" font-family=\"sans-serif\" font-size=\"14\" lengthAdjust=\"spacing\" textLength=\"13\" x=\"172.5\" y=\"276.7795\">m</text><text fill=\"#000000\" font-family=\"sans-serif\" font-size=\"14\" font-weight=\"bold\" lengthAdjust=\"spacing\" textLength=\"50.0625\" x=\"189.5\" y=\"276.7795\">default</text><text fill=\"#000000\" font-family=\"sans-serif\" font-size=\"14\" lengthAdjust=\"spacing\" textLength=\"34\" x=\"243.5625\" y=\"276.7795\">= 10</text><text fill=\"#000000\" font-family=\"sans-serif\" font-size=\"14\" lengthAdjust=\"spacing\" textLength=\"47\" x=\"172.5\" y=\"293.0764\">n = 20</text><text fill=\"#000000\" font-family=\"sans-serif\" font-size=\"14\" font-style=\"italic\" lengthAdjust=\"spacing\" textLength=\"66\" x=\"192.0313\" y=\"261.6123\">attributes</text></g></a><!--MD5=[09b614a08d8cba4a07c9adeb5e0fee81]\n",
       "class E3--><a href=\"psysml:f9c62a8d-8a1e-4486-94b1-ee59692b29ae\" target=\"_top\" title=\"psysml:f9c62a8d-8a1e-4486-94b1-ee59692b29ae\" xlink:actuate=\"onRequest\" xlink:href=\"psysml:f9c62a8d-8a1e-4486-94b1-ee59692b29ae\" xlink:show=\"new\" xlink:title=\"psysml:f9c62a8d-8a1e-4486-94b1-ee59692b29ae\" xlink:type=\"simple\"><g id=\"elem_E3\"><rect fill=\"#FFFFFF\" height=\"91.3781\" id=\"E3\" rx=\"10\" ry=\"10\" style=\"stroke:#181818;stroke-width:0.5;\" width=\"74\" x=\"262\" y=\"49.5\"/><text fill=\"#000000\" font-family=\"sans-serif\" font-size=\"12\" font-style=\"italic\" lengthAdjust=\"spacing\" textLength=\"40\" x=\"279\" y=\"65.6387\">«part»</text><text fill=\"#000000\" font-family=\"sans-serif\" font-size=\"14\" lengthAdjust=\"spacing\" textLength=\"34\" x=\"278\" y=\"81.4639\">v1: V</text><line style=\"stroke:#181818;stroke-width:0.5;\" x1=\"263\" x2=\"335\" y1=\"89.7656\" y2=\"89.7656\"/><text fill=\"#000000\" font-family=\"sans-serif\" font-size=\"14\" lengthAdjust=\"spacing\" textLength=\"51\" x=\"268\" y=\"117.2795\">m = 20</text><text fill=\"#000000\" font-family=\"sans-serif\" font-size=\"14\" font-style=\"italic\" lengthAdjust=\"spacing\" textLength=\"61\" x=\"268\" y=\"133.5764\">:&gt;&gt;V::m</text><text fill=\"#000000\" font-family=\"sans-serif\" font-size=\"14\" font-style=\"italic\" lengthAdjust=\"spacing\" textLength=\"66\" x=\"266\" y=\"102.1123\">attributes</text></g></a><!--MD5=[ebbe1d658d1005bcc118a6aa81145e00]\n",
       "class E4--><a href=\"psysml:ad7d8f37-2b75-4e7f-880b-981718b0db98\" target=\"_top\" title=\"psysml:ad7d8f37-2b75-4e7f-880b-981718b0db98\" xlink:actuate=\"onRequest\" xlink:href=\"psysml:ad7d8f37-2b75-4e7f-880b-981718b0db98\" xlink:show=\"new\" xlink:title=\"psysml:ad7d8f37-2b75-4e7f-880b-981718b0db98\" xlink:type=\"simple\"><g id=\"elem_E4\"><rect fill=\"#FFFFFF\" height=\"107.675\" id=\"E4\" style=\"stroke:#181818;stroke-width:0.5;\" width=\"108.0625\" x=\"119\" y=\"41\"/><text fill=\"#000000\" font-family=\"sans-serif\" font-size=\"12\" font-style=\"italic\" lengthAdjust=\"spacing\" textLength=\"68\" x=\"139.0313\" y=\"57.1387\">«part  def»</text><text fill=\"#000000\" font-family=\"sans-serif\" font-size=\"14\" lengthAdjust=\"spacing\" textLength=\"13\" x=\"166.5313\" y=\"72.9639\">W</text><line style=\"stroke:#181818;stroke-width:0.5;\" x1=\"120\" x2=\"226.0625\" y1=\"81.2656\" y2=\"81.2656\"/><text fill=\"#000000\" font-family=\"sans-serif\" font-size=\"14\" lengthAdjust=\"spacing\" textLength=\"13\" x=\"125\" y=\"108.7795\">m</text><text fill=\"#000000\" font-family=\"sans-serif\" font-size=\"14\" font-weight=\"bold\" lengthAdjust=\"spacing\" textLength=\"50.0625\" x=\"142\" y=\"108.7795\">default</text><text fill=\"#000000\" font-family=\"sans-serif\" font-size=\"14\" lengthAdjust=\"spacing\" textLength=\"25\" x=\"196.0625\" y=\"108.7795\">= n</text><text fill=\"#000000\" font-family=\"sans-serif\" font-size=\"14\" font-style=\"italic\" lengthAdjust=\"spacing\" textLength=\"61\" x=\"125\" y=\"125.0764\">:&gt;&gt;V::m</text><text fill=\"#000000\" font-family=\"sans-serif\" font-size=\"14\" lengthAdjust=\"spacing\" textLength=\"59\" x=\"125\" y=\"141.3732\">^n = 20</text><text fill=\"#000000\" font-family=\"sans-serif\" font-size=\"14\" font-style=\"italic\" lengthAdjust=\"spacing\" textLength=\"66\" x=\"140.0313\" y=\"93.6123\">attributes</text></g></a><!--MD5=[270fce915f116d4de14055a7c1d9a0f3]\n",
       "class E5--><a href=\"psysml:fd52748d-5cd7-4973-9bed-274bef6831d2\" target=\"_top\" title=\"psysml:fd52748d-5cd7-4973-9bed-274bef6831d2\" xlink:actuate=\"onRequest\" xlink:href=\"psysml:fd52748d-5cd7-4973-9bed-274bef6831d2\" xlink:show=\"new\" xlink:title=\"psysml:fd52748d-5cd7-4973-9bed-274bef6831d2\" xlink:type=\"simple\"><g id=\"elem_E5\"><rect fill=\"#FFFFFF\" height=\"75.0813\" id=\"E5\" rx=\"10\" ry=\"10\" style=\"stroke:#181818;stroke-width:0.5;\" width=\"52\" x=\"32\" y=\"57.5\"/><text fill=\"#000000\" font-family=\"sans-serif\" font-size=\"12\" font-style=\"italic\" lengthAdjust=\"spacing\" textLength=\"40\" x=\"38\" y=\"73.6387\">«part»</text><text fill=\"#000000\" font-family=\"sans-serif\" font-size=\"14\" lengthAdjust=\"spacing\" textLength=\"16\" x=\"46\" y=\"89.4639\">v2</text><line style=\"stroke:#181818;stroke-width:0.5;\" x1=\"33\" x2=\"83\" y1=\"97.7656\" y2=\"97.7656\"/><text fill=\"#000000\" font-family=\"sans-serif\" font-size=\"14\" lengthAdjust=\"spacing\" textLength=\"39\" x=\"38\" y=\"125.2795\">= W()</text><text fill=\"#000000\" font-family=\"sans-serif\" font-size=\"14\" font-style=\"italic\" lengthAdjust=\"spacing\" textLength=\"44\" x=\"36\" y=\"110.1123\">values</text></g></a><!--MD5=[05d275557350bfb9b23a4ef7222b4c39]\n",
       "link E3 to E2--><g id=\"link_E3_E2\"><a href=\"psysml:1a78d8f2-030e-492a-8201-32cffefdc08b\" target=\"_top\" title=\"psysml:1a78d8f2-030e-492a-8201-32cffefdc08b\" xlink:actuate=\"onRequest\" xlink:href=\"psysml:1a78d8f2-030e-492a-8201-32cffefdc08b\" xlink:show=\"new\" xlink:title=\"psysml:1a78d8f2-030e-492a-8201-32cffefdc08b\" xlink:type=\"simple\"><path d=\"M277.99,140.71 C270.7,156.24 262.37,173.95 254.52,190.67 \" fill=\"none\" id=\"E3-to-E2\" style=\"stroke:#181818;stroke-width:1.0;\"/><polygon fill=\"#FFFFFF\" points=\"245.93,208.95,247.6703,188.7765,260.3425,194.7275,245.93,208.95\" style=\"stroke:#181818;stroke-width:1.0;\"/><ellipse cx=\"251.9035\" cy=\"184.4672\" fill=\"#181818\" rx=\"2\" ry=\"2\" style=\"stroke:#181818;stroke-width:1.0;\"/><ellipse cx=\"260.9551\" cy=\"188.718\" fill=\"#181818\" rx=\"2\" ry=\"2\" style=\"stroke:#181818;stroke-width:1.0;\"/></a></g><!--MD5=[185131fc0dcab0a4505a2ebe144e961b]\n",
       "link E4 to E2--><g id=\"link_E4_E2\"><a href=\"psysml:5695b7ea-3fef-47ac-8247-2c32b379aa0a\" target=\"_top\" title=\"psysml:5695b7ea-3fef-47ac-8247-2c32b379aa0a\" xlink:actuate=\"onRequest\" xlink:href=\"psysml:5695b7ea-3fef-47ac-8247-2c32b379aa0a\" xlink:show=\"new\" xlink:title=\"psysml:5695b7ea-3fef-47ac-8247-2c32b379aa0a\" xlink:type=\"simple\"><path d=\"M190.6,149.32 C194.9,162.33 199.54,176.38 203.98,189.82 \" fill=\"none\" id=\"E4-to-E2\" style=\"stroke:#181818;stroke-width:1.0;\"/><polygon fill=\"none\" points=\"210.65,187.7,210.27,208.89,197.35,192.09,210.65,187.7\" style=\"stroke:#181818;stroke-width:1.0;\"/></a></g><!--MD5=[261d6882ec58d4af94a71f3bf8448f47]\n",
       "@startuml\r\n",
       "skin sysmlbw\r\n",
       "skinparam monochrome true\r\n",
       "skinparam wrapWidth 300\r\n",
       "hide circle\r\n",
       "skinparam linetype polyline\r\n",
       "\r\n",
       "package \"DefaultValueTest\" as E1  [[psysml:7da0ff95-83c9-4c69-ab50-6e4dec268467 ]]  {\r\n",
       "comp def \"V\" as E2  <<(T,blue) part  def>> [[psysml:98a54266-dd8e-4aee-8801-c30b6645e897 ]] {\r\n",
       "##//attributes//##\r\n",
       "m<b> default </b><U+003D> 10\r\n",
       "n <U+003D> 20\r\n",
       "}\r\n",
       "comp usage \"v1: V  \" as E3  <<(T,blue) part>> [[psysml:f9c62a8d-8a1e-4486-94b1-ee59692b29ae ]] {\r\n",
       "##//attributes//##\r\n",
       "m <U+003D> 20\\n//:>>V::m// \r\n",
       "}\r\n",
       "comp def \"W\" as E4  <<(T,blue) part  def>> [[psysml:ad7d8f37-2b75-4e7f-880b-981718b0db98 ]] {\r\n",
       "##//attributes//##\r\n",
       "m<b> default </b><U+003D> n\\n//:>>V::m// \r\n",
       "^n <U+003D> 20\r\n",
       "}\r\n",
       "comp usage \"v2  \" as E5  <<(T,blue) part>> [[psysml:fd52748d-5cd7-4973-9bed-274bef6831d2 ]] {\r\n",
       "##//values//##\r\n",
       " <U+003D> W()\r\n",
       "}\r\n",
       "}\r\n",
       "E3 - -:|> E2 [[psysml:1a78d8f2-030e-492a-8201-32cffefdc08b ]] \r\n",
       "E4 - -|> E2 [[psysml:5695b7ea-3fef-47ac-8247-2c32b379aa0a ]] \r\n",
       "@enduml\r\n",
       "\n",
       "PlantUML version 1.2022.7(Mon Aug 22 17:01:30 UTC 2022)\n",
       "(EPL source distribution)\n",
       "Java Runtime: OpenJDK Runtime Environment\n",
       "JVM: OpenJDK 64-Bit Server VM\n",
       "Default Encoding: UTF-8\n",
       "Language: en\n",
       "Country: null\n",
       "--></g></svg>"
      ]
     },
     "execution_count": 9,
     "metadata": {},
     "output_type": "execute_result"
    }
   ],
   "source": [
    "%viz --style=\"POLYLINE\" --view=\"Default\" \"DefaultValueTest\""
   ]
  },
  {
   "cell_type": "code",
   "execution_count": 10,
   "id": "e319fd81",
   "metadata": {
    "execution": {
     "iopub.execute_input": "2024-12-16T14:21:27.784325Z",
     "iopub.status.busy": "2024-12-16T14:21:27.784092Z",
     "iopub.status.idle": "2024-12-16T14:21:27.813216Z",
     "shell.execute_reply": "2024-12-16T14:21:27.812428Z"
    }
   },
   "outputs": [
    {
     "data": {
      "image/svg+xml": [
       "<?xml version=\"1.0\" encoding=\"UTF-8\" standalone=\"no\"?><svg xmlns=\"http://www.w3.org/2000/svg\" xmlns:xlink=\"http://www.w3.org/1999/xlink\" contentStyleType=\"text/css\" height=\"323px\" preserveAspectRatio=\"none\" style=\"width:369px;height:323px;background:#FFFFFF;\" version=\"1.1\" viewBox=\"0 0 369 323\" width=\"369px\" zoomAndPan=\"magnify\"><defs/><g><!--MD5=[fbc87193dbaf4d95561dea2c320d4a47]\n",
       "cluster E1--><g id=\"cluster_E1\"><a href=\"psysml:7da0ff95-83c9-4c69-ab50-6e4dec268467\" target=\"_top\" title=\"psysml:7da0ff95-83c9-4c69-ab50-6e4dec268467\" xlink:actuate=\"onRequest\" xlink:href=\"psysml:7da0ff95-83c9-4c69-ab50-6e4dec268467\" xlink:show=\"new\" xlink:title=\"psysml:7da0ff95-83c9-4c69-ab50-6e4dec268467\" xlink:type=\"simple\"><polygon fill=\"none\" points=\"16,6,147,6,154,28.2969,352,28.2969,352,316,16,316,16,6\" style=\"stroke:#000000;stroke-width:1.5;\"/><line style=\"stroke:#000000;stroke-width:1.5;\" x1=\"16\" x2=\"154\" y1=\"28.2969\" y2=\"28.2969\"/><text fill=\"#000000\" font-family=\"sans-serif\" font-size=\"14\" font-weight=\"bold\" lengthAdjust=\"spacing\" textLength=\"125\" x=\"20\" y=\"20.9951\">DefaultValueTest</text></a></g><!--MD5=[b4997ac47864f28c2f74865a473b2911]\n",
       "class E2--><a href=\"psysml:98a54266-dd8e-4aee-8801-c30b6645e897\" target=\"_top\" title=\"psysml:98a54266-dd8e-4aee-8801-c30b6645e897\" xlink:actuate=\"onRequest\" xlink:href=\"psysml:98a54266-dd8e-4aee-8801-c30b6645e897\" xlink:show=\"new\" xlink:title=\"psysml:98a54266-dd8e-4aee-8801-c30b6645e897\" xlink:type=\"simple\"><g id=\"elem_E2\"><rect fill=\"#FFFFFF\" height=\"91.3781\" id=\"E2\" style=\"stroke:#181818;stroke-width:0.5;\" width=\"117.0625\" x=\"166.5\" y=\"209\"/><text fill=\"#000000\" font-family=\"sans-serif\" font-size=\"12\" font-style=\"italic\" lengthAdjust=\"spacing\" textLength=\"68\" x=\"191.0313\" y=\"225.1387\">«part  def»</text><text fill=\"#000000\" font-family=\"sans-serif\" font-size=\"14\" lengthAdjust=\"spacing\" textLength=\"9\" x=\"220.5313\" y=\"240.9639\">V</text><line style=\"stroke:#181818;stroke-width:0.5;\" x1=\"167.5\" x2=\"282.5625\" y1=\"249.2656\" y2=\"249.2656\"/><text fill=\"#000000\" font-family=\"sans-serif\" font-size=\"14\" lengthAdjust=\"spacing\" textLength=\"13\" x=\"172.5\" y=\"276.7795\">m</text><text fill=\"#000000\" font-family=\"sans-serif\" font-size=\"14\" font-weight=\"bold\" lengthAdjust=\"spacing\" textLength=\"50.0625\" x=\"189.5\" y=\"276.7795\">default</text><text fill=\"#000000\" font-family=\"sans-serif\" font-size=\"14\" lengthAdjust=\"spacing\" textLength=\"34\" x=\"243.5625\" y=\"276.7795\">= 10</text><text fill=\"#000000\" font-family=\"sans-serif\" font-size=\"14\" lengthAdjust=\"spacing\" textLength=\"47\" x=\"172.5\" y=\"293.0764\">n = 20</text><text fill=\"#000000\" font-family=\"sans-serif\" font-size=\"14\" font-style=\"italic\" lengthAdjust=\"spacing\" textLength=\"66\" x=\"192.0313\" y=\"261.6123\">attributes</text></g></a><!--MD5=[09b614a08d8cba4a07c9adeb5e0fee81]\n",
       "class E3--><a href=\"psysml:f9c62a8d-8a1e-4486-94b1-ee59692b29ae\" target=\"_top\" title=\"psysml:f9c62a8d-8a1e-4486-94b1-ee59692b29ae\" xlink:actuate=\"onRequest\" xlink:href=\"psysml:f9c62a8d-8a1e-4486-94b1-ee59692b29ae\" xlink:show=\"new\" xlink:title=\"psysml:f9c62a8d-8a1e-4486-94b1-ee59692b29ae\" xlink:type=\"simple\"><g id=\"elem_E3\"><rect fill=\"#FFFFFF\" height=\"91.3781\" id=\"E3\" rx=\"10\" ry=\"10\" style=\"stroke:#181818;stroke-width:0.5;\" width=\"74\" x=\"262\" y=\"49.5\"/><text fill=\"#000000\" font-family=\"sans-serif\" font-size=\"12\" font-style=\"italic\" lengthAdjust=\"spacing\" textLength=\"40\" x=\"279\" y=\"65.6387\">«part»</text><text fill=\"#000000\" font-family=\"sans-serif\" font-size=\"14\" lengthAdjust=\"spacing\" textLength=\"34\" x=\"278\" y=\"81.4639\">v1: V</text><line style=\"stroke:#181818;stroke-width:0.5;\" x1=\"263\" x2=\"335\" y1=\"89.7656\" y2=\"89.7656\"/><text fill=\"#000000\" font-family=\"sans-serif\" font-size=\"14\" lengthAdjust=\"spacing\" textLength=\"51\" x=\"268\" y=\"117.2795\">m = 20</text><text fill=\"#000000\" font-family=\"sans-serif\" font-size=\"14\" font-style=\"italic\" lengthAdjust=\"spacing\" textLength=\"61\" x=\"268\" y=\"133.5764\">:&gt;&gt;V::m</text><text fill=\"#000000\" font-family=\"sans-serif\" font-size=\"14\" font-style=\"italic\" lengthAdjust=\"spacing\" textLength=\"66\" x=\"266\" y=\"102.1123\">attributes</text></g></a><!--MD5=[ebbe1d658d1005bcc118a6aa81145e00]\n",
       "class E4--><a href=\"psysml:ad7d8f37-2b75-4e7f-880b-981718b0db98\" target=\"_top\" title=\"psysml:ad7d8f37-2b75-4e7f-880b-981718b0db98\" xlink:actuate=\"onRequest\" xlink:href=\"psysml:ad7d8f37-2b75-4e7f-880b-981718b0db98\" xlink:show=\"new\" xlink:title=\"psysml:ad7d8f37-2b75-4e7f-880b-981718b0db98\" xlink:type=\"simple\"><g id=\"elem_E4\"><rect fill=\"#FFFFFF\" height=\"107.675\" id=\"E4\" style=\"stroke:#181818;stroke-width:0.5;\" width=\"108.0625\" x=\"119\" y=\"41\"/><text fill=\"#000000\" font-family=\"sans-serif\" font-size=\"12\" font-style=\"italic\" lengthAdjust=\"spacing\" textLength=\"68\" x=\"139.0313\" y=\"57.1387\">«part  def»</text><text fill=\"#000000\" font-family=\"sans-serif\" font-size=\"14\" lengthAdjust=\"spacing\" textLength=\"13\" x=\"166.5313\" y=\"72.9639\">W</text><line style=\"stroke:#181818;stroke-width:0.5;\" x1=\"120\" x2=\"226.0625\" y1=\"81.2656\" y2=\"81.2656\"/><text fill=\"#000000\" font-family=\"sans-serif\" font-size=\"14\" lengthAdjust=\"spacing\" textLength=\"13\" x=\"125\" y=\"108.7795\">m</text><text fill=\"#000000\" font-family=\"sans-serif\" font-size=\"14\" font-weight=\"bold\" lengthAdjust=\"spacing\" textLength=\"50.0625\" x=\"142\" y=\"108.7795\">default</text><text fill=\"#000000\" font-family=\"sans-serif\" font-size=\"14\" lengthAdjust=\"spacing\" textLength=\"25\" x=\"196.0625\" y=\"108.7795\">= n</text><text fill=\"#000000\" font-family=\"sans-serif\" font-size=\"14\" font-style=\"italic\" lengthAdjust=\"spacing\" textLength=\"61\" x=\"125\" y=\"125.0764\">:&gt;&gt;V::m</text><text fill=\"#000000\" font-family=\"sans-serif\" font-size=\"14\" lengthAdjust=\"spacing\" textLength=\"59\" x=\"125\" y=\"141.3732\">^n = 20</text><text fill=\"#000000\" font-family=\"sans-serif\" font-size=\"14\" font-style=\"italic\" lengthAdjust=\"spacing\" textLength=\"66\" x=\"140.0313\" y=\"93.6123\">attributes</text></g></a><!--MD5=[270fce915f116d4de14055a7c1d9a0f3]\n",
       "class E5--><a href=\"psysml:fd52748d-5cd7-4973-9bed-274bef6831d2\" target=\"_top\" title=\"psysml:fd52748d-5cd7-4973-9bed-274bef6831d2\" xlink:actuate=\"onRequest\" xlink:href=\"psysml:fd52748d-5cd7-4973-9bed-274bef6831d2\" xlink:show=\"new\" xlink:title=\"psysml:fd52748d-5cd7-4973-9bed-274bef6831d2\" xlink:type=\"simple\"><g id=\"elem_E5\"><rect fill=\"#FFFFFF\" height=\"75.0813\" id=\"E5\" rx=\"10\" ry=\"10\" style=\"stroke:#181818;stroke-width:0.5;\" width=\"52\" x=\"32\" y=\"57.5\"/><text fill=\"#000000\" font-family=\"sans-serif\" font-size=\"12\" font-style=\"italic\" lengthAdjust=\"spacing\" textLength=\"40\" x=\"38\" y=\"73.6387\">«part»</text><text fill=\"#000000\" font-family=\"sans-serif\" font-size=\"14\" lengthAdjust=\"spacing\" textLength=\"16\" x=\"46\" y=\"89.4639\">v2</text><line style=\"stroke:#181818;stroke-width:0.5;\" x1=\"33\" x2=\"83\" y1=\"97.7656\" y2=\"97.7656\"/><text fill=\"#000000\" font-family=\"sans-serif\" font-size=\"14\" lengthAdjust=\"spacing\" textLength=\"39\" x=\"38\" y=\"125.2795\">= W()</text><text fill=\"#000000\" font-family=\"sans-serif\" font-size=\"14\" font-style=\"italic\" lengthAdjust=\"spacing\" textLength=\"44\" x=\"36\" y=\"110.1123\">values</text></g></a><!--MD5=[05d275557350bfb9b23a4ef7222b4c39]\n",
       "link E3 to E2--><g id=\"link_E3_E2\"><a href=\"psysml:1a78d8f2-030e-492a-8201-32cffefdc08b\" target=\"_top\" title=\"psysml:1a78d8f2-030e-492a-8201-32cffefdc08b\" xlink:actuate=\"onRequest\" xlink:href=\"psysml:1a78d8f2-030e-492a-8201-32cffefdc08b\" xlink:show=\"new\" xlink:title=\"psysml:1a78d8f2-030e-492a-8201-32cffefdc08b\" xlink:type=\"simple\"><path d=\"M277.99,140.71 C270.7,156.24 262.37,173.95 254.52,190.67 \" fill=\"none\" id=\"E3-to-E2\" style=\"stroke:#181818;stroke-width:1.0;\"/><polygon fill=\"#FFFFFF\" points=\"245.93,208.95,247.6703,188.7765,260.3425,194.7275,245.93,208.95\" style=\"stroke:#181818;stroke-width:1.0;\"/><ellipse cx=\"251.9035\" cy=\"184.4672\" fill=\"#181818\" rx=\"2\" ry=\"2\" style=\"stroke:#181818;stroke-width:1.0;\"/><ellipse cx=\"260.9551\" cy=\"188.718\" fill=\"#181818\" rx=\"2\" ry=\"2\" style=\"stroke:#181818;stroke-width:1.0;\"/></a></g><!--MD5=[185131fc0dcab0a4505a2ebe144e961b]\n",
       "link E4 to E2--><g id=\"link_E4_E2\"><a href=\"psysml:5695b7ea-3fef-47ac-8247-2c32b379aa0a\" target=\"_top\" title=\"psysml:5695b7ea-3fef-47ac-8247-2c32b379aa0a\" xlink:actuate=\"onRequest\" xlink:href=\"psysml:5695b7ea-3fef-47ac-8247-2c32b379aa0a\" xlink:show=\"new\" xlink:title=\"psysml:5695b7ea-3fef-47ac-8247-2c32b379aa0a\" xlink:type=\"simple\"><path d=\"M190.6,149.32 C194.9,162.33 199.54,176.38 203.98,189.82 \" fill=\"none\" id=\"E4-to-E2\" style=\"stroke:#181818;stroke-width:1.0;\"/><polygon fill=\"none\" points=\"210.65,187.7,210.27,208.89,197.35,192.09,210.65,187.7\" style=\"stroke:#181818;stroke-width:1.0;\"/></a></g><!--MD5=[261d6882ec58d4af94a71f3bf8448f47]\n",
       "@startuml\r\n",
       "skin sysmlbw\r\n",
       "skinparam monochrome true\r\n",
       "skinparam wrapWidth 300\r\n",
       "hide circle\r\n",
       "skinparam linetype polyline\r\n",
       "\r\n",
       "package \"DefaultValueTest\" as E1  [[psysml:7da0ff95-83c9-4c69-ab50-6e4dec268467 ]]  {\r\n",
       "comp def \"V\" as E2  <<(T,blue) part  def>> [[psysml:98a54266-dd8e-4aee-8801-c30b6645e897 ]] {\r\n",
       "##//attributes//##\r\n",
       "m<b> default </b><U+003D> 10\r\n",
       "n <U+003D> 20\r\n",
       "}\r\n",
       "comp usage \"v1: V  \" as E3  <<(T,blue) part>> [[psysml:f9c62a8d-8a1e-4486-94b1-ee59692b29ae ]] {\r\n",
       "##//attributes//##\r\n",
       "m <U+003D> 20\\n//:>>V::m// \r\n",
       "}\r\n",
       "comp def \"W\" as E4  <<(T,blue) part  def>> [[psysml:ad7d8f37-2b75-4e7f-880b-981718b0db98 ]] {\r\n",
       "##//attributes//##\r\n",
       "m<b> default </b><U+003D> n\\n//:>>V::m// \r\n",
       "^n <U+003D> 20\r\n",
       "}\r\n",
       "comp usage \"v2  \" as E5  <<(T,blue) part>> [[psysml:fd52748d-5cd7-4973-9bed-274bef6831d2 ]] {\r\n",
       "##//values//##\r\n",
       " <U+003D> W()\r\n",
       "}\r\n",
       "}\r\n",
       "E3 - -:|> E2 [[psysml:1a78d8f2-030e-492a-8201-32cffefdc08b ]] \r\n",
       "E4 - -|> E2 [[psysml:5695b7ea-3fef-47ac-8247-2c32b379aa0a ]] \r\n",
       "@enduml\r\n",
       "\n",
       "PlantUML version 1.2022.7(Mon Aug 22 17:01:30 UTC 2022)\n",
       "(EPL source distribution)\n",
       "Java Runtime: OpenJDK Runtime Environment\n",
       "JVM: OpenJDK 64-Bit Server VM\n",
       "Default Encoding: UTF-8\n",
       "Language: en\n",
       "Country: null\n",
       "--></g></svg>"
      ]
     },
     "execution_count": 10,
     "metadata": {},
     "output_type": "execute_result"
    }
   ],
   "source": [
    "%viz --style=\"POLYLINE\" --view=\"Tree\" \"DefaultValueTest\""
   ]
  },
  {
   "cell_type": "code",
   "execution_count": 11,
   "id": "9b28bc46",
   "metadata": {
    "execution": {
     "iopub.execute_input": "2024-12-16T14:21:27.868862Z",
     "iopub.status.busy": "2024-12-16T14:21:27.868611Z",
     "iopub.status.idle": "2024-12-16T14:21:27.874583Z",
     "shell.execute_reply": "2024-12-16T14:21:27.874406Z"
    }
   },
   "outputs": [
    {
     "data": {
      "image/svg+xml": [
       "<?xml version=\"1.0\" encoding=\"UTF-8\" standalone=\"no\"?><svg xmlns=\"http://www.w3.org/2000/svg\" xmlns:xlink=\"http://www.w3.org/1999/xlink\" contentStyleType=\"text/css\" height=\"10px\" preserveAspectRatio=\"none\" style=\"width:10px;height:10px;background:#FFFFFF;\" version=\"1.1\" viewBox=\"0 0 10 10\" width=\"10px\" zoomAndPan=\"magnify\"><defs/><g><!--MD5=[20bed88d98f2aabbefdc8661420d403d]\n",
       "@startuml\r\n",
       "skin sysmlbw\r\n",
       "skinparam monochrome true\r\n",
       "skinparam wrapWidth 300\r\n",
       "hide circle\r\n",
       "skinparam linetype polyline\r\n",
       "\r\n",
       "@enduml\r\n",
       "\n",
       "PlantUML version 1.2022.7(Mon Aug 22 17:01:30 UTC 2022)\n",
       "(EPL source distribution)\n",
       "Java Runtime: OpenJDK Runtime Environment\n",
       "JVM: OpenJDK 64-Bit Server VM\n",
       "Default Encoding: UTF-8\n",
       "Language: en\n",
       "Country: null\n",
       "--></g></svg>"
      ]
     },
     "execution_count": 11,
     "metadata": {},
     "output_type": "execute_result"
    }
   ],
   "source": [
    "%viz --style=\"POLYLINE\" --view=\"State\" \"DefaultValueTest\""
   ]
  },
  {
   "cell_type": "code",
   "execution_count": 12,
   "id": "c2394d8c",
   "metadata": {
    "execution": {
     "iopub.execute_input": "2024-12-16T14:21:27.928550Z",
     "iopub.status.busy": "2024-12-16T14:21:27.928213Z",
     "iopub.status.idle": "2024-12-16T14:21:27.964722Z",
     "shell.execute_reply": "2024-12-16T14:21:27.963763Z"
    }
   },
   "outputs": [
    {
     "data": {
      "image/svg+xml": [
       "<?xml version=\"1.0\" encoding=\"UTF-8\" standalone=\"no\"?><svg xmlns=\"http://www.w3.org/2000/svg\" xmlns:xlink=\"http://www.w3.org/1999/xlink\" contentStyleType=\"text/css\" height=\"477px\" preserveAspectRatio=\"none\" style=\"width:656px;height:477px;background:#FFFFFF;\" version=\"1.1\" viewBox=\"0 0 656 477\" width=\"656px\" zoomAndPan=\"magnify\"><defs/><g><!--MD5=[fbc87193dbaf4d95561dea2c320d4a47]\n",
       "cluster E1--><g id=\"cluster_E1\"><a href=\"psysml:7da0ff95-83c9-4c69-ab50-6e4dec268467\" target=\"_top\" title=\"psysml:7da0ff95-83c9-4c69-ab50-6e4dec268467\" xlink:actuate=\"onRequest\" xlink:href=\"psysml:7da0ff95-83c9-4c69-ab50-6e4dec268467\" xlink:show=\"new\" xlink:title=\"psysml:7da0ff95-83c9-4c69-ab50-6e4dec268467\" xlink:type=\"simple\"><polygon fill=\"none\" points=\"16,6,147,6,154,28.2969,639,28.2969,639,470,16,470,16,6\" style=\"stroke:#000000;stroke-width:1.5;\"/><line style=\"stroke:#000000;stroke-width:1.5;\" x1=\"16\" x2=\"154\" y1=\"28.2969\" y2=\"28.2969\"/><text fill=\"#000000\" font-family=\"sans-serif\" font-size=\"14\" font-weight=\"bold\" lengthAdjust=\"spacing\" textLength=\"125\" x=\"20\" y=\"20.9951\">DefaultValueTest</text></a></g><!--MD5=[e4f7fae6ed58524ba242bb0b0d3be6b7]\n",
       "cluster E2--><g id=\"cluster_E2\"><a href=\"psysml:98a54266-dd8e-4aee-8801-c30b6645e897\" target=\"_top\" title=\"psysml:98a54266-dd8e-4aee-8801-c30b6645e897\" xlink:actuate=\"onRequest\" xlink:href=\"psysml:98a54266-dd8e-4aee-8801-c30b6645e897\" xlink:show=\"new\" xlink:title=\"psysml:98a54266-dd8e-4aee-8801-c30b6645e897\" xlink:type=\"simple\"><rect fill=\"#FFFFFF\" height=\"158\" id=\"E2\" style=\"stroke:#383838;stroke-width:1.5;\" width=\"278\" x=\"329\" y=\"280\"/><text fill=\"#000000\" font-family=\"sans-serif\" font-size=\"12\" font-style=\"italic\" lengthAdjust=\"spacing\" textLength=\"68\" x=\"434\" y=\"296.1387\">«part  def»</text><text fill=\"#000000\" font-family=\"sans-serif\" font-size=\"14\" lengthAdjust=\"spacing\" textLength=\"9\" x=\"463.5\" y=\"311.9639\">V</text><line style=\"stroke:#383838;stroke-width:1.0;\" x1=\"329\" x2=\"607\" y1=\"320.2656\" y2=\"320.2656\"/></a></g><!--MD5=[de5ec2e2e8f62f467e546659f5068c88]\n",
       "cluster E5--><g id=\"cluster_E5\"><a href=\"psysml:f9c62a8d-8a1e-4486-94b1-ee59692b29ae\" target=\"_top\" title=\"psysml:f9c62a8d-8a1e-4486-94b1-ee59692b29ae\" xlink:actuate=\"onRequest\" xlink:href=\"psysml:f9c62a8d-8a1e-4486-94b1-ee59692b29ae\" xlink:show=\"new\" xlink:title=\"psysml:f9c62a8d-8a1e-4486-94b1-ee59692b29ae\" xlink:type=\"simple\"><rect fill=\"#FFFFFF\" height=\"142\" id=\"E5\" rx=\"10\" ry=\"10\" style=\"stroke:#383838;stroke-width:1.5;\" width=\"139\" x=\"405\" y=\"73\"/><text fill=\"#000000\" font-family=\"sans-serif\" font-size=\"14\" lengthAdjust=\"spacing\" textLength=\"34\" x=\"457.5\" y=\"90.9951\">v1: V</text><line style=\"stroke:#383838;stroke-width:1.0;\" x1=\"405\" x2=\"544\" y1=\"99.2969\" y2=\"99.2969\"/></a></g><!--MD5=[168fadf3d0c3fd93dd5d6da1b1d7ab76]\n",
       "cluster E7--><g id=\"cluster_E7\"><a href=\"psysml:ad7d8f37-2b75-4e7f-880b-981718b0db98\" target=\"_top\" title=\"psysml:ad7d8f37-2b75-4e7f-880b-981718b0db98\" xlink:actuate=\"onRequest\" xlink:href=\"psysml:ad7d8f37-2b75-4e7f-880b-981718b0db98\" xlink:show=\"new\" xlink:title=\"psysml:ad7d8f37-2b75-4e7f-880b-981718b0db98\" xlink:type=\"simple\"><rect fill=\"#FFFFFF\" height=\"381\" id=\"E7\" style=\"stroke:#383838;stroke-width:1.5;\" width=\"163\" x=\"126\" y=\"57\"/><text fill=\"#000000\" font-family=\"sans-serif\" font-size=\"12\" font-style=\"italic\" lengthAdjust=\"spacing\" textLength=\"68\" x=\"173.5\" y=\"73.1387\">«part  def»</text><text fill=\"#000000\" font-family=\"sans-serif\" font-size=\"14\" lengthAdjust=\"spacing\" textLength=\"13\" x=\"201\" y=\"88.9639\">W</text><line style=\"stroke:#383838;stroke-width:1.0;\" x1=\"126\" x2=\"289\" y1=\"97.2656\" y2=\"97.2656\"/></a></g><!--MD5=[09b614a08d8cba4a07c9adeb5e0fee81]\n",
       "class E3--><a href=\"psysml:6c5b3b06-fe87-444e-9dd6-6649acbff1c0\" target=\"_top\" title=\"psysml:6c5b3b06-fe87-444e-9dd6-6649acbff1c0\" xlink:actuate=\"onRequest\" xlink:href=\"psysml:6c5b3b06-fe87-444e-9dd6-6649acbff1c0\" xlink:show=\"new\" xlink:title=\"psysml:6c5b3b06-fe87-444e-9dd6-6649acbff1c0\" xlink:type=\"simple\"><g id=\"elem_E3\"><rect fill=\"#FFFFFF\" height=\"75.0813\" id=\"E3\" rx=\"10\" ry=\"10\" style=\"stroke:#181818;stroke-width:0.5;\" width=\"104.0625\" x=\"479\" y=\"339\"/><text fill=\"#000000\" font-family=\"sans-serif\" font-size=\"12\" font-style=\"italic\" lengthAdjust=\"spacing\" textLength=\"69\" x=\"496.5313\" y=\"355.1387\">«attribute»</text><text fill=\"#000000\" font-family=\"sans-serif\" font-size=\"14\" lengthAdjust=\"spacing\" textLength=\"13\" x=\"520.5313\" y=\"370.9639\">m</text><line style=\"stroke:#181818;stroke-width:0.5;\" x1=\"480\" x2=\"582.0625\" y1=\"379.2656\" y2=\"379.2656\"/><text fill=\"#000000\" font-family=\"sans-serif\" font-size=\"14\" font-weight=\"bold\" lengthAdjust=\"spacing\" textLength=\"50.0625\" x=\"489\" y=\"406.7795\">default</text><text fill=\"#000000\" font-family=\"sans-serif\" font-size=\"14\" lengthAdjust=\"spacing\" textLength=\"34\" x=\"543.0625\" y=\"406.7795\">= 10</text><text fill=\"#000000\" font-family=\"sans-serif\" font-size=\"14\" font-style=\"italic\" lengthAdjust=\"spacing\" textLength=\"44\" x=\"509.0313\" y=\"391.6123\">values</text></g></a><!--MD5=[ebbe1d658d1005bcc118a6aa81145e00]\n",
       "class E4--><a href=\"psysml:d4a77e27-0ca8-4584-84f6-1d4e52d400d2\" target=\"_top\" title=\"psysml:d4a77e27-0ca8-4584-84f6-1d4e52d400d2\" xlink:actuate=\"onRequest\" xlink:href=\"psysml:d4a77e27-0ca8-4584-84f6-1d4e52d400d2\" xlink:show=\"new\" xlink:title=\"psysml:d4a77e27-0ca8-4584-84f6-1d4e52d400d2\" xlink:type=\"simple\"><g id=\"elem_E4\"><rect fill=\"#FFFFFF\" height=\"75.0813\" id=\"E4\" rx=\"10\" ry=\"10\" style=\"stroke:#181818;stroke-width:0.5;\" width=\"71\" x=\"372.5\" y=\"339\"/><text fill=\"#000000\" font-family=\"sans-serif\" font-size=\"12\" font-style=\"italic\" lengthAdjust=\"spacing\" textLength=\"69\" x=\"373.5\" y=\"355.1387\">«attribute»</text><text fill=\"#000000\" font-family=\"sans-serif\" font-size=\"14\" lengthAdjust=\"spacing\" textLength=\"9\" x=\"399.5\" y=\"370.9639\">n</text><line style=\"stroke:#181818;stroke-width:0.5;\" x1=\"373.5\" x2=\"442.5\" y1=\"379.2656\" y2=\"379.2656\"/><text fill=\"#000000\" font-family=\"sans-serif\" font-size=\"14\" lengthAdjust=\"spacing\" textLength=\"34\" x=\"378.5\" y=\"406.7795\">= 20</text><text fill=\"#000000\" font-family=\"sans-serif\" font-size=\"14\" font-style=\"italic\" lengthAdjust=\"spacing\" textLength=\"44\" x=\"386\" y=\"391.6123\">values</text></g></a><!--MD5=[60a26617385b1d2d0262a64233df1f8d]\n",
       "class E6--><a href=\"psysml:c20e1062-5069-459a-93a7-f31b5f49cd74\" target=\"_top\" title=\"psysml:c20e1062-5069-459a-93a7-f31b5f49cd74\" xlink:actuate=\"onRequest\" xlink:href=\"psysml:c20e1062-5069-459a-93a7-f31b5f49cd74\" xlink:show=\"new\" xlink:title=\"psysml:c20e1062-5069-459a-93a7-f31b5f49cd74\" xlink:type=\"simple\"><g id=\"elem_E6\"><rect fill=\"#FFFFFF\" height=\"75.0813\" id=\"E6\" rx=\"10\" ry=\"10\" style=\"stroke:#181818;stroke-width:0.5;\" width=\"71\" x=\"448.5\" y=\"116\"/><text fill=\"#000000\" font-family=\"sans-serif\" font-size=\"12\" font-style=\"italic\" lengthAdjust=\"spacing\" textLength=\"69\" x=\"449.5\" y=\"132.1387\">«attribute»</text><text fill=\"#000000\" font-family=\"sans-serif\" font-size=\"14\" lengthAdjust=\"spacing\" textLength=\"13\" x=\"473.5\" y=\"147.9639\">m</text><line style=\"stroke:#181818;stroke-width:0.5;\" x1=\"449.5\" x2=\"518.5\" y1=\"156.2656\" y2=\"156.2656\"/><text fill=\"#000000\" font-family=\"sans-serif\" font-size=\"14\" lengthAdjust=\"spacing\" textLength=\"34\" x=\"454.5\" y=\"183.7795\">= 20</text><text fill=\"#000000\" font-family=\"sans-serif\" font-size=\"14\" font-style=\"italic\" lengthAdjust=\"spacing\" textLength=\"44\" x=\"462\" y=\"168.6123\">values</text></g></a><!--MD5=[b9389687b975829384b498ac4b7476b2]\n",
       "class E8--><a href=\"psysml:073a166e-558c-466c-90f5-50af09b65e43\" target=\"_top\" title=\"psysml:073a166e-558c-466c-90f5-50af09b65e43\" xlink:actuate=\"onRequest\" xlink:href=\"psysml:073a166e-558c-466c-90f5-50af09b65e43\" xlink:show=\"new\" xlink:title=\"psysml:073a166e-558c-466c-90f5-50af09b65e43\" xlink:type=\"simple\"><g id=\"elem_E8\"><rect fill=\"#FFFFFF\" height=\"75.0813\" id=\"E8\" rx=\"10\" ry=\"10\" style=\"stroke:#181818;stroke-width:0.5;\" width=\"95.0625\" x=\"150.5\" y=\"116\"/><text fill=\"#000000\" font-family=\"sans-serif\" font-size=\"12\" font-style=\"italic\" lengthAdjust=\"spacing\" textLength=\"69\" x=\"163.5313\" y=\"132.1387\">«attribute»</text><text fill=\"#000000\" font-family=\"sans-serif\" font-size=\"14\" lengthAdjust=\"spacing\" textLength=\"13\" x=\"187.5313\" y=\"147.9639\">m</text><line style=\"stroke:#181818;stroke-width:0.5;\" x1=\"151.5\" x2=\"244.5625\" y1=\"156.2656\" y2=\"156.2656\"/><text fill=\"#000000\" font-family=\"sans-serif\" font-size=\"14\" font-weight=\"bold\" lengthAdjust=\"spacing\" textLength=\"50.0625\" x=\"160.5\" y=\"183.7795\">default</text><text fill=\"#000000\" font-family=\"sans-serif\" font-size=\"14\" lengthAdjust=\"spacing\" textLength=\"25\" x=\"214.5625\" y=\"183.7795\">= n</text><text fill=\"#000000\" font-family=\"sans-serif\" font-size=\"14\" font-style=\"italic\" lengthAdjust=\"spacing\" textLength=\"44\" x=\"176.0313\" y=\"168.6123\">values</text></g></a><!--MD5=[fd4143e9d270a159db93a4ea2a975926]\n",
       "class E9--><a href=\"psysml:d4a77e27-0ca8-4584-84f6-1d4e52d400d2\" target=\"_top\" title=\"psysml:d4a77e27-0ca8-4584-84f6-1d4e52d400d2\" xlink:actuate=\"onRequest\" xlink:href=\"psysml:d4a77e27-0ca8-4584-84f6-1d4e52d400d2\" xlink:show=\"new\" xlink:title=\"psysml:d4a77e27-0ca8-4584-84f6-1d4e52d400d2\" xlink:type=\"simple\"><g id=\"elem_E9\"><rect fill=\"#FFFFFF\" height=\"75.0813\" id=\"E9\" rx=\"10\" ry=\"10\" style=\"stroke:#181818;stroke-width:0.5;\" width=\"71\" x=\"162.5\" y=\"339\"/><text fill=\"#000000\" font-family=\"sans-serif\" font-size=\"12\" font-style=\"italic\" lengthAdjust=\"spacing\" textLength=\"69\" x=\"163.5\" y=\"355.1387\">«attribute»</text><text fill=\"#000000\" font-family=\"sans-serif\" font-size=\"14\" lengthAdjust=\"spacing\" textLength=\"21\" x=\"183.5\" y=\"370.9639\">^n</text><line style=\"stroke:#181818;stroke-width:0.5;\" x1=\"163.5\" x2=\"232.5\" y1=\"379.2656\" y2=\"379.2656\"/><text fill=\"#000000\" font-family=\"sans-serif\" font-size=\"14\" lengthAdjust=\"spacing\" textLength=\"34\" x=\"168.5\" y=\"406.7795\">= 20</text><text fill=\"#000000\" font-family=\"sans-serif\" font-size=\"14\" font-style=\"italic\" lengthAdjust=\"spacing\" textLength=\"44\" x=\"176\" y=\"391.6123\">values</text></g></a><g><a href=\"psysml:fd52748d-5cd7-4973-9bed-274bef6831d2\" target=\"_top\" title=\"psysml:fd52748d-5cd7-4973-9bed-274bef6831d2\" xlink:actuate=\"onRequest\" xlink:href=\"psysml:fd52748d-5cd7-4973-9bed-274bef6831d2\" xlink:show=\"new\" xlink:title=\"psysml:fd52748d-5cd7-4973-9bed-274bef6831d2\" xlink:type=\"simple\"><rect fill=\"#FFFFFF\" height=\"40\" id=\"E10\" rx=\"10\" ry=\"10\" style=\"stroke:#383838;stroke-width:1.5;\" width=\"70\" x=\"32\" y=\"133.5\"/><text fill=\"#000000\" font-family=\"sans-serif\" font-size=\"14\" lengthAdjust=\"spacing\" textLength=\"59\" x=\"37.5\" y=\"151.4951\">v2 = W()</text></a></g><!--MD5=[a717450b82c80b9240a525fa862496af]\n",
       "link E6 to E3--><g id=\"link_E6_E3\"><a href=\"psysml:bbca0750-a9c1-46d9-82f5-94045bc6258a\" target=\"_top\" title=\"psysml:bbca0750-a9c1-46d9-82f5-94045bc6258a\" xlink:actuate=\"onRequest\" xlink:href=\"psysml:bbca0750-a9c1-46d9-82f5-94045bc6258a\" xlink:show=\"new\" xlink:title=\"psysml:bbca0750-a9c1-46d9-82f5-94045bc6258a\" xlink:type=\"simple\"><path d=\"M491.87,191.49 C499.28,226.33 510.48,279.03 519.01,319.11 \" fill=\"none\" id=\"E6-to-E3\" style=\"stroke:#181818;stroke-width:1.0;\"/><polygon fill=\"#FFFFFF\" points=\"523.19,338.76,512.3925,321.6307,526.0866,318.7198,523.19,338.76\" style=\"stroke:#181818;stroke-width:1.0;\"/><line style=\"stroke:#181818;stroke-width:2.0;\" x1=\"511.6024\" x2=\"525.2965\" y1=\"317.9137\" y2=\"315.0028\"/></a></g><!--MD5=[15ebcb19ae302d9b601edb458606d402]\n",
       "link E5 to E2--><g id=\"link_E5_E2\"><a href=\"psysml:1a78d8f2-030e-492a-8201-32cffefdc08b\" target=\"_top\" title=\"psysml:1a78d8f2-030e-492a-8201-32cffefdc08b\" xlink:actuate=\"onRequest\" xlink:href=\"psysml:1a78d8f2-030e-492a-8201-32cffefdc08b\" xlink:show=\"new\" xlink:title=\"psysml:1a78d8f2-030e-492a-8201-32cffefdc08b\" xlink:type=\"simple\"><path d=\"M404.8101,170.2346 C404.6508,170.5407 404.4897,170.8501 404.3269,171.1627 C404.0014,171.7881 403.669,172.4266 403.3302,173.0775 C397.9091,183.4912 390.8431,197.065 383.8313,210.535 C369.8075,237.475 356,264 356,264 C356,264 355.7123,265.6881 355.2078,268.6489 C354.9555,270.1294 354.6491,271.9279 354.2972,273.9928 C354.1213,275.0252 353.934,276.1242 353.7365,277.2832 C353.6377,277.8627 353.5364,278.4573 353.4327,279.066 C353.3808,279.3704 353.3284,279.6783 353.2753,279.9897 \" fill=\"none\" id=\"E5-to-E2\" style=\"stroke:#181818;stroke-width:1.0;\"/><polygon fill=\"#FFFFFF\" points=\"353.2753,279.9897,349.5665,260.0838,363.3675,262.4356,353.2753,279.9897\" style=\"stroke:#181818;stroke-width:1.0;\"/><ellipse cx=\"352.4956\" cy=\"254.8008\" fill=\"#181818\" rx=\"2\" ry=\"2\" style=\"stroke:#181818;stroke-width:1.0;\"/><ellipse cx=\"362.3535\" cy=\"256.4806\" fill=\"#181818\" rx=\"2\" ry=\"2\" style=\"stroke:#181818;stroke-width:1.0;\"/></a></g><!--MD5=[583832df87f4419a098336a29a52fa00]\n",
       "link E7 to E2--><g id=\"link_E7_E2\"><a href=\"psysml:5695b7ea-3fef-47ac-8247-2c32b379aa0a\" target=\"_top\" title=\"psysml:5695b7ea-3fef-47ac-8247-2c32b379aa0a\" xlink:actuate=\"onRequest\" xlink:href=\"psysml:5695b7ea-3fef-47ac-8247-2c32b379aa0a\" xlink:show=\"new\" xlink:title=\"psysml:5695b7ea-3fef-47ac-8247-2c32b379aa0a\" xlink:type=\"simple\"><path d=\"M289.0643,186.3255 C289.1414,186.6297 289.2189,186.9356 289.2968,187.2431 C289.6085,188.4733 289.9269,189.7294 290.2514,191.0102 C295.4441,211.5016 302.2281,238.2731 309.0113,265.0413 C315.7944,291.8094 322.5766,318.5741 327.7655,339.0517 C328.0898,340.3316 328.4079,341.5869 328.7193,342.8161 C328.7972,343.1234 328.8747,343.429 328.9517,343.7331 \" fill=\"none\" id=\"E7-to-E2\" style=\"stroke:#181818;stroke-width:1.0;\"/><polygon fill=\"#FFFFFF\" points=\"328.9517,343.7331,331.0703,323.5957,317.4992,327.0345,328.9517,343.7331\" style=\"stroke:#181818;stroke-width:1.0;\"/></a></g><!--MD5=[95fa686b5a16158bcdbcaeead89f639b]\n",
       "link E8 to E3--><g id=\"link_E8_E3\"><a href=\"psysml:921fa623-ecc5-4b2e-b8c8-ebddf6697201\" target=\"_top\" title=\"psysml:921fa623-ecc5-4b2e-b8c8-ebddf6697201\" xlink:actuate=\"onRequest\" xlink:href=\"psysml:921fa623-ecc5-4b2e-b8c8-ebddf6697201\" xlink:show=\"new\" xlink:title=\"psysml:921fa623-ecc5-4b2e-b8c8-ebddf6697201\" xlink:type=\"simple\"><path d=\"M222.6,191.41 C235.65,210.97 249,231 249,231 C249,231 461,264 461,264 C461,264 479.46,293.4 497.42,322.01 \" fill=\"none\" id=\"E8-to-E3\" style=\"stroke:#181818;stroke-width:1.0;\"/><polygon fill=\"#FFFFFF\" points=\"508.08,338.99,492.0487,326.6208,503.9055,319.1765,508.08,338.99\" style=\"stroke:#181818;stroke-width:1.0;\"/><line style=\"stroke:#181818;stroke-width:2.0;\" x1=\"490.0281\" x2=\"501.8849\" y1=\"323.4025\" y2=\"315.9583\"/></a></g><!--MD5=[ed10624c06dd9a4fa49ccf290e8b16a8]\n",
       "link E8 to E9--><g id=\"link_E8_E9\"><a href=\"psysml:fc577d85-8ebe-448e-af16-5782109a2fa7\" target=\"_top\" title=\"psysml:fc577d85-8ebe-448e-af16-5782109a2fa7\" xlink:actuate=\"onRequest\" xlink:href=\"psysml:fc577d85-8ebe-448e-af16-5782109a2fa7\" xlink:show=\"new\" xlink:title=\"psysml:fc577d85-8ebe-448e-af16-5782109a2fa7\" xlink:type=\"simple\"><path d=\"M198,191.49 C198,232.41 198,297.94 198,338.76 \" fill=\"none\" id=\"E8-E9\" style=\"stroke:#181818;stroke-width:5.0;\"/><text fill=\"#000000\" font-family=\"sans-serif\" font-size=\"13\" lengthAdjust=\"spacing\" textLength=\"11\" x=\"199\" y=\"252.0669\">=</text></a></g><!--MD5=[cdd8fdb916b6644fde2e2f4fc0b1d1b1]\n",
       "@startuml\r\n",
       "skin sysmlbw\r\n",
       "skinparam monochrome true\r\n",
       "skinparam wrapWidth 300\r\n",
       "hide circle\r\n",
       "skinparam linetype polyline\r\n",
       "skinparam ranksep 10\r\n",
       "skinparam rectangle {\r\n",
       " backgroundColor<<block>> LightGreen\r\n",
       "}\r\n",
       "\r\n",
       "package \"DefaultValueTest\" as E1  [[psysml:7da0ff95-83c9-4c69-ab50-6e4dec268467 ]]  {\r\n",
       "rec def \"V\" as E2  <<(T,blue) part  def>> [[psysml:98a54266-dd8e-4aee-8801-c30b6645e897 ]] {\r\n",
       "comp usage \"m  \" as E3  <<(T,blue) attribute>> [[psysml:6c5b3b06-fe87-444e-9dd6-6649acbff1c0 ]] {\r\n",
       "##//values//##\r\n",
       "<b> default </b><U+003D> 10\r\n",
       "}\r\n",
       "comp usage \"n  \" as E4  <<(T,blue) attribute>> [[psysml:d4a77e27-0ca8-4584-84f6-1d4e52d400d2 ]] {\r\n",
       "##//values//##\r\n",
       " <U+003D> 20\r\n",
       "}\r\n",
       "}\r\n",
       "rec usage \"v1: V\" as E5 [[psysml:f9c62a8d-8a1e-4486-94b1-ee59692b29ae ]] {\r\n",
       "comp usage \"m  \" as E6  <<(T,blue) attribute>> [[psysml:c20e1062-5069-459a-93a7-f31b5f49cd74 ]] {\r\n",
       "##//values//##\r\n",
       " <U+003D> 20\r\n",
       "}\r\n",
       "}\r\n",
       "rec def \"W\" as E7  <<(T,blue) part  def>> [[psysml:ad7d8f37-2b75-4e7f-880b-981718b0db98 ]] {\r\n",
       "comp usage \"m  \" as E8  <<(T,blue) attribute>> [[psysml:073a166e-558c-466c-90f5-50af09b65e43 ]] {\r\n",
       "##//values//##\r\n",
       "<b> default </b><U+003D> n\r\n",
       "}\r\n",
       "comp usage \"^n  \" as E9  <<(T,blue) attribute>> [[psysml:d4a77e27-0ca8-4584-84f6-1d4e52d400d2 ]] {\r\n",
       "##//values//##\r\n",
       " <U+003D> 20\r\n",
       "}\r\n",
       "}\r\n",
       "rec usage \"v2 <U+003D> W()\" as E10 [[psysml:fd52748d-5cd7-4973-9bed-274bef6831d2 ]] {\r\n",
       "}\r\n",
       "}\r\n",
       "E6 - -||> E3 [[psysml:bbca0750-a9c1-46d9-82f5-94045bc6258a ]] \r\n",
       "E5 - -:|> E2 [[psysml:1a78d8f2-030e-492a-8201-32cffefdc08b ]] \r\n",
       "E7 - -|> E2 [[psysml:5695b7ea-3fef-47ac-8247-2c32b379aa0a ]] \r\n",
       "E8 - -||> E3 [[psysml:921fa623-ecc5-4b2e-b8c8-ebddf6697201 ]] \r\n",
       "E8 -[thickness=5]- E9 [[psysml:fc577d85-8ebe-448e-af16-5782109a2fa7 ]] : =\r\n",
       "@enduml\r\n",
       "\n",
       "PlantUML version 1.2022.7(Mon Aug 22 17:01:30 UTC 2022)\n",
       "(EPL source distribution)\n",
       "Java Runtime: OpenJDK Runtime Environment\n",
       "JVM: OpenJDK 64-Bit Server VM\n",
       "Default Encoding: UTF-8\n",
       "Language: en\n",
       "Country: null\n",
       "--></g></svg>"
      ]
     },
     "execution_count": 12,
     "metadata": {},
     "output_type": "execute_result"
    }
   ],
   "source": [
    "%viz --style=\"POLYLINE\" --view=\"Interconnection\" \"DefaultValueTest\""
   ]
  },
  {
   "cell_type": "code",
   "execution_count": 13,
   "id": "8d3a0920",
   "metadata": {
    "execution": {
     "iopub.execute_input": "2024-12-16T14:21:28.020098Z",
     "iopub.status.busy": "2024-12-16T14:21:28.019866Z",
     "iopub.status.idle": "2024-12-16T14:21:28.029615Z",
     "shell.execute_reply": "2024-12-16T14:21:28.029402Z"
    }
   },
   "outputs": [
    {
     "data": {
      "image/svg+xml": [
       "<?xml version=\"1.0\" encoding=\"UTF-8\" standalone=\"no\"?><svg xmlns=\"http://www.w3.org/2000/svg\" xmlns:xlink=\"http://www.w3.org/1999/xlink\" contentStyleType=\"text/css\" height=\"10px\" preserveAspectRatio=\"none\" style=\"width:10px;height:10px;background:#FFFFFF;\" version=\"1.1\" viewBox=\"0 0 10 10\" width=\"10px\" zoomAndPan=\"magnify\"><defs/><g><!--MD5=[ff8e7c24accf200c4355ceeab022c402]\n",
       "@startuml\r\n",
       "skin sysmlbw\r\n",
       "skinparam monochrome true\r\n",
       "skinparam wrapWidth 300\r\n",
       "hide circle\r\n",
       "skinparam linetype polyline\r\n",
       "skinparam ranksep 8\r\n",
       "\r\n",
       "@enduml\r\n",
       "\n",
       "PlantUML version 1.2022.7(Mon Aug 22 17:01:30 UTC 2022)\n",
       "(EPL source distribution)\n",
       "Java Runtime: OpenJDK Runtime Environment\n",
       "JVM: OpenJDK 64-Bit Server VM\n",
       "Default Encoding: UTF-8\n",
       "Language: en\n",
       "Country: null\n",
       "--></g></svg>"
      ]
     },
     "execution_count": 13,
     "metadata": {},
     "output_type": "execute_result"
    }
   ],
   "source": [
    "%viz --style=\"POLYLINE\" --view=\"Action\" \"DefaultValueTest\""
   ]
  },
  {
   "cell_type": "code",
   "execution_count": 14,
   "id": "91f88979",
   "metadata": {
    "execution": {
     "iopub.execute_input": "2024-12-16T14:21:28.083134Z",
     "iopub.status.busy": "2024-12-16T14:21:28.082935Z",
     "iopub.status.idle": "2024-12-16T14:21:28.089642Z",
     "shell.execute_reply": "2024-12-16T14:21:28.089768Z"
    }
   },
   "outputs": [
    {
     "data": {
      "image/svg+xml": [
       "<?xml version=\"1.0\" encoding=\"UTF-8\" standalone=\"no\"?><svg xmlns=\"http://www.w3.org/2000/svg\" xmlns:xlink=\"http://www.w3.org/1999/xlink\" contentStyleType=\"text/css\" height=\"10px\" preserveAspectRatio=\"none\" style=\"width:10px;height:10px;background:#FFFFFF;\" version=\"1.1\" viewBox=\"0 0 10 10\" width=\"10px\" zoomAndPan=\"magnify\"><defs/><g><!--MD5=[efefafbf36b45173e0355713d9054f90]\n",
       "@startuml\r\n",
       "skin sysmlbw\r\n",
       "skinparam monochrome true\r\n",
       "skinparam wrapWidth 300\r\n",
       "hide circle\r\n",
       "skinparam linetype polyline\r\n",
       "skinparam roundcorner 20\r\n",
       "skinparam BoxPadding 20\r\n",
       "skinparam SequenceBoxBackgroundColor #white\r\n",
       "skinparam style strictuml\r\n",
       "skinparam maxMessageSize 100\r\n",
       "\r\n",
       "@enduml\r\n",
       "\n",
       "PlantUML version 1.2022.7(Mon Aug 22 17:01:30 UTC 2022)\n",
       "(EPL source distribution)\n",
       "Java Runtime: OpenJDK Runtime Environment\n",
       "JVM: OpenJDK 64-Bit Server VM\n",
       "Default Encoding: UTF-8\n",
       "Language: en\n",
       "Country: null\n",
       "--></g></svg>"
      ]
     },
     "execution_count": 14,
     "metadata": {},
     "output_type": "execute_result"
    }
   ],
   "source": [
    "%viz --style=\"POLYLINE\" --view=\"Sequence\" \"DefaultValueTest\""
   ]
  },
  {
   "cell_type": "code",
   "execution_count": 15,
   "id": "2bc8d7e5",
   "metadata": {
    "execution": {
     "iopub.execute_input": "2024-12-16T14:21:28.146339Z",
     "iopub.status.busy": "2024-12-16T14:21:28.146126Z",
     "iopub.status.idle": "2024-12-16T14:21:28.171695Z",
     "shell.execute_reply": "2024-12-16T14:21:28.170987Z"
    }
   },
   "outputs": [
    {
     "data": {
      "image/svg+xml": [
       "<?xml version=\"1.0\" encoding=\"UTF-8\" standalone=\"no\"?><svg xmlns=\"http://www.w3.org/2000/svg\" xmlns:xlink=\"http://www.w3.org/1999/xlink\" contentStyleType=\"text/css\" height=\"323px\" preserveAspectRatio=\"none\" style=\"width:369px;height:323px;background:#FFFFFF;\" version=\"1.1\" viewBox=\"0 0 369 323\" width=\"369px\" zoomAndPan=\"magnify\"><defs/><g><!--MD5=[fbc87193dbaf4d95561dea2c320d4a47]\n",
       "cluster E1--><g id=\"cluster_E1\"><a href=\"psysml:7da0ff95-83c9-4c69-ab50-6e4dec268467\" target=\"_top\" title=\"psysml:7da0ff95-83c9-4c69-ab50-6e4dec268467\" xlink:actuate=\"onRequest\" xlink:href=\"psysml:7da0ff95-83c9-4c69-ab50-6e4dec268467\" xlink:show=\"new\" xlink:title=\"psysml:7da0ff95-83c9-4c69-ab50-6e4dec268467\" xlink:type=\"simple\"><polygon fill=\"none\" points=\"16,6,147,6,154,28.2969,352,28.2969,352,316,16,316,16,6\" style=\"stroke:#000000;stroke-width:1.5;\"/><line style=\"stroke:#000000;stroke-width:1.5;\" x1=\"16\" x2=\"154\" y1=\"28.2969\" y2=\"28.2969\"/><text fill=\"#000000\" font-family=\"sans-serif\" font-size=\"14\" font-weight=\"bold\" lengthAdjust=\"spacing\" textLength=\"125\" x=\"20\" y=\"20.9951\">DefaultValueTest</text></a></g><!--MD5=[b4997ac47864f28c2f74865a473b2911]\n",
       "class E2--><a href=\"psysml:98a54266-dd8e-4aee-8801-c30b6645e897\" target=\"_top\" title=\"psysml:98a54266-dd8e-4aee-8801-c30b6645e897\" xlink:actuate=\"onRequest\" xlink:href=\"psysml:98a54266-dd8e-4aee-8801-c30b6645e897\" xlink:show=\"new\" xlink:title=\"psysml:98a54266-dd8e-4aee-8801-c30b6645e897\" xlink:type=\"simple\"><g id=\"elem_E2\"><rect fill=\"#FFFFFF\" height=\"91.3781\" id=\"E2\" style=\"stroke:#181818;stroke-width:0.5;\" width=\"117.0625\" x=\"166.5\" y=\"209\"/><text fill=\"#000000\" font-family=\"sans-serif\" font-size=\"12\" font-style=\"italic\" lengthAdjust=\"spacing\" textLength=\"68\" x=\"191.0313\" y=\"225.1387\">«part  def»</text><text fill=\"#000000\" font-family=\"sans-serif\" font-size=\"14\" lengthAdjust=\"spacing\" textLength=\"9\" x=\"220.5313\" y=\"240.9639\">V</text><line style=\"stroke:#181818;stroke-width:0.5;\" x1=\"167.5\" x2=\"282.5625\" y1=\"249.2656\" y2=\"249.2656\"/><text fill=\"#000000\" font-family=\"sans-serif\" font-size=\"14\" lengthAdjust=\"spacing\" textLength=\"13\" x=\"172.5\" y=\"276.7795\">m</text><text fill=\"#000000\" font-family=\"sans-serif\" font-size=\"14\" font-weight=\"bold\" lengthAdjust=\"spacing\" textLength=\"50.0625\" x=\"189.5\" y=\"276.7795\">default</text><text fill=\"#000000\" font-family=\"sans-serif\" font-size=\"14\" lengthAdjust=\"spacing\" textLength=\"34\" x=\"243.5625\" y=\"276.7795\">= 10</text><text fill=\"#000000\" font-family=\"sans-serif\" font-size=\"14\" lengthAdjust=\"spacing\" textLength=\"47\" x=\"172.5\" y=\"293.0764\">n = 20</text><text fill=\"#000000\" font-family=\"sans-serif\" font-size=\"14\" font-style=\"italic\" lengthAdjust=\"spacing\" textLength=\"66\" x=\"192.0313\" y=\"261.6123\">attributes</text></g></a><!--MD5=[09b614a08d8cba4a07c9adeb5e0fee81]\n",
       "class E3--><a href=\"psysml:f9c62a8d-8a1e-4486-94b1-ee59692b29ae\" target=\"_top\" title=\"psysml:f9c62a8d-8a1e-4486-94b1-ee59692b29ae\" xlink:actuate=\"onRequest\" xlink:href=\"psysml:f9c62a8d-8a1e-4486-94b1-ee59692b29ae\" xlink:show=\"new\" xlink:title=\"psysml:f9c62a8d-8a1e-4486-94b1-ee59692b29ae\" xlink:type=\"simple\"><g id=\"elem_E3\"><rect fill=\"#FFFFFF\" height=\"91.3781\" id=\"E3\" rx=\"10\" ry=\"10\" style=\"stroke:#181818;stroke-width:0.5;\" width=\"74\" x=\"262\" y=\"49.5\"/><text fill=\"#000000\" font-family=\"sans-serif\" font-size=\"12\" font-style=\"italic\" lengthAdjust=\"spacing\" textLength=\"40\" x=\"279\" y=\"65.6387\">«part»</text><text fill=\"#000000\" font-family=\"sans-serif\" font-size=\"14\" lengthAdjust=\"spacing\" textLength=\"34\" x=\"278\" y=\"81.4639\">v1: V</text><line style=\"stroke:#181818;stroke-width:0.5;\" x1=\"263\" x2=\"335\" y1=\"89.7656\" y2=\"89.7656\"/><text fill=\"#000000\" font-family=\"sans-serif\" font-size=\"14\" lengthAdjust=\"spacing\" textLength=\"51\" x=\"268\" y=\"117.2795\">m = 20</text><text fill=\"#000000\" font-family=\"sans-serif\" font-size=\"14\" font-style=\"italic\" lengthAdjust=\"spacing\" textLength=\"61\" x=\"268\" y=\"133.5764\">:&gt;&gt;V::m</text><text fill=\"#000000\" font-family=\"sans-serif\" font-size=\"14\" font-style=\"italic\" lengthAdjust=\"spacing\" textLength=\"66\" x=\"266\" y=\"102.1123\">attributes</text></g></a><!--MD5=[ebbe1d658d1005bcc118a6aa81145e00]\n",
       "class E4--><a href=\"psysml:ad7d8f37-2b75-4e7f-880b-981718b0db98\" target=\"_top\" title=\"psysml:ad7d8f37-2b75-4e7f-880b-981718b0db98\" xlink:actuate=\"onRequest\" xlink:href=\"psysml:ad7d8f37-2b75-4e7f-880b-981718b0db98\" xlink:show=\"new\" xlink:title=\"psysml:ad7d8f37-2b75-4e7f-880b-981718b0db98\" xlink:type=\"simple\"><g id=\"elem_E4\"><rect fill=\"#FFFFFF\" height=\"107.675\" id=\"E4\" style=\"stroke:#181818;stroke-width:0.5;\" width=\"108.0625\" x=\"119\" y=\"41\"/><text fill=\"#000000\" font-family=\"sans-serif\" font-size=\"12\" font-style=\"italic\" lengthAdjust=\"spacing\" textLength=\"68\" x=\"139.0313\" y=\"57.1387\">«part  def»</text><text fill=\"#000000\" font-family=\"sans-serif\" font-size=\"14\" lengthAdjust=\"spacing\" textLength=\"13\" x=\"166.5313\" y=\"72.9639\">W</text><line style=\"stroke:#181818;stroke-width:0.5;\" x1=\"120\" x2=\"226.0625\" y1=\"81.2656\" y2=\"81.2656\"/><text fill=\"#000000\" font-family=\"sans-serif\" font-size=\"14\" lengthAdjust=\"spacing\" textLength=\"13\" x=\"125\" y=\"108.7795\">m</text><text fill=\"#000000\" font-family=\"sans-serif\" font-size=\"14\" font-weight=\"bold\" lengthAdjust=\"spacing\" textLength=\"50.0625\" x=\"142\" y=\"108.7795\">default</text><text fill=\"#000000\" font-family=\"sans-serif\" font-size=\"14\" lengthAdjust=\"spacing\" textLength=\"25\" x=\"196.0625\" y=\"108.7795\">= n</text><text fill=\"#000000\" font-family=\"sans-serif\" font-size=\"14\" font-style=\"italic\" lengthAdjust=\"spacing\" textLength=\"61\" x=\"125\" y=\"125.0764\">:&gt;&gt;V::m</text><text fill=\"#000000\" font-family=\"sans-serif\" font-size=\"14\" lengthAdjust=\"spacing\" textLength=\"59\" x=\"125\" y=\"141.3732\">^n = 20</text><text fill=\"#000000\" font-family=\"sans-serif\" font-size=\"14\" font-style=\"italic\" lengthAdjust=\"spacing\" textLength=\"66\" x=\"140.0313\" y=\"93.6123\">attributes</text></g></a><!--MD5=[270fce915f116d4de14055a7c1d9a0f3]\n",
       "class E5--><a href=\"psysml:fd52748d-5cd7-4973-9bed-274bef6831d2\" target=\"_top\" title=\"psysml:fd52748d-5cd7-4973-9bed-274bef6831d2\" xlink:actuate=\"onRequest\" xlink:href=\"psysml:fd52748d-5cd7-4973-9bed-274bef6831d2\" xlink:show=\"new\" xlink:title=\"psysml:fd52748d-5cd7-4973-9bed-274bef6831d2\" xlink:type=\"simple\"><g id=\"elem_E5\"><rect fill=\"#FFFFFF\" height=\"75.0813\" id=\"E5\" rx=\"10\" ry=\"10\" style=\"stroke:#181818;stroke-width:0.5;\" width=\"52\" x=\"32\" y=\"57.5\"/><text fill=\"#000000\" font-family=\"sans-serif\" font-size=\"12\" font-style=\"italic\" lengthAdjust=\"spacing\" textLength=\"40\" x=\"38\" y=\"73.6387\">«part»</text><text fill=\"#000000\" font-family=\"sans-serif\" font-size=\"14\" lengthAdjust=\"spacing\" textLength=\"16\" x=\"46\" y=\"89.4639\">v2</text><line style=\"stroke:#181818;stroke-width:0.5;\" x1=\"33\" x2=\"83\" y1=\"97.7656\" y2=\"97.7656\"/><text fill=\"#000000\" font-family=\"sans-serif\" font-size=\"14\" lengthAdjust=\"spacing\" textLength=\"39\" x=\"38\" y=\"125.2795\">= W()</text><text fill=\"#000000\" font-family=\"sans-serif\" font-size=\"14\" font-style=\"italic\" lengthAdjust=\"spacing\" textLength=\"44\" x=\"36\" y=\"110.1123\">values</text></g></a><!--MD5=[05d275557350bfb9b23a4ef7222b4c39]\n",
       "link E3 to E2--><g id=\"link_E3_E2\"><a href=\"psysml:1a78d8f2-030e-492a-8201-32cffefdc08b\" target=\"_top\" title=\"psysml:1a78d8f2-030e-492a-8201-32cffefdc08b\" xlink:actuate=\"onRequest\" xlink:href=\"psysml:1a78d8f2-030e-492a-8201-32cffefdc08b\" xlink:show=\"new\" xlink:title=\"psysml:1a78d8f2-030e-492a-8201-32cffefdc08b\" xlink:type=\"simple\"><path d=\"M277.99,140.71 C270.7,156.24 262.37,173.95 254.52,190.67 \" fill=\"none\" id=\"E3-to-E2\" style=\"stroke:#181818;stroke-width:1.0;\"/><polygon fill=\"#FFFFFF\" points=\"245.93,208.95,247.6703,188.7765,260.3425,194.7275,245.93,208.95\" style=\"stroke:#181818;stroke-width:1.0;\"/><ellipse cx=\"251.9035\" cy=\"184.4672\" fill=\"#181818\" rx=\"2\" ry=\"2\" style=\"stroke:#181818;stroke-width:1.0;\"/><ellipse cx=\"260.9551\" cy=\"188.718\" fill=\"#181818\" rx=\"2\" ry=\"2\" style=\"stroke:#181818;stroke-width:1.0;\"/></a></g><!--MD5=[185131fc0dcab0a4505a2ebe144e961b]\n",
       "link E4 to E2--><g id=\"link_E4_E2\"><a href=\"psysml:5695b7ea-3fef-47ac-8247-2c32b379aa0a\" target=\"_top\" title=\"psysml:5695b7ea-3fef-47ac-8247-2c32b379aa0a\" xlink:actuate=\"onRequest\" xlink:href=\"psysml:5695b7ea-3fef-47ac-8247-2c32b379aa0a\" xlink:show=\"new\" xlink:title=\"psysml:5695b7ea-3fef-47ac-8247-2c32b379aa0a\" xlink:type=\"simple\"><path d=\"M190.6,149.32 C194.9,162.33 199.54,176.38 203.98,189.82 \" fill=\"none\" id=\"E4-to-E2\" style=\"stroke:#181818;stroke-width:1.0;\"/><polygon fill=\"none\" points=\"210.65,187.7,210.27,208.89,197.35,192.09,210.65,187.7\" style=\"stroke:#181818;stroke-width:1.0;\"/></a></g><!--MD5=[261d6882ec58d4af94a71f3bf8448f47]\n",
       "@startuml\r\n",
       "skin sysmlbw\r\n",
       "skinparam monochrome true\r\n",
       "skinparam wrapWidth 300\r\n",
       "hide circle\r\n",
       "skinparam linetype polyline\r\n",
       "\r\n",
       "package \"DefaultValueTest\" as E1  [[psysml:7da0ff95-83c9-4c69-ab50-6e4dec268467 ]]  {\r\n",
       "comp def \"V\" as E2  <<(T,blue) part  def>> [[psysml:98a54266-dd8e-4aee-8801-c30b6645e897 ]] {\r\n",
       "##//attributes//##\r\n",
       "m<b> default </b><U+003D> 10\r\n",
       "n <U+003D> 20\r\n",
       "}\r\n",
       "comp usage \"v1: V  \" as E3  <<(T,blue) part>> [[psysml:f9c62a8d-8a1e-4486-94b1-ee59692b29ae ]] {\r\n",
       "##//attributes//##\r\n",
       "m <U+003D> 20\\n//:>>V::m// \r\n",
       "}\r\n",
       "comp def \"W\" as E4  <<(T,blue) part  def>> [[psysml:ad7d8f37-2b75-4e7f-880b-981718b0db98 ]] {\r\n",
       "##//attributes//##\r\n",
       "m<b> default </b><U+003D> n\\n//:>>V::m// \r\n",
       "^n <U+003D> 20\r\n",
       "}\r\n",
       "comp usage \"v2  \" as E5  <<(T,blue) part>> [[psysml:fd52748d-5cd7-4973-9bed-274bef6831d2 ]] {\r\n",
       "##//values//##\r\n",
       " <U+003D> W()\r\n",
       "}\r\n",
       "}\r\n",
       "E3 - -:|> E2 [[psysml:1a78d8f2-030e-492a-8201-32cffefdc08b ]] \r\n",
       "E4 - -|> E2 [[psysml:5695b7ea-3fef-47ac-8247-2c32b379aa0a ]] \r\n",
       "@enduml\r\n",
       "\n",
       "PlantUML version 1.2022.7(Mon Aug 22 17:01:30 UTC 2022)\n",
       "(EPL source distribution)\n",
       "Java Runtime: OpenJDK Runtime Environment\n",
       "JVM: OpenJDK 64-Bit Server VM\n",
       "Default Encoding: UTF-8\n",
       "Language: en\n",
       "Country: null\n",
       "--></g></svg>"
      ]
     },
     "execution_count": 15,
     "metadata": {},
     "output_type": "execute_result"
    }
   ],
   "source": [
    "%viz --style=\"POLYLINE\" --view=\"MIXED\" \"DefaultValueTest\""
   ]
  },
  {
   "cell_type": "code",
   "execution_count": 16,
   "id": "8a9a8ddd",
   "metadata": {
    "execution": {
     "iopub.execute_input": "2024-12-16T14:21:28.223430Z",
     "iopub.status.busy": "2024-12-16T14:21:28.223101Z",
     "iopub.status.idle": "2024-12-16T14:21:28.247611Z",
     "shell.execute_reply": "2024-12-16T14:21:28.246804Z"
    }
   },
   "outputs": [
    {
     "data": {
      "image/svg+xml": [
       "<?xml version=\"1.0\" encoding=\"UTF-8\" standalone=\"no\"?><svg xmlns=\"http://www.w3.org/2000/svg\" xmlns:xlink=\"http://www.w3.org/1999/xlink\" contentStyleType=\"text/css\" height=\"409px\" preserveAspectRatio=\"none\" style=\"width:350px;height:409px;background:#FFFFFF;\" version=\"1.1\" viewBox=\"0 0 350 409\" width=\"350px\" zoomAndPan=\"magnify\"><defs/><g><!--MD5=[fbc87193dbaf4d95561dea2c320d4a47]\n",
       "cluster E1--><g id=\"cluster_E1\"><a href=\"psysml:7da0ff95-83c9-4c69-ab50-6e4dec268467\" target=\"_top\" title=\"psysml:7da0ff95-83c9-4c69-ab50-6e4dec268467\" xlink:actuate=\"onRequest\" xlink:href=\"psysml:7da0ff95-83c9-4c69-ab50-6e4dec268467\" xlink:show=\"new\" xlink:title=\"psysml:7da0ff95-83c9-4c69-ab50-6e4dec268467\" xlink:type=\"simple\"><polygon fill=\"none\" points=\"16,6,147,6,154,28.2969,333,28.2969,333,402,16,402,16,6\" style=\"stroke:#000000;stroke-width:1.5;\"/><line style=\"stroke:#000000;stroke-width:1.5;\" x1=\"16\" x2=\"154\" y1=\"28.2969\" y2=\"28.2969\"/><text fill=\"#000000\" font-family=\"sans-serif\" font-size=\"14\" font-weight=\"bold\" lengthAdjust=\"spacing\" textLength=\"125\" x=\"20\" y=\"20.9951\">DefaultValueTest</text></a></g><!--MD5=[b4997ac47864f28c2f74865a473b2911]\n",
       "class E2--><a href=\"psysml:98a54266-dd8e-4aee-8801-c30b6645e897\" target=\"_top\" title=\"psysml:98a54266-dd8e-4aee-8801-c30b6645e897\" xlink:actuate=\"onRequest\" xlink:href=\"psysml:98a54266-dd8e-4aee-8801-c30b6645e897\" xlink:show=\"new\" xlink:title=\"psysml:98a54266-dd8e-4aee-8801-c30b6645e897\" xlink:type=\"simple\"><g id=\"elem_E2\"><rect fill=\"#FFFFFF\" height=\"91.3781\" id=\"E2\" style=\"stroke:#181818;stroke-width:0.5;\" width=\"117.0625\" x=\"200\" y=\"109.5\"/><text fill=\"#000000\" font-family=\"sans-serif\" font-size=\"12\" font-style=\"italic\" lengthAdjust=\"spacing\" textLength=\"68\" x=\"224.5313\" y=\"125.6387\">«part  def»</text><text fill=\"#000000\" font-family=\"sans-serif\" font-size=\"14\" lengthAdjust=\"spacing\" textLength=\"9\" x=\"254.0313\" y=\"141.4639\">V</text><line style=\"stroke:#181818;stroke-width:0.5;\" x1=\"201\" x2=\"316.0625\" y1=\"149.7656\" y2=\"149.7656\"/><text fill=\"#000000\" font-family=\"sans-serif\" font-size=\"14\" lengthAdjust=\"spacing\" textLength=\"13\" x=\"206\" y=\"177.2795\">m</text><text fill=\"#000000\" font-family=\"sans-serif\" font-size=\"14\" font-weight=\"bold\" lengthAdjust=\"spacing\" textLength=\"50.0625\" x=\"223\" y=\"177.2795\">default</text><text fill=\"#000000\" font-family=\"sans-serif\" font-size=\"14\" lengthAdjust=\"spacing\" textLength=\"34\" x=\"277.0625\" y=\"177.2795\">= 10</text><text fill=\"#000000\" font-family=\"sans-serif\" font-size=\"14\" lengthAdjust=\"spacing\" textLength=\"47\" x=\"206\" y=\"193.5764\">n = 20</text><text fill=\"#000000\" font-family=\"sans-serif\" font-size=\"14\" font-style=\"italic\" lengthAdjust=\"spacing\" textLength=\"66\" x=\"225.5313\" y=\"162.1123\">attributes</text></g></a><!--MD5=[09b614a08d8cba4a07c9adeb5e0fee81]\n",
       "class E3--><a href=\"psysml:f9c62a8d-8a1e-4486-94b1-ee59692b29ae\" target=\"_top\" title=\"psysml:f9c62a8d-8a1e-4486-94b1-ee59692b29ae\" xlink:actuate=\"onRequest\" xlink:href=\"psysml:f9c62a8d-8a1e-4486-94b1-ee59692b29ae\" xlink:show=\"new\" xlink:title=\"psysml:f9c62a8d-8a1e-4486-94b1-ee59692b29ae\" xlink:type=\"simple\"><g id=\"elem_E3\"><rect fill=\"#FFFFFF\" height=\"91.3781\" id=\"E3\" rx=\"10\" ry=\"10\" style=\"stroke:#181818;stroke-width:0.5;\" width=\"74\" x=\"49\" y=\"41.5\"/><text fill=\"#000000\" font-family=\"sans-serif\" font-size=\"12\" font-style=\"italic\" lengthAdjust=\"spacing\" textLength=\"40\" x=\"66\" y=\"57.6387\">«part»</text><text fill=\"#000000\" font-family=\"sans-serif\" font-size=\"14\" lengthAdjust=\"spacing\" textLength=\"34\" x=\"65\" y=\"73.4639\">v1: V</text><line style=\"stroke:#181818;stroke-width:0.5;\" x1=\"50\" x2=\"122\" y1=\"81.7656\" y2=\"81.7656\"/><text fill=\"#000000\" font-family=\"sans-serif\" font-size=\"14\" lengthAdjust=\"spacing\" textLength=\"51\" x=\"55\" y=\"109.2795\">m = 20</text><text fill=\"#000000\" font-family=\"sans-serif\" font-size=\"14\" font-style=\"italic\" lengthAdjust=\"spacing\" textLength=\"61\" x=\"55\" y=\"125.5764\">:&gt;&gt;V::m</text><text fill=\"#000000\" font-family=\"sans-serif\" font-size=\"14\" font-style=\"italic\" lengthAdjust=\"spacing\" textLength=\"66\" x=\"53\" y=\"94.1123\">attributes</text></g></a><!--MD5=[ebbe1d658d1005bcc118a6aa81145e00]\n",
       "class E4--><a href=\"psysml:ad7d8f37-2b75-4e7f-880b-981718b0db98\" target=\"_top\" title=\"psysml:ad7d8f37-2b75-4e7f-880b-981718b0db98\" xlink:actuate=\"onRequest\" xlink:href=\"psysml:ad7d8f37-2b75-4e7f-880b-981718b0db98\" xlink:show=\"new\" xlink:title=\"psysml:ad7d8f37-2b75-4e7f-880b-981718b0db98\" xlink:type=\"simple\"><g id=\"elem_E4\"><rect fill=\"#FFFFFF\" height=\"107.675\" id=\"E4\" style=\"stroke:#181818;stroke-width:0.5;\" width=\"108.0625\" x=\"32\" y=\"168\"/><text fill=\"#000000\" font-family=\"sans-serif\" font-size=\"12\" font-style=\"italic\" lengthAdjust=\"spacing\" textLength=\"68\" x=\"52.0313\" y=\"184.1387\">«part  def»</text><text fill=\"#000000\" font-family=\"sans-serif\" font-size=\"14\" lengthAdjust=\"spacing\" textLength=\"13\" x=\"79.5313\" y=\"199.9639\">W</text><line style=\"stroke:#181818;stroke-width:0.5;\" x1=\"33\" x2=\"139.0625\" y1=\"208.2656\" y2=\"208.2656\"/><text fill=\"#000000\" font-family=\"sans-serif\" font-size=\"14\" lengthAdjust=\"spacing\" textLength=\"13\" x=\"38\" y=\"235.7795\">m</text><text fill=\"#000000\" font-family=\"sans-serif\" font-size=\"14\" font-weight=\"bold\" lengthAdjust=\"spacing\" textLength=\"50.0625\" x=\"55\" y=\"235.7795\">default</text><text fill=\"#000000\" font-family=\"sans-serif\" font-size=\"14\" lengthAdjust=\"spacing\" textLength=\"25\" x=\"109.0625\" y=\"235.7795\">= n</text><text fill=\"#000000\" font-family=\"sans-serif\" font-size=\"14\" font-style=\"italic\" lengthAdjust=\"spacing\" textLength=\"61\" x=\"38\" y=\"252.0764\">:&gt;&gt;V::m</text><text fill=\"#000000\" font-family=\"sans-serif\" font-size=\"14\" lengthAdjust=\"spacing\" textLength=\"59\" x=\"38\" y=\"268.3732\">^n = 20</text><text fill=\"#000000\" font-family=\"sans-serif\" font-size=\"14\" font-style=\"italic\" lengthAdjust=\"spacing\" textLength=\"66\" x=\"53.0313\" y=\"220.6123\">attributes</text></g></a><!--MD5=[270fce915f116d4de14055a7c1d9a0f3]\n",
       "class E5--><a href=\"psysml:fd52748d-5cd7-4973-9bed-274bef6831d2\" target=\"_top\" title=\"psysml:fd52748d-5cd7-4973-9bed-274bef6831d2\" xlink:actuate=\"onRequest\" xlink:href=\"psysml:fd52748d-5cd7-4973-9bed-274bef6831d2\" xlink:show=\"new\" xlink:title=\"psysml:fd52748d-5cd7-4973-9bed-274bef6831d2\" xlink:type=\"simple\"><g id=\"elem_E5\"><rect fill=\"#FFFFFF\" height=\"75.0813\" id=\"E5\" rx=\"10\" ry=\"10\" style=\"stroke:#181818;stroke-width:0.5;\" width=\"52\" x=\"60\" y=\"311.5\"/><text fill=\"#000000\" font-family=\"sans-serif\" font-size=\"12\" font-style=\"italic\" lengthAdjust=\"spacing\" textLength=\"40\" x=\"66\" y=\"327.6387\">«part»</text><text fill=\"#000000\" font-family=\"sans-serif\" font-size=\"14\" lengthAdjust=\"spacing\" textLength=\"16\" x=\"74\" y=\"343.4639\">v2</text><line style=\"stroke:#181818;stroke-width:0.5;\" x1=\"61\" x2=\"111\" y1=\"351.7656\" y2=\"351.7656\"/><text fill=\"#000000\" font-family=\"sans-serif\" font-size=\"14\" lengthAdjust=\"spacing\" textLength=\"39\" x=\"66\" y=\"379.2795\">= W()</text><text fill=\"#000000\" font-family=\"sans-serif\" font-size=\"14\" font-style=\"italic\" lengthAdjust=\"spacing\" textLength=\"44\" x=\"64\" y=\"364.1123\">values</text></g></a><!--MD5=[05d275557350bfb9b23a4ef7222b4c39]\n",
       "link E3 to E2--><g id=\"link_E3_E2\"><a href=\"psysml:1a78d8f2-030e-492a-8201-32cffefdc08b\" target=\"_top\" title=\"psysml:1a78d8f2-030e-492a-8201-32cffefdc08b\" xlink:actuate=\"onRequest\" xlink:href=\"psysml:1a78d8f2-030e-492a-8201-32cffefdc08b\" xlink:show=\"new\" xlink:title=\"psysml:1a78d8f2-030e-492a-8201-32cffefdc08b\" xlink:type=\"simple\"><path d=\"M123.16,101.42 C140.14,108.19 161.05,116.53 181.28,124.6 \" fill=\"none\" id=\"E3-to-E2\" style=\"stroke:#181818;stroke-width:1.0;\"/><polygon fill=\"#FFFFFF\" points=\"199.93,132.04,179.6888,131.4963,184.8797,118.4942,199.93,132.04\" style=\"stroke:#181818;stroke-width:1.0;\"/><ellipse cx=\"175.1367\" cy=\"127.5255\" fill=\"#181818\" rx=\"2\" ry=\"2\" style=\"stroke:#181818;stroke-width:1.0;\"/><ellipse cx=\"178.8444\" cy=\"118.2382\" fill=\"#181818\" rx=\"2\" ry=\"2\" style=\"stroke:#181818;stroke-width:1.0;\"/></a></g><!--MD5=[185131fc0dcab0a4505a2ebe144e961b]\n",
       "link E4 to E2--><g id=\"link_E4_E2\"><a href=\"psysml:5695b7ea-3fef-47ac-8247-2c32b379aa0a\" target=\"_top\" title=\"psysml:5695b7ea-3fef-47ac-8247-2c32b379aa0a\" xlink:actuate=\"onRequest\" xlink:href=\"psysml:5695b7ea-3fef-47ac-8247-2c32b379aa0a\" xlink:show=\"new\" xlink:title=\"psysml:5695b7ea-3fef-47ac-8247-2c32b379aa0a\" xlink:type=\"simple\"><path d=\"M140.01,201.17 C152.9,196.1 166.95,190.58 180.69,185.18 \" fill=\"none\" id=\"E4-to-E2\" style=\"stroke:#181818;stroke-width:1.0;\"/><polygon fill=\"none\" points=\"178.61,178.48,199.78,177.68,183.73,191.51,178.61,178.48\" style=\"stroke:#181818;stroke-width:1.0;\"/></a></g><!--MD5=[ee8c71dc99ae3e684fe25c3008334f67]\n",
       "@startuml\r\n",
       "skin sysmlbw\r\n",
       "skinparam monochrome true\r\n",
       "skinparam wrapWidth 300\r\n",
       "hide circle\r\n",
       "left to right direction\r\n",
       "\r\n",
       "package \"DefaultValueTest\" as E1  [[psysml:7da0ff95-83c9-4c69-ab50-6e4dec268467 ]]  {\r\n",
       "comp def \"V\" as E2  <<(T,blue) part  def>> [[psysml:98a54266-dd8e-4aee-8801-c30b6645e897 ]] {\r\n",
       "##//attributes//##\r\n",
       "m<b> default </b><U+003D> 10\r\n",
       "n <U+003D> 20\r\n",
       "}\r\n",
       "comp usage \"v1: V  \" as E3  <<(T,blue) part>> [[psysml:f9c62a8d-8a1e-4486-94b1-ee59692b29ae ]] {\r\n",
       "##//attributes//##\r\n",
       "m <U+003D> 20\\n//:>>V::m// \r\n",
       "}\r\n",
       "comp def \"W\" as E4  <<(T,blue) part  def>> [[psysml:ad7d8f37-2b75-4e7f-880b-981718b0db98 ]] {\r\n",
       "##//attributes//##\r\n",
       "m<b> default </b><U+003D> n\\n//:>>V::m// \r\n",
       "^n <U+003D> 20\r\n",
       "}\r\n",
       "comp usage \"v2  \" as E5  <<(T,blue) part>> [[psysml:fd52748d-5cd7-4973-9bed-274bef6831d2 ]] {\r\n",
       "##//values//##\r\n",
       " <U+003D> W()\r\n",
       "}\r\n",
       "}\r\n",
       "E3 - -:|> E2 [[psysml:1a78d8f2-030e-492a-8201-32cffefdc08b ]] \r\n",
       "E4 - -|> E2 [[psysml:5695b7ea-3fef-47ac-8247-2c32b379aa0a ]] \r\n",
       "@enduml\r\n",
       "\n",
       "PlantUML version 1.2022.7(Mon Aug 22 17:01:30 UTC 2022)\n",
       "(EPL source distribution)\n",
       "Java Runtime: OpenJDK Runtime Environment\n",
       "JVM: OpenJDK 64-Bit Server VM\n",
       "Default Encoding: UTF-8\n",
       "Language: en\n",
       "Country: null\n",
       "--></g></svg>"
      ]
     },
     "execution_count": 16,
     "metadata": {},
     "output_type": "execute_result"
    }
   ],
   "source": [
    "%viz --style=\"LR\" --view=\"Default\" \"DefaultValueTest\""
   ]
  },
  {
   "cell_type": "code",
   "execution_count": 17,
   "id": "1477360d",
   "metadata": {
    "execution": {
     "iopub.execute_input": "2024-12-16T14:21:28.303140Z",
     "iopub.status.busy": "2024-12-16T14:21:28.302879Z",
     "iopub.status.idle": "2024-12-16T14:21:28.327572Z",
     "shell.execute_reply": "2024-12-16T14:21:28.326858Z"
    }
   },
   "outputs": [
    {
     "data": {
      "image/svg+xml": [
       "<?xml version=\"1.0\" encoding=\"UTF-8\" standalone=\"no\"?><svg xmlns=\"http://www.w3.org/2000/svg\" xmlns:xlink=\"http://www.w3.org/1999/xlink\" contentStyleType=\"text/css\" height=\"409px\" preserveAspectRatio=\"none\" style=\"width:350px;height:409px;background:#FFFFFF;\" version=\"1.1\" viewBox=\"0 0 350 409\" width=\"350px\" zoomAndPan=\"magnify\"><defs/><g><!--MD5=[fbc87193dbaf4d95561dea2c320d4a47]\n",
       "cluster E1--><g id=\"cluster_E1\"><a href=\"psysml:7da0ff95-83c9-4c69-ab50-6e4dec268467\" target=\"_top\" title=\"psysml:7da0ff95-83c9-4c69-ab50-6e4dec268467\" xlink:actuate=\"onRequest\" xlink:href=\"psysml:7da0ff95-83c9-4c69-ab50-6e4dec268467\" xlink:show=\"new\" xlink:title=\"psysml:7da0ff95-83c9-4c69-ab50-6e4dec268467\" xlink:type=\"simple\"><polygon fill=\"none\" points=\"16,6,147,6,154,28.2969,333,28.2969,333,402,16,402,16,6\" style=\"stroke:#000000;stroke-width:1.5;\"/><line style=\"stroke:#000000;stroke-width:1.5;\" x1=\"16\" x2=\"154\" y1=\"28.2969\" y2=\"28.2969\"/><text fill=\"#000000\" font-family=\"sans-serif\" font-size=\"14\" font-weight=\"bold\" lengthAdjust=\"spacing\" textLength=\"125\" x=\"20\" y=\"20.9951\">DefaultValueTest</text></a></g><!--MD5=[b4997ac47864f28c2f74865a473b2911]\n",
       "class E2--><a href=\"psysml:98a54266-dd8e-4aee-8801-c30b6645e897\" target=\"_top\" title=\"psysml:98a54266-dd8e-4aee-8801-c30b6645e897\" xlink:actuate=\"onRequest\" xlink:href=\"psysml:98a54266-dd8e-4aee-8801-c30b6645e897\" xlink:show=\"new\" xlink:title=\"psysml:98a54266-dd8e-4aee-8801-c30b6645e897\" xlink:type=\"simple\"><g id=\"elem_E2\"><rect fill=\"#FFFFFF\" height=\"91.3781\" id=\"E2\" style=\"stroke:#181818;stroke-width:0.5;\" width=\"117.0625\" x=\"200\" y=\"109.5\"/><text fill=\"#000000\" font-family=\"sans-serif\" font-size=\"12\" font-style=\"italic\" lengthAdjust=\"spacing\" textLength=\"68\" x=\"224.5313\" y=\"125.6387\">«part  def»</text><text fill=\"#000000\" font-family=\"sans-serif\" font-size=\"14\" lengthAdjust=\"spacing\" textLength=\"9\" x=\"254.0313\" y=\"141.4639\">V</text><line style=\"stroke:#181818;stroke-width:0.5;\" x1=\"201\" x2=\"316.0625\" y1=\"149.7656\" y2=\"149.7656\"/><text fill=\"#000000\" font-family=\"sans-serif\" font-size=\"14\" lengthAdjust=\"spacing\" textLength=\"13\" x=\"206\" y=\"177.2795\">m</text><text fill=\"#000000\" font-family=\"sans-serif\" font-size=\"14\" font-weight=\"bold\" lengthAdjust=\"spacing\" textLength=\"50.0625\" x=\"223\" y=\"177.2795\">default</text><text fill=\"#000000\" font-family=\"sans-serif\" font-size=\"14\" lengthAdjust=\"spacing\" textLength=\"34\" x=\"277.0625\" y=\"177.2795\">= 10</text><text fill=\"#000000\" font-family=\"sans-serif\" font-size=\"14\" lengthAdjust=\"spacing\" textLength=\"47\" x=\"206\" y=\"193.5764\">n = 20</text><text fill=\"#000000\" font-family=\"sans-serif\" font-size=\"14\" font-style=\"italic\" lengthAdjust=\"spacing\" textLength=\"66\" x=\"225.5313\" y=\"162.1123\">attributes</text></g></a><!--MD5=[09b614a08d8cba4a07c9adeb5e0fee81]\n",
       "class E3--><a href=\"psysml:f9c62a8d-8a1e-4486-94b1-ee59692b29ae\" target=\"_top\" title=\"psysml:f9c62a8d-8a1e-4486-94b1-ee59692b29ae\" xlink:actuate=\"onRequest\" xlink:href=\"psysml:f9c62a8d-8a1e-4486-94b1-ee59692b29ae\" xlink:show=\"new\" xlink:title=\"psysml:f9c62a8d-8a1e-4486-94b1-ee59692b29ae\" xlink:type=\"simple\"><g id=\"elem_E3\"><rect fill=\"#FFFFFF\" height=\"91.3781\" id=\"E3\" rx=\"10\" ry=\"10\" style=\"stroke:#181818;stroke-width:0.5;\" width=\"74\" x=\"49\" y=\"41.5\"/><text fill=\"#000000\" font-family=\"sans-serif\" font-size=\"12\" font-style=\"italic\" lengthAdjust=\"spacing\" textLength=\"40\" x=\"66\" y=\"57.6387\">«part»</text><text fill=\"#000000\" font-family=\"sans-serif\" font-size=\"14\" lengthAdjust=\"spacing\" textLength=\"34\" x=\"65\" y=\"73.4639\">v1: V</text><line style=\"stroke:#181818;stroke-width:0.5;\" x1=\"50\" x2=\"122\" y1=\"81.7656\" y2=\"81.7656\"/><text fill=\"#000000\" font-family=\"sans-serif\" font-size=\"14\" lengthAdjust=\"spacing\" textLength=\"51\" x=\"55\" y=\"109.2795\">m = 20</text><text fill=\"#000000\" font-family=\"sans-serif\" font-size=\"14\" font-style=\"italic\" lengthAdjust=\"spacing\" textLength=\"61\" x=\"55\" y=\"125.5764\">:&gt;&gt;V::m</text><text fill=\"#000000\" font-family=\"sans-serif\" font-size=\"14\" font-style=\"italic\" lengthAdjust=\"spacing\" textLength=\"66\" x=\"53\" y=\"94.1123\">attributes</text></g></a><!--MD5=[ebbe1d658d1005bcc118a6aa81145e00]\n",
       "class E4--><a href=\"psysml:ad7d8f37-2b75-4e7f-880b-981718b0db98\" target=\"_top\" title=\"psysml:ad7d8f37-2b75-4e7f-880b-981718b0db98\" xlink:actuate=\"onRequest\" xlink:href=\"psysml:ad7d8f37-2b75-4e7f-880b-981718b0db98\" xlink:show=\"new\" xlink:title=\"psysml:ad7d8f37-2b75-4e7f-880b-981718b0db98\" xlink:type=\"simple\"><g id=\"elem_E4\"><rect fill=\"#FFFFFF\" height=\"107.675\" id=\"E4\" style=\"stroke:#181818;stroke-width:0.5;\" width=\"108.0625\" x=\"32\" y=\"168\"/><text fill=\"#000000\" font-family=\"sans-serif\" font-size=\"12\" font-style=\"italic\" lengthAdjust=\"spacing\" textLength=\"68\" x=\"52.0313\" y=\"184.1387\">«part  def»</text><text fill=\"#000000\" font-family=\"sans-serif\" font-size=\"14\" lengthAdjust=\"spacing\" textLength=\"13\" x=\"79.5313\" y=\"199.9639\">W</text><line style=\"stroke:#181818;stroke-width:0.5;\" x1=\"33\" x2=\"139.0625\" y1=\"208.2656\" y2=\"208.2656\"/><text fill=\"#000000\" font-family=\"sans-serif\" font-size=\"14\" lengthAdjust=\"spacing\" textLength=\"13\" x=\"38\" y=\"235.7795\">m</text><text fill=\"#000000\" font-family=\"sans-serif\" font-size=\"14\" font-weight=\"bold\" lengthAdjust=\"spacing\" textLength=\"50.0625\" x=\"55\" y=\"235.7795\">default</text><text fill=\"#000000\" font-family=\"sans-serif\" font-size=\"14\" lengthAdjust=\"spacing\" textLength=\"25\" x=\"109.0625\" y=\"235.7795\">= n</text><text fill=\"#000000\" font-family=\"sans-serif\" font-size=\"14\" font-style=\"italic\" lengthAdjust=\"spacing\" textLength=\"61\" x=\"38\" y=\"252.0764\">:&gt;&gt;V::m</text><text fill=\"#000000\" font-family=\"sans-serif\" font-size=\"14\" lengthAdjust=\"spacing\" textLength=\"59\" x=\"38\" y=\"268.3732\">^n = 20</text><text fill=\"#000000\" font-family=\"sans-serif\" font-size=\"14\" font-style=\"italic\" lengthAdjust=\"spacing\" textLength=\"66\" x=\"53.0313\" y=\"220.6123\">attributes</text></g></a><!--MD5=[270fce915f116d4de14055a7c1d9a0f3]\n",
       "class E5--><a href=\"psysml:fd52748d-5cd7-4973-9bed-274bef6831d2\" target=\"_top\" title=\"psysml:fd52748d-5cd7-4973-9bed-274bef6831d2\" xlink:actuate=\"onRequest\" xlink:href=\"psysml:fd52748d-5cd7-4973-9bed-274bef6831d2\" xlink:show=\"new\" xlink:title=\"psysml:fd52748d-5cd7-4973-9bed-274bef6831d2\" xlink:type=\"simple\"><g id=\"elem_E5\"><rect fill=\"#FFFFFF\" height=\"75.0813\" id=\"E5\" rx=\"10\" ry=\"10\" style=\"stroke:#181818;stroke-width:0.5;\" width=\"52\" x=\"60\" y=\"311.5\"/><text fill=\"#000000\" font-family=\"sans-serif\" font-size=\"12\" font-style=\"italic\" lengthAdjust=\"spacing\" textLength=\"40\" x=\"66\" y=\"327.6387\">«part»</text><text fill=\"#000000\" font-family=\"sans-serif\" font-size=\"14\" lengthAdjust=\"spacing\" textLength=\"16\" x=\"74\" y=\"343.4639\">v2</text><line style=\"stroke:#181818;stroke-width:0.5;\" x1=\"61\" x2=\"111\" y1=\"351.7656\" y2=\"351.7656\"/><text fill=\"#000000\" font-family=\"sans-serif\" font-size=\"14\" lengthAdjust=\"spacing\" textLength=\"39\" x=\"66\" y=\"379.2795\">= W()</text><text fill=\"#000000\" font-family=\"sans-serif\" font-size=\"14\" font-style=\"italic\" lengthAdjust=\"spacing\" textLength=\"44\" x=\"64\" y=\"364.1123\">values</text></g></a><!--MD5=[05d275557350bfb9b23a4ef7222b4c39]\n",
       "link E3 to E2--><g id=\"link_E3_E2\"><a href=\"psysml:1a78d8f2-030e-492a-8201-32cffefdc08b\" target=\"_top\" title=\"psysml:1a78d8f2-030e-492a-8201-32cffefdc08b\" xlink:actuate=\"onRequest\" xlink:href=\"psysml:1a78d8f2-030e-492a-8201-32cffefdc08b\" xlink:show=\"new\" xlink:title=\"psysml:1a78d8f2-030e-492a-8201-32cffefdc08b\" xlink:type=\"simple\"><path d=\"M123.16,101.42 C140.14,108.19 161.05,116.53 181.28,124.6 \" fill=\"none\" id=\"E3-to-E2\" style=\"stroke:#181818;stroke-width:1.0;\"/><polygon fill=\"#FFFFFF\" points=\"199.93,132.04,179.6888,131.4963,184.8797,118.4942,199.93,132.04\" style=\"stroke:#181818;stroke-width:1.0;\"/><ellipse cx=\"175.1367\" cy=\"127.5255\" fill=\"#181818\" rx=\"2\" ry=\"2\" style=\"stroke:#181818;stroke-width:1.0;\"/><ellipse cx=\"178.8444\" cy=\"118.2382\" fill=\"#181818\" rx=\"2\" ry=\"2\" style=\"stroke:#181818;stroke-width:1.0;\"/></a></g><!--MD5=[185131fc0dcab0a4505a2ebe144e961b]\n",
       "link E4 to E2--><g id=\"link_E4_E2\"><a href=\"psysml:5695b7ea-3fef-47ac-8247-2c32b379aa0a\" target=\"_top\" title=\"psysml:5695b7ea-3fef-47ac-8247-2c32b379aa0a\" xlink:actuate=\"onRequest\" xlink:href=\"psysml:5695b7ea-3fef-47ac-8247-2c32b379aa0a\" xlink:show=\"new\" xlink:title=\"psysml:5695b7ea-3fef-47ac-8247-2c32b379aa0a\" xlink:type=\"simple\"><path d=\"M140.01,201.17 C152.9,196.1 166.95,190.58 180.69,185.18 \" fill=\"none\" id=\"E4-to-E2\" style=\"stroke:#181818;stroke-width:1.0;\"/><polygon fill=\"none\" points=\"178.61,178.48,199.78,177.68,183.73,191.51,178.61,178.48\" style=\"stroke:#181818;stroke-width:1.0;\"/></a></g><!--MD5=[ee8c71dc99ae3e684fe25c3008334f67]\n",
       "@startuml\r\n",
       "skin sysmlbw\r\n",
       "skinparam monochrome true\r\n",
       "skinparam wrapWidth 300\r\n",
       "hide circle\r\n",
       "left to right direction\r\n",
       "\r\n",
       "package \"DefaultValueTest\" as E1  [[psysml:7da0ff95-83c9-4c69-ab50-6e4dec268467 ]]  {\r\n",
       "comp def \"V\" as E2  <<(T,blue) part  def>> [[psysml:98a54266-dd8e-4aee-8801-c30b6645e897 ]] {\r\n",
       "##//attributes//##\r\n",
       "m<b> default </b><U+003D> 10\r\n",
       "n <U+003D> 20\r\n",
       "}\r\n",
       "comp usage \"v1: V  \" as E3  <<(T,blue) part>> [[psysml:f9c62a8d-8a1e-4486-94b1-ee59692b29ae ]] {\r\n",
       "##//attributes//##\r\n",
       "m <U+003D> 20\\n//:>>V::m// \r\n",
       "}\r\n",
       "comp def \"W\" as E4  <<(T,blue) part  def>> [[psysml:ad7d8f37-2b75-4e7f-880b-981718b0db98 ]] {\r\n",
       "##//attributes//##\r\n",
       "m<b> default </b><U+003D> n\\n//:>>V::m// \r\n",
       "^n <U+003D> 20\r\n",
       "}\r\n",
       "comp usage \"v2  \" as E5  <<(T,blue) part>> [[psysml:fd52748d-5cd7-4973-9bed-274bef6831d2 ]] {\r\n",
       "##//values//##\r\n",
       " <U+003D> W()\r\n",
       "}\r\n",
       "}\r\n",
       "E3 - -:|> E2 [[psysml:1a78d8f2-030e-492a-8201-32cffefdc08b ]] \r\n",
       "E4 - -|> E2 [[psysml:5695b7ea-3fef-47ac-8247-2c32b379aa0a ]] \r\n",
       "@enduml\r\n",
       "\n",
       "PlantUML version 1.2022.7(Mon Aug 22 17:01:30 UTC 2022)\n",
       "(EPL source distribution)\n",
       "Java Runtime: OpenJDK Runtime Environment\n",
       "JVM: OpenJDK 64-Bit Server VM\n",
       "Default Encoding: UTF-8\n",
       "Language: en\n",
       "Country: null\n",
       "--></g></svg>"
      ]
     },
     "execution_count": 17,
     "metadata": {},
     "output_type": "execute_result"
    }
   ],
   "source": [
    "%viz --style=\"LR\" --view=\"Tree\" \"DefaultValueTest\""
   ]
  },
  {
   "cell_type": "code",
   "execution_count": 18,
   "id": "c058e541",
   "metadata": {
    "execution": {
     "iopub.execute_input": "2024-12-16T14:21:28.384149Z",
     "iopub.status.busy": "2024-12-16T14:21:28.383843Z",
     "iopub.status.idle": "2024-12-16T14:21:28.389151Z",
     "shell.execute_reply": "2024-12-16T14:21:28.388966Z"
    }
   },
   "outputs": [
    {
     "data": {
      "image/svg+xml": [
       "<?xml version=\"1.0\" encoding=\"UTF-8\" standalone=\"no\"?><svg xmlns=\"http://www.w3.org/2000/svg\" xmlns:xlink=\"http://www.w3.org/1999/xlink\" contentStyleType=\"text/css\" height=\"10px\" preserveAspectRatio=\"none\" style=\"width:10px;height:10px;background:#FFFFFF;\" version=\"1.1\" viewBox=\"0 0 10 10\" width=\"10px\" zoomAndPan=\"magnify\"><defs/><g><!--MD5=[fb420fbd7a91d32138f4344b927a323c]\n",
       "@startuml\r\n",
       "skin sysmlbw\r\n",
       "skinparam monochrome true\r\n",
       "skinparam wrapWidth 300\r\n",
       "hide circle\r\n",
       "left to right direction\r\n",
       "\r\n",
       "@enduml\r\n",
       "\n",
       "PlantUML version 1.2022.7(Mon Aug 22 17:01:30 UTC 2022)\n",
       "(EPL source distribution)\n",
       "Java Runtime: OpenJDK Runtime Environment\n",
       "JVM: OpenJDK 64-Bit Server VM\n",
       "Default Encoding: UTF-8\n",
       "Language: en\n",
       "Country: null\n",
       "--></g></svg>"
      ]
     },
     "execution_count": 18,
     "metadata": {},
     "output_type": "execute_result"
    }
   ],
   "source": [
    "%viz --style=\"LR\" --view=\"State\" \"DefaultValueTest\""
   ]
  },
  {
   "cell_type": "code",
   "execution_count": 19,
   "id": "bdad5fdf",
   "metadata": {
    "execution": {
     "iopub.execute_input": "2024-12-16T14:21:28.444839Z",
     "iopub.status.busy": "2024-12-16T14:21:28.444636Z",
     "iopub.status.idle": "2024-12-16T14:21:28.475355Z",
     "shell.execute_reply": "2024-12-16T14:21:28.474365Z"
    }
   },
   "outputs": [
    {
     "data": {
      "image/svg+xml": [
       "<?xml version=\"1.0\" encoding=\"UTF-8\" standalone=\"no\"?><svg xmlns=\"http://www.w3.org/2000/svg\" xmlns:xlink=\"http://www.w3.org/1999/xlink\" contentStyleType=\"text/css\" height=\"648px\" preserveAspectRatio=\"none\" style=\"width:441px;height:648px;background:#FFFFFF;\" version=\"1.1\" viewBox=\"0 0 441 648\" width=\"441px\" zoomAndPan=\"magnify\"><defs/><g><!--MD5=[fbc87193dbaf4d95561dea2c320d4a47]\n",
       "cluster E1--><g id=\"cluster_E1\"><a href=\"psysml:7da0ff95-83c9-4c69-ab50-6e4dec268467\" target=\"_top\" title=\"psysml:7da0ff95-83c9-4c69-ab50-6e4dec268467\" xlink:actuate=\"onRequest\" xlink:href=\"psysml:7da0ff95-83c9-4c69-ab50-6e4dec268467\" xlink:show=\"new\" xlink:title=\"psysml:7da0ff95-83c9-4c69-ab50-6e4dec268467\" xlink:type=\"simple\"><polygon fill=\"none\" points=\"16,6,147,6,154,28.2969,424,28.2969,424,641,16,641,16,6\" style=\"stroke:#000000;stroke-width:1.5;\"/><line style=\"stroke:#000000;stroke-width:1.5;\" x1=\"16\" x2=\"154\" y1=\"28.2969\" y2=\"28.2969\"/><text fill=\"#000000\" font-family=\"sans-serif\" font-size=\"14\" font-weight=\"bold\" lengthAdjust=\"spacing\" textLength=\"125\" x=\"20\" y=\"20.9951\">DefaultValueTest</text></a></g><!--MD5=[e4f7fae6ed58524ba242bb0b0d3be6b7]\n",
       "cluster E2--><g id=\"cluster_E2\"><a href=\"psysml:98a54266-dd8e-4aee-8801-c30b6645e897\" target=\"_top\" title=\"psysml:98a54266-dd8e-4aee-8801-c30b6645e897\" xlink:actuate=\"onRequest\" xlink:href=\"psysml:98a54266-dd8e-4aee-8801-c30b6645e897\" xlink:show=\"new\" xlink:title=\"psysml:98a54266-dd8e-4aee-8801-c30b6645e897\" xlink:type=\"simple\"><rect fill=\"#FFFFFF\" height=\"287\" id=\"E2\" style=\"stroke:#383838;stroke-width:1.5;\" width=\"152\" x=\"240\" y=\"57\"/><text fill=\"#000000\" font-family=\"sans-serif\" font-size=\"12\" font-style=\"italic\" lengthAdjust=\"spacing\" textLength=\"68\" x=\"282\" y=\"73.1387\">«part  def»</text><text fill=\"#000000\" font-family=\"sans-serif\" font-size=\"14\" lengthAdjust=\"spacing\" textLength=\"9\" x=\"311.5\" y=\"88.9639\">V</text><line style=\"stroke:#383838;stroke-width:1.0;\" x1=\"240\" x2=\"392\" y1=\"97.2656\" y2=\"97.2656\"/></a></g><!--MD5=[de5ec2e2e8f62f467e546659f5068c88]\n",
       "cluster E5--><g id=\"cluster_E5\"><a href=\"psysml:f9c62a8d-8a1e-4486-94b1-ee59692b29ae\" target=\"_top\" title=\"psysml:f9c62a8d-8a1e-4486-94b1-ee59692b29ae\" xlink:actuate=\"onRequest\" xlink:href=\"psysml:f9c62a8d-8a1e-4486-94b1-ee59692b29ae\" xlink:show=\"new\" xlink:title=\"psysml:f9c62a8d-8a1e-4486-94b1-ee59692b29ae\" xlink:type=\"simple\"><rect fill=\"#FFFFFF\" height=\"161\" id=\"E5\" rx=\"10\" ry=\"10\" style=\"stroke:#383838;stroke-width:1.5;\" width=\"119\" x=\"60\" y=\"114\"/><text fill=\"#000000\" font-family=\"sans-serif\" font-size=\"14\" lengthAdjust=\"spacing\" textLength=\"34\" x=\"102.5\" y=\"131.9951\">v1: V</text><line style=\"stroke:#383838;stroke-width:1.0;\" x1=\"60\" x2=\"179\" y1=\"140.2969\" y2=\"140.2969\"/></a></g><!--MD5=[168fadf3d0c3fd93dd5d6da1b1d7ab76]\n",
       "cluster E7--><g id=\"cluster_E7\"><a href=\"psysml:ad7d8f37-2b75-4e7f-880b-981718b0db98\" target=\"_top\" title=\"psysml:ad7d8f37-2b75-4e7f-880b-981718b0db98\" xlink:actuate=\"onRequest\" xlink:href=\"psysml:ad7d8f37-2b75-4e7f-880b-981718b0db98\" xlink:show=\"new\" xlink:title=\"psysml:ad7d8f37-2b75-4e7f-880b-981718b0db98\" xlink:type=\"simple\"><rect fill=\"#FFFFFF\" height=\"177\" id=\"E7\" style=\"stroke:#383838;stroke-width:1.5;\" width=\"327.5\" x=\"48\" y=\"384\"/><text fill=\"#000000\" font-family=\"sans-serif\" font-size=\"12\" font-style=\"italic\" lengthAdjust=\"spacing\" textLength=\"68\" x=\"177.75\" y=\"400.1387\">«part  def»</text><text fill=\"#000000\" font-family=\"sans-serif\" font-size=\"14\" lengthAdjust=\"spacing\" textLength=\"13\" x=\"205.25\" y=\"415.9639\">W</text><line style=\"stroke:#383838;stroke-width:1.0;\" x1=\"48\" x2=\"375.5\" y1=\"424.2656\" y2=\"424.2656\"/></a></g><!--MD5=[09b614a08d8cba4a07c9adeb5e0fee81]\n",
       "class E3--><a href=\"psysml:6c5b3b06-fe87-444e-9dd6-6649acbff1c0\" target=\"_top\" title=\"psysml:6c5b3b06-fe87-444e-9dd6-6649acbff1c0\" xlink:actuate=\"onRequest\" xlink:href=\"psysml:6c5b3b06-fe87-444e-9dd6-6649acbff1c0\" xlink:show=\"new\" xlink:title=\"psysml:6c5b3b06-fe87-444e-9dd6-6649acbff1c0\" xlink:type=\"simple\"><g id=\"elem_E3\"><rect fill=\"#FFFFFF\" height=\"75.0813\" id=\"E3\" rx=\"10\" ry=\"10\" style=\"stroke:#181818;stroke-width:0.5;\" width=\"104.0625\" x=\"264\" y=\"115.5\"/><text fill=\"#000000\" font-family=\"sans-serif\" font-size=\"12\" font-style=\"italic\" lengthAdjust=\"spacing\" textLength=\"69\" x=\"281.5313\" y=\"131.6387\">«attribute»</text><text fill=\"#000000\" font-family=\"sans-serif\" font-size=\"14\" lengthAdjust=\"spacing\" textLength=\"13\" x=\"305.5313\" y=\"147.4639\">m</text><line style=\"stroke:#181818;stroke-width:0.5;\" x1=\"265\" x2=\"367.0625\" y1=\"155.7656\" y2=\"155.7656\"/><text fill=\"#000000\" font-family=\"sans-serif\" font-size=\"14\" font-weight=\"bold\" lengthAdjust=\"spacing\" textLength=\"50.0625\" x=\"274\" y=\"183.2795\">default</text><text fill=\"#000000\" font-family=\"sans-serif\" font-size=\"14\" lengthAdjust=\"spacing\" textLength=\"34\" x=\"328.0625\" y=\"183.2795\">= 10</text><text fill=\"#000000\" font-family=\"sans-serif\" font-size=\"14\" font-style=\"italic\" lengthAdjust=\"spacing\" textLength=\"44\" x=\"294.0313\" y=\"168.1123\">values</text></g></a><!--MD5=[ebbe1d658d1005bcc118a6aa81145e00]\n",
       "class E4--><a href=\"psysml:d4a77e27-0ca8-4584-84f6-1d4e52d400d2\" target=\"_top\" title=\"psysml:d4a77e27-0ca8-4584-84f6-1d4e52d400d2\" xlink:actuate=\"onRequest\" xlink:href=\"psysml:d4a77e27-0ca8-4584-84f6-1d4e52d400d2\" xlink:show=\"new\" xlink:title=\"psysml:d4a77e27-0ca8-4584-84f6-1d4e52d400d2\" xlink:type=\"simple\"><g id=\"elem_E4\"><rect fill=\"#FFFFFF\" height=\"75.0813\" id=\"E4\" rx=\"10\" ry=\"10\" style=\"stroke:#181818;stroke-width:0.5;\" width=\"71\" x=\"280.5\" y=\"225.5\"/><text fill=\"#000000\" font-family=\"sans-serif\" font-size=\"12\" font-style=\"italic\" lengthAdjust=\"spacing\" textLength=\"69\" x=\"281.5\" y=\"241.6387\">«attribute»</text><text fill=\"#000000\" font-family=\"sans-serif\" font-size=\"14\" lengthAdjust=\"spacing\" textLength=\"9\" x=\"307.5\" y=\"257.4639\">n</text><line style=\"stroke:#181818;stroke-width:0.5;\" x1=\"281.5\" x2=\"350.5\" y1=\"265.7656\" y2=\"265.7656\"/><text fill=\"#000000\" font-family=\"sans-serif\" font-size=\"14\" lengthAdjust=\"spacing\" textLength=\"34\" x=\"286.5\" y=\"293.2795\">= 20</text><text fill=\"#000000\" font-family=\"sans-serif\" font-size=\"14\" font-style=\"italic\" lengthAdjust=\"spacing\" textLength=\"44\" x=\"294\" y=\"278.1123\">values</text></g></a><!--MD5=[60a26617385b1d2d0262a64233df1f8d]\n",
       "class E6--><a href=\"psysml:c20e1062-5069-459a-93a7-f31b5f49cd74\" target=\"_top\" title=\"psysml:c20e1062-5069-459a-93a7-f31b5f49cd74\" xlink:actuate=\"onRequest\" xlink:href=\"psysml:c20e1062-5069-459a-93a7-f31b5f49cd74\" xlink:show=\"new\" xlink:title=\"psysml:c20e1062-5069-459a-93a7-f31b5f49cd74\" xlink:type=\"simple\"><g id=\"elem_E6\"><rect fill=\"#FFFFFF\" height=\"75.0813\" id=\"E6\" rx=\"10\" ry=\"10\" style=\"stroke:#181818;stroke-width:0.5;\" width=\"71\" x=\"84\" y=\"156.5\"/><text fill=\"#000000\" font-family=\"sans-serif\" font-size=\"12\" font-style=\"italic\" lengthAdjust=\"spacing\" textLength=\"69\" x=\"85\" y=\"172.6387\">«attribute»</text><text fill=\"#000000\" font-family=\"sans-serif\" font-size=\"14\" lengthAdjust=\"spacing\" textLength=\"13\" x=\"109\" y=\"188.4639\">m</text><line style=\"stroke:#181818;stroke-width:0.5;\" x1=\"85\" x2=\"154\" y1=\"196.7656\" y2=\"196.7656\"/><text fill=\"#000000\" font-family=\"sans-serif\" font-size=\"14\" lengthAdjust=\"spacing\" textLength=\"34\" x=\"90\" y=\"224.2795\">= 20</text><text fill=\"#000000\" font-family=\"sans-serif\" font-size=\"14\" font-style=\"italic\" lengthAdjust=\"spacing\" textLength=\"44\" x=\"97.5\" y=\"209.1123\">values</text></g></a><!--MD5=[b9389687b975829384b498ac4b7476b2]\n",
       "class E8--><a href=\"psysml:073a166e-558c-466c-90f5-50af09b65e43\" target=\"_top\" title=\"psysml:073a166e-558c-466c-90f5-50af09b65e43\" xlink:actuate=\"onRequest\" xlink:href=\"psysml:073a166e-558c-466c-90f5-50af09b65e43\" xlink:show=\"new\" xlink:title=\"psysml:073a166e-558c-466c-90f5-50af09b65e43\" xlink:type=\"simple\"><g id=\"elem_E8\"><rect fill=\"#FFFFFF\" height=\"75.0813\" id=\"E8\" rx=\"10\" ry=\"10\" style=\"stroke:#181818;stroke-width:0.5;\" width=\"95.0625\" x=\"72\" y=\"462.5\"/><text fill=\"#000000\" font-family=\"sans-serif\" font-size=\"12\" font-style=\"italic\" lengthAdjust=\"spacing\" textLength=\"69\" x=\"85.0313\" y=\"478.6387\">«attribute»</text><text fill=\"#000000\" font-family=\"sans-serif\" font-size=\"14\" lengthAdjust=\"spacing\" textLength=\"13\" x=\"109.0313\" y=\"494.4639\">m</text><line style=\"stroke:#181818;stroke-width:0.5;\" x1=\"73\" x2=\"166.0625\" y1=\"502.7656\" y2=\"502.7656\"/><text fill=\"#000000\" font-family=\"sans-serif\" font-size=\"14\" font-weight=\"bold\" lengthAdjust=\"spacing\" textLength=\"50.0625\" x=\"82\" y=\"530.2795\">default</text><text fill=\"#000000\" font-family=\"sans-serif\" font-size=\"14\" lengthAdjust=\"spacing\" textLength=\"25\" x=\"136.0625\" y=\"530.2795\">= n</text><text fill=\"#000000\" font-family=\"sans-serif\" font-size=\"14\" font-style=\"italic\" lengthAdjust=\"spacing\" textLength=\"44\" x=\"97.5313\" y=\"515.1123\">values</text></g></a><!--MD5=[fd4143e9d270a159db93a4ea2a975926]\n",
       "class E9--><a href=\"psysml:d4a77e27-0ca8-4584-84f6-1d4e52d400d2\" target=\"_top\" title=\"psysml:d4a77e27-0ca8-4584-84f6-1d4e52d400d2\" xlink:actuate=\"onRequest\" xlink:href=\"psysml:d4a77e27-0ca8-4584-84f6-1d4e52d400d2\" xlink:show=\"new\" xlink:title=\"psysml:d4a77e27-0ca8-4584-84f6-1d4e52d400d2\" xlink:type=\"simple\"><g id=\"elem_E9\"><rect fill=\"#FFFFFF\" height=\"75.0813\" id=\"E9\" rx=\"10\" ry=\"10\" style=\"stroke:#181818;stroke-width:0.5;\" width=\"71\" x=\"280.5\" y=\"462.5\"/><text fill=\"#000000\" font-family=\"sans-serif\" font-size=\"12\" font-style=\"italic\" lengthAdjust=\"spacing\" textLength=\"69\" x=\"281.5\" y=\"478.6387\">«attribute»</text><text fill=\"#000000\" font-family=\"sans-serif\" font-size=\"14\" lengthAdjust=\"spacing\" textLength=\"21\" x=\"301.5\" y=\"494.4639\">^n</text><line style=\"stroke:#181818;stroke-width:0.5;\" x1=\"281.5\" x2=\"350.5\" y1=\"502.7656\" y2=\"502.7656\"/><text fill=\"#000000\" font-family=\"sans-serif\" font-size=\"14\" lengthAdjust=\"spacing\" textLength=\"34\" x=\"286.5\" y=\"530.2795\">= 20</text><text fill=\"#000000\" font-family=\"sans-serif\" font-size=\"14\" font-style=\"italic\" lengthAdjust=\"spacing\" textLength=\"44\" x=\"294\" y=\"515.1123\">values</text></g></a><g><a href=\"psysml:fd52748d-5cd7-4973-9bed-274bef6831d2\" target=\"_top\" title=\"psysml:fd52748d-5cd7-4973-9bed-274bef6831d2\" xlink:actuate=\"onRequest\" xlink:href=\"psysml:fd52748d-5cd7-4973-9bed-274bef6831d2\" xlink:show=\"new\" xlink:title=\"psysml:fd52748d-5cd7-4973-9bed-274bef6831d2\" xlink:type=\"simple\"><rect fill=\"#FFFFFF\" height=\"40\" id=\"E10\" rx=\"10\" ry=\"10\" style=\"stroke:#383838;stroke-width:1.5;\" width=\"70\" x=\"84.5\" y=\"585\"/><text fill=\"#000000\" font-family=\"sans-serif\" font-size=\"14\" lengthAdjust=\"spacing\" textLength=\"59\" x=\"90\" y=\"602.9951\">v2 = W()</text></a></g><!--MD5=[a717450b82c80b9240a525fa862496af]\n",
       "link E6 to E3--><g id=\"link_E6_E3\"><a href=\"psysml:bbca0750-a9c1-46d9-82f5-94045bc6258a\" target=\"_top\" title=\"psysml:bbca0750-a9c1-46d9-82f5-94045bc6258a\" xlink:actuate=\"onRequest\" xlink:href=\"psysml:bbca0750-a9c1-46d9-82f5-94045bc6258a\" xlink:show=\"new\" xlink:title=\"psysml:bbca0750-a9c1-46d9-82f5-94045bc6258a\" xlink:type=\"simple\"><path d=\"M155.27,186.67 C179.89,181.48 213.78,174.34 244.01,167.96 \" fill=\"none\" id=\"E6-to-E3\" style=\"stroke:#181818;stroke-width:1.0;\"/><polygon fill=\"#FFFFFF\" points=\"263.7,163.81,246.554,174.581,243.6643,160.8825,263.7,163.81\" style=\"stroke:#181818;stroke-width:1.0;\"/><line style=\"stroke:#181818;stroke-width:2.0;\" x1=\"242.8358\" x2=\"239.9461\" y1=\"175.3653\" y2=\"161.6668\"/></a></g><!--MD5=[15ebcb19ae302d9b601edb458606d402]\n",
       "link E5 to E2--><g id=\"link_E5_E2\"><a href=\"psysml:1a78d8f2-030e-492a-8201-32cffefdc08b\" target=\"_top\" title=\"psysml:1a78d8f2-030e-492a-8201-32cffefdc08b\" xlink:actuate=\"onRequest\" xlink:href=\"psysml:1a78d8f2-030e-492a-8201-32cffefdc08b\" xlink:show=\"new\" xlink:title=\"psysml:1a78d8f2-030e-492a-8201-32cffefdc08b\" xlink:type=\"simple\"><path d=\"M135.0229,275.1702 C135.1314,275.2295 135.2404,275.2891 135.3499,275.349 C135.7878,275.5883 136.2338,275.8315 136.6878,276.0785 C138.5036,277.0664 140.4457,278.1141 142.5003,279.2106 C146.6095,281.4038 151.1684,283.7928 156.0663,286.2913 C175.6575,296.285 200.67,308.03 224,316 C228.745,317.6213 233.6752,319.1431 238.6761,320.5659 C238.9886,320.6548 239.3014,320.7434 239.6145,320.8315 \" fill=\"none\" id=\"E5-to-E2\" style=\"stroke:#181818;stroke-width:1.0;\"/><polygon fill=\"#FFFFFF\" points=\"239.6145,320.8315,219.4285,322.4202,223.2228,308.9441,239.6145,320.8315\" style=\"stroke:#181818;stroke-width:1.0;\"/><ellipse cx=\"214.4839\" cy=\"318.9502\" fill=\"#181818\" rx=\"2\" ry=\"2\" style=\"stroke:#181818;stroke-width:1.0;\"/><ellipse cx=\"217.1941\" cy=\"309.3245\" fill=\"#181818\" rx=\"2\" ry=\"2\" style=\"stroke:#181818;stroke-width:1.0;\"/></a></g><!--MD5=[583832df87f4419a098336a29a52fa00]\n",
       "link E7 to E2--><g id=\"link_E7_E2\"><a href=\"psysml:5695b7ea-3fef-47ac-8247-2c32b379aa0a\" target=\"_top\" title=\"psysml:5695b7ea-3fef-47ac-8247-2c32b379aa0a\" xlink:actuate=\"onRequest\" xlink:href=\"psysml:5695b7ea-3fef-47ac-8247-2c32b379aa0a\" xlink:show=\"new\" xlink:title=\"psysml:5695b7ea-3fef-47ac-8247-2c32b379aa0a\" xlink:type=\"simple\"><path d=\"M213.3679,383.5461 C214.839,382.8578 216.3114,382.1689 217.7838,381.48 C241.3419,370.4575 264.8972,359.4363 282.9198,351.0037 C287.4255,348.8956 291.5854,346.9493 295.3131,345.2052 C295.779,344.9872 296.2382,344.7723 296.6905,344.5607 C296.9167,344.4549 297.1411,344.3499 297.3637,344.2457 C297.4751,344.1936 297.5859,344.1418 297.6964,344.0901 \" fill=\"none\" id=\"E7-to-E2\" style=\"stroke:#181818;stroke-width:1.0;\"/><polygon fill=\"#FFFFFF\" points=\"297.6964,344.0901,277.5204,345.8017,283.4534,358.4823,297.6964,344.0901\" style=\"stroke:#181818;stroke-width:1.0;\"/></a></g><!--MD5=[95fa686b5a16158bcdbcaeead89f639b]\n",
       "link E8 to E3--><g id=\"link_E8_E3\"><a href=\"psysml:921fa623-ecc5-4b2e-b8c8-ebddf6697201\" target=\"_top\" title=\"psysml:921fa623-ecc5-4b2e-b8c8-ebddf6697201\" xlink:actuate=\"onRequest\" xlink:href=\"psysml:921fa623-ecc5-4b2e-b8c8-ebddf6697201\" xlink:show=\"new\" xlink:title=\"psysml:921fa623-ecc5-4b2e-b8c8-ebddf6697201\" xlink:type=\"simple\"><path d=\"M167.23,483.07 C177.94,477.06 188.17,469.17 195,459 C257.61,365.77 163.3,302.48 224,208 C229.85,198.89 237.79,191.07 246.57,184.43 \" fill=\"none\" id=\"E8-to-E3\" style=\"stroke:#181818;stroke-width:1.0;\"/><polygon fill=\"#FFFFFF\" points=\"263.54,173.39,251.4235,189.6132,243.7944,177.8745,263.54,173.39\" style=\"stroke:#181818;stroke-width:1.0;\"/><line style=\"stroke:#181818;stroke-width:2.0;\" x1=\"248.2373\" x2=\"240.6082\" y1=\"191.6839\" y2=\"179.9453\"/></a></g><!--MD5=[ed10624c06dd9a4fa49ccf290e8b16a8]\n",
       "link E8 to E9--><g id=\"link_E8_E9\"><a href=\"psysml:fc577d85-8ebe-448e-af16-5782109a2fa7\" target=\"_top\" title=\"psysml:fc577d85-8ebe-448e-af16-5782109a2fa7\" xlink:actuate=\"onRequest\" xlink:href=\"psysml:fc577d85-8ebe-448e-af16-5782109a2fa7\" xlink:show=\"new\" xlink:title=\"psysml:fc577d85-8ebe-448e-af16-5782109a2fa7\" xlink:type=\"simple\"><path d=\"M167.14,504.65 C178.84,505.63 191.37,506.51 203,507 C228.89,508.1 258.11,506.16 280.21,504.05 \" fill=\"none\" id=\"E8-E9\" style=\"stroke:#181818;stroke-width:5.0;\"/><text fill=\"#000000\" font-family=\"sans-serif\" font-size=\"13\" lengthAdjust=\"spacing\" textLength=\"11\" x=\"204\" y=\"503.0669\">=</text></a></g><!--MD5=[cac735e912ad68596001008c52f9da33]\n",
       "@startuml\r\n",
       "skin sysmlbw\r\n",
       "skinparam monochrome true\r\n",
       "skinparam wrapWidth 300\r\n",
       "hide circle\r\n",
       "left to right direction\r\n",
       "skinparam ranksep 10\r\n",
       "skinparam rectangle {\r\n",
       " backgroundColor<<block>> LightGreen\r\n",
       "}\r\n",
       "\r\n",
       "package \"DefaultValueTest\" as E1  [[psysml:7da0ff95-83c9-4c69-ab50-6e4dec268467 ]]  {\r\n",
       "rec def \"V\" as E2  <<(T,blue) part  def>> [[psysml:98a54266-dd8e-4aee-8801-c30b6645e897 ]] {\r\n",
       "comp usage \"m  \" as E3  <<(T,blue) attribute>> [[psysml:6c5b3b06-fe87-444e-9dd6-6649acbff1c0 ]] {\r\n",
       "##//values//##\r\n",
       "<b> default </b><U+003D> 10\r\n",
       "}\r\n",
       "comp usage \"n  \" as E4  <<(T,blue) attribute>> [[psysml:d4a77e27-0ca8-4584-84f6-1d4e52d400d2 ]] {\r\n",
       "##//values//##\r\n",
       " <U+003D> 20\r\n",
       "}\r\n",
       "}\r\n",
       "rec usage \"v1: V\" as E5 [[psysml:f9c62a8d-8a1e-4486-94b1-ee59692b29ae ]] {\r\n",
       "comp usage \"m  \" as E6  <<(T,blue) attribute>> [[psysml:c20e1062-5069-459a-93a7-f31b5f49cd74 ]] {\r\n",
       "##//values//##\r\n",
       " <U+003D> 20\r\n",
       "}\r\n",
       "}\r\n",
       "rec def \"W\" as E7  <<(T,blue) part  def>> [[psysml:ad7d8f37-2b75-4e7f-880b-981718b0db98 ]] {\r\n",
       "comp usage \"m  \" as E8  <<(T,blue) attribute>> [[psysml:073a166e-558c-466c-90f5-50af09b65e43 ]] {\r\n",
       "##//values//##\r\n",
       "<b> default </b><U+003D> n\r\n",
       "}\r\n",
       "comp usage \"^n  \" as E9  <<(T,blue) attribute>> [[psysml:d4a77e27-0ca8-4584-84f6-1d4e52d400d2 ]] {\r\n",
       "##//values//##\r\n",
       " <U+003D> 20\r\n",
       "}\r\n",
       "}\r\n",
       "rec usage \"v2 <U+003D> W()\" as E10 [[psysml:fd52748d-5cd7-4973-9bed-274bef6831d2 ]] {\r\n",
       "}\r\n",
       "}\r\n",
       "E6 - -||> E3 [[psysml:bbca0750-a9c1-46d9-82f5-94045bc6258a ]] \r\n",
       "E5 - -:|> E2 [[psysml:1a78d8f2-030e-492a-8201-32cffefdc08b ]] \r\n",
       "E7 - -|> E2 [[psysml:5695b7ea-3fef-47ac-8247-2c32b379aa0a ]] \r\n",
       "E8 - -||> E3 [[psysml:921fa623-ecc5-4b2e-b8c8-ebddf6697201 ]] \r\n",
       "E8 -[thickness=5]- E9 [[psysml:fc577d85-8ebe-448e-af16-5782109a2fa7 ]] : =\r\n",
       "@enduml\r\n",
       "\n",
       "PlantUML version 1.2022.7(Mon Aug 22 17:01:30 UTC 2022)\n",
       "(EPL source distribution)\n",
       "Java Runtime: OpenJDK Runtime Environment\n",
       "JVM: OpenJDK 64-Bit Server VM\n",
       "Default Encoding: UTF-8\n",
       "Language: en\n",
       "Country: null\n",
       "--></g></svg>"
      ]
     },
     "execution_count": 19,
     "metadata": {},
     "output_type": "execute_result"
    }
   ],
   "source": [
    "%viz --style=\"LR\" --view=\"Interconnection\" \"DefaultValueTest\""
   ]
  },
  {
   "cell_type": "code",
   "execution_count": 20,
   "id": "c0bf6aa6",
   "metadata": {
    "execution": {
     "iopub.execute_input": "2024-12-16T14:21:28.530983Z",
     "iopub.status.busy": "2024-12-16T14:21:28.530763Z",
     "iopub.status.idle": "2024-12-16T14:21:28.536402Z",
     "shell.execute_reply": "2024-12-16T14:21:28.536219Z"
    }
   },
   "outputs": [
    {
     "data": {
      "image/svg+xml": [
       "<?xml version=\"1.0\" encoding=\"UTF-8\" standalone=\"no\"?><svg xmlns=\"http://www.w3.org/2000/svg\" xmlns:xlink=\"http://www.w3.org/1999/xlink\" contentStyleType=\"text/css\" height=\"10px\" preserveAspectRatio=\"none\" style=\"width:10px;height:10px;background:#FFFFFF;\" version=\"1.1\" viewBox=\"0 0 10 10\" width=\"10px\" zoomAndPan=\"magnify\"><defs/><g><!--MD5=[a45826aa31d3f335355a0e6fe4d8f867]\n",
       "@startuml\r\n",
       "skin sysmlbw\r\n",
       "skinparam monochrome true\r\n",
       "skinparam wrapWidth 300\r\n",
       "hide circle\r\n",
       "left to right direction\r\n",
       "skinparam ranksep 8\r\n",
       "\r\n",
       "@enduml\r\n",
       "\n",
       "PlantUML version 1.2022.7(Mon Aug 22 17:01:30 UTC 2022)\n",
       "(EPL source distribution)\n",
       "Java Runtime: OpenJDK Runtime Environment\n",
       "JVM: OpenJDK 64-Bit Server VM\n",
       "Default Encoding: UTF-8\n",
       "Language: en\n",
       "Country: null\n",
       "--></g></svg>"
      ]
     },
     "execution_count": 20,
     "metadata": {},
     "output_type": "execute_result"
    }
   ],
   "source": [
    "%viz --style=\"LR\" --view=\"Action\" \"DefaultValueTest\""
   ]
  },
  {
   "cell_type": "code",
   "execution_count": 21,
   "id": "948485bc",
   "metadata": {
    "execution": {
     "iopub.execute_input": "2024-12-16T14:21:28.591593Z",
     "iopub.status.busy": "2024-12-16T14:21:28.591344Z",
     "iopub.status.idle": "2024-12-16T14:21:28.600519Z",
     "shell.execute_reply": "2024-12-16T14:21:28.600321Z"
    }
   },
   "outputs": [
    {
     "data": {
      "image/svg+xml": [
       "<?xml version=\"1.0\" encoding=\"UTF-8\" standalone=\"no\"?><svg xmlns=\"http://www.w3.org/2000/svg\" xmlns:xlink=\"http://www.w3.org/1999/xlink\" contentStyleType=\"text/css\" height=\"10px\" preserveAspectRatio=\"none\" style=\"width:10px;height:10px;background:#FFFFFF;\" version=\"1.1\" viewBox=\"0 0 10 10\" width=\"10px\" zoomAndPan=\"magnify\"><defs/><g><!--MD5=[3d7abb46b795db4c9d99c7acf425de78]\n",
       "@startuml\r\n",
       "skin sysmlbw\r\n",
       "skinparam monochrome true\r\n",
       "skinparam wrapWidth 300\r\n",
       "hide circle\r\n",
       "left to right direction\r\n",
       "skinparam roundcorner 20\r\n",
       "skinparam BoxPadding 20\r\n",
       "skinparam SequenceBoxBackgroundColor #white\r\n",
       "skinparam style strictuml\r\n",
       "skinparam maxMessageSize 100\r\n",
       "\r\n",
       "@enduml\r\n",
       "\n",
       "PlantUML version 1.2022.7(Mon Aug 22 17:01:30 UTC 2022)\n",
       "(EPL source distribution)\n",
       "Java Runtime: OpenJDK Runtime Environment\n",
       "JVM: OpenJDK 64-Bit Server VM\n",
       "Default Encoding: UTF-8\n",
       "Language: en\n",
       "Country: null\n",
       "--></g></svg>"
      ]
     },
     "execution_count": 21,
     "metadata": {},
     "output_type": "execute_result"
    }
   ],
   "source": [
    "%viz --style=\"LR\" --view=\"Sequence\" \"DefaultValueTest\""
   ]
  },
  {
   "cell_type": "code",
   "execution_count": 22,
   "id": "cc13ea89",
   "metadata": {
    "execution": {
     "iopub.execute_input": "2024-12-16T14:21:28.656471Z",
     "iopub.status.busy": "2024-12-16T14:21:28.656232Z",
     "iopub.status.idle": "2024-12-16T14:21:28.683773Z",
     "shell.execute_reply": "2024-12-16T14:21:28.682938Z"
    }
   },
   "outputs": [
    {
     "data": {
      "image/svg+xml": [
       "<?xml version=\"1.0\" encoding=\"UTF-8\" standalone=\"no\"?><svg xmlns=\"http://www.w3.org/2000/svg\" xmlns:xlink=\"http://www.w3.org/1999/xlink\" contentStyleType=\"text/css\" height=\"409px\" preserveAspectRatio=\"none\" style=\"width:350px;height:409px;background:#FFFFFF;\" version=\"1.1\" viewBox=\"0 0 350 409\" width=\"350px\" zoomAndPan=\"magnify\"><defs/><g><!--MD5=[fbc87193dbaf4d95561dea2c320d4a47]\n",
       "cluster E1--><g id=\"cluster_E1\"><a href=\"psysml:7da0ff95-83c9-4c69-ab50-6e4dec268467\" target=\"_top\" title=\"psysml:7da0ff95-83c9-4c69-ab50-6e4dec268467\" xlink:actuate=\"onRequest\" xlink:href=\"psysml:7da0ff95-83c9-4c69-ab50-6e4dec268467\" xlink:show=\"new\" xlink:title=\"psysml:7da0ff95-83c9-4c69-ab50-6e4dec268467\" xlink:type=\"simple\"><polygon fill=\"none\" points=\"16,6,147,6,154,28.2969,333,28.2969,333,402,16,402,16,6\" style=\"stroke:#000000;stroke-width:1.5;\"/><line style=\"stroke:#000000;stroke-width:1.5;\" x1=\"16\" x2=\"154\" y1=\"28.2969\" y2=\"28.2969\"/><text fill=\"#000000\" font-family=\"sans-serif\" font-size=\"14\" font-weight=\"bold\" lengthAdjust=\"spacing\" textLength=\"125\" x=\"20\" y=\"20.9951\">DefaultValueTest</text></a></g><!--MD5=[b4997ac47864f28c2f74865a473b2911]\n",
       "class E2--><a href=\"psysml:98a54266-dd8e-4aee-8801-c30b6645e897\" target=\"_top\" title=\"psysml:98a54266-dd8e-4aee-8801-c30b6645e897\" xlink:actuate=\"onRequest\" xlink:href=\"psysml:98a54266-dd8e-4aee-8801-c30b6645e897\" xlink:show=\"new\" xlink:title=\"psysml:98a54266-dd8e-4aee-8801-c30b6645e897\" xlink:type=\"simple\"><g id=\"elem_E2\"><rect fill=\"#FFFFFF\" height=\"91.3781\" id=\"E2\" style=\"stroke:#181818;stroke-width:0.5;\" width=\"117.0625\" x=\"200\" y=\"109.5\"/><text fill=\"#000000\" font-family=\"sans-serif\" font-size=\"12\" font-style=\"italic\" lengthAdjust=\"spacing\" textLength=\"68\" x=\"224.5313\" y=\"125.6387\">«part  def»</text><text fill=\"#000000\" font-family=\"sans-serif\" font-size=\"14\" lengthAdjust=\"spacing\" textLength=\"9\" x=\"254.0313\" y=\"141.4639\">V</text><line style=\"stroke:#181818;stroke-width:0.5;\" x1=\"201\" x2=\"316.0625\" y1=\"149.7656\" y2=\"149.7656\"/><text fill=\"#000000\" font-family=\"sans-serif\" font-size=\"14\" lengthAdjust=\"spacing\" textLength=\"13\" x=\"206\" y=\"177.2795\">m</text><text fill=\"#000000\" font-family=\"sans-serif\" font-size=\"14\" font-weight=\"bold\" lengthAdjust=\"spacing\" textLength=\"50.0625\" x=\"223\" y=\"177.2795\">default</text><text fill=\"#000000\" font-family=\"sans-serif\" font-size=\"14\" lengthAdjust=\"spacing\" textLength=\"34\" x=\"277.0625\" y=\"177.2795\">= 10</text><text fill=\"#000000\" font-family=\"sans-serif\" font-size=\"14\" lengthAdjust=\"spacing\" textLength=\"47\" x=\"206\" y=\"193.5764\">n = 20</text><text fill=\"#000000\" font-family=\"sans-serif\" font-size=\"14\" font-style=\"italic\" lengthAdjust=\"spacing\" textLength=\"66\" x=\"225.5313\" y=\"162.1123\">attributes</text></g></a><!--MD5=[09b614a08d8cba4a07c9adeb5e0fee81]\n",
       "class E3--><a href=\"psysml:f9c62a8d-8a1e-4486-94b1-ee59692b29ae\" target=\"_top\" title=\"psysml:f9c62a8d-8a1e-4486-94b1-ee59692b29ae\" xlink:actuate=\"onRequest\" xlink:href=\"psysml:f9c62a8d-8a1e-4486-94b1-ee59692b29ae\" xlink:show=\"new\" xlink:title=\"psysml:f9c62a8d-8a1e-4486-94b1-ee59692b29ae\" xlink:type=\"simple\"><g id=\"elem_E3\"><rect fill=\"#FFFFFF\" height=\"91.3781\" id=\"E3\" rx=\"10\" ry=\"10\" style=\"stroke:#181818;stroke-width:0.5;\" width=\"74\" x=\"49\" y=\"41.5\"/><text fill=\"#000000\" font-family=\"sans-serif\" font-size=\"12\" font-style=\"italic\" lengthAdjust=\"spacing\" textLength=\"40\" x=\"66\" y=\"57.6387\">«part»</text><text fill=\"#000000\" font-family=\"sans-serif\" font-size=\"14\" lengthAdjust=\"spacing\" textLength=\"34\" x=\"65\" y=\"73.4639\">v1: V</text><line style=\"stroke:#181818;stroke-width:0.5;\" x1=\"50\" x2=\"122\" y1=\"81.7656\" y2=\"81.7656\"/><text fill=\"#000000\" font-family=\"sans-serif\" font-size=\"14\" lengthAdjust=\"spacing\" textLength=\"51\" x=\"55\" y=\"109.2795\">m = 20</text><text fill=\"#000000\" font-family=\"sans-serif\" font-size=\"14\" font-style=\"italic\" lengthAdjust=\"spacing\" textLength=\"61\" x=\"55\" y=\"125.5764\">:&gt;&gt;V::m</text><text fill=\"#000000\" font-family=\"sans-serif\" font-size=\"14\" font-style=\"italic\" lengthAdjust=\"spacing\" textLength=\"66\" x=\"53\" y=\"94.1123\">attributes</text></g></a><!--MD5=[ebbe1d658d1005bcc118a6aa81145e00]\n",
       "class E4--><a href=\"psysml:ad7d8f37-2b75-4e7f-880b-981718b0db98\" target=\"_top\" title=\"psysml:ad7d8f37-2b75-4e7f-880b-981718b0db98\" xlink:actuate=\"onRequest\" xlink:href=\"psysml:ad7d8f37-2b75-4e7f-880b-981718b0db98\" xlink:show=\"new\" xlink:title=\"psysml:ad7d8f37-2b75-4e7f-880b-981718b0db98\" xlink:type=\"simple\"><g id=\"elem_E4\"><rect fill=\"#FFFFFF\" height=\"107.675\" id=\"E4\" style=\"stroke:#181818;stroke-width:0.5;\" width=\"108.0625\" x=\"32\" y=\"168\"/><text fill=\"#000000\" font-family=\"sans-serif\" font-size=\"12\" font-style=\"italic\" lengthAdjust=\"spacing\" textLength=\"68\" x=\"52.0313\" y=\"184.1387\">«part  def»</text><text fill=\"#000000\" font-family=\"sans-serif\" font-size=\"14\" lengthAdjust=\"spacing\" textLength=\"13\" x=\"79.5313\" y=\"199.9639\">W</text><line style=\"stroke:#181818;stroke-width:0.5;\" x1=\"33\" x2=\"139.0625\" y1=\"208.2656\" y2=\"208.2656\"/><text fill=\"#000000\" font-family=\"sans-serif\" font-size=\"14\" lengthAdjust=\"spacing\" textLength=\"13\" x=\"38\" y=\"235.7795\">m</text><text fill=\"#000000\" font-family=\"sans-serif\" font-size=\"14\" font-weight=\"bold\" lengthAdjust=\"spacing\" textLength=\"50.0625\" x=\"55\" y=\"235.7795\">default</text><text fill=\"#000000\" font-family=\"sans-serif\" font-size=\"14\" lengthAdjust=\"spacing\" textLength=\"25\" x=\"109.0625\" y=\"235.7795\">= n</text><text fill=\"#000000\" font-family=\"sans-serif\" font-size=\"14\" font-style=\"italic\" lengthAdjust=\"spacing\" textLength=\"61\" x=\"38\" y=\"252.0764\">:&gt;&gt;V::m</text><text fill=\"#000000\" font-family=\"sans-serif\" font-size=\"14\" lengthAdjust=\"spacing\" textLength=\"59\" x=\"38\" y=\"268.3732\">^n = 20</text><text fill=\"#000000\" font-family=\"sans-serif\" font-size=\"14\" font-style=\"italic\" lengthAdjust=\"spacing\" textLength=\"66\" x=\"53.0313\" y=\"220.6123\">attributes</text></g></a><!--MD5=[270fce915f116d4de14055a7c1d9a0f3]\n",
       "class E5--><a href=\"psysml:fd52748d-5cd7-4973-9bed-274bef6831d2\" target=\"_top\" title=\"psysml:fd52748d-5cd7-4973-9bed-274bef6831d2\" xlink:actuate=\"onRequest\" xlink:href=\"psysml:fd52748d-5cd7-4973-9bed-274bef6831d2\" xlink:show=\"new\" xlink:title=\"psysml:fd52748d-5cd7-4973-9bed-274bef6831d2\" xlink:type=\"simple\"><g id=\"elem_E5\"><rect fill=\"#FFFFFF\" height=\"75.0813\" id=\"E5\" rx=\"10\" ry=\"10\" style=\"stroke:#181818;stroke-width:0.5;\" width=\"52\" x=\"60\" y=\"311.5\"/><text fill=\"#000000\" font-family=\"sans-serif\" font-size=\"12\" font-style=\"italic\" lengthAdjust=\"spacing\" textLength=\"40\" x=\"66\" y=\"327.6387\">«part»</text><text fill=\"#000000\" font-family=\"sans-serif\" font-size=\"14\" lengthAdjust=\"spacing\" textLength=\"16\" x=\"74\" y=\"343.4639\">v2</text><line style=\"stroke:#181818;stroke-width:0.5;\" x1=\"61\" x2=\"111\" y1=\"351.7656\" y2=\"351.7656\"/><text fill=\"#000000\" font-family=\"sans-serif\" font-size=\"14\" lengthAdjust=\"spacing\" textLength=\"39\" x=\"66\" y=\"379.2795\">= W()</text><text fill=\"#000000\" font-family=\"sans-serif\" font-size=\"14\" font-style=\"italic\" lengthAdjust=\"spacing\" textLength=\"44\" x=\"64\" y=\"364.1123\">values</text></g></a><!--MD5=[05d275557350bfb9b23a4ef7222b4c39]\n",
       "link E3 to E2--><g id=\"link_E3_E2\"><a href=\"psysml:1a78d8f2-030e-492a-8201-32cffefdc08b\" target=\"_top\" title=\"psysml:1a78d8f2-030e-492a-8201-32cffefdc08b\" xlink:actuate=\"onRequest\" xlink:href=\"psysml:1a78d8f2-030e-492a-8201-32cffefdc08b\" xlink:show=\"new\" xlink:title=\"psysml:1a78d8f2-030e-492a-8201-32cffefdc08b\" xlink:type=\"simple\"><path d=\"M123.16,101.42 C140.14,108.19 161.05,116.53 181.28,124.6 \" fill=\"none\" id=\"E3-to-E2\" style=\"stroke:#181818;stroke-width:1.0;\"/><polygon fill=\"#FFFFFF\" points=\"199.93,132.04,179.6888,131.4963,184.8797,118.4942,199.93,132.04\" style=\"stroke:#181818;stroke-width:1.0;\"/><ellipse cx=\"175.1367\" cy=\"127.5255\" fill=\"#181818\" rx=\"2\" ry=\"2\" style=\"stroke:#181818;stroke-width:1.0;\"/><ellipse cx=\"178.8444\" cy=\"118.2382\" fill=\"#181818\" rx=\"2\" ry=\"2\" style=\"stroke:#181818;stroke-width:1.0;\"/></a></g><!--MD5=[185131fc0dcab0a4505a2ebe144e961b]\n",
       "link E4 to E2--><g id=\"link_E4_E2\"><a href=\"psysml:5695b7ea-3fef-47ac-8247-2c32b379aa0a\" target=\"_top\" title=\"psysml:5695b7ea-3fef-47ac-8247-2c32b379aa0a\" xlink:actuate=\"onRequest\" xlink:href=\"psysml:5695b7ea-3fef-47ac-8247-2c32b379aa0a\" xlink:show=\"new\" xlink:title=\"psysml:5695b7ea-3fef-47ac-8247-2c32b379aa0a\" xlink:type=\"simple\"><path d=\"M140.01,201.17 C152.9,196.1 166.95,190.58 180.69,185.18 \" fill=\"none\" id=\"E4-to-E2\" style=\"stroke:#181818;stroke-width:1.0;\"/><polygon fill=\"none\" points=\"178.61,178.48,199.78,177.68,183.73,191.51,178.61,178.48\" style=\"stroke:#181818;stroke-width:1.0;\"/></a></g><!--MD5=[ee8c71dc99ae3e684fe25c3008334f67]\n",
       "@startuml\r\n",
       "skin sysmlbw\r\n",
       "skinparam monochrome true\r\n",
       "skinparam wrapWidth 300\r\n",
       "hide circle\r\n",
       "left to right direction\r\n",
       "\r\n",
       "package \"DefaultValueTest\" as E1  [[psysml:7da0ff95-83c9-4c69-ab50-6e4dec268467 ]]  {\r\n",
       "comp def \"V\" as E2  <<(T,blue) part  def>> [[psysml:98a54266-dd8e-4aee-8801-c30b6645e897 ]] {\r\n",
       "##//attributes//##\r\n",
       "m<b> default </b><U+003D> 10\r\n",
       "n <U+003D> 20\r\n",
       "}\r\n",
       "comp usage \"v1: V  \" as E3  <<(T,blue) part>> [[psysml:f9c62a8d-8a1e-4486-94b1-ee59692b29ae ]] {\r\n",
       "##//attributes//##\r\n",
       "m <U+003D> 20\\n//:>>V::m// \r\n",
       "}\r\n",
       "comp def \"W\" as E4  <<(T,blue) part  def>> [[psysml:ad7d8f37-2b75-4e7f-880b-981718b0db98 ]] {\r\n",
       "##//attributes//##\r\n",
       "m<b> default </b><U+003D> n\\n//:>>V::m// \r\n",
       "^n <U+003D> 20\r\n",
       "}\r\n",
       "comp usage \"v2  \" as E5  <<(T,blue) part>> [[psysml:fd52748d-5cd7-4973-9bed-274bef6831d2 ]] {\r\n",
       "##//values//##\r\n",
       " <U+003D> W()\r\n",
       "}\r\n",
       "}\r\n",
       "E3 - -:|> E2 [[psysml:1a78d8f2-030e-492a-8201-32cffefdc08b ]] \r\n",
       "E4 - -|> E2 [[psysml:5695b7ea-3fef-47ac-8247-2c32b379aa0a ]] \r\n",
       "@enduml\r\n",
       "\n",
       "PlantUML version 1.2022.7(Mon Aug 22 17:01:30 UTC 2022)\n",
       "(EPL source distribution)\n",
       "Java Runtime: OpenJDK Runtime Environment\n",
       "JVM: OpenJDK 64-Bit Server VM\n",
       "Default Encoding: UTF-8\n",
       "Language: en\n",
       "Country: null\n",
       "--></g></svg>"
      ]
     },
     "execution_count": 22,
     "metadata": {},
     "output_type": "execute_result"
    }
   ],
   "source": [
    "%viz --style=\"LR\" --view=\"MIXED\" \"DefaultValueTest\""
   ]
  },
  {
   "cell_type": "code",
   "execution_count": 23,
   "id": "7ec42986",
   "metadata": {
    "execution": {
     "iopub.execute_input": "2024-12-16T14:21:28.739816Z",
     "iopub.status.busy": "2024-12-16T14:21:28.739591Z",
     "iopub.status.idle": "2024-12-16T14:21:28.785873Z",
     "shell.execute_reply": "2024-12-16T14:21:28.784719Z"
    }
   },
   "outputs": [
    {
     "data": {
      "image/svg+xml": [
       "<?xml version=\"1.0\" encoding=\"UTF-8\" standalone=\"no\"?><svg xmlns=\"http://www.w3.org/2000/svg\" xmlns:xlink=\"http://www.w3.org/1999/xlink\" contentStyleType=\"text/css\" height=\"308px\" preserveAspectRatio=\"none\" style=\"width:471px;height:308px;background:#FFFFFF;\" version=\"1.1\" viewBox=\"0 0 471 308\" width=\"471px\" zoomAndPan=\"magnify\"><defs><filter height=\"300%\" id=\"f2kurjuuw8dh7\" width=\"300%\" x=\"-1\" y=\"-1\"><feGaussianBlur result=\"blurOut\" stdDeviation=\"2.0\"/><feColorMatrix in=\"blurOut\" result=\"blurOut2\" type=\"matrix\" values=\"0 0 0 0 0 0 0 0 0 0 0 0 0 0 0 0 0 0 .4 0\"/><feOffset dx=\"4.0\" dy=\"4.0\" in=\"blurOut2\" result=\"blurOut3\"/><feBlend in=\"SourceGraphic\" in2=\"blurOut3\" mode=\"normal\"/></filter></defs><g><!--MD5=[fbc87193dbaf4d95561dea2c320d4a47]\n",
       "cluster E1--><g id=\"cluster_E1\"><a href=\"psysml:7da0ff95-83c9-4c69-ab50-6e4dec268467\" target=\"_top\" title=\"psysml:7da0ff95-83c9-4c69-ab50-6e4dec268467\" xlink:actuate=\"onRequest\" xlink:href=\"psysml:7da0ff95-83c9-4c69-ab50-6e4dec268467\" xlink:show=\"new\" xlink:title=\"psysml:7da0ff95-83c9-4c69-ab50-6e4dec268467\" xlink:type=\"simple\"><polygon fill=\"none\" filter=\"url(#f2kurjuuw8dh7)\" points=\"16,6,147,6,154,28.2969,454,28.2969,454,301,16,301,16,6\" style=\"stroke:#000000;stroke-width:1.5;\"/><line style=\"stroke:#000000;stroke-width:1.5;\" x1=\"16\" x2=\"154\" y1=\"28.2969\" y2=\"28.2969\"/><text fill=\"#000000\" font-family=\"sans-serif\" font-size=\"14\" font-weight=\"bold\" lengthAdjust=\"spacing\" textLength=\"125\" x=\"20\" y=\"20.9951\">DefaultValueTest</text></a></g><!--MD5=[b4997ac47864f28c2f74865a473b2911]\n",
       "class E2--><a href=\"psysml:98a54266-dd8e-4aee-8801-c30b6645e897\" target=\"_top\" title=\"psysml:98a54266-dd8e-4aee-8801-c30b6645e897\" xlink:actuate=\"onRequest\" xlink:href=\"psysml:98a54266-dd8e-4aee-8801-c30b6645e897\" xlink:show=\"new\" xlink:title=\"psysml:98a54266-dd8e-4aee-8801-c30b6645e897\" xlink:type=\"simple\"><g id=\"elem_E2\"><rect fill=\"#FFFACD\" filter=\"url(#f2kurjuuw8dh7)\" height=\"91.3781\" id=\"E2\" style=\"stroke:#181818;stroke-width:0.5;\" width=\"117.0625\" x=\"230.5\" y=\"194\"/><text fill=\"#000000\" font-family=\"sans-serif\" font-size=\"12\" font-style=\"italic\" lengthAdjust=\"spacing\" textLength=\"68\" x=\"255.0313\" y=\"210.1387\">«part  def»</text><text fill=\"#000000\" font-family=\"sans-serif\" font-size=\"14\" lengthAdjust=\"spacing\" textLength=\"9\" x=\"284.5313\" y=\"225.9639\">V</text><line style=\"stroke:#181818;stroke-width:0.5;\" x1=\"231.5\" x2=\"346.5625\" y1=\"234.2656\" y2=\"234.2656\"/><text fill=\"#000000\" font-family=\"sans-serif\" font-size=\"14\" lengthAdjust=\"spacing\" textLength=\"13\" x=\"236.5\" y=\"261.7795\">m</text><text fill=\"#000000\" font-family=\"sans-serif\" font-size=\"14\" font-weight=\"bold\" lengthAdjust=\"spacing\" textLength=\"50.0625\" x=\"253.5\" y=\"261.7795\">default</text><text fill=\"#000000\" font-family=\"sans-serif\" font-size=\"14\" lengthAdjust=\"spacing\" textLength=\"34\" x=\"307.5625\" y=\"261.7795\">= 10</text><text fill=\"#000000\" font-family=\"sans-serif\" font-size=\"14\" lengthAdjust=\"spacing\" textLength=\"47\" x=\"236.5\" y=\"278.0764\">n = 20</text><text fill=\"#000000\" font-family=\"sans-serif\" font-size=\"14\" font-style=\"italic\" lengthAdjust=\"spacing\" textLength=\"66\" x=\"256.0313\" y=\"246.6123\">attributes</text></g></a><!--MD5=[09b614a08d8cba4a07c9adeb5e0fee81]\n",
       "class E3--><a href=\"psysml:f9c62a8d-8a1e-4486-94b1-ee59692b29ae\" target=\"_top\" title=\"psysml:f9c62a8d-8a1e-4486-94b1-ee59692b29ae\" xlink:actuate=\"onRequest\" xlink:href=\"psysml:f9c62a8d-8a1e-4486-94b1-ee59692b29ae\" xlink:show=\"new\" xlink:title=\"psysml:f9c62a8d-8a1e-4486-94b1-ee59692b29ae\" xlink:type=\"simple\"><g id=\"elem_E3\"><rect fill=\"#FFFACD\" filter=\"url(#f2kurjuuw8dh7)\" height=\"76.2844\" id=\"E3\" rx=\"10\" ry=\"10\" style=\"stroke:#181818;stroke-width:0.5;\" width=\"119\" x=\"318.5\" y=\"49.5\"/><text fill=\"#000000\" font-family=\"sans-serif\" font-size=\"12\" font-style=\"italic\" lengthAdjust=\"spacing\" textLength=\"40\" x=\"358\" y=\"65.6387\">«part»</text><text fill=\"#000000\" font-family=\"sans-serif\" font-size=\"14\" lengthAdjust=\"spacing\" textLength=\"34\" x=\"357\" y=\"81.4639\">v1: V</text><line style=\"stroke:#181818;stroke-width:0.5;\" x1=\"319.5\" x2=\"436.5\" y1=\"89.7656\" y2=\"89.7656\"/><path d=\"M326.6667,105.451 L326.6667,117.1177 L327.8333,117.1177 L327.8333,105.451 M330.1667,105.451 L330.1667,117.1177 L339.5,111.2844 L330.1667,105.451 L331.3333,107.201 L337.75,111.2844 L331.3333,115.3677 L331.3333,107.201 \" fill=\"#000000\" style=\"stroke:;stroke-width:0.0;stroke-dasharray:;\"/><text fill=\"#000000\" font-family=\"sans-serif\" font-size=\"14\" lengthAdjust=\"spacing\" textLength=\"51\" x=\"344.5\" y=\"118.4826\">m = 20</text><text fill=\"#000000\" font-family=\"sans-serif\" font-size=\"14\" lengthAdjust=\"spacing\" text-decoration=\"line-through\" textLength=\"32\" x=\"399.5\" y=\"118.4826\">V::m</text><text fill=\"#000000\" font-family=\"sans-serif\" font-size=\"14\" font-style=\"italic\" lengthAdjust=\"spacing\" textLength=\"66\" x=\"345\" y=\"102.1123\">attributes</text></g></a><!--MD5=[ebbe1d658d1005bcc118a6aa81145e00]\n",
       "class E4--><a href=\"psysml:ad7d8f37-2b75-4e7f-880b-981718b0db98\" target=\"_top\" title=\"psysml:ad7d8f37-2b75-4e7f-880b-981718b0db98\" xlink:actuate=\"onRequest\" xlink:href=\"psysml:ad7d8f37-2b75-4e7f-880b-981718b0db98\" xlink:show=\"new\" xlink:title=\"psysml:ad7d8f37-2b75-4e7f-880b-981718b0db98\" xlink:type=\"simple\"><g id=\"elem_E4\"><rect fill=\"#FFFACD\" filter=\"url(#f2kurjuuw8dh7)\" height=\"92.5813\" id=\"E4\" style=\"stroke:#181818;stroke-width:0.5;\" width=\"164.0625\" x=\"119\" y=\"41\"/><text fill=\"#000000\" font-family=\"sans-serif\" font-size=\"12\" font-style=\"italic\" lengthAdjust=\"spacing\" textLength=\"68\" x=\"167.0313\" y=\"57.1387\">«part  def»</text><text fill=\"#000000\" font-family=\"sans-serif\" font-size=\"14\" lengthAdjust=\"spacing\" textLength=\"13\" x=\"194.5313\" y=\"72.9639\">W</text><line style=\"stroke:#181818;stroke-width:0.5;\" x1=\"120\" x2=\"282.0625\" y1=\"81.2656\" y2=\"81.2656\"/><path d=\"M127.1667,96.951 L127.1667,108.6177 L128.3333,108.6177 L128.3333,96.951 M130.6667,96.951 L130.6667,108.6177 L140,102.7844 L130.6667,96.951 L131.8333,98.701 L138.25,102.7844 L131.8333,106.8677 L131.8333,98.701 \" fill=\"#000000\" style=\"stroke:;stroke-width:0.0;stroke-dasharray:;\"/><text fill=\"#000000\" font-family=\"sans-serif\" font-size=\"14\" lengthAdjust=\"spacing\" textLength=\"13\" x=\"145\" y=\"109.9826\">m</text><text fill=\"#000000\" font-family=\"sans-serif\" font-size=\"14\" font-weight=\"bold\" lengthAdjust=\"spacing\" textLength=\"50.0625\" x=\"162\" y=\"109.9826\">default</text><text fill=\"#000000\" font-family=\"sans-serif\" font-size=\"14\" lengthAdjust=\"spacing\" textLength=\"25\" x=\"216.0625\" y=\"109.9826\">= n</text><text fill=\"#000000\" font-family=\"sans-serif\" font-size=\"14\" lengthAdjust=\"spacing\" text-decoration=\"line-through\" textLength=\"32\" x=\"245.0625\" y=\"109.9826\">V::m</text><text fill=\"#000000\" font-family=\"sans-serif\" font-size=\"14\" lengthAdjust=\"spacing\" textLength=\"59\" x=\"125\" y=\"126.2795\">^n = 20</text><text fill=\"#000000\" font-family=\"sans-serif\" font-size=\"14\" font-style=\"italic\" lengthAdjust=\"spacing\" textLength=\"66\" x=\"168.0313\" y=\"93.6123\">attributes</text></g></a><!--MD5=[270fce915f116d4de14055a7c1d9a0f3]\n",
       "class E5--><a href=\"psysml:fd52748d-5cd7-4973-9bed-274bef6831d2\" target=\"_top\" title=\"psysml:fd52748d-5cd7-4973-9bed-274bef6831d2\" xlink:actuate=\"onRequest\" xlink:href=\"psysml:fd52748d-5cd7-4973-9bed-274bef6831d2\" xlink:show=\"new\" xlink:title=\"psysml:fd52748d-5cd7-4973-9bed-274bef6831d2\" xlink:type=\"simple\"><g id=\"elem_E5\"><rect fill=\"#FFFACD\" filter=\"url(#f2kurjuuw8dh7)\" height=\"75.0813\" id=\"E5\" rx=\"10\" ry=\"10\" style=\"stroke:#181818;stroke-width:0.5;\" width=\"52\" x=\"32\" y=\"50\"/><text fill=\"#000000\" font-family=\"sans-serif\" font-size=\"12\" font-style=\"italic\" lengthAdjust=\"spacing\" textLength=\"40\" x=\"38\" y=\"66.1387\">«part»</text><text fill=\"#000000\" font-family=\"sans-serif\" font-size=\"14\" lengthAdjust=\"spacing\" textLength=\"16\" x=\"46\" y=\"81.9639\">v2</text><line style=\"stroke:#181818;stroke-width:0.5;\" x1=\"33\" x2=\"83\" y1=\"90.2656\" y2=\"90.2656\"/><text fill=\"#000000\" font-family=\"sans-serif\" font-size=\"14\" lengthAdjust=\"spacing\" textLength=\"39\" x=\"38\" y=\"117.7795\">= W()</text><text fill=\"#000000\" font-family=\"sans-serif\" font-size=\"14\" font-style=\"italic\" lengthAdjust=\"spacing\" textLength=\"44\" x=\"36\" y=\"102.6123\">values</text></g></a><!--MD5=[05d275557350bfb9b23a4ef7222b4c39]\n",
       "link E3 to E2--><g id=\"link_E3_E2\"><a href=\"psysml:1a78d8f2-030e-492a-8201-32cffefdc08b\" target=\"_top\" title=\"psysml:1a78d8f2-030e-492a-8201-32cffefdc08b\" xlink:actuate=\"onRequest\" xlink:href=\"psysml:1a78d8f2-030e-492a-8201-32cffefdc08b\" xlink:show=\"new\" xlink:title=\"psysml:1a78d8f2-030e-492a-8201-32cffefdc08b\" xlink:type=\"simple\"><path d=\"M356,125.58 C346.86,140.98 336,159.29 325.71,176.62 \" fill=\"none\" id=\"E3-to-E2\" style=\"stroke:#181818;stroke-width:1.0;\"/><polygon fill=\"#FFFFFF\" points=\"315.5,193.83,319.1828,173.9193,331.2202,181.0677,315.5,193.83\" style=\"stroke:#181818;stroke-width:1.0;\"/><ellipse cx=\"323.8129\" cy=\"170.0395\" fill=\"#181818\" rx=\"2\" ry=\"2\" style=\"stroke:#181818;stroke-width:1.0;\"/><ellipse cx=\"332.411\" cy=\"175.1456\" fill=\"#181818\" rx=\"2\" ry=\"2\" style=\"stroke:#181818;stroke-width:1.0;\"/></a></g><!--MD5=[185131fc0dcab0a4505a2ebe144e961b]\n",
       "link E4 to E2--><g id=\"link_E4_E2\"><a href=\"psysml:5695b7ea-3fef-47ac-8247-2c32b379aa0a\" target=\"_top\" title=\"psysml:5695b7ea-3fef-47ac-8247-2c32b379aa0a\" xlink:actuate=\"onRequest\" xlink:href=\"psysml:5695b7ea-3fef-47ac-8247-2c32b379aa0a\" xlink:show=\"new\" xlink:title=\"psysml:5695b7ea-3fef-47ac-8247-2c32b379aa0a\" xlink:type=\"simple\"><path d=\"M227.88,134.32 C235.7,147.65 244.37,162.43 252.67,176.57 \" fill=\"none\" id=\"E4-to-E2\" style=\"stroke:#181818;stroke-width:1.0;\"/><polygon fill=\"none\" points=\"258.8,173.2,262.89,193.99,246.73,180.28,258.8,173.2\" style=\"stroke:#181818;stroke-width:1.0;\"/></a></g><!--MD5=[4950f2049e033520b2d01bf9bdc91804]\n",
       "@startuml\r\n",
       "skin sysmlc\r\n",
       "skinparam wrapWidth 300\r\n",
       "hide circle\r\n",
       "\r\n",
       "package \"DefaultValueTest\" as E1  [[psysml:7da0ff95-83c9-4c69-ab50-6e4dec268467 ]]  {\r\n",
       "comp def \"V\" as E2  <<(T,blue) part  def>> [[psysml:98a54266-dd8e-4aee-8801-c30b6645e897 ]] {\r\n",
       "##//attributes//##\r\n",
       "m<b> default </b><U+003D> 10\r\n",
       "n <U+003D> 20\r\n",
       "}\r\n",
       "comp usage \"v1: V  \" as E3  <<(T,blue) part>> [[psysml:f9c62a8d-8a1e-4486-94b1-ee59692b29ae ]] {\r\n",
       "##//attributes//##\r\n",
       "<&bar-trig> m <U+003D> 20 <s>V::m</s>\r\n",
       "}\r\n",
       "comp def \"W\" as E4  <<(T,blue) part  def>> [[psysml:ad7d8f37-2b75-4e7f-880b-981718b0db98 ]] {\r\n",
       "##//attributes//##\r\n",
       "<&bar-trig> m<b> default </b><U+003D> n <s>V::m</s>\r\n",
       "^n <U+003D> 20\r\n",
       "}\r\n",
       "comp usage \"v2  \" as E5  <<(T,blue) part>> [[psysml:fd52748d-5cd7-4973-9bed-274bef6831d2 ]] {\r\n",
       "##//values//##\r\n",
       " <U+003D> W()\r\n",
       "}\r\n",
       "}\r\n",
       "E3 - -:|> E2 [[psysml:1a78d8f2-030e-492a-8201-32cffefdc08b ]] \r\n",
       "E4 - -|> E2 [[psysml:5695b7ea-3fef-47ac-8247-2c32b379aa0a ]] \r\n",
       "@enduml\r\n",
       "\n",
       "PlantUML version 1.2022.7(Mon Aug 22 17:01:30 UTC 2022)\n",
       "(EPL source distribution)\n",
       "Java Runtime: OpenJDK Runtime Environment\n",
       "JVM: OpenJDK 64-Bit Server VM\n",
       "Default Encoding: UTF-8\n",
       "Language: en\n",
       "Country: null\n",
       "--></g></svg>"
      ]
     },
     "execution_count": 23,
     "metadata": {},
     "output_type": "execute_result"
    }
   ],
   "source": [
    "%viz --style=\"STDCOLOR\" --view=\"Default\" \"DefaultValueTest\""
   ]
  },
  {
   "cell_type": "code",
   "execution_count": 24,
   "id": "a7302858",
   "metadata": {
    "execution": {
     "iopub.execute_input": "2024-12-16T14:21:28.838999Z",
     "iopub.status.busy": "2024-12-16T14:21:28.838727Z",
     "iopub.status.idle": "2024-12-16T14:21:28.876432Z",
     "shell.execute_reply": "2024-12-16T14:21:28.875511Z"
    }
   },
   "outputs": [
    {
     "data": {
      "image/svg+xml": [
       "<?xml version=\"1.0\" encoding=\"UTF-8\" standalone=\"no\"?><svg xmlns=\"http://www.w3.org/2000/svg\" xmlns:xlink=\"http://www.w3.org/1999/xlink\" contentStyleType=\"text/css\" height=\"308px\" preserveAspectRatio=\"none\" style=\"width:471px;height:308px;background:#FFFFFF;\" version=\"1.1\" viewBox=\"0 0 471 308\" width=\"471px\" zoomAndPan=\"magnify\"><defs><filter height=\"300%\" id=\"f2kurjuuw8dh7\" width=\"300%\" x=\"-1\" y=\"-1\"><feGaussianBlur result=\"blurOut\" stdDeviation=\"2.0\"/><feColorMatrix in=\"blurOut\" result=\"blurOut2\" type=\"matrix\" values=\"0 0 0 0 0 0 0 0 0 0 0 0 0 0 0 0 0 0 .4 0\"/><feOffset dx=\"4.0\" dy=\"4.0\" in=\"blurOut2\" result=\"blurOut3\"/><feBlend in=\"SourceGraphic\" in2=\"blurOut3\" mode=\"normal\"/></filter></defs><g><!--MD5=[fbc87193dbaf4d95561dea2c320d4a47]\n",
       "cluster E1--><g id=\"cluster_E1\"><a href=\"psysml:7da0ff95-83c9-4c69-ab50-6e4dec268467\" target=\"_top\" title=\"psysml:7da0ff95-83c9-4c69-ab50-6e4dec268467\" xlink:actuate=\"onRequest\" xlink:href=\"psysml:7da0ff95-83c9-4c69-ab50-6e4dec268467\" xlink:show=\"new\" xlink:title=\"psysml:7da0ff95-83c9-4c69-ab50-6e4dec268467\" xlink:type=\"simple\"><polygon fill=\"none\" filter=\"url(#f2kurjuuw8dh7)\" points=\"16,6,147,6,154,28.2969,454,28.2969,454,301,16,301,16,6\" style=\"stroke:#000000;stroke-width:1.5;\"/><line style=\"stroke:#000000;stroke-width:1.5;\" x1=\"16\" x2=\"154\" y1=\"28.2969\" y2=\"28.2969\"/><text fill=\"#000000\" font-family=\"sans-serif\" font-size=\"14\" font-weight=\"bold\" lengthAdjust=\"spacing\" textLength=\"125\" x=\"20\" y=\"20.9951\">DefaultValueTest</text></a></g><!--MD5=[b4997ac47864f28c2f74865a473b2911]\n",
       "class E2--><a href=\"psysml:98a54266-dd8e-4aee-8801-c30b6645e897\" target=\"_top\" title=\"psysml:98a54266-dd8e-4aee-8801-c30b6645e897\" xlink:actuate=\"onRequest\" xlink:href=\"psysml:98a54266-dd8e-4aee-8801-c30b6645e897\" xlink:show=\"new\" xlink:title=\"psysml:98a54266-dd8e-4aee-8801-c30b6645e897\" xlink:type=\"simple\"><g id=\"elem_E2\"><rect fill=\"#FFFACD\" filter=\"url(#f2kurjuuw8dh7)\" height=\"91.3781\" id=\"E2\" style=\"stroke:#181818;stroke-width:0.5;\" width=\"117.0625\" x=\"230.5\" y=\"194\"/><text fill=\"#000000\" font-family=\"sans-serif\" font-size=\"12\" font-style=\"italic\" lengthAdjust=\"spacing\" textLength=\"68\" x=\"255.0313\" y=\"210.1387\">«part  def»</text><text fill=\"#000000\" font-family=\"sans-serif\" font-size=\"14\" lengthAdjust=\"spacing\" textLength=\"9\" x=\"284.5313\" y=\"225.9639\">V</text><line style=\"stroke:#181818;stroke-width:0.5;\" x1=\"231.5\" x2=\"346.5625\" y1=\"234.2656\" y2=\"234.2656\"/><text fill=\"#000000\" font-family=\"sans-serif\" font-size=\"14\" lengthAdjust=\"spacing\" textLength=\"13\" x=\"236.5\" y=\"261.7795\">m</text><text fill=\"#000000\" font-family=\"sans-serif\" font-size=\"14\" font-weight=\"bold\" lengthAdjust=\"spacing\" textLength=\"50.0625\" x=\"253.5\" y=\"261.7795\">default</text><text fill=\"#000000\" font-family=\"sans-serif\" font-size=\"14\" lengthAdjust=\"spacing\" textLength=\"34\" x=\"307.5625\" y=\"261.7795\">= 10</text><text fill=\"#000000\" font-family=\"sans-serif\" font-size=\"14\" lengthAdjust=\"spacing\" textLength=\"47\" x=\"236.5\" y=\"278.0764\">n = 20</text><text fill=\"#000000\" font-family=\"sans-serif\" font-size=\"14\" font-style=\"italic\" lengthAdjust=\"spacing\" textLength=\"66\" x=\"256.0313\" y=\"246.6123\">attributes</text></g></a><!--MD5=[09b614a08d8cba4a07c9adeb5e0fee81]\n",
       "class E3--><a href=\"psysml:f9c62a8d-8a1e-4486-94b1-ee59692b29ae\" target=\"_top\" title=\"psysml:f9c62a8d-8a1e-4486-94b1-ee59692b29ae\" xlink:actuate=\"onRequest\" xlink:href=\"psysml:f9c62a8d-8a1e-4486-94b1-ee59692b29ae\" xlink:show=\"new\" xlink:title=\"psysml:f9c62a8d-8a1e-4486-94b1-ee59692b29ae\" xlink:type=\"simple\"><g id=\"elem_E3\"><rect fill=\"#FFFACD\" filter=\"url(#f2kurjuuw8dh7)\" height=\"76.2844\" id=\"E3\" rx=\"10\" ry=\"10\" style=\"stroke:#181818;stroke-width:0.5;\" width=\"119\" x=\"318.5\" y=\"49.5\"/><text fill=\"#000000\" font-family=\"sans-serif\" font-size=\"12\" font-style=\"italic\" lengthAdjust=\"spacing\" textLength=\"40\" x=\"358\" y=\"65.6387\">«part»</text><text fill=\"#000000\" font-family=\"sans-serif\" font-size=\"14\" lengthAdjust=\"spacing\" textLength=\"34\" x=\"357\" y=\"81.4639\">v1: V</text><line style=\"stroke:#181818;stroke-width:0.5;\" x1=\"319.5\" x2=\"436.5\" y1=\"89.7656\" y2=\"89.7656\"/><path d=\"M326.6667,105.451 L326.6667,117.1177 L327.8333,117.1177 L327.8333,105.451 M330.1667,105.451 L330.1667,117.1177 L339.5,111.2844 L330.1667,105.451 L331.3333,107.201 L337.75,111.2844 L331.3333,115.3677 L331.3333,107.201 \" fill=\"#000000\" style=\"stroke:;stroke-width:0.0;stroke-dasharray:;\"/><text fill=\"#000000\" font-family=\"sans-serif\" font-size=\"14\" lengthAdjust=\"spacing\" textLength=\"51\" x=\"344.5\" y=\"118.4826\">m = 20</text><text fill=\"#000000\" font-family=\"sans-serif\" font-size=\"14\" lengthAdjust=\"spacing\" text-decoration=\"line-through\" textLength=\"32\" x=\"399.5\" y=\"118.4826\">V::m</text><text fill=\"#000000\" font-family=\"sans-serif\" font-size=\"14\" font-style=\"italic\" lengthAdjust=\"spacing\" textLength=\"66\" x=\"345\" y=\"102.1123\">attributes</text></g></a><!--MD5=[ebbe1d658d1005bcc118a6aa81145e00]\n",
       "class E4--><a href=\"psysml:ad7d8f37-2b75-4e7f-880b-981718b0db98\" target=\"_top\" title=\"psysml:ad7d8f37-2b75-4e7f-880b-981718b0db98\" xlink:actuate=\"onRequest\" xlink:href=\"psysml:ad7d8f37-2b75-4e7f-880b-981718b0db98\" xlink:show=\"new\" xlink:title=\"psysml:ad7d8f37-2b75-4e7f-880b-981718b0db98\" xlink:type=\"simple\"><g id=\"elem_E4\"><rect fill=\"#FFFACD\" filter=\"url(#f2kurjuuw8dh7)\" height=\"92.5813\" id=\"E4\" style=\"stroke:#181818;stroke-width:0.5;\" width=\"164.0625\" x=\"119\" y=\"41\"/><text fill=\"#000000\" font-family=\"sans-serif\" font-size=\"12\" font-style=\"italic\" lengthAdjust=\"spacing\" textLength=\"68\" x=\"167.0313\" y=\"57.1387\">«part  def»</text><text fill=\"#000000\" font-family=\"sans-serif\" font-size=\"14\" lengthAdjust=\"spacing\" textLength=\"13\" x=\"194.5313\" y=\"72.9639\">W</text><line style=\"stroke:#181818;stroke-width:0.5;\" x1=\"120\" x2=\"282.0625\" y1=\"81.2656\" y2=\"81.2656\"/><path d=\"M127.1667,96.951 L127.1667,108.6177 L128.3333,108.6177 L128.3333,96.951 M130.6667,96.951 L130.6667,108.6177 L140,102.7844 L130.6667,96.951 L131.8333,98.701 L138.25,102.7844 L131.8333,106.8677 L131.8333,98.701 \" fill=\"#000000\" style=\"stroke:;stroke-width:0.0;stroke-dasharray:;\"/><text fill=\"#000000\" font-family=\"sans-serif\" font-size=\"14\" lengthAdjust=\"spacing\" textLength=\"13\" x=\"145\" y=\"109.9826\">m</text><text fill=\"#000000\" font-family=\"sans-serif\" font-size=\"14\" font-weight=\"bold\" lengthAdjust=\"spacing\" textLength=\"50.0625\" x=\"162\" y=\"109.9826\">default</text><text fill=\"#000000\" font-family=\"sans-serif\" font-size=\"14\" lengthAdjust=\"spacing\" textLength=\"25\" x=\"216.0625\" y=\"109.9826\">= n</text><text fill=\"#000000\" font-family=\"sans-serif\" font-size=\"14\" lengthAdjust=\"spacing\" text-decoration=\"line-through\" textLength=\"32\" x=\"245.0625\" y=\"109.9826\">V::m</text><text fill=\"#000000\" font-family=\"sans-serif\" font-size=\"14\" lengthAdjust=\"spacing\" textLength=\"59\" x=\"125\" y=\"126.2795\">^n = 20</text><text fill=\"#000000\" font-family=\"sans-serif\" font-size=\"14\" font-style=\"italic\" lengthAdjust=\"spacing\" textLength=\"66\" x=\"168.0313\" y=\"93.6123\">attributes</text></g></a><!--MD5=[270fce915f116d4de14055a7c1d9a0f3]\n",
       "class E5--><a href=\"psysml:fd52748d-5cd7-4973-9bed-274bef6831d2\" target=\"_top\" title=\"psysml:fd52748d-5cd7-4973-9bed-274bef6831d2\" xlink:actuate=\"onRequest\" xlink:href=\"psysml:fd52748d-5cd7-4973-9bed-274bef6831d2\" xlink:show=\"new\" xlink:title=\"psysml:fd52748d-5cd7-4973-9bed-274bef6831d2\" xlink:type=\"simple\"><g id=\"elem_E5\"><rect fill=\"#FFFACD\" filter=\"url(#f2kurjuuw8dh7)\" height=\"75.0813\" id=\"E5\" rx=\"10\" ry=\"10\" style=\"stroke:#181818;stroke-width:0.5;\" width=\"52\" x=\"32\" y=\"50\"/><text fill=\"#000000\" font-family=\"sans-serif\" font-size=\"12\" font-style=\"italic\" lengthAdjust=\"spacing\" textLength=\"40\" x=\"38\" y=\"66.1387\">«part»</text><text fill=\"#000000\" font-family=\"sans-serif\" font-size=\"14\" lengthAdjust=\"spacing\" textLength=\"16\" x=\"46\" y=\"81.9639\">v2</text><line style=\"stroke:#181818;stroke-width:0.5;\" x1=\"33\" x2=\"83\" y1=\"90.2656\" y2=\"90.2656\"/><text fill=\"#000000\" font-family=\"sans-serif\" font-size=\"14\" lengthAdjust=\"spacing\" textLength=\"39\" x=\"38\" y=\"117.7795\">= W()</text><text fill=\"#000000\" font-family=\"sans-serif\" font-size=\"14\" font-style=\"italic\" lengthAdjust=\"spacing\" textLength=\"44\" x=\"36\" y=\"102.6123\">values</text></g></a><!--MD5=[05d275557350bfb9b23a4ef7222b4c39]\n",
       "link E3 to E2--><g id=\"link_E3_E2\"><a href=\"psysml:1a78d8f2-030e-492a-8201-32cffefdc08b\" target=\"_top\" title=\"psysml:1a78d8f2-030e-492a-8201-32cffefdc08b\" xlink:actuate=\"onRequest\" xlink:href=\"psysml:1a78d8f2-030e-492a-8201-32cffefdc08b\" xlink:show=\"new\" xlink:title=\"psysml:1a78d8f2-030e-492a-8201-32cffefdc08b\" xlink:type=\"simple\"><path d=\"M356,125.58 C346.86,140.98 336,159.29 325.71,176.62 \" fill=\"none\" id=\"E3-to-E2\" style=\"stroke:#181818;stroke-width:1.0;\"/><polygon fill=\"#FFFFFF\" points=\"315.5,193.83,319.1828,173.9193,331.2202,181.0677,315.5,193.83\" style=\"stroke:#181818;stroke-width:1.0;\"/><ellipse cx=\"323.8129\" cy=\"170.0395\" fill=\"#181818\" rx=\"2\" ry=\"2\" style=\"stroke:#181818;stroke-width:1.0;\"/><ellipse cx=\"332.411\" cy=\"175.1456\" fill=\"#181818\" rx=\"2\" ry=\"2\" style=\"stroke:#181818;stroke-width:1.0;\"/></a></g><!--MD5=[185131fc0dcab0a4505a2ebe144e961b]\n",
       "link E4 to E2--><g id=\"link_E4_E2\"><a href=\"psysml:5695b7ea-3fef-47ac-8247-2c32b379aa0a\" target=\"_top\" title=\"psysml:5695b7ea-3fef-47ac-8247-2c32b379aa0a\" xlink:actuate=\"onRequest\" xlink:href=\"psysml:5695b7ea-3fef-47ac-8247-2c32b379aa0a\" xlink:show=\"new\" xlink:title=\"psysml:5695b7ea-3fef-47ac-8247-2c32b379aa0a\" xlink:type=\"simple\"><path d=\"M227.88,134.32 C235.7,147.65 244.37,162.43 252.67,176.57 \" fill=\"none\" id=\"E4-to-E2\" style=\"stroke:#181818;stroke-width:1.0;\"/><polygon fill=\"none\" points=\"258.8,173.2,262.89,193.99,246.73,180.28,258.8,173.2\" style=\"stroke:#181818;stroke-width:1.0;\"/></a></g><!--MD5=[4950f2049e033520b2d01bf9bdc91804]\n",
       "@startuml\r\n",
       "skin sysmlc\r\n",
       "skinparam wrapWidth 300\r\n",
       "hide circle\r\n",
       "\r\n",
       "package \"DefaultValueTest\" as E1  [[psysml:7da0ff95-83c9-4c69-ab50-6e4dec268467 ]]  {\r\n",
       "comp def \"V\" as E2  <<(T,blue) part  def>> [[psysml:98a54266-dd8e-4aee-8801-c30b6645e897 ]] {\r\n",
       "##//attributes//##\r\n",
       "m<b> default </b><U+003D> 10\r\n",
       "n <U+003D> 20\r\n",
       "}\r\n",
       "comp usage \"v1: V  \" as E3  <<(T,blue) part>> [[psysml:f9c62a8d-8a1e-4486-94b1-ee59692b29ae ]] {\r\n",
       "##//attributes//##\r\n",
       "<&bar-trig> m <U+003D> 20 <s>V::m</s>\r\n",
       "}\r\n",
       "comp def \"W\" as E4  <<(T,blue) part  def>> [[psysml:ad7d8f37-2b75-4e7f-880b-981718b0db98 ]] {\r\n",
       "##//attributes//##\r\n",
       "<&bar-trig> m<b> default </b><U+003D> n <s>V::m</s>\r\n",
       "^n <U+003D> 20\r\n",
       "}\r\n",
       "comp usage \"v2  \" as E5  <<(T,blue) part>> [[psysml:fd52748d-5cd7-4973-9bed-274bef6831d2 ]] {\r\n",
       "##//values//##\r\n",
       " <U+003D> W()\r\n",
       "}\r\n",
       "}\r\n",
       "E3 - -:|> E2 [[psysml:1a78d8f2-030e-492a-8201-32cffefdc08b ]] \r\n",
       "E4 - -|> E2 [[psysml:5695b7ea-3fef-47ac-8247-2c32b379aa0a ]] \r\n",
       "@enduml\r\n",
       "\n",
       "PlantUML version 1.2022.7(Mon Aug 22 17:01:30 UTC 2022)\n",
       "(EPL source distribution)\n",
       "Java Runtime: OpenJDK Runtime Environment\n",
       "JVM: OpenJDK 64-Bit Server VM\n",
       "Default Encoding: UTF-8\n",
       "Language: en\n",
       "Country: null\n",
       "--></g></svg>"
      ]
     },
     "execution_count": 24,
     "metadata": {},
     "output_type": "execute_result"
    }
   ],
   "source": [
    "%viz --style=\"STDCOLOR\" --view=\"Tree\" \"DefaultValueTest\""
   ]
  },
  {
   "cell_type": "code",
   "execution_count": 25,
   "id": "0ce9fa44",
   "metadata": {
    "execution": {
     "iopub.execute_input": "2024-12-16T14:21:28.931806Z",
     "iopub.status.busy": "2024-12-16T14:21:28.931573Z",
     "iopub.status.idle": "2024-12-16T14:21:28.936855Z",
     "shell.execute_reply": "2024-12-16T14:21:28.936674Z"
    }
   },
   "outputs": [
    {
     "data": {
      "image/svg+xml": [
       "<?xml version=\"1.0\" encoding=\"UTF-8\" standalone=\"no\"?><svg xmlns=\"http://www.w3.org/2000/svg\" xmlns:xlink=\"http://www.w3.org/1999/xlink\" contentStyleType=\"text/css\" height=\"10px\" preserveAspectRatio=\"none\" style=\"width:10px;height:10px;background:#FFFFFF;\" version=\"1.1\" viewBox=\"0 0 10 10\" width=\"10px\" zoomAndPan=\"magnify\"><defs/><g><!--MD5=[a1048f16c75022af837d4b7065e6f600]\n",
       "@startuml\r\n",
       "skin sysmlc\r\n",
       "skinparam wrapWidth 300\r\n",
       "hide circle\r\n",
       "\r\n",
       "@enduml\r\n",
       "\n",
       "PlantUML version 1.2022.7(Mon Aug 22 17:01:30 UTC 2022)\n",
       "(EPL source distribution)\n",
       "Java Runtime: OpenJDK Runtime Environment\n",
       "JVM: OpenJDK 64-Bit Server VM\n",
       "Default Encoding: UTF-8\n",
       "Language: en\n",
       "Country: null\n",
       "--></g></svg>"
      ]
     },
     "execution_count": 25,
     "metadata": {},
     "output_type": "execute_result"
    }
   ],
   "source": [
    "%viz --style=\"STDCOLOR\" --view=\"State\" \"DefaultValueTest\""
   ]
  },
  {
   "cell_type": "code",
   "execution_count": 26,
   "id": "bc34fa9d",
   "metadata": {
    "execution": {
     "iopub.execute_input": "2024-12-16T14:21:28.993451Z",
     "iopub.status.busy": "2024-12-16T14:21:28.993205Z",
     "iopub.status.idle": "2024-12-16T14:21:29.030753Z",
     "shell.execute_reply": "2024-12-16T14:21:29.029882Z"
    }
   },
   "outputs": [
    {
     "data": {
      "image/svg+xml": [
       "<?xml version=\"1.0\" encoding=\"UTF-8\" standalone=\"no\"?><svg xmlns=\"http://www.w3.org/2000/svg\" xmlns:xlink=\"http://www.w3.org/1999/xlink\" contentStyleType=\"text/css\" height=\"477px\" preserveAspectRatio=\"none\" style=\"width:656px;height:477px;background:#FFFFFF;\" version=\"1.1\" viewBox=\"0 0 656 477\" width=\"656px\" zoomAndPan=\"magnify\"><defs><filter height=\"300%\" id=\"fpmv496tenu25\" width=\"300%\" x=\"-1\" y=\"-1\"><feGaussianBlur result=\"blurOut\" stdDeviation=\"2.0\"/><feColorMatrix in=\"blurOut\" result=\"blurOut2\" type=\"matrix\" values=\"0 0 0 0 0 0 0 0 0 0 0 0 0 0 0 0 0 0 .4 0\"/><feOffset dx=\"4.0\" dy=\"4.0\" in=\"blurOut2\" result=\"blurOut3\"/><feBlend in=\"SourceGraphic\" in2=\"blurOut3\" mode=\"normal\"/></filter></defs><g><!--MD5=[fbc87193dbaf4d95561dea2c320d4a47]\n",
       "cluster E1--><g id=\"cluster_E1\"><a href=\"psysml:7da0ff95-83c9-4c69-ab50-6e4dec268467\" target=\"_top\" title=\"psysml:7da0ff95-83c9-4c69-ab50-6e4dec268467\" xlink:actuate=\"onRequest\" xlink:href=\"psysml:7da0ff95-83c9-4c69-ab50-6e4dec268467\" xlink:show=\"new\" xlink:title=\"psysml:7da0ff95-83c9-4c69-ab50-6e4dec268467\" xlink:type=\"simple\"><polygon fill=\"none\" filter=\"url(#fpmv496tenu25)\" points=\"16,6,147,6,154,28.2969,639,28.2969,639,470,16,470,16,6\" style=\"stroke:#000000;stroke-width:1.5;\"/><line style=\"stroke:#000000;stroke-width:1.5;\" x1=\"16\" x2=\"154\" y1=\"28.2969\" y2=\"28.2969\"/><text fill=\"#000000\" font-family=\"sans-serif\" font-size=\"14\" font-weight=\"bold\" lengthAdjust=\"spacing\" textLength=\"125\" x=\"20\" y=\"20.9951\">DefaultValueTest</text></a></g><!--MD5=[e4f7fae6ed58524ba242bb0b0d3be6b7]\n",
       "cluster E2--><g id=\"cluster_E2\"><a href=\"psysml:98a54266-dd8e-4aee-8801-c30b6645e897\" target=\"_top\" title=\"psysml:98a54266-dd8e-4aee-8801-c30b6645e897\" xlink:actuate=\"onRequest\" xlink:href=\"psysml:98a54266-dd8e-4aee-8801-c30b6645e897\" xlink:show=\"new\" xlink:title=\"psysml:98a54266-dd8e-4aee-8801-c30b6645e897\" xlink:type=\"simple\"><rect fill=\"#FFFFFF\" filter=\"url(#fpmv496tenu25)\" height=\"158\" id=\"E2\" style=\"stroke:#A80036;stroke-width:1.5;\" width=\"278\" x=\"329\" y=\"280\"/><rect fill=\"#FFFACD\" height=\"40.2656\" style=\"stroke:#A80036;stroke-width:1.5;\" width=\"278\" x=\"329\" y=\"280\"/><text fill=\"#000000\" font-family=\"sans-serif\" font-size=\"12\" font-style=\"italic\" lengthAdjust=\"spacing\" textLength=\"68\" x=\"434\" y=\"296.1387\">«part  def»</text><text fill=\"#000000\" font-family=\"sans-serif\" font-size=\"14\" lengthAdjust=\"spacing\" textLength=\"9\" x=\"463.5\" y=\"311.9639\">V</text></a></g><!--MD5=[de5ec2e2e8f62f467e546659f5068c88]\n",
       "cluster E5--><g id=\"cluster_E5\"><a href=\"psysml:f9c62a8d-8a1e-4486-94b1-ee59692b29ae\" target=\"_top\" title=\"psysml:f9c62a8d-8a1e-4486-94b1-ee59692b29ae\" xlink:actuate=\"onRequest\" xlink:href=\"psysml:f9c62a8d-8a1e-4486-94b1-ee59692b29ae\" xlink:show=\"new\" xlink:title=\"psysml:f9c62a8d-8a1e-4486-94b1-ee59692b29ae\" xlink:type=\"simple\"><rect fill=\"#FFFFFF\" filter=\"url(#fpmv496tenu25)\" height=\"142\" id=\"E5\" rx=\"10\" ry=\"10\" style=\"stroke:#A80036;stroke-width:1.5;\" width=\"139\" x=\"405\" y=\"73\"/><rect fill=\"#FFFACD\" height=\"26.2969\" rx=\"10\" ry=\"10\" style=\"stroke:#FFFACD;stroke-width:1.5;\" width=\"139\" x=\"405\" y=\"73\"/><rect fill=\"#FFFACD\" height=\"10\" style=\"stroke:#FFFACD;stroke-width:1.5;\" width=\"139\" x=\"405\" y=\"89.2969\"/><rect fill=\"none\" height=\"142\" id=\"E5\" rx=\"10\" ry=\"10\" style=\"stroke:#A80036;stroke-width:1.5;\" width=\"139\" x=\"405\" y=\"73\"/><text fill=\"#000000\" font-family=\"sans-serif\" font-size=\"14\" lengthAdjust=\"spacing\" textLength=\"34\" x=\"457.5\" y=\"90.9951\">v1: V</text><line style=\"stroke:#A80036;stroke-width:1.0;\" x1=\"405\" x2=\"544\" y1=\"99.2969\" y2=\"99.2969\"/></a></g><!--MD5=[168fadf3d0c3fd93dd5d6da1b1d7ab76]\n",
       "cluster E7--><g id=\"cluster_E7\"><a href=\"psysml:ad7d8f37-2b75-4e7f-880b-981718b0db98\" target=\"_top\" title=\"psysml:ad7d8f37-2b75-4e7f-880b-981718b0db98\" xlink:actuate=\"onRequest\" xlink:href=\"psysml:ad7d8f37-2b75-4e7f-880b-981718b0db98\" xlink:show=\"new\" xlink:title=\"psysml:ad7d8f37-2b75-4e7f-880b-981718b0db98\" xlink:type=\"simple\"><rect fill=\"#FFFFFF\" filter=\"url(#fpmv496tenu25)\" height=\"381\" id=\"E7\" style=\"stroke:#A80036;stroke-width:1.5;\" width=\"163\" x=\"126\" y=\"57\"/><rect fill=\"#FFFACD\" height=\"40.2656\" style=\"stroke:#A80036;stroke-width:1.5;\" width=\"163\" x=\"126\" y=\"57\"/><text fill=\"#000000\" font-family=\"sans-serif\" font-size=\"12\" font-style=\"italic\" lengthAdjust=\"spacing\" textLength=\"68\" x=\"173.5\" y=\"73.1387\">«part  def»</text><text fill=\"#000000\" font-family=\"sans-serif\" font-size=\"14\" lengthAdjust=\"spacing\" textLength=\"13\" x=\"201\" y=\"88.9639\">W</text></a></g><!--MD5=[09b614a08d8cba4a07c9adeb5e0fee81]\n",
       "class E3--><a href=\"psysml:6c5b3b06-fe87-444e-9dd6-6649acbff1c0\" target=\"_top\" title=\"psysml:6c5b3b06-fe87-444e-9dd6-6649acbff1c0\" xlink:actuate=\"onRequest\" xlink:href=\"psysml:6c5b3b06-fe87-444e-9dd6-6649acbff1c0\" xlink:show=\"new\" xlink:title=\"psysml:6c5b3b06-fe87-444e-9dd6-6649acbff1c0\" xlink:type=\"simple\"><g id=\"elem_E3\"><rect fill=\"#FFFACD\" filter=\"url(#fpmv496tenu25)\" height=\"75.0813\" id=\"E3\" rx=\"10\" ry=\"10\" style=\"stroke:#181818;stroke-width:0.5;\" width=\"104.0625\" x=\"479\" y=\"339\"/><text fill=\"#000000\" font-family=\"sans-serif\" font-size=\"12\" font-style=\"italic\" lengthAdjust=\"spacing\" textLength=\"69\" x=\"496.5313\" y=\"355.1387\">«attribute»</text><text fill=\"#000000\" font-family=\"sans-serif\" font-size=\"14\" lengthAdjust=\"spacing\" textLength=\"13\" x=\"520.5313\" y=\"370.9639\">m</text><line style=\"stroke:#181818;stroke-width:0.5;\" x1=\"480\" x2=\"582.0625\" y1=\"379.2656\" y2=\"379.2656\"/><text fill=\"#000000\" font-family=\"sans-serif\" font-size=\"14\" font-weight=\"bold\" lengthAdjust=\"spacing\" textLength=\"50.0625\" x=\"489\" y=\"406.7795\">default</text><text fill=\"#000000\" font-family=\"sans-serif\" font-size=\"14\" lengthAdjust=\"spacing\" textLength=\"34\" x=\"543.0625\" y=\"406.7795\">= 10</text><text fill=\"#000000\" font-family=\"sans-serif\" font-size=\"14\" font-style=\"italic\" lengthAdjust=\"spacing\" textLength=\"44\" x=\"509.0313\" y=\"391.6123\">values</text></g></a><!--MD5=[ebbe1d658d1005bcc118a6aa81145e00]\n",
       "class E4--><a href=\"psysml:d4a77e27-0ca8-4584-84f6-1d4e52d400d2\" target=\"_top\" title=\"psysml:d4a77e27-0ca8-4584-84f6-1d4e52d400d2\" xlink:actuate=\"onRequest\" xlink:href=\"psysml:d4a77e27-0ca8-4584-84f6-1d4e52d400d2\" xlink:show=\"new\" xlink:title=\"psysml:d4a77e27-0ca8-4584-84f6-1d4e52d400d2\" xlink:type=\"simple\"><g id=\"elem_E4\"><rect fill=\"#FFFACD\" filter=\"url(#fpmv496tenu25)\" height=\"75.0813\" id=\"E4\" rx=\"10\" ry=\"10\" style=\"stroke:#181818;stroke-width:0.5;\" width=\"71\" x=\"372.5\" y=\"339\"/><text fill=\"#000000\" font-family=\"sans-serif\" font-size=\"12\" font-style=\"italic\" lengthAdjust=\"spacing\" textLength=\"69\" x=\"373.5\" y=\"355.1387\">«attribute»</text><text fill=\"#000000\" font-family=\"sans-serif\" font-size=\"14\" lengthAdjust=\"spacing\" textLength=\"9\" x=\"399.5\" y=\"370.9639\">n</text><line style=\"stroke:#181818;stroke-width:0.5;\" x1=\"373.5\" x2=\"442.5\" y1=\"379.2656\" y2=\"379.2656\"/><text fill=\"#000000\" font-family=\"sans-serif\" font-size=\"14\" lengthAdjust=\"spacing\" textLength=\"34\" x=\"378.5\" y=\"406.7795\">= 20</text><text fill=\"#000000\" font-family=\"sans-serif\" font-size=\"14\" font-style=\"italic\" lengthAdjust=\"spacing\" textLength=\"44\" x=\"386\" y=\"391.6123\">values</text></g></a><!--MD5=[60a26617385b1d2d0262a64233df1f8d]\n",
       "class E6--><a href=\"psysml:c20e1062-5069-459a-93a7-f31b5f49cd74\" target=\"_top\" title=\"psysml:c20e1062-5069-459a-93a7-f31b5f49cd74\" xlink:actuate=\"onRequest\" xlink:href=\"psysml:c20e1062-5069-459a-93a7-f31b5f49cd74\" xlink:show=\"new\" xlink:title=\"psysml:c20e1062-5069-459a-93a7-f31b5f49cd74\" xlink:type=\"simple\"><g id=\"elem_E6\"><rect fill=\"#FFFACD\" filter=\"url(#fpmv496tenu25)\" height=\"75.0813\" id=\"E6\" rx=\"10\" ry=\"10\" style=\"stroke:#181818;stroke-width:0.5;\" width=\"71\" x=\"448.5\" y=\"116\"/><text fill=\"#000000\" font-family=\"sans-serif\" font-size=\"12\" font-style=\"italic\" lengthAdjust=\"spacing\" textLength=\"69\" x=\"449.5\" y=\"132.1387\">«attribute»</text><text fill=\"#000000\" font-family=\"sans-serif\" font-size=\"14\" lengthAdjust=\"spacing\" textLength=\"13\" x=\"473.5\" y=\"147.9639\">m</text><line style=\"stroke:#181818;stroke-width:0.5;\" x1=\"449.5\" x2=\"518.5\" y1=\"156.2656\" y2=\"156.2656\"/><text fill=\"#000000\" font-family=\"sans-serif\" font-size=\"14\" lengthAdjust=\"spacing\" textLength=\"34\" x=\"454.5\" y=\"183.7795\">= 20</text><text fill=\"#000000\" font-family=\"sans-serif\" font-size=\"14\" font-style=\"italic\" lengthAdjust=\"spacing\" textLength=\"44\" x=\"462\" y=\"168.6123\">values</text></g></a><!--MD5=[b9389687b975829384b498ac4b7476b2]\n",
       "class E8--><a href=\"psysml:073a166e-558c-466c-90f5-50af09b65e43\" target=\"_top\" title=\"psysml:073a166e-558c-466c-90f5-50af09b65e43\" xlink:actuate=\"onRequest\" xlink:href=\"psysml:073a166e-558c-466c-90f5-50af09b65e43\" xlink:show=\"new\" xlink:title=\"psysml:073a166e-558c-466c-90f5-50af09b65e43\" xlink:type=\"simple\"><g id=\"elem_E8\"><rect fill=\"#FFFACD\" filter=\"url(#fpmv496tenu25)\" height=\"75.0813\" id=\"E8\" rx=\"10\" ry=\"10\" style=\"stroke:#181818;stroke-width:0.5;\" width=\"95.0625\" x=\"150.5\" y=\"116\"/><text fill=\"#000000\" font-family=\"sans-serif\" font-size=\"12\" font-style=\"italic\" lengthAdjust=\"spacing\" textLength=\"69\" x=\"163.5313\" y=\"132.1387\">«attribute»</text><text fill=\"#000000\" font-family=\"sans-serif\" font-size=\"14\" lengthAdjust=\"spacing\" textLength=\"13\" x=\"187.5313\" y=\"147.9639\">m</text><line style=\"stroke:#181818;stroke-width:0.5;\" x1=\"151.5\" x2=\"244.5625\" y1=\"156.2656\" y2=\"156.2656\"/><text fill=\"#000000\" font-family=\"sans-serif\" font-size=\"14\" font-weight=\"bold\" lengthAdjust=\"spacing\" textLength=\"50.0625\" x=\"160.5\" y=\"183.7795\">default</text><text fill=\"#000000\" font-family=\"sans-serif\" font-size=\"14\" lengthAdjust=\"spacing\" textLength=\"25\" x=\"214.5625\" y=\"183.7795\">= n</text><text fill=\"#000000\" font-family=\"sans-serif\" font-size=\"14\" font-style=\"italic\" lengthAdjust=\"spacing\" textLength=\"44\" x=\"176.0313\" y=\"168.6123\">values</text></g></a><!--MD5=[fd4143e9d270a159db93a4ea2a975926]\n",
       "class E9--><a href=\"psysml:d4a77e27-0ca8-4584-84f6-1d4e52d400d2\" target=\"_top\" title=\"psysml:d4a77e27-0ca8-4584-84f6-1d4e52d400d2\" xlink:actuate=\"onRequest\" xlink:href=\"psysml:d4a77e27-0ca8-4584-84f6-1d4e52d400d2\" xlink:show=\"new\" xlink:title=\"psysml:d4a77e27-0ca8-4584-84f6-1d4e52d400d2\" xlink:type=\"simple\"><g id=\"elem_E9\"><rect fill=\"#FFFACD\" filter=\"url(#fpmv496tenu25)\" height=\"75.0813\" id=\"E9\" rx=\"10\" ry=\"10\" style=\"stroke:#181818;stroke-width:0.5;\" width=\"71\" x=\"162.5\" y=\"339\"/><text fill=\"#000000\" font-family=\"sans-serif\" font-size=\"12\" font-style=\"italic\" lengthAdjust=\"spacing\" textLength=\"69\" x=\"163.5\" y=\"355.1387\">«attribute»</text><text fill=\"#000000\" font-family=\"sans-serif\" font-size=\"14\" lengthAdjust=\"spacing\" textLength=\"21\" x=\"183.5\" y=\"370.9639\">^n</text><line style=\"stroke:#181818;stroke-width:0.5;\" x1=\"163.5\" x2=\"232.5\" y1=\"379.2656\" y2=\"379.2656\"/><text fill=\"#000000\" font-family=\"sans-serif\" font-size=\"14\" lengthAdjust=\"spacing\" textLength=\"34\" x=\"168.5\" y=\"406.7795\">= 20</text><text fill=\"#000000\" font-family=\"sans-serif\" font-size=\"14\" font-style=\"italic\" lengthAdjust=\"spacing\" textLength=\"44\" x=\"176\" y=\"391.6123\">values</text></g></a><g><a href=\"psysml:fd52748d-5cd7-4973-9bed-274bef6831d2\" target=\"_top\" title=\"psysml:fd52748d-5cd7-4973-9bed-274bef6831d2\" xlink:actuate=\"onRequest\" xlink:href=\"psysml:fd52748d-5cd7-4973-9bed-274bef6831d2\" xlink:show=\"new\" xlink:title=\"psysml:fd52748d-5cd7-4973-9bed-274bef6831d2\" xlink:type=\"simple\"><rect fill=\"#FFFACD\" filter=\"url(#fpmv496tenu25)\" height=\"40\" id=\"E10\" rx=\"10\" ry=\"10\" style=\"stroke:#A80036;stroke-width:1.5;\" width=\"70\" x=\"32\" y=\"133.5\"/><text fill=\"#000000\" font-family=\"sans-serif\" font-size=\"14\" lengthAdjust=\"spacing\" textLength=\"59\" x=\"37.5\" y=\"151.4951\">v2 = W()</text></a></g><!--MD5=[a717450b82c80b9240a525fa862496af]\n",
       "link E6 to E3--><g id=\"link_E6_E3\"><a href=\"psysml:bbca0750-a9c1-46d9-82f5-94045bc6258a\" target=\"_top\" title=\"psysml:bbca0750-a9c1-46d9-82f5-94045bc6258a\" xlink:actuate=\"onRequest\" xlink:href=\"psysml:bbca0750-a9c1-46d9-82f5-94045bc6258a\" xlink:show=\"new\" xlink:title=\"psysml:bbca0750-a9c1-46d9-82f5-94045bc6258a\" xlink:type=\"simple\"><path d=\"M491.87,191.49 C499.28,226.33 510.48,279.03 519.01,319.11 \" fill=\"none\" id=\"E6-to-E3\" style=\"stroke:#181818;stroke-width:1.0;\"/><polygon fill=\"#FFFFFF\" points=\"523.19,338.76,512.3925,321.6307,526.0866,318.7198,523.19,338.76\" style=\"stroke:#181818;stroke-width:1.0;\"/><line style=\"stroke:#181818;stroke-width:2.0;\" x1=\"511.6024\" x2=\"525.2965\" y1=\"317.9137\" y2=\"315.0028\"/></a></g><!--MD5=[15ebcb19ae302d9b601edb458606d402]\n",
       "link E5 to E2--><g id=\"link_E5_E2\"><a href=\"psysml:1a78d8f2-030e-492a-8201-32cffefdc08b\" target=\"_top\" title=\"psysml:1a78d8f2-030e-492a-8201-32cffefdc08b\" xlink:actuate=\"onRequest\" xlink:href=\"psysml:1a78d8f2-030e-492a-8201-32cffefdc08b\" xlink:show=\"new\" xlink:title=\"psysml:1a78d8f2-030e-492a-8201-32cffefdc08b\" xlink:type=\"simple\"><path d=\"M404.8079,167.0368 C404.7416,167.1414 404.675,167.2466 404.6081,167.3523 C404.3405,167.7752 404.0678,168.207 403.7904,168.6477 C403.2356,169.529 402.6617,170.4455 402.0704,171.3954 C400.8878,173.2952 399.6358,175.3287 398.3279,177.4818 C395.7122,181.7881 392.8731,186.5731 389.92,191.725 C378.1075,212.3325 364.47,238.81 356,264 C355.0144,266.9313 354.0781,269.9239 353.1889,272.9592 C352.7443,274.4769 352.3114,276.0052 351.8901,277.5419 C351.6794,278.3103 351.4715,279.0807 351.2665,279.8529 \" fill=\"none\" id=\"E5-to-E2\" style=\"stroke:#181818;stroke-width:1.0;\"/><polygon fill=\"#FFFFFF\" points=\"351.2665,279.8529,349.3758,259.6929,362.9072,263.285,351.2665,279.8529\" style=\"stroke:#181818;stroke-width:1.0;\"/><ellipse cx=\"352.7714\" cy=\"254.6969\" fill=\"#181818\" rx=\"2\" ry=\"2\" style=\"stroke:#181818;stroke-width:1.0;\"/><ellipse cx=\"362.4366\" cy=\"257.2627\" fill=\"#181818\" rx=\"2\" ry=\"2\" style=\"stroke:#181818;stroke-width:1.0;\"/></a></g><!--MD5=[583832df87f4419a098336a29a52fa00]\n",
       "link E7 to E2--><g id=\"link_E7_E2\"><a href=\"psysml:5695b7ea-3fef-47ac-8247-2c32b379aa0a\" target=\"_top\" title=\"psysml:5695b7ea-3fef-47ac-8247-2c32b379aa0a\" xlink:actuate=\"onRequest\" xlink:href=\"psysml:5695b7ea-3fef-47ac-8247-2c32b379aa0a\" xlink:show=\"new\" xlink:title=\"psysml:5695b7ea-3fef-47ac-8247-2c32b379aa0a\" xlink:type=\"simple\"><path d=\"M289.0643,186.3255 C289.1414,186.6297 289.2189,186.9356 289.2968,187.2431 C289.6085,188.4733 289.9269,189.7294 290.2514,191.0102 C295.4441,211.5016 302.2281,238.2731 309.0113,265.0413 C315.7944,291.8094 322.5766,318.5741 327.7655,339.0517 C328.0898,340.3316 328.4079,341.5869 328.7193,342.8161 C328.7972,343.1234 328.8747,343.429 328.9517,343.7331 \" fill=\"none\" id=\"E7-to-E2\" style=\"stroke:#181818;stroke-width:1.0;\"/><polygon fill=\"#FFFFFF\" points=\"328.9517,343.7331,331.0703,323.5957,317.4992,327.0345,328.9517,343.7331\" style=\"stroke:#181818;stroke-width:1.0;\"/></a></g><!--MD5=[95fa686b5a16158bcdbcaeead89f639b]\n",
       "link E8 to E3--><g id=\"link_E8_E3\"><a href=\"psysml:921fa623-ecc5-4b2e-b8c8-ebddf6697201\" target=\"_top\" title=\"psysml:921fa623-ecc5-4b2e-b8c8-ebddf6697201\" xlink:actuate=\"onRequest\" xlink:href=\"psysml:921fa623-ecc5-4b2e-b8c8-ebddf6697201\" xlink:show=\"new\" xlink:title=\"psysml:921fa623-ecc5-4b2e-b8c8-ebddf6697201\" xlink:type=\"simple\"><path d=\"M214.18,191.14 C222.5,205.81 234.07,221.46 249,231 C329.35,282.35 381.36,211.56 461,264 C481.71,277.64 497.44,299.75 508.69,320.69 \" fill=\"none\" id=\"E8-to-E3\" style=\"stroke:#181818;stroke-width:1.0;\"/><polygon fill=\"#FFFFFF\" points=\"517.61,338.94,502.9765,324.945,515.554,318.7962,517.61,338.94\" style=\"stroke:#181818;stroke-width:1.0;\"/><line style=\"stroke:#181818;stroke-width:2.0;\" x1=\"501.3076\" x2=\"513.885\" y1=\"321.5311\" y2=\"315.3823\"/></a></g><!--MD5=[ed10624c06dd9a4fa49ccf290e8b16a8]\n",
       "link E8 to E9--><g id=\"link_E8_E9\"><a href=\"psysml:fc577d85-8ebe-448e-af16-5782109a2fa7\" target=\"_top\" title=\"psysml:fc577d85-8ebe-448e-af16-5782109a2fa7\" xlink:actuate=\"onRequest\" xlink:href=\"psysml:fc577d85-8ebe-448e-af16-5782109a2fa7\" xlink:show=\"new\" xlink:title=\"psysml:fc577d85-8ebe-448e-af16-5782109a2fa7\" xlink:type=\"simple\"><path d=\"M198,191.49 C198,232.41 198,297.94 198,338.76 \" fill=\"none\" id=\"E8-E9\" style=\"stroke:#FF0000;stroke-width:5.0;\"/><text fill=\"#000000\" font-family=\"sans-serif\" font-size=\"13\" lengthAdjust=\"spacing\" textLength=\"11\" x=\"199\" y=\"252.0669\">=</text></a></g><!--MD5=[7d38e2bd8c3ab416cee94c9e49593b29]\n",
       "@startuml\r\n",
       "skin sysmlc\r\n",
       "skinparam wrapWidth 300\r\n",
       "hide circle\r\n",
       "skinparam ranksep 10\r\n",
       "skinparam rectangle {\r\n",
       " backgroundColor<<block>> LightGreen\r\n",
       "}\r\n",
       "\r\n",
       "package \"DefaultValueTest\" as E1  [[psysml:7da0ff95-83c9-4c69-ab50-6e4dec268467 ]]  {\r\n",
       "rec def \"V\" as E2  <<(T,blue) part  def>> [[psysml:98a54266-dd8e-4aee-8801-c30b6645e897 ]] {\r\n",
       "comp usage \"m  \" as E3  <<(T,blue) attribute>> [[psysml:6c5b3b06-fe87-444e-9dd6-6649acbff1c0 ]] {\r\n",
       "##//values//##\r\n",
       "<b> default </b><U+003D> 10\r\n",
       "}\r\n",
       "comp usage \"n  \" as E4  <<(T,blue) attribute>> [[psysml:d4a77e27-0ca8-4584-84f6-1d4e52d400d2 ]] {\r\n",
       "##//values//##\r\n",
       " <U+003D> 20\r\n",
       "}\r\n",
       "}\r\n",
       "rec usage \"v1: V\" as E5 [[psysml:f9c62a8d-8a1e-4486-94b1-ee59692b29ae ]] {\r\n",
       "comp usage \"m  \" as E6  <<(T,blue) attribute>> [[psysml:c20e1062-5069-459a-93a7-f31b5f49cd74 ]] {\r\n",
       "##//values//##\r\n",
       " <U+003D> 20\r\n",
       "}\r\n",
       "}\r\n",
       "rec def \"W\" as E7  <<(T,blue) part  def>> [[psysml:ad7d8f37-2b75-4e7f-880b-981718b0db98 ]] {\r\n",
       "comp usage \"m  \" as E8  <<(T,blue) attribute>> [[psysml:073a166e-558c-466c-90f5-50af09b65e43 ]] {\r\n",
       "##//values//##\r\n",
       "<b> default </b><U+003D> n\r\n",
       "}\r\n",
       "comp usage \"^n  \" as E9  <<(T,blue) attribute>> [[psysml:d4a77e27-0ca8-4584-84f6-1d4e52d400d2 ]] {\r\n",
       "##//values//##\r\n",
       " <U+003D> 20\r\n",
       "}\r\n",
       "}\r\n",
       "rec usage \"v2 <U+003D> W()\" as E10 [[psysml:fd52748d-5cd7-4973-9bed-274bef6831d2 ]] {\r\n",
       "}\r\n",
       "}\r\n",
       "E6 - -||> E3 [[psysml:bbca0750-a9c1-46d9-82f5-94045bc6258a ]] \r\n",
       "E5 - -:|> E2 [[psysml:1a78d8f2-030e-492a-8201-32cffefdc08b ]] \r\n",
       "E7 - -|> E2 [[psysml:5695b7ea-3fef-47ac-8247-2c32b379aa0a ]] \r\n",
       "E8 - -||> E3 [[psysml:921fa623-ecc5-4b2e-b8c8-ebddf6697201 ]] \r\n",
       "E8 -[thickness=5,#red]- E9 [[psysml:fc577d85-8ebe-448e-af16-5782109a2fa7 ]] : =\r\n",
       "@enduml\r\n",
       "\n",
       "PlantUML version 1.2022.7(Mon Aug 22 17:01:30 UTC 2022)\n",
       "(EPL source distribution)\n",
       "Java Runtime: OpenJDK Runtime Environment\n",
       "JVM: OpenJDK 64-Bit Server VM\n",
       "Default Encoding: UTF-8\n",
       "Language: en\n",
       "Country: null\n",
       "--></g></svg>"
      ]
     },
     "execution_count": 26,
     "metadata": {},
     "output_type": "execute_result"
    }
   ],
   "source": [
    "%viz --style=\"STDCOLOR\" --view=\"Interconnection\" \"DefaultValueTest\""
   ]
  },
  {
   "cell_type": "code",
   "execution_count": 27,
   "id": "1aa39cdc",
   "metadata": {
    "execution": {
     "iopub.execute_input": "2024-12-16T14:21:29.086237Z",
     "iopub.status.busy": "2024-12-16T14:21:29.086002Z",
     "iopub.status.idle": "2024-12-16T14:21:29.091899Z",
     "shell.execute_reply": "2024-12-16T14:21:29.091718Z"
    }
   },
   "outputs": [
    {
     "data": {
      "image/svg+xml": [
       "<?xml version=\"1.0\" encoding=\"UTF-8\" standalone=\"no\"?><svg xmlns=\"http://www.w3.org/2000/svg\" xmlns:xlink=\"http://www.w3.org/1999/xlink\" contentStyleType=\"text/css\" height=\"10px\" preserveAspectRatio=\"none\" style=\"width:10px;height:10px;background:#FFFFFF;\" version=\"1.1\" viewBox=\"0 0 10 10\" width=\"10px\" zoomAndPan=\"magnify\"><defs/><g><!--MD5=[f1e15a62785563bad28e840d677c8e75]\n",
       "@startuml\r\n",
       "skin sysmlc\r\n",
       "skinparam wrapWidth 300\r\n",
       "hide circle\r\n",
       "skinparam ranksep 8\r\n",
       "\r\n",
       "@enduml\r\n",
       "\n",
       "PlantUML version 1.2022.7(Mon Aug 22 17:01:30 UTC 2022)\n",
       "(EPL source distribution)\n",
       "Java Runtime: OpenJDK Runtime Environment\n",
       "JVM: OpenJDK 64-Bit Server VM\n",
       "Default Encoding: UTF-8\n",
       "Language: en\n",
       "Country: null\n",
       "--></g></svg>"
      ]
     },
     "execution_count": 27,
     "metadata": {},
     "output_type": "execute_result"
    }
   ],
   "source": [
    "%viz --style=\"STDCOLOR\" --view=\"Action\" \"DefaultValueTest\""
   ]
  },
  {
   "cell_type": "code",
   "execution_count": 28,
   "id": "e6cf4533",
   "metadata": {
    "execution": {
     "iopub.execute_input": "2024-12-16T14:21:29.146508Z",
     "iopub.status.busy": "2024-12-16T14:21:29.146266Z",
     "iopub.status.idle": "2024-12-16T14:21:29.152757Z",
     "shell.execute_reply": "2024-12-16T14:21:29.152566Z"
    }
   },
   "outputs": [
    {
     "data": {
      "image/svg+xml": [
       "<?xml version=\"1.0\" encoding=\"UTF-8\" standalone=\"no\"?><svg xmlns=\"http://www.w3.org/2000/svg\" xmlns:xlink=\"http://www.w3.org/1999/xlink\" contentStyleType=\"text/css\" height=\"10px\" preserveAspectRatio=\"none\" style=\"width:10px;height:10px;background:#FFFFFF;\" version=\"1.1\" viewBox=\"0 0 10 10\" width=\"10px\" zoomAndPan=\"magnify\"><defs/><g><!--MD5=[e54413e611bf323face5c486cd3a32bb]\n",
       "@startuml\r\n",
       "skin sysmlc\r\n",
       "skinparam wrapWidth 300\r\n",
       "hide circle\r\n",
       "skinparam roundcorner 20\r\n",
       "skinparam BoxPadding 20\r\n",
       "skinparam SequenceBoxBackgroundColor #white\r\n",
       "skinparam style strictuml\r\n",
       "skinparam maxMessageSize 100\r\n",
       "\r\n",
       "@enduml\r\n",
       "\n",
       "PlantUML version 1.2022.7(Mon Aug 22 17:01:30 UTC 2022)\n",
       "(EPL source distribution)\n",
       "Java Runtime: OpenJDK Runtime Environment\n",
       "JVM: OpenJDK 64-Bit Server VM\n",
       "Default Encoding: UTF-8\n",
       "Language: en\n",
       "Country: null\n",
       "--></g></svg>"
      ]
     },
     "execution_count": 28,
     "metadata": {},
     "output_type": "execute_result"
    }
   ],
   "source": [
    "%viz --style=\"STDCOLOR\" --view=\"Sequence\" \"DefaultValueTest\""
   ]
  },
  {
   "cell_type": "code",
   "execution_count": 29,
   "id": "f245e438",
   "metadata": {
    "execution": {
     "iopub.execute_input": "2024-12-16T14:21:29.208706Z",
     "iopub.status.busy": "2024-12-16T14:21:29.208479Z",
     "iopub.status.idle": "2024-12-16T14:21:29.253231Z",
     "shell.execute_reply": "2024-12-16T14:21:29.253382Z"
    }
   },
   "outputs": [
    {
     "data": {
      "image/svg+xml": [
       "<?xml version=\"1.0\" encoding=\"UTF-8\" standalone=\"no\"?><svg xmlns=\"http://www.w3.org/2000/svg\" xmlns:xlink=\"http://www.w3.org/1999/xlink\" contentStyleType=\"text/css\" height=\"308px\" preserveAspectRatio=\"none\" style=\"width:471px;height:308px;background:#FFFFFF;\" version=\"1.1\" viewBox=\"0 0 471 308\" width=\"471px\" zoomAndPan=\"magnify\"><defs><filter height=\"300%\" id=\"f2kurjuuw8dh7\" width=\"300%\" x=\"-1\" y=\"-1\"><feGaussianBlur result=\"blurOut\" stdDeviation=\"2.0\"/><feColorMatrix in=\"blurOut\" result=\"blurOut2\" type=\"matrix\" values=\"0 0 0 0 0 0 0 0 0 0 0 0 0 0 0 0 0 0 .4 0\"/><feOffset dx=\"4.0\" dy=\"4.0\" in=\"blurOut2\" result=\"blurOut3\"/><feBlend in=\"SourceGraphic\" in2=\"blurOut3\" mode=\"normal\"/></filter></defs><g><!--MD5=[fbc87193dbaf4d95561dea2c320d4a47]\n",
       "cluster E1--><g id=\"cluster_E1\"><a href=\"psysml:7da0ff95-83c9-4c69-ab50-6e4dec268467\" target=\"_top\" title=\"psysml:7da0ff95-83c9-4c69-ab50-6e4dec268467\" xlink:actuate=\"onRequest\" xlink:href=\"psysml:7da0ff95-83c9-4c69-ab50-6e4dec268467\" xlink:show=\"new\" xlink:title=\"psysml:7da0ff95-83c9-4c69-ab50-6e4dec268467\" xlink:type=\"simple\"><polygon fill=\"none\" filter=\"url(#f2kurjuuw8dh7)\" points=\"16,6,147,6,154,28.2969,454,28.2969,454,301,16,301,16,6\" style=\"stroke:#000000;stroke-width:1.5;\"/><line style=\"stroke:#000000;stroke-width:1.5;\" x1=\"16\" x2=\"154\" y1=\"28.2969\" y2=\"28.2969\"/><text fill=\"#000000\" font-family=\"sans-serif\" font-size=\"14\" font-weight=\"bold\" lengthAdjust=\"spacing\" textLength=\"125\" x=\"20\" y=\"20.9951\">DefaultValueTest</text></a></g><!--MD5=[b4997ac47864f28c2f74865a473b2911]\n",
       "class E2--><a href=\"psysml:98a54266-dd8e-4aee-8801-c30b6645e897\" target=\"_top\" title=\"psysml:98a54266-dd8e-4aee-8801-c30b6645e897\" xlink:actuate=\"onRequest\" xlink:href=\"psysml:98a54266-dd8e-4aee-8801-c30b6645e897\" xlink:show=\"new\" xlink:title=\"psysml:98a54266-dd8e-4aee-8801-c30b6645e897\" xlink:type=\"simple\"><g id=\"elem_E2\"><rect fill=\"#FFFACD\" filter=\"url(#f2kurjuuw8dh7)\" height=\"91.3781\" id=\"E2\" style=\"stroke:#181818;stroke-width:0.5;\" width=\"117.0625\" x=\"230.5\" y=\"194\"/><text fill=\"#000000\" font-family=\"sans-serif\" font-size=\"12\" font-style=\"italic\" lengthAdjust=\"spacing\" textLength=\"68\" x=\"255.0313\" y=\"210.1387\">«part  def»</text><text fill=\"#000000\" font-family=\"sans-serif\" font-size=\"14\" lengthAdjust=\"spacing\" textLength=\"9\" x=\"284.5313\" y=\"225.9639\">V</text><line style=\"stroke:#181818;stroke-width:0.5;\" x1=\"231.5\" x2=\"346.5625\" y1=\"234.2656\" y2=\"234.2656\"/><text fill=\"#000000\" font-family=\"sans-serif\" font-size=\"14\" lengthAdjust=\"spacing\" textLength=\"13\" x=\"236.5\" y=\"261.7795\">m</text><text fill=\"#000000\" font-family=\"sans-serif\" font-size=\"14\" font-weight=\"bold\" lengthAdjust=\"spacing\" textLength=\"50.0625\" x=\"253.5\" y=\"261.7795\">default</text><text fill=\"#000000\" font-family=\"sans-serif\" font-size=\"14\" lengthAdjust=\"spacing\" textLength=\"34\" x=\"307.5625\" y=\"261.7795\">= 10</text><text fill=\"#000000\" font-family=\"sans-serif\" font-size=\"14\" lengthAdjust=\"spacing\" textLength=\"47\" x=\"236.5\" y=\"278.0764\">n = 20</text><text fill=\"#000000\" font-family=\"sans-serif\" font-size=\"14\" font-style=\"italic\" lengthAdjust=\"spacing\" textLength=\"66\" x=\"256.0313\" y=\"246.6123\">attributes</text></g></a><!--MD5=[09b614a08d8cba4a07c9adeb5e0fee81]\n",
       "class E3--><a href=\"psysml:f9c62a8d-8a1e-4486-94b1-ee59692b29ae\" target=\"_top\" title=\"psysml:f9c62a8d-8a1e-4486-94b1-ee59692b29ae\" xlink:actuate=\"onRequest\" xlink:href=\"psysml:f9c62a8d-8a1e-4486-94b1-ee59692b29ae\" xlink:show=\"new\" xlink:title=\"psysml:f9c62a8d-8a1e-4486-94b1-ee59692b29ae\" xlink:type=\"simple\"><g id=\"elem_E3\"><rect fill=\"#FFFACD\" filter=\"url(#f2kurjuuw8dh7)\" height=\"76.2844\" id=\"E3\" rx=\"10\" ry=\"10\" style=\"stroke:#181818;stroke-width:0.5;\" width=\"119\" x=\"318.5\" y=\"49.5\"/><text fill=\"#000000\" font-family=\"sans-serif\" font-size=\"12\" font-style=\"italic\" lengthAdjust=\"spacing\" textLength=\"40\" x=\"358\" y=\"65.6387\">«part»</text><text fill=\"#000000\" font-family=\"sans-serif\" font-size=\"14\" lengthAdjust=\"spacing\" textLength=\"34\" x=\"357\" y=\"81.4639\">v1: V</text><line style=\"stroke:#181818;stroke-width:0.5;\" x1=\"319.5\" x2=\"436.5\" y1=\"89.7656\" y2=\"89.7656\"/><path d=\"M326.6667,105.451 L326.6667,117.1177 L327.8333,117.1177 L327.8333,105.451 M330.1667,105.451 L330.1667,117.1177 L339.5,111.2844 L330.1667,105.451 L331.3333,107.201 L337.75,111.2844 L331.3333,115.3677 L331.3333,107.201 \" fill=\"#000000\" style=\"stroke:;stroke-width:0.0;stroke-dasharray:;\"/><text fill=\"#000000\" font-family=\"sans-serif\" font-size=\"14\" lengthAdjust=\"spacing\" textLength=\"51\" x=\"344.5\" y=\"118.4826\">m = 20</text><text fill=\"#000000\" font-family=\"sans-serif\" font-size=\"14\" lengthAdjust=\"spacing\" text-decoration=\"line-through\" textLength=\"32\" x=\"399.5\" y=\"118.4826\">V::m</text><text fill=\"#000000\" font-family=\"sans-serif\" font-size=\"14\" font-style=\"italic\" lengthAdjust=\"spacing\" textLength=\"66\" x=\"345\" y=\"102.1123\">attributes</text></g></a><!--MD5=[ebbe1d658d1005bcc118a6aa81145e00]\n",
       "class E4--><a href=\"psysml:ad7d8f37-2b75-4e7f-880b-981718b0db98\" target=\"_top\" title=\"psysml:ad7d8f37-2b75-4e7f-880b-981718b0db98\" xlink:actuate=\"onRequest\" xlink:href=\"psysml:ad7d8f37-2b75-4e7f-880b-981718b0db98\" xlink:show=\"new\" xlink:title=\"psysml:ad7d8f37-2b75-4e7f-880b-981718b0db98\" xlink:type=\"simple\"><g id=\"elem_E4\"><rect fill=\"#FFFACD\" filter=\"url(#f2kurjuuw8dh7)\" height=\"92.5813\" id=\"E4\" style=\"stroke:#181818;stroke-width:0.5;\" width=\"164.0625\" x=\"119\" y=\"41\"/><text fill=\"#000000\" font-family=\"sans-serif\" font-size=\"12\" font-style=\"italic\" lengthAdjust=\"spacing\" textLength=\"68\" x=\"167.0313\" y=\"57.1387\">«part  def»</text><text fill=\"#000000\" font-family=\"sans-serif\" font-size=\"14\" lengthAdjust=\"spacing\" textLength=\"13\" x=\"194.5313\" y=\"72.9639\">W</text><line style=\"stroke:#181818;stroke-width:0.5;\" x1=\"120\" x2=\"282.0625\" y1=\"81.2656\" y2=\"81.2656\"/><path d=\"M127.1667,96.951 L127.1667,108.6177 L128.3333,108.6177 L128.3333,96.951 M130.6667,96.951 L130.6667,108.6177 L140,102.7844 L130.6667,96.951 L131.8333,98.701 L138.25,102.7844 L131.8333,106.8677 L131.8333,98.701 \" fill=\"#000000\" style=\"stroke:;stroke-width:0.0;stroke-dasharray:;\"/><text fill=\"#000000\" font-family=\"sans-serif\" font-size=\"14\" lengthAdjust=\"spacing\" textLength=\"13\" x=\"145\" y=\"109.9826\">m</text><text fill=\"#000000\" font-family=\"sans-serif\" font-size=\"14\" font-weight=\"bold\" lengthAdjust=\"spacing\" textLength=\"50.0625\" x=\"162\" y=\"109.9826\">default</text><text fill=\"#000000\" font-family=\"sans-serif\" font-size=\"14\" lengthAdjust=\"spacing\" textLength=\"25\" x=\"216.0625\" y=\"109.9826\">= n</text><text fill=\"#000000\" font-family=\"sans-serif\" font-size=\"14\" lengthAdjust=\"spacing\" text-decoration=\"line-through\" textLength=\"32\" x=\"245.0625\" y=\"109.9826\">V::m</text><text fill=\"#000000\" font-family=\"sans-serif\" font-size=\"14\" lengthAdjust=\"spacing\" textLength=\"59\" x=\"125\" y=\"126.2795\">^n = 20</text><text fill=\"#000000\" font-family=\"sans-serif\" font-size=\"14\" font-style=\"italic\" lengthAdjust=\"spacing\" textLength=\"66\" x=\"168.0313\" y=\"93.6123\">attributes</text></g></a><!--MD5=[270fce915f116d4de14055a7c1d9a0f3]\n",
       "class E5--><a href=\"psysml:fd52748d-5cd7-4973-9bed-274bef6831d2\" target=\"_top\" title=\"psysml:fd52748d-5cd7-4973-9bed-274bef6831d2\" xlink:actuate=\"onRequest\" xlink:href=\"psysml:fd52748d-5cd7-4973-9bed-274bef6831d2\" xlink:show=\"new\" xlink:title=\"psysml:fd52748d-5cd7-4973-9bed-274bef6831d2\" xlink:type=\"simple\"><g id=\"elem_E5\"><rect fill=\"#FFFACD\" filter=\"url(#f2kurjuuw8dh7)\" height=\"75.0813\" id=\"E5\" rx=\"10\" ry=\"10\" style=\"stroke:#181818;stroke-width:0.5;\" width=\"52\" x=\"32\" y=\"50\"/><text fill=\"#000000\" font-family=\"sans-serif\" font-size=\"12\" font-style=\"italic\" lengthAdjust=\"spacing\" textLength=\"40\" x=\"38\" y=\"66.1387\">«part»</text><text fill=\"#000000\" font-family=\"sans-serif\" font-size=\"14\" lengthAdjust=\"spacing\" textLength=\"16\" x=\"46\" y=\"81.9639\">v2</text><line style=\"stroke:#181818;stroke-width:0.5;\" x1=\"33\" x2=\"83\" y1=\"90.2656\" y2=\"90.2656\"/><text fill=\"#000000\" font-family=\"sans-serif\" font-size=\"14\" lengthAdjust=\"spacing\" textLength=\"39\" x=\"38\" y=\"117.7795\">= W()</text><text fill=\"#000000\" font-family=\"sans-serif\" font-size=\"14\" font-style=\"italic\" lengthAdjust=\"spacing\" textLength=\"44\" x=\"36\" y=\"102.6123\">values</text></g></a><!--MD5=[05d275557350bfb9b23a4ef7222b4c39]\n",
       "link E3 to E2--><g id=\"link_E3_E2\"><a href=\"psysml:1a78d8f2-030e-492a-8201-32cffefdc08b\" target=\"_top\" title=\"psysml:1a78d8f2-030e-492a-8201-32cffefdc08b\" xlink:actuate=\"onRequest\" xlink:href=\"psysml:1a78d8f2-030e-492a-8201-32cffefdc08b\" xlink:show=\"new\" xlink:title=\"psysml:1a78d8f2-030e-492a-8201-32cffefdc08b\" xlink:type=\"simple\"><path d=\"M356,125.58 C346.86,140.98 336,159.29 325.71,176.62 \" fill=\"none\" id=\"E3-to-E2\" style=\"stroke:#181818;stroke-width:1.0;\"/><polygon fill=\"#FFFFFF\" points=\"315.5,193.83,319.1828,173.9193,331.2202,181.0677,315.5,193.83\" style=\"stroke:#181818;stroke-width:1.0;\"/><ellipse cx=\"323.8129\" cy=\"170.0395\" fill=\"#181818\" rx=\"2\" ry=\"2\" style=\"stroke:#181818;stroke-width:1.0;\"/><ellipse cx=\"332.411\" cy=\"175.1456\" fill=\"#181818\" rx=\"2\" ry=\"2\" style=\"stroke:#181818;stroke-width:1.0;\"/></a></g><!--MD5=[185131fc0dcab0a4505a2ebe144e961b]\n",
       "link E4 to E2--><g id=\"link_E4_E2\"><a href=\"psysml:5695b7ea-3fef-47ac-8247-2c32b379aa0a\" target=\"_top\" title=\"psysml:5695b7ea-3fef-47ac-8247-2c32b379aa0a\" xlink:actuate=\"onRequest\" xlink:href=\"psysml:5695b7ea-3fef-47ac-8247-2c32b379aa0a\" xlink:show=\"new\" xlink:title=\"psysml:5695b7ea-3fef-47ac-8247-2c32b379aa0a\" xlink:type=\"simple\"><path d=\"M227.88,134.32 C235.7,147.65 244.37,162.43 252.67,176.57 \" fill=\"none\" id=\"E4-to-E2\" style=\"stroke:#181818;stroke-width:1.0;\"/><polygon fill=\"none\" points=\"258.8,173.2,262.89,193.99,246.73,180.28,258.8,173.2\" style=\"stroke:#181818;stroke-width:1.0;\"/></a></g><!--MD5=[4950f2049e033520b2d01bf9bdc91804]\n",
       "@startuml\r\n",
       "skin sysmlc\r\n",
       "skinparam wrapWidth 300\r\n",
       "hide circle\r\n",
       "\r\n",
       "package \"DefaultValueTest\" as E1  [[psysml:7da0ff95-83c9-4c69-ab50-6e4dec268467 ]]  {\r\n",
       "comp def \"V\" as E2  <<(T,blue) part  def>> [[psysml:98a54266-dd8e-4aee-8801-c30b6645e897 ]] {\r\n",
       "##//attributes//##\r\n",
       "m<b> default </b><U+003D> 10\r\n",
       "n <U+003D> 20\r\n",
       "}\r\n",
       "comp usage \"v1: V  \" as E3  <<(T,blue) part>> [[psysml:f9c62a8d-8a1e-4486-94b1-ee59692b29ae ]] {\r\n",
       "##//attributes//##\r\n",
       "<&bar-trig> m <U+003D> 20 <s>V::m</s>\r\n",
       "}\r\n",
       "comp def \"W\" as E4  <<(T,blue) part  def>> [[psysml:ad7d8f37-2b75-4e7f-880b-981718b0db98 ]] {\r\n",
       "##//attributes//##\r\n",
       "<&bar-trig> m<b> default </b><U+003D> n <s>V::m</s>\r\n",
       "^n <U+003D> 20\r\n",
       "}\r\n",
       "comp usage \"v2  \" as E5  <<(T,blue) part>> [[psysml:fd52748d-5cd7-4973-9bed-274bef6831d2 ]] {\r\n",
       "##//values//##\r\n",
       " <U+003D> W()\r\n",
       "}\r\n",
       "}\r\n",
       "E3 - -:|> E2 [[psysml:1a78d8f2-030e-492a-8201-32cffefdc08b ]] \r\n",
       "E4 - -|> E2 [[psysml:5695b7ea-3fef-47ac-8247-2c32b379aa0a ]] \r\n",
       "@enduml\r\n",
       "\n",
       "PlantUML version 1.2022.7(Mon Aug 22 17:01:30 UTC 2022)\n",
       "(EPL source distribution)\n",
       "Java Runtime: OpenJDK Runtime Environment\n",
       "JVM: OpenJDK 64-Bit Server VM\n",
       "Default Encoding: UTF-8\n",
       "Language: en\n",
       "Country: null\n",
       "--></g></svg>"
      ]
     },
     "execution_count": 29,
     "metadata": {},
     "output_type": "execute_result"
    }
   ],
   "source": [
    "%viz --style=\"STDCOLOR\" --view=\"MIXED\" \"DefaultValueTest\""
   ]
  },
  {
   "cell_type": "code",
   "execution_count": 30,
   "id": "86f50fe3",
   "metadata": {
    "execution": {
     "iopub.execute_input": "2024-12-16T14:21:29.309248Z",
     "iopub.status.busy": "2024-12-16T14:21:29.309019Z",
     "iopub.status.idle": "2024-12-16T14:21:29.443303Z",
     "shell.execute_reply": "2024-12-16T14:21:29.443120Z"
    }
   },
   "outputs": [
    {
     "data": {
      "image/svg+xml": [
       "<?xml version=\"1.0\" encoding=\"UTF-8\" standalone=\"no\"?><svg xmlns=\"http://www.w3.org/2000/svg\" xmlns:xlink=\"http://www.w3.org/1999/xlink\" contentStyleType=\"text/css\" height=\"306px\" preserveAspectRatio=\"none\" style=\"width:365px;height:306px;background:#FFFFFF;\" version=\"1.1\" viewBox=\"0 0 365 306\" width=\"365px\" zoomAndPan=\"magnify\"><defs/><g><!--MD5=[fbc87193dbaf4d95561dea2c320d4a47]\n",
       "cluster E1--><g id=\"cluster_E1\"><a href=\"psysml:7da0ff95-83c9-4c69-ab50-6e4dec268467\" target=\"_top\" title=\"psysml:7da0ff95-83c9-4c69-ab50-6e4dec268467\" xlink:actuate=\"onRequest\" xlink:href=\"psysml:7da0ff95-83c9-4c69-ab50-6e4dec268467\" xlink:show=\"new\" xlink:title=\"psysml:7da0ff95-83c9-4c69-ab50-6e4dec268467\" xlink:type=\"simple\"><path d=\"M8.5,6 L134.5,6 A3.75,3.75 0 0 1 137,8.5 L144,28.2969 L355.5,28.2969 A2.5,2.5 0 0 1 358,30.7969 L358,296.5 A2.5,2.5 0 0 1 355.5,299 L8.5,299 A2.5,2.5 0 0 1 6,296.5 L6,8.5 A2.5,2.5 0 0 1 8.5,6 \" fill=\"none\" style=\"stroke:#000000;stroke-width:1.5;\"/><line style=\"stroke:#000000;stroke-width:1.5;\" x1=\"6\" x2=\"144\" y1=\"28.2969\" y2=\"28.2969\"/><text fill=\"#000000\" font-family=\"sans-serif\" font-size=\"14\" font-weight=\"bold\" lengthAdjust=\"spacing\" textLength=\"125\" x=\"10\" y=\"20.9951\">DefaultValueTest</text></a></g><!--MD5=[b4997ac47864f28c2f74865a473b2911]\n",
       "class E2--><a href=\"psysml:98a54266-dd8e-4aee-8801-c30b6645e897\" target=\"_top\" title=\"psysml:98a54266-dd8e-4aee-8801-c30b6645e897\" xlink:actuate=\"onRequest\" xlink:href=\"psysml:98a54266-dd8e-4aee-8801-c30b6645e897\" xlink:show=\"new\" xlink:title=\"psysml:98a54266-dd8e-4aee-8801-c30b6645e897\" xlink:type=\"simple\"><g id=\"elem_E2\"><rect fill=\"#F1F1F1\" height=\"83.1125\" id=\"E2\" rx=\"2.5\" ry=\"2.5\" style=\"stroke:#181818;stroke-width:0.5;\" width=\"117.0625\" x=\"172.5\" y=\"200\"/><ellipse cx=\"222.2813\" cy=\"216\" fill=\"#008000\" rx=\"11\" ry=\"11\" style=\"stroke:#181818;stroke-width:1.0;\"/><path d=\"M219.1406,222.5 L219.1406,210.3594 L222.9375,210.3594 Q224.9375,210.3594 225.9844,211.0625 Q227.0469,211.7656 227.0469,213.3438 Q227.0469,214.4375 226.5469,215.1563 Q226.0625,215.875 225.2344,216.0625 L225.2344,216.1406 Q226.1563,216.3594 226.7188,217.0313 Q227.2969,217.6875 227.2969,218.9531 Q227.2969,220.6094 226.25,221.5625 Q225.2031,222.5 223.3438,222.5 L219.1406,222.5 Z M222.9219,215.1406 Q223.8125,215.1406 224.1719,214.8125 Q224.5469,214.4688 224.5469,213.7656 Q224.5469,213.0313 224.1563,212.7188 Q223.7656,212.3906 222.8281,212.3906 L221.4375,212.3906 L221.4375,215.1406 L222.9219,215.1406 Z M223.1094,220.4844 Q224.0156,220.4844 224.375,220.0469 Q224.7344,219.5938 224.7344,218.8125 Q224.7344,218.0313 224.3594,217.6406 Q224,217.2344 223.0156,217.2344 L221.4375,217.2344 L221.4375,220.4844 L223.1094,220.4844 Z \" fill=\"#000000\"/><text fill=\"#000000\" font-family=\"sans-serif\" font-size=\"14\" lengthAdjust=\"spacing\" textLength=\"9\" x=\"242.7813\" y=\"220.8467\">V</text><line style=\"stroke:#181818;stroke-width:0.5;\" x1=\"173.5\" x2=\"288.5625\" y1=\"232\" y2=\"232\"/><text fill=\"#000000\" font-family=\"sans-serif\" font-size=\"14\" lengthAdjust=\"spacing\" textLength=\"13\" x=\"178.5\" y=\"259.5139\">m</text><text fill=\"#000000\" font-family=\"sans-serif\" font-size=\"14\" font-weight=\"bold\" lengthAdjust=\"spacing\" textLength=\"50.0625\" x=\"195.5\" y=\"259.5139\">default</text><text fill=\"#000000\" font-family=\"sans-serif\" font-size=\"14\" lengthAdjust=\"spacing\" textLength=\"34\" x=\"249.5625\" y=\"259.5139\">= 10</text><text fill=\"#000000\" font-family=\"sans-serif\" font-size=\"14\" lengthAdjust=\"spacing\" textLength=\"47\" x=\"178.5\" y=\"275.8107\">n = 20</text><text fill=\"#000000\" font-family=\"sans-serif\" font-size=\"14\" font-style=\"italic\" lengthAdjust=\"spacing\" textLength=\"66\" x=\"198.0313\" y=\"244.3467\">attributes</text></g></a><!--MD5=[09b614a08d8cba4a07c9adeb5e0fee81]\n",
       "class E3--><a href=\"psysml:f9c62a8d-8a1e-4486-94b1-ee59692b29ae\" target=\"_top\" title=\"psysml:f9c62a8d-8a1e-4486-94b1-ee59692b29ae\" xlink:actuate=\"onRequest\" xlink:href=\"psysml:f9c62a8d-8a1e-4486-94b1-ee59692b29ae\" xlink:show=\"new\" xlink:title=\"psysml:f9c62a8d-8a1e-4486-94b1-ee59692b29ae\" xlink:type=\"simple\"><g id=\"elem_E3\"><rect fill=\"#F1F1F1\" height=\"91.3781\" id=\"E3\" rx=\"10\" ry=\"10\" style=\"stroke:#181818;stroke-width:0.5;\" width=\"74\" x=\"268\" y=\"45\"/><ellipse cx=\"283\" cy=\"65.1328\" fill=\"#32CD32\" rx=\"11\" ry=\"11\" style=\"stroke:#181818;stroke-width:1.0;\"/><path d=\"M279.8594,71.6328 L279.8594,59.4922 L283.8906,59.4922 Q285.9844,59.4922 287,60.4766 Q288.0156,61.4453 288.0156,63.2734 Q288.0156,64.4766 287.5781,65.3828 Q287.1563,66.2891 286.2031,66.8047 Q285.2656,67.3203 283.7344,67.3203 L282.2344,67.3203 L282.2344,71.6328 L279.8594,71.6328 Z M283.4844,65.2266 Q284.5313,65.2266 285.0469,64.7422 Q285.5781,64.2578 285.5781,63.3672 Q285.5781,62.4766 285.1406,62.0391 Q284.7188,61.5859 283.7969,61.5859 L282.2344,61.5859 L282.2344,65.2266 L283.4844,65.2266 Z \" fill=\"#000000\"/><text fill=\"#000000\" font-family=\"sans-serif\" font-size=\"12\" font-style=\"italic\" lengthAdjust=\"spacing\" textLength=\"40\" x=\"298\" y=\"61.1387\">«part»</text><text fill=\"#000000\" font-family=\"sans-serif\" font-size=\"14\" lengthAdjust=\"spacing\" textLength=\"34\" x=\"297\" y=\"76.9639\">v1: V</text><line style=\"stroke:#181818;stroke-width:0.5;\" x1=\"269\" x2=\"341\" y1=\"85.2656\" y2=\"85.2656\"/><text fill=\"#000000\" font-family=\"sans-serif\" font-size=\"14\" lengthAdjust=\"spacing\" textLength=\"51\" x=\"274\" y=\"112.7795\">m = 20</text><text fill=\"#000000\" font-family=\"sans-serif\" font-size=\"14\" font-style=\"italic\" lengthAdjust=\"spacing\" textLength=\"61\" x=\"274\" y=\"129.0764\">:&gt;&gt;V::m</text><text fill=\"#000000\" font-family=\"sans-serif\" font-size=\"14\" font-style=\"italic\" lengthAdjust=\"spacing\" textLength=\"66\" x=\"272\" y=\"97.6123\">attributes</text></g></a><!--MD5=[ebbe1d658d1005bcc118a6aa81145e00]\n",
       "class E4--><a href=\"psysml:ad7d8f37-2b75-4e7f-880b-981718b0db98\" target=\"_top\" title=\"psysml:ad7d8f37-2b75-4e7f-880b-981718b0db98\" xlink:actuate=\"onRequest\" xlink:href=\"psysml:ad7d8f37-2b75-4e7f-880b-981718b0db98\" xlink:show=\"new\" xlink:title=\"psysml:ad7d8f37-2b75-4e7f-880b-981718b0db98\" xlink:type=\"simple\"><g id=\"elem_E4\"><rect fill=\"#F1F1F1\" height=\"99.4094\" id=\"E4\" rx=\"2.5\" ry=\"2.5\" style=\"stroke:#181818;stroke-width:0.5;\" width=\"108.0625\" x=\"125\" y=\"41\"/><ellipse cx=\"168.3781\" cy=\"57\" fill=\"#008000\" rx=\"11\" ry=\"11\" style=\"stroke:#181818;stroke-width:1.0;\"/><path d=\"M165.2375,63.5 L165.2375,51.3594 L169.0344,51.3594 Q171.0344,51.3594 172.0813,52.0625 Q173.1438,52.7656 173.1438,54.3438 Q173.1438,55.4375 172.6438,56.1563 Q172.1594,56.875 171.3313,57.0625 L171.3313,57.1406 Q172.2531,57.3594 172.8156,58.0313 Q173.3938,58.6875 173.3938,59.9531 Q173.3938,61.6094 172.3469,62.5625 Q171.3,63.5 169.4406,63.5 L165.2375,63.5 Z M169.0188,56.1406 Q169.9094,56.1406 170.2688,55.8125 Q170.6438,55.4688 170.6438,54.7656 Q170.6438,54.0313 170.2531,53.7188 Q169.8625,53.3906 168.925,53.3906 L167.5344,53.3906 L167.5344,56.1406 L169.0188,56.1406 Z M169.2063,61.4844 Q170.1125,61.4844 170.4719,61.0469 Q170.8313,60.5938 170.8313,59.8125 Q170.8313,59.0313 170.4563,58.6406 Q170.0969,58.2344 169.1125,58.2344 L167.5344,58.2344 L167.5344,61.4844 L169.2063,61.4844 Z \" fill=\"#000000\"/><text fill=\"#000000\" font-family=\"sans-serif\" font-size=\"14\" lengthAdjust=\"spacing\" textLength=\"13\" x=\"188.6844\" y=\"61.8467\">W</text><line style=\"stroke:#181818;stroke-width:0.5;\" x1=\"126\" x2=\"232.0625\" y1=\"73\" y2=\"73\"/><text fill=\"#000000\" font-family=\"sans-serif\" font-size=\"14\" lengthAdjust=\"spacing\" textLength=\"13\" x=\"131\" y=\"100.5139\">m</text><text fill=\"#000000\" font-family=\"sans-serif\" font-size=\"14\" font-weight=\"bold\" lengthAdjust=\"spacing\" textLength=\"50.0625\" x=\"148\" y=\"100.5139\">default</text><text fill=\"#000000\" font-family=\"sans-serif\" font-size=\"14\" lengthAdjust=\"spacing\" textLength=\"25\" x=\"202.0625\" y=\"100.5139\">= n</text><text fill=\"#000000\" font-family=\"sans-serif\" font-size=\"14\" font-style=\"italic\" lengthAdjust=\"spacing\" textLength=\"61\" x=\"131\" y=\"116.8107\">:&gt;&gt;V::m</text><text fill=\"#000000\" font-family=\"sans-serif\" font-size=\"14\" lengthAdjust=\"spacing\" textLength=\"59\" x=\"131\" y=\"133.1076\">^n = 20</text><text fill=\"#000000\" font-family=\"sans-serif\" font-size=\"14\" font-style=\"italic\" lengthAdjust=\"spacing\" textLength=\"66\" x=\"146.0313\" y=\"85.3467\">attributes</text></g></a><!--MD5=[270fce915f116d4de14055a7c1d9a0f3]\n",
       "class E5--><a href=\"psysml:fd52748d-5cd7-4973-9bed-274bef6831d2\" target=\"_top\" title=\"psysml:fd52748d-5cd7-4973-9bed-274bef6831d2\" xlink:actuate=\"onRequest\" xlink:href=\"psysml:fd52748d-5cd7-4973-9bed-274bef6831d2\" xlink:show=\"new\" xlink:title=\"psysml:fd52748d-5cd7-4973-9bed-274bef6831d2\" xlink:type=\"simple\"><g id=\"elem_E5\"><rect fill=\"#F1F1F1\" height=\"75.0813\" id=\"E5\" rx=\"10\" ry=\"10\" style=\"stroke:#181818;stroke-width:0.5;\" width=\"68\" x=\"22\" y=\"53\"/><ellipse cx=\"37\" cy=\"73.1328\" fill=\"#32CD32\" rx=\"11\" ry=\"11\" style=\"stroke:#181818;stroke-width:1.0;\"/><path d=\"M33.8594,79.6328 L33.8594,67.4922 L37.8906,67.4922 Q39.9844,67.4922 41,68.4766 Q42.0156,69.4453 42.0156,71.2734 Q42.0156,72.4766 41.5781,73.3828 Q41.1563,74.2891 40.2031,74.8047 Q39.2656,75.3203 37.7344,75.3203 L36.2344,75.3203 L36.2344,79.6328 L33.8594,79.6328 Z M37.4844,73.2266 Q38.5313,73.2266 39.0469,72.7422 Q39.5781,72.2578 39.5781,71.3672 Q39.5781,70.4766 39.1406,70.0391 Q38.7188,69.5859 37.7969,69.5859 L36.2344,69.5859 L36.2344,73.2266 L37.4844,73.2266 Z \" fill=\"#000000\"/><text fill=\"#000000\" font-family=\"sans-serif\" font-size=\"12\" font-style=\"italic\" lengthAdjust=\"spacing\" textLength=\"40\" x=\"49\" y=\"69.1387\">«part»</text><text fill=\"#000000\" font-family=\"sans-serif\" font-size=\"14\" lengthAdjust=\"spacing\" textLength=\"16\" x=\"57\" y=\"84.9639\">v2</text><line style=\"stroke:#181818;stroke-width:0.5;\" x1=\"23\" x2=\"89\" y1=\"93.2656\" y2=\"93.2656\"/><text fill=\"#000000\" font-family=\"sans-serif\" font-size=\"14\" lengthAdjust=\"spacing\" textLength=\"39\" x=\"28\" y=\"120.7795\">= W()</text><text fill=\"#000000\" font-family=\"sans-serif\" font-size=\"14\" font-style=\"italic\" lengthAdjust=\"spacing\" textLength=\"44\" x=\"34\" y=\"105.6123\">values</text></g></a><!--MD5=[05d275557350bfb9b23a4ef7222b4c39]\n",
       "link E3 to E2--><g id=\"link_E3_E2\"><a href=\"psysml:1a78d8f2-030e-492a-8201-32cffefdc08b\" target=\"_top\" title=\"psysml:1a78d8f2-030e-492a-8201-32cffefdc08b\" xlink:actuate=\"onRequest\" xlink:href=\"psysml:1a78d8f2-030e-492a-8201-32cffefdc08b\" xlink:show=\"new\" xlink:title=\"psysml:1a78d8f2-030e-492a-8201-32cffefdc08b\" xlink:type=\"simple\"><path d=\"M282.8,136.2 C275.65,150.59 267.63,166.74 260.07,181.97 \" fill=\"none\" id=\"E3-to-E2\" style=\"stroke:#181818;stroke-width:1.0;\"/><polygon fill=\"#FFFFFF\" points=\"251.17,199.89,253.361,179.7604,265.897,185.9934,251.17,199.89\" style=\"stroke:#181818;stroke-width:1.0;\"/><ellipse cx=\"257.6896\" cy=\"175.5469\" fill=\"#181818\" rx=\"2\" ry=\"2\" style=\"stroke:#181818;stroke-width:1.0;\"/><ellipse cx=\"266.6439\" cy=\"179.999\" fill=\"#181818\" rx=\"2\" ry=\"2\" style=\"stroke:#181818;stroke-width:1.0;\"/></a></g><!--MD5=[185131fc0dcab0a4505a2ebe144e961b]\n",
       "link E4 to E2--><g id=\"link_E4_E2\"><a href=\"psysml:5695b7ea-3fef-47ac-8247-2c32b379aa0a\" target=\"_top\" title=\"psysml:5695b7ea-3fef-47ac-8247-2c32b379aa0a\" xlink:actuate=\"onRequest\" xlink:href=\"psysml:5695b7ea-3fef-47ac-8247-2c32b379aa0a\" xlink:show=\"new\" xlink:title=\"psysml:5695b7ea-3fef-47ac-8247-2c32b379aa0a\" xlink:type=\"simple\"><path d=\"M196.03,140.29 C200.52,153.18 205.43,167.23 210.11,180.63 \" fill=\"none\" id=\"E4-to-E2\" style=\"stroke:#181818;stroke-width:1.0;\"/><polygon fill=\"none\" points=\"216.74,178.39,216.72,199.58,203.52,183.01,216.74,178.39\" style=\"stroke:#181818;stroke-width:1.0;\"/></a></g><!--MD5=[0a239bea5972310b636f95e5df711fda]\n",
       "@startuml\r\n",
       " \r\n",
       "package \"DefaultValueTest\" as E1  [[psysml:7da0ff95-83c9-4c69-ab50-6e4dec268467 ]]  {\r\n",
       "comp def \"V\" as E2  << << (B,green) >> [[psysml:98a54266-dd8e-4aee-8801-c30b6645e897 ]] {\r\n",
       "##//attributes//##\r\n",
       "m<b> default </b><U+003D> 10\r\n",
       "n <U+003D> 20\r\n",
       "}\r\n",
       "comp usage \"v1: V  \" as E3  << << (P,limegreen) part>> [[psysml:f9c62a8d-8a1e-4486-94b1-ee59692b29ae ]] {\r\n",
       "##//attributes//##\r\n",
       "m <U+003D> 20\\n//:>>V::m// \r\n",
       "}\r\n",
       "comp def \"W\" as E4  << << (B,green) >> [[psysml:ad7d8f37-2b75-4e7f-880b-981718b0db98 ]] {\r\n",
       "##//attributes//##\r\n",
       "m<b> default </b><U+003D> n\\n//:>>V::m// \r\n",
       "^n <U+003D> 20\r\n",
       "}\r\n",
       "comp usage \"v2  \" as E5  << << (P,limegreen) part>> [[psysml:fd52748d-5cd7-4973-9bed-274bef6831d2 ]] {\r\n",
       "##//values//##\r\n",
       " <U+003D> W()\r\n",
       "}\r\n",
       "}\r\n",
       "E3 - -:|> E2 [[psysml:1a78d8f2-030e-492a-8201-32cffefdc08b ]] \r\n",
       "E4 - -|> E2 [[psysml:5695b7ea-3fef-47ac-8247-2c32b379aa0a ]] \r\n",
       "@enduml\r\n",
       "\n",
       "PlantUML version 1.2022.7(Mon Aug 22 17:01:30 UTC 2022)\n",
       "(EPL source distribution)\n",
       "Java Runtime: OpenJDK Runtime Environment\n",
       "JVM: OpenJDK 64-Bit Server VM\n",
       "Default Encoding: UTF-8\n",
       "Language: en\n",
       "Country: null\n",
       "--></g></svg>"
      ]
     },
     "execution_count": 30,
     "metadata": {},
     "output_type": "execute_result"
    }
   ],
   "source": [
    "%viz --style=\"PLANTUML\" --view=\"Default\" \"DefaultValueTest\""
   ]
  },
  {
   "cell_type": "code",
   "execution_count": 31,
   "id": "ef4819b3",
   "metadata": {
    "execution": {
     "iopub.execute_input": "2024-12-16T14:21:29.499051Z",
     "iopub.status.busy": "2024-12-16T14:21:29.498831Z",
     "iopub.status.idle": "2024-12-16T14:21:29.527917Z",
     "shell.execute_reply": "2024-12-16T14:21:29.527582Z"
    }
   },
   "outputs": [
    {
     "data": {
      "image/svg+xml": [
       "<?xml version=\"1.0\" encoding=\"UTF-8\" standalone=\"no\"?><svg xmlns=\"http://www.w3.org/2000/svg\" xmlns:xlink=\"http://www.w3.org/1999/xlink\" contentStyleType=\"text/css\" height=\"306px\" preserveAspectRatio=\"none\" style=\"width:365px;height:306px;background:#FFFFFF;\" version=\"1.1\" viewBox=\"0 0 365 306\" width=\"365px\" zoomAndPan=\"magnify\"><defs/><g><!--MD5=[fbc87193dbaf4d95561dea2c320d4a47]\n",
       "cluster E1--><g id=\"cluster_E1\"><a href=\"psysml:7da0ff95-83c9-4c69-ab50-6e4dec268467\" target=\"_top\" title=\"psysml:7da0ff95-83c9-4c69-ab50-6e4dec268467\" xlink:actuate=\"onRequest\" xlink:href=\"psysml:7da0ff95-83c9-4c69-ab50-6e4dec268467\" xlink:show=\"new\" xlink:title=\"psysml:7da0ff95-83c9-4c69-ab50-6e4dec268467\" xlink:type=\"simple\"><path d=\"M8.5,6 L134.5,6 A3.75,3.75 0 0 1 137,8.5 L144,28.2969 L355.5,28.2969 A2.5,2.5 0 0 1 358,30.7969 L358,296.5 A2.5,2.5 0 0 1 355.5,299 L8.5,299 A2.5,2.5 0 0 1 6,296.5 L6,8.5 A2.5,2.5 0 0 1 8.5,6 \" fill=\"none\" style=\"stroke:#000000;stroke-width:1.5;\"/><line style=\"stroke:#000000;stroke-width:1.5;\" x1=\"6\" x2=\"144\" y1=\"28.2969\" y2=\"28.2969\"/><text fill=\"#000000\" font-family=\"sans-serif\" font-size=\"14\" font-weight=\"bold\" lengthAdjust=\"spacing\" textLength=\"125\" x=\"10\" y=\"20.9951\">DefaultValueTest</text></a></g><!--MD5=[b4997ac47864f28c2f74865a473b2911]\n",
       "class E2--><a href=\"psysml:98a54266-dd8e-4aee-8801-c30b6645e897\" target=\"_top\" title=\"psysml:98a54266-dd8e-4aee-8801-c30b6645e897\" xlink:actuate=\"onRequest\" xlink:href=\"psysml:98a54266-dd8e-4aee-8801-c30b6645e897\" xlink:show=\"new\" xlink:title=\"psysml:98a54266-dd8e-4aee-8801-c30b6645e897\" xlink:type=\"simple\"><g id=\"elem_E2\"><rect fill=\"#F1F1F1\" height=\"83.1125\" id=\"E2\" rx=\"2.5\" ry=\"2.5\" style=\"stroke:#181818;stroke-width:0.5;\" width=\"117.0625\" x=\"172.5\" y=\"200\"/><ellipse cx=\"222.2813\" cy=\"216\" fill=\"#008000\" rx=\"11\" ry=\"11\" style=\"stroke:#181818;stroke-width:1.0;\"/><path d=\"M219.1406,222.5 L219.1406,210.3594 L222.9375,210.3594 Q224.9375,210.3594 225.9844,211.0625 Q227.0469,211.7656 227.0469,213.3438 Q227.0469,214.4375 226.5469,215.1563 Q226.0625,215.875 225.2344,216.0625 L225.2344,216.1406 Q226.1563,216.3594 226.7188,217.0313 Q227.2969,217.6875 227.2969,218.9531 Q227.2969,220.6094 226.25,221.5625 Q225.2031,222.5 223.3438,222.5 L219.1406,222.5 Z M222.9219,215.1406 Q223.8125,215.1406 224.1719,214.8125 Q224.5469,214.4688 224.5469,213.7656 Q224.5469,213.0313 224.1563,212.7188 Q223.7656,212.3906 222.8281,212.3906 L221.4375,212.3906 L221.4375,215.1406 L222.9219,215.1406 Z M223.1094,220.4844 Q224.0156,220.4844 224.375,220.0469 Q224.7344,219.5938 224.7344,218.8125 Q224.7344,218.0313 224.3594,217.6406 Q224,217.2344 223.0156,217.2344 L221.4375,217.2344 L221.4375,220.4844 L223.1094,220.4844 Z \" fill=\"#000000\"/><text fill=\"#000000\" font-family=\"sans-serif\" font-size=\"14\" lengthAdjust=\"spacing\" textLength=\"9\" x=\"242.7813\" y=\"220.8467\">V</text><line style=\"stroke:#181818;stroke-width:0.5;\" x1=\"173.5\" x2=\"288.5625\" y1=\"232\" y2=\"232\"/><text fill=\"#000000\" font-family=\"sans-serif\" font-size=\"14\" lengthAdjust=\"spacing\" textLength=\"13\" x=\"178.5\" y=\"259.5139\">m</text><text fill=\"#000000\" font-family=\"sans-serif\" font-size=\"14\" font-weight=\"bold\" lengthAdjust=\"spacing\" textLength=\"50.0625\" x=\"195.5\" y=\"259.5139\">default</text><text fill=\"#000000\" font-family=\"sans-serif\" font-size=\"14\" lengthAdjust=\"spacing\" textLength=\"34\" x=\"249.5625\" y=\"259.5139\">= 10</text><text fill=\"#000000\" font-family=\"sans-serif\" font-size=\"14\" lengthAdjust=\"spacing\" textLength=\"47\" x=\"178.5\" y=\"275.8107\">n = 20</text><text fill=\"#000000\" font-family=\"sans-serif\" font-size=\"14\" font-style=\"italic\" lengthAdjust=\"spacing\" textLength=\"66\" x=\"198.0313\" y=\"244.3467\">attributes</text></g></a><!--MD5=[09b614a08d8cba4a07c9adeb5e0fee81]\n",
       "class E3--><a href=\"psysml:f9c62a8d-8a1e-4486-94b1-ee59692b29ae\" target=\"_top\" title=\"psysml:f9c62a8d-8a1e-4486-94b1-ee59692b29ae\" xlink:actuate=\"onRequest\" xlink:href=\"psysml:f9c62a8d-8a1e-4486-94b1-ee59692b29ae\" xlink:show=\"new\" xlink:title=\"psysml:f9c62a8d-8a1e-4486-94b1-ee59692b29ae\" xlink:type=\"simple\"><g id=\"elem_E3\"><rect fill=\"#F1F1F1\" height=\"91.3781\" id=\"E3\" rx=\"10\" ry=\"10\" style=\"stroke:#181818;stroke-width:0.5;\" width=\"74\" x=\"268\" y=\"45\"/><ellipse cx=\"283\" cy=\"65.1328\" fill=\"#32CD32\" rx=\"11\" ry=\"11\" style=\"stroke:#181818;stroke-width:1.0;\"/><path d=\"M279.8594,71.6328 L279.8594,59.4922 L283.8906,59.4922 Q285.9844,59.4922 287,60.4766 Q288.0156,61.4453 288.0156,63.2734 Q288.0156,64.4766 287.5781,65.3828 Q287.1563,66.2891 286.2031,66.8047 Q285.2656,67.3203 283.7344,67.3203 L282.2344,67.3203 L282.2344,71.6328 L279.8594,71.6328 Z M283.4844,65.2266 Q284.5313,65.2266 285.0469,64.7422 Q285.5781,64.2578 285.5781,63.3672 Q285.5781,62.4766 285.1406,62.0391 Q284.7188,61.5859 283.7969,61.5859 L282.2344,61.5859 L282.2344,65.2266 L283.4844,65.2266 Z \" fill=\"#000000\"/><text fill=\"#000000\" font-family=\"sans-serif\" font-size=\"12\" font-style=\"italic\" lengthAdjust=\"spacing\" textLength=\"40\" x=\"298\" y=\"61.1387\">«part»</text><text fill=\"#000000\" font-family=\"sans-serif\" font-size=\"14\" lengthAdjust=\"spacing\" textLength=\"34\" x=\"297\" y=\"76.9639\">v1: V</text><line style=\"stroke:#181818;stroke-width:0.5;\" x1=\"269\" x2=\"341\" y1=\"85.2656\" y2=\"85.2656\"/><text fill=\"#000000\" font-family=\"sans-serif\" font-size=\"14\" lengthAdjust=\"spacing\" textLength=\"51\" x=\"274\" y=\"112.7795\">m = 20</text><text fill=\"#000000\" font-family=\"sans-serif\" font-size=\"14\" font-style=\"italic\" lengthAdjust=\"spacing\" textLength=\"61\" x=\"274\" y=\"129.0764\">:&gt;&gt;V::m</text><text fill=\"#000000\" font-family=\"sans-serif\" font-size=\"14\" font-style=\"italic\" lengthAdjust=\"spacing\" textLength=\"66\" x=\"272\" y=\"97.6123\">attributes</text></g></a><!--MD5=[ebbe1d658d1005bcc118a6aa81145e00]\n",
       "class E4--><a href=\"psysml:ad7d8f37-2b75-4e7f-880b-981718b0db98\" target=\"_top\" title=\"psysml:ad7d8f37-2b75-4e7f-880b-981718b0db98\" xlink:actuate=\"onRequest\" xlink:href=\"psysml:ad7d8f37-2b75-4e7f-880b-981718b0db98\" xlink:show=\"new\" xlink:title=\"psysml:ad7d8f37-2b75-4e7f-880b-981718b0db98\" xlink:type=\"simple\"><g id=\"elem_E4\"><rect fill=\"#F1F1F1\" height=\"99.4094\" id=\"E4\" rx=\"2.5\" ry=\"2.5\" style=\"stroke:#181818;stroke-width:0.5;\" width=\"108.0625\" x=\"125\" y=\"41\"/><ellipse cx=\"168.3781\" cy=\"57\" fill=\"#008000\" rx=\"11\" ry=\"11\" style=\"stroke:#181818;stroke-width:1.0;\"/><path d=\"M165.2375,63.5 L165.2375,51.3594 L169.0344,51.3594 Q171.0344,51.3594 172.0813,52.0625 Q173.1438,52.7656 173.1438,54.3438 Q173.1438,55.4375 172.6438,56.1563 Q172.1594,56.875 171.3313,57.0625 L171.3313,57.1406 Q172.2531,57.3594 172.8156,58.0313 Q173.3938,58.6875 173.3938,59.9531 Q173.3938,61.6094 172.3469,62.5625 Q171.3,63.5 169.4406,63.5 L165.2375,63.5 Z M169.0188,56.1406 Q169.9094,56.1406 170.2688,55.8125 Q170.6438,55.4688 170.6438,54.7656 Q170.6438,54.0313 170.2531,53.7188 Q169.8625,53.3906 168.925,53.3906 L167.5344,53.3906 L167.5344,56.1406 L169.0188,56.1406 Z M169.2063,61.4844 Q170.1125,61.4844 170.4719,61.0469 Q170.8313,60.5938 170.8313,59.8125 Q170.8313,59.0313 170.4563,58.6406 Q170.0969,58.2344 169.1125,58.2344 L167.5344,58.2344 L167.5344,61.4844 L169.2063,61.4844 Z \" fill=\"#000000\"/><text fill=\"#000000\" font-family=\"sans-serif\" font-size=\"14\" lengthAdjust=\"spacing\" textLength=\"13\" x=\"188.6844\" y=\"61.8467\">W</text><line style=\"stroke:#181818;stroke-width:0.5;\" x1=\"126\" x2=\"232.0625\" y1=\"73\" y2=\"73\"/><text fill=\"#000000\" font-family=\"sans-serif\" font-size=\"14\" lengthAdjust=\"spacing\" textLength=\"13\" x=\"131\" y=\"100.5139\">m</text><text fill=\"#000000\" font-family=\"sans-serif\" font-size=\"14\" font-weight=\"bold\" lengthAdjust=\"spacing\" textLength=\"50.0625\" x=\"148\" y=\"100.5139\">default</text><text fill=\"#000000\" font-family=\"sans-serif\" font-size=\"14\" lengthAdjust=\"spacing\" textLength=\"25\" x=\"202.0625\" y=\"100.5139\">= n</text><text fill=\"#000000\" font-family=\"sans-serif\" font-size=\"14\" font-style=\"italic\" lengthAdjust=\"spacing\" textLength=\"61\" x=\"131\" y=\"116.8107\">:&gt;&gt;V::m</text><text fill=\"#000000\" font-family=\"sans-serif\" font-size=\"14\" lengthAdjust=\"spacing\" textLength=\"59\" x=\"131\" y=\"133.1076\">^n = 20</text><text fill=\"#000000\" font-family=\"sans-serif\" font-size=\"14\" font-style=\"italic\" lengthAdjust=\"spacing\" textLength=\"66\" x=\"146.0313\" y=\"85.3467\">attributes</text></g></a><!--MD5=[270fce915f116d4de14055a7c1d9a0f3]\n",
       "class E5--><a href=\"psysml:fd52748d-5cd7-4973-9bed-274bef6831d2\" target=\"_top\" title=\"psysml:fd52748d-5cd7-4973-9bed-274bef6831d2\" xlink:actuate=\"onRequest\" xlink:href=\"psysml:fd52748d-5cd7-4973-9bed-274bef6831d2\" xlink:show=\"new\" xlink:title=\"psysml:fd52748d-5cd7-4973-9bed-274bef6831d2\" xlink:type=\"simple\"><g id=\"elem_E5\"><rect fill=\"#F1F1F1\" height=\"75.0813\" id=\"E5\" rx=\"10\" ry=\"10\" style=\"stroke:#181818;stroke-width:0.5;\" width=\"68\" x=\"22\" y=\"53\"/><ellipse cx=\"37\" cy=\"73.1328\" fill=\"#32CD32\" rx=\"11\" ry=\"11\" style=\"stroke:#181818;stroke-width:1.0;\"/><path d=\"M33.8594,79.6328 L33.8594,67.4922 L37.8906,67.4922 Q39.9844,67.4922 41,68.4766 Q42.0156,69.4453 42.0156,71.2734 Q42.0156,72.4766 41.5781,73.3828 Q41.1563,74.2891 40.2031,74.8047 Q39.2656,75.3203 37.7344,75.3203 L36.2344,75.3203 L36.2344,79.6328 L33.8594,79.6328 Z M37.4844,73.2266 Q38.5313,73.2266 39.0469,72.7422 Q39.5781,72.2578 39.5781,71.3672 Q39.5781,70.4766 39.1406,70.0391 Q38.7188,69.5859 37.7969,69.5859 L36.2344,69.5859 L36.2344,73.2266 L37.4844,73.2266 Z \" fill=\"#000000\"/><text fill=\"#000000\" font-family=\"sans-serif\" font-size=\"12\" font-style=\"italic\" lengthAdjust=\"spacing\" textLength=\"40\" x=\"49\" y=\"69.1387\">«part»</text><text fill=\"#000000\" font-family=\"sans-serif\" font-size=\"14\" lengthAdjust=\"spacing\" textLength=\"16\" x=\"57\" y=\"84.9639\">v2</text><line style=\"stroke:#181818;stroke-width:0.5;\" x1=\"23\" x2=\"89\" y1=\"93.2656\" y2=\"93.2656\"/><text fill=\"#000000\" font-family=\"sans-serif\" font-size=\"14\" lengthAdjust=\"spacing\" textLength=\"39\" x=\"28\" y=\"120.7795\">= W()</text><text fill=\"#000000\" font-family=\"sans-serif\" font-size=\"14\" font-style=\"italic\" lengthAdjust=\"spacing\" textLength=\"44\" x=\"34\" y=\"105.6123\">values</text></g></a><!--MD5=[05d275557350bfb9b23a4ef7222b4c39]\n",
       "link E3 to E2--><g id=\"link_E3_E2\"><a href=\"psysml:1a78d8f2-030e-492a-8201-32cffefdc08b\" target=\"_top\" title=\"psysml:1a78d8f2-030e-492a-8201-32cffefdc08b\" xlink:actuate=\"onRequest\" xlink:href=\"psysml:1a78d8f2-030e-492a-8201-32cffefdc08b\" xlink:show=\"new\" xlink:title=\"psysml:1a78d8f2-030e-492a-8201-32cffefdc08b\" xlink:type=\"simple\"><path d=\"M282.8,136.2 C275.65,150.59 267.63,166.74 260.07,181.97 \" fill=\"none\" id=\"E3-to-E2\" style=\"stroke:#181818;stroke-width:1.0;\"/><polygon fill=\"#FFFFFF\" points=\"251.17,199.89,253.361,179.7604,265.897,185.9934,251.17,199.89\" style=\"stroke:#181818;stroke-width:1.0;\"/><ellipse cx=\"257.6896\" cy=\"175.5469\" fill=\"#181818\" rx=\"2\" ry=\"2\" style=\"stroke:#181818;stroke-width:1.0;\"/><ellipse cx=\"266.6439\" cy=\"179.999\" fill=\"#181818\" rx=\"2\" ry=\"2\" style=\"stroke:#181818;stroke-width:1.0;\"/></a></g><!--MD5=[185131fc0dcab0a4505a2ebe144e961b]\n",
       "link E4 to E2--><g id=\"link_E4_E2\"><a href=\"psysml:5695b7ea-3fef-47ac-8247-2c32b379aa0a\" target=\"_top\" title=\"psysml:5695b7ea-3fef-47ac-8247-2c32b379aa0a\" xlink:actuate=\"onRequest\" xlink:href=\"psysml:5695b7ea-3fef-47ac-8247-2c32b379aa0a\" xlink:show=\"new\" xlink:title=\"psysml:5695b7ea-3fef-47ac-8247-2c32b379aa0a\" xlink:type=\"simple\"><path d=\"M196.03,140.29 C200.52,153.18 205.43,167.23 210.11,180.63 \" fill=\"none\" id=\"E4-to-E2\" style=\"stroke:#181818;stroke-width:1.0;\"/><polygon fill=\"none\" points=\"216.74,178.39,216.72,199.58,203.52,183.01,216.74,178.39\" style=\"stroke:#181818;stroke-width:1.0;\"/></a></g><!--MD5=[0a239bea5972310b636f95e5df711fda]\n",
       "@startuml\r\n",
       " \r\n",
       "package \"DefaultValueTest\" as E1  [[psysml:7da0ff95-83c9-4c69-ab50-6e4dec268467 ]]  {\r\n",
       "comp def \"V\" as E2  << << (B,green) >> [[psysml:98a54266-dd8e-4aee-8801-c30b6645e897 ]] {\r\n",
       "##//attributes//##\r\n",
       "m<b> default </b><U+003D> 10\r\n",
       "n <U+003D> 20\r\n",
       "}\r\n",
       "comp usage \"v1: V  \" as E3  << << (P,limegreen) part>> [[psysml:f9c62a8d-8a1e-4486-94b1-ee59692b29ae ]] {\r\n",
       "##//attributes//##\r\n",
       "m <U+003D> 20\\n//:>>V::m// \r\n",
       "}\r\n",
       "comp def \"W\" as E4  << << (B,green) >> [[psysml:ad7d8f37-2b75-4e7f-880b-981718b0db98 ]] {\r\n",
       "##//attributes//##\r\n",
       "m<b> default </b><U+003D> n\\n//:>>V::m// \r\n",
       "^n <U+003D> 20\r\n",
       "}\r\n",
       "comp usage \"v2  \" as E5  << << (P,limegreen) part>> [[psysml:fd52748d-5cd7-4973-9bed-274bef6831d2 ]] {\r\n",
       "##//values//##\r\n",
       " <U+003D> W()\r\n",
       "}\r\n",
       "}\r\n",
       "E3 - -:|> E2 [[psysml:1a78d8f2-030e-492a-8201-32cffefdc08b ]] \r\n",
       "E4 - -|> E2 [[psysml:5695b7ea-3fef-47ac-8247-2c32b379aa0a ]] \r\n",
       "@enduml\r\n",
       "\n",
       "PlantUML version 1.2022.7(Mon Aug 22 17:01:30 UTC 2022)\n",
       "(EPL source distribution)\n",
       "Java Runtime: OpenJDK Runtime Environment\n",
       "JVM: OpenJDK 64-Bit Server VM\n",
       "Default Encoding: UTF-8\n",
       "Language: en\n",
       "Country: null\n",
       "--></g></svg>"
      ]
     },
     "execution_count": 31,
     "metadata": {},
     "output_type": "execute_result"
    }
   ],
   "source": [
    "%viz --style=\"PLANTUML\" --view=\"Tree\" \"DefaultValueTest\""
   ]
  },
  {
   "cell_type": "code",
   "execution_count": 32,
   "id": "95094193",
   "metadata": {
    "execution": {
     "iopub.execute_input": "2024-12-16T14:21:29.583071Z",
     "iopub.status.busy": "2024-12-16T14:21:29.582839Z",
     "iopub.status.idle": "2024-12-16T14:21:29.619568Z",
     "shell.execute_reply": "2024-12-16T14:21:29.619368Z"
    }
   },
   "outputs": [
    {
     "data": {
      "image/svg+xml": [
       "<?xml version=\"1.0\" encoding=\"UTF-8\" standalone=\"no\"?><svg xmlns=\"http://www.w3.org/2000/svg\" xmlns:xlink=\"http://www.w3.org/1999/xlink\" contentStyleType=\"text/css\" height=\"389px\" preserveAspectRatio=\"none\" style=\"width:603px;height:389px;background:#000000;\" version=\"1.1\" viewBox=\"0 0 603 389\" width=\"603px\" zoomAndPan=\"magnify\"><defs/><g><rect fill=\"#161403\" height=\"1\" style=\"stroke:#161403;stroke-width:1.0;\" width=\"1\" x=\"0\" y=\"0\"/><rect fill=\"#FFFFFF\" height=\"226.6573\" style=\"stroke:#FFFFFF;stroke-width:1.0;\" width=\"602\" x=\"0\" y=\"0\"/><text fill=\"#000000\" font-family=\"sans-serif\" font-size=\"12\" font-weight=\"bold\" lengthAdjust=\"spacing\" textLength=\"145.75\" x=\"5\" y=\"16.1387\">Welcome to PlantUML!</text><text fill=\"#000000\" font-family=\"sans-serif\" font-size=\"12\" lengthAdjust=\"spacing\" textLength=\"4\" x=\"5\" y=\"30.1074\"> </text><text fill=\"#000000\" font-family=\"sans-serif\" font-size=\"12\" lengthAdjust=\"spacing\" textLength=\"283\" x=\"5\" y=\"44.0762\">You can start with a simple UML Diagram like:</text><text fill=\"#000000\" font-family=\"sans-serif\" font-size=\"12\" lengthAdjust=\"spacing\" textLength=\"4\" x=\"5\" y=\"58.0449\"> </text><text fill=\"#000000\" font-family=\"monospace\" font-size=\"12\" lengthAdjust=\"spacing\" textLength=\"119\" x=\"5\" y=\"73.7031\">Bob-&gt;Alice: Hello</text><text fill=\"#000000\" font-family=\"sans-serif\" font-size=\"12\" lengthAdjust=\"spacing\" textLength=\"4\" x=\"5\" y=\"88.3578\"> </text><text fill=\"#000000\" font-family=\"sans-serif\" font-size=\"12\" lengthAdjust=\"spacing\" textLength=\"14\" x=\"5\" y=\"102.3265\">Or</text><text fill=\"#000000\" font-family=\"sans-serif\" font-size=\"12\" lengthAdjust=\"spacing\" textLength=\"4\" x=\"5\" y=\"116.2953\"> </text><text fill=\"#000000\" font-family=\"monospace\" font-size=\"12\" lengthAdjust=\"spacing\" textLength=\"91\" x=\"5\" y=\"131.9535\">class Example</text><text fill=\"#000000\" font-family=\"sans-serif\" font-size=\"12\" lengthAdjust=\"spacing\" textLength=\"4\" x=\"5\" y=\"146.6082\"> </text><text fill=\"#000000\" font-family=\"sans-serif\" font-size=\"12\" lengthAdjust=\"spacing\" textLength=\"349\" x=\"5\" y=\"160.5769\">You will find more information about PlantUML syntax on</text><text fill=\"#000000\" font-family=\"sans-serif\" font-size=\"12\" lengthAdjust=\"spacing\" text-decoration=\"underline\" textLength=\"129\" x=\"358\" y=\"160.5769\">https://plantuml.com</text><text fill=\"#000000\" font-family=\"sans-serif\" font-size=\"12\" lengthAdjust=\"spacing\" textLength=\"4\" x=\"5\" y=\"174.5457\"> </text><text fill=\"#000000\" font-family=\"sans-serif\" font-size=\"12\" lengthAdjust=\"spacing\" textLength=\"299\" x=\"5\" y=\"188.5144\">(If you use this software, you accept its license)</text><text fill=\"#000000\" font-family=\"sans-serif\" font-size=\"12\" lengthAdjust=\"spacing\" textLength=\"108\" x=\"5\" y=\"204.8585\">(Details by typing</text><text fill=\"#000000\" font-family=\"monospace\" font-size=\"12\" lengthAdjust=\"spacing\" textLength=\"49\" x=\"117\" y=\"204.1726\">license</text><text fill=\"#000000\" font-family=\"sans-serif\" font-size=\"12\" lengthAdjust=\"spacing\" textLength=\"56\" x=\"170\" y=\"204.8585\">keyword)</text><text fill=\"#000000\" font-family=\"sans-serif\" font-size=\"12\" lengthAdjust=\"spacing\" textLength=\"4\" x=\"5\" y=\"218.8273\"> </text><image height=\"71\" width=\"80\" x=\"516\" xlink:href=\"data:image/png;base64,iVBORw0KGgoAAAANSUhEUgAAAFAAAABHCAMAAACnHDC8AAADAFBMVEX///+BpbvD3u/f7vfPz8+nz+g3ksuZEDkWADr/ujlvsdpTodLCwsOLwOEbg8T//v6pqamZETnLysvT09To5+jqLS4VATj9/f27u7vDw8MTfsK+v7/j4+SOweJprdjL4/KxsbEri8jk8PgXa57c29uUETez1utQoNJ1tNtEmc9cptWBut6ayOW/3O6YEDjY6vUfhcXBwcHs7Ozw9/v83t79uTn7+/vX19ehoaHx8fG2tLXHx8fuVlfrNTYaBjn/vUH5+fmko6WXl5f/+fn95ub+9PT+8PD3qKidmaMxIUrnqDWcFj7n5eX09PTu7u2SkpKfnZ6rq6z0lJTm4tzJrHUfDT339/eFGDn6tjcrEzOvrbBuZ3l4eomSMS7Hz9Smpqasu8SFiYuQETfa2du1m6OOM051J0NWTWL5xse4uLj6zc33r6/4vb7ydHXqLi/72dntTE3tR0ijbn5jW3C+u8NANVQrG0XFubqRVGZza4GQGT2VaS7a0NPJtI6IJj/zszrfqkXXzr/Hw8cgC0LUqltOQ2JsSC5bTGjOpFafSi2+iDGtyt14m7TJhTCPJUSwoIG/qa+ikHiIgpCRHjI9j8KXbnaQH0FLf6FGPlp0cnYyKE2rg49Wj7dFXHmcwtrp6uu+xMjvYWLvW1z97e3sPD3sP0DuUlP709PYzdDPmzqZWWySRVygfHHd1smWkZ+PgnibETqsl260q5fLuppJLC/dpj2HPFLTtHv/ujrTwJy5s6iWjIi0iD3joTTCmU3trjuvZS2zlFvjq0HSyLbYp0qRts10XGxEKC9yPVBQZIOPdlNvMk2NeYNqRlujtcCVrr3j5eY1gK9Qn9GLp7lbeJXRxrCkiZDaozyukoJ+H0B3rc+OYy+iprJkYXdhmr6ee0afs79xq9BikrGKjI3FomEiLFO0ay6nfIm4pZXRjTFuhZSZWm0zcZyJN0KNTk4eebNfdIGGlZ93h5kcED5nOVYyRWbziIk9dJ4kerE5ZYxRUnLG1d7p8PTvY2PtTk/1nZ1ycV/bAAAFx0lEQVR4Xu1Ye1BUVRg/e3dhl4csKyxqPlBJQVETF2icAY13GogkEFqizqRRpoBpTCIapaUOhWNjUdOMSBpqJYZTg4KigFKADzSIVZ4qD5VFluXhLgvbPee+r49R7v2z3+zcc77fOfPb7zvfPd85uwCIhwT4wPisANwPAuIKHnbHH1I+KwAXDA18ShDW58CneCEnXl8JGwmfHylCPSvlZ/FWxh8YIRIxTWkZAEofkTz8sNq7tAqE2gODOB6GYZobVaH20SVZ4oQcdmXV0L7c4b8OFvJHRoYwdVIoyPX3gxtFDA+V8e6mM8pBoCjij4wQiWo/ALzV/kpkifBi13p4waZuGrJEECycixcEVSbYgFwUozg4/qSraOxrP7O8Eogj2HDxyMWmzpk6823+yIjhvR7fLOpDsCuGhwC0WfbkjQq8A0MWC0EgIYzPCYMymM8Iwcvz6K4IWw8skTrgq3iPMIQnxdfKrvyedpyvbSsyBQt6zcH6OxXmjqYxg9PbgXBBveK6aRAXNEl1Ssc+hz7Bgntyohb/ggQlNrrdzfIuoYKSb79067PrRoLmGo25SeghJRn1yMrSbPTptZaoBlwtlWbBHspxiW+mW8+46ereVnMXGxbFQ+mjofiHZTrclJn5E14UEgdrO9tRVph0HDJlYlRsLv4XFA7RBA1kK5ogBb7gtn08AvxWymc2b+YzLHC3nnOCNHvdayUsZpnnwnPqGf+yGKcPKlv92vtJC209zGyRWJmgyd16sSGGT/AmM2rdKZKZHxwCz7KUodLzJOO8th4OBqxdo0c2tfUkNr3QlJkZQWWMBP0uwBHvmQQb3zRVCMnsMO6ATazf3f0kkza0HTaPCdIhpyTknqP61Te1eV2gRpr1FUn4xtxRT72pDHhj09/UnBLjiv72p4d8FEtlLibBd7Qg0xK5+XfS9q2AzxSVHPnNIMBS8BQPw8N1W4glQWj0mtp4+nSHhvKYOM4GL6vH1jGTcDQ3p1979AQPI5agXEDYwuS5awknJ73rHU56RyLAr6ACpO5iMRGvp3XykjImgs4Fgm2/7URc8dhbeD9jdhYVNon0mdFcAjTIXbmC75VrmVHcQ+JDIXbuNmYUYlZoYx6XcWjKTWavYXd1WzU9OEh9wLFfEVFza5PEhVhDAvfLx60cWM3ePMa9hyZG5DNr6DbQiCUcYU0AKGzGyYxlkf+wxnCk+wdwCbA/TkWH7Dbgoq8dcmKNssQQ3F/JmMxlIj/fzo/7s9OIwUMebbYzbh2zLfk7ehBGzIau6OeO+xzGKlBRwCGAXNaCFgYbRoKG+hMTfMff4M6h0LYxpmv/92ym9tIxc4uRzawynCEWGhum7odf9/75vh8zg0bKijX5AMxhMacsK8pBxaJihtnQqr1KG8yFMzq/dutJ2iKwNCbXA7Yamsm2Xn0XtgtowY3Xy8rpYc4NNqon8eM49k+NtzU55GtMleGAkNR6oldDMhH+e9EX0JB+UYKv4WgLZrLCjHV7wnyYlzJZvYV6A6d1w6xEph842UUyTkjGIbzwRA/JIOBJKSt88yglqND1h6TpiQqQV99wmJ7nknQcgIIHqd00EwSzgudigGYQUHE4qFMcGJb22kp7lNop8p6znStvg5S2e1TVRti56w/zj8fZzKLiDa317MqBQFbs+J3dcbSgo+H4D0kLOokJ82/NR8KZbp9eIZgllwKR8Ec1ejIX827POk/06HpYffGd5dkoZJXMqDAVXd1Nbhavlx4OyuAiPcyAF3Ick8faXAuE5WToApkMxykL1PbNRJ91SDkXOyymPFR1UMlw9GjRPKCrPsRSvUnbzbkELj2PSSRkQLiH1AvROTutlpryLHQAoCD+C2BBP4npMwd9zsIgzgaDsK+bctmVw3hetai5t9RS4PEqub4QnCvxteGzOZyQXxjscxkhHisWKMi72+T0p1dxGeGYkG0ez+eeG7In/n/oNOexC9fzIiLvPxVtKp84iza+AAAAAElFTkSuQmCC\" y=\"6\"/><rect fill=\"#000000\" height=\"160.3594\" style=\"stroke:#000000;stroke-width:1.0;\" width=\"602\" x=\"0\" y=\"226.6573\"/><text fill=\"#33FF02\" font-family=\"sans-serif\" font-size=\"12\" font-style=\"italic\" font-weight=\"bold\" lengthAdjust=\"spacing\" textLength=\"123\" x=\"5\" y=\"243.6573\">PlantUML 1.2022.7</text><text fill=\"#33FF02\" font-family=\"sans-serif\" font-size=\"12\" font-style=\"italic\" font-weight=\"bold\" lengthAdjust=\"spacing\" textLength=\"4\" x=\"5\" y=\"257.6261\"> </text><text fill=\"#33FF02\" font-family=\"sans-serif\" font-size=\"12\" font-style=\"italic\" font-weight=\"bold\" lengthAdjust=\"spacing\" textLength=\"390\" x=\"5\" y=\"271.5948\">&lt;b&gt;This version of PlantUML is 846 days old, so you should</text><text fill=\"#33FF02\" font-family=\"sans-serif\" font-size=\"12\" font-style=\"italic\" font-weight=\"bold\" lengthAdjust=\"spacing\" textLength=\"398.875\" x=\"5\" y=\"285.5636\">&lt;b&gt;consider upgrading from https://plantuml.com/download</text><rect fill=\"#33FF02\" height=\"21.2969\" style=\"stroke:#33FF02;stroke-width:1.0;\" width=\"153.3125\" x=\"5\" y=\"295.5323\"/><text fill=\"#000000\" font-family=\"sans-serif\" font-size=\"14\" font-weight=\"bold\" lengthAdjust=\"spacing\" textLength=\"151.3125\" x=\"6\" y=\"310.5323\">[From string (line 2) ]</text><text fill=\"#33FF02\" font-family=\"sans-serif\" font-size=\"14\" font-weight=\"bold\" lengthAdjust=\"spacing\" textLength=\"4\" x=\"5\" y=\"330.8292\"> </text><text fill=\"#33FF02\" font-family=\"sans-serif\" font-size=\"14\" font-weight=\"bold\" lengthAdjust=\"spacing\" textLength=\"73.9375\" x=\"5\" y=\"347.1261\">@startuml</text><text fill=\"#33FF02\" font-family=\"sans-serif\" font-size=\"14\" font-weight=\"bold\" lengthAdjust=\"spacing\" text-decoration=\"wavy underline\" textLength=\"4\" x=\"5\" y=\"363.423\"> </text><text fill=\"#FF0000\" font-family=\"sans-serif\" font-size=\"14\" font-weight=\"bold\" lengthAdjust=\"spacing\" textLength=\"131\" x=\"9\" y=\"379.7198\">Empty description</text><!--MD5=[5b6570bdd48fecdb4121f0162c378f28]\n",
       "@startuml\r\n",
       " \r\n",
       "@enduml\r\n",
       "\n",
       "PlantUML version 1.2022.7(Mon Aug 22 17:01:30 UTC 2022)\n",
       "(EPL source distribution)\n",
       "Java Runtime: OpenJDK Runtime Environment\n",
       "JVM: OpenJDK 64-Bit Server VM\n",
       "Default Encoding: UTF-8\n",
       "Language: en\n",
       "Country: null\n",
       "--></g></svg>"
      ]
     },
     "execution_count": 32,
     "metadata": {},
     "output_type": "execute_result"
    }
   ],
   "source": [
    "%viz --style=\"PLANTUML\" --view=\"State\" \"DefaultValueTest\""
   ]
  },
  {
   "cell_type": "code",
   "execution_count": 33,
   "id": "230c28e9",
   "metadata": {
    "execution": {
     "iopub.execute_input": "2024-12-16T14:21:29.670471Z",
     "iopub.status.busy": "2024-12-16T14:21:29.670224Z",
     "iopub.status.idle": "2024-12-16T14:21:29.704607Z",
     "shell.execute_reply": "2024-12-16T14:21:29.703621Z"
    }
   },
   "outputs": [
    {
     "data": {
      "image/svg+xml": [
       "<?xml version=\"1.0\" encoding=\"UTF-8\" standalone=\"no\"?><svg xmlns=\"http://www.w3.org/2000/svg\" xmlns:xlink=\"http://www.w3.org/1999/xlink\" contentStyleType=\"text/css\" height=\"445px\" preserveAspectRatio=\"none\" style=\"width:689px;height:445px;background:#FFFFFF;\" version=\"1.1\" viewBox=\"0 0 689 445\" width=\"689px\" zoomAndPan=\"magnify\"><defs/><g><!--MD5=[fbc87193dbaf4d95561dea2c320d4a47]\n",
       "cluster E1--><g id=\"cluster_E1\"><a href=\"psysml:7da0ff95-83c9-4c69-ab50-6e4dec268467\" target=\"_top\" title=\"psysml:7da0ff95-83c9-4c69-ab50-6e4dec268467\" xlink:actuate=\"onRequest\" xlink:href=\"psysml:7da0ff95-83c9-4c69-ab50-6e4dec268467\" xlink:show=\"new\" xlink:title=\"psysml:7da0ff95-83c9-4c69-ab50-6e4dec268467\" xlink:type=\"simple\"><path d=\"M8.5,6 L134.5,6 A3.75,3.75 0 0 1 137,8.5 L144,28.2969 L679.5,28.2969 A2.5,2.5 0 0 1 682,30.7969 L682,435.5 A2.5,2.5 0 0 1 679.5,438 L8.5,438 A2.5,2.5 0 0 1 6,435.5 L6,8.5 A2.5,2.5 0 0 1 8.5,6 \" fill=\"none\" style=\"stroke:#000000;stroke-width:1.5;\"/><line style=\"stroke:#000000;stroke-width:1.5;\" x1=\"6\" x2=\"144\" y1=\"28.2969\" y2=\"28.2969\"/><text fill=\"#000000\" font-family=\"sans-serif\" font-size=\"14\" font-weight=\"bold\" lengthAdjust=\"spacing\" textLength=\"125\" x=\"10\" y=\"20.9951\">DefaultValueTest</text></a></g><!--MD5=[e4f7fae6ed58524ba242bb0b0d3be6b7]\n",
       "cluster E2--><g id=\"cluster_E2\"><a href=\"psysml:98a54266-dd8e-4aee-8801-c30b6645e897\" target=\"_top\" title=\"psysml:98a54266-dd8e-4aee-8801-c30b6645e897\" xlink:actuate=\"onRequest\" xlink:href=\"psysml:98a54266-dd8e-4aee-8801-c30b6645e897\" xlink:show=\"new\" xlink:title=\"psysml:98a54266-dd8e-4aee-8801-c30b6645e897\" xlink:type=\"simple\"><rect fill=\"#FFFFFF\" height=\"142\" id=\"E2\" style=\"stroke:#A80036;stroke-width:1.5;\" width=\"304\" x=\"346\" y=\"264\"/><rect fill=\"#F1F1F1\" height=\"26.2969\" style=\"stroke:#A80036;stroke-width:1.5;\" width=\"304\" x=\"346\" y=\"264\"/><text fill=\"#000000\" font-family=\"sans-serif\" font-size=\"14\" lengthAdjust=\"spacing\" textLength=\"9\" x=\"493.5\" y=\"281.9951\">V</text></a></g><!--MD5=[de5ec2e2e8f62f467e546659f5068c88]\n",
       "cluster E5--><g id=\"cluster_E5\"><a href=\"psysml:f9c62a8d-8a1e-4486-94b1-ee59692b29ae\" target=\"_top\" title=\"psysml:f9c62a8d-8a1e-4486-94b1-ee59692b29ae\" xlink:actuate=\"onRequest\" xlink:href=\"psysml:f9c62a8d-8a1e-4486-94b1-ee59692b29ae\" xlink:show=\"new\" xlink:title=\"psysml:f9c62a8d-8a1e-4486-94b1-ee59692b29ae\" xlink:type=\"simple\"><rect fill=\"#FFFFFF\" height=\"142\" id=\"E5\" rx=\"10\" ry=\"10\" style=\"stroke:#A80036;stroke-width:1.5;\" width=\"164\" x=\"431\" y=\"57\"/><rect fill=\"#F1F1F1\" height=\"26.2969\" rx=\"10\" ry=\"10\" style=\"stroke:#F1F1F1;stroke-width:1.5;\" width=\"164\" x=\"431\" y=\"57\"/><rect fill=\"#F1F1F1\" height=\"10\" style=\"stroke:#F1F1F1;stroke-width:1.5;\" width=\"164\" x=\"431\" y=\"73.2969\"/><rect fill=\"none\" height=\"142\" id=\"E5\" rx=\"10\" ry=\"10\" style=\"stroke:#A80036;stroke-width:1.5;\" width=\"164\" x=\"431\" y=\"57\"/><text fill=\"#000000\" font-family=\"sans-serif\" font-size=\"14\" lengthAdjust=\"spacing\" textLength=\"34\" x=\"496\" y=\"74.9951\">v1: V</text><line style=\"stroke:#A80036;stroke-width:1.0;\" x1=\"431\" x2=\"595\" y1=\"83.2969\" y2=\"83.2969\"/></a></g><!--MD5=[168fadf3d0c3fd93dd5d6da1b1d7ab76]\n",
       "cluster E7--><g id=\"cluster_E7\"><a href=\"psysml:ad7d8f37-2b75-4e7f-880b-981718b0db98\" target=\"_top\" title=\"psysml:ad7d8f37-2b75-4e7f-880b-981718b0db98\" xlink:actuate=\"onRequest\" xlink:href=\"psysml:ad7d8f37-2b75-4e7f-880b-981718b0db98\" xlink:show=\"new\" xlink:title=\"psysml:ad7d8f37-2b75-4e7f-880b-981718b0db98\" xlink:type=\"simple\"><rect fill=\"#FFFFFF\" height=\"349\" id=\"E7\" style=\"stroke:#A80036;stroke-width:1.5;\" width=\"164\" x=\"142\" y=\"57\"/><rect fill=\"#F1F1F1\" height=\"26.2969\" style=\"stroke:#A80036;stroke-width:1.5;\" width=\"164\" x=\"142\" y=\"57\"/><text fill=\"#000000\" font-family=\"sans-serif\" font-size=\"14\" lengthAdjust=\"spacing\" textLength=\"13\" x=\"217.5\" y=\"74.9951\">W</text></a></g><!--MD5=[09b614a08d8cba4a07c9adeb5e0fee81]\n",
       "class E3--><a href=\"psysml:6c5b3b06-fe87-444e-9dd6-6649acbff1c0\" target=\"_top\" title=\"psysml:6c5b3b06-fe87-444e-9dd6-6649acbff1c0\" xlink:actuate=\"onRequest\" xlink:href=\"psysml:6c5b3b06-fe87-444e-9dd6-6649acbff1c0\" xlink:show=\"new\" xlink:title=\"psysml:6c5b3b06-fe87-444e-9dd6-6649acbff1c0\" xlink:type=\"simple\"><g id=\"elem_E3\"><rect fill=\"#F1F1F1\" height=\"75.0813\" id=\"E3\" rx=\"10\" ry=\"10\" style=\"stroke:#181818;stroke-width:0.5;\" width=\"104.0625\" x=\"522\" y=\"307\"/><ellipse cx=\"540.1781\" cy=\"327.1328\" fill=\"#FFA500\" rx=\"11\" ry=\"11\" style=\"stroke:#181818;stroke-width:1.0;\"/><path d=\"M540.2406,334.3047 Q538.1313,334.3047 537.0375,333.1797 Q535.9438,332.0547 535.9438,330.0078 L535.9438,321.9922 L538.4125,321.9922 L538.4125,329.5703 Q538.4125,331.0078 538.8656,331.6016 Q539.3188,332.1797 540.2719,332.1797 Q541.2875,332.1797 541.7094,331.5703 Q542.1469,330.9609 542.1469,329.5547 L542.1469,321.9922 L544.6156,321.9922 L544.6156,329.9922 Q544.6156,331.9766 543.5219,333.1484 Q542.4438,334.3047 540.2406,334.3047 Z \" fill=\"#000000\"/><text fill=\"#000000\" font-family=\"sans-serif\" font-size=\"12\" font-style=\"italic\" lengthAdjust=\"spacing\" textLength=\"69\" x=\"552.8844\" y=\"323.1387\">«attribute»</text><text fill=\"#000000\" font-family=\"sans-serif\" font-size=\"14\" lengthAdjust=\"spacing\" textLength=\"13\" x=\"576.8844\" y=\"338.9639\">m</text><line style=\"stroke:#181818;stroke-width:0.5;\" x1=\"523\" x2=\"625.0625\" y1=\"347.2656\" y2=\"347.2656\"/><text fill=\"#000000\" font-family=\"sans-serif\" font-size=\"14\" font-weight=\"bold\" lengthAdjust=\"spacing\" textLength=\"50.0625\" x=\"532\" y=\"374.7795\">default</text><text fill=\"#000000\" font-family=\"sans-serif\" font-size=\"14\" lengthAdjust=\"spacing\" textLength=\"34\" x=\"586.0625\" y=\"374.7795\">= 10</text><text fill=\"#000000\" font-family=\"sans-serif\" font-size=\"14\" font-style=\"italic\" lengthAdjust=\"spacing\" textLength=\"44\" x=\"552.0313\" y=\"359.6123\">values</text></g></a><!--MD5=[ebbe1d658d1005bcc118a6aa81145e00]\n",
       "class E4--><a href=\"psysml:d4a77e27-0ca8-4584-84f6-1d4e52d400d2\" target=\"_top\" title=\"psysml:d4a77e27-0ca8-4584-84f6-1d4e52d400d2\" xlink:actuate=\"onRequest\" xlink:href=\"psysml:d4a77e27-0ca8-4584-84f6-1d4e52d400d2\" xlink:show=\"new\" xlink:title=\"psysml:d4a77e27-0ca8-4584-84f6-1d4e52d400d2\" xlink:type=\"simple\"><g id=\"elem_E4\"><rect fill=\"#F1F1F1\" height=\"75.0813\" id=\"E4\" rx=\"10\" ry=\"10\" style=\"stroke:#181818;stroke-width:0.5;\" width=\"97\" x=\"389.5\" y=\"307\"/><ellipse cx=\"404.5\" cy=\"327.1328\" fill=\"#FFA500\" rx=\"11\" ry=\"11\" style=\"stroke:#181818;stroke-width:1.0;\"/><path d=\"M404.5625,334.3047 Q402.4531,334.3047 401.3594,333.1797 Q400.2656,332.0547 400.2656,330.0078 L400.2656,321.9922 L402.7344,321.9922 L402.7344,329.5703 Q402.7344,331.0078 403.1875,331.6016 Q403.6406,332.1797 404.5938,332.1797 Q405.6094,332.1797 406.0313,331.5703 Q406.4688,330.9609 406.4688,329.5547 L406.4688,321.9922 L408.9375,321.9922 L408.9375,329.9922 Q408.9375,331.9766 407.8438,333.1484 Q406.7656,334.3047 404.5625,334.3047 Z \" fill=\"#000000\"/><text fill=\"#000000\" font-family=\"sans-serif\" font-size=\"12\" font-style=\"italic\" lengthAdjust=\"spacing\" textLength=\"69\" x=\"416.5\" y=\"323.1387\">«attribute»</text><text fill=\"#000000\" font-family=\"sans-serif\" font-size=\"14\" lengthAdjust=\"spacing\" textLength=\"9\" x=\"442.5\" y=\"338.9639\">n</text><line style=\"stroke:#181818;stroke-width:0.5;\" x1=\"390.5\" x2=\"485.5\" y1=\"347.2656\" y2=\"347.2656\"/><text fill=\"#000000\" font-family=\"sans-serif\" font-size=\"14\" lengthAdjust=\"spacing\" textLength=\"34\" x=\"395.5\" y=\"374.7795\">= 20</text><text fill=\"#000000\" font-family=\"sans-serif\" font-size=\"14\" font-style=\"italic\" lengthAdjust=\"spacing\" textLength=\"44\" x=\"416\" y=\"359.6123\">values</text></g></a><!--MD5=[60a26617385b1d2d0262a64233df1f8d]\n",
       "class E6--><a href=\"psysml:c20e1062-5069-459a-93a7-f31b5f49cd74\" target=\"_top\" title=\"psysml:c20e1062-5069-459a-93a7-f31b5f49cd74\" xlink:actuate=\"onRequest\" xlink:href=\"psysml:c20e1062-5069-459a-93a7-f31b5f49cd74\" xlink:show=\"new\" xlink:title=\"psysml:c20e1062-5069-459a-93a7-f31b5f49cd74\" xlink:type=\"simple\"><g id=\"elem_E6\"><rect fill=\"#F1F1F1\" height=\"75.0813\" id=\"E6\" rx=\"10\" ry=\"10\" style=\"stroke:#181818;stroke-width:0.5;\" width=\"97\" x=\"474.5\" y=\"100\"/><ellipse cx=\"489.5\" cy=\"120.1328\" fill=\"#FFA500\" rx=\"11\" ry=\"11\" style=\"stroke:#181818;stroke-width:1.0;\"/><path d=\"M489.5625,127.3047 Q487.4531,127.3047 486.3594,126.1797 Q485.2656,125.0547 485.2656,123.0078 L485.2656,114.9922 L487.7344,114.9922 L487.7344,122.5703 Q487.7344,124.0078 488.1875,124.6016 Q488.6406,125.1797 489.5938,125.1797 Q490.6094,125.1797 491.0313,124.5703 Q491.4688,123.9609 491.4688,122.5547 L491.4688,114.9922 L493.9375,114.9922 L493.9375,122.9922 Q493.9375,124.9766 492.8438,126.1484 Q491.7656,127.3047 489.5625,127.3047 Z \" fill=\"#000000\"/><text fill=\"#000000\" font-family=\"sans-serif\" font-size=\"12\" font-style=\"italic\" lengthAdjust=\"spacing\" textLength=\"69\" x=\"501.5\" y=\"116.1387\">«attribute»</text><text fill=\"#000000\" font-family=\"sans-serif\" font-size=\"14\" lengthAdjust=\"spacing\" textLength=\"13\" x=\"525.5\" y=\"131.9639\">m</text><line style=\"stroke:#181818;stroke-width:0.5;\" x1=\"475.5\" x2=\"570.5\" y1=\"140.2656\" y2=\"140.2656\"/><text fill=\"#000000\" font-family=\"sans-serif\" font-size=\"14\" lengthAdjust=\"spacing\" textLength=\"34\" x=\"480.5\" y=\"167.7795\">= 20</text><text fill=\"#000000\" font-family=\"sans-serif\" font-size=\"14\" font-style=\"italic\" lengthAdjust=\"spacing\" textLength=\"44\" x=\"501\" y=\"152.6123\">values</text></g></a><!--MD5=[b9389687b975829384b498ac4b7476b2]\n",
       "class E8--><a href=\"psysml:073a166e-558c-466c-90f5-50af09b65e43\" target=\"_top\" title=\"psysml:073a166e-558c-466c-90f5-50af09b65e43\" xlink:actuate=\"onRequest\" xlink:href=\"psysml:073a166e-558c-466c-90f5-50af09b65e43\" xlink:show=\"new\" xlink:title=\"psysml:073a166e-558c-466c-90f5-50af09b65e43\" xlink:type=\"simple\"><g id=\"elem_E8\"><rect fill=\"#F1F1F1\" height=\"75.0813\" id=\"E8\" rx=\"10\" ry=\"10\" style=\"stroke:#181818;stroke-width:0.5;\" width=\"97\" x=\"165.5\" y=\"100\"/><ellipse cx=\"180.5\" cy=\"120.1328\" fill=\"#FFA500\" rx=\"11\" ry=\"11\" style=\"stroke:#181818;stroke-width:1.0;\"/><path d=\"M180.5625,127.3047 Q178.4531,127.3047 177.3594,126.1797 Q176.2656,125.0547 176.2656,123.0078 L176.2656,114.9922 L178.7344,114.9922 L178.7344,122.5703 Q178.7344,124.0078 179.1875,124.6016 Q179.6406,125.1797 180.5938,125.1797 Q181.6094,125.1797 182.0313,124.5703 Q182.4688,123.9609 182.4688,122.5547 L182.4688,114.9922 L184.9375,114.9922 L184.9375,122.9922 Q184.9375,124.9766 183.8438,126.1484 Q182.7656,127.3047 180.5625,127.3047 Z \" fill=\"#000000\"/><text fill=\"#000000\" font-family=\"sans-serif\" font-size=\"12\" font-style=\"italic\" lengthAdjust=\"spacing\" textLength=\"69\" x=\"192.5\" y=\"116.1387\">«attribute»</text><text fill=\"#000000\" font-family=\"sans-serif\" font-size=\"14\" lengthAdjust=\"spacing\" textLength=\"13\" x=\"216.5\" y=\"131.9639\">m</text><line style=\"stroke:#181818;stroke-width:0.5;\" x1=\"166.5\" x2=\"261.5\" y1=\"140.2656\" y2=\"140.2656\"/><text fill=\"#000000\" font-family=\"sans-serif\" font-size=\"14\" font-weight=\"bold\" lengthAdjust=\"spacing\" textLength=\"50.0625\" x=\"175.5\" y=\"167.7795\">default</text><text fill=\"#000000\" font-family=\"sans-serif\" font-size=\"14\" lengthAdjust=\"spacing\" textLength=\"25\" x=\"229.5625\" y=\"167.7795\">= n</text><text fill=\"#000000\" font-family=\"sans-serif\" font-size=\"14\" font-style=\"italic\" lengthAdjust=\"spacing\" textLength=\"44\" x=\"192\" y=\"152.6123\">values</text></g></a><!--MD5=[fd4143e9d270a159db93a4ea2a975926]\n",
       "class E9--><a href=\"psysml:d4a77e27-0ca8-4584-84f6-1d4e52d400d2\" target=\"_top\" title=\"psysml:d4a77e27-0ca8-4584-84f6-1d4e52d400d2\" xlink:actuate=\"onRequest\" xlink:href=\"psysml:d4a77e27-0ca8-4584-84f6-1d4e52d400d2\" xlink:show=\"new\" xlink:title=\"psysml:d4a77e27-0ca8-4584-84f6-1d4e52d400d2\" xlink:type=\"simple\"><g id=\"elem_E9\"><rect fill=\"#F1F1F1\" height=\"75.0813\" id=\"E9\" rx=\"10\" ry=\"10\" style=\"stroke:#181818;stroke-width:0.5;\" width=\"97\" x=\"165.5\" y=\"307\"/><ellipse cx=\"180.5\" cy=\"327.1328\" fill=\"#FFA500\" rx=\"11\" ry=\"11\" style=\"stroke:#181818;stroke-width:1.0;\"/><path d=\"M180.5625,334.3047 Q178.4531,334.3047 177.3594,333.1797 Q176.2656,332.0547 176.2656,330.0078 L176.2656,321.9922 L178.7344,321.9922 L178.7344,329.5703 Q178.7344,331.0078 179.1875,331.6016 Q179.6406,332.1797 180.5938,332.1797 Q181.6094,332.1797 182.0313,331.5703 Q182.4688,330.9609 182.4688,329.5547 L182.4688,321.9922 L184.9375,321.9922 L184.9375,329.9922 Q184.9375,331.9766 183.8438,333.1484 Q182.7656,334.3047 180.5625,334.3047 Z \" fill=\"#000000\"/><text fill=\"#000000\" font-family=\"sans-serif\" font-size=\"12\" font-style=\"italic\" lengthAdjust=\"spacing\" textLength=\"69\" x=\"192.5\" y=\"323.1387\">«attribute»</text><text fill=\"#000000\" font-family=\"sans-serif\" font-size=\"14\" lengthAdjust=\"spacing\" textLength=\"21\" x=\"212.5\" y=\"338.9639\">^n</text><line style=\"stroke:#181818;stroke-width:0.5;\" x1=\"166.5\" x2=\"261.5\" y1=\"347.2656\" y2=\"347.2656\"/><text fill=\"#000000\" font-family=\"sans-serif\" font-size=\"14\" lengthAdjust=\"spacing\" textLength=\"34\" x=\"171.5\" y=\"374.7795\">= 20</text><text fill=\"#000000\" font-family=\"sans-serif\" font-size=\"14\" font-style=\"italic\" lengthAdjust=\"spacing\" textLength=\"44\" x=\"192\" y=\"359.6123\">values</text></g></a><g><a href=\"psysml:fd52748d-5cd7-4973-9bed-274bef6831d2\" target=\"_top\" title=\"psysml:fd52748d-5cd7-4973-9bed-274bef6831d2\" xlink:actuate=\"onRequest\" xlink:href=\"psysml:fd52748d-5cd7-4973-9bed-274bef6831d2\" xlink:show=\"new\" xlink:title=\"psysml:fd52748d-5cd7-4973-9bed-274bef6831d2\" xlink:type=\"simple\"><rect fill=\"#F1F1F1\" height=\"40\" id=\"E10\" rx=\"10\" ry=\"10\" style=\"stroke:#A80036;stroke-width:1.5;\" width=\"96\" x=\"22\" y=\"117.5\"/><ellipse cx=\"39.25\" cy=\"133.5\" fill=\"#F1F1F1\" rx=\"11\" ry=\"11\" style=\"stroke:#181818;stroke-width:1.0;\"/><path d=\"M39.3125,140.6719 Q37.2031,140.6719 36.1094,139.5469 Q35.0156,138.4219 35.0156,136.375 L35.0156,128.3594 L37.4844,128.3594 L37.4844,135.9375 Q37.4844,137.375 37.9375,137.9688 Q38.3906,138.5469 39.3438,138.5469 Q40.3594,138.5469 40.7813,137.9375 Q41.2188,137.3281 41.2188,135.9219 L41.2188,128.3594 L43.6875,128.3594 L43.6875,136.3594 Q43.6875,138.3438 42.5938,139.5156 Q41.5156,140.6719 39.3125,140.6719 Z \" fill=\"#000000\"/><text fill=\"#000000\" font-family=\"sans-serif\" font-size=\"14\" lengthAdjust=\"spacing\" textLength=\"59\" x=\"53.75\" y=\"138.3467\">v2 = W()</text></a></g><!--MD5=[a717450b82c80b9240a525fa862496af]\n",
       "link E6 to E3--><g id=\"link_E6_E3\"><a href=\"psysml:bbca0750-a9c1-46d9-82f5-94045bc6258a\" target=\"_top\" title=\"psysml:bbca0750-a9c1-46d9-82f5-94045bc6258a\" xlink:actuate=\"onRequest\" xlink:href=\"psysml:bbca0750-a9c1-46d9-82f5-94045bc6258a\" xlink:show=\"new\" xlink:title=\"psysml:bbca0750-a9c1-46d9-82f5-94045bc6258a\" xlink:type=\"simple\"><path d=\"M532.12,175.15 C539.85,206.25 551.08,251.36 559.96,287.07 \" fill=\"none\" id=\"E6-to-E3\" style=\"stroke:#181818;stroke-width:1.0;\"/><polygon fill=\"#FFFFFF\" points=\"564.88,306.82,553.5011,290.0712,567.0872,286.6922,564.88,306.82\" style=\"stroke:#181818;stroke-width:1.0;\"/><line style=\"stroke:#181818;stroke-width:2.0;\" x1=\"552.584\" x2=\"566.1701\" y1=\"286.3836\" y2=\"283.0045\"/></a></g><!--MD5=[15ebcb19ae302d9b601edb458606d402]\n",
       "link E5 to E2--><g id=\"link_E5_E2\"><a href=\"psysml:1a78d8f2-030e-492a-8201-32cffefdc08b\" target=\"_top\" title=\"psysml:1a78d8f2-030e-492a-8201-32cffefdc08b\" xlink:actuate=\"onRequest\" xlink:href=\"psysml:1a78d8f2-030e-492a-8201-32cffefdc08b\" xlink:show=\"new\" xlink:title=\"psysml:1a78d8f2-030e-492a-8201-32cffefdc08b\" xlink:type=\"simple\"><path d=\"M430.8518,149.3911 C430.7094,149.587 430.5655,149.7852 430.4202,149.9858 C425.7684,156.4034 419.6056,165.1756 412.9038,175.4388 C399.5,195.965 383.94,222.455 374,248 C372.0963,252.8938 370.3603,258.0027 368.7795,263.2029 C368.7301,263.3654 368.6808,263.528 368.6317,263.6906 \" fill=\"none\" id=\"E5-to-E2\" style=\"stroke:#181818;stroke-width:1.0;\"/><polygon fill=\"#FFFFFF\" points=\"368.6317,263.6906,367.4202,243.4785,380.823,247.5236,368.6317,263.6906\" style=\"stroke:#181818;stroke-width:1.0;\"/><ellipse cx=\"370.9818\" cy=\"238.5995\" fill=\"#181818\" rx=\"2\" ry=\"2\" style=\"stroke:#181818;stroke-width:1.0;\"/><ellipse cx=\"380.5553\" cy=\"241.4889\" fill=\"#181818\" rx=\"2\" ry=\"2\" style=\"stroke:#181818;stroke-width:1.0;\"/></a></g><!--MD5=[583832df87f4419a098336a29a52fa00]\n",
       "link E7 to E2--><g id=\"link_E7_E2\"><a href=\"psysml:5695b7ea-3fef-47ac-8247-2c32b379aa0a\" target=\"_top\" title=\"psysml:5695b7ea-3fef-47ac-8247-2c32b379aa0a\" xlink:actuate=\"onRequest\" xlink:href=\"psysml:5695b7ea-3fef-47ac-8247-2c32b379aa0a\" xlink:show=\"new\" xlink:title=\"psysml:5695b7ea-3fef-47ac-8247-2c32b379aa0a\" xlink:type=\"simple\"><path d=\"M306.0643,168.0216 C306.1414,168.3038 306.2189,168.5875 306.2968,168.8728 C306.6085,170.0138 306.9269,171.1791 307.2514,172.367 C312.4441,191.3747 319.2281,216.2081 326.0113,241.0388 C332.7944,265.8694 339.5766,290.6972 344.7655,309.6936 C345.0898,310.8809 345.4079,312.0454 345.7193,313.1857 C345.7972,313.4707 345.8747,313.7543 345.9517,314.0363 \" fill=\"none\" id=\"E7-to-E2\" style=\"stroke:#181818;stroke-width:1.0;\"/><polygon fill=\"#FFFFFF\" points=\"345.9517,314.0363,347.6979,293.8633,334.1926,297.5522,345.9517,314.0363\" style=\"stroke:#181818;stroke-width:1.0;\"/></a></g><!--MD5=[95fa686b5a16158bcdbcaeead89f639b]\n",
       "link E8 to E3--><g id=\"link_E8_E3\"><a href=\"psysml:921fa623-ecc5-4b2e-b8c8-ebddf6697201\" target=\"_top\" title=\"psysml:921fa623-ecc5-4b2e-b8c8-ebddf6697201\" xlink:actuate=\"onRequest\" xlink:href=\"psysml:921fa623-ecc5-4b2e-b8c8-ebddf6697201\" xlink:show=\"new\" xlink:title=\"psysml:921fa623-ecc5-4b2e-b8c8-ebddf6697201\" xlink:type=\"simple\"><path d=\"M230.58,175.27 C239.07,189.96 250.86,205.6 266,215 C356.72,271.34 412.3,193.28 504,248 C520.85,258.06 534.87,273.89 545.82,289.8 \" fill=\"none\" id=\"E8-to-E3\" style=\"stroke:#181818;stroke-width:1.0;\"/><polygon fill=\"#FFFFFF\" points=\"556.5,306.82,540.4734,294.4447,552.333,287.005,556.5,306.82\" style=\"stroke:#181818;stroke-width:1.0;\"/><line style=\"stroke:#181818;stroke-width:2.0;\" x1=\"538.454\" x2=\"550.3136\" y1=\"291.2257\" y2=\"283.7859\"/></a></g><!--MD5=[ed10624c06dd9a4fa49ccf290e8b16a8]\n",
       "link E8 to E9--><g id=\"link_E8_E9\"><a href=\"psysml:fc577d85-8ebe-448e-af16-5782109a2fa7\" target=\"_top\" title=\"psysml:fc577d85-8ebe-448e-af16-5782109a2fa7\" xlink:actuate=\"onRequest\" xlink:href=\"psysml:fc577d85-8ebe-448e-af16-5782109a2fa7\" xlink:show=\"new\" xlink:title=\"psysml:fc577d85-8ebe-448e-af16-5782109a2fa7\" xlink:type=\"simple\"><path d=\"M214,175.15 C214,212.35 214,269.61 214,306.82 \" fill=\"none\" id=\"E8-E9\" style=\"stroke:#181818;stroke-width:5.0;\"/><text fill=\"#000000\" font-family=\"sans-serif\" font-size=\"13\" lengthAdjust=\"spacing\" textLength=\"11\" x=\"215\" y=\"236.0669\">=</text></a></g><!--MD5=[18fdde0feeeb0c4a9049ef776dc1271e]\n",
       "@startuml\r\n",
       " skinparam ranksep 10\r\n",
       "skinparam rectangle {\r\n",
       " backgroundColor<<block>> LightGreen\r\n",
       "}\r\n",
       "\r\n",
       "package \"DefaultValueTest\" as E1  [[psysml:7da0ff95-83c9-4c69-ab50-6e4dec268467 ]]  {\r\n",
       "rec def \"V\" as E2  << << (B,green) >> [[psysml:98a54266-dd8e-4aee-8801-c30b6645e897 ]] {\r\n",
       "comp usage \"m  \" as E3  << <<(U,orange) attribute>> [[psysml:6c5b3b06-fe87-444e-9dd6-6649acbff1c0 ]] {\r\n",
       "##//values//##\r\n",
       "<b> default </b><U+003D> 10\r\n",
       "}\r\n",
       "comp usage \"n  \" as E4  << <<(U,orange) attribute>> [[psysml:d4a77e27-0ca8-4584-84f6-1d4e52d400d2 ]] {\r\n",
       "##//values//##\r\n",
       " <U+003D> 20\r\n",
       "}\r\n",
       "}\r\n",
       "rec usage \"v1: V\" as E5 [[psysml:f9c62a8d-8a1e-4486-94b1-ee59692b29ae ]] {\r\n",
       "comp usage \"m  \" as E6  << <<(U,orange) attribute>> [[psysml:c20e1062-5069-459a-93a7-f31b5f49cd74 ]] {\r\n",
       "##//values//##\r\n",
       " <U+003D> 20\r\n",
       "}\r\n",
       "}\r\n",
       "rec def \"W\" as E7  << << (B,green) >> [[psysml:ad7d8f37-2b75-4e7f-880b-981718b0db98 ]] {\r\n",
       "comp usage \"m  \" as E8  << <<(U,orange) attribute>> [[psysml:073a166e-558c-466c-90f5-50af09b65e43 ]] {\r\n",
       "##//values//##\r\n",
       "<b> default </b><U+003D> n\r\n",
       "}\r\n",
       "comp usage \"^n  \" as E9  << <<(U,orange) attribute>> [[psysml:d4a77e27-0ca8-4584-84f6-1d4e52d400d2 ]] {\r\n",
       "##//values//##\r\n",
       " <U+003D> 20\r\n",
       "}\r\n",
       "}\r\n",
       "rec usage \"v2 <U+003D> W()\" as E10 [[psysml:fd52748d-5cd7-4973-9bed-274bef6831d2 ]] {\r\n",
       "}\r\n",
       "}\r\n",
       "E6 - -||> E3 [[psysml:bbca0750-a9c1-46d9-82f5-94045bc6258a ]] \r\n",
       "E5 - -:|> E2 [[psysml:1a78d8f2-030e-492a-8201-32cffefdc08b ]] \r\n",
       "E7 - -|> E2 [[psysml:5695b7ea-3fef-47ac-8247-2c32b379aa0a ]] \r\n",
       "E8 - -||> E3 [[psysml:921fa623-ecc5-4b2e-b8c8-ebddf6697201 ]] \r\n",
       "E8 -[thickness=5]- E9 [[psysml:fc577d85-8ebe-448e-af16-5782109a2fa7 ]] : =\r\n",
       "@enduml\r\n",
       "\n",
       "PlantUML version 1.2022.7(Mon Aug 22 17:01:30 UTC 2022)\n",
       "(EPL source distribution)\n",
       "Java Runtime: OpenJDK Runtime Environment\n",
       "JVM: OpenJDK 64-Bit Server VM\n",
       "Default Encoding: UTF-8\n",
       "Language: en\n",
       "Country: null\n",
       "--></g></svg>"
      ]
     },
     "execution_count": 33,
     "metadata": {},
     "output_type": "execute_result"
    }
   ],
   "source": [
    "%viz --style=\"PLANTUML\" --view=\"Interconnection\" \"DefaultValueTest\""
   ]
  },
  {
   "cell_type": "code",
   "execution_count": 34,
   "id": "b286e556",
   "metadata": {
    "execution": {
     "iopub.execute_input": "2024-12-16T14:21:29.758786Z",
     "iopub.status.busy": "2024-12-16T14:21:29.758557Z",
     "iopub.status.idle": "2024-12-16T14:21:29.763574Z",
     "shell.execute_reply": "2024-12-16T14:21:29.763382Z"
    }
   },
   "outputs": [
    {
     "data": {
      "image/svg+xml": [
       "<?xml version=\"1.0\" encoding=\"UTF-8\" standalone=\"no\"?><svg xmlns=\"http://www.w3.org/2000/svg\" xmlns:xlink=\"http://www.w3.org/1999/xlink\" contentStyleType=\"text/css\" height=\"10px\" preserveAspectRatio=\"none\" style=\"width:10px;height:10px;background:#FFFFFF;\" version=\"1.1\" viewBox=\"0 0 10 10\" width=\"10px\" zoomAndPan=\"magnify\"><defs/><g><!--MD5=[5b85ed15c012f432344d03f88cdcf85b]\n",
       "@startuml\r\n",
       " skinparam ranksep 8\r\n",
       "\r\n",
       "@enduml\r\n",
       "\n",
       "PlantUML version 1.2022.7(Mon Aug 22 17:01:30 UTC 2022)\n",
       "(EPL source distribution)\n",
       "Java Runtime: OpenJDK Runtime Environment\n",
       "JVM: OpenJDK 64-Bit Server VM\n",
       "Default Encoding: UTF-8\n",
       "Language: en\n",
       "Country: null\n",
       "--></g></svg>"
      ]
     },
     "execution_count": 34,
     "metadata": {},
     "output_type": "execute_result"
    }
   ],
   "source": [
    "%viz --style=\"PLANTUML\" --view=\"Action\" \"DefaultValueTest\""
   ]
  },
  {
   "cell_type": "code",
   "execution_count": 35,
   "id": "cf1d6a43",
   "metadata": {
    "execution": {
     "iopub.execute_input": "2024-12-16T14:21:29.819239Z",
     "iopub.status.busy": "2024-12-16T14:21:29.818983Z",
     "iopub.status.idle": "2024-12-16T14:21:29.825184Z",
     "shell.execute_reply": "2024-12-16T14:21:29.824980Z"
    }
   },
   "outputs": [
    {
     "data": {
      "image/svg+xml": [
       "<?xml version=\"1.0\" encoding=\"UTF-8\" standalone=\"no\"?><svg xmlns=\"http://www.w3.org/2000/svg\" xmlns:xlink=\"http://www.w3.org/1999/xlink\" contentStyleType=\"text/css\" height=\"10px\" preserveAspectRatio=\"none\" style=\"width:10px;height:10px;background:#FFFFFF;\" version=\"1.1\" viewBox=\"0 0 10 10\" width=\"10px\" zoomAndPan=\"magnify\"><defs/><g><!--MD5=[395e82ba475bd2e80052467b56fa0251]\n",
       "@startuml\r\n",
       " skinparam roundcorner 20\r\n",
       "skinparam BoxPadding 20\r\n",
       "skinparam SequenceBoxBackgroundColor #white\r\n",
       "skinparam style strictuml\r\n",
       "skinparam maxMessageSize 100\r\n",
       "\r\n",
       "@enduml\r\n",
       "\n",
       "PlantUML version 1.2022.7(Mon Aug 22 17:01:30 UTC 2022)\n",
       "(EPL source distribution)\n",
       "Java Runtime: OpenJDK Runtime Environment\n",
       "JVM: OpenJDK 64-Bit Server VM\n",
       "Default Encoding: UTF-8\n",
       "Language: en\n",
       "Country: null\n",
       "--></g></svg>"
      ]
     },
     "execution_count": 35,
     "metadata": {},
     "output_type": "execute_result"
    }
   ],
   "source": [
    "%viz --style=\"PLANTUML\" --view=\"Sequence\" \"DefaultValueTest\""
   ]
  },
  {
   "cell_type": "code",
   "execution_count": 36,
   "id": "92f630f2",
   "metadata": {
    "execution": {
     "iopub.execute_input": "2024-12-16T14:21:29.881260Z",
     "iopub.status.busy": "2024-12-16T14:21:29.881023Z",
     "iopub.status.idle": "2024-12-16T14:21:29.906870Z",
     "shell.execute_reply": "2024-12-16T14:21:29.905846Z"
    }
   },
   "outputs": [
    {
     "data": {
      "image/svg+xml": [
       "<?xml version=\"1.0\" encoding=\"UTF-8\" standalone=\"no\"?><svg xmlns=\"http://www.w3.org/2000/svg\" xmlns:xlink=\"http://www.w3.org/1999/xlink\" contentStyleType=\"text/css\" height=\"306px\" preserveAspectRatio=\"none\" style=\"width:365px;height:306px;background:#FFFFFF;\" version=\"1.1\" viewBox=\"0 0 365 306\" width=\"365px\" zoomAndPan=\"magnify\"><defs/><g><!--MD5=[fbc87193dbaf4d95561dea2c320d4a47]\n",
       "cluster E1--><g id=\"cluster_E1\"><a href=\"psysml:7da0ff95-83c9-4c69-ab50-6e4dec268467\" target=\"_top\" title=\"psysml:7da0ff95-83c9-4c69-ab50-6e4dec268467\" xlink:actuate=\"onRequest\" xlink:href=\"psysml:7da0ff95-83c9-4c69-ab50-6e4dec268467\" xlink:show=\"new\" xlink:title=\"psysml:7da0ff95-83c9-4c69-ab50-6e4dec268467\" xlink:type=\"simple\"><path d=\"M8.5,6 L134.5,6 A3.75,3.75 0 0 1 137,8.5 L144,28.2969 L355.5,28.2969 A2.5,2.5 0 0 1 358,30.7969 L358,296.5 A2.5,2.5 0 0 1 355.5,299 L8.5,299 A2.5,2.5 0 0 1 6,296.5 L6,8.5 A2.5,2.5 0 0 1 8.5,6 \" fill=\"none\" style=\"stroke:#000000;stroke-width:1.5;\"/><line style=\"stroke:#000000;stroke-width:1.5;\" x1=\"6\" x2=\"144\" y1=\"28.2969\" y2=\"28.2969\"/><text fill=\"#000000\" font-family=\"sans-serif\" font-size=\"14\" font-weight=\"bold\" lengthAdjust=\"spacing\" textLength=\"125\" x=\"10\" y=\"20.9951\">DefaultValueTest</text></a></g><!--MD5=[b4997ac47864f28c2f74865a473b2911]\n",
       "class E2--><a href=\"psysml:98a54266-dd8e-4aee-8801-c30b6645e897\" target=\"_top\" title=\"psysml:98a54266-dd8e-4aee-8801-c30b6645e897\" xlink:actuate=\"onRequest\" xlink:href=\"psysml:98a54266-dd8e-4aee-8801-c30b6645e897\" xlink:show=\"new\" xlink:title=\"psysml:98a54266-dd8e-4aee-8801-c30b6645e897\" xlink:type=\"simple\"><g id=\"elem_E2\"><rect fill=\"#F1F1F1\" height=\"83.1125\" id=\"E2\" rx=\"2.5\" ry=\"2.5\" style=\"stroke:#181818;stroke-width:0.5;\" width=\"117.0625\" x=\"172.5\" y=\"200\"/><ellipse cx=\"222.2813\" cy=\"216\" fill=\"#008000\" rx=\"11\" ry=\"11\" style=\"stroke:#181818;stroke-width:1.0;\"/><path d=\"M219.1406,222.5 L219.1406,210.3594 L222.9375,210.3594 Q224.9375,210.3594 225.9844,211.0625 Q227.0469,211.7656 227.0469,213.3438 Q227.0469,214.4375 226.5469,215.1563 Q226.0625,215.875 225.2344,216.0625 L225.2344,216.1406 Q226.1563,216.3594 226.7188,217.0313 Q227.2969,217.6875 227.2969,218.9531 Q227.2969,220.6094 226.25,221.5625 Q225.2031,222.5 223.3438,222.5 L219.1406,222.5 Z M222.9219,215.1406 Q223.8125,215.1406 224.1719,214.8125 Q224.5469,214.4688 224.5469,213.7656 Q224.5469,213.0313 224.1563,212.7188 Q223.7656,212.3906 222.8281,212.3906 L221.4375,212.3906 L221.4375,215.1406 L222.9219,215.1406 Z M223.1094,220.4844 Q224.0156,220.4844 224.375,220.0469 Q224.7344,219.5938 224.7344,218.8125 Q224.7344,218.0313 224.3594,217.6406 Q224,217.2344 223.0156,217.2344 L221.4375,217.2344 L221.4375,220.4844 L223.1094,220.4844 Z \" fill=\"#000000\"/><text fill=\"#000000\" font-family=\"sans-serif\" font-size=\"14\" lengthAdjust=\"spacing\" textLength=\"9\" x=\"242.7813\" y=\"220.8467\">V</text><line style=\"stroke:#181818;stroke-width:0.5;\" x1=\"173.5\" x2=\"288.5625\" y1=\"232\" y2=\"232\"/><text fill=\"#000000\" font-family=\"sans-serif\" font-size=\"14\" lengthAdjust=\"spacing\" textLength=\"13\" x=\"178.5\" y=\"259.5139\">m</text><text fill=\"#000000\" font-family=\"sans-serif\" font-size=\"14\" font-weight=\"bold\" lengthAdjust=\"spacing\" textLength=\"50.0625\" x=\"195.5\" y=\"259.5139\">default</text><text fill=\"#000000\" font-family=\"sans-serif\" font-size=\"14\" lengthAdjust=\"spacing\" textLength=\"34\" x=\"249.5625\" y=\"259.5139\">= 10</text><text fill=\"#000000\" font-family=\"sans-serif\" font-size=\"14\" lengthAdjust=\"spacing\" textLength=\"47\" x=\"178.5\" y=\"275.8107\">n = 20</text><text fill=\"#000000\" font-family=\"sans-serif\" font-size=\"14\" font-style=\"italic\" lengthAdjust=\"spacing\" textLength=\"66\" x=\"198.0313\" y=\"244.3467\">attributes</text></g></a><!--MD5=[09b614a08d8cba4a07c9adeb5e0fee81]\n",
       "class E3--><a href=\"psysml:f9c62a8d-8a1e-4486-94b1-ee59692b29ae\" target=\"_top\" title=\"psysml:f9c62a8d-8a1e-4486-94b1-ee59692b29ae\" xlink:actuate=\"onRequest\" xlink:href=\"psysml:f9c62a8d-8a1e-4486-94b1-ee59692b29ae\" xlink:show=\"new\" xlink:title=\"psysml:f9c62a8d-8a1e-4486-94b1-ee59692b29ae\" xlink:type=\"simple\"><g id=\"elem_E3\"><rect fill=\"#F1F1F1\" height=\"91.3781\" id=\"E3\" rx=\"10\" ry=\"10\" style=\"stroke:#181818;stroke-width:0.5;\" width=\"74\" x=\"268\" y=\"45\"/><ellipse cx=\"283\" cy=\"65.1328\" fill=\"#32CD32\" rx=\"11\" ry=\"11\" style=\"stroke:#181818;stroke-width:1.0;\"/><path d=\"M279.8594,71.6328 L279.8594,59.4922 L283.8906,59.4922 Q285.9844,59.4922 287,60.4766 Q288.0156,61.4453 288.0156,63.2734 Q288.0156,64.4766 287.5781,65.3828 Q287.1563,66.2891 286.2031,66.8047 Q285.2656,67.3203 283.7344,67.3203 L282.2344,67.3203 L282.2344,71.6328 L279.8594,71.6328 Z M283.4844,65.2266 Q284.5313,65.2266 285.0469,64.7422 Q285.5781,64.2578 285.5781,63.3672 Q285.5781,62.4766 285.1406,62.0391 Q284.7188,61.5859 283.7969,61.5859 L282.2344,61.5859 L282.2344,65.2266 L283.4844,65.2266 Z \" fill=\"#000000\"/><text fill=\"#000000\" font-family=\"sans-serif\" font-size=\"12\" font-style=\"italic\" lengthAdjust=\"spacing\" textLength=\"40\" x=\"298\" y=\"61.1387\">«part»</text><text fill=\"#000000\" font-family=\"sans-serif\" font-size=\"14\" lengthAdjust=\"spacing\" textLength=\"34\" x=\"297\" y=\"76.9639\">v1: V</text><line style=\"stroke:#181818;stroke-width:0.5;\" x1=\"269\" x2=\"341\" y1=\"85.2656\" y2=\"85.2656\"/><text fill=\"#000000\" font-family=\"sans-serif\" font-size=\"14\" lengthAdjust=\"spacing\" textLength=\"51\" x=\"274\" y=\"112.7795\">m = 20</text><text fill=\"#000000\" font-family=\"sans-serif\" font-size=\"14\" font-style=\"italic\" lengthAdjust=\"spacing\" textLength=\"61\" x=\"274\" y=\"129.0764\">:&gt;&gt;V::m</text><text fill=\"#000000\" font-family=\"sans-serif\" font-size=\"14\" font-style=\"italic\" lengthAdjust=\"spacing\" textLength=\"66\" x=\"272\" y=\"97.6123\">attributes</text></g></a><!--MD5=[ebbe1d658d1005bcc118a6aa81145e00]\n",
       "class E4--><a href=\"psysml:ad7d8f37-2b75-4e7f-880b-981718b0db98\" target=\"_top\" title=\"psysml:ad7d8f37-2b75-4e7f-880b-981718b0db98\" xlink:actuate=\"onRequest\" xlink:href=\"psysml:ad7d8f37-2b75-4e7f-880b-981718b0db98\" xlink:show=\"new\" xlink:title=\"psysml:ad7d8f37-2b75-4e7f-880b-981718b0db98\" xlink:type=\"simple\"><g id=\"elem_E4\"><rect fill=\"#F1F1F1\" height=\"99.4094\" id=\"E4\" rx=\"2.5\" ry=\"2.5\" style=\"stroke:#181818;stroke-width:0.5;\" width=\"108.0625\" x=\"125\" y=\"41\"/><ellipse cx=\"168.3781\" cy=\"57\" fill=\"#008000\" rx=\"11\" ry=\"11\" style=\"stroke:#181818;stroke-width:1.0;\"/><path d=\"M165.2375,63.5 L165.2375,51.3594 L169.0344,51.3594 Q171.0344,51.3594 172.0813,52.0625 Q173.1438,52.7656 173.1438,54.3438 Q173.1438,55.4375 172.6438,56.1563 Q172.1594,56.875 171.3313,57.0625 L171.3313,57.1406 Q172.2531,57.3594 172.8156,58.0313 Q173.3938,58.6875 173.3938,59.9531 Q173.3938,61.6094 172.3469,62.5625 Q171.3,63.5 169.4406,63.5 L165.2375,63.5 Z M169.0188,56.1406 Q169.9094,56.1406 170.2688,55.8125 Q170.6438,55.4688 170.6438,54.7656 Q170.6438,54.0313 170.2531,53.7188 Q169.8625,53.3906 168.925,53.3906 L167.5344,53.3906 L167.5344,56.1406 L169.0188,56.1406 Z M169.2063,61.4844 Q170.1125,61.4844 170.4719,61.0469 Q170.8313,60.5938 170.8313,59.8125 Q170.8313,59.0313 170.4563,58.6406 Q170.0969,58.2344 169.1125,58.2344 L167.5344,58.2344 L167.5344,61.4844 L169.2063,61.4844 Z \" fill=\"#000000\"/><text fill=\"#000000\" font-family=\"sans-serif\" font-size=\"14\" lengthAdjust=\"spacing\" textLength=\"13\" x=\"188.6844\" y=\"61.8467\">W</text><line style=\"stroke:#181818;stroke-width:0.5;\" x1=\"126\" x2=\"232.0625\" y1=\"73\" y2=\"73\"/><text fill=\"#000000\" font-family=\"sans-serif\" font-size=\"14\" lengthAdjust=\"spacing\" textLength=\"13\" x=\"131\" y=\"100.5139\">m</text><text fill=\"#000000\" font-family=\"sans-serif\" font-size=\"14\" font-weight=\"bold\" lengthAdjust=\"spacing\" textLength=\"50.0625\" x=\"148\" y=\"100.5139\">default</text><text fill=\"#000000\" font-family=\"sans-serif\" font-size=\"14\" lengthAdjust=\"spacing\" textLength=\"25\" x=\"202.0625\" y=\"100.5139\">= n</text><text fill=\"#000000\" font-family=\"sans-serif\" font-size=\"14\" font-style=\"italic\" lengthAdjust=\"spacing\" textLength=\"61\" x=\"131\" y=\"116.8107\">:&gt;&gt;V::m</text><text fill=\"#000000\" font-family=\"sans-serif\" font-size=\"14\" lengthAdjust=\"spacing\" textLength=\"59\" x=\"131\" y=\"133.1076\">^n = 20</text><text fill=\"#000000\" font-family=\"sans-serif\" font-size=\"14\" font-style=\"italic\" lengthAdjust=\"spacing\" textLength=\"66\" x=\"146.0313\" y=\"85.3467\">attributes</text></g></a><!--MD5=[270fce915f116d4de14055a7c1d9a0f3]\n",
       "class E5--><a href=\"psysml:fd52748d-5cd7-4973-9bed-274bef6831d2\" target=\"_top\" title=\"psysml:fd52748d-5cd7-4973-9bed-274bef6831d2\" xlink:actuate=\"onRequest\" xlink:href=\"psysml:fd52748d-5cd7-4973-9bed-274bef6831d2\" xlink:show=\"new\" xlink:title=\"psysml:fd52748d-5cd7-4973-9bed-274bef6831d2\" xlink:type=\"simple\"><g id=\"elem_E5\"><rect fill=\"#F1F1F1\" height=\"75.0813\" id=\"E5\" rx=\"10\" ry=\"10\" style=\"stroke:#181818;stroke-width:0.5;\" width=\"68\" x=\"22\" y=\"53\"/><ellipse cx=\"37\" cy=\"73.1328\" fill=\"#32CD32\" rx=\"11\" ry=\"11\" style=\"stroke:#181818;stroke-width:1.0;\"/><path d=\"M33.8594,79.6328 L33.8594,67.4922 L37.8906,67.4922 Q39.9844,67.4922 41,68.4766 Q42.0156,69.4453 42.0156,71.2734 Q42.0156,72.4766 41.5781,73.3828 Q41.1563,74.2891 40.2031,74.8047 Q39.2656,75.3203 37.7344,75.3203 L36.2344,75.3203 L36.2344,79.6328 L33.8594,79.6328 Z M37.4844,73.2266 Q38.5313,73.2266 39.0469,72.7422 Q39.5781,72.2578 39.5781,71.3672 Q39.5781,70.4766 39.1406,70.0391 Q38.7188,69.5859 37.7969,69.5859 L36.2344,69.5859 L36.2344,73.2266 L37.4844,73.2266 Z \" fill=\"#000000\"/><text fill=\"#000000\" font-family=\"sans-serif\" font-size=\"12\" font-style=\"italic\" lengthAdjust=\"spacing\" textLength=\"40\" x=\"49\" y=\"69.1387\">«part»</text><text fill=\"#000000\" font-family=\"sans-serif\" font-size=\"14\" lengthAdjust=\"spacing\" textLength=\"16\" x=\"57\" y=\"84.9639\">v2</text><line style=\"stroke:#181818;stroke-width:0.5;\" x1=\"23\" x2=\"89\" y1=\"93.2656\" y2=\"93.2656\"/><text fill=\"#000000\" font-family=\"sans-serif\" font-size=\"14\" lengthAdjust=\"spacing\" textLength=\"39\" x=\"28\" y=\"120.7795\">= W()</text><text fill=\"#000000\" font-family=\"sans-serif\" font-size=\"14\" font-style=\"italic\" lengthAdjust=\"spacing\" textLength=\"44\" x=\"34\" y=\"105.6123\">values</text></g></a><!--MD5=[05d275557350bfb9b23a4ef7222b4c39]\n",
       "link E3 to E2--><g id=\"link_E3_E2\"><a href=\"psysml:1a78d8f2-030e-492a-8201-32cffefdc08b\" target=\"_top\" title=\"psysml:1a78d8f2-030e-492a-8201-32cffefdc08b\" xlink:actuate=\"onRequest\" xlink:href=\"psysml:1a78d8f2-030e-492a-8201-32cffefdc08b\" xlink:show=\"new\" xlink:title=\"psysml:1a78d8f2-030e-492a-8201-32cffefdc08b\" xlink:type=\"simple\"><path d=\"M282.8,136.2 C275.65,150.59 267.63,166.74 260.07,181.97 \" fill=\"none\" id=\"E3-to-E2\" style=\"stroke:#181818;stroke-width:1.0;\"/><polygon fill=\"#FFFFFF\" points=\"251.17,199.89,253.361,179.7604,265.897,185.9934,251.17,199.89\" style=\"stroke:#181818;stroke-width:1.0;\"/><ellipse cx=\"257.6896\" cy=\"175.5469\" fill=\"#181818\" rx=\"2\" ry=\"2\" style=\"stroke:#181818;stroke-width:1.0;\"/><ellipse cx=\"266.6439\" cy=\"179.999\" fill=\"#181818\" rx=\"2\" ry=\"2\" style=\"stroke:#181818;stroke-width:1.0;\"/></a></g><!--MD5=[185131fc0dcab0a4505a2ebe144e961b]\n",
       "link E4 to E2--><g id=\"link_E4_E2\"><a href=\"psysml:5695b7ea-3fef-47ac-8247-2c32b379aa0a\" target=\"_top\" title=\"psysml:5695b7ea-3fef-47ac-8247-2c32b379aa0a\" xlink:actuate=\"onRequest\" xlink:href=\"psysml:5695b7ea-3fef-47ac-8247-2c32b379aa0a\" xlink:show=\"new\" xlink:title=\"psysml:5695b7ea-3fef-47ac-8247-2c32b379aa0a\" xlink:type=\"simple\"><path d=\"M196.03,140.29 C200.52,153.18 205.43,167.23 210.11,180.63 \" fill=\"none\" id=\"E4-to-E2\" style=\"stroke:#181818;stroke-width:1.0;\"/><polygon fill=\"none\" points=\"216.74,178.39,216.72,199.58,203.52,183.01,216.74,178.39\" style=\"stroke:#181818;stroke-width:1.0;\"/></a></g><!--MD5=[0a239bea5972310b636f95e5df711fda]\n",
       "@startuml\r\n",
       " \r\n",
       "package \"DefaultValueTest\" as E1  [[psysml:7da0ff95-83c9-4c69-ab50-6e4dec268467 ]]  {\r\n",
       "comp def \"V\" as E2  << << (B,green) >> [[psysml:98a54266-dd8e-4aee-8801-c30b6645e897 ]] {\r\n",
       "##//attributes//##\r\n",
       "m<b> default </b><U+003D> 10\r\n",
       "n <U+003D> 20\r\n",
       "}\r\n",
       "comp usage \"v1: V  \" as E3  << << (P,limegreen) part>> [[psysml:f9c62a8d-8a1e-4486-94b1-ee59692b29ae ]] {\r\n",
       "##//attributes//##\r\n",
       "m <U+003D> 20\\n//:>>V::m// \r\n",
       "}\r\n",
       "comp def \"W\" as E4  << << (B,green) >> [[psysml:ad7d8f37-2b75-4e7f-880b-981718b0db98 ]] {\r\n",
       "##//attributes//##\r\n",
       "m<b> default </b><U+003D> n\\n//:>>V::m// \r\n",
       "^n <U+003D> 20\r\n",
       "}\r\n",
       "comp usage \"v2  \" as E5  << << (P,limegreen) part>> [[psysml:fd52748d-5cd7-4973-9bed-274bef6831d2 ]] {\r\n",
       "##//values//##\r\n",
       " <U+003D> W()\r\n",
       "}\r\n",
       "}\r\n",
       "E3 - -:|> E2 [[psysml:1a78d8f2-030e-492a-8201-32cffefdc08b ]] \r\n",
       "E4 - -|> E2 [[psysml:5695b7ea-3fef-47ac-8247-2c32b379aa0a ]] \r\n",
       "@enduml\r\n",
       "\n",
       "PlantUML version 1.2022.7(Mon Aug 22 17:01:30 UTC 2022)\n",
       "(EPL source distribution)\n",
       "Java Runtime: OpenJDK Runtime Environment\n",
       "JVM: OpenJDK 64-Bit Server VM\n",
       "Default Encoding: UTF-8\n",
       "Language: en\n",
       "Country: null\n",
       "--></g></svg>"
      ]
     },
     "execution_count": 36,
     "metadata": {},
     "output_type": "execute_result"
    }
   ],
   "source": [
    "%viz --style=\"PLANTUML\" --view=\"MIXED\" \"DefaultValueTest\""
   ]
  },
  {
   "cell_type": "code",
   "execution_count": 37,
   "id": "6e3bc0f0",
   "metadata": {
    "execution": {
     "iopub.execute_input": "2024-12-16T14:21:29.962193Z",
     "iopub.status.busy": "2024-12-16T14:21:29.961960Z",
     "iopub.status.idle": "2024-12-16T14:21:29.984805Z",
     "shell.execute_reply": "2024-12-16T14:21:29.983959Z"
    }
   },
   "outputs": [
    {
     "data": {
      "image/svg+xml": [
       "<?xml version=\"1.0\" encoding=\"UTF-8\" standalone=\"no\"?><svg xmlns=\"http://www.w3.org/2000/svg\" xmlns:xlink=\"http://www.w3.org/1999/xlink\" contentStyleType=\"text/css\" height=\"323px\" preserveAspectRatio=\"none\" style=\"width:369px;height:323px;background:#FFFFFF;\" version=\"1.1\" viewBox=\"0 0 369 323\" width=\"369px\" zoomAndPan=\"magnify\"><defs/><g><!--MD5=[fbc87193dbaf4d95561dea2c320d4a47]\n",
       "cluster E1--><g id=\"cluster_E1\"><a href=\"psysml:7da0ff95-83c9-4c69-ab50-6e4dec268467\" target=\"_top\" title=\"psysml:7da0ff95-83c9-4c69-ab50-6e4dec268467\" xlink:actuate=\"onRequest\" xlink:href=\"psysml:7da0ff95-83c9-4c69-ab50-6e4dec268467\" xlink:show=\"new\" xlink:title=\"psysml:7da0ff95-83c9-4c69-ab50-6e4dec268467\" xlink:type=\"simple\"><polygon fill=\"none\" points=\"16,6,147,6,154,28.2969,352,28.2969,352,316,16,316,16,6\" style=\"stroke:#000000;stroke-width:1.5;\"/><line style=\"stroke:#000000;stroke-width:1.5;\" x1=\"16\" x2=\"154\" y1=\"28.2969\" y2=\"28.2969\"/><text fill=\"#000000\" font-family=\"sans-serif\" font-size=\"14\" font-weight=\"bold\" lengthAdjust=\"spacing\" textLength=\"125\" x=\"20\" y=\"20.9951\">DefaultValueTest</text></a></g><!--MD5=[b4997ac47864f28c2f74865a473b2911]\n",
       "class E2--><a href=\"psysml:98a54266-dd8e-4aee-8801-c30b6645e897\" target=\"_top\" title=\"psysml:98a54266-dd8e-4aee-8801-c30b6645e897\" xlink:actuate=\"onRequest\" xlink:href=\"psysml:98a54266-dd8e-4aee-8801-c30b6645e897\" xlink:show=\"new\" xlink:title=\"psysml:98a54266-dd8e-4aee-8801-c30b6645e897\" xlink:type=\"simple\"><g id=\"elem_E2\"><rect fill=\"#FFFFFF\" height=\"91.3781\" id=\"E2\" style=\"stroke:#181818;stroke-width:0.5;\" width=\"117.0625\" x=\"166.5\" y=\"209\"/><text fill=\"#000000\" font-family=\"sans-serif\" font-size=\"12\" font-style=\"italic\" lengthAdjust=\"spacing\" textLength=\"68\" x=\"191.0313\" y=\"225.1387\">«part  def»</text><text fill=\"#000000\" font-family=\"sans-serif\" font-size=\"14\" lengthAdjust=\"spacing\" textLength=\"9\" x=\"220.5313\" y=\"240.9639\">V</text><line style=\"stroke:#181818;stroke-width:0.5;\" x1=\"167.5\" x2=\"282.5625\" y1=\"249.2656\" y2=\"249.2656\"/><text fill=\"#000000\" font-family=\"sans-serif\" font-size=\"14\" lengthAdjust=\"spacing\" textLength=\"13\" x=\"172.5\" y=\"276.7795\">m</text><text fill=\"#000000\" font-family=\"sans-serif\" font-size=\"14\" font-weight=\"bold\" lengthAdjust=\"spacing\" textLength=\"50.0625\" x=\"189.5\" y=\"276.7795\">default</text><text fill=\"#000000\" font-family=\"sans-serif\" font-size=\"14\" lengthAdjust=\"spacing\" textLength=\"34\" x=\"243.5625\" y=\"276.7795\">= 10</text><text fill=\"#000000\" font-family=\"sans-serif\" font-size=\"14\" lengthAdjust=\"spacing\" textLength=\"47\" x=\"172.5\" y=\"293.0764\">n = 20</text><text fill=\"#000000\" font-family=\"sans-serif\" font-size=\"14\" font-style=\"italic\" lengthAdjust=\"spacing\" textLength=\"66\" x=\"192.0313\" y=\"261.6123\">attributes</text></g></a><!--MD5=[09b614a08d8cba4a07c9adeb5e0fee81]\n",
       "class E3--><a href=\"psysml:f9c62a8d-8a1e-4486-94b1-ee59692b29ae\" target=\"_top\" title=\"psysml:f9c62a8d-8a1e-4486-94b1-ee59692b29ae\" xlink:actuate=\"onRequest\" xlink:href=\"psysml:f9c62a8d-8a1e-4486-94b1-ee59692b29ae\" xlink:show=\"new\" xlink:title=\"psysml:f9c62a8d-8a1e-4486-94b1-ee59692b29ae\" xlink:type=\"simple\"><g id=\"elem_E3\"><rect fill=\"#FFFFFF\" height=\"91.3781\" id=\"E3\" rx=\"10\" ry=\"10\" style=\"stroke:#181818;stroke-width:0.5;\" width=\"74\" x=\"262\" y=\"49.5\"/><text fill=\"#000000\" font-family=\"sans-serif\" font-size=\"12\" font-style=\"italic\" lengthAdjust=\"spacing\" textLength=\"40\" x=\"279\" y=\"65.6387\">«part»</text><text fill=\"#000000\" font-family=\"sans-serif\" font-size=\"14\" lengthAdjust=\"spacing\" textLength=\"34\" x=\"278\" y=\"81.4639\">v1: V</text><line style=\"stroke:#181818;stroke-width:0.5;\" x1=\"263\" x2=\"335\" y1=\"89.7656\" y2=\"89.7656\"/><text fill=\"#000000\" font-family=\"sans-serif\" font-size=\"14\" lengthAdjust=\"spacing\" textLength=\"51\" x=\"268\" y=\"117.2795\">m = 20</text><text fill=\"#000000\" font-family=\"sans-serif\" font-size=\"14\" font-style=\"italic\" lengthAdjust=\"spacing\" textLength=\"61\" x=\"268\" y=\"133.5764\">:&gt;&gt;V::m</text><text fill=\"#000000\" font-family=\"sans-serif\" font-size=\"14\" font-style=\"italic\" lengthAdjust=\"spacing\" textLength=\"66\" x=\"266\" y=\"102.1123\">attributes</text></g></a><!--MD5=[ebbe1d658d1005bcc118a6aa81145e00]\n",
       "class E4--><a href=\"psysml:ad7d8f37-2b75-4e7f-880b-981718b0db98\" target=\"_top\" title=\"psysml:ad7d8f37-2b75-4e7f-880b-981718b0db98\" xlink:actuate=\"onRequest\" xlink:href=\"psysml:ad7d8f37-2b75-4e7f-880b-981718b0db98\" xlink:show=\"new\" xlink:title=\"psysml:ad7d8f37-2b75-4e7f-880b-981718b0db98\" xlink:type=\"simple\"><g id=\"elem_E4\"><rect fill=\"#FFFFFF\" height=\"107.675\" id=\"E4\" style=\"stroke:#181818;stroke-width:0.5;\" width=\"108.0625\" x=\"119\" y=\"41\"/><text fill=\"#000000\" font-family=\"sans-serif\" font-size=\"12\" font-style=\"italic\" lengthAdjust=\"spacing\" textLength=\"68\" x=\"139.0313\" y=\"57.1387\">«part  def»</text><text fill=\"#000000\" font-family=\"sans-serif\" font-size=\"14\" lengthAdjust=\"spacing\" textLength=\"13\" x=\"166.5313\" y=\"72.9639\">W</text><line style=\"stroke:#181818;stroke-width:0.5;\" x1=\"120\" x2=\"226.0625\" y1=\"81.2656\" y2=\"81.2656\"/><text fill=\"#000000\" font-family=\"sans-serif\" font-size=\"14\" lengthAdjust=\"spacing\" textLength=\"13\" x=\"125\" y=\"108.7795\">m</text><text fill=\"#000000\" font-family=\"sans-serif\" font-size=\"14\" font-weight=\"bold\" lengthAdjust=\"spacing\" textLength=\"50.0625\" x=\"142\" y=\"108.7795\">default</text><text fill=\"#000000\" font-family=\"sans-serif\" font-size=\"14\" lengthAdjust=\"spacing\" textLength=\"25\" x=\"196.0625\" y=\"108.7795\">= n</text><text fill=\"#000000\" font-family=\"sans-serif\" font-size=\"14\" font-style=\"italic\" lengthAdjust=\"spacing\" textLength=\"61\" x=\"125\" y=\"125.0764\">:&gt;&gt;V::m</text><text fill=\"#000000\" font-family=\"sans-serif\" font-size=\"14\" lengthAdjust=\"spacing\" textLength=\"59\" x=\"125\" y=\"141.3732\">^n = 20</text><text fill=\"#000000\" font-family=\"sans-serif\" font-size=\"14\" font-style=\"italic\" lengthAdjust=\"spacing\" textLength=\"66\" x=\"140.0313\" y=\"93.6123\">attributes</text></g></a><!--MD5=[270fce915f116d4de14055a7c1d9a0f3]\n",
       "class E5--><a href=\"psysml:fd52748d-5cd7-4973-9bed-274bef6831d2\" target=\"_top\" title=\"psysml:fd52748d-5cd7-4973-9bed-274bef6831d2\" xlink:actuate=\"onRequest\" xlink:href=\"psysml:fd52748d-5cd7-4973-9bed-274bef6831d2\" xlink:show=\"new\" xlink:title=\"psysml:fd52748d-5cd7-4973-9bed-274bef6831d2\" xlink:type=\"simple\"><g id=\"elem_E5\"><rect fill=\"#FFFFFF\" height=\"75.0813\" id=\"E5\" rx=\"10\" ry=\"10\" style=\"stroke:#181818;stroke-width:0.5;\" width=\"52\" x=\"32\" y=\"57.5\"/><text fill=\"#000000\" font-family=\"sans-serif\" font-size=\"12\" font-style=\"italic\" lengthAdjust=\"spacing\" textLength=\"40\" x=\"38\" y=\"73.6387\">«part»</text><text fill=\"#000000\" font-family=\"sans-serif\" font-size=\"14\" lengthAdjust=\"spacing\" textLength=\"16\" x=\"46\" y=\"89.4639\">v2</text><line style=\"stroke:#181818;stroke-width:0.5;\" x1=\"33\" x2=\"83\" y1=\"97.7656\" y2=\"97.7656\"/><text fill=\"#000000\" font-family=\"sans-serif\" font-size=\"14\" lengthAdjust=\"spacing\" textLength=\"39\" x=\"38\" y=\"125.2795\">= W()</text><text fill=\"#000000\" font-family=\"sans-serif\" font-size=\"14\" font-style=\"italic\" lengthAdjust=\"spacing\" textLength=\"44\" x=\"36\" y=\"110.1123\">values</text></g></a><!--MD5=[05d275557350bfb9b23a4ef7222b4c39]\n",
       "link E3 to E2--><g id=\"link_E3_E2\"><a href=\"psysml:1a78d8f2-030e-492a-8201-32cffefdc08b\" target=\"_top\" title=\"psysml:1a78d8f2-030e-492a-8201-32cffefdc08b\" xlink:actuate=\"onRequest\" xlink:href=\"psysml:1a78d8f2-030e-492a-8201-32cffefdc08b\" xlink:show=\"new\" xlink:title=\"psysml:1a78d8f2-030e-492a-8201-32cffefdc08b\" xlink:type=\"simple\"><path d=\"M277.99,140.71 C270.7,156.24 262.37,173.95 254.52,190.67 \" fill=\"none\" id=\"E3-to-E2\" style=\"stroke:#181818;stroke-width:1.0;\"/><polygon fill=\"#FFFFFF\" points=\"245.93,208.95,247.6703,188.7765,260.3425,194.7275,245.93,208.95\" style=\"stroke:#181818;stroke-width:1.0;\"/><ellipse cx=\"251.9035\" cy=\"184.4672\" fill=\"#181818\" rx=\"2\" ry=\"2\" style=\"stroke:#181818;stroke-width:1.0;\"/><ellipse cx=\"260.9551\" cy=\"188.718\" fill=\"#181818\" rx=\"2\" ry=\"2\" style=\"stroke:#181818;stroke-width:1.0;\"/></a></g><!--MD5=[185131fc0dcab0a4505a2ebe144e961b]\n",
       "link E4 to E2--><g id=\"link_E4_E2\"><a href=\"psysml:5695b7ea-3fef-47ac-8247-2c32b379aa0a\" target=\"_top\" title=\"psysml:5695b7ea-3fef-47ac-8247-2c32b379aa0a\" xlink:actuate=\"onRequest\" xlink:href=\"psysml:5695b7ea-3fef-47ac-8247-2c32b379aa0a\" xlink:show=\"new\" xlink:title=\"psysml:5695b7ea-3fef-47ac-8247-2c32b379aa0a\" xlink:type=\"simple\"><path d=\"M190.6,149.32 C194.9,162.33 199.54,176.38 203.98,189.82 \" fill=\"none\" id=\"E4-to-E2\" style=\"stroke:#181818;stroke-width:1.0;\"/><polygon fill=\"none\" points=\"210.65,187.7,210.27,208.89,197.35,192.09,210.65,187.7\" style=\"stroke:#181818;stroke-width:1.0;\"/></a></g><!--MD5=[8aefc503bc65cdc8b91789fd0b788ef2]\n",
       "@startuml\r\n",
       "skin sysmlbw\r\n",
       "skinparam monochrome true\r\n",
       "skinparam wrapWidth 300\r\n",
       "hide circle\r\n",
       "\r\n",
       "package \"DefaultValueTest\" as E1  [[psysml:7da0ff95-83c9-4c69-ab50-6e4dec268467 ]]  {\r\n",
       "comp def \"V\" as E2  <<(T,blue) part  def>> [[psysml:98a54266-dd8e-4aee-8801-c30b6645e897 ]] {\r\n",
       "##//attributes//##\r\n",
       "m<b> default </b><U+003D> 10\r\n",
       "n <U+003D> 20\r\n",
       "}\r\n",
       "comp usage \"v1: V  \" as E3  <<(T,blue) part>> [[psysml:f9c62a8d-8a1e-4486-94b1-ee59692b29ae ]] {\r\n",
       "##//attributes//##\r\n",
       "m <U+003D> 20\\n//:>>V::m// \r\n",
       "}\r\n",
       "comp def \"W\" as E4  <<(T,blue) part  def>> [[psysml:ad7d8f37-2b75-4e7f-880b-981718b0db98 ]] {\r\n",
       "##//attributes//##\r\n",
       "m<b> default </b><U+003D> n\\n//:>>V::m// \r\n",
       "^n <U+003D> 20\r\n",
       "}\r\n",
       "comp usage \"v2  \" as E5  <<(T,blue) part>> [[psysml:fd52748d-5cd7-4973-9bed-274bef6831d2 ]] {\r\n",
       "##//values//##\r\n",
       " <U+003D> W()\r\n",
       "}\r\n",
       "}\r\n",
       "E3 - -:|> E2 [[psysml:1a78d8f2-030e-492a-8201-32cffefdc08b ]] \r\n",
       "E4 - -|> E2 [[psysml:5695b7ea-3fef-47ac-8247-2c32b379aa0a ]] \r\n",
       "@enduml\r\n",
       "\n",
       "PlantUML version 1.2022.7(Mon Aug 22 17:01:30 UTC 2022)\n",
       "(EPL source distribution)\n",
       "Java Runtime: OpenJDK Runtime Environment\n",
       "JVM: OpenJDK 64-Bit Server VM\n",
       "Default Encoding: UTF-8\n",
       "Language: en\n",
       "Country: null\n",
       "--></g></svg>"
      ]
     },
     "execution_count": 37,
     "metadata": {},
     "output_type": "execute_result"
    }
   ],
   "source": [
    "%viz --style=\"DEFAULT\" --view=\"Default\" \"DefaultValueTest\""
   ]
  },
  {
   "cell_type": "code",
   "execution_count": 38,
   "id": "16f35256",
   "metadata": {
    "execution": {
     "iopub.execute_input": "2024-12-16T14:21:30.040466Z",
     "iopub.status.busy": "2024-12-16T14:21:30.040222Z",
     "iopub.status.idle": "2024-12-16T14:21:30.063077Z",
     "shell.execute_reply": "2024-12-16T14:21:30.062904Z"
    }
   },
   "outputs": [
    {
     "data": {
      "image/svg+xml": [
       "<?xml version=\"1.0\" encoding=\"UTF-8\" standalone=\"no\"?><svg xmlns=\"http://www.w3.org/2000/svg\" xmlns:xlink=\"http://www.w3.org/1999/xlink\" contentStyleType=\"text/css\" height=\"323px\" preserveAspectRatio=\"none\" style=\"width:369px;height:323px;background:#FFFFFF;\" version=\"1.1\" viewBox=\"0 0 369 323\" width=\"369px\" zoomAndPan=\"magnify\"><defs/><g><!--MD5=[fbc87193dbaf4d95561dea2c320d4a47]\n",
       "cluster E1--><g id=\"cluster_E1\"><a href=\"psysml:7da0ff95-83c9-4c69-ab50-6e4dec268467\" target=\"_top\" title=\"psysml:7da0ff95-83c9-4c69-ab50-6e4dec268467\" xlink:actuate=\"onRequest\" xlink:href=\"psysml:7da0ff95-83c9-4c69-ab50-6e4dec268467\" xlink:show=\"new\" xlink:title=\"psysml:7da0ff95-83c9-4c69-ab50-6e4dec268467\" xlink:type=\"simple\"><polygon fill=\"none\" points=\"16,6,147,6,154,28.2969,352,28.2969,352,316,16,316,16,6\" style=\"stroke:#000000;stroke-width:1.5;\"/><line style=\"stroke:#000000;stroke-width:1.5;\" x1=\"16\" x2=\"154\" y1=\"28.2969\" y2=\"28.2969\"/><text fill=\"#000000\" font-family=\"sans-serif\" font-size=\"14\" font-weight=\"bold\" lengthAdjust=\"spacing\" textLength=\"125\" x=\"20\" y=\"20.9951\">DefaultValueTest</text></a></g><!--MD5=[b4997ac47864f28c2f74865a473b2911]\n",
       "class E2--><a href=\"psysml:98a54266-dd8e-4aee-8801-c30b6645e897\" target=\"_top\" title=\"psysml:98a54266-dd8e-4aee-8801-c30b6645e897\" xlink:actuate=\"onRequest\" xlink:href=\"psysml:98a54266-dd8e-4aee-8801-c30b6645e897\" xlink:show=\"new\" xlink:title=\"psysml:98a54266-dd8e-4aee-8801-c30b6645e897\" xlink:type=\"simple\"><g id=\"elem_E2\"><rect fill=\"#FFFFFF\" height=\"91.3781\" id=\"E2\" style=\"stroke:#181818;stroke-width:0.5;\" width=\"117.0625\" x=\"166.5\" y=\"209\"/><text fill=\"#000000\" font-family=\"sans-serif\" font-size=\"12\" font-style=\"italic\" lengthAdjust=\"spacing\" textLength=\"68\" x=\"191.0313\" y=\"225.1387\">«part  def»</text><text fill=\"#000000\" font-family=\"sans-serif\" font-size=\"14\" lengthAdjust=\"spacing\" textLength=\"9\" x=\"220.5313\" y=\"240.9639\">V</text><line style=\"stroke:#181818;stroke-width:0.5;\" x1=\"167.5\" x2=\"282.5625\" y1=\"249.2656\" y2=\"249.2656\"/><text fill=\"#000000\" font-family=\"sans-serif\" font-size=\"14\" lengthAdjust=\"spacing\" textLength=\"13\" x=\"172.5\" y=\"276.7795\">m</text><text fill=\"#000000\" font-family=\"sans-serif\" font-size=\"14\" font-weight=\"bold\" lengthAdjust=\"spacing\" textLength=\"50.0625\" x=\"189.5\" y=\"276.7795\">default</text><text fill=\"#000000\" font-family=\"sans-serif\" font-size=\"14\" lengthAdjust=\"spacing\" textLength=\"34\" x=\"243.5625\" y=\"276.7795\">= 10</text><text fill=\"#000000\" font-family=\"sans-serif\" font-size=\"14\" lengthAdjust=\"spacing\" textLength=\"47\" x=\"172.5\" y=\"293.0764\">n = 20</text><text fill=\"#000000\" font-family=\"sans-serif\" font-size=\"14\" font-style=\"italic\" lengthAdjust=\"spacing\" textLength=\"66\" x=\"192.0313\" y=\"261.6123\">attributes</text></g></a><!--MD5=[09b614a08d8cba4a07c9adeb5e0fee81]\n",
       "class E3--><a href=\"psysml:f9c62a8d-8a1e-4486-94b1-ee59692b29ae\" target=\"_top\" title=\"psysml:f9c62a8d-8a1e-4486-94b1-ee59692b29ae\" xlink:actuate=\"onRequest\" xlink:href=\"psysml:f9c62a8d-8a1e-4486-94b1-ee59692b29ae\" xlink:show=\"new\" xlink:title=\"psysml:f9c62a8d-8a1e-4486-94b1-ee59692b29ae\" xlink:type=\"simple\"><g id=\"elem_E3\"><rect fill=\"#FFFFFF\" height=\"91.3781\" id=\"E3\" rx=\"10\" ry=\"10\" style=\"stroke:#181818;stroke-width:0.5;\" width=\"74\" x=\"262\" y=\"49.5\"/><text fill=\"#000000\" font-family=\"sans-serif\" font-size=\"12\" font-style=\"italic\" lengthAdjust=\"spacing\" textLength=\"40\" x=\"279\" y=\"65.6387\">«part»</text><text fill=\"#000000\" font-family=\"sans-serif\" font-size=\"14\" lengthAdjust=\"spacing\" textLength=\"34\" x=\"278\" y=\"81.4639\">v1: V</text><line style=\"stroke:#181818;stroke-width:0.5;\" x1=\"263\" x2=\"335\" y1=\"89.7656\" y2=\"89.7656\"/><text fill=\"#000000\" font-family=\"sans-serif\" font-size=\"14\" lengthAdjust=\"spacing\" textLength=\"51\" x=\"268\" y=\"117.2795\">m = 20</text><text fill=\"#000000\" font-family=\"sans-serif\" font-size=\"14\" font-style=\"italic\" lengthAdjust=\"spacing\" textLength=\"61\" x=\"268\" y=\"133.5764\">:&gt;&gt;V::m</text><text fill=\"#000000\" font-family=\"sans-serif\" font-size=\"14\" font-style=\"italic\" lengthAdjust=\"spacing\" textLength=\"66\" x=\"266\" y=\"102.1123\">attributes</text></g></a><!--MD5=[ebbe1d658d1005bcc118a6aa81145e00]\n",
       "class E4--><a href=\"psysml:ad7d8f37-2b75-4e7f-880b-981718b0db98\" target=\"_top\" title=\"psysml:ad7d8f37-2b75-4e7f-880b-981718b0db98\" xlink:actuate=\"onRequest\" xlink:href=\"psysml:ad7d8f37-2b75-4e7f-880b-981718b0db98\" xlink:show=\"new\" xlink:title=\"psysml:ad7d8f37-2b75-4e7f-880b-981718b0db98\" xlink:type=\"simple\"><g id=\"elem_E4\"><rect fill=\"#FFFFFF\" height=\"107.675\" id=\"E4\" style=\"stroke:#181818;stroke-width:0.5;\" width=\"108.0625\" x=\"119\" y=\"41\"/><text fill=\"#000000\" font-family=\"sans-serif\" font-size=\"12\" font-style=\"italic\" lengthAdjust=\"spacing\" textLength=\"68\" x=\"139.0313\" y=\"57.1387\">«part  def»</text><text fill=\"#000000\" font-family=\"sans-serif\" font-size=\"14\" lengthAdjust=\"spacing\" textLength=\"13\" x=\"166.5313\" y=\"72.9639\">W</text><line style=\"stroke:#181818;stroke-width:0.5;\" x1=\"120\" x2=\"226.0625\" y1=\"81.2656\" y2=\"81.2656\"/><text fill=\"#000000\" font-family=\"sans-serif\" font-size=\"14\" lengthAdjust=\"spacing\" textLength=\"13\" x=\"125\" y=\"108.7795\">m</text><text fill=\"#000000\" font-family=\"sans-serif\" font-size=\"14\" font-weight=\"bold\" lengthAdjust=\"spacing\" textLength=\"50.0625\" x=\"142\" y=\"108.7795\">default</text><text fill=\"#000000\" font-family=\"sans-serif\" font-size=\"14\" lengthAdjust=\"spacing\" textLength=\"25\" x=\"196.0625\" y=\"108.7795\">= n</text><text fill=\"#000000\" font-family=\"sans-serif\" font-size=\"14\" font-style=\"italic\" lengthAdjust=\"spacing\" textLength=\"61\" x=\"125\" y=\"125.0764\">:&gt;&gt;V::m</text><text fill=\"#000000\" font-family=\"sans-serif\" font-size=\"14\" lengthAdjust=\"spacing\" textLength=\"59\" x=\"125\" y=\"141.3732\">^n = 20</text><text fill=\"#000000\" font-family=\"sans-serif\" font-size=\"14\" font-style=\"italic\" lengthAdjust=\"spacing\" textLength=\"66\" x=\"140.0313\" y=\"93.6123\">attributes</text></g></a><!--MD5=[270fce915f116d4de14055a7c1d9a0f3]\n",
       "class E5--><a href=\"psysml:fd52748d-5cd7-4973-9bed-274bef6831d2\" target=\"_top\" title=\"psysml:fd52748d-5cd7-4973-9bed-274bef6831d2\" xlink:actuate=\"onRequest\" xlink:href=\"psysml:fd52748d-5cd7-4973-9bed-274bef6831d2\" xlink:show=\"new\" xlink:title=\"psysml:fd52748d-5cd7-4973-9bed-274bef6831d2\" xlink:type=\"simple\"><g id=\"elem_E5\"><rect fill=\"#FFFFFF\" height=\"75.0813\" id=\"E5\" rx=\"10\" ry=\"10\" style=\"stroke:#181818;stroke-width:0.5;\" width=\"52\" x=\"32\" y=\"57.5\"/><text fill=\"#000000\" font-family=\"sans-serif\" font-size=\"12\" font-style=\"italic\" lengthAdjust=\"spacing\" textLength=\"40\" x=\"38\" y=\"73.6387\">«part»</text><text fill=\"#000000\" font-family=\"sans-serif\" font-size=\"14\" lengthAdjust=\"spacing\" textLength=\"16\" x=\"46\" y=\"89.4639\">v2</text><line style=\"stroke:#181818;stroke-width:0.5;\" x1=\"33\" x2=\"83\" y1=\"97.7656\" y2=\"97.7656\"/><text fill=\"#000000\" font-family=\"sans-serif\" font-size=\"14\" lengthAdjust=\"spacing\" textLength=\"39\" x=\"38\" y=\"125.2795\">= W()</text><text fill=\"#000000\" font-family=\"sans-serif\" font-size=\"14\" font-style=\"italic\" lengthAdjust=\"spacing\" textLength=\"44\" x=\"36\" y=\"110.1123\">values</text></g></a><!--MD5=[05d275557350bfb9b23a4ef7222b4c39]\n",
       "link E3 to E2--><g id=\"link_E3_E2\"><a href=\"psysml:1a78d8f2-030e-492a-8201-32cffefdc08b\" target=\"_top\" title=\"psysml:1a78d8f2-030e-492a-8201-32cffefdc08b\" xlink:actuate=\"onRequest\" xlink:href=\"psysml:1a78d8f2-030e-492a-8201-32cffefdc08b\" xlink:show=\"new\" xlink:title=\"psysml:1a78d8f2-030e-492a-8201-32cffefdc08b\" xlink:type=\"simple\"><path d=\"M277.99,140.71 C270.7,156.24 262.37,173.95 254.52,190.67 \" fill=\"none\" id=\"E3-to-E2\" style=\"stroke:#181818;stroke-width:1.0;\"/><polygon fill=\"#FFFFFF\" points=\"245.93,208.95,247.6703,188.7765,260.3425,194.7275,245.93,208.95\" style=\"stroke:#181818;stroke-width:1.0;\"/><ellipse cx=\"251.9035\" cy=\"184.4672\" fill=\"#181818\" rx=\"2\" ry=\"2\" style=\"stroke:#181818;stroke-width:1.0;\"/><ellipse cx=\"260.9551\" cy=\"188.718\" fill=\"#181818\" rx=\"2\" ry=\"2\" style=\"stroke:#181818;stroke-width:1.0;\"/></a></g><!--MD5=[185131fc0dcab0a4505a2ebe144e961b]\n",
       "link E4 to E2--><g id=\"link_E4_E2\"><a href=\"psysml:5695b7ea-3fef-47ac-8247-2c32b379aa0a\" target=\"_top\" title=\"psysml:5695b7ea-3fef-47ac-8247-2c32b379aa0a\" xlink:actuate=\"onRequest\" xlink:href=\"psysml:5695b7ea-3fef-47ac-8247-2c32b379aa0a\" xlink:show=\"new\" xlink:title=\"psysml:5695b7ea-3fef-47ac-8247-2c32b379aa0a\" xlink:type=\"simple\"><path d=\"M190.6,149.32 C194.9,162.33 199.54,176.38 203.98,189.82 \" fill=\"none\" id=\"E4-to-E2\" style=\"stroke:#181818;stroke-width:1.0;\"/><polygon fill=\"none\" points=\"210.65,187.7,210.27,208.89,197.35,192.09,210.65,187.7\" style=\"stroke:#181818;stroke-width:1.0;\"/></a></g><!--MD5=[8aefc503bc65cdc8b91789fd0b788ef2]\n",
       "@startuml\r\n",
       "skin sysmlbw\r\n",
       "skinparam monochrome true\r\n",
       "skinparam wrapWidth 300\r\n",
       "hide circle\r\n",
       "\r\n",
       "package \"DefaultValueTest\" as E1  [[psysml:7da0ff95-83c9-4c69-ab50-6e4dec268467 ]]  {\r\n",
       "comp def \"V\" as E2  <<(T,blue) part  def>> [[psysml:98a54266-dd8e-4aee-8801-c30b6645e897 ]] {\r\n",
       "##//attributes//##\r\n",
       "m<b> default </b><U+003D> 10\r\n",
       "n <U+003D> 20\r\n",
       "}\r\n",
       "comp usage \"v1: V  \" as E3  <<(T,blue) part>> [[psysml:f9c62a8d-8a1e-4486-94b1-ee59692b29ae ]] {\r\n",
       "##//attributes//##\r\n",
       "m <U+003D> 20\\n//:>>V::m// \r\n",
       "}\r\n",
       "comp def \"W\" as E4  <<(T,blue) part  def>> [[psysml:ad7d8f37-2b75-4e7f-880b-981718b0db98 ]] {\r\n",
       "##//attributes//##\r\n",
       "m<b> default </b><U+003D> n\\n//:>>V::m// \r\n",
       "^n <U+003D> 20\r\n",
       "}\r\n",
       "comp usage \"v2  \" as E5  <<(T,blue) part>> [[psysml:fd52748d-5cd7-4973-9bed-274bef6831d2 ]] {\r\n",
       "##//values//##\r\n",
       " <U+003D> W()\r\n",
       "}\r\n",
       "}\r\n",
       "E3 - -:|> E2 [[psysml:1a78d8f2-030e-492a-8201-32cffefdc08b ]] \r\n",
       "E4 - -|> E2 [[psysml:5695b7ea-3fef-47ac-8247-2c32b379aa0a ]] \r\n",
       "@enduml\r\n",
       "\n",
       "PlantUML version 1.2022.7(Mon Aug 22 17:01:30 UTC 2022)\n",
       "(EPL source distribution)\n",
       "Java Runtime: OpenJDK Runtime Environment\n",
       "JVM: OpenJDK 64-Bit Server VM\n",
       "Default Encoding: UTF-8\n",
       "Language: en\n",
       "Country: null\n",
       "--></g></svg>"
      ]
     },
     "execution_count": 38,
     "metadata": {},
     "output_type": "execute_result"
    }
   ],
   "source": [
    "%viz --style=\"DEFAULT\" --view=\"Tree\" \"DefaultValueTest\""
   ]
  },
  {
   "cell_type": "code",
   "execution_count": 39,
   "id": "39fbced9",
   "metadata": {
    "execution": {
     "iopub.execute_input": "2024-12-16T14:21:30.118932Z",
     "iopub.status.busy": "2024-12-16T14:21:30.118700Z",
     "iopub.status.idle": "2024-12-16T14:21:30.123746Z",
     "shell.execute_reply": "2024-12-16T14:21:30.123545Z"
    }
   },
   "outputs": [
    {
     "data": {
      "image/svg+xml": [
       "<?xml version=\"1.0\" encoding=\"UTF-8\" standalone=\"no\"?><svg xmlns=\"http://www.w3.org/2000/svg\" xmlns:xlink=\"http://www.w3.org/1999/xlink\" contentStyleType=\"text/css\" height=\"10px\" preserveAspectRatio=\"none\" style=\"width:10px;height:10px;background:#FFFFFF;\" version=\"1.1\" viewBox=\"0 0 10 10\" width=\"10px\" zoomAndPan=\"magnify\"><defs/><g><!--MD5=[ac12e6954f3af68464267ee74ddf8a9f]\n",
       "@startuml\r\n",
       "skin sysmlbw\r\n",
       "skinparam monochrome true\r\n",
       "skinparam wrapWidth 300\r\n",
       "hide circle\r\n",
       "\r\n",
       "@enduml\r\n",
       "\n",
       "PlantUML version 1.2022.7(Mon Aug 22 17:01:30 UTC 2022)\n",
       "(EPL source distribution)\n",
       "Java Runtime: OpenJDK Runtime Environment\n",
       "JVM: OpenJDK 64-Bit Server VM\n",
       "Default Encoding: UTF-8\n",
       "Language: en\n",
       "Country: null\n",
       "--></g></svg>"
      ]
     },
     "execution_count": 39,
     "metadata": {},
     "output_type": "execute_result"
    }
   ],
   "source": [
    "%viz --style=\"DEFAULT\" --view=\"State\" \"DefaultValueTest\""
   ]
  },
  {
   "cell_type": "code",
   "execution_count": 40,
   "id": "161cc84d",
   "metadata": {
    "execution": {
     "iopub.execute_input": "2024-12-16T14:21:30.179810Z",
     "iopub.status.busy": "2024-12-16T14:21:30.179601Z",
     "iopub.status.idle": "2024-12-16T14:21:30.206804Z",
     "shell.execute_reply": "2024-12-16T14:21:30.205994Z"
    }
   },
   "outputs": [
    {
     "data": {
      "image/svg+xml": [
       "<?xml version=\"1.0\" encoding=\"UTF-8\" standalone=\"no\"?><svg xmlns=\"http://www.w3.org/2000/svg\" xmlns:xlink=\"http://www.w3.org/1999/xlink\" contentStyleType=\"text/css\" height=\"477px\" preserveAspectRatio=\"none\" style=\"width:656px;height:477px;background:#FFFFFF;\" version=\"1.1\" viewBox=\"0 0 656 477\" width=\"656px\" zoomAndPan=\"magnify\"><defs/><g><!--MD5=[fbc87193dbaf4d95561dea2c320d4a47]\n",
       "cluster E1--><g id=\"cluster_E1\"><a href=\"psysml:7da0ff95-83c9-4c69-ab50-6e4dec268467\" target=\"_top\" title=\"psysml:7da0ff95-83c9-4c69-ab50-6e4dec268467\" xlink:actuate=\"onRequest\" xlink:href=\"psysml:7da0ff95-83c9-4c69-ab50-6e4dec268467\" xlink:show=\"new\" xlink:title=\"psysml:7da0ff95-83c9-4c69-ab50-6e4dec268467\" xlink:type=\"simple\"><polygon fill=\"none\" points=\"16,6,147,6,154,28.2969,639,28.2969,639,470,16,470,16,6\" style=\"stroke:#000000;stroke-width:1.5;\"/><line style=\"stroke:#000000;stroke-width:1.5;\" x1=\"16\" x2=\"154\" y1=\"28.2969\" y2=\"28.2969\"/><text fill=\"#000000\" font-family=\"sans-serif\" font-size=\"14\" font-weight=\"bold\" lengthAdjust=\"spacing\" textLength=\"125\" x=\"20\" y=\"20.9951\">DefaultValueTest</text></a></g><!--MD5=[e4f7fae6ed58524ba242bb0b0d3be6b7]\n",
       "cluster E2--><g id=\"cluster_E2\"><a href=\"psysml:98a54266-dd8e-4aee-8801-c30b6645e897\" target=\"_top\" title=\"psysml:98a54266-dd8e-4aee-8801-c30b6645e897\" xlink:actuate=\"onRequest\" xlink:href=\"psysml:98a54266-dd8e-4aee-8801-c30b6645e897\" xlink:show=\"new\" xlink:title=\"psysml:98a54266-dd8e-4aee-8801-c30b6645e897\" xlink:type=\"simple\"><rect fill=\"#FFFFFF\" height=\"158\" id=\"E2\" style=\"stroke:#383838;stroke-width:1.5;\" width=\"278\" x=\"329\" y=\"280\"/><text fill=\"#000000\" font-family=\"sans-serif\" font-size=\"12\" font-style=\"italic\" lengthAdjust=\"spacing\" textLength=\"68\" x=\"434\" y=\"296.1387\">«part  def»</text><text fill=\"#000000\" font-family=\"sans-serif\" font-size=\"14\" lengthAdjust=\"spacing\" textLength=\"9\" x=\"463.5\" y=\"311.9639\">V</text><line style=\"stroke:#383838;stroke-width:1.0;\" x1=\"329\" x2=\"607\" y1=\"320.2656\" y2=\"320.2656\"/></a></g><!--MD5=[de5ec2e2e8f62f467e546659f5068c88]\n",
       "cluster E5--><g id=\"cluster_E5\"><a href=\"psysml:f9c62a8d-8a1e-4486-94b1-ee59692b29ae\" target=\"_top\" title=\"psysml:f9c62a8d-8a1e-4486-94b1-ee59692b29ae\" xlink:actuate=\"onRequest\" xlink:href=\"psysml:f9c62a8d-8a1e-4486-94b1-ee59692b29ae\" xlink:show=\"new\" xlink:title=\"psysml:f9c62a8d-8a1e-4486-94b1-ee59692b29ae\" xlink:type=\"simple\"><rect fill=\"#FFFFFF\" height=\"142\" id=\"E5\" rx=\"10\" ry=\"10\" style=\"stroke:#383838;stroke-width:1.5;\" width=\"139\" x=\"405\" y=\"73\"/><text fill=\"#000000\" font-family=\"sans-serif\" font-size=\"14\" lengthAdjust=\"spacing\" textLength=\"34\" x=\"457.5\" y=\"90.9951\">v1: V</text><line style=\"stroke:#383838;stroke-width:1.0;\" x1=\"405\" x2=\"544\" y1=\"99.2969\" y2=\"99.2969\"/></a></g><!--MD5=[168fadf3d0c3fd93dd5d6da1b1d7ab76]\n",
       "cluster E7--><g id=\"cluster_E7\"><a href=\"psysml:ad7d8f37-2b75-4e7f-880b-981718b0db98\" target=\"_top\" title=\"psysml:ad7d8f37-2b75-4e7f-880b-981718b0db98\" xlink:actuate=\"onRequest\" xlink:href=\"psysml:ad7d8f37-2b75-4e7f-880b-981718b0db98\" xlink:show=\"new\" xlink:title=\"psysml:ad7d8f37-2b75-4e7f-880b-981718b0db98\" xlink:type=\"simple\"><rect fill=\"#FFFFFF\" height=\"381\" id=\"E7\" style=\"stroke:#383838;stroke-width:1.5;\" width=\"163\" x=\"126\" y=\"57\"/><text fill=\"#000000\" font-family=\"sans-serif\" font-size=\"12\" font-style=\"italic\" lengthAdjust=\"spacing\" textLength=\"68\" x=\"173.5\" y=\"73.1387\">«part  def»</text><text fill=\"#000000\" font-family=\"sans-serif\" font-size=\"14\" lengthAdjust=\"spacing\" textLength=\"13\" x=\"201\" y=\"88.9639\">W</text><line style=\"stroke:#383838;stroke-width:1.0;\" x1=\"126\" x2=\"289\" y1=\"97.2656\" y2=\"97.2656\"/></a></g><!--MD5=[09b614a08d8cba4a07c9adeb5e0fee81]\n",
       "class E3--><a href=\"psysml:6c5b3b06-fe87-444e-9dd6-6649acbff1c0\" target=\"_top\" title=\"psysml:6c5b3b06-fe87-444e-9dd6-6649acbff1c0\" xlink:actuate=\"onRequest\" xlink:href=\"psysml:6c5b3b06-fe87-444e-9dd6-6649acbff1c0\" xlink:show=\"new\" xlink:title=\"psysml:6c5b3b06-fe87-444e-9dd6-6649acbff1c0\" xlink:type=\"simple\"><g id=\"elem_E3\"><rect fill=\"#FFFFFF\" height=\"75.0813\" id=\"E3\" rx=\"10\" ry=\"10\" style=\"stroke:#181818;stroke-width:0.5;\" width=\"104.0625\" x=\"479\" y=\"339\"/><text fill=\"#000000\" font-family=\"sans-serif\" font-size=\"12\" font-style=\"italic\" lengthAdjust=\"spacing\" textLength=\"69\" x=\"496.5313\" y=\"355.1387\">«attribute»</text><text fill=\"#000000\" font-family=\"sans-serif\" font-size=\"14\" lengthAdjust=\"spacing\" textLength=\"13\" x=\"520.5313\" y=\"370.9639\">m</text><line style=\"stroke:#181818;stroke-width:0.5;\" x1=\"480\" x2=\"582.0625\" y1=\"379.2656\" y2=\"379.2656\"/><text fill=\"#000000\" font-family=\"sans-serif\" font-size=\"14\" font-weight=\"bold\" lengthAdjust=\"spacing\" textLength=\"50.0625\" x=\"489\" y=\"406.7795\">default</text><text fill=\"#000000\" font-family=\"sans-serif\" font-size=\"14\" lengthAdjust=\"spacing\" textLength=\"34\" x=\"543.0625\" y=\"406.7795\">= 10</text><text fill=\"#000000\" font-family=\"sans-serif\" font-size=\"14\" font-style=\"italic\" lengthAdjust=\"spacing\" textLength=\"44\" x=\"509.0313\" y=\"391.6123\">values</text></g></a><!--MD5=[ebbe1d658d1005bcc118a6aa81145e00]\n",
       "class E4--><a href=\"psysml:d4a77e27-0ca8-4584-84f6-1d4e52d400d2\" target=\"_top\" title=\"psysml:d4a77e27-0ca8-4584-84f6-1d4e52d400d2\" xlink:actuate=\"onRequest\" xlink:href=\"psysml:d4a77e27-0ca8-4584-84f6-1d4e52d400d2\" xlink:show=\"new\" xlink:title=\"psysml:d4a77e27-0ca8-4584-84f6-1d4e52d400d2\" xlink:type=\"simple\"><g id=\"elem_E4\"><rect fill=\"#FFFFFF\" height=\"75.0813\" id=\"E4\" rx=\"10\" ry=\"10\" style=\"stroke:#181818;stroke-width:0.5;\" width=\"71\" x=\"372.5\" y=\"339\"/><text fill=\"#000000\" font-family=\"sans-serif\" font-size=\"12\" font-style=\"italic\" lengthAdjust=\"spacing\" textLength=\"69\" x=\"373.5\" y=\"355.1387\">«attribute»</text><text fill=\"#000000\" font-family=\"sans-serif\" font-size=\"14\" lengthAdjust=\"spacing\" textLength=\"9\" x=\"399.5\" y=\"370.9639\">n</text><line style=\"stroke:#181818;stroke-width:0.5;\" x1=\"373.5\" x2=\"442.5\" y1=\"379.2656\" y2=\"379.2656\"/><text fill=\"#000000\" font-family=\"sans-serif\" font-size=\"14\" lengthAdjust=\"spacing\" textLength=\"34\" x=\"378.5\" y=\"406.7795\">= 20</text><text fill=\"#000000\" font-family=\"sans-serif\" font-size=\"14\" font-style=\"italic\" lengthAdjust=\"spacing\" textLength=\"44\" x=\"386\" y=\"391.6123\">values</text></g></a><!--MD5=[60a26617385b1d2d0262a64233df1f8d]\n",
       "class E6--><a href=\"psysml:c20e1062-5069-459a-93a7-f31b5f49cd74\" target=\"_top\" title=\"psysml:c20e1062-5069-459a-93a7-f31b5f49cd74\" xlink:actuate=\"onRequest\" xlink:href=\"psysml:c20e1062-5069-459a-93a7-f31b5f49cd74\" xlink:show=\"new\" xlink:title=\"psysml:c20e1062-5069-459a-93a7-f31b5f49cd74\" xlink:type=\"simple\"><g id=\"elem_E6\"><rect fill=\"#FFFFFF\" height=\"75.0813\" id=\"E6\" rx=\"10\" ry=\"10\" style=\"stroke:#181818;stroke-width:0.5;\" width=\"71\" x=\"448.5\" y=\"116\"/><text fill=\"#000000\" font-family=\"sans-serif\" font-size=\"12\" font-style=\"italic\" lengthAdjust=\"spacing\" textLength=\"69\" x=\"449.5\" y=\"132.1387\">«attribute»</text><text fill=\"#000000\" font-family=\"sans-serif\" font-size=\"14\" lengthAdjust=\"spacing\" textLength=\"13\" x=\"473.5\" y=\"147.9639\">m</text><line style=\"stroke:#181818;stroke-width:0.5;\" x1=\"449.5\" x2=\"518.5\" y1=\"156.2656\" y2=\"156.2656\"/><text fill=\"#000000\" font-family=\"sans-serif\" font-size=\"14\" lengthAdjust=\"spacing\" textLength=\"34\" x=\"454.5\" y=\"183.7795\">= 20</text><text fill=\"#000000\" font-family=\"sans-serif\" font-size=\"14\" font-style=\"italic\" lengthAdjust=\"spacing\" textLength=\"44\" x=\"462\" y=\"168.6123\">values</text></g></a><!--MD5=[b9389687b975829384b498ac4b7476b2]\n",
       "class E8--><a href=\"psysml:073a166e-558c-466c-90f5-50af09b65e43\" target=\"_top\" title=\"psysml:073a166e-558c-466c-90f5-50af09b65e43\" xlink:actuate=\"onRequest\" xlink:href=\"psysml:073a166e-558c-466c-90f5-50af09b65e43\" xlink:show=\"new\" xlink:title=\"psysml:073a166e-558c-466c-90f5-50af09b65e43\" xlink:type=\"simple\"><g id=\"elem_E8\"><rect fill=\"#FFFFFF\" height=\"75.0813\" id=\"E8\" rx=\"10\" ry=\"10\" style=\"stroke:#181818;stroke-width:0.5;\" width=\"95.0625\" x=\"150.5\" y=\"116\"/><text fill=\"#000000\" font-family=\"sans-serif\" font-size=\"12\" font-style=\"italic\" lengthAdjust=\"spacing\" textLength=\"69\" x=\"163.5313\" y=\"132.1387\">«attribute»</text><text fill=\"#000000\" font-family=\"sans-serif\" font-size=\"14\" lengthAdjust=\"spacing\" textLength=\"13\" x=\"187.5313\" y=\"147.9639\">m</text><line style=\"stroke:#181818;stroke-width:0.5;\" x1=\"151.5\" x2=\"244.5625\" y1=\"156.2656\" y2=\"156.2656\"/><text fill=\"#000000\" font-family=\"sans-serif\" font-size=\"14\" font-weight=\"bold\" lengthAdjust=\"spacing\" textLength=\"50.0625\" x=\"160.5\" y=\"183.7795\">default</text><text fill=\"#000000\" font-family=\"sans-serif\" font-size=\"14\" lengthAdjust=\"spacing\" textLength=\"25\" x=\"214.5625\" y=\"183.7795\">= n</text><text fill=\"#000000\" font-family=\"sans-serif\" font-size=\"14\" font-style=\"italic\" lengthAdjust=\"spacing\" textLength=\"44\" x=\"176.0313\" y=\"168.6123\">values</text></g></a><!--MD5=[fd4143e9d270a159db93a4ea2a975926]\n",
       "class E9--><a href=\"psysml:d4a77e27-0ca8-4584-84f6-1d4e52d400d2\" target=\"_top\" title=\"psysml:d4a77e27-0ca8-4584-84f6-1d4e52d400d2\" xlink:actuate=\"onRequest\" xlink:href=\"psysml:d4a77e27-0ca8-4584-84f6-1d4e52d400d2\" xlink:show=\"new\" xlink:title=\"psysml:d4a77e27-0ca8-4584-84f6-1d4e52d400d2\" xlink:type=\"simple\"><g id=\"elem_E9\"><rect fill=\"#FFFFFF\" height=\"75.0813\" id=\"E9\" rx=\"10\" ry=\"10\" style=\"stroke:#181818;stroke-width:0.5;\" width=\"71\" x=\"162.5\" y=\"339\"/><text fill=\"#000000\" font-family=\"sans-serif\" font-size=\"12\" font-style=\"italic\" lengthAdjust=\"spacing\" textLength=\"69\" x=\"163.5\" y=\"355.1387\">«attribute»</text><text fill=\"#000000\" font-family=\"sans-serif\" font-size=\"14\" lengthAdjust=\"spacing\" textLength=\"21\" x=\"183.5\" y=\"370.9639\">^n</text><line style=\"stroke:#181818;stroke-width:0.5;\" x1=\"163.5\" x2=\"232.5\" y1=\"379.2656\" y2=\"379.2656\"/><text fill=\"#000000\" font-family=\"sans-serif\" font-size=\"14\" lengthAdjust=\"spacing\" textLength=\"34\" x=\"168.5\" y=\"406.7795\">= 20</text><text fill=\"#000000\" font-family=\"sans-serif\" font-size=\"14\" font-style=\"italic\" lengthAdjust=\"spacing\" textLength=\"44\" x=\"176\" y=\"391.6123\">values</text></g></a><g><a href=\"psysml:fd52748d-5cd7-4973-9bed-274bef6831d2\" target=\"_top\" title=\"psysml:fd52748d-5cd7-4973-9bed-274bef6831d2\" xlink:actuate=\"onRequest\" xlink:href=\"psysml:fd52748d-5cd7-4973-9bed-274bef6831d2\" xlink:show=\"new\" xlink:title=\"psysml:fd52748d-5cd7-4973-9bed-274bef6831d2\" xlink:type=\"simple\"><rect fill=\"#FFFFFF\" height=\"40\" id=\"E10\" rx=\"10\" ry=\"10\" style=\"stroke:#383838;stroke-width:1.5;\" width=\"70\" x=\"32\" y=\"133.5\"/><text fill=\"#000000\" font-family=\"sans-serif\" font-size=\"14\" lengthAdjust=\"spacing\" textLength=\"59\" x=\"37.5\" y=\"151.4951\">v2 = W()</text></a></g><!--MD5=[a717450b82c80b9240a525fa862496af]\n",
       "link E6 to E3--><g id=\"link_E6_E3\"><a href=\"psysml:bbca0750-a9c1-46d9-82f5-94045bc6258a\" target=\"_top\" title=\"psysml:bbca0750-a9c1-46d9-82f5-94045bc6258a\" xlink:actuate=\"onRequest\" xlink:href=\"psysml:bbca0750-a9c1-46d9-82f5-94045bc6258a\" xlink:show=\"new\" xlink:title=\"psysml:bbca0750-a9c1-46d9-82f5-94045bc6258a\" xlink:type=\"simple\"><path d=\"M491.87,191.49 C499.28,226.33 510.48,279.03 519.01,319.11 \" fill=\"none\" id=\"E6-to-E3\" style=\"stroke:#181818;stroke-width:1.0;\"/><polygon fill=\"#FFFFFF\" points=\"523.19,338.76,512.3925,321.6307,526.0866,318.7198,523.19,338.76\" style=\"stroke:#181818;stroke-width:1.0;\"/><line style=\"stroke:#181818;stroke-width:2.0;\" x1=\"511.6024\" x2=\"525.2965\" y1=\"317.9137\" y2=\"315.0028\"/></a></g><!--MD5=[15ebcb19ae302d9b601edb458606d402]\n",
       "link E5 to E2--><g id=\"link_E5_E2\"><a href=\"psysml:1a78d8f2-030e-492a-8201-32cffefdc08b\" target=\"_top\" title=\"psysml:1a78d8f2-030e-492a-8201-32cffefdc08b\" xlink:actuate=\"onRequest\" xlink:href=\"psysml:1a78d8f2-030e-492a-8201-32cffefdc08b\" xlink:show=\"new\" xlink:title=\"psysml:1a78d8f2-030e-492a-8201-32cffefdc08b\" xlink:type=\"simple\"><path d=\"M404.8079,167.0368 C404.7416,167.1414 404.675,167.2466 404.6081,167.3523 C404.3405,167.7752 404.0678,168.207 403.7904,168.6477 C403.2356,169.529 402.6617,170.4455 402.0704,171.3954 C400.8878,173.2952 399.6358,175.3287 398.3279,177.4818 C395.7122,181.7881 392.8731,186.5731 389.92,191.725 C378.1075,212.3325 364.47,238.81 356,264 C355.0144,266.9313 354.0781,269.9239 353.1889,272.9592 C352.7443,274.4769 352.3114,276.0052 351.8901,277.5419 C351.6794,278.3103 351.4715,279.0807 351.2665,279.8529 \" fill=\"none\" id=\"E5-to-E2\" style=\"stroke:#181818;stroke-width:1.0;\"/><polygon fill=\"#FFFFFF\" points=\"351.2665,279.8529,349.3758,259.6929,362.9072,263.285,351.2665,279.8529\" style=\"stroke:#181818;stroke-width:1.0;\"/><ellipse cx=\"352.7714\" cy=\"254.6969\" fill=\"#181818\" rx=\"2\" ry=\"2\" style=\"stroke:#181818;stroke-width:1.0;\"/><ellipse cx=\"362.4366\" cy=\"257.2627\" fill=\"#181818\" rx=\"2\" ry=\"2\" style=\"stroke:#181818;stroke-width:1.0;\"/></a></g><!--MD5=[583832df87f4419a098336a29a52fa00]\n",
       "link E7 to E2--><g id=\"link_E7_E2\"><a href=\"psysml:5695b7ea-3fef-47ac-8247-2c32b379aa0a\" target=\"_top\" title=\"psysml:5695b7ea-3fef-47ac-8247-2c32b379aa0a\" xlink:actuate=\"onRequest\" xlink:href=\"psysml:5695b7ea-3fef-47ac-8247-2c32b379aa0a\" xlink:show=\"new\" xlink:title=\"psysml:5695b7ea-3fef-47ac-8247-2c32b379aa0a\" xlink:type=\"simple\"><path d=\"M289.0643,186.3255 C289.1414,186.6297 289.2189,186.9356 289.2968,187.2431 C289.6085,188.4733 289.9269,189.7294 290.2514,191.0102 C295.4441,211.5016 302.2281,238.2731 309.0113,265.0413 C315.7944,291.8094 322.5766,318.5741 327.7655,339.0517 C328.0898,340.3316 328.4079,341.5869 328.7193,342.8161 C328.7972,343.1234 328.8747,343.429 328.9517,343.7331 \" fill=\"none\" id=\"E7-to-E2\" style=\"stroke:#181818;stroke-width:1.0;\"/><polygon fill=\"#FFFFFF\" points=\"328.9517,343.7331,331.0703,323.5957,317.4992,327.0345,328.9517,343.7331\" style=\"stroke:#181818;stroke-width:1.0;\"/></a></g><!--MD5=[95fa686b5a16158bcdbcaeead89f639b]\n",
       "link E8 to E3--><g id=\"link_E8_E3\"><a href=\"psysml:921fa623-ecc5-4b2e-b8c8-ebddf6697201\" target=\"_top\" title=\"psysml:921fa623-ecc5-4b2e-b8c8-ebddf6697201\" xlink:actuate=\"onRequest\" xlink:href=\"psysml:921fa623-ecc5-4b2e-b8c8-ebddf6697201\" xlink:show=\"new\" xlink:title=\"psysml:921fa623-ecc5-4b2e-b8c8-ebddf6697201\" xlink:type=\"simple\"><path d=\"M214.18,191.14 C222.5,205.81 234.07,221.46 249,231 C329.35,282.35 381.36,211.56 461,264 C481.71,277.64 497.44,299.75 508.69,320.69 \" fill=\"none\" id=\"E8-to-E3\" style=\"stroke:#181818;stroke-width:1.0;\"/><polygon fill=\"#FFFFFF\" points=\"517.61,338.94,502.9765,324.945,515.554,318.7962,517.61,338.94\" style=\"stroke:#181818;stroke-width:1.0;\"/><line style=\"stroke:#181818;stroke-width:2.0;\" x1=\"501.3076\" x2=\"513.885\" y1=\"321.5311\" y2=\"315.3823\"/></a></g><!--MD5=[ed10624c06dd9a4fa49ccf290e8b16a8]\n",
       "link E8 to E9--><g id=\"link_E8_E9\"><a href=\"psysml:fc577d85-8ebe-448e-af16-5782109a2fa7\" target=\"_top\" title=\"psysml:fc577d85-8ebe-448e-af16-5782109a2fa7\" xlink:actuate=\"onRequest\" xlink:href=\"psysml:fc577d85-8ebe-448e-af16-5782109a2fa7\" xlink:show=\"new\" xlink:title=\"psysml:fc577d85-8ebe-448e-af16-5782109a2fa7\" xlink:type=\"simple\"><path d=\"M198,191.49 C198,232.41 198,297.94 198,338.76 \" fill=\"none\" id=\"E8-E9\" style=\"stroke:#181818;stroke-width:5.0;\"/><text fill=\"#000000\" font-family=\"sans-serif\" font-size=\"13\" lengthAdjust=\"spacing\" textLength=\"11\" x=\"199\" y=\"252.0669\">=</text></a></g><!--MD5=[65965062247431dfe10b9dc684bb7ebc]\n",
       "@startuml\r\n",
       "skin sysmlbw\r\n",
       "skinparam monochrome true\r\n",
       "skinparam wrapWidth 300\r\n",
       "hide circle\r\n",
       "skinparam ranksep 10\r\n",
       "skinparam rectangle {\r\n",
       " backgroundColor<<block>> LightGreen\r\n",
       "}\r\n",
       "\r\n",
       "package \"DefaultValueTest\" as E1  [[psysml:7da0ff95-83c9-4c69-ab50-6e4dec268467 ]]  {\r\n",
       "rec def \"V\" as E2  <<(T,blue) part  def>> [[psysml:98a54266-dd8e-4aee-8801-c30b6645e897 ]] {\r\n",
       "comp usage \"m  \" as E3  <<(T,blue) attribute>> [[psysml:6c5b3b06-fe87-444e-9dd6-6649acbff1c0 ]] {\r\n",
       "##//values//##\r\n",
       "<b> default </b><U+003D> 10\r\n",
       "}\r\n",
       "comp usage \"n  \" as E4  <<(T,blue) attribute>> [[psysml:d4a77e27-0ca8-4584-84f6-1d4e52d400d2 ]] {\r\n",
       "##//values//##\r\n",
       " <U+003D> 20\r\n",
       "}\r\n",
       "}\r\n",
       "rec usage \"v1: V\" as E5 [[psysml:f9c62a8d-8a1e-4486-94b1-ee59692b29ae ]] {\r\n",
       "comp usage \"m  \" as E6  <<(T,blue) attribute>> [[psysml:c20e1062-5069-459a-93a7-f31b5f49cd74 ]] {\r\n",
       "##//values//##\r\n",
       " <U+003D> 20\r\n",
       "}\r\n",
       "}\r\n",
       "rec def \"W\" as E7  <<(T,blue) part  def>> [[psysml:ad7d8f37-2b75-4e7f-880b-981718b0db98 ]] {\r\n",
       "comp usage \"m  \" as E8  <<(T,blue) attribute>> [[psysml:073a166e-558c-466c-90f5-50af09b65e43 ]] {\r\n",
       "##//values//##\r\n",
       "<b> default </b><U+003D> n\r\n",
       "}\r\n",
       "comp usage \"^n  \" as E9  <<(T,blue) attribute>> [[psysml:d4a77e27-0ca8-4584-84f6-1d4e52d400d2 ]] {\r\n",
       "##//values//##\r\n",
       " <U+003D> 20\r\n",
       "}\r\n",
       "}\r\n",
       "rec usage \"v2 <U+003D> W()\" as E10 [[psysml:fd52748d-5cd7-4973-9bed-274bef6831d2 ]] {\r\n",
       "}\r\n",
       "}\r\n",
       "E6 - -||> E3 [[psysml:bbca0750-a9c1-46d9-82f5-94045bc6258a ]] \r\n",
       "E5 - -:|> E2 [[psysml:1a78d8f2-030e-492a-8201-32cffefdc08b ]] \r\n",
       "E7 - -|> E2 [[psysml:5695b7ea-3fef-47ac-8247-2c32b379aa0a ]] \r\n",
       "E8 - -||> E3 [[psysml:921fa623-ecc5-4b2e-b8c8-ebddf6697201 ]] \r\n",
       "E8 -[thickness=5]- E9 [[psysml:fc577d85-8ebe-448e-af16-5782109a2fa7 ]] : =\r\n",
       "@enduml\r\n",
       "\n",
       "PlantUML version 1.2022.7(Mon Aug 22 17:01:30 UTC 2022)\n",
       "(EPL source distribution)\n",
       "Java Runtime: OpenJDK Runtime Environment\n",
       "JVM: OpenJDK 64-Bit Server VM\n",
       "Default Encoding: UTF-8\n",
       "Language: en\n",
       "Country: null\n",
       "--></g></svg>"
      ]
     },
     "execution_count": 40,
     "metadata": {},
     "output_type": "execute_result"
    }
   ],
   "source": [
    "%viz --style=\"DEFAULT\" --view=\"Interconnection\" \"DefaultValueTest\""
   ]
  },
  {
   "cell_type": "code",
   "execution_count": 41,
   "id": "73eefaf5",
   "metadata": {
    "execution": {
     "iopub.execute_input": "2024-12-16T14:21:30.263066Z",
     "iopub.status.busy": "2024-12-16T14:21:30.262850Z",
     "iopub.status.idle": "2024-12-16T14:21:30.267123Z",
     "shell.execute_reply": "2024-12-16T14:21:30.266959Z"
    }
   },
   "outputs": [
    {
     "data": {
      "image/svg+xml": [
       "<?xml version=\"1.0\" encoding=\"UTF-8\" standalone=\"no\"?><svg xmlns=\"http://www.w3.org/2000/svg\" xmlns:xlink=\"http://www.w3.org/1999/xlink\" contentStyleType=\"text/css\" height=\"10px\" preserveAspectRatio=\"none\" style=\"width:10px;height:10px;background:#FFFFFF;\" version=\"1.1\" viewBox=\"0 0 10 10\" width=\"10px\" zoomAndPan=\"magnify\"><defs/><g><!--MD5=[3d9597b1575ffc4802b0d6ba40297a8d]\n",
       "@startuml\r\n",
       "skin sysmlbw\r\n",
       "skinparam monochrome true\r\n",
       "skinparam wrapWidth 300\r\n",
       "hide circle\r\n",
       "skinparam ranksep 8\r\n",
       "\r\n",
       "@enduml\r\n",
       "\n",
       "PlantUML version 1.2022.7(Mon Aug 22 17:01:30 UTC 2022)\n",
       "(EPL source distribution)\n",
       "Java Runtime: OpenJDK Runtime Environment\n",
       "JVM: OpenJDK 64-Bit Server VM\n",
       "Default Encoding: UTF-8\n",
       "Language: en\n",
       "Country: null\n",
       "--></g></svg>"
      ]
     },
     "execution_count": 41,
     "metadata": {},
     "output_type": "execute_result"
    }
   ],
   "source": [
    "%viz --style=\"DEFAULT\" --view=\"Action\" \"DefaultValueTest\""
   ]
  },
  {
   "cell_type": "code",
   "execution_count": 42,
   "id": "9439c1b1",
   "metadata": {
    "execution": {
     "iopub.execute_input": "2024-12-16T14:21:30.323218Z",
     "iopub.status.busy": "2024-12-16T14:21:30.322982Z",
     "iopub.status.idle": "2024-12-16T14:21:30.328223Z",
     "shell.execute_reply": "2024-12-16T14:21:30.327956Z"
    }
   },
   "outputs": [
    {
     "data": {
      "image/svg+xml": [
       "<?xml version=\"1.0\" encoding=\"UTF-8\" standalone=\"no\"?><svg xmlns=\"http://www.w3.org/2000/svg\" xmlns:xlink=\"http://www.w3.org/1999/xlink\" contentStyleType=\"text/css\" height=\"10px\" preserveAspectRatio=\"none\" style=\"width:10px;height:10px;background:#FFFFFF;\" version=\"1.1\" viewBox=\"0 0 10 10\" width=\"10px\" zoomAndPan=\"magnify\"><defs/><g><!--MD5=[075159388321915a295a256e9638f934]\n",
       "@startuml\r\n",
       "skin sysmlbw\r\n",
       "skinparam monochrome true\r\n",
       "skinparam wrapWidth 300\r\n",
       "hide circle\r\n",
       "skinparam roundcorner 20\r\n",
       "skinparam BoxPadding 20\r\n",
       "skinparam SequenceBoxBackgroundColor #white\r\n",
       "skinparam style strictuml\r\n",
       "skinparam maxMessageSize 100\r\n",
       "\r\n",
       "@enduml\r\n",
       "\n",
       "PlantUML version 1.2022.7(Mon Aug 22 17:01:30 UTC 2022)\n",
       "(EPL source distribution)\n",
       "Java Runtime: OpenJDK Runtime Environment\n",
       "JVM: OpenJDK 64-Bit Server VM\n",
       "Default Encoding: UTF-8\n",
       "Language: en\n",
       "Country: null\n",
       "--></g></svg>"
      ]
     },
     "execution_count": 42,
     "metadata": {},
     "output_type": "execute_result"
    }
   ],
   "source": [
    "%viz --style=\"DEFAULT\" --view=\"Sequence\" \"DefaultValueTest\""
   ]
  },
  {
   "cell_type": "code",
   "execution_count": 43,
   "id": "ca1009b0",
   "metadata": {
    "execution": {
     "iopub.execute_input": "2024-12-16T14:21:30.384016Z",
     "iopub.status.busy": "2024-12-16T14:21:30.383778Z",
     "iopub.status.idle": "2024-12-16T14:21:30.407779Z",
     "shell.execute_reply": "2024-12-16T14:21:30.407609Z"
    }
   },
   "outputs": [
    {
     "data": {
      "image/svg+xml": [
       "<?xml version=\"1.0\" encoding=\"UTF-8\" standalone=\"no\"?><svg xmlns=\"http://www.w3.org/2000/svg\" xmlns:xlink=\"http://www.w3.org/1999/xlink\" contentStyleType=\"text/css\" height=\"323px\" preserveAspectRatio=\"none\" style=\"width:369px;height:323px;background:#FFFFFF;\" version=\"1.1\" viewBox=\"0 0 369 323\" width=\"369px\" zoomAndPan=\"magnify\"><defs/><g><!--MD5=[fbc87193dbaf4d95561dea2c320d4a47]\n",
       "cluster E1--><g id=\"cluster_E1\"><a href=\"psysml:7da0ff95-83c9-4c69-ab50-6e4dec268467\" target=\"_top\" title=\"psysml:7da0ff95-83c9-4c69-ab50-6e4dec268467\" xlink:actuate=\"onRequest\" xlink:href=\"psysml:7da0ff95-83c9-4c69-ab50-6e4dec268467\" xlink:show=\"new\" xlink:title=\"psysml:7da0ff95-83c9-4c69-ab50-6e4dec268467\" xlink:type=\"simple\"><polygon fill=\"none\" points=\"16,6,147,6,154,28.2969,352,28.2969,352,316,16,316,16,6\" style=\"stroke:#000000;stroke-width:1.5;\"/><line style=\"stroke:#000000;stroke-width:1.5;\" x1=\"16\" x2=\"154\" y1=\"28.2969\" y2=\"28.2969\"/><text fill=\"#000000\" font-family=\"sans-serif\" font-size=\"14\" font-weight=\"bold\" lengthAdjust=\"spacing\" textLength=\"125\" x=\"20\" y=\"20.9951\">DefaultValueTest</text></a></g><!--MD5=[b4997ac47864f28c2f74865a473b2911]\n",
       "class E2--><a href=\"psysml:98a54266-dd8e-4aee-8801-c30b6645e897\" target=\"_top\" title=\"psysml:98a54266-dd8e-4aee-8801-c30b6645e897\" xlink:actuate=\"onRequest\" xlink:href=\"psysml:98a54266-dd8e-4aee-8801-c30b6645e897\" xlink:show=\"new\" xlink:title=\"psysml:98a54266-dd8e-4aee-8801-c30b6645e897\" xlink:type=\"simple\"><g id=\"elem_E2\"><rect fill=\"#FFFFFF\" height=\"91.3781\" id=\"E2\" style=\"stroke:#181818;stroke-width:0.5;\" width=\"117.0625\" x=\"166.5\" y=\"209\"/><text fill=\"#000000\" font-family=\"sans-serif\" font-size=\"12\" font-style=\"italic\" lengthAdjust=\"spacing\" textLength=\"68\" x=\"191.0313\" y=\"225.1387\">«part  def»</text><text fill=\"#000000\" font-family=\"sans-serif\" font-size=\"14\" lengthAdjust=\"spacing\" textLength=\"9\" x=\"220.5313\" y=\"240.9639\">V</text><line style=\"stroke:#181818;stroke-width:0.5;\" x1=\"167.5\" x2=\"282.5625\" y1=\"249.2656\" y2=\"249.2656\"/><text fill=\"#000000\" font-family=\"sans-serif\" font-size=\"14\" lengthAdjust=\"spacing\" textLength=\"13\" x=\"172.5\" y=\"276.7795\">m</text><text fill=\"#000000\" font-family=\"sans-serif\" font-size=\"14\" font-weight=\"bold\" lengthAdjust=\"spacing\" textLength=\"50.0625\" x=\"189.5\" y=\"276.7795\">default</text><text fill=\"#000000\" font-family=\"sans-serif\" font-size=\"14\" lengthAdjust=\"spacing\" textLength=\"34\" x=\"243.5625\" y=\"276.7795\">= 10</text><text fill=\"#000000\" font-family=\"sans-serif\" font-size=\"14\" lengthAdjust=\"spacing\" textLength=\"47\" x=\"172.5\" y=\"293.0764\">n = 20</text><text fill=\"#000000\" font-family=\"sans-serif\" font-size=\"14\" font-style=\"italic\" lengthAdjust=\"spacing\" textLength=\"66\" x=\"192.0313\" y=\"261.6123\">attributes</text></g></a><!--MD5=[09b614a08d8cba4a07c9adeb5e0fee81]\n",
       "class E3--><a href=\"psysml:f9c62a8d-8a1e-4486-94b1-ee59692b29ae\" target=\"_top\" title=\"psysml:f9c62a8d-8a1e-4486-94b1-ee59692b29ae\" xlink:actuate=\"onRequest\" xlink:href=\"psysml:f9c62a8d-8a1e-4486-94b1-ee59692b29ae\" xlink:show=\"new\" xlink:title=\"psysml:f9c62a8d-8a1e-4486-94b1-ee59692b29ae\" xlink:type=\"simple\"><g id=\"elem_E3\"><rect fill=\"#FFFFFF\" height=\"91.3781\" id=\"E3\" rx=\"10\" ry=\"10\" style=\"stroke:#181818;stroke-width:0.5;\" width=\"74\" x=\"262\" y=\"49.5\"/><text fill=\"#000000\" font-family=\"sans-serif\" font-size=\"12\" font-style=\"italic\" lengthAdjust=\"spacing\" textLength=\"40\" x=\"279\" y=\"65.6387\">«part»</text><text fill=\"#000000\" font-family=\"sans-serif\" font-size=\"14\" lengthAdjust=\"spacing\" textLength=\"34\" x=\"278\" y=\"81.4639\">v1: V</text><line style=\"stroke:#181818;stroke-width:0.5;\" x1=\"263\" x2=\"335\" y1=\"89.7656\" y2=\"89.7656\"/><text fill=\"#000000\" font-family=\"sans-serif\" font-size=\"14\" lengthAdjust=\"spacing\" textLength=\"51\" x=\"268\" y=\"117.2795\">m = 20</text><text fill=\"#000000\" font-family=\"sans-serif\" font-size=\"14\" font-style=\"italic\" lengthAdjust=\"spacing\" textLength=\"61\" x=\"268\" y=\"133.5764\">:&gt;&gt;V::m</text><text fill=\"#000000\" font-family=\"sans-serif\" font-size=\"14\" font-style=\"italic\" lengthAdjust=\"spacing\" textLength=\"66\" x=\"266\" y=\"102.1123\">attributes</text></g></a><!--MD5=[ebbe1d658d1005bcc118a6aa81145e00]\n",
       "class E4--><a href=\"psysml:ad7d8f37-2b75-4e7f-880b-981718b0db98\" target=\"_top\" title=\"psysml:ad7d8f37-2b75-4e7f-880b-981718b0db98\" xlink:actuate=\"onRequest\" xlink:href=\"psysml:ad7d8f37-2b75-4e7f-880b-981718b0db98\" xlink:show=\"new\" xlink:title=\"psysml:ad7d8f37-2b75-4e7f-880b-981718b0db98\" xlink:type=\"simple\"><g id=\"elem_E4\"><rect fill=\"#FFFFFF\" height=\"107.675\" id=\"E4\" style=\"stroke:#181818;stroke-width:0.5;\" width=\"108.0625\" x=\"119\" y=\"41\"/><text fill=\"#000000\" font-family=\"sans-serif\" font-size=\"12\" font-style=\"italic\" lengthAdjust=\"spacing\" textLength=\"68\" x=\"139.0313\" y=\"57.1387\">«part  def»</text><text fill=\"#000000\" font-family=\"sans-serif\" font-size=\"14\" lengthAdjust=\"spacing\" textLength=\"13\" x=\"166.5313\" y=\"72.9639\">W</text><line style=\"stroke:#181818;stroke-width:0.5;\" x1=\"120\" x2=\"226.0625\" y1=\"81.2656\" y2=\"81.2656\"/><text fill=\"#000000\" font-family=\"sans-serif\" font-size=\"14\" lengthAdjust=\"spacing\" textLength=\"13\" x=\"125\" y=\"108.7795\">m</text><text fill=\"#000000\" font-family=\"sans-serif\" font-size=\"14\" font-weight=\"bold\" lengthAdjust=\"spacing\" textLength=\"50.0625\" x=\"142\" y=\"108.7795\">default</text><text fill=\"#000000\" font-family=\"sans-serif\" font-size=\"14\" lengthAdjust=\"spacing\" textLength=\"25\" x=\"196.0625\" y=\"108.7795\">= n</text><text fill=\"#000000\" font-family=\"sans-serif\" font-size=\"14\" font-style=\"italic\" lengthAdjust=\"spacing\" textLength=\"61\" x=\"125\" y=\"125.0764\">:&gt;&gt;V::m</text><text fill=\"#000000\" font-family=\"sans-serif\" font-size=\"14\" lengthAdjust=\"spacing\" textLength=\"59\" x=\"125\" y=\"141.3732\">^n = 20</text><text fill=\"#000000\" font-family=\"sans-serif\" font-size=\"14\" font-style=\"italic\" lengthAdjust=\"spacing\" textLength=\"66\" x=\"140.0313\" y=\"93.6123\">attributes</text></g></a><!--MD5=[270fce915f116d4de14055a7c1d9a0f3]\n",
       "class E5--><a href=\"psysml:fd52748d-5cd7-4973-9bed-274bef6831d2\" target=\"_top\" title=\"psysml:fd52748d-5cd7-4973-9bed-274bef6831d2\" xlink:actuate=\"onRequest\" xlink:href=\"psysml:fd52748d-5cd7-4973-9bed-274bef6831d2\" xlink:show=\"new\" xlink:title=\"psysml:fd52748d-5cd7-4973-9bed-274bef6831d2\" xlink:type=\"simple\"><g id=\"elem_E5\"><rect fill=\"#FFFFFF\" height=\"75.0813\" id=\"E5\" rx=\"10\" ry=\"10\" style=\"stroke:#181818;stroke-width:0.5;\" width=\"52\" x=\"32\" y=\"57.5\"/><text fill=\"#000000\" font-family=\"sans-serif\" font-size=\"12\" font-style=\"italic\" lengthAdjust=\"spacing\" textLength=\"40\" x=\"38\" y=\"73.6387\">«part»</text><text fill=\"#000000\" font-family=\"sans-serif\" font-size=\"14\" lengthAdjust=\"spacing\" textLength=\"16\" x=\"46\" y=\"89.4639\">v2</text><line style=\"stroke:#181818;stroke-width:0.5;\" x1=\"33\" x2=\"83\" y1=\"97.7656\" y2=\"97.7656\"/><text fill=\"#000000\" font-family=\"sans-serif\" font-size=\"14\" lengthAdjust=\"spacing\" textLength=\"39\" x=\"38\" y=\"125.2795\">= W()</text><text fill=\"#000000\" font-family=\"sans-serif\" font-size=\"14\" font-style=\"italic\" lengthAdjust=\"spacing\" textLength=\"44\" x=\"36\" y=\"110.1123\">values</text></g></a><!--MD5=[05d275557350bfb9b23a4ef7222b4c39]\n",
       "link E3 to E2--><g id=\"link_E3_E2\"><a href=\"psysml:1a78d8f2-030e-492a-8201-32cffefdc08b\" target=\"_top\" title=\"psysml:1a78d8f2-030e-492a-8201-32cffefdc08b\" xlink:actuate=\"onRequest\" xlink:href=\"psysml:1a78d8f2-030e-492a-8201-32cffefdc08b\" xlink:show=\"new\" xlink:title=\"psysml:1a78d8f2-030e-492a-8201-32cffefdc08b\" xlink:type=\"simple\"><path d=\"M277.99,140.71 C270.7,156.24 262.37,173.95 254.52,190.67 \" fill=\"none\" id=\"E3-to-E2\" style=\"stroke:#181818;stroke-width:1.0;\"/><polygon fill=\"#FFFFFF\" points=\"245.93,208.95,247.6703,188.7765,260.3425,194.7275,245.93,208.95\" style=\"stroke:#181818;stroke-width:1.0;\"/><ellipse cx=\"251.9035\" cy=\"184.4672\" fill=\"#181818\" rx=\"2\" ry=\"2\" style=\"stroke:#181818;stroke-width:1.0;\"/><ellipse cx=\"260.9551\" cy=\"188.718\" fill=\"#181818\" rx=\"2\" ry=\"2\" style=\"stroke:#181818;stroke-width:1.0;\"/></a></g><!--MD5=[185131fc0dcab0a4505a2ebe144e961b]\n",
       "link E4 to E2--><g id=\"link_E4_E2\"><a href=\"psysml:5695b7ea-3fef-47ac-8247-2c32b379aa0a\" target=\"_top\" title=\"psysml:5695b7ea-3fef-47ac-8247-2c32b379aa0a\" xlink:actuate=\"onRequest\" xlink:href=\"psysml:5695b7ea-3fef-47ac-8247-2c32b379aa0a\" xlink:show=\"new\" xlink:title=\"psysml:5695b7ea-3fef-47ac-8247-2c32b379aa0a\" xlink:type=\"simple\"><path d=\"M190.6,149.32 C194.9,162.33 199.54,176.38 203.98,189.82 \" fill=\"none\" id=\"E4-to-E2\" style=\"stroke:#181818;stroke-width:1.0;\"/><polygon fill=\"none\" points=\"210.65,187.7,210.27,208.89,197.35,192.09,210.65,187.7\" style=\"stroke:#181818;stroke-width:1.0;\"/></a></g><!--MD5=[8aefc503bc65cdc8b91789fd0b788ef2]\n",
       "@startuml\r\n",
       "skin sysmlbw\r\n",
       "skinparam monochrome true\r\n",
       "skinparam wrapWidth 300\r\n",
       "hide circle\r\n",
       "\r\n",
       "package \"DefaultValueTest\" as E1  [[psysml:7da0ff95-83c9-4c69-ab50-6e4dec268467 ]]  {\r\n",
       "comp def \"V\" as E2  <<(T,blue) part  def>> [[psysml:98a54266-dd8e-4aee-8801-c30b6645e897 ]] {\r\n",
       "##//attributes//##\r\n",
       "m<b> default </b><U+003D> 10\r\n",
       "n <U+003D> 20\r\n",
       "}\r\n",
       "comp usage \"v1: V  \" as E3  <<(T,blue) part>> [[psysml:f9c62a8d-8a1e-4486-94b1-ee59692b29ae ]] {\r\n",
       "##//attributes//##\r\n",
       "m <U+003D> 20\\n//:>>V::m// \r\n",
       "}\r\n",
       "comp def \"W\" as E4  <<(T,blue) part  def>> [[psysml:ad7d8f37-2b75-4e7f-880b-981718b0db98 ]] {\r\n",
       "##//attributes//##\r\n",
       "m<b> default </b><U+003D> n\\n//:>>V::m// \r\n",
       "^n <U+003D> 20\r\n",
       "}\r\n",
       "comp usage \"v2  \" as E5  <<(T,blue) part>> [[psysml:fd52748d-5cd7-4973-9bed-274bef6831d2 ]] {\r\n",
       "##//values//##\r\n",
       " <U+003D> W()\r\n",
       "}\r\n",
       "}\r\n",
       "E3 - -:|> E2 [[psysml:1a78d8f2-030e-492a-8201-32cffefdc08b ]] \r\n",
       "E4 - -|> E2 [[psysml:5695b7ea-3fef-47ac-8247-2c32b379aa0a ]] \r\n",
       "@enduml\r\n",
       "\n",
       "PlantUML version 1.2022.7(Mon Aug 22 17:01:30 UTC 2022)\n",
       "(EPL source distribution)\n",
       "Java Runtime: OpenJDK Runtime Environment\n",
       "JVM: OpenJDK 64-Bit Server VM\n",
       "Default Encoding: UTF-8\n",
       "Language: en\n",
       "Country: null\n",
       "--></g></svg>"
      ]
     },
     "execution_count": 43,
     "metadata": {},
     "output_type": "execute_result"
    }
   ],
   "source": [
    "%viz --style=\"DEFAULT\" --view=\"MIXED\" \"DefaultValueTest\""
   ]
  },
  {
   "cell_type": "code",
   "execution_count": 44,
   "id": "396d259c",
   "metadata": {
    "execution": {
     "iopub.execute_input": "2024-12-16T14:21:30.464018Z",
     "iopub.status.busy": "2024-12-16T14:21:30.463785Z",
     "iopub.status.idle": "2024-12-16T14:21:30.486315Z",
     "shell.execute_reply": "2024-12-16T14:21:30.485435Z"
    }
   },
   "outputs": [
    {
     "data": {
      "image/svg+xml": [
       "<?xml version=\"1.0\" encoding=\"UTF-8\" standalone=\"no\"?><svg xmlns=\"http://www.w3.org/2000/svg\" xmlns:xlink=\"http://www.w3.org/1999/xlink\" contentStyleType=\"text/css\" height=\"323px\" preserveAspectRatio=\"none\" style=\"width:369px;height:323px;background:#FFFFFF;\" version=\"1.1\" viewBox=\"0 0 369 323\" width=\"369px\" zoomAndPan=\"magnify\"><defs/><g><!--MD5=[fbc87193dbaf4d95561dea2c320d4a47]\n",
       "cluster E1--><g id=\"cluster_E1\"><a href=\"psysml:7da0ff95-83c9-4c69-ab50-6e4dec268467\" target=\"_top\" title=\"psysml:7da0ff95-83c9-4c69-ab50-6e4dec268467\" xlink:actuate=\"onRequest\" xlink:href=\"psysml:7da0ff95-83c9-4c69-ab50-6e4dec268467\" xlink:show=\"new\" xlink:title=\"psysml:7da0ff95-83c9-4c69-ab50-6e4dec268467\" xlink:type=\"simple\"><polygon fill=\"none\" points=\"16,6,147,6,154,28.2969,352,28.2969,352,316,16,316,16,6\" style=\"stroke:#000000;stroke-width:1.5;\"/><line style=\"stroke:#000000;stroke-width:1.5;\" x1=\"16\" x2=\"154\" y1=\"28.2969\" y2=\"28.2969\"/><text fill=\"#000000\" font-family=\"sans-serif\" font-size=\"14\" font-weight=\"bold\" lengthAdjust=\"spacing\" textLength=\"125\" x=\"20\" y=\"20.9951\">DefaultValueTest</text></a></g><!--MD5=[b4997ac47864f28c2f74865a473b2911]\n",
       "class E2--><a href=\"psysml:98a54266-dd8e-4aee-8801-c30b6645e897\" target=\"_top\" title=\"psysml:98a54266-dd8e-4aee-8801-c30b6645e897\" xlink:actuate=\"onRequest\" xlink:href=\"psysml:98a54266-dd8e-4aee-8801-c30b6645e897\" xlink:show=\"new\" xlink:title=\"psysml:98a54266-dd8e-4aee-8801-c30b6645e897\" xlink:type=\"simple\"><g id=\"elem_E2\"><rect fill=\"#FFFFFF\" height=\"91.3781\" id=\"E2\" style=\"stroke:#181818;stroke-width:0.5;\" width=\"117.0625\" x=\"166.5\" y=\"209\"/><text fill=\"#000000\" font-family=\"sans-serif\" font-size=\"12\" font-style=\"italic\" lengthAdjust=\"spacing\" textLength=\"68\" x=\"191.0313\" y=\"225.1387\">«part  def»</text><text fill=\"#000000\" font-family=\"sans-serif\" font-size=\"14\" lengthAdjust=\"spacing\" textLength=\"9\" x=\"220.5313\" y=\"240.9639\">V</text><line style=\"stroke:#181818;stroke-width:0.5;\" x1=\"167.5\" x2=\"282.5625\" y1=\"249.2656\" y2=\"249.2656\"/><text fill=\"#000000\" font-family=\"sans-serif\" font-size=\"14\" lengthAdjust=\"spacing\" textLength=\"13\" x=\"172.5\" y=\"276.7795\">m</text><text fill=\"#000000\" font-family=\"sans-serif\" font-size=\"14\" font-weight=\"bold\" lengthAdjust=\"spacing\" textLength=\"50.0625\" x=\"189.5\" y=\"276.7795\">default</text><text fill=\"#000000\" font-family=\"sans-serif\" font-size=\"14\" lengthAdjust=\"spacing\" textLength=\"34\" x=\"243.5625\" y=\"276.7795\">= 10</text><text fill=\"#000000\" font-family=\"sans-serif\" font-size=\"14\" lengthAdjust=\"spacing\" textLength=\"47\" x=\"172.5\" y=\"293.0764\">n = 20</text><text fill=\"#000000\" font-family=\"sans-serif\" font-size=\"14\" font-style=\"italic\" lengthAdjust=\"spacing\" textLength=\"66\" x=\"192.0313\" y=\"261.6123\">attributes</text></g></a><!--MD5=[09b614a08d8cba4a07c9adeb5e0fee81]\n",
       "class E3--><a href=\"psysml:f9c62a8d-8a1e-4486-94b1-ee59692b29ae\" target=\"_top\" title=\"psysml:f9c62a8d-8a1e-4486-94b1-ee59692b29ae\" xlink:actuate=\"onRequest\" xlink:href=\"psysml:f9c62a8d-8a1e-4486-94b1-ee59692b29ae\" xlink:show=\"new\" xlink:title=\"psysml:f9c62a8d-8a1e-4486-94b1-ee59692b29ae\" xlink:type=\"simple\"><g id=\"elem_E3\"><rect fill=\"#FFFFFF\" height=\"91.3781\" id=\"E3\" rx=\"10\" ry=\"10\" style=\"stroke:#181818;stroke-width:0.5;\" width=\"74\" x=\"262\" y=\"49.5\"/><text fill=\"#000000\" font-family=\"sans-serif\" font-size=\"12\" font-style=\"italic\" lengthAdjust=\"spacing\" textLength=\"40\" x=\"279\" y=\"65.6387\">«part»</text><text fill=\"#000000\" font-family=\"sans-serif\" font-size=\"14\" lengthAdjust=\"spacing\" textLength=\"34\" x=\"278\" y=\"81.4639\">v1: V</text><line style=\"stroke:#181818;stroke-width:0.5;\" x1=\"263\" x2=\"335\" y1=\"89.7656\" y2=\"89.7656\"/><text fill=\"#000000\" font-family=\"sans-serif\" font-size=\"14\" lengthAdjust=\"spacing\" textLength=\"51\" x=\"268\" y=\"117.2795\">m = 20</text><text fill=\"#000000\" font-family=\"sans-serif\" font-size=\"14\" font-style=\"italic\" lengthAdjust=\"spacing\" textLength=\"61\" x=\"268\" y=\"133.5764\">:&gt;&gt;V::m</text><text fill=\"#000000\" font-family=\"sans-serif\" font-size=\"14\" font-style=\"italic\" lengthAdjust=\"spacing\" textLength=\"66\" x=\"266\" y=\"102.1123\">attributes</text></g></a><!--MD5=[ebbe1d658d1005bcc118a6aa81145e00]\n",
       "class E4--><a href=\"psysml:ad7d8f37-2b75-4e7f-880b-981718b0db98\" target=\"_top\" title=\"psysml:ad7d8f37-2b75-4e7f-880b-981718b0db98\" xlink:actuate=\"onRequest\" xlink:href=\"psysml:ad7d8f37-2b75-4e7f-880b-981718b0db98\" xlink:show=\"new\" xlink:title=\"psysml:ad7d8f37-2b75-4e7f-880b-981718b0db98\" xlink:type=\"simple\"><g id=\"elem_E4\"><rect fill=\"#FFFFFF\" height=\"107.675\" id=\"E4\" style=\"stroke:#181818;stroke-width:0.5;\" width=\"108.0625\" x=\"119\" y=\"41\"/><text fill=\"#000000\" font-family=\"sans-serif\" font-size=\"12\" font-style=\"italic\" lengthAdjust=\"spacing\" textLength=\"68\" x=\"139.0313\" y=\"57.1387\">«part  def»</text><text fill=\"#000000\" font-family=\"sans-serif\" font-size=\"14\" lengthAdjust=\"spacing\" textLength=\"13\" x=\"166.5313\" y=\"72.9639\">W</text><line style=\"stroke:#181818;stroke-width:0.5;\" x1=\"120\" x2=\"226.0625\" y1=\"81.2656\" y2=\"81.2656\"/><text fill=\"#000000\" font-family=\"sans-serif\" font-size=\"14\" lengthAdjust=\"spacing\" textLength=\"13\" x=\"125\" y=\"108.7795\">m</text><text fill=\"#000000\" font-family=\"sans-serif\" font-size=\"14\" font-weight=\"bold\" lengthAdjust=\"spacing\" textLength=\"50.0625\" x=\"142\" y=\"108.7795\">default</text><text fill=\"#000000\" font-family=\"sans-serif\" font-size=\"14\" lengthAdjust=\"spacing\" textLength=\"25\" x=\"196.0625\" y=\"108.7795\">= n</text><text fill=\"#000000\" font-family=\"sans-serif\" font-size=\"14\" font-style=\"italic\" lengthAdjust=\"spacing\" textLength=\"61\" x=\"125\" y=\"125.0764\">:&gt;&gt;V::m</text><text fill=\"#000000\" font-family=\"sans-serif\" font-size=\"14\" lengthAdjust=\"spacing\" textLength=\"59\" x=\"125\" y=\"141.3732\">^n = 20</text><text fill=\"#000000\" font-family=\"sans-serif\" font-size=\"14\" font-style=\"italic\" lengthAdjust=\"spacing\" textLength=\"66\" x=\"140.0313\" y=\"93.6123\">attributes</text></g></a><!--MD5=[270fce915f116d4de14055a7c1d9a0f3]\n",
       "class E5--><a href=\"psysml:fd52748d-5cd7-4973-9bed-274bef6831d2\" target=\"_top\" title=\"psysml:fd52748d-5cd7-4973-9bed-274bef6831d2\" xlink:actuate=\"onRequest\" xlink:href=\"psysml:fd52748d-5cd7-4973-9bed-274bef6831d2\" xlink:show=\"new\" xlink:title=\"psysml:fd52748d-5cd7-4973-9bed-274bef6831d2\" xlink:type=\"simple\"><g id=\"elem_E5\"><rect fill=\"#FFFFFF\" height=\"75.0813\" id=\"E5\" rx=\"10\" ry=\"10\" style=\"stroke:#181818;stroke-width:0.5;\" width=\"52\" x=\"32\" y=\"57.5\"/><text fill=\"#000000\" font-family=\"sans-serif\" font-size=\"12\" font-style=\"italic\" lengthAdjust=\"spacing\" textLength=\"40\" x=\"38\" y=\"73.6387\">«part»</text><text fill=\"#000000\" font-family=\"sans-serif\" font-size=\"14\" lengthAdjust=\"spacing\" textLength=\"16\" x=\"46\" y=\"89.4639\">v2</text><line style=\"stroke:#181818;stroke-width:0.5;\" x1=\"33\" x2=\"83\" y1=\"97.7656\" y2=\"97.7656\"/><text fill=\"#000000\" font-family=\"sans-serif\" font-size=\"14\" lengthAdjust=\"spacing\" textLength=\"39\" x=\"38\" y=\"125.2795\">= W()</text><text fill=\"#000000\" font-family=\"sans-serif\" font-size=\"14\" font-style=\"italic\" lengthAdjust=\"spacing\" textLength=\"44\" x=\"36\" y=\"110.1123\">values</text></g></a><!--MD5=[05d275557350bfb9b23a4ef7222b4c39]\n",
       "link E3 to E2--><g id=\"link_E3_E2\"><a href=\"psysml:1a78d8f2-030e-492a-8201-32cffefdc08b\" target=\"_top\" title=\"psysml:1a78d8f2-030e-492a-8201-32cffefdc08b\" xlink:actuate=\"onRequest\" xlink:href=\"psysml:1a78d8f2-030e-492a-8201-32cffefdc08b\" xlink:show=\"new\" xlink:title=\"psysml:1a78d8f2-030e-492a-8201-32cffefdc08b\" xlink:type=\"simple\"><path d=\"M277.99,140.71 C270.7,156.24 262.37,173.95 254.52,190.67 \" fill=\"none\" id=\"E3-to-E2\" style=\"stroke:#181818;stroke-width:1.0;\"/><polygon fill=\"#FFFFFF\" points=\"245.93,208.95,247.6703,188.7765,260.3425,194.7275,245.93,208.95\" style=\"stroke:#181818;stroke-width:1.0;\"/><ellipse cx=\"251.9035\" cy=\"184.4672\" fill=\"#181818\" rx=\"2\" ry=\"2\" style=\"stroke:#181818;stroke-width:1.0;\"/><ellipse cx=\"260.9551\" cy=\"188.718\" fill=\"#181818\" rx=\"2\" ry=\"2\" style=\"stroke:#181818;stroke-width:1.0;\"/></a></g><!--MD5=[185131fc0dcab0a4505a2ebe144e961b]\n",
       "link E4 to E2--><g id=\"link_E4_E2\"><a href=\"psysml:5695b7ea-3fef-47ac-8247-2c32b379aa0a\" target=\"_top\" title=\"psysml:5695b7ea-3fef-47ac-8247-2c32b379aa0a\" xlink:actuate=\"onRequest\" xlink:href=\"psysml:5695b7ea-3fef-47ac-8247-2c32b379aa0a\" xlink:show=\"new\" xlink:title=\"psysml:5695b7ea-3fef-47ac-8247-2c32b379aa0a\" xlink:type=\"simple\"><path d=\"M190.6,149.32 C194.9,162.33 199.54,176.38 203.98,189.82 \" fill=\"none\" id=\"E4-to-E2\" style=\"stroke:#181818;stroke-width:1.0;\"/><polygon fill=\"none\" points=\"210.65,187.7,210.27,208.89,197.35,192.09,210.65,187.7\" style=\"stroke:#181818;stroke-width:1.0;\"/></a></g><!--MD5=[932cc3ccf5092cc6eac82c4f7b241e56]\n",
       "@startuml\r\n",
       "skin sysmlbw\r\n",
       "skinparam monochrome true\r\n",
       "skinparam wrapWidth 300\r\n",
       "hide circle\r\n",
       "top to bottom direction\r\n",
       "\r\n",
       "package \"DefaultValueTest\" as E1  [[psysml:7da0ff95-83c9-4c69-ab50-6e4dec268467 ]]  {\r\n",
       "comp def \"V\" as E2  <<(T,blue) part  def>> [[psysml:98a54266-dd8e-4aee-8801-c30b6645e897 ]] {\r\n",
       "##//attributes//##\r\n",
       "m<b> default </b><U+003D> 10\r\n",
       "n <U+003D> 20\r\n",
       "}\r\n",
       "comp usage \"v1: V  \" as E3  <<(T,blue) part>> [[psysml:f9c62a8d-8a1e-4486-94b1-ee59692b29ae ]] {\r\n",
       "##//attributes//##\r\n",
       "m <U+003D> 20\\n//:>>V::m// \r\n",
       "}\r\n",
       "comp def \"W\" as E4  <<(T,blue) part  def>> [[psysml:ad7d8f37-2b75-4e7f-880b-981718b0db98 ]] {\r\n",
       "##//attributes//##\r\n",
       "m<b> default </b><U+003D> n\\n//:>>V::m// \r\n",
       "^n <U+003D> 20\r\n",
       "}\r\n",
       "comp usage \"v2  \" as E5  <<(T,blue) part>> [[psysml:fd52748d-5cd7-4973-9bed-274bef6831d2 ]] {\r\n",
       "##//values//##\r\n",
       " <U+003D> W()\r\n",
       "}\r\n",
       "}\r\n",
       "E3 - -:|> E2 [[psysml:1a78d8f2-030e-492a-8201-32cffefdc08b ]] \r\n",
       "E4 - -|> E2 [[psysml:5695b7ea-3fef-47ac-8247-2c32b379aa0a ]] \r\n",
       "@enduml\r\n",
       "\n",
       "PlantUML version 1.2022.7(Mon Aug 22 17:01:30 UTC 2022)\n",
       "(EPL source distribution)\n",
       "Java Runtime: OpenJDK Runtime Environment\n",
       "JVM: OpenJDK 64-Bit Server VM\n",
       "Default Encoding: UTF-8\n",
       "Language: en\n",
       "Country: null\n",
       "--></g></svg>"
      ]
     },
     "execution_count": 44,
     "metadata": {},
     "output_type": "execute_result"
    }
   ],
   "source": [
    "%viz --style=\"TB\" --view=\"Default\" \"DefaultValueTest\""
   ]
  },
  {
   "cell_type": "code",
   "execution_count": 45,
   "id": "7de7450e",
   "metadata": {
    "execution": {
     "iopub.execute_input": "2024-12-16T14:21:30.539350Z",
     "iopub.status.busy": "2024-12-16T14:21:30.539165Z",
     "iopub.status.idle": "2024-12-16T14:21:30.559182Z",
     "shell.execute_reply": "2024-12-16T14:21:30.558402Z"
    }
   },
   "outputs": [
    {
     "data": {
      "image/svg+xml": [
       "<?xml version=\"1.0\" encoding=\"UTF-8\" standalone=\"no\"?><svg xmlns=\"http://www.w3.org/2000/svg\" xmlns:xlink=\"http://www.w3.org/1999/xlink\" contentStyleType=\"text/css\" height=\"323px\" preserveAspectRatio=\"none\" style=\"width:369px;height:323px;background:#FFFFFF;\" version=\"1.1\" viewBox=\"0 0 369 323\" width=\"369px\" zoomAndPan=\"magnify\"><defs/><g><!--MD5=[fbc87193dbaf4d95561dea2c320d4a47]\n",
       "cluster E1--><g id=\"cluster_E1\"><a href=\"psysml:7da0ff95-83c9-4c69-ab50-6e4dec268467\" target=\"_top\" title=\"psysml:7da0ff95-83c9-4c69-ab50-6e4dec268467\" xlink:actuate=\"onRequest\" xlink:href=\"psysml:7da0ff95-83c9-4c69-ab50-6e4dec268467\" xlink:show=\"new\" xlink:title=\"psysml:7da0ff95-83c9-4c69-ab50-6e4dec268467\" xlink:type=\"simple\"><polygon fill=\"none\" points=\"16,6,147,6,154,28.2969,352,28.2969,352,316,16,316,16,6\" style=\"stroke:#000000;stroke-width:1.5;\"/><line style=\"stroke:#000000;stroke-width:1.5;\" x1=\"16\" x2=\"154\" y1=\"28.2969\" y2=\"28.2969\"/><text fill=\"#000000\" font-family=\"sans-serif\" font-size=\"14\" font-weight=\"bold\" lengthAdjust=\"spacing\" textLength=\"125\" x=\"20\" y=\"20.9951\">DefaultValueTest</text></a></g><!--MD5=[b4997ac47864f28c2f74865a473b2911]\n",
       "class E2--><a href=\"psysml:98a54266-dd8e-4aee-8801-c30b6645e897\" target=\"_top\" title=\"psysml:98a54266-dd8e-4aee-8801-c30b6645e897\" xlink:actuate=\"onRequest\" xlink:href=\"psysml:98a54266-dd8e-4aee-8801-c30b6645e897\" xlink:show=\"new\" xlink:title=\"psysml:98a54266-dd8e-4aee-8801-c30b6645e897\" xlink:type=\"simple\"><g id=\"elem_E2\"><rect fill=\"#FFFFFF\" height=\"91.3781\" id=\"E2\" style=\"stroke:#181818;stroke-width:0.5;\" width=\"117.0625\" x=\"166.5\" y=\"209\"/><text fill=\"#000000\" font-family=\"sans-serif\" font-size=\"12\" font-style=\"italic\" lengthAdjust=\"spacing\" textLength=\"68\" x=\"191.0313\" y=\"225.1387\">«part  def»</text><text fill=\"#000000\" font-family=\"sans-serif\" font-size=\"14\" lengthAdjust=\"spacing\" textLength=\"9\" x=\"220.5313\" y=\"240.9639\">V</text><line style=\"stroke:#181818;stroke-width:0.5;\" x1=\"167.5\" x2=\"282.5625\" y1=\"249.2656\" y2=\"249.2656\"/><text fill=\"#000000\" font-family=\"sans-serif\" font-size=\"14\" lengthAdjust=\"spacing\" textLength=\"13\" x=\"172.5\" y=\"276.7795\">m</text><text fill=\"#000000\" font-family=\"sans-serif\" font-size=\"14\" font-weight=\"bold\" lengthAdjust=\"spacing\" textLength=\"50.0625\" x=\"189.5\" y=\"276.7795\">default</text><text fill=\"#000000\" font-family=\"sans-serif\" font-size=\"14\" lengthAdjust=\"spacing\" textLength=\"34\" x=\"243.5625\" y=\"276.7795\">= 10</text><text fill=\"#000000\" font-family=\"sans-serif\" font-size=\"14\" lengthAdjust=\"spacing\" textLength=\"47\" x=\"172.5\" y=\"293.0764\">n = 20</text><text fill=\"#000000\" font-family=\"sans-serif\" font-size=\"14\" font-style=\"italic\" lengthAdjust=\"spacing\" textLength=\"66\" x=\"192.0313\" y=\"261.6123\">attributes</text></g></a><!--MD5=[09b614a08d8cba4a07c9adeb5e0fee81]\n",
       "class E3--><a href=\"psysml:f9c62a8d-8a1e-4486-94b1-ee59692b29ae\" target=\"_top\" title=\"psysml:f9c62a8d-8a1e-4486-94b1-ee59692b29ae\" xlink:actuate=\"onRequest\" xlink:href=\"psysml:f9c62a8d-8a1e-4486-94b1-ee59692b29ae\" xlink:show=\"new\" xlink:title=\"psysml:f9c62a8d-8a1e-4486-94b1-ee59692b29ae\" xlink:type=\"simple\"><g id=\"elem_E3\"><rect fill=\"#FFFFFF\" height=\"91.3781\" id=\"E3\" rx=\"10\" ry=\"10\" style=\"stroke:#181818;stroke-width:0.5;\" width=\"74\" x=\"262\" y=\"49.5\"/><text fill=\"#000000\" font-family=\"sans-serif\" font-size=\"12\" font-style=\"italic\" lengthAdjust=\"spacing\" textLength=\"40\" x=\"279\" y=\"65.6387\">«part»</text><text fill=\"#000000\" font-family=\"sans-serif\" font-size=\"14\" lengthAdjust=\"spacing\" textLength=\"34\" x=\"278\" y=\"81.4639\">v1: V</text><line style=\"stroke:#181818;stroke-width:0.5;\" x1=\"263\" x2=\"335\" y1=\"89.7656\" y2=\"89.7656\"/><text fill=\"#000000\" font-family=\"sans-serif\" font-size=\"14\" lengthAdjust=\"spacing\" textLength=\"51\" x=\"268\" y=\"117.2795\">m = 20</text><text fill=\"#000000\" font-family=\"sans-serif\" font-size=\"14\" font-style=\"italic\" lengthAdjust=\"spacing\" textLength=\"61\" x=\"268\" y=\"133.5764\">:&gt;&gt;V::m</text><text fill=\"#000000\" font-family=\"sans-serif\" font-size=\"14\" font-style=\"italic\" lengthAdjust=\"spacing\" textLength=\"66\" x=\"266\" y=\"102.1123\">attributes</text></g></a><!--MD5=[ebbe1d658d1005bcc118a6aa81145e00]\n",
       "class E4--><a href=\"psysml:ad7d8f37-2b75-4e7f-880b-981718b0db98\" target=\"_top\" title=\"psysml:ad7d8f37-2b75-4e7f-880b-981718b0db98\" xlink:actuate=\"onRequest\" xlink:href=\"psysml:ad7d8f37-2b75-4e7f-880b-981718b0db98\" xlink:show=\"new\" xlink:title=\"psysml:ad7d8f37-2b75-4e7f-880b-981718b0db98\" xlink:type=\"simple\"><g id=\"elem_E4\"><rect fill=\"#FFFFFF\" height=\"107.675\" id=\"E4\" style=\"stroke:#181818;stroke-width:0.5;\" width=\"108.0625\" x=\"119\" y=\"41\"/><text fill=\"#000000\" font-family=\"sans-serif\" font-size=\"12\" font-style=\"italic\" lengthAdjust=\"spacing\" textLength=\"68\" x=\"139.0313\" y=\"57.1387\">«part  def»</text><text fill=\"#000000\" font-family=\"sans-serif\" font-size=\"14\" lengthAdjust=\"spacing\" textLength=\"13\" x=\"166.5313\" y=\"72.9639\">W</text><line style=\"stroke:#181818;stroke-width:0.5;\" x1=\"120\" x2=\"226.0625\" y1=\"81.2656\" y2=\"81.2656\"/><text fill=\"#000000\" font-family=\"sans-serif\" font-size=\"14\" lengthAdjust=\"spacing\" textLength=\"13\" x=\"125\" y=\"108.7795\">m</text><text fill=\"#000000\" font-family=\"sans-serif\" font-size=\"14\" font-weight=\"bold\" lengthAdjust=\"spacing\" textLength=\"50.0625\" x=\"142\" y=\"108.7795\">default</text><text fill=\"#000000\" font-family=\"sans-serif\" font-size=\"14\" lengthAdjust=\"spacing\" textLength=\"25\" x=\"196.0625\" y=\"108.7795\">= n</text><text fill=\"#000000\" font-family=\"sans-serif\" font-size=\"14\" font-style=\"italic\" lengthAdjust=\"spacing\" textLength=\"61\" x=\"125\" y=\"125.0764\">:&gt;&gt;V::m</text><text fill=\"#000000\" font-family=\"sans-serif\" font-size=\"14\" lengthAdjust=\"spacing\" textLength=\"59\" x=\"125\" y=\"141.3732\">^n = 20</text><text fill=\"#000000\" font-family=\"sans-serif\" font-size=\"14\" font-style=\"italic\" lengthAdjust=\"spacing\" textLength=\"66\" x=\"140.0313\" y=\"93.6123\">attributes</text></g></a><!--MD5=[270fce915f116d4de14055a7c1d9a0f3]\n",
       "class E5--><a href=\"psysml:fd52748d-5cd7-4973-9bed-274bef6831d2\" target=\"_top\" title=\"psysml:fd52748d-5cd7-4973-9bed-274bef6831d2\" xlink:actuate=\"onRequest\" xlink:href=\"psysml:fd52748d-5cd7-4973-9bed-274bef6831d2\" xlink:show=\"new\" xlink:title=\"psysml:fd52748d-5cd7-4973-9bed-274bef6831d2\" xlink:type=\"simple\"><g id=\"elem_E5\"><rect fill=\"#FFFFFF\" height=\"75.0813\" id=\"E5\" rx=\"10\" ry=\"10\" style=\"stroke:#181818;stroke-width:0.5;\" width=\"52\" x=\"32\" y=\"57.5\"/><text fill=\"#000000\" font-family=\"sans-serif\" font-size=\"12\" font-style=\"italic\" lengthAdjust=\"spacing\" textLength=\"40\" x=\"38\" y=\"73.6387\">«part»</text><text fill=\"#000000\" font-family=\"sans-serif\" font-size=\"14\" lengthAdjust=\"spacing\" textLength=\"16\" x=\"46\" y=\"89.4639\">v2</text><line style=\"stroke:#181818;stroke-width:0.5;\" x1=\"33\" x2=\"83\" y1=\"97.7656\" y2=\"97.7656\"/><text fill=\"#000000\" font-family=\"sans-serif\" font-size=\"14\" lengthAdjust=\"spacing\" textLength=\"39\" x=\"38\" y=\"125.2795\">= W()</text><text fill=\"#000000\" font-family=\"sans-serif\" font-size=\"14\" font-style=\"italic\" lengthAdjust=\"spacing\" textLength=\"44\" x=\"36\" y=\"110.1123\">values</text></g></a><!--MD5=[05d275557350bfb9b23a4ef7222b4c39]\n",
       "link E3 to E2--><g id=\"link_E3_E2\"><a href=\"psysml:1a78d8f2-030e-492a-8201-32cffefdc08b\" target=\"_top\" title=\"psysml:1a78d8f2-030e-492a-8201-32cffefdc08b\" xlink:actuate=\"onRequest\" xlink:href=\"psysml:1a78d8f2-030e-492a-8201-32cffefdc08b\" xlink:show=\"new\" xlink:title=\"psysml:1a78d8f2-030e-492a-8201-32cffefdc08b\" xlink:type=\"simple\"><path d=\"M277.99,140.71 C270.7,156.24 262.37,173.95 254.52,190.67 \" fill=\"none\" id=\"E3-to-E2\" style=\"stroke:#181818;stroke-width:1.0;\"/><polygon fill=\"#FFFFFF\" points=\"245.93,208.95,247.6703,188.7765,260.3425,194.7275,245.93,208.95\" style=\"stroke:#181818;stroke-width:1.0;\"/><ellipse cx=\"251.9035\" cy=\"184.4672\" fill=\"#181818\" rx=\"2\" ry=\"2\" style=\"stroke:#181818;stroke-width:1.0;\"/><ellipse cx=\"260.9551\" cy=\"188.718\" fill=\"#181818\" rx=\"2\" ry=\"2\" style=\"stroke:#181818;stroke-width:1.0;\"/></a></g><!--MD5=[185131fc0dcab0a4505a2ebe144e961b]\n",
       "link E4 to E2--><g id=\"link_E4_E2\"><a href=\"psysml:5695b7ea-3fef-47ac-8247-2c32b379aa0a\" target=\"_top\" title=\"psysml:5695b7ea-3fef-47ac-8247-2c32b379aa0a\" xlink:actuate=\"onRequest\" xlink:href=\"psysml:5695b7ea-3fef-47ac-8247-2c32b379aa0a\" xlink:show=\"new\" xlink:title=\"psysml:5695b7ea-3fef-47ac-8247-2c32b379aa0a\" xlink:type=\"simple\"><path d=\"M190.6,149.32 C194.9,162.33 199.54,176.38 203.98,189.82 \" fill=\"none\" id=\"E4-to-E2\" style=\"stroke:#181818;stroke-width:1.0;\"/><polygon fill=\"none\" points=\"210.65,187.7,210.27,208.89,197.35,192.09,210.65,187.7\" style=\"stroke:#181818;stroke-width:1.0;\"/></a></g><!--MD5=[932cc3ccf5092cc6eac82c4f7b241e56]\n",
       "@startuml\r\n",
       "skin sysmlbw\r\n",
       "skinparam monochrome true\r\n",
       "skinparam wrapWidth 300\r\n",
       "hide circle\r\n",
       "top to bottom direction\r\n",
       "\r\n",
       "package \"DefaultValueTest\" as E1  [[psysml:7da0ff95-83c9-4c69-ab50-6e4dec268467 ]]  {\r\n",
       "comp def \"V\" as E2  <<(T,blue) part  def>> [[psysml:98a54266-dd8e-4aee-8801-c30b6645e897 ]] {\r\n",
       "##//attributes//##\r\n",
       "m<b> default </b><U+003D> 10\r\n",
       "n <U+003D> 20\r\n",
       "}\r\n",
       "comp usage \"v1: V  \" as E3  <<(T,blue) part>> [[psysml:f9c62a8d-8a1e-4486-94b1-ee59692b29ae ]] {\r\n",
       "##//attributes//##\r\n",
       "m <U+003D> 20\\n//:>>V::m// \r\n",
       "}\r\n",
       "comp def \"W\" as E4  <<(T,blue) part  def>> [[psysml:ad7d8f37-2b75-4e7f-880b-981718b0db98 ]] {\r\n",
       "##//attributes//##\r\n",
       "m<b> default </b><U+003D> n\\n//:>>V::m// \r\n",
       "^n <U+003D> 20\r\n",
       "}\r\n",
       "comp usage \"v2  \" as E5  <<(T,blue) part>> [[psysml:fd52748d-5cd7-4973-9bed-274bef6831d2 ]] {\r\n",
       "##//values//##\r\n",
       " <U+003D> W()\r\n",
       "}\r\n",
       "}\r\n",
       "E3 - -:|> E2 [[psysml:1a78d8f2-030e-492a-8201-32cffefdc08b ]] \r\n",
       "E4 - -|> E2 [[psysml:5695b7ea-3fef-47ac-8247-2c32b379aa0a ]] \r\n",
       "@enduml\r\n",
       "\n",
       "PlantUML version 1.2022.7(Mon Aug 22 17:01:30 UTC 2022)\n",
       "(EPL source distribution)\n",
       "Java Runtime: OpenJDK Runtime Environment\n",
       "JVM: OpenJDK 64-Bit Server VM\n",
       "Default Encoding: UTF-8\n",
       "Language: en\n",
       "Country: null\n",
       "--></g></svg>"
      ]
     },
     "execution_count": 45,
     "metadata": {},
     "output_type": "execute_result"
    }
   ],
   "source": [
    "%viz --style=\"TB\" --view=\"Tree\" \"DefaultValueTest\""
   ]
  },
  {
   "cell_type": "code",
   "execution_count": 46,
   "id": "eedec8e3",
   "metadata": {
    "execution": {
     "iopub.execute_input": "2024-12-16T14:21:30.610147Z",
     "iopub.status.busy": "2024-12-16T14:21:30.609944Z",
     "iopub.status.idle": "2024-12-16T14:21:30.614518Z",
     "shell.execute_reply": "2024-12-16T14:21:30.614315Z"
    }
   },
   "outputs": [
    {
     "data": {
      "image/svg+xml": [
       "<?xml version=\"1.0\" encoding=\"UTF-8\" standalone=\"no\"?><svg xmlns=\"http://www.w3.org/2000/svg\" xmlns:xlink=\"http://www.w3.org/1999/xlink\" contentStyleType=\"text/css\" height=\"10px\" preserveAspectRatio=\"none\" style=\"width:10px;height:10px;background:#FFFFFF;\" version=\"1.1\" viewBox=\"0 0 10 10\" width=\"10px\" zoomAndPan=\"magnify\"><defs/><g><!--MD5=[457d54036ad86991b1ebb71db2c9a3b1]\n",
       "@startuml\r\n",
       "skin sysmlbw\r\n",
       "skinparam monochrome true\r\n",
       "skinparam wrapWidth 300\r\n",
       "hide circle\r\n",
       "top to bottom direction\r\n",
       "\r\n",
       "@enduml\r\n",
       "\n",
       "PlantUML version 1.2022.7(Mon Aug 22 17:01:30 UTC 2022)\n",
       "(EPL source distribution)\n",
       "Java Runtime: OpenJDK Runtime Environment\n",
       "JVM: OpenJDK 64-Bit Server VM\n",
       "Default Encoding: UTF-8\n",
       "Language: en\n",
       "Country: null\n",
       "--></g></svg>"
      ]
     },
     "execution_count": 46,
     "metadata": {},
     "output_type": "execute_result"
    }
   ],
   "source": [
    "%viz --style=\"TB\" --view=\"State\" \"DefaultValueTest\""
   ]
  },
  {
   "cell_type": "code",
   "execution_count": 47,
   "id": "ab944978",
   "metadata": {
    "execution": {
     "iopub.execute_input": "2024-12-16T14:21:30.670251Z",
     "iopub.status.busy": "2024-12-16T14:21:30.670023Z",
     "iopub.status.idle": "2024-12-16T14:21:30.699644Z",
     "shell.execute_reply": "2024-12-16T14:21:30.698763Z"
    }
   },
   "outputs": [
    {
     "data": {
      "image/svg+xml": [
       "<?xml version=\"1.0\" encoding=\"UTF-8\" standalone=\"no\"?><svg xmlns=\"http://www.w3.org/2000/svg\" xmlns:xlink=\"http://www.w3.org/1999/xlink\" contentStyleType=\"text/css\" height=\"477px\" preserveAspectRatio=\"none\" style=\"width:656px;height:477px;background:#FFFFFF;\" version=\"1.1\" viewBox=\"0 0 656 477\" width=\"656px\" zoomAndPan=\"magnify\"><defs/><g><!--MD5=[fbc87193dbaf4d95561dea2c320d4a47]\n",
       "cluster E1--><g id=\"cluster_E1\"><a href=\"psysml:7da0ff95-83c9-4c69-ab50-6e4dec268467\" target=\"_top\" title=\"psysml:7da0ff95-83c9-4c69-ab50-6e4dec268467\" xlink:actuate=\"onRequest\" xlink:href=\"psysml:7da0ff95-83c9-4c69-ab50-6e4dec268467\" xlink:show=\"new\" xlink:title=\"psysml:7da0ff95-83c9-4c69-ab50-6e4dec268467\" xlink:type=\"simple\"><polygon fill=\"none\" points=\"16,6,147,6,154,28.2969,639,28.2969,639,470,16,470,16,6\" style=\"stroke:#000000;stroke-width:1.5;\"/><line style=\"stroke:#000000;stroke-width:1.5;\" x1=\"16\" x2=\"154\" y1=\"28.2969\" y2=\"28.2969\"/><text fill=\"#000000\" font-family=\"sans-serif\" font-size=\"14\" font-weight=\"bold\" lengthAdjust=\"spacing\" textLength=\"125\" x=\"20\" y=\"20.9951\">DefaultValueTest</text></a></g><!--MD5=[e4f7fae6ed58524ba242bb0b0d3be6b7]\n",
       "cluster E2--><g id=\"cluster_E2\"><a href=\"psysml:98a54266-dd8e-4aee-8801-c30b6645e897\" target=\"_top\" title=\"psysml:98a54266-dd8e-4aee-8801-c30b6645e897\" xlink:actuate=\"onRequest\" xlink:href=\"psysml:98a54266-dd8e-4aee-8801-c30b6645e897\" xlink:show=\"new\" xlink:title=\"psysml:98a54266-dd8e-4aee-8801-c30b6645e897\" xlink:type=\"simple\"><rect fill=\"#FFFFFF\" height=\"158\" id=\"E2\" style=\"stroke:#383838;stroke-width:1.5;\" width=\"278\" x=\"329\" y=\"280\"/><text fill=\"#000000\" font-family=\"sans-serif\" font-size=\"12\" font-style=\"italic\" lengthAdjust=\"spacing\" textLength=\"68\" x=\"434\" y=\"296.1387\">«part  def»</text><text fill=\"#000000\" font-family=\"sans-serif\" font-size=\"14\" lengthAdjust=\"spacing\" textLength=\"9\" x=\"463.5\" y=\"311.9639\">V</text><line style=\"stroke:#383838;stroke-width:1.0;\" x1=\"329\" x2=\"607\" y1=\"320.2656\" y2=\"320.2656\"/></a></g><!--MD5=[de5ec2e2e8f62f467e546659f5068c88]\n",
       "cluster E5--><g id=\"cluster_E5\"><a href=\"psysml:f9c62a8d-8a1e-4486-94b1-ee59692b29ae\" target=\"_top\" title=\"psysml:f9c62a8d-8a1e-4486-94b1-ee59692b29ae\" xlink:actuate=\"onRequest\" xlink:href=\"psysml:f9c62a8d-8a1e-4486-94b1-ee59692b29ae\" xlink:show=\"new\" xlink:title=\"psysml:f9c62a8d-8a1e-4486-94b1-ee59692b29ae\" xlink:type=\"simple\"><rect fill=\"#FFFFFF\" height=\"142\" id=\"E5\" rx=\"10\" ry=\"10\" style=\"stroke:#383838;stroke-width:1.5;\" width=\"139\" x=\"405\" y=\"73\"/><text fill=\"#000000\" font-family=\"sans-serif\" font-size=\"14\" lengthAdjust=\"spacing\" textLength=\"34\" x=\"457.5\" y=\"90.9951\">v1: V</text><line style=\"stroke:#383838;stroke-width:1.0;\" x1=\"405\" x2=\"544\" y1=\"99.2969\" y2=\"99.2969\"/></a></g><!--MD5=[168fadf3d0c3fd93dd5d6da1b1d7ab76]\n",
       "cluster E7--><g id=\"cluster_E7\"><a href=\"psysml:ad7d8f37-2b75-4e7f-880b-981718b0db98\" target=\"_top\" title=\"psysml:ad7d8f37-2b75-4e7f-880b-981718b0db98\" xlink:actuate=\"onRequest\" xlink:href=\"psysml:ad7d8f37-2b75-4e7f-880b-981718b0db98\" xlink:show=\"new\" xlink:title=\"psysml:ad7d8f37-2b75-4e7f-880b-981718b0db98\" xlink:type=\"simple\"><rect fill=\"#FFFFFF\" height=\"381\" id=\"E7\" style=\"stroke:#383838;stroke-width:1.5;\" width=\"163\" x=\"126\" y=\"57\"/><text fill=\"#000000\" font-family=\"sans-serif\" font-size=\"12\" font-style=\"italic\" lengthAdjust=\"spacing\" textLength=\"68\" x=\"173.5\" y=\"73.1387\">«part  def»</text><text fill=\"#000000\" font-family=\"sans-serif\" font-size=\"14\" lengthAdjust=\"spacing\" textLength=\"13\" x=\"201\" y=\"88.9639\">W</text><line style=\"stroke:#383838;stroke-width:1.0;\" x1=\"126\" x2=\"289\" y1=\"97.2656\" y2=\"97.2656\"/></a></g><!--MD5=[09b614a08d8cba4a07c9adeb5e0fee81]\n",
       "class E3--><a href=\"psysml:6c5b3b06-fe87-444e-9dd6-6649acbff1c0\" target=\"_top\" title=\"psysml:6c5b3b06-fe87-444e-9dd6-6649acbff1c0\" xlink:actuate=\"onRequest\" xlink:href=\"psysml:6c5b3b06-fe87-444e-9dd6-6649acbff1c0\" xlink:show=\"new\" xlink:title=\"psysml:6c5b3b06-fe87-444e-9dd6-6649acbff1c0\" xlink:type=\"simple\"><g id=\"elem_E3\"><rect fill=\"#FFFFFF\" height=\"75.0813\" id=\"E3\" rx=\"10\" ry=\"10\" style=\"stroke:#181818;stroke-width:0.5;\" width=\"104.0625\" x=\"479\" y=\"339\"/><text fill=\"#000000\" font-family=\"sans-serif\" font-size=\"12\" font-style=\"italic\" lengthAdjust=\"spacing\" textLength=\"69\" x=\"496.5313\" y=\"355.1387\">«attribute»</text><text fill=\"#000000\" font-family=\"sans-serif\" font-size=\"14\" lengthAdjust=\"spacing\" textLength=\"13\" x=\"520.5313\" y=\"370.9639\">m</text><line style=\"stroke:#181818;stroke-width:0.5;\" x1=\"480\" x2=\"582.0625\" y1=\"379.2656\" y2=\"379.2656\"/><text fill=\"#000000\" font-family=\"sans-serif\" font-size=\"14\" font-weight=\"bold\" lengthAdjust=\"spacing\" textLength=\"50.0625\" x=\"489\" y=\"406.7795\">default</text><text fill=\"#000000\" font-family=\"sans-serif\" font-size=\"14\" lengthAdjust=\"spacing\" textLength=\"34\" x=\"543.0625\" y=\"406.7795\">= 10</text><text fill=\"#000000\" font-family=\"sans-serif\" font-size=\"14\" font-style=\"italic\" lengthAdjust=\"spacing\" textLength=\"44\" x=\"509.0313\" y=\"391.6123\">values</text></g></a><!--MD5=[ebbe1d658d1005bcc118a6aa81145e00]\n",
       "class E4--><a href=\"psysml:d4a77e27-0ca8-4584-84f6-1d4e52d400d2\" target=\"_top\" title=\"psysml:d4a77e27-0ca8-4584-84f6-1d4e52d400d2\" xlink:actuate=\"onRequest\" xlink:href=\"psysml:d4a77e27-0ca8-4584-84f6-1d4e52d400d2\" xlink:show=\"new\" xlink:title=\"psysml:d4a77e27-0ca8-4584-84f6-1d4e52d400d2\" xlink:type=\"simple\"><g id=\"elem_E4\"><rect fill=\"#FFFFFF\" height=\"75.0813\" id=\"E4\" rx=\"10\" ry=\"10\" style=\"stroke:#181818;stroke-width:0.5;\" width=\"71\" x=\"372.5\" y=\"339\"/><text fill=\"#000000\" font-family=\"sans-serif\" font-size=\"12\" font-style=\"italic\" lengthAdjust=\"spacing\" textLength=\"69\" x=\"373.5\" y=\"355.1387\">«attribute»</text><text fill=\"#000000\" font-family=\"sans-serif\" font-size=\"14\" lengthAdjust=\"spacing\" textLength=\"9\" x=\"399.5\" y=\"370.9639\">n</text><line style=\"stroke:#181818;stroke-width:0.5;\" x1=\"373.5\" x2=\"442.5\" y1=\"379.2656\" y2=\"379.2656\"/><text fill=\"#000000\" font-family=\"sans-serif\" font-size=\"14\" lengthAdjust=\"spacing\" textLength=\"34\" x=\"378.5\" y=\"406.7795\">= 20</text><text fill=\"#000000\" font-family=\"sans-serif\" font-size=\"14\" font-style=\"italic\" lengthAdjust=\"spacing\" textLength=\"44\" x=\"386\" y=\"391.6123\">values</text></g></a><!--MD5=[60a26617385b1d2d0262a64233df1f8d]\n",
       "class E6--><a href=\"psysml:c20e1062-5069-459a-93a7-f31b5f49cd74\" target=\"_top\" title=\"psysml:c20e1062-5069-459a-93a7-f31b5f49cd74\" xlink:actuate=\"onRequest\" xlink:href=\"psysml:c20e1062-5069-459a-93a7-f31b5f49cd74\" xlink:show=\"new\" xlink:title=\"psysml:c20e1062-5069-459a-93a7-f31b5f49cd74\" xlink:type=\"simple\"><g id=\"elem_E6\"><rect fill=\"#FFFFFF\" height=\"75.0813\" id=\"E6\" rx=\"10\" ry=\"10\" style=\"stroke:#181818;stroke-width:0.5;\" width=\"71\" x=\"448.5\" y=\"116\"/><text fill=\"#000000\" font-family=\"sans-serif\" font-size=\"12\" font-style=\"italic\" lengthAdjust=\"spacing\" textLength=\"69\" x=\"449.5\" y=\"132.1387\">«attribute»</text><text fill=\"#000000\" font-family=\"sans-serif\" font-size=\"14\" lengthAdjust=\"spacing\" textLength=\"13\" x=\"473.5\" y=\"147.9639\">m</text><line style=\"stroke:#181818;stroke-width:0.5;\" x1=\"449.5\" x2=\"518.5\" y1=\"156.2656\" y2=\"156.2656\"/><text fill=\"#000000\" font-family=\"sans-serif\" font-size=\"14\" lengthAdjust=\"spacing\" textLength=\"34\" x=\"454.5\" y=\"183.7795\">= 20</text><text fill=\"#000000\" font-family=\"sans-serif\" font-size=\"14\" font-style=\"italic\" lengthAdjust=\"spacing\" textLength=\"44\" x=\"462\" y=\"168.6123\">values</text></g></a><!--MD5=[b9389687b975829384b498ac4b7476b2]\n",
       "class E8--><a href=\"psysml:073a166e-558c-466c-90f5-50af09b65e43\" target=\"_top\" title=\"psysml:073a166e-558c-466c-90f5-50af09b65e43\" xlink:actuate=\"onRequest\" xlink:href=\"psysml:073a166e-558c-466c-90f5-50af09b65e43\" xlink:show=\"new\" xlink:title=\"psysml:073a166e-558c-466c-90f5-50af09b65e43\" xlink:type=\"simple\"><g id=\"elem_E8\"><rect fill=\"#FFFFFF\" height=\"75.0813\" id=\"E8\" rx=\"10\" ry=\"10\" style=\"stroke:#181818;stroke-width:0.5;\" width=\"95.0625\" x=\"150.5\" y=\"116\"/><text fill=\"#000000\" font-family=\"sans-serif\" font-size=\"12\" font-style=\"italic\" lengthAdjust=\"spacing\" textLength=\"69\" x=\"163.5313\" y=\"132.1387\">«attribute»</text><text fill=\"#000000\" font-family=\"sans-serif\" font-size=\"14\" lengthAdjust=\"spacing\" textLength=\"13\" x=\"187.5313\" y=\"147.9639\">m</text><line style=\"stroke:#181818;stroke-width:0.5;\" x1=\"151.5\" x2=\"244.5625\" y1=\"156.2656\" y2=\"156.2656\"/><text fill=\"#000000\" font-family=\"sans-serif\" font-size=\"14\" font-weight=\"bold\" lengthAdjust=\"spacing\" textLength=\"50.0625\" x=\"160.5\" y=\"183.7795\">default</text><text fill=\"#000000\" font-family=\"sans-serif\" font-size=\"14\" lengthAdjust=\"spacing\" textLength=\"25\" x=\"214.5625\" y=\"183.7795\">= n</text><text fill=\"#000000\" font-family=\"sans-serif\" font-size=\"14\" font-style=\"italic\" lengthAdjust=\"spacing\" textLength=\"44\" x=\"176.0313\" y=\"168.6123\">values</text></g></a><!--MD5=[fd4143e9d270a159db93a4ea2a975926]\n",
       "class E9--><a href=\"psysml:d4a77e27-0ca8-4584-84f6-1d4e52d400d2\" target=\"_top\" title=\"psysml:d4a77e27-0ca8-4584-84f6-1d4e52d400d2\" xlink:actuate=\"onRequest\" xlink:href=\"psysml:d4a77e27-0ca8-4584-84f6-1d4e52d400d2\" xlink:show=\"new\" xlink:title=\"psysml:d4a77e27-0ca8-4584-84f6-1d4e52d400d2\" xlink:type=\"simple\"><g id=\"elem_E9\"><rect fill=\"#FFFFFF\" height=\"75.0813\" id=\"E9\" rx=\"10\" ry=\"10\" style=\"stroke:#181818;stroke-width:0.5;\" width=\"71\" x=\"162.5\" y=\"339\"/><text fill=\"#000000\" font-family=\"sans-serif\" font-size=\"12\" font-style=\"italic\" lengthAdjust=\"spacing\" textLength=\"69\" x=\"163.5\" y=\"355.1387\">«attribute»</text><text fill=\"#000000\" font-family=\"sans-serif\" font-size=\"14\" lengthAdjust=\"spacing\" textLength=\"21\" x=\"183.5\" y=\"370.9639\">^n</text><line style=\"stroke:#181818;stroke-width:0.5;\" x1=\"163.5\" x2=\"232.5\" y1=\"379.2656\" y2=\"379.2656\"/><text fill=\"#000000\" font-family=\"sans-serif\" font-size=\"14\" lengthAdjust=\"spacing\" textLength=\"34\" x=\"168.5\" y=\"406.7795\">= 20</text><text fill=\"#000000\" font-family=\"sans-serif\" font-size=\"14\" font-style=\"italic\" lengthAdjust=\"spacing\" textLength=\"44\" x=\"176\" y=\"391.6123\">values</text></g></a><g><a href=\"psysml:fd52748d-5cd7-4973-9bed-274bef6831d2\" target=\"_top\" title=\"psysml:fd52748d-5cd7-4973-9bed-274bef6831d2\" xlink:actuate=\"onRequest\" xlink:href=\"psysml:fd52748d-5cd7-4973-9bed-274bef6831d2\" xlink:show=\"new\" xlink:title=\"psysml:fd52748d-5cd7-4973-9bed-274bef6831d2\" xlink:type=\"simple\"><rect fill=\"#FFFFFF\" height=\"40\" id=\"E10\" rx=\"10\" ry=\"10\" style=\"stroke:#383838;stroke-width:1.5;\" width=\"70\" x=\"32\" y=\"133.5\"/><text fill=\"#000000\" font-family=\"sans-serif\" font-size=\"14\" lengthAdjust=\"spacing\" textLength=\"59\" x=\"37.5\" y=\"151.4951\">v2 = W()</text></a></g><!--MD5=[a717450b82c80b9240a525fa862496af]\n",
       "link E6 to E3--><g id=\"link_E6_E3\"><a href=\"psysml:bbca0750-a9c1-46d9-82f5-94045bc6258a\" target=\"_top\" title=\"psysml:bbca0750-a9c1-46d9-82f5-94045bc6258a\" xlink:actuate=\"onRequest\" xlink:href=\"psysml:bbca0750-a9c1-46d9-82f5-94045bc6258a\" xlink:show=\"new\" xlink:title=\"psysml:bbca0750-a9c1-46d9-82f5-94045bc6258a\" xlink:type=\"simple\"><path d=\"M491.87,191.49 C499.28,226.33 510.48,279.03 519.01,319.11 \" fill=\"none\" id=\"E6-to-E3\" style=\"stroke:#181818;stroke-width:1.0;\"/><polygon fill=\"#FFFFFF\" points=\"523.19,338.76,512.3925,321.6307,526.0866,318.7198,523.19,338.76\" style=\"stroke:#181818;stroke-width:1.0;\"/><line style=\"stroke:#181818;stroke-width:2.0;\" x1=\"511.6024\" x2=\"525.2965\" y1=\"317.9137\" y2=\"315.0028\"/></a></g><!--MD5=[15ebcb19ae302d9b601edb458606d402]\n",
       "link E5 to E2--><g id=\"link_E5_E2\"><a href=\"psysml:1a78d8f2-030e-492a-8201-32cffefdc08b\" target=\"_top\" title=\"psysml:1a78d8f2-030e-492a-8201-32cffefdc08b\" xlink:actuate=\"onRequest\" xlink:href=\"psysml:1a78d8f2-030e-492a-8201-32cffefdc08b\" xlink:show=\"new\" xlink:title=\"psysml:1a78d8f2-030e-492a-8201-32cffefdc08b\" xlink:type=\"simple\"><path d=\"M404.8079,167.0368 C404.7416,167.1414 404.675,167.2466 404.6081,167.3523 C404.3405,167.7752 404.0678,168.207 403.7904,168.6477 C403.2356,169.529 402.6617,170.4455 402.0704,171.3954 C400.8878,173.2952 399.6358,175.3287 398.3279,177.4818 C395.7122,181.7881 392.8731,186.5731 389.92,191.725 C378.1075,212.3325 364.47,238.81 356,264 C355.0144,266.9313 354.0781,269.9239 353.1889,272.9592 C352.7443,274.4769 352.3114,276.0052 351.8901,277.5419 C351.6794,278.3103 351.4715,279.0807 351.2665,279.8529 \" fill=\"none\" id=\"E5-to-E2\" style=\"stroke:#181818;stroke-width:1.0;\"/><polygon fill=\"#FFFFFF\" points=\"351.2665,279.8529,349.3758,259.6929,362.9072,263.285,351.2665,279.8529\" style=\"stroke:#181818;stroke-width:1.0;\"/><ellipse cx=\"352.7714\" cy=\"254.6969\" fill=\"#181818\" rx=\"2\" ry=\"2\" style=\"stroke:#181818;stroke-width:1.0;\"/><ellipse cx=\"362.4366\" cy=\"257.2627\" fill=\"#181818\" rx=\"2\" ry=\"2\" style=\"stroke:#181818;stroke-width:1.0;\"/></a></g><!--MD5=[583832df87f4419a098336a29a52fa00]\n",
       "link E7 to E2--><g id=\"link_E7_E2\"><a href=\"psysml:5695b7ea-3fef-47ac-8247-2c32b379aa0a\" target=\"_top\" title=\"psysml:5695b7ea-3fef-47ac-8247-2c32b379aa0a\" xlink:actuate=\"onRequest\" xlink:href=\"psysml:5695b7ea-3fef-47ac-8247-2c32b379aa0a\" xlink:show=\"new\" xlink:title=\"psysml:5695b7ea-3fef-47ac-8247-2c32b379aa0a\" xlink:type=\"simple\"><path d=\"M289.0643,186.3255 C289.1414,186.6297 289.2189,186.9356 289.2968,187.2431 C289.6085,188.4733 289.9269,189.7294 290.2514,191.0102 C295.4441,211.5016 302.2281,238.2731 309.0113,265.0413 C315.7944,291.8094 322.5766,318.5741 327.7655,339.0517 C328.0898,340.3316 328.4079,341.5869 328.7193,342.8161 C328.7972,343.1234 328.8747,343.429 328.9517,343.7331 \" fill=\"none\" id=\"E7-to-E2\" style=\"stroke:#181818;stroke-width:1.0;\"/><polygon fill=\"#FFFFFF\" points=\"328.9517,343.7331,331.0703,323.5957,317.4992,327.0345,328.9517,343.7331\" style=\"stroke:#181818;stroke-width:1.0;\"/></a></g><!--MD5=[95fa686b5a16158bcdbcaeead89f639b]\n",
       "link E8 to E3--><g id=\"link_E8_E3\"><a href=\"psysml:921fa623-ecc5-4b2e-b8c8-ebddf6697201\" target=\"_top\" title=\"psysml:921fa623-ecc5-4b2e-b8c8-ebddf6697201\" xlink:actuate=\"onRequest\" xlink:href=\"psysml:921fa623-ecc5-4b2e-b8c8-ebddf6697201\" xlink:show=\"new\" xlink:title=\"psysml:921fa623-ecc5-4b2e-b8c8-ebddf6697201\" xlink:type=\"simple\"><path d=\"M214.18,191.14 C222.5,205.81 234.07,221.46 249,231 C329.35,282.35 381.36,211.56 461,264 C481.71,277.64 497.44,299.75 508.69,320.69 \" fill=\"none\" id=\"E8-to-E3\" style=\"stroke:#181818;stroke-width:1.0;\"/><polygon fill=\"#FFFFFF\" points=\"517.61,338.94,502.9765,324.945,515.554,318.7962,517.61,338.94\" style=\"stroke:#181818;stroke-width:1.0;\"/><line style=\"stroke:#181818;stroke-width:2.0;\" x1=\"501.3076\" x2=\"513.885\" y1=\"321.5311\" y2=\"315.3823\"/></a></g><!--MD5=[ed10624c06dd9a4fa49ccf290e8b16a8]\n",
       "link E8 to E9--><g id=\"link_E8_E9\"><a href=\"psysml:fc577d85-8ebe-448e-af16-5782109a2fa7\" target=\"_top\" title=\"psysml:fc577d85-8ebe-448e-af16-5782109a2fa7\" xlink:actuate=\"onRequest\" xlink:href=\"psysml:fc577d85-8ebe-448e-af16-5782109a2fa7\" xlink:show=\"new\" xlink:title=\"psysml:fc577d85-8ebe-448e-af16-5782109a2fa7\" xlink:type=\"simple\"><path d=\"M198,191.49 C198,232.41 198,297.94 198,338.76 \" fill=\"none\" id=\"E8-E9\" style=\"stroke:#181818;stroke-width:5.0;\"/><text fill=\"#000000\" font-family=\"sans-serif\" font-size=\"13\" lengthAdjust=\"spacing\" textLength=\"11\" x=\"199\" y=\"252.0669\">=</text></a></g><!--MD5=[531de3959dd02af1d72a711230376d30]\n",
       "@startuml\r\n",
       "skin sysmlbw\r\n",
       "skinparam monochrome true\r\n",
       "skinparam wrapWidth 300\r\n",
       "hide circle\r\n",
       "top to bottom direction\r\n",
       "skinparam ranksep 10\r\n",
       "skinparam rectangle {\r\n",
       " backgroundColor<<block>> LightGreen\r\n",
       "}\r\n",
       "\r\n",
       "package \"DefaultValueTest\" as E1  [[psysml:7da0ff95-83c9-4c69-ab50-6e4dec268467 ]]  {\r\n",
       "rec def \"V\" as E2  <<(T,blue) part  def>> [[psysml:98a54266-dd8e-4aee-8801-c30b6645e897 ]] {\r\n",
       "comp usage \"m  \" as E3  <<(T,blue) attribute>> [[psysml:6c5b3b06-fe87-444e-9dd6-6649acbff1c0 ]] {\r\n",
       "##//values//##\r\n",
       "<b> default </b><U+003D> 10\r\n",
       "}\r\n",
       "comp usage \"n  \" as E4  <<(T,blue) attribute>> [[psysml:d4a77e27-0ca8-4584-84f6-1d4e52d400d2 ]] {\r\n",
       "##//values//##\r\n",
       " <U+003D> 20\r\n",
       "}\r\n",
       "}\r\n",
       "rec usage \"v1: V\" as E5 [[psysml:f9c62a8d-8a1e-4486-94b1-ee59692b29ae ]] {\r\n",
       "comp usage \"m  \" as E6  <<(T,blue) attribute>> [[psysml:c20e1062-5069-459a-93a7-f31b5f49cd74 ]] {\r\n",
       "##//values//##\r\n",
       " <U+003D> 20\r\n",
       "}\r\n",
       "}\r\n",
       "rec def \"W\" as E7  <<(T,blue) part  def>> [[psysml:ad7d8f37-2b75-4e7f-880b-981718b0db98 ]] {\r\n",
       "comp usage \"m  \" as E8  <<(T,blue) attribute>> [[psysml:073a166e-558c-466c-90f5-50af09b65e43 ]] {\r\n",
       "##//values//##\r\n",
       "<b> default </b><U+003D> n\r\n",
       "}\r\n",
       "comp usage \"^n  \" as E9  <<(T,blue) attribute>> [[psysml:d4a77e27-0ca8-4584-84f6-1d4e52d400d2 ]] {\r\n",
       "##//values//##\r\n",
       " <U+003D> 20\r\n",
       "}\r\n",
       "}\r\n",
       "rec usage \"v2 <U+003D> W()\" as E10 [[psysml:fd52748d-5cd7-4973-9bed-274bef6831d2 ]] {\r\n",
       "}\r\n",
       "}\r\n",
       "E6 - -||> E3 [[psysml:bbca0750-a9c1-46d9-82f5-94045bc6258a ]] \r\n",
       "E5 - -:|> E2 [[psysml:1a78d8f2-030e-492a-8201-32cffefdc08b ]] \r\n",
       "E7 - -|> E2 [[psysml:5695b7ea-3fef-47ac-8247-2c32b379aa0a ]] \r\n",
       "E8 - -||> E3 [[psysml:921fa623-ecc5-4b2e-b8c8-ebddf6697201 ]] \r\n",
       "E8 -[thickness=5]- E9 [[psysml:fc577d85-8ebe-448e-af16-5782109a2fa7 ]] : =\r\n",
       "@enduml\r\n",
       "\n",
       "PlantUML version 1.2022.7(Mon Aug 22 17:01:30 UTC 2022)\n",
       "(EPL source distribution)\n",
       "Java Runtime: OpenJDK Runtime Environment\n",
       "JVM: OpenJDK 64-Bit Server VM\n",
       "Default Encoding: UTF-8\n",
       "Language: en\n",
       "Country: null\n",
       "--></g></svg>"
      ]
     },
     "execution_count": 47,
     "metadata": {},
     "output_type": "execute_result"
    }
   ],
   "source": [
    "%viz --style=\"TB\" --view=\"Interconnection\" \"DefaultValueTest\""
   ]
  },
  {
   "cell_type": "code",
   "execution_count": 48,
   "id": "e051a353",
   "metadata": {
    "execution": {
     "iopub.execute_input": "2024-12-16T14:21:30.750645Z",
     "iopub.status.busy": "2024-12-16T14:21:30.750375Z",
     "iopub.status.idle": "2024-12-16T14:21:30.757010Z",
     "shell.execute_reply": "2024-12-16T14:21:30.756818Z"
    }
   },
   "outputs": [
    {
     "data": {
      "image/svg+xml": [
       "<?xml version=\"1.0\" encoding=\"UTF-8\" standalone=\"no\"?><svg xmlns=\"http://www.w3.org/2000/svg\" xmlns:xlink=\"http://www.w3.org/1999/xlink\" contentStyleType=\"text/css\" height=\"10px\" preserveAspectRatio=\"none\" style=\"width:10px;height:10px;background:#FFFFFF;\" version=\"1.1\" viewBox=\"0 0 10 10\" width=\"10px\" zoomAndPan=\"magnify\"><defs/><g><!--MD5=[c8dde5d066d102a500cd081cce1d9948]\n",
       "@startuml\r\n",
       "skin sysmlbw\r\n",
       "skinparam monochrome true\r\n",
       "skinparam wrapWidth 300\r\n",
       "hide circle\r\n",
       "top to bottom direction\r\n",
       "skinparam ranksep 8\r\n",
       "\r\n",
       "@enduml\r\n",
       "\n",
       "PlantUML version 1.2022.7(Mon Aug 22 17:01:30 UTC 2022)\n",
       "(EPL source distribution)\n",
       "Java Runtime: OpenJDK Runtime Environment\n",
       "JVM: OpenJDK 64-Bit Server VM\n",
       "Default Encoding: UTF-8\n",
       "Language: en\n",
       "Country: null\n",
       "--></g></svg>"
      ]
     },
     "execution_count": 48,
     "metadata": {},
     "output_type": "execute_result"
    }
   ],
   "source": [
    "%viz --style=\"TB\" --view=\"Action\" \"DefaultValueTest\""
   ]
  },
  {
   "cell_type": "code",
   "execution_count": 49,
   "id": "b34885b9",
   "metadata": {
    "execution": {
     "iopub.execute_input": "2024-12-16T14:21:30.811672Z",
     "iopub.status.busy": "2024-12-16T14:21:30.811381Z",
     "iopub.status.idle": "2024-12-16T14:21:30.817873Z",
     "shell.execute_reply": "2024-12-16T14:21:30.817690Z"
    }
   },
   "outputs": [
    {
     "data": {
      "image/svg+xml": [
       "<?xml version=\"1.0\" encoding=\"UTF-8\" standalone=\"no\"?><svg xmlns=\"http://www.w3.org/2000/svg\" xmlns:xlink=\"http://www.w3.org/1999/xlink\" contentStyleType=\"text/css\" height=\"10px\" preserveAspectRatio=\"none\" style=\"width:10px;height:10px;background:#FFFFFF;\" version=\"1.1\" viewBox=\"0 0 10 10\" width=\"10px\" zoomAndPan=\"magnify\"><defs/><g><!--MD5=[228a58293b408a2cee091b1559da5a28]\n",
       "@startuml\r\n",
       "skin sysmlbw\r\n",
       "skinparam monochrome true\r\n",
       "skinparam wrapWidth 300\r\n",
       "hide circle\r\n",
       "top to bottom direction\r\n",
       "skinparam roundcorner 20\r\n",
       "skinparam BoxPadding 20\r\n",
       "skinparam SequenceBoxBackgroundColor #white\r\n",
       "skinparam style strictuml\r\n",
       "skinparam maxMessageSize 100\r\n",
       "\r\n",
       "@enduml\r\n",
       "\n",
       "PlantUML version 1.2022.7(Mon Aug 22 17:01:30 UTC 2022)\n",
       "(EPL source distribution)\n",
       "Java Runtime: OpenJDK Runtime Environment\n",
       "JVM: OpenJDK 64-Bit Server VM\n",
       "Default Encoding: UTF-8\n",
       "Language: en\n",
       "Country: null\n",
       "--></g></svg>"
      ]
     },
     "execution_count": 49,
     "metadata": {},
     "output_type": "execute_result"
    }
   ],
   "source": [
    "%viz --style=\"TB\" --view=\"Sequence\" \"DefaultValueTest\""
   ]
  },
  {
   "cell_type": "code",
   "execution_count": 50,
   "id": "01bb2b42",
   "metadata": {
    "execution": {
     "iopub.execute_input": "2024-12-16T14:21:30.874326Z",
     "iopub.status.busy": "2024-12-16T14:21:30.874096Z",
     "iopub.status.idle": "2024-12-16T14:21:30.897655Z",
     "shell.execute_reply": "2024-12-16T14:21:30.896351Z"
    }
   },
   "outputs": [
    {
     "data": {
      "image/svg+xml": [
       "<?xml version=\"1.0\" encoding=\"UTF-8\" standalone=\"no\"?><svg xmlns=\"http://www.w3.org/2000/svg\" xmlns:xlink=\"http://www.w3.org/1999/xlink\" contentStyleType=\"text/css\" height=\"323px\" preserveAspectRatio=\"none\" style=\"width:369px;height:323px;background:#FFFFFF;\" version=\"1.1\" viewBox=\"0 0 369 323\" width=\"369px\" zoomAndPan=\"magnify\"><defs/><g><!--MD5=[fbc87193dbaf4d95561dea2c320d4a47]\n",
       "cluster E1--><g id=\"cluster_E1\"><a href=\"psysml:7da0ff95-83c9-4c69-ab50-6e4dec268467\" target=\"_top\" title=\"psysml:7da0ff95-83c9-4c69-ab50-6e4dec268467\" xlink:actuate=\"onRequest\" xlink:href=\"psysml:7da0ff95-83c9-4c69-ab50-6e4dec268467\" xlink:show=\"new\" xlink:title=\"psysml:7da0ff95-83c9-4c69-ab50-6e4dec268467\" xlink:type=\"simple\"><polygon fill=\"none\" points=\"16,6,147,6,154,28.2969,352,28.2969,352,316,16,316,16,6\" style=\"stroke:#000000;stroke-width:1.5;\"/><line style=\"stroke:#000000;stroke-width:1.5;\" x1=\"16\" x2=\"154\" y1=\"28.2969\" y2=\"28.2969\"/><text fill=\"#000000\" font-family=\"sans-serif\" font-size=\"14\" font-weight=\"bold\" lengthAdjust=\"spacing\" textLength=\"125\" x=\"20\" y=\"20.9951\">DefaultValueTest</text></a></g><!--MD5=[b4997ac47864f28c2f74865a473b2911]\n",
       "class E2--><a href=\"psysml:98a54266-dd8e-4aee-8801-c30b6645e897\" target=\"_top\" title=\"psysml:98a54266-dd8e-4aee-8801-c30b6645e897\" xlink:actuate=\"onRequest\" xlink:href=\"psysml:98a54266-dd8e-4aee-8801-c30b6645e897\" xlink:show=\"new\" xlink:title=\"psysml:98a54266-dd8e-4aee-8801-c30b6645e897\" xlink:type=\"simple\"><g id=\"elem_E2\"><rect fill=\"#FFFFFF\" height=\"91.3781\" id=\"E2\" style=\"stroke:#181818;stroke-width:0.5;\" width=\"117.0625\" x=\"166.5\" y=\"209\"/><text fill=\"#000000\" font-family=\"sans-serif\" font-size=\"12\" font-style=\"italic\" lengthAdjust=\"spacing\" textLength=\"68\" x=\"191.0313\" y=\"225.1387\">«part  def»</text><text fill=\"#000000\" font-family=\"sans-serif\" font-size=\"14\" lengthAdjust=\"spacing\" textLength=\"9\" x=\"220.5313\" y=\"240.9639\">V</text><line style=\"stroke:#181818;stroke-width:0.5;\" x1=\"167.5\" x2=\"282.5625\" y1=\"249.2656\" y2=\"249.2656\"/><text fill=\"#000000\" font-family=\"sans-serif\" font-size=\"14\" lengthAdjust=\"spacing\" textLength=\"13\" x=\"172.5\" y=\"276.7795\">m</text><text fill=\"#000000\" font-family=\"sans-serif\" font-size=\"14\" font-weight=\"bold\" lengthAdjust=\"spacing\" textLength=\"50.0625\" x=\"189.5\" y=\"276.7795\">default</text><text fill=\"#000000\" font-family=\"sans-serif\" font-size=\"14\" lengthAdjust=\"spacing\" textLength=\"34\" x=\"243.5625\" y=\"276.7795\">= 10</text><text fill=\"#000000\" font-family=\"sans-serif\" font-size=\"14\" lengthAdjust=\"spacing\" textLength=\"47\" x=\"172.5\" y=\"293.0764\">n = 20</text><text fill=\"#000000\" font-family=\"sans-serif\" font-size=\"14\" font-style=\"italic\" lengthAdjust=\"spacing\" textLength=\"66\" x=\"192.0313\" y=\"261.6123\">attributes</text></g></a><!--MD5=[09b614a08d8cba4a07c9adeb5e0fee81]\n",
       "class E3--><a href=\"psysml:f9c62a8d-8a1e-4486-94b1-ee59692b29ae\" target=\"_top\" title=\"psysml:f9c62a8d-8a1e-4486-94b1-ee59692b29ae\" xlink:actuate=\"onRequest\" xlink:href=\"psysml:f9c62a8d-8a1e-4486-94b1-ee59692b29ae\" xlink:show=\"new\" xlink:title=\"psysml:f9c62a8d-8a1e-4486-94b1-ee59692b29ae\" xlink:type=\"simple\"><g id=\"elem_E3\"><rect fill=\"#FFFFFF\" height=\"91.3781\" id=\"E3\" rx=\"10\" ry=\"10\" style=\"stroke:#181818;stroke-width:0.5;\" width=\"74\" x=\"262\" y=\"49.5\"/><text fill=\"#000000\" font-family=\"sans-serif\" font-size=\"12\" font-style=\"italic\" lengthAdjust=\"spacing\" textLength=\"40\" x=\"279\" y=\"65.6387\">«part»</text><text fill=\"#000000\" font-family=\"sans-serif\" font-size=\"14\" lengthAdjust=\"spacing\" textLength=\"34\" x=\"278\" y=\"81.4639\">v1: V</text><line style=\"stroke:#181818;stroke-width:0.5;\" x1=\"263\" x2=\"335\" y1=\"89.7656\" y2=\"89.7656\"/><text fill=\"#000000\" font-family=\"sans-serif\" font-size=\"14\" lengthAdjust=\"spacing\" textLength=\"51\" x=\"268\" y=\"117.2795\">m = 20</text><text fill=\"#000000\" font-family=\"sans-serif\" font-size=\"14\" font-style=\"italic\" lengthAdjust=\"spacing\" textLength=\"61\" x=\"268\" y=\"133.5764\">:&gt;&gt;V::m</text><text fill=\"#000000\" font-family=\"sans-serif\" font-size=\"14\" font-style=\"italic\" lengthAdjust=\"spacing\" textLength=\"66\" x=\"266\" y=\"102.1123\">attributes</text></g></a><!--MD5=[ebbe1d658d1005bcc118a6aa81145e00]\n",
       "class E4--><a href=\"psysml:ad7d8f37-2b75-4e7f-880b-981718b0db98\" target=\"_top\" title=\"psysml:ad7d8f37-2b75-4e7f-880b-981718b0db98\" xlink:actuate=\"onRequest\" xlink:href=\"psysml:ad7d8f37-2b75-4e7f-880b-981718b0db98\" xlink:show=\"new\" xlink:title=\"psysml:ad7d8f37-2b75-4e7f-880b-981718b0db98\" xlink:type=\"simple\"><g id=\"elem_E4\"><rect fill=\"#FFFFFF\" height=\"107.675\" id=\"E4\" style=\"stroke:#181818;stroke-width:0.5;\" width=\"108.0625\" x=\"119\" y=\"41\"/><text fill=\"#000000\" font-family=\"sans-serif\" font-size=\"12\" font-style=\"italic\" lengthAdjust=\"spacing\" textLength=\"68\" x=\"139.0313\" y=\"57.1387\">«part  def»</text><text fill=\"#000000\" font-family=\"sans-serif\" font-size=\"14\" lengthAdjust=\"spacing\" textLength=\"13\" x=\"166.5313\" y=\"72.9639\">W</text><line style=\"stroke:#181818;stroke-width:0.5;\" x1=\"120\" x2=\"226.0625\" y1=\"81.2656\" y2=\"81.2656\"/><text fill=\"#000000\" font-family=\"sans-serif\" font-size=\"14\" lengthAdjust=\"spacing\" textLength=\"13\" x=\"125\" y=\"108.7795\">m</text><text fill=\"#000000\" font-family=\"sans-serif\" font-size=\"14\" font-weight=\"bold\" lengthAdjust=\"spacing\" textLength=\"50.0625\" x=\"142\" y=\"108.7795\">default</text><text fill=\"#000000\" font-family=\"sans-serif\" font-size=\"14\" lengthAdjust=\"spacing\" textLength=\"25\" x=\"196.0625\" y=\"108.7795\">= n</text><text fill=\"#000000\" font-family=\"sans-serif\" font-size=\"14\" font-style=\"italic\" lengthAdjust=\"spacing\" textLength=\"61\" x=\"125\" y=\"125.0764\">:&gt;&gt;V::m</text><text fill=\"#000000\" font-family=\"sans-serif\" font-size=\"14\" lengthAdjust=\"spacing\" textLength=\"59\" x=\"125\" y=\"141.3732\">^n = 20</text><text fill=\"#000000\" font-family=\"sans-serif\" font-size=\"14\" font-style=\"italic\" lengthAdjust=\"spacing\" textLength=\"66\" x=\"140.0313\" y=\"93.6123\">attributes</text></g></a><!--MD5=[270fce915f116d4de14055a7c1d9a0f3]\n",
       "class E5--><a href=\"psysml:fd52748d-5cd7-4973-9bed-274bef6831d2\" target=\"_top\" title=\"psysml:fd52748d-5cd7-4973-9bed-274bef6831d2\" xlink:actuate=\"onRequest\" xlink:href=\"psysml:fd52748d-5cd7-4973-9bed-274bef6831d2\" xlink:show=\"new\" xlink:title=\"psysml:fd52748d-5cd7-4973-9bed-274bef6831d2\" xlink:type=\"simple\"><g id=\"elem_E5\"><rect fill=\"#FFFFFF\" height=\"75.0813\" id=\"E5\" rx=\"10\" ry=\"10\" style=\"stroke:#181818;stroke-width:0.5;\" width=\"52\" x=\"32\" y=\"57.5\"/><text fill=\"#000000\" font-family=\"sans-serif\" font-size=\"12\" font-style=\"italic\" lengthAdjust=\"spacing\" textLength=\"40\" x=\"38\" y=\"73.6387\">«part»</text><text fill=\"#000000\" font-family=\"sans-serif\" font-size=\"14\" lengthAdjust=\"spacing\" textLength=\"16\" x=\"46\" y=\"89.4639\">v2</text><line style=\"stroke:#181818;stroke-width:0.5;\" x1=\"33\" x2=\"83\" y1=\"97.7656\" y2=\"97.7656\"/><text fill=\"#000000\" font-family=\"sans-serif\" font-size=\"14\" lengthAdjust=\"spacing\" textLength=\"39\" x=\"38\" y=\"125.2795\">= W()</text><text fill=\"#000000\" font-family=\"sans-serif\" font-size=\"14\" font-style=\"italic\" lengthAdjust=\"spacing\" textLength=\"44\" x=\"36\" y=\"110.1123\">values</text></g></a><!--MD5=[05d275557350bfb9b23a4ef7222b4c39]\n",
       "link E3 to E2--><g id=\"link_E3_E2\"><a href=\"psysml:1a78d8f2-030e-492a-8201-32cffefdc08b\" target=\"_top\" title=\"psysml:1a78d8f2-030e-492a-8201-32cffefdc08b\" xlink:actuate=\"onRequest\" xlink:href=\"psysml:1a78d8f2-030e-492a-8201-32cffefdc08b\" xlink:show=\"new\" xlink:title=\"psysml:1a78d8f2-030e-492a-8201-32cffefdc08b\" xlink:type=\"simple\"><path d=\"M277.99,140.71 C270.7,156.24 262.37,173.95 254.52,190.67 \" fill=\"none\" id=\"E3-to-E2\" style=\"stroke:#181818;stroke-width:1.0;\"/><polygon fill=\"#FFFFFF\" points=\"245.93,208.95,247.6703,188.7765,260.3425,194.7275,245.93,208.95\" style=\"stroke:#181818;stroke-width:1.0;\"/><ellipse cx=\"251.9035\" cy=\"184.4672\" fill=\"#181818\" rx=\"2\" ry=\"2\" style=\"stroke:#181818;stroke-width:1.0;\"/><ellipse cx=\"260.9551\" cy=\"188.718\" fill=\"#181818\" rx=\"2\" ry=\"2\" style=\"stroke:#181818;stroke-width:1.0;\"/></a></g><!--MD5=[185131fc0dcab0a4505a2ebe144e961b]\n",
       "link E4 to E2--><g id=\"link_E4_E2\"><a href=\"psysml:5695b7ea-3fef-47ac-8247-2c32b379aa0a\" target=\"_top\" title=\"psysml:5695b7ea-3fef-47ac-8247-2c32b379aa0a\" xlink:actuate=\"onRequest\" xlink:href=\"psysml:5695b7ea-3fef-47ac-8247-2c32b379aa0a\" xlink:show=\"new\" xlink:title=\"psysml:5695b7ea-3fef-47ac-8247-2c32b379aa0a\" xlink:type=\"simple\"><path d=\"M190.6,149.32 C194.9,162.33 199.54,176.38 203.98,189.82 \" fill=\"none\" id=\"E4-to-E2\" style=\"stroke:#181818;stroke-width:1.0;\"/><polygon fill=\"none\" points=\"210.65,187.7,210.27,208.89,197.35,192.09,210.65,187.7\" style=\"stroke:#181818;stroke-width:1.0;\"/></a></g><!--MD5=[932cc3ccf5092cc6eac82c4f7b241e56]\n",
       "@startuml\r\n",
       "skin sysmlbw\r\n",
       "skinparam monochrome true\r\n",
       "skinparam wrapWidth 300\r\n",
       "hide circle\r\n",
       "top to bottom direction\r\n",
       "\r\n",
       "package \"DefaultValueTest\" as E1  [[psysml:7da0ff95-83c9-4c69-ab50-6e4dec268467 ]]  {\r\n",
       "comp def \"V\" as E2  <<(T,blue) part  def>> [[psysml:98a54266-dd8e-4aee-8801-c30b6645e897 ]] {\r\n",
       "##//attributes//##\r\n",
       "m<b> default </b><U+003D> 10\r\n",
       "n <U+003D> 20\r\n",
       "}\r\n",
       "comp usage \"v1: V  \" as E3  <<(T,blue) part>> [[psysml:f9c62a8d-8a1e-4486-94b1-ee59692b29ae ]] {\r\n",
       "##//attributes//##\r\n",
       "m <U+003D> 20\\n//:>>V::m// \r\n",
       "}\r\n",
       "comp def \"W\" as E4  <<(T,blue) part  def>> [[psysml:ad7d8f37-2b75-4e7f-880b-981718b0db98 ]] {\r\n",
       "##//attributes//##\r\n",
       "m<b> default </b><U+003D> n\\n//:>>V::m// \r\n",
       "^n <U+003D> 20\r\n",
       "}\r\n",
       "comp usage \"v2  \" as E5  <<(T,blue) part>> [[psysml:fd52748d-5cd7-4973-9bed-274bef6831d2 ]] {\r\n",
       "##//values//##\r\n",
       " <U+003D> W()\r\n",
       "}\r\n",
       "}\r\n",
       "E3 - -:|> E2 [[psysml:1a78d8f2-030e-492a-8201-32cffefdc08b ]] \r\n",
       "E4 - -|> E2 [[psysml:5695b7ea-3fef-47ac-8247-2c32b379aa0a ]] \r\n",
       "@enduml\r\n",
       "\n",
       "PlantUML version 1.2022.7(Mon Aug 22 17:01:30 UTC 2022)\n",
       "(EPL source distribution)\n",
       "Java Runtime: OpenJDK Runtime Environment\n",
       "JVM: OpenJDK 64-Bit Server VM\n",
       "Default Encoding: UTF-8\n",
       "Language: en\n",
       "Country: null\n",
       "--></g></svg>"
      ]
     },
     "execution_count": 50,
     "metadata": {},
     "output_type": "execute_result"
    }
   ],
   "source": [
    "%viz --style=\"TB\" --view=\"MIXED\" \"DefaultValueTest\""
   ]
  },
  {
   "cell_type": "code",
   "execution_count": 51,
   "id": "7ef03e0a",
   "metadata": {
    "execution": {
     "iopub.execute_input": "2024-12-16T14:21:30.951907Z",
     "iopub.status.busy": "2024-12-16T14:21:30.951660Z",
     "iopub.status.idle": "2024-12-16T14:21:30.972993Z",
     "shell.execute_reply": "2024-12-16T14:21:30.972289Z"
    }
   },
   "outputs": [
    {
     "data": {
      "image/svg+xml": [
       "<?xml version=\"1.0\" encoding=\"UTF-8\" standalone=\"no\"?><svg xmlns=\"http://www.w3.org/2000/svg\" xmlns:xlink=\"http://www.w3.org/1999/xlink\" contentStyleType=\"text/css\" height=\"323px\" preserveAspectRatio=\"none\" style=\"width:369px;height:323px;background:#FFFFFF;\" version=\"1.1\" viewBox=\"0 0 369 323\" width=\"369px\" zoomAndPan=\"magnify\"><defs/><g><!--MD5=[fbc87193dbaf4d95561dea2c320d4a47]\n",
       "cluster E1--><g id=\"cluster_E1\"><a href=\"psysml:7da0ff95-83c9-4c69-ab50-6e4dec268467\" target=\"_top\" title=\"psysml:7da0ff95-83c9-4c69-ab50-6e4dec268467\" xlink:actuate=\"onRequest\" xlink:href=\"psysml:7da0ff95-83c9-4c69-ab50-6e4dec268467\" xlink:show=\"new\" xlink:title=\"psysml:7da0ff95-83c9-4c69-ab50-6e4dec268467\" xlink:type=\"simple\"><polygon fill=\"none\" points=\"16,6,147,6,154,28.2969,352,28.2969,352,316,16,316,16,6\" style=\"stroke:#000000;stroke-width:1.5;\"/><line style=\"stroke:#000000;stroke-width:1.5;\" x1=\"16\" x2=\"154\" y1=\"28.2969\" y2=\"28.2969\"/><text fill=\"#000000\" font-family=\"sans-serif\" font-size=\"14\" font-weight=\"bold\" lengthAdjust=\"spacing\" textLength=\"125\" x=\"20\" y=\"20.9951\">DefaultValueTest</text></a></g><!--MD5=[b4997ac47864f28c2f74865a473b2911]\n",
       "class E2--><a href=\"psysml:98a54266-dd8e-4aee-8801-c30b6645e897\" target=\"_top\" title=\"psysml:98a54266-dd8e-4aee-8801-c30b6645e897\" xlink:actuate=\"onRequest\" xlink:href=\"psysml:98a54266-dd8e-4aee-8801-c30b6645e897\" xlink:show=\"new\" xlink:title=\"psysml:98a54266-dd8e-4aee-8801-c30b6645e897\" xlink:type=\"simple\"><g id=\"elem_E2\"><rect fill=\"#FFFFFF\" height=\"91.3781\" id=\"E2\" style=\"stroke:#181818;stroke-width:0.5;\" width=\"117.0625\" x=\"166.5\" y=\"209\"/><text fill=\"#000000\" font-family=\"sans-serif\" font-size=\"12\" font-style=\"italic\" lengthAdjust=\"spacing\" textLength=\"68\" x=\"191.0313\" y=\"225.1387\">«part  def»</text><text fill=\"#000000\" font-family=\"sans-serif\" font-size=\"14\" lengthAdjust=\"spacing\" textLength=\"9\" x=\"220.5313\" y=\"240.9639\">V</text><line style=\"stroke:#181818;stroke-width:0.5;\" x1=\"167.5\" x2=\"282.5625\" y1=\"249.2656\" y2=\"249.2656\"/><text fill=\"#000000\" font-family=\"sans-serif\" font-size=\"14\" lengthAdjust=\"spacing\" textLength=\"13\" x=\"172.5\" y=\"276.7795\">m</text><text fill=\"#000000\" font-family=\"sans-serif\" font-size=\"14\" font-weight=\"bold\" lengthAdjust=\"spacing\" textLength=\"50.0625\" x=\"189.5\" y=\"276.7795\">default</text><text fill=\"#000000\" font-family=\"sans-serif\" font-size=\"14\" lengthAdjust=\"spacing\" textLength=\"34\" x=\"243.5625\" y=\"276.7795\">= 10</text><text fill=\"#000000\" font-family=\"sans-serif\" font-size=\"14\" lengthAdjust=\"spacing\" textLength=\"47\" x=\"172.5\" y=\"293.0764\">n = 20</text><text fill=\"#000000\" font-family=\"sans-serif\" font-size=\"14\" font-style=\"italic\" lengthAdjust=\"spacing\" textLength=\"66\" x=\"192.0313\" y=\"261.6123\">attributes</text></g></a><!--MD5=[09b614a08d8cba4a07c9adeb5e0fee81]\n",
       "class E3--><a href=\"psysml:f9c62a8d-8a1e-4486-94b1-ee59692b29ae\" target=\"_top\" title=\"psysml:f9c62a8d-8a1e-4486-94b1-ee59692b29ae\" xlink:actuate=\"onRequest\" xlink:href=\"psysml:f9c62a8d-8a1e-4486-94b1-ee59692b29ae\" xlink:show=\"new\" xlink:title=\"psysml:f9c62a8d-8a1e-4486-94b1-ee59692b29ae\" xlink:type=\"simple\"><g id=\"elem_E3\"><rect fill=\"#FFFFFF\" height=\"91.3781\" id=\"E3\" rx=\"10\" ry=\"10\" style=\"stroke:#181818;stroke-width:0.5;\" width=\"74\" x=\"262\" y=\"49.5\"/><text fill=\"#000000\" font-family=\"sans-serif\" font-size=\"12\" font-style=\"italic\" lengthAdjust=\"spacing\" textLength=\"40\" x=\"279\" y=\"65.6387\">«part»</text><text fill=\"#000000\" font-family=\"sans-serif\" font-size=\"14\" lengthAdjust=\"spacing\" textLength=\"34\" x=\"278\" y=\"81.4639\">v1: V</text><line style=\"stroke:#181818;stroke-width:0.5;\" x1=\"263\" x2=\"335\" y1=\"89.7656\" y2=\"89.7656\"/><text fill=\"#000000\" font-family=\"sans-serif\" font-size=\"14\" lengthAdjust=\"spacing\" textLength=\"51\" x=\"268\" y=\"117.2795\">m = 20</text><text fill=\"#000000\" font-family=\"sans-serif\" font-size=\"14\" font-style=\"italic\" lengthAdjust=\"spacing\" textLength=\"61\" x=\"268\" y=\"133.5764\">:&gt;&gt;V::m</text><text fill=\"#000000\" font-family=\"sans-serif\" font-size=\"14\" font-style=\"italic\" lengthAdjust=\"spacing\" textLength=\"66\" x=\"266\" y=\"102.1123\">attributes</text></g></a><!--MD5=[ebbe1d658d1005bcc118a6aa81145e00]\n",
       "class E4--><a href=\"psysml:ad7d8f37-2b75-4e7f-880b-981718b0db98\" target=\"_top\" title=\"psysml:ad7d8f37-2b75-4e7f-880b-981718b0db98\" xlink:actuate=\"onRequest\" xlink:href=\"psysml:ad7d8f37-2b75-4e7f-880b-981718b0db98\" xlink:show=\"new\" xlink:title=\"psysml:ad7d8f37-2b75-4e7f-880b-981718b0db98\" xlink:type=\"simple\"><g id=\"elem_E4\"><rect fill=\"#FFFFFF\" height=\"107.675\" id=\"E4\" style=\"stroke:#181818;stroke-width:0.5;\" width=\"108.0625\" x=\"119\" y=\"41\"/><text fill=\"#000000\" font-family=\"sans-serif\" font-size=\"12\" font-style=\"italic\" lengthAdjust=\"spacing\" textLength=\"68\" x=\"139.0313\" y=\"57.1387\">«part  def»</text><text fill=\"#000000\" font-family=\"sans-serif\" font-size=\"14\" lengthAdjust=\"spacing\" textLength=\"13\" x=\"166.5313\" y=\"72.9639\">W</text><line style=\"stroke:#181818;stroke-width:0.5;\" x1=\"120\" x2=\"226.0625\" y1=\"81.2656\" y2=\"81.2656\"/><text fill=\"#000000\" font-family=\"sans-serif\" font-size=\"14\" lengthAdjust=\"spacing\" textLength=\"13\" x=\"125\" y=\"108.7795\">m</text><text fill=\"#000000\" font-family=\"sans-serif\" font-size=\"14\" font-weight=\"bold\" lengthAdjust=\"spacing\" textLength=\"50.0625\" x=\"142\" y=\"108.7795\">default</text><text fill=\"#000000\" font-family=\"sans-serif\" font-size=\"14\" lengthAdjust=\"spacing\" textLength=\"25\" x=\"196.0625\" y=\"108.7795\">= n</text><text fill=\"#000000\" font-family=\"sans-serif\" font-size=\"14\" font-style=\"italic\" lengthAdjust=\"spacing\" textLength=\"61\" x=\"125\" y=\"125.0764\">:&gt;&gt;V::m</text><text fill=\"#000000\" font-family=\"sans-serif\" font-size=\"14\" lengthAdjust=\"spacing\" textLength=\"59\" x=\"125\" y=\"141.3732\">^n = 20</text><text fill=\"#000000\" font-family=\"sans-serif\" font-size=\"14\" font-style=\"italic\" lengthAdjust=\"spacing\" textLength=\"66\" x=\"140.0313\" y=\"93.6123\">attributes</text></g></a><!--MD5=[270fce915f116d4de14055a7c1d9a0f3]\n",
       "class E5--><a href=\"psysml:fd52748d-5cd7-4973-9bed-274bef6831d2\" target=\"_top\" title=\"psysml:fd52748d-5cd7-4973-9bed-274bef6831d2\" xlink:actuate=\"onRequest\" xlink:href=\"psysml:fd52748d-5cd7-4973-9bed-274bef6831d2\" xlink:show=\"new\" xlink:title=\"psysml:fd52748d-5cd7-4973-9bed-274bef6831d2\" xlink:type=\"simple\"><g id=\"elem_E5\"><rect fill=\"#FFFFFF\" height=\"75.0813\" id=\"E5\" rx=\"10\" ry=\"10\" style=\"stroke:#181818;stroke-width:0.5;\" width=\"52\" x=\"32\" y=\"57.5\"/><text fill=\"#000000\" font-family=\"sans-serif\" font-size=\"12\" font-style=\"italic\" lengthAdjust=\"spacing\" textLength=\"40\" x=\"38\" y=\"73.6387\">«part»</text><text fill=\"#000000\" font-family=\"sans-serif\" font-size=\"14\" lengthAdjust=\"spacing\" textLength=\"16\" x=\"46\" y=\"89.4639\">v2</text><line style=\"stroke:#181818;stroke-width:0.5;\" x1=\"33\" x2=\"83\" y1=\"97.7656\" y2=\"97.7656\"/><text fill=\"#000000\" font-family=\"sans-serif\" font-size=\"14\" lengthAdjust=\"spacing\" textLength=\"39\" x=\"38\" y=\"125.2795\">= W()</text><text fill=\"#000000\" font-family=\"sans-serif\" font-size=\"14\" font-style=\"italic\" lengthAdjust=\"spacing\" textLength=\"44\" x=\"36\" y=\"110.1123\">values</text></g></a><!--MD5=[05d275557350bfb9b23a4ef7222b4c39]\n",
       "link E3 to E2--><g id=\"link_E3_E2\"><a href=\"psysml:1a78d8f2-030e-492a-8201-32cffefdc08b\" target=\"_top\" title=\"psysml:1a78d8f2-030e-492a-8201-32cffefdc08b\" xlink:actuate=\"onRequest\" xlink:href=\"psysml:1a78d8f2-030e-492a-8201-32cffefdc08b\" xlink:show=\"new\" xlink:title=\"psysml:1a78d8f2-030e-492a-8201-32cffefdc08b\" xlink:type=\"simple\"><path d=\"M272.75,140.71 C272.75,140.71 272.75,188.79 272.75,188.79 \" fill=\"none\" id=\"E3-to-E2\" style=\"stroke:#181818;stroke-width:1.0;\"/><polygon fill=\"#FFFFFF\" points=\"272.75,208.79,265.75,189.79,279.75,189.79,272.75,208.79\" style=\"stroke:#181818;stroke-width:1.0;\"/><ellipse cx=\"267.75\" cy=\"184.09\" fill=\"#181818\" rx=\"2\" ry=\"2\" style=\"stroke:#181818;stroke-width:1.0;\"/><ellipse cx=\"277.75\" cy=\"184.09\" fill=\"#181818\" rx=\"2\" ry=\"2\" style=\"stroke:#181818;stroke-width:1.0;\"/></a></g><!--MD5=[185131fc0dcab0a4505a2ebe144e961b]\n",
       "link E4 to E2--><g id=\"link_E4_E2\"><a href=\"psysml:5695b7ea-3fef-47ac-8247-2c32b379aa0a\" target=\"_top\" title=\"psysml:5695b7ea-3fef-47ac-8247-2c32b379aa0a\" xlink:actuate=\"onRequest\" xlink:href=\"psysml:5695b7ea-3fef-47ac-8247-2c32b379aa0a\" xlink:show=\"new\" xlink:title=\"psysml:5695b7ea-3fef-47ac-8247-2c32b379aa0a\" xlink:type=\"simple\"><path d=\"M196.75,149.44 C196.75,149.44 196.75,188.79 196.75,188.79 \" fill=\"none\" id=\"E4-to-E2\" style=\"stroke:#181818;stroke-width:1.0;\"/><polygon fill=\"none\" points=\"203.75,188.79,196.75,208.79,189.75,188.79,203.75,188.79\" style=\"stroke:#181818;stroke-width:1.0;\"/></a></g><!--MD5=[2186afef6ac0be86589636200fe8657c]\n",
       "@startuml\r\n",
       "skin sysmlbw\r\n",
       "skinparam monochrome true\r\n",
       "skinparam wrapWidth 300\r\n",
       "hide circle\r\n",
       "skinparam linetype ortho\r\n",
       "\r\n",
       "package \"DefaultValueTest\" as E1  [[psysml:7da0ff95-83c9-4c69-ab50-6e4dec268467 ]]  {\r\n",
       "comp def \"V\" as E2  <<(T,blue) part  def>> [[psysml:98a54266-dd8e-4aee-8801-c30b6645e897 ]] {\r\n",
       "##//attributes//##\r\n",
       "m<b> default </b><U+003D> 10\r\n",
       "n <U+003D> 20\r\n",
       "}\r\n",
       "comp usage \"v1: V  \" as E3  <<(T,blue) part>> [[psysml:f9c62a8d-8a1e-4486-94b1-ee59692b29ae ]] {\r\n",
       "##//attributes//##\r\n",
       "m <U+003D> 20\\n//:>>V::m// \r\n",
       "}\r\n",
       "comp def \"W\" as E4  <<(T,blue) part  def>> [[psysml:ad7d8f37-2b75-4e7f-880b-981718b0db98 ]] {\r\n",
       "##//attributes//##\r\n",
       "m<b> default </b><U+003D> n\\n//:>>V::m// \r\n",
       "^n <U+003D> 20\r\n",
       "}\r\n",
       "comp usage \"v2  \" as E5  <<(T,blue) part>> [[psysml:fd52748d-5cd7-4973-9bed-274bef6831d2 ]] {\r\n",
       "##//values//##\r\n",
       " <U+003D> W()\r\n",
       "}\r\n",
       "}\r\n",
       "E3 - -:|> E2 [[psysml:1a78d8f2-030e-492a-8201-32cffefdc08b ]] \r\n",
       "E4 - -|> E2 [[psysml:5695b7ea-3fef-47ac-8247-2c32b379aa0a ]] \r\n",
       "@enduml\r\n",
       "\n",
       "PlantUML version 1.2022.7(Mon Aug 22 17:01:30 UTC 2022)\n",
       "(EPL source distribution)\n",
       "Java Runtime: OpenJDK Runtime Environment\n",
       "JVM: OpenJDK 64-Bit Server VM\n",
       "Default Encoding: UTF-8\n",
       "Language: en\n",
       "Country: null\n",
       "--></g></svg>"
      ]
     },
     "execution_count": 51,
     "metadata": {},
     "output_type": "execute_result"
    }
   ],
   "source": [
    "%viz --style=\"ORTHOLINE\" --view=\"Default\" \"DefaultValueTest\""
   ]
  },
  {
   "cell_type": "code",
   "execution_count": 52,
   "id": "e8483d6e",
   "metadata": {
    "execution": {
     "iopub.execute_input": "2024-12-16T14:21:31.029085Z",
     "iopub.status.busy": "2024-12-16T14:21:31.028852Z",
     "iopub.status.idle": "2024-12-16T14:21:31.048926Z",
     "shell.execute_reply": "2024-12-16T14:21:31.047980Z"
    }
   },
   "outputs": [
    {
     "data": {
      "image/svg+xml": [
       "<?xml version=\"1.0\" encoding=\"UTF-8\" standalone=\"no\"?><svg xmlns=\"http://www.w3.org/2000/svg\" xmlns:xlink=\"http://www.w3.org/1999/xlink\" contentStyleType=\"text/css\" height=\"323px\" preserveAspectRatio=\"none\" style=\"width:369px;height:323px;background:#FFFFFF;\" version=\"1.1\" viewBox=\"0 0 369 323\" width=\"369px\" zoomAndPan=\"magnify\"><defs/><g><!--MD5=[fbc87193dbaf4d95561dea2c320d4a47]\n",
       "cluster E1--><g id=\"cluster_E1\"><a href=\"psysml:7da0ff95-83c9-4c69-ab50-6e4dec268467\" target=\"_top\" title=\"psysml:7da0ff95-83c9-4c69-ab50-6e4dec268467\" xlink:actuate=\"onRequest\" xlink:href=\"psysml:7da0ff95-83c9-4c69-ab50-6e4dec268467\" xlink:show=\"new\" xlink:title=\"psysml:7da0ff95-83c9-4c69-ab50-6e4dec268467\" xlink:type=\"simple\"><polygon fill=\"none\" points=\"16,6,147,6,154,28.2969,352,28.2969,352,316,16,316,16,6\" style=\"stroke:#000000;stroke-width:1.5;\"/><line style=\"stroke:#000000;stroke-width:1.5;\" x1=\"16\" x2=\"154\" y1=\"28.2969\" y2=\"28.2969\"/><text fill=\"#000000\" font-family=\"sans-serif\" font-size=\"14\" font-weight=\"bold\" lengthAdjust=\"spacing\" textLength=\"125\" x=\"20\" y=\"20.9951\">DefaultValueTest</text></a></g><!--MD5=[b4997ac47864f28c2f74865a473b2911]\n",
       "class E2--><a href=\"psysml:98a54266-dd8e-4aee-8801-c30b6645e897\" target=\"_top\" title=\"psysml:98a54266-dd8e-4aee-8801-c30b6645e897\" xlink:actuate=\"onRequest\" xlink:href=\"psysml:98a54266-dd8e-4aee-8801-c30b6645e897\" xlink:show=\"new\" xlink:title=\"psysml:98a54266-dd8e-4aee-8801-c30b6645e897\" xlink:type=\"simple\"><g id=\"elem_E2\"><rect fill=\"#FFFFFF\" height=\"91.3781\" id=\"E2\" style=\"stroke:#181818;stroke-width:0.5;\" width=\"117.0625\" x=\"166.5\" y=\"209\"/><text fill=\"#000000\" font-family=\"sans-serif\" font-size=\"12\" font-style=\"italic\" lengthAdjust=\"spacing\" textLength=\"68\" x=\"191.0313\" y=\"225.1387\">«part  def»</text><text fill=\"#000000\" font-family=\"sans-serif\" font-size=\"14\" lengthAdjust=\"spacing\" textLength=\"9\" x=\"220.5313\" y=\"240.9639\">V</text><line style=\"stroke:#181818;stroke-width:0.5;\" x1=\"167.5\" x2=\"282.5625\" y1=\"249.2656\" y2=\"249.2656\"/><text fill=\"#000000\" font-family=\"sans-serif\" font-size=\"14\" lengthAdjust=\"spacing\" textLength=\"13\" x=\"172.5\" y=\"276.7795\">m</text><text fill=\"#000000\" font-family=\"sans-serif\" font-size=\"14\" font-weight=\"bold\" lengthAdjust=\"spacing\" textLength=\"50.0625\" x=\"189.5\" y=\"276.7795\">default</text><text fill=\"#000000\" font-family=\"sans-serif\" font-size=\"14\" lengthAdjust=\"spacing\" textLength=\"34\" x=\"243.5625\" y=\"276.7795\">= 10</text><text fill=\"#000000\" font-family=\"sans-serif\" font-size=\"14\" lengthAdjust=\"spacing\" textLength=\"47\" x=\"172.5\" y=\"293.0764\">n = 20</text><text fill=\"#000000\" font-family=\"sans-serif\" font-size=\"14\" font-style=\"italic\" lengthAdjust=\"spacing\" textLength=\"66\" x=\"192.0313\" y=\"261.6123\">attributes</text></g></a><!--MD5=[09b614a08d8cba4a07c9adeb5e0fee81]\n",
       "class E3--><a href=\"psysml:f9c62a8d-8a1e-4486-94b1-ee59692b29ae\" target=\"_top\" title=\"psysml:f9c62a8d-8a1e-4486-94b1-ee59692b29ae\" xlink:actuate=\"onRequest\" xlink:href=\"psysml:f9c62a8d-8a1e-4486-94b1-ee59692b29ae\" xlink:show=\"new\" xlink:title=\"psysml:f9c62a8d-8a1e-4486-94b1-ee59692b29ae\" xlink:type=\"simple\"><g id=\"elem_E3\"><rect fill=\"#FFFFFF\" height=\"91.3781\" id=\"E3\" rx=\"10\" ry=\"10\" style=\"stroke:#181818;stroke-width:0.5;\" width=\"74\" x=\"262\" y=\"49.5\"/><text fill=\"#000000\" font-family=\"sans-serif\" font-size=\"12\" font-style=\"italic\" lengthAdjust=\"spacing\" textLength=\"40\" x=\"279\" y=\"65.6387\">«part»</text><text fill=\"#000000\" font-family=\"sans-serif\" font-size=\"14\" lengthAdjust=\"spacing\" textLength=\"34\" x=\"278\" y=\"81.4639\">v1: V</text><line style=\"stroke:#181818;stroke-width:0.5;\" x1=\"263\" x2=\"335\" y1=\"89.7656\" y2=\"89.7656\"/><text fill=\"#000000\" font-family=\"sans-serif\" font-size=\"14\" lengthAdjust=\"spacing\" textLength=\"51\" x=\"268\" y=\"117.2795\">m = 20</text><text fill=\"#000000\" font-family=\"sans-serif\" font-size=\"14\" font-style=\"italic\" lengthAdjust=\"spacing\" textLength=\"61\" x=\"268\" y=\"133.5764\">:&gt;&gt;V::m</text><text fill=\"#000000\" font-family=\"sans-serif\" font-size=\"14\" font-style=\"italic\" lengthAdjust=\"spacing\" textLength=\"66\" x=\"266\" y=\"102.1123\">attributes</text></g></a><!--MD5=[ebbe1d658d1005bcc118a6aa81145e00]\n",
       "class E4--><a href=\"psysml:ad7d8f37-2b75-4e7f-880b-981718b0db98\" target=\"_top\" title=\"psysml:ad7d8f37-2b75-4e7f-880b-981718b0db98\" xlink:actuate=\"onRequest\" xlink:href=\"psysml:ad7d8f37-2b75-4e7f-880b-981718b0db98\" xlink:show=\"new\" xlink:title=\"psysml:ad7d8f37-2b75-4e7f-880b-981718b0db98\" xlink:type=\"simple\"><g id=\"elem_E4\"><rect fill=\"#FFFFFF\" height=\"107.675\" id=\"E4\" style=\"stroke:#181818;stroke-width:0.5;\" width=\"108.0625\" x=\"119\" y=\"41\"/><text fill=\"#000000\" font-family=\"sans-serif\" font-size=\"12\" font-style=\"italic\" lengthAdjust=\"spacing\" textLength=\"68\" x=\"139.0313\" y=\"57.1387\">«part  def»</text><text fill=\"#000000\" font-family=\"sans-serif\" font-size=\"14\" lengthAdjust=\"spacing\" textLength=\"13\" x=\"166.5313\" y=\"72.9639\">W</text><line style=\"stroke:#181818;stroke-width:0.5;\" x1=\"120\" x2=\"226.0625\" y1=\"81.2656\" y2=\"81.2656\"/><text fill=\"#000000\" font-family=\"sans-serif\" font-size=\"14\" lengthAdjust=\"spacing\" textLength=\"13\" x=\"125\" y=\"108.7795\">m</text><text fill=\"#000000\" font-family=\"sans-serif\" font-size=\"14\" font-weight=\"bold\" lengthAdjust=\"spacing\" textLength=\"50.0625\" x=\"142\" y=\"108.7795\">default</text><text fill=\"#000000\" font-family=\"sans-serif\" font-size=\"14\" lengthAdjust=\"spacing\" textLength=\"25\" x=\"196.0625\" y=\"108.7795\">= n</text><text fill=\"#000000\" font-family=\"sans-serif\" font-size=\"14\" font-style=\"italic\" lengthAdjust=\"spacing\" textLength=\"61\" x=\"125\" y=\"125.0764\">:&gt;&gt;V::m</text><text fill=\"#000000\" font-family=\"sans-serif\" font-size=\"14\" lengthAdjust=\"spacing\" textLength=\"59\" x=\"125\" y=\"141.3732\">^n = 20</text><text fill=\"#000000\" font-family=\"sans-serif\" font-size=\"14\" font-style=\"italic\" lengthAdjust=\"spacing\" textLength=\"66\" x=\"140.0313\" y=\"93.6123\">attributes</text></g></a><!--MD5=[270fce915f116d4de14055a7c1d9a0f3]\n",
       "class E5--><a href=\"psysml:fd52748d-5cd7-4973-9bed-274bef6831d2\" target=\"_top\" title=\"psysml:fd52748d-5cd7-4973-9bed-274bef6831d2\" xlink:actuate=\"onRequest\" xlink:href=\"psysml:fd52748d-5cd7-4973-9bed-274bef6831d2\" xlink:show=\"new\" xlink:title=\"psysml:fd52748d-5cd7-4973-9bed-274bef6831d2\" xlink:type=\"simple\"><g id=\"elem_E5\"><rect fill=\"#FFFFFF\" height=\"75.0813\" id=\"E5\" rx=\"10\" ry=\"10\" style=\"stroke:#181818;stroke-width:0.5;\" width=\"52\" x=\"32\" y=\"57.5\"/><text fill=\"#000000\" font-family=\"sans-serif\" font-size=\"12\" font-style=\"italic\" lengthAdjust=\"spacing\" textLength=\"40\" x=\"38\" y=\"73.6387\">«part»</text><text fill=\"#000000\" font-family=\"sans-serif\" font-size=\"14\" lengthAdjust=\"spacing\" textLength=\"16\" x=\"46\" y=\"89.4639\">v2</text><line style=\"stroke:#181818;stroke-width:0.5;\" x1=\"33\" x2=\"83\" y1=\"97.7656\" y2=\"97.7656\"/><text fill=\"#000000\" font-family=\"sans-serif\" font-size=\"14\" lengthAdjust=\"spacing\" textLength=\"39\" x=\"38\" y=\"125.2795\">= W()</text><text fill=\"#000000\" font-family=\"sans-serif\" font-size=\"14\" font-style=\"italic\" lengthAdjust=\"spacing\" textLength=\"44\" x=\"36\" y=\"110.1123\">values</text></g></a><!--MD5=[05d275557350bfb9b23a4ef7222b4c39]\n",
       "link E3 to E2--><g id=\"link_E3_E2\"><a href=\"psysml:1a78d8f2-030e-492a-8201-32cffefdc08b\" target=\"_top\" title=\"psysml:1a78d8f2-030e-492a-8201-32cffefdc08b\" xlink:actuate=\"onRequest\" xlink:href=\"psysml:1a78d8f2-030e-492a-8201-32cffefdc08b\" xlink:show=\"new\" xlink:title=\"psysml:1a78d8f2-030e-492a-8201-32cffefdc08b\" xlink:type=\"simple\"><path d=\"M272.75,140.71 C272.75,140.71 272.75,188.79 272.75,188.79 \" fill=\"none\" id=\"E3-to-E2\" style=\"stroke:#181818;stroke-width:1.0;\"/><polygon fill=\"#FFFFFF\" points=\"272.75,208.79,265.75,189.79,279.75,189.79,272.75,208.79\" style=\"stroke:#181818;stroke-width:1.0;\"/><ellipse cx=\"267.75\" cy=\"184.09\" fill=\"#181818\" rx=\"2\" ry=\"2\" style=\"stroke:#181818;stroke-width:1.0;\"/><ellipse cx=\"277.75\" cy=\"184.09\" fill=\"#181818\" rx=\"2\" ry=\"2\" style=\"stroke:#181818;stroke-width:1.0;\"/></a></g><!--MD5=[185131fc0dcab0a4505a2ebe144e961b]\n",
       "link E4 to E2--><g id=\"link_E4_E2\"><a href=\"psysml:5695b7ea-3fef-47ac-8247-2c32b379aa0a\" target=\"_top\" title=\"psysml:5695b7ea-3fef-47ac-8247-2c32b379aa0a\" xlink:actuate=\"onRequest\" xlink:href=\"psysml:5695b7ea-3fef-47ac-8247-2c32b379aa0a\" xlink:show=\"new\" xlink:title=\"psysml:5695b7ea-3fef-47ac-8247-2c32b379aa0a\" xlink:type=\"simple\"><path d=\"M196.75,149.44 C196.75,149.44 196.75,188.79 196.75,188.79 \" fill=\"none\" id=\"E4-to-E2\" style=\"stroke:#181818;stroke-width:1.0;\"/><polygon fill=\"none\" points=\"203.75,188.79,196.75,208.79,189.75,188.79,203.75,188.79\" style=\"stroke:#181818;stroke-width:1.0;\"/></a></g><!--MD5=[2186afef6ac0be86589636200fe8657c]\n",
       "@startuml\r\n",
       "skin sysmlbw\r\n",
       "skinparam monochrome true\r\n",
       "skinparam wrapWidth 300\r\n",
       "hide circle\r\n",
       "skinparam linetype ortho\r\n",
       "\r\n",
       "package \"DefaultValueTest\" as E1  [[psysml:7da0ff95-83c9-4c69-ab50-6e4dec268467 ]]  {\r\n",
       "comp def \"V\" as E2  <<(T,blue) part  def>> [[psysml:98a54266-dd8e-4aee-8801-c30b6645e897 ]] {\r\n",
       "##//attributes//##\r\n",
       "m<b> default </b><U+003D> 10\r\n",
       "n <U+003D> 20\r\n",
       "}\r\n",
       "comp usage \"v1: V  \" as E3  <<(T,blue) part>> [[psysml:f9c62a8d-8a1e-4486-94b1-ee59692b29ae ]] {\r\n",
       "##//attributes//##\r\n",
       "m <U+003D> 20\\n//:>>V::m// \r\n",
       "}\r\n",
       "comp def \"W\" as E4  <<(T,blue) part  def>> [[psysml:ad7d8f37-2b75-4e7f-880b-981718b0db98 ]] {\r\n",
       "##//attributes//##\r\n",
       "m<b> default </b><U+003D> n\\n//:>>V::m// \r\n",
       "^n <U+003D> 20\r\n",
       "}\r\n",
       "comp usage \"v2  \" as E5  <<(T,blue) part>> [[psysml:fd52748d-5cd7-4973-9bed-274bef6831d2 ]] {\r\n",
       "##//values//##\r\n",
       " <U+003D> W()\r\n",
       "}\r\n",
       "}\r\n",
       "E3 - -:|> E2 [[psysml:1a78d8f2-030e-492a-8201-32cffefdc08b ]] \r\n",
       "E4 - -|> E2 [[psysml:5695b7ea-3fef-47ac-8247-2c32b379aa0a ]] \r\n",
       "@enduml\r\n",
       "\n",
       "PlantUML version 1.2022.7(Mon Aug 22 17:01:30 UTC 2022)\n",
       "(EPL source distribution)\n",
       "Java Runtime: OpenJDK Runtime Environment\n",
       "JVM: OpenJDK 64-Bit Server VM\n",
       "Default Encoding: UTF-8\n",
       "Language: en\n",
       "Country: null\n",
       "--></g></svg>"
      ]
     },
     "execution_count": 52,
     "metadata": {},
     "output_type": "execute_result"
    }
   ],
   "source": [
    "%viz --style=\"ORTHOLINE\" --view=\"Tree\" \"DefaultValueTest\""
   ]
  },
  {
   "cell_type": "code",
   "execution_count": 53,
   "id": "64a2dd62",
   "metadata": {
    "execution": {
     "iopub.execute_input": "2024-12-16T14:21:31.101047Z",
     "iopub.status.busy": "2024-12-16T14:21:31.100726Z",
     "iopub.status.idle": "2024-12-16T14:21:31.106397Z",
     "shell.execute_reply": "2024-12-16T14:21:31.106181Z"
    }
   },
   "outputs": [
    {
     "data": {
      "image/svg+xml": [
       "<?xml version=\"1.0\" encoding=\"UTF-8\" standalone=\"no\"?><svg xmlns=\"http://www.w3.org/2000/svg\" xmlns:xlink=\"http://www.w3.org/1999/xlink\" contentStyleType=\"text/css\" height=\"10px\" preserveAspectRatio=\"none\" style=\"width:10px;height:10px;background:#FFFFFF;\" version=\"1.1\" viewBox=\"0 0 10 10\" width=\"10px\" zoomAndPan=\"magnify\"><defs/><g><!--MD5=[db5337d1ba6fd3a35e07e04988169323]\n",
       "@startuml\r\n",
       "skin sysmlbw\r\n",
       "skinparam monochrome true\r\n",
       "skinparam wrapWidth 300\r\n",
       "hide circle\r\n",
       "skinparam linetype ortho\r\n",
       "\r\n",
       "@enduml\r\n",
       "\n",
       "PlantUML version 1.2022.7(Mon Aug 22 17:01:30 UTC 2022)\n",
       "(EPL source distribution)\n",
       "Java Runtime: OpenJDK Runtime Environment\n",
       "JVM: OpenJDK 64-Bit Server VM\n",
       "Default Encoding: UTF-8\n",
       "Language: en\n",
       "Country: null\n",
       "--></g></svg>"
      ]
     },
     "execution_count": 53,
     "metadata": {},
     "output_type": "execute_result"
    }
   ],
   "source": [
    "%viz --style=\"ORTHOLINE\" --view=\"State\" \"DefaultValueTest\""
   ]
  },
  {
   "cell_type": "code",
   "execution_count": 54,
   "id": "880ab85e",
   "metadata": {
    "execution": {
     "iopub.execute_input": "2024-12-16T14:21:31.162456Z",
     "iopub.status.busy": "2024-12-16T14:21:31.162187Z",
     "iopub.status.idle": "2024-12-16T14:21:31.191255Z",
     "shell.execute_reply": "2024-12-16T14:21:31.190963Z"
    }
   },
   "outputs": [
    {
     "data": {
      "image/svg+xml": [
       "<?xml version=\"1.0\" encoding=\"UTF-8\" standalone=\"no\"?><svg xmlns=\"http://www.w3.org/2000/svg\" xmlns:xlink=\"http://www.w3.org/1999/xlink\" contentStyleType=\"text/css\" height=\"452px\" preserveAspectRatio=\"none\" style=\"width:656px;height:452px;background:#FFFFFF;\" version=\"1.1\" viewBox=\"0 0 656 452\" width=\"656px\" zoomAndPan=\"magnify\"><defs/><g><!--MD5=[fbc87193dbaf4d95561dea2c320d4a47]\n",
       "cluster E1--><g id=\"cluster_E1\"><a href=\"psysml:7da0ff95-83c9-4c69-ab50-6e4dec268467\" target=\"_top\" title=\"psysml:7da0ff95-83c9-4c69-ab50-6e4dec268467\" xlink:actuate=\"onRequest\" xlink:href=\"psysml:7da0ff95-83c9-4c69-ab50-6e4dec268467\" xlink:show=\"new\" xlink:title=\"psysml:7da0ff95-83c9-4c69-ab50-6e4dec268467\" xlink:type=\"simple\"><polygon fill=\"none\" points=\"16,6,147,6,154,28.2969,639,28.2969,639,445,16,445,16,6\" style=\"stroke:#000000;stroke-width:1.5;\"/><line style=\"stroke:#000000;stroke-width:1.5;\" x1=\"16\" x2=\"154\" y1=\"28.2969\" y2=\"28.2969\"/><text fill=\"#000000\" font-family=\"sans-serif\" font-size=\"14\" font-weight=\"bold\" lengthAdjust=\"spacing\" textLength=\"125\" x=\"20\" y=\"20.9951\">DefaultValueTest</text></a></g><!--MD5=[e4f7fae6ed58524ba242bb0b0d3be6b7]\n",
       "cluster E2--><g id=\"cluster_E2\"><a href=\"psysml:98a54266-dd8e-4aee-8801-c30b6645e897\" target=\"_top\" title=\"psysml:98a54266-dd8e-4aee-8801-c30b6645e897\" xlink:actuate=\"onRequest\" xlink:href=\"psysml:98a54266-dd8e-4aee-8801-c30b6645e897\" xlink:show=\"new\" xlink:title=\"psysml:98a54266-dd8e-4aee-8801-c30b6645e897\" xlink:type=\"simple\"><rect fill=\"#FFFFFF\" height=\"158\" id=\"E2\" style=\"stroke:#383838;stroke-width:1.5;\" width=\"278\" x=\"329\" y=\"255\"/><text fill=\"#000000\" font-family=\"sans-serif\" font-size=\"12\" font-style=\"italic\" lengthAdjust=\"spacing\" textLength=\"68\" x=\"434\" y=\"271.1387\">«part  def»</text><text fill=\"#000000\" font-family=\"sans-serif\" font-size=\"14\" lengthAdjust=\"spacing\" textLength=\"9\" x=\"463.5\" y=\"286.9639\">V</text><line style=\"stroke:#383838;stroke-width:1.0;\" x1=\"329\" x2=\"607\" y1=\"295.2656\" y2=\"295.2656\"/></a></g><!--MD5=[de5ec2e2e8f62f467e546659f5068c88]\n",
       "cluster E5--><g id=\"cluster_E5\"><a href=\"psysml:f9c62a8d-8a1e-4486-94b1-ee59692b29ae\" target=\"_top\" title=\"psysml:f9c62a8d-8a1e-4486-94b1-ee59692b29ae\" xlink:actuate=\"onRequest\" xlink:href=\"psysml:f9c62a8d-8a1e-4486-94b1-ee59692b29ae\" xlink:show=\"new\" xlink:title=\"psysml:f9c62a8d-8a1e-4486-94b1-ee59692b29ae\" xlink:type=\"simple\"><rect fill=\"#FFFFFF\" height=\"142\" id=\"E5\" rx=\"10\" ry=\"10\" style=\"stroke:#383838;stroke-width:1.5;\" width=\"139\" x=\"390\" y=\"73\"/><text fill=\"#000000\" font-family=\"sans-serif\" font-size=\"14\" lengthAdjust=\"spacing\" textLength=\"34\" x=\"442.5\" y=\"90.9951\">v1: V</text><line style=\"stroke:#383838;stroke-width:1.0;\" x1=\"390\" x2=\"529\" y1=\"99.2969\" y2=\"99.2969\"/></a></g><!--MD5=[168fadf3d0c3fd93dd5d6da1b1d7ab76]\n",
       "cluster E7--><g id=\"cluster_E7\"><a href=\"psysml:ad7d8f37-2b75-4e7f-880b-981718b0db98\" target=\"_top\" title=\"psysml:ad7d8f37-2b75-4e7f-880b-981718b0db98\" xlink:actuate=\"onRequest\" xlink:href=\"psysml:ad7d8f37-2b75-4e7f-880b-981718b0db98\" xlink:show=\"new\" xlink:title=\"psysml:ad7d8f37-2b75-4e7f-880b-981718b0db98\" xlink:type=\"simple\"><rect fill=\"#FFFFFF\" height=\"356\" id=\"E7\" style=\"stroke:#383838;stroke-width:1.5;\" width=\"163\" x=\"126\" y=\"57\"/><text fill=\"#000000\" font-family=\"sans-serif\" font-size=\"12\" font-style=\"italic\" lengthAdjust=\"spacing\" textLength=\"68\" x=\"173.5\" y=\"73.1387\">«part  def»</text><text fill=\"#000000\" font-family=\"sans-serif\" font-size=\"14\" lengthAdjust=\"spacing\" textLength=\"13\" x=\"201\" y=\"88.9639\">W</text><line style=\"stroke:#383838;stroke-width:1.0;\" x1=\"126\" x2=\"289\" y1=\"97.2656\" y2=\"97.2656\"/></a></g><!--MD5=[09b614a08d8cba4a07c9adeb5e0fee81]\n",
       "class E3--><a href=\"psysml:6c5b3b06-fe87-444e-9dd6-6649acbff1c0\" target=\"_top\" title=\"psysml:6c5b3b06-fe87-444e-9dd6-6649acbff1c0\" xlink:actuate=\"onRequest\" xlink:href=\"psysml:6c5b3b06-fe87-444e-9dd6-6649acbff1c0\" xlink:show=\"new\" xlink:title=\"psysml:6c5b3b06-fe87-444e-9dd6-6649acbff1c0\" xlink:type=\"simple\"><g id=\"elem_E3\"><rect fill=\"#FFFFFF\" height=\"75.0813\" id=\"E3\" rx=\"10\" ry=\"10\" style=\"stroke:#181818;stroke-width:0.5;\" width=\"104.0625\" x=\"479\" y=\"314\"/><text fill=\"#000000\" font-family=\"sans-serif\" font-size=\"12\" font-style=\"italic\" lengthAdjust=\"spacing\" textLength=\"69\" x=\"496.5313\" y=\"330.1387\">«attribute»</text><text fill=\"#000000\" font-family=\"sans-serif\" font-size=\"14\" lengthAdjust=\"spacing\" textLength=\"13\" x=\"520.5313\" y=\"345.9639\">m</text><line style=\"stroke:#181818;stroke-width:0.5;\" x1=\"480\" x2=\"582.0625\" y1=\"354.2656\" y2=\"354.2656\"/><text fill=\"#000000\" font-family=\"sans-serif\" font-size=\"14\" font-weight=\"bold\" lengthAdjust=\"spacing\" textLength=\"50.0625\" x=\"489\" y=\"381.7795\">default</text><text fill=\"#000000\" font-family=\"sans-serif\" font-size=\"14\" lengthAdjust=\"spacing\" textLength=\"34\" x=\"543.0625\" y=\"381.7795\">= 10</text><text fill=\"#000000\" font-family=\"sans-serif\" font-size=\"14\" font-style=\"italic\" lengthAdjust=\"spacing\" textLength=\"44\" x=\"509.0313\" y=\"366.6123\">values</text></g></a><!--MD5=[ebbe1d658d1005bcc118a6aa81145e00]\n",
       "class E4--><a href=\"psysml:d4a77e27-0ca8-4584-84f6-1d4e52d400d2\" target=\"_top\" title=\"psysml:d4a77e27-0ca8-4584-84f6-1d4e52d400d2\" xlink:actuate=\"onRequest\" xlink:href=\"psysml:d4a77e27-0ca8-4584-84f6-1d4e52d400d2\" xlink:show=\"new\" xlink:title=\"psysml:d4a77e27-0ca8-4584-84f6-1d4e52d400d2\" xlink:type=\"simple\"><g id=\"elem_E4\"><rect fill=\"#FFFFFF\" height=\"75.0813\" id=\"E4\" rx=\"10\" ry=\"10\" style=\"stroke:#181818;stroke-width:0.5;\" width=\"71\" x=\"372.5\" y=\"314\"/><text fill=\"#000000\" font-family=\"sans-serif\" font-size=\"12\" font-style=\"italic\" lengthAdjust=\"spacing\" textLength=\"69\" x=\"373.5\" y=\"330.1387\">«attribute»</text><text fill=\"#000000\" font-family=\"sans-serif\" font-size=\"14\" lengthAdjust=\"spacing\" textLength=\"9\" x=\"399.5\" y=\"345.9639\">n</text><line style=\"stroke:#181818;stroke-width:0.5;\" x1=\"373.5\" x2=\"442.5\" y1=\"354.2656\" y2=\"354.2656\"/><text fill=\"#000000\" font-family=\"sans-serif\" font-size=\"14\" lengthAdjust=\"spacing\" textLength=\"34\" x=\"378.5\" y=\"381.7795\">= 20</text><text fill=\"#000000\" font-family=\"sans-serif\" font-size=\"14\" font-style=\"italic\" lengthAdjust=\"spacing\" textLength=\"44\" x=\"386\" y=\"366.6123\">values</text></g></a><!--MD5=[60a26617385b1d2d0262a64233df1f8d]\n",
       "class E6--><a href=\"psysml:c20e1062-5069-459a-93a7-f31b5f49cd74\" target=\"_top\" title=\"psysml:c20e1062-5069-459a-93a7-f31b5f49cd74\" xlink:actuate=\"onRequest\" xlink:href=\"psysml:c20e1062-5069-459a-93a7-f31b5f49cd74\" xlink:show=\"new\" xlink:title=\"psysml:c20e1062-5069-459a-93a7-f31b5f49cd74\" xlink:type=\"simple\"><g id=\"elem_E6\"><rect fill=\"#FFFFFF\" height=\"75.0813\" id=\"E6\" rx=\"10\" ry=\"10\" style=\"stroke:#181818;stroke-width:0.5;\" width=\"71\" x=\"433.5\" y=\"116\"/><text fill=\"#000000\" font-family=\"sans-serif\" font-size=\"12\" font-style=\"italic\" lengthAdjust=\"spacing\" textLength=\"69\" x=\"434.5\" y=\"132.1387\">«attribute»</text><text fill=\"#000000\" font-family=\"sans-serif\" font-size=\"14\" lengthAdjust=\"spacing\" textLength=\"13\" x=\"458.5\" y=\"147.9639\">m</text><line style=\"stroke:#181818;stroke-width:0.5;\" x1=\"434.5\" x2=\"503.5\" y1=\"156.2656\" y2=\"156.2656\"/><text fill=\"#000000\" font-family=\"sans-serif\" font-size=\"14\" lengthAdjust=\"spacing\" textLength=\"34\" x=\"439.5\" y=\"183.7795\">= 20</text><text fill=\"#000000\" font-family=\"sans-serif\" font-size=\"14\" font-style=\"italic\" lengthAdjust=\"spacing\" textLength=\"44\" x=\"447\" y=\"168.6123\">values</text></g></a><!--MD5=[b9389687b975829384b498ac4b7476b2]\n",
       "class E8--><a href=\"psysml:073a166e-558c-466c-90f5-50af09b65e43\" target=\"_top\" title=\"psysml:073a166e-558c-466c-90f5-50af09b65e43\" xlink:actuate=\"onRequest\" xlink:href=\"psysml:073a166e-558c-466c-90f5-50af09b65e43\" xlink:show=\"new\" xlink:title=\"psysml:073a166e-558c-466c-90f5-50af09b65e43\" xlink:type=\"simple\"><g id=\"elem_E8\"><rect fill=\"#FFFFFF\" height=\"75.0813\" id=\"E8\" rx=\"10\" ry=\"10\" style=\"stroke:#181818;stroke-width:0.5;\" width=\"95.0625\" x=\"150.5\" y=\"116\"/><text fill=\"#000000\" font-family=\"sans-serif\" font-size=\"12\" font-style=\"italic\" lengthAdjust=\"spacing\" textLength=\"69\" x=\"163.5313\" y=\"132.1387\">«attribute»</text><text fill=\"#000000\" font-family=\"sans-serif\" font-size=\"14\" lengthAdjust=\"spacing\" textLength=\"13\" x=\"187.5313\" y=\"147.9639\">m</text><line style=\"stroke:#181818;stroke-width:0.5;\" x1=\"151.5\" x2=\"244.5625\" y1=\"156.2656\" y2=\"156.2656\"/><text fill=\"#000000\" font-family=\"sans-serif\" font-size=\"14\" font-weight=\"bold\" lengthAdjust=\"spacing\" textLength=\"50.0625\" x=\"160.5\" y=\"183.7795\">default</text><text fill=\"#000000\" font-family=\"sans-serif\" font-size=\"14\" lengthAdjust=\"spacing\" textLength=\"25\" x=\"214.5625\" y=\"183.7795\">= n</text><text fill=\"#000000\" font-family=\"sans-serif\" font-size=\"14\" font-style=\"italic\" lengthAdjust=\"spacing\" textLength=\"44\" x=\"176.0313\" y=\"168.6123\">values</text></g></a><!--MD5=[fd4143e9d270a159db93a4ea2a975926]\n",
       "class E9--><a href=\"psysml:d4a77e27-0ca8-4584-84f6-1d4e52d400d2\" target=\"_top\" title=\"psysml:d4a77e27-0ca8-4584-84f6-1d4e52d400d2\" xlink:actuate=\"onRequest\" xlink:href=\"psysml:d4a77e27-0ca8-4584-84f6-1d4e52d400d2\" xlink:show=\"new\" xlink:title=\"psysml:d4a77e27-0ca8-4584-84f6-1d4e52d400d2\" xlink:type=\"simple\"><g id=\"elem_E9\"><rect fill=\"#FFFFFF\" height=\"75.0813\" id=\"E9\" rx=\"10\" ry=\"10\" style=\"stroke:#181818;stroke-width:0.5;\" width=\"71\" x=\"162.5\" y=\"314\"/><text fill=\"#000000\" font-family=\"sans-serif\" font-size=\"12\" font-style=\"italic\" lengthAdjust=\"spacing\" textLength=\"69\" x=\"163.5\" y=\"330.1387\">«attribute»</text><text fill=\"#000000\" font-family=\"sans-serif\" font-size=\"14\" lengthAdjust=\"spacing\" textLength=\"21\" x=\"183.5\" y=\"345.9639\">^n</text><line style=\"stroke:#181818;stroke-width:0.5;\" x1=\"163.5\" x2=\"232.5\" y1=\"354.2656\" y2=\"354.2656\"/><text fill=\"#000000\" font-family=\"sans-serif\" font-size=\"14\" lengthAdjust=\"spacing\" textLength=\"34\" x=\"168.5\" y=\"381.7795\">= 20</text><text fill=\"#000000\" font-family=\"sans-serif\" font-size=\"14\" font-style=\"italic\" lengthAdjust=\"spacing\" textLength=\"44\" x=\"176\" y=\"366.6123\">values</text></g></a><g><a href=\"psysml:fd52748d-5cd7-4973-9bed-274bef6831d2\" target=\"_top\" title=\"psysml:fd52748d-5cd7-4973-9bed-274bef6831d2\" xlink:actuate=\"onRequest\" xlink:href=\"psysml:fd52748d-5cd7-4973-9bed-274bef6831d2\" xlink:show=\"new\" xlink:title=\"psysml:fd52748d-5cd7-4973-9bed-274bef6831d2\" xlink:type=\"simple\"><rect fill=\"#FFFFFF\" height=\"40\" id=\"E10\" rx=\"10\" ry=\"10\" style=\"stroke:#383838;stroke-width:1.5;\" width=\"70\" x=\"32\" y=\"133.5\"/><text fill=\"#000000\" font-family=\"sans-serif\" font-size=\"14\" lengthAdjust=\"spacing\" textLength=\"59\" x=\"37.5\" y=\"151.4951\">v2 = W()</text></a></g><!--MD5=[a717450b82c80b9240a525fa862496af]\n",
       "link E6 to E3--><g id=\"link_E6_E3\"><a href=\"psysml:bbca0750-a9c1-46d9-82f5-94045bc6258a\" target=\"_top\" title=\"psysml:bbca0750-a9c1-46d9-82f5-94045bc6258a\" xlink:actuate=\"onRequest\" xlink:href=\"psysml:bbca0750-a9c1-46d9-82f5-94045bc6258a\" xlink:show=\"new\" xlink:title=\"psysml:bbca0750-a9c1-46d9-82f5-94045bc6258a\" xlink:type=\"simple\"><path d=\"M496,191.21 C496,191.21 496,293.93 496,293.93 \" fill=\"none\" id=\"E6-to-E3\" style=\"stroke:#181818;stroke-width:1.0;\"/><polygon fill=\"#FFFFFF\" points=\"496,313.93,489,294.93,503,294.93,496,313.93\" style=\"stroke:#181818;stroke-width:1.0;\"/><line style=\"stroke:#181818;stroke-width:2.0;\" x1=\"489\" x2=\"503\" y1=\"291.13\" y2=\"291.13\"/></a></g><!--MD5=[15ebcb19ae302d9b601edb458606d402]\n",
       "link E5 to E2--><g id=\"link_E5_E2\"><a href=\"psysml:1a78d8f2-030e-492a-8201-32cffefdc08b\" target=\"_top\" title=\"psysml:1a78d8f2-030e-492a-8201-32cffefdc08b\" xlink:actuate=\"onRequest\" xlink:href=\"psysml:1a78d8f2-030e-492a-8201-32cffefdc08b\" xlink:show=\"new\" xlink:title=\"psysml:1a78d8f2-030e-492a-8201-32cffefdc08b\" xlink:type=\"simple\"><path d=\"M389.9926,154 C389.9103,154 389.8274,154 389.7441,154 C389.0775,154 388.3797,154 387.6545,154 C381.8528,154 374.2906,154 366.7863,154 C351.7775,154 337,154 337,154 C337,154 337,200.3375 337,248.1225 C337,249.6158 337,251.1105 337,252.6052 C337,253.3526 337,254.1 337,254.8472 \" fill=\"none\" id=\"E5-to-E2\" style=\"stroke:#181818;stroke-width:1.0;\"/><polygon fill=\"#FFFFFF\" points=\"337,254.8472,330,235.8472,344,235.8472,337,254.8472\" style=\"stroke:#181818;stroke-width:1.0;\"/><ellipse cx=\"332\" cy=\"230.1472\" fill=\"#181818\" rx=\"2\" ry=\"2\" style=\"stroke:#181818;stroke-width:1.0;\"/><ellipse cx=\"342\" cy=\"230.1472\" fill=\"#181818\" rx=\"2\" ry=\"2\" style=\"stroke:#181818;stroke-width:1.0;\"/></a></g><!--MD5=[583832df87f4419a098336a29a52fa00]\n",
       "link E7 to E2--><g id=\"link_E7_E2\"><a href=\"psysml:5695b7ea-3fef-47ac-8247-2c32b379aa0a\" target=\"_top\" title=\"psysml:5695b7ea-3fef-47ac-8247-2c32b379aa0a\" xlink:actuate=\"onRequest\" xlink:href=\"psysml:5695b7ea-3fef-47ac-8247-2c32b379aa0a\" xlink:show=\"new\" xlink:title=\"psysml:5695b7ea-3fef-47ac-8247-2c32b379aa0a\" xlink:type=\"simple\"><path d=\"M289.0302,352 C289.1072,352 289.1846,352 289.2623,352 C294.2403,352 300.9119,352 307.6863,352 C314.4606,352 321.3378,352 326.727,352 C327.4007,352 328.0511,352 328.6751,352 C328.7531,352 328.8307,352 328.9079,352 \" fill=\"none\" id=\"E7-to-E2\" style=\"stroke:#181818;stroke-width:1.0;\"/><polygon fill=\"#FFFFFF\" points=\"328.9079,352,309.9079,345,309.9079,359,328.9079,352\" style=\"stroke:#181818;stroke-width:1.0;\"/></a></g><!--MD5=[95fa686b5a16158bcdbcaeead89f639b]\n",
       "link E8 to E3--><g id=\"link_E8_E3\"><a href=\"psysml:921fa623-ecc5-4b2e-b8c8-ebddf6697201\" target=\"_top\" title=\"psysml:921fa623-ecc5-4b2e-b8c8-ebddf6697201\" xlink:actuate=\"onRequest\" xlink:href=\"psysml:921fa623-ecc5-4b2e-b8c8-ebddf6697201\" xlink:show=\"new\" xlink:title=\"psysml:921fa623-ecc5-4b2e-b8c8-ebddf6697201\" xlink:type=\"simple\"><path d=\"M239.5,191.12 C239.5,219.29 239.5,253 239.5,253 C239.5,253 487.5,253 487.5,253 C487.5,253 487.5,293.98 487.5,293.98 \" fill=\"none\" id=\"E8-to-E3\" style=\"stroke:#181818;stroke-width:1.0;\"/><polygon fill=\"#FFFFFF\" points=\"487.5,313.98,480.5,294.98,494.5,294.98,487.5,313.98\" style=\"stroke:#181818;stroke-width:1.0;\"/><line style=\"stroke:#181818;stroke-width:2.0;\" x1=\"480.5\" x2=\"494.5\" y1=\"291.18\" y2=\"291.18\"/></a></g><!--MD5=[ed10624c06dd9a4fa49ccf290e8b16a8]\n",
       "link E8 to E9--><g id=\"link_E8_E9\"><a href=\"psysml:fc577d85-8ebe-448e-af16-5782109a2fa7\" target=\"_top\" title=\"psysml:fc577d85-8ebe-448e-af16-5782109a2fa7\" xlink:actuate=\"onRequest\" xlink:href=\"psysml:fc577d85-8ebe-448e-af16-5782109a2fa7\" xlink:show=\"new\" xlink:title=\"psysml:fc577d85-8ebe-448e-af16-5782109a2fa7\" xlink:type=\"simple\"><path d=\"M198,191.21 C198,226.44 198,278.75 198,313.93 \" fill=\"none\" id=\"E8-E9\" style=\"stroke:#181818;stroke-width:5.0;\"/><text fill=\"#000000\" font-family=\"sans-serif\" font-size=\"13\" lengthAdjust=\"spacing\" textLength=\"11\" x=\"186\" y=\"248.6369\">=</text></a></g><!--MD5=[f75cc628d5f2998f647e52c9d2c222e6]\n",
       "@startuml\r\n",
       "skin sysmlbw\r\n",
       "skinparam monochrome true\r\n",
       "skinparam wrapWidth 300\r\n",
       "hide circle\r\n",
       "skinparam linetype ortho\r\n",
       "skinparam ranksep 10\r\n",
       "skinparam rectangle {\r\n",
       " backgroundColor<<block>> LightGreen\r\n",
       "}\r\n",
       "\r\n",
       "package \"DefaultValueTest\" as E1  [[psysml:7da0ff95-83c9-4c69-ab50-6e4dec268467 ]]  {\r\n",
       "rec def \"V\" as E2  <<(T,blue) part  def>> [[psysml:98a54266-dd8e-4aee-8801-c30b6645e897 ]] {\r\n",
       "comp usage \"m  \" as E3  <<(T,blue) attribute>> [[psysml:6c5b3b06-fe87-444e-9dd6-6649acbff1c0 ]] {\r\n",
       "##//values//##\r\n",
       "<b> default </b><U+003D> 10\r\n",
       "}\r\n",
       "comp usage \"n  \" as E4  <<(T,blue) attribute>> [[psysml:d4a77e27-0ca8-4584-84f6-1d4e52d400d2 ]] {\r\n",
       "##//values//##\r\n",
       " <U+003D> 20\r\n",
       "}\r\n",
       "}\r\n",
       "rec usage \"v1: V\" as E5 [[psysml:f9c62a8d-8a1e-4486-94b1-ee59692b29ae ]] {\r\n",
       "comp usage \"m  \" as E6  <<(T,blue) attribute>> [[psysml:c20e1062-5069-459a-93a7-f31b5f49cd74 ]] {\r\n",
       "##//values//##\r\n",
       " <U+003D> 20\r\n",
       "}\r\n",
       "}\r\n",
       "rec def \"W\" as E7  <<(T,blue) part  def>> [[psysml:ad7d8f37-2b75-4e7f-880b-981718b0db98 ]] {\r\n",
       "comp usage \"m  \" as E8  <<(T,blue) attribute>> [[psysml:073a166e-558c-466c-90f5-50af09b65e43 ]] {\r\n",
       "##//values//##\r\n",
       "<b> default </b><U+003D> n\r\n",
       "}\r\n",
       "comp usage \"^n  \" as E9  <<(T,blue) attribute>> [[psysml:d4a77e27-0ca8-4584-84f6-1d4e52d400d2 ]] {\r\n",
       "##//values//##\r\n",
       " <U+003D> 20\r\n",
       "}\r\n",
       "}\r\n",
       "rec usage \"v2 <U+003D> W()\" as E10 [[psysml:fd52748d-5cd7-4973-9bed-274bef6831d2 ]] {\r\n",
       "}\r\n",
       "}\r\n",
       "E6 - -||> E3 [[psysml:bbca0750-a9c1-46d9-82f5-94045bc6258a ]] \r\n",
       "E5 - -:|> E2 [[psysml:1a78d8f2-030e-492a-8201-32cffefdc08b ]] \r\n",
       "E7 - -|> E2 [[psysml:5695b7ea-3fef-47ac-8247-2c32b379aa0a ]] \r\n",
       "E8 - -||> E3 [[psysml:921fa623-ecc5-4b2e-b8c8-ebddf6697201 ]] \r\n",
       "E8 -[thickness=5]- E9 [[psysml:fc577d85-8ebe-448e-af16-5782109a2fa7 ]] : =\r\n",
       "@enduml\r\n",
       "\n",
       "PlantUML version 1.2022.7(Mon Aug 22 17:01:30 UTC 2022)\n",
       "(EPL source distribution)\n",
       "Java Runtime: OpenJDK Runtime Environment\n",
       "JVM: OpenJDK 64-Bit Server VM\n",
       "Default Encoding: UTF-8\n",
       "Language: en\n",
       "Country: null\n",
       "--></g></svg>"
      ]
     },
     "execution_count": 54,
     "metadata": {},
     "output_type": "execute_result"
    }
   ],
   "source": [
    "%viz --style=\"ORTHOLINE\" --view=\"Interconnection\" \"DefaultValueTest\""
   ]
  },
  {
   "cell_type": "code",
   "execution_count": 55,
   "id": "41455c74",
   "metadata": {
    "execution": {
     "iopub.execute_input": "2024-12-16T14:21:31.245401Z",
     "iopub.status.busy": "2024-12-16T14:21:31.245184Z",
     "iopub.status.idle": "2024-12-16T14:21:31.249358Z",
     "shell.execute_reply": "2024-12-16T14:21:31.249116Z"
    }
   },
   "outputs": [
    {
     "data": {
      "image/svg+xml": [
       "<?xml version=\"1.0\" encoding=\"UTF-8\" standalone=\"no\"?><svg xmlns=\"http://www.w3.org/2000/svg\" xmlns:xlink=\"http://www.w3.org/1999/xlink\" contentStyleType=\"text/css\" height=\"10px\" preserveAspectRatio=\"none\" style=\"width:10px;height:10px;background:#FFFFFF;\" version=\"1.1\" viewBox=\"0 0 10 10\" width=\"10px\" zoomAndPan=\"magnify\"><defs/><g><!--MD5=[13654d10b9e2b79db36f00fd31e63fb2]\n",
       "@startuml\r\n",
       "skin sysmlbw\r\n",
       "skinparam monochrome true\r\n",
       "skinparam wrapWidth 300\r\n",
       "hide circle\r\n",
       "skinparam linetype ortho\r\n",
       "skinparam ranksep 8\r\n",
       "\r\n",
       "@enduml\r\n",
       "\n",
       "PlantUML version 1.2022.7(Mon Aug 22 17:01:30 UTC 2022)\n",
       "(EPL source distribution)\n",
       "Java Runtime: OpenJDK Runtime Environment\n",
       "JVM: OpenJDK 64-Bit Server VM\n",
       "Default Encoding: UTF-8\n",
       "Language: en\n",
       "Country: null\n",
       "--></g></svg>"
      ]
     },
     "execution_count": 55,
     "metadata": {},
     "output_type": "execute_result"
    }
   ],
   "source": [
    "%viz --style=\"ORTHOLINE\" --view=\"Action\" \"DefaultValueTest\""
   ]
  },
  {
   "cell_type": "code",
   "execution_count": 56,
   "id": "6608fe9b",
   "metadata": {
    "execution": {
     "iopub.execute_input": "2024-12-16T14:21:31.306841Z",
     "iopub.status.busy": "2024-12-16T14:21:31.306608Z",
     "iopub.status.idle": "2024-12-16T14:21:31.312773Z",
     "shell.execute_reply": "2024-12-16T14:21:31.312571Z"
    }
   },
   "outputs": [
    {
     "data": {
      "image/svg+xml": [
       "<?xml version=\"1.0\" encoding=\"UTF-8\" standalone=\"no\"?><svg xmlns=\"http://www.w3.org/2000/svg\" xmlns:xlink=\"http://www.w3.org/1999/xlink\" contentStyleType=\"text/css\" height=\"10px\" preserveAspectRatio=\"none\" style=\"width:10px;height:10px;background:#FFFFFF;\" version=\"1.1\" viewBox=\"0 0 10 10\" width=\"10px\" zoomAndPan=\"magnify\"><defs/><g><!--MD5=[5b6eb85285460e34b0e63326afe72cc5]\n",
       "@startuml\r\n",
       "skin sysmlbw\r\n",
       "skinparam monochrome true\r\n",
       "skinparam wrapWidth 300\r\n",
       "hide circle\r\n",
       "skinparam linetype ortho\r\n",
       "skinparam roundcorner 20\r\n",
       "skinparam BoxPadding 20\r\n",
       "skinparam SequenceBoxBackgroundColor #white\r\n",
       "skinparam style strictuml\r\n",
       "skinparam maxMessageSize 100\r\n",
       "\r\n",
       "@enduml\r\n",
       "\n",
       "PlantUML version 1.2022.7(Mon Aug 22 17:01:30 UTC 2022)\n",
       "(EPL source distribution)\n",
       "Java Runtime: OpenJDK Runtime Environment\n",
       "JVM: OpenJDK 64-Bit Server VM\n",
       "Default Encoding: UTF-8\n",
       "Language: en\n",
       "Country: null\n",
       "--></g></svg>"
      ]
     },
     "execution_count": 56,
     "metadata": {},
     "output_type": "execute_result"
    }
   ],
   "source": [
    "%viz --style=\"ORTHOLINE\" --view=\"Sequence\" \"DefaultValueTest\""
   ]
  },
  {
   "cell_type": "code",
   "execution_count": 57,
   "id": "18dd0671",
   "metadata": {
    "execution": {
     "iopub.execute_input": "2024-12-16T14:21:31.368582Z",
     "iopub.status.busy": "2024-12-16T14:21:31.368329Z",
     "iopub.status.idle": "2024-12-16T14:21:31.395383Z",
     "shell.execute_reply": "2024-12-16T14:21:31.394363Z"
    }
   },
   "outputs": [
    {
     "data": {
      "image/svg+xml": [
       "<?xml version=\"1.0\" encoding=\"UTF-8\" standalone=\"no\"?><svg xmlns=\"http://www.w3.org/2000/svg\" xmlns:xlink=\"http://www.w3.org/1999/xlink\" contentStyleType=\"text/css\" height=\"323px\" preserveAspectRatio=\"none\" style=\"width:369px;height:323px;background:#FFFFFF;\" version=\"1.1\" viewBox=\"0 0 369 323\" width=\"369px\" zoomAndPan=\"magnify\"><defs/><g><!--MD5=[fbc87193dbaf4d95561dea2c320d4a47]\n",
       "cluster E1--><g id=\"cluster_E1\"><a href=\"psysml:7da0ff95-83c9-4c69-ab50-6e4dec268467\" target=\"_top\" title=\"psysml:7da0ff95-83c9-4c69-ab50-6e4dec268467\" xlink:actuate=\"onRequest\" xlink:href=\"psysml:7da0ff95-83c9-4c69-ab50-6e4dec268467\" xlink:show=\"new\" xlink:title=\"psysml:7da0ff95-83c9-4c69-ab50-6e4dec268467\" xlink:type=\"simple\"><polygon fill=\"none\" points=\"16,6,147,6,154,28.2969,352,28.2969,352,316,16,316,16,6\" style=\"stroke:#000000;stroke-width:1.5;\"/><line style=\"stroke:#000000;stroke-width:1.5;\" x1=\"16\" x2=\"154\" y1=\"28.2969\" y2=\"28.2969\"/><text fill=\"#000000\" font-family=\"sans-serif\" font-size=\"14\" font-weight=\"bold\" lengthAdjust=\"spacing\" textLength=\"125\" x=\"20\" y=\"20.9951\">DefaultValueTest</text></a></g><!--MD5=[b4997ac47864f28c2f74865a473b2911]\n",
       "class E2--><a href=\"psysml:98a54266-dd8e-4aee-8801-c30b6645e897\" target=\"_top\" title=\"psysml:98a54266-dd8e-4aee-8801-c30b6645e897\" xlink:actuate=\"onRequest\" xlink:href=\"psysml:98a54266-dd8e-4aee-8801-c30b6645e897\" xlink:show=\"new\" xlink:title=\"psysml:98a54266-dd8e-4aee-8801-c30b6645e897\" xlink:type=\"simple\"><g id=\"elem_E2\"><rect fill=\"#FFFFFF\" height=\"91.3781\" id=\"E2\" style=\"stroke:#181818;stroke-width:0.5;\" width=\"117.0625\" x=\"166.5\" y=\"209\"/><text fill=\"#000000\" font-family=\"sans-serif\" font-size=\"12\" font-style=\"italic\" lengthAdjust=\"spacing\" textLength=\"68\" x=\"191.0313\" y=\"225.1387\">«part  def»</text><text fill=\"#000000\" font-family=\"sans-serif\" font-size=\"14\" lengthAdjust=\"spacing\" textLength=\"9\" x=\"220.5313\" y=\"240.9639\">V</text><line style=\"stroke:#181818;stroke-width:0.5;\" x1=\"167.5\" x2=\"282.5625\" y1=\"249.2656\" y2=\"249.2656\"/><text fill=\"#000000\" font-family=\"sans-serif\" font-size=\"14\" lengthAdjust=\"spacing\" textLength=\"13\" x=\"172.5\" y=\"276.7795\">m</text><text fill=\"#000000\" font-family=\"sans-serif\" font-size=\"14\" font-weight=\"bold\" lengthAdjust=\"spacing\" textLength=\"50.0625\" x=\"189.5\" y=\"276.7795\">default</text><text fill=\"#000000\" font-family=\"sans-serif\" font-size=\"14\" lengthAdjust=\"spacing\" textLength=\"34\" x=\"243.5625\" y=\"276.7795\">= 10</text><text fill=\"#000000\" font-family=\"sans-serif\" font-size=\"14\" lengthAdjust=\"spacing\" textLength=\"47\" x=\"172.5\" y=\"293.0764\">n = 20</text><text fill=\"#000000\" font-family=\"sans-serif\" font-size=\"14\" font-style=\"italic\" lengthAdjust=\"spacing\" textLength=\"66\" x=\"192.0313\" y=\"261.6123\">attributes</text></g></a><!--MD5=[09b614a08d8cba4a07c9adeb5e0fee81]\n",
       "class E3--><a href=\"psysml:f9c62a8d-8a1e-4486-94b1-ee59692b29ae\" target=\"_top\" title=\"psysml:f9c62a8d-8a1e-4486-94b1-ee59692b29ae\" xlink:actuate=\"onRequest\" xlink:href=\"psysml:f9c62a8d-8a1e-4486-94b1-ee59692b29ae\" xlink:show=\"new\" xlink:title=\"psysml:f9c62a8d-8a1e-4486-94b1-ee59692b29ae\" xlink:type=\"simple\"><g id=\"elem_E3\"><rect fill=\"#FFFFFF\" height=\"91.3781\" id=\"E3\" rx=\"10\" ry=\"10\" style=\"stroke:#181818;stroke-width:0.5;\" width=\"74\" x=\"262\" y=\"49.5\"/><text fill=\"#000000\" font-family=\"sans-serif\" font-size=\"12\" font-style=\"italic\" lengthAdjust=\"spacing\" textLength=\"40\" x=\"279\" y=\"65.6387\">«part»</text><text fill=\"#000000\" font-family=\"sans-serif\" font-size=\"14\" lengthAdjust=\"spacing\" textLength=\"34\" x=\"278\" y=\"81.4639\">v1: V</text><line style=\"stroke:#181818;stroke-width:0.5;\" x1=\"263\" x2=\"335\" y1=\"89.7656\" y2=\"89.7656\"/><text fill=\"#000000\" font-family=\"sans-serif\" font-size=\"14\" lengthAdjust=\"spacing\" textLength=\"51\" x=\"268\" y=\"117.2795\">m = 20</text><text fill=\"#000000\" font-family=\"sans-serif\" font-size=\"14\" font-style=\"italic\" lengthAdjust=\"spacing\" textLength=\"61\" x=\"268\" y=\"133.5764\">:&gt;&gt;V::m</text><text fill=\"#000000\" font-family=\"sans-serif\" font-size=\"14\" font-style=\"italic\" lengthAdjust=\"spacing\" textLength=\"66\" x=\"266\" y=\"102.1123\">attributes</text></g></a><!--MD5=[ebbe1d658d1005bcc118a6aa81145e00]\n",
       "class E4--><a href=\"psysml:ad7d8f37-2b75-4e7f-880b-981718b0db98\" target=\"_top\" title=\"psysml:ad7d8f37-2b75-4e7f-880b-981718b0db98\" xlink:actuate=\"onRequest\" xlink:href=\"psysml:ad7d8f37-2b75-4e7f-880b-981718b0db98\" xlink:show=\"new\" xlink:title=\"psysml:ad7d8f37-2b75-4e7f-880b-981718b0db98\" xlink:type=\"simple\"><g id=\"elem_E4\"><rect fill=\"#FFFFFF\" height=\"107.675\" id=\"E4\" style=\"stroke:#181818;stroke-width:0.5;\" width=\"108.0625\" x=\"119\" y=\"41\"/><text fill=\"#000000\" font-family=\"sans-serif\" font-size=\"12\" font-style=\"italic\" lengthAdjust=\"spacing\" textLength=\"68\" x=\"139.0313\" y=\"57.1387\">«part  def»</text><text fill=\"#000000\" font-family=\"sans-serif\" font-size=\"14\" lengthAdjust=\"spacing\" textLength=\"13\" x=\"166.5313\" y=\"72.9639\">W</text><line style=\"stroke:#181818;stroke-width:0.5;\" x1=\"120\" x2=\"226.0625\" y1=\"81.2656\" y2=\"81.2656\"/><text fill=\"#000000\" font-family=\"sans-serif\" font-size=\"14\" lengthAdjust=\"spacing\" textLength=\"13\" x=\"125\" y=\"108.7795\">m</text><text fill=\"#000000\" font-family=\"sans-serif\" font-size=\"14\" font-weight=\"bold\" lengthAdjust=\"spacing\" textLength=\"50.0625\" x=\"142\" y=\"108.7795\">default</text><text fill=\"#000000\" font-family=\"sans-serif\" font-size=\"14\" lengthAdjust=\"spacing\" textLength=\"25\" x=\"196.0625\" y=\"108.7795\">= n</text><text fill=\"#000000\" font-family=\"sans-serif\" font-size=\"14\" font-style=\"italic\" lengthAdjust=\"spacing\" textLength=\"61\" x=\"125\" y=\"125.0764\">:&gt;&gt;V::m</text><text fill=\"#000000\" font-family=\"sans-serif\" font-size=\"14\" lengthAdjust=\"spacing\" textLength=\"59\" x=\"125\" y=\"141.3732\">^n = 20</text><text fill=\"#000000\" font-family=\"sans-serif\" font-size=\"14\" font-style=\"italic\" lengthAdjust=\"spacing\" textLength=\"66\" x=\"140.0313\" y=\"93.6123\">attributes</text></g></a><!--MD5=[270fce915f116d4de14055a7c1d9a0f3]\n",
       "class E5--><a href=\"psysml:fd52748d-5cd7-4973-9bed-274bef6831d2\" target=\"_top\" title=\"psysml:fd52748d-5cd7-4973-9bed-274bef6831d2\" xlink:actuate=\"onRequest\" xlink:href=\"psysml:fd52748d-5cd7-4973-9bed-274bef6831d2\" xlink:show=\"new\" xlink:title=\"psysml:fd52748d-5cd7-4973-9bed-274bef6831d2\" xlink:type=\"simple\"><g id=\"elem_E5\"><rect fill=\"#FFFFFF\" height=\"75.0813\" id=\"E5\" rx=\"10\" ry=\"10\" style=\"stroke:#181818;stroke-width:0.5;\" width=\"52\" x=\"32\" y=\"57.5\"/><text fill=\"#000000\" font-family=\"sans-serif\" font-size=\"12\" font-style=\"italic\" lengthAdjust=\"spacing\" textLength=\"40\" x=\"38\" y=\"73.6387\">«part»</text><text fill=\"#000000\" font-family=\"sans-serif\" font-size=\"14\" lengthAdjust=\"spacing\" textLength=\"16\" x=\"46\" y=\"89.4639\">v2</text><line style=\"stroke:#181818;stroke-width:0.5;\" x1=\"33\" x2=\"83\" y1=\"97.7656\" y2=\"97.7656\"/><text fill=\"#000000\" font-family=\"sans-serif\" font-size=\"14\" lengthAdjust=\"spacing\" textLength=\"39\" x=\"38\" y=\"125.2795\">= W()</text><text fill=\"#000000\" font-family=\"sans-serif\" font-size=\"14\" font-style=\"italic\" lengthAdjust=\"spacing\" textLength=\"44\" x=\"36\" y=\"110.1123\">values</text></g></a><!--MD5=[05d275557350bfb9b23a4ef7222b4c39]\n",
       "link E3 to E2--><g id=\"link_E3_E2\"><a href=\"psysml:1a78d8f2-030e-492a-8201-32cffefdc08b\" target=\"_top\" title=\"psysml:1a78d8f2-030e-492a-8201-32cffefdc08b\" xlink:actuate=\"onRequest\" xlink:href=\"psysml:1a78d8f2-030e-492a-8201-32cffefdc08b\" xlink:show=\"new\" xlink:title=\"psysml:1a78d8f2-030e-492a-8201-32cffefdc08b\" xlink:type=\"simple\"><path d=\"M272.75,140.71 C272.75,140.71 272.75,188.79 272.75,188.79 \" fill=\"none\" id=\"E3-to-E2\" style=\"stroke:#181818;stroke-width:1.0;\"/><polygon fill=\"#FFFFFF\" points=\"272.75,208.79,265.75,189.79,279.75,189.79,272.75,208.79\" style=\"stroke:#181818;stroke-width:1.0;\"/><ellipse cx=\"267.75\" cy=\"184.09\" fill=\"#181818\" rx=\"2\" ry=\"2\" style=\"stroke:#181818;stroke-width:1.0;\"/><ellipse cx=\"277.75\" cy=\"184.09\" fill=\"#181818\" rx=\"2\" ry=\"2\" style=\"stroke:#181818;stroke-width:1.0;\"/></a></g><!--MD5=[185131fc0dcab0a4505a2ebe144e961b]\n",
       "link E4 to E2--><g id=\"link_E4_E2\"><a href=\"psysml:5695b7ea-3fef-47ac-8247-2c32b379aa0a\" target=\"_top\" title=\"psysml:5695b7ea-3fef-47ac-8247-2c32b379aa0a\" xlink:actuate=\"onRequest\" xlink:href=\"psysml:5695b7ea-3fef-47ac-8247-2c32b379aa0a\" xlink:show=\"new\" xlink:title=\"psysml:5695b7ea-3fef-47ac-8247-2c32b379aa0a\" xlink:type=\"simple\"><path d=\"M196.75,149.44 C196.75,149.44 196.75,188.79 196.75,188.79 \" fill=\"none\" id=\"E4-to-E2\" style=\"stroke:#181818;stroke-width:1.0;\"/><polygon fill=\"none\" points=\"203.75,188.79,196.75,208.79,189.75,188.79,203.75,188.79\" style=\"stroke:#181818;stroke-width:1.0;\"/></a></g><!--MD5=[2186afef6ac0be86589636200fe8657c]\n",
       "@startuml\r\n",
       "skin sysmlbw\r\n",
       "skinparam monochrome true\r\n",
       "skinparam wrapWidth 300\r\n",
       "hide circle\r\n",
       "skinparam linetype ortho\r\n",
       "\r\n",
       "package \"DefaultValueTest\" as E1  [[psysml:7da0ff95-83c9-4c69-ab50-6e4dec268467 ]]  {\r\n",
       "comp def \"V\" as E2  <<(T,blue) part  def>> [[psysml:98a54266-dd8e-4aee-8801-c30b6645e897 ]] {\r\n",
       "##//attributes//##\r\n",
       "m<b> default </b><U+003D> 10\r\n",
       "n <U+003D> 20\r\n",
       "}\r\n",
       "comp usage \"v1: V  \" as E3  <<(T,blue) part>> [[psysml:f9c62a8d-8a1e-4486-94b1-ee59692b29ae ]] {\r\n",
       "##//attributes//##\r\n",
       "m <U+003D> 20\\n//:>>V::m// \r\n",
       "}\r\n",
       "comp def \"W\" as E4  <<(T,blue) part  def>> [[psysml:ad7d8f37-2b75-4e7f-880b-981718b0db98 ]] {\r\n",
       "##//attributes//##\r\n",
       "m<b> default </b><U+003D> n\\n//:>>V::m// \r\n",
       "^n <U+003D> 20\r\n",
       "}\r\n",
       "comp usage \"v2  \" as E5  <<(T,blue) part>> [[psysml:fd52748d-5cd7-4973-9bed-274bef6831d2 ]] {\r\n",
       "##//values//##\r\n",
       " <U+003D> W()\r\n",
       "}\r\n",
       "}\r\n",
       "E3 - -:|> E2 [[psysml:1a78d8f2-030e-492a-8201-32cffefdc08b ]] \r\n",
       "E4 - -|> E2 [[psysml:5695b7ea-3fef-47ac-8247-2c32b379aa0a ]] \r\n",
       "@enduml\r\n",
       "\n",
       "PlantUML version 1.2022.7(Mon Aug 22 17:01:30 UTC 2022)\n",
       "(EPL source distribution)\n",
       "Java Runtime: OpenJDK Runtime Environment\n",
       "JVM: OpenJDK 64-Bit Server VM\n",
       "Default Encoding: UTF-8\n",
       "Language: en\n",
       "Country: null\n",
       "--></g></svg>"
      ]
     },
     "execution_count": 57,
     "metadata": {},
     "output_type": "execute_result"
    }
   ],
   "source": [
    "%viz --style=\"ORTHOLINE\" --view=\"MIXED\" \"DefaultValueTest\""
   ]
  }
 ],
 "metadata": {
  "kernelspec": {
   "display_name": "SysML",
   "language": "sysml",
   "name": "sysml"
  },
  "language_info": {
   "codemirror_mode": "sysml",
   "file_extension": ".sysml",
   "mimetype": "text/x-sysml",
   "name": "SysML",
   "pygments_lexer": "java",
   "version": "1.0.0"
  }
 },
 "nbformat": 4,
 "nbformat_minor": 5
}
