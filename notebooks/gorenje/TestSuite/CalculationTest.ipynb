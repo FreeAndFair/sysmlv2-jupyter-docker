{
 "cells": [
  {
   "cell_type": "markdown",
   "id": "dutch-replacement",
   "metadata": {},
   "source": [
    "# SysML v2 Test Suite\n",
    "\n",
    "This can notebook can be cleared using menu `Edit --> Clear All Outputs` and then all cells can be\n",
    "run using menu `Run --> Run All Cells`.\n",
    "\n",
    "**WARNING**: This file is generated, all modifications here will be ignored.\n"
   ]
  },
  {
   "cell_type": "markdown",
   "id": "sensitive-raise",
   "metadata": {},
   "source": [
    "## File: ../../sysml/src/examples/Simple Tests/CalculationTest.sysml"
   ]
  },
  {
   "cell_type": "code",
   "execution_count": 1,
   "id": "printable-ebony",
   "metadata": {
    "execution": {
     "iopub.execute_input": "2021-03-26T09:44:24.477935Z",
     "iopub.status.busy": "2021-03-26T09:44:24.475452Z",
     "iopub.status.idle": "2021-03-26T09:44:25.279412Z",
     "shell.execute_reply": "2021-03-26T09:44:25.276072Z"
    }
   },
   "outputs": [
    {
     "data": {
      "text/plain": [
       "Package CalculationExample (20291fb5-e988-40e0-8935-1f0e08f74152)\n"
      ]
     },
     "execution_count": 1,
     "metadata": {},
     "output_type": "execute_result"
    }
   ],
   "source": [
    "package CalculationExample {\n",
    "\timport ISQ::*;\n",
    "\timport ScalarFunctions::*;\n",
    "\t\n",
    "\tpart vehicle {\n",
    "\t\tattribute m : MassValue;\n",
    "\t\t\n",
    "\t\tpart eng {\n",
    "\t\t\tattribute m : MassValue;\n",
    "\t\t}\n",
    "\t\t\n",
    "\t\tpart trans {\n",
    "\t\t\tattribute m : MassValue;\n",
    "\t\t}\n",
    "\t}\n",
    "\t\n",
    "\tcalc def MassSum (partMasses : MassValue[0..*]) totalMass : MassValue {\n",
    "\t\tsum(partMasses)\n",
    "\t}\n",
    "\t\n",
    "\tcalc ms: MassSum (\n",
    "\t\tpartMasses = {vehicle::eng::m, vehicle::trans::m})\n",
    "\t\ttotalMass = vehicle::m;\n",
    "\t\t\n",
    "\tcalc def MassSum1 {\n",
    "\t\tin partMasses : MassValue[0..*];\n",
    "\t\treturn totalMass : MassValue = sum(partMasses);\n",
    "\t}\n",
    "\t\n",
    "\tcalc ms1: MassSum {\n",
    "\t\tin partMasses = {vehicle::eng::m, vehicle::trans::m};\n",
    "\t\treturn totalMass = vehicle::m;\n",
    "\t}\n",
    "}"
   ]
  },
  {
   "cell_type": "code",
   "execution_count": 2,
   "id": "handed-pioneer",
   "metadata": {
    "execution": {
     "iopub.execute_input": "2021-03-26T09:44:25.334719Z",
     "iopub.status.busy": "2021-03-26T09:44:25.333325Z",
     "iopub.status.idle": "2021-03-26T09:44:25.347794Z",
     "shell.execute_reply": "2021-03-26T09:44:25.347463Z"
    }
   },
   "outputs": [
    {
     "data": {
      "text/plain": [
       "java.lang.IllegalArgumentException: Invalid Style: COMPTREE Possible styles: POLYLINE, LR, STDCOLOR, PLANTUML, DEFAULT, TB, ORTHOLINE\n",
       "\tat org.omg.sysml.plantuml.SysML2PlantUMLStyle.get(SysML2PlantUMLStyle.java:258)\n",
       "\tat org.omg.sysml.plantuml.SysML2PlantUMLSvc.applyStyle(SysML2PlantUMLSvc.java:73)\n",
       "\tat org.omg.sysml.plantuml.SysML2PlantUMLSvc.getPlantUMLCode(SysML2PlantUMLSvc.java:88)\n",
       "\tat org.omg.sysml.plantuml.SysML2PlantUMLSvc.getSVG(SysML2PlantUMLSvc.java:99)\n",
       "\tat org.omg.sysml.interactive.SysMLInteractive.viz(SysMLInteractive.java:294)\n",
       "\tat org.omg.sysml.jupyter.kernel.magic.Viz.viz(Viz.java:47)\n",
       "\tat java.base/jdk.internal.reflect.NativeMethodAccessorImpl.invoke0(Native Method)\n",
       "\tat java.base/jdk.internal.reflect.NativeMethodAccessorImpl.invoke(NativeMethodAccessorImpl.java:78)\n",
       "\tat java.base/jdk.internal.reflect.DelegatingMethodAccessorImpl.invoke(DelegatingMethodAccessorImpl.java:43)\n",
       "\tat java.base/java.lang.reflect.Method.invoke(Method.java:568)\n",
       "\tat io.github.spencerpark.jupyter.kernel.magic.registry.Magics.invoke(Magics.java:89)\n",
       "\tat io.github.spencerpark.jupyter.kernel.magic.registry.Magics.access$000(Magics.java:8)\n",
       "\tat io.github.spencerpark.jupyter.kernel.magic.registry.Magics$LineReflectionMagicFunction.execute(Magics.java:149)\n",
       "\tat io.github.spencerpark.jupyter.kernel.magic.registry.Magics.applyLineMagic(Magics.java:26)\n",
       "\tat org.omg.sysml.jupyter.kernel.SysMLKernel.eval(SysMLKernel.java:76)\n",
       "\tat io.github.spencerpark.jupyter.kernel.BaseKernel.handleExecuteRequest(BaseKernel.java:334)\n",
       "\tat io.github.spencerpark.jupyter.channels.ShellChannel.lambda$bind$0(ShellChannel.java:64)\n",
       "\tat io.github.spencerpark.jupyter.channels.Loop.lambda$new$0(Loop.java:21)\n",
       "\tat io.github.spencerpark.jupyter.channels.Loop.run(Loop.java:78)\n"
      ]
     },
     "execution_count": 2,
     "metadata": {},
     "output_type": "execute_result"
    }
   ],
   "source": [
    "%viz --style=\"COMPTREE\" --view=\"Default\" \"CalculationExample\""
   ]
  },
  {
   "cell_type": "code",
   "execution_count": 3,
   "id": "subjective-capacity",
   "metadata": {
    "execution": {
     "iopub.execute_input": "2021-03-26T09:44:25.403149Z",
     "iopub.status.busy": "2021-03-26T09:44:25.402336Z",
     "iopub.status.idle": "2021-03-26T09:44:25.407567Z",
     "shell.execute_reply": "2021-03-26T09:44:25.408035Z"
    }
   },
   "outputs": [
    {
     "data": {
      "text/plain": [
       "java.lang.IllegalArgumentException: Invalid Style: COMPTREE Possible styles: POLYLINE, LR, STDCOLOR, PLANTUML, DEFAULT, TB, ORTHOLINE\n",
       "\tat org.omg.sysml.plantuml.SysML2PlantUMLStyle.get(SysML2PlantUMLStyle.java:258)\n",
       "\tat org.omg.sysml.plantuml.SysML2PlantUMLSvc.applyStyle(SysML2PlantUMLSvc.java:73)\n",
       "\tat org.omg.sysml.plantuml.SysML2PlantUMLSvc.getPlantUMLCode(SysML2PlantUMLSvc.java:88)\n",
       "\tat org.omg.sysml.plantuml.SysML2PlantUMLSvc.getSVG(SysML2PlantUMLSvc.java:99)\n",
       "\tat org.omg.sysml.interactive.SysMLInteractive.viz(SysMLInteractive.java:294)\n",
       "\tat org.omg.sysml.jupyter.kernel.magic.Viz.viz(Viz.java:47)\n",
       "\tat java.base/jdk.internal.reflect.NativeMethodAccessorImpl.invoke0(Native Method)\n",
       "\tat java.base/jdk.internal.reflect.NativeMethodAccessorImpl.invoke(NativeMethodAccessorImpl.java:78)\n",
       "\tat java.base/jdk.internal.reflect.DelegatingMethodAccessorImpl.invoke(DelegatingMethodAccessorImpl.java:43)\n",
       "\tat java.base/java.lang.reflect.Method.invoke(Method.java:568)\n",
       "\tat io.github.spencerpark.jupyter.kernel.magic.registry.Magics.invoke(Magics.java:89)\n",
       "\tat io.github.spencerpark.jupyter.kernel.magic.registry.Magics.access$000(Magics.java:8)\n",
       "\tat io.github.spencerpark.jupyter.kernel.magic.registry.Magics$LineReflectionMagicFunction.execute(Magics.java:149)\n",
       "\tat io.github.spencerpark.jupyter.kernel.magic.registry.Magics.applyLineMagic(Magics.java:26)\n",
       "\tat org.omg.sysml.jupyter.kernel.SysMLKernel.eval(SysMLKernel.java:76)\n",
       "\tat io.github.spencerpark.jupyter.kernel.BaseKernel.handleExecuteRequest(BaseKernel.java:334)\n",
       "\tat io.github.spencerpark.jupyter.channels.ShellChannel.lambda$bind$0(ShellChannel.java:64)\n",
       "\tat io.github.spencerpark.jupyter.channels.Loop.lambda$new$0(Loop.java:21)\n",
       "\tat io.github.spencerpark.jupyter.channels.Loop.run(Loop.java:78)\n"
      ]
     },
     "execution_count": 3,
     "metadata": {},
     "output_type": "execute_result"
    }
   ],
   "source": [
    "%viz --style=\"COMPTREE\" --view=\"Tree\" \"CalculationExample\""
   ]
  },
  {
   "cell_type": "code",
   "execution_count": 4,
   "id": "victorian-gardening",
   "metadata": {
    "execution": {
     "iopub.execute_input": "2021-03-26T09:44:25.461888Z",
     "iopub.status.busy": "2021-03-26T09:44:25.460290Z",
     "iopub.status.idle": "2021-03-26T09:44:25.465890Z",
     "shell.execute_reply": "2021-03-26T09:44:25.466268Z"
    }
   },
   "outputs": [
    {
     "data": {
      "text/plain": [
       "java.lang.IllegalArgumentException: Invalid View: State View candidates are: Default Tree StateMachine Interconnection Activity Sequence MIXED \n",
       "\tat org.omg.sysml.plantuml.SysML2PlantUMLSvc.setView(SysML2PlantUMLSvc.java:63)\n",
       "\tat org.omg.sysml.interactive.SysMLInteractive.viz(SysMLInteractive.java:286)\n",
       "\tat org.omg.sysml.jupyter.kernel.magic.Viz.viz(Viz.java:47)\n",
       "\tat java.base/jdk.internal.reflect.NativeMethodAccessorImpl.invoke0(Native Method)\n",
       "\tat java.base/jdk.internal.reflect.NativeMethodAccessorImpl.invoke(NativeMethodAccessorImpl.java:78)\n",
       "\tat java.base/jdk.internal.reflect.DelegatingMethodAccessorImpl.invoke(DelegatingMethodAccessorImpl.java:43)\n",
       "\tat java.base/java.lang.reflect.Method.invoke(Method.java:568)\n",
       "\tat io.github.spencerpark.jupyter.kernel.magic.registry.Magics.invoke(Magics.java:89)\n",
       "\tat io.github.spencerpark.jupyter.kernel.magic.registry.Magics.access$000(Magics.java:8)\n",
       "\tat io.github.spencerpark.jupyter.kernel.magic.registry.Magics$LineReflectionMagicFunction.execute(Magics.java:149)\n",
       "\tat io.github.spencerpark.jupyter.kernel.magic.registry.Magics.applyLineMagic(Magics.java:26)\n",
       "\tat org.omg.sysml.jupyter.kernel.SysMLKernel.eval(SysMLKernel.java:76)\n",
       "\tat io.github.spencerpark.jupyter.kernel.BaseKernel.handleExecuteRequest(BaseKernel.java:334)\n",
       "\tat io.github.spencerpark.jupyter.channels.ShellChannel.lambda$bind$0(ShellChannel.java:64)\n",
       "\tat io.github.spencerpark.jupyter.channels.Loop.lambda$new$0(Loop.java:21)\n",
       "\tat io.github.spencerpark.jupyter.channels.Loop.run(Loop.java:78)\n"
      ]
     },
     "execution_count": 4,
     "metadata": {},
     "output_type": "execute_result"
    }
   ],
   "source": [
    "%viz --style=\"COMPTREE\" --view=\"State\" \"CalculationExample\""
   ]
  },
  {
   "cell_type": "code",
   "execution_count": 5,
   "id": "copyrighted-headline",
   "metadata": {
    "execution": {
     "iopub.execute_input": "2021-03-26T09:44:25.517631Z",
     "iopub.status.busy": "2021-03-26T09:44:25.517155Z",
     "iopub.status.idle": "2021-03-26T09:44:25.519083Z",
     "shell.execute_reply": "2021-03-26T09:44:25.519406Z"
    }
   },
   "outputs": [
    {
     "data": {
      "text/plain": [
       "java.lang.IllegalArgumentException: Invalid Style: COMPTREE Possible styles: POLYLINE, LR, STDCOLOR, PLANTUML, DEFAULT, TB, ORTHOLINE\n",
       "\tat org.omg.sysml.plantuml.SysML2PlantUMLStyle.get(SysML2PlantUMLStyle.java:258)\n",
       "\tat org.omg.sysml.plantuml.SysML2PlantUMLSvc.applyStyle(SysML2PlantUMLSvc.java:73)\n",
       "\tat org.omg.sysml.plantuml.SysML2PlantUMLSvc.getPlantUMLCode(SysML2PlantUMLSvc.java:88)\n",
       "\tat org.omg.sysml.plantuml.SysML2PlantUMLSvc.getSVG(SysML2PlantUMLSvc.java:99)\n",
       "\tat org.omg.sysml.interactive.SysMLInteractive.viz(SysMLInteractive.java:294)\n",
       "\tat org.omg.sysml.jupyter.kernel.magic.Viz.viz(Viz.java:47)\n",
       "\tat java.base/jdk.internal.reflect.NativeMethodAccessorImpl.invoke0(Native Method)\n",
       "\tat java.base/jdk.internal.reflect.NativeMethodAccessorImpl.invoke(NativeMethodAccessorImpl.java:78)\n",
       "\tat java.base/jdk.internal.reflect.DelegatingMethodAccessorImpl.invoke(DelegatingMethodAccessorImpl.java:43)\n",
       "\tat java.base/java.lang.reflect.Method.invoke(Method.java:568)\n",
       "\tat io.github.spencerpark.jupyter.kernel.magic.registry.Magics.invoke(Magics.java:89)\n",
       "\tat io.github.spencerpark.jupyter.kernel.magic.registry.Magics.access$000(Magics.java:8)\n",
       "\tat io.github.spencerpark.jupyter.kernel.magic.registry.Magics$LineReflectionMagicFunction.execute(Magics.java:149)\n",
       "\tat io.github.spencerpark.jupyter.kernel.magic.registry.Magics.applyLineMagic(Magics.java:26)\n",
       "\tat org.omg.sysml.jupyter.kernel.SysMLKernel.eval(SysMLKernel.java:76)\n",
       "\tat io.github.spencerpark.jupyter.kernel.BaseKernel.handleExecuteRequest(BaseKernel.java:334)\n",
       "\tat io.github.spencerpark.jupyter.channels.ShellChannel.lambda$bind$0(ShellChannel.java:64)\n",
       "\tat io.github.spencerpark.jupyter.channels.Loop.lambda$new$0(Loop.java:21)\n",
       "\tat io.github.spencerpark.jupyter.channels.Loop.run(Loop.java:78)\n"
      ]
     },
     "execution_count": 5,
     "metadata": {},
     "output_type": "execute_result"
    }
   ],
   "source": [
    "%viz --style=\"COMPTREE\" --view=\"Interconnection\" \"CalculationExample\""
   ]
  },
  {
   "cell_type": "code",
   "execution_count": 6,
   "id": "accurate-singing",
   "metadata": {
    "execution": {
     "iopub.execute_input": "2021-03-26T09:44:25.572633Z",
     "iopub.status.busy": "2021-03-26T09:44:25.572022Z",
     "iopub.status.idle": "2021-03-26T09:44:25.576075Z",
     "shell.execute_reply": "2021-03-26T09:44:25.576638Z"
    }
   },
   "outputs": [
    {
     "data": {
      "text/plain": [
       "java.lang.IllegalArgumentException: Invalid View: Action View candidates are: Default Tree StateMachine Interconnection Activity Sequence MIXED \n",
       "\tat org.omg.sysml.plantuml.SysML2PlantUMLSvc.setView(SysML2PlantUMLSvc.java:63)\n",
       "\tat org.omg.sysml.interactive.SysMLInteractive.viz(SysMLInteractive.java:286)\n",
       "\tat org.omg.sysml.jupyter.kernel.magic.Viz.viz(Viz.java:47)\n",
       "\tat java.base/jdk.internal.reflect.NativeMethodAccessorImpl.invoke0(Native Method)\n",
       "\tat java.base/jdk.internal.reflect.NativeMethodAccessorImpl.invoke(NativeMethodAccessorImpl.java:78)\n",
       "\tat java.base/jdk.internal.reflect.DelegatingMethodAccessorImpl.invoke(DelegatingMethodAccessorImpl.java:43)\n",
       "\tat java.base/java.lang.reflect.Method.invoke(Method.java:568)\n",
       "\tat io.github.spencerpark.jupyter.kernel.magic.registry.Magics.invoke(Magics.java:89)\n",
       "\tat io.github.spencerpark.jupyter.kernel.magic.registry.Magics.access$000(Magics.java:8)\n",
       "\tat io.github.spencerpark.jupyter.kernel.magic.registry.Magics$LineReflectionMagicFunction.execute(Magics.java:149)\n",
       "\tat io.github.spencerpark.jupyter.kernel.magic.registry.Magics.applyLineMagic(Magics.java:26)\n",
       "\tat org.omg.sysml.jupyter.kernel.SysMLKernel.eval(SysMLKernel.java:76)\n",
       "\tat io.github.spencerpark.jupyter.kernel.BaseKernel.handleExecuteRequest(BaseKernel.java:334)\n",
       "\tat io.github.spencerpark.jupyter.channels.ShellChannel.lambda$bind$0(ShellChannel.java:64)\n",
       "\tat io.github.spencerpark.jupyter.channels.Loop.lambda$new$0(Loop.java:21)\n",
       "\tat io.github.spencerpark.jupyter.channels.Loop.run(Loop.java:78)\n"
      ]
     },
     "execution_count": 6,
     "metadata": {},
     "output_type": "execute_result"
    }
   ],
   "source": [
    "%viz --style=\"COMPTREE\" --view=\"Action\" \"CalculationExample\""
   ]
  },
  {
   "cell_type": "code",
   "execution_count": 7,
   "id": "focal-strengthening",
   "metadata": {
    "execution": {
     "iopub.execute_input": "2021-03-26T09:44:25.630493Z",
     "iopub.status.busy": "2021-03-26T09:44:25.629839Z",
     "iopub.status.idle": "2021-03-26T09:44:25.632989Z",
     "shell.execute_reply": "2021-03-26T09:44:25.633475Z"
    }
   },
   "outputs": [
    {
     "data": {
      "text/plain": [
       "java.lang.IllegalArgumentException: Invalid Style: COMPTREE Possible styles: POLYLINE, LR, STDCOLOR, PLANTUML, DEFAULT, TB, ORTHOLINE\n",
       "\tat org.omg.sysml.plantuml.SysML2PlantUMLStyle.get(SysML2PlantUMLStyle.java:258)\n",
       "\tat org.omg.sysml.plantuml.SysML2PlantUMLSvc.applyStyle(SysML2PlantUMLSvc.java:73)\n",
       "\tat org.omg.sysml.plantuml.SysML2PlantUMLSvc.getPlantUMLCode(SysML2PlantUMLSvc.java:88)\n",
       "\tat org.omg.sysml.plantuml.SysML2PlantUMLSvc.getSVG(SysML2PlantUMLSvc.java:99)\n",
       "\tat org.omg.sysml.interactive.SysMLInteractive.viz(SysMLInteractive.java:294)\n",
       "\tat org.omg.sysml.jupyter.kernel.magic.Viz.viz(Viz.java:47)\n",
       "\tat java.base/jdk.internal.reflect.NativeMethodAccessorImpl.invoke0(Native Method)\n",
       "\tat java.base/jdk.internal.reflect.NativeMethodAccessorImpl.invoke(NativeMethodAccessorImpl.java:78)\n",
       "\tat java.base/jdk.internal.reflect.DelegatingMethodAccessorImpl.invoke(DelegatingMethodAccessorImpl.java:43)\n",
       "\tat java.base/java.lang.reflect.Method.invoke(Method.java:568)\n",
       "\tat io.github.spencerpark.jupyter.kernel.magic.registry.Magics.invoke(Magics.java:89)\n",
       "\tat io.github.spencerpark.jupyter.kernel.magic.registry.Magics.access$000(Magics.java:8)\n",
       "\tat io.github.spencerpark.jupyter.kernel.magic.registry.Magics$LineReflectionMagicFunction.execute(Magics.java:149)\n",
       "\tat io.github.spencerpark.jupyter.kernel.magic.registry.Magics.applyLineMagic(Magics.java:26)\n",
       "\tat org.omg.sysml.jupyter.kernel.SysMLKernel.eval(SysMLKernel.java:76)\n",
       "\tat io.github.spencerpark.jupyter.kernel.BaseKernel.handleExecuteRequest(BaseKernel.java:334)\n",
       "\tat io.github.spencerpark.jupyter.channels.ShellChannel.lambda$bind$0(ShellChannel.java:64)\n",
       "\tat io.github.spencerpark.jupyter.channels.Loop.lambda$new$0(Loop.java:21)\n",
       "\tat io.github.spencerpark.jupyter.channels.Loop.run(Loop.java:78)\n"
      ]
     },
     "execution_count": 7,
     "metadata": {},
     "output_type": "execute_result"
    }
   ],
   "source": [
    "%viz --style=\"COMPTREE\" --view=\"Sequence\" \"CalculationExample\""
   ]
  },
  {
   "cell_type": "code",
   "execution_count": 8,
   "id": "applied-uncle",
   "metadata": {
    "execution": {
     "iopub.execute_input": "2021-03-26T09:44:25.684528Z",
     "iopub.status.busy": "2021-03-26T09:44:25.684149Z",
     "iopub.status.idle": "2021-03-26T09:44:25.687739Z",
     "shell.execute_reply": "2021-03-26T09:44:25.688036Z"
    }
   },
   "outputs": [
    {
     "data": {
      "text/plain": [
       "java.lang.IllegalArgumentException: Invalid Style: COMPTREE Possible styles: POLYLINE, LR, STDCOLOR, PLANTUML, DEFAULT, TB, ORTHOLINE\n",
       "\tat org.omg.sysml.plantuml.SysML2PlantUMLStyle.get(SysML2PlantUMLStyle.java:258)\n",
       "\tat org.omg.sysml.plantuml.SysML2PlantUMLSvc.applyStyle(SysML2PlantUMLSvc.java:73)\n",
       "\tat org.omg.sysml.plantuml.SysML2PlantUMLSvc.getPlantUMLCode(SysML2PlantUMLSvc.java:88)\n",
       "\tat org.omg.sysml.plantuml.SysML2PlantUMLSvc.getSVG(SysML2PlantUMLSvc.java:99)\n",
       "\tat org.omg.sysml.interactive.SysMLInteractive.viz(SysMLInteractive.java:294)\n",
       "\tat org.omg.sysml.jupyter.kernel.magic.Viz.viz(Viz.java:47)\n",
       "\tat java.base/jdk.internal.reflect.NativeMethodAccessorImpl.invoke0(Native Method)\n",
       "\tat java.base/jdk.internal.reflect.NativeMethodAccessorImpl.invoke(NativeMethodAccessorImpl.java:78)\n",
       "\tat java.base/jdk.internal.reflect.DelegatingMethodAccessorImpl.invoke(DelegatingMethodAccessorImpl.java:43)\n",
       "\tat java.base/java.lang.reflect.Method.invoke(Method.java:568)\n",
       "\tat io.github.spencerpark.jupyter.kernel.magic.registry.Magics.invoke(Magics.java:89)\n",
       "\tat io.github.spencerpark.jupyter.kernel.magic.registry.Magics.access$000(Magics.java:8)\n",
       "\tat io.github.spencerpark.jupyter.kernel.magic.registry.Magics$LineReflectionMagicFunction.execute(Magics.java:149)\n",
       "\tat io.github.spencerpark.jupyter.kernel.magic.registry.Magics.applyLineMagic(Magics.java:26)\n",
       "\tat org.omg.sysml.jupyter.kernel.SysMLKernel.eval(SysMLKernel.java:76)\n",
       "\tat io.github.spencerpark.jupyter.kernel.BaseKernel.handleExecuteRequest(BaseKernel.java:334)\n",
       "\tat io.github.spencerpark.jupyter.channels.ShellChannel.lambda$bind$0(ShellChannel.java:64)\n",
       "\tat io.github.spencerpark.jupyter.channels.Loop.lambda$new$0(Loop.java:21)\n",
       "\tat io.github.spencerpark.jupyter.channels.Loop.run(Loop.java:78)\n"
      ]
     },
     "execution_count": 8,
     "metadata": {},
     "output_type": "execute_result"
    }
   ],
   "source": [
    "%viz --style=\"COMPTREE\" --view=\"MIXED\" \"CalculationExample\""
   ]
  },
  {
   "cell_type": "code",
   "execution_count": 9,
   "id": "driving-treasury",
   "metadata": {
    "execution": {
     "iopub.execute_input": "2021-03-26T09:44:25.740735Z",
     "iopub.status.busy": "2021-03-26T09:44:25.740030Z",
     "iopub.status.idle": "2021-03-26T09:44:26.361249Z",
     "shell.execute_reply": "2021-03-26T09:44:26.360809Z"
    }
   },
   "outputs": [
    {
     "data": {
      "image/svg+xml": [
       "<?xml version=\"1.0\" encoding=\"UTF-8\" standalone=\"no\"?><svg xmlns=\"http://www.w3.org/2000/svg\" xmlns:xlink=\"http://www.w3.org/1999/xlink\" contentScriptType=\"application/ecmascript\" contentStyleType=\"text/css\" height=\"446px\" preserveAspectRatio=\"none\" style=\"width:920px;height:446px;\" version=\"1.1\" viewBox=\"0 0 920 446\" width=\"920px\" zoomAndPan=\"magnify\"><defs/><g><!--MD5=[fbc87193dbaf4d95561dea2c320d4a47]\n",
       "cluster E1--><polygon fill=\"#FFFFFF\" points=\"16,6,173,6,180,28.2969,898,28.2969,898,434.72,16,434.72,16,6\" style=\"stroke: #000000; stroke-width: 1.5;\"/><line style=\"stroke: #000000; stroke-width: 1.5;\" x1=\"16\" x2=\"180\" y1=\"28.2969\" y2=\"28.2969\"/><text fill=\"#000000\" font-family=\"sans-serif\" font-size=\"14\" font-weight=\"bold\" lengthAdjust=\"spacingAndGlyphs\" textLength=\"151\" x=\"20\" y=\"20.9951\">CalculationExample</text><!--MD5=[de5ec2e2e8f62f467e546659f5068c88]\n",
       "cluster E5--><rect fill=\"#FFFFFF\" height=\"300.72\" style=\"stroke: #000000; stroke-width: 1.5;\" width=\"128\" x=\"365\" y=\"96\"/><text fill=\"#000000\" font-family=\"sans-serif\" font-size=\"14\" font-weight=\"bold\" lengthAdjust=\"spacingAndGlyphs\" textLength=\"74\" x=\"392\" y=\"110.9951\">MassSum</text><!--MD5=[917b9dd0c7eca3ee5f47219d1a84c0ad]\n",
       "cluster E11--><rect fill=\"#FFFFFF\" height=\"300.72\" style=\"stroke: #000000; stroke-width: 1.5;\" width=\"132\" x=\"750\" y=\"96\"/><text fill=\"#000000\" font-family=\"sans-serif\" font-size=\"14\" font-weight=\"bold\" lengthAdjust=\"spacingAndGlyphs\" textLength=\"84\" x=\"774\" y=\"110.9951\">MassSum1</text><!--MD5=[b4997ac47864f28c2f74865a473b2911]\n",
       "class E2--><rect fill=\"#FFFFFF\" height=\"58.7422\" id=\"E2\" rx=\"10\" ry=\"10\" style=\"stroke: #383838; stroke-width: 1.5;\" width=\"92\" x=\"643\" y=\"66.5\"/><text fill=\"#000000\" font-family=\"sans-serif\" font-size=\"12\" font-style=\"italic\" lengthAdjust=\"spacingAndGlyphs\" textLength=\"40\" x=\"669\" y=\"82.6387\">«part»</text><text fill=\"#000000\" font-family=\"sans-serif\" font-size=\"12\" lengthAdjust=\"spacingAndGlyphs\" textLength=\"77\" x=\"650.5\" y=\"96.6074\">vehicle: Part</text><line style=\"stroke: #383838; stroke-width: 1.5;\" x1=\"644\" x2=\"734\" y1=\"104.4375\" y2=\"104.4375\"/><text fill=\"#000000\" font-family=\"sans-serif\" font-size=\"11\" lengthAdjust=\"spacingAndGlyphs\" textLength=\"80\" x=\"649\" y=\"118.6479\">m: MassValue</text><!--MD5=[09b614a08d8cba4a07c9adeb5e0fee81]\n",
       "class E3--><rect fill=\"#FFFFFF\" height=\"58.7422\" id=\"E3\" rx=\"10\" ry=\"10\" style=\"stroke: #383838; stroke-width: 1.5;\" width=\"92\" x=\"512\" y=\"211\"/><text fill=\"#000000\" font-family=\"sans-serif\" font-size=\"12\" font-style=\"italic\" lengthAdjust=\"spacingAndGlyphs\" textLength=\"40\" x=\"538\" y=\"227.1387\">«part»</text><text fill=\"#000000\" font-family=\"sans-serif\" font-size=\"12\" lengthAdjust=\"spacingAndGlyphs\" textLength=\"58\" x=\"529\" y=\"241.1074\">eng: Part</text><line style=\"stroke: #383838; stroke-width: 1.5;\" x1=\"513\" x2=\"603\" y1=\"248.9375\" y2=\"248.9375\"/><text fill=\"#000000\" font-family=\"sans-serif\" font-size=\"11\" lengthAdjust=\"spacingAndGlyphs\" textLength=\"80\" x=\"518\" y=\"263.1479\">m: MassValue</text><!--MD5=[ebbe1d658d1005bcc118a6aa81145e00]\n",
       "class E4--><rect fill=\"#FFFFFF\" height=\"58.7422\" id=\"E4\" rx=\"10\" ry=\"10\" style=\"stroke: #383838; stroke-width: 1.5;\" width=\"92\" x=\"639\" y=\"211\"/><text fill=\"#000000\" font-family=\"sans-serif\" font-size=\"12\" font-style=\"italic\" lengthAdjust=\"spacingAndGlyphs\" textLength=\"40\" x=\"665\" y=\"227.1387\">«part»</text><text fill=\"#000000\" font-family=\"sans-serif\" font-size=\"12\" lengthAdjust=\"spacingAndGlyphs\" textLength=\"67\" x=\"651.5\" y=\"241.1074\">trans: Part</text><line style=\"stroke: #383838; stroke-width: 1.5;\" x1=\"640\" x2=\"730\" y1=\"248.9375\" y2=\"248.9375\"/><text fill=\"#000000\" font-family=\"sans-serif\" font-size=\"11\" lengthAdjust=\"spacingAndGlyphs\" textLength=\"80\" x=\"645\" y=\"263.1479\">m: MassValue</text><!--MD5=[96f4274e9e20536e775497830990834d]\n",
       "class E10--><rect fill=\"#FFFFFF\" height=\"45.9375\" id=\"E10\" rx=\"10\" ry=\"10\" style=\"stroke: #383838; stroke-width: 1.5;\" width=\"91\" x=\"516.5\" y=\"73\"/><text fill=\"#000000\" font-family=\"sans-serif\" font-size=\"12\" font-style=\"italic\" lengthAdjust=\"spacingAndGlyphs\" textLength=\"82\" x=\"521\" y=\"89.1387\">«calculation»</text><text fill=\"#000000\" font-family=\"sans-serif\" font-size=\"12\" lengthAdjust=\"spacingAndGlyphs\" textLength=\"85\" x=\"519.5\" y=\"103.1074\">ms: MassSum</text><line style=\"stroke: #383838; stroke-width: 1.5;\" x1=\"517.5\" x2=\"606.5\" y1=\"110.9375\" y2=\"110.9375\"/><!--MD5=[bee11217b2f71d958a27249dc326068c]\n",
       "class E14--><rect fill=\"#FFFFFF\" height=\"109.9609\" id=\"E14\" rx=\"10\" ry=\"10\" style=\"stroke: #383838; stroke-width: 1.5;\" width=\"310\" x=\"32\" y=\"41\"/><text fill=\"#000000\" font-family=\"sans-serif\" font-size=\"12\" font-style=\"italic\" lengthAdjust=\"spacingAndGlyphs\" textLength=\"82\" x=\"146\" y=\"57.1387\">«calculation»</text><text fill=\"#000000\" font-family=\"sans-serif\" font-size=\"12\" lengthAdjust=\"spacingAndGlyphs\" textLength=\"93\" x=\"140.5\" y=\"71.1074\">ms1: MassSum</text><line style=\"stroke: #383838; stroke-width: 1.5;\" x1=\"33\" x2=\"341\" y1=\"78.9375\" y2=\"78.9375\"/><text fill=\"#000000\" font-family=\"sans-serif\" font-size=\"11\" lengthAdjust=\"spacingAndGlyphs\" textLength=\"298\" x=\"38\" y=\"93.1479\">partMasses: MassValue= {vehicle::eng::m, vehicle::</text><text fill=\"#000000\" font-family=\"sans-serif\" font-size=\"11\" lengthAdjust=\"spacingAndGlyphs\" textLength=\"60\" x=\"38\" y=\"105.9526\">trans::m};</text><text fill=\"#000000\" font-family=\"sans-serif\" font-size=\"11\" font-style=\"italic\" lengthAdjust=\"spacingAndGlyphs\" textLength=\"153\" x=\"38\" y=\"118.7573\">:&gt;&gt;MassSum::partMasses</text><text fill=\"#000000\" font-family=\"sans-serif\" font-size=\"11\" lengthAdjust=\"spacingAndGlyphs\" textLength=\"199\" x=\"38\" y=\"131.562\">totalMass: MassValue= vehicle::m;</text><text fill=\"#000000\" font-family=\"sans-serif\" font-size=\"11\" font-style=\"italic\" lengthAdjust=\"spacingAndGlyphs\" textLength=\"141\" x=\"38\" y=\"144.3667\">:&gt;&gt;MassSum::totalMass</text><text fill=\"#000000\" font-family=\"sans-serif\" font-size=\"14\" lengthAdjust=\"spacingAndGlyphs\" textLength=\"80\" x=\"343\" y=\"74.6982\">partMasses</text><rect fill=\"#383838\" height=\"12\" style=\"stroke: #F8F8F8; stroke-width: 1.5;\" width=\"12\" x=\"377\" y=\"90\"/><text fill=\"#000000\" font-family=\"sans-serif\" font-size=\"14\" lengthAdjust=\"spacingAndGlyphs\" textLength=\"66\" x=\"365\" y=\"415.7151\">totalMass</text><rect fill=\"#383838\" height=\"12\" style=\"stroke: #F8F8F8; stroke-width: 1.5;\" width=\"12\" x=\"392\" y=\"390.72\"/><text fill=\"#000000\" font-family=\"sans-serif\" font-size=\"14\" lengthAdjust=\"spacingAndGlyphs\" textLength=\"75\" x=\"437.5\" y=\"74.6982\">$collection</text><rect fill=\"#383838\" height=\"12\" style=\"stroke: #F8F8F8; stroke-width: 1.5;\" width=\"12\" x=\"469\" y=\"90\"/><text fill=\"#000000\" font-family=\"sans-serif\" font-size=\"14\" lengthAdjust=\"spacingAndGlyphs\" textLength=\"48\" x=\"421\" y=\"415.7151\">$result</text><rect fill=\"#383838\" height=\"12\" style=\"stroke: #F8F8F8; stroke-width: 1.5;\" width=\"12\" x=\"439\" y=\"390.72\"/><text fill=\"#000000\" font-family=\"sans-serif\" font-size=\"14\" lengthAdjust=\"spacingAndGlyphs\" textLength=\"80\" x=\"776\" y=\"74.6982\">partMasses</text><rect fill=\"#383838\" height=\"12\" style=\"stroke: #F8F8F8; stroke-width: 1.5;\" width=\"12\" x=\"810\" y=\"90\"/><text fill=\"#000000\" font-family=\"sans-serif\" font-size=\"14\" lengthAdjust=\"spacingAndGlyphs\" textLength=\"66\" x=\"783\" y=\"415.7151\">totalMass</text><rect fill=\"#383838\" height=\"12\" style=\"stroke: #F8F8F8; stroke-width: 1.5;\" width=\"12\" x=\"810\" y=\"390.72\"/><!--MD5=[209b3feb70ccb6233bfe1053d122c12c]\n",
       "reverse link E2 to E3--><path d=\"M653.54,135.57 C631.77,159.25 604.35,189.08 584.47,210.71 \" fill=\"none\" id=\"E2&lt;-E3\" style=\"stroke: #383838; stroke-width: 1.0;\"/><polygon fill=\"#383838\" points=\"662.49,125.84,655.4845,127.5496,654.3682,134.6738,661.3737,132.9642,662.49,125.84\" style=\"stroke: #383838; stroke-width: 1.0;\"/><!--MD5=[9618e71518536f8baf3342ff6fdab317]\n",
       "reverse link E2 to E4--><path d=\"M687.82,139.1 C687.17,162.16 686.39,190.15 685.81,210.71 \" fill=\"none\" id=\"E2&lt;-E4\" style=\"stroke: #383838; stroke-width: 1.0;\"/><polygon fill=\"#383838\" points=\"688.19,125.84,684.0201,131.7232,687.8469,137.8351,692.0168,131.9519,688.19,125.84\" style=\"stroke: #383838; stroke-width: 1.0;\"/><!--MD5=[1c0b9414cc86e0744215edee6abd8926]\n",
       "link E7 to E9--><path d=\"M404.01,394.42 C408.43,392.73 413.67,390.72 413.67,390.72 C413.67,390.72 429.33,390.72 429.33,390.72 C429.33,390.72 434.57,392.73 438.99,394.42 \" fill=\"none\" id=\"E7-E9\" style=\"stroke: #383838; stroke-width: 5.0;\"/><!--MD5=[ec5e0a54482b142abcecfe541d624bff]\n",
       "link E10 to E5--><path d=\"M540.91,119.27 C533.3075,127.2925 524.1837,136.9213 514.4525,147.1917 C509.5869,152.327 504.5694,157.6226 499.5142,162.9581 C498.2504,164.292 496.9843,165.6284 495.7176,166.9654 C495.0842,167.6339 494.4507,168.3025 493.8173,168.9711 C493.659,169.1382 493.5006,169.3053 493.3423,169.4725 \" fill=\"none\" id=\"E10-&gt;E5\" style=\"stroke: #383838; stroke-width: 1.0;\"/><polygon fill=\"#FFFFFF\" points=\"493.3423,169.4725,501.3284,150.8654,511.4914,160.4942,493.3423,169.4725\" style=\"stroke: #383838; stroke-width: 1.0;\"/><ellipse cx=\"506.7005\" cy=\"148.1032\" fill=\"#383838\" rx=\"2\" ry=\"2\" style=\"stroke: #383838; stroke-width: 1.0;\"/><ellipse cx=\"513.9598\" cy=\"154.9809\" fill=\"#383838\" rx=\"2\" ry=\"2\" style=\"stroke: #383838; stroke-width: 1.0;\"/><!--MD5=[111e5536516ee1ad7d4266f589654f03]\n",
       "link E14 to E5--><path d=\"M278.08,151.08 C303.275,166.04 330.2775,182.0725 354.2775,196.3213 C357.2775,198.1023 360.2306,199.8556 363.1274,201.5753 C363.4895,201.7903 363.8507,202.0048 364.211,202.2187 C364.3912,202.3256 364.5711,202.4325 364.7508,202.5391 \" fill=\"none\" id=\"E14-&gt;E5\" style=\"stroke: #383838; stroke-width: 1.0;\"/><polygon fill=\"#FFFFFF\" points=\"364.7508,202.5391,344.8396,198.8589,351.9865,186.8206,364.7508,202.5391\" style=\"stroke: #383838; stroke-width: 1.0;\"/><ellipse cx=\"340.9593\" cy=\"194.2293\" fill=\"#383838\" rx=\"2\" ry=\"2\" style=\"stroke: #383838; stroke-width: 1.0;\"/><ellipse cx=\"346.0642\" cy=\"185.6305\" fill=\"#383838\" rx=\"2\" ry=\"2\" style=\"stroke: #383838; stroke-width: 1.0;\"/><!--MD5=[b38e9611d2a61de541c909e85f0ac559]\n",
       "@startuml\r\n",
       "skinparam linetype polyline\r\n",
       "skinparam monochrome true\r\n",
       "skinparam classbackgroundcolor white\r\n",
       "skinparam shadowing false\r\n",
       "skinparam wrapWidth 300\r\n",
       "hide circle\r\n",
       "\r\n",
       "package \"CalculationExample\" as E1   {\r\n",
       "comp usage \"vehicle: Part\" as E2  <<(T,blue)part>> {\r\n",
       "m: MassValue\r\n",
       "}\r\n",
       "comp usage \"eng: Part\" as E3  <<(T,blue)part>> {\r\n",
       "m: MassValue\r\n",
       "}\r\n",
       "comp usage \"trans: Part\" as E4  <<(T,blue)part>> {\r\n",
       "m: MassValue\r\n",
       "}\r\n",
       "rec def \"MassSum\" as E5 {\r\n",
       "portin \"partMasses\" as E6  \r\n",
       "portout \"totalMass\" as E7  \r\n",
       "portin \"$collection\" as E8  \r\n",
       "portout \"$result\" as E9  \r\n",
       "}\r\n",
       "\r\n",
       "comp usage \"ms: MassSum\" as E10  <<(T,blue)calculation>> {\r\n",
       "}\r\n",
       "rec def \"MassSum1\" as E11 {\r\n",
       "portin \"partMasses\" as E12  \r\n",
       "portout \"totalMass\" as E13  \r\n",
       "}\r\n",
       "\r\n",
       "comp usage \"ms1: MassSum\" as E14  <<(T,blue)calculation>> {\r\n",
       "partMasses: MassValue= {vehicle::eng::m, vehicle::trans::m}; \\n//:>>MassSum::partMasses// \r\n",
       "totalMass: MassValue= vehicle::m; \\n//:>>MassSum::totalMass// \r\n",
       "}\r\n",
       "E2 *- - E3\r\n",
       "E2 *- - E4\r\n",
       "E7 -[thickness=5]- E9\r\n",
       "E10 - -:|> E5\r\n",
       "E14 - -:|> E5\r\n",
       "}\r\n",
       "@enduml\r\n",
       "\n",
       "PlantUML version 1.2020.13(Sat Jun 13 12:26:38 UTC 2020)\n",
       "(EPL source distribution)\n",
       "Java Runtime: OpenJDK Runtime Environment\n",
       "JVM: OpenJDK 64-Bit Server VM\n",
       "Default Encoding: UTF-8\n",
       "Language: en\n",
       "Country: null\n",
       "--></g></svg>"
      ]
     },
     "execution_count": 9,
     "metadata": {},
     "output_type": "execute_result"
    }
   ],
   "source": [
    "%viz --style=\"POLYLINE\" --view=\"Default\" \"CalculationExample\""
   ]
  },
  {
   "cell_type": "code",
   "execution_count": 10,
   "id": "decreased-struggle",
   "metadata": {
    "execution": {
     "iopub.execute_input": "2021-03-26T09:44:26.413864Z",
     "iopub.status.busy": "2021-03-26T09:44:26.413162Z",
     "iopub.status.idle": "2021-03-26T09:44:26.541186Z",
     "shell.execute_reply": "2021-03-26T09:44:26.540871Z"
    }
   },
   "outputs": [
    {
     "data": {
      "image/svg+xml": [
       "<?xml version=\"1.0\" encoding=\"UTF-8\" standalone=\"no\"?><svg xmlns=\"http://www.w3.org/2000/svg\" xmlns:xlink=\"http://www.w3.org/1999/xlink\" contentScriptType=\"application/ecmascript\" contentStyleType=\"text/css\" height=\"298px\" preserveAspectRatio=\"none\" style=\"width:922px;height:298px;\" version=\"1.1\" viewBox=\"0 0 922 298\" width=\"922px\" zoomAndPan=\"magnify\"><defs/><g><!--MD5=[fbc87193dbaf4d95561dea2c320d4a47]\n",
       "cluster E1--><polygon fill=\"#FFFFFF\" points=\"16,6,173,6,180,28.2969,900,28.2969,900,286,16,286,16,6\" style=\"stroke: #000000; stroke-width: 1.5;\"/><line style=\"stroke: #000000; stroke-width: 1.5;\" x1=\"16\" x2=\"180\" y1=\"28.2969\" y2=\"28.2969\"/><text fill=\"#000000\" font-family=\"sans-serif\" font-size=\"14\" font-weight=\"bold\" lengthAdjust=\"spacingAndGlyphs\" textLength=\"151\" x=\"20\" y=\"20.9951\">CalculationExample</text><!--MD5=[b4997ac47864f28c2f74865a473b2911]\n",
       "class E2--><rect fill=\"#FFFFFF\" height=\"58.7422\" id=\"E2\" rx=\"10\" ry=\"10\" style=\"stroke: #383838; stroke-width: 1.5;\" width=\"92\" x=\"792\" y=\"66.5\"/><text fill=\"#000000\" font-family=\"sans-serif\" font-size=\"12\" font-style=\"italic\" lengthAdjust=\"spacingAndGlyphs\" textLength=\"40\" x=\"818\" y=\"82.6387\">«part»</text><text fill=\"#000000\" font-family=\"sans-serif\" font-size=\"12\" lengthAdjust=\"spacingAndGlyphs\" textLength=\"77\" x=\"799.5\" y=\"96.6074\">vehicle: Part</text><line style=\"stroke: #383838; stroke-width: 1.5;\" x1=\"793\" x2=\"883\" y1=\"104.4375\" y2=\"104.4375\"/><text fill=\"#000000\" font-family=\"sans-serif\" font-size=\"11\" lengthAdjust=\"spacingAndGlyphs\" textLength=\"80\" x=\"798\" y=\"118.6479\">m: MassValue</text><!--MD5=[09b614a08d8cba4a07c9adeb5e0fee81]\n",
       "class E3--><rect fill=\"#FFFFFF\" height=\"58.7422\" id=\"E3\" rx=\"10\" ry=\"10\" style=\"stroke: #383838; stroke-width: 1.5;\" width=\"92\" x=\"665\" y=\"211\"/><text fill=\"#000000\" font-family=\"sans-serif\" font-size=\"12\" font-style=\"italic\" lengthAdjust=\"spacingAndGlyphs\" textLength=\"40\" x=\"691\" y=\"227.1387\">«part»</text><text fill=\"#000000\" font-family=\"sans-serif\" font-size=\"12\" lengthAdjust=\"spacingAndGlyphs\" textLength=\"58\" x=\"682\" y=\"241.1074\">eng: Part</text><line style=\"stroke: #383838; stroke-width: 1.5;\" x1=\"666\" x2=\"756\" y1=\"248.9375\" y2=\"248.9375\"/><text fill=\"#000000\" font-family=\"sans-serif\" font-size=\"11\" lengthAdjust=\"spacingAndGlyphs\" textLength=\"80\" x=\"671\" y=\"263.1479\">m: MassValue</text><!--MD5=[ebbe1d658d1005bcc118a6aa81145e00]\n",
       "class E4--><rect fill=\"#FFFFFF\" height=\"58.7422\" id=\"E4\" rx=\"10\" ry=\"10\" style=\"stroke: #383838; stroke-width: 1.5;\" width=\"92\" x=\"792\" y=\"211\"/><text fill=\"#000000\" font-family=\"sans-serif\" font-size=\"12\" font-style=\"italic\" lengthAdjust=\"spacingAndGlyphs\" textLength=\"40\" x=\"818\" y=\"227.1387\">«part»</text><text fill=\"#000000\" font-family=\"sans-serif\" font-size=\"12\" lengthAdjust=\"spacingAndGlyphs\" textLength=\"67\" x=\"804.5\" y=\"241.1074\">trans: Part</text><line style=\"stroke: #383838; stroke-width: 1.5;\" x1=\"793\" x2=\"883\" y1=\"248.9375\" y2=\"248.9375\"/><text fill=\"#000000\" font-family=\"sans-serif\" font-size=\"11\" lengthAdjust=\"spacingAndGlyphs\" textLength=\"80\" x=\"798\" y=\"263.1479\">m: MassValue</text><!--MD5=[270fce915f116d4de14055a7c1d9a0f3]\n",
       "class E5--><rect fill=\"#FFFFFF\" height=\"45.9375\" id=\"E5\" style=\"stroke: #383838; stroke-width: 1.5;\" width=\"108\" x=\"327\" y=\"217.5\"/><text fill=\"#000000\" font-family=\"sans-serif\" font-size=\"12\" font-style=\"italic\" lengthAdjust=\"spacingAndGlyphs\" textLength=\"106\" x=\"328\" y=\"233.6387\">«calculation def»</text><text fill=\"#000000\" font-family=\"sans-serif\" font-size=\"12\" lengthAdjust=\"spacingAndGlyphs\" textLength=\"59\" x=\"351.5\" y=\"247.6074\">MassSum</text><line style=\"stroke: #383838; stroke-width: 1.5;\" x1=\"328\" x2=\"434\" y1=\"255.4375\" y2=\"255.4375\"/><!--MD5=[60a26617385b1d2d0262a64233df1f8d]\n",
       "class E6--><rect fill=\"#FFFFFF\" height=\"45.9375\" id=\"E6\" rx=\"10\" ry=\"10\" style=\"stroke: #383838; stroke-width: 1.5;\" width=\"91\" x=\"665.5\" y=\"73\"/><text fill=\"#000000\" font-family=\"sans-serif\" font-size=\"12\" font-style=\"italic\" lengthAdjust=\"spacingAndGlyphs\" textLength=\"82\" x=\"670\" y=\"89.1387\">«calculation»</text><text fill=\"#000000\" font-family=\"sans-serif\" font-size=\"12\" lengthAdjust=\"spacingAndGlyphs\" textLength=\"85\" x=\"668.5\" y=\"103.1074\">ms: MassSum</text><line style=\"stroke: #383838; stroke-width: 1.5;\" x1=\"666.5\" x2=\"755.5\" y1=\"110.9375\" y2=\"110.9375\"/><!--MD5=[2156ba9850f5573cc1fc38a6a4b2f02b]\n",
       "class E7--><rect fill=\"#FFFFFF\" height=\"71.5469\" id=\"E7\" style=\"stroke: #383838; stroke-width: 1.5;\" width=\"253\" x=\"377.5\" y=\"60\"/><text fill=\"#000000\" font-family=\"sans-serif\" font-size=\"12\" font-style=\"italic\" lengthAdjust=\"spacingAndGlyphs\" textLength=\"106\" x=\"451\" y=\"76.1387\">«calculation def»</text><text fill=\"#000000\" font-family=\"sans-serif\" font-size=\"12\" lengthAdjust=\"spacingAndGlyphs\" textLength=\"67\" x=\"470.5\" y=\"90.1074\">MassSum1</text><line style=\"stroke: #383838; stroke-width: 1.5;\" x1=\"378.5\" x2=\"629.5\" y1=\"97.9375\" y2=\"97.9375\"/><text fill=\"#000000\" font-family=\"sans-serif\" font-size=\"11\" lengthAdjust=\"spacingAndGlyphs\" textLength=\"136\" x=\"383.5\" y=\"112.1479\">partMasses: MassValue</text><text fill=\"#000000\" font-family=\"sans-serif\" font-size=\"11\" lengthAdjust=\"spacingAndGlyphs\" textLength=\"241\" x=\"383.5\" y=\"124.9526\">totalMass: MassValue= sum(partMasses);</text><!--MD5=[b9389687b975829384b498ac4b7476b2]\n",
       "class E8--><rect fill=\"#FFFFFF\" height=\"109.9609\" id=\"E8\" rx=\"10\" ry=\"10\" style=\"stroke: #383838; stroke-width: 1.5;\" width=\"310\" x=\"32\" y=\"41\"/><text fill=\"#000000\" font-family=\"sans-serif\" font-size=\"12\" font-style=\"italic\" lengthAdjust=\"spacingAndGlyphs\" textLength=\"82\" x=\"146\" y=\"57.1387\">«calculation»</text><text fill=\"#000000\" font-family=\"sans-serif\" font-size=\"12\" lengthAdjust=\"spacingAndGlyphs\" textLength=\"93\" x=\"140.5\" y=\"71.1074\">ms1: MassSum</text><line style=\"stroke: #383838; stroke-width: 1.5;\" x1=\"33\" x2=\"341\" y1=\"78.9375\" y2=\"78.9375\"/><text fill=\"#000000\" font-family=\"sans-serif\" font-size=\"11\" lengthAdjust=\"spacingAndGlyphs\" textLength=\"298\" x=\"38\" y=\"93.1479\">partMasses: MassValue= {vehicle::eng::m, vehicle::</text><text fill=\"#000000\" font-family=\"sans-serif\" font-size=\"11\" lengthAdjust=\"spacingAndGlyphs\" textLength=\"60\" x=\"38\" y=\"105.9526\">trans::m};</text><text fill=\"#000000\" font-family=\"sans-serif\" font-size=\"11\" font-style=\"italic\" lengthAdjust=\"spacingAndGlyphs\" textLength=\"153\" x=\"38\" y=\"118.7573\">:&gt;&gt;MassSum::partMasses</text><text fill=\"#000000\" font-family=\"sans-serif\" font-size=\"11\" lengthAdjust=\"spacingAndGlyphs\" textLength=\"199\" x=\"38\" y=\"131.562\">totalMass: MassValue= vehicle::m;</text><text fill=\"#000000\" font-family=\"sans-serif\" font-size=\"11\" font-style=\"italic\" lengthAdjust=\"spacingAndGlyphs\" textLength=\"141\" x=\"38\" y=\"144.3667\">:&gt;&gt;MassSum::totalMass</text><!--MD5=[209b3feb70ccb6233bfe1053d122c12c]\n",
       "reverse link E2 to E3--><path d=\"M803.63,135.57 C782.52,159.25 755.93,189.08 736.66,210.71 \" fill=\"none\" id=\"E2&lt;-E3\" style=\"stroke: #383838; stroke-width: 1.0;\"/><polygon fill=\"#383838\" points=\"812.3,125.84,805.3219,127.6581,804.3162,134.7987,811.2943,132.9806,812.3,125.84\" style=\"stroke: #383838; stroke-width: 1.0;\"/><!--MD5=[9618e71518536f8baf3342ff6fdab317]\n",
       "reverse link E2 to E4--><path d=\"M838,139.1 C838,162.16 838,190.15 838,210.71 \" fill=\"none\" id=\"E2&lt;-E4\" style=\"stroke: #383838; stroke-width: 1.0;\"/><polygon fill=\"#383838\" points=\"838,125.84,834,131.84,838,137.84,842,131.84,838,125.84\" style=\"stroke: #383838; stroke-width: 1.0;\"/><!--MD5=[25b190c987b1e74e5126d372c5a73af1]\n",
       "link E6 to E5--><path d=\"M685.01,119.28 C667.66,134.15 648,151 648,151 C648,151 533.07,189.1 454.02,215.3 \" fill=\"none\" id=\"E6-&gt;E5\" style=\"stroke: #383838; stroke-width: 1.0;\"/><polygon fill=\"#FFFFFF\" points=\"435.03,221.59,450.8585,208.9623,455.2677,222.2499,435.03,221.59\" style=\"stroke: #383838; stroke-width: 1.0;\"/><ellipse cx=\"456.8983\" cy=\"209.0654\" fill=\"#383838\" rx=\"2\" ry=\"2\" style=\"stroke: #383838; stroke-width: 1.0;\"/><ellipse cx=\"460.0477\" cy=\"218.5565\" fill=\"#383838\" rx=\"2\" ry=\"2\" style=\"stroke: #383838; stroke-width: 1.0;\"/><!--MD5=[1ccb2481ffa92f8d51a74ee30c51832a]\n",
       "link E8 to E5--><path d=\"M260.62,151.08 C285.44,169.31 312.43,189.13 334.55,205.38 \" fill=\"none\" id=\"E8-&gt;E5\" style=\"stroke: #383838; stroke-width: 1.0;\"/><polygon fill=\"#FFFFFF\" points=\"350.76,217.29,331.3013,211.69,339.5856,200.4041,350.76,217.29\" style=\"stroke: #383838; stroke-width: 1.0;\"/><ellipse cx=\"327.8899\" cy=\"206.7048\" fill=\"#383838\" rx=\"2\" ry=\"2\" style=\"stroke: #383838; stroke-width: 1.0;\"/><ellipse cx=\"333.8072\" cy=\"198.6435\" fill=\"#383838\" rx=\"2\" ry=\"2\" style=\"stroke: #383838; stroke-width: 1.0;\"/><!--MD5=[1ca84a0a575a799ffbbd5fdd8a5552c5]\n",
       "@startuml\r\n",
       "skinparam linetype polyline\r\n",
       "skinparam monochrome true\r\n",
       "skinparam classbackgroundcolor white\r\n",
       "skinparam shadowing false\r\n",
       "skinparam wrapWidth 300\r\n",
       "hide circle\r\n",
       "\r\n",
       "package \"CalculationExample\" as E1   {\r\n",
       "comp usage \"vehicle: Part\" as E2  <<(T,blue)part>> {\r\n",
       "m: MassValue\r\n",
       "}\r\n",
       "comp usage \"eng: Part\" as E3  <<(T,blue)part>> {\r\n",
       "m: MassValue\r\n",
       "}\r\n",
       "comp usage \"trans: Part\" as E4  <<(T,blue)part>> {\r\n",
       "m: MassValue\r\n",
       "}\r\n",
       "comp def \"MassSum\" as E5  <<(T,blue)calculation def>> {\r\n",
       "}\r\n",
       "comp usage \"ms: MassSum\" as E6  <<(T,blue)calculation>> {\r\n",
       "}\r\n",
       "comp def \"MassSum1\" as E7  <<(T,blue)calculation def>> {\r\n",
       "partMasses: MassValue\r\n",
       "totalMass: MassValue= sum(partMasses); \r\n",
       "}\r\n",
       "comp usage \"ms1: MassSum\" as E8  <<(T,blue)calculation>> {\r\n",
       "partMasses: MassValue= {vehicle::eng::m, vehicle::trans::m}; \\n//:>>MassSum::partMasses// \r\n",
       "totalMass: MassValue= vehicle::m; \\n//:>>MassSum::totalMass// \r\n",
       "}\r\n",
       "E2 *- - E3\r\n",
       "E2 *- - E4\r\n",
       "E6 - -:|> E5\r\n",
       "E8 - -:|> E5\r\n",
       "}\r\n",
       "@enduml\r\n",
       "\n",
       "PlantUML version 1.2020.13(Sat Jun 13 12:26:38 UTC 2020)\n",
       "(EPL source distribution)\n",
       "Java Runtime: OpenJDK Runtime Environment\n",
       "JVM: OpenJDK 64-Bit Server VM\n",
       "Default Encoding: UTF-8\n",
       "Language: en\n",
       "Country: null\n",
       "--></g></svg>"
      ]
     },
     "execution_count": 10,
     "metadata": {},
     "output_type": "execute_result"
    }
   ],
   "source": [
    "%viz --style=\"POLYLINE\" --view=\"Tree\" \"CalculationExample\""
   ]
  },
  {
   "cell_type": "code",
   "execution_count": 11,
   "id": "racial-miami",
   "metadata": {
    "execution": {
     "iopub.execute_input": "2021-03-26T09:44:26.592868Z",
     "iopub.status.busy": "2021-03-26T09:44:26.591831Z",
     "iopub.status.idle": "2021-03-26T09:44:26.595308Z",
     "shell.execute_reply": "2021-03-26T09:44:26.595006Z"
    }
   },
   "outputs": [
    {
     "data": {
      "text/plain": [
       "java.lang.IllegalArgumentException: Invalid View: State View candidates are: Default Tree StateMachine Interconnection Activity Sequence MIXED \n",
       "\tat org.omg.sysml.plantuml.SysML2PlantUMLSvc.setView(SysML2PlantUMLSvc.java:63)\n",
       "\tat org.omg.sysml.interactive.SysMLInteractive.viz(SysMLInteractive.java:286)\n",
       "\tat org.omg.sysml.jupyter.kernel.magic.Viz.viz(Viz.java:47)\n",
       "\tat java.base/jdk.internal.reflect.NativeMethodAccessorImpl.invoke0(Native Method)\n",
       "\tat java.base/jdk.internal.reflect.NativeMethodAccessorImpl.invoke(NativeMethodAccessorImpl.java:78)\n",
       "\tat java.base/jdk.internal.reflect.DelegatingMethodAccessorImpl.invoke(DelegatingMethodAccessorImpl.java:43)\n",
       "\tat java.base/java.lang.reflect.Method.invoke(Method.java:568)\n",
       "\tat io.github.spencerpark.jupyter.kernel.magic.registry.Magics.invoke(Magics.java:89)\n",
       "\tat io.github.spencerpark.jupyter.kernel.magic.registry.Magics.access$000(Magics.java:8)\n",
       "\tat io.github.spencerpark.jupyter.kernel.magic.registry.Magics$LineReflectionMagicFunction.execute(Magics.java:149)\n",
       "\tat io.github.spencerpark.jupyter.kernel.magic.registry.Magics.applyLineMagic(Magics.java:26)\n",
       "\tat org.omg.sysml.jupyter.kernel.SysMLKernel.eval(SysMLKernel.java:76)\n",
       "\tat io.github.spencerpark.jupyter.kernel.BaseKernel.handleExecuteRequest(BaseKernel.java:334)\n",
       "\tat io.github.spencerpark.jupyter.channels.ShellChannel.lambda$bind$0(ShellChannel.java:64)\n",
       "\tat io.github.spencerpark.jupyter.channels.Loop.lambda$new$0(Loop.java:21)\n",
       "\tat io.github.spencerpark.jupyter.channels.Loop.run(Loop.java:78)\n"
      ]
     },
     "execution_count": 11,
     "metadata": {},
     "output_type": "execute_result"
    }
   ],
   "source": [
    "%viz --style=\"POLYLINE\" --view=\"State\" \"CalculationExample\""
   ]
  },
  {
   "cell_type": "code",
   "execution_count": 12,
   "id": "dirty-guess",
   "metadata": {
    "execution": {
     "iopub.execute_input": "2021-03-26T09:44:26.647029Z",
     "iopub.status.busy": "2021-03-26T09:44:26.646360Z",
     "iopub.status.idle": "2021-03-26T09:44:26.687461Z",
     "shell.execute_reply": "2021-03-26T09:44:26.687850Z"
    }
   },
   "outputs": [
    {
     "data": {
      "image/svg+xml": [
       "<?xml version=\"1.0\" encoding=\"UTF-8\" standalone=\"no\"?><svg xmlns=\"http://www.w3.org/2000/svg\" xmlns:xlink=\"http://www.w3.org/1999/xlink\" contentScriptType=\"application/ecmascript\" contentStyleType=\"text/css\" height=\"253px\" preserveAspectRatio=\"none\" style=\"width:843px;height:253px;\" version=\"1.1\" viewBox=\"0 0 843 253\" width=\"843px\" zoomAndPan=\"magnify\"><defs/><g><!--MD5=[fbc87193dbaf4d95561dea2c320d4a47]\n",
       "cluster E1--><polygon fill=\"#FFFFFF\" points=\"16,6,173,6,180,28.2969,821,28.2969,821,241,16,241,16,6\" style=\"stroke: #000000; stroke-width: 1.5;\"/><line style=\"stroke: #000000; stroke-width: 1.5;\" x1=\"16\" x2=\"180\" y1=\"28.2969\" y2=\"28.2969\"/><text fill=\"#000000\" font-family=\"sans-serif\" font-size=\"14\" font-weight=\"bold\" lengthAdjust=\"spacingAndGlyphs\" textLength=\"151\" x=\"20\" y=\"20.9951\">CalculationExample</text><!--MD5=[e4f7fae6ed58524ba242bb0b0d3be6b7]\n",
       "cluster E2--><rect fill=\"#F8F8F8\" height=\"168\" rx=\"12.5\" ry=\"12.5\" style=\"stroke: #000000; stroke-width: 1.5;\" width=\"495\" x=\"302\" y=\"49\"/><rect fill=\"#FFFFFF\" height=\"135.7031\" rx=\"12.5\" ry=\"12.5\" style=\"stroke: #FFFFFF; stroke-width: 1.0;\" width=\"489\" x=\"305\" y=\"78.2969\"/><line style=\"stroke: #000000; stroke-width: 1.5;\" x1=\"302\" x2=\"797\" y1=\"75.2969\" y2=\"75.2969\"/><text fill=\"#000000\" font-family=\"sans-serif\" font-size=\"14\" lengthAdjust=\"spacingAndGlyphs\" textLength=\"84\" x=\"507.5\" y=\"65.9951\">vehicle: Part</text><!--MD5=[f6df4d0ebaf0b5dfb2ced0ae5af7c670]\n",
       "cluster E4--><rect fill=\"#F8F8F8\" height=\"101\" rx=\"12.5\" ry=\"12.5\" style=\"stroke: #000000; stroke-width: 1.5;\" width=\"148\" x=\"625\" y=\"92\"/><rect fill=\"#FFFFFF\" height=\"68.7031\" rx=\"12.5\" ry=\"12.5\" style=\"stroke: #FFFFFF; stroke-width: 1.0;\" width=\"142\" x=\"628\" y=\"121.2969\"/><line style=\"stroke: #000000; stroke-width: 1.5;\" x1=\"625\" x2=\"773\" y1=\"118.2969\" y2=\"118.2969\"/><text fill=\"#000000\" font-family=\"sans-serif\" font-size=\"14\" lengthAdjust=\"spacingAndGlyphs\" textLength=\"63\" x=\"667.5\" y=\"108.9951\">eng: Part</text><!--MD5=[14e3b0961a2654348d326746436168a1]\n",
       "cluster E6--><rect fill=\"#F8F8F8\" height=\"101\" rx=\"12.5\" ry=\"12.5\" style=\"stroke: #000000; stroke-width: 1.5;\" width=\"148\" x=\"453\" y=\"92\"/><rect fill=\"#FFFFFF\" height=\"68.7031\" rx=\"12.5\" ry=\"12.5\" style=\"stroke: #FFFFFF; stroke-width: 1.0;\" width=\"142\" x=\"456\" y=\"121.2969\"/><line style=\"stroke: #000000; stroke-width: 1.5;\" x1=\"453\" x2=\"601\" y1=\"118.2969\" y2=\"118.2969\"/><text fill=\"#000000\" font-family=\"sans-serif\" font-size=\"14\" lengthAdjust=\"spacingAndGlyphs\" textLength=\"71\" x=\"491.5\" y=\"108.9951\">trans: Part</text><!--MD5=[b9389687b975829384b498ac4b7476b2]\n",
       "class E8--><rect fill=\"#FFFFFF\" height=\"53.9375\" id=\"E8\" style=\"stroke: #383838; stroke-width: 1.5;\" width=\"108\" x=\"175\" y=\"125\"/><text fill=\"#000000\" font-family=\"sans-serif\" font-size=\"12\" font-style=\"italic\" lengthAdjust=\"spacingAndGlyphs\" textLength=\"106\" x=\"176\" y=\"141.1387\">«calculation def»</text><text fill=\"#000000\" font-family=\"sans-serif\" font-size=\"12\" lengthAdjust=\"spacingAndGlyphs\" textLength=\"59\" x=\"199.5\" y=\"155.1074\">MassSum</text><line style=\"stroke: #383838; stroke-width: 1.5;\" x1=\"176\" x2=\"282\" y1=\"162.9375\" y2=\"162.9375\"/><line style=\"stroke: #383838; stroke-width: 1.5;\" x1=\"176\" x2=\"282\" y1=\"170.9375\" y2=\"170.9375\"/><!--MD5=[fd4143e9d270a159db93a4ea2a975926]\n",
       "class E9--><rect fill=\"#FFFFFF\" height=\"53.9375\" id=\"E9\" style=\"stroke: #383838; stroke-width: 1.5;\" width=\"108\" x=\"32\" y=\"125\"/><text fill=\"#000000\" font-family=\"sans-serif\" font-size=\"12\" font-style=\"italic\" lengthAdjust=\"spacingAndGlyphs\" textLength=\"106\" x=\"33\" y=\"141.1387\">«calculation def»</text><text fill=\"#000000\" font-family=\"sans-serif\" font-size=\"12\" lengthAdjust=\"spacingAndGlyphs\" textLength=\"67\" x=\"52.5\" y=\"155.1074\">MassSum1</text><line style=\"stroke: #383838; stroke-width: 1.5;\" x1=\"33\" x2=\"139\" y1=\"162.9375\" y2=\"162.9375\"/><line style=\"stroke: #383838; stroke-width: 1.5;\" x1=\"33\" x2=\"139\" y1=\"170.9375\" y2=\"170.9375\"/><g id=\"E1.E2.E3\"><rect fill=\"#FFFFFF\" height=\"50\" rx=\"12.5\" ry=\"12.5\" style=\"stroke: #383838; stroke-width: 1.5;\" width=\"116\" x=\"318\" y=\"127\"/><line style=\"stroke: #383838; stroke-width: 1.5;\" x1=\"318\" x2=\"434\" y1=\"153.2969\" y2=\"153.2969\"/><text fill=\"#000000\" font-family=\"sans-serif\" font-size=\"14\" lengthAdjust=\"spacingAndGlyphs\" textLength=\"96\" x=\"328\" y=\"144.9951\">m: MassValue</text></g><g id=\"E1.E2.E4.E5\"><rect fill=\"#FFFFFF\" height=\"50\" rx=\"12.5\" ry=\"12.5\" style=\"stroke: #383838; stroke-width: 1.5;\" width=\"116\" x=\"641\" y=\"127\"/><line style=\"stroke: #383838; stroke-width: 1.5;\" x1=\"641\" x2=\"757\" y1=\"153.2969\" y2=\"153.2969\"/><text fill=\"#000000\" font-family=\"sans-serif\" font-size=\"14\" lengthAdjust=\"spacingAndGlyphs\" textLength=\"96\" x=\"651\" y=\"144.9951\">m: MassValue</text></g><g id=\"E1.E2.E6.E7\"><rect fill=\"#FFFFFF\" height=\"50\" rx=\"12.5\" ry=\"12.5\" style=\"stroke: #383838; stroke-width: 1.5;\" width=\"116\" x=\"469\" y=\"127\"/><line style=\"stroke: #383838; stroke-width: 1.5;\" x1=\"469\" x2=\"585\" y1=\"153.2969\" y2=\"153.2969\"/><text fill=\"#000000\" font-family=\"sans-serif\" font-size=\"14\" lengthAdjust=\"spacingAndGlyphs\" textLength=\"96\" x=\"479\" y=\"144.9951\">m: MassValue</text></g><!--MD5=[f975994c303bc3473bf7a12e26faed55]\n",
       "@startuml\r\n",
       "skinparam ranksep 8\r\n",
       "skinparam rectangle {\r\n",
       " backgroundColor<<block>> LightGreen\r\n",
       "}\r\n",
       "skinparam linetype polyline\r\n",
       "skinparam monochrome true\r\n",
       "skinparam classbackgroundcolor white\r\n",
       "skinparam shadowing false\r\n",
       "skinparam wrapWidth 300\r\n",
       "hide circle\r\n",
       "\r\n",
       "package \"CalculationExample\" as E1   {\r\n",
       "rec usage \"vehicle: Part\" as E2  {\r\n",
       "rec usage \"m: MassValue\" as E3  <<attribute>> {\r\n",
       "}\r\n",
       "rec usage \"eng: Part\" as E4  {\r\n",
       "rec usage \"m: MassValue\" as E5  <<attribute>> {\r\n",
       "}\r\n",
       "}\r\n",
       "rec usage \"trans: Part\" as E6  {\r\n",
       "rec usage \"m: MassValue\" as E7  <<attribute>> {\r\n",
       "}\r\n",
       "}\r\n",
       "}\r\n",
       "def \"MassSum\" as E8  <<calculation def>> \r\n",
       "def \"MassSum1\" as E9  <<calculation def>> \r\n",
       "}\r\n",
       "@enduml\r\n",
       "\n",
       "PlantUML version 1.2020.13(Sat Jun 13 12:26:38 UTC 2020)\n",
       "(EPL source distribution)\n",
       "Java Runtime: OpenJDK Runtime Environment\n",
       "JVM: OpenJDK 64-Bit Server VM\n",
       "Default Encoding: UTF-8\n",
       "Language: en\n",
       "Country: null\n",
       "--></g></svg>"
      ]
     },
     "execution_count": 12,
     "metadata": {},
     "output_type": "execute_result"
    }
   ],
   "source": [
    "%viz --style=\"POLYLINE\" --view=\"Interconnection\" \"CalculationExample\""
   ]
  },
  {
   "cell_type": "code",
   "execution_count": 13,
   "id": "creative-beginning",
   "metadata": {
    "execution": {
     "iopub.execute_input": "2021-03-26T09:44:26.739401Z",
     "iopub.status.busy": "2021-03-26T09:44:26.738823Z",
     "iopub.status.idle": "2021-03-26T09:44:26.742419Z",
     "shell.execute_reply": "2021-03-26T09:44:26.742879Z"
    }
   },
   "outputs": [
    {
     "data": {
      "text/plain": [
       "java.lang.IllegalArgumentException: Invalid View: Action View candidates are: Default Tree StateMachine Interconnection Activity Sequence MIXED \n",
       "\tat org.omg.sysml.plantuml.SysML2PlantUMLSvc.setView(SysML2PlantUMLSvc.java:63)\n",
       "\tat org.omg.sysml.interactive.SysMLInteractive.viz(SysMLInteractive.java:286)\n",
       "\tat org.omg.sysml.jupyter.kernel.magic.Viz.viz(Viz.java:47)\n",
       "\tat java.base/jdk.internal.reflect.NativeMethodAccessorImpl.invoke0(Native Method)\n",
       "\tat java.base/jdk.internal.reflect.NativeMethodAccessorImpl.invoke(NativeMethodAccessorImpl.java:78)\n",
       "\tat java.base/jdk.internal.reflect.DelegatingMethodAccessorImpl.invoke(DelegatingMethodAccessorImpl.java:43)\n",
       "\tat java.base/java.lang.reflect.Method.invoke(Method.java:568)\n",
       "\tat io.github.spencerpark.jupyter.kernel.magic.registry.Magics.invoke(Magics.java:89)\n",
       "\tat io.github.spencerpark.jupyter.kernel.magic.registry.Magics.access$000(Magics.java:8)\n",
       "\tat io.github.spencerpark.jupyter.kernel.magic.registry.Magics$LineReflectionMagicFunction.execute(Magics.java:149)\n",
       "\tat io.github.spencerpark.jupyter.kernel.magic.registry.Magics.applyLineMagic(Magics.java:26)\n",
       "\tat org.omg.sysml.jupyter.kernel.SysMLKernel.eval(SysMLKernel.java:76)\n",
       "\tat io.github.spencerpark.jupyter.kernel.BaseKernel.handleExecuteRequest(BaseKernel.java:334)\n",
       "\tat io.github.spencerpark.jupyter.channels.ShellChannel.lambda$bind$0(ShellChannel.java:64)\n",
       "\tat io.github.spencerpark.jupyter.channels.Loop.lambda$new$0(Loop.java:21)\n",
       "\tat io.github.spencerpark.jupyter.channels.Loop.run(Loop.java:78)\n"
      ]
     },
     "execution_count": 13,
     "metadata": {},
     "output_type": "execute_result"
    }
   ],
   "source": [
    "%viz --style=\"POLYLINE\" --view=\"Action\" \"CalculationExample\""
   ]
  },
  {
   "cell_type": "code",
   "execution_count": 14,
   "id": "romance-document",
   "metadata": {
    "execution": {
     "iopub.execute_input": "2021-03-26T09:44:26.795616Z",
     "iopub.status.busy": "2021-03-26T09:44:26.794323Z",
     "iopub.status.idle": "2021-03-26T09:44:26.934931Z",
     "shell.execute_reply": "2021-03-26T09:44:26.934076Z"
    }
   },
   "outputs": [
    {
     "data": {
      "image/svg+xml": [
       "<?xml version=\"1.0\" encoding=\"UTF-8\" standalone=\"no\"?><svg xmlns=\"http://www.w3.org/2000/svg\" xmlns:xlink=\"http://www.w3.org/1999/xlink\" contentScriptType=\"application/ecmascript\" contentStyleType=\"text/css\" height=\"298px\" preserveAspectRatio=\"none\" style=\"width:922px;height:298px;\" version=\"1.1\" viewBox=\"0 0 922 298\" width=\"922px\" zoomAndPan=\"magnify\"><defs/><g><!--MD5=[fbc87193dbaf4d95561dea2c320d4a47]\n",
       "cluster E1--><polygon fill=\"#FFFFFF\" points=\"16,6,173,6,180,28.2969,900,28.2969,900,286,16,286,16,6\" style=\"stroke: #000000; stroke-width: 1.5;\"/><line style=\"stroke: #000000; stroke-width: 1.5;\" x1=\"16\" x2=\"180\" y1=\"28.2969\" y2=\"28.2969\"/><text fill=\"#000000\" font-family=\"sans-serif\" font-size=\"14\" font-weight=\"bold\" lengthAdjust=\"spacingAndGlyphs\" textLength=\"151\" x=\"20\" y=\"20.9951\">CalculationExample</text><!--MD5=[b4997ac47864f28c2f74865a473b2911]\n",
       "class E2--><rect fill=\"#FFFFFF\" height=\"58.7422\" id=\"E2\" rx=\"10\" ry=\"10\" style=\"stroke: #383838; stroke-width: 1.5;\" width=\"92\" x=\"792\" y=\"66.5\"/><text fill=\"#000000\" font-family=\"sans-serif\" font-size=\"12\" font-style=\"italic\" lengthAdjust=\"spacingAndGlyphs\" textLength=\"40\" x=\"818\" y=\"82.6387\">«part»</text><text fill=\"#000000\" font-family=\"sans-serif\" font-size=\"12\" lengthAdjust=\"spacingAndGlyphs\" textLength=\"77\" x=\"799.5\" y=\"96.6074\">vehicle: Part</text><line style=\"stroke: #383838; stroke-width: 1.5;\" x1=\"793\" x2=\"883\" y1=\"104.4375\" y2=\"104.4375\"/><text fill=\"#000000\" font-family=\"sans-serif\" font-size=\"11\" lengthAdjust=\"spacingAndGlyphs\" textLength=\"80\" x=\"798\" y=\"118.6479\">m: MassValue</text><!--MD5=[09b614a08d8cba4a07c9adeb5e0fee81]\n",
       "class E3--><rect fill=\"#FFFFFF\" height=\"58.7422\" id=\"E3\" rx=\"10\" ry=\"10\" style=\"stroke: #383838; stroke-width: 1.5;\" width=\"92\" x=\"665\" y=\"211\"/><text fill=\"#000000\" font-family=\"sans-serif\" font-size=\"12\" font-style=\"italic\" lengthAdjust=\"spacingAndGlyphs\" textLength=\"40\" x=\"691\" y=\"227.1387\">«part»</text><text fill=\"#000000\" font-family=\"sans-serif\" font-size=\"12\" lengthAdjust=\"spacingAndGlyphs\" textLength=\"58\" x=\"682\" y=\"241.1074\">eng: Part</text><line style=\"stroke: #383838; stroke-width: 1.5;\" x1=\"666\" x2=\"756\" y1=\"248.9375\" y2=\"248.9375\"/><text fill=\"#000000\" font-family=\"sans-serif\" font-size=\"11\" lengthAdjust=\"spacingAndGlyphs\" textLength=\"80\" x=\"671\" y=\"263.1479\">m: MassValue</text><!--MD5=[ebbe1d658d1005bcc118a6aa81145e00]\n",
       "class E4--><rect fill=\"#FFFFFF\" height=\"58.7422\" id=\"E4\" rx=\"10\" ry=\"10\" style=\"stroke: #383838; stroke-width: 1.5;\" width=\"92\" x=\"792\" y=\"211\"/><text fill=\"#000000\" font-family=\"sans-serif\" font-size=\"12\" font-style=\"italic\" lengthAdjust=\"spacingAndGlyphs\" textLength=\"40\" x=\"818\" y=\"227.1387\">«part»</text><text fill=\"#000000\" font-family=\"sans-serif\" font-size=\"12\" lengthAdjust=\"spacingAndGlyphs\" textLength=\"67\" x=\"804.5\" y=\"241.1074\">trans: Part</text><line style=\"stroke: #383838; stroke-width: 1.5;\" x1=\"793\" x2=\"883\" y1=\"248.9375\" y2=\"248.9375\"/><text fill=\"#000000\" font-family=\"sans-serif\" font-size=\"11\" lengthAdjust=\"spacingAndGlyphs\" textLength=\"80\" x=\"798\" y=\"263.1479\">m: MassValue</text><!--MD5=[270fce915f116d4de14055a7c1d9a0f3]\n",
       "class E5--><rect fill=\"#FFFFFF\" height=\"45.9375\" id=\"E5\" style=\"stroke: #383838; stroke-width: 1.5;\" width=\"108\" x=\"327\" y=\"217.5\"/><text fill=\"#000000\" font-family=\"sans-serif\" font-size=\"12\" font-style=\"italic\" lengthAdjust=\"spacingAndGlyphs\" textLength=\"106\" x=\"328\" y=\"233.6387\">«calculation def»</text><text fill=\"#000000\" font-family=\"sans-serif\" font-size=\"12\" lengthAdjust=\"spacingAndGlyphs\" textLength=\"59\" x=\"351.5\" y=\"247.6074\">MassSum</text><line style=\"stroke: #383838; stroke-width: 1.5;\" x1=\"328\" x2=\"434\" y1=\"255.4375\" y2=\"255.4375\"/><!--MD5=[60a26617385b1d2d0262a64233df1f8d]\n",
       "class E6--><rect fill=\"#FFFFFF\" height=\"45.9375\" id=\"E6\" rx=\"10\" ry=\"10\" style=\"stroke: #383838; stroke-width: 1.5;\" width=\"91\" x=\"665.5\" y=\"73\"/><text fill=\"#000000\" font-family=\"sans-serif\" font-size=\"12\" font-style=\"italic\" lengthAdjust=\"spacingAndGlyphs\" textLength=\"82\" x=\"670\" y=\"89.1387\">«calculation»</text><text fill=\"#000000\" font-family=\"sans-serif\" font-size=\"12\" lengthAdjust=\"spacingAndGlyphs\" textLength=\"85\" x=\"668.5\" y=\"103.1074\">ms: MassSum</text><line style=\"stroke: #383838; stroke-width: 1.5;\" x1=\"666.5\" x2=\"755.5\" y1=\"110.9375\" y2=\"110.9375\"/><!--MD5=[2156ba9850f5573cc1fc38a6a4b2f02b]\n",
       "class E7--><rect fill=\"#FFFFFF\" height=\"71.5469\" id=\"E7\" style=\"stroke: #383838; stroke-width: 1.5;\" width=\"253\" x=\"377.5\" y=\"60\"/><text fill=\"#000000\" font-family=\"sans-serif\" font-size=\"12\" font-style=\"italic\" lengthAdjust=\"spacingAndGlyphs\" textLength=\"106\" x=\"451\" y=\"76.1387\">«calculation def»</text><text fill=\"#000000\" font-family=\"sans-serif\" font-size=\"12\" lengthAdjust=\"spacingAndGlyphs\" textLength=\"67\" x=\"470.5\" y=\"90.1074\">MassSum1</text><line style=\"stroke: #383838; stroke-width: 1.5;\" x1=\"378.5\" x2=\"629.5\" y1=\"97.9375\" y2=\"97.9375\"/><text fill=\"#000000\" font-family=\"sans-serif\" font-size=\"11\" lengthAdjust=\"spacingAndGlyphs\" textLength=\"136\" x=\"383.5\" y=\"112.1479\">partMasses: MassValue</text><text fill=\"#000000\" font-family=\"sans-serif\" font-size=\"11\" lengthAdjust=\"spacingAndGlyphs\" textLength=\"241\" x=\"383.5\" y=\"124.9526\">totalMass: MassValue= sum(partMasses);</text><!--MD5=[b9389687b975829384b498ac4b7476b2]\n",
       "class E8--><rect fill=\"#FFFFFF\" height=\"109.9609\" id=\"E8\" rx=\"10\" ry=\"10\" style=\"stroke: #383838; stroke-width: 1.5;\" width=\"310\" x=\"32\" y=\"41\"/><text fill=\"#000000\" font-family=\"sans-serif\" font-size=\"12\" font-style=\"italic\" lengthAdjust=\"spacingAndGlyphs\" textLength=\"82\" x=\"146\" y=\"57.1387\">«calculation»</text><text fill=\"#000000\" font-family=\"sans-serif\" font-size=\"12\" lengthAdjust=\"spacingAndGlyphs\" textLength=\"93\" x=\"140.5\" y=\"71.1074\">ms1: MassSum</text><line style=\"stroke: #383838; stroke-width: 1.5;\" x1=\"33\" x2=\"341\" y1=\"78.9375\" y2=\"78.9375\"/><text fill=\"#000000\" font-family=\"sans-serif\" font-size=\"11\" lengthAdjust=\"spacingAndGlyphs\" textLength=\"298\" x=\"38\" y=\"93.1479\">partMasses: MassValue= {vehicle::eng::m, vehicle::</text><text fill=\"#000000\" font-family=\"sans-serif\" font-size=\"11\" lengthAdjust=\"spacingAndGlyphs\" textLength=\"60\" x=\"38\" y=\"105.9526\">trans::m};</text><text fill=\"#000000\" font-family=\"sans-serif\" font-size=\"11\" font-style=\"italic\" lengthAdjust=\"spacingAndGlyphs\" textLength=\"153\" x=\"38\" y=\"118.7573\">:&gt;&gt;MassSum::partMasses</text><text fill=\"#000000\" font-family=\"sans-serif\" font-size=\"11\" lengthAdjust=\"spacingAndGlyphs\" textLength=\"199\" x=\"38\" y=\"131.562\">totalMass: MassValue= vehicle::m;</text><text fill=\"#000000\" font-family=\"sans-serif\" font-size=\"11\" font-style=\"italic\" lengthAdjust=\"spacingAndGlyphs\" textLength=\"141\" x=\"38\" y=\"144.3667\">:&gt;&gt;MassSum::totalMass</text><!--MD5=[209b3feb70ccb6233bfe1053d122c12c]\n",
       "reverse link E2 to E3--><path d=\"M803.63,135.57 C782.52,159.25 755.93,189.08 736.66,210.71 \" fill=\"none\" id=\"E2&lt;-E3\" style=\"stroke: #383838; stroke-width: 1.0;\"/><polygon fill=\"#383838\" points=\"812.3,125.84,805.3219,127.6581,804.3162,134.7987,811.2943,132.9806,812.3,125.84\" style=\"stroke: #383838; stroke-width: 1.0;\"/><!--MD5=[9618e71518536f8baf3342ff6fdab317]\n",
       "reverse link E2 to E4--><path d=\"M838,139.1 C838,162.16 838,190.15 838,210.71 \" fill=\"none\" id=\"E2&lt;-E4\" style=\"stroke: #383838; stroke-width: 1.0;\"/><polygon fill=\"#383838\" points=\"838,125.84,834,131.84,838,137.84,842,131.84,838,125.84\" style=\"stroke: #383838; stroke-width: 1.0;\"/><!--MD5=[25b190c987b1e74e5126d372c5a73af1]\n",
       "link E6 to E5--><path d=\"M685.01,119.28 C667.66,134.15 648,151 648,151 C648,151 533.07,189.1 454.02,215.3 \" fill=\"none\" id=\"E6-&gt;E5\" style=\"stroke: #383838; stroke-width: 1.0;\"/><polygon fill=\"#FFFFFF\" points=\"435.03,221.59,450.8585,208.9623,455.2677,222.2499,435.03,221.59\" style=\"stroke: #383838; stroke-width: 1.0;\"/><ellipse cx=\"456.8983\" cy=\"209.0654\" fill=\"#383838\" rx=\"2\" ry=\"2\" style=\"stroke: #383838; stroke-width: 1.0;\"/><ellipse cx=\"460.0477\" cy=\"218.5565\" fill=\"#383838\" rx=\"2\" ry=\"2\" style=\"stroke: #383838; stroke-width: 1.0;\"/><!--MD5=[1ccb2481ffa92f8d51a74ee30c51832a]\n",
       "link E8 to E5--><path d=\"M260.62,151.08 C285.44,169.31 312.43,189.13 334.55,205.38 \" fill=\"none\" id=\"E8-&gt;E5\" style=\"stroke: #383838; stroke-width: 1.0;\"/><polygon fill=\"#FFFFFF\" points=\"350.76,217.29,331.3013,211.69,339.5856,200.4041,350.76,217.29\" style=\"stroke: #383838; stroke-width: 1.0;\"/><ellipse cx=\"327.8899\" cy=\"206.7048\" fill=\"#383838\" rx=\"2\" ry=\"2\" style=\"stroke: #383838; stroke-width: 1.0;\"/><ellipse cx=\"333.8072\" cy=\"198.6435\" fill=\"#383838\" rx=\"2\" ry=\"2\" style=\"stroke: #383838; stroke-width: 1.0;\"/><!--MD5=[1ca84a0a575a799ffbbd5fdd8a5552c5]\n",
       "@startuml\r\n",
       "skinparam linetype polyline\r\n",
       "skinparam monochrome true\r\n",
       "skinparam classbackgroundcolor white\r\n",
       "skinparam shadowing false\r\n",
       "skinparam wrapWidth 300\r\n",
       "hide circle\r\n",
       "\r\n",
       "package \"CalculationExample\" as E1   {\r\n",
       "comp usage \"vehicle: Part\" as E2  <<(T,blue)part>> {\r\n",
       "m: MassValue\r\n",
       "}\r\n",
       "comp usage \"eng: Part\" as E3  <<(T,blue)part>> {\r\n",
       "m: MassValue\r\n",
       "}\r\n",
       "comp usage \"trans: Part\" as E4  <<(T,blue)part>> {\r\n",
       "m: MassValue\r\n",
       "}\r\n",
       "comp def \"MassSum\" as E5  <<(T,blue)calculation def>> {\r\n",
       "}\r\n",
       "comp usage \"ms: MassSum\" as E6  <<(T,blue)calculation>> {\r\n",
       "}\r\n",
       "comp def \"MassSum1\" as E7  <<(T,blue)calculation def>> {\r\n",
       "partMasses: MassValue\r\n",
       "totalMass: MassValue= sum(partMasses); \r\n",
       "}\r\n",
       "comp usage \"ms1: MassSum\" as E8  <<(T,blue)calculation>> {\r\n",
       "partMasses: MassValue= {vehicle::eng::m, vehicle::trans::m}; \\n//:>>MassSum::partMasses// \r\n",
       "totalMass: MassValue= vehicle::m; \\n//:>>MassSum::totalMass// \r\n",
       "}\r\n",
       "E2 *- - E3\r\n",
       "E2 *- - E4\r\n",
       "E6 - -:|> E5\r\n",
       "E8 - -:|> E5\r\n",
       "}\r\n",
       "@enduml\r\n",
       "\n",
       "PlantUML version 1.2020.13(Sat Jun 13 12:26:38 UTC 2020)\n",
       "(EPL source distribution)\n",
       "Java Runtime: OpenJDK Runtime Environment\n",
       "JVM: OpenJDK 64-Bit Server VM\n",
       "Default Encoding: UTF-8\n",
       "Language: en\n",
       "Country: null\n",
       "--></g></svg>"
      ]
     },
     "execution_count": 14,
     "metadata": {},
     "output_type": "execute_result"
    }
   ],
   "source": [
    "%viz --style=\"POLYLINE\" --view=\"Sequence\" \"CalculationExample\""
   ]
  },
  {
   "cell_type": "code",
   "execution_count": 15,
   "id": "abstract-attachment",
   "metadata": {
    "execution": {
     "iopub.execute_input": "2021-03-26T09:44:26.991119Z",
     "iopub.status.busy": "2021-03-26T09:44:26.990117Z",
     "iopub.status.idle": "2021-03-26T09:44:27.082234Z",
     "shell.execute_reply": "2021-03-26T09:44:27.081961Z"
    }
   },
   "outputs": [
    {
     "data": {
      "image/svg+xml": [
       "<?xml version=\"1.0\" encoding=\"UTF-8\" standalone=\"no\"?><svg xmlns=\"http://www.w3.org/2000/svg\" xmlns:xlink=\"http://www.w3.org/1999/xlink\" contentScriptType=\"application/ecmascript\" contentStyleType=\"text/css\" height=\"446px\" preserveAspectRatio=\"none\" style=\"width:920px;height:446px;\" version=\"1.1\" viewBox=\"0 0 920 446\" width=\"920px\" zoomAndPan=\"magnify\"><defs/><g><!--MD5=[fbc87193dbaf4d95561dea2c320d4a47]\n",
       "cluster E1--><polygon fill=\"#FFFFFF\" points=\"16,6,173,6,180,28.2969,898,28.2969,898,434.72,16,434.72,16,6\" style=\"stroke: #000000; stroke-width: 1.5;\"/><line style=\"stroke: #000000; stroke-width: 1.5;\" x1=\"16\" x2=\"180\" y1=\"28.2969\" y2=\"28.2969\"/><text fill=\"#000000\" font-family=\"sans-serif\" font-size=\"14\" font-weight=\"bold\" lengthAdjust=\"spacingAndGlyphs\" textLength=\"151\" x=\"20\" y=\"20.9951\">CalculationExample</text><!--MD5=[de5ec2e2e8f62f467e546659f5068c88]\n",
       "cluster E5--><rect fill=\"#FFFFFF\" height=\"300.72\" style=\"stroke: #000000; stroke-width: 1.5;\" width=\"128\" x=\"365\" y=\"96\"/><text fill=\"#000000\" font-family=\"sans-serif\" font-size=\"14\" font-weight=\"bold\" lengthAdjust=\"spacingAndGlyphs\" textLength=\"74\" x=\"392\" y=\"110.9951\">MassSum</text><!--MD5=[917b9dd0c7eca3ee5f47219d1a84c0ad]\n",
       "cluster E11--><rect fill=\"#FFFFFF\" height=\"300.72\" style=\"stroke: #000000; stroke-width: 1.5;\" width=\"132\" x=\"750\" y=\"96\"/><text fill=\"#000000\" font-family=\"sans-serif\" font-size=\"14\" font-weight=\"bold\" lengthAdjust=\"spacingAndGlyphs\" textLength=\"84\" x=\"774\" y=\"110.9951\">MassSum1</text><!--MD5=[b4997ac47864f28c2f74865a473b2911]\n",
       "class E2--><rect fill=\"#FFFFFF\" height=\"58.7422\" id=\"E2\" rx=\"10\" ry=\"10\" style=\"stroke: #383838; stroke-width: 1.5;\" width=\"92\" x=\"643\" y=\"66.5\"/><text fill=\"#000000\" font-family=\"sans-serif\" font-size=\"12\" font-style=\"italic\" lengthAdjust=\"spacingAndGlyphs\" textLength=\"40\" x=\"669\" y=\"82.6387\">«part»</text><text fill=\"#000000\" font-family=\"sans-serif\" font-size=\"12\" lengthAdjust=\"spacingAndGlyphs\" textLength=\"77\" x=\"650.5\" y=\"96.6074\">vehicle: Part</text><line style=\"stroke: #383838; stroke-width: 1.5;\" x1=\"644\" x2=\"734\" y1=\"104.4375\" y2=\"104.4375\"/><text fill=\"#000000\" font-family=\"sans-serif\" font-size=\"11\" lengthAdjust=\"spacingAndGlyphs\" textLength=\"80\" x=\"649\" y=\"118.6479\">m: MassValue</text><!--MD5=[09b614a08d8cba4a07c9adeb5e0fee81]\n",
       "class E3--><rect fill=\"#FFFFFF\" height=\"58.7422\" id=\"E3\" rx=\"10\" ry=\"10\" style=\"stroke: #383838; stroke-width: 1.5;\" width=\"92\" x=\"512\" y=\"211\"/><text fill=\"#000000\" font-family=\"sans-serif\" font-size=\"12\" font-style=\"italic\" lengthAdjust=\"spacingAndGlyphs\" textLength=\"40\" x=\"538\" y=\"227.1387\">«part»</text><text fill=\"#000000\" font-family=\"sans-serif\" font-size=\"12\" lengthAdjust=\"spacingAndGlyphs\" textLength=\"58\" x=\"529\" y=\"241.1074\">eng: Part</text><line style=\"stroke: #383838; stroke-width: 1.5;\" x1=\"513\" x2=\"603\" y1=\"248.9375\" y2=\"248.9375\"/><text fill=\"#000000\" font-family=\"sans-serif\" font-size=\"11\" lengthAdjust=\"spacingAndGlyphs\" textLength=\"80\" x=\"518\" y=\"263.1479\">m: MassValue</text><!--MD5=[ebbe1d658d1005bcc118a6aa81145e00]\n",
       "class E4--><rect fill=\"#FFFFFF\" height=\"58.7422\" id=\"E4\" rx=\"10\" ry=\"10\" style=\"stroke: #383838; stroke-width: 1.5;\" width=\"92\" x=\"639\" y=\"211\"/><text fill=\"#000000\" font-family=\"sans-serif\" font-size=\"12\" font-style=\"italic\" lengthAdjust=\"spacingAndGlyphs\" textLength=\"40\" x=\"665\" y=\"227.1387\">«part»</text><text fill=\"#000000\" font-family=\"sans-serif\" font-size=\"12\" lengthAdjust=\"spacingAndGlyphs\" textLength=\"67\" x=\"651.5\" y=\"241.1074\">trans: Part</text><line style=\"stroke: #383838; stroke-width: 1.5;\" x1=\"640\" x2=\"730\" y1=\"248.9375\" y2=\"248.9375\"/><text fill=\"#000000\" font-family=\"sans-serif\" font-size=\"11\" lengthAdjust=\"spacingAndGlyphs\" textLength=\"80\" x=\"645\" y=\"263.1479\">m: MassValue</text><!--MD5=[96f4274e9e20536e775497830990834d]\n",
       "class E10--><rect fill=\"#FFFFFF\" height=\"45.9375\" id=\"E10\" rx=\"10\" ry=\"10\" style=\"stroke: #383838; stroke-width: 1.5;\" width=\"91\" x=\"516.5\" y=\"73\"/><text fill=\"#000000\" font-family=\"sans-serif\" font-size=\"12\" font-style=\"italic\" lengthAdjust=\"spacingAndGlyphs\" textLength=\"82\" x=\"521\" y=\"89.1387\">«calculation»</text><text fill=\"#000000\" font-family=\"sans-serif\" font-size=\"12\" lengthAdjust=\"spacingAndGlyphs\" textLength=\"85\" x=\"519.5\" y=\"103.1074\">ms: MassSum</text><line style=\"stroke: #383838; stroke-width: 1.5;\" x1=\"517.5\" x2=\"606.5\" y1=\"110.9375\" y2=\"110.9375\"/><!--MD5=[bee11217b2f71d958a27249dc326068c]\n",
       "class E14--><rect fill=\"#FFFFFF\" height=\"109.9609\" id=\"E14\" rx=\"10\" ry=\"10\" style=\"stroke: #383838; stroke-width: 1.5;\" width=\"310\" x=\"32\" y=\"41\"/><text fill=\"#000000\" font-family=\"sans-serif\" font-size=\"12\" font-style=\"italic\" lengthAdjust=\"spacingAndGlyphs\" textLength=\"82\" x=\"146\" y=\"57.1387\">«calculation»</text><text fill=\"#000000\" font-family=\"sans-serif\" font-size=\"12\" lengthAdjust=\"spacingAndGlyphs\" textLength=\"93\" x=\"140.5\" y=\"71.1074\">ms1: MassSum</text><line style=\"stroke: #383838; stroke-width: 1.5;\" x1=\"33\" x2=\"341\" y1=\"78.9375\" y2=\"78.9375\"/><text fill=\"#000000\" font-family=\"sans-serif\" font-size=\"11\" lengthAdjust=\"spacingAndGlyphs\" textLength=\"298\" x=\"38\" y=\"93.1479\">partMasses: MassValue= {vehicle::eng::m, vehicle::</text><text fill=\"#000000\" font-family=\"sans-serif\" font-size=\"11\" lengthAdjust=\"spacingAndGlyphs\" textLength=\"60\" x=\"38\" y=\"105.9526\">trans::m};</text><text fill=\"#000000\" font-family=\"sans-serif\" font-size=\"11\" font-style=\"italic\" lengthAdjust=\"spacingAndGlyphs\" textLength=\"153\" x=\"38\" y=\"118.7573\">:&gt;&gt;MassSum::partMasses</text><text fill=\"#000000\" font-family=\"sans-serif\" font-size=\"11\" lengthAdjust=\"spacingAndGlyphs\" textLength=\"199\" x=\"38\" y=\"131.562\">totalMass: MassValue= vehicle::m;</text><text fill=\"#000000\" font-family=\"sans-serif\" font-size=\"11\" font-style=\"italic\" lengthAdjust=\"spacingAndGlyphs\" textLength=\"141\" x=\"38\" y=\"144.3667\">:&gt;&gt;MassSum::totalMass</text><text fill=\"#000000\" font-family=\"sans-serif\" font-size=\"14\" lengthAdjust=\"spacingAndGlyphs\" textLength=\"80\" x=\"343\" y=\"74.6982\">partMasses</text><rect fill=\"#383838\" height=\"12\" style=\"stroke: #F8F8F8; stroke-width: 1.5;\" width=\"12\" x=\"377\" y=\"90\"/><text fill=\"#000000\" font-family=\"sans-serif\" font-size=\"14\" lengthAdjust=\"spacingAndGlyphs\" textLength=\"66\" x=\"365\" y=\"415.7151\">totalMass</text><rect fill=\"#383838\" height=\"12\" style=\"stroke: #F8F8F8; stroke-width: 1.5;\" width=\"12\" x=\"392\" y=\"390.72\"/><text fill=\"#000000\" font-family=\"sans-serif\" font-size=\"14\" lengthAdjust=\"spacingAndGlyphs\" textLength=\"75\" x=\"437.5\" y=\"74.6982\">$collection</text><rect fill=\"#383838\" height=\"12\" style=\"stroke: #F8F8F8; stroke-width: 1.5;\" width=\"12\" x=\"469\" y=\"90\"/><text fill=\"#000000\" font-family=\"sans-serif\" font-size=\"14\" lengthAdjust=\"spacingAndGlyphs\" textLength=\"48\" x=\"421\" y=\"415.7151\">$result</text><rect fill=\"#383838\" height=\"12\" style=\"stroke: #F8F8F8; stroke-width: 1.5;\" width=\"12\" x=\"439\" y=\"390.72\"/><text fill=\"#000000\" font-family=\"sans-serif\" font-size=\"14\" lengthAdjust=\"spacingAndGlyphs\" textLength=\"80\" x=\"776\" y=\"74.6982\">partMasses</text><rect fill=\"#383838\" height=\"12\" style=\"stroke: #F8F8F8; stroke-width: 1.5;\" width=\"12\" x=\"810\" y=\"90\"/><text fill=\"#000000\" font-family=\"sans-serif\" font-size=\"14\" lengthAdjust=\"spacingAndGlyphs\" textLength=\"66\" x=\"783\" y=\"415.7151\">totalMass</text><rect fill=\"#383838\" height=\"12\" style=\"stroke: #F8F8F8; stroke-width: 1.5;\" width=\"12\" x=\"810\" y=\"390.72\"/><!--MD5=[209b3feb70ccb6233bfe1053d122c12c]\n",
       "reverse link E2 to E3--><path d=\"M653.54,135.57 C631.77,159.25 604.35,189.08 584.47,210.71 \" fill=\"none\" id=\"E2&lt;-E3\" style=\"stroke: #383838; stroke-width: 1.0;\"/><polygon fill=\"#383838\" points=\"662.49,125.84,655.4845,127.5496,654.3682,134.6738,661.3737,132.9642,662.49,125.84\" style=\"stroke: #383838; stroke-width: 1.0;\"/><!--MD5=[9618e71518536f8baf3342ff6fdab317]\n",
       "reverse link E2 to E4--><path d=\"M687.82,139.1 C687.17,162.16 686.39,190.15 685.81,210.71 \" fill=\"none\" id=\"E2&lt;-E4\" style=\"stroke: #383838; stroke-width: 1.0;\"/><polygon fill=\"#383838\" points=\"688.19,125.84,684.0201,131.7232,687.8469,137.8351,692.0168,131.9519,688.19,125.84\" style=\"stroke: #383838; stroke-width: 1.0;\"/><!--MD5=[1c0b9414cc86e0744215edee6abd8926]\n",
       "link E7 to E9--><path d=\"M404.01,394.42 C408.43,392.73 413.67,390.72 413.67,390.72 C413.67,390.72 429.33,390.72 429.33,390.72 C429.33,390.72 434.57,392.73 438.99,394.42 \" fill=\"none\" id=\"E7-E9\" style=\"stroke: #383838; stroke-width: 5.0;\"/><!--MD5=[ec5e0a54482b142abcecfe541d624bff]\n",
       "link E10 to E5--><path d=\"M540.91,119.27 C533.3075,127.2925 524.1837,136.9213 514.4525,147.1917 C509.5869,152.327 504.5694,157.6226 499.5142,162.9581 C498.2504,164.292 496.9843,165.6284 495.7176,166.9654 C495.0842,167.6339 494.4507,168.3025 493.8173,168.9711 C493.659,169.1382 493.5006,169.3053 493.3423,169.4725 \" fill=\"none\" id=\"E10-&gt;E5\" style=\"stroke: #383838; stroke-width: 1.0;\"/><polygon fill=\"#FFFFFF\" points=\"493.3423,169.4725,501.3284,150.8654,511.4914,160.4942,493.3423,169.4725\" style=\"stroke: #383838; stroke-width: 1.0;\"/><ellipse cx=\"506.7005\" cy=\"148.1032\" fill=\"#383838\" rx=\"2\" ry=\"2\" style=\"stroke: #383838; stroke-width: 1.0;\"/><ellipse cx=\"513.9598\" cy=\"154.9809\" fill=\"#383838\" rx=\"2\" ry=\"2\" style=\"stroke: #383838; stroke-width: 1.0;\"/><!--MD5=[111e5536516ee1ad7d4266f589654f03]\n",
       "link E14 to E5--><path d=\"M278.08,151.08 C303.275,166.04 330.2775,182.0725 354.2775,196.3213 C357.2775,198.1023 360.2306,199.8556 363.1274,201.5753 C363.4895,201.7903 363.8507,202.0048 364.211,202.2187 C364.3912,202.3256 364.5711,202.4325 364.7508,202.5391 \" fill=\"none\" id=\"E14-&gt;E5\" style=\"stroke: #383838; stroke-width: 1.0;\"/><polygon fill=\"#FFFFFF\" points=\"364.7508,202.5391,344.8396,198.8589,351.9865,186.8206,364.7508,202.5391\" style=\"stroke: #383838; stroke-width: 1.0;\"/><ellipse cx=\"340.9593\" cy=\"194.2293\" fill=\"#383838\" rx=\"2\" ry=\"2\" style=\"stroke: #383838; stroke-width: 1.0;\"/><ellipse cx=\"346.0642\" cy=\"185.6305\" fill=\"#383838\" rx=\"2\" ry=\"2\" style=\"stroke: #383838; stroke-width: 1.0;\"/><!--MD5=[b38e9611d2a61de541c909e85f0ac559]\n",
       "@startuml\r\n",
       "skinparam linetype polyline\r\n",
       "skinparam monochrome true\r\n",
       "skinparam classbackgroundcolor white\r\n",
       "skinparam shadowing false\r\n",
       "skinparam wrapWidth 300\r\n",
       "hide circle\r\n",
       "\r\n",
       "package \"CalculationExample\" as E1   {\r\n",
       "comp usage \"vehicle: Part\" as E2  <<(T,blue)part>> {\r\n",
       "m: MassValue\r\n",
       "}\r\n",
       "comp usage \"eng: Part\" as E3  <<(T,blue)part>> {\r\n",
       "m: MassValue\r\n",
       "}\r\n",
       "comp usage \"trans: Part\" as E4  <<(T,blue)part>> {\r\n",
       "m: MassValue\r\n",
       "}\r\n",
       "rec def \"MassSum\" as E5 {\r\n",
       "portin \"partMasses\" as E6  \r\n",
       "portout \"totalMass\" as E7  \r\n",
       "portin \"$collection\" as E8  \r\n",
       "portout \"$result\" as E9  \r\n",
       "}\r\n",
       "\r\n",
       "comp usage \"ms: MassSum\" as E10  <<(T,blue)calculation>> {\r\n",
       "}\r\n",
       "rec def \"MassSum1\" as E11 {\r\n",
       "portin \"partMasses\" as E12  \r\n",
       "portout \"totalMass\" as E13  \r\n",
       "}\r\n",
       "\r\n",
       "comp usage \"ms1: MassSum\" as E14  <<(T,blue)calculation>> {\r\n",
       "partMasses: MassValue= {vehicle::eng::m, vehicle::trans::m}; \\n//:>>MassSum::partMasses// \r\n",
       "totalMass: MassValue= vehicle::m; \\n//:>>MassSum::totalMass// \r\n",
       "}\r\n",
       "E2 *- - E3\r\n",
       "E2 *- - E4\r\n",
       "E7 -[thickness=5]- E9\r\n",
       "E10 - -:|> E5\r\n",
       "E14 - -:|> E5\r\n",
       "}\r\n",
       "@enduml\r\n",
       "\n",
       "PlantUML version 1.2020.13(Sat Jun 13 12:26:38 UTC 2020)\n",
       "(EPL source distribution)\n",
       "Java Runtime: OpenJDK Runtime Environment\n",
       "JVM: OpenJDK 64-Bit Server VM\n",
       "Default Encoding: UTF-8\n",
       "Language: en\n",
       "Country: null\n",
       "--></g></svg>"
      ]
     },
     "execution_count": 15,
     "metadata": {},
     "output_type": "execute_result"
    }
   ],
   "source": [
    "%viz --style=\"POLYLINE\" --view=\"MIXED\" \"CalculationExample\""
   ]
  },
  {
   "cell_type": "code",
   "execution_count": 16,
   "id": "secret-forestry",
   "metadata": {
    "execution": {
     "iopub.execute_input": "2021-03-26T09:44:27.134940Z",
     "iopub.status.busy": "2021-03-26T09:44:27.134306Z",
     "iopub.status.idle": "2021-03-26T09:44:27.222178Z",
     "shell.execute_reply": "2021-03-26T09:44:27.221575Z"
    }
   },
   "outputs": [
    {
     "data": {
      "image/svg+xml": [
       "<?xml version=\"1.0\" encoding=\"UTF-8\" standalone=\"no\"?><svg xmlns=\"http://www.w3.org/2000/svg\" xmlns:xlink=\"http://www.w3.org/1999/xlink\" contentScriptType=\"application/ecmascript\" contentStyleType=\"text/css\" height=\"562px\" preserveAspectRatio=\"none\" style=\"width:688px;height:562px;\" version=\"1.1\" viewBox=\"0 0 688 562\" width=\"688px\" zoomAndPan=\"magnify\"><defs/><g><!--MD5=[fbc87193dbaf4d95561dea2c320d4a47]\n",
       "cluster E1--><polygon fill=\"#FFFFFF\" points=\"16,6,173,6,180,28.2969,666.72,28.2969,666.72,550,16,550,16,6\" style=\"stroke: #000000; stroke-width: 1.5;\"/><line style=\"stroke: #000000; stroke-width: 1.5;\" x1=\"16\" x2=\"180\" y1=\"28.2969\" y2=\"28.2969\"/><text fill=\"#000000\" font-family=\"sans-serif\" font-size=\"14\" font-weight=\"bold\" lengthAdjust=\"spacingAndGlyphs\" textLength=\"151\" x=\"20\" y=\"20.9951\">CalculationExample</text><!--MD5=[de5ec2e2e8f62f467e546659f5068c88]\n",
       "cluster E5--><rect fill=\"#FFFFFF\" height=\"88\" style=\"stroke: #000000; stroke-width: 1.5;\" width=\"459.72\" x=\"169\" y=\"295\"/><text fill=\"#000000\" font-family=\"sans-serif\" font-size=\"14\" font-weight=\"bold\" lengthAdjust=\"spacingAndGlyphs\" textLength=\"74\" x=\"361.86\" y=\"309.9951\">MassSum</text><!--MD5=[917b9dd0c7eca3ee5f47219d1a84c0ad]\n",
       "cluster E11--><rect fill=\"#FFFFFF\" height=\"52\" style=\"stroke: #000000; stroke-width: 1.5;\" width=\"441.72\" x=\"187\" y=\"41\"/><text fill=\"#000000\" font-family=\"sans-serif\" font-size=\"14\" font-weight=\"bold\" lengthAdjust=\"spacingAndGlyphs\" textLength=\"84\" x=\"365.86\" y=\"55.9951\">MassSum1</text><!--MD5=[b4997ac47864f28c2f74865a473b2911]\n",
       "class E2--><rect fill=\"#FFFFFF\" height=\"58.7422\" id=\"E2\" rx=\"10\" ry=\"10\" style=\"stroke: #383838; stroke-width: 1.5;\" width=\"92\" x=\"141\" y=\"112.5\"/><text fill=\"#000000\" font-family=\"sans-serif\" font-size=\"12\" font-style=\"italic\" lengthAdjust=\"spacingAndGlyphs\" textLength=\"40\" x=\"167\" y=\"128.6387\">«part»</text><text fill=\"#000000\" font-family=\"sans-serif\" font-size=\"12\" lengthAdjust=\"spacingAndGlyphs\" textLength=\"77\" x=\"148.5\" y=\"142.6074\">vehicle: Part</text><line style=\"stroke: #383838; stroke-width: 1.5;\" x1=\"142\" x2=\"232\" y1=\"150.4375\" y2=\"150.4375\"/><text fill=\"#000000\" font-family=\"sans-serif\" font-size=\"11\" lengthAdjust=\"spacingAndGlyphs\" textLength=\"80\" x=\"147\" y=\"164.6479\">m: MassValue</text><!--MD5=[09b614a08d8cba4a07c9adeb5e0fee81]\n",
       "class E3--><rect fill=\"#FFFFFF\" height=\"58.7422\" id=\"E3\" rx=\"10\" ry=\"10\" style=\"stroke: #383838; stroke-width: 1.5;\" width=\"92\" x=\"406\" y=\"205.5\"/><text fill=\"#000000\" font-family=\"sans-serif\" font-size=\"12\" font-style=\"italic\" lengthAdjust=\"spacingAndGlyphs\" textLength=\"40\" x=\"432\" y=\"221.6387\">«part»</text><text fill=\"#000000\" font-family=\"sans-serif\" font-size=\"12\" lengthAdjust=\"spacingAndGlyphs\" textLength=\"58\" x=\"423\" y=\"235.6074\">eng: Part</text><line style=\"stroke: #383838; stroke-width: 1.5;\" x1=\"407\" x2=\"497\" y1=\"243.4375\" y2=\"243.4375\"/><text fill=\"#000000\" font-family=\"sans-serif\" font-size=\"11\" lengthAdjust=\"spacingAndGlyphs\" textLength=\"80\" x=\"412\" y=\"257.6479\">m: MassValue</text><!--MD5=[ebbe1d658d1005bcc118a6aa81145e00]\n",
       "class E4--><rect fill=\"#FFFFFF\" height=\"58.7422\" id=\"E4\" rx=\"10\" ry=\"10\" style=\"stroke: #383838; stroke-width: 1.5;\" width=\"92\" x=\"406\" y=\"111.5\"/><text fill=\"#000000\" font-family=\"sans-serif\" font-size=\"12\" font-style=\"italic\" lengthAdjust=\"spacingAndGlyphs\" textLength=\"40\" x=\"432\" y=\"127.6387\">«part»</text><text fill=\"#000000\" font-family=\"sans-serif\" font-size=\"12\" lengthAdjust=\"spacingAndGlyphs\" textLength=\"67\" x=\"418.5\" y=\"141.6074\">trans: Part</text><line style=\"stroke: #383838; stroke-width: 1.5;\" x1=\"407\" x2=\"497\" y1=\"149.4375\" y2=\"149.4375\"/><text fill=\"#000000\" font-family=\"sans-serif\" font-size=\"11\" lengthAdjust=\"spacingAndGlyphs\" textLength=\"80\" x=\"412\" y=\"163.6479\">m: MassValue</text><!--MD5=[96f4274e9e20536e775497830990834d]\n",
       "class E10--><rect fill=\"#FFFFFF\" height=\"45.9375\" id=\"E10\" rx=\"10\" ry=\"10\" style=\"stroke: #383838; stroke-width: 1.5;\" width=\"91\" x=\"141.5\" y=\"208\"/><text fill=\"#000000\" font-family=\"sans-serif\" font-size=\"12\" font-style=\"italic\" lengthAdjust=\"spacingAndGlyphs\" textLength=\"82\" x=\"146\" y=\"224.1387\">«calculation»</text><text fill=\"#000000\" font-family=\"sans-serif\" font-size=\"12\" lengthAdjust=\"spacingAndGlyphs\" textLength=\"85\" x=\"144.5\" y=\"238.1074\">ms: MassSum</text><line style=\"stroke: #383838; stroke-width: 1.5;\" x1=\"142.5\" x2=\"231.5\" y1=\"245.9375\" y2=\"245.9375\"/><!--MD5=[bee11217b2f71d958a27249dc326068c]\n",
       "class E14--><rect fill=\"#FFFFFF\" height=\"109.9609\" id=\"E14\" rx=\"10\" ry=\"10\" style=\"stroke: #383838; stroke-width: 1.5;\" width=\"310\" x=\"32\" y=\"424\"/><text fill=\"#000000\" font-family=\"sans-serif\" font-size=\"12\" font-style=\"italic\" lengthAdjust=\"spacingAndGlyphs\" textLength=\"82\" x=\"146\" y=\"440.1387\">«calculation»</text><text fill=\"#000000\" font-family=\"sans-serif\" font-size=\"12\" lengthAdjust=\"spacingAndGlyphs\" textLength=\"93\" x=\"140.5\" y=\"454.1074\">ms1: MassSum</text><line style=\"stroke: #383838; stroke-width: 1.5;\" x1=\"33\" x2=\"341\" y1=\"461.9375\" y2=\"461.9375\"/><text fill=\"#000000\" font-family=\"sans-serif\" font-size=\"11\" lengthAdjust=\"spacingAndGlyphs\" textLength=\"298\" x=\"38\" y=\"476.1479\">partMasses: MassValue= {vehicle::eng::m, vehicle::</text><text fill=\"#000000\" font-family=\"sans-serif\" font-size=\"11\" lengthAdjust=\"spacingAndGlyphs\" textLength=\"60\" x=\"38\" y=\"488.9526\">trans::m};</text><text fill=\"#000000\" font-family=\"sans-serif\" font-size=\"11\" font-style=\"italic\" lengthAdjust=\"spacingAndGlyphs\" textLength=\"153\" x=\"38\" y=\"501.7573\">:&gt;&gt;MassSum::partMasses</text><text fill=\"#000000\" font-family=\"sans-serif\" font-size=\"11\" lengthAdjust=\"spacingAndGlyphs\" textLength=\"199\" x=\"38\" y=\"514.562\">totalMass: MassValue= vehicle::m;</text><text fill=\"#000000\" font-family=\"sans-serif\" font-size=\"11\" font-style=\"italic\" lengthAdjust=\"spacingAndGlyphs\" textLength=\"141\" x=\"38\" y=\"527.3667\">:&gt;&gt;MassSum::totalMass</text><text fill=\"#000000\" font-family=\"sans-serif\" font-size=\"14\" lengthAdjust=\"spacingAndGlyphs\" textLength=\"80\" x=\"147\" y=\"401.9951\">partMasses</text><rect fill=\"#383838\" height=\"12\" style=\"stroke: #F8F8F8; stroke-width: 1.5;\" width=\"12\" x=\"181\" y=\"377\"/><text fill=\"#000000\" font-family=\"sans-serif\" font-size=\"14\" lengthAdjust=\"spacingAndGlyphs\" textLength=\"66\" x=\"595.72\" y=\"380.9951\">totalMass</text><rect fill=\"#383838\" height=\"12\" style=\"stroke: #F8F8F8; stroke-width: 1.5;\" width=\"12\" x=\"622.72\" y=\"356\"/><text fill=\"#000000\" font-family=\"sans-serif\" font-size=\"14\" lengthAdjust=\"spacingAndGlyphs\" textLength=\"75\" x=\"149.5\" y=\"273.6982\">$collection</text><rect fill=\"#383838\" height=\"12\" style=\"stroke: #F8F8F8; stroke-width: 1.5;\" width=\"12\" x=\"181\" y=\"289\"/><text fill=\"#000000\" font-family=\"sans-serif\" font-size=\"14\" lengthAdjust=\"spacingAndGlyphs\" textLength=\"48\" x=\"604.72\" y=\"293.6982\">$result</text><rect fill=\"#383838\" height=\"12\" style=\"stroke: #F8F8F8; stroke-width: 1.5;\" width=\"12\" x=\"622.72\" y=\"309\"/><text fill=\"#000000\" font-family=\"sans-serif\" font-size=\"14\" lengthAdjust=\"spacingAndGlyphs\" textLength=\"80\" x=\"147\" y=\"45.6982\">partMasses</text><rect fill=\"#383838\" height=\"12\" style=\"stroke: #F8F8F8; stroke-width: 1.5;\" width=\"12\" x=\"181\" y=\"61\"/><text fill=\"#000000\" font-family=\"sans-serif\" font-size=\"14\" lengthAdjust=\"spacingAndGlyphs\" textLength=\"66\" x=\"595.72\" y=\"45.6982\">totalMass</text><rect fill=\"#383838\" height=\"12\" style=\"stroke: #F8F8F8; stroke-width: 1.5;\" width=\"12\" x=\"622.72\" y=\"61\"/><!--MD5=[209b3feb70ccb6233bfe1053d122c12c]\n",
       "reverse link E2 to E3--><path d=\"M246.01,158.74 C275.04,167.46 310.6,178.65 342,190 C363.18,197.66 386.28,207.04 405.75,215.25 \" fill=\"none\" id=\"E2&lt;-E3\" style=\"stroke: #383838; stroke-width: 1.0;\"/><polygon fill=\"#383838\" points=\"233.17,154.92,237.7828,160.4628,244.6733,158.3367,240.0606,152.7939,233.17,154.92\" style=\"stroke: #383838; stroke-width: 1.0;\"/><!--MD5=[9618e71518536f8baf3342ff6fdab317]\n",
       "reverse link E2 to E4--><path d=\"M246.25,141.78 C294.41,141.6 361.83,141.34 405.94,141.17 \" fill=\"none\" id=\"E2&lt;-E4\" style=\"stroke: #383838; stroke-width: 1.0;\"/><polygon fill=\"#383838\" points=\"233.21,141.83,239.2275,145.8036,245.2099,141.7773,239.1924,137.8037,233.21,141.83\" style=\"stroke: #383838; stroke-width: 1.0;\"/><!--MD5=[1c0b9414cc86e0744215edee6abd8926]\n",
       "link E7 to E9--><path d=\"M626.65,355.76 C623.39,344.19 623.41,332.62 626.7,321.05 \" fill=\"none\" id=\"E7-E9\" style=\"stroke: #383838; stroke-width: 5.0;\"/><!--MD5=[ec5e0a54482b142abcecfe541d624bff]\n",
       "link E10 to E5--><path d=\"M232.8,240.06 C264.07,247.14 306.41,258.26 342,273 C353.585,277.8 359.9975,282.5075 366.4325,287.1613 C369.65,289.4881 372.8731,291.8016 376.7512,294.1064 C377.236,294.3945 377.731,294.6825 378.2375,294.9703 \" fill=\"none\" id=\"E10-&gt;E5\" style=\"stroke: #383838; stroke-width: 1.0;\"/><polygon fill=\"#FFFFFF\" points=\"378.2375,294.9703,358.2601,291.6685,365.1773,279.4968,378.2375,294.9703\" style=\"stroke: #383838; stroke-width: 1.0;\"/><ellipse cx=\"354.2926\" cy=\"287.1134\" fill=\"#383838\" rx=\"2\" ry=\"2\" style=\"stroke: #383838; stroke-width: 1.0;\"/><ellipse cx=\"359.2335\" cy=\"278.4193\" fill=\"#383838\" rx=\"2\" ry=\"2\" style=\"stroke: #383838; stroke-width: 1.0;\"/><!--MD5=[111e5536516ee1ad7d4266f589654f03]\n",
       "link E14 to E5--><path d=\"M309.74,423.95 C320.84,417.91 331.76,411.55 342,405 C351.8725,398.685 361.8544,391.5944 371.5613,384.2373 C371.8646,384.0074 372.1677,383.7773 372.4705,383.5469 C372.6218,383.4317 372.7732,383.3164 372.9244,383.2011 \" fill=\"none\" id=\"E14-&gt;E5\" style=\"stroke: #383838; stroke-width: 1.0;\"/><polygon fill=\"#FFFFFF\" points=\"372.9244,383.2011,362.0596,400.2878,353.571,389.1548,372.9244,383.2011\" style=\"stroke: #383838; stroke-width: 1.0;\"/><ellipse cx=\"356.3142\" cy=\"402.1534\" fill=\"#383838\" rx=\"2\" ry=\"2\" style=\"stroke: #383838; stroke-width: 1.0;\"/><ellipse cx=\"350.251\" cy=\"394.2013\" fill=\"#383838\" rx=\"2\" ry=\"2\" style=\"stroke: #383838; stroke-width: 1.0;\"/><!--MD5=[940bf583e3c66f248beb1a23574bbc9b]\n",
       "@startuml\r\n",
       "left to right direction\r\n",
       "skinparam monochrome true\r\n",
       "skinparam classbackgroundcolor white\r\n",
       "skinparam shadowing false\r\n",
       "skinparam wrapWidth 300\r\n",
       "hide circle\r\n",
       "\r\n",
       "package \"CalculationExample\" as E1   {\r\n",
       "comp usage \"vehicle: Part\" as E2  <<(T,blue)part>> {\r\n",
       "m: MassValue\r\n",
       "}\r\n",
       "comp usage \"eng: Part\" as E3  <<(T,blue)part>> {\r\n",
       "m: MassValue\r\n",
       "}\r\n",
       "comp usage \"trans: Part\" as E4  <<(T,blue)part>> {\r\n",
       "m: MassValue\r\n",
       "}\r\n",
       "rec def \"MassSum\" as E5 {\r\n",
       "portin \"partMasses\" as E6  \r\n",
       "portout \"totalMass\" as E7  \r\n",
       "portin \"$collection\" as E8  \r\n",
       "portout \"$result\" as E9  \r\n",
       "}\r\n",
       "\r\n",
       "comp usage \"ms: MassSum\" as E10  <<(T,blue)calculation>> {\r\n",
       "}\r\n",
       "rec def \"MassSum1\" as E11 {\r\n",
       "portin \"partMasses\" as E12  \r\n",
       "portout \"totalMass\" as E13  \r\n",
       "}\r\n",
       "\r\n",
       "comp usage \"ms1: MassSum\" as E14  <<(T,blue)calculation>> {\r\n",
       "partMasses: MassValue= {vehicle::eng::m, vehicle::trans::m}; \\n//:>>MassSum::partMasses// \r\n",
       "totalMass: MassValue= vehicle::m; \\n//:>>MassSum::totalMass// \r\n",
       "}\r\n",
       "E2 *- - E3\r\n",
       "E2 *- - E4\r\n",
       "E7 -[thickness=5]- E9\r\n",
       "E10 - -:|> E5\r\n",
       "E14 - -:|> E5\r\n",
       "}\r\n",
       "@enduml\r\n",
       "\n",
       "PlantUML version 1.2020.13(Sat Jun 13 12:26:38 UTC 2020)\n",
       "(EPL source distribution)\n",
       "Java Runtime: OpenJDK Runtime Environment\n",
       "JVM: OpenJDK 64-Bit Server VM\n",
       "Default Encoding: UTF-8\n",
       "Language: en\n",
       "Country: null\n",
       "--></g></svg>"
      ]
     },
     "execution_count": 16,
     "metadata": {},
     "output_type": "execute_result"
    }
   ],
   "source": [
    "%viz --style=\"LR\" --view=\"Default\" \"CalculationExample\""
   ]
  },
  {
   "cell_type": "code",
   "execution_count": 17,
   "id": "supposed-november",
   "metadata": {
    "execution": {
     "iopub.execute_input": "2021-03-26T09:44:27.274952Z",
     "iopub.status.busy": "2021-03-26T09:44:27.273961Z",
     "iopub.status.idle": "2021-03-26T09:44:27.375972Z",
     "shell.execute_reply": "2021-03-26T09:44:27.375658Z"
    }
   },
   "outputs": [
    {
     "data": {
      "image/svg+xml": [
       "<?xml version=\"1.0\" encoding=\"UTF-8\" standalone=\"no\"?><svg xmlns=\"http://www.w3.org/2000/svg\" xmlns:xlink=\"http://www.w3.org/1999/xlink\" contentScriptType=\"application/ecmascript\" contentStyleType=\"text/css\" height=\"462px\" preserveAspectRatio=\"none\" style=\"width:548px;height:462px;\" version=\"1.1\" viewBox=\"0 0 548 462\" width=\"548px\" zoomAndPan=\"magnify\"><defs/><g><!--MD5=[fbc87193dbaf4d95561dea2c320d4a47]\n",
       "cluster E1--><polygon fill=\"#FFFFFF\" points=\"16,6,173,6,180,28.2969,526,28.2969,526,450,16,450,16,6\" style=\"stroke: #000000; stroke-width: 1.5;\"/><line style=\"stroke: #000000; stroke-width: 1.5;\" x1=\"16\" x2=\"180\" y1=\"28.2969\" y2=\"28.2969\"/><text fill=\"#000000\" font-family=\"sans-serif\" font-size=\"14\" font-weight=\"bold\" lengthAdjust=\"spacingAndGlyphs\" textLength=\"151\" x=\"20\" y=\"20.9951\">CalculationExample</text><!--MD5=[b4997ac47864f28c2f74865a473b2911]\n",
       "class E2--><rect fill=\"#FFFFFF\" height=\"58.7422\" id=\"E2\" rx=\"10\" ry=\"10\" style=\"stroke: #383838; stroke-width: 1.5;\" width=\"92\" x=\"141\" y=\"41.5\"/><text fill=\"#000000\" font-family=\"sans-serif\" font-size=\"12\" font-style=\"italic\" lengthAdjust=\"spacingAndGlyphs\" textLength=\"40\" x=\"167\" y=\"57.6387\">«part»</text><text fill=\"#000000\" font-family=\"sans-serif\" font-size=\"12\" lengthAdjust=\"spacingAndGlyphs\" textLength=\"77\" x=\"148.5\" y=\"71.6074\">vehicle: Part</text><line style=\"stroke: #383838; stroke-width: 1.5;\" x1=\"142\" x2=\"232\" y1=\"79.4375\" y2=\"79.4375\"/><text fill=\"#000000\" font-family=\"sans-serif\" font-size=\"11\" lengthAdjust=\"spacingAndGlyphs\" textLength=\"80\" x=\"147\" y=\"93.6479\">m: MassValue</text><!--MD5=[09b614a08d8cba4a07c9adeb5e0fee81]\n",
       "class E3--><rect fill=\"#FFFFFF\" height=\"58.7422\" id=\"E3\" rx=\"10\" ry=\"10\" style=\"stroke: #383838; stroke-width: 1.5;\" width=\"92\" x=\"410\" y=\"135.5\"/><text fill=\"#000000\" font-family=\"sans-serif\" font-size=\"12\" font-style=\"italic\" lengthAdjust=\"spacingAndGlyphs\" textLength=\"40\" x=\"436\" y=\"151.6387\">«part»</text><text fill=\"#000000\" font-family=\"sans-serif\" font-size=\"12\" lengthAdjust=\"spacingAndGlyphs\" textLength=\"58\" x=\"427\" y=\"165.6074\">eng: Part</text><line style=\"stroke: #383838; stroke-width: 1.5;\" x1=\"411\" x2=\"501\" y1=\"173.4375\" y2=\"173.4375\"/><text fill=\"#000000\" font-family=\"sans-serif\" font-size=\"11\" lengthAdjust=\"spacingAndGlyphs\" textLength=\"80\" x=\"416\" y=\"187.6479\">m: MassValue</text><!--MD5=[ebbe1d658d1005bcc118a6aa81145e00]\n",
       "class E4--><rect fill=\"#FFFFFF\" height=\"58.7422\" id=\"E4\" rx=\"10\" ry=\"10\" style=\"stroke: #383838; stroke-width: 1.5;\" width=\"92\" x=\"410\" y=\"41.5\"/><text fill=\"#000000\" font-family=\"sans-serif\" font-size=\"12\" font-style=\"italic\" lengthAdjust=\"spacingAndGlyphs\" textLength=\"40\" x=\"436\" y=\"57.6387\">«part»</text><text fill=\"#000000\" font-family=\"sans-serif\" font-size=\"12\" lengthAdjust=\"spacingAndGlyphs\" textLength=\"67\" x=\"422.5\" y=\"71.6074\">trans: Part</text><line style=\"stroke: #383838; stroke-width: 1.5;\" x1=\"411\" x2=\"501\" y1=\"79.4375\" y2=\"79.4375\"/><text fill=\"#000000\" font-family=\"sans-serif\" font-size=\"11\" lengthAdjust=\"spacingAndGlyphs\" textLength=\"80\" x=\"416\" y=\"93.6479\">m: MassValue</text><!--MD5=[270fce915f116d4de14055a7c1d9a0f3]\n",
       "class E5--><rect fill=\"#FFFFFF\" height=\"45.9375\" id=\"E5\" style=\"stroke: #383838; stroke-width: 1.5;\" width=\"108\" x=\"402\" y=\"293\"/><text fill=\"#000000\" font-family=\"sans-serif\" font-size=\"12\" font-style=\"italic\" lengthAdjust=\"spacingAndGlyphs\" textLength=\"106\" x=\"403\" y=\"309.1387\">«calculation def»</text><text fill=\"#000000\" font-family=\"sans-serif\" font-size=\"12\" lengthAdjust=\"spacingAndGlyphs\" textLength=\"59\" x=\"426.5\" y=\"323.1074\">MassSum</text><line style=\"stroke: #383838; stroke-width: 1.5;\" x1=\"403\" x2=\"509\" y1=\"330.9375\" y2=\"330.9375\"/><!--MD5=[60a26617385b1d2d0262a64233df1f8d]\n",
       "class E6--><rect fill=\"#FFFFFF\" height=\"45.9375\" id=\"E6\" rx=\"10\" ry=\"10\" style=\"stroke: #383838; stroke-width: 1.5;\" width=\"91\" x=\"141.5\" y=\"136\"/><text fill=\"#000000\" font-family=\"sans-serif\" font-size=\"12\" font-style=\"italic\" lengthAdjust=\"spacingAndGlyphs\" textLength=\"82\" x=\"146\" y=\"152.1387\">«calculation»</text><text fill=\"#000000\" font-family=\"sans-serif\" font-size=\"12\" lengthAdjust=\"spacingAndGlyphs\" textLength=\"85\" x=\"144.5\" y=\"166.1074\">ms: MassSum</text><line style=\"stroke: #383838; stroke-width: 1.5;\" x1=\"142.5\" x2=\"231.5\" y1=\"173.9375\" y2=\"173.9375\"/><!--MD5=[2156ba9850f5573cc1fc38a6a4b2f02b]\n",
       "class E7--><rect fill=\"#FFFFFF\" height=\"71.5469\" id=\"E7\" style=\"stroke: #383838; stroke-width: 1.5;\" width=\"253\" x=\"60.5\" y=\"217\"/><text fill=\"#000000\" font-family=\"sans-serif\" font-size=\"12\" font-style=\"italic\" lengthAdjust=\"spacingAndGlyphs\" textLength=\"106\" x=\"134\" y=\"233.1387\">«calculation def»</text><text fill=\"#000000\" font-family=\"sans-serif\" font-size=\"12\" lengthAdjust=\"spacingAndGlyphs\" textLength=\"67\" x=\"153.5\" y=\"247.1074\">MassSum1</text><line style=\"stroke: #383838; stroke-width: 1.5;\" x1=\"61.5\" x2=\"312.5\" y1=\"254.9375\" y2=\"254.9375\"/><text fill=\"#000000\" font-family=\"sans-serif\" font-size=\"11\" lengthAdjust=\"spacingAndGlyphs\" textLength=\"136\" x=\"66.5\" y=\"269.1479\">partMasses: MassValue</text><text fill=\"#000000\" font-family=\"sans-serif\" font-size=\"11\" lengthAdjust=\"spacingAndGlyphs\" textLength=\"241\" x=\"66.5\" y=\"281.9526\">totalMass: MassValue= sum(partMasses);</text><!--MD5=[b9389687b975829384b498ac4b7476b2]\n",
       "class E8--><rect fill=\"#FFFFFF\" height=\"109.9609\" id=\"E8\" rx=\"10\" ry=\"10\" style=\"stroke: #383838; stroke-width: 1.5;\" width=\"310\" x=\"32\" y=\"324\"/><text fill=\"#000000\" font-family=\"sans-serif\" font-size=\"12\" font-style=\"italic\" lengthAdjust=\"spacingAndGlyphs\" textLength=\"82\" x=\"146\" y=\"340.1387\">«calculation»</text><text fill=\"#000000\" font-family=\"sans-serif\" font-size=\"12\" lengthAdjust=\"spacingAndGlyphs\" textLength=\"93\" x=\"140.5\" y=\"354.1074\">ms1: MassSum</text><line style=\"stroke: #383838; stroke-width: 1.5;\" x1=\"33\" x2=\"341\" y1=\"361.9375\" y2=\"361.9375\"/><text fill=\"#000000\" font-family=\"sans-serif\" font-size=\"11\" lengthAdjust=\"spacingAndGlyphs\" textLength=\"298\" x=\"38\" y=\"376.1479\">partMasses: MassValue= {vehicle::eng::m, vehicle::</text><text fill=\"#000000\" font-family=\"sans-serif\" font-size=\"11\" lengthAdjust=\"spacingAndGlyphs\" textLength=\"60\" x=\"38\" y=\"388.9526\">trans::m};</text><text fill=\"#000000\" font-family=\"sans-serif\" font-size=\"11\" font-style=\"italic\" lengthAdjust=\"spacingAndGlyphs\" textLength=\"153\" x=\"38\" y=\"401.7573\">:&gt;&gt;MassSum::partMasses</text><text fill=\"#000000\" font-family=\"sans-serif\" font-size=\"11\" lengthAdjust=\"spacingAndGlyphs\" textLength=\"199\" x=\"38\" y=\"414.562\">totalMass: MassValue= vehicle::m;</text><text fill=\"#000000\" font-family=\"sans-serif\" font-size=\"11\" font-style=\"italic\" lengthAdjust=\"spacingAndGlyphs\" textLength=\"141\" x=\"38\" y=\"427.3667\">:&gt;&gt;MassSum::totalMass</text><!--MD5=[209b3feb70ccb6233bfe1053d122c12c]\n",
       "reverse link E2 to E3--><path d=\"M246.04,87.25 C275.08,95.75 310.63,106.72 342,118 C364.59,126.12 389.26,136.23 409.76,144.99 \" fill=\"none\" id=\"E2&lt;-E3\" style=\"stroke: #383838; stroke-width: 1.0;\"/><polygon fill=\"#383838\" points=\"233.19,83.53,237.8353,89.0455,244.7132,86.8789,240.0679,81.3633,233.19,83.53\" style=\"stroke: #383838; stroke-width: 1.0;\"/><!--MD5=[9618e71518536f8baf3342ff6fdab317]\n",
       "reverse link E2 to E4--><path d=\"M246.59,71 C295.77,71 365,71 409.93,71 \" fill=\"none\" id=\"E2&lt;-E4\" style=\"stroke: #383838; stroke-width: 1.0;\"/><polygon fill=\"#383838\" points=\"233.29,71,239.29,75,245.29,71,239.29,67,233.29,71\" style=\"stroke: #383838; stroke-width: 1.0;\"/><!--MD5=[25b190c987b1e74e5126d372c5a73af1]\n",
       "link E6 to E5--><path d=\"M232.61,164.02 C264.76,169.15 308.25,179.29 342,199 C375.65,218.65 405.85,251.1 426.55,276.85 \" fill=\"none\" id=\"E6-&gt;E5\" style=\"stroke: #383838; stroke-width: 1.0;\"/><polygon fill=\"#FFFFFF\" points=\"439,292.98,421.8446,282.224,432.9235,273.6648,439,292.98\" style=\"stroke: #383838; stroke-width: 1.0;\"/><ellipse cx=\"419.9425\" cy=\"276.4905\" fill=\"#383838\" rx=\"2\" ry=\"2\" style=\"stroke: #383838; stroke-width: 1.0;\"/><ellipse cx=\"427.856\" cy=\"270.3769\" fill=\"#383838\" rx=\"2\" ry=\"2\" style=\"stroke: #383838; stroke-width: 1.0;\"/><!--MD5=[1ccb2481ffa92f8d51a74ee30c51832a]\n",
       "link E8 to E5--><path d=\"M342.15,342.63 C356.03,339.35 369.59,336.15 382.23,333.17 \" fill=\"none\" id=\"E8-&gt;E5\" style=\"stroke: #383838; stroke-width: 1.0;\"/><polygon fill=\"#FFFFFF\" points=\"401.88,328.53,384.9906,339.6991,381.7813,326.0719,401.88,328.53\" style=\"stroke: #383838; stroke-width: 1.0;\"/><ellipse cx=\"378.9839\" cy=\"339.059\" fill=\"#383838\" rx=\"2\" ry=\"2\" style=\"stroke: #383838; stroke-width: 1.0;\"/><ellipse cx=\"376.6916\" cy=\"329.3253\" fill=\"#383838\" rx=\"2\" ry=\"2\" style=\"stroke: #383838; stroke-width: 1.0;\"/><!--MD5=[9d09053dd5fb89b22c2b3cc02c5957fc]\n",
       "@startuml\r\n",
       "left to right direction\r\n",
       "skinparam monochrome true\r\n",
       "skinparam classbackgroundcolor white\r\n",
       "skinparam shadowing false\r\n",
       "skinparam wrapWidth 300\r\n",
       "hide circle\r\n",
       "\r\n",
       "package \"CalculationExample\" as E1   {\r\n",
       "comp usage \"vehicle: Part\" as E2  <<(T,blue)part>> {\r\n",
       "m: MassValue\r\n",
       "}\r\n",
       "comp usage \"eng: Part\" as E3  <<(T,blue)part>> {\r\n",
       "m: MassValue\r\n",
       "}\r\n",
       "comp usage \"trans: Part\" as E4  <<(T,blue)part>> {\r\n",
       "m: MassValue\r\n",
       "}\r\n",
       "comp def \"MassSum\" as E5  <<(T,blue)calculation def>> {\r\n",
       "}\r\n",
       "comp usage \"ms: MassSum\" as E6  <<(T,blue)calculation>> {\r\n",
       "}\r\n",
       "comp def \"MassSum1\" as E7  <<(T,blue)calculation def>> {\r\n",
       "partMasses: MassValue\r\n",
       "totalMass: MassValue= sum(partMasses); \r\n",
       "}\r\n",
       "comp usage \"ms1: MassSum\" as E8  <<(T,blue)calculation>> {\r\n",
       "partMasses: MassValue= {vehicle::eng::m, vehicle::trans::m}; \\n//:>>MassSum::partMasses// \r\n",
       "totalMass: MassValue= vehicle::m; \\n//:>>MassSum::totalMass// \r\n",
       "}\r\n",
       "E2 *- - E3\r\n",
       "E2 *- - E4\r\n",
       "E6 - -:|> E5\r\n",
       "E8 - -:|> E5\r\n",
       "}\r\n",
       "@enduml\r\n",
       "\n",
       "PlantUML version 1.2020.13(Sat Jun 13 12:26:38 UTC 2020)\n",
       "(EPL source distribution)\n",
       "Java Runtime: OpenJDK Runtime Environment\n",
       "JVM: OpenJDK 64-Bit Server VM\n",
       "Default Encoding: UTF-8\n",
       "Language: en\n",
       "Country: null\n",
       "--></g></svg>"
      ]
     },
     "execution_count": 17,
     "metadata": {},
     "output_type": "execute_result"
    }
   ],
   "source": [
    "%viz --style=\"LR\" --view=\"Tree\" \"CalculationExample\""
   ]
  },
  {
   "cell_type": "code",
   "execution_count": 18,
   "id": "useful-yellow",
   "metadata": {
    "execution": {
     "iopub.execute_input": "2021-03-26T09:44:27.428076Z",
     "iopub.status.busy": "2021-03-26T09:44:27.427045Z",
     "iopub.status.idle": "2021-03-26T09:44:27.432088Z",
     "shell.execute_reply": "2021-03-26T09:44:27.431726Z"
    }
   },
   "outputs": [
    {
     "data": {
      "text/plain": [
       "java.lang.IllegalArgumentException: Invalid View: State View candidates are: Default Tree StateMachine Interconnection Activity Sequence MIXED \n",
       "\tat org.omg.sysml.plantuml.SysML2PlantUMLSvc.setView(SysML2PlantUMLSvc.java:63)\n",
       "\tat org.omg.sysml.interactive.SysMLInteractive.viz(SysMLInteractive.java:286)\n",
       "\tat org.omg.sysml.jupyter.kernel.magic.Viz.viz(Viz.java:47)\n",
       "\tat jdk.internal.reflect.GeneratedMethodAccessor14.invoke(Unknown Source)\n",
       "\tat java.base/jdk.internal.reflect.DelegatingMethodAccessorImpl.invoke(DelegatingMethodAccessorImpl.java:43)\n",
       "\tat java.base/java.lang.reflect.Method.invoke(Method.java:568)\n",
       "\tat io.github.spencerpark.jupyter.kernel.magic.registry.Magics.invoke(Magics.java:89)\n",
       "\tat io.github.spencerpark.jupyter.kernel.magic.registry.Magics.access$000(Magics.java:8)\n",
       "\tat io.github.spencerpark.jupyter.kernel.magic.registry.Magics$LineReflectionMagicFunction.execute(Magics.java:149)\n",
       "\tat io.github.spencerpark.jupyter.kernel.magic.registry.Magics.applyLineMagic(Magics.java:26)\n",
       "\tat org.omg.sysml.jupyter.kernel.SysMLKernel.eval(SysMLKernel.java:76)\n",
       "\tat io.github.spencerpark.jupyter.kernel.BaseKernel.handleExecuteRequest(BaseKernel.java:334)\n",
       "\tat io.github.spencerpark.jupyter.channels.ShellChannel.lambda$bind$0(ShellChannel.java:64)\n",
       "\tat io.github.spencerpark.jupyter.channels.Loop.lambda$new$0(Loop.java:21)\n",
       "\tat io.github.spencerpark.jupyter.channels.Loop.run(Loop.java:78)\n"
      ]
     },
     "execution_count": 18,
     "metadata": {},
     "output_type": "execute_result"
    }
   ],
   "source": [
    "%viz --style=\"LR\" --view=\"State\" \"CalculationExample\""
   ]
  },
  {
   "cell_type": "code",
   "execution_count": 19,
   "id": "biological-mistress",
   "metadata": {
    "execution": {
     "iopub.execute_input": "2021-03-26T09:44:27.484076Z",
     "iopub.status.busy": "2021-03-26T09:44:27.483424Z",
     "iopub.status.idle": "2021-03-26T09:44:27.526611Z",
     "shell.execute_reply": "2021-03-26T09:44:27.525816Z"
    }
   },
   "outputs": [
    {
     "data": {
      "image/svg+xml": [
       "<?xml version=\"1.0\" encoding=\"UTF-8\" standalone=\"no\"?><svg xmlns=\"http://www.w3.org/2000/svg\" xmlns:xlink=\"http://www.w3.org/1999/xlink\" contentScriptType=\"application/ecmascript\" contentStyleType=\"text/css\" height=\"593px\" preserveAspectRatio=\"none\" style=\"width:282px;height:593px;\" version=\"1.1\" viewBox=\"0 0 282 593\" width=\"282px\" zoomAndPan=\"magnify\"><defs/><g><!--MD5=[fbc87193dbaf4d95561dea2c320d4a47]\n",
       "cluster E1--><polygon fill=\"#FFFFFF\" points=\"16,6,173,6,180,28.2969,260,28.2969,260,581,16,581,16,6\" style=\"stroke: #000000; stroke-width: 1.5;\"/><line style=\"stroke: #000000; stroke-width: 1.5;\" x1=\"16\" x2=\"180\" y1=\"28.2969\" y2=\"28.2969\"/><text fill=\"#000000\" font-family=\"sans-serif\" font-size=\"14\" font-weight=\"bold\" lengthAdjust=\"spacingAndGlyphs\" textLength=\"151\" x=\"20\" y=\"20.9951\">CalculationExample</text><!--MD5=[e4f7fae6ed58524ba242bb0b0d3be6b7]\n",
       "cluster E2--><rect fill=\"#F8F8F8\" height=\"354\" rx=\"12.5\" ry=\"12.5\" style=\"stroke: #000000; stroke-width: 1.5;\" width=\"196\" x=\"40\" y=\"49\"/><rect fill=\"#FFFFFF\" height=\"321.7031\" rx=\"12.5\" ry=\"12.5\" style=\"stroke: #FFFFFF; stroke-width: 1.0;\" width=\"190\" x=\"43\" y=\"78.2969\"/><line style=\"stroke: #000000; stroke-width: 1.5;\" x1=\"40\" x2=\"236\" y1=\"75.2969\" y2=\"75.2969\"/><text fill=\"#000000\" font-family=\"sans-serif\" font-size=\"14\" lengthAdjust=\"spacingAndGlyphs\" textLength=\"84\" x=\"96\" y=\"65.9951\">vehicle: Part</text><!--MD5=[f6df4d0ebaf0b5dfb2ced0ae5af7c670]\n",
       "cluster E4--><rect fill=\"#F8F8F8\" height=\"101\" rx=\"12.5\" ry=\"12.5\" style=\"stroke: #000000; stroke-width: 1.5;\" width=\"148\" x=\"64\" y=\"92\"/><rect fill=\"#FFFFFF\" height=\"68.7031\" rx=\"12.5\" ry=\"12.5\" style=\"stroke: #FFFFFF; stroke-width: 1.0;\" width=\"142\" x=\"67\" y=\"121.2969\"/><line style=\"stroke: #000000; stroke-width: 1.5;\" x1=\"64\" x2=\"212\" y1=\"118.2969\" y2=\"118.2969\"/><text fill=\"#000000\" font-family=\"sans-serif\" font-size=\"14\" lengthAdjust=\"spacingAndGlyphs\" textLength=\"63\" x=\"106.5\" y=\"108.9951\">eng: Part</text><!--MD5=[14e3b0961a2654348d326746436168a1]\n",
       "cluster E6--><rect fill=\"#F8F8F8\" height=\"101\" rx=\"12.5\" ry=\"12.5\" style=\"stroke: #000000; stroke-width: 1.5;\" width=\"148\" x=\"64\" y=\"217\"/><rect fill=\"#FFFFFF\" height=\"68.7031\" rx=\"12.5\" ry=\"12.5\" style=\"stroke: #FFFFFF; stroke-width: 1.0;\" width=\"142\" x=\"67\" y=\"246.2969\"/><line style=\"stroke: #000000; stroke-width: 1.5;\" x1=\"64\" x2=\"212\" y1=\"243.2969\" y2=\"243.2969\"/><text fill=\"#000000\" font-family=\"sans-serif\" font-size=\"14\" lengthAdjust=\"spacingAndGlyphs\" textLength=\"71\" x=\"102.5\" y=\"233.9951\">trans: Part</text><!--MD5=[b9389687b975829384b498ac4b7476b2]\n",
       "class E8--><rect fill=\"#FFFFFF\" height=\"53.9375\" id=\"E8\" style=\"stroke: #383838; stroke-width: 1.5;\" width=\"108\" x=\"84\" y=\"422\"/><text fill=\"#000000\" font-family=\"sans-serif\" font-size=\"12\" font-style=\"italic\" lengthAdjust=\"spacingAndGlyphs\" textLength=\"106\" x=\"85\" y=\"438.1387\">«calculation def»</text><text fill=\"#000000\" font-family=\"sans-serif\" font-size=\"12\" lengthAdjust=\"spacingAndGlyphs\" textLength=\"59\" x=\"108.5\" y=\"452.1074\">MassSum</text><line style=\"stroke: #383838; stroke-width: 1.5;\" x1=\"85\" x2=\"191\" y1=\"459.9375\" y2=\"459.9375\"/><line style=\"stroke: #383838; stroke-width: 1.5;\" x1=\"85\" x2=\"191\" y1=\"467.9375\" y2=\"467.9375\"/><!--MD5=[fd4143e9d270a159db93a4ea2a975926]\n",
       "class E9--><rect fill=\"#FFFFFF\" height=\"53.9375\" id=\"E9\" style=\"stroke: #383838; stroke-width: 1.5;\" width=\"108\" x=\"84\" y=\"511\"/><text fill=\"#000000\" font-family=\"sans-serif\" font-size=\"12\" font-style=\"italic\" lengthAdjust=\"spacingAndGlyphs\" textLength=\"106\" x=\"85\" y=\"527.1387\">«calculation def»</text><text fill=\"#000000\" font-family=\"sans-serif\" font-size=\"12\" lengthAdjust=\"spacingAndGlyphs\" textLength=\"67\" x=\"104.5\" y=\"541.1074\">MassSum1</text><line style=\"stroke: #383838; stroke-width: 1.5;\" x1=\"85\" x2=\"191\" y1=\"548.9375\" y2=\"548.9375\"/><line style=\"stroke: #383838; stroke-width: 1.5;\" x1=\"85\" x2=\"191\" y1=\"556.9375\" y2=\"556.9375\"/><g id=\"E1.E2.E3\"><rect fill=\"#FFFFFF\" height=\"50\" rx=\"12.5\" ry=\"12.5\" style=\"stroke: #383838; stroke-width: 1.5;\" width=\"116\" x=\"80\" y=\"337\"/><line style=\"stroke: #383838; stroke-width: 1.5;\" x1=\"80\" x2=\"196\" y1=\"363.2969\" y2=\"363.2969\"/><text fill=\"#000000\" font-family=\"sans-serif\" font-size=\"14\" lengthAdjust=\"spacingAndGlyphs\" textLength=\"96\" x=\"90\" y=\"354.9951\">m: MassValue</text></g><g id=\"E1.E2.E4.E5\"><rect fill=\"#FFFFFF\" height=\"50\" rx=\"12.5\" ry=\"12.5\" style=\"stroke: #383838; stroke-width: 1.5;\" width=\"116\" x=\"80\" y=\"127\"/><line style=\"stroke: #383838; stroke-width: 1.5;\" x1=\"80\" x2=\"196\" y1=\"153.2969\" y2=\"153.2969\"/><text fill=\"#000000\" font-family=\"sans-serif\" font-size=\"14\" lengthAdjust=\"spacingAndGlyphs\" textLength=\"96\" x=\"90\" y=\"144.9951\">m: MassValue</text></g><g id=\"E1.E2.E6.E7\"><rect fill=\"#FFFFFF\" height=\"50\" rx=\"12.5\" ry=\"12.5\" style=\"stroke: #383838; stroke-width: 1.5;\" width=\"116\" x=\"80\" y=\"252\"/><line style=\"stroke: #383838; stroke-width: 1.5;\" x1=\"80\" x2=\"196\" y1=\"278.2969\" y2=\"278.2969\"/><text fill=\"#000000\" font-family=\"sans-serif\" font-size=\"14\" lengthAdjust=\"spacingAndGlyphs\" textLength=\"96\" x=\"90\" y=\"269.9951\">m: MassValue</text></g><!--MD5=[6a88c38e6c51cfac33cf50b5aee48926]\n",
       "@startuml\r\n",
       "skinparam ranksep 8\r\n",
       "skinparam rectangle {\r\n",
       " backgroundColor<<block>> LightGreen\r\n",
       "}\r\n",
       "left to right direction\r\n",
       "skinparam monochrome true\r\n",
       "skinparam classbackgroundcolor white\r\n",
       "skinparam shadowing false\r\n",
       "skinparam wrapWidth 300\r\n",
       "hide circle\r\n",
       "\r\n",
       "package \"CalculationExample\" as E1   {\r\n",
       "rec usage \"vehicle: Part\" as E2  {\r\n",
       "rec usage \"m: MassValue\" as E3  <<attribute>> {\r\n",
       "}\r\n",
       "rec usage \"eng: Part\" as E4  {\r\n",
       "rec usage \"m: MassValue\" as E5  <<attribute>> {\r\n",
       "}\r\n",
       "}\r\n",
       "rec usage \"trans: Part\" as E6  {\r\n",
       "rec usage \"m: MassValue\" as E7  <<attribute>> {\r\n",
       "}\r\n",
       "}\r\n",
       "}\r\n",
       "def \"MassSum\" as E8  <<calculation def>> \r\n",
       "def \"MassSum1\" as E9  <<calculation def>> \r\n",
       "}\r\n",
       "@enduml\r\n",
       "\n",
       "PlantUML version 1.2020.13(Sat Jun 13 12:26:38 UTC 2020)\n",
       "(EPL source distribution)\n",
       "Java Runtime: OpenJDK Runtime Environment\n",
       "JVM: OpenJDK 64-Bit Server VM\n",
       "Default Encoding: UTF-8\n",
       "Language: en\n",
       "Country: null\n",
       "--></g></svg>"
      ]
     },
     "execution_count": 19,
     "metadata": {},
     "output_type": "execute_result"
    }
   ],
   "source": [
    "%viz --style=\"LR\" --view=\"Interconnection\" \"CalculationExample\""
   ]
  },
  {
   "cell_type": "code",
   "execution_count": 20,
   "id": "domestic-reading",
   "metadata": {
    "execution": {
     "iopub.execute_input": "2021-03-26T09:44:27.580953Z",
     "iopub.status.busy": "2021-03-26T09:44:27.579433Z",
     "iopub.status.idle": "2021-03-26T09:44:27.586706Z",
     "shell.execute_reply": "2021-03-26T09:44:27.586249Z"
    }
   },
   "outputs": [
    {
     "data": {
      "text/plain": [
       "java.lang.IllegalArgumentException: Invalid View: Action View candidates are: Default Tree StateMachine Interconnection Activity Sequence MIXED \n",
       "\tat org.omg.sysml.plantuml.SysML2PlantUMLSvc.setView(SysML2PlantUMLSvc.java:63)\n",
       "\tat org.omg.sysml.interactive.SysMLInteractive.viz(SysMLInteractive.java:286)\n",
       "\tat org.omg.sysml.jupyter.kernel.magic.Viz.viz(Viz.java:47)\n",
       "\tat jdk.internal.reflect.GeneratedMethodAccessor14.invoke(Unknown Source)\n",
       "\tat java.base/jdk.internal.reflect.DelegatingMethodAccessorImpl.invoke(DelegatingMethodAccessorImpl.java:43)\n",
       "\tat java.base/java.lang.reflect.Method.invoke(Method.java:568)\n",
       "\tat io.github.spencerpark.jupyter.kernel.magic.registry.Magics.invoke(Magics.java:89)\n",
       "\tat io.github.spencerpark.jupyter.kernel.magic.registry.Magics.access$000(Magics.java:8)\n",
       "\tat io.github.spencerpark.jupyter.kernel.magic.registry.Magics$LineReflectionMagicFunction.execute(Magics.java:149)\n",
       "\tat io.github.spencerpark.jupyter.kernel.magic.registry.Magics.applyLineMagic(Magics.java:26)\n",
       "\tat org.omg.sysml.jupyter.kernel.SysMLKernel.eval(SysMLKernel.java:76)\n",
       "\tat io.github.spencerpark.jupyter.kernel.BaseKernel.handleExecuteRequest(BaseKernel.java:334)\n",
       "\tat io.github.spencerpark.jupyter.channels.ShellChannel.lambda$bind$0(ShellChannel.java:64)\n",
       "\tat io.github.spencerpark.jupyter.channels.Loop.lambda$new$0(Loop.java:21)\n",
       "\tat io.github.spencerpark.jupyter.channels.Loop.run(Loop.java:78)\n"
      ]
     },
     "execution_count": 20,
     "metadata": {},
     "output_type": "execute_result"
    }
   ],
   "source": [
    "%viz --style=\"LR\" --view=\"Action\" \"CalculationExample\""
   ]
  },
  {
   "cell_type": "code",
   "execution_count": 21,
   "id": "organic-touch",
   "metadata": {
    "execution": {
     "iopub.execute_input": "2021-03-26T09:44:27.640216Z",
     "iopub.status.busy": "2021-03-26T09:44:27.639415Z",
     "iopub.status.idle": "2021-03-26T09:44:27.724139Z",
     "shell.execute_reply": "2021-03-26T09:44:27.722879Z"
    }
   },
   "outputs": [
    {
     "data": {
      "image/svg+xml": [
       "<?xml version=\"1.0\" encoding=\"UTF-8\" standalone=\"no\"?><svg xmlns=\"http://www.w3.org/2000/svg\" xmlns:xlink=\"http://www.w3.org/1999/xlink\" contentScriptType=\"application/ecmascript\" contentStyleType=\"text/css\" height=\"462px\" preserveAspectRatio=\"none\" style=\"width:548px;height:462px;\" version=\"1.1\" viewBox=\"0 0 548 462\" width=\"548px\" zoomAndPan=\"magnify\"><defs/><g><!--MD5=[fbc87193dbaf4d95561dea2c320d4a47]\n",
       "cluster E1--><polygon fill=\"#FFFFFF\" points=\"16,6,173,6,180,28.2969,526,28.2969,526,450,16,450,16,6\" style=\"stroke: #000000; stroke-width: 1.5;\"/><line style=\"stroke: #000000; stroke-width: 1.5;\" x1=\"16\" x2=\"180\" y1=\"28.2969\" y2=\"28.2969\"/><text fill=\"#000000\" font-family=\"sans-serif\" font-size=\"14\" font-weight=\"bold\" lengthAdjust=\"spacingAndGlyphs\" textLength=\"151\" x=\"20\" y=\"20.9951\">CalculationExample</text><!--MD5=[b4997ac47864f28c2f74865a473b2911]\n",
       "class E2--><rect fill=\"#FFFFFF\" height=\"58.7422\" id=\"E2\" rx=\"10\" ry=\"10\" style=\"stroke: #383838; stroke-width: 1.5;\" width=\"92\" x=\"141\" y=\"41.5\"/><text fill=\"#000000\" font-family=\"sans-serif\" font-size=\"12\" font-style=\"italic\" lengthAdjust=\"spacingAndGlyphs\" textLength=\"40\" x=\"167\" y=\"57.6387\">«part»</text><text fill=\"#000000\" font-family=\"sans-serif\" font-size=\"12\" lengthAdjust=\"spacingAndGlyphs\" textLength=\"77\" x=\"148.5\" y=\"71.6074\">vehicle: Part</text><line style=\"stroke: #383838; stroke-width: 1.5;\" x1=\"142\" x2=\"232\" y1=\"79.4375\" y2=\"79.4375\"/><text fill=\"#000000\" font-family=\"sans-serif\" font-size=\"11\" lengthAdjust=\"spacingAndGlyphs\" textLength=\"80\" x=\"147\" y=\"93.6479\">m: MassValue</text><!--MD5=[09b614a08d8cba4a07c9adeb5e0fee81]\n",
       "class E3--><rect fill=\"#FFFFFF\" height=\"58.7422\" id=\"E3\" rx=\"10\" ry=\"10\" style=\"stroke: #383838; stroke-width: 1.5;\" width=\"92\" x=\"410\" y=\"135.5\"/><text fill=\"#000000\" font-family=\"sans-serif\" font-size=\"12\" font-style=\"italic\" lengthAdjust=\"spacingAndGlyphs\" textLength=\"40\" x=\"436\" y=\"151.6387\">«part»</text><text fill=\"#000000\" font-family=\"sans-serif\" font-size=\"12\" lengthAdjust=\"spacingAndGlyphs\" textLength=\"58\" x=\"427\" y=\"165.6074\">eng: Part</text><line style=\"stroke: #383838; stroke-width: 1.5;\" x1=\"411\" x2=\"501\" y1=\"173.4375\" y2=\"173.4375\"/><text fill=\"#000000\" font-family=\"sans-serif\" font-size=\"11\" lengthAdjust=\"spacingAndGlyphs\" textLength=\"80\" x=\"416\" y=\"187.6479\">m: MassValue</text><!--MD5=[ebbe1d658d1005bcc118a6aa81145e00]\n",
       "class E4--><rect fill=\"#FFFFFF\" height=\"58.7422\" id=\"E4\" rx=\"10\" ry=\"10\" style=\"stroke: #383838; stroke-width: 1.5;\" width=\"92\" x=\"410\" y=\"41.5\"/><text fill=\"#000000\" font-family=\"sans-serif\" font-size=\"12\" font-style=\"italic\" lengthAdjust=\"spacingAndGlyphs\" textLength=\"40\" x=\"436\" y=\"57.6387\">«part»</text><text fill=\"#000000\" font-family=\"sans-serif\" font-size=\"12\" lengthAdjust=\"spacingAndGlyphs\" textLength=\"67\" x=\"422.5\" y=\"71.6074\">trans: Part</text><line style=\"stroke: #383838; stroke-width: 1.5;\" x1=\"411\" x2=\"501\" y1=\"79.4375\" y2=\"79.4375\"/><text fill=\"#000000\" font-family=\"sans-serif\" font-size=\"11\" lengthAdjust=\"spacingAndGlyphs\" textLength=\"80\" x=\"416\" y=\"93.6479\">m: MassValue</text><!--MD5=[270fce915f116d4de14055a7c1d9a0f3]\n",
       "class E5--><rect fill=\"#FFFFFF\" height=\"45.9375\" id=\"E5\" style=\"stroke: #383838; stroke-width: 1.5;\" width=\"108\" x=\"402\" y=\"293\"/><text fill=\"#000000\" font-family=\"sans-serif\" font-size=\"12\" font-style=\"italic\" lengthAdjust=\"spacingAndGlyphs\" textLength=\"106\" x=\"403\" y=\"309.1387\">«calculation def»</text><text fill=\"#000000\" font-family=\"sans-serif\" font-size=\"12\" lengthAdjust=\"spacingAndGlyphs\" textLength=\"59\" x=\"426.5\" y=\"323.1074\">MassSum</text><line style=\"stroke: #383838; stroke-width: 1.5;\" x1=\"403\" x2=\"509\" y1=\"330.9375\" y2=\"330.9375\"/><!--MD5=[60a26617385b1d2d0262a64233df1f8d]\n",
       "class E6--><rect fill=\"#FFFFFF\" height=\"45.9375\" id=\"E6\" rx=\"10\" ry=\"10\" style=\"stroke: #383838; stroke-width: 1.5;\" width=\"91\" x=\"141.5\" y=\"136\"/><text fill=\"#000000\" font-family=\"sans-serif\" font-size=\"12\" font-style=\"italic\" lengthAdjust=\"spacingAndGlyphs\" textLength=\"82\" x=\"146\" y=\"152.1387\">«calculation»</text><text fill=\"#000000\" font-family=\"sans-serif\" font-size=\"12\" lengthAdjust=\"spacingAndGlyphs\" textLength=\"85\" x=\"144.5\" y=\"166.1074\">ms: MassSum</text><line style=\"stroke: #383838; stroke-width: 1.5;\" x1=\"142.5\" x2=\"231.5\" y1=\"173.9375\" y2=\"173.9375\"/><!--MD5=[2156ba9850f5573cc1fc38a6a4b2f02b]\n",
       "class E7--><rect fill=\"#FFFFFF\" height=\"71.5469\" id=\"E7\" style=\"stroke: #383838; stroke-width: 1.5;\" width=\"253\" x=\"60.5\" y=\"217\"/><text fill=\"#000000\" font-family=\"sans-serif\" font-size=\"12\" font-style=\"italic\" lengthAdjust=\"spacingAndGlyphs\" textLength=\"106\" x=\"134\" y=\"233.1387\">«calculation def»</text><text fill=\"#000000\" font-family=\"sans-serif\" font-size=\"12\" lengthAdjust=\"spacingAndGlyphs\" textLength=\"67\" x=\"153.5\" y=\"247.1074\">MassSum1</text><line style=\"stroke: #383838; stroke-width: 1.5;\" x1=\"61.5\" x2=\"312.5\" y1=\"254.9375\" y2=\"254.9375\"/><text fill=\"#000000\" font-family=\"sans-serif\" font-size=\"11\" lengthAdjust=\"spacingAndGlyphs\" textLength=\"136\" x=\"66.5\" y=\"269.1479\">partMasses: MassValue</text><text fill=\"#000000\" font-family=\"sans-serif\" font-size=\"11\" lengthAdjust=\"spacingAndGlyphs\" textLength=\"241\" x=\"66.5\" y=\"281.9526\">totalMass: MassValue= sum(partMasses);</text><!--MD5=[b9389687b975829384b498ac4b7476b2]\n",
       "class E8--><rect fill=\"#FFFFFF\" height=\"109.9609\" id=\"E8\" rx=\"10\" ry=\"10\" style=\"stroke: #383838; stroke-width: 1.5;\" width=\"310\" x=\"32\" y=\"324\"/><text fill=\"#000000\" font-family=\"sans-serif\" font-size=\"12\" font-style=\"italic\" lengthAdjust=\"spacingAndGlyphs\" textLength=\"82\" x=\"146\" y=\"340.1387\">«calculation»</text><text fill=\"#000000\" font-family=\"sans-serif\" font-size=\"12\" lengthAdjust=\"spacingAndGlyphs\" textLength=\"93\" x=\"140.5\" y=\"354.1074\">ms1: MassSum</text><line style=\"stroke: #383838; stroke-width: 1.5;\" x1=\"33\" x2=\"341\" y1=\"361.9375\" y2=\"361.9375\"/><text fill=\"#000000\" font-family=\"sans-serif\" font-size=\"11\" lengthAdjust=\"spacingAndGlyphs\" textLength=\"298\" x=\"38\" y=\"376.1479\">partMasses: MassValue= {vehicle::eng::m, vehicle::</text><text fill=\"#000000\" font-family=\"sans-serif\" font-size=\"11\" lengthAdjust=\"spacingAndGlyphs\" textLength=\"60\" x=\"38\" y=\"388.9526\">trans::m};</text><text fill=\"#000000\" font-family=\"sans-serif\" font-size=\"11\" font-style=\"italic\" lengthAdjust=\"spacingAndGlyphs\" textLength=\"153\" x=\"38\" y=\"401.7573\">:&gt;&gt;MassSum::partMasses</text><text fill=\"#000000\" font-family=\"sans-serif\" font-size=\"11\" lengthAdjust=\"spacingAndGlyphs\" textLength=\"199\" x=\"38\" y=\"414.562\">totalMass: MassValue= vehicle::m;</text><text fill=\"#000000\" font-family=\"sans-serif\" font-size=\"11\" font-style=\"italic\" lengthAdjust=\"spacingAndGlyphs\" textLength=\"141\" x=\"38\" y=\"427.3667\">:&gt;&gt;MassSum::totalMass</text><!--MD5=[209b3feb70ccb6233bfe1053d122c12c]\n",
       "reverse link E2 to E3--><path d=\"M246.04,87.25 C275.08,95.75 310.63,106.72 342,118 C364.59,126.12 389.26,136.23 409.76,144.99 \" fill=\"none\" id=\"E2&lt;-E3\" style=\"stroke: #383838; stroke-width: 1.0;\"/><polygon fill=\"#383838\" points=\"233.19,83.53,237.8353,89.0455,244.7132,86.8789,240.0679,81.3633,233.19,83.53\" style=\"stroke: #383838; stroke-width: 1.0;\"/><!--MD5=[9618e71518536f8baf3342ff6fdab317]\n",
       "reverse link E2 to E4--><path d=\"M246.59,71 C295.77,71 365,71 409.93,71 \" fill=\"none\" id=\"E2&lt;-E4\" style=\"stroke: #383838; stroke-width: 1.0;\"/><polygon fill=\"#383838\" points=\"233.29,71,239.29,75,245.29,71,239.29,67,233.29,71\" style=\"stroke: #383838; stroke-width: 1.0;\"/><!--MD5=[25b190c987b1e74e5126d372c5a73af1]\n",
       "link E6 to E5--><path d=\"M232.61,164.02 C264.76,169.15 308.25,179.29 342,199 C375.65,218.65 405.85,251.1 426.55,276.85 \" fill=\"none\" id=\"E6-&gt;E5\" style=\"stroke: #383838; stroke-width: 1.0;\"/><polygon fill=\"#FFFFFF\" points=\"439,292.98,421.8446,282.224,432.9235,273.6648,439,292.98\" style=\"stroke: #383838; stroke-width: 1.0;\"/><ellipse cx=\"419.9425\" cy=\"276.4905\" fill=\"#383838\" rx=\"2\" ry=\"2\" style=\"stroke: #383838; stroke-width: 1.0;\"/><ellipse cx=\"427.856\" cy=\"270.3769\" fill=\"#383838\" rx=\"2\" ry=\"2\" style=\"stroke: #383838; stroke-width: 1.0;\"/><!--MD5=[1ccb2481ffa92f8d51a74ee30c51832a]\n",
       "link E8 to E5--><path d=\"M342.15,342.63 C356.03,339.35 369.59,336.15 382.23,333.17 \" fill=\"none\" id=\"E8-&gt;E5\" style=\"stroke: #383838; stroke-width: 1.0;\"/><polygon fill=\"#FFFFFF\" points=\"401.88,328.53,384.9906,339.6991,381.7813,326.0719,401.88,328.53\" style=\"stroke: #383838; stroke-width: 1.0;\"/><ellipse cx=\"378.9839\" cy=\"339.059\" fill=\"#383838\" rx=\"2\" ry=\"2\" style=\"stroke: #383838; stroke-width: 1.0;\"/><ellipse cx=\"376.6916\" cy=\"329.3253\" fill=\"#383838\" rx=\"2\" ry=\"2\" style=\"stroke: #383838; stroke-width: 1.0;\"/><!--MD5=[9d09053dd5fb89b22c2b3cc02c5957fc]\n",
       "@startuml\r\n",
       "left to right direction\r\n",
       "skinparam monochrome true\r\n",
       "skinparam classbackgroundcolor white\r\n",
       "skinparam shadowing false\r\n",
       "skinparam wrapWidth 300\r\n",
       "hide circle\r\n",
       "\r\n",
       "package \"CalculationExample\" as E1   {\r\n",
       "comp usage \"vehicle: Part\" as E2  <<(T,blue)part>> {\r\n",
       "m: MassValue\r\n",
       "}\r\n",
       "comp usage \"eng: Part\" as E3  <<(T,blue)part>> {\r\n",
       "m: MassValue\r\n",
       "}\r\n",
       "comp usage \"trans: Part\" as E4  <<(T,blue)part>> {\r\n",
       "m: MassValue\r\n",
       "}\r\n",
       "comp def \"MassSum\" as E5  <<(T,blue)calculation def>> {\r\n",
       "}\r\n",
       "comp usage \"ms: MassSum\" as E6  <<(T,blue)calculation>> {\r\n",
       "}\r\n",
       "comp def \"MassSum1\" as E7  <<(T,blue)calculation def>> {\r\n",
       "partMasses: MassValue\r\n",
       "totalMass: MassValue= sum(partMasses); \r\n",
       "}\r\n",
       "comp usage \"ms1: MassSum\" as E8  <<(T,blue)calculation>> {\r\n",
       "partMasses: MassValue= {vehicle::eng::m, vehicle::trans::m}; \\n//:>>MassSum::partMasses// \r\n",
       "totalMass: MassValue= vehicle::m; \\n//:>>MassSum::totalMass// \r\n",
       "}\r\n",
       "E2 *- - E3\r\n",
       "E2 *- - E4\r\n",
       "E6 - -:|> E5\r\n",
       "E8 - -:|> E5\r\n",
       "}\r\n",
       "@enduml\r\n",
       "\n",
       "PlantUML version 1.2020.13(Sat Jun 13 12:26:38 UTC 2020)\n",
       "(EPL source distribution)\n",
       "Java Runtime: OpenJDK Runtime Environment\n",
       "JVM: OpenJDK 64-Bit Server VM\n",
       "Default Encoding: UTF-8\n",
       "Language: en\n",
       "Country: null\n",
       "--></g></svg>"
      ]
     },
     "execution_count": 21,
     "metadata": {},
     "output_type": "execute_result"
    }
   ],
   "source": [
    "%viz --style=\"LR\" --view=\"Sequence\" \"CalculationExample\""
   ]
  },
  {
   "cell_type": "code",
   "execution_count": 22,
   "id": "bound-petroleum",
   "metadata": {
    "execution": {
     "iopub.execute_input": "2021-03-26T09:44:27.775187Z",
     "iopub.status.busy": "2021-03-26T09:44:27.774647Z",
     "iopub.status.idle": "2021-03-26T09:44:27.856805Z",
     "shell.execute_reply": "2021-03-26T09:44:27.854903Z"
    }
   },
   "outputs": [
    {
     "data": {
      "image/svg+xml": [
       "<?xml version=\"1.0\" encoding=\"UTF-8\" standalone=\"no\"?><svg xmlns=\"http://www.w3.org/2000/svg\" xmlns:xlink=\"http://www.w3.org/1999/xlink\" contentScriptType=\"application/ecmascript\" contentStyleType=\"text/css\" height=\"562px\" preserveAspectRatio=\"none\" style=\"width:688px;height:562px;\" version=\"1.1\" viewBox=\"0 0 688 562\" width=\"688px\" zoomAndPan=\"magnify\"><defs/><g><!--MD5=[fbc87193dbaf4d95561dea2c320d4a47]\n",
       "cluster E1--><polygon fill=\"#FFFFFF\" points=\"16,6,173,6,180,28.2969,666.72,28.2969,666.72,550,16,550,16,6\" style=\"stroke: #000000; stroke-width: 1.5;\"/><line style=\"stroke: #000000; stroke-width: 1.5;\" x1=\"16\" x2=\"180\" y1=\"28.2969\" y2=\"28.2969\"/><text fill=\"#000000\" font-family=\"sans-serif\" font-size=\"14\" font-weight=\"bold\" lengthAdjust=\"spacingAndGlyphs\" textLength=\"151\" x=\"20\" y=\"20.9951\">CalculationExample</text><!--MD5=[de5ec2e2e8f62f467e546659f5068c88]\n",
       "cluster E5--><rect fill=\"#FFFFFF\" height=\"88\" style=\"stroke: #000000; stroke-width: 1.5;\" width=\"459.72\" x=\"169\" y=\"295\"/><text fill=\"#000000\" font-family=\"sans-serif\" font-size=\"14\" font-weight=\"bold\" lengthAdjust=\"spacingAndGlyphs\" textLength=\"74\" x=\"361.86\" y=\"309.9951\">MassSum</text><!--MD5=[917b9dd0c7eca3ee5f47219d1a84c0ad]\n",
       "cluster E11--><rect fill=\"#FFFFFF\" height=\"52\" style=\"stroke: #000000; stroke-width: 1.5;\" width=\"441.72\" x=\"187\" y=\"41\"/><text fill=\"#000000\" font-family=\"sans-serif\" font-size=\"14\" font-weight=\"bold\" lengthAdjust=\"spacingAndGlyphs\" textLength=\"84\" x=\"365.86\" y=\"55.9951\">MassSum1</text><!--MD5=[b4997ac47864f28c2f74865a473b2911]\n",
       "class E2--><rect fill=\"#FFFFFF\" height=\"58.7422\" id=\"E2\" rx=\"10\" ry=\"10\" style=\"stroke: #383838; stroke-width: 1.5;\" width=\"92\" x=\"141\" y=\"112.5\"/><text fill=\"#000000\" font-family=\"sans-serif\" font-size=\"12\" font-style=\"italic\" lengthAdjust=\"spacingAndGlyphs\" textLength=\"40\" x=\"167\" y=\"128.6387\">«part»</text><text fill=\"#000000\" font-family=\"sans-serif\" font-size=\"12\" lengthAdjust=\"spacingAndGlyphs\" textLength=\"77\" x=\"148.5\" y=\"142.6074\">vehicle: Part</text><line style=\"stroke: #383838; stroke-width: 1.5;\" x1=\"142\" x2=\"232\" y1=\"150.4375\" y2=\"150.4375\"/><text fill=\"#000000\" font-family=\"sans-serif\" font-size=\"11\" lengthAdjust=\"spacingAndGlyphs\" textLength=\"80\" x=\"147\" y=\"164.6479\">m: MassValue</text><!--MD5=[09b614a08d8cba4a07c9adeb5e0fee81]\n",
       "class E3--><rect fill=\"#FFFFFF\" height=\"58.7422\" id=\"E3\" rx=\"10\" ry=\"10\" style=\"stroke: #383838; stroke-width: 1.5;\" width=\"92\" x=\"406\" y=\"205.5\"/><text fill=\"#000000\" font-family=\"sans-serif\" font-size=\"12\" font-style=\"italic\" lengthAdjust=\"spacingAndGlyphs\" textLength=\"40\" x=\"432\" y=\"221.6387\">«part»</text><text fill=\"#000000\" font-family=\"sans-serif\" font-size=\"12\" lengthAdjust=\"spacingAndGlyphs\" textLength=\"58\" x=\"423\" y=\"235.6074\">eng: Part</text><line style=\"stroke: #383838; stroke-width: 1.5;\" x1=\"407\" x2=\"497\" y1=\"243.4375\" y2=\"243.4375\"/><text fill=\"#000000\" font-family=\"sans-serif\" font-size=\"11\" lengthAdjust=\"spacingAndGlyphs\" textLength=\"80\" x=\"412\" y=\"257.6479\">m: MassValue</text><!--MD5=[ebbe1d658d1005bcc118a6aa81145e00]\n",
       "class E4--><rect fill=\"#FFFFFF\" height=\"58.7422\" id=\"E4\" rx=\"10\" ry=\"10\" style=\"stroke: #383838; stroke-width: 1.5;\" width=\"92\" x=\"406\" y=\"111.5\"/><text fill=\"#000000\" font-family=\"sans-serif\" font-size=\"12\" font-style=\"italic\" lengthAdjust=\"spacingAndGlyphs\" textLength=\"40\" x=\"432\" y=\"127.6387\">«part»</text><text fill=\"#000000\" font-family=\"sans-serif\" font-size=\"12\" lengthAdjust=\"spacingAndGlyphs\" textLength=\"67\" x=\"418.5\" y=\"141.6074\">trans: Part</text><line style=\"stroke: #383838; stroke-width: 1.5;\" x1=\"407\" x2=\"497\" y1=\"149.4375\" y2=\"149.4375\"/><text fill=\"#000000\" font-family=\"sans-serif\" font-size=\"11\" lengthAdjust=\"spacingAndGlyphs\" textLength=\"80\" x=\"412\" y=\"163.6479\">m: MassValue</text><!--MD5=[96f4274e9e20536e775497830990834d]\n",
       "class E10--><rect fill=\"#FFFFFF\" height=\"45.9375\" id=\"E10\" rx=\"10\" ry=\"10\" style=\"stroke: #383838; stroke-width: 1.5;\" width=\"91\" x=\"141.5\" y=\"208\"/><text fill=\"#000000\" font-family=\"sans-serif\" font-size=\"12\" font-style=\"italic\" lengthAdjust=\"spacingAndGlyphs\" textLength=\"82\" x=\"146\" y=\"224.1387\">«calculation»</text><text fill=\"#000000\" font-family=\"sans-serif\" font-size=\"12\" lengthAdjust=\"spacingAndGlyphs\" textLength=\"85\" x=\"144.5\" y=\"238.1074\">ms: MassSum</text><line style=\"stroke: #383838; stroke-width: 1.5;\" x1=\"142.5\" x2=\"231.5\" y1=\"245.9375\" y2=\"245.9375\"/><!--MD5=[bee11217b2f71d958a27249dc326068c]\n",
       "class E14--><rect fill=\"#FFFFFF\" height=\"109.9609\" id=\"E14\" rx=\"10\" ry=\"10\" style=\"stroke: #383838; stroke-width: 1.5;\" width=\"310\" x=\"32\" y=\"424\"/><text fill=\"#000000\" font-family=\"sans-serif\" font-size=\"12\" font-style=\"italic\" lengthAdjust=\"spacingAndGlyphs\" textLength=\"82\" x=\"146\" y=\"440.1387\">«calculation»</text><text fill=\"#000000\" font-family=\"sans-serif\" font-size=\"12\" lengthAdjust=\"spacingAndGlyphs\" textLength=\"93\" x=\"140.5\" y=\"454.1074\">ms1: MassSum</text><line style=\"stroke: #383838; stroke-width: 1.5;\" x1=\"33\" x2=\"341\" y1=\"461.9375\" y2=\"461.9375\"/><text fill=\"#000000\" font-family=\"sans-serif\" font-size=\"11\" lengthAdjust=\"spacingAndGlyphs\" textLength=\"298\" x=\"38\" y=\"476.1479\">partMasses: MassValue= {vehicle::eng::m, vehicle::</text><text fill=\"#000000\" font-family=\"sans-serif\" font-size=\"11\" lengthAdjust=\"spacingAndGlyphs\" textLength=\"60\" x=\"38\" y=\"488.9526\">trans::m};</text><text fill=\"#000000\" font-family=\"sans-serif\" font-size=\"11\" font-style=\"italic\" lengthAdjust=\"spacingAndGlyphs\" textLength=\"153\" x=\"38\" y=\"501.7573\">:&gt;&gt;MassSum::partMasses</text><text fill=\"#000000\" font-family=\"sans-serif\" font-size=\"11\" lengthAdjust=\"spacingAndGlyphs\" textLength=\"199\" x=\"38\" y=\"514.562\">totalMass: MassValue= vehicle::m;</text><text fill=\"#000000\" font-family=\"sans-serif\" font-size=\"11\" font-style=\"italic\" lengthAdjust=\"spacingAndGlyphs\" textLength=\"141\" x=\"38\" y=\"527.3667\">:&gt;&gt;MassSum::totalMass</text><text fill=\"#000000\" font-family=\"sans-serif\" font-size=\"14\" lengthAdjust=\"spacingAndGlyphs\" textLength=\"80\" x=\"147\" y=\"401.9951\">partMasses</text><rect fill=\"#383838\" height=\"12\" style=\"stroke: #F8F8F8; stroke-width: 1.5;\" width=\"12\" x=\"181\" y=\"377\"/><text fill=\"#000000\" font-family=\"sans-serif\" font-size=\"14\" lengthAdjust=\"spacingAndGlyphs\" textLength=\"66\" x=\"595.72\" y=\"380.9951\">totalMass</text><rect fill=\"#383838\" height=\"12\" style=\"stroke: #F8F8F8; stroke-width: 1.5;\" width=\"12\" x=\"622.72\" y=\"356\"/><text fill=\"#000000\" font-family=\"sans-serif\" font-size=\"14\" lengthAdjust=\"spacingAndGlyphs\" textLength=\"75\" x=\"149.5\" y=\"273.6982\">$collection</text><rect fill=\"#383838\" height=\"12\" style=\"stroke: #F8F8F8; stroke-width: 1.5;\" width=\"12\" x=\"181\" y=\"289\"/><text fill=\"#000000\" font-family=\"sans-serif\" font-size=\"14\" lengthAdjust=\"spacingAndGlyphs\" textLength=\"48\" x=\"604.72\" y=\"293.6982\">$result</text><rect fill=\"#383838\" height=\"12\" style=\"stroke: #F8F8F8; stroke-width: 1.5;\" width=\"12\" x=\"622.72\" y=\"309\"/><text fill=\"#000000\" font-family=\"sans-serif\" font-size=\"14\" lengthAdjust=\"spacingAndGlyphs\" textLength=\"80\" x=\"147\" y=\"45.6982\">partMasses</text><rect fill=\"#383838\" height=\"12\" style=\"stroke: #F8F8F8; stroke-width: 1.5;\" width=\"12\" x=\"181\" y=\"61\"/><text fill=\"#000000\" font-family=\"sans-serif\" font-size=\"14\" lengthAdjust=\"spacingAndGlyphs\" textLength=\"66\" x=\"595.72\" y=\"45.6982\">totalMass</text><rect fill=\"#383838\" height=\"12\" style=\"stroke: #F8F8F8; stroke-width: 1.5;\" width=\"12\" x=\"622.72\" y=\"61\"/><!--MD5=[209b3feb70ccb6233bfe1053d122c12c]\n",
       "reverse link E2 to E3--><path d=\"M246.01,158.74 C275.04,167.46 310.6,178.65 342,190 C363.18,197.66 386.28,207.04 405.75,215.25 \" fill=\"none\" id=\"E2&lt;-E3\" style=\"stroke: #383838; stroke-width: 1.0;\"/><polygon fill=\"#383838\" points=\"233.17,154.92,237.7828,160.4628,244.6733,158.3367,240.0606,152.7939,233.17,154.92\" style=\"stroke: #383838; stroke-width: 1.0;\"/><!--MD5=[9618e71518536f8baf3342ff6fdab317]\n",
       "reverse link E2 to E4--><path d=\"M246.25,141.78 C294.41,141.6 361.83,141.34 405.94,141.17 \" fill=\"none\" id=\"E2&lt;-E4\" style=\"stroke: #383838; stroke-width: 1.0;\"/><polygon fill=\"#383838\" points=\"233.21,141.83,239.2275,145.8036,245.2099,141.7773,239.1924,137.8037,233.21,141.83\" style=\"stroke: #383838; stroke-width: 1.0;\"/><!--MD5=[1c0b9414cc86e0744215edee6abd8926]\n",
       "link E7 to E9--><path d=\"M626.65,355.76 C623.39,344.19 623.41,332.62 626.7,321.05 \" fill=\"none\" id=\"E7-E9\" style=\"stroke: #383838; stroke-width: 5.0;\"/><!--MD5=[ec5e0a54482b142abcecfe541d624bff]\n",
       "link E10 to E5--><path d=\"M232.8,240.06 C264.07,247.14 306.41,258.26 342,273 C353.585,277.8 359.9975,282.5075 366.4325,287.1613 C369.65,289.4881 372.8731,291.8016 376.7512,294.1064 C377.236,294.3945 377.731,294.6825 378.2375,294.9703 \" fill=\"none\" id=\"E10-&gt;E5\" style=\"stroke: #383838; stroke-width: 1.0;\"/><polygon fill=\"#FFFFFF\" points=\"378.2375,294.9703,358.2601,291.6685,365.1773,279.4968,378.2375,294.9703\" style=\"stroke: #383838; stroke-width: 1.0;\"/><ellipse cx=\"354.2926\" cy=\"287.1134\" fill=\"#383838\" rx=\"2\" ry=\"2\" style=\"stroke: #383838; stroke-width: 1.0;\"/><ellipse cx=\"359.2335\" cy=\"278.4193\" fill=\"#383838\" rx=\"2\" ry=\"2\" style=\"stroke: #383838; stroke-width: 1.0;\"/><!--MD5=[111e5536516ee1ad7d4266f589654f03]\n",
       "link E14 to E5--><path d=\"M309.74,423.95 C320.84,417.91 331.76,411.55 342,405 C351.8725,398.685 361.8544,391.5944 371.5613,384.2373 C371.8646,384.0074 372.1677,383.7773 372.4705,383.5469 C372.6218,383.4317 372.7732,383.3164 372.9244,383.2011 \" fill=\"none\" id=\"E14-&gt;E5\" style=\"stroke: #383838; stroke-width: 1.0;\"/><polygon fill=\"#FFFFFF\" points=\"372.9244,383.2011,362.0596,400.2878,353.571,389.1548,372.9244,383.2011\" style=\"stroke: #383838; stroke-width: 1.0;\"/><ellipse cx=\"356.3142\" cy=\"402.1534\" fill=\"#383838\" rx=\"2\" ry=\"2\" style=\"stroke: #383838; stroke-width: 1.0;\"/><ellipse cx=\"350.251\" cy=\"394.2013\" fill=\"#383838\" rx=\"2\" ry=\"2\" style=\"stroke: #383838; stroke-width: 1.0;\"/><!--MD5=[940bf583e3c66f248beb1a23574bbc9b]\n",
       "@startuml\r\n",
       "left to right direction\r\n",
       "skinparam monochrome true\r\n",
       "skinparam classbackgroundcolor white\r\n",
       "skinparam shadowing false\r\n",
       "skinparam wrapWidth 300\r\n",
       "hide circle\r\n",
       "\r\n",
       "package \"CalculationExample\" as E1   {\r\n",
       "comp usage \"vehicle: Part\" as E2  <<(T,blue)part>> {\r\n",
       "m: MassValue\r\n",
       "}\r\n",
       "comp usage \"eng: Part\" as E3  <<(T,blue)part>> {\r\n",
       "m: MassValue\r\n",
       "}\r\n",
       "comp usage \"trans: Part\" as E4  <<(T,blue)part>> {\r\n",
       "m: MassValue\r\n",
       "}\r\n",
       "rec def \"MassSum\" as E5 {\r\n",
       "portin \"partMasses\" as E6  \r\n",
       "portout \"totalMass\" as E7  \r\n",
       "portin \"$collection\" as E8  \r\n",
       "portout \"$result\" as E9  \r\n",
       "}\r\n",
       "\r\n",
       "comp usage \"ms: MassSum\" as E10  <<(T,blue)calculation>> {\r\n",
       "}\r\n",
       "rec def \"MassSum1\" as E11 {\r\n",
       "portin \"partMasses\" as E12  \r\n",
       "portout \"totalMass\" as E13  \r\n",
       "}\r\n",
       "\r\n",
       "comp usage \"ms1: MassSum\" as E14  <<(T,blue)calculation>> {\r\n",
       "partMasses: MassValue= {vehicle::eng::m, vehicle::trans::m}; \\n//:>>MassSum::partMasses// \r\n",
       "totalMass: MassValue= vehicle::m; \\n//:>>MassSum::totalMass// \r\n",
       "}\r\n",
       "E2 *- - E3\r\n",
       "E2 *- - E4\r\n",
       "E7 -[thickness=5]- E9\r\n",
       "E10 - -:|> E5\r\n",
       "E14 - -:|> E5\r\n",
       "}\r\n",
       "@enduml\r\n",
       "\n",
       "PlantUML version 1.2020.13(Sat Jun 13 12:26:38 UTC 2020)\n",
       "(EPL source distribution)\n",
       "Java Runtime: OpenJDK Runtime Environment\n",
       "JVM: OpenJDK 64-Bit Server VM\n",
       "Default Encoding: UTF-8\n",
       "Language: en\n",
       "Country: null\n",
       "--></g></svg>"
      ]
     },
     "execution_count": 22,
     "metadata": {},
     "output_type": "execute_result"
    }
   ],
   "source": [
    "%viz --style=\"LR\" --view=\"MIXED\" \"CalculationExample\""
   ]
  },
  {
   "cell_type": "code",
   "execution_count": 23,
   "id": "decimal-robert",
   "metadata": {
    "execution": {
     "iopub.execute_input": "2021-03-26T09:44:27.908528Z",
     "iopub.status.busy": "2021-03-26T09:44:27.908005Z",
     "iopub.status.idle": "2021-03-26T09:44:27.980771Z",
     "shell.execute_reply": "2021-03-26T09:44:27.980253Z"
    }
   },
   "outputs": [
    {
     "data": {
      "image/svg+xml": [
       "<?xml version=\"1.0\" encoding=\"UTF-8\" standalone=\"no\"?><svg xmlns=\"http://www.w3.org/2000/svg\" xmlns:xlink=\"http://www.w3.org/1999/xlink\" contentScriptType=\"application/ecmascript\" contentStyleType=\"text/css\" height=\"433px\" preserveAspectRatio=\"none\" style=\"width:934px;height:433px;\" version=\"1.1\" viewBox=\"0 0 934 433\" width=\"934px\" zoomAndPan=\"magnify\"><defs><filter height=\"300%\" id=\"fqdf9zzhf7yeu\" width=\"300%\" x=\"-1\" y=\"-1\"><feGaussianBlur result=\"blurOut\" stdDeviation=\"2.0\"/><feColorMatrix in=\"blurOut\" result=\"blurOut2\" type=\"matrix\" values=\"0 0 0 0 0 0 0 0 0 0 0 0 0 0 0 0 0 0 .4 0\"/><feOffset dx=\"4.0\" dy=\"4.0\" in=\"blurOut2\" result=\"blurOut3\"/><feBlend in=\"SourceGraphic\" in2=\"blurOut3\" mode=\"normal\"/></filter></defs><g><!--MD5=[fbc87193dbaf4d95561dea2c320d4a47]\n",
       "cluster E1--><polygon fill=\"#FFFFFF\" filter=\"url(#fqdf9zzhf7yeu)\" points=\"16,6,173,6,180,28.2969,912,28.2969,912,421.72,16,421.72,16,6\" style=\"stroke: #000000; stroke-width: 1.5;\"/><line style=\"stroke: #000000; stroke-width: 1.5;\" x1=\"16\" x2=\"180\" y1=\"28.2969\" y2=\"28.2969\"/><text fill=\"#000000\" font-family=\"sans-serif\" font-size=\"14\" font-weight=\"bold\" lengthAdjust=\"spacingAndGlyphs\" textLength=\"151\" x=\"20\" y=\"20.9951\">CalculationExample</text><!--MD5=[de5ec2e2e8f62f467e546659f5068c88]\n",
       "cluster E5--><rect fill=\"#FFFFFF\" filter=\"url(#fqdf9zzhf7yeu)\" height=\"294.22\" style=\"stroke: #000000; stroke-width: 1.5;\" width=\"128\" x=\"379\" y=\"89.5\"/><text fill=\"#000000\" font-family=\"sans-serif\" font-size=\"14\" font-weight=\"bold\" lengthAdjust=\"spacingAndGlyphs\" textLength=\"74\" x=\"406\" y=\"104.4951\">MassSum</text><!--MD5=[917b9dd0c7eca3ee5f47219d1a84c0ad]\n",
       "cluster E11--><rect fill=\"#FFFFFF\" filter=\"url(#fqdf9zzhf7yeu)\" height=\"294.22\" style=\"stroke: #000000; stroke-width: 1.5;\" width=\"132\" x=\"764\" y=\"89.5\"/><text fill=\"#000000\" font-family=\"sans-serif\" font-size=\"14\" font-weight=\"bold\" lengthAdjust=\"spacingAndGlyphs\" textLength=\"84\" x=\"788\" y=\"104.4951\">MassSum1</text><!--MD5=[b4997ac47864f28c2f74865a473b2911]\n",
       "class E2--><rect fill=\"#FEFECE\" filter=\"url(#fqdf9zzhf7yeu)\" height=\"58.7422\" id=\"E2\" rx=\"10\" ry=\"10\" style=\"stroke: #A80036; stroke-width: 1.5;\" width=\"92\" x=\"657\" y=\"60\"/><text fill=\"#000000\" font-family=\"sans-serif\" font-size=\"12\" font-style=\"italic\" lengthAdjust=\"spacingAndGlyphs\" textLength=\"40\" x=\"683\" y=\"76.1387\">«part»</text><text fill=\"#000000\" font-family=\"sans-serif\" font-size=\"12\" lengthAdjust=\"spacingAndGlyphs\" textLength=\"77\" x=\"664.5\" y=\"90.1074\">vehicle: Part</text><line style=\"stroke: #A80036; stroke-width: 1.5;\" x1=\"658\" x2=\"748\" y1=\"97.9375\" y2=\"97.9375\"/><text fill=\"#000000\" font-family=\"sans-serif\" font-size=\"11\" lengthAdjust=\"spacingAndGlyphs\" textLength=\"80\" x=\"663\" y=\"112.1479\">m: MassValue</text><!--MD5=[09b614a08d8cba4a07c9adeb5e0fee81]\n",
       "class E3--><rect fill=\"#FEFECE\" filter=\"url(#fqdf9zzhf7yeu)\" height=\"58.7422\" id=\"E3\" rx=\"10\" ry=\"10\" style=\"stroke: #A80036; stroke-width: 1.5;\" width=\"92\" x=\"526\" y=\"198\"/><text fill=\"#000000\" font-family=\"sans-serif\" font-size=\"12\" font-style=\"italic\" lengthAdjust=\"spacingAndGlyphs\" textLength=\"40\" x=\"552\" y=\"214.1387\">«part»</text><text fill=\"#000000\" font-family=\"sans-serif\" font-size=\"12\" lengthAdjust=\"spacingAndGlyphs\" textLength=\"58\" x=\"543\" y=\"228.1074\">eng: Part</text><line style=\"stroke: #A80036; stroke-width: 1.5;\" x1=\"527\" x2=\"617\" y1=\"235.9375\" y2=\"235.9375\"/><text fill=\"#000000\" font-family=\"sans-serif\" font-size=\"11\" lengthAdjust=\"spacingAndGlyphs\" textLength=\"80\" x=\"532\" y=\"250.1479\">m: MassValue</text><!--MD5=[ebbe1d658d1005bcc118a6aa81145e00]\n",
       "class E4--><rect fill=\"#FEFECE\" filter=\"url(#fqdf9zzhf7yeu)\" height=\"58.7422\" id=\"E4\" rx=\"10\" ry=\"10\" style=\"stroke: #A80036; stroke-width: 1.5;\" width=\"92\" x=\"653\" y=\"198\"/><text fill=\"#000000\" font-family=\"sans-serif\" font-size=\"12\" font-style=\"italic\" lengthAdjust=\"spacingAndGlyphs\" textLength=\"40\" x=\"679\" y=\"214.1387\">«part»</text><text fill=\"#000000\" font-family=\"sans-serif\" font-size=\"12\" lengthAdjust=\"spacingAndGlyphs\" textLength=\"67\" x=\"665.5\" y=\"228.1074\">trans: Part</text><line style=\"stroke: #A80036; stroke-width: 1.5;\" x1=\"654\" x2=\"744\" y1=\"235.9375\" y2=\"235.9375\"/><text fill=\"#000000\" font-family=\"sans-serif\" font-size=\"11\" lengthAdjust=\"spacingAndGlyphs\" textLength=\"80\" x=\"659\" y=\"250.1479\">m: MassValue</text><!--MD5=[96f4274e9e20536e775497830990834d]\n",
       "class E10--><rect fill=\"#FEFECE\" filter=\"url(#fqdf9zzhf7yeu)\" height=\"45.9375\" id=\"E10\" rx=\"10\" ry=\"10\" style=\"stroke: #A80036; stroke-width: 1.5;\" width=\"91\" x=\"530.5\" y=\"66.5\"/><text fill=\"#000000\" font-family=\"sans-serif\" font-size=\"12\" font-style=\"italic\" lengthAdjust=\"spacingAndGlyphs\" textLength=\"82\" x=\"535\" y=\"82.6387\">«calculation»</text><text fill=\"#000000\" font-family=\"sans-serif\" font-size=\"12\" lengthAdjust=\"spacingAndGlyphs\" textLength=\"85\" x=\"533.5\" y=\"96.6074\">ms: MassSum</text><line style=\"stroke: #A80036; stroke-width: 1.5;\" x1=\"531.5\" x2=\"620.5\" y1=\"104.4375\" y2=\"104.4375\"/><!--MD5=[bee11217b2f71d958a27249dc326068c]\n",
       "class E14--><rect fill=\"#FEFECE\" filter=\"url(#fqdf9zzhf7yeu)\" height=\"97.1563\" id=\"E14\" rx=\"10\" ry=\"10\" style=\"stroke: #A80036; stroke-width: 1.5;\" width=\"324\" x=\"32\" y=\"41\"/><text fill=\"#000000\" font-family=\"sans-serif\" font-size=\"12\" font-style=\"italic\" lengthAdjust=\"spacingAndGlyphs\" textLength=\"82\" x=\"153\" y=\"57.1387\">«calculation»</text><text fill=\"#000000\" font-family=\"sans-serif\" font-size=\"12\" lengthAdjust=\"spacingAndGlyphs\" textLength=\"93\" x=\"147.5\" y=\"71.1074\">ms1: MassSum</text><line style=\"stroke: #A80036; stroke-width: 1.5;\" x1=\"33\" x2=\"355\" y1=\"78.9375\" y2=\"78.9375\"/><line style=\"stroke: #000000; stroke-width: 1.0;\" x1=\"38\" x2=\"38\" y1=\"84.9375\" y2=\"93.9375\"/><polygon fill=\"#FFFF44\" points=\"41,85.9375,48,89.9375,41,93.9375\" style=\"stroke: #000000; stroke-width: 1.0;\"/><text fill=\"#000000\" font-family=\"sans-serif\" font-size=\"11\" lengthAdjust=\"spacingAndGlyphs\" textLength=\"298\" x=\"52\" y=\"93.1479\">partMasses: MassValue= {vehicle::eng::m, vehicle::</text><text fill=\"#000000\" font-family=\"sans-serif\" font-size=\"11\" lengthAdjust=\"spacingAndGlyphs\" textLength=\"60\" x=\"52\" y=\"105.9526\">trans::m};</text><text fill=\"#000000\" font-family=\"sans-serif\" font-size=\"11\" lengthAdjust=\"spacingAndGlyphs\" text-decoration=\"line-through\" textLength=\"131\" x=\"120\" y=\"105.9526\">MassSum::partMasses</text><line style=\"stroke: #000000; stroke-width: 1.0;\" x1=\"38\" x2=\"38\" y1=\"110.5469\" y2=\"119.5469\"/><polygon fill=\"#FFFF44\" points=\"41,111.5469,48,115.5469,41,119.5469\" style=\"stroke: #000000; stroke-width: 1.0;\"/><text fill=\"#000000\" font-family=\"sans-serif\" font-size=\"11\" lengthAdjust=\"spacingAndGlyphs\" textLength=\"199\" x=\"52\" y=\"118.7573\">totalMass: MassValue= vehicle::m;</text><text fill=\"#000000\" font-family=\"sans-serif\" font-size=\"11\" lengthAdjust=\"spacingAndGlyphs\" text-decoration=\"line-through\" textLength=\"64\" x=\"259\" y=\"118.7573\">MassSum::</text><text fill=\"#000000\" font-family=\"sans-serif\" font-size=\"11\" lengthAdjust=\"spacingAndGlyphs\" text-decoration=\"line-through\" textLength=\"55\" x=\"52\" y=\"131.562\">totalMass</text><text fill=\"#000000\" font-family=\"sans-serif\" font-size=\"14\" lengthAdjust=\"spacingAndGlyphs\" textLength=\"80\" x=\"357\" y=\"68.1982\">partMasses</text><rect fill=\"#A80036\" height=\"12\" style=\"stroke: #FEFECE; stroke-width: 1.5;\" width=\"12\" x=\"391\" y=\"83.5\"/><text fill=\"#000000\" font-family=\"sans-serif\" font-size=\"14\" lengthAdjust=\"spacingAndGlyphs\" textLength=\"66\" x=\"379\" y=\"402.7151\">totalMass</text><rect fill=\"#A80036\" height=\"12\" style=\"stroke: #FEFECE; stroke-width: 1.5;\" width=\"12\" x=\"406\" y=\"377.72\"/><text fill=\"#000000\" font-family=\"sans-serif\" font-size=\"14\" lengthAdjust=\"spacingAndGlyphs\" textLength=\"75\" x=\"451.5\" y=\"68.1982\">$collection</text><rect fill=\"#A80036\" height=\"12\" style=\"stroke: #FEFECE; stroke-width: 1.5;\" width=\"12\" x=\"483\" y=\"83.5\"/><text fill=\"#000000\" font-family=\"sans-serif\" font-size=\"14\" lengthAdjust=\"spacingAndGlyphs\" textLength=\"48\" x=\"435\" y=\"402.7151\">$result</text><rect fill=\"#A80036\" height=\"12\" style=\"stroke: #FEFECE; stroke-width: 1.5;\" width=\"12\" x=\"453\" y=\"377.72\"/><text fill=\"#000000\" font-family=\"sans-serif\" font-size=\"14\" lengthAdjust=\"spacingAndGlyphs\" textLength=\"80\" x=\"790\" y=\"68.1982\">partMasses</text><rect fill=\"#A80036\" height=\"12\" style=\"stroke: #FEFECE; stroke-width: 1.5;\" width=\"12\" x=\"824\" y=\"83.5\"/><text fill=\"#000000\" font-family=\"sans-serif\" font-size=\"14\" lengthAdjust=\"spacingAndGlyphs\" textLength=\"66\" x=\"797\" y=\"402.7151\">totalMass</text><rect fill=\"#A80036\" height=\"12\" style=\"stroke: #FEFECE; stroke-width: 1.5;\" width=\"12\" x=\"824\" y=\"377.72\"/><!--MD5=[209b3feb70ccb6233bfe1053d122c12c]\n",
       "reverse link E2 to E3--><path d=\"M666.26,128.64 C645.22,150.49 619.23,177.47 599.88,197.56 \" fill=\"none\" id=\"E2&lt;-E3\" style=\"stroke: #A80036; stroke-width: 1.0;\"/><polygon fill=\"#A80036\" points=\"675.54,119.01,668.4977,120.5613,667.2211,127.6585,674.2634,126.1072,675.54,119.01\" style=\"stroke: #A80036; stroke-width: 1.0;\"/><!--MD5=[9618e71518536f8baf3342ff6fdab317]\n",
       "reverse link E2 to E4--><path d=\"M701.77,132.23 C701.15,153.39 700.41,178.55 699.85,197.56 \" fill=\"none\" id=\"E2&lt;-E4\" style=\"stroke: #A80036; stroke-width: 1.0;\"/><polygon fill=\"#A80036\" points=\"702.16,119.01,697.9838,124.8887,701.8041,131.0047,705.9803,125.126,702.16,119.01\" style=\"stroke: #A80036; stroke-width: 1.0;\"/><!--MD5=[1c0b9414cc86e0744215edee6abd8926]\n",
       "link E7 to E9--><path d=\"M418.24,381.65 C429.81,378.39 441.38,378.41 452.95,381.7 \" fill=\"none\" id=\"E7-E9\" style=\"stroke: #FF0000; stroke-width: 5.0;\"/><!--MD5=[ec5e0a54482b142abcecfe541d624bff]\n",
       "link E10 to E5--><path d=\"M554.01,112.65 C546.4275,120.29 537.41,129.375 527.8245,139.0319 C523.0318,143.8603 518.0971,148.8317 513.1287,153.837 C511.8866,155.0883 510.6425,156.3417 509.3979,157.5955 C508.7756,158.2224 508.1532,158.8495 507.5309,159.4764 C507.3753,159.6331 507.2197,159.7898 507.0642,159.9465 \" fill=\"none\" id=\"E10-&gt;E5\" style=\"stroke: #A80036; stroke-width: 1.0;\"/><polygon fill=\"#FFFFFF\" points=\"507.0642,159.9465,515.4814,141.5305,525.4175,151.3933,507.0642,159.9465\" style=\"stroke: #A80036; stroke-width: 1.0;\"/><ellipse cx=\"520.9165\" cy=\"138.8941\" fill=\"#A80036\" rx=\"2\" ry=\"2\" style=\"stroke: #A80036; stroke-width: 1.0;\"/><ellipse cx=\"528.0136\" cy=\"145.939\" fill=\"#A80036\" rx=\"2\" ry=\"2\" style=\"stroke: #A80036; stroke-width: 1.0;\"/><!--MD5=[111e5536516ee1ad7d4266f589654f03]\n",
       "link E14 to E5--><path d=\"M280.39,138.07 C306.96,152.7 336.0575,168.72 362.0988,183.0575 C365.3539,184.8497 368.5613,186.6156 371.7101,188.3492 C373.2844,189.216 374.8441,190.0747 376.3878,190.9246 C377.1596,191.3496 377.9275,191.7723 378.6911,192.1928 \" fill=\"none\" id=\"E14-&gt;E5\" style=\"stroke: #A80036; stroke-width: 1.0;\"/><polygon fill=\"#FFFFFF\" points=\"378.6911,192.1928,358.6709,189.161,365.4232,176.897,378.6911,192.1928\" style=\"stroke: #A80036; stroke-width: 1.0;\"/><ellipse cx=\"354.6423\" cy=\"184.6599\" fill=\"#A80036\" rx=\"2\" ry=\"2\" style=\"stroke: #A80036; stroke-width: 1.0;\"/><ellipse cx=\"359.4654\" cy=\"175.8998\" fill=\"#A80036\" rx=\"2\" ry=\"2\" style=\"stroke: #A80036; stroke-width: 1.0;\"/><!--MD5=[bd1a3dd91d32cbae6a3857dfcd562a44]\n",
       "@startuml\r\n",
       "skinparam wrapWidth 300\r\n",
       "hide circle\r\n",
       "\r\n",
       "package \"CalculationExample\" as E1   {\r\n",
       "comp usage \"vehicle: Part\" as E2  <<(T,blue)part>> {\r\n",
       "m: MassValue\r\n",
       "}\r\n",
       "comp usage \"eng: Part\" as E3  <<(T,blue)part>> {\r\n",
       "m: MassValue\r\n",
       "}\r\n",
       "comp usage \"trans: Part\" as E4  <<(T,blue)part>> {\r\n",
       "m: MassValue\r\n",
       "}\r\n",
       "rec def \"MassSum\" as E5 {\r\n",
       "portin \"partMasses\" as E6  \r\n",
       "portout \"totalMass\" as E7  \r\n",
       "portin \"$collection\" as E8  \r\n",
       "portout \"$result\" as E9  \r\n",
       "}\r\n",
       "\r\n",
       "comp usage \"ms: MassSum\" as E10  <<(T,blue)calculation>> {\r\n",
       "}\r\n",
       "rec def \"MassSum1\" as E11 {\r\n",
       "portin \"partMasses\" as E12  \r\n",
       "portout \"totalMass\" as E13  \r\n",
       "}\r\n",
       "\r\n",
       "comp usage \"ms1: MassSum\" as E14  <<(T,blue)calculation>> {\r\n",
       ">partMasses: MassValue= {vehicle::eng::m, vehicle::trans::m};  <s>MassSum::partMasses</s>\r\n",
       ">totalMass: MassValue= vehicle::m;  <s>MassSum::totalMass</s>\r\n",
       "}\r\n",
       "E2 *- - E3\r\n",
       "E2 *- - E4\r\n",
       "E7 -[thickness=5,#red]- E9\r\n",
       "E10 - -:|> E5\r\n",
       "E14 - -:|> E5\r\n",
       "}\r\n",
       "@enduml\r\n",
       "\n",
       "PlantUML version 1.2020.13(Sat Jun 13 12:26:38 UTC 2020)\n",
       "(EPL source distribution)\n",
       "Java Runtime: OpenJDK Runtime Environment\n",
       "JVM: OpenJDK 64-Bit Server VM\n",
       "Default Encoding: UTF-8\n",
       "Language: en\n",
       "Country: null\n",
       "--></g></svg>"
      ]
     },
     "execution_count": 23,
     "metadata": {},
     "output_type": "execute_result"
    }
   ],
   "source": [
    "%viz --style=\"STDCOLOR\" --view=\"Default\" \"CalculationExample\""
   ]
  },
  {
   "cell_type": "code",
   "execution_count": 24,
   "id": "choice-organ",
   "metadata": {
    "execution": {
     "iopub.execute_input": "2021-03-26T09:44:28.031560Z",
     "iopub.status.busy": "2021-03-26T09:44:28.031179Z",
     "iopub.status.idle": "2021-03-26T09:44:28.115734Z",
     "shell.execute_reply": "2021-03-26T09:44:28.115389Z"
    }
   },
   "outputs": [
    {
     "data": {
      "image/svg+xml": [
       "<?xml version=\"1.0\" encoding=\"UTF-8\" standalone=\"no\"?><svg xmlns=\"http://www.w3.org/2000/svg\" xmlns:xlink=\"http://www.w3.org/1999/xlink\" contentScriptType=\"application/ecmascript\" contentStyleType=\"text/css\" height=\"285px\" preserveAspectRatio=\"none\" style=\"width:936px;height:285px;\" version=\"1.1\" viewBox=\"0 0 936 285\" width=\"936px\" zoomAndPan=\"magnify\"><defs><filter height=\"300%\" id=\"f1rlod9mi8t4kb\" width=\"300%\" x=\"-1\" y=\"-1\"><feGaussianBlur result=\"blurOut\" stdDeviation=\"2.0\"/><feColorMatrix in=\"blurOut\" result=\"blurOut2\" type=\"matrix\" values=\"0 0 0 0 0 0 0 0 0 0 0 0 0 0 0 0 0 0 .4 0\"/><feOffset dx=\"4.0\" dy=\"4.0\" in=\"blurOut2\" result=\"blurOut3\"/><feBlend in=\"SourceGraphic\" in2=\"blurOut3\" mode=\"normal\"/></filter></defs><g><!--MD5=[fbc87193dbaf4d95561dea2c320d4a47]\n",
       "cluster E1--><polygon fill=\"#FFFFFF\" filter=\"url(#f1rlod9mi8t4kb)\" points=\"16,6,173,6,180,28.2969,914,28.2969,914,273,16,273,16,6\" style=\"stroke: #000000; stroke-width: 1.5;\"/><line style=\"stroke: #000000; stroke-width: 1.5;\" x1=\"16\" x2=\"180\" y1=\"28.2969\" y2=\"28.2969\"/><text fill=\"#000000\" font-family=\"sans-serif\" font-size=\"14\" font-weight=\"bold\" lengthAdjust=\"spacingAndGlyphs\" textLength=\"151\" x=\"20\" y=\"20.9951\">CalculationExample</text><!--MD5=[b4997ac47864f28c2f74865a473b2911]\n",
       "class E2--><rect fill=\"#FEFECE\" filter=\"url(#f1rlod9mi8t4kb)\" height=\"58.7422\" id=\"E2\" rx=\"10\" ry=\"10\" style=\"stroke: #A80036; stroke-width: 1.5;\" width=\"92\" x=\"806\" y=\"60\"/><text fill=\"#000000\" font-family=\"sans-serif\" font-size=\"12\" font-style=\"italic\" lengthAdjust=\"spacingAndGlyphs\" textLength=\"40\" x=\"832\" y=\"76.1387\">«part»</text><text fill=\"#000000\" font-family=\"sans-serif\" font-size=\"12\" lengthAdjust=\"spacingAndGlyphs\" textLength=\"77\" x=\"813.5\" y=\"90.1074\">vehicle: Part</text><line style=\"stroke: #A80036; stroke-width: 1.5;\" x1=\"807\" x2=\"897\" y1=\"97.9375\" y2=\"97.9375\"/><text fill=\"#000000\" font-family=\"sans-serif\" font-size=\"11\" lengthAdjust=\"spacingAndGlyphs\" textLength=\"80\" x=\"812\" y=\"112.1479\">m: MassValue</text><!--MD5=[09b614a08d8cba4a07c9adeb5e0fee81]\n",
       "class E3--><rect fill=\"#FEFECE\" filter=\"url(#f1rlod9mi8t4kb)\" height=\"58.7422\" id=\"E3\" rx=\"10\" ry=\"10\" style=\"stroke: #A80036; stroke-width: 1.5;\" width=\"92\" x=\"679\" y=\"198\"/><text fill=\"#000000\" font-family=\"sans-serif\" font-size=\"12\" font-style=\"italic\" lengthAdjust=\"spacingAndGlyphs\" textLength=\"40\" x=\"705\" y=\"214.1387\">«part»</text><text fill=\"#000000\" font-family=\"sans-serif\" font-size=\"12\" lengthAdjust=\"spacingAndGlyphs\" textLength=\"58\" x=\"696\" y=\"228.1074\">eng: Part</text><line style=\"stroke: #A80036; stroke-width: 1.5;\" x1=\"680\" x2=\"770\" y1=\"235.9375\" y2=\"235.9375\"/><text fill=\"#000000\" font-family=\"sans-serif\" font-size=\"11\" lengthAdjust=\"spacingAndGlyphs\" textLength=\"80\" x=\"685\" y=\"250.1479\">m: MassValue</text><!--MD5=[ebbe1d658d1005bcc118a6aa81145e00]\n",
       "class E4--><rect fill=\"#FEFECE\" filter=\"url(#f1rlod9mi8t4kb)\" height=\"58.7422\" id=\"E4\" rx=\"10\" ry=\"10\" style=\"stroke: #A80036; stroke-width: 1.5;\" width=\"92\" x=\"806\" y=\"198\"/><text fill=\"#000000\" font-family=\"sans-serif\" font-size=\"12\" font-style=\"italic\" lengthAdjust=\"spacingAndGlyphs\" textLength=\"40\" x=\"832\" y=\"214.1387\">«part»</text><text fill=\"#000000\" font-family=\"sans-serif\" font-size=\"12\" lengthAdjust=\"spacingAndGlyphs\" textLength=\"67\" x=\"818.5\" y=\"228.1074\">trans: Part</text><line style=\"stroke: #A80036; stroke-width: 1.5;\" x1=\"807\" x2=\"897\" y1=\"235.9375\" y2=\"235.9375\"/><text fill=\"#000000\" font-family=\"sans-serif\" font-size=\"11\" lengthAdjust=\"spacingAndGlyphs\" textLength=\"80\" x=\"812\" y=\"250.1479\">m: MassValue</text><!--MD5=[270fce915f116d4de14055a7c1d9a0f3]\n",
       "class E5--><rect fill=\"#FEFECE\" filter=\"url(#f1rlod9mi8t4kb)\" height=\"45.9375\" id=\"E5\" style=\"stroke: #A80036; stroke-width: 1.5;\" width=\"108\" x=\"338\" y=\"204.5\"/><text fill=\"#000000\" font-family=\"sans-serif\" font-size=\"12\" font-style=\"italic\" lengthAdjust=\"spacingAndGlyphs\" textLength=\"106\" x=\"339\" y=\"220.6387\">«calculation def»</text><text fill=\"#000000\" font-family=\"sans-serif\" font-size=\"12\" lengthAdjust=\"spacingAndGlyphs\" textLength=\"59\" x=\"362.5\" y=\"234.6074\">MassSum</text><line style=\"stroke: #A80036; stroke-width: 1.5;\" x1=\"339\" x2=\"445\" y1=\"242.4375\" y2=\"242.4375\"/><!--MD5=[60a26617385b1d2d0262a64233df1f8d]\n",
       "class E6--><rect fill=\"#FEFECE\" filter=\"url(#f1rlod9mi8t4kb)\" height=\"45.9375\" id=\"E6\" rx=\"10\" ry=\"10\" style=\"stroke: #A80036; stroke-width: 1.5;\" width=\"91\" x=\"679.5\" y=\"66.5\"/><text fill=\"#000000\" font-family=\"sans-serif\" font-size=\"12\" font-style=\"italic\" lengthAdjust=\"spacingAndGlyphs\" textLength=\"82\" x=\"684\" y=\"82.6387\">«calculation»</text><text fill=\"#000000\" font-family=\"sans-serif\" font-size=\"12\" lengthAdjust=\"spacingAndGlyphs\" textLength=\"85\" x=\"682.5\" y=\"96.6074\">ms: MassSum</text><line style=\"stroke: #A80036; stroke-width: 1.5;\" x1=\"680.5\" x2=\"769.5\" y1=\"104.4375\" y2=\"104.4375\"/><!--MD5=[2156ba9850f5573cc1fc38a6a4b2f02b]\n",
       "class E7--><rect fill=\"#FEFECE\" filter=\"url(#f1rlod9mi8t4kb)\" height=\"71.5469\" id=\"E7\" style=\"stroke: #A80036; stroke-width: 1.5;\" width=\"253\" x=\"391.5\" y=\"53.5\"/><text fill=\"#000000\" font-family=\"sans-serif\" font-size=\"12\" font-style=\"italic\" lengthAdjust=\"spacingAndGlyphs\" textLength=\"106\" x=\"465\" y=\"69.6387\">«calculation def»</text><text fill=\"#000000\" font-family=\"sans-serif\" font-size=\"12\" lengthAdjust=\"spacingAndGlyphs\" textLength=\"67\" x=\"484.5\" y=\"83.6074\">MassSum1</text><line style=\"stroke: #A80036; stroke-width: 1.5;\" x1=\"392.5\" x2=\"643.5\" y1=\"91.4375\" y2=\"91.4375\"/><text fill=\"#000000\" font-family=\"sans-serif\" font-size=\"11\" lengthAdjust=\"spacingAndGlyphs\" textLength=\"136\" x=\"397.5\" y=\"105.6479\">partMasses: MassValue</text><text fill=\"#000000\" font-family=\"sans-serif\" font-size=\"11\" lengthAdjust=\"spacingAndGlyphs\" textLength=\"241\" x=\"397.5\" y=\"118.4526\">totalMass: MassValue= sum(partMasses);</text><!--MD5=[b9389687b975829384b498ac4b7476b2]\n",
       "class E8--><rect fill=\"#FEFECE\" filter=\"url(#f1rlod9mi8t4kb)\" height=\"97.1563\" id=\"E8\" rx=\"10\" ry=\"10\" style=\"stroke: #A80036; stroke-width: 1.5;\" width=\"324\" x=\"32\" y=\"41\"/><text fill=\"#000000\" font-family=\"sans-serif\" font-size=\"12\" font-style=\"italic\" lengthAdjust=\"spacingAndGlyphs\" textLength=\"82\" x=\"153\" y=\"57.1387\">«calculation»</text><text fill=\"#000000\" font-family=\"sans-serif\" font-size=\"12\" lengthAdjust=\"spacingAndGlyphs\" textLength=\"93\" x=\"147.5\" y=\"71.1074\">ms1: MassSum</text><line style=\"stroke: #A80036; stroke-width: 1.5;\" x1=\"33\" x2=\"355\" y1=\"78.9375\" y2=\"78.9375\"/><line style=\"stroke: #000000; stroke-width: 1.0;\" x1=\"38\" x2=\"38\" y1=\"84.9375\" y2=\"93.9375\"/><polygon fill=\"#FFFF44\" points=\"41,85.9375,48,89.9375,41,93.9375\" style=\"stroke: #000000; stroke-width: 1.0;\"/><text fill=\"#000000\" font-family=\"sans-serif\" font-size=\"11\" lengthAdjust=\"spacingAndGlyphs\" textLength=\"298\" x=\"52\" y=\"93.1479\">partMasses: MassValue= {vehicle::eng::m, vehicle::</text><text fill=\"#000000\" font-family=\"sans-serif\" font-size=\"11\" lengthAdjust=\"spacingAndGlyphs\" textLength=\"60\" x=\"52\" y=\"105.9526\">trans::m};</text><text fill=\"#000000\" font-family=\"sans-serif\" font-size=\"11\" lengthAdjust=\"spacingAndGlyphs\" text-decoration=\"line-through\" textLength=\"131\" x=\"120\" y=\"105.9526\">MassSum::partMasses</text><line style=\"stroke: #000000; stroke-width: 1.0;\" x1=\"38\" x2=\"38\" y1=\"110.5469\" y2=\"119.5469\"/><polygon fill=\"#FFFF44\" points=\"41,111.5469,48,115.5469,41,119.5469\" style=\"stroke: #000000; stroke-width: 1.0;\"/><text fill=\"#000000\" font-family=\"sans-serif\" font-size=\"11\" lengthAdjust=\"spacingAndGlyphs\" textLength=\"199\" x=\"52\" y=\"118.7573\">totalMass: MassValue= vehicle::m;</text><text fill=\"#000000\" font-family=\"sans-serif\" font-size=\"11\" lengthAdjust=\"spacingAndGlyphs\" text-decoration=\"line-through\" textLength=\"64\" x=\"259\" y=\"118.7573\">MassSum::</text><text fill=\"#000000\" font-family=\"sans-serif\" font-size=\"11\" lengthAdjust=\"spacingAndGlyphs\" text-decoration=\"line-through\" textLength=\"55\" x=\"52\" y=\"131.562\">totalMass</text><!--MD5=[209b3feb70ccb6233bfe1053d122c12c]\n",
       "reverse link E2 to E3--><path d=\"M816.38,128.64 C795.98,150.49 770.79,177.47 752.03,197.56 \" fill=\"none\" id=\"E2&lt;-E3\" style=\"stroke: #A80036; stroke-width: 1.0;\"/><polygon fill=\"#A80036\" points=\"825.38,119.01,818.3614,120.6652,817.1898,127.7805,824.2084,126.1253,825.38,119.01\" style=\"stroke: #A80036; stroke-width: 1.0;\"/><!--MD5=[9618e71518536f8baf3342ff6fdab317]\n",
       "reverse link E2 to E4--><path d=\"M852,132.23 C852,153.39 852,178.55 852,197.56 \" fill=\"none\" id=\"E2&lt;-E4\" style=\"stroke: #A80036; stroke-width: 1.0;\"/><polygon fill=\"#A80036\" points=\"852,119.01,848,125.01,852,131.01,856,125.01,852,119.01\" style=\"stroke: #A80036; stroke-width: 1.0;\"/><!--MD5=[25b190c987b1e74e5126d372c5a73af1]\n",
       "link E6 to E5--><path d=\"M699.63,112.66 C688.62,121.45 675.23,131.09 662,138 C599.01,170.9 521.42,194.8 465.6,209.41 \" fill=\"none\" id=\"E6-&gt;E5\" style=\"stroke: #A80036; stroke-width: 1.0;\"/><polygon fill=\"#FFFFFF\" points=\"446.09,214.37,462.7774,202.9013,466.2294,216.4691,446.09,214.37\" style=\"stroke: #A80036; stroke-width: 1.0;\"/><ellipse cx=\"468.7945\" cy=\"203.4341\" fill=\"#A80036\" rx=\"2\" ry=\"2\" style=\"stroke: #A80036; stroke-width: 1.0;\"/><ellipse cx=\"471.2602\" cy=\"213.1254\" fill=\"#A80036\" rx=\"2\" ry=\"2\" style=\"stroke: #A80036; stroke-width: 1.0;\"/><!--MD5=[1ccb2481ffa92f8d51a74ee30c51832a]\n",
       "link E8 to E5--><path d=\"M263.25,138.07 C289.72,156.25 319.32,176.58 343.46,193.16 \" fill=\"none\" id=\"E8-&gt;E5\" style=\"stroke: #A80036; stroke-width: 1.0;\"/><polygon fill=\"#FFFFFF\" points=\"359.95,204.49,340.3264,199.4986,348.2553,187.9602,359.95,204.49\" style=\"stroke: #A80036; stroke-width: 1.0;\"/><ellipse cx=\"336.7613\" cy=\"194.6221\" fill=\"#A80036\" rx=\"2\" ry=\"2\" style=\"stroke: #A80036; stroke-width: 1.0;\"/><ellipse cx=\"342.4248\" cy=\"186.3804\" fill=\"#A80036\" rx=\"2\" ry=\"2\" style=\"stroke: #A80036; stroke-width: 1.0;\"/><!--MD5=[e61b6673c55b718df9ecda31400062ae]\n",
       "@startuml\r\n",
       "skinparam wrapWidth 300\r\n",
       "hide circle\r\n",
       "\r\n",
       "package \"CalculationExample\" as E1   {\r\n",
       "comp usage \"vehicle: Part\" as E2  <<(T,blue)part>> {\r\n",
       "m: MassValue\r\n",
       "}\r\n",
       "comp usage \"eng: Part\" as E3  <<(T,blue)part>> {\r\n",
       "m: MassValue\r\n",
       "}\r\n",
       "comp usage \"trans: Part\" as E4  <<(T,blue)part>> {\r\n",
       "m: MassValue\r\n",
       "}\r\n",
       "comp def \"MassSum\" as E5  <<(T,blue)calculation def>> {\r\n",
       "}\r\n",
       "comp usage \"ms: MassSum\" as E6  <<(T,blue)calculation>> {\r\n",
       "}\r\n",
       "comp def \"MassSum1\" as E7  <<(T,blue)calculation def>> {\r\n",
       "partMasses: MassValue\r\n",
       "totalMass: MassValue= sum(partMasses); \r\n",
       "}\r\n",
       "comp usage \"ms1: MassSum\" as E8  <<(T,blue)calculation>> {\r\n",
       ">partMasses: MassValue= {vehicle::eng::m, vehicle::trans::m};  <s>MassSum::partMasses</s>\r\n",
       ">totalMass: MassValue= vehicle::m;  <s>MassSum::totalMass</s>\r\n",
       "}\r\n",
       "E2 *- - E3\r\n",
       "E2 *- - E4\r\n",
       "E6 - -:|> E5\r\n",
       "E8 - -:|> E5\r\n",
       "}\r\n",
       "@enduml\r\n",
       "\n",
       "PlantUML version 1.2020.13(Sat Jun 13 12:26:38 UTC 2020)\n",
       "(EPL source distribution)\n",
       "Java Runtime: OpenJDK Runtime Environment\n",
       "JVM: OpenJDK 64-Bit Server VM\n",
       "Default Encoding: UTF-8\n",
       "Language: en\n",
       "Country: null\n",
       "--></g></svg>"
      ]
     },
     "execution_count": 24,
     "metadata": {},
     "output_type": "execute_result"
    }
   ],
   "source": [
    "%viz --style=\"STDCOLOR\" --view=\"Tree\" \"CalculationExample\""
   ]
  },
  {
   "cell_type": "code",
   "execution_count": 25,
   "id": "reflected-ladder",
   "metadata": {
    "execution": {
     "iopub.execute_input": "2021-03-26T09:44:28.165813Z",
     "iopub.status.busy": "2021-03-26T09:44:28.165027Z",
     "iopub.status.idle": "2021-03-26T09:44:28.168741Z",
     "shell.execute_reply": "2021-03-26T09:44:28.169261Z"
    }
   },
   "outputs": [
    {
     "data": {
      "text/plain": [
       "java.lang.IllegalArgumentException: Invalid View: State View candidates are: Default Tree StateMachine Interconnection Activity Sequence MIXED \n",
       "\tat org.omg.sysml.plantuml.SysML2PlantUMLSvc.setView(SysML2PlantUMLSvc.java:63)\n",
       "\tat org.omg.sysml.interactive.SysMLInteractive.viz(SysMLInteractive.java:286)\n",
       "\tat org.omg.sysml.jupyter.kernel.magic.Viz.viz(Viz.java:47)\n",
       "\tat jdk.internal.reflect.GeneratedMethodAccessor14.invoke(Unknown Source)\n",
       "\tat java.base/jdk.internal.reflect.DelegatingMethodAccessorImpl.invoke(DelegatingMethodAccessorImpl.java:43)\n",
       "\tat java.base/java.lang.reflect.Method.invoke(Method.java:568)\n",
       "\tat io.github.spencerpark.jupyter.kernel.magic.registry.Magics.invoke(Magics.java:89)\n",
       "\tat io.github.spencerpark.jupyter.kernel.magic.registry.Magics.access$000(Magics.java:8)\n",
       "\tat io.github.spencerpark.jupyter.kernel.magic.registry.Magics$LineReflectionMagicFunction.execute(Magics.java:149)\n",
       "\tat io.github.spencerpark.jupyter.kernel.magic.registry.Magics.applyLineMagic(Magics.java:26)\n",
       "\tat org.omg.sysml.jupyter.kernel.SysMLKernel.eval(SysMLKernel.java:76)\n",
       "\tat io.github.spencerpark.jupyter.kernel.BaseKernel.handleExecuteRequest(BaseKernel.java:334)\n",
       "\tat io.github.spencerpark.jupyter.channels.ShellChannel.lambda$bind$0(ShellChannel.java:64)\n",
       "\tat io.github.spencerpark.jupyter.channels.Loop.lambda$new$0(Loop.java:21)\n",
       "\tat io.github.spencerpark.jupyter.channels.Loop.run(Loop.java:78)\n"
      ]
     },
     "execution_count": 25,
     "metadata": {},
     "output_type": "execute_result"
    }
   ],
   "source": [
    "%viz --style=\"STDCOLOR\" --view=\"State\" \"CalculationExample\""
   ]
  },
  {
   "cell_type": "code",
   "execution_count": 26,
   "id": "coordinate-fault",
   "metadata": {
    "execution": {
     "iopub.execute_input": "2021-03-26T09:44:28.220783Z",
     "iopub.status.busy": "2021-03-26T09:44:28.220144Z",
     "iopub.status.idle": "2021-03-26T09:44:28.247182Z",
     "shell.execute_reply": "2021-03-26T09:44:28.245684Z"
    }
   },
   "outputs": [
    {
     "data": {
      "image/svg+xml": [
       "<?xml version=\"1.0\" encoding=\"UTF-8\" standalone=\"no\"?><svg xmlns=\"http://www.w3.org/2000/svg\" xmlns:xlink=\"http://www.w3.org/1999/xlink\" contentScriptType=\"application/ecmascript\" contentStyleType=\"text/css\" height=\"253px\" preserveAspectRatio=\"none\" style=\"width:843px;height:253px;\" version=\"1.1\" viewBox=\"0 0 843 253\" width=\"843px\" zoomAndPan=\"magnify\"><defs><filter height=\"300%\" id=\"f1t1tn8me768d1\" width=\"300%\" x=\"-1\" y=\"-1\"><feGaussianBlur result=\"blurOut\" stdDeviation=\"2.0\"/><feColorMatrix in=\"blurOut\" result=\"blurOut2\" type=\"matrix\" values=\"0 0 0 0 0 0 0 0 0 0 0 0 0 0 0 0 0 0 .4 0\"/><feOffset dx=\"4.0\" dy=\"4.0\" in=\"blurOut2\" result=\"blurOut3\"/><feBlend in=\"SourceGraphic\" in2=\"blurOut3\" mode=\"normal\"/></filter></defs><g><!--MD5=[fbc87193dbaf4d95561dea2c320d4a47]\n",
       "cluster E1--><polygon fill=\"#FFFFFF\" filter=\"url(#f1t1tn8me768d1)\" points=\"16,6,173,6,180,28.2969,821,28.2969,821,241,16,241,16,6\" style=\"stroke: #000000; stroke-width: 1.5;\"/><line style=\"stroke: #000000; stroke-width: 1.5;\" x1=\"16\" x2=\"180\" y1=\"28.2969\" y2=\"28.2969\"/><text fill=\"#000000\" font-family=\"sans-serif\" font-size=\"14\" font-weight=\"bold\" lengthAdjust=\"spacingAndGlyphs\" textLength=\"151\" x=\"20\" y=\"20.9951\">CalculationExample</text><!--MD5=[e4f7fae6ed58524ba242bb0b0d3be6b7]\n",
       "cluster E2--><rect fill=\"#FEFECE\" filter=\"url(#f1t1tn8me768d1)\" height=\"168\" rx=\"12.5\" ry=\"12.5\" style=\"stroke: #000000; stroke-width: 1.5;\" width=\"495\" x=\"302\" y=\"49\"/><rect fill=\"#FFFFFF\" height=\"135.7031\" rx=\"12.5\" ry=\"12.5\" style=\"stroke: #FFFFFF; stroke-width: 1.0;\" width=\"489\" x=\"305\" y=\"78.2969\"/><line style=\"stroke: #000000; stroke-width: 1.5;\" x1=\"302\" x2=\"797\" y1=\"75.2969\" y2=\"75.2969\"/><text fill=\"#000000\" font-family=\"sans-serif\" font-size=\"14\" lengthAdjust=\"spacingAndGlyphs\" textLength=\"84\" x=\"507.5\" y=\"65.9951\">vehicle: Part</text><!--MD5=[f6df4d0ebaf0b5dfb2ced0ae5af7c670]\n",
       "cluster E4--><rect fill=\"#FEFECE\" filter=\"url(#f1t1tn8me768d1)\" height=\"101\" rx=\"12.5\" ry=\"12.5\" style=\"stroke: #000000; stroke-width: 1.5;\" width=\"148\" x=\"625\" y=\"92\"/><rect fill=\"#FFFFFF\" height=\"68.7031\" rx=\"12.5\" ry=\"12.5\" style=\"stroke: #FFFFFF; stroke-width: 1.0;\" width=\"142\" x=\"628\" y=\"121.2969\"/><line style=\"stroke: #000000; stroke-width: 1.5;\" x1=\"625\" x2=\"773\" y1=\"118.2969\" y2=\"118.2969\"/><text fill=\"#000000\" font-family=\"sans-serif\" font-size=\"14\" lengthAdjust=\"spacingAndGlyphs\" textLength=\"63\" x=\"667.5\" y=\"108.9951\">eng: Part</text><!--MD5=[14e3b0961a2654348d326746436168a1]\n",
       "cluster E6--><rect fill=\"#FEFECE\" filter=\"url(#f1t1tn8me768d1)\" height=\"101\" rx=\"12.5\" ry=\"12.5\" style=\"stroke: #000000; stroke-width: 1.5;\" width=\"148\" x=\"453\" y=\"92\"/><rect fill=\"#FFFFFF\" height=\"68.7031\" rx=\"12.5\" ry=\"12.5\" style=\"stroke: #FFFFFF; stroke-width: 1.0;\" width=\"142\" x=\"456\" y=\"121.2969\"/><line style=\"stroke: #000000; stroke-width: 1.5;\" x1=\"453\" x2=\"601\" y1=\"118.2969\" y2=\"118.2969\"/><text fill=\"#000000\" font-family=\"sans-serif\" font-size=\"14\" lengthAdjust=\"spacingAndGlyphs\" textLength=\"71\" x=\"491.5\" y=\"108.9951\">trans: Part</text><!--MD5=[b9389687b975829384b498ac4b7476b2]\n",
       "class E8--><rect fill=\"#FEFECE\" filter=\"url(#f1t1tn8me768d1)\" height=\"53.9375\" id=\"E8\" style=\"stroke: #A80036; stroke-width: 1.5;\" width=\"108\" x=\"175\" y=\"125\"/><text fill=\"#000000\" font-family=\"sans-serif\" font-size=\"12\" font-style=\"italic\" lengthAdjust=\"spacingAndGlyphs\" textLength=\"106\" x=\"176\" y=\"141.1387\">«calculation def»</text><text fill=\"#000000\" font-family=\"sans-serif\" font-size=\"12\" lengthAdjust=\"spacingAndGlyphs\" textLength=\"59\" x=\"199.5\" y=\"155.1074\">MassSum</text><line style=\"stroke: #A80036; stroke-width: 1.5;\" x1=\"176\" x2=\"282\" y1=\"162.9375\" y2=\"162.9375\"/><line style=\"stroke: #A80036; stroke-width: 1.5;\" x1=\"176\" x2=\"282\" y1=\"170.9375\" y2=\"170.9375\"/><!--MD5=[fd4143e9d270a159db93a4ea2a975926]\n",
       "class E9--><rect fill=\"#FEFECE\" filter=\"url(#f1t1tn8me768d1)\" height=\"53.9375\" id=\"E9\" style=\"stroke: #A80036; stroke-width: 1.5;\" width=\"108\" x=\"32\" y=\"125\"/><text fill=\"#000000\" font-family=\"sans-serif\" font-size=\"12\" font-style=\"italic\" lengthAdjust=\"spacingAndGlyphs\" textLength=\"106\" x=\"33\" y=\"141.1387\">«calculation def»</text><text fill=\"#000000\" font-family=\"sans-serif\" font-size=\"12\" lengthAdjust=\"spacingAndGlyphs\" textLength=\"67\" x=\"52.5\" y=\"155.1074\">MassSum1</text><line style=\"stroke: #A80036; stroke-width: 1.5;\" x1=\"33\" x2=\"139\" y1=\"162.9375\" y2=\"162.9375\"/><line style=\"stroke: #A80036; stroke-width: 1.5;\" x1=\"33\" x2=\"139\" y1=\"170.9375\" y2=\"170.9375\"/><g id=\"E1.E2.E3\"><rect fill=\"#FFFFFF\" filter=\"url(#f1t1tn8me768d1)\" height=\"50\" rx=\"12.5\" ry=\"12.5\" style=\"stroke: #A80036; stroke-width: 1.5;\" width=\"116\" x=\"318\" y=\"127\"/><line style=\"stroke: #A80036; stroke-width: 1.5;\" x1=\"318\" x2=\"434\" y1=\"153.2969\" y2=\"153.2969\"/><text fill=\"#000000\" font-family=\"sans-serif\" font-size=\"14\" lengthAdjust=\"spacingAndGlyphs\" textLength=\"96\" x=\"328\" y=\"144.9951\">m: MassValue</text></g><g id=\"E1.E2.E4.E5\"><rect fill=\"#FFFFFF\" filter=\"url(#f1t1tn8me768d1)\" height=\"50\" rx=\"12.5\" ry=\"12.5\" style=\"stroke: #A80036; stroke-width: 1.5;\" width=\"116\" x=\"641\" y=\"127\"/><line style=\"stroke: #A80036; stroke-width: 1.5;\" x1=\"641\" x2=\"757\" y1=\"153.2969\" y2=\"153.2969\"/><text fill=\"#000000\" font-family=\"sans-serif\" font-size=\"14\" lengthAdjust=\"spacingAndGlyphs\" textLength=\"96\" x=\"651\" y=\"144.9951\">m: MassValue</text></g><g id=\"E1.E2.E6.E7\"><rect fill=\"#FFFFFF\" filter=\"url(#f1t1tn8me768d1)\" height=\"50\" rx=\"12.5\" ry=\"12.5\" style=\"stroke: #A80036; stroke-width: 1.5;\" width=\"116\" x=\"469\" y=\"127\"/><line style=\"stroke: #A80036; stroke-width: 1.5;\" x1=\"469\" x2=\"585\" y1=\"153.2969\" y2=\"153.2969\"/><text fill=\"#000000\" font-family=\"sans-serif\" font-size=\"14\" lengthAdjust=\"spacingAndGlyphs\" textLength=\"96\" x=\"479\" y=\"144.9951\">m: MassValue</text></g><!--MD5=[cd6a346fc5d1aa5e9ee2a87874eb1c06]\n",
       "@startuml\r\n",
       "skinparam ranksep 8\r\n",
       "skinparam rectangle {\r\n",
       " backgroundColor<<block>> LightGreen\r\n",
       "}\r\n",
       "skinparam wrapWidth 300\r\n",
       "hide circle\r\n",
       "\r\n",
       "package \"CalculationExample\" as E1   {\r\n",
       "rec usage \"vehicle: Part\" as E2  {\r\n",
       "rec usage \"m: MassValue\" as E3  <<attribute>> {\r\n",
       "}\r\n",
       "rec usage \"eng: Part\" as E4  {\r\n",
       "rec usage \"m: MassValue\" as E5  <<attribute>> {\r\n",
       "}\r\n",
       "}\r\n",
       "rec usage \"trans: Part\" as E6  {\r\n",
       "rec usage \"m: MassValue\" as E7  <<attribute>> {\r\n",
       "}\r\n",
       "}\r\n",
       "}\r\n",
       "def \"MassSum\" as E8  <<calculation def>> \r\n",
       "def \"MassSum1\" as E9  <<calculation def>> \r\n",
       "}\r\n",
       "@enduml\r\n",
       "\n",
       "PlantUML version 1.2020.13(Sat Jun 13 12:26:38 UTC 2020)\n",
       "(EPL source distribution)\n",
       "Java Runtime: OpenJDK Runtime Environment\n",
       "JVM: OpenJDK 64-Bit Server VM\n",
       "Default Encoding: UTF-8\n",
       "Language: en\n",
       "Country: null\n",
       "--></g></svg>"
      ]
     },
     "execution_count": 26,
     "metadata": {},
     "output_type": "execute_result"
    }
   ],
   "source": [
    "%viz --style=\"STDCOLOR\" --view=\"Interconnection\" \"CalculationExample\""
   ]
  },
  {
   "cell_type": "code",
   "execution_count": 27,
   "id": "illegal-tennessee",
   "metadata": {
    "execution": {
     "iopub.execute_input": "2021-03-26T09:44:28.301173Z",
     "iopub.status.busy": "2021-03-26T09:44:28.300698Z",
     "iopub.status.idle": "2021-03-26T09:44:28.303984Z",
     "shell.execute_reply": "2021-03-26T09:44:28.303525Z"
    }
   },
   "outputs": [
    {
     "data": {
      "text/plain": [
       "java.lang.IllegalArgumentException: Invalid View: Action View candidates are: Default Tree StateMachine Interconnection Activity Sequence MIXED \n",
       "\tat org.omg.sysml.plantuml.SysML2PlantUMLSvc.setView(SysML2PlantUMLSvc.java:63)\n",
       "\tat org.omg.sysml.interactive.SysMLInteractive.viz(SysMLInteractive.java:286)\n",
       "\tat org.omg.sysml.jupyter.kernel.magic.Viz.viz(Viz.java:47)\n",
       "\tat jdk.internal.reflect.GeneratedMethodAccessor14.invoke(Unknown Source)\n",
       "\tat java.base/jdk.internal.reflect.DelegatingMethodAccessorImpl.invoke(DelegatingMethodAccessorImpl.java:43)\n",
       "\tat java.base/java.lang.reflect.Method.invoke(Method.java:568)\n",
       "\tat io.github.spencerpark.jupyter.kernel.magic.registry.Magics.invoke(Magics.java:89)\n",
       "\tat io.github.spencerpark.jupyter.kernel.magic.registry.Magics.access$000(Magics.java:8)\n",
       "\tat io.github.spencerpark.jupyter.kernel.magic.registry.Magics$LineReflectionMagicFunction.execute(Magics.java:149)\n",
       "\tat io.github.spencerpark.jupyter.kernel.magic.registry.Magics.applyLineMagic(Magics.java:26)\n",
       "\tat org.omg.sysml.jupyter.kernel.SysMLKernel.eval(SysMLKernel.java:76)\n",
       "\tat io.github.spencerpark.jupyter.kernel.BaseKernel.handleExecuteRequest(BaseKernel.java:334)\n",
       "\tat io.github.spencerpark.jupyter.channels.ShellChannel.lambda$bind$0(ShellChannel.java:64)\n",
       "\tat io.github.spencerpark.jupyter.channels.Loop.lambda$new$0(Loop.java:21)\n",
       "\tat io.github.spencerpark.jupyter.channels.Loop.run(Loop.java:78)\n"
      ]
     },
     "execution_count": 27,
     "metadata": {},
     "output_type": "execute_result"
    }
   ],
   "source": [
    "%viz --style=\"STDCOLOR\" --view=\"Action\" \"CalculationExample\""
   ]
  },
  {
   "cell_type": "code",
   "execution_count": 28,
   "id": "aggregate-valley",
   "metadata": {
    "execution": {
     "iopub.execute_input": "2021-03-26T09:44:28.357280Z",
     "iopub.status.busy": "2021-03-26T09:44:28.356512Z",
     "iopub.status.idle": "2021-03-26T09:44:28.431735Z",
     "shell.execute_reply": "2021-03-26T09:44:28.430167Z"
    }
   },
   "outputs": [
    {
     "data": {
      "image/svg+xml": [
       "<?xml version=\"1.0\" encoding=\"UTF-8\" standalone=\"no\"?><svg xmlns=\"http://www.w3.org/2000/svg\" xmlns:xlink=\"http://www.w3.org/1999/xlink\" contentScriptType=\"application/ecmascript\" contentStyleType=\"text/css\" height=\"285px\" preserveAspectRatio=\"none\" style=\"width:936px;height:285px;\" version=\"1.1\" viewBox=\"0 0 936 285\" width=\"936px\" zoomAndPan=\"magnify\"><defs><filter height=\"300%\" id=\"f1rlod9mi8t4kb\" width=\"300%\" x=\"-1\" y=\"-1\"><feGaussianBlur result=\"blurOut\" stdDeviation=\"2.0\"/><feColorMatrix in=\"blurOut\" result=\"blurOut2\" type=\"matrix\" values=\"0 0 0 0 0 0 0 0 0 0 0 0 0 0 0 0 0 0 .4 0\"/><feOffset dx=\"4.0\" dy=\"4.0\" in=\"blurOut2\" result=\"blurOut3\"/><feBlend in=\"SourceGraphic\" in2=\"blurOut3\" mode=\"normal\"/></filter></defs><g><!--MD5=[fbc87193dbaf4d95561dea2c320d4a47]\n",
       "cluster E1--><polygon fill=\"#FFFFFF\" filter=\"url(#f1rlod9mi8t4kb)\" points=\"16,6,173,6,180,28.2969,914,28.2969,914,273,16,273,16,6\" style=\"stroke: #000000; stroke-width: 1.5;\"/><line style=\"stroke: #000000; stroke-width: 1.5;\" x1=\"16\" x2=\"180\" y1=\"28.2969\" y2=\"28.2969\"/><text fill=\"#000000\" font-family=\"sans-serif\" font-size=\"14\" font-weight=\"bold\" lengthAdjust=\"spacingAndGlyphs\" textLength=\"151\" x=\"20\" y=\"20.9951\">CalculationExample</text><!--MD5=[b4997ac47864f28c2f74865a473b2911]\n",
       "class E2--><rect fill=\"#FEFECE\" filter=\"url(#f1rlod9mi8t4kb)\" height=\"58.7422\" id=\"E2\" rx=\"10\" ry=\"10\" style=\"stroke: #A80036; stroke-width: 1.5;\" width=\"92\" x=\"806\" y=\"60\"/><text fill=\"#000000\" font-family=\"sans-serif\" font-size=\"12\" font-style=\"italic\" lengthAdjust=\"spacingAndGlyphs\" textLength=\"40\" x=\"832\" y=\"76.1387\">«part»</text><text fill=\"#000000\" font-family=\"sans-serif\" font-size=\"12\" lengthAdjust=\"spacingAndGlyphs\" textLength=\"77\" x=\"813.5\" y=\"90.1074\">vehicle: Part</text><line style=\"stroke: #A80036; stroke-width: 1.5;\" x1=\"807\" x2=\"897\" y1=\"97.9375\" y2=\"97.9375\"/><text fill=\"#000000\" font-family=\"sans-serif\" font-size=\"11\" lengthAdjust=\"spacingAndGlyphs\" textLength=\"80\" x=\"812\" y=\"112.1479\">m: MassValue</text><!--MD5=[09b614a08d8cba4a07c9adeb5e0fee81]\n",
       "class E3--><rect fill=\"#FEFECE\" filter=\"url(#f1rlod9mi8t4kb)\" height=\"58.7422\" id=\"E3\" rx=\"10\" ry=\"10\" style=\"stroke: #A80036; stroke-width: 1.5;\" width=\"92\" x=\"679\" y=\"198\"/><text fill=\"#000000\" font-family=\"sans-serif\" font-size=\"12\" font-style=\"italic\" lengthAdjust=\"spacingAndGlyphs\" textLength=\"40\" x=\"705\" y=\"214.1387\">«part»</text><text fill=\"#000000\" font-family=\"sans-serif\" font-size=\"12\" lengthAdjust=\"spacingAndGlyphs\" textLength=\"58\" x=\"696\" y=\"228.1074\">eng: Part</text><line style=\"stroke: #A80036; stroke-width: 1.5;\" x1=\"680\" x2=\"770\" y1=\"235.9375\" y2=\"235.9375\"/><text fill=\"#000000\" font-family=\"sans-serif\" font-size=\"11\" lengthAdjust=\"spacingAndGlyphs\" textLength=\"80\" x=\"685\" y=\"250.1479\">m: MassValue</text><!--MD5=[ebbe1d658d1005bcc118a6aa81145e00]\n",
       "class E4--><rect fill=\"#FEFECE\" filter=\"url(#f1rlod9mi8t4kb)\" height=\"58.7422\" id=\"E4\" rx=\"10\" ry=\"10\" style=\"stroke: #A80036; stroke-width: 1.5;\" width=\"92\" x=\"806\" y=\"198\"/><text fill=\"#000000\" font-family=\"sans-serif\" font-size=\"12\" font-style=\"italic\" lengthAdjust=\"spacingAndGlyphs\" textLength=\"40\" x=\"832\" y=\"214.1387\">«part»</text><text fill=\"#000000\" font-family=\"sans-serif\" font-size=\"12\" lengthAdjust=\"spacingAndGlyphs\" textLength=\"67\" x=\"818.5\" y=\"228.1074\">trans: Part</text><line style=\"stroke: #A80036; stroke-width: 1.5;\" x1=\"807\" x2=\"897\" y1=\"235.9375\" y2=\"235.9375\"/><text fill=\"#000000\" font-family=\"sans-serif\" font-size=\"11\" lengthAdjust=\"spacingAndGlyphs\" textLength=\"80\" x=\"812\" y=\"250.1479\">m: MassValue</text><!--MD5=[270fce915f116d4de14055a7c1d9a0f3]\n",
       "class E5--><rect fill=\"#FEFECE\" filter=\"url(#f1rlod9mi8t4kb)\" height=\"45.9375\" id=\"E5\" style=\"stroke: #A80036; stroke-width: 1.5;\" width=\"108\" x=\"338\" y=\"204.5\"/><text fill=\"#000000\" font-family=\"sans-serif\" font-size=\"12\" font-style=\"italic\" lengthAdjust=\"spacingAndGlyphs\" textLength=\"106\" x=\"339\" y=\"220.6387\">«calculation def»</text><text fill=\"#000000\" font-family=\"sans-serif\" font-size=\"12\" lengthAdjust=\"spacingAndGlyphs\" textLength=\"59\" x=\"362.5\" y=\"234.6074\">MassSum</text><line style=\"stroke: #A80036; stroke-width: 1.5;\" x1=\"339\" x2=\"445\" y1=\"242.4375\" y2=\"242.4375\"/><!--MD5=[60a26617385b1d2d0262a64233df1f8d]\n",
       "class E6--><rect fill=\"#FEFECE\" filter=\"url(#f1rlod9mi8t4kb)\" height=\"45.9375\" id=\"E6\" rx=\"10\" ry=\"10\" style=\"stroke: #A80036; stroke-width: 1.5;\" width=\"91\" x=\"679.5\" y=\"66.5\"/><text fill=\"#000000\" font-family=\"sans-serif\" font-size=\"12\" font-style=\"italic\" lengthAdjust=\"spacingAndGlyphs\" textLength=\"82\" x=\"684\" y=\"82.6387\">«calculation»</text><text fill=\"#000000\" font-family=\"sans-serif\" font-size=\"12\" lengthAdjust=\"spacingAndGlyphs\" textLength=\"85\" x=\"682.5\" y=\"96.6074\">ms: MassSum</text><line style=\"stroke: #A80036; stroke-width: 1.5;\" x1=\"680.5\" x2=\"769.5\" y1=\"104.4375\" y2=\"104.4375\"/><!--MD5=[2156ba9850f5573cc1fc38a6a4b2f02b]\n",
       "class E7--><rect fill=\"#FEFECE\" filter=\"url(#f1rlod9mi8t4kb)\" height=\"71.5469\" id=\"E7\" style=\"stroke: #A80036; stroke-width: 1.5;\" width=\"253\" x=\"391.5\" y=\"53.5\"/><text fill=\"#000000\" font-family=\"sans-serif\" font-size=\"12\" font-style=\"italic\" lengthAdjust=\"spacingAndGlyphs\" textLength=\"106\" x=\"465\" y=\"69.6387\">«calculation def»</text><text fill=\"#000000\" font-family=\"sans-serif\" font-size=\"12\" lengthAdjust=\"spacingAndGlyphs\" textLength=\"67\" x=\"484.5\" y=\"83.6074\">MassSum1</text><line style=\"stroke: #A80036; stroke-width: 1.5;\" x1=\"392.5\" x2=\"643.5\" y1=\"91.4375\" y2=\"91.4375\"/><text fill=\"#000000\" font-family=\"sans-serif\" font-size=\"11\" lengthAdjust=\"spacingAndGlyphs\" textLength=\"136\" x=\"397.5\" y=\"105.6479\">partMasses: MassValue</text><text fill=\"#000000\" font-family=\"sans-serif\" font-size=\"11\" lengthAdjust=\"spacingAndGlyphs\" textLength=\"241\" x=\"397.5\" y=\"118.4526\">totalMass: MassValue= sum(partMasses);</text><!--MD5=[b9389687b975829384b498ac4b7476b2]\n",
       "class E8--><rect fill=\"#FEFECE\" filter=\"url(#f1rlod9mi8t4kb)\" height=\"97.1563\" id=\"E8\" rx=\"10\" ry=\"10\" style=\"stroke: #A80036; stroke-width: 1.5;\" width=\"324\" x=\"32\" y=\"41\"/><text fill=\"#000000\" font-family=\"sans-serif\" font-size=\"12\" font-style=\"italic\" lengthAdjust=\"spacingAndGlyphs\" textLength=\"82\" x=\"153\" y=\"57.1387\">«calculation»</text><text fill=\"#000000\" font-family=\"sans-serif\" font-size=\"12\" lengthAdjust=\"spacingAndGlyphs\" textLength=\"93\" x=\"147.5\" y=\"71.1074\">ms1: MassSum</text><line style=\"stroke: #A80036; stroke-width: 1.5;\" x1=\"33\" x2=\"355\" y1=\"78.9375\" y2=\"78.9375\"/><line style=\"stroke: #000000; stroke-width: 1.0;\" x1=\"38\" x2=\"38\" y1=\"84.9375\" y2=\"93.9375\"/><polygon fill=\"#FFFF44\" points=\"41,85.9375,48,89.9375,41,93.9375\" style=\"stroke: #000000; stroke-width: 1.0;\"/><text fill=\"#000000\" font-family=\"sans-serif\" font-size=\"11\" lengthAdjust=\"spacingAndGlyphs\" textLength=\"298\" x=\"52\" y=\"93.1479\">partMasses: MassValue= {vehicle::eng::m, vehicle::</text><text fill=\"#000000\" font-family=\"sans-serif\" font-size=\"11\" lengthAdjust=\"spacingAndGlyphs\" textLength=\"60\" x=\"52\" y=\"105.9526\">trans::m};</text><text fill=\"#000000\" font-family=\"sans-serif\" font-size=\"11\" lengthAdjust=\"spacingAndGlyphs\" text-decoration=\"line-through\" textLength=\"131\" x=\"120\" y=\"105.9526\">MassSum::partMasses</text><line style=\"stroke: #000000; stroke-width: 1.0;\" x1=\"38\" x2=\"38\" y1=\"110.5469\" y2=\"119.5469\"/><polygon fill=\"#FFFF44\" points=\"41,111.5469,48,115.5469,41,119.5469\" style=\"stroke: #000000; stroke-width: 1.0;\"/><text fill=\"#000000\" font-family=\"sans-serif\" font-size=\"11\" lengthAdjust=\"spacingAndGlyphs\" textLength=\"199\" x=\"52\" y=\"118.7573\">totalMass: MassValue= vehicle::m;</text><text fill=\"#000000\" font-family=\"sans-serif\" font-size=\"11\" lengthAdjust=\"spacingAndGlyphs\" text-decoration=\"line-through\" textLength=\"64\" x=\"259\" y=\"118.7573\">MassSum::</text><text fill=\"#000000\" font-family=\"sans-serif\" font-size=\"11\" lengthAdjust=\"spacingAndGlyphs\" text-decoration=\"line-through\" textLength=\"55\" x=\"52\" y=\"131.562\">totalMass</text><!--MD5=[209b3feb70ccb6233bfe1053d122c12c]\n",
       "reverse link E2 to E3--><path d=\"M816.38,128.64 C795.98,150.49 770.79,177.47 752.03,197.56 \" fill=\"none\" id=\"E2&lt;-E3\" style=\"stroke: #A80036; stroke-width: 1.0;\"/><polygon fill=\"#A80036\" points=\"825.38,119.01,818.3614,120.6652,817.1898,127.7805,824.2084,126.1253,825.38,119.01\" style=\"stroke: #A80036; stroke-width: 1.0;\"/><!--MD5=[9618e71518536f8baf3342ff6fdab317]\n",
       "reverse link E2 to E4--><path d=\"M852,132.23 C852,153.39 852,178.55 852,197.56 \" fill=\"none\" id=\"E2&lt;-E4\" style=\"stroke: #A80036; stroke-width: 1.0;\"/><polygon fill=\"#A80036\" points=\"852,119.01,848,125.01,852,131.01,856,125.01,852,119.01\" style=\"stroke: #A80036; stroke-width: 1.0;\"/><!--MD5=[25b190c987b1e74e5126d372c5a73af1]\n",
       "link E6 to E5--><path d=\"M699.63,112.66 C688.62,121.45 675.23,131.09 662,138 C599.01,170.9 521.42,194.8 465.6,209.41 \" fill=\"none\" id=\"E6-&gt;E5\" style=\"stroke: #A80036; stroke-width: 1.0;\"/><polygon fill=\"#FFFFFF\" points=\"446.09,214.37,462.7774,202.9013,466.2294,216.4691,446.09,214.37\" style=\"stroke: #A80036; stroke-width: 1.0;\"/><ellipse cx=\"468.7945\" cy=\"203.4341\" fill=\"#A80036\" rx=\"2\" ry=\"2\" style=\"stroke: #A80036; stroke-width: 1.0;\"/><ellipse cx=\"471.2602\" cy=\"213.1254\" fill=\"#A80036\" rx=\"2\" ry=\"2\" style=\"stroke: #A80036; stroke-width: 1.0;\"/><!--MD5=[1ccb2481ffa92f8d51a74ee30c51832a]\n",
       "link E8 to E5--><path d=\"M263.25,138.07 C289.72,156.25 319.32,176.58 343.46,193.16 \" fill=\"none\" id=\"E8-&gt;E5\" style=\"stroke: #A80036; stroke-width: 1.0;\"/><polygon fill=\"#FFFFFF\" points=\"359.95,204.49,340.3264,199.4986,348.2553,187.9602,359.95,204.49\" style=\"stroke: #A80036; stroke-width: 1.0;\"/><ellipse cx=\"336.7613\" cy=\"194.6221\" fill=\"#A80036\" rx=\"2\" ry=\"2\" style=\"stroke: #A80036; stroke-width: 1.0;\"/><ellipse cx=\"342.4248\" cy=\"186.3804\" fill=\"#A80036\" rx=\"2\" ry=\"2\" style=\"stroke: #A80036; stroke-width: 1.0;\"/><!--MD5=[e61b6673c55b718df9ecda31400062ae]\n",
       "@startuml\r\n",
       "skinparam wrapWidth 300\r\n",
       "hide circle\r\n",
       "\r\n",
       "package \"CalculationExample\" as E1   {\r\n",
       "comp usage \"vehicle: Part\" as E2  <<(T,blue)part>> {\r\n",
       "m: MassValue\r\n",
       "}\r\n",
       "comp usage \"eng: Part\" as E3  <<(T,blue)part>> {\r\n",
       "m: MassValue\r\n",
       "}\r\n",
       "comp usage \"trans: Part\" as E4  <<(T,blue)part>> {\r\n",
       "m: MassValue\r\n",
       "}\r\n",
       "comp def \"MassSum\" as E5  <<(T,blue)calculation def>> {\r\n",
       "}\r\n",
       "comp usage \"ms: MassSum\" as E6  <<(T,blue)calculation>> {\r\n",
       "}\r\n",
       "comp def \"MassSum1\" as E7  <<(T,blue)calculation def>> {\r\n",
       "partMasses: MassValue\r\n",
       "totalMass: MassValue= sum(partMasses); \r\n",
       "}\r\n",
       "comp usage \"ms1: MassSum\" as E8  <<(T,blue)calculation>> {\r\n",
       ">partMasses: MassValue= {vehicle::eng::m, vehicle::trans::m};  <s>MassSum::partMasses</s>\r\n",
       ">totalMass: MassValue= vehicle::m;  <s>MassSum::totalMass</s>\r\n",
       "}\r\n",
       "E2 *- - E3\r\n",
       "E2 *- - E4\r\n",
       "E6 - -:|> E5\r\n",
       "E8 - -:|> E5\r\n",
       "}\r\n",
       "@enduml\r\n",
       "\n",
       "PlantUML version 1.2020.13(Sat Jun 13 12:26:38 UTC 2020)\n",
       "(EPL source distribution)\n",
       "Java Runtime: OpenJDK Runtime Environment\n",
       "JVM: OpenJDK 64-Bit Server VM\n",
       "Default Encoding: UTF-8\n",
       "Language: en\n",
       "Country: null\n",
       "--></g></svg>"
      ]
     },
     "execution_count": 28,
     "metadata": {},
     "output_type": "execute_result"
    }
   ],
   "source": [
    "%viz --style=\"STDCOLOR\" --view=\"Sequence\" \"CalculationExample\""
   ]
  },
  {
   "cell_type": "code",
   "execution_count": 29,
   "id": "editorial-excitement",
   "metadata": {
    "execution": {
     "iopub.execute_input": "2021-03-26T09:44:28.484063Z",
     "iopub.status.busy": "2021-03-26T09:44:28.483466Z",
     "iopub.status.idle": "2021-03-26T09:44:28.563066Z",
     "shell.execute_reply": "2021-03-26T09:44:28.562695Z"
    }
   },
   "outputs": [
    {
     "data": {
      "image/svg+xml": [
       "<?xml version=\"1.0\" encoding=\"UTF-8\" standalone=\"no\"?><svg xmlns=\"http://www.w3.org/2000/svg\" xmlns:xlink=\"http://www.w3.org/1999/xlink\" contentScriptType=\"application/ecmascript\" contentStyleType=\"text/css\" height=\"433px\" preserveAspectRatio=\"none\" style=\"width:934px;height:433px;\" version=\"1.1\" viewBox=\"0 0 934 433\" width=\"934px\" zoomAndPan=\"magnify\"><defs><filter height=\"300%\" id=\"fqdf9zzhf7yeu\" width=\"300%\" x=\"-1\" y=\"-1\"><feGaussianBlur result=\"blurOut\" stdDeviation=\"2.0\"/><feColorMatrix in=\"blurOut\" result=\"blurOut2\" type=\"matrix\" values=\"0 0 0 0 0 0 0 0 0 0 0 0 0 0 0 0 0 0 .4 0\"/><feOffset dx=\"4.0\" dy=\"4.0\" in=\"blurOut2\" result=\"blurOut3\"/><feBlend in=\"SourceGraphic\" in2=\"blurOut3\" mode=\"normal\"/></filter></defs><g><!--MD5=[fbc87193dbaf4d95561dea2c320d4a47]\n",
       "cluster E1--><polygon fill=\"#FFFFFF\" filter=\"url(#fqdf9zzhf7yeu)\" points=\"16,6,173,6,180,28.2969,912,28.2969,912,421.72,16,421.72,16,6\" style=\"stroke: #000000; stroke-width: 1.5;\"/><line style=\"stroke: #000000; stroke-width: 1.5;\" x1=\"16\" x2=\"180\" y1=\"28.2969\" y2=\"28.2969\"/><text fill=\"#000000\" font-family=\"sans-serif\" font-size=\"14\" font-weight=\"bold\" lengthAdjust=\"spacingAndGlyphs\" textLength=\"151\" x=\"20\" y=\"20.9951\">CalculationExample</text><!--MD5=[de5ec2e2e8f62f467e546659f5068c88]\n",
       "cluster E5--><rect fill=\"#FFFFFF\" filter=\"url(#fqdf9zzhf7yeu)\" height=\"294.22\" style=\"stroke: #000000; stroke-width: 1.5;\" width=\"128\" x=\"379\" y=\"89.5\"/><text fill=\"#000000\" font-family=\"sans-serif\" font-size=\"14\" font-weight=\"bold\" lengthAdjust=\"spacingAndGlyphs\" textLength=\"74\" x=\"406\" y=\"104.4951\">MassSum</text><!--MD5=[917b9dd0c7eca3ee5f47219d1a84c0ad]\n",
       "cluster E11--><rect fill=\"#FFFFFF\" filter=\"url(#fqdf9zzhf7yeu)\" height=\"294.22\" style=\"stroke: #000000; stroke-width: 1.5;\" width=\"132\" x=\"764\" y=\"89.5\"/><text fill=\"#000000\" font-family=\"sans-serif\" font-size=\"14\" font-weight=\"bold\" lengthAdjust=\"spacingAndGlyphs\" textLength=\"84\" x=\"788\" y=\"104.4951\">MassSum1</text><!--MD5=[b4997ac47864f28c2f74865a473b2911]\n",
       "class E2--><rect fill=\"#FEFECE\" filter=\"url(#fqdf9zzhf7yeu)\" height=\"58.7422\" id=\"E2\" rx=\"10\" ry=\"10\" style=\"stroke: #A80036; stroke-width: 1.5;\" width=\"92\" x=\"657\" y=\"60\"/><text fill=\"#000000\" font-family=\"sans-serif\" font-size=\"12\" font-style=\"italic\" lengthAdjust=\"spacingAndGlyphs\" textLength=\"40\" x=\"683\" y=\"76.1387\">«part»</text><text fill=\"#000000\" font-family=\"sans-serif\" font-size=\"12\" lengthAdjust=\"spacingAndGlyphs\" textLength=\"77\" x=\"664.5\" y=\"90.1074\">vehicle: Part</text><line style=\"stroke: #A80036; stroke-width: 1.5;\" x1=\"658\" x2=\"748\" y1=\"97.9375\" y2=\"97.9375\"/><text fill=\"#000000\" font-family=\"sans-serif\" font-size=\"11\" lengthAdjust=\"spacingAndGlyphs\" textLength=\"80\" x=\"663\" y=\"112.1479\">m: MassValue</text><!--MD5=[09b614a08d8cba4a07c9adeb5e0fee81]\n",
       "class E3--><rect fill=\"#FEFECE\" filter=\"url(#fqdf9zzhf7yeu)\" height=\"58.7422\" id=\"E3\" rx=\"10\" ry=\"10\" style=\"stroke: #A80036; stroke-width: 1.5;\" width=\"92\" x=\"526\" y=\"198\"/><text fill=\"#000000\" font-family=\"sans-serif\" font-size=\"12\" font-style=\"italic\" lengthAdjust=\"spacingAndGlyphs\" textLength=\"40\" x=\"552\" y=\"214.1387\">«part»</text><text fill=\"#000000\" font-family=\"sans-serif\" font-size=\"12\" lengthAdjust=\"spacingAndGlyphs\" textLength=\"58\" x=\"543\" y=\"228.1074\">eng: Part</text><line style=\"stroke: #A80036; stroke-width: 1.5;\" x1=\"527\" x2=\"617\" y1=\"235.9375\" y2=\"235.9375\"/><text fill=\"#000000\" font-family=\"sans-serif\" font-size=\"11\" lengthAdjust=\"spacingAndGlyphs\" textLength=\"80\" x=\"532\" y=\"250.1479\">m: MassValue</text><!--MD5=[ebbe1d658d1005bcc118a6aa81145e00]\n",
       "class E4--><rect fill=\"#FEFECE\" filter=\"url(#fqdf9zzhf7yeu)\" height=\"58.7422\" id=\"E4\" rx=\"10\" ry=\"10\" style=\"stroke: #A80036; stroke-width: 1.5;\" width=\"92\" x=\"653\" y=\"198\"/><text fill=\"#000000\" font-family=\"sans-serif\" font-size=\"12\" font-style=\"italic\" lengthAdjust=\"spacingAndGlyphs\" textLength=\"40\" x=\"679\" y=\"214.1387\">«part»</text><text fill=\"#000000\" font-family=\"sans-serif\" font-size=\"12\" lengthAdjust=\"spacingAndGlyphs\" textLength=\"67\" x=\"665.5\" y=\"228.1074\">trans: Part</text><line style=\"stroke: #A80036; stroke-width: 1.5;\" x1=\"654\" x2=\"744\" y1=\"235.9375\" y2=\"235.9375\"/><text fill=\"#000000\" font-family=\"sans-serif\" font-size=\"11\" lengthAdjust=\"spacingAndGlyphs\" textLength=\"80\" x=\"659\" y=\"250.1479\">m: MassValue</text><!--MD5=[96f4274e9e20536e775497830990834d]\n",
       "class E10--><rect fill=\"#FEFECE\" filter=\"url(#fqdf9zzhf7yeu)\" height=\"45.9375\" id=\"E10\" rx=\"10\" ry=\"10\" style=\"stroke: #A80036; stroke-width: 1.5;\" width=\"91\" x=\"530.5\" y=\"66.5\"/><text fill=\"#000000\" font-family=\"sans-serif\" font-size=\"12\" font-style=\"italic\" lengthAdjust=\"spacingAndGlyphs\" textLength=\"82\" x=\"535\" y=\"82.6387\">«calculation»</text><text fill=\"#000000\" font-family=\"sans-serif\" font-size=\"12\" lengthAdjust=\"spacingAndGlyphs\" textLength=\"85\" x=\"533.5\" y=\"96.6074\">ms: MassSum</text><line style=\"stroke: #A80036; stroke-width: 1.5;\" x1=\"531.5\" x2=\"620.5\" y1=\"104.4375\" y2=\"104.4375\"/><!--MD5=[bee11217b2f71d958a27249dc326068c]\n",
       "class E14--><rect fill=\"#FEFECE\" filter=\"url(#fqdf9zzhf7yeu)\" height=\"97.1563\" id=\"E14\" rx=\"10\" ry=\"10\" style=\"stroke: #A80036; stroke-width: 1.5;\" width=\"324\" x=\"32\" y=\"41\"/><text fill=\"#000000\" font-family=\"sans-serif\" font-size=\"12\" font-style=\"italic\" lengthAdjust=\"spacingAndGlyphs\" textLength=\"82\" x=\"153\" y=\"57.1387\">«calculation»</text><text fill=\"#000000\" font-family=\"sans-serif\" font-size=\"12\" lengthAdjust=\"spacingAndGlyphs\" textLength=\"93\" x=\"147.5\" y=\"71.1074\">ms1: MassSum</text><line style=\"stroke: #A80036; stroke-width: 1.5;\" x1=\"33\" x2=\"355\" y1=\"78.9375\" y2=\"78.9375\"/><line style=\"stroke: #000000; stroke-width: 1.0;\" x1=\"38\" x2=\"38\" y1=\"84.9375\" y2=\"93.9375\"/><polygon fill=\"#FFFF44\" points=\"41,85.9375,48,89.9375,41,93.9375\" style=\"stroke: #000000; stroke-width: 1.0;\"/><text fill=\"#000000\" font-family=\"sans-serif\" font-size=\"11\" lengthAdjust=\"spacingAndGlyphs\" textLength=\"298\" x=\"52\" y=\"93.1479\">partMasses: MassValue= {vehicle::eng::m, vehicle::</text><text fill=\"#000000\" font-family=\"sans-serif\" font-size=\"11\" lengthAdjust=\"spacingAndGlyphs\" textLength=\"60\" x=\"52\" y=\"105.9526\">trans::m};</text><text fill=\"#000000\" font-family=\"sans-serif\" font-size=\"11\" lengthAdjust=\"spacingAndGlyphs\" text-decoration=\"line-through\" textLength=\"131\" x=\"120\" y=\"105.9526\">MassSum::partMasses</text><line style=\"stroke: #000000; stroke-width: 1.0;\" x1=\"38\" x2=\"38\" y1=\"110.5469\" y2=\"119.5469\"/><polygon fill=\"#FFFF44\" points=\"41,111.5469,48,115.5469,41,119.5469\" style=\"stroke: #000000; stroke-width: 1.0;\"/><text fill=\"#000000\" font-family=\"sans-serif\" font-size=\"11\" lengthAdjust=\"spacingAndGlyphs\" textLength=\"199\" x=\"52\" y=\"118.7573\">totalMass: MassValue= vehicle::m;</text><text fill=\"#000000\" font-family=\"sans-serif\" font-size=\"11\" lengthAdjust=\"spacingAndGlyphs\" text-decoration=\"line-through\" textLength=\"64\" x=\"259\" y=\"118.7573\">MassSum::</text><text fill=\"#000000\" font-family=\"sans-serif\" font-size=\"11\" lengthAdjust=\"spacingAndGlyphs\" text-decoration=\"line-through\" textLength=\"55\" x=\"52\" y=\"131.562\">totalMass</text><text fill=\"#000000\" font-family=\"sans-serif\" font-size=\"14\" lengthAdjust=\"spacingAndGlyphs\" textLength=\"80\" x=\"357\" y=\"68.1982\">partMasses</text><rect fill=\"#A80036\" height=\"12\" style=\"stroke: #FEFECE; stroke-width: 1.5;\" width=\"12\" x=\"391\" y=\"83.5\"/><text fill=\"#000000\" font-family=\"sans-serif\" font-size=\"14\" lengthAdjust=\"spacingAndGlyphs\" textLength=\"66\" x=\"379\" y=\"402.7151\">totalMass</text><rect fill=\"#A80036\" height=\"12\" style=\"stroke: #FEFECE; stroke-width: 1.5;\" width=\"12\" x=\"406\" y=\"377.72\"/><text fill=\"#000000\" font-family=\"sans-serif\" font-size=\"14\" lengthAdjust=\"spacingAndGlyphs\" textLength=\"75\" x=\"451.5\" y=\"68.1982\">$collection</text><rect fill=\"#A80036\" height=\"12\" style=\"stroke: #FEFECE; stroke-width: 1.5;\" width=\"12\" x=\"483\" y=\"83.5\"/><text fill=\"#000000\" font-family=\"sans-serif\" font-size=\"14\" lengthAdjust=\"spacingAndGlyphs\" textLength=\"48\" x=\"435\" y=\"402.7151\">$result</text><rect fill=\"#A80036\" height=\"12\" style=\"stroke: #FEFECE; stroke-width: 1.5;\" width=\"12\" x=\"453\" y=\"377.72\"/><text fill=\"#000000\" font-family=\"sans-serif\" font-size=\"14\" lengthAdjust=\"spacingAndGlyphs\" textLength=\"80\" x=\"790\" y=\"68.1982\">partMasses</text><rect fill=\"#A80036\" height=\"12\" style=\"stroke: #FEFECE; stroke-width: 1.5;\" width=\"12\" x=\"824\" y=\"83.5\"/><text fill=\"#000000\" font-family=\"sans-serif\" font-size=\"14\" lengthAdjust=\"spacingAndGlyphs\" textLength=\"66\" x=\"797\" y=\"402.7151\">totalMass</text><rect fill=\"#A80036\" height=\"12\" style=\"stroke: #FEFECE; stroke-width: 1.5;\" width=\"12\" x=\"824\" y=\"377.72\"/><!--MD5=[209b3feb70ccb6233bfe1053d122c12c]\n",
       "reverse link E2 to E3--><path d=\"M666.26,128.64 C645.22,150.49 619.23,177.47 599.88,197.56 \" fill=\"none\" id=\"E2&lt;-E3\" style=\"stroke: #A80036; stroke-width: 1.0;\"/><polygon fill=\"#A80036\" points=\"675.54,119.01,668.4977,120.5613,667.2211,127.6585,674.2634,126.1072,675.54,119.01\" style=\"stroke: #A80036; stroke-width: 1.0;\"/><!--MD5=[9618e71518536f8baf3342ff6fdab317]\n",
       "reverse link E2 to E4--><path d=\"M701.77,132.23 C701.15,153.39 700.41,178.55 699.85,197.56 \" fill=\"none\" id=\"E2&lt;-E4\" style=\"stroke: #A80036; stroke-width: 1.0;\"/><polygon fill=\"#A80036\" points=\"702.16,119.01,697.9838,124.8887,701.8041,131.0047,705.9803,125.126,702.16,119.01\" style=\"stroke: #A80036; stroke-width: 1.0;\"/><!--MD5=[1c0b9414cc86e0744215edee6abd8926]\n",
       "link E7 to E9--><path d=\"M418.24,381.65 C429.81,378.39 441.38,378.41 452.95,381.7 \" fill=\"none\" id=\"E7-E9\" style=\"stroke: #FF0000; stroke-width: 5.0;\"/><!--MD5=[ec5e0a54482b142abcecfe541d624bff]\n",
       "link E10 to E5--><path d=\"M554.01,112.65 C546.4275,120.29 537.41,129.375 527.8245,139.0319 C523.0318,143.8603 518.0971,148.8317 513.1287,153.837 C511.8866,155.0883 510.6425,156.3417 509.3979,157.5955 C508.7756,158.2224 508.1532,158.8495 507.5309,159.4764 C507.3753,159.6331 507.2197,159.7898 507.0642,159.9465 \" fill=\"none\" id=\"E10-&gt;E5\" style=\"stroke: #A80036; stroke-width: 1.0;\"/><polygon fill=\"#FFFFFF\" points=\"507.0642,159.9465,515.4814,141.5305,525.4175,151.3933,507.0642,159.9465\" style=\"stroke: #A80036; stroke-width: 1.0;\"/><ellipse cx=\"520.9165\" cy=\"138.8941\" fill=\"#A80036\" rx=\"2\" ry=\"2\" style=\"stroke: #A80036; stroke-width: 1.0;\"/><ellipse cx=\"528.0136\" cy=\"145.939\" fill=\"#A80036\" rx=\"2\" ry=\"2\" style=\"stroke: #A80036; stroke-width: 1.0;\"/><!--MD5=[111e5536516ee1ad7d4266f589654f03]\n",
       "link E14 to E5--><path d=\"M280.39,138.07 C306.96,152.7 336.0575,168.72 362.0988,183.0575 C365.3539,184.8497 368.5613,186.6156 371.7101,188.3492 C373.2844,189.216 374.8441,190.0747 376.3878,190.9246 C377.1596,191.3496 377.9275,191.7723 378.6911,192.1928 \" fill=\"none\" id=\"E14-&gt;E5\" style=\"stroke: #A80036; stroke-width: 1.0;\"/><polygon fill=\"#FFFFFF\" points=\"378.6911,192.1928,358.6709,189.161,365.4232,176.897,378.6911,192.1928\" style=\"stroke: #A80036; stroke-width: 1.0;\"/><ellipse cx=\"354.6423\" cy=\"184.6599\" fill=\"#A80036\" rx=\"2\" ry=\"2\" style=\"stroke: #A80036; stroke-width: 1.0;\"/><ellipse cx=\"359.4654\" cy=\"175.8998\" fill=\"#A80036\" rx=\"2\" ry=\"2\" style=\"stroke: #A80036; stroke-width: 1.0;\"/><!--MD5=[bd1a3dd91d32cbae6a3857dfcd562a44]\n",
       "@startuml\r\n",
       "skinparam wrapWidth 300\r\n",
       "hide circle\r\n",
       "\r\n",
       "package \"CalculationExample\" as E1   {\r\n",
       "comp usage \"vehicle: Part\" as E2  <<(T,blue)part>> {\r\n",
       "m: MassValue\r\n",
       "}\r\n",
       "comp usage \"eng: Part\" as E3  <<(T,blue)part>> {\r\n",
       "m: MassValue\r\n",
       "}\r\n",
       "comp usage \"trans: Part\" as E4  <<(T,blue)part>> {\r\n",
       "m: MassValue\r\n",
       "}\r\n",
       "rec def \"MassSum\" as E5 {\r\n",
       "portin \"partMasses\" as E6  \r\n",
       "portout \"totalMass\" as E7  \r\n",
       "portin \"$collection\" as E8  \r\n",
       "portout \"$result\" as E9  \r\n",
       "}\r\n",
       "\r\n",
       "comp usage \"ms: MassSum\" as E10  <<(T,blue)calculation>> {\r\n",
       "}\r\n",
       "rec def \"MassSum1\" as E11 {\r\n",
       "portin \"partMasses\" as E12  \r\n",
       "portout \"totalMass\" as E13  \r\n",
       "}\r\n",
       "\r\n",
       "comp usage \"ms1: MassSum\" as E14  <<(T,blue)calculation>> {\r\n",
       ">partMasses: MassValue= {vehicle::eng::m, vehicle::trans::m};  <s>MassSum::partMasses</s>\r\n",
       ">totalMass: MassValue= vehicle::m;  <s>MassSum::totalMass</s>\r\n",
       "}\r\n",
       "E2 *- - E3\r\n",
       "E2 *- - E4\r\n",
       "E7 -[thickness=5,#red]- E9\r\n",
       "E10 - -:|> E5\r\n",
       "E14 - -:|> E5\r\n",
       "}\r\n",
       "@enduml\r\n",
       "\n",
       "PlantUML version 1.2020.13(Sat Jun 13 12:26:38 UTC 2020)\n",
       "(EPL source distribution)\n",
       "Java Runtime: OpenJDK Runtime Environment\n",
       "JVM: OpenJDK 64-Bit Server VM\n",
       "Default Encoding: UTF-8\n",
       "Language: en\n",
       "Country: null\n",
       "--></g></svg>"
      ]
     },
     "execution_count": 29,
     "metadata": {},
     "output_type": "execute_result"
    }
   ],
   "source": [
    "%viz --style=\"STDCOLOR\" --view=\"MIXED\" \"CalculationExample\""
   ]
  },
  {
   "cell_type": "code",
   "execution_count": 30,
   "id": "compatible-neighborhood",
   "metadata": {
    "execution": {
     "iopub.execute_input": "2021-03-26T09:44:28.617273Z",
     "iopub.status.busy": "2021-03-26T09:44:28.616707Z",
     "iopub.status.idle": "2021-03-26T09:44:28.718171Z",
     "shell.execute_reply": "2021-03-26T09:44:28.717459Z"
    }
   },
   "outputs": [
    {
     "data": {
      "image/svg+xml": [
       "<?xml version=\"1.0\" encoding=\"UTF-8\" standalone=\"no\"?><svg xmlns=\"http://www.w3.org/2000/svg\" xmlns:xlink=\"http://www.w3.org/1999/xlink\" contentScriptType=\"application/ecmascript\" contentStyleType=\"text/css\" height=\"433px\" preserveAspectRatio=\"none\" style=\"width:1020px;height:433px;\" version=\"1.1\" viewBox=\"0 0 1020 433\" width=\"1020px\" zoomAndPan=\"magnify\"><defs><filter height=\"300%\" id=\"fcno0gl06m4lf\" width=\"300%\" x=\"-1\" y=\"-1\"><feGaussianBlur result=\"blurOut\" stdDeviation=\"2.0\"/><feColorMatrix in=\"blurOut\" result=\"blurOut2\" type=\"matrix\" values=\"0 0 0 0 0 0 0 0 0 0 0 0 0 0 0 0 0 0 .4 0\"/><feOffset dx=\"4.0\" dy=\"4.0\" in=\"blurOut2\" result=\"blurOut3\"/><feBlend in=\"SourceGraphic\" in2=\"blurOut3\" mode=\"normal\"/></filter></defs><g><!--MD5=[fbc87193dbaf4d95561dea2c320d4a47]\n",
       "cluster E1--><polygon fill=\"#FFFFFF\" filter=\"url(#fcno0gl06m4lf)\" points=\"16,6,173,6,180,28.2969,998,28.2969,998,421.72,16,421.72,16,6\" style=\"stroke: #000000; stroke-width: 1.5;\"/><line style=\"stroke: #000000; stroke-width: 1.5;\" x1=\"16\" x2=\"180\" y1=\"28.2969\" y2=\"28.2969\"/><text fill=\"#000000\" font-family=\"sans-serif\" font-size=\"14\" font-weight=\"bold\" lengthAdjust=\"spacingAndGlyphs\" textLength=\"151\" x=\"20\" y=\"20.9951\">CalculationExample</text><!--MD5=[de5ec2e2e8f62f467e546659f5068c88]\n",
       "cluster E5--><rect fill=\"#FFFFFF\" filter=\"url(#fcno0gl06m4lf)\" height=\"294.22\" style=\"stroke: #000000; stroke-width: 1.5;\" width=\"128\" x=\"429\" y=\"89.5\"/><text fill=\"#000000\" font-family=\"sans-serif\" font-size=\"14\" font-weight=\"bold\" lengthAdjust=\"spacingAndGlyphs\" textLength=\"74\" x=\"456\" y=\"104.4951\">MassSum</text><!--MD5=[917b9dd0c7eca3ee5f47219d1a84c0ad]\n",
       "cluster E11--><rect fill=\"#FFFFFF\" filter=\"url(#fcno0gl06m4lf)\" height=\"294.22\" style=\"stroke: #000000; stroke-width: 1.5;\" width=\"132\" x=\"850\" y=\"89.5\"/><text fill=\"#000000\" font-family=\"sans-serif\" font-size=\"14\" font-weight=\"bold\" lengthAdjust=\"spacingAndGlyphs\" textLength=\"84\" x=\"874\" y=\"104.4951\">MassSum1</text><!--MD5=[b4997ac47864f28c2f74865a473b2911]\n",
       "class E2--><rect fill=\"#FEFECE\" filter=\"url(#fcno0gl06m4lf)\" height=\"58.7422\" id=\"E2\" rx=\"10\" ry=\"10\" style=\"stroke: #A80036; stroke-width: 1.5;\" width=\"109\" x=\"732.5\" y=\"60\"/><ellipse cx=\"747.5\" cy=\"78.9688\" fill=\"#32CD32\" rx=\"11\" ry=\"11\" style=\"stroke: #A80036; stroke-width: 1.0;\"/><path d=\"M747.2969,74.6406 L747.2969,78.2656 L748.2969,78.2656 Q749.5,78.2656 749.9844,77.8594 Q750.4688,77.4531 750.4688,76.4531 Q750.4688,75.4531 749.9844,75.0469 Q749.5,74.6406 748.2969,74.6406 L747.2969,74.6406 Z M744.8438,72.5781 L748.2031,72.5781 Q750.7656,72.5781 751.8906,73.5 Q753.0156,74.4063 753.0156,76.4531 Q753.0156,78.5 751.8906,79.4219 Q750.7656,80.3281 748.2031,80.3281 L747.2969,80.3281 L747.2969,84.9688 L744.8438,84.9688 L744.8438,72.5781 Z \"/><text fill=\"#000000\" font-family=\"sans-serif\" font-size=\"12\" font-style=\"italic\" lengthAdjust=\"spacingAndGlyphs\" textLength=\"40\" x=\"780\" y=\"76.1387\">«part»</text><text fill=\"#000000\" font-family=\"sans-serif\" font-size=\"12\" lengthAdjust=\"spacingAndGlyphs\" textLength=\"77\" x=\"761.5\" y=\"90.1074\">vehicle: Part</text><line style=\"stroke: #A80036; stroke-width: 1.5;\" x1=\"733.5\" x2=\"840.5\" y1=\"97.9375\" y2=\"97.9375\"/><text fill=\"#000000\" font-family=\"sans-serif\" font-size=\"11\" lengthAdjust=\"spacingAndGlyphs\" textLength=\"80\" x=\"738.5\" y=\"112.1479\">m: MassValue</text><!--MD5=[09b614a08d8cba4a07c9adeb5e0fee81]\n",
       "class E3--><rect fill=\"#FEFECE\" filter=\"url(#fcno0gl06m4lf)\" height=\"58.7422\" id=\"E3\" rx=\"10\" ry=\"10\" style=\"stroke: #A80036; stroke-width: 1.5;\" width=\"92\" x=\"604\" y=\"198\"/><ellipse cx=\"619.9\" cy=\"216.9688\" fill=\"#32CD32\" rx=\"11\" ry=\"11\" style=\"stroke: #A80036; stroke-width: 1.0;\"/><path d=\"M619.6969,212.6406 L619.6969,216.2656 L620.6969,216.2656 Q621.9,216.2656 622.3844,215.8594 Q622.8688,215.4531 622.8688,214.4531 Q622.8688,213.4531 622.3844,213.0469 Q621.9,212.6406 620.6969,212.6406 L619.6969,212.6406 Z M617.2438,210.5781 L620.6031,210.5781 Q623.1656,210.5781 624.2906,211.5 Q625.4156,212.4063 625.4156,214.4531 Q625.4156,216.5 624.2906,217.4219 Q623.1656,218.3281 620.6031,218.3281 L619.6969,218.3281 L619.6969,222.9688 L617.2438,222.9688 L617.2438,210.5781 Z \"/><text fill=\"#000000\" font-family=\"sans-serif\" font-size=\"12\" font-style=\"italic\" lengthAdjust=\"spacingAndGlyphs\" textLength=\"40\" x=\"643.1\" y=\"214.1387\">«part»</text><text fill=\"#000000\" font-family=\"sans-serif\" font-size=\"12\" lengthAdjust=\"spacingAndGlyphs\" textLength=\"58\" x=\"634.1\" y=\"228.1074\">eng: Part</text><line style=\"stroke: #A80036; stroke-width: 1.5;\" x1=\"605\" x2=\"695\" y1=\"235.9375\" y2=\"235.9375\"/><text fill=\"#000000\" font-family=\"sans-serif\" font-size=\"11\" lengthAdjust=\"spacingAndGlyphs\" textLength=\"80\" x=\"610\" y=\"250.1479\">m: MassValue</text><!--MD5=[ebbe1d658d1005bcc118a6aa81145e00]\n",
       "class E4--><rect fill=\"#FEFECE\" filter=\"url(#fcno0gl06m4lf)\" height=\"58.7422\" id=\"E4\" rx=\"10\" ry=\"10\" style=\"stroke: #A80036; stroke-width: 1.5;\" width=\"99\" x=\"731.5\" y=\"198\"/><ellipse cx=\"746.5\" cy=\"216.9688\" fill=\"#32CD32\" rx=\"11\" ry=\"11\" style=\"stroke: #A80036; stroke-width: 1.0;\"/><path d=\"M746.2969,212.6406 L746.2969,216.2656 L747.2969,216.2656 Q748.5,216.2656 748.9844,215.8594 Q749.4688,215.4531 749.4688,214.4531 Q749.4688,213.4531 748.9844,213.0469 Q748.5,212.6406 747.2969,212.6406 L746.2969,212.6406 Z M743.8438,210.5781 L747.2031,210.5781 Q749.7656,210.5781 750.8906,211.5 Q752.0156,212.4063 752.0156,214.4531 Q752.0156,216.5 750.8906,217.4219 Q749.7656,218.3281 747.2031,218.3281 L746.2969,218.3281 L746.2969,222.9688 L743.8438,222.9688 L743.8438,210.5781 Z \"/><text fill=\"#000000\" font-family=\"sans-serif\" font-size=\"12\" font-style=\"italic\" lengthAdjust=\"spacingAndGlyphs\" textLength=\"40\" x=\"774\" y=\"214.1387\">«part»</text><text fill=\"#000000\" font-family=\"sans-serif\" font-size=\"12\" lengthAdjust=\"spacingAndGlyphs\" textLength=\"67\" x=\"760.5\" y=\"228.1074\">trans: Part</text><line style=\"stroke: #A80036; stroke-width: 1.5;\" x1=\"732.5\" x2=\"829.5\" y1=\"235.9375\" y2=\"235.9375\"/><text fill=\"#000000\" font-family=\"sans-serif\" font-size=\"11\" lengthAdjust=\"spacingAndGlyphs\" textLength=\"80\" x=\"737.5\" y=\"250.1479\">m: MassValue</text><!--MD5=[96f4274e9e20536e775497830990834d]\n",
       "class E10--><rect fill=\"#FEFECE\" filter=\"url(#fcno0gl06m4lf)\" height=\"45.9375\" id=\"E10\" rx=\"10\" ry=\"10\" style=\"stroke: #A80036; stroke-width: 1.5;\" width=\"117\" x=\"580.5\" y=\"66.5\"/><ellipse cx=\"595.5\" cy=\"85.4688\" fill=\"#FFA500\" rx=\"11\" ry=\"11\" style=\"stroke: #A80036; stroke-width: 1.0;\"/><path d=\"M591.375,87.3906 L591.375,79.5781 L593.8281,79.5781 L593.8281,88.0156 Q593.8281,88.9375 594.2969,89.4688 Q594.7813,90 595.6094,90 Q596.4531,90 596.9219,89.4688 Q597.3906,88.9375 597.3906,88.0156 L597.3906,79.5781 L599.8438,79.5781 L599.8438,87.3906 Q599.8438,89.9219 598.8438,91.0625 Q597.8438,92.2031 595.6094,92.2031 Q593.3906,92.2031 592.375,91.0625 Q591.375,89.9219 591.375,87.3906 Z \"/><text fill=\"#000000\" font-family=\"sans-serif\" font-size=\"12\" font-style=\"italic\" lengthAdjust=\"spacingAndGlyphs\" textLength=\"82\" x=\"611\" y=\"82.6387\">«calculation»</text><text fill=\"#000000\" font-family=\"sans-serif\" font-size=\"12\" lengthAdjust=\"spacingAndGlyphs\" textLength=\"85\" x=\"609.5\" y=\"96.6074\">ms: MassSum</text><line style=\"stroke: #A80036; stroke-width: 1.5;\" x1=\"581.5\" x2=\"696.5\" y1=\"104.4375\" y2=\"104.4375\"/><!--MD5=[bee11217b2f71d958a27249dc326068c]\n",
       "class E14--><rect fill=\"#FEFECE\" filter=\"url(#fcno0gl06m4lf)\" height=\"97.1563\" id=\"E14\" rx=\"10\" ry=\"10\" style=\"stroke: #A80036; stroke-width: 1.5;\" width=\"374\" x=\"32\" y=\"41\"/><ellipse cx=\"168.25\" cy=\"59.9688\" fill=\"#FFA500\" rx=\"11\" ry=\"11\" style=\"stroke: #A80036; stroke-width: 1.0;\"/><path d=\"M164.125,61.8906 L164.125,54.0781 L166.5781,54.0781 L166.5781,62.5156 Q166.5781,63.4375 167.0469,63.9688 Q167.5313,64.5 168.3594,64.5 Q169.2031,64.5 169.6719,63.9688 Q170.1406,63.4375 170.1406,62.5156 L170.1406,54.0781 L172.5938,54.0781 L172.5938,61.8906 Q172.5938,64.4219 171.5938,65.5625 Q170.5938,66.7031 168.3594,66.7031 Q166.1406,66.7031 165.125,65.5625 Q164.125,64.4219 164.125,61.8906 Z \"/><text fill=\"#000000\" font-family=\"sans-serif\" font-size=\"12\" font-style=\"italic\" lengthAdjust=\"spacingAndGlyphs\" textLength=\"82\" x=\"194.25\" y=\"57.1387\">«calculation»</text><text fill=\"#000000\" font-family=\"sans-serif\" font-size=\"12\" lengthAdjust=\"spacingAndGlyphs\" textLength=\"93\" x=\"188.75\" y=\"71.1074\">ms1: MassSum</text><line style=\"stroke: #A80036; stroke-width: 1.5;\" x1=\"33\" x2=\"405\" y1=\"78.9375\" y2=\"78.9375\"/><text fill=\"#000000\" font-family=\"sans-serif\" font-size=\"11\" lengthAdjust=\"spacingAndGlyphs\" textLength=\"358\" x=\"38\" y=\"93.1479\">partMasses: MassValue= {vehicle::eng::m, vehicle::trans::m};</text><text fill=\"#000000\" font-family=\"sans-serif\" font-size=\"11\" font-style=\"italic\" lengthAdjust=\"spacingAndGlyphs\" textLength=\"153\" x=\"38\" y=\"105.9526\">:&gt;&gt;MassSum::partMasses</text><text fill=\"#000000\" font-family=\"sans-serif\" font-size=\"11\" lengthAdjust=\"spacingAndGlyphs\" textLength=\"199\" x=\"38\" y=\"118.7573\">totalMass: MassValue= vehicle::m;</text><text fill=\"#000000\" font-family=\"sans-serif\" font-size=\"11\" font-style=\"italic\" lengthAdjust=\"spacingAndGlyphs\" textLength=\"141\" x=\"38\" y=\"131.562\">:&gt;&gt;MassSum::totalMass</text><text fill=\"#000000\" font-family=\"sans-serif\" font-size=\"14\" lengthAdjust=\"spacingAndGlyphs\" textLength=\"80\" x=\"407\" y=\"68.1982\">partMasses</text><rect fill=\"#A80036\" height=\"12\" style=\"stroke: #FEFECE; stroke-width: 1.5;\" width=\"12\" x=\"441\" y=\"83.5\"/><text fill=\"#000000\" font-family=\"sans-serif\" font-size=\"14\" lengthAdjust=\"spacingAndGlyphs\" textLength=\"66\" x=\"433\" y=\"402.7151\">totalMass</text><rect fill=\"#A80036\" height=\"12\" style=\"stroke: #FEFECE; stroke-width: 1.5;\" width=\"12\" x=\"460\" y=\"377.72\"/><text fill=\"#000000\" font-family=\"sans-serif\" font-size=\"14\" lengthAdjust=\"spacingAndGlyphs\" textLength=\"75\" x=\"501.5\" y=\"68.1982\">$collection</text><rect fill=\"#A80036\" height=\"12\" style=\"stroke: #FEFECE; stroke-width: 1.5;\" width=\"12\" x=\"533\" y=\"83.5\"/><text fill=\"#000000\" font-family=\"sans-serif\" font-size=\"14\" lengthAdjust=\"spacingAndGlyphs\" textLength=\"48\" x=\"489\" y=\"402.7151\">$result</text><rect fill=\"#A80036\" height=\"12\" style=\"stroke: #FEFECE; stroke-width: 1.5;\" width=\"12\" x=\"507\" y=\"377.72\"/><text fill=\"#000000\" font-family=\"sans-serif\" font-size=\"14\" lengthAdjust=\"spacingAndGlyphs\" textLength=\"80\" x=\"876\" y=\"68.1982\">partMasses</text><rect fill=\"#A80036\" height=\"12\" style=\"stroke: #FEFECE; stroke-width: 1.5;\" width=\"12\" x=\"910\" y=\"83.5\"/><text fill=\"#000000\" font-family=\"sans-serif\" font-size=\"14\" lengthAdjust=\"spacingAndGlyphs\" textLength=\"66\" x=\"883\" y=\"402.7151\">totalMass</text><rect fill=\"#A80036\" height=\"12\" style=\"stroke: #FEFECE; stroke-width: 1.5;\" width=\"12\" x=\"910\" y=\"377.72\"/><!--MD5=[209b3feb70ccb6233bfe1053d122c12c]\n",
       "reverse link E2 to E3--><path d=\"M748.87,128.35 C726.81,150.25 699.49,177.38 679.15,197.56 \" fill=\"none\" id=\"E2&lt;-E3\" style=\"stroke: #A80036; stroke-width: 1.0;\"/><polygon fill=\"#A80036\" points=\"758.28,119.01,751.2035,120.3967,749.7618,127.4623,756.8383,126.0755,758.28,119.01\" style=\"stroke: #A80036; stroke-width: 1.0;\"/><!--MD5=[9618e71518536f8baf3342ff6fdab317]\n",
       "reverse link E2 to E4--><path d=\"M785.16,132.23 C784.23,153.39 783.12,178.55 782.28,197.56 \" fill=\"none\" id=\"E2&lt;-E4\" style=\"stroke: #A80036; stroke-width: 1.0;\"/><polygon fill=\"#A80036\" points=\"785.74,119.01,781.4801,124.8284,785.2125,130.9984,789.4724,125.18,785.74,119.01\" style=\"stroke: #A80036; stroke-width: 1.0;\"/><!--MD5=[1c0b9414cc86e0744215edee6abd8926]\n",
       "link E7 to E9--><path d=\"M472.24,381.65 C483.81,378.39 495.38,378.41 506.95,381.7 \" fill=\"none\" id=\"E7-E9\" style=\"stroke: #FF0000; stroke-width: 5.0;\"/><!--MD5=[ec5e0a54482b142abcecfe541d624bff]\n",
       "link E10 to E5--><path d=\"M615.54,112.65 C607.4525,120.29 597.8344,129.375 587.6103,139.0319 C582.4983,143.8603 577.2348,148.8317 571.9354,153.837 C569.2856,156.3396 566.627,158.8506 563.9738,161.3565 C562.6472,162.6095 561.3219,163.8611 559.9999,165.1098 C559.3388,165.7341 558.6786,166.3577 558.0194,166.9803 C557.6898,167.2916 557.3604,167.6026 557.0313,167.9134 \" fill=\"none\" id=\"E10-&gt;E5\" style=\"stroke: #A80036; stroke-width: 1.0;\"/><polygon fill=\"#FFFFFF\" points=\"557.0313,167.9134,566.038,149.7784,575.6509,159.9565,557.0313,167.9134\" style=\"stroke: #A80036; stroke-width: 1.0;\"/><ellipse cx=\"571.5552\" cy=\"147.3186\" fill=\"#A80036\" rx=\"2\" ry=\"2\" style=\"stroke: #A80036; stroke-width: 1.0;\"/><ellipse cx=\"578.4215\" cy=\"154.5887\" fill=\"#A80036\" rx=\"2\" ry=\"2\" style=\"stroke: #A80036; stroke-width: 1.0;\"/><!--MD5=[111e5536516ee1ad7d4266f589654f03]\n",
       "link E14 to E5--><path d=\"M315.53,138.07 C345.22,152.7 377.735,168.72 406.835,183.0575 C414.11,186.6419 421.1716,190.1211 427.9222,193.4471 C428.1331,193.5511 428.3438,193.6549 428.5541,193.7585 \" fill=\"none\" id=\"E14-&gt;E5\" style=\"stroke: #A80036; stroke-width: 1.0;\"/><polygon fill=\"#FFFFFF\" points=\"428.5541,193.7585,408.4168,191.6403,414.6044,179.0819,428.5541,193.7585\" style=\"stroke: #A80036; stroke-width: 1.0;\"/><ellipse cx=\"404.1877\" cy=\"187.327\" fill=\"#A80036\" rx=\"2\" ry=\"2\" style=\"stroke: #A80036; stroke-width: 1.0;\"/><ellipse cx=\"408.6074\" cy=\"178.3567\" fill=\"#A80036\" rx=\"2\" ry=\"2\" style=\"stroke: #A80036; stroke-width: 1.0;\"/><!--MD5=[6e3f51e3016c2a300e43f1b48112a9c4]\n",
       "@startuml\r\n",
       " \r\n",
       "package \"CalculationExample\" as E1   {\r\n",
       "comp usage \"vehicle: Part\" as E2  << (P,limegreen) part>> {\r\n",
       "m: MassValue\r\n",
       "}\r\n",
       "comp usage \"eng: Part\" as E3  << (P,limegreen) part>> {\r\n",
       "m: MassValue\r\n",
       "}\r\n",
       "comp usage \"trans: Part\" as E4  << (P,limegreen) part>> {\r\n",
       "m: MassValue\r\n",
       "}\r\n",
       "rec def \"MassSum\" as E5 {\r\n",
       "portin \"partMasses\" as E6  \r\n",
       "portout \"totalMass\" as E7  \r\n",
       "portin \"$collection\" as E8  \r\n",
       "portout \"$result\" as E9  \r\n",
       "}\r\n",
       "\r\n",
       "comp usage \"ms: MassSum\" as E10  <<(U,orange)calculation>> {\r\n",
       "}\r\n",
       "rec def \"MassSum1\" as E11 {\r\n",
       "portin \"partMasses\" as E12  \r\n",
       "portout \"totalMass\" as E13  \r\n",
       "}\r\n",
       "\r\n",
       "comp usage \"ms1: MassSum\" as E14  <<(U,orange)calculation>> {\r\n",
       "partMasses: MassValue= {vehicle::eng::m, vehicle::trans::m}; \\n//:>>MassSum::partMasses// \r\n",
       "totalMass: MassValue= vehicle::m; \\n//:>>MassSum::totalMass// \r\n",
       "}\r\n",
       "E2 *- - E3\r\n",
       "E2 *- - E4\r\n",
       "E7 -[thickness=5,#red]- E9\r\n",
       "E10 - -:|> E5\r\n",
       "E14 - -:|> E5\r\n",
       "}\r\n",
       "@enduml\r\n",
       "\n",
       "PlantUML version 1.2020.13(Sat Jun 13 12:26:38 UTC 2020)\n",
       "(EPL source distribution)\n",
       "Java Runtime: OpenJDK Runtime Environment\n",
       "JVM: OpenJDK 64-Bit Server VM\n",
       "Default Encoding: UTF-8\n",
       "Language: en\n",
       "Country: null\n",
       "--></g></svg>"
      ]
     },
     "execution_count": 30,
     "metadata": {},
     "output_type": "execute_result"
    }
   ],
   "source": [
    "%viz --style=\"PLANTUML\" --view=\"Default\" \"CalculationExample\""
   ]
  },
  {
   "cell_type": "code",
   "execution_count": 31,
   "id": "interstate-hearing",
   "metadata": {
    "execution": {
     "iopub.execute_input": "2021-03-26T09:44:28.772250Z",
     "iopub.status.busy": "2021-03-26T09:44:28.771698Z",
     "iopub.status.idle": "2021-03-26T09:44:28.859270Z",
     "shell.execute_reply": "2021-03-26T09:44:28.857921Z"
    }
   },
   "outputs": [
    {
     "data": {
      "image/svg+xml": [
       "<?xml version=\"1.0\" encoding=\"UTF-8\" standalone=\"no\"?><svg xmlns=\"http://www.w3.org/2000/svg\" xmlns:xlink=\"http://www.w3.org/1999/xlink\" contentScriptType=\"application/ecmascript\" contentStyleType=\"text/css\" height=\"285px\" preserveAspectRatio=\"none\" style=\"width:1029px;height:285px;\" version=\"1.1\" viewBox=\"0 0 1029 285\" width=\"1029px\" zoomAndPan=\"magnify\"><defs><filter height=\"300%\" id=\"f7l9nltuhdims\" width=\"300%\" x=\"-1\" y=\"-1\"><feGaussianBlur result=\"blurOut\" stdDeviation=\"2.0\"/><feColorMatrix in=\"blurOut\" result=\"blurOut2\" type=\"matrix\" values=\"0 0 0 0 0 0 0 0 0 0 0 0 0 0 0 0 0 0 .4 0\"/><feOffset dx=\"4.0\" dy=\"4.0\" in=\"blurOut2\" result=\"blurOut3\"/><feBlend in=\"SourceGraphic\" in2=\"blurOut3\" mode=\"normal\"/></filter></defs><g><!--MD5=[fbc87193dbaf4d95561dea2c320d4a47]\n",
       "cluster E1--><polygon fill=\"#FFFFFF\" filter=\"url(#f7l9nltuhdims)\" points=\"16,6,173,6,180,28.2969,1007,28.2969,1007,273,16,273,16,6\" style=\"stroke: #000000; stroke-width: 1.5;\"/><line style=\"stroke: #000000; stroke-width: 1.5;\" x1=\"16\" x2=\"180\" y1=\"28.2969\" y2=\"28.2969\"/><text fill=\"#000000\" font-family=\"sans-serif\" font-size=\"14\" font-weight=\"bold\" lengthAdjust=\"spacingAndGlyphs\" textLength=\"151\" x=\"20\" y=\"20.9951\">CalculationExample</text><!--MD5=[b4997ac47864f28c2f74865a473b2911]\n",
       "class E2--><rect fill=\"#FEFECE\" filter=\"url(#f7l9nltuhdims)\" height=\"58.7422\" id=\"E2\" rx=\"10\" ry=\"10\" style=\"stroke: #A80036; stroke-width: 1.5;\" width=\"109\" x=\"881.5\" y=\"60\"/><ellipse cx=\"896.5\" cy=\"78.9688\" fill=\"#32CD32\" rx=\"11\" ry=\"11\" style=\"stroke: #A80036; stroke-width: 1.0;\"/><path d=\"M896.2969,74.6406 L896.2969,78.2656 L897.2969,78.2656 Q898.5,78.2656 898.9844,77.8594 Q899.4688,77.4531 899.4688,76.4531 Q899.4688,75.4531 898.9844,75.0469 Q898.5,74.6406 897.2969,74.6406 L896.2969,74.6406 Z M893.8438,72.5781 L897.2031,72.5781 Q899.7656,72.5781 900.8906,73.5 Q902.0156,74.4063 902.0156,76.4531 Q902.0156,78.5 900.8906,79.4219 Q899.7656,80.3281 897.2031,80.3281 L896.2969,80.3281 L896.2969,84.9688 L893.8438,84.9688 L893.8438,72.5781 Z \"/><text fill=\"#000000\" font-family=\"sans-serif\" font-size=\"12\" font-style=\"italic\" lengthAdjust=\"spacingAndGlyphs\" textLength=\"40\" x=\"929\" y=\"76.1387\">«part»</text><text fill=\"#000000\" font-family=\"sans-serif\" font-size=\"12\" lengthAdjust=\"spacingAndGlyphs\" textLength=\"77\" x=\"910.5\" y=\"90.1074\">vehicle: Part</text><line style=\"stroke: #A80036; stroke-width: 1.5;\" x1=\"882.5\" x2=\"989.5\" y1=\"97.9375\" y2=\"97.9375\"/><text fill=\"#000000\" font-family=\"sans-serif\" font-size=\"11\" lengthAdjust=\"spacingAndGlyphs\" textLength=\"80\" x=\"887.5\" y=\"112.1479\">m: MassValue</text><!--MD5=[09b614a08d8cba4a07c9adeb5e0fee81]\n",
       "class E3--><rect fill=\"#FEFECE\" filter=\"url(#f7l9nltuhdims)\" height=\"58.7422\" id=\"E3\" rx=\"10\" ry=\"10\" style=\"stroke: #A80036; stroke-width: 1.5;\" width=\"92\" x=\"761\" y=\"198\"/><ellipse cx=\"776.9\" cy=\"216.9688\" fill=\"#32CD32\" rx=\"11\" ry=\"11\" style=\"stroke: #A80036; stroke-width: 1.0;\"/><path d=\"M776.6969,212.6406 L776.6969,216.2656 L777.6969,216.2656 Q778.9,216.2656 779.3844,215.8594 Q779.8688,215.4531 779.8688,214.4531 Q779.8688,213.4531 779.3844,213.0469 Q778.9,212.6406 777.6969,212.6406 L776.6969,212.6406 Z M774.2438,210.5781 L777.6031,210.5781 Q780.1656,210.5781 781.2906,211.5 Q782.4156,212.4063 782.4156,214.4531 Q782.4156,216.5 781.2906,217.4219 Q780.1656,218.3281 777.6031,218.3281 L776.6969,218.3281 L776.6969,222.9688 L774.2438,222.9688 L774.2438,210.5781 Z \"/><text fill=\"#000000\" font-family=\"sans-serif\" font-size=\"12\" font-style=\"italic\" lengthAdjust=\"spacingAndGlyphs\" textLength=\"40\" x=\"800.1\" y=\"214.1387\">«part»</text><text fill=\"#000000\" font-family=\"sans-serif\" font-size=\"12\" lengthAdjust=\"spacingAndGlyphs\" textLength=\"58\" x=\"791.1\" y=\"228.1074\">eng: Part</text><line style=\"stroke: #A80036; stroke-width: 1.5;\" x1=\"762\" x2=\"852\" y1=\"235.9375\" y2=\"235.9375\"/><text fill=\"#000000\" font-family=\"sans-serif\" font-size=\"11\" lengthAdjust=\"spacingAndGlyphs\" textLength=\"80\" x=\"767\" y=\"250.1479\">m: MassValue</text><!--MD5=[ebbe1d658d1005bcc118a6aa81145e00]\n",
       "class E4--><rect fill=\"#FEFECE\" filter=\"url(#f7l9nltuhdims)\" height=\"58.7422\" id=\"E4\" rx=\"10\" ry=\"10\" style=\"stroke: #A80036; stroke-width: 1.5;\" width=\"99\" x=\"888.5\" y=\"198\"/><ellipse cx=\"903.5\" cy=\"216.9688\" fill=\"#32CD32\" rx=\"11\" ry=\"11\" style=\"stroke: #A80036; stroke-width: 1.0;\"/><path d=\"M903.2969,212.6406 L903.2969,216.2656 L904.2969,216.2656 Q905.5,216.2656 905.9844,215.8594 Q906.4688,215.4531 906.4688,214.4531 Q906.4688,213.4531 905.9844,213.0469 Q905.5,212.6406 904.2969,212.6406 L903.2969,212.6406 Z M900.8438,210.5781 L904.2031,210.5781 Q906.7656,210.5781 907.8906,211.5 Q909.0156,212.4063 909.0156,214.4531 Q909.0156,216.5 907.8906,217.4219 Q906.7656,218.3281 904.2031,218.3281 L903.2969,218.3281 L903.2969,222.9688 L900.8438,222.9688 L900.8438,210.5781 Z \"/><text fill=\"#000000\" font-family=\"sans-serif\" font-size=\"12\" font-style=\"italic\" lengthAdjust=\"spacingAndGlyphs\" textLength=\"40\" x=\"931\" y=\"214.1387\">«part»</text><text fill=\"#000000\" font-family=\"sans-serif\" font-size=\"12\" lengthAdjust=\"spacingAndGlyphs\" textLength=\"67\" x=\"917.5\" y=\"228.1074\">trans: Part</text><line style=\"stroke: #A80036; stroke-width: 1.5;\" x1=\"889.5\" x2=\"986.5\" y1=\"235.9375\" y2=\"235.9375\"/><text fill=\"#000000\" font-family=\"sans-serif\" font-size=\"11\" lengthAdjust=\"spacingAndGlyphs\" textLength=\"80\" x=\"894.5\" y=\"250.1479\">m: MassValue</text><!--MD5=[270fce915f116d4de14055a7c1d9a0f3]\n",
       "class E5--><rect fill=\"#FEFECE\" filter=\"url(#f7l9nltuhdims)\" height=\"45.9375\" id=\"E5\" style=\"stroke: #A80036; stroke-width: 1.5;\" width=\"134\" x=\"372\" y=\"204.5\"/><ellipse cx=\"387\" cy=\"223.4688\" fill=\"#A52A2A\" rx=\"11\" ry=\"11\" style=\"stroke: #A80036; stroke-width: 1.0;\"/><path d=\"M386.5938,219.2813 L386.5938,227.2656 L387.25,227.2656 Q388.6875,227.2656 389.2969,226.3594 Q389.9219,225.4375 389.9219,223.2656 Q389.9219,221.0938 389.2969,220.1875 Q388.6875,219.2813 387.25,219.2813 L386.5938,219.2813 Z M384.1406,217.0781 L386.7656,217.0781 Q389.7969,217.0781 391.125,218.5313 Q392.4688,219.9688 392.4688,223.2656 Q392.4688,226.5625 391.125,228.0156 Q389.7969,229.4688 386.7656,229.4688 L384.1406,229.4688 L384.1406,217.0781 Z \"/><text fill=\"#000000\" font-family=\"sans-serif\" font-size=\"12\" font-style=\"italic\" lengthAdjust=\"spacingAndGlyphs\" textLength=\"106\" x=\"399\" y=\"220.6387\">«calculation def»</text><text fill=\"#000000\" font-family=\"sans-serif\" font-size=\"12\" lengthAdjust=\"spacingAndGlyphs\" textLength=\"59\" x=\"422.5\" y=\"234.6074\">MassSum</text><line style=\"stroke: #A80036; stroke-width: 1.5;\" x1=\"373\" x2=\"505\" y1=\"242.4375\" y2=\"242.4375\"/><!--MD5=[60a26617385b1d2d0262a64233df1f8d]\n",
       "class E6--><rect fill=\"#FEFECE\" filter=\"url(#f7l9nltuhdims)\" height=\"45.9375\" id=\"E6\" rx=\"10\" ry=\"10\" style=\"stroke: #A80036; stroke-width: 1.5;\" width=\"117\" x=\"729.5\" y=\"66.5\"/><ellipse cx=\"744.5\" cy=\"85.4688\" fill=\"#FFA500\" rx=\"11\" ry=\"11\" style=\"stroke: #A80036; stroke-width: 1.0;\"/><path d=\"M740.375,87.3906 L740.375,79.5781 L742.8281,79.5781 L742.8281,88.0156 Q742.8281,88.9375 743.2969,89.4688 Q743.7813,90 744.6094,90 Q745.4531,90 745.9219,89.4688 Q746.3906,88.9375 746.3906,88.0156 L746.3906,79.5781 L748.8438,79.5781 L748.8438,87.3906 Q748.8438,89.9219 747.8438,91.0625 Q746.8438,92.2031 744.6094,92.2031 Q742.3906,92.2031 741.375,91.0625 Q740.375,89.9219 740.375,87.3906 Z \"/><text fill=\"#000000\" font-family=\"sans-serif\" font-size=\"12\" font-style=\"italic\" lengthAdjust=\"spacingAndGlyphs\" textLength=\"82\" x=\"760\" y=\"82.6387\">«calculation»</text><text fill=\"#000000\" font-family=\"sans-serif\" font-size=\"12\" lengthAdjust=\"spacingAndGlyphs\" textLength=\"85\" x=\"758.5\" y=\"96.6074\">ms: MassSum</text><line style=\"stroke: #A80036; stroke-width: 1.5;\" x1=\"730.5\" x2=\"845.5\" y1=\"104.4375\" y2=\"104.4375\"/><!--MD5=[2156ba9850f5573cc1fc38a6a4b2f02b]\n",
       "class E7--><rect fill=\"#FEFECE\" filter=\"url(#f7l9nltuhdims)\" height=\"71.5469\" id=\"E7\" style=\"stroke: #A80036; stroke-width: 1.5;\" width=\"253\" x=\"441.5\" y=\"53.5\"/><ellipse cx=\"512.75\" cy=\"72.4688\" fill=\"#A52A2A\" rx=\"11\" ry=\"11\" style=\"stroke: #A80036; stroke-width: 1.0;\"/><path d=\"M512.3438,68.2813 L512.3438,76.2656 L513,76.2656 Q514.4375,76.2656 515.0469,75.3594 Q515.6719,74.4375 515.6719,72.2656 Q515.6719,70.0938 515.0469,69.1875 Q514.4375,68.2813 513,68.2813 L512.3438,68.2813 Z M509.8906,66.0781 L512.5156,66.0781 Q515.5469,66.0781 516.875,67.5313 Q518.2188,68.9688 518.2188,72.2656 Q518.2188,75.5625 516.875,77.0156 Q515.5469,78.4688 512.5156,78.4688 L509.8906,78.4688 L509.8906,66.0781 Z \"/><text fill=\"#000000\" font-family=\"sans-serif\" font-size=\"12\" font-style=\"italic\" lengthAdjust=\"spacingAndGlyphs\" textLength=\"106\" x=\"531.25\" y=\"69.6387\">«calculation def»</text><text fill=\"#000000\" font-family=\"sans-serif\" font-size=\"12\" lengthAdjust=\"spacingAndGlyphs\" textLength=\"67\" x=\"550.75\" y=\"83.6074\">MassSum1</text><line style=\"stroke: #A80036; stroke-width: 1.5;\" x1=\"442.5\" x2=\"693.5\" y1=\"91.4375\" y2=\"91.4375\"/><text fill=\"#000000\" font-family=\"sans-serif\" font-size=\"11\" lengthAdjust=\"spacingAndGlyphs\" textLength=\"136\" x=\"447.5\" y=\"105.6479\">partMasses: MassValue</text><text fill=\"#000000\" font-family=\"sans-serif\" font-size=\"11\" lengthAdjust=\"spacingAndGlyphs\" textLength=\"241\" x=\"447.5\" y=\"118.4526\">totalMass: MassValue= sum(partMasses);</text><!--MD5=[b9389687b975829384b498ac4b7476b2]\n",
       "class E8--><rect fill=\"#FEFECE\" filter=\"url(#f7l9nltuhdims)\" height=\"97.1563\" id=\"E8\" rx=\"10\" ry=\"10\" style=\"stroke: #A80036; stroke-width: 1.5;\" width=\"374\" x=\"32\" y=\"41\"/><ellipse cx=\"168.25\" cy=\"59.9688\" fill=\"#FFA500\" rx=\"11\" ry=\"11\" style=\"stroke: #A80036; stroke-width: 1.0;\"/><path d=\"M164.125,61.8906 L164.125,54.0781 L166.5781,54.0781 L166.5781,62.5156 Q166.5781,63.4375 167.0469,63.9688 Q167.5313,64.5 168.3594,64.5 Q169.2031,64.5 169.6719,63.9688 Q170.1406,63.4375 170.1406,62.5156 L170.1406,54.0781 L172.5938,54.0781 L172.5938,61.8906 Q172.5938,64.4219 171.5938,65.5625 Q170.5938,66.7031 168.3594,66.7031 Q166.1406,66.7031 165.125,65.5625 Q164.125,64.4219 164.125,61.8906 Z \"/><text fill=\"#000000\" font-family=\"sans-serif\" font-size=\"12\" font-style=\"italic\" lengthAdjust=\"spacingAndGlyphs\" textLength=\"82\" x=\"194.25\" y=\"57.1387\">«calculation»</text><text fill=\"#000000\" font-family=\"sans-serif\" font-size=\"12\" lengthAdjust=\"spacingAndGlyphs\" textLength=\"93\" x=\"188.75\" y=\"71.1074\">ms1: MassSum</text><line style=\"stroke: #A80036; stroke-width: 1.5;\" x1=\"33\" x2=\"405\" y1=\"78.9375\" y2=\"78.9375\"/><text fill=\"#000000\" font-family=\"sans-serif\" font-size=\"11\" lengthAdjust=\"spacingAndGlyphs\" textLength=\"358\" x=\"38\" y=\"93.1479\">partMasses: MassValue= {vehicle::eng::m, vehicle::trans::m};</text><text fill=\"#000000\" font-family=\"sans-serif\" font-size=\"11\" font-style=\"italic\" lengthAdjust=\"spacingAndGlyphs\" textLength=\"153\" x=\"38\" y=\"105.9526\">:&gt;&gt;MassSum::partMasses</text><text fill=\"#000000\" font-family=\"sans-serif\" font-size=\"11\" lengthAdjust=\"spacingAndGlyphs\" textLength=\"199\" x=\"38\" y=\"118.7573\">totalMass: MassValue= vehicle::m;</text><text fill=\"#000000\" font-family=\"sans-serif\" font-size=\"11\" font-style=\"italic\" lengthAdjust=\"spacingAndGlyphs\" textLength=\"141\" x=\"38\" y=\"131.562\">:&gt;&gt;MassSum::totalMass</text><!--MD5=[209b3feb70ccb6233bfe1053d122c12c]\n",
       "reverse link E2 to E3--><path d=\"M899.82,128.64 C879.1,150.49 853.51,177.47 834.45,197.56 \" fill=\"none\" id=\"E2&lt;-E3\" style=\"stroke: #A80036; stroke-width: 1.0;\"/><polygon fill=\"#A80036\" points=\"908.96,119.01,901.9288,120.6106,900.7019,127.7166,907.7332,126.116,908.96,119.01\" style=\"stroke: #A80036; stroke-width: 1.0;\"/><!--MD5=[9618e71518536f8baf3342ff6fdab317]\n",
       "reverse link E2 to E4--><path d=\"M936.61,132.23 C936.92,153.39 937.29,178.55 937.57,197.56 \" fill=\"none\" id=\"E2&lt;-E4\" style=\"stroke: #A80036; stroke-width: 1.0;\"/><polygon fill=\"#A80036\" points=\"936.42,119.01,932.5128,125.0708,936.6046,131.0086,940.5118,124.9478,936.42,119.01\" style=\"stroke: #A80036; stroke-width: 1.0;\"/><!--MD5=[25b190c987b1e74e5126d372c5a73af1]\n",
       "link E6 to E5--><path d=\"M756.44,112.65 C743.14,121.34 727.23,130.9 712,138 C651.77,166.07 580.2,188.91 525.45,204.35 \" fill=\"none\" id=\"E6-&gt;E5\" style=\"stroke: #A80036; stroke-width: 1.0;\"/><polygon fill=\"#FFFFFF\" points=\"506.09,209.7,522.5373,197.8896,526.2684,211.3833,506.09,209.7\" style=\"stroke: #A80036; stroke-width: 1.0;\"/><ellipse cx=\"528.5642\" cy=\"198.2982\" fill=\"#A80036\" rx=\"2\" ry=\"2\" style=\"stroke: #A80036; stroke-width: 1.0;\"/><ellipse cx=\"531.2292\" cy=\"207.9366\" fill=\"#A80036\" rx=\"2\" ry=\"2\" style=\"stroke: #A80036; stroke-width: 1.0;\"/><!--MD5=[1ccb2481ffa92f8d51a74ee30c51832a]\n",
       "link E8 to E5--><path d=\"M295.95,138.07 C325.79,156.51 359.21,177.17 386.24,193.88 \" fill=\"none\" id=\"E8-&gt;E5\" style=\"stroke: #A80036; stroke-width: 1.0;\"/><polygon fill=\"#FFFFFF\" points=\"403.39,204.49,383.5488,200.4492,390.913,188.5425,403.39,204.49\" style=\"stroke: #A80036; stroke-width: 1.0;\"/><ellipse cx=\"379.7531\" cy=\"195.7499\" fill=\"#A80036\" rx=\"2\" ry=\"2\" style=\"stroke: #A80036; stroke-width: 1.0;\"/><ellipse cx=\"385.0132\" cy=\"187.2452\" fill=\"#A80036\" rx=\"2\" ry=\"2\" style=\"stroke: #A80036; stroke-width: 1.0;\"/><!--MD5=[9946de965ca853d6975b4d28dc269109]\n",
       "@startuml\r\n",
       " \r\n",
       "package \"CalculationExample\" as E1   {\r\n",
       "comp usage \"vehicle: Part\" as E2  << (P,limegreen) part>> {\r\n",
       "m: MassValue\r\n",
       "}\r\n",
       "comp usage \"eng: Part\" as E3  << (P,limegreen) part>> {\r\n",
       "m: MassValue\r\n",
       "}\r\n",
       "comp usage \"trans: Part\" as E4  << (P,limegreen) part>> {\r\n",
       "m: MassValue\r\n",
       "}\r\n",
       "comp def \"MassSum\" as E5  <<(D,brown)calculation def>> {\r\n",
       "}\r\n",
       "comp usage \"ms: MassSum\" as E6  <<(U,orange)calculation>> {\r\n",
       "}\r\n",
       "comp def \"MassSum1\" as E7  <<(D,brown)calculation def>> {\r\n",
       "partMasses: MassValue\r\n",
       "totalMass: MassValue= sum(partMasses); \r\n",
       "}\r\n",
       "comp usage \"ms1: MassSum\" as E8  <<(U,orange)calculation>> {\r\n",
       "partMasses: MassValue= {vehicle::eng::m, vehicle::trans::m}; \\n//:>>MassSum::partMasses// \r\n",
       "totalMass: MassValue= vehicle::m; \\n//:>>MassSum::totalMass// \r\n",
       "}\r\n",
       "E2 *- - E3\r\n",
       "E2 *- - E4\r\n",
       "E6 - -:|> E5\r\n",
       "E8 - -:|> E5\r\n",
       "}\r\n",
       "@enduml\r\n",
       "\n",
       "PlantUML version 1.2020.13(Sat Jun 13 12:26:38 UTC 2020)\n",
       "(EPL source distribution)\n",
       "Java Runtime: OpenJDK Runtime Environment\n",
       "JVM: OpenJDK 64-Bit Server VM\n",
       "Default Encoding: UTF-8\n",
       "Language: en\n",
       "Country: null\n",
       "--></g></svg>"
      ]
     },
     "execution_count": 31,
     "metadata": {},
     "output_type": "execute_result"
    }
   ],
   "source": [
    "%viz --style=\"PLANTUML\" --view=\"Tree\" \"CalculationExample\""
   ]
  },
  {
   "cell_type": "code",
   "execution_count": 32,
   "id": "widespread-vertex",
   "metadata": {
    "execution": {
     "iopub.execute_input": "2021-03-26T09:44:28.911314Z",
     "iopub.status.busy": "2021-03-26T09:44:28.910623Z",
     "iopub.status.idle": "2021-03-26T09:44:28.915373Z",
     "shell.execute_reply": "2021-03-26T09:44:28.914975Z"
    }
   },
   "outputs": [
    {
     "data": {
      "text/plain": [
       "java.lang.IllegalArgumentException: Invalid View: State View candidates are: Default Tree StateMachine Interconnection Activity Sequence MIXED \n",
       "\tat org.omg.sysml.plantuml.SysML2PlantUMLSvc.setView(SysML2PlantUMLSvc.java:63)\n",
       "\tat org.omg.sysml.interactive.SysMLInteractive.viz(SysMLInteractive.java:286)\n",
       "\tat org.omg.sysml.jupyter.kernel.magic.Viz.viz(Viz.java:47)\n",
       "\tat jdk.internal.reflect.GeneratedMethodAccessor14.invoke(Unknown Source)\n",
       "\tat java.base/jdk.internal.reflect.DelegatingMethodAccessorImpl.invoke(DelegatingMethodAccessorImpl.java:43)\n",
       "\tat java.base/java.lang.reflect.Method.invoke(Method.java:568)\n",
       "\tat io.github.spencerpark.jupyter.kernel.magic.registry.Magics.invoke(Magics.java:89)\n",
       "\tat io.github.spencerpark.jupyter.kernel.magic.registry.Magics.access$000(Magics.java:8)\n",
       "\tat io.github.spencerpark.jupyter.kernel.magic.registry.Magics$LineReflectionMagicFunction.execute(Magics.java:149)\n",
       "\tat io.github.spencerpark.jupyter.kernel.magic.registry.Magics.applyLineMagic(Magics.java:26)\n",
       "\tat org.omg.sysml.jupyter.kernel.SysMLKernel.eval(SysMLKernel.java:76)\n",
       "\tat io.github.spencerpark.jupyter.kernel.BaseKernel.handleExecuteRequest(BaseKernel.java:334)\n",
       "\tat io.github.spencerpark.jupyter.channels.ShellChannel.lambda$bind$0(ShellChannel.java:64)\n",
       "\tat io.github.spencerpark.jupyter.channels.Loop.lambda$new$0(Loop.java:21)\n",
       "\tat io.github.spencerpark.jupyter.channels.Loop.run(Loop.java:78)\n"
      ]
     },
     "execution_count": 32,
     "metadata": {},
     "output_type": "execute_result"
    }
   ],
   "source": [
    "%viz --style=\"PLANTUML\" --view=\"State\" \"CalculationExample\""
   ]
  },
  {
   "cell_type": "code",
   "execution_count": 33,
   "id": "viral-grove",
   "metadata": {
    "execution": {
     "iopub.execute_input": "2021-03-26T09:44:28.968089Z",
     "iopub.status.busy": "2021-03-26T09:44:28.967227Z",
     "iopub.status.idle": "2021-03-26T09:44:29.006059Z",
     "shell.execute_reply": "2021-03-26T09:44:29.005415Z"
    }
   },
   "outputs": [
    {
     "data": {
      "image/svg+xml": [
       "<?xml version=\"1.0\" encoding=\"UTF-8\" standalone=\"no\"?><svg xmlns=\"http://www.w3.org/2000/svg\" xmlns:xlink=\"http://www.w3.org/1999/xlink\" contentScriptType=\"application/ecmascript\" contentStyleType=\"text/css\" height=\"253px\" preserveAspectRatio=\"none\" style=\"width:895px;height:253px;\" version=\"1.1\" viewBox=\"0 0 895 253\" width=\"895px\" zoomAndPan=\"magnify\"><defs><filter height=\"300%\" id=\"fgojdj4pgoosq\" width=\"300%\" x=\"-1\" y=\"-1\"><feGaussianBlur result=\"blurOut\" stdDeviation=\"2.0\"/><feColorMatrix in=\"blurOut\" result=\"blurOut2\" type=\"matrix\" values=\"0 0 0 0 0 0 0 0 0 0 0 0 0 0 0 0 0 0 .4 0\"/><feOffset dx=\"4.0\" dy=\"4.0\" in=\"blurOut2\" result=\"blurOut3\"/><feBlend in=\"SourceGraphic\" in2=\"blurOut3\" mode=\"normal\"/></filter></defs><g><!--MD5=[fbc87193dbaf4d95561dea2c320d4a47]\n",
       "cluster E1--><polygon fill=\"#FFFFFF\" filter=\"url(#fgojdj4pgoosq)\" points=\"16,6,173,6,180,28.2969,873,28.2969,873,241,16,241,16,6\" style=\"stroke: #000000; stroke-width: 1.5;\"/><line style=\"stroke: #000000; stroke-width: 1.5;\" x1=\"16\" x2=\"180\" y1=\"28.2969\" y2=\"28.2969\"/><text fill=\"#000000\" font-family=\"sans-serif\" font-size=\"14\" font-weight=\"bold\" lengthAdjust=\"spacingAndGlyphs\" textLength=\"151\" x=\"20\" y=\"20.9951\">CalculationExample</text><!--MD5=[e4f7fae6ed58524ba242bb0b0d3be6b7]\n",
       "cluster E2--><rect fill=\"#FEFECE\" filter=\"url(#fgojdj4pgoosq)\" height=\"168\" rx=\"12.5\" ry=\"12.5\" style=\"stroke: #000000; stroke-width: 1.5;\" width=\"495\" x=\"354\" y=\"49\"/><rect fill=\"#FFFFFF\" height=\"135.7031\" rx=\"12.5\" ry=\"12.5\" style=\"stroke: #FFFFFF; stroke-width: 1.0;\" width=\"489\" x=\"357\" y=\"78.2969\"/><line style=\"stroke: #000000; stroke-width: 1.5;\" x1=\"354\" x2=\"849\" y1=\"75.2969\" y2=\"75.2969\"/><text fill=\"#000000\" font-family=\"sans-serif\" font-size=\"14\" lengthAdjust=\"spacingAndGlyphs\" textLength=\"84\" x=\"559.5\" y=\"65.9951\">vehicle: Part</text><!--MD5=[f6df4d0ebaf0b5dfb2ced0ae5af7c670]\n",
       "cluster E4--><rect fill=\"#FEFECE\" filter=\"url(#fgojdj4pgoosq)\" height=\"101\" rx=\"12.5\" ry=\"12.5\" style=\"stroke: #000000; stroke-width: 1.5;\" width=\"148\" x=\"677\" y=\"92\"/><rect fill=\"#FFFFFF\" height=\"68.7031\" rx=\"12.5\" ry=\"12.5\" style=\"stroke: #FFFFFF; stroke-width: 1.0;\" width=\"142\" x=\"680\" y=\"121.2969\"/><line style=\"stroke: #000000; stroke-width: 1.5;\" x1=\"677\" x2=\"825\" y1=\"118.2969\" y2=\"118.2969\"/><text fill=\"#000000\" font-family=\"sans-serif\" font-size=\"14\" lengthAdjust=\"spacingAndGlyphs\" textLength=\"63\" x=\"719.5\" y=\"108.9951\">eng: Part</text><!--MD5=[14e3b0961a2654348d326746436168a1]\n",
       "cluster E6--><rect fill=\"#FEFECE\" filter=\"url(#fgojdj4pgoosq)\" height=\"101\" rx=\"12.5\" ry=\"12.5\" style=\"stroke: #000000; stroke-width: 1.5;\" width=\"148\" x=\"505\" y=\"92\"/><rect fill=\"#FFFFFF\" height=\"68.7031\" rx=\"12.5\" ry=\"12.5\" style=\"stroke: #FFFFFF; stroke-width: 1.0;\" width=\"142\" x=\"508\" y=\"121.2969\"/><line style=\"stroke: #000000; stroke-width: 1.5;\" x1=\"505\" x2=\"653\" y1=\"118.2969\" y2=\"118.2969\"/><text fill=\"#000000\" font-family=\"sans-serif\" font-size=\"14\" lengthAdjust=\"spacingAndGlyphs\" textLength=\"71\" x=\"543.5\" y=\"108.9951\">trans: Part</text><!--MD5=[b9389687b975829384b498ac4b7476b2]\n",
       "class E8--><rect fill=\"#FEFECE\" filter=\"url(#fgojdj4pgoosq)\" height=\"53.9375\" id=\"E8\" style=\"stroke: #A80036; stroke-width: 1.5;\" width=\"134\" x=\"201\" y=\"125\"/><ellipse cx=\"216\" cy=\"143.9688\" fill=\"#ADD1B2\" rx=\"11\" ry=\"11\" style=\"stroke: #A80036; stroke-width: 1.0;\"/><path d=\"M218.9688,149.6094 Q218.3906,149.9063 217.75,150.0469 Q217.1094,150.2031 216.4063,150.2031 Q213.9063,150.2031 212.5781,148.5625 Q211.2656,146.9063 211.2656,143.7813 Q211.2656,140.6563 212.5781,139 Q213.9063,137.3438 216.4063,137.3438 Q217.1094,137.3438 217.75,137.5 Q218.4063,137.6563 218.9688,137.9531 L218.9688,140.6719 Q218.3438,140.0938 217.75,139.8281 Q217.1563,139.5469 216.5313,139.5469 Q215.1875,139.5469 214.5,140.625 Q213.8125,141.6875 213.8125,143.7813 Q213.8125,145.875 214.5,146.9531 Q215.1875,148.0156 216.5313,148.0156 Q217.1563,148.0156 217.75,147.75 Q218.3438,147.4688 218.9688,146.8906 L218.9688,149.6094 Z \"/><text fill=\"#000000\" font-family=\"sans-serif\" font-size=\"12\" font-style=\"italic\" lengthAdjust=\"spacingAndGlyphs\" textLength=\"106\" x=\"228\" y=\"141.1387\">«calculation def»</text><text fill=\"#000000\" font-family=\"sans-serif\" font-size=\"12\" lengthAdjust=\"spacingAndGlyphs\" textLength=\"59\" x=\"251.5\" y=\"155.1074\">MassSum</text><line style=\"stroke: #A80036; stroke-width: 1.5;\" x1=\"202\" x2=\"334\" y1=\"162.9375\" y2=\"162.9375\"/><line style=\"stroke: #A80036; stroke-width: 1.5;\" x1=\"202\" x2=\"334\" y1=\"170.9375\" y2=\"170.9375\"/><!--MD5=[fd4143e9d270a159db93a4ea2a975926]\n",
       "class E9--><rect fill=\"#FEFECE\" filter=\"url(#fgojdj4pgoosq)\" height=\"53.9375\" id=\"E9\" style=\"stroke: #A80036; stroke-width: 1.5;\" width=\"134\" x=\"32\" y=\"125\"/><ellipse cx=\"47\" cy=\"143.9688\" fill=\"#ADD1B2\" rx=\"11\" ry=\"11\" style=\"stroke: #A80036; stroke-width: 1.0;\"/><path d=\"M49.9688,149.6094 Q49.3906,149.9063 48.75,150.0469 Q48.1094,150.2031 47.4063,150.2031 Q44.9063,150.2031 43.5781,148.5625 Q42.2656,146.9063 42.2656,143.7813 Q42.2656,140.6563 43.5781,139 Q44.9063,137.3438 47.4063,137.3438 Q48.1094,137.3438 48.75,137.5 Q49.4063,137.6563 49.9688,137.9531 L49.9688,140.6719 Q49.3438,140.0938 48.75,139.8281 Q48.1563,139.5469 47.5313,139.5469 Q46.1875,139.5469 45.5,140.625 Q44.8125,141.6875 44.8125,143.7813 Q44.8125,145.875 45.5,146.9531 Q46.1875,148.0156 47.5313,148.0156 Q48.1563,148.0156 48.75,147.75 Q49.3438,147.4688 49.9688,146.8906 L49.9688,149.6094 Z \"/><text fill=\"#000000\" font-family=\"sans-serif\" font-size=\"12\" font-style=\"italic\" lengthAdjust=\"spacingAndGlyphs\" textLength=\"106\" x=\"59\" y=\"141.1387\">«calculation def»</text><text fill=\"#000000\" font-family=\"sans-serif\" font-size=\"12\" lengthAdjust=\"spacingAndGlyphs\" textLength=\"67\" x=\"78.5\" y=\"155.1074\">MassSum1</text><line style=\"stroke: #A80036; stroke-width: 1.5;\" x1=\"33\" x2=\"165\" y1=\"162.9375\" y2=\"162.9375\"/><line style=\"stroke: #A80036; stroke-width: 1.5;\" x1=\"33\" x2=\"165\" y1=\"170.9375\" y2=\"170.9375\"/><g id=\"E1.E2.E3\"><rect fill=\"#FFFFFF\" filter=\"url(#fgojdj4pgoosq)\" height=\"50\" rx=\"12.5\" ry=\"12.5\" style=\"stroke: #A80036; stroke-width: 1.5;\" width=\"116\" x=\"370\" y=\"127\"/><line style=\"stroke: #A80036; stroke-width: 1.5;\" x1=\"370\" x2=\"486\" y1=\"153.2969\" y2=\"153.2969\"/><text fill=\"#000000\" font-family=\"sans-serif\" font-size=\"14\" lengthAdjust=\"spacingAndGlyphs\" textLength=\"96\" x=\"380\" y=\"144.9951\">m: MassValue</text></g><g id=\"E1.E2.E4.E5\"><rect fill=\"#FFFFFF\" filter=\"url(#fgojdj4pgoosq)\" height=\"50\" rx=\"12.5\" ry=\"12.5\" style=\"stroke: #A80036; stroke-width: 1.5;\" width=\"116\" x=\"693\" y=\"127\"/><line style=\"stroke: #A80036; stroke-width: 1.5;\" x1=\"693\" x2=\"809\" y1=\"153.2969\" y2=\"153.2969\"/><text fill=\"#000000\" font-family=\"sans-serif\" font-size=\"14\" lengthAdjust=\"spacingAndGlyphs\" textLength=\"96\" x=\"703\" y=\"144.9951\">m: MassValue</text></g><g id=\"E1.E2.E6.E7\"><rect fill=\"#FFFFFF\" filter=\"url(#fgojdj4pgoosq)\" height=\"50\" rx=\"12.5\" ry=\"12.5\" style=\"stroke: #A80036; stroke-width: 1.5;\" width=\"116\" x=\"521\" y=\"127\"/><line style=\"stroke: #A80036; stroke-width: 1.5;\" x1=\"521\" x2=\"637\" y1=\"153.2969\" y2=\"153.2969\"/><text fill=\"#000000\" font-family=\"sans-serif\" font-size=\"14\" lengthAdjust=\"spacingAndGlyphs\" textLength=\"96\" x=\"531\" y=\"144.9951\">m: MassValue</text></g><!--MD5=[a8f79faae957afbbfeeb4cfc0dcdf2fa]\n",
       "@startuml\r\n",
       "skinparam ranksep 8\r\n",
       "skinparam rectangle {\r\n",
       " backgroundColor<<block>> LightGreen\r\n",
       "}\r\n",
       " \r\n",
       "package \"CalculationExample\" as E1   {\r\n",
       "rec usage \"vehicle: Part\" as E2  {\r\n",
       "rec usage \"m: MassValue\" as E3  <<attribute>> {\r\n",
       "}\r\n",
       "rec usage \"eng: Part\" as E4  {\r\n",
       "rec usage \"m: MassValue\" as E5  <<attribute>> {\r\n",
       "}\r\n",
       "}\r\n",
       "rec usage \"trans: Part\" as E6  {\r\n",
       "rec usage \"m: MassValue\" as E7  <<attribute>> {\r\n",
       "}\r\n",
       "}\r\n",
       "}\r\n",
       "def \"MassSum\" as E8  <<calculation def>> \r\n",
       "def \"MassSum1\" as E9  <<calculation def>> \r\n",
       "}\r\n",
       "@enduml\r\n",
       "\n",
       "PlantUML version 1.2020.13(Sat Jun 13 12:26:38 UTC 2020)\n",
       "(EPL source distribution)\n",
       "Java Runtime: OpenJDK Runtime Environment\n",
       "JVM: OpenJDK 64-Bit Server VM\n",
       "Default Encoding: UTF-8\n",
       "Language: en\n",
       "Country: null\n",
       "--></g></svg>"
      ]
     },
     "execution_count": 33,
     "metadata": {},
     "output_type": "execute_result"
    }
   ],
   "source": [
    "%viz --style=\"PLANTUML\" --view=\"Interconnection\" \"CalculationExample\""
   ]
  },
  {
   "cell_type": "code",
   "execution_count": 34,
   "id": "scheduled-booth",
   "metadata": {
    "execution": {
     "iopub.execute_input": "2021-03-26T09:44:29.060558Z",
     "iopub.status.busy": "2021-03-26T09:44:29.059683Z",
     "iopub.status.idle": "2021-03-26T09:44:29.064626Z",
     "shell.execute_reply": "2021-03-26T09:44:29.063836Z"
    }
   },
   "outputs": [
    {
     "data": {
      "text/plain": [
       "java.lang.IllegalArgumentException: Invalid View: Action View candidates are: Default Tree StateMachine Interconnection Activity Sequence MIXED \n",
       "\tat org.omg.sysml.plantuml.SysML2PlantUMLSvc.setView(SysML2PlantUMLSvc.java:63)\n",
       "\tat org.omg.sysml.interactive.SysMLInteractive.viz(SysMLInteractive.java:286)\n",
       "\tat org.omg.sysml.jupyter.kernel.magic.Viz.viz(Viz.java:47)\n",
       "\tat jdk.internal.reflect.GeneratedMethodAccessor14.invoke(Unknown Source)\n",
       "\tat java.base/jdk.internal.reflect.DelegatingMethodAccessorImpl.invoke(DelegatingMethodAccessorImpl.java:43)\n",
       "\tat java.base/java.lang.reflect.Method.invoke(Method.java:568)\n",
       "\tat io.github.spencerpark.jupyter.kernel.magic.registry.Magics.invoke(Magics.java:89)\n",
       "\tat io.github.spencerpark.jupyter.kernel.magic.registry.Magics.access$000(Magics.java:8)\n",
       "\tat io.github.spencerpark.jupyter.kernel.magic.registry.Magics$LineReflectionMagicFunction.execute(Magics.java:149)\n",
       "\tat io.github.spencerpark.jupyter.kernel.magic.registry.Magics.applyLineMagic(Magics.java:26)\n",
       "\tat org.omg.sysml.jupyter.kernel.SysMLKernel.eval(SysMLKernel.java:76)\n",
       "\tat io.github.spencerpark.jupyter.kernel.BaseKernel.handleExecuteRequest(BaseKernel.java:334)\n",
       "\tat io.github.spencerpark.jupyter.channels.ShellChannel.lambda$bind$0(ShellChannel.java:64)\n",
       "\tat io.github.spencerpark.jupyter.channels.Loop.lambda$new$0(Loop.java:21)\n",
       "\tat io.github.spencerpark.jupyter.channels.Loop.run(Loop.java:78)\n"
      ]
     },
     "execution_count": 34,
     "metadata": {},
     "output_type": "execute_result"
    }
   ],
   "source": [
    "%viz --style=\"PLANTUML\" --view=\"Action\" \"CalculationExample\""
   ]
  },
  {
   "cell_type": "code",
   "execution_count": 35,
   "id": "provincial-reputation",
   "metadata": {
    "execution": {
     "iopub.execute_input": "2021-03-26T09:44:29.118109Z",
     "iopub.status.busy": "2021-03-26T09:44:29.117267Z",
     "iopub.status.idle": "2021-03-26T09:44:29.195403Z",
     "shell.execute_reply": "2021-03-26T09:44:29.195004Z"
    }
   },
   "outputs": [
    {
     "data": {
      "image/svg+xml": [
       "<?xml version=\"1.0\" encoding=\"UTF-8\" standalone=\"no\"?><svg xmlns=\"http://www.w3.org/2000/svg\" xmlns:xlink=\"http://www.w3.org/1999/xlink\" contentScriptType=\"application/ecmascript\" contentStyleType=\"text/css\" height=\"285px\" preserveAspectRatio=\"none\" style=\"width:1029px;height:285px;\" version=\"1.1\" viewBox=\"0 0 1029 285\" width=\"1029px\" zoomAndPan=\"magnify\"><defs><filter height=\"300%\" id=\"f7l9nltuhdims\" width=\"300%\" x=\"-1\" y=\"-1\"><feGaussianBlur result=\"blurOut\" stdDeviation=\"2.0\"/><feColorMatrix in=\"blurOut\" result=\"blurOut2\" type=\"matrix\" values=\"0 0 0 0 0 0 0 0 0 0 0 0 0 0 0 0 0 0 .4 0\"/><feOffset dx=\"4.0\" dy=\"4.0\" in=\"blurOut2\" result=\"blurOut3\"/><feBlend in=\"SourceGraphic\" in2=\"blurOut3\" mode=\"normal\"/></filter></defs><g><!--MD5=[fbc87193dbaf4d95561dea2c320d4a47]\n",
       "cluster E1--><polygon fill=\"#FFFFFF\" filter=\"url(#f7l9nltuhdims)\" points=\"16,6,173,6,180,28.2969,1007,28.2969,1007,273,16,273,16,6\" style=\"stroke: #000000; stroke-width: 1.5;\"/><line style=\"stroke: #000000; stroke-width: 1.5;\" x1=\"16\" x2=\"180\" y1=\"28.2969\" y2=\"28.2969\"/><text fill=\"#000000\" font-family=\"sans-serif\" font-size=\"14\" font-weight=\"bold\" lengthAdjust=\"spacingAndGlyphs\" textLength=\"151\" x=\"20\" y=\"20.9951\">CalculationExample</text><!--MD5=[b4997ac47864f28c2f74865a473b2911]\n",
       "class E2--><rect fill=\"#FEFECE\" filter=\"url(#f7l9nltuhdims)\" height=\"58.7422\" id=\"E2\" rx=\"10\" ry=\"10\" style=\"stroke: #A80036; stroke-width: 1.5;\" width=\"109\" x=\"881.5\" y=\"60\"/><ellipse cx=\"896.5\" cy=\"78.9688\" fill=\"#32CD32\" rx=\"11\" ry=\"11\" style=\"stroke: #A80036; stroke-width: 1.0;\"/><path d=\"M896.2969,74.6406 L896.2969,78.2656 L897.2969,78.2656 Q898.5,78.2656 898.9844,77.8594 Q899.4688,77.4531 899.4688,76.4531 Q899.4688,75.4531 898.9844,75.0469 Q898.5,74.6406 897.2969,74.6406 L896.2969,74.6406 Z M893.8438,72.5781 L897.2031,72.5781 Q899.7656,72.5781 900.8906,73.5 Q902.0156,74.4063 902.0156,76.4531 Q902.0156,78.5 900.8906,79.4219 Q899.7656,80.3281 897.2031,80.3281 L896.2969,80.3281 L896.2969,84.9688 L893.8438,84.9688 L893.8438,72.5781 Z \"/><text fill=\"#000000\" font-family=\"sans-serif\" font-size=\"12\" font-style=\"italic\" lengthAdjust=\"spacingAndGlyphs\" textLength=\"40\" x=\"929\" y=\"76.1387\">«part»</text><text fill=\"#000000\" font-family=\"sans-serif\" font-size=\"12\" lengthAdjust=\"spacingAndGlyphs\" textLength=\"77\" x=\"910.5\" y=\"90.1074\">vehicle: Part</text><line style=\"stroke: #A80036; stroke-width: 1.5;\" x1=\"882.5\" x2=\"989.5\" y1=\"97.9375\" y2=\"97.9375\"/><text fill=\"#000000\" font-family=\"sans-serif\" font-size=\"11\" lengthAdjust=\"spacingAndGlyphs\" textLength=\"80\" x=\"887.5\" y=\"112.1479\">m: MassValue</text><!--MD5=[09b614a08d8cba4a07c9adeb5e0fee81]\n",
       "class E3--><rect fill=\"#FEFECE\" filter=\"url(#f7l9nltuhdims)\" height=\"58.7422\" id=\"E3\" rx=\"10\" ry=\"10\" style=\"stroke: #A80036; stroke-width: 1.5;\" width=\"92\" x=\"761\" y=\"198\"/><ellipse cx=\"776.9\" cy=\"216.9688\" fill=\"#32CD32\" rx=\"11\" ry=\"11\" style=\"stroke: #A80036; stroke-width: 1.0;\"/><path d=\"M776.6969,212.6406 L776.6969,216.2656 L777.6969,216.2656 Q778.9,216.2656 779.3844,215.8594 Q779.8688,215.4531 779.8688,214.4531 Q779.8688,213.4531 779.3844,213.0469 Q778.9,212.6406 777.6969,212.6406 L776.6969,212.6406 Z M774.2438,210.5781 L777.6031,210.5781 Q780.1656,210.5781 781.2906,211.5 Q782.4156,212.4063 782.4156,214.4531 Q782.4156,216.5 781.2906,217.4219 Q780.1656,218.3281 777.6031,218.3281 L776.6969,218.3281 L776.6969,222.9688 L774.2438,222.9688 L774.2438,210.5781 Z \"/><text fill=\"#000000\" font-family=\"sans-serif\" font-size=\"12\" font-style=\"italic\" lengthAdjust=\"spacingAndGlyphs\" textLength=\"40\" x=\"800.1\" y=\"214.1387\">«part»</text><text fill=\"#000000\" font-family=\"sans-serif\" font-size=\"12\" lengthAdjust=\"spacingAndGlyphs\" textLength=\"58\" x=\"791.1\" y=\"228.1074\">eng: Part</text><line style=\"stroke: #A80036; stroke-width: 1.5;\" x1=\"762\" x2=\"852\" y1=\"235.9375\" y2=\"235.9375\"/><text fill=\"#000000\" font-family=\"sans-serif\" font-size=\"11\" lengthAdjust=\"spacingAndGlyphs\" textLength=\"80\" x=\"767\" y=\"250.1479\">m: MassValue</text><!--MD5=[ebbe1d658d1005bcc118a6aa81145e00]\n",
       "class E4--><rect fill=\"#FEFECE\" filter=\"url(#f7l9nltuhdims)\" height=\"58.7422\" id=\"E4\" rx=\"10\" ry=\"10\" style=\"stroke: #A80036; stroke-width: 1.5;\" width=\"99\" x=\"888.5\" y=\"198\"/><ellipse cx=\"903.5\" cy=\"216.9688\" fill=\"#32CD32\" rx=\"11\" ry=\"11\" style=\"stroke: #A80036; stroke-width: 1.0;\"/><path d=\"M903.2969,212.6406 L903.2969,216.2656 L904.2969,216.2656 Q905.5,216.2656 905.9844,215.8594 Q906.4688,215.4531 906.4688,214.4531 Q906.4688,213.4531 905.9844,213.0469 Q905.5,212.6406 904.2969,212.6406 L903.2969,212.6406 Z M900.8438,210.5781 L904.2031,210.5781 Q906.7656,210.5781 907.8906,211.5 Q909.0156,212.4063 909.0156,214.4531 Q909.0156,216.5 907.8906,217.4219 Q906.7656,218.3281 904.2031,218.3281 L903.2969,218.3281 L903.2969,222.9688 L900.8438,222.9688 L900.8438,210.5781 Z \"/><text fill=\"#000000\" font-family=\"sans-serif\" font-size=\"12\" font-style=\"italic\" lengthAdjust=\"spacingAndGlyphs\" textLength=\"40\" x=\"931\" y=\"214.1387\">«part»</text><text fill=\"#000000\" font-family=\"sans-serif\" font-size=\"12\" lengthAdjust=\"spacingAndGlyphs\" textLength=\"67\" x=\"917.5\" y=\"228.1074\">trans: Part</text><line style=\"stroke: #A80036; stroke-width: 1.5;\" x1=\"889.5\" x2=\"986.5\" y1=\"235.9375\" y2=\"235.9375\"/><text fill=\"#000000\" font-family=\"sans-serif\" font-size=\"11\" lengthAdjust=\"spacingAndGlyphs\" textLength=\"80\" x=\"894.5\" y=\"250.1479\">m: MassValue</text><!--MD5=[270fce915f116d4de14055a7c1d9a0f3]\n",
       "class E5--><rect fill=\"#FEFECE\" filter=\"url(#f7l9nltuhdims)\" height=\"45.9375\" id=\"E5\" style=\"stroke: #A80036; stroke-width: 1.5;\" width=\"134\" x=\"372\" y=\"204.5\"/><ellipse cx=\"387\" cy=\"223.4688\" fill=\"#A52A2A\" rx=\"11\" ry=\"11\" style=\"stroke: #A80036; stroke-width: 1.0;\"/><path d=\"M386.5938,219.2813 L386.5938,227.2656 L387.25,227.2656 Q388.6875,227.2656 389.2969,226.3594 Q389.9219,225.4375 389.9219,223.2656 Q389.9219,221.0938 389.2969,220.1875 Q388.6875,219.2813 387.25,219.2813 L386.5938,219.2813 Z M384.1406,217.0781 L386.7656,217.0781 Q389.7969,217.0781 391.125,218.5313 Q392.4688,219.9688 392.4688,223.2656 Q392.4688,226.5625 391.125,228.0156 Q389.7969,229.4688 386.7656,229.4688 L384.1406,229.4688 L384.1406,217.0781 Z \"/><text fill=\"#000000\" font-family=\"sans-serif\" font-size=\"12\" font-style=\"italic\" lengthAdjust=\"spacingAndGlyphs\" textLength=\"106\" x=\"399\" y=\"220.6387\">«calculation def»</text><text fill=\"#000000\" font-family=\"sans-serif\" font-size=\"12\" lengthAdjust=\"spacingAndGlyphs\" textLength=\"59\" x=\"422.5\" y=\"234.6074\">MassSum</text><line style=\"stroke: #A80036; stroke-width: 1.5;\" x1=\"373\" x2=\"505\" y1=\"242.4375\" y2=\"242.4375\"/><!--MD5=[60a26617385b1d2d0262a64233df1f8d]\n",
       "class E6--><rect fill=\"#FEFECE\" filter=\"url(#f7l9nltuhdims)\" height=\"45.9375\" id=\"E6\" rx=\"10\" ry=\"10\" style=\"stroke: #A80036; stroke-width: 1.5;\" width=\"117\" x=\"729.5\" y=\"66.5\"/><ellipse cx=\"744.5\" cy=\"85.4688\" fill=\"#FFA500\" rx=\"11\" ry=\"11\" style=\"stroke: #A80036; stroke-width: 1.0;\"/><path d=\"M740.375,87.3906 L740.375,79.5781 L742.8281,79.5781 L742.8281,88.0156 Q742.8281,88.9375 743.2969,89.4688 Q743.7813,90 744.6094,90 Q745.4531,90 745.9219,89.4688 Q746.3906,88.9375 746.3906,88.0156 L746.3906,79.5781 L748.8438,79.5781 L748.8438,87.3906 Q748.8438,89.9219 747.8438,91.0625 Q746.8438,92.2031 744.6094,92.2031 Q742.3906,92.2031 741.375,91.0625 Q740.375,89.9219 740.375,87.3906 Z \"/><text fill=\"#000000\" font-family=\"sans-serif\" font-size=\"12\" font-style=\"italic\" lengthAdjust=\"spacingAndGlyphs\" textLength=\"82\" x=\"760\" y=\"82.6387\">«calculation»</text><text fill=\"#000000\" font-family=\"sans-serif\" font-size=\"12\" lengthAdjust=\"spacingAndGlyphs\" textLength=\"85\" x=\"758.5\" y=\"96.6074\">ms: MassSum</text><line style=\"stroke: #A80036; stroke-width: 1.5;\" x1=\"730.5\" x2=\"845.5\" y1=\"104.4375\" y2=\"104.4375\"/><!--MD5=[2156ba9850f5573cc1fc38a6a4b2f02b]\n",
       "class E7--><rect fill=\"#FEFECE\" filter=\"url(#f7l9nltuhdims)\" height=\"71.5469\" id=\"E7\" style=\"stroke: #A80036; stroke-width: 1.5;\" width=\"253\" x=\"441.5\" y=\"53.5\"/><ellipse cx=\"512.75\" cy=\"72.4688\" fill=\"#A52A2A\" rx=\"11\" ry=\"11\" style=\"stroke: #A80036; stroke-width: 1.0;\"/><path d=\"M512.3438,68.2813 L512.3438,76.2656 L513,76.2656 Q514.4375,76.2656 515.0469,75.3594 Q515.6719,74.4375 515.6719,72.2656 Q515.6719,70.0938 515.0469,69.1875 Q514.4375,68.2813 513,68.2813 L512.3438,68.2813 Z M509.8906,66.0781 L512.5156,66.0781 Q515.5469,66.0781 516.875,67.5313 Q518.2188,68.9688 518.2188,72.2656 Q518.2188,75.5625 516.875,77.0156 Q515.5469,78.4688 512.5156,78.4688 L509.8906,78.4688 L509.8906,66.0781 Z \"/><text fill=\"#000000\" font-family=\"sans-serif\" font-size=\"12\" font-style=\"italic\" lengthAdjust=\"spacingAndGlyphs\" textLength=\"106\" x=\"531.25\" y=\"69.6387\">«calculation def»</text><text fill=\"#000000\" font-family=\"sans-serif\" font-size=\"12\" lengthAdjust=\"spacingAndGlyphs\" textLength=\"67\" x=\"550.75\" y=\"83.6074\">MassSum1</text><line style=\"stroke: #A80036; stroke-width: 1.5;\" x1=\"442.5\" x2=\"693.5\" y1=\"91.4375\" y2=\"91.4375\"/><text fill=\"#000000\" font-family=\"sans-serif\" font-size=\"11\" lengthAdjust=\"spacingAndGlyphs\" textLength=\"136\" x=\"447.5\" y=\"105.6479\">partMasses: MassValue</text><text fill=\"#000000\" font-family=\"sans-serif\" font-size=\"11\" lengthAdjust=\"spacingAndGlyphs\" textLength=\"241\" x=\"447.5\" y=\"118.4526\">totalMass: MassValue= sum(partMasses);</text><!--MD5=[b9389687b975829384b498ac4b7476b2]\n",
       "class E8--><rect fill=\"#FEFECE\" filter=\"url(#f7l9nltuhdims)\" height=\"97.1563\" id=\"E8\" rx=\"10\" ry=\"10\" style=\"stroke: #A80036; stroke-width: 1.5;\" width=\"374\" x=\"32\" y=\"41\"/><ellipse cx=\"168.25\" cy=\"59.9688\" fill=\"#FFA500\" rx=\"11\" ry=\"11\" style=\"stroke: #A80036; stroke-width: 1.0;\"/><path d=\"M164.125,61.8906 L164.125,54.0781 L166.5781,54.0781 L166.5781,62.5156 Q166.5781,63.4375 167.0469,63.9688 Q167.5313,64.5 168.3594,64.5 Q169.2031,64.5 169.6719,63.9688 Q170.1406,63.4375 170.1406,62.5156 L170.1406,54.0781 L172.5938,54.0781 L172.5938,61.8906 Q172.5938,64.4219 171.5938,65.5625 Q170.5938,66.7031 168.3594,66.7031 Q166.1406,66.7031 165.125,65.5625 Q164.125,64.4219 164.125,61.8906 Z \"/><text fill=\"#000000\" font-family=\"sans-serif\" font-size=\"12\" font-style=\"italic\" lengthAdjust=\"spacingAndGlyphs\" textLength=\"82\" x=\"194.25\" y=\"57.1387\">«calculation»</text><text fill=\"#000000\" font-family=\"sans-serif\" font-size=\"12\" lengthAdjust=\"spacingAndGlyphs\" textLength=\"93\" x=\"188.75\" y=\"71.1074\">ms1: MassSum</text><line style=\"stroke: #A80036; stroke-width: 1.5;\" x1=\"33\" x2=\"405\" y1=\"78.9375\" y2=\"78.9375\"/><text fill=\"#000000\" font-family=\"sans-serif\" font-size=\"11\" lengthAdjust=\"spacingAndGlyphs\" textLength=\"358\" x=\"38\" y=\"93.1479\">partMasses: MassValue= {vehicle::eng::m, vehicle::trans::m};</text><text fill=\"#000000\" font-family=\"sans-serif\" font-size=\"11\" font-style=\"italic\" lengthAdjust=\"spacingAndGlyphs\" textLength=\"153\" x=\"38\" y=\"105.9526\">:&gt;&gt;MassSum::partMasses</text><text fill=\"#000000\" font-family=\"sans-serif\" font-size=\"11\" lengthAdjust=\"spacingAndGlyphs\" textLength=\"199\" x=\"38\" y=\"118.7573\">totalMass: MassValue= vehicle::m;</text><text fill=\"#000000\" font-family=\"sans-serif\" font-size=\"11\" font-style=\"italic\" lengthAdjust=\"spacingAndGlyphs\" textLength=\"141\" x=\"38\" y=\"131.562\">:&gt;&gt;MassSum::totalMass</text><!--MD5=[209b3feb70ccb6233bfe1053d122c12c]\n",
       "reverse link E2 to E3--><path d=\"M899.82,128.64 C879.1,150.49 853.51,177.47 834.45,197.56 \" fill=\"none\" id=\"E2&lt;-E3\" style=\"stroke: #A80036; stroke-width: 1.0;\"/><polygon fill=\"#A80036\" points=\"908.96,119.01,901.9288,120.6106,900.7019,127.7166,907.7332,126.116,908.96,119.01\" style=\"stroke: #A80036; stroke-width: 1.0;\"/><!--MD5=[9618e71518536f8baf3342ff6fdab317]\n",
       "reverse link E2 to E4--><path d=\"M936.61,132.23 C936.92,153.39 937.29,178.55 937.57,197.56 \" fill=\"none\" id=\"E2&lt;-E4\" style=\"stroke: #A80036; stroke-width: 1.0;\"/><polygon fill=\"#A80036\" points=\"936.42,119.01,932.5128,125.0708,936.6046,131.0086,940.5118,124.9478,936.42,119.01\" style=\"stroke: #A80036; stroke-width: 1.0;\"/><!--MD5=[25b190c987b1e74e5126d372c5a73af1]\n",
       "link E6 to E5--><path d=\"M756.44,112.65 C743.14,121.34 727.23,130.9 712,138 C651.77,166.07 580.2,188.91 525.45,204.35 \" fill=\"none\" id=\"E6-&gt;E5\" style=\"stroke: #A80036; stroke-width: 1.0;\"/><polygon fill=\"#FFFFFF\" points=\"506.09,209.7,522.5373,197.8896,526.2684,211.3833,506.09,209.7\" style=\"stroke: #A80036; stroke-width: 1.0;\"/><ellipse cx=\"528.5642\" cy=\"198.2982\" fill=\"#A80036\" rx=\"2\" ry=\"2\" style=\"stroke: #A80036; stroke-width: 1.0;\"/><ellipse cx=\"531.2292\" cy=\"207.9366\" fill=\"#A80036\" rx=\"2\" ry=\"2\" style=\"stroke: #A80036; stroke-width: 1.0;\"/><!--MD5=[1ccb2481ffa92f8d51a74ee30c51832a]\n",
       "link E8 to E5--><path d=\"M295.95,138.07 C325.79,156.51 359.21,177.17 386.24,193.88 \" fill=\"none\" id=\"E8-&gt;E5\" style=\"stroke: #A80036; stroke-width: 1.0;\"/><polygon fill=\"#FFFFFF\" points=\"403.39,204.49,383.5488,200.4492,390.913,188.5425,403.39,204.49\" style=\"stroke: #A80036; stroke-width: 1.0;\"/><ellipse cx=\"379.7531\" cy=\"195.7499\" fill=\"#A80036\" rx=\"2\" ry=\"2\" style=\"stroke: #A80036; stroke-width: 1.0;\"/><ellipse cx=\"385.0132\" cy=\"187.2452\" fill=\"#A80036\" rx=\"2\" ry=\"2\" style=\"stroke: #A80036; stroke-width: 1.0;\"/><!--MD5=[9946de965ca853d6975b4d28dc269109]\n",
       "@startuml\r\n",
       " \r\n",
       "package \"CalculationExample\" as E1   {\r\n",
       "comp usage \"vehicle: Part\" as E2  << (P,limegreen) part>> {\r\n",
       "m: MassValue\r\n",
       "}\r\n",
       "comp usage \"eng: Part\" as E3  << (P,limegreen) part>> {\r\n",
       "m: MassValue\r\n",
       "}\r\n",
       "comp usage \"trans: Part\" as E4  << (P,limegreen) part>> {\r\n",
       "m: MassValue\r\n",
       "}\r\n",
       "comp def \"MassSum\" as E5  <<(D,brown)calculation def>> {\r\n",
       "}\r\n",
       "comp usage \"ms: MassSum\" as E6  <<(U,orange)calculation>> {\r\n",
       "}\r\n",
       "comp def \"MassSum1\" as E7  <<(D,brown)calculation def>> {\r\n",
       "partMasses: MassValue\r\n",
       "totalMass: MassValue= sum(partMasses); \r\n",
       "}\r\n",
       "comp usage \"ms1: MassSum\" as E8  <<(U,orange)calculation>> {\r\n",
       "partMasses: MassValue= {vehicle::eng::m, vehicle::trans::m}; \\n//:>>MassSum::partMasses// \r\n",
       "totalMass: MassValue= vehicle::m; \\n//:>>MassSum::totalMass// \r\n",
       "}\r\n",
       "E2 *- - E3\r\n",
       "E2 *- - E4\r\n",
       "E6 - -:|> E5\r\n",
       "E8 - -:|> E5\r\n",
       "}\r\n",
       "@enduml\r\n",
       "\n",
       "PlantUML version 1.2020.13(Sat Jun 13 12:26:38 UTC 2020)\n",
       "(EPL source distribution)\n",
       "Java Runtime: OpenJDK Runtime Environment\n",
       "JVM: OpenJDK 64-Bit Server VM\n",
       "Default Encoding: UTF-8\n",
       "Language: en\n",
       "Country: null\n",
       "--></g></svg>"
      ]
     },
     "execution_count": 35,
     "metadata": {},
     "output_type": "execute_result"
    }
   ],
   "source": [
    "%viz --style=\"PLANTUML\" --view=\"Sequence\" \"CalculationExample\""
   ]
  },
  {
   "cell_type": "code",
   "execution_count": 36,
   "id": "chronic-cable",
   "metadata": {
    "execution": {
     "iopub.execute_input": "2021-03-26T09:44:29.246737Z",
     "iopub.status.busy": "2021-03-26T09:44:29.245559Z",
     "iopub.status.idle": "2021-03-26T09:44:29.317508Z",
     "shell.execute_reply": "2021-03-26T09:44:29.316018Z"
    }
   },
   "outputs": [
    {
     "data": {
      "image/svg+xml": [
       "<?xml version=\"1.0\" encoding=\"UTF-8\" standalone=\"no\"?><svg xmlns=\"http://www.w3.org/2000/svg\" xmlns:xlink=\"http://www.w3.org/1999/xlink\" contentScriptType=\"application/ecmascript\" contentStyleType=\"text/css\" height=\"433px\" preserveAspectRatio=\"none\" style=\"width:1020px;height:433px;\" version=\"1.1\" viewBox=\"0 0 1020 433\" width=\"1020px\" zoomAndPan=\"magnify\"><defs><filter height=\"300%\" id=\"fcno0gl06m4lf\" width=\"300%\" x=\"-1\" y=\"-1\"><feGaussianBlur result=\"blurOut\" stdDeviation=\"2.0\"/><feColorMatrix in=\"blurOut\" result=\"blurOut2\" type=\"matrix\" values=\"0 0 0 0 0 0 0 0 0 0 0 0 0 0 0 0 0 0 .4 0\"/><feOffset dx=\"4.0\" dy=\"4.0\" in=\"blurOut2\" result=\"blurOut3\"/><feBlend in=\"SourceGraphic\" in2=\"blurOut3\" mode=\"normal\"/></filter></defs><g><!--MD5=[fbc87193dbaf4d95561dea2c320d4a47]\n",
       "cluster E1--><polygon fill=\"#FFFFFF\" filter=\"url(#fcno0gl06m4lf)\" points=\"16,6,173,6,180,28.2969,998,28.2969,998,421.72,16,421.72,16,6\" style=\"stroke: #000000; stroke-width: 1.5;\"/><line style=\"stroke: #000000; stroke-width: 1.5;\" x1=\"16\" x2=\"180\" y1=\"28.2969\" y2=\"28.2969\"/><text fill=\"#000000\" font-family=\"sans-serif\" font-size=\"14\" font-weight=\"bold\" lengthAdjust=\"spacingAndGlyphs\" textLength=\"151\" x=\"20\" y=\"20.9951\">CalculationExample</text><!--MD5=[de5ec2e2e8f62f467e546659f5068c88]\n",
       "cluster E5--><rect fill=\"#FFFFFF\" filter=\"url(#fcno0gl06m4lf)\" height=\"294.22\" style=\"stroke: #000000; stroke-width: 1.5;\" width=\"128\" x=\"429\" y=\"89.5\"/><text fill=\"#000000\" font-family=\"sans-serif\" font-size=\"14\" font-weight=\"bold\" lengthAdjust=\"spacingAndGlyphs\" textLength=\"74\" x=\"456\" y=\"104.4951\">MassSum</text><!--MD5=[917b9dd0c7eca3ee5f47219d1a84c0ad]\n",
       "cluster E11--><rect fill=\"#FFFFFF\" filter=\"url(#fcno0gl06m4lf)\" height=\"294.22\" style=\"stroke: #000000; stroke-width: 1.5;\" width=\"132\" x=\"850\" y=\"89.5\"/><text fill=\"#000000\" font-family=\"sans-serif\" font-size=\"14\" font-weight=\"bold\" lengthAdjust=\"spacingAndGlyphs\" textLength=\"84\" x=\"874\" y=\"104.4951\">MassSum1</text><!--MD5=[b4997ac47864f28c2f74865a473b2911]\n",
       "class E2--><rect fill=\"#FEFECE\" filter=\"url(#fcno0gl06m4lf)\" height=\"58.7422\" id=\"E2\" rx=\"10\" ry=\"10\" style=\"stroke: #A80036; stroke-width: 1.5;\" width=\"109\" x=\"732.5\" y=\"60\"/><ellipse cx=\"747.5\" cy=\"78.9688\" fill=\"#32CD32\" rx=\"11\" ry=\"11\" style=\"stroke: #A80036; stroke-width: 1.0;\"/><path d=\"M747.2969,74.6406 L747.2969,78.2656 L748.2969,78.2656 Q749.5,78.2656 749.9844,77.8594 Q750.4688,77.4531 750.4688,76.4531 Q750.4688,75.4531 749.9844,75.0469 Q749.5,74.6406 748.2969,74.6406 L747.2969,74.6406 Z M744.8438,72.5781 L748.2031,72.5781 Q750.7656,72.5781 751.8906,73.5 Q753.0156,74.4063 753.0156,76.4531 Q753.0156,78.5 751.8906,79.4219 Q750.7656,80.3281 748.2031,80.3281 L747.2969,80.3281 L747.2969,84.9688 L744.8438,84.9688 L744.8438,72.5781 Z \"/><text fill=\"#000000\" font-family=\"sans-serif\" font-size=\"12\" font-style=\"italic\" lengthAdjust=\"spacingAndGlyphs\" textLength=\"40\" x=\"780\" y=\"76.1387\">«part»</text><text fill=\"#000000\" font-family=\"sans-serif\" font-size=\"12\" lengthAdjust=\"spacingAndGlyphs\" textLength=\"77\" x=\"761.5\" y=\"90.1074\">vehicle: Part</text><line style=\"stroke: #A80036; stroke-width: 1.5;\" x1=\"733.5\" x2=\"840.5\" y1=\"97.9375\" y2=\"97.9375\"/><text fill=\"#000000\" font-family=\"sans-serif\" font-size=\"11\" lengthAdjust=\"spacingAndGlyphs\" textLength=\"80\" x=\"738.5\" y=\"112.1479\">m: MassValue</text><!--MD5=[09b614a08d8cba4a07c9adeb5e0fee81]\n",
       "class E3--><rect fill=\"#FEFECE\" filter=\"url(#fcno0gl06m4lf)\" height=\"58.7422\" id=\"E3\" rx=\"10\" ry=\"10\" style=\"stroke: #A80036; stroke-width: 1.5;\" width=\"92\" x=\"604\" y=\"198\"/><ellipse cx=\"619.9\" cy=\"216.9688\" fill=\"#32CD32\" rx=\"11\" ry=\"11\" style=\"stroke: #A80036; stroke-width: 1.0;\"/><path d=\"M619.6969,212.6406 L619.6969,216.2656 L620.6969,216.2656 Q621.9,216.2656 622.3844,215.8594 Q622.8688,215.4531 622.8688,214.4531 Q622.8688,213.4531 622.3844,213.0469 Q621.9,212.6406 620.6969,212.6406 L619.6969,212.6406 Z M617.2438,210.5781 L620.6031,210.5781 Q623.1656,210.5781 624.2906,211.5 Q625.4156,212.4063 625.4156,214.4531 Q625.4156,216.5 624.2906,217.4219 Q623.1656,218.3281 620.6031,218.3281 L619.6969,218.3281 L619.6969,222.9688 L617.2438,222.9688 L617.2438,210.5781 Z \"/><text fill=\"#000000\" font-family=\"sans-serif\" font-size=\"12\" font-style=\"italic\" lengthAdjust=\"spacingAndGlyphs\" textLength=\"40\" x=\"643.1\" y=\"214.1387\">«part»</text><text fill=\"#000000\" font-family=\"sans-serif\" font-size=\"12\" lengthAdjust=\"spacingAndGlyphs\" textLength=\"58\" x=\"634.1\" y=\"228.1074\">eng: Part</text><line style=\"stroke: #A80036; stroke-width: 1.5;\" x1=\"605\" x2=\"695\" y1=\"235.9375\" y2=\"235.9375\"/><text fill=\"#000000\" font-family=\"sans-serif\" font-size=\"11\" lengthAdjust=\"spacingAndGlyphs\" textLength=\"80\" x=\"610\" y=\"250.1479\">m: MassValue</text><!--MD5=[ebbe1d658d1005bcc118a6aa81145e00]\n",
       "class E4--><rect fill=\"#FEFECE\" filter=\"url(#fcno0gl06m4lf)\" height=\"58.7422\" id=\"E4\" rx=\"10\" ry=\"10\" style=\"stroke: #A80036; stroke-width: 1.5;\" width=\"99\" x=\"731.5\" y=\"198\"/><ellipse cx=\"746.5\" cy=\"216.9688\" fill=\"#32CD32\" rx=\"11\" ry=\"11\" style=\"stroke: #A80036; stroke-width: 1.0;\"/><path d=\"M746.2969,212.6406 L746.2969,216.2656 L747.2969,216.2656 Q748.5,216.2656 748.9844,215.8594 Q749.4688,215.4531 749.4688,214.4531 Q749.4688,213.4531 748.9844,213.0469 Q748.5,212.6406 747.2969,212.6406 L746.2969,212.6406 Z M743.8438,210.5781 L747.2031,210.5781 Q749.7656,210.5781 750.8906,211.5 Q752.0156,212.4063 752.0156,214.4531 Q752.0156,216.5 750.8906,217.4219 Q749.7656,218.3281 747.2031,218.3281 L746.2969,218.3281 L746.2969,222.9688 L743.8438,222.9688 L743.8438,210.5781 Z \"/><text fill=\"#000000\" font-family=\"sans-serif\" font-size=\"12\" font-style=\"italic\" lengthAdjust=\"spacingAndGlyphs\" textLength=\"40\" x=\"774\" y=\"214.1387\">«part»</text><text fill=\"#000000\" font-family=\"sans-serif\" font-size=\"12\" lengthAdjust=\"spacingAndGlyphs\" textLength=\"67\" x=\"760.5\" y=\"228.1074\">trans: Part</text><line style=\"stroke: #A80036; stroke-width: 1.5;\" x1=\"732.5\" x2=\"829.5\" y1=\"235.9375\" y2=\"235.9375\"/><text fill=\"#000000\" font-family=\"sans-serif\" font-size=\"11\" lengthAdjust=\"spacingAndGlyphs\" textLength=\"80\" x=\"737.5\" y=\"250.1479\">m: MassValue</text><!--MD5=[96f4274e9e20536e775497830990834d]\n",
       "class E10--><rect fill=\"#FEFECE\" filter=\"url(#fcno0gl06m4lf)\" height=\"45.9375\" id=\"E10\" rx=\"10\" ry=\"10\" style=\"stroke: #A80036; stroke-width: 1.5;\" width=\"117\" x=\"580.5\" y=\"66.5\"/><ellipse cx=\"595.5\" cy=\"85.4688\" fill=\"#FFA500\" rx=\"11\" ry=\"11\" style=\"stroke: #A80036; stroke-width: 1.0;\"/><path d=\"M591.375,87.3906 L591.375,79.5781 L593.8281,79.5781 L593.8281,88.0156 Q593.8281,88.9375 594.2969,89.4688 Q594.7813,90 595.6094,90 Q596.4531,90 596.9219,89.4688 Q597.3906,88.9375 597.3906,88.0156 L597.3906,79.5781 L599.8438,79.5781 L599.8438,87.3906 Q599.8438,89.9219 598.8438,91.0625 Q597.8438,92.2031 595.6094,92.2031 Q593.3906,92.2031 592.375,91.0625 Q591.375,89.9219 591.375,87.3906 Z \"/><text fill=\"#000000\" font-family=\"sans-serif\" font-size=\"12\" font-style=\"italic\" lengthAdjust=\"spacingAndGlyphs\" textLength=\"82\" x=\"611\" y=\"82.6387\">«calculation»</text><text fill=\"#000000\" font-family=\"sans-serif\" font-size=\"12\" lengthAdjust=\"spacingAndGlyphs\" textLength=\"85\" x=\"609.5\" y=\"96.6074\">ms: MassSum</text><line style=\"stroke: #A80036; stroke-width: 1.5;\" x1=\"581.5\" x2=\"696.5\" y1=\"104.4375\" y2=\"104.4375\"/><!--MD5=[bee11217b2f71d958a27249dc326068c]\n",
       "class E14--><rect fill=\"#FEFECE\" filter=\"url(#fcno0gl06m4lf)\" height=\"97.1563\" id=\"E14\" rx=\"10\" ry=\"10\" style=\"stroke: #A80036; stroke-width: 1.5;\" width=\"374\" x=\"32\" y=\"41\"/><ellipse cx=\"168.25\" cy=\"59.9688\" fill=\"#FFA500\" rx=\"11\" ry=\"11\" style=\"stroke: #A80036; stroke-width: 1.0;\"/><path d=\"M164.125,61.8906 L164.125,54.0781 L166.5781,54.0781 L166.5781,62.5156 Q166.5781,63.4375 167.0469,63.9688 Q167.5313,64.5 168.3594,64.5 Q169.2031,64.5 169.6719,63.9688 Q170.1406,63.4375 170.1406,62.5156 L170.1406,54.0781 L172.5938,54.0781 L172.5938,61.8906 Q172.5938,64.4219 171.5938,65.5625 Q170.5938,66.7031 168.3594,66.7031 Q166.1406,66.7031 165.125,65.5625 Q164.125,64.4219 164.125,61.8906 Z \"/><text fill=\"#000000\" font-family=\"sans-serif\" font-size=\"12\" font-style=\"italic\" lengthAdjust=\"spacingAndGlyphs\" textLength=\"82\" x=\"194.25\" y=\"57.1387\">«calculation»</text><text fill=\"#000000\" font-family=\"sans-serif\" font-size=\"12\" lengthAdjust=\"spacingAndGlyphs\" textLength=\"93\" x=\"188.75\" y=\"71.1074\">ms1: MassSum</text><line style=\"stroke: #A80036; stroke-width: 1.5;\" x1=\"33\" x2=\"405\" y1=\"78.9375\" y2=\"78.9375\"/><text fill=\"#000000\" font-family=\"sans-serif\" font-size=\"11\" lengthAdjust=\"spacingAndGlyphs\" textLength=\"358\" x=\"38\" y=\"93.1479\">partMasses: MassValue= {vehicle::eng::m, vehicle::trans::m};</text><text fill=\"#000000\" font-family=\"sans-serif\" font-size=\"11\" font-style=\"italic\" lengthAdjust=\"spacingAndGlyphs\" textLength=\"153\" x=\"38\" y=\"105.9526\">:&gt;&gt;MassSum::partMasses</text><text fill=\"#000000\" font-family=\"sans-serif\" font-size=\"11\" lengthAdjust=\"spacingAndGlyphs\" textLength=\"199\" x=\"38\" y=\"118.7573\">totalMass: MassValue= vehicle::m;</text><text fill=\"#000000\" font-family=\"sans-serif\" font-size=\"11\" font-style=\"italic\" lengthAdjust=\"spacingAndGlyphs\" textLength=\"141\" x=\"38\" y=\"131.562\">:&gt;&gt;MassSum::totalMass</text><text fill=\"#000000\" font-family=\"sans-serif\" font-size=\"14\" lengthAdjust=\"spacingAndGlyphs\" textLength=\"80\" x=\"407\" y=\"68.1982\">partMasses</text><rect fill=\"#A80036\" height=\"12\" style=\"stroke: #FEFECE; stroke-width: 1.5;\" width=\"12\" x=\"441\" y=\"83.5\"/><text fill=\"#000000\" font-family=\"sans-serif\" font-size=\"14\" lengthAdjust=\"spacingAndGlyphs\" textLength=\"66\" x=\"433\" y=\"402.7151\">totalMass</text><rect fill=\"#A80036\" height=\"12\" style=\"stroke: #FEFECE; stroke-width: 1.5;\" width=\"12\" x=\"460\" y=\"377.72\"/><text fill=\"#000000\" font-family=\"sans-serif\" font-size=\"14\" lengthAdjust=\"spacingAndGlyphs\" textLength=\"75\" x=\"501.5\" y=\"68.1982\">$collection</text><rect fill=\"#A80036\" height=\"12\" style=\"stroke: #FEFECE; stroke-width: 1.5;\" width=\"12\" x=\"533\" y=\"83.5\"/><text fill=\"#000000\" font-family=\"sans-serif\" font-size=\"14\" lengthAdjust=\"spacingAndGlyphs\" textLength=\"48\" x=\"489\" y=\"402.7151\">$result</text><rect fill=\"#A80036\" height=\"12\" style=\"stroke: #FEFECE; stroke-width: 1.5;\" width=\"12\" x=\"507\" y=\"377.72\"/><text fill=\"#000000\" font-family=\"sans-serif\" font-size=\"14\" lengthAdjust=\"spacingAndGlyphs\" textLength=\"80\" x=\"876\" y=\"68.1982\">partMasses</text><rect fill=\"#A80036\" height=\"12\" style=\"stroke: #FEFECE; stroke-width: 1.5;\" width=\"12\" x=\"910\" y=\"83.5\"/><text fill=\"#000000\" font-family=\"sans-serif\" font-size=\"14\" lengthAdjust=\"spacingAndGlyphs\" textLength=\"66\" x=\"883\" y=\"402.7151\">totalMass</text><rect fill=\"#A80036\" height=\"12\" style=\"stroke: #FEFECE; stroke-width: 1.5;\" width=\"12\" x=\"910\" y=\"377.72\"/><!--MD5=[209b3feb70ccb6233bfe1053d122c12c]\n",
       "reverse link E2 to E3--><path d=\"M748.87,128.35 C726.81,150.25 699.49,177.38 679.15,197.56 \" fill=\"none\" id=\"E2&lt;-E3\" style=\"stroke: #A80036; stroke-width: 1.0;\"/><polygon fill=\"#A80036\" points=\"758.28,119.01,751.2035,120.3967,749.7618,127.4623,756.8383,126.0755,758.28,119.01\" style=\"stroke: #A80036; stroke-width: 1.0;\"/><!--MD5=[9618e71518536f8baf3342ff6fdab317]\n",
       "reverse link E2 to E4--><path d=\"M785.16,132.23 C784.23,153.39 783.12,178.55 782.28,197.56 \" fill=\"none\" id=\"E2&lt;-E4\" style=\"stroke: #A80036; stroke-width: 1.0;\"/><polygon fill=\"#A80036\" points=\"785.74,119.01,781.4801,124.8284,785.2125,130.9984,789.4724,125.18,785.74,119.01\" style=\"stroke: #A80036; stroke-width: 1.0;\"/><!--MD5=[1c0b9414cc86e0744215edee6abd8926]\n",
       "link E7 to E9--><path d=\"M472.24,381.65 C483.81,378.39 495.38,378.41 506.95,381.7 \" fill=\"none\" id=\"E7-E9\" style=\"stroke: #FF0000; stroke-width: 5.0;\"/><!--MD5=[ec5e0a54482b142abcecfe541d624bff]\n",
       "link E10 to E5--><path d=\"M615.54,112.65 C607.4525,120.29 597.8344,129.375 587.6103,139.0319 C582.4983,143.8603 577.2348,148.8317 571.9354,153.837 C569.2856,156.3396 566.627,158.8506 563.9738,161.3565 C562.6472,162.6095 561.3219,163.8611 559.9999,165.1098 C559.3388,165.7341 558.6786,166.3577 558.0194,166.9803 C557.6898,167.2916 557.3604,167.6026 557.0313,167.9134 \" fill=\"none\" id=\"E10-&gt;E5\" style=\"stroke: #A80036; stroke-width: 1.0;\"/><polygon fill=\"#FFFFFF\" points=\"557.0313,167.9134,566.038,149.7784,575.6509,159.9565,557.0313,167.9134\" style=\"stroke: #A80036; stroke-width: 1.0;\"/><ellipse cx=\"571.5552\" cy=\"147.3186\" fill=\"#A80036\" rx=\"2\" ry=\"2\" style=\"stroke: #A80036; stroke-width: 1.0;\"/><ellipse cx=\"578.4215\" cy=\"154.5887\" fill=\"#A80036\" rx=\"2\" ry=\"2\" style=\"stroke: #A80036; stroke-width: 1.0;\"/><!--MD5=[111e5536516ee1ad7d4266f589654f03]\n",
       "link E14 to E5--><path d=\"M315.53,138.07 C345.22,152.7 377.735,168.72 406.835,183.0575 C414.11,186.6419 421.1716,190.1211 427.9222,193.4471 C428.1331,193.5511 428.3438,193.6549 428.5541,193.7585 \" fill=\"none\" id=\"E14-&gt;E5\" style=\"stroke: #A80036; stroke-width: 1.0;\"/><polygon fill=\"#FFFFFF\" points=\"428.5541,193.7585,408.4168,191.6403,414.6044,179.0819,428.5541,193.7585\" style=\"stroke: #A80036; stroke-width: 1.0;\"/><ellipse cx=\"404.1877\" cy=\"187.327\" fill=\"#A80036\" rx=\"2\" ry=\"2\" style=\"stroke: #A80036; stroke-width: 1.0;\"/><ellipse cx=\"408.6074\" cy=\"178.3567\" fill=\"#A80036\" rx=\"2\" ry=\"2\" style=\"stroke: #A80036; stroke-width: 1.0;\"/><!--MD5=[6e3f51e3016c2a300e43f1b48112a9c4]\n",
       "@startuml\r\n",
       " \r\n",
       "package \"CalculationExample\" as E1   {\r\n",
       "comp usage \"vehicle: Part\" as E2  << (P,limegreen) part>> {\r\n",
       "m: MassValue\r\n",
       "}\r\n",
       "comp usage \"eng: Part\" as E3  << (P,limegreen) part>> {\r\n",
       "m: MassValue\r\n",
       "}\r\n",
       "comp usage \"trans: Part\" as E4  << (P,limegreen) part>> {\r\n",
       "m: MassValue\r\n",
       "}\r\n",
       "rec def \"MassSum\" as E5 {\r\n",
       "portin \"partMasses\" as E6  \r\n",
       "portout \"totalMass\" as E7  \r\n",
       "portin \"$collection\" as E8  \r\n",
       "portout \"$result\" as E9  \r\n",
       "}\r\n",
       "\r\n",
       "comp usage \"ms: MassSum\" as E10  <<(U,orange)calculation>> {\r\n",
       "}\r\n",
       "rec def \"MassSum1\" as E11 {\r\n",
       "portin \"partMasses\" as E12  \r\n",
       "portout \"totalMass\" as E13  \r\n",
       "}\r\n",
       "\r\n",
       "comp usage \"ms1: MassSum\" as E14  <<(U,orange)calculation>> {\r\n",
       "partMasses: MassValue= {vehicle::eng::m, vehicle::trans::m}; \\n//:>>MassSum::partMasses// \r\n",
       "totalMass: MassValue= vehicle::m; \\n//:>>MassSum::totalMass// \r\n",
       "}\r\n",
       "E2 *- - E3\r\n",
       "E2 *- - E4\r\n",
       "E7 -[thickness=5,#red]- E9\r\n",
       "E10 - -:|> E5\r\n",
       "E14 - -:|> E5\r\n",
       "}\r\n",
       "@enduml\r\n",
       "\n",
       "PlantUML version 1.2020.13(Sat Jun 13 12:26:38 UTC 2020)\n",
       "(EPL source distribution)\n",
       "Java Runtime: OpenJDK Runtime Environment\n",
       "JVM: OpenJDK 64-Bit Server VM\n",
       "Default Encoding: UTF-8\n",
       "Language: en\n",
       "Country: null\n",
       "--></g></svg>"
      ]
     },
     "execution_count": 36,
     "metadata": {},
     "output_type": "execute_result"
    }
   ],
   "source": [
    "%viz --style=\"PLANTUML\" --view=\"MIXED\" \"CalculationExample\""
   ]
  },
  {
   "cell_type": "code",
   "execution_count": 37,
   "id": "fantastic-blanket",
   "metadata": {
    "execution": {
     "iopub.execute_input": "2021-03-26T09:44:29.367969Z",
     "iopub.status.busy": "2021-03-26T09:44:29.367365Z",
     "iopub.status.idle": "2021-03-26T09:44:29.432451Z",
     "shell.execute_reply": "2021-03-26T09:44:29.430920Z"
    }
   },
   "outputs": [
    {
     "data": {
      "image/svg+xml": [
       "<?xml version=\"1.0\" encoding=\"UTF-8\" standalone=\"no\"?><svg xmlns=\"http://www.w3.org/2000/svg\" xmlns:xlink=\"http://www.w3.org/1999/xlink\" contentScriptType=\"application/ecmascript\" contentStyleType=\"text/css\" height=\"446px\" preserveAspectRatio=\"none\" style=\"width:920px;height:446px;\" version=\"1.1\" viewBox=\"0 0 920 446\" width=\"920px\" zoomAndPan=\"magnify\"><defs/><g><!--MD5=[fbc87193dbaf4d95561dea2c320d4a47]\n",
       "cluster E1--><polygon fill=\"#FFFFFF\" points=\"16,6,173,6,180,28.2969,898,28.2969,898,434.72,16,434.72,16,6\" style=\"stroke: #000000; stroke-width: 1.5;\"/><line style=\"stroke: #000000; stroke-width: 1.5;\" x1=\"16\" x2=\"180\" y1=\"28.2969\" y2=\"28.2969\"/><text fill=\"#000000\" font-family=\"sans-serif\" font-size=\"14\" font-weight=\"bold\" lengthAdjust=\"spacingAndGlyphs\" textLength=\"151\" x=\"20\" y=\"20.9951\">CalculationExample</text><!--MD5=[de5ec2e2e8f62f467e546659f5068c88]\n",
       "cluster E5--><rect fill=\"#FFFFFF\" height=\"300.72\" style=\"stroke: #000000; stroke-width: 1.5;\" width=\"128\" x=\"365\" y=\"96\"/><text fill=\"#000000\" font-family=\"sans-serif\" font-size=\"14\" font-weight=\"bold\" lengthAdjust=\"spacingAndGlyphs\" textLength=\"74\" x=\"392\" y=\"110.9951\">MassSum</text><!--MD5=[917b9dd0c7eca3ee5f47219d1a84c0ad]\n",
       "cluster E11--><rect fill=\"#FFFFFF\" height=\"300.72\" style=\"stroke: #000000; stroke-width: 1.5;\" width=\"132\" x=\"750\" y=\"96\"/><text fill=\"#000000\" font-family=\"sans-serif\" font-size=\"14\" font-weight=\"bold\" lengthAdjust=\"spacingAndGlyphs\" textLength=\"84\" x=\"774\" y=\"110.9951\">MassSum1</text><!--MD5=[b4997ac47864f28c2f74865a473b2911]\n",
       "class E2--><rect fill=\"#FFFFFF\" height=\"58.7422\" id=\"E2\" rx=\"10\" ry=\"10\" style=\"stroke: #383838; stroke-width: 1.5;\" width=\"92\" x=\"643\" y=\"66.5\"/><text fill=\"#000000\" font-family=\"sans-serif\" font-size=\"12\" font-style=\"italic\" lengthAdjust=\"spacingAndGlyphs\" textLength=\"40\" x=\"669\" y=\"82.6387\">«part»</text><text fill=\"#000000\" font-family=\"sans-serif\" font-size=\"12\" lengthAdjust=\"spacingAndGlyphs\" textLength=\"77\" x=\"650.5\" y=\"96.6074\">vehicle: Part</text><line style=\"stroke: #383838; stroke-width: 1.5;\" x1=\"644\" x2=\"734\" y1=\"104.4375\" y2=\"104.4375\"/><text fill=\"#000000\" font-family=\"sans-serif\" font-size=\"11\" lengthAdjust=\"spacingAndGlyphs\" textLength=\"80\" x=\"649\" y=\"118.6479\">m: MassValue</text><!--MD5=[09b614a08d8cba4a07c9adeb5e0fee81]\n",
       "class E3--><rect fill=\"#FFFFFF\" height=\"58.7422\" id=\"E3\" rx=\"10\" ry=\"10\" style=\"stroke: #383838; stroke-width: 1.5;\" width=\"92\" x=\"512\" y=\"211\"/><text fill=\"#000000\" font-family=\"sans-serif\" font-size=\"12\" font-style=\"italic\" lengthAdjust=\"spacingAndGlyphs\" textLength=\"40\" x=\"538\" y=\"227.1387\">«part»</text><text fill=\"#000000\" font-family=\"sans-serif\" font-size=\"12\" lengthAdjust=\"spacingAndGlyphs\" textLength=\"58\" x=\"529\" y=\"241.1074\">eng: Part</text><line style=\"stroke: #383838; stroke-width: 1.5;\" x1=\"513\" x2=\"603\" y1=\"248.9375\" y2=\"248.9375\"/><text fill=\"#000000\" font-family=\"sans-serif\" font-size=\"11\" lengthAdjust=\"spacingAndGlyphs\" textLength=\"80\" x=\"518\" y=\"263.1479\">m: MassValue</text><!--MD5=[ebbe1d658d1005bcc118a6aa81145e00]\n",
       "class E4--><rect fill=\"#FFFFFF\" height=\"58.7422\" id=\"E4\" rx=\"10\" ry=\"10\" style=\"stroke: #383838; stroke-width: 1.5;\" width=\"92\" x=\"639\" y=\"211\"/><text fill=\"#000000\" font-family=\"sans-serif\" font-size=\"12\" font-style=\"italic\" lengthAdjust=\"spacingAndGlyphs\" textLength=\"40\" x=\"665\" y=\"227.1387\">«part»</text><text fill=\"#000000\" font-family=\"sans-serif\" font-size=\"12\" lengthAdjust=\"spacingAndGlyphs\" textLength=\"67\" x=\"651.5\" y=\"241.1074\">trans: Part</text><line style=\"stroke: #383838; stroke-width: 1.5;\" x1=\"640\" x2=\"730\" y1=\"248.9375\" y2=\"248.9375\"/><text fill=\"#000000\" font-family=\"sans-serif\" font-size=\"11\" lengthAdjust=\"spacingAndGlyphs\" textLength=\"80\" x=\"645\" y=\"263.1479\">m: MassValue</text><!--MD5=[96f4274e9e20536e775497830990834d]\n",
       "class E10--><rect fill=\"#FFFFFF\" height=\"45.9375\" id=\"E10\" rx=\"10\" ry=\"10\" style=\"stroke: #383838; stroke-width: 1.5;\" width=\"91\" x=\"516.5\" y=\"73\"/><text fill=\"#000000\" font-family=\"sans-serif\" font-size=\"12\" font-style=\"italic\" lengthAdjust=\"spacingAndGlyphs\" textLength=\"82\" x=\"521\" y=\"89.1387\">«calculation»</text><text fill=\"#000000\" font-family=\"sans-serif\" font-size=\"12\" lengthAdjust=\"spacingAndGlyphs\" textLength=\"85\" x=\"519.5\" y=\"103.1074\">ms: MassSum</text><line style=\"stroke: #383838; stroke-width: 1.5;\" x1=\"517.5\" x2=\"606.5\" y1=\"110.9375\" y2=\"110.9375\"/><!--MD5=[bee11217b2f71d958a27249dc326068c]\n",
       "class E14--><rect fill=\"#FFFFFF\" height=\"109.9609\" id=\"E14\" rx=\"10\" ry=\"10\" style=\"stroke: #383838; stroke-width: 1.5;\" width=\"310\" x=\"32\" y=\"41\"/><text fill=\"#000000\" font-family=\"sans-serif\" font-size=\"12\" font-style=\"italic\" lengthAdjust=\"spacingAndGlyphs\" textLength=\"82\" x=\"146\" y=\"57.1387\">«calculation»</text><text fill=\"#000000\" font-family=\"sans-serif\" font-size=\"12\" lengthAdjust=\"spacingAndGlyphs\" textLength=\"93\" x=\"140.5\" y=\"71.1074\">ms1: MassSum</text><line style=\"stroke: #383838; stroke-width: 1.5;\" x1=\"33\" x2=\"341\" y1=\"78.9375\" y2=\"78.9375\"/><text fill=\"#000000\" font-family=\"sans-serif\" font-size=\"11\" lengthAdjust=\"spacingAndGlyphs\" textLength=\"298\" x=\"38\" y=\"93.1479\">partMasses: MassValue= {vehicle::eng::m, vehicle::</text><text fill=\"#000000\" font-family=\"sans-serif\" font-size=\"11\" lengthAdjust=\"spacingAndGlyphs\" textLength=\"60\" x=\"38\" y=\"105.9526\">trans::m};</text><text fill=\"#000000\" font-family=\"sans-serif\" font-size=\"11\" font-style=\"italic\" lengthAdjust=\"spacingAndGlyphs\" textLength=\"153\" x=\"38\" y=\"118.7573\">:&gt;&gt;MassSum::partMasses</text><text fill=\"#000000\" font-family=\"sans-serif\" font-size=\"11\" lengthAdjust=\"spacingAndGlyphs\" textLength=\"199\" x=\"38\" y=\"131.562\">totalMass: MassValue= vehicle::m;</text><text fill=\"#000000\" font-family=\"sans-serif\" font-size=\"11\" font-style=\"italic\" lengthAdjust=\"spacingAndGlyphs\" textLength=\"141\" x=\"38\" y=\"144.3667\">:&gt;&gt;MassSum::totalMass</text><text fill=\"#000000\" font-family=\"sans-serif\" font-size=\"14\" lengthAdjust=\"spacingAndGlyphs\" textLength=\"80\" x=\"343\" y=\"74.6982\">partMasses</text><rect fill=\"#383838\" height=\"12\" style=\"stroke: #F8F8F8; stroke-width: 1.5;\" width=\"12\" x=\"377\" y=\"90\"/><text fill=\"#000000\" font-family=\"sans-serif\" font-size=\"14\" lengthAdjust=\"spacingAndGlyphs\" textLength=\"66\" x=\"365\" y=\"415.7151\">totalMass</text><rect fill=\"#383838\" height=\"12\" style=\"stroke: #F8F8F8; stroke-width: 1.5;\" width=\"12\" x=\"392\" y=\"390.72\"/><text fill=\"#000000\" font-family=\"sans-serif\" font-size=\"14\" lengthAdjust=\"spacingAndGlyphs\" textLength=\"75\" x=\"437.5\" y=\"74.6982\">$collection</text><rect fill=\"#383838\" height=\"12\" style=\"stroke: #F8F8F8; stroke-width: 1.5;\" width=\"12\" x=\"469\" y=\"90\"/><text fill=\"#000000\" font-family=\"sans-serif\" font-size=\"14\" lengthAdjust=\"spacingAndGlyphs\" textLength=\"48\" x=\"421\" y=\"415.7151\">$result</text><rect fill=\"#383838\" height=\"12\" style=\"stroke: #F8F8F8; stroke-width: 1.5;\" width=\"12\" x=\"439\" y=\"390.72\"/><text fill=\"#000000\" font-family=\"sans-serif\" font-size=\"14\" lengthAdjust=\"spacingAndGlyphs\" textLength=\"80\" x=\"776\" y=\"74.6982\">partMasses</text><rect fill=\"#383838\" height=\"12\" style=\"stroke: #F8F8F8; stroke-width: 1.5;\" width=\"12\" x=\"810\" y=\"90\"/><text fill=\"#000000\" font-family=\"sans-serif\" font-size=\"14\" lengthAdjust=\"spacingAndGlyphs\" textLength=\"66\" x=\"783\" y=\"415.7151\">totalMass</text><rect fill=\"#383838\" height=\"12\" style=\"stroke: #F8F8F8; stroke-width: 1.5;\" width=\"12\" x=\"810\" y=\"390.72\"/><!--MD5=[209b3feb70ccb6233bfe1053d122c12c]\n",
       "reverse link E2 to E3--><path d=\"M653.54,135.57 C631.77,159.25 604.35,189.08 584.47,210.71 \" fill=\"none\" id=\"E2&lt;-E3\" style=\"stroke: #383838; stroke-width: 1.0;\"/><polygon fill=\"#383838\" points=\"662.49,125.84,655.4845,127.5496,654.3682,134.6738,661.3737,132.9642,662.49,125.84\" style=\"stroke: #383838; stroke-width: 1.0;\"/><!--MD5=[9618e71518536f8baf3342ff6fdab317]\n",
       "reverse link E2 to E4--><path d=\"M687.82,139.1 C687.17,162.16 686.39,190.15 685.81,210.71 \" fill=\"none\" id=\"E2&lt;-E4\" style=\"stroke: #383838; stroke-width: 1.0;\"/><polygon fill=\"#383838\" points=\"688.19,125.84,684.0201,131.7232,687.8469,137.8351,692.0168,131.9519,688.19,125.84\" style=\"stroke: #383838; stroke-width: 1.0;\"/><!--MD5=[1c0b9414cc86e0744215edee6abd8926]\n",
       "link E7 to E9--><path d=\"M404.24,394.65 C415.81,391.39 427.38,391.41 438.95,394.7 \" fill=\"none\" id=\"E7-E9\" style=\"stroke: #383838; stroke-width: 5.0;\"/><!--MD5=[ec5e0a54482b142abcecfe541d624bff]\n",
       "link E10 to E5--><path d=\"M540.91,119.27 C533.3075,127.2925 524.1837,136.9213 514.4525,147.1917 C509.5869,152.327 504.5694,157.6226 499.5142,162.9581 C498.2504,164.292 496.9843,165.6284 495.7176,166.9654 C495.0842,167.6339 494.4507,168.3025 493.8173,168.9711 C493.659,169.1382 493.5006,169.3053 493.3423,169.4725 \" fill=\"none\" id=\"E10-&gt;E5\" style=\"stroke: #383838; stroke-width: 1.0;\"/><polygon fill=\"#FFFFFF\" points=\"493.3423,169.4725,501.3284,150.8654,511.4914,160.4942,493.3423,169.4725\" style=\"stroke: #383838; stroke-width: 1.0;\"/><ellipse cx=\"506.7005\" cy=\"148.1032\" fill=\"#383838\" rx=\"2\" ry=\"2\" style=\"stroke: #383838; stroke-width: 1.0;\"/><ellipse cx=\"513.9598\" cy=\"154.9809\" fill=\"#383838\" rx=\"2\" ry=\"2\" style=\"stroke: #383838; stroke-width: 1.0;\"/><!--MD5=[111e5536516ee1ad7d4266f589654f03]\n",
       "link E14 to E5--><path d=\"M278.08,151.08 C303.275,166.04 330.2775,182.0725 354.2775,196.3213 C357.2775,198.1023 360.2306,199.8556 363.1274,201.5753 C363.4895,201.7903 363.8507,202.0048 364.211,202.2187 C364.3912,202.3256 364.5711,202.4325 364.7508,202.5391 \" fill=\"none\" id=\"E14-&gt;E5\" style=\"stroke: #383838; stroke-width: 1.0;\"/><polygon fill=\"#FFFFFF\" points=\"364.7508,202.5391,344.8396,198.8589,351.9865,186.8206,364.7508,202.5391\" style=\"stroke: #383838; stroke-width: 1.0;\"/><ellipse cx=\"340.9593\" cy=\"194.2293\" fill=\"#383838\" rx=\"2\" ry=\"2\" style=\"stroke: #383838; stroke-width: 1.0;\"/><ellipse cx=\"346.0642\" cy=\"185.6305\" fill=\"#383838\" rx=\"2\" ry=\"2\" style=\"stroke: #383838; stroke-width: 1.0;\"/><!--MD5=[40c8b1dd1ee8cbb57a1f916e40b14919]\n",
       "@startuml\r\n",
       "skinparam monochrome true\r\n",
       "skinparam classbackgroundcolor white\r\n",
       "skinparam shadowing false\r\n",
       "skinparam wrapWidth 300\r\n",
       "hide circle\r\n",
       "\r\n",
       "package \"CalculationExample\" as E1   {\r\n",
       "comp usage \"vehicle: Part\" as E2  <<(T,blue)part>> {\r\n",
       "m: MassValue\r\n",
       "}\r\n",
       "comp usage \"eng: Part\" as E3  <<(T,blue)part>> {\r\n",
       "m: MassValue\r\n",
       "}\r\n",
       "comp usage \"trans: Part\" as E4  <<(T,blue)part>> {\r\n",
       "m: MassValue\r\n",
       "}\r\n",
       "rec def \"MassSum\" as E5 {\r\n",
       "portin \"partMasses\" as E6  \r\n",
       "portout \"totalMass\" as E7  \r\n",
       "portin \"$collection\" as E8  \r\n",
       "portout \"$result\" as E9  \r\n",
       "}\r\n",
       "\r\n",
       "comp usage \"ms: MassSum\" as E10  <<(T,blue)calculation>> {\r\n",
       "}\r\n",
       "rec def \"MassSum1\" as E11 {\r\n",
       "portin \"partMasses\" as E12  \r\n",
       "portout \"totalMass\" as E13  \r\n",
       "}\r\n",
       "\r\n",
       "comp usage \"ms1: MassSum\" as E14  <<(T,blue)calculation>> {\r\n",
       "partMasses: MassValue= {vehicle::eng::m, vehicle::trans::m}; \\n//:>>MassSum::partMasses// \r\n",
       "totalMass: MassValue= vehicle::m; \\n//:>>MassSum::totalMass// \r\n",
       "}\r\n",
       "E2 *- - E3\r\n",
       "E2 *- - E4\r\n",
       "E7 -[thickness=5]- E9\r\n",
       "E10 - -:|> E5\r\n",
       "E14 - -:|> E5\r\n",
       "}\r\n",
       "@enduml\r\n",
       "\n",
       "PlantUML version 1.2020.13(Sat Jun 13 12:26:38 UTC 2020)\n",
       "(EPL source distribution)\n",
       "Java Runtime: OpenJDK Runtime Environment\n",
       "JVM: OpenJDK 64-Bit Server VM\n",
       "Default Encoding: UTF-8\n",
       "Language: en\n",
       "Country: null\n",
       "--></g></svg>"
      ]
     },
     "execution_count": 37,
     "metadata": {},
     "output_type": "execute_result"
    }
   ],
   "source": [
    "%viz --style=\"DEFAULT\" --view=\"Default\" \"CalculationExample\""
   ]
  },
  {
   "cell_type": "code",
   "execution_count": 38,
   "id": "fantastic-drain",
   "metadata": {
    "execution": {
     "iopub.execute_input": "2021-03-26T09:44:29.482511Z",
     "iopub.status.busy": "2021-03-26T09:44:29.481678Z",
     "iopub.status.idle": "2021-03-26T09:44:29.558160Z",
     "shell.execute_reply": "2021-03-26T09:44:29.556771Z"
    }
   },
   "outputs": [
    {
     "data": {
      "image/svg+xml": [
       "<?xml version=\"1.0\" encoding=\"UTF-8\" standalone=\"no\"?><svg xmlns=\"http://www.w3.org/2000/svg\" xmlns:xlink=\"http://www.w3.org/1999/xlink\" contentScriptType=\"application/ecmascript\" contentStyleType=\"text/css\" height=\"298px\" preserveAspectRatio=\"none\" style=\"width:922px;height:298px;\" version=\"1.1\" viewBox=\"0 0 922 298\" width=\"922px\" zoomAndPan=\"magnify\"><defs/><g><!--MD5=[fbc87193dbaf4d95561dea2c320d4a47]\n",
       "cluster E1--><polygon fill=\"#FFFFFF\" points=\"16,6,173,6,180,28.2969,900,28.2969,900,286,16,286,16,6\" style=\"stroke: #000000; stroke-width: 1.5;\"/><line style=\"stroke: #000000; stroke-width: 1.5;\" x1=\"16\" x2=\"180\" y1=\"28.2969\" y2=\"28.2969\"/><text fill=\"#000000\" font-family=\"sans-serif\" font-size=\"14\" font-weight=\"bold\" lengthAdjust=\"spacingAndGlyphs\" textLength=\"151\" x=\"20\" y=\"20.9951\">CalculationExample</text><!--MD5=[b4997ac47864f28c2f74865a473b2911]\n",
       "class E2--><rect fill=\"#FFFFFF\" height=\"58.7422\" id=\"E2\" rx=\"10\" ry=\"10\" style=\"stroke: #383838; stroke-width: 1.5;\" width=\"92\" x=\"792\" y=\"66.5\"/><text fill=\"#000000\" font-family=\"sans-serif\" font-size=\"12\" font-style=\"italic\" lengthAdjust=\"spacingAndGlyphs\" textLength=\"40\" x=\"818\" y=\"82.6387\">«part»</text><text fill=\"#000000\" font-family=\"sans-serif\" font-size=\"12\" lengthAdjust=\"spacingAndGlyphs\" textLength=\"77\" x=\"799.5\" y=\"96.6074\">vehicle: Part</text><line style=\"stroke: #383838; stroke-width: 1.5;\" x1=\"793\" x2=\"883\" y1=\"104.4375\" y2=\"104.4375\"/><text fill=\"#000000\" font-family=\"sans-serif\" font-size=\"11\" lengthAdjust=\"spacingAndGlyphs\" textLength=\"80\" x=\"798\" y=\"118.6479\">m: MassValue</text><!--MD5=[09b614a08d8cba4a07c9adeb5e0fee81]\n",
       "class E3--><rect fill=\"#FFFFFF\" height=\"58.7422\" id=\"E3\" rx=\"10\" ry=\"10\" style=\"stroke: #383838; stroke-width: 1.5;\" width=\"92\" x=\"665\" y=\"211\"/><text fill=\"#000000\" font-family=\"sans-serif\" font-size=\"12\" font-style=\"italic\" lengthAdjust=\"spacingAndGlyphs\" textLength=\"40\" x=\"691\" y=\"227.1387\">«part»</text><text fill=\"#000000\" font-family=\"sans-serif\" font-size=\"12\" lengthAdjust=\"spacingAndGlyphs\" textLength=\"58\" x=\"682\" y=\"241.1074\">eng: Part</text><line style=\"stroke: #383838; stroke-width: 1.5;\" x1=\"666\" x2=\"756\" y1=\"248.9375\" y2=\"248.9375\"/><text fill=\"#000000\" font-family=\"sans-serif\" font-size=\"11\" lengthAdjust=\"spacingAndGlyphs\" textLength=\"80\" x=\"671\" y=\"263.1479\">m: MassValue</text><!--MD5=[ebbe1d658d1005bcc118a6aa81145e00]\n",
       "class E4--><rect fill=\"#FFFFFF\" height=\"58.7422\" id=\"E4\" rx=\"10\" ry=\"10\" style=\"stroke: #383838; stroke-width: 1.5;\" width=\"92\" x=\"792\" y=\"211\"/><text fill=\"#000000\" font-family=\"sans-serif\" font-size=\"12\" font-style=\"italic\" lengthAdjust=\"spacingAndGlyphs\" textLength=\"40\" x=\"818\" y=\"227.1387\">«part»</text><text fill=\"#000000\" font-family=\"sans-serif\" font-size=\"12\" lengthAdjust=\"spacingAndGlyphs\" textLength=\"67\" x=\"804.5\" y=\"241.1074\">trans: Part</text><line style=\"stroke: #383838; stroke-width: 1.5;\" x1=\"793\" x2=\"883\" y1=\"248.9375\" y2=\"248.9375\"/><text fill=\"#000000\" font-family=\"sans-serif\" font-size=\"11\" lengthAdjust=\"spacingAndGlyphs\" textLength=\"80\" x=\"798\" y=\"263.1479\">m: MassValue</text><!--MD5=[270fce915f116d4de14055a7c1d9a0f3]\n",
       "class E5--><rect fill=\"#FFFFFF\" height=\"45.9375\" id=\"E5\" style=\"stroke: #383838; stroke-width: 1.5;\" width=\"108\" x=\"327\" y=\"217.5\"/><text fill=\"#000000\" font-family=\"sans-serif\" font-size=\"12\" font-style=\"italic\" lengthAdjust=\"spacingAndGlyphs\" textLength=\"106\" x=\"328\" y=\"233.6387\">«calculation def»</text><text fill=\"#000000\" font-family=\"sans-serif\" font-size=\"12\" lengthAdjust=\"spacingAndGlyphs\" textLength=\"59\" x=\"351.5\" y=\"247.6074\">MassSum</text><line style=\"stroke: #383838; stroke-width: 1.5;\" x1=\"328\" x2=\"434\" y1=\"255.4375\" y2=\"255.4375\"/><!--MD5=[60a26617385b1d2d0262a64233df1f8d]\n",
       "class E6--><rect fill=\"#FFFFFF\" height=\"45.9375\" id=\"E6\" rx=\"10\" ry=\"10\" style=\"stroke: #383838; stroke-width: 1.5;\" width=\"91\" x=\"665.5\" y=\"73\"/><text fill=\"#000000\" font-family=\"sans-serif\" font-size=\"12\" font-style=\"italic\" lengthAdjust=\"spacingAndGlyphs\" textLength=\"82\" x=\"670\" y=\"89.1387\">«calculation»</text><text fill=\"#000000\" font-family=\"sans-serif\" font-size=\"12\" lengthAdjust=\"spacingAndGlyphs\" textLength=\"85\" x=\"668.5\" y=\"103.1074\">ms: MassSum</text><line style=\"stroke: #383838; stroke-width: 1.5;\" x1=\"666.5\" x2=\"755.5\" y1=\"110.9375\" y2=\"110.9375\"/><!--MD5=[2156ba9850f5573cc1fc38a6a4b2f02b]\n",
       "class E7--><rect fill=\"#FFFFFF\" height=\"71.5469\" id=\"E7\" style=\"stroke: #383838; stroke-width: 1.5;\" width=\"253\" x=\"377.5\" y=\"60\"/><text fill=\"#000000\" font-family=\"sans-serif\" font-size=\"12\" font-style=\"italic\" lengthAdjust=\"spacingAndGlyphs\" textLength=\"106\" x=\"451\" y=\"76.1387\">«calculation def»</text><text fill=\"#000000\" font-family=\"sans-serif\" font-size=\"12\" lengthAdjust=\"spacingAndGlyphs\" textLength=\"67\" x=\"470.5\" y=\"90.1074\">MassSum1</text><line style=\"stroke: #383838; stroke-width: 1.5;\" x1=\"378.5\" x2=\"629.5\" y1=\"97.9375\" y2=\"97.9375\"/><text fill=\"#000000\" font-family=\"sans-serif\" font-size=\"11\" lengthAdjust=\"spacingAndGlyphs\" textLength=\"136\" x=\"383.5\" y=\"112.1479\">partMasses: MassValue</text><text fill=\"#000000\" font-family=\"sans-serif\" font-size=\"11\" lengthAdjust=\"spacingAndGlyphs\" textLength=\"241\" x=\"383.5\" y=\"124.9526\">totalMass: MassValue= sum(partMasses);</text><!--MD5=[b9389687b975829384b498ac4b7476b2]\n",
       "class E8--><rect fill=\"#FFFFFF\" height=\"109.9609\" id=\"E8\" rx=\"10\" ry=\"10\" style=\"stroke: #383838; stroke-width: 1.5;\" width=\"310\" x=\"32\" y=\"41\"/><text fill=\"#000000\" font-family=\"sans-serif\" font-size=\"12\" font-style=\"italic\" lengthAdjust=\"spacingAndGlyphs\" textLength=\"82\" x=\"146\" y=\"57.1387\">«calculation»</text><text fill=\"#000000\" font-family=\"sans-serif\" font-size=\"12\" lengthAdjust=\"spacingAndGlyphs\" textLength=\"93\" x=\"140.5\" y=\"71.1074\">ms1: MassSum</text><line style=\"stroke: #383838; stroke-width: 1.5;\" x1=\"33\" x2=\"341\" y1=\"78.9375\" y2=\"78.9375\"/><text fill=\"#000000\" font-family=\"sans-serif\" font-size=\"11\" lengthAdjust=\"spacingAndGlyphs\" textLength=\"298\" x=\"38\" y=\"93.1479\">partMasses: MassValue= {vehicle::eng::m, vehicle::</text><text fill=\"#000000\" font-family=\"sans-serif\" font-size=\"11\" lengthAdjust=\"spacingAndGlyphs\" textLength=\"60\" x=\"38\" y=\"105.9526\">trans::m};</text><text fill=\"#000000\" font-family=\"sans-serif\" font-size=\"11\" font-style=\"italic\" lengthAdjust=\"spacingAndGlyphs\" textLength=\"153\" x=\"38\" y=\"118.7573\">:&gt;&gt;MassSum::partMasses</text><text fill=\"#000000\" font-family=\"sans-serif\" font-size=\"11\" lengthAdjust=\"spacingAndGlyphs\" textLength=\"199\" x=\"38\" y=\"131.562\">totalMass: MassValue= vehicle::m;</text><text fill=\"#000000\" font-family=\"sans-serif\" font-size=\"11\" font-style=\"italic\" lengthAdjust=\"spacingAndGlyphs\" textLength=\"141\" x=\"38\" y=\"144.3667\">:&gt;&gt;MassSum::totalMass</text><!--MD5=[209b3feb70ccb6233bfe1053d122c12c]\n",
       "reverse link E2 to E3--><path d=\"M803.63,135.57 C782.52,159.25 755.93,189.08 736.66,210.71 \" fill=\"none\" id=\"E2&lt;-E3\" style=\"stroke: #383838; stroke-width: 1.0;\"/><polygon fill=\"#383838\" points=\"812.3,125.84,805.3219,127.6581,804.3162,134.7987,811.2943,132.9806,812.3,125.84\" style=\"stroke: #383838; stroke-width: 1.0;\"/><!--MD5=[9618e71518536f8baf3342ff6fdab317]\n",
       "reverse link E2 to E4--><path d=\"M838,139.1 C838,162.16 838,190.15 838,210.71 \" fill=\"none\" id=\"E2&lt;-E4\" style=\"stroke: #383838; stroke-width: 1.0;\"/><polygon fill=\"#383838\" points=\"838,125.84,834,131.84,838,137.84,842,131.84,838,125.84\" style=\"stroke: #383838; stroke-width: 1.0;\"/><!--MD5=[25b190c987b1e74e5126d372c5a73af1]\n",
       "link E6 to E5--><path d=\"M689.58,119.06 C678.08,129.89 663.18,142.42 648,151 C586.98,185.48 510.46,209.12 455,223.23 \" fill=\"none\" id=\"E6-&gt;E5\" style=\"stroke: #383838; stroke-width: 1.0;\"/><polygon fill=\"#FFFFFF\" points=\"435.22,228.09,452.0003,216.7576,455.3416,230.353,435.22,228.09\" style=\"stroke: #383838; stroke-width: 1.0;\"/><ellipse cx=\"458.0129\" cy=\"217.3394\" fill=\"#383838\" rx=\"2\" ry=\"2\" style=\"stroke: #383838; stroke-width: 1.0;\"/><ellipse cx=\"460.3995\" cy=\"227.0504\" fill=\"#383838\" rx=\"2\" ry=\"2\" style=\"stroke: #383838; stroke-width: 1.0;\"/><!--MD5=[1ccb2481ffa92f8d51a74ee30c51832a]\n",
       "link E8 to E5--><path d=\"M260.62,151.08 C285.44,169.31 312.43,189.13 334.55,205.38 \" fill=\"none\" id=\"E8-&gt;E5\" style=\"stroke: #383838; stroke-width: 1.0;\"/><polygon fill=\"#FFFFFF\" points=\"350.76,217.29,331.3013,211.69,339.5856,200.4041,350.76,217.29\" style=\"stroke: #383838; stroke-width: 1.0;\"/><ellipse cx=\"327.8899\" cy=\"206.7048\" fill=\"#383838\" rx=\"2\" ry=\"2\" style=\"stroke: #383838; stroke-width: 1.0;\"/><ellipse cx=\"333.8072\" cy=\"198.6435\" fill=\"#383838\" rx=\"2\" ry=\"2\" style=\"stroke: #383838; stroke-width: 1.0;\"/><!--MD5=[d325dca4b69b3bc88681f031360cfcae]\n",
       "@startuml\r\n",
       "skinparam monochrome true\r\n",
       "skinparam classbackgroundcolor white\r\n",
       "skinparam shadowing false\r\n",
       "skinparam wrapWidth 300\r\n",
       "hide circle\r\n",
       "\r\n",
       "package \"CalculationExample\" as E1   {\r\n",
       "comp usage \"vehicle: Part\" as E2  <<(T,blue)part>> {\r\n",
       "m: MassValue\r\n",
       "}\r\n",
       "comp usage \"eng: Part\" as E3  <<(T,blue)part>> {\r\n",
       "m: MassValue\r\n",
       "}\r\n",
       "comp usage \"trans: Part\" as E4  <<(T,blue)part>> {\r\n",
       "m: MassValue\r\n",
       "}\r\n",
       "comp def \"MassSum\" as E5  <<(T,blue)calculation def>> {\r\n",
       "}\r\n",
       "comp usage \"ms: MassSum\" as E6  <<(T,blue)calculation>> {\r\n",
       "}\r\n",
       "comp def \"MassSum1\" as E7  <<(T,blue)calculation def>> {\r\n",
       "partMasses: MassValue\r\n",
       "totalMass: MassValue= sum(partMasses); \r\n",
       "}\r\n",
       "comp usage \"ms1: MassSum\" as E8  <<(T,blue)calculation>> {\r\n",
       "partMasses: MassValue= {vehicle::eng::m, vehicle::trans::m}; \\n//:>>MassSum::partMasses// \r\n",
       "totalMass: MassValue= vehicle::m; \\n//:>>MassSum::totalMass// \r\n",
       "}\r\n",
       "E2 *- - E3\r\n",
       "E2 *- - E4\r\n",
       "E6 - -:|> E5\r\n",
       "E8 - -:|> E5\r\n",
       "}\r\n",
       "@enduml\r\n",
       "\n",
       "PlantUML version 1.2020.13(Sat Jun 13 12:26:38 UTC 2020)\n",
       "(EPL source distribution)\n",
       "Java Runtime: OpenJDK Runtime Environment\n",
       "JVM: OpenJDK 64-Bit Server VM\n",
       "Default Encoding: UTF-8\n",
       "Language: en\n",
       "Country: null\n",
       "--></g></svg>"
      ]
     },
     "execution_count": 38,
     "metadata": {},
     "output_type": "execute_result"
    }
   ],
   "source": [
    "%viz --style=\"DEFAULT\" --view=\"Tree\" \"CalculationExample\""
   ]
  },
  {
   "cell_type": "code",
   "execution_count": 39,
   "id": "optimum-poland",
   "metadata": {
    "execution": {
     "iopub.execute_input": "2021-03-26T09:44:29.607938Z",
     "iopub.status.busy": "2021-03-26T09:44:29.607471Z",
     "iopub.status.idle": "2021-03-26T09:44:29.610837Z",
     "shell.execute_reply": "2021-03-26T09:44:29.610469Z"
    }
   },
   "outputs": [
    {
     "data": {
      "text/plain": [
       "java.lang.IllegalArgumentException: Invalid View: State View candidates are: Default Tree StateMachine Interconnection Activity Sequence MIXED \n",
       "\tat org.omg.sysml.plantuml.SysML2PlantUMLSvc.setView(SysML2PlantUMLSvc.java:63)\n",
       "\tat org.omg.sysml.interactive.SysMLInteractive.viz(SysMLInteractive.java:286)\n",
       "\tat org.omg.sysml.jupyter.kernel.magic.Viz.viz(Viz.java:47)\n",
       "\tat jdk.internal.reflect.GeneratedMethodAccessor14.invoke(Unknown Source)\n",
       "\tat java.base/jdk.internal.reflect.DelegatingMethodAccessorImpl.invoke(DelegatingMethodAccessorImpl.java:43)\n",
       "\tat java.base/java.lang.reflect.Method.invoke(Method.java:568)\n",
       "\tat io.github.spencerpark.jupyter.kernel.magic.registry.Magics.invoke(Magics.java:89)\n",
       "\tat io.github.spencerpark.jupyter.kernel.magic.registry.Magics.access$000(Magics.java:8)\n",
       "\tat io.github.spencerpark.jupyter.kernel.magic.registry.Magics$LineReflectionMagicFunction.execute(Magics.java:149)\n",
       "\tat io.github.spencerpark.jupyter.kernel.magic.registry.Magics.applyLineMagic(Magics.java:26)\n",
       "\tat org.omg.sysml.jupyter.kernel.SysMLKernel.eval(SysMLKernel.java:76)\n",
       "\tat io.github.spencerpark.jupyter.kernel.BaseKernel.handleExecuteRequest(BaseKernel.java:334)\n",
       "\tat io.github.spencerpark.jupyter.channels.ShellChannel.lambda$bind$0(ShellChannel.java:64)\n",
       "\tat io.github.spencerpark.jupyter.channels.Loop.lambda$new$0(Loop.java:21)\n",
       "\tat io.github.spencerpark.jupyter.channels.Loop.run(Loop.java:78)\n"
      ]
     },
     "execution_count": 39,
     "metadata": {},
     "output_type": "execute_result"
    }
   ],
   "source": [
    "%viz --style=\"DEFAULT\" --view=\"State\" \"CalculationExample\""
   ]
  },
  {
   "cell_type": "code",
   "execution_count": 40,
   "id": "victorian-street",
   "metadata": {
    "execution": {
     "iopub.execute_input": "2021-03-26T09:44:29.663728Z",
     "iopub.status.busy": "2021-03-26T09:44:29.663137Z",
     "iopub.status.idle": "2021-03-26T09:44:29.689746Z",
     "shell.execute_reply": "2021-03-26T09:44:29.688524Z"
    }
   },
   "outputs": [
    {
     "data": {
      "image/svg+xml": [
       "<?xml version=\"1.0\" encoding=\"UTF-8\" standalone=\"no\"?><svg xmlns=\"http://www.w3.org/2000/svg\" xmlns:xlink=\"http://www.w3.org/1999/xlink\" contentScriptType=\"application/ecmascript\" contentStyleType=\"text/css\" height=\"253px\" preserveAspectRatio=\"none\" style=\"width:843px;height:253px;\" version=\"1.1\" viewBox=\"0 0 843 253\" width=\"843px\" zoomAndPan=\"magnify\"><defs/><g><!--MD5=[fbc87193dbaf4d95561dea2c320d4a47]\n",
       "cluster E1--><polygon fill=\"#FFFFFF\" points=\"16,6,173,6,180,28.2969,821,28.2969,821,241,16,241,16,6\" style=\"stroke: #000000; stroke-width: 1.5;\"/><line style=\"stroke: #000000; stroke-width: 1.5;\" x1=\"16\" x2=\"180\" y1=\"28.2969\" y2=\"28.2969\"/><text fill=\"#000000\" font-family=\"sans-serif\" font-size=\"14\" font-weight=\"bold\" lengthAdjust=\"spacingAndGlyphs\" textLength=\"151\" x=\"20\" y=\"20.9951\">CalculationExample</text><!--MD5=[e4f7fae6ed58524ba242bb0b0d3be6b7]\n",
       "cluster E2--><rect fill=\"#F8F8F8\" height=\"168\" rx=\"12.5\" ry=\"12.5\" style=\"stroke: #000000; stroke-width: 1.5;\" width=\"495\" x=\"302\" y=\"49\"/><rect fill=\"#FFFFFF\" height=\"135.7031\" rx=\"12.5\" ry=\"12.5\" style=\"stroke: #FFFFFF; stroke-width: 1.0;\" width=\"489\" x=\"305\" y=\"78.2969\"/><line style=\"stroke: #000000; stroke-width: 1.5;\" x1=\"302\" x2=\"797\" y1=\"75.2969\" y2=\"75.2969\"/><text fill=\"#000000\" font-family=\"sans-serif\" font-size=\"14\" lengthAdjust=\"spacingAndGlyphs\" textLength=\"84\" x=\"507.5\" y=\"65.9951\">vehicle: Part</text><!--MD5=[f6df4d0ebaf0b5dfb2ced0ae5af7c670]\n",
       "cluster E4--><rect fill=\"#F8F8F8\" height=\"101\" rx=\"12.5\" ry=\"12.5\" style=\"stroke: #000000; stroke-width: 1.5;\" width=\"148\" x=\"625\" y=\"92\"/><rect fill=\"#FFFFFF\" height=\"68.7031\" rx=\"12.5\" ry=\"12.5\" style=\"stroke: #FFFFFF; stroke-width: 1.0;\" width=\"142\" x=\"628\" y=\"121.2969\"/><line style=\"stroke: #000000; stroke-width: 1.5;\" x1=\"625\" x2=\"773\" y1=\"118.2969\" y2=\"118.2969\"/><text fill=\"#000000\" font-family=\"sans-serif\" font-size=\"14\" lengthAdjust=\"spacingAndGlyphs\" textLength=\"63\" x=\"667.5\" y=\"108.9951\">eng: Part</text><!--MD5=[14e3b0961a2654348d326746436168a1]\n",
       "cluster E6--><rect fill=\"#F8F8F8\" height=\"101\" rx=\"12.5\" ry=\"12.5\" style=\"stroke: #000000; stroke-width: 1.5;\" width=\"148\" x=\"453\" y=\"92\"/><rect fill=\"#FFFFFF\" height=\"68.7031\" rx=\"12.5\" ry=\"12.5\" style=\"stroke: #FFFFFF; stroke-width: 1.0;\" width=\"142\" x=\"456\" y=\"121.2969\"/><line style=\"stroke: #000000; stroke-width: 1.5;\" x1=\"453\" x2=\"601\" y1=\"118.2969\" y2=\"118.2969\"/><text fill=\"#000000\" font-family=\"sans-serif\" font-size=\"14\" lengthAdjust=\"spacingAndGlyphs\" textLength=\"71\" x=\"491.5\" y=\"108.9951\">trans: Part</text><!--MD5=[b9389687b975829384b498ac4b7476b2]\n",
       "class E8--><rect fill=\"#FFFFFF\" height=\"53.9375\" id=\"E8\" style=\"stroke: #383838; stroke-width: 1.5;\" width=\"108\" x=\"175\" y=\"125\"/><text fill=\"#000000\" font-family=\"sans-serif\" font-size=\"12\" font-style=\"italic\" lengthAdjust=\"spacingAndGlyphs\" textLength=\"106\" x=\"176\" y=\"141.1387\">«calculation def»</text><text fill=\"#000000\" font-family=\"sans-serif\" font-size=\"12\" lengthAdjust=\"spacingAndGlyphs\" textLength=\"59\" x=\"199.5\" y=\"155.1074\">MassSum</text><line style=\"stroke: #383838; stroke-width: 1.5;\" x1=\"176\" x2=\"282\" y1=\"162.9375\" y2=\"162.9375\"/><line style=\"stroke: #383838; stroke-width: 1.5;\" x1=\"176\" x2=\"282\" y1=\"170.9375\" y2=\"170.9375\"/><!--MD5=[fd4143e9d270a159db93a4ea2a975926]\n",
       "class E9--><rect fill=\"#FFFFFF\" height=\"53.9375\" id=\"E9\" style=\"stroke: #383838; stroke-width: 1.5;\" width=\"108\" x=\"32\" y=\"125\"/><text fill=\"#000000\" font-family=\"sans-serif\" font-size=\"12\" font-style=\"italic\" lengthAdjust=\"spacingAndGlyphs\" textLength=\"106\" x=\"33\" y=\"141.1387\">«calculation def»</text><text fill=\"#000000\" font-family=\"sans-serif\" font-size=\"12\" lengthAdjust=\"spacingAndGlyphs\" textLength=\"67\" x=\"52.5\" y=\"155.1074\">MassSum1</text><line style=\"stroke: #383838; stroke-width: 1.5;\" x1=\"33\" x2=\"139\" y1=\"162.9375\" y2=\"162.9375\"/><line style=\"stroke: #383838; stroke-width: 1.5;\" x1=\"33\" x2=\"139\" y1=\"170.9375\" y2=\"170.9375\"/><g id=\"E1.E2.E3\"><rect fill=\"#FFFFFF\" height=\"50\" rx=\"12.5\" ry=\"12.5\" style=\"stroke: #383838; stroke-width: 1.5;\" width=\"116\" x=\"318\" y=\"127\"/><line style=\"stroke: #383838; stroke-width: 1.5;\" x1=\"318\" x2=\"434\" y1=\"153.2969\" y2=\"153.2969\"/><text fill=\"#000000\" font-family=\"sans-serif\" font-size=\"14\" lengthAdjust=\"spacingAndGlyphs\" textLength=\"96\" x=\"328\" y=\"144.9951\">m: MassValue</text></g><g id=\"E1.E2.E4.E5\"><rect fill=\"#FFFFFF\" height=\"50\" rx=\"12.5\" ry=\"12.5\" style=\"stroke: #383838; stroke-width: 1.5;\" width=\"116\" x=\"641\" y=\"127\"/><line style=\"stroke: #383838; stroke-width: 1.5;\" x1=\"641\" x2=\"757\" y1=\"153.2969\" y2=\"153.2969\"/><text fill=\"#000000\" font-family=\"sans-serif\" font-size=\"14\" lengthAdjust=\"spacingAndGlyphs\" textLength=\"96\" x=\"651\" y=\"144.9951\">m: MassValue</text></g><g id=\"E1.E2.E6.E7\"><rect fill=\"#FFFFFF\" height=\"50\" rx=\"12.5\" ry=\"12.5\" style=\"stroke: #383838; stroke-width: 1.5;\" width=\"116\" x=\"469\" y=\"127\"/><line style=\"stroke: #383838; stroke-width: 1.5;\" x1=\"469\" x2=\"585\" y1=\"153.2969\" y2=\"153.2969\"/><text fill=\"#000000\" font-family=\"sans-serif\" font-size=\"14\" lengthAdjust=\"spacingAndGlyphs\" textLength=\"96\" x=\"479\" y=\"144.9951\">m: MassValue</text></g><!--MD5=[b2ef808522000cc8ae8f55939ebbbd7b]\n",
       "@startuml\r\n",
       "skinparam ranksep 8\r\n",
       "skinparam rectangle {\r\n",
       " backgroundColor<<block>> LightGreen\r\n",
       "}\r\n",
       "skinparam monochrome true\r\n",
       "skinparam classbackgroundcolor white\r\n",
       "skinparam shadowing false\r\n",
       "skinparam wrapWidth 300\r\n",
       "hide circle\r\n",
       "\r\n",
       "package \"CalculationExample\" as E1   {\r\n",
       "rec usage \"vehicle: Part\" as E2  {\r\n",
       "rec usage \"m: MassValue\" as E3  <<attribute>> {\r\n",
       "}\r\n",
       "rec usage \"eng: Part\" as E4  {\r\n",
       "rec usage \"m: MassValue\" as E5  <<attribute>> {\r\n",
       "}\r\n",
       "}\r\n",
       "rec usage \"trans: Part\" as E6  {\r\n",
       "rec usage \"m: MassValue\" as E7  <<attribute>> {\r\n",
       "}\r\n",
       "}\r\n",
       "}\r\n",
       "def \"MassSum\" as E8  <<calculation def>> \r\n",
       "def \"MassSum1\" as E9  <<calculation def>> \r\n",
       "}\r\n",
       "@enduml\r\n",
       "\n",
       "PlantUML version 1.2020.13(Sat Jun 13 12:26:38 UTC 2020)\n",
       "(EPL source distribution)\n",
       "Java Runtime: OpenJDK Runtime Environment\n",
       "JVM: OpenJDK 64-Bit Server VM\n",
       "Default Encoding: UTF-8\n",
       "Language: en\n",
       "Country: null\n",
       "--></g></svg>"
      ]
     },
     "execution_count": 40,
     "metadata": {},
     "output_type": "execute_result"
    }
   ],
   "source": [
    "%viz --style=\"DEFAULT\" --view=\"Interconnection\" \"CalculationExample\""
   ]
  },
  {
   "cell_type": "code",
   "execution_count": 41,
   "id": "available-bishop",
   "metadata": {
    "execution": {
     "iopub.execute_input": "2021-03-26T09:44:29.741654Z",
     "iopub.status.busy": "2021-03-26T09:44:29.741016Z",
     "iopub.status.idle": "2021-03-26T09:44:29.745252Z",
     "shell.execute_reply": "2021-03-26T09:44:29.744772Z"
    }
   },
   "outputs": [
    {
     "data": {
      "text/plain": [
       "java.lang.IllegalArgumentException: Invalid View: Action View candidates are: Default Tree StateMachine Interconnection Activity Sequence MIXED \n",
       "\tat org.omg.sysml.plantuml.SysML2PlantUMLSvc.setView(SysML2PlantUMLSvc.java:63)\n",
       "\tat org.omg.sysml.interactive.SysMLInteractive.viz(SysMLInteractive.java:286)\n",
       "\tat org.omg.sysml.jupyter.kernel.magic.Viz.viz(Viz.java:47)\n",
       "\tat jdk.internal.reflect.GeneratedMethodAccessor14.invoke(Unknown Source)\n",
       "\tat java.base/jdk.internal.reflect.DelegatingMethodAccessorImpl.invoke(DelegatingMethodAccessorImpl.java:43)\n",
       "\tat java.base/java.lang.reflect.Method.invoke(Method.java:568)\n",
       "\tat io.github.spencerpark.jupyter.kernel.magic.registry.Magics.invoke(Magics.java:89)\n",
       "\tat io.github.spencerpark.jupyter.kernel.magic.registry.Magics.access$000(Magics.java:8)\n",
       "\tat io.github.spencerpark.jupyter.kernel.magic.registry.Magics$LineReflectionMagicFunction.execute(Magics.java:149)\n",
       "\tat io.github.spencerpark.jupyter.kernel.magic.registry.Magics.applyLineMagic(Magics.java:26)\n",
       "\tat org.omg.sysml.jupyter.kernel.SysMLKernel.eval(SysMLKernel.java:76)\n",
       "\tat io.github.spencerpark.jupyter.kernel.BaseKernel.handleExecuteRequest(BaseKernel.java:334)\n",
       "\tat io.github.spencerpark.jupyter.channels.ShellChannel.lambda$bind$0(ShellChannel.java:64)\n",
       "\tat io.github.spencerpark.jupyter.channels.Loop.lambda$new$0(Loop.java:21)\n",
       "\tat io.github.spencerpark.jupyter.channels.Loop.run(Loop.java:78)\n"
      ]
     },
     "execution_count": 41,
     "metadata": {},
     "output_type": "execute_result"
    }
   ],
   "source": [
    "%viz --style=\"DEFAULT\" --view=\"Action\" \"CalculationExample\""
   ]
  },
  {
   "cell_type": "code",
   "execution_count": 42,
   "id": "functional-musical",
   "metadata": {
    "execution": {
     "iopub.execute_input": "2021-03-26T09:44:29.797972Z",
     "iopub.status.busy": "2021-03-26T09:44:29.797270Z",
     "iopub.status.idle": "2021-03-26T09:44:29.872497Z",
     "shell.execute_reply": "2021-03-26T09:44:29.869407Z"
    }
   },
   "outputs": [
    {
     "data": {
      "image/svg+xml": [
       "<?xml version=\"1.0\" encoding=\"UTF-8\" standalone=\"no\"?><svg xmlns=\"http://www.w3.org/2000/svg\" xmlns:xlink=\"http://www.w3.org/1999/xlink\" contentScriptType=\"application/ecmascript\" contentStyleType=\"text/css\" height=\"298px\" preserveAspectRatio=\"none\" style=\"width:922px;height:298px;\" version=\"1.1\" viewBox=\"0 0 922 298\" width=\"922px\" zoomAndPan=\"magnify\"><defs/><g><!--MD5=[fbc87193dbaf4d95561dea2c320d4a47]\n",
       "cluster E1--><polygon fill=\"#FFFFFF\" points=\"16,6,173,6,180,28.2969,900,28.2969,900,286,16,286,16,6\" style=\"stroke: #000000; stroke-width: 1.5;\"/><line style=\"stroke: #000000; stroke-width: 1.5;\" x1=\"16\" x2=\"180\" y1=\"28.2969\" y2=\"28.2969\"/><text fill=\"#000000\" font-family=\"sans-serif\" font-size=\"14\" font-weight=\"bold\" lengthAdjust=\"spacingAndGlyphs\" textLength=\"151\" x=\"20\" y=\"20.9951\">CalculationExample</text><!--MD5=[b4997ac47864f28c2f74865a473b2911]\n",
       "class E2--><rect fill=\"#FFFFFF\" height=\"58.7422\" id=\"E2\" rx=\"10\" ry=\"10\" style=\"stroke: #383838; stroke-width: 1.5;\" width=\"92\" x=\"792\" y=\"66.5\"/><text fill=\"#000000\" font-family=\"sans-serif\" font-size=\"12\" font-style=\"italic\" lengthAdjust=\"spacingAndGlyphs\" textLength=\"40\" x=\"818\" y=\"82.6387\">«part»</text><text fill=\"#000000\" font-family=\"sans-serif\" font-size=\"12\" lengthAdjust=\"spacingAndGlyphs\" textLength=\"77\" x=\"799.5\" y=\"96.6074\">vehicle: Part</text><line style=\"stroke: #383838; stroke-width: 1.5;\" x1=\"793\" x2=\"883\" y1=\"104.4375\" y2=\"104.4375\"/><text fill=\"#000000\" font-family=\"sans-serif\" font-size=\"11\" lengthAdjust=\"spacingAndGlyphs\" textLength=\"80\" x=\"798\" y=\"118.6479\">m: MassValue</text><!--MD5=[09b614a08d8cba4a07c9adeb5e0fee81]\n",
       "class E3--><rect fill=\"#FFFFFF\" height=\"58.7422\" id=\"E3\" rx=\"10\" ry=\"10\" style=\"stroke: #383838; stroke-width: 1.5;\" width=\"92\" x=\"665\" y=\"211\"/><text fill=\"#000000\" font-family=\"sans-serif\" font-size=\"12\" font-style=\"italic\" lengthAdjust=\"spacingAndGlyphs\" textLength=\"40\" x=\"691\" y=\"227.1387\">«part»</text><text fill=\"#000000\" font-family=\"sans-serif\" font-size=\"12\" lengthAdjust=\"spacingAndGlyphs\" textLength=\"58\" x=\"682\" y=\"241.1074\">eng: Part</text><line style=\"stroke: #383838; stroke-width: 1.5;\" x1=\"666\" x2=\"756\" y1=\"248.9375\" y2=\"248.9375\"/><text fill=\"#000000\" font-family=\"sans-serif\" font-size=\"11\" lengthAdjust=\"spacingAndGlyphs\" textLength=\"80\" x=\"671\" y=\"263.1479\">m: MassValue</text><!--MD5=[ebbe1d658d1005bcc118a6aa81145e00]\n",
       "class E4--><rect fill=\"#FFFFFF\" height=\"58.7422\" id=\"E4\" rx=\"10\" ry=\"10\" style=\"stroke: #383838; stroke-width: 1.5;\" width=\"92\" x=\"792\" y=\"211\"/><text fill=\"#000000\" font-family=\"sans-serif\" font-size=\"12\" font-style=\"italic\" lengthAdjust=\"spacingAndGlyphs\" textLength=\"40\" x=\"818\" y=\"227.1387\">«part»</text><text fill=\"#000000\" font-family=\"sans-serif\" font-size=\"12\" lengthAdjust=\"spacingAndGlyphs\" textLength=\"67\" x=\"804.5\" y=\"241.1074\">trans: Part</text><line style=\"stroke: #383838; stroke-width: 1.5;\" x1=\"793\" x2=\"883\" y1=\"248.9375\" y2=\"248.9375\"/><text fill=\"#000000\" font-family=\"sans-serif\" font-size=\"11\" lengthAdjust=\"spacingAndGlyphs\" textLength=\"80\" x=\"798\" y=\"263.1479\">m: MassValue</text><!--MD5=[270fce915f116d4de14055a7c1d9a0f3]\n",
       "class E5--><rect fill=\"#FFFFFF\" height=\"45.9375\" id=\"E5\" style=\"stroke: #383838; stroke-width: 1.5;\" width=\"108\" x=\"327\" y=\"217.5\"/><text fill=\"#000000\" font-family=\"sans-serif\" font-size=\"12\" font-style=\"italic\" lengthAdjust=\"spacingAndGlyphs\" textLength=\"106\" x=\"328\" y=\"233.6387\">«calculation def»</text><text fill=\"#000000\" font-family=\"sans-serif\" font-size=\"12\" lengthAdjust=\"spacingAndGlyphs\" textLength=\"59\" x=\"351.5\" y=\"247.6074\">MassSum</text><line style=\"stroke: #383838; stroke-width: 1.5;\" x1=\"328\" x2=\"434\" y1=\"255.4375\" y2=\"255.4375\"/><!--MD5=[60a26617385b1d2d0262a64233df1f8d]\n",
       "class E6--><rect fill=\"#FFFFFF\" height=\"45.9375\" id=\"E6\" rx=\"10\" ry=\"10\" style=\"stroke: #383838; stroke-width: 1.5;\" width=\"91\" x=\"665.5\" y=\"73\"/><text fill=\"#000000\" font-family=\"sans-serif\" font-size=\"12\" font-style=\"italic\" lengthAdjust=\"spacingAndGlyphs\" textLength=\"82\" x=\"670\" y=\"89.1387\">«calculation»</text><text fill=\"#000000\" font-family=\"sans-serif\" font-size=\"12\" lengthAdjust=\"spacingAndGlyphs\" textLength=\"85\" x=\"668.5\" y=\"103.1074\">ms: MassSum</text><line style=\"stroke: #383838; stroke-width: 1.5;\" x1=\"666.5\" x2=\"755.5\" y1=\"110.9375\" y2=\"110.9375\"/><!--MD5=[2156ba9850f5573cc1fc38a6a4b2f02b]\n",
       "class E7--><rect fill=\"#FFFFFF\" height=\"71.5469\" id=\"E7\" style=\"stroke: #383838; stroke-width: 1.5;\" width=\"253\" x=\"377.5\" y=\"60\"/><text fill=\"#000000\" font-family=\"sans-serif\" font-size=\"12\" font-style=\"italic\" lengthAdjust=\"spacingAndGlyphs\" textLength=\"106\" x=\"451\" y=\"76.1387\">«calculation def»</text><text fill=\"#000000\" font-family=\"sans-serif\" font-size=\"12\" lengthAdjust=\"spacingAndGlyphs\" textLength=\"67\" x=\"470.5\" y=\"90.1074\">MassSum1</text><line style=\"stroke: #383838; stroke-width: 1.5;\" x1=\"378.5\" x2=\"629.5\" y1=\"97.9375\" y2=\"97.9375\"/><text fill=\"#000000\" font-family=\"sans-serif\" font-size=\"11\" lengthAdjust=\"spacingAndGlyphs\" textLength=\"136\" x=\"383.5\" y=\"112.1479\">partMasses: MassValue</text><text fill=\"#000000\" font-family=\"sans-serif\" font-size=\"11\" lengthAdjust=\"spacingAndGlyphs\" textLength=\"241\" x=\"383.5\" y=\"124.9526\">totalMass: MassValue= sum(partMasses);</text><!--MD5=[b9389687b975829384b498ac4b7476b2]\n",
       "class E8--><rect fill=\"#FFFFFF\" height=\"109.9609\" id=\"E8\" rx=\"10\" ry=\"10\" style=\"stroke: #383838; stroke-width: 1.5;\" width=\"310\" x=\"32\" y=\"41\"/><text fill=\"#000000\" font-family=\"sans-serif\" font-size=\"12\" font-style=\"italic\" lengthAdjust=\"spacingAndGlyphs\" textLength=\"82\" x=\"146\" y=\"57.1387\">«calculation»</text><text fill=\"#000000\" font-family=\"sans-serif\" font-size=\"12\" lengthAdjust=\"spacingAndGlyphs\" textLength=\"93\" x=\"140.5\" y=\"71.1074\">ms1: MassSum</text><line style=\"stroke: #383838; stroke-width: 1.5;\" x1=\"33\" x2=\"341\" y1=\"78.9375\" y2=\"78.9375\"/><text fill=\"#000000\" font-family=\"sans-serif\" font-size=\"11\" lengthAdjust=\"spacingAndGlyphs\" textLength=\"298\" x=\"38\" y=\"93.1479\">partMasses: MassValue= {vehicle::eng::m, vehicle::</text><text fill=\"#000000\" font-family=\"sans-serif\" font-size=\"11\" lengthAdjust=\"spacingAndGlyphs\" textLength=\"60\" x=\"38\" y=\"105.9526\">trans::m};</text><text fill=\"#000000\" font-family=\"sans-serif\" font-size=\"11\" font-style=\"italic\" lengthAdjust=\"spacingAndGlyphs\" textLength=\"153\" x=\"38\" y=\"118.7573\">:&gt;&gt;MassSum::partMasses</text><text fill=\"#000000\" font-family=\"sans-serif\" font-size=\"11\" lengthAdjust=\"spacingAndGlyphs\" textLength=\"199\" x=\"38\" y=\"131.562\">totalMass: MassValue= vehicle::m;</text><text fill=\"#000000\" font-family=\"sans-serif\" font-size=\"11\" font-style=\"italic\" lengthAdjust=\"spacingAndGlyphs\" textLength=\"141\" x=\"38\" y=\"144.3667\">:&gt;&gt;MassSum::totalMass</text><!--MD5=[209b3feb70ccb6233bfe1053d122c12c]\n",
       "reverse link E2 to E3--><path d=\"M803.63,135.57 C782.52,159.25 755.93,189.08 736.66,210.71 \" fill=\"none\" id=\"E2&lt;-E3\" style=\"stroke: #383838; stroke-width: 1.0;\"/><polygon fill=\"#383838\" points=\"812.3,125.84,805.3219,127.6581,804.3162,134.7987,811.2943,132.9806,812.3,125.84\" style=\"stroke: #383838; stroke-width: 1.0;\"/><!--MD5=[9618e71518536f8baf3342ff6fdab317]\n",
       "reverse link E2 to E4--><path d=\"M838,139.1 C838,162.16 838,190.15 838,210.71 \" fill=\"none\" id=\"E2&lt;-E4\" style=\"stroke: #383838; stroke-width: 1.0;\"/><polygon fill=\"#383838\" points=\"838,125.84,834,131.84,838,137.84,842,131.84,838,125.84\" style=\"stroke: #383838; stroke-width: 1.0;\"/><!--MD5=[25b190c987b1e74e5126d372c5a73af1]\n",
       "link E6 to E5--><path d=\"M689.58,119.06 C678.08,129.89 663.18,142.42 648,151 C586.98,185.48 510.46,209.12 455,223.23 \" fill=\"none\" id=\"E6-&gt;E5\" style=\"stroke: #383838; stroke-width: 1.0;\"/><polygon fill=\"#FFFFFF\" points=\"435.22,228.09,452.0003,216.7576,455.3416,230.353,435.22,228.09\" style=\"stroke: #383838; stroke-width: 1.0;\"/><ellipse cx=\"458.0129\" cy=\"217.3394\" fill=\"#383838\" rx=\"2\" ry=\"2\" style=\"stroke: #383838; stroke-width: 1.0;\"/><ellipse cx=\"460.3995\" cy=\"227.0504\" fill=\"#383838\" rx=\"2\" ry=\"2\" style=\"stroke: #383838; stroke-width: 1.0;\"/><!--MD5=[1ccb2481ffa92f8d51a74ee30c51832a]\n",
       "link E8 to E5--><path d=\"M260.62,151.08 C285.44,169.31 312.43,189.13 334.55,205.38 \" fill=\"none\" id=\"E8-&gt;E5\" style=\"stroke: #383838; stroke-width: 1.0;\"/><polygon fill=\"#FFFFFF\" points=\"350.76,217.29,331.3013,211.69,339.5856,200.4041,350.76,217.29\" style=\"stroke: #383838; stroke-width: 1.0;\"/><ellipse cx=\"327.8899\" cy=\"206.7048\" fill=\"#383838\" rx=\"2\" ry=\"2\" style=\"stroke: #383838; stroke-width: 1.0;\"/><ellipse cx=\"333.8072\" cy=\"198.6435\" fill=\"#383838\" rx=\"2\" ry=\"2\" style=\"stroke: #383838; stroke-width: 1.0;\"/><!--MD5=[d325dca4b69b3bc88681f031360cfcae]\n",
       "@startuml\r\n",
       "skinparam monochrome true\r\n",
       "skinparam classbackgroundcolor white\r\n",
       "skinparam shadowing false\r\n",
       "skinparam wrapWidth 300\r\n",
       "hide circle\r\n",
       "\r\n",
       "package \"CalculationExample\" as E1   {\r\n",
       "comp usage \"vehicle: Part\" as E2  <<(T,blue)part>> {\r\n",
       "m: MassValue\r\n",
       "}\r\n",
       "comp usage \"eng: Part\" as E3  <<(T,blue)part>> {\r\n",
       "m: MassValue\r\n",
       "}\r\n",
       "comp usage \"trans: Part\" as E4  <<(T,blue)part>> {\r\n",
       "m: MassValue\r\n",
       "}\r\n",
       "comp def \"MassSum\" as E5  <<(T,blue)calculation def>> {\r\n",
       "}\r\n",
       "comp usage \"ms: MassSum\" as E6  <<(T,blue)calculation>> {\r\n",
       "}\r\n",
       "comp def \"MassSum1\" as E7  <<(T,blue)calculation def>> {\r\n",
       "partMasses: MassValue\r\n",
       "totalMass: MassValue= sum(partMasses); \r\n",
       "}\r\n",
       "comp usage \"ms1: MassSum\" as E8  <<(T,blue)calculation>> {\r\n",
       "partMasses: MassValue= {vehicle::eng::m, vehicle::trans::m}; \\n//:>>MassSum::partMasses// \r\n",
       "totalMass: MassValue= vehicle::m; \\n//:>>MassSum::totalMass// \r\n",
       "}\r\n",
       "E2 *- - E3\r\n",
       "E2 *- - E4\r\n",
       "E6 - -:|> E5\r\n",
       "E8 - -:|> E5\r\n",
       "}\r\n",
       "@enduml\r\n",
       "\n",
       "PlantUML version 1.2020.13(Sat Jun 13 12:26:38 UTC 2020)\n",
       "(EPL source distribution)\n",
       "Java Runtime: OpenJDK Runtime Environment\n",
       "JVM: OpenJDK 64-Bit Server VM\n",
       "Default Encoding: UTF-8\n",
       "Language: en\n",
       "Country: null\n",
       "--></g></svg>"
      ]
     },
     "execution_count": 42,
     "metadata": {},
     "output_type": "execute_result"
    }
   ],
   "source": [
    "%viz --style=\"DEFAULT\" --view=\"Sequence\" \"CalculationExample\""
   ]
  },
  {
   "cell_type": "code",
   "execution_count": 43,
   "id": "stable-barrier",
   "metadata": {
    "execution": {
     "iopub.execute_input": "2021-03-26T09:44:29.947660Z",
     "iopub.status.busy": "2021-03-26T09:44:29.920031Z",
     "iopub.status.idle": "2021-03-26T09:44:30.013268Z",
     "shell.execute_reply": "2021-03-26T09:44:30.010789Z"
    }
   },
   "outputs": [
    {
     "data": {
      "image/svg+xml": [
       "<?xml version=\"1.0\" encoding=\"UTF-8\" standalone=\"no\"?><svg xmlns=\"http://www.w3.org/2000/svg\" xmlns:xlink=\"http://www.w3.org/1999/xlink\" contentScriptType=\"application/ecmascript\" contentStyleType=\"text/css\" height=\"446px\" preserveAspectRatio=\"none\" style=\"width:920px;height:446px;\" version=\"1.1\" viewBox=\"0 0 920 446\" width=\"920px\" zoomAndPan=\"magnify\"><defs/><g><!--MD5=[fbc87193dbaf4d95561dea2c320d4a47]\n",
       "cluster E1--><polygon fill=\"#FFFFFF\" points=\"16,6,173,6,180,28.2969,898,28.2969,898,434.72,16,434.72,16,6\" style=\"stroke: #000000; stroke-width: 1.5;\"/><line style=\"stroke: #000000; stroke-width: 1.5;\" x1=\"16\" x2=\"180\" y1=\"28.2969\" y2=\"28.2969\"/><text fill=\"#000000\" font-family=\"sans-serif\" font-size=\"14\" font-weight=\"bold\" lengthAdjust=\"spacingAndGlyphs\" textLength=\"151\" x=\"20\" y=\"20.9951\">CalculationExample</text><!--MD5=[de5ec2e2e8f62f467e546659f5068c88]\n",
       "cluster E5--><rect fill=\"#FFFFFF\" height=\"300.72\" style=\"stroke: #000000; stroke-width: 1.5;\" width=\"128\" x=\"365\" y=\"96\"/><text fill=\"#000000\" font-family=\"sans-serif\" font-size=\"14\" font-weight=\"bold\" lengthAdjust=\"spacingAndGlyphs\" textLength=\"74\" x=\"392\" y=\"110.9951\">MassSum</text><!--MD5=[917b9dd0c7eca3ee5f47219d1a84c0ad]\n",
       "cluster E11--><rect fill=\"#FFFFFF\" height=\"300.72\" style=\"stroke: #000000; stroke-width: 1.5;\" width=\"132\" x=\"750\" y=\"96\"/><text fill=\"#000000\" font-family=\"sans-serif\" font-size=\"14\" font-weight=\"bold\" lengthAdjust=\"spacingAndGlyphs\" textLength=\"84\" x=\"774\" y=\"110.9951\">MassSum1</text><!--MD5=[b4997ac47864f28c2f74865a473b2911]\n",
       "class E2--><rect fill=\"#FFFFFF\" height=\"58.7422\" id=\"E2\" rx=\"10\" ry=\"10\" style=\"stroke: #383838; stroke-width: 1.5;\" width=\"92\" x=\"643\" y=\"66.5\"/><text fill=\"#000000\" font-family=\"sans-serif\" font-size=\"12\" font-style=\"italic\" lengthAdjust=\"spacingAndGlyphs\" textLength=\"40\" x=\"669\" y=\"82.6387\">«part»</text><text fill=\"#000000\" font-family=\"sans-serif\" font-size=\"12\" lengthAdjust=\"spacingAndGlyphs\" textLength=\"77\" x=\"650.5\" y=\"96.6074\">vehicle: Part</text><line style=\"stroke: #383838; stroke-width: 1.5;\" x1=\"644\" x2=\"734\" y1=\"104.4375\" y2=\"104.4375\"/><text fill=\"#000000\" font-family=\"sans-serif\" font-size=\"11\" lengthAdjust=\"spacingAndGlyphs\" textLength=\"80\" x=\"649\" y=\"118.6479\">m: MassValue</text><!--MD5=[09b614a08d8cba4a07c9adeb5e0fee81]\n",
       "class E3--><rect fill=\"#FFFFFF\" height=\"58.7422\" id=\"E3\" rx=\"10\" ry=\"10\" style=\"stroke: #383838; stroke-width: 1.5;\" width=\"92\" x=\"512\" y=\"211\"/><text fill=\"#000000\" font-family=\"sans-serif\" font-size=\"12\" font-style=\"italic\" lengthAdjust=\"spacingAndGlyphs\" textLength=\"40\" x=\"538\" y=\"227.1387\">«part»</text><text fill=\"#000000\" font-family=\"sans-serif\" font-size=\"12\" lengthAdjust=\"spacingAndGlyphs\" textLength=\"58\" x=\"529\" y=\"241.1074\">eng: Part</text><line style=\"stroke: #383838; stroke-width: 1.5;\" x1=\"513\" x2=\"603\" y1=\"248.9375\" y2=\"248.9375\"/><text fill=\"#000000\" font-family=\"sans-serif\" font-size=\"11\" lengthAdjust=\"spacingAndGlyphs\" textLength=\"80\" x=\"518\" y=\"263.1479\">m: MassValue</text><!--MD5=[ebbe1d658d1005bcc118a6aa81145e00]\n",
       "class E4--><rect fill=\"#FFFFFF\" height=\"58.7422\" id=\"E4\" rx=\"10\" ry=\"10\" style=\"stroke: #383838; stroke-width: 1.5;\" width=\"92\" x=\"639\" y=\"211\"/><text fill=\"#000000\" font-family=\"sans-serif\" font-size=\"12\" font-style=\"italic\" lengthAdjust=\"spacingAndGlyphs\" textLength=\"40\" x=\"665\" y=\"227.1387\">«part»</text><text fill=\"#000000\" font-family=\"sans-serif\" font-size=\"12\" lengthAdjust=\"spacingAndGlyphs\" textLength=\"67\" x=\"651.5\" y=\"241.1074\">trans: Part</text><line style=\"stroke: #383838; stroke-width: 1.5;\" x1=\"640\" x2=\"730\" y1=\"248.9375\" y2=\"248.9375\"/><text fill=\"#000000\" font-family=\"sans-serif\" font-size=\"11\" lengthAdjust=\"spacingAndGlyphs\" textLength=\"80\" x=\"645\" y=\"263.1479\">m: MassValue</text><!--MD5=[96f4274e9e20536e775497830990834d]\n",
       "class E10--><rect fill=\"#FFFFFF\" height=\"45.9375\" id=\"E10\" rx=\"10\" ry=\"10\" style=\"stroke: #383838; stroke-width: 1.5;\" width=\"91\" x=\"516.5\" y=\"73\"/><text fill=\"#000000\" font-family=\"sans-serif\" font-size=\"12\" font-style=\"italic\" lengthAdjust=\"spacingAndGlyphs\" textLength=\"82\" x=\"521\" y=\"89.1387\">«calculation»</text><text fill=\"#000000\" font-family=\"sans-serif\" font-size=\"12\" lengthAdjust=\"spacingAndGlyphs\" textLength=\"85\" x=\"519.5\" y=\"103.1074\">ms: MassSum</text><line style=\"stroke: #383838; stroke-width: 1.5;\" x1=\"517.5\" x2=\"606.5\" y1=\"110.9375\" y2=\"110.9375\"/><!--MD5=[bee11217b2f71d958a27249dc326068c]\n",
       "class E14--><rect fill=\"#FFFFFF\" height=\"109.9609\" id=\"E14\" rx=\"10\" ry=\"10\" style=\"stroke: #383838; stroke-width: 1.5;\" width=\"310\" x=\"32\" y=\"41\"/><text fill=\"#000000\" font-family=\"sans-serif\" font-size=\"12\" font-style=\"italic\" lengthAdjust=\"spacingAndGlyphs\" textLength=\"82\" x=\"146\" y=\"57.1387\">«calculation»</text><text fill=\"#000000\" font-family=\"sans-serif\" font-size=\"12\" lengthAdjust=\"spacingAndGlyphs\" textLength=\"93\" x=\"140.5\" y=\"71.1074\">ms1: MassSum</text><line style=\"stroke: #383838; stroke-width: 1.5;\" x1=\"33\" x2=\"341\" y1=\"78.9375\" y2=\"78.9375\"/><text fill=\"#000000\" font-family=\"sans-serif\" font-size=\"11\" lengthAdjust=\"spacingAndGlyphs\" textLength=\"298\" x=\"38\" y=\"93.1479\">partMasses: MassValue= {vehicle::eng::m, vehicle::</text><text fill=\"#000000\" font-family=\"sans-serif\" font-size=\"11\" lengthAdjust=\"spacingAndGlyphs\" textLength=\"60\" x=\"38\" y=\"105.9526\">trans::m};</text><text fill=\"#000000\" font-family=\"sans-serif\" font-size=\"11\" font-style=\"italic\" lengthAdjust=\"spacingAndGlyphs\" textLength=\"153\" x=\"38\" y=\"118.7573\">:&gt;&gt;MassSum::partMasses</text><text fill=\"#000000\" font-family=\"sans-serif\" font-size=\"11\" lengthAdjust=\"spacingAndGlyphs\" textLength=\"199\" x=\"38\" y=\"131.562\">totalMass: MassValue= vehicle::m;</text><text fill=\"#000000\" font-family=\"sans-serif\" font-size=\"11\" font-style=\"italic\" lengthAdjust=\"spacingAndGlyphs\" textLength=\"141\" x=\"38\" y=\"144.3667\">:&gt;&gt;MassSum::totalMass</text><text fill=\"#000000\" font-family=\"sans-serif\" font-size=\"14\" lengthAdjust=\"spacingAndGlyphs\" textLength=\"80\" x=\"343\" y=\"74.6982\">partMasses</text><rect fill=\"#383838\" height=\"12\" style=\"stroke: #F8F8F8; stroke-width: 1.5;\" width=\"12\" x=\"377\" y=\"90\"/><text fill=\"#000000\" font-family=\"sans-serif\" font-size=\"14\" lengthAdjust=\"spacingAndGlyphs\" textLength=\"66\" x=\"365\" y=\"415.7151\">totalMass</text><rect fill=\"#383838\" height=\"12\" style=\"stroke: #F8F8F8; stroke-width: 1.5;\" width=\"12\" x=\"392\" y=\"390.72\"/><text fill=\"#000000\" font-family=\"sans-serif\" font-size=\"14\" lengthAdjust=\"spacingAndGlyphs\" textLength=\"75\" x=\"437.5\" y=\"74.6982\">$collection</text><rect fill=\"#383838\" height=\"12\" style=\"stroke: #F8F8F8; stroke-width: 1.5;\" width=\"12\" x=\"469\" y=\"90\"/><text fill=\"#000000\" font-family=\"sans-serif\" font-size=\"14\" lengthAdjust=\"spacingAndGlyphs\" textLength=\"48\" x=\"421\" y=\"415.7151\">$result</text><rect fill=\"#383838\" height=\"12\" style=\"stroke: #F8F8F8; stroke-width: 1.5;\" width=\"12\" x=\"439\" y=\"390.72\"/><text fill=\"#000000\" font-family=\"sans-serif\" font-size=\"14\" lengthAdjust=\"spacingAndGlyphs\" textLength=\"80\" x=\"776\" y=\"74.6982\">partMasses</text><rect fill=\"#383838\" height=\"12\" style=\"stroke: #F8F8F8; stroke-width: 1.5;\" width=\"12\" x=\"810\" y=\"90\"/><text fill=\"#000000\" font-family=\"sans-serif\" font-size=\"14\" lengthAdjust=\"spacingAndGlyphs\" textLength=\"66\" x=\"783\" y=\"415.7151\">totalMass</text><rect fill=\"#383838\" height=\"12\" style=\"stroke: #F8F8F8; stroke-width: 1.5;\" width=\"12\" x=\"810\" y=\"390.72\"/><!--MD5=[209b3feb70ccb6233bfe1053d122c12c]\n",
       "reverse link E2 to E3--><path d=\"M653.54,135.57 C631.77,159.25 604.35,189.08 584.47,210.71 \" fill=\"none\" id=\"E2&lt;-E3\" style=\"stroke: #383838; stroke-width: 1.0;\"/><polygon fill=\"#383838\" points=\"662.49,125.84,655.4845,127.5496,654.3682,134.6738,661.3737,132.9642,662.49,125.84\" style=\"stroke: #383838; stroke-width: 1.0;\"/><!--MD5=[9618e71518536f8baf3342ff6fdab317]\n",
       "reverse link E2 to E4--><path d=\"M687.82,139.1 C687.17,162.16 686.39,190.15 685.81,210.71 \" fill=\"none\" id=\"E2&lt;-E4\" style=\"stroke: #383838; stroke-width: 1.0;\"/><polygon fill=\"#383838\" points=\"688.19,125.84,684.0201,131.7232,687.8469,137.8351,692.0168,131.9519,688.19,125.84\" style=\"stroke: #383838; stroke-width: 1.0;\"/><!--MD5=[1c0b9414cc86e0744215edee6abd8926]\n",
       "link E7 to E9--><path d=\"M404.24,394.65 C415.81,391.39 427.38,391.41 438.95,394.7 \" fill=\"none\" id=\"E7-E9\" style=\"stroke: #383838; stroke-width: 5.0;\"/><!--MD5=[ec5e0a54482b142abcecfe541d624bff]\n",
       "link E10 to E5--><path d=\"M540.91,119.27 C533.3075,127.2925 524.1837,136.9213 514.4525,147.1917 C509.5869,152.327 504.5694,157.6226 499.5142,162.9581 C498.2504,164.292 496.9843,165.6284 495.7176,166.9654 C495.0842,167.6339 494.4507,168.3025 493.8173,168.9711 C493.659,169.1382 493.5006,169.3053 493.3423,169.4725 \" fill=\"none\" id=\"E10-&gt;E5\" style=\"stroke: #383838; stroke-width: 1.0;\"/><polygon fill=\"#FFFFFF\" points=\"493.3423,169.4725,501.3284,150.8654,511.4914,160.4942,493.3423,169.4725\" style=\"stroke: #383838; stroke-width: 1.0;\"/><ellipse cx=\"506.7005\" cy=\"148.1032\" fill=\"#383838\" rx=\"2\" ry=\"2\" style=\"stroke: #383838; stroke-width: 1.0;\"/><ellipse cx=\"513.9598\" cy=\"154.9809\" fill=\"#383838\" rx=\"2\" ry=\"2\" style=\"stroke: #383838; stroke-width: 1.0;\"/><!--MD5=[111e5536516ee1ad7d4266f589654f03]\n",
       "link E14 to E5--><path d=\"M278.08,151.08 C303.275,166.04 330.2775,182.0725 354.2775,196.3213 C357.2775,198.1023 360.2306,199.8556 363.1274,201.5753 C363.4895,201.7903 363.8507,202.0048 364.211,202.2187 C364.3912,202.3256 364.5711,202.4325 364.7508,202.5391 \" fill=\"none\" id=\"E14-&gt;E5\" style=\"stroke: #383838; stroke-width: 1.0;\"/><polygon fill=\"#FFFFFF\" points=\"364.7508,202.5391,344.8396,198.8589,351.9865,186.8206,364.7508,202.5391\" style=\"stroke: #383838; stroke-width: 1.0;\"/><ellipse cx=\"340.9593\" cy=\"194.2293\" fill=\"#383838\" rx=\"2\" ry=\"2\" style=\"stroke: #383838; stroke-width: 1.0;\"/><ellipse cx=\"346.0642\" cy=\"185.6305\" fill=\"#383838\" rx=\"2\" ry=\"2\" style=\"stroke: #383838; stroke-width: 1.0;\"/><!--MD5=[40c8b1dd1ee8cbb57a1f916e40b14919]\n",
       "@startuml\r\n",
       "skinparam monochrome true\r\n",
       "skinparam classbackgroundcolor white\r\n",
       "skinparam shadowing false\r\n",
       "skinparam wrapWidth 300\r\n",
       "hide circle\r\n",
       "\r\n",
       "package \"CalculationExample\" as E1   {\r\n",
       "comp usage \"vehicle: Part\" as E2  <<(T,blue)part>> {\r\n",
       "m: MassValue\r\n",
       "}\r\n",
       "comp usage \"eng: Part\" as E3  <<(T,blue)part>> {\r\n",
       "m: MassValue\r\n",
       "}\r\n",
       "comp usage \"trans: Part\" as E4  <<(T,blue)part>> {\r\n",
       "m: MassValue\r\n",
       "}\r\n",
       "rec def \"MassSum\" as E5 {\r\n",
       "portin \"partMasses\" as E6  \r\n",
       "portout \"totalMass\" as E7  \r\n",
       "portin \"$collection\" as E8  \r\n",
       "portout \"$result\" as E9  \r\n",
       "}\r\n",
       "\r\n",
       "comp usage \"ms: MassSum\" as E10  <<(T,blue)calculation>> {\r\n",
       "}\r\n",
       "rec def \"MassSum1\" as E11 {\r\n",
       "portin \"partMasses\" as E12  \r\n",
       "portout \"totalMass\" as E13  \r\n",
       "}\r\n",
       "\r\n",
       "comp usage \"ms1: MassSum\" as E14  <<(T,blue)calculation>> {\r\n",
       "partMasses: MassValue= {vehicle::eng::m, vehicle::trans::m}; \\n//:>>MassSum::partMasses// \r\n",
       "totalMass: MassValue= vehicle::m; \\n//:>>MassSum::totalMass// \r\n",
       "}\r\n",
       "E2 *- - E3\r\n",
       "E2 *- - E4\r\n",
       "E7 -[thickness=5]- E9\r\n",
       "E10 - -:|> E5\r\n",
       "E14 - -:|> E5\r\n",
       "}\r\n",
       "@enduml\r\n",
       "\n",
       "PlantUML version 1.2020.13(Sat Jun 13 12:26:38 UTC 2020)\n",
       "(EPL source distribution)\n",
       "Java Runtime: OpenJDK Runtime Environment\n",
       "JVM: OpenJDK 64-Bit Server VM\n",
       "Default Encoding: UTF-8\n",
       "Language: en\n",
       "Country: null\n",
       "--></g></svg>"
      ]
     },
     "execution_count": 43,
     "metadata": {},
     "output_type": "execute_result"
    }
   ],
   "source": [
    "%viz --style=\"DEFAULT\" --view=\"MIXED\" \"CalculationExample\""
   ]
  },
  {
   "cell_type": "code",
   "execution_count": 44,
   "id": "naked-pennsylvania",
   "metadata": {
    "execution": {
     "iopub.execute_input": "2021-03-26T09:44:30.064815Z",
     "iopub.status.busy": "2021-03-26T09:44:30.063956Z",
     "iopub.status.idle": "2021-03-26T09:44:30.146254Z",
     "shell.execute_reply": "2021-03-26T09:44:30.144395Z"
    }
   },
   "outputs": [
    {
     "data": {
      "image/svg+xml": [
       "<?xml version=\"1.0\" encoding=\"UTF-8\" standalone=\"no\"?><svg xmlns=\"http://www.w3.org/2000/svg\" xmlns:xlink=\"http://www.w3.org/1999/xlink\" contentScriptType=\"application/ecmascript\" contentStyleType=\"text/css\" height=\"446px\" preserveAspectRatio=\"none\" style=\"width:920px;height:446px;\" version=\"1.1\" viewBox=\"0 0 920 446\" width=\"920px\" zoomAndPan=\"magnify\"><defs/><g><!--MD5=[fbc87193dbaf4d95561dea2c320d4a47]\n",
       "cluster E1--><polygon fill=\"#FFFFFF\" points=\"16,6,173,6,180,28.2969,898,28.2969,898,434.72,16,434.72,16,6\" style=\"stroke: #000000; stroke-width: 1.5;\"/><line style=\"stroke: #000000; stroke-width: 1.5;\" x1=\"16\" x2=\"180\" y1=\"28.2969\" y2=\"28.2969\"/><text fill=\"#000000\" font-family=\"sans-serif\" font-size=\"14\" font-weight=\"bold\" lengthAdjust=\"spacingAndGlyphs\" textLength=\"151\" x=\"20\" y=\"20.9951\">CalculationExample</text><!--MD5=[de5ec2e2e8f62f467e546659f5068c88]\n",
       "cluster E5--><rect fill=\"#FFFFFF\" height=\"300.72\" style=\"stroke: #000000; stroke-width: 1.5;\" width=\"128\" x=\"365\" y=\"96\"/><text fill=\"#000000\" font-family=\"sans-serif\" font-size=\"14\" font-weight=\"bold\" lengthAdjust=\"spacingAndGlyphs\" textLength=\"74\" x=\"392\" y=\"110.9951\">MassSum</text><!--MD5=[917b9dd0c7eca3ee5f47219d1a84c0ad]\n",
       "cluster E11--><rect fill=\"#FFFFFF\" height=\"300.72\" style=\"stroke: #000000; stroke-width: 1.5;\" width=\"132\" x=\"750\" y=\"96\"/><text fill=\"#000000\" font-family=\"sans-serif\" font-size=\"14\" font-weight=\"bold\" lengthAdjust=\"spacingAndGlyphs\" textLength=\"84\" x=\"774\" y=\"110.9951\">MassSum1</text><!--MD5=[b4997ac47864f28c2f74865a473b2911]\n",
       "class E2--><rect fill=\"#FFFFFF\" height=\"58.7422\" id=\"E2\" rx=\"10\" ry=\"10\" style=\"stroke: #383838; stroke-width: 1.5;\" width=\"92\" x=\"643\" y=\"66.5\"/><text fill=\"#000000\" font-family=\"sans-serif\" font-size=\"12\" font-style=\"italic\" lengthAdjust=\"spacingAndGlyphs\" textLength=\"40\" x=\"669\" y=\"82.6387\">«part»</text><text fill=\"#000000\" font-family=\"sans-serif\" font-size=\"12\" lengthAdjust=\"spacingAndGlyphs\" textLength=\"77\" x=\"650.5\" y=\"96.6074\">vehicle: Part</text><line style=\"stroke: #383838; stroke-width: 1.5;\" x1=\"644\" x2=\"734\" y1=\"104.4375\" y2=\"104.4375\"/><text fill=\"#000000\" font-family=\"sans-serif\" font-size=\"11\" lengthAdjust=\"spacingAndGlyphs\" textLength=\"80\" x=\"649\" y=\"118.6479\">m: MassValue</text><!--MD5=[09b614a08d8cba4a07c9adeb5e0fee81]\n",
       "class E3--><rect fill=\"#FFFFFF\" height=\"58.7422\" id=\"E3\" rx=\"10\" ry=\"10\" style=\"stroke: #383838; stroke-width: 1.5;\" width=\"92\" x=\"512\" y=\"211\"/><text fill=\"#000000\" font-family=\"sans-serif\" font-size=\"12\" font-style=\"italic\" lengthAdjust=\"spacingAndGlyphs\" textLength=\"40\" x=\"538\" y=\"227.1387\">«part»</text><text fill=\"#000000\" font-family=\"sans-serif\" font-size=\"12\" lengthAdjust=\"spacingAndGlyphs\" textLength=\"58\" x=\"529\" y=\"241.1074\">eng: Part</text><line style=\"stroke: #383838; stroke-width: 1.5;\" x1=\"513\" x2=\"603\" y1=\"248.9375\" y2=\"248.9375\"/><text fill=\"#000000\" font-family=\"sans-serif\" font-size=\"11\" lengthAdjust=\"spacingAndGlyphs\" textLength=\"80\" x=\"518\" y=\"263.1479\">m: MassValue</text><!--MD5=[ebbe1d658d1005bcc118a6aa81145e00]\n",
       "class E4--><rect fill=\"#FFFFFF\" height=\"58.7422\" id=\"E4\" rx=\"10\" ry=\"10\" style=\"stroke: #383838; stroke-width: 1.5;\" width=\"92\" x=\"639\" y=\"211\"/><text fill=\"#000000\" font-family=\"sans-serif\" font-size=\"12\" font-style=\"italic\" lengthAdjust=\"spacingAndGlyphs\" textLength=\"40\" x=\"665\" y=\"227.1387\">«part»</text><text fill=\"#000000\" font-family=\"sans-serif\" font-size=\"12\" lengthAdjust=\"spacingAndGlyphs\" textLength=\"67\" x=\"651.5\" y=\"241.1074\">trans: Part</text><line style=\"stroke: #383838; stroke-width: 1.5;\" x1=\"640\" x2=\"730\" y1=\"248.9375\" y2=\"248.9375\"/><text fill=\"#000000\" font-family=\"sans-serif\" font-size=\"11\" lengthAdjust=\"spacingAndGlyphs\" textLength=\"80\" x=\"645\" y=\"263.1479\">m: MassValue</text><!--MD5=[96f4274e9e20536e775497830990834d]\n",
       "class E10--><rect fill=\"#FFFFFF\" height=\"45.9375\" id=\"E10\" rx=\"10\" ry=\"10\" style=\"stroke: #383838; stroke-width: 1.5;\" width=\"91\" x=\"516.5\" y=\"73\"/><text fill=\"#000000\" font-family=\"sans-serif\" font-size=\"12\" font-style=\"italic\" lengthAdjust=\"spacingAndGlyphs\" textLength=\"82\" x=\"521\" y=\"89.1387\">«calculation»</text><text fill=\"#000000\" font-family=\"sans-serif\" font-size=\"12\" lengthAdjust=\"spacingAndGlyphs\" textLength=\"85\" x=\"519.5\" y=\"103.1074\">ms: MassSum</text><line style=\"stroke: #383838; stroke-width: 1.5;\" x1=\"517.5\" x2=\"606.5\" y1=\"110.9375\" y2=\"110.9375\"/><!--MD5=[bee11217b2f71d958a27249dc326068c]\n",
       "class E14--><rect fill=\"#FFFFFF\" height=\"109.9609\" id=\"E14\" rx=\"10\" ry=\"10\" style=\"stroke: #383838; stroke-width: 1.5;\" width=\"310\" x=\"32\" y=\"41\"/><text fill=\"#000000\" font-family=\"sans-serif\" font-size=\"12\" font-style=\"italic\" lengthAdjust=\"spacingAndGlyphs\" textLength=\"82\" x=\"146\" y=\"57.1387\">«calculation»</text><text fill=\"#000000\" font-family=\"sans-serif\" font-size=\"12\" lengthAdjust=\"spacingAndGlyphs\" textLength=\"93\" x=\"140.5\" y=\"71.1074\">ms1: MassSum</text><line style=\"stroke: #383838; stroke-width: 1.5;\" x1=\"33\" x2=\"341\" y1=\"78.9375\" y2=\"78.9375\"/><text fill=\"#000000\" font-family=\"sans-serif\" font-size=\"11\" lengthAdjust=\"spacingAndGlyphs\" textLength=\"298\" x=\"38\" y=\"93.1479\">partMasses: MassValue= {vehicle::eng::m, vehicle::</text><text fill=\"#000000\" font-family=\"sans-serif\" font-size=\"11\" lengthAdjust=\"spacingAndGlyphs\" textLength=\"60\" x=\"38\" y=\"105.9526\">trans::m};</text><text fill=\"#000000\" font-family=\"sans-serif\" font-size=\"11\" font-style=\"italic\" lengthAdjust=\"spacingAndGlyphs\" textLength=\"153\" x=\"38\" y=\"118.7573\">:&gt;&gt;MassSum::partMasses</text><text fill=\"#000000\" font-family=\"sans-serif\" font-size=\"11\" lengthAdjust=\"spacingAndGlyphs\" textLength=\"199\" x=\"38\" y=\"131.562\">totalMass: MassValue= vehicle::m;</text><text fill=\"#000000\" font-family=\"sans-serif\" font-size=\"11\" font-style=\"italic\" lengthAdjust=\"spacingAndGlyphs\" textLength=\"141\" x=\"38\" y=\"144.3667\">:&gt;&gt;MassSum::totalMass</text><text fill=\"#000000\" font-family=\"sans-serif\" font-size=\"14\" lengthAdjust=\"spacingAndGlyphs\" textLength=\"80\" x=\"343\" y=\"74.6982\">partMasses</text><rect fill=\"#383838\" height=\"12\" style=\"stroke: #F8F8F8; stroke-width: 1.5;\" width=\"12\" x=\"377\" y=\"90\"/><text fill=\"#000000\" font-family=\"sans-serif\" font-size=\"14\" lengthAdjust=\"spacingAndGlyphs\" textLength=\"66\" x=\"365\" y=\"415.7151\">totalMass</text><rect fill=\"#383838\" height=\"12\" style=\"stroke: #F8F8F8; stroke-width: 1.5;\" width=\"12\" x=\"392\" y=\"390.72\"/><text fill=\"#000000\" font-family=\"sans-serif\" font-size=\"14\" lengthAdjust=\"spacingAndGlyphs\" textLength=\"75\" x=\"437.5\" y=\"74.6982\">$collection</text><rect fill=\"#383838\" height=\"12\" style=\"stroke: #F8F8F8; stroke-width: 1.5;\" width=\"12\" x=\"469\" y=\"90\"/><text fill=\"#000000\" font-family=\"sans-serif\" font-size=\"14\" lengthAdjust=\"spacingAndGlyphs\" textLength=\"48\" x=\"421\" y=\"415.7151\">$result</text><rect fill=\"#383838\" height=\"12\" style=\"stroke: #F8F8F8; stroke-width: 1.5;\" width=\"12\" x=\"439\" y=\"390.72\"/><text fill=\"#000000\" font-family=\"sans-serif\" font-size=\"14\" lengthAdjust=\"spacingAndGlyphs\" textLength=\"80\" x=\"776\" y=\"74.6982\">partMasses</text><rect fill=\"#383838\" height=\"12\" style=\"stroke: #F8F8F8; stroke-width: 1.5;\" width=\"12\" x=\"810\" y=\"90\"/><text fill=\"#000000\" font-family=\"sans-serif\" font-size=\"14\" lengthAdjust=\"spacingAndGlyphs\" textLength=\"66\" x=\"783\" y=\"415.7151\">totalMass</text><rect fill=\"#383838\" height=\"12\" style=\"stroke: #F8F8F8; stroke-width: 1.5;\" width=\"12\" x=\"810\" y=\"390.72\"/><!--MD5=[209b3feb70ccb6233bfe1053d122c12c]\n",
       "reverse link E2 to E3--><path d=\"M653.54,135.57 C631.77,159.25 604.35,189.08 584.47,210.71 \" fill=\"none\" id=\"E2&lt;-E3\" style=\"stroke: #383838; stroke-width: 1.0;\"/><polygon fill=\"#383838\" points=\"662.49,125.84,655.4845,127.5496,654.3682,134.6738,661.3737,132.9642,662.49,125.84\" style=\"stroke: #383838; stroke-width: 1.0;\"/><!--MD5=[9618e71518536f8baf3342ff6fdab317]\n",
       "reverse link E2 to E4--><path d=\"M687.82,139.1 C687.17,162.16 686.39,190.15 685.81,210.71 \" fill=\"none\" id=\"E2&lt;-E4\" style=\"stroke: #383838; stroke-width: 1.0;\"/><polygon fill=\"#383838\" points=\"688.19,125.84,684.0201,131.7232,687.8469,137.8351,692.0168,131.9519,688.19,125.84\" style=\"stroke: #383838; stroke-width: 1.0;\"/><!--MD5=[1c0b9414cc86e0744215edee6abd8926]\n",
       "link E7 to E9--><path d=\"M404.24,394.65 C415.81,391.39 427.38,391.41 438.95,394.7 \" fill=\"none\" id=\"E7-E9\" style=\"stroke: #383838; stroke-width: 5.0;\"/><!--MD5=[ec5e0a54482b142abcecfe541d624bff]\n",
       "link E10 to E5--><path d=\"M540.91,119.27 C533.3075,127.2925 524.1837,136.9213 514.4525,147.1917 C509.5869,152.327 504.5694,157.6226 499.5142,162.9581 C498.2504,164.292 496.9843,165.6284 495.7176,166.9654 C495.0842,167.6339 494.4507,168.3025 493.8173,168.9711 C493.659,169.1382 493.5006,169.3053 493.3423,169.4725 \" fill=\"none\" id=\"E10-&gt;E5\" style=\"stroke: #383838; stroke-width: 1.0;\"/><polygon fill=\"#FFFFFF\" points=\"493.3423,169.4725,501.3284,150.8654,511.4914,160.4942,493.3423,169.4725\" style=\"stroke: #383838; stroke-width: 1.0;\"/><ellipse cx=\"506.7005\" cy=\"148.1032\" fill=\"#383838\" rx=\"2\" ry=\"2\" style=\"stroke: #383838; stroke-width: 1.0;\"/><ellipse cx=\"513.9598\" cy=\"154.9809\" fill=\"#383838\" rx=\"2\" ry=\"2\" style=\"stroke: #383838; stroke-width: 1.0;\"/><!--MD5=[111e5536516ee1ad7d4266f589654f03]\n",
       "link E14 to E5--><path d=\"M278.08,151.08 C303.275,166.04 330.2775,182.0725 354.2775,196.3213 C357.2775,198.1023 360.2306,199.8556 363.1274,201.5753 C363.4895,201.7903 363.8507,202.0048 364.211,202.2187 C364.3912,202.3256 364.5711,202.4325 364.7508,202.5391 \" fill=\"none\" id=\"E14-&gt;E5\" style=\"stroke: #383838; stroke-width: 1.0;\"/><polygon fill=\"#FFFFFF\" points=\"364.7508,202.5391,344.8396,198.8589,351.9865,186.8206,364.7508,202.5391\" style=\"stroke: #383838; stroke-width: 1.0;\"/><ellipse cx=\"340.9593\" cy=\"194.2293\" fill=\"#383838\" rx=\"2\" ry=\"2\" style=\"stroke: #383838; stroke-width: 1.0;\"/><ellipse cx=\"346.0642\" cy=\"185.6305\" fill=\"#383838\" rx=\"2\" ry=\"2\" style=\"stroke: #383838; stroke-width: 1.0;\"/><!--MD5=[e7e06d8ac7b429671dcb14c398e52095]\n",
       "@startuml\r\n",
       "top to bottom direction\r\n",
       "skinparam monochrome true\r\n",
       "skinparam classbackgroundcolor white\r\n",
       "skinparam shadowing false\r\n",
       "skinparam wrapWidth 300\r\n",
       "hide circle\r\n",
       "\r\n",
       "package \"CalculationExample\" as E1   {\r\n",
       "comp usage \"vehicle: Part\" as E2  <<(T,blue)part>> {\r\n",
       "m: MassValue\r\n",
       "}\r\n",
       "comp usage \"eng: Part\" as E3  <<(T,blue)part>> {\r\n",
       "m: MassValue\r\n",
       "}\r\n",
       "comp usage \"trans: Part\" as E4  <<(T,blue)part>> {\r\n",
       "m: MassValue\r\n",
       "}\r\n",
       "rec def \"MassSum\" as E5 {\r\n",
       "portin \"partMasses\" as E6  \r\n",
       "portout \"totalMass\" as E7  \r\n",
       "portin \"$collection\" as E8  \r\n",
       "portout \"$result\" as E9  \r\n",
       "}\r\n",
       "\r\n",
       "comp usage \"ms: MassSum\" as E10  <<(T,blue)calculation>> {\r\n",
       "}\r\n",
       "rec def \"MassSum1\" as E11 {\r\n",
       "portin \"partMasses\" as E12  \r\n",
       "portout \"totalMass\" as E13  \r\n",
       "}\r\n",
       "\r\n",
       "comp usage \"ms1: MassSum\" as E14  <<(T,blue)calculation>> {\r\n",
       "partMasses: MassValue= {vehicle::eng::m, vehicle::trans::m}; \\n//:>>MassSum::partMasses// \r\n",
       "totalMass: MassValue= vehicle::m; \\n//:>>MassSum::totalMass// \r\n",
       "}\r\n",
       "E2 *- - E3\r\n",
       "E2 *- - E4\r\n",
       "E7 -[thickness=5]- E9\r\n",
       "E10 - -:|> E5\r\n",
       "E14 - -:|> E5\r\n",
       "}\r\n",
       "@enduml\r\n",
       "\n",
       "PlantUML version 1.2020.13(Sat Jun 13 12:26:38 UTC 2020)\n",
       "(EPL source distribution)\n",
       "Java Runtime: OpenJDK Runtime Environment\n",
       "JVM: OpenJDK 64-Bit Server VM\n",
       "Default Encoding: UTF-8\n",
       "Language: en\n",
       "Country: null\n",
       "--></g></svg>"
      ]
     },
     "execution_count": 44,
     "metadata": {},
     "output_type": "execute_result"
    }
   ],
   "source": [
    "%viz --style=\"TB\" --view=\"Default\" \"CalculationExample\""
   ]
  },
  {
   "cell_type": "code",
   "execution_count": 45,
   "id": "sophisticated-writer",
   "metadata": {
    "execution": {
     "iopub.execute_input": "2021-03-26T09:44:30.197341Z",
     "iopub.status.busy": "2021-03-26T09:44:30.196759Z",
     "iopub.status.idle": "2021-03-26T09:44:30.273932Z",
     "shell.execute_reply": "2021-03-26T09:44:30.272467Z"
    }
   },
   "outputs": [
    {
     "data": {
      "image/svg+xml": [
       "<?xml version=\"1.0\" encoding=\"UTF-8\" standalone=\"no\"?><svg xmlns=\"http://www.w3.org/2000/svg\" xmlns:xlink=\"http://www.w3.org/1999/xlink\" contentScriptType=\"application/ecmascript\" contentStyleType=\"text/css\" height=\"298px\" preserveAspectRatio=\"none\" style=\"width:922px;height:298px;\" version=\"1.1\" viewBox=\"0 0 922 298\" width=\"922px\" zoomAndPan=\"magnify\"><defs/><g><!--MD5=[fbc87193dbaf4d95561dea2c320d4a47]\n",
       "cluster E1--><polygon fill=\"#FFFFFF\" points=\"16,6,173,6,180,28.2969,900,28.2969,900,286,16,286,16,6\" style=\"stroke: #000000; stroke-width: 1.5;\"/><line style=\"stroke: #000000; stroke-width: 1.5;\" x1=\"16\" x2=\"180\" y1=\"28.2969\" y2=\"28.2969\"/><text fill=\"#000000\" font-family=\"sans-serif\" font-size=\"14\" font-weight=\"bold\" lengthAdjust=\"spacingAndGlyphs\" textLength=\"151\" x=\"20\" y=\"20.9951\">CalculationExample</text><!--MD5=[b4997ac47864f28c2f74865a473b2911]\n",
       "class E2--><rect fill=\"#FFFFFF\" height=\"58.7422\" id=\"E2\" rx=\"10\" ry=\"10\" style=\"stroke: #383838; stroke-width: 1.5;\" width=\"92\" x=\"792\" y=\"66.5\"/><text fill=\"#000000\" font-family=\"sans-serif\" font-size=\"12\" font-style=\"italic\" lengthAdjust=\"spacingAndGlyphs\" textLength=\"40\" x=\"818\" y=\"82.6387\">«part»</text><text fill=\"#000000\" font-family=\"sans-serif\" font-size=\"12\" lengthAdjust=\"spacingAndGlyphs\" textLength=\"77\" x=\"799.5\" y=\"96.6074\">vehicle: Part</text><line style=\"stroke: #383838; stroke-width: 1.5;\" x1=\"793\" x2=\"883\" y1=\"104.4375\" y2=\"104.4375\"/><text fill=\"#000000\" font-family=\"sans-serif\" font-size=\"11\" lengthAdjust=\"spacingAndGlyphs\" textLength=\"80\" x=\"798\" y=\"118.6479\">m: MassValue</text><!--MD5=[09b614a08d8cba4a07c9adeb5e0fee81]\n",
       "class E3--><rect fill=\"#FFFFFF\" height=\"58.7422\" id=\"E3\" rx=\"10\" ry=\"10\" style=\"stroke: #383838; stroke-width: 1.5;\" width=\"92\" x=\"665\" y=\"211\"/><text fill=\"#000000\" font-family=\"sans-serif\" font-size=\"12\" font-style=\"italic\" lengthAdjust=\"spacingAndGlyphs\" textLength=\"40\" x=\"691\" y=\"227.1387\">«part»</text><text fill=\"#000000\" font-family=\"sans-serif\" font-size=\"12\" lengthAdjust=\"spacingAndGlyphs\" textLength=\"58\" x=\"682\" y=\"241.1074\">eng: Part</text><line style=\"stroke: #383838; stroke-width: 1.5;\" x1=\"666\" x2=\"756\" y1=\"248.9375\" y2=\"248.9375\"/><text fill=\"#000000\" font-family=\"sans-serif\" font-size=\"11\" lengthAdjust=\"spacingAndGlyphs\" textLength=\"80\" x=\"671\" y=\"263.1479\">m: MassValue</text><!--MD5=[ebbe1d658d1005bcc118a6aa81145e00]\n",
       "class E4--><rect fill=\"#FFFFFF\" height=\"58.7422\" id=\"E4\" rx=\"10\" ry=\"10\" style=\"stroke: #383838; stroke-width: 1.5;\" width=\"92\" x=\"792\" y=\"211\"/><text fill=\"#000000\" font-family=\"sans-serif\" font-size=\"12\" font-style=\"italic\" lengthAdjust=\"spacingAndGlyphs\" textLength=\"40\" x=\"818\" y=\"227.1387\">«part»</text><text fill=\"#000000\" font-family=\"sans-serif\" font-size=\"12\" lengthAdjust=\"spacingAndGlyphs\" textLength=\"67\" x=\"804.5\" y=\"241.1074\">trans: Part</text><line style=\"stroke: #383838; stroke-width: 1.5;\" x1=\"793\" x2=\"883\" y1=\"248.9375\" y2=\"248.9375\"/><text fill=\"#000000\" font-family=\"sans-serif\" font-size=\"11\" lengthAdjust=\"spacingAndGlyphs\" textLength=\"80\" x=\"798\" y=\"263.1479\">m: MassValue</text><!--MD5=[270fce915f116d4de14055a7c1d9a0f3]\n",
       "class E5--><rect fill=\"#FFFFFF\" height=\"45.9375\" id=\"E5\" style=\"stroke: #383838; stroke-width: 1.5;\" width=\"108\" x=\"327\" y=\"217.5\"/><text fill=\"#000000\" font-family=\"sans-serif\" font-size=\"12\" font-style=\"italic\" lengthAdjust=\"spacingAndGlyphs\" textLength=\"106\" x=\"328\" y=\"233.6387\">«calculation def»</text><text fill=\"#000000\" font-family=\"sans-serif\" font-size=\"12\" lengthAdjust=\"spacingAndGlyphs\" textLength=\"59\" x=\"351.5\" y=\"247.6074\">MassSum</text><line style=\"stroke: #383838; stroke-width: 1.5;\" x1=\"328\" x2=\"434\" y1=\"255.4375\" y2=\"255.4375\"/><!--MD5=[60a26617385b1d2d0262a64233df1f8d]\n",
       "class E6--><rect fill=\"#FFFFFF\" height=\"45.9375\" id=\"E6\" rx=\"10\" ry=\"10\" style=\"stroke: #383838; stroke-width: 1.5;\" width=\"91\" x=\"665.5\" y=\"73\"/><text fill=\"#000000\" font-family=\"sans-serif\" font-size=\"12\" font-style=\"italic\" lengthAdjust=\"spacingAndGlyphs\" textLength=\"82\" x=\"670\" y=\"89.1387\">«calculation»</text><text fill=\"#000000\" font-family=\"sans-serif\" font-size=\"12\" lengthAdjust=\"spacingAndGlyphs\" textLength=\"85\" x=\"668.5\" y=\"103.1074\">ms: MassSum</text><line style=\"stroke: #383838; stroke-width: 1.5;\" x1=\"666.5\" x2=\"755.5\" y1=\"110.9375\" y2=\"110.9375\"/><!--MD5=[2156ba9850f5573cc1fc38a6a4b2f02b]\n",
       "class E7--><rect fill=\"#FFFFFF\" height=\"71.5469\" id=\"E7\" style=\"stroke: #383838; stroke-width: 1.5;\" width=\"253\" x=\"377.5\" y=\"60\"/><text fill=\"#000000\" font-family=\"sans-serif\" font-size=\"12\" font-style=\"italic\" lengthAdjust=\"spacingAndGlyphs\" textLength=\"106\" x=\"451\" y=\"76.1387\">«calculation def»</text><text fill=\"#000000\" font-family=\"sans-serif\" font-size=\"12\" lengthAdjust=\"spacingAndGlyphs\" textLength=\"67\" x=\"470.5\" y=\"90.1074\">MassSum1</text><line style=\"stroke: #383838; stroke-width: 1.5;\" x1=\"378.5\" x2=\"629.5\" y1=\"97.9375\" y2=\"97.9375\"/><text fill=\"#000000\" font-family=\"sans-serif\" font-size=\"11\" lengthAdjust=\"spacingAndGlyphs\" textLength=\"136\" x=\"383.5\" y=\"112.1479\">partMasses: MassValue</text><text fill=\"#000000\" font-family=\"sans-serif\" font-size=\"11\" lengthAdjust=\"spacingAndGlyphs\" textLength=\"241\" x=\"383.5\" y=\"124.9526\">totalMass: MassValue= sum(partMasses);</text><!--MD5=[b9389687b975829384b498ac4b7476b2]\n",
       "class E8--><rect fill=\"#FFFFFF\" height=\"109.9609\" id=\"E8\" rx=\"10\" ry=\"10\" style=\"stroke: #383838; stroke-width: 1.5;\" width=\"310\" x=\"32\" y=\"41\"/><text fill=\"#000000\" font-family=\"sans-serif\" font-size=\"12\" font-style=\"italic\" lengthAdjust=\"spacingAndGlyphs\" textLength=\"82\" x=\"146\" y=\"57.1387\">«calculation»</text><text fill=\"#000000\" font-family=\"sans-serif\" font-size=\"12\" lengthAdjust=\"spacingAndGlyphs\" textLength=\"93\" x=\"140.5\" y=\"71.1074\">ms1: MassSum</text><line style=\"stroke: #383838; stroke-width: 1.5;\" x1=\"33\" x2=\"341\" y1=\"78.9375\" y2=\"78.9375\"/><text fill=\"#000000\" font-family=\"sans-serif\" font-size=\"11\" lengthAdjust=\"spacingAndGlyphs\" textLength=\"298\" x=\"38\" y=\"93.1479\">partMasses: MassValue= {vehicle::eng::m, vehicle::</text><text fill=\"#000000\" font-family=\"sans-serif\" font-size=\"11\" lengthAdjust=\"spacingAndGlyphs\" textLength=\"60\" x=\"38\" y=\"105.9526\">trans::m};</text><text fill=\"#000000\" font-family=\"sans-serif\" font-size=\"11\" font-style=\"italic\" lengthAdjust=\"spacingAndGlyphs\" textLength=\"153\" x=\"38\" y=\"118.7573\">:&gt;&gt;MassSum::partMasses</text><text fill=\"#000000\" font-family=\"sans-serif\" font-size=\"11\" lengthAdjust=\"spacingAndGlyphs\" textLength=\"199\" x=\"38\" y=\"131.562\">totalMass: MassValue= vehicle::m;</text><text fill=\"#000000\" font-family=\"sans-serif\" font-size=\"11\" font-style=\"italic\" lengthAdjust=\"spacingAndGlyphs\" textLength=\"141\" x=\"38\" y=\"144.3667\">:&gt;&gt;MassSum::totalMass</text><!--MD5=[209b3feb70ccb6233bfe1053d122c12c]\n",
       "reverse link E2 to E3--><path d=\"M803.63,135.57 C782.52,159.25 755.93,189.08 736.66,210.71 \" fill=\"none\" id=\"E2&lt;-E3\" style=\"stroke: #383838; stroke-width: 1.0;\"/><polygon fill=\"#383838\" points=\"812.3,125.84,805.3219,127.6581,804.3162,134.7987,811.2943,132.9806,812.3,125.84\" style=\"stroke: #383838; stroke-width: 1.0;\"/><!--MD5=[9618e71518536f8baf3342ff6fdab317]\n",
       "reverse link E2 to E4--><path d=\"M838,139.1 C838,162.16 838,190.15 838,210.71 \" fill=\"none\" id=\"E2&lt;-E4\" style=\"stroke: #383838; stroke-width: 1.0;\"/><polygon fill=\"#383838\" points=\"838,125.84,834,131.84,838,137.84,842,131.84,838,125.84\" style=\"stroke: #383838; stroke-width: 1.0;\"/><!--MD5=[25b190c987b1e74e5126d372c5a73af1]\n",
       "link E6 to E5--><path d=\"M689.58,119.06 C678.08,129.89 663.18,142.42 648,151 C586.98,185.48 510.46,209.12 455,223.23 \" fill=\"none\" id=\"E6-&gt;E5\" style=\"stroke: #383838; stroke-width: 1.0;\"/><polygon fill=\"#FFFFFF\" points=\"435.22,228.09,452.0003,216.7576,455.3416,230.353,435.22,228.09\" style=\"stroke: #383838; stroke-width: 1.0;\"/><ellipse cx=\"458.0129\" cy=\"217.3394\" fill=\"#383838\" rx=\"2\" ry=\"2\" style=\"stroke: #383838; stroke-width: 1.0;\"/><ellipse cx=\"460.3995\" cy=\"227.0504\" fill=\"#383838\" rx=\"2\" ry=\"2\" style=\"stroke: #383838; stroke-width: 1.0;\"/><!--MD5=[1ccb2481ffa92f8d51a74ee30c51832a]\n",
       "link E8 to E5--><path d=\"M260.62,151.08 C285.44,169.31 312.43,189.13 334.55,205.38 \" fill=\"none\" id=\"E8-&gt;E5\" style=\"stroke: #383838; stroke-width: 1.0;\"/><polygon fill=\"#FFFFFF\" points=\"350.76,217.29,331.3013,211.69,339.5856,200.4041,350.76,217.29\" style=\"stroke: #383838; stroke-width: 1.0;\"/><ellipse cx=\"327.8899\" cy=\"206.7048\" fill=\"#383838\" rx=\"2\" ry=\"2\" style=\"stroke: #383838; stroke-width: 1.0;\"/><ellipse cx=\"333.8072\" cy=\"198.6435\" fill=\"#383838\" rx=\"2\" ry=\"2\" style=\"stroke: #383838; stroke-width: 1.0;\"/><!--MD5=[25109e686f9a81d58ee8ae9f5862216a]\n",
       "@startuml\r\n",
       "top to bottom direction\r\n",
       "skinparam monochrome true\r\n",
       "skinparam classbackgroundcolor white\r\n",
       "skinparam shadowing false\r\n",
       "skinparam wrapWidth 300\r\n",
       "hide circle\r\n",
       "\r\n",
       "package \"CalculationExample\" as E1   {\r\n",
       "comp usage \"vehicle: Part\" as E2  <<(T,blue)part>> {\r\n",
       "m: MassValue\r\n",
       "}\r\n",
       "comp usage \"eng: Part\" as E3  <<(T,blue)part>> {\r\n",
       "m: MassValue\r\n",
       "}\r\n",
       "comp usage \"trans: Part\" as E4  <<(T,blue)part>> {\r\n",
       "m: MassValue\r\n",
       "}\r\n",
       "comp def \"MassSum\" as E5  <<(T,blue)calculation def>> {\r\n",
       "}\r\n",
       "comp usage \"ms: MassSum\" as E6  <<(T,blue)calculation>> {\r\n",
       "}\r\n",
       "comp def \"MassSum1\" as E7  <<(T,blue)calculation def>> {\r\n",
       "partMasses: MassValue\r\n",
       "totalMass: MassValue= sum(partMasses); \r\n",
       "}\r\n",
       "comp usage \"ms1: MassSum\" as E8  <<(T,blue)calculation>> {\r\n",
       "partMasses: MassValue= {vehicle::eng::m, vehicle::trans::m}; \\n//:>>MassSum::partMasses// \r\n",
       "totalMass: MassValue= vehicle::m; \\n//:>>MassSum::totalMass// \r\n",
       "}\r\n",
       "E2 *- - E3\r\n",
       "E2 *- - E4\r\n",
       "E6 - -:|> E5\r\n",
       "E8 - -:|> E5\r\n",
       "}\r\n",
       "@enduml\r\n",
       "\n",
       "PlantUML version 1.2020.13(Sat Jun 13 12:26:38 UTC 2020)\n",
       "(EPL source distribution)\n",
       "Java Runtime: OpenJDK Runtime Environment\n",
       "JVM: OpenJDK 64-Bit Server VM\n",
       "Default Encoding: UTF-8\n",
       "Language: en\n",
       "Country: null\n",
       "--></g></svg>"
      ]
     },
     "execution_count": 45,
     "metadata": {},
     "output_type": "execute_result"
    }
   ],
   "source": [
    "%viz --style=\"TB\" --view=\"Tree\" \"CalculationExample\""
   ]
  },
  {
   "cell_type": "code",
   "execution_count": 46,
   "id": "anticipated-generic",
   "metadata": {
    "execution": {
     "iopub.execute_input": "2021-03-26T09:44:30.325747Z",
     "iopub.status.busy": "2021-03-26T09:44:30.324642Z",
     "iopub.status.idle": "2021-03-26T09:44:30.329962Z",
     "shell.execute_reply": "2021-03-26T09:44:30.329634Z"
    }
   },
   "outputs": [
    {
     "data": {
      "text/plain": [
       "java.lang.IllegalArgumentException: Invalid View: State View candidates are: Default Tree StateMachine Interconnection Activity Sequence MIXED \n",
       "\tat org.omg.sysml.plantuml.SysML2PlantUMLSvc.setView(SysML2PlantUMLSvc.java:63)\n",
       "\tat org.omg.sysml.interactive.SysMLInteractive.viz(SysMLInteractive.java:286)\n",
       "\tat org.omg.sysml.jupyter.kernel.magic.Viz.viz(Viz.java:47)\n",
       "\tat jdk.internal.reflect.GeneratedMethodAccessor14.invoke(Unknown Source)\n",
       "\tat java.base/jdk.internal.reflect.DelegatingMethodAccessorImpl.invoke(DelegatingMethodAccessorImpl.java:43)\n",
       "\tat java.base/java.lang.reflect.Method.invoke(Method.java:568)\n",
       "\tat io.github.spencerpark.jupyter.kernel.magic.registry.Magics.invoke(Magics.java:89)\n",
       "\tat io.github.spencerpark.jupyter.kernel.magic.registry.Magics.access$000(Magics.java:8)\n",
       "\tat io.github.spencerpark.jupyter.kernel.magic.registry.Magics$LineReflectionMagicFunction.execute(Magics.java:149)\n",
       "\tat io.github.spencerpark.jupyter.kernel.magic.registry.Magics.applyLineMagic(Magics.java:26)\n",
       "\tat org.omg.sysml.jupyter.kernel.SysMLKernel.eval(SysMLKernel.java:76)\n",
       "\tat io.github.spencerpark.jupyter.kernel.BaseKernel.handleExecuteRequest(BaseKernel.java:334)\n",
       "\tat io.github.spencerpark.jupyter.channels.ShellChannel.lambda$bind$0(ShellChannel.java:64)\n",
       "\tat io.github.spencerpark.jupyter.channels.Loop.lambda$new$0(Loop.java:21)\n",
       "\tat io.github.spencerpark.jupyter.channels.Loop.run(Loop.java:78)\n"
      ]
     },
     "execution_count": 46,
     "metadata": {},
     "output_type": "execute_result"
    }
   ],
   "source": [
    "%viz --style=\"TB\" --view=\"State\" \"CalculationExample\""
   ]
  },
  {
   "cell_type": "code",
   "execution_count": 47,
   "id": "competent-referral",
   "metadata": {
    "execution": {
     "iopub.execute_input": "2021-03-26T09:44:30.383652Z",
     "iopub.status.busy": "2021-03-26T09:44:30.383175Z",
     "iopub.status.idle": "2021-03-26T09:44:30.410369Z",
     "shell.execute_reply": "2021-03-26T09:44:30.409016Z"
    }
   },
   "outputs": [
    {
     "data": {
      "image/svg+xml": [
       "<?xml version=\"1.0\" encoding=\"UTF-8\" standalone=\"no\"?><svg xmlns=\"http://www.w3.org/2000/svg\" xmlns:xlink=\"http://www.w3.org/1999/xlink\" contentScriptType=\"application/ecmascript\" contentStyleType=\"text/css\" height=\"253px\" preserveAspectRatio=\"none\" style=\"width:843px;height:253px;\" version=\"1.1\" viewBox=\"0 0 843 253\" width=\"843px\" zoomAndPan=\"magnify\"><defs/><g><!--MD5=[fbc87193dbaf4d95561dea2c320d4a47]\n",
       "cluster E1--><polygon fill=\"#FFFFFF\" points=\"16,6,173,6,180,28.2969,821,28.2969,821,241,16,241,16,6\" style=\"stroke: #000000; stroke-width: 1.5;\"/><line style=\"stroke: #000000; stroke-width: 1.5;\" x1=\"16\" x2=\"180\" y1=\"28.2969\" y2=\"28.2969\"/><text fill=\"#000000\" font-family=\"sans-serif\" font-size=\"14\" font-weight=\"bold\" lengthAdjust=\"spacingAndGlyphs\" textLength=\"151\" x=\"20\" y=\"20.9951\">CalculationExample</text><!--MD5=[e4f7fae6ed58524ba242bb0b0d3be6b7]\n",
       "cluster E2--><rect fill=\"#F8F8F8\" height=\"168\" rx=\"12.5\" ry=\"12.5\" style=\"stroke: #000000; stroke-width: 1.5;\" width=\"495\" x=\"302\" y=\"49\"/><rect fill=\"#FFFFFF\" height=\"135.7031\" rx=\"12.5\" ry=\"12.5\" style=\"stroke: #FFFFFF; stroke-width: 1.0;\" width=\"489\" x=\"305\" y=\"78.2969\"/><line style=\"stroke: #000000; stroke-width: 1.5;\" x1=\"302\" x2=\"797\" y1=\"75.2969\" y2=\"75.2969\"/><text fill=\"#000000\" font-family=\"sans-serif\" font-size=\"14\" lengthAdjust=\"spacingAndGlyphs\" textLength=\"84\" x=\"507.5\" y=\"65.9951\">vehicle: Part</text><!--MD5=[f6df4d0ebaf0b5dfb2ced0ae5af7c670]\n",
       "cluster E4--><rect fill=\"#F8F8F8\" height=\"101\" rx=\"12.5\" ry=\"12.5\" style=\"stroke: #000000; stroke-width: 1.5;\" width=\"148\" x=\"625\" y=\"92\"/><rect fill=\"#FFFFFF\" height=\"68.7031\" rx=\"12.5\" ry=\"12.5\" style=\"stroke: #FFFFFF; stroke-width: 1.0;\" width=\"142\" x=\"628\" y=\"121.2969\"/><line style=\"stroke: #000000; stroke-width: 1.5;\" x1=\"625\" x2=\"773\" y1=\"118.2969\" y2=\"118.2969\"/><text fill=\"#000000\" font-family=\"sans-serif\" font-size=\"14\" lengthAdjust=\"spacingAndGlyphs\" textLength=\"63\" x=\"667.5\" y=\"108.9951\">eng: Part</text><!--MD5=[14e3b0961a2654348d326746436168a1]\n",
       "cluster E6--><rect fill=\"#F8F8F8\" height=\"101\" rx=\"12.5\" ry=\"12.5\" style=\"stroke: #000000; stroke-width: 1.5;\" width=\"148\" x=\"453\" y=\"92\"/><rect fill=\"#FFFFFF\" height=\"68.7031\" rx=\"12.5\" ry=\"12.5\" style=\"stroke: #FFFFFF; stroke-width: 1.0;\" width=\"142\" x=\"456\" y=\"121.2969\"/><line style=\"stroke: #000000; stroke-width: 1.5;\" x1=\"453\" x2=\"601\" y1=\"118.2969\" y2=\"118.2969\"/><text fill=\"#000000\" font-family=\"sans-serif\" font-size=\"14\" lengthAdjust=\"spacingAndGlyphs\" textLength=\"71\" x=\"491.5\" y=\"108.9951\">trans: Part</text><!--MD5=[b9389687b975829384b498ac4b7476b2]\n",
       "class E8--><rect fill=\"#FFFFFF\" height=\"53.9375\" id=\"E8\" style=\"stroke: #383838; stroke-width: 1.5;\" width=\"108\" x=\"175\" y=\"125\"/><text fill=\"#000000\" font-family=\"sans-serif\" font-size=\"12\" font-style=\"italic\" lengthAdjust=\"spacingAndGlyphs\" textLength=\"106\" x=\"176\" y=\"141.1387\">«calculation def»</text><text fill=\"#000000\" font-family=\"sans-serif\" font-size=\"12\" lengthAdjust=\"spacingAndGlyphs\" textLength=\"59\" x=\"199.5\" y=\"155.1074\">MassSum</text><line style=\"stroke: #383838; stroke-width: 1.5;\" x1=\"176\" x2=\"282\" y1=\"162.9375\" y2=\"162.9375\"/><line style=\"stroke: #383838; stroke-width: 1.5;\" x1=\"176\" x2=\"282\" y1=\"170.9375\" y2=\"170.9375\"/><!--MD5=[fd4143e9d270a159db93a4ea2a975926]\n",
       "class E9--><rect fill=\"#FFFFFF\" height=\"53.9375\" id=\"E9\" style=\"stroke: #383838; stroke-width: 1.5;\" width=\"108\" x=\"32\" y=\"125\"/><text fill=\"#000000\" font-family=\"sans-serif\" font-size=\"12\" font-style=\"italic\" lengthAdjust=\"spacingAndGlyphs\" textLength=\"106\" x=\"33\" y=\"141.1387\">«calculation def»</text><text fill=\"#000000\" font-family=\"sans-serif\" font-size=\"12\" lengthAdjust=\"spacingAndGlyphs\" textLength=\"67\" x=\"52.5\" y=\"155.1074\">MassSum1</text><line style=\"stroke: #383838; stroke-width: 1.5;\" x1=\"33\" x2=\"139\" y1=\"162.9375\" y2=\"162.9375\"/><line style=\"stroke: #383838; stroke-width: 1.5;\" x1=\"33\" x2=\"139\" y1=\"170.9375\" y2=\"170.9375\"/><g id=\"E1.E2.E3\"><rect fill=\"#FFFFFF\" height=\"50\" rx=\"12.5\" ry=\"12.5\" style=\"stroke: #383838; stroke-width: 1.5;\" width=\"116\" x=\"318\" y=\"127\"/><line style=\"stroke: #383838; stroke-width: 1.5;\" x1=\"318\" x2=\"434\" y1=\"153.2969\" y2=\"153.2969\"/><text fill=\"#000000\" font-family=\"sans-serif\" font-size=\"14\" lengthAdjust=\"spacingAndGlyphs\" textLength=\"96\" x=\"328\" y=\"144.9951\">m: MassValue</text></g><g id=\"E1.E2.E4.E5\"><rect fill=\"#FFFFFF\" height=\"50\" rx=\"12.5\" ry=\"12.5\" style=\"stroke: #383838; stroke-width: 1.5;\" width=\"116\" x=\"641\" y=\"127\"/><line style=\"stroke: #383838; stroke-width: 1.5;\" x1=\"641\" x2=\"757\" y1=\"153.2969\" y2=\"153.2969\"/><text fill=\"#000000\" font-family=\"sans-serif\" font-size=\"14\" lengthAdjust=\"spacingAndGlyphs\" textLength=\"96\" x=\"651\" y=\"144.9951\">m: MassValue</text></g><g id=\"E1.E2.E6.E7\"><rect fill=\"#FFFFFF\" height=\"50\" rx=\"12.5\" ry=\"12.5\" style=\"stroke: #383838; stroke-width: 1.5;\" width=\"116\" x=\"469\" y=\"127\"/><line style=\"stroke: #383838; stroke-width: 1.5;\" x1=\"469\" x2=\"585\" y1=\"153.2969\" y2=\"153.2969\"/><text fill=\"#000000\" font-family=\"sans-serif\" font-size=\"14\" lengthAdjust=\"spacingAndGlyphs\" textLength=\"96\" x=\"479\" y=\"144.9951\">m: MassValue</text></g><!--MD5=[5716ae84d974646e0c6796fff595d092]\n",
       "@startuml\r\n",
       "skinparam ranksep 8\r\n",
       "skinparam rectangle {\r\n",
       " backgroundColor<<block>> LightGreen\r\n",
       "}\r\n",
       "top to bottom direction\r\n",
       "skinparam monochrome true\r\n",
       "skinparam classbackgroundcolor white\r\n",
       "skinparam shadowing false\r\n",
       "skinparam wrapWidth 300\r\n",
       "hide circle\r\n",
       "\r\n",
       "package \"CalculationExample\" as E1   {\r\n",
       "rec usage \"vehicle: Part\" as E2  {\r\n",
       "rec usage \"m: MassValue\" as E3  <<attribute>> {\r\n",
       "}\r\n",
       "rec usage \"eng: Part\" as E4  {\r\n",
       "rec usage \"m: MassValue\" as E5  <<attribute>> {\r\n",
       "}\r\n",
       "}\r\n",
       "rec usage \"trans: Part\" as E6  {\r\n",
       "rec usage \"m: MassValue\" as E7  <<attribute>> {\r\n",
       "}\r\n",
       "}\r\n",
       "}\r\n",
       "def \"MassSum\" as E8  <<calculation def>> \r\n",
       "def \"MassSum1\" as E9  <<calculation def>> \r\n",
       "}\r\n",
       "@enduml\r\n",
       "\n",
       "PlantUML version 1.2020.13(Sat Jun 13 12:26:38 UTC 2020)\n",
       "(EPL source distribution)\n",
       "Java Runtime: OpenJDK Runtime Environment\n",
       "JVM: OpenJDK 64-Bit Server VM\n",
       "Default Encoding: UTF-8\n",
       "Language: en\n",
       "Country: null\n",
       "--></g></svg>"
      ]
     },
     "execution_count": 47,
     "metadata": {},
     "output_type": "execute_result"
    }
   ],
   "source": [
    "%viz --style=\"TB\" --view=\"Interconnection\" \"CalculationExample\""
   ]
  },
  {
   "cell_type": "code",
   "execution_count": 48,
   "id": "printable-partnership",
   "metadata": {
    "execution": {
     "iopub.execute_input": "2021-03-26T09:44:30.462728Z",
     "iopub.status.busy": "2021-03-26T09:44:30.461245Z",
     "iopub.status.idle": "2021-03-26T09:44:30.465407Z",
     "shell.execute_reply": "2021-03-26T09:44:30.466048Z"
    }
   },
   "outputs": [
    {
     "data": {
      "text/plain": [
       "java.lang.IllegalArgumentException: Invalid View: Action View candidates are: Default Tree StateMachine Interconnection Activity Sequence MIXED \n",
       "\tat org.omg.sysml.plantuml.SysML2PlantUMLSvc.setView(SysML2PlantUMLSvc.java:63)\n",
       "\tat org.omg.sysml.interactive.SysMLInteractive.viz(SysMLInteractive.java:286)\n",
       "\tat org.omg.sysml.jupyter.kernel.magic.Viz.viz(Viz.java:47)\n",
       "\tat jdk.internal.reflect.GeneratedMethodAccessor14.invoke(Unknown Source)\n",
       "\tat java.base/jdk.internal.reflect.DelegatingMethodAccessorImpl.invoke(DelegatingMethodAccessorImpl.java:43)\n",
       "\tat java.base/java.lang.reflect.Method.invoke(Method.java:568)\n",
       "\tat io.github.spencerpark.jupyter.kernel.magic.registry.Magics.invoke(Magics.java:89)\n",
       "\tat io.github.spencerpark.jupyter.kernel.magic.registry.Magics.access$000(Magics.java:8)\n",
       "\tat io.github.spencerpark.jupyter.kernel.magic.registry.Magics$LineReflectionMagicFunction.execute(Magics.java:149)\n",
       "\tat io.github.spencerpark.jupyter.kernel.magic.registry.Magics.applyLineMagic(Magics.java:26)\n",
       "\tat org.omg.sysml.jupyter.kernel.SysMLKernel.eval(SysMLKernel.java:76)\n",
       "\tat io.github.spencerpark.jupyter.kernel.BaseKernel.handleExecuteRequest(BaseKernel.java:334)\n",
       "\tat io.github.spencerpark.jupyter.channels.ShellChannel.lambda$bind$0(ShellChannel.java:64)\n",
       "\tat io.github.spencerpark.jupyter.channels.Loop.lambda$new$0(Loop.java:21)\n",
       "\tat io.github.spencerpark.jupyter.channels.Loop.run(Loop.java:78)\n"
      ]
     },
     "execution_count": 48,
     "metadata": {},
     "output_type": "execute_result"
    }
   ],
   "source": [
    "%viz --style=\"TB\" --view=\"Action\" \"CalculationExample\""
   ]
  },
  {
   "cell_type": "code",
   "execution_count": 49,
   "id": "legendary-enemy",
   "metadata": {
    "execution": {
     "iopub.execute_input": "2021-03-26T09:44:30.517931Z",
     "iopub.status.busy": "2021-03-26T09:44:30.517238Z",
     "iopub.status.idle": "2021-03-26T09:44:30.592731Z",
     "shell.execute_reply": "2021-03-26T09:44:30.591376Z"
    }
   },
   "outputs": [
    {
     "data": {
      "image/svg+xml": [
       "<?xml version=\"1.0\" encoding=\"UTF-8\" standalone=\"no\"?><svg xmlns=\"http://www.w3.org/2000/svg\" xmlns:xlink=\"http://www.w3.org/1999/xlink\" contentScriptType=\"application/ecmascript\" contentStyleType=\"text/css\" height=\"298px\" preserveAspectRatio=\"none\" style=\"width:922px;height:298px;\" version=\"1.1\" viewBox=\"0 0 922 298\" width=\"922px\" zoomAndPan=\"magnify\"><defs/><g><!--MD5=[fbc87193dbaf4d95561dea2c320d4a47]\n",
       "cluster E1--><polygon fill=\"#FFFFFF\" points=\"16,6,173,6,180,28.2969,900,28.2969,900,286,16,286,16,6\" style=\"stroke: #000000; stroke-width: 1.5;\"/><line style=\"stroke: #000000; stroke-width: 1.5;\" x1=\"16\" x2=\"180\" y1=\"28.2969\" y2=\"28.2969\"/><text fill=\"#000000\" font-family=\"sans-serif\" font-size=\"14\" font-weight=\"bold\" lengthAdjust=\"spacingAndGlyphs\" textLength=\"151\" x=\"20\" y=\"20.9951\">CalculationExample</text><!--MD5=[b4997ac47864f28c2f74865a473b2911]\n",
       "class E2--><rect fill=\"#FFFFFF\" height=\"58.7422\" id=\"E2\" rx=\"10\" ry=\"10\" style=\"stroke: #383838; stroke-width: 1.5;\" width=\"92\" x=\"792\" y=\"66.5\"/><text fill=\"#000000\" font-family=\"sans-serif\" font-size=\"12\" font-style=\"italic\" lengthAdjust=\"spacingAndGlyphs\" textLength=\"40\" x=\"818\" y=\"82.6387\">«part»</text><text fill=\"#000000\" font-family=\"sans-serif\" font-size=\"12\" lengthAdjust=\"spacingAndGlyphs\" textLength=\"77\" x=\"799.5\" y=\"96.6074\">vehicle: Part</text><line style=\"stroke: #383838; stroke-width: 1.5;\" x1=\"793\" x2=\"883\" y1=\"104.4375\" y2=\"104.4375\"/><text fill=\"#000000\" font-family=\"sans-serif\" font-size=\"11\" lengthAdjust=\"spacingAndGlyphs\" textLength=\"80\" x=\"798\" y=\"118.6479\">m: MassValue</text><!--MD5=[09b614a08d8cba4a07c9adeb5e0fee81]\n",
       "class E3--><rect fill=\"#FFFFFF\" height=\"58.7422\" id=\"E3\" rx=\"10\" ry=\"10\" style=\"stroke: #383838; stroke-width: 1.5;\" width=\"92\" x=\"665\" y=\"211\"/><text fill=\"#000000\" font-family=\"sans-serif\" font-size=\"12\" font-style=\"italic\" lengthAdjust=\"spacingAndGlyphs\" textLength=\"40\" x=\"691\" y=\"227.1387\">«part»</text><text fill=\"#000000\" font-family=\"sans-serif\" font-size=\"12\" lengthAdjust=\"spacingAndGlyphs\" textLength=\"58\" x=\"682\" y=\"241.1074\">eng: Part</text><line style=\"stroke: #383838; stroke-width: 1.5;\" x1=\"666\" x2=\"756\" y1=\"248.9375\" y2=\"248.9375\"/><text fill=\"#000000\" font-family=\"sans-serif\" font-size=\"11\" lengthAdjust=\"spacingAndGlyphs\" textLength=\"80\" x=\"671\" y=\"263.1479\">m: MassValue</text><!--MD5=[ebbe1d658d1005bcc118a6aa81145e00]\n",
       "class E4--><rect fill=\"#FFFFFF\" height=\"58.7422\" id=\"E4\" rx=\"10\" ry=\"10\" style=\"stroke: #383838; stroke-width: 1.5;\" width=\"92\" x=\"792\" y=\"211\"/><text fill=\"#000000\" font-family=\"sans-serif\" font-size=\"12\" font-style=\"italic\" lengthAdjust=\"spacingAndGlyphs\" textLength=\"40\" x=\"818\" y=\"227.1387\">«part»</text><text fill=\"#000000\" font-family=\"sans-serif\" font-size=\"12\" lengthAdjust=\"spacingAndGlyphs\" textLength=\"67\" x=\"804.5\" y=\"241.1074\">trans: Part</text><line style=\"stroke: #383838; stroke-width: 1.5;\" x1=\"793\" x2=\"883\" y1=\"248.9375\" y2=\"248.9375\"/><text fill=\"#000000\" font-family=\"sans-serif\" font-size=\"11\" lengthAdjust=\"spacingAndGlyphs\" textLength=\"80\" x=\"798\" y=\"263.1479\">m: MassValue</text><!--MD5=[270fce915f116d4de14055a7c1d9a0f3]\n",
       "class E5--><rect fill=\"#FFFFFF\" height=\"45.9375\" id=\"E5\" style=\"stroke: #383838; stroke-width: 1.5;\" width=\"108\" x=\"327\" y=\"217.5\"/><text fill=\"#000000\" font-family=\"sans-serif\" font-size=\"12\" font-style=\"italic\" lengthAdjust=\"spacingAndGlyphs\" textLength=\"106\" x=\"328\" y=\"233.6387\">«calculation def»</text><text fill=\"#000000\" font-family=\"sans-serif\" font-size=\"12\" lengthAdjust=\"spacingAndGlyphs\" textLength=\"59\" x=\"351.5\" y=\"247.6074\">MassSum</text><line style=\"stroke: #383838; stroke-width: 1.5;\" x1=\"328\" x2=\"434\" y1=\"255.4375\" y2=\"255.4375\"/><!--MD5=[60a26617385b1d2d0262a64233df1f8d]\n",
       "class E6--><rect fill=\"#FFFFFF\" height=\"45.9375\" id=\"E6\" rx=\"10\" ry=\"10\" style=\"stroke: #383838; stroke-width: 1.5;\" width=\"91\" x=\"665.5\" y=\"73\"/><text fill=\"#000000\" font-family=\"sans-serif\" font-size=\"12\" font-style=\"italic\" lengthAdjust=\"spacingAndGlyphs\" textLength=\"82\" x=\"670\" y=\"89.1387\">«calculation»</text><text fill=\"#000000\" font-family=\"sans-serif\" font-size=\"12\" lengthAdjust=\"spacingAndGlyphs\" textLength=\"85\" x=\"668.5\" y=\"103.1074\">ms: MassSum</text><line style=\"stroke: #383838; stroke-width: 1.5;\" x1=\"666.5\" x2=\"755.5\" y1=\"110.9375\" y2=\"110.9375\"/><!--MD5=[2156ba9850f5573cc1fc38a6a4b2f02b]\n",
       "class E7--><rect fill=\"#FFFFFF\" height=\"71.5469\" id=\"E7\" style=\"stroke: #383838; stroke-width: 1.5;\" width=\"253\" x=\"377.5\" y=\"60\"/><text fill=\"#000000\" font-family=\"sans-serif\" font-size=\"12\" font-style=\"italic\" lengthAdjust=\"spacingAndGlyphs\" textLength=\"106\" x=\"451\" y=\"76.1387\">«calculation def»</text><text fill=\"#000000\" font-family=\"sans-serif\" font-size=\"12\" lengthAdjust=\"spacingAndGlyphs\" textLength=\"67\" x=\"470.5\" y=\"90.1074\">MassSum1</text><line style=\"stroke: #383838; stroke-width: 1.5;\" x1=\"378.5\" x2=\"629.5\" y1=\"97.9375\" y2=\"97.9375\"/><text fill=\"#000000\" font-family=\"sans-serif\" font-size=\"11\" lengthAdjust=\"spacingAndGlyphs\" textLength=\"136\" x=\"383.5\" y=\"112.1479\">partMasses: MassValue</text><text fill=\"#000000\" font-family=\"sans-serif\" font-size=\"11\" lengthAdjust=\"spacingAndGlyphs\" textLength=\"241\" x=\"383.5\" y=\"124.9526\">totalMass: MassValue= sum(partMasses);</text><!--MD5=[b9389687b975829384b498ac4b7476b2]\n",
       "class E8--><rect fill=\"#FFFFFF\" height=\"109.9609\" id=\"E8\" rx=\"10\" ry=\"10\" style=\"stroke: #383838; stroke-width: 1.5;\" width=\"310\" x=\"32\" y=\"41\"/><text fill=\"#000000\" font-family=\"sans-serif\" font-size=\"12\" font-style=\"italic\" lengthAdjust=\"spacingAndGlyphs\" textLength=\"82\" x=\"146\" y=\"57.1387\">«calculation»</text><text fill=\"#000000\" font-family=\"sans-serif\" font-size=\"12\" lengthAdjust=\"spacingAndGlyphs\" textLength=\"93\" x=\"140.5\" y=\"71.1074\">ms1: MassSum</text><line style=\"stroke: #383838; stroke-width: 1.5;\" x1=\"33\" x2=\"341\" y1=\"78.9375\" y2=\"78.9375\"/><text fill=\"#000000\" font-family=\"sans-serif\" font-size=\"11\" lengthAdjust=\"spacingAndGlyphs\" textLength=\"298\" x=\"38\" y=\"93.1479\">partMasses: MassValue= {vehicle::eng::m, vehicle::</text><text fill=\"#000000\" font-family=\"sans-serif\" font-size=\"11\" lengthAdjust=\"spacingAndGlyphs\" textLength=\"60\" x=\"38\" y=\"105.9526\">trans::m};</text><text fill=\"#000000\" font-family=\"sans-serif\" font-size=\"11\" font-style=\"italic\" lengthAdjust=\"spacingAndGlyphs\" textLength=\"153\" x=\"38\" y=\"118.7573\">:&gt;&gt;MassSum::partMasses</text><text fill=\"#000000\" font-family=\"sans-serif\" font-size=\"11\" lengthAdjust=\"spacingAndGlyphs\" textLength=\"199\" x=\"38\" y=\"131.562\">totalMass: MassValue= vehicle::m;</text><text fill=\"#000000\" font-family=\"sans-serif\" font-size=\"11\" font-style=\"italic\" lengthAdjust=\"spacingAndGlyphs\" textLength=\"141\" x=\"38\" y=\"144.3667\">:&gt;&gt;MassSum::totalMass</text><!--MD5=[209b3feb70ccb6233bfe1053d122c12c]\n",
       "reverse link E2 to E3--><path d=\"M803.63,135.57 C782.52,159.25 755.93,189.08 736.66,210.71 \" fill=\"none\" id=\"E2&lt;-E3\" style=\"stroke: #383838; stroke-width: 1.0;\"/><polygon fill=\"#383838\" points=\"812.3,125.84,805.3219,127.6581,804.3162,134.7987,811.2943,132.9806,812.3,125.84\" style=\"stroke: #383838; stroke-width: 1.0;\"/><!--MD5=[9618e71518536f8baf3342ff6fdab317]\n",
       "reverse link E2 to E4--><path d=\"M838,139.1 C838,162.16 838,190.15 838,210.71 \" fill=\"none\" id=\"E2&lt;-E4\" style=\"stroke: #383838; stroke-width: 1.0;\"/><polygon fill=\"#383838\" points=\"838,125.84,834,131.84,838,137.84,842,131.84,838,125.84\" style=\"stroke: #383838; stroke-width: 1.0;\"/><!--MD5=[25b190c987b1e74e5126d372c5a73af1]\n",
       "link E6 to E5--><path d=\"M689.58,119.06 C678.08,129.89 663.18,142.42 648,151 C586.98,185.48 510.46,209.12 455,223.23 \" fill=\"none\" id=\"E6-&gt;E5\" style=\"stroke: #383838; stroke-width: 1.0;\"/><polygon fill=\"#FFFFFF\" points=\"435.22,228.09,452.0003,216.7576,455.3416,230.353,435.22,228.09\" style=\"stroke: #383838; stroke-width: 1.0;\"/><ellipse cx=\"458.0129\" cy=\"217.3394\" fill=\"#383838\" rx=\"2\" ry=\"2\" style=\"stroke: #383838; stroke-width: 1.0;\"/><ellipse cx=\"460.3995\" cy=\"227.0504\" fill=\"#383838\" rx=\"2\" ry=\"2\" style=\"stroke: #383838; stroke-width: 1.0;\"/><!--MD5=[1ccb2481ffa92f8d51a74ee30c51832a]\n",
       "link E8 to E5--><path d=\"M260.62,151.08 C285.44,169.31 312.43,189.13 334.55,205.38 \" fill=\"none\" id=\"E8-&gt;E5\" style=\"stroke: #383838; stroke-width: 1.0;\"/><polygon fill=\"#FFFFFF\" points=\"350.76,217.29,331.3013,211.69,339.5856,200.4041,350.76,217.29\" style=\"stroke: #383838; stroke-width: 1.0;\"/><ellipse cx=\"327.8899\" cy=\"206.7048\" fill=\"#383838\" rx=\"2\" ry=\"2\" style=\"stroke: #383838; stroke-width: 1.0;\"/><ellipse cx=\"333.8072\" cy=\"198.6435\" fill=\"#383838\" rx=\"2\" ry=\"2\" style=\"stroke: #383838; stroke-width: 1.0;\"/><!--MD5=[25109e686f9a81d58ee8ae9f5862216a]\n",
       "@startuml\r\n",
       "top to bottom direction\r\n",
       "skinparam monochrome true\r\n",
       "skinparam classbackgroundcolor white\r\n",
       "skinparam shadowing false\r\n",
       "skinparam wrapWidth 300\r\n",
       "hide circle\r\n",
       "\r\n",
       "package \"CalculationExample\" as E1   {\r\n",
       "comp usage \"vehicle: Part\" as E2  <<(T,blue)part>> {\r\n",
       "m: MassValue\r\n",
       "}\r\n",
       "comp usage \"eng: Part\" as E3  <<(T,blue)part>> {\r\n",
       "m: MassValue\r\n",
       "}\r\n",
       "comp usage \"trans: Part\" as E4  <<(T,blue)part>> {\r\n",
       "m: MassValue\r\n",
       "}\r\n",
       "comp def \"MassSum\" as E5  <<(T,blue)calculation def>> {\r\n",
       "}\r\n",
       "comp usage \"ms: MassSum\" as E6  <<(T,blue)calculation>> {\r\n",
       "}\r\n",
       "comp def \"MassSum1\" as E7  <<(T,blue)calculation def>> {\r\n",
       "partMasses: MassValue\r\n",
       "totalMass: MassValue= sum(partMasses); \r\n",
       "}\r\n",
       "comp usage \"ms1: MassSum\" as E8  <<(T,blue)calculation>> {\r\n",
       "partMasses: MassValue= {vehicle::eng::m, vehicle::trans::m}; \\n//:>>MassSum::partMasses// \r\n",
       "totalMass: MassValue= vehicle::m; \\n//:>>MassSum::totalMass// \r\n",
       "}\r\n",
       "E2 *- - E3\r\n",
       "E2 *- - E4\r\n",
       "E6 - -:|> E5\r\n",
       "E8 - -:|> E5\r\n",
       "}\r\n",
       "@enduml\r\n",
       "\n",
       "PlantUML version 1.2020.13(Sat Jun 13 12:26:38 UTC 2020)\n",
       "(EPL source distribution)\n",
       "Java Runtime: OpenJDK Runtime Environment\n",
       "JVM: OpenJDK 64-Bit Server VM\n",
       "Default Encoding: UTF-8\n",
       "Language: en\n",
       "Country: null\n",
       "--></g></svg>"
      ]
     },
     "execution_count": 49,
     "metadata": {},
     "output_type": "execute_result"
    }
   ],
   "source": [
    "%viz --style=\"TB\" --view=\"Sequence\" \"CalculationExample\""
   ]
  },
  {
   "cell_type": "code",
   "execution_count": 50,
   "id": "essential-consolidation",
   "metadata": {
    "execution": {
     "iopub.execute_input": "2021-03-26T09:44:30.642971Z",
     "iopub.status.busy": "2021-03-26T09:44:30.642554Z",
     "iopub.status.idle": "2021-03-26T09:44:30.706852Z",
     "shell.execute_reply": "2021-03-26T09:44:30.705430Z"
    }
   },
   "outputs": [
    {
     "data": {
      "image/svg+xml": [
       "<?xml version=\"1.0\" encoding=\"UTF-8\" standalone=\"no\"?><svg xmlns=\"http://www.w3.org/2000/svg\" xmlns:xlink=\"http://www.w3.org/1999/xlink\" contentScriptType=\"application/ecmascript\" contentStyleType=\"text/css\" height=\"446px\" preserveAspectRatio=\"none\" style=\"width:920px;height:446px;\" version=\"1.1\" viewBox=\"0 0 920 446\" width=\"920px\" zoomAndPan=\"magnify\"><defs/><g><!--MD5=[fbc87193dbaf4d95561dea2c320d4a47]\n",
       "cluster E1--><polygon fill=\"#FFFFFF\" points=\"16,6,173,6,180,28.2969,898,28.2969,898,434.72,16,434.72,16,6\" style=\"stroke: #000000; stroke-width: 1.5;\"/><line style=\"stroke: #000000; stroke-width: 1.5;\" x1=\"16\" x2=\"180\" y1=\"28.2969\" y2=\"28.2969\"/><text fill=\"#000000\" font-family=\"sans-serif\" font-size=\"14\" font-weight=\"bold\" lengthAdjust=\"spacingAndGlyphs\" textLength=\"151\" x=\"20\" y=\"20.9951\">CalculationExample</text><!--MD5=[de5ec2e2e8f62f467e546659f5068c88]\n",
       "cluster E5--><rect fill=\"#FFFFFF\" height=\"300.72\" style=\"stroke: #000000; stroke-width: 1.5;\" width=\"128\" x=\"365\" y=\"96\"/><text fill=\"#000000\" font-family=\"sans-serif\" font-size=\"14\" font-weight=\"bold\" lengthAdjust=\"spacingAndGlyphs\" textLength=\"74\" x=\"392\" y=\"110.9951\">MassSum</text><!--MD5=[917b9dd0c7eca3ee5f47219d1a84c0ad]\n",
       "cluster E11--><rect fill=\"#FFFFFF\" height=\"300.72\" style=\"stroke: #000000; stroke-width: 1.5;\" width=\"132\" x=\"750\" y=\"96\"/><text fill=\"#000000\" font-family=\"sans-serif\" font-size=\"14\" font-weight=\"bold\" lengthAdjust=\"spacingAndGlyphs\" textLength=\"84\" x=\"774\" y=\"110.9951\">MassSum1</text><!--MD5=[b4997ac47864f28c2f74865a473b2911]\n",
       "class E2--><rect fill=\"#FFFFFF\" height=\"58.7422\" id=\"E2\" rx=\"10\" ry=\"10\" style=\"stroke: #383838; stroke-width: 1.5;\" width=\"92\" x=\"643\" y=\"66.5\"/><text fill=\"#000000\" font-family=\"sans-serif\" font-size=\"12\" font-style=\"italic\" lengthAdjust=\"spacingAndGlyphs\" textLength=\"40\" x=\"669\" y=\"82.6387\">«part»</text><text fill=\"#000000\" font-family=\"sans-serif\" font-size=\"12\" lengthAdjust=\"spacingAndGlyphs\" textLength=\"77\" x=\"650.5\" y=\"96.6074\">vehicle: Part</text><line style=\"stroke: #383838; stroke-width: 1.5;\" x1=\"644\" x2=\"734\" y1=\"104.4375\" y2=\"104.4375\"/><text fill=\"#000000\" font-family=\"sans-serif\" font-size=\"11\" lengthAdjust=\"spacingAndGlyphs\" textLength=\"80\" x=\"649\" y=\"118.6479\">m: MassValue</text><!--MD5=[09b614a08d8cba4a07c9adeb5e0fee81]\n",
       "class E3--><rect fill=\"#FFFFFF\" height=\"58.7422\" id=\"E3\" rx=\"10\" ry=\"10\" style=\"stroke: #383838; stroke-width: 1.5;\" width=\"92\" x=\"512\" y=\"211\"/><text fill=\"#000000\" font-family=\"sans-serif\" font-size=\"12\" font-style=\"italic\" lengthAdjust=\"spacingAndGlyphs\" textLength=\"40\" x=\"538\" y=\"227.1387\">«part»</text><text fill=\"#000000\" font-family=\"sans-serif\" font-size=\"12\" lengthAdjust=\"spacingAndGlyphs\" textLength=\"58\" x=\"529\" y=\"241.1074\">eng: Part</text><line style=\"stroke: #383838; stroke-width: 1.5;\" x1=\"513\" x2=\"603\" y1=\"248.9375\" y2=\"248.9375\"/><text fill=\"#000000\" font-family=\"sans-serif\" font-size=\"11\" lengthAdjust=\"spacingAndGlyphs\" textLength=\"80\" x=\"518\" y=\"263.1479\">m: MassValue</text><!--MD5=[ebbe1d658d1005bcc118a6aa81145e00]\n",
       "class E4--><rect fill=\"#FFFFFF\" height=\"58.7422\" id=\"E4\" rx=\"10\" ry=\"10\" style=\"stroke: #383838; stroke-width: 1.5;\" width=\"92\" x=\"639\" y=\"211\"/><text fill=\"#000000\" font-family=\"sans-serif\" font-size=\"12\" font-style=\"italic\" lengthAdjust=\"spacingAndGlyphs\" textLength=\"40\" x=\"665\" y=\"227.1387\">«part»</text><text fill=\"#000000\" font-family=\"sans-serif\" font-size=\"12\" lengthAdjust=\"spacingAndGlyphs\" textLength=\"67\" x=\"651.5\" y=\"241.1074\">trans: Part</text><line style=\"stroke: #383838; stroke-width: 1.5;\" x1=\"640\" x2=\"730\" y1=\"248.9375\" y2=\"248.9375\"/><text fill=\"#000000\" font-family=\"sans-serif\" font-size=\"11\" lengthAdjust=\"spacingAndGlyphs\" textLength=\"80\" x=\"645\" y=\"263.1479\">m: MassValue</text><!--MD5=[96f4274e9e20536e775497830990834d]\n",
       "class E10--><rect fill=\"#FFFFFF\" height=\"45.9375\" id=\"E10\" rx=\"10\" ry=\"10\" style=\"stroke: #383838; stroke-width: 1.5;\" width=\"91\" x=\"516.5\" y=\"73\"/><text fill=\"#000000\" font-family=\"sans-serif\" font-size=\"12\" font-style=\"italic\" lengthAdjust=\"spacingAndGlyphs\" textLength=\"82\" x=\"521\" y=\"89.1387\">«calculation»</text><text fill=\"#000000\" font-family=\"sans-serif\" font-size=\"12\" lengthAdjust=\"spacingAndGlyphs\" textLength=\"85\" x=\"519.5\" y=\"103.1074\">ms: MassSum</text><line style=\"stroke: #383838; stroke-width: 1.5;\" x1=\"517.5\" x2=\"606.5\" y1=\"110.9375\" y2=\"110.9375\"/><!--MD5=[bee11217b2f71d958a27249dc326068c]\n",
       "class E14--><rect fill=\"#FFFFFF\" height=\"109.9609\" id=\"E14\" rx=\"10\" ry=\"10\" style=\"stroke: #383838; stroke-width: 1.5;\" width=\"310\" x=\"32\" y=\"41\"/><text fill=\"#000000\" font-family=\"sans-serif\" font-size=\"12\" font-style=\"italic\" lengthAdjust=\"spacingAndGlyphs\" textLength=\"82\" x=\"146\" y=\"57.1387\">«calculation»</text><text fill=\"#000000\" font-family=\"sans-serif\" font-size=\"12\" lengthAdjust=\"spacingAndGlyphs\" textLength=\"93\" x=\"140.5\" y=\"71.1074\">ms1: MassSum</text><line style=\"stroke: #383838; stroke-width: 1.5;\" x1=\"33\" x2=\"341\" y1=\"78.9375\" y2=\"78.9375\"/><text fill=\"#000000\" font-family=\"sans-serif\" font-size=\"11\" lengthAdjust=\"spacingAndGlyphs\" textLength=\"298\" x=\"38\" y=\"93.1479\">partMasses: MassValue= {vehicle::eng::m, vehicle::</text><text fill=\"#000000\" font-family=\"sans-serif\" font-size=\"11\" lengthAdjust=\"spacingAndGlyphs\" textLength=\"60\" x=\"38\" y=\"105.9526\">trans::m};</text><text fill=\"#000000\" font-family=\"sans-serif\" font-size=\"11\" font-style=\"italic\" lengthAdjust=\"spacingAndGlyphs\" textLength=\"153\" x=\"38\" y=\"118.7573\">:&gt;&gt;MassSum::partMasses</text><text fill=\"#000000\" font-family=\"sans-serif\" font-size=\"11\" lengthAdjust=\"spacingAndGlyphs\" textLength=\"199\" x=\"38\" y=\"131.562\">totalMass: MassValue= vehicle::m;</text><text fill=\"#000000\" font-family=\"sans-serif\" font-size=\"11\" font-style=\"italic\" lengthAdjust=\"spacingAndGlyphs\" textLength=\"141\" x=\"38\" y=\"144.3667\">:&gt;&gt;MassSum::totalMass</text><text fill=\"#000000\" font-family=\"sans-serif\" font-size=\"14\" lengthAdjust=\"spacingAndGlyphs\" textLength=\"80\" x=\"343\" y=\"74.6982\">partMasses</text><rect fill=\"#383838\" height=\"12\" style=\"stroke: #F8F8F8; stroke-width: 1.5;\" width=\"12\" x=\"377\" y=\"90\"/><text fill=\"#000000\" font-family=\"sans-serif\" font-size=\"14\" lengthAdjust=\"spacingAndGlyphs\" textLength=\"66\" x=\"365\" y=\"415.7151\">totalMass</text><rect fill=\"#383838\" height=\"12\" style=\"stroke: #F8F8F8; stroke-width: 1.5;\" width=\"12\" x=\"392\" y=\"390.72\"/><text fill=\"#000000\" font-family=\"sans-serif\" font-size=\"14\" lengthAdjust=\"spacingAndGlyphs\" textLength=\"75\" x=\"437.5\" y=\"74.6982\">$collection</text><rect fill=\"#383838\" height=\"12\" style=\"stroke: #F8F8F8; stroke-width: 1.5;\" width=\"12\" x=\"469\" y=\"90\"/><text fill=\"#000000\" font-family=\"sans-serif\" font-size=\"14\" lengthAdjust=\"spacingAndGlyphs\" textLength=\"48\" x=\"421\" y=\"415.7151\">$result</text><rect fill=\"#383838\" height=\"12\" style=\"stroke: #F8F8F8; stroke-width: 1.5;\" width=\"12\" x=\"439\" y=\"390.72\"/><text fill=\"#000000\" font-family=\"sans-serif\" font-size=\"14\" lengthAdjust=\"spacingAndGlyphs\" textLength=\"80\" x=\"776\" y=\"74.6982\">partMasses</text><rect fill=\"#383838\" height=\"12\" style=\"stroke: #F8F8F8; stroke-width: 1.5;\" width=\"12\" x=\"810\" y=\"90\"/><text fill=\"#000000\" font-family=\"sans-serif\" font-size=\"14\" lengthAdjust=\"spacingAndGlyphs\" textLength=\"66\" x=\"783\" y=\"415.7151\">totalMass</text><rect fill=\"#383838\" height=\"12\" style=\"stroke: #F8F8F8; stroke-width: 1.5;\" width=\"12\" x=\"810\" y=\"390.72\"/><!--MD5=[209b3feb70ccb6233bfe1053d122c12c]\n",
       "reverse link E2 to E3--><path d=\"M653.54,135.57 C631.77,159.25 604.35,189.08 584.47,210.71 \" fill=\"none\" id=\"E2&lt;-E3\" style=\"stroke: #383838; stroke-width: 1.0;\"/><polygon fill=\"#383838\" points=\"662.49,125.84,655.4845,127.5496,654.3682,134.6738,661.3737,132.9642,662.49,125.84\" style=\"stroke: #383838; stroke-width: 1.0;\"/><!--MD5=[9618e71518536f8baf3342ff6fdab317]\n",
       "reverse link E2 to E4--><path d=\"M687.82,139.1 C687.17,162.16 686.39,190.15 685.81,210.71 \" fill=\"none\" id=\"E2&lt;-E4\" style=\"stroke: #383838; stroke-width: 1.0;\"/><polygon fill=\"#383838\" points=\"688.19,125.84,684.0201,131.7232,687.8469,137.8351,692.0168,131.9519,688.19,125.84\" style=\"stroke: #383838; stroke-width: 1.0;\"/><!--MD5=[1c0b9414cc86e0744215edee6abd8926]\n",
       "link E7 to E9--><path d=\"M404.24,394.65 C415.81,391.39 427.38,391.41 438.95,394.7 \" fill=\"none\" id=\"E7-E9\" style=\"stroke: #383838; stroke-width: 5.0;\"/><!--MD5=[ec5e0a54482b142abcecfe541d624bff]\n",
       "link E10 to E5--><path d=\"M540.91,119.27 C533.3075,127.2925 524.1837,136.9213 514.4525,147.1917 C509.5869,152.327 504.5694,157.6226 499.5142,162.9581 C498.2504,164.292 496.9843,165.6284 495.7176,166.9654 C495.0842,167.6339 494.4507,168.3025 493.8173,168.9711 C493.659,169.1382 493.5006,169.3053 493.3423,169.4725 \" fill=\"none\" id=\"E10-&gt;E5\" style=\"stroke: #383838; stroke-width: 1.0;\"/><polygon fill=\"#FFFFFF\" points=\"493.3423,169.4725,501.3284,150.8654,511.4914,160.4942,493.3423,169.4725\" style=\"stroke: #383838; stroke-width: 1.0;\"/><ellipse cx=\"506.7005\" cy=\"148.1032\" fill=\"#383838\" rx=\"2\" ry=\"2\" style=\"stroke: #383838; stroke-width: 1.0;\"/><ellipse cx=\"513.9598\" cy=\"154.9809\" fill=\"#383838\" rx=\"2\" ry=\"2\" style=\"stroke: #383838; stroke-width: 1.0;\"/><!--MD5=[111e5536516ee1ad7d4266f589654f03]\n",
       "link E14 to E5--><path d=\"M278.08,151.08 C303.275,166.04 330.2775,182.0725 354.2775,196.3213 C357.2775,198.1023 360.2306,199.8556 363.1274,201.5753 C363.4895,201.7903 363.8507,202.0048 364.211,202.2187 C364.3912,202.3256 364.5711,202.4325 364.7508,202.5391 \" fill=\"none\" id=\"E14-&gt;E5\" style=\"stroke: #383838; stroke-width: 1.0;\"/><polygon fill=\"#FFFFFF\" points=\"364.7508,202.5391,344.8396,198.8589,351.9865,186.8206,364.7508,202.5391\" style=\"stroke: #383838; stroke-width: 1.0;\"/><ellipse cx=\"340.9593\" cy=\"194.2293\" fill=\"#383838\" rx=\"2\" ry=\"2\" style=\"stroke: #383838; stroke-width: 1.0;\"/><ellipse cx=\"346.0642\" cy=\"185.6305\" fill=\"#383838\" rx=\"2\" ry=\"2\" style=\"stroke: #383838; stroke-width: 1.0;\"/><!--MD5=[e7e06d8ac7b429671dcb14c398e52095]\n",
       "@startuml\r\n",
       "top to bottom direction\r\n",
       "skinparam monochrome true\r\n",
       "skinparam classbackgroundcolor white\r\n",
       "skinparam shadowing false\r\n",
       "skinparam wrapWidth 300\r\n",
       "hide circle\r\n",
       "\r\n",
       "package \"CalculationExample\" as E1   {\r\n",
       "comp usage \"vehicle: Part\" as E2  <<(T,blue)part>> {\r\n",
       "m: MassValue\r\n",
       "}\r\n",
       "comp usage \"eng: Part\" as E3  <<(T,blue)part>> {\r\n",
       "m: MassValue\r\n",
       "}\r\n",
       "comp usage \"trans: Part\" as E4  <<(T,blue)part>> {\r\n",
       "m: MassValue\r\n",
       "}\r\n",
       "rec def \"MassSum\" as E5 {\r\n",
       "portin \"partMasses\" as E6  \r\n",
       "portout \"totalMass\" as E7  \r\n",
       "portin \"$collection\" as E8  \r\n",
       "portout \"$result\" as E9  \r\n",
       "}\r\n",
       "\r\n",
       "comp usage \"ms: MassSum\" as E10  <<(T,blue)calculation>> {\r\n",
       "}\r\n",
       "rec def \"MassSum1\" as E11 {\r\n",
       "portin \"partMasses\" as E12  \r\n",
       "portout \"totalMass\" as E13  \r\n",
       "}\r\n",
       "\r\n",
       "comp usage \"ms1: MassSum\" as E14  <<(T,blue)calculation>> {\r\n",
       "partMasses: MassValue= {vehicle::eng::m, vehicle::trans::m}; \\n//:>>MassSum::partMasses// \r\n",
       "totalMass: MassValue= vehicle::m; \\n//:>>MassSum::totalMass// \r\n",
       "}\r\n",
       "E2 *- - E3\r\n",
       "E2 *- - E4\r\n",
       "E7 -[thickness=5]- E9\r\n",
       "E10 - -:|> E5\r\n",
       "E14 - -:|> E5\r\n",
       "}\r\n",
       "@enduml\r\n",
       "\n",
       "PlantUML version 1.2020.13(Sat Jun 13 12:26:38 UTC 2020)\n",
       "(EPL source distribution)\n",
       "Java Runtime: OpenJDK Runtime Environment\n",
       "JVM: OpenJDK 64-Bit Server VM\n",
       "Default Encoding: UTF-8\n",
       "Language: en\n",
       "Country: null\n",
       "--></g></svg>"
      ]
     },
     "execution_count": 50,
     "metadata": {},
     "output_type": "execute_result"
    }
   ],
   "source": [
    "%viz --style=\"TB\" --view=\"MIXED\" \"CalculationExample\""
   ]
  },
  {
   "cell_type": "code",
   "execution_count": 51,
   "id": "roman-gallery",
   "metadata": {
    "execution": {
     "iopub.execute_input": "2021-03-26T09:44:30.760986Z",
     "iopub.status.busy": "2021-03-26T09:44:30.760337Z",
     "iopub.status.idle": "2021-03-26T09:44:30.837643Z",
     "shell.execute_reply": "2021-03-26T09:44:30.835869Z"
    }
   },
   "outputs": [
    {
     "data": {
      "image/svg+xml": [
       "<?xml version=\"1.0\" encoding=\"UTF-8\" standalone=\"no\"?><svg xmlns=\"http://www.w3.org/2000/svg\" xmlns:xlink=\"http://www.w3.org/1999/xlink\" contentScriptType=\"application/ecmascript\" contentStyleType=\"text/css\" height=\"446px\" preserveAspectRatio=\"none\" style=\"width:920px;height:446px;\" version=\"1.1\" viewBox=\"0 0 920 446\" width=\"920px\" zoomAndPan=\"magnify\"><defs/><g><!--MD5=[fbc87193dbaf4d95561dea2c320d4a47]\n",
       "cluster E1--><polygon fill=\"#FFFFFF\" points=\"16,6,173,6,180,28.2969,898,28.2969,898,434.72,16,434.72,16,6\" style=\"stroke: #000000; stroke-width: 1.5;\"/><line style=\"stroke: #000000; stroke-width: 1.5;\" x1=\"16\" x2=\"180\" y1=\"28.2969\" y2=\"28.2969\"/><text fill=\"#000000\" font-family=\"sans-serif\" font-size=\"14\" font-weight=\"bold\" lengthAdjust=\"spacingAndGlyphs\" textLength=\"151\" x=\"20\" y=\"20.9951\">CalculationExample</text><!--MD5=[de5ec2e2e8f62f467e546659f5068c88]\n",
       "cluster E5--><rect fill=\"#FFFFFF\" height=\"300.72\" style=\"stroke: #000000; stroke-width: 1.5;\" width=\"128\" x=\"365\" y=\"96\"/><text fill=\"#000000\" font-family=\"sans-serif\" font-size=\"14\" font-weight=\"bold\" lengthAdjust=\"spacingAndGlyphs\" textLength=\"74\" x=\"392\" y=\"110.9951\">MassSum</text><!--MD5=[917b9dd0c7eca3ee5f47219d1a84c0ad]\n",
       "cluster E11--><rect fill=\"#FFFFFF\" height=\"300.72\" style=\"stroke: #000000; stroke-width: 1.5;\" width=\"132\" x=\"750\" y=\"96\"/><text fill=\"#000000\" font-family=\"sans-serif\" font-size=\"14\" font-weight=\"bold\" lengthAdjust=\"spacingAndGlyphs\" textLength=\"84\" x=\"774\" y=\"110.9951\">MassSum1</text><!--MD5=[b4997ac47864f28c2f74865a473b2911]\n",
       "class E2--><rect fill=\"#FFFFFF\" height=\"58.7422\" id=\"E2\" rx=\"10\" ry=\"10\" style=\"stroke: #383838; stroke-width: 1.5;\" width=\"92\" x=\"643\" y=\"66.5\"/><text fill=\"#000000\" font-family=\"sans-serif\" font-size=\"12\" font-style=\"italic\" lengthAdjust=\"spacingAndGlyphs\" textLength=\"40\" x=\"669\" y=\"82.6387\">«part»</text><text fill=\"#000000\" font-family=\"sans-serif\" font-size=\"12\" lengthAdjust=\"spacingAndGlyphs\" textLength=\"77\" x=\"650.5\" y=\"96.6074\">vehicle: Part</text><line style=\"stroke: #383838; stroke-width: 1.5;\" x1=\"644\" x2=\"734\" y1=\"104.4375\" y2=\"104.4375\"/><text fill=\"#000000\" font-family=\"sans-serif\" font-size=\"11\" lengthAdjust=\"spacingAndGlyphs\" textLength=\"80\" x=\"649\" y=\"118.6479\">m: MassValue</text><!--MD5=[09b614a08d8cba4a07c9adeb5e0fee81]\n",
       "class E3--><rect fill=\"#FFFFFF\" height=\"58.7422\" id=\"E3\" rx=\"10\" ry=\"10\" style=\"stroke: #383838; stroke-width: 1.5;\" width=\"92\" x=\"512\" y=\"211\"/><text fill=\"#000000\" font-family=\"sans-serif\" font-size=\"12\" font-style=\"italic\" lengthAdjust=\"spacingAndGlyphs\" textLength=\"40\" x=\"538\" y=\"227.1387\">«part»</text><text fill=\"#000000\" font-family=\"sans-serif\" font-size=\"12\" lengthAdjust=\"spacingAndGlyphs\" textLength=\"58\" x=\"529\" y=\"241.1074\">eng: Part</text><line style=\"stroke: #383838; stroke-width: 1.5;\" x1=\"513\" x2=\"603\" y1=\"248.9375\" y2=\"248.9375\"/><text fill=\"#000000\" font-family=\"sans-serif\" font-size=\"11\" lengthAdjust=\"spacingAndGlyphs\" textLength=\"80\" x=\"518\" y=\"263.1479\">m: MassValue</text><!--MD5=[ebbe1d658d1005bcc118a6aa81145e00]\n",
       "class E4--><rect fill=\"#FFFFFF\" height=\"58.7422\" id=\"E4\" rx=\"10\" ry=\"10\" style=\"stroke: #383838; stroke-width: 1.5;\" width=\"92\" x=\"639\" y=\"211\"/><text fill=\"#000000\" font-family=\"sans-serif\" font-size=\"12\" font-style=\"italic\" lengthAdjust=\"spacingAndGlyphs\" textLength=\"40\" x=\"665\" y=\"227.1387\">«part»</text><text fill=\"#000000\" font-family=\"sans-serif\" font-size=\"12\" lengthAdjust=\"spacingAndGlyphs\" textLength=\"67\" x=\"651.5\" y=\"241.1074\">trans: Part</text><line style=\"stroke: #383838; stroke-width: 1.5;\" x1=\"640\" x2=\"730\" y1=\"248.9375\" y2=\"248.9375\"/><text fill=\"#000000\" font-family=\"sans-serif\" font-size=\"11\" lengthAdjust=\"spacingAndGlyphs\" textLength=\"80\" x=\"645\" y=\"263.1479\">m: MassValue</text><!--MD5=[96f4274e9e20536e775497830990834d]\n",
       "class E10--><rect fill=\"#FFFFFF\" height=\"45.9375\" id=\"E10\" rx=\"10\" ry=\"10\" style=\"stroke: #383838; stroke-width: 1.5;\" width=\"91\" x=\"516.5\" y=\"73\"/><text fill=\"#000000\" font-family=\"sans-serif\" font-size=\"12\" font-style=\"italic\" lengthAdjust=\"spacingAndGlyphs\" textLength=\"82\" x=\"521\" y=\"89.1387\">«calculation»</text><text fill=\"#000000\" font-family=\"sans-serif\" font-size=\"12\" lengthAdjust=\"spacingAndGlyphs\" textLength=\"85\" x=\"519.5\" y=\"103.1074\">ms: MassSum</text><line style=\"stroke: #383838; stroke-width: 1.5;\" x1=\"517.5\" x2=\"606.5\" y1=\"110.9375\" y2=\"110.9375\"/><!--MD5=[bee11217b2f71d958a27249dc326068c]\n",
       "class E14--><rect fill=\"#FFFFFF\" height=\"109.9609\" id=\"E14\" rx=\"10\" ry=\"10\" style=\"stroke: #383838; stroke-width: 1.5;\" width=\"310\" x=\"32\" y=\"41\"/><text fill=\"#000000\" font-family=\"sans-serif\" font-size=\"12\" font-style=\"italic\" lengthAdjust=\"spacingAndGlyphs\" textLength=\"82\" x=\"146\" y=\"57.1387\">«calculation»</text><text fill=\"#000000\" font-family=\"sans-serif\" font-size=\"12\" lengthAdjust=\"spacingAndGlyphs\" textLength=\"93\" x=\"140.5\" y=\"71.1074\">ms1: MassSum</text><line style=\"stroke: #383838; stroke-width: 1.5;\" x1=\"33\" x2=\"341\" y1=\"78.9375\" y2=\"78.9375\"/><text fill=\"#000000\" font-family=\"sans-serif\" font-size=\"11\" lengthAdjust=\"spacingAndGlyphs\" textLength=\"298\" x=\"38\" y=\"93.1479\">partMasses: MassValue= {vehicle::eng::m, vehicle::</text><text fill=\"#000000\" font-family=\"sans-serif\" font-size=\"11\" lengthAdjust=\"spacingAndGlyphs\" textLength=\"60\" x=\"38\" y=\"105.9526\">trans::m};</text><text fill=\"#000000\" font-family=\"sans-serif\" font-size=\"11\" font-style=\"italic\" lengthAdjust=\"spacingAndGlyphs\" textLength=\"153\" x=\"38\" y=\"118.7573\">:&gt;&gt;MassSum::partMasses</text><text fill=\"#000000\" font-family=\"sans-serif\" font-size=\"11\" lengthAdjust=\"spacingAndGlyphs\" textLength=\"199\" x=\"38\" y=\"131.562\">totalMass: MassValue= vehicle::m;</text><text fill=\"#000000\" font-family=\"sans-serif\" font-size=\"11\" font-style=\"italic\" lengthAdjust=\"spacingAndGlyphs\" textLength=\"141\" x=\"38\" y=\"144.3667\">:&gt;&gt;MassSum::totalMass</text><text fill=\"#000000\" font-family=\"sans-serif\" font-size=\"14\" lengthAdjust=\"spacingAndGlyphs\" textLength=\"80\" x=\"343\" y=\"74.6982\">partMasses</text><rect fill=\"#383838\" height=\"12\" style=\"stroke: #F8F8F8; stroke-width: 1.5;\" width=\"12\" x=\"377\" y=\"90\"/><text fill=\"#000000\" font-family=\"sans-serif\" font-size=\"14\" lengthAdjust=\"spacingAndGlyphs\" textLength=\"66\" x=\"365\" y=\"415.7151\">totalMass</text><rect fill=\"#383838\" height=\"12\" style=\"stroke: #F8F8F8; stroke-width: 1.5;\" width=\"12\" x=\"392\" y=\"390.72\"/><text fill=\"#000000\" font-family=\"sans-serif\" font-size=\"14\" lengthAdjust=\"spacingAndGlyphs\" textLength=\"75\" x=\"437.5\" y=\"74.6982\">$collection</text><rect fill=\"#383838\" height=\"12\" style=\"stroke: #F8F8F8; stroke-width: 1.5;\" width=\"12\" x=\"469\" y=\"90\"/><text fill=\"#000000\" font-family=\"sans-serif\" font-size=\"14\" lengthAdjust=\"spacingAndGlyphs\" textLength=\"48\" x=\"421\" y=\"415.7151\">$result</text><rect fill=\"#383838\" height=\"12\" style=\"stroke: #F8F8F8; stroke-width: 1.5;\" width=\"12\" x=\"439\" y=\"390.72\"/><text fill=\"#000000\" font-family=\"sans-serif\" font-size=\"14\" lengthAdjust=\"spacingAndGlyphs\" textLength=\"80\" x=\"776\" y=\"74.6982\">partMasses</text><rect fill=\"#383838\" height=\"12\" style=\"stroke: #F8F8F8; stroke-width: 1.5;\" width=\"12\" x=\"810\" y=\"90\"/><text fill=\"#000000\" font-family=\"sans-serif\" font-size=\"14\" lengthAdjust=\"spacingAndGlyphs\" textLength=\"66\" x=\"783\" y=\"415.7151\">totalMass</text><rect fill=\"#383838\" height=\"12\" style=\"stroke: #F8F8F8; stroke-width: 1.5;\" width=\"12\" x=\"810\" y=\"390.72\"/><!--MD5=[209b3feb70ccb6233bfe1053d122c12c]\n",
       "reverse link E2 to E3--><path d=\"M629.98,96.72 C629.98,96.72 623.25,96.72 623.25,96.72 C623.25,96.72 623.25,240.72 623.25,240.72 C623.25,240.72 614.82,240.72 604.03,240.72 \" fill=\"none\" id=\"E2&lt;-E3\" style=\"stroke: #383838; stroke-width: 1.0;\"/><polygon fill=\"#383838\" points=\"642.98,96.72,636.98,92.72,630.98,96.72,636.98,100.72,642.98,96.72\" style=\"stroke: #383838; stroke-width: 1.0;\"/><!--MD5=[9618e71518536f8baf3342ff6fdab317]\n",
       "reverse link E2 to E4--><path d=\"M687,138.59 C687,138.59 687,210.95 687,210.95 \" fill=\"none\" id=\"E2&lt;-E4\" style=\"stroke: #383838; stroke-width: 1.0;\"/><polygon fill=\"#383838\" points=\"687,125.59,683,131.59,687,137.59,691,131.59,687,125.59\" style=\"stroke: #383838; stroke-width: 1.0;\"/><!--MD5=[1c0b9414cc86e0744215edee6abd8926]\n",
       "link E7 to E9--><path d=\"M404.14,398.72 C413.1,398.72 429.66,398.72 438.7,398.72 \" fill=\"none\" id=\"E7-E9\" style=\"stroke: #383838; stroke-width: 5.0;\"/><!--MD5=[ec5e0a54482b142abcecfe541d624bff]\n",
       "link E10 to E5--><path d=\"M516.42,110.72 C508.81,110.72 500.9475,110.72 493.4344,110.72 C493.317,110.72 493.1997,110.72 493.0825,110.72 \" fill=\"none\" id=\"E10-&gt;E5\" style=\"stroke: #383838; stroke-width: 1.0;\"/><polygon fill=\"#FFFFFF\" points=\"493.0825,110.72,512.0825,103.72,512.0825,117.72,493.0825,110.72\" style=\"stroke: #383838; stroke-width: 1.0;\"/><ellipse cx=\"517.7825\" cy=\"105.72\" fill=\"#383838\" rx=\"2\" ry=\"2\" style=\"stroke: #383838; stroke-width: 1.0;\"/><ellipse cx=\"517.7825\" cy=\"115.72\" fill=\"#383838\" rx=\"2\" ry=\"2\" style=\"stroke: #383838; stroke-width: 1.0;\"/><!--MD5=[111e5536516ee1ad7d4266f589654f03]\n",
       "link E14 to E5--><path d=\"M342.43,138.72 C348.7075,138.72 354.5381,138.72 359.753,138.72 C361.0567,138.72 362.3219,138.72 363.546,138.72 C363.852,138.72 364.1555,138.72 364.4563,138.72 C364.6067,138.72 364.7565,138.72 364.9056,138.72 \" fill=\"none\" id=\"E14-&gt;E5\" style=\"stroke: #383838; stroke-width: 1.0;\"/><polygon fill=\"#FFFFFF\" points=\"364.9056,138.72,345.9056,145.72,345.9056,131.72,364.9056,138.72\" style=\"stroke: #383838; stroke-width: 1.0;\"/><ellipse cx=\"340.2056\" cy=\"143.72\" fill=\"#383838\" rx=\"2\" ry=\"2\" style=\"stroke: #383838; stroke-width: 1.0;\"/><ellipse cx=\"340.2056\" cy=\"133.72\" fill=\"#383838\" rx=\"2\" ry=\"2\" style=\"stroke: #383838; stroke-width: 1.0;\"/><!--MD5=[9918abbcf45c5935da695dc8c002a863]\n",
       "@startuml\r\n",
       "skinparam linetype ortho\r\n",
       "skinparam monochrome true\r\n",
       "skinparam classbackgroundcolor white\r\n",
       "skinparam shadowing false\r\n",
       "skinparam wrapWidth 300\r\n",
       "hide circle\r\n",
       "\r\n",
       "package \"CalculationExample\" as E1   {\r\n",
       "comp usage \"vehicle: Part\" as E2  <<(T,blue)part>> {\r\n",
       "m: MassValue\r\n",
       "}\r\n",
       "comp usage \"eng: Part\" as E3  <<(T,blue)part>> {\r\n",
       "m: MassValue\r\n",
       "}\r\n",
       "comp usage \"trans: Part\" as E4  <<(T,blue)part>> {\r\n",
       "m: MassValue\r\n",
       "}\r\n",
       "rec def \"MassSum\" as E5 {\r\n",
       "portin \"partMasses\" as E6  \r\n",
       "portout \"totalMass\" as E7  \r\n",
       "portin \"$collection\" as E8  \r\n",
       "portout \"$result\" as E9  \r\n",
       "}\r\n",
       "\r\n",
       "comp usage \"ms: MassSum\" as E10  <<(T,blue)calculation>> {\r\n",
       "}\r\n",
       "rec def \"MassSum1\" as E11 {\r\n",
       "portin \"partMasses\" as E12  \r\n",
       "portout \"totalMass\" as E13  \r\n",
       "}\r\n",
       "\r\n",
       "comp usage \"ms1: MassSum\" as E14  <<(T,blue)calculation>> {\r\n",
       "partMasses: MassValue= {vehicle::eng::m, vehicle::trans::m}; \\n//:>>MassSum::partMasses// \r\n",
       "totalMass: MassValue= vehicle::m; \\n//:>>MassSum::totalMass// \r\n",
       "}\r\n",
       "E2 *- - E3\r\n",
       "E2 *- - E4\r\n",
       "E7 -[thickness=5]- E9\r\n",
       "E10 - -:|> E5\r\n",
       "E14 - -:|> E5\r\n",
       "}\r\n",
       "@enduml\r\n",
       "\n",
       "PlantUML version 1.2020.13(Sat Jun 13 12:26:38 UTC 2020)\n",
       "(EPL source distribution)\n",
       "Java Runtime: OpenJDK Runtime Environment\n",
       "JVM: OpenJDK 64-Bit Server VM\n",
       "Default Encoding: UTF-8\n",
       "Language: en\n",
       "Country: null\n",
       "--></g></svg>"
      ]
     },
     "execution_count": 51,
     "metadata": {},
     "output_type": "execute_result"
    }
   ],
   "source": [
    "%viz --style=\"ORTHOLINE\" --view=\"Default\" \"CalculationExample\""
   ]
  },
  {
   "cell_type": "code",
   "execution_count": 52,
   "id": "statistical-offer",
   "metadata": {
    "execution": {
     "iopub.execute_input": "2021-03-26T09:44:30.895352Z",
     "iopub.status.busy": "2021-03-26T09:44:30.894345Z",
     "iopub.status.idle": "2021-03-26T09:44:30.968464Z",
     "shell.execute_reply": "2021-03-26T09:44:30.967033Z"
    }
   },
   "outputs": [
    {
     "data": {
      "image/svg+xml": [
       "<?xml version=\"1.0\" encoding=\"UTF-8\" standalone=\"no\"?><svg xmlns=\"http://www.w3.org/2000/svg\" xmlns:xlink=\"http://www.w3.org/1999/xlink\" contentScriptType=\"application/ecmascript\" contentStyleType=\"text/css\" height=\"298px\" preserveAspectRatio=\"none\" style=\"width:922px;height:298px;\" version=\"1.1\" viewBox=\"0 0 922 298\" width=\"922px\" zoomAndPan=\"magnify\"><defs/><g><!--MD5=[fbc87193dbaf4d95561dea2c320d4a47]\n",
       "cluster E1--><polygon fill=\"#FFFFFF\" points=\"16,6,173,6,180,28.2969,900,28.2969,900,286,16,286,16,6\" style=\"stroke: #000000; stroke-width: 1.5;\"/><line style=\"stroke: #000000; stroke-width: 1.5;\" x1=\"16\" x2=\"180\" y1=\"28.2969\" y2=\"28.2969\"/><text fill=\"#000000\" font-family=\"sans-serif\" font-size=\"14\" font-weight=\"bold\" lengthAdjust=\"spacingAndGlyphs\" textLength=\"151\" x=\"20\" y=\"20.9951\">CalculationExample</text><!--MD5=[b4997ac47864f28c2f74865a473b2911]\n",
       "class E2--><rect fill=\"#FFFFFF\" height=\"58.7422\" id=\"E2\" rx=\"10\" ry=\"10\" style=\"stroke: #383838; stroke-width: 1.5;\" width=\"92\" x=\"792\" y=\"66.5\"/><text fill=\"#000000\" font-family=\"sans-serif\" font-size=\"12\" font-style=\"italic\" lengthAdjust=\"spacingAndGlyphs\" textLength=\"40\" x=\"818\" y=\"82.6387\">«part»</text><text fill=\"#000000\" font-family=\"sans-serif\" font-size=\"12\" lengthAdjust=\"spacingAndGlyphs\" textLength=\"77\" x=\"799.5\" y=\"96.6074\">vehicle: Part</text><line style=\"stroke: #383838; stroke-width: 1.5;\" x1=\"793\" x2=\"883\" y1=\"104.4375\" y2=\"104.4375\"/><text fill=\"#000000\" font-family=\"sans-serif\" font-size=\"11\" lengthAdjust=\"spacingAndGlyphs\" textLength=\"80\" x=\"798\" y=\"118.6479\">m: MassValue</text><!--MD5=[09b614a08d8cba4a07c9adeb5e0fee81]\n",
       "class E3--><rect fill=\"#FFFFFF\" height=\"58.7422\" id=\"E3\" rx=\"10\" ry=\"10\" style=\"stroke: #383838; stroke-width: 1.5;\" width=\"92\" x=\"665\" y=\"211\"/><text fill=\"#000000\" font-family=\"sans-serif\" font-size=\"12\" font-style=\"italic\" lengthAdjust=\"spacingAndGlyphs\" textLength=\"40\" x=\"691\" y=\"227.1387\">«part»</text><text fill=\"#000000\" font-family=\"sans-serif\" font-size=\"12\" lengthAdjust=\"spacingAndGlyphs\" textLength=\"58\" x=\"682\" y=\"241.1074\">eng: Part</text><line style=\"stroke: #383838; stroke-width: 1.5;\" x1=\"666\" x2=\"756\" y1=\"248.9375\" y2=\"248.9375\"/><text fill=\"#000000\" font-family=\"sans-serif\" font-size=\"11\" lengthAdjust=\"spacingAndGlyphs\" textLength=\"80\" x=\"671\" y=\"263.1479\">m: MassValue</text><!--MD5=[ebbe1d658d1005bcc118a6aa81145e00]\n",
       "class E4--><rect fill=\"#FFFFFF\" height=\"58.7422\" id=\"E4\" rx=\"10\" ry=\"10\" style=\"stroke: #383838; stroke-width: 1.5;\" width=\"92\" x=\"792\" y=\"211\"/><text fill=\"#000000\" font-family=\"sans-serif\" font-size=\"12\" font-style=\"italic\" lengthAdjust=\"spacingAndGlyphs\" textLength=\"40\" x=\"818\" y=\"227.1387\">«part»</text><text fill=\"#000000\" font-family=\"sans-serif\" font-size=\"12\" lengthAdjust=\"spacingAndGlyphs\" textLength=\"67\" x=\"804.5\" y=\"241.1074\">trans: Part</text><line style=\"stroke: #383838; stroke-width: 1.5;\" x1=\"793\" x2=\"883\" y1=\"248.9375\" y2=\"248.9375\"/><text fill=\"#000000\" font-family=\"sans-serif\" font-size=\"11\" lengthAdjust=\"spacingAndGlyphs\" textLength=\"80\" x=\"798\" y=\"263.1479\">m: MassValue</text><!--MD5=[270fce915f116d4de14055a7c1d9a0f3]\n",
       "class E5--><rect fill=\"#FFFFFF\" height=\"45.9375\" id=\"E5\" style=\"stroke: #383838; stroke-width: 1.5;\" width=\"108\" x=\"327\" y=\"217.5\"/><text fill=\"#000000\" font-family=\"sans-serif\" font-size=\"12\" font-style=\"italic\" lengthAdjust=\"spacingAndGlyphs\" textLength=\"106\" x=\"328\" y=\"233.6387\">«calculation def»</text><text fill=\"#000000\" font-family=\"sans-serif\" font-size=\"12\" lengthAdjust=\"spacingAndGlyphs\" textLength=\"59\" x=\"351.5\" y=\"247.6074\">MassSum</text><line style=\"stroke: #383838; stroke-width: 1.5;\" x1=\"328\" x2=\"434\" y1=\"255.4375\" y2=\"255.4375\"/><!--MD5=[60a26617385b1d2d0262a64233df1f8d]\n",
       "class E6--><rect fill=\"#FFFFFF\" height=\"45.9375\" id=\"E6\" rx=\"10\" ry=\"10\" style=\"stroke: #383838; stroke-width: 1.5;\" width=\"91\" x=\"665.5\" y=\"73\"/><text fill=\"#000000\" font-family=\"sans-serif\" font-size=\"12\" font-style=\"italic\" lengthAdjust=\"spacingAndGlyphs\" textLength=\"82\" x=\"670\" y=\"89.1387\">«calculation»</text><text fill=\"#000000\" font-family=\"sans-serif\" font-size=\"12\" lengthAdjust=\"spacingAndGlyphs\" textLength=\"85\" x=\"668.5\" y=\"103.1074\">ms: MassSum</text><line style=\"stroke: #383838; stroke-width: 1.5;\" x1=\"666.5\" x2=\"755.5\" y1=\"110.9375\" y2=\"110.9375\"/><!--MD5=[2156ba9850f5573cc1fc38a6a4b2f02b]\n",
       "class E7--><rect fill=\"#FFFFFF\" height=\"71.5469\" id=\"E7\" style=\"stroke: #383838; stroke-width: 1.5;\" width=\"253\" x=\"377.5\" y=\"60\"/><text fill=\"#000000\" font-family=\"sans-serif\" font-size=\"12\" font-style=\"italic\" lengthAdjust=\"spacingAndGlyphs\" textLength=\"106\" x=\"451\" y=\"76.1387\">«calculation def»</text><text fill=\"#000000\" font-family=\"sans-serif\" font-size=\"12\" lengthAdjust=\"spacingAndGlyphs\" textLength=\"67\" x=\"470.5\" y=\"90.1074\">MassSum1</text><line style=\"stroke: #383838; stroke-width: 1.5;\" x1=\"378.5\" x2=\"629.5\" y1=\"97.9375\" y2=\"97.9375\"/><text fill=\"#000000\" font-family=\"sans-serif\" font-size=\"11\" lengthAdjust=\"spacingAndGlyphs\" textLength=\"136\" x=\"383.5\" y=\"112.1479\">partMasses: MassValue</text><text fill=\"#000000\" font-family=\"sans-serif\" font-size=\"11\" lengthAdjust=\"spacingAndGlyphs\" textLength=\"241\" x=\"383.5\" y=\"124.9526\">totalMass: MassValue= sum(partMasses);</text><!--MD5=[b9389687b975829384b498ac4b7476b2]\n",
       "class E8--><rect fill=\"#FFFFFF\" height=\"109.9609\" id=\"E8\" rx=\"10\" ry=\"10\" style=\"stroke: #383838; stroke-width: 1.5;\" width=\"310\" x=\"32\" y=\"41\"/><text fill=\"#000000\" font-family=\"sans-serif\" font-size=\"12\" font-style=\"italic\" lengthAdjust=\"spacingAndGlyphs\" textLength=\"82\" x=\"146\" y=\"57.1387\">«calculation»</text><text fill=\"#000000\" font-family=\"sans-serif\" font-size=\"12\" lengthAdjust=\"spacingAndGlyphs\" textLength=\"93\" x=\"140.5\" y=\"71.1074\">ms1: MassSum</text><line style=\"stroke: #383838; stroke-width: 1.5;\" x1=\"33\" x2=\"341\" y1=\"78.9375\" y2=\"78.9375\"/><text fill=\"#000000\" font-family=\"sans-serif\" font-size=\"11\" lengthAdjust=\"spacingAndGlyphs\" textLength=\"298\" x=\"38\" y=\"93.1479\">partMasses: MassValue= {vehicle::eng::m, vehicle::</text><text fill=\"#000000\" font-family=\"sans-serif\" font-size=\"11\" lengthAdjust=\"spacingAndGlyphs\" textLength=\"60\" x=\"38\" y=\"105.9526\">trans::m};</text><text fill=\"#000000\" font-family=\"sans-serif\" font-size=\"11\" font-style=\"italic\" lengthAdjust=\"spacingAndGlyphs\" textLength=\"153\" x=\"38\" y=\"118.7573\">:&gt;&gt;MassSum::partMasses</text><text fill=\"#000000\" font-family=\"sans-serif\" font-size=\"11\" lengthAdjust=\"spacingAndGlyphs\" textLength=\"199\" x=\"38\" y=\"131.562\">totalMass: MassValue= vehicle::m;</text><text fill=\"#000000\" font-family=\"sans-serif\" font-size=\"11\" font-style=\"italic\" lengthAdjust=\"spacingAndGlyphs\" textLength=\"141\" x=\"38\" y=\"144.3667\">:&gt;&gt;MassSum::totalMass</text><!--MD5=[209b3feb70ccb6233bfe1053d122c12c]\n",
       "reverse link E2 to E3--><path d=\"M778.85,96 C778.85,96 774.5,96 774.5,96 C774.5,96 774.5,241 774.5,241 C774.5,241 767,241 757.15,241 \" fill=\"none\" id=\"E2&lt;-E3\" style=\"stroke: #383838; stroke-width: 1.0;\"/><polygon fill=\"#383838\" points=\"791.85,96,785.85,92,779.85,96,785.85,100,791.85,96\" style=\"stroke: #383838; stroke-width: 1.0;\"/><!--MD5=[9618e71518536f8baf3342ff6fdab317]\n",
       "reverse link E2 to E4--><path d=\"M838,138.59 C838,138.59 838,210.95 838,210.95 \" fill=\"none\" id=\"E2&lt;-E4\" style=\"stroke: #383838; stroke-width: 1.0;\"/><polygon fill=\"#383838\" points=\"838,125.59,834,131.59,838,137.59,842,131.59,838,125.59\" style=\"stroke: #383838; stroke-width: 1.0;\"/><!--MD5=[25b190c987b1e74e5126d372c5a73af1]\n",
       "link E6 to E5--><path d=\"M665.37,96 C655.39,96 647.75,96 647.75,96 C647.75,96 647.75,241 647.75,241 C647.75,241 455.3,241 455.3,241 \" fill=\"none\" id=\"E6-&gt;E5\" style=\"stroke: #383838; stroke-width: 1.0;\"/><polygon fill=\"#FFFFFF\" points=\"435.3,241,454.3,234,454.3,248,435.3,241\" style=\"stroke: #383838; stroke-width: 1.0;\"/><ellipse cx=\"460\" cy=\"236\" fill=\"#383838\" rx=\"2\" ry=\"2\" style=\"stroke: #383838; stroke-width: 1.0;\"/><ellipse cx=\"460\" cy=\"246\" fill=\"#383838\" rx=\"2\" ry=\"2\" style=\"stroke: #383838; stroke-width: 1.0;\"/><!--MD5=[1ccb2481ffa92f8d51a74ee30c51832a]\n",
       "link E8 to E5--><path d=\"M334.5,151.04 C334.5,151.04 334.5,197.3 334.5,197.3 \" fill=\"none\" id=\"E8-&gt;E5\" style=\"stroke: #383838; stroke-width: 1.0;\"/><polygon fill=\"#FFFFFF\" points=\"334.5,217.3,327.5,198.3,341.5,198.3,334.5,217.3\" style=\"stroke: #383838; stroke-width: 1.0;\"/><ellipse cx=\"329.5\" cy=\"192.6\" fill=\"#383838\" rx=\"2\" ry=\"2\" style=\"stroke: #383838; stroke-width: 1.0;\"/><ellipse cx=\"339.5\" cy=\"192.6\" fill=\"#383838\" rx=\"2\" ry=\"2\" style=\"stroke: #383838; stroke-width: 1.0;\"/><!--MD5=[699fd2da6aa4281a291bc60674130a77]\n",
       "@startuml\r\n",
       "skinparam linetype ortho\r\n",
       "skinparam monochrome true\r\n",
       "skinparam classbackgroundcolor white\r\n",
       "skinparam shadowing false\r\n",
       "skinparam wrapWidth 300\r\n",
       "hide circle\r\n",
       "\r\n",
       "package \"CalculationExample\" as E1   {\r\n",
       "comp usage \"vehicle: Part\" as E2  <<(T,blue)part>> {\r\n",
       "m: MassValue\r\n",
       "}\r\n",
       "comp usage \"eng: Part\" as E3  <<(T,blue)part>> {\r\n",
       "m: MassValue\r\n",
       "}\r\n",
       "comp usage \"trans: Part\" as E4  <<(T,blue)part>> {\r\n",
       "m: MassValue\r\n",
       "}\r\n",
       "comp def \"MassSum\" as E5  <<(T,blue)calculation def>> {\r\n",
       "}\r\n",
       "comp usage \"ms: MassSum\" as E6  <<(T,blue)calculation>> {\r\n",
       "}\r\n",
       "comp def \"MassSum1\" as E7  <<(T,blue)calculation def>> {\r\n",
       "partMasses: MassValue\r\n",
       "totalMass: MassValue= sum(partMasses); \r\n",
       "}\r\n",
       "comp usage \"ms1: MassSum\" as E8  <<(T,blue)calculation>> {\r\n",
       "partMasses: MassValue= {vehicle::eng::m, vehicle::trans::m}; \\n//:>>MassSum::partMasses// \r\n",
       "totalMass: MassValue= vehicle::m; \\n//:>>MassSum::totalMass// \r\n",
       "}\r\n",
       "E2 *- - E3\r\n",
       "E2 *- - E4\r\n",
       "E6 - -:|> E5\r\n",
       "E8 - -:|> E5\r\n",
       "}\r\n",
       "@enduml\r\n",
       "\n",
       "PlantUML version 1.2020.13(Sat Jun 13 12:26:38 UTC 2020)\n",
       "(EPL source distribution)\n",
       "Java Runtime: OpenJDK Runtime Environment\n",
       "JVM: OpenJDK 64-Bit Server VM\n",
       "Default Encoding: UTF-8\n",
       "Language: en\n",
       "Country: null\n",
       "--></g></svg>"
      ]
     },
     "execution_count": 52,
     "metadata": {},
     "output_type": "execute_result"
    }
   ],
   "source": [
    "%viz --style=\"ORTHOLINE\" --view=\"Tree\" \"CalculationExample\""
   ]
  },
  {
   "cell_type": "code",
   "execution_count": 53,
   "id": "dedicated-tomato",
   "metadata": {
    "execution": {
     "iopub.execute_input": "2021-03-26T09:44:31.020077Z",
     "iopub.status.busy": "2021-03-26T09:44:31.019222Z",
     "iopub.status.idle": "2021-03-26T09:44:31.023089Z",
     "shell.execute_reply": "2021-03-26T09:44:31.022696Z"
    }
   },
   "outputs": [
    {
     "data": {
      "text/plain": [
       "java.lang.IllegalArgumentException: Invalid View: State View candidates are: Default Tree StateMachine Interconnection Activity Sequence MIXED \n",
       "\tat org.omg.sysml.plantuml.SysML2PlantUMLSvc.setView(SysML2PlantUMLSvc.java:63)\n",
       "\tat org.omg.sysml.interactive.SysMLInteractive.viz(SysMLInteractive.java:286)\n",
       "\tat org.omg.sysml.jupyter.kernel.magic.Viz.viz(Viz.java:47)\n",
       "\tat jdk.internal.reflect.GeneratedMethodAccessor14.invoke(Unknown Source)\n",
       "\tat java.base/jdk.internal.reflect.DelegatingMethodAccessorImpl.invoke(DelegatingMethodAccessorImpl.java:43)\n",
       "\tat java.base/java.lang.reflect.Method.invoke(Method.java:568)\n",
       "\tat io.github.spencerpark.jupyter.kernel.magic.registry.Magics.invoke(Magics.java:89)\n",
       "\tat io.github.spencerpark.jupyter.kernel.magic.registry.Magics.access$000(Magics.java:8)\n",
       "\tat io.github.spencerpark.jupyter.kernel.magic.registry.Magics$LineReflectionMagicFunction.execute(Magics.java:149)\n",
       "\tat io.github.spencerpark.jupyter.kernel.magic.registry.Magics.applyLineMagic(Magics.java:26)\n",
       "\tat org.omg.sysml.jupyter.kernel.SysMLKernel.eval(SysMLKernel.java:76)\n",
       "\tat io.github.spencerpark.jupyter.kernel.BaseKernel.handleExecuteRequest(BaseKernel.java:334)\n",
       "\tat io.github.spencerpark.jupyter.channels.ShellChannel.lambda$bind$0(ShellChannel.java:64)\n",
       "\tat io.github.spencerpark.jupyter.channels.Loop.lambda$new$0(Loop.java:21)\n",
       "\tat io.github.spencerpark.jupyter.channels.Loop.run(Loop.java:78)\n"
      ]
     },
     "execution_count": 53,
     "metadata": {},
     "output_type": "execute_result"
    }
   ],
   "source": [
    "%viz --style=\"ORTHOLINE\" --view=\"State\" \"CalculationExample\""
   ]
  },
  {
   "cell_type": "code",
   "execution_count": 54,
   "id": "perfect-creation",
   "metadata": {
    "execution": {
     "iopub.execute_input": "2021-03-26T09:44:31.075491Z",
     "iopub.status.busy": "2021-03-26T09:44:31.074780Z",
     "iopub.status.idle": "2021-03-26T09:44:31.104865Z",
     "shell.execute_reply": "2021-03-26T09:44:31.103619Z"
    }
   },
   "outputs": [
    {
     "data": {
      "image/svg+xml": [
       "<?xml version=\"1.0\" encoding=\"UTF-8\" standalone=\"no\"?><svg xmlns=\"http://www.w3.org/2000/svg\" xmlns:xlink=\"http://www.w3.org/1999/xlink\" contentScriptType=\"application/ecmascript\" contentStyleType=\"text/css\" height=\"253px\" preserveAspectRatio=\"none\" style=\"width:843px;height:253px;\" version=\"1.1\" viewBox=\"0 0 843 253\" width=\"843px\" zoomAndPan=\"magnify\"><defs/><g><!--MD5=[fbc87193dbaf4d95561dea2c320d4a47]\n",
       "cluster E1--><polygon fill=\"#FFFFFF\" points=\"16,6,173,6,180,28.2969,821,28.2969,821,241,16,241,16,6\" style=\"stroke: #000000; stroke-width: 1.5;\"/><line style=\"stroke: #000000; stroke-width: 1.5;\" x1=\"16\" x2=\"180\" y1=\"28.2969\" y2=\"28.2969\"/><text fill=\"#000000\" font-family=\"sans-serif\" font-size=\"14\" font-weight=\"bold\" lengthAdjust=\"spacingAndGlyphs\" textLength=\"151\" x=\"20\" y=\"20.9951\">CalculationExample</text><!--MD5=[e4f7fae6ed58524ba242bb0b0d3be6b7]\n",
       "cluster E2--><rect fill=\"#F8F8F8\" height=\"168\" rx=\"12.5\" ry=\"12.5\" style=\"stroke: #000000; stroke-width: 1.5;\" width=\"495\" x=\"302\" y=\"49\"/><rect fill=\"#FFFFFF\" height=\"135.7031\" rx=\"12.5\" ry=\"12.5\" style=\"stroke: #FFFFFF; stroke-width: 1.0;\" width=\"489\" x=\"305\" y=\"78.2969\"/><line style=\"stroke: #000000; stroke-width: 1.5;\" x1=\"302\" x2=\"797\" y1=\"75.2969\" y2=\"75.2969\"/><text fill=\"#000000\" font-family=\"sans-serif\" font-size=\"14\" lengthAdjust=\"spacingAndGlyphs\" textLength=\"84\" x=\"507.5\" y=\"65.9951\">vehicle: Part</text><!--MD5=[f6df4d0ebaf0b5dfb2ced0ae5af7c670]\n",
       "cluster E4--><rect fill=\"#F8F8F8\" height=\"101\" rx=\"12.5\" ry=\"12.5\" style=\"stroke: #000000; stroke-width: 1.5;\" width=\"148\" x=\"625\" y=\"92\"/><rect fill=\"#FFFFFF\" height=\"68.7031\" rx=\"12.5\" ry=\"12.5\" style=\"stroke: #FFFFFF; stroke-width: 1.0;\" width=\"142\" x=\"628\" y=\"121.2969\"/><line style=\"stroke: #000000; stroke-width: 1.5;\" x1=\"625\" x2=\"773\" y1=\"118.2969\" y2=\"118.2969\"/><text fill=\"#000000\" font-family=\"sans-serif\" font-size=\"14\" lengthAdjust=\"spacingAndGlyphs\" textLength=\"63\" x=\"667.5\" y=\"108.9951\">eng: Part</text><!--MD5=[14e3b0961a2654348d326746436168a1]\n",
       "cluster E6--><rect fill=\"#F8F8F8\" height=\"101\" rx=\"12.5\" ry=\"12.5\" style=\"stroke: #000000; stroke-width: 1.5;\" width=\"148\" x=\"453\" y=\"92\"/><rect fill=\"#FFFFFF\" height=\"68.7031\" rx=\"12.5\" ry=\"12.5\" style=\"stroke: #FFFFFF; stroke-width: 1.0;\" width=\"142\" x=\"456\" y=\"121.2969\"/><line style=\"stroke: #000000; stroke-width: 1.5;\" x1=\"453\" x2=\"601\" y1=\"118.2969\" y2=\"118.2969\"/><text fill=\"#000000\" font-family=\"sans-serif\" font-size=\"14\" lengthAdjust=\"spacingAndGlyphs\" textLength=\"71\" x=\"491.5\" y=\"108.9951\">trans: Part</text><!--MD5=[b9389687b975829384b498ac4b7476b2]\n",
       "class E8--><rect fill=\"#FFFFFF\" height=\"53.9375\" id=\"E8\" style=\"stroke: #383838; stroke-width: 1.5;\" width=\"108\" x=\"175\" y=\"125\"/><text fill=\"#000000\" font-family=\"sans-serif\" font-size=\"12\" font-style=\"italic\" lengthAdjust=\"spacingAndGlyphs\" textLength=\"106\" x=\"176\" y=\"141.1387\">«calculation def»</text><text fill=\"#000000\" font-family=\"sans-serif\" font-size=\"12\" lengthAdjust=\"spacingAndGlyphs\" textLength=\"59\" x=\"199.5\" y=\"155.1074\">MassSum</text><line style=\"stroke: #383838; stroke-width: 1.5;\" x1=\"176\" x2=\"282\" y1=\"162.9375\" y2=\"162.9375\"/><line style=\"stroke: #383838; stroke-width: 1.5;\" x1=\"176\" x2=\"282\" y1=\"170.9375\" y2=\"170.9375\"/><!--MD5=[fd4143e9d270a159db93a4ea2a975926]\n",
       "class E9--><rect fill=\"#FFFFFF\" height=\"53.9375\" id=\"E9\" style=\"stroke: #383838; stroke-width: 1.5;\" width=\"108\" x=\"32\" y=\"125\"/><text fill=\"#000000\" font-family=\"sans-serif\" font-size=\"12\" font-style=\"italic\" lengthAdjust=\"spacingAndGlyphs\" textLength=\"106\" x=\"33\" y=\"141.1387\">«calculation def»</text><text fill=\"#000000\" font-family=\"sans-serif\" font-size=\"12\" lengthAdjust=\"spacingAndGlyphs\" textLength=\"67\" x=\"52.5\" y=\"155.1074\">MassSum1</text><line style=\"stroke: #383838; stroke-width: 1.5;\" x1=\"33\" x2=\"139\" y1=\"162.9375\" y2=\"162.9375\"/><line style=\"stroke: #383838; stroke-width: 1.5;\" x1=\"33\" x2=\"139\" y1=\"170.9375\" y2=\"170.9375\"/><g id=\"E1.E2.E3\"><rect fill=\"#FFFFFF\" height=\"50\" rx=\"12.5\" ry=\"12.5\" style=\"stroke: #383838; stroke-width: 1.5;\" width=\"116\" x=\"318\" y=\"127\"/><line style=\"stroke: #383838; stroke-width: 1.5;\" x1=\"318\" x2=\"434\" y1=\"153.2969\" y2=\"153.2969\"/><text fill=\"#000000\" font-family=\"sans-serif\" font-size=\"14\" lengthAdjust=\"spacingAndGlyphs\" textLength=\"96\" x=\"328\" y=\"144.9951\">m: MassValue</text></g><g id=\"E1.E2.E4.E5\"><rect fill=\"#FFFFFF\" height=\"50\" rx=\"12.5\" ry=\"12.5\" style=\"stroke: #383838; stroke-width: 1.5;\" width=\"116\" x=\"641\" y=\"127\"/><line style=\"stroke: #383838; stroke-width: 1.5;\" x1=\"641\" x2=\"757\" y1=\"153.2969\" y2=\"153.2969\"/><text fill=\"#000000\" font-family=\"sans-serif\" font-size=\"14\" lengthAdjust=\"spacingAndGlyphs\" textLength=\"96\" x=\"651\" y=\"144.9951\">m: MassValue</text></g><g id=\"E1.E2.E6.E7\"><rect fill=\"#FFFFFF\" height=\"50\" rx=\"12.5\" ry=\"12.5\" style=\"stroke: #383838; stroke-width: 1.5;\" width=\"116\" x=\"469\" y=\"127\"/><line style=\"stroke: #383838; stroke-width: 1.5;\" x1=\"469\" x2=\"585\" y1=\"153.2969\" y2=\"153.2969\"/><text fill=\"#000000\" font-family=\"sans-serif\" font-size=\"14\" lengthAdjust=\"spacingAndGlyphs\" textLength=\"96\" x=\"479\" y=\"144.9951\">m: MassValue</text></g><!--MD5=[64e7431c0191db4a8f79e88c9ac4fd6c]\n",
       "@startuml\r\n",
       "skinparam ranksep 8\r\n",
       "skinparam rectangle {\r\n",
       " backgroundColor<<block>> LightGreen\r\n",
       "}\r\n",
       "skinparam linetype ortho\r\n",
       "skinparam monochrome true\r\n",
       "skinparam classbackgroundcolor white\r\n",
       "skinparam shadowing false\r\n",
       "skinparam wrapWidth 300\r\n",
       "hide circle\r\n",
       "\r\n",
       "package \"CalculationExample\" as E1   {\r\n",
       "rec usage \"vehicle: Part\" as E2  {\r\n",
       "rec usage \"m: MassValue\" as E3  <<attribute>> {\r\n",
       "}\r\n",
       "rec usage \"eng: Part\" as E4  {\r\n",
       "rec usage \"m: MassValue\" as E5  <<attribute>> {\r\n",
       "}\r\n",
       "}\r\n",
       "rec usage \"trans: Part\" as E6  {\r\n",
       "rec usage \"m: MassValue\" as E7  <<attribute>> {\r\n",
       "}\r\n",
       "}\r\n",
       "}\r\n",
       "def \"MassSum\" as E8  <<calculation def>> \r\n",
       "def \"MassSum1\" as E9  <<calculation def>> \r\n",
       "}\r\n",
       "@enduml\r\n",
       "\n",
       "PlantUML version 1.2020.13(Sat Jun 13 12:26:38 UTC 2020)\n",
       "(EPL source distribution)\n",
       "Java Runtime: OpenJDK Runtime Environment\n",
       "JVM: OpenJDK 64-Bit Server VM\n",
       "Default Encoding: UTF-8\n",
       "Language: en\n",
       "Country: null\n",
       "--></g></svg>"
      ]
     },
     "execution_count": 54,
     "metadata": {},
     "output_type": "execute_result"
    }
   ],
   "source": [
    "%viz --style=\"ORTHOLINE\" --view=\"Interconnection\" \"CalculationExample\""
   ]
  },
  {
   "cell_type": "code",
   "execution_count": 55,
   "id": "nervous-facing",
   "metadata": {
    "execution": {
     "iopub.execute_input": "2021-03-26T09:44:31.156495Z",
     "iopub.status.busy": "2021-03-26T09:44:31.155882Z",
     "iopub.status.idle": "2021-03-26T09:44:31.159198Z",
     "shell.execute_reply": "2021-03-26T09:44:31.158809Z"
    }
   },
   "outputs": [
    {
     "data": {
      "text/plain": [
       "java.lang.IllegalArgumentException: Invalid View: Action View candidates are: Default Tree StateMachine Interconnection Activity Sequence MIXED \n",
       "\tat org.omg.sysml.plantuml.SysML2PlantUMLSvc.setView(SysML2PlantUMLSvc.java:63)\n",
       "\tat org.omg.sysml.interactive.SysMLInteractive.viz(SysMLInteractive.java:286)\n",
       "\tat org.omg.sysml.jupyter.kernel.magic.Viz.viz(Viz.java:47)\n",
       "\tat jdk.internal.reflect.GeneratedMethodAccessor14.invoke(Unknown Source)\n",
       "\tat java.base/jdk.internal.reflect.DelegatingMethodAccessorImpl.invoke(DelegatingMethodAccessorImpl.java:43)\n",
       "\tat java.base/java.lang.reflect.Method.invoke(Method.java:568)\n",
       "\tat io.github.spencerpark.jupyter.kernel.magic.registry.Magics.invoke(Magics.java:89)\n",
       "\tat io.github.spencerpark.jupyter.kernel.magic.registry.Magics.access$000(Magics.java:8)\n",
       "\tat io.github.spencerpark.jupyter.kernel.magic.registry.Magics$LineReflectionMagicFunction.execute(Magics.java:149)\n",
       "\tat io.github.spencerpark.jupyter.kernel.magic.registry.Magics.applyLineMagic(Magics.java:26)\n",
       "\tat org.omg.sysml.jupyter.kernel.SysMLKernel.eval(SysMLKernel.java:76)\n",
       "\tat io.github.spencerpark.jupyter.kernel.BaseKernel.handleExecuteRequest(BaseKernel.java:334)\n",
       "\tat io.github.spencerpark.jupyter.channels.ShellChannel.lambda$bind$0(ShellChannel.java:64)\n",
       "\tat io.github.spencerpark.jupyter.channels.Loop.lambda$new$0(Loop.java:21)\n",
       "\tat io.github.spencerpark.jupyter.channels.Loop.run(Loop.java:78)\n"
      ]
     },
     "execution_count": 55,
     "metadata": {},
     "output_type": "execute_result"
    }
   ],
   "source": [
    "%viz --style=\"ORTHOLINE\" --view=\"Action\" \"CalculationExample\""
   ]
  },
  {
   "cell_type": "code",
   "execution_count": 56,
   "id": "cleared-commercial",
   "metadata": {
    "execution": {
     "iopub.execute_input": "2021-03-26T09:44:31.212179Z",
     "iopub.status.busy": "2021-03-26T09:44:31.211377Z",
     "iopub.status.idle": "2021-03-26T09:44:31.281532Z",
     "shell.execute_reply": "2021-03-26T09:44:31.280284Z"
    }
   },
   "outputs": [
    {
     "data": {
      "image/svg+xml": [
       "<?xml version=\"1.0\" encoding=\"UTF-8\" standalone=\"no\"?><svg xmlns=\"http://www.w3.org/2000/svg\" xmlns:xlink=\"http://www.w3.org/1999/xlink\" contentScriptType=\"application/ecmascript\" contentStyleType=\"text/css\" height=\"298px\" preserveAspectRatio=\"none\" style=\"width:922px;height:298px;\" version=\"1.1\" viewBox=\"0 0 922 298\" width=\"922px\" zoomAndPan=\"magnify\"><defs/><g><!--MD5=[fbc87193dbaf4d95561dea2c320d4a47]\n",
       "cluster E1--><polygon fill=\"#FFFFFF\" points=\"16,6,173,6,180,28.2969,900,28.2969,900,286,16,286,16,6\" style=\"stroke: #000000; stroke-width: 1.5;\"/><line style=\"stroke: #000000; stroke-width: 1.5;\" x1=\"16\" x2=\"180\" y1=\"28.2969\" y2=\"28.2969\"/><text fill=\"#000000\" font-family=\"sans-serif\" font-size=\"14\" font-weight=\"bold\" lengthAdjust=\"spacingAndGlyphs\" textLength=\"151\" x=\"20\" y=\"20.9951\">CalculationExample</text><!--MD5=[b4997ac47864f28c2f74865a473b2911]\n",
       "class E2--><rect fill=\"#FFFFFF\" height=\"58.7422\" id=\"E2\" rx=\"10\" ry=\"10\" style=\"stroke: #383838; stroke-width: 1.5;\" width=\"92\" x=\"792\" y=\"66.5\"/><text fill=\"#000000\" font-family=\"sans-serif\" font-size=\"12\" font-style=\"italic\" lengthAdjust=\"spacingAndGlyphs\" textLength=\"40\" x=\"818\" y=\"82.6387\">«part»</text><text fill=\"#000000\" font-family=\"sans-serif\" font-size=\"12\" lengthAdjust=\"spacingAndGlyphs\" textLength=\"77\" x=\"799.5\" y=\"96.6074\">vehicle: Part</text><line style=\"stroke: #383838; stroke-width: 1.5;\" x1=\"793\" x2=\"883\" y1=\"104.4375\" y2=\"104.4375\"/><text fill=\"#000000\" font-family=\"sans-serif\" font-size=\"11\" lengthAdjust=\"spacingAndGlyphs\" textLength=\"80\" x=\"798\" y=\"118.6479\">m: MassValue</text><!--MD5=[09b614a08d8cba4a07c9adeb5e0fee81]\n",
       "class E3--><rect fill=\"#FFFFFF\" height=\"58.7422\" id=\"E3\" rx=\"10\" ry=\"10\" style=\"stroke: #383838; stroke-width: 1.5;\" width=\"92\" x=\"665\" y=\"211\"/><text fill=\"#000000\" font-family=\"sans-serif\" font-size=\"12\" font-style=\"italic\" lengthAdjust=\"spacingAndGlyphs\" textLength=\"40\" x=\"691\" y=\"227.1387\">«part»</text><text fill=\"#000000\" font-family=\"sans-serif\" font-size=\"12\" lengthAdjust=\"spacingAndGlyphs\" textLength=\"58\" x=\"682\" y=\"241.1074\">eng: Part</text><line style=\"stroke: #383838; stroke-width: 1.5;\" x1=\"666\" x2=\"756\" y1=\"248.9375\" y2=\"248.9375\"/><text fill=\"#000000\" font-family=\"sans-serif\" font-size=\"11\" lengthAdjust=\"spacingAndGlyphs\" textLength=\"80\" x=\"671\" y=\"263.1479\">m: MassValue</text><!--MD5=[ebbe1d658d1005bcc118a6aa81145e00]\n",
       "class E4--><rect fill=\"#FFFFFF\" height=\"58.7422\" id=\"E4\" rx=\"10\" ry=\"10\" style=\"stroke: #383838; stroke-width: 1.5;\" width=\"92\" x=\"792\" y=\"211\"/><text fill=\"#000000\" font-family=\"sans-serif\" font-size=\"12\" font-style=\"italic\" lengthAdjust=\"spacingAndGlyphs\" textLength=\"40\" x=\"818\" y=\"227.1387\">«part»</text><text fill=\"#000000\" font-family=\"sans-serif\" font-size=\"12\" lengthAdjust=\"spacingAndGlyphs\" textLength=\"67\" x=\"804.5\" y=\"241.1074\">trans: Part</text><line style=\"stroke: #383838; stroke-width: 1.5;\" x1=\"793\" x2=\"883\" y1=\"248.9375\" y2=\"248.9375\"/><text fill=\"#000000\" font-family=\"sans-serif\" font-size=\"11\" lengthAdjust=\"spacingAndGlyphs\" textLength=\"80\" x=\"798\" y=\"263.1479\">m: MassValue</text><!--MD5=[270fce915f116d4de14055a7c1d9a0f3]\n",
       "class E5--><rect fill=\"#FFFFFF\" height=\"45.9375\" id=\"E5\" style=\"stroke: #383838; stroke-width: 1.5;\" width=\"108\" x=\"327\" y=\"217.5\"/><text fill=\"#000000\" font-family=\"sans-serif\" font-size=\"12\" font-style=\"italic\" lengthAdjust=\"spacingAndGlyphs\" textLength=\"106\" x=\"328\" y=\"233.6387\">«calculation def»</text><text fill=\"#000000\" font-family=\"sans-serif\" font-size=\"12\" lengthAdjust=\"spacingAndGlyphs\" textLength=\"59\" x=\"351.5\" y=\"247.6074\">MassSum</text><line style=\"stroke: #383838; stroke-width: 1.5;\" x1=\"328\" x2=\"434\" y1=\"255.4375\" y2=\"255.4375\"/><!--MD5=[60a26617385b1d2d0262a64233df1f8d]\n",
       "class E6--><rect fill=\"#FFFFFF\" height=\"45.9375\" id=\"E6\" rx=\"10\" ry=\"10\" style=\"stroke: #383838; stroke-width: 1.5;\" width=\"91\" x=\"665.5\" y=\"73\"/><text fill=\"#000000\" font-family=\"sans-serif\" font-size=\"12\" font-style=\"italic\" lengthAdjust=\"spacingAndGlyphs\" textLength=\"82\" x=\"670\" y=\"89.1387\">«calculation»</text><text fill=\"#000000\" font-family=\"sans-serif\" font-size=\"12\" lengthAdjust=\"spacingAndGlyphs\" textLength=\"85\" x=\"668.5\" y=\"103.1074\">ms: MassSum</text><line style=\"stroke: #383838; stroke-width: 1.5;\" x1=\"666.5\" x2=\"755.5\" y1=\"110.9375\" y2=\"110.9375\"/><!--MD5=[2156ba9850f5573cc1fc38a6a4b2f02b]\n",
       "class E7--><rect fill=\"#FFFFFF\" height=\"71.5469\" id=\"E7\" style=\"stroke: #383838; stroke-width: 1.5;\" width=\"253\" x=\"377.5\" y=\"60\"/><text fill=\"#000000\" font-family=\"sans-serif\" font-size=\"12\" font-style=\"italic\" lengthAdjust=\"spacingAndGlyphs\" textLength=\"106\" x=\"451\" y=\"76.1387\">«calculation def»</text><text fill=\"#000000\" font-family=\"sans-serif\" font-size=\"12\" lengthAdjust=\"spacingAndGlyphs\" textLength=\"67\" x=\"470.5\" y=\"90.1074\">MassSum1</text><line style=\"stroke: #383838; stroke-width: 1.5;\" x1=\"378.5\" x2=\"629.5\" y1=\"97.9375\" y2=\"97.9375\"/><text fill=\"#000000\" font-family=\"sans-serif\" font-size=\"11\" lengthAdjust=\"spacingAndGlyphs\" textLength=\"136\" x=\"383.5\" y=\"112.1479\">partMasses: MassValue</text><text fill=\"#000000\" font-family=\"sans-serif\" font-size=\"11\" lengthAdjust=\"spacingAndGlyphs\" textLength=\"241\" x=\"383.5\" y=\"124.9526\">totalMass: MassValue= sum(partMasses);</text><!--MD5=[b9389687b975829384b498ac4b7476b2]\n",
       "class E8--><rect fill=\"#FFFFFF\" height=\"109.9609\" id=\"E8\" rx=\"10\" ry=\"10\" style=\"stroke: #383838; stroke-width: 1.5;\" width=\"310\" x=\"32\" y=\"41\"/><text fill=\"#000000\" font-family=\"sans-serif\" font-size=\"12\" font-style=\"italic\" lengthAdjust=\"spacingAndGlyphs\" textLength=\"82\" x=\"146\" y=\"57.1387\">«calculation»</text><text fill=\"#000000\" font-family=\"sans-serif\" font-size=\"12\" lengthAdjust=\"spacingAndGlyphs\" textLength=\"93\" x=\"140.5\" y=\"71.1074\">ms1: MassSum</text><line style=\"stroke: #383838; stroke-width: 1.5;\" x1=\"33\" x2=\"341\" y1=\"78.9375\" y2=\"78.9375\"/><text fill=\"#000000\" font-family=\"sans-serif\" font-size=\"11\" lengthAdjust=\"spacingAndGlyphs\" textLength=\"298\" x=\"38\" y=\"93.1479\">partMasses: MassValue= {vehicle::eng::m, vehicle::</text><text fill=\"#000000\" font-family=\"sans-serif\" font-size=\"11\" lengthAdjust=\"spacingAndGlyphs\" textLength=\"60\" x=\"38\" y=\"105.9526\">trans::m};</text><text fill=\"#000000\" font-family=\"sans-serif\" font-size=\"11\" font-style=\"italic\" lengthAdjust=\"spacingAndGlyphs\" textLength=\"153\" x=\"38\" y=\"118.7573\">:&gt;&gt;MassSum::partMasses</text><text fill=\"#000000\" font-family=\"sans-serif\" font-size=\"11\" lengthAdjust=\"spacingAndGlyphs\" textLength=\"199\" x=\"38\" y=\"131.562\">totalMass: MassValue= vehicle::m;</text><text fill=\"#000000\" font-family=\"sans-serif\" font-size=\"11\" font-style=\"italic\" lengthAdjust=\"spacingAndGlyphs\" textLength=\"141\" x=\"38\" y=\"144.3667\">:&gt;&gt;MassSum::totalMass</text><!--MD5=[209b3feb70ccb6233bfe1053d122c12c]\n",
       "reverse link E2 to E3--><path d=\"M778.85,96 C778.85,96 774.5,96 774.5,96 C774.5,96 774.5,241 774.5,241 C774.5,241 767,241 757.15,241 \" fill=\"none\" id=\"E2&lt;-E3\" style=\"stroke: #383838; stroke-width: 1.0;\"/><polygon fill=\"#383838\" points=\"791.85,96,785.85,92,779.85,96,785.85,100,791.85,96\" style=\"stroke: #383838; stroke-width: 1.0;\"/><!--MD5=[9618e71518536f8baf3342ff6fdab317]\n",
       "reverse link E2 to E4--><path d=\"M838,138.59 C838,138.59 838,210.95 838,210.95 \" fill=\"none\" id=\"E2&lt;-E4\" style=\"stroke: #383838; stroke-width: 1.0;\"/><polygon fill=\"#383838\" points=\"838,125.59,834,131.59,838,137.59,842,131.59,838,125.59\" style=\"stroke: #383838; stroke-width: 1.0;\"/><!--MD5=[25b190c987b1e74e5126d372c5a73af1]\n",
       "link E6 to E5--><path d=\"M665.37,96 C655.39,96 647.75,96 647.75,96 C647.75,96 647.75,241 647.75,241 C647.75,241 455.3,241 455.3,241 \" fill=\"none\" id=\"E6-&gt;E5\" style=\"stroke: #383838; stroke-width: 1.0;\"/><polygon fill=\"#FFFFFF\" points=\"435.3,241,454.3,234,454.3,248,435.3,241\" style=\"stroke: #383838; stroke-width: 1.0;\"/><ellipse cx=\"460\" cy=\"236\" fill=\"#383838\" rx=\"2\" ry=\"2\" style=\"stroke: #383838; stroke-width: 1.0;\"/><ellipse cx=\"460\" cy=\"246\" fill=\"#383838\" rx=\"2\" ry=\"2\" style=\"stroke: #383838; stroke-width: 1.0;\"/><!--MD5=[1ccb2481ffa92f8d51a74ee30c51832a]\n",
       "link E8 to E5--><path d=\"M334.5,151.04 C334.5,151.04 334.5,197.3 334.5,197.3 \" fill=\"none\" id=\"E8-&gt;E5\" style=\"stroke: #383838; stroke-width: 1.0;\"/><polygon fill=\"#FFFFFF\" points=\"334.5,217.3,327.5,198.3,341.5,198.3,334.5,217.3\" style=\"stroke: #383838; stroke-width: 1.0;\"/><ellipse cx=\"329.5\" cy=\"192.6\" fill=\"#383838\" rx=\"2\" ry=\"2\" style=\"stroke: #383838; stroke-width: 1.0;\"/><ellipse cx=\"339.5\" cy=\"192.6\" fill=\"#383838\" rx=\"2\" ry=\"2\" style=\"stroke: #383838; stroke-width: 1.0;\"/><!--MD5=[699fd2da6aa4281a291bc60674130a77]\n",
       "@startuml\r\n",
       "skinparam linetype ortho\r\n",
       "skinparam monochrome true\r\n",
       "skinparam classbackgroundcolor white\r\n",
       "skinparam shadowing false\r\n",
       "skinparam wrapWidth 300\r\n",
       "hide circle\r\n",
       "\r\n",
       "package \"CalculationExample\" as E1   {\r\n",
       "comp usage \"vehicle: Part\" as E2  <<(T,blue)part>> {\r\n",
       "m: MassValue\r\n",
       "}\r\n",
       "comp usage \"eng: Part\" as E3  <<(T,blue)part>> {\r\n",
       "m: MassValue\r\n",
       "}\r\n",
       "comp usage \"trans: Part\" as E4  <<(T,blue)part>> {\r\n",
       "m: MassValue\r\n",
       "}\r\n",
       "comp def \"MassSum\" as E5  <<(T,blue)calculation def>> {\r\n",
       "}\r\n",
       "comp usage \"ms: MassSum\" as E6  <<(T,blue)calculation>> {\r\n",
       "}\r\n",
       "comp def \"MassSum1\" as E7  <<(T,blue)calculation def>> {\r\n",
       "partMasses: MassValue\r\n",
       "totalMass: MassValue= sum(partMasses); \r\n",
       "}\r\n",
       "comp usage \"ms1: MassSum\" as E8  <<(T,blue)calculation>> {\r\n",
       "partMasses: MassValue= {vehicle::eng::m, vehicle::trans::m}; \\n//:>>MassSum::partMasses// \r\n",
       "totalMass: MassValue= vehicle::m; \\n//:>>MassSum::totalMass// \r\n",
       "}\r\n",
       "E2 *- - E3\r\n",
       "E2 *- - E4\r\n",
       "E6 - -:|> E5\r\n",
       "E8 - -:|> E5\r\n",
       "}\r\n",
       "@enduml\r\n",
       "\n",
       "PlantUML version 1.2020.13(Sat Jun 13 12:26:38 UTC 2020)\n",
       "(EPL source distribution)\n",
       "Java Runtime: OpenJDK Runtime Environment\n",
       "JVM: OpenJDK 64-Bit Server VM\n",
       "Default Encoding: UTF-8\n",
       "Language: en\n",
       "Country: null\n",
       "--></g></svg>"
      ]
     },
     "execution_count": 56,
     "metadata": {},
     "output_type": "execute_result"
    }
   ],
   "source": [
    "%viz --style=\"ORTHOLINE\" --view=\"Sequence\" \"CalculationExample\""
   ]
  },
  {
   "cell_type": "code",
   "execution_count": 57,
   "id": "fewer-handle",
   "metadata": {
    "execution": {
     "iopub.execute_input": "2021-03-26T09:44:31.333876Z",
     "iopub.status.busy": "2021-03-26T09:44:31.333196Z",
     "iopub.status.idle": "2021-03-26T09:44:31.400913Z",
     "shell.execute_reply": "2021-03-26T09:44:31.399685Z"
    }
   },
   "outputs": [
    {
     "data": {
      "image/svg+xml": [
       "<?xml version=\"1.0\" encoding=\"UTF-8\" standalone=\"no\"?><svg xmlns=\"http://www.w3.org/2000/svg\" xmlns:xlink=\"http://www.w3.org/1999/xlink\" contentScriptType=\"application/ecmascript\" contentStyleType=\"text/css\" height=\"446px\" preserveAspectRatio=\"none\" style=\"width:920px;height:446px;\" version=\"1.1\" viewBox=\"0 0 920 446\" width=\"920px\" zoomAndPan=\"magnify\"><defs/><g><!--MD5=[fbc87193dbaf4d95561dea2c320d4a47]\n",
       "cluster E1--><polygon fill=\"#FFFFFF\" points=\"16,6,173,6,180,28.2969,898,28.2969,898,434.72,16,434.72,16,6\" style=\"stroke: #000000; stroke-width: 1.5;\"/><line style=\"stroke: #000000; stroke-width: 1.5;\" x1=\"16\" x2=\"180\" y1=\"28.2969\" y2=\"28.2969\"/><text fill=\"#000000\" font-family=\"sans-serif\" font-size=\"14\" font-weight=\"bold\" lengthAdjust=\"spacingAndGlyphs\" textLength=\"151\" x=\"20\" y=\"20.9951\">CalculationExample</text><!--MD5=[de5ec2e2e8f62f467e546659f5068c88]\n",
       "cluster E5--><rect fill=\"#FFFFFF\" height=\"300.72\" style=\"stroke: #000000; stroke-width: 1.5;\" width=\"128\" x=\"365\" y=\"96\"/><text fill=\"#000000\" font-family=\"sans-serif\" font-size=\"14\" font-weight=\"bold\" lengthAdjust=\"spacingAndGlyphs\" textLength=\"74\" x=\"392\" y=\"110.9951\">MassSum</text><!--MD5=[917b9dd0c7eca3ee5f47219d1a84c0ad]\n",
       "cluster E11--><rect fill=\"#FFFFFF\" height=\"300.72\" style=\"stroke: #000000; stroke-width: 1.5;\" width=\"132\" x=\"750\" y=\"96\"/><text fill=\"#000000\" font-family=\"sans-serif\" font-size=\"14\" font-weight=\"bold\" lengthAdjust=\"spacingAndGlyphs\" textLength=\"84\" x=\"774\" y=\"110.9951\">MassSum1</text><!--MD5=[b4997ac47864f28c2f74865a473b2911]\n",
       "class E2--><rect fill=\"#FFFFFF\" height=\"58.7422\" id=\"E2\" rx=\"10\" ry=\"10\" style=\"stroke: #383838; stroke-width: 1.5;\" width=\"92\" x=\"643\" y=\"66.5\"/><text fill=\"#000000\" font-family=\"sans-serif\" font-size=\"12\" font-style=\"italic\" lengthAdjust=\"spacingAndGlyphs\" textLength=\"40\" x=\"669\" y=\"82.6387\">«part»</text><text fill=\"#000000\" font-family=\"sans-serif\" font-size=\"12\" lengthAdjust=\"spacingAndGlyphs\" textLength=\"77\" x=\"650.5\" y=\"96.6074\">vehicle: Part</text><line style=\"stroke: #383838; stroke-width: 1.5;\" x1=\"644\" x2=\"734\" y1=\"104.4375\" y2=\"104.4375\"/><text fill=\"#000000\" font-family=\"sans-serif\" font-size=\"11\" lengthAdjust=\"spacingAndGlyphs\" textLength=\"80\" x=\"649\" y=\"118.6479\">m: MassValue</text><!--MD5=[09b614a08d8cba4a07c9adeb5e0fee81]\n",
       "class E3--><rect fill=\"#FFFFFF\" height=\"58.7422\" id=\"E3\" rx=\"10\" ry=\"10\" style=\"stroke: #383838; stroke-width: 1.5;\" width=\"92\" x=\"512\" y=\"211\"/><text fill=\"#000000\" font-family=\"sans-serif\" font-size=\"12\" font-style=\"italic\" lengthAdjust=\"spacingAndGlyphs\" textLength=\"40\" x=\"538\" y=\"227.1387\">«part»</text><text fill=\"#000000\" font-family=\"sans-serif\" font-size=\"12\" lengthAdjust=\"spacingAndGlyphs\" textLength=\"58\" x=\"529\" y=\"241.1074\">eng: Part</text><line style=\"stroke: #383838; stroke-width: 1.5;\" x1=\"513\" x2=\"603\" y1=\"248.9375\" y2=\"248.9375\"/><text fill=\"#000000\" font-family=\"sans-serif\" font-size=\"11\" lengthAdjust=\"spacingAndGlyphs\" textLength=\"80\" x=\"518\" y=\"263.1479\">m: MassValue</text><!--MD5=[ebbe1d658d1005bcc118a6aa81145e00]\n",
       "class E4--><rect fill=\"#FFFFFF\" height=\"58.7422\" id=\"E4\" rx=\"10\" ry=\"10\" style=\"stroke: #383838; stroke-width: 1.5;\" width=\"92\" x=\"639\" y=\"211\"/><text fill=\"#000000\" font-family=\"sans-serif\" font-size=\"12\" font-style=\"italic\" lengthAdjust=\"spacingAndGlyphs\" textLength=\"40\" x=\"665\" y=\"227.1387\">«part»</text><text fill=\"#000000\" font-family=\"sans-serif\" font-size=\"12\" lengthAdjust=\"spacingAndGlyphs\" textLength=\"67\" x=\"651.5\" y=\"241.1074\">trans: Part</text><line style=\"stroke: #383838; stroke-width: 1.5;\" x1=\"640\" x2=\"730\" y1=\"248.9375\" y2=\"248.9375\"/><text fill=\"#000000\" font-family=\"sans-serif\" font-size=\"11\" lengthAdjust=\"spacingAndGlyphs\" textLength=\"80\" x=\"645\" y=\"263.1479\">m: MassValue</text><!--MD5=[96f4274e9e20536e775497830990834d]\n",
       "class E10--><rect fill=\"#FFFFFF\" height=\"45.9375\" id=\"E10\" rx=\"10\" ry=\"10\" style=\"stroke: #383838; stroke-width: 1.5;\" width=\"91\" x=\"516.5\" y=\"73\"/><text fill=\"#000000\" font-family=\"sans-serif\" font-size=\"12\" font-style=\"italic\" lengthAdjust=\"spacingAndGlyphs\" textLength=\"82\" x=\"521\" y=\"89.1387\">«calculation»</text><text fill=\"#000000\" font-family=\"sans-serif\" font-size=\"12\" lengthAdjust=\"spacingAndGlyphs\" textLength=\"85\" x=\"519.5\" y=\"103.1074\">ms: MassSum</text><line style=\"stroke: #383838; stroke-width: 1.5;\" x1=\"517.5\" x2=\"606.5\" y1=\"110.9375\" y2=\"110.9375\"/><!--MD5=[bee11217b2f71d958a27249dc326068c]\n",
       "class E14--><rect fill=\"#FFFFFF\" height=\"109.9609\" id=\"E14\" rx=\"10\" ry=\"10\" style=\"stroke: #383838; stroke-width: 1.5;\" width=\"310\" x=\"32\" y=\"41\"/><text fill=\"#000000\" font-family=\"sans-serif\" font-size=\"12\" font-style=\"italic\" lengthAdjust=\"spacingAndGlyphs\" textLength=\"82\" x=\"146\" y=\"57.1387\">«calculation»</text><text fill=\"#000000\" font-family=\"sans-serif\" font-size=\"12\" lengthAdjust=\"spacingAndGlyphs\" textLength=\"93\" x=\"140.5\" y=\"71.1074\">ms1: MassSum</text><line style=\"stroke: #383838; stroke-width: 1.5;\" x1=\"33\" x2=\"341\" y1=\"78.9375\" y2=\"78.9375\"/><text fill=\"#000000\" font-family=\"sans-serif\" font-size=\"11\" lengthAdjust=\"spacingAndGlyphs\" textLength=\"298\" x=\"38\" y=\"93.1479\">partMasses: MassValue= {vehicle::eng::m, vehicle::</text><text fill=\"#000000\" font-family=\"sans-serif\" font-size=\"11\" lengthAdjust=\"spacingAndGlyphs\" textLength=\"60\" x=\"38\" y=\"105.9526\">trans::m};</text><text fill=\"#000000\" font-family=\"sans-serif\" font-size=\"11\" font-style=\"italic\" lengthAdjust=\"spacingAndGlyphs\" textLength=\"153\" x=\"38\" y=\"118.7573\">:&gt;&gt;MassSum::partMasses</text><text fill=\"#000000\" font-family=\"sans-serif\" font-size=\"11\" lengthAdjust=\"spacingAndGlyphs\" textLength=\"199\" x=\"38\" y=\"131.562\">totalMass: MassValue= vehicle::m;</text><text fill=\"#000000\" font-family=\"sans-serif\" font-size=\"11\" font-style=\"italic\" lengthAdjust=\"spacingAndGlyphs\" textLength=\"141\" x=\"38\" y=\"144.3667\">:&gt;&gt;MassSum::totalMass</text><text fill=\"#000000\" font-family=\"sans-serif\" font-size=\"14\" lengthAdjust=\"spacingAndGlyphs\" textLength=\"80\" x=\"343\" y=\"74.6982\">partMasses</text><rect fill=\"#383838\" height=\"12\" style=\"stroke: #F8F8F8; stroke-width: 1.5;\" width=\"12\" x=\"377\" y=\"90\"/><text fill=\"#000000\" font-family=\"sans-serif\" font-size=\"14\" lengthAdjust=\"spacingAndGlyphs\" textLength=\"66\" x=\"365\" y=\"415.7151\">totalMass</text><rect fill=\"#383838\" height=\"12\" style=\"stroke: #F8F8F8; stroke-width: 1.5;\" width=\"12\" x=\"392\" y=\"390.72\"/><text fill=\"#000000\" font-family=\"sans-serif\" font-size=\"14\" lengthAdjust=\"spacingAndGlyphs\" textLength=\"75\" x=\"437.5\" y=\"74.6982\">$collection</text><rect fill=\"#383838\" height=\"12\" style=\"stroke: #F8F8F8; stroke-width: 1.5;\" width=\"12\" x=\"469\" y=\"90\"/><text fill=\"#000000\" font-family=\"sans-serif\" font-size=\"14\" lengthAdjust=\"spacingAndGlyphs\" textLength=\"48\" x=\"421\" y=\"415.7151\">$result</text><rect fill=\"#383838\" height=\"12\" style=\"stroke: #F8F8F8; stroke-width: 1.5;\" width=\"12\" x=\"439\" y=\"390.72\"/><text fill=\"#000000\" font-family=\"sans-serif\" font-size=\"14\" lengthAdjust=\"spacingAndGlyphs\" textLength=\"80\" x=\"776\" y=\"74.6982\">partMasses</text><rect fill=\"#383838\" height=\"12\" style=\"stroke: #F8F8F8; stroke-width: 1.5;\" width=\"12\" x=\"810\" y=\"90\"/><text fill=\"#000000\" font-family=\"sans-serif\" font-size=\"14\" lengthAdjust=\"spacingAndGlyphs\" textLength=\"66\" x=\"783\" y=\"415.7151\">totalMass</text><rect fill=\"#383838\" height=\"12\" style=\"stroke: #F8F8F8; stroke-width: 1.5;\" width=\"12\" x=\"810\" y=\"390.72\"/><!--MD5=[209b3feb70ccb6233bfe1053d122c12c]\n",
       "reverse link E2 to E3--><path d=\"M629.98,96.72 C629.98,96.72 623.25,96.72 623.25,96.72 C623.25,96.72 623.25,240.72 623.25,240.72 C623.25,240.72 614.82,240.72 604.03,240.72 \" fill=\"none\" id=\"E2&lt;-E3\" style=\"stroke: #383838; stroke-width: 1.0;\"/><polygon fill=\"#383838\" points=\"642.98,96.72,636.98,92.72,630.98,96.72,636.98,100.72,642.98,96.72\" style=\"stroke: #383838; stroke-width: 1.0;\"/><!--MD5=[9618e71518536f8baf3342ff6fdab317]\n",
       "reverse link E2 to E4--><path d=\"M687,138.59 C687,138.59 687,210.95 687,210.95 \" fill=\"none\" id=\"E2&lt;-E4\" style=\"stroke: #383838; stroke-width: 1.0;\"/><polygon fill=\"#383838\" points=\"687,125.59,683,131.59,687,137.59,691,131.59,687,125.59\" style=\"stroke: #383838; stroke-width: 1.0;\"/><!--MD5=[1c0b9414cc86e0744215edee6abd8926]\n",
       "link E7 to E9--><path d=\"M404.14,398.72 C413.1,398.72 429.66,398.72 438.7,398.72 \" fill=\"none\" id=\"E7-E9\" style=\"stroke: #383838; stroke-width: 5.0;\"/><!--MD5=[ec5e0a54482b142abcecfe541d624bff]\n",
       "link E10 to E5--><path d=\"M516.42,110.72 C508.81,110.72 500.9475,110.72 493.4344,110.72 C493.317,110.72 493.1997,110.72 493.0825,110.72 \" fill=\"none\" id=\"E10-&gt;E5\" style=\"stroke: #383838; stroke-width: 1.0;\"/><polygon fill=\"#FFFFFF\" points=\"493.0825,110.72,512.0825,103.72,512.0825,117.72,493.0825,110.72\" style=\"stroke: #383838; stroke-width: 1.0;\"/><ellipse cx=\"517.7825\" cy=\"105.72\" fill=\"#383838\" rx=\"2\" ry=\"2\" style=\"stroke: #383838; stroke-width: 1.0;\"/><ellipse cx=\"517.7825\" cy=\"115.72\" fill=\"#383838\" rx=\"2\" ry=\"2\" style=\"stroke: #383838; stroke-width: 1.0;\"/><!--MD5=[111e5536516ee1ad7d4266f589654f03]\n",
       "link E14 to E5--><path d=\"M342.43,138.72 C348.7075,138.72 354.5381,138.72 359.753,138.72 C361.0567,138.72 362.3219,138.72 363.546,138.72 C363.852,138.72 364.1555,138.72 364.4563,138.72 C364.6067,138.72 364.7565,138.72 364.9056,138.72 \" fill=\"none\" id=\"E14-&gt;E5\" style=\"stroke: #383838; stroke-width: 1.0;\"/><polygon fill=\"#FFFFFF\" points=\"364.9056,138.72,345.9056,145.72,345.9056,131.72,364.9056,138.72\" style=\"stroke: #383838; stroke-width: 1.0;\"/><ellipse cx=\"340.2056\" cy=\"143.72\" fill=\"#383838\" rx=\"2\" ry=\"2\" style=\"stroke: #383838; stroke-width: 1.0;\"/><ellipse cx=\"340.2056\" cy=\"133.72\" fill=\"#383838\" rx=\"2\" ry=\"2\" style=\"stroke: #383838; stroke-width: 1.0;\"/><!--MD5=[9918abbcf45c5935da695dc8c002a863]\n",
       "@startuml\r\n",
       "skinparam linetype ortho\r\n",
       "skinparam monochrome true\r\n",
       "skinparam classbackgroundcolor white\r\n",
       "skinparam shadowing false\r\n",
       "skinparam wrapWidth 300\r\n",
       "hide circle\r\n",
       "\r\n",
       "package \"CalculationExample\" as E1   {\r\n",
       "comp usage \"vehicle: Part\" as E2  <<(T,blue)part>> {\r\n",
       "m: MassValue\r\n",
       "}\r\n",
       "comp usage \"eng: Part\" as E3  <<(T,blue)part>> {\r\n",
       "m: MassValue\r\n",
       "}\r\n",
       "comp usage \"trans: Part\" as E4  <<(T,blue)part>> {\r\n",
       "m: MassValue\r\n",
       "}\r\n",
       "rec def \"MassSum\" as E5 {\r\n",
       "portin \"partMasses\" as E6  \r\n",
       "portout \"totalMass\" as E7  \r\n",
       "portin \"$collection\" as E8  \r\n",
       "portout \"$result\" as E9  \r\n",
       "}\r\n",
       "\r\n",
       "comp usage \"ms: MassSum\" as E10  <<(T,blue)calculation>> {\r\n",
       "}\r\n",
       "rec def \"MassSum1\" as E11 {\r\n",
       "portin \"partMasses\" as E12  \r\n",
       "portout \"totalMass\" as E13  \r\n",
       "}\r\n",
       "\r\n",
       "comp usage \"ms1: MassSum\" as E14  <<(T,blue)calculation>> {\r\n",
       "partMasses: MassValue= {vehicle::eng::m, vehicle::trans::m}; \\n//:>>MassSum::partMasses// \r\n",
       "totalMass: MassValue= vehicle::m; \\n//:>>MassSum::totalMass// \r\n",
       "}\r\n",
       "E2 *- - E3\r\n",
       "E2 *- - E4\r\n",
       "E7 -[thickness=5]- E9\r\n",
       "E10 - -:|> E5\r\n",
       "E14 - -:|> E5\r\n",
       "}\r\n",
       "@enduml\r\n",
       "\n",
       "PlantUML version 1.2020.13(Sat Jun 13 12:26:38 UTC 2020)\n",
       "(EPL source distribution)\n",
       "Java Runtime: OpenJDK Runtime Environment\n",
       "JVM: OpenJDK 64-Bit Server VM\n",
       "Default Encoding: UTF-8\n",
       "Language: en\n",
       "Country: null\n",
       "--></g></svg>"
      ]
     },
     "execution_count": 57,
     "metadata": {},
     "output_type": "execute_result"
    }
   ],
   "source": [
    "%viz --style=\"ORTHOLINE\" --view=\"MIXED\" \"CalculationExample\""
   ]
  }
 ],
 "metadata": {
  "kernelspec": {
   "display_name": "SysML",
   "language": "sysml",
   "name": "sysml"
  },
  "language_info": {
   "codemirror_mode": "sysml",
   "file_extension": ".sysml",
   "mimetype": "text/x-sysml",
   "name": "SysML",
   "pygments_lexer": "java",
   "version": "1.0.0"
  }
 },
 "nbformat": 4,
 "nbformat_minor": 5
}
