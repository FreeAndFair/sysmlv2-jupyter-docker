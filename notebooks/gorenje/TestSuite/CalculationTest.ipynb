{
 "cells": [
  {
   "cell_type": "markdown",
   "id": "studied-posting",
   "metadata": {},
   "source": [
    "# SysML v2 Test Suite\n",
    "\n",
    "This can notebook can be cleared using menu `Edit --> Clear All Outputs` and then all cells can be\n",
    "run using menu `Run --> Run All Cells`.\n",
    "\n",
    "**WARNING**: This file is generated, all modifications here will be ignored.\n"
   ]
  },
  {
   "cell_type": "markdown",
   "id": "exotic-payment",
   "metadata": {},
   "source": [
    "## File: ../../sysml/src/examples/Simple Tests/CalculationTest.sysml"
   ]
  },
  {
   "cell_type": "code",
   "execution_count": 1,
   "id": "human-parallel",
   "metadata": {
    "execution": {
     "iopub.execute_input": "2021-03-26T09:15:53.632674Z",
     "iopub.status.busy": "2021-03-26T09:15:53.629929Z",
     "iopub.status.idle": "2021-03-26T09:15:54.078108Z",
     "shell.execute_reply": "2021-03-26T09:15:54.077627Z"
    }
   },
   "outputs": [
    {
     "data": {
      "text/plain": [
       "Package CalculationExample (e84ee6b6-7d82-4cd2-90d8-527c3c238e71)\n"
      ]
     },
     "execution_count": 1,
     "metadata": {},
     "output_type": "execute_result"
    }
   ],
   "source": [
    "package CalculationExample {\n",
    "\timport ISQ::*;\n",
    "\timport ScalarFunctions::*;\n",
    "\t\n",
    "\tpart vehicle {\n",
    "\t\tattribute m : MassValue;\n",
    "\t\t\n",
    "\t\tpart eng {\n",
    "\t\t\tattribute m : MassValue;\n",
    "\t\t}\n",
    "\t\t\n",
    "\t\tpart trans {\n",
    "\t\t\tattribute m : MassValue;\n",
    "\t\t}\n",
    "\t}\n",
    "\t\n",
    "\tcalc def MassSum (partMasses : MassValue[0..*]) totalMass : MassValue {\n",
    "\t\tsum(partMasses)\n",
    "\t}\n",
    "\t\n",
    "\tcalc ms: MassSum (\n",
    "\t\tpartMasses = {vehicle::eng::m, vehicle::trans::m})\n",
    "\t\ttotalMass = vehicle::m;\n",
    "\t\t\n",
    "\tcalc def MassSum1 {\n",
    "\t\tin partMasses : MassValue[0..*];\n",
    "\t\treturn totalMass : MassValue = sum(partMasses);\n",
    "\t}\n",
    "\t\n",
    "\tcalc ms1: MassSum {\n",
    "\t\tin partMasses = {vehicle::eng::m, vehicle::trans::m};\n",
    "\t\treturn totalMass = vehicle::m;\n",
    "\t}\n",
    "}"
   ]
  },
  {
   "cell_type": "code",
   "execution_count": 2,
   "id": "bacterial-progressive",
   "metadata": {
    "execution": {
     "iopub.execute_input": "2021-03-26T09:15:54.130996Z",
     "iopub.status.busy": "2021-03-26T09:15:54.130575Z",
     "iopub.status.idle": "2021-03-26T09:15:54.775671Z",
     "shell.execute_reply": "2021-03-26T09:15:54.774190Z"
    }
   },
   "outputs": [
    {
     "data": {
      "image/svg+xml": [
       "<?xml version=\"1.0\" encoding=\"UTF-8\" standalone=\"no\"?><svg xmlns=\"http://www.w3.org/2000/svg\" xmlns:xlink=\"http://www.w3.org/1999/xlink\" contentScriptType=\"application/ecmascript\" contentStyleType=\"text/css\" height=\"408px\" preserveAspectRatio=\"none\" style=\"width:829px;height:408px;\" version=\"1.1\" viewBox=\"0 0 829 408\" width=\"829px\" zoomAndPan=\"magnify\"><defs><filter height=\"300%\" id=\"fam2w2b212u6j\" width=\"300%\" x=\"-1\" y=\"-1\"><feGaussianBlur result=\"blurOut\" stdDeviation=\"2.0\"/><feColorMatrix in=\"blurOut\" result=\"blurOut2\" type=\"matrix\" values=\"0 0 0 0 0 0 0 0 0 0 0 0 0 0 0 0 0 0 .4 0\"/><feOffset dx=\"4.0\" dy=\"4.0\" in=\"blurOut2\" result=\"blurOut3\"/><feBlend in=\"SourceGraphic\" in2=\"blurOut3\" mode=\"normal\"/></filter></defs><g><!--MD5=[fbc87193dbaf4d95561dea2c320d4a47]\n",
       "cluster E1--><a href=\"psysml:7249bcac-c63a-48a6-adec-7cf675138100\" target=\"_top\" title=\"psysml:7249bcac-c63a-48a6-adec-7cf675138100\" xlink:actuate=\"onRequest\" xlink:href=\"psysml:7249bcac-c63a-48a6-adec-7cf675138100\" xlink:show=\"new\" xlink:title=\"psysml:7249bcac-c63a-48a6-adec-7cf675138100\" xlink:type=\"simple\"><polygon fill=\"#FFFFFF\" filter=\"url(#fam2w2b212u6j)\" points=\"16,6,173,6,180,28.2969,807,28.2969,807,396.72,16,396.72,16,6\" style=\"stroke: #000000; stroke-width: 1.5;\"/><line style=\"stroke: #000000; stroke-width: 1.5;\" x1=\"16\" x2=\"180\" y1=\"28.2969\" y2=\"28.2969\"/><text fill=\"#000000\" font-family=\"sans-serif\" font-size=\"14\" font-weight=\"bold\" lengthAdjust=\"spacingAndGlyphs\" textLength=\"151\" x=\"20\" y=\"20.9951\">CalculationExample</text></a><!--MD5=[de5ec2e2e8f62f467e546659f5068c88]\n",
       "cluster E5--><a href=\"psysml:8857df12-96f9-4753-a6e3-dc799dcb9ed4\" target=\"_top\" title=\"psysml:8857df12-96f9-4753-a6e3-dc799dcb9ed4\" xlink:actuate=\"onRequest\" xlink:href=\"psysml:8857df12-96f9-4753-a6e3-dc799dcb9ed4\" xlink:show=\"new\" xlink:title=\"psysml:8857df12-96f9-4753-a6e3-dc799dcb9ed4\" xlink:type=\"simple\"><rect fill=\"#FFFFFF\" filter=\"url(#fam2w2b212u6j)\" height=\"281.72\" id=\"E5\" style=\"stroke: #A80036; stroke-width: 1.5;\" width=\"128\" x=\"181\" y=\"77\"/><rect fill=\"#FEFECE\" height=\"37.9375\" style=\"stroke: #A80036; stroke-width: 1.5;\" width=\"128\" x=\"181\" y=\"77\"/><text fill=\"#000000\" font-family=\"sans-serif\" font-size=\"12\" font-style=\"italic\" lengthAdjust=\"spacingAndGlyphs\" textLength=\"106\" x=\"192\" y=\"93.1387\">«calculation def»</text><text fill=\"#000000\" font-family=\"sans-serif\" font-size=\"12\" lengthAdjust=\"spacingAndGlyphs\" textLength=\"59\" x=\"215.5\" y=\"107.1074\">MassSum</text></a><!--MD5=[917b9dd0c7eca3ee5f47219d1a84c0ad]\n",
       "cluster E11--><a href=\"psysml:86e0ef61-a473-4ef3-8b23-ebbfee168e1c\" target=\"_top\" title=\"psysml:86e0ef61-a473-4ef3-8b23-ebbfee168e1c\" xlink:actuate=\"onRequest\" xlink:href=\"psysml:86e0ef61-a473-4ef3-8b23-ebbfee168e1c\" xlink:show=\"new\" xlink:title=\"psysml:86e0ef61-a473-4ef3-8b23-ebbfee168e1c\" xlink:type=\"simple\"><rect fill=\"#FFFFFF\" filter=\"url(#fam2w2b212u6j)\" height=\"281.72\" id=\"E11\" style=\"stroke: #A80036; stroke-width: 1.5;\" width=\"166\" x=\"625\" y=\"77\"/><rect fill=\"#FEFECE\" height=\"37.9375\" style=\"stroke: #A80036; stroke-width: 1.5;\" width=\"166\" x=\"625\" y=\"77\"/><text fill=\"#000000\" font-family=\"sans-serif\" font-size=\"12\" font-style=\"italic\" lengthAdjust=\"spacingAndGlyphs\" textLength=\"106\" x=\"655\" y=\"93.1387\">«calculation def»</text><text fill=\"#000000\" font-family=\"sans-serif\" font-size=\"12\" lengthAdjust=\"spacingAndGlyphs\" textLength=\"67\" x=\"674.5\" y=\"107.1074\">MassSum1</text></a><!--MD5=[b4997ac47864f28c2f74865a473b2911]\n",
       "class E2--><a href=\"psysml:14188455-78e6-45cf-9446-0197417271d8\" target=\"_top\" title=\"psysml:14188455-78e6-45cf-9446-0197417271d8\" xlink:actuate=\"onRequest\" xlink:href=\"psysml:14188455-78e6-45cf-9446-0197417271d8\" xlink:show=\"new\" xlink:title=\"psysml:14188455-78e6-45cf-9446-0197417271d8\" xlink:type=\"simple\"><rect fill=\"#FEFECE\" filter=\"url(#fam2w2b212u6j)\" height=\"58.7422\" id=\"E2\" rx=\"10\" ry=\"10\" style=\"stroke: #A80036; stroke-width: 1.5;\" width=\"92\" x=\"525\" y=\"47.5\"/><ellipse cx=\"547.65\" cy=\"66.4688\" fill=\"#0000FF\" rx=\"11\" ry=\"11\" style=\"stroke: #A80036; stroke-width: 1.0;\"/><path d=\"M548.4938,73.2188 L546.0406,73.2188 L546.0406,62.9688 L542.9,62.9688 L542.9,60.8281 L551.6344,60.8281 L551.6344,62.9688 L548.4938,62.9688 L548.4938,73.2188 Z \"/><text fill=\"#000000\" font-family=\"sans-serif\" font-size=\"12\" font-style=\"italic\" lengthAdjust=\"spacingAndGlyphs\" textLength=\"40\" x=\"564.85\" y=\"63.6387\">«part»</text><text fill=\"#000000\" font-family=\"sans-serif\" font-size=\"12\" lengthAdjust=\"spacingAndGlyphs\" textLength=\"43\" x=\"563.35\" y=\"77.6074\">vehicle</text><line style=\"stroke: #A80036; stroke-width: 1.5;\" x1=\"526\" x2=\"616\" y1=\"85.4375\" y2=\"85.4375\"/><text fill=\"#000000\" font-family=\"sans-serif\" font-size=\"11\" lengthAdjust=\"spacingAndGlyphs\" textLength=\"80\" x=\"531\" y=\"99.6479\">m: MassValue</text></a><!--MD5=[09b614a08d8cba4a07c9adeb5e0fee81]\n",
       "class E3--><a href=\"psysml:5beb719b-2071-4403-a403-a4a2a93a4090\" target=\"_top\" title=\"psysml:5beb719b-2071-4403-a403-a4a2a93a4090\" xlink:actuate=\"onRequest\" xlink:href=\"psysml:5beb719b-2071-4403-a403-a4a2a93a4090\" xlink:show=\"new\" xlink:title=\"psysml:5beb719b-2071-4403-a403-a4a2a93a4090\" xlink:type=\"simple\"><rect fill=\"#FEFECE\" filter=\"url(#fam2w2b212u6j)\" height=\"58.7422\" id=\"E3\" rx=\"10\" ry=\"10\" style=\"stroke: #A80036; stroke-width: 1.5;\" width=\"92\" x=\"387\" y=\"173\"/><ellipse cx=\"412.8\" cy=\"191.9688\" fill=\"#0000FF\" rx=\"11\" ry=\"11\" style=\"stroke: #A80036; stroke-width: 1.0;\"/><path d=\"M413.6438,198.7188 L411.1906,198.7188 L411.1906,188.4688 L408.05,188.4688 L408.05,186.3281 L416.7844,186.3281 L416.7844,188.4688 L413.6438,188.4688 L413.6438,198.7188 Z \"/><text fill=\"#000000\" font-family=\"sans-serif\" font-size=\"12\" font-style=\"italic\" lengthAdjust=\"spacingAndGlyphs\" textLength=\"40\" x=\"427.2\" y=\"189.1387\">«part»</text><text fill=\"#000000\" font-family=\"sans-serif\" font-size=\"12\" lengthAdjust=\"spacingAndGlyphs\" textLength=\"24\" x=\"435.2\" y=\"203.1074\">eng</text><line style=\"stroke: #A80036; stroke-width: 1.5;\" x1=\"388\" x2=\"478\" y1=\"210.9375\" y2=\"210.9375\"/><text fill=\"#000000\" font-family=\"sans-serif\" font-size=\"11\" lengthAdjust=\"spacingAndGlyphs\" textLength=\"80\" x=\"393\" y=\"225.1479\">m: MassValue</text></a><!--MD5=[ebbe1d658d1005bcc118a6aa81145e00]\n",
       "class E4--><a href=\"psysml:48862a39-11e7-4605-8aed-a0acf63d7872\" target=\"_top\" title=\"psysml:48862a39-11e7-4605-8aed-a0acf63d7872\" xlink:actuate=\"onRequest\" xlink:href=\"psysml:48862a39-11e7-4605-8aed-a0acf63d7872\" xlink:show=\"new\" xlink:title=\"psysml:48862a39-11e7-4605-8aed-a0acf63d7872\" xlink:type=\"simple\"><rect fill=\"#FEFECE\" filter=\"url(#fam2w2b212u6j)\" height=\"58.7422\" id=\"E4\" rx=\"10\" ry=\"10\" style=\"stroke: #A80036; stroke-width: 1.5;\" width=\"92\" x=\"514\" y=\"173\"/><ellipse cx=\"539.8\" cy=\"191.9688\" fill=\"#0000FF\" rx=\"11\" ry=\"11\" style=\"stroke: #A80036; stroke-width: 1.0;\"/><path d=\"M540.6438,198.7188 L538.1906,198.7188 L538.1906,188.4688 L535.05,188.4688 L535.05,186.3281 L543.7844,186.3281 L543.7844,188.4688 L540.6438,188.4688 L540.6438,198.7188 Z \"/><text fill=\"#000000\" font-family=\"sans-serif\" font-size=\"12\" font-style=\"italic\" lengthAdjust=\"spacingAndGlyphs\" textLength=\"40\" x=\"554.2\" y=\"189.1387\">«part»</text><text fill=\"#000000\" font-family=\"sans-serif\" font-size=\"12\" lengthAdjust=\"spacingAndGlyphs\" textLength=\"33\" x=\"557.7\" y=\"203.1074\">trans</text><line style=\"stroke: #A80036; stroke-width: 1.5;\" x1=\"515\" x2=\"605\" y1=\"210.9375\" y2=\"210.9375\"/><text fill=\"#000000\" font-family=\"sans-serif\" font-size=\"11\" lengthAdjust=\"spacingAndGlyphs\" textLength=\"80\" x=\"520\" y=\"225.1479\">m: MassValue</text></a><!--MD5=[96f4274e9e20536e775497830990834d]\n",
       "class E10--><a href=\"psysml:1d10ff1d-94f3-4fcc-ad21-5a3c75a7ba0b\" target=\"_top\" title=\"psysml:1d10ff1d-94f3-4fcc-ad21-5a3c75a7ba0b\" xlink:actuate=\"onRequest\" xlink:href=\"psysml:1d10ff1d-94f3-4fcc-ad21-5a3c75a7ba0b\" xlink:show=\"new\" xlink:title=\"psysml:1d10ff1d-94f3-4fcc-ad21-5a3c75a7ba0b\" xlink:type=\"simple\"><rect fill=\"#FEFECE\" filter=\"url(#fam2w2b212u6j)\" height=\"45.9375\" id=\"E10\" rx=\"10\" ry=\"10\" style=\"stroke: #A80036; stroke-width: 1.5;\" width=\"117\" x=\"372.5\" y=\"54\"/><ellipse cx=\"387.5\" cy=\"72.9688\" fill=\"#0000FF\" rx=\"11\" ry=\"11\" style=\"stroke: #A80036; stroke-width: 1.0;\"/><path d=\"M388.3438,79.7188 L385.8906,79.7188 L385.8906,69.4688 L382.75,69.4688 L382.75,67.3281 L391.4844,67.3281 L391.4844,69.4688 L388.3438,69.4688 L388.3438,79.7188 Z \"/><text fill=\"#000000\" font-family=\"sans-serif\" font-size=\"12\" font-style=\"italic\" lengthAdjust=\"spacingAndGlyphs\" textLength=\"82\" x=\"403\" y=\"70.1387\">«calculation»</text><text fill=\"#000000\" font-family=\"sans-serif\" font-size=\"12\" lengthAdjust=\"spacingAndGlyphs\" textLength=\"85\" x=\"401.5\" y=\"84.1074\">ms: MassSum</text><line style=\"stroke: #A80036; stroke-width: 1.5;\" x1=\"373.5\" x2=\"488.5\" y1=\"91.9375\" y2=\"91.9375\"/></a><!--MD5=[bee11217b2f71d958a27249dc326068c]\n",
       "class E14--><a href=\"psysml:5bbc6089-c972-4222-8f32-76d519ddb8cd\" target=\"_top\" title=\"psysml:5bbc6089-c972-4222-8f32-76d519ddb8cd\" xlink:actuate=\"onRequest\" xlink:href=\"psysml:5bbc6089-c972-4222-8f32-76d519ddb8cd\" xlink:show=\"new\" xlink:title=\"psysml:5bbc6089-c972-4222-8f32-76d519ddb8cd\" xlink:type=\"simple\"><rect fill=\"#FEFECE\" filter=\"url(#fam2w2b212u6j)\" height=\"71.5469\" id=\"E14\" rx=\"10\" ry=\"10\" style=\"stroke: #A80036; stroke-width: 1.5;\" width=\"125\" x=\"32.5\" y=\"41\"/><ellipse cx=\"47.5\" cy=\"59.9688\" fill=\"#0000FF\" rx=\"11\" ry=\"11\" style=\"stroke: #A80036; stroke-width: 1.0;\"/><path d=\"M48.3438,66.7188 L45.8906,66.7188 L45.8906,56.4688 L42.75,56.4688 L42.75,54.3281 L51.4844,54.3281 L51.4844,56.4688 L48.3438,56.4688 L48.3438,66.7188 Z \"/><text fill=\"#000000\" font-family=\"sans-serif\" font-size=\"12\" font-style=\"italic\" lengthAdjust=\"spacingAndGlyphs\" textLength=\"82\" x=\"67\" y=\"57.1387\">«calculation»</text><text fill=\"#000000\" font-family=\"sans-serif\" font-size=\"12\" lengthAdjust=\"spacingAndGlyphs\" textLength=\"93\" x=\"61.5\" y=\"71.1074\">ms1: MassSum</text><line style=\"stroke: #A80036; stroke-width: 1.5;\" x1=\"33.5\" x2=\"156.5\" y1=\"78.9375\" y2=\"78.9375\"/><text fill=\"#000000\" font-family=\"sans-serif\" font-size=\"11\" lengthAdjust=\"spacingAndGlyphs\" textLength=\"67\" x=\"38.5\" y=\"93.1479\">partMasses</text><text fill=\"#000000\" font-family=\"sans-serif\" font-size=\"11\" lengthAdjust=\"spacingAndGlyphs\" textLength=\"55\" x=\"38.5\" y=\"105.9526\">totalMass</text></a><text fill=\"#000000\" font-family=\"sans-serif\" font-size=\"14\" lengthAdjust=\"spacingAndGlyphs\" textLength=\"80\" x=\"159\" y=\"55.6982\">partMasses</text><rect fill=\"#A80036\" height=\"12\" style=\"stroke: #FEFECE; stroke-width: 1.5;\" width=\"12\" x=\"193\" y=\"71\"/><text fill=\"#000000\" font-family=\"sans-serif\" font-size=\"14\" lengthAdjust=\"spacingAndGlyphs\" textLength=\"66\" x=\"203\" y=\"377.7151\">totalMass</text><rect fill=\"#A80036\" height=\"12\" style=\"stroke: #FEFECE; stroke-width: 1.5;\" width=\"12\" x=\"230\" y=\"352.72\"/><text fill=\"#000000\" font-family=\"sans-serif\" font-size=\"14\" lengthAdjust=\"spacingAndGlyphs\" textLength=\"75\" x=\"253.5\" y=\"55.6982\">$collection</text><rect fill=\"#A80036\" height=\"12\" style=\"stroke: #FEFECE; stroke-width: 1.5;\" width=\"12\" x=\"285\" y=\"71\"/><text fill=\"#000000\" font-family=\"sans-serif\" font-size=\"14\" lengthAdjust=\"spacingAndGlyphs\" textLength=\"48\" x=\"259\" y=\"377.7151\">$result</text><rect fill=\"#A80036\" height=\"12\" style=\"stroke: #FEFECE; stroke-width: 1.5;\" width=\"12\" x=\"277\" y=\"352.72\"/><text fill=\"#000000\" font-family=\"sans-serif\" font-size=\"14\" lengthAdjust=\"spacingAndGlyphs\" textLength=\"80\" x=\"668\" y=\"55.6982\">partMasses</text><rect fill=\"#A80036\" height=\"12\" style=\"stroke: #FEFECE; stroke-width: 1.5;\" width=\"12\" x=\"702\" y=\"71\"/><text fill=\"#000000\" font-family=\"sans-serif\" font-size=\"14\" lengthAdjust=\"spacingAndGlyphs\" textLength=\"66\" x=\"675\" y=\"377.7151\">totalMass</text><rect fill=\"#A80036\" height=\"12\" style=\"stroke: #FEFECE; stroke-width: 1.5;\" width=\"12\" x=\"702\" y=\"352.72\"/><!--MD5=[209b3feb70ccb6233bfe1053d122c12c]\n",
       "reverse link E2 to E3--><a href=\"psysml:5beb719b-2071-4403-a403-a4a2a93a4090\" target=\"_top\" title=\"psysml:5beb719b-2071-4403-a403-a4a2a93a4090\" xlink:actuate=\"onRequest\" xlink:href=\"psysml:5beb719b-2071-4403-a403-a4a2a93a4090\" xlink:show=\"new\" xlink:title=\"psysml:5beb719b-2071-4403-a403-a4a2a93a4090\" xlink:type=\"simple\"><path d=\"M529.27,115.35 C508.75,133.71 484.39,155.51 465.31,172.58 \" fill=\"none\" id=\"E2&lt;-E3\" style=\"stroke: #A80036; stroke-width: 1.0;\"/><polygon fill=\"#A80036\" points=\"538.99,106.64,531.8517,107.662,530.0495,114.6442,537.1878,113.6223,538.99,106.64\" style=\"stroke: #A80036; stroke-width: 1.0;\"/></a><!--MD5=[9618e71518536f8baf3342ff6fdab317]\n",
       "reverse link E2 to E4--><a href=\"psysml:48862a39-11e7-4605-8aed-a0acf63d7872\" target=\"_top\" title=\"psysml:48862a39-11e7-4605-8aed-a0acf63d7872\" xlink:actuate=\"onRequest\" xlink:href=\"psysml:48862a39-11e7-4605-8aed-a0acf63d7872\" xlink:show=\"new\" xlink:title=\"psysml:48862a39-11e7-4605-8aed-a0acf63d7872\" xlink:type=\"simple\"><path d=\"M567.29,119.66 C565.74,137.05 563.98,156.83 562.58,172.58 \" fill=\"none\" id=\"E2&lt;-E4\" style=\"stroke: #A80036; stroke-width: 1.0;\"/><polygon fill=\"#A80036\" points=\"568.45,106.64,563.9321,112.2604,567.3826,118.5924,571.9004,112.972,568.45,106.64\" style=\"stroke: #A80036; stroke-width: 1.0;\"/></a><!--MD5=[1c0b9414cc86e0744215edee6abd8926]\n",
       "link E7 to E9--><a href=\"psysml:5b55f712-f9b6-4e15-aeab-345c960b0653\" target=\"_top\" title=\"psysml:5b55f712-f9b6-4e15-aeab-345c960b0653\" xlink:actuate=\"onRequest\" xlink:href=\"psysml:5b55f712-f9b6-4e15-aeab-345c960b0653\" xlink:show=\"new\" xlink:title=\"psysml:5b55f712-f9b6-4e15-aeab-345c960b0653\" xlink:type=\"simple\"><path d=\"M242.24,356.65 C253.81,353.39 265.38,353.41 276.95,356.7 \" fill=\"none\" id=\"E7-E9\" style=\"stroke: #A80036; stroke-width: 5.0;\"/></a><!--MD5=[ec5e0a54482b142abcecfe541d624bff]\n",
       "link E10 to E5--><a href=\"psysml:9917c25f-6195-4027-a1da-c593e3e3b530\" target=\"_top\" title=\"psysml:9917c25f-6195-4027-a1da-c593e3e3b530\" xlink:actuate=\"onRequest\" xlink:href=\"psysml:9917c25f-6195-4027-a1da-c593e3e3b530\" xlink:show=\"new\" xlink:title=\"psysml:9917c25f-6195-4027-a1da-c593e3e3b530\" xlink:type=\"simple\"><path d=\"M401.32,100.08 C384.955,112.255 363.7925,128 343.0438,143.4375 C332.6694,151.1563 322.3984,158.7981 312.8823,165.8784 C311.6928,166.7635 310.5151,167.6397 309.3505,168.5063 \" fill=\"none\" id=\"E10-&gt;E5\" style=\"stroke: #A80036; stroke-width: 1.0;\"/><polygon fill=\"#FFFFFF\" points=\"309.3505,168.5063,320.4154,151.5485,328.7725,162.7806,309.3505,168.5063\" style=\"stroke: #A80036; stroke-width: 1.0;\"/><ellipse cx=\"326.1824\" cy=\"149.7506\" fill=\"#A80036\" rx=\"2\" ry=\"2\" style=\"stroke: #A80036; stroke-width: 1.0;\"/><ellipse cx=\"332.1517\" cy=\"157.7735\" fill=\"#A80036\" rx=\"2\" ry=\"2\" style=\"stroke: #A80036; stroke-width: 1.0;\"/></a><!--MD5=[111e5536516ee1ad7d4266f589654f03]\n",
       "link E14 to E5--><a href=\"psysml:bf4de082-8867-4b4d-b459-dc33df5641b4\" target=\"_top\" title=\"psysml:bf4de082-8867-4b4d-b459-dc33df5641b4\" xlink:actuate=\"onRequest\" xlink:href=\"psysml:bf4de082-8867-4b4d-b459-dc33df5641b4\" xlink:show=\"new\" xlink:title=\"psysml:bf4de082-8867-4b4d-b459-dc33df5641b4\" xlink:type=\"simple\"><path d=\"M143.26,113.06 C151.3575,118.9425 160.0062,125.2256 168.8184,131.6275 C171.0215,133.228 173.2347,134.8359 175.4522,136.4468 C176.5609,137.2522 177.6706,138.0584 178.7806,138.8648 C179.3357,139.268 179.8907,139.6713 180.4458,140.0745 C180.5846,140.1754 180.7233,140.2762 180.8621,140.377 \" fill=\"none\" id=\"E14-&gt;E5\" style=\"stroke: #A80036; stroke-width: 1.0;\"/><polygon fill=\"#FFFFFF\" points=\"180.8621,140.377,161.376,134.873,169.6046,123.5464,180.8621,140.377\" style=\"stroke: #A80036; stroke-width: 1.0;\"/><ellipse cx=\"157.94\" cy=\"129.9047\" fill=\"#A80036\" rx=\"2\" ry=\"2\" style=\"stroke: #A80036; stroke-width: 1.0;\"/><ellipse cx=\"163.8175\" cy=\"121.8143\" fill=\"#A80036\" rx=\"2\" ry=\"2\" style=\"stroke: #A80036; stroke-width: 1.0;\"/></a><!--MD5=[851ebb1a177109259574d10db4246f4f]\n",
       "@startuml\r\n",
       " \r\n",
       "package \"CalculationExample\" as E1  [[psysml:7249bcac-c63a-48a6-adec-7cf675138100 ]]  {\r\n",
       "comp usage \"vehicle\" as E2  <<(T,blue)part>> [[psysml:14188455-78e6-45cf-9446-0197417271d8 ]] {\r\n",
       "m: MassValue\r\n",
       "}\r\n",
       "comp usage \"eng\" as E3  <<(T,blue)part>> [[psysml:5beb719b-2071-4403-a403-a4a2a93a4090 ]] {\r\n",
       "m: MassValue\r\n",
       "}\r\n",
       "comp usage \"trans\" as E4  <<(T,blue)part>> [[psysml:48862a39-11e7-4605-8aed-a0acf63d7872 ]] {\r\n",
       "m: MassValue\r\n",
       "}\r\n",
       "rec def \"MassSum\" as E5  <<(T,blue)calculation def>> [[psysml:8857df12-96f9-4753-a6e3-dc799dcb9ed4 ]] {\r\n",
       "portin \"partMasses\" as E6  [[psysml:8ae5fd16-1397-4172-a6e5-0c084d8d7ca2 ]] \r\n",
       "portout \"totalMass\" as E7  [[psysml:5f15c55d-7a56-4485-be6d-5834d49cebc1 ]] \r\n",
       "portin \"$collection\" as E8  [[psysml:61806866-d159-447e-b132-fa56be682adf ]] \r\n",
       "portout \"$result\" as E9  [[psysml:6ddb7e29-61e7-4184-8db5-61f90a0c49bf ]] \r\n",
       "}\r\n",
       "\r\n",
       "comp usage \"ms: MassSum\" as E10  <<(T,blue)calculation>> [[psysml:1d10ff1d-94f3-4fcc-ad21-5a3c75a7ba0b ]] {\r\n",
       "}\r\n",
       "rec def \"MassSum1\" as E11  <<(T,blue)calculation def>> [[psysml:86e0ef61-a473-4ef3-8b23-ebbfee168e1c ]] {\r\n",
       "portin \"partMasses\" as E12  [[psysml:44765cb5-91e3-4973-8d66-b6f2e5bbf87d ]] \r\n",
       "portout \"totalMass\" as E13  [[psysml:8a0a1f2d-4441-4a8a-b849-a96ed87f36a5 ]] \r\n",
       "}\r\n",
       "\r\n",
       "comp usage \"ms1: MassSum\" as E14  <<(T,blue)calculation>> [[psysml:5bbc6089-c972-4222-8f32-76d519ddb8cd ]] {\r\n",
       "partMasses\r\n",
       "totalMass\r\n",
       "}\r\n",
       "E2 *- - E3 [[psysml:5beb719b-2071-4403-a403-a4a2a93a4090 ]] \r\n",
       "E2 *- - E4 [[psysml:48862a39-11e7-4605-8aed-a0acf63d7872 ]] \r\n",
       "E7 -[thickness=5]- E9 [[psysml:5b55f712-f9b6-4e15-aeab-345c960b0653 ]] \r\n",
       "E10 - -:|> E5 [[psysml:9917c25f-6195-4027-a1da-c593e3e3b530 ]] \r\n",
       "E14 - -:|> E5 [[psysml:bf4de082-8867-4b4d-b459-dc33df5641b4 ]] \r\n",
       "}\r\n",
       "@enduml\r\n",
       "\n",
       "PlantUML version 1.2020.13(Sat Jun 13 12:26:38 UTC 2020)\n",
       "(EPL source distribution)\n",
       "Java Runtime: OpenJDK Runtime Environment\n",
       "JVM: OpenJDK 64-Bit Server VM\n",
       "Default Encoding: UTF-8\n",
       "Language: en\n",
       "Country: null\n",
       "--></g></svg>"
      ]
     },
     "execution_count": 2,
     "metadata": {},
     "output_type": "execute_result"
    }
   ],
   "source": [
    "%viz --style=\"COMPTREE\" --view=\"Default\" \"CalculationExample\""
   ]
  },
  {
   "cell_type": "code",
   "execution_count": 3,
   "id": "trying-spiritual",
   "metadata": {
    "execution": {
     "iopub.execute_input": "2021-03-26T09:15:54.826714Z",
     "iopub.status.busy": "2021-03-26T09:15:54.825846Z",
     "iopub.status.idle": "2021-03-26T09:15:55.009698Z",
     "shell.execute_reply": "2021-03-26T09:15:55.009338Z"
    }
   },
   "outputs": [
    {
     "data": {
      "image/svg+xml": [
       "<?xml version=\"1.0\" encoding=\"UTF-8\" standalone=\"no\"?><svg xmlns=\"http://www.w3.org/2000/svg\" xmlns:xlink=\"http://www.w3.org/1999/xlink\" contentScriptType=\"application/ecmascript\" contentStyleType=\"text/css\" height=\"260px\" preserveAspectRatio=\"none\" style=\"width:659px;height:260px;\" version=\"1.1\" viewBox=\"0 0 659 260\" width=\"659px\" zoomAndPan=\"magnify\"><defs><filter height=\"300%\" id=\"flf9c3h8ymjor\" width=\"300%\" x=\"-1\" y=\"-1\"><feGaussianBlur result=\"blurOut\" stdDeviation=\"2.0\"/><feColorMatrix in=\"blurOut\" result=\"blurOut2\" type=\"matrix\" values=\"0 0 0 0 0 0 0 0 0 0 0 0 0 0 0 0 0 0 .4 0\"/><feOffset dx=\"4.0\" dy=\"4.0\" in=\"blurOut2\" result=\"blurOut3\"/><feBlend in=\"SourceGraphic\" in2=\"blurOut3\" mode=\"normal\"/></filter></defs><g><!--MD5=[fbc87193dbaf4d95561dea2c320d4a47]\n",
       "cluster E1--><a href=\"psysml:7249bcac-c63a-48a6-adec-7cf675138100\" target=\"_top\" title=\"psysml:7249bcac-c63a-48a6-adec-7cf675138100\" xlink:actuate=\"onRequest\" xlink:href=\"psysml:7249bcac-c63a-48a6-adec-7cf675138100\" xlink:show=\"new\" xlink:title=\"psysml:7249bcac-c63a-48a6-adec-7cf675138100\" xlink:type=\"simple\"><polygon fill=\"#FFFFFF\" filter=\"url(#flf9c3h8ymjor)\" points=\"16,6,173,6,180,28.2969,637,28.2969,637,248,16,248,16,6\" style=\"stroke: #000000; stroke-width: 1.5;\"/><line style=\"stroke: #000000; stroke-width: 1.5;\" x1=\"16\" x2=\"180\" y1=\"28.2969\" y2=\"28.2969\"/><text fill=\"#000000\" font-family=\"sans-serif\" font-size=\"14\" font-weight=\"bold\" lengthAdjust=\"spacingAndGlyphs\" textLength=\"151\" x=\"20\" y=\"20.9951\">CalculationExample</text></a><!--MD5=[b4997ac47864f28c2f74865a473b2911]\n",
       "class E2--><a href=\"psysml:14188455-78e6-45cf-9446-0197417271d8\" target=\"_top\" title=\"psysml:14188455-78e6-45cf-9446-0197417271d8\" xlink:actuate=\"onRequest\" xlink:href=\"psysml:14188455-78e6-45cf-9446-0197417271d8\" xlink:show=\"new\" xlink:title=\"psysml:14188455-78e6-45cf-9446-0197417271d8\" xlink:type=\"simple\"><rect fill=\"#FEFECE\" filter=\"url(#flf9c3h8ymjor)\" height=\"58.7422\" id=\"E2\" rx=\"10\" ry=\"10\" style=\"stroke: #A80036; stroke-width: 1.5;\" width=\"92\" x=\"529\" y=\"47.5\"/><ellipse cx=\"551.65\" cy=\"66.4688\" fill=\"#0000FF\" rx=\"11\" ry=\"11\" style=\"stroke: #A80036; stroke-width: 1.0;\"/><path d=\"M552.4938,73.2188 L550.0406,73.2188 L550.0406,62.9688 L546.9,62.9688 L546.9,60.8281 L555.6344,60.8281 L555.6344,62.9688 L552.4938,62.9688 L552.4938,73.2188 Z \"/><text fill=\"#000000\" font-family=\"sans-serif\" font-size=\"12\" font-style=\"italic\" lengthAdjust=\"spacingAndGlyphs\" textLength=\"40\" x=\"568.85\" y=\"63.6387\">«part»</text><text fill=\"#000000\" font-family=\"sans-serif\" font-size=\"12\" lengthAdjust=\"spacingAndGlyphs\" textLength=\"43\" x=\"567.35\" y=\"77.6074\">vehicle</text><line style=\"stroke: #A80036; stroke-width: 1.5;\" x1=\"530\" x2=\"620\" y1=\"85.4375\" y2=\"85.4375\"/><text fill=\"#000000\" font-family=\"sans-serif\" font-size=\"11\" lengthAdjust=\"spacingAndGlyphs\" textLength=\"80\" x=\"535\" y=\"99.6479\">m: MassValue</text></a><!--MD5=[09b614a08d8cba4a07c9adeb5e0fee81]\n",
       "class E3--><a href=\"psysml:5beb719b-2071-4403-a403-a4a2a93a4090\" target=\"_top\" title=\"psysml:5beb719b-2071-4403-a403-a4a2a93a4090\" xlink:actuate=\"onRequest\" xlink:href=\"psysml:5beb719b-2071-4403-a403-a4a2a93a4090\" xlink:show=\"new\" xlink:title=\"psysml:5beb719b-2071-4403-a403-a4a2a93a4090\" xlink:type=\"simple\"><rect fill=\"#FEFECE\" filter=\"url(#flf9c3h8ymjor)\" height=\"58.7422\" id=\"E3\" rx=\"10\" ry=\"10\" style=\"stroke: #A80036; stroke-width: 1.5;\" width=\"92\" x=\"402\" y=\"173\"/><ellipse cx=\"427.8\" cy=\"191.9688\" fill=\"#0000FF\" rx=\"11\" ry=\"11\" style=\"stroke: #A80036; stroke-width: 1.0;\"/><path d=\"M428.6438,198.7188 L426.1906,198.7188 L426.1906,188.4688 L423.05,188.4688 L423.05,186.3281 L431.7844,186.3281 L431.7844,188.4688 L428.6438,188.4688 L428.6438,198.7188 Z \"/><text fill=\"#000000\" font-family=\"sans-serif\" font-size=\"12\" font-style=\"italic\" lengthAdjust=\"spacingAndGlyphs\" textLength=\"40\" x=\"442.2\" y=\"189.1387\">«part»</text><text fill=\"#000000\" font-family=\"sans-serif\" font-size=\"12\" lengthAdjust=\"spacingAndGlyphs\" textLength=\"24\" x=\"450.2\" y=\"203.1074\">eng</text><line style=\"stroke: #A80036; stroke-width: 1.5;\" x1=\"403\" x2=\"493\" y1=\"210.9375\" y2=\"210.9375\"/><text fill=\"#000000\" font-family=\"sans-serif\" font-size=\"11\" lengthAdjust=\"spacingAndGlyphs\" textLength=\"80\" x=\"408\" y=\"225.1479\">m: MassValue</text></a><!--MD5=[ebbe1d658d1005bcc118a6aa81145e00]\n",
       "class E4--><a href=\"psysml:48862a39-11e7-4605-8aed-a0acf63d7872\" target=\"_top\" title=\"psysml:48862a39-11e7-4605-8aed-a0acf63d7872\" xlink:actuate=\"onRequest\" xlink:href=\"psysml:48862a39-11e7-4605-8aed-a0acf63d7872\" xlink:show=\"new\" xlink:title=\"psysml:48862a39-11e7-4605-8aed-a0acf63d7872\" xlink:type=\"simple\"><rect fill=\"#FEFECE\" filter=\"url(#flf9c3h8ymjor)\" height=\"58.7422\" id=\"E4\" rx=\"10\" ry=\"10\" style=\"stroke: #A80036; stroke-width: 1.5;\" width=\"92\" x=\"529\" y=\"173\"/><ellipse cx=\"554.8\" cy=\"191.9688\" fill=\"#0000FF\" rx=\"11\" ry=\"11\" style=\"stroke: #A80036; stroke-width: 1.0;\"/><path d=\"M555.6438,198.7188 L553.1906,198.7188 L553.1906,188.4688 L550.05,188.4688 L550.05,186.3281 L558.7844,186.3281 L558.7844,188.4688 L555.6438,188.4688 L555.6438,198.7188 Z \"/><text fill=\"#000000\" font-family=\"sans-serif\" font-size=\"12\" font-style=\"italic\" lengthAdjust=\"spacingAndGlyphs\" textLength=\"40\" x=\"569.2\" y=\"189.1387\">«part»</text><text fill=\"#000000\" font-family=\"sans-serif\" font-size=\"12\" lengthAdjust=\"spacingAndGlyphs\" textLength=\"33\" x=\"572.7\" y=\"203.1074\">trans</text><line style=\"stroke: #A80036; stroke-width: 1.5;\" x1=\"530\" x2=\"620\" y1=\"210.9375\" y2=\"210.9375\"/><text fill=\"#000000\" font-family=\"sans-serif\" font-size=\"11\" lengthAdjust=\"spacingAndGlyphs\" textLength=\"80\" x=\"535\" y=\"225.1479\">m: MassValue</text></a><!--MD5=[270fce915f116d4de14055a7c1d9a0f3]\n",
       "class E5--><a href=\"psysml:8857df12-96f9-4753-a6e3-dc799dcb9ed4\" target=\"_top\" title=\"psysml:8857df12-96f9-4753-a6e3-dc799dcb9ed4\" xlink:actuate=\"onRequest\" xlink:href=\"psysml:8857df12-96f9-4753-a6e3-dc799dcb9ed4\" xlink:show=\"new\" xlink:title=\"psysml:8857df12-96f9-4753-a6e3-dc799dcb9ed4\" xlink:type=\"simple\"><rect fill=\"#FEFECE\" filter=\"url(#flf9c3h8ymjor)\" height=\"45.9375\" id=\"E5\" style=\"stroke: #A80036; stroke-width: 1.5;\" width=\"134\" x=\"133\" y=\"179.5\"/><ellipse cx=\"148\" cy=\"198.4688\" fill=\"#0000FF\" rx=\"11\" ry=\"11\" style=\"stroke: #A80036; stroke-width: 1.0;\"/><path d=\"M148.8438,205.2188 L146.3906,205.2188 L146.3906,194.9688 L143.25,194.9688 L143.25,192.8281 L151.9844,192.8281 L151.9844,194.9688 L148.8438,194.9688 L148.8438,205.2188 Z \"/><text fill=\"#000000\" font-family=\"sans-serif\" font-size=\"12\" font-style=\"italic\" lengthAdjust=\"spacingAndGlyphs\" textLength=\"106\" x=\"160\" y=\"195.6387\">«calculation def»</text><text fill=\"#000000\" font-family=\"sans-serif\" font-size=\"12\" lengthAdjust=\"spacingAndGlyphs\" textLength=\"59\" x=\"183.5\" y=\"209.6074\">MassSum</text><line style=\"stroke: #A80036; stroke-width: 1.5;\" x1=\"134\" x2=\"266\" y1=\"217.4375\" y2=\"217.4375\"/></a><!--MD5=[60a26617385b1d2d0262a64233df1f8d]\n",
       "class E6--><a href=\"psysml:1d10ff1d-94f3-4fcc-ad21-5a3c75a7ba0b\" target=\"_top\" title=\"psysml:1d10ff1d-94f3-4fcc-ad21-5a3c75a7ba0b\" xlink:actuate=\"onRequest\" xlink:href=\"psysml:1d10ff1d-94f3-4fcc-ad21-5a3c75a7ba0b\" xlink:show=\"new\" xlink:title=\"psysml:1d10ff1d-94f3-4fcc-ad21-5a3c75a7ba0b\" xlink:type=\"simple\"><rect fill=\"#FEFECE\" filter=\"url(#flf9c3h8ymjor)\" height=\"45.9375\" id=\"E6\" rx=\"10\" ry=\"10\" style=\"stroke: #A80036; stroke-width: 1.5;\" width=\"117\" x=\"376.5\" y=\"54\"/><ellipse cx=\"391.5\" cy=\"72.9688\" fill=\"#0000FF\" rx=\"11\" ry=\"11\" style=\"stroke: #A80036; stroke-width: 1.0;\"/><path d=\"M392.3438,79.7188 L389.8906,79.7188 L389.8906,69.4688 L386.75,69.4688 L386.75,67.3281 L395.4844,67.3281 L395.4844,69.4688 L392.3438,69.4688 L392.3438,79.7188 Z \"/><text fill=\"#000000\" font-family=\"sans-serif\" font-size=\"12\" font-style=\"italic\" lengthAdjust=\"spacingAndGlyphs\" textLength=\"82\" x=\"407\" y=\"70.1387\">«calculation»</text><text fill=\"#000000\" font-family=\"sans-serif\" font-size=\"12\" lengthAdjust=\"spacingAndGlyphs\" textLength=\"85\" x=\"405.5\" y=\"84.1074\">ms: MassSum</text><line style=\"stroke: #A80036; stroke-width: 1.5;\" x1=\"377.5\" x2=\"492.5\" y1=\"91.9375\" y2=\"91.9375\"/></a><!--MD5=[2156ba9850f5573cc1fc38a6a4b2f02b]\n",
       "class E7--><a href=\"psysml:86e0ef61-a473-4ef3-8b23-ebbfee168e1c\" target=\"_top\" title=\"psysml:86e0ef61-a473-4ef3-8b23-ebbfee168e1c\" xlink:actuate=\"onRequest\" xlink:href=\"psysml:86e0ef61-a473-4ef3-8b23-ebbfee168e1c\" xlink:show=\"new\" xlink:title=\"psysml:86e0ef61-a473-4ef3-8b23-ebbfee168e1c\" xlink:type=\"simple\"><rect fill=\"#FEFECE\" filter=\"url(#flf9c3h8ymjor)\" height=\"71.5469\" id=\"E7\" style=\"stroke: #A80036; stroke-width: 1.5;\" width=\"148\" x=\"193\" y=\"41\"/><ellipse cx=\"214.3\" cy=\"59.9688\" fill=\"#0000FF\" rx=\"11\" ry=\"11\" style=\"stroke: #A80036; stroke-width: 1.0;\"/><path d=\"M215.1438,66.7188 L212.6906,66.7188 L212.6906,56.4688 L209.55,56.4688 L209.55,54.3281 L218.2844,54.3281 L218.2844,56.4688 L215.1438,56.4688 L215.1438,66.7188 Z \"/><text fill=\"#000000\" font-family=\"sans-serif\" font-size=\"12\" font-style=\"italic\" lengthAdjust=\"spacingAndGlyphs\" textLength=\"106\" x=\"227.7\" y=\"57.1387\">«calculation def»</text><text fill=\"#000000\" font-family=\"sans-serif\" font-size=\"12\" lengthAdjust=\"spacingAndGlyphs\" textLength=\"67\" x=\"247.2\" y=\"71.1074\">MassSum1</text><line style=\"stroke: #A80036; stroke-width: 1.5;\" x1=\"194\" x2=\"340\" y1=\"78.9375\" y2=\"78.9375\"/><text fill=\"#000000\" font-family=\"sans-serif\" font-size=\"11\" lengthAdjust=\"spacingAndGlyphs\" textLength=\"136\" x=\"199\" y=\"93.1479\">partMasses: MassValue</text><text fill=\"#000000\" font-family=\"sans-serif\" font-size=\"11\" lengthAdjust=\"spacingAndGlyphs\" textLength=\"124\" x=\"199\" y=\"105.9526\">totalMass: MassValue</text></a><!--MD5=[b9389687b975829384b498ac4b7476b2]\n",
       "class E8--><a href=\"psysml:5bbc6089-c972-4222-8f32-76d519ddb8cd\" target=\"_top\" title=\"psysml:5bbc6089-c972-4222-8f32-76d519ddb8cd\" xlink:actuate=\"onRequest\" xlink:href=\"psysml:5bbc6089-c972-4222-8f32-76d519ddb8cd\" xlink:show=\"new\" xlink:title=\"psysml:5bbc6089-c972-4222-8f32-76d519ddb8cd\" xlink:type=\"simple\"><rect fill=\"#FEFECE\" filter=\"url(#flf9c3h8ymjor)\" height=\"71.5469\" id=\"E8\" rx=\"10\" ry=\"10\" style=\"stroke: #A80036; stroke-width: 1.5;\" width=\"125\" x=\"32.5\" y=\"41\"/><ellipse cx=\"47.5\" cy=\"59.9688\" fill=\"#0000FF\" rx=\"11\" ry=\"11\" style=\"stroke: #A80036; stroke-width: 1.0;\"/><path d=\"M48.3438,66.7188 L45.8906,66.7188 L45.8906,56.4688 L42.75,56.4688 L42.75,54.3281 L51.4844,54.3281 L51.4844,56.4688 L48.3438,56.4688 L48.3438,66.7188 Z \"/><text fill=\"#000000\" font-family=\"sans-serif\" font-size=\"12\" font-style=\"italic\" lengthAdjust=\"spacingAndGlyphs\" textLength=\"82\" x=\"67\" y=\"57.1387\">«calculation»</text><text fill=\"#000000\" font-family=\"sans-serif\" font-size=\"12\" lengthAdjust=\"spacingAndGlyphs\" textLength=\"93\" x=\"61.5\" y=\"71.1074\">ms1: MassSum</text><line style=\"stroke: #A80036; stroke-width: 1.5;\" x1=\"33.5\" x2=\"156.5\" y1=\"78.9375\" y2=\"78.9375\"/><text fill=\"#000000\" font-family=\"sans-serif\" font-size=\"11\" lengthAdjust=\"spacingAndGlyphs\" textLength=\"67\" x=\"38.5\" y=\"93.1479\">partMasses</text><text fill=\"#000000\" font-family=\"sans-serif\" font-size=\"11\" lengthAdjust=\"spacingAndGlyphs\" textLength=\"55\" x=\"38.5\" y=\"105.9526\">totalMass</text></a><!--MD5=[209b3feb70ccb6233bfe1053d122c12c]\n",
       "reverse link E2 to E3--><a href=\"psysml:5beb719b-2071-4403-a403-a4a2a93a4090\" target=\"_top\" title=\"psysml:5beb719b-2071-4403-a403-a4a2a93a4090\" xlink:actuate=\"onRequest\" xlink:href=\"psysml:5beb719b-2071-4403-a403-a4a2a93a4090\" xlink:show=\"new\" xlink:title=\"psysml:5beb719b-2071-4403-a403-a4a2a93a4090\" xlink:type=\"simple\"><path d=\"M536.08,115.85 C517.3,134.11 495.13,155.66 477.74,172.58 \" fill=\"none\" id=\"E2&lt;-E3\" style=\"stroke: #A80036; stroke-width: 1.0;\"/><polygon fill=\"#A80036\" points=\"545.54,106.64,538.4499,107.9553,536.937,115.0059,544.0271,113.6906,545.54,106.64\" style=\"stroke: #A80036; stroke-width: 1.0;\"/></a><!--MD5=[9618e71518536f8baf3342ff6fdab317]\n",
       "reverse link E2 to E4--><a href=\"psysml:48862a39-11e7-4605-8aed-a0acf63d7872\" target=\"_top\" title=\"psysml:48862a39-11e7-4605-8aed-a0acf63d7872\" xlink:actuate=\"onRequest\" xlink:href=\"psysml:48862a39-11e7-4605-8aed-a0acf63d7872\" xlink:show=\"new\" xlink:title=\"psysml:48862a39-11e7-4605-8aed-a0acf63d7872\" xlink:type=\"simple\"><path d=\"M575,119.66 C575,137.05 575,156.83 575,172.58 \" fill=\"none\" id=\"E2&lt;-E4\" style=\"stroke: #A80036; stroke-width: 1.0;\"/><polygon fill=\"#A80036\" points=\"575,106.64,571,112.64,575,118.64,579,112.64,575,106.64\" style=\"stroke: #A80036; stroke-width: 1.0;\"/></a><!--MD5=[25b190c987b1e74e5126d372c5a73af1]\n",
       "link E6 to E5--><a href=\"psysml:9917c25f-6195-4027-a1da-c593e3e3b530\" target=\"_top\" title=\"psysml:9917c25f-6195-4027-a1da-c593e3e3b530\" xlink:actuate=\"onRequest\" xlink:href=\"psysml:9917c25f-6195-4027-a1da-c593e3e3b530\" xlink:show=\"new\" xlink:title=\"psysml:9917c25f-6195-4027-a1da-c593e3e3b530\" xlink:type=\"simple\"><path d=\"M392.99,100.08 C355.92,119.56 301.49,148.17 259.87,170.04 \" fill=\"none\" id=\"E6-&gt;E5\" style=\"stroke: #A80036; stroke-width: 1.0;\"/><polygon fill=\"#FFFFFF\" points=\"242.05,179.4,255.6092,164.3618,262.1247,176.7533,242.05,179.4\" style=\"stroke: #A80036; stroke-width: 1.0;\"/><ellipse cx=\"261.5851\" cy=\"163.4793\" fill=\"#A80036\" rx=\"2\" ry=\"2\" style=\"stroke: #A80036; stroke-width: 1.0;\"/><ellipse cx=\"266.239\" cy=\"172.3303\" fill=\"#A80036\" rx=\"2\" ry=\"2\" style=\"stroke: #A80036; stroke-width: 1.0;\"/></a><!--MD5=[1ccb2481ffa92f8d51a74ee30c51832a]\n",
       "link E8 to E5--><a href=\"psysml:bf4de082-8867-4b4d-b459-dc33df5641b4\" target=\"_top\" title=\"psysml:bf4de082-8867-4b4d-b459-dc33df5641b4\" xlink:actuate=\"onRequest\" xlink:href=\"psysml:bf4de082-8867-4b4d-b459-dc33df5641b4\" xlink:show=\"new\" xlink:title=\"psysml:bf4de082-8867-4b4d-b459-dc33df5641b4\" xlink:type=\"simple\"><path d=\"M124.81,113.06 C138.29,128.92 154.24,147.68 167.97,163.83 \" fill=\"none\" id=\"E8-&gt;E5\" style=\"stroke: #A80036; stroke-width: 1.0;\"/><polygon fill=\"#FFFFFF\" points=\"181.04,179.2,163.4008,169.2572,174.0677,160.1898,181.04,179.2\" style=\"stroke: #A80036; stroke-width: 1.0;\"/><ellipse cx=\"161.233\" cy=\"163.6189\" fill=\"#A80036\" rx=\"2\" ry=\"2\" style=\"stroke: #A80036; stroke-width: 1.0;\"/><ellipse cx=\"168.8522\" cy=\"157.1422\" fill=\"#A80036\" rx=\"2\" ry=\"2\" style=\"stroke: #A80036; stroke-width: 1.0;\"/></a><!--MD5=[549e3e9a322d42241c9eee74bb3bb825]\n",
       "@startuml\r\n",
       " \r\n",
       "package \"CalculationExample\" as E1  [[psysml:7249bcac-c63a-48a6-adec-7cf675138100 ]]  {\r\n",
       "comp usage \"vehicle\" as E2  <<(T,blue)part>> [[psysml:14188455-78e6-45cf-9446-0197417271d8 ]] {\r\n",
       "m: MassValue\r\n",
       "}\r\n",
       "comp usage \"eng\" as E3  <<(T,blue)part>> [[psysml:5beb719b-2071-4403-a403-a4a2a93a4090 ]] {\r\n",
       "m: MassValue\r\n",
       "}\r\n",
       "comp usage \"trans\" as E4  <<(T,blue)part>> [[psysml:48862a39-11e7-4605-8aed-a0acf63d7872 ]] {\r\n",
       "m: MassValue\r\n",
       "}\r\n",
       "comp def \"MassSum\" as E5  <<(T,blue)calculation def>> [[psysml:8857df12-96f9-4753-a6e3-dc799dcb9ed4 ]] {\r\n",
       "}\r\n",
       "comp usage \"ms: MassSum\" as E6  <<(T,blue)calculation>> [[psysml:1d10ff1d-94f3-4fcc-ad21-5a3c75a7ba0b ]] {\r\n",
       "}\r\n",
       "comp def \"MassSum1\" as E7  <<(T,blue)calculation def>> [[psysml:86e0ef61-a473-4ef3-8b23-ebbfee168e1c ]] {\r\n",
       "partMasses: MassValue\r\n",
       "totalMass: MassValue\r\n",
       "}\r\n",
       "comp usage \"ms1: MassSum\" as E8  <<(T,blue)calculation>> [[psysml:5bbc6089-c972-4222-8f32-76d519ddb8cd ]] {\r\n",
       "partMasses\r\n",
       "totalMass\r\n",
       "}\r\n",
       "E2 *- - E3 [[psysml:5beb719b-2071-4403-a403-a4a2a93a4090 ]] \r\n",
       "E2 *- - E4 [[psysml:48862a39-11e7-4605-8aed-a0acf63d7872 ]] \r\n",
       "E6 - -:|> E5 [[psysml:9917c25f-6195-4027-a1da-c593e3e3b530 ]] \r\n",
       "E8 - -:|> E5 [[psysml:bf4de082-8867-4b4d-b459-dc33df5641b4 ]] \r\n",
       "}\r\n",
       "@enduml\r\n",
       "\n",
       "PlantUML version 1.2020.13(Sat Jun 13 12:26:38 UTC 2020)\n",
       "(EPL source distribution)\n",
       "Java Runtime: OpenJDK Runtime Environment\n",
       "JVM: OpenJDK 64-Bit Server VM\n",
       "Default Encoding: UTF-8\n",
       "Language: en\n",
       "Country: null\n",
       "--></g></svg>"
      ]
     },
     "execution_count": 3,
     "metadata": {},
     "output_type": "execute_result"
    }
   ],
   "source": [
    "%viz --style=\"COMPTREE\" --view=\"Tree\" \"CalculationExample\""
   ]
  },
  {
   "cell_type": "code",
   "execution_count": 4,
   "id": "american-female",
   "metadata": {
    "execution": {
     "iopub.execute_input": "2021-03-26T09:15:55.060130Z",
     "iopub.status.busy": "2021-03-26T09:15:55.059782Z",
     "iopub.status.idle": "2021-03-26T09:15:55.300322Z",
     "shell.execute_reply": "2021-03-26T09:15:55.298932Z"
    }
   },
   "outputs": [
    {
     "data": {
      "image/svg+xml": [
       "<?xml version=\"1.0\" encoding=\"UTF-8\" standalone=\"no\"?><svg xmlns=\"http://www.w3.org/2000/svg\" xmlns:xlink=\"http://www.w3.org/1999/xlink\" contentScriptType=\"application/ecmascript\" contentStyleType=\"text/css\" height=\"420px\" preserveAspectRatio=\"none\" style=\"width:603px;height:420px;background:#000000;\" version=\"1.1\" viewBox=\"0 0 603 420\" width=\"603px\" zoomAndPan=\"magnify\"><defs/><g><rect fill=\"#100525\" height=\"1\" style=\"stroke: #100525; stroke-width: 1.0;\" width=\"1\" x=\"0\" y=\"0\"/><rect fill=\"#F6C914\" height=\"58\" style=\"stroke: #F6C914; stroke-width: 1.0;\" width=\"602\" x=\"0\" y=\"0\"/><image height=\"58\" width=\"454\" x=\"1\" xlink:href=\"data:image/png;base64,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\" y=\"1\"/><rect fill=\"#FFFFFF\" height=\"205.5625\" style=\"stroke: #FFFFFF; stroke-width: 1.0;\" width=\"602\" x=\"0\" y=\"58\"/><text fill=\"#000000\" font-family=\"sans-serif\" font-size=\"12\" font-weight=\"bold\" lengthAdjust=\"spacingAndGlyphs\" textLength=\"159\" x=\"5\" y=\"74.1387\">Welcome to PlantUML!</text><text fill=\"#000000\" font-family=\"sans-serif\" font-size=\"12\" lengthAdjust=\"spacingAndGlyphs\" textLength=\"0\" x=\"9\" y=\"88.1074\"/><text fill=\"#000000\" font-family=\"sans-serif\" font-size=\"12\" lengthAdjust=\"spacingAndGlyphs\" textLength=\"293\" x=\"5\" y=\"102.0762\">If you use this software, you accept its license.</text><text fill=\"#000000\" font-family=\"sans-serif\" font-size=\"12\" lengthAdjust=\"spacingAndGlyphs\" textLength=\"107\" x=\"5\" y=\"116.0449\">(details by typing</text><text fill=\"#000000\" font-family=\"monospace\" font-size=\"12\" lengthAdjust=\"spacingAndGlyphs\" textLength=\"49\" x=\"116\" y=\"116.0449\">license</text><text fill=\"#000000\" font-family=\"sans-serif\" font-size=\"12\" lengthAdjust=\"spacingAndGlyphs\" textLength=\"56\" x=\"169\" y=\"116.0449\">keyword)</text><text fill=\"#000000\" font-family=\"sans-serif\" font-size=\"12\" lengthAdjust=\"spacingAndGlyphs\" textLength=\"0\" x=\"9\" y=\"130.0137\"/><text fill=\"#000000\" font-family=\"sans-serif\" font-size=\"12\" lengthAdjust=\"spacingAndGlyphs\" textLength=\"283\" x=\"5\" y=\"143.9824\">You can start with a simple UML Diagram like:</text><text fill=\"#000000\" font-family=\"sans-serif\" font-size=\"12\" lengthAdjust=\"spacingAndGlyphs\" textLength=\"0\" x=\"9\" y=\"157.9512\"/><text fill=\"#000000\" font-family=\"monospace\" font-size=\"12\" lengthAdjust=\"spacingAndGlyphs\" textLength=\"119\" x=\"5\" y=\"171.9199\">Bob-&gt;Alice: Hello</text><text fill=\"#000000\" font-family=\"sans-serif\" font-size=\"12\" lengthAdjust=\"spacingAndGlyphs\" textLength=\"0\" x=\"9\" y=\"185.8887\"/><text fill=\"#000000\" font-family=\"sans-serif\" font-size=\"12\" lengthAdjust=\"spacingAndGlyphs\" textLength=\"14\" x=\"5\" y=\"199.8574\">Or</text><text fill=\"#000000\" font-family=\"sans-serif\" font-size=\"12\" lengthAdjust=\"spacingAndGlyphs\" textLength=\"0\" x=\"9\" y=\"213.8262\"/><text fill=\"#000000\" font-family=\"monospace\" font-size=\"12\" lengthAdjust=\"spacingAndGlyphs\" textLength=\"91\" x=\"5\" y=\"227.7949\">class Example</text><text fill=\"#000000\" font-family=\"sans-serif\" font-size=\"12\" lengthAdjust=\"spacingAndGlyphs\" textLength=\"0\" x=\"9\" y=\"241.7637\"/><text fill=\"#000000\" font-family=\"sans-serif\" font-size=\"12\" lengthAdjust=\"spacingAndGlyphs\" textLength=\"349\" x=\"5\" y=\"255.7324\">You will find more information about PlantUML syntax on</text><text fill=\"#000000\" font-family=\"sans-serif\" font-size=\"12\" lengthAdjust=\"spacingAndGlyphs\" text-decoration=\"underline\" textLength=\"129\" x=\"358\" y=\"255.7324\">https://plantuml.com</text><image height=\"71\" width=\"80\" x=\"516\" xlink:href=\"data:image/png;base64,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\" y=\"64\"/><rect fill=\"#000000\" height=\"96.4844\" style=\"stroke: #000000; stroke-width: 1.0;\" width=\"602\" x=\"0\" y=\"263.5625\"/><rect fill=\"#33FF02\" height=\"21.2969\" style=\"stroke: #33FF02; stroke-width: 1.0;\" width=\"170\" x=\"5\" y=\"268.5625\"/><text fill=\"#000000\" font-family=\"sans-serif\" font-size=\"14\" font-weight=\"bold\" lengthAdjust=\"spacingAndGlyphs\" textLength=\"168\" x=\"6\" y=\"283.5625\">[From string (line 2) ]</text><text fill=\"#33FF02\" font-family=\"sans-serif\" font-size=\"14\" font-weight=\"bold\" lengthAdjust=\"spacingAndGlyphs\" textLength=\"0\" x=\"10\" y=\"303.8594\"/><text fill=\"#33FF02\" font-family=\"sans-serif\" font-size=\"14\" font-weight=\"bold\" lengthAdjust=\"spacingAndGlyphs\" textLength=\"79\" x=\"5\" y=\"320.1563\">@startuml</text><text fill=\"#33FF02\" font-family=\"sans-serif\" font-size=\"14\" font-weight=\"bold\" lengthAdjust=\"spacingAndGlyphs\" textLength=\"0\" x=\"10\" y=\"336.4531\"/><text fill=\"#FF0000\" font-family=\"sans-serif\" font-size=\"14\" font-weight=\"bold\" lengthAdjust=\"spacingAndGlyphs\" textLength=\"142\" x=\"10\" y=\"352.75\">Empty description</text><rect fill=\"#F6C914\" height=\"58\" style=\"stroke: #F6C914; stroke-width: 1.0;\" width=\"602\" x=\"0\" y=\"360.0469\"/><image height=\"58\" width=\"454\" x=\"1\" xlink:href=\"data:image/png;base64,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\" y=\"361.0469\"/><!--MD5=[f59edd8218d337f74d0c332fc6737304]\n",
       "@startuml\r\n",
       " \r\n",
       "@enduml\r\n",
       "\n",
       "PlantUML version 1.2020.13(Sat Jun 13 12:26:38 UTC 2020)\n",
       "(EPL source distribution)\n",
       "Java Runtime: OpenJDK Runtime Environment\n",
       "JVM: OpenJDK 64-Bit Server VM\n",
       "Default Encoding: UTF-8\n",
       "Language: en\n",
       "Country: null\n",
       "--></g></svg>"
      ]
     },
     "execution_count": 4,
     "metadata": {},
     "output_type": "execute_result"
    }
   ],
   "source": [
    "%viz --style=\"COMPTREE\" --view=\"State\" \"CalculationExample\""
   ]
  },
  {
   "cell_type": "code",
   "execution_count": 5,
   "id": "senior-silly",
   "metadata": {
    "execution": {
     "iopub.execute_input": "2021-03-26T09:15:55.351220Z",
     "iopub.status.busy": "2021-03-26T09:15:55.350774Z",
     "iopub.status.idle": "2021-03-26T09:15:55.403347Z",
     "shell.execute_reply": "2021-03-26T09:15:55.403684Z"
    }
   },
   "outputs": [
    {
     "data": {
      "image/svg+xml": [
       "<?xml version=\"1.0\" encoding=\"UTF-8\" standalone=\"no\"?><svg xmlns=\"http://www.w3.org/2000/svg\" xmlns:xlink=\"http://www.w3.org/1999/xlink\" contentScriptType=\"application/ecmascript\" contentStyleType=\"text/css\" height=\"246px\" preserveAspectRatio=\"none\" style=\"width:1014px;height:246px;\" version=\"1.1\" viewBox=\"0 0 1014 246\" width=\"1014px\" zoomAndPan=\"magnify\"><defs><filter height=\"300%\" id=\"fc4hso93gc702\" width=\"300%\" x=\"-1\" y=\"-1\"><feGaussianBlur result=\"blurOut\" stdDeviation=\"2.0\"/><feColorMatrix in=\"blurOut\" result=\"blurOut2\" type=\"matrix\" values=\"0 0 0 0 0 0 0 0 0 0 0 0 0 0 0 0 0 0 .4 0\"/><feOffset dx=\"4.0\" dy=\"4.0\" in=\"blurOut2\" result=\"blurOut3\"/><feBlend in=\"SourceGraphic\" in2=\"blurOut3\" mode=\"normal\"/></filter></defs><g><!--MD5=[fbc87193dbaf4d95561dea2c320d4a47]\n",
       "cluster E1--><a href=\"psysml:7249bcac-c63a-48a6-adec-7cf675138100\" target=\"_top\" title=\"psysml:7249bcac-c63a-48a6-adec-7cf675138100\" xlink:actuate=\"onRequest\" xlink:href=\"psysml:7249bcac-c63a-48a6-adec-7cf675138100\" xlink:show=\"new\" xlink:title=\"psysml:7249bcac-c63a-48a6-adec-7cf675138100\" xlink:type=\"simple\"><polygon fill=\"#FFFFFF\" filter=\"url(#fc4hso93gc702)\" points=\"16,6,173,6,180,28.2969,992,28.2969,992,234,16,234,16,6\" style=\"stroke: #000000; stroke-width: 1.5;\"/><line style=\"stroke: #000000; stroke-width: 1.5;\" x1=\"16\" x2=\"180\" y1=\"28.2969\" y2=\"28.2969\"/><text fill=\"#000000\" font-family=\"sans-serif\" font-size=\"14\" font-weight=\"bold\" lengthAdjust=\"spacingAndGlyphs\" textLength=\"151\" x=\"20\" y=\"20.9951\">CalculationExample</text></a><!--MD5=[e4f7fae6ed58524ba242bb0b0d3be6b7]\n",
       "cluster E2--><a href=\"psysml:14188455-78e6-45cf-9446-0197417271d8\" target=\"_top\" title=\"psysml:14188455-78e6-45cf-9446-0197417271d8\" xlink:actuate=\"onRequest\" xlink:href=\"psysml:14188455-78e6-45cf-9446-0197417271d8\" xlink:show=\"new\" xlink:title=\"psysml:14188455-78e6-45cf-9446-0197417271d8\" xlink:type=\"simple\"><rect fill=\"#FFFFFF\" filter=\"url(#fc4hso93gc702)\" height=\"161\" id=\"E2\" rx=\"10\" ry=\"10\" style=\"stroke: #A80036; stroke-width: 1.5;\" width=\"518\" x=\"450\" y=\"49\"/><rect fill=\"#FEFECE\" height=\"23.9688\" rx=\"10\" ry=\"10\" style=\"stroke: #FEFECE; stroke-width: 1.5;\" width=\"518\" x=\"450\" y=\"49\"/><rect fill=\"#FEFECE\" height=\"10\" style=\"stroke: #FEFECE; stroke-width: 1.5;\" width=\"518\" x=\"450\" y=\"62.9688\"/><rect fill=\"none\" height=\"161\" id=\"E2\" rx=\"10\" ry=\"10\" style=\"stroke: #A80036; stroke-width: 1.5;\" width=\"518\" x=\"450\" y=\"49\"/><text fill=\"#000000\" font-family=\"sans-serif\" font-size=\"12\" lengthAdjust=\"spacingAndGlyphs\" textLength=\"43\" x=\"687.5\" y=\"65.1387\">vehicle</text><line style=\"stroke: #A80036; stroke-width: 1.0;\" x1=\"450\" x2=\"968\" y1=\"72.9688\" y2=\"72.9688\"/></a><!--MD5=[f6df4d0ebaf0b5dfb2ced0ae5af7c670]\n",
       "cluster E4--><a href=\"psysml:5beb719b-2071-4403-a403-a4a2a93a4090\" target=\"_top\" title=\"psysml:5beb719b-2071-4403-a403-a4a2a93a4090\" xlink:actuate=\"onRequest\" xlink:href=\"psysml:5beb719b-2071-4403-a403-a4a2a93a4090\" xlink:show=\"new\" xlink:title=\"psysml:5beb719b-2071-4403-a403-a4a2a93a4090\" xlink:type=\"simple\"><rect fill=\"#FFFFFF\" filter=\"url(#fc4hso93gc702)\" height=\"94\" id=\"E4\" rx=\"10\" ry=\"10\" style=\"stroke: #A80036; stroke-width: 1.5;\" width=\"156\" x=\"788\" y=\"92\"/><rect fill=\"#FEFECE\" height=\"23.9688\" rx=\"10\" ry=\"10\" style=\"stroke: #FEFECE; stroke-width: 1.5;\" width=\"156\" x=\"788\" y=\"92\"/><rect fill=\"#FEFECE\" height=\"10\" style=\"stroke: #FEFECE; stroke-width: 1.5;\" width=\"156\" x=\"788\" y=\"105.9688\"/><rect fill=\"none\" height=\"94\" id=\"E4\" rx=\"10\" ry=\"10\" style=\"stroke: #A80036; stroke-width: 1.5;\" width=\"156\" x=\"788\" y=\"92\"/><text fill=\"#000000\" font-family=\"sans-serif\" font-size=\"12\" lengthAdjust=\"spacingAndGlyphs\" textLength=\"24\" x=\"854\" y=\"108.1387\">eng</text><line style=\"stroke: #A80036; stroke-width: 1.0;\" x1=\"788\" x2=\"944\" y1=\"115.9688\" y2=\"115.9688\"/></a><!--MD5=[14e3b0961a2654348d326746436168a1]\n",
       "cluster E6--><a href=\"psysml:48862a39-11e7-4605-8aed-a0acf63d7872\" target=\"_top\" title=\"psysml:48862a39-11e7-4605-8aed-a0acf63d7872\" xlink:actuate=\"onRequest\" xlink:href=\"psysml:48862a39-11e7-4605-8aed-a0acf63d7872\" xlink:show=\"new\" xlink:title=\"psysml:48862a39-11e7-4605-8aed-a0acf63d7872\" xlink:type=\"simple\"><rect fill=\"#FFFFFF\" filter=\"url(#fc4hso93gc702)\" height=\"94\" id=\"E6\" rx=\"10\" ry=\"10\" style=\"stroke: #A80036; stroke-width: 1.5;\" width=\"156\" x=\"608\" y=\"92\"/><rect fill=\"#FEFECE\" height=\"23.9688\" rx=\"10\" ry=\"10\" style=\"stroke: #FEFECE; stroke-width: 1.5;\" width=\"156\" x=\"608\" y=\"92\"/><rect fill=\"#FEFECE\" height=\"10\" style=\"stroke: #FEFECE; stroke-width: 1.5;\" width=\"156\" x=\"608\" y=\"105.9688\"/><rect fill=\"none\" height=\"94\" id=\"E6\" rx=\"10\" ry=\"10\" style=\"stroke: #A80036; stroke-width: 1.5;\" width=\"156\" x=\"608\" y=\"92\"/><text fill=\"#000000\" font-family=\"sans-serif\" font-size=\"12\" lengthAdjust=\"spacingAndGlyphs\" textLength=\"33\" x=\"669.5\" y=\"108.1387\">trans</text><line style=\"stroke: #A80036; stroke-width: 1.0;\" x1=\"608\" x2=\"764\" y1=\"115.9688\" y2=\"115.9688\"/></a><!--MD5=[b9389687b975829384b498ac4b7476b2]\n",
       "class E8--><a href=\"psysml:8857df12-96f9-4753-a6e3-dc799dcb9ed4\" target=\"_top\" title=\"psysml:8857df12-96f9-4753-a6e3-dc799dcb9ed4\" xlink:actuate=\"onRequest\" xlink:href=\"psysml:8857df12-96f9-4753-a6e3-dc799dcb9ed4\" xlink:show=\"new\" xlink:title=\"psysml:8857df12-96f9-4753-a6e3-dc799dcb9ed4\" xlink:type=\"simple\"><rect fill=\"#FEFECE\" filter=\"url(#fc4hso93gc702)\" height=\"53.9375\" id=\"E8\" style=\"stroke: #A80036; stroke-width: 1.5;\" width=\"182\" x=\"249\" y=\"121.5\"/><ellipse cx=\"264\" cy=\"140.4688\" fill=\"#ADD1B2\" rx=\"11\" ry=\"11\" style=\"stroke: #A80036; stroke-width: 1.0;\"/><path d=\"M266.9688,146.1094 Q266.3906,146.4063 265.75,146.5469 Q265.1094,146.7031 264.4063,146.7031 Q261.9063,146.7031 260.5781,145.0625 Q259.2656,143.4063 259.2656,140.2813 Q259.2656,137.1563 260.5781,135.5 Q261.9063,133.8438 264.4063,133.8438 Q265.1094,133.8438 265.75,134 Q266.4063,134.1563 266.9688,134.4531 L266.9688,137.1719 Q266.3438,136.5938 265.75,136.3281 Q265.1563,136.0469 264.5313,136.0469 Q263.1875,136.0469 262.5,137.125 Q261.8125,138.1875 261.8125,140.2813 Q261.8125,142.375 262.5,143.4531 Q263.1875,144.5156 264.5313,144.5156 Q265.1563,144.5156 265.75,144.25 Q266.3438,143.9688 266.9688,143.3906 L266.9688,146.1094 Z \"/><text fill=\"#000000\" font-family=\"sans-serif\" font-size=\"12\" font-style=\"italic\" lengthAdjust=\"spacingAndGlyphs\" textLength=\"154\" x=\"276\" y=\"137.6387\">«(T,blue)calculation def»</text><text fill=\"#000000\" font-family=\"sans-serif\" font-size=\"12\" lengthAdjust=\"spacingAndGlyphs\" textLength=\"59\" x=\"323.5\" y=\"151.6074\">MassSum</text><line style=\"stroke: #A80036; stroke-width: 1.5;\" x1=\"250\" x2=\"430\" y1=\"159.4375\" y2=\"159.4375\"/><line style=\"stroke: #A80036; stroke-width: 1.5;\" x1=\"250\" x2=\"430\" y1=\"167.4375\" y2=\"167.4375\"/></a><!--MD5=[fd4143e9d270a159db93a4ea2a975926]\n",
       "class E9--><a href=\"psysml:86e0ef61-a473-4ef3-8b23-ebbfee168e1c\" target=\"_top\" title=\"psysml:86e0ef61-a473-4ef3-8b23-ebbfee168e1c\" xlink:actuate=\"onRequest\" xlink:href=\"psysml:86e0ef61-a473-4ef3-8b23-ebbfee168e1c\" xlink:show=\"new\" xlink:title=\"psysml:86e0ef61-a473-4ef3-8b23-ebbfee168e1c\" xlink:type=\"simple\"><rect fill=\"#FEFECE\" filter=\"url(#fc4hso93gc702)\" height=\"53.9375\" id=\"E9\" style=\"stroke: #A80036; stroke-width: 1.5;\" width=\"182\" x=\"32\" y=\"121.5\"/><ellipse cx=\"47\" cy=\"140.4688\" fill=\"#ADD1B2\" rx=\"11\" ry=\"11\" style=\"stroke: #A80036; stroke-width: 1.0;\"/><path d=\"M49.9688,146.1094 Q49.3906,146.4063 48.75,146.5469 Q48.1094,146.7031 47.4063,146.7031 Q44.9063,146.7031 43.5781,145.0625 Q42.2656,143.4063 42.2656,140.2813 Q42.2656,137.1563 43.5781,135.5 Q44.9063,133.8438 47.4063,133.8438 Q48.1094,133.8438 48.75,134 Q49.4063,134.1563 49.9688,134.4531 L49.9688,137.1719 Q49.3438,136.5938 48.75,136.3281 Q48.1563,136.0469 47.5313,136.0469 Q46.1875,136.0469 45.5,137.125 Q44.8125,138.1875 44.8125,140.2813 Q44.8125,142.375 45.5,143.4531 Q46.1875,144.5156 47.5313,144.5156 Q48.1563,144.5156 48.75,144.25 Q49.3438,143.9688 49.9688,143.3906 L49.9688,146.1094 Z \"/><text fill=\"#000000\" font-family=\"sans-serif\" font-size=\"12\" font-style=\"italic\" lengthAdjust=\"spacingAndGlyphs\" textLength=\"154\" x=\"59\" y=\"137.6387\">«(T,blue)calculation def»</text><text fill=\"#000000\" font-family=\"sans-serif\" font-size=\"12\" lengthAdjust=\"spacingAndGlyphs\" textLength=\"67\" x=\"102.5\" y=\"151.6074\">MassSum1</text><line style=\"stroke: #A80036; stroke-width: 1.5;\" x1=\"33\" x2=\"213\" y1=\"159.4375\" y2=\"159.4375\"/><line style=\"stroke: #A80036; stroke-width: 1.5;\" x1=\"33\" x2=\"213\" y1=\"167.4375\" y2=\"167.4375\"/></a><g id=\"E1.E2.E3\"><a href=\"psysml:536fae04-334d-4f68-a23e-e57d7170c38b\" target=\"_top\" title=\"psysml:536fae04-334d-4f68-a23e-e57d7170c38b\" xlink:actuate=\"onRequest\" xlink:href=\"psysml:536fae04-334d-4f68-a23e-e57d7170c38b\" xlink:show=\"new\" xlink:title=\"psysml:536fae04-334d-4f68-a23e-e57d7170c38b\" xlink:type=\"simple\"><rect fill=\"#FEFECE\" filter=\"url(#fc4hso93gc702)\" height=\"42.9375\" id=\"E3\" rx=\"10\" ry=\"10\" style=\"stroke: #A80036; stroke-width: 1.5;\" width=\"123\" x=\"466.5\" y=\"127\"/><ellipse cx=\"483.75\" cy=\"145.9688\" fill=\"#0000FF\" rx=\"11\" ry=\"11\" style=\"stroke: #A80036; stroke-width: 1.0;\"/><path d=\"M484.5938,152.7188 L482.1406,152.7188 L482.1406,142.4688 L479,142.4688 L479,140.3281 L487.7344,140.3281 L487.7344,142.4688 L484.5938,142.4688 L484.5938,152.7188 Z \"/><text fill=\"#000000\" font-family=\"sans-serif\" font-size=\"12\" font-style=\"italic\" lengthAdjust=\"spacingAndGlyphs\" textLength=\"69\" x=\"506.75\" y=\"143.1387\">«attribute»</text><text fill=\"#000000\" font-family=\"sans-serif\" font-size=\"12\" lengthAdjust=\"spacingAndGlyphs\" textLength=\"86\" x=\"498.25\" y=\"157.1074\">m: MassValue</text></a></g><g id=\"E1.E2.E4.E5\"><a href=\"psysml:2d8c1579-6ad8-45a7-8b4f-8ac5dd6e770e\" target=\"_top\" title=\"psysml:2d8c1579-6ad8-45a7-8b4f-8ac5dd6e770e\" xlink:actuate=\"onRequest\" xlink:href=\"psysml:2d8c1579-6ad8-45a7-8b4f-8ac5dd6e770e\" xlink:show=\"new\" xlink:title=\"psysml:2d8c1579-6ad8-45a7-8b4f-8ac5dd6e770e\" xlink:type=\"simple\"><rect fill=\"#FEFECE\" filter=\"url(#fc4hso93gc702)\" height=\"42.9375\" id=\"E5\" rx=\"10\" ry=\"10\" style=\"stroke: #A80036; stroke-width: 1.5;\" width=\"123\" x=\"804.5\" y=\"127\"/><ellipse cx=\"821.75\" cy=\"145.9688\" fill=\"#0000FF\" rx=\"11\" ry=\"11\" style=\"stroke: #A80036; stroke-width: 1.0;\"/><path d=\"M822.5938,152.7188 L820.1406,152.7188 L820.1406,142.4688 L817,142.4688 L817,140.3281 L825.7344,140.3281 L825.7344,142.4688 L822.5938,142.4688 L822.5938,152.7188 Z \"/><text fill=\"#000000\" font-family=\"sans-serif\" font-size=\"12\" font-style=\"italic\" lengthAdjust=\"spacingAndGlyphs\" textLength=\"69\" x=\"844.75\" y=\"143.1387\">«attribute»</text><text fill=\"#000000\" font-family=\"sans-serif\" font-size=\"12\" lengthAdjust=\"spacingAndGlyphs\" textLength=\"86\" x=\"836.25\" y=\"157.1074\">m: MassValue</text></a></g><g id=\"E1.E2.E6.E7\"><a href=\"psysml:aae9b164-5c75-4cd2-bd76-7fd4ffe374bb\" target=\"_top\" title=\"psysml:aae9b164-5c75-4cd2-bd76-7fd4ffe374bb\" xlink:actuate=\"onRequest\" xlink:href=\"psysml:aae9b164-5c75-4cd2-bd76-7fd4ffe374bb\" xlink:show=\"new\" xlink:title=\"psysml:aae9b164-5c75-4cd2-bd76-7fd4ffe374bb\" xlink:type=\"simple\"><rect fill=\"#FEFECE\" filter=\"url(#fc4hso93gc702)\" height=\"42.9375\" id=\"E7\" rx=\"10\" ry=\"10\" style=\"stroke: #A80036; stroke-width: 1.5;\" width=\"123\" x=\"624.5\" y=\"127\"/><ellipse cx=\"641.75\" cy=\"145.9688\" fill=\"#0000FF\" rx=\"11\" ry=\"11\" style=\"stroke: #A80036; stroke-width: 1.0;\"/><path d=\"M642.5938,152.7188 L640.1406,152.7188 L640.1406,142.4688 L637,142.4688 L637,140.3281 L645.7344,140.3281 L645.7344,142.4688 L642.5938,142.4688 L642.5938,152.7188 Z \"/><text fill=\"#000000\" font-family=\"sans-serif\" font-size=\"12\" font-style=\"italic\" lengthAdjust=\"spacingAndGlyphs\" textLength=\"69\" x=\"664.75\" y=\"143.1387\">«attribute»</text><text fill=\"#000000\" font-family=\"sans-serif\" font-size=\"12\" lengthAdjust=\"spacingAndGlyphs\" textLength=\"86\" x=\"656.25\" y=\"157.1074\">m: MassValue</text></a></g><!--MD5=[f422d53119b48ae200fc1418d307994f]\n",
       "@startuml\r\n",
       "skinparam ranksep 8\r\n",
       "skinparam rectangle {\r\n",
       " backgroundColor<<block>> LightGreen\r\n",
       "}\r\n",
       " \r\n",
       "package \"CalculationExample\" as E1  [[psysml:7249bcac-c63a-48a6-adec-7cf675138100 ]]  {\r\n",
       "rec usage \"vehicle\" as E2  [[psysml:14188455-78e6-45cf-9446-0197417271d8 ]] {\r\n",
       "rec usage \"m: MassValue\" as E3  <<(T,blue)attribute>> [[psysml:536fae04-334d-4f68-a23e-e57d7170c38b ]] {\r\n",
       "}\r\n",
       "rec usage \"eng\" as E4  [[psysml:5beb719b-2071-4403-a403-a4a2a93a4090 ]] {\r\n",
       "rec usage \"m: MassValue\" as E5  <<(T,blue)attribute>> [[psysml:2d8c1579-6ad8-45a7-8b4f-8ac5dd6e770e ]] {\r\n",
       "}\r\n",
       "}\r\n",
       "rec usage \"trans\" as E6  [[psysml:48862a39-11e7-4605-8aed-a0acf63d7872 ]] {\r\n",
       "rec usage \"m: MassValue\" as E7  <<(T,blue)attribute>> [[psysml:aae9b164-5c75-4cd2-bd76-7fd4ffe374bb ]] {\r\n",
       "}\r\n",
       "}\r\n",
       "}\r\n",
       "def \"MassSum\" as E8  <<(T,blue)calculation def>> [[psysml:8857df12-96f9-4753-a6e3-dc799dcb9ed4 ]] \r\n",
       "def \"MassSum1\" as E9  <<(T,blue)calculation def>> [[psysml:86e0ef61-a473-4ef3-8b23-ebbfee168e1c ]] \r\n",
       "}\r\n",
       "@enduml\r\n",
       "\n",
       "PlantUML version 1.2020.13(Sat Jun 13 12:26:38 UTC 2020)\n",
       "(EPL source distribution)\n",
       "Java Runtime: OpenJDK Runtime Environment\n",
       "JVM: OpenJDK 64-Bit Server VM\n",
       "Default Encoding: UTF-8\n",
       "Language: en\n",
       "Country: null\n",
       "--></g></svg>"
      ]
     },
     "execution_count": 5,
     "metadata": {},
     "output_type": "execute_result"
    }
   ],
   "source": [
    "%viz --style=\"COMPTREE\" --view=\"Interconnection\" \"CalculationExample\""
   ]
  },
  {
   "cell_type": "code",
   "execution_count": 6,
   "id": "intense-edinburgh",
   "metadata": {
    "execution": {
     "iopub.execute_input": "2021-03-26T09:15:55.454529Z",
     "iopub.status.busy": "2021-03-26T09:15:55.454069Z",
     "iopub.status.idle": "2021-03-26T09:15:55.504504Z",
     "shell.execute_reply": "2021-03-26T09:15:55.504834Z"
    }
   },
   "outputs": [
    {
     "data": {
      "image/svg+xml": [
       "<?xml version=\"1.0\" encoding=\"UTF-8\" standalone=\"no\"?><svg xmlns=\"http://www.w3.org/2000/svg\" xmlns:xlink=\"http://www.w3.org/1999/xlink\" contentScriptType=\"application/ecmascript\" contentStyleType=\"text/css\" height=\"162px\" preserveAspectRatio=\"none\" style=\"width:683px;height:162px;\" version=\"1.1\" viewBox=\"0 0 683 162\" width=\"683px\" zoomAndPan=\"magnify\"><defs><filter height=\"300%\" id=\"f1fqpnzmjstli4\" width=\"300%\" x=\"-1\" y=\"-1\"><feGaussianBlur result=\"blurOut\" stdDeviation=\"2.0\"/><feColorMatrix in=\"blurOut\" result=\"blurOut2\" type=\"matrix\" values=\"0 0 0 0 0 0 0 0 0 0 0 0 0 0 0 0 0 0 .4 0\"/><feOffset dx=\"4.0\" dy=\"4.0\" in=\"blurOut2\" result=\"blurOut3\"/><feBlend in=\"SourceGraphic\" in2=\"blurOut3\" mode=\"normal\"/></filter></defs><g><!--MD5=[fbc87193dbaf4d95561dea2c320d4a47]\n",
       "cluster E1--><a href=\"psysml:8857df12-96f9-4753-a6e3-dc799dcb9ed4\" target=\"_top\" title=\"psysml:8857df12-96f9-4753-a6e3-dc799dcb9ed4\" xlink:actuate=\"onRequest\" xlink:href=\"psysml:8857df12-96f9-4753-a6e3-dc799dcb9ed4\" xlink:show=\"new\" xlink:title=\"psysml:8857df12-96f9-4753-a6e3-dc799dcb9ed4\" xlink:type=\"simple\"><rect fill=\"#FFFFFF\" filter=\"url(#f1fqpnzmjstli4)\" height=\"87.72\" id=\"E1\" style=\"stroke: #A80036; stroke-width: 1.5;\" width=\"128\" x=\"28\" y=\"42.0986\"/><rect fill=\"#FEFECE\" height=\"37.9375\" style=\"stroke: #A80036; stroke-width: 1.5;\" width=\"128\" x=\"28\" y=\"42.0986\"/><text fill=\"#000000\" font-family=\"sans-serif\" font-size=\"12\" font-style=\"italic\" lengthAdjust=\"spacingAndGlyphs\" textLength=\"106\" x=\"39\" y=\"58.2373\">«calculation def»</text><text fill=\"#000000\" font-family=\"sans-serif\" font-size=\"12\" lengthAdjust=\"spacingAndGlyphs\" textLength=\"59\" x=\"62.5\" y=\"72.2061\">MassSum</text></a><!--MD5=[14e3b0961a2654348d326746436168a1]\n",
       "cluster E6--><a href=\"psysml:1d10ff1d-94f3-4fcc-ad21-5a3c75a7ba0b\" target=\"_top\" title=\"psysml:1d10ff1d-94f3-4fcc-ad21-5a3c75a7ba0b\" xlink:actuate=\"onRequest\" xlink:href=\"psysml:1d10ff1d-94f3-4fcc-ad21-5a3c75a7ba0b\" xlink:show=\"new\" xlink:title=\"psysml:1d10ff1d-94f3-4fcc-ad21-5a3c75a7ba0b\" xlink:type=\"simple\"><rect fill=\"#FFFFFF\" filter=\"url(#f1fqpnzmjstli4)\" height=\"87.72\" id=\"E6\" rx=\"10\" ry=\"10\" style=\"stroke: #A80036; stroke-width: 1.5;\" width=\"101\" x=\"251.75\" y=\"42.0986\"/><rect fill=\"#FEFECE\" height=\"37.9375\" rx=\"10\" ry=\"10\" style=\"stroke: #FEFECE; stroke-width: 1.5;\" width=\"101\" x=\"251.75\" y=\"42.0986\"/><rect fill=\"#FEFECE\" height=\"10\" style=\"stroke: #FEFECE; stroke-width: 1.5;\" width=\"101\" x=\"251.75\" y=\"70.0361\"/><rect fill=\"none\" height=\"87.72\" id=\"E6\" rx=\"10\" ry=\"10\" style=\"stroke: #A80036; stroke-width: 1.5;\" width=\"101\" x=\"251.75\" y=\"42.0986\"/><text fill=\"#000000\" font-family=\"sans-serif\" font-size=\"12\" font-style=\"italic\" lengthAdjust=\"spacingAndGlyphs\" textLength=\"82\" x=\"261.25\" y=\"58.2373\">«calculation»</text><text fill=\"#000000\" font-family=\"sans-serif\" font-size=\"12\" lengthAdjust=\"spacingAndGlyphs\" textLength=\"18\" x=\"293.25\" y=\"72.2061\">ms</text><line style=\"stroke: #A80036; stroke-width: 1.0;\" x1=\"251.75\" x2=\"352.75\" y1=\"80.0361\" y2=\"80.0361\"/></a><!--MD5=[7f149f147074ac12df2cb0a7728a5fb0]\n",
       "cluster E9--><a href=\"psysml:86e0ef61-a473-4ef3-8b23-ebbfee168e1c\" target=\"_top\" title=\"psysml:86e0ef61-a473-4ef3-8b23-ebbfee168e1c\" xlink:actuate=\"onRequest\" xlink:href=\"psysml:86e0ef61-a473-4ef3-8b23-ebbfee168e1c\" xlink:show=\"new\" xlink:title=\"psysml:86e0ef61-a473-4ef3-8b23-ebbfee168e1c\" xlink:type=\"simple\"><rect fill=\"#FFFFFF\" filter=\"url(#f1fqpnzmjstli4)\" height=\"87.72\" id=\"E9\" style=\"stroke: #A80036; stroke-width: 1.5;\" width=\"127\" x=\"410.25\" y=\"42.0986\"/><rect fill=\"#FEFECE\" height=\"37.9375\" style=\"stroke: #A80036; stroke-width: 1.5;\" width=\"127\" x=\"410.25\" y=\"42.0986\"/><text fill=\"#000000\" font-family=\"sans-serif\" font-size=\"12\" font-style=\"italic\" lengthAdjust=\"spacingAndGlyphs\" textLength=\"106\" x=\"420.75\" y=\"58.2373\">«calculation def»</text><text fill=\"#000000\" font-family=\"sans-serif\" font-size=\"12\" lengthAdjust=\"spacingAndGlyphs\" textLength=\"67\" x=\"440.25\" y=\"72.2061\">MassSum1</text></a><!--MD5=[47bea60c1a0ac6c1143df232041969c0]\n",
       "cluster E12--><a href=\"psysml:5bbc6089-c972-4222-8f32-76d519ddb8cd\" target=\"_top\" title=\"psysml:5bbc6089-c972-4222-8f32-76d519ddb8cd\" xlink:actuate=\"onRequest\" xlink:href=\"psysml:5bbc6089-c972-4222-8f32-76d519ddb8cd\" xlink:show=\"new\" xlink:title=\"psysml:5bbc6089-c972-4222-8f32-76d519ddb8cd\" xlink:type=\"simple\"><rect fill=\"#FFFFFF\" filter=\"url(#f1fqpnzmjstli4)\" height=\"87.72\" id=\"E12\" rx=\"10\" ry=\"10\" style=\"stroke: #A80036; stroke-width: 1.5;\" width=\"138\" x=\"526\" y=\"42.0986\"/><rect fill=\"#FEFECE\" height=\"37.9375\" rx=\"10\" ry=\"10\" style=\"stroke: #FEFECE; stroke-width: 1.5;\" width=\"138\" x=\"526\" y=\"42.0986\"/><rect fill=\"#FEFECE\" height=\"10\" style=\"stroke: #FEFECE; stroke-width: 1.5;\" width=\"138\" x=\"526\" y=\"70.0361\"/><rect fill=\"none\" height=\"87.72\" id=\"E12\" rx=\"10\" ry=\"10\" style=\"stroke: #A80036; stroke-width: 1.5;\" width=\"138\" x=\"526\" y=\"42.0986\"/><text fill=\"#000000\" font-family=\"sans-serif\" font-size=\"12\" font-style=\"italic\" lengthAdjust=\"spacingAndGlyphs\" textLength=\"82\" x=\"554\" y=\"58.2373\">«calculation»</text><text fill=\"#000000\" font-family=\"sans-serif\" font-size=\"12\" lengthAdjust=\"spacingAndGlyphs\" textLength=\"26\" x=\"582\" y=\"72.2061\">ms1</text><line style=\"stroke: #A80036; stroke-width: 1.0;\" x1=\"526\" x2=\"664\" y1=\"80.0361\" y2=\"80.0361\"/></a><text fill=\"#000000\" font-family=\"sans-serif\" font-size=\"14\" lengthAdjust=\"spacingAndGlyphs\" textLength=\"80\" x=\"6\" y=\"20.7969\">partMasses</text><rect fill=\"#A80036\" height=\"12\" style=\"stroke: #FEFECE; stroke-width: 1.5;\" width=\"12\" x=\"40\" y=\"36.0986\"/><text fill=\"#000000\" font-family=\"sans-serif\" font-size=\"14\" lengthAdjust=\"spacingAndGlyphs\" textLength=\"66\" x=\"54\" y=\"148.8138\">totalMass</text><rect fill=\"#A80036\" height=\"12\" style=\"stroke: #FEFECE; stroke-width: 1.5;\" width=\"12\" x=\"81\" y=\"123.8186\"/><text fill=\"#000000\" font-family=\"sans-serif\" font-size=\"14\" lengthAdjust=\"spacingAndGlyphs\" textLength=\"75\" x=\"100.5\" y=\"20.7969\">$collection</text><rect fill=\"#A80036\" height=\"12\" style=\"stroke: #FEFECE; stroke-width: 1.5;\" width=\"12\" x=\"132\" y=\"36.0986\"/><text fill=\"#000000\" font-family=\"sans-serif\" font-size=\"14\" lengthAdjust=\"spacingAndGlyphs\" textLength=\"48\" x=\"110\" y=\"148.8138\">$result</text><rect fill=\"#A80036\" height=\"12\" style=\"stroke: #FEFECE; stroke-width: 1.5;\" width=\"12\" x=\"128\" y=\"123.8186\"/><text fill=\"#000000\" font-family=\"sans-serif\" font-size=\"14\" lengthAdjust=\"spacingAndGlyphs\" textLength=\"80\" x=\"235\" y=\"20.7969\">partMasses</text><rect fill=\"#A80036\" height=\"12\" style=\"stroke: #FEFECE; stroke-width: 1.5;\" width=\"12\" x=\"269\" y=\"36.0986\"/><text fill=\"#000000\" font-family=\"sans-serif\" font-size=\"14\" lengthAdjust=\"spacingAndGlyphs\" textLength=\"66\" x=\"238\" y=\"148.8138\">totalMass</text><rect fill=\"#A80036\" height=\"12\" style=\"stroke: #FEFECE; stroke-width: 1.5;\" width=\"12\" x=\"265\" y=\"123.8186\"/><text fill=\"#000000\" font-family=\"sans-serif\" font-size=\"14\" lengthAdjust=\"spacingAndGlyphs\" textLength=\"80\" x=\"395\" y=\"20.7969\">partMasses</text><rect fill=\"#A80036\" height=\"12\" style=\"stroke: #FEFECE; stroke-width: 1.5;\" width=\"12\" x=\"429\" y=\"36.0986\"/><text fill=\"#000000\" font-family=\"sans-serif\" font-size=\"14\" lengthAdjust=\"spacingAndGlyphs\" textLength=\"66\" x=\"398\" y=\"148.8138\">totalMass</text><rect fill=\"#A80036\" height=\"12\" style=\"stroke: #FEFECE; stroke-width: 1.5;\" width=\"12\" x=\"425\" y=\"123.8186\"/><text fill=\"#000000\" font-family=\"sans-serif\" font-size=\"14\" lengthAdjust=\"spacingAndGlyphs\" textLength=\"80\" x=\"555\" y=\"20.7969\">partMasses</text><rect fill=\"#A80036\" height=\"12\" style=\"stroke: #FEFECE; stroke-width: 1.5;\" width=\"12\" x=\"589\" y=\"36.0986\"/><text fill=\"#000000\" font-family=\"sans-serif\" font-size=\"14\" lengthAdjust=\"spacingAndGlyphs\" textLength=\"66\" x=\"562\" y=\"148.8138\">totalMass</text><rect fill=\"#A80036\" height=\"12\" style=\"stroke: #FEFECE; stroke-width: 1.5;\" width=\"12\" x=\"589\" y=\"123.8186\"/><!--MD5=[0188b64bb0ae78505a997a81836e11e9]\n",
       "link E3 to E5--><a href=\"psysml:5b55f712-f9b6-4e15-aeab-345c960b0653\" target=\"_top\" title=\"psysml:5b55f712-f9b6-4e15-aeab-345c960b0653\" xlink:actuate=\"onRequest\" xlink:href=\"psysml:5b55f712-f9b6-4e15-aeab-345c960b0653\" xlink:show=\"new\" xlink:title=\"psysml:5b55f712-f9b6-4e15-aeab-345c960b0653\" xlink:type=\"simple\"><path d=\"M93.24,127.7486 C104.81,124.4886 116.38,124.5086 127.95,127.7986 \" fill=\"none\" id=\"E3-E5\" style=\"stroke: #A80036; stroke-width: 5.0;\"/></a><!--MD5=[02f437c6b4ff45a604a94e32fff57371]\n",
       "@startuml\r\n",
       "skinparam ranksep 8\r\n",
       " \r\n",
       "rec def \"MassSum\" as E1  <<(T,blue)calculation def>> [[psysml:8857df12-96f9-4753-a6e3-dc799dcb9ed4 ]] {\r\n",
       "portin \"partMasses\" as E2  [[psysml:8ae5fd16-1397-4172-a6e5-0c084d8d7ca2 ]] \r\n",
       "portout \"totalMass\" as E3  [[psysml:5f15c55d-7a56-4485-be6d-5834d49cebc1 ]] \r\n",
       "portin \"$collection\" as E4  [[psysml:61806866-d159-447e-b132-fa56be682adf ]] \r\n",
       "portout \"$result\" as E5  [[psysml:6ddb7e29-61e7-4184-8db5-61f90a0c49bf ]] \r\n",
       "}\r\n",
       "\r\n",
       "E3 -[thickness=5]- E5 [[psysml:5b55f712-f9b6-4e15-aeab-345c960b0653 ]] \r\n",
       "rec usage \"ms\" as E6  <<(T,blue)calculation>> [[psysml:1d10ff1d-94f3-4fcc-ad21-5a3c75a7ba0b ]] {\r\n",
       "portin \"partMasses\" as E7  [[psysml:a2c0aed5-a65e-46d5-90c0-ba8b1517610c ]] \r\n",
       "portout \"totalMass\" as E8  [[psysml:76889a80-c5e0-422b-b2ce-fdc6eabdf747 ]] \r\n",
       "}\r\n",
       "\r\n",
       "rec def \"MassSum1\" as E9  <<(T,blue)calculation def>> [[psysml:86e0ef61-a473-4ef3-8b23-ebbfee168e1c ]] {\r\n",
       "portin \"partMasses\" as E10  [[psysml:44765cb5-91e3-4973-8d66-b6f2e5bbf87d ]] \r\n",
       "portout \"totalMass\" as E11  [[psysml:8a0a1f2d-4441-4a8a-b849-a96ed87f36a5 ]] \r\n",
       "}\r\n",
       "\r\n",
       "rec usage \"ms1\" as E12  <<(T,blue)calculation>> [[psysml:5bbc6089-c972-4222-8f32-76d519ddb8cd ]] {\r\n",
       "portin \"partMasses\" as E13  [[psysml:bceb4c61-ae51-43e8-95f6-5db7102a1a6d ]] \r\n",
       "portout \"totalMass\" as E14  [[psysml:18f22934-19d9-4087-8718-e35a3f9b5ce2 ]] \r\n",
       "}\r\n",
       "\r\n",
       "@enduml\r\n",
       "\n",
       "PlantUML version 1.2020.13(Sat Jun 13 12:26:38 UTC 2020)\n",
       "(EPL source distribution)\n",
       "Java Runtime: OpenJDK Runtime Environment\n",
       "JVM: OpenJDK 64-Bit Server VM\n",
       "Default Encoding: UTF-8\n",
       "Language: en\n",
       "Country: null\n",
       "--></g></svg>"
      ]
     },
     "execution_count": 6,
     "metadata": {},
     "output_type": "execute_result"
    }
   ],
   "source": [
    "%viz --style=\"COMPTREE\" --view=\"Action\" \"CalculationExample\""
   ]
  },
  {
   "cell_type": "code",
   "execution_count": 7,
   "id": "fabulous-extra",
   "metadata": {
    "execution": {
     "iopub.execute_input": "2021-03-26T09:15:55.555923Z",
     "iopub.status.busy": "2021-03-26T09:15:55.555476Z",
     "iopub.status.idle": "2021-03-26T09:15:55.628516Z",
     "shell.execute_reply": "2021-03-26T09:15:55.626978Z"
    }
   },
   "outputs": [
    {
     "data": {
      "image/svg+xml": [
       "<?xml version=\"1.0\" encoding=\"UTF-8\" standalone=\"no\"?><svg xmlns=\"http://www.w3.org/2000/svg\" xmlns:xlink=\"http://www.w3.org/1999/xlink\" contentScriptType=\"application/ecmascript\" contentStyleType=\"text/css\" height=\"260px\" preserveAspectRatio=\"none\" style=\"width:659px;height:260px;\" version=\"1.1\" viewBox=\"0 0 659 260\" width=\"659px\" zoomAndPan=\"magnify\"><defs><filter height=\"300%\" id=\"flf9c3h8ymjor\" width=\"300%\" x=\"-1\" y=\"-1\"><feGaussianBlur result=\"blurOut\" stdDeviation=\"2.0\"/><feColorMatrix in=\"blurOut\" result=\"blurOut2\" type=\"matrix\" values=\"0 0 0 0 0 0 0 0 0 0 0 0 0 0 0 0 0 0 .4 0\"/><feOffset dx=\"4.0\" dy=\"4.0\" in=\"blurOut2\" result=\"blurOut3\"/><feBlend in=\"SourceGraphic\" in2=\"blurOut3\" mode=\"normal\"/></filter></defs><g><!--MD5=[fbc87193dbaf4d95561dea2c320d4a47]\n",
       "cluster E1--><a href=\"psysml:7249bcac-c63a-48a6-adec-7cf675138100\" target=\"_top\" title=\"psysml:7249bcac-c63a-48a6-adec-7cf675138100\" xlink:actuate=\"onRequest\" xlink:href=\"psysml:7249bcac-c63a-48a6-adec-7cf675138100\" xlink:show=\"new\" xlink:title=\"psysml:7249bcac-c63a-48a6-adec-7cf675138100\" xlink:type=\"simple\"><polygon fill=\"#FFFFFF\" filter=\"url(#flf9c3h8ymjor)\" points=\"16,6,173,6,180,28.2969,637,28.2969,637,248,16,248,16,6\" style=\"stroke: #000000; stroke-width: 1.5;\"/><line style=\"stroke: #000000; stroke-width: 1.5;\" x1=\"16\" x2=\"180\" y1=\"28.2969\" y2=\"28.2969\"/><text fill=\"#000000\" font-family=\"sans-serif\" font-size=\"14\" font-weight=\"bold\" lengthAdjust=\"spacingAndGlyphs\" textLength=\"151\" x=\"20\" y=\"20.9951\">CalculationExample</text></a><!--MD5=[b4997ac47864f28c2f74865a473b2911]\n",
       "class E2--><a href=\"psysml:14188455-78e6-45cf-9446-0197417271d8\" target=\"_top\" title=\"psysml:14188455-78e6-45cf-9446-0197417271d8\" xlink:actuate=\"onRequest\" xlink:href=\"psysml:14188455-78e6-45cf-9446-0197417271d8\" xlink:show=\"new\" xlink:title=\"psysml:14188455-78e6-45cf-9446-0197417271d8\" xlink:type=\"simple\"><rect fill=\"#FEFECE\" filter=\"url(#flf9c3h8ymjor)\" height=\"58.7422\" id=\"E2\" rx=\"10\" ry=\"10\" style=\"stroke: #A80036; stroke-width: 1.5;\" width=\"92\" x=\"529\" y=\"47.5\"/><ellipse cx=\"551.65\" cy=\"66.4688\" fill=\"#0000FF\" rx=\"11\" ry=\"11\" style=\"stroke: #A80036; stroke-width: 1.0;\"/><path d=\"M552.4938,73.2188 L550.0406,73.2188 L550.0406,62.9688 L546.9,62.9688 L546.9,60.8281 L555.6344,60.8281 L555.6344,62.9688 L552.4938,62.9688 L552.4938,73.2188 Z \"/><text fill=\"#000000\" font-family=\"sans-serif\" font-size=\"12\" font-style=\"italic\" lengthAdjust=\"spacingAndGlyphs\" textLength=\"40\" x=\"568.85\" y=\"63.6387\">«part»</text><text fill=\"#000000\" font-family=\"sans-serif\" font-size=\"12\" lengthAdjust=\"spacingAndGlyphs\" textLength=\"43\" x=\"567.35\" y=\"77.6074\">vehicle</text><line style=\"stroke: #A80036; stroke-width: 1.5;\" x1=\"530\" x2=\"620\" y1=\"85.4375\" y2=\"85.4375\"/><text fill=\"#000000\" font-family=\"sans-serif\" font-size=\"11\" lengthAdjust=\"spacingAndGlyphs\" textLength=\"80\" x=\"535\" y=\"99.6479\">m: MassValue</text></a><!--MD5=[09b614a08d8cba4a07c9adeb5e0fee81]\n",
       "class E3--><a href=\"psysml:5beb719b-2071-4403-a403-a4a2a93a4090\" target=\"_top\" title=\"psysml:5beb719b-2071-4403-a403-a4a2a93a4090\" xlink:actuate=\"onRequest\" xlink:href=\"psysml:5beb719b-2071-4403-a403-a4a2a93a4090\" xlink:show=\"new\" xlink:title=\"psysml:5beb719b-2071-4403-a403-a4a2a93a4090\" xlink:type=\"simple\"><rect fill=\"#FEFECE\" filter=\"url(#flf9c3h8ymjor)\" height=\"58.7422\" id=\"E3\" rx=\"10\" ry=\"10\" style=\"stroke: #A80036; stroke-width: 1.5;\" width=\"92\" x=\"402\" y=\"173\"/><ellipse cx=\"427.8\" cy=\"191.9688\" fill=\"#0000FF\" rx=\"11\" ry=\"11\" style=\"stroke: #A80036; stroke-width: 1.0;\"/><path d=\"M428.6438,198.7188 L426.1906,198.7188 L426.1906,188.4688 L423.05,188.4688 L423.05,186.3281 L431.7844,186.3281 L431.7844,188.4688 L428.6438,188.4688 L428.6438,198.7188 Z \"/><text fill=\"#000000\" font-family=\"sans-serif\" font-size=\"12\" font-style=\"italic\" lengthAdjust=\"spacingAndGlyphs\" textLength=\"40\" x=\"442.2\" y=\"189.1387\">«part»</text><text fill=\"#000000\" font-family=\"sans-serif\" font-size=\"12\" lengthAdjust=\"spacingAndGlyphs\" textLength=\"24\" x=\"450.2\" y=\"203.1074\">eng</text><line style=\"stroke: #A80036; stroke-width: 1.5;\" x1=\"403\" x2=\"493\" y1=\"210.9375\" y2=\"210.9375\"/><text fill=\"#000000\" font-family=\"sans-serif\" font-size=\"11\" lengthAdjust=\"spacingAndGlyphs\" textLength=\"80\" x=\"408\" y=\"225.1479\">m: MassValue</text></a><!--MD5=[ebbe1d658d1005bcc118a6aa81145e00]\n",
       "class E4--><a href=\"psysml:48862a39-11e7-4605-8aed-a0acf63d7872\" target=\"_top\" title=\"psysml:48862a39-11e7-4605-8aed-a0acf63d7872\" xlink:actuate=\"onRequest\" xlink:href=\"psysml:48862a39-11e7-4605-8aed-a0acf63d7872\" xlink:show=\"new\" xlink:title=\"psysml:48862a39-11e7-4605-8aed-a0acf63d7872\" xlink:type=\"simple\"><rect fill=\"#FEFECE\" filter=\"url(#flf9c3h8ymjor)\" height=\"58.7422\" id=\"E4\" rx=\"10\" ry=\"10\" style=\"stroke: #A80036; stroke-width: 1.5;\" width=\"92\" x=\"529\" y=\"173\"/><ellipse cx=\"554.8\" cy=\"191.9688\" fill=\"#0000FF\" rx=\"11\" ry=\"11\" style=\"stroke: #A80036; stroke-width: 1.0;\"/><path d=\"M555.6438,198.7188 L553.1906,198.7188 L553.1906,188.4688 L550.05,188.4688 L550.05,186.3281 L558.7844,186.3281 L558.7844,188.4688 L555.6438,188.4688 L555.6438,198.7188 Z \"/><text fill=\"#000000\" font-family=\"sans-serif\" font-size=\"12\" font-style=\"italic\" lengthAdjust=\"spacingAndGlyphs\" textLength=\"40\" x=\"569.2\" y=\"189.1387\">«part»</text><text fill=\"#000000\" font-family=\"sans-serif\" font-size=\"12\" lengthAdjust=\"spacingAndGlyphs\" textLength=\"33\" x=\"572.7\" y=\"203.1074\">trans</text><line style=\"stroke: #A80036; stroke-width: 1.5;\" x1=\"530\" x2=\"620\" y1=\"210.9375\" y2=\"210.9375\"/><text fill=\"#000000\" font-family=\"sans-serif\" font-size=\"11\" lengthAdjust=\"spacingAndGlyphs\" textLength=\"80\" x=\"535\" y=\"225.1479\">m: MassValue</text></a><!--MD5=[270fce915f116d4de14055a7c1d9a0f3]\n",
       "class E5--><a href=\"psysml:8857df12-96f9-4753-a6e3-dc799dcb9ed4\" target=\"_top\" title=\"psysml:8857df12-96f9-4753-a6e3-dc799dcb9ed4\" xlink:actuate=\"onRequest\" xlink:href=\"psysml:8857df12-96f9-4753-a6e3-dc799dcb9ed4\" xlink:show=\"new\" xlink:title=\"psysml:8857df12-96f9-4753-a6e3-dc799dcb9ed4\" xlink:type=\"simple\"><rect fill=\"#FEFECE\" filter=\"url(#flf9c3h8ymjor)\" height=\"45.9375\" id=\"E5\" style=\"stroke: #A80036; stroke-width: 1.5;\" width=\"134\" x=\"133\" y=\"179.5\"/><ellipse cx=\"148\" cy=\"198.4688\" fill=\"#0000FF\" rx=\"11\" ry=\"11\" style=\"stroke: #A80036; stroke-width: 1.0;\"/><path d=\"M148.8438,205.2188 L146.3906,205.2188 L146.3906,194.9688 L143.25,194.9688 L143.25,192.8281 L151.9844,192.8281 L151.9844,194.9688 L148.8438,194.9688 L148.8438,205.2188 Z \"/><text fill=\"#000000\" font-family=\"sans-serif\" font-size=\"12\" font-style=\"italic\" lengthAdjust=\"spacingAndGlyphs\" textLength=\"106\" x=\"160\" y=\"195.6387\">«calculation def»</text><text fill=\"#000000\" font-family=\"sans-serif\" font-size=\"12\" lengthAdjust=\"spacingAndGlyphs\" textLength=\"59\" x=\"183.5\" y=\"209.6074\">MassSum</text><line style=\"stroke: #A80036; stroke-width: 1.5;\" x1=\"134\" x2=\"266\" y1=\"217.4375\" y2=\"217.4375\"/></a><!--MD5=[60a26617385b1d2d0262a64233df1f8d]\n",
       "class E6--><a href=\"psysml:1d10ff1d-94f3-4fcc-ad21-5a3c75a7ba0b\" target=\"_top\" title=\"psysml:1d10ff1d-94f3-4fcc-ad21-5a3c75a7ba0b\" xlink:actuate=\"onRequest\" xlink:href=\"psysml:1d10ff1d-94f3-4fcc-ad21-5a3c75a7ba0b\" xlink:show=\"new\" xlink:title=\"psysml:1d10ff1d-94f3-4fcc-ad21-5a3c75a7ba0b\" xlink:type=\"simple\"><rect fill=\"#FEFECE\" filter=\"url(#flf9c3h8ymjor)\" height=\"45.9375\" id=\"E6\" rx=\"10\" ry=\"10\" style=\"stroke: #A80036; stroke-width: 1.5;\" width=\"117\" x=\"376.5\" y=\"54\"/><ellipse cx=\"391.5\" cy=\"72.9688\" fill=\"#0000FF\" rx=\"11\" ry=\"11\" style=\"stroke: #A80036; stroke-width: 1.0;\"/><path d=\"M392.3438,79.7188 L389.8906,79.7188 L389.8906,69.4688 L386.75,69.4688 L386.75,67.3281 L395.4844,67.3281 L395.4844,69.4688 L392.3438,69.4688 L392.3438,79.7188 Z \"/><text fill=\"#000000\" font-family=\"sans-serif\" font-size=\"12\" font-style=\"italic\" lengthAdjust=\"spacingAndGlyphs\" textLength=\"82\" x=\"407\" y=\"70.1387\">«calculation»</text><text fill=\"#000000\" font-family=\"sans-serif\" font-size=\"12\" lengthAdjust=\"spacingAndGlyphs\" textLength=\"85\" x=\"405.5\" y=\"84.1074\">ms: MassSum</text><line style=\"stroke: #A80036; stroke-width: 1.5;\" x1=\"377.5\" x2=\"492.5\" y1=\"91.9375\" y2=\"91.9375\"/></a><!--MD5=[2156ba9850f5573cc1fc38a6a4b2f02b]\n",
       "class E7--><a href=\"psysml:86e0ef61-a473-4ef3-8b23-ebbfee168e1c\" target=\"_top\" title=\"psysml:86e0ef61-a473-4ef3-8b23-ebbfee168e1c\" xlink:actuate=\"onRequest\" xlink:href=\"psysml:86e0ef61-a473-4ef3-8b23-ebbfee168e1c\" xlink:show=\"new\" xlink:title=\"psysml:86e0ef61-a473-4ef3-8b23-ebbfee168e1c\" xlink:type=\"simple\"><rect fill=\"#FEFECE\" filter=\"url(#flf9c3h8ymjor)\" height=\"71.5469\" id=\"E7\" style=\"stroke: #A80036; stroke-width: 1.5;\" width=\"148\" x=\"193\" y=\"41\"/><ellipse cx=\"214.3\" cy=\"59.9688\" fill=\"#0000FF\" rx=\"11\" ry=\"11\" style=\"stroke: #A80036; stroke-width: 1.0;\"/><path d=\"M215.1438,66.7188 L212.6906,66.7188 L212.6906,56.4688 L209.55,56.4688 L209.55,54.3281 L218.2844,54.3281 L218.2844,56.4688 L215.1438,56.4688 L215.1438,66.7188 Z \"/><text fill=\"#000000\" font-family=\"sans-serif\" font-size=\"12\" font-style=\"italic\" lengthAdjust=\"spacingAndGlyphs\" textLength=\"106\" x=\"227.7\" y=\"57.1387\">«calculation def»</text><text fill=\"#000000\" font-family=\"sans-serif\" font-size=\"12\" lengthAdjust=\"spacingAndGlyphs\" textLength=\"67\" x=\"247.2\" y=\"71.1074\">MassSum1</text><line style=\"stroke: #A80036; stroke-width: 1.5;\" x1=\"194\" x2=\"340\" y1=\"78.9375\" y2=\"78.9375\"/><text fill=\"#000000\" font-family=\"sans-serif\" font-size=\"11\" lengthAdjust=\"spacingAndGlyphs\" textLength=\"136\" x=\"199\" y=\"93.1479\">partMasses: MassValue</text><text fill=\"#000000\" font-family=\"sans-serif\" font-size=\"11\" lengthAdjust=\"spacingAndGlyphs\" textLength=\"124\" x=\"199\" y=\"105.9526\">totalMass: MassValue</text></a><!--MD5=[b9389687b975829384b498ac4b7476b2]\n",
       "class E8--><a href=\"psysml:5bbc6089-c972-4222-8f32-76d519ddb8cd\" target=\"_top\" title=\"psysml:5bbc6089-c972-4222-8f32-76d519ddb8cd\" xlink:actuate=\"onRequest\" xlink:href=\"psysml:5bbc6089-c972-4222-8f32-76d519ddb8cd\" xlink:show=\"new\" xlink:title=\"psysml:5bbc6089-c972-4222-8f32-76d519ddb8cd\" xlink:type=\"simple\"><rect fill=\"#FEFECE\" filter=\"url(#flf9c3h8ymjor)\" height=\"71.5469\" id=\"E8\" rx=\"10\" ry=\"10\" style=\"stroke: #A80036; stroke-width: 1.5;\" width=\"125\" x=\"32.5\" y=\"41\"/><ellipse cx=\"47.5\" cy=\"59.9688\" fill=\"#0000FF\" rx=\"11\" ry=\"11\" style=\"stroke: #A80036; stroke-width: 1.0;\"/><path d=\"M48.3438,66.7188 L45.8906,66.7188 L45.8906,56.4688 L42.75,56.4688 L42.75,54.3281 L51.4844,54.3281 L51.4844,56.4688 L48.3438,56.4688 L48.3438,66.7188 Z \"/><text fill=\"#000000\" font-family=\"sans-serif\" font-size=\"12\" font-style=\"italic\" lengthAdjust=\"spacingAndGlyphs\" textLength=\"82\" x=\"67\" y=\"57.1387\">«calculation»</text><text fill=\"#000000\" font-family=\"sans-serif\" font-size=\"12\" lengthAdjust=\"spacingAndGlyphs\" textLength=\"93\" x=\"61.5\" y=\"71.1074\">ms1: MassSum</text><line style=\"stroke: #A80036; stroke-width: 1.5;\" x1=\"33.5\" x2=\"156.5\" y1=\"78.9375\" y2=\"78.9375\"/><text fill=\"#000000\" font-family=\"sans-serif\" font-size=\"11\" lengthAdjust=\"spacingAndGlyphs\" textLength=\"67\" x=\"38.5\" y=\"93.1479\">partMasses</text><text fill=\"#000000\" font-family=\"sans-serif\" font-size=\"11\" lengthAdjust=\"spacingAndGlyphs\" textLength=\"55\" x=\"38.5\" y=\"105.9526\">totalMass</text></a><!--MD5=[209b3feb70ccb6233bfe1053d122c12c]\n",
       "reverse link E2 to E3--><a href=\"psysml:5beb719b-2071-4403-a403-a4a2a93a4090\" target=\"_top\" title=\"psysml:5beb719b-2071-4403-a403-a4a2a93a4090\" xlink:actuate=\"onRequest\" xlink:href=\"psysml:5beb719b-2071-4403-a403-a4a2a93a4090\" xlink:show=\"new\" xlink:title=\"psysml:5beb719b-2071-4403-a403-a4a2a93a4090\" xlink:type=\"simple\"><path d=\"M536.08,115.85 C517.3,134.11 495.13,155.66 477.74,172.58 \" fill=\"none\" id=\"E2&lt;-E3\" style=\"stroke: #A80036; stroke-width: 1.0;\"/><polygon fill=\"#A80036\" points=\"545.54,106.64,538.4499,107.9553,536.937,115.0059,544.0271,113.6906,545.54,106.64\" style=\"stroke: #A80036; stroke-width: 1.0;\"/></a><!--MD5=[9618e71518536f8baf3342ff6fdab317]\n",
       "reverse link E2 to E4--><a href=\"psysml:48862a39-11e7-4605-8aed-a0acf63d7872\" target=\"_top\" title=\"psysml:48862a39-11e7-4605-8aed-a0acf63d7872\" xlink:actuate=\"onRequest\" xlink:href=\"psysml:48862a39-11e7-4605-8aed-a0acf63d7872\" xlink:show=\"new\" xlink:title=\"psysml:48862a39-11e7-4605-8aed-a0acf63d7872\" xlink:type=\"simple\"><path d=\"M575,119.66 C575,137.05 575,156.83 575,172.58 \" fill=\"none\" id=\"E2&lt;-E4\" style=\"stroke: #A80036; stroke-width: 1.0;\"/><polygon fill=\"#A80036\" points=\"575,106.64,571,112.64,575,118.64,579,112.64,575,106.64\" style=\"stroke: #A80036; stroke-width: 1.0;\"/></a><!--MD5=[25b190c987b1e74e5126d372c5a73af1]\n",
       "link E6 to E5--><a href=\"psysml:9917c25f-6195-4027-a1da-c593e3e3b530\" target=\"_top\" title=\"psysml:9917c25f-6195-4027-a1da-c593e3e3b530\" xlink:actuate=\"onRequest\" xlink:href=\"psysml:9917c25f-6195-4027-a1da-c593e3e3b530\" xlink:show=\"new\" xlink:title=\"psysml:9917c25f-6195-4027-a1da-c593e3e3b530\" xlink:type=\"simple\"><path d=\"M392.99,100.08 C355.92,119.56 301.49,148.17 259.87,170.04 \" fill=\"none\" id=\"E6-&gt;E5\" style=\"stroke: #A80036; stroke-width: 1.0;\"/><polygon fill=\"#FFFFFF\" points=\"242.05,179.4,255.6092,164.3618,262.1247,176.7533,242.05,179.4\" style=\"stroke: #A80036; stroke-width: 1.0;\"/><ellipse cx=\"261.5851\" cy=\"163.4793\" fill=\"#A80036\" rx=\"2\" ry=\"2\" style=\"stroke: #A80036; stroke-width: 1.0;\"/><ellipse cx=\"266.239\" cy=\"172.3303\" fill=\"#A80036\" rx=\"2\" ry=\"2\" style=\"stroke: #A80036; stroke-width: 1.0;\"/></a><!--MD5=[1ccb2481ffa92f8d51a74ee30c51832a]\n",
       "link E8 to E5--><a href=\"psysml:bf4de082-8867-4b4d-b459-dc33df5641b4\" target=\"_top\" title=\"psysml:bf4de082-8867-4b4d-b459-dc33df5641b4\" xlink:actuate=\"onRequest\" xlink:href=\"psysml:bf4de082-8867-4b4d-b459-dc33df5641b4\" xlink:show=\"new\" xlink:title=\"psysml:bf4de082-8867-4b4d-b459-dc33df5641b4\" xlink:type=\"simple\"><path d=\"M124.81,113.06 C138.29,128.92 154.24,147.68 167.97,163.83 \" fill=\"none\" id=\"E8-&gt;E5\" style=\"stroke: #A80036; stroke-width: 1.0;\"/><polygon fill=\"#FFFFFF\" points=\"181.04,179.2,163.4008,169.2572,174.0677,160.1898,181.04,179.2\" style=\"stroke: #A80036; stroke-width: 1.0;\"/><ellipse cx=\"161.233\" cy=\"163.6189\" fill=\"#A80036\" rx=\"2\" ry=\"2\" style=\"stroke: #A80036; stroke-width: 1.0;\"/><ellipse cx=\"168.8522\" cy=\"157.1422\" fill=\"#A80036\" rx=\"2\" ry=\"2\" style=\"stroke: #A80036; stroke-width: 1.0;\"/></a><!--MD5=[549e3e9a322d42241c9eee74bb3bb825]\n",
       "@startuml\r\n",
       " \r\n",
       "package \"CalculationExample\" as E1  [[psysml:7249bcac-c63a-48a6-adec-7cf675138100 ]]  {\r\n",
       "comp usage \"vehicle\" as E2  <<(T,blue)part>> [[psysml:14188455-78e6-45cf-9446-0197417271d8 ]] {\r\n",
       "m: MassValue\r\n",
       "}\r\n",
       "comp usage \"eng\" as E3  <<(T,blue)part>> [[psysml:5beb719b-2071-4403-a403-a4a2a93a4090 ]] {\r\n",
       "m: MassValue\r\n",
       "}\r\n",
       "comp usage \"trans\" as E4  <<(T,blue)part>> [[psysml:48862a39-11e7-4605-8aed-a0acf63d7872 ]] {\r\n",
       "m: MassValue\r\n",
       "}\r\n",
       "comp def \"MassSum\" as E5  <<(T,blue)calculation def>> [[psysml:8857df12-96f9-4753-a6e3-dc799dcb9ed4 ]] {\r\n",
       "}\r\n",
       "comp usage \"ms: MassSum\" as E6  <<(T,blue)calculation>> [[psysml:1d10ff1d-94f3-4fcc-ad21-5a3c75a7ba0b ]] {\r\n",
       "}\r\n",
       "comp def \"MassSum1\" as E7  <<(T,blue)calculation def>> [[psysml:86e0ef61-a473-4ef3-8b23-ebbfee168e1c ]] {\r\n",
       "partMasses: MassValue\r\n",
       "totalMass: MassValue\r\n",
       "}\r\n",
       "comp usage \"ms1: MassSum\" as E8  <<(T,blue)calculation>> [[psysml:5bbc6089-c972-4222-8f32-76d519ddb8cd ]] {\r\n",
       "partMasses\r\n",
       "totalMass\r\n",
       "}\r\n",
       "E2 *- - E3 [[psysml:5beb719b-2071-4403-a403-a4a2a93a4090 ]] \r\n",
       "E2 *- - E4 [[psysml:48862a39-11e7-4605-8aed-a0acf63d7872 ]] \r\n",
       "E6 - -:|> E5 [[psysml:9917c25f-6195-4027-a1da-c593e3e3b530 ]] \r\n",
       "E8 - -:|> E5 [[psysml:bf4de082-8867-4b4d-b459-dc33df5641b4 ]] \r\n",
       "}\r\n",
       "@enduml\r\n",
       "\n",
       "PlantUML version 1.2020.13(Sat Jun 13 12:26:38 UTC 2020)\n",
       "(EPL source distribution)\n",
       "Java Runtime: OpenJDK Runtime Environment\n",
       "JVM: OpenJDK 64-Bit Server VM\n",
       "Default Encoding: UTF-8\n",
       "Language: en\n",
       "Country: null\n",
       "--></g></svg>"
      ]
     },
     "execution_count": 7,
     "metadata": {},
     "output_type": "execute_result"
    }
   ],
   "source": [
    "%viz --style=\"COMPTREE\" --view=\"Sequence\" \"CalculationExample\""
   ]
  },
  {
   "cell_type": "code",
   "execution_count": 8,
   "id": "northern-afternoon",
   "metadata": {
    "execution": {
     "iopub.execute_input": "2021-03-26T09:15:55.678845Z",
     "iopub.status.busy": "2021-03-26T09:15:55.678489Z",
     "iopub.status.idle": "2021-03-26T09:15:55.764545Z",
     "shell.execute_reply": "2021-03-26T09:15:55.761822Z"
    }
   },
   "outputs": [
    {
     "data": {
      "image/svg+xml": [
       "<?xml version=\"1.0\" encoding=\"UTF-8\" standalone=\"no\"?><svg xmlns=\"http://www.w3.org/2000/svg\" xmlns:xlink=\"http://www.w3.org/1999/xlink\" contentScriptType=\"application/ecmascript\" contentStyleType=\"text/css\" height=\"408px\" preserveAspectRatio=\"none\" style=\"width:829px;height:408px;\" version=\"1.1\" viewBox=\"0 0 829 408\" width=\"829px\" zoomAndPan=\"magnify\"><defs><filter height=\"300%\" id=\"fam2w2b212u6j\" width=\"300%\" x=\"-1\" y=\"-1\"><feGaussianBlur result=\"blurOut\" stdDeviation=\"2.0\"/><feColorMatrix in=\"blurOut\" result=\"blurOut2\" type=\"matrix\" values=\"0 0 0 0 0 0 0 0 0 0 0 0 0 0 0 0 0 0 .4 0\"/><feOffset dx=\"4.0\" dy=\"4.0\" in=\"blurOut2\" result=\"blurOut3\"/><feBlend in=\"SourceGraphic\" in2=\"blurOut3\" mode=\"normal\"/></filter></defs><g><!--MD5=[fbc87193dbaf4d95561dea2c320d4a47]\n",
       "cluster E1--><a href=\"psysml:7249bcac-c63a-48a6-adec-7cf675138100\" target=\"_top\" title=\"psysml:7249bcac-c63a-48a6-adec-7cf675138100\" xlink:actuate=\"onRequest\" xlink:href=\"psysml:7249bcac-c63a-48a6-adec-7cf675138100\" xlink:show=\"new\" xlink:title=\"psysml:7249bcac-c63a-48a6-adec-7cf675138100\" xlink:type=\"simple\"><polygon fill=\"#FFFFFF\" filter=\"url(#fam2w2b212u6j)\" points=\"16,6,173,6,180,28.2969,807,28.2969,807,396.72,16,396.72,16,6\" style=\"stroke: #000000; stroke-width: 1.5;\"/><line style=\"stroke: #000000; stroke-width: 1.5;\" x1=\"16\" x2=\"180\" y1=\"28.2969\" y2=\"28.2969\"/><text fill=\"#000000\" font-family=\"sans-serif\" font-size=\"14\" font-weight=\"bold\" lengthAdjust=\"spacingAndGlyphs\" textLength=\"151\" x=\"20\" y=\"20.9951\">CalculationExample</text></a><!--MD5=[de5ec2e2e8f62f467e546659f5068c88]\n",
       "cluster E5--><a href=\"psysml:8857df12-96f9-4753-a6e3-dc799dcb9ed4\" target=\"_top\" title=\"psysml:8857df12-96f9-4753-a6e3-dc799dcb9ed4\" xlink:actuate=\"onRequest\" xlink:href=\"psysml:8857df12-96f9-4753-a6e3-dc799dcb9ed4\" xlink:show=\"new\" xlink:title=\"psysml:8857df12-96f9-4753-a6e3-dc799dcb9ed4\" xlink:type=\"simple\"><rect fill=\"#FFFFFF\" filter=\"url(#fam2w2b212u6j)\" height=\"281.72\" id=\"E5\" style=\"stroke: #A80036; stroke-width: 1.5;\" width=\"128\" x=\"181\" y=\"77\"/><rect fill=\"#FEFECE\" height=\"37.9375\" style=\"stroke: #A80036; stroke-width: 1.5;\" width=\"128\" x=\"181\" y=\"77\"/><text fill=\"#000000\" font-family=\"sans-serif\" font-size=\"12\" font-style=\"italic\" lengthAdjust=\"spacingAndGlyphs\" textLength=\"106\" x=\"192\" y=\"93.1387\">«calculation def»</text><text fill=\"#000000\" font-family=\"sans-serif\" font-size=\"12\" lengthAdjust=\"spacingAndGlyphs\" textLength=\"59\" x=\"215.5\" y=\"107.1074\">MassSum</text></a><!--MD5=[917b9dd0c7eca3ee5f47219d1a84c0ad]\n",
       "cluster E11--><a href=\"psysml:86e0ef61-a473-4ef3-8b23-ebbfee168e1c\" target=\"_top\" title=\"psysml:86e0ef61-a473-4ef3-8b23-ebbfee168e1c\" xlink:actuate=\"onRequest\" xlink:href=\"psysml:86e0ef61-a473-4ef3-8b23-ebbfee168e1c\" xlink:show=\"new\" xlink:title=\"psysml:86e0ef61-a473-4ef3-8b23-ebbfee168e1c\" xlink:type=\"simple\"><rect fill=\"#FFFFFF\" filter=\"url(#fam2w2b212u6j)\" height=\"281.72\" id=\"E11\" style=\"stroke: #A80036; stroke-width: 1.5;\" width=\"166\" x=\"625\" y=\"77\"/><rect fill=\"#FEFECE\" height=\"37.9375\" style=\"stroke: #A80036; stroke-width: 1.5;\" width=\"166\" x=\"625\" y=\"77\"/><text fill=\"#000000\" font-family=\"sans-serif\" font-size=\"12\" font-style=\"italic\" lengthAdjust=\"spacingAndGlyphs\" textLength=\"106\" x=\"655\" y=\"93.1387\">«calculation def»</text><text fill=\"#000000\" font-family=\"sans-serif\" font-size=\"12\" lengthAdjust=\"spacingAndGlyphs\" textLength=\"67\" x=\"674.5\" y=\"107.1074\">MassSum1</text></a><!--MD5=[b4997ac47864f28c2f74865a473b2911]\n",
       "class E2--><a href=\"psysml:14188455-78e6-45cf-9446-0197417271d8\" target=\"_top\" title=\"psysml:14188455-78e6-45cf-9446-0197417271d8\" xlink:actuate=\"onRequest\" xlink:href=\"psysml:14188455-78e6-45cf-9446-0197417271d8\" xlink:show=\"new\" xlink:title=\"psysml:14188455-78e6-45cf-9446-0197417271d8\" xlink:type=\"simple\"><rect fill=\"#FEFECE\" filter=\"url(#fam2w2b212u6j)\" height=\"58.7422\" id=\"E2\" rx=\"10\" ry=\"10\" style=\"stroke: #A80036; stroke-width: 1.5;\" width=\"92\" x=\"525\" y=\"47.5\"/><ellipse cx=\"547.65\" cy=\"66.4688\" fill=\"#0000FF\" rx=\"11\" ry=\"11\" style=\"stroke: #A80036; stroke-width: 1.0;\"/><path d=\"M548.4938,73.2188 L546.0406,73.2188 L546.0406,62.9688 L542.9,62.9688 L542.9,60.8281 L551.6344,60.8281 L551.6344,62.9688 L548.4938,62.9688 L548.4938,73.2188 Z \"/><text fill=\"#000000\" font-family=\"sans-serif\" font-size=\"12\" font-style=\"italic\" lengthAdjust=\"spacingAndGlyphs\" textLength=\"40\" x=\"564.85\" y=\"63.6387\">«part»</text><text fill=\"#000000\" font-family=\"sans-serif\" font-size=\"12\" lengthAdjust=\"spacingAndGlyphs\" textLength=\"43\" x=\"563.35\" y=\"77.6074\">vehicle</text><line style=\"stroke: #A80036; stroke-width: 1.5;\" x1=\"526\" x2=\"616\" y1=\"85.4375\" y2=\"85.4375\"/><text fill=\"#000000\" font-family=\"sans-serif\" font-size=\"11\" lengthAdjust=\"spacingAndGlyphs\" textLength=\"80\" x=\"531\" y=\"99.6479\">m: MassValue</text></a><!--MD5=[09b614a08d8cba4a07c9adeb5e0fee81]\n",
       "class E3--><a href=\"psysml:5beb719b-2071-4403-a403-a4a2a93a4090\" target=\"_top\" title=\"psysml:5beb719b-2071-4403-a403-a4a2a93a4090\" xlink:actuate=\"onRequest\" xlink:href=\"psysml:5beb719b-2071-4403-a403-a4a2a93a4090\" xlink:show=\"new\" xlink:title=\"psysml:5beb719b-2071-4403-a403-a4a2a93a4090\" xlink:type=\"simple\"><rect fill=\"#FEFECE\" filter=\"url(#fam2w2b212u6j)\" height=\"58.7422\" id=\"E3\" rx=\"10\" ry=\"10\" style=\"stroke: #A80036; stroke-width: 1.5;\" width=\"92\" x=\"387\" y=\"173\"/><ellipse cx=\"412.8\" cy=\"191.9688\" fill=\"#0000FF\" rx=\"11\" ry=\"11\" style=\"stroke: #A80036; stroke-width: 1.0;\"/><path d=\"M413.6438,198.7188 L411.1906,198.7188 L411.1906,188.4688 L408.05,188.4688 L408.05,186.3281 L416.7844,186.3281 L416.7844,188.4688 L413.6438,188.4688 L413.6438,198.7188 Z \"/><text fill=\"#000000\" font-family=\"sans-serif\" font-size=\"12\" font-style=\"italic\" lengthAdjust=\"spacingAndGlyphs\" textLength=\"40\" x=\"427.2\" y=\"189.1387\">«part»</text><text fill=\"#000000\" font-family=\"sans-serif\" font-size=\"12\" lengthAdjust=\"spacingAndGlyphs\" textLength=\"24\" x=\"435.2\" y=\"203.1074\">eng</text><line style=\"stroke: #A80036; stroke-width: 1.5;\" x1=\"388\" x2=\"478\" y1=\"210.9375\" y2=\"210.9375\"/><text fill=\"#000000\" font-family=\"sans-serif\" font-size=\"11\" lengthAdjust=\"spacingAndGlyphs\" textLength=\"80\" x=\"393\" y=\"225.1479\">m: MassValue</text></a><!--MD5=[ebbe1d658d1005bcc118a6aa81145e00]\n",
       "class E4--><a href=\"psysml:48862a39-11e7-4605-8aed-a0acf63d7872\" target=\"_top\" title=\"psysml:48862a39-11e7-4605-8aed-a0acf63d7872\" xlink:actuate=\"onRequest\" xlink:href=\"psysml:48862a39-11e7-4605-8aed-a0acf63d7872\" xlink:show=\"new\" xlink:title=\"psysml:48862a39-11e7-4605-8aed-a0acf63d7872\" xlink:type=\"simple\"><rect fill=\"#FEFECE\" filter=\"url(#fam2w2b212u6j)\" height=\"58.7422\" id=\"E4\" rx=\"10\" ry=\"10\" style=\"stroke: #A80036; stroke-width: 1.5;\" width=\"92\" x=\"514\" y=\"173\"/><ellipse cx=\"539.8\" cy=\"191.9688\" fill=\"#0000FF\" rx=\"11\" ry=\"11\" style=\"stroke: #A80036; stroke-width: 1.0;\"/><path d=\"M540.6438,198.7188 L538.1906,198.7188 L538.1906,188.4688 L535.05,188.4688 L535.05,186.3281 L543.7844,186.3281 L543.7844,188.4688 L540.6438,188.4688 L540.6438,198.7188 Z \"/><text fill=\"#000000\" font-family=\"sans-serif\" font-size=\"12\" font-style=\"italic\" lengthAdjust=\"spacingAndGlyphs\" textLength=\"40\" x=\"554.2\" y=\"189.1387\">«part»</text><text fill=\"#000000\" font-family=\"sans-serif\" font-size=\"12\" lengthAdjust=\"spacingAndGlyphs\" textLength=\"33\" x=\"557.7\" y=\"203.1074\">trans</text><line style=\"stroke: #A80036; stroke-width: 1.5;\" x1=\"515\" x2=\"605\" y1=\"210.9375\" y2=\"210.9375\"/><text fill=\"#000000\" font-family=\"sans-serif\" font-size=\"11\" lengthAdjust=\"spacingAndGlyphs\" textLength=\"80\" x=\"520\" y=\"225.1479\">m: MassValue</text></a><!--MD5=[96f4274e9e20536e775497830990834d]\n",
       "class E10--><a href=\"psysml:1d10ff1d-94f3-4fcc-ad21-5a3c75a7ba0b\" target=\"_top\" title=\"psysml:1d10ff1d-94f3-4fcc-ad21-5a3c75a7ba0b\" xlink:actuate=\"onRequest\" xlink:href=\"psysml:1d10ff1d-94f3-4fcc-ad21-5a3c75a7ba0b\" xlink:show=\"new\" xlink:title=\"psysml:1d10ff1d-94f3-4fcc-ad21-5a3c75a7ba0b\" xlink:type=\"simple\"><rect fill=\"#FEFECE\" filter=\"url(#fam2w2b212u6j)\" height=\"45.9375\" id=\"E10\" rx=\"10\" ry=\"10\" style=\"stroke: #A80036; stroke-width: 1.5;\" width=\"117\" x=\"372.5\" y=\"54\"/><ellipse cx=\"387.5\" cy=\"72.9688\" fill=\"#0000FF\" rx=\"11\" ry=\"11\" style=\"stroke: #A80036; stroke-width: 1.0;\"/><path d=\"M388.3438,79.7188 L385.8906,79.7188 L385.8906,69.4688 L382.75,69.4688 L382.75,67.3281 L391.4844,67.3281 L391.4844,69.4688 L388.3438,69.4688 L388.3438,79.7188 Z \"/><text fill=\"#000000\" font-family=\"sans-serif\" font-size=\"12\" font-style=\"italic\" lengthAdjust=\"spacingAndGlyphs\" textLength=\"82\" x=\"403\" y=\"70.1387\">«calculation»</text><text fill=\"#000000\" font-family=\"sans-serif\" font-size=\"12\" lengthAdjust=\"spacingAndGlyphs\" textLength=\"85\" x=\"401.5\" y=\"84.1074\">ms: MassSum</text><line style=\"stroke: #A80036; stroke-width: 1.5;\" x1=\"373.5\" x2=\"488.5\" y1=\"91.9375\" y2=\"91.9375\"/></a><!--MD5=[bee11217b2f71d958a27249dc326068c]\n",
       "class E14--><a href=\"psysml:5bbc6089-c972-4222-8f32-76d519ddb8cd\" target=\"_top\" title=\"psysml:5bbc6089-c972-4222-8f32-76d519ddb8cd\" xlink:actuate=\"onRequest\" xlink:href=\"psysml:5bbc6089-c972-4222-8f32-76d519ddb8cd\" xlink:show=\"new\" xlink:title=\"psysml:5bbc6089-c972-4222-8f32-76d519ddb8cd\" xlink:type=\"simple\"><rect fill=\"#FEFECE\" filter=\"url(#fam2w2b212u6j)\" height=\"71.5469\" id=\"E14\" rx=\"10\" ry=\"10\" style=\"stroke: #A80036; stroke-width: 1.5;\" width=\"125\" x=\"32.5\" y=\"41\"/><ellipse cx=\"47.5\" cy=\"59.9688\" fill=\"#0000FF\" rx=\"11\" ry=\"11\" style=\"stroke: #A80036; stroke-width: 1.0;\"/><path d=\"M48.3438,66.7188 L45.8906,66.7188 L45.8906,56.4688 L42.75,56.4688 L42.75,54.3281 L51.4844,54.3281 L51.4844,56.4688 L48.3438,56.4688 L48.3438,66.7188 Z \"/><text fill=\"#000000\" font-family=\"sans-serif\" font-size=\"12\" font-style=\"italic\" lengthAdjust=\"spacingAndGlyphs\" textLength=\"82\" x=\"67\" y=\"57.1387\">«calculation»</text><text fill=\"#000000\" font-family=\"sans-serif\" font-size=\"12\" lengthAdjust=\"spacingAndGlyphs\" textLength=\"93\" x=\"61.5\" y=\"71.1074\">ms1: MassSum</text><line style=\"stroke: #A80036; stroke-width: 1.5;\" x1=\"33.5\" x2=\"156.5\" y1=\"78.9375\" y2=\"78.9375\"/><text fill=\"#000000\" font-family=\"sans-serif\" font-size=\"11\" lengthAdjust=\"spacingAndGlyphs\" textLength=\"67\" x=\"38.5\" y=\"93.1479\">partMasses</text><text fill=\"#000000\" font-family=\"sans-serif\" font-size=\"11\" lengthAdjust=\"spacingAndGlyphs\" textLength=\"55\" x=\"38.5\" y=\"105.9526\">totalMass</text></a><text fill=\"#000000\" font-family=\"sans-serif\" font-size=\"14\" lengthAdjust=\"spacingAndGlyphs\" textLength=\"80\" x=\"159\" y=\"55.6982\">partMasses</text><rect fill=\"#A80036\" height=\"12\" style=\"stroke: #FEFECE; stroke-width: 1.5;\" width=\"12\" x=\"193\" y=\"71\"/><text fill=\"#000000\" font-family=\"sans-serif\" font-size=\"14\" lengthAdjust=\"spacingAndGlyphs\" textLength=\"66\" x=\"203\" y=\"377.7151\">totalMass</text><rect fill=\"#A80036\" height=\"12\" style=\"stroke: #FEFECE; stroke-width: 1.5;\" width=\"12\" x=\"230\" y=\"352.72\"/><text fill=\"#000000\" font-family=\"sans-serif\" font-size=\"14\" lengthAdjust=\"spacingAndGlyphs\" textLength=\"75\" x=\"253.5\" y=\"55.6982\">$collection</text><rect fill=\"#A80036\" height=\"12\" style=\"stroke: #FEFECE; stroke-width: 1.5;\" width=\"12\" x=\"285\" y=\"71\"/><text fill=\"#000000\" font-family=\"sans-serif\" font-size=\"14\" lengthAdjust=\"spacingAndGlyphs\" textLength=\"48\" x=\"259\" y=\"377.7151\">$result</text><rect fill=\"#A80036\" height=\"12\" style=\"stroke: #FEFECE; stroke-width: 1.5;\" width=\"12\" x=\"277\" y=\"352.72\"/><text fill=\"#000000\" font-family=\"sans-serif\" font-size=\"14\" lengthAdjust=\"spacingAndGlyphs\" textLength=\"80\" x=\"668\" y=\"55.6982\">partMasses</text><rect fill=\"#A80036\" height=\"12\" style=\"stroke: #FEFECE; stroke-width: 1.5;\" width=\"12\" x=\"702\" y=\"71\"/><text fill=\"#000000\" font-family=\"sans-serif\" font-size=\"14\" lengthAdjust=\"spacingAndGlyphs\" textLength=\"66\" x=\"675\" y=\"377.7151\">totalMass</text><rect fill=\"#A80036\" height=\"12\" style=\"stroke: #FEFECE; stroke-width: 1.5;\" width=\"12\" x=\"702\" y=\"352.72\"/><!--MD5=[209b3feb70ccb6233bfe1053d122c12c]\n",
       "reverse link E2 to E3--><a href=\"psysml:5beb719b-2071-4403-a403-a4a2a93a4090\" target=\"_top\" title=\"psysml:5beb719b-2071-4403-a403-a4a2a93a4090\" xlink:actuate=\"onRequest\" xlink:href=\"psysml:5beb719b-2071-4403-a403-a4a2a93a4090\" xlink:show=\"new\" xlink:title=\"psysml:5beb719b-2071-4403-a403-a4a2a93a4090\" xlink:type=\"simple\"><path d=\"M529.27,115.35 C508.75,133.71 484.39,155.51 465.31,172.58 \" fill=\"none\" id=\"E2&lt;-E3\" style=\"stroke: #A80036; stroke-width: 1.0;\"/><polygon fill=\"#A80036\" points=\"538.99,106.64,531.8517,107.662,530.0495,114.6442,537.1878,113.6223,538.99,106.64\" style=\"stroke: #A80036; stroke-width: 1.0;\"/></a><!--MD5=[9618e71518536f8baf3342ff6fdab317]\n",
       "reverse link E2 to E4--><a href=\"psysml:48862a39-11e7-4605-8aed-a0acf63d7872\" target=\"_top\" title=\"psysml:48862a39-11e7-4605-8aed-a0acf63d7872\" xlink:actuate=\"onRequest\" xlink:href=\"psysml:48862a39-11e7-4605-8aed-a0acf63d7872\" xlink:show=\"new\" xlink:title=\"psysml:48862a39-11e7-4605-8aed-a0acf63d7872\" xlink:type=\"simple\"><path d=\"M567.29,119.66 C565.74,137.05 563.98,156.83 562.58,172.58 \" fill=\"none\" id=\"E2&lt;-E4\" style=\"stroke: #A80036; stroke-width: 1.0;\"/><polygon fill=\"#A80036\" points=\"568.45,106.64,563.9321,112.2604,567.3826,118.5924,571.9004,112.972,568.45,106.64\" style=\"stroke: #A80036; stroke-width: 1.0;\"/></a><!--MD5=[1c0b9414cc86e0744215edee6abd8926]\n",
       "link E7 to E9--><a href=\"psysml:5b55f712-f9b6-4e15-aeab-345c960b0653\" target=\"_top\" title=\"psysml:5b55f712-f9b6-4e15-aeab-345c960b0653\" xlink:actuate=\"onRequest\" xlink:href=\"psysml:5b55f712-f9b6-4e15-aeab-345c960b0653\" xlink:show=\"new\" xlink:title=\"psysml:5b55f712-f9b6-4e15-aeab-345c960b0653\" xlink:type=\"simple\"><path d=\"M242.24,356.65 C253.81,353.39 265.38,353.41 276.95,356.7 \" fill=\"none\" id=\"E7-E9\" style=\"stroke: #A80036; stroke-width: 5.0;\"/></a><!--MD5=[ec5e0a54482b142abcecfe541d624bff]\n",
       "link E10 to E5--><a href=\"psysml:9917c25f-6195-4027-a1da-c593e3e3b530\" target=\"_top\" title=\"psysml:9917c25f-6195-4027-a1da-c593e3e3b530\" xlink:actuate=\"onRequest\" xlink:href=\"psysml:9917c25f-6195-4027-a1da-c593e3e3b530\" xlink:show=\"new\" xlink:title=\"psysml:9917c25f-6195-4027-a1da-c593e3e3b530\" xlink:type=\"simple\"><path d=\"M401.32,100.08 C384.955,112.255 363.7925,128 343.0438,143.4375 C332.6694,151.1563 322.3984,158.7981 312.8823,165.8784 C311.6928,166.7635 310.5151,167.6397 309.3505,168.5063 \" fill=\"none\" id=\"E10-&gt;E5\" style=\"stroke: #A80036; stroke-width: 1.0;\"/><polygon fill=\"#FFFFFF\" points=\"309.3505,168.5063,320.4154,151.5485,328.7725,162.7806,309.3505,168.5063\" style=\"stroke: #A80036; stroke-width: 1.0;\"/><ellipse cx=\"326.1824\" cy=\"149.7506\" fill=\"#A80036\" rx=\"2\" ry=\"2\" style=\"stroke: #A80036; stroke-width: 1.0;\"/><ellipse cx=\"332.1517\" cy=\"157.7735\" fill=\"#A80036\" rx=\"2\" ry=\"2\" style=\"stroke: #A80036; stroke-width: 1.0;\"/></a><!--MD5=[111e5536516ee1ad7d4266f589654f03]\n",
       "link E14 to E5--><a href=\"psysml:bf4de082-8867-4b4d-b459-dc33df5641b4\" target=\"_top\" title=\"psysml:bf4de082-8867-4b4d-b459-dc33df5641b4\" xlink:actuate=\"onRequest\" xlink:href=\"psysml:bf4de082-8867-4b4d-b459-dc33df5641b4\" xlink:show=\"new\" xlink:title=\"psysml:bf4de082-8867-4b4d-b459-dc33df5641b4\" xlink:type=\"simple\"><path d=\"M143.26,113.06 C151.3575,118.9425 160.0062,125.2256 168.8184,131.6275 C171.0215,133.228 173.2347,134.8359 175.4522,136.4468 C176.5609,137.2522 177.6706,138.0584 178.7806,138.8648 C179.3357,139.268 179.8907,139.6713 180.4458,140.0745 C180.5846,140.1754 180.7233,140.2762 180.8621,140.377 \" fill=\"none\" id=\"E14-&gt;E5\" style=\"stroke: #A80036; stroke-width: 1.0;\"/><polygon fill=\"#FFFFFF\" points=\"180.8621,140.377,161.376,134.873,169.6046,123.5464,180.8621,140.377\" style=\"stroke: #A80036; stroke-width: 1.0;\"/><ellipse cx=\"157.94\" cy=\"129.9047\" fill=\"#A80036\" rx=\"2\" ry=\"2\" style=\"stroke: #A80036; stroke-width: 1.0;\"/><ellipse cx=\"163.8175\" cy=\"121.8143\" fill=\"#A80036\" rx=\"2\" ry=\"2\" style=\"stroke: #A80036; stroke-width: 1.0;\"/></a><!--MD5=[851ebb1a177109259574d10db4246f4f]\n",
       "@startuml\r\n",
       " \r\n",
       "package \"CalculationExample\" as E1  [[psysml:7249bcac-c63a-48a6-adec-7cf675138100 ]]  {\r\n",
       "comp usage \"vehicle\" as E2  <<(T,blue)part>> [[psysml:14188455-78e6-45cf-9446-0197417271d8 ]] {\r\n",
       "m: MassValue\r\n",
       "}\r\n",
       "comp usage \"eng\" as E3  <<(T,blue)part>> [[psysml:5beb719b-2071-4403-a403-a4a2a93a4090 ]] {\r\n",
       "m: MassValue\r\n",
       "}\r\n",
       "comp usage \"trans\" as E4  <<(T,blue)part>> [[psysml:48862a39-11e7-4605-8aed-a0acf63d7872 ]] {\r\n",
       "m: MassValue\r\n",
       "}\r\n",
       "rec def \"MassSum\" as E5  <<(T,blue)calculation def>> [[psysml:8857df12-96f9-4753-a6e3-dc799dcb9ed4 ]] {\r\n",
       "portin \"partMasses\" as E6  [[psysml:8ae5fd16-1397-4172-a6e5-0c084d8d7ca2 ]] \r\n",
       "portout \"totalMass\" as E7  [[psysml:5f15c55d-7a56-4485-be6d-5834d49cebc1 ]] \r\n",
       "portin \"$collection\" as E8  [[psysml:61806866-d159-447e-b132-fa56be682adf ]] \r\n",
       "portout \"$result\" as E9  [[psysml:6ddb7e29-61e7-4184-8db5-61f90a0c49bf ]] \r\n",
       "}\r\n",
       "\r\n",
       "comp usage \"ms: MassSum\" as E10  <<(T,blue)calculation>> [[psysml:1d10ff1d-94f3-4fcc-ad21-5a3c75a7ba0b ]] {\r\n",
       "}\r\n",
       "rec def \"MassSum1\" as E11  <<(T,blue)calculation def>> [[psysml:86e0ef61-a473-4ef3-8b23-ebbfee168e1c ]] {\r\n",
       "portin \"partMasses\" as E12  [[psysml:44765cb5-91e3-4973-8d66-b6f2e5bbf87d ]] \r\n",
       "portout \"totalMass\" as E13  [[psysml:8a0a1f2d-4441-4a8a-b849-a96ed87f36a5 ]] \r\n",
       "}\r\n",
       "\r\n",
       "comp usage \"ms1: MassSum\" as E14  <<(T,blue)calculation>> [[psysml:5bbc6089-c972-4222-8f32-76d519ddb8cd ]] {\r\n",
       "partMasses\r\n",
       "totalMass\r\n",
       "}\r\n",
       "E2 *- - E3 [[psysml:5beb719b-2071-4403-a403-a4a2a93a4090 ]] \r\n",
       "E2 *- - E4 [[psysml:48862a39-11e7-4605-8aed-a0acf63d7872 ]] \r\n",
       "E7 -[thickness=5]- E9 [[psysml:5b55f712-f9b6-4e15-aeab-345c960b0653 ]] \r\n",
       "E10 - -:|> E5 [[psysml:9917c25f-6195-4027-a1da-c593e3e3b530 ]] \r\n",
       "E14 - -:|> E5 [[psysml:bf4de082-8867-4b4d-b459-dc33df5641b4 ]] \r\n",
       "}\r\n",
       "@enduml\r\n",
       "\n",
       "PlantUML version 1.2020.13(Sat Jun 13 12:26:38 UTC 2020)\n",
       "(EPL source distribution)\n",
       "Java Runtime: OpenJDK Runtime Environment\n",
       "JVM: OpenJDK 64-Bit Server VM\n",
       "Default Encoding: UTF-8\n",
       "Language: en\n",
       "Country: null\n",
       "--></g></svg>"
      ]
     },
     "execution_count": 8,
     "metadata": {},
     "output_type": "execute_result"
    }
   ],
   "source": [
    "%viz --style=\"COMPTREE\" --view=\"MIXED\" \"CalculationExample\""
   ]
  },
  {
   "cell_type": "code",
   "execution_count": 9,
   "id": "ahead-capture",
   "metadata": {
    "execution": {
     "iopub.execute_input": "2021-03-26T09:15:55.814779Z",
     "iopub.status.busy": "2021-03-26T09:15:55.814287Z",
     "iopub.status.idle": "2021-03-26T09:15:55.918444Z",
     "shell.execute_reply": "2021-03-26T09:15:55.916827Z"
    }
   },
   "outputs": [
    {
     "data": {
      "image/svg+xml": [
       "<?xml version=\"1.0\" encoding=\"UTF-8\" standalone=\"no\"?><svg xmlns=\"http://www.w3.org/2000/svg\" xmlns:xlink=\"http://www.w3.org/1999/xlink\" contentScriptType=\"application/ecmascript\" contentStyleType=\"text/css\" height=\"441px\" preserveAspectRatio=\"none\" style=\"width:788px;height:441px;\" version=\"1.1\" viewBox=\"0 0 788 441\" width=\"788px\" zoomAndPan=\"magnify\"><defs/><g><!--MD5=[fbc87193dbaf4d95561dea2c320d4a47]\n",
       "cluster E1--><a href=\"psysml:7249bcac-c63a-48a6-adec-7cf675138100\" target=\"_top\" title=\"psysml:7249bcac-c63a-48a6-adec-7cf675138100\" xlink:actuate=\"onRequest\" xlink:href=\"psysml:7249bcac-c63a-48a6-adec-7cf675138100\" xlink:show=\"new\" xlink:title=\"psysml:7249bcac-c63a-48a6-adec-7cf675138100\" xlink:type=\"simple\"><polygon fill=\"#FFFFFF\" points=\"16,6,173,6,180,28.2969,766,28.2969,766,429.72,16,429.72,16,6\" style=\"stroke: #000000; stroke-width: 1.5;\"/><line style=\"stroke: #000000; stroke-width: 1.5;\" x1=\"16\" x2=\"180\" y1=\"28.2969\" y2=\"28.2969\"/><text fill=\"#000000\" font-family=\"sans-serif\" font-size=\"14\" font-weight=\"bold\" lengthAdjust=\"spacingAndGlyphs\" textLength=\"151\" x=\"20\" y=\"20.9951\">CalculationExample</text></a><!--MD5=[de5ec2e2e8f62f467e546659f5068c88]\n",
       "cluster E5--><a href=\"psysml:8857df12-96f9-4753-a6e3-dc799dcb9ed4\" target=\"_top\" title=\"psysml:8857df12-96f9-4753-a6e3-dc799dcb9ed4\" xlink:actuate=\"onRequest\" xlink:href=\"psysml:8857df12-96f9-4753-a6e3-dc799dcb9ed4\" xlink:show=\"new\" xlink:title=\"psysml:8857df12-96f9-4753-a6e3-dc799dcb9ed4\" xlink:type=\"simple\"><rect fill=\"#FFFFFF\" height=\"306.72\" id=\"E5\" style=\"stroke: #383838; stroke-width: 1.5;\" width=\"128\" x=\"155\" y=\"85\"/><rect fill=\"#F8F8F8\" height=\"37.9375\" style=\"stroke: #383838; stroke-width: 1.5;\" width=\"128\" x=\"155\" y=\"85\"/><text fill=\"#000000\" font-family=\"sans-serif\" font-size=\"12\" font-style=\"italic\" lengthAdjust=\"spacingAndGlyphs\" textLength=\"106\" x=\"166\" y=\"101.1387\">«calculation def»</text><text fill=\"#000000\" font-family=\"sans-serif\" font-size=\"12\" lengthAdjust=\"spacingAndGlyphs\" textLength=\"59\" x=\"189.5\" y=\"115.1074\">MassSum</text></a><!--MD5=[917b9dd0c7eca3ee5f47219d1a84c0ad]\n",
       "cluster E11--><a href=\"psysml:86e0ef61-a473-4ef3-8b23-ebbfee168e1c\" target=\"_top\" title=\"psysml:86e0ef61-a473-4ef3-8b23-ebbfee168e1c\" xlink:actuate=\"onRequest\" xlink:href=\"psysml:86e0ef61-a473-4ef3-8b23-ebbfee168e1c\" xlink:show=\"new\" xlink:title=\"psysml:86e0ef61-a473-4ef3-8b23-ebbfee168e1c\" xlink:type=\"simple\"><rect fill=\"#FFFFFF\" height=\"306.72\" id=\"E11\" style=\"stroke: #383838; stroke-width: 1.5;\" width=\"166\" x=\"584\" y=\"85\"/><rect fill=\"#F8F8F8\" height=\"37.9375\" style=\"stroke: #383838; stroke-width: 1.5;\" width=\"166\" x=\"584\" y=\"85\"/><text fill=\"#000000\" font-family=\"sans-serif\" font-size=\"12\" font-style=\"italic\" lengthAdjust=\"spacingAndGlyphs\" textLength=\"106\" x=\"614\" y=\"101.1387\">«calculation def»</text><text fill=\"#000000\" font-family=\"sans-serif\" font-size=\"12\" lengthAdjust=\"spacingAndGlyphs\" textLength=\"67\" x=\"633.5\" y=\"115.1074\">MassSum1</text></a><!--MD5=[b4997ac47864f28c2f74865a473b2911]\n",
       "class E2--><a href=\"psysml:14188455-78e6-45cf-9446-0197417271d8\" target=\"_top\" title=\"psysml:14188455-78e6-45cf-9446-0197417271d8\" xlink:actuate=\"onRequest\" xlink:href=\"psysml:14188455-78e6-45cf-9446-0197417271d8\" xlink:show=\"new\" xlink:title=\"psysml:14188455-78e6-45cf-9446-0197417271d8\" xlink:type=\"simple\"><rect fill=\"#FFFFFF\" height=\"75.5469\" id=\"E2\" rx=\"10\" ry=\"10\" style=\"stroke: #383838; stroke-width: 1.5;\" width=\"92\" x=\"473\" y=\"47\"/><text fill=\"#000000\" font-family=\"sans-serif\" font-size=\"12\" font-style=\"italic\" lengthAdjust=\"spacingAndGlyphs\" textLength=\"40\" x=\"499\" y=\"63.1387\">«part»</text><text fill=\"#000000\" font-family=\"sans-serif\" font-size=\"12\" lengthAdjust=\"spacingAndGlyphs\" textLength=\"43\" x=\"497.5\" y=\"77.1074\">vehicle</text><line style=\"stroke: #383838; stroke-width: 1.5;\" x1=\"474\" x2=\"564\" y1=\"84.9375\" y2=\"84.9375\"/><text fill=\"#000000\" font-family=\"sans-serif\" font-size=\"11\" lengthAdjust=\"spacingAndGlyphs\" textLength=\"80\" x=\"479\" y=\"115.9526\">m: MassValue</text><line style=\"stroke: #383838; stroke-width: 1.0;\" x1=\"474\" x2=\"491.5\" y1=\"99.3398\" y2=\"99.3398\"/><text fill=\"#000000\" font-family=\"sans-serif\" font-size=\"11\" lengthAdjust=\"spacingAndGlyphs\" textLength=\"55\" x=\"491.5\" y=\"102.6479\">attributes</text><line style=\"stroke: #383838; stroke-width: 1.0;\" x1=\"546.5\" x2=\"564\" y1=\"99.3398\" y2=\"99.3398\"/></a><!--MD5=[09b614a08d8cba4a07c9adeb5e0fee81]\n",
       "class E3--><a href=\"psysml:5beb719b-2071-4403-a403-a4a2a93a4090\" target=\"_top\" title=\"psysml:5beb719b-2071-4403-a403-a4a2a93a4090\" xlink:actuate=\"onRequest\" xlink:href=\"psysml:5beb719b-2071-4403-a403-a4a2a93a4090\" xlink:show=\"new\" xlink:title=\"psysml:5beb719b-2071-4403-a403-a4a2a93a4090\" xlink:type=\"simple\"><rect fill=\"#FFFFFF\" height=\"75.5469\" id=\"E3\" rx=\"10\" ry=\"10\" style=\"stroke: #383838; stroke-width: 1.5;\" width=\"92\" x=\"346\" y=\"189\"/><text fill=\"#000000\" font-family=\"sans-serif\" font-size=\"12\" font-style=\"italic\" lengthAdjust=\"spacingAndGlyphs\" textLength=\"40\" x=\"372\" y=\"205.1387\">«part»</text><text fill=\"#000000\" font-family=\"sans-serif\" font-size=\"12\" lengthAdjust=\"spacingAndGlyphs\" textLength=\"24\" x=\"380\" y=\"219.1074\">eng</text><line style=\"stroke: #383838; stroke-width: 1.5;\" x1=\"347\" x2=\"437\" y1=\"226.9375\" y2=\"226.9375\"/><text fill=\"#000000\" font-family=\"sans-serif\" font-size=\"11\" lengthAdjust=\"spacingAndGlyphs\" textLength=\"80\" x=\"352\" y=\"257.9526\">m: MassValue</text><line style=\"stroke: #383838; stroke-width: 1.0;\" x1=\"347\" x2=\"364.5\" y1=\"241.3398\" y2=\"241.3398\"/><text fill=\"#000000\" font-family=\"sans-serif\" font-size=\"11\" lengthAdjust=\"spacingAndGlyphs\" textLength=\"55\" x=\"364.5\" y=\"244.6479\">attributes</text><line style=\"stroke: #383838; stroke-width: 1.0;\" x1=\"419.5\" x2=\"437\" y1=\"241.3398\" y2=\"241.3398\"/></a><!--MD5=[ebbe1d658d1005bcc118a6aa81145e00]\n",
       "class E4--><a href=\"psysml:48862a39-11e7-4605-8aed-a0acf63d7872\" target=\"_top\" title=\"psysml:48862a39-11e7-4605-8aed-a0acf63d7872\" xlink:actuate=\"onRequest\" xlink:href=\"psysml:48862a39-11e7-4605-8aed-a0acf63d7872\" xlink:show=\"new\" xlink:title=\"psysml:48862a39-11e7-4605-8aed-a0acf63d7872\" xlink:type=\"simple\"><rect fill=\"#FFFFFF\" height=\"75.5469\" id=\"E4\" rx=\"10\" ry=\"10\" style=\"stroke: #383838; stroke-width: 1.5;\" width=\"92\" x=\"473\" y=\"189\"/><text fill=\"#000000\" font-family=\"sans-serif\" font-size=\"12\" font-style=\"italic\" lengthAdjust=\"spacingAndGlyphs\" textLength=\"40\" x=\"499\" y=\"205.1387\">«part»</text><text fill=\"#000000\" font-family=\"sans-serif\" font-size=\"12\" lengthAdjust=\"spacingAndGlyphs\" textLength=\"33\" x=\"502.5\" y=\"219.1074\">trans</text><line style=\"stroke: #383838; stroke-width: 1.5;\" x1=\"474\" x2=\"564\" y1=\"226.9375\" y2=\"226.9375\"/><text fill=\"#000000\" font-family=\"sans-serif\" font-size=\"11\" lengthAdjust=\"spacingAndGlyphs\" textLength=\"80\" x=\"479\" y=\"257.9526\">m: MassValue</text><line style=\"stroke: #383838; stroke-width: 1.0;\" x1=\"474\" x2=\"491.5\" y1=\"241.3398\" y2=\"241.3398\"/><text fill=\"#000000\" font-family=\"sans-serif\" font-size=\"11\" lengthAdjust=\"spacingAndGlyphs\" textLength=\"55\" x=\"491.5\" y=\"244.6479\">attributes</text><line style=\"stroke: #383838; stroke-width: 1.0;\" x1=\"546.5\" x2=\"564\" y1=\"241.3398\" y2=\"241.3398\"/></a><!--MD5=[96f4274e9e20536e775497830990834d]\n",
       "class E10--><a href=\"psysml:1d10ff1d-94f3-4fcc-ad21-5a3c75a7ba0b\" target=\"_top\" title=\"psysml:1d10ff1d-94f3-4fcc-ad21-5a3c75a7ba0b\" xlink:actuate=\"onRequest\" xlink:href=\"psysml:1d10ff1d-94f3-4fcc-ad21-5a3c75a7ba0b\" xlink:show=\"new\" xlink:title=\"psysml:1d10ff1d-94f3-4fcc-ad21-5a3c75a7ba0b\" xlink:type=\"simple\"><rect fill=\"#FFFFFF\" height=\"45.9375\" id=\"E10\" rx=\"10\" ry=\"10\" style=\"stroke: #383838; stroke-width: 1.5;\" width=\"91\" x=\"346.5\" y=\"62\"/><text fill=\"#000000\" font-family=\"sans-serif\" font-size=\"12\" font-style=\"italic\" lengthAdjust=\"spacingAndGlyphs\" textLength=\"82\" x=\"351\" y=\"78.1387\">«calculation»</text><text fill=\"#000000\" font-family=\"sans-serif\" font-size=\"12\" lengthAdjust=\"spacingAndGlyphs\" textLength=\"85\" x=\"349.5\" y=\"92.1074\">ms: MassSum</text><line style=\"stroke: #383838; stroke-width: 1.5;\" x1=\"347.5\" x2=\"436.5\" y1=\"99.9375\" y2=\"99.9375\"/></a><!--MD5=[bee11217b2f71d958a27249dc326068c]\n",
       "class E14--><a href=\"psysml:5bbc6089-c972-4222-8f32-76d519ddb8cd\" target=\"_top\" title=\"psysml:5bbc6089-c972-4222-8f32-76d519ddb8cd\" xlink:actuate=\"onRequest\" xlink:href=\"psysml:5bbc6089-c972-4222-8f32-76d519ddb8cd\" xlink:show=\"new\" xlink:title=\"psysml:5bbc6089-c972-4222-8f32-76d519ddb8cd\" xlink:type=\"simple\"><rect fill=\"#FFFFFF\" height=\"88.3516\" id=\"E14\" rx=\"10\" ry=\"10\" style=\"stroke: #383838; stroke-width: 1.5;\" width=\"99\" x=\"32.5\" y=\"41\"/><text fill=\"#000000\" font-family=\"sans-serif\" font-size=\"12\" font-style=\"italic\" lengthAdjust=\"spacingAndGlyphs\" textLength=\"82\" x=\"41\" y=\"57.1387\">«calculation»</text><text fill=\"#000000\" font-family=\"sans-serif\" font-size=\"12\" lengthAdjust=\"spacingAndGlyphs\" textLength=\"93\" x=\"35.5\" y=\"71.1074\">ms1: MassSum</text><line style=\"stroke: #383838; stroke-width: 1.5;\" x1=\"33.5\" x2=\"130.5\" y1=\"78.9375\" y2=\"78.9375\"/><text fill=\"#000000\" font-family=\"sans-serif\" font-size=\"11\" lengthAdjust=\"spacingAndGlyphs\" textLength=\"67\" x=\"38.5\" y=\"109.9526\">partMasses</text><text fill=\"#000000\" font-family=\"sans-serif\" font-size=\"11\" lengthAdjust=\"spacingAndGlyphs\" textLength=\"55\" x=\"38.5\" y=\"122.7573\">totalMass</text><line style=\"stroke: #383838; stroke-width: 1.0;\" x1=\"33.5\" x2=\"54.5\" y1=\"93.3398\" y2=\"93.3398\"/><text fill=\"#000000\" font-family=\"sans-serif\" font-size=\"11\" lengthAdjust=\"spacingAndGlyphs\" textLength=\"55\" x=\"54.5\" y=\"96.6479\">attributes</text><line style=\"stroke: #383838; stroke-width: 1.0;\" x1=\"109.5\" x2=\"130.5\" y1=\"93.3398\" y2=\"93.3398\"/></a><text fill=\"#000000\" font-family=\"sans-serif\" font-size=\"14\" lengthAdjust=\"spacingAndGlyphs\" textLength=\"80\" x=\"133\" y=\"63.6982\">partMasses</text><rect fill=\"#383838\" height=\"12\" style=\"stroke: #F8F8F8; stroke-width: 1.5;\" width=\"12\" x=\"167\" y=\"79\"/><text fill=\"#000000\" font-family=\"sans-serif\" font-size=\"14\" lengthAdjust=\"spacingAndGlyphs\" textLength=\"66\" x=\"177\" y=\"410.7151\">totalMass</text><rect fill=\"#383838\" height=\"12\" style=\"stroke: #F8F8F8; stroke-width: 1.5;\" width=\"12\" x=\"204\" y=\"385.72\"/><text fill=\"#000000\" font-family=\"sans-serif\" font-size=\"14\" lengthAdjust=\"spacingAndGlyphs\" textLength=\"75\" x=\"227.5\" y=\"63.6982\">$collection</text><rect fill=\"#383838\" height=\"12\" style=\"stroke: #F8F8F8; stroke-width: 1.5;\" width=\"12\" x=\"259\" y=\"79\"/><text fill=\"#000000\" font-family=\"sans-serif\" font-size=\"14\" lengthAdjust=\"spacingAndGlyphs\" textLength=\"48\" x=\"233\" y=\"410.7151\">$result</text><rect fill=\"#383838\" height=\"12\" style=\"stroke: #F8F8F8; stroke-width: 1.5;\" width=\"12\" x=\"251\" y=\"385.72\"/><text fill=\"#000000\" font-family=\"sans-serif\" font-size=\"14\" lengthAdjust=\"spacingAndGlyphs\" textLength=\"80\" x=\"627\" y=\"63.6982\">partMasses</text><rect fill=\"#383838\" height=\"12\" style=\"stroke: #F8F8F8; stroke-width: 1.5;\" width=\"12\" x=\"661\" y=\"79\"/><text fill=\"#000000\" font-family=\"sans-serif\" font-size=\"14\" lengthAdjust=\"spacingAndGlyphs\" textLength=\"66\" x=\"634\" y=\"410.7151\">totalMass</text><rect fill=\"#383838\" height=\"12\" style=\"stroke: #F8F8F8; stroke-width: 1.5;\" width=\"12\" x=\"661\" y=\"385.72\"/><!--MD5=[209b3feb70ccb6233bfe1053d122c12c]\n",
       "reverse link E2 to E3--><a href=\"psysml:5beb719b-2071-4403-a403-a4a2a93a4090\" target=\"_top\" title=\"psysml:5beb719b-2071-4403-a403-a4a2a93a4090\" xlink:actuate=\"onRequest\" xlink:href=\"psysml:5beb719b-2071-4403-a403-a4a2a93a4090\" xlink:show=\"new\" xlink:title=\"psysml:5beb719b-2071-4403-a403-a4a2a93a4090\" xlink:type=\"simple\"><path d=\"M476.41,132.95 C459.95,151.1 441.38,171.57 425.86,188.68 \" fill=\"none\" id=\"E2&lt;-E3\" style=\"stroke: #383838; stroke-width: 1.0;\"/><polygon fill=\"#383838\" points=\"485.3,123.15,478.3052,124.9031,477.2332,132.0341,484.2279,130.281,485.3,123.15\" style=\"stroke: #383838; stroke-width: 1.0;\"/></a><!--MD5=[9618e71518536f8baf3342ff6fdab317]\n",
       "reverse link E2 to E4--><a href=\"psysml:48862a39-11e7-4605-8aed-a0acf63d7872\" target=\"_top\" title=\"psysml:48862a39-11e7-4605-8aed-a0acf63d7872\" xlink:actuate=\"onRequest\" xlink:href=\"psysml:48862a39-11e7-4605-8aed-a0acf63d7872\" xlink:show=\"new\" xlink:title=\"psysml:48862a39-11e7-4605-8aed-a0acf63d7872\" xlink:type=\"simple\"><path d=\"M519,136.25 C519,153.55 519,172.6 519,188.68 \" fill=\"none\" id=\"E2&lt;-E4\" style=\"stroke: #383838; stroke-width: 1.0;\"/><polygon fill=\"#383838\" points=\"519,123.15,515,129.15,519,135.15,523,129.15,519,123.15\" style=\"stroke: #383838; stroke-width: 1.0;\"/></a><!--MD5=[1c0b9414cc86e0744215edee6abd8926]\n",
       "link E7 to E9--><a href=\"psysml:5b55f712-f9b6-4e15-aeab-345c960b0653\" target=\"_top\" title=\"psysml:5b55f712-f9b6-4e15-aeab-345c960b0653\" xlink:actuate=\"onRequest\" xlink:href=\"psysml:5b55f712-f9b6-4e15-aeab-345c960b0653\" xlink:show=\"new\" xlink:title=\"psysml:5b55f712-f9b6-4e15-aeab-345c960b0653\" xlink:type=\"simple\"><path d=\"M216.01,389.42 C220.43,387.73 225.67,385.72 225.67,385.72 C225.67,385.72 241.33,385.72 241.33,385.72 C241.33,385.72 246.57,387.73 250.99,389.42 \" fill=\"none\" id=\"E7-E9\" style=\"stroke: #383838; stroke-width: 5.0;\"/></a><!--MD5=[ec5e0a54482b142abcecfe541d624bff]\n",
       "link E10 to E5--><a href=\"psysml:9917c25f-6195-4027-a1da-c593e3e3b530\" target=\"_top\" title=\"psysml:9917c25f-6195-4027-a1da-c593e3e3b530\" xlink:actuate=\"onRequest\" xlink:href=\"psysml:9917c25f-6195-4027-a1da-c593e3e3b530\" xlink:show=\"new\" xlink:title=\"psysml:9917c25f-6195-4027-a1da-c593e3e3b530\" xlink:type=\"simple\"><path d=\"M367.76,108.18 C352.425,122.215 331.7225,141.16 311.4063,159.75 C306.3272,164.3975 301.2723,169.0228 296.3314,173.5437 C293.8609,175.8041 291.419,178.0384 289.0168,180.2363 C287.8157,181.3353 286.6246,182.4252 285.4448,183.5046 C284.8549,184.0444 284.2678,184.5815 283.6837,185.1159 C283.5377,185.2495 283.3919,185.3829 283.2463,185.5162 \" fill=\"none\" id=\"E10-&gt;E5\" style=\"stroke: #383838; stroke-width: 1.0;\"/><polygon fill=\"#FFFFFF\" points=\"283.2463,185.5162,292.5389,167.526,301.9894,177.855,283.2463,185.5162\" style=\"stroke: #383838; stroke-width: 1.0;\"/><ellipse cx=\"298.0944\" cy=\"165.1539\" fill=\"#383838\" rx=\"2\" ry=\"2\" style=\"stroke: #383838; stroke-width: 1.0;\"/><ellipse cx=\"304.8447\" cy=\"172.5317\" fill=\"#383838\" rx=\"2\" ry=\"2\" style=\"stroke: #383838; stroke-width: 1.0;\"/></a><!--MD5=[111e5536516ee1ad7d4266f589654f03]\n",
       "link E14 to E5--><a href=\"psysml:bf4de082-8867-4b4d-b459-dc33df5641b4\" target=\"_top\" title=\"psysml:bf4de082-8867-4b4d-b459-dc33df5641b4\" xlink:actuate=\"onRequest\" xlink:href=\"psysml:bf4de082-8867-4b4d-b459-dc33df5641b4\" xlink:show=\"new\" xlink:title=\"psysml:bf4de082-8867-4b4d-b459-dc33df5641b4\" xlink:type=\"simple\"><path d=\"M130.39,129.15 C138.0025,135.9375 146.0606,143.1225 154.2098,150.3889 C154.4645,150.616 154.7193,150.8431 154.9741,151.0704 \" fill=\"none\" id=\"E14-&gt;E5\" style=\"stroke: #383838; stroke-width: 1.0;\"/><polygon fill=\"#FFFFFF\" points=\"154.9741,151.0704,136.1343,143.6501,145.4516,133.2008,154.9741,151.0704\" style=\"stroke: #383838; stroke-width: 1.0;\"/><ellipse cx=\"133.211\" cy=\"138.3638\" fill=\"#383838\" rx=\"2\" ry=\"2\" style=\"stroke: #383838; stroke-width: 1.0;\"/><ellipse cx=\"139.8662\" cy=\"130.9001\" fill=\"#383838\" rx=\"2\" ry=\"2\" style=\"stroke: #383838; stroke-width: 1.0;\"/></a><!--MD5=[dbfc2c87d736ec11f07d330f8e84c927]\n",
       "@startuml\r\n",
       "skinparam linetype polyline\r\n",
       "skinparam monochrome true\r\n",
       "skinparam classbackgroundcolor white\r\n",
       "skinparam shadowing false\r\n",
       "skinparam wrapWidth 300\r\n",
       "hide circle\r\n",
       "\r\n",
       "package \"CalculationExample\" as E1  [[psysml:7249bcac-c63a-48a6-adec-7cf675138100 ]]  {\r\n",
       "comp usage \"vehicle\" as E2  <<(T,blue)part>> [[psysml:14188455-78e6-45cf-9446-0197417271d8 ]] {\r\n",
       "- - attributes - -\r\n",
       "m: MassValue\r\n",
       "}\r\n",
       "comp usage \"eng\" as E3  <<(T,blue)part>> [[psysml:5beb719b-2071-4403-a403-a4a2a93a4090 ]] {\r\n",
       "- - attributes - -\r\n",
       "m: MassValue\r\n",
       "}\r\n",
       "comp usage \"trans\" as E4  <<(T,blue)part>> [[psysml:48862a39-11e7-4605-8aed-a0acf63d7872 ]] {\r\n",
       "- - attributes - -\r\n",
       "m: MassValue\r\n",
       "}\r\n",
       "rec def \"MassSum\" as E5  <<(T,blue)calculation def>> [[psysml:8857df12-96f9-4753-a6e3-dc799dcb9ed4 ]] {\r\n",
       "portin \"partMasses\" as E6  [[psysml:8ae5fd16-1397-4172-a6e5-0c084d8d7ca2 ]] \r\n",
       "portout \"totalMass\" as E7  [[psysml:5f15c55d-7a56-4485-be6d-5834d49cebc1 ]] \r\n",
       "portin \"$collection\" as E8  [[psysml:61806866-d159-447e-b132-fa56be682adf ]] \r\n",
       "portout \"$result\" as E9  [[psysml:6ddb7e29-61e7-4184-8db5-61f90a0c49bf ]] \r\n",
       "}\r\n",
       "\r\n",
       "comp usage \"ms: MassSum\" as E10  <<(T,blue)calculation>> [[psysml:1d10ff1d-94f3-4fcc-ad21-5a3c75a7ba0b ]] {\r\n",
       "}\r\n",
       "rec def \"MassSum1\" as E11  <<(T,blue)calculation def>> [[psysml:86e0ef61-a473-4ef3-8b23-ebbfee168e1c ]] {\r\n",
       "portin \"partMasses\" as E12  [[psysml:44765cb5-91e3-4973-8d66-b6f2e5bbf87d ]] \r\n",
       "portout \"totalMass\" as E13  [[psysml:8a0a1f2d-4441-4a8a-b849-a96ed87f36a5 ]] \r\n",
       "}\r\n",
       "\r\n",
       "comp usage \"ms1: MassSum\" as E14  <<(T,blue)calculation>> [[psysml:5bbc6089-c972-4222-8f32-76d519ddb8cd ]] {\r\n",
       "- - attributes - -\r\n",
       "partMasses\r\n",
       "totalMass\r\n",
       "}\r\n",
       "E2 *- - E3 [[psysml:5beb719b-2071-4403-a403-a4a2a93a4090 ]] \r\n",
       "E2 *- - E4 [[psysml:48862a39-11e7-4605-8aed-a0acf63d7872 ]] \r\n",
       "E7 -[thickness=5]- E9 [[psysml:5b55f712-f9b6-4e15-aeab-345c960b0653 ]] \r\n",
       "E10 - -:|> E5 [[psysml:9917c25f-6195-4027-a1da-c593e3e3b530 ]] \r\n",
       "E14 - -:|> E5 [[psysml:bf4de082-8867-4b4d-b459-dc33df5641b4 ]] \r\n",
       "}\r\n",
       "@enduml\r\n",
       "\n",
       "PlantUML version 1.2020.13(Sat Jun 13 12:26:38 UTC 2020)\n",
       "(EPL source distribution)\n",
       "Java Runtime: OpenJDK Runtime Environment\n",
       "JVM: OpenJDK 64-Bit Server VM\n",
       "Default Encoding: UTF-8\n",
       "Language: en\n",
       "Country: null\n",
       "--></g></svg>"
      ]
     },
     "execution_count": 9,
     "metadata": {},
     "output_type": "execute_result"
    }
   ],
   "source": [
    "%viz --style=\"POLYLINE\" --view=\"Default\" \"CalculationExample\""
   ]
  },
  {
   "cell_type": "code",
   "execution_count": 10,
   "id": "technological-calculation",
   "metadata": {
    "execution": {
     "iopub.execute_input": "2021-03-26T09:15:55.968607Z",
     "iopub.status.busy": "2021-03-26T09:15:55.968263Z",
     "iopub.status.idle": "2021-03-26T09:15:56.084769Z",
     "shell.execute_reply": "2021-03-26T09:15:56.083459Z"
    }
   },
   "outputs": [
    {
     "data": {
      "image/svg+xml": [
       "<?xml version=\"1.0\" encoding=\"UTF-8\" standalone=\"no\"?><svg xmlns=\"http://www.w3.org/2000/svg\" xmlns:xlink=\"http://www.w3.org/1999/xlink\" contentScriptType=\"application/ecmascript\" contentStyleType=\"text/css\" height=\"293px\" preserveAspectRatio=\"none\" style=\"width:607px;height:293px;\" version=\"1.1\" viewBox=\"0 0 607 293\" width=\"607px\" zoomAndPan=\"magnify\"><defs/><g><!--MD5=[fbc87193dbaf4d95561dea2c320d4a47]\n",
       "cluster E1--><a href=\"psysml:7249bcac-c63a-48a6-adec-7cf675138100\" target=\"_top\" title=\"psysml:7249bcac-c63a-48a6-adec-7cf675138100\" xlink:actuate=\"onRequest\" xlink:href=\"psysml:7249bcac-c63a-48a6-adec-7cf675138100\" xlink:show=\"new\" xlink:title=\"psysml:7249bcac-c63a-48a6-adec-7cf675138100\" xlink:type=\"simple\"><polygon fill=\"#FFFFFF\" points=\"16,6,173,6,180,28.2969,585,28.2969,585,281,16,281,16,6\" style=\"stroke: #000000; stroke-width: 1.5;\"/><line style=\"stroke: #000000; stroke-width: 1.5;\" x1=\"16\" x2=\"180\" y1=\"28.2969\" y2=\"28.2969\"/><text fill=\"#000000\" font-family=\"sans-serif\" font-size=\"14\" font-weight=\"bold\" lengthAdjust=\"spacingAndGlyphs\" textLength=\"151\" x=\"20\" y=\"20.9951\">CalculationExample</text></a><!--MD5=[b4997ac47864f28c2f74865a473b2911]\n",
       "class E2--><a href=\"psysml:14188455-78e6-45cf-9446-0197417271d8\" target=\"_top\" title=\"psysml:14188455-78e6-45cf-9446-0197417271d8\" xlink:actuate=\"onRequest\" xlink:href=\"psysml:14188455-78e6-45cf-9446-0197417271d8\" xlink:show=\"new\" xlink:title=\"psysml:14188455-78e6-45cf-9446-0197417271d8\" xlink:type=\"simple\"><rect fill=\"#FFFFFF\" height=\"75.5469\" id=\"E2\" rx=\"10\" ry=\"10\" style=\"stroke: #383838; stroke-width: 1.5;\" width=\"92\" x=\"477\" y=\"47\"/><text fill=\"#000000\" font-family=\"sans-serif\" font-size=\"12\" font-style=\"italic\" lengthAdjust=\"spacingAndGlyphs\" textLength=\"40\" x=\"503\" y=\"63.1387\">«part»</text><text fill=\"#000000\" font-family=\"sans-serif\" font-size=\"12\" lengthAdjust=\"spacingAndGlyphs\" textLength=\"43\" x=\"501.5\" y=\"77.1074\">vehicle</text><line style=\"stroke: #383838; stroke-width: 1.5;\" x1=\"478\" x2=\"568\" y1=\"84.9375\" y2=\"84.9375\"/><text fill=\"#000000\" font-family=\"sans-serif\" font-size=\"11\" lengthAdjust=\"spacingAndGlyphs\" textLength=\"80\" x=\"483\" y=\"115.9526\">m: MassValue</text><line style=\"stroke: #383838; stroke-width: 1.0;\" x1=\"478\" x2=\"495.5\" y1=\"99.3398\" y2=\"99.3398\"/><text fill=\"#000000\" font-family=\"sans-serif\" font-size=\"11\" lengthAdjust=\"spacingAndGlyphs\" textLength=\"55\" x=\"495.5\" y=\"102.6479\">attributes</text><line style=\"stroke: #383838; stroke-width: 1.0;\" x1=\"550.5\" x2=\"568\" y1=\"99.3398\" y2=\"99.3398\"/></a><!--MD5=[09b614a08d8cba4a07c9adeb5e0fee81]\n",
       "class E3--><a href=\"psysml:5beb719b-2071-4403-a403-a4a2a93a4090\" target=\"_top\" title=\"psysml:5beb719b-2071-4403-a403-a4a2a93a4090\" xlink:actuate=\"onRequest\" xlink:href=\"psysml:5beb719b-2071-4403-a403-a4a2a93a4090\" xlink:show=\"new\" xlink:title=\"psysml:5beb719b-2071-4403-a403-a4a2a93a4090\" xlink:type=\"simple\"><rect fill=\"#FFFFFF\" height=\"75.5469\" id=\"E3\" rx=\"10\" ry=\"10\" style=\"stroke: #383838; stroke-width: 1.5;\" width=\"92\" x=\"350\" y=\"189\"/><text fill=\"#000000\" font-family=\"sans-serif\" font-size=\"12\" font-style=\"italic\" lengthAdjust=\"spacingAndGlyphs\" textLength=\"40\" x=\"376\" y=\"205.1387\">«part»</text><text fill=\"#000000\" font-family=\"sans-serif\" font-size=\"12\" lengthAdjust=\"spacingAndGlyphs\" textLength=\"24\" x=\"384\" y=\"219.1074\">eng</text><line style=\"stroke: #383838; stroke-width: 1.5;\" x1=\"351\" x2=\"441\" y1=\"226.9375\" y2=\"226.9375\"/><text fill=\"#000000\" font-family=\"sans-serif\" font-size=\"11\" lengthAdjust=\"spacingAndGlyphs\" textLength=\"80\" x=\"356\" y=\"257.9526\">m: MassValue</text><line style=\"stroke: #383838; stroke-width: 1.0;\" x1=\"351\" x2=\"368.5\" y1=\"241.3398\" y2=\"241.3398\"/><text fill=\"#000000\" font-family=\"sans-serif\" font-size=\"11\" lengthAdjust=\"spacingAndGlyphs\" textLength=\"55\" x=\"368.5\" y=\"244.6479\">attributes</text><line style=\"stroke: #383838; stroke-width: 1.0;\" x1=\"423.5\" x2=\"441\" y1=\"241.3398\" y2=\"241.3398\"/></a><!--MD5=[ebbe1d658d1005bcc118a6aa81145e00]\n",
       "class E4--><a href=\"psysml:48862a39-11e7-4605-8aed-a0acf63d7872\" target=\"_top\" title=\"psysml:48862a39-11e7-4605-8aed-a0acf63d7872\" xlink:actuate=\"onRequest\" xlink:href=\"psysml:48862a39-11e7-4605-8aed-a0acf63d7872\" xlink:show=\"new\" xlink:title=\"psysml:48862a39-11e7-4605-8aed-a0acf63d7872\" xlink:type=\"simple\"><rect fill=\"#FFFFFF\" height=\"75.5469\" id=\"E4\" rx=\"10\" ry=\"10\" style=\"stroke: #383838; stroke-width: 1.5;\" width=\"92\" x=\"477\" y=\"189\"/><text fill=\"#000000\" font-family=\"sans-serif\" font-size=\"12\" font-style=\"italic\" lengthAdjust=\"spacingAndGlyphs\" textLength=\"40\" x=\"503\" y=\"205.1387\">«part»</text><text fill=\"#000000\" font-family=\"sans-serif\" font-size=\"12\" lengthAdjust=\"spacingAndGlyphs\" textLength=\"33\" x=\"506.5\" y=\"219.1074\">trans</text><line style=\"stroke: #383838; stroke-width: 1.5;\" x1=\"478\" x2=\"568\" y1=\"226.9375\" y2=\"226.9375\"/><text fill=\"#000000\" font-family=\"sans-serif\" font-size=\"11\" lengthAdjust=\"spacingAndGlyphs\" textLength=\"80\" x=\"483\" y=\"257.9526\">m: MassValue</text><line style=\"stroke: #383838; stroke-width: 1.0;\" x1=\"478\" x2=\"495.5\" y1=\"241.3398\" y2=\"241.3398\"/><text fill=\"#000000\" font-family=\"sans-serif\" font-size=\"11\" lengthAdjust=\"spacingAndGlyphs\" textLength=\"55\" x=\"495.5\" y=\"244.6479\">attributes</text><line style=\"stroke: #383838; stroke-width: 1.0;\" x1=\"550.5\" x2=\"568\" y1=\"241.3398\" y2=\"241.3398\"/></a><!--MD5=[270fce915f116d4de14055a7c1d9a0f3]\n",
       "class E5--><a href=\"psysml:8857df12-96f9-4753-a6e3-dc799dcb9ed4\" target=\"_top\" title=\"psysml:8857df12-96f9-4753-a6e3-dc799dcb9ed4\" xlink:actuate=\"onRequest\" xlink:href=\"psysml:8857df12-96f9-4753-a6e3-dc799dcb9ed4\" xlink:show=\"new\" xlink:title=\"psysml:8857df12-96f9-4753-a6e3-dc799dcb9ed4\" xlink:type=\"simple\"><rect fill=\"#FFFFFF\" height=\"45.9375\" id=\"E5\" style=\"stroke: #383838; stroke-width: 1.5;\" width=\"108\" x=\"120\" y=\"204\"/><text fill=\"#000000\" font-family=\"sans-serif\" font-size=\"12\" font-style=\"italic\" lengthAdjust=\"spacingAndGlyphs\" textLength=\"106\" x=\"121\" y=\"220.1387\">«calculation def»</text><text fill=\"#000000\" font-family=\"sans-serif\" font-size=\"12\" lengthAdjust=\"spacingAndGlyphs\" textLength=\"59\" x=\"144.5\" y=\"234.1074\">MassSum</text><line style=\"stroke: #383838; stroke-width: 1.5;\" x1=\"121\" x2=\"227\" y1=\"241.9375\" y2=\"241.9375\"/></a><!--MD5=[60a26617385b1d2d0262a64233df1f8d]\n",
       "class E6--><a href=\"psysml:1d10ff1d-94f3-4fcc-ad21-5a3c75a7ba0b\" target=\"_top\" title=\"psysml:1d10ff1d-94f3-4fcc-ad21-5a3c75a7ba0b\" xlink:actuate=\"onRequest\" xlink:href=\"psysml:1d10ff1d-94f3-4fcc-ad21-5a3c75a7ba0b\" xlink:show=\"new\" xlink:title=\"psysml:1d10ff1d-94f3-4fcc-ad21-5a3c75a7ba0b\" xlink:type=\"simple\"><rect fill=\"#FFFFFF\" height=\"45.9375\" id=\"E6\" rx=\"10\" ry=\"10\" style=\"stroke: #383838; stroke-width: 1.5;\" width=\"91\" x=\"350.5\" y=\"62\"/><text fill=\"#000000\" font-family=\"sans-serif\" font-size=\"12\" font-style=\"italic\" lengthAdjust=\"spacingAndGlyphs\" textLength=\"82\" x=\"355\" y=\"78.1387\">«calculation»</text><text fill=\"#000000\" font-family=\"sans-serif\" font-size=\"12\" lengthAdjust=\"spacingAndGlyphs\" textLength=\"85\" x=\"353.5\" y=\"92.1074\">ms: MassSum</text><line style=\"stroke: #383838; stroke-width: 1.5;\" x1=\"351.5\" x2=\"440.5\" y1=\"99.9375\" y2=\"99.9375\"/></a><!--MD5=[2156ba9850f5573cc1fc38a6a4b2f02b]\n",
       "class E7--><a href=\"psysml:86e0ef61-a473-4ef3-8b23-ebbfee168e1c\" target=\"_top\" title=\"psysml:86e0ef61-a473-4ef3-8b23-ebbfee168e1c\" xlink:actuate=\"onRequest\" xlink:href=\"psysml:86e0ef61-a473-4ef3-8b23-ebbfee168e1c\" xlink:show=\"new\" xlink:title=\"psysml:86e0ef61-a473-4ef3-8b23-ebbfee168e1c\" xlink:type=\"simple\"><rect fill=\"#FFFFFF\" height=\"88.3516\" id=\"E7\" style=\"stroke: #383838; stroke-width: 1.5;\" width=\"148\" x=\"167\" y=\"41\"/><text fill=\"#000000\" font-family=\"sans-serif\" font-size=\"12\" font-style=\"italic\" lengthAdjust=\"spacingAndGlyphs\" textLength=\"106\" x=\"188\" y=\"57.1387\">«calculation def»</text><text fill=\"#000000\" font-family=\"sans-serif\" font-size=\"12\" lengthAdjust=\"spacingAndGlyphs\" textLength=\"67\" x=\"207.5\" y=\"71.1074\">MassSum1</text><line style=\"stroke: #383838; stroke-width: 1.5;\" x1=\"168\" x2=\"314\" y1=\"78.9375\" y2=\"78.9375\"/><text fill=\"#000000\" font-family=\"sans-serif\" font-size=\"11\" lengthAdjust=\"spacingAndGlyphs\" textLength=\"136\" x=\"173\" y=\"109.9526\">partMasses: MassValue</text><text fill=\"#000000\" font-family=\"sans-serif\" font-size=\"11\" lengthAdjust=\"spacingAndGlyphs\" textLength=\"124\" x=\"173\" y=\"122.7573\">totalMass: MassValue</text><line style=\"stroke: #383838; stroke-width: 1.0;\" x1=\"168\" x2=\"213.5\" y1=\"93.3398\" y2=\"93.3398\"/><text fill=\"#000000\" font-family=\"sans-serif\" font-size=\"11\" lengthAdjust=\"spacingAndGlyphs\" textLength=\"55\" x=\"213.5\" y=\"96.6479\">attributes</text><line style=\"stroke: #383838; stroke-width: 1.0;\" x1=\"268.5\" x2=\"314\" y1=\"93.3398\" y2=\"93.3398\"/></a><!--MD5=[b9389687b975829384b498ac4b7476b2]\n",
       "class E8--><a href=\"psysml:5bbc6089-c972-4222-8f32-76d519ddb8cd\" target=\"_top\" title=\"psysml:5bbc6089-c972-4222-8f32-76d519ddb8cd\" xlink:actuate=\"onRequest\" xlink:href=\"psysml:5bbc6089-c972-4222-8f32-76d519ddb8cd\" xlink:show=\"new\" xlink:title=\"psysml:5bbc6089-c972-4222-8f32-76d519ddb8cd\" xlink:type=\"simple\"><rect fill=\"#FFFFFF\" height=\"88.3516\" id=\"E8\" rx=\"10\" ry=\"10\" style=\"stroke: #383838; stroke-width: 1.5;\" width=\"99\" x=\"32.5\" y=\"41\"/><text fill=\"#000000\" font-family=\"sans-serif\" font-size=\"12\" font-style=\"italic\" lengthAdjust=\"spacingAndGlyphs\" textLength=\"82\" x=\"41\" y=\"57.1387\">«calculation»</text><text fill=\"#000000\" font-family=\"sans-serif\" font-size=\"12\" lengthAdjust=\"spacingAndGlyphs\" textLength=\"93\" x=\"35.5\" y=\"71.1074\">ms1: MassSum</text><line style=\"stroke: #383838; stroke-width: 1.5;\" x1=\"33.5\" x2=\"130.5\" y1=\"78.9375\" y2=\"78.9375\"/><text fill=\"#000000\" font-family=\"sans-serif\" font-size=\"11\" lengthAdjust=\"spacingAndGlyphs\" textLength=\"67\" x=\"38.5\" y=\"109.9526\">partMasses</text><text fill=\"#000000\" font-family=\"sans-serif\" font-size=\"11\" lengthAdjust=\"spacingAndGlyphs\" textLength=\"55\" x=\"38.5\" y=\"122.7573\">totalMass</text><line style=\"stroke: #383838; stroke-width: 1.0;\" x1=\"33.5\" x2=\"54.5\" y1=\"93.3398\" y2=\"93.3398\"/><text fill=\"#000000\" font-family=\"sans-serif\" font-size=\"11\" lengthAdjust=\"spacingAndGlyphs\" textLength=\"55\" x=\"54.5\" y=\"96.6479\">attributes</text><line style=\"stroke: #383838; stroke-width: 1.0;\" x1=\"109.5\" x2=\"130.5\" y1=\"93.3398\" y2=\"93.3398\"/></a><!--MD5=[209b3feb70ccb6233bfe1053d122c12c]\n",
       "reverse link E2 to E3--><a href=\"psysml:5beb719b-2071-4403-a403-a4a2a93a4090\" target=\"_top\" title=\"psysml:5beb719b-2071-4403-a403-a4a2a93a4090\" xlink:actuate=\"onRequest\" xlink:href=\"psysml:5beb719b-2071-4403-a403-a4a2a93a4090\" xlink:show=\"new\" xlink:title=\"psysml:5beb719b-2071-4403-a403-a4a2a93a4090\" xlink:type=\"simple\"><path d=\"M480.41,132.95 C463.95,151.1 445.38,171.57 429.86,188.68 \" fill=\"none\" id=\"E2&lt;-E3\" style=\"stroke: #383838; stroke-width: 1.0;\"/><polygon fill=\"#383838\" points=\"489.3,123.15,482.3052,124.9031,481.2332,132.0341,488.2279,130.281,489.3,123.15\" style=\"stroke: #383838; stroke-width: 1.0;\"/></a><!--MD5=[9618e71518536f8baf3342ff6fdab317]\n",
       "reverse link E2 to E4--><a href=\"psysml:48862a39-11e7-4605-8aed-a0acf63d7872\" target=\"_top\" title=\"psysml:48862a39-11e7-4605-8aed-a0acf63d7872\" xlink:actuate=\"onRequest\" xlink:href=\"psysml:48862a39-11e7-4605-8aed-a0acf63d7872\" xlink:show=\"new\" xlink:title=\"psysml:48862a39-11e7-4605-8aed-a0acf63d7872\" xlink:type=\"simple\"><path d=\"M523,136.25 C523,153.55 523,172.6 523,188.68 \" fill=\"none\" id=\"E2&lt;-E4\" style=\"stroke: #383838; stroke-width: 1.0;\"/><polygon fill=\"#383838\" points=\"523,123.15,519,129.15,523,135.15,527,129.15,523,123.15\" style=\"stroke: #383838; stroke-width: 1.0;\"/></a><!--MD5=[25b190c987b1e74e5126d372c5a73af1]\n",
       "link E6 to E5--><a href=\"psysml:9917c25f-6195-4027-a1da-c593e3e3b530\" target=\"_top\" title=\"psysml:9917c25f-6195-4027-a1da-c593e3e3b530\" xlink:actuate=\"onRequest\" xlink:href=\"psysml:9917c25f-6195-4027-a1da-c593e3e3b530\" xlink:show=\"new\" xlink:title=\"psysml:9917c25f-6195-4027-a1da-c593e3e3b530\" xlink:type=\"simple\"><path d=\"M363.76,108 C348.26,118.58 333,129 333,129 C333,129 273.5,165.3 227.3,193.49 \" fill=\"none\" id=\"E6-&gt;E5\" style=\"stroke: #383838; stroke-width: 1.0;\"/><polygon fill=\"#FFFFFF\" points=\"210.08,203.99,222.6546,188.1193,229.9456,200.0709,210.08,203.99\" style=\"stroke: #383838; stroke-width: 1.0;\"/><ellipse cx=\"228.5622\" cy=\"186.8582\" fill=\"#383838\" rx=\"2\" ry=\"2\" style=\"stroke: #383838; stroke-width: 1.0;\"/><ellipse cx=\"233.77\" cy=\"195.395\" fill=\"#383838\" rx=\"2\" ry=\"2\" style=\"stroke: #383838; stroke-width: 1.0;\"/></a><!--MD5=[1ccb2481ffa92f8d51a74ee30c51832a]\n",
       "link E8 to E5--><a href=\"psysml:bf4de082-8867-4b4d-b459-dc33df5641b4\" target=\"_top\" title=\"psysml:bf4de082-8867-4b4d-b459-dc33df5641b4\" xlink:actuate=\"onRequest\" xlink:href=\"psysml:bf4de082-8867-4b4d-b459-dc33df5641b4\" xlink:show=\"new\" xlink:title=\"psysml:bf4de082-8867-4b4d-b459-dc33df5641b4\" xlink:type=\"simple\"><path d=\"M110.35,129.15 C122.49,147.61 136.55,169.01 148.37,186.99 \" fill=\"none\" id=\"E8-&gt;E5\" style=\"stroke: #383838; stroke-width: 1.0;\"/><polygon fill=\"#FFFFFF\" points=\"159.48,203.91,143.1947,191.8772,154.8939,184.1877,159.48,203.91\" style=\"stroke: #383838; stroke-width: 1.0;\"/><ellipse cx=\"141.7353\" cy=\"186.0155\" fill=\"#383838\" rx=\"2\" ry=\"2\" style=\"stroke: #383838; stroke-width: 1.0;\"/><ellipse cx=\"150.0918\" cy=\"180.523\" fill=\"#383838\" rx=\"2\" ry=\"2\" style=\"stroke: #383838; stroke-width: 1.0;\"/></a><!--MD5=[6fa841a2c552657d99a4cb87ba3a748a]\n",
       "@startuml\r\n",
       "skinparam linetype polyline\r\n",
       "skinparam monochrome true\r\n",
       "skinparam classbackgroundcolor white\r\n",
       "skinparam shadowing false\r\n",
       "skinparam wrapWidth 300\r\n",
       "hide circle\r\n",
       "\r\n",
       "package \"CalculationExample\" as E1  [[psysml:7249bcac-c63a-48a6-adec-7cf675138100 ]]  {\r\n",
       "comp usage \"vehicle\" as E2  <<(T,blue)part>> [[psysml:14188455-78e6-45cf-9446-0197417271d8 ]] {\r\n",
       "- - attributes - -\r\n",
       "m: MassValue\r\n",
       "}\r\n",
       "comp usage \"eng\" as E3  <<(T,blue)part>> [[psysml:5beb719b-2071-4403-a403-a4a2a93a4090 ]] {\r\n",
       "- - attributes - -\r\n",
       "m: MassValue\r\n",
       "}\r\n",
       "comp usage \"trans\" as E4  <<(T,blue)part>> [[psysml:48862a39-11e7-4605-8aed-a0acf63d7872 ]] {\r\n",
       "- - attributes - -\r\n",
       "m: MassValue\r\n",
       "}\r\n",
       "comp def \"MassSum\" as E5  <<(T,blue)calculation def>> [[psysml:8857df12-96f9-4753-a6e3-dc799dcb9ed4 ]] {\r\n",
       "}\r\n",
       "comp usage \"ms: MassSum\" as E6  <<(T,blue)calculation>> [[psysml:1d10ff1d-94f3-4fcc-ad21-5a3c75a7ba0b ]] {\r\n",
       "}\r\n",
       "comp def \"MassSum1\" as E7  <<(T,blue)calculation def>> [[psysml:86e0ef61-a473-4ef3-8b23-ebbfee168e1c ]] {\r\n",
       "- - attributes - -\r\n",
       "partMasses: MassValue\r\n",
       "totalMass: MassValue\r\n",
       "}\r\n",
       "comp usage \"ms1: MassSum\" as E8  <<(T,blue)calculation>> [[psysml:5bbc6089-c972-4222-8f32-76d519ddb8cd ]] {\r\n",
       "- - attributes - -\r\n",
       "partMasses\r\n",
       "totalMass\r\n",
       "}\r\n",
       "E2 *- - E3 [[psysml:5beb719b-2071-4403-a403-a4a2a93a4090 ]] \r\n",
       "E2 *- - E4 [[psysml:48862a39-11e7-4605-8aed-a0acf63d7872 ]] \r\n",
       "E6 - -:|> E5 [[psysml:9917c25f-6195-4027-a1da-c593e3e3b530 ]] \r\n",
       "E8 - -:|> E5 [[psysml:bf4de082-8867-4b4d-b459-dc33df5641b4 ]] \r\n",
       "}\r\n",
       "@enduml\r\n",
       "\n",
       "PlantUML version 1.2020.13(Sat Jun 13 12:26:38 UTC 2020)\n",
       "(EPL source distribution)\n",
       "Java Runtime: OpenJDK Runtime Environment\n",
       "JVM: OpenJDK 64-Bit Server VM\n",
       "Default Encoding: UTF-8\n",
       "Language: en\n",
       "Country: null\n",
       "--></g></svg>"
      ]
     },
     "execution_count": 10,
     "metadata": {},
     "output_type": "execute_result"
    }
   ],
   "source": [
    "%viz --style=\"POLYLINE\" --view=\"Tree\" \"CalculationExample\""
   ]
  },
  {
   "cell_type": "code",
   "execution_count": 11,
   "id": "micro-publisher",
   "metadata": {
    "execution": {
     "iopub.execute_input": "2021-03-26T09:15:56.135078Z",
     "iopub.status.busy": "2021-03-26T09:15:56.134730Z",
     "iopub.status.idle": "2021-03-26T09:15:56.140932Z",
     "shell.execute_reply": "2021-03-26T09:15:56.140646Z"
    }
   },
   "outputs": [
    {
     "data": {
      "image/svg+xml": [
       "<?xml version=\"1.0\" encoding=\"UTF-8\" standalone=\"no\"?><svg xmlns=\"http://www.w3.org/2000/svg\" xmlns:xlink=\"http://www.w3.org/1999/xlink\" contentScriptType=\"application/ecmascript\" contentStyleType=\"text/css\" height=\"12px\" preserveAspectRatio=\"none\" style=\"width:12px;height:12px;\" version=\"1.1\" viewBox=\"0 0 12 12\" width=\"12px\" zoomAndPan=\"magnify\"><defs/><g><!--MD5=[896ac0e7a515d8dd7765a661cb4ee08b]\n",
       "@startuml\r\n",
       "skinparam linetype polyline\r\n",
       "skinparam monochrome true\r\n",
       "skinparam classbackgroundcolor white\r\n",
       "skinparam shadowing false\r\n",
       "skinparam wrapWidth 300\r\n",
       "hide circle\r\n",
       "\r\n",
       "@enduml\r\n",
       "\n",
       "PlantUML version 1.2020.13(Sat Jun 13 12:26:38 UTC 2020)\n",
       "(EPL source distribution)\n",
       "Java Runtime: OpenJDK Runtime Environment\n",
       "JVM: OpenJDK 64-Bit Server VM\n",
       "Default Encoding: UTF-8\n",
       "Language: en\n",
       "Country: null\n",
       "--></g></svg>"
      ]
     },
     "execution_count": 11,
     "metadata": {},
     "output_type": "execute_result"
    }
   ],
   "source": [
    "%viz --style=\"POLYLINE\" --view=\"State\" \"CalculationExample\""
   ]
  },
  {
   "cell_type": "code",
   "execution_count": 12,
   "id": "polished-secret",
   "metadata": {
    "execution": {
     "iopub.execute_input": "2021-03-26T09:15:56.193237Z",
     "iopub.status.busy": "2021-03-26T09:15:56.192728Z",
     "iopub.status.idle": "2021-03-26T09:15:56.234785Z",
     "shell.execute_reply": "2021-03-26T09:15:56.234443Z"
    }
   },
   "outputs": [
    {
     "data": {
      "image/svg+xml": [
       "<?xml version=\"1.0\" encoding=\"UTF-8\" standalone=\"no\"?><svg xmlns=\"http://www.w3.org/2000/svg\" xmlns:xlink=\"http://www.w3.org/1999/xlink\" contentScriptType=\"application/ecmascript\" contentStyleType=\"text/css\" height=\"246px\" preserveAspectRatio=\"none\" style=\"width:881px;height:246px;\" version=\"1.1\" viewBox=\"0 0 881 246\" width=\"881px\" zoomAndPan=\"magnify\"><defs/><g><!--MD5=[fbc87193dbaf4d95561dea2c320d4a47]\n",
       "cluster E1--><a href=\"psysml:7249bcac-c63a-48a6-adec-7cf675138100\" target=\"_top\" title=\"psysml:7249bcac-c63a-48a6-adec-7cf675138100\" xlink:actuate=\"onRequest\" xlink:href=\"psysml:7249bcac-c63a-48a6-adec-7cf675138100\" xlink:show=\"new\" xlink:title=\"psysml:7249bcac-c63a-48a6-adec-7cf675138100\" xlink:type=\"simple\"><polygon fill=\"#FFFFFF\" points=\"16,6,173,6,180,28.2969,859,28.2969,859,234,16,234,16,6\" style=\"stroke: #000000; stroke-width: 1.5;\"/><line style=\"stroke: #000000; stroke-width: 1.5;\" x1=\"16\" x2=\"180\" y1=\"28.2969\" y2=\"28.2969\"/><text fill=\"#000000\" font-family=\"sans-serif\" font-size=\"14\" font-weight=\"bold\" lengthAdjust=\"spacingAndGlyphs\" textLength=\"151\" x=\"20\" y=\"20.9951\">CalculationExample</text></a><!--MD5=[e4f7fae6ed58524ba242bb0b0d3be6b7]\n",
       "cluster E2--><a href=\"psysml:14188455-78e6-45cf-9446-0197417271d8\" target=\"_top\" title=\"psysml:14188455-78e6-45cf-9446-0197417271d8\" xlink:actuate=\"onRequest\" xlink:href=\"psysml:14188455-78e6-45cf-9446-0197417271d8\" xlink:show=\"new\" xlink:title=\"psysml:14188455-78e6-45cf-9446-0197417271d8\" xlink:type=\"simple\"><rect fill=\"#FFFFFF\" height=\"161\" id=\"E2\" rx=\"10\" ry=\"10\" style=\"stroke: #383838; stroke-width: 1.5;\" width=\"436\" x=\"399\" y=\"49\"/><rect fill=\"#F8F8F8\" height=\"23.9688\" rx=\"10\" ry=\"10\" style=\"stroke: #F8F8F8; stroke-width: 1.5;\" width=\"436\" x=\"399\" y=\"49\"/><rect fill=\"#F8F8F8\" height=\"10\" style=\"stroke: #F8F8F8; stroke-width: 1.5;\" width=\"436\" x=\"399\" y=\"62.9688\"/><rect fill=\"none\" height=\"161\" id=\"E2\" rx=\"10\" ry=\"10\" style=\"stroke: #383838; stroke-width: 1.5;\" width=\"436\" x=\"399\" y=\"49\"/><text fill=\"#000000\" font-family=\"sans-serif\" font-size=\"12\" lengthAdjust=\"spacingAndGlyphs\" textLength=\"43\" x=\"595.5\" y=\"65.1387\">vehicle</text><line style=\"stroke: #383838; stroke-width: 1.0;\" x1=\"399\" x2=\"835\" y1=\"72.9688\" y2=\"72.9688\"/></a><!--MD5=[f6df4d0ebaf0b5dfb2ced0ae5af7c670]\n",
       "cluster E4--><a href=\"psysml:5beb719b-2071-4403-a403-a4a2a93a4090\" target=\"_top\" title=\"psysml:5beb719b-2071-4403-a403-a4a2a93a4090\" xlink:actuate=\"onRequest\" xlink:href=\"psysml:5beb719b-2071-4403-a403-a4a2a93a4090\" xlink:show=\"new\" xlink:title=\"psysml:5beb719b-2071-4403-a403-a4a2a93a4090\" xlink:type=\"simple\"><rect fill=\"#FFFFFF\" height=\"94\" id=\"E4\" rx=\"10\" ry=\"10\" style=\"stroke: #383838; stroke-width: 1.5;\" width=\"128\" x=\"683\" y=\"92\"/><rect fill=\"#F8F8F8\" height=\"23.9688\" rx=\"10\" ry=\"10\" style=\"stroke: #F8F8F8; stroke-width: 1.5;\" width=\"128\" x=\"683\" y=\"92\"/><rect fill=\"#F8F8F8\" height=\"10\" style=\"stroke: #F8F8F8; stroke-width: 1.5;\" width=\"128\" x=\"683\" y=\"105.9688\"/><rect fill=\"none\" height=\"94\" id=\"E4\" rx=\"10\" ry=\"10\" style=\"stroke: #383838; stroke-width: 1.5;\" width=\"128\" x=\"683\" y=\"92\"/><text fill=\"#000000\" font-family=\"sans-serif\" font-size=\"12\" lengthAdjust=\"spacingAndGlyphs\" textLength=\"24\" x=\"735\" y=\"108.1387\">eng</text><line style=\"stroke: #383838; stroke-width: 1.0;\" x1=\"683\" x2=\"811\" y1=\"115.9688\" y2=\"115.9688\"/></a><!--MD5=[14e3b0961a2654348d326746436168a1]\n",
       "cluster E6--><a href=\"psysml:48862a39-11e7-4605-8aed-a0acf63d7872\" target=\"_top\" title=\"psysml:48862a39-11e7-4605-8aed-a0acf63d7872\" xlink:actuate=\"onRequest\" xlink:href=\"psysml:48862a39-11e7-4605-8aed-a0acf63d7872\" xlink:show=\"new\" xlink:title=\"psysml:48862a39-11e7-4605-8aed-a0acf63d7872\" xlink:type=\"simple\"><rect fill=\"#FFFFFF\" height=\"94\" id=\"E6\" rx=\"10\" ry=\"10\" style=\"stroke: #383838; stroke-width: 1.5;\" width=\"128\" x=\"531\" y=\"92\"/><rect fill=\"#F8F8F8\" height=\"23.9688\" rx=\"10\" ry=\"10\" style=\"stroke: #F8F8F8; stroke-width: 1.5;\" width=\"128\" x=\"531\" y=\"92\"/><rect fill=\"#F8F8F8\" height=\"10\" style=\"stroke: #F8F8F8; stroke-width: 1.5;\" width=\"128\" x=\"531\" y=\"105.9688\"/><rect fill=\"none\" height=\"94\" id=\"E6\" rx=\"10\" ry=\"10\" style=\"stroke: #383838; stroke-width: 1.5;\" width=\"128\" x=\"531\" y=\"92\"/><text fill=\"#000000\" font-family=\"sans-serif\" font-size=\"12\" lengthAdjust=\"spacingAndGlyphs\" textLength=\"33\" x=\"578.5\" y=\"108.1387\">trans</text><line style=\"stroke: #383838; stroke-width: 1.0;\" x1=\"531\" x2=\"659\" y1=\"115.9688\" y2=\"115.9688\"/></a><!--MD5=[b9389687b975829384b498ac4b7476b2]\n",
       "class E8--><a href=\"psysml:8857df12-96f9-4753-a6e3-dc799dcb9ed4\" target=\"_top\" title=\"psysml:8857df12-96f9-4753-a6e3-dc799dcb9ed4\" xlink:actuate=\"onRequest\" xlink:href=\"psysml:8857df12-96f9-4753-a6e3-dc799dcb9ed4\" xlink:show=\"new\" xlink:title=\"psysml:8857df12-96f9-4753-a6e3-dc799dcb9ed4\" xlink:type=\"simple\"><rect fill=\"#FFFFFF\" height=\"53.9375\" id=\"E8\" style=\"stroke: #383838; stroke-width: 1.5;\" width=\"156\" x=\"223\" y=\"121.5\"/><text fill=\"#000000\" font-family=\"sans-serif\" font-size=\"12\" font-style=\"italic\" lengthAdjust=\"spacingAndGlyphs\" textLength=\"154\" x=\"224\" y=\"137.6387\">«(T,blue)calculation def»</text><text fill=\"#000000\" font-family=\"sans-serif\" font-size=\"12\" lengthAdjust=\"spacingAndGlyphs\" textLength=\"59\" x=\"271.5\" y=\"151.6074\">MassSum</text><line style=\"stroke: #383838; stroke-width: 1.5;\" x1=\"224\" x2=\"378\" y1=\"159.4375\" y2=\"159.4375\"/><line style=\"stroke: #383838; stroke-width: 1.5;\" x1=\"224\" x2=\"378\" y1=\"167.4375\" y2=\"167.4375\"/></a><!--MD5=[fd4143e9d270a159db93a4ea2a975926]\n",
       "class E9--><a href=\"psysml:86e0ef61-a473-4ef3-8b23-ebbfee168e1c\" target=\"_top\" title=\"psysml:86e0ef61-a473-4ef3-8b23-ebbfee168e1c\" xlink:actuate=\"onRequest\" xlink:href=\"psysml:86e0ef61-a473-4ef3-8b23-ebbfee168e1c\" xlink:show=\"new\" xlink:title=\"psysml:86e0ef61-a473-4ef3-8b23-ebbfee168e1c\" xlink:type=\"simple\"><rect fill=\"#FFFFFF\" height=\"53.9375\" id=\"E9\" style=\"stroke: #383838; stroke-width: 1.5;\" width=\"156\" x=\"32\" y=\"121.5\"/><text fill=\"#000000\" font-family=\"sans-serif\" font-size=\"12\" font-style=\"italic\" lengthAdjust=\"spacingAndGlyphs\" textLength=\"154\" x=\"33\" y=\"137.6387\">«(T,blue)calculation def»</text><text fill=\"#000000\" font-family=\"sans-serif\" font-size=\"12\" lengthAdjust=\"spacingAndGlyphs\" textLength=\"67\" x=\"76.5\" y=\"151.6074\">MassSum1</text><line style=\"stroke: #383838; stroke-width: 1.5;\" x1=\"33\" x2=\"187\" y1=\"159.4375\" y2=\"159.4375\"/><line style=\"stroke: #383838; stroke-width: 1.5;\" x1=\"33\" x2=\"187\" y1=\"167.4375\" y2=\"167.4375\"/></a><g id=\"E1.E2.E3\"><a href=\"psysml:536fae04-334d-4f68-a23e-e57d7170c38b\" target=\"_top\" title=\"psysml:536fae04-334d-4f68-a23e-e57d7170c38b\" xlink:actuate=\"onRequest\" xlink:href=\"psysml:536fae04-334d-4f68-a23e-e57d7170c38b\" xlink:show=\"new\" xlink:title=\"psysml:536fae04-334d-4f68-a23e-e57d7170c38b\" xlink:type=\"simple\"><rect fill=\"#FFFFFF\" height=\"42.9375\" id=\"E3\" rx=\"10\" ry=\"10\" style=\"stroke: #383838; stroke-width: 1.5;\" width=\"97\" x=\"414.5\" y=\"127\"/><rect fill=\"#F8F8F8\" height=\"37.9375\" rx=\"10\" ry=\"10\" style=\"stroke: #F8F8F8; stroke-width: 1.5;\" width=\"97\" x=\"414.5\" y=\"127\"/><rect fill=\"#F8F8F8\" height=\"10\" style=\"stroke: #F8F8F8; stroke-width: 1.5;\" width=\"97\" x=\"414.5\" y=\"154.9375\"/><rect fill=\"none\" height=\"42.9375\" id=\"E3\" rx=\"10\" ry=\"10\" style=\"stroke: #383838; stroke-width: 1.5;\" width=\"97\" x=\"414.5\" y=\"127\"/><text fill=\"#000000\" font-family=\"sans-serif\" font-size=\"12\" font-style=\"italic\" lengthAdjust=\"spacingAndGlyphs\" textLength=\"69\" x=\"428.5\" y=\"143.1387\">«attribute»</text><text fill=\"#000000\" font-family=\"sans-serif\" font-size=\"12\" lengthAdjust=\"spacingAndGlyphs\" textLength=\"86\" x=\"420\" y=\"157.1074\">m: MassValue</text></a></g><g id=\"E1.E2.E4.E5\"><a href=\"psysml:2d8c1579-6ad8-45a7-8b4f-8ac5dd6e770e\" target=\"_top\" title=\"psysml:2d8c1579-6ad8-45a7-8b4f-8ac5dd6e770e\" xlink:actuate=\"onRequest\" xlink:href=\"psysml:2d8c1579-6ad8-45a7-8b4f-8ac5dd6e770e\" xlink:show=\"new\" xlink:title=\"psysml:2d8c1579-6ad8-45a7-8b4f-8ac5dd6e770e\" xlink:type=\"simple\"><rect fill=\"#FFFFFF\" height=\"42.9375\" id=\"E5\" rx=\"10\" ry=\"10\" style=\"stroke: #383838; stroke-width: 1.5;\" width=\"97\" x=\"698.5\" y=\"127\"/><rect fill=\"#F8F8F8\" height=\"37.9375\" rx=\"10\" ry=\"10\" style=\"stroke: #F8F8F8; stroke-width: 1.5;\" width=\"97\" x=\"698.5\" y=\"127\"/><rect fill=\"#F8F8F8\" height=\"10\" style=\"stroke: #F8F8F8; stroke-width: 1.5;\" width=\"97\" x=\"698.5\" y=\"154.9375\"/><rect fill=\"none\" height=\"42.9375\" id=\"E5\" rx=\"10\" ry=\"10\" style=\"stroke: #383838; stroke-width: 1.5;\" width=\"97\" x=\"698.5\" y=\"127\"/><text fill=\"#000000\" font-family=\"sans-serif\" font-size=\"12\" font-style=\"italic\" lengthAdjust=\"spacingAndGlyphs\" textLength=\"69\" x=\"712.5\" y=\"143.1387\">«attribute»</text><text fill=\"#000000\" font-family=\"sans-serif\" font-size=\"12\" lengthAdjust=\"spacingAndGlyphs\" textLength=\"86\" x=\"704\" y=\"157.1074\">m: MassValue</text></a></g><g id=\"E1.E2.E6.E7\"><a href=\"psysml:aae9b164-5c75-4cd2-bd76-7fd4ffe374bb\" target=\"_top\" title=\"psysml:aae9b164-5c75-4cd2-bd76-7fd4ffe374bb\" xlink:actuate=\"onRequest\" xlink:href=\"psysml:aae9b164-5c75-4cd2-bd76-7fd4ffe374bb\" xlink:show=\"new\" xlink:title=\"psysml:aae9b164-5c75-4cd2-bd76-7fd4ffe374bb\" xlink:type=\"simple\"><rect fill=\"#FFFFFF\" height=\"42.9375\" id=\"E7\" rx=\"10\" ry=\"10\" style=\"stroke: #383838; stroke-width: 1.5;\" width=\"97\" x=\"546.5\" y=\"127\"/><rect fill=\"#F8F8F8\" height=\"37.9375\" rx=\"10\" ry=\"10\" style=\"stroke: #F8F8F8; stroke-width: 1.5;\" width=\"97\" x=\"546.5\" y=\"127\"/><rect fill=\"#F8F8F8\" height=\"10\" style=\"stroke: #F8F8F8; stroke-width: 1.5;\" width=\"97\" x=\"546.5\" y=\"154.9375\"/><rect fill=\"none\" height=\"42.9375\" id=\"E7\" rx=\"10\" ry=\"10\" style=\"stroke: #383838; stroke-width: 1.5;\" width=\"97\" x=\"546.5\" y=\"127\"/><text fill=\"#000000\" font-family=\"sans-serif\" font-size=\"12\" font-style=\"italic\" lengthAdjust=\"spacingAndGlyphs\" textLength=\"69\" x=\"560.5\" y=\"143.1387\">«attribute»</text><text fill=\"#000000\" font-family=\"sans-serif\" font-size=\"12\" lengthAdjust=\"spacingAndGlyphs\" textLength=\"86\" x=\"552\" y=\"157.1074\">m: MassValue</text></a></g><!--MD5=[92458d63a334c49ea2be39e90dc0fd2a]\n",
       "@startuml\r\n",
       "skinparam ranksep 8\r\n",
       "skinparam rectangle {\r\n",
       " backgroundColor<<block>> LightGreen\r\n",
       "}\r\n",
       "skinparam linetype polyline\r\n",
       "skinparam monochrome true\r\n",
       "skinparam classbackgroundcolor white\r\n",
       "skinparam shadowing false\r\n",
       "skinparam wrapWidth 300\r\n",
       "hide circle\r\n",
       "\r\n",
       "package \"CalculationExample\" as E1  [[psysml:7249bcac-c63a-48a6-adec-7cf675138100 ]]  {\r\n",
       "rec usage \"vehicle\" as E2  [[psysml:14188455-78e6-45cf-9446-0197417271d8 ]] {\r\n",
       "rec usage \"m: MassValue\" as E3  <<(T,blue)attribute>> [[psysml:536fae04-334d-4f68-a23e-e57d7170c38b ]] {\r\n",
       "}\r\n",
       "rec usage \"eng\" as E4  [[psysml:5beb719b-2071-4403-a403-a4a2a93a4090 ]] {\r\n",
       "rec usage \"m: MassValue\" as E5  <<(T,blue)attribute>> [[psysml:2d8c1579-6ad8-45a7-8b4f-8ac5dd6e770e ]] {\r\n",
       "}\r\n",
       "}\r\n",
       "rec usage \"trans\" as E6  [[psysml:48862a39-11e7-4605-8aed-a0acf63d7872 ]] {\r\n",
       "rec usage \"m: MassValue\" as E7  <<(T,blue)attribute>> [[psysml:aae9b164-5c75-4cd2-bd76-7fd4ffe374bb ]] {\r\n",
       "}\r\n",
       "}\r\n",
       "}\r\n",
       "def \"MassSum\" as E8  <<(T,blue)calculation def>> [[psysml:8857df12-96f9-4753-a6e3-dc799dcb9ed4 ]] \r\n",
       "def \"MassSum1\" as E9  <<(T,blue)calculation def>> [[psysml:86e0ef61-a473-4ef3-8b23-ebbfee168e1c ]] \r\n",
       "}\r\n",
       "@enduml\r\n",
       "\n",
       "PlantUML version 1.2020.13(Sat Jun 13 12:26:38 UTC 2020)\n",
       "(EPL source distribution)\n",
       "Java Runtime: OpenJDK Runtime Environment\n",
       "JVM: OpenJDK 64-Bit Server VM\n",
       "Default Encoding: UTF-8\n",
       "Language: en\n",
       "Country: null\n",
       "--></g></svg>"
      ]
     },
     "execution_count": 12,
     "metadata": {},
     "output_type": "execute_result"
    }
   ],
   "source": [
    "%viz --style=\"POLYLINE\" --view=\"Interconnection\" \"CalculationExample\""
   ]
  },
  {
   "cell_type": "code",
   "execution_count": 13,
   "id": "mexican-trademark",
   "metadata": {
    "execution": {
     "iopub.execute_input": "2021-03-26T09:15:56.286334Z",
     "iopub.status.busy": "2021-03-26T09:15:56.285950Z",
     "iopub.status.idle": "2021-03-26T09:15:56.328090Z",
     "shell.execute_reply": "2021-03-26T09:15:56.326655Z"
    }
   },
   "outputs": [
    {
     "data": {
      "image/svg+xml": [
       "<?xml version=\"1.0\" encoding=\"UTF-8\" standalone=\"no\"?><svg xmlns=\"http://www.w3.org/2000/svg\" xmlns:xlink=\"http://www.w3.org/1999/xlink\" contentScriptType=\"application/ecmascript\" contentStyleType=\"text/css\" height=\"162px\" preserveAspectRatio=\"none\" style=\"width:676px;height:162px;\" version=\"1.1\" viewBox=\"0 0 676 162\" width=\"676px\" zoomAndPan=\"magnify\"><defs/><g><!--MD5=[fbc87193dbaf4d95561dea2c320d4a47]\n",
       "cluster E1--><a href=\"psysml:8857df12-96f9-4753-a6e3-dc799dcb9ed4\" target=\"_top\" title=\"psysml:8857df12-96f9-4753-a6e3-dc799dcb9ed4\" xlink:actuate=\"onRequest\" xlink:href=\"psysml:8857df12-96f9-4753-a6e3-dc799dcb9ed4\" xlink:show=\"new\" xlink:title=\"psysml:8857df12-96f9-4753-a6e3-dc799dcb9ed4\" xlink:type=\"simple\"><rect fill=\"#FFFFFF\" height=\"87.72\" id=\"E1\" style=\"stroke: #383838; stroke-width: 1.5;\" width=\"128\" x=\"28\" y=\"42.0986\"/><rect fill=\"#F8F8F8\" height=\"37.9375\" style=\"stroke: #383838; stroke-width: 1.5;\" width=\"128\" x=\"28\" y=\"42.0986\"/><text fill=\"#000000\" font-family=\"sans-serif\" font-size=\"12\" font-style=\"italic\" lengthAdjust=\"spacingAndGlyphs\" textLength=\"106\" x=\"39\" y=\"58.2373\">«calculation def»</text><text fill=\"#000000\" font-family=\"sans-serif\" font-size=\"12\" lengthAdjust=\"spacingAndGlyphs\" textLength=\"59\" x=\"62.5\" y=\"72.2061\">MassSum</text></a><!--MD5=[14e3b0961a2654348d326746436168a1]\n",
       "cluster E6--><a href=\"psysml:1d10ff1d-94f3-4fcc-ad21-5a3c75a7ba0b\" target=\"_top\" title=\"psysml:1d10ff1d-94f3-4fcc-ad21-5a3c75a7ba0b\" xlink:actuate=\"onRequest\" xlink:href=\"psysml:1d10ff1d-94f3-4fcc-ad21-5a3c75a7ba0b\" xlink:show=\"new\" xlink:title=\"psysml:1d10ff1d-94f3-4fcc-ad21-5a3c75a7ba0b\" xlink:type=\"simple\"><rect fill=\"#FFFFFF\" height=\"87.72\" id=\"E6\" rx=\"10\" ry=\"10\" style=\"stroke: #383838; stroke-width: 1.5;\" width=\"101\" x=\"251.75\" y=\"42.0986\"/><rect fill=\"#F8F8F8\" height=\"37.9375\" rx=\"10\" ry=\"10\" style=\"stroke: #F8F8F8; stroke-width: 1.5;\" width=\"101\" x=\"251.75\" y=\"42.0986\"/><rect fill=\"#F8F8F8\" height=\"10\" style=\"stroke: #F8F8F8; stroke-width: 1.5;\" width=\"101\" x=\"251.75\" y=\"70.0361\"/><rect fill=\"none\" height=\"87.72\" id=\"E6\" rx=\"10\" ry=\"10\" style=\"stroke: #383838; stroke-width: 1.5;\" width=\"101\" x=\"251.75\" y=\"42.0986\"/><text fill=\"#000000\" font-family=\"sans-serif\" font-size=\"12\" font-style=\"italic\" lengthAdjust=\"spacingAndGlyphs\" textLength=\"82\" x=\"261.25\" y=\"58.2373\">«calculation»</text><text fill=\"#000000\" font-family=\"sans-serif\" font-size=\"12\" lengthAdjust=\"spacingAndGlyphs\" textLength=\"18\" x=\"293.25\" y=\"72.2061\">ms</text><line style=\"stroke: #383838; stroke-width: 1.0;\" x1=\"251.75\" x2=\"352.75\" y1=\"80.0361\" y2=\"80.0361\"/></a><!--MD5=[7f149f147074ac12df2cb0a7728a5fb0]\n",
       "cluster E9--><a href=\"psysml:86e0ef61-a473-4ef3-8b23-ebbfee168e1c\" target=\"_top\" title=\"psysml:86e0ef61-a473-4ef3-8b23-ebbfee168e1c\" xlink:actuate=\"onRequest\" xlink:href=\"psysml:86e0ef61-a473-4ef3-8b23-ebbfee168e1c\" xlink:show=\"new\" xlink:title=\"psysml:86e0ef61-a473-4ef3-8b23-ebbfee168e1c\" xlink:type=\"simple\"><rect fill=\"#FFFFFF\" height=\"87.72\" id=\"E9\" style=\"stroke: #383838; stroke-width: 1.5;\" width=\"127\" x=\"410.25\" y=\"42.0986\"/><rect fill=\"#F8F8F8\" height=\"37.9375\" style=\"stroke: #383838; stroke-width: 1.5;\" width=\"127\" x=\"410.25\" y=\"42.0986\"/><text fill=\"#000000\" font-family=\"sans-serif\" font-size=\"12\" font-style=\"italic\" lengthAdjust=\"spacingAndGlyphs\" textLength=\"106\" x=\"420.75\" y=\"58.2373\">«calculation def»</text><text fill=\"#000000\" font-family=\"sans-serif\" font-size=\"12\" lengthAdjust=\"spacingAndGlyphs\" textLength=\"67\" x=\"440.25\" y=\"72.2061\">MassSum1</text></a><!--MD5=[47bea60c1a0ac6c1143df232041969c0]\n",
       "cluster E12--><a href=\"psysml:5bbc6089-c972-4222-8f32-76d519ddb8cd\" target=\"_top\" title=\"psysml:5bbc6089-c972-4222-8f32-76d519ddb8cd\" xlink:actuate=\"onRequest\" xlink:href=\"psysml:5bbc6089-c972-4222-8f32-76d519ddb8cd\" xlink:show=\"new\" xlink:title=\"psysml:5bbc6089-c972-4222-8f32-76d519ddb8cd\" xlink:type=\"simple\"><rect fill=\"#FFFFFF\" height=\"87.72\" id=\"E12\" rx=\"10\" ry=\"10\" style=\"stroke: #383838; stroke-width: 1.5;\" width=\"138\" x=\"526\" y=\"42.0986\"/><rect fill=\"#F8F8F8\" height=\"37.9375\" rx=\"10\" ry=\"10\" style=\"stroke: #F8F8F8; stroke-width: 1.5;\" width=\"138\" x=\"526\" y=\"42.0986\"/><rect fill=\"#F8F8F8\" height=\"10\" style=\"stroke: #F8F8F8; stroke-width: 1.5;\" width=\"138\" x=\"526\" y=\"70.0361\"/><rect fill=\"none\" height=\"87.72\" id=\"E12\" rx=\"10\" ry=\"10\" style=\"stroke: #383838; stroke-width: 1.5;\" width=\"138\" x=\"526\" y=\"42.0986\"/><text fill=\"#000000\" font-family=\"sans-serif\" font-size=\"12\" font-style=\"italic\" lengthAdjust=\"spacingAndGlyphs\" textLength=\"82\" x=\"554\" y=\"58.2373\">«calculation»</text><text fill=\"#000000\" font-family=\"sans-serif\" font-size=\"12\" lengthAdjust=\"spacingAndGlyphs\" textLength=\"26\" x=\"582\" y=\"72.2061\">ms1</text><line style=\"stroke: #383838; stroke-width: 1.0;\" x1=\"526\" x2=\"664\" y1=\"80.0361\" y2=\"80.0361\"/></a><text fill=\"#000000\" font-family=\"sans-serif\" font-size=\"14\" lengthAdjust=\"spacingAndGlyphs\" textLength=\"80\" x=\"6\" y=\"20.7969\">partMasses</text><rect fill=\"#383838\" height=\"12\" style=\"stroke: #F8F8F8; stroke-width: 1.5;\" width=\"12\" x=\"40\" y=\"36.0986\"/><text fill=\"#000000\" font-family=\"sans-serif\" font-size=\"14\" lengthAdjust=\"spacingAndGlyphs\" textLength=\"66\" x=\"54\" y=\"148.8138\">totalMass</text><rect fill=\"#383838\" height=\"12\" style=\"stroke: #F8F8F8; stroke-width: 1.5;\" width=\"12\" x=\"81\" y=\"123.8186\"/><text fill=\"#000000\" font-family=\"sans-serif\" font-size=\"14\" lengthAdjust=\"spacingAndGlyphs\" textLength=\"75\" x=\"100.5\" y=\"20.7969\">$collection</text><rect fill=\"#383838\" height=\"12\" style=\"stroke: #F8F8F8; stroke-width: 1.5;\" width=\"12\" x=\"132\" y=\"36.0986\"/><text fill=\"#000000\" font-family=\"sans-serif\" font-size=\"14\" lengthAdjust=\"spacingAndGlyphs\" textLength=\"48\" x=\"110\" y=\"148.8138\">$result</text><rect fill=\"#383838\" height=\"12\" style=\"stroke: #F8F8F8; stroke-width: 1.5;\" width=\"12\" x=\"128\" y=\"123.8186\"/><text fill=\"#000000\" font-family=\"sans-serif\" font-size=\"14\" lengthAdjust=\"spacingAndGlyphs\" textLength=\"80\" x=\"235\" y=\"20.7969\">partMasses</text><rect fill=\"#383838\" height=\"12\" style=\"stroke: #F8F8F8; stroke-width: 1.5;\" width=\"12\" x=\"269\" y=\"36.0986\"/><text fill=\"#000000\" font-family=\"sans-serif\" font-size=\"14\" lengthAdjust=\"spacingAndGlyphs\" textLength=\"66\" x=\"238\" y=\"148.8138\">totalMass</text><rect fill=\"#383838\" height=\"12\" style=\"stroke: #F8F8F8; stroke-width: 1.5;\" width=\"12\" x=\"265\" y=\"123.8186\"/><text fill=\"#000000\" font-family=\"sans-serif\" font-size=\"14\" lengthAdjust=\"spacingAndGlyphs\" textLength=\"80\" x=\"395\" y=\"20.7969\">partMasses</text><rect fill=\"#383838\" height=\"12\" style=\"stroke: #F8F8F8; stroke-width: 1.5;\" width=\"12\" x=\"429\" y=\"36.0986\"/><text fill=\"#000000\" font-family=\"sans-serif\" font-size=\"14\" lengthAdjust=\"spacingAndGlyphs\" textLength=\"66\" x=\"398\" y=\"148.8138\">totalMass</text><rect fill=\"#383838\" height=\"12\" style=\"stroke: #F8F8F8; stroke-width: 1.5;\" width=\"12\" x=\"425\" y=\"123.8186\"/><text fill=\"#000000\" font-family=\"sans-serif\" font-size=\"14\" lengthAdjust=\"spacingAndGlyphs\" textLength=\"80\" x=\"555\" y=\"20.7969\">partMasses</text><rect fill=\"#383838\" height=\"12\" style=\"stroke: #F8F8F8; stroke-width: 1.5;\" width=\"12\" x=\"589\" y=\"36.0986\"/><text fill=\"#000000\" font-family=\"sans-serif\" font-size=\"14\" lengthAdjust=\"spacingAndGlyphs\" textLength=\"66\" x=\"562\" y=\"148.8138\">totalMass</text><rect fill=\"#383838\" height=\"12\" style=\"stroke: #F8F8F8; stroke-width: 1.5;\" width=\"12\" x=\"589\" y=\"123.8186\"/><!--MD5=[0188b64bb0ae78505a997a81836e11e9]\n",
       "link E3 to E5--><a href=\"psysml:5b55f712-f9b6-4e15-aeab-345c960b0653\" target=\"_top\" title=\"psysml:5b55f712-f9b6-4e15-aeab-345c960b0653\" xlink:actuate=\"onRequest\" xlink:href=\"psysml:5b55f712-f9b6-4e15-aeab-345c960b0653\" xlink:show=\"new\" xlink:title=\"psysml:5b55f712-f9b6-4e15-aeab-345c960b0653\" xlink:type=\"simple\"><path d=\"M93.01,127.5186 C97.43,125.8286 102.67,123.8186 102.67,123.8186 C102.67,123.8186 118.33,123.8186 118.33,123.8186 C118.33,123.8186 123.57,125.8286 127.99,127.5186 \" fill=\"none\" id=\"E3-E5\" style=\"stroke: #383838; stroke-width: 5.0;\"/></a><!--MD5=[8e0f2c095ac6eb1b316e209b2abeabab]\n",
       "@startuml\r\n",
       "skinparam ranksep 8\r\n",
       "skinparam linetype polyline\r\n",
       "skinparam monochrome true\r\n",
       "skinparam classbackgroundcolor white\r\n",
       "skinparam shadowing false\r\n",
       "skinparam wrapWidth 300\r\n",
       "hide circle\r\n",
       "\r\n",
       "rec def \"MassSum\" as E1  <<(T,blue)calculation def>> [[psysml:8857df12-96f9-4753-a6e3-dc799dcb9ed4 ]] {\r\n",
       "portin \"partMasses\" as E2  [[psysml:8ae5fd16-1397-4172-a6e5-0c084d8d7ca2 ]] \r\n",
       "portout \"totalMass\" as E3  [[psysml:5f15c55d-7a56-4485-be6d-5834d49cebc1 ]] \r\n",
       "portin \"$collection\" as E4  [[psysml:61806866-d159-447e-b132-fa56be682adf ]] \r\n",
       "portout \"$result\" as E5  [[psysml:6ddb7e29-61e7-4184-8db5-61f90a0c49bf ]] \r\n",
       "}\r\n",
       "\r\n",
       "E3 -[thickness=5]- E5 [[psysml:5b55f712-f9b6-4e15-aeab-345c960b0653 ]] \r\n",
       "rec usage \"ms\" as E6  <<(T,blue)calculation>> [[psysml:1d10ff1d-94f3-4fcc-ad21-5a3c75a7ba0b ]] {\r\n",
       "portin \"partMasses\" as E7  [[psysml:a2c0aed5-a65e-46d5-90c0-ba8b1517610c ]] \r\n",
       "portout \"totalMass\" as E8  [[psysml:76889a80-c5e0-422b-b2ce-fdc6eabdf747 ]] \r\n",
       "}\r\n",
       "\r\n",
       "rec def \"MassSum1\" as E9  <<(T,blue)calculation def>> [[psysml:86e0ef61-a473-4ef3-8b23-ebbfee168e1c ]] {\r\n",
       "portin \"partMasses\" as E10  [[psysml:44765cb5-91e3-4973-8d66-b6f2e5bbf87d ]] \r\n",
       "portout \"totalMass\" as E11  [[psysml:8a0a1f2d-4441-4a8a-b849-a96ed87f36a5 ]] \r\n",
       "}\r\n",
       "\r\n",
       "rec usage \"ms1\" as E12  <<(T,blue)calculation>> [[psysml:5bbc6089-c972-4222-8f32-76d519ddb8cd ]] {\r\n",
       "portin \"partMasses\" as E13  [[psysml:bceb4c61-ae51-43e8-95f6-5db7102a1a6d ]] \r\n",
       "portout \"totalMass\" as E14  [[psysml:18f22934-19d9-4087-8718-e35a3f9b5ce2 ]] \r\n",
       "}\r\n",
       "\r\n",
       "@enduml\r\n",
       "\n",
       "PlantUML version 1.2020.13(Sat Jun 13 12:26:38 UTC 2020)\n",
       "(EPL source distribution)\n",
       "Java Runtime: OpenJDK Runtime Environment\n",
       "JVM: OpenJDK 64-Bit Server VM\n",
       "Default Encoding: UTF-8\n",
       "Language: en\n",
       "Country: null\n",
       "--></g></svg>"
      ]
     },
     "execution_count": 13,
     "metadata": {},
     "output_type": "execute_result"
    }
   ],
   "source": [
    "%viz --style=\"POLYLINE\" --view=\"Action\" \"CalculationExample\""
   ]
  },
  {
   "cell_type": "code",
   "execution_count": 14,
   "id": "distinguished-delicious",
   "metadata": {
    "execution": {
     "iopub.execute_input": "2021-03-26T09:15:56.380122Z",
     "iopub.status.busy": "2021-03-26T09:15:56.379508Z",
     "iopub.status.idle": "2021-03-26T09:15:56.487156Z",
     "shell.execute_reply": "2021-03-26T09:15:56.485688Z"
    }
   },
   "outputs": [
    {
     "data": {
      "image/svg+xml": [
       "<?xml version=\"1.0\" encoding=\"UTF-8\" standalone=\"no\"?><svg xmlns=\"http://www.w3.org/2000/svg\" xmlns:xlink=\"http://www.w3.org/1999/xlink\" contentScriptType=\"application/ecmascript\" contentStyleType=\"text/css\" height=\"293px\" preserveAspectRatio=\"none\" style=\"width:607px;height:293px;\" version=\"1.1\" viewBox=\"0 0 607 293\" width=\"607px\" zoomAndPan=\"magnify\"><defs/><g><!--MD5=[fbc87193dbaf4d95561dea2c320d4a47]\n",
       "cluster E1--><a href=\"psysml:7249bcac-c63a-48a6-adec-7cf675138100\" target=\"_top\" title=\"psysml:7249bcac-c63a-48a6-adec-7cf675138100\" xlink:actuate=\"onRequest\" xlink:href=\"psysml:7249bcac-c63a-48a6-adec-7cf675138100\" xlink:show=\"new\" xlink:title=\"psysml:7249bcac-c63a-48a6-adec-7cf675138100\" xlink:type=\"simple\"><polygon fill=\"#FFFFFF\" points=\"16,6,173,6,180,28.2969,585,28.2969,585,281,16,281,16,6\" style=\"stroke: #000000; stroke-width: 1.5;\"/><line style=\"stroke: #000000; stroke-width: 1.5;\" x1=\"16\" x2=\"180\" y1=\"28.2969\" y2=\"28.2969\"/><text fill=\"#000000\" font-family=\"sans-serif\" font-size=\"14\" font-weight=\"bold\" lengthAdjust=\"spacingAndGlyphs\" textLength=\"151\" x=\"20\" y=\"20.9951\">CalculationExample</text></a><!--MD5=[b4997ac47864f28c2f74865a473b2911]\n",
       "class E2--><a href=\"psysml:14188455-78e6-45cf-9446-0197417271d8\" target=\"_top\" title=\"psysml:14188455-78e6-45cf-9446-0197417271d8\" xlink:actuate=\"onRequest\" xlink:href=\"psysml:14188455-78e6-45cf-9446-0197417271d8\" xlink:show=\"new\" xlink:title=\"psysml:14188455-78e6-45cf-9446-0197417271d8\" xlink:type=\"simple\"><rect fill=\"#FFFFFF\" height=\"75.5469\" id=\"E2\" rx=\"10\" ry=\"10\" style=\"stroke: #383838; stroke-width: 1.5;\" width=\"92\" x=\"477\" y=\"47\"/><text fill=\"#000000\" font-family=\"sans-serif\" font-size=\"12\" font-style=\"italic\" lengthAdjust=\"spacingAndGlyphs\" textLength=\"40\" x=\"503\" y=\"63.1387\">«part»</text><text fill=\"#000000\" font-family=\"sans-serif\" font-size=\"12\" lengthAdjust=\"spacingAndGlyphs\" textLength=\"43\" x=\"501.5\" y=\"77.1074\">vehicle</text><line style=\"stroke: #383838; stroke-width: 1.5;\" x1=\"478\" x2=\"568\" y1=\"84.9375\" y2=\"84.9375\"/><text fill=\"#000000\" font-family=\"sans-serif\" font-size=\"11\" lengthAdjust=\"spacingAndGlyphs\" textLength=\"80\" x=\"483\" y=\"115.9526\">m: MassValue</text><line style=\"stroke: #383838; stroke-width: 1.0;\" x1=\"478\" x2=\"495.5\" y1=\"99.3398\" y2=\"99.3398\"/><text fill=\"#000000\" font-family=\"sans-serif\" font-size=\"11\" lengthAdjust=\"spacingAndGlyphs\" textLength=\"55\" x=\"495.5\" y=\"102.6479\">attributes</text><line style=\"stroke: #383838; stroke-width: 1.0;\" x1=\"550.5\" x2=\"568\" y1=\"99.3398\" y2=\"99.3398\"/></a><!--MD5=[09b614a08d8cba4a07c9adeb5e0fee81]\n",
       "class E3--><a href=\"psysml:5beb719b-2071-4403-a403-a4a2a93a4090\" target=\"_top\" title=\"psysml:5beb719b-2071-4403-a403-a4a2a93a4090\" xlink:actuate=\"onRequest\" xlink:href=\"psysml:5beb719b-2071-4403-a403-a4a2a93a4090\" xlink:show=\"new\" xlink:title=\"psysml:5beb719b-2071-4403-a403-a4a2a93a4090\" xlink:type=\"simple\"><rect fill=\"#FFFFFF\" height=\"75.5469\" id=\"E3\" rx=\"10\" ry=\"10\" style=\"stroke: #383838; stroke-width: 1.5;\" width=\"92\" x=\"350\" y=\"189\"/><text fill=\"#000000\" font-family=\"sans-serif\" font-size=\"12\" font-style=\"italic\" lengthAdjust=\"spacingAndGlyphs\" textLength=\"40\" x=\"376\" y=\"205.1387\">«part»</text><text fill=\"#000000\" font-family=\"sans-serif\" font-size=\"12\" lengthAdjust=\"spacingAndGlyphs\" textLength=\"24\" x=\"384\" y=\"219.1074\">eng</text><line style=\"stroke: #383838; stroke-width: 1.5;\" x1=\"351\" x2=\"441\" y1=\"226.9375\" y2=\"226.9375\"/><text fill=\"#000000\" font-family=\"sans-serif\" font-size=\"11\" lengthAdjust=\"spacingAndGlyphs\" textLength=\"80\" x=\"356\" y=\"257.9526\">m: MassValue</text><line style=\"stroke: #383838; stroke-width: 1.0;\" x1=\"351\" x2=\"368.5\" y1=\"241.3398\" y2=\"241.3398\"/><text fill=\"#000000\" font-family=\"sans-serif\" font-size=\"11\" lengthAdjust=\"spacingAndGlyphs\" textLength=\"55\" x=\"368.5\" y=\"244.6479\">attributes</text><line style=\"stroke: #383838; stroke-width: 1.0;\" x1=\"423.5\" x2=\"441\" y1=\"241.3398\" y2=\"241.3398\"/></a><!--MD5=[ebbe1d658d1005bcc118a6aa81145e00]\n",
       "class E4--><a href=\"psysml:48862a39-11e7-4605-8aed-a0acf63d7872\" target=\"_top\" title=\"psysml:48862a39-11e7-4605-8aed-a0acf63d7872\" xlink:actuate=\"onRequest\" xlink:href=\"psysml:48862a39-11e7-4605-8aed-a0acf63d7872\" xlink:show=\"new\" xlink:title=\"psysml:48862a39-11e7-4605-8aed-a0acf63d7872\" xlink:type=\"simple\"><rect fill=\"#FFFFFF\" height=\"75.5469\" id=\"E4\" rx=\"10\" ry=\"10\" style=\"stroke: #383838; stroke-width: 1.5;\" width=\"92\" x=\"477\" y=\"189\"/><text fill=\"#000000\" font-family=\"sans-serif\" font-size=\"12\" font-style=\"italic\" lengthAdjust=\"spacingAndGlyphs\" textLength=\"40\" x=\"503\" y=\"205.1387\">«part»</text><text fill=\"#000000\" font-family=\"sans-serif\" font-size=\"12\" lengthAdjust=\"spacingAndGlyphs\" textLength=\"33\" x=\"506.5\" y=\"219.1074\">trans</text><line style=\"stroke: #383838; stroke-width: 1.5;\" x1=\"478\" x2=\"568\" y1=\"226.9375\" y2=\"226.9375\"/><text fill=\"#000000\" font-family=\"sans-serif\" font-size=\"11\" lengthAdjust=\"spacingAndGlyphs\" textLength=\"80\" x=\"483\" y=\"257.9526\">m: MassValue</text><line style=\"stroke: #383838; stroke-width: 1.0;\" x1=\"478\" x2=\"495.5\" y1=\"241.3398\" y2=\"241.3398\"/><text fill=\"#000000\" font-family=\"sans-serif\" font-size=\"11\" lengthAdjust=\"spacingAndGlyphs\" textLength=\"55\" x=\"495.5\" y=\"244.6479\">attributes</text><line style=\"stroke: #383838; stroke-width: 1.0;\" x1=\"550.5\" x2=\"568\" y1=\"241.3398\" y2=\"241.3398\"/></a><!--MD5=[270fce915f116d4de14055a7c1d9a0f3]\n",
       "class E5--><a href=\"psysml:8857df12-96f9-4753-a6e3-dc799dcb9ed4\" target=\"_top\" title=\"psysml:8857df12-96f9-4753-a6e3-dc799dcb9ed4\" xlink:actuate=\"onRequest\" xlink:href=\"psysml:8857df12-96f9-4753-a6e3-dc799dcb9ed4\" xlink:show=\"new\" xlink:title=\"psysml:8857df12-96f9-4753-a6e3-dc799dcb9ed4\" xlink:type=\"simple\"><rect fill=\"#FFFFFF\" height=\"45.9375\" id=\"E5\" style=\"stroke: #383838; stroke-width: 1.5;\" width=\"108\" x=\"120\" y=\"204\"/><text fill=\"#000000\" font-family=\"sans-serif\" font-size=\"12\" font-style=\"italic\" lengthAdjust=\"spacingAndGlyphs\" textLength=\"106\" x=\"121\" y=\"220.1387\">«calculation def»</text><text fill=\"#000000\" font-family=\"sans-serif\" font-size=\"12\" lengthAdjust=\"spacingAndGlyphs\" textLength=\"59\" x=\"144.5\" y=\"234.1074\">MassSum</text><line style=\"stroke: #383838; stroke-width: 1.5;\" x1=\"121\" x2=\"227\" y1=\"241.9375\" y2=\"241.9375\"/></a><!--MD5=[60a26617385b1d2d0262a64233df1f8d]\n",
       "class E6--><a href=\"psysml:1d10ff1d-94f3-4fcc-ad21-5a3c75a7ba0b\" target=\"_top\" title=\"psysml:1d10ff1d-94f3-4fcc-ad21-5a3c75a7ba0b\" xlink:actuate=\"onRequest\" xlink:href=\"psysml:1d10ff1d-94f3-4fcc-ad21-5a3c75a7ba0b\" xlink:show=\"new\" xlink:title=\"psysml:1d10ff1d-94f3-4fcc-ad21-5a3c75a7ba0b\" xlink:type=\"simple\"><rect fill=\"#FFFFFF\" height=\"45.9375\" id=\"E6\" rx=\"10\" ry=\"10\" style=\"stroke: #383838; stroke-width: 1.5;\" width=\"91\" x=\"350.5\" y=\"62\"/><text fill=\"#000000\" font-family=\"sans-serif\" font-size=\"12\" font-style=\"italic\" lengthAdjust=\"spacingAndGlyphs\" textLength=\"82\" x=\"355\" y=\"78.1387\">«calculation»</text><text fill=\"#000000\" font-family=\"sans-serif\" font-size=\"12\" lengthAdjust=\"spacingAndGlyphs\" textLength=\"85\" x=\"353.5\" y=\"92.1074\">ms: MassSum</text><line style=\"stroke: #383838; stroke-width: 1.5;\" x1=\"351.5\" x2=\"440.5\" y1=\"99.9375\" y2=\"99.9375\"/></a><!--MD5=[2156ba9850f5573cc1fc38a6a4b2f02b]\n",
       "class E7--><a href=\"psysml:86e0ef61-a473-4ef3-8b23-ebbfee168e1c\" target=\"_top\" title=\"psysml:86e0ef61-a473-4ef3-8b23-ebbfee168e1c\" xlink:actuate=\"onRequest\" xlink:href=\"psysml:86e0ef61-a473-4ef3-8b23-ebbfee168e1c\" xlink:show=\"new\" xlink:title=\"psysml:86e0ef61-a473-4ef3-8b23-ebbfee168e1c\" xlink:type=\"simple\"><rect fill=\"#FFFFFF\" height=\"88.3516\" id=\"E7\" style=\"stroke: #383838; stroke-width: 1.5;\" width=\"148\" x=\"167\" y=\"41\"/><text fill=\"#000000\" font-family=\"sans-serif\" font-size=\"12\" font-style=\"italic\" lengthAdjust=\"spacingAndGlyphs\" textLength=\"106\" x=\"188\" y=\"57.1387\">«calculation def»</text><text fill=\"#000000\" font-family=\"sans-serif\" font-size=\"12\" lengthAdjust=\"spacingAndGlyphs\" textLength=\"67\" x=\"207.5\" y=\"71.1074\">MassSum1</text><line style=\"stroke: #383838; stroke-width: 1.5;\" x1=\"168\" x2=\"314\" y1=\"78.9375\" y2=\"78.9375\"/><text fill=\"#000000\" font-family=\"sans-serif\" font-size=\"11\" lengthAdjust=\"spacingAndGlyphs\" textLength=\"136\" x=\"173\" y=\"109.9526\">partMasses: MassValue</text><text fill=\"#000000\" font-family=\"sans-serif\" font-size=\"11\" lengthAdjust=\"spacingAndGlyphs\" textLength=\"124\" x=\"173\" y=\"122.7573\">totalMass: MassValue</text><line style=\"stroke: #383838; stroke-width: 1.0;\" x1=\"168\" x2=\"213.5\" y1=\"93.3398\" y2=\"93.3398\"/><text fill=\"#000000\" font-family=\"sans-serif\" font-size=\"11\" lengthAdjust=\"spacingAndGlyphs\" textLength=\"55\" x=\"213.5\" y=\"96.6479\">attributes</text><line style=\"stroke: #383838; stroke-width: 1.0;\" x1=\"268.5\" x2=\"314\" y1=\"93.3398\" y2=\"93.3398\"/></a><!--MD5=[b9389687b975829384b498ac4b7476b2]\n",
       "class E8--><a href=\"psysml:5bbc6089-c972-4222-8f32-76d519ddb8cd\" target=\"_top\" title=\"psysml:5bbc6089-c972-4222-8f32-76d519ddb8cd\" xlink:actuate=\"onRequest\" xlink:href=\"psysml:5bbc6089-c972-4222-8f32-76d519ddb8cd\" xlink:show=\"new\" xlink:title=\"psysml:5bbc6089-c972-4222-8f32-76d519ddb8cd\" xlink:type=\"simple\"><rect fill=\"#FFFFFF\" height=\"88.3516\" id=\"E8\" rx=\"10\" ry=\"10\" style=\"stroke: #383838; stroke-width: 1.5;\" width=\"99\" x=\"32.5\" y=\"41\"/><text fill=\"#000000\" font-family=\"sans-serif\" font-size=\"12\" font-style=\"italic\" lengthAdjust=\"spacingAndGlyphs\" textLength=\"82\" x=\"41\" y=\"57.1387\">«calculation»</text><text fill=\"#000000\" font-family=\"sans-serif\" font-size=\"12\" lengthAdjust=\"spacingAndGlyphs\" textLength=\"93\" x=\"35.5\" y=\"71.1074\">ms1: MassSum</text><line style=\"stroke: #383838; stroke-width: 1.5;\" x1=\"33.5\" x2=\"130.5\" y1=\"78.9375\" y2=\"78.9375\"/><text fill=\"#000000\" font-family=\"sans-serif\" font-size=\"11\" lengthAdjust=\"spacingAndGlyphs\" textLength=\"67\" x=\"38.5\" y=\"109.9526\">partMasses</text><text fill=\"#000000\" font-family=\"sans-serif\" font-size=\"11\" lengthAdjust=\"spacingAndGlyphs\" textLength=\"55\" x=\"38.5\" y=\"122.7573\">totalMass</text><line style=\"stroke: #383838; stroke-width: 1.0;\" x1=\"33.5\" x2=\"54.5\" y1=\"93.3398\" y2=\"93.3398\"/><text fill=\"#000000\" font-family=\"sans-serif\" font-size=\"11\" lengthAdjust=\"spacingAndGlyphs\" textLength=\"55\" x=\"54.5\" y=\"96.6479\">attributes</text><line style=\"stroke: #383838; stroke-width: 1.0;\" x1=\"109.5\" x2=\"130.5\" y1=\"93.3398\" y2=\"93.3398\"/></a><!--MD5=[209b3feb70ccb6233bfe1053d122c12c]\n",
       "reverse link E2 to E3--><a href=\"psysml:5beb719b-2071-4403-a403-a4a2a93a4090\" target=\"_top\" title=\"psysml:5beb719b-2071-4403-a403-a4a2a93a4090\" xlink:actuate=\"onRequest\" xlink:href=\"psysml:5beb719b-2071-4403-a403-a4a2a93a4090\" xlink:show=\"new\" xlink:title=\"psysml:5beb719b-2071-4403-a403-a4a2a93a4090\" xlink:type=\"simple\"><path d=\"M480.41,132.95 C463.95,151.1 445.38,171.57 429.86,188.68 \" fill=\"none\" id=\"E2&lt;-E3\" style=\"stroke: #383838; stroke-width: 1.0;\"/><polygon fill=\"#383838\" points=\"489.3,123.15,482.3052,124.9031,481.2332,132.0341,488.2279,130.281,489.3,123.15\" style=\"stroke: #383838; stroke-width: 1.0;\"/></a><!--MD5=[9618e71518536f8baf3342ff6fdab317]\n",
       "reverse link E2 to E4--><a href=\"psysml:48862a39-11e7-4605-8aed-a0acf63d7872\" target=\"_top\" title=\"psysml:48862a39-11e7-4605-8aed-a0acf63d7872\" xlink:actuate=\"onRequest\" xlink:href=\"psysml:48862a39-11e7-4605-8aed-a0acf63d7872\" xlink:show=\"new\" xlink:title=\"psysml:48862a39-11e7-4605-8aed-a0acf63d7872\" xlink:type=\"simple\"><path d=\"M523,136.25 C523,153.55 523,172.6 523,188.68 \" fill=\"none\" id=\"E2&lt;-E4\" style=\"stroke: #383838; stroke-width: 1.0;\"/><polygon fill=\"#383838\" points=\"523,123.15,519,129.15,523,135.15,527,129.15,523,123.15\" style=\"stroke: #383838; stroke-width: 1.0;\"/></a><!--MD5=[25b190c987b1e74e5126d372c5a73af1]\n",
       "link E6 to E5--><a href=\"psysml:9917c25f-6195-4027-a1da-c593e3e3b530\" target=\"_top\" title=\"psysml:9917c25f-6195-4027-a1da-c593e3e3b530\" xlink:actuate=\"onRequest\" xlink:href=\"psysml:9917c25f-6195-4027-a1da-c593e3e3b530\" xlink:show=\"new\" xlink:title=\"psysml:9917c25f-6195-4027-a1da-c593e3e3b530\" xlink:type=\"simple\"><path d=\"M363.76,108 C348.26,118.58 333,129 333,129 C333,129 273.5,165.3 227.3,193.49 \" fill=\"none\" id=\"E6-&gt;E5\" style=\"stroke: #383838; stroke-width: 1.0;\"/><polygon fill=\"#FFFFFF\" points=\"210.08,203.99,222.6546,188.1193,229.9456,200.0709,210.08,203.99\" style=\"stroke: #383838; stroke-width: 1.0;\"/><ellipse cx=\"228.5622\" cy=\"186.8582\" fill=\"#383838\" rx=\"2\" ry=\"2\" style=\"stroke: #383838; stroke-width: 1.0;\"/><ellipse cx=\"233.77\" cy=\"195.395\" fill=\"#383838\" rx=\"2\" ry=\"2\" style=\"stroke: #383838; stroke-width: 1.0;\"/></a><!--MD5=[1ccb2481ffa92f8d51a74ee30c51832a]\n",
       "link E8 to E5--><a href=\"psysml:bf4de082-8867-4b4d-b459-dc33df5641b4\" target=\"_top\" title=\"psysml:bf4de082-8867-4b4d-b459-dc33df5641b4\" xlink:actuate=\"onRequest\" xlink:href=\"psysml:bf4de082-8867-4b4d-b459-dc33df5641b4\" xlink:show=\"new\" xlink:title=\"psysml:bf4de082-8867-4b4d-b459-dc33df5641b4\" xlink:type=\"simple\"><path d=\"M110.35,129.15 C122.49,147.61 136.55,169.01 148.37,186.99 \" fill=\"none\" id=\"E8-&gt;E5\" style=\"stroke: #383838; stroke-width: 1.0;\"/><polygon fill=\"#FFFFFF\" points=\"159.48,203.91,143.1947,191.8772,154.8939,184.1877,159.48,203.91\" style=\"stroke: #383838; stroke-width: 1.0;\"/><ellipse cx=\"141.7353\" cy=\"186.0155\" fill=\"#383838\" rx=\"2\" ry=\"2\" style=\"stroke: #383838; stroke-width: 1.0;\"/><ellipse cx=\"150.0918\" cy=\"180.523\" fill=\"#383838\" rx=\"2\" ry=\"2\" style=\"stroke: #383838; stroke-width: 1.0;\"/></a><!--MD5=[6fa841a2c552657d99a4cb87ba3a748a]\n",
       "@startuml\r\n",
       "skinparam linetype polyline\r\n",
       "skinparam monochrome true\r\n",
       "skinparam classbackgroundcolor white\r\n",
       "skinparam shadowing false\r\n",
       "skinparam wrapWidth 300\r\n",
       "hide circle\r\n",
       "\r\n",
       "package \"CalculationExample\" as E1  [[psysml:7249bcac-c63a-48a6-adec-7cf675138100 ]]  {\r\n",
       "comp usage \"vehicle\" as E2  <<(T,blue)part>> [[psysml:14188455-78e6-45cf-9446-0197417271d8 ]] {\r\n",
       "- - attributes - -\r\n",
       "m: MassValue\r\n",
       "}\r\n",
       "comp usage \"eng\" as E3  <<(T,blue)part>> [[psysml:5beb719b-2071-4403-a403-a4a2a93a4090 ]] {\r\n",
       "- - attributes - -\r\n",
       "m: MassValue\r\n",
       "}\r\n",
       "comp usage \"trans\" as E4  <<(T,blue)part>> [[psysml:48862a39-11e7-4605-8aed-a0acf63d7872 ]] {\r\n",
       "- - attributes - -\r\n",
       "m: MassValue\r\n",
       "}\r\n",
       "comp def \"MassSum\" as E5  <<(T,blue)calculation def>> [[psysml:8857df12-96f9-4753-a6e3-dc799dcb9ed4 ]] {\r\n",
       "}\r\n",
       "comp usage \"ms: MassSum\" as E6  <<(T,blue)calculation>> [[psysml:1d10ff1d-94f3-4fcc-ad21-5a3c75a7ba0b ]] {\r\n",
       "}\r\n",
       "comp def \"MassSum1\" as E7  <<(T,blue)calculation def>> [[psysml:86e0ef61-a473-4ef3-8b23-ebbfee168e1c ]] {\r\n",
       "- - attributes - -\r\n",
       "partMasses: MassValue\r\n",
       "totalMass: MassValue\r\n",
       "}\r\n",
       "comp usage \"ms1: MassSum\" as E8  <<(T,blue)calculation>> [[psysml:5bbc6089-c972-4222-8f32-76d519ddb8cd ]] {\r\n",
       "- - attributes - -\r\n",
       "partMasses\r\n",
       "totalMass\r\n",
       "}\r\n",
       "E2 *- - E3 [[psysml:5beb719b-2071-4403-a403-a4a2a93a4090 ]] \r\n",
       "E2 *- - E4 [[psysml:48862a39-11e7-4605-8aed-a0acf63d7872 ]] \r\n",
       "E6 - -:|> E5 [[psysml:9917c25f-6195-4027-a1da-c593e3e3b530 ]] \r\n",
       "E8 - -:|> E5 [[psysml:bf4de082-8867-4b4d-b459-dc33df5641b4 ]] \r\n",
       "}\r\n",
       "@enduml\r\n",
       "\n",
       "PlantUML version 1.2020.13(Sat Jun 13 12:26:38 UTC 2020)\n",
       "(EPL source distribution)\n",
       "Java Runtime: OpenJDK Runtime Environment\n",
       "JVM: OpenJDK 64-Bit Server VM\n",
       "Default Encoding: UTF-8\n",
       "Language: en\n",
       "Country: null\n",
       "--></g></svg>"
      ]
     },
     "execution_count": 14,
     "metadata": {},
     "output_type": "execute_result"
    }
   ],
   "source": [
    "%viz --style=\"POLYLINE\" --view=\"Sequence\" \"CalculationExample\""
   ]
  },
  {
   "cell_type": "code",
   "execution_count": 15,
   "id": "suffering-repeat",
   "metadata": {
    "execution": {
     "iopub.execute_input": "2021-03-26T09:15:56.538544Z",
     "iopub.status.busy": "2021-03-26T09:15:56.538026Z",
     "iopub.status.idle": "2021-03-26T09:15:56.628302Z",
     "shell.execute_reply": "2021-03-26T09:15:56.626464Z"
    }
   },
   "outputs": [
    {
     "data": {
      "image/svg+xml": [
       "<?xml version=\"1.0\" encoding=\"UTF-8\" standalone=\"no\"?><svg xmlns=\"http://www.w3.org/2000/svg\" xmlns:xlink=\"http://www.w3.org/1999/xlink\" contentScriptType=\"application/ecmascript\" contentStyleType=\"text/css\" height=\"441px\" preserveAspectRatio=\"none\" style=\"width:788px;height:441px;\" version=\"1.1\" viewBox=\"0 0 788 441\" width=\"788px\" zoomAndPan=\"magnify\"><defs/><g><!--MD5=[fbc87193dbaf4d95561dea2c320d4a47]\n",
       "cluster E1--><a href=\"psysml:7249bcac-c63a-48a6-adec-7cf675138100\" target=\"_top\" title=\"psysml:7249bcac-c63a-48a6-adec-7cf675138100\" xlink:actuate=\"onRequest\" xlink:href=\"psysml:7249bcac-c63a-48a6-adec-7cf675138100\" xlink:show=\"new\" xlink:title=\"psysml:7249bcac-c63a-48a6-adec-7cf675138100\" xlink:type=\"simple\"><polygon fill=\"#FFFFFF\" points=\"16,6,173,6,180,28.2969,766,28.2969,766,429.72,16,429.72,16,6\" style=\"stroke: #000000; stroke-width: 1.5;\"/><line style=\"stroke: #000000; stroke-width: 1.5;\" x1=\"16\" x2=\"180\" y1=\"28.2969\" y2=\"28.2969\"/><text fill=\"#000000\" font-family=\"sans-serif\" font-size=\"14\" font-weight=\"bold\" lengthAdjust=\"spacingAndGlyphs\" textLength=\"151\" x=\"20\" y=\"20.9951\">CalculationExample</text></a><!--MD5=[de5ec2e2e8f62f467e546659f5068c88]\n",
       "cluster E5--><a href=\"psysml:8857df12-96f9-4753-a6e3-dc799dcb9ed4\" target=\"_top\" title=\"psysml:8857df12-96f9-4753-a6e3-dc799dcb9ed4\" xlink:actuate=\"onRequest\" xlink:href=\"psysml:8857df12-96f9-4753-a6e3-dc799dcb9ed4\" xlink:show=\"new\" xlink:title=\"psysml:8857df12-96f9-4753-a6e3-dc799dcb9ed4\" xlink:type=\"simple\"><rect fill=\"#FFFFFF\" height=\"306.72\" id=\"E5\" style=\"stroke: #383838; stroke-width: 1.5;\" width=\"128\" x=\"155\" y=\"85\"/><rect fill=\"#F8F8F8\" height=\"37.9375\" style=\"stroke: #383838; stroke-width: 1.5;\" width=\"128\" x=\"155\" y=\"85\"/><text fill=\"#000000\" font-family=\"sans-serif\" font-size=\"12\" font-style=\"italic\" lengthAdjust=\"spacingAndGlyphs\" textLength=\"106\" x=\"166\" y=\"101.1387\">«calculation def»</text><text fill=\"#000000\" font-family=\"sans-serif\" font-size=\"12\" lengthAdjust=\"spacingAndGlyphs\" textLength=\"59\" x=\"189.5\" y=\"115.1074\">MassSum</text></a><!--MD5=[917b9dd0c7eca3ee5f47219d1a84c0ad]\n",
       "cluster E11--><a href=\"psysml:86e0ef61-a473-4ef3-8b23-ebbfee168e1c\" target=\"_top\" title=\"psysml:86e0ef61-a473-4ef3-8b23-ebbfee168e1c\" xlink:actuate=\"onRequest\" xlink:href=\"psysml:86e0ef61-a473-4ef3-8b23-ebbfee168e1c\" xlink:show=\"new\" xlink:title=\"psysml:86e0ef61-a473-4ef3-8b23-ebbfee168e1c\" xlink:type=\"simple\"><rect fill=\"#FFFFFF\" height=\"306.72\" id=\"E11\" style=\"stroke: #383838; stroke-width: 1.5;\" width=\"166\" x=\"584\" y=\"85\"/><rect fill=\"#F8F8F8\" height=\"37.9375\" style=\"stroke: #383838; stroke-width: 1.5;\" width=\"166\" x=\"584\" y=\"85\"/><text fill=\"#000000\" font-family=\"sans-serif\" font-size=\"12\" font-style=\"italic\" lengthAdjust=\"spacingAndGlyphs\" textLength=\"106\" x=\"614\" y=\"101.1387\">«calculation def»</text><text fill=\"#000000\" font-family=\"sans-serif\" font-size=\"12\" lengthAdjust=\"spacingAndGlyphs\" textLength=\"67\" x=\"633.5\" y=\"115.1074\">MassSum1</text></a><!--MD5=[b4997ac47864f28c2f74865a473b2911]\n",
       "class E2--><a href=\"psysml:14188455-78e6-45cf-9446-0197417271d8\" target=\"_top\" title=\"psysml:14188455-78e6-45cf-9446-0197417271d8\" xlink:actuate=\"onRequest\" xlink:href=\"psysml:14188455-78e6-45cf-9446-0197417271d8\" xlink:show=\"new\" xlink:title=\"psysml:14188455-78e6-45cf-9446-0197417271d8\" xlink:type=\"simple\"><rect fill=\"#FFFFFF\" height=\"75.5469\" id=\"E2\" rx=\"10\" ry=\"10\" style=\"stroke: #383838; stroke-width: 1.5;\" width=\"92\" x=\"473\" y=\"47\"/><text fill=\"#000000\" font-family=\"sans-serif\" font-size=\"12\" font-style=\"italic\" lengthAdjust=\"spacingAndGlyphs\" textLength=\"40\" x=\"499\" y=\"63.1387\">«part»</text><text fill=\"#000000\" font-family=\"sans-serif\" font-size=\"12\" lengthAdjust=\"spacingAndGlyphs\" textLength=\"43\" x=\"497.5\" y=\"77.1074\">vehicle</text><line style=\"stroke: #383838; stroke-width: 1.5;\" x1=\"474\" x2=\"564\" y1=\"84.9375\" y2=\"84.9375\"/><text fill=\"#000000\" font-family=\"sans-serif\" font-size=\"11\" lengthAdjust=\"spacingAndGlyphs\" textLength=\"80\" x=\"479\" y=\"115.9526\">m: MassValue</text><line style=\"stroke: #383838; stroke-width: 1.0;\" x1=\"474\" x2=\"491.5\" y1=\"99.3398\" y2=\"99.3398\"/><text fill=\"#000000\" font-family=\"sans-serif\" font-size=\"11\" lengthAdjust=\"spacingAndGlyphs\" textLength=\"55\" x=\"491.5\" y=\"102.6479\">attributes</text><line style=\"stroke: #383838; stroke-width: 1.0;\" x1=\"546.5\" x2=\"564\" y1=\"99.3398\" y2=\"99.3398\"/></a><!--MD5=[09b614a08d8cba4a07c9adeb5e0fee81]\n",
       "class E3--><a href=\"psysml:5beb719b-2071-4403-a403-a4a2a93a4090\" target=\"_top\" title=\"psysml:5beb719b-2071-4403-a403-a4a2a93a4090\" xlink:actuate=\"onRequest\" xlink:href=\"psysml:5beb719b-2071-4403-a403-a4a2a93a4090\" xlink:show=\"new\" xlink:title=\"psysml:5beb719b-2071-4403-a403-a4a2a93a4090\" xlink:type=\"simple\"><rect fill=\"#FFFFFF\" height=\"75.5469\" id=\"E3\" rx=\"10\" ry=\"10\" style=\"stroke: #383838; stroke-width: 1.5;\" width=\"92\" x=\"346\" y=\"189\"/><text fill=\"#000000\" font-family=\"sans-serif\" font-size=\"12\" font-style=\"italic\" lengthAdjust=\"spacingAndGlyphs\" textLength=\"40\" x=\"372\" y=\"205.1387\">«part»</text><text fill=\"#000000\" font-family=\"sans-serif\" font-size=\"12\" lengthAdjust=\"spacingAndGlyphs\" textLength=\"24\" x=\"380\" y=\"219.1074\">eng</text><line style=\"stroke: #383838; stroke-width: 1.5;\" x1=\"347\" x2=\"437\" y1=\"226.9375\" y2=\"226.9375\"/><text fill=\"#000000\" font-family=\"sans-serif\" font-size=\"11\" lengthAdjust=\"spacingAndGlyphs\" textLength=\"80\" x=\"352\" y=\"257.9526\">m: MassValue</text><line style=\"stroke: #383838; stroke-width: 1.0;\" x1=\"347\" x2=\"364.5\" y1=\"241.3398\" y2=\"241.3398\"/><text fill=\"#000000\" font-family=\"sans-serif\" font-size=\"11\" lengthAdjust=\"spacingAndGlyphs\" textLength=\"55\" x=\"364.5\" y=\"244.6479\">attributes</text><line style=\"stroke: #383838; stroke-width: 1.0;\" x1=\"419.5\" x2=\"437\" y1=\"241.3398\" y2=\"241.3398\"/></a><!--MD5=[ebbe1d658d1005bcc118a6aa81145e00]\n",
       "class E4--><a href=\"psysml:48862a39-11e7-4605-8aed-a0acf63d7872\" target=\"_top\" title=\"psysml:48862a39-11e7-4605-8aed-a0acf63d7872\" xlink:actuate=\"onRequest\" xlink:href=\"psysml:48862a39-11e7-4605-8aed-a0acf63d7872\" xlink:show=\"new\" xlink:title=\"psysml:48862a39-11e7-4605-8aed-a0acf63d7872\" xlink:type=\"simple\"><rect fill=\"#FFFFFF\" height=\"75.5469\" id=\"E4\" rx=\"10\" ry=\"10\" style=\"stroke: #383838; stroke-width: 1.5;\" width=\"92\" x=\"473\" y=\"189\"/><text fill=\"#000000\" font-family=\"sans-serif\" font-size=\"12\" font-style=\"italic\" lengthAdjust=\"spacingAndGlyphs\" textLength=\"40\" x=\"499\" y=\"205.1387\">«part»</text><text fill=\"#000000\" font-family=\"sans-serif\" font-size=\"12\" lengthAdjust=\"spacingAndGlyphs\" textLength=\"33\" x=\"502.5\" y=\"219.1074\">trans</text><line style=\"stroke: #383838; stroke-width: 1.5;\" x1=\"474\" x2=\"564\" y1=\"226.9375\" y2=\"226.9375\"/><text fill=\"#000000\" font-family=\"sans-serif\" font-size=\"11\" lengthAdjust=\"spacingAndGlyphs\" textLength=\"80\" x=\"479\" y=\"257.9526\">m: MassValue</text><line style=\"stroke: #383838; stroke-width: 1.0;\" x1=\"474\" x2=\"491.5\" y1=\"241.3398\" y2=\"241.3398\"/><text fill=\"#000000\" font-family=\"sans-serif\" font-size=\"11\" lengthAdjust=\"spacingAndGlyphs\" textLength=\"55\" x=\"491.5\" y=\"244.6479\">attributes</text><line style=\"stroke: #383838; stroke-width: 1.0;\" x1=\"546.5\" x2=\"564\" y1=\"241.3398\" y2=\"241.3398\"/></a><!--MD5=[96f4274e9e20536e775497830990834d]\n",
       "class E10--><a href=\"psysml:1d10ff1d-94f3-4fcc-ad21-5a3c75a7ba0b\" target=\"_top\" title=\"psysml:1d10ff1d-94f3-4fcc-ad21-5a3c75a7ba0b\" xlink:actuate=\"onRequest\" xlink:href=\"psysml:1d10ff1d-94f3-4fcc-ad21-5a3c75a7ba0b\" xlink:show=\"new\" xlink:title=\"psysml:1d10ff1d-94f3-4fcc-ad21-5a3c75a7ba0b\" xlink:type=\"simple\"><rect fill=\"#FFFFFF\" height=\"45.9375\" id=\"E10\" rx=\"10\" ry=\"10\" style=\"stroke: #383838; stroke-width: 1.5;\" width=\"91\" x=\"346.5\" y=\"62\"/><text fill=\"#000000\" font-family=\"sans-serif\" font-size=\"12\" font-style=\"italic\" lengthAdjust=\"spacingAndGlyphs\" textLength=\"82\" x=\"351\" y=\"78.1387\">«calculation»</text><text fill=\"#000000\" font-family=\"sans-serif\" font-size=\"12\" lengthAdjust=\"spacingAndGlyphs\" textLength=\"85\" x=\"349.5\" y=\"92.1074\">ms: MassSum</text><line style=\"stroke: #383838; stroke-width: 1.5;\" x1=\"347.5\" x2=\"436.5\" y1=\"99.9375\" y2=\"99.9375\"/></a><!--MD5=[bee11217b2f71d958a27249dc326068c]\n",
       "class E14--><a href=\"psysml:5bbc6089-c972-4222-8f32-76d519ddb8cd\" target=\"_top\" title=\"psysml:5bbc6089-c972-4222-8f32-76d519ddb8cd\" xlink:actuate=\"onRequest\" xlink:href=\"psysml:5bbc6089-c972-4222-8f32-76d519ddb8cd\" xlink:show=\"new\" xlink:title=\"psysml:5bbc6089-c972-4222-8f32-76d519ddb8cd\" xlink:type=\"simple\"><rect fill=\"#FFFFFF\" height=\"88.3516\" id=\"E14\" rx=\"10\" ry=\"10\" style=\"stroke: #383838; stroke-width: 1.5;\" width=\"99\" x=\"32.5\" y=\"41\"/><text fill=\"#000000\" font-family=\"sans-serif\" font-size=\"12\" font-style=\"italic\" lengthAdjust=\"spacingAndGlyphs\" textLength=\"82\" x=\"41\" y=\"57.1387\">«calculation»</text><text fill=\"#000000\" font-family=\"sans-serif\" font-size=\"12\" lengthAdjust=\"spacingAndGlyphs\" textLength=\"93\" x=\"35.5\" y=\"71.1074\">ms1: MassSum</text><line style=\"stroke: #383838; stroke-width: 1.5;\" x1=\"33.5\" x2=\"130.5\" y1=\"78.9375\" y2=\"78.9375\"/><text fill=\"#000000\" font-family=\"sans-serif\" font-size=\"11\" lengthAdjust=\"spacingAndGlyphs\" textLength=\"67\" x=\"38.5\" y=\"109.9526\">partMasses</text><text fill=\"#000000\" font-family=\"sans-serif\" font-size=\"11\" lengthAdjust=\"spacingAndGlyphs\" textLength=\"55\" x=\"38.5\" y=\"122.7573\">totalMass</text><line style=\"stroke: #383838; stroke-width: 1.0;\" x1=\"33.5\" x2=\"54.5\" y1=\"93.3398\" y2=\"93.3398\"/><text fill=\"#000000\" font-family=\"sans-serif\" font-size=\"11\" lengthAdjust=\"spacingAndGlyphs\" textLength=\"55\" x=\"54.5\" y=\"96.6479\">attributes</text><line style=\"stroke: #383838; stroke-width: 1.0;\" x1=\"109.5\" x2=\"130.5\" y1=\"93.3398\" y2=\"93.3398\"/></a><text fill=\"#000000\" font-family=\"sans-serif\" font-size=\"14\" lengthAdjust=\"spacingAndGlyphs\" textLength=\"80\" x=\"133\" y=\"63.6982\">partMasses</text><rect fill=\"#383838\" height=\"12\" style=\"stroke: #F8F8F8; stroke-width: 1.5;\" width=\"12\" x=\"167\" y=\"79\"/><text fill=\"#000000\" font-family=\"sans-serif\" font-size=\"14\" lengthAdjust=\"spacingAndGlyphs\" textLength=\"66\" x=\"177\" y=\"410.7151\">totalMass</text><rect fill=\"#383838\" height=\"12\" style=\"stroke: #F8F8F8; stroke-width: 1.5;\" width=\"12\" x=\"204\" y=\"385.72\"/><text fill=\"#000000\" font-family=\"sans-serif\" font-size=\"14\" lengthAdjust=\"spacingAndGlyphs\" textLength=\"75\" x=\"227.5\" y=\"63.6982\">$collection</text><rect fill=\"#383838\" height=\"12\" style=\"stroke: #F8F8F8; stroke-width: 1.5;\" width=\"12\" x=\"259\" y=\"79\"/><text fill=\"#000000\" font-family=\"sans-serif\" font-size=\"14\" lengthAdjust=\"spacingAndGlyphs\" textLength=\"48\" x=\"233\" y=\"410.7151\">$result</text><rect fill=\"#383838\" height=\"12\" style=\"stroke: #F8F8F8; stroke-width: 1.5;\" width=\"12\" x=\"251\" y=\"385.72\"/><text fill=\"#000000\" font-family=\"sans-serif\" font-size=\"14\" lengthAdjust=\"spacingAndGlyphs\" textLength=\"80\" x=\"627\" y=\"63.6982\">partMasses</text><rect fill=\"#383838\" height=\"12\" style=\"stroke: #F8F8F8; stroke-width: 1.5;\" width=\"12\" x=\"661\" y=\"79\"/><text fill=\"#000000\" font-family=\"sans-serif\" font-size=\"14\" lengthAdjust=\"spacingAndGlyphs\" textLength=\"66\" x=\"634\" y=\"410.7151\">totalMass</text><rect fill=\"#383838\" height=\"12\" style=\"stroke: #F8F8F8; stroke-width: 1.5;\" width=\"12\" x=\"661\" y=\"385.72\"/><!--MD5=[209b3feb70ccb6233bfe1053d122c12c]\n",
       "reverse link E2 to E3--><a href=\"psysml:5beb719b-2071-4403-a403-a4a2a93a4090\" target=\"_top\" title=\"psysml:5beb719b-2071-4403-a403-a4a2a93a4090\" xlink:actuate=\"onRequest\" xlink:href=\"psysml:5beb719b-2071-4403-a403-a4a2a93a4090\" xlink:show=\"new\" xlink:title=\"psysml:5beb719b-2071-4403-a403-a4a2a93a4090\" xlink:type=\"simple\"><path d=\"M476.41,132.95 C459.95,151.1 441.38,171.57 425.86,188.68 \" fill=\"none\" id=\"E2&lt;-E3\" style=\"stroke: #383838; stroke-width: 1.0;\"/><polygon fill=\"#383838\" points=\"485.3,123.15,478.3052,124.9031,477.2332,132.0341,484.2279,130.281,485.3,123.15\" style=\"stroke: #383838; stroke-width: 1.0;\"/></a><!--MD5=[9618e71518536f8baf3342ff6fdab317]\n",
       "reverse link E2 to E4--><a href=\"psysml:48862a39-11e7-4605-8aed-a0acf63d7872\" target=\"_top\" title=\"psysml:48862a39-11e7-4605-8aed-a0acf63d7872\" xlink:actuate=\"onRequest\" xlink:href=\"psysml:48862a39-11e7-4605-8aed-a0acf63d7872\" xlink:show=\"new\" xlink:title=\"psysml:48862a39-11e7-4605-8aed-a0acf63d7872\" xlink:type=\"simple\"><path d=\"M519,136.25 C519,153.55 519,172.6 519,188.68 \" fill=\"none\" id=\"E2&lt;-E4\" style=\"stroke: #383838; stroke-width: 1.0;\"/><polygon fill=\"#383838\" points=\"519,123.15,515,129.15,519,135.15,523,129.15,519,123.15\" style=\"stroke: #383838; stroke-width: 1.0;\"/></a><!--MD5=[1c0b9414cc86e0744215edee6abd8926]\n",
       "link E7 to E9--><a href=\"psysml:5b55f712-f9b6-4e15-aeab-345c960b0653\" target=\"_top\" title=\"psysml:5b55f712-f9b6-4e15-aeab-345c960b0653\" xlink:actuate=\"onRequest\" xlink:href=\"psysml:5b55f712-f9b6-4e15-aeab-345c960b0653\" xlink:show=\"new\" xlink:title=\"psysml:5b55f712-f9b6-4e15-aeab-345c960b0653\" xlink:type=\"simple\"><path d=\"M216.01,389.42 C220.43,387.73 225.67,385.72 225.67,385.72 C225.67,385.72 241.33,385.72 241.33,385.72 C241.33,385.72 246.57,387.73 250.99,389.42 \" fill=\"none\" id=\"E7-E9\" style=\"stroke: #383838; stroke-width: 5.0;\"/></a><!--MD5=[ec5e0a54482b142abcecfe541d624bff]\n",
       "link E10 to E5--><a href=\"psysml:9917c25f-6195-4027-a1da-c593e3e3b530\" target=\"_top\" title=\"psysml:9917c25f-6195-4027-a1da-c593e3e3b530\" xlink:actuate=\"onRequest\" xlink:href=\"psysml:9917c25f-6195-4027-a1da-c593e3e3b530\" xlink:show=\"new\" xlink:title=\"psysml:9917c25f-6195-4027-a1da-c593e3e3b530\" xlink:type=\"simple\"><path d=\"M367.76,108.18 C352.425,122.215 331.7225,141.16 311.4063,159.75 C306.3272,164.3975 301.2723,169.0228 296.3314,173.5437 C293.8609,175.8041 291.419,178.0384 289.0168,180.2363 C287.8157,181.3353 286.6246,182.4252 285.4448,183.5046 C284.8549,184.0444 284.2678,184.5815 283.6837,185.1159 C283.5377,185.2495 283.3919,185.3829 283.2463,185.5162 \" fill=\"none\" id=\"E10-&gt;E5\" style=\"stroke: #383838; stroke-width: 1.0;\"/><polygon fill=\"#FFFFFF\" points=\"283.2463,185.5162,292.5389,167.526,301.9894,177.855,283.2463,185.5162\" style=\"stroke: #383838; stroke-width: 1.0;\"/><ellipse cx=\"298.0944\" cy=\"165.1539\" fill=\"#383838\" rx=\"2\" ry=\"2\" style=\"stroke: #383838; stroke-width: 1.0;\"/><ellipse cx=\"304.8447\" cy=\"172.5317\" fill=\"#383838\" rx=\"2\" ry=\"2\" style=\"stroke: #383838; stroke-width: 1.0;\"/></a><!--MD5=[111e5536516ee1ad7d4266f589654f03]\n",
       "link E14 to E5--><a href=\"psysml:bf4de082-8867-4b4d-b459-dc33df5641b4\" target=\"_top\" title=\"psysml:bf4de082-8867-4b4d-b459-dc33df5641b4\" xlink:actuate=\"onRequest\" xlink:href=\"psysml:bf4de082-8867-4b4d-b459-dc33df5641b4\" xlink:show=\"new\" xlink:title=\"psysml:bf4de082-8867-4b4d-b459-dc33df5641b4\" xlink:type=\"simple\"><path d=\"M130.39,129.15 C138.0025,135.9375 146.0606,143.1225 154.2098,150.3889 C154.4645,150.616 154.7193,150.8431 154.9741,151.0704 \" fill=\"none\" id=\"E14-&gt;E5\" style=\"stroke: #383838; stroke-width: 1.0;\"/><polygon fill=\"#FFFFFF\" points=\"154.9741,151.0704,136.1343,143.6501,145.4516,133.2008,154.9741,151.0704\" style=\"stroke: #383838; stroke-width: 1.0;\"/><ellipse cx=\"133.211\" cy=\"138.3638\" fill=\"#383838\" rx=\"2\" ry=\"2\" style=\"stroke: #383838; stroke-width: 1.0;\"/><ellipse cx=\"139.8662\" cy=\"130.9001\" fill=\"#383838\" rx=\"2\" ry=\"2\" style=\"stroke: #383838; stroke-width: 1.0;\"/></a><!--MD5=[dbfc2c87d736ec11f07d330f8e84c927]\n",
       "@startuml\r\n",
       "skinparam linetype polyline\r\n",
       "skinparam monochrome true\r\n",
       "skinparam classbackgroundcolor white\r\n",
       "skinparam shadowing false\r\n",
       "skinparam wrapWidth 300\r\n",
       "hide circle\r\n",
       "\r\n",
       "package \"CalculationExample\" as E1  [[psysml:7249bcac-c63a-48a6-adec-7cf675138100 ]]  {\r\n",
       "comp usage \"vehicle\" as E2  <<(T,blue)part>> [[psysml:14188455-78e6-45cf-9446-0197417271d8 ]] {\r\n",
       "- - attributes - -\r\n",
       "m: MassValue\r\n",
       "}\r\n",
       "comp usage \"eng\" as E3  <<(T,blue)part>> [[psysml:5beb719b-2071-4403-a403-a4a2a93a4090 ]] {\r\n",
       "- - attributes - -\r\n",
       "m: MassValue\r\n",
       "}\r\n",
       "comp usage \"trans\" as E4  <<(T,blue)part>> [[psysml:48862a39-11e7-4605-8aed-a0acf63d7872 ]] {\r\n",
       "- - attributes - -\r\n",
       "m: MassValue\r\n",
       "}\r\n",
       "rec def \"MassSum\" as E5  <<(T,blue)calculation def>> [[psysml:8857df12-96f9-4753-a6e3-dc799dcb9ed4 ]] {\r\n",
       "portin \"partMasses\" as E6  [[psysml:8ae5fd16-1397-4172-a6e5-0c084d8d7ca2 ]] \r\n",
       "portout \"totalMass\" as E7  [[psysml:5f15c55d-7a56-4485-be6d-5834d49cebc1 ]] \r\n",
       "portin \"$collection\" as E8  [[psysml:61806866-d159-447e-b132-fa56be682adf ]] \r\n",
       "portout \"$result\" as E9  [[psysml:6ddb7e29-61e7-4184-8db5-61f90a0c49bf ]] \r\n",
       "}\r\n",
       "\r\n",
       "comp usage \"ms: MassSum\" as E10  <<(T,blue)calculation>> [[psysml:1d10ff1d-94f3-4fcc-ad21-5a3c75a7ba0b ]] {\r\n",
       "}\r\n",
       "rec def \"MassSum1\" as E11  <<(T,blue)calculation def>> [[psysml:86e0ef61-a473-4ef3-8b23-ebbfee168e1c ]] {\r\n",
       "portin \"partMasses\" as E12  [[psysml:44765cb5-91e3-4973-8d66-b6f2e5bbf87d ]] \r\n",
       "portout \"totalMass\" as E13  [[psysml:8a0a1f2d-4441-4a8a-b849-a96ed87f36a5 ]] \r\n",
       "}\r\n",
       "\r\n",
       "comp usage \"ms1: MassSum\" as E14  <<(T,blue)calculation>> [[psysml:5bbc6089-c972-4222-8f32-76d519ddb8cd ]] {\r\n",
       "- - attributes - -\r\n",
       "partMasses\r\n",
       "totalMass\r\n",
       "}\r\n",
       "E2 *- - E3 [[psysml:5beb719b-2071-4403-a403-a4a2a93a4090 ]] \r\n",
       "E2 *- - E4 [[psysml:48862a39-11e7-4605-8aed-a0acf63d7872 ]] \r\n",
       "E7 -[thickness=5]- E9 [[psysml:5b55f712-f9b6-4e15-aeab-345c960b0653 ]] \r\n",
       "E10 - -:|> E5 [[psysml:9917c25f-6195-4027-a1da-c593e3e3b530 ]] \r\n",
       "E14 - -:|> E5 [[psysml:bf4de082-8867-4b4d-b459-dc33df5641b4 ]] \r\n",
       "}\r\n",
       "@enduml\r\n",
       "\n",
       "PlantUML version 1.2020.13(Sat Jun 13 12:26:38 UTC 2020)\n",
       "(EPL source distribution)\n",
       "Java Runtime: OpenJDK Runtime Environment\n",
       "JVM: OpenJDK 64-Bit Server VM\n",
       "Default Encoding: UTF-8\n",
       "Language: en\n",
       "Country: null\n",
       "--></g></svg>"
      ]
     },
     "execution_count": 15,
     "metadata": {},
     "output_type": "execute_result"
    }
   ],
   "source": [
    "%viz --style=\"POLYLINE\" --view=\"MIXED\" \"CalculationExample\""
   ]
  },
  {
   "cell_type": "code",
   "execution_count": 16,
   "id": "clinical-feature",
   "metadata": {
    "execution": {
     "iopub.execute_input": "2021-03-26T09:15:56.678934Z",
     "iopub.status.busy": "2021-03-26T09:15:56.678542Z",
     "iopub.status.idle": "2021-03-26T09:15:56.766890Z",
     "shell.execute_reply": "2021-03-26T09:15:56.765309Z"
    }
   },
   "outputs": [
    {
     "data": {
      "image/svg+xml": [
       "<?xml version=\"1.0\" encoding=\"UTF-8\" standalone=\"no\"?><svg xmlns=\"http://www.w3.org/2000/svg\" xmlns:xlink=\"http://www.w3.org/1999/xlink\" contentScriptType=\"application/ecmascript\" contentStyleType=\"text/css\" height=\"590px\" preserveAspectRatio=\"none\" style=\"width:510px;height:590px;\" version=\"1.1\" viewBox=\"0 0 510 590\" width=\"510px\" zoomAndPan=\"magnify\"><defs/><g><!--MD5=[fbc87193dbaf4d95561dea2c320d4a47]\n",
       "cluster E1--><a href=\"psysml:7249bcac-c63a-48a6-adec-7cf675138100\" target=\"_top\" title=\"psysml:7249bcac-c63a-48a6-adec-7cf675138100\" xlink:actuate=\"onRequest\" xlink:href=\"psysml:7249bcac-c63a-48a6-adec-7cf675138100\" xlink:show=\"new\" xlink:title=\"psysml:7249bcac-c63a-48a6-adec-7cf675138100\" xlink:type=\"simple\"><polygon fill=\"#FFFFFF\" points=\"16,6,173,6,180,28.2969,488.72,28.2969,488.72,578,16,578,16,6\" style=\"stroke: #000000; stroke-width: 1.5;\"/><line style=\"stroke: #000000; stroke-width: 1.5;\" x1=\"16\" x2=\"180\" y1=\"28.2969\" y2=\"28.2969\"/><text fill=\"#000000\" font-family=\"sans-serif\" font-size=\"14\" font-weight=\"bold\" lengthAdjust=\"spacingAndGlyphs\" textLength=\"151\" x=\"20\" y=\"20.9951\">CalculationExample</text></a><!--MD5=[de5ec2e2e8f62f467e546659f5068c88]\n",
       "cluster E5--><a href=\"psysml:8857df12-96f9-4753-a6e3-dc799dcb9ed4\" target=\"_top\" title=\"psysml:8857df12-96f9-4753-a6e3-dc799dcb9ed4\" xlink:actuate=\"onRequest\" xlink:href=\"psysml:8857df12-96f9-4753-a6e3-dc799dcb9ed4\" xlink:show=\"new\" xlink:title=\"psysml:8857df12-96f9-4753-a6e3-dc799dcb9ed4\" xlink:type=\"simple\"><rect fill=\"#FFFFFF\" height=\"88\" id=\"E5\" style=\"stroke: #383838; stroke-width: 1.5;\" width=\"387.22\" x=\"63.5\" y=\"345\"/><rect fill=\"#F8F8F8\" height=\"37.9375\" style=\"stroke: #383838; stroke-width: 1.5;\" width=\"387.22\" x=\"63.5\" y=\"345\"/><text fill=\"#000000\" font-family=\"sans-serif\" font-size=\"12\" font-style=\"italic\" lengthAdjust=\"spacingAndGlyphs\" textLength=\"106\" x=\"204.11\" y=\"361.1387\">«calculation def»</text><text fill=\"#000000\" font-family=\"sans-serif\" font-size=\"12\" lengthAdjust=\"spacingAndGlyphs\" textLength=\"59\" x=\"227.61\" y=\"375.1074\">MassSum</text></a><!--MD5=[917b9dd0c7eca3ee5f47219d1a84c0ad]\n",
       "cluster E11--><a href=\"psysml:86e0ef61-a473-4ef3-8b23-ebbfee168e1c\" target=\"_top\" title=\"psysml:86e0ef61-a473-4ef3-8b23-ebbfee168e1c\" xlink:actuate=\"onRequest\" xlink:href=\"psysml:86e0ef61-a473-4ef3-8b23-ebbfee168e1c\" xlink:show=\"new\" xlink:title=\"psysml:86e0ef61-a473-4ef3-8b23-ebbfee168e1c\" xlink:type=\"simple\"><rect fill=\"#FFFFFF\" height=\"68\" id=\"E11\" style=\"stroke: #383838; stroke-width: 1.5;\" width=\"369.22\" x=\"81.5\" y=\"41\"/><rect fill=\"#F8F8F8\" height=\"37.9375\" style=\"stroke: #383838; stroke-width: 1.5;\" width=\"369.22\" x=\"81.5\" y=\"41\"/><text fill=\"#000000\" font-family=\"sans-serif\" font-size=\"12\" font-style=\"italic\" lengthAdjust=\"spacingAndGlyphs\" textLength=\"106\" x=\"213.11\" y=\"57.1387\">«calculation def»</text><text fill=\"#000000\" font-family=\"sans-serif\" font-size=\"12\" lengthAdjust=\"spacingAndGlyphs\" textLength=\"67\" x=\"232.61\" y=\"71.1074\">MassSum1</text></a><!--MD5=[b4997ac47864f28c2f74865a473b2911]\n",
       "class E2--><a href=\"psysml:14188455-78e6-45cf-9446-0197417271d8\" target=\"_top\" title=\"psysml:14188455-78e6-45cf-9446-0197417271d8\" xlink:actuate=\"onRequest\" xlink:href=\"psysml:14188455-78e6-45cf-9446-0197417271d8\" xlink:show=\"new\" xlink:title=\"psysml:14188455-78e6-45cf-9446-0197417271d8\" xlink:type=\"simple\"><rect fill=\"#FFFFFF\" height=\"75.5469\" id=\"E2\" rx=\"10\" ry=\"10\" style=\"stroke: #383838; stroke-width: 1.5;\" width=\"92\" x=\"35.5\" y=\"137\"/><text fill=\"#000000\" font-family=\"sans-serif\" font-size=\"12\" font-style=\"italic\" lengthAdjust=\"spacingAndGlyphs\" textLength=\"40\" x=\"61.5\" y=\"153.1387\">«part»</text><text fill=\"#000000\" font-family=\"sans-serif\" font-size=\"12\" lengthAdjust=\"spacingAndGlyphs\" textLength=\"43\" x=\"60\" y=\"167.1074\">vehicle</text><line style=\"stroke: #383838; stroke-width: 1.5;\" x1=\"36.5\" x2=\"126.5\" y1=\"174.9375\" y2=\"174.9375\"/><text fill=\"#000000\" font-family=\"sans-serif\" font-size=\"11\" lengthAdjust=\"spacingAndGlyphs\" textLength=\"80\" x=\"41.5\" y=\"205.9526\">m: MassValue</text><line style=\"stroke: #383838; stroke-width: 1.0;\" x1=\"36.5\" x2=\"54\" y1=\"189.3398\" y2=\"189.3398\"/><text fill=\"#000000\" font-family=\"sans-serif\" font-size=\"11\" lengthAdjust=\"spacingAndGlyphs\" textLength=\"55\" x=\"54\" y=\"192.6479\">attributes</text><line style=\"stroke: #383838; stroke-width: 1.0;\" x1=\"109\" x2=\"126.5\" y1=\"189.3398\" y2=\"189.3398\"/></a><!--MD5=[09b614a08d8cba4a07c9adeb5e0fee81]\n",
       "class E3--><a href=\"psysml:5beb719b-2071-4403-a403-a4a2a93a4090\" target=\"_top\" title=\"psysml:5beb719b-2071-4403-a403-a4a2a93a4090\" xlink:actuate=\"onRequest\" xlink:href=\"psysml:5beb719b-2071-4403-a403-a4a2a93a4090\" xlink:show=\"new\" xlink:title=\"psysml:5beb719b-2071-4403-a403-a4a2a93a4090\" xlink:type=\"simple\"><rect fill=\"#FFFFFF\" height=\"75.5469\" id=\"E3\" rx=\"10\" ry=\"10\" style=\"stroke: #383838; stroke-width: 1.5;\" width=\"92\" x=\"211.5\" y=\"239\"/><text fill=\"#000000\" font-family=\"sans-serif\" font-size=\"12\" font-style=\"italic\" lengthAdjust=\"spacingAndGlyphs\" textLength=\"40\" x=\"237.5\" y=\"255.1387\">«part»</text><text fill=\"#000000\" font-family=\"sans-serif\" font-size=\"12\" lengthAdjust=\"spacingAndGlyphs\" textLength=\"24\" x=\"245.5\" y=\"269.1074\">eng</text><line style=\"stroke: #383838; stroke-width: 1.5;\" x1=\"212.5\" x2=\"302.5\" y1=\"276.9375\" y2=\"276.9375\"/><text fill=\"#000000\" font-family=\"sans-serif\" font-size=\"11\" lengthAdjust=\"spacingAndGlyphs\" textLength=\"80\" x=\"217.5\" y=\"307.9526\">m: MassValue</text><line style=\"stroke: #383838; stroke-width: 1.0;\" x1=\"212.5\" x2=\"230\" y1=\"291.3398\" y2=\"291.3398\"/><text fill=\"#000000\" font-family=\"sans-serif\" font-size=\"11\" lengthAdjust=\"spacingAndGlyphs\" textLength=\"55\" x=\"230\" y=\"294.6479\">attributes</text><line style=\"stroke: #383838; stroke-width: 1.0;\" x1=\"285\" x2=\"302.5\" y1=\"291.3398\" y2=\"291.3398\"/></a><!--MD5=[ebbe1d658d1005bcc118a6aa81145e00]\n",
       "class E4--><a href=\"psysml:48862a39-11e7-4605-8aed-a0acf63d7872\" target=\"_top\" title=\"psysml:48862a39-11e7-4605-8aed-a0acf63d7872\" xlink:actuate=\"onRequest\" xlink:href=\"psysml:48862a39-11e7-4605-8aed-a0acf63d7872\" xlink:show=\"new\" xlink:title=\"psysml:48862a39-11e7-4605-8aed-a0acf63d7872\" xlink:type=\"simple\"><rect fill=\"#FFFFFF\" height=\"75.5469\" id=\"E4\" rx=\"10\" ry=\"10\" style=\"stroke: #383838; stroke-width: 1.5;\" width=\"92\" x=\"211.5\" y=\"128\"/><text fill=\"#000000\" font-family=\"sans-serif\" font-size=\"12\" font-style=\"italic\" lengthAdjust=\"spacingAndGlyphs\" textLength=\"40\" x=\"237.5\" y=\"144.1387\">«part»</text><text fill=\"#000000\" font-family=\"sans-serif\" font-size=\"12\" lengthAdjust=\"spacingAndGlyphs\" textLength=\"33\" x=\"241\" y=\"158.1074\">trans</text><line style=\"stroke: #383838; stroke-width: 1.5;\" x1=\"212.5\" x2=\"302.5\" y1=\"165.9375\" y2=\"165.9375\"/><text fill=\"#000000\" font-family=\"sans-serif\" font-size=\"11\" lengthAdjust=\"spacingAndGlyphs\" textLength=\"80\" x=\"217.5\" y=\"196.9526\">m: MassValue</text><line style=\"stroke: #383838; stroke-width: 1.0;\" x1=\"212.5\" x2=\"230\" y1=\"180.3398\" y2=\"180.3398\"/><text fill=\"#000000\" font-family=\"sans-serif\" font-size=\"11\" lengthAdjust=\"spacingAndGlyphs\" textLength=\"55\" x=\"230\" y=\"183.6479\">attributes</text><line style=\"stroke: #383838; stroke-width: 1.0;\" x1=\"285\" x2=\"302.5\" y1=\"180.3398\" y2=\"180.3398\"/></a><!--MD5=[96f4274e9e20536e775497830990834d]\n",
       "class E10--><a href=\"psysml:1d10ff1d-94f3-4fcc-ad21-5a3c75a7ba0b\" target=\"_top\" title=\"psysml:1d10ff1d-94f3-4fcc-ad21-5a3c75a7ba0b\" xlink:actuate=\"onRequest\" xlink:href=\"psysml:1d10ff1d-94f3-4fcc-ad21-5a3c75a7ba0b\" xlink:show=\"new\" xlink:title=\"psysml:1d10ff1d-94f3-4fcc-ad21-5a3c75a7ba0b\" xlink:type=\"simple\"><rect fill=\"#FFFFFF\" height=\"45.9375\" id=\"E10\" rx=\"10\" ry=\"10\" style=\"stroke: #383838; stroke-width: 1.5;\" width=\"91\" x=\"36\" y=\"258\"/><text fill=\"#000000\" font-family=\"sans-serif\" font-size=\"12\" font-style=\"italic\" lengthAdjust=\"spacingAndGlyphs\" textLength=\"82\" x=\"40.5\" y=\"274.1387\">«calculation»</text><text fill=\"#000000\" font-family=\"sans-serif\" font-size=\"12\" lengthAdjust=\"spacingAndGlyphs\" textLength=\"85\" x=\"39\" y=\"288.1074\">ms: MassSum</text><line style=\"stroke: #383838; stroke-width: 1.5;\" x1=\"37\" x2=\"126\" y1=\"295.9375\" y2=\"295.9375\"/></a><!--MD5=[bee11217b2f71d958a27249dc326068c]\n",
       "class E14--><a href=\"psysml:5bbc6089-c972-4222-8f32-76d519ddb8cd\" target=\"_top\" title=\"psysml:5bbc6089-c972-4222-8f32-76d519ddb8cd\" xlink:actuate=\"onRequest\" xlink:href=\"psysml:5bbc6089-c972-4222-8f32-76d519ddb8cd\" xlink:show=\"new\" xlink:title=\"psysml:5bbc6089-c972-4222-8f32-76d519ddb8cd\" xlink:type=\"simple\"><rect fill=\"#FFFFFF\" height=\"88.3516\" id=\"E14\" rx=\"10\" ry=\"10\" style=\"stroke: #383838; stroke-width: 1.5;\" width=\"99\" x=\"32\" y=\"474\"/><text fill=\"#000000\" font-family=\"sans-serif\" font-size=\"12\" font-style=\"italic\" lengthAdjust=\"spacingAndGlyphs\" textLength=\"82\" x=\"40.5\" y=\"490.1387\">«calculation»</text><text fill=\"#000000\" font-family=\"sans-serif\" font-size=\"12\" lengthAdjust=\"spacingAndGlyphs\" textLength=\"93\" x=\"35\" y=\"504.1074\">ms1: MassSum</text><line style=\"stroke: #383838; stroke-width: 1.5;\" x1=\"33\" x2=\"130\" y1=\"511.9375\" y2=\"511.9375\"/><text fill=\"#000000\" font-family=\"sans-serif\" font-size=\"11\" lengthAdjust=\"spacingAndGlyphs\" textLength=\"67\" x=\"38\" y=\"542.9526\">partMasses</text><text fill=\"#000000\" font-family=\"sans-serif\" font-size=\"11\" lengthAdjust=\"spacingAndGlyphs\" textLength=\"55\" x=\"38\" y=\"555.7573\">totalMass</text><line style=\"stroke: #383838; stroke-width: 1.0;\" x1=\"33\" x2=\"54\" y1=\"526.3398\" y2=\"526.3398\"/><text fill=\"#000000\" font-family=\"sans-serif\" font-size=\"11\" lengthAdjust=\"spacingAndGlyphs\" textLength=\"55\" x=\"54\" y=\"529.6479\">attributes</text><line style=\"stroke: #383838; stroke-width: 1.0;\" x1=\"109\" x2=\"130\" y1=\"526.3398\" y2=\"526.3398\"/></a><text fill=\"#000000\" font-family=\"sans-serif\" font-size=\"14\" lengthAdjust=\"spacingAndGlyphs\" textLength=\"80\" x=\"41.5\" y=\"451.9951\">partMasses</text><rect fill=\"#383838\" height=\"12\" style=\"stroke: #F8F8F8; stroke-width: 1.5;\" width=\"12\" x=\"75.5\" y=\"427\"/><text fill=\"#000000\" font-family=\"sans-serif\" font-size=\"14\" lengthAdjust=\"spacingAndGlyphs\" textLength=\"66\" x=\"417.72\" y=\"436.9951\">totalMass</text><rect fill=\"#383838\" height=\"12\" style=\"stroke: #F8F8F8; stroke-width: 1.5;\" width=\"12\" x=\"444.72\" y=\"412\"/><text fill=\"#000000\" font-family=\"sans-serif\" font-size=\"14\" lengthAdjust=\"spacingAndGlyphs\" textLength=\"75\" x=\"44\" y=\"323.6982\">$collection</text><rect fill=\"#383838\" height=\"12\" style=\"stroke: #F8F8F8; stroke-width: 1.5;\" width=\"12\" x=\"75.5\" y=\"339\"/><text fill=\"#000000\" font-family=\"sans-serif\" font-size=\"14\" lengthAdjust=\"spacingAndGlyphs\" textLength=\"48\" x=\"426.72\" y=\"349.6982\">$result</text><rect fill=\"#383838\" height=\"12\" style=\"stroke: #F8F8F8; stroke-width: 1.5;\" width=\"12\" x=\"444.72\" y=\"365\"/><text fill=\"#000000\" font-family=\"sans-serif\" font-size=\"14\" lengthAdjust=\"spacingAndGlyphs\" textLength=\"80\" x=\"41.5\" y=\"53.6982\">partMasses</text><rect fill=\"#383838\" height=\"12\" style=\"stroke: #F8F8F8; stroke-width: 1.5;\" width=\"12\" x=\"75.5\" y=\"69\"/><text fill=\"#000000\" font-family=\"sans-serif\" font-size=\"14\" lengthAdjust=\"spacingAndGlyphs\" textLength=\"66\" x=\"417.72\" y=\"53.6982\">totalMass</text><rect fill=\"#383838\" height=\"12\" style=\"stroke: #F8F8F8; stroke-width: 1.5;\" width=\"12\" x=\"444.72\" y=\"69\"/><!--MD5=[209b3feb70ccb6233bfe1053d122c12c]\n",
       "reverse link E2 to E3--><a href=\"psysml:5beb719b-2071-4403-a403-a4a2a93a4090\" target=\"_top\" title=\"psysml:5beb719b-2071-4403-a403-a4a2a93a4090\" xlink:actuate=\"onRequest\" xlink:href=\"psysml:5beb719b-2071-4403-a403-a4a2a93a4090\" xlink:show=\"new\" xlink:title=\"psysml:5beb719b-2071-4403-a403-a4a2a93a4090\" xlink:type=\"simple\"><path d=\"M138.98,208.11 C162.46,221.88 189.34,237.63 211.46,250.6 \" fill=\"none\" id=\"E2&lt;-E3\" style=\"stroke: #383838; stroke-width: 1.0;\"/><polygon fill=\"#383838\" points=\"127.76,201.53,130.9144,208.0146,138.1134,207.5969,134.959,201.1123,127.76,201.53\" style=\"stroke: #383838; stroke-width: 1.0;\"/></a><!--MD5=[9618e71518536f8baf3342ff6fdab317]\n",
       "reverse link E2 to E4--><a href=\"psysml:48862a39-11e7-4605-8aed-a0acf63d7872\" target=\"_top\" title=\"psysml:48862a39-11e7-4605-8aed-a0acf63d7872\" xlink:actuate=\"onRequest\" xlink:href=\"psysml:48862a39-11e7-4605-8aed-a0acf63d7872\" xlink:show=\"new\" xlink:title=\"psysml:48862a39-11e7-4605-8aed-a0acf63d7872\" xlink:type=\"simple\"><path d=\"M140.91,171.98 C163.93,170.79 189.95,169.44 211.46,168.33 \" fill=\"none\" id=\"E2&lt;-E4\" style=\"stroke: #383838; stroke-width: 1.0;\"/><polygon fill=\"#383838\" points=\"127.76,172.66,133.9585,176.3448,139.744,172.0404,133.5455,168.3555,127.76,172.66\" style=\"stroke: #383838; stroke-width: 1.0;\"/></a><!--MD5=[1c0b9414cc86e0744215edee6abd8926]\n",
       "link E7 to E9--><a href=\"psysml:5b55f712-f9b6-4e15-aeab-345c960b0653\" target=\"_top\" title=\"psysml:5b55f712-f9b6-4e15-aeab-345c960b0653\" xlink:actuate=\"onRequest\" xlink:href=\"psysml:5b55f712-f9b6-4e15-aeab-345c960b0653\" xlink:show=\"new\" xlink:title=\"psysml:5b55f712-f9b6-4e15-aeab-345c960b0653\" xlink:type=\"simple\"><path d=\"M448.65,411.76 C445.39,400.19 445.41,388.62 448.7,377.05 \" fill=\"none\" id=\"E7-E9\" style=\"stroke: #383838; stroke-width: 5.0;\"/></a><!--MD5=[ec5e0a54482b142abcecfe541d624bff]\n",
       "link E10 to E5--><a href=\"psysml:9917c25f-6195-4027-a1da-c593e3e3b530\" target=\"_top\" title=\"psysml:9917c25f-6195-4027-a1da-c593e3e3b530\" xlink:actuate=\"onRequest\" xlink:href=\"psysml:9917c25f-6195-4027-a1da-c593e3e3b530\" xlink:show=\"new\" xlink:title=\"psysml:9917c25f-6195-4027-a1da-c593e3e3b530\" xlink:type=\"simple\"><path d=\"M110.41,304 C121.405,312.885 134.185,322.985 145.9,331.6888 C151.7575,336.0406 157.3488,340.0434 162.3175,343.3708 C162.9386,343.7867 163.55,344.1921 164.1509,344.5862 C164.3011,344.6848 164.4507,344.7826 164.5996,344.8798 \" fill=\"none\" id=\"E10-&gt;E5\" style=\"stroke: #383838; stroke-width: 1.0;\"/><polygon fill=\"#FFFFFF\" points=\"164.5996,344.8798,144.8614,340.3629,152.5097,328.6368,164.5996,344.8798\" style=\"stroke: #383838; stroke-width: 1.0;\"/><ellipse cx=\"141.1798\" cy=\"335.5738\" fill=\"#383838\" rx=\"2\" ry=\"2\" style=\"stroke: #383838; stroke-width: 1.0;\"/><ellipse cx=\"146.6429\" cy=\"327.198\" fill=\"#383838\" rx=\"2\" ry=\"2\" style=\"stroke: #383838; stroke-width: 1.0;\"/></a><!--MD5=[111e5536516ee1ad7d4266f589654f03]\n",
       "link E14 to E5--><a href=\"psysml:bf4de082-8867-4b4d-b459-dc33df5641b4\" target=\"_top\" title=\"psysml:bf4de082-8867-4b4d-b459-dc33df5641b4\" xlink:actuate=\"onRequest\" xlink:href=\"psysml:bf4de082-8867-4b4d-b459-dc33df5641b4\" xlink:show=\"new\" xlink:title=\"psysml:bf4de082-8867-4b4d-b459-dc33df5641b4\" xlink:type=\"simple\"><path d=\"M131.43,477.22 C139.975,470.1 149.13,462.4719 158.4569,454.7005 C163.1203,450.8148 167.8267,446.8932 172.5213,442.9815 C174.8686,441.0256 177.213,439.0722 179.5475,437.1269 C180.7148,436.1543 181.8797,435.1837 183.0412,434.2158 C183.3316,433.9739 183.6217,433.7321 183.9117,433.4905 C184.0567,433.3697 184.2016,433.2489 184.3465,433.1282 \" fill=\"none\" id=\"E14-&gt;E5\" style=\"stroke: #383838; stroke-width: 1.0;\"/><polygon fill=\"#FFFFFF\" points=\"184.3465,433.1282,174.2308,450.6688,165.2687,439.9133,184.3465,433.1282\" style=\"stroke: #383838; stroke-width: 1.0;\"/><ellipse cx=\"168.5715\" cy=\"452.7812\" fill=\"#383838\" rx=\"2\" ry=\"2\" style=\"stroke: #383838; stroke-width: 1.0;\"/><ellipse cx=\"162.17\" cy=\"445.0987\" fill=\"#383838\" rx=\"2\" ry=\"2\" style=\"stroke: #383838; stroke-width: 1.0;\"/></a><!--MD5=[977b61c8722bc2345bf36cba3242c6a4]\n",
       "@startuml\r\n",
       "left to right direction\r\n",
       "skinparam monochrome true\r\n",
       "skinparam classbackgroundcolor white\r\n",
       "skinparam shadowing false\r\n",
       "skinparam wrapWidth 300\r\n",
       "hide circle\r\n",
       "\r\n",
       "package \"CalculationExample\" as E1  [[psysml:7249bcac-c63a-48a6-adec-7cf675138100 ]]  {\r\n",
       "comp usage \"vehicle\" as E2  <<(T,blue)part>> [[psysml:14188455-78e6-45cf-9446-0197417271d8 ]] {\r\n",
       "- - attributes - -\r\n",
       "m: MassValue\r\n",
       "}\r\n",
       "comp usage \"eng\" as E3  <<(T,blue)part>> [[psysml:5beb719b-2071-4403-a403-a4a2a93a4090 ]] {\r\n",
       "- - attributes - -\r\n",
       "m: MassValue\r\n",
       "}\r\n",
       "comp usage \"trans\" as E4  <<(T,blue)part>> [[psysml:48862a39-11e7-4605-8aed-a0acf63d7872 ]] {\r\n",
       "- - attributes - -\r\n",
       "m: MassValue\r\n",
       "}\r\n",
       "rec def \"MassSum\" as E5  <<(T,blue)calculation def>> [[psysml:8857df12-96f9-4753-a6e3-dc799dcb9ed4 ]] {\r\n",
       "portin \"partMasses\" as E6  [[psysml:8ae5fd16-1397-4172-a6e5-0c084d8d7ca2 ]] \r\n",
       "portout \"totalMass\" as E7  [[psysml:5f15c55d-7a56-4485-be6d-5834d49cebc1 ]] \r\n",
       "portin \"$collection\" as E8  [[psysml:61806866-d159-447e-b132-fa56be682adf ]] \r\n",
       "portout \"$result\" as E9  [[psysml:6ddb7e29-61e7-4184-8db5-61f90a0c49bf ]] \r\n",
       "}\r\n",
       "\r\n",
       "comp usage \"ms: MassSum\" as E10  <<(T,blue)calculation>> [[psysml:1d10ff1d-94f3-4fcc-ad21-5a3c75a7ba0b ]] {\r\n",
       "}\r\n",
       "rec def \"MassSum1\" as E11  <<(T,blue)calculation def>> [[psysml:86e0ef61-a473-4ef3-8b23-ebbfee168e1c ]] {\r\n",
       "portin \"partMasses\" as E12  [[psysml:44765cb5-91e3-4973-8d66-b6f2e5bbf87d ]] \r\n",
       "portout \"totalMass\" as E13  [[psysml:8a0a1f2d-4441-4a8a-b849-a96ed87f36a5 ]] \r\n",
       "}\r\n",
       "\r\n",
       "comp usage \"ms1: MassSum\" as E14  <<(T,blue)calculation>> [[psysml:5bbc6089-c972-4222-8f32-76d519ddb8cd ]] {\r\n",
       "- - attributes - -\r\n",
       "partMasses\r\n",
       "totalMass\r\n",
       "}\r\n",
       "E2 *- - E3 [[psysml:5beb719b-2071-4403-a403-a4a2a93a4090 ]] \r\n",
       "E2 *- - E4 [[psysml:48862a39-11e7-4605-8aed-a0acf63d7872 ]] \r\n",
       "E7 -[thickness=5]- E9 [[psysml:5b55f712-f9b6-4e15-aeab-345c960b0653 ]] \r\n",
       "E10 - -:|> E5 [[psysml:9917c25f-6195-4027-a1da-c593e3e3b530 ]] \r\n",
       "E14 - -:|> E5 [[psysml:bf4de082-8867-4b4d-b459-dc33df5641b4 ]] \r\n",
       "}\r\n",
       "@enduml\r\n",
       "\n",
       "PlantUML version 1.2020.13(Sat Jun 13 12:26:38 UTC 2020)\n",
       "(EPL source distribution)\n",
       "Java Runtime: OpenJDK Runtime Environment\n",
       "JVM: OpenJDK 64-Bit Server VM\n",
       "Default Encoding: UTF-8\n",
       "Language: en\n",
       "Country: null\n",
       "--></g></svg>"
      ]
     },
     "execution_count": 16,
     "metadata": {},
     "output_type": "execute_result"
    }
   ],
   "source": [
    "%viz --style=\"LR\" --view=\"Default\" \"CalculationExample\""
   ]
  },
  {
   "cell_type": "code",
   "execution_count": 17,
   "id": "correct-speed",
   "metadata": {
    "execution": {
     "iopub.execute_input": "2021-03-26T09:15:56.818861Z",
     "iopub.status.busy": "2021-03-26T09:15:56.818335Z",
     "iopub.status.idle": "2021-03-26T09:15:56.924733Z",
     "shell.execute_reply": "2021-03-26T09:15:56.924250Z"
    }
   },
   "outputs": [
    {
     "data": {
      "image/svg+xml": [
       "<?xml version=\"1.0\" encoding=\"UTF-8\" standalone=\"no\"?><svg xmlns=\"http://www.w3.org/2000/svg\" xmlns:xlink=\"http://www.w3.org/1999/xlink\" contentScriptType=\"application/ecmascript\" contentStyleType=\"text/css\" height=\"472px\" preserveAspectRatio=\"none\" style=\"width:386px;height:472px;\" version=\"1.1\" viewBox=\"0 0 386 472\" width=\"386px\" zoomAndPan=\"magnify\"><defs/><g><!--MD5=[fbc87193dbaf4d95561dea2c320d4a47]\n",
       "cluster E1--><a href=\"psysml:7249bcac-c63a-48a6-adec-7cf675138100\" target=\"_top\" title=\"psysml:7249bcac-c63a-48a6-adec-7cf675138100\" xlink:actuate=\"onRequest\" xlink:href=\"psysml:7249bcac-c63a-48a6-adec-7cf675138100\" xlink:show=\"new\" xlink:title=\"psysml:7249bcac-c63a-48a6-adec-7cf675138100\" xlink:type=\"simple\"><polygon fill=\"#FFFFFF\" points=\"16,6,173,6,180,28.2969,364,28.2969,364,460,16,460,16,6\" style=\"stroke: #000000; stroke-width: 1.5;\"/><line style=\"stroke: #000000; stroke-width: 1.5;\" x1=\"16\" x2=\"180\" y1=\"28.2969\" y2=\"28.2969\"/><text fill=\"#000000\" font-family=\"sans-serif\" font-size=\"14\" font-weight=\"bold\" lengthAdjust=\"spacingAndGlyphs\" textLength=\"151\" x=\"20\" y=\"20.9951\">CalculationExample</text></a><!--MD5=[b4997ac47864f28c2f74865a473b2911]\n",
       "class E2--><a href=\"psysml:14188455-78e6-45cf-9446-0197417271d8\" target=\"_top\" title=\"psysml:14188455-78e6-45cf-9446-0197417271d8\" xlink:actuate=\"onRequest\" xlink:href=\"psysml:14188455-78e6-45cf-9446-0197417271d8\" xlink:show=\"new\" xlink:title=\"psysml:14188455-78e6-45cf-9446-0197417271d8\" xlink:type=\"simple\"><rect fill=\"#FFFFFF\" height=\"75.5469\" id=\"E2\" rx=\"10\" ry=\"10\" style=\"stroke: #383838; stroke-width: 1.5;\" width=\"92\" x=\"60\" y=\"41\"/><text fill=\"#000000\" font-family=\"sans-serif\" font-size=\"12\" font-style=\"italic\" lengthAdjust=\"spacingAndGlyphs\" textLength=\"40\" x=\"86\" y=\"57.1387\">«part»</text><text fill=\"#000000\" font-family=\"sans-serif\" font-size=\"12\" lengthAdjust=\"spacingAndGlyphs\" textLength=\"43\" x=\"84.5\" y=\"71.1074\">vehicle</text><line style=\"stroke: #383838; stroke-width: 1.5;\" x1=\"61\" x2=\"151\" y1=\"78.9375\" y2=\"78.9375\"/><text fill=\"#000000\" font-family=\"sans-serif\" font-size=\"11\" lengthAdjust=\"spacingAndGlyphs\" textLength=\"80\" x=\"66\" y=\"109.9526\">m: MassValue</text><line style=\"stroke: #383838; stroke-width: 1.0;\" x1=\"61\" x2=\"78.5\" y1=\"93.3398\" y2=\"93.3398\"/><text fill=\"#000000\" font-family=\"sans-serif\" font-size=\"11\" lengthAdjust=\"spacingAndGlyphs\" textLength=\"55\" x=\"78.5\" y=\"96.6479\">attributes</text><line style=\"stroke: #383838; stroke-width: 1.0;\" x1=\"133.5\" x2=\"151\" y1=\"93.3398\" y2=\"93.3398\"/></a><!--MD5=[09b614a08d8cba4a07c9adeb5e0fee81]\n",
       "class E3--><a href=\"psysml:5beb719b-2071-4403-a403-a4a2a93a4090\" target=\"_top\" title=\"psysml:5beb719b-2071-4403-a403-a4a2a93a4090\" xlink:actuate=\"onRequest\" xlink:href=\"psysml:5beb719b-2071-4403-a403-a4a2a93a4090\" xlink:show=\"new\" xlink:title=\"psysml:5beb719b-2071-4403-a403-a4a2a93a4090\" xlink:type=\"simple\"><rect fill=\"#FFFFFF\" height=\"75.5469\" id=\"E3\" rx=\"10\" ry=\"10\" style=\"stroke: #383838; stroke-width: 1.5;\" width=\"92\" x=\"248\" y=\"152\"/><text fill=\"#000000\" font-family=\"sans-serif\" font-size=\"12\" font-style=\"italic\" lengthAdjust=\"spacingAndGlyphs\" textLength=\"40\" x=\"274\" y=\"168.1387\">«part»</text><text fill=\"#000000\" font-family=\"sans-serif\" font-size=\"12\" lengthAdjust=\"spacingAndGlyphs\" textLength=\"24\" x=\"282\" y=\"182.1074\">eng</text><line style=\"stroke: #383838; stroke-width: 1.5;\" x1=\"249\" x2=\"339\" y1=\"189.9375\" y2=\"189.9375\"/><text fill=\"#000000\" font-family=\"sans-serif\" font-size=\"11\" lengthAdjust=\"spacingAndGlyphs\" textLength=\"80\" x=\"254\" y=\"220.9526\">m: MassValue</text><line style=\"stroke: #383838; stroke-width: 1.0;\" x1=\"249\" x2=\"266.5\" y1=\"204.3398\" y2=\"204.3398\"/><text fill=\"#000000\" font-family=\"sans-serif\" font-size=\"11\" lengthAdjust=\"spacingAndGlyphs\" textLength=\"55\" x=\"266.5\" y=\"207.6479\">attributes</text><line style=\"stroke: #383838; stroke-width: 1.0;\" x1=\"321.5\" x2=\"339\" y1=\"204.3398\" y2=\"204.3398\"/></a><!--MD5=[ebbe1d658d1005bcc118a6aa81145e00]\n",
       "class E4--><a href=\"psysml:48862a39-11e7-4605-8aed-a0acf63d7872\" target=\"_top\" title=\"psysml:48862a39-11e7-4605-8aed-a0acf63d7872\" xlink:actuate=\"onRequest\" xlink:href=\"psysml:48862a39-11e7-4605-8aed-a0acf63d7872\" xlink:show=\"new\" xlink:title=\"psysml:48862a39-11e7-4605-8aed-a0acf63d7872\" xlink:type=\"simple\"><rect fill=\"#FFFFFF\" height=\"75.5469\" id=\"E4\" rx=\"10\" ry=\"10\" style=\"stroke: #383838; stroke-width: 1.5;\" width=\"92\" x=\"248\" y=\"41\"/><text fill=\"#000000\" font-family=\"sans-serif\" font-size=\"12\" font-style=\"italic\" lengthAdjust=\"spacingAndGlyphs\" textLength=\"40\" x=\"274\" y=\"57.1387\">«part»</text><text fill=\"#000000\" font-family=\"sans-serif\" font-size=\"12\" lengthAdjust=\"spacingAndGlyphs\" textLength=\"33\" x=\"277.5\" y=\"71.1074\">trans</text><line style=\"stroke: #383838; stroke-width: 1.5;\" x1=\"249\" x2=\"339\" y1=\"78.9375\" y2=\"78.9375\"/><text fill=\"#000000\" font-family=\"sans-serif\" font-size=\"11\" lengthAdjust=\"spacingAndGlyphs\" textLength=\"80\" x=\"254\" y=\"109.9526\">m: MassValue</text><line style=\"stroke: #383838; stroke-width: 1.0;\" x1=\"249\" x2=\"266.5\" y1=\"93.3398\" y2=\"93.3398\"/><text fill=\"#000000\" font-family=\"sans-serif\" font-size=\"11\" lengthAdjust=\"spacingAndGlyphs\" textLength=\"55\" x=\"266.5\" y=\"96.6479\">attributes</text><line style=\"stroke: #383838; stroke-width: 1.0;\" x1=\"321.5\" x2=\"339\" y1=\"93.3398\" y2=\"93.3398\"/></a><!--MD5=[270fce915f116d4de14055a7c1d9a0f3]\n",
       "class E5--><a href=\"psysml:8857df12-96f9-4753-a6e3-dc799dcb9ed4\" target=\"_top\" title=\"psysml:8857df12-96f9-4753-a6e3-dc799dcb9ed4\" xlink:actuate=\"onRequest\" xlink:href=\"psysml:8857df12-96f9-4753-a6e3-dc799dcb9ed4\" xlink:show=\"new\" xlink:title=\"psysml:8857df12-96f9-4753-a6e3-dc799dcb9ed4\" xlink:type=\"simple\"><rect fill=\"#FFFFFF\" height=\"45.9375\" id=\"E5\" style=\"stroke: #383838; stroke-width: 1.5;\" width=\"108\" x=\"240\" y=\"320\"/><text fill=\"#000000\" font-family=\"sans-serif\" font-size=\"12\" font-style=\"italic\" lengthAdjust=\"spacingAndGlyphs\" textLength=\"106\" x=\"241\" y=\"336.1387\">«calculation def»</text><text fill=\"#000000\" font-family=\"sans-serif\" font-size=\"12\" lengthAdjust=\"spacingAndGlyphs\" textLength=\"59\" x=\"264.5\" y=\"350.1074\">MassSum</text><line style=\"stroke: #383838; stroke-width: 1.5;\" x1=\"241\" x2=\"347\" y1=\"357.9375\" y2=\"357.9375\"/></a><!--MD5=[60a26617385b1d2d0262a64233df1f8d]\n",
       "class E6--><a href=\"psysml:1d10ff1d-94f3-4fcc-ad21-5a3c75a7ba0b\" target=\"_top\" title=\"psysml:1d10ff1d-94f3-4fcc-ad21-5a3c75a7ba0b\" xlink:actuate=\"onRequest\" xlink:href=\"psysml:1d10ff1d-94f3-4fcc-ad21-5a3c75a7ba0b\" xlink:show=\"new\" xlink:title=\"psysml:1d10ff1d-94f3-4fcc-ad21-5a3c75a7ba0b\" xlink:type=\"simple\"><rect fill=\"#FFFFFF\" height=\"45.9375\" id=\"E6\" rx=\"10\" ry=\"10\" style=\"stroke: #383838; stroke-width: 1.5;\" width=\"91\" x=\"60.5\" y=\"152\"/><text fill=\"#000000\" font-family=\"sans-serif\" font-size=\"12\" font-style=\"italic\" lengthAdjust=\"spacingAndGlyphs\" textLength=\"82\" x=\"65\" y=\"168.1387\">«calculation»</text><text fill=\"#000000\" font-family=\"sans-serif\" font-size=\"12\" lengthAdjust=\"spacingAndGlyphs\" textLength=\"85\" x=\"63.5\" y=\"182.1074\">ms: MassSum</text><line style=\"stroke: #383838; stroke-width: 1.5;\" x1=\"61.5\" x2=\"150.5\" y1=\"189.9375\" y2=\"189.9375\"/></a><!--MD5=[2156ba9850f5573cc1fc38a6a4b2f02b]\n",
       "class E7--><a href=\"psysml:86e0ef61-a473-4ef3-8b23-ebbfee168e1c\" target=\"_top\" title=\"psysml:86e0ef61-a473-4ef3-8b23-ebbfee168e1c\" xlink:actuate=\"onRequest\" xlink:href=\"psysml:86e0ef61-a473-4ef3-8b23-ebbfee168e1c\" xlink:show=\"new\" xlink:title=\"psysml:86e0ef61-a473-4ef3-8b23-ebbfee168e1c\" xlink:type=\"simple\"><rect fill=\"#FFFFFF\" height=\"88.3516\" id=\"E7\" style=\"stroke: #383838; stroke-width: 1.5;\" width=\"148\" x=\"32\" y=\"233\"/><text fill=\"#000000\" font-family=\"sans-serif\" font-size=\"12\" font-style=\"italic\" lengthAdjust=\"spacingAndGlyphs\" textLength=\"106\" x=\"53\" y=\"249.1387\">«calculation def»</text><text fill=\"#000000\" font-family=\"sans-serif\" font-size=\"12\" lengthAdjust=\"spacingAndGlyphs\" textLength=\"67\" x=\"72.5\" y=\"263.1074\">MassSum1</text><line style=\"stroke: #383838; stroke-width: 1.5;\" x1=\"33\" x2=\"179\" y1=\"270.9375\" y2=\"270.9375\"/><text fill=\"#000000\" font-family=\"sans-serif\" font-size=\"11\" lengthAdjust=\"spacingAndGlyphs\" textLength=\"136\" x=\"38\" y=\"301.9526\">partMasses: MassValue</text><text fill=\"#000000\" font-family=\"sans-serif\" font-size=\"11\" lengthAdjust=\"spacingAndGlyphs\" textLength=\"124\" x=\"38\" y=\"314.7573\">totalMass: MassValue</text><line style=\"stroke: #383838; stroke-width: 1.0;\" x1=\"33\" x2=\"78.5\" y1=\"285.3398\" y2=\"285.3398\"/><text fill=\"#000000\" font-family=\"sans-serif\" font-size=\"11\" lengthAdjust=\"spacingAndGlyphs\" textLength=\"55\" x=\"78.5\" y=\"288.6479\">attributes</text><line style=\"stroke: #383838; stroke-width: 1.0;\" x1=\"133.5\" x2=\"179\" y1=\"285.3398\" y2=\"285.3398\"/></a><!--MD5=[b9389687b975829384b498ac4b7476b2]\n",
       "class E8--><a href=\"psysml:5bbc6089-c972-4222-8f32-76d519ddb8cd\" target=\"_top\" title=\"psysml:5bbc6089-c972-4222-8f32-76d519ddb8cd\" xlink:actuate=\"onRequest\" xlink:href=\"psysml:5bbc6089-c972-4222-8f32-76d519ddb8cd\" xlink:show=\"new\" xlink:title=\"psysml:5bbc6089-c972-4222-8f32-76d519ddb8cd\" xlink:type=\"simple\"><rect fill=\"#FFFFFF\" height=\"88.3516\" id=\"E8\" rx=\"10\" ry=\"10\" style=\"stroke: #383838; stroke-width: 1.5;\" width=\"99\" x=\"56.5\" y=\"356\"/><text fill=\"#000000\" font-family=\"sans-serif\" font-size=\"12\" font-style=\"italic\" lengthAdjust=\"spacingAndGlyphs\" textLength=\"82\" x=\"65\" y=\"372.1387\">«calculation»</text><text fill=\"#000000\" font-family=\"sans-serif\" font-size=\"12\" lengthAdjust=\"spacingAndGlyphs\" textLength=\"93\" x=\"59.5\" y=\"386.1074\">ms1: MassSum</text><line style=\"stroke: #383838; stroke-width: 1.5;\" x1=\"57.5\" x2=\"154.5\" y1=\"393.9375\" y2=\"393.9375\"/><text fill=\"#000000\" font-family=\"sans-serif\" font-size=\"11\" lengthAdjust=\"spacingAndGlyphs\" textLength=\"67\" x=\"62.5\" y=\"424.9526\">partMasses</text><text fill=\"#000000\" font-family=\"sans-serif\" font-size=\"11\" lengthAdjust=\"spacingAndGlyphs\" textLength=\"55\" x=\"62.5\" y=\"437.7573\">totalMass</text><line style=\"stroke: #383838; stroke-width: 1.0;\" x1=\"57.5\" x2=\"78.5\" y1=\"408.3398\" y2=\"408.3398\"/><text fill=\"#000000\" font-family=\"sans-serif\" font-size=\"11\" lengthAdjust=\"spacingAndGlyphs\" textLength=\"55\" x=\"78.5\" y=\"411.6479\">attributes</text><line style=\"stroke: #383838; stroke-width: 1.0;\" x1=\"133.5\" x2=\"154.5\" y1=\"408.3398\" y2=\"408.3398\"/></a><!--MD5=[209b3feb70ccb6233bfe1053d122c12c]\n",
       "reverse link E2 to E3--><a href=\"psysml:5beb719b-2071-4403-a403-a4a2a93a4090\" target=\"_top\" title=\"psysml:5beb719b-2071-4403-a403-a4a2a93a4090\" xlink:actuate=\"onRequest\" xlink:href=\"psysml:5beb719b-2071-4403-a403-a4a2a93a4090\" xlink:show=\"new\" xlink:title=\"psysml:5beb719b-2071-4403-a403-a4a2a93a4090\" xlink:type=\"simple\"><path d=\"M163.28,112.59 C190.32,128.73 222.3,147.81 247.74,162.99 \" fill=\"none\" id=\"E2&lt;-E3\" style=\"stroke: #383838; stroke-width: 1.0;\"/><polygon fill=\"#383838\" points=\"152.03,105.87,155.1366,112.3776,162.3385,112.0129,159.2319,105.5053,152.03,105.87\" style=\"stroke: #383838; stroke-width: 1.0;\"/></a><!--MD5=[9618e71518536f8baf3342ff6fdab317]\n",
       "reverse link E2 to E4--><a href=\"psysml:48862a39-11e7-4605-8aed-a0acf63d7872\" target=\"_top\" title=\"psysml:48862a39-11e7-4605-8aed-a0acf63d7872\" xlink:actuate=\"onRequest\" xlink:href=\"psysml:48862a39-11e7-4605-8aed-a0acf63d7872\" xlink:show=\"new\" xlink:title=\"psysml:48862a39-11e7-4605-8aed-a0acf63d7872\" xlink:type=\"simple\"><path d=\"M165.1,79 C191.75,79 222.87,79 247.74,79 \" fill=\"none\" id=\"E2&lt;-E4\" style=\"stroke: #383838; stroke-width: 1.0;\"/><polygon fill=\"#383838\" points=\"152.03,79,158.03,83,164.03,79,158.03,75,152.03,79\" style=\"stroke: #383838; stroke-width: 1.0;\"/></a><!--MD5=[25b190c987b1e74e5126d372c5a73af1]\n",
       "link E6 to E5--><a href=\"psysml:9917c25f-6195-4027-a1da-c593e3e3b530\" target=\"_top\" title=\"psysml:9917c25f-6195-4027-a1da-c593e3e3b530\" xlink:actuate=\"onRequest\" xlink:href=\"psysml:9917c25f-6195-4027-a1da-c593e3e3b530\" xlink:show=\"new\" xlink:title=\"psysml:9917c25f-6195-4027-a1da-c593e3e3b530\" xlink:type=\"simple\"><path d=\"M151.8,196.35 C161.5,201.83 171.42,208.14 180,215 C212.25,240.78 242.86,276.4 264.07,303.52 \" fill=\"none\" id=\"E6-&gt;E5\" style=\"stroke: #383838; stroke-width: 1.0;\"/><polygon fill=\"#FFFFFF\" points=\"276.28,319.54,259.1957,308.6714,270.3306,300.1853,276.28,319.54\" style=\"stroke: #383838; stroke-width: 1.0;\"/><ellipse cx=\"257.3313\" cy=\"302.9256\" fill=\"#383838\" rx=\"2\" ry=\"2\" style=\"stroke: #383838; stroke-width: 1.0;\"/><ellipse cx=\"265.2848\" cy=\"296.8641\" fill=\"#383838\" rx=\"2\" ry=\"2\" style=\"stroke: #383838; stroke-width: 1.0;\"/></a><!--MD5=[1ccb2481ffa92f8d51a74ee30c51832a]\n",
       "link E8 to E5--><a href=\"psysml:bf4de082-8867-4b4d-b459-dc33df5641b4\" target=\"_top\" title=\"psysml:bf4de082-8867-4b4d-b459-dc33df5641b4\" xlink:actuate=\"onRequest\" xlink:href=\"psysml:bf4de082-8867-4b4d-b459-dc33df5641b4\" xlink:show=\"new\" xlink:title=\"psysml:bf4de082-8867-4b4d-b459-dc33df5641b4\" xlink:type=\"simple\"><path d=\"M155.87,385.02 C175.65,378.96 198.89,371.84 220.57,365.2 \" fill=\"none\" id=\"E8-&gt;E5\" style=\"stroke: #383838; stroke-width: 1.0;\"/><polygon fill=\"#FFFFFF\" points=\"239.89,359.28,223.7804,371.5471,219.6724,358.1634,239.89,359.28\" style=\"stroke: #383838; stroke-width: 1.0;\"/><ellipse cx=\"217.7445\" cy=\"371.3077\" fill=\"#383838\" rx=\"2\" ry=\"2\" style=\"stroke: #383838; stroke-width: 1.0;\"/><ellipse cx=\"214.8101\" cy=\"361.7479\" fill=\"#383838\" rx=\"2\" ry=\"2\" style=\"stroke: #383838; stroke-width: 1.0;\"/></a><!--MD5=[21f2dc1329588ae0b26651d6b38d4ad6]\n",
       "@startuml\r\n",
       "left to right direction\r\n",
       "skinparam monochrome true\r\n",
       "skinparam classbackgroundcolor white\r\n",
       "skinparam shadowing false\r\n",
       "skinparam wrapWidth 300\r\n",
       "hide circle\r\n",
       "\r\n",
       "package \"CalculationExample\" as E1  [[psysml:7249bcac-c63a-48a6-adec-7cf675138100 ]]  {\r\n",
       "comp usage \"vehicle\" as E2  <<(T,blue)part>> [[psysml:14188455-78e6-45cf-9446-0197417271d8 ]] {\r\n",
       "- - attributes - -\r\n",
       "m: MassValue\r\n",
       "}\r\n",
       "comp usage \"eng\" as E3  <<(T,blue)part>> [[psysml:5beb719b-2071-4403-a403-a4a2a93a4090 ]] {\r\n",
       "- - attributes - -\r\n",
       "m: MassValue\r\n",
       "}\r\n",
       "comp usage \"trans\" as E4  <<(T,blue)part>> [[psysml:48862a39-11e7-4605-8aed-a0acf63d7872 ]] {\r\n",
       "- - attributes - -\r\n",
       "m: MassValue\r\n",
       "}\r\n",
       "comp def \"MassSum\" as E5  <<(T,blue)calculation def>> [[psysml:8857df12-96f9-4753-a6e3-dc799dcb9ed4 ]] {\r\n",
       "}\r\n",
       "comp usage \"ms: MassSum\" as E6  <<(T,blue)calculation>> [[psysml:1d10ff1d-94f3-4fcc-ad21-5a3c75a7ba0b ]] {\r\n",
       "}\r\n",
       "comp def \"MassSum1\" as E7  <<(T,blue)calculation def>> [[psysml:86e0ef61-a473-4ef3-8b23-ebbfee168e1c ]] {\r\n",
       "- - attributes - -\r\n",
       "partMasses: MassValue\r\n",
       "totalMass: MassValue\r\n",
       "}\r\n",
       "comp usage \"ms1: MassSum\" as E8  <<(T,blue)calculation>> [[psysml:5bbc6089-c972-4222-8f32-76d519ddb8cd ]] {\r\n",
       "- - attributes - -\r\n",
       "partMasses\r\n",
       "totalMass\r\n",
       "}\r\n",
       "E2 *- - E3 [[psysml:5beb719b-2071-4403-a403-a4a2a93a4090 ]] \r\n",
       "E2 *- - E4 [[psysml:48862a39-11e7-4605-8aed-a0acf63d7872 ]] \r\n",
       "E6 - -:|> E5 [[psysml:9917c25f-6195-4027-a1da-c593e3e3b530 ]] \r\n",
       "E8 - -:|> E5 [[psysml:bf4de082-8867-4b4d-b459-dc33df5641b4 ]] \r\n",
       "}\r\n",
       "@enduml\r\n",
       "\n",
       "PlantUML version 1.2020.13(Sat Jun 13 12:26:38 UTC 2020)\n",
       "(EPL source distribution)\n",
       "Java Runtime: OpenJDK Runtime Environment\n",
       "JVM: OpenJDK 64-Bit Server VM\n",
       "Default Encoding: UTF-8\n",
       "Language: en\n",
       "Country: null\n",
       "--></g></svg>"
      ]
     },
     "execution_count": 17,
     "metadata": {},
     "output_type": "execute_result"
    }
   ],
   "source": [
    "%viz --style=\"LR\" --view=\"Tree\" \"CalculationExample\""
   ]
  },
  {
   "cell_type": "code",
   "execution_count": 18,
   "id": "looking-dylan",
   "metadata": {
    "execution": {
     "iopub.execute_input": "2021-03-26T09:15:56.976388Z",
     "iopub.status.busy": "2021-03-26T09:15:56.975537Z",
     "iopub.status.idle": "2021-03-26T09:15:56.982796Z",
     "shell.execute_reply": "2021-03-26T09:15:56.982428Z"
    }
   },
   "outputs": [
    {
     "data": {
      "image/svg+xml": [
       "<?xml version=\"1.0\" encoding=\"UTF-8\" standalone=\"no\"?><svg xmlns=\"http://www.w3.org/2000/svg\" xmlns:xlink=\"http://www.w3.org/1999/xlink\" contentScriptType=\"application/ecmascript\" contentStyleType=\"text/css\" height=\"12px\" preserveAspectRatio=\"none\" style=\"width:12px;height:12px;\" version=\"1.1\" viewBox=\"0 0 12 12\" width=\"12px\" zoomAndPan=\"magnify\"><defs/><g><!--MD5=[19d285c9d72a204eba4e2cd117d745e8]\n",
       "@startuml\r\n",
       "left to right direction\r\n",
       "skinparam monochrome true\r\n",
       "skinparam classbackgroundcolor white\r\n",
       "skinparam shadowing false\r\n",
       "skinparam wrapWidth 300\r\n",
       "hide circle\r\n",
       "\r\n",
       "@enduml\r\n",
       "\n",
       "PlantUML version 1.2020.13(Sat Jun 13 12:26:38 UTC 2020)\n",
       "(EPL source distribution)\n",
       "Java Runtime: OpenJDK Runtime Environment\n",
       "JVM: OpenJDK 64-Bit Server VM\n",
       "Default Encoding: UTF-8\n",
       "Language: en\n",
       "Country: null\n",
       "--></g></svg>"
      ]
     },
     "execution_count": 18,
     "metadata": {},
     "output_type": "execute_result"
    }
   ],
   "source": [
    "%viz --style=\"LR\" --view=\"State\" \"CalculationExample\""
   ]
  },
  {
   "cell_type": "code",
   "execution_count": 19,
   "id": "funded-compensation",
   "metadata": {
    "execution": {
     "iopub.execute_input": "2021-03-26T09:15:57.034535Z",
     "iopub.status.busy": "2021-03-26T09:15:57.033474Z",
     "iopub.status.idle": "2021-03-26T09:15:57.081683Z",
     "shell.execute_reply": "2021-03-26T09:15:57.081304Z"
    }
   },
   "outputs": [
    {
     "data": {
      "image/svg+xml": [
       "<?xml version=\"1.0\" encoding=\"UTF-8\" standalone=\"no\"?><svg xmlns=\"http://www.w3.org/2000/svg\" xmlns:xlink=\"http://www.w3.org/1999/xlink\" contentScriptType=\"application/ecmascript\" contentStyleType=\"text/css\" height=\"574px\" preserveAspectRatio=\"none\" style=\"width:263px;height:574px;\" version=\"1.1\" viewBox=\"0 0 263 574\" width=\"263px\" zoomAndPan=\"magnify\"><defs/><g><!--MD5=[fbc87193dbaf4d95561dea2c320d4a47]\n",
       "cluster E1--><a href=\"psysml:7249bcac-c63a-48a6-adec-7cf675138100\" target=\"_top\" title=\"psysml:7249bcac-c63a-48a6-adec-7cf675138100\" xlink:actuate=\"onRequest\" xlink:href=\"psysml:7249bcac-c63a-48a6-adec-7cf675138100\" xlink:show=\"new\" xlink:title=\"psysml:7249bcac-c63a-48a6-adec-7cf675138100\" xlink:type=\"simple\"><polygon fill=\"#FFFFFF\" points=\"16,6,173,6,180,28.2969,241,28.2969,241,562,16,562,16,6\" style=\"stroke: #000000; stroke-width: 1.5;\"/><line style=\"stroke: #000000; stroke-width: 1.5;\" x1=\"16\" x2=\"180\" y1=\"28.2969\" y2=\"28.2969\"/><text fill=\"#000000\" font-family=\"sans-serif\" font-size=\"14\" font-weight=\"bold\" lengthAdjust=\"spacingAndGlyphs\" textLength=\"151\" x=\"20\" y=\"20.9951\">CalculationExample</text></a><!--MD5=[e4f7fae6ed58524ba242bb0b0d3be6b7]\n",
       "cluster E2--><a href=\"psysml:14188455-78e6-45cf-9446-0197417271d8\" target=\"_top\" title=\"psysml:14188455-78e6-45cf-9446-0197417271d8\" xlink:actuate=\"onRequest\" xlink:href=\"psysml:14188455-78e6-45cf-9446-0197417271d8\" xlink:show=\"new\" xlink:title=\"psysml:14188455-78e6-45cf-9446-0197417271d8\" xlink:type=\"simple\"><rect fill=\"#FFFFFF\" height=\"335\" id=\"E2\" rx=\"10\" ry=\"10\" style=\"stroke: #383838; stroke-width: 1.5;\" width=\"177\" x=\"40\" y=\"49\"/><rect fill=\"#F8F8F8\" height=\"23.9688\" rx=\"10\" ry=\"10\" style=\"stroke: #F8F8F8; stroke-width: 1.5;\" width=\"177\" x=\"40\" y=\"49\"/><rect fill=\"#F8F8F8\" height=\"10\" style=\"stroke: #F8F8F8; stroke-width: 1.5;\" width=\"177\" x=\"40\" y=\"62.9688\"/><rect fill=\"none\" height=\"335\" id=\"E2\" rx=\"10\" ry=\"10\" style=\"stroke: #383838; stroke-width: 1.5;\" width=\"177\" x=\"40\" y=\"49\"/><text fill=\"#000000\" font-family=\"sans-serif\" font-size=\"12\" lengthAdjust=\"spacingAndGlyphs\" textLength=\"43\" x=\"107\" y=\"65.1387\">vehicle</text><line style=\"stroke: #383838; stroke-width: 1.0;\" x1=\"40\" x2=\"217\" y1=\"72.9688\" y2=\"72.9688\"/></a><!--MD5=[f6df4d0ebaf0b5dfb2ced0ae5af7c670]\n",
       "cluster E4--><a href=\"psysml:5beb719b-2071-4403-a403-a4a2a93a4090\" target=\"_top\" title=\"psysml:5beb719b-2071-4403-a403-a4a2a93a4090\" xlink:actuate=\"onRequest\" xlink:href=\"psysml:5beb719b-2071-4403-a403-a4a2a93a4090\" xlink:show=\"new\" xlink:title=\"psysml:5beb719b-2071-4403-a403-a4a2a93a4090\" xlink:type=\"simple\"><rect fill=\"#FFFFFF\" height=\"95\" id=\"E4\" rx=\"10\" ry=\"10\" style=\"stroke: #383838; stroke-width: 1.5;\" width=\"129\" x=\"64\" y=\"92\"/><rect fill=\"#F8F8F8\" height=\"23.9688\" rx=\"10\" ry=\"10\" style=\"stroke: #F8F8F8; stroke-width: 1.5;\" width=\"129\" x=\"64\" y=\"92\"/><rect fill=\"#F8F8F8\" height=\"10\" style=\"stroke: #F8F8F8; stroke-width: 1.5;\" width=\"129\" x=\"64\" y=\"105.9688\"/><rect fill=\"none\" height=\"95\" id=\"E4\" rx=\"10\" ry=\"10\" style=\"stroke: #383838; stroke-width: 1.5;\" width=\"129\" x=\"64\" y=\"92\"/><text fill=\"#000000\" font-family=\"sans-serif\" font-size=\"12\" lengthAdjust=\"spacingAndGlyphs\" textLength=\"24\" x=\"116.5\" y=\"108.1387\">eng</text><line style=\"stroke: #383838; stroke-width: 1.0;\" x1=\"64\" x2=\"193\" y1=\"115.9688\" y2=\"115.9688\"/></a><!--MD5=[14e3b0961a2654348d326746436168a1]\n",
       "cluster E6--><a href=\"psysml:48862a39-11e7-4605-8aed-a0acf63d7872\" target=\"_top\" title=\"psysml:48862a39-11e7-4605-8aed-a0acf63d7872\" xlink:actuate=\"onRequest\" xlink:href=\"psysml:48862a39-11e7-4605-8aed-a0acf63d7872\" xlink:show=\"new\" xlink:title=\"psysml:48862a39-11e7-4605-8aed-a0acf63d7872\" xlink:type=\"simple\"><rect fill=\"#FFFFFF\" height=\"95\" id=\"E6\" rx=\"10\" ry=\"10\" style=\"stroke: #383838; stroke-width: 1.5;\" width=\"129\" x=\"64\" y=\"211\"/><rect fill=\"#F8F8F8\" height=\"23.9688\" rx=\"10\" ry=\"10\" style=\"stroke: #F8F8F8; stroke-width: 1.5;\" width=\"129\" x=\"64\" y=\"211\"/><rect fill=\"#F8F8F8\" height=\"10\" style=\"stroke: #F8F8F8; stroke-width: 1.5;\" width=\"129\" x=\"64\" y=\"224.9688\"/><rect fill=\"none\" height=\"95\" id=\"E6\" rx=\"10\" ry=\"10\" style=\"stroke: #383838; stroke-width: 1.5;\" width=\"129\" x=\"64\" y=\"211\"/><text fill=\"#000000\" font-family=\"sans-serif\" font-size=\"12\" lengthAdjust=\"spacingAndGlyphs\" textLength=\"33\" x=\"112\" y=\"227.1387\">trans</text><line style=\"stroke: #383838; stroke-width: 1.0;\" x1=\"64\" x2=\"193\" y1=\"234.9688\" y2=\"234.9688\"/></a><!--MD5=[b9389687b975829384b498ac4b7476b2]\n",
       "class E8--><a href=\"psysml:8857df12-96f9-4753-a6e3-dc799dcb9ed4\" target=\"_top\" title=\"psysml:8857df12-96f9-4753-a6e3-dc799dcb9ed4\" xlink:actuate=\"onRequest\" xlink:href=\"psysml:8857df12-96f9-4753-a6e3-dc799dcb9ed4\" xlink:show=\"new\" xlink:title=\"psysml:8857df12-96f9-4753-a6e3-dc799dcb9ed4\" xlink:type=\"simple\"><rect fill=\"#FFFFFF\" height=\"53.9375\" id=\"E8\" style=\"stroke: #383838; stroke-width: 1.5;\" width=\"156\" x=\"50.5\" y=\"403\"/><text fill=\"#000000\" font-family=\"sans-serif\" font-size=\"12\" font-style=\"italic\" lengthAdjust=\"spacingAndGlyphs\" textLength=\"154\" x=\"51.5\" y=\"419.1387\">«(T,blue)calculation def»</text><text fill=\"#000000\" font-family=\"sans-serif\" font-size=\"12\" lengthAdjust=\"spacingAndGlyphs\" textLength=\"59\" x=\"99\" y=\"433.1074\">MassSum</text><line style=\"stroke: #383838; stroke-width: 1.5;\" x1=\"51.5\" x2=\"205.5\" y1=\"440.9375\" y2=\"440.9375\"/><line style=\"stroke: #383838; stroke-width: 1.5;\" x1=\"51.5\" x2=\"205.5\" y1=\"448.9375\" y2=\"448.9375\"/></a><!--MD5=[fd4143e9d270a159db93a4ea2a975926]\n",
       "class E9--><a href=\"psysml:86e0ef61-a473-4ef3-8b23-ebbfee168e1c\" target=\"_top\" title=\"psysml:86e0ef61-a473-4ef3-8b23-ebbfee168e1c\" xlink:actuate=\"onRequest\" xlink:href=\"psysml:86e0ef61-a473-4ef3-8b23-ebbfee168e1c\" xlink:show=\"new\" xlink:title=\"psysml:86e0ef61-a473-4ef3-8b23-ebbfee168e1c\" xlink:type=\"simple\"><rect fill=\"#FFFFFF\" height=\"53.9375\" id=\"E9\" style=\"stroke: #383838; stroke-width: 1.5;\" width=\"156\" x=\"50.5\" y=\"492\"/><text fill=\"#000000\" font-family=\"sans-serif\" font-size=\"12\" font-style=\"italic\" lengthAdjust=\"spacingAndGlyphs\" textLength=\"154\" x=\"51.5\" y=\"508.1387\">«(T,blue)calculation def»</text><text fill=\"#000000\" font-family=\"sans-serif\" font-size=\"12\" lengthAdjust=\"spacingAndGlyphs\" textLength=\"67\" x=\"95\" y=\"522.1074\">MassSum1</text><line style=\"stroke: #383838; stroke-width: 1.5;\" x1=\"51.5\" x2=\"205.5\" y1=\"529.9375\" y2=\"529.9375\"/><line style=\"stroke: #383838; stroke-width: 1.5;\" x1=\"51.5\" x2=\"205.5\" y1=\"537.9375\" y2=\"537.9375\"/></a><g id=\"E1.E2.E3\"><a href=\"psysml:536fae04-334d-4f68-a23e-e57d7170c38b\" target=\"_top\" title=\"psysml:536fae04-334d-4f68-a23e-e57d7170c38b\" xlink:actuate=\"onRequest\" xlink:href=\"psysml:536fae04-334d-4f68-a23e-e57d7170c38b\" xlink:show=\"new\" xlink:title=\"psysml:536fae04-334d-4f68-a23e-e57d7170c38b\" xlink:type=\"simple\"><rect fill=\"#FFFFFF\" height=\"42.9375\" id=\"E3\" rx=\"10\" ry=\"10\" style=\"stroke: #383838; stroke-width: 1.5;\" width=\"97\" x=\"80\" y=\"324.5\"/><rect fill=\"#F8F8F8\" height=\"37.9375\" rx=\"10\" ry=\"10\" style=\"stroke: #F8F8F8; stroke-width: 1.5;\" width=\"97\" x=\"80\" y=\"324.5\"/><rect fill=\"#F8F8F8\" height=\"10\" style=\"stroke: #F8F8F8; stroke-width: 1.5;\" width=\"97\" x=\"80\" y=\"352.4375\"/><rect fill=\"none\" height=\"42.9375\" id=\"E3\" rx=\"10\" ry=\"10\" style=\"stroke: #383838; stroke-width: 1.5;\" width=\"97\" x=\"80\" y=\"324.5\"/><text fill=\"#000000\" font-family=\"sans-serif\" font-size=\"12\" font-style=\"italic\" lengthAdjust=\"spacingAndGlyphs\" textLength=\"69\" x=\"94\" y=\"340.6387\">«attribute»</text><text fill=\"#000000\" font-family=\"sans-serif\" font-size=\"12\" lengthAdjust=\"spacingAndGlyphs\" textLength=\"86\" x=\"85.5\" y=\"354.6074\">m: MassValue</text></a></g><g id=\"E1.E2.E4.E5\"><a href=\"psysml:2d8c1579-6ad8-45a7-8b4f-8ac5dd6e770e\" target=\"_top\" title=\"psysml:2d8c1579-6ad8-45a7-8b4f-8ac5dd6e770e\" xlink:actuate=\"onRequest\" xlink:href=\"psysml:2d8c1579-6ad8-45a7-8b4f-8ac5dd6e770e\" xlink:show=\"new\" xlink:title=\"psysml:2d8c1579-6ad8-45a7-8b4f-8ac5dd6e770e\" xlink:type=\"simple\"><rect fill=\"#FFFFFF\" height=\"42.9375\" id=\"E5\" rx=\"10\" ry=\"10\" style=\"stroke: #383838; stroke-width: 1.5;\" width=\"97\" x=\"80\" y=\"127.5\"/><rect fill=\"#F8F8F8\" height=\"37.9375\" rx=\"10\" ry=\"10\" style=\"stroke: #F8F8F8; stroke-width: 1.5;\" width=\"97\" x=\"80\" y=\"127.5\"/><rect fill=\"#F8F8F8\" height=\"10\" style=\"stroke: #F8F8F8; stroke-width: 1.5;\" width=\"97\" x=\"80\" y=\"155.4375\"/><rect fill=\"none\" height=\"42.9375\" id=\"E5\" rx=\"10\" ry=\"10\" style=\"stroke: #383838; stroke-width: 1.5;\" width=\"97\" x=\"80\" y=\"127.5\"/><text fill=\"#000000\" font-family=\"sans-serif\" font-size=\"12\" font-style=\"italic\" lengthAdjust=\"spacingAndGlyphs\" textLength=\"69\" x=\"94\" y=\"143.6387\">«attribute»</text><text fill=\"#000000\" font-family=\"sans-serif\" font-size=\"12\" lengthAdjust=\"spacingAndGlyphs\" textLength=\"86\" x=\"85.5\" y=\"157.6074\">m: MassValue</text></a></g><g id=\"E1.E2.E6.E7\"><a href=\"psysml:aae9b164-5c75-4cd2-bd76-7fd4ffe374bb\" target=\"_top\" title=\"psysml:aae9b164-5c75-4cd2-bd76-7fd4ffe374bb\" xlink:actuate=\"onRequest\" xlink:href=\"psysml:aae9b164-5c75-4cd2-bd76-7fd4ffe374bb\" xlink:show=\"new\" xlink:title=\"psysml:aae9b164-5c75-4cd2-bd76-7fd4ffe374bb\" xlink:type=\"simple\"><rect fill=\"#FFFFFF\" height=\"42.9375\" id=\"E7\" rx=\"10\" ry=\"10\" style=\"stroke: #383838; stroke-width: 1.5;\" width=\"97\" x=\"80\" y=\"246.5\"/><rect fill=\"#F8F8F8\" height=\"37.9375\" rx=\"10\" ry=\"10\" style=\"stroke: #F8F8F8; stroke-width: 1.5;\" width=\"97\" x=\"80\" y=\"246.5\"/><rect fill=\"#F8F8F8\" height=\"10\" style=\"stroke: #F8F8F8; stroke-width: 1.5;\" width=\"97\" x=\"80\" y=\"274.4375\"/><rect fill=\"none\" height=\"42.9375\" id=\"E7\" rx=\"10\" ry=\"10\" style=\"stroke: #383838; stroke-width: 1.5;\" width=\"97\" x=\"80\" y=\"246.5\"/><text fill=\"#000000\" font-family=\"sans-serif\" font-size=\"12\" font-style=\"italic\" lengthAdjust=\"spacingAndGlyphs\" textLength=\"69\" x=\"94\" y=\"262.6387\">«attribute»</text><text fill=\"#000000\" font-family=\"sans-serif\" font-size=\"12\" lengthAdjust=\"spacingAndGlyphs\" textLength=\"86\" x=\"85.5\" y=\"276.6074\">m: MassValue</text></a></g><!--MD5=[37d657b6bec5f3e7edaacb79fd771cc6]\n",
       "@startuml\r\n",
       "skinparam ranksep 8\r\n",
       "skinparam rectangle {\r\n",
       " backgroundColor<<block>> LightGreen\r\n",
       "}\r\n",
       "left to right direction\r\n",
       "skinparam monochrome true\r\n",
       "skinparam classbackgroundcolor white\r\n",
       "skinparam shadowing false\r\n",
       "skinparam wrapWidth 300\r\n",
       "hide circle\r\n",
       "\r\n",
       "package \"CalculationExample\" as E1  [[psysml:7249bcac-c63a-48a6-adec-7cf675138100 ]]  {\r\n",
       "rec usage \"vehicle\" as E2  [[psysml:14188455-78e6-45cf-9446-0197417271d8 ]] {\r\n",
       "rec usage \"m: MassValue\" as E3  <<(T,blue)attribute>> [[psysml:536fae04-334d-4f68-a23e-e57d7170c38b ]] {\r\n",
       "}\r\n",
       "rec usage \"eng\" as E4  [[psysml:5beb719b-2071-4403-a403-a4a2a93a4090 ]] {\r\n",
       "rec usage \"m: MassValue\" as E5  <<(T,blue)attribute>> [[psysml:2d8c1579-6ad8-45a7-8b4f-8ac5dd6e770e ]] {\r\n",
       "}\r\n",
       "}\r\n",
       "rec usage \"trans\" as E6  [[psysml:48862a39-11e7-4605-8aed-a0acf63d7872 ]] {\r\n",
       "rec usage \"m: MassValue\" as E7  <<(T,blue)attribute>> [[psysml:aae9b164-5c75-4cd2-bd76-7fd4ffe374bb ]] {\r\n",
       "}\r\n",
       "}\r\n",
       "}\r\n",
       "def \"MassSum\" as E8  <<(T,blue)calculation def>> [[psysml:8857df12-96f9-4753-a6e3-dc799dcb9ed4 ]] \r\n",
       "def \"MassSum1\" as E9  <<(T,blue)calculation def>> [[psysml:86e0ef61-a473-4ef3-8b23-ebbfee168e1c ]] \r\n",
       "}\r\n",
       "@enduml\r\n",
       "\n",
       "PlantUML version 1.2020.13(Sat Jun 13 12:26:38 UTC 2020)\n",
       "(EPL source distribution)\n",
       "Java Runtime: OpenJDK Runtime Environment\n",
       "JVM: OpenJDK 64-Bit Server VM\n",
       "Default Encoding: UTF-8\n",
       "Language: en\n",
       "Country: null\n",
       "--></g></svg>"
      ]
     },
     "execution_count": 19,
     "metadata": {},
     "output_type": "execute_result"
    }
   ],
   "source": [
    "%viz --style=\"LR\" --view=\"Interconnection\" \"CalculationExample\""
   ]
  },
  {
   "cell_type": "code",
   "execution_count": 20,
   "id": "typical-pipeline",
   "metadata": {
    "execution": {
     "iopub.execute_input": "2021-03-26T09:15:57.152476Z",
     "iopub.status.busy": "2021-03-26T09:15:57.152107Z",
     "iopub.status.idle": "2021-03-26T09:15:57.188858Z",
     "shell.execute_reply": "2021-03-26T09:15:57.187536Z"
    }
   },
   "outputs": [
    {
     "data": {
      "image/svg+xml": [
       "<?xml version=\"1.0\" encoding=\"UTF-8\" standalone=\"no\"?><svg xmlns=\"http://www.w3.org/2000/svg\" xmlns:xlink=\"http://www.w3.org/1999/xlink\" contentScriptType=\"application/ecmascript\" contentStyleType=\"text/css\" height=\"370px\" preserveAspectRatio=\"none\" style=\"width:276px;height:370px;\" version=\"1.1\" viewBox=\"0 0 276 370\" width=\"276px\" zoomAndPan=\"magnify\"><defs/><g><!--MD5=[fbc87193dbaf4d95561dea2c320d4a47]\n",
       "cluster E1--><a href=\"psysml:8857df12-96f9-4753-a6e3-dc799dcb9ed4\" target=\"_top\" title=\"psysml:8857df12-96f9-4753-a6e3-dc799dcb9ed4\" xlink:actuate=\"onRequest\" xlink:href=\"psysml:8857df12-96f9-4753-a6e3-dc799dcb9ed4\" xlink:show=\"new\" xlink:title=\"psysml:8857df12-96f9-4753-a6e3-dc799dcb9ed4\" xlink:type=\"simple\"><rect fill=\"#FFFFFF\" height=\"88\" id=\"E1\" style=\"stroke: #383838; stroke-width: 1.5;\" width=\"203.72\" x=\"28\" y=\"250.0986\"/><rect fill=\"#F8F8F8\" height=\"37.9375\" style=\"stroke: #383838; stroke-width: 1.5;\" width=\"203.72\" x=\"28\" y=\"250.0986\"/><text fill=\"#000000\" font-family=\"sans-serif\" font-size=\"12\" font-style=\"italic\" lengthAdjust=\"spacingAndGlyphs\" textLength=\"106\" x=\"76.86\" y=\"266.2373\">«calculation def»</text><text fill=\"#000000\" font-family=\"sans-serif\" font-size=\"12\" lengthAdjust=\"spacingAndGlyphs\" textLength=\"59\" x=\"100.36\" y=\"280.2061\">MassSum</text></a><!--MD5=[14e3b0961a2654348d326746436168a1]\n",
       "cluster E6--><a href=\"psysml:1d10ff1d-94f3-4fcc-ad21-5a3c75a7ba0b\" target=\"_top\" title=\"psysml:1d10ff1d-94f3-4fcc-ad21-5a3c75a7ba0b\" xlink:actuate=\"onRequest\" xlink:href=\"psysml:1d10ff1d-94f3-4fcc-ad21-5a3c75a7ba0b\" xlink:show=\"new\" xlink:title=\"psysml:1d10ff1d-94f3-4fcc-ad21-5a3c75a7ba0b\" xlink:type=\"simple\"><rect fill=\"#FFFFFF\" height=\"38\" id=\"E6\" rx=\"10\" ry=\"10\" style=\"stroke: #383838; stroke-width: 1.5;\" width=\"203.72\" x=\"46\" y=\"160.0986\"/><rect fill=\"#F8F8F8\" height=\"37.9375\" rx=\"10\" ry=\"10\" style=\"stroke: #F8F8F8; stroke-width: 1.5;\" width=\"203.72\" x=\"46\" y=\"160.0986\"/><rect fill=\"#F8F8F8\" height=\"10\" style=\"stroke: #F8F8F8; stroke-width: 1.5;\" width=\"203.72\" x=\"46\" y=\"188.0361\"/><rect fill=\"none\" height=\"38\" id=\"E6\" rx=\"10\" ry=\"10\" style=\"stroke: #383838; stroke-width: 1.5;\" width=\"203.72\" x=\"46\" y=\"160.0986\"/><text fill=\"#000000\" font-family=\"sans-serif\" font-size=\"12\" font-style=\"italic\" lengthAdjust=\"spacingAndGlyphs\" textLength=\"82\" x=\"106.86\" y=\"176.2373\">«calculation»</text><text fill=\"#000000\" font-family=\"sans-serif\" font-size=\"12\" lengthAdjust=\"spacingAndGlyphs\" textLength=\"18\" x=\"138.86\" y=\"190.2061\">ms</text><line style=\"stroke: #383838; stroke-width: 1.0;\" x1=\"46\" x2=\"249.72\" y1=\"198.0361\" y2=\"198.0361\"/></a><!--MD5=[7f149f147074ac12df2cb0a7728a5fb0]\n",
       "cluster E9--><a href=\"psysml:86e0ef61-a473-4ef3-8b23-ebbfee168e1c\" target=\"_top\" title=\"psysml:86e0ef61-a473-4ef3-8b23-ebbfee168e1c\" xlink:actuate=\"onRequest\" xlink:href=\"psysml:86e0ef61-a473-4ef3-8b23-ebbfee168e1c\" xlink:show=\"new\" xlink:title=\"psysml:86e0ef61-a473-4ef3-8b23-ebbfee168e1c\" xlink:type=\"simple\"><rect fill=\"#FFFFFF\" height=\"38\" id=\"E9\" style=\"stroke: #383838; stroke-width: 1.5;\" width=\"203.72\" x=\"46\" y=\"84.0986\"/><rect fill=\"#F8F8F8\" height=\"37.9375\" style=\"stroke: #383838; stroke-width: 1.5;\" width=\"203.72\" x=\"46\" y=\"84.0986\"/><text fill=\"#000000\" font-family=\"sans-serif\" font-size=\"12\" font-style=\"italic\" lengthAdjust=\"spacingAndGlyphs\" textLength=\"106\" x=\"94.86\" y=\"100.2373\">«calculation def»</text><text fill=\"#000000\" font-family=\"sans-serif\" font-size=\"12\" lengthAdjust=\"spacingAndGlyphs\" textLength=\"67\" x=\"114.36\" y=\"114.2061\">MassSum1</text></a><!--MD5=[47bea60c1a0ac6c1143df232041969c0]\n",
       "cluster E12--><a href=\"psysml:5bbc6089-c972-4222-8f32-76d519ddb8cd\" target=\"_top\" title=\"psysml:5bbc6089-c972-4222-8f32-76d519ddb8cd\" xlink:actuate=\"onRequest\" xlink:href=\"psysml:5bbc6089-c972-4222-8f32-76d519ddb8cd\" xlink:show=\"new\" xlink:title=\"psysml:5bbc6089-c972-4222-8f32-76d519ddb8cd\" xlink:type=\"simple\"><rect fill=\"#FFFFFF\" height=\"68\" id=\"E12\" rx=\"10\" ry=\"10\" style=\"stroke: #383838; stroke-width: 1.5;\" width=\"185.72\" x=\"46\" y=\"8.0986\"/><rect fill=\"#F8F8F8\" height=\"37.9375\" rx=\"10\" ry=\"10\" style=\"stroke: #F8F8F8; stroke-width: 1.5;\" width=\"185.72\" x=\"46\" y=\"8.0986\"/><rect fill=\"#F8F8F8\" height=\"10\" style=\"stroke: #F8F8F8; stroke-width: 1.5;\" width=\"185.72\" x=\"46\" y=\"36.0361\"/><rect fill=\"none\" height=\"68\" id=\"E12\" rx=\"10\" ry=\"10\" style=\"stroke: #383838; stroke-width: 1.5;\" width=\"185.72\" x=\"46\" y=\"8.0986\"/><text fill=\"#000000\" font-family=\"sans-serif\" font-size=\"12\" font-style=\"italic\" lengthAdjust=\"spacingAndGlyphs\" textLength=\"82\" x=\"97.86\" y=\"24.2373\">«calculation»</text><text fill=\"#000000\" font-family=\"sans-serif\" font-size=\"12\" lengthAdjust=\"spacingAndGlyphs\" textLength=\"26\" x=\"125.86\" y=\"38.2061\">ms1</text><line style=\"stroke: #383838; stroke-width: 1.0;\" x1=\"46\" x2=\"231.72\" y1=\"46.0361\" y2=\"46.0361\"/></a><text fill=\"#000000\" font-family=\"sans-serif\" font-size=\"14\" lengthAdjust=\"spacingAndGlyphs\" textLength=\"80\" x=\"6\" y=\"357.0938\">partMasses</text><rect fill=\"#383838\" height=\"12\" style=\"stroke: #F8F8F8; stroke-width: 1.5;\" width=\"12\" x=\"40\" y=\"332.0986\"/><text fill=\"#000000\" font-family=\"sans-serif\" font-size=\"14\" lengthAdjust=\"spacingAndGlyphs\" textLength=\"66\" x=\"198.72\" y=\"340.0938\">totalMass</text><rect fill=\"#383838\" height=\"12\" style=\"stroke: #F8F8F8; stroke-width: 1.5;\" width=\"12\" x=\"225.72\" y=\"315.0986\"/><text fill=\"#000000\" font-family=\"sans-serif\" font-size=\"14\" lengthAdjust=\"spacingAndGlyphs\" textLength=\"75\" x=\"8.5\" y=\"228.7969\">$collection</text><rect fill=\"#383838\" height=\"12\" style=\"stroke: #F8F8F8; stroke-width: 1.5;\" width=\"12\" x=\"40\" y=\"244.0986\"/><text fill=\"#000000\" font-family=\"sans-serif\" font-size=\"14\" lengthAdjust=\"spacingAndGlyphs\" textLength=\"48\" x=\"207.72\" y=\"252.7969\">$result</text><rect fill=\"#383838\" height=\"12\" style=\"stroke: #F8F8F8; stroke-width: 1.5;\" width=\"12\" x=\"225.72\" y=\"268.0986\"/><text fill=\"#000000\" font-family=\"sans-serif\" font-size=\"14\" lengthAdjust=\"spacingAndGlyphs\" textLength=\"80\" x=\"6\" y=\"213.0938\">partMasses</text><rect fill=\"#383838\" height=\"12\" style=\"stroke: #F8F8F8; stroke-width: 1.5;\" width=\"12\" x=\"40\" y=\"188.0986\"/><text fill=\"#000000\" font-family=\"sans-serif\" font-size=\"14\" lengthAdjust=\"spacingAndGlyphs\" textLength=\"66\" x=\"198.72\" y=\"217.0938\">totalMass</text><rect fill=\"#383838\" height=\"12\" style=\"stroke: #F8F8F8; stroke-width: 1.5;\" width=\"12\" x=\"225.72\" y=\"192.0986\"/><text fill=\"#000000\" font-family=\"sans-serif\" font-size=\"14\" lengthAdjust=\"spacingAndGlyphs\" textLength=\"80\" x=\"6\" y=\"137.0938\">partMasses</text><rect fill=\"#383838\" height=\"12\" style=\"stroke: #F8F8F8; stroke-width: 1.5;\" width=\"12\" x=\"40\" y=\"112.0986\"/><text fill=\"#000000\" font-family=\"sans-serif\" font-size=\"14\" lengthAdjust=\"spacingAndGlyphs\" textLength=\"66\" x=\"198.72\" y=\"141.0938\">totalMass</text><rect fill=\"#383838\" height=\"12\" style=\"stroke: #F8F8F8; stroke-width: 1.5;\" width=\"12\" x=\"225.72\" y=\"116.0986\"/><text fill=\"#000000\" font-family=\"sans-serif\" font-size=\"14\" lengthAdjust=\"spacingAndGlyphs\" textLength=\"80\" x=\"6\" y=\"20.7969\">partMasses</text><rect fill=\"#383838\" height=\"12\" style=\"stroke: #F8F8F8; stroke-width: 1.5;\" width=\"12\" x=\"40\" y=\"36.0986\"/><text fill=\"#000000\" font-family=\"sans-serif\" font-size=\"14\" lengthAdjust=\"spacingAndGlyphs\" textLength=\"66\" x=\"198.72\" y=\"20.7969\">totalMass</text><rect fill=\"#383838\" height=\"12\" style=\"stroke: #F8F8F8; stroke-width: 1.5;\" width=\"12\" x=\"225.72\" y=\"36.0986\"/><!--MD5=[0188b64bb0ae78505a997a81836e11e9]\n",
       "link E3 to E5--><a href=\"psysml:5b55f712-f9b6-4e15-aeab-345c960b0653\" target=\"_top\" title=\"psysml:5b55f712-f9b6-4e15-aeab-345c960b0653\" xlink:actuate=\"onRequest\" xlink:href=\"psysml:5b55f712-f9b6-4e15-aeab-345c960b0653\" xlink:show=\"new\" xlink:title=\"psysml:5b55f712-f9b6-4e15-aeab-345c960b0653\" xlink:type=\"simple\"><path d=\"M229.65,314.8586 C226.39,303.2886 226.41,291.7186 229.7,280.1486 \" fill=\"none\" id=\"E3-E5\" style=\"stroke: #383838; stroke-width: 5.0;\"/></a><!--MD5=[78da6ad0eb2fd92f771d92d9744e8982]\n",
       "@startuml\r\n",
       "skinparam ranksep 8\r\n",
       "left to right direction\r\n",
       "skinparam monochrome true\r\n",
       "skinparam classbackgroundcolor white\r\n",
       "skinparam shadowing false\r\n",
       "skinparam wrapWidth 300\r\n",
       "hide circle\r\n",
       "\r\n",
       "rec def \"MassSum\" as E1  <<(T,blue)calculation def>> [[psysml:8857df12-96f9-4753-a6e3-dc799dcb9ed4 ]] {\r\n",
       "portin \"partMasses\" as E2  [[psysml:8ae5fd16-1397-4172-a6e5-0c084d8d7ca2 ]] \r\n",
       "portout \"totalMass\" as E3  [[psysml:5f15c55d-7a56-4485-be6d-5834d49cebc1 ]] \r\n",
       "portin \"$collection\" as E4  [[psysml:61806866-d159-447e-b132-fa56be682adf ]] \r\n",
       "portout \"$result\" as E5  [[psysml:6ddb7e29-61e7-4184-8db5-61f90a0c49bf ]] \r\n",
       "}\r\n",
       "\r\n",
       "E3 -[thickness=5]- E5 [[psysml:5b55f712-f9b6-4e15-aeab-345c960b0653 ]] \r\n",
       "rec usage \"ms\" as E6  <<(T,blue)calculation>> [[psysml:1d10ff1d-94f3-4fcc-ad21-5a3c75a7ba0b ]] {\r\n",
       "portin \"partMasses\" as E7  [[psysml:a2c0aed5-a65e-46d5-90c0-ba8b1517610c ]] \r\n",
       "portout \"totalMass\" as E8  [[psysml:76889a80-c5e0-422b-b2ce-fdc6eabdf747 ]] \r\n",
       "}\r\n",
       "\r\n",
       "rec def \"MassSum1\" as E9  <<(T,blue)calculation def>> [[psysml:86e0ef61-a473-4ef3-8b23-ebbfee168e1c ]] {\r\n",
       "portin \"partMasses\" as E10  [[psysml:44765cb5-91e3-4973-8d66-b6f2e5bbf87d ]] \r\n",
       "portout \"totalMass\" as E11  [[psysml:8a0a1f2d-4441-4a8a-b849-a96ed87f36a5 ]] \r\n",
       "}\r\n",
       "\r\n",
       "rec usage \"ms1\" as E12  <<(T,blue)calculation>> [[psysml:5bbc6089-c972-4222-8f32-76d519ddb8cd ]] {\r\n",
       "portin \"partMasses\" as E13  [[psysml:bceb4c61-ae51-43e8-95f6-5db7102a1a6d ]] \r\n",
       "portout \"totalMass\" as E14  [[psysml:18f22934-19d9-4087-8718-e35a3f9b5ce2 ]] \r\n",
       "}\r\n",
       "\r\n",
       "@enduml\r\n",
       "\n",
       "PlantUML version 1.2020.13(Sat Jun 13 12:26:38 UTC 2020)\n",
       "(EPL source distribution)\n",
       "Java Runtime: OpenJDK Runtime Environment\n",
       "JVM: OpenJDK 64-Bit Server VM\n",
       "Default Encoding: UTF-8\n",
       "Language: en\n",
       "Country: null\n",
       "--></g></svg>"
      ]
     },
     "execution_count": 20,
     "metadata": {},
     "output_type": "execute_result"
    }
   ],
   "source": [
    "%viz --style=\"LR\" --view=\"Action\" \"CalculationExample\""
   ]
  },
  {
   "cell_type": "code",
   "execution_count": 21,
   "id": "meaningful-inspection",
   "metadata": {
    "execution": {
     "iopub.execute_input": "2021-03-26T09:15:57.247625Z",
     "iopub.status.busy": "2021-03-26T09:15:57.247187Z",
     "iopub.status.idle": "2021-03-26T09:15:57.335379Z",
     "shell.execute_reply": "2021-03-26T09:15:57.335772Z"
    }
   },
   "outputs": [
    {
     "data": {
      "image/svg+xml": [
       "<?xml version=\"1.0\" encoding=\"UTF-8\" standalone=\"no\"?><svg xmlns=\"http://www.w3.org/2000/svg\" xmlns:xlink=\"http://www.w3.org/1999/xlink\" contentScriptType=\"application/ecmascript\" contentStyleType=\"text/css\" height=\"472px\" preserveAspectRatio=\"none\" style=\"width:386px;height:472px;\" version=\"1.1\" viewBox=\"0 0 386 472\" width=\"386px\" zoomAndPan=\"magnify\"><defs/><g><!--MD5=[fbc87193dbaf4d95561dea2c320d4a47]\n",
       "cluster E1--><a href=\"psysml:7249bcac-c63a-48a6-adec-7cf675138100\" target=\"_top\" title=\"psysml:7249bcac-c63a-48a6-adec-7cf675138100\" xlink:actuate=\"onRequest\" xlink:href=\"psysml:7249bcac-c63a-48a6-adec-7cf675138100\" xlink:show=\"new\" xlink:title=\"psysml:7249bcac-c63a-48a6-adec-7cf675138100\" xlink:type=\"simple\"><polygon fill=\"#FFFFFF\" points=\"16,6,173,6,180,28.2969,364,28.2969,364,460,16,460,16,6\" style=\"stroke: #000000; stroke-width: 1.5;\"/><line style=\"stroke: #000000; stroke-width: 1.5;\" x1=\"16\" x2=\"180\" y1=\"28.2969\" y2=\"28.2969\"/><text fill=\"#000000\" font-family=\"sans-serif\" font-size=\"14\" font-weight=\"bold\" lengthAdjust=\"spacingAndGlyphs\" textLength=\"151\" x=\"20\" y=\"20.9951\">CalculationExample</text></a><!--MD5=[b4997ac47864f28c2f74865a473b2911]\n",
       "class E2--><a href=\"psysml:14188455-78e6-45cf-9446-0197417271d8\" target=\"_top\" title=\"psysml:14188455-78e6-45cf-9446-0197417271d8\" xlink:actuate=\"onRequest\" xlink:href=\"psysml:14188455-78e6-45cf-9446-0197417271d8\" xlink:show=\"new\" xlink:title=\"psysml:14188455-78e6-45cf-9446-0197417271d8\" xlink:type=\"simple\"><rect fill=\"#FFFFFF\" height=\"75.5469\" id=\"E2\" rx=\"10\" ry=\"10\" style=\"stroke: #383838; stroke-width: 1.5;\" width=\"92\" x=\"60\" y=\"41\"/><text fill=\"#000000\" font-family=\"sans-serif\" font-size=\"12\" font-style=\"italic\" lengthAdjust=\"spacingAndGlyphs\" textLength=\"40\" x=\"86\" y=\"57.1387\">«part»</text><text fill=\"#000000\" font-family=\"sans-serif\" font-size=\"12\" lengthAdjust=\"spacingAndGlyphs\" textLength=\"43\" x=\"84.5\" y=\"71.1074\">vehicle</text><line style=\"stroke: #383838; stroke-width: 1.5;\" x1=\"61\" x2=\"151\" y1=\"78.9375\" y2=\"78.9375\"/><text fill=\"#000000\" font-family=\"sans-serif\" font-size=\"11\" lengthAdjust=\"spacingAndGlyphs\" textLength=\"80\" x=\"66\" y=\"109.9526\">m: MassValue</text><line style=\"stroke: #383838; stroke-width: 1.0;\" x1=\"61\" x2=\"78.5\" y1=\"93.3398\" y2=\"93.3398\"/><text fill=\"#000000\" font-family=\"sans-serif\" font-size=\"11\" lengthAdjust=\"spacingAndGlyphs\" textLength=\"55\" x=\"78.5\" y=\"96.6479\">attributes</text><line style=\"stroke: #383838; stroke-width: 1.0;\" x1=\"133.5\" x2=\"151\" y1=\"93.3398\" y2=\"93.3398\"/></a><!--MD5=[09b614a08d8cba4a07c9adeb5e0fee81]\n",
       "class E3--><a href=\"psysml:5beb719b-2071-4403-a403-a4a2a93a4090\" target=\"_top\" title=\"psysml:5beb719b-2071-4403-a403-a4a2a93a4090\" xlink:actuate=\"onRequest\" xlink:href=\"psysml:5beb719b-2071-4403-a403-a4a2a93a4090\" xlink:show=\"new\" xlink:title=\"psysml:5beb719b-2071-4403-a403-a4a2a93a4090\" xlink:type=\"simple\"><rect fill=\"#FFFFFF\" height=\"75.5469\" id=\"E3\" rx=\"10\" ry=\"10\" style=\"stroke: #383838; stroke-width: 1.5;\" width=\"92\" x=\"248\" y=\"152\"/><text fill=\"#000000\" font-family=\"sans-serif\" font-size=\"12\" font-style=\"italic\" lengthAdjust=\"spacingAndGlyphs\" textLength=\"40\" x=\"274\" y=\"168.1387\">«part»</text><text fill=\"#000000\" font-family=\"sans-serif\" font-size=\"12\" lengthAdjust=\"spacingAndGlyphs\" textLength=\"24\" x=\"282\" y=\"182.1074\">eng</text><line style=\"stroke: #383838; stroke-width: 1.5;\" x1=\"249\" x2=\"339\" y1=\"189.9375\" y2=\"189.9375\"/><text fill=\"#000000\" font-family=\"sans-serif\" font-size=\"11\" lengthAdjust=\"spacingAndGlyphs\" textLength=\"80\" x=\"254\" y=\"220.9526\">m: MassValue</text><line style=\"stroke: #383838; stroke-width: 1.0;\" x1=\"249\" x2=\"266.5\" y1=\"204.3398\" y2=\"204.3398\"/><text fill=\"#000000\" font-family=\"sans-serif\" font-size=\"11\" lengthAdjust=\"spacingAndGlyphs\" textLength=\"55\" x=\"266.5\" y=\"207.6479\">attributes</text><line style=\"stroke: #383838; stroke-width: 1.0;\" x1=\"321.5\" x2=\"339\" y1=\"204.3398\" y2=\"204.3398\"/></a><!--MD5=[ebbe1d658d1005bcc118a6aa81145e00]\n",
       "class E4--><a href=\"psysml:48862a39-11e7-4605-8aed-a0acf63d7872\" target=\"_top\" title=\"psysml:48862a39-11e7-4605-8aed-a0acf63d7872\" xlink:actuate=\"onRequest\" xlink:href=\"psysml:48862a39-11e7-4605-8aed-a0acf63d7872\" xlink:show=\"new\" xlink:title=\"psysml:48862a39-11e7-4605-8aed-a0acf63d7872\" xlink:type=\"simple\"><rect fill=\"#FFFFFF\" height=\"75.5469\" id=\"E4\" rx=\"10\" ry=\"10\" style=\"stroke: #383838; stroke-width: 1.5;\" width=\"92\" x=\"248\" y=\"41\"/><text fill=\"#000000\" font-family=\"sans-serif\" font-size=\"12\" font-style=\"italic\" lengthAdjust=\"spacingAndGlyphs\" textLength=\"40\" x=\"274\" y=\"57.1387\">«part»</text><text fill=\"#000000\" font-family=\"sans-serif\" font-size=\"12\" lengthAdjust=\"spacingAndGlyphs\" textLength=\"33\" x=\"277.5\" y=\"71.1074\">trans</text><line style=\"stroke: #383838; stroke-width: 1.5;\" x1=\"249\" x2=\"339\" y1=\"78.9375\" y2=\"78.9375\"/><text fill=\"#000000\" font-family=\"sans-serif\" font-size=\"11\" lengthAdjust=\"spacingAndGlyphs\" textLength=\"80\" x=\"254\" y=\"109.9526\">m: MassValue</text><line style=\"stroke: #383838; stroke-width: 1.0;\" x1=\"249\" x2=\"266.5\" y1=\"93.3398\" y2=\"93.3398\"/><text fill=\"#000000\" font-family=\"sans-serif\" font-size=\"11\" lengthAdjust=\"spacingAndGlyphs\" textLength=\"55\" x=\"266.5\" y=\"96.6479\">attributes</text><line style=\"stroke: #383838; stroke-width: 1.0;\" x1=\"321.5\" x2=\"339\" y1=\"93.3398\" y2=\"93.3398\"/></a><!--MD5=[270fce915f116d4de14055a7c1d9a0f3]\n",
       "class E5--><a href=\"psysml:8857df12-96f9-4753-a6e3-dc799dcb9ed4\" target=\"_top\" title=\"psysml:8857df12-96f9-4753-a6e3-dc799dcb9ed4\" xlink:actuate=\"onRequest\" xlink:href=\"psysml:8857df12-96f9-4753-a6e3-dc799dcb9ed4\" xlink:show=\"new\" xlink:title=\"psysml:8857df12-96f9-4753-a6e3-dc799dcb9ed4\" xlink:type=\"simple\"><rect fill=\"#FFFFFF\" height=\"45.9375\" id=\"E5\" style=\"stroke: #383838; stroke-width: 1.5;\" width=\"108\" x=\"240\" y=\"320\"/><text fill=\"#000000\" font-family=\"sans-serif\" font-size=\"12\" font-style=\"italic\" lengthAdjust=\"spacingAndGlyphs\" textLength=\"106\" x=\"241\" y=\"336.1387\">«calculation def»</text><text fill=\"#000000\" font-family=\"sans-serif\" font-size=\"12\" lengthAdjust=\"spacingAndGlyphs\" textLength=\"59\" x=\"264.5\" y=\"350.1074\">MassSum</text><line style=\"stroke: #383838; stroke-width: 1.5;\" x1=\"241\" x2=\"347\" y1=\"357.9375\" y2=\"357.9375\"/></a><!--MD5=[60a26617385b1d2d0262a64233df1f8d]\n",
       "class E6--><a href=\"psysml:1d10ff1d-94f3-4fcc-ad21-5a3c75a7ba0b\" target=\"_top\" title=\"psysml:1d10ff1d-94f3-4fcc-ad21-5a3c75a7ba0b\" xlink:actuate=\"onRequest\" xlink:href=\"psysml:1d10ff1d-94f3-4fcc-ad21-5a3c75a7ba0b\" xlink:show=\"new\" xlink:title=\"psysml:1d10ff1d-94f3-4fcc-ad21-5a3c75a7ba0b\" xlink:type=\"simple\"><rect fill=\"#FFFFFF\" height=\"45.9375\" id=\"E6\" rx=\"10\" ry=\"10\" style=\"stroke: #383838; stroke-width: 1.5;\" width=\"91\" x=\"60.5\" y=\"152\"/><text fill=\"#000000\" font-family=\"sans-serif\" font-size=\"12\" font-style=\"italic\" lengthAdjust=\"spacingAndGlyphs\" textLength=\"82\" x=\"65\" y=\"168.1387\">«calculation»</text><text fill=\"#000000\" font-family=\"sans-serif\" font-size=\"12\" lengthAdjust=\"spacingAndGlyphs\" textLength=\"85\" x=\"63.5\" y=\"182.1074\">ms: MassSum</text><line style=\"stroke: #383838; stroke-width: 1.5;\" x1=\"61.5\" x2=\"150.5\" y1=\"189.9375\" y2=\"189.9375\"/></a><!--MD5=[2156ba9850f5573cc1fc38a6a4b2f02b]\n",
       "class E7--><a href=\"psysml:86e0ef61-a473-4ef3-8b23-ebbfee168e1c\" target=\"_top\" title=\"psysml:86e0ef61-a473-4ef3-8b23-ebbfee168e1c\" xlink:actuate=\"onRequest\" xlink:href=\"psysml:86e0ef61-a473-4ef3-8b23-ebbfee168e1c\" xlink:show=\"new\" xlink:title=\"psysml:86e0ef61-a473-4ef3-8b23-ebbfee168e1c\" xlink:type=\"simple\"><rect fill=\"#FFFFFF\" height=\"88.3516\" id=\"E7\" style=\"stroke: #383838; stroke-width: 1.5;\" width=\"148\" x=\"32\" y=\"233\"/><text fill=\"#000000\" font-family=\"sans-serif\" font-size=\"12\" font-style=\"italic\" lengthAdjust=\"spacingAndGlyphs\" textLength=\"106\" x=\"53\" y=\"249.1387\">«calculation def»</text><text fill=\"#000000\" font-family=\"sans-serif\" font-size=\"12\" lengthAdjust=\"spacingAndGlyphs\" textLength=\"67\" x=\"72.5\" y=\"263.1074\">MassSum1</text><line style=\"stroke: #383838; stroke-width: 1.5;\" x1=\"33\" x2=\"179\" y1=\"270.9375\" y2=\"270.9375\"/><text fill=\"#000000\" font-family=\"sans-serif\" font-size=\"11\" lengthAdjust=\"spacingAndGlyphs\" textLength=\"136\" x=\"38\" y=\"301.9526\">partMasses: MassValue</text><text fill=\"#000000\" font-family=\"sans-serif\" font-size=\"11\" lengthAdjust=\"spacingAndGlyphs\" textLength=\"124\" x=\"38\" y=\"314.7573\">totalMass: MassValue</text><line style=\"stroke: #383838; stroke-width: 1.0;\" x1=\"33\" x2=\"78.5\" y1=\"285.3398\" y2=\"285.3398\"/><text fill=\"#000000\" font-family=\"sans-serif\" font-size=\"11\" lengthAdjust=\"spacingAndGlyphs\" textLength=\"55\" x=\"78.5\" y=\"288.6479\">attributes</text><line style=\"stroke: #383838; stroke-width: 1.0;\" x1=\"133.5\" x2=\"179\" y1=\"285.3398\" y2=\"285.3398\"/></a><!--MD5=[b9389687b975829384b498ac4b7476b2]\n",
       "class E8--><a href=\"psysml:5bbc6089-c972-4222-8f32-76d519ddb8cd\" target=\"_top\" title=\"psysml:5bbc6089-c972-4222-8f32-76d519ddb8cd\" xlink:actuate=\"onRequest\" xlink:href=\"psysml:5bbc6089-c972-4222-8f32-76d519ddb8cd\" xlink:show=\"new\" xlink:title=\"psysml:5bbc6089-c972-4222-8f32-76d519ddb8cd\" xlink:type=\"simple\"><rect fill=\"#FFFFFF\" height=\"88.3516\" id=\"E8\" rx=\"10\" ry=\"10\" style=\"stroke: #383838; stroke-width: 1.5;\" width=\"99\" x=\"56.5\" y=\"356\"/><text fill=\"#000000\" font-family=\"sans-serif\" font-size=\"12\" font-style=\"italic\" lengthAdjust=\"spacingAndGlyphs\" textLength=\"82\" x=\"65\" y=\"372.1387\">«calculation»</text><text fill=\"#000000\" font-family=\"sans-serif\" font-size=\"12\" lengthAdjust=\"spacingAndGlyphs\" textLength=\"93\" x=\"59.5\" y=\"386.1074\">ms1: MassSum</text><line style=\"stroke: #383838; stroke-width: 1.5;\" x1=\"57.5\" x2=\"154.5\" y1=\"393.9375\" y2=\"393.9375\"/><text fill=\"#000000\" font-family=\"sans-serif\" font-size=\"11\" lengthAdjust=\"spacingAndGlyphs\" textLength=\"67\" x=\"62.5\" y=\"424.9526\">partMasses</text><text fill=\"#000000\" font-family=\"sans-serif\" font-size=\"11\" lengthAdjust=\"spacingAndGlyphs\" textLength=\"55\" x=\"62.5\" y=\"437.7573\">totalMass</text><line style=\"stroke: #383838; stroke-width: 1.0;\" x1=\"57.5\" x2=\"78.5\" y1=\"408.3398\" y2=\"408.3398\"/><text fill=\"#000000\" font-family=\"sans-serif\" font-size=\"11\" lengthAdjust=\"spacingAndGlyphs\" textLength=\"55\" x=\"78.5\" y=\"411.6479\">attributes</text><line style=\"stroke: #383838; stroke-width: 1.0;\" x1=\"133.5\" x2=\"154.5\" y1=\"408.3398\" y2=\"408.3398\"/></a><!--MD5=[209b3feb70ccb6233bfe1053d122c12c]\n",
       "reverse link E2 to E3--><a href=\"psysml:5beb719b-2071-4403-a403-a4a2a93a4090\" target=\"_top\" title=\"psysml:5beb719b-2071-4403-a403-a4a2a93a4090\" xlink:actuate=\"onRequest\" xlink:href=\"psysml:5beb719b-2071-4403-a403-a4a2a93a4090\" xlink:show=\"new\" xlink:title=\"psysml:5beb719b-2071-4403-a403-a4a2a93a4090\" xlink:type=\"simple\"><path d=\"M163.28,112.59 C190.32,128.73 222.3,147.81 247.74,162.99 \" fill=\"none\" id=\"E2&lt;-E3\" style=\"stroke: #383838; stroke-width: 1.0;\"/><polygon fill=\"#383838\" points=\"152.03,105.87,155.1366,112.3776,162.3385,112.0129,159.2319,105.5053,152.03,105.87\" style=\"stroke: #383838; stroke-width: 1.0;\"/></a><!--MD5=[9618e71518536f8baf3342ff6fdab317]\n",
       "reverse link E2 to E4--><a href=\"psysml:48862a39-11e7-4605-8aed-a0acf63d7872\" target=\"_top\" title=\"psysml:48862a39-11e7-4605-8aed-a0acf63d7872\" xlink:actuate=\"onRequest\" xlink:href=\"psysml:48862a39-11e7-4605-8aed-a0acf63d7872\" xlink:show=\"new\" xlink:title=\"psysml:48862a39-11e7-4605-8aed-a0acf63d7872\" xlink:type=\"simple\"><path d=\"M165.1,79 C191.75,79 222.87,79 247.74,79 \" fill=\"none\" id=\"E2&lt;-E4\" style=\"stroke: #383838; stroke-width: 1.0;\"/><polygon fill=\"#383838\" points=\"152.03,79,158.03,83,164.03,79,158.03,75,152.03,79\" style=\"stroke: #383838; stroke-width: 1.0;\"/></a><!--MD5=[25b190c987b1e74e5126d372c5a73af1]\n",
       "link E6 to E5--><a href=\"psysml:9917c25f-6195-4027-a1da-c593e3e3b530\" target=\"_top\" title=\"psysml:9917c25f-6195-4027-a1da-c593e3e3b530\" xlink:actuate=\"onRequest\" xlink:href=\"psysml:9917c25f-6195-4027-a1da-c593e3e3b530\" xlink:show=\"new\" xlink:title=\"psysml:9917c25f-6195-4027-a1da-c593e3e3b530\" xlink:type=\"simple\"><path d=\"M151.8,196.35 C161.5,201.83 171.42,208.14 180,215 C212.25,240.78 242.86,276.4 264.07,303.52 \" fill=\"none\" id=\"E6-&gt;E5\" style=\"stroke: #383838; stroke-width: 1.0;\"/><polygon fill=\"#FFFFFF\" points=\"276.28,319.54,259.1957,308.6714,270.3306,300.1853,276.28,319.54\" style=\"stroke: #383838; stroke-width: 1.0;\"/><ellipse cx=\"257.3313\" cy=\"302.9256\" fill=\"#383838\" rx=\"2\" ry=\"2\" style=\"stroke: #383838; stroke-width: 1.0;\"/><ellipse cx=\"265.2848\" cy=\"296.8641\" fill=\"#383838\" rx=\"2\" ry=\"2\" style=\"stroke: #383838; stroke-width: 1.0;\"/></a><!--MD5=[1ccb2481ffa92f8d51a74ee30c51832a]\n",
       "link E8 to E5--><a href=\"psysml:bf4de082-8867-4b4d-b459-dc33df5641b4\" target=\"_top\" title=\"psysml:bf4de082-8867-4b4d-b459-dc33df5641b4\" xlink:actuate=\"onRequest\" xlink:href=\"psysml:bf4de082-8867-4b4d-b459-dc33df5641b4\" xlink:show=\"new\" xlink:title=\"psysml:bf4de082-8867-4b4d-b459-dc33df5641b4\" xlink:type=\"simple\"><path d=\"M155.87,385.02 C175.65,378.96 198.89,371.84 220.57,365.2 \" fill=\"none\" id=\"E8-&gt;E5\" style=\"stroke: #383838; stroke-width: 1.0;\"/><polygon fill=\"#FFFFFF\" points=\"239.89,359.28,223.7804,371.5471,219.6724,358.1634,239.89,359.28\" style=\"stroke: #383838; stroke-width: 1.0;\"/><ellipse cx=\"217.7445\" cy=\"371.3077\" fill=\"#383838\" rx=\"2\" ry=\"2\" style=\"stroke: #383838; stroke-width: 1.0;\"/><ellipse cx=\"214.8101\" cy=\"361.7479\" fill=\"#383838\" rx=\"2\" ry=\"2\" style=\"stroke: #383838; stroke-width: 1.0;\"/></a><!--MD5=[21f2dc1329588ae0b26651d6b38d4ad6]\n",
       "@startuml\r\n",
       "left to right direction\r\n",
       "skinparam monochrome true\r\n",
       "skinparam classbackgroundcolor white\r\n",
       "skinparam shadowing false\r\n",
       "skinparam wrapWidth 300\r\n",
       "hide circle\r\n",
       "\r\n",
       "package \"CalculationExample\" as E1  [[psysml:7249bcac-c63a-48a6-adec-7cf675138100 ]]  {\r\n",
       "comp usage \"vehicle\" as E2  <<(T,blue)part>> [[psysml:14188455-78e6-45cf-9446-0197417271d8 ]] {\r\n",
       "- - attributes - -\r\n",
       "m: MassValue\r\n",
       "}\r\n",
       "comp usage \"eng\" as E3  <<(T,blue)part>> [[psysml:5beb719b-2071-4403-a403-a4a2a93a4090 ]] {\r\n",
       "- - attributes - -\r\n",
       "m: MassValue\r\n",
       "}\r\n",
       "comp usage \"trans\" as E4  <<(T,blue)part>> [[psysml:48862a39-11e7-4605-8aed-a0acf63d7872 ]] {\r\n",
       "- - attributes - -\r\n",
       "m: MassValue\r\n",
       "}\r\n",
       "comp def \"MassSum\" as E5  <<(T,blue)calculation def>> [[psysml:8857df12-96f9-4753-a6e3-dc799dcb9ed4 ]] {\r\n",
       "}\r\n",
       "comp usage \"ms: MassSum\" as E6  <<(T,blue)calculation>> [[psysml:1d10ff1d-94f3-4fcc-ad21-5a3c75a7ba0b ]] {\r\n",
       "}\r\n",
       "comp def \"MassSum1\" as E7  <<(T,blue)calculation def>> [[psysml:86e0ef61-a473-4ef3-8b23-ebbfee168e1c ]] {\r\n",
       "- - attributes - -\r\n",
       "partMasses: MassValue\r\n",
       "totalMass: MassValue\r\n",
       "}\r\n",
       "comp usage \"ms1: MassSum\" as E8  <<(T,blue)calculation>> [[psysml:5bbc6089-c972-4222-8f32-76d519ddb8cd ]] {\r\n",
       "- - attributes - -\r\n",
       "partMasses\r\n",
       "totalMass\r\n",
       "}\r\n",
       "E2 *- - E3 [[psysml:5beb719b-2071-4403-a403-a4a2a93a4090 ]] \r\n",
       "E2 *- - E4 [[psysml:48862a39-11e7-4605-8aed-a0acf63d7872 ]] \r\n",
       "E6 - -:|> E5 [[psysml:9917c25f-6195-4027-a1da-c593e3e3b530 ]] \r\n",
       "E8 - -:|> E5 [[psysml:bf4de082-8867-4b4d-b459-dc33df5641b4 ]] \r\n",
       "}\r\n",
       "@enduml\r\n",
       "\n",
       "PlantUML version 1.2020.13(Sat Jun 13 12:26:38 UTC 2020)\n",
       "(EPL source distribution)\n",
       "Java Runtime: OpenJDK Runtime Environment\n",
       "JVM: OpenJDK 64-Bit Server VM\n",
       "Default Encoding: UTF-8\n",
       "Language: en\n",
       "Country: null\n",
       "--></g></svg>"
      ]
     },
     "execution_count": 21,
     "metadata": {},
     "output_type": "execute_result"
    }
   ],
   "source": [
    "%viz --style=\"LR\" --view=\"Sequence\" \"CalculationExample\""
   ]
  },
  {
   "cell_type": "code",
   "execution_count": 22,
   "id": "generous-silver",
   "metadata": {
    "execution": {
     "iopub.execute_input": "2021-03-26T09:15:57.386422Z",
     "iopub.status.busy": "2021-03-26T09:15:57.385968Z",
     "iopub.status.idle": "2021-03-26T09:15:57.467958Z",
     "shell.execute_reply": "2021-03-26T09:15:57.466526Z"
    }
   },
   "outputs": [
    {
     "data": {
      "image/svg+xml": [
       "<?xml version=\"1.0\" encoding=\"UTF-8\" standalone=\"no\"?><svg xmlns=\"http://www.w3.org/2000/svg\" xmlns:xlink=\"http://www.w3.org/1999/xlink\" contentScriptType=\"application/ecmascript\" contentStyleType=\"text/css\" height=\"590px\" preserveAspectRatio=\"none\" style=\"width:510px;height:590px;\" version=\"1.1\" viewBox=\"0 0 510 590\" width=\"510px\" zoomAndPan=\"magnify\"><defs/><g><!--MD5=[fbc87193dbaf4d95561dea2c320d4a47]\n",
       "cluster E1--><a href=\"psysml:7249bcac-c63a-48a6-adec-7cf675138100\" target=\"_top\" title=\"psysml:7249bcac-c63a-48a6-adec-7cf675138100\" xlink:actuate=\"onRequest\" xlink:href=\"psysml:7249bcac-c63a-48a6-adec-7cf675138100\" xlink:show=\"new\" xlink:title=\"psysml:7249bcac-c63a-48a6-adec-7cf675138100\" xlink:type=\"simple\"><polygon fill=\"#FFFFFF\" points=\"16,6,173,6,180,28.2969,488.72,28.2969,488.72,578,16,578,16,6\" style=\"stroke: #000000; stroke-width: 1.5;\"/><line style=\"stroke: #000000; stroke-width: 1.5;\" x1=\"16\" x2=\"180\" y1=\"28.2969\" y2=\"28.2969\"/><text fill=\"#000000\" font-family=\"sans-serif\" font-size=\"14\" font-weight=\"bold\" lengthAdjust=\"spacingAndGlyphs\" textLength=\"151\" x=\"20\" y=\"20.9951\">CalculationExample</text></a><!--MD5=[de5ec2e2e8f62f467e546659f5068c88]\n",
       "cluster E5--><a href=\"psysml:8857df12-96f9-4753-a6e3-dc799dcb9ed4\" target=\"_top\" title=\"psysml:8857df12-96f9-4753-a6e3-dc799dcb9ed4\" xlink:actuate=\"onRequest\" xlink:href=\"psysml:8857df12-96f9-4753-a6e3-dc799dcb9ed4\" xlink:show=\"new\" xlink:title=\"psysml:8857df12-96f9-4753-a6e3-dc799dcb9ed4\" xlink:type=\"simple\"><rect fill=\"#FFFFFF\" height=\"88\" id=\"E5\" style=\"stroke: #383838; stroke-width: 1.5;\" width=\"387.22\" x=\"63.5\" y=\"345\"/><rect fill=\"#F8F8F8\" height=\"37.9375\" style=\"stroke: #383838; stroke-width: 1.5;\" width=\"387.22\" x=\"63.5\" y=\"345\"/><text fill=\"#000000\" font-family=\"sans-serif\" font-size=\"12\" font-style=\"italic\" lengthAdjust=\"spacingAndGlyphs\" textLength=\"106\" x=\"204.11\" y=\"361.1387\">«calculation def»</text><text fill=\"#000000\" font-family=\"sans-serif\" font-size=\"12\" lengthAdjust=\"spacingAndGlyphs\" textLength=\"59\" x=\"227.61\" y=\"375.1074\">MassSum</text></a><!--MD5=[917b9dd0c7eca3ee5f47219d1a84c0ad]\n",
       "cluster E11--><a href=\"psysml:86e0ef61-a473-4ef3-8b23-ebbfee168e1c\" target=\"_top\" title=\"psysml:86e0ef61-a473-4ef3-8b23-ebbfee168e1c\" xlink:actuate=\"onRequest\" xlink:href=\"psysml:86e0ef61-a473-4ef3-8b23-ebbfee168e1c\" xlink:show=\"new\" xlink:title=\"psysml:86e0ef61-a473-4ef3-8b23-ebbfee168e1c\" xlink:type=\"simple\"><rect fill=\"#FFFFFF\" height=\"68\" id=\"E11\" style=\"stroke: #383838; stroke-width: 1.5;\" width=\"369.22\" x=\"81.5\" y=\"41\"/><rect fill=\"#F8F8F8\" height=\"37.9375\" style=\"stroke: #383838; stroke-width: 1.5;\" width=\"369.22\" x=\"81.5\" y=\"41\"/><text fill=\"#000000\" font-family=\"sans-serif\" font-size=\"12\" font-style=\"italic\" lengthAdjust=\"spacingAndGlyphs\" textLength=\"106\" x=\"213.11\" y=\"57.1387\">«calculation def»</text><text fill=\"#000000\" font-family=\"sans-serif\" font-size=\"12\" lengthAdjust=\"spacingAndGlyphs\" textLength=\"67\" x=\"232.61\" y=\"71.1074\">MassSum1</text></a><!--MD5=[b4997ac47864f28c2f74865a473b2911]\n",
       "class E2--><a href=\"psysml:14188455-78e6-45cf-9446-0197417271d8\" target=\"_top\" title=\"psysml:14188455-78e6-45cf-9446-0197417271d8\" xlink:actuate=\"onRequest\" xlink:href=\"psysml:14188455-78e6-45cf-9446-0197417271d8\" xlink:show=\"new\" xlink:title=\"psysml:14188455-78e6-45cf-9446-0197417271d8\" xlink:type=\"simple\"><rect fill=\"#FFFFFF\" height=\"75.5469\" id=\"E2\" rx=\"10\" ry=\"10\" style=\"stroke: #383838; stroke-width: 1.5;\" width=\"92\" x=\"35.5\" y=\"137\"/><text fill=\"#000000\" font-family=\"sans-serif\" font-size=\"12\" font-style=\"italic\" lengthAdjust=\"spacingAndGlyphs\" textLength=\"40\" x=\"61.5\" y=\"153.1387\">«part»</text><text fill=\"#000000\" font-family=\"sans-serif\" font-size=\"12\" lengthAdjust=\"spacingAndGlyphs\" textLength=\"43\" x=\"60\" y=\"167.1074\">vehicle</text><line style=\"stroke: #383838; stroke-width: 1.5;\" x1=\"36.5\" x2=\"126.5\" y1=\"174.9375\" y2=\"174.9375\"/><text fill=\"#000000\" font-family=\"sans-serif\" font-size=\"11\" lengthAdjust=\"spacingAndGlyphs\" textLength=\"80\" x=\"41.5\" y=\"205.9526\">m: MassValue</text><line style=\"stroke: #383838; stroke-width: 1.0;\" x1=\"36.5\" x2=\"54\" y1=\"189.3398\" y2=\"189.3398\"/><text fill=\"#000000\" font-family=\"sans-serif\" font-size=\"11\" lengthAdjust=\"spacingAndGlyphs\" textLength=\"55\" x=\"54\" y=\"192.6479\">attributes</text><line style=\"stroke: #383838; stroke-width: 1.0;\" x1=\"109\" x2=\"126.5\" y1=\"189.3398\" y2=\"189.3398\"/></a><!--MD5=[09b614a08d8cba4a07c9adeb5e0fee81]\n",
       "class E3--><a href=\"psysml:5beb719b-2071-4403-a403-a4a2a93a4090\" target=\"_top\" title=\"psysml:5beb719b-2071-4403-a403-a4a2a93a4090\" xlink:actuate=\"onRequest\" xlink:href=\"psysml:5beb719b-2071-4403-a403-a4a2a93a4090\" xlink:show=\"new\" xlink:title=\"psysml:5beb719b-2071-4403-a403-a4a2a93a4090\" xlink:type=\"simple\"><rect fill=\"#FFFFFF\" height=\"75.5469\" id=\"E3\" rx=\"10\" ry=\"10\" style=\"stroke: #383838; stroke-width: 1.5;\" width=\"92\" x=\"211.5\" y=\"239\"/><text fill=\"#000000\" font-family=\"sans-serif\" font-size=\"12\" font-style=\"italic\" lengthAdjust=\"spacingAndGlyphs\" textLength=\"40\" x=\"237.5\" y=\"255.1387\">«part»</text><text fill=\"#000000\" font-family=\"sans-serif\" font-size=\"12\" lengthAdjust=\"spacingAndGlyphs\" textLength=\"24\" x=\"245.5\" y=\"269.1074\">eng</text><line style=\"stroke: #383838; stroke-width: 1.5;\" x1=\"212.5\" x2=\"302.5\" y1=\"276.9375\" y2=\"276.9375\"/><text fill=\"#000000\" font-family=\"sans-serif\" font-size=\"11\" lengthAdjust=\"spacingAndGlyphs\" textLength=\"80\" x=\"217.5\" y=\"307.9526\">m: MassValue</text><line style=\"stroke: #383838; stroke-width: 1.0;\" x1=\"212.5\" x2=\"230\" y1=\"291.3398\" y2=\"291.3398\"/><text fill=\"#000000\" font-family=\"sans-serif\" font-size=\"11\" lengthAdjust=\"spacingAndGlyphs\" textLength=\"55\" x=\"230\" y=\"294.6479\">attributes</text><line style=\"stroke: #383838; stroke-width: 1.0;\" x1=\"285\" x2=\"302.5\" y1=\"291.3398\" y2=\"291.3398\"/></a><!--MD5=[ebbe1d658d1005bcc118a6aa81145e00]\n",
       "class E4--><a href=\"psysml:48862a39-11e7-4605-8aed-a0acf63d7872\" target=\"_top\" title=\"psysml:48862a39-11e7-4605-8aed-a0acf63d7872\" xlink:actuate=\"onRequest\" xlink:href=\"psysml:48862a39-11e7-4605-8aed-a0acf63d7872\" xlink:show=\"new\" xlink:title=\"psysml:48862a39-11e7-4605-8aed-a0acf63d7872\" xlink:type=\"simple\"><rect fill=\"#FFFFFF\" height=\"75.5469\" id=\"E4\" rx=\"10\" ry=\"10\" style=\"stroke: #383838; stroke-width: 1.5;\" width=\"92\" x=\"211.5\" y=\"128\"/><text fill=\"#000000\" font-family=\"sans-serif\" font-size=\"12\" font-style=\"italic\" lengthAdjust=\"spacingAndGlyphs\" textLength=\"40\" x=\"237.5\" y=\"144.1387\">«part»</text><text fill=\"#000000\" font-family=\"sans-serif\" font-size=\"12\" lengthAdjust=\"spacingAndGlyphs\" textLength=\"33\" x=\"241\" y=\"158.1074\">trans</text><line style=\"stroke: #383838; stroke-width: 1.5;\" x1=\"212.5\" x2=\"302.5\" y1=\"165.9375\" y2=\"165.9375\"/><text fill=\"#000000\" font-family=\"sans-serif\" font-size=\"11\" lengthAdjust=\"spacingAndGlyphs\" textLength=\"80\" x=\"217.5\" y=\"196.9526\">m: MassValue</text><line style=\"stroke: #383838; stroke-width: 1.0;\" x1=\"212.5\" x2=\"230\" y1=\"180.3398\" y2=\"180.3398\"/><text fill=\"#000000\" font-family=\"sans-serif\" font-size=\"11\" lengthAdjust=\"spacingAndGlyphs\" textLength=\"55\" x=\"230\" y=\"183.6479\">attributes</text><line style=\"stroke: #383838; stroke-width: 1.0;\" x1=\"285\" x2=\"302.5\" y1=\"180.3398\" y2=\"180.3398\"/></a><!--MD5=[96f4274e9e20536e775497830990834d]\n",
       "class E10--><a href=\"psysml:1d10ff1d-94f3-4fcc-ad21-5a3c75a7ba0b\" target=\"_top\" title=\"psysml:1d10ff1d-94f3-4fcc-ad21-5a3c75a7ba0b\" xlink:actuate=\"onRequest\" xlink:href=\"psysml:1d10ff1d-94f3-4fcc-ad21-5a3c75a7ba0b\" xlink:show=\"new\" xlink:title=\"psysml:1d10ff1d-94f3-4fcc-ad21-5a3c75a7ba0b\" xlink:type=\"simple\"><rect fill=\"#FFFFFF\" height=\"45.9375\" id=\"E10\" rx=\"10\" ry=\"10\" style=\"stroke: #383838; stroke-width: 1.5;\" width=\"91\" x=\"36\" y=\"258\"/><text fill=\"#000000\" font-family=\"sans-serif\" font-size=\"12\" font-style=\"italic\" lengthAdjust=\"spacingAndGlyphs\" textLength=\"82\" x=\"40.5\" y=\"274.1387\">«calculation»</text><text fill=\"#000000\" font-family=\"sans-serif\" font-size=\"12\" lengthAdjust=\"spacingAndGlyphs\" textLength=\"85\" x=\"39\" y=\"288.1074\">ms: MassSum</text><line style=\"stroke: #383838; stroke-width: 1.5;\" x1=\"37\" x2=\"126\" y1=\"295.9375\" y2=\"295.9375\"/></a><!--MD5=[bee11217b2f71d958a27249dc326068c]\n",
       "class E14--><a href=\"psysml:5bbc6089-c972-4222-8f32-76d519ddb8cd\" target=\"_top\" title=\"psysml:5bbc6089-c972-4222-8f32-76d519ddb8cd\" xlink:actuate=\"onRequest\" xlink:href=\"psysml:5bbc6089-c972-4222-8f32-76d519ddb8cd\" xlink:show=\"new\" xlink:title=\"psysml:5bbc6089-c972-4222-8f32-76d519ddb8cd\" xlink:type=\"simple\"><rect fill=\"#FFFFFF\" height=\"88.3516\" id=\"E14\" rx=\"10\" ry=\"10\" style=\"stroke: #383838; stroke-width: 1.5;\" width=\"99\" x=\"32\" y=\"474\"/><text fill=\"#000000\" font-family=\"sans-serif\" font-size=\"12\" font-style=\"italic\" lengthAdjust=\"spacingAndGlyphs\" textLength=\"82\" x=\"40.5\" y=\"490.1387\">«calculation»</text><text fill=\"#000000\" font-family=\"sans-serif\" font-size=\"12\" lengthAdjust=\"spacingAndGlyphs\" textLength=\"93\" x=\"35\" y=\"504.1074\">ms1: MassSum</text><line style=\"stroke: #383838; stroke-width: 1.5;\" x1=\"33\" x2=\"130\" y1=\"511.9375\" y2=\"511.9375\"/><text fill=\"#000000\" font-family=\"sans-serif\" font-size=\"11\" lengthAdjust=\"spacingAndGlyphs\" textLength=\"67\" x=\"38\" y=\"542.9526\">partMasses</text><text fill=\"#000000\" font-family=\"sans-serif\" font-size=\"11\" lengthAdjust=\"spacingAndGlyphs\" textLength=\"55\" x=\"38\" y=\"555.7573\">totalMass</text><line style=\"stroke: #383838; stroke-width: 1.0;\" x1=\"33\" x2=\"54\" y1=\"526.3398\" y2=\"526.3398\"/><text fill=\"#000000\" font-family=\"sans-serif\" font-size=\"11\" lengthAdjust=\"spacingAndGlyphs\" textLength=\"55\" x=\"54\" y=\"529.6479\">attributes</text><line style=\"stroke: #383838; stroke-width: 1.0;\" x1=\"109\" x2=\"130\" y1=\"526.3398\" y2=\"526.3398\"/></a><text fill=\"#000000\" font-family=\"sans-serif\" font-size=\"14\" lengthAdjust=\"spacingAndGlyphs\" textLength=\"80\" x=\"41.5\" y=\"451.9951\">partMasses</text><rect fill=\"#383838\" height=\"12\" style=\"stroke: #F8F8F8; stroke-width: 1.5;\" width=\"12\" x=\"75.5\" y=\"427\"/><text fill=\"#000000\" font-family=\"sans-serif\" font-size=\"14\" lengthAdjust=\"spacingAndGlyphs\" textLength=\"66\" x=\"417.72\" y=\"436.9951\">totalMass</text><rect fill=\"#383838\" height=\"12\" style=\"stroke: #F8F8F8; stroke-width: 1.5;\" width=\"12\" x=\"444.72\" y=\"412\"/><text fill=\"#000000\" font-family=\"sans-serif\" font-size=\"14\" lengthAdjust=\"spacingAndGlyphs\" textLength=\"75\" x=\"44\" y=\"323.6982\">$collection</text><rect fill=\"#383838\" height=\"12\" style=\"stroke: #F8F8F8; stroke-width: 1.5;\" width=\"12\" x=\"75.5\" y=\"339\"/><text fill=\"#000000\" font-family=\"sans-serif\" font-size=\"14\" lengthAdjust=\"spacingAndGlyphs\" textLength=\"48\" x=\"426.72\" y=\"349.6982\">$result</text><rect fill=\"#383838\" height=\"12\" style=\"stroke: #F8F8F8; stroke-width: 1.5;\" width=\"12\" x=\"444.72\" y=\"365\"/><text fill=\"#000000\" font-family=\"sans-serif\" font-size=\"14\" lengthAdjust=\"spacingAndGlyphs\" textLength=\"80\" x=\"41.5\" y=\"53.6982\">partMasses</text><rect fill=\"#383838\" height=\"12\" style=\"stroke: #F8F8F8; stroke-width: 1.5;\" width=\"12\" x=\"75.5\" y=\"69\"/><text fill=\"#000000\" font-family=\"sans-serif\" font-size=\"14\" lengthAdjust=\"spacingAndGlyphs\" textLength=\"66\" x=\"417.72\" y=\"53.6982\">totalMass</text><rect fill=\"#383838\" height=\"12\" style=\"stroke: #F8F8F8; stroke-width: 1.5;\" width=\"12\" x=\"444.72\" y=\"69\"/><!--MD5=[209b3feb70ccb6233bfe1053d122c12c]\n",
       "reverse link E2 to E3--><a href=\"psysml:5beb719b-2071-4403-a403-a4a2a93a4090\" target=\"_top\" title=\"psysml:5beb719b-2071-4403-a403-a4a2a93a4090\" xlink:actuate=\"onRequest\" xlink:href=\"psysml:5beb719b-2071-4403-a403-a4a2a93a4090\" xlink:show=\"new\" xlink:title=\"psysml:5beb719b-2071-4403-a403-a4a2a93a4090\" xlink:type=\"simple\"><path d=\"M138.98,208.11 C162.46,221.88 189.34,237.63 211.46,250.6 \" fill=\"none\" id=\"E2&lt;-E3\" style=\"stroke: #383838; stroke-width: 1.0;\"/><polygon fill=\"#383838\" points=\"127.76,201.53,130.9144,208.0146,138.1134,207.5969,134.959,201.1123,127.76,201.53\" style=\"stroke: #383838; stroke-width: 1.0;\"/></a><!--MD5=[9618e71518536f8baf3342ff6fdab317]\n",
       "reverse link E2 to E4--><a href=\"psysml:48862a39-11e7-4605-8aed-a0acf63d7872\" target=\"_top\" title=\"psysml:48862a39-11e7-4605-8aed-a0acf63d7872\" xlink:actuate=\"onRequest\" xlink:href=\"psysml:48862a39-11e7-4605-8aed-a0acf63d7872\" xlink:show=\"new\" xlink:title=\"psysml:48862a39-11e7-4605-8aed-a0acf63d7872\" xlink:type=\"simple\"><path d=\"M140.91,171.98 C163.93,170.79 189.95,169.44 211.46,168.33 \" fill=\"none\" id=\"E2&lt;-E4\" style=\"stroke: #383838; stroke-width: 1.0;\"/><polygon fill=\"#383838\" points=\"127.76,172.66,133.9585,176.3448,139.744,172.0404,133.5455,168.3555,127.76,172.66\" style=\"stroke: #383838; stroke-width: 1.0;\"/></a><!--MD5=[1c0b9414cc86e0744215edee6abd8926]\n",
       "link E7 to E9--><a href=\"psysml:5b55f712-f9b6-4e15-aeab-345c960b0653\" target=\"_top\" title=\"psysml:5b55f712-f9b6-4e15-aeab-345c960b0653\" xlink:actuate=\"onRequest\" xlink:href=\"psysml:5b55f712-f9b6-4e15-aeab-345c960b0653\" xlink:show=\"new\" xlink:title=\"psysml:5b55f712-f9b6-4e15-aeab-345c960b0653\" xlink:type=\"simple\"><path d=\"M448.65,411.76 C445.39,400.19 445.41,388.62 448.7,377.05 \" fill=\"none\" id=\"E7-E9\" style=\"stroke: #383838; stroke-width: 5.0;\"/></a><!--MD5=[ec5e0a54482b142abcecfe541d624bff]\n",
       "link E10 to E5--><a href=\"psysml:9917c25f-6195-4027-a1da-c593e3e3b530\" target=\"_top\" title=\"psysml:9917c25f-6195-4027-a1da-c593e3e3b530\" xlink:actuate=\"onRequest\" xlink:href=\"psysml:9917c25f-6195-4027-a1da-c593e3e3b530\" xlink:show=\"new\" xlink:title=\"psysml:9917c25f-6195-4027-a1da-c593e3e3b530\" xlink:type=\"simple\"><path d=\"M110.41,304 C121.405,312.885 134.185,322.985 145.9,331.6888 C151.7575,336.0406 157.3488,340.0434 162.3175,343.3708 C162.9386,343.7867 163.55,344.1921 164.1509,344.5862 C164.3011,344.6848 164.4507,344.7826 164.5996,344.8798 \" fill=\"none\" id=\"E10-&gt;E5\" style=\"stroke: #383838; stroke-width: 1.0;\"/><polygon fill=\"#FFFFFF\" points=\"164.5996,344.8798,144.8614,340.3629,152.5097,328.6368,164.5996,344.8798\" style=\"stroke: #383838; stroke-width: 1.0;\"/><ellipse cx=\"141.1798\" cy=\"335.5738\" fill=\"#383838\" rx=\"2\" ry=\"2\" style=\"stroke: #383838; stroke-width: 1.0;\"/><ellipse cx=\"146.6429\" cy=\"327.198\" fill=\"#383838\" rx=\"2\" ry=\"2\" style=\"stroke: #383838; stroke-width: 1.0;\"/></a><!--MD5=[111e5536516ee1ad7d4266f589654f03]\n",
       "link E14 to E5--><a href=\"psysml:bf4de082-8867-4b4d-b459-dc33df5641b4\" target=\"_top\" title=\"psysml:bf4de082-8867-4b4d-b459-dc33df5641b4\" xlink:actuate=\"onRequest\" xlink:href=\"psysml:bf4de082-8867-4b4d-b459-dc33df5641b4\" xlink:show=\"new\" xlink:title=\"psysml:bf4de082-8867-4b4d-b459-dc33df5641b4\" xlink:type=\"simple\"><path d=\"M131.43,477.22 C139.975,470.1 149.13,462.4719 158.4569,454.7005 C163.1203,450.8148 167.8267,446.8932 172.5213,442.9815 C174.8686,441.0256 177.213,439.0722 179.5475,437.1269 C180.7148,436.1543 181.8797,435.1837 183.0412,434.2158 C183.3316,433.9739 183.6217,433.7321 183.9117,433.4905 C184.0567,433.3697 184.2016,433.2489 184.3465,433.1282 \" fill=\"none\" id=\"E14-&gt;E5\" style=\"stroke: #383838; stroke-width: 1.0;\"/><polygon fill=\"#FFFFFF\" points=\"184.3465,433.1282,174.2308,450.6688,165.2687,439.9133,184.3465,433.1282\" style=\"stroke: #383838; stroke-width: 1.0;\"/><ellipse cx=\"168.5715\" cy=\"452.7812\" fill=\"#383838\" rx=\"2\" ry=\"2\" style=\"stroke: #383838; stroke-width: 1.0;\"/><ellipse cx=\"162.17\" cy=\"445.0987\" fill=\"#383838\" rx=\"2\" ry=\"2\" style=\"stroke: #383838; stroke-width: 1.0;\"/></a><!--MD5=[977b61c8722bc2345bf36cba3242c6a4]\n",
       "@startuml\r\n",
       "left to right direction\r\n",
       "skinparam monochrome true\r\n",
       "skinparam classbackgroundcolor white\r\n",
       "skinparam shadowing false\r\n",
       "skinparam wrapWidth 300\r\n",
       "hide circle\r\n",
       "\r\n",
       "package \"CalculationExample\" as E1  [[psysml:7249bcac-c63a-48a6-adec-7cf675138100 ]]  {\r\n",
       "comp usage \"vehicle\" as E2  <<(T,blue)part>> [[psysml:14188455-78e6-45cf-9446-0197417271d8 ]] {\r\n",
       "- - attributes - -\r\n",
       "m: MassValue\r\n",
       "}\r\n",
       "comp usage \"eng\" as E3  <<(T,blue)part>> [[psysml:5beb719b-2071-4403-a403-a4a2a93a4090 ]] {\r\n",
       "- - attributes - -\r\n",
       "m: MassValue\r\n",
       "}\r\n",
       "comp usage \"trans\" as E4  <<(T,blue)part>> [[psysml:48862a39-11e7-4605-8aed-a0acf63d7872 ]] {\r\n",
       "- - attributes - -\r\n",
       "m: MassValue\r\n",
       "}\r\n",
       "rec def \"MassSum\" as E5  <<(T,blue)calculation def>> [[psysml:8857df12-96f9-4753-a6e3-dc799dcb9ed4 ]] {\r\n",
       "portin \"partMasses\" as E6  [[psysml:8ae5fd16-1397-4172-a6e5-0c084d8d7ca2 ]] \r\n",
       "portout \"totalMass\" as E7  [[psysml:5f15c55d-7a56-4485-be6d-5834d49cebc1 ]] \r\n",
       "portin \"$collection\" as E8  [[psysml:61806866-d159-447e-b132-fa56be682adf ]] \r\n",
       "portout \"$result\" as E9  [[psysml:6ddb7e29-61e7-4184-8db5-61f90a0c49bf ]] \r\n",
       "}\r\n",
       "\r\n",
       "comp usage \"ms: MassSum\" as E10  <<(T,blue)calculation>> [[psysml:1d10ff1d-94f3-4fcc-ad21-5a3c75a7ba0b ]] {\r\n",
       "}\r\n",
       "rec def \"MassSum1\" as E11  <<(T,blue)calculation def>> [[psysml:86e0ef61-a473-4ef3-8b23-ebbfee168e1c ]] {\r\n",
       "portin \"partMasses\" as E12  [[psysml:44765cb5-91e3-4973-8d66-b6f2e5bbf87d ]] \r\n",
       "portout \"totalMass\" as E13  [[psysml:8a0a1f2d-4441-4a8a-b849-a96ed87f36a5 ]] \r\n",
       "}\r\n",
       "\r\n",
       "comp usage \"ms1: MassSum\" as E14  <<(T,blue)calculation>> [[psysml:5bbc6089-c972-4222-8f32-76d519ddb8cd ]] {\r\n",
       "- - attributes - -\r\n",
       "partMasses\r\n",
       "totalMass\r\n",
       "}\r\n",
       "E2 *- - E3 [[psysml:5beb719b-2071-4403-a403-a4a2a93a4090 ]] \r\n",
       "E2 *- - E4 [[psysml:48862a39-11e7-4605-8aed-a0acf63d7872 ]] \r\n",
       "E7 -[thickness=5]- E9 [[psysml:5b55f712-f9b6-4e15-aeab-345c960b0653 ]] \r\n",
       "E10 - -:|> E5 [[psysml:9917c25f-6195-4027-a1da-c593e3e3b530 ]] \r\n",
       "E14 - -:|> E5 [[psysml:bf4de082-8867-4b4d-b459-dc33df5641b4 ]] \r\n",
       "}\r\n",
       "@enduml\r\n",
       "\n",
       "PlantUML version 1.2020.13(Sat Jun 13 12:26:38 UTC 2020)\n",
       "(EPL source distribution)\n",
       "Java Runtime: OpenJDK Runtime Environment\n",
       "JVM: OpenJDK 64-Bit Server VM\n",
       "Default Encoding: UTF-8\n",
       "Language: en\n",
       "Country: null\n",
       "--></g></svg>"
      ]
     },
     "execution_count": 22,
     "metadata": {},
     "output_type": "execute_result"
    }
   ],
   "source": [
    "%viz --style=\"LR\" --view=\"MIXED\" \"CalculationExample\""
   ]
  },
  {
   "cell_type": "code",
   "execution_count": 23,
   "id": "infectious-recruitment",
   "metadata": {
    "execution": {
     "iopub.execute_input": "2021-03-26T09:15:57.520614Z",
     "iopub.status.busy": "2021-03-26T09:15:57.519932Z",
     "iopub.status.idle": "2021-03-26T09:15:57.579863Z",
     "shell.execute_reply": "2021-03-26T09:15:57.579528Z"
    }
   },
   "outputs": [
    {
     "data": {
      "image/svg+xml": [
       "<?xml version=\"1.0\" encoding=\"UTF-8\" standalone=\"no\"?><svg xmlns=\"http://www.w3.org/2000/svg\" xmlns:xlink=\"http://www.w3.org/1999/xlink\" contentScriptType=\"application/ecmascript\" contentStyleType=\"text/css\" height=\"408px\" preserveAspectRatio=\"none\" style=\"width:788px;height:408px;\" version=\"1.1\" viewBox=\"0 0 788 408\" width=\"788px\" zoomAndPan=\"magnify\"><defs><filter height=\"300%\" id=\"f1764oa5bvpelg\" width=\"300%\" x=\"-1\" y=\"-1\"><feGaussianBlur result=\"blurOut\" stdDeviation=\"2.0\"/><feColorMatrix in=\"blurOut\" result=\"blurOut2\" type=\"matrix\" values=\"0 0 0 0 0 0 0 0 0 0 0 0 0 0 0 0 0 0 .4 0\"/><feOffset dx=\"4.0\" dy=\"4.0\" in=\"blurOut2\" result=\"blurOut3\"/><feBlend in=\"SourceGraphic\" in2=\"blurOut3\" mode=\"normal\"/></filter></defs><g><!--MD5=[fbc87193dbaf4d95561dea2c320d4a47]\n",
       "cluster E1--><a href=\"psysml:7249bcac-c63a-48a6-adec-7cf675138100\" target=\"_top\" title=\"psysml:7249bcac-c63a-48a6-adec-7cf675138100\" xlink:actuate=\"onRequest\" xlink:href=\"psysml:7249bcac-c63a-48a6-adec-7cf675138100\" xlink:show=\"new\" xlink:title=\"psysml:7249bcac-c63a-48a6-adec-7cf675138100\" xlink:type=\"simple\"><polygon fill=\"#FFFFFF\" filter=\"url(#f1764oa5bvpelg)\" points=\"16,6,173,6,180,28.2969,766,28.2969,766,396.72,16,396.72,16,6\" style=\"stroke: #000000; stroke-width: 1.5;\"/><line style=\"stroke: #000000; stroke-width: 1.5;\" x1=\"16\" x2=\"180\" y1=\"28.2969\" y2=\"28.2969\"/><text fill=\"#000000\" font-family=\"sans-serif\" font-size=\"14\" font-weight=\"bold\" lengthAdjust=\"spacingAndGlyphs\" textLength=\"151\" x=\"20\" y=\"20.9951\">CalculationExample</text></a><!--MD5=[de5ec2e2e8f62f467e546659f5068c88]\n",
       "cluster E5--><a href=\"psysml:8857df12-96f9-4753-a6e3-dc799dcb9ed4\" target=\"_top\" title=\"psysml:8857df12-96f9-4753-a6e3-dc799dcb9ed4\" xlink:actuate=\"onRequest\" xlink:href=\"psysml:8857df12-96f9-4753-a6e3-dc799dcb9ed4\" xlink:show=\"new\" xlink:title=\"psysml:8857df12-96f9-4753-a6e3-dc799dcb9ed4\" xlink:type=\"simple\"><rect fill=\"#FFFFFF\" filter=\"url(#f1764oa5bvpelg)\" height=\"281.72\" id=\"E5\" style=\"stroke: #A80036; stroke-width: 1.5;\" width=\"128\" x=\"155\" y=\"77\"/><rect fill=\"#FEFECE\" height=\"37.9375\" style=\"stroke: #A80036; stroke-width: 1.5;\" width=\"128\" x=\"155\" y=\"77\"/><text fill=\"#000000\" font-family=\"sans-serif\" font-size=\"12\" font-style=\"italic\" lengthAdjust=\"spacingAndGlyphs\" textLength=\"106\" x=\"166\" y=\"93.1387\">«calculation def»</text><text fill=\"#000000\" font-family=\"sans-serif\" font-size=\"12\" lengthAdjust=\"spacingAndGlyphs\" textLength=\"59\" x=\"189.5\" y=\"107.1074\">MassSum</text></a><!--MD5=[917b9dd0c7eca3ee5f47219d1a84c0ad]\n",
       "cluster E11--><a href=\"psysml:86e0ef61-a473-4ef3-8b23-ebbfee168e1c\" target=\"_top\" title=\"psysml:86e0ef61-a473-4ef3-8b23-ebbfee168e1c\" xlink:actuate=\"onRequest\" xlink:href=\"psysml:86e0ef61-a473-4ef3-8b23-ebbfee168e1c\" xlink:show=\"new\" xlink:title=\"psysml:86e0ef61-a473-4ef3-8b23-ebbfee168e1c\" xlink:type=\"simple\"><rect fill=\"#FFFFFF\" filter=\"url(#f1764oa5bvpelg)\" height=\"281.72\" id=\"E11\" style=\"stroke: #A80036; stroke-width: 1.5;\" width=\"166\" x=\"584\" y=\"77\"/><rect fill=\"#FEFECE\" height=\"37.9375\" style=\"stroke: #A80036; stroke-width: 1.5;\" width=\"166\" x=\"584\" y=\"77\"/><text fill=\"#000000\" font-family=\"sans-serif\" font-size=\"12\" font-style=\"italic\" lengthAdjust=\"spacingAndGlyphs\" textLength=\"106\" x=\"614\" y=\"93.1387\">«calculation def»</text><text fill=\"#000000\" font-family=\"sans-serif\" font-size=\"12\" lengthAdjust=\"spacingAndGlyphs\" textLength=\"67\" x=\"633.5\" y=\"107.1074\">MassSum1</text></a><!--MD5=[b4997ac47864f28c2f74865a473b2911]\n",
       "class E2--><a href=\"psysml:14188455-78e6-45cf-9446-0197417271d8\" target=\"_top\" title=\"psysml:14188455-78e6-45cf-9446-0197417271d8\" xlink:actuate=\"onRequest\" xlink:href=\"psysml:14188455-78e6-45cf-9446-0197417271d8\" xlink:show=\"new\" xlink:title=\"psysml:14188455-78e6-45cf-9446-0197417271d8\" xlink:type=\"simple\"><rect fill=\"#FEFECE\" filter=\"url(#f1764oa5bvpelg)\" height=\"58.7422\" id=\"E2\" rx=\"10\" ry=\"10\" style=\"stroke: #A80036; stroke-width: 1.5;\" width=\"92\" x=\"473\" y=\"47.5\"/><text fill=\"#000000\" font-family=\"sans-serif\" font-size=\"12\" font-style=\"italic\" lengthAdjust=\"spacingAndGlyphs\" textLength=\"40\" x=\"499\" y=\"63.6387\">«part»</text><text fill=\"#000000\" font-family=\"sans-serif\" font-size=\"12\" lengthAdjust=\"spacingAndGlyphs\" textLength=\"43\" x=\"497.5\" y=\"77.6074\">vehicle</text><line style=\"stroke: #A80036; stroke-width: 1.5;\" x1=\"474\" x2=\"564\" y1=\"85.4375\" y2=\"85.4375\"/><text fill=\"#000000\" font-family=\"sans-serif\" font-size=\"11\" lengthAdjust=\"spacingAndGlyphs\" textLength=\"80\" x=\"479\" y=\"99.6479\">m: MassValue</text></a><!--MD5=[09b614a08d8cba4a07c9adeb5e0fee81]\n",
       "class E3--><a href=\"psysml:5beb719b-2071-4403-a403-a4a2a93a4090\" target=\"_top\" title=\"psysml:5beb719b-2071-4403-a403-a4a2a93a4090\" xlink:actuate=\"onRequest\" xlink:href=\"psysml:5beb719b-2071-4403-a403-a4a2a93a4090\" xlink:show=\"new\" xlink:title=\"psysml:5beb719b-2071-4403-a403-a4a2a93a4090\" xlink:type=\"simple\"><rect fill=\"#FEFECE\" filter=\"url(#f1764oa5bvpelg)\" height=\"58.7422\" id=\"E3\" rx=\"10\" ry=\"10\" style=\"stroke: #A80036; stroke-width: 1.5;\" width=\"92\" x=\"346\" y=\"173\"/><text fill=\"#000000\" font-family=\"sans-serif\" font-size=\"12\" font-style=\"italic\" lengthAdjust=\"spacingAndGlyphs\" textLength=\"40\" x=\"372\" y=\"189.1387\">«part»</text><text fill=\"#000000\" font-family=\"sans-serif\" font-size=\"12\" lengthAdjust=\"spacingAndGlyphs\" textLength=\"24\" x=\"380\" y=\"203.1074\">eng</text><line style=\"stroke: #A80036; stroke-width: 1.5;\" x1=\"347\" x2=\"437\" y1=\"210.9375\" y2=\"210.9375\"/><text fill=\"#000000\" font-family=\"sans-serif\" font-size=\"11\" lengthAdjust=\"spacingAndGlyphs\" textLength=\"80\" x=\"352\" y=\"225.1479\">m: MassValue</text></a><!--MD5=[ebbe1d658d1005bcc118a6aa81145e00]\n",
       "class E4--><a href=\"psysml:48862a39-11e7-4605-8aed-a0acf63d7872\" target=\"_top\" title=\"psysml:48862a39-11e7-4605-8aed-a0acf63d7872\" xlink:actuate=\"onRequest\" xlink:href=\"psysml:48862a39-11e7-4605-8aed-a0acf63d7872\" xlink:show=\"new\" xlink:title=\"psysml:48862a39-11e7-4605-8aed-a0acf63d7872\" xlink:type=\"simple\"><rect fill=\"#FEFECE\" filter=\"url(#f1764oa5bvpelg)\" height=\"58.7422\" id=\"E4\" rx=\"10\" ry=\"10\" style=\"stroke: #A80036; stroke-width: 1.5;\" width=\"92\" x=\"473\" y=\"173\"/><text fill=\"#000000\" font-family=\"sans-serif\" font-size=\"12\" font-style=\"italic\" lengthAdjust=\"spacingAndGlyphs\" textLength=\"40\" x=\"499\" y=\"189.1387\">«part»</text><text fill=\"#000000\" font-family=\"sans-serif\" font-size=\"12\" lengthAdjust=\"spacingAndGlyphs\" textLength=\"33\" x=\"502.5\" y=\"203.1074\">trans</text><line style=\"stroke: #A80036; stroke-width: 1.5;\" x1=\"474\" x2=\"564\" y1=\"210.9375\" y2=\"210.9375\"/><text fill=\"#000000\" font-family=\"sans-serif\" font-size=\"11\" lengthAdjust=\"spacingAndGlyphs\" textLength=\"80\" x=\"479\" y=\"225.1479\">m: MassValue</text></a><!--MD5=[96f4274e9e20536e775497830990834d]\n",
       "class E10--><a href=\"psysml:1d10ff1d-94f3-4fcc-ad21-5a3c75a7ba0b\" target=\"_top\" title=\"psysml:1d10ff1d-94f3-4fcc-ad21-5a3c75a7ba0b\" xlink:actuate=\"onRequest\" xlink:href=\"psysml:1d10ff1d-94f3-4fcc-ad21-5a3c75a7ba0b\" xlink:show=\"new\" xlink:title=\"psysml:1d10ff1d-94f3-4fcc-ad21-5a3c75a7ba0b\" xlink:type=\"simple\"><rect fill=\"#FEFECE\" filter=\"url(#f1764oa5bvpelg)\" height=\"45.9375\" id=\"E10\" rx=\"10\" ry=\"10\" style=\"stroke: #A80036; stroke-width: 1.5;\" width=\"91\" x=\"346.5\" y=\"54\"/><text fill=\"#000000\" font-family=\"sans-serif\" font-size=\"12\" font-style=\"italic\" lengthAdjust=\"spacingAndGlyphs\" textLength=\"82\" x=\"351\" y=\"70.1387\">«calculation»</text><text fill=\"#000000\" font-family=\"sans-serif\" font-size=\"12\" lengthAdjust=\"spacingAndGlyphs\" textLength=\"85\" x=\"349.5\" y=\"84.1074\">ms: MassSum</text><line style=\"stroke: #A80036; stroke-width: 1.5;\" x1=\"347.5\" x2=\"436.5\" y1=\"91.9375\" y2=\"91.9375\"/></a><!--MD5=[bee11217b2f71d958a27249dc326068c]\n",
       "class E14--><a href=\"psysml:5bbc6089-c972-4222-8f32-76d519ddb8cd\" target=\"_top\" title=\"psysml:5bbc6089-c972-4222-8f32-76d519ddb8cd\" xlink:actuate=\"onRequest\" xlink:href=\"psysml:5bbc6089-c972-4222-8f32-76d519ddb8cd\" xlink:show=\"new\" xlink:title=\"psysml:5bbc6089-c972-4222-8f32-76d519ddb8cd\" xlink:type=\"simple\"><rect fill=\"#FEFECE\" filter=\"url(#f1764oa5bvpelg)\" height=\"71.5469\" id=\"E14\" rx=\"10\" ry=\"10\" style=\"stroke: #A80036; stroke-width: 1.5;\" width=\"99\" x=\"32.5\" y=\"41\"/><text fill=\"#000000\" font-family=\"sans-serif\" font-size=\"12\" font-style=\"italic\" lengthAdjust=\"spacingAndGlyphs\" textLength=\"82\" x=\"41\" y=\"57.1387\">«calculation»</text><text fill=\"#000000\" font-family=\"sans-serif\" font-size=\"12\" lengthAdjust=\"spacingAndGlyphs\" textLength=\"93\" x=\"35.5\" y=\"71.1074\">ms1: MassSum</text><line style=\"stroke: #A80036; stroke-width: 1.5;\" x1=\"33.5\" x2=\"130.5\" y1=\"78.9375\" y2=\"78.9375\"/><text fill=\"#000000\" font-family=\"sans-serif\" font-size=\"11\" lengthAdjust=\"spacingAndGlyphs\" textLength=\"67\" x=\"38.5\" y=\"93.1479\">partMasses</text><text fill=\"#000000\" font-family=\"sans-serif\" font-size=\"11\" lengthAdjust=\"spacingAndGlyphs\" textLength=\"55\" x=\"38.5\" y=\"105.9526\">totalMass</text></a><text fill=\"#000000\" font-family=\"sans-serif\" font-size=\"14\" lengthAdjust=\"spacingAndGlyphs\" textLength=\"80\" x=\"133\" y=\"55.6982\">partMasses</text><rect fill=\"#A80036\" height=\"12\" style=\"stroke: #FEFECE; stroke-width: 1.5;\" width=\"12\" x=\"167\" y=\"71\"/><text fill=\"#000000\" font-family=\"sans-serif\" font-size=\"14\" lengthAdjust=\"spacingAndGlyphs\" textLength=\"66\" x=\"177\" y=\"377.7151\">totalMass</text><rect fill=\"#A80036\" height=\"12\" style=\"stroke: #FEFECE; stroke-width: 1.5;\" width=\"12\" x=\"204\" y=\"352.72\"/><text fill=\"#000000\" font-family=\"sans-serif\" font-size=\"14\" lengthAdjust=\"spacingAndGlyphs\" textLength=\"75\" x=\"227.5\" y=\"55.6982\">$collection</text><rect fill=\"#A80036\" height=\"12\" style=\"stroke: #FEFECE; stroke-width: 1.5;\" width=\"12\" x=\"259\" y=\"71\"/><text fill=\"#000000\" font-family=\"sans-serif\" font-size=\"14\" lengthAdjust=\"spacingAndGlyphs\" textLength=\"48\" x=\"233\" y=\"377.7151\">$result</text><rect fill=\"#A80036\" height=\"12\" style=\"stroke: #FEFECE; stroke-width: 1.5;\" width=\"12\" x=\"251\" y=\"352.72\"/><text fill=\"#000000\" font-family=\"sans-serif\" font-size=\"14\" lengthAdjust=\"spacingAndGlyphs\" textLength=\"80\" x=\"627\" y=\"55.6982\">partMasses</text><rect fill=\"#A80036\" height=\"12\" style=\"stroke: #FEFECE; stroke-width: 1.5;\" width=\"12\" x=\"661\" y=\"71\"/><text fill=\"#000000\" font-family=\"sans-serif\" font-size=\"14\" lengthAdjust=\"spacingAndGlyphs\" textLength=\"66\" x=\"634\" y=\"377.7151\">totalMass</text><rect fill=\"#A80036\" height=\"12\" style=\"stroke: #FEFECE; stroke-width: 1.5;\" width=\"12\" x=\"661\" y=\"352.72\"/><!--MD5=[209b3feb70ccb6233bfe1053d122c12c]\n",
       "reverse link E2 to E3--><a href=\"psysml:5beb719b-2071-4403-a403-a4a2a93a4090\" target=\"_top\" title=\"psysml:5beb719b-2071-4403-a403-a4a2a93a4090\" xlink:actuate=\"onRequest\" xlink:href=\"psysml:5beb719b-2071-4403-a403-a4a2a93a4090\" xlink:show=\"new\" xlink:title=\"psysml:5beb719b-2071-4403-a403-a4a2a93a4090\" xlink:type=\"simple\"><path d=\"M480.08,115.85 C461.3,134.11 439.13,155.66 421.74,172.58 \" fill=\"none\" id=\"E2&lt;-E3\" style=\"stroke: #A80036; stroke-width: 1.0;\"/><polygon fill=\"#A80036\" points=\"489.54,106.64,482.4499,107.9553,480.937,115.0059,488.0271,113.6906,489.54,106.64\" style=\"stroke: #A80036; stroke-width: 1.0;\"/></a><!--MD5=[9618e71518536f8baf3342ff6fdab317]\n",
       "reverse link E2 to E4--><a href=\"psysml:48862a39-11e7-4605-8aed-a0acf63d7872\" target=\"_top\" title=\"psysml:48862a39-11e7-4605-8aed-a0acf63d7872\" xlink:actuate=\"onRequest\" xlink:href=\"psysml:48862a39-11e7-4605-8aed-a0acf63d7872\" xlink:show=\"new\" xlink:title=\"psysml:48862a39-11e7-4605-8aed-a0acf63d7872\" xlink:type=\"simple\"><path d=\"M519,119.66 C519,137.05 519,156.83 519,172.58 \" fill=\"none\" id=\"E2&lt;-E4\" style=\"stroke: #A80036; stroke-width: 1.0;\"/><polygon fill=\"#A80036\" points=\"519,106.64,515,112.64,519,118.64,523,112.64,519,106.64\" style=\"stroke: #A80036; stroke-width: 1.0;\"/></a><!--MD5=[1c0b9414cc86e0744215edee6abd8926]\n",
       "link E7 to E9--><a href=\"psysml:5b55f712-f9b6-4e15-aeab-345c960b0653\" target=\"_top\" title=\"psysml:5b55f712-f9b6-4e15-aeab-345c960b0653\" xlink:actuate=\"onRequest\" xlink:href=\"psysml:5b55f712-f9b6-4e15-aeab-345c960b0653\" xlink:show=\"new\" xlink:title=\"psysml:5b55f712-f9b6-4e15-aeab-345c960b0653\" xlink:type=\"simple\"><path d=\"M216.24,356.65 C227.81,353.39 239.38,353.41 250.95,356.7 \" fill=\"none\" id=\"E7-E9\" style=\"stroke: #FF0000; stroke-width: 5.0;\"/></a><!--MD5=[ec5e0a54482b142abcecfe541d624bff]\n",
       "link E10 to E5--><a href=\"psysml:9917c25f-6195-4027-a1da-c593e3e3b530\" target=\"_top\" title=\"psysml:9917c25f-6195-4027-a1da-c593e3e3b530\" xlink:actuate=\"onRequest\" xlink:href=\"psysml:9917c25f-6195-4027-a1da-c593e3e3b530\" xlink:show=\"new\" xlink:title=\"psysml:9917c25f-6195-4027-a1da-c593e3e3b530\" xlink:type=\"simple\"><path d=\"M364.65,100.08 C349.605,112.22 330.165,127.91 311.0925,143.305 C301.5563,151.0025 292.1119,158.6263 283.3547,165.6956 \" fill=\"none\" id=\"E10-&gt;E5\" style=\"stroke: #A80036; stroke-width: 1.0;\"/><polygon fill=\"#FFFFFF\" points=\"283.3547,165.6956,293.7417,148.3143,302.5356,159.2078,283.3547,165.6956\" style=\"stroke: #A80036; stroke-width: 1.0;\"/><ellipse cx=\"299.4332\" cy=\"146.2901\" fill=\"#A80036\" rx=\"2\" ry=\"2\" style=\"stroke: #A80036; stroke-width: 1.0;\"/><ellipse cx=\"305.7145\" cy=\"154.0712\" fill=\"#A80036\" rx=\"2\" ry=\"2\" style=\"stroke: #A80036; stroke-width: 1.0;\"/></a><!--MD5=[111e5536516ee1ad7d4266f589654f03]\n",
       "link E14 to E5--><a href=\"psysml:bf4de082-8867-4b4d-b459-dc33df5641b4\" target=\"_top\" title=\"psysml:bf4de082-8867-4b4d-b459-dc33df5641b4\" xlink:actuate=\"onRequest\" xlink:href=\"psysml:bf4de082-8867-4b4d-b459-dc33df5641b4\" xlink:show=\"new\" xlink:title=\"psysml:bf4de082-8867-4b4d-b459-dc33df5641b4\" xlink:type=\"simple\"><path d=\"M126.57,113.06 C134.05,118.9425 142.0381,125.2256 150.1766,131.6275 C151.1939,132.4277 152.2135,133.2298 153.2348,134.0332 C153.7455,134.4349 154.2565,134.8369 154.7679,135.2392 \" fill=\"none\" id=\"E14-&gt;E5\" style=\"stroke: #A80036; stroke-width: 1.0;\"/><polygon fill=\"#FFFFFF\" points=\"154.7679,135.2392,135.5067,128.9938,144.1625,117.9903,154.7679,135.2392\" style=\"stroke: #A80036; stroke-width: 1.0;\"/><ellipse cx=\"132.2633\" cy=\"123.8977\" fill=\"#A80036\" rx=\"2\" ry=\"2\" style=\"stroke: #A80036; stroke-width: 1.0;\"/><ellipse cx=\"138.446\" cy=\"116.0381\" fill=\"#A80036\" rx=\"2\" ry=\"2\" style=\"stroke: #A80036; stroke-width: 1.0;\"/></a><!--MD5=[b9a8cd060b57558a25a04e4c6b63c177]\n",
       "@startuml\r\n",
       "skinparam wrapWidth 300\r\n",
       "hide circle\r\n",
       "\r\n",
       "package \"CalculationExample\" as E1  [[psysml:7249bcac-c63a-48a6-adec-7cf675138100 ]]  {\r\n",
       "comp usage \"vehicle\" as E2  <<(T,blue)part>> [[psysml:14188455-78e6-45cf-9446-0197417271d8 ]] {\r\n",
       "m: MassValue\r\n",
       "}\r\n",
       "comp usage \"eng\" as E3  <<(T,blue)part>> [[psysml:5beb719b-2071-4403-a403-a4a2a93a4090 ]] {\r\n",
       "m: MassValue\r\n",
       "}\r\n",
       "comp usage \"trans\" as E4  <<(T,blue)part>> [[psysml:48862a39-11e7-4605-8aed-a0acf63d7872 ]] {\r\n",
       "m: MassValue\r\n",
       "}\r\n",
       "rec def \"MassSum\" as E5  <<(T,blue)calculation def>> [[psysml:8857df12-96f9-4753-a6e3-dc799dcb9ed4 ]] {\r\n",
       "portin \"partMasses\" as E6  [[psysml:8ae5fd16-1397-4172-a6e5-0c084d8d7ca2 ]] \r\n",
       "portout \"totalMass\" as E7  [[psysml:5f15c55d-7a56-4485-be6d-5834d49cebc1 ]] \r\n",
       "portin \"$collection\" as E8  [[psysml:61806866-d159-447e-b132-fa56be682adf ]] \r\n",
       "portout \"$result\" as E9  [[psysml:6ddb7e29-61e7-4184-8db5-61f90a0c49bf ]] \r\n",
       "}\r\n",
       "\r\n",
       "comp usage \"ms: MassSum\" as E10  <<(T,blue)calculation>> [[psysml:1d10ff1d-94f3-4fcc-ad21-5a3c75a7ba0b ]] {\r\n",
       "}\r\n",
       "rec def \"MassSum1\" as E11  <<(T,blue)calculation def>> [[psysml:86e0ef61-a473-4ef3-8b23-ebbfee168e1c ]] {\r\n",
       "portin \"partMasses\" as E12  [[psysml:44765cb5-91e3-4973-8d66-b6f2e5bbf87d ]] \r\n",
       "portout \"totalMass\" as E13  [[psysml:8a0a1f2d-4441-4a8a-b849-a96ed87f36a5 ]] \r\n",
       "}\r\n",
       "\r\n",
       "comp usage \"ms1: MassSum\" as E14  <<(T,blue)calculation>> [[psysml:5bbc6089-c972-4222-8f32-76d519ddb8cd ]] {\r\n",
       "partMasses\r\n",
       "totalMass\r\n",
       "}\r\n",
       "E2 *- - E3 [[psysml:5beb719b-2071-4403-a403-a4a2a93a4090 ]] \r\n",
       "E2 *- - E4 [[psysml:48862a39-11e7-4605-8aed-a0acf63d7872 ]] \r\n",
       "E7 -[thickness=5,#red]- E9 [[psysml:5b55f712-f9b6-4e15-aeab-345c960b0653 ]] \r\n",
       "E10 - -:|> E5 [[psysml:9917c25f-6195-4027-a1da-c593e3e3b530 ]] \r\n",
       "E14 - -:|> E5 [[psysml:bf4de082-8867-4b4d-b459-dc33df5641b4 ]] \r\n",
       "}\r\n",
       "@enduml\r\n",
       "\n",
       "PlantUML version 1.2020.13(Sat Jun 13 12:26:38 UTC 2020)\n",
       "(EPL source distribution)\n",
       "Java Runtime: OpenJDK Runtime Environment\n",
       "JVM: OpenJDK 64-Bit Server VM\n",
       "Default Encoding: UTF-8\n",
       "Language: en\n",
       "Country: null\n",
       "--></g></svg>"
      ]
     },
     "execution_count": 23,
     "metadata": {},
     "output_type": "execute_result"
    }
   ],
   "source": [
    "%viz --style=\"STDCOLOR\" --view=\"Default\" \"CalculationExample\""
   ]
  },
  {
   "cell_type": "code",
   "execution_count": 24,
   "id": "broke-involvement",
   "metadata": {
    "execution": {
     "iopub.execute_input": "2021-03-26T09:15:57.630350Z",
     "iopub.status.busy": "2021-03-26T09:15:57.629932Z",
     "iopub.status.idle": "2021-03-26T09:15:57.695320Z",
     "shell.execute_reply": "2021-03-26T09:15:57.694010Z"
    }
   },
   "outputs": [
    {
     "data": {
      "image/svg+xml": [
       "<?xml version=\"1.0\" encoding=\"UTF-8\" standalone=\"no\"?><svg xmlns=\"http://www.w3.org/2000/svg\" xmlns:xlink=\"http://www.w3.org/1999/xlink\" contentScriptType=\"application/ecmascript\" contentStyleType=\"text/css\" height=\"260px\" preserveAspectRatio=\"none\" style=\"width:607px;height:260px;\" version=\"1.1\" viewBox=\"0 0 607 260\" width=\"607px\" zoomAndPan=\"magnify\"><defs><filter height=\"300%\" id=\"fo2tum3slrovi\" width=\"300%\" x=\"-1\" y=\"-1\"><feGaussianBlur result=\"blurOut\" stdDeviation=\"2.0\"/><feColorMatrix in=\"blurOut\" result=\"blurOut2\" type=\"matrix\" values=\"0 0 0 0 0 0 0 0 0 0 0 0 0 0 0 0 0 0 .4 0\"/><feOffset dx=\"4.0\" dy=\"4.0\" in=\"blurOut2\" result=\"blurOut3\"/><feBlend in=\"SourceGraphic\" in2=\"blurOut3\" mode=\"normal\"/></filter></defs><g><!--MD5=[fbc87193dbaf4d95561dea2c320d4a47]\n",
       "cluster E1--><a href=\"psysml:7249bcac-c63a-48a6-adec-7cf675138100\" target=\"_top\" title=\"psysml:7249bcac-c63a-48a6-adec-7cf675138100\" xlink:actuate=\"onRequest\" xlink:href=\"psysml:7249bcac-c63a-48a6-adec-7cf675138100\" xlink:show=\"new\" xlink:title=\"psysml:7249bcac-c63a-48a6-adec-7cf675138100\" xlink:type=\"simple\"><polygon fill=\"#FFFFFF\" filter=\"url(#fo2tum3slrovi)\" points=\"16,6,173,6,180,28.2969,585,28.2969,585,248,16,248,16,6\" style=\"stroke: #000000; stroke-width: 1.5;\"/><line style=\"stroke: #000000; stroke-width: 1.5;\" x1=\"16\" x2=\"180\" y1=\"28.2969\" y2=\"28.2969\"/><text fill=\"#000000\" font-family=\"sans-serif\" font-size=\"14\" font-weight=\"bold\" lengthAdjust=\"spacingAndGlyphs\" textLength=\"151\" x=\"20\" y=\"20.9951\">CalculationExample</text></a><!--MD5=[b4997ac47864f28c2f74865a473b2911]\n",
       "class E2--><a href=\"psysml:14188455-78e6-45cf-9446-0197417271d8\" target=\"_top\" title=\"psysml:14188455-78e6-45cf-9446-0197417271d8\" xlink:actuate=\"onRequest\" xlink:href=\"psysml:14188455-78e6-45cf-9446-0197417271d8\" xlink:show=\"new\" xlink:title=\"psysml:14188455-78e6-45cf-9446-0197417271d8\" xlink:type=\"simple\"><rect fill=\"#FEFECE\" filter=\"url(#fo2tum3slrovi)\" height=\"58.7422\" id=\"E2\" rx=\"10\" ry=\"10\" style=\"stroke: #A80036; stroke-width: 1.5;\" width=\"92\" x=\"477\" y=\"47.5\"/><text fill=\"#000000\" font-family=\"sans-serif\" font-size=\"12\" font-style=\"italic\" lengthAdjust=\"spacingAndGlyphs\" textLength=\"40\" x=\"503\" y=\"63.6387\">«part»</text><text fill=\"#000000\" font-family=\"sans-serif\" font-size=\"12\" lengthAdjust=\"spacingAndGlyphs\" textLength=\"43\" x=\"501.5\" y=\"77.6074\">vehicle</text><line style=\"stroke: #A80036; stroke-width: 1.5;\" x1=\"478\" x2=\"568\" y1=\"85.4375\" y2=\"85.4375\"/><text fill=\"#000000\" font-family=\"sans-serif\" font-size=\"11\" lengthAdjust=\"spacingAndGlyphs\" textLength=\"80\" x=\"483\" y=\"99.6479\">m: MassValue</text></a><!--MD5=[09b614a08d8cba4a07c9adeb5e0fee81]\n",
       "class E3--><a href=\"psysml:5beb719b-2071-4403-a403-a4a2a93a4090\" target=\"_top\" title=\"psysml:5beb719b-2071-4403-a403-a4a2a93a4090\" xlink:actuate=\"onRequest\" xlink:href=\"psysml:5beb719b-2071-4403-a403-a4a2a93a4090\" xlink:show=\"new\" xlink:title=\"psysml:5beb719b-2071-4403-a403-a4a2a93a4090\" xlink:type=\"simple\"><rect fill=\"#FEFECE\" filter=\"url(#fo2tum3slrovi)\" height=\"58.7422\" id=\"E3\" rx=\"10\" ry=\"10\" style=\"stroke: #A80036; stroke-width: 1.5;\" width=\"92\" x=\"350\" y=\"173\"/><text fill=\"#000000\" font-family=\"sans-serif\" font-size=\"12\" font-style=\"italic\" lengthAdjust=\"spacingAndGlyphs\" textLength=\"40\" x=\"376\" y=\"189.1387\">«part»</text><text fill=\"#000000\" font-family=\"sans-serif\" font-size=\"12\" lengthAdjust=\"spacingAndGlyphs\" textLength=\"24\" x=\"384\" y=\"203.1074\">eng</text><line style=\"stroke: #A80036; stroke-width: 1.5;\" x1=\"351\" x2=\"441\" y1=\"210.9375\" y2=\"210.9375\"/><text fill=\"#000000\" font-family=\"sans-serif\" font-size=\"11\" lengthAdjust=\"spacingAndGlyphs\" textLength=\"80\" x=\"356\" y=\"225.1479\">m: MassValue</text></a><!--MD5=[ebbe1d658d1005bcc118a6aa81145e00]\n",
       "class E4--><a href=\"psysml:48862a39-11e7-4605-8aed-a0acf63d7872\" target=\"_top\" title=\"psysml:48862a39-11e7-4605-8aed-a0acf63d7872\" xlink:actuate=\"onRequest\" xlink:href=\"psysml:48862a39-11e7-4605-8aed-a0acf63d7872\" xlink:show=\"new\" xlink:title=\"psysml:48862a39-11e7-4605-8aed-a0acf63d7872\" xlink:type=\"simple\"><rect fill=\"#FEFECE\" filter=\"url(#fo2tum3slrovi)\" height=\"58.7422\" id=\"E4\" rx=\"10\" ry=\"10\" style=\"stroke: #A80036; stroke-width: 1.5;\" width=\"92\" x=\"477\" y=\"173\"/><text fill=\"#000000\" font-family=\"sans-serif\" font-size=\"12\" font-style=\"italic\" lengthAdjust=\"spacingAndGlyphs\" textLength=\"40\" x=\"503\" y=\"189.1387\">«part»</text><text fill=\"#000000\" font-family=\"sans-serif\" font-size=\"12\" lengthAdjust=\"spacingAndGlyphs\" textLength=\"33\" x=\"506.5\" y=\"203.1074\">trans</text><line style=\"stroke: #A80036; stroke-width: 1.5;\" x1=\"478\" x2=\"568\" y1=\"210.9375\" y2=\"210.9375\"/><text fill=\"#000000\" font-family=\"sans-serif\" font-size=\"11\" lengthAdjust=\"spacingAndGlyphs\" textLength=\"80\" x=\"483\" y=\"225.1479\">m: MassValue</text></a><!--MD5=[270fce915f116d4de14055a7c1d9a0f3]\n",
       "class E5--><a href=\"psysml:8857df12-96f9-4753-a6e3-dc799dcb9ed4\" target=\"_top\" title=\"psysml:8857df12-96f9-4753-a6e3-dc799dcb9ed4\" xlink:actuate=\"onRequest\" xlink:href=\"psysml:8857df12-96f9-4753-a6e3-dc799dcb9ed4\" xlink:show=\"new\" xlink:title=\"psysml:8857df12-96f9-4753-a6e3-dc799dcb9ed4\" xlink:type=\"simple\"><rect fill=\"#FEFECE\" filter=\"url(#fo2tum3slrovi)\" height=\"45.9375\" id=\"E5\" style=\"stroke: #A80036; stroke-width: 1.5;\" width=\"108\" x=\"120\" y=\"179.5\"/><text fill=\"#000000\" font-family=\"sans-serif\" font-size=\"12\" font-style=\"italic\" lengthAdjust=\"spacingAndGlyphs\" textLength=\"106\" x=\"121\" y=\"195.6387\">«calculation def»</text><text fill=\"#000000\" font-family=\"sans-serif\" font-size=\"12\" lengthAdjust=\"spacingAndGlyphs\" textLength=\"59\" x=\"144.5\" y=\"209.6074\">MassSum</text><line style=\"stroke: #A80036; stroke-width: 1.5;\" x1=\"121\" x2=\"227\" y1=\"217.4375\" y2=\"217.4375\"/></a><!--MD5=[60a26617385b1d2d0262a64233df1f8d]\n",
       "class E6--><a href=\"psysml:1d10ff1d-94f3-4fcc-ad21-5a3c75a7ba0b\" target=\"_top\" title=\"psysml:1d10ff1d-94f3-4fcc-ad21-5a3c75a7ba0b\" xlink:actuate=\"onRequest\" xlink:href=\"psysml:1d10ff1d-94f3-4fcc-ad21-5a3c75a7ba0b\" xlink:show=\"new\" xlink:title=\"psysml:1d10ff1d-94f3-4fcc-ad21-5a3c75a7ba0b\" xlink:type=\"simple\"><rect fill=\"#FEFECE\" filter=\"url(#fo2tum3slrovi)\" height=\"45.9375\" id=\"E6\" rx=\"10\" ry=\"10\" style=\"stroke: #A80036; stroke-width: 1.5;\" width=\"91\" x=\"350.5\" y=\"54\"/><text fill=\"#000000\" font-family=\"sans-serif\" font-size=\"12\" font-style=\"italic\" lengthAdjust=\"spacingAndGlyphs\" textLength=\"82\" x=\"355\" y=\"70.1387\">«calculation»</text><text fill=\"#000000\" font-family=\"sans-serif\" font-size=\"12\" lengthAdjust=\"spacingAndGlyphs\" textLength=\"85\" x=\"353.5\" y=\"84.1074\">ms: MassSum</text><line style=\"stroke: #A80036; stroke-width: 1.5;\" x1=\"351.5\" x2=\"440.5\" y1=\"91.9375\" y2=\"91.9375\"/></a><!--MD5=[2156ba9850f5573cc1fc38a6a4b2f02b]\n",
       "class E7--><a href=\"psysml:86e0ef61-a473-4ef3-8b23-ebbfee168e1c\" target=\"_top\" title=\"psysml:86e0ef61-a473-4ef3-8b23-ebbfee168e1c\" xlink:actuate=\"onRequest\" xlink:href=\"psysml:86e0ef61-a473-4ef3-8b23-ebbfee168e1c\" xlink:show=\"new\" xlink:title=\"psysml:86e0ef61-a473-4ef3-8b23-ebbfee168e1c\" xlink:type=\"simple\"><rect fill=\"#FEFECE\" filter=\"url(#fo2tum3slrovi)\" height=\"71.5469\" id=\"E7\" style=\"stroke: #A80036; stroke-width: 1.5;\" width=\"148\" x=\"167\" y=\"41\"/><text fill=\"#000000\" font-family=\"sans-serif\" font-size=\"12\" font-style=\"italic\" lengthAdjust=\"spacingAndGlyphs\" textLength=\"106\" x=\"188\" y=\"57.1387\">«calculation def»</text><text fill=\"#000000\" font-family=\"sans-serif\" font-size=\"12\" lengthAdjust=\"spacingAndGlyphs\" textLength=\"67\" x=\"207.5\" y=\"71.1074\">MassSum1</text><line style=\"stroke: #A80036; stroke-width: 1.5;\" x1=\"168\" x2=\"314\" y1=\"78.9375\" y2=\"78.9375\"/><text fill=\"#000000\" font-family=\"sans-serif\" font-size=\"11\" lengthAdjust=\"spacingAndGlyphs\" textLength=\"136\" x=\"173\" y=\"93.1479\">partMasses: MassValue</text><text fill=\"#000000\" font-family=\"sans-serif\" font-size=\"11\" lengthAdjust=\"spacingAndGlyphs\" textLength=\"124\" x=\"173\" y=\"105.9526\">totalMass: MassValue</text></a><!--MD5=[b9389687b975829384b498ac4b7476b2]\n",
       "class E8--><a href=\"psysml:5bbc6089-c972-4222-8f32-76d519ddb8cd\" target=\"_top\" title=\"psysml:5bbc6089-c972-4222-8f32-76d519ddb8cd\" xlink:actuate=\"onRequest\" xlink:href=\"psysml:5bbc6089-c972-4222-8f32-76d519ddb8cd\" xlink:show=\"new\" xlink:title=\"psysml:5bbc6089-c972-4222-8f32-76d519ddb8cd\" xlink:type=\"simple\"><rect fill=\"#FEFECE\" filter=\"url(#fo2tum3slrovi)\" height=\"71.5469\" id=\"E8\" rx=\"10\" ry=\"10\" style=\"stroke: #A80036; stroke-width: 1.5;\" width=\"99\" x=\"32.5\" y=\"41\"/><text fill=\"#000000\" font-family=\"sans-serif\" font-size=\"12\" font-style=\"italic\" lengthAdjust=\"spacingAndGlyphs\" textLength=\"82\" x=\"41\" y=\"57.1387\">«calculation»</text><text fill=\"#000000\" font-family=\"sans-serif\" font-size=\"12\" lengthAdjust=\"spacingAndGlyphs\" textLength=\"93\" x=\"35.5\" y=\"71.1074\">ms1: MassSum</text><line style=\"stroke: #A80036; stroke-width: 1.5;\" x1=\"33.5\" x2=\"130.5\" y1=\"78.9375\" y2=\"78.9375\"/><text fill=\"#000000\" font-family=\"sans-serif\" font-size=\"11\" lengthAdjust=\"spacingAndGlyphs\" textLength=\"67\" x=\"38.5\" y=\"93.1479\">partMasses</text><text fill=\"#000000\" font-family=\"sans-serif\" font-size=\"11\" lengthAdjust=\"spacingAndGlyphs\" textLength=\"55\" x=\"38.5\" y=\"105.9526\">totalMass</text></a><!--MD5=[209b3feb70ccb6233bfe1053d122c12c]\n",
       "reverse link E2 to E3--><a href=\"psysml:5beb719b-2071-4403-a403-a4a2a93a4090\" target=\"_top\" title=\"psysml:5beb719b-2071-4403-a403-a4a2a93a4090\" xlink:actuate=\"onRequest\" xlink:href=\"psysml:5beb719b-2071-4403-a403-a4a2a93a4090\" xlink:show=\"new\" xlink:title=\"psysml:5beb719b-2071-4403-a403-a4a2a93a4090\" xlink:type=\"simple\"><path d=\"M484.08,115.85 C465.3,134.11 443.13,155.66 425.74,172.58 \" fill=\"none\" id=\"E2&lt;-E3\" style=\"stroke: #A80036; stroke-width: 1.0;\"/><polygon fill=\"#A80036\" points=\"493.54,106.64,486.4499,107.9553,484.937,115.0059,492.0271,113.6906,493.54,106.64\" style=\"stroke: #A80036; stroke-width: 1.0;\"/></a><!--MD5=[9618e71518536f8baf3342ff6fdab317]\n",
       "reverse link E2 to E4--><a href=\"psysml:48862a39-11e7-4605-8aed-a0acf63d7872\" target=\"_top\" title=\"psysml:48862a39-11e7-4605-8aed-a0acf63d7872\" xlink:actuate=\"onRequest\" xlink:href=\"psysml:48862a39-11e7-4605-8aed-a0acf63d7872\" xlink:show=\"new\" xlink:title=\"psysml:48862a39-11e7-4605-8aed-a0acf63d7872\" xlink:type=\"simple\"><path d=\"M523,119.66 C523,137.05 523,156.83 523,172.58 \" fill=\"none\" id=\"E2&lt;-E4\" style=\"stroke: #A80036; stroke-width: 1.0;\"/><polygon fill=\"#A80036\" points=\"523,106.64,519,112.64,523,118.64,527,112.64,523,106.64\" style=\"stroke: #A80036; stroke-width: 1.0;\"/></a><!--MD5=[25b190c987b1e74e5126d372c5a73af1]\n",
       "link E6 to E5--><a href=\"psysml:9917c25f-6195-4027-a1da-c593e3e3b530\" target=\"_top\" title=\"psysml:9917c25f-6195-4027-a1da-c593e3e3b530\" xlink:actuate=\"onRequest\" xlink:href=\"psysml:9917c25f-6195-4027-a1da-c593e3e3b530\" xlink:show=\"new\" xlink:title=\"psysml:9917c25f-6195-4027-a1da-c593e3e3b530\" xlink:type=\"simple\"><path d=\"M356.31,100.08 C321.53,119.43 270.56,147.78 231.35,169.59 \" fill=\"none\" id=\"E6-&gt;E5\" style=\"stroke: #A80036; stroke-width: 1.0;\"/><polygon fill=\"#FFFFFF\" points=\"213.72,179.4,226.9199,164.0454,233.7265,176.2794,213.72,179.4\" style=\"stroke: #A80036; stroke-width: 1.0;\"/><ellipse cx=\"232.8733\" cy=\"163.0219\" fill=\"#A80036\" rx=\"2\" ry=\"2\" style=\"stroke: #A80036; stroke-width: 1.0;\"/><ellipse cx=\"237.7351\" cy=\"171.7604\" fill=\"#A80036\" rx=\"2\" ry=\"2\" style=\"stroke: #A80036; stroke-width: 1.0;\"/></a><!--MD5=[1ccb2481ffa92f8d51a74ee30c51832a]\n",
       "link E8 to E5--><a href=\"psysml:bf4de082-8867-4b4d-b459-dc33df5641b4\" target=\"_top\" title=\"psysml:bf4de082-8867-4b4d-b459-dc33df5641b4\" xlink:actuate=\"onRequest\" xlink:href=\"psysml:bf4de082-8867-4b4d-b459-dc33df5641b4\" xlink:show=\"new\" xlink:title=\"psysml:bf4de082-8867-4b4d-b459-dc33df5641b4\" xlink:type=\"simple\"><path d=\"M108.12,113.06 C119.74,128.67 133.47,147.09 145.37,163.07 \" fill=\"none\" id=\"E8-&gt;E5\" style=\"stroke: #A80036; stroke-width: 1.0;\"/><polygon fill=\"#FFFFFF\" points=\"157.39,179.2,140.4231,168.1491,151.6482,159.7827,157.39,179.2\" style=\"stroke: #A80036; stroke-width: 1.0;\"/><ellipse cx=\"138.6203\" cy=\"162.3836\" fill=\"#A80036\" rx=\"2\" ry=\"2\" style=\"stroke: #A80036; stroke-width: 1.0;\"/><ellipse cx=\"146.6383\" cy=\"156.4077\" fill=\"#A80036\" rx=\"2\" ry=\"2\" style=\"stroke: #A80036; stroke-width: 1.0;\"/></a><!--MD5=[355693bd39e2b32b74512e4cce488126]\n",
       "@startuml\r\n",
       "skinparam wrapWidth 300\r\n",
       "hide circle\r\n",
       "\r\n",
       "package \"CalculationExample\" as E1  [[psysml:7249bcac-c63a-48a6-adec-7cf675138100 ]]  {\r\n",
       "comp usage \"vehicle\" as E2  <<(T,blue)part>> [[psysml:14188455-78e6-45cf-9446-0197417271d8 ]] {\r\n",
       "m: MassValue\r\n",
       "}\r\n",
       "comp usage \"eng\" as E3  <<(T,blue)part>> [[psysml:5beb719b-2071-4403-a403-a4a2a93a4090 ]] {\r\n",
       "m: MassValue\r\n",
       "}\r\n",
       "comp usage \"trans\" as E4  <<(T,blue)part>> [[psysml:48862a39-11e7-4605-8aed-a0acf63d7872 ]] {\r\n",
       "m: MassValue\r\n",
       "}\r\n",
       "comp def \"MassSum\" as E5  <<(T,blue)calculation def>> [[psysml:8857df12-96f9-4753-a6e3-dc799dcb9ed4 ]] {\r\n",
       "}\r\n",
       "comp usage \"ms: MassSum\" as E6  <<(T,blue)calculation>> [[psysml:1d10ff1d-94f3-4fcc-ad21-5a3c75a7ba0b ]] {\r\n",
       "}\r\n",
       "comp def \"MassSum1\" as E7  <<(T,blue)calculation def>> [[psysml:86e0ef61-a473-4ef3-8b23-ebbfee168e1c ]] {\r\n",
       "partMasses: MassValue\r\n",
       "totalMass: MassValue\r\n",
       "}\r\n",
       "comp usage \"ms1: MassSum\" as E8  <<(T,blue)calculation>> [[psysml:5bbc6089-c972-4222-8f32-76d519ddb8cd ]] {\r\n",
       "partMasses\r\n",
       "totalMass\r\n",
       "}\r\n",
       "E2 *- - E3 [[psysml:5beb719b-2071-4403-a403-a4a2a93a4090 ]] \r\n",
       "E2 *- - E4 [[psysml:48862a39-11e7-4605-8aed-a0acf63d7872 ]] \r\n",
       "E6 - -:|> E5 [[psysml:9917c25f-6195-4027-a1da-c593e3e3b530 ]] \r\n",
       "E8 - -:|> E5 [[psysml:bf4de082-8867-4b4d-b459-dc33df5641b4 ]] \r\n",
       "}\r\n",
       "@enduml\r\n",
       "\n",
       "PlantUML version 1.2020.13(Sat Jun 13 12:26:38 UTC 2020)\n",
       "(EPL source distribution)\n",
       "Java Runtime: OpenJDK Runtime Environment\n",
       "JVM: OpenJDK 64-Bit Server VM\n",
       "Default Encoding: UTF-8\n",
       "Language: en\n",
       "Country: null\n",
       "--></g></svg>"
      ]
     },
     "execution_count": 24,
     "metadata": {},
     "output_type": "execute_result"
    }
   ],
   "source": [
    "%viz --style=\"STDCOLOR\" --view=\"Tree\" \"CalculationExample\""
   ]
  },
  {
   "cell_type": "code",
   "execution_count": 25,
   "id": "consecutive-avenue",
   "metadata": {
    "execution": {
     "iopub.execute_input": "2021-03-26T09:15:57.745825Z",
     "iopub.status.busy": "2021-03-26T09:15:57.745466Z",
     "iopub.status.idle": "2021-03-26T09:15:57.749809Z",
     "shell.execute_reply": "2021-03-26T09:15:57.750127Z"
    }
   },
   "outputs": [
    {
     "data": {
      "image/svg+xml": [
       "<?xml version=\"1.0\" encoding=\"UTF-8\" standalone=\"no\"?><svg xmlns=\"http://www.w3.org/2000/svg\" xmlns:xlink=\"http://www.w3.org/1999/xlink\" contentScriptType=\"application/ecmascript\" contentStyleType=\"text/css\" height=\"12px\" preserveAspectRatio=\"none\" style=\"width:12px;height:12px;\" version=\"1.1\" viewBox=\"0 0 12 12\" width=\"12px\" zoomAndPan=\"magnify\"><defs/><g><!--MD5=[aeeef50f102b80d730deb6443d14f702]\n",
       "@startuml\r\n",
       "skinparam wrapWidth 300\r\n",
       "hide circle\r\n",
       "\r\n",
       "@enduml\r\n",
       "\n",
       "PlantUML version 1.2020.13(Sat Jun 13 12:26:38 UTC 2020)\n",
       "(EPL source distribution)\n",
       "Java Runtime: OpenJDK Runtime Environment\n",
       "JVM: OpenJDK 64-Bit Server VM\n",
       "Default Encoding: UTF-8\n",
       "Language: en\n",
       "Country: null\n",
       "--></g></svg>"
      ]
     },
     "execution_count": 25,
     "metadata": {},
     "output_type": "execute_result"
    }
   ],
   "source": [
    "%viz --style=\"STDCOLOR\" --view=\"State\" \"CalculationExample\""
   ]
  },
  {
   "cell_type": "code",
   "execution_count": 26,
   "id": "circular-excuse",
   "metadata": {
    "execution": {
     "iopub.execute_input": "2021-03-26T09:15:57.800759Z",
     "iopub.status.busy": "2021-03-26T09:15:57.800383Z",
     "iopub.status.idle": "2021-03-26T09:15:57.828820Z",
     "shell.execute_reply": "2021-03-26T09:15:57.827608Z"
    }
   },
   "outputs": [
    {
     "data": {
      "image/svg+xml": [
       "<?xml version=\"1.0\" encoding=\"UTF-8\" standalone=\"no\"?><svg xmlns=\"http://www.w3.org/2000/svg\" xmlns:xlink=\"http://www.w3.org/1999/xlink\" contentScriptType=\"application/ecmascript\" contentStyleType=\"text/css\" height=\"246px\" preserveAspectRatio=\"none\" style=\"width:881px;height:246px;\" version=\"1.1\" viewBox=\"0 0 881 246\" width=\"881px\" zoomAndPan=\"magnify\"><defs><filter height=\"300%\" id=\"f1pnxg50wfpeex\" width=\"300%\" x=\"-1\" y=\"-1\"><feGaussianBlur result=\"blurOut\" stdDeviation=\"2.0\"/><feColorMatrix in=\"blurOut\" result=\"blurOut2\" type=\"matrix\" values=\"0 0 0 0 0 0 0 0 0 0 0 0 0 0 0 0 0 0 .4 0\"/><feOffset dx=\"4.0\" dy=\"4.0\" in=\"blurOut2\" result=\"blurOut3\"/><feBlend in=\"SourceGraphic\" in2=\"blurOut3\" mode=\"normal\"/></filter></defs><g><!--MD5=[fbc87193dbaf4d95561dea2c320d4a47]\n",
       "cluster E1--><a href=\"psysml:7249bcac-c63a-48a6-adec-7cf675138100\" target=\"_top\" title=\"psysml:7249bcac-c63a-48a6-adec-7cf675138100\" xlink:actuate=\"onRequest\" xlink:href=\"psysml:7249bcac-c63a-48a6-adec-7cf675138100\" xlink:show=\"new\" xlink:title=\"psysml:7249bcac-c63a-48a6-adec-7cf675138100\" xlink:type=\"simple\"><polygon fill=\"#FFFFFF\" filter=\"url(#f1pnxg50wfpeex)\" points=\"16,6,173,6,180,28.2969,859,28.2969,859,234,16,234,16,6\" style=\"stroke: #000000; stroke-width: 1.5;\"/><line style=\"stroke: #000000; stroke-width: 1.5;\" x1=\"16\" x2=\"180\" y1=\"28.2969\" y2=\"28.2969\"/><text fill=\"#000000\" font-family=\"sans-serif\" font-size=\"14\" font-weight=\"bold\" lengthAdjust=\"spacingAndGlyphs\" textLength=\"151\" x=\"20\" y=\"20.9951\">CalculationExample</text></a><!--MD5=[e4f7fae6ed58524ba242bb0b0d3be6b7]\n",
       "cluster E2--><a href=\"psysml:14188455-78e6-45cf-9446-0197417271d8\" target=\"_top\" title=\"psysml:14188455-78e6-45cf-9446-0197417271d8\" xlink:actuate=\"onRequest\" xlink:href=\"psysml:14188455-78e6-45cf-9446-0197417271d8\" xlink:show=\"new\" xlink:title=\"psysml:14188455-78e6-45cf-9446-0197417271d8\" xlink:type=\"simple\"><rect fill=\"#FFFFFF\" filter=\"url(#f1pnxg50wfpeex)\" height=\"161\" id=\"E2\" rx=\"10\" ry=\"10\" style=\"stroke: #A80036; stroke-width: 1.5;\" width=\"436\" x=\"399\" y=\"49\"/><rect fill=\"#FEFECE\" height=\"23.9688\" rx=\"10\" ry=\"10\" style=\"stroke: #FEFECE; stroke-width: 1.5;\" width=\"436\" x=\"399\" y=\"49\"/><rect fill=\"#FEFECE\" height=\"10\" style=\"stroke: #FEFECE; stroke-width: 1.5;\" width=\"436\" x=\"399\" y=\"62.9688\"/><rect fill=\"none\" height=\"161\" id=\"E2\" rx=\"10\" ry=\"10\" style=\"stroke: #A80036; stroke-width: 1.5;\" width=\"436\" x=\"399\" y=\"49\"/><text fill=\"#000000\" font-family=\"sans-serif\" font-size=\"12\" lengthAdjust=\"spacingAndGlyphs\" textLength=\"43\" x=\"595.5\" y=\"65.1387\">vehicle</text><line style=\"stroke: #A80036; stroke-width: 1.0;\" x1=\"399\" x2=\"835\" y1=\"72.9688\" y2=\"72.9688\"/></a><!--MD5=[f6df4d0ebaf0b5dfb2ced0ae5af7c670]\n",
       "cluster E4--><a href=\"psysml:5beb719b-2071-4403-a403-a4a2a93a4090\" target=\"_top\" title=\"psysml:5beb719b-2071-4403-a403-a4a2a93a4090\" xlink:actuate=\"onRequest\" xlink:href=\"psysml:5beb719b-2071-4403-a403-a4a2a93a4090\" xlink:show=\"new\" xlink:title=\"psysml:5beb719b-2071-4403-a403-a4a2a93a4090\" xlink:type=\"simple\"><rect fill=\"#FFFFFF\" filter=\"url(#f1pnxg50wfpeex)\" height=\"94\" id=\"E4\" rx=\"10\" ry=\"10\" style=\"stroke: #A80036; stroke-width: 1.5;\" width=\"128\" x=\"683\" y=\"92\"/><rect fill=\"#FEFECE\" height=\"23.9688\" rx=\"10\" ry=\"10\" style=\"stroke: #FEFECE; stroke-width: 1.5;\" width=\"128\" x=\"683\" y=\"92\"/><rect fill=\"#FEFECE\" height=\"10\" style=\"stroke: #FEFECE; stroke-width: 1.5;\" width=\"128\" x=\"683\" y=\"105.9688\"/><rect fill=\"none\" height=\"94\" id=\"E4\" rx=\"10\" ry=\"10\" style=\"stroke: #A80036; stroke-width: 1.5;\" width=\"128\" x=\"683\" y=\"92\"/><text fill=\"#000000\" font-family=\"sans-serif\" font-size=\"12\" lengthAdjust=\"spacingAndGlyphs\" textLength=\"24\" x=\"735\" y=\"108.1387\">eng</text><line style=\"stroke: #A80036; stroke-width: 1.0;\" x1=\"683\" x2=\"811\" y1=\"115.9688\" y2=\"115.9688\"/></a><!--MD5=[14e3b0961a2654348d326746436168a1]\n",
       "cluster E6--><a href=\"psysml:48862a39-11e7-4605-8aed-a0acf63d7872\" target=\"_top\" title=\"psysml:48862a39-11e7-4605-8aed-a0acf63d7872\" xlink:actuate=\"onRequest\" xlink:href=\"psysml:48862a39-11e7-4605-8aed-a0acf63d7872\" xlink:show=\"new\" xlink:title=\"psysml:48862a39-11e7-4605-8aed-a0acf63d7872\" xlink:type=\"simple\"><rect fill=\"#FFFFFF\" filter=\"url(#f1pnxg50wfpeex)\" height=\"94\" id=\"E6\" rx=\"10\" ry=\"10\" style=\"stroke: #A80036; stroke-width: 1.5;\" width=\"128\" x=\"531\" y=\"92\"/><rect fill=\"#FEFECE\" height=\"23.9688\" rx=\"10\" ry=\"10\" style=\"stroke: #FEFECE; stroke-width: 1.5;\" width=\"128\" x=\"531\" y=\"92\"/><rect fill=\"#FEFECE\" height=\"10\" style=\"stroke: #FEFECE; stroke-width: 1.5;\" width=\"128\" x=\"531\" y=\"105.9688\"/><rect fill=\"none\" height=\"94\" id=\"E6\" rx=\"10\" ry=\"10\" style=\"stroke: #A80036; stroke-width: 1.5;\" width=\"128\" x=\"531\" y=\"92\"/><text fill=\"#000000\" font-family=\"sans-serif\" font-size=\"12\" lengthAdjust=\"spacingAndGlyphs\" textLength=\"33\" x=\"578.5\" y=\"108.1387\">trans</text><line style=\"stroke: #A80036; stroke-width: 1.0;\" x1=\"531\" x2=\"659\" y1=\"115.9688\" y2=\"115.9688\"/></a><!--MD5=[b9389687b975829384b498ac4b7476b2]\n",
       "class E8--><a href=\"psysml:8857df12-96f9-4753-a6e3-dc799dcb9ed4\" target=\"_top\" title=\"psysml:8857df12-96f9-4753-a6e3-dc799dcb9ed4\" xlink:actuate=\"onRequest\" xlink:href=\"psysml:8857df12-96f9-4753-a6e3-dc799dcb9ed4\" xlink:show=\"new\" xlink:title=\"psysml:8857df12-96f9-4753-a6e3-dc799dcb9ed4\" xlink:type=\"simple\"><rect fill=\"#FEFECE\" filter=\"url(#f1pnxg50wfpeex)\" height=\"53.9375\" id=\"E8\" style=\"stroke: #A80036; stroke-width: 1.5;\" width=\"156\" x=\"223\" y=\"121.5\"/><text fill=\"#000000\" font-family=\"sans-serif\" font-size=\"12\" font-style=\"italic\" lengthAdjust=\"spacingAndGlyphs\" textLength=\"154\" x=\"224\" y=\"137.6387\">«(T,blue)calculation def»</text><text fill=\"#000000\" font-family=\"sans-serif\" font-size=\"12\" lengthAdjust=\"spacingAndGlyphs\" textLength=\"59\" x=\"271.5\" y=\"151.6074\">MassSum</text><line style=\"stroke: #A80036; stroke-width: 1.5;\" x1=\"224\" x2=\"378\" y1=\"159.4375\" y2=\"159.4375\"/><line style=\"stroke: #A80036; stroke-width: 1.5;\" x1=\"224\" x2=\"378\" y1=\"167.4375\" y2=\"167.4375\"/></a><!--MD5=[fd4143e9d270a159db93a4ea2a975926]\n",
       "class E9--><a href=\"psysml:86e0ef61-a473-4ef3-8b23-ebbfee168e1c\" target=\"_top\" title=\"psysml:86e0ef61-a473-4ef3-8b23-ebbfee168e1c\" xlink:actuate=\"onRequest\" xlink:href=\"psysml:86e0ef61-a473-4ef3-8b23-ebbfee168e1c\" xlink:show=\"new\" xlink:title=\"psysml:86e0ef61-a473-4ef3-8b23-ebbfee168e1c\" xlink:type=\"simple\"><rect fill=\"#FEFECE\" filter=\"url(#f1pnxg50wfpeex)\" height=\"53.9375\" id=\"E9\" style=\"stroke: #A80036; stroke-width: 1.5;\" width=\"156\" x=\"32\" y=\"121.5\"/><text fill=\"#000000\" font-family=\"sans-serif\" font-size=\"12\" font-style=\"italic\" lengthAdjust=\"spacingAndGlyphs\" textLength=\"154\" x=\"33\" y=\"137.6387\">«(T,blue)calculation def»</text><text fill=\"#000000\" font-family=\"sans-serif\" font-size=\"12\" lengthAdjust=\"spacingAndGlyphs\" textLength=\"67\" x=\"76.5\" y=\"151.6074\">MassSum1</text><line style=\"stroke: #A80036; stroke-width: 1.5;\" x1=\"33\" x2=\"187\" y1=\"159.4375\" y2=\"159.4375\"/><line style=\"stroke: #A80036; stroke-width: 1.5;\" x1=\"33\" x2=\"187\" y1=\"167.4375\" y2=\"167.4375\"/></a><g id=\"E1.E2.E3\"><a href=\"psysml:536fae04-334d-4f68-a23e-e57d7170c38b\" target=\"_top\" title=\"psysml:536fae04-334d-4f68-a23e-e57d7170c38b\" xlink:actuate=\"onRequest\" xlink:href=\"psysml:536fae04-334d-4f68-a23e-e57d7170c38b\" xlink:show=\"new\" xlink:title=\"psysml:536fae04-334d-4f68-a23e-e57d7170c38b\" xlink:type=\"simple\"><rect fill=\"#FEFECE\" filter=\"url(#f1pnxg50wfpeex)\" height=\"42.9375\" id=\"E3\" rx=\"10\" ry=\"10\" style=\"stroke: #A80036; stroke-width: 1.5;\" width=\"97\" x=\"414.5\" y=\"127\"/><text fill=\"#000000\" font-family=\"sans-serif\" font-size=\"12\" font-style=\"italic\" lengthAdjust=\"spacingAndGlyphs\" textLength=\"69\" x=\"428.5\" y=\"143.1387\">«attribute»</text><text fill=\"#000000\" font-family=\"sans-serif\" font-size=\"12\" lengthAdjust=\"spacingAndGlyphs\" textLength=\"86\" x=\"420\" y=\"157.1074\">m: MassValue</text></a></g><g id=\"E1.E2.E4.E5\"><a href=\"psysml:2d8c1579-6ad8-45a7-8b4f-8ac5dd6e770e\" target=\"_top\" title=\"psysml:2d8c1579-6ad8-45a7-8b4f-8ac5dd6e770e\" xlink:actuate=\"onRequest\" xlink:href=\"psysml:2d8c1579-6ad8-45a7-8b4f-8ac5dd6e770e\" xlink:show=\"new\" xlink:title=\"psysml:2d8c1579-6ad8-45a7-8b4f-8ac5dd6e770e\" xlink:type=\"simple\"><rect fill=\"#FEFECE\" filter=\"url(#f1pnxg50wfpeex)\" height=\"42.9375\" id=\"E5\" rx=\"10\" ry=\"10\" style=\"stroke: #A80036; stroke-width: 1.5;\" width=\"97\" x=\"698.5\" y=\"127\"/><text fill=\"#000000\" font-family=\"sans-serif\" font-size=\"12\" font-style=\"italic\" lengthAdjust=\"spacingAndGlyphs\" textLength=\"69\" x=\"712.5\" y=\"143.1387\">«attribute»</text><text fill=\"#000000\" font-family=\"sans-serif\" font-size=\"12\" lengthAdjust=\"spacingAndGlyphs\" textLength=\"86\" x=\"704\" y=\"157.1074\">m: MassValue</text></a></g><g id=\"E1.E2.E6.E7\"><a href=\"psysml:aae9b164-5c75-4cd2-bd76-7fd4ffe374bb\" target=\"_top\" title=\"psysml:aae9b164-5c75-4cd2-bd76-7fd4ffe374bb\" xlink:actuate=\"onRequest\" xlink:href=\"psysml:aae9b164-5c75-4cd2-bd76-7fd4ffe374bb\" xlink:show=\"new\" xlink:title=\"psysml:aae9b164-5c75-4cd2-bd76-7fd4ffe374bb\" xlink:type=\"simple\"><rect fill=\"#FEFECE\" filter=\"url(#f1pnxg50wfpeex)\" height=\"42.9375\" id=\"E7\" rx=\"10\" ry=\"10\" style=\"stroke: #A80036; stroke-width: 1.5;\" width=\"97\" x=\"546.5\" y=\"127\"/><text fill=\"#000000\" font-family=\"sans-serif\" font-size=\"12\" font-style=\"italic\" lengthAdjust=\"spacingAndGlyphs\" textLength=\"69\" x=\"560.5\" y=\"143.1387\">«attribute»</text><text fill=\"#000000\" font-family=\"sans-serif\" font-size=\"12\" lengthAdjust=\"spacingAndGlyphs\" textLength=\"86\" x=\"552\" y=\"157.1074\">m: MassValue</text></a></g><!--MD5=[0db519256c57eed89e81da656057efc9]\n",
       "@startuml\r\n",
       "skinparam ranksep 8\r\n",
       "skinparam rectangle {\r\n",
       " backgroundColor<<block>> LightGreen\r\n",
       "}\r\n",
       "skinparam wrapWidth 300\r\n",
       "hide circle\r\n",
       "\r\n",
       "package \"CalculationExample\" as E1  [[psysml:7249bcac-c63a-48a6-adec-7cf675138100 ]]  {\r\n",
       "rec usage \"vehicle\" as E2  [[psysml:14188455-78e6-45cf-9446-0197417271d8 ]] {\r\n",
       "rec usage \"m: MassValue\" as E3  <<(T,blue)attribute>> [[psysml:536fae04-334d-4f68-a23e-e57d7170c38b ]] {\r\n",
       "}\r\n",
       "rec usage \"eng\" as E4  [[psysml:5beb719b-2071-4403-a403-a4a2a93a4090 ]] {\r\n",
       "rec usage \"m: MassValue\" as E5  <<(T,blue)attribute>> [[psysml:2d8c1579-6ad8-45a7-8b4f-8ac5dd6e770e ]] {\r\n",
       "}\r\n",
       "}\r\n",
       "rec usage \"trans\" as E6  [[psysml:48862a39-11e7-4605-8aed-a0acf63d7872 ]] {\r\n",
       "rec usage \"m: MassValue\" as E7  <<(T,blue)attribute>> [[psysml:aae9b164-5c75-4cd2-bd76-7fd4ffe374bb ]] {\r\n",
       "}\r\n",
       "}\r\n",
       "}\r\n",
       "def \"MassSum\" as E8  <<(T,blue)calculation def>> [[psysml:8857df12-96f9-4753-a6e3-dc799dcb9ed4 ]] \r\n",
       "def \"MassSum1\" as E9  <<(T,blue)calculation def>> [[psysml:86e0ef61-a473-4ef3-8b23-ebbfee168e1c ]] \r\n",
       "}\r\n",
       "@enduml\r\n",
       "\n",
       "PlantUML version 1.2020.13(Sat Jun 13 12:26:38 UTC 2020)\n",
       "(EPL source distribution)\n",
       "Java Runtime: OpenJDK Runtime Environment\n",
       "JVM: OpenJDK 64-Bit Server VM\n",
       "Default Encoding: UTF-8\n",
       "Language: en\n",
       "Country: null\n",
       "--></g></svg>"
      ]
     },
     "execution_count": 26,
     "metadata": {},
     "output_type": "execute_result"
    }
   ],
   "source": [
    "%viz --style=\"STDCOLOR\" --view=\"Interconnection\" \"CalculationExample\""
   ]
  },
  {
   "cell_type": "code",
   "execution_count": 27,
   "id": "christian-skating",
   "metadata": {
    "execution": {
     "iopub.execute_input": "2021-03-26T09:15:57.880538Z",
     "iopub.status.busy": "2021-03-26T09:15:57.879787Z",
     "iopub.status.idle": "2021-03-26T09:15:57.917291Z",
     "shell.execute_reply": "2021-03-26T09:15:57.915949Z"
    }
   },
   "outputs": [
    {
     "data": {
      "image/svg+xml": [
       "<?xml version=\"1.0\" encoding=\"UTF-8\" standalone=\"no\"?><svg xmlns=\"http://www.w3.org/2000/svg\" xmlns:xlink=\"http://www.w3.org/1999/xlink\" contentScriptType=\"application/ecmascript\" contentStyleType=\"text/css\" height=\"162px\" preserveAspectRatio=\"none\" style=\"width:683px;height:162px;\" version=\"1.1\" viewBox=\"0 0 683 162\" width=\"683px\" zoomAndPan=\"magnify\"><defs><filter height=\"300%\" id=\"f17jdyiojszevx\" width=\"300%\" x=\"-1\" y=\"-1\"><feGaussianBlur result=\"blurOut\" stdDeviation=\"2.0\"/><feColorMatrix in=\"blurOut\" result=\"blurOut2\" type=\"matrix\" values=\"0 0 0 0 0 0 0 0 0 0 0 0 0 0 0 0 0 0 .4 0\"/><feOffset dx=\"4.0\" dy=\"4.0\" in=\"blurOut2\" result=\"blurOut3\"/><feBlend in=\"SourceGraphic\" in2=\"blurOut3\" mode=\"normal\"/></filter></defs><g><!--MD5=[fbc87193dbaf4d95561dea2c320d4a47]\n",
       "cluster E1--><a href=\"psysml:8857df12-96f9-4753-a6e3-dc799dcb9ed4\" target=\"_top\" title=\"psysml:8857df12-96f9-4753-a6e3-dc799dcb9ed4\" xlink:actuate=\"onRequest\" xlink:href=\"psysml:8857df12-96f9-4753-a6e3-dc799dcb9ed4\" xlink:show=\"new\" xlink:title=\"psysml:8857df12-96f9-4753-a6e3-dc799dcb9ed4\" xlink:type=\"simple\"><rect fill=\"#FFFFFF\" filter=\"url(#f17jdyiojszevx)\" height=\"87.72\" id=\"E1\" style=\"stroke: #A80036; stroke-width: 1.5;\" width=\"128\" x=\"28\" y=\"42.0986\"/><rect fill=\"#FEFECE\" height=\"37.9375\" style=\"stroke: #A80036; stroke-width: 1.5;\" width=\"128\" x=\"28\" y=\"42.0986\"/><text fill=\"#000000\" font-family=\"sans-serif\" font-size=\"12\" font-style=\"italic\" lengthAdjust=\"spacingAndGlyphs\" textLength=\"106\" x=\"39\" y=\"58.2373\">«calculation def»</text><text fill=\"#000000\" font-family=\"sans-serif\" font-size=\"12\" lengthAdjust=\"spacingAndGlyphs\" textLength=\"59\" x=\"62.5\" y=\"72.2061\">MassSum</text></a><!--MD5=[14e3b0961a2654348d326746436168a1]\n",
       "cluster E6--><a href=\"psysml:1d10ff1d-94f3-4fcc-ad21-5a3c75a7ba0b\" target=\"_top\" title=\"psysml:1d10ff1d-94f3-4fcc-ad21-5a3c75a7ba0b\" xlink:actuate=\"onRequest\" xlink:href=\"psysml:1d10ff1d-94f3-4fcc-ad21-5a3c75a7ba0b\" xlink:show=\"new\" xlink:title=\"psysml:1d10ff1d-94f3-4fcc-ad21-5a3c75a7ba0b\" xlink:type=\"simple\"><rect fill=\"#FFFFFF\" filter=\"url(#f17jdyiojszevx)\" height=\"87.72\" id=\"E6\" rx=\"10\" ry=\"10\" style=\"stroke: #A80036; stroke-width: 1.5;\" width=\"101\" x=\"251.75\" y=\"42.0986\"/><rect fill=\"#FEFECE\" height=\"37.9375\" rx=\"10\" ry=\"10\" style=\"stroke: #FEFECE; stroke-width: 1.5;\" width=\"101\" x=\"251.75\" y=\"42.0986\"/><rect fill=\"#FEFECE\" height=\"10\" style=\"stroke: #FEFECE; stroke-width: 1.5;\" width=\"101\" x=\"251.75\" y=\"70.0361\"/><rect fill=\"none\" height=\"87.72\" id=\"E6\" rx=\"10\" ry=\"10\" style=\"stroke: #A80036; stroke-width: 1.5;\" width=\"101\" x=\"251.75\" y=\"42.0986\"/><text fill=\"#000000\" font-family=\"sans-serif\" font-size=\"12\" font-style=\"italic\" lengthAdjust=\"spacingAndGlyphs\" textLength=\"82\" x=\"261.25\" y=\"58.2373\">«calculation»</text><text fill=\"#000000\" font-family=\"sans-serif\" font-size=\"12\" lengthAdjust=\"spacingAndGlyphs\" textLength=\"18\" x=\"293.25\" y=\"72.2061\">ms</text><line style=\"stroke: #A80036; stroke-width: 1.0;\" x1=\"251.75\" x2=\"352.75\" y1=\"80.0361\" y2=\"80.0361\"/></a><!--MD5=[7f149f147074ac12df2cb0a7728a5fb0]\n",
       "cluster E9--><a href=\"psysml:86e0ef61-a473-4ef3-8b23-ebbfee168e1c\" target=\"_top\" title=\"psysml:86e0ef61-a473-4ef3-8b23-ebbfee168e1c\" xlink:actuate=\"onRequest\" xlink:href=\"psysml:86e0ef61-a473-4ef3-8b23-ebbfee168e1c\" xlink:show=\"new\" xlink:title=\"psysml:86e0ef61-a473-4ef3-8b23-ebbfee168e1c\" xlink:type=\"simple\"><rect fill=\"#FFFFFF\" filter=\"url(#f17jdyiojszevx)\" height=\"87.72\" id=\"E9\" style=\"stroke: #A80036; stroke-width: 1.5;\" width=\"127\" x=\"410.25\" y=\"42.0986\"/><rect fill=\"#FEFECE\" height=\"37.9375\" style=\"stroke: #A80036; stroke-width: 1.5;\" width=\"127\" x=\"410.25\" y=\"42.0986\"/><text fill=\"#000000\" font-family=\"sans-serif\" font-size=\"12\" font-style=\"italic\" lengthAdjust=\"spacingAndGlyphs\" textLength=\"106\" x=\"420.75\" y=\"58.2373\">«calculation def»</text><text fill=\"#000000\" font-family=\"sans-serif\" font-size=\"12\" lengthAdjust=\"spacingAndGlyphs\" textLength=\"67\" x=\"440.25\" y=\"72.2061\">MassSum1</text></a><!--MD5=[47bea60c1a0ac6c1143df232041969c0]\n",
       "cluster E12--><a href=\"psysml:5bbc6089-c972-4222-8f32-76d519ddb8cd\" target=\"_top\" title=\"psysml:5bbc6089-c972-4222-8f32-76d519ddb8cd\" xlink:actuate=\"onRequest\" xlink:href=\"psysml:5bbc6089-c972-4222-8f32-76d519ddb8cd\" xlink:show=\"new\" xlink:title=\"psysml:5bbc6089-c972-4222-8f32-76d519ddb8cd\" xlink:type=\"simple\"><rect fill=\"#FFFFFF\" filter=\"url(#f17jdyiojszevx)\" height=\"87.72\" id=\"E12\" rx=\"10\" ry=\"10\" style=\"stroke: #A80036; stroke-width: 1.5;\" width=\"138\" x=\"526\" y=\"42.0986\"/><rect fill=\"#FEFECE\" height=\"37.9375\" rx=\"10\" ry=\"10\" style=\"stroke: #FEFECE; stroke-width: 1.5;\" width=\"138\" x=\"526\" y=\"42.0986\"/><rect fill=\"#FEFECE\" height=\"10\" style=\"stroke: #FEFECE; stroke-width: 1.5;\" width=\"138\" x=\"526\" y=\"70.0361\"/><rect fill=\"none\" height=\"87.72\" id=\"E12\" rx=\"10\" ry=\"10\" style=\"stroke: #A80036; stroke-width: 1.5;\" width=\"138\" x=\"526\" y=\"42.0986\"/><text fill=\"#000000\" font-family=\"sans-serif\" font-size=\"12\" font-style=\"italic\" lengthAdjust=\"spacingAndGlyphs\" textLength=\"82\" x=\"554\" y=\"58.2373\">«calculation»</text><text fill=\"#000000\" font-family=\"sans-serif\" font-size=\"12\" lengthAdjust=\"spacingAndGlyphs\" textLength=\"26\" x=\"582\" y=\"72.2061\">ms1</text><line style=\"stroke: #A80036; stroke-width: 1.0;\" x1=\"526\" x2=\"664\" y1=\"80.0361\" y2=\"80.0361\"/></a><text fill=\"#000000\" font-family=\"sans-serif\" font-size=\"14\" lengthAdjust=\"spacingAndGlyphs\" textLength=\"80\" x=\"6\" y=\"20.7969\">partMasses</text><rect fill=\"#A80036\" height=\"12\" style=\"stroke: #FEFECE; stroke-width: 1.5;\" width=\"12\" x=\"40\" y=\"36.0986\"/><text fill=\"#000000\" font-family=\"sans-serif\" font-size=\"14\" lengthAdjust=\"spacingAndGlyphs\" textLength=\"66\" x=\"54\" y=\"148.8138\">totalMass</text><rect fill=\"#A80036\" height=\"12\" style=\"stroke: #FEFECE; stroke-width: 1.5;\" width=\"12\" x=\"81\" y=\"123.8186\"/><text fill=\"#000000\" font-family=\"sans-serif\" font-size=\"14\" lengthAdjust=\"spacingAndGlyphs\" textLength=\"75\" x=\"100.5\" y=\"20.7969\">$collection</text><rect fill=\"#A80036\" height=\"12\" style=\"stroke: #FEFECE; stroke-width: 1.5;\" width=\"12\" x=\"132\" y=\"36.0986\"/><text fill=\"#000000\" font-family=\"sans-serif\" font-size=\"14\" lengthAdjust=\"spacingAndGlyphs\" textLength=\"48\" x=\"110\" y=\"148.8138\">$result</text><rect fill=\"#A80036\" height=\"12\" style=\"stroke: #FEFECE; stroke-width: 1.5;\" width=\"12\" x=\"128\" y=\"123.8186\"/><text fill=\"#000000\" font-family=\"sans-serif\" font-size=\"14\" lengthAdjust=\"spacingAndGlyphs\" textLength=\"80\" x=\"235\" y=\"20.7969\">partMasses</text><rect fill=\"#A80036\" height=\"12\" style=\"stroke: #FEFECE; stroke-width: 1.5;\" width=\"12\" x=\"269\" y=\"36.0986\"/><text fill=\"#000000\" font-family=\"sans-serif\" font-size=\"14\" lengthAdjust=\"spacingAndGlyphs\" textLength=\"66\" x=\"238\" y=\"148.8138\">totalMass</text><rect fill=\"#A80036\" height=\"12\" style=\"stroke: #FEFECE; stroke-width: 1.5;\" width=\"12\" x=\"265\" y=\"123.8186\"/><text fill=\"#000000\" font-family=\"sans-serif\" font-size=\"14\" lengthAdjust=\"spacingAndGlyphs\" textLength=\"80\" x=\"395\" y=\"20.7969\">partMasses</text><rect fill=\"#A80036\" height=\"12\" style=\"stroke: #FEFECE; stroke-width: 1.5;\" width=\"12\" x=\"429\" y=\"36.0986\"/><text fill=\"#000000\" font-family=\"sans-serif\" font-size=\"14\" lengthAdjust=\"spacingAndGlyphs\" textLength=\"66\" x=\"398\" y=\"148.8138\">totalMass</text><rect fill=\"#A80036\" height=\"12\" style=\"stroke: #FEFECE; stroke-width: 1.5;\" width=\"12\" x=\"425\" y=\"123.8186\"/><text fill=\"#000000\" font-family=\"sans-serif\" font-size=\"14\" lengthAdjust=\"spacingAndGlyphs\" textLength=\"80\" x=\"555\" y=\"20.7969\">partMasses</text><rect fill=\"#A80036\" height=\"12\" style=\"stroke: #FEFECE; stroke-width: 1.5;\" width=\"12\" x=\"589\" y=\"36.0986\"/><text fill=\"#000000\" font-family=\"sans-serif\" font-size=\"14\" lengthAdjust=\"spacingAndGlyphs\" textLength=\"66\" x=\"562\" y=\"148.8138\">totalMass</text><rect fill=\"#A80036\" height=\"12\" style=\"stroke: #FEFECE; stroke-width: 1.5;\" width=\"12\" x=\"589\" y=\"123.8186\"/><!--MD5=[0188b64bb0ae78505a997a81836e11e9]\n",
       "link E3 to E5--><a href=\"psysml:5b55f712-f9b6-4e15-aeab-345c960b0653\" target=\"_top\" title=\"psysml:5b55f712-f9b6-4e15-aeab-345c960b0653\" xlink:actuate=\"onRequest\" xlink:href=\"psysml:5b55f712-f9b6-4e15-aeab-345c960b0653\" xlink:show=\"new\" xlink:title=\"psysml:5b55f712-f9b6-4e15-aeab-345c960b0653\" xlink:type=\"simple\"><path d=\"M93.24,127.7486 C104.81,124.4886 116.38,124.5086 127.95,127.7986 \" fill=\"none\" id=\"E3-E5\" style=\"stroke: #FF0000; stroke-width: 5.0;\"/></a><!--MD5=[04076f9bd54a0269ff8dc6953a5636cd]\n",
       "@startuml\r\n",
       "skinparam ranksep 8\r\n",
       "skinparam wrapWidth 300\r\n",
       "hide circle\r\n",
       "\r\n",
       "rec def \"MassSum\" as E1  <<(T,blue)calculation def>> [[psysml:8857df12-96f9-4753-a6e3-dc799dcb9ed4 ]] {\r\n",
       "portin \"partMasses\" as E2  [[psysml:8ae5fd16-1397-4172-a6e5-0c084d8d7ca2 ]] \r\n",
       "portout \"totalMass\" as E3  [[psysml:5f15c55d-7a56-4485-be6d-5834d49cebc1 ]] \r\n",
       "portin \"$collection\" as E4  [[psysml:61806866-d159-447e-b132-fa56be682adf ]] \r\n",
       "portout \"$result\" as E5  [[psysml:6ddb7e29-61e7-4184-8db5-61f90a0c49bf ]] \r\n",
       "}\r\n",
       "\r\n",
       "E3 -[thickness=5,#red]- E5 [[psysml:5b55f712-f9b6-4e15-aeab-345c960b0653 ]] \r\n",
       "rec usage \"ms\" as E6  <<(T,blue)calculation>> [[psysml:1d10ff1d-94f3-4fcc-ad21-5a3c75a7ba0b ]] {\r\n",
       "portin \"partMasses\" as E7  [[psysml:a2c0aed5-a65e-46d5-90c0-ba8b1517610c ]] \r\n",
       "portout \"totalMass\" as E8  [[psysml:76889a80-c5e0-422b-b2ce-fdc6eabdf747 ]] \r\n",
       "}\r\n",
       "\r\n",
       "rec def \"MassSum1\" as E9  <<(T,blue)calculation def>> [[psysml:86e0ef61-a473-4ef3-8b23-ebbfee168e1c ]] {\r\n",
       "portin \"partMasses\" as E10  [[psysml:44765cb5-91e3-4973-8d66-b6f2e5bbf87d ]] \r\n",
       "portout \"totalMass\" as E11  [[psysml:8a0a1f2d-4441-4a8a-b849-a96ed87f36a5 ]] \r\n",
       "}\r\n",
       "\r\n",
       "rec usage \"ms1\" as E12  <<(T,blue)calculation>> [[psysml:5bbc6089-c972-4222-8f32-76d519ddb8cd ]] {\r\n",
       "portin \"partMasses\" as E13  [[psysml:bceb4c61-ae51-43e8-95f6-5db7102a1a6d ]] \r\n",
       "portout \"totalMass\" as E14  [[psysml:18f22934-19d9-4087-8718-e35a3f9b5ce2 ]] \r\n",
       "}\r\n",
       "\r\n",
       "@enduml\r\n",
       "\n",
       "PlantUML version 1.2020.13(Sat Jun 13 12:26:38 UTC 2020)\n",
       "(EPL source distribution)\n",
       "Java Runtime: OpenJDK Runtime Environment\n",
       "JVM: OpenJDK 64-Bit Server VM\n",
       "Default Encoding: UTF-8\n",
       "Language: en\n",
       "Country: null\n",
       "--></g></svg>"
      ]
     },
     "execution_count": 27,
     "metadata": {},
     "output_type": "execute_result"
    }
   ],
   "source": [
    "%viz --style=\"STDCOLOR\" --view=\"Action\" \"CalculationExample\""
   ]
  },
  {
   "cell_type": "code",
   "execution_count": 28,
   "id": "expanded-politics",
   "metadata": {
    "execution": {
     "iopub.execute_input": "2021-03-26T09:15:57.967798Z",
     "iopub.status.busy": "2021-03-26T09:15:57.967392Z",
     "iopub.status.idle": "2021-03-26T09:15:58.022867Z",
     "shell.execute_reply": "2021-03-26T09:15:58.021406Z"
    }
   },
   "outputs": [
    {
     "data": {
      "image/svg+xml": [
       "<?xml version=\"1.0\" encoding=\"UTF-8\" standalone=\"no\"?><svg xmlns=\"http://www.w3.org/2000/svg\" xmlns:xlink=\"http://www.w3.org/1999/xlink\" contentScriptType=\"application/ecmascript\" contentStyleType=\"text/css\" height=\"260px\" preserveAspectRatio=\"none\" style=\"width:607px;height:260px;\" version=\"1.1\" viewBox=\"0 0 607 260\" width=\"607px\" zoomAndPan=\"magnify\"><defs><filter height=\"300%\" id=\"fo2tum3slrovi\" width=\"300%\" x=\"-1\" y=\"-1\"><feGaussianBlur result=\"blurOut\" stdDeviation=\"2.0\"/><feColorMatrix in=\"blurOut\" result=\"blurOut2\" type=\"matrix\" values=\"0 0 0 0 0 0 0 0 0 0 0 0 0 0 0 0 0 0 .4 0\"/><feOffset dx=\"4.0\" dy=\"4.0\" in=\"blurOut2\" result=\"blurOut3\"/><feBlend in=\"SourceGraphic\" in2=\"blurOut3\" mode=\"normal\"/></filter></defs><g><!--MD5=[fbc87193dbaf4d95561dea2c320d4a47]\n",
       "cluster E1--><a href=\"psysml:7249bcac-c63a-48a6-adec-7cf675138100\" target=\"_top\" title=\"psysml:7249bcac-c63a-48a6-adec-7cf675138100\" xlink:actuate=\"onRequest\" xlink:href=\"psysml:7249bcac-c63a-48a6-adec-7cf675138100\" xlink:show=\"new\" xlink:title=\"psysml:7249bcac-c63a-48a6-adec-7cf675138100\" xlink:type=\"simple\"><polygon fill=\"#FFFFFF\" filter=\"url(#fo2tum3slrovi)\" points=\"16,6,173,6,180,28.2969,585,28.2969,585,248,16,248,16,6\" style=\"stroke: #000000; stroke-width: 1.5;\"/><line style=\"stroke: #000000; stroke-width: 1.5;\" x1=\"16\" x2=\"180\" y1=\"28.2969\" y2=\"28.2969\"/><text fill=\"#000000\" font-family=\"sans-serif\" font-size=\"14\" font-weight=\"bold\" lengthAdjust=\"spacingAndGlyphs\" textLength=\"151\" x=\"20\" y=\"20.9951\">CalculationExample</text></a><!--MD5=[b4997ac47864f28c2f74865a473b2911]\n",
       "class E2--><a href=\"psysml:14188455-78e6-45cf-9446-0197417271d8\" target=\"_top\" title=\"psysml:14188455-78e6-45cf-9446-0197417271d8\" xlink:actuate=\"onRequest\" xlink:href=\"psysml:14188455-78e6-45cf-9446-0197417271d8\" xlink:show=\"new\" xlink:title=\"psysml:14188455-78e6-45cf-9446-0197417271d8\" xlink:type=\"simple\"><rect fill=\"#FEFECE\" filter=\"url(#fo2tum3slrovi)\" height=\"58.7422\" id=\"E2\" rx=\"10\" ry=\"10\" style=\"stroke: #A80036; stroke-width: 1.5;\" width=\"92\" x=\"477\" y=\"47.5\"/><text fill=\"#000000\" font-family=\"sans-serif\" font-size=\"12\" font-style=\"italic\" lengthAdjust=\"spacingAndGlyphs\" textLength=\"40\" x=\"503\" y=\"63.6387\">«part»</text><text fill=\"#000000\" font-family=\"sans-serif\" font-size=\"12\" lengthAdjust=\"spacingAndGlyphs\" textLength=\"43\" x=\"501.5\" y=\"77.6074\">vehicle</text><line style=\"stroke: #A80036; stroke-width: 1.5;\" x1=\"478\" x2=\"568\" y1=\"85.4375\" y2=\"85.4375\"/><text fill=\"#000000\" font-family=\"sans-serif\" font-size=\"11\" lengthAdjust=\"spacingAndGlyphs\" textLength=\"80\" x=\"483\" y=\"99.6479\">m: MassValue</text></a><!--MD5=[09b614a08d8cba4a07c9adeb5e0fee81]\n",
       "class E3--><a href=\"psysml:5beb719b-2071-4403-a403-a4a2a93a4090\" target=\"_top\" title=\"psysml:5beb719b-2071-4403-a403-a4a2a93a4090\" xlink:actuate=\"onRequest\" xlink:href=\"psysml:5beb719b-2071-4403-a403-a4a2a93a4090\" xlink:show=\"new\" xlink:title=\"psysml:5beb719b-2071-4403-a403-a4a2a93a4090\" xlink:type=\"simple\"><rect fill=\"#FEFECE\" filter=\"url(#fo2tum3slrovi)\" height=\"58.7422\" id=\"E3\" rx=\"10\" ry=\"10\" style=\"stroke: #A80036; stroke-width: 1.5;\" width=\"92\" x=\"350\" y=\"173\"/><text fill=\"#000000\" font-family=\"sans-serif\" font-size=\"12\" font-style=\"italic\" lengthAdjust=\"spacingAndGlyphs\" textLength=\"40\" x=\"376\" y=\"189.1387\">«part»</text><text fill=\"#000000\" font-family=\"sans-serif\" font-size=\"12\" lengthAdjust=\"spacingAndGlyphs\" textLength=\"24\" x=\"384\" y=\"203.1074\">eng</text><line style=\"stroke: #A80036; stroke-width: 1.5;\" x1=\"351\" x2=\"441\" y1=\"210.9375\" y2=\"210.9375\"/><text fill=\"#000000\" font-family=\"sans-serif\" font-size=\"11\" lengthAdjust=\"spacingAndGlyphs\" textLength=\"80\" x=\"356\" y=\"225.1479\">m: MassValue</text></a><!--MD5=[ebbe1d658d1005bcc118a6aa81145e00]\n",
       "class E4--><a href=\"psysml:48862a39-11e7-4605-8aed-a0acf63d7872\" target=\"_top\" title=\"psysml:48862a39-11e7-4605-8aed-a0acf63d7872\" xlink:actuate=\"onRequest\" xlink:href=\"psysml:48862a39-11e7-4605-8aed-a0acf63d7872\" xlink:show=\"new\" xlink:title=\"psysml:48862a39-11e7-4605-8aed-a0acf63d7872\" xlink:type=\"simple\"><rect fill=\"#FEFECE\" filter=\"url(#fo2tum3slrovi)\" height=\"58.7422\" id=\"E4\" rx=\"10\" ry=\"10\" style=\"stroke: #A80036; stroke-width: 1.5;\" width=\"92\" x=\"477\" y=\"173\"/><text fill=\"#000000\" font-family=\"sans-serif\" font-size=\"12\" font-style=\"italic\" lengthAdjust=\"spacingAndGlyphs\" textLength=\"40\" x=\"503\" y=\"189.1387\">«part»</text><text fill=\"#000000\" font-family=\"sans-serif\" font-size=\"12\" lengthAdjust=\"spacingAndGlyphs\" textLength=\"33\" x=\"506.5\" y=\"203.1074\">trans</text><line style=\"stroke: #A80036; stroke-width: 1.5;\" x1=\"478\" x2=\"568\" y1=\"210.9375\" y2=\"210.9375\"/><text fill=\"#000000\" font-family=\"sans-serif\" font-size=\"11\" lengthAdjust=\"spacingAndGlyphs\" textLength=\"80\" x=\"483\" y=\"225.1479\">m: MassValue</text></a><!--MD5=[270fce915f116d4de14055a7c1d9a0f3]\n",
       "class E5--><a href=\"psysml:8857df12-96f9-4753-a6e3-dc799dcb9ed4\" target=\"_top\" title=\"psysml:8857df12-96f9-4753-a6e3-dc799dcb9ed4\" xlink:actuate=\"onRequest\" xlink:href=\"psysml:8857df12-96f9-4753-a6e3-dc799dcb9ed4\" xlink:show=\"new\" xlink:title=\"psysml:8857df12-96f9-4753-a6e3-dc799dcb9ed4\" xlink:type=\"simple\"><rect fill=\"#FEFECE\" filter=\"url(#fo2tum3slrovi)\" height=\"45.9375\" id=\"E5\" style=\"stroke: #A80036; stroke-width: 1.5;\" width=\"108\" x=\"120\" y=\"179.5\"/><text fill=\"#000000\" font-family=\"sans-serif\" font-size=\"12\" font-style=\"italic\" lengthAdjust=\"spacingAndGlyphs\" textLength=\"106\" x=\"121\" y=\"195.6387\">«calculation def»</text><text fill=\"#000000\" font-family=\"sans-serif\" font-size=\"12\" lengthAdjust=\"spacingAndGlyphs\" textLength=\"59\" x=\"144.5\" y=\"209.6074\">MassSum</text><line style=\"stroke: #A80036; stroke-width: 1.5;\" x1=\"121\" x2=\"227\" y1=\"217.4375\" y2=\"217.4375\"/></a><!--MD5=[60a26617385b1d2d0262a64233df1f8d]\n",
       "class E6--><a href=\"psysml:1d10ff1d-94f3-4fcc-ad21-5a3c75a7ba0b\" target=\"_top\" title=\"psysml:1d10ff1d-94f3-4fcc-ad21-5a3c75a7ba0b\" xlink:actuate=\"onRequest\" xlink:href=\"psysml:1d10ff1d-94f3-4fcc-ad21-5a3c75a7ba0b\" xlink:show=\"new\" xlink:title=\"psysml:1d10ff1d-94f3-4fcc-ad21-5a3c75a7ba0b\" xlink:type=\"simple\"><rect fill=\"#FEFECE\" filter=\"url(#fo2tum3slrovi)\" height=\"45.9375\" id=\"E6\" rx=\"10\" ry=\"10\" style=\"stroke: #A80036; stroke-width: 1.5;\" width=\"91\" x=\"350.5\" y=\"54\"/><text fill=\"#000000\" font-family=\"sans-serif\" font-size=\"12\" font-style=\"italic\" lengthAdjust=\"spacingAndGlyphs\" textLength=\"82\" x=\"355\" y=\"70.1387\">«calculation»</text><text fill=\"#000000\" font-family=\"sans-serif\" font-size=\"12\" lengthAdjust=\"spacingAndGlyphs\" textLength=\"85\" x=\"353.5\" y=\"84.1074\">ms: MassSum</text><line style=\"stroke: #A80036; stroke-width: 1.5;\" x1=\"351.5\" x2=\"440.5\" y1=\"91.9375\" y2=\"91.9375\"/></a><!--MD5=[2156ba9850f5573cc1fc38a6a4b2f02b]\n",
       "class E7--><a href=\"psysml:86e0ef61-a473-4ef3-8b23-ebbfee168e1c\" target=\"_top\" title=\"psysml:86e0ef61-a473-4ef3-8b23-ebbfee168e1c\" xlink:actuate=\"onRequest\" xlink:href=\"psysml:86e0ef61-a473-4ef3-8b23-ebbfee168e1c\" xlink:show=\"new\" xlink:title=\"psysml:86e0ef61-a473-4ef3-8b23-ebbfee168e1c\" xlink:type=\"simple\"><rect fill=\"#FEFECE\" filter=\"url(#fo2tum3slrovi)\" height=\"71.5469\" id=\"E7\" style=\"stroke: #A80036; stroke-width: 1.5;\" width=\"148\" x=\"167\" y=\"41\"/><text fill=\"#000000\" font-family=\"sans-serif\" font-size=\"12\" font-style=\"italic\" lengthAdjust=\"spacingAndGlyphs\" textLength=\"106\" x=\"188\" y=\"57.1387\">«calculation def»</text><text fill=\"#000000\" font-family=\"sans-serif\" font-size=\"12\" lengthAdjust=\"spacingAndGlyphs\" textLength=\"67\" x=\"207.5\" y=\"71.1074\">MassSum1</text><line style=\"stroke: #A80036; stroke-width: 1.5;\" x1=\"168\" x2=\"314\" y1=\"78.9375\" y2=\"78.9375\"/><text fill=\"#000000\" font-family=\"sans-serif\" font-size=\"11\" lengthAdjust=\"spacingAndGlyphs\" textLength=\"136\" x=\"173\" y=\"93.1479\">partMasses: MassValue</text><text fill=\"#000000\" font-family=\"sans-serif\" font-size=\"11\" lengthAdjust=\"spacingAndGlyphs\" textLength=\"124\" x=\"173\" y=\"105.9526\">totalMass: MassValue</text></a><!--MD5=[b9389687b975829384b498ac4b7476b2]\n",
       "class E8--><a href=\"psysml:5bbc6089-c972-4222-8f32-76d519ddb8cd\" target=\"_top\" title=\"psysml:5bbc6089-c972-4222-8f32-76d519ddb8cd\" xlink:actuate=\"onRequest\" xlink:href=\"psysml:5bbc6089-c972-4222-8f32-76d519ddb8cd\" xlink:show=\"new\" xlink:title=\"psysml:5bbc6089-c972-4222-8f32-76d519ddb8cd\" xlink:type=\"simple\"><rect fill=\"#FEFECE\" filter=\"url(#fo2tum3slrovi)\" height=\"71.5469\" id=\"E8\" rx=\"10\" ry=\"10\" style=\"stroke: #A80036; stroke-width: 1.5;\" width=\"99\" x=\"32.5\" y=\"41\"/><text fill=\"#000000\" font-family=\"sans-serif\" font-size=\"12\" font-style=\"italic\" lengthAdjust=\"spacingAndGlyphs\" textLength=\"82\" x=\"41\" y=\"57.1387\">«calculation»</text><text fill=\"#000000\" font-family=\"sans-serif\" font-size=\"12\" lengthAdjust=\"spacingAndGlyphs\" textLength=\"93\" x=\"35.5\" y=\"71.1074\">ms1: MassSum</text><line style=\"stroke: #A80036; stroke-width: 1.5;\" x1=\"33.5\" x2=\"130.5\" y1=\"78.9375\" y2=\"78.9375\"/><text fill=\"#000000\" font-family=\"sans-serif\" font-size=\"11\" lengthAdjust=\"spacingAndGlyphs\" textLength=\"67\" x=\"38.5\" y=\"93.1479\">partMasses</text><text fill=\"#000000\" font-family=\"sans-serif\" font-size=\"11\" lengthAdjust=\"spacingAndGlyphs\" textLength=\"55\" x=\"38.5\" y=\"105.9526\">totalMass</text></a><!--MD5=[209b3feb70ccb6233bfe1053d122c12c]\n",
       "reverse link E2 to E3--><a href=\"psysml:5beb719b-2071-4403-a403-a4a2a93a4090\" target=\"_top\" title=\"psysml:5beb719b-2071-4403-a403-a4a2a93a4090\" xlink:actuate=\"onRequest\" xlink:href=\"psysml:5beb719b-2071-4403-a403-a4a2a93a4090\" xlink:show=\"new\" xlink:title=\"psysml:5beb719b-2071-4403-a403-a4a2a93a4090\" xlink:type=\"simple\"><path d=\"M484.08,115.85 C465.3,134.11 443.13,155.66 425.74,172.58 \" fill=\"none\" id=\"E2&lt;-E3\" style=\"stroke: #A80036; stroke-width: 1.0;\"/><polygon fill=\"#A80036\" points=\"493.54,106.64,486.4499,107.9553,484.937,115.0059,492.0271,113.6906,493.54,106.64\" style=\"stroke: #A80036; stroke-width: 1.0;\"/></a><!--MD5=[9618e71518536f8baf3342ff6fdab317]\n",
       "reverse link E2 to E4--><a href=\"psysml:48862a39-11e7-4605-8aed-a0acf63d7872\" target=\"_top\" title=\"psysml:48862a39-11e7-4605-8aed-a0acf63d7872\" xlink:actuate=\"onRequest\" xlink:href=\"psysml:48862a39-11e7-4605-8aed-a0acf63d7872\" xlink:show=\"new\" xlink:title=\"psysml:48862a39-11e7-4605-8aed-a0acf63d7872\" xlink:type=\"simple\"><path d=\"M523,119.66 C523,137.05 523,156.83 523,172.58 \" fill=\"none\" id=\"E2&lt;-E4\" style=\"stroke: #A80036; stroke-width: 1.0;\"/><polygon fill=\"#A80036\" points=\"523,106.64,519,112.64,523,118.64,527,112.64,523,106.64\" style=\"stroke: #A80036; stroke-width: 1.0;\"/></a><!--MD5=[25b190c987b1e74e5126d372c5a73af1]\n",
       "link E6 to E5--><a href=\"psysml:9917c25f-6195-4027-a1da-c593e3e3b530\" target=\"_top\" title=\"psysml:9917c25f-6195-4027-a1da-c593e3e3b530\" xlink:actuate=\"onRequest\" xlink:href=\"psysml:9917c25f-6195-4027-a1da-c593e3e3b530\" xlink:show=\"new\" xlink:title=\"psysml:9917c25f-6195-4027-a1da-c593e3e3b530\" xlink:type=\"simple\"><path d=\"M356.31,100.08 C321.53,119.43 270.56,147.78 231.35,169.59 \" fill=\"none\" id=\"E6-&gt;E5\" style=\"stroke: #A80036; stroke-width: 1.0;\"/><polygon fill=\"#FFFFFF\" points=\"213.72,179.4,226.9199,164.0454,233.7265,176.2794,213.72,179.4\" style=\"stroke: #A80036; stroke-width: 1.0;\"/><ellipse cx=\"232.8733\" cy=\"163.0219\" fill=\"#A80036\" rx=\"2\" ry=\"2\" style=\"stroke: #A80036; stroke-width: 1.0;\"/><ellipse cx=\"237.7351\" cy=\"171.7604\" fill=\"#A80036\" rx=\"2\" ry=\"2\" style=\"stroke: #A80036; stroke-width: 1.0;\"/></a><!--MD5=[1ccb2481ffa92f8d51a74ee30c51832a]\n",
       "link E8 to E5--><a href=\"psysml:bf4de082-8867-4b4d-b459-dc33df5641b4\" target=\"_top\" title=\"psysml:bf4de082-8867-4b4d-b459-dc33df5641b4\" xlink:actuate=\"onRequest\" xlink:href=\"psysml:bf4de082-8867-4b4d-b459-dc33df5641b4\" xlink:show=\"new\" xlink:title=\"psysml:bf4de082-8867-4b4d-b459-dc33df5641b4\" xlink:type=\"simple\"><path d=\"M108.12,113.06 C119.74,128.67 133.47,147.09 145.37,163.07 \" fill=\"none\" id=\"E8-&gt;E5\" style=\"stroke: #A80036; stroke-width: 1.0;\"/><polygon fill=\"#FFFFFF\" points=\"157.39,179.2,140.4231,168.1491,151.6482,159.7827,157.39,179.2\" style=\"stroke: #A80036; stroke-width: 1.0;\"/><ellipse cx=\"138.6203\" cy=\"162.3836\" fill=\"#A80036\" rx=\"2\" ry=\"2\" style=\"stroke: #A80036; stroke-width: 1.0;\"/><ellipse cx=\"146.6383\" cy=\"156.4077\" fill=\"#A80036\" rx=\"2\" ry=\"2\" style=\"stroke: #A80036; stroke-width: 1.0;\"/></a><!--MD5=[355693bd39e2b32b74512e4cce488126]\n",
       "@startuml\r\n",
       "skinparam wrapWidth 300\r\n",
       "hide circle\r\n",
       "\r\n",
       "package \"CalculationExample\" as E1  [[psysml:7249bcac-c63a-48a6-adec-7cf675138100 ]]  {\r\n",
       "comp usage \"vehicle\" as E2  <<(T,blue)part>> [[psysml:14188455-78e6-45cf-9446-0197417271d8 ]] {\r\n",
       "m: MassValue\r\n",
       "}\r\n",
       "comp usage \"eng\" as E3  <<(T,blue)part>> [[psysml:5beb719b-2071-4403-a403-a4a2a93a4090 ]] {\r\n",
       "m: MassValue\r\n",
       "}\r\n",
       "comp usage \"trans\" as E4  <<(T,blue)part>> [[psysml:48862a39-11e7-4605-8aed-a0acf63d7872 ]] {\r\n",
       "m: MassValue\r\n",
       "}\r\n",
       "comp def \"MassSum\" as E5  <<(T,blue)calculation def>> [[psysml:8857df12-96f9-4753-a6e3-dc799dcb9ed4 ]] {\r\n",
       "}\r\n",
       "comp usage \"ms: MassSum\" as E6  <<(T,blue)calculation>> [[psysml:1d10ff1d-94f3-4fcc-ad21-5a3c75a7ba0b ]] {\r\n",
       "}\r\n",
       "comp def \"MassSum1\" as E7  <<(T,blue)calculation def>> [[psysml:86e0ef61-a473-4ef3-8b23-ebbfee168e1c ]] {\r\n",
       "partMasses: MassValue\r\n",
       "totalMass: MassValue\r\n",
       "}\r\n",
       "comp usage \"ms1: MassSum\" as E8  <<(T,blue)calculation>> [[psysml:5bbc6089-c972-4222-8f32-76d519ddb8cd ]] {\r\n",
       "partMasses\r\n",
       "totalMass\r\n",
       "}\r\n",
       "E2 *- - E3 [[psysml:5beb719b-2071-4403-a403-a4a2a93a4090 ]] \r\n",
       "E2 *- - E4 [[psysml:48862a39-11e7-4605-8aed-a0acf63d7872 ]] \r\n",
       "E6 - -:|> E5 [[psysml:9917c25f-6195-4027-a1da-c593e3e3b530 ]] \r\n",
       "E8 - -:|> E5 [[psysml:bf4de082-8867-4b4d-b459-dc33df5641b4 ]] \r\n",
       "}\r\n",
       "@enduml\r\n",
       "\n",
       "PlantUML version 1.2020.13(Sat Jun 13 12:26:38 UTC 2020)\n",
       "(EPL source distribution)\n",
       "Java Runtime: OpenJDK Runtime Environment\n",
       "JVM: OpenJDK 64-Bit Server VM\n",
       "Default Encoding: UTF-8\n",
       "Language: en\n",
       "Country: null\n",
       "--></g></svg>"
      ]
     },
     "execution_count": 28,
     "metadata": {},
     "output_type": "execute_result"
    }
   ],
   "source": [
    "%viz --style=\"STDCOLOR\" --view=\"Sequence\" \"CalculationExample\""
   ]
  },
  {
   "cell_type": "code",
   "execution_count": 29,
   "id": "alert-bernard",
   "metadata": {
    "execution": {
     "iopub.execute_input": "2021-03-26T09:15:58.075324Z",
     "iopub.status.busy": "2021-03-26T09:15:58.074567Z",
     "iopub.status.idle": "2021-03-26T09:15:58.133868Z",
     "shell.execute_reply": "2021-03-26T09:15:58.132408Z"
    }
   },
   "outputs": [
    {
     "data": {
      "image/svg+xml": [
       "<?xml version=\"1.0\" encoding=\"UTF-8\" standalone=\"no\"?><svg xmlns=\"http://www.w3.org/2000/svg\" xmlns:xlink=\"http://www.w3.org/1999/xlink\" contentScriptType=\"application/ecmascript\" contentStyleType=\"text/css\" height=\"408px\" preserveAspectRatio=\"none\" style=\"width:788px;height:408px;\" version=\"1.1\" viewBox=\"0 0 788 408\" width=\"788px\" zoomAndPan=\"magnify\"><defs><filter height=\"300%\" id=\"f1764oa5bvpelg\" width=\"300%\" x=\"-1\" y=\"-1\"><feGaussianBlur result=\"blurOut\" stdDeviation=\"2.0\"/><feColorMatrix in=\"blurOut\" result=\"blurOut2\" type=\"matrix\" values=\"0 0 0 0 0 0 0 0 0 0 0 0 0 0 0 0 0 0 .4 0\"/><feOffset dx=\"4.0\" dy=\"4.0\" in=\"blurOut2\" result=\"blurOut3\"/><feBlend in=\"SourceGraphic\" in2=\"blurOut3\" mode=\"normal\"/></filter></defs><g><!--MD5=[fbc87193dbaf4d95561dea2c320d4a47]\n",
       "cluster E1--><a href=\"psysml:7249bcac-c63a-48a6-adec-7cf675138100\" target=\"_top\" title=\"psysml:7249bcac-c63a-48a6-adec-7cf675138100\" xlink:actuate=\"onRequest\" xlink:href=\"psysml:7249bcac-c63a-48a6-adec-7cf675138100\" xlink:show=\"new\" xlink:title=\"psysml:7249bcac-c63a-48a6-adec-7cf675138100\" xlink:type=\"simple\"><polygon fill=\"#FFFFFF\" filter=\"url(#f1764oa5bvpelg)\" points=\"16,6,173,6,180,28.2969,766,28.2969,766,396.72,16,396.72,16,6\" style=\"stroke: #000000; stroke-width: 1.5;\"/><line style=\"stroke: #000000; stroke-width: 1.5;\" x1=\"16\" x2=\"180\" y1=\"28.2969\" y2=\"28.2969\"/><text fill=\"#000000\" font-family=\"sans-serif\" font-size=\"14\" font-weight=\"bold\" lengthAdjust=\"spacingAndGlyphs\" textLength=\"151\" x=\"20\" y=\"20.9951\">CalculationExample</text></a><!--MD5=[de5ec2e2e8f62f467e546659f5068c88]\n",
       "cluster E5--><a href=\"psysml:8857df12-96f9-4753-a6e3-dc799dcb9ed4\" target=\"_top\" title=\"psysml:8857df12-96f9-4753-a6e3-dc799dcb9ed4\" xlink:actuate=\"onRequest\" xlink:href=\"psysml:8857df12-96f9-4753-a6e3-dc799dcb9ed4\" xlink:show=\"new\" xlink:title=\"psysml:8857df12-96f9-4753-a6e3-dc799dcb9ed4\" xlink:type=\"simple\"><rect fill=\"#FFFFFF\" filter=\"url(#f1764oa5bvpelg)\" height=\"281.72\" id=\"E5\" style=\"stroke: #A80036; stroke-width: 1.5;\" width=\"128\" x=\"155\" y=\"77\"/><rect fill=\"#FEFECE\" height=\"37.9375\" style=\"stroke: #A80036; stroke-width: 1.5;\" width=\"128\" x=\"155\" y=\"77\"/><text fill=\"#000000\" font-family=\"sans-serif\" font-size=\"12\" font-style=\"italic\" lengthAdjust=\"spacingAndGlyphs\" textLength=\"106\" x=\"166\" y=\"93.1387\">«calculation def»</text><text fill=\"#000000\" font-family=\"sans-serif\" font-size=\"12\" lengthAdjust=\"spacingAndGlyphs\" textLength=\"59\" x=\"189.5\" y=\"107.1074\">MassSum</text></a><!--MD5=[917b9dd0c7eca3ee5f47219d1a84c0ad]\n",
       "cluster E11--><a href=\"psysml:86e0ef61-a473-4ef3-8b23-ebbfee168e1c\" target=\"_top\" title=\"psysml:86e0ef61-a473-4ef3-8b23-ebbfee168e1c\" xlink:actuate=\"onRequest\" xlink:href=\"psysml:86e0ef61-a473-4ef3-8b23-ebbfee168e1c\" xlink:show=\"new\" xlink:title=\"psysml:86e0ef61-a473-4ef3-8b23-ebbfee168e1c\" xlink:type=\"simple\"><rect fill=\"#FFFFFF\" filter=\"url(#f1764oa5bvpelg)\" height=\"281.72\" id=\"E11\" style=\"stroke: #A80036; stroke-width: 1.5;\" width=\"166\" x=\"584\" y=\"77\"/><rect fill=\"#FEFECE\" height=\"37.9375\" style=\"stroke: #A80036; stroke-width: 1.5;\" width=\"166\" x=\"584\" y=\"77\"/><text fill=\"#000000\" font-family=\"sans-serif\" font-size=\"12\" font-style=\"italic\" lengthAdjust=\"spacingAndGlyphs\" textLength=\"106\" x=\"614\" y=\"93.1387\">«calculation def»</text><text fill=\"#000000\" font-family=\"sans-serif\" font-size=\"12\" lengthAdjust=\"spacingAndGlyphs\" textLength=\"67\" x=\"633.5\" y=\"107.1074\">MassSum1</text></a><!--MD5=[b4997ac47864f28c2f74865a473b2911]\n",
       "class E2--><a href=\"psysml:14188455-78e6-45cf-9446-0197417271d8\" target=\"_top\" title=\"psysml:14188455-78e6-45cf-9446-0197417271d8\" xlink:actuate=\"onRequest\" xlink:href=\"psysml:14188455-78e6-45cf-9446-0197417271d8\" xlink:show=\"new\" xlink:title=\"psysml:14188455-78e6-45cf-9446-0197417271d8\" xlink:type=\"simple\"><rect fill=\"#FEFECE\" filter=\"url(#f1764oa5bvpelg)\" height=\"58.7422\" id=\"E2\" rx=\"10\" ry=\"10\" style=\"stroke: #A80036; stroke-width: 1.5;\" width=\"92\" x=\"473\" y=\"47.5\"/><text fill=\"#000000\" font-family=\"sans-serif\" font-size=\"12\" font-style=\"italic\" lengthAdjust=\"spacingAndGlyphs\" textLength=\"40\" x=\"499\" y=\"63.6387\">«part»</text><text fill=\"#000000\" font-family=\"sans-serif\" font-size=\"12\" lengthAdjust=\"spacingAndGlyphs\" textLength=\"43\" x=\"497.5\" y=\"77.6074\">vehicle</text><line style=\"stroke: #A80036; stroke-width: 1.5;\" x1=\"474\" x2=\"564\" y1=\"85.4375\" y2=\"85.4375\"/><text fill=\"#000000\" font-family=\"sans-serif\" font-size=\"11\" lengthAdjust=\"spacingAndGlyphs\" textLength=\"80\" x=\"479\" y=\"99.6479\">m: MassValue</text></a><!--MD5=[09b614a08d8cba4a07c9adeb5e0fee81]\n",
       "class E3--><a href=\"psysml:5beb719b-2071-4403-a403-a4a2a93a4090\" target=\"_top\" title=\"psysml:5beb719b-2071-4403-a403-a4a2a93a4090\" xlink:actuate=\"onRequest\" xlink:href=\"psysml:5beb719b-2071-4403-a403-a4a2a93a4090\" xlink:show=\"new\" xlink:title=\"psysml:5beb719b-2071-4403-a403-a4a2a93a4090\" xlink:type=\"simple\"><rect fill=\"#FEFECE\" filter=\"url(#f1764oa5bvpelg)\" height=\"58.7422\" id=\"E3\" rx=\"10\" ry=\"10\" style=\"stroke: #A80036; stroke-width: 1.5;\" width=\"92\" x=\"346\" y=\"173\"/><text fill=\"#000000\" font-family=\"sans-serif\" font-size=\"12\" font-style=\"italic\" lengthAdjust=\"spacingAndGlyphs\" textLength=\"40\" x=\"372\" y=\"189.1387\">«part»</text><text fill=\"#000000\" font-family=\"sans-serif\" font-size=\"12\" lengthAdjust=\"spacingAndGlyphs\" textLength=\"24\" x=\"380\" y=\"203.1074\">eng</text><line style=\"stroke: #A80036; stroke-width: 1.5;\" x1=\"347\" x2=\"437\" y1=\"210.9375\" y2=\"210.9375\"/><text fill=\"#000000\" font-family=\"sans-serif\" font-size=\"11\" lengthAdjust=\"spacingAndGlyphs\" textLength=\"80\" x=\"352\" y=\"225.1479\">m: MassValue</text></a><!--MD5=[ebbe1d658d1005bcc118a6aa81145e00]\n",
       "class E4--><a href=\"psysml:48862a39-11e7-4605-8aed-a0acf63d7872\" target=\"_top\" title=\"psysml:48862a39-11e7-4605-8aed-a0acf63d7872\" xlink:actuate=\"onRequest\" xlink:href=\"psysml:48862a39-11e7-4605-8aed-a0acf63d7872\" xlink:show=\"new\" xlink:title=\"psysml:48862a39-11e7-4605-8aed-a0acf63d7872\" xlink:type=\"simple\"><rect fill=\"#FEFECE\" filter=\"url(#f1764oa5bvpelg)\" height=\"58.7422\" id=\"E4\" rx=\"10\" ry=\"10\" style=\"stroke: #A80036; stroke-width: 1.5;\" width=\"92\" x=\"473\" y=\"173\"/><text fill=\"#000000\" font-family=\"sans-serif\" font-size=\"12\" font-style=\"italic\" lengthAdjust=\"spacingAndGlyphs\" textLength=\"40\" x=\"499\" y=\"189.1387\">«part»</text><text fill=\"#000000\" font-family=\"sans-serif\" font-size=\"12\" lengthAdjust=\"spacingAndGlyphs\" textLength=\"33\" x=\"502.5\" y=\"203.1074\">trans</text><line style=\"stroke: #A80036; stroke-width: 1.5;\" x1=\"474\" x2=\"564\" y1=\"210.9375\" y2=\"210.9375\"/><text fill=\"#000000\" font-family=\"sans-serif\" font-size=\"11\" lengthAdjust=\"spacingAndGlyphs\" textLength=\"80\" x=\"479\" y=\"225.1479\">m: MassValue</text></a><!--MD5=[96f4274e9e20536e775497830990834d]\n",
       "class E10--><a href=\"psysml:1d10ff1d-94f3-4fcc-ad21-5a3c75a7ba0b\" target=\"_top\" title=\"psysml:1d10ff1d-94f3-4fcc-ad21-5a3c75a7ba0b\" xlink:actuate=\"onRequest\" xlink:href=\"psysml:1d10ff1d-94f3-4fcc-ad21-5a3c75a7ba0b\" xlink:show=\"new\" xlink:title=\"psysml:1d10ff1d-94f3-4fcc-ad21-5a3c75a7ba0b\" xlink:type=\"simple\"><rect fill=\"#FEFECE\" filter=\"url(#f1764oa5bvpelg)\" height=\"45.9375\" id=\"E10\" rx=\"10\" ry=\"10\" style=\"stroke: #A80036; stroke-width: 1.5;\" width=\"91\" x=\"346.5\" y=\"54\"/><text fill=\"#000000\" font-family=\"sans-serif\" font-size=\"12\" font-style=\"italic\" lengthAdjust=\"spacingAndGlyphs\" textLength=\"82\" x=\"351\" y=\"70.1387\">«calculation»</text><text fill=\"#000000\" font-family=\"sans-serif\" font-size=\"12\" lengthAdjust=\"spacingAndGlyphs\" textLength=\"85\" x=\"349.5\" y=\"84.1074\">ms: MassSum</text><line style=\"stroke: #A80036; stroke-width: 1.5;\" x1=\"347.5\" x2=\"436.5\" y1=\"91.9375\" y2=\"91.9375\"/></a><!--MD5=[bee11217b2f71d958a27249dc326068c]\n",
       "class E14--><a href=\"psysml:5bbc6089-c972-4222-8f32-76d519ddb8cd\" target=\"_top\" title=\"psysml:5bbc6089-c972-4222-8f32-76d519ddb8cd\" xlink:actuate=\"onRequest\" xlink:href=\"psysml:5bbc6089-c972-4222-8f32-76d519ddb8cd\" xlink:show=\"new\" xlink:title=\"psysml:5bbc6089-c972-4222-8f32-76d519ddb8cd\" xlink:type=\"simple\"><rect fill=\"#FEFECE\" filter=\"url(#f1764oa5bvpelg)\" height=\"71.5469\" id=\"E14\" rx=\"10\" ry=\"10\" style=\"stroke: #A80036; stroke-width: 1.5;\" width=\"99\" x=\"32.5\" y=\"41\"/><text fill=\"#000000\" font-family=\"sans-serif\" font-size=\"12\" font-style=\"italic\" lengthAdjust=\"spacingAndGlyphs\" textLength=\"82\" x=\"41\" y=\"57.1387\">«calculation»</text><text fill=\"#000000\" font-family=\"sans-serif\" font-size=\"12\" lengthAdjust=\"spacingAndGlyphs\" textLength=\"93\" x=\"35.5\" y=\"71.1074\">ms1: MassSum</text><line style=\"stroke: #A80036; stroke-width: 1.5;\" x1=\"33.5\" x2=\"130.5\" y1=\"78.9375\" y2=\"78.9375\"/><text fill=\"#000000\" font-family=\"sans-serif\" font-size=\"11\" lengthAdjust=\"spacingAndGlyphs\" textLength=\"67\" x=\"38.5\" y=\"93.1479\">partMasses</text><text fill=\"#000000\" font-family=\"sans-serif\" font-size=\"11\" lengthAdjust=\"spacingAndGlyphs\" textLength=\"55\" x=\"38.5\" y=\"105.9526\">totalMass</text></a><text fill=\"#000000\" font-family=\"sans-serif\" font-size=\"14\" lengthAdjust=\"spacingAndGlyphs\" textLength=\"80\" x=\"133\" y=\"55.6982\">partMasses</text><rect fill=\"#A80036\" height=\"12\" style=\"stroke: #FEFECE; stroke-width: 1.5;\" width=\"12\" x=\"167\" y=\"71\"/><text fill=\"#000000\" font-family=\"sans-serif\" font-size=\"14\" lengthAdjust=\"spacingAndGlyphs\" textLength=\"66\" x=\"177\" y=\"377.7151\">totalMass</text><rect fill=\"#A80036\" height=\"12\" style=\"stroke: #FEFECE; stroke-width: 1.5;\" width=\"12\" x=\"204\" y=\"352.72\"/><text fill=\"#000000\" font-family=\"sans-serif\" font-size=\"14\" lengthAdjust=\"spacingAndGlyphs\" textLength=\"75\" x=\"227.5\" y=\"55.6982\">$collection</text><rect fill=\"#A80036\" height=\"12\" style=\"stroke: #FEFECE; stroke-width: 1.5;\" width=\"12\" x=\"259\" y=\"71\"/><text fill=\"#000000\" font-family=\"sans-serif\" font-size=\"14\" lengthAdjust=\"spacingAndGlyphs\" textLength=\"48\" x=\"233\" y=\"377.7151\">$result</text><rect fill=\"#A80036\" height=\"12\" style=\"stroke: #FEFECE; stroke-width: 1.5;\" width=\"12\" x=\"251\" y=\"352.72\"/><text fill=\"#000000\" font-family=\"sans-serif\" font-size=\"14\" lengthAdjust=\"spacingAndGlyphs\" textLength=\"80\" x=\"627\" y=\"55.6982\">partMasses</text><rect fill=\"#A80036\" height=\"12\" style=\"stroke: #FEFECE; stroke-width: 1.5;\" width=\"12\" x=\"661\" y=\"71\"/><text fill=\"#000000\" font-family=\"sans-serif\" font-size=\"14\" lengthAdjust=\"spacingAndGlyphs\" textLength=\"66\" x=\"634\" y=\"377.7151\">totalMass</text><rect fill=\"#A80036\" height=\"12\" style=\"stroke: #FEFECE; stroke-width: 1.5;\" width=\"12\" x=\"661\" y=\"352.72\"/><!--MD5=[209b3feb70ccb6233bfe1053d122c12c]\n",
       "reverse link E2 to E3--><a href=\"psysml:5beb719b-2071-4403-a403-a4a2a93a4090\" target=\"_top\" title=\"psysml:5beb719b-2071-4403-a403-a4a2a93a4090\" xlink:actuate=\"onRequest\" xlink:href=\"psysml:5beb719b-2071-4403-a403-a4a2a93a4090\" xlink:show=\"new\" xlink:title=\"psysml:5beb719b-2071-4403-a403-a4a2a93a4090\" xlink:type=\"simple\"><path d=\"M480.08,115.85 C461.3,134.11 439.13,155.66 421.74,172.58 \" fill=\"none\" id=\"E2&lt;-E3\" style=\"stroke: #A80036; stroke-width: 1.0;\"/><polygon fill=\"#A80036\" points=\"489.54,106.64,482.4499,107.9553,480.937,115.0059,488.0271,113.6906,489.54,106.64\" style=\"stroke: #A80036; stroke-width: 1.0;\"/></a><!--MD5=[9618e71518536f8baf3342ff6fdab317]\n",
       "reverse link E2 to E4--><a href=\"psysml:48862a39-11e7-4605-8aed-a0acf63d7872\" target=\"_top\" title=\"psysml:48862a39-11e7-4605-8aed-a0acf63d7872\" xlink:actuate=\"onRequest\" xlink:href=\"psysml:48862a39-11e7-4605-8aed-a0acf63d7872\" xlink:show=\"new\" xlink:title=\"psysml:48862a39-11e7-4605-8aed-a0acf63d7872\" xlink:type=\"simple\"><path d=\"M519,119.66 C519,137.05 519,156.83 519,172.58 \" fill=\"none\" id=\"E2&lt;-E4\" style=\"stroke: #A80036; stroke-width: 1.0;\"/><polygon fill=\"#A80036\" points=\"519,106.64,515,112.64,519,118.64,523,112.64,519,106.64\" style=\"stroke: #A80036; stroke-width: 1.0;\"/></a><!--MD5=[1c0b9414cc86e0744215edee6abd8926]\n",
       "link E7 to E9--><a href=\"psysml:5b55f712-f9b6-4e15-aeab-345c960b0653\" target=\"_top\" title=\"psysml:5b55f712-f9b6-4e15-aeab-345c960b0653\" xlink:actuate=\"onRequest\" xlink:href=\"psysml:5b55f712-f9b6-4e15-aeab-345c960b0653\" xlink:show=\"new\" xlink:title=\"psysml:5b55f712-f9b6-4e15-aeab-345c960b0653\" xlink:type=\"simple\"><path d=\"M216.24,356.65 C227.81,353.39 239.38,353.41 250.95,356.7 \" fill=\"none\" id=\"E7-E9\" style=\"stroke: #FF0000; stroke-width: 5.0;\"/></a><!--MD5=[ec5e0a54482b142abcecfe541d624bff]\n",
       "link E10 to E5--><a href=\"psysml:9917c25f-6195-4027-a1da-c593e3e3b530\" target=\"_top\" title=\"psysml:9917c25f-6195-4027-a1da-c593e3e3b530\" xlink:actuate=\"onRequest\" xlink:href=\"psysml:9917c25f-6195-4027-a1da-c593e3e3b530\" xlink:show=\"new\" xlink:title=\"psysml:9917c25f-6195-4027-a1da-c593e3e3b530\" xlink:type=\"simple\"><path d=\"M364.65,100.08 C349.605,112.22 330.165,127.91 311.0925,143.305 C301.5563,151.0025 292.1119,158.6263 283.3547,165.6956 \" fill=\"none\" id=\"E10-&gt;E5\" style=\"stroke: #A80036; stroke-width: 1.0;\"/><polygon fill=\"#FFFFFF\" points=\"283.3547,165.6956,293.7417,148.3143,302.5356,159.2078,283.3547,165.6956\" style=\"stroke: #A80036; stroke-width: 1.0;\"/><ellipse cx=\"299.4332\" cy=\"146.2901\" fill=\"#A80036\" rx=\"2\" ry=\"2\" style=\"stroke: #A80036; stroke-width: 1.0;\"/><ellipse cx=\"305.7145\" cy=\"154.0712\" fill=\"#A80036\" rx=\"2\" ry=\"2\" style=\"stroke: #A80036; stroke-width: 1.0;\"/></a><!--MD5=[111e5536516ee1ad7d4266f589654f03]\n",
       "link E14 to E5--><a href=\"psysml:bf4de082-8867-4b4d-b459-dc33df5641b4\" target=\"_top\" title=\"psysml:bf4de082-8867-4b4d-b459-dc33df5641b4\" xlink:actuate=\"onRequest\" xlink:href=\"psysml:bf4de082-8867-4b4d-b459-dc33df5641b4\" xlink:show=\"new\" xlink:title=\"psysml:bf4de082-8867-4b4d-b459-dc33df5641b4\" xlink:type=\"simple\"><path d=\"M126.57,113.06 C134.05,118.9425 142.0381,125.2256 150.1766,131.6275 C151.1939,132.4277 152.2135,133.2298 153.2348,134.0332 C153.7455,134.4349 154.2565,134.8369 154.7679,135.2392 \" fill=\"none\" id=\"E14-&gt;E5\" style=\"stroke: #A80036; stroke-width: 1.0;\"/><polygon fill=\"#FFFFFF\" points=\"154.7679,135.2392,135.5067,128.9938,144.1625,117.9903,154.7679,135.2392\" style=\"stroke: #A80036; stroke-width: 1.0;\"/><ellipse cx=\"132.2633\" cy=\"123.8977\" fill=\"#A80036\" rx=\"2\" ry=\"2\" style=\"stroke: #A80036; stroke-width: 1.0;\"/><ellipse cx=\"138.446\" cy=\"116.0381\" fill=\"#A80036\" rx=\"2\" ry=\"2\" style=\"stroke: #A80036; stroke-width: 1.0;\"/></a><!--MD5=[b9a8cd060b57558a25a04e4c6b63c177]\n",
       "@startuml\r\n",
       "skinparam wrapWidth 300\r\n",
       "hide circle\r\n",
       "\r\n",
       "package \"CalculationExample\" as E1  [[psysml:7249bcac-c63a-48a6-adec-7cf675138100 ]]  {\r\n",
       "comp usage \"vehicle\" as E2  <<(T,blue)part>> [[psysml:14188455-78e6-45cf-9446-0197417271d8 ]] {\r\n",
       "m: MassValue\r\n",
       "}\r\n",
       "comp usage \"eng\" as E3  <<(T,blue)part>> [[psysml:5beb719b-2071-4403-a403-a4a2a93a4090 ]] {\r\n",
       "m: MassValue\r\n",
       "}\r\n",
       "comp usage \"trans\" as E4  <<(T,blue)part>> [[psysml:48862a39-11e7-4605-8aed-a0acf63d7872 ]] {\r\n",
       "m: MassValue\r\n",
       "}\r\n",
       "rec def \"MassSum\" as E5  <<(T,blue)calculation def>> [[psysml:8857df12-96f9-4753-a6e3-dc799dcb9ed4 ]] {\r\n",
       "portin \"partMasses\" as E6  [[psysml:8ae5fd16-1397-4172-a6e5-0c084d8d7ca2 ]] \r\n",
       "portout \"totalMass\" as E7  [[psysml:5f15c55d-7a56-4485-be6d-5834d49cebc1 ]] \r\n",
       "portin \"$collection\" as E8  [[psysml:61806866-d159-447e-b132-fa56be682adf ]] \r\n",
       "portout \"$result\" as E9  [[psysml:6ddb7e29-61e7-4184-8db5-61f90a0c49bf ]] \r\n",
       "}\r\n",
       "\r\n",
       "comp usage \"ms: MassSum\" as E10  <<(T,blue)calculation>> [[psysml:1d10ff1d-94f3-4fcc-ad21-5a3c75a7ba0b ]] {\r\n",
       "}\r\n",
       "rec def \"MassSum1\" as E11  <<(T,blue)calculation def>> [[psysml:86e0ef61-a473-4ef3-8b23-ebbfee168e1c ]] {\r\n",
       "portin \"partMasses\" as E12  [[psysml:44765cb5-91e3-4973-8d66-b6f2e5bbf87d ]] \r\n",
       "portout \"totalMass\" as E13  [[psysml:8a0a1f2d-4441-4a8a-b849-a96ed87f36a5 ]] \r\n",
       "}\r\n",
       "\r\n",
       "comp usage \"ms1: MassSum\" as E14  <<(T,blue)calculation>> [[psysml:5bbc6089-c972-4222-8f32-76d519ddb8cd ]] {\r\n",
       "partMasses\r\n",
       "totalMass\r\n",
       "}\r\n",
       "E2 *- - E3 [[psysml:5beb719b-2071-4403-a403-a4a2a93a4090 ]] \r\n",
       "E2 *- - E4 [[psysml:48862a39-11e7-4605-8aed-a0acf63d7872 ]] \r\n",
       "E7 -[thickness=5,#red]- E9 [[psysml:5b55f712-f9b6-4e15-aeab-345c960b0653 ]] \r\n",
       "E10 - -:|> E5 [[psysml:9917c25f-6195-4027-a1da-c593e3e3b530 ]] \r\n",
       "E14 - -:|> E5 [[psysml:bf4de082-8867-4b4d-b459-dc33df5641b4 ]] \r\n",
       "}\r\n",
       "@enduml\r\n",
       "\n",
       "PlantUML version 1.2020.13(Sat Jun 13 12:26:38 UTC 2020)\n",
       "(EPL source distribution)\n",
       "Java Runtime: OpenJDK Runtime Environment\n",
       "JVM: OpenJDK 64-Bit Server VM\n",
       "Default Encoding: UTF-8\n",
       "Language: en\n",
       "Country: null\n",
       "--></g></svg>"
      ]
     },
     "execution_count": 29,
     "metadata": {},
     "output_type": "execute_result"
    }
   ],
   "source": [
    "%viz --style=\"STDCOLOR\" --view=\"MIXED\" \"CalculationExample\""
   ]
  },
  {
   "cell_type": "code",
   "execution_count": 30,
   "id": "grateful-facial",
   "metadata": {
    "execution": {
     "iopub.execute_input": "2021-03-26T09:15:58.185756Z",
     "iopub.status.busy": "2021-03-26T09:15:58.185129Z",
     "iopub.status.idle": "2021-03-26T09:15:58.247556Z",
     "shell.execute_reply": "2021-03-26T09:15:58.247152Z"
    }
   },
   "outputs": [
    {
     "data": {
      "image/svg+xml": [
       "<?xml version=\"1.0\" encoding=\"UTF-8\" standalone=\"no\"?><svg xmlns=\"http://www.w3.org/2000/svg\" xmlns:xlink=\"http://www.w3.org/1999/xlink\" contentScriptType=\"application/ecmascript\" contentStyleType=\"text/css\" height=\"408px\" preserveAspectRatio=\"none\" style=\"width:829px;height:408px;\" version=\"1.1\" viewBox=\"0 0 829 408\" width=\"829px\" zoomAndPan=\"magnify\"><defs><filter height=\"300%\" id=\"f1ceoqwrtkw06l\" width=\"300%\" x=\"-1\" y=\"-1\"><feGaussianBlur result=\"blurOut\" stdDeviation=\"2.0\"/><feColorMatrix in=\"blurOut\" result=\"blurOut2\" type=\"matrix\" values=\"0 0 0 0 0 0 0 0 0 0 0 0 0 0 0 0 0 0 .4 0\"/><feOffset dx=\"4.0\" dy=\"4.0\" in=\"blurOut2\" result=\"blurOut3\"/><feBlend in=\"SourceGraphic\" in2=\"blurOut3\" mode=\"normal\"/></filter></defs><g><!--MD5=[fbc87193dbaf4d95561dea2c320d4a47]\n",
       "cluster E1--><a href=\"psysml:7249bcac-c63a-48a6-adec-7cf675138100\" target=\"_top\" title=\"psysml:7249bcac-c63a-48a6-adec-7cf675138100\" xlink:actuate=\"onRequest\" xlink:href=\"psysml:7249bcac-c63a-48a6-adec-7cf675138100\" xlink:show=\"new\" xlink:title=\"psysml:7249bcac-c63a-48a6-adec-7cf675138100\" xlink:type=\"simple\"><polygon fill=\"#FFFFFF\" filter=\"url(#f1ceoqwrtkw06l)\" points=\"16,6,173,6,180,28.2969,807,28.2969,807,396.72,16,396.72,16,6\" style=\"stroke: #000000; stroke-width: 1.5;\"/><line style=\"stroke: #000000; stroke-width: 1.5;\" x1=\"16\" x2=\"180\" y1=\"28.2969\" y2=\"28.2969\"/><text fill=\"#000000\" font-family=\"sans-serif\" font-size=\"14\" font-weight=\"bold\" lengthAdjust=\"spacingAndGlyphs\" textLength=\"151\" x=\"20\" y=\"20.9951\">CalculationExample</text></a><!--MD5=[de5ec2e2e8f62f467e546659f5068c88]\n",
       "cluster E5--><a href=\"psysml:8857df12-96f9-4753-a6e3-dc799dcb9ed4\" target=\"_top\" title=\"psysml:8857df12-96f9-4753-a6e3-dc799dcb9ed4\" xlink:actuate=\"onRequest\" xlink:href=\"psysml:8857df12-96f9-4753-a6e3-dc799dcb9ed4\" xlink:show=\"new\" xlink:title=\"psysml:8857df12-96f9-4753-a6e3-dc799dcb9ed4\" xlink:type=\"simple\"><rect fill=\"#FFFFFF\" filter=\"url(#f1ceoqwrtkw06l)\" height=\"281.72\" id=\"E5\" style=\"stroke: #A80036; stroke-width: 1.5;\" width=\"128\" x=\"181\" y=\"77\"/><rect fill=\"#FEFECE\" height=\"37.9375\" style=\"stroke: #A80036; stroke-width: 1.5;\" width=\"128\" x=\"181\" y=\"77\"/><text fill=\"#000000\" font-family=\"sans-serif\" font-size=\"12\" font-style=\"italic\" lengthAdjust=\"spacingAndGlyphs\" textLength=\"106\" x=\"192\" y=\"93.1387\">«calculation def»</text><text fill=\"#000000\" font-family=\"sans-serif\" font-size=\"12\" lengthAdjust=\"spacingAndGlyphs\" textLength=\"59\" x=\"215.5\" y=\"107.1074\">MassSum</text></a><!--MD5=[917b9dd0c7eca3ee5f47219d1a84c0ad]\n",
       "cluster E11--><a href=\"psysml:86e0ef61-a473-4ef3-8b23-ebbfee168e1c\" target=\"_top\" title=\"psysml:86e0ef61-a473-4ef3-8b23-ebbfee168e1c\" xlink:actuate=\"onRequest\" xlink:href=\"psysml:86e0ef61-a473-4ef3-8b23-ebbfee168e1c\" xlink:show=\"new\" xlink:title=\"psysml:86e0ef61-a473-4ef3-8b23-ebbfee168e1c\" xlink:type=\"simple\"><rect fill=\"#FFFFFF\" filter=\"url(#f1ceoqwrtkw06l)\" height=\"281.72\" id=\"E11\" style=\"stroke: #A80036; stroke-width: 1.5;\" width=\"166\" x=\"625\" y=\"77\"/><rect fill=\"#FEFECE\" height=\"37.9375\" style=\"stroke: #A80036; stroke-width: 1.5;\" width=\"166\" x=\"625\" y=\"77\"/><text fill=\"#000000\" font-family=\"sans-serif\" font-size=\"12\" font-style=\"italic\" lengthAdjust=\"spacingAndGlyphs\" textLength=\"106\" x=\"655\" y=\"93.1387\">«calculation def»</text><text fill=\"#000000\" font-family=\"sans-serif\" font-size=\"12\" lengthAdjust=\"spacingAndGlyphs\" textLength=\"67\" x=\"674.5\" y=\"107.1074\">MassSum1</text></a><!--MD5=[b4997ac47864f28c2f74865a473b2911]\n",
       "class E2--><a href=\"psysml:14188455-78e6-45cf-9446-0197417271d8\" target=\"_top\" title=\"psysml:14188455-78e6-45cf-9446-0197417271d8\" xlink:actuate=\"onRequest\" xlink:href=\"psysml:14188455-78e6-45cf-9446-0197417271d8\" xlink:show=\"new\" xlink:title=\"psysml:14188455-78e6-45cf-9446-0197417271d8\" xlink:type=\"simple\"><rect fill=\"#FEFECE\" filter=\"url(#f1ceoqwrtkw06l)\" height=\"58.7422\" id=\"E2\" rx=\"10\" ry=\"10\" style=\"stroke: #A80036; stroke-width: 1.5;\" width=\"92\" x=\"525\" y=\"47.5\"/><ellipse cx=\"547.65\" cy=\"66.4688\" fill=\"#32CD32\" rx=\"11\" ry=\"11\" style=\"stroke: #A80036; stroke-width: 1.0;\"/><path d=\"M547.4469,62.1406 L547.4469,65.7656 L548.4469,65.7656 Q549.65,65.7656 550.1344,65.3594 Q550.6188,64.9531 550.6188,63.9531 Q550.6188,62.9531 550.1344,62.5469 Q549.65,62.1406 548.4469,62.1406 L547.4469,62.1406 Z M544.9938,60.0781 L548.3531,60.0781 Q550.9156,60.0781 552.0406,61 Q553.1656,61.9063 553.1656,63.9531 Q553.1656,66 552.0406,66.9219 Q550.9156,67.8281 548.3531,67.8281 L547.4469,67.8281 L547.4469,72.4688 L544.9938,72.4688 L544.9938,60.0781 Z \"/><text fill=\"#000000\" font-family=\"sans-serif\" font-size=\"12\" font-style=\"italic\" lengthAdjust=\"spacingAndGlyphs\" textLength=\"40\" x=\"564.85\" y=\"63.6387\">«part»</text><text fill=\"#000000\" font-family=\"sans-serif\" font-size=\"12\" lengthAdjust=\"spacingAndGlyphs\" textLength=\"43\" x=\"563.35\" y=\"77.6074\">vehicle</text><line style=\"stroke: #A80036; stroke-width: 1.5;\" x1=\"526\" x2=\"616\" y1=\"85.4375\" y2=\"85.4375\"/><text fill=\"#000000\" font-family=\"sans-serif\" font-size=\"11\" lengthAdjust=\"spacingAndGlyphs\" textLength=\"80\" x=\"531\" y=\"99.6479\">m: MassValue</text></a><!--MD5=[09b614a08d8cba4a07c9adeb5e0fee81]\n",
       "class E3--><a href=\"psysml:5beb719b-2071-4403-a403-a4a2a93a4090\" target=\"_top\" title=\"psysml:5beb719b-2071-4403-a403-a4a2a93a4090\" xlink:actuate=\"onRequest\" xlink:href=\"psysml:5beb719b-2071-4403-a403-a4a2a93a4090\" xlink:show=\"new\" xlink:title=\"psysml:5beb719b-2071-4403-a403-a4a2a93a4090\" xlink:type=\"simple\"><rect fill=\"#FEFECE\" filter=\"url(#f1ceoqwrtkw06l)\" height=\"58.7422\" id=\"E3\" rx=\"10\" ry=\"10\" style=\"stroke: #A80036; stroke-width: 1.5;\" width=\"92\" x=\"387\" y=\"173\"/><ellipse cx=\"412.8\" cy=\"191.9688\" fill=\"#32CD32\" rx=\"11\" ry=\"11\" style=\"stroke: #A80036; stroke-width: 1.0;\"/><path d=\"M412.5969,187.6406 L412.5969,191.2656 L413.5969,191.2656 Q414.8,191.2656 415.2844,190.8594 Q415.7688,190.4531 415.7688,189.4531 Q415.7688,188.4531 415.2844,188.0469 Q414.8,187.6406 413.5969,187.6406 L412.5969,187.6406 Z M410.1438,185.5781 L413.5031,185.5781 Q416.0656,185.5781 417.1906,186.5 Q418.3156,187.4063 418.3156,189.4531 Q418.3156,191.5 417.1906,192.4219 Q416.0656,193.3281 413.5031,193.3281 L412.5969,193.3281 L412.5969,197.9688 L410.1438,197.9688 L410.1438,185.5781 Z \"/><text fill=\"#000000\" font-family=\"sans-serif\" font-size=\"12\" font-style=\"italic\" lengthAdjust=\"spacingAndGlyphs\" textLength=\"40\" x=\"427.2\" y=\"189.1387\">«part»</text><text fill=\"#000000\" font-family=\"sans-serif\" font-size=\"12\" lengthAdjust=\"spacingAndGlyphs\" textLength=\"24\" x=\"435.2\" y=\"203.1074\">eng</text><line style=\"stroke: #A80036; stroke-width: 1.5;\" x1=\"388\" x2=\"478\" y1=\"210.9375\" y2=\"210.9375\"/><text fill=\"#000000\" font-family=\"sans-serif\" font-size=\"11\" lengthAdjust=\"spacingAndGlyphs\" textLength=\"80\" x=\"393\" y=\"225.1479\">m: MassValue</text></a><!--MD5=[ebbe1d658d1005bcc118a6aa81145e00]\n",
       "class E4--><a href=\"psysml:48862a39-11e7-4605-8aed-a0acf63d7872\" target=\"_top\" title=\"psysml:48862a39-11e7-4605-8aed-a0acf63d7872\" xlink:actuate=\"onRequest\" xlink:href=\"psysml:48862a39-11e7-4605-8aed-a0acf63d7872\" xlink:show=\"new\" xlink:title=\"psysml:48862a39-11e7-4605-8aed-a0acf63d7872\" xlink:type=\"simple\"><rect fill=\"#FEFECE\" filter=\"url(#f1ceoqwrtkw06l)\" height=\"58.7422\" id=\"E4\" rx=\"10\" ry=\"10\" style=\"stroke: #A80036; stroke-width: 1.5;\" width=\"92\" x=\"514\" y=\"173\"/><ellipse cx=\"539.8\" cy=\"191.9688\" fill=\"#32CD32\" rx=\"11\" ry=\"11\" style=\"stroke: #A80036; stroke-width: 1.0;\"/><path d=\"M539.5969,187.6406 L539.5969,191.2656 L540.5969,191.2656 Q541.8,191.2656 542.2844,190.8594 Q542.7688,190.4531 542.7688,189.4531 Q542.7688,188.4531 542.2844,188.0469 Q541.8,187.6406 540.5969,187.6406 L539.5969,187.6406 Z M537.1438,185.5781 L540.5031,185.5781 Q543.0656,185.5781 544.1906,186.5 Q545.3156,187.4063 545.3156,189.4531 Q545.3156,191.5 544.1906,192.4219 Q543.0656,193.3281 540.5031,193.3281 L539.5969,193.3281 L539.5969,197.9688 L537.1438,197.9688 L537.1438,185.5781 Z \"/><text fill=\"#000000\" font-family=\"sans-serif\" font-size=\"12\" font-style=\"italic\" lengthAdjust=\"spacingAndGlyphs\" textLength=\"40\" x=\"554.2\" y=\"189.1387\">«part»</text><text fill=\"#000000\" font-family=\"sans-serif\" font-size=\"12\" lengthAdjust=\"spacingAndGlyphs\" textLength=\"33\" x=\"557.7\" y=\"203.1074\">trans</text><line style=\"stroke: #A80036; stroke-width: 1.5;\" x1=\"515\" x2=\"605\" y1=\"210.9375\" y2=\"210.9375\"/><text fill=\"#000000\" font-family=\"sans-serif\" font-size=\"11\" lengthAdjust=\"spacingAndGlyphs\" textLength=\"80\" x=\"520\" y=\"225.1479\">m: MassValue</text></a><!--MD5=[96f4274e9e20536e775497830990834d]\n",
       "class E10--><a href=\"psysml:1d10ff1d-94f3-4fcc-ad21-5a3c75a7ba0b\" target=\"_top\" title=\"psysml:1d10ff1d-94f3-4fcc-ad21-5a3c75a7ba0b\" xlink:actuate=\"onRequest\" xlink:href=\"psysml:1d10ff1d-94f3-4fcc-ad21-5a3c75a7ba0b\" xlink:show=\"new\" xlink:title=\"psysml:1d10ff1d-94f3-4fcc-ad21-5a3c75a7ba0b\" xlink:type=\"simple\"><rect fill=\"#FEFECE\" filter=\"url(#f1ceoqwrtkw06l)\" height=\"45.9375\" id=\"E10\" rx=\"10\" ry=\"10\" style=\"stroke: #A80036; stroke-width: 1.5;\" width=\"117\" x=\"372.5\" y=\"54\"/><ellipse cx=\"387.5\" cy=\"72.9688\" fill=\"#FFA500\" rx=\"11\" ry=\"11\" style=\"stroke: #A80036; stroke-width: 1.0;\"/><path d=\"M383.375,74.8906 L383.375,67.0781 L385.8281,67.0781 L385.8281,75.5156 Q385.8281,76.4375 386.2969,76.9688 Q386.7813,77.5 387.6094,77.5 Q388.4531,77.5 388.9219,76.9688 Q389.3906,76.4375 389.3906,75.5156 L389.3906,67.0781 L391.8438,67.0781 L391.8438,74.8906 Q391.8438,77.4219 390.8438,78.5625 Q389.8438,79.7031 387.6094,79.7031 Q385.3906,79.7031 384.375,78.5625 Q383.375,77.4219 383.375,74.8906 Z \"/><text fill=\"#000000\" font-family=\"sans-serif\" font-size=\"12\" font-style=\"italic\" lengthAdjust=\"spacingAndGlyphs\" textLength=\"82\" x=\"403\" y=\"70.1387\">«calculation»</text><text fill=\"#000000\" font-family=\"sans-serif\" font-size=\"12\" lengthAdjust=\"spacingAndGlyphs\" textLength=\"85\" x=\"401.5\" y=\"84.1074\">ms: MassSum</text><line style=\"stroke: #A80036; stroke-width: 1.5;\" x1=\"373.5\" x2=\"488.5\" y1=\"91.9375\" y2=\"91.9375\"/></a><!--MD5=[bee11217b2f71d958a27249dc326068c]\n",
       "class E14--><a href=\"psysml:5bbc6089-c972-4222-8f32-76d519ddb8cd\" target=\"_top\" title=\"psysml:5bbc6089-c972-4222-8f32-76d519ddb8cd\" xlink:actuate=\"onRequest\" xlink:href=\"psysml:5bbc6089-c972-4222-8f32-76d519ddb8cd\" xlink:show=\"new\" xlink:title=\"psysml:5bbc6089-c972-4222-8f32-76d519ddb8cd\" xlink:type=\"simple\"><rect fill=\"#FEFECE\" filter=\"url(#f1ceoqwrtkw06l)\" height=\"71.5469\" id=\"E14\" rx=\"10\" ry=\"10\" style=\"stroke: #A80036; stroke-width: 1.5;\" width=\"125\" x=\"32.5\" y=\"41\"/><ellipse cx=\"47.5\" cy=\"59.9688\" fill=\"#FFA500\" rx=\"11\" ry=\"11\" style=\"stroke: #A80036; stroke-width: 1.0;\"/><path d=\"M43.375,61.8906 L43.375,54.0781 L45.8281,54.0781 L45.8281,62.5156 Q45.8281,63.4375 46.2969,63.9688 Q46.7813,64.5 47.6094,64.5 Q48.4531,64.5 48.9219,63.9688 Q49.3906,63.4375 49.3906,62.5156 L49.3906,54.0781 L51.8438,54.0781 L51.8438,61.8906 Q51.8438,64.4219 50.8438,65.5625 Q49.8438,66.7031 47.6094,66.7031 Q45.3906,66.7031 44.375,65.5625 Q43.375,64.4219 43.375,61.8906 Z \"/><text fill=\"#000000\" font-family=\"sans-serif\" font-size=\"12\" font-style=\"italic\" lengthAdjust=\"spacingAndGlyphs\" textLength=\"82\" x=\"67\" y=\"57.1387\">«calculation»</text><text fill=\"#000000\" font-family=\"sans-serif\" font-size=\"12\" lengthAdjust=\"spacingAndGlyphs\" textLength=\"93\" x=\"61.5\" y=\"71.1074\">ms1: MassSum</text><line style=\"stroke: #A80036; stroke-width: 1.5;\" x1=\"33.5\" x2=\"156.5\" y1=\"78.9375\" y2=\"78.9375\"/><text fill=\"#000000\" font-family=\"sans-serif\" font-size=\"11\" lengthAdjust=\"spacingAndGlyphs\" textLength=\"67\" x=\"38.5\" y=\"93.1479\">partMasses</text><text fill=\"#000000\" font-family=\"sans-serif\" font-size=\"11\" lengthAdjust=\"spacingAndGlyphs\" textLength=\"55\" x=\"38.5\" y=\"105.9526\">totalMass</text></a><text fill=\"#000000\" font-family=\"sans-serif\" font-size=\"14\" lengthAdjust=\"spacingAndGlyphs\" textLength=\"80\" x=\"159\" y=\"55.6982\">partMasses</text><rect fill=\"#A80036\" height=\"12\" style=\"stroke: #FEFECE; stroke-width: 1.5;\" width=\"12\" x=\"193\" y=\"71\"/><text fill=\"#000000\" font-family=\"sans-serif\" font-size=\"14\" lengthAdjust=\"spacingAndGlyphs\" textLength=\"66\" x=\"203\" y=\"377.7151\">totalMass</text><rect fill=\"#A80036\" height=\"12\" style=\"stroke: #FEFECE; stroke-width: 1.5;\" width=\"12\" x=\"230\" y=\"352.72\"/><text fill=\"#000000\" font-family=\"sans-serif\" font-size=\"14\" lengthAdjust=\"spacingAndGlyphs\" textLength=\"75\" x=\"253.5\" y=\"55.6982\">$collection</text><rect fill=\"#A80036\" height=\"12\" style=\"stroke: #FEFECE; stroke-width: 1.5;\" width=\"12\" x=\"285\" y=\"71\"/><text fill=\"#000000\" font-family=\"sans-serif\" font-size=\"14\" lengthAdjust=\"spacingAndGlyphs\" textLength=\"48\" x=\"259\" y=\"377.7151\">$result</text><rect fill=\"#A80036\" height=\"12\" style=\"stroke: #FEFECE; stroke-width: 1.5;\" width=\"12\" x=\"277\" y=\"352.72\"/><text fill=\"#000000\" font-family=\"sans-serif\" font-size=\"14\" lengthAdjust=\"spacingAndGlyphs\" textLength=\"80\" x=\"668\" y=\"55.6982\">partMasses</text><rect fill=\"#A80036\" height=\"12\" style=\"stroke: #FEFECE; stroke-width: 1.5;\" width=\"12\" x=\"702\" y=\"71\"/><text fill=\"#000000\" font-family=\"sans-serif\" font-size=\"14\" lengthAdjust=\"spacingAndGlyphs\" textLength=\"66\" x=\"675\" y=\"377.7151\">totalMass</text><rect fill=\"#A80036\" height=\"12\" style=\"stroke: #FEFECE; stroke-width: 1.5;\" width=\"12\" x=\"702\" y=\"352.72\"/><!--MD5=[209b3feb70ccb6233bfe1053d122c12c]\n",
       "reverse link E2 to E3--><a href=\"psysml:5beb719b-2071-4403-a403-a4a2a93a4090\" target=\"_top\" title=\"psysml:5beb719b-2071-4403-a403-a4a2a93a4090\" xlink:actuate=\"onRequest\" xlink:href=\"psysml:5beb719b-2071-4403-a403-a4a2a93a4090\" xlink:show=\"new\" xlink:title=\"psysml:5beb719b-2071-4403-a403-a4a2a93a4090\" xlink:type=\"simple\"><path d=\"M529.27,115.35 C508.75,133.71 484.39,155.51 465.31,172.58 \" fill=\"none\" id=\"E2&lt;-E3\" style=\"stroke: #A80036; stroke-width: 1.0;\"/><polygon fill=\"#A80036\" points=\"538.99,106.64,531.8517,107.662,530.0495,114.6442,537.1878,113.6223,538.99,106.64\" style=\"stroke: #A80036; stroke-width: 1.0;\"/></a><!--MD5=[9618e71518536f8baf3342ff6fdab317]\n",
       "reverse link E2 to E4--><a href=\"psysml:48862a39-11e7-4605-8aed-a0acf63d7872\" target=\"_top\" title=\"psysml:48862a39-11e7-4605-8aed-a0acf63d7872\" xlink:actuate=\"onRequest\" xlink:href=\"psysml:48862a39-11e7-4605-8aed-a0acf63d7872\" xlink:show=\"new\" xlink:title=\"psysml:48862a39-11e7-4605-8aed-a0acf63d7872\" xlink:type=\"simple\"><path d=\"M567.29,119.66 C565.74,137.05 563.98,156.83 562.58,172.58 \" fill=\"none\" id=\"E2&lt;-E4\" style=\"stroke: #A80036; stroke-width: 1.0;\"/><polygon fill=\"#A80036\" points=\"568.45,106.64,563.9321,112.2604,567.3826,118.5924,571.9004,112.972,568.45,106.64\" style=\"stroke: #A80036; stroke-width: 1.0;\"/></a><!--MD5=[1c0b9414cc86e0744215edee6abd8926]\n",
       "link E7 to E9--><a href=\"psysml:5b55f712-f9b6-4e15-aeab-345c960b0653\" target=\"_top\" title=\"psysml:5b55f712-f9b6-4e15-aeab-345c960b0653\" xlink:actuate=\"onRequest\" xlink:href=\"psysml:5b55f712-f9b6-4e15-aeab-345c960b0653\" xlink:show=\"new\" xlink:title=\"psysml:5b55f712-f9b6-4e15-aeab-345c960b0653\" xlink:type=\"simple\"><path d=\"M242.24,356.65 C253.81,353.39 265.38,353.41 276.95,356.7 \" fill=\"none\" id=\"E7-E9\" style=\"stroke: #FF0000; stroke-width: 5.0;\"/></a><!--MD5=[ec5e0a54482b142abcecfe541d624bff]\n",
       "link E10 to E5--><a href=\"psysml:9917c25f-6195-4027-a1da-c593e3e3b530\" target=\"_top\" title=\"psysml:9917c25f-6195-4027-a1da-c593e3e3b530\" xlink:actuate=\"onRequest\" xlink:href=\"psysml:9917c25f-6195-4027-a1da-c593e3e3b530\" xlink:show=\"new\" xlink:title=\"psysml:9917c25f-6195-4027-a1da-c593e3e3b530\" xlink:type=\"simple\"><path d=\"M401.32,100.08 C384.955,112.255 363.7925,128 343.0438,143.4375 C332.6694,151.1563 322.3984,158.7981 312.8823,165.8784 C311.6928,166.7635 310.5151,167.6397 309.3505,168.5063 \" fill=\"none\" id=\"E10-&gt;E5\" style=\"stroke: #A80036; stroke-width: 1.0;\"/><polygon fill=\"#FFFFFF\" points=\"309.3505,168.5063,320.4154,151.5485,328.7725,162.7806,309.3505,168.5063\" style=\"stroke: #A80036; stroke-width: 1.0;\"/><ellipse cx=\"326.1824\" cy=\"149.7506\" fill=\"#A80036\" rx=\"2\" ry=\"2\" style=\"stroke: #A80036; stroke-width: 1.0;\"/><ellipse cx=\"332.1517\" cy=\"157.7735\" fill=\"#A80036\" rx=\"2\" ry=\"2\" style=\"stroke: #A80036; stroke-width: 1.0;\"/></a><!--MD5=[111e5536516ee1ad7d4266f589654f03]\n",
       "link E14 to E5--><a href=\"psysml:bf4de082-8867-4b4d-b459-dc33df5641b4\" target=\"_top\" title=\"psysml:bf4de082-8867-4b4d-b459-dc33df5641b4\" xlink:actuate=\"onRequest\" xlink:href=\"psysml:bf4de082-8867-4b4d-b459-dc33df5641b4\" xlink:show=\"new\" xlink:title=\"psysml:bf4de082-8867-4b4d-b459-dc33df5641b4\" xlink:type=\"simple\"><path d=\"M143.26,113.06 C151.3575,118.9425 160.0062,125.2256 168.8184,131.6275 C171.0215,133.228 173.2347,134.8359 175.4522,136.4468 C176.5609,137.2522 177.6706,138.0584 178.7806,138.8648 C179.3357,139.268 179.8907,139.6713 180.4458,140.0745 C180.5846,140.1754 180.7233,140.2762 180.8621,140.377 \" fill=\"none\" id=\"E14-&gt;E5\" style=\"stroke: #A80036; stroke-width: 1.0;\"/><polygon fill=\"#FFFFFF\" points=\"180.8621,140.377,161.376,134.873,169.6046,123.5464,180.8621,140.377\" style=\"stroke: #A80036; stroke-width: 1.0;\"/><ellipse cx=\"157.94\" cy=\"129.9047\" fill=\"#A80036\" rx=\"2\" ry=\"2\" style=\"stroke: #A80036; stroke-width: 1.0;\"/><ellipse cx=\"163.8175\" cy=\"121.8143\" fill=\"#A80036\" rx=\"2\" ry=\"2\" style=\"stroke: #A80036; stroke-width: 1.0;\"/></a><!--MD5=[b4b7935434f29651e1c84a7110d88bfc]\n",
       "@startuml\r\n",
       " \r\n",
       "package \"CalculationExample\" as E1  [[psysml:7249bcac-c63a-48a6-adec-7cf675138100 ]]  {\r\n",
       "comp usage \"vehicle\" as E2  << (P,limegreen) part>> [[psysml:14188455-78e6-45cf-9446-0197417271d8 ]] {\r\n",
       "m: MassValue\r\n",
       "}\r\n",
       "comp usage \"eng\" as E3  << (P,limegreen) part>> [[psysml:5beb719b-2071-4403-a403-a4a2a93a4090 ]] {\r\n",
       "m: MassValue\r\n",
       "}\r\n",
       "comp usage \"trans\" as E4  << (P,limegreen) part>> [[psysml:48862a39-11e7-4605-8aed-a0acf63d7872 ]] {\r\n",
       "m: MassValue\r\n",
       "}\r\n",
       "rec def \"MassSum\" as E5  <<(D,brown)calculation def>> [[psysml:8857df12-96f9-4753-a6e3-dc799dcb9ed4 ]] {\r\n",
       "portin \"partMasses\" as E6  [[psysml:8ae5fd16-1397-4172-a6e5-0c084d8d7ca2 ]] \r\n",
       "portout \"totalMass\" as E7  [[psysml:5f15c55d-7a56-4485-be6d-5834d49cebc1 ]] \r\n",
       "portin \"$collection\" as E8  [[psysml:61806866-d159-447e-b132-fa56be682adf ]] \r\n",
       "portout \"$result\" as E9  [[psysml:6ddb7e29-61e7-4184-8db5-61f90a0c49bf ]] \r\n",
       "}\r\n",
       "\r\n",
       "comp usage \"ms: MassSum\" as E10  <<(U,orange)calculation>> [[psysml:1d10ff1d-94f3-4fcc-ad21-5a3c75a7ba0b ]] {\r\n",
       "}\r\n",
       "rec def \"MassSum1\" as E11  <<(D,brown)calculation def>> [[psysml:86e0ef61-a473-4ef3-8b23-ebbfee168e1c ]] {\r\n",
       "portin \"partMasses\" as E12  [[psysml:44765cb5-91e3-4973-8d66-b6f2e5bbf87d ]] \r\n",
       "portout \"totalMass\" as E13  [[psysml:8a0a1f2d-4441-4a8a-b849-a96ed87f36a5 ]] \r\n",
       "}\r\n",
       "\r\n",
       "comp usage \"ms1: MassSum\" as E14  <<(U,orange)calculation>> [[psysml:5bbc6089-c972-4222-8f32-76d519ddb8cd ]] {\r\n",
       "partMasses\r\n",
       "totalMass\r\n",
       "}\r\n",
       "E2 *- - E3 [[psysml:5beb719b-2071-4403-a403-a4a2a93a4090 ]] \r\n",
       "E2 *- - E4 [[psysml:48862a39-11e7-4605-8aed-a0acf63d7872 ]] \r\n",
       "E7 -[thickness=5,#red]- E9 [[psysml:5b55f712-f9b6-4e15-aeab-345c960b0653 ]] \r\n",
       "E10 - -:|> E5 [[psysml:9917c25f-6195-4027-a1da-c593e3e3b530 ]] \r\n",
       "E14 - -:|> E5 [[psysml:bf4de082-8867-4b4d-b459-dc33df5641b4 ]] \r\n",
       "}\r\n",
       "@enduml\r\n",
       "\n",
       "PlantUML version 1.2020.13(Sat Jun 13 12:26:38 UTC 2020)\n",
       "(EPL source distribution)\n",
       "Java Runtime: OpenJDK Runtime Environment\n",
       "JVM: OpenJDK 64-Bit Server VM\n",
       "Default Encoding: UTF-8\n",
       "Language: en\n",
       "Country: null\n",
       "--></g></svg>"
      ]
     },
     "execution_count": 30,
     "metadata": {},
     "output_type": "execute_result"
    }
   ],
   "source": [
    "%viz --style=\"PLANTUML\" --view=\"Default\" \"CalculationExample\""
   ]
  },
  {
   "cell_type": "code",
   "execution_count": 31,
   "id": "global-impact",
   "metadata": {
    "execution": {
     "iopub.execute_input": "2021-03-26T09:15:58.299858Z",
     "iopub.status.busy": "2021-03-26T09:15:58.298866Z",
     "iopub.status.idle": "2021-03-26T09:15:58.356933Z",
     "shell.execute_reply": "2021-03-26T09:15:58.355587Z"
    }
   },
   "outputs": [
    {
     "data": {
      "image/svg+xml": [
       "<?xml version=\"1.0\" encoding=\"UTF-8\" standalone=\"no\"?><svg xmlns=\"http://www.w3.org/2000/svg\" xmlns:xlink=\"http://www.w3.org/1999/xlink\" contentScriptType=\"application/ecmascript\" contentStyleType=\"text/css\" height=\"260px\" preserveAspectRatio=\"none\" style=\"width:659px;height:260px;\" version=\"1.1\" viewBox=\"0 0 659 260\" width=\"659px\" zoomAndPan=\"magnify\"><defs><filter height=\"300%\" id=\"fmqkkmjh68klh\" width=\"300%\" x=\"-1\" y=\"-1\"><feGaussianBlur result=\"blurOut\" stdDeviation=\"2.0\"/><feColorMatrix in=\"blurOut\" result=\"blurOut2\" type=\"matrix\" values=\"0 0 0 0 0 0 0 0 0 0 0 0 0 0 0 0 0 0 .4 0\"/><feOffset dx=\"4.0\" dy=\"4.0\" in=\"blurOut2\" result=\"blurOut3\"/><feBlend in=\"SourceGraphic\" in2=\"blurOut3\" mode=\"normal\"/></filter></defs><g><!--MD5=[fbc87193dbaf4d95561dea2c320d4a47]\n",
       "cluster E1--><a href=\"psysml:7249bcac-c63a-48a6-adec-7cf675138100\" target=\"_top\" title=\"psysml:7249bcac-c63a-48a6-adec-7cf675138100\" xlink:actuate=\"onRequest\" xlink:href=\"psysml:7249bcac-c63a-48a6-adec-7cf675138100\" xlink:show=\"new\" xlink:title=\"psysml:7249bcac-c63a-48a6-adec-7cf675138100\" xlink:type=\"simple\"><polygon fill=\"#FFFFFF\" filter=\"url(#fmqkkmjh68klh)\" points=\"16,6,173,6,180,28.2969,637,28.2969,637,248,16,248,16,6\" style=\"stroke: #000000; stroke-width: 1.5;\"/><line style=\"stroke: #000000; stroke-width: 1.5;\" x1=\"16\" x2=\"180\" y1=\"28.2969\" y2=\"28.2969\"/><text fill=\"#000000\" font-family=\"sans-serif\" font-size=\"14\" font-weight=\"bold\" lengthAdjust=\"spacingAndGlyphs\" textLength=\"151\" x=\"20\" y=\"20.9951\">CalculationExample</text></a><!--MD5=[b4997ac47864f28c2f74865a473b2911]\n",
       "class E2--><a href=\"psysml:14188455-78e6-45cf-9446-0197417271d8\" target=\"_top\" title=\"psysml:14188455-78e6-45cf-9446-0197417271d8\" xlink:actuate=\"onRequest\" xlink:href=\"psysml:14188455-78e6-45cf-9446-0197417271d8\" xlink:show=\"new\" xlink:title=\"psysml:14188455-78e6-45cf-9446-0197417271d8\" xlink:type=\"simple\"><rect fill=\"#FEFECE\" filter=\"url(#fmqkkmjh68klh)\" height=\"58.7422\" id=\"E2\" rx=\"10\" ry=\"10\" style=\"stroke: #A80036; stroke-width: 1.5;\" width=\"92\" x=\"529\" y=\"47.5\"/><ellipse cx=\"551.65\" cy=\"66.4688\" fill=\"#32CD32\" rx=\"11\" ry=\"11\" style=\"stroke: #A80036; stroke-width: 1.0;\"/><path d=\"M551.4469,62.1406 L551.4469,65.7656 L552.4469,65.7656 Q553.65,65.7656 554.1344,65.3594 Q554.6188,64.9531 554.6188,63.9531 Q554.6188,62.9531 554.1344,62.5469 Q553.65,62.1406 552.4469,62.1406 L551.4469,62.1406 Z M548.9938,60.0781 L552.3531,60.0781 Q554.9156,60.0781 556.0406,61 Q557.1656,61.9063 557.1656,63.9531 Q557.1656,66 556.0406,66.9219 Q554.9156,67.8281 552.3531,67.8281 L551.4469,67.8281 L551.4469,72.4688 L548.9938,72.4688 L548.9938,60.0781 Z \"/><text fill=\"#000000\" font-family=\"sans-serif\" font-size=\"12\" font-style=\"italic\" lengthAdjust=\"spacingAndGlyphs\" textLength=\"40\" x=\"568.85\" y=\"63.6387\">«part»</text><text fill=\"#000000\" font-family=\"sans-serif\" font-size=\"12\" lengthAdjust=\"spacingAndGlyphs\" textLength=\"43\" x=\"567.35\" y=\"77.6074\">vehicle</text><line style=\"stroke: #A80036; stroke-width: 1.5;\" x1=\"530\" x2=\"620\" y1=\"85.4375\" y2=\"85.4375\"/><text fill=\"#000000\" font-family=\"sans-serif\" font-size=\"11\" lengthAdjust=\"spacingAndGlyphs\" textLength=\"80\" x=\"535\" y=\"99.6479\">m: MassValue</text></a><!--MD5=[09b614a08d8cba4a07c9adeb5e0fee81]\n",
       "class E3--><a href=\"psysml:5beb719b-2071-4403-a403-a4a2a93a4090\" target=\"_top\" title=\"psysml:5beb719b-2071-4403-a403-a4a2a93a4090\" xlink:actuate=\"onRequest\" xlink:href=\"psysml:5beb719b-2071-4403-a403-a4a2a93a4090\" xlink:show=\"new\" xlink:title=\"psysml:5beb719b-2071-4403-a403-a4a2a93a4090\" xlink:type=\"simple\"><rect fill=\"#FEFECE\" filter=\"url(#fmqkkmjh68klh)\" height=\"58.7422\" id=\"E3\" rx=\"10\" ry=\"10\" style=\"stroke: #A80036; stroke-width: 1.5;\" width=\"92\" x=\"402\" y=\"173\"/><ellipse cx=\"427.8\" cy=\"191.9688\" fill=\"#32CD32\" rx=\"11\" ry=\"11\" style=\"stroke: #A80036; stroke-width: 1.0;\"/><path d=\"M427.5969,187.6406 L427.5969,191.2656 L428.5969,191.2656 Q429.8,191.2656 430.2844,190.8594 Q430.7688,190.4531 430.7688,189.4531 Q430.7688,188.4531 430.2844,188.0469 Q429.8,187.6406 428.5969,187.6406 L427.5969,187.6406 Z M425.1438,185.5781 L428.5031,185.5781 Q431.0656,185.5781 432.1906,186.5 Q433.3156,187.4063 433.3156,189.4531 Q433.3156,191.5 432.1906,192.4219 Q431.0656,193.3281 428.5031,193.3281 L427.5969,193.3281 L427.5969,197.9688 L425.1438,197.9688 L425.1438,185.5781 Z \"/><text fill=\"#000000\" font-family=\"sans-serif\" font-size=\"12\" font-style=\"italic\" lengthAdjust=\"spacingAndGlyphs\" textLength=\"40\" x=\"442.2\" y=\"189.1387\">«part»</text><text fill=\"#000000\" font-family=\"sans-serif\" font-size=\"12\" lengthAdjust=\"spacingAndGlyphs\" textLength=\"24\" x=\"450.2\" y=\"203.1074\">eng</text><line style=\"stroke: #A80036; stroke-width: 1.5;\" x1=\"403\" x2=\"493\" y1=\"210.9375\" y2=\"210.9375\"/><text fill=\"#000000\" font-family=\"sans-serif\" font-size=\"11\" lengthAdjust=\"spacingAndGlyphs\" textLength=\"80\" x=\"408\" y=\"225.1479\">m: MassValue</text></a><!--MD5=[ebbe1d658d1005bcc118a6aa81145e00]\n",
       "class E4--><a href=\"psysml:48862a39-11e7-4605-8aed-a0acf63d7872\" target=\"_top\" title=\"psysml:48862a39-11e7-4605-8aed-a0acf63d7872\" xlink:actuate=\"onRequest\" xlink:href=\"psysml:48862a39-11e7-4605-8aed-a0acf63d7872\" xlink:show=\"new\" xlink:title=\"psysml:48862a39-11e7-4605-8aed-a0acf63d7872\" xlink:type=\"simple\"><rect fill=\"#FEFECE\" filter=\"url(#fmqkkmjh68klh)\" height=\"58.7422\" id=\"E4\" rx=\"10\" ry=\"10\" style=\"stroke: #A80036; stroke-width: 1.5;\" width=\"92\" x=\"529\" y=\"173\"/><ellipse cx=\"554.8\" cy=\"191.9688\" fill=\"#32CD32\" rx=\"11\" ry=\"11\" style=\"stroke: #A80036; stroke-width: 1.0;\"/><path d=\"M554.5969,187.6406 L554.5969,191.2656 L555.5969,191.2656 Q556.8,191.2656 557.2844,190.8594 Q557.7688,190.4531 557.7688,189.4531 Q557.7688,188.4531 557.2844,188.0469 Q556.8,187.6406 555.5969,187.6406 L554.5969,187.6406 Z M552.1438,185.5781 L555.5031,185.5781 Q558.0656,185.5781 559.1906,186.5 Q560.3156,187.4063 560.3156,189.4531 Q560.3156,191.5 559.1906,192.4219 Q558.0656,193.3281 555.5031,193.3281 L554.5969,193.3281 L554.5969,197.9688 L552.1438,197.9688 L552.1438,185.5781 Z \"/><text fill=\"#000000\" font-family=\"sans-serif\" font-size=\"12\" font-style=\"italic\" lengthAdjust=\"spacingAndGlyphs\" textLength=\"40\" x=\"569.2\" y=\"189.1387\">«part»</text><text fill=\"#000000\" font-family=\"sans-serif\" font-size=\"12\" lengthAdjust=\"spacingAndGlyphs\" textLength=\"33\" x=\"572.7\" y=\"203.1074\">trans</text><line style=\"stroke: #A80036; stroke-width: 1.5;\" x1=\"530\" x2=\"620\" y1=\"210.9375\" y2=\"210.9375\"/><text fill=\"#000000\" font-family=\"sans-serif\" font-size=\"11\" lengthAdjust=\"spacingAndGlyphs\" textLength=\"80\" x=\"535\" y=\"225.1479\">m: MassValue</text></a><!--MD5=[270fce915f116d4de14055a7c1d9a0f3]\n",
       "class E5--><a href=\"psysml:8857df12-96f9-4753-a6e3-dc799dcb9ed4\" target=\"_top\" title=\"psysml:8857df12-96f9-4753-a6e3-dc799dcb9ed4\" xlink:actuate=\"onRequest\" xlink:href=\"psysml:8857df12-96f9-4753-a6e3-dc799dcb9ed4\" xlink:show=\"new\" xlink:title=\"psysml:8857df12-96f9-4753-a6e3-dc799dcb9ed4\" xlink:type=\"simple\"><rect fill=\"#FEFECE\" filter=\"url(#fmqkkmjh68klh)\" height=\"45.9375\" id=\"E5\" style=\"stroke: #A80036; stroke-width: 1.5;\" width=\"134\" x=\"133\" y=\"179.5\"/><ellipse cx=\"148\" cy=\"198.4688\" fill=\"#A52A2A\" rx=\"11\" ry=\"11\" style=\"stroke: #A80036; stroke-width: 1.0;\"/><path d=\"M147.5938,194.2813 L147.5938,202.2656 L148.25,202.2656 Q149.6875,202.2656 150.2969,201.3594 Q150.9219,200.4375 150.9219,198.2656 Q150.9219,196.0938 150.2969,195.1875 Q149.6875,194.2813 148.25,194.2813 L147.5938,194.2813 Z M145.1406,192.0781 L147.7656,192.0781 Q150.7969,192.0781 152.125,193.5313 Q153.4688,194.9688 153.4688,198.2656 Q153.4688,201.5625 152.125,203.0156 Q150.7969,204.4688 147.7656,204.4688 L145.1406,204.4688 L145.1406,192.0781 Z \"/><text fill=\"#000000\" font-family=\"sans-serif\" font-size=\"12\" font-style=\"italic\" lengthAdjust=\"spacingAndGlyphs\" textLength=\"106\" x=\"160\" y=\"195.6387\">«calculation def»</text><text fill=\"#000000\" font-family=\"sans-serif\" font-size=\"12\" lengthAdjust=\"spacingAndGlyphs\" textLength=\"59\" x=\"183.5\" y=\"209.6074\">MassSum</text><line style=\"stroke: #A80036; stroke-width: 1.5;\" x1=\"134\" x2=\"266\" y1=\"217.4375\" y2=\"217.4375\"/></a><!--MD5=[60a26617385b1d2d0262a64233df1f8d]\n",
       "class E6--><a href=\"psysml:1d10ff1d-94f3-4fcc-ad21-5a3c75a7ba0b\" target=\"_top\" title=\"psysml:1d10ff1d-94f3-4fcc-ad21-5a3c75a7ba0b\" xlink:actuate=\"onRequest\" xlink:href=\"psysml:1d10ff1d-94f3-4fcc-ad21-5a3c75a7ba0b\" xlink:show=\"new\" xlink:title=\"psysml:1d10ff1d-94f3-4fcc-ad21-5a3c75a7ba0b\" xlink:type=\"simple\"><rect fill=\"#FEFECE\" filter=\"url(#fmqkkmjh68klh)\" height=\"45.9375\" id=\"E6\" rx=\"10\" ry=\"10\" style=\"stroke: #A80036; stroke-width: 1.5;\" width=\"117\" x=\"376.5\" y=\"54\"/><ellipse cx=\"391.5\" cy=\"72.9688\" fill=\"#FFA500\" rx=\"11\" ry=\"11\" style=\"stroke: #A80036; stroke-width: 1.0;\"/><path d=\"M387.375,74.8906 L387.375,67.0781 L389.8281,67.0781 L389.8281,75.5156 Q389.8281,76.4375 390.2969,76.9688 Q390.7813,77.5 391.6094,77.5 Q392.4531,77.5 392.9219,76.9688 Q393.3906,76.4375 393.3906,75.5156 L393.3906,67.0781 L395.8438,67.0781 L395.8438,74.8906 Q395.8438,77.4219 394.8438,78.5625 Q393.8438,79.7031 391.6094,79.7031 Q389.3906,79.7031 388.375,78.5625 Q387.375,77.4219 387.375,74.8906 Z \"/><text fill=\"#000000\" font-family=\"sans-serif\" font-size=\"12\" font-style=\"italic\" lengthAdjust=\"spacingAndGlyphs\" textLength=\"82\" x=\"407\" y=\"70.1387\">«calculation»</text><text fill=\"#000000\" font-family=\"sans-serif\" font-size=\"12\" lengthAdjust=\"spacingAndGlyphs\" textLength=\"85\" x=\"405.5\" y=\"84.1074\">ms: MassSum</text><line style=\"stroke: #A80036; stroke-width: 1.5;\" x1=\"377.5\" x2=\"492.5\" y1=\"91.9375\" y2=\"91.9375\"/></a><!--MD5=[2156ba9850f5573cc1fc38a6a4b2f02b]\n",
       "class E7--><a href=\"psysml:86e0ef61-a473-4ef3-8b23-ebbfee168e1c\" target=\"_top\" title=\"psysml:86e0ef61-a473-4ef3-8b23-ebbfee168e1c\" xlink:actuate=\"onRequest\" xlink:href=\"psysml:86e0ef61-a473-4ef3-8b23-ebbfee168e1c\" xlink:show=\"new\" xlink:title=\"psysml:86e0ef61-a473-4ef3-8b23-ebbfee168e1c\" xlink:type=\"simple\"><rect fill=\"#FEFECE\" filter=\"url(#fmqkkmjh68klh)\" height=\"71.5469\" id=\"E7\" style=\"stroke: #A80036; stroke-width: 1.5;\" width=\"148\" x=\"193\" y=\"41\"/><ellipse cx=\"214.3\" cy=\"59.9688\" fill=\"#A52A2A\" rx=\"11\" ry=\"11\" style=\"stroke: #A80036; stroke-width: 1.0;\"/><path d=\"M213.8938,55.7813 L213.8938,63.7656 L214.55,63.7656 Q215.9875,63.7656 216.5969,62.8594 Q217.2219,61.9375 217.2219,59.7656 Q217.2219,57.5938 216.5969,56.6875 Q215.9875,55.7813 214.55,55.7813 L213.8938,55.7813 Z M211.4406,53.5781 L214.0656,53.5781 Q217.0969,53.5781 218.425,55.0313 Q219.7688,56.4688 219.7688,59.7656 Q219.7688,63.0625 218.425,64.5156 Q217.0969,65.9688 214.0656,65.9688 L211.4406,65.9688 L211.4406,53.5781 Z \"/><text fill=\"#000000\" font-family=\"sans-serif\" font-size=\"12\" font-style=\"italic\" lengthAdjust=\"spacingAndGlyphs\" textLength=\"106\" x=\"227.7\" y=\"57.1387\">«calculation def»</text><text fill=\"#000000\" font-family=\"sans-serif\" font-size=\"12\" lengthAdjust=\"spacingAndGlyphs\" textLength=\"67\" x=\"247.2\" y=\"71.1074\">MassSum1</text><line style=\"stroke: #A80036; stroke-width: 1.5;\" x1=\"194\" x2=\"340\" y1=\"78.9375\" y2=\"78.9375\"/><text fill=\"#000000\" font-family=\"sans-serif\" font-size=\"11\" lengthAdjust=\"spacingAndGlyphs\" textLength=\"136\" x=\"199\" y=\"93.1479\">partMasses: MassValue</text><text fill=\"#000000\" font-family=\"sans-serif\" font-size=\"11\" lengthAdjust=\"spacingAndGlyphs\" textLength=\"124\" x=\"199\" y=\"105.9526\">totalMass: MassValue</text></a><!--MD5=[b9389687b975829384b498ac4b7476b2]\n",
       "class E8--><a href=\"psysml:5bbc6089-c972-4222-8f32-76d519ddb8cd\" target=\"_top\" title=\"psysml:5bbc6089-c972-4222-8f32-76d519ddb8cd\" xlink:actuate=\"onRequest\" xlink:href=\"psysml:5bbc6089-c972-4222-8f32-76d519ddb8cd\" xlink:show=\"new\" xlink:title=\"psysml:5bbc6089-c972-4222-8f32-76d519ddb8cd\" xlink:type=\"simple\"><rect fill=\"#FEFECE\" filter=\"url(#fmqkkmjh68klh)\" height=\"71.5469\" id=\"E8\" rx=\"10\" ry=\"10\" style=\"stroke: #A80036; stroke-width: 1.5;\" width=\"125\" x=\"32.5\" y=\"41\"/><ellipse cx=\"47.5\" cy=\"59.9688\" fill=\"#FFA500\" rx=\"11\" ry=\"11\" style=\"stroke: #A80036; stroke-width: 1.0;\"/><path d=\"M43.375,61.8906 L43.375,54.0781 L45.8281,54.0781 L45.8281,62.5156 Q45.8281,63.4375 46.2969,63.9688 Q46.7813,64.5 47.6094,64.5 Q48.4531,64.5 48.9219,63.9688 Q49.3906,63.4375 49.3906,62.5156 L49.3906,54.0781 L51.8438,54.0781 L51.8438,61.8906 Q51.8438,64.4219 50.8438,65.5625 Q49.8438,66.7031 47.6094,66.7031 Q45.3906,66.7031 44.375,65.5625 Q43.375,64.4219 43.375,61.8906 Z \"/><text fill=\"#000000\" font-family=\"sans-serif\" font-size=\"12\" font-style=\"italic\" lengthAdjust=\"spacingAndGlyphs\" textLength=\"82\" x=\"67\" y=\"57.1387\">«calculation»</text><text fill=\"#000000\" font-family=\"sans-serif\" font-size=\"12\" lengthAdjust=\"spacingAndGlyphs\" textLength=\"93\" x=\"61.5\" y=\"71.1074\">ms1: MassSum</text><line style=\"stroke: #A80036; stroke-width: 1.5;\" x1=\"33.5\" x2=\"156.5\" y1=\"78.9375\" y2=\"78.9375\"/><text fill=\"#000000\" font-family=\"sans-serif\" font-size=\"11\" lengthAdjust=\"spacingAndGlyphs\" textLength=\"67\" x=\"38.5\" y=\"93.1479\">partMasses</text><text fill=\"#000000\" font-family=\"sans-serif\" font-size=\"11\" lengthAdjust=\"spacingAndGlyphs\" textLength=\"55\" x=\"38.5\" y=\"105.9526\">totalMass</text></a><!--MD5=[209b3feb70ccb6233bfe1053d122c12c]\n",
       "reverse link E2 to E3--><a href=\"psysml:5beb719b-2071-4403-a403-a4a2a93a4090\" target=\"_top\" title=\"psysml:5beb719b-2071-4403-a403-a4a2a93a4090\" xlink:actuate=\"onRequest\" xlink:href=\"psysml:5beb719b-2071-4403-a403-a4a2a93a4090\" xlink:show=\"new\" xlink:title=\"psysml:5beb719b-2071-4403-a403-a4a2a93a4090\" xlink:type=\"simple\"><path d=\"M536.08,115.85 C517.3,134.11 495.13,155.66 477.74,172.58 \" fill=\"none\" id=\"E2&lt;-E3\" style=\"stroke: #A80036; stroke-width: 1.0;\"/><polygon fill=\"#A80036\" points=\"545.54,106.64,538.4499,107.9553,536.937,115.0059,544.0271,113.6906,545.54,106.64\" style=\"stroke: #A80036; stroke-width: 1.0;\"/></a><!--MD5=[9618e71518536f8baf3342ff6fdab317]\n",
       "reverse link E2 to E4--><a href=\"psysml:48862a39-11e7-4605-8aed-a0acf63d7872\" target=\"_top\" title=\"psysml:48862a39-11e7-4605-8aed-a0acf63d7872\" xlink:actuate=\"onRequest\" xlink:href=\"psysml:48862a39-11e7-4605-8aed-a0acf63d7872\" xlink:show=\"new\" xlink:title=\"psysml:48862a39-11e7-4605-8aed-a0acf63d7872\" xlink:type=\"simple\"><path d=\"M575,119.66 C575,137.05 575,156.83 575,172.58 \" fill=\"none\" id=\"E2&lt;-E4\" style=\"stroke: #A80036; stroke-width: 1.0;\"/><polygon fill=\"#A80036\" points=\"575,106.64,571,112.64,575,118.64,579,112.64,575,106.64\" style=\"stroke: #A80036; stroke-width: 1.0;\"/></a><!--MD5=[25b190c987b1e74e5126d372c5a73af1]\n",
       "link E6 to E5--><a href=\"psysml:9917c25f-6195-4027-a1da-c593e3e3b530\" target=\"_top\" title=\"psysml:9917c25f-6195-4027-a1da-c593e3e3b530\" xlink:actuate=\"onRequest\" xlink:href=\"psysml:9917c25f-6195-4027-a1da-c593e3e3b530\" xlink:show=\"new\" xlink:title=\"psysml:9917c25f-6195-4027-a1da-c593e3e3b530\" xlink:type=\"simple\"><path d=\"M392.99,100.08 C355.92,119.56 301.49,148.17 259.87,170.04 \" fill=\"none\" id=\"E6-&gt;E5\" style=\"stroke: #A80036; stroke-width: 1.0;\"/><polygon fill=\"#FFFFFF\" points=\"242.05,179.4,255.6092,164.3618,262.1247,176.7533,242.05,179.4\" style=\"stroke: #A80036; stroke-width: 1.0;\"/><ellipse cx=\"261.5851\" cy=\"163.4793\" fill=\"#A80036\" rx=\"2\" ry=\"2\" style=\"stroke: #A80036; stroke-width: 1.0;\"/><ellipse cx=\"266.239\" cy=\"172.3303\" fill=\"#A80036\" rx=\"2\" ry=\"2\" style=\"stroke: #A80036; stroke-width: 1.0;\"/></a><!--MD5=[1ccb2481ffa92f8d51a74ee30c51832a]\n",
       "link E8 to E5--><a href=\"psysml:bf4de082-8867-4b4d-b459-dc33df5641b4\" target=\"_top\" title=\"psysml:bf4de082-8867-4b4d-b459-dc33df5641b4\" xlink:actuate=\"onRequest\" xlink:href=\"psysml:bf4de082-8867-4b4d-b459-dc33df5641b4\" xlink:show=\"new\" xlink:title=\"psysml:bf4de082-8867-4b4d-b459-dc33df5641b4\" xlink:type=\"simple\"><path d=\"M124.81,113.06 C138.29,128.92 154.24,147.68 167.97,163.83 \" fill=\"none\" id=\"E8-&gt;E5\" style=\"stroke: #A80036; stroke-width: 1.0;\"/><polygon fill=\"#FFFFFF\" points=\"181.04,179.2,163.4008,169.2572,174.0677,160.1898,181.04,179.2\" style=\"stroke: #A80036; stroke-width: 1.0;\"/><ellipse cx=\"161.233\" cy=\"163.6189\" fill=\"#A80036\" rx=\"2\" ry=\"2\" style=\"stroke: #A80036; stroke-width: 1.0;\"/><ellipse cx=\"168.8522\" cy=\"157.1422\" fill=\"#A80036\" rx=\"2\" ry=\"2\" style=\"stroke: #A80036; stroke-width: 1.0;\"/></a><!--MD5=[8c1bc868927762b2f1eb9d6805d7970d]\n",
       "@startuml\r\n",
       " \r\n",
       "package \"CalculationExample\" as E1  [[psysml:7249bcac-c63a-48a6-adec-7cf675138100 ]]  {\r\n",
       "comp usage \"vehicle\" as E2  << (P,limegreen) part>> [[psysml:14188455-78e6-45cf-9446-0197417271d8 ]] {\r\n",
       "m: MassValue\r\n",
       "}\r\n",
       "comp usage \"eng\" as E3  << (P,limegreen) part>> [[psysml:5beb719b-2071-4403-a403-a4a2a93a4090 ]] {\r\n",
       "m: MassValue\r\n",
       "}\r\n",
       "comp usage \"trans\" as E4  << (P,limegreen) part>> [[psysml:48862a39-11e7-4605-8aed-a0acf63d7872 ]] {\r\n",
       "m: MassValue\r\n",
       "}\r\n",
       "comp def \"MassSum\" as E5  <<(D,brown)calculation def>> [[psysml:8857df12-96f9-4753-a6e3-dc799dcb9ed4 ]] {\r\n",
       "}\r\n",
       "comp usage \"ms: MassSum\" as E6  <<(U,orange)calculation>> [[psysml:1d10ff1d-94f3-4fcc-ad21-5a3c75a7ba0b ]] {\r\n",
       "}\r\n",
       "comp def \"MassSum1\" as E7  <<(D,brown)calculation def>> [[psysml:86e0ef61-a473-4ef3-8b23-ebbfee168e1c ]] {\r\n",
       "partMasses: MassValue\r\n",
       "totalMass: MassValue\r\n",
       "}\r\n",
       "comp usage \"ms1: MassSum\" as E8  <<(U,orange)calculation>> [[psysml:5bbc6089-c972-4222-8f32-76d519ddb8cd ]] {\r\n",
       "partMasses\r\n",
       "totalMass\r\n",
       "}\r\n",
       "E2 *- - E3 [[psysml:5beb719b-2071-4403-a403-a4a2a93a4090 ]] \r\n",
       "E2 *- - E4 [[psysml:48862a39-11e7-4605-8aed-a0acf63d7872 ]] \r\n",
       "E6 - -:|> E5 [[psysml:9917c25f-6195-4027-a1da-c593e3e3b530 ]] \r\n",
       "E8 - -:|> E5 [[psysml:bf4de082-8867-4b4d-b459-dc33df5641b4 ]] \r\n",
       "}\r\n",
       "@enduml\r\n",
       "\n",
       "PlantUML version 1.2020.13(Sat Jun 13 12:26:38 UTC 2020)\n",
       "(EPL source distribution)\n",
       "Java Runtime: OpenJDK Runtime Environment\n",
       "JVM: OpenJDK 64-Bit Server VM\n",
       "Default Encoding: UTF-8\n",
       "Language: en\n",
       "Country: null\n",
       "--></g></svg>"
      ]
     },
     "execution_count": 31,
     "metadata": {},
     "output_type": "execute_result"
    }
   ],
   "source": [
    "%viz --style=\"PLANTUML\" --view=\"Tree\" \"CalculationExample\""
   ]
  },
  {
   "cell_type": "code",
   "execution_count": 32,
   "id": "sensitive-commission",
   "metadata": {
    "execution": {
     "iopub.execute_input": "2021-03-26T09:15:58.408010Z",
     "iopub.status.busy": "2021-03-26T09:15:58.407383Z",
     "iopub.status.idle": "2021-03-26T09:15:58.494713Z",
     "shell.execute_reply": "2021-03-26T09:15:58.493310Z"
    }
   },
   "outputs": [
    {
     "data": {
      "image/svg+xml": [
       "<?xml version=\"1.0\" encoding=\"UTF-8\" standalone=\"no\"?><svg xmlns=\"http://www.w3.org/2000/svg\" xmlns:xlink=\"http://www.w3.org/1999/xlink\" contentScriptType=\"application/ecmascript\" contentStyleType=\"text/css\" height=\"420px\" preserveAspectRatio=\"none\" style=\"width:603px;height:420px;background:#000000;\" version=\"1.1\" viewBox=\"0 0 603 420\" width=\"603px\" zoomAndPan=\"magnify\"><defs/><g><rect fill=\"#262221\" height=\"1\" style=\"stroke: #262221; stroke-width: 1.0;\" width=\"1\" x=\"0\" y=\"0\"/><rect fill=\"#F6C914\" height=\"58\" style=\"stroke: #F6C914; stroke-width: 1.0;\" width=\"602\" x=\"0\" y=\"0\"/><image height=\"58\" width=\"454\" x=\"1\" xlink:href=\"data:image/png;base64,iVBORw0KGgoAAAANSUhEUgAAAcYAAAA6CAMAAAAdmwnNAAADAFBMVEX2yRQ4AADTyRQ4cREAAAT2yRGKLQAAAAAZFxpikBT2yQ7TcQRiAAAALQuKrRT2kAiwUQAAUQ6wyRT2rQsAAAgYFhoYFxkZFhn2yRMYFxr2yBP2yBRiLQAALQj1yRM4UQ4ZFhqwrRT2rQ4KChoODhkVFBqwUQT/0xQICRn1yRTTkAgAAhgALQQREBr3yhP/0RMAABYMDRoCAxr/1hMCBBj90BPTkAsFBxr1yBT/3Rj/1xJicQ+KkBH/2BQAARQQDhn6zBMYFRlikBD8zhMTExkGCBn/3BT5yxMTEhn+0RMDBho4UQnTyQ//3xf1yBP/1ROKUQTTcQg4cQ44LQBicQsLCxf/2xP/2BAGBxv/1BP/1Rr4yRUAABgWExwEBxcYFRwDBBawcQTTrRQ4AAQtJxn4yhOPdhn/0BdoVxnrvxj4yxPkuxb/0hL/3xO2lhb6zhLgthYPDRWKchkpIxv/2Rn7zRL/2hb/3hQAABrxxhjDoBhiUQT2rRGwcQj/2g8mHxf/0xHDnhX5zBISEBwkHxn/4BUxKxoVEhi7lxX2yRJaShtwXhhjVBiliBj6zBRjUhcYFxf6zho6Mhj/2RJMQBpfTxocGBU+NhkQEBeHcBoXFBbRqRdRQxkDAhR9ahmKrQ+KcQQ4LQj/1hjYsBi+mRiihRcVEhv+0Rr3yxmtjxhQRBr1yhL+zxJnVBnFoxjIoxh6Yhn/1xf5yxcKDRnmvhaafhewkBdjUhz/1BFJPRmVexlzYRgXFhj0yRefhBn/4xOJchmfgRiCahq0khb3zRNyXRnitxjxxBeykxv+0RLbsxY1LRogGxz/2hP/5Rm+nBSoiRcAUQiwkBGKkBQ4cQv2kAuwkAiKkAsKBhZFPBdtWReCbxpUSBn7zxLzxhmOdBg0Lh3swhpBNxyqihZbThzowRuoixfYtBknIxWtixiDbRj/3xusjxy5mx1+ZRyVdx3uwRnovxgTEBX4zBXMpRZaTxemhBb2yRzGoRf/5x/zyRXMohJgUR1iLQSwrQ7TrQ4qcmSgAAARg0lEQVR4Xu2ceXQUx5nAq++e7jkkDZIGSSAsbowhMcYxYIIJR7xrTIyJca6Nsf3y3nodx5tsTPyyYZP12vuy+5y3MUt8bMza8e6+HE7igPG12Dy/GOGQmAVzI8CS0IEOmNHMaKanp6+tqj5mpqWZFhCttMr8/lBXV9X31Tf1dVVXdfcnAMqUKTM+oNwZQ7jpoZbGz1Vtb79JIMRBd2GZ8QHhznAzN+WrWqbq137p5LyNH3a7S8uMD7xG49z48i/vuGffmT2vvtx9/8tJd7En4bAsqIY7t8wfGS830o3L092/qTqTvf6Ogb83LtuNgp4EGqO6s4vA0NDlQm2aU+fF/LK7tBBc1535JwvpznBB/fmD/9mTfD9Onjfe07rcpZ4QiurPujOLIqApXumbzDBn3UVDwHWHg2Er3VnjnD+CxV5uNN6XNXSM9WZSl+fFDfcfBYwSCIH7fO6iYqggrQMl25Fg2AraXYj4zlZtI8fRt5FW3eEIKir6URUB/NPCBJxvmvzmCWhqQKL30sF8gTHHsrgIIWIE/VfsmraZWr347UQCgEDNPz35rruwFAxBkJJAMjF3QQkqJFLCiXDUnxrGSaGMlWBTulPXTSijwgtPIHk9Cs9EFZ6FoyyuLJBKQI9iy9xSY4lpcTGK/tB8SlwGmCzbMA3dPyseeu6Uu8wDjQG+VMKdWwImHfDBGSZQBdO07cV5BNdoV0gb2g1flOV6RvLjulBkFjcFVc+DACz860vJA+iMQX9UFvDoyGayMJdhNZw7csQhw3eYds1sgstfbYQ4H5wB0A/IpYZiWjwEUxmTHom1Hm6M3Pm5U2fhpRLkVw94VHXBsL5BQWZpjrMmfqGh0vw12DVTrkET3p0FNwaGxZ3MoX5PoBlwUhWYdY4FXXmdePTfAejIVtC4LhBq20EfWQXESVXMHRycOQU/J4HpBFepsvacC7tI1dZRsNNF6Q7z8iicsb0NA1QKFqGJeZbpCLvdPFFEWG1HDsmJqyAbau0HPb68lNNKCM73MMlZFlsqHFlLGepHS30JvHyjSb0roBeF9Ok+d1FpfCla96VgosaaMJj+BPpdEBG6pi9ZBZ21s2CpgkTgHw1NhiwIt/bLA6H2mrr8PkcOaKolUlFcl1H7I2vgcpVRBn5AvAGyBLyxwkpnrr0hbi2O8bXMKBX/kJRAOK3uQZeHPVBtvA2D5oTOsVkOiO34mrLbzRNFwKv2NgUuJXLiDNiQ8MMfkM1L5bUCoFYsiSw2dTiytjL8Qz3xcCP5wZyLb0BTeyqjDe6y0qABdSkESLnDmlcJTTQTITVQpxuwX3GOCuwbnjkGVTaDeyYcpZYleS2Qqk4HLA1ouF7curGrZ5lk1mUJoX0vHpYVBAGXxEHoRoqpEY8164w9UUHHQ7EtDC/IfnuDUtgx3oYx2tNaYAvICoTgo5S8dh1RjC8l/Bppzhd/1Z9qxTOCk3JaYbRjiUAdza4xLTZ1OLK2MtwfnnjsG1fW/MW7pwHg2I+/03LBXVgSWqdVwMu8vf1jVD5lwBUH7G9C7dd5XaFRDlx1OFWwCI3ORfnDJ/2TDwEh23jDe/V9dvcHE+CJ5pM3dnxk1hVIEUisykkU0fjjQJrgDLiTFLIGWlVZLfM0bUhCljsiDK7rItO4BdZg8nvG2zBGDX16p/qBqjMyrepErl1H1ByQBCc3JA1ToSnOqwEyDavTkpNSc60Y3X36BSXba1qcMwbLWsryu7AEHm7kNj98Gs4DXOTRumMXAagLVvqa5lZX3xWf1DB/dc+1evHnASJsHv5+wl5l8TQD57UBwAspn2QAVqcpmMMYusHYZuL+ELPwnNeepYx+5Kzo1Eybs8tnDfZ3T2sd6BzVFbJ0LJygmAxP91cACegivM3QuoY6lUdqkOOppIGyOP0kOYCNgjWk/OcG3obhqyTpHzyywxcXVMXIa9cSNSsqDXwfWNKBck1xRiXSadhoOp1LVdqt6ATZoqL+syx2jDFlLWWAF50uLIHHpMoFFqBpIzHnrf0JEIn8YkP1grUfW/fl9W+u2PIgebPUvT7ilnCAs4+5DjGB90nm3kG4H1RZOKcJRMAHl7FNtfo382XQzQzNgmlwe1aBqwEaCG+0GmgdgYF7xQV586EKEjdGDzNYdyoKFGFARRMgXtgpFLovgwxsjFFgVvwR1Z6azTnOYSSGnaHQDX6RgkZxsKBdU9Sq9lHnwsgHBeIay8ySWHTV2CmnFZjHYvdbFmPyZE1lIH4RLRW8KD0a666/+0dxaHuldmvqhFi56bPh5X/12Pn4O7team3fG7t9pbKySx1+HcWgSSqYYBX7woeTBHF4+XnOMOA4WtxOqEmCA8k0fVCX7So8LKEIiZLhVHgkqBsrWv2DOkU/ToWsi4FFc2KuLquTvb5zbSxtGCwaYBTQgppqMPUrejPBQfKWVjDvAqDlylQVvKB/C5BRpKGigTzrkx/R9sM8b8N4WvfHgSBRsBVoERw+VrtZW9QZL/e2xBXDEeehZUS8RkuDvJTdCkUQMromGctiLF/QNFIGzfSPYDSWpH7u352/dRrP829v3vLFqXOXPv+xOTNmVk+unVYzuXpaTfV11//jroXr3UIWaK8l2E9PcAZcZaMMuCeAoMtnAzHlZrhmd+pUoNwKuB8LE5Vobc9xPrggpxsdHSJ91E6iugLLwbJZHHXcfNDR1ADbrIBiaJuHjpBPoTW80wJ6fmO2D7FzPQ0T/Eghw+Ld4yx6mdOuI4qrwa0SBJrviIeJ2wjT/Fwq14q9G7Utxtiy6yxlgj/386+U+peXrKmezPOTr9t2sH5q5Pa77vkhcqpNDb9izQOr6txSJQgh+8MNHDR1GObZPwY/QYP9hB8EDI9T1w3Sfg1KoC3ZT3BqA/5rA91x2xF315Q2zHqwNzxYFIHc+JMC+dyOMpca2opjcT5DlZWk5MO4qTM3P9UO78KRfw0903z+kQ1fiXI9+eVB8NDb39j94/ys0ozowdJYcBWGlRAVZcG6IedSo0OJywzelpe/F0MrHOmZN8+ej+yKaTr0YmUwVBmoDAXh4iaR2N6pjuwZHcM23gdCEr6zjyuuwjAvUUYZmholSi5xAgOff39ARs8w9Au9UxbSf5BlUPktQfNXBBetW3EA7kQE6dA3fukWGw6dTxyF6xO46h5nXIVhXqI87bc2C7nUKFHKjfX69H2xLHTj0lUn2pI0+ToPt3LsxsQLJ79GVE3apnAyyIgGcdAtNyzKIj0NIpfzvuP/iKswzEtUB2gDX5gaHUq5MbgpcCIKp/QQufkQ3XnDdf2X4Pjjjz7w3bYDF44/2Dj/99DDmcgPt7vlhqcroWnWg8PxxVUYVlpU17K2F53UKFHq3rjozaUaFQIhnX312x2R2FYNbXN9k/jWlg+Pdv/0yB5sWeZZl1SZMaCUGw/7B1Q9DuLz5enPdwH6MbT1DqXkrsWgp1v7L3rxQlRpYGRzaplRpZQbs3UEAaeMyrWf7X4tQq2uJXQA4gvXNu+Eo7KH6FvdhmtdKhQqMxaUcuPCp87jt1M7Ot8jwGeW7RyAPg208fsNtAkJZoIBVJj/pqbMWFHKjT2n2k7Agx5emaJA89scfhxP362GTsJEgv8P/HojFS6QKTMmlHIjPeMDtIohZx6OAGraFPyhokrpG5EXwZTZ881t77/lBMqMFSXcGAk/9xg8hPxL330rS0lKLcqs+NKTT+PStj3ma+mFT+YkyowVxd0YWXXvOw+jB4GGQazvqZj0C7wkNaiD+LHq3Dl/+xR6fRRpuzZfqMzYUNyNPRs0DpXq9NzrdwFu9gKUGTI+cQm9KZ67Obn0+3B1E0mHL+cNR5lRorgb6/2pqegJBS386hiIzFiJngmG4vwrt1IATE3snX33L2GOTMwdwZciZUab4m40noj3oa8n1AW+aIT85vFTaGE6Ze2Bn3eBOnDLo59qfQM6matbeBnvqcqMFsOGSmDoTUYUf/iiNwOy++d9+JbIT+82ABlaeVf81ykCgEqpYtPOQjEHsSo1kq9ISsEQ3HAxACOgUPLK9fx/ofij8ZA+oJ6BRy72bCLxinqwDy5MOfKeXcF7Ul/oJX72B4AGo//x135/0S2JYfQkZX8gSAfRotY6DIcY4s33OE4CE9Ao51ueAkqoMslJIo1F9UwYio9GMC0KInAIkp949iuBbeJpdDkLjPoDYGTlg6da6Bhc4DDr6N8UeavNkLw9AIJRldSdwzCEMjL+ji2XMCkeNVVUlYUjiTUW1TNhKD4afekHXonBLb/c0bJv+r9cWnJgEPpG+u2e119XdlWf1uFuI/I8/zdbW4sEkuMvRM0ka+BPwKzDUASgG/j1uJOwEFXnS7hCiqqysSVNjUX1TBiKL3F6Vt2o4LGaIDr3E8eb0WQXIy91Xujcmzqlwxl1CfPiI+vuK/YxD/4e08SKGDIPw4QWsYpqzqQ4kavgFTWVwx3yZElaGvHZMO1OIIqPxqk12sH6BLq9yUu/H9l6CE+emayckeVMRgaVLOn7y692vkUVeW1K6xI9Y7COJjhCBTP6OZrGh6CiK8FeGQyyaki7pRXVDGUE8zMIM0E7FXhagwNaqO4GKZ6X4E1OXd+KosotjUExc+dJ8zbJAtmYdzGgGmDWYEMcfTSBJG2N+CynNt/KiUJxN8Z7pm3bP6MT+jFITqNfci1kgh+nnl/x9ahBnS/Md2AVkbsIUpqqw/EanbMslkaHprOC+pnD/lpJV4wvHG9FXS0AEeDBaCVEp0IwIcChZKQjS85xhqpL23efBZphAFNj01nGOGnAxQyTQd8hi/2UxqhiDMT9MsCSjkZ8llNbaOfEoLgbQbLlv7/zEjU/xv+Z9s+1P8KDMcDx7KIEx9bW82trel+4YHQVGYvQG0LzdjU4qKsaR08C7ScS+NBh8GqLLxVD338f1nCPijKOZHASuQqsIRnAZwg9nXA4kUTo07uhwlBGNzV2GD5ZRBEZmgpFn3tN/OtmxUfCkWegaBscpmFpxGc5tTkbJw4l3Aiv4t1L72Q+f7pmdvVr+5EbA+d+Nm+hD/i/PXURV/36oe7u4pE4jNr4PRTkJGTsGCc71MkJMjIrilnV/B8PdiJXwSNqKhd95A55MmOzHI1mcJer3YlFKTcmxUjrPrn38e5NLx89jfZpNcTkmzemmr7+05YLTzyQlYqsUTFmkBNDwF63IobMQy60yKwXTvjMr43sRF4Fj6ipXPSRO+TJjM1yVKMzd7sTjFJuBElVyvYNynvf/NY2GboxJC469D/TXzmcfr+968XuePGhCPB+A01oug7vV2aEnnmgCJ0lZlxkYQeLBqcyWcJ83+Uk8iqgqBW4Ulp87vCLVMZUqAcSFAp/RKqCiew1vuSWZuTGKKBlQdoB3cur/gyWdDRaIT6O2olISTeCwWQy2RszjOABKQtCpBh45rs7znbv74XZ7qouSEJAXqwY9FsxTtbBcEKLGJ1UDJ+hm13tJHKxR55RU3mRS4UhTwaSdDRiPXlqJyLF940OsUurlxPQJ8bqhztnFtsmumnUcMj/JSOmCJTctVuzDr7U6qwW6YoCoAg1IYHAsX8o2t1KgFwFSBbAhWkktbsumdqfVdE+tLZas1Wl12RrFktKtQB/A2otwWiEDi7N1G5CkjmNWE+B2j9J6hdIn6zmeX7yis6l9e7CEWBFDJmHvNAiVHS/HUNlJ/IreEdN2bhDnqBkTiPWU9juhKP0pIoJzJx+SuxED7tvGnjHXTgCpISWGLAPOLQ/V3TIOnES+RX69SLvMi2NOTKuWx6UzGnEegrbnXCMYFKl2d+dRl/IAepXTejN/9XgGVrkWeHKGCW144YRuDErna41gsFgxUPfUwrCG6+AYv8MzsGzwpUxSmrHDd4/LrLqxheS6MviUNVX29Gbq6tBIYj8N1FD8axwZYyS2nGDtxup2a1fOwbWg12P7rt4/iq9CBT0b5pK4VnhyhglteOGEWwg6ue3mYkGcVdBQZkyZcqUKTMR+V+pob+zxZO21wAAAABJRU5ErkJggg==\" y=\"1\"/><rect fill=\"#FFFFFF\" height=\"205.5625\" style=\"stroke: #FFFFFF; stroke-width: 1.0;\" width=\"602\" x=\"0\" y=\"58\"/><text fill=\"#000000\" font-family=\"sans-serif\" font-size=\"12\" font-weight=\"bold\" lengthAdjust=\"spacingAndGlyphs\" textLength=\"159\" x=\"5\" y=\"74.1387\">Welcome to PlantUML!</text><text fill=\"#000000\" font-family=\"sans-serif\" font-size=\"12\" lengthAdjust=\"spacingAndGlyphs\" textLength=\"0\" x=\"9\" y=\"88.1074\"/><text fill=\"#000000\" font-family=\"sans-serif\" font-size=\"12\" lengthAdjust=\"spacingAndGlyphs\" textLength=\"293\" x=\"5\" y=\"102.0762\">If you use this software, you accept its license.</text><text fill=\"#000000\" font-family=\"sans-serif\" font-size=\"12\" lengthAdjust=\"spacingAndGlyphs\" textLength=\"107\" x=\"5\" y=\"116.0449\">(details by typing</text><text fill=\"#000000\" font-family=\"monospace\" font-size=\"12\" lengthAdjust=\"spacingAndGlyphs\" textLength=\"49\" x=\"116\" y=\"116.0449\">license</text><text fill=\"#000000\" font-family=\"sans-serif\" font-size=\"12\" lengthAdjust=\"spacingAndGlyphs\" textLength=\"56\" x=\"169\" y=\"116.0449\">keyword)</text><text fill=\"#000000\" font-family=\"sans-serif\" font-size=\"12\" lengthAdjust=\"spacingAndGlyphs\" textLength=\"0\" x=\"9\" y=\"130.0137\"/><text fill=\"#000000\" font-family=\"sans-serif\" font-size=\"12\" lengthAdjust=\"spacingAndGlyphs\" textLength=\"283\" x=\"5\" y=\"143.9824\">You can start with a simple UML Diagram like:</text><text fill=\"#000000\" font-family=\"sans-serif\" font-size=\"12\" lengthAdjust=\"spacingAndGlyphs\" textLength=\"0\" x=\"9\" y=\"157.9512\"/><text fill=\"#000000\" font-family=\"monospace\" font-size=\"12\" lengthAdjust=\"spacingAndGlyphs\" textLength=\"119\" x=\"5\" y=\"171.9199\">Bob-&gt;Alice: Hello</text><text fill=\"#000000\" font-family=\"sans-serif\" font-size=\"12\" lengthAdjust=\"spacingAndGlyphs\" textLength=\"0\" x=\"9\" y=\"185.8887\"/><text fill=\"#000000\" font-family=\"sans-serif\" font-size=\"12\" lengthAdjust=\"spacingAndGlyphs\" textLength=\"14\" x=\"5\" y=\"199.8574\">Or</text><text fill=\"#000000\" font-family=\"sans-serif\" font-size=\"12\" lengthAdjust=\"spacingAndGlyphs\" textLength=\"0\" x=\"9\" y=\"213.8262\"/><text fill=\"#000000\" font-family=\"monospace\" font-size=\"12\" lengthAdjust=\"spacingAndGlyphs\" textLength=\"91\" x=\"5\" y=\"227.7949\">class Example</text><text fill=\"#000000\" font-family=\"sans-serif\" font-size=\"12\" lengthAdjust=\"spacingAndGlyphs\" textLength=\"0\" x=\"9\" y=\"241.7637\"/><text fill=\"#000000\" font-family=\"sans-serif\" font-size=\"12\" lengthAdjust=\"spacingAndGlyphs\" textLength=\"349\" x=\"5\" y=\"255.7324\">You will find more information about PlantUML syntax on</text><text fill=\"#000000\" font-family=\"sans-serif\" font-size=\"12\" lengthAdjust=\"spacingAndGlyphs\" text-decoration=\"underline\" textLength=\"129\" x=\"358\" y=\"255.7324\">https://plantuml.com</text><image height=\"71\" width=\"80\" x=\"516\" xlink:href=\"data:image/png;base64,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\" y=\"64\"/><rect fill=\"#000000\" height=\"96.4844\" style=\"stroke: #000000; stroke-width: 1.0;\" width=\"602\" x=\"0\" y=\"263.5625\"/><rect fill=\"#33FF02\" height=\"21.2969\" style=\"stroke: #33FF02; stroke-width: 1.0;\" width=\"170\" x=\"5\" y=\"268.5625\"/><text fill=\"#000000\" font-family=\"sans-serif\" font-size=\"14\" font-weight=\"bold\" lengthAdjust=\"spacingAndGlyphs\" textLength=\"168\" x=\"6\" y=\"283.5625\">[From string (line 2) ]</text><text fill=\"#33FF02\" font-family=\"sans-serif\" font-size=\"14\" font-weight=\"bold\" lengthAdjust=\"spacingAndGlyphs\" textLength=\"0\" x=\"10\" y=\"303.8594\"/><text fill=\"#33FF02\" font-family=\"sans-serif\" font-size=\"14\" font-weight=\"bold\" lengthAdjust=\"spacingAndGlyphs\" textLength=\"79\" x=\"5\" y=\"320.1563\">@startuml</text><text fill=\"#33FF02\" font-family=\"sans-serif\" font-size=\"14\" font-weight=\"bold\" lengthAdjust=\"spacingAndGlyphs\" textLength=\"0\" x=\"10\" y=\"336.4531\"/><text fill=\"#FF0000\" font-family=\"sans-serif\" font-size=\"14\" font-weight=\"bold\" lengthAdjust=\"spacingAndGlyphs\" textLength=\"142\" x=\"10\" y=\"352.75\">Empty description</text><rect fill=\"#F6C914\" height=\"58\" style=\"stroke: #F6C914; stroke-width: 1.0;\" width=\"602\" x=\"0\" y=\"360.0469\"/><image height=\"58\" width=\"454\" x=\"1\" xlink:href=\"data:image/png;base64,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\" y=\"361.0469\"/><!--MD5=[f59edd8218d337f74d0c332fc6737304]\n",
       "@startuml\r\n",
       " \r\n",
       "@enduml\r\n",
       "\n",
       "PlantUML version 1.2020.13(Sat Jun 13 12:26:38 UTC 2020)\n",
       "(EPL source distribution)\n",
       "Java Runtime: OpenJDK Runtime Environment\n",
       "JVM: OpenJDK 64-Bit Server VM\n",
       "Default Encoding: UTF-8\n",
       "Language: en\n",
       "Country: null\n",
       "--></g></svg>"
      ]
     },
     "execution_count": 32,
     "metadata": {},
     "output_type": "execute_result"
    }
   ],
   "source": [
    "%viz --style=\"PLANTUML\" --view=\"State\" \"CalculationExample\""
   ]
  },
  {
   "cell_type": "code",
   "execution_count": 33,
   "id": "chicken-treatment",
   "metadata": {
    "execution": {
     "iopub.execute_input": "2021-03-26T09:15:58.544888Z",
     "iopub.status.busy": "2021-03-26T09:15:58.544434Z",
     "iopub.status.idle": "2021-03-26T09:15:58.576294Z",
     "shell.execute_reply": "2021-03-26T09:15:58.574980Z"
    }
   },
   "outputs": [
    {
     "data": {
      "image/svg+xml": [
       "<?xml version=\"1.0\" encoding=\"UTF-8\" standalone=\"no\"?><svg xmlns=\"http://www.w3.org/2000/svg\" xmlns:xlink=\"http://www.w3.org/1999/xlink\" contentScriptType=\"application/ecmascript\" contentStyleType=\"text/css\" height=\"246px\" preserveAspectRatio=\"none\" style=\"width:1039px;height:246px;\" version=\"1.1\" viewBox=\"0 0 1039 246\" width=\"1039px\" zoomAndPan=\"magnify\"><defs><filter height=\"300%\" id=\"f1i10gmu793kvf\" width=\"300%\" x=\"-1\" y=\"-1\"><feGaussianBlur result=\"blurOut\" stdDeviation=\"2.0\"/><feColorMatrix in=\"blurOut\" result=\"blurOut2\" type=\"matrix\" values=\"0 0 0 0 0 0 0 0 0 0 0 0 0 0 0 0 0 0 .4 0\"/><feOffset dx=\"4.0\" dy=\"4.0\" in=\"blurOut2\" result=\"blurOut3\"/><feBlend in=\"SourceGraphic\" in2=\"blurOut3\" mode=\"normal\"/></filter></defs><g><!--MD5=[fbc87193dbaf4d95561dea2c320d4a47]\n",
       "cluster E1--><a href=\"psysml:7249bcac-c63a-48a6-adec-7cf675138100\" target=\"_top\" title=\"psysml:7249bcac-c63a-48a6-adec-7cf675138100\" xlink:actuate=\"onRequest\" xlink:href=\"psysml:7249bcac-c63a-48a6-adec-7cf675138100\" xlink:show=\"new\" xlink:title=\"psysml:7249bcac-c63a-48a6-adec-7cf675138100\" xlink:type=\"simple\"><polygon fill=\"#FFFFFF\" filter=\"url(#f1i10gmu793kvf)\" points=\"16,6,173,6,180,28.2969,1017,28.2969,1017,234,16,234,16,6\" style=\"stroke: #000000; stroke-width: 1.5;\"/><line style=\"stroke: #000000; stroke-width: 1.5;\" x1=\"16\" x2=\"180\" y1=\"28.2969\" y2=\"28.2969\"/><text fill=\"#000000\" font-family=\"sans-serif\" font-size=\"14\" font-weight=\"bold\" lengthAdjust=\"spacingAndGlyphs\" textLength=\"151\" x=\"20\" y=\"20.9951\">CalculationExample</text></a><!--MD5=[e4f7fae6ed58524ba242bb0b0d3be6b7]\n",
       "cluster E2--><a href=\"psysml:14188455-78e6-45cf-9446-0197417271d8\" target=\"_top\" title=\"psysml:14188455-78e6-45cf-9446-0197417271d8\" xlink:actuate=\"onRequest\" xlink:href=\"psysml:14188455-78e6-45cf-9446-0197417271d8\" xlink:show=\"new\" xlink:title=\"psysml:14188455-78e6-45cf-9446-0197417271d8\" xlink:type=\"simple\"><rect fill=\"#FFFFFF\" filter=\"url(#f1i10gmu793kvf)\" height=\"161\" id=\"E2\" rx=\"10\" ry=\"10\" style=\"stroke: #A80036; stroke-width: 1.5;\" width=\"518\" x=\"475\" y=\"49\"/><rect fill=\"#FEFECE\" height=\"23.9688\" rx=\"10\" ry=\"10\" style=\"stroke: #FEFECE; stroke-width: 1.5;\" width=\"518\" x=\"475\" y=\"49\"/><rect fill=\"#FEFECE\" height=\"10\" style=\"stroke: #FEFECE; stroke-width: 1.5;\" width=\"518\" x=\"475\" y=\"62.9688\"/><rect fill=\"none\" height=\"161\" id=\"E2\" rx=\"10\" ry=\"10\" style=\"stroke: #A80036; stroke-width: 1.5;\" width=\"518\" x=\"475\" y=\"49\"/><text fill=\"#000000\" font-family=\"sans-serif\" font-size=\"12\" lengthAdjust=\"spacingAndGlyphs\" textLength=\"43\" x=\"712.5\" y=\"65.1387\">vehicle</text><line style=\"stroke: #A80036; stroke-width: 1.0;\" x1=\"475\" x2=\"993\" y1=\"72.9688\" y2=\"72.9688\"/></a><!--MD5=[f6df4d0ebaf0b5dfb2ced0ae5af7c670]\n",
       "cluster E4--><a href=\"psysml:5beb719b-2071-4403-a403-a4a2a93a4090\" target=\"_top\" title=\"psysml:5beb719b-2071-4403-a403-a4a2a93a4090\" xlink:actuate=\"onRequest\" xlink:href=\"psysml:5beb719b-2071-4403-a403-a4a2a93a4090\" xlink:show=\"new\" xlink:title=\"psysml:5beb719b-2071-4403-a403-a4a2a93a4090\" xlink:type=\"simple\"><rect fill=\"#FFFFFF\" filter=\"url(#f1i10gmu793kvf)\" height=\"94\" id=\"E4\" rx=\"10\" ry=\"10\" style=\"stroke: #A80036; stroke-width: 1.5;\" width=\"156\" x=\"813\" y=\"92\"/><rect fill=\"#FEFECE\" height=\"23.9688\" rx=\"10\" ry=\"10\" style=\"stroke: #FEFECE; stroke-width: 1.5;\" width=\"156\" x=\"813\" y=\"92\"/><rect fill=\"#FEFECE\" height=\"10\" style=\"stroke: #FEFECE; stroke-width: 1.5;\" width=\"156\" x=\"813\" y=\"105.9688\"/><rect fill=\"none\" height=\"94\" id=\"E4\" rx=\"10\" ry=\"10\" style=\"stroke: #A80036; stroke-width: 1.5;\" width=\"156\" x=\"813\" y=\"92\"/><text fill=\"#000000\" font-family=\"sans-serif\" font-size=\"12\" lengthAdjust=\"spacingAndGlyphs\" textLength=\"24\" x=\"879\" y=\"108.1387\">eng</text><line style=\"stroke: #A80036; stroke-width: 1.0;\" x1=\"813\" x2=\"969\" y1=\"115.9688\" y2=\"115.9688\"/></a><!--MD5=[14e3b0961a2654348d326746436168a1]\n",
       "cluster E6--><a href=\"psysml:48862a39-11e7-4605-8aed-a0acf63d7872\" target=\"_top\" title=\"psysml:48862a39-11e7-4605-8aed-a0acf63d7872\" xlink:actuate=\"onRequest\" xlink:href=\"psysml:48862a39-11e7-4605-8aed-a0acf63d7872\" xlink:show=\"new\" xlink:title=\"psysml:48862a39-11e7-4605-8aed-a0acf63d7872\" xlink:type=\"simple\"><rect fill=\"#FFFFFF\" filter=\"url(#f1i10gmu793kvf)\" height=\"94\" id=\"E6\" rx=\"10\" ry=\"10\" style=\"stroke: #A80036; stroke-width: 1.5;\" width=\"156\" x=\"633\" y=\"92\"/><rect fill=\"#FEFECE\" height=\"23.9688\" rx=\"10\" ry=\"10\" style=\"stroke: #FEFECE; stroke-width: 1.5;\" width=\"156\" x=\"633\" y=\"92\"/><rect fill=\"#FEFECE\" height=\"10\" style=\"stroke: #FEFECE; stroke-width: 1.5;\" width=\"156\" x=\"633\" y=\"105.9688\"/><rect fill=\"none\" height=\"94\" id=\"E6\" rx=\"10\" ry=\"10\" style=\"stroke: #A80036; stroke-width: 1.5;\" width=\"156\" x=\"633\" y=\"92\"/><text fill=\"#000000\" font-family=\"sans-serif\" font-size=\"12\" lengthAdjust=\"spacingAndGlyphs\" textLength=\"33\" x=\"694.5\" y=\"108.1387\">trans</text><line style=\"stroke: #A80036; stroke-width: 1.0;\" x1=\"633\" x2=\"789\" y1=\"115.9688\" y2=\"115.9688\"/></a><!--MD5=[b9389687b975829384b498ac4b7476b2]\n",
       "class E8--><a href=\"psysml:8857df12-96f9-4753-a6e3-dc799dcb9ed4\" target=\"_top\" title=\"psysml:8857df12-96f9-4753-a6e3-dc799dcb9ed4\" xlink:actuate=\"onRequest\" xlink:href=\"psysml:8857df12-96f9-4753-a6e3-dc799dcb9ed4\" xlink:show=\"new\" xlink:title=\"psysml:8857df12-96f9-4753-a6e3-dc799dcb9ed4\" xlink:type=\"simple\"><rect fill=\"#FEFECE\" filter=\"url(#f1i10gmu793kvf)\" height=\"53.9375\" id=\"E8\" style=\"stroke: #A80036; stroke-width: 1.5;\" width=\"195\" x=\"261.5\" y=\"121.5\"/><ellipse cx=\"276.5\" cy=\"140.4688\" fill=\"#ADD1B2\" rx=\"11\" ry=\"11\" style=\"stroke: #A80036; stroke-width: 1.0;\"/><path d=\"M279.4688,146.1094 Q278.8906,146.4063 278.25,146.5469 Q277.6094,146.7031 276.9063,146.7031 Q274.4063,146.7031 273.0781,145.0625 Q271.7656,143.4063 271.7656,140.2813 Q271.7656,137.1563 273.0781,135.5 Q274.4063,133.8438 276.9063,133.8438 Q277.6094,133.8438 278.25,134 Q278.9063,134.1563 279.4688,134.4531 L279.4688,137.1719 Q278.8438,136.5938 278.25,136.3281 Q277.6563,136.0469 277.0313,136.0469 Q275.6875,136.0469 275,137.125 Q274.3125,138.1875 274.3125,140.2813 Q274.3125,142.375 275,143.4531 Q275.6875,144.5156 277.0313,144.5156 Q277.6563,144.5156 278.25,144.25 Q278.8438,143.9688 279.4688,143.3906 L279.4688,146.1094 Z \"/><text fill=\"#000000\" font-family=\"sans-serif\" font-size=\"12\" font-style=\"italic\" lengthAdjust=\"spacingAndGlyphs\" textLength=\"167\" x=\"288.5\" y=\"137.6387\">«(D,brown)calculation def»</text><text fill=\"#000000\" font-family=\"sans-serif\" font-size=\"12\" lengthAdjust=\"spacingAndGlyphs\" textLength=\"59\" x=\"342.5\" y=\"151.6074\">MassSum</text><line style=\"stroke: #A80036; stroke-width: 1.5;\" x1=\"262.5\" x2=\"455.5\" y1=\"159.4375\" y2=\"159.4375\"/><line style=\"stroke: #A80036; stroke-width: 1.5;\" x1=\"262.5\" x2=\"455.5\" y1=\"167.4375\" y2=\"167.4375\"/></a><!--MD5=[fd4143e9d270a159db93a4ea2a975926]\n",
       "class E9--><a href=\"psysml:86e0ef61-a473-4ef3-8b23-ebbfee168e1c\" target=\"_top\" title=\"psysml:86e0ef61-a473-4ef3-8b23-ebbfee168e1c\" xlink:actuate=\"onRequest\" xlink:href=\"psysml:86e0ef61-a473-4ef3-8b23-ebbfee168e1c\" xlink:show=\"new\" xlink:title=\"psysml:86e0ef61-a473-4ef3-8b23-ebbfee168e1c\" xlink:type=\"simple\"><rect fill=\"#FEFECE\" filter=\"url(#f1i10gmu793kvf)\" height=\"53.9375\" id=\"E9\" style=\"stroke: #A80036; stroke-width: 1.5;\" width=\"195\" x=\"31.5\" y=\"121.5\"/><ellipse cx=\"46.5\" cy=\"140.4688\" fill=\"#ADD1B2\" rx=\"11\" ry=\"11\" style=\"stroke: #A80036; stroke-width: 1.0;\"/><path d=\"M49.4688,146.1094 Q48.8906,146.4063 48.25,146.5469 Q47.6094,146.7031 46.9063,146.7031 Q44.4063,146.7031 43.0781,145.0625 Q41.7656,143.4063 41.7656,140.2813 Q41.7656,137.1563 43.0781,135.5 Q44.4063,133.8438 46.9063,133.8438 Q47.6094,133.8438 48.25,134 Q48.9063,134.1563 49.4688,134.4531 L49.4688,137.1719 Q48.8438,136.5938 48.25,136.3281 Q47.6563,136.0469 47.0313,136.0469 Q45.6875,136.0469 45,137.125 Q44.3125,138.1875 44.3125,140.2813 Q44.3125,142.375 45,143.4531 Q45.6875,144.5156 47.0313,144.5156 Q47.6563,144.5156 48.25,144.25 Q48.8438,143.9688 49.4688,143.3906 L49.4688,146.1094 Z \"/><text fill=\"#000000\" font-family=\"sans-serif\" font-size=\"12\" font-style=\"italic\" lengthAdjust=\"spacingAndGlyphs\" textLength=\"167\" x=\"58.5\" y=\"137.6387\">«(D,brown)calculation def»</text><text fill=\"#000000\" font-family=\"sans-serif\" font-size=\"12\" lengthAdjust=\"spacingAndGlyphs\" textLength=\"67\" x=\"108.5\" y=\"151.6074\">MassSum1</text><line style=\"stroke: #A80036; stroke-width: 1.5;\" x1=\"32.5\" x2=\"225.5\" y1=\"159.4375\" y2=\"159.4375\"/><line style=\"stroke: #A80036; stroke-width: 1.5;\" x1=\"32.5\" x2=\"225.5\" y1=\"167.4375\" y2=\"167.4375\"/></a><g id=\"E1.E2.E3\"><a href=\"psysml:536fae04-334d-4f68-a23e-e57d7170c38b\" target=\"_top\" title=\"psysml:536fae04-334d-4f68-a23e-e57d7170c38b\" xlink:actuate=\"onRequest\" xlink:href=\"psysml:536fae04-334d-4f68-a23e-e57d7170c38b\" xlink:show=\"new\" xlink:title=\"psysml:536fae04-334d-4f68-a23e-e57d7170c38b\" xlink:type=\"simple\"><rect fill=\"#FEFECE\" filter=\"url(#f1i10gmu793kvf)\" height=\"42.9375\" id=\"E3\" rx=\"10\" ry=\"10\" style=\"stroke: #A80036; stroke-width: 1.5;\" width=\"123\" x=\"491.5\" y=\"127\"/><ellipse cx=\"508.75\" cy=\"145.9688\" fill=\"#FFA500\" rx=\"11\" ry=\"11\" style=\"stroke: #A80036; stroke-width: 1.0;\"/><path d=\"M504.625,147.8906 L504.625,140.0781 L507.0781,140.0781 L507.0781,148.5156 Q507.0781,149.4375 507.5469,149.9688 Q508.0313,150.5 508.8594,150.5 Q509.7031,150.5 510.1719,149.9688 Q510.6406,149.4375 510.6406,148.5156 L510.6406,140.0781 L513.0938,140.0781 L513.0938,147.8906 Q513.0938,150.4219 512.0938,151.5625 Q511.0938,152.7031 508.8594,152.7031 Q506.6406,152.7031 505.625,151.5625 Q504.625,150.4219 504.625,147.8906 Z \"/><text fill=\"#000000\" font-family=\"sans-serif\" font-size=\"12\" font-style=\"italic\" lengthAdjust=\"spacingAndGlyphs\" textLength=\"69\" x=\"531.75\" y=\"143.1387\">«attribute»</text><text fill=\"#000000\" font-family=\"sans-serif\" font-size=\"12\" lengthAdjust=\"spacingAndGlyphs\" textLength=\"86\" x=\"523.25\" y=\"157.1074\">m: MassValue</text></a></g><g id=\"E1.E2.E4.E5\"><a href=\"psysml:2d8c1579-6ad8-45a7-8b4f-8ac5dd6e770e\" target=\"_top\" title=\"psysml:2d8c1579-6ad8-45a7-8b4f-8ac5dd6e770e\" xlink:actuate=\"onRequest\" xlink:href=\"psysml:2d8c1579-6ad8-45a7-8b4f-8ac5dd6e770e\" xlink:show=\"new\" xlink:title=\"psysml:2d8c1579-6ad8-45a7-8b4f-8ac5dd6e770e\" xlink:type=\"simple\"><rect fill=\"#FEFECE\" filter=\"url(#f1i10gmu793kvf)\" height=\"42.9375\" id=\"E5\" rx=\"10\" ry=\"10\" style=\"stroke: #A80036; stroke-width: 1.5;\" width=\"123\" x=\"829.5\" y=\"127\"/><ellipse cx=\"846.75\" cy=\"145.9688\" fill=\"#FFA500\" rx=\"11\" ry=\"11\" style=\"stroke: #A80036; stroke-width: 1.0;\"/><path d=\"M842.625,147.8906 L842.625,140.0781 L845.0781,140.0781 L845.0781,148.5156 Q845.0781,149.4375 845.5469,149.9688 Q846.0313,150.5 846.8594,150.5 Q847.7031,150.5 848.1719,149.9688 Q848.6406,149.4375 848.6406,148.5156 L848.6406,140.0781 L851.0938,140.0781 L851.0938,147.8906 Q851.0938,150.4219 850.0938,151.5625 Q849.0938,152.7031 846.8594,152.7031 Q844.6406,152.7031 843.625,151.5625 Q842.625,150.4219 842.625,147.8906 Z \"/><text fill=\"#000000\" font-family=\"sans-serif\" font-size=\"12\" font-style=\"italic\" lengthAdjust=\"spacingAndGlyphs\" textLength=\"69\" x=\"869.75\" y=\"143.1387\">«attribute»</text><text fill=\"#000000\" font-family=\"sans-serif\" font-size=\"12\" lengthAdjust=\"spacingAndGlyphs\" textLength=\"86\" x=\"861.25\" y=\"157.1074\">m: MassValue</text></a></g><g id=\"E1.E2.E6.E7\"><a href=\"psysml:aae9b164-5c75-4cd2-bd76-7fd4ffe374bb\" target=\"_top\" title=\"psysml:aae9b164-5c75-4cd2-bd76-7fd4ffe374bb\" xlink:actuate=\"onRequest\" xlink:href=\"psysml:aae9b164-5c75-4cd2-bd76-7fd4ffe374bb\" xlink:show=\"new\" xlink:title=\"psysml:aae9b164-5c75-4cd2-bd76-7fd4ffe374bb\" xlink:type=\"simple\"><rect fill=\"#FEFECE\" filter=\"url(#f1i10gmu793kvf)\" height=\"42.9375\" id=\"E7\" rx=\"10\" ry=\"10\" style=\"stroke: #A80036; stroke-width: 1.5;\" width=\"123\" x=\"649.5\" y=\"127\"/><ellipse cx=\"666.75\" cy=\"145.9688\" fill=\"#FFA500\" rx=\"11\" ry=\"11\" style=\"stroke: #A80036; stroke-width: 1.0;\"/><path d=\"M662.625,147.8906 L662.625,140.0781 L665.0781,140.0781 L665.0781,148.5156 Q665.0781,149.4375 665.5469,149.9688 Q666.0313,150.5 666.8594,150.5 Q667.7031,150.5 668.1719,149.9688 Q668.6406,149.4375 668.6406,148.5156 L668.6406,140.0781 L671.0938,140.0781 L671.0938,147.8906 Q671.0938,150.4219 670.0938,151.5625 Q669.0938,152.7031 666.8594,152.7031 Q664.6406,152.7031 663.625,151.5625 Q662.625,150.4219 662.625,147.8906 Z \"/><text fill=\"#000000\" font-family=\"sans-serif\" font-size=\"12\" font-style=\"italic\" lengthAdjust=\"spacingAndGlyphs\" textLength=\"69\" x=\"689.75\" y=\"143.1387\">«attribute»</text><text fill=\"#000000\" font-family=\"sans-serif\" font-size=\"12\" lengthAdjust=\"spacingAndGlyphs\" textLength=\"86\" x=\"681.25\" y=\"157.1074\">m: MassValue</text></a></g><!--MD5=[150355f83add9a0101f41192a0898d14]\n",
       "@startuml\r\n",
       "skinparam ranksep 8\r\n",
       "skinparam rectangle {\r\n",
       " backgroundColor<<block>> LightGreen\r\n",
       "}\r\n",
       " \r\n",
       "package \"CalculationExample\" as E1  [[psysml:7249bcac-c63a-48a6-adec-7cf675138100 ]]  {\r\n",
       "rec usage \"vehicle\" as E2  [[psysml:14188455-78e6-45cf-9446-0197417271d8 ]] {\r\n",
       "rec usage \"m: MassValue\" as E3  <<(U,orange)attribute>> [[psysml:536fae04-334d-4f68-a23e-e57d7170c38b ]] {\r\n",
       "}\r\n",
       "rec usage \"eng\" as E4  [[psysml:5beb719b-2071-4403-a403-a4a2a93a4090 ]] {\r\n",
       "rec usage \"m: MassValue\" as E5  <<(U,orange)attribute>> [[psysml:2d8c1579-6ad8-45a7-8b4f-8ac5dd6e770e ]] {\r\n",
       "}\r\n",
       "}\r\n",
       "rec usage \"trans\" as E6  [[psysml:48862a39-11e7-4605-8aed-a0acf63d7872 ]] {\r\n",
       "rec usage \"m: MassValue\" as E7  <<(U,orange)attribute>> [[psysml:aae9b164-5c75-4cd2-bd76-7fd4ffe374bb ]] {\r\n",
       "}\r\n",
       "}\r\n",
       "}\r\n",
       "def \"MassSum\" as E8  <<(D,brown)calculation def>> [[psysml:8857df12-96f9-4753-a6e3-dc799dcb9ed4 ]] \r\n",
       "def \"MassSum1\" as E9  <<(D,brown)calculation def>> [[psysml:86e0ef61-a473-4ef3-8b23-ebbfee168e1c ]] \r\n",
       "}\r\n",
       "@enduml\r\n",
       "\n",
       "PlantUML version 1.2020.13(Sat Jun 13 12:26:38 UTC 2020)\n",
       "(EPL source distribution)\n",
       "Java Runtime: OpenJDK Runtime Environment\n",
       "JVM: OpenJDK 64-Bit Server VM\n",
       "Default Encoding: UTF-8\n",
       "Language: en\n",
       "Country: null\n",
       "--></g></svg>"
      ]
     },
     "execution_count": 33,
     "metadata": {},
     "output_type": "execute_result"
    }
   ],
   "source": [
    "%viz --style=\"PLANTUML\" --view=\"Interconnection\" \"CalculationExample\""
   ]
  },
  {
   "cell_type": "code",
   "execution_count": 34,
   "id": "designed-performer",
   "metadata": {
    "execution": {
     "iopub.execute_input": "2021-03-26T09:15:58.627733Z",
     "iopub.status.busy": "2021-03-26T09:15:58.627361Z",
     "iopub.status.idle": "2021-03-26T09:15:58.659694Z",
     "shell.execute_reply": "2021-03-26T09:15:58.658430Z"
    }
   },
   "outputs": [
    {
     "data": {
      "image/svg+xml": [
       "<?xml version=\"1.0\" encoding=\"UTF-8\" standalone=\"no\"?><svg xmlns=\"http://www.w3.org/2000/svg\" xmlns:xlink=\"http://www.w3.org/1999/xlink\" contentScriptType=\"application/ecmascript\" contentStyleType=\"text/css\" height=\"162px\" preserveAspectRatio=\"none\" style=\"width:683px;height:162px;\" version=\"1.1\" viewBox=\"0 0 683 162\" width=\"683px\" zoomAndPan=\"magnify\"><defs><filter height=\"300%\" id=\"f1ixxfir40axsg\" width=\"300%\" x=\"-1\" y=\"-1\"><feGaussianBlur result=\"blurOut\" stdDeviation=\"2.0\"/><feColorMatrix in=\"blurOut\" result=\"blurOut2\" type=\"matrix\" values=\"0 0 0 0 0 0 0 0 0 0 0 0 0 0 0 0 0 0 .4 0\"/><feOffset dx=\"4.0\" dy=\"4.0\" in=\"blurOut2\" result=\"blurOut3\"/><feBlend in=\"SourceGraphic\" in2=\"blurOut3\" mode=\"normal\"/></filter></defs><g><!--MD5=[fbc87193dbaf4d95561dea2c320d4a47]\n",
       "cluster E1--><a href=\"psysml:8857df12-96f9-4753-a6e3-dc799dcb9ed4\" target=\"_top\" title=\"psysml:8857df12-96f9-4753-a6e3-dc799dcb9ed4\" xlink:actuate=\"onRequest\" xlink:href=\"psysml:8857df12-96f9-4753-a6e3-dc799dcb9ed4\" xlink:show=\"new\" xlink:title=\"psysml:8857df12-96f9-4753-a6e3-dc799dcb9ed4\" xlink:type=\"simple\"><rect fill=\"#FFFFFF\" filter=\"url(#f1ixxfir40axsg)\" height=\"87.72\" id=\"E1\" style=\"stroke: #A80036; stroke-width: 1.5;\" width=\"128\" x=\"28\" y=\"42.0986\"/><rect fill=\"#FEFECE\" height=\"37.9375\" style=\"stroke: #A80036; stroke-width: 1.5;\" width=\"128\" x=\"28\" y=\"42.0986\"/><text fill=\"#000000\" font-family=\"sans-serif\" font-size=\"12\" font-style=\"italic\" lengthAdjust=\"spacingAndGlyphs\" textLength=\"106\" x=\"39\" y=\"58.2373\">«calculation def»</text><text fill=\"#000000\" font-family=\"sans-serif\" font-size=\"12\" lengthAdjust=\"spacingAndGlyphs\" textLength=\"59\" x=\"62.5\" y=\"72.2061\">MassSum</text></a><!--MD5=[14e3b0961a2654348d326746436168a1]\n",
       "cluster E6--><a href=\"psysml:1d10ff1d-94f3-4fcc-ad21-5a3c75a7ba0b\" target=\"_top\" title=\"psysml:1d10ff1d-94f3-4fcc-ad21-5a3c75a7ba0b\" xlink:actuate=\"onRequest\" xlink:href=\"psysml:1d10ff1d-94f3-4fcc-ad21-5a3c75a7ba0b\" xlink:show=\"new\" xlink:title=\"psysml:1d10ff1d-94f3-4fcc-ad21-5a3c75a7ba0b\" xlink:type=\"simple\"><rect fill=\"#FFFFFF\" filter=\"url(#f1ixxfir40axsg)\" height=\"87.72\" id=\"E6\" rx=\"10\" ry=\"10\" style=\"stroke: #A80036; stroke-width: 1.5;\" width=\"101\" x=\"251.75\" y=\"42.0986\"/><rect fill=\"#FEFECE\" height=\"37.9375\" rx=\"10\" ry=\"10\" style=\"stroke: #FEFECE; stroke-width: 1.5;\" width=\"101\" x=\"251.75\" y=\"42.0986\"/><rect fill=\"#FEFECE\" height=\"10\" style=\"stroke: #FEFECE; stroke-width: 1.5;\" width=\"101\" x=\"251.75\" y=\"70.0361\"/><rect fill=\"none\" height=\"87.72\" id=\"E6\" rx=\"10\" ry=\"10\" style=\"stroke: #A80036; stroke-width: 1.5;\" width=\"101\" x=\"251.75\" y=\"42.0986\"/><text fill=\"#000000\" font-family=\"sans-serif\" font-size=\"12\" font-style=\"italic\" lengthAdjust=\"spacingAndGlyphs\" textLength=\"82\" x=\"261.25\" y=\"58.2373\">«calculation»</text><text fill=\"#000000\" font-family=\"sans-serif\" font-size=\"12\" lengthAdjust=\"spacingAndGlyphs\" textLength=\"18\" x=\"293.25\" y=\"72.2061\">ms</text><line style=\"stroke: #A80036; stroke-width: 1.0;\" x1=\"251.75\" x2=\"352.75\" y1=\"80.0361\" y2=\"80.0361\"/></a><!--MD5=[7f149f147074ac12df2cb0a7728a5fb0]\n",
       "cluster E9--><a href=\"psysml:86e0ef61-a473-4ef3-8b23-ebbfee168e1c\" target=\"_top\" title=\"psysml:86e0ef61-a473-4ef3-8b23-ebbfee168e1c\" xlink:actuate=\"onRequest\" xlink:href=\"psysml:86e0ef61-a473-4ef3-8b23-ebbfee168e1c\" xlink:show=\"new\" xlink:title=\"psysml:86e0ef61-a473-4ef3-8b23-ebbfee168e1c\" xlink:type=\"simple\"><rect fill=\"#FFFFFF\" filter=\"url(#f1ixxfir40axsg)\" height=\"87.72\" id=\"E9\" style=\"stroke: #A80036; stroke-width: 1.5;\" width=\"127\" x=\"410.25\" y=\"42.0986\"/><rect fill=\"#FEFECE\" height=\"37.9375\" style=\"stroke: #A80036; stroke-width: 1.5;\" width=\"127\" x=\"410.25\" y=\"42.0986\"/><text fill=\"#000000\" font-family=\"sans-serif\" font-size=\"12\" font-style=\"italic\" lengthAdjust=\"spacingAndGlyphs\" textLength=\"106\" x=\"420.75\" y=\"58.2373\">«calculation def»</text><text fill=\"#000000\" font-family=\"sans-serif\" font-size=\"12\" lengthAdjust=\"spacingAndGlyphs\" textLength=\"67\" x=\"440.25\" y=\"72.2061\">MassSum1</text></a><!--MD5=[47bea60c1a0ac6c1143df232041969c0]\n",
       "cluster E12--><a href=\"psysml:5bbc6089-c972-4222-8f32-76d519ddb8cd\" target=\"_top\" title=\"psysml:5bbc6089-c972-4222-8f32-76d519ddb8cd\" xlink:actuate=\"onRequest\" xlink:href=\"psysml:5bbc6089-c972-4222-8f32-76d519ddb8cd\" xlink:show=\"new\" xlink:title=\"psysml:5bbc6089-c972-4222-8f32-76d519ddb8cd\" xlink:type=\"simple\"><rect fill=\"#FFFFFF\" filter=\"url(#f1ixxfir40axsg)\" height=\"87.72\" id=\"E12\" rx=\"10\" ry=\"10\" style=\"stroke: #A80036; stroke-width: 1.5;\" width=\"138\" x=\"526\" y=\"42.0986\"/><rect fill=\"#FEFECE\" height=\"37.9375\" rx=\"10\" ry=\"10\" style=\"stroke: #FEFECE; stroke-width: 1.5;\" width=\"138\" x=\"526\" y=\"42.0986\"/><rect fill=\"#FEFECE\" height=\"10\" style=\"stroke: #FEFECE; stroke-width: 1.5;\" width=\"138\" x=\"526\" y=\"70.0361\"/><rect fill=\"none\" height=\"87.72\" id=\"E12\" rx=\"10\" ry=\"10\" style=\"stroke: #A80036; stroke-width: 1.5;\" width=\"138\" x=\"526\" y=\"42.0986\"/><text fill=\"#000000\" font-family=\"sans-serif\" font-size=\"12\" font-style=\"italic\" lengthAdjust=\"spacingAndGlyphs\" textLength=\"82\" x=\"554\" y=\"58.2373\">«calculation»</text><text fill=\"#000000\" font-family=\"sans-serif\" font-size=\"12\" lengthAdjust=\"spacingAndGlyphs\" textLength=\"26\" x=\"582\" y=\"72.2061\">ms1</text><line style=\"stroke: #A80036; stroke-width: 1.0;\" x1=\"526\" x2=\"664\" y1=\"80.0361\" y2=\"80.0361\"/></a><text fill=\"#000000\" font-family=\"sans-serif\" font-size=\"14\" lengthAdjust=\"spacingAndGlyphs\" textLength=\"80\" x=\"6\" y=\"20.7969\">partMasses</text><rect fill=\"#A80036\" height=\"12\" style=\"stroke: #FEFECE; stroke-width: 1.5;\" width=\"12\" x=\"40\" y=\"36.0986\"/><text fill=\"#000000\" font-family=\"sans-serif\" font-size=\"14\" lengthAdjust=\"spacingAndGlyphs\" textLength=\"66\" x=\"54\" y=\"148.8138\">totalMass</text><rect fill=\"#A80036\" height=\"12\" style=\"stroke: #FEFECE; stroke-width: 1.5;\" width=\"12\" x=\"81\" y=\"123.8186\"/><text fill=\"#000000\" font-family=\"sans-serif\" font-size=\"14\" lengthAdjust=\"spacingAndGlyphs\" textLength=\"75\" x=\"100.5\" y=\"20.7969\">$collection</text><rect fill=\"#A80036\" height=\"12\" style=\"stroke: #FEFECE; stroke-width: 1.5;\" width=\"12\" x=\"132\" y=\"36.0986\"/><text fill=\"#000000\" font-family=\"sans-serif\" font-size=\"14\" lengthAdjust=\"spacingAndGlyphs\" textLength=\"48\" x=\"110\" y=\"148.8138\">$result</text><rect fill=\"#A80036\" height=\"12\" style=\"stroke: #FEFECE; stroke-width: 1.5;\" width=\"12\" x=\"128\" y=\"123.8186\"/><text fill=\"#000000\" font-family=\"sans-serif\" font-size=\"14\" lengthAdjust=\"spacingAndGlyphs\" textLength=\"80\" x=\"235\" y=\"20.7969\">partMasses</text><rect fill=\"#A80036\" height=\"12\" style=\"stroke: #FEFECE; stroke-width: 1.5;\" width=\"12\" x=\"269\" y=\"36.0986\"/><text fill=\"#000000\" font-family=\"sans-serif\" font-size=\"14\" lengthAdjust=\"spacingAndGlyphs\" textLength=\"66\" x=\"238\" y=\"148.8138\">totalMass</text><rect fill=\"#A80036\" height=\"12\" style=\"stroke: #FEFECE; stroke-width: 1.5;\" width=\"12\" x=\"265\" y=\"123.8186\"/><text fill=\"#000000\" font-family=\"sans-serif\" font-size=\"14\" lengthAdjust=\"spacingAndGlyphs\" textLength=\"80\" x=\"395\" y=\"20.7969\">partMasses</text><rect fill=\"#A80036\" height=\"12\" style=\"stroke: #FEFECE; stroke-width: 1.5;\" width=\"12\" x=\"429\" y=\"36.0986\"/><text fill=\"#000000\" font-family=\"sans-serif\" font-size=\"14\" lengthAdjust=\"spacingAndGlyphs\" textLength=\"66\" x=\"398\" y=\"148.8138\">totalMass</text><rect fill=\"#A80036\" height=\"12\" style=\"stroke: #FEFECE; stroke-width: 1.5;\" width=\"12\" x=\"425\" y=\"123.8186\"/><text fill=\"#000000\" font-family=\"sans-serif\" font-size=\"14\" lengthAdjust=\"spacingAndGlyphs\" textLength=\"80\" x=\"555\" y=\"20.7969\">partMasses</text><rect fill=\"#A80036\" height=\"12\" style=\"stroke: #FEFECE; stroke-width: 1.5;\" width=\"12\" x=\"589\" y=\"36.0986\"/><text fill=\"#000000\" font-family=\"sans-serif\" font-size=\"14\" lengthAdjust=\"spacingAndGlyphs\" textLength=\"66\" x=\"562\" y=\"148.8138\">totalMass</text><rect fill=\"#A80036\" height=\"12\" style=\"stroke: #FEFECE; stroke-width: 1.5;\" width=\"12\" x=\"589\" y=\"123.8186\"/><!--MD5=[0188b64bb0ae78505a997a81836e11e9]\n",
       "link E3 to E5--><a href=\"psysml:5b55f712-f9b6-4e15-aeab-345c960b0653\" target=\"_top\" title=\"psysml:5b55f712-f9b6-4e15-aeab-345c960b0653\" xlink:actuate=\"onRequest\" xlink:href=\"psysml:5b55f712-f9b6-4e15-aeab-345c960b0653\" xlink:show=\"new\" xlink:title=\"psysml:5b55f712-f9b6-4e15-aeab-345c960b0653\" xlink:type=\"simple\"><path d=\"M93.24,127.7486 C104.81,124.4886 116.38,124.5086 127.95,127.7986 \" fill=\"none\" id=\"E3-E5\" style=\"stroke: #FF0000; stroke-width: 5.0;\"/></a><!--MD5=[897dc3bc3596ff859a59e7ce42bb0341]\n",
       "@startuml\r\n",
       "skinparam ranksep 8\r\n",
       " \r\n",
       "rec def \"MassSum\" as E1  <<(D,brown)calculation def>> [[psysml:8857df12-96f9-4753-a6e3-dc799dcb9ed4 ]] {\r\n",
       "portin \"partMasses\" as E2  [[psysml:8ae5fd16-1397-4172-a6e5-0c084d8d7ca2 ]] \r\n",
       "portout \"totalMass\" as E3  [[psysml:5f15c55d-7a56-4485-be6d-5834d49cebc1 ]] \r\n",
       "portin \"$collection\" as E4  [[psysml:61806866-d159-447e-b132-fa56be682adf ]] \r\n",
       "portout \"$result\" as E5  [[psysml:6ddb7e29-61e7-4184-8db5-61f90a0c49bf ]] \r\n",
       "}\r\n",
       "\r\n",
       "E3 -[thickness=5,#red]- E5 [[psysml:5b55f712-f9b6-4e15-aeab-345c960b0653 ]] \r\n",
       "rec usage \"ms\" as E6  <<(U,orange)calculation>> [[psysml:1d10ff1d-94f3-4fcc-ad21-5a3c75a7ba0b ]] {\r\n",
       "portin \"partMasses\" as E7  [[psysml:a2c0aed5-a65e-46d5-90c0-ba8b1517610c ]] \r\n",
       "portout \"totalMass\" as E8  [[psysml:76889a80-c5e0-422b-b2ce-fdc6eabdf747 ]] \r\n",
       "}\r\n",
       "\r\n",
       "rec def \"MassSum1\" as E9  <<(D,brown)calculation def>> [[psysml:86e0ef61-a473-4ef3-8b23-ebbfee168e1c ]] {\r\n",
       "portin \"partMasses\" as E10  [[psysml:44765cb5-91e3-4973-8d66-b6f2e5bbf87d ]] \r\n",
       "portout \"totalMass\" as E11  [[psysml:8a0a1f2d-4441-4a8a-b849-a96ed87f36a5 ]] \r\n",
       "}\r\n",
       "\r\n",
       "rec usage \"ms1\" as E12  <<(U,orange)calculation>> [[psysml:5bbc6089-c972-4222-8f32-76d519ddb8cd ]] {\r\n",
       "portin \"partMasses\" as E13  [[psysml:bceb4c61-ae51-43e8-95f6-5db7102a1a6d ]] \r\n",
       "portout \"totalMass\" as E14  [[psysml:18f22934-19d9-4087-8718-e35a3f9b5ce2 ]] \r\n",
       "}\r\n",
       "\r\n",
       "@enduml\r\n",
       "\n",
       "PlantUML version 1.2020.13(Sat Jun 13 12:26:38 UTC 2020)\n",
       "(EPL source distribution)\n",
       "Java Runtime: OpenJDK Runtime Environment\n",
       "JVM: OpenJDK 64-Bit Server VM\n",
       "Default Encoding: UTF-8\n",
       "Language: en\n",
       "Country: null\n",
       "--></g></svg>"
      ]
     },
     "execution_count": 34,
     "metadata": {},
     "output_type": "execute_result"
    }
   ],
   "source": [
    "%viz --style=\"PLANTUML\" --view=\"Action\" \"CalculationExample\""
   ]
  },
  {
   "cell_type": "code",
   "execution_count": 35,
   "id": "peaceful-submission",
   "metadata": {
    "execution": {
     "iopub.execute_input": "2021-03-26T09:15:58.711028Z",
     "iopub.status.busy": "2021-03-26T09:15:58.710580Z",
     "iopub.status.idle": "2021-03-26T09:15:58.771308Z",
     "shell.execute_reply": "2021-03-26T09:15:58.769910Z"
    }
   },
   "outputs": [
    {
     "data": {
      "image/svg+xml": [
       "<?xml version=\"1.0\" encoding=\"UTF-8\" standalone=\"no\"?><svg xmlns=\"http://www.w3.org/2000/svg\" xmlns:xlink=\"http://www.w3.org/1999/xlink\" contentScriptType=\"application/ecmascript\" contentStyleType=\"text/css\" height=\"260px\" preserveAspectRatio=\"none\" style=\"width:659px;height:260px;\" version=\"1.1\" viewBox=\"0 0 659 260\" width=\"659px\" zoomAndPan=\"magnify\"><defs><filter height=\"300%\" id=\"fmqkkmjh68klh\" width=\"300%\" x=\"-1\" y=\"-1\"><feGaussianBlur result=\"blurOut\" stdDeviation=\"2.0\"/><feColorMatrix in=\"blurOut\" result=\"blurOut2\" type=\"matrix\" values=\"0 0 0 0 0 0 0 0 0 0 0 0 0 0 0 0 0 0 .4 0\"/><feOffset dx=\"4.0\" dy=\"4.0\" in=\"blurOut2\" result=\"blurOut3\"/><feBlend in=\"SourceGraphic\" in2=\"blurOut3\" mode=\"normal\"/></filter></defs><g><!--MD5=[fbc87193dbaf4d95561dea2c320d4a47]\n",
       "cluster E1--><a href=\"psysml:7249bcac-c63a-48a6-adec-7cf675138100\" target=\"_top\" title=\"psysml:7249bcac-c63a-48a6-adec-7cf675138100\" xlink:actuate=\"onRequest\" xlink:href=\"psysml:7249bcac-c63a-48a6-adec-7cf675138100\" xlink:show=\"new\" xlink:title=\"psysml:7249bcac-c63a-48a6-adec-7cf675138100\" xlink:type=\"simple\"><polygon fill=\"#FFFFFF\" filter=\"url(#fmqkkmjh68klh)\" points=\"16,6,173,6,180,28.2969,637,28.2969,637,248,16,248,16,6\" style=\"stroke: #000000; stroke-width: 1.5;\"/><line style=\"stroke: #000000; stroke-width: 1.5;\" x1=\"16\" x2=\"180\" y1=\"28.2969\" y2=\"28.2969\"/><text fill=\"#000000\" font-family=\"sans-serif\" font-size=\"14\" font-weight=\"bold\" lengthAdjust=\"spacingAndGlyphs\" textLength=\"151\" x=\"20\" y=\"20.9951\">CalculationExample</text></a><!--MD5=[b4997ac47864f28c2f74865a473b2911]\n",
       "class E2--><a href=\"psysml:14188455-78e6-45cf-9446-0197417271d8\" target=\"_top\" title=\"psysml:14188455-78e6-45cf-9446-0197417271d8\" xlink:actuate=\"onRequest\" xlink:href=\"psysml:14188455-78e6-45cf-9446-0197417271d8\" xlink:show=\"new\" xlink:title=\"psysml:14188455-78e6-45cf-9446-0197417271d8\" xlink:type=\"simple\"><rect fill=\"#FEFECE\" filter=\"url(#fmqkkmjh68klh)\" height=\"58.7422\" id=\"E2\" rx=\"10\" ry=\"10\" style=\"stroke: #A80036; stroke-width: 1.5;\" width=\"92\" x=\"529\" y=\"47.5\"/><ellipse cx=\"551.65\" cy=\"66.4688\" fill=\"#32CD32\" rx=\"11\" ry=\"11\" style=\"stroke: #A80036; stroke-width: 1.0;\"/><path d=\"M551.4469,62.1406 L551.4469,65.7656 L552.4469,65.7656 Q553.65,65.7656 554.1344,65.3594 Q554.6188,64.9531 554.6188,63.9531 Q554.6188,62.9531 554.1344,62.5469 Q553.65,62.1406 552.4469,62.1406 L551.4469,62.1406 Z M548.9938,60.0781 L552.3531,60.0781 Q554.9156,60.0781 556.0406,61 Q557.1656,61.9063 557.1656,63.9531 Q557.1656,66 556.0406,66.9219 Q554.9156,67.8281 552.3531,67.8281 L551.4469,67.8281 L551.4469,72.4688 L548.9938,72.4688 L548.9938,60.0781 Z \"/><text fill=\"#000000\" font-family=\"sans-serif\" font-size=\"12\" font-style=\"italic\" lengthAdjust=\"spacingAndGlyphs\" textLength=\"40\" x=\"568.85\" y=\"63.6387\">«part»</text><text fill=\"#000000\" font-family=\"sans-serif\" font-size=\"12\" lengthAdjust=\"spacingAndGlyphs\" textLength=\"43\" x=\"567.35\" y=\"77.6074\">vehicle</text><line style=\"stroke: #A80036; stroke-width: 1.5;\" x1=\"530\" x2=\"620\" y1=\"85.4375\" y2=\"85.4375\"/><text fill=\"#000000\" font-family=\"sans-serif\" font-size=\"11\" lengthAdjust=\"spacingAndGlyphs\" textLength=\"80\" x=\"535\" y=\"99.6479\">m: MassValue</text></a><!--MD5=[09b614a08d8cba4a07c9adeb5e0fee81]\n",
       "class E3--><a href=\"psysml:5beb719b-2071-4403-a403-a4a2a93a4090\" target=\"_top\" title=\"psysml:5beb719b-2071-4403-a403-a4a2a93a4090\" xlink:actuate=\"onRequest\" xlink:href=\"psysml:5beb719b-2071-4403-a403-a4a2a93a4090\" xlink:show=\"new\" xlink:title=\"psysml:5beb719b-2071-4403-a403-a4a2a93a4090\" xlink:type=\"simple\"><rect fill=\"#FEFECE\" filter=\"url(#fmqkkmjh68klh)\" height=\"58.7422\" id=\"E3\" rx=\"10\" ry=\"10\" style=\"stroke: #A80036; stroke-width: 1.5;\" width=\"92\" x=\"402\" y=\"173\"/><ellipse cx=\"427.8\" cy=\"191.9688\" fill=\"#32CD32\" rx=\"11\" ry=\"11\" style=\"stroke: #A80036; stroke-width: 1.0;\"/><path d=\"M427.5969,187.6406 L427.5969,191.2656 L428.5969,191.2656 Q429.8,191.2656 430.2844,190.8594 Q430.7688,190.4531 430.7688,189.4531 Q430.7688,188.4531 430.2844,188.0469 Q429.8,187.6406 428.5969,187.6406 L427.5969,187.6406 Z M425.1438,185.5781 L428.5031,185.5781 Q431.0656,185.5781 432.1906,186.5 Q433.3156,187.4063 433.3156,189.4531 Q433.3156,191.5 432.1906,192.4219 Q431.0656,193.3281 428.5031,193.3281 L427.5969,193.3281 L427.5969,197.9688 L425.1438,197.9688 L425.1438,185.5781 Z \"/><text fill=\"#000000\" font-family=\"sans-serif\" font-size=\"12\" font-style=\"italic\" lengthAdjust=\"spacingAndGlyphs\" textLength=\"40\" x=\"442.2\" y=\"189.1387\">«part»</text><text fill=\"#000000\" font-family=\"sans-serif\" font-size=\"12\" lengthAdjust=\"spacingAndGlyphs\" textLength=\"24\" x=\"450.2\" y=\"203.1074\">eng</text><line style=\"stroke: #A80036; stroke-width: 1.5;\" x1=\"403\" x2=\"493\" y1=\"210.9375\" y2=\"210.9375\"/><text fill=\"#000000\" font-family=\"sans-serif\" font-size=\"11\" lengthAdjust=\"spacingAndGlyphs\" textLength=\"80\" x=\"408\" y=\"225.1479\">m: MassValue</text></a><!--MD5=[ebbe1d658d1005bcc118a6aa81145e00]\n",
       "class E4--><a href=\"psysml:48862a39-11e7-4605-8aed-a0acf63d7872\" target=\"_top\" title=\"psysml:48862a39-11e7-4605-8aed-a0acf63d7872\" xlink:actuate=\"onRequest\" xlink:href=\"psysml:48862a39-11e7-4605-8aed-a0acf63d7872\" xlink:show=\"new\" xlink:title=\"psysml:48862a39-11e7-4605-8aed-a0acf63d7872\" xlink:type=\"simple\"><rect fill=\"#FEFECE\" filter=\"url(#fmqkkmjh68klh)\" height=\"58.7422\" id=\"E4\" rx=\"10\" ry=\"10\" style=\"stroke: #A80036; stroke-width: 1.5;\" width=\"92\" x=\"529\" y=\"173\"/><ellipse cx=\"554.8\" cy=\"191.9688\" fill=\"#32CD32\" rx=\"11\" ry=\"11\" style=\"stroke: #A80036; stroke-width: 1.0;\"/><path d=\"M554.5969,187.6406 L554.5969,191.2656 L555.5969,191.2656 Q556.8,191.2656 557.2844,190.8594 Q557.7688,190.4531 557.7688,189.4531 Q557.7688,188.4531 557.2844,188.0469 Q556.8,187.6406 555.5969,187.6406 L554.5969,187.6406 Z M552.1438,185.5781 L555.5031,185.5781 Q558.0656,185.5781 559.1906,186.5 Q560.3156,187.4063 560.3156,189.4531 Q560.3156,191.5 559.1906,192.4219 Q558.0656,193.3281 555.5031,193.3281 L554.5969,193.3281 L554.5969,197.9688 L552.1438,197.9688 L552.1438,185.5781 Z \"/><text fill=\"#000000\" font-family=\"sans-serif\" font-size=\"12\" font-style=\"italic\" lengthAdjust=\"spacingAndGlyphs\" textLength=\"40\" x=\"569.2\" y=\"189.1387\">«part»</text><text fill=\"#000000\" font-family=\"sans-serif\" font-size=\"12\" lengthAdjust=\"spacingAndGlyphs\" textLength=\"33\" x=\"572.7\" y=\"203.1074\">trans</text><line style=\"stroke: #A80036; stroke-width: 1.5;\" x1=\"530\" x2=\"620\" y1=\"210.9375\" y2=\"210.9375\"/><text fill=\"#000000\" font-family=\"sans-serif\" font-size=\"11\" lengthAdjust=\"spacingAndGlyphs\" textLength=\"80\" x=\"535\" y=\"225.1479\">m: MassValue</text></a><!--MD5=[270fce915f116d4de14055a7c1d9a0f3]\n",
       "class E5--><a href=\"psysml:8857df12-96f9-4753-a6e3-dc799dcb9ed4\" target=\"_top\" title=\"psysml:8857df12-96f9-4753-a6e3-dc799dcb9ed4\" xlink:actuate=\"onRequest\" xlink:href=\"psysml:8857df12-96f9-4753-a6e3-dc799dcb9ed4\" xlink:show=\"new\" xlink:title=\"psysml:8857df12-96f9-4753-a6e3-dc799dcb9ed4\" xlink:type=\"simple\"><rect fill=\"#FEFECE\" filter=\"url(#fmqkkmjh68klh)\" height=\"45.9375\" id=\"E5\" style=\"stroke: #A80036; stroke-width: 1.5;\" width=\"134\" x=\"133\" y=\"179.5\"/><ellipse cx=\"148\" cy=\"198.4688\" fill=\"#A52A2A\" rx=\"11\" ry=\"11\" style=\"stroke: #A80036; stroke-width: 1.0;\"/><path d=\"M147.5938,194.2813 L147.5938,202.2656 L148.25,202.2656 Q149.6875,202.2656 150.2969,201.3594 Q150.9219,200.4375 150.9219,198.2656 Q150.9219,196.0938 150.2969,195.1875 Q149.6875,194.2813 148.25,194.2813 L147.5938,194.2813 Z M145.1406,192.0781 L147.7656,192.0781 Q150.7969,192.0781 152.125,193.5313 Q153.4688,194.9688 153.4688,198.2656 Q153.4688,201.5625 152.125,203.0156 Q150.7969,204.4688 147.7656,204.4688 L145.1406,204.4688 L145.1406,192.0781 Z \"/><text fill=\"#000000\" font-family=\"sans-serif\" font-size=\"12\" font-style=\"italic\" lengthAdjust=\"spacingAndGlyphs\" textLength=\"106\" x=\"160\" y=\"195.6387\">«calculation def»</text><text fill=\"#000000\" font-family=\"sans-serif\" font-size=\"12\" lengthAdjust=\"spacingAndGlyphs\" textLength=\"59\" x=\"183.5\" y=\"209.6074\">MassSum</text><line style=\"stroke: #A80036; stroke-width: 1.5;\" x1=\"134\" x2=\"266\" y1=\"217.4375\" y2=\"217.4375\"/></a><!--MD5=[60a26617385b1d2d0262a64233df1f8d]\n",
       "class E6--><a href=\"psysml:1d10ff1d-94f3-4fcc-ad21-5a3c75a7ba0b\" target=\"_top\" title=\"psysml:1d10ff1d-94f3-4fcc-ad21-5a3c75a7ba0b\" xlink:actuate=\"onRequest\" xlink:href=\"psysml:1d10ff1d-94f3-4fcc-ad21-5a3c75a7ba0b\" xlink:show=\"new\" xlink:title=\"psysml:1d10ff1d-94f3-4fcc-ad21-5a3c75a7ba0b\" xlink:type=\"simple\"><rect fill=\"#FEFECE\" filter=\"url(#fmqkkmjh68klh)\" height=\"45.9375\" id=\"E6\" rx=\"10\" ry=\"10\" style=\"stroke: #A80036; stroke-width: 1.5;\" width=\"117\" x=\"376.5\" y=\"54\"/><ellipse cx=\"391.5\" cy=\"72.9688\" fill=\"#FFA500\" rx=\"11\" ry=\"11\" style=\"stroke: #A80036; stroke-width: 1.0;\"/><path d=\"M387.375,74.8906 L387.375,67.0781 L389.8281,67.0781 L389.8281,75.5156 Q389.8281,76.4375 390.2969,76.9688 Q390.7813,77.5 391.6094,77.5 Q392.4531,77.5 392.9219,76.9688 Q393.3906,76.4375 393.3906,75.5156 L393.3906,67.0781 L395.8438,67.0781 L395.8438,74.8906 Q395.8438,77.4219 394.8438,78.5625 Q393.8438,79.7031 391.6094,79.7031 Q389.3906,79.7031 388.375,78.5625 Q387.375,77.4219 387.375,74.8906 Z \"/><text fill=\"#000000\" font-family=\"sans-serif\" font-size=\"12\" font-style=\"italic\" lengthAdjust=\"spacingAndGlyphs\" textLength=\"82\" x=\"407\" y=\"70.1387\">«calculation»</text><text fill=\"#000000\" font-family=\"sans-serif\" font-size=\"12\" lengthAdjust=\"spacingAndGlyphs\" textLength=\"85\" x=\"405.5\" y=\"84.1074\">ms: MassSum</text><line style=\"stroke: #A80036; stroke-width: 1.5;\" x1=\"377.5\" x2=\"492.5\" y1=\"91.9375\" y2=\"91.9375\"/></a><!--MD5=[2156ba9850f5573cc1fc38a6a4b2f02b]\n",
       "class E7--><a href=\"psysml:86e0ef61-a473-4ef3-8b23-ebbfee168e1c\" target=\"_top\" title=\"psysml:86e0ef61-a473-4ef3-8b23-ebbfee168e1c\" xlink:actuate=\"onRequest\" xlink:href=\"psysml:86e0ef61-a473-4ef3-8b23-ebbfee168e1c\" xlink:show=\"new\" xlink:title=\"psysml:86e0ef61-a473-4ef3-8b23-ebbfee168e1c\" xlink:type=\"simple\"><rect fill=\"#FEFECE\" filter=\"url(#fmqkkmjh68klh)\" height=\"71.5469\" id=\"E7\" style=\"stroke: #A80036; stroke-width: 1.5;\" width=\"148\" x=\"193\" y=\"41\"/><ellipse cx=\"214.3\" cy=\"59.9688\" fill=\"#A52A2A\" rx=\"11\" ry=\"11\" style=\"stroke: #A80036; stroke-width: 1.0;\"/><path d=\"M213.8938,55.7813 L213.8938,63.7656 L214.55,63.7656 Q215.9875,63.7656 216.5969,62.8594 Q217.2219,61.9375 217.2219,59.7656 Q217.2219,57.5938 216.5969,56.6875 Q215.9875,55.7813 214.55,55.7813 L213.8938,55.7813 Z M211.4406,53.5781 L214.0656,53.5781 Q217.0969,53.5781 218.425,55.0313 Q219.7688,56.4688 219.7688,59.7656 Q219.7688,63.0625 218.425,64.5156 Q217.0969,65.9688 214.0656,65.9688 L211.4406,65.9688 L211.4406,53.5781 Z \"/><text fill=\"#000000\" font-family=\"sans-serif\" font-size=\"12\" font-style=\"italic\" lengthAdjust=\"spacingAndGlyphs\" textLength=\"106\" x=\"227.7\" y=\"57.1387\">«calculation def»</text><text fill=\"#000000\" font-family=\"sans-serif\" font-size=\"12\" lengthAdjust=\"spacingAndGlyphs\" textLength=\"67\" x=\"247.2\" y=\"71.1074\">MassSum1</text><line style=\"stroke: #A80036; stroke-width: 1.5;\" x1=\"194\" x2=\"340\" y1=\"78.9375\" y2=\"78.9375\"/><text fill=\"#000000\" font-family=\"sans-serif\" font-size=\"11\" lengthAdjust=\"spacingAndGlyphs\" textLength=\"136\" x=\"199\" y=\"93.1479\">partMasses: MassValue</text><text fill=\"#000000\" font-family=\"sans-serif\" font-size=\"11\" lengthAdjust=\"spacingAndGlyphs\" textLength=\"124\" x=\"199\" y=\"105.9526\">totalMass: MassValue</text></a><!--MD5=[b9389687b975829384b498ac4b7476b2]\n",
       "class E8--><a href=\"psysml:5bbc6089-c972-4222-8f32-76d519ddb8cd\" target=\"_top\" title=\"psysml:5bbc6089-c972-4222-8f32-76d519ddb8cd\" xlink:actuate=\"onRequest\" xlink:href=\"psysml:5bbc6089-c972-4222-8f32-76d519ddb8cd\" xlink:show=\"new\" xlink:title=\"psysml:5bbc6089-c972-4222-8f32-76d519ddb8cd\" xlink:type=\"simple\"><rect fill=\"#FEFECE\" filter=\"url(#fmqkkmjh68klh)\" height=\"71.5469\" id=\"E8\" rx=\"10\" ry=\"10\" style=\"stroke: #A80036; stroke-width: 1.5;\" width=\"125\" x=\"32.5\" y=\"41\"/><ellipse cx=\"47.5\" cy=\"59.9688\" fill=\"#FFA500\" rx=\"11\" ry=\"11\" style=\"stroke: #A80036; stroke-width: 1.0;\"/><path d=\"M43.375,61.8906 L43.375,54.0781 L45.8281,54.0781 L45.8281,62.5156 Q45.8281,63.4375 46.2969,63.9688 Q46.7813,64.5 47.6094,64.5 Q48.4531,64.5 48.9219,63.9688 Q49.3906,63.4375 49.3906,62.5156 L49.3906,54.0781 L51.8438,54.0781 L51.8438,61.8906 Q51.8438,64.4219 50.8438,65.5625 Q49.8438,66.7031 47.6094,66.7031 Q45.3906,66.7031 44.375,65.5625 Q43.375,64.4219 43.375,61.8906 Z \"/><text fill=\"#000000\" font-family=\"sans-serif\" font-size=\"12\" font-style=\"italic\" lengthAdjust=\"spacingAndGlyphs\" textLength=\"82\" x=\"67\" y=\"57.1387\">«calculation»</text><text fill=\"#000000\" font-family=\"sans-serif\" font-size=\"12\" lengthAdjust=\"spacingAndGlyphs\" textLength=\"93\" x=\"61.5\" y=\"71.1074\">ms1: MassSum</text><line style=\"stroke: #A80036; stroke-width: 1.5;\" x1=\"33.5\" x2=\"156.5\" y1=\"78.9375\" y2=\"78.9375\"/><text fill=\"#000000\" font-family=\"sans-serif\" font-size=\"11\" lengthAdjust=\"spacingAndGlyphs\" textLength=\"67\" x=\"38.5\" y=\"93.1479\">partMasses</text><text fill=\"#000000\" font-family=\"sans-serif\" font-size=\"11\" lengthAdjust=\"spacingAndGlyphs\" textLength=\"55\" x=\"38.5\" y=\"105.9526\">totalMass</text></a><!--MD5=[209b3feb70ccb6233bfe1053d122c12c]\n",
       "reverse link E2 to E3--><a href=\"psysml:5beb719b-2071-4403-a403-a4a2a93a4090\" target=\"_top\" title=\"psysml:5beb719b-2071-4403-a403-a4a2a93a4090\" xlink:actuate=\"onRequest\" xlink:href=\"psysml:5beb719b-2071-4403-a403-a4a2a93a4090\" xlink:show=\"new\" xlink:title=\"psysml:5beb719b-2071-4403-a403-a4a2a93a4090\" xlink:type=\"simple\"><path d=\"M536.08,115.85 C517.3,134.11 495.13,155.66 477.74,172.58 \" fill=\"none\" id=\"E2&lt;-E3\" style=\"stroke: #A80036; stroke-width: 1.0;\"/><polygon fill=\"#A80036\" points=\"545.54,106.64,538.4499,107.9553,536.937,115.0059,544.0271,113.6906,545.54,106.64\" style=\"stroke: #A80036; stroke-width: 1.0;\"/></a><!--MD5=[9618e71518536f8baf3342ff6fdab317]\n",
       "reverse link E2 to E4--><a href=\"psysml:48862a39-11e7-4605-8aed-a0acf63d7872\" target=\"_top\" title=\"psysml:48862a39-11e7-4605-8aed-a0acf63d7872\" xlink:actuate=\"onRequest\" xlink:href=\"psysml:48862a39-11e7-4605-8aed-a0acf63d7872\" xlink:show=\"new\" xlink:title=\"psysml:48862a39-11e7-4605-8aed-a0acf63d7872\" xlink:type=\"simple\"><path d=\"M575,119.66 C575,137.05 575,156.83 575,172.58 \" fill=\"none\" id=\"E2&lt;-E4\" style=\"stroke: #A80036; stroke-width: 1.0;\"/><polygon fill=\"#A80036\" points=\"575,106.64,571,112.64,575,118.64,579,112.64,575,106.64\" style=\"stroke: #A80036; stroke-width: 1.0;\"/></a><!--MD5=[25b190c987b1e74e5126d372c5a73af1]\n",
       "link E6 to E5--><a href=\"psysml:9917c25f-6195-4027-a1da-c593e3e3b530\" target=\"_top\" title=\"psysml:9917c25f-6195-4027-a1da-c593e3e3b530\" xlink:actuate=\"onRequest\" xlink:href=\"psysml:9917c25f-6195-4027-a1da-c593e3e3b530\" xlink:show=\"new\" xlink:title=\"psysml:9917c25f-6195-4027-a1da-c593e3e3b530\" xlink:type=\"simple\"><path d=\"M392.99,100.08 C355.92,119.56 301.49,148.17 259.87,170.04 \" fill=\"none\" id=\"E6-&gt;E5\" style=\"stroke: #A80036; stroke-width: 1.0;\"/><polygon fill=\"#FFFFFF\" points=\"242.05,179.4,255.6092,164.3618,262.1247,176.7533,242.05,179.4\" style=\"stroke: #A80036; stroke-width: 1.0;\"/><ellipse cx=\"261.5851\" cy=\"163.4793\" fill=\"#A80036\" rx=\"2\" ry=\"2\" style=\"stroke: #A80036; stroke-width: 1.0;\"/><ellipse cx=\"266.239\" cy=\"172.3303\" fill=\"#A80036\" rx=\"2\" ry=\"2\" style=\"stroke: #A80036; stroke-width: 1.0;\"/></a><!--MD5=[1ccb2481ffa92f8d51a74ee30c51832a]\n",
       "link E8 to E5--><a href=\"psysml:bf4de082-8867-4b4d-b459-dc33df5641b4\" target=\"_top\" title=\"psysml:bf4de082-8867-4b4d-b459-dc33df5641b4\" xlink:actuate=\"onRequest\" xlink:href=\"psysml:bf4de082-8867-4b4d-b459-dc33df5641b4\" xlink:show=\"new\" xlink:title=\"psysml:bf4de082-8867-4b4d-b459-dc33df5641b4\" xlink:type=\"simple\"><path d=\"M124.81,113.06 C138.29,128.92 154.24,147.68 167.97,163.83 \" fill=\"none\" id=\"E8-&gt;E5\" style=\"stroke: #A80036; stroke-width: 1.0;\"/><polygon fill=\"#FFFFFF\" points=\"181.04,179.2,163.4008,169.2572,174.0677,160.1898,181.04,179.2\" style=\"stroke: #A80036; stroke-width: 1.0;\"/><ellipse cx=\"161.233\" cy=\"163.6189\" fill=\"#A80036\" rx=\"2\" ry=\"2\" style=\"stroke: #A80036; stroke-width: 1.0;\"/><ellipse cx=\"168.8522\" cy=\"157.1422\" fill=\"#A80036\" rx=\"2\" ry=\"2\" style=\"stroke: #A80036; stroke-width: 1.0;\"/></a><!--MD5=[8c1bc868927762b2f1eb9d6805d7970d]\n",
       "@startuml\r\n",
       " \r\n",
       "package \"CalculationExample\" as E1  [[psysml:7249bcac-c63a-48a6-adec-7cf675138100 ]]  {\r\n",
       "comp usage \"vehicle\" as E2  << (P,limegreen) part>> [[psysml:14188455-78e6-45cf-9446-0197417271d8 ]] {\r\n",
       "m: MassValue\r\n",
       "}\r\n",
       "comp usage \"eng\" as E3  << (P,limegreen) part>> [[psysml:5beb719b-2071-4403-a403-a4a2a93a4090 ]] {\r\n",
       "m: MassValue\r\n",
       "}\r\n",
       "comp usage \"trans\" as E4  << (P,limegreen) part>> [[psysml:48862a39-11e7-4605-8aed-a0acf63d7872 ]] {\r\n",
       "m: MassValue\r\n",
       "}\r\n",
       "comp def \"MassSum\" as E5  <<(D,brown)calculation def>> [[psysml:8857df12-96f9-4753-a6e3-dc799dcb9ed4 ]] {\r\n",
       "}\r\n",
       "comp usage \"ms: MassSum\" as E6  <<(U,orange)calculation>> [[psysml:1d10ff1d-94f3-4fcc-ad21-5a3c75a7ba0b ]] {\r\n",
       "}\r\n",
       "comp def \"MassSum1\" as E7  <<(D,brown)calculation def>> [[psysml:86e0ef61-a473-4ef3-8b23-ebbfee168e1c ]] {\r\n",
       "partMasses: MassValue\r\n",
       "totalMass: MassValue\r\n",
       "}\r\n",
       "comp usage \"ms1: MassSum\" as E8  <<(U,orange)calculation>> [[psysml:5bbc6089-c972-4222-8f32-76d519ddb8cd ]] {\r\n",
       "partMasses\r\n",
       "totalMass\r\n",
       "}\r\n",
       "E2 *- - E3 [[psysml:5beb719b-2071-4403-a403-a4a2a93a4090 ]] \r\n",
       "E2 *- - E4 [[psysml:48862a39-11e7-4605-8aed-a0acf63d7872 ]] \r\n",
       "E6 - -:|> E5 [[psysml:9917c25f-6195-4027-a1da-c593e3e3b530 ]] \r\n",
       "E8 - -:|> E5 [[psysml:bf4de082-8867-4b4d-b459-dc33df5641b4 ]] \r\n",
       "}\r\n",
       "@enduml\r\n",
       "\n",
       "PlantUML version 1.2020.13(Sat Jun 13 12:26:38 UTC 2020)\n",
       "(EPL source distribution)\n",
       "Java Runtime: OpenJDK Runtime Environment\n",
       "JVM: OpenJDK 64-Bit Server VM\n",
       "Default Encoding: UTF-8\n",
       "Language: en\n",
       "Country: null\n",
       "--></g></svg>"
      ]
     },
     "execution_count": 35,
     "metadata": {},
     "output_type": "execute_result"
    }
   ],
   "source": [
    "%viz --style=\"PLANTUML\" --view=\"Sequence\" \"CalculationExample\""
   ]
  },
  {
   "cell_type": "code",
   "execution_count": 36,
   "id": "endless-light",
   "metadata": {
    "execution": {
     "iopub.execute_input": "2021-03-26T09:15:58.823607Z",
     "iopub.status.busy": "2021-03-26T09:15:58.822940Z",
     "iopub.status.idle": "2021-03-26T09:15:58.889192Z",
     "shell.execute_reply": "2021-03-26T09:15:58.887599Z"
    }
   },
   "outputs": [
    {
     "data": {
      "image/svg+xml": [
       "<?xml version=\"1.0\" encoding=\"UTF-8\" standalone=\"no\"?><svg xmlns=\"http://www.w3.org/2000/svg\" xmlns:xlink=\"http://www.w3.org/1999/xlink\" contentScriptType=\"application/ecmascript\" contentStyleType=\"text/css\" height=\"408px\" preserveAspectRatio=\"none\" style=\"width:829px;height:408px;\" version=\"1.1\" viewBox=\"0 0 829 408\" width=\"829px\" zoomAndPan=\"magnify\"><defs><filter height=\"300%\" id=\"f1ceoqwrtkw06l\" width=\"300%\" x=\"-1\" y=\"-1\"><feGaussianBlur result=\"blurOut\" stdDeviation=\"2.0\"/><feColorMatrix in=\"blurOut\" result=\"blurOut2\" type=\"matrix\" values=\"0 0 0 0 0 0 0 0 0 0 0 0 0 0 0 0 0 0 .4 0\"/><feOffset dx=\"4.0\" dy=\"4.0\" in=\"blurOut2\" result=\"blurOut3\"/><feBlend in=\"SourceGraphic\" in2=\"blurOut3\" mode=\"normal\"/></filter></defs><g><!--MD5=[fbc87193dbaf4d95561dea2c320d4a47]\n",
       "cluster E1--><a href=\"psysml:7249bcac-c63a-48a6-adec-7cf675138100\" target=\"_top\" title=\"psysml:7249bcac-c63a-48a6-adec-7cf675138100\" xlink:actuate=\"onRequest\" xlink:href=\"psysml:7249bcac-c63a-48a6-adec-7cf675138100\" xlink:show=\"new\" xlink:title=\"psysml:7249bcac-c63a-48a6-adec-7cf675138100\" xlink:type=\"simple\"><polygon fill=\"#FFFFFF\" filter=\"url(#f1ceoqwrtkw06l)\" points=\"16,6,173,6,180,28.2969,807,28.2969,807,396.72,16,396.72,16,6\" style=\"stroke: #000000; stroke-width: 1.5;\"/><line style=\"stroke: #000000; stroke-width: 1.5;\" x1=\"16\" x2=\"180\" y1=\"28.2969\" y2=\"28.2969\"/><text fill=\"#000000\" font-family=\"sans-serif\" font-size=\"14\" font-weight=\"bold\" lengthAdjust=\"spacingAndGlyphs\" textLength=\"151\" x=\"20\" y=\"20.9951\">CalculationExample</text></a><!--MD5=[de5ec2e2e8f62f467e546659f5068c88]\n",
       "cluster E5--><a href=\"psysml:8857df12-96f9-4753-a6e3-dc799dcb9ed4\" target=\"_top\" title=\"psysml:8857df12-96f9-4753-a6e3-dc799dcb9ed4\" xlink:actuate=\"onRequest\" xlink:href=\"psysml:8857df12-96f9-4753-a6e3-dc799dcb9ed4\" xlink:show=\"new\" xlink:title=\"psysml:8857df12-96f9-4753-a6e3-dc799dcb9ed4\" xlink:type=\"simple\"><rect fill=\"#FFFFFF\" filter=\"url(#f1ceoqwrtkw06l)\" height=\"281.72\" id=\"E5\" style=\"stroke: #A80036; stroke-width: 1.5;\" width=\"128\" x=\"181\" y=\"77\"/><rect fill=\"#FEFECE\" height=\"37.9375\" style=\"stroke: #A80036; stroke-width: 1.5;\" width=\"128\" x=\"181\" y=\"77\"/><text fill=\"#000000\" font-family=\"sans-serif\" font-size=\"12\" font-style=\"italic\" lengthAdjust=\"spacingAndGlyphs\" textLength=\"106\" x=\"192\" y=\"93.1387\">«calculation def»</text><text fill=\"#000000\" font-family=\"sans-serif\" font-size=\"12\" lengthAdjust=\"spacingAndGlyphs\" textLength=\"59\" x=\"215.5\" y=\"107.1074\">MassSum</text></a><!--MD5=[917b9dd0c7eca3ee5f47219d1a84c0ad]\n",
       "cluster E11--><a href=\"psysml:86e0ef61-a473-4ef3-8b23-ebbfee168e1c\" target=\"_top\" title=\"psysml:86e0ef61-a473-4ef3-8b23-ebbfee168e1c\" xlink:actuate=\"onRequest\" xlink:href=\"psysml:86e0ef61-a473-4ef3-8b23-ebbfee168e1c\" xlink:show=\"new\" xlink:title=\"psysml:86e0ef61-a473-4ef3-8b23-ebbfee168e1c\" xlink:type=\"simple\"><rect fill=\"#FFFFFF\" filter=\"url(#f1ceoqwrtkw06l)\" height=\"281.72\" id=\"E11\" style=\"stroke: #A80036; stroke-width: 1.5;\" width=\"166\" x=\"625\" y=\"77\"/><rect fill=\"#FEFECE\" height=\"37.9375\" style=\"stroke: #A80036; stroke-width: 1.5;\" width=\"166\" x=\"625\" y=\"77\"/><text fill=\"#000000\" font-family=\"sans-serif\" font-size=\"12\" font-style=\"italic\" lengthAdjust=\"spacingAndGlyphs\" textLength=\"106\" x=\"655\" y=\"93.1387\">«calculation def»</text><text fill=\"#000000\" font-family=\"sans-serif\" font-size=\"12\" lengthAdjust=\"spacingAndGlyphs\" textLength=\"67\" x=\"674.5\" y=\"107.1074\">MassSum1</text></a><!--MD5=[b4997ac47864f28c2f74865a473b2911]\n",
       "class E2--><a href=\"psysml:14188455-78e6-45cf-9446-0197417271d8\" target=\"_top\" title=\"psysml:14188455-78e6-45cf-9446-0197417271d8\" xlink:actuate=\"onRequest\" xlink:href=\"psysml:14188455-78e6-45cf-9446-0197417271d8\" xlink:show=\"new\" xlink:title=\"psysml:14188455-78e6-45cf-9446-0197417271d8\" xlink:type=\"simple\"><rect fill=\"#FEFECE\" filter=\"url(#f1ceoqwrtkw06l)\" height=\"58.7422\" id=\"E2\" rx=\"10\" ry=\"10\" style=\"stroke: #A80036; stroke-width: 1.5;\" width=\"92\" x=\"525\" y=\"47.5\"/><ellipse cx=\"547.65\" cy=\"66.4688\" fill=\"#32CD32\" rx=\"11\" ry=\"11\" style=\"stroke: #A80036; stroke-width: 1.0;\"/><path d=\"M547.4469,62.1406 L547.4469,65.7656 L548.4469,65.7656 Q549.65,65.7656 550.1344,65.3594 Q550.6188,64.9531 550.6188,63.9531 Q550.6188,62.9531 550.1344,62.5469 Q549.65,62.1406 548.4469,62.1406 L547.4469,62.1406 Z M544.9938,60.0781 L548.3531,60.0781 Q550.9156,60.0781 552.0406,61 Q553.1656,61.9063 553.1656,63.9531 Q553.1656,66 552.0406,66.9219 Q550.9156,67.8281 548.3531,67.8281 L547.4469,67.8281 L547.4469,72.4688 L544.9938,72.4688 L544.9938,60.0781 Z \"/><text fill=\"#000000\" font-family=\"sans-serif\" font-size=\"12\" font-style=\"italic\" lengthAdjust=\"spacingAndGlyphs\" textLength=\"40\" x=\"564.85\" y=\"63.6387\">«part»</text><text fill=\"#000000\" font-family=\"sans-serif\" font-size=\"12\" lengthAdjust=\"spacingAndGlyphs\" textLength=\"43\" x=\"563.35\" y=\"77.6074\">vehicle</text><line style=\"stroke: #A80036; stroke-width: 1.5;\" x1=\"526\" x2=\"616\" y1=\"85.4375\" y2=\"85.4375\"/><text fill=\"#000000\" font-family=\"sans-serif\" font-size=\"11\" lengthAdjust=\"spacingAndGlyphs\" textLength=\"80\" x=\"531\" y=\"99.6479\">m: MassValue</text></a><!--MD5=[09b614a08d8cba4a07c9adeb5e0fee81]\n",
       "class E3--><a href=\"psysml:5beb719b-2071-4403-a403-a4a2a93a4090\" target=\"_top\" title=\"psysml:5beb719b-2071-4403-a403-a4a2a93a4090\" xlink:actuate=\"onRequest\" xlink:href=\"psysml:5beb719b-2071-4403-a403-a4a2a93a4090\" xlink:show=\"new\" xlink:title=\"psysml:5beb719b-2071-4403-a403-a4a2a93a4090\" xlink:type=\"simple\"><rect fill=\"#FEFECE\" filter=\"url(#f1ceoqwrtkw06l)\" height=\"58.7422\" id=\"E3\" rx=\"10\" ry=\"10\" style=\"stroke: #A80036; stroke-width: 1.5;\" width=\"92\" x=\"387\" y=\"173\"/><ellipse cx=\"412.8\" cy=\"191.9688\" fill=\"#32CD32\" rx=\"11\" ry=\"11\" style=\"stroke: #A80036; stroke-width: 1.0;\"/><path d=\"M412.5969,187.6406 L412.5969,191.2656 L413.5969,191.2656 Q414.8,191.2656 415.2844,190.8594 Q415.7688,190.4531 415.7688,189.4531 Q415.7688,188.4531 415.2844,188.0469 Q414.8,187.6406 413.5969,187.6406 L412.5969,187.6406 Z M410.1438,185.5781 L413.5031,185.5781 Q416.0656,185.5781 417.1906,186.5 Q418.3156,187.4063 418.3156,189.4531 Q418.3156,191.5 417.1906,192.4219 Q416.0656,193.3281 413.5031,193.3281 L412.5969,193.3281 L412.5969,197.9688 L410.1438,197.9688 L410.1438,185.5781 Z \"/><text fill=\"#000000\" font-family=\"sans-serif\" font-size=\"12\" font-style=\"italic\" lengthAdjust=\"spacingAndGlyphs\" textLength=\"40\" x=\"427.2\" y=\"189.1387\">«part»</text><text fill=\"#000000\" font-family=\"sans-serif\" font-size=\"12\" lengthAdjust=\"spacingAndGlyphs\" textLength=\"24\" x=\"435.2\" y=\"203.1074\">eng</text><line style=\"stroke: #A80036; stroke-width: 1.5;\" x1=\"388\" x2=\"478\" y1=\"210.9375\" y2=\"210.9375\"/><text fill=\"#000000\" font-family=\"sans-serif\" font-size=\"11\" lengthAdjust=\"spacingAndGlyphs\" textLength=\"80\" x=\"393\" y=\"225.1479\">m: MassValue</text></a><!--MD5=[ebbe1d658d1005bcc118a6aa81145e00]\n",
       "class E4--><a href=\"psysml:48862a39-11e7-4605-8aed-a0acf63d7872\" target=\"_top\" title=\"psysml:48862a39-11e7-4605-8aed-a0acf63d7872\" xlink:actuate=\"onRequest\" xlink:href=\"psysml:48862a39-11e7-4605-8aed-a0acf63d7872\" xlink:show=\"new\" xlink:title=\"psysml:48862a39-11e7-4605-8aed-a0acf63d7872\" xlink:type=\"simple\"><rect fill=\"#FEFECE\" filter=\"url(#f1ceoqwrtkw06l)\" height=\"58.7422\" id=\"E4\" rx=\"10\" ry=\"10\" style=\"stroke: #A80036; stroke-width: 1.5;\" width=\"92\" x=\"514\" y=\"173\"/><ellipse cx=\"539.8\" cy=\"191.9688\" fill=\"#32CD32\" rx=\"11\" ry=\"11\" style=\"stroke: #A80036; stroke-width: 1.0;\"/><path d=\"M539.5969,187.6406 L539.5969,191.2656 L540.5969,191.2656 Q541.8,191.2656 542.2844,190.8594 Q542.7688,190.4531 542.7688,189.4531 Q542.7688,188.4531 542.2844,188.0469 Q541.8,187.6406 540.5969,187.6406 L539.5969,187.6406 Z M537.1438,185.5781 L540.5031,185.5781 Q543.0656,185.5781 544.1906,186.5 Q545.3156,187.4063 545.3156,189.4531 Q545.3156,191.5 544.1906,192.4219 Q543.0656,193.3281 540.5031,193.3281 L539.5969,193.3281 L539.5969,197.9688 L537.1438,197.9688 L537.1438,185.5781 Z \"/><text fill=\"#000000\" font-family=\"sans-serif\" font-size=\"12\" font-style=\"italic\" lengthAdjust=\"spacingAndGlyphs\" textLength=\"40\" x=\"554.2\" y=\"189.1387\">«part»</text><text fill=\"#000000\" font-family=\"sans-serif\" font-size=\"12\" lengthAdjust=\"spacingAndGlyphs\" textLength=\"33\" x=\"557.7\" y=\"203.1074\">trans</text><line style=\"stroke: #A80036; stroke-width: 1.5;\" x1=\"515\" x2=\"605\" y1=\"210.9375\" y2=\"210.9375\"/><text fill=\"#000000\" font-family=\"sans-serif\" font-size=\"11\" lengthAdjust=\"spacingAndGlyphs\" textLength=\"80\" x=\"520\" y=\"225.1479\">m: MassValue</text></a><!--MD5=[96f4274e9e20536e775497830990834d]\n",
       "class E10--><a href=\"psysml:1d10ff1d-94f3-4fcc-ad21-5a3c75a7ba0b\" target=\"_top\" title=\"psysml:1d10ff1d-94f3-4fcc-ad21-5a3c75a7ba0b\" xlink:actuate=\"onRequest\" xlink:href=\"psysml:1d10ff1d-94f3-4fcc-ad21-5a3c75a7ba0b\" xlink:show=\"new\" xlink:title=\"psysml:1d10ff1d-94f3-4fcc-ad21-5a3c75a7ba0b\" xlink:type=\"simple\"><rect fill=\"#FEFECE\" filter=\"url(#f1ceoqwrtkw06l)\" height=\"45.9375\" id=\"E10\" rx=\"10\" ry=\"10\" style=\"stroke: #A80036; stroke-width: 1.5;\" width=\"117\" x=\"372.5\" y=\"54\"/><ellipse cx=\"387.5\" cy=\"72.9688\" fill=\"#FFA500\" rx=\"11\" ry=\"11\" style=\"stroke: #A80036; stroke-width: 1.0;\"/><path d=\"M383.375,74.8906 L383.375,67.0781 L385.8281,67.0781 L385.8281,75.5156 Q385.8281,76.4375 386.2969,76.9688 Q386.7813,77.5 387.6094,77.5 Q388.4531,77.5 388.9219,76.9688 Q389.3906,76.4375 389.3906,75.5156 L389.3906,67.0781 L391.8438,67.0781 L391.8438,74.8906 Q391.8438,77.4219 390.8438,78.5625 Q389.8438,79.7031 387.6094,79.7031 Q385.3906,79.7031 384.375,78.5625 Q383.375,77.4219 383.375,74.8906 Z \"/><text fill=\"#000000\" font-family=\"sans-serif\" font-size=\"12\" font-style=\"italic\" lengthAdjust=\"spacingAndGlyphs\" textLength=\"82\" x=\"403\" y=\"70.1387\">«calculation»</text><text fill=\"#000000\" font-family=\"sans-serif\" font-size=\"12\" lengthAdjust=\"spacingAndGlyphs\" textLength=\"85\" x=\"401.5\" y=\"84.1074\">ms: MassSum</text><line style=\"stroke: #A80036; stroke-width: 1.5;\" x1=\"373.5\" x2=\"488.5\" y1=\"91.9375\" y2=\"91.9375\"/></a><!--MD5=[bee11217b2f71d958a27249dc326068c]\n",
       "class E14--><a href=\"psysml:5bbc6089-c972-4222-8f32-76d519ddb8cd\" target=\"_top\" title=\"psysml:5bbc6089-c972-4222-8f32-76d519ddb8cd\" xlink:actuate=\"onRequest\" xlink:href=\"psysml:5bbc6089-c972-4222-8f32-76d519ddb8cd\" xlink:show=\"new\" xlink:title=\"psysml:5bbc6089-c972-4222-8f32-76d519ddb8cd\" xlink:type=\"simple\"><rect fill=\"#FEFECE\" filter=\"url(#f1ceoqwrtkw06l)\" height=\"71.5469\" id=\"E14\" rx=\"10\" ry=\"10\" style=\"stroke: #A80036; stroke-width: 1.5;\" width=\"125\" x=\"32.5\" y=\"41\"/><ellipse cx=\"47.5\" cy=\"59.9688\" fill=\"#FFA500\" rx=\"11\" ry=\"11\" style=\"stroke: #A80036; stroke-width: 1.0;\"/><path d=\"M43.375,61.8906 L43.375,54.0781 L45.8281,54.0781 L45.8281,62.5156 Q45.8281,63.4375 46.2969,63.9688 Q46.7813,64.5 47.6094,64.5 Q48.4531,64.5 48.9219,63.9688 Q49.3906,63.4375 49.3906,62.5156 L49.3906,54.0781 L51.8438,54.0781 L51.8438,61.8906 Q51.8438,64.4219 50.8438,65.5625 Q49.8438,66.7031 47.6094,66.7031 Q45.3906,66.7031 44.375,65.5625 Q43.375,64.4219 43.375,61.8906 Z \"/><text fill=\"#000000\" font-family=\"sans-serif\" font-size=\"12\" font-style=\"italic\" lengthAdjust=\"spacingAndGlyphs\" textLength=\"82\" x=\"67\" y=\"57.1387\">«calculation»</text><text fill=\"#000000\" font-family=\"sans-serif\" font-size=\"12\" lengthAdjust=\"spacingAndGlyphs\" textLength=\"93\" x=\"61.5\" y=\"71.1074\">ms1: MassSum</text><line style=\"stroke: #A80036; stroke-width: 1.5;\" x1=\"33.5\" x2=\"156.5\" y1=\"78.9375\" y2=\"78.9375\"/><text fill=\"#000000\" font-family=\"sans-serif\" font-size=\"11\" lengthAdjust=\"spacingAndGlyphs\" textLength=\"67\" x=\"38.5\" y=\"93.1479\">partMasses</text><text fill=\"#000000\" font-family=\"sans-serif\" font-size=\"11\" lengthAdjust=\"spacingAndGlyphs\" textLength=\"55\" x=\"38.5\" y=\"105.9526\">totalMass</text></a><text fill=\"#000000\" font-family=\"sans-serif\" font-size=\"14\" lengthAdjust=\"spacingAndGlyphs\" textLength=\"80\" x=\"159\" y=\"55.6982\">partMasses</text><rect fill=\"#A80036\" height=\"12\" style=\"stroke: #FEFECE; stroke-width: 1.5;\" width=\"12\" x=\"193\" y=\"71\"/><text fill=\"#000000\" font-family=\"sans-serif\" font-size=\"14\" lengthAdjust=\"spacingAndGlyphs\" textLength=\"66\" x=\"203\" y=\"377.7151\">totalMass</text><rect fill=\"#A80036\" height=\"12\" style=\"stroke: #FEFECE; stroke-width: 1.5;\" width=\"12\" x=\"230\" y=\"352.72\"/><text fill=\"#000000\" font-family=\"sans-serif\" font-size=\"14\" lengthAdjust=\"spacingAndGlyphs\" textLength=\"75\" x=\"253.5\" y=\"55.6982\">$collection</text><rect fill=\"#A80036\" height=\"12\" style=\"stroke: #FEFECE; stroke-width: 1.5;\" width=\"12\" x=\"285\" y=\"71\"/><text fill=\"#000000\" font-family=\"sans-serif\" font-size=\"14\" lengthAdjust=\"spacingAndGlyphs\" textLength=\"48\" x=\"259\" y=\"377.7151\">$result</text><rect fill=\"#A80036\" height=\"12\" style=\"stroke: #FEFECE; stroke-width: 1.5;\" width=\"12\" x=\"277\" y=\"352.72\"/><text fill=\"#000000\" font-family=\"sans-serif\" font-size=\"14\" lengthAdjust=\"spacingAndGlyphs\" textLength=\"80\" x=\"668\" y=\"55.6982\">partMasses</text><rect fill=\"#A80036\" height=\"12\" style=\"stroke: #FEFECE; stroke-width: 1.5;\" width=\"12\" x=\"702\" y=\"71\"/><text fill=\"#000000\" font-family=\"sans-serif\" font-size=\"14\" lengthAdjust=\"spacingAndGlyphs\" textLength=\"66\" x=\"675\" y=\"377.7151\">totalMass</text><rect fill=\"#A80036\" height=\"12\" style=\"stroke: #FEFECE; stroke-width: 1.5;\" width=\"12\" x=\"702\" y=\"352.72\"/><!--MD5=[209b3feb70ccb6233bfe1053d122c12c]\n",
       "reverse link E2 to E3--><a href=\"psysml:5beb719b-2071-4403-a403-a4a2a93a4090\" target=\"_top\" title=\"psysml:5beb719b-2071-4403-a403-a4a2a93a4090\" xlink:actuate=\"onRequest\" xlink:href=\"psysml:5beb719b-2071-4403-a403-a4a2a93a4090\" xlink:show=\"new\" xlink:title=\"psysml:5beb719b-2071-4403-a403-a4a2a93a4090\" xlink:type=\"simple\"><path d=\"M529.27,115.35 C508.75,133.71 484.39,155.51 465.31,172.58 \" fill=\"none\" id=\"E2&lt;-E3\" style=\"stroke: #A80036; stroke-width: 1.0;\"/><polygon fill=\"#A80036\" points=\"538.99,106.64,531.8517,107.662,530.0495,114.6442,537.1878,113.6223,538.99,106.64\" style=\"stroke: #A80036; stroke-width: 1.0;\"/></a><!--MD5=[9618e71518536f8baf3342ff6fdab317]\n",
       "reverse link E2 to E4--><a href=\"psysml:48862a39-11e7-4605-8aed-a0acf63d7872\" target=\"_top\" title=\"psysml:48862a39-11e7-4605-8aed-a0acf63d7872\" xlink:actuate=\"onRequest\" xlink:href=\"psysml:48862a39-11e7-4605-8aed-a0acf63d7872\" xlink:show=\"new\" xlink:title=\"psysml:48862a39-11e7-4605-8aed-a0acf63d7872\" xlink:type=\"simple\"><path d=\"M567.29,119.66 C565.74,137.05 563.98,156.83 562.58,172.58 \" fill=\"none\" id=\"E2&lt;-E4\" style=\"stroke: #A80036; stroke-width: 1.0;\"/><polygon fill=\"#A80036\" points=\"568.45,106.64,563.9321,112.2604,567.3826,118.5924,571.9004,112.972,568.45,106.64\" style=\"stroke: #A80036; stroke-width: 1.0;\"/></a><!--MD5=[1c0b9414cc86e0744215edee6abd8926]\n",
       "link E7 to E9--><a href=\"psysml:5b55f712-f9b6-4e15-aeab-345c960b0653\" target=\"_top\" title=\"psysml:5b55f712-f9b6-4e15-aeab-345c960b0653\" xlink:actuate=\"onRequest\" xlink:href=\"psysml:5b55f712-f9b6-4e15-aeab-345c960b0653\" xlink:show=\"new\" xlink:title=\"psysml:5b55f712-f9b6-4e15-aeab-345c960b0653\" xlink:type=\"simple\"><path d=\"M242.24,356.65 C253.81,353.39 265.38,353.41 276.95,356.7 \" fill=\"none\" id=\"E7-E9\" style=\"stroke: #FF0000; stroke-width: 5.0;\"/></a><!--MD5=[ec5e0a54482b142abcecfe541d624bff]\n",
       "link E10 to E5--><a href=\"psysml:9917c25f-6195-4027-a1da-c593e3e3b530\" target=\"_top\" title=\"psysml:9917c25f-6195-4027-a1da-c593e3e3b530\" xlink:actuate=\"onRequest\" xlink:href=\"psysml:9917c25f-6195-4027-a1da-c593e3e3b530\" xlink:show=\"new\" xlink:title=\"psysml:9917c25f-6195-4027-a1da-c593e3e3b530\" xlink:type=\"simple\"><path d=\"M401.32,100.08 C384.955,112.255 363.7925,128 343.0438,143.4375 C332.6694,151.1563 322.3984,158.7981 312.8823,165.8784 C311.6928,166.7635 310.5151,167.6397 309.3505,168.5063 \" fill=\"none\" id=\"E10-&gt;E5\" style=\"stroke: #A80036; stroke-width: 1.0;\"/><polygon fill=\"#FFFFFF\" points=\"309.3505,168.5063,320.4154,151.5485,328.7725,162.7806,309.3505,168.5063\" style=\"stroke: #A80036; stroke-width: 1.0;\"/><ellipse cx=\"326.1824\" cy=\"149.7506\" fill=\"#A80036\" rx=\"2\" ry=\"2\" style=\"stroke: #A80036; stroke-width: 1.0;\"/><ellipse cx=\"332.1517\" cy=\"157.7735\" fill=\"#A80036\" rx=\"2\" ry=\"2\" style=\"stroke: #A80036; stroke-width: 1.0;\"/></a><!--MD5=[111e5536516ee1ad7d4266f589654f03]\n",
       "link E14 to E5--><a href=\"psysml:bf4de082-8867-4b4d-b459-dc33df5641b4\" target=\"_top\" title=\"psysml:bf4de082-8867-4b4d-b459-dc33df5641b4\" xlink:actuate=\"onRequest\" xlink:href=\"psysml:bf4de082-8867-4b4d-b459-dc33df5641b4\" xlink:show=\"new\" xlink:title=\"psysml:bf4de082-8867-4b4d-b459-dc33df5641b4\" xlink:type=\"simple\"><path d=\"M143.26,113.06 C151.3575,118.9425 160.0062,125.2256 168.8184,131.6275 C171.0215,133.228 173.2347,134.8359 175.4522,136.4468 C176.5609,137.2522 177.6706,138.0584 178.7806,138.8648 C179.3357,139.268 179.8907,139.6713 180.4458,140.0745 C180.5846,140.1754 180.7233,140.2762 180.8621,140.377 \" fill=\"none\" id=\"E14-&gt;E5\" style=\"stroke: #A80036; stroke-width: 1.0;\"/><polygon fill=\"#FFFFFF\" points=\"180.8621,140.377,161.376,134.873,169.6046,123.5464,180.8621,140.377\" style=\"stroke: #A80036; stroke-width: 1.0;\"/><ellipse cx=\"157.94\" cy=\"129.9047\" fill=\"#A80036\" rx=\"2\" ry=\"2\" style=\"stroke: #A80036; stroke-width: 1.0;\"/><ellipse cx=\"163.8175\" cy=\"121.8143\" fill=\"#A80036\" rx=\"2\" ry=\"2\" style=\"stroke: #A80036; stroke-width: 1.0;\"/></a><!--MD5=[b4b7935434f29651e1c84a7110d88bfc]\n",
       "@startuml\r\n",
       " \r\n",
       "package \"CalculationExample\" as E1  [[psysml:7249bcac-c63a-48a6-adec-7cf675138100 ]]  {\r\n",
       "comp usage \"vehicle\" as E2  << (P,limegreen) part>> [[psysml:14188455-78e6-45cf-9446-0197417271d8 ]] {\r\n",
       "m: MassValue\r\n",
       "}\r\n",
       "comp usage \"eng\" as E3  << (P,limegreen) part>> [[psysml:5beb719b-2071-4403-a403-a4a2a93a4090 ]] {\r\n",
       "m: MassValue\r\n",
       "}\r\n",
       "comp usage \"trans\" as E4  << (P,limegreen) part>> [[psysml:48862a39-11e7-4605-8aed-a0acf63d7872 ]] {\r\n",
       "m: MassValue\r\n",
       "}\r\n",
       "rec def \"MassSum\" as E5  <<(D,brown)calculation def>> [[psysml:8857df12-96f9-4753-a6e3-dc799dcb9ed4 ]] {\r\n",
       "portin \"partMasses\" as E6  [[psysml:8ae5fd16-1397-4172-a6e5-0c084d8d7ca2 ]] \r\n",
       "portout \"totalMass\" as E7  [[psysml:5f15c55d-7a56-4485-be6d-5834d49cebc1 ]] \r\n",
       "portin \"$collection\" as E8  [[psysml:61806866-d159-447e-b132-fa56be682adf ]] \r\n",
       "portout \"$result\" as E9  [[psysml:6ddb7e29-61e7-4184-8db5-61f90a0c49bf ]] \r\n",
       "}\r\n",
       "\r\n",
       "comp usage \"ms: MassSum\" as E10  <<(U,orange)calculation>> [[psysml:1d10ff1d-94f3-4fcc-ad21-5a3c75a7ba0b ]] {\r\n",
       "}\r\n",
       "rec def \"MassSum1\" as E11  <<(D,brown)calculation def>> [[psysml:86e0ef61-a473-4ef3-8b23-ebbfee168e1c ]] {\r\n",
       "portin \"partMasses\" as E12  [[psysml:44765cb5-91e3-4973-8d66-b6f2e5bbf87d ]] \r\n",
       "portout \"totalMass\" as E13  [[psysml:8a0a1f2d-4441-4a8a-b849-a96ed87f36a5 ]] \r\n",
       "}\r\n",
       "\r\n",
       "comp usage \"ms1: MassSum\" as E14  <<(U,orange)calculation>> [[psysml:5bbc6089-c972-4222-8f32-76d519ddb8cd ]] {\r\n",
       "partMasses\r\n",
       "totalMass\r\n",
       "}\r\n",
       "E2 *- - E3 [[psysml:5beb719b-2071-4403-a403-a4a2a93a4090 ]] \r\n",
       "E2 *- - E4 [[psysml:48862a39-11e7-4605-8aed-a0acf63d7872 ]] \r\n",
       "E7 -[thickness=5,#red]- E9 [[psysml:5b55f712-f9b6-4e15-aeab-345c960b0653 ]] \r\n",
       "E10 - -:|> E5 [[psysml:9917c25f-6195-4027-a1da-c593e3e3b530 ]] \r\n",
       "E14 - -:|> E5 [[psysml:bf4de082-8867-4b4d-b459-dc33df5641b4 ]] \r\n",
       "}\r\n",
       "@enduml\r\n",
       "\n",
       "PlantUML version 1.2020.13(Sat Jun 13 12:26:38 UTC 2020)\n",
       "(EPL source distribution)\n",
       "Java Runtime: OpenJDK Runtime Environment\n",
       "JVM: OpenJDK 64-Bit Server VM\n",
       "Default Encoding: UTF-8\n",
       "Language: en\n",
       "Country: null\n",
       "--></g></svg>"
      ]
     },
     "execution_count": 36,
     "metadata": {},
     "output_type": "execute_result"
    }
   ],
   "source": [
    "%viz --style=\"PLANTUML\" --view=\"MIXED\" \"CalculationExample\""
   ]
  },
  {
   "cell_type": "code",
   "execution_count": 37,
   "id": "italian-valuation",
   "metadata": {
    "execution": {
     "iopub.execute_input": "2021-03-26T09:15:58.942762Z",
     "iopub.status.busy": "2021-03-26T09:15:58.942055Z",
     "iopub.status.idle": "2021-03-26T09:15:59.022846Z",
     "shell.execute_reply": "2021-03-26T09:15:59.021365Z"
    }
   },
   "outputs": [
    {
     "data": {
      "image/svg+xml": [
       "<?xml version=\"1.0\" encoding=\"UTF-8\" standalone=\"no\"?><svg xmlns=\"http://www.w3.org/2000/svg\" xmlns:xlink=\"http://www.w3.org/1999/xlink\" contentScriptType=\"application/ecmascript\" contentStyleType=\"text/css\" height=\"441px\" preserveAspectRatio=\"none\" style=\"width:788px;height:441px;\" version=\"1.1\" viewBox=\"0 0 788 441\" width=\"788px\" zoomAndPan=\"magnify\"><defs/><g><!--MD5=[fbc87193dbaf4d95561dea2c320d4a47]\n",
       "cluster E1--><a href=\"psysml:7249bcac-c63a-48a6-adec-7cf675138100\" target=\"_top\" title=\"psysml:7249bcac-c63a-48a6-adec-7cf675138100\" xlink:actuate=\"onRequest\" xlink:href=\"psysml:7249bcac-c63a-48a6-adec-7cf675138100\" xlink:show=\"new\" xlink:title=\"psysml:7249bcac-c63a-48a6-adec-7cf675138100\" xlink:type=\"simple\"><polygon fill=\"#FFFFFF\" points=\"16,6,173,6,180,28.2969,766,28.2969,766,429.72,16,429.72,16,6\" style=\"stroke: #000000; stroke-width: 1.5;\"/><line style=\"stroke: #000000; stroke-width: 1.5;\" x1=\"16\" x2=\"180\" y1=\"28.2969\" y2=\"28.2969\"/><text fill=\"#000000\" font-family=\"sans-serif\" font-size=\"14\" font-weight=\"bold\" lengthAdjust=\"spacingAndGlyphs\" textLength=\"151\" x=\"20\" y=\"20.9951\">CalculationExample</text></a><!--MD5=[de5ec2e2e8f62f467e546659f5068c88]\n",
       "cluster E5--><a href=\"psysml:8857df12-96f9-4753-a6e3-dc799dcb9ed4\" target=\"_top\" title=\"psysml:8857df12-96f9-4753-a6e3-dc799dcb9ed4\" xlink:actuate=\"onRequest\" xlink:href=\"psysml:8857df12-96f9-4753-a6e3-dc799dcb9ed4\" xlink:show=\"new\" xlink:title=\"psysml:8857df12-96f9-4753-a6e3-dc799dcb9ed4\" xlink:type=\"simple\"><rect fill=\"#FFFFFF\" height=\"306.72\" id=\"E5\" style=\"stroke: #383838; stroke-width: 1.5;\" width=\"128\" x=\"155\" y=\"85\"/><rect fill=\"#F8F8F8\" height=\"37.9375\" style=\"stroke: #383838; stroke-width: 1.5;\" width=\"128\" x=\"155\" y=\"85\"/><text fill=\"#000000\" font-family=\"sans-serif\" font-size=\"12\" font-style=\"italic\" lengthAdjust=\"spacingAndGlyphs\" textLength=\"106\" x=\"166\" y=\"101.1387\">«calculation def»</text><text fill=\"#000000\" font-family=\"sans-serif\" font-size=\"12\" lengthAdjust=\"spacingAndGlyphs\" textLength=\"59\" x=\"189.5\" y=\"115.1074\">MassSum</text></a><!--MD5=[917b9dd0c7eca3ee5f47219d1a84c0ad]\n",
       "cluster E11--><a href=\"psysml:86e0ef61-a473-4ef3-8b23-ebbfee168e1c\" target=\"_top\" title=\"psysml:86e0ef61-a473-4ef3-8b23-ebbfee168e1c\" xlink:actuate=\"onRequest\" xlink:href=\"psysml:86e0ef61-a473-4ef3-8b23-ebbfee168e1c\" xlink:show=\"new\" xlink:title=\"psysml:86e0ef61-a473-4ef3-8b23-ebbfee168e1c\" xlink:type=\"simple\"><rect fill=\"#FFFFFF\" height=\"306.72\" id=\"E11\" style=\"stroke: #383838; stroke-width: 1.5;\" width=\"166\" x=\"584\" y=\"85\"/><rect fill=\"#F8F8F8\" height=\"37.9375\" style=\"stroke: #383838; stroke-width: 1.5;\" width=\"166\" x=\"584\" y=\"85\"/><text fill=\"#000000\" font-family=\"sans-serif\" font-size=\"12\" font-style=\"italic\" lengthAdjust=\"spacingAndGlyphs\" textLength=\"106\" x=\"614\" y=\"101.1387\">«calculation def»</text><text fill=\"#000000\" font-family=\"sans-serif\" font-size=\"12\" lengthAdjust=\"spacingAndGlyphs\" textLength=\"67\" x=\"633.5\" y=\"115.1074\">MassSum1</text></a><!--MD5=[b4997ac47864f28c2f74865a473b2911]\n",
       "class E2--><a href=\"psysml:14188455-78e6-45cf-9446-0197417271d8\" target=\"_top\" title=\"psysml:14188455-78e6-45cf-9446-0197417271d8\" xlink:actuate=\"onRequest\" xlink:href=\"psysml:14188455-78e6-45cf-9446-0197417271d8\" xlink:show=\"new\" xlink:title=\"psysml:14188455-78e6-45cf-9446-0197417271d8\" xlink:type=\"simple\"><rect fill=\"#FFFFFF\" height=\"75.5469\" id=\"E2\" rx=\"10\" ry=\"10\" style=\"stroke: #383838; stroke-width: 1.5;\" width=\"92\" x=\"473\" y=\"47\"/><text fill=\"#000000\" font-family=\"sans-serif\" font-size=\"12\" font-style=\"italic\" lengthAdjust=\"spacingAndGlyphs\" textLength=\"40\" x=\"499\" y=\"63.1387\">«part»</text><text fill=\"#000000\" font-family=\"sans-serif\" font-size=\"12\" lengthAdjust=\"spacingAndGlyphs\" textLength=\"43\" x=\"497.5\" y=\"77.1074\">vehicle</text><line style=\"stroke: #383838; stroke-width: 1.5;\" x1=\"474\" x2=\"564\" y1=\"84.9375\" y2=\"84.9375\"/><text fill=\"#000000\" font-family=\"sans-serif\" font-size=\"11\" lengthAdjust=\"spacingAndGlyphs\" textLength=\"80\" x=\"479\" y=\"115.9526\">m: MassValue</text><line style=\"stroke: #383838; stroke-width: 1.0;\" x1=\"474\" x2=\"491.5\" y1=\"99.3398\" y2=\"99.3398\"/><text fill=\"#000000\" font-family=\"sans-serif\" font-size=\"11\" lengthAdjust=\"spacingAndGlyphs\" textLength=\"55\" x=\"491.5\" y=\"102.6479\">attributes</text><line style=\"stroke: #383838; stroke-width: 1.0;\" x1=\"546.5\" x2=\"564\" y1=\"99.3398\" y2=\"99.3398\"/></a><!--MD5=[09b614a08d8cba4a07c9adeb5e0fee81]\n",
       "class E3--><a href=\"psysml:5beb719b-2071-4403-a403-a4a2a93a4090\" target=\"_top\" title=\"psysml:5beb719b-2071-4403-a403-a4a2a93a4090\" xlink:actuate=\"onRequest\" xlink:href=\"psysml:5beb719b-2071-4403-a403-a4a2a93a4090\" xlink:show=\"new\" xlink:title=\"psysml:5beb719b-2071-4403-a403-a4a2a93a4090\" xlink:type=\"simple\"><rect fill=\"#FFFFFF\" height=\"75.5469\" id=\"E3\" rx=\"10\" ry=\"10\" style=\"stroke: #383838; stroke-width: 1.5;\" width=\"92\" x=\"346\" y=\"189\"/><text fill=\"#000000\" font-family=\"sans-serif\" font-size=\"12\" font-style=\"italic\" lengthAdjust=\"spacingAndGlyphs\" textLength=\"40\" x=\"372\" y=\"205.1387\">«part»</text><text fill=\"#000000\" font-family=\"sans-serif\" font-size=\"12\" lengthAdjust=\"spacingAndGlyphs\" textLength=\"24\" x=\"380\" y=\"219.1074\">eng</text><line style=\"stroke: #383838; stroke-width: 1.5;\" x1=\"347\" x2=\"437\" y1=\"226.9375\" y2=\"226.9375\"/><text fill=\"#000000\" font-family=\"sans-serif\" font-size=\"11\" lengthAdjust=\"spacingAndGlyphs\" textLength=\"80\" x=\"352\" y=\"257.9526\">m: MassValue</text><line style=\"stroke: #383838; stroke-width: 1.0;\" x1=\"347\" x2=\"364.5\" y1=\"241.3398\" y2=\"241.3398\"/><text fill=\"#000000\" font-family=\"sans-serif\" font-size=\"11\" lengthAdjust=\"spacingAndGlyphs\" textLength=\"55\" x=\"364.5\" y=\"244.6479\">attributes</text><line style=\"stroke: #383838; stroke-width: 1.0;\" x1=\"419.5\" x2=\"437\" y1=\"241.3398\" y2=\"241.3398\"/></a><!--MD5=[ebbe1d658d1005bcc118a6aa81145e00]\n",
       "class E4--><a href=\"psysml:48862a39-11e7-4605-8aed-a0acf63d7872\" target=\"_top\" title=\"psysml:48862a39-11e7-4605-8aed-a0acf63d7872\" xlink:actuate=\"onRequest\" xlink:href=\"psysml:48862a39-11e7-4605-8aed-a0acf63d7872\" xlink:show=\"new\" xlink:title=\"psysml:48862a39-11e7-4605-8aed-a0acf63d7872\" xlink:type=\"simple\"><rect fill=\"#FFFFFF\" height=\"75.5469\" id=\"E4\" rx=\"10\" ry=\"10\" style=\"stroke: #383838; stroke-width: 1.5;\" width=\"92\" x=\"473\" y=\"189\"/><text fill=\"#000000\" font-family=\"sans-serif\" font-size=\"12\" font-style=\"italic\" lengthAdjust=\"spacingAndGlyphs\" textLength=\"40\" x=\"499\" y=\"205.1387\">«part»</text><text fill=\"#000000\" font-family=\"sans-serif\" font-size=\"12\" lengthAdjust=\"spacingAndGlyphs\" textLength=\"33\" x=\"502.5\" y=\"219.1074\">trans</text><line style=\"stroke: #383838; stroke-width: 1.5;\" x1=\"474\" x2=\"564\" y1=\"226.9375\" y2=\"226.9375\"/><text fill=\"#000000\" font-family=\"sans-serif\" font-size=\"11\" lengthAdjust=\"spacingAndGlyphs\" textLength=\"80\" x=\"479\" y=\"257.9526\">m: MassValue</text><line style=\"stroke: #383838; stroke-width: 1.0;\" x1=\"474\" x2=\"491.5\" y1=\"241.3398\" y2=\"241.3398\"/><text fill=\"#000000\" font-family=\"sans-serif\" font-size=\"11\" lengthAdjust=\"spacingAndGlyphs\" textLength=\"55\" x=\"491.5\" y=\"244.6479\">attributes</text><line style=\"stroke: #383838; stroke-width: 1.0;\" x1=\"546.5\" x2=\"564\" y1=\"241.3398\" y2=\"241.3398\"/></a><!--MD5=[96f4274e9e20536e775497830990834d]\n",
       "class E10--><a href=\"psysml:1d10ff1d-94f3-4fcc-ad21-5a3c75a7ba0b\" target=\"_top\" title=\"psysml:1d10ff1d-94f3-4fcc-ad21-5a3c75a7ba0b\" xlink:actuate=\"onRequest\" xlink:href=\"psysml:1d10ff1d-94f3-4fcc-ad21-5a3c75a7ba0b\" xlink:show=\"new\" xlink:title=\"psysml:1d10ff1d-94f3-4fcc-ad21-5a3c75a7ba0b\" xlink:type=\"simple\"><rect fill=\"#FFFFFF\" height=\"45.9375\" id=\"E10\" rx=\"10\" ry=\"10\" style=\"stroke: #383838; stroke-width: 1.5;\" width=\"91\" x=\"346.5\" y=\"62\"/><text fill=\"#000000\" font-family=\"sans-serif\" font-size=\"12\" font-style=\"italic\" lengthAdjust=\"spacingAndGlyphs\" textLength=\"82\" x=\"351\" y=\"78.1387\">«calculation»</text><text fill=\"#000000\" font-family=\"sans-serif\" font-size=\"12\" lengthAdjust=\"spacingAndGlyphs\" textLength=\"85\" x=\"349.5\" y=\"92.1074\">ms: MassSum</text><line style=\"stroke: #383838; stroke-width: 1.5;\" x1=\"347.5\" x2=\"436.5\" y1=\"99.9375\" y2=\"99.9375\"/></a><!--MD5=[bee11217b2f71d958a27249dc326068c]\n",
       "class E14--><a href=\"psysml:5bbc6089-c972-4222-8f32-76d519ddb8cd\" target=\"_top\" title=\"psysml:5bbc6089-c972-4222-8f32-76d519ddb8cd\" xlink:actuate=\"onRequest\" xlink:href=\"psysml:5bbc6089-c972-4222-8f32-76d519ddb8cd\" xlink:show=\"new\" xlink:title=\"psysml:5bbc6089-c972-4222-8f32-76d519ddb8cd\" xlink:type=\"simple\"><rect fill=\"#FFFFFF\" height=\"88.3516\" id=\"E14\" rx=\"10\" ry=\"10\" style=\"stroke: #383838; stroke-width: 1.5;\" width=\"99\" x=\"32.5\" y=\"41\"/><text fill=\"#000000\" font-family=\"sans-serif\" font-size=\"12\" font-style=\"italic\" lengthAdjust=\"spacingAndGlyphs\" textLength=\"82\" x=\"41\" y=\"57.1387\">«calculation»</text><text fill=\"#000000\" font-family=\"sans-serif\" font-size=\"12\" lengthAdjust=\"spacingAndGlyphs\" textLength=\"93\" x=\"35.5\" y=\"71.1074\">ms1: MassSum</text><line style=\"stroke: #383838; stroke-width: 1.5;\" x1=\"33.5\" x2=\"130.5\" y1=\"78.9375\" y2=\"78.9375\"/><text fill=\"#000000\" font-family=\"sans-serif\" font-size=\"11\" lengthAdjust=\"spacingAndGlyphs\" textLength=\"67\" x=\"38.5\" y=\"109.9526\">partMasses</text><text fill=\"#000000\" font-family=\"sans-serif\" font-size=\"11\" lengthAdjust=\"spacingAndGlyphs\" textLength=\"55\" x=\"38.5\" y=\"122.7573\">totalMass</text><line style=\"stroke: #383838; stroke-width: 1.0;\" x1=\"33.5\" x2=\"54.5\" y1=\"93.3398\" y2=\"93.3398\"/><text fill=\"#000000\" font-family=\"sans-serif\" font-size=\"11\" lengthAdjust=\"spacingAndGlyphs\" textLength=\"55\" x=\"54.5\" y=\"96.6479\">attributes</text><line style=\"stroke: #383838; stroke-width: 1.0;\" x1=\"109.5\" x2=\"130.5\" y1=\"93.3398\" y2=\"93.3398\"/></a><text fill=\"#000000\" font-family=\"sans-serif\" font-size=\"14\" lengthAdjust=\"spacingAndGlyphs\" textLength=\"80\" x=\"133\" y=\"63.6982\">partMasses</text><rect fill=\"#383838\" height=\"12\" style=\"stroke: #F8F8F8; stroke-width: 1.5;\" width=\"12\" x=\"167\" y=\"79\"/><text fill=\"#000000\" font-family=\"sans-serif\" font-size=\"14\" lengthAdjust=\"spacingAndGlyphs\" textLength=\"66\" x=\"177\" y=\"410.7151\">totalMass</text><rect fill=\"#383838\" height=\"12\" style=\"stroke: #F8F8F8; stroke-width: 1.5;\" width=\"12\" x=\"204\" y=\"385.72\"/><text fill=\"#000000\" font-family=\"sans-serif\" font-size=\"14\" lengthAdjust=\"spacingAndGlyphs\" textLength=\"75\" x=\"227.5\" y=\"63.6982\">$collection</text><rect fill=\"#383838\" height=\"12\" style=\"stroke: #F8F8F8; stroke-width: 1.5;\" width=\"12\" x=\"259\" y=\"79\"/><text fill=\"#000000\" font-family=\"sans-serif\" font-size=\"14\" lengthAdjust=\"spacingAndGlyphs\" textLength=\"48\" x=\"233\" y=\"410.7151\">$result</text><rect fill=\"#383838\" height=\"12\" style=\"stroke: #F8F8F8; stroke-width: 1.5;\" width=\"12\" x=\"251\" y=\"385.72\"/><text fill=\"#000000\" font-family=\"sans-serif\" font-size=\"14\" lengthAdjust=\"spacingAndGlyphs\" textLength=\"80\" x=\"627\" y=\"63.6982\">partMasses</text><rect fill=\"#383838\" height=\"12\" style=\"stroke: #F8F8F8; stroke-width: 1.5;\" width=\"12\" x=\"661\" y=\"79\"/><text fill=\"#000000\" font-family=\"sans-serif\" font-size=\"14\" lengthAdjust=\"spacingAndGlyphs\" textLength=\"66\" x=\"634\" y=\"410.7151\">totalMass</text><rect fill=\"#383838\" height=\"12\" style=\"stroke: #F8F8F8; stroke-width: 1.5;\" width=\"12\" x=\"661\" y=\"385.72\"/><!--MD5=[209b3feb70ccb6233bfe1053d122c12c]\n",
       "reverse link E2 to E3--><a href=\"psysml:5beb719b-2071-4403-a403-a4a2a93a4090\" target=\"_top\" title=\"psysml:5beb719b-2071-4403-a403-a4a2a93a4090\" xlink:actuate=\"onRequest\" xlink:href=\"psysml:5beb719b-2071-4403-a403-a4a2a93a4090\" xlink:show=\"new\" xlink:title=\"psysml:5beb719b-2071-4403-a403-a4a2a93a4090\" xlink:type=\"simple\"><path d=\"M476.41,132.95 C459.95,151.1 441.38,171.57 425.86,188.68 \" fill=\"none\" id=\"E2&lt;-E3\" style=\"stroke: #383838; stroke-width: 1.0;\"/><polygon fill=\"#383838\" points=\"485.3,123.15,478.3052,124.9031,477.2332,132.0341,484.2279,130.281,485.3,123.15\" style=\"stroke: #383838; stroke-width: 1.0;\"/></a><!--MD5=[9618e71518536f8baf3342ff6fdab317]\n",
       "reverse link E2 to E4--><a href=\"psysml:48862a39-11e7-4605-8aed-a0acf63d7872\" target=\"_top\" title=\"psysml:48862a39-11e7-4605-8aed-a0acf63d7872\" xlink:actuate=\"onRequest\" xlink:href=\"psysml:48862a39-11e7-4605-8aed-a0acf63d7872\" xlink:show=\"new\" xlink:title=\"psysml:48862a39-11e7-4605-8aed-a0acf63d7872\" xlink:type=\"simple\"><path d=\"M519,136.25 C519,153.55 519,172.6 519,188.68 \" fill=\"none\" id=\"E2&lt;-E4\" style=\"stroke: #383838; stroke-width: 1.0;\"/><polygon fill=\"#383838\" points=\"519,123.15,515,129.15,519,135.15,523,129.15,519,123.15\" style=\"stroke: #383838; stroke-width: 1.0;\"/></a><!--MD5=[1c0b9414cc86e0744215edee6abd8926]\n",
       "link E7 to E9--><a href=\"psysml:5b55f712-f9b6-4e15-aeab-345c960b0653\" target=\"_top\" title=\"psysml:5b55f712-f9b6-4e15-aeab-345c960b0653\" xlink:actuate=\"onRequest\" xlink:href=\"psysml:5b55f712-f9b6-4e15-aeab-345c960b0653\" xlink:show=\"new\" xlink:title=\"psysml:5b55f712-f9b6-4e15-aeab-345c960b0653\" xlink:type=\"simple\"><path d=\"M216.24,389.65 C227.81,386.39 239.38,386.41 250.95,389.7 \" fill=\"none\" id=\"E7-E9\" style=\"stroke: #383838; stroke-width: 5.0;\"/></a><!--MD5=[ec5e0a54482b142abcecfe541d624bff]\n",
       "link E10 to E5--><a href=\"psysml:9917c25f-6195-4027-a1da-c593e3e3b530\" target=\"_top\" title=\"psysml:9917c25f-6195-4027-a1da-c593e3e3b530\" xlink:actuate=\"onRequest\" xlink:href=\"psysml:9917c25f-6195-4027-a1da-c593e3e3b530\" xlink:show=\"new\" xlink:title=\"psysml:9917c25f-6195-4027-a1da-c593e3e3b530\" xlink:type=\"simple\"><path d=\"M367.76,108.18 C352.425,122.215 331.7225,141.16 311.4063,159.75 C306.3272,164.3975 301.2723,169.0228 296.3314,173.5437 C293.8609,175.8041 291.419,178.0384 289.0168,180.2363 C287.8157,181.3353 286.6246,182.4252 285.4448,183.5046 C284.8549,184.0444 284.2678,184.5815 283.6837,185.1159 C283.5377,185.2495 283.3919,185.3829 283.2463,185.5162 \" fill=\"none\" id=\"E10-&gt;E5\" style=\"stroke: #383838; stroke-width: 1.0;\"/><polygon fill=\"#FFFFFF\" points=\"283.2463,185.5162,292.5389,167.526,301.9894,177.855,283.2463,185.5162\" style=\"stroke: #383838; stroke-width: 1.0;\"/><ellipse cx=\"298.0944\" cy=\"165.1539\" fill=\"#383838\" rx=\"2\" ry=\"2\" style=\"stroke: #383838; stroke-width: 1.0;\"/><ellipse cx=\"304.8447\" cy=\"172.5317\" fill=\"#383838\" rx=\"2\" ry=\"2\" style=\"stroke: #383838; stroke-width: 1.0;\"/></a><!--MD5=[111e5536516ee1ad7d4266f589654f03]\n",
       "link E14 to E5--><a href=\"psysml:bf4de082-8867-4b4d-b459-dc33df5641b4\" target=\"_top\" title=\"psysml:bf4de082-8867-4b4d-b459-dc33df5641b4\" xlink:actuate=\"onRequest\" xlink:href=\"psysml:bf4de082-8867-4b4d-b459-dc33df5641b4\" xlink:show=\"new\" xlink:title=\"psysml:bf4de082-8867-4b4d-b459-dc33df5641b4\" xlink:type=\"simple\"><path d=\"M130.39,129.15 C138.0025,135.9375 146.0606,143.1225 154.2098,150.3889 C154.4645,150.616 154.7193,150.8431 154.9741,151.0704 \" fill=\"none\" id=\"E14-&gt;E5\" style=\"stroke: #383838; stroke-width: 1.0;\"/><polygon fill=\"#FFFFFF\" points=\"154.9741,151.0704,136.1343,143.6501,145.4516,133.2008,154.9741,151.0704\" style=\"stroke: #383838; stroke-width: 1.0;\"/><ellipse cx=\"133.211\" cy=\"138.3638\" fill=\"#383838\" rx=\"2\" ry=\"2\" style=\"stroke: #383838; stroke-width: 1.0;\"/><ellipse cx=\"139.8662\" cy=\"130.9001\" fill=\"#383838\" rx=\"2\" ry=\"2\" style=\"stroke: #383838; stroke-width: 1.0;\"/></a><!--MD5=[ce2d351720eef3f04192e7442bdda39d]\n",
       "@startuml\r\n",
       "skinparam monochrome true\r\n",
       "skinparam classbackgroundcolor white\r\n",
       "skinparam shadowing false\r\n",
       "skinparam wrapWidth 300\r\n",
       "hide circle\r\n",
       "\r\n",
       "package \"CalculationExample\" as E1  [[psysml:7249bcac-c63a-48a6-adec-7cf675138100 ]]  {\r\n",
       "comp usage \"vehicle\" as E2  <<(T,blue)part>> [[psysml:14188455-78e6-45cf-9446-0197417271d8 ]] {\r\n",
       "- - attributes - -\r\n",
       "m: MassValue\r\n",
       "}\r\n",
       "comp usage \"eng\" as E3  <<(T,blue)part>> [[psysml:5beb719b-2071-4403-a403-a4a2a93a4090 ]] {\r\n",
       "- - attributes - -\r\n",
       "m: MassValue\r\n",
       "}\r\n",
       "comp usage \"trans\" as E4  <<(T,blue)part>> [[psysml:48862a39-11e7-4605-8aed-a0acf63d7872 ]] {\r\n",
       "- - attributes - -\r\n",
       "m: MassValue\r\n",
       "}\r\n",
       "rec def \"MassSum\" as E5  <<(T,blue)calculation def>> [[psysml:8857df12-96f9-4753-a6e3-dc799dcb9ed4 ]] {\r\n",
       "portin \"partMasses\" as E6  [[psysml:8ae5fd16-1397-4172-a6e5-0c084d8d7ca2 ]] \r\n",
       "portout \"totalMass\" as E7  [[psysml:5f15c55d-7a56-4485-be6d-5834d49cebc1 ]] \r\n",
       "portin \"$collection\" as E8  [[psysml:61806866-d159-447e-b132-fa56be682adf ]] \r\n",
       "portout \"$result\" as E9  [[psysml:6ddb7e29-61e7-4184-8db5-61f90a0c49bf ]] \r\n",
       "}\r\n",
       "\r\n",
       "comp usage \"ms: MassSum\" as E10  <<(T,blue)calculation>> [[psysml:1d10ff1d-94f3-4fcc-ad21-5a3c75a7ba0b ]] {\r\n",
       "}\r\n",
       "rec def \"MassSum1\" as E11  <<(T,blue)calculation def>> [[psysml:86e0ef61-a473-4ef3-8b23-ebbfee168e1c ]] {\r\n",
       "portin \"partMasses\" as E12  [[psysml:44765cb5-91e3-4973-8d66-b6f2e5bbf87d ]] \r\n",
       "portout \"totalMass\" as E13  [[psysml:8a0a1f2d-4441-4a8a-b849-a96ed87f36a5 ]] \r\n",
       "}\r\n",
       "\r\n",
       "comp usage \"ms1: MassSum\" as E14  <<(T,blue)calculation>> [[psysml:5bbc6089-c972-4222-8f32-76d519ddb8cd ]] {\r\n",
       "- - attributes - -\r\n",
       "partMasses\r\n",
       "totalMass\r\n",
       "}\r\n",
       "E2 *- - E3 [[psysml:5beb719b-2071-4403-a403-a4a2a93a4090 ]] \r\n",
       "E2 *- - E4 [[psysml:48862a39-11e7-4605-8aed-a0acf63d7872 ]] \r\n",
       "E7 -[thickness=5]- E9 [[psysml:5b55f712-f9b6-4e15-aeab-345c960b0653 ]] \r\n",
       "E10 - -:|> E5 [[psysml:9917c25f-6195-4027-a1da-c593e3e3b530 ]] \r\n",
       "E14 - -:|> E5 [[psysml:bf4de082-8867-4b4d-b459-dc33df5641b4 ]] \r\n",
       "}\r\n",
       "@enduml\r\n",
       "\n",
       "PlantUML version 1.2020.13(Sat Jun 13 12:26:38 UTC 2020)\n",
       "(EPL source distribution)\n",
       "Java Runtime: OpenJDK Runtime Environment\n",
       "JVM: OpenJDK 64-Bit Server VM\n",
       "Default Encoding: UTF-8\n",
       "Language: en\n",
       "Country: null\n",
       "--></g></svg>"
      ]
     },
     "execution_count": 37,
     "metadata": {},
     "output_type": "execute_result"
    }
   ],
   "source": [
    "%viz --style=\"DEFAULT\" --view=\"Default\" \"CalculationExample\""
   ]
  },
  {
   "cell_type": "code",
   "execution_count": 38,
   "id": "tested-society",
   "metadata": {
    "execution": {
     "iopub.execute_input": "2021-03-26T09:15:59.072842Z",
     "iopub.status.busy": "2021-03-26T09:15:59.072533Z",
     "iopub.status.idle": "2021-03-26T09:15:59.163743Z",
     "shell.execute_reply": "2021-03-26T09:15:59.162404Z"
    }
   },
   "outputs": [
    {
     "data": {
      "image/svg+xml": [
       "<?xml version=\"1.0\" encoding=\"UTF-8\" standalone=\"no\"?><svg xmlns=\"http://www.w3.org/2000/svg\" xmlns:xlink=\"http://www.w3.org/1999/xlink\" contentScriptType=\"application/ecmascript\" contentStyleType=\"text/css\" height=\"293px\" preserveAspectRatio=\"none\" style=\"width:607px;height:293px;\" version=\"1.1\" viewBox=\"0 0 607 293\" width=\"607px\" zoomAndPan=\"magnify\"><defs/><g><!--MD5=[fbc87193dbaf4d95561dea2c320d4a47]\n",
       "cluster E1--><a href=\"psysml:7249bcac-c63a-48a6-adec-7cf675138100\" target=\"_top\" title=\"psysml:7249bcac-c63a-48a6-adec-7cf675138100\" xlink:actuate=\"onRequest\" xlink:href=\"psysml:7249bcac-c63a-48a6-adec-7cf675138100\" xlink:show=\"new\" xlink:title=\"psysml:7249bcac-c63a-48a6-adec-7cf675138100\" xlink:type=\"simple\"><polygon fill=\"#FFFFFF\" points=\"16,6,173,6,180,28.2969,585,28.2969,585,281,16,281,16,6\" style=\"stroke: #000000; stroke-width: 1.5;\"/><line style=\"stroke: #000000; stroke-width: 1.5;\" x1=\"16\" x2=\"180\" y1=\"28.2969\" y2=\"28.2969\"/><text fill=\"#000000\" font-family=\"sans-serif\" font-size=\"14\" font-weight=\"bold\" lengthAdjust=\"spacingAndGlyphs\" textLength=\"151\" x=\"20\" y=\"20.9951\">CalculationExample</text></a><!--MD5=[b4997ac47864f28c2f74865a473b2911]\n",
       "class E2--><a href=\"psysml:14188455-78e6-45cf-9446-0197417271d8\" target=\"_top\" title=\"psysml:14188455-78e6-45cf-9446-0197417271d8\" xlink:actuate=\"onRequest\" xlink:href=\"psysml:14188455-78e6-45cf-9446-0197417271d8\" xlink:show=\"new\" xlink:title=\"psysml:14188455-78e6-45cf-9446-0197417271d8\" xlink:type=\"simple\"><rect fill=\"#FFFFFF\" height=\"75.5469\" id=\"E2\" rx=\"10\" ry=\"10\" style=\"stroke: #383838; stroke-width: 1.5;\" width=\"92\" x=\"477\" y=\"47\"/><text fill=\"#000000\" font-family=\"sans-serif\" font-size=\"12\" font-style=\"italic\" lengthAdjust=\"spacingAndGlyphs\" textLength=\"40\" x=\"503\" y=\"63.1387\">«part»</text><text fill=\"#000000\" font-family=\"sans-serif\" font-size=\"12\" lengthAdjust=\"spacingAndGlyphs\" textLength=\"43\" x=\"501.5\" y=\"77.1074\">vehicle</text><line style=\"stroke: #383838; stroke-width: 1.5;\" x1=\"478\" x2=\"568\" y1=\"84.9375\" y2=\"84.9375\"/><text fill=\"#000000\" font-family=\"sans-serif\" font-size=\"11\" lengthAdjust=\"spacingAndGlyphs\" textLength=\"80\" x=\"483\" y=\"115.9526\">m: MassValue</text><line style=\"stroke: #383838; stroke-width: 1.0;\" x1=\"478\" x2=\"495.5\" y1=\"99.3398\" y2=\"99.3398\"/><text fill=\"#000000\" font-family=\"sans-serif\" font-size=\"11\" lengthAdjust=\"spacingAndGlyphs\" textLength=\"55\" x=\"495.5\" y=\"102.6479\">attributes</text><line style=\"stroke: #383838; stroke-width: 1.0;\" x1=\"550.5\" x2=\"568\" y1=\"99.3398\" y2=\"99.3398\"/></a><!--MD5=[09b614a08d8cba4a07c9adeb5e0fee81]\n",
       "class E3--><a href=\"psysml:5beb719b-2071-4403-a403-a4a2a93a4090\" target=\"_top\" title=\"psysml:5beb719b-2071-4403-a403-a4a2a93a4090\" xlink:actuate=\"onRequest\" xlink:href=\"psysml:5beb719b-2071-4403-a403-a4a2a93a4090\" xlink:show=\"new\" xlink:title=\"psysml:5beb719b-2071-4403-a403-a4a2a93a4090\" xlink:type=\"simple\"><rect fill=\"#FFFFFF\" height=\"75.5469\" id=\"E3\" rx=\"10\" ry=\"10\" style=\"stroke: #383838; stroke-width: 1.5;\" width=\"92\" x=\"350\" y=\"189\"/><text fill=\"#000000\" font-family=\"sans-serif\" font-size=\"12\" font-style=\"italic\" lengthAdjust=\"spacingAndGlyphs\" textLength=\"40\" x=\"376\" y=\"205.1387\">«part»</text><text fill=\"#000000\" font-family=\"sans-serif\" font-size=\"12\" lengthAdjust=\"spacingAndGlyphs\" textLength=\"24\" x=\"384\" y=\"219.1074\">eng</text><line style=\"stroke: #383838; stroke-width: 1.5;\" x1=\"351\" x2=\"441\" y1=\"226.9375\" y2=\"226.9375\"/><text fill=\"#000000\" font-family=\"sans-serif\" font-size=\"11\" lengthAdjust=\"spacingAndGlyphs\" textLength=\"80\" x=\"356\" y=\"257.9526\">m: MassValue</text><line style=\"stroke: #383838; stroke-width: 1.0;\" x1=\"351\" x2=\"368.5\" y1=\"241.3398\" y2=\"241.3398\"/><text fill=\"#000000\" font-family=\"sans-serif\" font-size=\"11\" lengthAdjust=\"spacingAndGlyphs\" textLength=\"55\" x=\"368.5\" y=\"244.6479\">attributes</text><line style=\"stroke: #383838; stroke-width: 1.0;\" x1=\"423.5\" x2=\"441\" y1=\"241.3398\" y2=\"241.3398\"/></a><!--MD5=[ebbe1d658d1005bcc118a6aa81145e00]\n",
       "class E4--><a href=\"psysml:48862a39-11e7-4605-8aed-a0acf63d7872\" target=\"_top\" title=\"psysml:48862a39-11e7-4605-8aed-a0acf63d7872\" xlink:actuate=\"onRequest\" xlink:href=\"psysml:48862a39-11e7-4605-8aed-a0acf63d7872\" xlink:show=\"new\" xlink:title=\"psysml:48862a39-11e7-4605-8aed-a0acf63d7872\" xlink:type=\"simple\"><rect fill=\"#FFFFFF\" height=\"75.5469\" id=\"E4\" rx=\"10\" ry=\"10\" style=\"stroke: #383838; stroke-width: 1.5;\" width=\"92\" x=\"477\" y=\"189\"/><text fill=\"#000000\" font-family=\"sans-serif\" font-size=\"12\" font-style=\"italic\" lengthAdjust=\"spacingAndGlyphs\" textLength=\"40\" x=\"503\" y=\"205.1387\">«part»</text><text fill=\"#000000\" font-family=\"sans-serif\" font-size=\"12\" lengthAdjust=\"spacingAndGlyphs\" textLength=\"33\" x=\"506.5\" y=\"219.1074\">trans</text><line style=\"stroke: #383838; stroke-width: 1.5;\" x1=\"478\" x2=\"568\" y1=\"226.9375\" y2=\"226.9375\"/><text fill=\"#000000\" font-family=\"sans-serif\" font-size=\"11\" lengthAdjust=\"spacingAndGlyphs\" textLength=\"80\" x=\"483\" y=\"257.9526\">m: MassValue</text><line style=\"stroke: #383838; stroke-width: 1.0;\" x1=\"478\" x2=\"495.5\" y1=\"241.3398\" y2=\"241.3398\"/><text fill=\"#000000\" font-family=\"sans-serif\" font-size=\"11\" lengthAdjust=\"spacingAndGlyphs\" textLength=\"55\" x=\"495.5\" y=\"244.6479\">attributes</text><line style=\"stroke: #383838; stroke-width: 1.0;\" x1=\"550.5\" x2=\"568\" y1=\"241.3398\" y2=\"241.3398\"/></a><!--MD5=[270fce915f116d4de14055a7c1d9a0f3]\n",
       "class E5--><a href=\"psysml:8857df12-96f9-4753-a6e3-dc799dcb9ed4\" target=\"_top\" title=\"psysml:8857df12-96f9-4753-a6e3-dc799dcb9ed4\" xlink:actuate=\"onRequest\" xlink:href=\"psysml:8857df12-96f9-4753-a6e3-dc799dcb9ed4\" xlink:show=\"new\" xlink:title=\"psysml:8857df12-96f9-4753-a6e3-dc799dcb9ed4\" xlink:type=\"simple\"><rect fill=\"#FFFFFF\" height=\"45.9375\" id=\"E5\" style=\"stroke: #383838; stroke-width: 1.5;\" width=\"108\" x=\"120\" y=\"204\"/><text fill=\"#000000\" font-family=\"sans-serif\" font-size=\"12\" font-style=\"italic\" lengthAdjust=\"spacingAndGlyphs\" textLength=\"106\" x=\"121\" y=\"220.1387\">«calculation def»</text><text fill=\"#000000\" font-family=\"sans-serif\" font-size=\"12\" lengthAdjust=\"spacingAndGlyphs\" textLength=\"59\" x=\"144.5\" y=\"234.1074\">MassSum</text><line style=\"stroke: #383838; stroke-width: 1.5;\" x1=\"121\" x2=\"227\" y1=\"241.9375\" y2=\"241.9375\"/></a><!--MD5=[60a26617385b1d2d0262a64233df1f8d]\n",
       "class E6--><a href=\"psysml:1d10ff1d-94f3-4fcc-ad21-5a3c75a7ba0b\" target=\"_top\" title=\"psysml:1d10ff1d-94f3-4fcc-ad21-5a3c75a7ba0b\" xlink:actuate=\"onRequest\" xlink:href=\"psysml:1d10ff1d-94f3-4fcc-ad21-5a3c75a7ba0b\" xlink:show=\"new\" xlink:title=\"psysml:1d10ff1d-94f3-4fcc-ad21-5a3c75a7ba0b\" xlink:type=\"simple\"><rect fill=\"#FFFFFF\" height=\"45.9375\" id=\"E6\" rx=\"10\" ry=\"10\" style=\"stroke: #383838; stroke-width: 1.5;\" width=\"91\" x=\"350.5\" y=\"62\"/><text fill=\"#000000\" font-family=\"sans-serif\" font-size=\"12\" font-style=\"italic\" lengthAdjust=\"spacingAndGlyphs\" textLength=\"82\" x=\"355\" y=\"78.1387\">«calculation»</text><text fill=\"#000000\" font-family=\"sans-serif\" font-size=\"12\" lengthAdjust=\"spacingAndGlyphs\" textLength=\"85\" x=\"353.5\" y=\"92.1074\">ms: MassSum</text><line style=\"stroke: #383838; stroke-width: 1.5;\" x1=\"351.5\" x2=\"440.5\" y1=\"99.9375\" y2=\"99.9375\"/></a><!--MD5=[2156ba9850f5573cc1fc38a6a4b2f02b]\n",
       "class E7--><a href=\"psysml:86e0ef61-a473-4ef3-8b23-ebbfee168e1c\" target=\"_top\" title=\"psysml:86e0ef61-a473-4ef3-8b23-ebbfee168e1c\" xlink:actuate=\"onRequest\" xlink:href=\"psysml:86e0ef61-a473-4ef3-8b23-ebbfee168e1c\" xlink:show=\"new\" xlink:title=\"psysml:86e0ef61-a473-4ef3-8b23-ebbfee168e1c\" xlink:type=\"simple\"><rect fill=\"#FFFFFF\" height=\"88.3516\" id=\"E7\" style=\"stroke: #383838; stroke-width: 1.5;\" width=\"148\" x=\"167\" y=\"41\"/><text fill=\"#000000\" font-family=\"sans-serif\" font-size=\"12\" font-style=\"italic\" lengthAdjust=\"spacingAndGlyphs\" textLength=\"106\" x=\"188\" y=\"57.1387\">«calculation def»</text><text fill=\"#000000\" font-family=\"sans-serif\" font-size=\"12\" lengthAdjust=\"spacingAndGlyphs\" textLength=\"67\" x=\"207.5\" y=\"71.1074\">MassSum1</text><line style=\"stroke: #383838; stroke-width: 1.5;\" x1=\"168\" x2=\"314\" y1=\"78.9375\" y2=\"78.9375\"/><text fill=\"#000000\" font-family=\"sans-serif\" font-size=\"11\" lengthAdjust=\"spacingAndGlyphs\" textLength=\"136\" x=\"173\" y=\"109.9526\">partMasses: MassValue</text><text fill=\"#000000\" font-family=\"sans-serif\" font-size=\"11\" lengthAdjust=\"spacingAndGlyphs\" textLength=\"124\" x=\"173\" y=\"122.7573\">totalMass: MassValue</text><line style=\"stroke: #383838; stroke-width: 1.0;\" x1=\"168\" x2=\"213.5\" y1=\"93.3398\" y2=\"93.3398\"/><text fill=\"#000000\" font-family=\"sans-serif\" font-size=\"11\" lengthAdjust=\"spacingAndGlyphs\" textLength=\"55\" x=\"213.5\" y=\"96.6479\">attributes</text><line style=\"stroke: #383838; stroke-width: 1.0;\" x1=\"268.5\" x2=\"314\" y1=\"93.3398\" y2=\"93.3398\"/></a><!--MD5=[b9389687b975829384b498ac4b7476b2]\n",
       "class E8--><a href=\"psysml:5bbc6089-c972-4222-8f32-76d519ddb8cd\" target=\"_top\" title=\"psysml:5bbc6089-c972-4222-8f32-76d519ddb8cd\" xlink:actuate=\"onRequest\" xlink:href=\"psysml:5bbc6089-c972-4222-8f32-76d519ddb8cd\" xlink:show=\"new\" xlink:title=\"psysml:5bbc6089-c972-4222-8f32-76d519ddb8cd\" xlink:type=\"simple\"><rect fill=\"#FFFFFF\" height=\"88.3516\" id=\"E8\" rx=\"10\" ry=\"10\" style=\"stroke: #383838; stroke-width: 1.5;\" width=\"99\" x=\"32.5\" y=\"41\"/><text fill=\"#000000\" font-family=\"sans-serif\" font-size=\"12\" font-style=\"italic\" lengthAdjust=\"spacingAndGlyphs\" textLength=\"82\" x=\"41\" y=\"57.1387\">«calculation»</text><text fill=\"#000000\" font-family=\"sans-serif\" font-size=\"12\" lengthAdjust=\"spacingAndGlyphs\" textLength=\"93\" x=\"35.5\" y=\"71.1074\">ms1: MassSum</text><line style=\"stroke: #383838; stroke-width: 1.5;\" x1=\"33.5\" x2=\"130.5\" y1=\"78.9375\" y2=\"78.9375\"/><text fill=\"#000000\" font-family=\"sans-serif\" font-size=\"11\" lengthAdjust=\"spacingAndGlyphs\" textLength=\"67\" x=\"38.5\" y=\"109.9526\">partMasses</text><text fill=\"#000000\" font-family=\"sans-serif\" font-size=\"11\" lengthAdjust=\"spacingAndGlyphs\" textLength=\"55\" x=\"38.5\" y=\"122.7573\">totalMass</text><line style=\"stroke: #383838; stroke-width: 1.0;\" x1=\"33.5\" x2=\"54.5\" y1=\"93.3398\" y2=\"93.3398\"/><text fill=\"#000000\" font-family=\"sans-serif\" font-size=\"11\" lengthAdjust=\"spacingAndGlyphs\" textLength=\"55\" x=\"54.5\" y=\"96.6479\">attributes</text><line style=\"stroke: #383838; stroke-width: 1.0;\" x1=\"109.5\" x2=\"130.5\" y1=\"93.3398\" y2=\"93.3398\"/></a><!--MD5=[209b3feb70ccb6233bfe1053d122c12c]\n",
       "reverse link E2 to E3--><a href=\"psysml:5beb719b-2071-4403-a403-a4a2a93a4090\" target=\"_top\" title=\"psysml:5beb719b-2071-4403-a403-a4a2a93a4090\" xlink:actuate=\"onRequest\" xlink:href=\"psysml:5beb719b-2071-4403-a403-a4a2a93a4090\" xlink:show=\"new\" xlink:title=\"psysml:5beb719b-2071-4403-a403-a4a2a93a4090\" xlink:type=\"simple\"><path d=\"M480.41,132.95 C463.95,151.1 445.38,171.57 429.86,188.68 \" fill=\"none\" id=\"E2&lt;-E3\" style=\"stroke: #383838; stroke-width: 1.0;\"/><polygon fill=\"#383838\" points=\"489.3,123.15,482.3052,124.9031,481.2332,132.0341,488.2279,130.281,489.3,123.15\" style=\"stroke: #383838; stroke-width: 1.0;\"/></a><!--MD5=[9618e71518536f8baf3342ff6fdab317]\n",
       "reverse link E2 to E4--><a href=\"psysml:48862a39-11e7-4605-8aed-a0acf63d7872\" target=\"_top\" title=\"psysml:48862a39-11e7-4605-8aed-a0acf63d7872\" xlink:actuate=\"onRequest\" xlink:href=\"psysml:48862a39-11e7-4605-8aed-a0acf63d7872\" xlink:show=\"new\" xlink:title=\"psysml:48862a39-11e7-4605-8aed-a0acf63d7872\" xlink:type=\"simple\"><path d=\"M523,136.25 C523,153.55 523,172.6 523,188.68 \" fill=\"none\" id=\"E2&lt;-E4\" style=\"stroke: #383838; stroke-width: 1.0;\"/><polygon fill=\"#383838\" points=\"523,123.15,519,129.15,523,135.15,527,129.15,523,123.15\" style=\"stroke: #383838; stroke-width: 1.0;\"/></a><!--MD5=[25b190c987b1e74e5126d372c5a73af1]\n",
       "link E6 to E5--><a href=\"psysml:9917c25f-6195-4027-a1da-c593e3e3b530\" target=\"_top\" title=\"psysml:9917c25f-6195-4027-a1da-c593e3e3b530\" xlink:actuate=\"onRequest\" xlink:href=\"psysml:9917c25f-6195-4027-a1da-c593e3e3b530\" xlink:show=\"new\" xlink:title=\"psysml:9917c25f-6195-4027-a1da-c593e3e3b530\" xlink:type=\"simple\"><path d=\"M364.16,108.19 C354.25,114.98 343.23,122.39 333,129 C298.76,151.11 259.69,174.96 228.85,193.48 \" fill=\"none\" id=\"E6-&gt;E5\" style=\"stroke: #383838; stroke-width: 1.0;\"/><polygon fill=\"#FFFFFF\" points=\"211.28,203.99,223.9864,188.2246,231.1775,200.2365,211.28,203.99\" style=\"stroke: #383838; stroke-width: 1.0;\"/><ellipse cx=\"229.9042\" cy=\"187.0127\" fill=\"#383838\" rx=\"2\" ry=\"2\" style=\"stroke: #383838; stroke-width: 1.0;\"/><ellipse cx=\"235.0408\" cy=\"195.5927\" fill=\"#383838\" rx=\"2\" ry=\"2\" style=\"stroke: #383838; stroke-width: 1.0;\"/></a><!--MD5=[1ccb2481ffa92f8d51a74ee30c51832a]\n",
       "link E8 to E5--><a href=\"psysml:bf4de082-8867-4b4d-b459-dc33df5641b4\" target=\"_top\" title=\"psysml:bf4de082-8867-4b4d-b459-dc33df5641b4\" xlink:actuate=\"onRequest\" xlink:href=\"psysml:bf4de082-8867-4b4d-b459-dc33df5641b4\" xlink:show=\"new\" xlink:title=\"psysml:bf4de082-8867-4b4d-b459-dc33df5641b4\" xlink:type=\"simple\"><path d=\"M110.35,129.15 C122.49,147.61 136.55,169.01 148.37,186.99 \" fill=\"none\" id=\"E8-&gt;E5\" style=\"stroke: #383838; stroke-width: 1.0;\"/><polygon fill=\"#FFFFFF\" points=\"159.48,203.91,143.1947,191.8772,154.8939,184.1877,159.48,203.91\" style=\"stroke: #383838; stroke-width: 1.0;\"/><ellipse cx=\"141.7353\" cy=\"186.0155\" fill=\"#383838\" rx=\"2\" ry=\"2\" style=\"stroke: #383838; stroke-width: 1.0;\"/><ellipse cx=\"150.0918\" cy=\"180.523\" fill=\"#383838\" rx=\"2\" ry=\"2\" style=\"stroke: #383838; stroke-width: 1.0;\"/></a><!--MD5=[f1e002366e98e9526d8b1953dde4ae1b]\n",
       "@startuml\r\n",
       "skinparam monochrome true\r\n",
       "skinparam classbackgroundcolor white\r\n",
       "skinparam shadowing false\r\n",
       "skinparam wrapWidth 300\r\n",
       "hide circle\r\n",
       "\r\n",
       "package \"CalculationExample\" as E1  [[psysml:7249bcac-c63a-48a6-adec-7cf675138100 ]]  {\r\n",
       "comp usage \"vehicle\" as E2  <<(T,blue)part>> [[psysml:14188455-78e6-45cf-9446-0197417271d8 ]] {\r\n",
       "- - attributes - -\r\n",
       "m: MassValue\r\n",
       "}\r\n",
       "comp usage \"eng\" as E3  <<(T,blue)part>> [[psysml:5beb719b-2071-4403-a403-a4a2a93a4090 ]] {\r\n",
       "- - attributes - -\r\n",
       "m: MassValue\r\n",
       "}\r\n",
       "comp usage \"trans\" as E4  <<(T,blue)part>> [[psysml:48862a39-11e7-4605-8aed-a0acf63d7872 ]] {\r\n",
       "- - attributes - -\r\n",
       "m: MassValue\r\n",
       "}\r\n",
       "comp def \"MassSum\" as E5  <<(T,blue)calculation def>> [[psysml:8857df12-96f9-4753-a6e3-dc799dcb9ed4 ]] {\r\n",
       "}\r\n",
       "comp usage \"ms: MassSum\" as E6  <<(T,blue)calculation>> [[psysml:1d10ff1d-94f3-4fcc-ad21-5a3c75a7ba0b ]] {\r\n",
       "}\r\n",
       "comp def \"MassSum1\" as E7  <<(T,blue)calculation def>> [[psysml:86e0ef61-a473-4ef3-8b23-ebbfee168e1c ]] {\r\n",
       "- - attributes - -\r\n",
       "partMasses: MassValue\r\n",
       "totalMass: MassValue\r\n",
       "}\r\n",
       "comp usage \"ms1: MassSum\" as E8  <<(T,blue)calculation>> [[psysml:5bbc6089-c972-4222-8f32-76d519ddb8cd ]] {\r\n",
       "- - attributes - -\r\n",
       "partMasses\r\n",
       "totalMass\r\n",
       "}\r\n",
       "E2 *- - E3 [[psysml:5beb719b-2071-4403-a403-a4a2a93a4090 ]] \r\n",
       "E2 *- - E4 [[psysml:48862a39-11e7-4605-8aed-a0acf63d7872 ]] \r\n",
       "E6 - -:|> E5 [[psysml:9917c25f-6195-4027-a1da-c593e3e3b530 ]] \r\n",
       "E8 - -:|> E5 [[psysml:bf4de082-8867-4b4d-b459-dc33df5641b4 ]] \r\n",
       "}\r\n",
       "@enduml\r\n",
       "\n",
       "PlantUML version 1.2020.13(Sat Jun 13 12:26:38 UTC 2020)\n",
       "(EPL source distribution)\n",
       "Java Runtime: OpenJDK Runtime Environment\n",
       "JVM: OpenJDK 64-Bit Server VM\n",
       "Default Encoding: UTF-8\n",
       "Language: en\n",
       "Country: null\n",
       "--></g></svg>"
      ]
     },
     "execution_count": 38,
     "metadata": {},
     "output_type": "execute_result"
    }
   ],
   "source": [
    "%viz --style=\"DEFAULT\" --view=\"Tree\" \"CalculationExample\""
   ]
  },
  {
   "cell_type": "code",
   "execution_count": 39,
   "id": "killing-volume",
   "metadata": {
    "execution": {
     "iopub.execute_input": "2021-03-26T09:15:59.214091Z",
     "iopub.status.busy": "2021-03-26T09:15:59.213706Z",
     "iopub.status.idle": "2021-03-26T09:15:59.217813Z",
     "shell.execute_reply": "2021-03-26T09:15:59.217485Z"
    }
   },
   "outputs": [
    {
     "data": {
      "image/svg+xml": [
       "<?xml version=\"1.0\" encoding=\"UTF-8\" standalone=\"no\"?><svg xmlns=\"http://www.w3.org/2000/svg\" xmlns:xlink=\"http://www.w3.org/1999/xlink\" contentScriptType=\"application/ecmascript\" contentStyleType=\"text/css\" height=\"12px\" preserveAspectRatio=\"none\" style=\"width:12px;height:12px;\" version=\"1.1\" viewBox=\"0 0 12 12\" width=\"12px\" zoomAndPan=\"magnify\"><defs/><g><!--MD5=[c5f280e076d0d61ccf4b0f27871bda1d]\n",
       "@startuml\r\n",
       "skinparam monochrome true\r\n",
       "skinparam classbackgroundcolor white\r\n",
       "skinparam shadowing false\r\n",
       "skinparam wrapWidth 300\r\n",
       "hide circle\r\n",
       "\r\n",
       "@enduml\r\n",
       "\n",
       "PlantUML version 1.2020.13(Sat Jun 13 12:26:38 UTC 2020)\n",
       "(EPL source distribution)\n",
       "Java Runtime: OpenJDK Runtime Environment\n",
       "JVM: OpenJDK 64-Bit Server VM\n",
       "Default Encoding: UTF-8\n",
       "Language: en\n",
       "Country: null\n",
       "--></g></svg>"
      ]
     },
     "execution_count": 39,
     "metadata": {},
     "output_type": "execute_result"
    }
   ],
   "source": [
    "%viz --style=\"DEFAULT\" --view=\"State\" \"CalculationExample\""
   ]
  },
  {
   "cell_type": "code",
   "execution_count": 40,
   "id": "guided-ceiling",
   "metadata": {
    "execution": {
     "iopub.execute_input": "2021-03-26T09:15:59.269259Z",
     "iopub.status.busy": "2021-03-26T09:15:59.268696Z",
     "iopub.status.idle": "2021-03-26T09:15:59.296816Z",
     "shell.execute_reply": "2021-03-26T09:15:59.295458Z"
    }
   },
   "outputs": [
    {
     "data": {
      "image/svg+xml": [
       "<?xml version=\"1.0\" encoding=\"UTF-8\" standalone=\"no\"?><svg xmlns=\"http://www.w3.org/2000/svg\" xmlns:xlink=\"http://www.w3.org/1999/xlink\" contentScriptType=\"application/ecmascript\" contentStyleType=\"text/css\" height=\"246px\" preserveAspectRatio=\"none\" style=\"width:881px;height:246px;\" version=\"1.1\" viewBox=\"0 0 881 246\" width=\"881px\" zoomAndPan=\"magnify\"><defs/><g><!--MD5=[fbc87193dbaf4d95561dea2c320d4a47]\n",
       "cluster E1--><a href=\"psysml:7249bcac-c63a-48a6-adec-7cf675138100\" target=\"_top\" title=\"psysml:7249bcac-c63a-48a6-adec-7cf675138100\" xlink:actuate=\"onRequest\" xlink:href=\"psysml:7249bcac-c63a-48a6-adec-7cf675138100\" xlink:show=\"new\" xlink:title=\"psysml:7249bcac-c63a-48a6-adec-7cf675138100\" xlink:type=\"simple\"><polygon fill=\"#FFFFFF\" points=\"16,6,173,6,180,28.2969,859,28.2969,859,234,16,234,16,6\" style=\"stroke: #000000; stroke-width: 1.5;\"/><line style=\"stroke: #000000; stroke-width: 1.5;\" x1=\"16\" x2=\"180\" y1=\"28.2969\" y2=\"28.2969\"/><text fill=\"#000000\" font-family=\"sans-serif\" font-size=\"14\" font-weight=\"bold\" lengthAdjust=\"spacingAndGlyphs\" textLength=\"151\" x=\"20\" y=\"20.9951\">CalculationExample</text></a><!--MD5=[e4f7fae6ed58524ba242bb0b0d3be6b7]\n",
       "cluster E2--><a href=\"psysml:14188455-78e6-45cf-9446-0197417271d8\" target=\"_top\" title=\"psysml:14188455-78e6-45cf-9446-0197417271d8\" xlink:actuate=\"onRequest\" xlink:href=\"psysml:14188455-78e6-45cf-9446-0197417271d8\" xlink:show=\"new\" xlink:title=\"psysml:14188455-78e6-45cf-9446-0197417271d8\" xlink:type=\"simple\"><rect fill=\"#FFFFFF\" height=\"161\" id=\"E2\" rx=\"10\" ry=\"10\" style=\"stroke: #383838; stroke-width: 1.5;\" width=\"436\" x=\"399\" y=\"49\"/><rect fill=\"#F8F8F8\" height=\"23.9688\" rx=\"10\" ry=\"10\" style=\"stroke: #F8F8F8; stroke-width: 1.5;\" width=\"436\" x=\"399\" y=\"49\"/><rect fill=\"#F8F8F8\" height=\"10\" style=\"stroke: #F8F8F8; stroke-width: 1.5;\" width=\"436\" x=\"399\" y=\"62.9688\"/><rect fill=\"none\" height=\"161\" id=\"E2\" rx=\"10\" ry=\"10\" style=\"stroke: #383838; stroke-width: 1.5;\" width=\"436\" x=\"399\" y=\"49\"/><text fill=\"#000000\" font-family=\"sans-serif\" font-size=\"12\" lengthAdjust=\"spacingAndGlyphs\" textLength=\"43\" x=\"595.5\" y=\"65.1387\">vehicle</text><line style=\"stroke: #383838; stroke-width: 1.0;\" x1=\"399\" x2=\"835\" y1=\"72.9688\" y2=\"72.9688\"/></a><!--MD5=[f6df4d0ebaf0b5dfb2ced0ae5af7c670]\n",
       "cluster E4--><a href=\"psysml:5beb719b-2071-4403-a403-a4a2a93a4090\" target=\"_top\" title=\"psysml:5beb719b-2071-4403-a403-a4a2a93a4090\" xlink:actuate=\"onRequest\" xlink:href=\"psysml:5beb719b-2071-4403-a403-a4a2a93a4090\" xlink:show=\"new\" xlink:title=\"psysml:5beb719b-2071-4403-a403-a4a2a93a4090\" xlink:type=\"simple\"><rect fill=\"#FFFFFF\" height=\"94\" id=\"E4\" rx=\"10\" ry=\"10\" style=\"stroke: #383838; stroke-width: 1.5;\" width=\"128\" x=\"683\" y=\"92\"/><rect fill=\"#F8F8F8\" height=\"23.9688\" rx=\"10\" ry=\"10\" style=\"stroke: #F8F8F8; stroke-width: 1.5;\" width=\"128\" x=\"683\" y=\"92\"/><rect fill=\"#F8F8F8\" height=\"10\" style=\"stroke: #F8F8F8; stroke-width: 1.5;\" width=\"128\" x=\"683\" y=\"105.9688\"/><rect fill=\"none\" height=\"94\" id=\"E4\" rx=\"10\" ry=\"10\" style=\"stroke: #383838; stroke-width: 1.5;\" width=\"128\" x=\"683\" y=\"92\"/><text fill=\"#000000\" font-family=\"sans-serif\" font-size=\"12\" lengthAdjust=\"spacingAndGlyphs\" textLength=\"24\" x=\"735\" y=\"108.1387\">eng</text><line style=\"stroke: #383838; stroke-width: 1.0;\" x1=\"683\" x2=\"811\" y1=\"115.9688\" y2=\"115.9688\"/></a><!--MD5=[14e3b0961a2654348d326746436168a1]\n",
       "cluster E6--><a href=\"psysml:48862a39-11e7-4605-8aed-a0acf63d7872\" target=\"_top\" title=\"psysml:48862a39-11e7-4605-8aed-a0acf63d7872\" xlink:actuate=\"onRequest\" xlink:href=\"psysml:48862a39-11e7-4605-8aed-a0acf63d7872\" xlink:show=\"new\" xlink:title=\"psysml:48862a39-11e7-4605-8aed-a0acf63d7872\" xlink:type=\"simple\"><rect fill=\"#FFFFFF\" height=\"94\" id=\"E6\" rx=\"10\" ry=\"10\" style=\"stroke: #383838; stroke-width: 1.5;\" width=\"128\" x=\"531\" y=\"92\"/><rect fill=\"#F8F8F8\" height=\"23.9688\" rx=\"10\" ry=\"10\" style=\"stroke: #F8F8F8; stroke-width: 1.5;\" width=\"128\" x=\"531\" y=\"92\"/><rect fill=\"#F8F8F8\" height=\"10\" style=\"stroke: #F8F8F8; stroke-width: 1.5;\" width=\"128\" x=\"531\" y=\"105.9688\"/><rect fill=\"none\" height=\"94\" id=\"E6\" rx=\"10\" ry=\"10\" style=\"stroke: #383838; stroke-width: 1.5;\" width=\"128\" x=\"531\" y=\"92\"/><text fill=\"#000000\" font-family=\"sans-serif\" font-size=\"12\" lengthAdjust=\"spacingAndGlyphs\" textLength=\"33\" x=\"578.5\" y=\"108.1387\">trans</text><line style=\"stroke: #383838; stroke-width: 1.0;\" x1=\"531\" x2=\"659\" y1=\"115.9688\" y2=\"115.9688\"/></a><!--MD5=[b9389687b975829384b498ac4b7476b2]\n",
       "class E8--><a href=\"psysml:8857df12-96f9-4753-a6e3-dc799dcb9ed4\" target=\"_top\" title=\"psysml:8857df12-96f9-4753-a6e3-dc799dcb9ed4\" xlink:actuate=\"onRequest\" xlink:href=\"psysml:8857df12-96f9-4753-a6e3-dc799dcb9ed4\" xlink:show=\"new\" xlink:title=\"psysml:8857df12-96f9-4753-a6e3-dc799dcb9ed4\" xlink:type=\"simple\"><rect fill=\"#FFFFFF\" height=\"53.9375\" id=\"E8\" style=\"stroke: #383838; stroke-width: 1.5;\" width=\"156\" x=\"223\" y=\"121.5\"/><text fill=\"#000000\" font-family=\"sans-serif\" font-size=\"12\" font-style=\"italic\" lengthAdjust=\"spacingAndGlyphs\" textLength=\"154\" x=\"224\" y=\"137.6387\">«(T,blue)calculation def»</text><text fill=\"#000000\" font-family=\"sans-serif\" font-size=\"12\" lengthAdjust=\"spacingAndGlyphs\" textLength=\"59\" x=\"271.5\" y=\"151.6074\">MassSum</text><line style=\"stroke: #383838; stroke-width: 1.5;\" x1=\"224\" x2=\"378\" y1=\"159.4375\" y2=\"159.4375\"/><line style=\"stroke: #383838; stroke-width: 1.5;\" x1=\"224\" x2=\"378\" y1=\"167.4375\" y2=\"167.4375\"/></a><!--MD5=[fd4143e9d270a159db93a4ea2a975926]\n",
       "class E9--><a href=\"psysml:86e0ef61-a473-4ef3-8b23-ebbfee168e1c\" target=\"_top\" title=\"psysml:86e0ef61-a473-4ef3-8b23-ebbfee168e1c\" xlink:actuate=\"onRequest\" xlink:href=\"psysml:86e0ef61-a473-4ef3-8b23-ebbfee168e1c\" xlink:show=\"new\" xlink:title=\"psysml:86e0ef61-a473-4ef3-8b23-ebbfee168e1c\" xlink:type=\"simple\"><rect fill=\"#FFFFFF\" height=\"53.9375\" id=\"E9\" style=\"stroke: #383838; stroke-width: 1.5;\" width=\"156\" x=\"32\" y=\"121.5\"/><text fill=\"#000000\" font-family=\"sans-serif\" font-size=\"12\" font-style=\"italic\" lengthAdjust=\"spacingAndGlyphs\" textLength=\"154\" x=\"33\" y=\"137.6387\">«(T,blue)calculation def»</text><text fill=\"#000000\" font-family=\"sans-serif\" font-size=\"12\" lengthAdjust=\"spacingAndGlyphs\" textLength=\"67\" x=\"76.5\" y=\"151.6074\">MassSum1</text><line style=\"stroke: #383838; stroke-width: 1.5;\" x1=\"33\" x2=\"187\" y1=\"159.4375\" y2=\"159.4375\"/><line style=\"stroke: #383838; stroke-width: 1.5;\" x1=\"33\" x2=\"187\" y1=\"167.4375\" y2=\"167.4375\"/></a><g id=\"E1.E2.E3\"><a href=\"psysml:536fae04-334d-4f68-a23e-e57d7170c38b\" target=\"_top\" title=\"psysml:536fae04-334d-4f68-a23e-e57d7170c38b\" xlink:actuate=\"onRequest\" xlink:href=\"psysml:536fae04-334d-4f68-a23e-e57d7170c38b\" xlink:show=\"new\" xlink:title=\"psysml:536fae04-334d-4f68-a23e-e57d7170c38b\" xlink:type=\"simple\"><rect fill=\"#FFFFFF\" height=\"42.9375\" id=\"E3\" rx=\"10\" ry=\"10\" style=\"stroke: #383838; stroke-width: 1.5;\" width=\"97\" x=\"414.5\" y=\"127\"/><rect fill=\"#F8F8F8\" height=\"37.9375\" rx=\"10\" ry=\"10\" style=\"stroke: #F8F8F8; stroke-width: 1.5;\" width=\"97\" x=\"414.5\" y=\"127\"/><rect fill=\"#F8F8F8\" height=\"10\" style=\"stroke: #F8F8F8; stroke-width: 1.5;\" width=\"97\" x=\"414.5\" y=\"154.9375\"/><rect fill=\"none\" height=\"42.9375\" id=\"E3\" rx=\"10\" ry=\"10\" style=\"stroke: #383838; stroke-width: 1.5;\" width=\"97\" x=\"414.5\" y=\"127\"/><text fill=\"#000000\" font-family=\"sans-serif\" font-size=\"12\" font-style=\"italic\" lengthAdjust=\"spacingAndGlyphs\" textLength=\"69\" x=\"428.5\" y=\"143.1387\">«attribute»</text><text fill=\"#000000\" font-family=\"sans-serif\" font-size=\"12\" lengthAdjust=\"spacingAndGlyphs\" textLength=\"86\" x=\"420\" y=\"157.1074\">m: MassValue</text></a></g><g id=\"E1.E2.E4.E5\"><a href=\"psysml:2d8c1579-6ad8-45a7-8b4f-8ac5dd6e770e\" target=\"_top\" title=\"psysml:2d8c1579-6ad8-45a7-8b4f-8ac5dd6e770e\" xlink:actuate=\"onRequest\" xlink:href=\"psysml:2d8c1579-6ad8-45a7-8b4f-8ac5dd6e770e\" xlink:show=\"new\" xlink:title=\"psysml:2d8c1579-6ad8-45a7-8b4f-8ac5dd6e770e\" xlink:type=\"simple\"><rect fill=\"#FFFFFF\" height=\"42.9375\" id=\"E5\" rx=\"10\" ry=\"10\" style=\"stroke: #383838; stroke-width: 1.5;\" width=\"97\" x=\"698.5\" y=\"127\"/><rect fill=\"#F8F8F8\" height=\"37.9375\" rx=\"10\" ry=\"10\" style=\"stroke: #F8F8F8; stroke-width: 1.5;\" width=\"97\" x=\"698.5\" y=\"127\"/><rect fill=\"#F8F8F8\" height=\"10\" style=\"stroke: #F8F8F8; stroke-width: 1.5;\" width=\"97\" x=\"698.5\" y=\"154.9375\"/><rect fill=\"none\" height=\"42.9375\" id=\"E5\" rx=\"10\" ry=\"10\" style=\"stroke: #383838; stroke-width: 1.5;\" width=\"97\" x=\"698.5\" y=\"127\"/><text fill=\"#000000\" font-family=\"sans-serif\" font-size=\"12\" font-style=\"italic\" lengthAdjust=\"spacingAndGlyphs\" textLength=\"69\" x=\"712.5\" y=\"143.1387\">«attribute»</text><text fill=\"#000000\" font-family=\"sans-serif\" font-size=\"12\" lengthAdjust=\"spacingAndGlyphs\" textLength=\"86\" x=\"704\" y=\"157.1074\">m: MassValue</text></a></g><g id=\"E1.E2.E6.E7\"><a href=\"psysml:aae9b164-5c75-4cd2-bd76-7fd4ffe374bb\" target=\"_top\" title=\"psysml:aae9b164-5c75-4cd2-bd76-7fd4ffe374bb\" xlink:actuate=\"onRequest\" xlink:href=\"psysml:aae9b164-5c75-4cd2-bd76-7fd4ffe374bb\" xlink:show=\"new\" xlink:title=\"psysml:aae9b164-5c75-4cd2-bd76-7fd4ffe374bb\" xlink:type=\"simple\"><rect fill=\"#FFFFFF\" height=\"42.9375\" id=\"E7\" rx=\"10\" ry=\"10\" style=\"stroke: #383838; stroke-width: 1.5;\" width=\"97\" x=\"546.5\" y=\"127\"/><rect fill=\"#F8F8F8\" height=\"37.9375\" rx=\"10\" ry=\"10\" style=\"stroke: #F8F8F8; stroke-width: 1.5;\" width=\"97\" x=\"546.5\" y=\"127\"/><rect fill=\"#F8F8F8\" height=\"10\" style=\"stroke: #F8F8F8; stroke-width: 1.5;\" width=\"97\" x=\"546.5\" y=\"154.9375\"/><rect fill=\"none\" height=\"42.9375\" id=\"E7\" rx=\"10\" ry=\"10\" style=\"stroke: #383838; stroke-width: 1.5;\" width=\"97\" x=\"546.5\" y=\"127\"/><text fill=\"#000000\" font-family=\"sans-serif\" font-size=\"12\" font-style=\"italic\" lengthAdjust=\"spacingAndGlyphs\" textLength=\"69\" x=\"560.5\" y=\"143.1387\">«attribute»</text><text fill=\"#000000\" font-family=\"sans-serif\" font-size=\"12\" lengthAdjust=\"spacingAndGlyphs\" textLength=\"86\" x=\"552\" y=\"157.1074\">m: MassValue</text></a></g><!--MD5=[4952759949db05634691dc57006947c9]\n",
       "@startuml\r\n",
       "skinparam ranksep 8\r\n",
       "skinparam rectangle {\r\n",
       " backgroundColor<<block>> LightGreen\r\n",
       "}\r\n",
       "skinparam monochrome true\r\n",
       "skinparam classbackgroundcolor white\r\n",
       "skinparam shadowing false\r\n",
       "skinparam wrapWidth 300\r\n",
       "hide circle\r\n",
       "\r\n",
       "package \"CalculationExample\" as E1  [[psysml:7249bcac-c63a-48a6-adec-7cf675138100 ]]  {\r\n",
       "rec usage \"vehicle\" as E2  [[psysml:14188455-78e6-45cf-9446-0197417271d8 ]] {\r\n",
       "rec usage \"m: MassValue\" as E3  <<(T,blue)attribute>> [[psysml:536fae04-334d-4f68-a23e-e57d7170c38b ]] {\r\n",
       "}\r\n",
       "rec usage \"eng\" as E4  [[psysml:5beb719b-2071-4403-a403-a4a2a93a4090 ]] {\r\n",
       "rec usage \"m: MassValue\" as E5  <<(T,blue)attribute>> [[psysml:2d8c1579-6ad8-45a7-8b4f-8ac5dd6e770e ]] {\r\n",
       "}\r\n",
       "}\r\n",
       "rec usage \"trans\" as E6  [[psysml:48862a39-11e7-4605-8aed-a0acf63d7872 ]] {\r\n",
       "rec usage \"m: MassValue\" as E7  <<(T,blue)attribute>> [[psysml:aae9b164-5c75-4cd2-bd76-7fd4ffe374bb ]] {\r\n",
       "}\r\n",
       "}\r\n",
       "}\r\n",
       "def \"MassSum\" as E8  <<(T,blue)calculation def>> [[psysml:8857df12-96f9-4753-a6e3-dc799dcb9ed4 ]] \r\n",
       "def \"MassSum1\" as E9  <<(T,blue)calculation def>> [[psysml:86e0ef61-a473-4ef3-8b23-ebbfee168e1c ]] \r\n",
       "}\r\n",
       "@enduml\r\n",
       "\n",
       "PlantUML version 1.2020.13(Sat Jun 13 12:26:38 UTC 2020)\n",
       "(EPL source distribution)\n",
       "Java Runtime: OpenJDK Runtime Environment\n",
       "JVM: OpenJDK 64-Bit Server VM\n",
       "Default Encoding: UTF-8\n",
       "Language: en\n",
       "Country: null\n",
       "--></g></svg>"
      ]
     },
     "execution_count": 40,
     "metadata": {},
     "output_type": "execute_result"
    }
   ],
   "source": [
    "%viz --style=\"DEFAULT\" --view=\"Interconnection\" \"CalculationExample\""
   ]
  },
  {
   "cell_type": "code",
   "execution_count": 41,
   "id": "binary-south",
   "metadata": {
    "execution": {
     "iopub.execute_input": "2021-03-26T09:15:59.348316Z",
     "iopub.status.busy": "2021-03-26T09:15:59.347834Z",
     "iopub.status.idle": "2021-03-26T09:15:59.382019Z",
     "shell.execute_reply": "2021-03-26T09:15:59.380813Z"
    }
   },
   "outputs": [
    {
     "data": {
      "image/svg+xml": [
       "<?xml version=\"1.0\" encoding=\"UTF-8\" standalone=\"no\"?><svg xmlns=\"http://www.w3.org/2000/svg\" xmlns:xlink=\"http://www.w3.org/1999/xlink\" contentScriptType=\"application/ecmascript\" contentStyleType=\"text/css\" height=\"162px\" preserveAspectRatio=\"none\" style=\"width:676px;height:162px;\" version=\"1.1\" viewBox=\"0 0 676 162\" width=\"676px\" zoomAndPan=\"magnify\"><defs/><g><!--MD5=[fbc87193dbaf4d95561dea2c320d4a47]\n",
       "cluster E1--><a href=\"psysml:8857df12-96f9-4753-a6e3-dc799dcb9ed4\" target=\"_top\" title=\"psysml:8857df12-96f9-4753-a6e3-dc799dcb9ed4\" xlink:actuate=\"onRequest\" xlink:href=\"psysml:8857df12-96f9-4753-a6e3-dc799dcb9ed4\" xlink:show=\"new\" xlink:title=\"psysml:8857df12-96f9-4753-a6e3-dc799dcb9ed4\" xlink:type=\"simple\"><rect fill=\"#FFFFFF\" height=\"87.72\" id=\"E1\" style=\"stroke: #383838; stroke-width: 1.5;\" width=\"128\" x=\"28\" y=\"42.0986\"/><rect fill=\"#F8F8F8\" height=\"37.9375\" style=\"stroke: #383838; stroke-width: 1.5;\" width=\"128\" x=\"28\" y=\"42.0986\"/><text fill=\"#000000\" font-family=\"sans-serif\" font-size=\"12\" font-style=\"italic\" lengthAdjust=\"spacingAndGlyphs\" textLength=\"106\" x=\"39\" y=\"58.2373\">«calculation def»</text><text fill=\"#000000\" font-family=\"sans-serif\" font-size=\"12\" lengthAdjust=\"spacingAndGlyphs\" textLength=\"59\" x=\"62.5\" y=\"72.2061\">MassSum</text></a><!--MD5=[14e3b0961a2654348d326746436168a1]\n",
       "cluster E6--><a href=\"psysml:1d10ff1d-94f3-4fcc-ad21-5a3c75a7ba0b\" target=\"_top\" title=\"psysml:1d10ff1d-94f3-4fcc-ad21-5a3c75a7ba0b\" xlink:actuate=\"onRequest\" xlink:href=\"psysml:1d10ff1d-94f3-4fcc-ad21-5a3c75a7ba0b\" xlink:show=\"new\" xlink:title=\"psysml:1d10ff1d-94f3-4fcc-ad21-5a3c75a7ba0b\" xlink:type=\"simple\"><rect fill=\"#FFFFFF\" height=\"87.72\" id=\"E6\" rx=\"10\" ry=\"10\" style=\"stroke: #383838; stroke-width: 1.5;\" width=\"101\" x=\"251.75\" y=\"42.0986\"/><rect fill=\"#F8F8F8\" height=\"37.9375\" rx=\"10\" ry=\"10\" style=\"stroke: #F8F8F8; stroke-width: 1.5;\" width=\"101\" x=\"251.75\" y=\"42.0986\"/><rect fill=\"#F8F8F8\" height=\"10\" style=\"stroke: #F8F8F8; stroke-width: 1.5;\" width=\"101\" x=\"251.75\" y=\"70.0361\"/><rect fill=\"none\" height=\"87.72\" id=\"E6\" rx=\"10\" ry=\"10\" style=\"stroke: #383838; stroke-width: 1.5;\" width=\"101\" x=\"251.75\" y=\"42.0986\"/><text fill=\"#000000\" font-family=\"sans-serif\" font-size=\"12\" font-style=\"italic\" lengthAdjust=\"spacingAndGlyphs\" textLength=\"82\" x=\"261.25\" y=\"58.2373\">«calculation»</text><text fill=\"#000000\" font-family=\"sans-serif\" font-size=\"12\" lengthAdjust=\"spacingAndGlyphs\" textLength=\"18\" x=\"293.25\" y=\"72.2061\">ms</text><line style=\"stroke: #383838; stroke-width: 1.0;\" x1=\"251.75\" x2=\"352.75\" y1=\"80.0361\" y2=\"80.0361\"/></a><!--MD5=[7f149f147074ac12df2cb0a7728a5fb0]\n",
       "cluster E9--><a href=\"psysml:86e0ef61-a473-4ef3-8b23-ebbfee168e1c\" target=\"_top\" title=\"psysml:86e0ef61-a473-4ef3-8b23-ebbfee168e1c\" xlink:actuate=\"onRequest\" xlink:href=\"psysml:86e0ef61-a473-4ef3-8b23-ebbfee168e1c\" xlink:show=\"new\" xlink:title=\"psysml:86e0ef61-a473-4ef3-8b23-ebbfee168e1c\" xlink:type=\"simple\"><rect fill=\"#FFFFFF\" height=\"87.72\" id=\"E9\" style=\"stroke: #383838; stroke-width: 1.5;\" width=\"127\" x=\"410.25\" y=\"42.0986\"/><rect fill=\"#F8F8F8\" height=\"37.9375\" style=\"stroke: #383838; stroke-width: 1.5;\" width=\"127\" x=\"410.25\" y=\"42.0986\"/><text fill=\"#000000\" font-family=\"sans-serif\" font-size=\"12\" font-style=\"italic\" lengthAdjust=\"spacingAndGlyphs\" textLength=\"106\" x=\"420.75\" y=\"58.2373\">«calculation def»</text><text fill=\"#000000\" font-family=\"sans-serif\" font-size=\"12\" lengthAdjust=\"spacingAndGlyphs\" textLength=\"67\" x=\"440.25\" y=\"72.2061\">MassSum1</text></a><!--MD5=[47bea60c1a0ac6c1143df232041969c0]\n",
       "cluster E12--><a href=\"psysml:5bbc6089-c972-4222-8f32-76d519ddb8cd\" target=\"_top\" title=\"psysml:5bbc6089-c972-4222-8f32-76d519ddb8cd\" xlink:actuate=\"onRequest\" xlink:href=\"psysml:5bbc6089-c972-4222-8f32-76d519ddb8cd\" xlink:show=\"new\" xlink:title=\"psysml:5bbc6089-c972-4222-8f32-76d519ddb8cd\" xlink:type=\"simple\"><rect fill=\"#FFFFFF\" height=\"87.72\" id=\"E12\" rx=\"10\" ry=\"10\" style=\"stroke: #383838; stroke-width: 1.5;\" width=\"138\" x=\"526\" y=\"42.0986\"/><rect fill=\"#F8F8F8\" height=\"37.9375\" rx=\"10\" ry=\"10\" style=\"stroke: #F8F8F8; stroke-width: 1.5;\" width=\"138\" x=\"526\" y=\"42.0986\"/><rect fill=\"#F8F8F8\" height=\"10\" style=\"stroke: #F8F8F8; stroke-width: 1.5;\" width=\"138\" x=\"526\" y=\"70.0361\"/><rect fill=\"none\" height=\"87.72\" id=\"E12\" rx=\"10\" ry=\"10\" style=\"stroke: #383838; stroke-width: 1.5;\" width=\"138\" x=\"526\" y=\"42.0986\"/><text fill=\"#000000\" font-family=\"sans-serif\" font-size=\"12\" font-style=\"italic\" lengthAdjust=\"spacingAndGlyphs\" textLength=\"82\" x=\"554\" y=\"58.2373\">«calculation»</text><text fill=\"#000000\" font-family=\"sans-serif\" font-size=\"12\" lengthAdjust=\"spacingAndGlyphs\" textLength=\"26\" x=\"582\" y=\"72.2061\">ms1</text><line style=\"stroke: #383838; stroke-width: 1.0;\" x1=\"526\" x2=\"664\" y1=\"80.0361\" y2=\"80.0361\"/></a><text fill=\"#000000\" font-family=\"sans-serif\" font-size=\"14\" lengthAdjust=\"spacingAndGlyphs\" textLength=\"80\" x=\"6\" y=\"20.7969\">partMasses</text><rect fill=\"#383838\" height=\"12\" style=\"stroke: #F8F8F8; stroke-width: 1.5;\" width=\"12\" x=\"40\" y=\"36.0986\"/><text fill=\"#000000\" font-family=\"sans-serif\" font-size=\"14\" lengthAdjust=\"spacingAndGlyphs\" textLength=\"66\" x=\"54\" y=\"148.8138\">totalMass</text><rect fill=\"#383838\" height=\"12\" style=\"stroke: #F8F8F8; stroke-width: 1.5;\" width=\"12\" x=\"81\" y=\"123.8186\"/><text fill=\"#000000\" font-family=\"sans-serif\" font-size=\"14\" lengthAdjust=\"spacingAndGlyphs\" textLength=\"75\" x=\"100.5\" y=\"20.7969\">$collection</text><rect fill=\"#383838\" height=\"12\" style=\"stroke: #F8F8F8; stroke-width: 1.5;\" width=\"12\" x=\"132\" y=\"36.0986\"/><text fill=\"#000000\" font-family=\"sans-serif\" font-size=\"14\" lengthAdjust=\"spacingAndGlyphs\" textLength=\"48\" x=\"110\" y=\"148.8138\">$result</text><rect fill=\"#383838\" height=\"12\" style=\"stroke: #F8F8F8; stroke-width: 1.5;\" width=\"12\" x=\"128\" y=\"123.8186\"/><text fill=\"#000000\" font-family=\"sans-serif\" font-size=\"14\" lengthAdjust=\"spacingAndGlyphs\" textLength=\"80\" x=\"235\" y=\"20.7969\">partMasses</text><rect fill=\"#383838\" height=\"12\" style=\"stroke: #F8F8F8; stroke-width: 1.5;\" width=\"12\" x=\"269\" y=\"36.0986\"/><text fill=\"#000000\" font-family=\"sans-serif\" font-size=\"14\" lengthAdjust=\"spacingAndGlyphs\" textLength=\"66\" x=\"238\" y=\"148.8138\">totalMass</text><rect fill=\"#383838\" height=\"12\" style=\"stroke: #F8F8F8; stroke-width: 1.5;\" width=\"12\" x=\"265\" y=\"123.8186\"/><text fill=\"#000000\" font-family=\"sans-serif\" font-size=\"14\" lengthAdjust=\"spacingAndGlyphs\" textLength=\"80\" x=\"395\" y=\"20.7969\">partMasses</text><rect fill=\"#383838\" height=\"12\" style=\"stroke: #F8F8F8; stroke-width: 1.5;\" width=\"12\" x=\"429\" y=\"36.0986\"/><text fill=\"#000000\" font-family=\"sans-serif\" font-size=\"14\" lengthAdjust=\"spacingAndGlyphs\" textLength=\"66\" x=\"398\" y=\"148.8138\">totalMass</text><rect fill=\"#383838\" height=\"12\" style=\"stroke: #F8F8F8; stroke-width: 1.5;\" width=\"12\" x=\"425\" y=\"123.8186\"/><text fill=\"#000000\" font-family=\"sans-serif\" font-size=\"14\" lengthAdjust=\"spacingAndGlyphs\" textLength=\"80\" x=\"555\" y=\"20.7969\">partMasses</text><rect fill=\"#383838\" height=\"12\" style=\"stroke: #F8F8F8; stroke-width: 1.5;\" width=\"12\" x=\"589\" y=\"36.0986\"/><text fill=\"#000000\" font-family=\"sans-serif\" font-size=\"14\" lengthAdjust=\"spacingAndGlyphs\" textLength=\"66\" x=\"562\" y=\"148.8138\">totalMass</text><rect fill=\"#383838\" height=\"12\" style=\"stroke: #F8F8F8; stroke-width: 1.5;\" width=\"12\" x=\"589\" y=\"123.8186\"/><!--MD5=[0188b64bb0ae78505a997a81836e11e9]\n",
       "link E3 to E5--><a href=\"psysml:5b55f712-f9b6-4e15-aeab-345c960b0653\" target=\"_top\" title=\"psysml:5b55f712-f9b6-4e15-aeab-345c960b0653\" xlink:actuate=\"onRequest\" xlink:href=\"psysml:5b55f712-f9b6-4e15-aeab-345c960b0653\" xlink:show=\"new\" xlink:title=\"psysml:5b55f712-f9b6-4e15-aeab-345c960b0653\" xlink:type=\"simple\"><path d=\"M93.24,127.7486 C104.81,124.4886 116.38,124.5086 127.95,127.7986 \" fill=\"none\" id=\"E3-E5\" style=\"stroke: #383838; stroke-width: 5.0;\"/></a><!--MD5=[99ada0d3ce87c23ab096ccc935c08e96]\n",
       "@startuml\r\n",
       "skinparam ranksep 8\r\n",
       "skinparam monochrome true\r\n",
       "skinparam classbackgroundcolor white\r\n",
       "skinparam shadowing false\r\n",
       "skinparam wrapWidth 300\r\n",
       "hide circle\r\n",
       "\r\n",
       "rec def \"MassSum\" as E1  <<(T,blue)calculation def>> [[psysml:8857df12-96f9-4753-a6e3-dc799dcb9ed4 ]] {\r\n",
       "portin \"partMasses\" as E2  [[psysml:8ae5fd16-1397-4172-a6e5-0c084d8d7ca2 ]] \r\n",
       "portout \"totalMass\" as E3  [[psysml:5f15c55d-7a56-4485-be6d-5834d49cebc1 ]] \r\n",
       "portin \"$collection\" as E4  [[psysml:61806866-d159-447e-b132-fa56be682adf ]] \r\n",
       "portout \"$result\" as E5  [[psysml:6ddb7e29-61e7-4184-8db5-61f90a0c49bf ]] \r\n",
       "}\r\n",
       "\r\n",
       "E3 -[thickness=5]- E5 [[psysml:5b55f712-f9b6-4e15-aeab-345c960b0653 ]] \r\n",
       "rec usage \"ms\" as E6  <<(T,blue)calculation>> [[psysml:1d10ff1d-94f3-4fcc-ad21-5a3c75a7ba0b ]] {\r\n",
       "portin \"partMasses\" as E7  [[psysml:a2c0aed5-a65e-46d5-90c0-ba8b1517610c ]] \r\n",
       "portout \"totalMass\" as E8  [[psysml:76889a80-c5e0-422b-b2ce-fdc6eabdf747 ]] \r\n",
       "}\r\n",
       "\r\n",
       "rec def \"MassSum1\" as E9  <<(T,blue)calculation def>> [[psysml:86e0ef61-a473-4ef3-8b23-ebbfee168e1c ]] {\r\n",
       "portin \"partMasses\" as E10  [[psysml:44765cb5-91e3-4973-8d66-b6f2e5bbf87d ]] \r\n",
       "portout \"totalMass\" as E11  [[psysml:8a0a1f2d-4441-4a8a-b849-a96ed87f36a5 ]] \r\n",
       "}\r\n",
       "\r\n",
       "rec usage \"ms1\" as E12  <<(T,blue)calculation>> [[psysml:5bbc6089-c972-4222-8f32-76d519ddb8cd ]] {\r\n",
       "portin \"partMasses\" as E13  [[psysml:bceb4c61-ae51-43e8-95f6-5db7102a1a6d ]] \r\n",
       "portout \"totalMass\" as E14  [[psysml:18f22934-19d9-4087-8718-e35a3f9b5ce2 ]] \r\n",
       "}\r\n",
       "\r\n",
       "@enduml\r\n",
       "\n",
       "PlantUML version 1.2020.13(Sat Jun 13 12:26:38 UTC 2020)\n",
       "(EPL source distribution)\n",
       "Java Runtime: OpenJDK Runtime Environment\n",
       "JVM: OpenJDK 64-Bit Server VM\n",
       "Default Encoding: UTF-8\n",
       "Language: en\n",
       "Country: null\n",
       "--></g></svg>"
      ]
     },
     "execution_count": 41,
     "metadata": {},
     "output_type": "execute_result"
    }
   ],
   "source": [
    "%viz --style=\"DEFAULT\" --view=\"Action\" \"CalculationExample\""
   ]
  },
  {
   "cell_type": "code",
   "execution_count": 42,
   "id": "iraqi-coaching",
   "metadata": {
    "execution": {
     "iopub.execute_input": "2021-03-26T09:15:59.431991Z",
     "iopub.status.busy": "2021-03-26T09:15:59.431655Z",
     "iopub.status.idle": "2021-03-26T09:15:59.522984Z",
     "shell.execute_reply": "2021-03-26T09:15:59.521008Z"
    }
   },
   "outputs": [
    {
     "data": {
      "image/svg+xml": [
       "<?xml version=\"1.0\" encoding=\"UTF-8\" standalone=\"no\"?><svg xmlns=\"http://www.w3.org/2000/svg\" xmlns:xlink=\"http://www.w3.org/1999/xlink\" contentScriptType=\"application/ecmascript\" contentStyleType=\"text/css\" height=\"293px\" preserveAspectRatio=\"none\" style=\"width:607px;height:293px;\" version=\"1.1\" viewBox=\"0 0 607 293\" width=\"607px\" zoomAndPan=\"magnify\"><defs/><g><!--MD5=[fbc87193dbaf4d95561dea2c320d4a47]\n",
       "cluster E1--><a href=\"psysml:7249bcac-c63a-48a6-adec-7cf675138100\" target=\"_top\" title=\"psysml:7249bcac-c63a-48a6-adec-7cf675138100\" xlink:actuate=\"onRequest\" xlink:href=\"psysml:7249bcac-c63a-48a6-adec-7cf675138100\" xlink:show=\"new\" xlink:title=\"psysml:7249bcac-c63a-48a6-adec-7cf675138100\" xlink:type=\"simple\"><polygon fill=\"#FFFFFF\" points=\"16,6,173,6,180,28.2969,585,28.2969,585,281,16,281,16,6\" style=\"stroke: #000000; stroke-width: 1.5;\"/><line style=\"stroke: #000000; stroke-width: 1.5;\" x1=\"16\" x2=\"180\" y1=\"28.2969\" y2=\"28.2969\"/><text fill=\"#000000\" font-family=\"sans-serif\" font-size=\"14\" font-weight=\"bold\" lengthAdjust=\"spacingAndGlyphs\" textLength=\"151\" x=\"20\" y=\"20.9951\">CalculationExample</text></a><!--MD5=[b4997ac47864f28c2f74865a473b2911]\n",
       "class E2--><a href=\"psysml:14188455-78e6-45cf-9446-0197417271d8\" target=\"_top\" title=\"psysml:14188455-78e6-45cf-9446-0197417271d8\" xlink:actuate=\"onRequest\" xlink:href=\"psysml:14188455-78e6-45cf-9446-0197417271d8\" xlink:show=\"new\" xlink:title=\"psysml:14188455-78e6-45cf-9446-0197417271d8\" xlink:type=\"simple\"><rect fill=\"#FFFFFF\" height=\"75.5469\" id=\"E2\" rx=\"10\" ry=\"10\" style=\"stroke: #383838; stroke-width: 1.5;\" width=\"92\" x=\"477\" y=\"47\"/><text fill=\"#000000\" font-family=\"sans-serif\" font-size=\"12\" font-style=\"italic\" lengthAdjust=\"spacingAndGlyphs\" textLength=\"40\" x=\"503\" y=\"63.1387\">«part»</text><text fill=\"#000000\" font-family=\"sans-serif\" font-size=\"12\" lengthAdjust=\"spacingAndGlyphs\" textLength=\"43\" x=\"501.5\" y=\"77.1074\">vehicle</text><line style=\"stroke: #383838; stroke-width: 1.5;\" x1=\"478\" x2=\"568\" y1=\"84.9375\" y2=\"84.9375\"/><text fill=\"#000000\" font-family=\"sans-serif\" font-size=\"11\" lengthAdjust=\"spacingAndGlyphs\" textLength=\"80\" x=\"483\" y=\"115.9526\">m: MassValue</text><line style=\"stroke: #383838; stroke-width: 1.0;\" x1=\"478\" x2=\"495.5\" y1=\"99.3398\" y2=\"99.3398\"/><text fill=\"#000000\" font-family=\"sans-serif\" font-size=\"11\" lengthAdjust=\"spacingAndGlyphs\" textLength=\"55\" x=\"495.5\" y=\"102.6479\">attributes</text><line style=\"stroke: #383838; stroke-width: 1.0;\" x1=\"550.5\" x2=\"568\" y1=\"99.3398\" y2=\"99.3398\"/></a><!--MD5=[09b614a08d8cba4a07c9adeb5e0fee81]\n",
       "class E3--><a href=\"psysml:5beb719b-2071-4403-a403-a4a2a93a4090\" target=\"_top\" title=\"psysml:5beb719b-2071-4403-a403-a4a2a93a4090\" xlink:actuate=\"onRequest\" xlink:href=\"psysml:5beb719b-2071-4403-a403-a4a2a93a4090\" xlink:show=\"new\" xlink:title=\"psysml:5beb719b-2071-4403-a403-a4a2a93a4090\" xlink:type=\"simple\"><rect fill=\"#FFFFFF\" height=\"75.5469\" id=\"E3\" rx=\"10\" ry=\"10\" style=\"stroke: #383838; stroke-width: 1.5;\" width=\"92\" x=\"350\" y=\"189\"/><text fill=\"#000000\" font-family=\"sans-serif\" font-size=\"12\" font-style=\"italic\" lengthAdjust=\"spacingAndGlyphs\" textLength=\"40\" x=\"376\" y=\"205.1387\">«part»</text><text fill=\"#000000\" font-family=\"sans-serif\" font-size=\"12\" lengthAdjust=\"spacingAndGlyphs\" textLength=\"24\" x=\"384\" y=\"219.1074\">eng</text><line style=\"stroke: #383838; stroke-width: 1.5;\" x1=\"351\" x2=\"441\" y1=\"226.9375\" y2=\"226.9375\"/><text fill=\"#000000\" font-family=\"sans-serif\" font-size=\"11\" lengthAdjust=\"spacingAndGlyphs\" textLength=\"80\" x=\"356\" y=\"257.9526\">m: MassValue</text><line style=\"stroke: #383838; stroke-width: 1.0;\" x1=\"351\" x2=\"368.5\" y1=\"241.3398\" y2=\"241.3398\"/><text fill=\"#000000\" font-family=\"sans-serif\" font-size=\"11\" lengthAdjust=\"spacingAndGlyphs\" textLength=\"55\" x=\"368.5\" y=\"244.6479\">attributes</text><line style=\"stroke: #383838; stroke-width: 1.0;\" x1=\"423.5\" x2=\"441\" y1=\"241.3398\" y2=\"241.3398\"/></a><!--MD5=[ebbe1d658d1005bcc118a6aa81145e00]\n",
       "class E4--><a href=\"psysml:48862a39-11e7-4605-8aed-a0acf63d7872\" target=\"_top\" title=\"psysml:48862a39-11e7-4605-8aed-a0acf63d7872\" xlink:actuate=\"onRequest\" xlink:href=\"psysml:48862a39-11e7-4605-8aed-a0acf63d7872\" xlink:show=\"new\" xlink:title=\"psysml:48862a39-11e7-4605-8aed-a0acf63d7872\" xlink:type=\"simple\"><rect fill=\"#FFFFFF\" height=\"75.5469\" id=\"E4\" rx=\"10\" ry=\"10\" style=\"stroke: #383838; stroke-width: 1.5;\" width=\"92\" x=\"477\" y=\"189\"/><text fill=\"#000000\" font-family=\"sans-serif\" font-size=\"12\" font-style=\"italic\" lengthAdjust=\"spacingAndGlyphs\" textLength=\"40\" x=\"503\" y=\"205.1387\">«part»</text><text fill=\"#000000\" font-family=\"sans-serif\" font-size=\"12\" lengthAdjust=\"spacingAndGlyphs\" textLength=\"33\" x=\"506.5\" y=\"219.1074\">trans</text><line style=\"stroke: #383838; stroke-width: 1.5;\" x1=\"478\" x2=\"568\" y1=\"226.9375\" y2=\"226.9375\"/><text fill=\"#000000\" font-family=\"sans-serif\" font-size=\"11\" lengthAdjust=\"spacingAndGlyphs\" textLength=\"80\" x=\"483\" y=\"257.9526\">m: MassValue</text><line style=\"stroke: #383838; stroke-width: 1.0;\" x1=\"478\" x2=\"495.5\" y1=\"241.3398\" y2=\"241.3398\"/><text fill=\"#000000\" font-family=\"sans-serif\" font-size=\"11\" lengthAdjust=\"spacingAndGlyphs\" textLength=\"55\" x=\"495.5\" y=\"244.6479\">attributes</text><line style=\"stroke: #383838; stroke-width: 1.0;\" x1=\"550.5\" x2=\"568\" y1=\"241.3398\" y2=\"241.3398\"/></a><!--MD5=[270fce915f116d4de14055a7c1d9a0f3]\n",
       "class E5--><a href=\"psysml:8857df12-96f9-4753-a6e3-dc799dcb9ed4\" target=\"_top\" title=\"psysml:8857df12-96f9-4753-a6e3-dc799dcb9ed4\" xlink:actuate=\"onRequest\" xlink:href=\"psysml:8857df12-96f9-4753-a6e3-dc799dcb9ed4\" xlink:show=\"new\" xlink:title=\"psysml:8857df12-96f9-4753-a6e3-dc799dcb9ed4\" xlink:type=\"simple\"><rect fill=\"#FFFFFF\" height=\"45.9375\" id=\"E5\" style=\"stroke: #383838; stroke-width: 1.5;\" width=\"108\" x=\"120\" y=\"204\"/><text fill=\"#000000\" font-family=\"sans-serif\" font-size=\"12\" font-style=\"italic\" lengthAdjust=\"spacingAndGlyphs\" textLength=\"106\" x=\"121\" y=\"220.1387\">«calculation def»</text><text fill=\"#000000\" font-family=\"sans-serif\" font-size=\"12\" lengthAdjust=\"spacingAndGlyphs\" textLength=\"59\" x=\"144.5\" y=\"234.1074\">MassSum</text><line style=\"stroke: #383838; stroke-width: 1.5;\" x1=\"121\" x2=\"227\" y1=\"241.9375\" y2=\"241.9375\"/></a><!--MD5=[60a26617385b1d2d0262a64233df1f8d]\n",
       "class E6--><a href=\"psysml:1d10ff1d-94f3-4fcc-ad21-5a3c75a7ba0b\" target=\"_top\" title=\"psysml:1d10ff1d-94f3-4fcc-ad21-5a3c75a7ba0b\" xlink:actuate=\"onRequest\" xlink:href=\"psysml:1d10ff1d-94f3-4fcc-ad21-5a3c75a7ba0b\" xlink:show=\"new\" xlink:title=\"psysml:1d10ff1d-94f3-4fcc-ad21-5a3c75a7ba0b\" xlink:type=\"simple\"><rect fill=\"#FFFFFF\" height=\"45.9375\" id=\"E6\" rx=\"10\" ry=\"10\" style=\"stroke: #383838; stroke-width: 1.5;\" width=\"91\" x=\"350.5\" y=\"62\"/><text fill=\"#000000\" font-family=\"sans-serif\" font-size=\"12\" font-style=\"italic\" lengthAdjust=\"spacingAndGlyphs\" textLength=\"82\" x=\"355\" y=\"78.1387\">«calculation»</text><text fill=\"#000000\" font-family=\"sans-serif\" font-size=\"12\" lengthAdjust=\"spacingAndGlyphs\" textLength=\"85\" x=\"353.5\" y=\"92.1074\">ms: MassSum</text><line style=\"stroke: #383838; stroke-width: 1.5;\" x1=\"351.5\" x2=\"440.5\" y1=\"99.9375\" y2=\"99.9375\"/></a><!--MD5=[2156ba9850f5573cc1fc38a6a4b2f02b]\n",
       "class E7--><a href=\"psysml:86e0ef61-a473-4ef3-8b23-ebbfee168e1c\" target=\"_top\" title=\"psysml:86e0ef61-a473-4ef3-8b23-ebbfee168e1c\" xlink:actuate=\"onRequest\" xlink:href=\"psysml:86e0ef61-a473-4ef3-8b23-ebbfee168e1c\" xlink:show=\"new\" xlink:title=\"psysml:86e0ef61-a473-4ef3-8b23-ebbfee168e1c\" xlink:type=\"simple\"><rect fill=\"#FFFFFF\" height=\"88.3516\" id=\"E7\" style=\"stroke: #383838; stroke-width: 1.5;\" width=\"148\" x=\"167\" y=\"41\"/><text fill=\"#000000\" font-family=\"sans-serif\" font-size=\"12\" font-style=\"italic\" lengthAdjust=\"spacingAndGlyphs\" textLength=\"106\" x=\"188\" y=\"57.1387\">«calculation def»</text><text fill=\"#000000\" font-family=\"sans-serif\" font-size=\"12\" lengthAdjust=\"spacingAndGlyphs\" textLength=\"67\" x=\"207.5\" y=\"71.1074\">MassSum1</text><line style=\"stroke: #383838; stroke-width: 1.5;\" x1=\"168\" x2=\"314\" y1=\"78.9375\" y2=\"78.9375\"/><text fill=\"#000000\" font-family=\"sans-serif\" font-size=\"11\" lengthAdjust=\"spacingAndGlyphs\" textLength=\"136\" x=\"173\" y=\"109.9526\">partMasses: MassValue</text><text fill=\"#000000\" font-family=\"sans-serif\" font-size=\"11\" lengthAdjust=\"spacingAndGlyphs\" textLength=\"124\" x=\"173\" y=\"122.7573\">totalMass: MassValue</text><line style=\"stroke: #383838; stroke-width: 1.0;\" x1=\"168\" x2=\"213.5\" y1=\"93.3398\" y2=\"93.3398\"/><text fill=\"#000000\" font-family=\"sans-serif\" font-size=\"11\" lengthAdjust=\"spacingAndGlyphs\" textLength=\"55\" x=\"213.5\" y=\"96.6479\">attributes</text><line style=\"stroke: #383838; stroke-width: 1.0;\" x1=\"268.5\" x2=\"314\" y1=\"93.3398\" y2=\"93.3398\"/></a><!--MD5=[b9389687b975829384b498ac4b7476b2]\n",
       "class E8--><a href=\"psysml:5bbc6089-c972-4222-8f32-76d519ddb8cd\" target=\"_top\" title=\"psysml:5bbc6089-c972-4222-8f32-76d519ddb8cd\" xlink:actuate=\"onRequest\" xlink:href=\"psysml:5bbc6089-c972-4222-8f32-76d519ddb8cd\" xlink:show=\"new\" xlink:title=\"psysml:5bbc6089-c972-4222-8f32-76d519ddb8cd\" xlink:type=\"simple\"><rect fill=\"#FFFFFF\" height=\"88.3516\" id=\"E8\" rx=\"10\" ry=\"10\" style=\"stroke: #383838; stroke-width: 1.5;\" width=\"99\" x=\"32.5\" y=\"41\"/><text fill=\"#000000\" font-family=\"sans-serif\" font-size=\"12\" font-style=\"italic\" lengthAdjust=\"spacingAndGlyphs\" textLength=\"82\" x=\"41\" y=\"57.1387\">«calculation»</text><text fill=\"#000000\" font-family=\"sans-serif\" font-size=\"12\" lengthAdjust=\"spacingAndGlyphs\" textLength=\"93\" x=\"35.5\" y=\"71.1074\">ms1: MassSum</text><line style=\"stroke: #383838; stroke-width: 1.5;\" x1=\"33.5\" x2=\"130.5\" y1=\"78.9375\" y2=\"78.9375\"/><text fill=\"#000000\" font-family=\"sans-serif\" font-size=\"11\" lengthAdjust=\"spacingAndGlyphs\" textLength=\"67\" x=\"38.5\" y=\"109.9526\">partMasses</text><text fill=\"#000000\" font-family=\"sans-serif\" font-size=\"11\" lengthAdjust=\"spacingAndGlyphs\" textLength=\"55\" x=\"38.5\" y=\"122.7573\">totalMass</text><line style=\"stroke: #383838; stroke-width: 1.0;\" x1=\"33.5\" x2=\"54.5\" y1=\"93.3398\" y2=\"93.3398\"/><text fill=\"#000000\" font-family=\"sans-serif\" font-size=\"11\" lengthAdjust=\"spacingAndGlyphs\" textLength=\"55\" x=\"54.5\" y=\"96.6479\">attributes</text><line style=\"stroke: #383838; stroke-width: 1.0;\" x1=\"109.5\" x2=\"130.5\" y1=\"93.3398\" y2=\"93.3398\"/></a><!--MD5=[209b3feb70ccb6233bfe1053d122c12c]\n",
       "reverse link E2 to E3--><a href=\"psysml:5beb719b-2071-4403-a403-a4a2a93a4090\" target=\"_top\" title=\"psysml:5beb719b-2071-4403-a403-a4a2a93a4090\" xlink:actuate=\"onRequest\" xlink:href=\"psysml:5beb719b-2071-4403-a403-a4a2a93a4090\" xlink:show=\"new\" xlink:title=\"psysml:5beb719b-2071-4403-a403-a4a2a93a4090\" xlink:type=\"simple\"><path d=\"M480.41,132.95 C463.95,151.1 445.38,171.57 429.86,188.68 \" fill=\"none\" id=\"E2&lt;-E3\" style=\"stroke: #383838; stroke-width: 1.0;\"/><polygon fill=\"#383838\" points=\"489.3,123.15,482.3052,124.9031,481.2332,132.0341,488.2279,130.281,489.3,123.15\" style=\"stroke: #383838; stroke-width: 1.0;\"/></a><!--MD5=[9618e71518536f8baf3342ff6fdab317]\n",
       "reverse link E2 to E4--><a href=\"psysml:48862a39-11e7-4605-8aed-a0acf63d7872\" target=\"_top\" title=\"psysml:48862a39-11e7-4605-8aed-a0acf63d7872\" xlink:actuate=\"onRequest\" xlink:href=\"psysml:48862a39-11e7-4605-8aed-a0acf63d7872\" xlink:show=\"new\" xlink:title=\"psysml:48862a39-11e7-4605-8aed-a0acf63d7872\" xlink:type=\"simple\"><path d=\"M523,136.25 C523,153.55 523,172.6 523,188.68 \" fill=\"none\" id=\"E2&lt;-E4\" style=\"stroke: #383838; stroke-width: 1.0;\"/><polygon fill=\"#383838\" points=\"523,123.15,519,129.15,523,135.15,527,129.15,523,123.15\" style=\"stroke: #383838; stroke-width: 1.0;\"/></a><!--MD5=[25b190c987b1e74e5126d372c5a73af1]\n",
       "link E6 to E5--><a href=\"psysml:9917c25f-6195-4027-a1da-c593e3e3b530\" target=\"_top\" title=\"psysml:9917c25f-6195-4027-a1da-c593e3e3b530\" xlink:actuate=\"onRequest\" xlink:href=\"psysml:9917c25f-6195-4027-a1da-c593e3e3b530\" xlink:show=\"new\" xlink:title=\"psysml:9917c25f-6195-4027-a1da-c593e3e3b530\" xlink:type=\"simple\"><path d=\"M364.16,108.19 C354.25,114.98 343.23,122.39 333,129 C298.76,151.11 259.69,174.96 228.85,193.48 \" fill=\"none\" id=\"E6-&gt;E5\" style=\"stroke: #383838; stroke-width: 1.0;\"/><polygon fill=\"#FFFFFF\" points=\"211.28,203.99,223.9864,188.2246,231.1775,200.2365,211.28,203.99\" style=\"stroke: #383838; stroke-width: 1.0;\"/><ellipse cx=\"229.9042\" cy=\"187.0127\" fill=\"#383838\" rx=\"2\" ry=\"2\" style=\"stroke: #383838; stroke-width: 1.0;\"/><ellipse cx=\"235.0408\" cy=\"195.5927\" fill=\"#383838\" rx=\"2\" ry=\"2\" style=\"stroke: #383838; stroke-width: 1.0;\"/></a><!--MD5=[1ccb2481ffa92f8d51a74ee30c51832a]\n",
       "link E8 to E5--><a href=\"psysml:bf4de082-8867-4b4d-b459-dc33df5641b4\" target=\"_top\" title=\"psysml:bf4de082-8867-4b4d-b459-dc33df5641b4\" xlink:actuate=\"onRequest\" xlink:href=\"psysml:bf4de082-8867-4b4d-b459-dc33df5641b4\" xlink:show=\"new\" xlink:title=\"psysml:bf4de082-8867-4b4d-b459-dc33df5641b4\" xlink:type=\"simple\"><path d=\"M110.35,129.15 C122.49,147.61 136.55,169.01 148.37,186.99 \" fill=\"none\" id=\"E8-&gt;E5\" style=\"stroke: #383838; stroke-width: 1.0;\"/><polygon fill=\"#FFFFFF\" points=\"159.48,203.91,143.1947,191.8772,154.8939,184.1877,159.48,203.91\" style=\"stroke: #383838; stroke-width: 1.0;\"/><ellipse cx=\"141.7353\" cy=\"186.0155\" fill=\"#383838\" rx=\"2\" ry=\"2\" style=\"stroke: #383838; stroke-width: 1.0;\"/><ellipse cx=\"150.0918\" cy=\"180.523\" fill=\"#383838\" rx=\"2\" ry=\"2\" style=\"stroke: #383838; stroke-width: 1.0;\"/></a><!--MD5=[f1e002366e98e9526d8b1953dde4ae1b]\n",
       "@startuml\r\n",
       "skinparam monochrome true\r\n",
       "skinparam classbackgroundcolor white\r\n",
       "skinparam shadowing false\r\n",
       "skinparam wrapWidth 300\r\n",
       "hide circle\r\n",
       "\r\n",
       "package \"CalculationExample\" as E1  [[psysml:7249bcac-c63a-48a6-adec-7cf675138100 ]]  {\r\n",
       "comp usage \"vehicle\" as E2  <<(T,blue)part>> [[psysml:14188455-78e6-45cf-9446-0197417271d8 ]] {\r\n",
       "- - attributes - -\r\n",
       "m: MassValue\r\n",
       "}\r\n",
       "comp usage \"eng\" as E3  <<(T,blue)part>> [[psysml:5beb719b-2071-4403-a403-a4a2a93a4090 ]] {\r\n",
       "- - attributes - -\r\n",
       "m: MassValue\r\n",
       "}\r\n",
       "comp usage \"trans\" as E4  <<(T,blue)part>> [[psysml:48862a39-11e7-4605-8aed-a0acf63d7872 ]] {\r\n",
       "- - attributes - -\r\n",
       "m: MassValue\r\n",
       "}\r\n",
       "comp def \"MassSum\" as E5  <<(T,blue)calculation def>> [[psysml:8857df12-96f9-4753-a6e3-dc799dcb9ed4 ]] {\r\n",
       "}\r\n",
       "comp usage \"ms: MassSum\" as E6  <<(T,blue)calculation>> [[psysml:1d10ff1d-94f3-4fcc-ad21-5a3c75a7ba0b ]] {\r\n",
       "}\r\n",
       "comp def \"MassSum1\" as E7  <<(T,blue)calculation def>> [[psysml:86e0ef61-a473-4ef3-8b23-ebbfee168e1c ]] {\r\n",
       "- - attributes - -\r\n",
       "partMasses: MassValue\r\n",
       "totalMass: MassValue\r\n",
       "}\r\n",
       "comp usage \"ms1: MassSum\" as E8  <<(T,blue)calculation>> [[psysml:5bbc6089-c972-4222-8f32-76d519ddb8cd ]] {\r\n",
       "- - attributes - -\r\n",
       "partMasses\r\n",
       "totalMass\r\n",
       "}\r\n",
       "E2 *- - E3 [[psysml:5beb719b-2071-4403-a403-a4a2a93a4090 ]] \r\n",
       "E2 *- - E4 [[psysml:48862a39-11e7-4605-8aed-a0acf63d7872 ]] \r\n",
       "E6 - -:|> E5 [[psysml:9917c25f-6195-4027-a1da-c593e3e3b530 ]] \r\n",
       "E8 - -:|> E5 [[psysml:bf4de082-8867-4b4d-b459-dc33df5641b4 ]] \r\n",
       "}\r\n",
       "@enduml\r\n",
       "\n",
       "PlantUML version 1.2020.13(Sat Jun 13 12:26:38 UTC 2020)\n",
       "(EPL source distribution)\n",
       "Java Runtime: OpenJDK Runtime Environment\n",
       "JVM: OpenJDK 64-Bit Server VM\n",
       "Default Encoding: UTF-8\n",
       "Language: en\n",
       "Country: null\n",
       "--></g></svg>"
      ]
     },
     "execution_count": 42,
     "metadata": {},
     "output_type": "execute_result"
    }
   ],
   "source": [
    "%viz --style=\"DEFAULT\" --view=\"Sequence\" \"CalculationExample\""
   ]
  },
  {
   "cell_type": "code",
   "execution_count": 43,
   "id": "australian-steal",
   "metadata": {
    "execution": {
     "iopub.execute_input": "2021-03-26T09:15:59.574263Z",
     "iopub.status.busy": "2021-03-26T09:15:59.573484Z",
     "iopub.status.idle": "2021-03-26T09:15:59.653370Z",
     "shell.execute_reply": "2021-03-26T09:15:59.651811Z"
    }
   },
   "outputs": [
    {
     "data": {
      "image/svg+xml": [
       "<?xml version=\"1.0\" encoding=\"UTF-8\" standalone=\"no\"?><svg xmlns=\"http://www.w3.org/2000/svg\" xmlns:xlink=\"http://www.w3.org/1999/xlink\" contentScriptType=\"application/ecmascript\" contentStyleType=\"text/css\" height=\"441px\" preserveAspectRatio=\"none\" style=\"width:788px;height:441px;\" version=\"1.1\" viewBox=\"0 0 788 441\" width=\"788px\" zoomAndPan=\"magnify\"><defs/><g><!--MD5=[fbc87193dbaf4d95561dea2c320d4a47]\n",
       "cluster E1--><a href=\"psysml:7249bcac-c63a-48a6-adec-7cf675138100\" target=\"_top\" title=\"psysml:7249bcac-c63a-48a6-adec-7cf675138100\" xlink:actuate=\"onRequest\" xlink:href=\"psysml:7249bcac-c63a-48a6-adec-7cf675138100\" xlink:show=\"new\" xlink:title=\"psysml:7249bcac-c63a-48a6-adec-7cf675138100\" xlink:type=\"simple\"><polygon fill=\"#FFFFFF\" points=\"16,6,173,6,180,28.2969,766,28.2969,766,429.72,16,429.72,16,6\" style=\"stroke: #000000; stroke-width: 1.5;\"/><line style=\"stroke: #000000; stroke-width: 1.5;\" x1=\"16\" x2=\"180\" y1=\"28.2969\" y2=\"28.2969\"/><text fill=\"#000000\" font-family=\"sans-serif\" font-size=\"14\" font-weight=\"bold\" lengthAdjust=\"spacingAndGlyphs\" textLength=\"151\" x=\"20\" y=\"20.9951\">CalculationExample</text></a><!--MD5=[de5ec2e2e8f62f467e546659f5068c88]\n",
       "cluster E5--><a href=\"psysml:8857df12-96f9-4753-a6e3-dc799dcb9ed4\" target=\"_top\" title=\"psysml:8857df12-96f9-4753-a6e3-dc799dcb9ed4\" xlink:actuate=\"onRequest\" xlink:href=\"psysml:8857df12-96f9-4753-a6e3-dc799dcb9ed4\" xlink:show=\"new\" xlink:title=\"psysml:8857df12-96f9-4753-a6e3-dc799dcb9ed4\" xlink:type=\"simple\"><rect fill=\"#FFFFFF\" height=\"306.72\" id=\"E5\" style=\"stroke: #383838; stroke-width: 1.5;\" width=\"128\" x=\"155\" y=\"85\"/><rect fill=\"#F8F8F8\" height=\"37.9375\" style=\"stroke: #383838; stroke-width: 1.5;\" width=\"128\" x=\"155\" y=\"85\"/><text fill=\"#000000\" font-family=\"sans-serif\" font-size=\"12\" font-style=\"italic\" lengthAdjust=\"spacingAndGlyphs\" textLength=\"106\" x=\"166\" y=\"101.1387\">«calculation def»</text><text fill=\"#000000\" font-family=\"sans-serif\" font-size=\"12\" lengthAdjust=\"spacingAndGlyphs\" textLength=\"59\" x=\"189.5\" y=\"115.1074\">MassSum</text></a><!--MD5=[917b9dd0c7eca3ee5f47219d1a84c0ad]\n",
       "cluster E11--><a href=\"psysml:86e0ef61-a473-4ef3-8b23-ebbfee168e1c\" target=\"_top\" title=\"psysml:86e0ef61-a473-4ef3-8b23-ebbfee168e1c\" xlink:actuate=\"onRequest\" xlink:href=\"psysml:86e0ef61-a473-4ef3-8b23-ebbfee168e1c\" xlink:show=\"new\" xlink:title=\"psysml:86e0ef61-a473-4ef3-8b23-ebbfee168e1c\" xlink:type=\"simple\"><rect fill=\"#FFFFFF\" height=\"306.72\" id=\"E11\" style=\"stroke: #383838; stroke-width: 1.5;\" width=\"166\" x=\"584\" y=\"85\"/><rect fill=\"#F8F8F8\" height=\"37.9375\" style=\"stroke: #383838; stroke-width: 1.5;\" width=\"166\" x=\"584\" y=\"85\"/><text fill=\"#000000\" font-family=\"sans-serif\" font-size=\"12\" font-style=\"italic\" lengthAdjust=\"spacingAndGlyphs\" textLength=\"106\" x=\"614\" y=\"101.1387\">«calculation def»</text><text fill=\"#000000\" font-family=\"sans-serif\" font-size=\"12\" lengthAdjust=\"spacingAndGlyphs\" textLength=\"67\" x=\"633.5\" y=\"115.1074\">MassSum1</text></a><!--MD5=[b4997ac47864f28c2f74865a473b2911]\n",
       "class E2--><a href=\"psysml:14188455-78e6-45cf-9446-0197417271d8\" target=\"_top\" title=\"psysml:14188455-78e6-45cf-9446-0197417271d8\" xlink:actuate=\"onRequest\" xlink:href=\"psysml:14188455-78e6-45cf-9446-0197417271d8\" xlink:show=\"new\" xlink:title=\"psysml:14188455-78e6-45cf-9446-0197417271d8\" xlink:type=\"simple\"><rect fill=\"#FFFFFF\" height=\"75.5469\" id=\"E2\" rx=\"10\" ry=\"10\" style=\"stroke: #383838; stroke-width: 1.5;\" width=\"92\" x=\"473\" y=\"47\"/><text fill=\"#000000\" font-family=\"sans-serif\" font-size=\"12\" font-style=\"italic\" lengthAdjust=\"spacingAndGlyphs\" textLength=\"40\" x=\"499\" y=\"63.1387\">«part»</text><text fill=\"#000000\" font-family=\"sans-serif\" font-size=\"12\" lengthAdjust=\"spacingAndGlyphs\" textLength=\"43\" x=\"497.5\" y=\"77.1074\">vehicle</text><line style=\"stroke: #383838; stroke-width: 1.5;\" x1=\"474\" x2=\"564\" y1=\"84.9375\" y2=\"84.9375\"/><text fill=\"#000000\" font-family=\"sans-serif\" font-size=\"11\" lengthAdjust=\"spacingAndGlyphs\" textLength=\"80\" x=\"479\" y=\"115.9526\">m: MassValue</text><line style=\"stroke: #383838; stroke-width: 1.0;\" x1=\"474\" x2=\"491.5\" y1=\"99.3398\" y2=\"99.3398\"/><text fill=\"#000000\" font-family=\"sans-serif\" font-size=\"11\" lengthAdjust=\"spacingAndGlyphs\" textLength=\"55\" x=\"491.5\" y=\"102.6479\">attributes</text><line style=\"stroke: #383838; stroke-width: 1.0;\" x1=\"546.5\" x2=\"564\" y1=\"99.3398\" y2=\"99.3398\"/></a><!--MD5=[09b614a08d8cba4a07c9adeb5e0fee81]\n",
       "class E3--><a href=\"psysml:5beb719b-2071-4403-a403-a4a2a93a4090\" target=\"_top\" title=\"psysml:5beb719b-2071-4403-a403-a4a2a93a4090\" xlink:actuate=\"onRequest\" xlink:href=\"psysml:5beb719b-2071-4403-a403-a4a2a93a4090\" xlink:show=\"new\" xlink:title=\"psysml:5beb719b-2071-4403-a403-a4a2a93a4090\" xlink:type=\"simple\"><rect fill=\"#FFFFFF\" height=\"75.5469\" id=\"E3\" rx=\"10\" ry=\"10\" style=\"stroke: #383838; stroke-width: 1.5;\" width=\"92\" x=\"346\" y=\"189\"/><text fill=\"#000000\" font-family=\"sans-serif\" font-size=\"12\" font-style=\"italic\" lengthAdjust=\"spacingAndGlyphs\" textLength=\"40\" x=\"372\" y=\"205.1387\">«part»</text><text fill=\"#000000\" font-family=\"sans-serif\" font-size=\"12\" lengthAdjust=\"spacingAndGlyphs\" textLength=\"24\" x=\"380\" y=\"219.1074\">eng</text><line style=\"stroke: #383838; stroke-width: 1.5;\" x1=\"347\" x2=\"437\" y1=\"226.9375\" y2=\"226.9375\"/><text fill=\"#000000\" font-family=\"sans-serif\" font-size=\"11\" lengthAdjust=\"spacingAndGlyphs\" textLength=\"80\" x=\"352\" y=\"257.9526\">m: MassValue</text><line style=\"stroke: #383838; stroke-width: 1.0;\" x1=\"347\" x2=\"364.5\" y1=\"241.3398\" y2=\"241.3398\"/><text fill=\"#000000\" font-family=\"sans-serif\" font-size=\"11\" lengthAdjust=\"spacingAndGlyphs\" textLength=\"55\" x=\"364.5\" y=\"244.6479\">attributes</text><line style=\"stroke: #383838; stroke-width: 1.0;\" x1=\"419.5\" x2=\"437\" y1=\"241.3398\" y2=\"241.3398\"/></a><!--MD5=[ebbe1d658d1005bcc118a6aa81145e00]\n",
       "class E4--><a href=\"psysml:48862a39-11e7-4605-8aed-a0acf63d7872\" target=\"_top\" title=\"psysml:48862a39-11e7-4605-8aed-a0acf63d7872\" xlink:actuate=\"onRequest\" xlink:href=\"psysml:48862a39-11e7-4605-8aed-a0acf63d7872\" xlink:show=\"new\" xlink:title=\"psysml:48862a39-11e7-4605-8aed-a0acf63d7872\" xlink:type=\"simple\"><rect fill=\"#FFFFFF\" height=\"75.5469\" id=\"E4\" rx=\"10\" ry=\"10\" style=\"stroke: #383838; stroke-width: 1.5;\" width=\"92\" x=\"473\" y=\"189\"/><text fill=\"#000000\" font-family=\"sans-serif\" font-size=\"12\" font-style=\"italic\" lengthAdjust=\"spacingAndGlyphs\" textLength=\"40\" x=\"499\" y=\"205.1387\">«part»</text><text fill=\"#000000\" font-family=\"sans-serif\" font-size=\"12\" lengthAdjust=\"spacingAndGlyphs\" textLength=\"33\" x=\"502.5\" y=\"219.1074\">trans</text><line style=\"stroke: #383838; stroke-width: 1.5;\" x1=\"474\" x2=\"564\" y1=\"226.9375\" y2=\"226.9375\"/><text fill=\"#000000\" font-family=\"sans-serif\" font-size=\"11\" lengthAdjust=\"spacingAndGlyphs\" textLength=\"80\" x=\"479\" y=\"257.9526\">m: MassValue</text><line style=\"stroke: #383838; stroke-width: 1.0;\" x1=\"474\" x2=\"491.5\" y1=\"241.3398\" y2=\"241.3398\"/><text fill=\"#000000\" font-family=\"sans-serif\" font-size=\"11\" lengthAdjust=\"spacingAndGlyphs\" textLength=\"55\" x=\"491.5\" y=\"244.6479\">attributes</text><line style=\"stroke: #383838; stroke-width: 1.0;\" x1=\"546.5\" x2=\"564\" y1=\"241.3398\" y2=\"241.3398\"/></a><!--MD5=[96f4274e9e20536e775497830990834d]\n",
       "class E10--><a href=\"psysml:1d10ff1d-94f3-4fcc-ad21-5a3c75a7ba0b\" target=\"_top\" title=\"psysml:1d10ff1d-94f3-4fcc-ad21-5a3c75a7ba0b\" xlink:actuate=\"onRequest\" xlink:href=\"psysml:1d10ff1d-94f3-4fcc-ad21-5a3c75a7ba0b\" xlink:show=\"new\" xlink:title=\"psysml:1d10ff1d-94f3-4fcc-ad21-5a3c75a7ba0b\" xlink:type=\"simple\"><rect fill=\"#FFFFFF\" height=\"45.9375\" id=\"E10\" rx=\"10\" ry=\"10\" style=\"stroke: #383838; stroke-width: 1.5;\" width=\"91\" x=\"346.5\" y=\"62\"/><text fill=\"#000000\" font-family=\"sans-serif\" font-size=\"12\" font-style=\"italic\" lengthAdjust=\"spacingAndGlyphs\" textLength=\"82\" x=\"351\" y=\"78.1387\">«calculation»</text><text fill=\"#000000\" font-family=\"sans-serif\" font-size=\"12\" lengthAdjust=\"spacingAndGlyphs\" textLength=\"85\" x=\"349.5\" y=\"92.1074\">ms: MassSum</text><line style=\"stroke: #383838; stroke-width: 1.5;\" x1=\"347.5\" x2=\"436.5\" y1=\"99.9375\" y2=\"99.9375\"/></a><!--MD5=[bee11217b2f71d958a27249dc326068c]\n",
       "class E14--><a href=\"psysml:5bbc6089-c972-4222-8f32-76d519ddb8cd\" target=\"_top\" title=\"psysml:5bbc6089-c972-4222-8f32-76d519ddb8cd\" xlink:actuate=\"onRequest\" xlink:href=\"psysml:5bbc6089-c972-4222-8f32-76d519ddb8cd\" xlink:show=\"new\" xlink:title=\"psysml:5bbc6089-c972-4222-8f32-76d519ddb8cd\" xlink:type=\"simple\"><rect fill=\"#FFFFFF\" height=\"88.3516\" id=\"E14\" rx=\"10\" ry=\"10\" style=\"stroke: #383838; stroke-width: 1.5;\" width=\"99\" x=\"32.5\" y=\"41\"/><text fill=\"#000000\" font-family=\"sans-serif\" font-size=\"12\" font-style=\"italic\" lengthAdjust=\"spacingAndGlyphs\" textLength=\"82\" x=\"41\" y=\"57.1387\">«calculation»</text><text fill=\"#000000\" font-family=\"sans-serif\" font-size=\"12\" lengthAdjust=\"spacingAndGlyphs\" textLength=\"93\" x=\"35.5\" y=\"71.1074\">ms1: MassSum</text><line style=\"stroke: #383838; stroke-width: 1.5;\" x1=\"33.5\" x2=\"130.5\" y1=\"78.9375\" y2=\"78.9375\"/><text fill=\"#000000\" font-family=\"sans-serif\" font-size=\"11\" lengthAdjust=\"spacingAndGlyphs\" textLength=\"67\" x=\"38.5\" y=\"109.9526\">partMasses</text><text fill=\"#000000\" font-family=\"sans-serif\" font-size=\"11\" lengthAdjust=\"spacingAndGlyphs\" textLength=\"55\" x=\"38.5\" y=\"122.7573\">totalMass</text><line style=\"stroke: #383838; stroke-width: 1.0;\" x1=\"33.5\" x2=\"54.5\" y1=\"93.3398\" y2=\"93.3398\"/><text fill=\"#000000\" font-family=\"sans-serif\" font-size=\"11\" lengthAdjust=\"spacingAndGlyphs\" textLength=\"55\" x=\"54.5\" y=\"96.6479\">attributes</text><line style=\"stroke: #383838; stroke-width: 1.0;\" x1=\"109.5\" x2=\"130.5\" y1=\"93.3398\" y2=\"93.3398\"/></a><text fill=\"#000000\" font-family=\"sans-serif\" font-size=\"14\" lengthAdjust=\"spacingAndGlyphs\" textLength=\"80\" x=\"133\" y=\"63.6982\">partMasses</text><rect fill=\"#383838\" height=\"12\" style=\"stroke: #F8F8F8; stroke-width: 1.5;\" width=\"12\" x=\"167\" y=\"79\"/><text fill=\"#000000\" font-family=\"sans-serif\" font-size=\"14\" lengthAdjust=\"spacingAndGlyphs\" textLength=\"66\" x=\"177\" y=\"410.7151\">totalMass</text><rect fill=\"#383838\" height=\"12\" style=\"stroke: #F8F8F8; stroke-width: 1.5;\" width=\"12\" x=\"204\" y=\"385.72\"/><text fill=\"#000000\" font-family=\"sans-serif\" font-size=\"14\" lengthAdjust=\"spacingAndGlyphs\" textLength=\"75\" x=\"227.5\" y=\"63.6982\">$collection</text><rect fill=\"#383838\" height=\"12\" style=\"stroke: #F8F8F8; stroke-width: 1.5;\" width=\"12\" x=\"259\" y=\"79\"/><text fill=\"#000000\" font-family=\"sans-serif\" font-size=\"14\" lengthAdjust=\"spacingAndGlyphs\" textLength=\"48\" x=\"233\" y=\"410.7151\">$result</text><rect fill=\"#383838\" height=\"12\" style=\"stroke: #F8F8F8; stroke-width: 1.5;\" width=\"12\" x=\"251\" y=\"385.72\"/><text fill=\"#000000\" font-family=\"sans-serif\" font-size=\"14\" lengthAdjust=\"spacingAndGlyphs\" textLength=\"80\" x=\"627\" y=\"63.6982\">partMasses</text><rect fill=\"#383838\" height=\"12\" style=\"stroke: #F8F8F8; stroke-width: 1.5;\" width=\"12\" x=\"661\" y=\"79\"/><text fill=\"#000000\" font-family=\"sans-serif\" font-size=\"14\" lengthAdjust=\"spacingAndGlyphs\" textLength=\"66\" x=\"634\" y=\"410.7151\">totalMass</text><rect fill=\"#383838\" height=\"12\" style=\"stroke: #F8F8F8; stroke-width: 1.5;\" width=\"12\" x=\"661\" y=\"385.72\"/><!--MD5=[209b3feb70ccb6233bfe1053d122c12c]\n",
       "reverse link E2 to E3--><a href=\"psysml:5beb719b-2071-4403-a403-a4a2a93a4090\" target=\"_top\" title=\"psysml:5beb719b-2071-4403-a403-a4a2a93a4090\" xlink:actuate=\"onRequest\" xlink:href=\"psysml:5beb719b-2071-4403-a403-a4a2a93a4090\" xlink:show=\"new\" xlink:title=\"psysml:5beb719b-2071-4403-a403-a4a2a93a4090\" xlink:type=\"simple\"><path d=\"M476.41,132.95 C459.95,151.1 441.38,171.57 425.86,188.68 \" fill=\"none\" id=\"E2&lt;-E3\" style=\"stroke: #383838; stroke-width: 1.0;\"/><polygon fill=\"#383838\" points=\"485.3,123.15,478.3052,124.9031,477.2332,132.0341,484.2279,130.281,485.3,123.15\" style=\"stroke: #383838; stroke-width: 1.0;\"/></a><!--MD5=[9618e71518536f8baf3342ff6fdab317]\n",
       "reverse link E2 to E4--><a href=\"psysml:48862a39-11e7-4605-8aed-a0acf63d7872\" target=\"_top\" title=\"psysml:48862a39-11e7-4605-8aed-a0acf63d7872\" xlink:actuate=\"onRequest\" xlink:href=\"psysml:48862a39-11e7-4605-8aed-a0acf63d7872\" xlink:show=\"new\" xlink:title=\"psysml:48862a39-11e7-4605-8aed-a0acf63d7872\" xlink:type=\"simple\"><path d=\"M519,136.25 C519,153.55 519,172.6 519,188.68 \" fill=\"none\" id=\"E2&lt;-E4\" style=\"stroke: #383838; stroke-width: 1.0;\"/><polygon fill=\"#383838\" points=\"519,123.15,515,129.15,519,135.15,523,129.15,519,123.15\" style=\"stroke: #383838; stroke-width: 1.0;\"/></a><!--MD5=[1c0b9414cc86e0744215edee6abd8926]\n",
       "link E7 to E9--><a href=\"psysml:5b55f712-f9b6-4e15-aeab-345c960b0653\" target=\"_top\" title=\"psysml:5b55f712-f9b6-4e15-aeab-345c960b0653\" xlink:actuate=\"onRequest\" xlink:href=\"psysml:5b55f712-f9b6-4e15-aeab-345c960b0653\" xlink:show=\"new\" xlink:title=\"psysml:5b55f712-f9b6-4e15-aeab-345c960b0653\" xlink:type=\"simple\"><path d=\"M216.24,389.65 C227.81,386.39 239.38,386.41 250.95,389.7 \" fill=\"none\" id=\"E7-E9\" style=\"stroke: #383838; stroke-width: 5.0;\"/></a><!--MD5=[ec5e0a54482b142abcecfe541d624bff]\n",
       "link E10 to E5--><a href=\"psysml:9917c25f-6195-4027-a1da-c593e3e3b530\" target=\"_top\" title=\"psysml:9917c25f-6195-4027-a1da-c593e3e3b530\" xlink:actuate=\"onRequest\" xlink:href=\"psysml:9917c25f-6195-4027-a1da-c593e3e3b530\" xlink:show=\"new\" xlink:title=\"psysml:9917c25f-6195-4027-a1da-c593e3e3b530\" xlink:type=\"simple\"><path d=\"M367.76,108.18 C352.425,122.215 331.7225,141.16 311.4063,159.75 C306.3272,164.3975 301.2723,169.0228 296.3314,173.5437 C293.8609,175.8041 291.419,178.0384 289.0168,180.2363 C287.8157,181.3353 286.6246,182.4252 285.4448,183.5046 C284.8549,184.0444 284.2678,184.5815 283.6837,185.1159 C283.5377,185.2495 283.3919,185.3829 283.2463,185.5162 \" fill=\"none\" id=\"E10-&gt;E5\" style=\"stroke: #383838; stroke-width: 1.0;\"/><polygon fill=\"#FFFFFF\" points=\"283.2463,185.5162,292.5389,167.526,301.9894,177.855,283.2463,185.5162\" style=\"stroke: #383838; stroke-width: 1.0;\"/><ellipse cx=\"298.0944\" cy=\"165.1539\" fill=\"#383838\" rx=\"2\" ry=\"2\" style=\"stroke: #383838; stroke-width: 1.0;\"/><ellipse cx=\"304.8447\" cy=\"172.5317\" fill=\"#383838\" rx=\"2\" ry=\"2\" style=\"stroke: #383838; stroke-width: 1.0;\"/></a><!--MD5=[111e5536516ee1ad7d4266f589654f03]\n",
       "link E14 to E5--><a href=\"psysml:bf4de082-8867-4b4d-b459-dc33df5641b4\" target=\"_top\" title=\"psysml:bf4de082-8867-4b4d-b459-dc33df5641b4\" xlink:actuate=\"onRequest\" xlink:href=\"psysml:bf4de082-8867-4b4d-b459-dc33df5641b4\" xlink:show=\"new\" xlink:title=\"psysml:bf4de082-8867-4b4d-b459-dc33df5641b4\" xlink:type=\"simple\"><path d=\"M130.39,129.15 C138.0025,135.9375 146.0606,143.1225 154.2098,150.3889 C154.4645,150.616 154.7193,150.8431 154.9741,151.0704 \" fill=\"none\" id=\"E14-&gt;E5\" style=\"stroke: #383838; stroke-width: 1.0;\"/><polygon fill=\"#FFFFFF\" points=\"154.9741,151.0704,136.1343,143.6501,145.4516,133.2008,154.9741,151.0704\" style=\"stroke: #383838; stroke-width: 1.0;\"/><ellipse cx=\"133.211\" cy=\"138.3638\" fill=\"#383838\" rx=\"2\" ry=\"2\" style=\"stroke: #383838; stroke-width: 1.0;\"/><ellipse cx=\"139.8662\" cy=\"130.9001\" fill=\"#383838\" rx=\"2\" ry=\"2\" style=\"stroke: #383838; stroke-width: 1.0;\"/></a><!--MD5=[ce2d351720eef3f04192e7442bdda39d]\n",
       "@startuml\r\n",
       "skinparam monochrome true\r\n",
       "skinparam classbackgroundcolor white\r\n",
       "skinparam shadowing false\r\n",
       "skinparam wrapWidth 300\r\n",
       "hide circle\r\n",
       "\r\n",
       "package \"CalculationExample\" as E1  [[psysml:7249bcac-c63a-48a6-adec-7cf675138100 ]]  {\r\n",
       "comp usage \"vehicle\" as E2  <<(T,blue)part>> [[psysml:14188455-78e6-45cf-9446-0197417271d8 ]] {\r\n",
       "- - attributes - -\r\n",
       "m: MassValue\r\n",
       "}\r\n",
       "comp usage \"eng\" as E3  <<(T,blue)part>> [[psysml:5beb719b-2071-4403-a403-a4a2a93a4090 ]] {\r\n",
       "- - attributes - -\r\n",
       "m: MassValue\r\n",
       "}\r\n",
       "comp usage \"trans\" as E4  <<(T,blue)part>> [[psysml:48862a39-11e7-4605-8aed-a0acf63d7872 ]] {\r\n",
       "- - attributes - -\r\n",
       "m: MassValue\r\n",
       "}\r\n",
       "rec def \"MassSum\" as E5  <<(T,blue)calculation def>> [[psysml:8857df12-96f9-4753-a6e3-dc799dcb9ed4 ]] {\r\n",
       "portin \"partMasses\" as E6  [[psysml:8ae5fd16-1397-4172-a6e5-0c084d8d7ca2 ]] \r\n",
       "portout \"totalMass\" as E7  [[psysml:5f15c55d-7a56-4485-be6d-5834d49cebc1 ]] \r\n",
       "portin \"$collection\" as E8  [[psysml:61806866-d159-447e-b132-fa56be682adf ]] \r\n",
       "portout \"$result\" as E9  [[psysml:6ddb7e29-61e7-4184-8db5-61f90a0c49bf ]] \r\n",
       "}\r\n",
       "\r\n",
       "comp usage \"ms: MassSum\" as E10  <<(T,blue)calculation>> [[psysml:1d10ff1d-94f3-4fcc-ad21-5a3c75a7ba0b ]] {\r\n",
       "}\r\n",
       "rec def \"MassSum1\" as E11  <<(T,blue)calculation def>> [[psysml:86e0ef61-a473-4ef3-8b23-ebbfee168e1c ]] {\r\n",
       "portin \"partMasses\" as E12  [[psysml:44765cb5-91e3-4973-8d66-b6f2e5bbf87d ]] \r\n",
       "portout \"totalMass\" as E13  [[psysml:8a0a1f2d-4441-4a8a-b849-a96ed87f36a5 ]] \r\n",
       "}\r\n",
       "\r\n",
       "comp usage \"ms1: MassSum\" as E14  <<(T,blue)calculation>> [[psysml:5bbc6089-c972-4222-8f32-76d519ddb8cd ]] {\r\n",
       "- - attributes - -\r\n",
       "partMasses\r\n",
       "totalMass\r\n",
       "}\r\n",
       "E2 *- - E3 [[psysml:5beb719b-2071-4403-a403-a4a2a93a4090 ]] \r\n",
       "E2 *- - E4 [[psysml:48862a39-11e7-4605-8aed-a0acf63d7872 ]] \r\n",
       "E7 -[thickness=5]- E9 [[psysml:5b55f712-f9b6-4e15-aeab-345c960b0653 ]] \r\n",
       "E10 - -:|> E5 [[psysml:9917c25f-6195-4027-a1da-c593e3e3b530 ]] \r\n",
       "E14 - -:|> E5 [[psysml:bf4de082-8867-4b4d-b459-dc33df5641b4 ]] \r\n",
       "}\r\n",
       "@enduml\r\n",
       "\n",
       "PlantUML version 1.2020.13(Sat Jun 13 12:26:38 UTC 2020)\n",
       "(EPL source distribution)\n",
       "Java Runtime: OpenJDK Runtime Environment\n",
       "JVM: OpenJDK 64-Bit Server VM\n",
       "Default Encoding: UTF-8\n",
       "Language: en\n",
       "Country: null\n",
       "--></g></svg>"
      ]
     },
     "execution_count": 43,
     "metadata": {},
     "output_type": "execute_result"
    }
   ],
   "source": [
    "%viz --style=\"DEFAULT\" --view=\"MIXED\" \"CalculationExample\""
   ]
  },
  {
   "cell_type": "code",
   "execution_count": 44,
   "id": "handed-strength",
   "metadata": {
    "execution": {
     "iopub.execute_input": "2021-03-26T09:15:59.705304Z",
     "iopub.status.busy": "2021-03-26T09:15:59.704442Z",
     "iopub.status.idle": "2021-03-26T09:15:59.785306Z",
     "shell.execute_reply": "2021-03-26T09:15:59.783749Z"
    }
   },
   "outputs": [
    {
     "data": {
      "image/svg+xml": [
       "<?xml version=\"1.0\" encoding=\"UTF-8\" standalone=\"no\"?><svg xmlns=\"http://www.w3.org/2000/svg\" xmlns:xlink=\"http://www.w3.org/1999/xlink\" contentScriptType=\"application/ecmascript\" contentStyleType=\"text/css\" height=\"441px\" preserveAspectRatio=\"none\" style=\"width:788px;height:441px;\" version=\"1.1\" viewBox=\"0 0 788 441\" width=\"788px\" zoomAndPan=\"magnify\"><defs/><g><!--MD5=[fbc87193dbaf4d95561dea2c320d4a47]\n",
       "cluster E1--><a href=\"psysml:7249bcac-c63a-48a6-adec-7cf675138100\" target=\"_top\" title=\"psysml:7249bcac-c63a-48a6-adec-7cf675138100\" xlink:actuate=\"onRequest\" xlink:href=\"psysml:7249bcac-c63a-48a6-adec-7cf675138100\" xlink:show=\"new\" xlink:title=\"psysml:7249bcac-c63a-48a6-adec-7cf675138100\" xlink:type=\"simple\"><polygon fill=\"#FFFFFF\" points=\"16,6,173,6,180,28.2969,766,28.2969,766,429.72,16,429.72,16,6\" style=\"stroke: #000000; stroke-width: 1.5;\"/><line style=\"stroke: #000000; stroke-width: 1.5;\" x1=\"16\" x2=\"180\" y1=\"28.2969\" y2=\"28.2969\"/><text fill=\"#000000\" font-family=\"sans-serif\" font-size=\"14\" font-weight=\"bold\" lengthAdjust=\"spacingAndGlyphs\" textLength=\"151\" x=\"20\" y=\"20.9951\">CalculationExample</text></a><!--MD5=[de5ec2e2e8f62f467e546659f5068c88]\n",
       "cluster E5--><a href=\"psysml:8857df12-96f9-4753-a6e3-dc799dcb9ed4\" target=\"_top\" title=\"psysml:8857df12-96f9-4753-a6e3-dc799dcb9ed4\" xlink:actuate=\"onRequest\" xlink:href=\"psysml:8857df12-96f9-4753-a6e3-dc799dcb9ed4\" xlink:show=\"new\" xlink:title=\"psysml:8857df12-96f9-4753-a6e3-dc799dcb9ed4\" xlink:type=\"simple\"><rect fill=\"#FFFFFF\" height=\"306.72\" id=\"E5\" style=\"stroke: #383838; stroke-width: 1.5;\" width=\"128\" x=\"155\" y=\"85\"/><rect fill=\"#F8F8F8\" height=\"37.9375\" style=\"stroke: #383838; stroke-width: 1.5;\" width=\"128\" x=\"155\" y=\"85\"/><text fill=\"#000000\" font-family=\"sans-serif\" font-size=\"12\" font-style=\"italic\" lengthAdjust=\"spacingAndGlyphs\" textLength=\"106\" x=\"166\" y=\"101.1387\">«calculation def»</text><text fill=\"#000000\" font-family=\"sans-serif\" font-size=\"12\" lengthAdjust=\"spacingAndGlyphs\" textLength=\"59\" x=\"189.5\" y=\"115.1074\">MassSum</text></a><!--MD5=[917b9dd0c7eca3ee5f47219d1a84c0ad]\n",
       "cluster E11--><a href=\"psysml:86e0ef61-a473-4ef3-8b23-ebbfee168e1c\" target=\"_top\" title=\"psysml:86e0ef61-a473-4ef3-8b23-ebbfee168e1c\" xlink:actuate=\"onRequest\" xlink:href=\"psysml:86e0ef61-a473-4ef3-8b23-ebbfee168e1c\" xlink:show=\"new\" xlink:title=\"psysml:86e0ef61-a473-4ef3-8b23-ebbfee168e1c\" xlink:type=\"simple\"><rect fill=\"#FFFFFF\" height=\"306.72\" id=\"E11\" style=\"stroke: #383838; stroke-width: 1.5;\" width=\"166\" x=\"584\" y=\"85\"/><rect fill=\"#F8F8F8\" height=\"37.9375\" style=\"stroke: #383838; stroke-width: 1.5;\" width=\"166\" x=\"584\" y=\"85\"/><text fill=\"#000000\" font-family=\"sans-serif\" font-size=\"12\" font-style=\"italic\" lengthAdjust=\"spacingAndGlyphs\" textLength=\"106\" x=\"614\" y=\"101.1387\">«calculation def»</text><text fill=\"#000000\" font-family=\"sans-serif\" font-size=\"12\" lengthAdjust=\"spacingAndGlyphs\" textLength=\"67\" x=\"633.5\" y=\"115.1074\">MassSum1</text></a><!--MD5=[b4997ac47864f28c2f74865a473b2911]\n",
       "class E2--><a href=\"psysml:14188455-78e6-45cf-9446-0197417271d8\" target=\"_top\" title=\"psysml:14188455-78e6-45cf-9446-0197417271d8\" xlink:actuate=\"onRequest\" xlink:href=\"psysml:14188455-78e6-45cf-9446-0197417271d8\" xlink:show=\"new\" xlink:title=\"psysml:14188455-78e6-45cf-9446-0197417271d8\" xlink:type=\"simple\"><rect fill=\"#FFFFFF\" height=\"75.5469\" id=\"E2\" rx=\"10\" ry=\"10\" style=\"stroke: #383838; stroke-width: 1.5;\" width=\"92\" x=\"473\" y=\"47\"/><text fill=\"#000000\" font-family=\"sans-serif\" font-size=\"12\" font-style=\"italic\" lengthAdjust=\"spacingAndGlyphs\" textLength=\"40\" x=\"499\" y=\"63.1387\">«part»</text><text fill=\"#000000\" font-family=\"sans-serif\" font-size=\"12\" lengthAdjust=\"spacingAndGlyphs\" textLength=\"43\" x=\"497.5\" y=\"77.1074\">vehicle</text><line style=\"stroke: #383838; stroke-width: 1.5;\" x1=\"474\" x2=\"564\" y1=\"84.9375\" y2=\"84.9375\"/><text fill=\"#000000\" font-family=\"sans-serif\" font-size=\"11\" lengthAdjust=\"spacingAndGlyphs\" textLength=\"80\" x=\"479\" y=\"115.9526\">m: MassValue</text><line style=\"stroke: #383838; stroke-width: 1.0;\" x1=\"474\" x2=\"491.5\" y1=\"99.3398\" y2=\"99.3398\"/><text fill=\"#000000\" font-family=\"sans-serif\" font-size=\"11\" lengthAdjust=\"spacingAndGlyphs\" textLength=\"55\" x=\"491.5\" y=\"102.6479\">attributes</text><line style=\"stroke: #383838; stroke-width: 1.0;\" x1=\"546.5\" x2=\"564\" y1=\"99.3398\" y2=\"99.3398\"/></a><!--MD5=[09b614a08d8cba4a07c9adeb5e0fee81]\n",
       "class E3--><a href=\"psysml:5beb719b-2071-4403-a403-a4a2a93a4090\" target=\"_top\" title=\"psysml:5beb719b-2071-4403-a403-a4a2a93a4090\" xlink:actuate=\"onRequest\" xlink:href=\"psysml:5beb719b-2071-4403-a403-a4a2a93a4090\" xlink:show=\"new\" xlink:title=\"psysml:5beb719b-2071-4403-a403-a4a2a93a4090\" xlink:type=\"simple\"><rect fill=\"#FFFFFF\" height=\"75.5469\" id=\"E3\" rx=\"10\" ry=\"10\" style=\"stroke: #383838; stroke-width: 1.5;\" width=\"92\" x=\"346\" y=\"189\"/><text fill=\"#000000\" font-family=\"sans-serif\" font-size=\"12\" font-style=\"italic\" lengthAdjust=\"spacingAndGlyphs\" textLength=\"40\" x=\"372\" y=\"205.1387\">«part»</text><text fill=\"#000000\" font-family=\"sans-serif\" font-size=\"12\" lengthAdjust=\"spacingAndGlyphs\" textLength=\"24\" x=\"380\" y=\"219.1074\">eng</text><line style=\"stroke: #383838; stroke-width: 1.5;\" x1=\"347\" x2=\"437\" y1=\"226.9375\" y2=\"226.9375\"/><text fill=\"#000000\" font-family=\"sans-serif\" font-size=\"11\" lengthAdjust=\"spacingAndGlyphs\" textLength=\"80\" x=\"352\" y=\"257.9526\">m: MassValue</text><line style=\"stroke: #383838; stroke-width: 1.0;\" x1=\"347\" x2=\"364.5\" y1=\"241.3398\" y2=\"241.3398\"/><text fill=\"#000000\" font-family=\"sans-serif\" font-size=\"11\" lengthAdjust=\"spacingAndGlyphs\" textLength=\"55\" x=\"364.5\" y=\"244.6479\">attributes</text><line style=\"stroke: #383838; stroke-width: 1.0;\" x1=\"419.5\" x2=\"437\" y1=\"241.3398\" y2=\"241.3398\"/></a><!--MD5=[ebbe1d658d1005bcc118a6aa81145e00]\n",
       "class E4--><a href=\"psysml:48862a39-11e7-4605-8aed-a0acf63d7872\" target=\"_top\" title=\"psysml:48862a39-11e7-4605-8aed-a0acf63d7872\" xlink:actuate=\"onRequest\" xlink:href=\"psysml:48862a39-11e7-4605-8aed-a0acf63d7872\" xlink:show=\"new\" xlink:title=\"psysml:48862a39-11e7-4605-8aed-a0acf63d7872\" xlink:type=\"simple\"><rect fill=\"#FFFFFF\" height=\"75.5469\" id=\"E4\" rx=\"10\" ry=\"10\" style=\"stroke: #383838; stroke-width: 1.5;\" width=\"92\" x=\"473\" y=\"189\"/><text fill=\"#000000\" font-family=\"sans-serif\" font-size=\"12\" font-style=\"italic\" lengthAdjust=\"spacingAndGlyphs\" textLength=\"40\" x=\"499\" y=\"205.1387\">«part»</text><text fill=\"#000000\" font-family=\"sans-serif\" font-size=\"12\" lengthAdjust=\"spacingAndGlyphs\" textLength=\"33\" x=\"502.5\" y=\"219.1074\">trans</text><line style=\"stroke: #383838; stroke-width: 1.5;\" x1=\"474\" x2=\"564\" y1=\"226.9375\" y2=\"226.9375\"/><text fill=\"#000000\" font-family=\"sans-serif\" font-size=\"11\" lengthAdjust=\"spacingAndGlyphs\" textLength=\"80\" x=\"479\" y=\"257.9526\">m: MassValue</text><line style=\"stroke: #383838; stroke-width: 1.0;\" x1=\"474\" x2=\"491.5\" y1=\"241.3398\" y2=\"241.3398\"/><text fill=\"#000000\" font-family=\"sans-serif\" font-size=\"11\" lengthAdjust=\"spacingAndGlyphs\" textLength=\"55\" x=\"491.5\" y=\"244.6479\">attributes</text><line style=\"stroke: #383838; stroke-width: 1.0;\" x1=\"546.5\" x2=\"564\" y1=\"241.3398\" y2=\"241.3398\"/></a><!--MD5=[96f4274e9e20536e775497830990834d]\n",
       "class E10--><a href=\"psysml:1d10ff1d-94f3-4fcc-ad21-5a3c75a7ba0b\" target=\"_top\" title=\"psysml:1d10ff1d-94f3-4fcc-ad21-5a3c75a7ba0b\" xlink:actuate=\"onRequest\" xlink:href=\"psysml:1d10ff1d-94f3-4fcc-ad21-5a3c75a7ba0b\" xlink:show=\"new\" xlink:title=\"psysml:1d10ff1d-94f3-4fcc-ad21-5a3c75a7ba0b\" xlink:type=\"simple\"><rect fill=\"#FFFFFF\" height=\"45.9375\" id=\"E10\" rx=\"10\" ry=\"10\" style=\"stroke: #383838; stroke-width: 1.5;\" width=\"91\" x=\"346.5\" y=\"62\"/><text fill=\"#000000\" font-family=\"sans-serif\" font-size=\"12\" font-style=\"italic\" lengthAdjust=\"spacingAndGlyphs\" textLength=\"82\" x=\"351\" y=\"78.1387\">«calculation»</text><text fill=\"#000000\" font-family=\"sans-serif\" font-size=\"12\" lengthAdjust=\"spacingAndGlyphs\" textLength=\"85\" x=\"349.5\" y=\"92.1074\">ms: MassSum</text><line style=\"stroke: #383838; stroke-width: 1.5;\" x1=\"347.5\" x2=\"436.5\" y1=\"99.9375\" y2=\"99.9375\"/></a><!--MD5=[bee11217b2f71d958a27249dc326068c]\n",
       "class E14--><a href=\"psysml:5bbc6089-c972-4222-8f32-76d519ddb8cd\" target=\"_top\" title=\"psysml:5bbc6089-c972-4222-8f32-76d519ddb8cd\" xlink:actuate=\"onRequest\" xlink:href=\"psysml:5bbc6089-c972-4222-8f32-76d519ddb8cd\" xlink:show=\"new\" xlink:title=\"psysml:5bbc6089-c972-4222-8f32-76d519ddb8cd\" xlink:type=\"simple\"><rect fill=\"#FFFFFF\" height=\"88.3516\" id=\"E14\" rx=\"10\" ry=\"10\" style=\"stroke: #383838; stroke-width: 1.5;\" width=\"99\" x=\"32.5\" y=\"41\"/><text fill=\"#000000\" font-family=\"sans-serif\" font-size=\"12\" font-style=\"italic\" lengthAdjust=\"spacingAndGlyphs\" textLength=\"82\" x=\"41\" y=\"57.1387\">«calculation»</text><text fill=\"#000000\" font-family=\"sans-serif\" font-size=\"12\" lengthAdjust=\"spacingAndGlyphs\" textLength=\"93\" x=\"35.5\" y=\"71.1074\">ms1: MassSum</text><line style=\"stroke: #383838; stroke-width: 1.5;\" x1=\"33.5\" x2=\"130.5\" y1=\"78.9375\" y2=\"78.9375\"/><text fill=\"#000000\" font-family=\"sans-serif\" font-size=\"11\" lengthAdjust=\"spacingAndGlyphs\" textLength=\"67\" x=\"38.5\" y=\"109.9526\">partMasses</text><text fill=\"#000000\" font-family=\"sans-serif\" font-size=\"11\" lengthAdjust=\"spacingAndGlyphs\" textLength=\"55\" x=\"38.5\" y=\"122.7573\">totalMass</text><line style=\"stroke: #383838; stroke-width: 1.0;\" x1=\"33.5\" x2=\"54.5\" y1=\"93.3398\" y2=\"93.3398\"/><text fill=\"#000000\" font-family=\"sans-serif\" font-size=\"11\" lengthAdjust=\"spacingAndGlyphs\" textLength=\"55\" x=\"54.5\" y=\"96.6479\">attributes</text><line style=\"stroke: #383838; stroke-width: 1.0;\" x1=\"109.5\" x2=\"130.5\" y1=\"93.3398\" y2=\"93.3398\"/></a><text fill=\"#000000\" font-family=\"sans-serif\" font-size=\"14\" lengthAdjust=\"spacingAndGlyphs\" textLength=\"80\" x=\"133\" y=\"63.6982\">partMasses</text><rect fill=\"#383838\" height=\"12\" style=\"stroke: #F8F8F8; stroke-width: 1.5;\" width=\"12\" x=\"167\" y=\"79\"/><text fill=\"#000000\" font-family=\"sans-serif\" font-size=\"14\" lengthAdjust=\"spacingAndGlyphs\" textLength=\"66\" x=\"177\" y=\"410.7151\">totalMass</text><rect fill=\"#383838\" height=\"12\" style=\"stroke: #F8F8F8; stroke-width: 1.5;\" width=\"12\" x=\"204\" y=\"385.72\"/><text fill=\"#000000\" font-family=\"sans-serif\" font-size=\"14\" lengthAdjust=\"spacingAndGlyphs\" textLength=\"75\" x=\"227.5\" y=\"63.6982\">$collection</text><rect fill=\"#383838\" height=\"12\" style=\"stroke: #F8F8F8; stroke-width: 1.5;\" width=\"12\" x=\"259\" y=\"79\"/><text fill=\"#000000\" font-family=\"sans-serif\" font-size=\"14\" lengthAdjust=\"spacingAndGlyphs\" textLength=\"48\" x=\"233\" y=\"410.7151\">$result</text><rect fill=\"#383838\" height=\"12\" style=\"stroke: #F8F8F8; stroke-width: 1.5;\" width=\"12\" x=\"251\" y=\"385.72\"/><text fill=\"#000000\" font-family=\"sans-serif\" font-size=\"14\" lengthAdjust=\"spacingAndGlyphs\" textLength=\"80\" x=\"627\" y=\"63.6982\">partMasses</text><rect fill=\"#383838\" height=\"12\" style=\"stroke: #F8F8F8; stroke-width: 1.5;\" width=\"12\" x=\"661\" y=\"79\"/><text fill=\"#000000\" font-family=\"sans-serif\" font-size=\"14\" lengthAdjust=\"spacingAndGlyphs\" textLength=\"66\" x=\"634\" y=\"410.7151\">totalMass</text><rect fill=\"#383838\" height=\"12\" style=\"stroke: #F8F8F8; stroke-width: 1.5;\" width=\"12\" x=\"661\" y=\"385.72\"/><!--MD5=[209b3feb70ccb6233bfe1053d122c12c]\n",
       "reverse link E2 to E3--><a href=\"psysml:5beb719b-2071-4403-a403-a4a2a93a4090\" target=\"_top\" title=\"psysml:5beb719b-2071-4403-a403-a4a2a93a4090\" xlink:actuate=\"onRequest\" xlink:href=\"psysml:5beb719b-2071-4403-a403-a4a2a93a4090\" xlink:show=\"new\" xlink:title=\"psysml:5beb719b-2071-4403-a403-a4a2a93a4090\" xlink:type=\"simple\"><path d=\"M476.41,132.95 C459.95,151.1 441.38,171.57 425.86,188.68 \" fill=\"none\" id=\"E2&lt;-E3\" style=\"stroke: #383838; stroke-width: 1.0;\"/><polygon fill=\"#383838\" points=\"485.3,123.15,478.3052,124.9031,477.2332,132.0341,484.2279,130.281,485.3,123.15\" style=\"stroke: #383838; stroke-width: 1.0;\"/></a><!--MD5=[9618e71518536f8baf3342ff6fdab317]\n",
       "reverse link E2 to E4--><a href=\"psysml:48862a39-11e7-4605-8aed-a0acf63d7872\" target=\"_top\" title=\"psysml:48862a39-11e7-4605-8aed-a0acf63d7872\" xlink:actuate=\"onRequest\" xlink:href=\"psysml:48862a39-11e7-4605-8aed-a0acf63d7872\" xlink:show=\"new\" xlink:title=\"psysml:48862a39-11e7-4605-8aed-a0acf63d7872\" xlink:type=\"simple\"><path d=\"M519,136.25 C519,153.55 519,172.6 519,188.68 \" fill=\"none\" id=\"E2&lt;-E4\" style=\"stroke: #383838; stroke-width: 1.0;\"/><polygon fill=\"#383838\" points=\"519,123.15,515,129.15,519,135.15,523,129.15,519,123.15\" style=\"stroke: #383838; stroke-width: 1.0;\"/></a><!--MD5=[1c0b9414cc86e0744215edee6abd8926]\n",
       "link E7 to E9--><a href=\"psysml:5b55f712-f9b6-4e15-aeab-345c960b0653\" target=\"_top\" title=\"psysml:5b55f712-f9b6-4e15-aeab-345c960b0653\" xlink:actuate=\"onRequest\" xlink:href=\"psysml:5b55f712-f9b6-4e15-aeab-345c960b0653\" xlink:show=\"new\" xlink:title=\"psysml:5b55f712-f9b6-4e15-aeab-345c960b0653\" xlink:type=\"simple\"><path d=\"M216.24,389.65 C227.81,386.39 239.38,386.41 250.95,389.7 \" fill=\"none\" id=\"E7-E9\" style=\"stroke: #383838; stroke-width: 5.0;\"/></a><!--MD5=[ec5e0a54482b142abcecfe541d624bff]\n",
       "link E10 to E5--><a href=\"psysml:9917c25f-6195-4027-a1da-c593e3e3b530\" target=\"_top\" title=\"psysml:9917c25f-6195-4027-a1da-c593e3e3b530\" xlink:actuate=\"onRequest\" xlink:href=\"psysml:9917c25f-6195-4027-a1da-c593e3e3b530\" xlink:show=\"new\" xlink:title=\"psysml:9917c25f-6195-4027-a1da-c593e3e3b530\" xlink:type=\"simple\"><path d=\"M367.76,108.18 C352.425,122.215 331.7225,141.16 311.4063,159.75 C306.3272,164.3975 301.2723,169.0228 296.3314,173.5437 C293.8609,175.8041 291.419,178.0384 289.0168,180.2363 C287.8157,181.3353 286.6246,182.4252 285.4448,183.5046 C284.8549,184.0444 284.2678,184.5815 283.6837,185.1159 C283.5377,185.2495 283.3919,185.3829 283.2463,185.5162 \" fill=\"none\" id=\"E10-&gt;E5\" style=\"stroke: #383838; stroke-width: 1.0;\"/><polygon fill=\"#FFFFFF\" points=\"283.2463,185.5162,292.5389,167.526,301.9894,177.855,283.2463,185.5162\" style=\"stroke: #383838; stroke-width: 1.0;\"/><ellipse cx=\"298.0944\" cy=\"165.1539\" fill=\"#383838\" rx=\"2\" ry=\"2\" style=\"stroke: #383838; stroke-width: 1.0;\"/><ellipse cx=\"304.8447\" cy=\"172.5317\" fill=\"#383838\" rx=\"2\" ry=\"2\" style=\"stroke: #383838; stroke-width: 1.0;\"/></a><!--MD5=[111e5536516ee1ad7d4266f589654f03]\n",
       "link E14 to E5--><a href=\"psysml:bf4de082-8867-4b4d-b459-dc33df5641b4\" target=\"_top\" title=\"psysml:bf4de082-8867-4b4d-b459-dc33df5641b4\" xlink:actuate=\"onRequest\" xlink:href=\"psysml:bf4de082-8867-4b4d-b459-dc33df5641b4\" xlink:show=\"new\" xlink:title=\"psysml:bf4de082-8867-4b4d-b459-dc33df5641b4\" xlink:type=\"simple\"><path d=\"M130.39,129.15 C138.0025,135.9375 146.0606,143.1225 154.2098,150.3889 C154.4645,150.616 154.7193,150.8431 154.9741,151.0704 \" fill=\"none\" id=\"E14-&gt;E5\" style=\"stroke: #383838; stroke-width: 1.0;\"/><polygon fill=\"#FFFFFF\" points=\"154.9741,151.0704,136.1343,143.6501,145.4516,133.2008,154.9741,151.0704\" style=\"stroke: #383838; stroke-width: 1.0;\"/><ellipse cx=\"133.211\" cy=\"138.3638\" fill=\"#383838\" rx=\"2\" ry=\"2\" style=\"stroke: #383838; stroke-width: 1.0;\"/><ellipse cx=\"139.8662\" cy=\"130.9001\" fill=\"#383838\" rx=\"2\" ry=\"2\" style=\"stroke: #383838; stroke-width: 1.0;\"/></a><!--MD5=[d3fa8ee74d3faa86184b9b39d741aa03]\n",
       "@startuml\r\n",
       "top to bottom direction\r\n",
       "skinparam monochrome true\r\n",
       "skinparam classbackgroundcolor white\r\n",
       "skinparam shadowing false\r\n",
       "skinparam wrapWidth 300\r\n",
       "hide circle\r\n",
       "\r\n",
       "package \"CalculationExample\" as E1  [[psysml:7249bcac-c63a-48a6-adec-7cf675138100 ]]  {\r\n",
       "comp usage \"vehicle\" as E2  <<(T,blue)part>> [[psysml:14188455-78e6-45cf-9446-0197417271d8 ]] {\r\n",
       "- - attributes - -\r\n",
       "m: MassValue\r\n",
       "}\r\n",
       "comp usage \"eng\" as E3  <<(T,blue)part>> [[psysml:5beb719b-2071-4403-a403-a4a2a93a4090 ]] {\r\n",
       "- - attributes - -\r\n",
       "m: MassValue\r\n",
       "}\r\n",
       "comp usage \"trans\" as E4  <<(T,blue)part>> [[psysml:48862a39-11e7-4605-8aed-a0acf63d7872 ]] {\r\n",
       "- - attributes - -\r\n",
       "m: MassValue\r\n",
       "}\r\n",
       "rec def \"MassSum\" as E5  <<(T,blue)calculation def>> [[psysml:8857df12-96f9-4753-a6e3-dc799dcb9ed4 ]] {\r\n",
       "portin \"partMasses\" as E6  [[psysml:8ae5fd16-1397-4172-a6e5-0c084d8d7ca2 ]] \r\n",
       "portout \"totalMass\" as E7  [[psysml:5f15c55d-7a56-4485-be6d-5834d49cebc1 ]] \r\n",
       "portin \"$collection\" as E8  [[psysml:61806866-d159-447e-b132-fa56be682adf ]] \r\n",
       "portout \"$result\" as E9  [[psysml:6ddb7e29-61e7-4184-8db5-61f90a0c49bf ]] \r\n",
       "}\r\n",
       "\r\n",
       "comp usage \"ms: MassSum\" as E10  <<(T,blue)calculation>> [[psysml:1d10ff1d-94f3-4fcc-ad21-5a3c75a7ba0b ]] {\r\n",
       "}\r\n",
       "rec def \"MassSum1\" as E11  <<(T,blue)calculation def>> [[psysml:86e0ef61-a473-4ef3-8b23-ebbfee168e1c ]] {\r\n",
       "portin \"partMasses\" as E12  [[psysml:44765cb5-91e3-4973-8d66-b6f2e5bbf87d ]] \r\n",
       "portout \"totalMass\" as E13  [[psysml:8a0a1f2d-4441-4a8a-b849-a96ed87f36a5 ]] \r\n",
       "}\r\n",
       "\r\n",
       "comp usage \"ms1: MassSum\" as E14  <<(T,blue)calculation>> [[psysml:5bbc6089-c972-4222-8f32-76d519ddb8cd ]] {\r\n",
       "- - attributes - -\r\n",
       "partMasses\r\n",
       "totalMass\r\n",
       "}\r\n",
       "E2 *- - E3 [[psysml:5beb719b-2071-4403-a403-a4a2a93a4090 ]] \r\n",
       "E2 *- - E4 [[psysml:48862a39-11e7-4605-8aed-a0acf63d7872 ]] \r\n",
       "E7 -[thickness=5]- E9 [[psysml:5b55f712-f9b6-4e15-aeab-345c960b0653 ]] \r\n",
       "E10 - -:|> E5 [[psysml:9917c25f-6195-4027-a1da-c593e3e3b530 ]] \r\n",
       "E14 - -:|> E5 [[psysml:bf4de082-8867-4b4d-b459-dc33df5641b4 ]] \r\n",
       "}\r\n",
       "@enduml\r\n",
       "\n",
       "PlantUML version 1.2020.13(Sat Jun 13 12:26:38 UTC 2020)\n",
       "(EPL source distribution)\n",
       "Java Runtime: OpenJDK Runtime Environment\n",
       "JVM: OpenJDK 64-Bit Server VM\n",
       "Default Encoding: UTF-8\n",
       "Language: en\n",
       "Country: null\n",
       "--></g></svg>"
      ]
     },
     "execution_count": 44,
     "metadata": {},
     "output_type": "execute_result"
    }
   ],
   "source": [
    "%viz --style=\"TB\" --view=\"Default\" \"CalculationExample\""
   ]
  },
  {
   "cell_type": "code",
   "execution_count": 45,
   "id": "blessed-fellow",
   "metadata": {
    "execution": {
     "iopub.execute_input": "2021-03-26T09:15:59.835184Z",
     "iopub.status.busy": "2021-03-26T09:15:59.834767Z",
     "iopub.status.idle": "2021-03-26T09:15:59.925399Z",
     "shell.execute_reply": "2021-03-26T09:15:59.923867Z"
    }
   },
   "outputs": [
    {
     "data": {
      "image/svg+xml": [
       "<?xml version=\"1.0\" encoding=\"UTF-8\" standalone=\"no\"?><svg xmlns=\"http://www.w3.org/2000/svg\" xmlns:xlink=\"http://www.w3.org/1999/xlink\" contentScriptType=\"application/ecmascript\" contentStyleType=\"text/css\" height=\"293px\" preserveAspectRatio=\"none\" style=\"width:607px;height:293px;\" version=\"1.1\" viewBox=\"0 0 607 293\" width=\"607px\" zoomAndPan=\"magnify\"><defs/><g><!--MD5=[fbc87193dbaf4d95561dea2c320d4a47]\n",
       "cluster E1--><a href=\"psysml:7249bcac-c63a-48a6-adec-7cf675138100\" target=\"_top\" title=\"psysml:7249bcac-c63a-48a6-adec-7cf675138100\" xlink:actuate=\"onRequest\" xlink:href=\"psysml:7249bcac-c63a-48a6-adec-7cf675138100\" xlink:show=\"new\" xlink:title=\"psysml:7249bcac-c63a-48a6-adec-7cf675138100\" xlink:type=\"simple\"><polygon fill=\"#FFFFFF\" points=\"16,6,173,6,180,28.2969,585,28.2969,585,281,16,281,16,6\" style=\"stroke: #000000; stroke-width: 1.5;\"/><line style=\"stroke: #000000; stroke-width: 1.5;\" x1=\"16\" x2=\"180\" y1=\"28.2969\" y2=\"28.2969\"/><text fill=\"#000000\" font-family=\"sans-serif\" font-size=\"14\" font-weight=\"bold\" lengthAdjust=\"spacingAndGlyphs\" textLength=\"151\" x=\"20\" y=\"20.9951\">CalculationExample</text></a><!--MD5=[b4997ac47864f28c2f74865a473b2911]\n",
       "class E2--><a href=\"psysml:14188455-78e6-45cf-9446-0197417271d8\" target=\"_top\" title=\"psysml:14188455-78e6-45cf-9446-0197417271d8\" xlink:actuate=\"onRequest\" xlink:href=\"psysml:14188455-78e6-45cf-9446-0197417271d8\" xlink:show=\"new\" xlink:title=\"psysml:14188455-78e6-45cf-9446-0197417271d8\" xlink:type=\"simple\"><rect fill=\"#FFFFFF\" height=\"75.5469\" id=\"E2\" rx=\"10\" ry=\"10\" style=\"stroke: #383838; stroke-width: 1.5;\" width=\"92\" x=\"477\" y=\"47\"/><text fill=\"#000000\" font-family=\"sans-serif\" font-size=\"12\" font-style=\"italic\" lengthAdjust=\"spacingAndGlyphs\" textLength=\"40\" x=\"503\" y=\"63.1387\">«part»</text><text fill=\"#000000\" font-family=\"sans-serif\" font-size=\"12\" lengthAdjust=\"spacingAndGlyphs\" textLength=\"43\" x=\"501.5\" y=\"77.1074\">vehicle</text><line style=\"stroke: #383838; stroke-width: 1.5;\" x1=\"478\" x2=\"568\" y1=\"84.9375\" y2=\"84.9375\"/><text fill=\"#000000\" font-family=\"sans-serif\" font-size=\"11\" lengthAdjust=\"spacingAndGlyphs\" textLength=\"80\" x=\"483\" y=\"115.9526\">m: MassValue</text><line style=\"stroke: #383838; stroke-width: 1.0;\" x1=\"478\" x2=\"495.5\" y1=\"99.3398\" y2=\"99.3398\"/><text fill=\"#000000\" font-family=\"sans-serif\" font-size=\"11\" lengthAdjust=\"spacingAndGlyphs\" textLength=\"55\" x=\"495.5\" y=\"102.6479\">attributes</text><line style=\"stroke: #383838; stroke-width: 1.0;\" x1=\"550.5\" x2=\"568\" y1=\"99.3398\" y2=\"99.3398\"/></a><!--MD5=[09b614a08d8cba4a07c9adeb5e0fee81]\n",
       "class E3--><a href=\"psysml:5beb719b-2071-4403-a403-a4a2a93a4090\" target=\"_top\" title=\"psysml:5beb719b-2071-4403-a403-a4a2a93a4090\" xlink:actuate=\"onRequest\" xlink:href=\"psysml:5beb719b-2071-4403-a403-a4a2a93a4090\" xlink:show=\"new\" xlink:title=\"psysml:5beb719b-2071-4403-a403-a4a2a93a4090\" xlink:type=\"simple\"><rect fill=\"#FFFFFF\" height=\"75.5469\" id=\"E3\" rx=\"10\" ry=\"10\" style=\"stroke: #383838; stroke-width: 1.5;\" width=\"92\" x=\"350\" y=\"189\"/><text fill=\"#000000\" font-family=\"sans-serif\" font-size=\"12\" font-style=\"italic\" lengthAdjust=\"spacingAndGlyphs\" textLength=\"40\" x=\"376\" y=\"205.1387\">«part»</text><text fill=\"#000000\" font-family=\"sans-serif\" font-size=\"12\" lengthAdjust=\"spacingAndGlyphs\" textLength=\"24\" x=\"384\" y=\"219.1074\">eng</text><line style=\"stroke: #383838; stroke-width: 1.5;\" x1=\"351\" x2=\"441\" y1=\"226.9375\" y2=\"226.9375\"/><text fill=\"#000000\" font-family=\"sans-serif\" font-size=\"11\" lengthAdjust=\"spacingAndGlyphs\" textLength=\"80\" x=\"356\" y=\"257.9526\">m: MassValue</text><line style=\"stroke: #383838; stroke-width: 1.0;\" x1=\"351\" x2=\"368.5\" y1=\"241.3398\" y2=\"241.3398\"/><text fill=\"#000000\" font-family=\"sans-serif\" font-size=\"11\" lengthAdjust=\"spacingAndGlyphs\" textLength=\"55\" x=\"368.5\" y=\"244.6479\">attributes</text><line style=\"stroke: #383838; stroke-width: 1.0;\" x1=\"423.5\" x2=\"441\" y1=\"241.3398\" y2=\"241.3398\"/></a><!--MD5=[ebbe1d658d1005bcc118a6aa81145e00]\n",
       "class E4--><a href=\"psysml:48862a39-11e7-4605-8aed-a0acf63d7872\" target=\"_top\" title=\"psysml:48862a39-11e7-4605-8aed-a0acf63d7872\" xlink:actuate=\"onRequest\" xlink:href=\"psysml:48862a39-11e7-4605-8aed-a0acf63d7872\" xlink:show=\"new\" xlink:title=\"psysml:48862a39-11e7-4605-8aed-a0acf63d7872\" xlink:type=\"simple\"><rect fill=\"#FFFFFF\" height=\"75.5469\" id=\"E4\" rx=\"10\" ry=\"10\" style=\"stroke: #383838; stroke-width: 1.5;\" width=\"92\" x=\"477\" y=\"189\"/><text fill=\"#000000\" font-family=\"sans-serif\" font-size=\"12\" font-style=\"italic\" lengthAdjust=\"spacingAndGlyphs\" textLength=\"40\" x=\"503\" y=\"205.1387\">«part»</text><text fill=\"#000000\" font-family=\"sans-serif\" font-size=\"12\" lengthAdjust=\"spacingAndGlyphs\" textLength=\"33\" x=\"506.5\" y=\"219.1074\">trans</text><line style=\"stroke: #383838; stroke-width: 1.5;\" x1=\"478\" x2=\"568\" y1=\"226.9375\" y2=\"226.9375\"/><text fill=\"#000000\" font-family=\"sans-serif\" font-size=\"11\" lengthAdjust=\"spacingAndGlyphs\" textLength=\"80\" x=\"483\" y=\"257.9526\">m: MassValue</text><line style=\"stroke: #383838; stroke-width: 1.0;\" x1=\"478\" x2=\"495.5\" y1=\"241.3398\" y2=\"241.3398\"/><text fill=\"#000000\" font-family=\"sans-serif\" font-size=\"11\" lengthAdjust=\"spacingAndGlyphs\" textLength=\"55\" x=\"495.5\" y=\"244.6479\">attributes</text><line style=\"stroke: #383838; stroke-width: 1.0;\" x1=\"550.5\" x2=\"568\" y1=\"241.3398\" y2=\"241.3398\"/></a><!--MD5=[270fce915f116d4de14055a7c1d9a0f3]\n",
       "class E5--><a href=\"psysml:8857df12-96f9-4753-a6e3-dc799dcb9ed4\" target=\"_top\" title=\"psysml:8857df12-96f9-4753-a6e3-dc799dcb9ed4\" xlink:actuate=\"onRequest\" xlink:href=\"psysml:8857df12-96f9-4753-a6e3-dc799dcb9ed4\" xlink:show=\"new\" xlink:title=\"psysml:8857df12-96f9-4753-a6e3-dc799dcb9ed4\" xlink:type=\"simple\"><rect fill=\"#FFFFFF\" height=\"45.9375\" id=\"E5\" style=\"stroke: #383838; stroke-width: 1.5;\" width=\"108\" x=\"120\" y=\"204\"/><text fill=\"#000000\" font-family=\"sans-serif\" font-size=\"12\" font-style=\"italic\" lengthAdjust=\"spacingAndGlyphs\" textLength=\"106\" x=\"121\" y=\"220.1387\">«calculation def»</text><text fill=\"#000000\" font-family=\"sans-serif\" font-size=\"12\" lengthAdjust=\"spacingAndGlyphs\" textLength=\"59\" x=\"144.5\" y=\"234.1074\">MassSum</text><line style=\"stroke: #383838; stroke-width: 1.5;\" x1=\"121\" x2=\"227\" y1=\"241.9375\" y2=\"241.9375\"/></a><!--MD5=[60a26617385b1d2d0262a64233df1f8d]\n",
       "class E6--><a href=\"psysml:1d10ff1d-94f3-4fcc-ad21-5a3c75a7ba0b\" target=\"_top\" title=\"psysml:1d10ff1d-94f3-4fcc-ad21-5a3c75a7ba0b\" xlink:actuate=\"onRequest\" xlink:href=\"psysml:1d10ff1d-94f3-4fcc-ad21-5a3c75a7ba0b\" xlink:show=\"new\" xlink:title=\"psysml:1d10ff1d-94f3-4fcc-ad21-5a3c75a7ba0b\" xlink:type=\"simple\"><rect fill=\"#FFFFFF\" height=\"45.9375\" id=\"E6\" rx=\"10\" ry=\"10\" style=\"stroke: #383838; stroke-width: 1.5;\" width=\"91\" x=\"350.5\" y=\"62\"/><text fill=\"#000000\" font-family=\"sans-serif\" font-size=\"12\" font-style=\"italic\" lengthAdjust=\"spacingAndGlyphs\" textLength=\"82\" x=\"355\" y=\"78.1387\">«calculation»</text><text fill=\"#000000\" font-family=\"sans-serif\" font-size=\"12\" lengthAdjust=\"spacingAndGlyphs\" textLength=\"85\" x=\"353.5\" y=\"92.1074\">ms: MassSum</text><line style=\"stroke: #383838; stroke-width: 1.5;\" x1=\"351.5\" x2=\"440.5\" y1=\"99.9375\" y2=\"99.9375\"/></a><!--MD5=[2156ba9850f5573cc1fc38a6a4b2f02b]\n",
       "class E7--><a href=\"psysml:86e0ef61-a473-4ef3-8b23-ebbfee168e1c\" target=\"_top\" title=\"psysml:86e0ef61-a473-4ef3-8b23-ebbfee168e1c\" xlink:actuate=\"onRequest\" xlink:href=\"psysml:86e0ef61-a473-4ef3-8b23-ebbfee168e1c\" xlink:show=\"new\" xlink:title=\"psysml:86e0ef61-a473-4ef3-8b23-ebbfee168e1c\" xlink:type=\"simple\"><rect fill=\"#FFFFFF\" height=\"88.3516\" id=\"E7\" style=\"stroke: #383838; stroke-width: 1.5;\" width=\"148\" x=\"167\" y=\"41\"/><text fill=\"#000000\" font-family=\"sans-serif\" font-size=\"12\" font-style=\"italic\" lengthAdjust=\"spacingAndGlyphs\" textLength=\"106\" x=\"188\" y=\"57.1387\">«calculation def»</text><text fill=\"#000000\" font-family=\"sans-serif\" font-size=\"12\" lengthAdjust=\"spacingAndGlyphs\" textLength=\"67\" x=\"207.5\" y=\"71.1074\">MassSum1</text><line style=\"stroke: #383838; stroke-width: 1.5;\" x1=\"168\" x2=\"314\" y1=\"78.9375\" y2=\"78.9375\"/><text fill=\"#000000\" font-family=\"sans-serif\" font-size=\"11\" lengthAdjust=\"spacingAndGlyphs\" textLength=\"136\" x=\"173\" y=\"109.9526\">partMasses: MassValue</text><text fill=\"#000000\" font-family=\"sans-serif\" font-size=\"11\" lengthAdjust=\"spacingAndGlyphs\" textLength=\"124\" x=\"173\" y=\"122.7573\">totalMass: MassValue</text><line style=\"stroke: #383838; stroke-width: 1.0;\" x1=\"168\" x2=\"213.5\" y1=\"93.3398\" y2=\"93.3398\"/><text fill=\"#000000\" font-family=\"sans-serif\" font-size=\"11\" lengthAdjust=\"spacingAndGlyphs\" textLength=\"55\" x=\"213.5\" y=\"96.6479\">attributes</text><line style=\"stroke: #383838; stroke-width: 1.0;\" x1=\"268.5\" x2=\"314\" y1=\"93.3398\" y2=\"93.3398\"/></a><!--MD5=[b9389687b975829384b498ac4b7476b2]\n",
       "class E8--><a href=\"psysml:5bbc6089-c972-4222-8f32-76d519ddb8cd\" target=\"_top\" title=\"psysml:5bbc6089-c972-4222-8f32-76d519ddb8cd\" xlink:actuate=\"onRequest\" xlink:href=\"psysml:5bbc6089-c972-4222-8f32-76d519ddb8cd\" xlink:show=\"new\" xlink:title=\"psysml:5bbc6089-c972-4222-8f32-76d519ddb8cd\" xlink:type=\"simple\"><rect fill=\"#FFFFFF\" height=\"88.3516\" id=\"E8\" rx=\"10\" ry=\"10\" style=\"stroke: #383838; stroke-width: 1.5;\" width=\"99\" x=\"32.5\" y=\"41\"/><text fill=\"#000000\" font-family=\"sans-serif\" font-size=\"12\" font-style=\"italic\" lengthAdjust=\"spacingAndGlyphs\" textLength=\"82\" x=\"41\" y=\"57.1387\">«calculation»</text><text fill=\"#000000\" font-family=\"sans-serif\" font-size=\"12\" lengthAdjust=\"spacingAndGlyphs\" textLength=\"93\" x=\"35.5\" y=\"71.1074\">ms1: MassSum</text><line style=\"stroke: #383838; stroke-width: 1.5;\" x1=\"33.5\" x2=\"130.5\" y1=\"78.9375\" y2=\"78.9375\"/><text fill=\"#000000\" font-family=\"sans-serif\" font-size=\"11\" lengthAdjust=\"spacingAndGlyphs\" textLength=\"67\" x=\"38.5\" y=\"109.9526\">partMasses</text><text fill=\"#000000\" font-family=\"sans-serif\" font-size=\"11\" lengthAdjust=\"spacingAndGlyphs\" textLength=\"55\" x=\"38.5\" y=\"122.7573\">totalMass</text><line style=\"stroke: #383838; stroke-width: 1.0;\" x1=\"33.5\" x2=\"54.5\" y1=\"93.3398\" y2=\"93.3398\"/><text fill=\"#000000\" font-family=\"sans-serif\" font-size=\"11\" lengthAdjust=\"spacingAndGlyphs\" textLength=\"55\" x=\"54.5\" y=\"96.6479\">attributes</text><line style=\"stroke: #383838; stroke-width: 1.0;\" x1=\"109.5\" x2=\"130.5\" y1=\"93.3398\" y2=\"93.3398\"/></a><!--MD5=[209b3feb70ccb6233bfe1053d122c12c]\n",
       "reverse link E2 to E3--><a href=\"psysml:5beb719b-2071-4403-a403-a4a2a93a4090\" target=\"_top\" title=\"psysml:5beb719b-2071-4403-a403-a4a2a93a4090\" xlink:actuate=\"onRequest\" xlink:href=\"psysml:5beb719b-2071-4403-a403-a4a2a93a4090\" xlink:show=\"new\" xlink:title=\"psysml:5beb719b-2071-4403-a403-a4a2a93a4090\" xlink:type=\"simple\"><path d=\"M480.41,132.95 C463.95,151.1 445.38,171.57 429.86,188.68 \" fill=\"none\" id=\"E2&lt;-E3\" style=\"stroke: #383838; stroke-width: 1.0;\"/><polygon fill=\"#383838\" points=\"489.3,123.15,482.3052,124.9031,481.2332,132.0341,488.2279,130.281,489.3,123.15\" style=\"stroke: #383838; stroke-width: 1.0;\"/></a><!--MD5=[9618e71518536f8baf3342ff6fdab317]\n",
       "reverse link E2 to E4--><a href=\"psysml:48862a39-11e7-4605-8aed-a0acf63d7872\" target=\"_top\" title=\"psysml:48862a39-11e7-4605-8aed-a0acf63d7872\" xlink:actuate=\"onRequest\" xlink:href=\"psysml:48862a39-11e7-4605-8aed-a0acf63d7872\" xlink:show=\"new\" xlink:title=\"psysml:48862a39-11e7-4605-8aed-a0acf63d7872\" xlink:type=\"simple\"><path d=\"M523,136.25 C523,153.55 523,172.6 523,188.68 \" fill=\"none\" id=\"E2&lt;-E4\" style=\"stroke: #383838; stroke-width: 1.0;\"/><polygon fill=\"#383838\" points=\"523,123.15,519,129.15,523,135.15,527,129.15,523,123.15\" style=\"stroke: #383838; stroke-width: 1.0;\"/></a><!--MD5=[25b190c987b1e74e5126d372c5a73af1]\n",
       "link E6 to E5--><a href=\"psysml:9917c25f-6195-4027-a1da-c593e3e3b530\" target=\"_top\" title=\"psysml:9917c25f-6195-4027-a1da-c593e3e3b530\" xlink:actuate=\"onRequest\" xlink:href=\"psysml:9917c25f-6195-4027-a1da-c593e3e3b530\" xlink:show=\"new\" xlink:title=\"psysml:9917c25f-6195-4027-a1da-c593e3e3b530\" xlink:type=\"simple\"><path d=\"M364.16,108.19 C354.25,114.98 343.23,122.39 333,129 C298.76,151.11 259.69,174.96 228.85,193.48 \" fill=\"none\" id=\"E6-&gt;E5\" style=\"stroke: #383838; stroke-width: 1.0;\"/><polygon fill=\"#FFFFFF\" points=\"211.28,203.99,223.9864,188.2246,231.1775,200.2365,211.28,203.99\" style=\"stroke: #383838; stroke-width: 1.0;\"/><ellipse cx=\"229.9042\" cy=\"187.0127\" fill=\"#383838\" rx=\"2\" ry=\"2\" style=\"stroke: #383838; stroke-width: 1.0;\"/><ellipse cx=\"235.0408\" cy=\"195.5927\" fill=\"#383838\" rx=\"2\" ry=\"2\" style=\"stroke: #383838; stroke-width: 1.0;\"/></a><!--MD5=[1ccb2481ffa92f8d51a74ee30c51832a]\n",
       "link E8 to E5--><a href=\"psysml:bf4de082-8867-4b4d-b459-dc33df5641b4\" target=\"_top\" title=\"psysml:bf4de082-8867-4b4d-b459-dc33df5641b4\" xlink:actuate=\"onRequest\" xlink:href=\"psysml:bf4de082-8867-4b4d-b459-dc33df5641b4\" xlink:show=\"new\" xlink:title=\"psysml:bf4de082-8867-4b4d-b459-dc33df5641b4\" xlink:type=\"simple\"><path d=\"M110.35,129.15 C122.49,147.61 136.55,169.01 148.37,186.99 \" fill=\"none\" id=\"E8-&gt;E5\" style=\"stroke: #383838; stroke-width: 1.0;\"/><polygon fill=\"#FFFFFF\" points=\"159.48,203.91,143.1947,191.8772,154.8939,184.1877,159.48,203.91\" style=\"stroke: #383838; stroke-width: 1.0;\"/><ellipse cx=\"141.7353\" cy=\"186.0155\" fill=\"#383838\" rx=\"2\" ry=\"2\" style=\"stroke: #383838; stroke-width: 1.0;\"/><ellipse cx=\"150.0918\" cy=\"180.523\" fill=\"#383838\" rx=\"2\" ry=\"2\" style=\"stroke: #383838; stroke-width: 1.0;\"/></a><!--MD5=[f613442b520ef0ea4b9dc604add19a08]\n",
       "@startuml\r\n",
       "top to bottom direction\r\n",
       "skinparam monochrome true\r\n",
       "skinparam classbackgroundcolor white\r\n",
       "skinparam shadowing false\r\n",
       "skinparam wrapWidth 300\r\n",
       "hide circle\r\n",
       "\r\n",
       "package \"CalculationExample\" as E1  [[psysml:7249bcac-c63a-48a6-adec-7cf675138100 ]]  {\r\n",
       "comp usage \"vehicle\" as E2  <<(T,blue)part>> [[psysml:14188455-78e6-45cf-9446-0197417271d8 ]] {\r\n",
       "- - attributes - -\r\n",
       "m: MassValue\r\n",
       "}\r\n",
       "comp usage \"eng\" as E3  <<(T,blue)part>> [[psysml:5beb719b-2071-4403-a403-a4a2a93a4090 ]] {\r\n",
       "- - attributes - -\r\n",
       "m: MassValue\r\n",
       "}\r\n",
       "comp usage \"trans\" as E4  <<(T,blue)part>> [[psysml:48862a39-11e7-4605-8aed-a0acf63d7872 ]] {\r\n",
       "- - attributes - -\r\n",
       "m: MassValue\r\n",
       "}\r\n",
       "comp def \"MassSum\" as E5  <<(T,blue)calculation def>> [[psysml:8857df12-96f9-4753-a6e3-dc799dcb9ed4 ]] {\r\n",
       "}\r\n",
       "comp usage \"ms: MassSum\" as E6  <<(T,blue)calculation>> [[psysml:1d10ff1d-94f3-4fcc-ad21-5a3c75a7ba0b ]] {\r\n",
       "}\r\n",
       "comp def \"MassSum1\" as E7  <<(T,blue)calculation def>> [[psysml:86e0ef61-a473-4ef3-8b23-ebbfee168e1c ]] {\r\n",
       "- - attributes - -\r\n",
       "partMasses: MassValue\r\n",
       "totalMass: MassValue\r\n",
       "}\r\n",
       "comp usage \"ms1: MassSum\" as E8  <<(T,blue)calculation>> [[psysml:5bbc6089-c972-4222-8f32-76d519ddb8cd ]] {\r\n",
       "- - attributes - -\r\n",
       "partMasses\r\n",
       "totalMass\r\n",
       "}\r\n",
       "E2 *- - E3 [[psysml:5beb719b-2071-4403-a403-a4a2a93a4090 ]] \r\n",
       "E2 *- - E4 [[psysml:48862a39-11e7-4605-8aed-a0acf63d7872 ]] \r\n",
       "E6 - -:|> E5 [[psysml:9917c25f-6195-4027-a1da-c593e3e3b530 ]] \r\n",
       "E8 - -:|> E5 [[psysml:bf4de082-8867-4b4d-b459-dc33df5641b4 ]] \r\n",
       "}\r\n",
       "@enduml\r\n",
       "\n",
       "PlantUML version 1.2020.13(Sat Jun 13 12:26:38 UTC 2020)\n",
       "(EPL source distribution)\n",
       "Java Runtime: OpenJDK Runtime Environment\n",
       "JVM: OpenJDK 64-Bit Server VM\n",
       "Default Encoding: UTF-8\n",
       "Language: en\n",
       "Country: null\n",
       "--></g></svg>"
      ]
     },
     "execution_count": 45,
     "metadata": {},
     "output_type": "execute_result"
    }
   ],
   "source": [
    "%viz --style=\"TB\" --view=\"Tree\" \"CalculationExample\""
   ]
  },
  {
   "cell_type": "code",
   "execution_count": 46,
   "id": "soviet-memorial",
   "metadata": {
    "execution": {
     "iopub.execute_input": "2021-03-26T09:15:59.977285Z",
     "iopub.status.busy": "2021-03-26T09:15:59.976497Z",
     "iopub.status.idle": "2021-03-26T09:15:59.983568Z",
     "shell.execute_reply": "2021-03-26T09:15:59.982725Z"
    }
   },
   "outputs": [
    {
     "data": {
      "image/svg+xml": [
       "<?xml version=\"1.0\" encoding=\"UTF-8\" standalone=\"no\"?><svg xmlns=\"http://www.w3.org/2000/svg\" xmlns:xlink=\"http://www.w3.org/1999/xlink\" contentScriptType=\"application/ecmascript\" contentStyleType=\"text/css\" height=\"12px\" preserveAspectRatio=\"none\" style=\"width:12px;height:12px;\" version=\"1.1\" viewBox=\"0 0 12 12\" width=\"12px\" zoomAndPan=\"magnify\"><defs/><g><!--MD5=[f4ee21bc66e489b5061b7c3e9601fdef]\n",
       "@startuml\r\n",
       "top to bottom direction\r\n",
       "skinparam monochrome true\r\n",
       "skinparam classbackgroundcolor white\r\n",
       "skinparam shadowing false\r\n",
       "skinparam wrapWidth 300\r\n",
       "hide circle\r\n",
       "\r\n",
       "@enduml\r\n",
       "\n",
       "PlantUML version 1.2020.13(Sat Jun 13 12:26:38 UTC 2020)\n",
       "(EPL source distribution)\n",
       "Java Runtime: OpenJDK Runtime Environment\n",
       "JVM: OpenJDK 64-Bit Server VM\n",
       "Default Encoding: UTF-8\n",
       "Language: en\n",
       "Country: null\n",
       "--></g></svg>"
      ]
     },
     "execution_count": 46,
     "metadata": {},
     "output_type": "execute_result"
    }
   ],
   "source": [
    "%viz --style=\"TB\" --view=\"State\" \"CalculationExample\""
   ]
  },
  {
   "cell_type": "code",
   "execution_count": 47,
   "id": "hearing-hypothesis",
   "metadata": {
    "execution": {
     "iopub.execute_input": "2021-03-26T09:16:00.037371Z",
     "iopub.status.busy": "2021-03-26T09:16:00.036607Z",
     "iopub.status.idle": "2021-03-26T09:16:00.071626Z",
     "shell.execute_reply": "2021-03-26T09:16:00.071011Z"
    }
   },
   "outputs": [
    {
     "data": {
      "image/svg+xml": [
       "<?xml version=\"1.0\" encoding=\"UTF-8\" standalone=\"no\"?><svg xmlns=\"http://www.w3.org/2000/svg\" xmlns:xlink=\"http://www.w3.org/1999/xlink\" contentScriptType=\"application/ecmascript\" contentStyleType=\"text/css\" height=\"246px\" preserveAspectRatio=\"none\" style=\"width:881px;height:246px;\" version=\"1.1\" viewBox=\"0 0 881 246\" width=\"881px\" zoomAndPan=\"magnify\"><defs/><g><!--MD5=[fbc87193dbaf4d95561dea2c320d4a47]\n",
       "cluster E1--><a href=\"psysml:7249bcac-c63a-48a6-adec-7cf675138100\" target=\"_top\" title=\"psysml:7249bcac-c63a-48a6-adec-7cf675138100\" xlink:actuate=\"onRequest\" xlink:href=\"psysml:7249bcac-c63a-48a6-adec-7cf675138100\" xlink:show=\"new\" xlink:title=\"psysml:7249bcac-c63a-48a6-adec-7cf675138100\" xlink:type=\"simple\"><polygon fill=\"#FFFFFF\" points=\"16,6,173,6,180,28.2969,859,28.2969,859,234,16,234,16,6\" style=\"stroke: #000000; stroke-width: 1.5;\"/><line style=\"stroke: #000000; stroke-width: 1.5;\" x1=\"16\" x2=\"180\" y1=\"28.2969\" y2=\"28.2969\"/><text fill=\"#000000\" font-family=\"sans-serif\" font-size=\"14\" font-weight=\"bold\" lengthAdjust=\"spacingAndGlyphs\" textLength=\"151\" x=\"20\" y=\"20.9951\">CalculationExample</text></a><!--MD5=[e4f7fae6ed58524ba242bb0b0d3be6b7]\n",
       "cluster E2--><a href=\"psysml:14188455-78e6-45cf-9446-0197417271d8\" target=\"_top\" title=\"psysml:14188455-78e6-45cf-9446-0197417271d8\" xlink:actuate=\"onRequest\" xlink:href=\"psysml:14188455-78e6-45cf-9446-0197417271d8\" xlink:show=\"new\" xlink:title=\"psysml:14188455-78e6-45cf-9446-0197417271d8\" xlink:type=\"simple\"><rect fill=\"#FFFFFF\" height=\"161\" id=\"E2\" rx=\"10\" ry=\"10\" style=\"stroke: #383838; stroke-width: 1.5;\" width=\"436\" x=\"399\" y=\"49\"/><rect fill=\"#F8F8F8\" height=\"23.9688\" rx=\"10\" ry=\"10\" style=\"stroke: #F8F8F8; stroke-width: 1.5;\" width=\"436\" x=\"399\" y=\"49\"/><rect fill=\"#F8F8F8\" height=\"10\" style=\"stroke: #F8F8F8; stroke-width: 1.5;\" width=\"436\" x=\"399\" y=\"62.9688\"/><rect fill=\"none\" height=\"161\" id=\"E2\" rx=\"10\" ry=\"10\" style=\"stroke: #383838; stroke-width: 1.5;\" width=\"436\" x=\"399\" y=\"49\"/><text fill=\"#000000\" font-family=\"sans-serif\" font-size=\"12\" lengthAdjust=\"spacingAndGlyphs\" textLength=\"43\" x=\"595.5\" y=\"65.1387\">vehicle</text><line style=\"stroke: #383838; stroke-width: 1.0;\" x1=\"399\" x2=\"835\" y1=\"72.9688\" y2=\"72.9688\"/></a><!--MD5=[f6df4d0ebaf0b5dfb2ced0ae5af7c670]\n",
       "cluster E4--><a href=\"psysml:5beb719b-2071-4403-a403-a4a2a93a4090\" target=\"_top\" title=\"psysml:5beb719b-2071-4403-a403-a4a2a93a4090\" xlink:actuate=\"onRequest\" xlink:href=\"psysml:5beb719b-2071-4403-a403-a4a2a93a4090\" xlink:show=\"new\" xlink:title=\"psysml:5beb719b-2071-4403-a403-a4a2a93a4090\" xlink:type=\"simple\"><rect fill=\"#FFFFFF\" height=\"94\" id=\"E4\" rx=\"10\" ry=\"10\" style=\"stroke: #383838; stroke-width: 1.5;\" width=\"128\" x=\"683\" y=\"92\"/><rect fill=\"#F8F8F8\" height=\"23.9688\" rx=\"10\" ry=\"10\" style=\"stroke: #F8F8F8; stroke-width: 1.5;\" width=\"128\" x=\"683\" y=\"92\"/><rect fill=\"#F8F8F8\" height=\"10\" style=\"stroke: #F8F8F8; stroke-width: 1.5;\" width=\"128\" x=\"683\" y=\"105.9688\"/><rect fill=\"none\" height=\"94\" id=\"E4\" rx=\"10\" ry=\"10\" style=\"stroke: #383838; stroke-width: 1.5;\" width=\"128\" x=\"683\" y=\"92\"/><text fill=\"#000000\" font-family=\"sans-serif\" font-size=\"12\" lengthAdjust=\"spacingAndGlyphs\" textLength=\"24\" x=\"735\" y=\"108.1387\">eng</text><line style=\"stroke: #383838; stroke-width: 1.0;\" x1=\"683\" x2=\"811\" y1=\"115.9688\" y2=\"115.9688\"/></a><!--MD5=[14e3b0961a2654348d326746436168a1]\n",
       "cluster E6--><a href=\"psysml:48862a39-11e7-4605-8aed-a0acf63d7872\" target=\"_top\" title=\"psysml:48862a39-11e7-4605-8aed-a0acf63d7872\" xlink:actuate=\"onRequest\" xlink:href=\"psysml:48862a39-11e7-4605-8aed-a0acf63d7872\" xlink:show=\"new\" xlink:title=\"psysml:48862a39-11e7-4605-8aed-a0acf63d7872\" xlink:type=\"simple\"><rect fill=\"#FFFFFF\" height=\"94\" id=\"E6\" rx=\"10\" ry=\"10\" style=\"stroke: #383838; stroke-width: 1.5;\" width=\"128\" x=\"531\" y=\"92\"/><rect fill=\"#F8F8F8\" height=\"23.9688\" rx=\"10\" ry=\"10\" style=\"stroke: #F8F8F8; stroke-width: 1.5;\" width=\"128\" x=\"531\" y=\"92\"/><rect fill=\"#F8F8F8\" height=\"10\" style=\"stroke: #F8F8F8; stroke-width: 1.5;\" width=\"128\" x=\"531\" y=\"105.9688\"/><rect fill=\"none\" height=\"94\" id=\"E6\" rx=\"10\" ry=\"10\" style=\"stroke: #383838; stroke-width: 1.5;\" width=\"128\" x=\"531\" y=\"92\"/><text fill=\"#000000\" font-family=\"sans-serif\" font-size=\"12\" lengthAdjust=\"spacingAndGlyphs\" textLength=\"33\" x=\"578.5\" y=\"108.1387\">trans</text><line style=\"stroke: #383838; stroke-width: 1.0;\" x1=\"531\" x2=\"659\" y1=\"115.9688\" y2=\"115.9688\"/></a><!--MD5=[b9389687b975829384b498ac4b7476b2]\n",
       "class E8--><a href=\"psysml:8857df12-96f9-4753-a6e3-dc799dcb9ed4\" target=\"_top\" title=\"psysml:8857df12-96f9-4753-a6e3-dc799dcb9ed4\" xlink:actuate=\"onRequest\" xlink:href=\"psysml:8857df12-96f9-4753-a6e3-dc799dcb9ed4\" xlink:show=\"new\" xlink:title=\"psysml:8857df12-96f9-4753-a6e3-dc799dcb9ed4\" xlink:type=\"simple\"><rect fill=\"#FFFFFF\" height=\"53.9375\" id=\"E8\" style=\"stroke: #383838; stroke-width: 1.5;\" width=\"156\" x=\"223\" y=\"121.5\"/><text fill=\"#000000\" font-family=\"sans-serif\" font-size=\"12\" font-style=\"italic\" lengthAdjust=\"spacingAndGlyphs\" textLength=\"154\" x=\"224\" y=\"137.6387\">«(T,blue)calculation def»</text><text fill=\"#000000\" font-family=\"sans-serif\" font-size=\"12\" lengthAdjust=\"spacingAndGlyphs\" textLength=\"59\" x=\"271.5\" y=\"151.6074\">MassSum</text><line style=\"stroke: #383838; stroke-width: 1.5;\" x1=\"224\" x2=\"378\" y1=\"159.4375\" y2=\"159.4375\"/><line style=\"stroke: #383838; stroke-width: 1.5;\" x1=\"224\" x2=\"378\" y1=\"167.4375\" y2=\"167.4375\"/></a><!--MD5=[fd4143e9d270a159db93a4ea2a975926]\n",
       "class E9--><a href=\"psysml:86e0ef61-a473-4ef3-8b23-ebbfee168e1c\" target=\"_top\" title=\"psysml:86e0ef61-a473-4ef3-8b23-ebbfee168e1c\" xlink:actuate=\"onRequest\" xlink:href=\"psysml:86e0ef61-a473-4ef3-8b23-ebbfee168e1c\" xlink:show=\"new\" xlink:title=\"psysml:86e0ef61-a473-4ef3-8b23-ebbfee168e1c\" xlink:type=\"simple\"><rect fill=\"#FFFFFF\" height=\"53.9375\" id=\"E9\" style=\"stroke: #383838; stroke-width: 1.5;\" width=\"156\" x=\"32\" y=\"121.5\"/><text fill=\"#000000\" font-family=\"sans-serif\" font-size=\"12\" font-style=\"italic\" lengthAdjust=\"spacingAndGlyphs\" textLength=\"154\" x=\"33\" y=\"137.6387\">«(T,blue)calculation def»</text><text fill=\"#000000\" font-family=\"sans-serif\" font-size=\"12\" lengthAdjust=\"spacingAndGlyphs\" textLength=\"67\" x=\"76.5\" y=\"151.6074\">MassSum1</text><line style=\"stroke: #383838; stroke-width: 1.5;\" x1=\"33\" x2=\"187\" y1=\"159.4375\" y2=\"159.4375\"/><line style=\"stroke: #383838; stroke-width: 1.5;\" x1=\"33\" x2=\"187\" y1=\"167.4375\" y2=\"167.4375\"/></a><g id=\"E1.E2.E3\"><a href=\"psysml:536fae04-334d-4f68-a23e-e57d7170c38b\" target=\"_top\" title=\"psysml:536fae04-334d-4f68-a23e-e57d7170c38b\" xlink:actuate=\"onRequest\" xlink:href=\"psysml:536fae04-334d-4f68-a23e-e57d7170c38b\" xlink:show=\"new\" xlink:title=\"psysml:536fae04-334d-4f68-a23e-e57d7170c38b\" xlink:type=\"simple\"><rect fill=\"#FFFFFF\" height=\"42.9375\" id=\"E3\" rx=\"10\" ry=\"10\" style=\"stroke: #383838; stroke-width: 1.5;\" width=\"97\" x=\"414.5\" y=\"127\"/><rect fill=\"#F8F8F8\" height=\"37.9375\" rx=\"10\" ry=\"10\" style=\"stroke: #F8F8F8; stroke-width: 1.5;\" width=\"97\" x=\"414.5\" y=\"127\"/><rect fill=\"#F8F8F8\" height=\"10\" style=\"stroke: #F8F8F8; stroke-width: 1.5;\" width=\"97\" x=\"414.5\" y=\"154.9375\"/><rect fill=\"none\" height=\"42.9375\" id=\"E3\" rx=\"10\" ry=\"10\" style=\"stroke: #383838; stroke-width: 1.5;\" width=\"97\" x=\"414.5\" y=\"127\"/><text fill=\"#000000\" font-family=\"sans-serif\" font-size=\"12\" font-style=\"italic\" lengthAdjust=\"spacingAndGlyphs\" textLength=\"69\" x=\"428.5\" y=\"143.1387\">«attribute»</text><text fill=\"#000000\" font-family=\"sans-serif\" font-size=\"12\" lengthAdjust=\"spacingAndGlyphs\" textLength=\"86\" x=\"420\" y=\"157.1074\">m: MassValue</text></a></g><g id=\"E1.E2.E4.E5\"><a href=\"psysml:2d8c1579-6ad8-45a7-8b4f-8ac5dd6e770e\" target=\"_top\" title=\"psysml:2d8c1579-6ad8-45a7-8b4f-8ac5dd6e770e\" xlink:actuate=\"onRequest\" xlink:href=\"psysml:2d8c1579-6ad8-45a7-8b4f-8ac5dd6e770e\" xlink:show=\"new\" xlink:title=\"psysml:2d8c1579-6ad8-45a7-8b4f-8ac5dd6e770e\" xlink:type=\"simple\"><rect fill=\"#FFFFFF\" height=\"42.9375\" id=\"E5\" rx=\"10\" ry=\"10\" style=\"stroke: #383838; stroke-width: 1.5;\" width=\"97\" x=\"698.5\" y=\"127\"/><rect fill=\"#F8F8F8\" height=\"37.9375\" rx=\"10\" ry=\"10\" style=\"stroke: #F8F8F8; stroke-width: 1.5;\" width=\"97\" x=\"698.5\" y=\"127\"/><rect fill=\"#F8F8F8\" height=\"10\" style=\"stroke: #F8F8F8; stroke-width: 1.5;\" width=\"97\" x=\"698.5\" y=\"154.9375\"/><rect fill=\"none\" height=\"42.9375\" id=\"E5\" rx=\"10\" ry=\"10\" style=\"stroke: #383838; stroke-width: 1.5;\" width=\"97\" x=\"698.5\" y=\"127\"/><text fill=\"#000000\" font-family=\"sans-serif\" font-size=\"12\" font-style=\"italic\" lengthAdjust=\"spacingAndGlyphs\" textLength=\"69\" x=\"712.5\" y=\"143.1387\">«attribute»</text><text fill=\"#000000\" font-family=\"sans-serif\" font-size=\"12\" lengthAdjust=\"spacingAndGlyphs\" textLength=\"86\" x=\"704\" y=\"157.1074\">m: MassValue</text></a></g><g id=\"E1.E2.E6.E7\"><a href=\"psysml:aae9b164-5c75-4cd2-bd76-7fd4ffe374bb\" target=\"_top\" title=\"psysml:aae9b164-5c75-4cd2-bd76-7fd4ffe374bb\" xlink:actuate=\"onRequest\" xlink:href=\"psysml:aae9b164-5c75-4cd2-bd76-7fd4ffe374bb\" xlink:show=\"new\" xlink:title=\"psysml:aae9b164-5c75-4cd2-bd76-7fd4ffe374bb\" xlink:type=\"simple\"><rect fill=\"#FFFFFF\" height=\"42.9375\" id=\"E7\" rx=\"10\" ry=\"10\" style=\"stroke: #383838; stroke-width: 1.5;\" width=\"97\" x=\"546.5\" y=\"127\"/><rect fill=\"#F8F8F8\" height=\"37.9375\" rx=\"10\" ry=\"10\" style=\"stroke: #F8F8F8; stroke-width: 1.5;\" width=\"97\" x=\"546.5\" y=\"127\"/><rect fill=\"#F8F8F8\" height=\"10\" style=\"stroke: #F8F8F8; stroke-width: 1.5;\" width=\"97\" x=\"546.5\" y=\"154.9375\"/><rect fill=\"none\" height=\"42.9375\" id=\"E7\" rx=\"10\" ry=\"10\" style=\"stroke: #383838; stroke-width: 1.5;\" width=\"97\" x=\"546.5\" y=\"127\"/><text fill=\"#000000\" font-family=\"sans-serif\" font-size=\"12\" font-style=\"italic\" lengthAdjust=\"spacingAndGlyphs\" textLength=\"69\" x=\"560.5\" y=\"143.1387\">«attribute»</text><text fill=\"#000000\" font-family=\"sans-serif\" font-size=\"12\" lengthAdjust=\"spacingAndGlyphs\" textLength=\"86\" x=\"552\" y=\"157.1074\">m: MassValue</text></a></g><!--MD5=[cfacd0e9af75e11cbda743e742b7828c]\n",
       "@startuml\r\n",
       "skinparam ranksep 8\r\n",
       "skinparam rectangle {\r\n",
       " backgroundColor<<block>> LightGreen\r\n",
       "}\r\n",
       "top to bottom direction\r\n",
       "skinparam monochrome true\r\n",
       "skinparam classbackgroundcolor white\r\n",
       "skinparam shadowing false\r\n",
       "skinparam wrapWidth 300\r\n",
       "hide circle\r\n",
       "\r\n",
       "package \"CalculationExample\" as E1  [[psysml:7249bcac-c63a-48a6-adec-7cf675138100 ]]  {\r\n",
       "rec usage \"vehicle\" as E2  [[psysml:14188455-78e6-45cf-9446-0197417271d8 ]] {\r\n",
       "rec usage \"m: MassValue\" as E3  <<(T,blue)attribute>> [[psysml:536fae04-334d-4f68-a23e-e57d7170c38b ]] {\r\n",
       "}\r\n",
       "rec usage \"eng\" as E4  [[psysml:5beb719b-2071-4403-a403-a4a2a93a4090 ]] {\r\n",
       "rec usage \"m: MassValue\" as E5  <<(T,blue)attribute>> [[psysml:2d8c1579-6ad8-45a7-8b4f-8ac5dd6e770e ]] {\r\n",
       "}\r\n",
       "}\r\n",
       "rec usage \"trans\" as E6  [[psysml:48862a39-11e7-4605-8aed-a0acf63d7872 ]] {\r\n",
       "rec usage \"m: MassValue\" as E7  <<(T,blue)attribute>> [[psysml:aae9b164-5c75-4cd2-bd76-7fd4ffe374bb ]] {\r\n",
       "}\r\n",
       "}\r\n",
       "}\r\n",
       "def \"MassSum\" as E8  <<(T,blue)calculation def>> [[psysml:8857df12-96f9-4753-a6e3-dc799dcb9ed4 ]] \r\n",
       "def \"MassSum1\" as E9  <<(T,blue)calculation def>> [[psysml:86e0ef61-a473-4ef3-8b23-ebbfee168e1c ]] \r\n",
       "}\r\n",
       "@enduml\r\n",
       "\n",
       "PlantUML version 1.2020.13(Sat Jun 13 12:26:38 UTC 2020)\n",
       "(EPL source distribution)\n",
       "Java Runtime: OpenJDK Runtime Environment\n",
       "JVM: OpenJDK 64-Bit Server VM\n",
       "Default Encoding: UTF-8\n",
       "Language: en\n",
       "Country: null\n",
       "--></g></svg>"
      ]
     },
     "execution_count": 47,
     "metadata": {},
     "output_type": "execute_result"
    }
   ],
   "source": [
    "%viz --style=\"TB\" --view=\"Interconnection\" \"CalculationExample\""
   ]
  },
  {
   "cell_type": "code",
   "execution_count": 48,
   "id": "coated-duncan",
   "metadata": {
    "execution": {
     "iopub.execute_input": "2021-03-26T09:16:00.123292Z",
     "iopub.status.busy": "2021-03-26T09:16:00.122884Z",
     "iopub.status.idle": "2021-03-26T09:16:00.156788Z",
     "shell.execute_reply": "2021-03-26T09:16:00.155597Z"
    }
   },
   "outputs": [
    {
     "data": {
      "image/svg+xml": [
       "<?xml version=\"1.0\" encoding=\"UTF-8\" standalone=\"no\"?><svg xmlns=\"http://www.w3.org/2000/svg\" xmlns:xlink=\"http://www.w3.org/1999/xlink\" contentScriptType=\"application/ecmascript\" contentStyleType=\"text/css\" height=\"162px\" preserveAspectRatio=\"none\" style=\"width:676px;height:162px;\" version=\"1.1\" viewBox=\"0 0 676 162\" width=\"676px\" zoomAndPan=\"magnify\"><defs/><g><!--MD5=[fbc87193dbaf4d95561dea2c320d4a47]\n",
       "cluster E1--><a href=\"psysml:8857df12-96f9-4753-a6e3-dc799dcb9ed4\" target=\"_top\" title=\"psysml:8857df12-96f9-4753-a6e3-dc799dcb9ed4\" xlink:actuate=\"onRequest\" xlink:href=\"psysml:8857df12-96f9-4753-a6e3-dc799dcb9ed4\" xlink:show=\"new\" xlink:title=\"psysml:8857df12-96f9-4753-a6e3-dc799dcb9ed4\" xlink:type=\"simple\"><rect fill=\"#FFFFFF\" height=\"87.72\" id=\"E1\" style=\"stroke: #383838; stroke-width: 1.5;\" width=\"128\" x=\"28\" y=\"42.0986\"/><rect fill=\"#F8F8F8\" height=\"37.9375\" style=\"stroke: #383838; stroke-width: 1.5;\" width=\"128\" x=\"28\" y=\"42.0986\"/><text fill=\"#000000\" font-family=\"sans-serif\" font-size=\"12\" font-style=\"italic\" lengthAdjust=\"spacingAndGlyphs\" textLength=\"106\" x=\"39\" y=\"58.2373\">«calculation def»</text><text fill=\"#000000\" font-family=\"sans-serif\" font-size=\"12\" lengthAdjust=\"spacingAndGlyphs\" textLength=\"59\" x=\"62.5\" y=\"72.2061\">MassSum</text></a><!--MD5=[14e3b0961a2654348d326746436168a1]\n",
       "cluster E6--><a href=\"psysml:1d10ff1d-94f3-4fcc-ad21-5a3c75a7ba0b\" target=\"_top\" title=\"psysml:1d10ff1d-94f3-4fcc-ad21-5a3c75a7ba0b\" xlink:actuate=\"onRequest\" xlink:href=\"psysml:1d10ff1d-94f3-4fcc-ad21-5a3c75a7ba0b\" xlink:show=\"new\" xlink:title=\"psysml:1d10ff1d-94f3-4fcc-ad21-5a3c75a7ba0b\" xlink:type=\"simple\"><rect fill=\"#FFFFFF\" height=\"87.72\" id=\"E6\" rx=\"10\" ry=\"10\" style=\"stroke: #383838; stroke-width: 1.5;\" width=\"101\" x=\"251.75\" y=\"42.0986\"/><rect fill=\"#F8F8F8\" height=\"37.9375\" rx=\"10\" ry=\"10\" style=\"stroke: #F8F8F8; stroke-width: 1.5;\" width=\"101\" x=\"251.75\" y=\"42.0986\"/><rect fill=\"#F8F8F8\" height=\"10\" style=\"stroke: #F8F8F8; stroke-width: 1.5;\" width=\"101\" x=\"251.75\" y=\"70.0361\"/><rect fill=\"none\" height=\"87.72\" id=\"E6\" rx=\"10\" ry=\"10\" style=\"stroke: #383838; stroke-width: 1.5;\" width=\"101\" x=\"251.75\" y=\"42.0986\"/><text fill=\"#000000\" font-family=\"sans-serif\" font-size=\"12\" font-style=\"italic\" lengthAdjust=\"spacingAndGlyphs\" textLength=\"82\" x=\"261.25\" y=\"58.2373\">«calculation»</text><text fill=\"#000000\" font-family=\"sans-serif\" font-size=\"12\" lengthAdjust=\"spacingAndGlyphs\" textLength=\"18\" x=\"293.25\" y=\"72.2061\">ms</text><line style=\"stroke: #383838; stroke-width: 1.0;\" x1=\"251.75\" x2=\"352.75\" y1=\"80.0361\" y2=\"80.0361\"/></a><!--MD5=[7f149f147074ac12df2cb0a7728a5fb0]\n",
       "cluster E9--><a href=\"psysml:86e0ef61-a473-4ef3-8b23-ebbfee168e1c\" target=\"_top\" title=\"psysml:86e0ef61-a473-4ef3-8b23-ebbfee168e1c\" xlink:actuate=\"onRequest\" xlink:href=\"psysml:86e0ef61-a473-4ef3-8b23-ebbfee168e1c\" xlink:show=\"new\" xlink:title=\"psysml:86e0ef61-a473-4ef3-8b23-ebbfee168e1c\" xlink:type=\"simple\"><rect fill=\"#FFFFFF\" height=\"87.72\" id=\"E9\" style=\"stroke: #383838; stroke-width: 1.5;\" width=\"127\" x=\"410.25\" y=\"42.0986\"/><rect fill=\"#F8F8F8\" height=\"37.9375\" style=\"stroke: #383838; stroke-width: 1.5;\" width=\"127\" x=\"410.25\" y=\"42.0986\"/><text fill=\"#000000\" font-family=\"sans-serif\" font-size=\"12\" font-style=\"italic\" lengthAdjust=\"spacingAndGlyphs\" textLength=\"106\" x=\"420.75\" y=\"58.2373\">«calculation def»</text><text fill=\"#000000\" font-family=\"sans-serif\" font-size=\"12\" lengthAdjust=\"spacingAndGlyphs\" textLength=\"67\" x=\"440.25\" y=\"72.2061\">MassSum1</text></a><!--MD5=[47bea60c1a0ac6c1143df232041969c0]\n",
       "cluster E12--><a href=\"psysml:5bbc6089-c972-4222-8f32-76d519ddb8cd\" target=\"_top\" title=\"psysml:5bbc6089-c972-4222-8f32-76d519ddb8cd\" xlink:actuate=\"onRequest\" xlink:href=\"psysml:5bbc6089-c972-4222-8f32-76d519ddb8cd\" xlink:show=\"new\" xlink:title=\"psysml:5bbc6089-c972-4222-8f32-76d519ddb8cd\" xlink:type=\"simple\"><rect fill=\"#FFFFFF\" height=\"87.72\" id=\"E12\" rx=\"10\" ry=\"10\" style=\"stroke: #383838; stroke-width: 1.5;\" width=\"138\" x=\"526\" y=\"42.0986\"/><rect fill=\"#F8F8F8\" height=\"37.9375\" rx=\"10\" ry=\"10\" style=\"stroke: #F8F8F8; stroke-width: 1.5;\" width=\"138\" x=\"526\" y=\"42.0986\"/><rect fill=\"#F8F8F8\" height=\"10\" style=\"stroke: #F8F8F8; stroke-width: 1.5;\" width=\"138\" x=\"526\" y=\"70.0361\"/><rect fill=\"none\" height=\"87.72\" id=\"E12\" rx=\"10\" ry=\"10\" style=\"stroke: #383838; stroke-width: 1.5;\" width=\"138\" x=\"526\" y=\"42.0986\"/><text fill=\"#000000\" font-family=\"sans-serif\" font-size=\"12\" font-style=\"italic\" lengthAdjust=\"spacingAndGlyphs\" textLength=\"82\" x=\"554\" y=\"58.2373\">«calculation»</text><text fill=\"#000000\" font-family=\"sans-serif\" font-size=\"12\" lengthAdjust=\"spacingAndGlyphs\" textLength=\"26\" x=\"582\" y=\"72.2061\">ms1</text><line style=\"stroke: #383838; stroke-width: 1.0;\" x1=\"526\" x2=\"664\" y1=\"80.0361\" y2=\"80.0361\"/></a><text fill=\"#000000\" font-family=\"sans-serif\" font-size=\"14\" lengthAdjust=\"spacingAndGlyphs\" textLength=\"80\" x=\"6\" y=\"20.7969\">partMasses</text><rect fill=\"#383838\" height=\"12\" style=\"stroke: #F8F8F8; stroke-width: 1.5;\" width=\"12\" x=\"40\" y=\"36.0986\"/><text fill=\"#000000\" font-family=\"sans-serif\" font-size=\"14\" lengthAdjust=\"spacingAndGlyphs\" textLength=\"66\" x=\"54\" y=\"148.8138\">totalMass</text><rect fill=\"#383838\" height=\"12\" style=\"stroke: #F8F8F8; stroke-width: 1.5;\" width=\"12\" x=\"81\" y=\"123.8186\"/><text fill=\"#000000\" font-family=\"sans-serif\" font-size=\"14\" lengthAdjust=\"spacingAndGlyphs\" textLength=\"75\" x=\"100.5\" y=\"20.7969\">$collection</text><rect fill=\"#383838\" height=\"12\" style=\"stroke: #F8F8F8; stroke-width: 1.5;\" width=\"12\" x=\"132\" y=\"36.0986\"/><text fill=\"#000000\" font-family=\"sans-serif\" font-size=\"14\" lengthAdjust=\"spacingAndGlyphs\" textLength=\"48\" x=\"110\" y=\"148.8138\">$result</text><rect fill=\"#383838\" height=\"12\" style=\"stroke: #F8F8F8; stroke-width: 1.5;\" width=\"12\" x=\"128\" y=\"123.8186\"/><text fill=\"#000000\" font-family=\"sans-serif\" font-size=\"14\" lengthAdjust=\"spacingAndGlyphs\" textLength=\"80\" x=\"235\" y=\"20.7969\">partMasses</text><rect fill=\"#383838\" height=\"12\" style=\"stroke: #F8F8F8; stroke-width: 1.5;\" width=\"12\" x=\"269\" y=\"36.0986\"/><text fill=\"#000000\" font-family=\"sans-serif\" font-size=\"14\" lengthAdjust=\"spacingAndGlyphs\" textLength=\"66\" x=\"238\" y=\"148.8138\">totalMass</text><rect fill=\"#383838\" height=\"12\" style=\"stroke: #F8F8F8; stroke-width: 1.5;\" width=\"12\" x=\"265\" y=\"123.8186\"/><text fill=\"#000000\" font-family=\"sans-serif\" font-size=\"14\" lengthAdjust=\"spacingAndGlyphs\" textLength=\"80\" x=\"395\" y=\"20.7969\">partMasses</text><rect fill=\"#383838\" height=\"12\" style=\"stroke: #F8F8F8; stroke-width: 1.5;\" width=\"12\" x=\"429\" y=\"36.0986\"/><text fill=\"#000000\" font-family=\"sans-serif\" font-size=\"14\" lengthAdjust=\"spacingAndGlyphs\" textLength=\"66\" x=\"398\" y=\"148.8138\">totalMass</text><rect fill=\"#383838\" height=\"12\" style=\"stroke: #F8F8F8; stroke-width: 1.5;\" width=\"12\" x=\"425\" y=\"123.8186\"/><text fill=\"#000000\" font-family=\"sans-serif\" font-size=\"14\" lengthAdjust=\"spacingAndGlyphs\" textLength=\"80\" x=\"555\" y=\"20.7969\">partMasses</text><rect fill=\"#383838\" height=\"12\" style=\"stroke: #F8F8F8; stroke-width: 1.5;\" width=\"12\" x=\"589\" y=\"36.0986\"/><text fill=\"#000000\" font-family=\"sans-serif\" font-size=\"14\" lengthAdjust=\"spacingAndGlyphs\" textLength=\"66\" x=\"562\" y=\"148.8138\">totalMass</text><rect fill=\"#383838\" height=\"12\" style=\"stroke: #F8F8F8; stroke-width: 1.5;\" width=\"12\" x=\"589\" y=\"123.8186\"/><!--MD5=[0188b64bb0ae78505a997a81836e11e9]\n",
       "link E3 to E5--><a href=\"psysml:5b55f712-f9b6-4e15-aeab-345c960b0653\" target=\"_top\" title=\"psysml:5b55f712-f9b6-4e15-aeab-345c960b0653\" xlink:actuate=\"onRequest\" xlink:href=\"psysml:5b55f712-f9b6-4e15-aeab-345c960b0653\" xlink:show=\"new\" xlink:title=\"psysml:5b55f712-f9b6-4e15-aeab-345c960b0653\" xlink:type=\"simple\"><path d=\"M93.24,127.7486 C104.81,124.4886 116.38,124.5086 127.95,127.7986 \" fill=\"none\" id=\"E3-E5\" style=\"stroke: #383838; stroke-width: 5.0;\"/></a><!--MD5=[a7d7bdb5c145e0e7933cf86230134c4d]\n",
       "@startuml\r\n",
       "skinparam ranksep 8\r\n",
       "top to bottom direction\r\n",
       "skinparam monochrome true\r\n",
       "skinparam classbackgroundcolor white\r\n",
       "skinparam shadowing false\r\n",
       "skinparam wrapWidth 300\r\n",
       "hide circle\r\n",
       "\r\n",
       "rec def \"MassSum\" as E1  <<(T,blue)calculation def>> [[psysml:8857df12-96f9-4753-a6e3-dc799dcb9ed4 ]] {\r\n",
       "portin \"partMasses\" as E2  [[psysml:8ae5fd16-1397-4172-a6e5-0c084d8d7ca2 ]] \r\n",
       "portout \"totalMass\" as E3  [[psysml:5f15c55d-7a56-4485-be6d-5834d49cebc1 ]] \r\n",
       "portin \"$collection\" as E4  [[psysml:61806866-d159-447e-b132-fa56be682adf ]] \r\n",
       "portout \"$result\" as E5  [[psysml:6ddb7e29-61e7-4184-8db5-61f90a0c49bf ]] \r\n",
       "}\r\n",
       "\r\n",
       "E3 -[thickness=5]- E5 [[psysml:5b55f712-f9b6-4e15-aeab-345c960b0653 ]] \r\n",
       "rec usage \"ms\" as E6  <<(T,blue)calculation>> [[psysml:1d10ff1d-94f3-4fcc-ad21-5a3c75a7ba0b ]] {\r\n",
       "portin \"partMasses\" as E7  [[psysml:a2c0aed5-a65e-46d5-90c0-ba8b1517610c ]] \r\n",
       "portout \"totalMass\" as E8  [[psysml:76889a80-c5e0-422b-b2ce-fdc6eabdf747 ]] \r\n",
       "}\r\n",
       "\r\n",
       "rec def \"MassSum1\" as E9  <<(T,blue)calculation def>> [[psysml:86e0ef61-a473-4ef3-8b23-ebbfee168e1c ]] {\r\n",
       "portin \"partMasses\" as E10  [[psysml:44765cb5-91e3-4973-8d66-b6f2e5bbf87d ]] \r\n",
       "portout \"totalMass\" as E11  [[psysml:8a0a1f2d-4441-4a8a-b849-a96ed87f36a5 ]] \r\n",
       "}\r\n",
       "\r\n",
       "rec usage \"ms1\" as E12  <<(T,blue)calculation>> [[psysml:5bbc6089-c972-4222-8f32-76d519ddb8cd ]] {\r\n",
       "portin \"partMasses\" as E13  [[psysml:bceb4c61-ae51-43e8-95f6-5db7102a1a6d ]] \r\n",
       "portout \"totalMass\" as E14  [[psysml:18f22934-19d9-4087-8718-e35a3f9b5ce2 ]] \r\n",
       "}\r\n",
       "\r\n",
       "@enduml\r\n",
       "\n",
       "PlantUML version 1.2020.13(Sat Jun 13 12:26:38 UTC 2020)\n",
       "(EPL source distribution)\n",
       "Java Runtime: OpenJDK Runtime Environment\n",
       "JVM: OpenJDK 64-Bit Server VM\n",
       "Default Encoding: UTF-8\n",
       "Language: en\n",
       "Country: null\n",
       "--></g></svg>"
      ]
     },
     "execution_count": 48,
     "metadata": {},
     "output_type": "execute_result"
    }
   ],
   "source": [
    "%viz --style=\"TB\" --view=\"Action\" \"CalculationExample\""
   ]
  },
  {
   "cell_type": "code",
   "execution_count": 49,
   "id": "discrete-bubble",
   "metadata": {
    "execution": {
     "iopub.execute_input": "2021-03-26T09:16:00.208565Z",
     "iopub.status.busy": "2021-03-26T09:16:00.207778Z",
     "iopub.status.idle": "2021-03-26T09:16:00.306162Z",
     "shell.execute_reply": "2021-03-26T09:16:00.304755Z"
    }
   },
   "outputs": [
    {
     "data": {
      "image/svg+xml": [
       "<?xml version=\"1.0\" encoding=\"UTF-8\" standalone=\"no\"?><svg xmlns=\"http://www.w3.org/2000/svg\" xmlns:xlink=\"http://www.w3.org/1999/xlink\" contentScriptType=\"application/ecmascript\" contentStyleType=\"text/css\" height=\"293px\" preserveAspectRatio=\"none\" style=\"width:607px;height:293px;\" version=\"1.1\" viewBox=\"0 0 607 293\" width=\"607px\" zoomAndPan=\"magnify\"><defs/><g><!--MD5=[fbc87193dbaf4d95561dea2c320d4a47]\n",
       "cluster E1--><a href=\"psysml:7249bcac-c63a-48a6-adec-7cf675138100\" target=\"_top\" title=\"psysml:7249bcac-c63a-48a6-adec-7cf675138100\" xlink:actuate=\"onRequest\" xlink:href=\"psysml:7249bcac-c63a-48a6-adec-7cf675138100\" xlink:show=\"new\" xlink:title=\"psysml:7249bcac-c63a-48a6-adec-7cf675138100\" xlink:type=\"simple\"><polygon fill=\"#FFFFFF\" points=\"16,6,173,6,180,28.2969,585,28.2969,585,281,16,281,16,6\" style=\"stroke: #000000; stroke-width: 1.5;\"/><line style=\"stroke: #000000; stroke-width: 1.5;\" x1=\"16\" x2=\"180\" y1=\"28.2969\" y2=\"28.2969\"/><text fill=\"#000000\" font-family=\"sans-serif\" font-size=\"14\" font-weight=\"bold\" lengthAdjust=\"spacingAndGlyphs\" textLength=\"151\" x=\"20\" y=\"20.9951\">CalculationExample</text></a><!--MD5=[b4997ac47864f28c2f74865a473b2911]\n",
       "class E2--><a href=\"psysml:14188455-78e6-45cf-9446-0197417271d8\" target=\"_top\" title=\"psysml:14188455-78e6-45cf-9446-0197417271d8\" xlink:actuate=\"onRequest\" xlink:href=\"psysml:14188455-78e6-45cf-9446-0197417271d8\" xlink:show=\"new\" xlink:title=\"psysml:14188455-78e6-45cf-9446-0197417271d8\" xlink:type=\"simple\"><rect fill=\"#FFFFFF\" height=\"75.5469\" id=\"E2\" rx=\"10\" ry=\"10\" style=\"stroke: #383838; stroke-width: 1.5;\" width=\"92\" x=\"477\" y=\"47\"/><text fill=\"#000000\" font-family=\"sans-serif\" font-size=\"12\" font-style=\"italic\" lengthAdjust=\"spacingAndGlyphs\" textLength=\"40\" x=\"503\" y=\"63.1387\">«part»</text><text fill=\"#000000\" font-family=\"sans-serif\" font-size=\"12\" lengthAdjust=\"spacingAndGlyphs\" textLength=\"43\" x=\"501.5\" y=\"77.1074\">vehicle</text><line style=\"stroke: #383838; stroke-width: 1.5;\" x1=\"478\" x2=\"568\" y1=\"84.9375\" y2=\"84.9375\"/><text fill=\"#000000\" font-family=\"sans-serif\" font-size=\"11\" lengthAdjust=\"spacingAndGlyphs\" textLength=\"80\" x=\"483\" y=\"115.9526\">m: MassValue</text><line style=\"stroke: #383838; stroke-width: 1.0;\" x1=\"478\" x2=\"495.5\" y1=\"99.3398\" y2=\"99.3398\"/><text fill=\"#000000\" font-family=\"sans-serif\" font-size=\"11\" lengthAdjust=\"spacingAndGlyphs\" textLength=\"55\" x=\"495.5\" y=\"102.6479\">attributes</text><line style=\"stroke: #383838; stroke-width: 1.0;\" x1=\"550.5\" x2=\"568\" y1=\"99.3398\" y2=\"99.3398\"/></a><!--MD5=[09b614a08d8cba4a07c9adeb5e0fee81]\n",
       "class E3--><a href=\"psysml:5beb719b-2071-4403-a403-a4a2a93a4090\" target=\"_top\" title=\"psysml:5beb719b-2071-4403-a403-a4a2a93a4090\" xlink:actuate=\"onRequest\" xlink:href=\"psysml:5beb719b-2071-4403-a403-a4a2a93a4090\" xlink:show=\"new\" xlink:title=\"psysml:5beb719b-2071-4403-a403-a4a2a93a4090\" xlink:type=\"simple\"><rect fill=\"#FFFFFF\" height=\"75.5469\" id=\"E3\" rx=\"10\" ry=\"10\" style=\"stroke: #383838; stroke-width: 1.5;\" width=\"92\" x=\"350\" y=\"189\"/><text fill=\"#000000\" font-family=\"sans-serif\" font-size=\"12\" font-style=\"italic\" lengthAdjust=\"spacingAndGlyphs\" textLength=\"40\" x=\"376\" y=\"205.1387\">«part»</text><text fill=\"#000000\" font-family=\"sans-serif\" font-size=\"12\" lengthAdjust=\"spacingAndGlyphs\" textLength=\"24\" x=\"384\" y=\"219.1074\">eng</text><line style=\"stroke: #383838; stroke-width: 1.5;\" x1=\"351\" x2=\"441\" y1=\"226.9375\" y2=\"226.9375\"/><text fill=\"#000000\" font-family=\"sans-serif\" font-size=\"11\" lengthAdjust=\"spacingAndGlyphs\" textLength=\"80\" x=\"356\" y=\"257.9526\">m: MassValue</text><line style=\"stroke: #383838; stroke-width: 1.0;\" x1=\"351\" x2=\"368.5\" y1=\"241.3398\" y2=\"241.3398\"/><text fill=\"#000000\" font-family=\"sans-serif\" font-size=\"11\" lengthAdjust=\"spacingAndGlyphs\" textLength=\"55\" x=\"368.5\" y=\"244.6479\">attributes</text><line style=\"stroke: #383838; stroke-width: 1.0;\" x1=\"423.5\" x2=\"441\" y1=\"241.3398\" y2=\"241.3398\"/></a><!--MD5=[ebbe1d658d1005bcc118a6aa81145e00]\n",
       "class E4--><a href=\"psysml:48862a39-11e7-4605-8aed-a0acf63d7872\" target=\"_top\" title=\"psysml:48862a39-11e7-4605-8aed-a0acf63d7872\" xlink:actuate=\"onRequest\" xlink:href=\"psysml:48862a39-11e7-4605-8aed-a0acf63d7872\" xlink:show=\"new\" xlink:title=\"psysml:48862a39-11e7-4605-8aed-a0acf63d7872\" xlink:type=\"simple\"><rect fill=\"#FFFFFF\" height=\"75.5469\" id=\"E4\" rx=\"10\" ry=\"10\" style=\"stroke: #383838; stroke-width: 1.5;\" width=\"92\" x=\"477\" y=\"189\"/><text fill=\"#000000\" font-family=\"sans-serif\" font-size=\"12\" font-style=\"italic\" lengthAdjust=\"spacingAndGlyphs\" textLength=\"40\" x=\"503\" y=\"205.1387\">«part»</text><text fill=\"#000000\" font-family=\"sans-serif\" font-size=\"12\" lengthAdjust=\"spacingAndGlyphs\" textLength=\"33\" x=\"506.5\" y=\"219.1074\">trans</text><line style=\"stroke: #383838; stroke-width: 1.5;\" x1=\"478\" x2=\"568\" y1=\"226.9375\" y2=\"226.9375\"/><text fill=\"#000000\" font-family=\"sans-serif\" font-size=\"11\" lengthAdjust=\"spacingAndGlyphs\" textLength=\"80\" x=\"483\" y=\"257.9526\">m: MassValue</text><line style=\"stroke: #383838; stroke-width: 1.0;\" x1=\"478\" x2=\"495.5\" y1=\"241.3398\" y2=\"241.3398\"/><text fill=\"#000000\" font-family=\"sans-serif\" font-size=\"11\" lengthAdjust=\"spacingAndGlyphs\" textLength=\"55\" x=\"495.5\" y=\"244.6479\">attributes</text><line style=\"stroke: #383838; stroke-width: 1.0;\" x1=\"550.5\" x2=\"568\" y1=\"241.3398\" y2=\"241.3398\"/></a><!--MD5=[270fce915f116d4de14055a7c1d9a0f3]\n",
       "class E5--><a href=\"psysml:8857df12-96f9-4753-a6e3-dc799dcb9ed4\" target=\"_top\" title=\"psysml:8857df12-96f9-4753-a6e3-dc799dcb9ed4\" xlink:actuate=\"onRequest\" xlink:href=\"psysml:8857df12-96f9-4753-a6e3-dc799dcb9ed4\" xlink:show=\"new\" xlink:title=\"psysml:8857df12-96f9-4753-a6e3-dc799dcb9ed4\" xlink:type=\"simple\"><rect fill=\"#FFFFFF\" height=\"45.9375\" id=\"E5\" style=\"stroke: #383838; stroke-width: 1.5;\" width=\"108\" x=\"120\" y=\"204\"/><text fill=\"#000000\" font-family=\"sans-serif\" font-size=\"12\" font-style=\"italic\" lengthAdjust=\"spacingAndGlyphs\" textLength=\"106\" x=\"121\" y=\"220.1387\">«calculation def»</text><text fill=\"#000000\" font-family=\"sans-serif\" font-size=\"12\" lengthAdjust=\"spacingAndGlyphs\" textLength=\"59\" x=\"144.5\" y=\"234.1074\">MassSum</text><line style=\"stroke: #383838; stroke-width: 1.5;\" x1=\"121\" x2=\"227\" y1=\"241.9375\" y2=\"241.9375\"/></a><!--MD5=[60a26617385b1d2d0262a64233df1f8d]\n",
       "class E6--><a href=\"psysml:1d10ff1d-94f3-4fcc-ad21-5a3c75a7ba0b\" target=\"_top\" title=\"psysml:1d10ff1d-94f3-4fcc-ad21-5a3c75a7ba0b\" xlink:actuate=\"onRequest\" xlink:href=\"psysml:1d10ff1d-94f3-4fcc-ad21-5a3c75a7ba0b\" xlink:show=\"new\" xlink:title=\"psysml:1d10ff1d-94f3-4fcc-ad21-5a3c75a7ba0b\" xlink:type=\"simple\"><rect fill=\"#FFFFFF\" height=\"45.9375\" id=\"E6\" rx=\"10\" ry=\"10\" style=\"stroke: #383838; stroke-width: 1.5;\" width=\"91\" x=\"350.5\" y=\"62\"/><text fill=\"#000000\" font-family=\"sans-serif\" font-size=\"12\" font-style=\"italic\" lengthAdjust=\"spacingAndGlyphs\" textLength=\"82\" x=\"355\" y=\"78.1387\">«calculation»</text><text fill=\"#000000\" font-family=\"sans-serif\" font-size=\"12\" lengthAdjust=\"spacingAndGlyphs\" textLength=\"85\" x=\"353.5\" y=\"92.1074\">ms: MassSum</text><line style=\"stroke: #383838; stroke-width: 1.5;\" x1=\"351.5\" x2=\"440.5\" y1=\"99.9375\" y2=\"99.9375\"/></a><!--MD5=[2156ba9850f5573cc1fc38a6a4b2f02b]\n",
       "class E7--><a href=\"psysml:86e0ef61-a473-4ef3-8b23-ebbfee168e1c\" target=\"_top\" title=\"psysml:86e0ef61-a473-4ef3-8b23-ebbfee168e1c\" xlink:actuate=\"onRequest\" xlink:href=\"psysml:86e0ef61-a473-4ef3-8b23-ebbfee168e1c\" xlink:show=\"new\" xlink:title=\"psysml:86e0ef61-a473-4ef3-8b23-ebbfee168e1c\" xlink:type=\"simple\"><rect fill=\"#FFFFFF\" height=\"88.3516\" id=\"E7\" style=\"stroke: #383838; stroke-width: 1.5;\" width=\"148\" x=\"167\" y=\"41\"/><text fill=\"#000000\" font-family=\"sans-serif\" font-size=\"12\" font-style=\"italic\" lengthAdjust=\"spacingAndGlyphs\" textLength=\"106\" x=\"188\" y=\"57.1387\">«calculation def»</text><text fill=\"#000000\" font-family=\"sans-serif\" font-size=\"12\" lengthAdjust=\"spacingAndGlyphs\" textLength=\"67\" x=\"207.5\" y=\"71.1074\">MassSum1</text><line style=\"stroke: #383838; stroke-width: 1.5;\" x1=\"168\" x2=\"314\" y1=\"78.9375\" y2=\"78.9375\"/><text fill=\"#000000\" font-family=\"sans-serif\" font-size=\"11\" lengthAdjust=\"spacingAndGlyphs\" textLength=\"136\" x=\"173\" y=\"109.9526\">partMasses: MassValue</text><text fill=\"#000000\" font-family=\"sans-serif\" font-size=\"11\" lengthAdjust=\"spacingAndGlyphs\" textLength=\"124\" x=\"173\" y=\"122.7573\">totalMass: MassValue</text><line style=\"stroke: #383838; stroke-width: 1.0;\" x1=\"168\" x2=\"213.5\" y1=\"93.3398\" y2=\"93.3398\"/><text fill=\"#000000\" font-family=\"sans-serif\" font-size=\"11\" lengthAdjust=\"spacingAndGlyphs\" textLength=\"55\" x=\"213.5\" y=\"96.6479\">attributes</text><line style=\"stroke: #383838; stroke-width: 1.0;\" x1=\"268.5\" x2=\"314\" y1=\"93.3398\" y2=\"93.3398\"/></a><!--MD5=[b9389687b975829384b498ac4b7476b2]\n",
       "class E8--><a href=\"psysml:5bbc6089-c972-4222-8f32-76d519ddb8cd\" target=\"_top\" title=\"psysml:5bbc6089-c972-4222-8f32-76d519ddb8cd\" xlink:actuate=\"onRequest\" xlink:href=\"psysml:5bbc6089-c972-4222-8f32-76d519ddb8cd\" xlink:show=\"new\" xlink:title=\"psysml:5bbc6089-c972-4222-8f32-76d519ddb8cd\" xlink:type=\"simple\"><rect fill=\"#FFFFFF\" height=\"88.3516\" id=\"E8\" rx=\"10\" ry=\"10\" style=\"stroke: #383838; stroke-width: 1.5;\" width=\"99\" x=\"32.5\" y=\"41\"/><text fill=\"#000000\" font-family=\"sans-serif\" font-size=\"12\" font-style=\"italic\" lengthAdjust=\"spacingAndGlyphs\" textLength=\"82\" x=\"41\" y=\"57.1387\">«calculation»</text><text fill=\"#000000\" font-family=\"sans-serif\" font-size=\"12\" lengthAdjust=\"spacingAndGlyphs\" textLength=\"93\" x=\"35.5\" y=\"71.1074\">ms1: MassSum</text><line style=\"stroke: #383838; stroke-width: 1.5;\" x1=\"33.5\" x2=\"130.5\" y1=\"78.9375\" y2=\"78.9375\"/><text fill=\"#000000\" font-family=\"sans-serif\" font-size=\"11\" lengthAdjust=\"spacingAndGlyphs\" textLength=\"67\" x=\"38.5\" y=\"109.9526\">partMasses</text><text fill=\"#000000\" font-family=\"sans-serif\" font-size=\"11\" lengthAdjust=\"spacingAndGlyphs\" textLength=\"55\" x=\"38.5\" y=\"122.7573\">totalMass</text><line style=\"stroke: #383838; stroke-width: 1.0;\" x1=\"33.5\" x2=\"54.5\" y1=\"93.3398\" y2=\"93.3398\"/><text fill=\"#000000\" font-family=\"sans-serif\" font-size=\"11\" lengthAdjust=\"spacingAndGlyphs\" textLength=\"55\" x=\"54.5\" y=\"96.6479\">attributes</text><line style=\"stroke: #383838; stroke-width: 1.0;\" x1=\"109.5\" x2=\"130.5\" y1=\"93.3398\" y2=\"93.3398\"/></a><!--MD5=[209b3feb70ccb6233bfe1053d122c12c]\n",
       "reverse link E2 to E3--><a href=\"psysml:5beb719b-2071-4403-a403-a4a2a93a4090\" target=\"_top\" title=\"psysml:5beb719b-2071-4403-a403-a4a2a93a4090\" xlink:actuate=\"onRequest\" xlink:href=\"psysml:5beb719b-2071-4403-a403-a4a2a93a4090\" xlink:show=\"new\" xlink:title=\"psysml:5beb719b-2071-4403-a403-a4a2a93a4090\" xlink:type=\"simple\"><path d=\"M480.41,132.95 C463.95,151.1 445.38,171.57 429.86,188.68 \" fill=\"none\" id=\"E2&lt;-E3\" style=\"stroke: #383838; stroke-width: 1.0;\"/><polygon fill=\"#383838\" points=\"489.3,123.15,482.3052,124.9031,481.2332,132.0341,488.2279,130.281,489.3,123.15\" style=\"stroke: #383838; stroke-width: 1.0;\"/></a><!--MD5=[9618e71518536f8baf3342ff6fdab317]\n",
       "reverse link E2 to E4--><a href=\"psysml:48862a39-11e7-4605-8aed-a0acf63d7872\" target=\"_top\" title=\"psysml:48862a39-11e7-4605-8aed-a0acf63d7872\" xlink:actuate=\"onRequest\" xlink:href=\"psysml:48862a39-11e7-4605-8aed-a0acf63d7872\" xlink:show=\"new\" xlink:title=\"psysml:48862a39-11e7-4605-8aed-a0acf63d7872\" xlink:type=\"simple\"><path d=\"M523,136.25 C523,153.55 523,172.6 523,188.68 \" fill=\"none\" id=\"E2&lt;-E4\" style=\"stroke: #383838; stroke-width: 1.0;\"/><polygon fill=\"#383838\" points=\"523,123.15,519,129.15,523,135.15,527,129.15,523,123.15\" style=\"stroke: #383838; stroke-width: 1.0;\"/></a><!--MD5=[25b190c987b1e74e5126d372c5a73af1]\n",
       "link E6 to E5--><a href=\"psysml:9917c25f-6195-4027-a1da-c593e3e3b530\" target=\"_top\" title=\"psysml:9917c25f-6195-4027-a1da-c593e3e3b530\" xlink:actuate=\"onRequest\" xlink:href=\"psysml:9917c25f-6195-4027-a1da-c593e3e3b530\" xlink:show=\"new\" xlink:title=\"psysml:9917c25f-6195-4027-a1da-c593e3e3b530\" xlink:type=\"simple\"><path d=\"M364.16,108.19 C354.25,114.98 343.23,122.39 333,129 C298.76,151.11 259.69,174.96 228.85,193.48 \" fill=\"none\" id=\"E6-&gt;E5\" style=\"stroke: #383838; stroke-width: 1.0;\"/><polygon fill=\"#FFFFFF\" points=\"211.28,203.99,223.9864,188.2246,231.1775,200.2365,211.28,203.99\" style=\"stroke: #383838; stroke-width: 1.0;\"/><ellipse cx=\"229.9042\" cy=\"187.0127\" fill=\"#383838\" rx=\"2\" ry=\"2\" style=\"stroke: #383838; stroke-width: 1.0;\"/><ellipse cx=\"235.0408\" cy=\"195.5927\" fill=\"#383838\" rx=\"2\" ry=\"2\" style=\"stroke: #383838; stroke-width: 1.0;\"/></a><!--MD5=[1ccb2481ffa92f8d51a74ee30c51832a]\n",
       "link E8 to E5--><a href=\"psysml:bf4de082-8867-4b4d-b459-dc33df5641b4\" target=\"_top\" title=\"psysml:bf4de082-8867-4b4d-b459-dc33df5641b4\" xlink:actuate=\"onRequest\" xlink:href=\"psysml:bf4de082-8867-4b4d-b459-dc33df5641b4\" xlink:show=\"new\" xlink:title=\"psysml:bf4de082-8867-4b4d-b459-dc33df5641b4\" xlink:type=\"simple\"><path d=\"M110.35,129.15 C122.49,147.61 136.55,169.01 148.37,186.99 \" fill=\"none\" id=\"E8-&gt;E5\" style=\"stroke: #383838; stroke-width: 1.0;\"/><polygon fill=\"#FFFFFF\" points=\"159.48,203.91,143.1947,191.8772,154.8939,184.1877,159.48,203.91\" style=\"stroke: #383838; stroke-width: 1.0;\"/><ellipse cx=\"141.7353\" cy=\"186.0155\" fill=\"#383838\" rx=\"2\" ry=\"2\" style=\"stroke: #383838; stroke-width: 1.0;\"/><ellipse cx=\"150.0918\" cy=\"180.523\" fill=\"#383838\" rx=\"2\" ry=\"2\" style=\"stroke: #383838; stroke-width: 1.0;\"/></a><!--MD5=[f613442b520ef0ea4b9dc604add19a08]\n",
       "@startuml\r\n",
       "top to bottom direction\r\n",
       "skinparam monochrome true\r\n",
       "skinparam classbackgroundcolor white\r\n",
       "skinparam shadowing false\r\n",
       "skinparam wrapWidth 300\r\n",
       "hide circle\r\n",
       "\r\n",
       "package \"CalculationExample\" as E1  [[psysml:7249bcac-c63a-48a6-adec-7cf675138100 ]]  {\r\n",
       "comp usage \"vehicle\" as E2  <<(T,blue)part>> [[psysml:14188455-78e6-45cf-9446-0197417271d8 ]] {\r\n",
       "- - attributes - -\r\n",
       "m: MassValue\r\n",
       "}\r\n",
       "comp usage \"eng\" as E3  <<(T,blue)part>> [[psysml:5beb719b-2071-4403-a403-a4a2a93a4090 ]] {\r\n",
       "- - attributes - -\r\n",
       "m: MassValue\r\n",
       "}\r\n",
       "comp usage \"trans\" as E4  <<(T,blue)part>> [[psysml:48862a39-11e7-4605-8aed-a0acf63d7872 ]] {\r\n",
       "- - attributes - -\r\n",
       "m: MassValue\r\n",
       "}\r\n",
       "comp def \"MassSum\" as E5  <<(T,blue)calculation def>> [[psysml:8857df12-96f9-4753-a6e3-dc799dcb9ed4 ]] {\r\n",
       "}\r\n",
       "comp usage \"ms: MassSum\" as E6  <<(T,blue)calculation>> [[psysml:1d10ff1d-94f3-4fcc-ad21-5a3c75a7ba0b ]] {\r\n",
       "}\r\n",
       "comp def \"MassSum1\" as E7  <<(T,blue)calculation def>> [[psysml:86e0ef61-a473-4ef3-8b23-ebbfee168e1c ]] {\r\n",
       "- - attributes - -\r\n",
       "partMasses: MassValue\r\n",
       "totalMass: MassValue\r\n",
       "}\r\n",
       "comp usage \"ms1: MassSum\" as E8  <<(T,blue)calculation>> [[psysml:5bbc6089-c972-4222-8f32-76d519ddb8cd ]] {\r\n",
       "- - attributes - -\r\n",
       "partMasses\r\n",
       "totalMass\r\n",
       "}\r\n",
       "E2 *- - E3 [[psysml:5beb719b-2071-4403-a403-a4a2a93a4090 ]] \r\n",
       "E2 *- - E4 [[psysml:48862a39-11e7-4605-8aed-a0acf63d7872 ]] \r\n",
       "E6 - -:|> E5 [[psysml:9917c25f-6195-4027-a1da-c593e3e3b530 ]] \r\n",
       "E8 - -:|> E5 [[psysml:bf4de082-8867-4b4d-b459-dc33df5641b4 ]] \r\n",
       "}\r\n",
       "@enduml\r\n",
       "\n",
       "PlantUML version 1.2020.13(Sat Jun 13 12:26:38 UTC 2020)\n",
       "(EPL source distribution)\n",
       "Java Runtime: OpenJDK Runtime Environment\n",
       "JVM: OpenJDK 64-Bit Server VM\n",
       "Default Encoding: UTF-8\n",
       "Language: en\n",
       "Country: null\n",
       "--></g></svg>"
      ]
     },
     "execution_count": 49,
     "metadata": {},
     "output_type": "execute_result"
    }
   ],
   "source": [
    "%viz --style=\"TB\" --view=\"Sequence\" \"CalculationExample\""
   ]
  },
  {
   "cell_type": "code",
   "execution_count": 50,
   "id": "gentle-harassment",
   "metadata": {
    "execution": {
     "iopub.execute_input": "2021-03-26T09:16:00.378997Z",
     "iopub.status.busy": "2021-03-26T09:16:00.378578Z",
     "iopub.status.idle": "2021-03-26T09:16:00.446983Z",
     "shell.execute_reply": "2021-03-26T09:16:00.446633Z"
    }
   },
   "outputs": [
    {
     "data": {
      "image/svg+xml": [
       "<?xml version=\"1.0\" encoding=\"UTF-8\" standalone=\"no\"?><svg xmlns=\"http://www.w3.org/2000/svg\" xmlns:xlink=\"http://www.w3.org/1999/xlink\" contentScriptType=\"application/ecmascript\" contentStyleType=\"text/css\" height=\"441px\" preserveAspectRatio=\"none\" style=\"width:788px;height:441px;\" version=\"1.1\" viewBox=\"0 0 788 441\" width=\"788px\" zoomAndPan=\"magnify\"><defs/><g><!--MD5=[fbc87193dbaf4d95561dea2c320d4a47]\n",
       "cluster E1--><a href=\"psysml:7249bcac-c63a-48a6-adec-7cf675138100\" target=\"_top\" title=\"psysml:7249bcac-c63a-48a6-adec-7cf675138100\" xlink:actuate=\"onRequest\" xlink:href=\"psysml:7249bcac-c63a-48a6-adec-7cf675138100\" xlink:show=\"new\" xlink:title=\"psysml:7249bcac-c63a-48a6-adec-7cf675138100\" xlink:type=\"simple\"><polygon fill=\"#FFFFFF\" points=\"16,6,173,6,180,28.2969,766,28.2969,766,429.72,16,429.72,16,6\" style=\"stroke: #000000; stroke-width: 1.5;\"/><line style=\"stroke: #000000; stroke-width: 1.5;\" x1=\"16\" x2=\"180\" y1=\"28.2969\" y2=\"28.2969\"/><text fill=\"#000000\" font-family=\"sans-serif\" font-size=\"14\" font-weight=\"bold\" lengthAdjust=\"spacingAndGlyphs\" textLength=\"151\" x=\"20\" y=\"20.9951\">CalculationExample</text></a><!--MD5=[de5ec2e2e8f62f467e546659f5068c88]\n",
       "cluster E5--><a href=\"psysml:8857df12-96f9-4753-a6e3-dc799dcb9ed4\" target=\"_top\" title=\"psysml:8857df12-96f9-4753-a6e3-dc799dcb9ed4\" xlink:actuate=\"onRequest\" xlink:href=\"psysml:8857df12-96f9-4753-a6e3-dc799dcb9ed4\" xlink:show=\"new\" xlink:title=\"psysml:8857df12-96f9-4753-a6e3-dc799dcb9ed4\" xlink:type=\"simple\"><rect fill=\"#FFFFFF\" height=\"306.72\" id=\"E5\" style=\"stroke: #383838; stroke-width: 1.5;\" width=\"128\" x=\"155\" y=\"85\"/><rect fill=\"#F8F8F8\" height=\"37.9375\" style=\"stroke: #383838; stroke-width: 1.5;\" width=\"128\" x=\"155\" y=\"85\"/><text fill=\"#000000\" font-family=\"sans-serif\" font-size=\"12\" font-style=\"italic\" lengthAdjust=\"spacingAndGlyphs\" textLength=\"106\" x=\"166\" y=\"101.1387\">«calculation def»</text><text fill=\"#000000\" font-family=\"sans-serif\" font-size=\"12\" lengthAdjust=\"spacingAndGlyphs\" textLength=\"59\" x=\"189.5\" y=\"115.1074\">MassSum</text></a><!--MD5=[917b9dd0c7eca3ee5f47219d1a84c0ad]\n",
       "cluster E11--><a href=\"psysml:86e0ef61-a473-4ef3-8b23-ebbfee168e1c\" target=\"_top\" title=\"psysml:86e0ef61-a473-4ef3-8b23-ebbfee168e1c\" xlink:actuate=\"onRequest\" xlink:href=\"psysml:86e0ef61-a473-4ef3-8b23-ebbfee168e1c\" xlink:show=\"new\" xlink:title=\"psysml:86e0ef61-a473-4ef3-8b23-ebbfee168e1c\" xlink:type=\"simple\"><rect fill=\"#FFFFFF\" height=\"306.72\" id=\"E11\" style=\"stroke: #383838; stroke-width: 1.5;\" width=\"166\" x=\"584\" y=\"85\"/><rect fill=\"#F8F8F8\" height=\"37.9375\" style=\"stroke: #383838; stroke-width: 1.5;\" width=\"166\" x=\"584\" y=\"85\"/><text fill=\"#000000\" font-family=\"sans-serif\" font-size=\"12\" font-style=\"italic\" lengthAdjust=\"spacingAndGlyphs\" textLength=\"106\" x=\"614\" y=\"101.1387\">«calculation def»</text><text fill=\"#000000\" font-family=\"sans-serif\" font-size=\"12\" lengthAdjust=\"spacingAndGlyphs\" textLength=\"67\" x=\"633.5\" y=\"115.1074\">MassSum1</text></a><!--MD5=[b4997ac47864f28c2f74865a473b2911]\n",
       "class E2--><a href=\"psysml:14188455-78e6-45cf-9446-0197417271d8\" target=\"_top\" title=\"psysml:14188455-78e6-45cf-9446-0197417271d8\" xlink:actuate=\"onRequest\" xlink:href=\"psysml:14188455-78e6-45cf-9446-0197417271d8\" xlink:show=\"new\" xlink:title=\"psysml:14188455-78e6-45cf-9446-0197417271d8\" xlink:type=\"simple\"><rect fill=\"#FFFFFF\" height=\"75.5469\" id=\"E2\" rx=\"10\" ry=\"10\" style=\"stroke: #383838; stroke-width: 1.5;\" width=\"92\" x=\"473\" y=\"47\"/><text fill=\"#000000\" font-family=\"sans-serif\" font-size=\"12\" font-style=\"italic\" lengthAdjust=\"spacingAndGlyphs\" textLength=\"40\" x=\"499\" y=\"63.1387\">«part»</text><text fill=\"#000000\" font-family=\"sans-serif\" font-size=\"12\" lengthAdjust=\"spacingAndGlyphs\" textLength=\"43\" x=\"497.5\" y=\"77.1074\">vehicle</text><line style=\"stroke: #383838; stroke-width: 1.5;\" x1=\"474\" x2=\"564\" y1=\"84.9375\" y2=\"84.9375\"/><text fill=\"#000000\" font-family=\"sans-serif\" font-size=\"11\" lengthAdjust=\"spacingAndGlyphs\" textLength=\"80\" x=\"479\" y=\"115.9526\">m: MassValue</text><line style=\"stroke: #383838; stroke-width: 1.0;\" x1=\"474\" x2=\"491.5\" y1=\"99.3398\" y2=\"99.3398\"/><text fill=\"#000000\" font-family=\"sans-serif\" font-size=\"11\" lengthAdjust=\"spacingAndGlyphs\" textLength=\"55\" x=\"491.5\" y=\"102.6479\">attributes</text><line style=\"stroke: #383838; stroke-width: 1.0;\" x1=\"546.5\" x2=\"564\" y1=\"99.3398\" y2=\"99.3398\"/></a><!--MD5=[09b614a08d8cba4a07c9adeb5e0fee81]\n",
       "class E3--><a href=\"psysml:5beb719b-2071-4403-a403-a4a2a93a4090\" target=\"_top\" title=\"psysml:5beb719b-2071-4403-a403-a4a2a93a4090\" xlink:actuate=\"onRequest\" xlink:href=\"psysml:5beb719b-2071-4403-a403-a4a2a93a4090\" xlink:show=\"new\" xlink:title=\"psysml:5beb719b-2071-4403-a403-a4a2a93a4090\" xlink:type=\"simple\"><rect fill=\"#FFFFFF\" height=\"75.5469\" id=\"E3\" rx=\"10\" ry=\"10\" style=\"stroke: #383838; stroke-width: 1.5;\" width=\"92\" x=\"346\" y=\"189\"/><text fill=\"#000000\" font-family=\"sans-serif\" font-size=\"12\" font-style=\"italic\" lengthAdjust=\"spacingAndGlyphs\" textLength=\"40\" x=\"372\" y=\"205.1387\">«part»</text><text fill=\"#000000\" font-family=\"sans-serif\" font-size=\"12\" lengthAdjust=\"spacingAndGlyphs\" textLength=\"24\" x=\"380\" y=\"219.1074\">eng</text><line style=\"stroke: #383838; stroke-width: 1.5;\" x1=\"347\" x2=\"437\" y1=\"226.9375\" y2=\"226.9375\"/><text fill=\"#000000\" font-family=\"sans-serif\" font-size=\"11\" lengthAdjust=\"spacingAndGlyphs\" textLength=\"80\" x=\"352\" y=\"257.9526\">m: MassValue</text><line style=\"stroke: #383838; stroke-width: 1.0;\" x1=\"347\" x2=\"364.5\" y1=\"241.3398\" y2=\"241.3398\"/><text fill=\"#000000\" font-family=\"sans-serif\" font-size=\"11\" lengthAdjust=\"spacingAndGlyphs\" textLength=\"55\" x=\"364.5\" y=\"244.6479\">attributes</text><line style=\"stroke: #383838; stroke-width: 1.0;\" x1=\"419.5\" x2=\"437\" y1=\"241.3398\" y2=\"241.3398\"/></a><!--MD5=[ebbe1d658d1005bcc118a6aa81145e00]\n",
       "class E4--><a href=\"psysml:48862a39-11e7-4605-8aed-a0acf63d7872\" target=\"_top\" title=\"psysml:48862a39-11e7-4605-8aed-a0acf63d7872\" xlink:actuate=\"onRequest\" xlink:href=\"psysml:48862a39-11e7-4605-8aed-a0acf63d7872\" xlink:show=\"new\" xlink:title=\"psysml:48862a39-11e7-4605-8aed-a0acf63d7872\" xlink:type=\"simple\"><rect fill=\"#FFFFFF\" height=\"75.5469\" id=\"E4\" rx=\"10\" ry=\"10\" style=\"stroke: #383838; stroke-width: 1.5;\" width=\"92\" x=\"473\" y=\"189\"/><text fill=\"#000000\" font-family=\"sans-serif\" font-size=\"12\" font-style=\"italic\" lengthAdjust=\"spacingAndGlyphs\" textLength=\"40\" x=\"499\" y=\"205.1387\">«part»</text><text fill=\"#000000\" font-family=\"sans-serif\" font-size=\"12\" lengthAdjust=\"spacingAndGlyphs\" textLength=\"33\" x=\"502.5\" y=\"219.1074\">trans</text><line style=\"stroke: #383838; stroke-width: 1.5;\" x1=\"474\" x2=\"564\" y1=\"226.9375\" y2=\"226.9375\"/><text fill=\"#000000\" font-family=\"sans-serif\" font-size=\"11\" lengthAdjust=\"spacingAndGlyphs\" textLength=\"80\" x=\"479\" y=\"257.9526\">m: MassValue</text><line style=\"stroke: #383838; stroke-width: 1.0;\" x1=\"474\" x2=\"491.5\" y1=\"241.3398\" y2=\"241.3398\"/><text fill=\"#000000\" font-family=\"sans-serif\" font-size=\"11\" lengthAdjust=\"spacingAndGlyphs\" textLength=\"55\" x=\"491.5\" y=\"244.6479\">attributes</text><line style=\"stroke: #383838; stroke-width: 1.0;\" x1=\"546.5\" x2=\"564\" y1=\"241.3398\" y2=\"241.3398\"/></a><!--MD5=[96f4274e9e20536e775497830990834d]\n",
       "class E10--><a href=\"psysml:1d10ff1d-94f3-4fcc-ad21-5a3c75a7ba0b\" target=\"_top\" title=\"psysml:1d10ff1d-94f3-4fcc-ad21-5a3c75a7ba0b\" xlink:actuate=\"onRequest\" xlink:href=\"psysml:1d10ff1d-94f3-4fcc-ad21-5a3c75a7ba0b\" xlink:show=\"new\" xlink:title=\"psysml:1d10ff1d-94f3-4fcc-ad21-5a3c75a7ba0b\" xlink:type=\"simple\"><rect fill=\"#FFFFFF\" height=\"45.9375\" id=\"E10\" rx=\"10\" ry=\"10\" style=\"stroke: #383838; stroke-width: 1.5;\" width=\"91\" x=\"346.5\" y=\"62\"/><text fill=\"#000000\" font-family=\"sans-serif\" font-size=\"12\" font-style=\"italic\" lengthAdjust=\"spacingAndGlyphs\" textLength=\"82\" x=\"351\" y=\"78.1387\">«calculation»</text><text fill=\"#000000\" font-family=\"sans-serif\" font-size=\"12\" lengthAdjust=\"spacingAndGlyphs\" textLength=\"85\" x=\"349.5\" y=\"92.1074\">ms: MassSum</text><line style=\"stroke: #383838; stroke-width: 1.5;\" x1=\"347.5\" x2=\"436.5\" y1=\"99.9375\" y2=\"99.9375\"/></a><!--MD5=[bee11217b2f71d958a27249dc326068c]\n",
       "class E14--><a href=\"psysml:5bbc6089-c972-4222-8f32-76d519ddb8cd\" target=\"_top\" title=\"psysml:5bbc6089-c972-4222-8f32-76d519ddb8cd\" xlink:actuate=\"onRequest\" xlink:href=\"psysml:5bbc6089-c972-4222-8f32-76d519ddb8cd\" xlink:show=\"new\" xlink:title=\"psysml:5bbc6089-c972-4222-8f32-76d519ddb8cd\" xlink:type=\"simple\"><rect fill=\"#FFFFFF\" height=\"88.3516\" id=\"E14\" rx=\"10\" ry=\"10\" style=\"stroke: #383838; stroke-width: 1.5;\" width=\"99\" x=\"32.5\" y=\"41\"/><text fill=\"#000000\" font-family=\"sans-serif\" font-size=\"12\" font-style=\"italic\" lengthAdjust=\"spacingAndGlyphs\" textLength=\"82\" x=\"41\" y=\"57.1387\">«calculation»</text><text fill=\"#000000\" font-family=\"sans-serif\" font-size=\"12\" lengthAdjust=\"spacingAndGlyphs\" textLength=\"93\" x=\"35.5\" y=\"71.1074\">ms1: MassSum</text><line style=\"stroke: #383838; stroke-width: 1.5;\" x1=\"33.5\" x2=\"130.5\" y1=\"78.9375\" y2=\"78.9375\"/><text fill=\"#000000\" font-family=\"sans-serif\" font-size=\"11\" lengthAdjust=\"spacingAndGlyphs\" textLength=\"67\" x=\"38.5\" y=\"109.9526\">partMasses</text><text fill=\"#000000\" font-family=\"sans-serif\" font-size=\"11\" lengthAdjust=\"spacingAndGlyphs\" textLength=\"55\" x=\"38.5\" y=\"122.7573\">totalMass</text><line style=\"stroke: #383838; stroke-width: 1.0;\" x1=\"33.5\" x2=\"54.5\" y1=\"93.3398\" y2=\"93.3398\"/><text fill=\"#000000\" font-family=\"sans-serif\" font-size=\"11\" lengthAdjust=\"spacingAndGlyphs\" textLength=\"55\" x=\"54.5\" y=\"96.6479\">attributes</text><line style=\"stroke: #383838; stroke-width: 1.0;\" x1=\"109.5\" x2=\"130.5\" y1=\"93.3398\" y2=\"93.3398\"/></a><text fill=\"#000000\" font-family=\"sans-serif\" font-size=\"14\" lengthAdjust=\"spacingAndGlyphs\" textLength=\"80\" x=\"133\" y=\"63.6982\">partMasses</text><rect fill=\"#383838\" height=\"12\" style=\"stroke: #F8F8F8; stroke-width: 1.5;\" width=\"12\" x=\"167\" y=\"79\"/><text fill=\"#000000\" font-family=\"sans-serif\" font-size=\"14\" lengthAdjust=\"spacingAndGlyphs\" textLength=\"66\" x=\"177\" y=\"410.7151\">totalMass</text><rect fill=\"#383838\" height=\"12\" style=\"stroke: #F8F8F8; stroke-width: 1.5;\" width=\"12\" x=\"204\" y=\"385.72\"/><text fill=\"#000000\" font-family=\"sans-serif\" font-size=\"14\" lengthAdjust=\"spacingAndGlyphs\" textLength=\"75\" x=\"227.5\" y=\"63.6982\">$collection</text><rect fill=\"#383838\" height=\"12\" style=\"stroke: #F8F8F8; stroke-width: 1.5;\" width=\"12\" x=\"259\" y=\"79\"/><text fill=\"#000000\" font-family=\"sans-serif\" font-size=\"14\" lengthAdjust=\"spacingAndGlyphs\" textLength=\"48\" x=\"233\" y=\"410.7151\">$result</text><rect fill=\"#383838\" height=\"12\" style=\"stroke: #F8F8F8; stroke-width: 1.5;\" width=\"12\" x=\"251\" y=\"385.72\"/><text fill=\"#000000\" font-family=\"sans-serif\" font-size=\"14\" lengthAdjust=\"spacingAndGlyphs\" textLength=\"80\" x=\"627\" y=\"63.6982\">partMasses</text><rect fill=\"#383838\" height=\"12\" style=\"stroke: #F8F8F8; stroke-width: 1.5;\" width=\"12\" x=\"661\" y=\"79\"/><text fill=\"#000000\" font-family=\"sans-serif\" font-size=\"14\" lengthAdjust=\"spacingAndGlyphs\" textLength=\"66\" x=\"634\" y=\"410.7151\">totalMass</text><rect fill=\"#383838\" height=\"12\" style=\"stroke: #F8F8F8; stroke-width: 1.5;\" width=\"12\" x=\"661\" y=\"385.72\"/><!--MD5=[209b3feb70ccb6233bfe1053d122c12c]\n",
       "reverse link E2 to E3--><a href=\"psysml:5beb719b-2071-4403-a403-a4a2a93a4090\" target=\"_top\" title=\"psysml:5beb719b-2071-4403-a403-a4a2a93a4090\" xlink:actuate=\"onRequest\" xlink:href=\"psysml:5beb719b-2071-4403-a403-a4a2a93a4090\" xlink:show=\"new\" xlink:title=\"psysml:5beb719b-2071-4403-a403-a4a2a93a4090\" xlink:type=\"simple\"><path d=\"M476.41,132.95 C459.95,151.1 441.38,171.57 425.86,188.68 \" fill=\"none\" id=\"E2&lt;-E3\" style=\"stroke: #383838; stroke-width: 1.0;\"/><polygon fill=\"#383838\" points=\"485.3,123.15,478.3052,124.9031,477.2332,132.0341,484.2279,130.281,485.3,123.15\" style=\"stroke: #383838; stroke-width: 1.0;\"/></a><!--MD5=[9618e71518536f8baf3342ff6fdab317]\n",
       "reverse link E2 to E4--><a href=\"psysml:48862a39-11e7-4605-8aed-a0acf63d7872\" target=\"_top\" title=\"psysml:48862a39-11e7-4605-8aed-a0acf63d7872\" xlink:actuate=\"onRequest\" xlink:href=\"psysml:48862a39-11e7-4605-8aed-a0acf63d7872\" xlink:show=\"new\" xlink:title=\"psysml:48862a39-11e7-4605-8aed-a0acf63d7872\" xlink:type=\"simple\"><path d=\"M519,136.25 C519,153.55 519,172.6 519,188.68 \" fill=\"none\" id=\"E2&lt;-E4\" style=\"stroke: #383838; stroke-width: 1.0;\"/><polygon fill=\"#383838\" points=\"519,123.15,515,129.15,519,135.15,523,129.15,519,123.15\" style=\"stroke: #383838; stroke-width: 1.0;\"/></a><!--MD5=[1c0b9414cc86e0744215edee6abd8926]\n",
       "link E7 to E9--><a href=\"psysml:5b55f712-f9b6-4e15-aeab-345c960b0653\" target=\"_top\" title=\"psysml:5b55f712-f9b6-4e15-aeab-345c960b0653\" xlink:actuate=\"onRequest\" xlink:href=\"psysml:5b55f712-f9b6-4e15-aeab-345c960b0653\" xlink:show=\"new\" xlink:title=\"psysml:5b55f712-f9b6-4e15-aeab-345c960b0653\" xlink:type=\"simple\"><path d=\"M216.24,389.65 C227.81,386.39 239.38,386.41 250.95,389.7 \" fill=\"none\" id=\"E7-E9\" style=\"stroke: #383838; stroke-width: 5.0;\"/></a><!--MD5=[ec5e0a54482b142abcecfe541d624bff]\n",
       "link E10 to E5--><a href=\"psysml:9917c25f-6195-4027-a1da-c593e3e3b530\" target=\"_top\" title=\"psysml:9917c25f-6195-4027-a1da-c593e3e3b530\" xlink:actuate=\"onRequest\" xlink:href=\"psysml:9917c25f-6195-4027-a1da-c593e3e3b530\" xlink:show=\"new\" xlink:title=\"psysml:9917c25f-6195-4027-a1da-c593e3e3b530\" xlink:type=\"simple\"><path d=\"M367.76,108.18 C352.425,122.215 331.7225,141.16 311.4063,159.75 C306.3272,164.3975 301.2723,169.0228 296.3314,173.5437 C293.8609,175.8041 291.419,178.0384 289.0168,180.2363 C287.8157,181.3353 286.6246,182.4252 285.4448,183.5046 C284.8549,184.0444 284.2678,184.5815 283.6837,185.1159 C283.5377,185.2495 283.3919,185.3829 283.2463,185.5162 \" fill=\"none\" id=\"E10-&gt;E5\" style=\"stroke: #383838; stroke-width: 1.0;\"/><polygon fill=\"#FFFFFF\" points=\"283.2463,185.5162,292.5389,167.526,301.9894,177.855,283.2463,185.5162\" style=\"stroke: #383838; stroke-width: 1.0;\"/><ellipse cx=\"298.0944\" cy=\"165.1539\" fill=\"#383838\" rx=\"2\" ry=\"2\" style=\"stroke: #383838; stroke-width: 1.0;\"/><ellipse cx=\"304.8447\" cy=\"172.5317\" fill=\"#383838\" rx=\"2\" ry=\"2\" style=\"stroke: #383838; stroke-width: 1.0;\"/></a><!--MD5=[111e5536516ee1ad7d4266f589654f03]\n",
       "link E14 to E5--><a href=\"psysml:bf4de082-8867-4b4d-b459-dc33df5641b4\" target=\"_top\" title=\"psysml:bf4de082-8867-4b4d-b459-dc33df5641b4\" xlink:actuate=\"onRequest\" xlink:href=\"psysml:bf4de082-8867-4b4d-b459-dc33df5641b4\" xlink:show=\"new\" xlink:title=\"psysml:bf4de082-8867-4b4d-b459-dc33df5641b4\" xlink:type=\"simple\"><path d=\"M130.39,129.15 C138.0025,135.9375 146.0606,143.1225 154.2098,150.3889 C154.4645,150.616 154.7193,150.8431 154.9741,151.0704 \" fill=\"none\" id=\"E14-&gt;E5\" style=\"stroke: #383838; stroke-width: 1.0;\"/><polygon fill=\"#FFFFFF\" points=\"154.9741,151.0704,136.1343,143.6501,145.4516,133.2008,154.9741,151.0704\" style=\"stroke: #383838; stroke-width: 1.0;\"/><ellipse cx=\"133.211\" cy=\"138.3638\" fill=\"#383838\" rx=\"2\" ry=\"2\" style=\"stroke: #383838; stroke-width: 1.0;\"/><ellipse cx=\"139.8662\" cy=\"130.9001\" fill=\"#383838\" rx=\"2\" ry=\"2\" style=\"stroke: #383838; stroke-width: 1.0;\"/></a><!--MD5=[d3fa8ee74d3faa86184b9b39d741aa03]\n",
       "@startuml\r\n",
       "top to bottom direction\r\n",
       "skinparam monochrome true\r\n",
       "skinparam classbackgroundcolor white\r\n",
       "skinparam shadowing false\r\n",
       "skinparam wrapWidth 300\r\n",
       "hide circle\r\n",
       "\r\n",
       "package \"CalculationExample\" as E1  [[psysml:7249bcac-c63a-48a6-adec-7cf675138100 ]]  {\r\n",
       "comp usage \"vehicle\" as E2  <<(T,blue)part>> [[psysml:14188455-78e6-45cf-9446-0197417271d8 ]] {\r\n",
       "- - attributes - -\r\n",
       "m: MassValue\r\n",
       "}\r\n",
       "comp usage \"eng\" as E3  <<(T,blue)part>> [[psysml:5beb719b-2071-4403-a403-a4a2a93a4090 ]] {\r\n",
       "- - attributes - -\r\n",
       "m: MassValue\r\n",
       "}\r\n",
       "comp usage \"trans\" as E4  <<(T,blue)part>> [[psysml:48862a39-11e7-4605-8aed-a0acf63d7872 ]] {\r\n",
       "- - attributes - -\r\n",
       "m: MassValue\r\n",
       "}\r\n",
       "rec def \"MassSum\" as E5  <<(T,blue)calculation def>> [[psysml:8857df12-96f9-4753-a6e3-dc799dcb9ed4 ]] {\r\n",
       "portin \"partMasses\" as E6  [[psysml:8ae5fd16-1397-4172-a6e5-0c084d8d7ca2 ]] \r\n",
       "portout \"totalMass\" as E7  [[psysml:5f15c55d-7a56-4485-be6d-5834d49cebc1 ]] \r\n",
       "portin \"$collection\" as E8  [[psysml:61806866-d159-447e-b132-fa56be682adf ]] \r\n",
       "portout \"$result\" as E9  [[psysml:6ddb7e29-61e7-4184-8db5-61f90a0c49bf ]] \r\n",
       "}\r\n",
       "\r\n",
       "comp usage \"ms: MassSum\" as E10  <<(T,blue)calculation>> [[psysml:1d10ff1d-94f3-4fcc-ad21-5a3c75a7ba0b ]] {\r\n",
       "}\r\n",
       "rec def \"MassSum1\" as E11  <<(T,blue)calculation def>> [[psysml:86e0ef61-a473-4ef3-8b23-ebbfee168e1c ]] {\r\n",
       "portin \"partMasses\" as E12  [[psysml:44765cb5-91e3-4973-8d66-b6f2e5bbf87d ]] \r\n",
       "portout \"totalMass\" as E13  [[psysml:8a0a1f2d-4441-4a8a-b849-a96ed87f36a5 ]] \r\n",
       "}\r\n",
       "\r\n",
       "comp usage \"ms1: MassSum\" as E14  <<(T,blue)calculation>> [[psysml:5bbc6089-c972-4222-8f32-76d519ddb8cd ]] {\r\n",
       "- - attributes - -\r\n",
       "partMasses\r\n",
       "totalMass\r\n",
       "}\r\n",
       "E2 *- - E3 [[psysml:5beb719b-2071-4403-a403-a4a2a93a4090 ]] \r\n",
       "E2 *- - E4 [[psysml:48862a39-11e7-4605-8aed-a0acf63d7872 ]] \r\n",
       "E7 -[thickness=5]- E9 [[psysml:5b55f712-f9b6-4e15-aeab-345c960b0653 ]] \r\n",
       "E10 - -:|> E5 [[psysml:9917c25f-6195-4027-a1da-c593e3e3b530 ]] \r\n",
       "E14 - -:|> E5 [[psysml:bf4de082-8867-4b4d-b459-dc33df5641b4 ]] \r\n",
       "}\r\n",
       "@enduml\r\n",
       "\n",
       "PlantUML version 1.2020.13(Sat Jun 13 12:26:38 UTC 2020)\n",
       "(EPL source distribution)\n",
       "Java Runtime: OpenJDK Runtime Environment\n",
       "JVM: OpenJDK 64-Bit Server VM\n",
       "Default Encoding: UTF-8\n",
       "Language: en\n",
       "Country: null\n",
       "--></g></svg>"
      ]
     },
     "execution_count": 50,
     "metadata": {},
     "output_type": "execute_result"
    }
   ],
   "source": [
    "%viz --style=\"TB\" --view=\"MIXED\" \"CalculationExample\""
   ]
  },
  {
   "cell_type": "code",
   "execution_count": 51,
   "id": "accepting-designer",
   "metadata": {
    "execution": {
     "iopub.execute_input": "2021-03-26T09:16:00.497250Z",
     "iopub.status.busy": "2021-03-26T09:16:00.496772Z",
     "iopub.status.idle": "2021-03-26T09:16:00.583102Z",
     "shell.execute_reply": "2021-03-26T09:16:00.581590Z"
    }
   },
   "outputs": [
    {
     "data": {
      "image/svg+xml": [
       "<?xml version=\"1.0\" encoding=\"UTF-8\" standalone=\"no\"?><svg xmlns=\"http://www.w3.org/2000/svg\" xmlns:xlink=\"http://www.w3.org/1999/xlink\" contentScriptType=\"application/ecmascript\" contentStyleType=\"text/css\" height=\"441px\" preserveAspectRatio=\"none\" style=\"width:788px;height:441px;\" version=\"1.1\" viewBox=\"0 0 788 441\" width=\"788px\" zoomAndPan=\"magnify\"><defs/><g><!--MD5=[fbc87193dbaf4d95561dea2c320d4a47]\n",
       "cluster E1--><a href=\"psysml:7249bcac-c63a-48a6-adec-7cf675138100\" target=\"_top\" title=\"psysml:7249bcac-c63a-48a6-adec-7cf675138100\" xlink:actuate=\"onRequest\" xlink:href=\"psysml:7249bcac-c63a-48a6-adec-7cf675138100\" xlink:show=\"new\" xlink:title=\"psysml:7249bcac-c63a-48a6-adec-7cf675138100\" xlink:type=\"simple\"><polygon fill=\"#FFFFFF\" points=\"16,6,173,6,180,28.2969,766,28.2969,766,429.72,16,429.72,16,6\" style=\"stroke: #000000; stroke-width: 1.5;\"/><line style=\"stroke: #000000; stroke-width: 1.5;\" x1=\"16\" x2=\"180\" y1=\"28.2969\" y2=\"28.2969\"/><text fill=\"#000000\" font-family=\"sans-serif\" font-size=\"14\" font-weight=\"bold\" lengthAdjust=\"spacingAndGlyphs\" textLength=\"151\" x=\"20\" y=\"20.9951\">CalculationExample</text></a><!--MD5=[de5ec2e2e8f62f467e546659f5068c88]\n",
       "cluster E5--><a href=\"psysml:8857df12-96f9-4753-a6e3-dc799dcb9ed4\" target=\"_top\" title=\"psysml:8857df12-96f9-4753-a6e3-dc799dcb9ed4\" xlink:actuate=\"onRequest\" xlink:href=\"psysml:8857df12-96f9-4753-a6e3-dc799dcb9ed4\" xlink:show=\"new\" xlink:title=\"psysml:8857df12-96f9-4753-a6e3-dc799dcb9ed4\" xlink:type=\"simple\"><rect fill=\"#FFFFFF\" height=\"306.72\" id=\"E5\" style=\"stroke: #383838; stroke-width: 1.5;\" width=\"128\" x=\"155\" y=\"85\"/><rect fill=\"#F8F8F8\" height=\"37.9375\" style=\"stroke: #383838; stroke-width: 1.5;\" width=\"128\" x=\"155\" y=\"85\"/><text fill=\"#000000\" font-family=\"sans-serif\" font-size=\"12\" font-style=\"italic\" lengthAdjust=\"spacingAndGlyphs\" textLength=\"106\" x=\"166\" y=\"101.1387\">«calculation def»</text><text fill=\"#000000\" font-family=\"sans-serif\" font-size=\"12\" lengthAdjust=\"spacingAndGlyphs\" textLength=\"59\" x=\"189.5\" y=\"115.1074\">MassSum</text></a><!--MD5=[917b9dd0c7eca3ee5f47219d1a84c0ad]\n",
       "cluster E11--><a href=\"psysml:86e0ef61-a473-4ef3-8b23-ebbfee168e1c\" target=\"_top\" title=\"psysml:86e0ef61-a473-4ef3-8b23-ebbfee168e1c\" xlink:actuate=\"onRequest\" xlink:href=\"psysml:86e0ef61-a473-4ef3-8b23-ebbfee168e1c\" xlink:show=\"new\" xlink:title=\"psysml:86e0ef61-a473-4ef3-8b23-ebbfee168e1c\" xlink:type=\"simple\"><rect fill=\"#FFFFFF\" height=\"306.72\" id=\"E11\" style=\"stroke: #383838; stroke-width: 1.5;\" width=\"166\" x=\"584\" y=\"85\"/><rect fill=\"#F8F8F8\" height=\"37.9375\" style=\"stroke: #383838; stroke-width: 1.5;\" width=\"166\" x=\"584\" y=\"85\"/><text fill=\"#000000\" font-family=\"sans-serif\" font-size=\"12\" font-style=\"italic\" lengthAdjust=\"spacingAndGlyphs\" textLength=\"106\" x=\"614\" y=\"101.1387\">«calculation def»</text><text fill=\"#000000\" font-family=\"sans-serif\" font-size=\"12\" lengthAdjust=\"spacingAndGlyphs\" textLength=\"67\" x=\"633.5\" y=\"115.1074\">MassSum1</text></a><!--MD5=[b4997ac47864f28c2f74865a473b2911]\n",
       "class E2--><a href=\"psysml:14188455-78e6-45cf-9446-0197417271d8\" target=\"_top\" title=\"psysml:14188455-78e6-45cf-9446-0197417271d8\" xlink:actuate=\"onRequest\" xlink:href=\"psysml:14188455-78e6-45cf-9446-0197417271d8\" xlink:show=\"new\" xlink:title=\"psysml:14188455-78e6-45cf-9446-0197417271d8\" xlink:type=\"simple\"><rect fill=\"#FFFFFF\" height=\"75.5469\" id=\"E2\" rx=\"10\" ry=\"10\" style=\"stroke: #383838; stroke-width: 1.5;\" width=\"92\" x=\"473\" y=\"47\"/><text fill=\"#000000\" font-family=\"sans-serif\" font-size=\"12\" font-style=\"italic\" lengthAdjust=\"spacingAndGlyphs\" textLength=\"40\" x=\"499\" y=\"63.1387\">«part»</text><text fill=\"#000000\" font-family=\"sans-serif\" font-size=\"12\" lengthAdjust=\"spacingAndGlyphs\" textLength=\"43\" x=\"497.5\" y=\"77.1074\">vehicle</text><line style=\"stroke: #383838; stroke-width: 1.5;\" x1=\"474\" x2=\"564\" y1=\"84.9375\" y2=\"84.9375\"/><text fill=\"#000000\" font-family=\"sans-serif\" font-size=\"11\" lengthAdjust=\"spacingAndGlyphs\" textLength=\"80\" x=\"479\" y=\"115.9526\">m: MassValue</text><line style=\"stroke: #383838; stroke-width: 1.0;\" x1=\"474\" x2=\"491.5\" y1=\"99.3398\" y2=\"99.3398\"/><text fill=\"#000000\" font-family=\"sans-serif\" font-size=\"11\" lengthAdjust=\"spacingAndGlyphs\" textLength=\"55\" x=\"491.5\" y=\"102.6479\">attributes</text><line style=\"stroke: #383838; stroke-width: 1.0;\" x1=\"546.5\" x2=\"564\" y1=\"99.3398\" y2=\"99.3398\"/></a><!--MD5=[09b614a08d8cba4a07c9adeb5e0fee81]\n",
       "class E3--><a href=\"psysml:5beb719b-2071-4403-a403-a4a2a93a4090\" target=\"_top\" title=\"psysml:5beb719b-2071-4403-a403-a4a2a93a4090\" xlink:actuate=\"onRequest\" xlink:href=\"psysml:5beb719b-2071-4403-a403-a4a2a93a4090\" xlink:show=\"new\" xlink:title=\"psysml:5beb719b-2071-4403-a403-a4a2a93a4090\" xlink:type=\"simple\"><rect fill=\"#FFFFFF\" height=\"75.5469\" id=\"E3\" rx=\"10\" ry=\"10\" style=\"stroke: #383838; stroke-width: 1.5;\" width=\"92\" x=\"346\" y=\"189\"/><text fill=\"#000000\" font-family=\"sans-serif\" font-size=\"12\" font-style=\"italic\" lengthAdjust=\"spacingAndGlyphs\" textLength=\"40\" x=\"372\" y=\"205.1387\">«part»</text><text fill=\"#000000\" font-family=\"sans-serif\" font-size=\"12\" lengthAdjust=\"spacingAndGlyphs\" textLength=\"24\" x=\"380\" y=\"219.1074\">eng</text><line style=\"stroke: #383838; stroke-width: 1.5;\" x1=\"347\" x2=\"437\" y1=\"226.9375\" y2=\"226.9375\"/><text fill=\"#000000\" font-family=\"sans-serif\" font-size=\"11\" lengthAdjust=\"spacingAndGlyphs\" textLength=\"80\" x=\"352\" y=\"257.9526\">m: MassValue</text><line style=\"stroke: #383838; stroke-width: 1.0;\" x1=\"347\" x2=\"364.5\" y1=\"241.3398\" y2=\"241.3398\"/><text fill=\"#000000\" font-family=\"sans-serif\" font-size=\"11\" lengthAdjust=\"spacingAndGlyphs\" textLength=\"55\" x=\"364.5\" y=\"244.6479\">attributes</text><line style=\"stroke: #383838; stroke-width: 1.0;\" x1=\"419.5\" x2=\"437\" y1=\"241.3398\" y2=\"241.3398\"/></a><!--MD5=[ebbe1d658d1005bcc118a6aa81145e00]\n",
       "class E4--><a href=\"psysml:48862a39-11e7-4605-8aed-a0acf63d7872\" target=\"_top\" title=\"psysml:48862a39-11e7-4605-8aed-a0acf63d7872\" xlink:actuate=\"onRequest\" xlink:href=\"psysml:48862a39-11e7-4605-8aed-a0acf63d7872\" xlink:show=\"new\" xlink:title=\"psysml:48862a39-11e7-4605-8aed-a0acf63d7872\" xlink:type=\"simple\"><rect fill=\"#FFFFFF\" height=\"75.5469\" id=\"E4\" rx=\"10\" ry=\"10\" style=\"stroke: #383838; stroke-width: 1.5;\" width=\"92\" x=\"473\" y=\"189\"/><text fill=\"#000000\" font-family=\"sans-serif\" font-size=\"12\" font-style=\"italic\" lengthAdjust=\"spacingAndGlyphs\" textLength=\"40\" x=\"499\" y=\"205.1387\">«part»</text><text fill=\"#000000\" font-family=\"sans-serif\" font-size=\"12\" lengthAdjust=\"spacingAndGlyphs\" textLength=\"33\" x=\"502.5\" y=\"219.1074\">trans</text><line style=\"stroke: #383838; stroke-width: 1.5;\" x1=\"474\" x2=\"564\" y1=\"226.9375\" y2=\"226.9375\"/><text fill=\"#000000\" font-family=\"sans-serif\" font-size=\"11\" lengthAdjust=\"spacingAndGlyphs\" textLength=\"80\" x=\"479\" y=\"257.9526\">m: MassValue</text><line style=\"stroke: #383838; stroke-width: 1.0;\" x1=\"474\" x2=\"491.5\" y1=\"241.3398\" y2=\"241.3398\"/><text fill=\"#000000\" font-family=\"sans-serif\" font-size=\"11\" lengthAdjust=\"spacingAndGlyphs\" textLength=\"55\" x=\"491.5\" y=\"244.6479\">attributes</text><line style=\"stroke: #383838; stroke-width: 1.0;\" x1=\"546.5\" x2=\"564\" y1=\"241.3398\" y2=\"241.3398\"/></a><!--MD5=[96f4274e9e20536e775497830990834d]\n",
       "class E10--><a href=\"psysml:1d10ff1d-94f3-4fcc-ad21-5a3c75a7ba0b\" target=\"_top\" title=\"psysml:1d10ff1d-94f3-4fcc-ad21-5a3c75a7ba0b\" xlink:actuate=\"onRequest\" xlink:href=\"psysml:1d10ff1d-94f3-4fcc-ad21-5a3c75a7ba0b\" xlink:show=\"new\" xlink:title=\"psysml:1d10ff1d-94f3-4fcc-ad21-5a3c75a7ba0b\" xlink:type=\"simple\"><rect fill=\"#FFFFFF\" height=\"45.9375\" id=\"E10\" rx=\"10\" ry=\"10\" style=\"stroke: #383838; stroke-width: 1.5;\" width=\"91\" x=\"346.5\" y=\"62\"/><text fill=\"#000000\" font-family=\"sans-serif\" font-size=\"12\" font-style=\"italic\" lengthAdjust=\"spacingAndGlyphs\" textLength=\"82\" x=\"351\" y=\"78.1387\">«calculation»</text><text fill=\"#000000\" font-family=\"sans-serif\" font-size=\"12\" lengthAdjust=\"spacingAndGlyphs\" textLength=\"85\" x=\"349.5\" y=\"92.1074\">ms: MassSum</text><line style=\"stroke: #383838; stroke-width: 1.5;\" x1=\"347.5\" x2=\"436.5\" y1=\"99.9375\" y2=\"99.9375\"/></a><!--MD5=[bee11217b2f71d958a27249dc326068c]\n",
       "class E14--><a href=\"psysml:5bbc6089-c972-4222-8f32-76d519ddb8cd\" target=\"_top\" title=\"psysml:5bbc6089-c972-4222-8f32-76d519ddb8cd\" xlink:actuate=\"onRequest\" xlink:href=\"psysml:5bbc6089-c972-4222-8f32-76d519ddb8cd\" xlink:show=\"new\" xlink:title=\"psysml:5bbc6089-c972-4222-8f32-76d519ddb8cd\" xlink:type=\"simple\"><rect fill=\"#FFFFFF\" height=\"88.3516\" id=\"E14\" rx=\"10\" ry=\"10\" style=\"stroke: #383838; stroke-width: 1.5;\" width=\"99\" x=\"32.5\" y=\"41\"/><text fill=\"#000000\" font-family=\"sans-serif\" font-size=\"12\" font-style=\"italic\" lengthAdjust=\"spacingAndGlyphs\" textLength=\"82\" x=\"41\" y=\"57.1387\">«calculation»</text><text fill=\"#000000\" font-family=\"sans-serif\" font-size=\"12\" lengthAdjust=\"spacingAndGlyphs\" textLength=\"93\" x=\"35.5\" y=\"71.1074\">ms1: MassSum</text><line style=\"stroke: #383838; stroke-width: 1.5;\" x1=\"33.5\" x2=\"130.5\" y1=\"78.9375\" y2=\"78.9375\"/><text fill=\"#000000\" font-family=\"sans-serif\" font-size=\"11\" lengthAdjust=\"spacingAndGlyphs\" textLength=\"67\" x=\"38.5\" y=\"109.9526\">partMasses</text><text fill=\"#000000\" font-family=\"sans-serif\" font-size=\"11\" lengthAdjust=\"spacingAndGlyphs\" textLength=\"55\" x=\"38.5\" y=\"122.7573\">totalMass</text><line style=\"stroke: #383838; stroke-width: 1.0;\" x1=\"33.5\" x2=\"54.5\" y1=\"93.3398\" y2=\"93.3398\"/><text fill=\"#000000\" font-family=\"sans-serif\" font-size=\"11\" lengthAdjust=\"spacingAndGlyphs\" textLength=\"55\" x=\"54.5\" y=\"96.6479\">attributes</text><line style=\"stroke: #383838; stroke-width: 1.0;\" x1=\"109.5\" x2=\"130.5\" y1=\"93.3398\" y2=\"93.3398\"/></a><text fill=\"#000000\" font-family=\"sans-serif\" font-size=\"14\" lengthAdjust=\"spacingAndGlyphs\" textLength=\"80\" x=\"133\" y=\"63.6982\">partMasses</text><rect fill=\"#383838\" height=\"12\" style=\"stroke: #F8F8F8; stroke-width: 1.5;\" width=\"12\" x=\"167\" y=\"79\"/><text fill=\"#000000\" font-family=\"sans-serif\" font-size=\"14\" lengthAdjust=\"spacingAndGlyphs\" textLength=\"66\" x=\"177\" y=\"410.7151\">totalMass</text><rect fill=\"#383838\" height=\"12\" style=\"stroke: #F8F8F8; stroke-width: 1.5;\" width=\"12\" x=\"204\" y=\"385.72\"/><text fill=\"#000000\" font-family=\"sans-serif\" font-size=\"14\" lengthAdjust=\"spacingAndGlyphs\" textLength=\"75\" x=\"227.5\" y=\"63.6982\">$collection</text><rect fill=\"#383838\" height=\"12\" style=\"stroke: #F8F8F8; stroke-width: 1.5;\" width=\"12\" x=\"259\" y=\"79\"/><text fill=\"#000000\" font-family=\"sans-serif\" font-size=\"14\" lengthAdjust=\"spacingAndGlyphs\" textLength=\"48\" x=\"233\" y=\"410.7151\">$result</text><rect fill=\"#383838\" height=\"12\" style=\"stroke: #F8F8F8; stroke-width: 1.5;\" width=\"12\" x=\"251\" y=\"385.72\"/><text fill=\"#000000\" font-family=\"sans-serif\" font-size=\"14\" lengthAdjust=\"spacingAndGlyphs\" textLength=\"80\" x=\"627\" y=\"63.6982\">partMasses</text><rect fill=\"#383838\" height=\"12\" style=\"stroke: #F8F8F8; stroke-width: 1.5;\" width=\"12\" x=\"661\" y=\"79\"/><text fill=\"#000000\" font-family=\"sans-serif\" font-size=\"14\" lengthAdjust=\"spacingAndGlyphs\" textLength=\"66\" x=\"634\" y=\"410.7151\">totalMass</text><rect fill=\"#383838\" height=\"12\" style=\"stroke: #F8F8F8; stroke-width: 1.5;\" width=\"12\" x=\"661\" y=\"385.72\"/><!--MD5=[209b3feb70ccb6233bfe1053d122c12c]\n",
       "reverse link E2 to E3--><a href=\"psysml:5beb719b-2071-4403-a403-a4a2a93a4090\" target=\"_top\" title=\"psysml:5beb719b-2071-4403-a403-a4a2a93a4090\" xlink:actuate=\"onRequest\" xlink:href=\"psysml:5beb719b-2071-4403-a403-a4a2a93a4090\" xlink:show=\"new\" xlink:title=\"psysml:5beb719b-2071-4403-a403-a4a2a93a4090\" xlink:type=\"simple\"><path d=\"M459.79,118.72 C459.79,118.72 392,118.72 392,118.72 C392,118.72 392,157.65 392,188.82 \" fill=\"none\" id=\"E2&lt;-E3\" style=\"stroke: #383838; stroke-width: 1.0;\"/><polygon fill=\"#383838\" points=\"472.79,118.72,466.79,114.72,460.79,118.72,466.79,122.72,472.79,118.72\" style=\"stroke: #383838; stroke-width: 1.0;\"/></a><!--MD5=[9618e71518536f8baf3342ff6fdab317]\n",
       "reverse link E2 to E4--><a href=\"psysml:48862a39-11e7-4605-8aed-a0acf63d7872\" target=\"_top\" title=\"psysml:48862a39-11e7-4605-8aed-a0acf63d7872\" xlink:actuate=\"onRequest\" xlink:href=\"psysml:48862a39-11e7-4605-8aed-a0acf63d7872\" xlink:show=\"new\" xlink:title=\"psysml:48862a39-11e7-4605-8aed-a0acf63d7872\" xlink:type=\"simple\"><path d=\"M519,136.05 C519,136.05 519,188.84 519,188.84 \" fill=\"none\" id=\"E2&lt;-E4\" style=\"stroke: #383838; stroke-width: 1.0;\"/><polygon fill=\"#383838\" points=\"519,123.05,515,129.05,519,135.05,523,129.05,519,123.05\" style=\"stroke: #383838; stroke-width: 1.0;\"/></a><!--MD5=[1c0b9414cc86e0744215edee6abd8926]\n",
       "link E7 to E9--><a href=\"psysml:5b55f712-f9b6-4e15-aeab-345c960b0653\" target=\"_top\" title=\"psysml:5b55f712-f9b6-4e15-aeab-345c960b0653\" xlink:actuate=\"onRequest\" xlink:href=\"psysml:5b55f712-f9b6-4e15-aeab-345c960b0653\" xlink:show=\"new\" xlink:title=\"psysml:5b55f712-f9b6-4e15-aeab-345c960b0653\" xlink:type=\"simple\"><path d=\"M216.14,393.72 C225.1,393.72 241.66,393.72 250.7,393.72 \" fill=\"none\" id=\"E7-E9\" style=\"stroke: #383838; stroke-width: 5.0;\"/></a><!--MD5=[ec5e0a54482b142abcecfe541d624bff]\n",
       "link E10 to E5--><a href=\"psysml:9917c25f-6195-4027-a1da-c593e3e3b530\" target=\"_top\" title=\"psysml:9917c25f-6195-4027-a1da-c593e3e3b530\" xlink:actuate=\"onRequest\" xlink:href=\"psysml:9917c25f-6195-4027-a1da-c593e3e3b530\" xlink:show=\"new\" xlink:title=\"psysml:9917c25f-6195-4027-a1da-c593e3e3b530\" xlink:type=\"simple\"><path d=\"M346.49,99.72 C318.62,99.72 288.25,99.72 288.25,99.72 C288.25,99.72 288.25,174.33 288.25,209.3 \" fill=\"none\" id=\"E10-&gt;E5\" style=\"stroke: #383838; stroke-width: 1.0;\"/><polygon fill=\"#FFFFFF\" points=\"288.25,209.3,281.25,190.3,295.25,190.3,288.25,209.3\" style=\"stroke: #383838; stroke-width: 1.0;\"/><ellipse cx=\"283.25\" cy=\"184.6\" fill=\"#383838\" rx=\"2\" ry=\"2\" style=\"stroke: #383838; stroke-width: 1.0;\"/><ellipse cx=\"293.25\" cy=\"184.6\" fill=\"#383838\" rx=\"2\" ry=\"2\" style=\"stroke: #383838; stroke-width: 1.0;\"/></a><!--MD5=[111e5536516ee1ad7d4266f589654f03]\n",
       "link E14 to E5--><a href=\"psysml:bf4de082-8867-4b4d-b459-dc33df5641b4\" target=\"_top\" title=\"psysml:bf4de082-8867-4b4d-b459-dc33df5641b4\" xlink:actuate=\"onRequest\" xlink:href=\"psysml:bf4de082-8867-4b4d-b459-dc33df5641b4\" xlink:show=\"new\" xlink:title=\"psysml:bf4de082-8867-4b4d-b459-dc33df5641b4\" xlink:type=\"simple\"><path d=\"M131.56,113.72 C139.295,113.72 147.2213,113.72 154.7597,113.72 \" fill=\"none\" id=\"E14-&gt;E5\" style=\"stroke: #383838; stroke-width: 1.0;\"/><polygon fill=\"#FFFFFF\" points=\"154.7597,113.72,135.7597,120.72,135.7597,106.72,154.7597,113.72\" style=\"stroke: #383838; stroke-width: 1.0;\"/><ellipse cx=\"130.0597\" cy=\"118.72\" fill=\"#383838\" rx=\"2\" ry=\"2\" style=\"stroke: #383838; stroke-width: 1.0;\"/><ellipse cx=\"130.0597\" cy=\"108.72\" fill=\"#383838\" rx=\"2\" ry=\"2\" style=\"stroke: #383838; stroke-width: 1.0;\"/></a><!--MD5=[f7e33d1bf9f3bfc253eb30c896906a44]\n",
       "@startuml\r\n",
       "skinparam linetype ortho\r\n",
       "skinparam monochrome true\r\n",
       "skinparam classbackgroundcolor white\r\n",
       "skinparam shadowing false\r\n",
       "skinparam wrapWidth 300\r\n",
       "hide circle\r\n",
       "\r\n",
       "package \"CalculationExample\" as E1  [[psysml:7249bcac-c63a-48a6-adec-7cf675138100 ]]  {\r\n",
       "comp usage \"vehicle\" as E2  <<(T,blue)part>> [[psysml:14188455-78e6-45cf-9446-0197417271d8 ]] {\r\n",
       "- - attributes - -\r\n",
       "m: MassValue\r\n",
       "}\r\n",
       "comp usage \"eng\" as E3  <<(T,blue)part>> [[psysml:5beb719b-2071-4403-a403-a4a2a93a4090 ]] {\r\n",
       "- - attributes - -\r\n",
       "m: MassValue\r\n",
       "}\r\n",
       "comp usage \"trans\" as E4  <<(T,blue)part>> [[psysml:48862a39-11e7-4605-8aed-a0acf63d7872 ]] {\r\n",
       "- - attributes - -\r\n",
       "m: MassValue\r\n",
       "}\r\n",
       "rec def \"MassSum\" as E5  <<(T,blue)calculation def>> [[psysml:8857df12-96f9-4753-a6e3-dc799dcb9ed4 ]] {\r\n",
       "portin \"partMasses\" as E6  [[psysml:8ae5fd16-1397-4172-a6e5-0c084d8d7ca2 ]] \r\n",
       "portout \"totalMass\" as E7  [[psysml:5f15c55d-7a56-4485-be6d-5834d49cebc1 ]] \r\n",
       "portin \"$collection\" as E8  [[psysml:61806866-d159-447e-b132-fa56be682adf ]] \r\n",
       "portout \"$result\" as E9  [[psysml:6ddb7e29-61e7-4184-8db5-61f90a0c49bf ]] \r\n",
       "}\r\n",
       "\r\n",
       "comp usage \"ms: MassSum\" as E10  <<(T,blue)calculation>> [[psysml:1d10ff1d-94f3-4fcc-ad21-5a3c75a7ba0b ]] {\r\n",
       "}\r\n",
       "rec def \"MassSum1\" as E11  <<(T,blue)calculation def>> [[psysml:86e0ef61-a473-4ef3-8b23-ebbfee168e1c ]] {\r\n",
       "portin \"partMasses\" as E12  [[psysml:44765cb5-91e3-4973-8d66-b6f2e5bbf87d ]] \r\n",
       "portout \"totalMass\" as E13  [[psysml:8a0a1f2d-4441-4a8a-b849-a96ed87f36a5 ]] \r\n",
       "}\r\n",
       "\r\n",
       "comp usage \"ms1: MassSum\" as E14  <<(T,blue)calculation>> [[psysml:5bbc6089-c972-4222-8f32-76d519ddb8cd ]] {\r\n",
       "- - attributes - -\r\n",
       "partMasses\r\n",
       "totalMass\r\n",
       "}\r\n",
       "E2 *- - E3 [[psysml:5beb719b-2071-4403-a403-a4a2a93a4090 ]] \r\n",
       "E2 *- - E4 [[psysml:48862a39-11e7-4605-8aed-a0acf63d7872 ]] \r\n",
       "E7 -[thickness=5]- E9 [[psysml:5b55f712-f9b6-4e15-aeab-345c960b0653 ]] \r\n",
       "E10 - -:|> E5 [[psysml:9917c25f-6195-4027-a1da-c593e3e3b530 ]] \r\n",
       "E14 - -:|> E5 [[psysml:bf4de082-8867-4b4d-b459-dc33df5641b4 ]] \r\n",
       "}\r\n",
       "@enduml\r\n",
       "\n",
       "PlantUML version 1.2020.13(Sat Jun 13 12:26:38 UTC 2020)\n",
       "(EPL source distribution)\n",
       "Java Runtime: OpenJDK Runtime Environment\n",
       "JVM: OpenJDK 64-Bit Server VM\n",
       "Default Encoding: UTF-8\n",
       "Language: en\n",
       "Country: null\n",
       "--></g></svg>"
      ]
     },
     "execution_count": 51,
     "metadata": {},
     "output_type": "execute_result"
    }
   ],
   "source": [
    "%viz --style=\"ORTHOLINE\" --view=\"Default\" \"CalculationExample\""
   ]
  },
  {
   "cell_type": "code",
   "execution_count": 52,
   "id": "resistant-canberra",
   "metadata": {
    "execution": {
     "iopub.execute_input": "2021-03-26T09:16:00.636310Z",
     "iopub.status.busy": "2021-03-26T09:16:00.635846Z",
     "iopub.status.idle": "2021-03-26T09:16:00.725884Z",
     "shell.execute_reply": "2021-03-26T09:16:00.724553Z"
    }
   },
   "outputs": [
    {
     "data": {
      "image/svg+xml": [
       "<?xml version=\"1.0\" encoding=\"UTF-8\" standalone=\"no\"?><svg xmlns=\"http://www.w3.org/2000/svg\" xmlns:xlink=\"http://www.w3.org/1999/xlink\" contentScriptType=\"application/ecmascript\" contentStyleType=\"text/css\" height=\"293px\" preserveAspectRatio=\"none\" style=\"width:607px;height:293px;\" version=\"1.1\" viewBox=\"0 0 607 293\" width=\"607px\" zoomAndPan=\"magnify\"><defs/><g><!--MD5=[fbc87193dbaf4d95561dea2c320d4a47]\n",
       "cluster E1--><a href=\"psysml:7249bcac-c63a-48a6-adec-7cf675138100\" target=\"_top\" title=\"psysml:7249bcac-c63a-48a6-adec-7cf675138100\" xlink:actuate=\"onRequest\" xlink:href=\"psysml:7249bcac-c63a-48a6-adec-7cf675138100\" xlink:show=\"new\" xlink:title=\"psysml:7249bcac-c63a-48a6-adec-7cf675138100\" xlink:type=\"simple\"><polygon fill=\"#FFFFFF\" points=\"16,6,173,6,180,28.2969,585,28.2969,585,281,16,281,16,6\" style=\"stroke: #000000; stroke-width: 1.5;\"/><line style=\"stroke: #000000; stroke-width: 1.5;\" x1=\"16\" x2=\"180\" y1=\"28.2969\" y2=\"28.2969\"/><text fill=\"#000000\" font-family=\"sans-serif\" font-size=\"14\" font-weight=\"bold\" lengthAdjust=\"spacingAndGlyphs\" textLength=\"151\" x=\"20\" y=\"20.9951\">CalculationExample</text></a><!--MD5=[b4997ac47864f28c2f74865a473b2911]\n",
       "class E2--><a href=\"psysml:14188455-78e6-45cf-9446-0197417271d8\" target=\"_top\" title=\"psysml:14188455-78e6-45cf-9446-0197417271d8\" xlink:actuate=\"onRequest\" xlink:href=\"psysml:14188455-78e6-45cf-9446-0197417271d8\" xlink:show=\"new\" xlink:title=\"psysml:14188455-78e6-45cf-9446-0197417271d8\" xlink:type=\"simple\"><rect fill=\"#FFFFFF\" height=\"75.5469\" id=\"E2\" rx=\"10\" ry=\"10\" style=\"stroke: #383838; stroke-width: 1.5;\" width=\"92\" x=\"477\" y=\"47\"/><text fill=\"#000000\" font-family=\"sans-serif\" font-size=\"12\" font-style=\"italic\" lengthAdjust=\"spacingAndGlyphs\" textLength=\"40\" x=\"503\" y=\"63.1387\">«part»</text><text fill=\"#000000\" font-family=\"sans-serif\" font-size=\"12\" lengthAdjust=\"spacingAndGlyphs\" textLength=\"43\" x=\"501.5\" y=\"77.1074\">vehicle</text><line style=\"stroke: #383838; stroke-width: 1.5;\" x1=\"478\" x2=\"568\" y1=\"84.9375\" y2=\"84.9375\"/><text fill=\"#000000\" font-family=\"sans-serif\" font-size=\"11\" lengthAdjust=\"spacingAndGlyphs\" textLength=\"80\" x=\"483\" y=\"115.9526\">m: MassValue</text><line style=\"stroke: #383838; stroke-width: 1.0;\" x1=\"478\" x2=\"495.5\" y1=\"99.3398\" y2=\"99.3398\"/><text fill=\"#000000\" font-family=\"sans-serif\" font-size=\"11\" lengthAdjust=\"spacingAndGlyphs\" textLength=\"55\" x=\"495.5\" y=\"102.6479\">attributes</text><line style=\"stroke: #383838; stroke-width: 1.0;\" x1=\"550.5\" x2=\"568\" y1=\"99.3398\" y2=\"99.3398\"/></a><!--MD5=[09b614a08d8cba4a07c9adeb5e0fee81]\n",
       "class E3--><a href=\"psysml:5beb719b-2071-4403-a403-a4a2a93a4090\" target=\"_top\" title=\"psysml:5beb719b-2071-4403-a403-a4a2a93a4090\" xlink:actuate=\"onRequest\" xlink:href=\"psysml:5beb719b-2071-4403-a403-a4a2a93a4090\" xlink:show=\"new\" xlink:title=\"psysml:5beb719b-2071-4403-a403-a4a2a93a4090\" xlink:type=\"simple\"><rect fill=\"#FFFFFF\" height=\"75.5469\" id=\"E3\" rx=\"10\" ry=\"10\" style=\"stroke: #383838; stroke-width: 1.5;\" width=\"92\" x=\"350\" y=\"189\"/><text fill=\"#000000\" font-family=\"sans-serif\" font-size=\"12\" font-style=\"italic\" lengthAdjust=\"spacingAndGlyphs\" textLength=\"40\" x=\"376\" y=\"205.1387\">«part»</text><text fill=\"#000000\" font-family=\"sans-serif\" font-size=\"12\" lengthAdjust=\"spacingAndGlyphs\" textLength=\"24\" x=\"384\" y=\"219.1074\">eng</text><line style=\"stroke: #383838; stroke-width: 1.5;\" x1=\"351\" x2=\"441\" y1=\"226.9375\" y2=\"226.9375\"/><text fill=\"#000000\" font-family=\"sans-serif\" font-size=\"11\" lengthAdjust=\"spacingAndGlyphs\" textLength=\"80\" x=\"356\" y=\"257.9526\">m: MassValue</text><line style=\"stroke: #383838; stroke-width: 1.0;\" x1=\"351\" x2=\"368.5\" y1=\"241.3398\" y2=\"241.3398\"/><text fill=\"#000000\" font-family=\"sans-serif\" font-size=\"11\" lengthAdjust=\"spacingAndGlyphs\" textLength=\"55\" x=\"368.5\" y=\"244.6479\">attributes</text><line style=\"stroke: #383838; stroke-width: 1.0;\" x1=\"423.5\" x2=\"441\" y1=\"241.3398\" y2=\"241.3398\"/></a><!--MD5=[ebbe1d658d1005bcc118a6aa81145e00]\n",
       "class E4--><a href=\"psysml:48862a39-11e7-4605-8aed-a0acf63d7872\" target=\"_top\" title=\"psysml:48862a39-11e7-4605-8aed-a0acf63d7872\" xlink:actuate=\"onRequest\" xlink:href=\"psysml:48862a39-11e7-4605-8aed-a0acf63d7872\" xlink:show=\"new\" xlink:title=\"psysml:48862a39-11e7-4605-8aed-a0acf63d7872\" xlink:type=\"simple\"><rect fill=\"#FFFFFF\" height=\"75.5469\" id=\"E4\" rx=\"10\" ry=\"10\" style=\"stroke: #383838; stroke-width: 1.5;\" width=\"92\" x=\"477\" y=\"189\"/><text fill=\"#000000\" font-family=\"sans-serif\" font-size=\"12\" font-style=\"italic\" lengthAdjust=\"spacingAndGlyphs\" textLength=\"40\" x=\"503\" y=\"205.1387\">«part»</text><text fill=\"#000000\" font-family=\"sans-serif\" font-size=\"12\" lengthAdjust=\"spacingAndGlyphs\" textLength=\"33\" x=\"506.5\" y=\"219.1074\">trans</text><line style=\"stroke: #383838; stroke-width: 1.5;\" x1=\"478\" x2=\"568\" y1=\"226.9375\" y2=\"226.9375\"/><text fill=\"#000000\" font-family=\"sans-serif\" font-size=\"11\" lengthAdjust=\"spacingAndGlyphs\" textLength=\"80\" x=\"483\" y=\"257.9526\">m: MassValue</text><line style=\"stroke: #383838; stroke-width: 1.0;\" x1=\"478\" x2=\"495.5\" y1=\"241.3398\" y2=\"241.3398\"/><text fill=\"#000000\" font-family=\"sans-serif\" font-size=\"11\" lengthAdjust=\"spacingAndGlyphs\" textLength=\"55\" x=\"495.5\" y=\"244.6479\">attributes</text><line style=\"stroke: #383838; stroke-width: 1.0;\" x1=\"550.5\" x2=\"568\" y1=\"241.3398\" y2=\"241.3398\"/></a><!--MD5=[270fce915f116d4de14055a7c1d9a0f3]\n",
       "class E5--><a href=\"psysml:8857df12-96f9-4753-a6e3-dc799dcb9ed4\" target=\"_top\" title=\"psysml:8857df12-96f9-4753-a6e3-dc799dcb9ed4\" xlink:actuate=\"onRequest\" xlink:href=\"psysml:8857df12-96f9-4753-a6e3-dc799dcb9ed4\" xlink:show=\"new\" xlink:title=\"psysml:8857df12-96f9-4753-a6e3-dc799dcb9ed4\" xlink:type=\"simple\"><rect fill=\"#FFFFFF\" height=\"45.9375\" id=\"E5\" style=\"stroke: #383838; stroke-width: 1.5;\" width=\"108\" x=\"120\" y=\"204\"/><text fill=\"#000000\" font-family=\"sans-serif\" font-size=\"12\" font-style=\"italic\" lengthAdjust=\"spacingAndGlyphs\" textLength=\"106\" x=\"121\" y=\"220.1387\">«calculation def»</text><text fill=\"#000000\" font-family=\"sans-serif\" font-size=\"12\" lengthAdjust=\"spacingAndGlyphs\" textLength=\"59\" x=\"144.5\" y=\"234.1074\">MassSum</text><line style=\"stroke: #383838; stroke-width: 1.5;\" x1=\"121\" x2=\"227\" y1=\"241.9375\" y2=\"241.9375\"/></a><!--MD5=[60a26617385b1d2d0262a64233df1f8d]\n",
       "class E6--><a href=\"psysml:1d10ff1d-94f3-4fcc-ad21-5a3c75a7ba0b\" target=\"_top\" title=\"psysml:1d10ff1d-94f3-4fcc-ad21-5a3c75a7ba0b\" xlink:actuate=\"onRequest\" xlink:href=\"psysml:1d10ff1d-94f3-4fcc-ad21-5a3c75a7ba0b\" xlink:show=\"new\" xlink:title=\"psysml:1d10ff1d-94f3-4fcc-ad21-5a3c75a7ba0b\" xlink:type=\"simple\"><rect fill=\"#FFFFFF\" height=\"45.9375\" id=\"E6\" rx=\"10\" ry=\"10\" style=\"stroke: #383838; stroke-width: 1.5;\" width=\"91\" x=\"350.5\" y=\"62\"/><text fill=\"#000000\" font-family=\"sans-serif\" font-size=\"12\" font-style=\"italic\" lengthAdjust=\"spacingAndGlyphs\" textLength=\"82\" x=\"355\" y=\"78.1387\">«calculation»</text><text fill=\"#000000\" font-family=\"sans-serif\" font-size=\"12\" lengthAdjust=\"spacingAndGlyphs\" textLength=\"85\" x=\"353.5\" y=\"92.1074\">ms: MassSum</text><line style=\"stroke: #383838; stroke-width: 1.5;\" x1=\"351.5\" x2=\"440.5\" y1=\"99.9375\" y2=\"99.9375\"/></a><!--MD5=[2156ba9850f5573cc1fc38a6a4b2f02b]\n",
       "class E7--><a href=\"psysml:86e0ef61-a473-4ef3-8b23-ebbfee168e1c\" target=\"_top\" title=\"psysml:86e0ef61-a473-4ef3-8b23-ebbfee168e1c\" xlink:actuate=\"onRequest\" xlink:href=\"psysml:86e0ef61-a473-4ef3-8b23-ebbfee168e1c\" xlink:show=\"new\" xlink:title=\"psysml:86e0ef61-a473-4ef3-8b23-ebbfee168e1c\" xlink:type=\"simple\"><rect fill=\"#FFFFFF\" height=\"88.3516\" id=\"E7\" style=\"stroke: #383838; stroke-width: 1.5;\" width=\"148\" x=\"167\" y=\"41\"/><text fill=\"#000000\" font-family=\"sans-serif\" font-size=\"12\" font-style=\"italic\" lengthAdjust=\"spacingAndGlyphs\" textLength=\"106\" x=\"188\" y=\"57.1387\">«calculation def»</text><text fill=\"#000000\" font-family=\"sans-serif\" font-size=\"12\" lengthAdjust=\"spacingAndGlyphs\" textLength=\"67\" x=\"207.5\" y=\"71.1074\">MassSum1</text><line style=\"stroke: #383838; stroke-width: 1.5;\" x1=\"168\" x2=\"314\" y1=\"78.9375\" y2=\"78.9375\"/><text fill=\"#000000\" font-family=\"sans-serif\" font-size=\"11\" lengthAdjust=\"spacingAndGlyphs\" textLength=\"136\" x=\"173\" y=\"109.9526\">partMasses: MassValue</text><text fill=\"#000000\" font-family=\"sans-serif\" font-size=\"11\" lengthAdjust=\"spacingAndGlyphs\" textLength=\"124\" x=\"173\" y=\"122.7573\">totalMass: MassValue</text><line style=\"stroke: #383838; stroke-width: 1.0;\" x1=\"168\" x2=\"213.5\" y1=\"93.3398\" y2=\"93.3398\"/><text fill=\"#000000\" font-family=\"sans-serif\" font-size=\"11\" lengthAdjust=\"spacingAndGlyphs\" textLength=\"55\" x=\"213.5\" y=\"96.6479\">attributes</text><line style=\"stroke: #383838; stroke-width: 1.0;\" x1=\"268.5\" x2=\"314\" y1=\"93.3398\" y2=\"93.3398\"/></a><!--MD5=[b9389687b975829384b498ac4b7476b2]\n",
       "class E8--><a href=\"psysml:5bbc6089-c972-4222-8f32-76d519ddb8cd\" target=\"_top\" title=\"psysml:5bbc6089-c972-4222-8f32-76d519ddb8cd\" xlink:actuate=\"onRequest\" xlink:href=\"psysml:5bbc6089-c972-4222-8f32-76d519ddb8cd\" xlink:show=\"new\" xlink:title=\"psysml:5bbc6089-c972-4222-8f32-76d519ddb8cd\" xlink:type=\"simple\"><rect fill=\"#FFFFFF\" height=\"88.3516\" id=\"E8\" rx=\"10\" ry=\"10\" style=\"stroke: #383838; stroke-width: 1.5;\" width=\"99\" x=\"32.5\" y=\"41\"/><text fill=\"#000000\" font-family=\"sans-serif\" font-size=\"12\" font-style=\"italic\" lengthAdjust=\"spacingAndGlyphs\" textLength=\"82\" x=\"41\" y=\"57.1387\">«calculation»</text><text fill=\"#000000\" font-family=\"sans-serif\" font-size=\"12\" lengthAdjust=\"spacingAndGlyphs\" textLength=\"93\" x=\"35.5\" y=\"71.1074\">ms1: MassSum</text><line style=\"stroke: #383838; stroke-width: 1.5;\" x1=\"33.5\" x2=\"130.5\" y1=\"78.9375\" y2=\"78.9375\"/><text fill=\"#000000\" font-family=\"sans-serif\" font-size=\"11\" lengthAdjust=\"spacingAndGlyphs\" textLength=\"67\" x=\"38.5\" y=\"109.9526\">partMasses</text><text fill=\"#000000\" font-family=\"sans-serif\" font-size=\"11\" lengthAdjust=\"spacingAndGlyphs\" textLength=\"55\" x=\"38.5\" y=\"122.7573\">totalMass</text><line style=\"stroke: #383838; stroke-width: 1.0;\" x1=\"33.5\" x2=\"54.5\" y1=\"93.3398\" y2=\"93.3398\"/><text fill=\"#000000\" font-family=\"sans-serif\" font-size=\"11\" lengthAdjust=\"spacingAndGlyphs\" textLength=\"55\" x=\"54.5\" y=\"96.6479\">attributes</text><line style=\"stroke: #383838; stroke-width: 1.0;\" x1=\"109.5\" x2=\"130.5\" y1=\"93.3398\" y2=\"93.3398\"/></a><!--MD5=[209b3feb70ccb6233bfe1053d122c12c]\n",
       "reverse link E2 to E3--><a href=\"psysml:5beb719b-2071-4403-a403-a4a2a93a4090\" target=\"_top\" title=\"psysml:5beb719b-2071-4403-a403-a4a2a93a4090\" xlink:actuate=\"onRequest\" xlink:href=\"psysml:5beb719b-2071-4403-a403-a4a2a93a4090\" xlink:show=\"new\" xlink:title=\"psysml:5beb719b-2071-4403-a403-a4a2a93a4090\" xlink:type=\"simple\"><path d=\"M463.79,116 C463.79,116 396,116 396,116 C396,116 396,156.69 396,188.8 \" fill=\"none\" id=\"E2&lt;-E3\" style=\"stroke: #383838; stroke-width: 1.0;\"/><polygon fill=\"#383838\" points=\"476.79,116,470.79,112,464.79,116,470.79,120,476.79,116\" style=\"stroke: #383838; stroke-width: 1.0;\"/></a><!--MD5=[9618e71518536f8baf3342ff6fdab317]\n",
       "reverse link E2 to E4--><a href=\"psysml:48862a39-11e7-4605-8aed-a0acf63d7872\" target=\"_top\" title=\"psysml:48862a39-11e7-4605-8aed-a0acf63d7872\" xlink:actuate=\"onRequest\" xlink:href=\"psysml:48862a39-11e7-4605-8aed-a0acf63d7872\" xlink:show=\"new\" xlink:title=\"psysml:48862a39-11e7-4605-8aed-a0acf63d7872\" xlink:type=\"simple\"><path d=\"M523,136.05 C523,136.05 523,188.84 523,188.84 \" fill=\"none\" id=\"E2&lt;-E4\" style=\"stroke: #383838; stroke-width: 1.0;\"/><polygon fill=\"#383838\" points=\"523,123.05,519,129.05,523,135.05,527,129.05,523,123.05\" style=\"stroke: #383838; stroke-width: 1.0;\"/></a><!--MD5=[25b190c987b1e74e5126d372c5a73af1]\n",
       "link E6 to E5--><a href=\"psysml:9917c25f-6195-4027-a1da-c593e3e3b530\" target=\"_top\" title=\"psysml:9917c25f-6195-4027-a1da-c593e3e3b530\" xlink:actuate=\"onRequest\" xlink:href=\"psysml:9917c25f-6195-4027-a1da-c593e3e3b530\" xlink:show=\"new\" xlink:title=\"psysml:9917c25f-6195-4027-a1da-c593e3e3b530\" xlink:type=\"simple\"><path d=\"M350.19,85 C340.17,85 332.5,85 332.5,85 C332.5,85 332.5,227 332.5,227 C332.5,227 248.1,227 248.1,227 \" fill=\"none\" id=\"E6-&gt;E5\" style=\"stroke: #383838; stroke-width: 1.0;\"/><polygon fill=\"#FFFFFF\" points=\"228.1,227,247.1,220,247.1,234,228.1,227\" style=\"stroke: #383838; stroke-width: 1.0;\"/><ellipse cx=\"252.8\" cy=\"222\" fill=\"#383838\" rx=\"2\" ry=\"2\" style=\"stroke: #383838; stroke-width: 1.0;\"/><ellipse cx=\"252.8\" cy=\"232\" fill=\"#383838\" rx=\"2\" ry=\"2\" style=\"stroke: #383838; stroke-width: 1.0;\"/></a><!--MD5=[1ccb2481ffa92f8d51a74ee30c51832a]\n",
       "link E8 to E5--><a href=\"psysml:bf4de082-8867-4b4d-b459-dc33df5641b4\" target=\"_top\" title=\"psysml:bf4de082-8867-4b4d-b459-dc33df5641b4\" xlink:actuate=\"onRequest\" xlink:href=\"psysml:bf4de082-8867-4b4d-b459-dc33df5641b4\" xlink:show=\"new\" xlink:title=\"psysml:bf4de082-8867-4b4d-b459-dc33df5641b4\" xlink:type=\"simple\"><path d=\"M125.75,129.15 C125.75,129.15 125.75,183.93 125.75,183.93 \" fill=\"none\" id=\"E8-&gt;E5\" style=\"stroke: #383838; stroke-width: 1.0;\"/><polygon fill=\"#FFFFFF\" points=\"125.75,203.93,118.75,184.93,132.75,184.93,125.75,203.93\" style=\"stroke: #383838; stroke-width: 1.0;\"/><ellipse cx=\"120.75\" cy=\"179.23\" fill=\"#383838\" rx=\"2\" ry=\"2\" style=\"stroke: #383838; stroke-width: 1.0;\"/><ellipse cx=\"130.75\" cy=\"179.23\" fill=\"#383838\" rx=\"2\" ry=\"2\" style=\"stroke: #383838; stroke-width: 1.0;\"/></a><!--MD5=[fb02e347fd38858898d548eb5edf56fe]\n",
       "@startuml\r\n",
       "skinparam linetype ortho\r\n",
       "skinparam monochrome true\r\n",
       "skinparam classbackgroundcolor white\r\n",
       "skinparam shadowing false\r\n",
       "skinparam wrapWidth 300\r\n",
       "hide circle\r\n",
       "\r\n",
       "package \"CalculationExample\" as E1  [[psysml:7249bcac-c63a-48a6-adec-7cf675138100 ]]  {\r\n",
       "comp usage \"vehicle\" as E2  <<(T,blue)part>> [[psysml:14188455-78e6-45cf-9446-0197417271d8 ]] {\r\n",
       "- - attributes - -\r\n",
       "m: MassValue\r\n",
       "}\r\n",
       "comp usage \"eng\" as E3  <<(T,blue)part>> [[psysml:5beb719b-2071-4403-a403-a4a2a93a4090 ]] {\r\n",
       "- - attributes - -\r\n",
       "m: MassValue\r\n",
       "}\r\n",
       "comp usage \"trans\" as E4  <<(T,blue)part>> [[psysml:48862a39-11e7-4605-8aed-a0acf63d7872 ]] {\r\n",
       "- - attributes - -\r\n",
       "m: MassValue\r\n",
       "}\r\n",
       "comp def \"MassSum\" as E5  <<(T,blue)calculation def>> [[psysml:8857df12-96f9-4753-a6e3-dc799dcb9ed4 ]] {\r\n",
       "}\r\n",
       "comp usage \"ms: MassSum\" as E6  <<(T,blue)calculation>> [[psysml:1d10ff1d-94f3-4fcc-ad21-5a3c75a7ba0b ]] {\r\n",
       "}\r\n",
       "comp def \"MassSum1\" as E7  <<(T,blue)calculation def>> [[psysml:86e0ef61-a473-4ef3-8b23-ebbfee168e1c ]] {\r\n",
       "- - attributes - -\r\n",
       "partMasses: MassValue\r\n",
       "totalMass: MassValue\r\n",
       "}\r\n",
       "comp usage \"ms1: MassSum\" as E8  <<(T,blue)calculation>> [[psysml:5bbc6089-c972-4222-8f32-76d519ddb8cd ]] {\r\n",
       "- - attributes - -\r\n",
       "partMasses\r\n",
       "totalMass\r\n",
       "}\r\n",
       "E2 *- - E3 [[psysml:5beb719b-2071-4403-a403-a4a2a93a4090 ]] \r\n",
       "E2 *- - E4 [[psysml:48862a39-11e7-4605-8aed-a0acf63d7872 ]] \r\n",
       "E6 - -:|> E5 [[psysml:9917c25f-6195-4027-a1da-c593e3e3b530 ]] \r\n",
       "E8 - -:|> E5 [[psysml:bf4de082-8867-4b4d-b459-dc33df5641b4 ]] \r\n",
       "}\r\n",
       "@enduml\r\n",
       "\n",
       "PlantUML version 1.2020.13(Sat Jun 13 12:26:38 UTC 2020)\n",
       "(EPL source distribution)\n",
       "Java Runtime: OpenJDK Runtime Environment\n",
       "JVM: OpenJDK 64-Bit Server VM\n",
       "Default Encoding: UTF-8\n",
       "Language: en\n",
       "Country: null\n",
       "--></g></svg>"
      ]
     },
     "execution_count": 52,
     "metadata": {},
     "output_type": "execute_result"
    }
   ],
   "source": [
    "%viz --style=\"ORTHOLINE\" --view=\"Tree\" \"CalculationExample\""
   ]
  },
  {
   "cell_type": "code",
   "execution_count": 53,
   "id": "medium-economics",
   "metadata": {
    "execution": {
     "iopub.execute_input": "2021-03-26T09:16:00.776172Z",
     "iopub.status.busy": "2021-03-26T09:16:00.775839Z",
     "iopub.status.idle": "2021-03-26T09:16:00.782536Z",
     "shell.execute_reply": "2021-03-26T09:16:00.781843Z"
    }
   },
   "outputs": [
    {
     "data": {
      "image/svg+xml": [
       "<?xml version=\"1.0\" encoding=\"UTF-8\" standalone=\"no\"?><svg xmlns=\"http://www.w3.org/2000/svg\" xmlns:xlink=\"http://www.w3.org/1999/xlink\" contentScriptType=\"application/ecmascript\" contentStyleType=\"text/css\" height=\"12px\" preserveAspectRatio=\"none\" style=\"width:12px;height:12px;\" version=\"1.1\" viewBox=\"0 0 12 12\" width=\"12px\" zoomAndPan=\"magnify\"><defs/><g><!--MD5=[97d6f38768b311333d388e66b2b27985]\n",
       "@startuml\r\n",
       "skinparam linetype ortho\r\n",
       "skinparam monochrome true\r\n",
       "skinparam classbackgroundcolor white\r\n",
       "skinparam shadowing false\r\n",
       "skinparam wrapWidth 300\r\n",
       "hide circle\r\n",
       "\r\n",
       "@enduml\r\n",
       "\n",
       "PlantUML version 1.2020.13(Sat Jun 13 12:26:38 UTC 2020)\n",
       "(EPL source distribution)\n",
       "Java Runtime: OpenJDK Runtime Environment\n",
       "JVM: OpenJDK 64-Bit Server VM\n",
       "Default Encoding: UTF-8\n",
       "Language: en\n",
       "Country: null\n",
       "--></g></svg>"
      ]
     },
     "execution_count": 53,
     "metadata": {},
     "output_type": "execute_result"
    }
   ],
   "source": [
    "%viz --style=\"ORTHOLINE\" --view=\"State\" \"CalculationExample\""
   ]
  },
  {
   "cell_type": "code",
   "execution_count": 54,
   "id": "wrong-minority",
   "metadata": {
    "execution": {
     "iopub.execute_input": "2021-03-26T09:16:00.833626Z",
     "iopub.status.busy": "2021-03-26T09:16:00.833259Z",
     "iopub.status.idle": "2021-03-26T09:16:00.872097Z",
     "shell.execute_reply": "2021-03-26T09:16:00.870777Z"
    }
   },
   "outputs": [
    {
     "data": {
      "image/svg+xml": [
       "<?xml version=\"1.0\" encoding=\"UTF-8\" standalone=\"no\"?><svg xmlns=\"http://www.w3.org/2000/svg\" xmlns:xlink=\"http://www.w3.org/1999/xlink\" contentScriptType=\"application/ecmascript\" contentStyleType=\"text/css\" height=\"246px\" preserveAspectRatio=\"none\" style=\"width:881px;height:246px;\" version=\"1.1\" viewBox=\"0 0 881 246\" width=\"881px\" zoomAndPan=\"magnify\"><defs/><g><!--MD5=[fbc87193dbaf4d95561dea2c320d4a47]\n",
       "cluster E1--><a href=\"psysml:7249bcac-c63a-48a6-adec-7cf675138100\" target=\"_top\" title=\"psysml:7249bcac-c63a-48a6-adec-7cf675138100\" xlink:actuate=\"onRequest\" xlink:href=\"psysml:7249bcac-c63a-48a6-adec-7cf675138100\" xlink:show=\"new\" xlink:title=\"psysml:7249bcac-c63a-48a6-adec-7cf675138100\" xlink:type=\"simple\"><polygon fill=\"#FFFFFF\" points=\"16,6,173,6,180,28.2969,859,28.2969,859,234,16,234,16,6\" style=\"stroke: #000000; stroke-width: 1.5;\"/><line style=\"stroke: #000000; stroke-width: 1.5;\" x1=\"16\" x2=\"180\" y1=\"28.2969\" y2=\"28.2969\"/><text fill=\"#000000\" font-family=\"sans-serif\" font-size=\"14\" font-weight=\"bold\" lengthAdjust=\"spacingAndGlyphs\" textLength=\"151\" x=\"20\" y=\"20.9951\">CalculationExample</text></a><!--MD5=[e4f7fae6ed58524ba242bb0b0d3be6b7]\n",
       "cluster E2--><a href=\"psysml:14188455-78e6-45cf-9446-0197417271d8\" target=\"_top\" title=\"psysml:14188455-78e6-45cf-9446-0197417271d8\" xlink:actuate=\"onRequest\" xlink:href=\"psysml:14188455-78e6-45cf-9446-0197417271d8\" xlink:show=\"new\" xlink:title=\"psysml:14188455-78e6-45cf-9446-0197417271d8\" xlink:type=\"simple\"><rect fill=\"#FFFFFF\" height=\"161\" id=\"E2\" rx=\"10\" ry=\"10\" style=\"stroke: #383838; stroke-width: 1.5;\" width=\"436\" x=\"399\" y=\"49\"/><rect fill=\"#F8F8F8\" height=\"23.9688\" rx=\"10\" ry=\"10\" style=\"stroke: #F8F8F8; stroke-width: 1.5;\" width=\"436\" x=\"399\" y=\"49\"/><rect fill=\"#F8F8F8\" height=\"10\" style=\"stroke: #F8F8F8; stroke-width: 1.5;\" width=\"436\" x=\"399\" y=\"62.9688\"/><rect fill=\"none\" height=\"161\" id=\"E2\" rx=\"10\" ry=\"10\" style=\"stroke: #383838; stroke-width: 1.5;\" width=\"436\" x=\"399\" y=\"49\"/><text fill=\"#000000\" font-family=\"sans-serif\" font-size=\"12\" lengthAdjust=\"spacingAndGlyphs\" textLength=\"43\" x=\"595.5\" y=\"65.1387\">vehicle</text><line style=\"stroke: #383838; stroke-width: 1.0;\" x1=\"399\" x2=\"835\" y1=\"72.9688\" y2=\"72.9688\"/></a><!--MD5=[f6df4d0ebaf0b5dfb2ced0ae5af7c670]\n",
       "cluster E4--><a href=\"psysml:5beb719b-2071-4403-a403-a4a2a93a4090\" target=\"_top\" title=\"psysml:5beb719b-2071-4403-a403-a4a2a93a4090\" xlink:actuate=\"onRequest\" xlink:href=\"psysml:5beb719b-2071-4403-a403-a4a2a93a4090\" xlink:show=\"new\" xlink:title=\"psysml:5beb719b-2071-4403-a403-a4a2a93a4090\" xlink:type=\"simple\"><rect fill=\"#FFFFFF\" height=\"94\" id=\"E4\" rx=\"10\" ry=\"10\" style=\"stroke: #383838; stroke-width: 1.5;\" width=\"128\" x=\"683\" y=\"92\"/><rect fill=\"#F8F8F8\" height=\"23.9688\" rx=\"10\" ry=\"10\" style=\"stroke: #F8F8F8; stroke-width: 1.5;\" width=\"128\" x=\"683\" y=\"92\"/><rect fill=\"#F8F8F8\" height=\"10\" style=\"stroke: #F8F8F8; stroke-width: 1.5;\" width=\"128\" x=\"683\" y=\"105.9688\"/><rect fill=\"none\" height=\"94\" id=\"E4\" rx=\"10\" ry=\"10\" style=\"stroke: #383838; stroke-width: 1.5;\" width=\"128\" x=\"683\" y=\"92\"/><text fill=\"#000000\" font-family=\"sans-serif\" font-size=\"12\" lengthAdjust=\"spacingAndGlyphs\" textLength=\"24\" x=\"735\" y=\"108.1387\">eng</text><line style=\"stroke: #383838; stroke-width: 1.0;\" x1=\"683\" x2=\"811\" y1=\"115.9688\" y2=\"115.9688\"/></a><!--MD5=[14e3b0961a2654348d326746436168a1]\n",
       "cluster E6--><a href=\"psysml:48862a39-11e7-4605-8aed-a0acf63d7872\" target=\"_top\" title=\"psysml:48862a39-11e7-4605-8aed-a0acf63d7872\" xlink:actuate=\"onRequest\" xlink:href=\"psysml:48862a39-11e7-4605-8aed-a0acf63d7872\" xlink:show=\"new\" xlink:title=\"psysml:48862a39-11e7-4605-8aed-a0acf63d7872\" xlink:type=\"simple\"><rect fill=\"#FFFFFF\" height=\"94\" id=\"E6\" rx=\"10\" ry=\"10\" style=\"stroke: #383838; stroke-width: 1.5;\" width=\"128\" x=\"531\" y=\"92\"/><rect fill=\"#F8F8F8\" height=\"23.9688\" rx=\"10\" ry=\"10\" style=\"stroke: #F8F8F8; stroke-width: 1.5;\" width=\"128\" x=\"531\" y=\"92\"/><rect fill=\"#F8F8F8\" height=\"10\" style=\"stroke: #F8F8F8; stroke-width: 1.5;\" width=\"128\" x=\"531\" y=\"105.9688\"/><rect fill=\"none\" height=\"94\" id=\"E6\" rx=\"10\" ry=\"10\" style=\"stroke: #383838; stroke-width: 1.5;\" width=\"128\" x=\"531\" y=\"92\"/><text fill=\"#000000\" font-family=\"sans-serif\" font-size=\"12\" lengthAdjust=\"spacingAndGlyphs\" textLength=\"33\" x=\"578.5\" y=\"108.1387\">trans</text><line style=\"stroke: #383838; stroke-width: 1.0;\" x1=\"531\" x2=\"659\" y1=\"115.9688\" y2=\"115.9688\"/></a><!--MD5=[b9389687b975829384b498ac4b7476b2]\n",
       "class E8--><a href=\"psysml:8857df12-96f9-4753-a6e3-dc799dcb9ed4\" target=\"_top\" title=\"psysml:8857df12-96f9-4753-a6e3-dc799dcb9ed4\" xlink:actuate=\"onRequest\" xlink:href=\"psysml:8857df12-96f9-4753-a6e3-dc799dcb9ed4\" xlink:show=\"new\" xlink:title=\"psysml:8857df12-96f9-4753-a6e3-dc799dcb9ed4\" xlink:type=\"simple\"><rect fill=\"#FFFFFF\" height=\"53.9375\" id=\"E8\" style=\"stroke: #383838; stroke-width: 1.5;\" width=\"156\" x=\"223\" y=\"121.5\"/><text fill=\"#000000\" font-family=\"sans-serif\" font-size=\"12\" font-style=\"italic\" lengthAdjust=\"spacingAndGlyphs\" textLength=\"154\" x=\"224\" y=\"137.6387\">«(T,blue)calculation def»</text><text fill=\"#000000\" font-family=\"sans-serif\" font-size=\"12\" lengthAdjust=\"spacingAndGlyphs\" textLength=\"59\" x=\"271.5\" y=\"151.6074\">MassSum</text><line style=\"stroke: #383838; stroke-width: 1.5;\" x1=\"224\" x2=\"378\" y1=\"159.4375\" y2=\"159.4375\"/><line style=\"stroke: #383838; stroke-width: 1.5;\" x1=\"224\" x2=\"378\" y1=\"167.4375\" y2=\"167.4375\"/></a><!--MD5=[fd4143e9d270a159db93a4ea2a975926]\n",
       "class E9--><a href=\"psysml:86e0ef61-a473-4ef3-8b23-ebbfee168e1c\" target=\"_top\" title=\"psysml:86e0ef61-a473-4ef3-8b23-ebbfee168e1c\" xlink:actuate=\"onRequest\" xlink:href=\"psysml:86e0ef61-a473-4ef3-8b23-ebbfee168e1c\" xlink:show=\"new\" xlink:title=\"psysml:86e0ef61-a473-4ef3-8b23-ebbfee168e1c\" xlink:type=\"simple\"><rect fill=\"#FFFFFF\" height=\"53.9375\" id=\"E9\" style=\"stroke: #383838; stroke-width: 1.5;\" width=\"156\" x=\"32\" y=\"121.5\"/><text fill=\"#000000\" font-family=\"sans-serif\" font-size=\"12\" font-style=\"italic\" lengthAdjust=\"spacingAndGlyphs\" textLength=\"154\" x=\"33\" y=\"137.6387\">«(T,blue)calculation def»</text><text fill=\"#000000\" font-family=\"sans-serif\" font-size=\"12\" lengthAdjust=\"spacingAndGlyphs\" textLength=\"67\" x=\"76.5\" y=\"151.6074\">MassSum1</text><line style=\"stroke: #383838; stroke-width: 1.5;\" x1=\"33\" x2=\"187\" y1=\"159.4375\" y2=\"159.4375\"/><line style=\"stroke: #383838; stroke-width: 1.5;\" x1=\"33\" x2=\"187\" y1=\"167.4375\" y2=\"167.4375\"/></a><g id=\"E1.E2.E3\"><a href=\"psysml:536fae04-334d-4f68-a23e-e57d7170c38b\" target=\"_top\" title=\"psysml:536fae04-334d-4f68-a23e-e57d7170c38b\" xlink:actuate=\"onRequest\" xlink:href=\"psysml:536fae04-334d-4f68-a23e-e57d7170c38b\" xlink:show=\"new\" xlink:title=\"psysml:536fae04-334d-4f68-a23e-e57d7170c38b\" xlink:type=\"simple\"><rect fill=\"#FFFFFF\" height=\"42.9375\" id=\"E3\" rx=\"10\" ry=\"10\" style=\"stroke: #383838; stroke-width: 1.5;\" width=\"97\" x=\"414.5\" y=\"127\"/><rect fill=\"#F8F8F8\" height=\"37.9375\" rx=\"10\" ry=\"10\" style=\"stroke: #F8F8F8; stroke-width: 1.5;\" width=\"97\" x=\"414.5\" y=\"127\"/><rect fill=\"#F8F8F8\" height=\"10\" style=\"stroke: #F8F8F8; stroke-width: 1.5;\" width=\"97\" x=\"414.5\" y=\"154.9375\"/><rect fill=\"none\" height=\"42.9375\" id=\"E3\" rx=\"10\" ry=\"10\" style=\"stroke: #383838; stroke-width: 1.5;\" width=\"97\" x=\"414.5\" y=\"127\"/><text fill=\"#000000\" font-family=\"sans-serif\" font-size=\"12\" font-style=\"italic\" lengthAdjust=\"spacingAndGlyphs\" textLength=\"69\" x=\"428.5\" y=\"143.1387\">«attribute»</text><text fill=\"#000000\" font-family=\"sans-serif\" font-size=\"12\" lengthAdjust=\"spacingAndGlyphs\" textLength=\"86\" x=\"420\" y=\"157.1074\">m: MassValue</text></a></g><g id=\"E1.E2.E4.E5\"><a href=\"psysml:2d8c1579-6ad8-45a7-8b4f-8ac5dd6e770e\" target=\"_top\" title=\"psysml:2d8c1579-6ad8-45a7-8b4f-8ac5dd6e770e\" xlink:actuate=\"onRequest\" xlink:href=\"psysml:2d8c1579-6ad8-45a7-8b4f-8ac5dd6e770e\" xlink:show=\"new\" xlink:title=\"psysml:2d8c1579-6ad8-45a7-8b4f-8ac5dd6e770e\" xlink:type=\"simple\"><rect fill=\"#FFFFFF\" height=\"42.9375\" id=\"E5\" rx=\"10\" ry=\"10\" style=\"stroke: #383838; stroke-width: 1.5;\" width=\"97\" x=\"698.5\" y=\"127\"/><rect fill=\"#F8F8F8\" height=\"37.9375\" rx=\"10\" ry=\"10\" style=\"stroke: #F8F8F8; stroke-width: 1.5;\" width=\"97\" x=\"698.5\" y=\"127\"/><rect fill=\"#F8F8F8\" height=\"10\" style=\"stroke: #F8F8F8; stroke-width: 1.5;\" width=\"97\" x=\"698.5\" y=\"154.9375\"/><rect fill=\"none\" height=\"42.9375\" id=\"E5\" rx=\"10\" ry=\"10\" style=\"stroke: #383838; stroke-width: 1.5;\" width=\"97\" x=\"698.5\" y=\"127\"/><text fill=\"#000000\" font-family=\"sans-serif\" font-size=\"12\" font-style=\"italic\" lengthAdjust=\"spacingAndGlyphs\" textLength=\"69\" x=\"712.5\" y=\"143.1387\">«attribute»</text><text fill=\"#000000\" font-family=\"sans-serif\" font-size=\"12\" lengthAdjust=\"spacingAndGlyphs\" textLength=\"86\" x=\"704\" y=\"157.1074\">m: MassValue</text></a></g><g id=\"E1.E2.E6.E7\"><a href=\"psysml:aae9b164-5c75-4cd2-bd76-7fd4ffe374bb\" target=\"_top\" title=\"psysml:aae9b164-5c75-4cd2-bd76-7fd4ffe374bb\" xlink:actuate=\"onRequest\" xlink:href=\"psysml:aae9b164-5c75-4cd2-bd76-7fd4ffe374bb\" xlink:show=\"new\" xlink:title=\"psysml:aae9b164-5c75-4cd2-bd76-7fd4ffe374bb\" xlink:type=\"simple\"><rect fill=\"#FFFFFF\" height=\"42.9375\" id=\"E7\" rx=\"10\" ry=\"10\" style=\"stroke: #383838; stroke-width: 1.5;\" width=\"97\" x=\"546.5\" y=\"127\"/><rect fill=\"#F8F8F8\" height=\"37.9375\" rx=\"10\" ry=\"10\" style=\"stroke: #F8F8F8; stroke-width: 1.5;\" width=\"97\" x=\"546.5\" y=\"127\"/><rect fill=\"#F8F8F8\" height=\"10\" style=\"stroke: #F8F8F8; stroke-width: 1.5;\" width=\"97\" x=\"546.5\" y=\"154.9375\"/><rect fill=\"none\" height=\"42.9375\" id=\"E7\" rx=\"10\" ry=\"10\" style=\"stroke: #383838; stroke-width: 1.5;\" width=\"97\" x=\"546.5\" y=\"127\"/><text fill=\"#000000\" font-family=\"sans-serif\" font-size=\"12\" font-style=\"italic\" lengthAdjust=\"spacingAndGlyphs\" textLength=\"69\" x=\"560.5\" y=\"143.1387\">«attribute»</text><text fill=\"#000000\" font-family=\"sans-serif\" font-size=\"12\" lengthAdjust=\"spacingAndGlyphs\" textLength=\"86\" x=\"552\" y=\"157.1074\">m: MassValue</text></a></g><!--MD5=[a02ebfd1b356bc96d480c503bf80afce]\n",
       "@startuml\r\n",
       "skinparam ranksep 8\r\n",
       "skinparam rectangle {\r\n",
       " backgroundColor<<block>> LightGreen\r\n",
       "}\r\n",
       "skinparam linetype ortho\r\n",
       "skinparam monochrome true\r\n",
       "skinparam classbackgroundcolor white\r\n",
       "skinparam shadowing false\r\n",
       "skinparam wrapWidth 300\r\n",
       "hide circle\r\n",
       "\r\n",
       "package \"CalculationExample\" as E1  [[psysml:7249bcac-c63a-48a6-adec-7cf675138100 ]]  {\r\n",
       "rec usage \"vehicle\" as E2  [[psysml:14188455-78e6-45cf-9446-0197417271d8 ]] {\r\n",
       "rec usage \"m: MassValue\" as E3  <<(T,blue)attribute>> [[psysml:536fae04-334d-4f68-a23e-e57d7170c38b ]] {\r\n",
       "}\r\n",
       "rec usage \"eng\" as E4  [[psysml:5beb719b-2071-4403-a403-a4a2a93a4090 ]] {\r\n",
       "rec usage \"m: MassValue\" as E5  <<(T,blue)attribute>> [[psysml:2d8c1579-6ad8-45a7-8b4f-8ac5dd6e770e ]] {\r\n",
       "}\r\n",
       "}\r\n",
       "rec usage \"trans\" as E6  [[psysml:48862a39-11e7-4605-8aed-a0acf63d7872 ]] {\r\n",
       "rec usage \"m: MassValue\" as E7  <<(T,blue)attribute>> [[psysml:aae9b164-5c75-4cd2-bd76-7fd4ffe374bb ]] {\r\n",
       "}\r\n",
       "}\r\n",
       "}\r\n",
       "def \"MassSum\" as E8  <<(T,blue)calculation def>> [[psysml:8857df12-96f9-4753-a6e3-dc799dcb9ed4 ]] \r\n",
       "def \"MassSum1\" as E9  <<(T,blue)calculation def>> [[psysml:86e0ef61-a473-4ef3-8b23-ebbfee168e1c ]] \r\n",
       "}\r\n",
       "@enduml\r\n",
       "\n",
       "PlantUML version 1.2020.13(Sat Jun 13 12:26:38 UTC 2020)\n",
       "(EPL source distribution)\n",
       "Java Runtime: OpenJDK Runtime Environment\n",
       "JVM: OpenJDK 64-Bit Server VM\n",
       "Default Encoding: UTF-8\n",
       "Language: en\n",
       "Country: null\n",
       "--></g></svg>"
      ]
     },
     "execution_count": 54,
     "metadata": {},
     "output_type": "execute_result"
    }
   ],
   "source": [
    "%viz --style=\"ORTHOLINE\" --view=\"Interconnection\" \"CalculationExample\""
   ]
  },
  {
   "cell_type": "code",
   "execution_count": 55,
   "id": "political-birthday",
   "metadata": {
    "execution": {
     "iopub.execute_input": "2021-03-26T09:16:00.922021Z",
     "iopub.status.busy": "2021-03-26T09:16:00.921671Z",
     "iopub.status.idle": "2021-03-26T09:16:00.960092Z",
     "shell.execute_reply": "2021-03-26T09:16:00.958751Z"
    }
   },
   "outputs": [
    {
     "data": {
      "image/svg+xml": [
       "<?xml version=\"1.0\" encoding=\"UTF-8\" standalone=\"no\"?><svg xmlns=\"http://www.w3.org/2000/svg\" xmlns:xlink=\"http://www.w3.org/1999/xlink\" contentScriptType=\"application/ecmascript\" contentStyleType=\"text/css\" height=\"162px\" preserveAspectRatio=\"none\" style=\"width:676px;height:162px;\" version=\"1.1\" viewBox=\"0 0 676 162\" width=\"676px\" zoomAndPan=\"magnify\"><defs/><g><!--MD5=[fbc87193dbaf4d95561dea2c320d4a47]\n",
       "cluster E1--><a href=\"psysml:8857df12-96f9-4753-a6e3-dc799dcb9ed4\" target=\"_top\" title=\"psysml:8857df12-96f9-4753-a6e3-dc799dcb9ed4\" xlink:actuate=\"onRequest\" xlink:href=\"psysml:8857df12-96f9-4753-a6e3-dc799dcb9ed4\" xlink:show=\"new\" xlink:title=\"psysml:8857df12-96f9-4753-a6e3-dc799dcb9ed4\" xlink:type=\"simple\"><rect fill=\"#FFFFFF\" height=\"87.72\" id=\"E1\" style=\"stroke: #383838; stroke-width: 1.5;\" width=\"128\" x=\"28\" y=\"42.0986\"/><rect fill=\"#F8F8F8\" height=\"37.9375\" style=\"stroke: #383838; stroke-width: 1.5;\" width=\"128\" x=\"28\" y=\"42.0986\"/><text fill=\"#000000\" font-family=\"sans-serif\" font-size=\"12\" font-style=\"italic\" lengthAdjust=\"spacingAndGlyphs\" textLength=\"106\" x=\"39\" y=\"58.2373\">«calculation def»</text><text fill=\"#000000\" font-family=\"sans-serif\" font-size=\"12\" lengthAdjust=\"spacingAndGlyphs\" textLength=\"59\" x=\"62.5\" y=\"72.2061\">MassSum</text></a><!--MD5=[14e3b0961a2654348d326746436168a1]\n",
       "cluster E6--><a href=\"psysml:1d10ff1d-94f3-4fcc-ad21-5a3c75a7ba0b\" target=\"_top\" title=\"psysml:1d10ff1d-94f3-4fcc-ad21-5a3c75a7ba0b\" xlink:actuate=\"onRequest\" xlink:href=\"psysml:1d10ff1d-94f3-4fcc-ad21-5a3c75a7ba0b\" xlink:show=\"new\" xlink:title=\"psysml:1d10ff1d-94f3-4fcc-ad21-5a3c75a7ba0b\" xlink:type=\"simple\"><rect fill=\"#FFFFFF\" height=\"87.72\" id=\"E6\" rx=\"10\" ry=\"10\" style=\"stroke: #383838; stroke-width: 1.5;\" width=\"101\" x=\"251.75\" y=\"42.0986\"/><rect fill=\"#F8F8F8\" height=\"37.9375\" rx=\"10\" ry=\"10\" style=\"stroke: #F8F8F8; stroke-width: 1.5;\" width=\"101\" x=\"251.75\" y=\"42.0986\"/><rect fill=\"#F8F8F8\" height=\"10\" style=\"stroke: #F8F8F8; stroke-width: 1.5;\" width=\"101\" x=\"251.75\" y=\"70.0361\"/><rect fill=\"none\" height=\"87.72\" id=\"E6\" rx=\"10\" ry=\"10\" style=\"stroke: #383838; stroke-width: 1.5;\" width=\"101\" x=\"251.75\" y=\"42.0986\"/><text fill=\"#000000\" font-family=\"sans-serif\" font-size=\"12\" font-style=\"italic\" lengthAdjust=\"spacingAndGlyphs\" textLength=\"82\" x=\"261.25\" y=\"58.2373\">«calculation»</text><text fill=\"#000000\" font-family=\"sans-serif\" font-size=\"12\" lengthAdjust=\"spacingAndGlyphs\" textLength=\"18\" x=\"293.25\" y=\"72.2061\">ms</text><line style=\"stroke: #383838; stroke-width: 1.0;\" x1=\"251.75\" x2=\"352.75\" y1=\"80.0361\" y2=\"80.0361\"/></a><!--MD5=[7f149f147074ac12df2cb0a7728a5fb0]\n",
       "cluster E9--><a href=\"psysml:86e0ef61-a473-4ef3-8b23-ebbfee168e1c\" target=\"_top\" title=\"psysml:86e0ef61-a473-4ef3-8b23-ebbfee168e1c\" xlink:actuate=\"onRequest\" xlink:href=\"psysml:86e0ef61-a473-4ef3-8b23-ebbfee168e1c\" xlink:show=\"new\" xlink:title=\"psysml:86e0ef61-a473-4ef3-8b23-ebbfee168e1c\" xlink:type=\"simple\"><rect fill=\"#FFFFFF\" height=\"87.72\" id=\"E9\" style=\"stroke: #383838; stroke-width: 1.5;\" width=\"127\" x=\"410.25\" y=\"42.0986\"/><rect fill=\"#F8F8F8\" height=\"37.9375\" style=\"stroke: #383838; stroke-width: 1.5;\" width=\"127\" x=\"410.25\" y=\"42.0986\"/><text fill=\"#000000\" font-family=\"sans-serif\" font-size=\"12\" font-style=\"italic\" lengthAdjust=\"spacingAndGlyphs\" textLength=\"106\" x=\"420.75\" y=\"58.2373\">«calculation def»</text><text fill=\"#000000\" font-family=\"sans-serif\" font-size=\"12\" lengthAdjust=\"spacingAndGlyphs\" textLength=\"67\" x=\"440.25\" y=\"72.2061\">MassSum1</text></a><!--MD5=[47bea60c1a0ac6c1143df232041969c0]\n",
       "cluster E12--><a href=\"psysml:5bbc6089-c972-4222-8f32-76d519ddb8cd\" target=\"_top\" title=\"psysml:5bbc6089-c972-4222-8f32-76d519ddb8cd\" xlink:actuate=\"onRequest\" xlink:href=\"psysml:5bbc6089-c972-4222-8f32-76d519ddb8cd\" xlink:show=\"new\" xlink:title=\"psysml:5bbc6089-c972-4222-8f32-76d519ddb8cd\" xlink:type=\"simple\"><rect fill=\"#FFFFFF\" height=\"87.72\" id=\"E12\" rx=\"10\" ry=\"10\" style=\"stroke: #383838; stroke-width: 1.5;\" width=\"138\" x=\"526\" y=\"42.0986\"/><rect fill=\"#F8F8F8\" height=\"37.9375\" rx=\"10\" ry=\"10\" style=\"stroke: #F8F8F8; stroke-width: 1.5;\" width=\"138\" x=\"526\" y=\"42.0986\"/><rect fill=\"#F8F8F8\" height=\"10\" style=\"stroke: #F8F8F8; stroke-width: 1.5;\" width=\"138\" x=\"526\" y=\"70.0361\"/><rect fill=\"none\" height=\"87.72\" id=\"E12\" rx=\"10\" ry=\"10\" style=\"stroke: #383838; stroke-width: 1.5;\" width=\"138\" x=\"526\" y=\"42.0986\"/><text fill=\"#000000\" font-family=\"sans-serif\" font-size=\"12\" font-style=\"italic\" lengthAdjust=\"spacingAndGlyphs\" textLength=\"82\" x=\"554\" y=\"58.2373\">«calculation»</text><text fill=\"#000000\" font-family=\"sans-serif\" font-size=\"12\" lengthAdjust=\"spacingAndGlyphs\" textLength=\"26\" x=\"582\" y=\"72.2061\">ms1</text><line style=\"stroke: #383838; stroke-width: 1.0;\" x1=\"526\" x2=\"664\" y1=\"80.0361\" y2=\"80.0361\"/></a><text fill=\"#000000\" font-family=\"sans-serif\" font-size=\"14\" lengthAdjust=\"spacingAndGlyphs\" textLength=\"80\" x=\"6\" y=\"20.7969\">partMasses</text><rect fill=\"#383838\" height=\"12\" style=\"stroke: #F8F8F8; stroke-width: 1.5;\" width=\"12\" x=\"40\" y=\"36.0986\"/><text fill=\"#000000\" font-family=\"sans-serif\" font-size=\"14\" lengthAdjust=\"spacingAndGlyphs\" textLength=\"66\" x=\"54\" y=\"148.8138\">totalMass</text><rect fill=\"#383838\" height=\"12\" style=\"stroke: #F8F8F8; stroke-width: 1.5;\" width=\"12\" x=\"81\" y=\"123.8186\"/><text fill=\"#000000\" font-family=\"sans-serif\" font-size=\"14\" lengthAdjust=\"spacingAndGlyphs\" textLength=\"75\" x=\"100.5\" y=\"20.7969\">$collection</text><rect fill=\"#383838\" height=\"12\" style=\"stroke: #F8F8F8; stroke-width: 1.5;\" width=\"12\" x=\"132\" y=\"36.0986\"/><text fill=\"#000000\" font-family=\"sans-serif\" font-size=\"14\" lengthAdjust=\"spacingAndGlyphs\" textLength=\"48\" x=\"110\" y=\"148.8138\">$result</text><rect fill=\"#383838\" height=\"12\" style=\"stroke: #F8F8F8; stroke-width: 1.5;\" width=\"12\" x=\"128\" y=\"123.8186\"/><text fill=\"#000000\" font-family=\"sans-serif\" font-size=\"14\" lengthAdjust=\"spacingAndGlyphs\" textLength=\"80\" x=\"235\" y=\"20.7969\">partMasses</text><rect fill=\"#383838\" height=\"12\" style=\"stroke: #F8F8F8; stroke-width: 1.5;\" width=\"12\" x=\"269\" y=\"36.0986\"/><text fill=\"#000000\" font-family=\"sans-serif\" font-size=\"14\" lengthAdjust=\"spacingAndGlyphs\" textLength=\"66\" x=\"238\" y=\"148.8138\">totalMass</text><rect fill=\"#383838\" height=\"12\" style=\"stroke: #F8F8F8; stroke-width: 1.5;\" width=\"12\" x=\"265\" y=\"123.8186\"/><text fill=\"#000000\" font-family=\"sans-serif\" font-size=\"14\" lengthAdjust=\"spacingAndGlyphs\" textLength=\"80\" x=\"395\" y=\"20.7969\">partMasses</text><rect fill=\"#383838\" height=\"12\" style=\"stroke: #F8F8F8; stroke-width: 1.5;\" width=\"12\" x=\"429\" y=\"36.0986\"/><text fill=\"#000000\" font-family=\"sans-serif\" font-size=\"14\" lengthAdjust=\"spacingAndGlyphs\" textLength=\"66\" x=\"398\" y=\"148.8138\">totalMass</text><rect fill=\"#383838\" height=\"12\" style=\"stroke: #F8F8F8; stroke-width: 1.5;\" width=\"12\" x=\"425\" y=\"123.8186\"/><text fill=\"#000000\" font-family=\"sans-serif\" font-size=\"14\" lengthAdjust=\"spacingAndGlyphs\" textLength=\"80\" x=\"555\" y=\"20.7969\">partMasses</text><rect fill=\"#383838\" height=\"12\" style=\"stroke: #F8F8F8; stroke-width: 1.5;\" width=\"12\" x=\"589\" y=\"36.0986\"/><text fill=\"#000000\" font-family=\"sans-serif\" font-size=\"14\" lengthAdjust=\"spacingAndGlyphs\" textLength=\"66\" x=\"562\" y=\"148.8138\">totalMass</text><rect fill=\"#383838\" height=\"12\" style=\"stroke: #F8F8F8; stroke-width: 1.5;\" width=\"12\" x=\"589\" y=\"123.8186\"/><!--MD5=[0188b64bb0ae78505a997a81836e11e9]\n",
       "link E3 to E5--><a href=\"psysml:5b55f712-f9b6-4e15-aeab-345c960b0653\" target=\"_top\" title=\"psysml:5b55f712-f9b6-4e15-aeab-345c960b0653\" xlink:actuate=\"onRequest\" xlink:href=\"psysml:5b55f712-f9b6-4e15-aeab-345c960b0653\" xlink:show=\"new\" xlink:title=\"psysml:5b55f712-f9b6-4e15-aeab-345c960b0653\" xlink:type=\"simple\"><path d=\"M93.14,131.8186 C102.1,131.8186 118.66,131.8186 127.7,131.8186 \" fill=\"none\" id=\"E3-E5\" style=\"stroke: #383838; stroke-width: 5.0;\"/></a><!--MD5=[662f8c0760370663671072083d53f5bc]\n",
       "@startuml\r\n",
       "skinparam ranksep 8\r\n",
       "skinparam linetype ortho\r\n",
       "skinparam monochrome true\r\n",
       "skinparam classbackgroundcolor white\r\n",
       "skinparam shadowing false\r\n",
       "skinparam wrapWidth 300\r\n",
       "hide circle\r\n",
       "\r\n",
       "rec def \"MassSum\" as E1  <<(T,blue)calculation def>> [[psysml:8857df12-96f9-4753-a6e3-dc799dcb9ed4 ]] {\r\n",
       "portin \"partMasses\" as E2  [[psysml:8ae5fd16-1397-4172-a6e5-0c084d8d7ca2 ]] \r\n",
       "portout \"totalMass\" as E3  [[psysml:5f15c55d-7a56-4485-be6d-5834d49cebc1 ]] \r\n",
       "portin \"$collection\" as E4  [[psysml:61806866-d159-447e-b132-fa56be682adf ]] \r\n",
       "portout \"$result\" as E5  [[psysml:6ddb7e29-61e7-4184-8db5-61f90a0c49bf ]] \r\n",
       "}\r\n",
       "\r\n",
       "E3 -[thickness=5]- E5 [[psysml:5b55f712-f9b6-4e15-aeab-345c960b0653 ]] \r\n",
       "rec usage \"ms\" as E6  <<(T,blue)calculation>> [[psysml:1d10ff1d-94f3-4fcc-ad21-5a3c75a7ba0b ]] {\r\n",
       "portin \"partMasses\" as E7  [[psysml:a2c0aed5-a65e-46d5-90c0-ba8b1517610c ]] \r\n",
       "portout \"totalMass\" as E8  [[psysml:76889a80-c5e0-422b-b2ce-fdc6eabdf747 ]] \r\n",
       "}\r\n",
       "\r\n",
       "rec def \"MassSum1\" as E9  <<(T,blue)calculation def>> [[psysml:86e0ef61-a473-4ef3-8b23-ebbfee168e1c ]] {\r\n",
       "portin \"partMasses\" as E10  [[psysml:44765cb5-91e3-4973-8d66-b6f2e5bbf87d ]] \r\n",
       "portout \"totalMass\" as E11  [[psysml:8a0a1f2d-4441-4a8a-b849-a96ed87f36a5 ]] \r\n",
       "}\r\n",
       "\r\n",
       "rec usage \"ms1\" as E12  <<(T,blue)calculation>> [[psysml:5bbc6089-c972-4222-8f32-76d519ddb8cd ]] {\r\n",
       "portin \"partMasses\" as E13  [[psysml:bceb4c61-ae51-43e8-95f6-5db7102a1a6d ]] \r\n",
       "portout \"totalMass\" as E14  [[psysml:18f22934-19d9-4087-8718-e35a3f9b5ce2 ]] \r\n",
       "}\r\n",
       "\r\n",
       "@enduml\r\n",
       "\n",
       "PlantUML version 1.2020.13(Sat Jun 13 12:26:38 UTC 2020)\n",
       "(EPL source distribution)\n",
       "Java Runtime: OpenJDK Runtime Environment\n",
       "JVM: OpenJDK 64-Bit Server VM\n",
       "Default Encoding: UTF-8\n",
       "Language: en\n",
       "Country: null\n",
       "--></g></svg>"
      ]
     },
     "execution_count": 55,
     "metadata": {},
     "output_type": "execute_result"
    }
   ],
   "source": [
    "%viz --style=\"ORTHOLINE\" --view=\"Action\" \"CalculationExample\""
   ]
  },
  {
   "cell_type": "code",
   "execution_count": 56,
   "id": "annual-awareness",
   "metadata": {
    "execution": {
     "iopub.execute_input": "2021-03-26T09:16:01.010991Z",
     "iopub.status.busy": "2021-03-26T09:16:01.010489Z",
     "iopub.status.idle": "2021-03-26T09:16:01.106067Z",
     "shell.execute_reply": "2021-03-26T09:16:01.105722Z"
    }
   },
   "outputs": [
    {
     "data": {
      "image/svg+xml": [
       "<?xml version=\"1.0\" encoding=\"UTF-8\" standalone=\"no\"?><svg xmlns=\"http://www.w3.org/2000/svg\" xmlns:xlink=\"http://www.w3.org/1999/xlink\" contentScriptType=\"application/ecmascript\" contentStyleType=\"text/css\" height=\"293px\" preserveAspectRatio=\"none\" style=\"width:607px;height:293px;\" version=\"1.1\" viewBox=\"0 0 607 293\" width=\"607px\" zoomAndPan=\"magnify\"><defs/><g><!--MD5=[fbc87193dbaf4d95561dea2c320d4a47]\n",
       "cluster E1--><a href=\"psysml:7249bcac-c63a-48a6-adec-7cf675138100\" target=\"_top\" title=\"psysml:7249bcac-c63a-48a6-adec-7cf675138100\" xlink:actuate=\"onRequest\" xlink:href=\"psysml:7249bcac-c63a-48a6-adec-7cf675138100\" xlink:show=\"new\" xlink:title=\"psysml:7249bcac-c63a-48a6-adec-7cf675138100\" xlink:type=\"simple\"><polygon fill=\"#FFFFFF\" points=\"16,6,173,6,180,28.2969,585,28.2969,585,281,16,281,16,6\" style=\"stroke: #000000; stroke-width: 1.5;\"/><line style=\"stroke: #000000; stroke-width: 1.5;\" x1=\"16\" x2=\"180\" y1=\"28.2969\" y2=\"28.2969\"/><text fill=\"#000000\" font-family=\"sans-serif\" font-size=\"14\" font-weight=\"bold\" lengthAdjust=\"spacingAndGlyphs\" textLength=\"151\" x=\"20\" y=\"20.9951\">CalculationExample</text></a><!--MD5=[b4997ac47864f28c2f74865a473b2911]\n",
       "class E2--><a href=\"psysml:14188455-78e6-45cf-9446-0197417271d8\" target=\"_top\" title=\"psysml:14188455-78e6-45cf-9446-0197417271d8\" xlink:actuate=\"onRequest\" xlink:href=\"psysml:14188455-78e6-45cf-9446-0197417271d8\" xlink:show=\"new\" xlink:title=\"psysml:14188455-78e6-45cf-9446-0197417271d8\" xlink:type=\"simple\"><rect fill=\"#FFFFFF\" height=\"75.5469\" id=\"E2\" rx=\"10\" ry=\"10\" style=\"stroke: #383838; stroke-width: 1.5;\" width=\"92\" x=\"477\" y=\"47\"/><text fill=\"#000000\" font-family=\"sans-serif\" font-size=\"12\" font-style=\"italic\" lengthAdjust=\"spacingAndGlyphs\" textLength=\"40\" x=\"503\" y=\"63.1387\">«part»</text><text fill=\"#000000\" font-family=\"sans-serif\" font-size=\"12\" lengthAdjust=\"spacingAndGlyphs\" textLength=\"43\" x=\"501.5\" y=\"77.1074\">vehicle</text><line style=\"stroke: #383838; stroke-width: 1.5;\" x1=\"478\" x2=\"568\" y1=\"84.9375\" y2=\"84.9375\"/><text fill=\"#000000\" font-family=\"sans-serif\" font-size=\"11\" lengthAdjust=\"spacingAndGlyphs\" textLength=\"80\" x=\"483\" y=\"115.9526\">m: MassValue</text><line style=\"stroke: #383838; stroke-width: 1.0;\" x1=\"478\" x2=\"495.5\" y1=\"99.3398\" y2=\"99.3398\"/><text fill=\"#000000\" font-family=\"sans-serif\" font-size=\"11\" lengthAdjust=\"spacingAndGlyphs\" textLength=\"55\" x=\"495.5\" y=\"102.6479\">attributes</text><line style=\"stroke: #383838; stroke-width: 1.0;\" x1=\"550.5\" x2=\"568\" y1=\"99.3398\" y2=\"99.3398\"/></a><!--MD5=[09b614a08d8cba4a07c9adeb5e0fee81]\n",
       "class E3--><a href=\"psysml:5beb719b-2071-4403-a403-a4a2a93a4090\" target=\"_top\" title=\"psysml:5beb719b-2071-4403-a403-a4a2a93a4090\" xlink:actuate=\"onRequest\" xlink:href=\"psysml:5beb719b-2071-4403-a403-a4a2a93a4090\" xlink:show=\"new\" xlink:title=\"psysml:5beb719b-2071-4403-a403-a4a2a93a4090\" xlink:type=\"simple\"><rect fill=\"#FFFFFF\" height=\"75.5469\" id=\"E3\" rx=\"10\" ry=\"10\" style=\"stroke: #383838; stroke-width: 1.5;\" width=\"92\" x=\"350\" y=\"189\"/><text fill=\"#000000\" font-family=\"sans-serif\" font-size=\"12\" font-style=\"italic\" lengthAdjust=\"spacingAndGlyphs\" textLength=\"40\" x=\"376\" y=\"205.1387\">«part»</text><text fill=\"#000000\" font-family=\"sans-serif\" font-size=\"12\" lengthAdjust=\"spacingAndGlyphs\" textLength=\"24\" x=\"384\" y=\"219.1074\">eng</text><line style=\"stroke: #383838; stroke-width: 1.5;\" x1=\"351\" x2=\"441\" y1=\"226.9375\" y2=\"226.9375\"/><text fill=\"#000000\" font-family=\"sans-serif\" font-size=\"11\" lengthAdjust=\"spacingAndGlyphs\" textLength=\"80\" x=\"356\" y=\"257.9526\">m: MassValue</text><line style=\"stroke: #383838; stroke-width: 1.0;\" x1=\"351\" x2=\"368.5\" y1=\"241.3398\" y2=\"241.3398\"/><text fill=\"#000000\" font-family=\"sans-serif\" font-size=\"11\" lengthAdjust=\"spacingAndGlyphs\" textLength=\"55\" x=\"368.5\" y=\"244.6479\">attributes</text><line style=\"stroke: #383838; stroke-width: 1.0;\" x1=\"423.5\" x2=\"441\" y1=\"241.3398\" y2=\"241.3398\"/></a><!--MD5=[ebbe1d658d1005bcc118a6aa81145e00]\n",
       "class E4--><a href=\"psysml:48862a39-11e7-4605-8aed-a0acf63d7872\" target=\"_top\" title=\"psysml:48862a39-11e7-4605-8aed-a0acf63d7872\" xlink:actuate=\"onRequest\" xlink:href=\"psysml:48862a39-11e7-4605-8aed-a0acf63d7872\" xlink:show=\"new\" xlink:title=\"psysml:48862a39-11e7-4605-8aed-a0acf63d7872\" xlink:type=\"simple\"><rect fill=\"#FFFFFF\" height=\"75.5469\" id=\"E4\" rx=\"10\" ry=\"10\" style=\"stroke: #383838; stroke-width: 1.5;\" width=\"92\" x=\"477\" y=\"189\"/><text fill=\"#000000\" font-family=\"sans-serif\" font-size=\"12\" font-style=\"italic\" lengthAdjust=\"spacingAndGlyphs\" textLength=\"40\" x=\"503\" y=\"205.1387\">«part»</text><text fill=\"#000000\" font-family=\"sans-serif\" font-size=\"12\" lengthAdjust=\"spacingAndGlyphs\" textLength=\"33\" x=\"506.5\" y=\"219.1074\">trans</text><line style=\"stroke: #383838; stroke-width: 1.5;\" x1=\"478\" x2=\"568\" y1=\"226.9375\" y2=\"226.9375\"/><text fill=\"#000000\" font-family=\"sans-serif\" font-size=\"11\" lengthAdjust=\"spacingAndGlyphs\" textLength=\"80\" x=\"483\" y=\"257.9526\">m: MassValue</text><line style=\"stroke: #383838; stroke-width: 1.0;\" x1=\"478\" x2=\"495.5\" y1=\"241.3398\" y2=\"241.3398\"/><text fill=\"#000000\" font-family=\"sans-serif\" font-size=\"11\" lengthAdjust=\"spacingAndGlyphs\" textLength=\"55\" x=\"495.5\" y=\"244.6479\">attributes</text><line style=\"stroke: #383838; stroke-width: 1.0;\" x1=\"550.5\" x2=\"568\" y1=\"241.3398\" y2=\"241.3398\"/></a><!--MD5=[270fce915f116d4de14055a7c1d9a0f3]\n",
       "class E5--><a href=\"psysml:8857df12-96f9-4753-a6e3-dc799dcb9ed4\" target=\"_top\" title=\"psysml:8857df12-96f9-4753-a6e3-dc799dcb9ed4\" xlink:actuate=\"onRequest\" xlink:href=\"psysml:8857df12-96f9-4753-a6e3-dc799dcb9ed4\" xlink:show=\"new\" xlink:title=\"psysml:8857df12-96f9-4753-a6e3-dc799dcb9ed4\" xlink:type=\"simple\"><rect fill=\"#FFFFFF\" height=\"45.9375\" id=\"E5\" style=\"stroke: #383838; stroke-width: 1.5;\" width=\"108\" x=\"120\" y=\"204\"/><text fill=\"#000000\" font-family=\"sans-serif\" font-size=\"12\" font-style=\"italic\" lengthAdjust=\"spacingAndGlyphs\" textLength=\"106\" x=\"121\" y=\"220.1387\">«calculation def»</text><text fill=\"#000000\" font-family=\"sans-serif\" font-size=\"12\" lengthAdjust=\"spacingAndGlyphs\" textLength=\"59\" x=\"144.5\" y=\"234.1074\">MassSum</text><line style=\"stroke: #383838; stroke-width: 1.5;\" x1=\"121\" x2=\"227\" y1=\"241.9375\" y2=\"241.9375\"/></a><!--MD5=[60a26617385b1d2d0262a64233df1f8d]\n",
       "class E6--><a href=\"psysml:1d10ff1d-94f3-4fcc-ad21-5a3c75a7ba0b\" target=\"_top\" title=\"psysml:1d10ff1d-94f3-4fcc-ad21-5a3c75a7ba0b\" xlink:actuate=\"onRequest\" xlink:href=\"psysml:1d10ff1d-94f3-4fcc-ad21-5a3c75a7ba0b\" xlink:show=\"new\" xlink:title=\"psysml:1d10ff1d-94f3-4fcc-ad21-5a3c75a7ba0b\" xlink:type=\"simple\"><rect fill=\"#FFFFFF\" height=\"45.9375\" id=\"E6\" rx=\"10\" ry=\"10\" style=\"stroke: #383838; stroke-width: 1.5;\" width=\"91\" x=\"350.5\" y=\"62\"/><text fill=\"#000000\" font-family=\"sans-serif\" font-size=\"12\" font-style=\"italic\" lengthAdjust=\"spacingAndGlyphs\" textLength=\"82\" x=\"355\" y=\"78.1387\">«calculation»</text><text fill=\"#000000\" font-family=\"sans-serif\" font-size=\"12\" lengthAdjust=\"spacingAndGlyphs\" textLength=\"85\" x=\"353.5\" y=\"92.1074\">ms: MassSum</text><line style=\"stroke: #383838; stroke-width: 1.5;\" x1=\"351.5\" x2=\"440.5\" y1=\"99.9375\" y2=\"99.9375\"/></a><!--MD5=[2156ba9850f5573cc1fc38a6a4b2f02b]\n",
       "class E7--><a href=\"psysml:86e0ef61-a473-4ef3-8b23-ebbfee168e1c\" target=\"_top\" title=\"psysml:86e0ef61-a473-4ef3-8b23-ebbfee168e1c\" xlink:actuate=\"onRequest\" xlink:href=\"psysml:86e0ef61-a473-4ef3-8b23-ebbfee168e1c\" xlink:show=\"new\" xlink:title=\"psysml:86e0ef61-a473-4ef3-8b23-ebbfee168e1c\" xlink:type=\"simple\"><rect fill=\"#FFFFFF\" height=\"88.3516\" id=\"E7\" style=\"stroke: #383838; stroke-width: 1.5;\" width=\"148\" x=\"167\" y=\"41\"/><text fill=\"#000000\" font-family=\"sans-serif\" font-size=\"12\" font-style=\"italic\" lengthAdjust=\"spacingAndGlyphs\" textLength=\"106\" x=\"188\" y=\"57.1387\">«calculation def»</text><text fill=\"#000000\" font-family=\"sans-serif\" font-size=\"12\" lengthAdjust=\"spacingAndGlyphs\" textLength=\"67\" x=\"207.5\" y=\"71.1074\">MassSum1</text><line style=\"stroke: #383838; stroke-width: 1.5;\" x1=\"168\" x2=\"314\" y1=\"78.9375\" y2=\"78.9375\"/><text fill=\"#000000\" font-family=\"sans-serif\" font-size=\"11\" lengthAdjust=\"spacingAndGlyphs\" textLength=\"136\" x=\"173\" y=\"109.9526\">partMasses: MassValue</text><text fill=\"#000000\" font-family=\"sans-serif\" font-size=\"11\" lengthAdjust=\"spacingAndGlyphs\" textLength=\"124\" x=\"173\" y=\"122.7573\">totalMass: MassValue</text><line style=\"stroke: #383838; stroke-width: 1.0;\" x1=\"168\" x2=\"213.5\" y1=\"93.3398\" y2=\"93.3398\"/><text fill=\"#000000\" font-family=\"sans-serif\" font-size=\"11\" lengthAdjust=\"spacingAndGlyphs\" textLength=\"55\" x=\"213.5\" y=\"96.6479\">attributes</text><line style=\"stroke: #383838; stroke-width: 1.0;\" x1=\"268.5\" x2=\"314\" y1=\"93.3398\" y2=\"93.3398\"/></a><!--MD5=[b9389687b975829384b498ac4b7476b2]\n",
       "class E8--><a href=\"psysml:5bbc6089-c972-4222-8f32-76d519ddb8cd\" target=\"_top\" title=\"psysml:5bbc6089-c972-4222-8f32-76d519ddb8cd\" xlink:actuate=\"onRequest\" xlink:href=\"psysml:5bbc6089-c972-4222-8f32-76d519ddb8cd\" xlink:show=\"new\" xlink:title=\"psysml:5bbc6089-c972-4222-8f32-76d519ddb8cd\" xlink:type=\"simple\"><rect fill=\"#FFFFFF\" height=\"88.3516\" id=\"E8\" rx=\"10\" ry=\"10\" style=\"stroke: #383838; stroke-width: 1.5;\" width=\"99\" x=\"32.5\" y=\"41\"/><text fill=\"#000000\" font-family=\"sans-serif\" font-size=\"12\" font-style=\"italic\" lengthAdjust=\"spacingAndGlyphs\" textLength=\"82\" x=\"41\" y=\"57.1387\">«calculation»</text><text fill=\"#000000\" font-family=\"sans-serif\" font-size=\"12\" lengthAdjust=\"spacingAndGlyphs\" textLength=\"93\" x=\"35.5\" y=\"71.1074\">ms1: MassSum</text><line style=\"stroke: #383838; stroke-width: 1.5;\" x1=\"33.5\" x2=\"130.5\" y1=\"78.9375\" y2=\"78.9375\"/><text fill=\"#000000\" font-family=\"sans-serif\" font-size=\"11\" lengthAdjust=\"spacingAndGlyphs\" textLength=\"67\" x=\"38.5\" y=\"109.9526\">partMasses</text><text fill=\"#000000\" font-family=\"sans-serif\" font-size=\"11\" lengthAdjust=\"spacingAndGlyphs\" textLength=\"55\" x=\"38.5\" y=\"122.7573\">totalMass</text><line style=\"stroke: #383838; stroke-width: 1.0;\" x1=\"33.5\" x2=\"54.5\" y1=\"93.3398\" y2=\"93.3398\"/><text fill=\"#000000\" font-family=\"sans-serif\" font-size=\"11\" lengthAdjust=\"spacingAndGlyphs\" textLength=\"55\" x=\"54.5\" y=\"96.6479\">attributes</text><line style=\"stroke: #383838; stroke-width: 1.0;\" x1=\"109.5\" x2=\"130.5\" y1=\"93.3398\" y2=\"93.3398\"/></a><!--MD5=[209b3feb70ccb6233bfe1053d122c12c]\n",
       "reverse link E2 to E3--><a href=\"psysml:5beb719b-2071-4403-a403-a4a2a93a4090\" target=\"_top\" title=\"psysml:5beb719b-2071-4403-a403-a4a2a93a4090\" xlink:actuate=\"onRequest\" xlink:href=\"psysml:5beb719b-2071-4403-a403-a4a2a93a4090\" xlink:show=\"new\" xlink:title=\"psysml:5beb719b-2071-4403-a403-a4a2a93a4090\" xlink:type=\"simple\"><path d=\"M463.79,116 C463.79,116 396,116 396,116 C396,116 396,156.69 396,188.8 \" fill=\"none\" id=\"E2&lt;-E3\" style=\"stroke: #383838; stroke-width: 1.0;\"/><polygon fill=\"#383838\" points=\"476.79,116,470.79,112,464.79,116,470.79,120,476.79,116\" style=\"stroke: #383838; stroke-width: 1.0;\"/></a><!--MD5=[9618e71518536f8baf3342ff6fdab317]\n",
       "reverse link E2 to E4--><a href=\"psysml:48862a39-11e7-4605-8aed-a0acf63d7872\" target=\"_top\" title=\"psysml:48862a39-11e7-4605-8aed-a0acf63d7872\" xlink:actuate=\"onRequest\" xlink:href=\"psysml:48862a39-11e7-4605-8aed-a0acf63d7872\" xlink:show=\"new\" xlink:title=\"psysml:48862a39-11e7-4605-8aed-a0acf63d7872\" xlink:type=\"simple\"><path d=\"M523,136.05 C523,136.05 523,188.84 523,188.84 \" fill=\"none\" id=\"E2&lt;-E4\" style=\"stroke: #383838; stroke-width: 1.0;\"/><polygon fill=\"#383838\" points=\"523,123.05,519,129.05,523,135.05,527,129.05,523,123.05\" style=\"stroke: #383838; stroke-width: 1.0;\"/></a><!--MD5=[25b190c987b1e74e5126d372c5a73af1]\n",
       "link E6 to E5--><a href=\"psysml:9917c25f-6195-4027-a1da-c593e3e3b530\" target=\"_top\" title=\"psysml:9917c25f-6195-4027-a1da-c593e3e3b530\" xlink:actuate=\"onRequest\" xlink:href=\"psysml:9917c25f-6195-4027-a1da-c593e3e3b530\" xlink:show=\"new\" xlink:title=\"psysml:9917c25f-6195-4027-a1da-c593e3e3b530\" xlink:type=\"simple\"><path d=\"M350.19,85 C340.17,85 332.5,85 332.5,85 C332.5,85 332.5,227 332.5,227 C332.5,227 248.1,227 248.1,227 \" fill=\"none\" id=\"E6-&gt;E5\" style=\"stroke: #383838; stroke-width: 1.0;\"/><polygon fill=\"#FFFFFF\" points=\"228.1,227,247.1,220,247.1,234,228.1,227\" style=\"stroke: #383838; stroke-width: 1.0;\"/><ellipse cx=\"252.8\" cy=\"222\" fill=\"#383838\" rx=\"2\" ry=\"2\" style=\"stroke: #383838; stroke-width: 1.0;\"/><ellipse cx=\"252.8\" cy=\"232\" fill=\"#383838\" rx=\"2\" ry=\"2\" style=\"stroke: #383838; stroke-width: 1.0;\"/></a><!--MD5=[1ccb2481ffa92f8d51a74ee30c51832a]\n",
       "link E8 to E5--><a href=\"psysml:bf4de082-8867-4b4d-b459-dc33df5641b4\" target=\"_top\" title=\"psysml:bf4de082-8867-4b4d-b459-dc33df5641b4\" xlink:actuate=\"onRequest\" xlink:href=\"psysml:bf4de082-8867-4b4d-b459-dc33df5641b4\" xlink:show=\"new\" xlink:title=\"psysml:bf4de082-8867-4b4d-b459-dc33df5641b4\" xlink:type=\"simple\"><path d=\"M125.75,129.15 C125.75,129.15 125.75,183.93 125.75,183.93 \" fill=\"none\" id=\"E8-&gt;E5\" style=\"stroke: #383838; stroke-width: 1.0;\"/><polygon fill=\"#FFFFFF\" points=\"125.75,203.93,118.75,184.93,132.75,184.93,125.75,203.93\" style=\"stroke: #383838; stroke-width: 1.0;\"/><ellipse cx=\"120.75\" cy=\"179.23\" fill=\"#383838\" rx=\"2\" ry=\"2\" style=\"stroke: #383838; stroke-width: 1.0;\"/><ellipse cx=\"130.75\" cy=\"179.23\" fill=\"#383838\" rx=\"2\" ry=\"2\" style=\"stroke: #383838; stroke-width: 1.0;\"/></a><!--MD5=[fb02e347fd38858898d548eb5edf56fe]\n",
       "@startuml\r\n",
       "skinparam linetype ortho\r\n",
       "skinparam monochrome true\r\n",
       "skinparam classbackgroundcolor white\r\n",
       "skinparam shadowing false\r\n",
       "skinparam wrapWidth 300\r\n",
       "hide circle\r\n",
       "\r\n",
       "package \"CalculationExample\" as E1  [[psysml:7249bcac-c63a-48a6-adec-7cf675138100 ]]  {\r\n",
       "comp usage \"vehicle\" as E2  <<(T,blue)part>> [[psysml:14188455-78e6-45cf-9446-0197417271d8 ]] {\r\n",
       "- - attributes - -\r\n",
       "m: MassValue\r\n",
       "}\r\n",
       "comp usage \"eng\" as E3  <<(T,blue)part>> [[psysml:5beb719b-2071-4403-a403-a4a2a93a4090 ]] {\r\n",
       "- - attributes - -\r\n",
       "m: MassValue\r\n",
       "}\r\n",
       "comp usage \"trans\" as E4  <<(T,blue)part>> [[psysml:48862a39-11e7-4605-8aed-a0acf63d7872 ]] {\r\n",
       "- - attributes - -\r\n",
       "m: MassValue\r\n",
       "}\r\n",
       "comp def \"MassSum\" as E5  <<(T,blue)calculation def>> [[psysml:8857df12-96f9-4753-a6e3-dc799dcb9ed4 ]] {\r\n",
       "}\r\n",
       "comp usage \"ms: MassSum\" as E6  <<(T,blue)calculation>> [[psysml:1d10ff1d-94f3-4fcc-ad21-5a3c75a7ba0b ]] {\r\n",
       "}\r\n",
       "comp def \"MassSum1\" as E7  <<(T,blue)calculation def>> [[psysml:86e0ef61-a473-4ef3-8b23-ebbfee168e1c ]] {\r\n",
       "- - attributes - -\r\n",
       "partMasses: MassValue\r\n",
       "totalMass: MassValue\r\n",
       "}\r\n",
       "comp usage \"ms1: MassSum\" as E8  <<(T,blue)calculation>> [[psysml:5bbc6089-c972-4222-8f32-76d519ddb8cd ]] {\r\n",
       "- - attributes - -\r\n",
       "partMasses\r\n",
       "totalMass\r\n",
       "}\r\n",
       "E2 *- - E3 [[psysml:5beb719b-2071-4403-a403-a4a2a93a4090 ]] \r\n",
       "E2 *- - E4 [[psysml:48862a39-11e7-4605-8aed-a0acf63d7872 ]] \r\n",
       "E6 - -:|> E5 [[psysml:9917c25f-6195-4027-a1da-c593e3e3b530 ]] \r\n",
       "E8 - -:|> E5 [[psysml:bf4de082-8867-4b4d-b459-dc33df5641b4 ]] \r\n",
       "}\r\n",
       "@enduml\r\n",
       "\n",
       "PlantUML version 1.2020.13(Sat Jun 13 12:26:38 UTC 2020)\n",
       "(EPL source distribution)\n",
       "Java Runtime: OpenJDK Runtime Environment\n",
       "JVM: OpenJDK 64-Bit Server VM\n",
       "Default Encoding: UTF-8\n",
       "Language: en\n",
       "Country: null\n",
       "--></g></svg>"
      ]
     },
     "execution_count": 56,
     "metadata": {},
     "output_type": "execute_result"
    }
   ],
   "source": [
    "%viz --style=\"ORTHOLINE\" --view=\"Sequence\" \"CalculationExample\""
   ]
  },
  {
   "cell_type": "code",
   "execution_count": 57,
   "id": "uniform-casino",
   "metadata": {
    "execution": {
     "iopub.execute_input": "2021-03-26T09:16:01.157620Z",
     "iopub.status.busy": "2021-03-26T09:16:01.156828Z",
     "iopub.status.idle": "2021-03-26T09:16:01.237226Z",
     "shell.execute_reply": "2021-03-26T09:16:01.235666Z"
    }
   },
   "outputs": [
    {
     "data": {
      "image/svg+xml": [
       "<?xml version=\"1.0\" encoding=\"UTF-8\" standalone=\"no\"?><svg xmlns=\"http://www.w3.org/2000/svg\" xmlns:xlink=\"http://www.w3.org/1999/xlink\" contentScriptType=\"application/ecmascript\" contentStyleType=\"text/css\" height=\"441px\" preserveAspectRatio=\"none\" style=\"width:788px;height:441px;\" version=\"1.1\" viewBox=\"0 0 788 441\" width=\"788px\" zoomAndPan=\"magnify\"><defs/><g><!--MD5=[fbc87193dbaf4d95561dea2c320d4a47]\n",
       "cluster E1--><a href=\"psysml:7249bcac-c63a-48a6-adec-7cf675138100\" target=\"_top\" title=\"psysml:7249bcac-c63a-48a6-adec-7cf675138100\" xlink:actuate=\"onRequest\" xlink:href=\"psysml:7249bcac-c63a-48a6-adec-7cf675138100\" xlink:show=\"new\" xlink:title=\"psysml:7249bcac-c63a-48a6-adec-7cf675138100\" xlink:type=\"simple\"><polygon fill=\"#FFFFFF\" points=\"16,6,173,6,180,28.2969,766,28.2969,766,429.72,16,429.72,16,6\" style=\"stroke: #000000; stroke-width: 1.5;\"/><line style=\"stroke: #000000; stroke-width: 1.5;\" x1=\"16\" x2=\"180\" y1=\"28.2969\" y2=\"28.2969\"/><text fill=\"#000000\" font-family=\"sans-serif\" font-size=\"14\" font-weight=\"bold\" lengthAdjust=\"spacingAndGlyphs\" textLength=\"151\" x=\"20\" y=\"20.9951\">CalculationExample</text></a><!--MD5=[de5ec2e2e8f62f467e546659f5068c88]\n",
       "cluster E5--><a href=\"psysml:8857df12-96f9-4753-a6e3-dc799dcb9ed4\" target=\"_top\" title=\"psysml:8857df12-96f9-4753-a6e3-dc799dcb9ed4\" xlink:actuate=\"onRequest\" xlink:href=\"psysml:8857df12-96f9-4753-a6e3-dc799dcb9ed4\" xlink:show=\"new\" xlink:title=\"psysml:8857df12-96f9-4753-a6e3-dc799dcb9ed4\" xlink:type=\"simple\"><rect fill=\"#FFFFFF\" height=\"306.72\" id=\"E5\" style=\"stroke: #383838; stroke-width: 1.5;\" width=\"128\" x=\"155\" y=\"85\"/><rect fill=\"#F8F8F8\" height=\"37.9375\" style=\"stroke: #383838; stroke-width: 1.5;\" width=\"128\" x=\"155\" y=\"85\"/><text fill=\"#000000\" font-family=\"sans-serif\" font-size=\"12\" font-style=\"italic\" lengthAdjust=\"spacingAndGlyphs\" textLength=\"106\" x=\"166\" y=\"101.1387\">«calculation def»</text><text fill=\"#000000\" font-family=\"sans-serif\" font-size=\"12\" lengthAdjust=\"spacingAndGlyphs\" textLength=\"59\" x=\"189.5\" y=\"115.1074\">MassSum</text></a><!--MD5=[917b9dd0c7eca3ee5f47219d1a84c0ad]\n",
       "cluster E11--><a href=\"psysml:86e0ef61-a473-4ef3-8b23-ebbfee168e1c\" target=\"_top\" title=\"psysml:86e0ef61-a473-4ef3-8b23-ebbfee168e1c\" xlink:actuate=\"onRequest\" xlink:href=\"psysml:86e0ef61-a473-4ef3-8b23-ebbfee168e1c\" xlink:show=\"new\" xlink:title=\"psysml:86e0ef61-a473-4ef3-8b23-ebbfee168e1c\" xlink:type=\"simple\"><rect fill=\"#FFFFFF\" height=\"306.72\" id=\"E11\" style=\"stroke: #383838; stroke-width: 1.5;\" width=\"166\" x=\"584\" y=\"85\"/><rect fill=\"#F8F8F8\" height=\"37.9375\" style=\"stroke: #383838; stroke-width: 1.5;\" width=\"166\" x=\"584\" y=\"85\"/><text fill=\"#000000\" font-family=\"sans-serif\" font-size=\"12\" font-style=\"italic\" lengthAdjust=\"spacingAndGlyphs\" textLength=\"106\" x=\"614\" y=\"101.1387\">«calculation def»</text><text fill=\"#000000\" font-family=\"sans-serif\" font-size=\"12\" lengthAdjust=\"spacingAndGlyphs\" textLength=\"67\" x=\"633.5\" y=\"115.1074\">MassSum1</text></a><!--MD5=[b4997ac47864f28c2f74865a473b2911]\n",
       "class E2--><a href=\"psysml:14188455-78e6-45cf-9446-0197417271d8\" target=\"_top\" title=\"psysml:14188455-78e6-45cf-9446-0197417271d8\" xlink:actuate=\"onRequest\" xlink:href=\"psysml:14188455-78e6-45cf-9446-0197417271d8\" xlink:show=\"new\" xlink:title=\"psysml:14188455-78e6-45cf-9446-0197417271d8\" xlink:type=\"simple\"><rect fill=\"#FFFFFF\" height=\"75.5469\" id=\"E2\" rx=\"10\" ry=\"10\" style=\"stroke: #383838; stroke-width: 1.5;\" width=\"92\" x=\"473\" y=\"47\"/><text fill=\"#000000\" font-family=\"sans-serif\" font-size=\"12\" font-style=\"italic\" lengthAdjust=\"spacingAndGlyphs\" textLength=\"40\" x=\"499\" y=\"63.1387\">«part»</text><text fill=\"#000000\" font-family=\"sans-serif\" font-size=\"12\" lengthAdjust=\"spacingAndGlyphs\" textLength=\"43\" x=\"497.5\" y=\"77.1074\">vehicle</text><line style=\"stroke: #383838; stroke-width: 1.5;\" x1=\"474\" x2=\"564\" y1=\"84.9375\" y2=\"84.9375\"/><text fill=\"#000000\" font-family=\"sans-serif\" font-size=\"11\" lengthAdjust=\"spacingAndGlyphs\" textLength=\"80\" x=\"479\" y=\"115.9526\">m: MassValue</text><line style=\"stroke: #383838; stroke-width: 1.0;\" x1=\"474\" x2=\"491.5\" y1=\"99.3398\" y2=\"99.3398\"/><text fill=\"#000000\" font-family=\"sans-serif\" font-size=\"11\" lengthAdjust=\"spacingAndGlyphs\" textLength=\"55\" x=\"491.5\" y=\"102.6479\">attributes</text><line style=\"stroke: #383838; stroke-width: 1.0;\" x1=\"546.5\" x2=\"564\" y1=\"99.3398\" y2=\"99.3398\"/></a><!--MD5=[09b614a08d8cba4a07c9adeb5e0fee81]\n",
       "class E3--><a href=\"psysml:5beb719b-2071-4403-a403-a4a2a93a4090\" target=\"_top\" title=\"psysml:5beb719b-2071-4403-a403-a4a2a93a4090\" xlink:actuate=\"onRequest\" xlink:href=\"psysml:5beb719b-2071-4403-a403-a4a2a93a4090\" xlink:show=\"new\" xlink:title=\"psysml:5beb719b-2071-4403-a403-a4a2a93a4090\" xlink:type=\"simple\"><rect fill=\"#FFFFFF\" height=\"75.5469\" id=\"E3\" rx=\"10\" ry=\"10\" style=\"stroke: #383838; stroke-width: 1.5;\" width=\"92\" x=\"346\" y=\"189\"/><text fill=\"#000000\" font-family=\"sans-serif\" font-size=\"12\" font-style=\"italic\" lengthAdjust=\"spacingAndGlyphs\" textLength=\"40\" x=\"372\" y=\"205.1387\">«part»</text><text fill=\"#000000\" font-family=\"sans-serif\" font-size=\"12\" lengthAdjust=\"spacingAndGlyphs\" textLength=\"24\" x=\"380\" y=\"219.1074\">eng</text><line style=\"stroke: #383838; stroke-width: 1.5;\" x1=\"347\" x2=\"437\" y1=\"226.9375\" y2=\"226.9375\"/><text fill=\"#000000\" font-family=\"sans-serif\" font-size=\"11\" lengthAdjust=\"spacingAndGlyphs\" textLength=\"80\" x=\"352\" y=\"257.9526\">m: MassValue</text><line style=\"stroke: #383838; stroke-width: 1.0;\" x1=\"347\" x2=\"364.5\" y1=\"241.3398\" y2=\"241.3398\"/><text fill=\"#000000\" font-family=\"sans-serif\" font-size=\"11\" lengthAdjust=\"spacingAndGlyphs\" textLength=\"55\" x=\"364.5\" y=\"244.6479\">attributes</text><line style=\"stroke: #383838; stroke-width: 1.0;\" x1=\"419.5\" x2=\"437\" y1=\"241.3398\" y2=\"241.3398\"/></a><!--MD5=[ebbe1d658d1005bcc118a6aa81145e00]\n",
       "class E4--><a href=\"psysml:48862a39-11e7-4605-8aed-a0acf63d7872\" target=\"_top\" title=\"psysml:48862a39-11e7-4605-8aed-a0acf63d7872\" xlink:actuate=\"onRequest\" xlink:href=\"psysml:48862a39-11e7-4605-8aed-a0acf63d7872\" xlink:show=\"new\" xlink:title=\"psysml:48862a39-11e7-4605-8aed-a0acf63d7872\" xlink:type=\"simple\"><rect fill=\"#FFFFFF\" height=\"75.5469\" id=\"E4\" rx=\"10\" ry=\"10\" style=\"stroke: #383838; stroke-width: 1.5;\" width=\"92\" x=\"473\" y=\"189\"/><text fill=\"#000000\" font-family=\"sans-serif\" font-size=\"12\" font-style=\"italic\" lengthAdjust=\"spacingAndGlyphs\" textLength=\"40\" x=\"499\" y=\"205.1387\">«part»</text><text fill=\"#000000\" font-family=\"sans-serif\" font-size=\"12\" lengthAdjust=\"spacingAndGlyphs\" textLength=\"33\" x=\"502.5\" y=\"219.1074\">trans</text><line style=\"stroke: #383838; stroke-width: 1.5;\" x1=\"474\" x2=\"564\" y1=\"226.9375\" y2=\"226.9375\"/><text fill=\"#000000\" font-family=\"sans-serif\" font-size=\"11\" lengthAdjust=\"spacingAndGlyphs\" textLength=\"80\" x=\"479\" y=\"257.9526\">m: MassValue</text><line style=\"stroke: #383838; stroke-width: 1.0;\" x1=\"474\" x2=\"491.5\" y1=\"241.3398\" y2=\"241.3398\"/><text fill=\"#000000\" font-family=\"sans-serif\" font-size=\"11\" lengthAdjust=\"spacingAndGlyphs\" textLength=\"55\" x=\"491.5\" y=\"244.6479\">attributes</text><line style=\"stroke: #383838; stroke-width: 1.0;\" x1=\"546.5\" x2=\"564\" y1=\"241.3398\" y2=\"241.3398\"/></a><!--MD5=[96f4274e9e20536e775497830990834d]\n",
       "class E10--><a href=\"psysml:1d10ff1d-94f3-4fcc-ad21-5a3c75a7ba0b\" target=\"_top\" title=\"psysml:1d10ff1d-94f3-4fcc-ad21-5a3c75a7ba0b\" xlink:actuate=\"onRequest\" xlink:href=\"psysml:1d10ff1d-94f3-4fcc-ad21-5a3c75a7ba0b\" xlink:show=\"new\" xlink:title=\"psysml:1d10ff1d-94f3-4fcc-ad21-5a3c75a7ba0b\" xlink:type=\"simple\"><rect fill=\"#FFFFFF\" height=\"45.9375\" id=\"E10\" rx=\"10\" ry=\"10\" style=\"stroke: #383838; stroke-width: 1.5;\" width=\"91\" x=\"346.5\" y=\"62\"/><text fill=\"#000000\" font-family=\"sans-serif\" font-size=\"12\" font-style=\"italic\" lengthAdjust=\"spacingAndGlyphs\" textLength=\"82\" x=\"351\" y=\"78.1387\">«calculation»</text><text fill=\"#000000\" font-family=\"sans-serif\" font-size=\"12\" lengthAdjust=\"spacingAndGlyphs\" textLength=\"85\" x=\"349.5\" y=\"92.1074\">ms: MassSum</text><line style=\"stroke: #383838; stroke-width: 1.5;\" x1=\"347.5\" x2=\"436.5\" y1=\"99.9375\" y2=\"99.9375\"/></a><!--MD5=[bee11217b2f71d958a27249dc326068c]\n",
       "class E14--><a href=\"psysml:5bbc6089-c972-4222-8f32-76d519ddb8cd\" target=\"_top\" title=\"psysml:5bbc6089-c972-4222-8f32-76d519ddb8cd\" xlink:actuate=\"onRequest\" xlink:href=\"psysml:5bbc6089-c972-4222-8f32-76d519ddb8cd\" xlink:show=\"new\" xlink:title=\"psysml:5bbc6089-c972-4222-8f32-76d519ddb8cd\" xlink:type=\"simple\"><rect fill=\"#FFFFFF\" height=\"88.3516\" id=\"E14\" rx=\"10\" ry=\"10\" style=\"stroke: #383838; stroke-width: 1.5;\" width=\"99\" x=\"32.5\" y=\"41\"/><text fill=\"#000000\" font-family=\"sans-serif\" font-size=\"12\" font-style=\"italic\" lengthAdjust=\"spacingAndGlyphs\" textLength=\"82\" x=\"41\" y=\"57.1387\">«calculation»</text><text fill=\"#000000\" font-family=\"sans-serif\" font-size=\"12\" lengthAdjust=\"spacingAndGlyphs\" textLength=\"93\" x=\"35.5\" y=\"71.1074\">ms1: MassSum</text><line style=\"stroke: #383838; stroke-width: 1.5;\" x1=\"33.5\" x2=\"130.5\" y1=\"78.9375\" y2=\"78.9375\"/><text fill=\"#000000\" font-family=\"sans-serif\" font-size=\"11\" lengthAdjust=\"spacingAndGlyphs\" textLength=\"67\" x=\"38.5\" y=\"109.9526\">partMasses</text><text fill=\"#000000\" font-family=\"sans-serif\" font-size=\"11\" lengthAdjust=\"spacingAndGlyphs\" textLength=\"55\" x=\"38.5\" y=\"122.7573\">totalMass</text><line style=\"stroke: #383838; stroke-width: 1.0;\" x1=\"33.5\" x2=\"54.5\" y1=\"93.3398\" y2=\"93.3398\"/><text fill=\"#000000\" font-family=\"sans-serif\" font-size=\"11\" lengthAdjust=\"spacingAndGlyphs\" textLength=\"55\" x=\"54.5\" y=\"96.6479\">attributes</text><line style=\"stroke: #383838; stroke-width: 1.0;\" x1=\"109.5\" x2=\"130.5\" y1=\"93.3398\" y2=\"93.3398\"/></a><text fill=\"#000000\" font-family=\"sans-serif\" font-size=\"14\" lengthAdjust=\"spacingAndGlyphs\" textLength=\"80\" x=\"133\" y=\"63.6982\">partMasses</text><rect fill=\"#383838\" height=\"12\" style=\"stroke: #F8F8F8; stroke-width: 1.5;\" width=\"12\" x=\"167\" y=\"79\"/><text fill=\"#000000\" font-family=\"sans-serif\" font-size=\"14\" lengthAdjust=\"spacingAndGlyphs\" textLength=\"66\" x=\"177\" y=\"410.7151\">totalMass</text><rect fill=\"#383838\" height=\"12\" style=\"stroke: #F8F8F8; stroke-width: 1.5;\" width=\"12\" x=\"204\" y=\"385.72\"/><text fill=\"#000000\" font-family=\"sans-serif\" font-size=\"14\" lengthAdjust=\"spacingAndGlyphs\" textLength=\"75\" x=\"227.5\" y=\"63.6982\">$collection</text><rect fill=\"#383838\" height=\"12\" style=\"stroke: #F8F8F8; stroke-width: 1.5;\" width=\"12\" x=\"259\" y=\"79\"/><text fill=\"#000000\" font-family=\"sans-serif\" font-size=\"14\" lengthAdjust=\"spacingAndGlyphs\" textLength=\"48\" x=\"233\" y=\"410.7151\">$result</text><rect fill=\"#383838\" height=\"12\" style=\"stroke: #F8F8F8; stroke-width: 1.5;\" width=\"12\" x=\"251\" y=\"385.72\"/><text fill=\"#000000\" font-family=\"sans-serif\" font-size=\"14\" lengthAdjust=\"spacingAndGlyphs\" textLength=\"80\" x=\"627\" y=\"63.6982\">partMasses</text><rect fill=\"#383838\" height=\"12\" style=\"stroke: #F8F8F8; stroke-width: 1.5;\" width=\"12\" x=\"661\" y=\"79\"/><text fill=\"#000000\" font-family=\"sans-serif\" font-size=\"14\" lengthAdjust=\"spacingAndGlyphs\" textLength=\"66\" x=\"634\" y=\"410.7151\">totalMass</text><rect fill=\"#383838\" height=\"12\" style=\"stroke: #F8F8F8; stroke-width: 1.5;\" width=\"12\" x=\"661\" y=\"385.72\"/><!--MD5=[209b3feb70ccb6233bfe1053d122c12c]\n",
       "reverse link E2 to E3--><a href=\"psysml:5beb719b-2071-4403-a403-a4a2a93a4090\" target=\"_top\" title=\"psysml:5beb719b-2071-4403-a403-a4a2a93a4090\" xlink:actuate=\"onRequest\" xlink:href=\"psysml:5beb719b-2071-4403-a403-a4a2a93a4090\" xlink:show=\"new\" xlink:title=\"psysml:5beb719b-2071-4403-a403-a4a2a93a4090\" xlink:type=\"simple\"><path d=\"M459.79,118.72 C459.79,118.72 392,118.72 392,118.72 C392,118.72 392,157.65 392,188.82 \" fill=\"none\" id=\"E2&lt;-E3\" style=\"stroke: #383838; stroke-width: 1.0;\"/><polygon fill=\"#383838\" points=\"472.79,118.72,466.79,114.72,460.79,118.72,466.79,122.72,472.79,118.72\" style=\"stroke: #383838; stroke-width: 1.0;\"/></a><!--MD5=[9618e71518536f8baf3342ff6fdab317]\n",
       "reverse link E2 to E4--><a href=\"psysml:48862a39-11e7-4605-8aed-a0acf63d7872\" target=\"_top\" title=\"psysml:48862a39-11e7-4605-8aed-a0acf63d7872\" xlink:actuate=\"onRequest\" xlink:href=\"psysml:48862a39-11e7-4605-8aed-a0acf63d7872\" xlink:show=\"new\" xlink:title=\"psysml:48862a39-11e7-4605-8aed-a0acf63d7872\" xlink:type=\"simple\"><path d=\"M519,136.05 C519,136.05 519,188.84 519,188.84 \" fill=\"none\" id=\"E2&lt;-E4\" style=\"stroke: #383838; stroke-width: 1.0;\"/><polygon fill=\"#383838\" points=\"519,123.05,515,129.05,519,135.05,523,129.05,519,123.05\" style=\"stroke: #383838; stroke-width: 1.0;\"/></a><!--MD5=[1c0b9414cc86e0744215edee6abd8926]\n",
       "link E7 to E9--><a href=\"psysml:5b55f712-f9b6-4e15-aeab-345c960b0653\" target=\"_top\" title=\"psysml:5b55f712-f9b6-4e15-aeab-345c960b0653\" xlink:actuate=\"onRequest\" xlink:href=\"psysml:5b55f712-f9b6-4e15-aeab-345c960b0653\" xlink:show=\"new\" xlink:title=\"psysml:5b55f712-f9b6-4e15-aeab-345c960b0653\" xlink:type=\"simple\"><path d=\"M216.14,393.72 C225.1,393.72 241.66,393.72 250.7,393.72 \" fill=\"none\" id=\"E7-E9\" style=\"stroke: #383838; stroke-width: 5.0;\"/></a><!--MD5=[ec5e0a54482b142abcecfe541d624bff]\n",
       "link E10 to E5--><a href=\"psysml:9917c25f-6195-4027-a1da-c593e3e3b530\" target=\"_top\" title=\"psysml:9917c25f-6195-4027-a1da-c593e3e3b530\" xlink:actuate=\"onRequest\" xlink:href=\"psysml:9917c25f-6195-4027-a1da-c593e3e3b530\" xlink:show=\"new\" xlink:title=\"psysml:9917c25f-6195-4027-a1da-c593e3e3b530\" xlink:type=\"simple\"><path d=\"M346.49,99.72 C318.62,99.72 288.25,99.72 288.25,99.72 C288.25,99.72 288.25,174.33 288.25,209.3 \" fill=\"none\" id=\"E10-&gt;E5\" style=\"stroke: #383838; stroke-width: 1.0;\"/><polygon fill=\"#FFFFFF\" points=\"288.25,209.3,281.25,190.3,295.25,190.3,288.25,209.3\" style=\"stroke: #383838; stroke-width: 1.0;\"/><ellipse cx=\"283.25\" cy=\"184.6\" fill=\"#383838\" rx=\"2\" ry=\"2\" style=\"stroke: #383838; stroke-width: 1.0;\"/><ellipse cx=\"293.25\" cy=\"184.6\" fill=\"#383838\" rx=\"2\" ry=\"2\" style=\"stroke: #383838; stroke-width: 1.0;\"/></a><!--MD5=[111e5536516ee1ad7d4266f589654f03]\n",
       "link E14 to E5--><a href=\"psysml:bf4de082-8867-4b4d-b459-dc33df5641b4\" target=\"_top\" title=\"psysml:bf4de082-8867-4b4d-b459-dc33df5641b4\" xlink:actuate=\"onRequest\" xlink:href=\"psysml:bf4de082-8867-4b4d-b459-dc33df5641b4\" xlink:show=\"new\" xlink:title=\"psysml:bf4de082-8867-4b4d-b459-dc33df5641b4\" xlink:type=\"simple\"><path d=\"M131.56,113.72 C139.295,113.72 147.2213,113.72 154.7597,113.72 \" fill=\"none\" id=\"E14-&gt;E5\" style=\"stroke: #383838; stroke-width: 1.0;\"/><polygon fill=\"#FFFFFF\" points=\"154.7597,113.72,135.7597,120.72,135.7597,106.72,154.7597,113.72\" style=\"stroke: #383838; stroke-width: 1.0;\"/><ellipse cx=\"130.0597\" cy=\"118.72\" fill=\"#383838\" rx=\"2\" ry=\"2\" style=\"stroke: #383838; stroke-width: 1.0;\"/><ellipse cx=\"130.0597\" cy=\"108.72\" fill=\"#383838\" rx=\"2\" ry=\"2\" style=\"stroke: #383838; stroke-width: 1.0;\"/></a><!--MD5=[f7e33d1bf9f3bfc253eb30c896906a44]\n",
       "@startuml\r\n",
       "skinparam linetype ortho\r\n",
       "skinparam monochrome true\r\n",
       "skinparam classbackgroundcolor white\r\n",
       "skinparam shadowing false\r\n",
       "skinparam wrapWidth 300\r\n",
       "hide circle\r\n",
       "\r\n",
       "package \"CalculationExample\" as E1  [[psysml:7249bcac-c63a-48a6-adec-7cf675138100 ]]  {\r\n",
       "comp usage \"vehicle\" as E2  <<(T,blue)part>> [[psysml:14188455-78e6-45cf-9446-0197417271d8 ]] {\r\n",
       "- - attributes - -\r\n",
       "m: MassValue\r\n",
       "}\r\n",
       "comp usage \"eng\" as E3  <<(T,blue)part>> [[psysml:5beb719b-2071-4403-a403-a4a2a93a4090 ]] {\r\n",
       "- - attributes - -\r\n",
       "m: MassValue\r\n",
       "}\r\n",
       "comp usage \"trans\" as E4  <<(T,blue)part>> [[psysml:48862a39-11e7-4605-8aed-a0acf63d7872 ]] {\r\n",
       "- - attributes - -\r\n",
       "m: MassValue\r\n",
       "}\r\n",
       "rec def \"MassSum\" as E5  <<(T,blue)calculation def>> [[psysml:8857df12-96f9-4753-a6e3-dc799dcb9ed4 ]] {\r\n",
       "portin \"partMasses\" as E6  [[psysml:8ae5fd16-1397-4172-a6e5-0c084d8d7ca2 ]] \r\n",
       "portout \"totalMass\" as E7  [[psysml:5f15c55d-7a56-4485-be6d-5834d49cebc1 ]] \r\n",
       "portin \"$collection\" as E8  [[psysml:61806866-d159-447e-b132-fa56be682adf ]] \r\n",
       "portout \"$result\" as E9  [[psysml:6ddb7e29-61e7-4184-8db5-61f90a0c49bf ]] \r\n",
       "}\r\n",
       "\r\n",
       "comp usage \"ms: MassSum\" as E10  <<(T,blue)calculation>> [[psysml:1d10ff1d-94f3-4fcc-ad21-5a3c75a7ba0b ]] {\r\n",
       "}\r\n",
       "rec def \"MassSum1\" as E11  <<(T,blue)calculation def>> [[psysml:86e0ef61-a473-4ef3-8b23-ebbfee168e1c ]] {\r\n",
       "portin \"partMasses\" as E12  [[psysml:44765cb5-91e3-4973-8d66-b6f2e5bbf87d ]] \r\n",
       "portout \"totalMass\" as E13  [[psysml:8a0a1f2d-4441-4a8a-b849-a96ed87f36a5 ]] \r\n",
       "}\r\n",
       "\r\n",
       "comp usage \"ms1: MassSum\" as E14  <<(T,blue)calculation>> [[psysml:5bbc6089-c972-4222-8f32-76d519ddb8cd ]] {\r\n",
       "- - attributes - -\r\n",
       "partMasses\r\n",
       "totalMass\r\n",
       "}\r\n",
       "E2 *- - E3 [[psysml:5beb719b-2071-4403-a403-a4a2a93a4090 ]] \r\n",
       "E2 *- - E4 [[psysml:48862a39-11e7-4605-8aed-a0acf63d7872 ]] \r\n",
       "E7 -[thickness=5]- E9 [[psysml:5b55f712-f9b6-4e15-aeab-345c960b0653 ]] \r\n",
       "E10 - -:|> E5 [[psysml:9917c25f-6195-4027-a1da-c593e3e3b530 ]] \r\n",
       "E14 - -:|> E5 [[psysml:bf4de082-8867-4b4d-b459-dc33df5641b4 ]] \r\n",
       "}\r\n",
       "@enduml\r\n",
       "\n",
       "PlantUML version 1.2020.13(Sat Jun 13 12:26:38 UTC 2020)\n",
       "(EPL source distribution)\n",
       "Java Runtime: OpenJDK Runtime Environment\n",
       "JVM: OpenJDK 64-Bit Server VM\n",
       "Default Encoding: UTF-8\n",
       "Language: en\n",
       "Country: null\n",
       "--></g></svg>"
      ]
     },
     "execution_count": 57,
     "metadata": {},
     "output_type": "execute_result"
    }
   ],
   "source": [
    "%viz --style=\"ORTHOLINE\" --view=\"MIXED\" \"CalculationExample\""
   ]
  }
 ],
 "metadata": {
  "kernelspec": {
   "display_name": "SysML",
   "language": "sysml",
   "name": "sysml"
  },
  "language_info": {
   "codemirror_mode": "sysml",
   "file_extension": ".sysml",
   "mimetype": "text/x-sysml",
   "name": "SysML",
   "pygments_lexer": "java",
   "version": "1.0.0"
  }
 },
 "nbformat": 4,
 "nbformat_minor": 5
}
