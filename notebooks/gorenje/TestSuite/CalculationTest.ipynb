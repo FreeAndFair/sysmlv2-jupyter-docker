{
 "cells": [
  {
   "cell_type": "markdown",
   "id": "magnetic-protection",
   "metadata": {},
   "source": [
    "# SysML v2 Test Suite\n",
    "\n",
    "This can notebook can be cleared using menu `Edit --> Clear All Outputs` and then all cells can be\n",
    "run using menu `Run --> Run All Cells`.\n",
    "\n",
    "**WARNING**: This file is generated, all modifications here will be ignored.\n"
   ]
  },
  {
   "cell_type": "markdown",
   "id": "warming-button",
   "metadata": {},
   "source": [
    "## File: ../../sysml/src/examples/Simple Tests/CalculationTest.sysml"
   ]
  },
  {
   "cell_type": "code",
   "execution_count": 1,
   "id": "parental-insured",
   "metadata": {
    "execution": {
     "iopub.execute_input": "2021-03-26T13:05:02.579124Z",
     "iopub.status.busy": "2021-03-26T13:05:02.578231Z",
     "iopub.status.idle": "2021-03-26T13:05:02.961272Z",
     "shell.execute_reply": "2021-03-26T13:05:02.960711Z"
    }
   },
   "outputs": [
    {
     "data": {
      "text/plain": [
       "Package CalculationExample (4f2453fe-5ef6-4833-86ce-b2f73b5c5f78)\n"
      ]
     },
     "execution_count": 1,
     "metadata": {},
     "output_type": "execute_result"
    }
   ],
   "source": [
    "package CalculationExample {\n",
    "\timport ISQ::*;\n",
    "\timport ScalarFunctions::*;\n",
    "\t\n",
    "\tpart vehicle {\n",
    "\t\tattribute m : MassValue;\n",
    "\t\t\n",
    "\t\tpart eng {\n",
    "\t\t\tattribute m : MassValue;\n",
    "\t\t}\n",
    "\t\t\n",
    "\t\tpart trans {\n",
    "\t\t\tattribute m : MassValue;\n",
    "\t\t}\n",
    "\t}\n",
    "\t\n",
    "\tcalc def MassSum (partMasses : MassValue[0..*]) totalMass : MassValue {\n",
    "\t\tsum(partMasses)\n",
    "\t}\n",
    "\t\n",
    "\tcalc ms: MassSum (\n",
    "\t\tpartMasses = {vehicle::eng::m, vehicle::trans::m})\n",
    "\t\ttotalMass = vehicle::m;\n",
    "\t\t\n",
    "\tcalc def MassSum1 {\n",
    "\t\tin partMasses : MassValue[0..*];\n",
    "\t\treturn totalMass : MassValue = sum(partMasses);\n",
    "\t}\n",
    "\t\n",
    "\tcalc ms1: MassSum {\n",
    "\t\tin partMasses = {vehicle::eng::m, vehicle::trans::m};\n",
    "\t\treturn totalMass = vehicle::m;\n",
    "\t}\n",
    "}"
   ]
  },
  {
   "cell_type": "code",
   "execution_count": 2,
   "id": "incoming-flood",
   "metadata": {
    "execution": {
     "iopub.execute_input": "2021-03-26T13:05:03.015280Z",
     "iopub.status.busy": "2021-03-26T13:05:03.014711Z",
     "iopub.status.idle": "2021-03-26T13:05:03.726632Z",
     "shell.execute_reply": "2021-03-26T13:05:03.725671Z"
    }
   },
   "outputs": [
    {
     "data": {
      "image/svg+xml": [
       "<?xml version=\"1.0\" encoding=\"UTF-8\" standalone=\"no\"?><svg xmlns=\"http://www.w3.org/2000/svg\" xmlns:xlink=\"http://www.w3.org/1999/xlink\" contentScriptType=\"application/ecmascript\" contentStyleType=\"text/css\" height=\"441px\" preserveAspectRatio=\"none\" style=\"width:788px;height:441px;\" version=\"1.1\" viewBox=\"0 0 788 441\" width=\"788px\" zoomAndPan=\"magnify\"><defs/><g><!--MD5=[fbc87193dbaf4d95561dea2c320d4a47]\n",
       "cluster E1--><a href=\"psysml:279b101a-ad7c-43dd-8a07-da5fe5802bed\" target=\"_top\" title=\"psysml:279b101a-ad7c-43dd-8a07-da5fe5802bed\" xlink:actuate=\"onRequest\" xlink:href=\"psysml:279b101a-ad7c-43dd-8a07-da5fe5802bed\" xlink:show=\"new\" xlink:title=\"psysml:279b101a-ad7c-43dd-8a07-da5fe5802bed\" xlink:type=\"simple\"><polygon fill=\"#FFFFFF\" points=\"16,6,173,6,180,28.2969,766,28.2969,766,429.72,16,429.72,16,6\" style=\"stroke: #000000; stroke-width: 1.5;\"/><line style=\"stroke: #000000; stroke-width: 1.5;\" x1=\"16\" x2=\"180\" y1=\"28.2969\" y2=\"28.2969\"/><text fill=\"#000000\" font-family=\"sans-serif\" font-size=\"14\" font-weight=\"bold\" lengthAdjust=\"spacingAndGlyphs\" textLength=\"151\" x=\"20\" y=\"20.9951\">CalculationExample</text></a><!--MD5=[de5ec2e2e8f62f467e546659f5068c88]\n",
       "cluster E5--><a href=\"psysml:5c4fc454-9680-413f-bf1a-bdf2f6cc06d5\" target=\"_top\" title=\"psysml:5c4fc454-9680-413f-bf1a-bdf2f6cc06d5\" xlink:actuate=\"onRequest\" xlink:href=\"psysml:5c4fc454-9680-413f-bf1a-bdf2f6cc06d5\" xlink:show=\"new\" xlink:title=\"psysml:5c4fc454-9680-413f-bf1a-bdf2f6cc06d5\" xlink:type=\"simple\"><rect fill=\"#FFFFFF\" height=\"306.72\" id=\"E5\" style=\"stroke: #383838; stroke-width: 1.5;\" width=\"128\" x=\"155\" y=\"85\"/><rect fill=\"#F8F8F8\" height=\"37.9375\" style=\"stroke: #383838; stroke-width: 1.5;\" width=\"128\" x=\"155\" y=\"85\"/><text fill=\"#000000\" font-family=\"sans-serif\" font-size=\"12\" font-style=\"italic\" lengthAdjust=\"spacingAndGlyphs\" textLength=\"106\" x=\"166\" y=\"101.1387\">«calculation def»</text><text fill=\"#000000\" font-family=\"sans-serif\" font-size=\"12\" lengthAdjust=\"spacingAndGlyphs\" textLength=\"59\" x=\"189.5\" y=\"115.1074\">MassSum</text></a><!--MD5=[917b9dd0c7eca3ee5f47219d1a84c0ad]\n",
       "cluster E11--><a href=\"psysml:83ce5d61-6771-4884-a571-d4d08f340672\" target=\"_top\" title=\"psysml:83ce5d61-6771-4884-a571-d4d08f340672\" xlink:actuate=\"onRequest\" xlink:href=\"psysml:83ce5d61-6771-4884-a571-d4d08f340672\" xlink:show=\"new\" xlink:title=\"psysml:83ce5d61-6771-4884-a571-d4d08f340672\" xlink:type=\"simple\"><rect fill=\"#FFFFFF\" height=\"306.72\" id=\"E11\" style=\"stroke: #383838; stroke-width: 1.5;\" width=\"166\" x=\"584\" y=\"85\"/><rect fill=\"#F8F8F8\" height=\"37.9375\" style=\"stroke: #383838; stroke-width: 1.5;\" width=\"166\" x=\"584\" y=\"85\"/><text fill=\"#000000\" font-family=\"sans-serif\" font-size=\"12\" font-style=\"italic\" lengthAdjust=\"spacingAndGlyphs\" textLength=\"106\" x=\"614\" y=\"101.1387\">«calculation def»</text><text fill=\"#000000\" font-family=\"sans-serif\" font-size=\"12\" lengthAdjust=\"spacingAndGlyphs\" textLength=\"67\" x=\"633.5\" y=\"115.1074\">MassSum1</text></a><!--MD5=[b4997ac47864f28c2f74865a473b2911]\n",
       "class E2--><a href=\"psysml:3dfd6fc9-2012-44ec-8abc-b458a2efa8ee\" target=\"_top\" title=\"psysml:3dfd6fc9-2012-44ec-8abc-b458a2efa8ee\" xlink:actuate=\"onRequest\" xlink:href=\"psysml:3dfd6fc9-2012-44ec-8abc-b458a2efa8ee\" xlink:show=\"new\" xlink:title=\"psysml:3dfd6fc9-2012-44ec-8abc-b458a2efa8ee\" xlink:type=\"simple\"><rect fill=\"#FFFFFF\" height=\"75.5469\" id=\"E2\" rx=\"10\" ry=\"10\" style=\"stroke: #383838; stroke-width: 1.5;\" width=\"92\" x=\"473\" y=\"47\"/><text fill=\"#000000\" font-family=\"sans-serif\" font-size=\"12\" font-style=\"italic\" lengthAdjust=\"spacingAndGlyphs\" textLength=\"40\" x=\"499\" y=\"63.1387\">«part»</text><text fill=\"#000000\" font-family=\"sans-serif\" font-size=\"12\" lengthAdjust=\"spacingAndGlyphs\" textLength=\"43\" x=\"497.5\" y=\"77.1074\">vehicle</text><line style=\"stroke: #383838; stroke-width: 1.5;\" x1=\"474\" x2=\"564\" y1=\"84.9375\" y2=\"84.9375\"/><text fill=\"#000000\" font-family=\"sans-serif\" font-size=\"11\" lengthAdjust=\"spacingAndGlyphs\" textLength=\"80\" x=\"479\" y=\"115.9526\">m: MassValue</text><line style=\"stroke: #383838; stroke-width: 1.0;\" x1=\"474\" x2=\"491.5\" y1=\"99.3398\" y2=\"99.3398\"/><text fill=\"#000000\" font-family=\"sans-serif\" font-size=\"11\" lengthAdjust=\"spacingAndGlyphs\" textLength=\"55\" x=\"491.5\" y=\"102.6479\">attributes</text><line style=\"stroke: #383838; stroke-width: 1.0;\" x1=\"546.5\" x2=\"564\" y1=\"99.3398\" y2=\"99.3398\"/></a><!--MD5=[09b614a08d8cba4a07c9adeb5e0fee81]\n",
       "class E3--><a href=\"psysml:6f0477df-1982-4bef-bc4b-f3a5f459ca50\" target=\"_top\" title=\"psysml:6f0477df-1982-4bef-bc4b-f3a5f459ca50\" xlink:actuate=\"onRequest\" xlink:href=\"psysml:6f0477df-1982-4bef-bc4b-f3a5f459ca50\" xlink:show=\"new\" xlink:title=\"psysml:6f0477df-1982-4bef-bc4b-f3a5f459ca50\" xlink:type=\"simple\"><rect fill=\"#FFFFFF\" height=\"75.5469\" id=\"E3\" rx=\"10\" ry=\"10\" style=\"stroke: #383838; stroke-width: 1.5;\" width=\"92\" x=\"346\" y=\"189\"/><text fill=\"#000000\" font-family=\"sans-serif\" font-size=\"12\" font-style=\"italic\" lengthAdjust=\"spacingAndGlyphs\" textLength=\"40\" x=\"372\" y=\"205.1387\">«part»</text><text fill=\"#000000\" font-family=\"sans-serif\" font-size=\"12\" lengthAdjust=\"spacingAndGlyphs\" textLength=\"24\" x=\"380\" y=\"219.1074\">eng</text><line style=\"stroke: #383838; stroke-width: 1.5;\" x1=\"347\" x2=\"437\" y1=\"226.9375\" y2=\"226.9375\"/><text fill=\"#000000\" font-family=\"sans-serif\" font-size=\"11\" lengthAdjust=\"spacingAndGlyphs\" textLength=\"80\" x=\"352\" y=\"257.9526\">m: MassValue</text><line style=\"stroke: #383838; stroke-width: 1.0;\" x1=\"347\" x2=\"364.5\" y1=\"241.3398\" y2=\"241.3398\"/><text fill=\"#000000\" font-family=\"sans-serif\" font-size=\"11\" lengthAdjust=\"spacingAndGlyphs\" textLength=\"55\" x=\"364.5\" y=\"244.6479\">attributes</text><line style=\"stroke: #383838; stroke-width: 1.0;\" x1=\"419.5\" x2=\"437\" y1=\"241.3398\" y2=\"241.3398\"/></a><!--MD5=[ebbe1d658d1005bcc118a6aa81145e00]\n",
       "class E4--><a href=\"psysml:39f29039-e97f-4cd7-a6e4-24de87290ff7\" target=\"_top\" title=\"psysml:39f29039-e97f-4cd7-a6e4-24de87290ff7\" xlink:actuate=\"onRequest\" xlink:href=\"psysml:39f29039-e97f-4cd7-a6e4-24de87290ff7\" xlink:show=\"new\" xlink:title=\"psysml:39f29039-e97f-4cd7-a6e4-24de87290ff7\" xlink:type=\"simple\"><rect fill=\"#FFFFFF\" height=\"75.5469\" id=\"E4\" rx=\"10\" ry=\"10\" style=\"stroke: #383838; stroke-width: 1.5;\" width=\"92\" x=\"473\" y=\"189\"/><text fill=\"#000000\" font-family=\"sans-serif\" font-size=\"12\" font-style=\"italic\" lengthAdjust=\"spacingAndGlyphs\" textLength=\"40\" x=\"499\" y=\"205.1387\">«part»</text><text fill=\"#000000\" font-family=\"sans-serif\" font-size=\"12\" lengthAdjust=\"spacingAndGlyphs\" textLength=\"33\" x=\"502.5\" y=\"219.1074\">trans</text><line style=\"stroke: #383838; stroke-width: 1.5;\" x1=\"474\" x2=\"564\" y1=\"226.9375\" y2=\"226.9375\"/><text fill=\"#000000\" font-family=\"sans-serif\" font-size=\"11\" lengthAdjust=\"spacingAndGlyphs\" textLength=\"80\" x=\"479\" y=\"257.9526\">m: MassValue</text><line style=\"stroke: #383838; stroke-width: 1.0;\" x1=\"474\" x2=\"491.5\" y1=\"241.3398\" y2=\"241.3398\"/><text fill=\"#000000\" font-family=\"sans-serif\" font-size=\"11\" lengthAdjust=\"spacingAndGlyphs\" textLength=\"55\" x=\"491.5\" y=\"244.6479\">attributes</text><line style=\"stroke: #383838; stroke-width: 1.0;\" x1=\"546.5\" x2=\"564\" y1=\"241.3398\" y2=\"241.3398\"/></a><!--MD5=[96f4274e9e20536e775497830990834d]\n",
       "class E10--><a href=\"psysml:20e483d0-a5a0-4777-bc7f-caa19ca2a7e0\" target=\"_top\" title=\"psysml:20e483d0-a5a0-4777-bc7f-caa19ca2a7e0\" xlink:actuate=\"onRequest\" xlink:href=\"psysml:20e483d0-a5a0-4777-bc7f-caa19ca2a7e0\" xlink:show=\"new\" xlink:title=\"psysml:20e483d0-a5a0-4777-bc7f-caa19ca2a7e0\" xlink:type=\"simple\"><rect fill=\"#FFFFFF\" height=\"45.9375\" id=\"E10\" rx=\"10\" ry=\"10\" style=\"stroke: #383838; stroke-width: 1.5;\" width=\"91\" x=\"346.5\" y=\"62\"/><text fill=\"#000000\" font-family=\"sans-serif\" font-size=\"12\" font-style=\"italic\" lengthAdjust=\"spacingAndGlyphs\" textLength=\"82\" x=\"351\" y=\"78.1387\">«calculation»</text><text fill=\"#000000\" font-family=\"sans-serif\" font-size=\"12\" lengthAdjust=\"spacingAndGlyphs\" textLength=\"85\" x=\"349.5\" y=\"92.1074\">ms: MassSum</text><line style=\"stroke: #383838; stroke-width: 1.5;\" x1=\"347.5\" x2=\"436.5\" y1=\"99.9375\" y2=\"99.9375\"/></a><!--MD5=[bee11217b2f71d958a27249dc326068c]\n",
       "class E14--><a href=\"psysml:3aa3b647-0159-4a96-9fb7-94bd79c90754\" target=\"_top\" title=\"psysml:3aa3b647-0159-4a96-9fb7-94bd79c90754\" xlink:actuate=\"onRequest\" xlink:href=\"psysml:3aa3b647-0159-4a96-9fb7-94bd79c90754\" xlink:show=\"new\" xlink:title=\"psysml:3aa3b647-0159-4a96-9fb7-94bd79c90754\" xlink:type=\"simple\"><rect fill=\"#FFFFFF\" height=\"88.3516\" id=\"E14\" rx=\"10\" ry=\"10\" style=\"stroke: #383838; stroke-width: 1.5;\" width=\"99\" x=\"32.5\" y=\"41\"/><text fill=\"#000000\" font-family=\"sans-serif\" font-size=\"12\" font-style=\"italic\" lengthAdjust=\"spacingAndGlyphs\" textLength=\"82\" x=\"41\" y=\"57.1387\">«calculation»</text><text fill=\"#000000\" font-family=\"sans-serif\" font-size=\"12\" lengthAdjust=\"spacingAndGlyphs\" textLength=\"93\" x=\"35.5\" y=\"71.1074\">ms1: MassSum</text><line style=\"stroke: #383838; stroke-width: 1.5;\" x1=\"33.5\" x2=\"130.5\" y1=\"78.9375\" y2=\"78.9375\"/><text fill=\"#000000\" font-family=\"sans-serif\" font-size=\"11\" lengthAdjust=\"spacingAndGlyphs\" textLength=\"67\" x=\"38.5\" y=\"109.9526\">partMasses</text><text fill=\"#000000\" font-family=\"sans-serif\" font-size=\"11\" lengthAdjust=\"spacingAndGlyphs\" textLength=\"55\" x=\"38.5\" y=\"122.7573\">totalMass</text><line style=\"stroke: #383838; stroke-width: 1.0;\" x1=\"33.5\" x2=\"54.5\" y1=\"93.3398\" y2=\"93.3398\"/><text fill=\"#000000\" font-family=\"sans-serif\" font-size=\"11\" lengthAdjust=\"spacingAndGlyphs\" textLength=\"55\" x=\"54.5\" y=\"96.6479\">attributes</text><line style=\"stroke: #383838; stroke-width: 1.0;\" x1=\"109.5\" x2=\"130.5\" y1=\"93.3398\" y2=\"93.3398\"/></a><text fill=\"#000000\" font-family=\"sans-serif\" font-size=\"14\" lengthAdjust=\"spacingAndGlyphs\" textLength=\"80\" x=\"133\" y=\"63.6982\">partMasses</text><rect fill=\"#383838\" height=\"12\" style=\"stroke: #F8F8F8; stroke-width: 1.5;\" width=\"12\" x=\"167\" y=\"79\"/><text fill=\"#000000\" font-family=\"sans-serif\" font-size=\"14\" lengthAdjust=\"spacingAndGlyphs\" textLength=\"66\" x=\"177\" y=\"410.7151\">totalMass</text><rect fill=\"#383838\" height=\"12\" style=\"stroke: #F8F8F8; stroke-width: 1.5;\" width=\"12\" x=\"204\" y=\"385.72\"/><text fill=\"#000000\" font-family=\"sans-serif\" font-size=\"14\" lengthAdjust=\"spacingAndGlyphs\" textLength=\"75\" x=\"227.5\" y=\"63.6982\">$collection</text><rect fill=\"#383838\" height=\"12\" style=\"stroke: #F8F8F8; stroke-width: 1.5;\" width=\"12\" x=\"259\" y=\"79\"/><text fill=\"#000000\" font-family=\"sans-serif\" font-size=\"14\" lengthAdjust=\"spacingAndGlyphs\" textLength=\"48\" x=\"233\" y=\"410.7151\">$result</text><rect fill=\"#383838\" height=\"12\" style=\"stroke: #F8F8F8; stroke-width: 1.5;\" width=\"12\" x=\"251\" y=\"385.72\"/><text fill=\"#000000\" font-family=\"sans-serif\" font-size=\"14\" lengthAdjust=\"spacingAndGlyphs\" textLength=\"80\" x=\"627\" y=\"63.6982\">partMasses</text><rect fill=\"#383838\" height=\"12\" style=\"stroke: #F8F8F8; stroke-width: 1.5;\" width=\"12\" x=\"661\" y=\"79\"/><text fill=\"#000000\" font-family=\"sans-serif\" font-size=\"14\" lengthAdjust=\"spacingAndGlyphs\" textLength=\"66\" x=\"634\" y=\"410.7151\">totalMass</text><rect fill=\"#383838\" height=\"12\" style=\"stroke: #F8F8F8; stroke-width: 1.5;\" width=\"12\" x=\"661\" y=\"385.72\"/><!--MD5=[209b3feb70ccb6233bfe1053d122c12c]\n",
       "reverse link E2 to E3--><a href=\"psysml:6f0477df-1982-4bef-bc4b-f3a5f459ca50\" target=\"_top\" title=\"psysml:6f0477df-1982-4bef-bc4b-f3a5f459ca50\" xlink:actuate=\"onRequest\" xlink:href=\"psysml:6f0477df-1982-4bef-bc4b-f3a5f459ca50\" xlink:show=\"new\" xlink:title=\"psysml:6f0477df-1982-4bef-bc4b-f3a5f459ca50\" xlink:type=\"simple\"><path d=\"M476.41,132.95 C459.95,151.1 441.38,171.57 425.86,188.68 \" fill=\"none\" id=\"E2&lt;-E3\" style=\"stroke: #383838; stroke-width: 1.0;\"/><polygon fill=\"#383838\" points=\"485.3,123.15,478.3052,124.9031,477.2332,132.0341,484.2279,130.281,485.3,123.15\" style=\"stroke: #383838; stroke-width: 1.0;\"/></a><!--MD5=[9618e71518536f8baf3342ff6fdab317]\n",
       "reverse link E2 to E4--><a href=\"psysml:39f29039-e97f-4cd7-a6e4-24de87290ff7\" target=\"_top\" title=\"psysml:39f29039-e97f-4cd7-a6e4-24de87290ff7\" xlink:actuate=\"onRequest\" xlink:href=\"psysml:39f29039-e97f-4cd7-a6e4-24de87290ff7\" xlink:show=\"new\" xlink:title=\"psysml:39f29039-e97f-4cd7-a6e4-24de87290ff7\" xlink:type=\"simple\"><path d=\"M519,136.25 C519,153.55 519,172.6 519,188.68 \" fill=\"none\" id=\"E2&lt;-E4\" style=\"stroke: #383838; stroke-width: 1.0;\"/><polygon fill=\"#383838\" points=\"519,123.15,515,129.15,519,135.15,523,129.15,519,123.15\" style=\"stroke: #383838; stroke-width: 1.0;\"/></a><!--MD5=[ec5e0a54482b142abcecfe541d624bff]\n",
       "link E10 to E5--><a href=\"psysml:087e1e8b-9f76-403f-b1f3-15ea1e5b2649\" target=\"_top\" title=\"psysml:087e1e8b-9f76-403f-b1f3-15ea1e5b2649\" xlink:actuate=\"onRequest\" xlink:href=\"psysml:087e1e8b-9f76-403f-b1f3-15ea1e5b2649\" xlink:show=\"new\" xlink:title=\"psysml:087e1e8b-9f76-403f-b1f3-15ea1e5b2649\" xlink:type=\"simple\"><path d=\"M367.76,108.18 C352.425,122.215 331.7225,141.16 311.4063,159.75 C306.3272,164.3975 301.2723,169.0228 296.3314,173.5437 C293.8609,175.8041 291.419,178.0384 289.0168,180.2363 C287.8157,181.3353 286.6246,182.4252 285.4448,183.5046 C284.8549,184.0444 284.2678,184.5815 283.6837,185.1159 C283.5377,185.2495 283.3919,185.3829 283.2463,185.5162 \" fill=\"none\" id=\"E10-&gt;E5\" style=\"stroke: #383838; stroke-width: 1.0;\"/><polygon fill=\"#FFFFFF\" points=\"283.2463,185.5162,292.5389,167.526,301.9894,177.855,283.2463,185.5162\" style=\"stroke: #383838; stroke-width: 1.0;\"/><ellipse cx=\"298.0944\" cy=\"165.1539\" fill=\"#383838\" rx=\"2\" ry=\"2\" style=\"stroke: #383838; stroke-width: 1.0;\"/><ellipse cx=\"304.8447\" cy=\"172.5317\" fill=\"#383838\" rx=\"2\" ry=\"2\" style=\"stroke: #383838; stroke-width: 1.0;\"/></a><!--MD5=[111e5536516ee1ad7d4266f589654f03]\n",
       "link E14 to E5--><a href=\"psysml:a6dd9655-fa53-42fd-8b92-db635a2ece9b\" target=\"_top\" title=\"psysml:a6dd9655-fa53-42fd-8b92-db635a2ece9b\" xlink:actuate=\"onRequest\" xlink:href=\"psysml:a6dd9655-fa53-42fd-8b92-db635a2ece9b\" xlink:show=\"new\" xlink:title=\"psysml:a6dd9655-fa53-42fd-8b92-db635a2ece9b\" xlink:type=\"simple\"><path d=\"M130.39,129.15 C138.0025,135.9375 146.0606,143.1225 154.2098,150.3889 C154.4645,150.616 154.7193,150.8431 154.9741,151.0704 \" fill=\"none\" id=\"E14-&gt;E5\" style=\"stroke: #383838; stroke-width: 1.0;\"/><polygon fill=\"#FFFFFF\" points=\"154.9741,151.0704,136.1343,143.6501,145.4516,133.2008,154.9741,151.0704\" style=\"stroke: #383838; stroke-width: 1.0;\"/><ellipse cx=\"133.211\" cy=\"138.3638\" fill=\"#383838\" rx=\"2\" ry=\"2\" style=\"stroke: #383838; stroke-width: 1.0;\"/><ellipse cx=\"139.8662\" cy=\"130.9001\" fill=\"#383838\" rx=\"2\" ry=\"2\" style=\"stroke: #383838; stroke-width: 1.0;\"/></a><!--MD5=[05afdb13ddd001d6226c0e8c990d57cf]\n",
       "@startuml\r\n",
       " skinparam monochrome true\r\n",
       "skinparam classbackgroundcolor white\r\n",
       "skinparam shadowing false\r\n",
       "skinparam wrapWidth 300\r\n",
       "hide circle\r\n",
       "\r\n",
       "package \"CalculationExample\" as E1  [[psysml:279b101a-ad7c-43dd-8a07-da5fe5802bed ]]  {\r\n",
       "comp usage \"vehicle\" as E2  <<(T,blue)part>> [[psysml:3dfd6fc9-2012-44ec-8abc-b458a2efa8ee ]] {\r\n",
       "- - attributes - -\r\n",
       "m: MassValue\r\n",
       "}\r\n",
       "comp usage \"eng\" as E3  <<(T,blue)part>> [[psysml:6f0477df-1982-4bef-bc4b-f3a5f459ca50 ]] {\r\n",
       "- - attributes - -\r\n",
       "m: MassValue\r\n",
       "}\r\n",
       "comp usage \"trans\" as E4  <<(T,blue)part>> [[psysml:39f29039-e97f-4cd7-a6e4-24de87290ff7 ]] {\r\n",
       "- - attributes - -\r\n",
       "m: MassValue\r\n",
       "}\r\n",
       "rec def \"MassSum\" as E5  <<(T,blue)calculation def>> [[psysml:5c4fc454-9680-413f-bf1a-bdf2f6cc06d5 ]] {\r\n",
       "portin \"partMasses\" as E6  [[psysml:57eaefe4-a57c-41fa-a944-033dc3e4df4e ]] \r\n",
       "portout \"totalMass\" as E7  [[psysml:35e88aae-ee13-4c55-bc31-272528607619 ]] \r\n",
       "portin \"$collection\" as E8  [[psysml:0e9b074a-52f0-467d-9ed6-1e247226bb71 ]] \r\n",
       "portout \"$result\" as E9  [[psysml:66242f20-bf9b-4b2d-900e-be3ce4c10d7e ]] \r\n",
       "}\r\n",
       "\r\n",
       "comp usage \"ms: MassSum\" as E10  <<(T,blue)calculation>> [[psysml:20e483d0-a5a0-4777-bc7f-caa19ca2a7e0 ]] {\r\n",
       "}\r\n",
       "rec def \"MassSum1\" as E11  <<(T,blue)calculation def>> [[psysml:83ce5d61-6771-4884-a571-d4d08f340672 ]] {\r\n",
       "portin \"partMasses\" as E12  [[psysml:0924d9a5-fc11-4345-935d-e5ff08c51a6a ]] \r\n",
       "portout \"totalMass\" as E13  [[psysml:b7c67a6a-5db6-4529-b3d9-f9fb47dc5f0c ]] \r\n",
       "}\r\n",
       "\r\n",
       "comp usage \"ms1: MassSum\" as E14  <<(T,blue)calculation>> [[psysml:3aa3b647-0159-4a96-9fb7-94bd79c90754 ]] {\r\n",
       "- - attributes - -\r\n",
       "partMasses\r\n",
       "totalMass\r\n",
       "}\r\n",
       "E2 *- - E3 [[psysml:6f0477df-1982-4bef-bc4b-f3a5f459ca50 ]] \r\n",
       "E2 *- - E4 [[psysml:39f29039-e97f-4cd7-a6e4-24de87290ff7 ]] \r\n",
       "E10 - -:|> E5 [[psysml:087e1e8b-9f76-403f-b1f3-15ea1e5b2649 ]] \r\n",
       "E14 - -:|> E5 [[psysml:a6dd9655-fa53-42fd-8b92-db635a2ece9b ]] \r\n",
       "}\r\n",
       "@enduml\r\n",
       "\n",
       "PlantUML version 1.2020.13(Sat Jun 13 12:26:38 UTC 2020)\n",
       "(EPL source distribution)\n",
       "Java Runtime: OpenJDK Runtime Environment\n",
       "JVM: OpenJDK 64-Bit Server VM\n",
       "Default Encoding: UTF-8\n",
       "Language: en\n",
       "Country: null\n",
       "--></g></svg>"
      ]
     },
     "execution_count": 2,
     "metadata": {},
     "output_type": "execute_result"
    }
   ],
   "source": [
    "%viz --style=\"COMPTREE\" --view=\"Default\" \"CalculationExample\""
   ]
  },
  {
   "cell_type": "code",
   "execution_count": 3,
   "id": "closed-lawyer",
   "metadata": {
    "execution": {
     "iopub.execute_input": "2021-03-26T13:05:03.781938Z",
     "iopub.status.busy": "2021-03-26T13:05:03.780503Z",
     "iopub.status.idle": "2021-03-26T13:05:03.955501Z",
     "shell.execute_reply": "2021-03-26T13:05:03.955834Z"
    }
   },
   "outputs": [
    {
     "data": {
      "image/svg+xml": [
       "<?xml version=\"1.0\" encoding=\"UTF-8\" standalone=\"no\"?><svg xmlns=\"http://www.w3.org/2000/svg\" xmlns:xlink=\"http://www.w3.org/1999/xlink\" contentScriptType=\"application/ecmascript\" contentStyleType=\"text/css\" height=\"293px\" preserveAspectRatio=\"none\" style=\"width:607px;height:293px;\" version=\"1.1\" viewBox=\"0 0 607 293\" width=\"607px\" zoomAndPan=\"magnify\"><defs/><g><!--MD5=[fbc87193dbaf4d95561dea2c320d4a47]\n",
       "cluster E1--><a href=\"psysml:279b101a-ad7c-43dd-8a07-da5fe5802bed\" target=\"_top\" title=\"psysml:279b101a-ad7c-43dd-8a07-da5fe5802bed\" xlink:actuate=\"onRequest\" xlink:href=\"psysml:279b101a-ad7c-43dd-8a07-da5fe5802bed\" xlink:show=\"new\" xlink:title=\"psysml:279b101a-ad7c-43dd-8a07-da5fe5802bed\" xlink:type=\"simple\"><polygon fill=\"#FFFFFF\" points=\"16,6,173,6,180,28.2969,585,28.2969,585,281,16,281,16,6\" style=\"stroke: #000000; stroke-width: 1.5;\"/><line style=\"stroke: #000000; stroke-width: 1.5;\" x1=\"16\" x2=\"180\" y1=\"28.2969\" y2=\"28.2969\"/><text fill=\"#000000\" font-family=\"sans-serif\" font-size=\"14\" font-weight=\"bold\" lengthAdjust=\"spacingAndGlyphs\" textLength=\"151\" x=\"20\" y=\"20.9951\">CalculationExample</text></a><!--MD5=[b4997ac47864f28c2f74865a473b2911]\n",
       "class E2--><a href=\"psysml:3dfd6fc9-2012-44ec-8abc-b458a2efa8ee\" target=\"_top\" title=\"psysml:3dfd6fc9-2012-44ec-8abc-b458a2efa8ee\" xlink:actuate=\"onRequest\" xlink:href=\"psysml:3dfd6fc9-2012-44ec-8abc-b458a2efa8ee\" xlink:show=\"new\" xlink:title=\"psysml:3dfd6fc9-2012-44ec-8abc-b458a2efa8ee\" xlink:type=\"simple\"><rect fill=\"#FFFFFF\" height=\"75.5469\" id=\"E2\" rx=\"10\" ry=\"10\" style=\"stroke: #383838; stroke-width: 1.5;\" width=\"92\" x=\"477\" y=\"47\"/><text fill=\"#000000\" font-family=\"sans-serif\" font-size=\"12\" font-style=\"italic\" lengthAdjust=\"spacingAndGlyphs\" textLength=\"40\" x=\"503\" y=\"63.1387\">«part»</text><text fill=\"#000000\" font-family=\"sans-serif\" font-size=\"12\" lengthAdjust=\"spacingAndGlyphs\" textLength=\"43\" x=\"501.5\" y=\"77.1074\">vehicle</text><line style=\"stroke: #383838; stroke-width: 1.5;\" x1=\"478\" x2=\"568\" y1=\"84.9375\" y2=\"84.9375\"/><text fill=\"#000000\" font-family=\"sans-serif\" font-size=\"11\" lengthAdjust=\"spacingAndGlyphs\" textLength=\"80\" x=\"483\" y=\"115.9526\">m: MassValue</text><line style=\"stroke: #383838; stroke-width: 1.0;\" x1=\"478\" x2=\"495.5\" y1=\"99.3398\" y2=\"99.3398\"/><text fill=\"#000000\" font-family=\"sans-serif\" font-size=\"11\" lengthAdjust=\"spacingAndGlyphs\" textLength=\"55\" x=\"495.5\" y=\"102.6479\">attributes</text><line style=\"stroke: #383838; stroke-width: 1.0;\" x1=\"550.5\" x2=\"568\" y1=\"99.3398\" y2=\"99.3398\"/></a><!--MD5=[09b614a08d8cba4a07c9adeb5e0fee81]\n",
       "class E3--><a href=\"psysml:6f0477df-1982-4bef-bc4b-f3a5f459ca50\" target=\"_top\" title=\"psysml:6f0477df-1982-4bef-bc4b-f3a5f459ca50\" xlink:actuate=\"onRequest\" xlink:href=\"psysml:6f0477df-1982-4bef-bc4b-f3a5f459ca50\" xlink:show=\"new\" xlink:title=\"psysml:6f0477df-1982-4bef-bc4b-f3a5f459ca50\" xlink:type=\"simple\"><rect fill=\"#FFFFFF\" height=\"75.5469\" id=\"E3\" rx=\"10\" ry=\"10\" style=\"stroke: #383838; stroke-width: 1.5;\" width=\"92\" x=\"350\" y=\"189\"/><text fill=\"#000000\" font-family=\"sans-serif\" font-size=\"12\" font-style=\"italic\" lengthAdjust=\"spacingAndGlyphs\" textLength=\"40\" x=\"376\" y=\"205.1387\">«part»</text><text fill=\"#000000\" font-family=\"sans-serif\" font-size=\"12\" lengthAdjust=\"spacingAndGlyphs\" textLength=\"24\" x=\"384\" y=\"219.1074\">eng</text><line style=\"stroke: #383838; stroke-width: 1.5;\" x1=\"351\" x2=\"441\" y1=\"226.9375\" y2=\"226.9375\"/><text fill=\"#000000\" font-family=\"sans-serif\" font-size=\"11\" lengthAdjust=\"spacingAndGlyphs\" textLength=\"80\" x=\"356\" y=\"257.9526\">m: MassValue</text><line style=\"stroke: #383838; stroke-width: 1.0;\" x1=\"351\" x2=\"368.5\" y1=\"241.3398\" y2=\"241.3398\"/><text fill=\"#000000\" font-family=\"sans-serif\" font-size=\"11\" lengthAdjust=\"spacingAndGlyphs\" textLength=\"55\" x=\"368.5\" y=\"244.6479\">attributes</text><line style=\"stroke: #383838; stroke-width: 1.0;\" x1=\"423.5\" x2=\"441\" y1=\"241.3398\" y2=\"241.3398\"/></a><!--MD5=[ebbe1d658d1005bcc118a6aa81145e00]\n",
       "class E4--><a href=\"psysml:39f29039-e97f-4cd7-a6e4-24de87290ff7\" target=\"_top\" title=\"psysml:39f29039-e97f-4cd7-a6e4-24de87290ff7\" xlink:actuate=\"onRequest\" xlink:href=\"psysml:39f29039-e97f-4cd7-a6e4-24de87290ff7\" xlink:show=\"new\" xlink:title=\"psysml:39f29039-e97f-4cd7-a6e4-24de87290ff7\" xlink:type=\"simple\"><rect fill=\"#FFFFFF\" height=\"75.5469\" id=\"E4\" rx=\"10\" ry=\"10\" style=\"stroke: #383838; stroke-width: 1.5;\" width=\"92\" x=\"477\" y=\"189\"/><text fill=\"#000000\" font-family=\"sans-serif\" font-size=\"12\" font-style=\"italic\" lengthAdjust=\"spacingAndGlyphs\" textLength=\"40\" x=\"503\" y=\"205.1387\">«part»</text><text fill=\"#000000\" font-family=\"sans-serif\" font-size=\"12\" lengthAdjust=\"spacingAndGlyphs\" textLength=\"33\" x=\"506.5\" y=\"219.1074\">trans</text><line style=\"stroke: #383838; stroke-width: 1.5;\" x1=\"478\" x2=\"568\" y1=\"226.9375\" y2=\"226.9375\"/><text fill=\"#000000\" font-family=\"sans-serif\" font-size=\"11\" lengthAdjust=\"spacingAndGlyphs\" textLength=\"80\" x=\"483\" y=\"257.9526\">m: MassValue</text><line style=\"stroke: #383838; stroke-width: 1.0;\" x1=\"478\" x2=\"495.5\" y1=\"241.3398\" y2=\"241.3398\"/><text fill=\"#000000\" font-family=\"sans-serif\" font-size=\"11\" lengthAdjust=\"spacingAndGlyphs\" textLength=\"55\" x=\"495.5\" y=\"244.6479\">attributes</text><line style=\"stroke: #383838; stroke-width: 1.0;\" x1=\"550.5\" x2=\"568\" y1=\"241.3398\" y2=\"241.3398\"/></a><!--MD5=[270fce915f116d4de14055a7c1d9a0f3]\n",
       "class E5--><a href=\"psysml:5c4fc454-9680-413f-bf1a-bdf2f6cc06d5\" target=\"_top\" title=\"psysml:5c4fc454-9680-413f-bf1a-bdf2f6cc06d5\" xlink:actuate=\"onRequest\" xlink:href=\"psysml:5c4fc454-9680-413f-bf1a-bdf2f6cc06d5\" xlink:show=\"new\" xlink:title=\"psysml:5c4fc454-9680-413f-bf1a-bdf2f6cc06d5\" xlink:type=\"simple\"><rect fill=\"#FFFFFF\" height=\"45.9375\" id=\"E5\" style=\"stroke: #383838; stroke-width: 1.5;\" width=\"108\" x=\"120\" y=\"204\"/><text fill=\"#000000\" font-family=\"sans-serif\" font-size=\"12\" font-style=\"italic\" lengthAdjust=\"spacingAndGlyphs\" textLength=\"106\" x=\"121\" y=\"220.1387\">«calculation def»</text><text fill=\"#000000\" font-family=\"sans-serif\" font-size=\"12\" lengthAdjust=\"spacingAndGlyphs\" textLength=\"59\" x=\"144.5\" y=\"234.1074\">MassSum</text><line style=\"stroke: #383838; stroke-width: 1.5;\" x1=\"121\" x2=\"227\" y1=\"241.9375\" y2=\"241.9375\"/></a><!--MD5=[60a26617385b1d2d0262a64233df1f8d]\n",
       "class E6--><a href=\"psysml:20e483d0-a5a0-4777-bc7f-caa19ca2a7e0\" target=\"_top\" title=\"psysml:20e483d0-a5a0-4777-bc7f-caa19ca2a7e0\" xlink:actuate=\"onRequest\" xlink:href=\"psysml:20e483d0-a5a0-4777-bc7f-caa19ca2a7e0\" xlink:show=\"new\" xlink:title=\"psysml:20e483d0-a5a0-4777-bc7f-caa19ca2a7e0\" xlink:type=\"simple\"><rect fill=\"#FFFFFF\" height=\"45.9375\" id=\"E6\" rx=\"10\" ry=\"10\" style=\"stroke: #383838; stroke-width: 1.5;\" width=\"91\" x=\"350.5\" y=\"62\"/><text fill=\"#000000\" font-family=\"sans-serif\" font-size=\"12\" font-style=\"italic\" lengthAdjust=\"spacingAndGlyphs\" textLength=\"82\" x=\"355\" y=\"78.1387\">«calculation»</text><text fill=\"#000000\" font-family=\"sans-serif\" font-size=\"12\" lengthAdjust=\"spacingAndGlyphs\" textLength=\"85\" x=\"353.5\" y=\"92.1074\">ms: MassSum</text><line style=\"stroke: #383838; stroke-width: 1.5;\" x1=\"351.5\" x2=\"440.5\" y1=\"99.9375\" y2=\"99.9375\"/></a><!--MD5=[2156ba9850f5573cc1fc38a6a4b2f02b]\n",
       "class E7--><a href=\"psysml:83ce5d61-6771-4884-a571-d4d08f340672\" target=\"_top\" title=\"psysml:83ce5d61-6771-4884-a571-d4d08f340672\" xlink:actuate=\"onRequest\" xlink:href=\"psysml:83ce5d61-6771-4884-a571-d4d08f340672\" xlink:show=\"new\" xlink:title=\"psysml:83ce5d61-6771-4884-a571-d4d08f340672\" xlink:type=\"simple\"><rect fill=\"#FFFFFF\" height=\"88.3516\" id=\"E7\" style=\"stroke: #383838; stroke-width: 1.5;\" width=\"148\" x=\"167\" y=\"41\"/><text fill=\"#000000\" font-family=\"sans-serif\" font-size=\"12\" font-style=\"italic\" lengthAdjust=\"spacingAndGlyphs\" textLength=\"106\" x=\"188\" y=\"57.1387\">«calculation def»</text><text fill=\"#000000\" font-family=\"sans-serif\" font-size=\"12\" lengthAdjust=\"spacingAndGlyphs\" textLength=\"67\" x=\"207.5\" y=\"71.1074\">MassSum1</text><line style=\"stroke: #383838; stroke-width: 1.5;\" x1=\"168\" x2=\"314\" y1=\"78.9375\" y2=\"78.9375\"/><text fill=\"#000000\" font-family=\"sans-serif\" font-size=\"11\" lengthAdjust=\"spacingAndGlyphs\" textLength=\"136\" x=\"173\" y=\"109.9526\">partMasses: MassValue</text><text fill=\"#000000\" font-family=\"sans-serif\" font-size=\"11\" lengthAdjust=\"spacingAndGlyphs\" textLength=\"124\" x=\"173\" y=\"122.7573\">totalMass: MassValue</text><line style=\"stroke: #383838; stroke-width: 1.0;\" x1=\"168\" x2=\"213.5\" y1=\"93.3398\" y2=\"93.3398\"/><text fill=\"#000000\" font-family=\"sans-serif\" font-size=\"11\" lengthAdjust=\"spacingAndGlyphs\" textLength=\"55\" x=\"213.5\" y=\"96.6479\">attributes</text><line style=\"stroke: #383838; stroke-width: 1.0;\" x1=\"268.5\" x2=\"314\" y1=\"93.3398\" y2=\"93.3398\"/></a><!--MD5=[b9389687b975829384b498ac4b7476b2]\n",
       "class E8--><a href=\"psysml:3aa3b647-0159-4a96-9fb7-94bd79c90754\" target=\"_top\" title=\"psysml:3aa3b647-0159-4a96-9fb7-94bd79c90754\" xlink:actuate=\"onRequest\" xlink:href=\"psysml:3aa3b647-0159-4a96-9fb7-94bd79c90754\" xlink:show=\"new\" xlink:title=\"psysml:3aa3b647-0159-4a96-9fb7-94bd79c90754\" xlink:type=\"simple\"><rect fill=\"#FFFFFF\" height=\"88.3516\" id=\"E8\" rx=\"10\" ry=\"10\" style=\"stroke: #383838; stroke-width: 1.5;\" width=\"99\" x=\"32.5\" y=\"41\"/><text fill=\"#000000\" font-family=\"sans-serif\" font-size=\"12\" font-style=\"italic\" lengthAdjust=\"spacingAndGlyphs\" textLength=\"82\" x=\"41\" y=\"57.1387\">«calculation»</text><text fill=\"#000000\" font-family=\"sans-serif\" font-size=\"12\" lengthAdjust=\"spacingAndGlyphs\" textLength=\"93\" x=\"35.5\" y=\"71.1074\">ms1: MassSum</text><line style=\"stroke: #383838; stroke-width: 1.5;\" x1=\"33.5\" x2=\"130.5\" y1=\"78.9375\" y2=\"78.9375\"/><text fill=\"#000000\" font-family=\"sans-serif\" font-size=\"11\" lengthAdjust=\"spacingAndGlyphs\" textLength=\"67\" x=\"38.5\" y=\"109.9526\">partMasses</text><text fill=\"#000000\" font-family=\"sans-serif\" font-size=\"11\" lengthAdjust=\"spacingAndGlyphs\" textLength=\"55\" x=\"38.5\" y=\"122.7573\">totalMass</text><line style=\"stroke: #383838; stroke-width: 1.0;\" x1=\"33.5\" x2=\"54.5\" y1=\"93.3398\" y2=\"93.3398\"/><text fill=\"#000000\" font-family=\"sans-serif\" font-size=\"11\" lengthAdjust=\"spacingAndGlyphs\" textLength=\"55\" x=\"54.5\" y=\"96.6479\">attributes</text><line style=\"stroke: #383838; stroke-width: 1.0;\" x1=\"109.5\" x2=\"130.5\" y1=\"93.3398\" y2=\"93.3398\"/></a><!--MD5=[209b3feb70ccb6233bfe1053d122c12c]\n",
       "reverse link E2 to E3--><a href=\"psysml:6f0477df-1982-4bef-bc4b-f3a5f459ca50\" target=\"_top\" title=\"psysml:6f0477df-1982-4bef-bc4b-f3a5f459ca50\" xlink:actuate=\"onRequest\" xlink:href=\"psysml:6f0477df-1982-4bef-bc4b-f3a5f459ca50\" xlink:show=\"new\" xlink:title=\"psysml:6f0477df-1982-4bef-bc4b-f3a5f459ca50\" xlink:type=\"simple\"><path d=\"M480.41,132.95 C463.95,151.1 445.38,171.57 429.86,188.68 \" fill=\"none\" id=\"E2&lt;-E3\" style=\"stroke: #383838; stroke-width: 1.0;\"/><polygon fill=\"#383838\" points=\"489.3,123.15,482.3052,124.9031,481.2332,132.0341,488.2279,130.281,489.3,123.15\" style=\"stroke: #383838; stroke-width: 1.0;\"/></a><!--MD5=[9618e71518536f8baf3342ff6fdab317]\n",
       "reverse link E2 to E4--><a href=\"psysml:39f29039-e97f-4cd7-a6e4-24de87290ff7\" target=\"_top\" title=\"psysml:39f29039-e97f-4cd7-a6e4-24de87290ff7\" xlink:actuate=\"onRequest\" xlink:href=\"psysml:39f29039-e97f-4cd7-a6e4-24de87290ff7\" xlink:show=\"new\" xlink:title=\"psysml:39f29039-e97f-4cd7-a6e4-24de87290ff7\" xlink:type=\"simple\"><path d=\"M523,136.25 C523,153.55 523,172.6 523,188.68 \" fill=\"none\" id=\"E2&lt;-E4\" style=\"stroke: #383838; stroke-width: 1.0;\"/><polygon fill=\"#383838\" points=\"523,123.15,519,129.15,523,135.15,527,129.15,523,123.15\" style=\"stroke: #383838; stroke-width: 1.0;\"/></a><!--MD5=[25b190c987b1e74e5126d372c5a73af1]\n",
       "link E6 to E5--><a href=\"psysml:087e1e8b-9f76-403f-b1f3-15ea1e5b2649\" target=\"_top\" title=\"psysml:087e1e8b-9f76-403f-b1f3-15ea1e5b2649\" xlink:actuate=\"onRequest\" xlink:href=\"psysml:087e1e8b-9f76-403f-b1f3-15ea1e5b2649\" xlink:show=\"new\" xlink:title=\"psysml:087e1e8b-9f76-403f-b1f3-15ea1e5b2649\" xlink:type=\"simple\"><path d=\"M364.16,108.19 C354.25,114.98 343.23,122.39 333,129 C298.76,151.11 259.69,174.96 228.85,193.48 \" fill=\"none\" id=\"E6-&gt;E5\" style=\"stroke: #383838; stroke-width: 1.0;\"/><polygon fill=\"#FFFFFF\" points=\"211.28,203.99,223.9864,188.2246,231.1775,200.2365,211.28,203.99\" style=\"stroke: #383838; stroke-width: 1.0;\"/><ellipse cx=\"229.9042\" cy=\"187.0127\" fill=\"#383838\" rx=\"2\" ry=\"2\" style=\"stroke: #383838; stroke-width: 1.0;\"/><ellipse cx=\"235.0408\" cy=\"195.5927\" fill=\"#383838\" rx=\"2\" ry=\"2\" style=\"stroke: #383838; stroke-width: 1.0;\"/></a><!--MD5=[1ccb2481ffa92f8d51a74ee30c51832a]\n",
       "link E8 to E5--><a href=\"psysml:a6dd9655-fa53-42fd-8b92-db635a2ece9b\" target=\"_top\" title=\"psysml:a6dd9655-fa53-42fd-8b92-db635a2ece9b\" xlink:actuate=\"onRequest\" xlink:href=\"psysml:a6dd9655-fa53-42fd-8b92-db635a2ece9b\" xlink:show=\"new\" xlink:title=\"psysml:a6dd9655-fa53-42fd-8b92-db635a2ece9b\" xlink:type=\"simple\"><path d=\"M110.35,129.15 C122.49,147.61 136.55,169.01 148.37,186.99 \" fill=\"none\" id=\"E8-&gt;E5\" style=\"stroke: #383838; stroke-width: 1.0;\"/><polygon fill=\"#FFFFFF\" points=\"159.48,203.91,143.1947,191.8772,154.8939,184.1877,159.48,203.91\" style=\"stroke: #383838; stroke-width: 1.0;\"/><ellipse cx=\"141.7353\" cy=\"186.0155\" fill=\"#383838\" rx=\"2\" ry=\"2\" style=\"stroke: #383838; stroke-width: 1.0;\"/><ellipse cx=\"150.0918\" cy=\"180.523\" fill=\"#383838\" rx=\"2\" ry=\"2\" style=\"stroke: #383838; stroke-width: 1.0;\"/></a><!--MD5=[f553af665f8b091b144ae6284aa35e48]\n",
       "@startuml\r\n",
       " skinparam monochrome true\r\n",
       "skinparam classbackgroundcolor white\r\n",
       "skinparam shadowing false\r\n",
       "skinparam wrapWidth 300\r\n",
       "hide circle\r\n",
       "\r\n",
       "package \"CalculationExample\" as E1  [[psysml:279b101a-ad7c-43dd-8a07-da5fe5802bed ]]  {\r\n",
       "comp usage \"vehicle\" as E2  <<(T,blue)part>> [[psysml:3dfd6fc9-2012-44ec-8abc-b458a2efa8ee ]] {\r\n",
       "- - attributes - -\r\n",
       "m: MassValue\r\n",
       "}\r\n",
       "comp usage \"eng\" as E3  <<(T,blue)part>> [[psysml:6f0477df-1982-4bef-bc4b-f3a5f459ca50 ]] {\r\n",
       "- - attributes - -\r\n",
       "m: MassValue\r\n",
       "}\r\n",
       "comp usage \"trans\" as E4  <<(T,blue)part>> [[psysml:39f29039-e97f-4cd7-a6e4-24de87290ff7 ]] {\r\n",
       "- - attributes - -\r\n",
       "m: MassValue\r\n",
       "}\r\n",
       "comp def \"MassSum\" as E5  <<(T,blue)calculation def>> [[psysml:5c4fc454-9680-413f-bf1a-bdf2f6cc06d5 ]] {\r\n",
       "}\r\n",
       "comp usage \"ms: MassSum\" as E6  <<(T,blue)calculation>> [[psysml:20e483d0-a5a0-4777-bc7f-caa19ca2a7e0 ]] {\r\n",
       "}\r\n",
       "comp def \"MassSum1\" as E7  <<(T,blue)calculation def>> [[psysml:83ce5d61-6771-4884-a571-d4d08f340672 ]] {\r\n",
       "- - attributes - -\r\n",
       "partMasses: MassValue\r\n",
       "totalMass: MassValue\r\n",
       "}\r\n",
       "comp usage \"ms1: MassSum\" as E8  <<(T,blue)calculation>> [[psysml:3aa3b647-0159-4a96-9fb7-94bd79c90754 ]] {\r\n",
       "- - attributes - -\r\n",
       "partMasses\r\n",
       "totalMass\r\n",
       "}\r\n",
       "E2 *- - E3 [[psysml:6f0477df-1982-4bef-bc4b-f3a5f459ca50 ]] \r\n",
       "E2 *- - E4 [[psysml:39f29039-e97f-4cd7-a6e4-24de87290ff7 ]] \r\n",
       "E6 - -:|> E5 [[psysml:087e1e8b-9f76-403f-b1f3-15ea1e5b2649 ]] \r\n",
       "E8 - -:|> E5 [[psysml:a6dd9655-fa53-42fd-8b92-db635a2ece9b ]] \r\n",
       "}\r\n",
       "@enduml\r\n",
       "\n",
       "PlantUML version 1.2020.13(Sat Jun 13 12:26:38 UTC 2020)\n",
       "(EPL source distribution)\n",
       "Java Runtime: OpenJDK Runtime Environment\n",
       "JVM: OpenJDK 64-Bit Server VM\n",
       "Default Encoding: UTF-8\n",
       "Language: en\n",
       "Country: null\n",
       "--></g></svg>"
      ]
     },
     "execution_count": 3,
     "metadata": {},
     "output_type": "execute_result"
    }
   ],
   "source": [
    "%viz --style=\"COMPTREE\" --view=\"Tree\" \"CalculationExample\""
   ]
  },
  {
   "cell_type": "code",
   "execution_count": 4,
   "id": "reflected-stopping",
   "metadata": {
    "execution": {
     "iopub.execute_input": "2021-03-26T13:05:04.006636Z",
     "iopub.status.busy": "2021-03-26T13:05:04.006258Z",
     "iopub.status.idle": "2021-03-26T13:05:04.016217Z",
     "shell.execute_reply": "2021-03-26T13:05:04.014709Z"
    }
   },
   "outputs": [
    {
     "data": {
      "image/svg+xml": [
       "<?xml version=\"1.0\" encoding=\"UTF-8\" standalone=\"no\"?><svg xmlns=\"http://www.w3.org/2000/svg\" xmlns:xlink=\"http://www.w3.org/1999/xlink\" contentScriptType=\"application/ecmascript\" contentStyleType=\"text/css\" height=\"12px\" preserveAspectRatio=\"none\" style=\"width:12px;height:12px;\" version=\"1.1\" viewBox=\"0 0 12 12\" width=\"12px\" zoomAndPan=\"magnify\"><defs/><g><!--MD5=[f19188ef49e11757b5c46753f95d9edc]\n",
       "@startuml\r\n",
       " skinparam monochrome true\r\n",
       "skinparam classbackgroundcolor white\r\n",
       "skinparam shadowing false\r\n",
       "skinparam wrapWidth 300\r\n",
       "hide circle\r\n",
       "\r\n",
       "@enduml\r\n",
       "\n",
       "PlantUML version 1.2020.13(Sat Jun 13 12:26:38 UTC 2020)\n",
       "(EPL source distribution)\n",
       "Java Runtime: OpenJDK Runtime Environment\n",
       "JVM: OpenJDK 64-Bit Server VM\n",
       "Default Encoding: UTF-8\n",
       "Language: en\n",
       "Country: null\n",
       "--></g></svg>"
      ]
     },
     "execution_count": 4,
     "metadata": {},
     "output_type": "execute_result"
    }
   ],
   "source": [
    "%viz --style=\"COMPTREE\" --view=\"State\" \"CalculationExample\""
   ]
  },
  {
   "cell_type": "code",
   "execution_count": 5,
   "id": "dried-arnold",
   "metadata": {
    "execution": {
     "iopub.execute_input": "2021-03-26T13:05:04.071602Z",
     "iopub.status.busy": "2021-03-26T13:05:04.070848Z",
     "iopub.status.idle": "2021-03-26T13:05:04.116017Z",
     "shell.execute_reply": "2021-03-26T13:05:04.114813Z"
    }
   },
   "outputs": [
    {
     "data": {
      "image/svg+xml": [
       "<?xml version=\"1.0\" encoding=\"UTF-8\" standalone=\"no\"?><svg xmlns=\"http://www.w3.org/2000/svg\" xmlns:xlink=\"http://www.w3.org/1999/xlink\" contentScriptType=\"application/ecmascript\" contentStyleType=\"text/css\" height=\"246px\" preserveAspectRatio=\"none\" style=\"width:795px;height:246px;\" version=\"1.1\" viewBox=\"0 0 795 246\" width=\"795px\" zoomAndPan=\"magnify\"><defs/><g><!--MD5=[fbc87193dbaf4d95561dea2c320d4a47]\n",
       "cluster E1--><a href=\"psysml:279b101a-ad7c-43dd-8a07-da5fe5802bed\" target=\"_top\" title=\"psysml:279b101a-ad7c-43dd-8a07-da5fe5802bed\" xlink:actuate=\"onRequest\" xlink:href=\"psysml:279b101a-ad7c-43dd-8a07-da5fe5802bed\" xlink:show=\"new\" xlink:title=\"psysml:279b101a-ad7c-43dd-8a07-da5fe5802bed\" xlink:type=\"simple\"><polygon fill=\"#FFFFFF\" points=\"16,6,173,6,180,28.2969,773,28.2969,773,234,16,234,16,6\" style=\"stroke: #000000; stroke-width: 1.5;\"/><line style=\"stroke: #000000; stroke-width: 1.5;\" x1=\"16\" x2=\"180\" y1=\"28.2969\" y2=\"28.2969\"/><text fill=\"#000000\" font-family=\"sans-serif\" font-size=\"14\" font-weight=\"bold\" lengthAdjust=\"spacingAndGlyphs\" textLength=\"151\" x=\"20\" y=\"20.9951\">CalculationExample</text></a><!--MD5=[e4f7fae6ed58524ba242bb0b0d3be6b7]\n",
       "cluster E2--><a href=\"psysml:3dfd6fc9-2012-44ec-8abc-b458a2efa8ee\" target=\"_top\" title=\"psysml:3dfd6fc9-2012-44ec-8abc-b458a2efa8ee\" xlink:actuate=\"onRequest\" xlink:href=\"psysml:3dfd6fc9-2012-44ec-8abc-b458a2efa8ee\" xlink:show=\"new\" xlink:title=\"psysml:3dfd6fc9-2012-44ec-8abc-b458a2efa8ee\" xlink:type=\"simple\"><rect fill=\"#FFFFFF\" height=\"161\" id=\"E2\" rx=\"10\" ry=\"10\" style=\"stroke: #383838; stroke-width: 1.5;\" width=\"436\" x=\"313\" y=\"49\"/><rect fill=\"#F8F8F8\" height=\"23.9688\" rx=\"10\" ry=\"10\" style=\"stroke: #F8F8F8; stroke-width: 1.5;\" width=\"436\" x=\"313\" y=\"49\"/><rect fill=\"#F8F8F8\" height=\"10\" style=\"stroke: #F8F8F8; stroke-width: 1.5;\" width=\"436\" x=\"313\" y=\"62.9688\"/><rect fill=\"none\" height=\"161\" id=\"E2\" rx=\"10\" ry=\"10\" style=\"stroke: #383838; stroke-width: 1.5;\" width=\"436\" x=\"313\" y=\"49\"/><text fill=\"#000000\" font-family=\"sans-serif\" font-size=\"12\" lengthAdjust=\"spacingAndGlyphs\" textLength=\"43\" x=\"509.5\" y=\"65.1387\">vehicle</text><line style=\"stroke: #383838; stroke-width: 1.0;\" x1=\"313\" x2=\"749\" y1=\"72.9688\" y2=\"72.9688\"/></a><!--MD5=[f6df4d0ebaf0b5dfb2ced0ae5af7c670]\n",
       "cluster E4--><a href=\"psysml:6f0477df-1982-4bef-bc4b-f3a5f459ca50\" target=\"_top\" title=\"psysml:6f0477df-1982-4bef-bc4b-f3a5f459ca50\" xlink:actuate=\"onRequest\" xlink:href=\"psysml:6f0477df-1982-4bef-bc4b-f3a5f459ca50\" xlink:show=\"new\" xlink:title=\"psysml:6f0477df-1982-4bef-bc4b-f3a5f459ca50\" xlink:type=\"simple\"><rect fill=\"#FFFFFF\" height=\"94\" id=\"E4\" rx=\"10\" ry=\"10\" style=\"stroke: #383838; stroke-width: 1.5;\" width=\"128\" x=\"597\" y=\"92\"/><rect fill=\"#F8F8F8\" height=\"23.9688\" rx=\"10\" ry=\"10\" style=\"stroke: #F8F8F8; stroke-width: 1.5;\" width=\"128\" x=\"597\" y=\"92\"/><rect fill=\"#F8F8F8\" height=\"10\" style=\"stroke: #F8F8F8; stroke-width: 1.5;\" width=\"128\" x=\"597\" y=\"105.9688\"/><rect fill=\"none\" height=\"94\" id=\"E4\" rx=\"10\" ry=\"10\" style=\"stroke: #383838; stroke-width: 1.5;\" width=\"128\" x=\"597\" y=\"92\"/><text fill=\"#000000\" font-family=\"sans-serif\" font-size=\"12\" lengthAdjust=\"spacingAndGlyphs\" textLength=\"24\" x=\"649\" y=\"108.1387\">eng</text><line style=\"stroke: #383838; stroke-width: 1.0;\" x1=\"597\" x2=\"725\" y1=\"115.9688\" y2=\"115.9688\"/></a><!--MD5=[14e3b0961a2654348d326746436168a1]\n",
       "cluster E6--><a href=\"psysml:39f29039-e97f-4cd7-a6e4-24de87290ff7\" target=\"_top\" title=\"psysml:39f29039-e97f-4cd7-a6e4-24de87290ff7\" xlink:actuate=\"onRequest\" xlink:href=\"psysml:39f29039-e97f-4cd7-a6e4-24de87290ff7\" xlink:show=\"new\" xlink:title=\"psysml:39f29039-e97f-4cd7-a6e4-24de87290ff7\" xlink:type=\"simple\"><rect fill=\"#FFFFFF\" height=\"94\" id=\"E6\" rx=\"10\" ry=\"10\" style=\"stroke: #383838; stroke-width: 1.5;\" width=\"128\" x=\"445\" y=\"92\"/><rect fill=\"#F8F8F8\" height=\"23.9688\" rx=\"10\" ry=\"10\" style=\"stroke: #F8F8F8; stroke-width: 1.5;\" width=\"128\" x=\"445\" y=\"92\"/><rect fill=\"#F8F8F8\" height=\"10\" style=\"stroke: #F8F8F8; stroke-width: 1.5;\" width=\"128\" x=\"445\" y=\"105.9688\"/><rect fill=\"none\" height=\"94\" id=\"E6\" rx=\"10\" ry=\"10\" style=\"stroke: #383838; stroke-width: 1.5;\" width=\"128\" x=\"445\" y=\"92\"/><text fill=\"#000000\" font-family=\"sans-serif\" font-size=\"12\" lengthAdjust=\"spacingAndGlyphs\" textLength=\"33\" x=\"492.5\" y=\"108.1387\">trans</text><line style=\"stroke: #383838; stroke-width: 1.0;\" x1=\"445\" x2=\"573\" y1=\"115.9688\" y2=\"115.9688\"/></a><g id=\"E1.E8\"><a href=\"psysml:5c4fc454-9680-413f-bf1a-bdf2f6cc06d5\" target=\"_top\" title=\"psysml:5c4fc454-9680-413f-bf1a-bdf2f6cc06d5\" xlink:actuate=\"onRequest\" xlink:href=\"psysml:5c4fc454-9680-413f-bf1a-bdf2f6cc06d5\" xlink:show=\"new\" xlink:title=\"psysml:5c4fc454-9680-413f-bf1a-bdf2f6cc06d5\" xlink:type=\"simple\"><rect fill=\"#FFFFFF\" height=\"42.9375\" id=\"E8\" style=\"stroke: #383838; stroke-width: 1.5;\" width=\"113\" x=\"180.5\" y=\"127\"/><rect fill=\"#F8F8F8\" height=\"37.9375\" style=\"stroke: #383838; stroke-width: 1.5;\" width=\"113\" x=\"180.5\" y=\"127\"/><text fill=\"#000000\" font-family=\"sans-serif\" font-size=\"12\" font-style=\"italic\" lengthAdjust=\"spacingAndGlyphs\" textLength=\"106\" x=\"184\" y=\"143.1387\">«calculation def»</text><text fill=\"#000000\" font-family=\"sans-serif\" font-size=\"12\" lengthAdjust=\"spacingAndGlyphs\" textLength=\"59\" x=\"207.5\" y=\"157.1074\">MassSum</text></a></g><g id=\"E1.E9\"><a href=\"psysml:83ce5d61-6771-4884-a571-d4d08f340672\" target=\"_top\" title=\"psysml:83ce5d61-6771-4884-a571-d4d08f340672\" xlink:actuate=\"onRequest\" xlink:href=\"psysml:83ce5d61-6771-4884-a571-d4d08f340672\" xlink:show=\"new\" xlink:title=\"psysml:83ce5d61-6771-4884-a571-d4d08f340672\" xlink:type=\"simple\"><rect fill=\"#FFFFFF\" height=\"42.9375\" id=\"E9\" style=\"stroke: #383838; stroke-width: 1.5;\" width=\"113\" x=\"32.5\" y=\"127\"/><rect fill=\"#F8F8F8\" height=\"37.9375\" style=\"stroke: #383838; stroke-width: 1.5;\" width=\"113\" x=\"32.5\" y=\"127\"/><text fill=\"#000000\" font-family=\"sans-serif\" font-size=\"12\" font-style=\"italic\" lengthAdjust=\"spacingAndGlyphs\" textLength=\"106\" x=\"36\" y=\"143.1387\">«calculation def»</text><text fill=\"#000000\" font-family=\"sans-serif\" font-size=\"12\" lengthAdjust=\"spacingAndGlyphs\" textLength=\"67\" x=\"55.5\" y=\"157.1074\">MassSum1</text></a></g><g id=\"E1.E2.E3\"><a href=\"psysml:14ff17ee-41c8-45bd-b867-b50857ad993c\" target=\"_top\" title=\"psysml:14ff17ee-41c8-45bd-b867-b50857ad993c\" xlink:actuate=\"onRequest\" xlink:href=\"psysml:14ff17ee-41c8-45bd-b867-b50857ad993c\" xlink:show=\"new\" xlink:title=\"psysml:14ff17ee-41c8-45bd-b867-b50857ad993c\" xlink:type=\"simple\"><rect fill=\"#FFFFFF\" height=\"42.9375\" id=\"E3\" rx=\"10\" ry=\"10\" style=\"stroke: #383838; stroke-width: 1.5;\" width=\"97\" x=\"328.5\" y=\"127\"/><rect fill=\"#F8F8F8\" height=\"37.9375\" rx=\"10\" ry=\"10\" style=\"stroke: #F8F8F8; stroke-width: 1.5;\" width=\"97\" x=\"328.5\" y=\"127\"/><rect fill=\"#F8F8F8\" height=\"10\" style=\"stroke: #F8F8F8; stroke-width: 1.5;\" width=\"97\" x=\"328.5\" y=\"154.9375\"/><rect fill=\"none\" height=\"42.9375\" id=\"E3\" rx=\"10\" ry=\"10\" style=\"stroke: #383838; stroke-width: 1.5;\" width=\"97\" x=\"328.5\" y=\"127\"/><text fill=\"#000000\" font-family=\"sans-serif\" font-size=\"12\" font-style=\"italic\" lengthAdjust=\"spacingAndGlyphs\" textLength=\"69\" x=\"342.5\" y=\"143.1387\">«attribute»</text><text fill=\"#000000\" font-family=\"sans-serif\" font-size=\"12\" lengthAdjust=\"spacingAndGlyphs\" textLength=\"86\" x=\"334\" y=\"157.1074\">m: MassValue</text></a></g><g id=\"E1.E2.E4.E5\"><a href=\"psysml:74b360a2-1898-4ab2-8a14-bf87d0706240\" target=\"_top\" title=\"psysml:74b360a2-1898-4ab2-8a14-bf87d0706240\" xlink:actuate=\"onRequest\" xlink:href=\"psysml:74b360a2-1898-4ab2-8a14-bf87d0706240\" xlink:show=\"new\" xlink:title=\"psysml:74b360a2-1898-4ab2-8a14-bf87d0706240\" xlink:type=\"simple\"><rect fill=\"#FFFFFF\" height=\"42.9375\" id=\"E5\" rx=\"10\" ry=\"10\" style=\"stroke: #383838; stroke-width: 1.5;\" width=\"97\" x=\"612.5\" y=\"127\"/><rect fill=\"#F8F8F8\" height=\"37.9375\" rx=\"10\" ry=\"10\" style=\"stroke: #F8F8F8; stroke-width: 1.5;\" width=\"97\" x=\"612.5\" y=\"127\"/><rect fill=\"#F8F8F8\" height=\"10\" style=\"stroke: #F8F8F8; stroke-width: 1.5;\" width=\"97\" x=\"612.5\" y=\"154.9375\"/><rect fill=\"none\" height=\"42.9375\" id=\"E5\" rx=\"10\" ry=\"10\" style=\"stroke: #383838; stroke-width: 1.5;\" width=\"97\" x=\"612.5\" y=\"127\"/><text fill=\"#000000\" font-family=\"sans-serif\" font-size=\"12\" font-style=\"italic\" lengthAdjust=\"spacingAndGlyphs\" textLength=\"69\" x=\"626.5\" y=\"143.1387\">«attribute»</text><text fill=\"#000000\" font-family=\"sans-serif\" font-size=\"12\" lengthAdjust=\"spacingAndGlyphs\" textLength=\"86\" x=\"618\" y=\"157.1074\">m: MassValue</text></a></g><g id=\"E1.E2.E6.E7\"><a href=\"psysml:21104dbc-631a-485d-ad70-3d921fae82b5\" target=\"_top\" title=\"psysml:21104dbc-631a-485d-ad70-3d921fae82b5\" xlink:actuate=\"onRequest\" xlink:href=\"psysml:21104dbc-631a-485d-ad70-3d921fae82b5\" xlink:show=\"new\" xlink:title=\"psysml:21104dbc-631a-485d-ad70-3d921fae82b5\" xlink:type=\"simple\"><rect fill=\"#FFFFFF\" height=\"42.9375\" id=\"E7\" rx=\"10\" ry=\"10\" style=\"stroke: #383838; stroke-width: 1.5;\" width=\"97\" x=\"460.5\" y=\"127\"/><rect fill=\"#F8F8F8\" height=\"37.9375\" rx=\"10\" ry=\"10\" style=\"stroke: #F8F8F8; stroke-width: 1.5;\" width=\"97\" x=\"460.5\" y=\"127\"/><rect fill=\"#F8F8F8\" height=\"10\" style=\"stroke: #F8F8F8; stroke-width: 1.5;\" width=\"97\" x=\"460.5\" y=\"154.9375\"/><rect fill=\"none\" height=\"42.9375\" id=\"E7\" rx=\"10\" ry=\"10\" style=\"stroke: #383838; stroke-width: 1.5;\" width=\"97\" x=\"460.5\" y=\"127\"/><text fill=\"#000000\" font-family=\"sans-serif\" font-size=\"12\" font-style=\"italic\" lengthAdjust=\"spacingAndGlyphs\" textLength=\"69\" x=\"474.5\" y=\"143.1387\">«attribute»</text><text fill=\"#000000\" font-family=\"sans-serif\" font-size=\"12\" lengthAdjust=\"spacingAndGlyphs\" textLength=\"86\" x=\"466\" y=\"157.1074\">m: MassValue</text></a></g><!--MD5=[234c6ac7e784eb770f89f43924787d77]\n",
       "@startuml\r\n",
       "skinparam ranksep 8\r\n",
       "skinparam rectangle {\r\n",
       " backgroundColor<<block>> LightGreen\r\n",
       "}\r\n",
       " skinparam monochrome true\r\n",
       "skinparam classbackgroundcolor white\r\n",
       "skinparam shadowing false\r\n",
       "skinparam wrapWidth 300\r\n",
       "hide circle\r\n",
       "\r\n",
       "package \"CalculationExample\" as E1  [[psysml:279b101a-ad7c-43dd-8a07-da5fe5802bed ]]  {\r\n",
       "rec usage \"vehicle\" as E2  [[psysml:3dfd6fc9-2012-44ec-8abc-b458a2efa8ee ]] {\r\n",
       "rec usage \"m: MassValue\" as E3  <<(T,blue)attribute>> [[psysml:14ff17ee-41c8-45bd-b867-b50857ad993c ]] {\r\n",
       "}\r\n",
       "rec usage \"eng\" as E4  [[psysml:6f0477df-1982-4bef-bc4b-f3a5f459ca50 ]] {\r\n",
       "rec usage \"m: MassValue\" as E5  <<(T,blue)attribute>> [[psysml:74b360a2-1898-4ab2-8a14-bf87d0706240 ]] {\r\n",
       "}\r\n",
       "}\r\n",
       "rec usage \"trans\" as E6  [[psysml:39f29039-e97f-4cd7-a6e4-24de87290ff7 ]] {\r\n",
       "rec usage \"m: MassValue\" as E7  <<(T,blue)attribute>> [[psysml:21104dbc-631a-485d-ad70-3d921fae82b5 ]] {\r\n",
       "}\r\n",
       "}\r\n",
       "}\r\n",
       "def \"MassSum\" as E8  <<(T,blue)calculation def>> [[psysml:5c4fc454-9680-413f-bf1a-bdf2f6cc06d5 ]] \r\n",
       "def \"MassSum1\" as E9  <<(T,blue)calculation def>> [[psysml:83ce5d61-6771-4884-a571-d4d08f340672 ]] \r\n",
       "}\r\n",
       "@enduml\r\n",
       "\n",
       "PlantUML version 1.2020.13(Sat Jun 13 12:26:38 UTC 2020)\n",
       "(EPL source distribution)\n",
       "Java Runtime: OpenJDK Runtime Environment\n",
       "JVM: OpenJDK 64-Bit Server VM\n",
       "Default Encoding: UTF-8\n",
       "Language: en\n",
       "Country: null\n",
       "--></g></svg>"
      ]
     },
     "execution_count": 5,
     "metadata": {},
     "output_type": "execute_result"
    }
   ],
   "source": [
    "%viz --style=\"COMPTREE\" --view=\"Interconnection\" \"CalculationExample\""
   ]
  },
  {
   "cell_type": "code",
   "execution_count": 6,
   "id": "encouraging-backing",
   "metadata": {
    "execution": {
     "iopub.execute_input": "2021-03-26T13:05:04.170327Z",
     "iopub.status.busy": "2021-03-26T13:05:04.169638Z",
     "iopub.status.idle": "2021-03-26T13:05:04.225007Z",
     "shell.execute_reply": "2021-03-26T13:05:04.225375Z"
    }
   },
   "outputs": [
    {
     "data": {
      "image/svg+xml": [
       "<?xml version=\"1.0\" encoding=\"UTF-8\" standalone=\"no\"?><svg xmlns=\"http://www.w3.org/2000/svg\" xmlns:xlink=\"http://www.w3.org/1999/xlink\" contentScriptType=\"application/ecmascript\" contentStyleType=\"text/css\" height=\"162px\" preserveAspectRatio=\"none\" style=\"width:676px;height:162px;\" version=\"1.1\" viewBox=\"0 0 676 162\" width=\"676px\" zoomAndPan=\"magnify\"><defs/><g><!--MD5=[fbc87193dbaf4d95561dea2c320d4a47]\n",
       "cluster E1--><a href=\"psysml:5c4fc454-9680-413f-bf1a-bdf2f6cc06d5\" target=\"_top\" title=\"psysml:5c4fc454-9680-413f-bf1a-bdf2f6cc06d5\" xlink:actuate=\"onRequest\" xlink:href=\"psysml:5c4fc454-9680-413f-bf1a-bdf2f6cc06d5\" xlink:show=\"new\" xlink:title=\"psysml:5c4fc454-9680-413f-bf1a-bdf2f6cc06d5\" xlink:type=\"simple\"><rect fill=\"#FFFFFF\" height=\"87.72\" id=\"E1\" style=\"stroke: #383838; stroke-width: 1.5;\" width=\"128\" x=\"28\" y=\"42.0986\"/><rect fill=\"#F8F8F8\" height=\"37.9375\" style=\"stroke: #383838; stroke-width: 1.5;\" width=\"128\" x=\"28\" y=\"42.0986\"/><text fill=\"#000000\" font-family=\"sans-serif\" font-size=\"12\" font-style=\"italic\" lengthAdjust=\"spacingAndGlyphs\" textLength=\"106\" x=\"39\" y=\"58.2373\">«calculation def»</text><text fill=\"#000000\" font-family=\"sans-serif\" font-size=\"12\" lengthAdjust=\"spacingAndGlyphs\" textLength=\"59\" x=\"62.5\" y=\"72.2061\">MassSum</text></a><!--MD5=[14e3b0961a2654348d326746436168a1]\n",
       "cluster E6--><a href=\"psysml:20e483d0-a5a0-4777-bc7f-caa19ca2a7e0\" target=\"_top\" title=\"psysml:20e483d0-a5a0-4777-bc7f-caa19ca2a7e0\" xlink:actuate=\"onRequest\" xlink:href=\"psysml:20e483d0-a5a0-4777-bc7f-caa19ca2a7e0\" xlink:show=\"new\" xlink:title=\"psysml:20e483d0-a5a0-4777-bc7f-caa19ca2a7e0\" xlink:type=\"simple\"><rect fill=\"#FFFFFF\" height=\"87.72\" id=\"E6\" rx=\"10\" ry=\"10\" style=\"stroke: #383838; stroke-width: 1.5;\" width=\"101\" x=\"251.75\" y=\"42.0986\"/><rect fill=\"#F8F8F8\" height=\"37.9375\" rx=\"10\" ry=\"10\" style=\"stroke: #F8F8F8; stroke-width: 1.5;\" width=\"101\" x=\"251.75\" y=\"42.0986\"/><rect fill=\"#F8F8F8\" height=\"10\" style=\"stroke: #F8F8F8; stroke-width: 1.5;\" width=\"101\" x=\"251.75\" y=\"70.0361\"/><rect fill=\"none\" height=\"87.72\" id=\"E6\" rx=\"10\" ry=\"10\" style=\"stroke: #383838; stroke-width: 1.5;\" width=\"101\" x=\"251.75\" y=\"42.0986\"/><text fill=\"#000000\" font-family=\"sans-serif\" font-size=\"12\" font-style=\"italic\" lengthAdjust=\"spacingAndGlyphs\" textLength=\"82\" x=\"261.25\" y=\"58.2373\">«calculation»</text><text fill=\"#000000\" font-family=\"sans-serif\" font-size=\"12\" lengthAdjust=\"spacingAndGlyphs\" textLength=\"18\" x=\"293.25\" y=\"72.2061\">ms</text><line style=\"stroke: #383838; stroke-width: 1.0;\" x1=\"251.75\" x2=\"352.75\" y1=\"80.0361\" y2=\"80.0361\"/></a><!--MD5=[7f149f147074ac12df2cb0a7728a5fb0]\n",
       "cluster E9--><a href=\"psysml:83ce5d61-6771-4884-a571-d4d08f340672\" target=\"_top\" title=\"psysml:83ce5d61-6771-4884-a571-d4d08f340672\" xlink:actuate=\"onRequest\" xlink:href=\"psysml:83ce5d61-6771-4884-a571-d4d08f340672\" xlink:show=\"new\" xlink:title=\"psysml:83ce5d61-6771-4884-a571-d4d08f340672\" xlink:type=\"simple\"><rect fill=\"#FFFFFF\" height=\"87.72\" id=\"E9\" style=\"stroke: #383838; stroke-width: 1.5;\" width=\"127\" x=\"410.25\" y=\"42.0986\"/><rect fill=\"#F8F8F8\" height=\"37.9375\" style=\"stroke: #383838; stroke-width: 1.5;\" width=\"127\" x=\"410.25\" y=\"42.0986\"/><text fill=\"#000000\" font-family=\"sans-serif\" font-size=\"12\" font-style=\"italic\" lengthAdjust=\"spacingAndGlyphs\" textLength=\"106\" x=\"420.75\" y=\"58.2373\">«calculation def»</text><text fill=\"#000000\" font-family=\"sans-serif\" font-size=\"12\" lengthAdjust=\"spacingAndGlyphs\" textLength=\"67\" x=\"440.25\" y=\"72.2061\">MassSum1</text></a><!--MD5=[47bea60c1a0ac6c1143df232041969c0]\n",
       "cluster E12--><a href=\"psysml:3aa3b647-0159-4a96-9fb7-94bd79c90754\" target=\"_top\" title=\"psysml:3aa3b647-0159-4a96-9fb7-94bd79c90754\" xlink:actuate=\"onRequest\" xlink:href=\"psysml:3aa3b647-0159-4a96-9fb7-94bd79c90754\" xlink:show=\"new\" xlink:title=\"psysml:3aa3b647-0159-4a96-9fb7-94bd79c90754\" xlink:type=\"simple\"><rect fill=\"#FFFFFF\" height=\"87.72\" id=\"E12\" rx=\"10\" ry=\"10\" style=\"stroke: #383838; stroke-width: 1.5;\" width=\"138\" x=\"526\" y=\"42.0986\"/><rect fill=\"#F8F8F8\" height=\"37.9375\" rx=\"10\" ry=\"10\" style=\"stroke: #F8F8F8; stroke-width: 1.5;\" width=\"138\" x=\"526\" y=\"42.0986\"/><rect fill=\"#F8F8F8\" height=\"10\" style=\"stroke: #F8F8F8; stroke-width: 1.5;\" width=\"138\" x=\"526\" y=\"70.0361\"/><rect fill=\"none\" height=\"87.72\" id=\"E12\" rx=\"10\" ry=\"10\" style=\"stroke: #383838; stroke-width: 1.5;\" width=\"138\" x=\"526\" y=\"42.0986\"/><text fill=\"#000000\" font-family=\"sans-serif\" font-size=\"12\" font-style=\"italic\" lengthAdjust=\"spacingAndGlyphs\" textLength=\"82\" x=\"554\" y=\"58.2373\">«calculation»</text><text fill=\"#000000\" font-family=\"sans-serif\" font-size=\"12\" lengthAdjust=\"spacingAndGlyphs\" textLength=\"26\" x=\"582\" y=\"72.2061\">ms1</text><line style=\"stroke: #383838; stroke-width: 1.0;\" x1=\"526\" x2=\"664\" y1=\"80.0361\" y2=\"80.0361\"/></a><text fill=\"#000000\" font-family=\"sans-serif\" font-size=\"14\" lengthAdjust=\"spacingAndGlyphs\" textLength=\"80\" x=\"6\" y=\"20.7969\">partMasses</text><rect fill=\"#383838\" height=\"12\" style=\"stroke: #F8F8F8; stroke-width: 1.5;\" width=\"12\" x=\"40\" y=\"36.0986\"/><text fill=\"#000000\" font-family=\"sans-serif\" font-size=\"14\" lengthAdjust=\"spacingAndGlyphs\" textLength=\"66\" x=\"54\" y=\"148.8138\">totalMass</text><rect fill=\"#383838\" height=\"12\" style=\"stroke: #F8F8F8; stroke-width: 1.5;\" width=\"12\" x=\"81\" y=\"123.8186\"/><text fill=\"#000000\" font-family=\"sans-serif\" font-size=\"14\" lengthAdjust=\"spacingAndGlyphs\" textLength=\"75\" x=\"100.5\" y=\"20.7969\">$collection</text><rect fill=\"#383838\" height=\"12\" style=\"stroke: #F8F8F8; stroke-width: 1.5;\" width=\"12\" x=\"132\" y=\"36.0986\"/><text fill=\"#000000\" font-family=\"sans-serif\" font-size=\"14\" lengthAdjust=\"spacingAndGlyphs\" textLength=\"48\" x=\"110\" y=\"148.8138\">$result</text><rect fill=\"#383838\" height=\"12\" style=\"stroke: #F8F8F8; stroke-width: 1.5;\" width=\"12\" x=\"128\" y=\"123.8186\"/><text fill=\"#000000\" font-family=\"sans-serif\" font-size=\"14\" lengthAdjust=\"spacingAndGlyphs\" textLength=\"80\" x=\"235\" y=\"20.7969\">partMasses</text><rect fill=\"#383838\" height=\"12\" style=\"stroke: #F8F8F8; stroke-width: 1.5;\" width=\"12\" x=\"269\" y=\"36.0986\"/><text fill=\"#000000\" font-family=\"sans-serif\" font-size=\"14\" lengthAdjust=\"spacingAndGlyphs\" textLength=\"66\" x=\"238\" y=\"148.8138\">totalMass</text><rect fill=\"#383838\" height=\"12\" style=\"stroke: #F8F8F8; stroke-width: 1.5;\" width=\"12\" x=\"265\" y=\"123.8186\"/><text fill=\"#000000\" font-family=\"sans-serif\" font-size=\"14\" lengthAdjust=\"spacingAndGlyphs\" textLength=\"80\" x=\"395\" y=\"20.7969\">partMasses</text><rect fill=\"#383838\" height=\"12\" style=\"stroke: #F8F8F8; stroke-width: 1.5;\" width=\"12\" x=\"429\" y=\"36.0986\"/><text fill=\"#000000\" font-family=\"sans-serif\" font-size=\"14\" lengthAdjust=\"spacingAndGlyphs\" textLength=\"66\" x=\"398\" y=\"148.8138\">totalMass</text><rect fill=\"#383838\" height=\"12\" style=\"stroke: #F8F8F8; stroke-width: 1.5;\" width=\"12\" x=\"425\" y=\"123.8186\"/><text fill=\"#000000\" font-family=\"sans-serif\" font-size=\"14\" lengthAdjust=\"spacingAndGlyphs\" textLength=\"80\" x=\"555\" y=\"20.7969\">partMasses</text><rect fill=\"#383838\" height=\"12\" style=\"stroke: #F8F8F8; stroke-width: 1.5;\" width=\"12\" x=\"589\" y=\"36.0986\"/><text fill=\"#000000\" font-family=\"sans-serif\" font-size=\"14\" lengthAdjust=\"spacingAndGlyphs\" textLength=\"66\" x=\"562\" y=\"148.8138\">totalMass</text><rect fill=\"#383838\" height=\"12\" style=\"stroke: #F8F8F8; stroke-width: 1.5;\" width=\"12\" x=\"589\" y=\"123.8186\"/><!--MD5=[9319ad8ccd3d5c39b42fc4a824544a13]\n",
       "@startuml\r\n",
       "skinparam ranksep 8\r\n",
       " skinparam monochrome true\r\n",
       "skinparam classbackgroundcolor white\r\n",
       "skinparam shadowing false\r\n",
       "skinparam wrapWidth 300\r\n",
       "hide circle\r\n",
       "\r\n",
       "rec def \"MassSum\" as E1  <<(T,blue)calculation def>> [[psysml:5c4fc454-9680-413f-bf1a-bdf2f6cc06d5 ]] {\r\n",
       "portin \"partMasses\" as E2  [[psysml:57eaefe4-a57c-41fa-a944-033dc3e4df4e ]] \r\n",
       "portout \"totalMass\" as E3  [[psysml:35e88aae-ee13-4c55-bc31-272528607619 ]] \r\n",
       "portin \"$collection\" as E4  [[psysml:0e9b074a-52f0-467d-9ed6-1e247226bb71 ]] \r\n",
       "portout \"$result\" as E5  [[psysml:66242f20-bf9b-4b2d-900e-be3ce4c10d7e ]] \r\n",
       "}\r\n",
       "\r\n",
       "rec usage \"ms\" as E6  <<(T,blue)calculation>> [[psysml:20e483d0-a5a0-4777-bc7f-caa19ca2a7e0 ]] {\r\n",
       "portin \"partMasses\" as E7  [[psysml:61916027-7c4f-412f-9b89-438222569e79 ]] \r\n",
       "portout \"totalMass\" as E8  [[psysml:1b43c6aa-09b4-4e05-b4e4-873331fee78b ]] \r\n",
       "}\r\n",
       "\r\n",
       "rec def \"MassSum1\" as E9  <<(T,blue)calculation def>> [[psysml:83ce5d61-6771-4884-a571-d4d08f340672 ]] {\r\n",
       "portin \"partMasses\" as E10  [[psysml:0924d9a5-fc11-4345-935d-e5ff08c51a6a ]] \r\n",
       "portout \"totalMass\" as E11  [[psysml:b7c67a6a-5db6-4529-b3d9-f9fb47dc5f0c ]] \r\n",
       "}\r\n",
       "\r\n",
       "rec usage \"ms1\" as E12  <<(T,blue)calculation>> [[psysml:3aa3b647-0159-4a96-9fb7-94bd79c90754 ]] {\r\n",
       "portin \"partMasses\" as E13  [[psysml:d0b5b203-3fa8-4960-85f8-af6511da8b47 ]] \r\n",
       "portout \"totalMass\" as E14  [[psysml:7deb5e16-d6a2-4c83-9234-29097012e327 ]] \r\n",
       "}\r\n",
       "\r\n",
       "@enduml\r\n",
       "\n",
       "PlantUML version 1.2020.13(Sat Jun 13 12:26:38 UTC 2020)\n",
       "(EPL source distribution)\n",
       "Java Runtime: OpenJDK Runtime Environment\n",
       "JVM: OpenJDK 64-Bit Server VM\n",
       "Default Encoding: UTF-8\n",
       "Language: en\n",
       "Country: null\n",
       "--></g></svg>"
      ]
     },
     "execution_count": 6,
     "metadata": {},
     "output_type": "execute_result"
    }
   ],
   "source": [
    "%viz --style=\"COMPTREE\" --view=\"Action\" \"CalculationExample\""
   ]
  },
  {
   "cell_type": "code",
   "execution_count": 7,
   "id": "distinguished-chicago",
   "metadata": {
    "execution": {
     "iopub.execute_input": "2021-03-26T13:05:04.276084Z",
     "iopub.status.busy": "2021-03-26T13:05:04.275672Z",
     "iopub.status.idle": "2021-03-26T13:05:04.407513Z",
     "shell.execute_reply": "2021-03-26T13:05:04.406551Z"
    }
   },
   "outputs": [
    {
     "data": {
      "image/svg+xml": [
       "<?xml version=\"1.0\" encoding=\"UTF-8\" standalone=\"no\"?><svg xmlns=\"http://www.w3.org/2000/svg\" xmlns:xlink=\"http://www.w3.org/1999/xlink\" contentScriptType=\"application/ecmascript\" contentStyleType=\"text/css\" height=\"293px\" preserveAspectRatio=\"none\" style=\"width:607px;height:293px;\" version=\"1.1\" viewBox=\"0 0 607 293\" width=\"607px\" zoomAndPan=\"magnify\"><defs/><g><!--MD5=[fbc87193dbaf4d95561dea2c320d4a47]\n",
       "cluster E1--><a href=\"psysml:279b101a-ad7c-43dd-8a07-da5fe5802bed\" target=\"_top\" title=\"psysml:279b101a-ad7c-43dd-8a07-da5fe5802bed\" xlink:actuate=\"onRequest\" xlink:href=\"psysml:279b101a-ad7c-43dd-8a07-da5fe5802bed\" xlink:show=\"new\" xlink:title=\"psysml:279b101a-ad7c-43dd-8a07-da5fe5802bed\" xlink:type=\"simple\"><polygon fill=\"#FFFFFF\" points=\"16,6,173,6,180,28.2969,585,28.2969,585,281,16,281,16,6\" style=\"stroke: #000000; stroke-width: 1.5;\"/><line style=\"stroke: #000000; stroke-width: 1.5;\" x1=\"16\" x2=\"180\" y1=\"28.2969\" y2=\"28.2969\"/><text fill=\"#000000\" font-family=\"sans-serif\" font-size=\"14\" font-weight=\"bold\" lengthAdjust=\"spacingAndGlyphs\" textLength=\"151\" x=\"20\" y=\"20.9951\">CalculationExample</text></a><!--MD5=[b4997ac47864f28c2f74865a473b2911]\n",
       "class E2--><a href=\"psysml:3dfd6fc9-2012-44ec-8abc-b458a2efa8ee\" target=\"_top\" title=\"psysml:3dfd6fc9-2012-44ec-8abc-b458a2efa8ee\" xlink:actuate=\"onRequest\" xlink:href=\"psysml:3dfd6fc9-2012-44ec-8abc-b458a2efa8ee\" xlink:show=\"new\" xlink:title=\"psysml:3dfd6fc9-2012-44ec-8abc-b458a2efa8ee\" xlink:type=\"simple\"><rect fill=\"#FFFFFF\" height=\"75.5469\" id=\"E2\" rx=\"10\" ry=\"10\" style=\"stroke: #383838; stroke-width: 1.5;\" width=\"92\" x=\"477\" y=\"47\"/><text fill=\"#000000\" font-family=\"sans-serif\" font-size=\"12\" font-style=\"italic\" lengthAdjust=\"spacingAndGlyphs\" textLength=\"40\" x=\"503\" y=\"63.1387\">«part»</text><text fill=\"#000000\" font-family=\"sans-serif\" font-size=\"12\" lengthAdjust=\"spacingAndGlyphs\" textLength=\"43\" x=\"501.5\" y=\"77.1074\">vehicle</text><line style=\"stroke: #383838; stroke-width: 1.5;\" x1=\"478\" x2=\"568\" y1=\"84.9375\" y2=\"84.9375\"/><text fill=\"#000000\" font-family=\"sans-serif\" font-size=\"11\" lengthAdjust=\"spacingAndGlyphs\" textLength=\"80\" x=\"483\" y=\"115.9526\">m: MassValue</text><line style=\"stroke: #383838; stroke-width: 1.0;\" x1=\"478\" x2=\"495.5\" y1=\"99.3398\" y2=\"99.3398\"/><text fill=\"#000000\" font-family=\"sans-serif\" font-size=\"11\" lengthAdjust=\"spacingAndGlyphs\" textLength=\"55\" x=\"495.5\" y=\"102.6479\">attributes</text><line style=\"stroke: #383838; stroke-width: 1.0;\" x1=\"550.5\" x2=\"568\" y1=\"99.3398\" y2=\"99.3398\"/></a><!--MD5=[09b614a08d8cba4a07c9adeb5e0fee81]\n",
       "class E3--><a href=\"psysml:6f0477df-1982-4bef-bc4b-f3a5f459ca50\" target=\"_top\" title=\"psysml:6f0477df-1982-4bef-bc4b-f3a5f459ca50\" xlink:actuate=\"onRequest\" xlink:href=\"psysml:6f0477df-1982-4bef-bc4b-f3a5f459ca50\" xlink:show=\"new\" xlink:title=\"psysml:6f0477df-1982-4bef-bc4b-f3a5f459ca50\" xlink:type=\"simple\"><rect fill=\"#FFFFFF\" height=\"75.5469\" id=\"E3\" rx=\"10\" ry=\"10\" style=\"stroke: #383838; stroke-width: 1.5;\" width=\"92\" x=\"350\" y=\"189\"/><text fill=\"#000000\" font-family=\"sans-serif\" font-size=\"12\" font-style=\"italic\" lengthAdjust=\"spacingAndGlyphs\" textLength=\"40\" x=\"376\" y=\"205.1387\">«part»</text><text fill=\"#000000\" font-family=\"sans-serif\" font-size=\"12\" lengthAdjust=\"spacingAndGlyphs\" textLength=\"24\" x=\"384\" y=\"219.1074\">eng</text><line style=\"stroke: #383838; stroke-width: 1.5;\" x1=\"351\" x2=\"441\" y1=\"226.9375\" y2=\"226.9375\"/><text fill=\"#000000\" font-family=\"sans-serif\" font-size=\"11\" lengthAdjust=\"spacingAndGlyphs\" textLength=\"80\" x=\"356\" y=\"257.9526\">m: MassValue</text><line style=\"stroke: #383838; stroke-width: 1.0;\" x1=\"351\" x2=\"368.5\" y1=\"241.3398\" y2=\"241.3398\"/><text fill=\"#000000\" font-family=\"sans-serif\" font-size=\"11\" lengthAdjust=\"spacingAndGlyphs\" textLength=\"55\" x=\"368.5\" y=\"244.6479\">attributes</text><line style=\"stroke: #383838; stroke-width: 1.0;\" x1=\"423.5\" x2=\"441\" y1=\"241.3398\" y2=\"241.3398\"/></a><!--MD5=[ebbe1d658d1005bcc118a6aa81145e00]\n",
       "class E4--><a href=\"psysml:39f29039-e97f-4cd7-a6e4-24de87290ff7\" target=\"_top\" title=\"psysml:39f29039-e97f-4cd7-a6e4-24de87290ff7\" xlink:actuate=\"onRequest\" xlink:href=\"psysml:39f29039-e97f-4cd7-a6e4-24de87290ff7\" xlink:show=\"new\" xlink:title=\"psysml:39f29039-e97f-4cd7-a6e4-24de87290ff7\" xlink:type=\"simple\"><rect fill=\"#FFFFFF\" height=\"75.5469\" id=\"E4\" rx=\"10\" ry=\"10\" style=\"stroke: #383838; stroke-width: 1.5;\" width=\"92\" x=\"477\" y=\"189\"/><text fill=\"#000000\" font-family=\"sans-serif\" font-size=\"12\" font-style=\"italic\" lengthAdjust=\"spacingAndGlyphs\" textLength=\"40\" x=\"503\" y=\"205.1387\">«part»</text><text fill=\"#000000\" font-family=\"sans-serif\" font-size=\"12\" lengthAdjust=\"spacingAndGlyphs\" textLength=\"33\" x=\"506.5\" y=\"219.1074\">trans</text><line style=\"stroke: #383838; stroke-width: 1.5;\" x1=\"478\" x2=\"568\" y1=\"226.9375\" y2=\"226.9375\"/><text fill=\"#000000\" font-family=\"sans-serif\" font-size=\"11\" lengthAdjust=\"spacingAndGlyphs\" textLength=\"80\" x=\"483\" y=\"257.9526\">m: MassValue</text><line style=\"stroke: #383838; stroke-width: 1.0;\" x1=\"478\" x2=\"495.5\" y1=\"241.3398\" y2=\"241.3398\"/><text fill=\"#000000\" font-family=\"sans-serif\" font-size=\"11\" lengthAdjust=\"spacingAndGlyphs\" textLength=\"55\" x=\"495.5\" y=\"244.6479\">attributes</text><line style=\"stroke: #383838; stroke-width: 1.0;\" x1=\"550.5\" x2=\"568\" y1=\"241.3398\" y2=\"241.3398\"/></a><!--MD5=[270fce915f116d4de14055a7c1d9a0f3]\n",
       "class E5--><a href=\"psysml:5c4fc454-9680-413f-bf1a-bdf2f6cc06d5\" target=\"_top\" title=\"psysml:5c4fc454-9680-413f-bf1a-bdf2f6cc06d5\" xlink:actuate=\"onRequest\" xlink:href=\"psysml:5c4fc454-9680-413f-bf1a-bdf2f6cc06d5\" xlink:show=\"new\" xlink:title=\"psysml:5c4fc454-9680-413f-bf1a-bdf2f6cc06d5\" xlink:type=\"simple\"><rect fill=\"#FFFFFF\" height=\"45.9375\" id=\"E5\" style=\"stroke: #383838; stroke-width: 1.5;\" width=\"108\" x=\"120\" y=\"204\"/><text fill=\"#000000\" font-family=\"sans-serif\" font-size=\"12\" font-style=\"italic\" lengthAdjust=\"spacingAndGlyphs\" textLength=\"106\" x=\"121\" y=\"220.1387\">«calculation def»</text><text fill=\"#000000\" font-family=\"sans-serif\" font-size=\"12\" lengthAdjust=\"spacingAndGlyphs\" textLength=\"59\" x=\"144.5\" y=\"234.1074\">MassSum</text><line style=\"stroke: #383838; stroke-width: 1.5;\" x1=\"121\" x2=\"227\" y1=\"241.9375\" y2=\"241.9375\"/></a><!--MD5=[60a26617385b1d2d0262a64233df1f8d]\n",
       "class E6--><a href=\"psysml:20e483d0-a5a0-4777-bc7f-caa19ca2a7e0\" target=\"_top\" title=\"psysml:20e483d0-a5a0-4777-bc7f-caa19ca2a7e0\" xlink:actuate=\"onRequest\" xlink:href=\"psysml:20e483d0-a5a0-4777-bc7f-caa19ca2a7e0\" xlink:show=\"new\" xlink:title=\"psysml:20e483d0-a5a0-4777-bc7f-caa19ca2a7e0\" xlink:type=\"simple\"><rect fill=\"#FFFFFF\" height=\"45.9375\" id=\"E6\" rx=\"10\" ry=\"10\" style=\"stroke: #383838; stroke-width: 1.5;\" width=\"91\" x=\"350.5\" y=\"62\"/><text fill=\"#000000\" font-family=\"sans-serif\" font-size=\"12\" font-style=\"italic\" lengthAdjust=\"spacingAndGlyphs\" textLength=\"82\" x=\"355\" y=\"78.1387\">«calculation»</text><text fill=\"#000000\" font-family=\"sans-serif\" font-size=\"12\" lengthAdjust=\"spacingAndGlyphs\" textLength=\"85\" x=\"353.5\" y=\"92.1074\">ms: MassSum</text><line style=\"stroke: #383838; stroke-width: 1.5;\" x1=\"351.5\" x2=\"440.5\" y1=\"99.9375\" y2=\"99.9375\"/></a><!--MD5=[2156ba9850f5573cc1fc38a6a4b2f02b]\n",
       "class E7--><a href=\"psysml:83ce5d61-6771-4884-a571-d4d08f340672\" target=\"_top\" title=\"psysml:83ce5d61-6771-4884-a571-d4d08f340672\" xlink:actuate=\"onRequest\" xlink:href=\"psysml:83ce5d61-6771-4884-a571-d4d08f340672\" xlink:show=\"new\" xlink:title=\"psysml:83ce5d61-6771-4884-a571-d4d08f340672\" xlink:type=\"simple\"><rect fill=\"#FFFFFF\" height=\"88.3516\" id=\"E7\" style=\"stroke: #383838; stroke-width: 1.5;\" width=\"148\" x=\"167\" y=\"41\"/><text fill=\"#000000\" font-family=\"sans-serif\" font-size=\"12\" font-style=\"italic\" lengthAdjust=\"spacingAndGlyphs\" textLength=\"106\" x=\"188\" y=\"57.1387\">«calculation def»</text><text fill=\"#000000\" font-family=\"sans-serif\" font-size=\"12\" lengthAdjust=\"spacingAndGlyphs\" textLength=\"67\" x=\"207.5\" y=\"71.1074\">MassSum1</text><line style=\"stroke: #383838; stroke-width: 1.5;\" x1=\"168\" x2=\"314\" y1=\"78.9375\" y2=\"78.9375\"/><text fill=\"#000000\" font-family=\"sans-serif\" font-size=\"11\" lengthAdjust=\"spacingAndGlyphs\" textLength=\"136\" x=\"173\" y=\"109.9526\">partMasses: MassValue</text><text fill=\"#000000\" font-family=\"sans-serif\" font-size=\"11\" lengthAdjust=\"spacingAndGlyphs\" textLength=\"124\" x=\"173\" y=\"122.7573\">totalMass: MassValue</text><line style=\"stroke: #383838; stroke-width: 1.0;\" x1=\"168\" x2=\"213.5\" y1=\"93.3398\" y2=\"93.3398\"/><text fill=\"#000000\" font-family=\"sans-serif\" font-size=\"11\" lengthAdjust=\"spacingAndGlyphs\" textLength=\"55\" x=\"213.5\" y=\"96.6479\">attributes</text><line style=\"stroke: #383838; stroke-width: 1.0;\" x1=\"268.5\" x2=\"314\" y1=\"93.3398\" y2=\"93.3398\"/></a><!--MD5=[b9389687b975829384b498ac4b7476b2]\n",
       "class E8--><a href=\"psysml:3aa3b647-0159-4a96-9fb7-94bd79c90754\" target=\"_top\" title=\"psysml:3aa3b647-0159-4a96-9fb7-94bd79c90754\" xlink:actuate=\"onRequest\" xlink:href=\"psysml:3aa3b647-0159-4a96-9fb7-94bd79c90754\" xlink:show=\"new\" xlink:title=\"psysml:3aa3b647-0159-4a96-9fb7-94bd79c90754\" xlink:type=\"simple\"><rect fill=\"#FFFFFF\" height=\"88.3516\" id=\"E8\" rx=\"10\" ry=\"10\" style=\"stroke: #383838; stroke-width: 1.5;\" width=\"99\" x=\"32.5\" y=\"41\"/><text fill=\"#000000\" font-family=\"sans-serif\" font-size=\"12\" font-style=\"italic\" lengthAdjust=\"spacingAndGlyphs\" textLength=\"82\" x=\"41\" y=\"57.1387\">«calculation»</text><text fill=\"#000000\" font-family=\"sans-serif\" font-size=\"12\" lengthAdjust=\"spacingAndGlyphs\" textLength=\"93\" x=\"35.5\" y=\"71.1074\">ms1: MassSum</text><line style=\"stroke: #383838; stroke-width: 1.5;\" x1=\"33.5\" x2=\"130.5\" y1=\"78.9375\" y2=\"78.9375\"/><text fill=\"#000000\" font-family=\"sans-serif\" font-size=\"11\" lengthAdjust=\"spacingAndGlyphs\" textLength=\"67\" x=\"38.5\" y=\"109.9526\">partMasses</text><text fill=\"#000000\" font-family=\"sans-serif\" font-size=\"11\" lengthAdjust=\"spacingAndGlyphs\" textLength=\"55\" x=\"38.5\" y=\"122.7573\">totalMass</text><line style=\"stroke: #383838; stroke-width: 1.0;\" x1=\"33.5\" x2=\"54.5\" y1=\"93.3398\" y2=\"93.3398\"/><text fill=\"#000000\" font-family=\"sans-serif\" font-size=\"11\" lengthAdjust=\"spacingAndGlyphs\" textLength=\"55\" x=\"54.5\" y=\"96.6479\">attributes</text><line style=\"stroke: #383838; stroke-width: 1.0;\" x1=\"109.5\" x2=\"130.5\" y1=\"93.3398\" y2=\"93.3398\"/></a><!--MD5=[209b3feb70ccb6233bfe1053d122c12c]\n",
       "reverse link E2 to E3--><a href=\"psysml:6f0477df-1982-4bef-bc4b-f3a5f459ca50\" target=\"_top\" title=\"psysml:6f0477df-1982-4bef-bc4b-f3a5f459ca50\" xlink:actuate=\"onRequest\" xlink:href=\"psysml:6f0477df-1982-4bef-bc4b-f3a5f459ca50\" xlink:show=\"new\" xlink:title=\"psysml:6f0477df-1982-4bef-bc4b-f3a5f459ca50\" xlink:type=\"simple\"><path d=\"M480.41,132.95 C463.95,151.1 445.38,171.57 429.86,188.68 \" fill=\"none\" id=\"E2&lt;-E3\" style=\"stroke: #383838; stroke-width: 1.0;\"/><polygon fill=\"#383838\" points=\"489.3,123.15,482.3052,124.9031,481.2332,132.0341,488.2279,130.281,489.3,123.15\" style=\"stroke: #383838; stroke-width: 1.0;\"/></a><!--MD5=[9618e71518536f8baf3342ff6fdab317]\n",
       "reverse link E2 to E4--><a href=\"psysml:39f29039-e97f-4cd7-a6e4-24de87290ff7\" target=\"_top\" title=\"psysml:39f29039-e97f-4cd7-a6e4-24de87290ff7\" xlink:actuate=\"onRequest\" xlink:href=\"psysml:39f29039-e97f-4cd7-a6e4-24de87290ff7\" xlink:show=\"new\" xlink:title=\"psysml:39f29039-e97f-4cd7-a6e4-24de87290ff7\" xlink:type=\"simple\"><path d=\"M523,136.25 C523,153.55 523,172.6 523,188.68 \" fill=\"none\" id=\"E2&lt;-E4\" style=\"stroke: #383838; stroke-width: 1.0;\"/><polygon fill=\"#383838\" points=\"523,123.15,519,129.15,523,135.15,527,129.15,523,123.15\" style=\"stroke: #383838; stroke-width: 1.0;\"/></a><!--MD5=[25b190c987b1e74e5126d372c5a73af1]\n",
       "link E6 to E5--><a href=\"psysml:087e1e8b-9f76-403f-b1f3-15ea1e5b2649\" target=\"_top\" title=\"psysml:087e1e8b-9f76-403f-b1f3-15ea1e5b2649\" xlink:actuate=\"onRequest\" xlink:href=\"psysml:087e1e8b-9f76-403f-b1f3-15ea1e5b2649\" xlink:show=\"new\" xlink:title=\"psysml:087e1e8b-9f76-403f-b1f3-15ea1e5b2649\" xlink:type=\"simple\"><path d=\"M364.16,108.19 C354.25,114.98 343.23,122.39 333,129 C298.76,151.11 259.69,174.96 228.85,193.48 \" fill=\"none\" id=\"E6-&gt;E5\" style=\"stroke: #383838; stroke-width: 1.0;\"/><polygon fill=\"#FFFFFF\" points=\"211.28,203.99,223.9864,188.2246,231.1775,200.2365,211.28,203.99\" style=\"stroke: #383838; stroke-width: 1.0;\"/><ellipse cx=\"229.9042\" cy=\"187.0127\" fill=\"#383838\" rx=\"2\" ry=\"2\" style=\"stroke: #383838; stroke-width: 1.0;\"/><ellipse cx=\"235.0408\" cy=\"195.5927\" fill=\"#383838\" rx=\"2\" ry=\"2\" style=\"stroke: #383838; stroke-width: 1.0;\"/></a><!--MD5=[1ccb2481ffa92f8d51a74ee30c51832a]\n",
       "link E8 to E5--><a href=\"psysml:a6dd9655-fa53-42fd-8b92-db635a2ece9b\" target=\"_top\" title=\"psysml:a6dd9655-fa53-42fd-8b92-db635a2ece9b\" xlink:actuate=\"onRequest\" xlink:href=\"psysml:a6dd9655-fa53-42fd-8b92-db635a2ece9b\" xlink:show=\"new\" xlink:title=\"psysml:a6dd9655-fa53-42fd-8b92-db635a2ece9b\" xlink:type=\"simple\"><path d=\"M110.35,129.15 C122.49,147.61 136.55,169.01 148.37,186.99 \" fill=\"none\" id=\"E8-&gt;E5\" style=\"stroke: #383838; stroke-width: 1.0;\"/><polygon fill=\"#FFFFFF\" points=\"159.48,203.91,143.1947,191.8772,154.8939,184.1877,159.48,203.91\" style=\"stroke: #383838; stroke-width: 1.0;\"/><ellipse cx=\"141.7353\" cy=\"186.0155\" fill=\"#383838\" rx=\"2\" ry=\"2\" style=\"stroke: #383838; stroke-width: 1.0;\"/><ellipse cx=\"150.0918\" cy=\"180.523\" fill=\"#383838\" rx=\"2\" ry=\"2\" style=\"stroke: #383838; stroke-width: 1.0;\"/></a><!--MD5=[f553af665f8b091b144ae6284aa35e48]\n",
       "@startuml\r\n",
       " skinparam monochrome true\r\n",
       "skinparam classbackgroundcolor white\r\n",
       "skinparam shadowing false\r\n",
       "skinparam wrapWidth 300\r\n",
       "hide circle\r\n",
       "\r\n",
       "package \"CalculationExample\" as E1  [[psysml:279b101a-ad7c-43dd-8a07-da5fe5802bed ]]  {\r\n",
       "comp usage \"vehicle\" as E2  <<(T,blue)part>> [[psysml:3dfd6fc9-2012-44ec-8abc-b458a2efa8ee ]] {\r\n",
       "- - attributes - -\r\n",
       "m: MassValue\r\n",
       "}\r\n",
       "comp usage \"eng\" as E3  <<(T,blue)part>> [[psysml:6f0477df-1982-4bef-bc4b-f3a5f459ca50 ]] {\r\n",
       "- - attributes - -\r\n",
       "m: MassValue\r\n",
       "}\r\n",
       "comp usage \"trans\" as E4  <<(T,blue)part>> [[psysml:39f29039-e97f-4cd7-a6e4-24de87290ff7 ]] {\r\n",
       "- - attributes - -\r\n",
       "m: MassValue\r\n",
       "}\r\n",
       "comp def \"MassSum\" as E5  <<(T,blue)calculation def>> [[psysml:5c4fc454-9680-413f-bf1a-bdf2f6cc06d5 ]] {\r\n",
       "}\r\n",
       "comp usage \"ms: MassSum\" as E6  <<(T,blue)calculation>> [[psysml:20e483d0-a5a0-4777-bc7f-caa19ca2a7e0 ]] {\r\n",
       "}\r\n",
       "comp def \"MassSum1\" as E7  <<(T,blue)calculation def>> [[psysml:83ce5d61-6771-4884-a571-d4d08f340672 ]] {\r\n",
       "- - attributes - -\r\n",
       "partMasses: MassValue\r\n",
       "totalMass: MassValue\r\n",
       "}\r\n",
       "comp usage \"ms1: MassSum\" as E8  <<(T,blue)calculation>> [[psysml:3aa3b647-0159-4a96-9fb7-94bd79c90754 ]] {\r\n",
       "- - attributes - -\r\n",
       "partMasses\r\n",
       "totalMass\r\n",
       "}\r\n",
       "E2 *- - E3 [[psysml:6f0477df-1982-4bef-bc4b-f3a5f459ca50 ]] \r\n",
       "E2 *- - E4 [[psysml:39f29039-e97f-4cd7-a6e4-24de87290ff7 ]] \r\n",
       "E6 - -:|> E5 [[psysml:087e1e8b-9f76-403f-b1f3-15ea1e5b2649 ]] \r\n",
       "E8 - -:|> E5 [[psysml:a6dd9655-fa53-42fd-8b92-db635a2ece9b ]] \r\n",
       "}\r\n",
       "@enduml\r\n",
       "\n",
       "PlantUML version 1.2020.13(Sat Jun 13 12:26:38 UTC 2020)\n",
       "(EPL source distribution)\n",
       "Java Runtime: OpenJDK Runtime Environment\n",
       "JVM: OpenJDK 64-Bit Server VM\n",
       "Default Encoding: UTF-8\n",
       "Language: en\n",
       "Country: null\n",
       "--></g></svg>"
      ]
     },
     "execution_count": 7,
     "metadata": {},
     "output_type": "execute_result"
    }
   ],
   "source": [
    "%viz --style=\"COMPTREE\" --view=\"Sequence\" \"CalculationExample\""
   ]
  },
  {
   "cell_type": "code",
   "execution_count": 8,
   "id": "loved-investigator",
   "metadata": {
    "execution": {
     "iopub.execute_input": "2021-03-26T13:05:04.460336Z",
     "iopub.status.busy": "2021-03-26T13:05:04.459397Z",
     "iopub.status.idle": "2021-03-26T13:05:04.568315Z",
     "shell.execute_reply": "2021-03-26T13:05:04.567180Z"
    }
   },
   "outputs": [
    {
     "data": {
      "image/svg+xml": [
       "<?xml version=\"1.0\" encoding=\"UTF-8\" standalone=\"no\"?><svg xmlns=\"http://www.w3.org/2000/svg\" xmlns:xlink=\"http://www.w3.org/1999/xlink\" contentScriptType=\"application/ecmascript\" contentStyleType=\"text/css\" height=\"441px\" preserveAspectRatio=\"none\" style=\"width:788px;height:441px;\" version=\"1.1\" viewBox=\"0 0 788 441\" width=\"788px\" zoomAndPan=\"magnify\"><defs/><g><!--MD5=[fbc87193dbaf4d95561dea2c320d4a47]\n",
       "cluster E1--><a href=\"psysml:279b101a-ad7c-43dd-8a07-da5fe5802bed\" target=\"_top\" title=\"psysml:279b101a-ad7c-43dd-8a07-da5fe5802bed\" xlink:actuate=\"onRequest\" xlink:href=\"psysml:279b101a-ad7c-43dd-8a07-da5fe5802bed\" xlink:show=\"new\" xlink:title=\"psysml:279b101a-ad7c-43dd-8a07-da5fe5802bed\" xlink:type=\"simple\"><polygon fill=\"#FFFFFF\" points=\"16,6,173,6,180,28.2969,766,28.2969,766,429.72,16,429.72,16,6\" style=\"stroke: #000000; stroke-width: 1.5;\"/><line style=\"stroke: #000000; stroke-width: 1.5;\" x1=\"16\" x2=\"180\" y1=\"28.2969\" y2=\"28.2969\"/><text fill=\"#000000\" font-family=\"sans-serif\" font-size=\"14\" font-weight=\"bold\" lengthAdjust=\"spacingAndGlyphs\" textLength=\"151\" x=\"20\" y=\"20.9951\">CalculationExample</text></a><!--MD5=[de5ec2e2e8f62f467e546659f5068c88]\n",
       "cluster E5--><a href=\"psysml:5c4fc454-9680-413f-bf1a-bdf2f6cc06d5\" target=\"_top\" title=\"psysml:5c4fc454-9680-413f-bf1a-bdf2f6cc06d5\" xlink:actuate=\"onRequest\" xlink:href=\"psysml:5c4fc454-9680-413f-bf1a-bdf2f6cc06d5\" xlink:show=\"new\" xlink:title=\"psysml:5c4fc454-9680-413f-bf1a-bdf2f6cc06d5\" xlink:type=\"simple\"><rect fill=\"#FFFFFF\" height=\"306.72\" id=\"E5\" style=\"stroke: #383838; stroke-width: 1.5;\" width=\"128\" x=\"155\" y=\"85\"/><rect fill=\"#F8F8F8\" height=\"37.9375\" style=\"stroke: #383838; stroke-width: 1.5;\" width=\"128\" x=\"155\" y=\"85\"/><text fill=\"#000000\" font-family=\"sans-serif\" font-size=\"12\" font-style=\"italic\" lengthAdjust=\"spacingAndGlyphs\" textLength=\"106\" x=\"166\" y=\"101.1387\">«calculation def»</text><text fill=\"#000000\" font-family=\"sans-serif\" font-size=\"12\" lengthAdjust=\"spacingAndGlyphs\" textLength=\"59\" x=\"189.5\" y=\"115.1074\">MassSum</text></a><!--MD5=[917b9dd0c7eca3ee5f47219d1a84c0ad]\n",
       "cluster E11--><a href=\"psysml:83ce5d61-6771-4884-a571-d4d08f340672\" target=\"_top\" title=\"psysml:83ce5d61-6771-4884-a571-d4d08f340672\" xlink:actuate=\"onRequest\" xlink:href=\"psysml:83ce5d61-6771-4884-a571-d4d08f340672\" xlink:show=\"new\" xlink:title=\"psysml:83ce5d61-6771-4884-a571-d4d08f340672\" xlink:type=\"simple\"><rect fill=\"#FFFFFF\" height=\"306.72\" id=\"E11\" style=\"stroke: #383838; stroke-width: 1.5;\" width=\"166\" x=\"584\" y=\"85\"/><rect fill=\"#F8F8F8\" height=\"37.9375\" style=\"stroke: #383838; stroke-width: 1.5;\" width=\"166\" x=\"584\" y=\"85\"/><text fill=\"#000000\" font-family=\"sans-serif\" font-size=\"12\" font-style=\"italic\" lengthAdjust=\"spacingAndGlyphs\" textLength=\"106\" x=\"614\" y=\"101.1387\">«calculation def»</text><text fill=\"#000000\" font-family=\"sans-serif\" font-size=\"12\" lengthAdjust=\"spacingAndGlyphs\" textLength=\"67\" x=\"633.5\" y=\"115.1074\">MassSum1</text></a><!--MD5=[b4997ac47864f28c2f74865a473b2911]\n",
       "class E2--><a href=\"psysml:3dfd6fc9-2012-44ec-8abc-b458a2efa8ee\" target=\"_top\" title=\"psysml:3dfd6fc9-2012-44ec-8abc-b458a2efa8ee\" xlink:actuate=\"onRequest\" xlink:href=\"psysml:3dfd6fc9-2012-44ec-8abc-b458a2efa8ee\" xlink:show=\"new\" xlink:title=\"psysml:3dfd6fc9-2012-44ec-8abc-b458a2efa8ee\" xlink:type=\"simple\"><rect fill=\"#FFFFFF\" height=\"75.5469\" id=\"E2\" rx=\"10\" ry=\"10\" style=\"stroke: #383838; stroke-width: 1.5;\" width=\"92\" x=\"473\" y=\"47\"/><text fill=\"#000000\" font-family=\"sans-serif\" font-size=\"12\" font-style=\"italic\" lengthAdjust=\"spacingAndGlyphs\" textLength=\"40\" x=\"499\" y=\"63.1387\">«part»</text><text fill=\"#000000\" font-family=\"sans-serif\" font-size=\"12\" lengthAdjust=\"spacingAndGlyphs\" textLength=\"43\" x=\"497.5\" y=\"77.1074\">vehicle</text><line style=\"stroke: #383838; stroke-width: 1.5;\" x1=\"474\" x2=\"564\" y1=\"84.9375\" y2=\"84.9375\"/><text fill=\"#000000\" font-family=\"sans-serif\" font-size=\"11\" lengthAdjust=\"spacingAndGlyphs\" textLength=\"80\" x=\"479\" y=\"115.9526\">m: MassValue</text><line style=\"stroke: #383838; stroke-width: 1.0;\" x1=\"474\" x2=\"491.5\" y1=\"99.3398\" y2=\"99.3398\"/><text fill=\"#000000\" font-family=\"sans-serif\" font-size=\"11\" lengthAdjust=\"spacingAndGlyphs\" textLength=\"55\" x=\"491.5\" y=\"102.6479\">attributes</text><line style=\"stroke: #383838; stroke-width: 1.0;\" x1=\"546.5\" x2=\"564\" y1=\"99.3398\" y2=\"99.3398\"/></a><!--MD5=[09b614a08d8cba4a07c9adeb5e0fee81]\n",
       "class E3--><a href=\"psysml:6f0477df-1982-4bef-bc4b-f3a5f459ca50\" target=\"_top\" title=\"psysml:6f0477df-1982-4bef-bc4b-f3a5f459ca50\" xlink:actuate=\"onRequest\" xlink:href=\"psysml:6f0477df-1982-4bef-bc4b-f3a5f459ca50\" xlink:show=\"new\" xlink:title=\"psysml:6f0477df-1982-4bef-bc4b-f3a5f459ca50\" xlink:type=\"simple\"><rect fill=\"#FFFFFF\" height=\"75.5469\" id=\"E3\" rx=\"10\" ry=\"10\" style=\"stroke: #383838; stroke-width: 1.5;\" width=\"92\" x=\"346\" y=\"189\"/><text fill=\"#000000\" font-family=\"sans-serif\" font-size=\"12\" font-style=\"italic\" lengthAdjust=\"spacingAndGlyphs\" textLength=\"40\" x=\"372\" y=\"205.1387\">«part»</text><text fill=\"#000000\" font-family=\"sans-serif\" font-size=\"12\" lengthAdjust=\"spacingAndGlyphs\" textLength=\"24\" x=\"380\" y=\"219.1074\">eng</text><line style=\"stroke: #383838; stroke-width: 1.5;\" x1=\"347\" x2=\"437\" y1=\"226.9375\" y2=\"226.9375\"/><text fill=\"#000000\" font-family=\"sans-serif\" font-size=\"11\" lengthAdjust=\"spacingAndGlyphs\" textLength=\"80\" x=\"352\" y=\"257.9526\">m: MassValue</text><line style=\"stroke: #383838; stroke-width: 1.0;\" x1=\"347\" x2=\"364.5\" y1=\"241.3398\" y2=\"241.3398\"/><text fill=\"#000000\" font-family=\"sans-serif\" font-size=\"11\" lengthAdjust=\"spacingAndGlyphs\" textLength=\"55\" x=\"364.5\" y=\"244.6479\">attributes</text><line style=\"stroke: #383838; stroke-width: 1.0;\" x1=\"419.5\" x2=\"437\" y1=\"241.3398\" y2=\"241.3398\"/></a><!--MD5=[ebbe1d658d1005bcc118a6aa81145e00]\n",
       "class E4--><a href=\"psysml:39f29039-e97f-4cd7-a6e4-24de87290ff7\" target=\"_top\" title=\"psysml:39f29039-e97f-4cd7-a6e4-24de87290ff7\" xlink:actuate=\"onRequest\" xlink:href=\"psysml:39f29039-e97f-4cd7-a6e4-24de87290ff7\" xlink:show=\"new\" xlink:title=\"psysml:39f29039-e97f-4cd7-a6e4-24de87290ff7\" xlink:type=\"simple\"><rect fill=\"#FFFFFF\" height=\"75.5469\" id=\"E4\" rx=\"10\" ry=\"10\" style=\"stroke: #383838; stroke-width: 1.5;\" width=\"92\" x=\"473\" y=\"189\"/><text fill=\"#000000\" font-family=\"sans-serif\" font-size=\"12\" font-style=\"italic\" lengthAdjust=\"spacingAndGlyphs\" textLength=\"40\" x=\"499\" y=\"205.1387\">«part»</text><text fill=\"#000000\" font-family=\"sans-serif\" font-size=\"12\" lengthAdjust=\"spacingAndGlyphs\" textLength=\"33\" x=\"502.5\" y=\"219.1074\">trans</text><line style=\"stroke: #383838; stroke-width: 1.5;\" x1=\"474\" x2=\"564\" y1=\"226.9375\" y2=\"226.9375\"/><text fill=\"#000000\" font-family=\"sans-serif\" font-size=\"11\" lengthAdjust=\"spacingAndGlyphs\" textLength=\"80\" x=\"479\" y=\"257.9526\">m: MassValue</text><line style=\"stroke: #383838; stroke-width: 1.0;\" x1=\"474\" x2=\"491.5\" y1=\"241.3398\" y2=\"241.3398\"/><text fill=\"#000000\" font-family=\"sans-serif\" font-size=\"11\" lengthAdjust=\"spacingAndGlyphs\" textLength=\"55\" x=\"491.5\" y=\"244.6479\">attributes</text><line style=\"stroke: #383838; stroke-width: 1.0;\" x1=\"546.5\" x2=\"564\" y1=\"241.3398\" y2=\"241.3398\"/></a><!--MD5=[96f4274e9e20536e775497830990834d]\n",
       "class E10--><a href=\"psysml:20e483d0-a5a0-4777-bc7f-caa19ca2a7e0\" target=\"_top\" title=\"psysml:20e483d0-a5a0-4777-bc7f-caa19ca2a7e0\" xlink:actuate=\"onRequest\" xlink:href=\"psysml:20e483d0-a5a0-4777-bc7f-caa19ca2a7e0\" xlink:show=\"new\" xlink:title=\"psysml:20e483d0-a5a0-4777-bc7f-caa19ca2a7e0\" xlink:type=\"simple\"><rect fill=\"#FFFFFF\" height=\"45.9375\" id=\"E10\" rx=\"10\" ry=\"10\" style=\"stroke: #383838; stroke-width: 1.5;\" width=\"91\" x=\"346.5\" y=\"62\"/><text fill=\"#000000\" font-family=\"sans-serif\" font-size=\"12\" font-style=\"italic\" lengthAdjust=\"spacingAndGlyphs\" textLength=\"82\" x=\"351\" y=\"78.1387\">«calculation»</text><text fill=\"#000000\" font-family=\"sans-serif\" font-size=\"12\" lengthAdjust=\"spacingAndGlyphs\" textLength=\"85\" x=\"349.5\" y=\"92.1074\">ms: MassSum</text><line style=\"stroke: #383838; stroke-width: 1.5;\" x1=\"347.5\" x2=\"436.5\" y1=\"99.9375\" y2=\"99.9375\"/></a><!--MD5=[bee11217b2f71d958a27249dc326068c]\n",
       "class E14--><a href=\"psysml:3aa3b647-0159-4a96-9fb7-94bd79c90754\" target=\"_top\" title=\"psysml:3aa3b647-0159-4a96-9fb7-94bd79c90754\" xlink:actuate=\"onRequest\" xlink:href=\"psysml:3aa3b647-0159-4a96-9fb7-94bd79c90754\" xlink:show=\"new\" xlink:title=\"psysml:3aa3b647-0159-4a96-9fb7-94bd79c90754\" xlink:type=\"simple\"><rect fill=\"#FFFFFF\" height=\"88.3516\" id=\"E14\" rx=\"10\" ry=\"10\" style=\"stroke: #383838; stroke-width: 1.5;\" width=\"99\" x=\"32.5\" y=\"41\"/><text fill=\"#000000\" font-family=\"sans-serif\" font-size=\"12\" font-style=\"italic\" lengthAdjust=\"spacingAndGlyphs\" textLength=\"82\" x=\"41\" y=\"57.1387\">«calculation»</text><text fill=\"#000000\" font-family=\"sans-serif\" font-size=\"12\" lengthAdjust=\"spacingAndGlyphs\" textLength=\"93\" x=\"35.5\" y=\"71.1074\">ms1: MassSum</text><line style=\"stroke: #383838; stroke-width: 1.5;\" x1=\"33.5\" x2=\"130.5\" y1=\"78.9375\" y2=\"78.9375\"/><text fill=\"#000000\" font-family=\"sans-serif\" font-size=\"11\" lengthAdjust=\"spacingAndGlyphs\" textLength=\"67\" x=\"38.5\" y=\"109.9526\">partMasses</text><text fill=\"#000000\" font-family=\"sans-serif\" font-size=\"11\" lengthAdjust=\"spacingAndGlyphs\" textLength=\"55\" x=\"38.5\" y=\"122.7573\">totalMass</text><line style=\"stroke: #383838; stroke-width: 1.0;\" x1=\"33.5\" x2=\"54.5\" y1=\"93.3398\" y2=\"93.3398\"/><text fill=\"#000000\" font-family=\"sans-serif\" font-size=\"11\" lengthAdjust=\"spacingAndGlyphs\" textLength=\"55\" x=\"54.5\" y=\"96.6479\">attributes</text><line style=\"stroke: #383838; stroke-width: 1.0;\" x1=\"109.5\" x2=\"130.5\" y1=\"93.3398\" y2=\"93.3398\"/></a><text fill=\"#000000\" font-family=\"sans-serif\" font-size=\"14\" lengthAdjust=\"spacingAndGlyphs\" textLength=\"80\" x=\"133\" y=\"63.6982\">partMasses</text><rect fill=\"#383838\" height=\"12\" style=\"stroke: #F8F8F8; stroke-width: 1.5;\" width=\"12\" x=\"167\" y=\"79\"/><text fill=\"#000000\" font-family=\"sans-serif\" font-size=\"14\" lengthAdjust=\"spacingAndGlyphs\" textLength=\"66\" x=\"177\" y=\"410.7151\">totalMass</text><rect fill=\"#383838\" height=\"12\" style=\"stroke: #F8F8F8; stroke-width: 1.5;\" width=\"12\" x=\"204\" y=\"385.72\"/><text fill=\"#000000\" font-family=\"sans-serif\" font-size=\"14\" lengthAdjust=\"spacingAndGlyphs\" textLength=\"75\" x=\"227.5\" y=\"63.6982\">$collection</text><rect fill=\"#383838\" height=\"12\" style=\"stroke: #F8F8F8; stroke-width: 1.5;\" width=\"12\" x=\"259\" y=\"79\"/><text fill=\"#000000\" font-family=\"sans-serif\" font-size=\"14\" lengthAdjust=\"spacingAndGlyphs\" textLength=\"48\" x=\"233\" y=\"410.7151\">$result</text><rect fill=\"#383838\" height=\"12\" style=\"stroke: #F8F8F8; stroke-width: 1.5;\" width=\"12\" x=\"251\" y=\"385.72\"/><text fill=\"#000000\" font-family=\"sans-serif\" font-size=\"14\" lengthAdjust=\"spacingAndGlyphs\" textLength=\"80\" x=\"627\" y=\"63.6982\">partMasses</text><rect fill=\"#383838\" height=\"12\" style=\"stroke: #F8F8F8; stroke-width: 1.5;\" width=\"12\" x=\"661\" y=\"79\"/><text fill=\"#000000\" font-family=\"sans-serif\" font-size=\"14\" lengthAdjust=\"spacingAndGlyphs\" textLength=\"66\" x=\"634\" y=\"410.7151\">totalMass</text><rect fill=\"#383838\" height=\"12\" style=\"stroke: #F8F8F8; stroke-width: 1.5;\" width=\"12\" x=\"661\" y=\"385.72\"/><!--MD5=[209b3feb70ccb6233bfe1053d122c12c]\n",
       "reverse link E2 to E3--><a href=\"psysml:6f0477df-1982-4bef-bc4b-f3a5f459ca50\" target=\"_top\" title=\"psysml:6f0477df-1982-4bef-bc4b-f3a5f459ca50\" xlink:actuate=\"onRequest\" xlink:href=\"psysml:6f0477df-1982-4bef-bc4b-f3a5f459ca50\" xlink:show=\"new\" xlink:title=\"psysml:6f0477df-1982-4bef-bc4b-f3a5f459ca50\" xlink:type=\"simple\"><path d=\"M476.41,132.95 C459.95,151.1 441.38,171.57 425.86,188.68 \" fill=\"none\" id=\"E2&lt;-E3\" style=\"stroke: #383838; stroke-width: 1.0;\"/><polygon fill=\"#383838\" points=\"485.3,123.15,478.3052,124.9031,477.2332,132.0341,484.2279,130.281,485.3,123.15\" style=\"stroke: #383838; stroke-width: 1.0;\"/></a><!--MD5=[9618e71518536f8baf3342ff6fdab317]\n",
       "reverse link E2 to E4--><a href=\"psysml:39f29039-e97f-4cd7-a6e4-24de87290ff7\" target=\"_top\" title=\"psysml:39f29039-e97f-4cd7-a6e4-24de87290ff7\" xlink:actuate=\"onRequest\" xlink:href=\"psysml:39f29039-e97f-4cd7-a6e4-24de87290ff7\" xlink:show=\"new\" xlink:title=\"psysml:39f29039-e97f-4cd7-a6e4-24de87290ff7\" xlink:type=\"simple\"><path d=\"M519,136.25 C519,153.55 519,172.6 519,188.68 \" fill=\"none\" id=\"E2&lt;-E4\" style=\"stroke: #383838; stroke-width: 1.0;\"/><polygon fill=\"#383838\" points=\"519,123.15,515,129.15,519,135.15,523,129.15,519,123.15\" style=\"stroke: #383838; stroke-width: 1.0;\"/></a><!--MD5=[ec5e0a54482b142abcecfe541d624bff]\n",
       "link E10 to E5--><a href=\"psysml:087e1e8b-9f76-403f-b1f3-15ea1e5b2649\" target=\"_top\" title=\"psysml:087e1e8b-9f76-403f-b1f3-15ea1e5b2649\" xlink:actuate=\"onRequest\" xlink:href=\"psysml:087e1e8b-9f76-403f-b1f3-15ea1e5b2649\" xlink:show=\"new\" xlink:title=\"psysml:087e1e8b-9f76-403f-b1f3-15ea1e5b2649\" xlink:type=\"simple\"><path d=\"M367.76,108.18 C352.425,122.215 331.7225,141.16 311.4063,159.75 C306.3272,164.3975 301.2723,169.0228 296.3314,173.5437 C293.8609,175.8041 291.419,178.0384 289.0168,180.2363 C287.8157,181.3353 286.6246,182.4252 285.4448,183.5046 C284.8549,184.0444 284.2678,184.5815 283.6837,185.1159 C283.5377,185.2495 283.3919,185.3829 283.2463,185.5162 \" fill=\"none\" id=\"E10-&gt;E5\" style=\"stroke: #383838; stroke-width: 1.0;\"/><polygon fill=\"#FFFFFF\" points=\"283.2463,185.5162,292.5389,167.526,301.9894,177.855,283.2463,185.5162\" style=\"stroke: #383838; stroke-width: 1.0;\"/><ellipse cx=\"298.0944\" cy=\"165.1539\" fill=\"#383838\" rx=\"2\" ry=\"2\" style=\"stroke: #383838; stroke-width: 1.0;\"/><ellipse cx=\"304.8447\" cy=\"172.5317\" fill=\"#383838\" rx=\"2\" ry=\"2\" style=\"stroke: #383838; stroke-width: 1.0;\"/></a><!--MD5=[111e5536516ee1ad7d4266f589654f03]\n",
       "link E14 to E5--><a href=\"psysml:a6dd9655-fa53-42fd-8b92-db635a2ece9b\" target=\"_top\" title=\"psysml:a6dd9655-fa53-42fd-8b92-db635a2ece9b\" xlink:actuate=\"onRequest\" xlink:href=\"psysml:a6dd9655-fa53-42fd-8b92-db635a2ece9b\" xlink:show=\"new\" xlink:title=\"psysml:a6dd9655-fa53-42fd-8b92-db635a2ece9b\" xlink:type=\"simple\"><path d=\"M130.39,129.15 C138.0025,135.9375 146.0606,143.1225 154.2098,150.3889 C154.4645,150.616 154.7193,150.8431 154.9741,151.0704 \" fill=\"none\" id=\"E14-&gt;E5\" style=\"stroke: #383838; stroke-width: 1.0;\"/><polygon fill=\"#FFFFFF\" points=\"154.9741,151.0704,136.1343,143.6501,145.4516,133.2008,154.9741,151.0704\" style=\"stroke: #383838; stroke-width: 1.0;\"/><ellipse cx=\"133.211\" cy=\"138.3638\" fill=\"#383838\" rx=\"2\" ry=\"2\" style=\"stroke: #383838; stroke-width: 1.0;\"/><ellipse cx=\"139.8662\" cy=\"130.9001\" fill=\"#383838\" rx=\"2\" ry=\"2\" style=\"stroke: #383838; stroke-width: 1.0;\"/></a><!--MD5=[05afdb13ddd001d6226c0e8c990d57cf]\n",
       "@startuml\r\n",
       " skinparam monochrome true\r\n",
       "skinparam classbackgroundcolor white\r\n",
       "skinparam shadowing false\r\n",
       "skinparam wrapWidth 300\r\n",
       "hide circle\r\n",
       "\r\n",
       "package \"CalculationExample\" as E1  [[psysml:279b101a-ad7c-43dd-8a07-da5fe5802bed ]]  {\r\n",
       "comp usage \"vehicle\" as E2  <<(T,blue)part>> [[psysml:3dfd6fc9-2012-44ec-8abc-b458a2efa8ee ]] {\r\n",
       "- - attributes - -\r\n",
       "m: MassValue\r\n",
       "}\r\n",
       "comp usage \"eng\" as E3  <<(T,blue)part>> [[psysml:6f0477df-1982-4bef-bc4b-f3a5f459ca50 ]] {\r\n",
       "- - attributes - -\r\n",
       "m: MassValue\r\n",
       "}\r\n",
       "comp usage \"trans\" as E4  <<(T,blue)part>> [[psysml:39f29039-e97f-4cd7-a6e4-24de87290ff7 ]] {\r\n",
       "- - attributes - -\r\n",
       "m: MassValue\r\n",
       "}\r\n",
       "rec def \"MassSum\" as E5  <<(T,blue)calculation def>> [[psysml:5c4fc454-9680-413f-bf1a-bdf2f6cc06d5 ]] {\r\n",
       "portin \"partMasses\" as E6  [[psysml:57eaefe4-a57c-41fa-a944-033dc3e4df4e ]] \r\n",
       "portout \"totalMass\" as E7  [[psysml:35e88aae-ee13-4c55-bc31-272528607619 ]] \r\n",
       "portin \"$collection\" as E8  [[psysml:0e9b074a-52f0-467d-9ed6-1e247226bb71 ]] \r\n",
       "portout \"$result\" as E9  [[psysml:66242f20-bf9b-4b2d-900e-be3ce4c10d7e ]] \r\n",
       "}\r\n",
       "\r\n",
       "comp usage \"ms: MassSum\" as E10  <<(T,blue)calculation>> [[psysml:20e483d0-a5a0-4777-bc7f-caa19ca2a7e0 ]] {\r\n",
       "}\r\n",
       "rec def \"MassSum1\" as E11  <<(T,blue)calculation def>> [[psysml:83ce5d61-6771-4884-a571-d4d08f340672 ]] {\r\n",
       "portin \"partMasses\" as E12  [[psysml:0924d9a5-fc11-4345-935d-e5ff08c51a6a ]] \r\n",
       "portout \"totalMass\" as E13  [[psysml:b7c67a6a-5db6-4529-b3d9-f9fb47dc5f0c ]] \r\n",
       "}\r\n",
       "\r\n",
       "comp usage \"ms1: MassSum\" as E14  <<(T,blue)calculation>> [[psysml:3aa3b647-0159-4a96-9fb7-94bd79c90754 ]] {\r\n",
       "- - attributes - -\r\n",
       "partMasses\r\n",
       "totalMass\r\n",
       "}\r\n",
       "E2 *- - E3 [[psysml:6f0477df-1982-4bef-bc4b-f3a5f459ca50 ]] \r\n",
       "E2 *- - E4 [[psysml:39f29039-e97f-4cd7-a6e4-24de87290ff7 ]] \r\n",
       "E10 - -:|> E5 [[psysml:087e1e8b-9f76-403f-b1f3-15ea1e5b2649 ]] \r\n",
       "E14 - -:|> E5 [[psysml:a6dd9655-fa53-42fd-8b92-db635a2ece9b ]] \r\n",
       "}\r\n",
       "@enduml\r\n",
       "\n",
       "PlantUML version 1.2020.13(Sat Jun 13 12:26:38 UTC 2020)\n",
       "(EPL source distribution)\n",
       "Java Runtime: OpenJDK Runtime Environment\n",
       "JVM: OpenJDK 64-Bit Server VM\n",
       "Default Encoding: UTF-8\n",
       "Language: en\n",
       "Country: null\n",
       "--></g></svg>"
      ]
     },
     "execution_count": 8,
     "metadata": {},
     "output_type": "execute_result"
    }
   ],
   "source": [
    "%viz --style=\"COMPTREE\" --view=\"MIXED\" \"CalculationExample\""
   ]
  },
  {
   "cell_type": "code",
   "execution_count": 9,
   "id": "verified-kuwait",
   "metadata": {
    "execution": {
     "iopub.execute_input": "2021-03-26T13:05:04.621833Z",
     "iopub.status.busy": "2021-03-26T13:05:04.621184Z",
     "iopub.status.idle": "2021-03-26T13:05:04.730145Z",
     "shell.execute_reply": "2021-03-26T13:05:04.729823Z"
    }
   },
   "outputs": [
    {
     "data": {
      "image/svg+xml": [
       "<?xml version=\"1.0\" encoding=\"UTF-8\" standalone=\"no\"?><svg xmlns=\"http://www.w3.org/2000/svg\" xmlns:xlink=\"http://www.w3.org/1999/xlink\" contentScriptType=\"application/ecmascript\" contentStyleType=\"text/css\" height=\"441px\" preserveAspectRatio=\"none\" style=\"width:788px;height:441px;\" version=\"1.1\" viewBox=\"0 0 788 441\" width=\"788px\" zoomAndPan=\"magnify\"><defs/><g><!--MD5=[fbc87193dbaf4d95561dea2c320d4a47]\n",
       "cluster E1--><a href=\"psysml:279b101a-ad7c-43dd-8a07-da5fe5802bed\" target=\"_top\" title=\"psysml:279b101a-ad7c-43dd-8a07-da5fe5802bed\" xlink:actuate=\"onRequest\" xlink:href=\"psysml:279b101a-ad7c-43dd-8a07-da5fe5802bed\" xlink:show=\"new\" xlink:title=\"psysml:279b101a-ad7c-43dd-8a07-da5fe5802bed\" xlink:type=\"simple\"><polygon fill=\"#FFFFFF\" points=\"16,6,173,6,180,28.2969,766,28.2969,766,429.72,16,429.72,16,6\" style=\"stroke: #000000; stroke-width: 1.5;\"/><line style=\"stroke: #000000; stroke-width: 1.5;\" x1=\"16\" x2=\"180\" y1=\"28.2969\" y2=\"28.2969\"/><text fill=\"#000000\" font-family=\"sans-serif\" font-size=\"14\" font-weight=\"bold\" lengthAdjust=\"spacingAndGlyphs\" textLength=\"151\" x=\"20\" y=\"20.9951\">CalculationExample</text></a><!--MD5=[de5ec2e2e8f62f467e546659f5068c88]\n",
       "cluster E5--><a href=\"psysml:5c4fc454-9680-413f-bf1a-bdf2f6cc06d5\" target=\"_top\" title=\"psysml:5c4fc454-9680-413f-bf1a-bdf2f6cc06d5\" xlink:actuate=\"onRequest\" xlink:href=\"psysml:5c4fc454-9680-413f-bf1a-bdf2f6cc06d5\" xlink:show=\"new\" xlink:title=\"psysml:5c4fc454-9680-413f-bf1a-bdf2f6cc06d5\" xlink:type=\"simple\"><rect fill=\"#FFFFFF\" height=\"306.72\" id=\"E5\" style=\"stroke: #383838; stroke-width: 1.5;\" width=\"128\" x=\"155\" y=\"85\"/><rect fill=\"#F8F8F8\" height=\"37.9375\" style=\"stroke: #383838; stroke-width: 1.5;\" width=\"128\" x=\"155\" y=\"85\"/><text fill=\"#000000\" font-family=\"sans-serif\" font-size=\"12\" font-style=\"italic\" lengthAdjust=\"spacingAndGlyphs\" textLength=\"106\" x=\"166\" y=\"101.1387\">«calculation def»</text><text fill=\"#000000\" font-family=\"sans-serif\" font-size=\"12\" lengthAdjust=\"spacingAndGlyphs\" textLength=\"59\" x=\"189.5\" y=\"115.1074\">MassSum</text></a><!--MD5=[917b9dd0c7eca3ee5f47219d1a84c0ad]\n",
       "cluster E11--><a href=\"psysml:83ce5d61-6771-4884-a571-d4d08f340672\" target=\"_top\" title=\"psysml:83ce5d61-6771-4884-a571-d4d08f340672\" xlink:actuate=\"onRequest\" xlink:href=\"psysml:83ce5d61-6771-4884-a571-d4d08f340672\" xlink:show=\"new\" xlink:title=\"psysml:83ce5d61-6771-4884-a571-d4d08f340672\" xlink:type=\"simple\"><rect fill=\"#FFFFFF\" height=\"306.72\" id=\"E11\" style=\"stroke: #383838; stroke-width: 1.5;\" width=\"166\" x=\"584\" y=\"85\"/><rect fill=\"#F8F8F8\" height=\"37.9375\" style=\"stroke: #383838; stroke-width: 1.5;\" width=\"166\" x=\"584\" y=\"85\"/><text fill=\"#000000\" font-family=\"sans-serif\" font-size=\"12\" font-style=\"italic\" lengthAdjust=\"spacingAndGlyphs\" textLength=\"106\" x=\"614\" y=\"101.1387\">«calculation def»</text><text fill=\"#000000\" font-family=\"sans-serif\" font-size=\"12\" lengthAdjust=\"spacingAndGlyphs\" textLength=\"67\" x=\"633.5\" y=\"115.1074\">MassSum1</text></a><!--MD5=[b4997ac47864f28c2f74865a473b2911]\n",
       "class E2--><a href=\"psysml:3dfd6fc9-2012-44ec-8abc-b458a2efa8ee\" target=\"_top\" title=\"psysml:3dfd6fc9-2012-44ec-8abc-b458a2efa8ee\" xlink:actuate=\"onRequest\" xlink:href=\"psysml:3dfd6fc9-2012-44ec-8abc-b458a2efa8ee\" xlink:show=\"new\" xlink:title=\"psysml:3dfd6fc9-2012-44ec-8abc-b458a2efa8ee\" xlink:type=\"simple\"><rect fill=\"#FFFFFF\" height=\"75.5469\" id=\"E2\" rx=\"10\" ry=\"10\" style=\"stroke: #383838; stroke-width: 1.5;\" width=\"92\" x=\"473\" y=\"47\"/><text fill=\"#000000\" font-family=\"sans-serif\" font-size=\"12\" font-style=\"italic\" lengthAdjust=\"spacingAndGlyphs\" textLength=\"40\" x=\"499\" y=\"63.1387\">«part»</text><text fill=\"#000000\" font-family=\"sans-serif\" font-size=\"12\" lengthAdjust=\"spacingAndGlyphs\" textLength=\"43\" x=\"497.5\" y=\"77.1074\">vehicle</text><line style=\"stroke: #383838; stroke-width: 1.5;\" x1=\"474\" x2=\"564\" y1=\"84.9375\" y2=\"84.9375\"/><text fill=\"#000000\" font-family=\"sans-serif\" font-size=\"11\" lengthAdjust=\"spacingAndGlyphs\" textLength=\"80\" x=\"479\" y=\"115.9526\">m: MassValue</text><line style=\"stroke: #383838; stroke-width: 1.0;\" x1=\"474\" x2=\"491.5\" y1=\"99.3398\" y2=\"99.3398\"/><text fill=\"#000000\" font-family=\"sans-serif\" font-size=\"11\" lengthAdjust=\"spacingAndGlyphs\" textLength=\"55\" x=\"491.5\" y=\"102.6479\">attributes</text><line style=\"stroke: #383838; stroke-width: 1.0;\" x1=\"546.5\" x2=\"564\" y1=\"99.3398\" y2=\"99.3398\"/></a><!--MD5=[09b614a08d8cba4a07c9adeb5e0fee81]\n",
       "class E3--><a href=\"psysml:6f0477df-1982-4bef-bc4b-f3a5f459ca50\" target=\"_top\" title=\"psysml:6f0477df-1982-4bef-bc4b-f3a5f459ca50\" xlink:actuate=\"onRequest\" xlink:href=\"psysml:6f0477df-1982-4bef-bc4b-f3a5f459ca50\" xlink:show=\"new\" xlink:title=\"psysml:6f0477df-1982-4bef-bc4b-f3a5f459ca50\" xlink:type=\"simple\"><rect fill=\"#FFFFFF\" height=\"75.5469\" id=\"E3\" rx=\"10\" ry=\"10\" style=\"stroke: #383838; stroke-width: 1.5;\" width=\"92\" x=\"346\" y=\"189\"/><text fill=\"#000000\" font-family=\"sans-serif\" font-size=\"12\" font-style=\"italic\" lengthAdjust=\"spacingAndGlyphs\" textLength=\"40\" x=\"372\" y=\"205.1387\">«part»</text><text fill=\"#000000\" font-family=\"sans-serif\" font-size=\"12\" lengthAdjust=\"spacingAndGlyphs\" textLength=\"24\" x=\"380\" y=\"219.1074\">eng</text><line style=\"stroke: #383838; stroke-width: 1.5;\" x1=\"347\" x2=\"437\" y1=\"226.9375\" y2=\"226.9375\"/><text fill=\"#000000\" font-family=\"sans-serif\" font-size=\"11\" lengthAdjust=\"spacingAndGlyphs\" textLength=\"80\" x=\"352\" y=\"257.9526\">m: MassValue</text><line style=\"stroke: #383838; stroke-width: 1.0;\" x1=\"347\" x2=\"364.5\" y1=\"241.3398\" y2=\"241.3398\"/><text fill=\"#000000\" font-family=\"sans-serif\" font-size=\"11\" lengthAdjust=\"spacingAndGlyphs\" textLength=\"55\" x=\"364.5\" y=\"244.6479\">attributes</text><line style=\"stroke: #383838; stroke-width: 1.0;\" x1=\"419.5\" x2=\"437\" y1=\"241.3398\" y2=\"241.3398\"/></a><!--MD5=[ebbe1d658d1005bcc118a6aa81145e00]\n",
       "class E4--><a href=\"psysml:39f29039-e97f-4cd7-a6e4-24de87290ff7\" target=\"_top\" title=\"psysml:39f29039-e97f-4cd7-a6e4-24de87290ff7\" xlink:actuate=\"onRequest\" xlink:href=\"psysml:39f29039-e97f-4cd7-a6e4-24de87290ff7\" xlink:show=\"new\" xlink:title=\"psysml:39f29039-e97f-4cd7-a6e4-24de87290ff7\" xlink:type=\"simple\"><rect fill=\"#FFFFFF\" height=\"75.5469\" id=\"E4\" rx=\"10\" ry=\"10\" style=\"stroke: #383838; stroke-width: 1.5;\" width=\"92\" x=\"473\" y=\"189\"/><text fill=\"#000000\" font-family=\"sans-serif\" font-size=\"12\" font-style=\"italic\" lengthAdjust=\"spacingAndGlyphs\" textLength=\"40\" x=\"499\" y=\"205.1387\">«part»</text><text fill=\"#000000\" font-family=\"sans-serif\" font-size=\"12\" lengthAdjust=\"spacingAndGlyphs\" textLength=\"33\" x=\"502.5\" y=\"219.1074\">trans</text><line style=\"stroke: #383838; stroke-width: 1.5;\" x1=\"474\" x2=\"564\" y1=\"226.9375\" y2=\"226.9375\"/><text fill=\"#000000\" font-family=\"sans-serif\" font-size=\"11\" lengthAdjust=\"spacingAndGlyphs\" textLength=\"80\" x=\"479\" y=\"257.9526\">m: MassValue</text><line style=\"stroke: #383838; stroke-width: 1.0;\" x1=\"474\" x2=\"491.5\" y1=\"241.3398\" y2=\"241.3398\"/><text fill=\"#000000\" font-family=\"sans-serif\" font-size=\"11\" lengthAdjust=\"spacingAndGlyphs\" textLength=\"55\" x=\"491.5\" y=\"244.6479\">attributes</text><line style=\"stroke: #383838; stroke-width: 1.0;\" x1=\"546.5\" x2=\"564\" y1=\"241.3398\" y2=\"241.3398\"/></a><!--MD5=[96f4274e9e20536e775497830990834d]\n",
       "class E10--><a href=\"psysml:20e483d0-a5a0-4777-bc7f-caa19ca2a7e0\" target=\"_top\" title=\"psysml:20e483d0-a5a0-4777-bc7f-caa19ca2a7e0\" xlink:actuate=\"onRequest\" xlink:href=\"psysml:20e483d0-a5a0-4777-bc7f-caa19ca2a7e0\" xlink:show=\"new\" xlink:title=\"psysml:20e483d0-a5a0-4777-bc7f-caa19ca2a7e0\" xlink:type=\"simple\"><rect fill=\"#FFFFFF\" height=\"45.9375\" id=\"E10\" rx=\"10\" ry=\"10\" style=\"stroke: #383838; stroke-width: 1.5;\" width=\"91\" x=\"346.5\" y=\"62\"/><text fill=\"#000000\" font-family=\"sans-serif\" font-size=\"12\" font-style=\"italic\" lengthAdjust=\"spacingAndGlyphs\" textLength=\"82\" x=\"351\" y=\"78.1387\">«calculation»</text><text fill=\"#000000\" font-family=\"sans-serif\" font-size=\"12\" lengthAdjust=\"spacingAndGlyphs\" textLength=\"85\" x=\"349.5\" y=\"92.1074\">ms: MassSum</text><line style=\"stroke: #383838; stroke-width: 1.5;\" x1=\"347.5\" x2=\"436.5\" y1=\"99.9375\" y2=\"99.9375\"/></a><!--MD5=[bee11217b2f71d958a27249dc326068c]\n",
       "class E14--><a href=\"psysml:3aa3b647-0159-4a96-9fb7-94bd79c90754\" target=\"_top\" title=\"psysml:3aa3b647-0159-4a96-9fb7-94bd79c90754\" xlink:actuate=\"onRequest\" xlink:href=\"psysml:3aa3b647-0159-4a96-9fb7-94bd79c90754\" xlink:show=\"new\" xlink:title=\"psysml:3aa3b647-0159-4a96-9fb7-94bd79c90754\" xlink:type=\"simple\"><rect fill=\"#FFFFFF\" height=\"88.3516\" id=\"E14\" rx=\"10\" ry=\"10\" style=\"stroke: #383838; stroke-width: 1.5;\" width=\"99\" x=\"32.5\" y=\"41\"/><text fill=\"#000000\" font-family=\"sans-serif\" font-size=\"12\" font-style=\"italic\" lengthAdjust=\"spacingAndGlyphs\" textLength=\"82\" x=\"41\" y=\"57.1387\">«calculation»</text><text fill=\"#000000\" font-family=\"sans-serif\" font-size=\"12\" lengthAdjust=\"spacingAndGlyphs\" textLength=\"93\" x=\"35.5\" y=\"71.1074\">ms1: MassSum</text><line style=\"stroke: #383838; stroke-width: 1.5;\" x1=\"33.5\" x2=\"130.5\" y1=\"78.9375\" y2=\"78.9375\"/><text fill=\"#000000\" font-family=\"sans-serif\" font-size=\"11\" lengthAdjust=\"spacingAndGlyphs\" textLength=\"67\" x=\"38.5\" y=\"109.9526\">partMasses</text><text fill=\"#000000\" font-family=\"sans-serif\" font-size=\"11\" lengthAdjust=\"spacingAndGlyphs\" textLength=\"55\" x=\"38.5\" y=\"122.7573\">totalMass</text><line style=\"stroke: #383838; stroke-width: 1.0;\" x1=\"33.5\" x2=\"54.5\" y1=\"93.3398\" y2=\"93.3398\"/><text fill=\"#000000\" font-family=\"sans-serif\" font-size=\"11\" lengthAdjust=\"spacingAndGlyphs\" textLength=\"55\" x=\"54.5\" y=\"96.6479\">attributes</text><line style=\"stroke: #383838; stroke-width: 1.0;\" x1=\"109.5\" x2=\"130.5\" y1=\"93.3398\" y2=\"93.3398\"/></a><text fill=\"#000000\" font-family=\"sans-serif\" font-size=\"14\" lengthAdjust=\"spacingAndGlyphs\" textLength=\"80\" x=\"133\" y=\"63.6982\">partMasses</text><rect fill=\"#383838\" height=\"12\" style=\"stroke: #F8F8F8; stroke-width: 1.5;\" width=\"12\" x=\"167\" y=\"79\"/><text fill=\"#000000\" font-family=\"sans-serif\" font-size=\"14\" lengthAdjust=\"spacingAndGlyphs\" textLength=\"66\" x=\"177\" y=\"410.7151\">totalMass</text><rect fill=\"#383838\" height=\"12\" style=\"stroke: #F8F8F8; stroke-width: 1.5;\" width=\"12\" x=\"204\" y=\"385.72\"/><text fill=\"#000000\" font-family=\"sans-serif\" font-size=\"14\" lengthAdjust=\"spacingAndGlyphs\" textLength=\"75\" x=\"227.5\" y=\"63.6982\">$collection</text><rect fill=\"#383838\" height=\"12\" style=\"stroke: #F8F8F8; stroke-width: 1.5;\" width=\"12\" x=\"259\" y=\"79\"/><text fill=\"#000000\" font-family=\"sans-serif\" font-size=\"14\" lengthAdjust=\"spacingAndGlyphs\" textLength=\"48\" x=\"233\" y=\"410.7151\">$result</text><rect fill=\"#383838\" height=\"12\" style=\"stroke: #F8F8F8; stroke-width: 1.5;\" width=\"12\" x=\"251\" y=\"385.72\"/><text fill=\"#000000\" font-family=\"sans-serif\" font-size=\"14\" lengthAdjust=\"spacingAndGlyphs\" textLength=\"80\" x=\"627\" y=\"63.6982\">partMasses</text><rect fill=\"#383838\" height=\"12\" style=\"stroke: #F8F8F8; stroke-width: 1.5;\" width=\"12\" x=\"661\" y=\"79\"/><text fill=\"#000000\" font-family=\"sans-serif\" font-size=\"14\" lengthAdjust=\"spacingAndGlyphs\" textLength=\"66\" x=\"634\" y=\"410.7151\">totalMass</text><rect fill=\"#383838\" height=\"12\" style=\"stroke: #F8F8F8; stroke-width: 1.5;\" width=\"12\" x=\"661\" y=\"385.72\"/><!--MD5=[209b3feb70ccb6233bfe1053d122c12c]\n",
       "reverse link E2 to E3--><a href=\"psysml:6f0477df-1982-4bef-bc4b-f3a5f459ca50\" target=\"_top\" title=\"psysml:6f0477df-1982-4bef-bc4b-f3a5f459ca50\" xlink:actuate=\"onRequest\" xlink:href=\"psysml:6f0477df-1982-4bef-bc4b-f3a5f459ca50\" xlink:show=\"new\" xlink:title=\"psysml:6f0477df-1982-4bef-bc4b-f3a5f459ca50\" xlink:type=\"simple\"><path d=\"M476.41,132.95 C459.95,151.1 441.38,171.57 425.86,188.68 \" fill=\"none\" id=\"E2&lt;-E3\" style=\"stroke: #383838; stroke-width: 1.0;\"/><polygon fill=\"#383838\" points=\"485.3,123.15,478.3052,124.9031,477.2332,132.0341,484.2279,130.281,485.3,123.15\" style=\"stroke: #383838; stroke-width: 1.0;\"/></a><!--MD5=[9618e71518536f8baf3342ff6fdab317]\n",
       "reverse link E2 to E4--><a href=\"psysml:39f29039-e97f-4cd7-a6e4-24de87290ff7\" target=\"_top\" title=\"psysml:39f29039-e97f-4cd7-a6e4-24de87290ff7\" xlink:actuate=\"onRequest\" xlink:href=\"psysml:39f29039-e97f-4cd7-a6e4-24de87290ff7\" xlink:show=\"new\" xlink:title=\"psysml:39f29039-e97f-4cd7-a6e4-24de87290ff7\" xlink:type=\"simple\"><path d=\"M519,136.25 C519,153.55 519,172.6 519,188.68 \" fill=\"none\" id=\"E2&lt;-E4\" style=\"stroke: #383838; stroke-width: 1.0;\"/><polygon fill=\"#383838\" points=\"519,123.15,515,129.15,519,135.15,523,129.15,519,123.15\" style=\"stroke: #383838; stroke-width: 1.0;\"/></a><!--MD5=[ec5e0a54482b142abcecfe541d624bff]\n",
       "link E10 to E5--><a href=\"psysml:087e1e8b-9f76-403f-b1f3-15ea1e5b2649\" target=\"_top\" title=\"psysml:087e1e8b-9f76-403f-b1f3-15ea1e5b2649\" xlink:actuate=\"onRequest\" xlink:href=\"psysml:087e1e8b-9f76-403f-b1f3-15ea1e5b2649\" xlink:show=\"new\" xlink:title=\"psysml:087e1e8b-9f76-403f-b1f3-15ea1e5b2649\" xlink:type=\"simple\"><path d=\"M367.76,108.18 C352.425,122.215 331.7225,141.16 311.4063,159.75 C306.3272,164.3975 301.2723,169.0228 296.3314,173.5437 C293.8609,175.8041 291.419,178.0384 289.0168,180.2363 C287.8157,181.3353 286.6246,182.4252 285.4448,183.5046 C284.8549,184.0444 284.2678,184.5815 283.6837,185.1159 C283.5377,185.2495 283.3919,185.3829 283.2463,185.5162 \" fill=\"none\" id=\"E10-&gt;E5\" style=\"stroke: #383838; stroke-width: 1.0;\"/><polygon fill=\"#FFFFFF\" points=\"283.2463,185.5162,292.5389,167.526,301.9894,177.855,283.2463,185.5162\" style=\"stroke: #383838; stroke-width: 1.0;\"/><ellipse cx=\"298.0944\" cy=\"165.1539\" fill=\"#383838\" rx=\"2\" ry=\"2\" style=\"stroke: #383838; stroke-width: 1.0;\"/><ellipse cx=\"304.8447\" cy=\"172.5317\" fill=\"#383838\" rx=\"2\" ry=\"2\" style=\"stroke: #383838; stroke-width: 1.0;\"/></a><!--MD5=[111e5536516ee1ad7d4266f589654f03]\n",
       "link E14 to E5--><a href=\"psysml:a6dd9655-fa53-42fd-8b92-db635a2ece9b\" target=\"_top\" title=\"psysml:a6dd9655-fa53-42fd-8b92-db635a2ece9b\" xlink:actuate=\"onRequest\" xlink:href=\"psysml:a6dd9655-fa53-42fd-8b92-db635a2ece9b\" xlink:show=\"new\" xlink:title=\"psysml:a6dd9655-fa53-42fd-8b92-db635a2ece9b\" xlink:type=\"simple\"><path d=\"M130.39,129.15 C138.0025,135.9375 146.0606,143.1225 154.2098,150.3889 C154.4645,150.616 154.7193,150.8431 154.9741,151.0704 \" fill=\"none\" id=\"E14-&gt;E5\" style=\"stroke: #383838; stroke-width: 1.0;\"/><polygon fill=\"#FFFFFF\" points=\"154.9741,151.0704,136.1343,143.6501,145.4516,133.2008,154.9741,151.0704\" style=\"stroke: #383838; stroke-width: 1.0;\"/><ellipse cx=\"133.211\" cy=\"138.3638\" fill=\"#383838\" rx=\"2\" ry=\"2\" style=\"stroke: #383838; stroke-width: 1.0;\"/><ellipse cx=\"139.8662\" cy=\"130.9001\" fill=\"#383838\" rx=\"2\" ry=\"2\" style=\"stroke: #383838; stroke-width: 1.0;\"/></a><!--MD5=[d54800bc51a7a8fb22075513604cd2fd]\n",
       "@startuml\r\n",
       "skinparam linetype polyline\r\n",
       "skinparam monochrome true\r\n",
       "skinparam classbackgroundcolor white\r\n",
       "skinparam shadowing false\r\n",
       "skinparam wrapWidth 300\r\n",
       "hide circle\r\n",
       "\r\n",
       "package \"CalculationExample\" as E1  [[psysml:279b101a-ad7c-43dd-8a07-da5fe5802bed ]]  {\r\n",
       "comp usage \"vehicle\" as E2  <<(T,blue)part>> [[psysml:3dfd6fc9-2012-44ec-8abc-b458a2efa8ee ]] {\r\n",
       "- - attributes - -\r\n",
       "m: MassValue\r\n",
       "}\r\n",
       "comp usage \"eng\" as E3  <<(T,blue)part>> [[psysml:6f0477df-1982-4bef-bc4b-f3a5f459ca50 ]] {\r\n",
       "- - attributes - -\r\n",
       "m: MassValue\r\n",
       "}\r\n",
       "comp usage \"trans\" as E4  <<(T,blue)part>> [[psysml:39f29039-e97f-4cd7-a6e4-24de87290ff7 ]] {\r\n",
       "- - attributes - -\r\n",
       "m: MassValue\r\n",
       "}\r\n",
       "rec def \"MassSum\" as E5  <<(T,blue)calculation def>> [[psysml:5c4fc454-9680-413f-bf1a-bdf2f6cc06d5 ]] {\r\n",
       "portin \"partMasses\" as E6  [[psysml:57eaefe4-a57c-41fa-a944-033dc3e4df4e ]] \r\n",
       "portout \"totalMass\" as E7  [[psysml:35e88aae-ee13-4c55-bc31-272528607619 ]] \r\n",
       "portin \"$collection\" as E8  [[psysml:0e9b074a-52f0-467d-9ed6-1e247226bb71 ]] \r\n",
       "portout \"$result\" as E9  [[psysml:66242f20-bf9b-4b2d-900e-be3ce4c10d7e ]] \r\n",
       "}\r\n",
       "\r\n",
       "comp usage \"ms: MassSum\" as E10  <<(T,blue)calculation>> [[psysml:20e483d0-a5a0-4777-bc7f-caa19ca2a7e0 ]] {\r\n",
       "}\r\n",
       "rec def \"MassSum1\" as E11  <<(T,blue)calculation def>> [[psysml:83ce5d61-6771-4884-a571-d4d08f340672 ]] {\r\n",
       "portin \"partMasses\" as E12  [[psysml:0924d9a5-fc11-4345-935d-e5ff08c51a6a ]] \r\n",
       "portout \"totalMass\" as E13  [[psysml:b7c67a6a-5db6-4529-b3d9-f9fb47dc5f0c ]] \r\n",
       "}\r\n",
       "\r\n",
       "comp usage \"ms1: MassSum\" as E14  <<(T,blue)calculation>> [[psysml:3aa3b647-0159-4a96-9fb7-94bd79c90754 ]] {\r\n",
       "- - attributes - -\r\n",
       "partMasses\r\n",
       "totalMass\r\n",
       "}\r\n",
       "E2 *- - E3 [[psysml:6f0477df-1982-4bef-bc4b-f3a5f459ca50 ]] \r\n",
       "E2 *- - E4 [[psysml:39f29039-e97f-4cd7-a6e4-24de87290ff7 ]] \r\n",
       "E10 - -:|> E5 [[psysml:087e1e8b-9f76-403f-b1f3-15ea1e5b2649 ]] \r\n",
       "E14 - -:|> E5 [[psysml:a6dd9655-fa53-42fd-8b92-db635a2ece9b ]] \r\n",
       "}\r\n",
       "@enduml\r\n",
       "\n",
       "PlantUML version 1.2020.13(Sat Jun 13 12:26:38 UTC 2020)\n",
       "(EPL source distribution)\n",
       "Java Runtime: OpenJDK Runtime Environment\n",
       "JVM: OpenJDK 64-Bit Server VM\n",
       "Default Encoding: UTF-8\n",
       "Language: en\n",
       "Country: null\n",
       "--></g></svg>"
      ]
     },
     "execution_count": 9,
     "metadata": {},
     "output_type": "execute_result"
    }
   ],
   "source": [
    "%viz --style=\"POLYLINE\" --view=\"Default\" \"CalculationExample\""
   ]
  },
  {
   "cell_type": "code",
   "execution_count": 10,
   "id": "norwegian-arthur",
   "metadata": {
    "execution": {
     "iopub.execute_input": "2021-03-26T13:05:04.782566Z",
     "iopub.status.busy": "2021-03-26T13:05:04.782050Z",
     "iopub.status.idle": "2021-03-26T13:05:04.889892Z",
     "shell.execute_reply": "2021-03-26T13:05:04.890262Z"
    }
   },
   "outputs": [
    {
     "data": {
      "image/svg+xml": [
       "<?xml version=\"1.0\" encoding=\"UTF-8\" standalone=\"no\"?><svg xmlns=\"http://www.w3.org/2000/svg\" xmlns:xlink=\"http://www.w3.org/1999/xlink\" contentScriptType=\"application/ecmascript\" contentStyleType=\"text/css\" height=\"293px\" preserveAspectRatio=\"none\" style=\"width:607px;height:293px;\" version=\"1.1\" viewBox=\"0 0 607 293\" width=\"607px\" zoomAndPan=\"magnify\"><defs/><g><!--MD5=[fbc87193dbaf4d95561dea2c320d4a47]\n",
       "cluster E1--><a href=\"psysml:279b101a-ad7c-43dd-8a07-da5fe5802bed\" target=\"_top\" title=\"psysml:279b101a-ad7c-43dd-8a07-da5fe5802bed\" xlink:actuate=\"onRequest\" xlink:href=\"psysml:279b101a-ad7c-43dd-8a07-da5fe5802bed\" xlink:show=\"new\" xlink:title=\"psysml:279b101a-ad7c-43dd-8a07-da5fe5802bed\" xlink:type=\"simple\"><polygon fill=\"#FFFFFF\" points=\"16,6,173,6,180,28.2969,585,28.2969,585,281,16,281,16,6\" style=\"stroke: #000000; stroke-width: 1.5;\"/><line style=\"stroke: #000000; stroke-width: 1.5;\" x1=\"16\" x2=\"180\" y1=\"28.2969\" y2=\"28.2969\"/><text fill=\"#000000\" font-family=\"sans-serif\" font-size=\"14\" font-weight=\"bold\" lengthAdjust=\"spacingAndGlyphs\" textLength=\"151\" x=\"20\" y=\"20.9951\">CalculationExample</text></a><!--MD5=[b4997ac47864f28c2f74865a473b2911]\n",
       "class E2--><a href=\"psysml:3dfd6fc9-2012-44ec-8abc-b458a2efa8ee\" target=\"_top\" title=\"psysml:3dfd6fc9-2012-44ec-8abc-b458a2efa8ee\" xlink:actuate=\"onRequest\" xlink:href=\"psysml:3dfd6fc9-2012-44ec-8abc-b458a2efa8ee\" xlink:show=\"new\" xlink:title=\"psysml:3dfd6fc9-2012-44ec-8abc-b458a2efa8ee\" xlink:type=\"simple\"><rect fill=\"#FFFFFF\" height=\"75.5469\" id=\"E2\" rx=\"10\" ry=\"10\" style=\"stroke: #383838; stroke-width: 1.5;\" width=\"92\" x=\"477\" y=\"47\"/><text fill=\"#000000\" font-family=\"sans-serif\" font-size=\"12\" font-style=\"italic\" lengthAdjust=\"spacingAndGlyphs\" textLength=\"40\" x=\"503\" y=\"63.1387\">«part»</text><text fill=\"#000000\" font-family=\"sans-serif\" font-size=\"12\" lengthAdjust=\"spacingAndGlyphs\" textLength=\"43\" x=\"501.5\" y=\"77.1074\">vehicle</text><line style=\"stroke: #383838; stroke-width: 1.5;\" x1=\"478\" x2=\"568\" y1=\"84.9375\" y2=\"84.9375\"/><text fill=\"#000000\" font-family=\"sans-serif\" font-size=\"11\" lengthAdjust=\"spacingAndGlyphs\" textLength=\"80\" x=\"483\" y=\"115.9526\">m: MassValue</text><line style=\"stroke: #383838; stroke-width: 1.0;\" x1=\"478\" x2=\"495.5\" y1=\"99.3398\" y2=\"99.3398\"/><text fill=\"#000000\" font-family=\"sans-serif\" font-size=\"11\" lengthAdjust=\"spacingAndGlyphs\" textLength=\"55\" x=\"495.5\" y=\"102.6479\">attributes</text><line style=\"stroke: #383838; stroke-width: 1.0;\" x1=\"550.5\" x2=\"568\" y1=\"99.3398\" y2=\"99.3398\"/></a><!--MD5=[09b614a08d8cba4a07c9adeb5e0fee81]\n",
       "class E3--><a href=\"psysml:6f0477df-1982-4bef-bc4b-f3a5f459ca50\" target=\"_top\" title=\"psysml:6f0477df-1982-4bef-bc4b-f3a5f459ca50\" xlink:actuate=\"onRequest\" xlink:href=\"psysml:6f0477df-1982-4bef-bc4b-f3a5f459ca50\" xlink:show=\"new\" xlink:title=\"psysml:6f0477df-1982-4bef-bc4b-f3a5f459ca50\" xlink:type=\"simple\"><rect fill=\"#FFFFFF\" height=\"75.5469\" id=\"E3\" rx=\"10\" ry=\"10\" style=\"stroke: #383838; stroke-width: 1.5;\" width=\"92\" x=\"350\" y=\"189\"/><text fill=\"#000000\" font-family=\"sans-serif\" font-size=\"12\" font-style=\"italic\" lengthAdjust=\"spacingAndGlyphs\" textLength=\"40\" x=\"376\" y=\"205.1387\">«part»</text><text fill=\"#000000\" font-family=\"sans-serif\" font-size=\"12\" lengthAdjust=\"spacingAndGlyphs\" textLength=\"24\" x=\"384\" y=\"219.1074\">eng</text><line style=\"stroke: #383838; stroke-width: 1.5;\" x1=\"351\" x2=\"441\" y1=\"226.9375\" y2=\"226.9375\"/><text fill=\"#000000\" font-family=\"sans-serif\" font-size=\"11\" lengthAdjust=\"spacingAndGlyphs\" textLength=\"80\" x=\"356\" y=\"257.9526\">m: MassValue</text><line style=\"stroke: #383838; stroke-width: 1.0;\" x1=\"351\" x2=\"368.5\" y1=\"241.3398\" y2=\"241.3398\"/><text fill=\"#000000\" font-family=\"sans-serif\" font-size=\"11\" lengthAdjust=\"spacingAndGlyphs\" textLength=\"55\" x=\"368.5\" y=\"244.6479\">attributes</text><line style=\"stroke: #383838; stroke-width: 1.0;\" x1=\"423.5\" x2=\"441\" y1=\"241.3398\" y2=\"241.3398\"/></a><!--MD5=[ebbe1d658d1005bcc118a6aa81145e00]\n",
       "class E4--><a href=\"psysml:39f29039-e97f-4cd7-a6e4-24de87290ff7\" target=\"_top\" title=\"psysml:39f29039-e97f-4cd7-a6e4-24de87290ff7\" xlink:actuate=\"onRequest\" xlink:href=\"psysml:39f29039-e97f-4cd7-a6e4-24de87290ff7\" xlink:show=\"new\" xlink:title=\"psysml:39f29039-e97f-4cd7-a6e4-24de87290ff7\" xlink:type=\"simple\"><rect fill=\"#FFFFFF\" height=\"75.5469\" id=\"E4\" rx=\"10\" ry=\"10\" style=\"stroke: #383838; stroke-width: 1.5;\" width=\"92\" x=\"477\" y=\"189\"/><text fill=\"#000000\" font-family=\"sans-serif\" font-size=\"12\" font-style=\"italic\" lengthAdjust=\"spacingAndGlyphs\" textLength=\"40\" x=\"503\" y=\"205.1387\">«part»</text><text fill=\"#000000\" font-family=\"sans-serif\" font-size=\"12\" lengthAdjust=\"spacingAndGlyphs\" textLength=\"33\" x=\"506.5\" y=\"219.1074\">trans</text><line style=\"stroke: #383838; stroke-width: 1.5;\" x1=\"478\" x2=\"568\" y1=\"226.9375\" y2=\"226.9375\"/><text fill=\"#000000\" font-family=\"sans-serif\" font-size=\"11\" lengthAdjust=\"spacingAndGlyphs\" textLength=\"80\" x=\"483\" y=\"257.9526\">m: MassValue</text><line style=\"stroke: #383838; stroke-width: 1.0;\" x1=\"478\" x2=\"495.5\" y1=\"241.3398\" y2=\"241.3398\"/><text fill=\"#000000\" font-family=\"sans-serif\" font-size=\"11\" lengthAdjust=\"spacingAndGlyphs\" textLength=\"55\" x=\"495.5\" y=\"244.6479\">attributes</text><line style=\"stroke: #383838; stroke-width: 1.0;\" x1=\"550.5\" x2=\"568\" y1=\"241.3398\" y2=\"241.3398\"/></a><!--MD5=[270fce915f116d4de14055a7c1d9a0f3]\n",
       "class E5--><a href=\"psysml:5c4fc454-9680-413f-bf1a-bdf2f6cc06d5\" target=\"_top\" title=\"psysml:5c4fc454-9680-413f-bf1a-bdf2f6cc06d5\" xlink:actuate=\"onRequest\" xlink:href=\"psysml:5c4fc454-9680-413f-bf1a-bdf2f6cc06d5\" xlink:show=\"new\" xlink:title=\"psysml:5c4fc454-9680-413f-bf1a-bdf2f6cc06d5\" xlink:type=\"simple\"><rect fill=\"#FFFFFF\" height=\"45.9375\" id=\"E5\" style=\"stroke: #383838; stroke-width: 1.5;\" width=\"108\" x=\"120\" y=\"204\"/><text fill=\"#000000\" font-family=\"sans-serif\" font-size=\"12\" font-style=\"italic\" lengthAdjust=\"spacingAndGlyphs\" textLength=\"106\" x=\"121\" y=\"220.1387\">«calculation def»</text><text fill=\"#000000\" font-family=\"sans-serif\" font-size=\"12\" lengthAdjust=\"spacingAndGlyphs\" textLength=\"59\" x=\"144.5\" y=\"234.1074\">MassSum</text><line style=\"stroke: #383838; stroke-width: 1.5;\" x1=\"121\" x2=\"227\" y1=\"241.9375\" y2=\"241.9375\"/></a><!--MD5=[60a26617385b1d2d0262a64233df1f8d]\n",
       "class E6--><a href=\"psysml:20e483d0-a5a0-4777-bc7f-caa19ca2a7e0\" target=\"_top\" title=\"psysml:20e483d0-a5a0-4777-bc7f-caa19ca2a7e0\" xlink:actuate=\"onRequest\" xlink:href=\"psysml:20e483d0-a5a0-4777-bc7f-caa19ca2a7e0\" xlink:show=\"new\" xlink:title=\"psysml:20e483d0-a5a0-4777-bc7f-caa19ca2a7e0\" xlink:type=\"simple\"><rect fill=\"#FFFFFF\" height=\"45.9375\" id=\"E6\" rx=\"10\" ry=\"10\" style=\"stroke: #383838; stroke-width: 1.5;\" width=\"91\" x=\"350.5\" y=\"62\"/><text fill=\"#000000\" font-family=\"sans-serif\" font-size=\"12\" font-style=\"italic\" lengthAdjust=\"spacingAndGlyphs\" textLength=\"82\" x=\"355\" y=\"78.1387\">«calculation»</text><text fill=\"#000000\" font-family=\"sans-serif\" font-size=\"12\" lengthAdjust=\"spacingAndGlyphs\" textLength=\"85\" x=\"353.5\" y=\"92.1074\">ms: MassSum</text><line style=\"stroke: #383838; stroke-width: 1.5;\" x1=\"351.5\" x2=\"440.5\" y1=\"99.9375\" y2=\"99.9375\"/></a><!--MD5=[2156ba9850f5573cc1fc38a6a4b2f02b]\n",
       "class E7--><a href=\"psysml:83ce5d61-6771-4884-a571-d4d08f340672\" target=\"_top\" title=\"psysml:83ce5d61-6771-4884-a571-d4d08f340672\" xlink:actuate=\"onRequest\" xlink:href=\"psysml:83ce5d61-6771-4884-a571-d4d08f340672\" xlink:show=\"new\" xlink:title=\"psysml:83ce5d61-6771-4884-a571-d4d08f340672\" xlink:type=\"simple\"><rect fill=\"#FFFFFF\" height=\"88.3516\" id=\"E7\" style=\"stroke: #383838; stroke-width: 1.5;\" width=\"148\" x=\"167\" y=\"41\"/><text fill=\"#000000\" font-family=\"sans-serif\" font-size=\"12\" font-style=\"italic\" lengthAdjust=\"spacingAndGlyphs\" textLength=\"106\" x=\"188\" y=\"57.1387\">«calculation def»</text><text fill=\"#000000\" font-family=\"sans-serif\" font-size=\"12\" lengthAdjust=\"spacingAndGlyphs\" textLength=\"67\" x=\"207.5\" y=\"71.1074\">MassSum1</text><line style=\"stroke: #383838; stroke-width: 1.5;\" x1=\"168\" x2=\"314\" y1=\"78.9375\" y2=\"78.9375\"/><text fill=\"#000000\" font-family=\"sans-serif\" font-size=\"11\" lengthAdjust=\"spacingAndGlyphs\" textLength=\"136\" x=\"173\" y=\"109.9526\">partMasses: MassValue</text><text fill=\"#000000\" font-family=\"sans-serif\" font-size=\"11\" lengthAdjust=\"spacingAndGlyphs\" textLength=\"124\" x=\"173\" y=\"122.7573\">totalMass: MassValue</text><line style=\"stroke: #383838; stroke-width: 1.0;\" x1=\"168\" x2=\"213.5\" y1=\"93.3398\" y2=\"93.3398\"/><text fill=\"#000000\" font-family=\"sans-serif\" font-size=\"11\" lengthAdjust=\"spacingAndGlyphs\" textLength=\"55\" x=\"213.5\" y=\"96.6479\">attributes</text><line style=\"stroke: #383838; stroke-width: 1.0;\" x1=\"268.5\" x2=\"314\" y1=\"93.3398\" y2=\"93.3398\"/></a><!--MD5=[b9389687b975829384b498ac4b7476b2]\n",
       "class E8--><a href=\"psysml:3aa3b647-0159-4a96-9fb7-94bd79c90754\" target=\"_top\" title=\"psysml:3aa3b647-0159-4a96-9fb7-94bd79c90754\" xlink:actuate=\"onRequest\" xlink:href=\"psysml:3aa3b647-0159-4a96-9fb7-94bd79c90754\" xlink:show=\"new\" xlink:title=\"psysml:3aa3b647-0159-4a96-9fb7-94bd79c90754\" xlink:type=\"simple\"><rect fill=\"#FFFFFF\" height=\"88.3516\" id=\"E8\" rx=\"10\" ry=\"10\" style=\"stroke: #383838; stroke-width: 1.5;\" width=\"99\" x=\"32.5\" y=\"41\"/><text fill=\"#000000\" font-family=\"sans-serif\" font-size=\"12\" font-style=\"italic\" lengthAdjust=\"spacingAndGlyphs\" textLength=\"82\" x=\"41\" y=\"57.1387\">«calculation»</text><text fill=\"#000000\" font-family=\"sans-serif\" font-size=\"12\" lengthAdjust=\"spacingAndGlyphs\" textLength=\"93\" x=\"35.5\" y=\"71.1074\">ms1: MassSum</text><line style=\"stroke: #383838; stroke-width: 1.5;\" x1=\"33.5\" x2=\"130.5\" y1=\"78.9375\" y2=\"78.9375\"/><text fill=\"#000000\" font-family=\"sans-serif\" font-size=\"11\" lengthAdjust=\"spacingAndGlyphs\" textLength=\"67\" x=\"38.5\" y=\"109.9526\">partMasses</text><text fill=\"#000000\" font-family=\"sans-serif\" font-size=\"11\" lengthAdjust=\"spacingAndGlyphs\" textLength=\"55\" x=\"38.5\" y=\"122.7573\">totalMass</text><line style=\"stroke: #383838; stroke-width: 1.0;\" x1=\"33.5\" x2=\"54.5\" y1=\"93.3398\" y2=\"93.3398\"/><text fill=\"#000000\" font-family=\"sans-serif\" font-size=\"11\" lengthAdjust=\"spacingAndGlyphs\" textLength=\"55\" x=\"54.5\" y=\"96.6479\">attributes</text><line style=\"stroke: #383838; stroke-width: 1.0;\" x1=\"109.5\" x2=\"130.5\" y1=\"93.3398\" y2=\"93.3398\"/></a><!--MD5=[209b3feb70ccb6233bfe1053d122c12c]\n",
       "reverse link E2 to E3--><a href=\"psysml:6f0477df-1982-4bef-bc4b-f3a5f459ca50\" target=\"_top\" title=\"psysml:6f0477df-1982-4bef-bc4b-f3a5f459ca50\" xlink:actuate=\"onRequest\" xlink:href=\"psysml:6f0477df-1982-4bef-bc4b-f3a5f459ca50\" xlink:show=\"new\" xlink:title=\"psysml:6f0477df-1982-4bef-bc4b-f3a5f459ca50\" xlink:type=\"simple\"><path d=\"M480.41,132.95 C463.95,151.1 445.38,171.57 429.86,188.68 \" fill=\"none\" id=\"E2&lt;-E3\" style=\"stroke: #383838; stroke-width: 1.0;\"/><polygon fill=\"#383838\" points=\"489.3,123.15,482.3052,124.9031,481.2332,132.0341,488.2279,130.281,489.3,123.15\" style=\"stroke: #383838; stroke-width: 1.0;\"/></a><!--MD5=[9618e71518536f8baf3342ff6fdab317]\n",
       "reverse link E2 to E4--><a href=\"psysml:39f29039-e97f-4cd7-a6e4-24de87290ff7\" target=\"_top\" title=\"psysml:39f29039-e97f-4cd7-a6e4-24de87290ff7\" xlink:actuate=\"onRequest\" xlink:href=\"psysml:39f29039-e97f-4cd7-a6e4-24de87290ff7\" xlink:show=\"new\" xlink:title=\"psysml:39f29039-e97f-4cd7-a6e4-24de87290ff7\" xlink:type=\"simple\"><path d=\"M523,136.25 C523,153.55 523,172.6 523,188.68 \" fill=\"none\" id=\"E2&lt;-E4\" style=\"stroke: #383838; stroke-width: 1.0;\"/><polygon fill=\"#383838\" points=\"523,123.15,519,129.15,523,135.15,527,129.15,523,123.15\" style=\"stroke: #383838; stroke-width: 1.0;\"/></a><!--MD5=[25b190c987b1e74e5126d372c5a73af1]\n",
       "link E6 to E5--><a href=\"psysml:087e1e8b-9f76-403f-b1f3-15ea1e5b2649\" target=\"_top\" title=\"psysml:087e1e8b-9f76-403f-b1f3-15ea1e5b2649\" xlink:actuate=\"onRequest\" xlink:href=\"psysml:087e1e8b-9f76-403f-b1f3-15ea1e5b2649\" xlink:show=\"new\" xlink:title=\"psysml:087e1e8b-9f76-403f-b1f3-15ea1e5b2649\" xlink:type=\"simple\"><path d=\"M363.76,108 C348.26,118.58 333,129 333,129 C333,129 273.5,165.3 227.3,193.49 \" fill=\"none\" id=\"E6-&gt;E5\" style=\"stroke: #383838; stroke-width: 1.0;\"/><polygon fill=\"#FFFFFF\" points=\"210.08,203.99,222.6546,188.1193,229.9456,200.0709,210.08,203.99\" style=\"stroke: #383838; stroke-width: 1.0;\"/><ellipse cx=\"228.5622\" cy=\"186.8582\" fill=\"#383838\" rx=\"2\" ry=\"2\" style=\"stroke: #383838; stroke-width: 1.0;\"/><ellipse cx=\"233.77\" cy=\"195.395\" fill=\"#383838\" rx=\"2\" ry=\"2\" style=\"stroke: #383838; stroke-width: 1.0;\"/></a><!--MD5=[1ccb2481ffa92f8d51a74ee30c51832a]\n",
       "link E8 to E5--><a href=\"psysml:a6dd9655-fa53-42fd-8b92-db635a2ece9b\" target=\"_top\" title=\"psysml:a6dd9655-fa53-42fd-8b92-db635a2ece9b\" xlink:actuate=\"onRequest\" xlink:href=\"psysml:a6dd9655-fa53-42fd-8b92-db635a2ece9b\" xlink:show=\"new\" xlink:title=\"psysml:a6dd9655-fa53-42fd-8b92-db635a2ece9b\" xlink:type=\"simple\"><path d=\"M110.35,129.15 C122.49,147.61 136.55,169.01 148.37,186.99 \" fill=\"none\" id=\"E8-&gt;E5\" style=\"stroke: #383838; stroke-width: 1.0;\"/><polygon fill=\"#FFFFFF\" points=\"159.48,203.91,143.1947,191.8772,154.8939,184.1877,159.48,203.91\" style=\"stroke: #383838; stroke-width: 1.0;\"/><ellipse cx=\"141.7353\" cy=\"186.0155\" fill=\"#383838\" rx=\"2\" ry=\"2\" style=\"stroke: #383838; stroke-width: 1.0;\"/><ellipse cx=\"150.0918\" cy=\"180.523\" fill=\"#383838\" rx=\"2\" ry=\"2\" style=\"stroke: #383838; stroke-width: 1.0;\"/></a><!--MD5=[878ab0f046ed24a15a4e1c5e7e8f16a7]\n",
       "@startuml\r\n",
       "skinparam linetype polyline\r\n",
       "skinparam monochrome true\r\n",
       "skinparam classbackgroundcolor white\r\n",
       "skinparam shadowing false\r\n",
       "skinparam wrapWidth 300\r\n",
       "hide circle\r\n",
       "\r\n",
       "package \"CalculationExample\" as E1  [[psysml:279b101a-ad7c-43dd-8a07-da5fe5802bed ]]  {\r\n",
       "comp usage \"vehicle\" as E2  <<(T,blue)part>> [[psysml:3dfd6fc9-2012-44ec-8abc-b458a2efa8ee ]] {\r\n",
       "- - attributes - -\r\n",
       "m: MassValue\r\n",
       "}\r\n",
       "comp usage \"eng\" as E3  <<(T,blue)part>> [[psysml:6f0477df-1982-4bef-bc4b-f3a5f459ca50 ]] {\r\n",
       "- - attributes - -\r\n",
       "m: MassValue\r\n",
       "}\r\n",
       "comp usage \"trans\" as E4  <<(T,blue)part>> [[psysml:39f29039-e97f-4cd7-a6e4-24de87290ff7 ]] {\r\n",
       "- - attributes - -\r\n",
       "m: MassValue\r\n",
       "}\r\n",
       "comp def \"MassSum\" as E5  <<(T,blue)calculation def>> [[psysml:5c4fc454-9680-413f-bf1a-bdf2f6cc06d5 ]] {\r\n",
       "}\r\n",
       "comp usage \"ms: MassSum\" as E6  <<(T,blue)calculation>> [[psysml:20e483d0-a5a0-4777-bc7f-caa19ca2a7e0 ]] {\r\n",
       "}\r\n",
       "comp def \"MassSum1\" as E7  <<(T,blue)calculation def>> [[psysml:83ce5d61-6771-4884-a571-d4d08f340672 ]] {\r\n",
       "- - attributes - -\r\n",
       "partMasses: MassValue\r\n",
       "totalMass: MassValue\r\n",
       "}\r\n",
       "comp usage \"ms1: MassSum\" as E8  <<(T,blue)calculation>> [[psysml:3aa3b647-0159-4a96-9fb7-94bd79c90754 ]] {\r\n",
       "- - attributes - -\r\n",
       "partMasses\r\n",
       "totalMass\r\n",
       "}\r\n",
       "E2 *- - E3 [[psysml:6f0477df-1982-4bef-bc4b-f3a5f459ca50 ]] \r\n",
       "E2 *- - E4 [[psysml:39f29039-e97f-4cd7-a6e4-24de87290ff7 ]] \r\n",
       "E6 - -:|> E5 [[psysml:087e1e8b-9f76-403f-b1f3-15ea1e5b2649 ]] \r\n",
       "E8 - -:|> E5 [[psysml:a6dd9655-fa53-42fd-8b92-db635a2ece9b ]] \r\n",
       "}\r\n",
       "@enduml\r\n",
       "\n",
       "PlantUML version 1.2020.13(Sat Jun 13 12:26:38 UTC 2020)\n",
       "(EPL source distribution)\n",
       "Java Runtime: OpenJDK Runtime Environment\n",
       "JVM: OpenJDK 64-Bit Server VM\n",
       "Default Encoding: UTF-8\n",
       "Language: en\n",
       "Country: null\n",
       "--></g></svg>"
      ]
     },
     "execution_count": 10,
     "metadata": {},
     "output_type": "execute_result"
    }
   ],
   "source": [
    "%viz --style=\"POLYLINE\" --view=\"Tree\" \"CalculationExample\""
   ]
  },
  {
   "cell_type": "code",
   "execution_count": 11,
   "id": "spiritual-photography",
   "metadata": {
    "execution": {
     "iopub.execute_input": "2021-03-26T13:05:04.942813Z",
     "iopub.status.busy": "2021-03-26T13:05:04.942303Z",
     "iopub.status.idle": "2021-03-26T13:05:04.948800Z",
     "shell.execute_reply": "2021-03-26T13:05:04.949215Z"
    }
   },
   "outputs": [
    {
     "data": {
      "image/svg+xml": [
       "<?xml version=\"1.0\" encoding=\"UTF-8\" standalone=\"no\"?><svg xmlns=\"http://www.w3.org/2000/svg\" xmlns:xlink=\"http://www.w3.org/1999/xlink\" contentScriptType=\"application/ecmascript\" contentStyleType=\"text/css\" height=\"12px\" preserveAspectRatio=\"none\" style=\"width:12px;height:12px;\" version=\"1.1\" viewBox=\"0 0 12 12\" width=\"12px\" zoomAndPan=\"magnify\"><defs/><g><!--MD5=[896ac0e7a515d8dd7765a661cb4ee08b]\n",
       "@startuml\r\n",
       "skinparam linetype polyline\r\n",
       "skinparam monochrome true\r\n",
       "skinparam classbackgroundcolor white\r\n",
       "skinparam shadowing false\r\n",
       "skinparam wrapWidth 300\r\n",
       "hide circle\r\n",
       "\r\n",
       "@enduml\r\n",
       "\n",
       "PlantUML version 1.2020.13(Sat Jun 13 12:26:38 UTC 2020)\n",
       "(EPL source distribution)\n",
       "Java Runtime: OpenJDK Runtime Environment\n",
       "JVM: OpenJDK 64-Bit Server VM\n",
       "Default Encoding: UTF-8\n",
       "Language: en\n",
       "Country: null\n",
       "--></g></svg>"
      ]
     },
     "execution_count": 11,
     "metadata": {},
     "output_type": "execute_result"
    }
   ],
   "source": [
    "%viz --style=\"POLYLINE\" --view=\"State\" \"CalculationExample\""
   ]
  },
  {
   "cell_type": "code",
   "execution_count": 12,
   "id": "major-spanish",
   "metadata": {
    "execution": {
     "iopub.execute_input": "2021-03-26T13:05:05.001935Z",
     "iopub.status.busy": "2021-03-26T13:05:05.001277Z",
     "iopub.status.idle": "2021-03-26T13:05:05.037727Z",
     "shell.execute_reply": "2021-03-26T13:05:05.036452Z"
    }
   },
   "outputs": [
    {
     "data": {
      "image/svg+xml": [
       "<?xml version=\"1.0\" encoding=\"UTF-8\" standalone=\"no\"?><svg xmlns=\"http://www.w3.org/2000/svg\" xmlns:xlink=\"http://www.w3.org/1999/xlink\" contentScriptType=\"application/ecmascript\" contentStyleType=\"text/css\" height=\"246px\" preserveAspectRatio=\"none\" style=\"width:795px;height:246px;\" version=\"1.1\" viewBox=\"0 0 795 246\" width=\"795px\" zoomAndPan=\"magnify\"><defs/><g><!--MD5=[fbc87193dbaf4d95561dea2c320d4a47]\n",
       "cluster E1--><a href=\"psysml:279b101a-ad7c-43dd-8a07-da5fe5802bed\" target=\"_top\" title=\"psysml:279b101a-ad7c-43dd-8a07-da5fe5802bed\" xlink:actuate=\"onRequest\" xlink:href=\"psysml:279b101a-ad7c-43dd-8a07-da5fe5802bed\" xlink:show=\"new\" xlink:title=\"psysml:279b101a-ad7c-43dd-8a07-da5fe5802bed\" xlink:type=\"simple\"><polygon fill=\"#FFFFFF\" points=\"16,6,173,6,180,28.2969,773,28.2969,773,234,16,234,16,6\" style=\"stroke: #000000; stroke-width: 1.5;\"/><line style=\"stroke: #000000; stroke-width: 1.5;\" x1=\"16\" x2=\"180\" y1=\"28.2969\" y2=\"28.2969\"/><text fill=\"#000000\" font-family=\"sans-serif\" font-size=\"14\" font-weight=\"bold\" lengthAdjust=\"spacingAndGlyphs\" textLength=\"151\" x=\"20\" y=\"20.9951\">CalculationExample</text></a><!--MD5=[e4f7fae6ed58524ba242bb0b0d3be6b7]\n",
       "cluster E2--><a href=\"psysml:3dfd6fc9-2012-44ec-8abc-b458a2efa8ee\" target=\"_top\" title=\"psysml:3dfd6fc9-2012-44ec-8abc-b458a2efa8ee\" xlink:actuate=\"onRequest\" xlink:href=\"psysml:3dfd6fc9-2012-44ec-8abc-b458a2efa8ee\" xlink:show=\"new\" xlink:title=\"psysml:3dfd6fc9-2012-44ec-8abc-b458a2efa8ee\" xlink:type=\"simple\"><rect fill=\"#FFFFFF\" height=\"161\" id=\"E2\" rx=\"10\" ry=\"10\" style=\"stroke: #383838; stroke-width: 1.5;\" width=\"436\" x=\"313\" y=\"49\"/><rect fill=\"#F8F8F8\" height=\"23.9688\" rx=\"10\" ry=\"10\" style=\"stroke: #F8F8F8; stroke-width: 1.5;\" width=\"436\" x=\"313\" y=\"49\"/><rect fill=\"#F8F8F8\" height=\"10\" style=\"stroke: #F8F8F8; stroke-width: 1.5;\" width=\"436\" x=\"313\" y=\"62.9688\"/><rect fill=\"none\" height=\"161\" id=\"E2\" rx=\"10\" ry=\"10\" style=\"stroke: #383838; stroke-width: 1.5;\" width=\"436\" x=\"313\" y=\"49\"/><text fill=\"#000000\" font-family=\"sans-serif\" font-size=\"12\" lengthAdjust=\"spacingAndGlyphs\" textLength=\"43\" x=\"509.5\" y=\"65.1387\">vehicle</text><line style=\"stroke: #383838; stroke-width: 1.0;\" x1=\"313\" x2=\"749\" y1=\"72.9688\" y2=\"72.9688\"/></a><!--MD5=[f6df4d0ebaf0b5dfb2ced0ae5af7c670]\n",
       "cluster E4--><a href=\"psysml:6f0477df-1982-4bef-bc4b-f3a5f459ca50\" target=\"_top\" title=\"psysml:6f0477df-1982-4bef-bc4b-f3a5f459ca50\" xlink:actuate=\"onRequest\" xlink:href=\"psysml:6f0477df-1982-4bef-bc4b-f3a5f459ca50\" xlink:show=\"new\" xlink:title=\"psysml:6f0477df-1982-4bef-bc4b-f3a5f459ca50\" xlink:type=\"simple\"><rect fill=\"#FFFFFF\" height=\"94\" id=\"E4\" rx=\"10\" ry=\"10\" style=\"stroke: #383838; stroke-width: 1.5;\" width=\"128\" x=\"597\" y=\"92\"/><rect fill=\"#F8F8F8\" height=\"23.9688\" rx=\"10\" ry=\"10\" style=\"stroke: #F8F8F8; stroke-width: 1.5;\" width=\"128\" x=\"597\" y=\"92\"/><rect fill=\"#F8F8F8\" height=\"10\" style=\"stroke: #F8F8F8; stroke-width: 1.5;\" width=\"128\" x=\"597\" y=\"105.9688\"/><rect fill=\"none\" height=\"94\" id=\"E4\" rx=\"10\" ry=\"10\" style=\"stroke: #383838; stroke-width: 1.5;\" width=\"128\" x=\"597\" y=\"92\"/><text fill=\"#000000\" font-family=\"sans-serif\" font-size=\"12\" lengthAdjust=\"spacingAndGlyphs\" textLength=\"24\" x=\"649\" y=\"108.1387\">eng</text><line style=\"stroke: #383838; stroke-width: 1.0;\" x1=\"597\" x2=\"725\" y1=\"115.9688\" y2=\"115.9688\"/></a><!--MD5=[14e3b0961a2654348d326746436168a1]\n",
       "cluster E6--><a href=\"psysml:39f29039-e97f-4cd7-a6e4-24de87290ff7\" target=\"_top\" title=\"psysml:39f29039-e97f-4cd7-a6e4-24de87290ff7\" xlink:actuate=\"onRequest\" xlink:href=\"psysml:39f29039-e97f-4cd7-a6e4-24de87290ff7\" xlink:show=\"new\" xlink:title=\"psysml:39f29039-e97f-4cd7-a6e4-24de87290ff7\" xlink:type=\"simple\"><rect fill=\"#FFFFFF\" height=\"94\" id=\"E6\" rx=\"10\" ry=\"10\" style=\"stroke: #383838; stroke-width: 1.5;\" width=\"128\" x=\"445\" y=\"92\"/><rect fill=\"#F8F8F8\" height=\"23.9688\" rx=\"10\" ry=\"10\" style=\"stroke: #F8F8F8; stroke-width: 1.5;\" width=\"128\" x=\"445\" y=\"92\"/><rect fill=\"#F8F8F8\" height=\"10\" style=\"stroke: #F8F8F8; stroke-width: 1.5;\" width=\"128\" x=\"445\" y=\"105.9688\"/><rect fill=\"none\" height=\"94\" id=\"E6\" rx=\"10\" ry=\"10\" style=\"stroke: #383838; stroke-width: 1.5;\" width=\"128\" x=\"445\" y=\"92\"/><text fill=\"#000000\" font-family=\"sans-serif\" font-size=\"12\" lengthAdjust=\"spacingAndGlyphs\" textLength=\"33\" x=\"492.5\" y=\"108.1387\">trans</text><line style=\"stroke: #383838; stroke-width: 1.0;\" x1=\"445\" x2=\"573\" y1=\"115.9688\" y2=\"115.9688\"/></a><g id=\"E1.E8\"><a href=\"psysml:5c4fc454-9680-413f-bf1a-bdf2f6cc06d5\" target=\"_top\" title=\"psysml:5c4fc454-9680-413f-bf1a-bdf2f6cc06d5\" xlink:actuate=\"onRequest\" xlink:href=\"psysml:5c4fc454-9680-413f-bf1a-bdf2f6cc06d5\" xlink:show=\"new\" xlink:title=\"psysml:5c4fc454-9680-413f-bf1a-bdf2f6cc06d5\" xlink:type=\"simple\"><rect fill=\"#FFFFFF\" height=\"42.9375\" id=\"E8\" style=\"stroke: #383838; stroke-width: 1.5;\" width=\"113\" x=\"180.5\" y=\"127\"/><rect fill=\"#F8F8F8\" height=\"37.9375\" style=\"stroke: #383838; stroke-width: 1.5;\" width=\"113\" x=\"180.5\" y=\"127\"/><text fill=\"#000000\" font-family=\"sans-serif\" font-size=\"12\" font-style=\"italic\" lengthAdjust=\"spacingAndGlyphs\" textLength=\"106\" x=\"184\" y=\"143.1387\">«calculation def»</text><text fill=\"#000000\" font-family=\"sans-serif\" font-size=\"12\" lengthAdjust=\"spacingAndGlyphs\" textLength=\"59\" x=\"207.5\" y=\"157.1074\">MassSum</text></a></g><g id=\"E1.E9\"><a href=\"psysml:83ce5d61-6771-4884-a571-d4d08f340672\" target=\"_top\" title=\"psysml:83ce5d61-6771-4884-a571-d4d08f340672\" xlink:actuate=\"onRequest\" xlink:href=\"psysml:83ce5d61-6771-4884-a571-d4d08f340672\" xlink:show=\"new\" xlink:title=\"psysml:83ce5d61-6771-4884-a571-d4d08f340672\" xlink:type=\"simple\"><rect fill=\"#FFFFFF\" height=\"42.9375\" id=\"E9\" style=\"stroke: #383838; stroke-width: 1.5;\" width=\"113\" x=\"32.5\" y=\"127\"/><rect fill=\"#F8F8F8\" height=\"37.9375\" style=\"stroke: #383838; stroke-width: 1.5;\" width=\"113\" x=\"32.5\" y=\"127\"/><text fill=\"#000000\" font-family=\"sans-serif\" font-size=\"12\" font-style=\"italic\" lengthAdjust=\"spacingAndGlyphs\" textLength=\"106\" x=\"36\" y=\"143.1387\">«calculation def»</text><text fill=\"#000000\" font-family=\"sans-serif\" font-size=\"12\" lengthAdjust=\"spacingAndGlyphs\" textLength=\"67\" x=\"55.5\" y=\"157.1074\">MassSum1</text></a></g><g id=\"E1.E2.E3\"><a href=\"psysml:14ff17ee-41c8-45bd-b867-b50857ad993c\" target=\"_top\" title=\"psysml:14ff17ee-41c8-45bd-b867-b50857ad993c\" xlink:actuate=\"onRequest\" xlink:href=\"psysml:14ff17ee-41c8-45bd-b867-b50857ad993c\" xlink:show=\"new\" xlink:title=\"psysml:14ff17ee-41c8-45bd-b867-b50857ad993c\" xlink:type=\"simple\"><rect fill=\"#FFFFFF\" height=\"42.9375\" id=\"E3\" rx=\"10\" ry=\"10\" style=\"stroke: #383838; stroke-width: 1.5;\" width=\"97\" x=\"328.5\" y=\"127\"/><rect fill=\"#F8F8F8\" height=\"37.9375\" rx=\"10\" ry=\"10\" style=\"stroke: #F8F8F8; stroke-width: 1.5;\" width=\"97\" x=\"328.5\" y=\"127\"/><rect fill=\"#F8F8F8\" height=\"10\" style=\"stroke: #F8F8F8; stroke-width: 1.5;\" width=\"97\" x=\"328.5\" y=\"154.9375\"/><rect fill=\"none\" height=\"42.9375\" id=\"E3\" rx=\"10\" ry=\"10\" style=\"stroke: #383838; stroke-width: 1.5;\" width=\"97\" x=\"328.5\" y=\"127\"/><text fill=\"#000000\" font-family=\"sans-serif\" font-size=\"12\" font-style=\"italic\" lengthAdjust=\"spacingAndGlyphs\" textLength=\"69\" x=\"342.5\" y=\"143.1387\">«attribute»</text><text fill=\"#000000\" font-family=\"sans-serif\" font-size=\"12\" lengthAdjust=\"spacingAndGlyphs\" textLength=\"86\" x=\"334\" y=\"157.1074\">m: MassValue</text></a></g><g id=\"E1.E2.E4.E5\"><a href=\"psysml:74b360a2-1898-4ab2-8a14-bf87d0706240\" target=\"_top\" title=\"psysml:74b360a2-1898-4ab2-8a14-bf87d0706240\" xlink:actuate=\"onRequest\" xlink:href=\"psysml:74b360a2-1898-4ab2-8a14-bf87d0706240\" xlink:show=\"new\" xlink:title=\"psysml:74b360a2-1898-4ab2-8a14-bf87d0706240\" xlink:type=\"simple\"><rect fill=\"#FFFFFF\" height=\"42.9375\" id=\"E5\" rx=\"10\" ry=\"10\" style=\"stroke: #383838; stroke-width: 1.5;\" width=\"97\" x=\"612.5\" y=\"127\"/><rect fill=\"#F8F8F8\" height=\"37.9375\" rx=\"10\" ry=\"10\" style=\"stroke: #F8F8F8; stroke-width: 1.5;\" width=\"97\" x=\"612.5\" y=\"127\"/><rect fill=\"#F8F8F8\" height=\"10\" style=\"stroke: #F8F8F8; stroke-width: 1.5;\" width=\"97\" x=\"612.5\" y=\"154.9375\"/><rect fill=\"none\" height=\"42.9375\" id=\"E5\" rx=\"10\" ry=\"10\" style=\"stroke: #383838; stroke-width: 1.5;\" width=\"97\" x=\"612.5\" y=\"127\"/><text fill=\"#000000\" font-family=\"sans-serif\" font-size=\"12\" font-style=\"italic\" lengthAdjust=\"spacingAndGlyphs\" textLength=\"69\" x=\"626.5\" y=\"143.1387\">«attribute»</text><text fill=\"#000000\" font-family=\"sans-serif\" font-size=\"12\" lengthAdjust=\"spacingAndGlyphs\" textLength=\"86\" x=\"618\" y=\"157.1074\">m: MassValue</text></a></g><g id=\"E1.E2.E6.E7\"><a href=\"psysml:21104dbc-631a-485d-ad70-3d921fae82b5\" target=\"_top\" title=\"psysml:21104dbc-631a-485d-ad70-3d921fae82b5\" xlink:actuate=\"onRequest\" xlink:href=\"psysml:21104dbc-631a-485d-ad70-3d921fae82b5\" xlink:show=\"new\" xlink:title=\"psysml:21104dbc-631a-485d-ad70-3d921fae82b5\" xlink:type=\"simple\"><rect fill=\"#FFFFFF\" height=\"42.9375\" id=\"E7\" rx=\"10\" ry=\"10\" style=\"stroke: #383838; stroke-width: 1.5;\" width=\"97\" x=\"460.5\" y=\"127\"/><rect fill=\"#F8F8F8\" height=\"37.9375\" rx=\"10\" ry=\"10\" style=\"stroke: #F8F8F8; stroke-width: 1.5;\" width=\"97\" x=\"460.5\" y=\"127\"/><rect fill=\"#F8F8F8\" height=\"10\" style=\"stroke: #F8F8F8; stroke-width: 1.5;\" width=\"97\" x=\"460.5\" y=\"154.9375\"/><rect fill=\"none\" height=\"42.9375\" id=\"E7\" rx=\"10\" ry=\"10\" style=\"stroke: #383838; stroke-width: 1.5;\" width=\"97\" x=\"460.5\" y=\"127\"/><text fill=\"#000000\" font-family=\"sans-serif\" font-size=\"12\" font-style=\"italic\" lengthAdjust=\"spacingAndGlyphs\" textLength=\"69\" x=\"474.5\" y=\"143.1387\">«attribute»</text><text fill=\"#000000\" font-family=\"sans-serif\" font-size=\"12\" lengthAdjust=\"spacingAndGlyphs\" textLength=\"86\" x=\"466\" y=\"157.1074\">m: MassValue</text></a></g><!--MD5=[a527178a039e2dc262576a81752eaa21]\n",
       "@startuml\r\n",
       "skinparam ranksep 8\r\n",
       "skinparam rectangle {\r\n",
       " backgroundColor<<block>> LightGreen\r\n",
       "}\r\n",
       "skinparam linetype polyline\r\n",
       "skinparam monochrome true\r\n",
       "skinparam classbackgroundcolor white\r\n",
       "skinparam shadowing false\r\n",
       "skinparam wrapWidth 300\r\n",
       "hide circle\r\n",
       "\r\n",
       "package \"CalculationExample\" as E1  [[psysml:279b101a-ad7c-43dd-8a07-da5fe5802bed ]]  {\r\n",
       "rec usage \"vehicle\" as E2  [[psysml:3dfd6fc9-2012-44ec-8abc-b458a2efa8ee ]] {\r\n",
       "rec usage \"m: MassValue\" as E3  <<(T,blue)attribute>> [[psysml:14ff17ee-41c8-45bd-b867-b50857ad993c ]] {\r\n",
       "}\r\n",
       "rec usage \"eng\" as E4  [[psysml:6f0477df-1982-4bef-bc4b-f3a5f459ca50 ]] {\r\n",
       "rec usage \"m: MassValue\" as E5  <<(T,blue)attribute>> [[psysml:74b360a2-1898-4ab2-8a14-bf87d0706240 ]] {\r\n",
       "}\r\n",
       "}\r\n",
       "rec usage \"trans\" as E6  [[psysml:39f29039-e97f-4cd7-a6e4-24de87290ff7 ]] {\r\n",
       "rec usage \"m: MassValue\" as E7  <<(T,blue)attribute>> [[psysml:21104dbc-631a-485d-ad70-3d921fae82b5 ]] {\r\n",
       "}\r\n",
       "}\r\n",
       "}\r\n",
       "def \"MassSum\" as E8  <<(T,blue)calculation def>> [[psysml:5c4fc454-9680-413f-bf1a-bdf2f6cc06d5 ]] \r\n",
       "def \"MassSum1\" as E9  <<(T,blue)calculation def>> [[psysml:83ce5d61-6771-4884-a571-d4d08f340672 ]] \r\n",
       "}\r\n",
       "@enduml\r\n",
       "\n",
       "PlantUML version 1.2020.13(Sat Jun 13 12:26:38 UTC 2020)\n",
       "(EPL source distribution)\n",
       "Java Runtime: OpenJDK Runtime Environment\n",
       "JVM: OpenJDK 64-Bit Server VM\n",
       "Default Encoding: UTF-8\n",
       "Language: en\n",
       "Country: null\n",
       "--></g></svg>"
      ]
     },
     "execution_count": 12,
     "metadata": {},
     "output_type": "execute_result"
    }
   ],
   "source": [
    "%viz --style=\"POLYLINE\" --view=\"Interconnection\" \"CalculationExample\""
   ]
  },
  {
   "cell_type": "code",
   "execution_count": 13,
   "id": "caring-polish",
   "metadata": {
    "execution": {
     "iopub.execute_input": "2021-03-26T13:05:05.089704Z",
     "iopub.status.busy": "2021-03-26T13:05:05.088911Z",
     "iopub.status.idle": "2021-03-26T13:05:05.130641Z",
     "shell.execute_reply": "2021-03-26T13:05:05.129420Z"
    }
   },
   "outputs": [
    {
     "data": {
      "image/svg+xml": [
       "<?xml version=\"1.0\" encoding=\"UTF-8\" standalone=\"no\"?><svg xmlns=\"http://www.w3.org/2000/svg\" xmlns:xlink=\"http://www.w3.org/1999/xlink\" contentScriptType=\"application/ecmascript\" contentStyleType=\"text/css\" height=\"162px\" preserveAspectRatio=\"none\" style=\"width:676px;height:162px;\" version=\"1.1\" viewBox=\"0 0 676 162\" width=\"676px\" zoomAndPan=\"magnify\"><defs/><g><!--MD5=[fbc87193dbaf4d95561dea2c320d4a47]\n",
       "cluster E1--><a href=\"psysml:5c4fc454-9680-413f-bf1a-bdf2f6cc06d5\" target=\"_top\" title=\"psysml:5c4fc454-9680-413f-bf1a-bdf2f6cc06d5\" xlink:actuate=\"onRequest\" xlink:href=\"psysml:5c4fc454-9680-413f-bf1a-bdf2f6cc06d5\" xlink:show=\"new\" xlink:title=\"psysml:5c4fc454-9680-413f-bf1a-bdf2f6cc06d5\" xlink:type=\"simple\"><rect fill=\"#FFFFFF\" height=\"87.72\" id=\"E1\" style=\"stroke: #383838; stroke-width: 1.5;\" width=\"128\" x=\"28\" y=\"42.0986\"/><rect fill=\"#F8F8F8\" height=\"37.9375\" style=\"stroke: #383838; stroke-width: 1.5;\" width=\"128\" x=\"28\" y=\"42.0986\"/><text fill=\"#000000\" font-family=\"sans-serif\" font-size=\"12\" font-style=\"italic\" lengthAdjust=\"spacingAndGlyphs\" textLength=\"106\" x=\"39\" y=\"58.2373\">«calculation def»</text><text fill=\"#000000\" font-family=\"sans-serif\" font-size=\"12\" lengthAdjust=\"spacingAndGlyphs\" textLength=\"59\" x=\"62.5\" y=\"72.2061\">MassSum</text></a><!--MD5=[14e3b0961a2654348d326746436168a1]\n",
       "cluster E6--><a href=\"psysml:20e483d0-a5a0-4777-bc7f-caa19ca2a7e0\" target=\"_top\" title=\"psysml:20e483d0-a5a0-4777-bc7f-caa19ca2a7e0\" xlink:actuate=\"onRequest\" xlink:href=\"psysml:20e483d0-a5a0-4777-bc7f-caa19ca2a7e0\" xlink:show=\"new\" xlink:title=\"psysml:20e483d0-a5a0-4777-bc7f-caa19ca2a7e0\" xlink:type=\"simple\"><rect fill=\"#FFFFFF\" height=\"87.72\" id=\"E6\" rx=\"10\" ry=\"10\" style=\"stroke: #383838; stroke-width: 1.5;\" width=\"101\" x=\"251.75\" y=\"42.0986\"/><rect fill=\"#F8F8F8\" height=\"37.9375\" rx=\"10\" ry=\"10\" style=\"stroke: #F8F8F8; stroke-width: 1.5;\" width=\"101\" x=\"251.75\" y=\"42.0986\"/><rect fill=\"#F8F8F8\" height=\"10\" style=\"stroke: #F8F8F8; stroke-width: 1.5;\" width=\"101\" x=\"251.75\" y=\"70.0361\"/><rect fill=\"none\" height=\"87.72\" id=\"E6\" rx=\"10\" ry=\"10\" style=\"stroke: #383838; stroke-width: 1.5;\" width=\"101\" x=\"251.75\" y=\"42.0986\"/><text fill=\"#000000\" font-family=\"sans-serif\" font-size=\"12\" font-style=\"italic\" lengthAdjust=\"spacingAndGlyphs\" textLength=\"82\" x=\"261.25\" y=\"58.2373\">«calculation»</text><text fill=\"#000000\" font-family=\"sans-serif\" font-size=\"12\" lengthAdjust=\"spacingAndGlyphs\" textLength=\"18\" x=\"293.25\" y=\"72.2061\">ms</text><line style=\"stroke: #383838; stroke-width: 1.0;\" x1=\"251.75\" x2=\"352.75\" y1=\"80.0361\" y2=\"80.0361\"/></a><!--MD5=[7f149f147074ac12df2cb0a7728a5fb0]\n",
       "cluster E9--><a href=\"psysml:83ce5d61-6771-4884-a571-d4d08f340672\" target=\"_top\" title=\"psysml:83ce5d61-6771-4884-a571-d4d08f340672\" xlink:actuate=\"onRequest\" xlink:href=\"psysml:83ce5d61-6771-4884-a571-d4d08f340672\" xlink:show=\"new\" xlink:title=\"psysml:83ce5d61-6771-4884-a571-d4d08f340672\" xlink:type=\"simple\"><rect fill=\"#FFFFFF\" height=\"87.72\" id=\"E9\" style=\"stroke: #383838; stroke-width: 1.5;\" width=\"127\" x=\"410.25\" y=\"42.0986\"/><rect fill=\"#F8F8F8\" height=\"37.9375\" style=\"stroke: #383838; stroke-width: 1.5;\" width=\"127\" x=\"410.25\" y=\"42.0986\"/><text fill=\"#000000\" font-family=\"sans-serif\" font-size=\"12\" font-style=\"italic\" lengthAdjust=\"spacingAndGlyphs\" textLength=\"106\" x=\"420.75\" y=\"58.2373\">«calculation def»</text><text fill=\"#000000\" font-family=\"sans-serif\" font-size=\"12\" lengthAdjust=\"spacingAndGlyphs\" textLength=\"67\" x=\"440.25\" y=\"72.2061\">MassSum1</text></a><!--MD5=[47bea60c1a0ac6c1143df232041969c0]\n",
       "cluster E12--><a href=\"psysml:3aa3b647-0159-4a96-9fb7-94bd79c90754\" target=\"_top\" title=\"psysml:3aa3b647-0159-4a96-9fb7-94bd79c90754\" xlink:actuate=\"onRequest\" xlink:href=\"psysml:3aa3b647-0159-4a96-9fb7-94bd79c90754\" xlink:show=\"new\" xlink:title=\"psysml:3aa3b647-0159-4a96-9fb7-94bd79c90754\" xlink:type=\"simple\"><rect fill=\"#FFFFFF\" height=\"87.72\" id=\"E12\" rx=\"10\" ry=\"10\" style=\"stroke: #383838; stroke-width: 1.5;\" width=\"138\" x=\"526\" y=\"42.0986\"/><rect fill=\"#F8F8F8\" height=\"37.9375\" rx=\"10\" ry=\"10\" style=\"stroke: #F8F8F8; stroke-width: 1.5;\" width=\"138\" x=\"526\" y=\"42.0986\"/><rect fill=\"#F8F8F8\" height=\"10\" style=\"stroke: #F8F8F8; stroke-width: 1.5;\" width=\"138\" x=\"526\" y=\"70.0361\"/><rect fill=\"none\" height=\"87.72\" id=\"E12\" rx=\"10\" ry=\"10\" style=\"stroke: #383838; stroke-width: 1.5;\" width=\"138\" x=\"526\" y=\"42.0986\"/><text fill=\"#000000\" font-family=\"sans-serif\" font-size=\"12\" font-style=\"italic\" lengthAdjust=\"spacingAndGlyphs\" textLength=\"82\" x=\"554\" y=\"58.2373\">«calculation»</text><text fill=\"#000000\" font-family=\"sans-serif\" font-size=\"12\" lengthAdjust=\"spacingAndGlyphs\" textLength=\"26\" x=\"582\" y=\"72.2061\">ms1</text><line style=\"stroke: #383838; stroke-width: 1.0;\" x1=\"526\" x2=\"664\" y1=\"80.0361\" y2=\"80.0361\"/></a><text fill=\"#000000\" font-family=\"sans-serif\" font-size=\"14\" lengthAdjust=\"spacingAndGlyphs\" textLength=\"80\" x=\"6\" y=\"20.7969\">partMasses</text><rect fill=\"#383838\" height=\"12\" style=\"stroke: #F8F8F8; stroke-width: 1.5;\" width=\"12\" x=\"40\" y=\"36.0986\"/><text fill=\"#000000\" font-family=\"sans-serif\" font-size=\"14\" lengthAdjust=\"spacingAndGlyphs\" textLength=\"66\" x=\"54\" y=\"148.8138\">totalMass</text><rect fill=\"#383838\" height=\"12\" style=\"stroke: #F8F8F8; stroke-width: 1.5;\" width=\"12\" x=\"81\" y=\"123.8186\"/><text fill=\"#000000\" font-family=\"sans-serif\" font-size=\"14\" lengthAdjust=\"spacingAndGlyphs\" textLength=\"75\" x=\"100.5\" y=\"20.7969\">$collection</text><rect fill=\"#383838\" height=\"12\" style=\"stroke: #F8F8F8; stroke-width: 1.5;\" width=\"12\" x=\"132\" y=\"36.0986\"/><text fill=\"#000000\" font-family=\"sans-serif\" font-size=\"14\" lengthAdjust=\"spacingAndGlyphs\" textLength=\"48\" x=\"110\" y=\"148.8138\">$result</text><rect fill=\"#383838\" height=\"12\" style=\"stroke: #F8F8F8; stroke-width: 1.5;\" width=\"12\" x=\"128\" y=\"123.8186\"/><text fill=\"#000000\" font-family=\"sans-serif\" font-size=\"14\" lengthAdjust=\"spacingAndGlyphs\" textLength=\"80\" x=\"235\" y=\"20.7969\">partMasses</text><rect fill=\"#383838\" height=\"12\" style=\"stroke: #F8F8F8; stroke-width: 1.5;\" width=\"12\" x=\"269\" y=\"36.0986\"/><text fill=\"#000000\" font-family=\"sans-serif\" font-size=\"14\" lengthAdjust=\"spacingAndGlyphs\" textLength=\"66\" x=\"238\" y=\"148.8138\">totalMass</text><rect fill=\"#383838\" height=\"12\" style=\"stroke: #F8F8F8; stroke-width: 1.5;\" width=\"12\" x=\"265\" y=\"123.8186\"/><text fill=\"#000000\" font-family=\"sans-serif\" font-size=\"14\" lengthAdjust=\"spacingAndGlyphs\" textLength=\"80\" x=\"395\" y=\"20.7969\">partMasses</text><rect fill=\"#383838\" height=\"12\" style=\"stroke: #F8F8F8; stroke-width: 1.5;\" width=\"12\" x=\"429\" y=\"36.0986\"/><text fill=\"#000000\" font-family=\"sans-serif\" font-size=\"14\" lengthAdjust=\"spacingAndGlyphs\" textLength=\"66\" x=\"398\" y=\"148.8138\">totalMass</text><rect fill=\"#383838\" height=\"12\" style=\"stroke: #F8F8F8; stroke-width: 1.5;\" width=\"12\" x=\"425\" y=\"123.8186\"/><text fill=\"#000000\" font-family=\"sans-serif\" font-size=\"14\" lengthAdjust=\"spacingAndGlyphs\" textLength=\"80\" x=\"555\" y=\"20.7969\">partMasses</text><rect fill=\"#383838\" height=\"12\" style=\"stroke: #F8F8F8; stroke-width: 1.5;\" width=\"12\" x=\"589\" y=\"36.0986\"/><text fill=\"#000000\" font-family=\"sans-serif\" font-size=\"14\" lengthAdjust=\"spacingAndGlyphs\" textLength=\"66\" x=\"562\" y=\"148.8138\">totalMass</text><rect fill=\"#383838\" height=\"12\" style=\"stroke: #F8F8F8; stroke-width: 1.5;\" width=\"12\" x=\"589\" y=\"123.8186\"/><!--MD5=[244befe0ca66b97a7a7f82f2cf1273cc]\n",
       "@startuml\r\n",
       "skinparam ranksep 8\r\n",
       "skinparam linetype polyline\r\n",
       "skinparam monochrome true\r\n",
       "skinparam classbackgroundcolor white\r\n",
       "skinparam shadowing false\r\n",
       "skinparam wrapWidth 300\r\n",
       "hide circle\r\n",
       "\r\n",
       "rec def \"MassSum\" as E1  <<(T,blue)calculation def>> [[psysml:5c4fc454-9680-413f-bf1a-bdf2f6cc06d5 ]] {\r\n",
       "portin \"partMasses\" as E2  [[psysml:57eaefe4-a57c-41fa-a944-033dc3e4df4e ]] \r\n",
       "portout \"totalMass\" as E3  [[psysml:35e88aae-ee13-4c55-bc31-272528607619 ]] \r\n",
       "portin \"$collection\" as E4  [[psysml:0e9b074a-52f0-467d-9ed6-1e247226bb71 ]] \r\n",
       "portout \"$result\" as E5  [[psysml:66242f20-bf9b-4b2d-900e-be3ce4c10d7e ]] \r\n",
       "}\r\n",
       "\r\n",
       "rec usage \"ms\" as E6  <<(T,blue)calculation>> [[psysml:20e483d0-a5a0-4777-bc7f-caa19ca2a7e0 ]] {\r\n",
       "portin \"partMasses\" as E7  [[psysml:61916027-7c4f-412f-9b89-438222569e79 ]] \r\n",
       "portout \"totalMass\" as E8  [[psysml:1b43c6aa-09b4-4e05-b4e4-873331fee78b ]] \r\n",
       "}\r\n",
       "\r\n",
       "rec def \"MassSum1\" as E9  <<(T,blue)calculation def>> [[psysml:83ce5d61-6771-4884-a571-d4d08f340672 ]] {\r\n",
       "portin \"partMasses\" as E10  [[psysml:0924d9a5-fc11-4345-935d-e5ff08c51a6a ]] \r\n",
       "portout \"totalMass\" as E11  [[psysml:b7c67a6a-5db6-4529-b3d9-f9fb47dc5f0c ]] \r\n",
       "}\r\n",
       "\r\n",
       "rec usage \"ms1\" as E12  <<(T,blue)calculation>> [[psysml:3aa3b647-0159-4a96-9fb7-94bd79c90754 ]] {\r\n",
       "portin \"partMasses\" as E13  [[psysml:d0b5b203-3fa8-4960-85f8-af6511da8b47 ]] \r\n",
       "portout \"totalMass\" as E14  [[psysml:7deb5e16-d6a2-4c83-9234-29097012e327 ]] \r\n",
       "}\r\n",
       "\r\n",
       "@enduml\r\n",
       "\n",
       "PlantUML version 1.2020.13(Sat Jun 13 12:26:38 UTC 2020)\n",
       "(EPL source distribution)\n",
       "Java Runtime: OpenJDK Runtime Environment\n",
       "JVM: OpenJDK 64-Bit Server VM\n",
       "Default Encoding: UTF-8\n",
       "Language: en\n",
       "Country: null\n",
       "--></g></svg>"
      ]
     },
     "execution_count": 13,
     "metadata": {},
     "output_type": "execute_result"
    }
   ],
   "source": [
    "%viz --style=\"POLYLINE\" --view=\"Action\" \"CalculationExample\""
   ]
  },
  {
   "cell_type": "code",
   "execution_count": 14,
   "id": "still-insured",
   "metadata": {
    "execution": {
     "iopub.execute_input": "2021-03-26T13:05:05.181965Z",
     "iopub.status.busy": "2021-03-26T13:05:05.181482Z",
     "iopub.status.idle": "2021-03-26T13:05:05.286231Z",
     "shell.execute_reply": "2021-03-26T13:05:05.286615Z"
    }
   },
   "outputs": [
    {
     "data": {
      "image/svg+xml": [
       "<?xml version=\"1.0\" encoding=\"UTF-8\" standalone=\"no\"?><svg xmlns=\"http://www.w3.org/2000/svg\" xmlns:xlink=\"http://www.w3.org/1999/xlink\" contentScriptType=\"application/ecmascript\" contentStyleType=\"text/css\" height=\"293px\" preserveAspectRatio=\"none\" style=\"width:607px;height:293px;\" version=\"1.1\" viewBox=\"0 0 607 293\" width=\"607px\" zoomAndPan=\"magnify\"><defs/><g><!--MD5=[fbc87193dbaf4d95561dea2c320d4a47]\n",
       "cluster E1--><a href=\"psysml:279b101a-ad7c-43dd-8a07-da5fe5802bed\" target=\"_top\" title=\"psysml:279b101a-ad7c-43dd-8a07-da5fe5802bed\" xlink:actuate=\"onRequest\" xlink:href=\"psysml:279b101a-ad7c-43dd-8a07-da5fe5802bed\" xlink:show=\"new\" xlink:title=\"psysml:279b101a-ad7c-43dd-8a07-da5fe5802bed\" xlink:type=\"simple\"><polygon fill=\"#FFFFFF\" points=\"16,6,173,6,180,28.2969,585,28.2969,585,281,16,281,16,6\" style=\"stroke: #000000; stroke-width: 1.5;\"/><line style=\"stroke: #000000; stroke-width: 1.5;\" x1=\"16\" x2=\"180\" y1=\"28.2969\" y2=\"28.2969\"/><text fill=\"#000000\" font-family=\"sans-serif\" font-size=\"14\" font-weight=\"bold\" lengthAdjust=\"spacingAndGlyphs\" textLength=\"151\" x=\"20\" y=\"20.9951\">CalculationExample</text></a><!--MD5=[b4997ac47864f28c2f74865a473b2911]\n",
       "class E2--><a href=\"psysml:3dfd6fc9-2012-44ec-8abc-b458a2efa8ee\" target=\"_top\" title=\"psysml:3dfd6fc9-2012-44ec-8abc-b458a2efa8ee\" xlink:actuate=\"onRequest\" xlink:href=\"psysml:3dfd6fc9-2012-44ec-8abc-b458a2efa8ee\" xlink:show=\"new\" xlink:title=\"psysml:3dfd6fc9-2012-44ec-8abc-b458a2efa8ee\" xlink:type=\"simple\"><rect fill=\"#FFFFFF\" height=\"75.5469\" id=\"E2\" rx=\"10\" ry=\"10\" style=\"stroke: #383838; stroke-width: 1.5;\" width=\"92\" x=\"477\" y=\"47\"/><text fill=\"#000000\" font-family=\"sans-serif\" font-size=\"12\" font-style=\"italic\" lengthAdjust=\"spacingAndGlyphs\" textLength=\"40\" x=\"503\" y=\"63.1387\">«part»</text><text fill=\"#000000\" font-family=\"sans-serif\" font-size=\"12\" lengthAdjust=\"spacingAndGlyphs\" textLength=\"43\" x=\"501.5\" y=\"77.1074\">vehicle</text><line style=\"stroke: #383838; stroke-width: 1.5;\" x1=\"478\" x2=\"568\" y1=\"84.9375\" y2=\"84.9375\"/><text fill=\"#000000\" font-family=\"sans-serif\" font-size=\"11\" lengthAdjust=\"spacingAndGlyphs\" textLength=\"80\" x=\"483\" y=\"115.9526\">m: MassValue</text><line style=\"stroke: #383838; stroke-width: 1.0;\" x1=\"478\" x2=\"495.5\" y1=\"99.3398\" y2=\"99.3398\"/><text fill=\"#000000\" font-family=\"sans-serif\" font-size=\"11\" lengthAdjust=\"spacingAndGlyphs\" textLength=\"55\" x=\"495.5\" y=\"102.6479\">attributes</text><line style=\"stroke: #383838; stroke-width: 1.0;\" x1=\"550.5\" x2=\"568\" y1=\"99.3398\" y2=\"99.3398\"/></a><!--MD5=[09b614a08d8cba4a07c9adeb5e0fee81]\n",
       "class E3--><a href=\"psysml:6f0477df-1982-4bef-bc4b-f3a5f459ca50\" target=\"_top\" title=\"psysml:6f0477df-1982-4bef-bc4b-f3a5f459ca50\" xlink:actuate=\"onRequest\" xlink:href=\"psysml:6f0477df-1982-4bef-bc4b-f3a5f459ca50\" xlink:show=\"new\" xlink:title=\"psysml:6f0477df-1982-4bef-bc4b-f3a5f459ca50\" xlink:type=\"simple\"><rect fill=\"#FFFFFF\" height=\"75.5469\" id=\"E3\" rx=\"10\" ry=\"10\" style=\"stroke: #383838; stroke-width: 1.5;\" width=\"92\" x=\"350\" y=\"189\"/><text fill=\"#000000\" font-family=\"sans-serif\" font-size=\"12\" font-style=\"italic\" lengthAdjust=\"spacingAndGlyphs\" textLength=\"40\" x=\"376\" y=\"205.1387\">«part»</text><text fill=\"#000000\" font-family=\"sans-serif\" font-size=\"12\" lengthAdjust=\"spacingAndGlyphs\" textLength=\"24\" x=\"384\" y=\"219.1074\">eng</text><line style=\"stroke: #383838; stroke-width: 1.5;\" x1=\"351\" x2=\"441\" y1=\"226.9375\" y2=\"226.9375\"/><text fill=\"#000000\" font-family=\"sans-serif\" font-size=\"11\" lengthAdjust=\"spacingAndGlyphs\" textLength=\"80\" x=\"356\" y=\"257.9526\">m: MassValue</text><line style=\"stroke: #383838; stroke-width: 1.0;\" x1=\"351\" x2=\"368.5\" y1=\"241.3398\" y2=\"241.3398\"/><text fill=\"#000000\" font-family=\"sans-serif\" font-size=\"11\" lengthAdjust=\"spacingAndGlyphs\" textLength=\"55\" x=\"368.5\" y=\"244.6479\">attributes</text><line style=\"stroke: #383838; stroke-width: 1.0;\" x1=\"423.5\" x2=\"441\" y1=\"241.3398\" y2=\"241.3398\"/></a><!--MD5=[ebbe1d658d1005bcc118a6aa81145e00]\n",
       "class E4--><a href=\"psysml:39f29039-e97f-4cd7-a6e4-24de87290ff7\" target=\"_top\" title=\"psysml:39f29039-e97f-4cd7-a6e4-24de87290ff7\" xlink:actuate=\"onRequest\" xlink:href=\"psysml:39f29039-e97f-4cd7-a6e4-24de87290ff7\" xlink:show=\"new\" xlink:title=\"psysml:39f29039-e97f-4cd7-a6e4-24de87290ff7\" xlink:type=\"simple\"><rect fill=\"#FFFFFF\" height=\"75.5469\" id=\"E4\" rx=\"10\" ry=\"10\" style=\"stroke: #383838; stroke-width: 1.5;\" width=\"92\" x=\"477\" y=\"189\"/><text fill=\"#000000\" font-family=\"sans-serif\" font-size=\"12\" font-style=\"italic\" lengthAdjust=\"spacingAndGlyphs\" textLength=\"40\" x=\"503\" y=\"205.1387\">«part»</text><text fill=\"#000000\" font-family=\"sans-serif\" font-size=\"12\" lengthAdjust=\"spacingAndGlyphs\" textLength=\"33\" x=\"506.5\" y=\"219.1074\">trans</text><line style=\"stroke: #383838; stroke-width: 1.5;\" x1=\"478\" x2=\"568\" y1=\"226.9375\" y2=\"226.9375\"/><text fill=\"#000000\" font-family=\"sans-serif\" font-size=\"11\" lengthAdjust=\"spacingAndGlyphs\" textLength=\"80\" x=\"483\" y=\"257.9526\">m: MassValue</text><line style=\"stroke: #383838; stroke-width: 1.0;\" x1=\"478\" x2=\"495.5\" y1=\"241.3398\" y2=\"241.3398\"/><text fill=\"#000000\" font-family=\"sans-serif\" font-size=\"11\" lengthAdjust=\"spacingAndGlyphs\" textLength=\"55\" x=\"495.5\" y=\"244.6479\">attributes</text><line style=\"stroke: #383838; stroke-width: 1.0;\" x1=\"550.5\" x2=\"568\" y1=\"241.3398\" y2=\"241.3398\"/></a><!--MD5=[270fce915f116d4de14055a7c1d9a0f3]\n",
       "class E5--><a href=\"psysml:5c4fc454-9680-413f-bf1a-bdf2f6cc06d5\" target=\"_top\" title=\"psysml:5c4fc454-9680-413f-bf1a-bdf2f6cc06d5\" xlink:actuate=\"onRequest\" xlink:href=\"psysml:5c4fc454-9680-413f-bf1a-bdf2f6cc06d5\" xlink:show=\"new\" xlink:title=\"psysml:5c4fc454-9680-413f-bf1a-bdf2f6cc06d5\" xlink:type=\"simple\"><rect fill=\"#FFFFFF\" height=\"45.9375\" id=\"E5\" style=\"stroke: #383838; stroke-width: 1.5;\" width=\"108\" x=\"120\" y=\"204\"/><text fill=\"#000000\" font-family=\"sans-serif\" font-size=\"12\" font-style=\"italic\" lengthAdjust=\"spacingAndGlyphs\" textLength=\"106\" x=\"121\" y=\"220.1387\">«calculation def»</text><text fill=\"#000000\" font-family=\"sans-serif\" font-size=\"12\" lengthAdjust=\"spacingAndGlyphs\" textLength=\"59\" x=\"144.5\" y=\"234.1074\">MassSum</text><line style=\"stroke: #383838; stroke-width: 1.5;\" x1=\"121\" x2=\"227\" y1=\"241.9375\" y2=\"241.9375\"/></a><!--MD5=[60a26617385b1d2d0262a64233df1f8d]\n",
       "class E6--><a href=\"psysml:20e483d0-a5a0-4777-bc7f-caa19ca2a7e0\" target=\"_top\" title=\"psysml:20e483d0-a5a0-4777-bc7f-caa19ca2a7e0\" xlink:actuate=\"onRequest\" xlink:href=\"psysml:20e483d0-a5a0-4777-bc7f-caa19ca2a7e0\" xlink:show=\"new\" xlink:title=\"psysml:20e483d0-a5a0-4777-bc7f-caa19ca2a7e0\" xlink:type=\"simple\"><rect fill=\"#FFFFFF\" height=\"45.9375\" id=\"E6\" rx=\"10\" ry=\"10\" style=\"stroke: #383838; stroke-width: 1.5;\" width=\"91\" x=\"350.5\" y=\"62\"/><text fill=\"#000000\" font-family=\"sans-serif\" font-size=\"12\" font-style=\"italic\" lengthAdjust=\"spacingAndGlyphs\" textLength=\"82\" x=\"355\" y=\"78.1387\">«calculation»</text><text fill=\"#000000\" font-family=\"sans-serif\" font-size=\"12\" lengthAdjust=\"spacingAndGlyphs\" textLength=\"85\" x=\"353.5\" y=\"92.1074\">ms: MassSum</text><line style=\"stroke: #383838; stroke-width: 1.5;\" x1=\"351.5\" x2=\"440.5\" y1=\"99.9375\" y2=\"99.9375\"/></a><!--MD5=[2156ba9850f5573cc1fc38a6a4b2f02b]\n",
       "class E7--><a href=\"psysml:83ce5d61-6771-4884-a571-d4d08f340672\" target=\"_top\" title=\"psysml:83ce5d61-6771-4884-a571-d4d08f340672\" xlink:actuate=\"onRequest\" xlink:href=\"psysml:83ce5d61-6771-4884-a571-d4d08f340672\" xlink:show=\"new\" xlink:title=\"psysml:83ce5d61-6771-4884-a571-d4d08f340672\" xlink:type=\"simple\"><rect fill=\"#FFFFFF\" height=\"88.3516\" id=\"E7\" style=\"stroke: #383838; stroke-width: 1.5;\" width=\"148\" x=\"167\" y=\"41\"/><text fill=\"#000000\" font-family=\"sans-serif\" font-size=\"12\" font-style=\"italic\" lengthAdjust=\"spacingAndGlyphs\" textLength=\"106\" x=\"188\" y=\"57.1387\">«calculation def»</text><text fill=\"#000000\" font-family=\"sans-serif\" font-size=\"12\" lengthAdjust=\"spacingAndGlyphs\" textLength=\"67\" x=\"207.5\" y=\"71.1074\">MassSum1</text><line style=\"stroke: #383838; stroke-width: 1.5;\" x1=\"168\" x2=\"314\" y1=\"78.9375\" y2=\"78.9375\"/><text fill=\"#000000\" font-family=\"sans-serif\" font-size=\"11\" lengthAdjust=\"spacingAndGlyphs\" textLength=\"136\" x=\"173\" y=\"109.9526\">partMasses: MassValue</text><text fill=\"#000000\" font-family=\"sans-serif\" font-size=\"11\" lengthAdjust=\"spacingAndGlyphs\" textLength=\"124\" x=\"173\" y=\"122.7573\">totalMass: MassValue</text><line style=\"stroke: #383838; stroke-width: 1.0;\" x1=\"168\" x2=\"213.5\" y1=\"93.3398\" y2=\"93.3398\"/><text fill=\"#000000\" font-family=\"sans-serif\" font-size=\"11\" lengthAdjust=\"spacingAndGlyphs\" textLength=\"55\" x=\"213.5\" y=\"96.6479\">attributes</text><line style=\"stroke: #383838; stroke-width: 1.0;\" x1=\"268.5\" x2=\"314\" y1=\"93.3398\" y2=\"93.3398\"/></a><!--MD5=[b9389687b975829384b498ac4b7476b2]\n",
       "class E8--><a href=\"psysml:3aa3b647-0159-4a96-9fb7-94bd79c90754\" target=\"_top\" title=\"psysml:3aa3b647-0159-4a96-9fb7-94bd79c90754\" xlink:actuate=\"onRequest\" xlink:href=\"psysml:3aa3b647-0159-4a96-9fb7-94bd79c90754\" xlink:show=\"new\" xlink:title=\"psysml:3aa3b647-0159-4a96-9fb7-94bd79c90754\" xlink:type=\"simple\"><rect fill=\"#FFFFFF\" height=\"88.3516\" id=\"E8\" rx=\"10\" ry=\"10\" style=\"stroke: #383838; stroke-width: 1.5;\" width=\"99\" x=\"32.5\" y=\"41\"/><text fill=\"#000000\" font-family=\"sans-serif\" font-size=\"12\" font-style=\"italic\" lengthAdjust=\"spacingAndGlyphs\" textLength=\"82\" x=\"41\" y=\"57.1387\">«calculation»</text><text fill=\"#000000\" font-family=\"sans-serif\" font-size=\"12\" lengthAdjust=\"spacingAndGlyphs\" textLength=\"93\" x=\"35.5\" y=\"71.1074\">ms1: MassSum</text><line style=\"stroke: #383838; stroke-width: 1.5;\" x1=\"33.5\" x2=\"130.5\" y1=\"78.9375\" y2=\"78.9375\"/><text fill=\"#000000\" font-family=\"sans-serif\" font-size=\"11\" lengthAdjust=\"spacingAndGlyphs\" textLength=\"67\" x=\"38.5\" y=\"109.9526\">partMasses</text><text fill=\"#000000\" font-family=\"sans-serif\" font-size=\"11\" lengthAdjust=\"spacingAndGlyphs\" textLength=\"55\" x=\"38.5\" y=\"122.7573\">totalMass</text><line style=\"stroke: #383838; stroke-width: 1.0;\" x1=\"33.5\" x2=\"54.5\" y1=\"93.3398\" y2=\"93.3398\"/><text fill=\"#000000\" font-family=\"sans-serif\" font-size=\"11\" lengthAdjust=\"spacingAndGlyphs\" textLength=\"55\" x=\"54.5\" y=\"96.6479\">attributes</text><line style=\"stroke: #383838; stroke-width: 1.0;\" x1=\"109.5\" x2=\"130.5\" y1=\"93.3398\" y2=\"93.3398\"/></a><!--MD5=[209b3feb70ccb6233bfe1053d122c12c]\n",
       "reverse link E2 to E3--><a href=\"psysml:6f0477df-1982-4bef-bc4b-f3a5f459ca50\" target=\"_top\" title=\"psysml:6f0477df-1982-4bef-bc4b-f3a5f459ca50\" xlink:actuate=\"onRequest\" xlink:href=\"psysml:6f0477df-1982-4bef-bc4b-f3a5f459ca50\" xlink:show=\"new\" xlink:title=\"psysml:6f0477df-1982-4bef-bc4b-f3a5f459ca50\" xlink:type=\"simple\"><path d=\"M480.41,132.95 C463.95,151.1 445.38,171.57 429.86,188.68 \" fill=\"none\" id=\"E2&lt;-E3\" style=\"stroke: #383838; stroke-width: 1.0;\"/><polygon fill=\"#383838\" points=\"489.3,123.15,482.3052,124.9031,481.2332,132.0341,488.2279,130.281,489.3,123.15\" style=\"stroke: #383838; stroke-width: 1.0;\"/></a><!--MD5=[9618e71518536f8baf3342ff6fdab317]\n",
       "reverse link E2 to E4--><a href=\"psysml:39f29039-e97f-4cd7-a6e4-24de87290ff7\" target=\"_top\" title=\"psysml:39f29039-e97f-4cd7-a6e4-24de87290ff7\" xlink:actuate=\"onRequest\" xlink:href=\"psysml:39f29039-e97f-4cd7-a6e4-24de87290ff7\" xlink:show=\"new\" xlink:title=\"psysml:39f29039-e97f-4cd7-a6e4-24de87290ff7\" xlink:type=\"simple\"><path d=\"M523,136.25 C523,153.55 523,172.6 523,188.68 \" fill=\"none\" id=\"E2&lt;-E4\" style=\"stroke: #383838; stroke-width: 1.0;\"/><polygon fill=\"#383838\" points=\"523,123.15,519,129.15,523,135.15,527,129.15,523,123.15\" style=\"stroke: #383838; stroke-width: 1.0;\"/></a><!--MD5=[25b190c987b1e74e5126d372c5a73af1]\n",
       "link E6 to E5--><a href=\"psysml:087e1e8b-9f76-403f-b1f3-15ea1e5b2649\" target=\"_top\" title=\"psysml:087e1e8b-9f76-403f-b1f3-15ea1e5b2649\" xlink:actuate=\"onRequest\" xlink:href=\"psysml:087e1e8b-9f76-403f-b1f3-15ea1e5b2649\" xlink:show=\"new\" xlink:title=\"psysml:087e1e8b-9f76-403f-b1f3-15ea1e5b2649\" xlink:type=\"simple\"><path d=\"M363.76,108 C348.26,118.58 333,129 333,129 C333,129 273.5,165.3 227.3,193.49 \" fill=\"none\" id=\"E6-&gt;E5\" style=\"stroke: #383838; stroke-width: 1.0;\"/><polygon fill=\"#FFFFFF\" points=\"210.08,203.99,222.6546,188.1193,229.9456,200.0709,210.08,203.99\" style=\"stroke: #383838; stroke-width: 1.0;\"/><ellipse cx=\"228.5622\" cy=\"186.8582\" fill=\"#383838\" rx=\"2\" ry=\"2\" style=\"stroke: #383838; stroke-width: 1.0;\"/><ellipse cx=\"233.77\" cy=\"195.395\" fill=\"#383838\" rx=\"2\" ry=\"2\" style=\"stroke: #383838; stroke-width: 1.0;\"/></a><!--MD5=[1ccb2481ffa92f8d51a74ee30c51832a]\n",
       "link E8 to E5--><a href=\"psysml:a6dd9655-fa53-42fd-8b92-db635a2ece9b\" target=\"_top\" title=\"psysml:a6dd9655-fa53-42fd-8b92-db635a2ece9b\" xlink:actuate=\"onRequest\" xlink:href=\"psysml:a6dd9655-fa53-42fd-8b92-db635a2ece9b\" xlink:show=\"new\" xlink:title=\"psysml:a6dd9655-fa53-42fd-8b92-db635a2ece9b\" xlink:type=\"simple\"><path d=\"M110.35,129.15 C122.49,147.61 136.55,169.01 148.37,186.99 \" fill=\"none\" id=\"E8-&gt;E5\" style=\"stroke: #383838; stroke-width: 1.0;\"/><polygon fill=\"#FFFFFF\" points=\"159.48,203.91,143.1947,191.8772,154.8939,184.1877,159.48,203.91\" style=\"stroke: #383838; stroke-width: 1.0;\"/><ellipse cx=\"141.7353\" cy=\"186.0155\" fill=\"#383838\" rx=\"2\" ry=\"2\" style=\"stroke: #383838; stroke-width: 1.0;\"/><ellipse cx=\"150.0918\" cy=\"180.523\" fill=\"#383838\" rx=\"2\" ry=\"2\" style=\"stroke: #383838; stroke-width: 1.0;\"/></a><!--MD5=[878ab0f046ed24a15a4e1c5e7e8f16a7]\n",
       "@startuml\r\n",
       "skinparam linetype polyline\r\n",
       "skinparam monochrome true\r\n",
       "skinparam classbackgroundcolor white\r\n",
       "skinparam shadowing false\r\n",
       "skinparam wrapWidth 300\r\n",
       "hide circle\r\n",
       "\r\n",
       "package \"CalculationExample\" as E1  [[psysml:279b101a-ad7c-43dd-8a07-da5fe5802bed ]]  {\r\n",
       "comp usage \"vehicle\" as E2  <<(T,blue)part>> [[psysml:3dfd6fc9-2012-44ec-8abc-b458a2efa8ee ]] {\r\n",
       "- - attributes - -\r\n",
       "m: MassValue\r\n",
       "}\r\n",
       "comp usage \"eng\" as E3  <<(T,blue)part>> [[psysml:6f0477df-1982-4bef-bc4b-f3a5f459ca50 ]] {\r\n",
       "- - attributes - -\r\n",
       "m: MassValue\r\n",
       "}\r\n",
       "comp usage \"trans\" as E4  <<(T,blue)part>> [[psysml:39f29039-e97f-4cd7-a6e4-24de87290ff7 ]] {\r\n",
       "- - attributes - -\r\n",
       "m: MassValue\r\n",
       "}\r\n",
       "comp def \"MassSum\" as E5  <<(T,blue)calculation def>> [[psysml:5c4fc454-9680-413f-bf1a-bdf2f6cc06d5 ]] {\r\n",
       "}\r\n",
       "comp usage \"ms: MassSum\" as E6  <<(T,blue)calculation>> [[psysml:20e483d0-a5a0-4777-bc7f-caa19ca2a7e0 ]] {\r\n",
       "}\r\n",
       "comp def \"MassSum1\" as E7  <<(T,blue)calculation def>> [[psysml:83ce5d61-6771-4884-a571-d4d08f340672 ]] {\r\n",
       "- - attributes - -\r\n",
       "partMasses: MassValue\r\n",
       "totalMass: MassValue\r\n",
       "}\r\n",
       "comp usage \"ms1: MassSum\" as E8  <<(T,blue)calculation>> [[psysml:3aa3b647-0159-4a96-9fb7-94bd79c90754 ]] {\r\n",
       "- - attributes - -\r\n",
       "partMasses\r\n",
       "totalMass\r\n",
       "}\r\n",
       "E2 *- - E3 [[psysml:6f0477df-1982-4bef-bc4b-f3a5f459ca50 ]] \r\n",
       "E2 *- - E4 [[psysml:39f29039-e97f-4cd7-a6e4-24de87290ff7 ]] \r\n",
       "E6 - -:|> E5 [[psysml:087e1e8b-9f76-403f-b1f3-15ea1e5b2649 ]] \r\n",
       "E8 - -:|> E5 [[psysml:a6dd9655-fa53-42fd-8b92-db635a2ece9b ]] \r\n",
       "}\r\n",
       "@enduml\r\n",
       "\n",
       "PlantUML version 1.2020.13(Sat Jun 13 12:26:38 UTC 2020)\n",
       "(EPL source distribution)\n",
       "Java Runtime: OpenJDK Runtime Environment\n",
       "JVM: OpenJDK 64-Bit Server VM\n",
       "Default Encoding: UTF-8\n",
       "Language: en\n",
       "Country: null\n",
       "--></g></svg>"
      ]
     },
     "execution_count": 14,
     "metadata": {},
     "output_type": "execute_result"
    }
   ],
   "source": [
    "%viz --style=\"POLYLINE\" --view=\"Sequence\" \"CalculationExample\""
   ]
  },
  {
   "cell_type": "code",
   "execution_count": 15,
   "id": "middle-playing",
   "metadata": {
    "execution": {
     "iopub.execute_input": "2021-03-26T13:05:05.337796Z",
     "iopub.status.busy": "2021-03-26T13:05:05.337358Z",
     "iopub.status.idle": "2021-03-26T13:05:05.421226Z",
     "shell.execute_reply": "2021-03-26T13:05:05.420901Z"
    }
   },
   "outputs": [
    {
     "data": {
      "image/svg+xml": [
       "<?xml version=\"1.0\" encoding=\"UTF-8\" standalone=\"no\"?><svg xmlns=\"http://www.w3.org/2000/svg\" xmlns:xlink=\"http://www.w3.org/1999/xlink\" contentScriptType=\"application/ecmascript\" contentStyleType=\"text/css\" height=\"441px\" preserveAspectRatio=\"none\" style=\"width:788px;height:441px;\" version=\"1.1\" viewBox=\"0 0 788 441\" width=\"788px\" zoomAndPan=\"magnify\"><defs/><g><!--MD5=[fbc87193dbaf4d95561dea2c320d4a47]\n",
       "cluster E1--><a href=\"psysml:279b101a-ad7c-43dd-8a07-da5fe5802bed\" target=\"_top\" title=\"psysml:279b101a-ad7c-43dd-8a07-da5fe5802bed\" xlink:actuate=\"onRequest\" xlink:href=\"psysml:279b101a-ad7c-43dd-8a07-da5fe5802bed\" xlink:show=\"new\" xlink:title=\"psysml:279b101a-ad7c-43dd-8a07-da5fe5802bed\" xlink:type=\"simple\"><polygon fill=\"#FFFFFF\" points=\"16,6,173,6,180,28.2969,766,28.2969,766,429.72,16,429.72,16,6\" style=\"stroke: #000000; stroke-width: 1.5;\"/><line style=\"stroke: #000000; stroke-width: 1.5;\" x1=\"16\" x2=\"180\" y1=\"28.2969\" y2=\"28.2969\"/><text fill=\"#000000\" font-family=\"sans-serif\" font-size=\"14\" font-weight=\"bold\" lengthAdjust=\"spacingAndGlyphs\" textLength=\"151\" x=\"20\" y=\"20.9951\">CalculationExample</text></a><!--MD5=[de5ec2e2e8f62f467e546659f5068c88]\n",
       "cluster E5--><a href=\"psysml:5c4fc454-9680-413f-bf1a-bdf2f6cc06d5\" target=\"_top\" title=\"psysml:5c4fc454-9680-413f-bf1a-bdf2f6cc06d5\" xlink:actuate=\"onRequest\" xlink:href=\"psysml:5c4fc454-9680-413f-bf1a-bdf2f6cc06d5\" xlink:show=\"new\" xlink:title=\"psysml:5c4fc454-9680-413f-bf1a-bdf2f6cc06d5\" xlink:type=\"simple\"><rect fill=\"#FFFFFF\" height=\"306.72\" id=\"E5\" style=\"stroke: #383838; stroke-width: 1.5;\" width=\"128\" x=\"155\" y=\"85\"/><rect fill=\"#F8F8F8\" height=\"37.9375\" style=\"stroke: #383838; stroke-width: 1.5;\" width=\"128\" x=\"155\" y=\"85\"/><text fill=\"#000000\" font-family=\"sans-serif\" font-size=\"12\" font-style=\"italic\" lengthAdjust=\"spacingAndGlyphs\" textLength=\"106\" x=\"166\" y=\"101.1387\">«calculation def»</text><text fill=\"#000000\" font-family=\"sans-serif\" font-size=\"12\" lengthAdjust=\"spacingAndGlyphs\" textLength=\"59\" x=\"189.5\" y=\"115.1074\">MassSum</text></a><!--MD5=[917b9dd0c7eca3ee5f47219d1a84c0ad]\n",
       "cluster E11--><a href=\"psysml:83ce5d61-6771-4884-a571-d4d08f340672\" target=\"_top\" title=\"psysml:83ce5d61-6771-4884-a571-d4d08f340672\" xlink:actuate=\"onRequest\" xlink:href=\"psysml:83ce5d61-6771-4884-a571-d4d08f340672\" xlink:show=\"new\" xlink:title=\"psysml:83ce5d61-6771-4884-a571-d4d08f340672\" xlink:type=\"simple\"><rect fill=\"#FFFFFF\" height=\"306.72\" id=\"E11\" style=\"stroke: #383838; stroke-width: 1.5;\" width=\"166\" x=\"584\" y=\"85\"/><rect fill=\"#F8F8F8\" height=\"37.9375\" style=\"stroke: #383838; stroke-width: 1.5;\" width=\"166\" x=\"584\" y=\"85\"/><text fill=\"#000000\" font-family=\"sans-serif\" font-size=\"12\" font-style=\"italic\" lengthAdjust=\"spacingAndGlyphs\" textLength=\"106\" x=\"614\" y=\"101.1387\">«calculation def»</text><text fill=\"#000000\" font-family=\"sans-serif\" font-size=\"12\" lengthAdjust=\"spacingAndGlyphs\" textLength=\"67\" x=\"633.5\" y=\"115.1074\">MassSum1</text></a><!--MD5=[b4997ac47864f28c2f74865a473b2911]\n",
       "class E2--><a href=\"psysml:3dfd6fc9-2012-44ec-8abc-b458a2efa8ee\" target=\"_top\" title=\"psysml:3dfd6fc9-2012-44ec-8abc-b458a2efa8ee\" xlink:actuate=\"onRequest\" xlink:href=\"psysml:3dfd6fc9-2012-44ec-8abc-b458a2efa8ee\" xlink:show=\"new\" xlink:title=\"psysml:3dfd6fc9-2012-44ec-8abc-b458a2efa8ee\" xlink:type=\"simple\"><rect fill=\"#FFFFFF\" height=\"75.5469\" id=\"E2\" rx=\"10\" ry=\"10\" style=\"stroke: #383838; stroke-width: 1.5;\" width=\"92\" x=\"473\" y=\"47\"/><text fill=\"#000000\" font-family=\"sans-serif\" font-size=\"12\" font-style=\"italic\" lengthAdjust=\"spacingAndGlyphs\" textLength=\"40\" x=\"499\" y=\"63.1387\">«part»</text><text fill=\"#000000\" font-family=\"sans-serif\" font-size=\"12\" lengthAdjust=\"spacingAndGlyphs\" textLength=\"43\" x=\"497.5\" y=\"77.1074\">vehicle</text><line style=\"stroke: #383838; stroke-width: 1.5;\" x1=\"474\" x2=\"564\" y1=\"84.9375\" y2=\"84.9375\"/><text fill=\"#000000\" font-family=\"sans-serif\" font-size=\"11\" lengthAdjust=\"spacingAndGlyphs\" textLength=\"80\" x=\"479\" y=\"115.9526\">m: MassValue</text><line style=\"stroke: #383838; stroke-width: 1.0;\" x1=\"474\" x2=\"491.5\" y1=\"99.3398\" y2=\"99.3398\"/><text fill=\"#000000\" font-family=\"sans-serif\" font-size=\"11\" lengthAdjust=\"spacingAndGlyphs\" textLength=\"55\" x=\"491.5\" y=\"102.6479\">attributes</text><line style=\"stroke: #383838; stroke-width: 1.0;\" x1=\"546.5\" x2=\"564\" y1=\"99.3398\" y2=\"99.3398\"/></a><!--MD5=[09b614a08d8cba4a07c9adeb5e0fee81]\n",
       "class E3--><a href=\"psysml:6f0477df-1982-4bef-bc4b-f3a5f459ca50\" target=\"_top\" title=\"psysml:6f0477df-1982-4bef-bc4b-f3a5f459ca50\" xlink:actuate=\"onRequest\" xlink:href=\"psysml:6f0477df-1982-4bef-bc4b-f3a5f459ca50\" xlink:show=\"new\" xlink:title=\"psysml:6f0477df-1982-4bef-bc4b-f3a5f459ca50\" xlink:type=\"simple\"><rect fill=\"#FFFFFF\" height=\"75.5469\" id=\"E3\" rx=\"10\" ry=\"10\" style=\"stroke: #383838; stroke-width: 1.5;\" width=\"92\" x=\"346\" y=\"189\"/><text fill=\"#000000\" font-family=\"sans-serif\" font-size=\"12\" font-style=\"italic\" lengthAdjust=\"spacingAndGlyphs\" textLength=\"40\" x=\"372\" y=\"205.1387\">«part»</text><text fill=\"#000000\" font-family=\"sans-serif\" font-size=\"12\" lengthAdjust=\"spacingAndGlyphs\" textLength=\"24\" x=\"380\" y=\"219.1074\">eng</text><line style=\"stroke: #383838; stroke-width: 1.5;\" x1=\"347\" x2=\"437\" y1=\"226.9375\" y2=\"226.9375\"/><text fill=\"#000000\" font-family=\"sans-serif\" font-size=\"11\" lengthAdjust=\"spacingAndGlyphs\" textLength=\"80\" x=\"352\" y=\"257.9526\">m: MassValue</text><line style=\"stroke: #383838; stroke-width: 1.0;\" x1=\"347\" x2=\"364.5\" y1=\"241.3398\" y2=\"241.3398\"/><text fill=\"#000000\" font-family=\"sans-serif\" font-size=\"11\" lengthAdjust=\"spacingAndGlyphs\" textLength=\"55\" x=\"364.5\" y=\"244.6479\">attributes</text><line style=\"stroke: #383838; stroke-width: 1.0;\" x1=\"419.5\" x2=\"437\" y1=\"241.3398\" y2=\"241.3398\"/></a><!--MD5=[ebbe1d658d1005bcc118a6aa81145e00]\n",
       "class E4--><a href=\"psysml:39f29039-e97f-4cd7-a6e4-24de87290ff7\" target=\"_top\" title=\"psysml:39f29039-e97f-4cd7-a6e4-24de87290ff7\" xlink:actuate=\"onRequest\" xlink:href=\"psysml:39f29039-e97f-4cd7-a6e4-24de87290ff7\" xlink:show=\"new\" xlink:title=\"psysml:39f29039-e97f-4cd7-a6e4-24de87290ff7\" xlink:type=\"simple\"><rect fill=\"#FFFFFF\" height=\"75.5469\" id=\"E4\" rx=\"10\" ry=\"10\" style=\"stroke: #383838; stroke-width: 1.5;\" width=\"92\" x=\"473\" y=\"189\"/><text fill=\"#000000\" font-family=\"sans-serif\" font-size=\"12\" font-style=\"italic\" lengthAdjust=\"spacingAndGlyphs\" textLength=\"40\" x=\"499\" y=\"205.1387\">«part»</text><text fill=\"#000000\" font-family=\"sans-serif\" font-size=\"12\" lengthAdjust=\"spacingAndGlyphs\" textLength=\"33\" x=\"502.5\" y=\"219.1074\">trans</text><line style=\"stroke: #383838; stroke-width: 1.5;\" x1=\"474\" x2=\"564\" y1=\"226.9375\" y2=\"226.9375\"/><text fill=\"#000000\" font-family=\"sans-serif\" font-size=\"11\" lengthAdjust=\"spacingAndGlyphs\" textLength=\"80\" x=\"479\" y=\"257.9526\">m: MassValue</text><line style=\"stroke: #383838; stroke-width: 1.0;\" x1=\"474\" x2=\"491.5\" y1=\"241.3398\" y2=\"241.3398\"/><text fill=\"#000000\" font-family=\"sans-serif\" font-size=\"11\" lengthAdjust=\"spacingAndGlyphs\" textLength=\"55\" x=\"491.5\" y=\"244.6479\">attributes</text><line style=\"stroke: #383838; stroke-width: 1.0;\" x1=\"546.5\" x2=\"564\" y1=\"241.3398\" y2=\"241.3398\"/></a><!--MD5=[96f4274e9e20536e775497830990834d]\n",
       "class E10--><a href=\"psysml:20e483d0-a5a0-4777-bc7f-caa19ca2a7e0\" target=\"_top\" title=\"psysml:20e483d0-a5a0-4777-bc7f-caa19ca2a7e0\" xlink:actuate=\"onRequest\" xlink:href=\"psysml:20e483d0-a5a0-4777-bc7f-caa19ca2a7e0\" xlink:show=\"new\" xlink:title=\"psysml:20e483d0-a5a0-4777-bc7f-caa19ca2a7e0\" xlink:type=\"simple\"><rect fill=\"#FFFFFF\" height=\"45.9375\" id=\"E10\" rx=\"10\" ry=\"10\" style=\"stroke: #383838; stroke-width: 1.5;\" width=\"91\" x=\"346.5\" y=\"62\"/><text fill=\"#000000\" font-family=\"sans-serif\" font-size=\"12\" font-style=\"italic\" lengthAdjust=\"spacingAndGlyphs\" textLength=\"82\" x=\"351\" y=\"78.1387\">«calculation»</text><text fill=\"#000000\" font-family=\"sans-serif\" font-size=\"12\" lengthAdjust=\"spacingAndGlyphs\" textLength=\"85\" x=\"349.5\" y=\"92.1074\">ms: MassSum</text><line style=\"stroke: #383838; stroke-width: 1.5;\" x1=\"347.5\" x2=\"436.5\" y1=\"99.9375\" y2=\"99.9375\"/></a><!--MD5=[bee11217b2f71d958a27249dc326068c]\n",
       "class E14--><a href=\"psysml:3aa3b647-0159-4a96-9fb7-94bd79c90754\" target=\"_top\" title=\"psysml:3aa3b647-0159-4a96-9fb7-94bd79c90754\" xlink:actuate=\"onRequest\" xlink:href=\"psysml:3aa3b647-0159-4a96-9fb7-94bd79c90754\" xlink:show=\"new\" xlink:title=\"psysml:3aa3b647-0159-4a96-9fb7-94bd79c90754\" xlink:type=\"simple\"><rect fill=\"#FFFFFF\" height=\"88.3516\" id=\"E14\" rx=\"10\" ry=\"10\" style=\"stroke: #383838; stroke-width: 1.5;\" width=\"99\" x=\"32.5\" y=\"41\"/><text fill=\"#000000\" font-family=\"sans-serif\" font-size=\"12\" font-style=\"italic\" lengthAdjust=\"spacingAndGlyphs\" textLength=\"82\" x=\"41\" y=\"57.1387\">«calculation»</text><text fill=\"#000000\" font-family=\"sans-serif\" font-size=\"12\" lengthAdjust=\"spacingAndGlyphs\" textLength=\"93\" x=\"35.5\" y=\"71.1074\">ms1: MassSum</text><line style=\"stroke: #383838; stroke-width: 1.5;\" x1=\"33.5\" x2=\"130.5\" y1=\"78.9375\" y2=\"78.9375\"/><text fill=\"#000000\" font-family=\"sans-serif\" font-size=\"11\" lengthAdjust=\"spacingAndGlyphs\" textLength=\"67\" x=\"38.5\" y=\"109.9526\">partMasses</text><text fill=\"#000000\" font-family=\"sans-serif\" font-size=\"11\" lengthAdjust=\"spacingAndGlyphs\" textLength=\"55\" x=\"38.5\" y=\"122.7573\">totalMass</text><line style=\"stroke: #383838; stroke-width: 1.0;\" x1=\"33.5\" x2=\"54.5\" y1=\"93.3398\" y2=\"93.3398\"/><text fill=\"#000000\" font-family=\"sans-serif\" font-size=\"11\" lengthAdjust=\"spacingAndGlyphs\" textLength=\"55\" x=\"54.5\" y=\"96.6479\">attributes</text><line style=\"stroke: #383838; stroke-width: 1.0;\" x1=\"109.5\" x2=\"130.5\" y1=\"93.3398\" y2=\"93.3398\"/></a><text fill=\"#000000\" font-family=\"sans-serif\" font-size=\"14\" lengthAdjust=\"spacingAndGlyphs\" textLength=\"80\" x=\"133\" y=\"63.6982\">partMasses</text><rect fill=\"#383838\" height=\"12\" style=\"stroke: #F8F8F8; stroke-width: 1.5;\" width=\"12\" x=\"167\" y=\"79\"/><text fill=\"#000000\" font-family=\"sans-serif\" font-size=\"14\" lengthAdjust=\"spacingAndGlyphs\" textLength=\"66\" x=\"177\" y=\"410.7151\">totalMass</text><rect fill=\"#383838\" height=\"12\" style=\"stroke: #F8F8F8; stroke-width: 1.5;\" width=\"12\" x=\"204\" y=\"385.72\"/><text fill=\"#000000\" font-family=\"sans-serif\" font-size=\"14\" lengthAdjust=\"spacingAndGlyphs\" textLength=\"75\" x=\"227.5\" y=\"63.6982\">$collection</text><rect fill=\"#383838\" height=\"12\" style=\"stroke: #F8F8F8; stroke-width: 1.5;\" width=\"12\" x=\"259\" y=\"79\"/><text fill=\"#000000\" font-family=\"sans-serif\" font-size=\"14\" lengthAdjust=\"spacingAndGlyphs\" textLength=\"48\" x=\"233\" y=\"410.7151\">$result</text><rect fill=\"#383838\" height=\"12\" style=\"stroke: #F8F8F8; stroke-width: 1.5;\" width=\"12\" x=\"251\" y=\"385.72\"/><text fill=\"#000000\" font-family=\"sans-serif\" font-size=\"14\" lengthAdjust=\"spacingAndGlyphs\" textLength=\"80\" x=\"627\" y=\"63.6982\">partMasses</text><rect fill=\"#383838\" height=\"12\" style=\"stroke: #F8F8F8; stroke-width: 1.5;\" width=\"12\" x=\"661\" y=\"79\"/><text fill=\"#000000\" font-family=\"sans-serif\" font-size=\"14\" lengthAdjust=\"spacingAndGlyphs\" textLength=\"66\" x=\"634\" y=\"410.7151\">totalMass</text><rect fill=\"#383838\" height=\"12\" style=\"stroke: #F8F8F8; stroke-width: 1.5;\" width=\"12\" x=\"661\" y=\"385.72\"/><!--MD5=[209b3feb70ccb6233bfe1053d122c12c]\n",
       "reverse link E2 to E3--><a href=\"psysml:6f0477df-1982-4bef-bc4b-f3a5f459ca50\" target=\"_top\" title=\"psysml:6f0477df-1982-4bef-bc4b-f3a5f459ca50\" xlink:actuate=\"onRequest\" xlink:href=\"psysml:6f0477df-1982-4bef-bc4b-f3a5f459ca50\" xlink:show=\"new\" xlink:title=\"psysml:6f0477df-1982-4bef-bc4b-f3a5f459ca50\" xlink:type=\"simple\"><path d=\"M476.41,132.95 C459.95,151.1 441.38,171.57 425.86,188.68 \" fill=\"none\" id=\"E2&lt;-E3\" style=\"stroke: #383838; stroke-width: 1.0;\"/><polygon fill=\"#383838\" points=\"485.3,123.15,478.3052,124.9031,477.2332,132.0341,484.2279,130.281,485.3,123.15\" style=\"stroke: #383838; stroke-width: 1.0;\"/></a><!--MD5=[9618e71518536f8baf3342ff6fdab317]\n",
       "reverse link E2 to E4--><a href=\"psysml:39f29039-e97f-4cd7-a6e4-24de87290ff7\" target=\"_top\" title=\"psysml:39f29039-e97f-4cd7-a6e4-24de87290ff7\" xlink:actuate=\"onRequest\" xlink:href=\"psysml:39f29039-e97f-4cd7-a6e4-24de87290ff7\" xlink:show=\"new\" xlink:title=\"psysml:39f29039-e97f-4cd7-a6e4-24de87290ff7\" xlink:type=\"simple\"><path d=\"M519,136.25 C519,153.55 519,172.6 519,188.68 \" fill=\"none\" id=\"E2&lt;-E4\" style=\"stroke: #383838; stroke-width: 1.0;\"/><polygon fill=\"#383838\" points=\"519,123.15,515,129.15,519,135.15,523,129.15,519,123.15\" style=\"stroke: #383838; stroke-width: 1.0;\"/></a><!--MD5=[ec5e0a54482b142abcecfe541d624bff]\n",
       "link E10 to E5--><a href=\"psysml:087e1e8b-9f76-403f-b1f3-15ea1e5b2649\" target=\"_top\" title=\"psysml:087e1e8b-9f76-403f-b1f3-15ea1e5b2649\" xlink:actuate=\"onRequest\" xlink:href=\"psysml:087e1e8b-9f76-403f-b1f3-15ea1e5b2649\" xlink:show=\"new\" xlink:title=\"psysml:087e1e8b-9f76-403f-b1f3-15ea1e5b2649\" xlink:type=\"simple\"><path d=\"M367.76,108.18 C352.425,122.215 331.7225,141.16 311.4063,159.75 C306.3272,164.3975 301.2723,169.0228 296.3314,173.5437 C293.8609,175.8041 291.419,178.0384 289.0168,180.2363 C287.8157,181.3353 286.6246,182.4252 285.4448,183.5046 C284.8549,184.0444 284.2678,184.5815 283.6837,185.1159 C283.5377,185.2495 283.3919,185.3829 283.2463,185.5162 \" fill=\"none\" id=\"E10-&gt;E5\" style=\"stroke: #383838; stroke-width: 1.0;\"/><polygon fill=\"#FFFFFF\" points=\"283.2463,185.5162,292.5389,167.526,301.9894,177.855,283.2463,185.5162\" style=\"stroke: #383838; stroke-width: 1.0;\"/><ellipse cx=\"298.0944\" cy=\"165.1539\" fill=\"#383838\" rx=\"2\" ry=\"2\" style=\"stroke: #383838; stroke-width: 1.0;\"/><ellipse cx=\"304.8447\" cy=\"172.5317\" fill=\"#383838\" rx=\"2\" ry=\"2\" style=\"stroke: #383838; stroke-width: 1.0;\"/></a><!--MD5=[111e5536516ee1ad7d4266f589654f03]\n",
       "link E14 to E5--><a href=\"psysml:a6dd9655-fa53-42fd-8b92-db635a2ece9b\" target=\"_top\" title=\"psysml:a6dd9655-fa53-42fd-8b92-db635a2ece9b\" xlink:actuate=\"onRequest\" xlink:href=\"psysml:a6dd9655-fa53-42fd-8b92-db635a2ece9b\" xlink:show=\"new\" xlink:title=\"psysml:a6dd9655-fa53-42fd-8b92-db635a2ece9b\" xlink:type=\"simple\"><path d=\"M130.39,129.15 C138.0025,135.9375 146.0606,143.1225 154.2098,150.3889 C154.4645,150.616 154.7193,150.8431 154.9741,151.0704 \" fill=\"none\" id=\"E14-&gt;E5\" style=\"stroke: #383838; stroke-width: 1.0;\"/><polygon fill=\"#FFFFFF\" points=\"154.9741,151.0704,136.1343,143.6501,145.4516,133.2008,154.9741,151.0704\" style=\"stroke: #383838; stroke-width: 1.0;\"/><ellipse cx=\"133.211\" cy=\"138.3638\" fill=\"#383838\" rx=\"2\" ry=\"2\" style=\"stroke: #383838; stroke-width: 1.0;\"/><ellipse cx=\"139.8662\" cy=\"130.9001\" fill=\"#383838\" rx=\"2\" ry=\"2\" style=\"stroke: #383838; stroke-width: 1.0;\"/></a><!--MD5=[d54800bc51a7a8fb22075513604cd2fd]\n",
       "@startuml\r\n",
       "skinparam linetype polyline\r\n",
       "skinparam monochrome true\r\n",
       "skinparam classbackgroundcolor white\r\n",
       "skinparam shadowing false\r\n",
       "skinparam wrapWidth 300\r\n",
       "hide circle\r\n",
       "\r\n",
       "package \"CalculationExample\" as E1  [[psysml:279b101a-ad7c-43dd-8a07-da5fe5802bed ]]  {\r\n",
       "comp usage \"vehicle\" as E2  <<(T,blue)part>> [[psysml:3dfd6fc9-2012-44ec-8abc-b458a2efa8ee ]] {\r\n",
       "- - attributes - -\r\n",
       "m: MassValue\r\n",
       "}\r\n",
       "comp usage \"eng\" as E3  <<(T,blue)part>> [[psysml:6f0477df-1982-4bef-bc4b-f3a5f459ca50 ]] {\r\n",
       "- - attributes - -\r\n",
       "m: MassValue\r\n",
       "}\r\n",
       "comp usage \"trans\" as E4  <<(T,blue)part>> [[psysml:39f29039-e97f-4cd7-a6e4-24de87290ff7 ]] {\r\n",
       "- - attributes - -\r\n",
       "m: MassValue\r\n",
       "}\r\n",
       "rec def \"MassSum\" as E5  <<(T,blue)calculation def>> [[psysml:5c4fc454-9680-413f-bf1a-bdf2f6cc06d5 ]] {\r\n",
       "portin \"partMasses\" as E6  [[psysml:57eaefe4-a57c-41fa-a944-033dc3e4df4e ]] \r\n",
       "portout \"totalMass\" as E7  [[psysml:35e88aae-ee13-4c55-bc31-272528607619 ]] \r\n",
       "portin \"$collection\" as E8  [[psysml:0e9b074a-52f0-467d-9ed6-1e247226bb71 ]] \r\n",
       "portout \"$result\" as E9  [[psysml:66242f20-bf9b-4b2d-900e-be3ce4c10d7e ]] \r\n",
       "}\r\n",
       "\r\n",
       "comp usage \"ms: MassSum\" as E10  <<(T,blue)calculation>> [[psysml:20e483d0-a5a0-4777-bc7f-caa19ca2a7e0 ]] {\r\n",
       "}\r\n",
       "rec def \"MassSum1\" as E11  <<(T,blue)calculation def>> [[psysml:83ce5d61-6771-4884-a571-d4d08f340672 ]] {\r\n",
       "portin \"partMasses\" as E12  [[psysml:0924d9a5-fc11-4345-935d-e5ff08c51a6a ]] \r\n",
       "portout \"totalMass\" as E13  [[psysml:b7c67a6a-5db6-4529-b3d9-f9fb47dc5f0c ]] \r\n",
       "}\r\n",
       "\r\n",
       "comp usage \"ms1: MassSum\" as E14  <<(T,blue)calculation>> [[psysml:3aa3b647-0159-4a96-9fb7-94bd79c90754 ]] {\r\n",
       "- - attributes - -\r\n",
       "partMasses\r\n",
       "totalMass\r\n",
       "}\r\n",
       "E2 *- - E3 [[psysml:6f0477df-1982-4bef-bc4b-f3a5f459ca50 ]] \r\n",
       "E2 *- - E4 [[psysml:39f29039-e97f-4cd7-a6e4-24de87290ff7 ]] \r\n",
       "E10 - -:|> E5 [[psysml:087e1e8b-9f76-403f-b1f3-15ea1e5b2649 ]] \r\n",
       "E14 - -:|> E5 [[psysml:a6dd9655-fa53-42fd-8b92-db635a2ece9b ]] \r\n",
       "}\r\n",
       "@enduml\r\n",
       "\n",
       "PlantUML version 1.2020.13(Sat Jun 13 12:26:38 UTC 2020)\n",
       "(EPL source distribution)\n",
       "Java Runtime: OpenJDK Runtime Environment\n",
       "JVM: OpenJDK 64-Bit Server VM\n",
       "Default Encoding: UTF-8\n",
       "Language: en\n",
       "Country: null\n",
       "--></g></svg>"
      ]
     },
     "execution_count": 15,
     "metadata": {},
     "output_type": "execute_result"
    }
   ],
   "source": [
    "%viz --style=\"POLYLINE\" --view=\"MIXED\" \"CalculationExample\""
   ]
  },
  {
   "cell_type": "code",
   "execution_count": 16,
   "id": "trying-belfast",
   "metadata": {
    "execution": {
     "iopub.execute_input": "2021-03-26T13:05:05.471381Z",
     "iopub.status.busy": "2021-03-26T13:05:05.470904Z",
     "iopub.status.idle": "2021-03-26T13:05:05.561810Z",
     "shell.execute_reply": "2021-03-26T13:05:05.561533Z"
    }
   },
   "outputs": [
    {
     "data": {
      "image/svg+xml": [
       "<?xml version=\"1.0\" encoding=\"UTF-8\" standalone=\"no\"?><svg xmlns=\"http://www.w3.org/2000/svg\" xmlns:xlink=\"http://www.w3.org/1999/xlink\" contentScriptType=\"application/ecmascript\" contentStyleType=\"text/css\" height=\"590px\" preserveAspectRatio=\"none\" style=\"width:510px;height:590px;\" version=\"1.1\" viewBox=\"0 0 510 590\" width=\"510px\" zoomAndPan=\"magnify\"><defs/><g><!--MD5=[fbc87193dbaf4d95561dea2c320d4a47]\n",
       "cluster E1--><a href=\"psysml:279b101a-ad7c-43dd-8a07-da5fe5802bed\" target=\"_top\" title=\"psysml:279b101a-ad7c-43dd-8a07-da5fe5802bed\" xlink:actuate=\"onRequest\" xlink:href=\"psysml:279b101a-ad7c-43dd-8a07-da5fe5802bed\" xlink:show=\"new\" xlink:title=\"psysml:279b101a-ad7c-43dd-8a07-da5fe5802bed\" xlink:type=\"simple\"><polygon fill=\"#FFFFFF\" points=\"16,6,173,6,180,28.2969,488.72,28.2969,488.72,578,16,578,16,6\" style=\"stroke: #000000; stroke-width: 1.5;\"/><line style=\"stroke: #000000; stroke-width: 1.5;\" x1=\"16\" x2=\"180\" y1=\"28.2969\" y2=\"28.2969\"/><text fill=\"#000000\" font-family=\"sans-serif\" font-size=\"14\" font-weight=\"bold\" lengthAdjust=\"spacingAndGlyphs\" textLength=\"151\" x=\"20\" y=\"20.9951\">CalculationExample</text></a><!--MD5=[de5ec2e2e8f62f467e546659f5068c88]\n",
       "cluster E5--><a href=\"psysml:5c4fc454-9680-413f-bf1a-bdf2f6cc06d5\" target=\"_top\" title=\"psysml:5c4fc454-9680-413f-bf1a-bdf2f6cc06d5\" xlink:actuate=\"onRequest\" xlink:href=\"psysml:5c4fc454-9680-413f-bf1a-bdf2f6cc06d5\" xlink:show=\"new\" xlink:title=\"psysml:5c4fc454-9680-413f-bf1a-bdf2f6cc06d5\" xlink:type=\"simple\"><rect fill=\"#FFFFFF\" height=\"88\" id=\"E5\" style=\"stroke: #383838; stroke-width: 1.5;\" width=\"387.22\" x=\"63.5\" y=\"345\"/><rect fill=\"#F8F8F8\" height=\"37.9375\" style=\"stroke: #383838; stroke-width: 1.5;\" width=\"387.22\" x=\"63.5\" y=\"345\"/><text fill=\"#000000\" font-family=\"sans-serif\" font-size=\"12\" font-style=\"italic\" lengthAdjust=\"spacingAndGlyphs\" textLength=\"106\" x=\"204.11\" y=\"361.1387\">«calculation def»</text><text fill=\"#000000\" font-family=\"sans-serif\" font-size=\"12\" lengthAdjust=\"spacingAndGlyphs\" textLength=\"59\" x=\"227.61\" y=\"375.1074\">MassSum</text></a><!--MD5=[917b9dd0c7eca3ee5f47219d1a84c0ad]\n",
       "cluster E11--><a href=\"psysml:83ce5d61-6771-4884-a571-d4d08f340672\" target=\"_top\" title=\"psysml:83ce5d61-6771-4884-a571-d4d08f340672\" xlink:actuate=\"onRequest\" xlink:href=\"psysml:83ce5d61-6771-4884-a571-d4d08f340672\" xlink:show=\"new\" xlink:title=\"psysml:83ce5d61-6771-4884-a571-d4d08f340672\" xlink:type=\"simple\"><rect fill=\"#FFFFFF\" height=\"68\" id=\"E11\" style=\"stroke: #383838; stroke-width: 1.5;\" width=\"369.22\" x=\"81.5\" y=\"41\"/><rect fill=\"#F8F8F8\" height=\"37.9375\" style=\"stroke: #383838; stroke-width: 1.5;\" width=\"369.22\" x=\"81.5\" y=\"41\"/><text fill=\"#000000\" font-family=\"sans-serif\" font-size=\"12\" font-style=\"italic\" lengthAdjust=\"spacingAndGlyphs\" textLength=\"106\" x=\"213.11\" y=\"57.1387\">«calculation def»</text><text fill=\"#000000\" font-family=\"sans-serif\" font-size=\"12\" lengthAdjust=\"spacingAndGlyphs\" textLength=\"67\" x=\"232.61\" y=\"71.1074\">MassSum1</text></a><!--MD5=[b4997ac47864f28c2f74865a473b2911]\n",
       "class E2--><a href=\"psysml:3dfd6fc9-2012-44ec-8abc-b458a2efa8ee\" target=\"_top\" title=\"psysml:3dfd6fc9-2012-44ec-8abc-b458a2efa8ee\" xlink:actuate=\"onRequest\" xlink:href=\"psysml:3dfd6fc9-2012-44ec-8abc-b458a2efa8ee\" xlink:show=\"new\" xlink:title=\"psysml:3dfd6fc9-2012-44ec-8abc-b458a2efa8ee\" xlink:type=\"simple\"><rect fill=\"#FFFFFF\" height=\"75.5469\" id=\"E2\" rx=\"10\" ry=\"10\" style=\"stroke: #383838; stroke-width: 1.5;\" width=\"92\" x=\"35.5\" y=\"137\"/><text fill=\"#000000\" font-family=\"sans-serif\" font-size=\"12\" font-style=\"italic\" lengthAdjust=\"spacingAndGlyphs\" textLength=\"40\" x=\"61.5\" y=\"153.1387\">«part»</text><text fill=\"#000000\" font-family=\"sans-serif\" font-size=\"12\" lengthAdjust=\"spacingAndGlyphs\" textLength=\"43\" x=\"60\" y=\"167.1074\">vehicle</text><line style=\"stroke: #383838; stroke-width: 1.5;\" x1=\"36.5\" x2=\"126.5\" y1=\"174.9375\" y2=\"174.9375\"/><text fill=\"#000000\" font-family=\"sans-serif\" font-size=\"11\" lengthAdjust=\"spacingAndGlyphs\" textLength=\"80\" x=\"41.5\" y=\"205.9526\">m: MassValue</text><line style=\"stroke: #383838; stroke-width: 1.0;\" x1=\"36.5\" x2=\"54\" y1=\"189.3398\" y2=\"189.3398\"/><text fill=\"#000000\" font-family=\"sans-serif\" font-size=\"11\" lengthAdjust=\"spacingAndGlyphs\" textLength=\"55\" x=\"54\" y=\"192.6479\">attributes</text><line style=\"stroke: #383838; stroke-width: 1.0;\" x1=\"109\" x2=\"126.5\" y1=\"189.3398\" y2=\"189.3398\"/></a><!--MD5=[09b614a08d8cba4a07c9adeb5e0fee81]\n",
       "class E3--><a href=\"psysml:6f0477df-1982-4bef-bc4b-f3a5f459ca50\" target=\"_top\" title=\"psysml:6f0477df-1982-4bef-bc4b-f3a5f459ca50\" xlink:actuate=\"onRequest\" xlink:href=\"psysml:6f0477df-1982-4bef-bc4b-f3a5f459ca50\" xlink:show=\"new\" xlink:title=\"psysml:6f0477df-1982-4bef-bc4b-f3a5f459ca50\" xlink:type=\"simple\"><rect fill=\"#FFFFFF\" height=\"75.5469\" id=\"E3\" rx=\"10\" ry=\"10\" style=\"stroke: #383838; stroke-width: 1.5;\" width=\"92\" x=\"211.5\" y=\"239\"/><text fill=\"#000000\" font-family=\"sans-serif\" font-size=\"12\" font-style=\"italic\" lengthAdjust=\"spacingAndGlyphs\" textLength=\"40\" x=\"237.5\" y=\"255.1387\">«part»</text><text fill=\"#000000\" font-family=\"sans-serif\" font-size=\"12\" lengthAdjust=\"spacingAndGlyphs\" textLength=\"24\" x=\"245.5\" y=\"269.1074\">eng</text><line style=\"stroke: #383838; stroke-width: 1.5;\" x1=\"212.5\" x2=\"302.5\" y1=\"276.9375\" y2=\"276.9375\"/><text fill=\"#000000\" font-family=\"sans-serif\" font-size=\"11\" lengthAdjust=\"spacingAndGlyphs\" textLength=\"80\" x=\"217.5\" y=\"307.9526\">m: MassValue</text><line style=\"stroke: #383838; stroke-width: 1.0;\" x1=\"212.5\" x2=\"230\" y1=\"291.3398\" y2=\"291.3398\"/><text fill=\"#000000\" font-family=\"sans-serif\" font-size=\"11\" lengthAdjust=\"spacingAndGlyphs\" textLength=\"55\" x=\"230\" y=\"294.6479\">attributes</text><line style=\"stroke: #383838; stroke-width: 1.0;\" x1=\"285\" x2=\"302.5\" y1=\"291.3398\" y2=\"291.3398\"/></a><!--MD5=[ebbe1d658d1005bcc118a6aa81145e00]\n",
       "class E4--><a href=\"psysml:39f29039-e97f-4cd7-a6e4-24de87290ff7\" target=\"_top\" title=\"psysml:39f29039-e97f-4cd7-a6e4-24de87290ff7\" xlink:actuate=\"onRequest\" xlink:href=\"psysml:39f29039-e97f-4cd7-a6e4-24de87290ff7\" xlink:show=\"new\" xlink:title=\"psysml:39f29039-e97f-4cd7-a6e4-24de87290ff7\" xlink:type=\"simple\"><rect fill=\"#FFFFFF\" height=\"75.5469\" id=\"E4\" rx=\"10\" ry=\"10\" style=\"stroke: #383838; stroke-width: 1.5;\" width=\"92\" x=\"211.5\" y=\"128\"/><text fill=\"#000000\" font-family=\"sans-serif\" font-size=\"12\" font-style=\"italic\" lengthAdjust=\"spacingAndGlyphs\" textLength=\"40\" x=\"237.5\" y=\"144.1387\">«part»</text><text fill=\"#000000\" font-family=\"sans-serif\" font-size=\"12\" lengthAdjust=\"spacingAndGlyphs\" textLength=\"33\" x=\"241\" y=\"158.1074\">trans</text><line style=\"stroke: #383838; stroke-width: 1.5;\" x1=\"212.5\" x2=\"302.5\" y1=\"165.9375\" y2=\"165.9375\"/><text fill=\"#000000\" font-family=\"sans-serif\" font-size=\"11\" lengthAdjust=\"spacingAndGlyphs\" textLength=\"80\" x=\"217.5\" y=\"196.9526\">m: MassValue</text><line style=\"stroke: #383838; stroke-width: 1.0;\" x1=\"212.5\" x2=\"230\" y1=\"180.3398\" y2=\"180.3398\"/><text fill=\"#000000\" font-family=\"sans-serif\" font-size=\"11\" lengthAdjust=\"spacingAndGlyphs\" textLength=\"55\" x=\"230\" y=\"183.6479\">attributes</text><line style=\"stroke: #383838; stroke-width: 1.0;\" x1=\"285\" x2=\"302.5\" y1=\"180.3398\" y2=\"180.3398\"/></a><!--MD5=[96f4274e9e20536e775497830990834d]\n",
       "class E10--><a href=\"psysml:20e483d0-a5a0-4777-bc7f-caa19ca2a7e0\" target=\"_top\" title=\"psysml:20e483d0-a5a0-4777-bc7f-caa19ca2a7e0\" xlink:actuate=\"onRequest\" xlink:href=\"psysml:20e483d0-a5a0-4777-bc7f-caa19ca2a7e0\" xlink:show=\"new\" xlink:title=\"psysml:20e483d0-a5a0-4777-bc7f-caa19ca2a7e0\" xlink:type=\"simple\"><rect fill=\"#FFFFFF\" height=\"45.9375\" id=\"E10\" rx=\"10\" ry=\"10\" style=\"stroke: #383838; stroke-width: 1.5;\" width=\"91\" x=\"36\" y=\"258\"/><text fill=\"#000000\" font-family=\"sans-serif\" font-size=\"12\" font-style=\"italic\" lengthAdjust=\"spacingAndGlyphs\" textLength=\"82\" x=\"40.5\" y=\"274.1387\">«calculation»</text><text fill=\"#000000\" font-family=\"sans-serif\" font-size=\"12\" lengthAdjust=\"spacingAndGlyphs\" textLength=\"85\" x=\"39\" y=\"288.1074\">ms: MassSum</text><line style=\"stroke: #383838; stroke-width: 1.5;\" x1=\"37\" x2=\"126\" y1=\"295.9375\" y2=\"295.9375\"/></a><!--MD5=[bee11217b2f71d958a27249dc326068c]\n",
       "class E14--><a href=\"psysml:3aa3b647-0159-4a96-9fb7-94bd79c90754\" target=\"_top\" title=\"psysml:3aa3b647-0159-4a96-9fb7-94bd79c90754\" xlink:actuate=\"onRequest\" xlink:href=\"psysml:3aa3b647-0159-4a96-9fb7-94bd79c90754\" xlink:show=\"new\" xlink:title=\"psysml:3aa3b647-0159-4a96-9fb7-94bd79c90754\" xlink:type=\"simple\"><rect fill=\"#FFFFFF\" height=\"88.3516\" id=\"E14\" rx=\"10\" ry=\"10\" style=\"stroke: #383838; stroke-width: 1.5;\" width=\"99\" x=\"32\" y=\"474\"/><text fill=\"#000000\" font-family=\"sans-serif\" font-size=\"12\" font-style=\"italic\" lengthAdjust=\"spacingAndGlyphs\" textLength=\"82\" x=\"40.5\" y=\"490.1387\">«calculation»</text><text fill=\"#000000\" font-family=\"sans-serif\" font-size=\"12\" lengthAdjust=\"spacingAndGlyphs\" textLength=\"93\" x=\"35\" y=\"504.1074\">ms1: MassSum</text><line style=\"stroke: #383838; stroke-width: 1.5;\" x1=\"33\" x2=\"130\" y1=\"511.9375\" y2=\"511.9375\"/><text fill=\"#000000\" font-family=\"sans-serif\" font-size=\"11\" lengthAdjust=\"spacingAndGlyphs\" textLength=\"67\" x=\"38\" y=\"542.9526\">partMasses</text><text fill=\"#000000\" font-family=\"sans-serif\" font-size=\"11\" lengthAdjust=\"spacingAndGlyphs\" textLength=\"55\" x=\"38\" y=\"555.7573\">totalMass</text><line style=\"stroke: #383838; stroke-width: 1.0;\" x1=\"33\" x2=\"54\" y1=\"526.3398\" y2=\"526.3398\"/><text fill=\"#000000\" font-family=\"sans-serif\" font-size=\"11\" lengthAdjust=\"spacingAndGlyphs\" textLength=\"55\" x=\"54\" y=\"529.6479\">attributes</text><line style=\"stroke: #383838; stroke-width: 1.0;\" x1=\"109\" x2=\"130\" y1=\"526.3398\" y2=\"526.3398\"/></a><text fill=\"#000000\" font-family=\"sans-serif\" font-size=\"14\" lengthAdjust=\"spacingAndGlyphs\" textLength=\"80\" x=\"41.5\" y=\"451.9951\">partMasses</text><rect fill=\"#383838\" height=\"12\" style=\"stroke: #F8F8F8; stroke-width: 1.5;\" width=\"12\" x=\"75.5\" y=\"427\"/><text fill=\"#000000\" font-family=\"sans-serif\" font-size=\"14\" lengthAdjust=\"spacingAndGlyphs\" textLength=\"66\" x=\"417.72\" y=\"436.9951\">totalMass</text><rect fill=\"#383838\" height=\"12\" style=\"stroke: #F8F8F8; stroke-width: 1.5;\" width=\"12\" x=\"444.72\" y=\"412\"/><text fill=\"#000000\" font-family=\"sans-serif\" font-size=\"14\" lengthAdjust=\"spacingAndGlyphs\" textLength=\"75\" x=\"44\" y=\"323.6982\">$collection</text><rect fill=\"#383838\" height=\"12\" style=\"stroke: #F8F8F8; stroke-width: 1.5;\" width=\"12\" x=\"75.5\" y=\"339\"/><text fill=\"#000000\" font-family=\"sans-serif\" font-size=\"14\" lengthAdjust=\"spacingAndGlyphs\" textLength=\"48\" x=\"426.72\" y=\"349.6982\">$result</text><rect fill=\"#383838\" height=\"12\" style=\"stroke: #F8F8F8; stroke-width: 1.5;\" width=\"12\" x=\"444.72\" y=\"365\"/><text fill=\"#000000\" font-family=\"sans-serif\" font-size=\"14\" lengthAdjust=\"spacingAndGlyphs\" textLength=\"80\" x=\"41.5\" y=\"53.6982\">partMasses</text><rect fill=\"#383838\" height=\"12\" style=\"stroke: #F8F8F8; stroke-width: 1.5;\" width=\"12\" x=\"75.5\" y=\"69\"/><text fill=\"#000000\" font-family=\"sans-serif\" font-size=\"14\" lengthAdjust=\"spacingAndGlyphs\" textLength=\"66\" x=\"417.72\" y=\"53.6982\">totalMass</text><rect fill=\"#383838\" height=\"12\" style=\"stroke: #F8F8F8; stroke-width: 1.5;\" width=\"12\" x=\"444.72\" y=\"69\"/><!--MD5=[209b3feb70ccb6233bfe1053d122c12c]\n",
       "reverse link E2 to E3--><a href=\"psysml:6f0477df-1982-4bef-bc4b-f3a5f459ca50\" target=\"_top\" title=\"psysml:6f0477df-1982-4bef-bc4b-f3a5f459ca50\" xlink:actuate=\"onRequest\" xlink:href=\"psysml:6f0477df-1982-4bef-bc4b-f3a5f459ca50\" xlink:show=\"new\" xlink:title=\"psysml:6f0477df-1982-4bef-bc4b-f3a5f459ca50\" xlink:type=\"simple\"><path d=\"M138.98,208.11 C162.46,221.88 189.34,237.63 211.46,250.6 \" fill=\"none\" id=\"E2&lt;-E3\" style=\"stroke: #383838; stroke-width: 1.0;\"/><polygon fill=\"#383838\" points=\"127.76,201.53,130.9144,208.0146,138.1134,207.5969,134.959,201.1123,127.76,201.53\" style=\"stroke: #383838; stroke-width: 1.0;\"/></a><!--MD5=[9618e71518536f8baf3342ff6fdab317]\n",
       "reverse link E2 to E4--><a href=\"psysml:39f29039-e97f-4cd7-a6e4-24de87290ff7\" target=\"_top\" title=\"psysml:39f29039-e97f-4cd7-a6e4-24de87290ff7\" xlink:actuate=\"onRequest\" xlink:href=\"psysml:39f29039-e97f-4cd7-a6e4-24de87290ff7\" xlink:show=\"new\" xlink:title=\"psysml:39f29039-e97f-4cd7-a6e4-24de87290ff7\" xlink:type=\"simple\"><path d=\"M140.91,171.98 C163.93,170.79 189.95,169.44 211.46,168.33 \" fill=\"none\" id=\"E2&lt;-E4\" style=\"stroke: #383838; stroke-width: 1.0;\"/><polygon fill=\"#383838\" points=\"127.76,172.66,133.9585,176.3448,139.744,172.0404,133.5455,168.3555,127.76,172.66\" style=\"stroke: #383838; stroke-width: 1.0;\"/></a><!--MD5=[ec5e0a54482b142abcecfe541d624bff]\n",
       "link E10 to E5--><a href=\"psysml:087e1e8b-9f76-403f-b1f3-15ea1e5b2649\" target=\"_top\" title=\"psysml:087e1e8b-9f76-403f-b1f3-15ea1e5b2649\" xlink:actuate=\"onRequest\" xlink:href=\"psysml:087e1e8b-9f76-403f-b1f3-15ea1e5b2649\" xlink:show=\"new\" xlink:title=\"psysml:087e1e8b-9f76-403f-b1f3-15ea1e5b2649\" xlink:type=\"simple\"><path d=\"M110.41,304 C121.405,312.885 134.185,322.985 145.9,331.6888 C151.7575,336.0406 157.3488,340.0434 162.3175,343.3708 C162.9386,343.7867 163.55,344.1921 164.1509,344.5862 C164.3011,344.6848 164.4507,344.7826 164.5996,344.8798 \" fill=\"none\" id=\"E10-&gt;E5\" style=\"stroke: #383838; stroke-width: 1.0;\"/><polygon fill=\"#FFFFFF\" points=\"164.5996,344.8798,144.8614,340.3629,152.5097,328.6368,164.5996,344.8798\" style=\"stroke: #383838; stroke-width: 1.0;\"/><ellipse cx=\"141.1798\" cy=\"335.5738\" fill=\"#383838\" rx=\"2\" ry=\"2\" style=\"stroke: #383838; stroke-width: 1.0;\"/><ellipse cx=\"146.6429\" cy=\"327.198\" fill=\"#383838\" rx=\"2\" ry=\"2\" style=\"stroke: #383838; stroke-width: 1.0;\"/></a><!--MD5=[111e5536516ee1ad7d4266f589654f03]\n",
       "link E14 to E5--><a href=\"psysml:a6dd9655-fa53-42fd-8b92-db635a2ece9b\" target=\"_top\" title=\"psysml:a6dd9655-fa53-42fd-8b92-db635a2ece9b\" xlink:actuate=\"onRequest\" xlink:href=\"psysml:a6dd9655-fa53-42fd-8b92-db635a2ece9b\" xlink:show=\"new\" xlink:title=\"psysml:a6dd9655-fa53-42fd-8b92-db635a2ece9b\" xlink:type=\"simple\"><path d=\"M131.43,477.22 C139.975,470.1 149.13,462.4719 158.4569,454.7005 C163.1203,450.8148 167.8267,446.8932 172.5213,442.9815 C174.8686,441.0256 177.213,439.0722 179.5475,437.1269 C180.7148,436.1543 181.8797,435.1837 183.0412,434.2158 C183.3316,433.9739 183.6217,433.7321 183.9117,433.4905 C184.0567,433.3697 184.2016,433.2489 184.3465,433.1282 \" fill=\"none\" id=\"E14-&gt;E5\" style=\"stroke: #383838; stroke-width: 1.0;\"/><polygon fill=\"#FFFFFF\" points=\"184.3465,433.1282,174.2308,450.6688,165.2687,439.9133,184.3465,433.1282\" style=\"stroke: #383838; stroke-width: 1.0;\"/><ellipse cx=\"168.5715\" cy=\"452.7812\" fill=\"#383838\" rx=\"2\" ry=\"2\" style=\"stroke: #383838; stroke-width: 1.0;\"/><ellipse cx=\"162.17\" cy=\"445.0987\" fill=\"#383838\" rx=\"2\" ry=\"2\" style=\"stroke: #383838; stroke-width: 1.0;\"/></a><!--MD5=[e6969c8dcd848c188b43fb29afdcfead]\n",
       "@startuml\r\n",
       "left to right direction\r\n",
       "skinparam monochrome true\r\n",
       "skinparam classbackgroundcolor white\r\n",
       "skinparam shadowing false\r\n",
       "skinparam wrapWidth 300\r\n",
       "hide circle\r\n",
       "\r\n",
       "package \"CalculationExample\" as E1  [[psysml:279b101a-ad7c-43dd-8a07-da5fe5802bed ]]  {\r\n",
       "comp usage \"vehicle\" as E2  <<(T,blue)part>> [[psysml:3dfd6fc9-2012-44ec-8abc-b458a2efa8ee ]] {\r\n",
       "- - attributes - -\r\n",
       "m: MassValue\r\n",
       "}\r\n",
       "comp usage \"eng\" as E3  <<(T,blue)part>> [[psysml:6f0477df-1982-4bef-bc4b-f3a5f459ca50 ]] {\r\n",
       "- - attributes - -\r\n",
       "m: MassValue\r\n",
       "}\r\n",
       "comp usage \"trans\" as E4  <<(T,blue)part>> [[psysml:39f29039-e97f-4cd7-a6e4-24de87290ff7 ]] {\r\n",
       "- - attributes - -\r\n",
       "m: MassValue\r\n",
       "}\r\n",
       "rec def \"MassSum\" as E5  <<(T,blue)calculation def>> [[psysml:5c4fc454-9680-413f-bf1a-bdf2f6cc06d5 ]] {\r\n",
       "portin \"partMasses\" as E6  [[psysml:57eaefe4-a57c-41fa-a944-033dc3e4df4e ]] \r\n",
       "portout \"totalMass\" as E7  [[psysml:35e88aae-ee13-4c55-bc31-272528607619 ]] \r\n",
       "portin \"$collection\" as E8  [[psysml:0e9b074a-52f0-467d-9ed6-1e247226bb71 ]] \r\n",
       "portout \"$result\" as E9  [[psysml:66242f20-bf9b-4b2d-900e-be3ce4c10d7e ]] \r\n",
       "}\r\n",
       "\r\n",
       "comp usage \"ms: MassSum\" as E10  <<(T,blue)calculation>> [[psysml:20e483d0-a5a0-4777-bc7f-caa19ca2a7e0 ]] {\r\n",
       "}\r\n",
       "rec def \"MassSum1\" as E11  <<(T,blue)calculation def>> [[psysml:83ce5d61-6771-4884-a571-d4d08f340672 ]] {\r\n",
       "portin \"partMasses\" as E12  [[psysml:0924d9a5-fc11-4345-935d-e5ff08c51a6a ]] \r\n",
       "portout \"totalMass\" as E13  [[psysml:b7c67a6a-5db6-4529-b3d9-f9fb47dc5f0c ]] \r\n",
       "}\r\n",
       "\r\n",
       "comp usage \"ms1: MassSum\" as E14  <<(T,blue)calculation>> [[psysml:3aa3b647-0159-4a96-9fb7-94bd79c90754 ]] {\r\n",
       "- - attributes - -\r\n",
       "partMasses\r\n",
       "totalMass\r\n",
       "}\r\n",
       "E2 *- - E3 [[psysml:6f0477df-1982-4bef-bc4b-f3a5f459ca50 ]] \r\n",
       "E2 *- - E4 [[psysml:39f29039-e97f-4cd7-a6e4-24de87290ff7 ]] \r\n",
       "E10 - -:|> E5 [[psysml:087e1e8b-9f76-403f-b1f3-15ea1e5b2649 ]] \r\n",
       "E14 - -:|> E5 [[psysml:a6dd9655-fa53-42fd-8b92-db635a2ece9b ]] \r\n",
       "}\r\n",
       "@enduml\r\n",
       "\n",
       "PlantUML version 1.2020.13(Sat Jun 13 12:26:38 UTC 2020)\n",
       "(EPL source distribution)\n",
       "Java Runtime: OpenJDK Runtime Environment\n",
       "JVM: OpenJDK 64-Bit Server VM\n",
       "Default Encoding: UTF-8\n",
       "Language: en\n",
       "Country: null\n",
       "--></g></svg>"
      ]
     },
     "execution_count": 16,
     "metadata": {},
     "output_type": "execute_result"
    }
   ],
   "source": [
    "%viz --style=\"LR\" --view=\"Default\" \"CalculationExample\""
   ]
  },
  {
   "cell_type": "code",
   "execution_count": 17,
   "id": "mighty-motivation",
   "metadata": {
    "execution": {
     "iopub.execute_input": "2021-03-26T13:05:05.612059Z",
     "iopub.status.busy": "2021-03-26T13:05:05.611599Z",
     "iopub.status.idle": "2021-03-26T13:05:05.710152Z",
     "shell.execute_reply": "2021-03-26T13:05:05.709783Z"
    }
   },
   "outputs": [
    {
     "data": {
      "image/svg+xml": [
       "<?xml version=\"1.0\" encoding=\"UTF-8\" standalone=\"no\"?><svg xmlns=\"http://www.w3.org/2000/svg\" xmlns:xlink=\"http://www.w3.org/1999/xlink\" contentScriptType=\"application/ecmascript\" contentStyleType=\"text/css\" height=\"472px\" preserveAspectRatio=\"none\" style=\"width:386px;height:472px;\" version=\"1.1\" viewBox=\"0 0 386 472\" width=\"386px\" zoomAndPan=\"magnify\"><defs/><g><!--MD5=[fbc87193dbaf4d95561dea2c320d4a47]\n",
       "cluster E1--><a href=\"psysml:279b101a-ad7c-43dd-8a07-da5fe5802bed\" target=\"_top\" title=\"psysml:279b101a-ad7c-43dd-8a07-da5fe5802bed\" xlink:actuate=\"onRequest\" xlink:href=\"psysml:279b101a-ad7c-43dd-8a07-da5fe5802bed\" xlink:show=\"new\" xlink:title=\"psysml:279b101a-ad7c-43dd-8a07-da5fe5802bed\" xlink:type=\"simple\"><polygon fill=\"#FFFFFF\" points=\"16,6,173,6,180,28.2969,364,28.2969,364,460,16,460,16,6\" style=\"stroke: #000000; stroke-width: 1.5;\"/><line style=\"stroke: #000000; stroke-width: 1.5;\" x1=\"16\" x2=\"180\" y1=\"28.2969\" y2=\"28.2969\"/><text fill=\"#000000\" font-family=\"sans-serif\" font-size=\"14\" font-weight=\"bold\" lengthAdjust=\"spacingAndGlyphs\" textLength=\"151\" x=\"20\" y=\"20.9951\">CalculationExample</text></a><!--MD5=[b4997ac47864f28c2f74865a473b2911]\n",
       "class E2--><a href=\"psysml:3dfd6fc9-2012-44ec-8abc-b458a2efa8ee\" target=\"_top\" title=\"psysml:3dfd6fc9-2012-44ec-8abc-b458a2efa8ee\" xlink:actuate=\"onRequest\" xlink:href=\"psysml:3dfd6fc9-2012-44ec-8abc-b458a2efa8ee\" xlink:show=\"new\" xlink:title=\"psysml:3dfd6fc9-2012-44ec-8abc-b458a2efa8ee\" xlink:type=\"simple\"><rect fill=\"#FFFFFF\" height=\"75.5469\" id=\"E2\" rx=\"10\" ry=\"10\" style=\"stroke: #383838; stroke-width: 1.5;\" width=\"92\" x=\"60\" y=\"41\"/><text fill=\"#000000\" font-family=\"sans-serif\" font-size=\"12\" font-style=\"italic\" lengthAdjust=\"spacingAndGlyphs\" textLength=\"40\" x=\"86\" y=\"57.1387\">«part»</text><text fill=\"#000000\" font-family=\"sans-serif\" font-size=\"12\" lengthAdjust=\"spacingAndGlyphs\" textLength=\"43\" x=\"84.5\" y=\"71.1074\">vehicle</text><line style=\"stroke: #383838; stroke-width: 1.5;\" x1=\"61\" x2=\"151\" y1=\"78.9375\" y2=\"78.9375\"/><text fill=\"#000000\" font-family=\"sans-serif\" font-size=\"11\" lengthAdjust=\"spacingAndGlyphs\" textLength=\"80\" x=\"66\" y=\"109.9526\">m: MassValue</text><line style=\"stroke: #383838; stroke-width: 1.0;\" x1=\"61\" x2=\"78.5\" y1=\"93.3398\" y2=\"93.3398\"/><text fill=\"#000000\" font-family=\"sans-serif\" font-size=\"11\" lengthAdjust=\"spacingAndGlyphs\" textLength=\"55\" x=\"78.5\" y=\"96.6479\">attributes</text><line style=\"stroke: #383838; stroke-width: 1.0;\" x1=\"133.5\" x2=\"151\" y1=\"93.3398\" y2=\"93.3398\"/></a><!--MD5=[09b614a08d8cba4a07c9adeb5e0fee81]\n",
       "class E3--><a href=\"psysml:6f0477df-1982-4bef-bc4b-f3a5f459ca50\" target=\"_top\" title=\"psysml:6f0477df-1982-4bef-bc4b-f3a5f459ca50\" xlink:actuate=\"onRequest\" xlink:href=\"psysml:6f0477df-1982-4bef-bc4b-f3a5f459ca50\" xlink:show=\"new\" xlink:title=\"psysml:6f0477df-1982-4bef-bc4b-f3a5f459ca50\" xlink:type=\"simple\"><rect fill=\"#FFFFFF\" height=\"75.5469\" id=\"E3\" rx=\"10\" ry=\"10\" style=\"stroke: #383838; stroke-width: 1.5;\" width=\"92\" x=\"248\" y=\"152\"/><text fill=\"#000000\" font-family=\"sans-serif\" font-size=\"12\" font-style=\"italic\" lengthAdjust=\"spacingAndGlyphs\" textLength=\"40\" x=\"274\" y=\"168.1387\">«part»</text><text fill=\"#000000\" font-family=\"sans-serif\" font-size=\"12\" lengthAdjust=\"spacingAndGlyphs\" textLength=\"24\" x=\"282\" y=\"182.1074\">eng</text><line style=\"stroke: #383838; stroke-width: 1.5;\" x1=\"249\" x2=\"339\" y1=\"189.9375\" y2=\"189.9375\"/><text fill=\"#000000\" font-family=\"sans-serif\" font-size=\"11\" lengthAdjust=\"spacingAndGlyphs\" textLength=\"80\" x=\"254\" y=\"220.9526\">m: MassValue</text><line style=\"stroke: #383838; stroke-width: 1.0;\" x1=\"249\" x2=\"266.5\" y1=\"204.3398\" y2=\"204.3398\"/><text fill=\"#000000\" font-family=\"sans-serif\" font-size=\"11\" lengthAdjust=\"spacingAndGlyphs\" textLength=\"55\" x=\"266.5\" y=\"207.6479\">attributes</text><line style=\"stroke: #383838; stroke-width: 1.0;\" x1=\"321.5\" x2=\"339\" y1=\"204.3398\" y2=\"204.3398\"/></a><!--MD5=[ebbe1d658d1005bcc118a6aa81145e00]\n",
       "class E4--><a href=\"psysml:39f29039-e97f-4cd7-a6e4-24de87290ff7\" target=\"_top\" title=\"psysml:39f29039-e97f-4cd7-a6e4-24de87290ff7\" xlink:actuate=\"onRequest\" xlink:href=\"psysml:39f29039-e97f-4cd7-a6e4-24de87290ff7\" xlink:show=\"new\" xlink:title=\"psysml:39f29039-e97f-4cd7-a6e4-24de87290ff7\" xlink:type=\"simple\"><rect fill=\"#FFFFFF\" height=\"75.5469\" id=\"E4\" rx=\"10\" ry=\"10\" style=\"stroke: #383838; stroke-width: 1.5;\" width=\"92\" x=\"248\" y=\"41\"/><text fill=\"#000000\" font-family=\"sans-serif\" font-size=\"12\" font-style=\"italic\" lengthAdjust=\"spacingAndGlyphs\" textLength=\"40\" x=\"274\" y=\"57.1387\">«part»</text><text fill=\"#000000\" font-family=\"sans-serif\" font-size=\"12\" lengthAdjust=\"spacingAndGlyphs\" textLength=\"33\" x=\"277.5\" y=\"71.1074\">trans</text><line style=\"stroke: #383838; stroke-width: 1.5;\" x1=\"249\" x2=\"339\" y1=\"78.9375\" y2=\"78.9375\"/><text fill=\"#000000\" font-family=\"sans-serif\" font-size=\"11\" lengthAdjust=\"spacingAndGlyphs\" textLength=\"80\" x=\"254\" y=\"109.9526\">m: MassValue</text><line style=\"stroke: #383838; stroke-width: 1.0;\" x1=\"249\" x2=\"266.5\" y1=\"93.3398\" y2=\"93.3398\"/><text fill=\"#000000\" font-family=\"sans-serif\" font-size=\"11\" lengthAdjust=\"spacingAndGlyphs\" textLength=\"55\" x=\"266.5\" y=\"96.6479\">attributes</text><line style=\"stroke: #383838; stroke-width: 1.0;\" x1=\"321.5\" x2=\"339\" y1=\"93.3398\" y2=\"93.3398\"/></a><!--MD5=[270fce915f116d4de14055a7c1d9a0f3]\n",
       "class E5--><a href=\"psysml:5c4fc454-9680-413f-bf1a-bdf2f6cc06d5\" target=\"_top\" title=\"psysml:5c4fc454-9680-413f-bf1a-bdf2f6cc06d5\" xlink:actuate=\"onRequest\" xlink:href=\"psysml:5c4fc454-9680-413f-bf1a-bdf2f6cc06d5\" xlink:show=\"new\" xlink:title=\"psysml:5c4fc454-9680-413f-bf1a-bdf2f6cc06d5\" xlink:type=\"simple\"><rect fill=\"#FFFFFF\" height=\"45.9375\" id=\"E5\" style=\"stroke: #383838; stroke-width: 1.5;\" width=\"108\" x=\"240\" y=\"320\"/><text fill=\"#000000\" font-family=\"sans-serif\" font-size=\"12\" font-style=\"italic\" lengthAdjust=\"spacingAndGlyphs\" textLength=\"106\" x=\"241\" y=\"336.1387\">«calculation def»</text><text fill=\"#000000\" font-family=\"sans-serif\" font-size=\"12\" lengthAdjust=\"spacingAndGlyphs\" textLength=\"59\" x=\"264.5\" y=\"350.1074\">MassSum</text><line style=\"stroke: #383838; stroke-width: 1.5;\" x1=\"241\" x2=\"347\" y1=\"357.9375\" y2=\"357.9375\"/></a><!--MD5=[60a26617385b1d2d0262a64233df1f8d]\n",
       "class E6--><a href=\"psysml:20e483d0-a5a0-4777-bc7f-caa19ca2a7e0\" target=\"_top\" title=\"psysml:20e483d0-a5a0-4777-bc7f-caa19ca2a7e0\" xlink:actuate=\"onRequest\" xlink:href=\"psysml:20e483d0-a5a0-4777-bc7f-caa19ca2a7e0\" xlink:show=\"new\" xlink:title=\"psysml:20e483d0-a5a0-4777-bc7f-caa19ca2a7e0\" xlink:type=\"simple\"><rect fill=\"#FFFFFF\" height=\"45.9375\" id=\"E6\" rx=\"10\" ry=\"10\" style=\"stroke: #383838; stroke-width: 1.5;\" width=\"91\" x=\"60.5\" y=\"152\"/><text fill=\"#000000\" font-family=\"sans-serif\" font-size=\"12\" font-style=\"italic\" lengthAdjust=\"spacingAndGlyphs\" textLength=\"82\" x=\"65\" y=\"168.1387\">«calculation»</text><text fill=\"#000000\" font-family=\"sans-serif\" font-size=\"12\" lengthAdjust=\"spacingAndGlyphs\" textLength=\"85\" x=\"63.5\" y=\"182.1074\">ms: MassSum</text><line style=\"stroke: #383838; stroke-width: 1.5;\" x1=\"61.5\" x2=\"150.5\" y1=\"189.9375\" y2=\"189.9375\"/></a><!--MD5=[2156ba9850f5573cc1fc38a6a4b2f02b]\n",
       "class E7--><a href=\"psysml:83ce5d61-6771-4884-a571-d4d08f340672\" target=\"_top\" title=\"psysml:83ce5d61-6771-4884-a571-d4d08f340672\" xlink:actuate=\"onRequest\" xlink:href=\"psysml:83ce5d61-6771-4884-a571-d4d08f340672\" xlink:show=\"new\" xlink:title=\"psysml:83ce5d61-6771-4884-a571-d4d08f340672\" xlink:type=\"simple\"><rect fill=\"#FFFFFF\" height=\"88.3516\" id=\"E7\" style=\"stroke: #383838; stroke-width: 1.5;\" width=\"148\" x=\"32\" y=\"233\"/><text fill=\"#000000\" font-family=\"sans-serif\" font-size=\"12\" font-style=\"italic\" lengthAdjust=\"spacingAndGlyphs\" textLength=\"106\" x=\"53\" y=\"249.1387\">«calculation def»</text><text fill=\"#000000\" font-family=\"sans-serif\" font-size=\"12\" lengthAdjust=\"spacingAndGlyphs\" textLength=\"67\" x=\"72.5\" y=\"263.1074\">MassSum1</text><line style=\"stroke: #383838; stroke-width: 1.5;\" x1=\"33\" x2=\"179\" y1=\"270.9375\" y2=\"270.9375\"/><text fill=\"#000000\" font-family=\"sans-serif\" font-size=\"11\" lengthAdjust=\"spacingAndGlyphs\" textLength=\"136\" x=\"38\" y=\"301.9526\">partMasses: MassValue</text><text fill=\"#000000\" font-family=\"sans-serif\" font-size=\"11\" lengthAdjust=\"spacingAndGlyphs\" textLength=\"124\" x=\"38\" y=\"314.7573\">totalMass: MassValue</text><line style=\"stroke: #383838; stroke-width: 1.0;\" x1=\"33\" x2=\"78.5\" y1=\"285.3398\" y2=\"285.3398\"/><text fill=\"#000000\" font-family=\"sans-serif\" font-size=\"11\" lengthAdjust=\"spacingAndGlyphs\" textLength=\"55\" x=\"78.5\" y=\"288.6479\">attributes</text><line style=\"stroke: #383838; stroke-width: 1.0;\" x1=\"133.5\" x2=\"179\" y1=\"285.3398\" y2=\"285.3398\"/></a><!--MD5=[b9389687b975829384b498ac4b7476b2]\n",
       "class E8--><a href=\"psysml:3aa3b647-0159-4a96-9fb7-94bd79c90754\" target=\"_top\" title=\"psysml:3aa3b647-0159-4a96-9fb7-94bd79c90754\" xlink:actuate=\"onRequest\" xlink:href=\"psysml:3aa3b647-0159-4a96-9fb7-94bd79c90754\" xlink:show=\"new\" xlink:title=\"psysml:3aa3b647-0159-4a96-9fb7-94bd79c90754\" xlink:type=\"simple\"><rect fill=\"#FFFFFF\" height=\"88.3516\" id=\"E8\" rx=\"10\" ry=\"10\" style=\"stroke: #383838; stroke-width: 1.5;\" width=\"99\" x=\"56.5\" y=\"356\"/><text fill=\"#000000\" font-family=\"sans-serif\" font-size=\"12\" font-style=\"italic\" lengthAdjust=\"spacingAndGlyphs\" textLength=\"82\" x=\"65\" y=\"372.1387\">«calculation»</text><text fill=\"#000000\" font-family=\"sans-serif\" font-size=\"12\" lengthAdjust=\"spacingAndGlyphs\" textLength=\"93\" x=\"59.5\" y=\"386.1074\">ms1: MassSum</text><line style=\"stroke: #383838; stroke-width: 1.5;\" x1=\"57.5\" x2=\"154.5\" y1=\"393.9375\" y2=\"393.9375\"/><text fill=\"#000000\" font-family=\"sans-serif\" font-size=\"11\" lengthAdjust=\"spacingAndGlyphs\" textLength=\"67\" x=\"62.5\" y=\"424.9526\">partMasses</text><text fill=\"#000000\" font-family=\"sans-serif\" font-size=\"11\" lengthAdjust=\"spacingAndGlyphs\" textLength=\"55\" x=\"62.5\" y=\"437.7573\">totalMass</text><line style=\"stroke: #383838; stroke-width: 1.0;\" x1=\"57.5\" x2=\"78.5\" y1=\"408.3398\" y2=\"408.3398\"/><text fill=\"#000000\" font-family=\"sans-serif\" font-size=\"11\" lengthAdjust=\"spacingAndGlyphs\" textLength=\"55\" x=\"78.5\" y=\"411.6479\">attributes</text><line style=\"stroke: #383838; stroke-width: 1.0;\" x1=\"133.5\" x2=\"154.5\" y1=\"408.3398\" y2=\"408.3398\"/></a><!--MD5=[209b3feb70ccb6233bfe1053d122c12c]\n",
       "reverse link E2 to E3--><a href=\"psysml:6f0477df-1982-4bef-bc4b-f3a5f459ca50\" target=\"_top\" title=\"psysml:6f0477df-1982-4bef-bc4b-f3a5f459ca50\" xlink:actuate=\"onRequest\" xlink:href=\"psysml:6f0477df-1982-4bef-bc4b-f3a5f459ca50\" xlink:show=\"new\" xlink:title=\"psysml:6f0477df-1982-4bef-bc4b-f3a5f459ca50\" xlink:type=\"simple\"><path d=\"M163.28,112.59 C190.32,128.73 222.3,147.81 247.74,162.99 \" fill=\"none\" id=\"E2&lt;-E3\" style=\"stroke: #383838; stroke-width: 1.0;\"/><polygon fill=\"#383838\" points=\"152.03,105.87,155.1366,112.3776,162.3385,112.0129,159.2319,105.5053,152.03,105.87\" style=\"stroke: #383838; stroke-width: 1.0;\"/></a><!--MD5=[9618e71518536f8baf3342ff6fdab317]\n",
       "reverse link E2 to E4--><a href=\"psysml:39f29039-e97f-4cd7-a6e4-24de87290ff7\" target=\"_top\" title=\"psysml:39f29039-e97f-4cd7-a6e4-24de87290ff7\" xlink:actuate=\"onRequest\" xlink:href=\"psysml:39f29039-e97f-4cd7-a6e4-24de87290ff7\" xlink:show=\"new\" xlink:title=\"psysml:39f29039-e97f-4cd7-a6e4-24de87290ff7\" xlink:type=\"simple\"><path d=\"M165.1,79 C191.75,79 222.87,79 247.74,79 \" fill=\"none\" id=\"E2&lt;-E4\" style=\"stroke: #383838; stroke-width: 1.0;\"/><polygon fill=\"#383838\" points=\"152.03,79,158.03,83,164.03,79,158.03,75,152.03,79\" style=\"stroke: #383838; stroke-width: 1.0;\"/></a><!--MD5=[25b190c987b1e74e5126d372c5a73af1]\n",
       "link E6 to E5--><a href=\"psysml:087e1e8b-9f76-403f-b1f3-15ea1e5b2649\" target=\"_top\" title=\"psysml:087e1e8b-9f76-403f-b1f3-15ea1e5b2649\" xlink:actuate=\"onRequest\" xlink:href=\"psysml:087e1e8b-9f76-403f-b1f3-15ea1e5b2649\" xlink:show=\"new\" xlink:title=\"psysml:087e1e8b-9f76-403f-b1f3-15ea1e5b2649\" xlink:type=\"simple\"><path d=\"M151.8,196.35 C161.5,201.83 171.42,208.14 180,215 C212.25,240.78 242.86,276.4 264.07,303.52 \" fill=\"none\" id=\"E6-&gt;E5\" style=\"stroke: #383838; stroke-width: 1.0;\"/><polygon fill=\"#FFFFFF\" points=\"276.28,319.54,259.1957,308.6714,270.3306,300.1853,276.28,319.54\" style=\"stroke: #383838; stroke-width: 1.0;\"/><ellipse cx=\"257.3313\" cy=\"302.9256\" fill=\"#383838\" rx=\"2\" ry=\"2\" style=\"stroke: #383838; stroke-width: 1.0;\"/><ellipse cx=\"265.2848\" cy=\"296.8641\" fill=\"#383838\" rx=\"2\" ry=\"2\" style=\"stroke: #383838; stroke-width: 1.0;\"/></a><!--MD5=[1ccb2481ffa92f8d51a74ee30c51832a]\n",
       "link E8 to E5--><a href=\"psysml:a6dd9655-fa53-42fd-8b92-db635a2ece9b\" target=\"_top\" title=\"psysml:a6dd9655-fa53-42fd-8b92-db635a2ece9b\" xlink:actuate=\"onRequest\" xlink:href=\"psysml:a6dd9655-fa53-42fd-8b92-db635a2ece9b\" xlink:show=\"new\" xlink:title=\"psysml:a6dd9655-fa53-42fd-8b92-db635a2ece9b\" xlink:type=\"simple\"><path d=\"M155.87,385.02 C175.65,378.96 198.89,371.84 220.57,365.2 \" fill=\"none\" id=\"E8-&gt;E5\" style=\"stroke: #383838; stroke-width: 1.0;\"/><polygon fill=\"#FFFFFF\" points=\"239.89,359.28,223.7804,371.5471,219.6724,358.1634,239.89,359.28\" style=\"stroke: #383838; stroke-width: 1.0;\"/><ellipse cx=\"217.7445\" cy=\"371.3077\" fill=\"#383838\" rx=\"2\" ry=\"2\" style=\"stroke: #383838; stroke-width: 1.0;\"/><ellipse cx=\"214.8101\" cy=\"361.7479\" fill=\"#383838\" rx=\"2\" ry=\"2\" style=\"stroke: #383838; stroke-width: 1.0;\"/></a><!--MD5=[6d7b4fad07fe9cf167c3ffaf927fa305]\n",
       "@startuml\r\n",
       "left to right direction\r\n",
       "skinparam monochrome true\r\n",
       "skinparam classbackgroundcolor white\r\n",
       "skinparam shadowing false\r\n",
       "skinparam wrapWidth 300\r\n",
       "hide circle\r\n",
       "\r\n",
       "package \"CalculationExample\" as E1  [[psysml:279b101a-ad7c-43dd-8a07-da5fe5802bed ]]  {\r\n",
       "comp usage \"vehicle\" as E2  <<(T,blue)part>> [[psysml:3dfd6fc9-2012-44ec-8abc-b458a2efa8ee ]] {\r\n",
       "- - attributes - -\r\n",
       "m: MassValue\r\n",
       "}\r\n",
       "comp usage \"eng\" as E3  <<(T,blue)part>> [[psysml:6f0477df-1982-4bef-bc4b-f3a5f459ca50 ]] {\r\n",
       "- - attributes - -\r\n",
       "m: MassValue\r\n",
       "}\r\n",
       "comp usage \"trans\" as E4  <<(T,blue)part>> [[psysml:39f29039-e97f-4cd7-a6e4-24de87290ff7 ]] {\r\n",
       "- - attributes - -\r\n",
       "m: MassValue\r\n",
       "}\r\n",
       "comp def \"MassSum\" as E5  <<(T,blue)calculation def>> [[psysml:5c4fc454-9680-413f-bf1a-bdf2f6cc06d5 ]] {\r\n",
       "}\r\n",
       "comp usage \"ms: MassSum\" as E6  <<(T,blue)calculation>> [[psysml:20e483d0-a5a0-4777-bc7f-caa19ca2a7e0 ]] {\r\n",
       "}\r\n",
       "comp def \"MassSum1\" as E7  <<(T,blue)calculation def>> [[psysml:83ce5d61-6771-4884-a571-d4d08f340672 ]] {\r\n",
       "- - attributes - -\r\n",
       "partMasses: MassValue\r\n",
       "totalMass: MassValue\r\n",
       "}\r\n",
       "comp usage \"ms1: MassSum\" as E8  <<(T,blue)calculation>> [[psysml:3aa3b647-0159-4a96-9fb7-94bd79c90754 ]] {\r\n",
       "- - attributes - -\r\n",
       "partMasses\r\n",
       "totalMass\r\n",
       "}\r\n",
       "E2 *- - E3 [[psysml:6f0477df-1982-4bef-bc4b-f3a5f459ca50 ]] \r\n",
       "E2 *- - E4 [[psysml:39f29039-e97f-4cd7-a6e4-24de87290ff7 ]] \r\n",
       "E6 - -:|> E5 [[psysml:087e1e8b-9f76-403f-b1f3-15ea1e5b2649 ]] \r\n",
       "E8 - -:|> E5 [[psysml:a6dd9655-fa53-42fd-8b92-db635a2ece9b ]] \r\n",
       "}\r\n",
       "@enduml\r\n",
       "\n",
       "PlantUML version 1.2020.13(Sat Jun 13 12:26:38 UTC 2020)\n",
       "(EPL source distribution)\n",
       "Java Runtime: OpenJDK Runtime Environment\n",
       "JVM: OpenJDK 64-Bit Server VM\n",
       "Default Encoding: UTF-8\n",
       "Language: en\n",
       "Country: null\n",
       "--></g></svg>"
      ]
     },
     "execution_count": 17,
     "metadata": {},
     "output_type": "execute_result"
    }
   ],
   "source": [
    "%viz --style=\"LR\" --view=\"Tree\" \"CalculationExample\""
   ]
  },
  {
   "cell_type": "code",
   "execution_count": 18,
   "id": "internal-hearing",
   "metadata": {
    "execution": {
     "iopub.execute_input": "2021-03-26T13:05:05.761936Z",
     "iopub.status.busy": "2021-03-26T13:05:05.761230Z",
     "iopub.status.idle": "2021-03-26T13:05:05.767440Z",
     "shell.execute_reply": "2021-03-26T13:05:05.767083Z"
    }
   },
   "outputs": [
    {
     "data": {
      "image/svg+xml": [
       "<?xml version=\"1.0\" encoding=\"UTF-8\" standalone=\"no\"?><svg xmlns=\"http://www.w3.org/2000/svg\" xmlns:xlink=\"http://www.w3.org/1999/xlink\" contentScriptType=\"application/ecmascript\" contentStyleType=\"text/css\" height=\"12px\" preserveAspectRatio=\"none\" style=\"width:12px;height:12px;\" version=\"1.1\" viewBox=\"0 0 12 12\" width=\"12px\" zoomAndPan=\"magnify\"><defs/><g><!--MD5=[19d285c9d72a204eba4e2cd117d745e8]\n",
       "@startuml\r\n",
       "left to right direction\r\n",
       "skinparam monochrome true\r\n",
       "skinparam classbackgroundcolor white\r\n",
       "skinparam shadowing false\r\n",
       "skinparam wrapWidth 300\r\n",
       "hide circle\r\n",
       "\r\n",
       "@enduml\r\n",
       "\n",
       "PlantUML version 1.2020.13(Sat Jun 13 12:26:38 UTC 2020)\n",
       "(EPL source distribution)\n",
       "Java Runtime: OpenJDK Runtime Environment\n",
       "JVM: OpenJDK 64-Bit Server VM\n",
       "Default Encoding: UTF-8\n",
       "Language: en\n",
       "Country: null\n",
       "--></g></svg>"
      ]
     },
     "execution_count": 18,
     "metadata": {},
     "output_type": "execute_result"
    }
   ],
   "source": [
    "%viz --style=\"LR\" --view=\"State\" \"CalculationExample\""
   ]
  },
  {
   "cell_type": "code",
   "execution_count": 19,
   "id": "corresponding-optics",
   "metadata": {
    "execution": {
     "iopub.execute_input": "2021-03-26T13:05:05.821141Z",
     "iopub.status.busy": "2021-03-26T13:05:05.820292Z",
     "iopub.status.idle": "2021-03-26T13:05:05.858058Z",
     "shell.execute_reply": "2021-03-26T13:05:05.857362Z"
    }
   },
   "outputs": [
    {
     "data": {
      "image/svg+xml": [
       "<?xml version=\"1.0\" encoding=\"UTF-8\" standalone=\"no\"?><svg xmlns=\"http://www.w3.org/2000/svg\" xmlns:xlink=\"http://www.w3.org/1999/xlink\" contentScriptType=\"application/ecmascript\" contentStyleType=\"text/css\" height=\"552px\" preserveAspectRatio=\"none\" style=\"width:263px;height:552px;\" version=\"1.1\" viewBox=\"0 0 263 552\" width=\"263px\" zoomAndPan=\"magnify\"><defs/><g><!--MD5=[fbc87193dbaf4d95561dea2c320d4a47]\n",
       "cluster E1--><a href=\"psysml:279b101a-ad7c-43dd-8a07-da5fe5802bed\" target=\"_top\" title=\"psysml:279b101a-ad7c-43dd-8a07-da5fe5802bed\" xlink:actuate=\"onRequest\" xlink:href=\"psysml:279b101a-ad7c-43dd-8a07-da5fe5802bed\" xlink:show=\"new\" xlink:title=\"psysml:279b101a-ad7c-43dd-8a07-da5fe5802bed\" xlink:type=\"simple\"><polygon fill=\"#FFFFFF\" points=\"16,6,173,6,180,28.2969,241,28.2969,241,540,16,540,16,6\" style=\"stroke: #000000; stroke-width: 1.5;\"/><line style=\"stroke: #000000; stroke-width: 1.5;\" x1=\"16\" x2=\"180\" y1=\"28.2969\" y2=\"28.2969\"/><text fill=\"#000000\" font-family=\"sans-serif\" font-size=\"14\" font-weight=\"bold\" lengthAdjust=\"spacingAndGlyphs\" textLength=\"151\" x=\"20\" y=\"20.9951\">CalculationExample</text></a><!--MD5=[e4f7fae6ed58524ba242bb0b0d3be6b7]\n",
       "cluster E2--><a href=\"psysml:3dfd6fc9-2012-44ec-8abc-b458a2efa8ee\" target=\"_top\" title=\"psysml:3dfd6fc9-2012-44ec-8abc-b458a2efa8ee\" xlink:actuate=\"onRequest\" xlink:href=\"psysml:3dfd6fc9-2012-44ec-8abc-b458a2efa8ee\" xlink:show=\"new\" xlink:title=\"psysml:3dfd6fc9-2012-44ec-8abc-b458a2efa8ee\" xlink:type=\"simple\"><rect fill=\"#FFFFFF\" height=\"335\" id=\"E2\" rx=\"10\" ry=\"10\" style=\"stroke: #383838; stroke-width: 1.5;\" width=\"177\" x=\"40\" y=\"49\"/><rect fill=\"#F8F8F8\" height=\"23.9688\" rx=\"10\" ry=\"10\" style=\"stroke: #F8F8F8; stroke-width: 1.5;\" width=\"177\" x=\"40\" y=\"49\"/><rect fill=\"#F8F8F8\" height=\"10\" style=\"stroke: #F8F8F8; stroke-width: 1.5;\" width=\"177\" x=\"40\" y=\"62.9688\"/><rect fill=\"none\" height=\"335\" id=\"E2\" rx=\"10\" ry=\"10\" style=\"stroke: #383838; stroke-width: 1.5;\" width=\"177\" x=\"40\" y=\"49\"/><text fill=\"#000000\" font-family=\"sans-serif\" font-size=\"12\" lengthAdjust=\"spacingAndGlyphs\" textLength=\"43\" x=\"107\" y=\"65.1387\">vehicle</text><line style=\"stroke: #383838; stroke-width: 1.0;\" x1=\"40\" x2=\"217\" y1=\"72.9688\" y2=\"72.9688\"/></a><!--MD5=[f6df4d0ebaf0b5dfb2ced0ae5af7c670]\n",
       "cluster E4--><a href=\"psysml:6f0477df-1982-4bef-bc4b-f3a5f459ca50\" target=\"_top\" title=\"psysml:6f0477df-1982-4bef-bc4b-f3a5f459ca50\" xlink:actuate=\"onRequest\" xlink:href=\"psysml:6f0477df-1982-4bef-bc4b-f3a5f459ca50\" xlink:show=\"new\" xlink:title=\"psysml:6f0477df-1982-4bef-bc4b-f3a5f459ca50\" xlink:type=\"simple\"><rect fill=\"#FFFFFF\" height=\"95\" id=\"E4\" rx=\"10\" ry=\"10\" style=\"stroke: #383838; stroke-width: 1.5;\" width=\"129\" x=\"64\" y=\"92\"/><rect fill=\"#F8F8F8\" height=\"23.9688\" rx=\"10\" ry=\"10\" style=\"stroke: #F8F8F8; stroke-width: 1.5;\" width=\"129\" x=\"64\" y=\"92\"/><rect fill=\"#F8F8F8\" height=\"10\" style=\"stroke: #F8F8F8; stroke-width: 1.5;\" width=\"129\" x=\"64\" y=\"105.9688\"/><rect fill=\"none\" height=\"95\" id=\"E4\" rx=\"10\" ry=\"10\" style=\"stroke: #383838; stroke-width: 1.5;\" width=\"129\" x=\"64\" y=\"92\"/><text fill=\"#000000\" font-family=\"sans-serif\" font-size=\"12\" lengthAdjust=\"spacingAndGlyphs\" textLength=\"24\" x=\"116.5\" y=\"108.1387\">eng</text><line style=\"stroke: #383838; stroke-width: 1.0;\" x1=\"64\" x2=\"193\" y1=\"115.9688\" y2=\"115.9688\"/></a><!--MD5=[14e3b0961a2654348d326746436168a1]\n",
       "cluster E6--><a href=\"psysml:39f29039-e97f-4cd7-a6e4-24de87290ff7\" target=\"_top\" title=\"psysml:39f29039-e97f-4cd7-a6e4-24de87290ff7\" xlink:actuate=\"onRequest\" xlink:href=\"psysml:39f29039-e97f-4cd7-a6e4-24de87290ff7\" xlink:show=\"new\" xlink:title=\"psysml:39f29039-e97f-4cd7-a6e4-24de87290ff7\" xlink:type=\"simple\"><rect fill=\"#FFFFFF\" height=\"95\" id=\"E6\" rx=\"10\" ry=\"10\" style=\"stroke: #383838; stroke-width: 1.5;\" width=\"129\" x=\"64\" y=\"211\"/><rect fill=\"#F8F8F8\" height=\"23.9688\" rx=\"10\" ry=\"10\" style=\"stroke: #F8F8F8; stroke-width: 1.5;\" width=\"129\" x=\"64\" y=\"211\"/><rect fill=\"#F8F8F8\" height=\"10\" style=\"stroke: #F8F8F8; stroke-width: 1.5;\" width=\"129\" x=\"64\" y=\"224.9688\"/><rect fill=\"none\" height=\"95\" id=\"E6\" rx=\"10\" ry=\"10\" style=\"stroke: #383838; stroke-width: 1.5;\" width=\"129\" x=\"64\" y=\"211\"/><text fill=\"#000000\" font-family=\"sans-serif\" font-size=\"12\" lengthAdjust=\"spacingAndGlyphs\" textLength=\"33\" x=\"112\" y=\"227.1387\">trans</text><line style=\"stroke: #383838; stroke-width: 1.0;\" x1=\"64\" x2=\"193\" y1=\"234.9688\" y2=\"234.9688\"/></a><g id=\"E1.E8\"><a href=\"psysml:5c4fc454-9680-413f-bf1a-bdf2f6cc06d5\" target=\"_top\" title=\"psysml:5c4fc454-9680-413f-bf1a-bdf2f6cc06d5\" xlink:actuate=\"onRequest\" xlink:href=\"psysml:5c4fc454-9680-413f-bf1a-bdf2f6cc06d5\" xlink:show=\"new\" xlink:title=\"psysml:5c4fc454-9680-413f-bf1a-bdf2f6cc06d5\" xlink:type=\"simple\"><rect fill=\"#FFFFFF\" height=\"42.9375\" id=\"E8\" style=\"stroke: #383838; stroke-width: 1.5;\" width=\"113\" x=\"72\" y=\"402.5\"/><rect fill=\"#F8F8F8\" height=\"37.9375\" style=\"stroke: #383838; stroke-width: 1.5;\" width=\"113\" x=\"72\" y=\"402.5\"/><text fill=\"#000000\" font-family=\"sans-serif\" font-size=\"12\" font-style=\"italic\" lengthAdjust=\"spacingAndGlyphs\" textLength=\"106\" x=\"75.5\" y=\"418.6387\">«calculation def»</text><text fill=\"#000000\" font-family=\"sans-serif\" font-size=\"12\" lengthAdjust=\"spacingAndGlyphs\" textLength=\"59\" x=\"99\" y=\"432.6074\">MassSum</text></a></g><g id=\"E1.E9\"><a href=\"psysml:83ce5d61-6771-4884-a571-d4d08f340672\" target=\"_top\" title=\"psysml:83ce5d61-6771-4884-a571-d4d08f340672\" xlink:actuate=\"onRequest\" xlink:href=\"psysml:83ce5d61-6771-4884-a571-d4d08f340672\" xlink:show=\"new\" xlink:title=\"psysml:83ce5d61-6771-4884-a571-d4d08f340672\" xlink:type=\"simple\"><rect fill=\"#FFFFFF\" height=\"42.9375\" id=\"E9\" style=\"stroke: #383838; stroke-width: 1.5;\" width=\"113\" x=\"72\" y=\"480.5\"/><rect fill=\"#F8F8F8\" height=\"37.9375\" style=\"stroke: #383838; stroke-width: 1.5;\" width=\"113\" x=\"72\" y=\"480.5\"/><text fill=\"#000000\" font-family=\"sans-serif\" font-size=\"12\" font-style=\"italic\" lengthAdjust=\"spacingAndGlyphs\" textLength=\"106\" x=\"75.5\" y=\"496.6387\">«calculation def»</text><text fill=\"#000000\" font-family=\"sans-serif\" font-size=\"12\" lengthAdjust=\"spacingAndGlyphs\" textLength=\"67\" x=\"95\" y=\"510.6074\">MassSum1</text></a></g><g id=\"E1.E2.E3\"><a href=\"psysml:14ff17ee-41c8-45bd-b867-b50857ad993c\" target=\"_top\" title=\"psysml:14ff17ee-41c8-45bd-b867-b50857ad993c\" xlink:actuate=\"onRequest\" xlink:href=\"psysml:14ff17ee-41c8-45bd-b867-b50857ad993c\" xlink:show=\"new\" xlink:title=\"psysml:14ff17ee-41c8-45bd-b867-b50857ad993c\" xlink:type=\"simple\"><rect fill=\"#FFFFFF\" height=\"42.9375\" id=\"E3\" rx=\"10\" ry=\"10\" style=\"stroke: #383838; stroke-width: 1.5;\" width=\"97\" x=\"80\" y=\"324.5\"/><rect fill=\"#F8F8F8\" height=\"37.9375\" rx=\"10\" ry=\"10\" style=\"stroke: #F8F8F8; stroke-width: 1.5;\" width=\"97\" x=\"80\" y=\"324.5\"/><rect fill=\"#F8F8F8\" height=\"10\" style=\"stroke: #F8F8F8; stroke-width: 1.5;\" width=\"97\" x=\"80\" y=\"352.4375\"/><rect fill=\"none\" height=\"42.9375\" id=\"E3\" rx=\"10\" ry=\"10\" style=\"stroke: #383838; stroke-width: 1.5;\" width=\"97\" x=\"80\" y=\"324.5\"/><text fill=\"#000000\" font-family=\"sans-serif\" font-size=\"12\" font-style=\"italic\" lengthAdjust=\"spacingAndGlyphs\" textLength=\"69\" x=\"94\" y=\"340.6387\">«attribute»</text><text fill=\"#000000\" font-family=\"sans-serif\" font-size=\"12\" lengthAdjust=\"spacingAndGlyphs\" textLength=\"86\" x=\"85.5\" y=\"354.6074\">m: MassValue</text></a></g><g id=\"E1.E2.E4.E5\"><a href=\"psysml:74b360a2-1898-4ab2-8a14-bf87d0706240\" target=\"_top\" title=\"psysml:74b360a2-1898-4ab2-8a14-bf87d0706240\" xlink:actuate=\"onRequest\" xlink:href=\"psysml:74b360a2-1898-4ab2-8a14-bf87d0706240\" xlink:show=\"new\" xlink:title=\"psysml:74b360a2-1898-4ab2-8a14-bf87d0706240\" xlink:type=\"simple\"><rect fill=\"#FFFFFF\" height=\"42.9375\" id=\"E5\" rx=\"10\" ry=\"10\" style=\"stroke: #383838; stroke-width: 1.5;\" width=\"97\" x=\"80\" y=\"127.5\"/><rect fill=\"#F8F8F8\" height=\"37.9375\" rx=\"10\" ry=\"10\" style=\"stroke: #F8F8F8; stroke-width: 1.5;\" width=\"97\" x=\"80\" y=\"127.5\"/><rect fill=\"#F8F8F8\" height=\"10\" style=\"stroke: #F8F8F8; stroke-width: 1.5;\" width=\"97\" x=\"80\" y=\"155.4375\"/><rect fill=\"none\" height=\"42.9375\" id=\"E5\" rx=\"10\" ry=\"10\" style=\"stroke: #383838; stroke-width: 1.5;\" width=\"97\" x=\"80\" y=\"127.5\"/><text fill=\"#000000\" font-family=\"sans-serif\" font-size=\"12\" font-style=\"italic\" lengthAdjust=\"spacingAndGlyphs\" textLength=\"69\" x=\"94\" y=\"143.6387\">«attribute»</text><text fill=\"#000000\" font-family=\"sans-serif\" font-size=\"12\" lengthAdjust=\"spacingAndGlyphs\" textLength=\"86\" x=\"85.5\" y=\"157.6074\">m: MassValue</text></a></g><g id=\"E1.E2.E6.E7\"><a href=\"psysml:21104dbc-631a-485d-ad70-3d921fae82b5\" target=\"_top\" title=\"psysml:21104dbc-631a-485d-ad70-3d921fae82b5\" xlink:actuate=\"onRequest\" xlink:href=\"psysml:21104dbc-631a-485d-ad70-3d921fae82b5\" xlink:show=\"new\" xlink:title=\"psysml:21104dbc-631a-485d-ad70-3d921fae82b5\" xlink:type=\"simple\"><rect fill=\"#FFFFFF\" height=\"42.9375\" id=\"E7\" rx=\"10\" ry=\"10\" style=\"stroke: #383838; stroke-width: 1.5;\" width=\"97\" x=\"80\" y=\"246.5\"/><rect fill=\"#F8F8F8\" height=\"37.9375\" rx=\"10\" ry=\"10\" style=\"stroke: #F8F8F8; stroke-width: 1.5;\" width=\"97\" x=\"80\" y=\"246.5\"/><rect fill=\"#F8F8F8\" height=\"10\" style=\"stroke: #F8F8F8; stroke-width: 1.5;\" width=\"97\" x=\"80\" y=\"274.4375\"/><rect fill=\"none\" height=\"42.9375\" id=\"E7\" rx=\"10\" ry=\"10\" style=\"stroke: #383838; stroke-width: 1.5;\" width=\"97\" x=\"80\" y=\"246.5\"/><text fill=\"#000000\" font-family=\"sans-serif\" font-size=\"12\" font-style=\"italic\" lengthAdjust=\"spacingAndGlyphs\" textLength=\"69\" x=\"94\" y=\"262.6387\">«attribute»</text><text fill=\"#000000\" font-family=\"sans-serif\" font-size=\"12\" lengthAdjust=\"spacingAndGlyphs\" textLength=\"86\" x=\"85.5\" y=\"276.6074\">m: MassValue</text></a></g><!--MD5=[ce5cf4e1fbe9cd37f2950e2e6e072e47]\n",
       "@startuml\r\n",
       "skinparam ranksep 8\r\n",
       "skinparam rectangle {\r\n",
       " backgroundColor<<block>> LightGreen\r\n",
       "}\r\n",
       "left to right direction\r\n",
       "skinparam monochrome true\r\n",
       "skinparam classbackgroundcolor white\r\n",
       "skinparam shadowing false\r\n",
       "skinparam wrapWidth 300\r\n",
       "hide circle\r\n",
       "\r\n",
       "package \"CalculationExample\" as E1  [[psysml:279b101a-ad7c-43dd-8a07-da5fe5802bed ]]  {\r\n",
       "rec usage \"vehicle\" as E2  [[psysml:3dfd6fc9-2012-44ec-8abc-b458a2efa8ee ]] {\r\n",
       "rec usage \"m: MassValue\" as E3  <<(T,blue)attribute>> [[psysml:14ff17ee-41c8-45bd-b867-b50857ad993c ]] {\r\n",
       "}\r\n",
       "rec usage \"eng\" as E4  [[psysml:6f0477df-1982-4bef-bc4b-f3a5f459ca50 ]] {\r\n",
       "rec usage \"m: MassValue\" as E5  <<(T,blue)attribute>> [[psysml:74b360a2-1898-4ab2-8a14-bf87d0706240 ]] {\r\n",
       "}\r\n",
       "}\r\n",
       "rec usage \"trans\" as E6  [[psysml:39f29039-e97f-4cd7-a6e4-24de87290ff7 ]] {\r\n",
       "rec usage \"m: MassValue\" as E7  <<(T,blue)attribute>> [[psysml:21104dbc-631a-485d-ad70-3d921fae82b5 ]] {\r\n",
       "}\r\n",
       "}\r\n",
       "}\r\n",
       "def \"MassSum\" as E8  <<(T,blue)calculation def>> [[psysml:5c4fc454-9680-413f-bf1a-bdf2f6cc06d5 ]] \r\n",
       "def \"MassSum1\" as E9  <<(T,blue)calculation def>> [[psysml:83ce5d61-6771-4884-a571-d4d08f340672 ]] \r\n",
       "}\r\n",
       "@enduml\r\n",
       "\n",
       "PlantUML version 1.2020.13(Sat Jun 13 12:26:38 UTC 2020)\n",
       "(EPL source distribution)\n",
       "Java Runtime: OpenJDK Runtime Environment\n",
       "JVM: OpenJDK 64-Bit Server VM\n",
       "Default Encoding: UTF-8\n",
       "Language: en\n",
       "Country: null\n",
       "--></g></svg>"
      ]
     },
     "execution_count": 19,
     "metadata": {},
     "output_type": "execute_result"
    }
   ],
   "source": [
    "%viz --style=\"LR\" --view=\"Interconnection\" \"CalculationExample\""
   ]
  },
  {
   "cell_type": "code",
   "execution_count": 20,
   "id": "abandoned-lodge",
   "metadata": {
    "execution": {
     "iopub.execute_input": "2021-03-26T13:05:05.923072Z",
     "iopub.status.busy": "2021-03-26T13:05:05.922693Z",
     "iopub.status.idle": "2021-03-26T13:05:05.974970Z",
     "shell.execute_reply": "2021-03-26T13:05:05.973704Z"
    }
   },
   "outputs": [
    {
     "data": {
      "image/svg+xml": [
       "<?xml version=\"1.0\" encoding=\"UTF-8\" standalone=\"no\"?><svg xmlns=\"http://www.w3.org/2000/svg\" xmlns:xlink=\"http://www.w3.org/1999/xlink\" contentScriptType=\"application/ecmascript\" contentStyleType=\"text/css\" height=\"370px\" preserveAspectRatio=\"none\" style=\"width:276px;height:370px;\" version=\"1.1\" viewBox=\"0 0 276 370\" width=\"276px\" zoomAndPan=\"magnify\"><defs/><g><!--MD5=[fbc87193dbaf4d95561dea2c320d4a47]\n",
       "cluster E1--><a href=\"psysml:5c4fc454-9680-413f-bf1a-bdf2f6cc06d5\" target=\"_top\" title=\"psysml:5c4fc454-9680-413f-bf1a-bdf2f6cc06d5\" xlink:actuate=\"onRequest\" xlink:href=\"psysml:5c4fc454-9680-413f-bf1a-bdf2f6cc06d5\" xlink:show=\"new\" xlink:title=\"psysml:5c4fc454-9680-413f-bf1a-bdf2f6cc06d5\" xlink:type=\"simple\"><rect fill=\"#FFFFFF\" height=\"88\" id=\"E1\" style=\"stroke: #383838; stroke-width: 1.5;\" width=\"203.72\" x=\"28\" y=\"250.0986\"/><rect fill=\"#F8F8F8\" height=\"37.9375\" style=\"stroke: #383838; stroke-width: 1.5;\" width=\"203.72\" x=\"28\" y=\"250.0986\"/><text fill=\"#000000\" font-family=\"sans-serif\" font-size=\"12\" font-style=\"italic\" lengthAdjust=\"spacingAndGlyphs\" textLength=\"106\" x=\"76.86\" y=\"266.2373\">«calculation def»</text><text fill=\"#000000\" font-family=\"sans-serif\" font-size=\"12\" lengthAdjust=\"spacingAndGlyphs\" textLength=\"59\" x=\"100.36\" y=\"280.2061\">MassSum</text></a><!--MD5=[14e3b0961a2654348d326746436168a1]\n",
       "cluster E6--><a href=\"psysml:20e483d0-a5a0-4777-bc7f-caa19ca2a7e0\" target=\"_top\" title=\"psysml:20e483d0-a5a0-4777-bc7f-caa19ca2a7e0\" xlink:actuate=\"onRequest\" xlink:href=\"psysml:20e483d0-a5a0-4777-bc7f-caa19ca2a7e0\" xlink:show=\"new\" xlink:title=\"psysml:20e483d0-a5a0-4777-bc7f-caa19ca2a7e0\" xlink:type=\"simple\"><rect fill=\"#FFFFFF\" height=\"38\" id=\"E6\" rx=\"10\" ry=\"10\" style=\"stroke: #383838; stroke-width: 1.5;\" width=\"203.72\" x=\"46\" y=\"160.0986\"/><rect fill=\"#F8F8F8\" height=\"37.9375\" rx=\"10\" ry=\"10\" style=\"stroke: #F8F8F8; stroke-width: 1.5;\" width=\"203.72\" x=\"46\" y=\"160.0986\"/><rect fill=\"#F8F8F8\" height=\"10\" style=\"stroke: #F8F8F8; stroke-width: 1.5;\" width=\"203.72\" x=\"46\" y=\"188.0361\"/><rect fill=\"none\" height=\"38\" id=\"E6\" rx=\"10\" ry=\"10\" style=\"stroke: #383838; stroke-width: 1.5;\" width=\"203.72\" x=\"46\" y=\"160.0986\"/><text fill=\"#000000\" font-family=\"sans-serif\" font-size=\"12\" font-style=\"italic\" lengthAdjust=\"spacingAndGlyphs\" textLength=\"82\" x=\"106.86\" y=\"176.2373\">«calculation»</text><text fill=\"#000000\" font-family=\"sans-serif\" font-size=\"12\" lengthAdjust=\"spacingAndGlyphs\" textLength=\"18\" x=\"138.86\" y=\"190.2061\">ms</text><line style=\"stroke: #383838; stroke-width: 1.0;\" x1=\"46\" x2=\"249.72\" y1=\"198.0361\" y2=\"198.0361\"/></a><!--MD5=[7f149f147074ac12df2cb0a7728a5fb0]\n",
       "cluster E9--><a href=\"psysml:83ce5d61-6771-4884-a571-d4d08f340672\" target=\"_top\" title=\"psysml:83ce5d61-6771-4884-a571-d4d08f340672\" xlink:actuate=\"onRequest\" xlink:href=\"psysml:83ce5d61-6771-4884-a571-d4d08f340672\" xlink:show=\"new\" xlink:title=\"psysml:83ce5d61-6771-4884-a571-d4d08f340672\" xlink:type=\"simple\"><rect fill=\"#FFFFFF\" height=\"38\" id=\"E9\" style=\"stroke: #383838; stroke-width: 1.5;\" width=\"203.72\" x=\"46\" y=\"84.0986\"/><rect fill=\"#F8F8F8\" height=\"37.9375\" style=\"stroke: #383838; stroke-width: 1.5;\" width=\"203.72\" x=\"46\" y=\"84.0986\"/><text fill=\"#000000\" font-family=\"sans-serif\" font-size=\"12\" font-style=\"italic\" lengthAdjust=\"spacingAndGlyphs\" textLength=\"106\" x=\"94.86\" y=\"100.2373\">«calculation def»</text><text fill=\"#000000\" font-family=\"sans-serif\" font-size=\"12\" lengthAdjust=\"spacingAndGlyphs\" textLength=\"67\" x=\"114.36\" y=\"114.2061\">MassSum1</text></a><!--MD5=[47bea60c1a0ac6c1143df232041969c0]\n",
       "cluster E12--><a href=\"psysml:3aa3b647-0159-4a96-9fb7-94bd79c90754\" target=\"_top\" title=\"psysml:3aa3b647-0159-4a96-9fb7-94bd79c90754\" xlink:actuate=\"onRequest\" xlink:href=\"psysml:3aa3b647-0159-4a96-9fb7-94bd79c90754\" xlink:show=\"new\" xlink:title=\"psysml:3aa3b647-0159-4a96-9fb7-94bd79c90754\" xlink:type=\"simple\"><rect fill=\"#FFFFFF\" height=\"68\" id=\"E12\" rx=\"10\" ry=\"10\" style=\"stroke: #383838; stroke-width: 1.5;\" width=\"185.72\" x=\"46\" y=\"8.0986\"/><rect fill=\"#F8F8F8\" height=\"37.9375\" rx=\"10\" ry=\"10\" style=\"stroke: #F8F8F8; stroke-width: 1.5;\" width=\"185.72\" x=\"46\" y=\"8.0986\"/><rect fill=\"#F8F8F8\" height=\"10\" style=\"stroke: #F8F8F8; stroke-width: 1.5;\" width=\"185.72\" x=\"46\" y=\"36.0361\"/><rect fill=\"none\" height=\"68\" id=\"E12\" rx=\"10\" ry=\"10\" style=\"stroke: #383838; stroke-width: 1.5;\" width=\"185.72\" x=\"46\" y=\"8.0986\"/><text fill=\"#000000\" font-family=\"sans-serif\" font-size=\"12\" font-style=\"italic\" lengthAdjust=\"spacingAndGlyphs\" textLength=\"82\" x=\"97.86\" y=\"24.2373\">«calculation»</text><text fill=\"#000000\" font-family=\"sans-serif\" font-size=\"12\" lengthAdjust=\"spacingAndGlyphs\" textLength=\"26\" x=\"125.86\" y=\"38.2061\">ms1</text><line style=\"stroke: #383838; stroke-width: 1.0;\" x1=\"46\" x2=\"231.72\" y1=\"46.0361\" y2=\"46.0361\"/></a><text fill=\"#000000\" font-family=\"sans-serif\" font-size=\"14\" lengthAdjust=\"spacingAndGlyphs\" textLength=\"80\" x=\"6\" y=\"357.0938\">partMasses</text><rect fill=\"#383838\" height=\"12\" style=\"stroke: #F8F8F8; stroke-width: 1.5;\" width=\"12\" x=\"40\" y=\"332.0986\"/><text fill=\"#000000\" font-family=\"sans-serif\" font-size=\"14\" lengthAdjust=\"spacingAndGlyphs\" textLength=\"66\" x=\"198.72\" y=\"340.0938\">totalMass</text><rect fill=\"#383838\" height=\"12\" style=\"stroke: #F8F8F8; stroke-width: 1.5;\" width=\"12\" x=\"225.72\" y=\"315.0986\"/><text fill=\"#000000\" font-family=\"sans-serif\" font-size=\"14\" lengthAdjust=\"spacingAndGlyphs\" textLength=\"75\" x=\"8.5\" y=\"228.7969\">$collection</text><rect fill=\"#383838\" height=\"12\" style=\"stroke: #F8F8F8; stroke-width: 1.5;\" width=\"12\" x=\"40\" y=\"244.0986\"/><text fill=\"#000000\" font-family=\"sans-serif\" font-size=\"14\" lengthAdjust=\"spacingAndGlyphs\" textLength=\"48\" x=\"207.72\" y=\"252.7969\">$result</text><rect fill=\"#383838\" height=\"12\" style=\"stroke: #F8F8F8; stroke-width: 1.5;\" width=\"12\" x=\"225.72\" y=\"268.0986\"/><text fill=\"#000000\" font-family=\"sans-serif\" font-size=\"14\" lengthAdjust=\"spacingAndGlyphs\" textLength=\"80\" x=\"6\" y=\"213.0938\">partMasses</text><rect fill=\"#383838\" height=\"12\" style=\"stroke: #F8F8F8; stroke-width: 1.5;\" width=\"12\" x=\"40\" y=\"188.0986\"/><text fill=\"#000000\" font-family=\"sans-serif\" font-size=\"14\" lengthAdjust=\"spacingAndGlyphs\" textLength=\"66\" x=\"198.72\" y=\"217.0938\">totalMass</text><rect fill=\"#383838\" height=\"12\" style=\"stroke: #F8F8F8; stroke-width: 1.5;\" width=\"12\" x=\"225.72\" y=\"192.0986\"/><text fill=\"#000000\" font-family=\"sans-serif\" font-size=\"14\" lengthAdjust=\"spacingAndGlyphs\" textLength=\"80\" x=\"6\" y=\"137.0938\">partMasses</text><rect fill=\"#383838\" height=\"12\" style=\"stroke: #F8F8F8; stroke-width: 1.5;\" width=\"12\" x=\"40\" y=\"112.0986\"/><text fill=\"#000000\" font-family=\"sans-serif\" font-size=\"14\" lengthAdjust=\"spacingAndGlyphs\" textLength=\"66\" x=\"198.72\" y=\"141.0938\">totalMass</text><rect fill=\"#383838\" height=\"12\" style=\"stroke: #F8F8F8; stroke-width: 1.5;\" width=\"12\" x=\"225.72\" y=\"116.0986\"/><text fill=\"#000000\" font-family=\"sans-serif\" font-size=\"14\" lengthAdjust=\"spacingAndGlyphs\" textLength=\"80\" x=\"6\" y=\"20.7969\">partMasses</text><rect fill=\"#383838\" height=\"12\" style=\"stroke: #F8F8F8; stroke-width: 1.5;\" width=\"12\" x=\"40\" y=\"36.0986\"/><text fill=\"#000000\" font-family=\"sans-serif\" font-size=\"14\" lengthAdjust=\"spacingAndGlyphs\" textLength=\"66\" x=\"198.72\" y=\"20.7969\">totalMass</text><rect fill=\"#383838\" height=\"12\" style=\"stroke: #F8F8F8; stroke-width: 1.5;\" width=\"12\" x=\"225.72\" y=\"36.0986\"/><!--MD5=[d02e69f697baa535d17ba98f6bbc3ca2]\n",
       "@startuml\r\n",
       "skinparam ranksep 8\r\n",
       "left to right direction\r\n",
       "skinparam monochrome true\r\n",
       "skinparam classbackgroundcolor white\r\n",
       "skinparam shadowing false\r\n",
       "skinparam wrapWidth 300\r\n",
       "hide circle\r\n",
       "\r\n",
       "rec def \"MassSum\" as E1  <<(T,blue)calculation def>> [[psysml:5c4fc454-9680-413f-bf1a-bdf2f6cc06d5 ]] {\r\n",
       "portin \"partMasses\" as E2  [[psysml:57eaefe4-a57c-41fa-a944-033dc3e4df4e ]] \r\n",
       "portout \"totalMass\" as E3  [[psysml:35e88aae-ee13-4c55-bc31-272528607619 ]] \r\n",
       "portin \"$collection\" as E4  [[psysml:0e9b074a-52f0-467d-9ed6-1e247226bb71 ]] \r\n",
       "portout \"$result\" as E5  [[psysml:66242f20-bf9b-4b2d-900e-be3ce4c10d7e ]] \r\n",
       "}\r\n",
       "\r\n",
       "rec usage \"ms\" as E6  <<(T,blue)calculation>> [[psysml:20e483d0-a5a0-4777-bc7f-caa19ca2a7e0 ]] {\r\n",
       "portin \"partMasses\" as E7  [[psysml:61916027-7c4f-412f-9b89-438222569e79 ]] \r\n",
       "portout \"totalMass\" as E8  [[psysml:1b43c6aa-09b4-4e05-b4e4-873331fee78b ]] \r\n",
       "}\r\n",
       "\r\n",
       "rec def \"MassSum1\" as E9  <<(T,blue)calculation def>> [[psysml:83ce5d61-6771-4884-a571-d4d08f340672 ]] {\r\n",
       "portin \"partMasses\" as E10  [[psysml:0924d9a5-fc11-4345-935d-e5ff08c51a6a ]] \r\n",
       "portout \"totalMass\" as E11  [[psysml:b7c67a6a-5db6-4529-b3d9-f9fb47dc5f0c ]] \r\n",
       "}\r\n",
       "\r\n",
       "rec usage \"ms1\" as E12  <<(T,blue)calculation>> [[psysml:3aa3b647-0159-4a96-9fb7-94bd79c90754 ]] {\r\n",
       "portin \"partMasses\" as E13  [[psysml:d0b5b203-3fa8-4960-85f8-af6511da8b47 ]] \r\n",
       "portout \"totalMass\" as E14  [[psysml:7deb5e16-d6a2-4c83-9234-29097012e327 ]] \r\n",
       "}\r\n",
       "\r\n",
       "@enduml\r\n",
       "\n",
       "PlantUML version 1.2020.13(Sat Jun 13 12:26:38 UTC 2020)\n",
       "(EPL source distribution)\n",
       "Java Runtime: OpenJDK Runtime Environment\n",
       "JVM: OpenJDK 64-Bit Server VM\n",
       "Default Encoding: UTF-8\n",
       "Language: en\n",
       "Country: null\n",
       "--></g></svg>"
      ]
     },
     "execution_count": 20,
     "metadata": {},
     "output_type": "execute_result"
    }
   ],
   "source": [
    "%viz --style=\"LR\" --view=\"Action\" \"CalculationExample\""
   ]
  },
  {
   "cell_type": "code",
   "execution_count": 21,
   "id": "moderate-desert",
   "metadata": {
    "execution": {
     "iopub.execute_input": "2021-03-26T13:05:06.027987Z",
     "iopub.status.busy": "2021-03-26T13:05:06.027207Z",
     "iopub.status.idle": "2021-03-26T13:05:06.122341Z",
     "shell.execute_reply": "2021-03-26T13:05:06.121036Z"
    }
   },
   "outputs": [
    {
     "data": {
      "image/svg+xml": [
       "<?xml version=\"1.0\" encoding=\"UTF-8\" standalone=\"no\"?><svg xmlns=\"http://www.w3.org/2000/svg\" xmlns:xlink=\"http://www.w3.org/1999/xlink\" contentScriptType=\"application/ecmascript\" contentStyleType=\"text/css\" height=\"472px\" preserveAspectRatio=\"none\" style=\"width:386px;height:472px;\" version=\"1.1\" viewBox=\"0 0 386 472\" width=\"386px\" zoomAndPan=\"magnify\"><defs/><g><!--MD5=[fbc87193dbaf4d95561dea2c320d4a47]\n",
       "cluster E1--><a href=\"psysml:279b101a-ad7c-43dd-8a07-da5fe5802bed\" target=\"_top\" title=\"psysml:279b101a-ad7c-43dd-8a07-da5fe5802bed\" xlink:actuate=\"onRequest\" xlink:href=\"psysml:279b101a-ad7c-43dd-8a07-da5fe5802bed\" xlink:show=\"new\" xlink:title=\"psysml:279b101a-ad7c-43dd-8a07-da5fe5802bed\" xlink:type=\"simple\"><polygon fill=\"#FFFFFF\" points=\"16,6,173,6,180,28.2969,364,28.2969,364,460,16,460,16,6\" style=\"stroke: #000000; stroke-width: 1.5;\"/><line style=\"stroke: #000000; stroke-width: 1.5;\" x1=\"16\" x2=\"180\" y1=\"28.2969\" y2=\"28.2969\"/><text fill=\"#000000\" font-family=\"sans-serif\" font-size=\"14\" font-weight=\"bold\" lengthAdjust=\"spacingAndGlyphs\" textLength=\"151\" x=\"20\" y=\"20.9951\">CalculationExample</text></a><!--MD5=[b4997ac47864f28c2f74865a473b2911]\n",
       "class E2--><a href=\"psysml:3dfd6fc9-2012-44ec-8abc-b458a2efa8ee\" target=\"_top\" title=\"psysml:3dfd6fc9-2012-44ec-8abc-b458a2efa8ee\" xlink:actuate=\"onRequest\" xlink:href=\"psysml:3dfd6fc9-2012-44ec-8abc-b458a2efa8ee\" xlink:show=\"new\" xlink:title=\"psysml:3dfd6fc9-2012-44ec-8abc-b458a2efa8ee\" xlink:type=\"simple\"><rect fill=\"#FFFFFF\" height=\"75.5469\" id=\"E2\" rx=\"10\" ry=\"10\" style=\"stroke: #383838; stroke-width: 1.5;\" width=\"92\" x=\"60\" y=\"41\"/><text fill=\"#000000\" font-family=\"sans-serif\" font-size=\"12\" font-style=\"italic\" lengthAdjust=\"spacingAndGlyphs\" textLength=\"40\" x=\"86\" y=\"57.1387\">«part»</text><text fill=\"#000000\" font-family=\"sans-serif\" font-size=\"12\" lengthAdjust=\"spacingAndGlyphs\" textLength=\"43\" x=\"84.5\" y=\"71.1074\">vehicle</text><line style=\"stroke: #383838; stroke-width: 1.5;\" x1=\"61\" x2=\"151\" y1=\"78.9375\" y2=\"78.9375\"/><text fill=\"#000000\" font-family=\"sans-serif\" font-size=\"11\" lengthAdjust=\"spacingAndGlyphs\" textLength=\"80\" x=\"66\" y=\"109.9526\">m: MassValue</text><line style=\"stroke: #383838; stroke-width: 1.0;\" x1=\"61\" x2=\"78.5\" y1=\"93.3398\" y2=\"93.3398\"/><text fill=\"#000000\" font-family=\"sans-serif\" font-size=\"11\" lengthAdjust=\"spacingAndGlyphs\" textLength=\"55\" x=\"78.5\" y=\"96.6479\">attributes</text><line style=\"stroke: #383838; stroke-width: 1.0;\" x1=\"133.5\" x2=\"151\" y1=\"93.3398\" y2=\"93.3398\"/></a><!--MD5=[09b614a08d8cba4a07c9adeb5e0fee81]\n",
       "class E3--><a href=\"psysml:6f0477df-1982-4bef-bc4b-f3a5f459ca50\" target=\"_top\" title=\"psysml:6f0477df-1982-4bef-bc4b-f3a5f459ca50\" xlink:actuate=\"onRequest\" xlink:href=\"psysml:6f0477df-1982-4bef-bc4b-f3a5f459ca50\" xlink:show=\"new\" xlink:title=\"psysml:6f0477df-1982-4bef-bc4b-f3a5f459ca50\" xlink:type=\"simple\"><rect fill=\"#FFFFFF\" height=\"75.5469\" id=\"E3\" rx=\"10\" ry=\"10\" style=\"stroke: #383838; stroke-width: 1.5;\" width=\"92\" x=\"248\" y=\"152\"/><text fill=\"#000000\" font-family=\"sans-serif\" font-size=\"12\" font-style=\"italic\" lengthAdjust=\"spacingAndGlyphs\" textLength=\"40\" x=\"274\" y=\"168.1387\">«part»</text><text fill=\"#000000\" font-family=\"sans-serif\" font-size=\"12\" lengthAdjust=\"spacingAndGlyphs\" textLength=\"24\" x=\"282\" y=\"182.1074\">eng</text><line style=\"stroke: #383838; stroke-width: 1.5;\" x1=\"249\" x2=\"339\" y1=\"189.9375\" y2=\"189.9375\"/><text fill=\"#000000\" font-family=\"sans-serif\" font-size=\"11\" lengthAdjust=\"spacingAndGlyphs\" textLength=\"80\" x=\"254\" y=\"220.9526\">m: MassValue</text><line style=\"stroke: #383838; stroke-width: 1.0;\" x1=\"249\" x2=\"266.5\" y1=\"204.3398\" y2=\"204.3398\"/><text fill=\"#000000\" font-family=\"sans-serif\" font-size=\"11\" lengthAdjust=\"spacingAndGlyphs\" textLength=\"55\" x=\"266.5\" y=\"207.6479\">attributes</text><line style=\"stroke: #383838; stroke-width: 1.0;\" x1=\"321.5\" x2=\"339\" y1=\"204.3398\" y2=\"204.3398\"/></a><!--MD5=[ebbe1d658d1005bcc118a6aa81145e00]\n",
       "class E4--><a href=\"psysml:39f29039-e97f-4cd7-a6e4-24de87290ff7\" target=\"_top\" title=\"psysml:39f29039-e97f-4cd7-a6e4-24de87290ff7\" xlink:actuate=\"onRequest\" xlink:href=\"psysml:39f29039-e97f-4cd7-a6e4-24de87290ff7\" xlink:show=\"new\" xlink:title=\"psysml:39f29039-e97f-4cd7-a6e4-24de87290ff7\" xlink:type=\"simple\"><rect fill=\"#FFFFFF\" height=\"75.5469\" id=\"E4\" rx=\"10\" ry=\"10\" style=\"stroke: #383838; stroke-width: 1.5;\" width=\"92\" x=\"248\" y=\"41\"/><text fill=\"#000000\" font-family=\"sans-serif\" font-size=\"12\" font-style=\"italic\" lengthAdjust=\"spacingAndGlyphs\" textLength=\"40\" x=\"274\" y=\"57.1387\">«part»</text><text fill=\"#000000\" font-family=\"sans-serif\" font-size=\"12\" lengthAdjust=\"spacingAndGlyphs\" textLength=\"33\" x=\"277.5\" y=\"71.1074\">trans</text><line style=\"stroke: #383838; stroke-width: 1.5;\" x1=\"249\" x2=\"339\" y1=\"78.9375\" y2=\"78.9375\"/><text fill=\"#000000\" font-family=\"sans-serif\" font-size=\"11\" lengthAdjust=\"spacingAndGlyphs\" textLength=\"80\" x=\"254\" y=\"109.9526\">m: MassValue</text><line style=\"stroke: #383838; stroke-width: 1.0;\" x1=\"249\" x2=\"266.5\" y1=\"93.3398\" y2=\"93.3398\"/><text fill=\"#000000\" font-family=\"sans-serif\" font-size=\"11\" lengthAdjust=\"spacingAndGlyphs\" textLength=\"55\" x=\"266.5\" y=\"96.6479\">attributes</text><line style=\"stroke: #383838; stroke-width: 1.0;\" x1=\"321.5\" x2=\"339\" y1=\"93.3398\" y2=\"93.3398\"/></a><!--MD5=[270fce915f116d4de14055a7c1d9a0f3]\n",
       "class E5--><a href=\"psysml:5c4fc454-9680-413f-bf1a-bdf2f6cc06d5\" target=\"_top\" title=\"psysml:5c4fc454-9680-413f-bf1a-bdf2f6cc06d5\" xlink:actuate=\"onRequest\" xlink:href=\"psysml:5c4fc454-9680-413f-bf1a-bdf2f6cc06d5\" xlink:show=\"new\" xlink:title=\"psysml:5c4fc454-9680-413f-bf1a-bdf2f6cc06d5\" xlink:type=\"simple\"><rect fill=\"#FFFFFF\" height=\"45.9375\" id=\"E5\" style=\"stroke: #383838; stroke-width: 1.5;\" width=\"108\" x=\"240\" y=\"320\"/><text fill=\"#000000\" font-family=\"sans-serif\" font-size=\"12\" font-style=\"italic\" lengthAdjust=\"spacingAndGlyphs\" textLength=\"106\" x=\"241\" y=\"336.1387\">«calculation def»</text><text fill=\"#000000\" font-family=\"sans-serif\" font-size=\"12\" lengthAdjust=\"spacingAndGlyphs\" textLength=\"59\" x=\"264.5\" y=\"350.1074\">MassSum</text><line style=\"stroke: #383838; stroke-width: 1.5;\" x1=\"241\" x2=\"347\" y1=\"357.9375\" y2=\"357.9375\"/></a><!--MD5=[60a26617385b1d2d0262a64233df1f8d]\n",
       "class E6--><a href=\"psysml:20e483d0-a5a0-4777-bc7f-caa19ca2a7e0\" target=\"_top\" title=\"psysml:20e483d0-a5a0-4777-bc7f-caa19ca2a7e0\" xlink:actuate=\"onRequest\" xlink:href=\"psysml:20e483d0-a5a0-4777-bc7f-caa19ca2a7e0\" xlink:show=\"new\" xlink:title=\"psysml:20e483d0-a5a0-4777-bc7f-caa19ca2a7e0\" xlink:type=\"simple\"><rect fill=\"#FFFFFF\" height=\"45.9375\" id=\"E6\" rx=\"10\" ry=\"10\" style=\"stroke: #383838; stroke-width: 1.5;\" width=\"91\" x=\"60.5\" y=\"152\"/><text fill=\"#000000\" font-family=\"sans-serif\" font-size=\"12\" font-style=\"italic\" lengthAdjust=\"spacingAndGlyphs\" textLength=\"82\" x=\"65\" y=\"168.1387\">«calculation»</text><text fill=\"#000000\" font-family=\"sans-serif\" font-size=\"12\" lengthAdjust=\"spacingAndGlyphs\" textLength=\"85\" x=\"63.5\" y=\"182.1074\">ms: MassSum</text><line style=\"stroke: #383838; stroke-width: 1.5;\" x1=\"61.5\" x2=\"150.5\" y1=\"189.9375\" y2=\"189.9375\"/></a><!--MD5=[2156ba9850f5573cc1fc38a6a4b2f02b]\n",
       "class E7--><a href=\"psysml:83ce5d61-6771-4884-a571-d4d08f340672\" target=\"_top\" title=\"psysml:83ce5d61-6771-4884-a571-d4d08f340672\" xlink:actuate=\"onRequest\" xlink:href=\"psysml:83ce5d61-6771-4884-a571-d4d08f340672\" xlink:show=\"new\" xlink:title=\"psysml:83ce5d61-6771-4884-a571-d4d08f340672\" xlink:type=\"simple\"><rect fill=\"#FFFFFF\" height=\"88.3516\" id=\"E7\" style=\"stroke: #383838; stroke-width: 1.5;\" width=\"148\" x=\"32\" y=\"233\"/><text fill=\"#000000\" font-family=\"sans-serif\" font-size=\"12\" font-style=\"italic\" lengthAdjust=\"spacingAndGlyphs\" textLength=\"106\" x=\"53\" y=\"249.1387\">«calculation def»</text><text fill=\"#000000\" font-family=\"sans-serif\" font-size=\"12\" lengthAdjust=\"spacingAndGlyphs\" textLength=\"67\" x=\"72.5\" y=\"263.1074\">MassSum1</text><line style=\"stroke: #383838; stroke-width: 1.5;\" x1=\"33\" x2=\"179\" y1=\"270.9375\" y2=\"270.9375\"/><text fill=\"#000000\" font-family=\"sans-serif\" font-size=\"11\" lengthAdjust=\"spacingAndGlyphs\" textLength=\"136\" x=\"38\" y=\"301.9526\">partMasses: MassValue</text><text fill=\"#000000\" font-family=\"sans-serif\" font-size=\"11\" lengthAdjust=\"spacingAndGlyphs\" textLength=\"124\" x=\"38\" y=\"314.7573\">totalMass: MassValue</text><line style=\"stroke: #383838; stroke-width: 1.0;\" x1=\"33\" x2=\"78.5\" y1=\"285.3398\" y2=\"285.3398\"/><text fill=\"#000000\" font-family=\"sans-serif\" font-size=\"11\" lengthAdjust=\"spacingAndGlyphs\" textLength=\"55\" x=\"78.5\" y=\"288.6479\">attributes</text><line style=\"stroke: #383838; stroke-width: 1.0;\" x1=\"133.5\" x2=\"179\" y1=\"285.3398\" y2=\"285.3398\"/></a><!--MD5=[b9389687b975829384b498ac4b7476b2]\n",
       "class E8--><a href=\"psysml:3aa3b647-0159-4a96-9fb7-94bd79c90754\" target=\"_top\" title=\"psysml:3aa3b647-0159-4a96-9fb7-94bd79c90754\" xlink:actuate=\"onRequest\" xlink:href=\"psysml:3aa3b647-0159-4a96-9fb7-94bd79c90754\" xlink:show=\"new\" xlink:title=\"psysml:3aa3b647-0159-4a96-9fb7-94bd79c90754\" xlink:type=\"simple\"><rect fill=\"#FFFFFF\" height=\"88.3516\" id=\"E8\" rx=\"10\" ry=\"10\" style=\"stroke: #383838; stroke-width: 1.5;\" width=\"99\" x=\"56.5\" y=\"356\"/><text fill=\"#000000\" font-family=\"sans-serif\" font-size=\"12\" font-style=\"italic\" lengthAdjust=\"spacingAndGlyphs\" textLength=\"82\" x=\"65\" y=\"372.1387\">«calculation»</text><text fill=\"#000000\" font-family=\"sans-serif\" font-size=\"12\" lengthAdjust=\"spacingAndGlyphs\" textLength=\"93\" x=\"59.5\" y=\"386.1074\">ms1: MassSum</text><line style=\"stroke: #383838; stroke-width: 1.5;\" x1=\"57.5\" x2=\"154.5\" y1=\"393.9375\" y2=\"393.9375\"/><text fill=\"#000000\" font-family=\"sans-serif\" font-size=\"11\" lengthAdjust=\"spacingAndGlyphs\" textLength=\"67\" x=\"62.5\" y=\"424.9526\">partMasses</text><text fill=\"#000000\" font-family=\"sans-serif\" font-size=\"11\" lengthAdjust=\"spacingAndGlyphs\" textLength=\"55\" x=\"62.5\" y=\"437.7573\">totalMass</text><line style=\"stroke: #383838; stroke-width: 1.0;\" x1=\"57.5\" x2=\"78.5\" y1=\"408.3398\" y2=\"408.3398\"/><text fill=\"#000000\" font-family=\"sans-serif\" font-size=\"11\" lengthAdjust=\"spacingAndGlyphs\" textLength=\"55\" x=\"78.5\" y=\"411.6479\">attributes</text><line style=\"stroke: #383838; stroke-width: 1.0;\" x1=\"133.5\" x2=\"154.5\" y1=\"408.3398\" y2=\"408.3398\"/></a><!--MD5=[209b3feb70ccb6233bfe1053d122c12c]\n",
       "reverse link E2 to E3--><a href=\"psysml:6f0477df-1982-4bef-bc4b-f3a5f459ca50\" target=\"_top\" title=\"psysml:6f0477df-1982-4bef-bc4b-f3a5f459ca50\" xlink:actuate=\"onRequest\" xlink:href=\"psysml:6f0477df-1982-4bef-bc4b-f3a5f459ca50\" xlink:show=\"new\" xlink:title=\"psysml:6f0477df-1982-4bef-bc4b-f3a5f459ca50\" xlink:type=\"simple\"><path d=\"M163.28,112.59 C190.32,128.73 222.3,147.81 247.74,162.99 \" fill=\"none\" id=\"E2&lt;-E3\" style=\"stroke: #383838; stroke-width: 1.0;\"/><polygon fill=\"#383838\" points=\"152.03,105.87,155.1366,112.3776,162.3385,112.0129,159.2319,105.5053,152.03,105.87\" style=\"stroke: #383838; stroke-width: 1.0;\"/></a><!--MD5=[9618e71518536f8baf3342ff6fdab317]\n",
       "reverse link E2 to E4--><a href=\"psysml:39f29039-e97f-4cd7-a6e4-24de87290ff7\" target=\"_top\" title=\"psysml:39f29039-e97f-4cd7-a6e4-24de87290ff7\" xlink:actuate=\"onRequest\" xlink:href=\"psysml:39f29039-e97f-4cd7-a6e4-24de87290ff7\" xlink:show=\"new\" xlink:title=\"psysml:39f29039-e97f-4cd7-a6e4-24de87290ff7\" xlink:type=\"simple\"><path d=\"M165.1,79 C191.75,79 222.87,79 247.74,79 \" fill=\"none\" id=\"E2&lt;-E4\" style=\"stroke: #383838; stroke-width: 1.0;\"/><polygon fill=\"#383838\" points=\"152.03,79,158.03,83,164.03,79,158.03,75,152.03,79\" style=\"stroke: #383838; stroke-width: 1.0;\"/></a><!--MD5=[25b190c987b1e74e5126d372c5a73af1]\n",
       "link E6 to E5--><a href=\"psysml:087e1e8b-9f76-403f-b1f3-15ea1e5b2649\" target=\"_top\" title=\"psysml:087e1e8b-9f76-403f-b1f3-15ea1e5b2649\" xlink:actuate=\"onRequest\" xlink:href=\"psysml:087e1e8b-9f76-403f-b1f3-15ea1e5b2649\" xlink:show=\"new\" xlink:title=\"psysml:087e1e8b-9f76-403f-b1f3-15ea1e5b2649\" xlink:type=\"simple\"><path d=\"M151.8,196.35 C161.5,201.83 171.42,208.14 180,215 C212.25,240.78 242.86,276.4 264.07,303.52 \" fill=\"none\" id=\"E6-&gt;E5\" style=\"stroke: #383838; stroke-width: 1.0;\"/><polygon fill=\"#FFFFFF\" points=\"276.28,319.54,259.1957,308.6714,270.3306,300.1853,276.28,319.54\" style=\"stroke: #383838; stroke-width: 1.0;\"/><ellipse cx=\"257.3313\" cy=\"302.9256\" fill=\"#383838\" rx=\"2\" ry=\"2\" style=\"stroke: #383838; stroke-width: 1.0;\"/><ellipse cx=\"265.2848\" cy=\"296.8641\" fill=\"#383838\" rx=\"2\" ry=\"2\" style=\"stroke: #383838; stroke-width: 1.0;\"/></a><!--MD5=[1ccb2481ffa92f8d51a74ee30c51832a]\n",
       "link E8 to E5--><a href=\"psysml:a6dd9655-fa53-42fd-8b92-db635a2ece9b\" target=\"_top\" title=\"psysml:a6dd9655-fa53-42fd-8b92-db635a2ece9b\" xlink:actuate=\"onRequest\" xlink:href=\"psysml:a6dd9655-fa53-42fd-8b92-db635a2ece9b\" xlink:show=\"new\" xlink:title=\"psysml:a6dd9655-fa53-42fd-8b92-db635a2ece9b\" xlink:type=\"simple\"><path d=\"M155.87,385.02 C175.65,378.96 198.89,371.84 220.57,365.2 \" fill=\"none\" id=\"E8-&gt;E5\" style=\"stroke: #383838; stroke-width: 1.0;\"/><polygon fill=\"#FFFFFF\" points=\"239.89,359.28,223.7804,371.5471,219.6724,358.1634,239.89,359.28\" style=\"stroke: #383838; stroke-width: 1.0;\"/><ellipse cx=\"217.7445\" cy=\"371.3077\" fill=\"#383838\" rx=\"2\" ry=\"2\" style=\"stroke: #383838; stroke-width: 1.0;\"/><ellipse cx=\"214.8101\" cy=\"361.7479\" fill=\"#383838\" rx=\"2\" ry=\"2\" style=\"stroke: #383838; stroke-width: 1.0;\"/></a><!--MD5=[6d7b4fad07fe9cf167c3ffaf927fa305]\n",
       "@startuml\r\n",
       "left to right direction\r\n",
       "skinparam monochrome true\r\n",
       "skinparam classbackgroundcolor white\r\n",
       "skinparam shadowing false\r\n",
       "skinparam wrapWidth 300\r\n",
       "hide circle\r\n",
       "\r\n",
       "package \"CalculationExample\" as E1  [[psysml:279b101a-ad7c-43dd-8a07-da5fe5802bed ]]  {\r\n",
       "comp usage \"vehicle\" as E2  <<(T,blue)part>> [[psysml:3dfd6fc9-2012-44ec-8abc-b458a2efa8ee ]] {\r\n",
       "- - attributes - -\r\n",
       "m: MassValue\r\n",
       "}\r\n",
       "comp usage \"eng\" as E3  <<(T,blue)part>> [[psysml:6f0477df-1982-4bef-bc4b-f3a5f459ca50 ]] {\r\n",
       "- - attributes - -\r\n",
       "m: MassValue\r\n",
       "}\r\n",
       "comp usage \"trans\" as E4  <<(T,blue)part>> [[psysml:39f29039-e97f-4cd7-a6e4-24de87290ff7 ]] {\r\n",
       "- - attributes - -\r\n",
       "m: MassValue\r\n",
       "}\r\n",
       "comp def \"MassSum\" as E5  <<(T,blue)calculation def>> [[psysml:5c4fc454-9680-413f-bf1a-bdf2f6cc06d5 ]] {\r\n",
       "}\r\n",
       "comp usage \"ms: MassSum\" as E6  <<(T,blue)calculation>> [[psysml:20e483d0-a5a0-4777-bc7f-caa19ca2a7e0 ]] {\r\n",
       "}\r\n",
       "comp def \"MassSum1\" as E7  <<(T,blue)calculation def>> [[psysml:83ce5d61-6771-4884-a571-d4d08f340672 ]] {\r\n",
       "- - attributes - -\r\n",
       "partMasses: MassValue\r\n",
       "totalMass: MassValue\r\n",
       "}\r\n",
       "comp usage \"ms1: MassSum\" as E8  <<(T,blue)calculation>> [[psysml:3aa3b647-0159-4a96-9fb7-94bd79c90754 ]] {\r\n",
       "- - attributes - -\r\n",
       "partMasses\r\n",
       "totalMass\r\n",
       "}\r\n",
       "E2 *- - E3 [[psysml:6f0477df-1982-4bef-bc4b-f3a5f459ca50 ]] \r\n",
       "E2 *- - E4 [[psysml:39f29039-e97f-4cd7-a6e4-24de87290ff7 ]] \r\n",
       "E6 - -:|> E5 [[psysml:087e1e8b-9f76-403f-b1f3-15ea1e5b2649 ]] \r\n",
       "E8 - -:|> E5 [[psysml:a6dd9655-fa53-42fd-8b92-db635a2ece9b ]] \r\n",
       "}\r\n",
       "@enduml\r\n",
       "\n",
       "PlantUML version 1.2020.13(Sat Jun 13 12:26:38 UTC 2020)\n",
       "(EPL source distribution)\n",
       "Java Runtime: OpenJDK Runtime Environment\n",
       "JVM: OpenJDK 64-Bit Server VM\n",
       "Default Encoding: UTF-8\n",
       "Language: en\n",
       "Country: null\n",
       "--></g></svg>"
      ]
     },
     "execution_count": 21,
     "metadata": {},
     "output_type": "execute_result"
    }
   ],
   "source": [
    "%viz --style=\"LR\" --view=\"Sequence\" \"CalculationExample\""
   ]
  },
  {
   "cell_type": "code",
   "execution_count": 22,
   "id": "normal-repeat",
   "metadata": {
    "execution": {
     "iopub.execute_input": "2021-03-26T13:05:06.173575Z",
     "iopub.status.busy": "2021-03-26T13:05:06.173051Z",
     "iopub.status.idle": "2021-03-26T13:05:06.263736Z",
     "shell.execute_reply": "2021-03-26T13:05:06.261578Z"
    }
   },
   "outputs": [
    {
     "data": {
      "image/svg+xml": [
       "<?xml version=\"1.0\" encoding=\"UTF-8\" standalone=\"no\"?><svg xmlns=\"http://www.w3.org/2000/svg\" xmlns:xlink=\"http://www.w3.org/1999/xlink\" contentScriptType=\"application/ecmascript\" contentStyleType=\"text/css\" height=\"590px\" preserveAspectRatio=\"none\" style=\"width:510px;height:590px;\" version=\"1.1\" viewBox=\"0 0 510 590\" width=\"510px\" zoomAndPan=\"magnify\"><defs/><g><!--MD5=[fbc87193dbaf4d95561dea2c320d4a47]\n",
       "cluster E1--><a href=\"psysml:279b101a-ad7c-43dd-8a07-da5fe5802bed\" target=\"_top\" title=\"psysml:279b101a-ad7c-43dd-8a07-da5fe5802bed\" xlink:actuate=\"onRequest\" xlink:href=\"psysml:279b101a-ad7c-43dd-8a07-da5fe5802bed\" xlink:show=\"new\" xlink:title=\"psysml:279b101a-ad7c-43dd-8a07-da5fe5802bed\" xlink:type=\"simple\"><polygon fill=\"#FFFFFF\" points=\"16,6,173,6,180,28.2969,488.72,28.2969,488.72,578,16,578,16,6\" style=\"stroke: #000000; stroke-width: 1.5;\"/><line style=\"stroke: #000000; stroke-width: 1.5;\" x1=\"16\" x2=\"180\" y1=\"28.2969\" y2=\"28.2969\"/><text fill=\"#000000\" font-family=\"sans-serif\" font-size=\"14\" font-weight=\"bold\" lengthAdjust=\"spacingAndGlyphs\" textLength=\"151\" x=\"20\" y=\"20.9951\">CalculationExample</text></a><!--MD5=[de5ec2e2e8f62f467e546659f5068c88]\n",
       "cluster E5--><a href=\"psysml:5c4fc454-9680-413f-bf1a-bdf2f6cc06d5\" target=\"_top\" title=\"psysml:5c4fc454-9680-413f-bf1a-bdf2f6cc06d5\" xlink:actuate=\"onRequest\" xlink:href=\"psysml:5c4fc454-9680-413f-bf1a-bdf2f6cc06d5\" xlink:show=\"new\" xlink:title=\"psysml:5c4fc454-9680-413f-bf1a-bdf2f6cc06d5\" xlink:type=\"simple\"><rect fill=\"#FFFFFF\" height=\"88\" id=\"E5\" style=\"stroke: #383838; stroke-width: 1.5;\" width=\"387.22\" x=\"63.5\" y=\"345\"/><rect fill=\"#F8F8F8\" height=\"37.9375\" style=\"stroke: #383838; stroke-width: 1.5;\" width=\"387.22\" x=\"63.5\" y=\"345\"/><text fill=\"#000000\" font-family=\"sans-serif\" font-size=\"12\" font-style=\"italic\" lengthAdjust=\"spacingAndGlyphs\" textLength=\"106\" x=\"204.11\" y=\"361.1387\">«calculation def»</text><text fill=\"#000000\" font-family=\"sans-serif\" font-size=\"12\" lengthAdjust=\"spacingAndGlyphs\" textLength=\"59\" x=\"227.61\" y=\"375.1074\">MassSum</text></a><!--MD5=[917b9dd0c7eca3ee5f47219d1a84c0ad]\n",
       "cluster E11--><a href=\"psysml:83ce5d61-6771-4884-a571-d4d08f340672\" target=\"_top\" title=\"psysml:83ce5d61-6771-4884-a571-d4d08f340672\" xlink:actuate=\"onRequest\" xlink:href=\"psysml:83ce5d61-6771-4884-a571-d4d08f340672\" xlink:show=\"new\" xlink:title=\"psysml:83ce5d61-6771-4884-a571-d4d08f340672\" xlink:type=\"simple\"><rect fill=\"#FFFFFF\" height=\"68\" id=\"E11\" style=\"stroke: #383838; stroke-width: 1.5;\" width=\"369.22\" x=\"81.5\" y=\"41\"/><rect fill=\"#F8F8F8\" height=\"37.9375\" style=\"stroke: #383838; stroke-width: 1.5;\" width=\"369.22\" x=\"81.5\" y=\"41\"/><text fill=\"#000000\" font-family=\"sans-serif\" font-size=\"12\" font-style=\"italic\" lengthAdjust=\"spacingAndGlyphs\" textLength=\"106\" x=\"213.11\" y=\"57.1387\">«calculation def»</text><text fill=\"#000000\" font-family=\"sans-serif\" font-size=\"12\" lengthAdjust=\"spacingAndGlyphs\" textLength=\"67\" x=\"232.61\" y=\"71.1074\">MassSum1</text></a><!--MD5=[b4997ac47864f28c2f74865a473b2911]\n",
       "class E2--><a href=\"psysml:3dfd6fc9-2012-44ec-8abc-b458a2efa8ee\" target=\"_top\" title=\"psysml:3dfd6fc9-2012-44ec-8abc-b458a2efa8ee\" xlink:actuate=\"onRequest\" xlink:href=\"psysml:3dfd6fc9-2012-44ec-8abc-b458a2efa8ee\" xlink:show=\"new\" xlink:title=\"psysml:3dfd6fc9-2012-44ec-8abc-b458a2efa8ee\" xlink:type=\"simple\"><rect fill=\"#FFFFFF\" height=\"75.5469\" id=\"E2\" rx=\"10\" ry=\"10\" style=\"stroke: #383838; stroke-width: 1.5;\" width=\"92\" x=\"35.5\" y=\"137\"/><text fill=\"#000000\" font-family=\"sans-serif\" font-size=\"12\" font-style=\"italic\" lengthAdjust=\"spacingAndGlyphs\" textLength=\"40\" x=\"61.5\" y=\"153.1387\">«part»</text><text fill=\"#000000\" font-family=\"sans-serif\" font-size=\"12\" lengthAdjust=\"spacingAndGlyphs\" textLength=\"43\" x=\"60\" y=\"167.1074\">vehicle</text><line style=\"stroke: #383838; stroke-width: 1.5;\" x1=\"36.5\" x2=\"126.5\" y1=\"174.9375\" y2=\"174.9375\"/><text fill=\"#000000\" font-family=\"sans-serif\" font-size=\"11\" lengthAdjust=\"spacingAndGlyphs\" textLength=\"80\" x=\"41.5\" y=\"205.9526\">m: MassValue</text><line style=\"stroke: #383838; stroke-width: 1.0;\" x1=\"36.5\" x2=\"54\" y1=\"189.3398\" y2=\"189.3398\"/><text fill=\"#000000\" font-family=\"sans-serif\" font-size=\"11\" lengthAdjust=\"spacingAndGlyphs\" textLength=\"55\" x=\"54\" y=\"192.6479\">attributes</text><line style=\"stroke: #383838; stroke-width: 1.0;\" x1=\"109\" x2=\"126.5\" y1=\"189.3398\" y2=\"189.3398\"/></a><!--MD5=[09b614a08d8cba4a07c9adeb5e0fee81]\n",
       "class E3--><a href=\"psysml:6f0477df-1982-4bef-bc4b-f3a5f459ca50\" target=\"_top\" title=\"psysml:6f0477df-1982-4bef-bc4b-f3a5f459ca50\" xlink:actuate=\"onRequest\" xlink:href=\"psysml:6f0477df-1982-4bef-bc4b-f3a5f459ca50\" xlink:show=\"new\" xlink:title=\"psysml:6f0477df-1982-4bef-bc4b-f3a5f459ca50\" xlink:type=\"simple\"><rect fill=\"#FFFFFF\" height=\"75.5469\" id=\"E3\" rx=\"10\" ry=\"10\" style=\"stroke: #383838; stroke-width: 1.5;\" width=\"92\" x=\"211.5\" y=\"239\"/><text fill=\"#000000\" font-family=\"sans-serif\" font-size=\"12\" font-style=\"italic\" lengthAdjust=\"spacingAndGlyphs\" textLength=\"40\" x=\"237.5\" y=\"255.1387\">«part»</text><text fill=\"#000000\" font-family=\"sans-serif\" font-size=\"12\" lengthAdjust=\"spacingAndGlyphs\" textLength=\"24\" x=\"245.5\" y=\"269.1074\">eng</text><line style=\"stroke: #383838; stroke-width: 1.5;\" x1=\"212.5\" x2=\"302.5\" y1=\"276.9375\" y2=\"276.9375\"/><text fill=\"#000000\" font-family=\"sans-serif\" font-size=\"11\" lengthAdjust=\"spacingAndGlyphs\" textLength=\"80\" x=\"217.5\" y=\"307.9526\">m: MassValue</text><line style=\"stroke: #383838; stroke-width: 1.0;\" x1=\"212.5\" x2=\"230\" y1=\"291.3398\" y2=\"291.3398\"/><text fill=\"#000000\" font-family=\"sans-serif\" font-size=\"11\" lengthAdjust=\"spacingAndGlyphs\" textLength=\"55\" x=\"230\" y=\"294.6479\">attributes</text><line style=\"stroke: #383838; stroke-width: 1.0;\" x1=\"285\" x2=\"302.5\" y1=\"291.3398\" y2=\"291.3398\"/></a><!--MD5=[ebbe1d658d1005bcc118a6aa81145e00]\n",
       "class E4--><a href=\"psysml:39f29039-e97f-4cd7-a6e4-24de87290ff7\" target=\"_top\" title=\"psysml:39f29039-e97f-4cd7-a6e4-24de87290ff7\" xlink:actuate=\"onRequest\" xlink:href=\"psysml:39f29039-e97f-4cd7-a6e4-24de87290ff7\" xlink:show=\"new\" xlink:title=\"psysml:39f29039-e97f-4cd7-a6e4-24de87290ff7\" xlink:type=\"simple\"><rect fill=\"#FFFFFF\" height=\"75.5469\" id=\"E4\" rx=\"10\" ry=\"10\" style=\"stroke: #383838; stroke-width: 1.5;\" width=\"92\" x=\"211.5\" y=\"128\"/><text fill=\"#000000\" font-family=\"sans-serif\" font-size=\"12\" font-style=\"italic\" lengthAdjust=\"spacingAndGlyphs\" textLength=\"40\" x=\"237.5\" y=\"144.1387\">«part»</text><text fill=\"#000000\" font-family=\"sans-serif\" font-size=\"12\" lengthAdjust=\"spacingAndGlyphs\" textLength=\"33\" x=\"241\" y=\"158.1074\">trans</text><line style=\"stroke: #383838; stroke-width: 1.5;\" x1=\"212.5\" x2=\"302.5\" y1=\"165.9375\" y2=\"165.9375\"/><text fill=\"#000000\" font-family=\"sans-serif\" font-size=\"11\" lengthAdjust=\"spacingAndGlyphs\" textLength=\"80\" x=\"217.5\" y=\"196.9526\">m: MassValue</text><line style=\"stroke: #383838; stroke-width: 1.0;\" x1=\"212.5\" x2=\"230\" y1=\"180.3398\" y2=\"180.3398\"/><text fill=\"#000000\" font-family=\"sans-serif\" font-size=\"11\" lengthAdjust=\"spacingAndGlyphs\" textLength=\"55\" x=\"230\" y=\"183.6479\">attributes</text><line style=\"stroke: #383838; stroke-width: 1.0;\" x1=\"285\" x2=\"302.5\" y1=\"180.3398\" y2=\"180.3398\"/></a><!--MD5=[96f4274e9e20536e775497830990834d]\n",
       "class E10--><a href=\"psysml:20e483d0-a5a0-4777-bc7f-caa19ca2a7e0\" target=\"_top\" title=\"psysml:20e483d0-a5a0-4777-bc7f-caa19ca2a7e0\" xlink:actuate=\"onRequest\" xlink:href=\"psysml:20e483d0-a5a0-4777-bc7f-caa19ca2a7e0\" xlink:show=\"new\" xlink:title=\"psysml:20e483d0-a5a0-4777-bc7f-caa19ca2a7e0\" xlink:type=\"simple\"><rect fill=\"#FFFFFF\" height=\"45.9375\" id=\"E10\" rx=\"10\" ry=\"10\" style=\"stroke: #383838; stroke-width: 1.5;\" width=\"91\" x=\"36\" y=\"258\"/><text fill=\"#000000\" font-family=\"sans-serif\" font-size=\"12\" font-style=\"italic\" lengthAdjust=\"spacingAndGlyphs\" textLength=\"82\" x=\"40.5\" y=\"274.1387\">«calculation»</text><text fill=\"#000000\" font-family=\"sans-serif\" font-size=\"12\" lengthAdjust=\"spacingAndGlyphs\" textLength=\"85\" x=\"39\" y=\"288.1074\">ms: MassSum</text><line style=\"stroke: #383838; stroke-width: 1.5;\" x1=\"37\" x2=\"126\" y1=\"295.9375\" y2=\"295.9375\"/></a><!--MD5=[bee11217b2f71d958a27249dc326068c]\n",
       "class E14--><a href=\"psysml:3aa3b647-0159-4a96-9fb7-94bd79c90754\" target=\"_top\" title=\"psysml:3aa3b647-0159-4a96-9fb7-94bd79c90754\" xlink:actuate=\"onRequest\" xlink:href=\"psysml:3aa3b647-0159-4a96-9fb7-94bd79c90754\" xlink:show=\"new\" xlink:title=\"psysml:3aa3b647-0159-4a96-9fb7-94bd79c90754\" xlink:type=\"simple\"><rect fill=\"#FFFFFF\" height=\"88.3516\" id=\"E14\" rx=\"10\" ry=\"10\" style=\"stroke: #383838; stroke-width: 1.5;\" width=\"99\" x=\"32\" y=\"474\"/><text fill=\"#000000\" font-family=\"sans-serif\" font-size=\"12\" font-style=\"italic\" lengthAdjust=\"spacingAndGlyphs\" textLength=\"82\" x=\"40.5\" y=\"490.1387\">«calculation»</text><text fill=\"#000000\" font-family=\"sans-serif\" font-size=\"12\" lengthAdjust=\"spacingAndGlyphs\" textLength=\"93\" x=\"35\" y=\"504.1074\">ms1: MassSum</text><line style=\"stroke: #383838; stroke-width: 1.5;\" x1=\"33\" x2=\"130\" y1=\"511.9375\" y2=\"511.9375\"/><text fill=\"#000000\" font-family=\"sans-serif\" font-size=\"11\" lengthAdjust=\"spacingAndGlyphs\" textLength=\"67\" x=\"38\" y=\"542.9526\">partMasses</text><text fill=\"#000000\" font-family=\"sans-serif\" font-size=\"11\" lengthAdjust=\"spacingAndGlyphs\" textLength=\"55\" x=\"38\" y=\"555.7573\">totalMass</text><line style=\"stroke: #383838; stroke-width: 1.0;\" x1=\"33\" x2=\"54\" y1=\"526.3398\" y2=\"526.3398\"/><text fill=\"#000000\" font-family=\"sans-serif\" font-size=\"11\" lengthAdjust=\"spacingAndGlyphs\" textLength=\"55\" x=\"54\" y=\"529.6479\">attributes</text><line style=\"stroke: #383838; stroke-width: 1.0;\" x1=\"109\" x2=\"130\" y1=\"526.3398\" y2=\"526.3398\"/></a><text fill=\"#000000\" font-family=\"sans-serif\" font-size=\"14\" lengthAdjust=\"spacingAndGlyphs\" textLength=\"80\" x=\"41.5\" y=\"451.9951\">partMasses</text><rect fill=\"#383838\" height=\"12\" style=\"stroke: #F8F8F8; stroke-width: 1.5;\" width=\"12\" x=\"75.5\" y=\"427\"/><text fill=\"#000000\" font-family=\"sans-serif\" font-size=\"14\" lengthAdjust=\"spacingAndGlyphs\" textLength=\"66\" x=\"417.72\" y=\"436.9951\">totalMass</text><rect fill=\"#383838\" height=\"12\" style=\"stroke: #F8F8F8; stroke-width: 1.5;\" width=\"12\" x=\"444.72\" y=\"412\"/><text fill=\"#000000\" font-family=\"sans-serif\" font-size=\"14\" lengthAdjust=\"spacingAndGlyphs\" textLength=\"75\" x=\"44\" y=\"323.6982\">$collection</text><rect fill=\"#383838\" height=\"12\" style=\"stroke: #F8F8F8; stroke-width: 1.5;\" width=\"12\" x=\"75.5\" y=\"339\"/><text fill=\"#000000\" font-family=\"sans-serif\" font-size=\"14\" lengthAdjust=\"spacingAndGlyphs\" textLength=\"48\" x=\"426.72\" y=\"349.6982\">$result</text><rect fill=\"#383838\" height=\"12\" style=\"stroke: #F8F8F8; stroke-width: 1.5;\" width=\"12\" x=\"444.72\" y=\"365\"/><text fill=\"#000000\" font-family=\"sans-serif\" font-size=\"14\" lengthAdjust=\"spacingAndGlyphs\" textLength=\"80\" x=\"41.5\" y=\"53.6982\">partMasses</text><rect fill=\"#383838\" height=\"12\" style=\"stroke: #F8F8F8; stroke-width: 1.5;\" width=\"12\" x=\"75.5\" y=\"69\"/><text fill=\"#000000\" font-family=\"sans-serif\" font-size=\"14\" lengthAdjust=\"spacingAndGlyphs\" textLength=\"66\" x=\"417.72\" y=\"53.6982\">totalMass</text><rect fill=\"#383838\" height=\"12\" style=\"stroke: #F8F8F8; stroke-width: 1.5;\" width=\"12\" x=\"444.72\" y=\"69\"/><!--MD5=[209b3feb70ccb6233bfe1053d122c12c]\n",
       "reverse link E2 to E3--><a href=\"psysml:6f0477df-1982-4bef-bc4b-f3a5f459ca50\" target=\"_top\" title=\"psysml:6f0477df-1982-4bef-bc4b-f3a5f459ca50\" xlink:actuate=\"onRequest\" xlink:href=\"psysml:6f0477df-1982-4bef-bc4b-f3a5f459ca50\" xlink:show=\"new\" xlink:title=\"psysml:6f0477df-1982-4bef-bc4b-f3a5f459ca50\" xlink:type=\"simple\"><path d=\"M138.98,208.11 C162.46,221.88 189.34,237.63 211.46,250.6 \" fill=\"none\" id=\"E2&lt;-E3\" style=\"stroke: #383838; stroke-width: 1.0;\"/><polygon fill=\"#383838\" points=\"127.76,201.53,130.9144,208.0146,138.1134,207.5969,134.959,201.1123,127.76,201.53\" style=\"stroke: #383838; stroke-width: 1.0;\"/></a><!--MD5=[9618e71518536f8baf3342ff6fdab317]\n",
       "reverse link E2 to E4--><a href=\"psysml:39f29039-e97f-4cd7-a6e4-24de87290ff7\" target=\"_top\" title=\"psysml:39f29039-e97f-4cd7-a6e4-24de87290ff7\" xlink:actuate=\"onRequest\" xlink:href=\"psysml:39f29039-e97f-4cd7-a6e4-24de87290ff7\" xlink:show=\"new\" xlink:title=\"psysml:39f29039-e97f-4cd7-a6e4-24de87290ff7\" xlink:type=\"simple\"><path d=\"M140.91,171.98 C163.93,170.79 189.95,169.44 211.46,168.33 \" fill=\"none\" id=\"E2&lt;-E4\" style=\"stroke: #383838; stroke-width: 1.0;\"/><polygon fill=\"#383838\" points=\"127.76,172.66,133.9585,176.3448,139.744,172.0404,133.5455,168.3555,127.76,172.66\" style=\"stroke: #383838; stroke-width: 1.0;\"/></a><!--MD5=[ec5e0a54482b142abcecfe541d624bff]\n",
       "link E10 to E5--><a href=\"psysml:087e1e8b-9f76-403f-b1f3-15ea1e5b2649\" target=\"_top\" title=\"psysml:087e1e8b-9f76-403f-b1f3-15ea1e5b2649\" xlink:actuate=\"onRequest\" xlink:href=\"psysml:087e1e8b-9f76-403f-b1f3-15ea1e5b2649\" xlink:show=\"new\" xlink:title=\"psysml:087e1e8b-9f76-403f-b1f3-15ea1e5b2649\" xlink:type=\"simple\"><path d=\"M110.41,304 C121.405,312.885 134.185,322.985 145.9,331.6888 C151.7575,336.0406 157.3488,340.0434 162.3175,343.3708 C162.9386,343.7867 163.55,344.1921 164.1509,344.5862 C164.3011,344.6848 164.4507,344.7826 164.5996,344.8798 \" fill=\"none\" id=\"E10-&gt;E5\" style=\"stroke: #383838; stroke-width: 1.0;\"/><polygon fill=\"#FFFFFF\" points=\"164.5996,344.8798,144.8614,340.3629,152.5097,328.6368,164.5996,344.8798\" style=\"stroke: #383838; stroke-width: 1.0;\"/><ellipse cx=\"141.1798\" cy=\"335.5738\" fill=\"#383838\" rx=\"2\" ry=\"2\" style=\"stroke: #383838; stroke-width: 1.0;\"/><ellipse cx=\"146.6429\" cy=\"327.198\" fill=\"#383838\" rx=\"2\" ry=\"2\" style=\"stroke: #383838; stroke-width: 1.0;\"/></a><!--MD5=[111e5536516ee1ad7d4266f589654f03]\n",
       "link E14 to E5--><a href=\"psysml:a6dd9655-fa53-42fd-8b92-db635a2ece9b\" target=\"_top\" title=\"psysml:a6dd9655-fa53-42fd-8b92-db635a2ece9b\" xlink:actuate=\"onRequest\" xlink:href=\"psysml:a6dd9655-fa53-42fd-8b92-db635a2ece9b\" xlink:show=\"new\" xlink:title=\"psysml:a6dd9655-fa53-42fd-8b92-db635a2ece9b\" xlink:type=\"simple\"><path d=\"M131.43,477.22 C139.975,470.1 149.13,462.4719 158.4569,454.7005 C163.1203,450.8148 167.8267,446.8932 172.5213,442.9815 C174.8686,441.0256 177.213,439.0722 179.5475,437.1269 C180.7148,436.1543 181.8797,435.1837 183.0412,434.2158 C183.3316,433.9739 183.6217,433.7321 183.9117,433.4905 C184.0567,433.3697 184.2016,433.2489 184.3465,433.1282 \" fill=\"none\" id=\"E14-&gt;E5\" style=\"stroke: #383838; stroke-width: 1.0;\"/><polygon fill=\"#FFFFFF\" points=\"184.3465,433.1282,174.2308,450.6688,165.2687,439.9133,184.3465,433.1282\" style=\"stroke: #383838; stroke-width: 1.0;\"/><ellipse cx=\"168.5715\" cy=\"452.7812\" fill=\"#383838\" rx=\"2\" ry=\"2\" style=\"stroke: #383838; stroke-width: 1.0;\"/><ellipse cx=\"162.17\" cy=\"445.0987\" fill=\"#383838\" rx=\"2\" ry=\"2\" style=\"stroke: #383838; stroke-width: 1.0;\"/></a><!--MD5=[e6969c8dcd848c188b43fb29afdcfead]\n",
       "@startuml\r\n",
       "left to right direction\r\n",
       "skinparam monochrome true\r\n",
       "skinparam classbackgroundcolor white\r\n",
       "skinparam shadowing false\r\n",
       "skinparam wrapWidth 300\r\n",
       "hide circle\r\n",
       "\r\n",
       "package \"CalculationExample\" as E1  [[psysml:279b101a-ad7c-43dd-8a07-da5fe5802bed ]]  {\r\n",
       "comp usage \"vehicle\" as E2  <<(T,blue)part>> [[psysml:3dfd6fc9-2012-44ec-8abc-b458a2efa8ee ]] {\r\n",
       "- - attributes - -\r\n",
       "m: MassValue\r\n",
       "}\r\n",
       "comp usage \"eng\" as E3  <<(T,blue)part>> [[psysml:6f0477df-1982-4bef-bc4b-f3a5f459ca50 ]] {\r\n",
       "- - attributes - -\r\n",
       "m: MassValue\r\n",
       "}\r\n",
       "comp usage \"trans\" as E4  <<(T,blue)part>> [[psysml:39f29039-e97f-4cd7-a6e4-24de87290ff7 ]] {\r\n",
       "- - attributes - -\r\n",
       "m: MassValue\r\n",
       "}\r\n",
       "rec def \"MassSum\" as E5  <<(T,blue)calculation def>> [[psysml:5c4fc454-9680-413f-bf1a-bdf2f6cc06d5 ]] {\r\n",
       "portin \"partMasses\" as E6  [[psysml:57eaefe4-a57c-41fa-a944-033dc3e4df4e ]] \r\n",
       "portout \"totalMass\" as E7  [[psysml:35e88aae-ee13-4c55-bc31-272528607619 ]] \r\n",
       "portin \"$collection\" as E8  [[psysml:0e9b074a-52f0-467d-9ed6-1e247226bb71 ]] \r\n",
       "portout \"$result\" as E9  [[psysml:66242f20-bf9b-4b2d-900e-be3ce4c10d7e ]] \r\n",
       "}\r\n",
       "\r\n",
       "comp usage \"ms: MassSum\" as E10  <<(T,blue)calculation>> [[psysml:20e483d0-a5a0-4777-bc7f-caa19ca2a7e0 ]] {\r\n",
       "}\r\n",
       "rec def \"MassSum1\" as E11  <<(T,blue)calculation def>> [[psysml:83ce5d61-6771-4884-a571-d4d08f340672 ]] {\r\n",
       "portin \"partMasses\" as E12  [[psysml:0924d9a5-fc11-4345-935d-e5ff08c51a6a ]] \r\n",
       "portout \"totalMass\" as E13  [[psysml:b7c67a6a-5db6-4529-b3d9-f9fb47dc5f0c ]] \r\n",
       "}\r\n",
       "\r\n",
       "comp usage \"ms1: MassSum\" as E14  <<(T,blue)calculation>> [[psysml:3aa3b647-0159-4a96-9fb7-94bd79c90754 ]] {\r\n",
       "- - attributes - -\r\n",
       "partMasses\r\n",
       "totalMass\r\n",
       "}\r\n",
       "E2 *- - E3 [[psysml:6f0477df-1982-4bef-bc4b-f3a5f459ca50 ]] \r\n",
       "E2 *- - E4 [[psysml:39f29039-e97f-4cd7-a6e4-24de87290ff7 ]] \r\n",
       "E10 - -:|> E5 [[psysml:087e1e8b-9f76-403f-b1f3-15ea1e5b2649 ]] \r\n",
       "E14 - -:|> E5 [[psysml:a6dd9655-fa53-42fd-8b92-db635a2ece9b ]] \r\n",
       "}\r\n",
       "@enduml\r\n",
       "\n",
       "PlantUML version 1.2020.13(Sat Jun 13 12:26:38 UTC 2020)\n",
       "(EPL source distribution)\n",
       "Java Runtime: OpenJDK Runtime Environment\n",
       "JVM: OpenJDK 64-Bit Server VM\n",
       "Default Encoding: UTF-8\n",
       "Language: en\n",
       "Country: null\n",
       "--></g></svg>"
      ]
     },
     "execution_count": 22,
     "metadata": {},
     "output_type": "execute_result"
    }
   ],
   "source": [
    "%viz --style=\"LR\" --view=\"MIXED\" \"CalculationExample\""
   ]
  },
  {
   "cell_type": "code",
   "execution_count": 23,
   "id": "verified-curtis",
   "metadata": {
    "execution": {
     "iopub.execute_input": "2021-03-26T13:05:06.315922Z",
     "iopub.status.busy": "2021-03-26T13:05:06.315331Z",
     "iopub.status.idle": "2021-03-26T13:05:06.370653Z",
     "shell.execute_reply": "2021-03-26T13:05:06.368649Z"
    }
   },
   "outputs": [
    {
     "data": {
      "image/svg+xml": [
       "<?xml version=\"1.0\" encoding=\"UTF-8\" standalone=\"no\"?><svg xmlns=\"http://www.w3.org/2000/svg\" xmlns:xlink=\"http://www.w3.org/1999/xlink\" contentScriptType=\"application/ecmascript\" contentStyleType=\"text/css\" height=\"408px\" preserveAspectRatio=\"none\" style=\"width:788px;height:408px;\" version=\"1.1\" viewBox=\"0 0 788 408\" width=\"788px\" zoomAndPan=\"magnify\"><defs><filter height=\"300%\" id=\"f14t1b1df7ys8w\" width=\"300%\" x=\"-1\" y=\"-1\"><feGaussianBlur result=\"blurOut\" stdDeviation=\"2.0\"/><feColorMatrix in=\"blurOut\" result=\"blurOut2\" type=\"matrix\" values=\"0 0 0 0 0 0 0 0 0 0 0 0 0 0 0 0 0 0 .4 0\"/><feOffset dx=\"4.0\" dy=\"4.0\" in=\"blurOut2\" result=\"blurOut3\"/><feBlend in=\"SourceGraphic\" in2=\"blurOut3\" mode=\"normal\"/></filter></defs><g><!--MD5=[fbc87193dbaf4d95561dea2c320d4a47]\n",
       "cluster E1--><a href=\"psysml:279b101a-ad7c-43dd-8a07-da5fe5802bed\" target=\"_top\" title=\"psysml:279b101a-ad7c-43dd-8a07-da5fe5802bed\" xlink:actuate=\"onRequest\" xlink:href=\"psysml:279b101a-ad7c-43dd-8a07-da5fe5802bed\" xlink:show=\"new\" xlink:title=\"psysml:279b101a-ad7c-43dd-8a07-da5fe5802bed\" xlink:type=\"simple\"><polygon fill=\"#FFFFFF\" filter=\"url(#f14t1b1df7ys8w)\" points=\"16,6,173,6,180,28.2969,766,28.2969,766,396.72,16,396.72,16,6\" style=\"stroke: #000000; stroke-width: 1.5;\"/><line style=\"stroke: #000000; stroke-width: 1.5;\" x1=\"16\" x2=\"180\" y1=\"28.2969\" y2=\"28.2969\"/><text fill=\"#000000\" font-family=\"sans-serif\" font-size=\"14\" font-weight=\"bold\" lengthAdjust=\"spacingAndGlyphs\" textLength=\"151\" x=\"20\" y=\"20.9951\">CalculationExample</text></a><!--MD5=[de5ec2e2e8f62f467e546659f5068c88]\n",
       "cluster E5--><a href=\"psysml:5c4fc454-9680-413f-bf1a-bdf2f6cc06d5\" target=\"_top\" title=\"psysml:5c4fc454-9680-413f-bf1a-bdf2f6cc06d5\" xlink:actuate=\"onRequest\" xlink:href=\"psysml:5c4fc454-9680-413f-bf1a-bdf2f6cc06d5\" xlink:show=\"new\" xlink:title=\"psysml:5c4fc454-9680-413f-bf1a-bdf2f6cc06d5\" xlink:type=\"simple\"><rect fill=\"#FFFFFF\" filter=\"url(#f14t1b1df7ys8w)\" height=\"281.72\" id=\"E5\" style=\"stroke: #A80036; stroke-width: 1.5;\" width=\"128\" x=\"155\" y=\"77\"/><rect fill=\"#FEFECE\" height=\"37.9375\" style=\"stroke: #A80036; stroke-width: 1.5;\" width=\"128\" x=\"155\" y=\"77\"/><text fill=\"#000000\" font-family=\"sans-serif\" font-size=\"12\" font-style=\"italic\" lengthAdjust=\"spacingAndGlyphs\" textLength=\"106\" x=\"166\" y=\"93.1387\">«calculation def»</text><text fill=\"#000000\" font-family=\"sans-serif\" font-size=\"12\" lengthAdjust=\"spacingAndGlyphs\" textLength=\"59\" x=\"189.5\" y=\"107.1074\">MassSum</text></a><!--MD5=[917b9dd0c7eca3ee5f47219d1a84c0ad]\n",
       "cluster E11--><a href=\"psysml:83ce5d61-6771-4884-a571-d4d08f340672\" target=\"_top\" title=\"psysml:83ce5d61-6771-4884-a571-d4d08f340672\" xlink:actuate=\"onRequest\" xlink:href=\"psysml:83ce5d61-6771-4884-a571-d4d08f340672\" xlink:show=\"new\" xlink:title=\"psysml:83ce5d61-6771-4884-a571-d4d08f340672\" xlink:type=\"simple\"><rect fill=\"#FFFFFF\" filter=\"url(#f14t1b1df7ys8w)\" height=\"281.72\" id=\"E11\" style=\"stroke: #A80036; stroke-width: 1.5;\" width=\"166\" x=\"584\" y=\"77\"/><rect fill=\"#FEFECE\" height=\"37.9375\" style=\"stroke: #A80036; stroke-width: 1.5;\" width=\"166\" x=\"584\" y=\"77\"/><text fill=\"#000000\" font-family=\"sans-serif\" font-size=\"12\" font-style=\"italic\" lengthAdjust=\"spacingAndGlyphs\" textLength=\"106\" x=\"614\" y=\"93.1387\">«calculation def»</text><text fill=\"#000000\" font-family=\"sans-serif\" font-size=\"12\" lengthAdjust=\"spacingAndGlyphs\" textLength=\"67\" x=\"633.5\" y=\"107.1074\">MassSum1</text></a><!--MD5=[b4997ac47864f28c2f74865a473b2911]\n",
       "class E2--><a href=\"psysml:3dfd6fc9-2012-44ec-8abc-b458a2efa8ee\" target=\"_top\" title=\"psysml:3dfd6fc9-2012-44ec-8abc-b458a2efa8ee\" xlink:actuate=\"onRequest\" xlink:href=\"psysml:3dfd6fc9-2012-44ec-8abc-b458a2efa8ee\" xlink:show=\"new\" xlink:title=\"psysml:3dfd6fc9-2012-44ec-8abc-b458a2efa8ee\" xlink:type=\"simple\"><rect fill=\"#FEFECE\" filter=\"url(#f14t1b1df7ys8w)\" height=\"58.7422\" id=\"E2\" rx=\"10\" ry=\"10\" style=\"stroke: #A80036; stroke-width: 1.5;\" width=\"92\" x=\"473\" y=\"47.5\"/><text fill=\"#000000\" font-family=\"sans-serif\" font-size=\"12\" font-style=\"italic\" lengthAdjust=\"spacingAndGlyphs\" textLength=\"40\" x=\"499\" y=\"63.6387\">«part»</text><text fill=\"#000000\" font-family=\"sans-serif\" font-size=\"12\" lengthAdjust=\"spacingAndGlyphs\" textLength=\"43\" x=\"497.5\" y=\"77.6074\">vehicle</text><line style=\"stroke: #A80036; stroke-width: 1.5;\" x1=\"474\" x2=\"564\" y1=\"85.4375\" y2=\"85.4375\"/><text fill=\"#000000\" font-family=\"sans-serif\" font-size=\"11\" lengthAdjust=\"spacingAndGlyphs\" textLength=\"80\" x=\"479\" y=\"99.6479\">m: MassValue</text></a><!--MD5=[09b614a08d8cba4a07c9adeb5e0fee81]\n",
       "class E3--><a href=\"psysml:6f0477df-1982-4bef-bc4b-f3a5f459ca50\" target=\"_top\" title=\"psysml:6f0477df-1982-4bef-bc4b-f3a5f459ca50\" xlink:actuate=\"onRequest\" xlink:href=\"psysml:6f0477df-1982-4bef-bc4b-f3a5f459ca50\" xlink:show=\"new\" xlink:title=\"psysml:6f0477df-1982-4bef-bc4b-f3a5f459ca50\" xlink:type=\"simple\"><rect fill=\"#FEFECE\" filter=\"url(#f14t1b1df7ys8w)\" height=\"58.7422\" id=\"E3\" rx=\"10\" ry=\"10\" style=\"stroke: #A80036; stroke-width: 1.5;\" width=\"92\" x=\"346\" y=\"173\"/><text fill=\"#000000\" font-family=\"sans-serif\" font-size=\"12\" font-style=\"italic\" lengthAdjust=\"spacingAndGlyphs\" textLength=\"40\" x=\"372\" y=\"189.1387\">«part»</text><text fill=\"#000000\" font-family=\"sans-serif\" font-size=\"12\" lengthAdjust=\"spacingAndGlyphs\" textLength=\"24\" x=\"380\" y=\"203.1074\">eng</text><line style=\"stroke: #A80036; stroke-width: 1.5;\" x1=\"347\" x2=\"437\" y1=\"210.9375\" y2=\"210.9375\"/><text fill=\"#000000\" font-family=\"sans-serif\" font-size=\"11\" lengthAdjust=\"spacingAndGlyphs\" textLength=\"80\" x=\"352\" y=\"225.1479\">m: MassValue</text></a><!--MD5=[ebbe1d658d1005bcc118a6aa81145e00]\n",
       "class E4--><a href=\"psysml:39f29039-e97f-4cd7-a6e4-24de87290ff7\" target=\"_top\" title=\"psysml:39f29039-e97f-4cd7-a6e4-24de87290ff7\" xlink:actuate=\"onRequest\" xlink:href=\"psysml:39f29039-e97f-4cd7-a6e4-24de87290ff7\" xlink:show=\"new\" xlink:title=\"psysml:39f29039-e97f-4cd7-a6e4-24de87290ff7\" xlink:type=\"simple\"><rect fill=\"#FEFECE\" filter=\"url(#f14t1b1df7ys8w)\" height=\"58.7422\" id=\"E4\" rx=\"10\" ry=\"10\" style=\"stroke: #A80036; stroke-width: 1.5;\" width=\"92\" x=\"473\" y=\"173\"/><text fill=\"#000000\" font-family=\"sans-serif\" font-size=\"12\" font-style=\"italic\" lengthAdjust=\"spacingAndGlyphs\" textLength=\"40\" x=\"499\" y=\"189.1387\">«part»</text><text fill=\"#000000\" font-family=\"sans-serif\" font-size=\"12\" lengthAdjust=\"spacingAndGlyphs\" textLength=\"33\" x=\"502.5\" y=\"203.1074\">trans</text><line style=\"stroke: #A80036; stroke-width: 1.5;\" x1=\"474\" x2=\"564\" y1=\"210.9375\" y2=\"210.9375\"/><text fill=\"#000000\" font-family=\"sans-serif\" font-size=\"11\" lengthAdjust=\"spacingAndGlyphs\" textLength=\"80\" x=\"479\" y=\"225.1479\">m: MassValue</text></a><!--MD5=[96f4274e9e20536e775497830990834d]\n",
       "class E10--><a href=\"psysml:20e483d0-a5a0-4777-bc7f-caa19ca2a7e0\" target=\"_top\" title=\"psysml:20e483d0-a5a0-4777-bc7f-caa19ca2a7e0\" xlink:actuate=\"onRequest\" xlink:href=\"psysml:20e483d0-a5a0-4777-bc7f-caa19ca2a7e0\" xlink:show=\"new\" xlink:title=\"psysml:20e483d0-a5a0-4777-bc7f-caa19ca2a7e0\" xlink:type=\"simple\"><rect fill=\"#FEFECE\" filter=\"url(#f14t1b1df7ys8w)\" height=\"45.9375\" id=\"E10\" rx=\"10\" ry=\"10\" style=\"stroke: #A80036; stroke-width: 1.5;\" width=\"91\" x=\"346.5\" y=\"54\"/><text fill=\"#000000\" font-family=\"sans-serif\" font-size=\"12\" font-style=\"italic\" lengthAdjust=\"spacingAndGlyphs\" textLength=\"82\" x=\"351\" y=\"70.1387\">«calculation»</text><text fill=\"#000000\" font-family=\"sans-serif\" font-size=\"12\" lengthAdjust=\"spacingAndGlyphs\" textLength=\"85\" x=\"349.5\" y=\"84.1074\">ms: MassSum</text><line style=\"stroke: #A80036; stroke-width: 1.5;\" x1=\"347.5\" x2=\"436.5\" y1=\"91.9375\" y2=\"91.9375\"/></a><!--MD5=[bee11217b2f71d958a27249dc326068c]\n",
       "class E14--><a href=\"psysml:3aa3b647-0159-4a96-9fb7-94bd79c90754\" target=\"_top\" title=\"psysml:3aa3b647-0159-4a96-9fb7-94bd79c90754\" xlink:actuate=\"onRequest\" xlink:href=\"psysml:3aa3b647-0159-4a96-9fb7-94bd79c90754\" xlink:show=\"new\" xlink:title=\"psysml:3aa3b647-0159-4a96-9fb7-94bd79c90754\" xlink:type=\"simple\"><rect fill=\"#FEFECE\" filter=\"url(#f14t1b1df7ys8w)\" height=\"71.5469\" id=\"E14\" rx=\"10\" ry=\"10\" style=\"stroke: #A80036; stroke-width: 1.5;\" width=\"99\" x=\"32.5\" y=\"41\"/><text fill=\"#000000\" font-family=\"sans-serif\" font-size=\"12\" font-style=\"italic\" lengthAdjust=\"spacingAndGlyphs\" textLength=\"82\" x=\"41\" y=\"57.1387\">«calculation»</text><text fill=\"#000000\" font-family=\"sans-serif\" font-size=\"12\" lengthAdjust=\"spacingAndGlyphs\" textLength=\"93\" x=\"35.5\" y=\"71.1074\">ms1: MassSum</text><line style=\"stroke: #A80036; stroke-width: 1.5;\" x1=\"33.5\" x2=\"130.5\" y1=\"78.9375\" y2=\"78.9375\"/><text fill=\"#000000\" font-family=\"sans-serif\" font-size=\"11\" lengthAdjust=\"spacingAndGlyphs\" textLength=\"67\" x=\"38.5\" y=\"93.1479\">partMasses</text><text fill=\"#000000\" font-family=\"sans-serif\" font-size=\"11\" lengthAdjust=\"spacingAndGlyphs\" textLength=\"55\" x=\"38.5\" y=\"105.9526\">totalMass</text></a><text fill=\"#000000\" font-family=\"sans-serif\" font-size=\"14\" lengthAdjust=\"spacingAndGlyphs\" textLength=\"80\" x=\"133\" y=\"55.6982\">partMasses</text><rect fill=\"#A80036\" height=\"12\" style=\"stroke: #FEFECE; stroke-width: 1.5;\" width=\"12\" x=\"167\" y=\"71\"/><text fill=\"#000000\" font-family=\"sans-serif\" font-size=\"14\" lengthAdjust=\"spacingAndGlyphs\" textLength=\"66\" x=\"177\" y=\"377.7151\">totalMass</text><rect fill=\"#A80036\" height=\"12\" style=\"stroke: #FEFECE; stroke-width: 1.5;\" width=\"12\" x=\"204\" y=\"352.72\"/><text fill=\"#000000\" font-family=\"sans-serif\" font-size=\"14\" lengthAdjust=\"spacingAndGlyphs\" textLength=\"75\" x=\"227.5\" y=\"55.6982\">$collection</text><rect fill=\"#A80036\" height=\"12\" style=\"stroke: #FEFECE; stroke-width: 1.5;\" width=\"12\" x=\"259\" y=\"71\"/><text fill=\"#000000\" font-family=\"sans-serif\" font-size=\"14\" lengthAdjust=\"spacingAndGlyphs\" textLength=\"48\" x=\"233\" y=\"377.7151\">$result</text><rect fill=\"#A80036\" height=\"12\" style=\"stroke: #FEFECE; stroke-width: 1.5;\" width=\"12\" x=\"251\" y=\"352.72\"/><text fill=\"#000000\" font-family=\"sans-serif\" font-size=\"14\" lengthAdjust=\"spacingAndGlyphs\" textLength=\"80\" x=\"627\" y=\"55.6982\">partMasses</text><rect fill=\"#A80036\" height=\"12\" style=\"stroke: #FEFECE; stroke-width: 1.5;\" width=\"12\" x=\"661\" y=\"71\"/><text fill=\"#000000\" font-family=\"sans-serif\" font-size=\"14\" lengthAdjust=\"spacingAndGlyphs\" textLength=\"66\" x=\"634\" y=\"377.7151\">totalMass</text><rect fill=\"#A80036\" height=\"12\" style=\"stroke: #FEFECE; stroke-width: 1.5;\" width=\"12\" x=\"661\" y=\"352.72\"/><!--MD5=[209b3feb70ccb6233bfe1053d122c12c]\n",
       "reverse link E2 to E3--><a href=\"psysml:6f0477df-1982-4bef-bc4b-f3a5f459ca50\" target=\"_top\" title=\"psysml:6f0477df-1982-4bef-bc4b-f3a5f459ca50\" xlink:actuate=\"onRequest\" xlink:href=\"psysml:6f0477df-1982-4bef-bc4b-f3a5f459ca50\" xlink:show=\"new\" xlink:title=\"psysml:6f0477df-1982-4bef-bc4b-f3a5f459ca50\" xlink:type=\"simple\"><path d=\"M480.08,115.85 C461.3,134.11 439.13,155.66 421.74,172.58 \" fill=\"none\" id=\"E2&lt;-E3\" style=\"stroke: #A80036; stroke-width: 1.0;\"/><polygon fill=\"#A80036\" points=\"489.54,106.64,482.4499,107.9553,480.937,115.0059,488.0271,113.6906,489.54,106.64\" style=\"stroke: #A80036; stroke-width: 1.0;\"/></a><!--MD5=[9618e71518536f8baf3342ff6fdab317]\n",
       "reverse link E2 to E4--><a href=\"psysml:39f29039-e97f-4cd7-a6e4-24de87290ff7\" target=\"_top\" title=\"psysml:39f29039-e97f-4cd7-a6e4-24de87290ff7\" xlink:actuate=\"onRequest\" xlink:href=\"psysml:39f29039-e97f-4cd7-a6e4-24de87290ff7\" xlink:show=\"new\" xlink:title=\"psysml:39f29039-e97f-4cd7-a6e4-24de87290ff7\" xlink:type=\"simple\"><path d=\"M519,119.66 C519,137.05 519,156.83 519,172.58 \" fill=\"none\" id=\"E2&lt;-E4\" style=\"stroke: #A80036; stroke-width: 1.0;\"/><polygon fill=\"#A80036\" points=\"519,106.64,515,112.64,519,118.64,523,112.64,519,106.64\" style=\"stroke: #A80036; stroke-width: 1.0;\"/></a><!--MD5=[ec5e0a54482b142abcecfe541d624bff]\n",
       "link E10 to E5--><a href=\"psysml:087e1e8b-9f76-403f-b1f3-15ea1e5b2649\" target=\"_top\" title=\"psysml:087e1e8b-9f76-403f-b1f3-15ea1e5b2649\" xlink:actuate=\"onRequest\" xlink:href=\"psysml:087e1e8b-9f76-403f-b1f3-15ea1e5b2649\" xlink:show=\"new\" xlink:title=\"psysml:087e1e8b-9f76-403f-b1f3-15ea1e5b2649\" xlink:type=\"simple\"><path d=\"M364.65,100.08 C349.605,112.22 330.165,127.91 311.0925,143.305 C301.5563,151.0025 292.1119,158.6263 283.3547,165.6956 \" fill=\"none\" id=\"E10-&gt;E5\" style=\"stroke: #A80036; stroke-width: 1.0;\"/><polygon fill=\"#FFFFFF\" points=\"283.3547,165.6956,293.7417,148.3143,302.5356,159.2078,283.3547,165.6956\" style=\"stroke: #A80036; stroke-width: 1.0;\"/><ellipse cx=\"299.4332\" cy=\"146.2901\" fill=\"#A80036\" rx=\"2\" ry=\"2\" style=\"stroke: #A80036; stroke-width: 1.0;\"/><ellipse cx=\"305.7145\" cy=\"154.0712\" fill=\"#A80036\" rx=\"2\" ry=\"2\" style=\"stroke: #A80036; stroke-width: 1.0;\"/></a><!--MD5=[111e5536516ee1ad7d4266f589654f03]\n",
       "link E14 to E5--><a href=\"psysml:a6dd9655-fa53-42fd-8b92-db635a2ece9b\" target=\"_top\" title=\"psysml:a6dd9655-fa53-42fd-8b92-db635a2ece9b\" xlink:actuate=\"onRequest\" xlink:href=\"psysml:a6dd9655-fa53-42fd-8b92-db635a2ece9b\" xlink:show=\"new\" xlink:title=\"psysml:a6dd9655-fa53-42fd-8b92-db635a2ece9b\" xlink:type=\"simple\"><path d=\"M126.57,113.06 C134.05,118.9425 142.0381,125.2256 150.1766,131.6275 C151.1939,132.4277 152.2135,133.2298 153.2348,134.0332 C153.7455,134.4349 154.2565,134.8369 154.7679,135.2392 \" fill=\"none\" id=\"E14-&gt;E5\" style=\"stroke: #A80036; stroke-width: 1.0;\"/><polygon fill=\"#FFFFFF\" points=\"154.7679,135.2392,135.5067,128.9938,144.1625,117.9903,154.7679,135.2392\" style=\"stroke: #A80036; stroke-width: 1.0;\"/><ellipse cx=\"132.2633\" cy=\"123.8977\" fill=\"#A80036\" rx=\"2\" ry=\"2\" style=\"stroke: #A80036; stroke-width: 1.0;\"/><ellipse cx=\"138.446\" cy=\"116.0381\" fill=\"#A80036\" rx=\"2\" ry=\"2\" style=\"stroke: #A80036; stroke-width: 1.0;\"/></a><!--MD5=[f455caf35a6e0973347c063916616e32]\n",
       "@startuml\r\n",
       "skinparam wrapWidth 300\r\n",
       "hide circle\r\n",
       "\r\n",
       "package \"CalculationExample\" as E1  [[psysml:279b101a-ad7c-43dd-8a07-da5fe5802bed ]]  {\r\n",
       "comp usage \"vehicle\" as E2  <<(T,blue)part>> [[psysml:3dfd6fc9-2012-44ec-8abc-b458a2efa8ee ]] {\r\n",
       "m: MassValue\r\n",
       "}\r\n",
       "comp usage \"eng\" as E3  <<(T,blue)part>> [[psysml:6f0477df-1982-4bef-bc4b-f3a5f459ca50 ]] {\r\n",
       "m: MassValue\r\n",
       "}\r\n",
       "comp usage \"trans\" as E4  <<(T,blue)part>> [[psysml:39f29039-e97f-4cd7-a6e4-24de87290ff7 ]] {\r\n",
       "m: MassValue\r\n",
       "}\r\n",
       "rec def \"MassSum\" as E5  <<(T,blue)calculation def>> [[psysml:5c4fc454-9680-413f-bf1a-bdf2f6cc06d5 ]] {\r\n",
       "portin \"partMasses\" as E6  [[psysml:57eaefe4-a57c-41fa-a944-033dc3e4df4e ]] \r\n",
       "portout \"totalMass\" as E7  [[psysml:35e88aae-ee13-4c55-bc31-272528607619 ]] \r\n",
       "portin \"$collection\" as E8  [[psysml:0e9b074a-52f0-467d-9ed6-1e247226bb71 ]] \r\n",
       "portout \"$result\" as E9  [[psysml:66242f20-bf9b-4b2d-900e-be3ce4c10d7e ]] \r\n",
       "}\r\n",
       "\r\n",
       "comp usage \"ms: MassSum\" as E10  <<(T,blue)calculation>> [[psysml:20e483d0-a5a0-4777-bc7f-caa19ca2a7e0 ]] {\r\n",
       "}\r\n",
       "rec def \"MassSum1\" as E11  <<(T,blue)calculation def>> [[psysml:83ce5d61-6771-4884-a571-d4d08f340672 ]] {\r\n",
       "portin \"partMasses\" as E12  [[psysml:0924d9a5-fc11-4345-935d-e5ff08c51a6a ]] \r\n",
       "portout \"totalMass\" as E13  [[psysml:b7c67a6a-5db6-4529-b3d9-f9fb47dc5f0c ]] \r\n",
       "}\r\n",
       "\r\n",
       "comp usage \"ms1: MassSum\" as E14  <<(T,blue)calculation>> [[psysml:3aa3b647-0159-4a96-9fb7-94bd79c90754 ]] {\r\n",
       "partMasses\r\n",
       "totalMass\r\n",
       "}\r\n",
       "E2 *- - E3 [[psysml:6f0477df-1982-4bef-bc4b-f3a5f459ca50 ]] \r\n",
       "E2 *- - E4 [[psysml:39f29039-e97f-4cd7-a6e4-24de87290ff7 ]] \r\n",
       "E10 - -:|> E5 [[psysml:087e1e8b-9f76-403f-b1f3-15ea1e5b2649 ]] \r\n",
       "E14 - -:|> E5 [[psysml:a6dd9655-fa53-42fd-8b92-db635a2ece9b ]] \r\n",
       "}\r\n",
       "@enduml\r\n",
       "\n",
       "PlantUML version 1.2020.13(Sat Jun 13 12:26:38 UTC 2020)\n",
       "(EPL source distribution)\n",
       "Java Runtime: OpenJDK Runtime Environment\n",
       "JVM: OpenJDK 64-Bit Server VM\n",
       "Default Encoding: UTF-8\n",
       "Language: en\n",
       "Country: null\n",
       "--></g></svg>"
      ]
     },
     "execution_count": 23,
     "metadata": {},
     "output_type": "execute_result"
    }
   ],
   "source": [
    "%viz --style=\"STDCOLOR\" --view=\"Default\" \"CalculationExample\""
   ]
  },
  {
   "cell_type": "code",
   "execution_count": 24,
   "id": "intimate-calendar",
   "metadata": {
    "execution": {
     "iopub.execute_input": "2021-03-26T13:05:06.421316Z",
     "iopub.status.busy": "2021-03-26T13:05:06.420161Z",
     "iopub.status.idle": "2021-03-26T13:05:06.475188Z",
     "shell.execute_reply": "2021-03-26T13:05:06.473520Z"
    }
   },
   "outputs": [
    {
     "data": {
      "image/svg+xml": [
       "<?xml version=\"1.0\" encoding=\"UTF-8\" standalone=\"no\"?><svg xmlns=\"http://www.w3.org/2000/svg\" xmlns:xlink=\"http://www.w3.org/1999/xlink\" contentScriptType=\"application/ecmascript\" contentStyleType=\"text/css\" height=\"260px\" preserveAspectRatio=\"none\" style=\"width:607px;height:260px;\" version=\"1.1\" viewBox=\"0 0 607 260\" width=\"607px\" zoomAndPan=\"magnify\"><defs><filter height=\"300%\" id=\"f1uoacau0svn8m\" width=\"300%\" x=\"-1\" y=\"-1\"><feGaussianBlur result=\"blurOut\" stdDeviation=\"2.0\"/><feColorMatrix in=\"blurOut\" result=\"blurOut2\" type=\"matrix\" values=\"0 0 0 0 0 0 0 0 0 0 0 0 0 0 0 0 0 0 .4 0\"/><feOffset dx=\"4.0\" dy=\"4.0\" in=\"blurOut2\" result=\"blurOut3\"/><feBlend in=\"SourceGraphic\" in2=\"blurOut3\" mode=\"normal\"/></filter></defs><g><!--MD5=[fbc87193dbaf4d95561dea2c320d4a47]\n",
       "cluster E1--><a href=\"psysml:279b101a-ad7c-43dd-8a07-da5fe5802bed\" target=\"_top\" title=\"psysml:279b101a-ad7c-43dd-8a07-da5fe5802bed\" xlink:actuate=\"onRequest\" xlink:href=\"psysml:279b101a-ad7c-43dd-8a07-da5fe5802bed\" xlink:show=\"new\" xlink:title=\"psysml:279b101a-ad7c-43dd-8a07-da5fe5802bed\" xlink:type=\"simple\"><polygon fill=\"#FFFFFF\" filter=\"url(#f1uoacau0svn8m)\" points=\"16,6,173,6,180,28.2969,585,28.2969,585,248,16,248,16,6\" style=\"stroke: #000000; stroke-width: 1.5;\"/><line style=\"stroke: #000000; stroke-width: 1.5;\" x1=\"16\" x2=\"180\" y1=\"28.2969\" y2=\"28.2969\"/><text fill=\"#000000\" font-family=\"sans-serif\" font-size=\"14\" font-weight=\"bold\" lengthAdjust=\"spacingAndGlyphs\" textLength=\"151\" x=\"20\" y=\"20.9951\">CalculationExample</text></a><!--MD5=[b4997ac47864f28c2f74865a473b2911]\n",
       "class E2--><a href=\"psysml:3dfd6fc9-2012-44ec-8abc-b458a2efa8ee\" target=\"_top\" title=\"psysml:3dfd6fc9-2012-44ec-8abc-b458a2efa8ee\" xlink:actuate=\"onRequest\" xlink:href=\"psysml:3dfd6fc9-2012-44ec-8abc-b458a2efa8ee\" xlink:show=\"new\" xlink:title=\"psysml:3dfd6fc9-2012-44ec-8abc-b458a2efa8ee\" xlink:type=\"simple\"><rect fill=\"#FEFECE\" filter=\"url(#f1uoacau0svn8m)\" height=\"58.7422\" id=\"E2\" rx=\"10\" ry=\"10\" style=\"stroke: #A80036; stroke-width: 1.5;\" width=\"92\" x=\"477\" y=\"47.5\"/><text fill=\"#000000\" font-family=\"sans-serif\" font-size=\"12\" font-style=\"italic\" lengthAdjust=\"spacingAndGlyphs\" textLength=\"40\" x=\"503\" y=\"63.6387\">«part»</text><text fill=\"#000000\" font-family=\"sans-serif\" font-size=\"12\" lengthAdjust=\"spacingAndGlyphs\" textLength=\"43\" x=\"501.5\" y=\"77.6074\">vehicle</text><line style=\"stroke: #A80036; stroke-width: 1.5;\" x1=\"478\" x2=\"568\" y1=\"85.4375\" y2=\"85.4375\"/><text fill=\"#000000\" font-family=\"sans-serif\" font-size=\"11\" lengthAdjust=\"spacingAndGlyphs\" textLength=\"80\" x=\"483\" y=\"99.6479\">m: MassValue</text></a><!--MD5=[09b614a08d8cba4a07c9adeb5e0fee81]\n",
       "class E3--><a href=\"psysml:6f0477df-1982-4bef-bc4b-f3a5f459ca50\" target=\"_top\" title=\"psysml:6f0477df-1982-4bef-bc4b-f3a5f459ca50\" xlink:actuate=\"onRequest\" xlink:href=\"psysml:6f0477df-1982-4bef-bc4b-f3a5f459ca50\" xlink:show=\"new\" xlink:title=\"psysml:6f0477df-1982-4bef-bc4b-f3a5f459ca50\" xlink:type=\"simple\"><rect fill=\"#FEFECE\" filter=\"url(#f1uoacau0svn8m)\" height=\"58.7422\" id=\"E3\" rx=\"10\" ry=\"10\" style=\"stroke: #A80036; stroke-width: 1.5;\" width=\"92\" x=\"350\" y=\"173\"/><text fill=\"#000000\" font-family=\"sans-serif\" font-size=\"12\" font-style=\"italic\" lengthAdjust=\"spacingAndGlyphs\" textLength=\"40\" x=\"376\" y=\"189.1387\">«part»</text><text fill=\"#000000\" font-family=\"sans-serif\" font-size=\"12\" lengthAdjust=\"spacingAndGlyphs\" textLength=\"24\" x=\"384\" y=\"203.1074\">eng</text><line style=\"stroke: #A80036; stroke-width: 1.5;\" x1=\"351\" x2=\"441\" y1=\"210.9375\" y2=\"210.9375\"/><text fill=\"#000000\" font-family=\"sans-serif\" font-size=\"11\" lengthAdjust=\"spacingAndGlyphs\" textLength=\"80\" x=\"356\" y=\"225.1479\">m: MassValue</text></a><!--MD5=[ebbe1d658d1005bcc118a6aa81145e00]\n",
       "class E4--><a href=\"psysml:39f29039-e97f-4cd7-a6e4-24de87290ff7\" target=\"_top\" title=\"psysml:39f29039-e97f-4cd7-a6e4-24de87290ff7\" xlink:actuate=\"onRequest\" xlink:href=\"psysml:39f29039-e97f-4cd7-a6e4-24de87290ff7\" xlink:show=\"new\" xlink:title=\"psysml:39f29039-e97f-4cd7-a6e4-24de87290ff7\" xlink:type=\"simple\"><rect fill=\"#FEFECE\" filter=\"url(#f1uoacau0svn8m)\" height=\"58.7422\" id=\"E4\" rx=\"10\" ry=\"10\" style=\"stroke: #A80036; stroke-width: 1.5;\" width=\"92\" x=\"477\" y=\"173\"/><text fill=\"#000000\" font-family=\"sans-serif\" font-size=\"12\" font-style=\"italic\" lengthAdjust=\"spacingAndGlyphs\" textLength=\"40\" x=\"503\" y=\"189.1387\">«part»</text><text fill=\"#000000\" font-family=\"sans-serif\" font-size=\"12\" lengthAdjust=\"spacingAndGlyphs\" textLength=\"33\" x=\"506.5\" y=\"203.1074\">trans</text><line style=\"stroke: #A80036; stroke-width: 1.5;\" x1=\"478\" x2=\"568\" y1=\"210.9375\" y2=\"210.9375\"/><text fill=\"#000000\" font-family=\"sans-serif\" font-size=\"11\" lengthAdjust=\"spacingAndGlyphs\" textLength=\"80\" x=\"483\" y=\"225.1479\">m: MassValue</text></a><!--MD5=[270fce915f116d4de14055a7c1d9a0f3]\n",
       "class E5--><a href=\"psysml:5c4fc454-9680-413f-bf1a-bdf2f6cc06d5\" target=\"_top\" title=\"psysml:5c4fc454-9680-413f-bf1a-bdf2f6cc06d5\" xlink:actuate=\"onRequest\" xlink:href=\"psysml:5c4fc454-9680-413f-bf1a-bdf2f6cc06d5\" xlink:show=\"new\" xlink:title=\"psysml:5c4fc454-9680-413f-bf1a-bdf2f6cc06d5\" xlink:type=\"simple\"><rect fill=\"#FEFECE\" filter=\"url(#f1uoacau0svn8m)\" height=\"45.9375\" id=\"E5\" style=\"stroke: #A80036; stroke-width: 1.5;\" width=\"108\" x=\"120\" y=\"179.5\"/><text fill=\"#000000\" font-family=\"sans-serif\" font-size=\"12\" font-style=\"italic\" lengthAdjust=\"spacingAndGlyphs\" textLength=\"106\" x=\"121\" y=\"195.6387\">«calculation def»</text><text fill=\"#000000\" font-family=\"sans-serif\" font-size=\"12\" lengthAdjust=\"spacingAndGlyphs\" textLength=\"59\" x=\"144.5\" y=\"209.6074\">MassSum</text><line style=\"stroke: #A80036; stroke-width: 1.5;\" x1=\"121\" x2=\"227\" y1=\"217.4375\" y2=\"217.4375\"/></a><!--MD5=[60a26617385b1d2d0262a64233df1f8d]\n",
       "class E6--><a href=\"psysml:20e483d0-a5a0-4777-bc7f-caa19ca2a7e0\" target=\"_top\" title=\"psysml:20e483d0-a5a0-4777-bc7f-caa19ca2a7e0\" xlink:actuate=\"onRequest\" xlink:href=\"psysml:20e483d0-a5a0-4777-bc7f-caa19ca2a7e0\" xlink:show=\"new\" xlink:title=\"psysml:20e483d0-a5a0-4777-bc7f-caa19ca2a7e0\" xlink:type=\"simple\"><rect fill=\"#FEFECE\" filter=\"url(#f1uoacau0svn8m)\" height=\"45.9375\" id=\"E6\" rx=\"10\" ry=\"10\" style=\"stroke: #A80036; stroke-width: 1.5;\" width=\"91\" x=\"350.5\" y=\"54\"/><text fill=\"#000000\" font-family=\"sans-serif\" font-size=\"12\" font-style=\"italic\" lengthAdjust=\"spacingAndGlyphs\" textLength=\"82\" x=\"355\" y=\"70.1387\">«calculation»</text><text fill=\"#000000\" font-family=\"sans-serif\" font-size=\"12\" lengthAdjust=\"spacingAndGlyphs\" textLength=\"85\" x=\"353.5\" y=\"84.1074\">ms: MassSum</text><line style=\"stroke: #A80036; stroke-width: 1.5;\" x1=\"351.5\" x2=\"440.5\" y1=\"91.9375\" y2=\"91.9375\"/></a><!--MD5=[2156ba9850f5573cc1fc38a6a4b2f02b]\n",
       "class E7--><a href=\"psysml:83ce5d61-6771-4884-a571-d4d08f340672\" target=\"_top\" title=\"psysml:83ce5d61-6771-4884-a571-d4d08f340672\" xlink:actuate=\"onRequest\" xlink:href=\"psysml:83ce5d61-6771-4884-a571-d4d08f340672\" xlink:show=\"new\" xlink:title=\"psysml:83ce5d61-6771-4884-a571-d4d08f340672\" xlink:type=\"simple\"><rect fill=\"#FEFECE\" filter=\"url(#f1uoacau0svn8m)\" height=\"71.5469\" id=\"E7\" style=\"stroke: #A80036; stroke-width: 1.5;\" width=\"148\" x=\"167\" y=\"41\"/><text fill=\"#000000\" font-family=\"sans-serif\" font-size=\"12\" font-style=\"italic\" lengthAdjust=\"spacingAndGlyphs\" textLength=\"106\" x=\"188\" y=\"57.1387\">«calculation def»</text><text fill=\"#000000\" font-family=\"sans-serif\" font-size=\"12\" lengthAdjust=\"spacingAndGlyphs\" textLength=\"67\" x=\"207.5\" y=\"71.1074\">MassSum1</text><line style=\"stroke: #A80036; stroke-width: 1.5;\" x1=\"168\" x2=\"314\" y1=\"78.9375\" y2=\"78.9375\"/><text fill=\"#000000\" font-family=\"sans-serif\" font-size=\"11\" lengthAdjust=\"spacingAndGlyphs\" textLength=\"136\" x=\"173\" y=\"93.1479\">partMasses: MassValue</text><text fill=\"#000000\" font-family=\"sans-serif\" font-size=\"11\" lengthAdjust=\"spacingAndGlyphs\" textLength=\"124\" x=\"173\" y=\"105.9526\">totalMass: MassValue</text></a><!--MD5=[b9389687b975829384b498ac4b7476b2]\n",
       "class E8--><a href=\"psysml:3aa3b647-0159-4a96-9fb7-94bd79c90754\" target=\"_top\" title=\"psysml:3aa3b647-0159-4a96-9fb7-94bd79c90754\" xlink:actuate=\"onRequest\" xlink:href=\"psysml:3aa3b647-0159-4a96-9fb7-94bd79c90754\" xlink:show=\"new\" xlink:title=\"psysml:3aa3b647-0159-4a96-9fb7-94bd79c90754\" xlink:type=\"simple\"><rect fill=\"#FEFECE\" filter=\"url(#f1uoacau0svn8m)\" height=\"71.5469\" id=\"E8\" rx=\"10\" ry=\"10\" style=\"stroke: #A80036; stroke-width: 1.5;\" width=\"99\" x=\"32.5\" y=\"41\"/><text fill=\"#000000\" font-family=\"sans-serif\" font-size=\"12\" font-style=\"italic\" lengthAdjust=\"spacingAndGlyphs\" textLength=\"82\" x=\"41\" y=\"57.1387\">«calculation»</text><text fill=\"#000000\" font-family=\"sans-serif\" font-size=\"12\" lengthAdjust=\"spacingAndGlyphs\" textLength=\"93\" x=\"35.5\" y=\"71.1074\">ms1: MassSum</text><line style=\"stroke: #A80036; stroke-width: 1.5;\" x1=\"33.5\" x2=\"130.5\" y1=\"78.9375\" y2=\"78.9375\"/><text fill=\"#000000\" font-family=\"sans-serif\" font-size=\"11\" lengthAdjust=\"spacingAndGlyphs\" textLength=\"67\" x=\"38.5\" y=\"93.1479\">partMasses</text><text fill=\"#000000\" font-family=\"sans-serif\" font-size=\"11\" lengthAdjust=\"spacingAndGlyphs\" textLength=\"55\" x=\"38.5\" y=\"105.9526\">totalMass</text></a><!--MD5=[209b3feb70ccb6233bfe1053d122c12c]\n",
       "reverse link E2 to E3--><a href=\"psysml:6f0477df-1982-4bef-bc4b-f3a5f459ca50\" target=\"_top\" title=\"psysml:6f0477df-1982-4bef-bc4b-f3a5f459ca50\" xlink:actuate=\"onRequest\" xlink:href=\"psysml:6f0477df-1982-4bef-bc4b-f3a5f459ca50\" xlink:show=\"new\" xlink:title=\"psysml:6f0477df-1982-4bef-bc4b-f3a5f459ca50\" xlink:type=\"simple\"><path d=\"M484.08,115.85 C465.3,134.11 443.13,155.66 425.74,172.58 \" fill=\"none\" id=\"E2&lt;-E3\" style=\"stroke: #A80036; stroke-width: 1.0;\"/><polygon fill=\"#A80036\" points=\"493.54,106.64,486.4499,107.9553,484.937,115.0059,492.0271,113.6906,493.54,106.64\" style=\"stroke: #A80036; stroke-width: 1.0;\"/></a><!--MD5=[9618e71518536f8baf3342ff6fdab317]\n",
       "reverse link E2 to E4--><a href=\"psysml:39f29039-e97f-4cd7-a6e4-24de87290ff7\" target=\"_top\" title=\"psysml:39f29039-e97f-4cd7-a6e4-24de87290ff7\" xlink:actuate=\"onRequest\" xlink:href=\"psysml:39f29039-e97f-4cd7-a6e4-24de87290ff7\" xlink:show=\"new\" xlink:title=\"psysml:39f29039-e97f-4cd7-a6e4-24de87290ff7\" xlink:type=\"simple\"><path d=\"M523,119.66 C523,137.05 523,156.83 523,172.58 \" fill=\"none\" id=\"E2&lt;-E4\" style=\"stroke: #A80036; stroke-width: 1.0;\"/><polygon fill=\"#A80036\" points=\"523,106.64,519,112.64,523,118.64,527,112.64,523,106.64\" style=\"stroke: #A80036; stroke-width: 1.0;\"/></a><!--MD5=[25b190c987b1e74e5126d372c5a73af1]\n",
       "link E6 to E5--><a href=\"psysml:087e1e8b-9f76-403f-b1f3-15ea1e5b2649\" target=\"_top\" title=\"psysml:087e1e8b-9f76-403f-b1f3-15ea1e5b2649\" xlink:actuate=\"onRequest\" xlink:href=\"psysml:087e1e8b-9f76-403f-b1f3-15ea1e5b2649\" xlink:show=\"new\" xlink:title=\"psysml:087e1e8b-9f76-403f-b1f3-15ea1e5b2649\" xlink:type=\"simple\"><path d=\"M356.31,100.08 C321.53,119.43 270.56,147.78 231.35,169.59 \" fill=\"none\" id=\"E6-&gt;E5\" style=\"stroke: #A80036; stroke-width: 1.0;\"/><polygon fill=\"#FFFFFF\" points=\"213.72,179.4,226.9199,164.0454,233.7265,176.2794,213.72,179.4\" style=\"stroke: #A80036; stroke-width: 1.0;\"/><ellipse cx=\"232.8733\" cy=\"163.0219\" fill=\"#A80036\" rx=\"2\" ry=\"2\" style=\"stroke: #A80036; stroke-width: 1.0;\"/><ellipse cx=\"237.7351\" cy=\"171.7604\" fill=\"#A80036\" rx=\"2\" ry=\"2\" style=\"stroke: #A80036; stroke-width: 1.0;\"/></a><!--MD5=[1ccb2481ffa92f8d51a74ee30c51832a]\n",
       "link E8 to E5--><a href=\"psysml:a6dd9655-fa53-42fd-8b92-db635a2ece9b\" target=\"_top\" title=\"psysml:a6dd9655-fa53-42fd-8b92-db635a2ece9b\" xlink:actuate=\"onRequest\" xlink:href=\"psysml:a6dd9655-fa53-42fd-8b92-db635a2ece9b\" xlink:show=\"new\" xlink:title=\"psysml:a6dd9655-fa53-42fd-8b92-db635a2ece9b\" xlink:type=\"simple\"><path d=\"M108.12,113.06 C119.74,128.67 133.47,147.09 145.37,163.07 \" fill=\"none\" id=\"E8-&gt;E5\" style=\"stroke: #A80036; stroke-width: 1.0;\"/><polygon fill=\"#FFFFFF\" points=\"157.39,179.2,140.4231,168.1491,151.6482,159.7827,157.39,179.2\" style=\"stroke: #A80036; stroke-width: 1.0;\"/><ellipse cx=\"138.6203\" cy=\"162.3836\" fill=\"#A80036\" rx=\"2\" ry=\"2\" style=\"stroke: #A80036; stroke-width: 1.0;\"/><ellipse cx=\"146.6383\" cy=\"156.4077\" fill=\"#A80036\" rx=\"2\" ry=\"2\" style=\"stroke: #A80036; stroke-width: 1.0;\"/></a><!--MD5=[3c800ddb78171d991657ea1b2e81d432]\n",
       "@startuml\r\n",
       "skinparam wrapWidth 300\r\n",
       "hide circle\r\n",
       "\r\n",
       "package \"CalculationExample\" as E1  [[psysml:279b101a-ad7c-43dd-8a07-da5fe5802bed ]]  {\r\n",
       "comp usage \"vehicle\" as E2  <<(T,blue)part>> [[psysml:3dfd6fc9-2012-44ec-8abc-b458a2efa8ee ]] {\r\n",
       "m: MassValue\r\n",
       "}\r\n",
       "comp usage \"eng\" as E3  <<(T,blue)part>> [[psysml:6f0477df-1982-4bef-bc4b-f3a5f459ca50 ]] {\r\n",
       "m: MassValue\r\n",
       "}\r\n",
       "comp usage \"trans\" as E4  <<(T,blue)part>> [[psysml:39f29039-e97f-4cd7-a6e4-24de87290ff7 ]] {\r\n",
       "m: MassValue\r\n",
       "}\r\n",
       "comp def \"MassSum\" as E5  <<(T,blue)calculation def>> [[psysml:5c4fc454-9680-413f-bf1a-bdf2f6cc06d5 ]] {\r\n",
       "}\r\n",
       "comp usage \"ms: MassSum\" as E6  <<(T,blue)calculation>> [[psysml:20e483d0-a5a0-4777-bc7f-caa19ca2a7e0 ]] {\r\n",
       "}\r\n",
       "comp def \"MassSum1\" as E7  <<(T,blue)calculation def>> [[psysml:83ce5d61-6771-4884-a571-d4d08f340672 ]] {\r\n",
       "partMasses: MassValue\r\n",
       "totalMass: MassValue\r\n",
       "}\r\n",
       "comp usage \"ms1: MassSum\" as E8  <<(T,blue)calculation>> [[psysml:3aa3b647-0159-4a96-9fb7-94bd79c90754 ]] {\r\n",
       "partMasses\r\n",
       "totalMass\r\n",
       "}\r\n",
       "E2 *- - E3 [[psysml:6f0477df-1982-4bef-bc4b-f3a5f459ca50 ]] \r\n",
       "E2 *- - E4 [[psysml:39f29039-e97f-4cd7-a6e4-24de87290ff7 ]] \r\n",
       "E6 - -:|> E5 [[psysml:087e1e8b-9f76-403f-b1f3-15ea1e5b2649 ]] \r\n",
       "E8 - -:|> E5 [[psysml:a6dd9655-fa53-42fd-8b92-db635a2ece9b ]] \r\n",
       "}\r\n",
       "@enduml\r\n",
       "\n",
       "PlantUML version 1.2020.13(Sat Jun 13 12:26:38 UTC 2020)\n",
       "(EPL source distribution)\n",
       "Java Runtime: OpenJDK Runtime Environment\n",
       "JVM: OpenJDK 64-Bit Server VM\n",
       "Default Encoding: UTF-8\n",
       "Language: en\n",
       "Country: null\n",
       "--></g></svg>"
      ]
     },
     "execution_count": 24,
     "metadata": {},
     "output_type": "execute_result"
    }
   ],
   "source": [
    "%viz --style=\"STDCOLOR\" --view=\"Tree\" \"CalculationExample\""
   ]
  },
  {
   "cell_type": "code",
   "execution_count": 25,
   "id": "olive-accent",
   "metadata": {
    "execution": {
     "iopub.execute_input": "2021-03-26T13:05:06.528662Z",
     "iopub.status.busy": "2021-03-26T13:05:06.528082Z",
     "iopub.status.idle": "2021-03-26T13:05:06.533283Z",
     "shell.execute_reply": "2021-03-26T13:05:06.532925Z"
    }
   },
   "outputs": [
    {
     "data": {
      "image/svg+xml": [
       "<?xml version=\"1.0\" encoding=\"UTF-8\" standalone=\"no\"?><svg xmlns=\"http://www.w3.org/2000/svg\" xmlns:xlink=\"http://www.w3.org/1999/xlink\" contentScriptType=\"application/ecmascript\" contentStyleType=\"text/css\" height=\"12px\" preserveAspectRatio=\"none\" style=\"width:12px;height:12px;\" version=\"1.1\" viewBox=\"0 0 12 12\" width=\"12px\" zoomAndPan=\"magnify\"><defs/><g><!--MD5=[aeeef50f102b80d730deb6443d14f702]\n",
       "@startuml\r\n",
       "skinparam wrapWidth 300\r\n",
       "hide circle\r\n",
       "\r\n",
       "@enduml\r\n",
       "\n",
       "PlantUML version 1.2020.13(Sat Jun 13 12:26:38 UTC 2020)\n",
       "(EPL source distribution)\n",
       "Java Runtime: OpenJDK Runtime Environment\n",
       "JVM: OpenJDK 64-Bit Server VM\n",
       "Default Encoding: UTF-8\n",
       "Language: en\n",
       "Country: null\n",
       "--></g></svg>"
      ]
     },
     "execution_count": 25,
     "metadata": {},
     "output_type": "execute_result"
    }
   ],
   "source": [
    "%viz --style=\"STDCOLOR\" --view=\"State\" \"CalculationExample\""
   ]
  },
  {
   "cell_type": "code",
   "execution_count": 26,
   "id": "colonial-maximum",
   "metadata": {
    "execution": {
     "iopub.execute_input": "2021-03-26T13:05:06.586524Z",
     "iopub.status.busy": "2021-03-26T13:05:06.585756Z",
     "iopub.status.idle": "2021-03-26T13:05:06.617326Z",
     "shell.execute_reply": "2021-03-26T13:05:06.616047Z"
    }
   },
   "outputs": [
    {
     "data": {
      "image/svg+xml": [
       "<?xml version=\"1.0\" encoding=\"UTF-8\" standalone=\"no\"?><svg xmlns=\"http://www.w3.org/2000/svg\" xmlns:xlink=\"http://www.w3.org/1999/xlink\" contentScriptType=\"application/ecmascript\" contentStyleType=\"text/css\" height=\"246px\" preserveAspectRatio=\"none\" style=\"width:795px;height:246px;\" version=\"1.1\" viewBox=\"0 0 795 246\" width=\"795px\" zoomAndPan=\"magnify\"><defs><filter height=\"300%\" id=\"fsys4muhuon0v\" width=\"300%\" x=\"-1\" y=\"-1\"><feGaussianBlur result=\"blurOut\" stdDeviation=\"2.0\"/><feColorMatrix in=\"blurOut\" result=\"blurOut2\" type=\"matrix\" values=\"0 0 0 0 0 0 0 0 0 0 0 0 0 0 0 0 0 0 .4 0\"/><feOffset dx=\"4.0\" dy=\"4.0\" in=\"blurOut2\" result=\"blurOut3\"/><feBlend in=\"SourceGraphic\" in2=\"blurOut3\" mode=\"normal\"/></filter></defs><g><!--MD5=[fbc87193dbaf4d95561dea2c320d4a47]\n",
       "cluster E1--><a href=\"psysml:279b101a-ad7c-43dd-8a07-da5fe5802bed\" target=\"_top\" title=\"psysml:279b101a-ad7c-43dd-8a07-da5fe5802bed\" xlink:actuate=\"onRequest\" xlink:href=\"psysml:279b101a-ad7c-43dd-8a07-da5fe5802bed\" xlink:show=\"new\" xlink:title=\"psysml:279b101a-ad7c-43dd-8a07-da5fe5802bed\" xlink:type=\"simple\"><polygon fill=\"#FFFFFF\" filter=\"url(#fsys4muhuon0v)\" points=\"16,6,173,6,180,28.2969,773,28.2969,773,234,16,234,16,6\" style=\"stroke: #000000; stroke-width: 1.5;\"/><line style=\"stroke: #000000; stroke-width: 1.5;\" x1=\"16\" x2=\"180\" y1=\"28.2969\" y2=\"28.2969\"/><text fill=\"#000000\" font-family=\"sans-serif\" font-size=\"14\" font-weight=\"bold\" lengthAdjust=\"spacingAndGlyphs\" textLength=\"151\" x=\"20\" y=\"20.9951\">CalculationExample</text></a><!--MD5=[e4f7fae6ed58524ba242bb0b0d3be6b7]\n",
       "cluster E2--><a href=\"psysml:3dfd6fc9-2012-44ec-8abc-b458a2efa8ee\" target=\"_top\" title=\"psysml:3dfd6fc9-2012-44ec-8abc-b458a2efa8ee\" xlink:actuate=\"onRequest\" xlink:href=\"psysml:3dfd6fc9-2012-44ec-8abc-b458a2efa8ee\" xlink:show=\"new\" xlink:title=\"psysml:3dfd6fc9-2012-44ec-8abc-b458a2efa8ee\" xlink:type=\"simple\"><rect fill=\"#FFFFFF\" filter=\"url(#fsys4muhuon0v)\" height=\"161\" id=\"E2\" rx=\"10\" ry=\"10\" style=\"stroke: #A80036; stroke-width: 1.5;\" width=\"436\" x=\"313\" y=\"49\"/><rect fill=\"#FEFECE\" height=\"23.9688\" rx=\"10\" ry=\"10\" style=\"stroke: #FEFECE; stroke-width: 1.5;\" width=\"436\" x=\"313\" y=\"49\"/><rect fill=\"#FEFECE\" height=\"10\" style=\"stroke: #FEFECE; stroke-width: 1.5;\" width=\"436\" x=\"313\" y=\"62.9688\"/><rect fill=\"none\" height=\"161\" id=\"E2\" rx=\"10\" ry=\"10\" style=\"stroke: #A80036; stroke-width: 1.5;\" width=\"436\" x=\"313\" y=\"49\"/><text fill=\"#000000\" font-family=\"sans-serif\" font-size=\"12\" lengthAdjust=\"spacingAndGlyphs\" textLength=\"43\" x=\"509.5\" y=\"65.1387\">vehicle</text><line style=\"stroke: #A80036; stroke-width: 1.0;\" x1=\"313\" x2=\"749\" y1=\"72.9688\" y2=\"72.9688\"/></a><!--MD5=[f6df4d0ebaf0b5dfb2ced0ae5af7c670]\n",
       "cluster E4--><a href=\"psysml:6f0477df-1982-4bef-bc4b-f3a5f459ca50\" target=\"_top\" title=\"psysml:6f0477df-1982-4bef-bc4b-f3a5f459ca50\" xlink:actuate=\"onRequest\" xlink:href=\"psysml:6f0477df-1982-4bef-bc4b-f3a5f459ca50\" xlink:show=\"new\" xlink:title=\"psysml:6f0477df-1982-4bef-bc4b-f3a5f459ca50\" xlink:type=\"simple\"><rect fill=\"#FFFFFF\" filter=\"url(#fsys4muhuon0v)\" height=\"94\" id=\"E4\" rx=\"10\" ry=\"10\" style=\"stroke: #A80036; stroke-width: 1.5;\" width=\"128\" x=\"597\" y=\"92\"/><rect fill=\"#FEFECE\" height=\"23.9688\" rx=\"10\" ry=\"10\" style=\"stroke: #FEFECE; stroke-width: 1.5;\" width=\"128\" x=\"597\" y=\"92\"/><rect fill=\"#FEFECE\" height=\"10\" style=\"stroke: #FEFECE; stroke-width: 1.5;\" width=\"128\" x=\"597\" y=\"105.9688\"/><rect fill=\"none\" height=\"94\" id=\"E4\" rx=\"10\" ry=\"10\" style=\"stroke: #A80036; stroke-width: 1.5;\" width=\"128\" x=\"597\" y=\"92\"/><text fill=\"#000000\" font-family=\"sans-serif\" font-size=\"12\" lengthAdjust=\"spacingAndGlyphs\" textLength=\"24\" x=\"649\" y=\"108.1387\">eng</text><line style=\"stroke: #A80036; stroke-width: 1.0;\" x1=\"597\" x2=\"725\" y1=\"115.9688\" y2=\"115.9688\"/></a><!--MD5=[14e3b0961a2654348d326746436168a1]\n",
       "cluster E6--><a href=\"psysml:39f29039-e97f-4cd7-a6e4-24de87290ff7\" target=\"_top\" title=\"psysml:39f29039-e97f-4cd7-a6e4-24de87290ff7\" xlink:actuate=\"onRequest\" xlink:href=\"psysml:39f29039-e97f-4cd7-a6e4-24de87290ff7\" xlink:show=\"new\" xlink:title=\"psysml:39f29039-e97f-4cd7-a6e4-24de87290ff7\" xlink:type=\"simple\"><rect fill=\"#FFFFFF\" filter=\"url(#fsys4muhuon0v)\" height=\"94\" id=\"E6\" rx=\"10\" ry=\"10\" style=\"stroke: #A80036; stroke-width: 1.5;\" width=\"128\" x=\"445\" y=\"92\"/><rect fill=\"#FEFECE\" height=\"23.9688\" rx=\"10\" ry=\"10\" style=\"stroke: #FEFECE; stroke-width: 1.5;\" width=\"128\" x=\"445\" y=\"92\"/><rect fill=\"#FEFECE\" height=\"10\" style=\"stroke: #FEFECE; stroke-width: 1.5;\" width=\"128\" x=\"445\" y=\"105.9688\"/><rect fill=\"none\" height=\"94\" id=\"E6\" rx=\"10\" ry=\"10\" style=\"stroke: #A80036; stroke-width: 1.5;\" width=\"128\" x=\"445\" y=\"92\"/><text fill=\"#000000\" font-family=\"sans-serif\" font-size=\"12\" lengthAdjust=\"spacingAndGlyphs\" textLength=\"33\" x=\"492.5\" y=\"108.1387\">trans</text><line style=\"stroke: #A80036; stroke-width: 1.0;\" x1=\"445\" x2=\"573\" y1=\"115.9688\" y2=\"115.9688\"/></a><g id=\"E1.E8\"><a href=\"psysml:5c4fc454-9680-413f-bf1a-bdf2f6cc06d5\" target=\"_top\" title=\"psysml:5c4fc454-9680-413f-bf1a-bdf2f6cc06d5\" xlink:actuate=\"onRequest\" xlink:href=\"psysml:5c4fc454-9680-413f-bf1a-bdf2f6cc06d5\" xlink:show=\"new\" xlink:title=\"psysml:5c4fc454-9680-413f-bf1a-bdf2f6cc06d5\" xlink:type=\"simple\"><rect fill=\"#FEFECE\" filter=\"url(#fsys4muhuon0v)\" height=\"42.9375\" id=\"E8\" style=\"stroke: #A80036; stroke-width: 1.5;\" width=\"113\" x=\"180.5\" y=\"127\"/><text fill=\"#000000\" font-family=\"sans-serif\" font-size=\"12\" font-style=\"italic\" lengthAdjust=\"spacingAndGlyphs\" textLength=\"106\" x=\"184\" y=\"143.1387\">«calculation def»</text><text fill=\"#000000\" font-family=\"sans-serif\" font-size=\"12\" lengthAdjust=\"spacingAndGlyphs\" textLength=\"59\" x=\"207.5\" y=\"157.1074\">MassSum</text></a></g><g id=\"E1.E9\"><a href=\"psysml:83ce5d61-6771-4884-a571-d4d08f340672\" target=\"_top\" title=\"psysml:83ce5d61-6771-4884-a571-d4d08f340672\" xlink:actuate=\"onRequest\" xlink:href=\"psysml:83ce5d61-6771-4884-a571-d4d08f340672\" xlink:show=\"new\" xlink:title=\"psysml:83ce5d61-6771-4884-a571-d4d08f340672\" xlink:type=\"simple\"><rect fill=\"#FEFECE\" filter=\"url(#fsys4muhuon0v)\" height=\"42.9375\" id=\"E9\" style=\"stroke: #A80036; stroke-width: 1.5;\" width=\"113\" x=\"32.5\" y=\"127\"/><text fill=\"#000000\" font-family=\"sans-serif\" font-size=\"12\" font-style=\"italic\" lengthAdjust=\"spacingAndGlyphs\" textLength=\"106\" x=\"36\" y=\"143.1387\">«calculation def»</text><text fill=\"#000000\" font-family=\"sans-serif\" font-size=\"12\" lengthAdjust=\"spacingAndGlyphs\" textLength=\"67\" x=\"55.5\" y=\"157.1074\">MassSum1</text></a></g><g id=\"E1.E2.E3\"><a href=\"psysml:14ff17ee-41c8-45bd-b867-b50857ad993c\" target=\"_top\" title=\"psysml:14ff17ee-41c8-45bd-b867-b50857ad993c\" xlink:actuate=\"onRequest\" xlink:href=\"psysml:14ff17ee-41c8-45bd-b867-b50857ad993c\" xlink:show=\"new\" xlink:title=\"psysml:14ff17ee-41c8-45bd-b867-b50857ad993c\" xlink:type=\"simple\"><rect fill=\"#FEFECE\" filter=\"url(#fsys4muhuon0v)\" height=\"42.9375\" id=\"E3\" rx=\"10\" ry=\"10\" style=\"stroke: #A80036; stroke-width: 1.5;\" width=\"97\" x=\"328.5\" y=\"127\"/><text fill=\"#000000\" font-family=\"sans-serif\" font-size=\"12\" font-style=\"italic\" lengthAdjust=\"spacingAndGlyphs\" textLength=\"69\" x=\"342.5\" y=\"143.1387\">«attribute»</text><text fill=\"#000000\" font-family=\"sans-serif\" font-size=\"12\" lengthAdjust=\"spacingAndGlyphs\" textLength=\"86\" x=\"334\" y=\"157.1074\">m: MassValue</text></a></g><g id=\"E1.E2.E4.E5\"><a href=\"psysml:74b360a2-1898-4ab2-8a14-bf87d0706240\" target=\"_top\" title=\"psysml:74b360a2-1898-4ab2-8a14-bf87d0706240\" xlink:actuate=\"onRequest\" xlink:href=\"psysml:74b360a2-1898-4ab2-8a14-bf87d0706240\" xlink:show=\"new\" xlink:title=\"psysml:74b360a2-1898-4ab2-8a14-bf87d0706240\" xlink:type=\"simple\"><rect fill=\"#FEFECE\" filter=\"url(#fsys4muhuon0v)\" height=\"42.9375\" id=\"E5\" rx=\"10\" ry=\"10\" style=\"stroke: #A80036; stroke-width: 1.5;\" width=\"97\" x=\"612.5\" y=\"127\"/><text fill=\"#000000\" font-family=\"sans-serif\" font-size=\"12\" font-style=\"italic\" lengthAdjust=\"spacingAndGlyphs\" textLength=\"69\" x=\"626.5\" y=\"143.1387\">«attribute»</text><text fill=\"#000000\" font-family=\"sans-serif\" font-size=\"12\" lengthAdjust=\"spacingAndGlyphs\" textLength=\"86\" x=\"618\" y=\"157.1074\">m: MassValue</text></a></g><g id=\"E1.E2.E6.E7\"><a href=\"psysml:21104dbc-631a-485d-ad70-3d921fae82b5\" target=\"_top\" title=\"psysml:21104dbc-631a-485d-ad70-3d921fae82b5\" xlink:actuate=\"onRequest\" xlink:href=\"psysml:21104dbc-631a-485d-ad70-3d921fae82b5\" xlink:show=\"new\" xlink:title=\"psysml:21104dbc-631a-485d-ad70-3d921fae82b5\" xlink:type=\"simple\"><rect fill=\"#FEFECE\" filter=\"url(#fsys4muhuon0v)\" height=\"42.9375\" id=\"E7\" rx=\"10\" ry=\"10\" style=\"stroke: #A80036; stroke-width: 1.5;\" width=\"97\" x=\"460.5\" y=\"127\"/><text fill=\"#000000\" font-family=\"sans-serif\" font-size=\"12\" font-style=\"italic\" lengthAdjust=\"spacingAndGlyphs\" textLength=\"69\" x=\"474.5\" y=\"143.1387\">«attribute»</text><text fill=\"#000000\" font-family=\"sans-serif\" font-size=\"12\" lengthAdjust=\"spacingAndGlyphs\" textLength=\"86\" x=\"466\" y=\"157.1074\">m: MassValue</text></a></g><!--MD5=[148d7f6c4d58107d6c01ce7429ec8103]\n",
       "@startuml\r\n",
       "skinparam ranksep 8\r\n",
       "skinparam rectangle {\r\n",
       " backgroundColor<<block>> LightGreen\r\n",
       "}\r\n",
       "skinparam wrapWidth 300\r\n",
       "hide circle\r\n",
       "\r\n",
       "package \"CalculationExample\" as E1  [[psysml:279b101a-ad7c-43dd-8a07-da5fe5802bed ]]  {\r\n",
       "rec usage \"vehicle\" as E2  [[psysml:3dfd6fc9-2012-44ec-8abc-b458a2efa8ee ]] {\r\n",
       "rec usage \"m: MassValue\" as E3  <<(T,blue)attribute>> [[psysml:14ff17ee-41c8-45bd-b867-b50857ad993c ]] {\r\n",
       "}\r\n",
       "rec usage \"eng\" as E4  [[psysml:6f0477df-1982-4bef-bc4b-f3a5f459ca50 ]] {\r\n",
       "rec usage \"m: MassValue\" as E5  <<(T,blue)attribute>> [[psysml:74b360a2-1898-4ab2-8a14-bf87d0706240 ]] {\r\n",
       "}\r\n",
       "}\r\n",
       "rec usage \"trans\" as E6  [[psysml:39f29039-e97f-4cd7-a6e4-24de87290ff7 ]] {\r\n",
       "rec usage \"m: MassValue\" as E7  <<(T,blue)attribute>> [[psysml:21104dbc-631a-485d-ad70-3d921fae82b5 ]] {\r\n",
       "}\r\n",
       "}\r\n",
       "}\r\n",
       "def \"MassSum\" as E8  <<(T,blue)calculation def>> [[psysml:5c4fc454-9680-413f-bf1a-bdf2f6cc06d5 ]] \r\n",
       "def \"MassSum1\" as E9  <<(T,blue)calculation def>> [[psysml:83ce5d61-6771-4884-a571-d4d08f340672 ]] \r\n",
       "}\r\n",
       "@enduml\r\n",
       "\n",
       "PlantUML version 1.2020.13(Sat Jun 13 12:26:38 UTC 2020)\n",
       "(EPL source distribution)\n",
       "Java Runtime: OpenJDK Runtime Environment\n",
       "JVM: OpenJDK 64-Bit Server VM\n",
       "Default Encoding: UTF-8\n",
       "Language: en\n",
       "Country: null\n",
       "--></g></svg>"
      ]
     },
     "execution_count": 26,
     "metadata": {},
     "output_type": "execute_result"
    }
   ],
   "source": [
    "%viz --style=\"STDCOLOR\" --view=\"Interconnection\" \"CalculationExample\""
   ]
  },
  {
   "cell_type": "code",
   "execution_count": 27,
   "id": "certified-barcelona",
   "metadata": {
    "execution": {
     "iopub.execute_input": "2021-03-26T13:05:06.669325Z",
     "iopub.status.busy": "2021-03-26T13:05:06.668620Z",
     "iopub.status.idle": "2021-03-26T13:05:06.708003Z",
     "shell.execute_reply": "2021-03-26T13:05:06.706425Z"
    }
   },
   "outputs": [
    {
     "data": {
      "image/svg+xml": [
       "<?xml version=\"1.0\" encoding=\"UTF-8\" standalone=\"no\"?><svg xmlns=\"http://www.w3.org/2000/svg\" xmlns:xlink=\"http://www.w3.org/1999/xlink\" contentScriptType=\"application/ecmascript\" contentStyleType=\"text/css\" height=\"162px\" preserveAspectRatio=\"none\" style=\"width:683px;height:162px;\" version=\"1.1\" viewBox=\"0 0 683 162\" width=\"683px\" zoomAndPan=\"magnify\"><defs><filter height=\"300%\" id=\"fxc4eeh6t6iec\" width=\"300%\" x=\"-1\" y=\"-1\"><feGaussianBlur result=\"blurOut\" stdDeviation=\"2.0\"/><feColorMatrix in=\"blurOut\" result=\"blurOut2\" type=\"matrix\" values=\"0 0 0 0 0 0 0 0 0 0 0 0 0 0 0 0 0 0 .4 0\"/><feOffset dx=\"4.0\" dy=\"4.0\" in=\"blurOut2\" result=\"blurOut3\"/><feBlend in=\"SourceGraphic\" in2=\"blurOut3\" mode=\"normal\"/></filter></defs><g><!--MD5=[fbc87193dbaf4d95561dea2c320d4a47]\n",
       "cluster E1--><a href=\"psysml:5c4fc454-9680-413f-bf1a-bdf2f6cc06d5\" target=\"_top\" title=\"psysml:5c4fc454-9680-413f-bf1a-bdf2f6cc06d5\" xlink:actuate=\"onRequest\" xlink:href=\"psysml:5c4fc454-9680-413f-bf1a-bdf2f6cc06d5\" xlink:show=\"new\" xlink:title=\"psysml:5c4fc454-9680-413f-bf1a-bdf2f6cc06d5\" xlink:type=\"simple\"><rect fill=\"#FFFFFF\" filter=\"url(#fxc4eeh6t6iec)\" height=\"87.72\" id=\"E1\" style=\"stroke: #A80036; stroke-width: 1.5;\" width=\"128\" x=\"28\" y=\"42.0986\"/><rect fill=\"#FEFECE\" height=\"37.9375\" style=\"stroke: #A80036; stroke-width: 1.5;\" width=\"128\" x=\"28\" y=\"42.0986\"/><text fill=\"#000000\" font-family=\"sans-serif\" font-size=\"12\" font-style=\"italic\" lengthAdjust=\"spacingAndGlyphs\" textLength=\"106\" x=\"39\" y=\"58.2373\">«calculation def»</text><text fill=\"#000000\" font-family=\"sans-serif\" font-size=\"12\" lengthAdjust=\"spacingAndGlyphs\" textLength=\"59\" x=\"62.5\" y=\"72.2061\">MassSum</text></a><!--MD5=[14e3b0961a2654348d326746436168a1]\n",
       "cluster E6--><a href=\"psysml:20e483d0-a5a0-4777-bc7f-caa19ca2a7e0\" target=\"_top\" title=\"psysml:20e483d0-a5a0-4777-bc7f-caa19ca2a7e0\" xlink:actuate=\"onRequest\" xlink:href=\"psysml:20e483d0-a5a0-4777-bc7f-caa19ca2a7e0\" xlink:show=\"new\" xlink:title=\"psysml:20e483d0-a5a0-4777-bc7f-caa19ca2a7e0\" xlink:type=\"simple\"><rect fill=\"#FFFFFF\" filter=\"url(#fxc4eeh6t6iec)\" height=\"87.72\" id=\"E6\" rx=\"10\" ry=\"10\" style=\"stroke: #A80036; stroke-width: 1.5;\" width=\"101\" x=\"251.75\" y=\"42.0986\"/><rect fill=\"#FEFECE\" height=\"37.9375\" rx=\"10\" ry=\"10\" style=\"stroke: #FEFECE; stroke-width: 1.5;\" width=\"101\" x=\"251.75\" y=\"42.0986\"/><rect fill=\"#FEFECE\" height=\"10\" style=\"stroke: #FEFECE; stroke-width: 1.5;\" width=\"101\" x=\"251.75\" y=\"70.0361\"/><rect fill=\"none\" height=\"87.72\" id=\"E6\" rx=\"10\" ry=\"10\" style=\"stroke: #A80036; stroke-width: 1.5;\" width=\"101\" x=\"251.75\" y=\"42.0986\"/><text fill=\"#000000\" font-family=\"sans-serif\" font-size=\"12\" font-style=\"italic\" lengthAdjust=\"spacingAndGlyphs\" textLength=\"82\" x=\"261.25\" y=\"58.2373\">«calculation»</text><text fill=\"#000000\" font-family=\"sans-serif\" font-size=\"12\" lengthAdjust=\"spacingAndGlyphs\" textLength=\"18\" x=\"293.25\" y=\"72.2061\">ms</text><line style=\"stroke: #A80036; stroke-width: 1.0;\" x1=\"251.75\" x2=\"352.75\" y1=\"80.0361\" y2=\"80.0361\"/></a><!--MD5=[7f149f147074ac12df2cb0a7728a5fb0]\n",
       "cluster E9--><a href=\"psysml:83ce5d61-6771-4884-a571-d4d08f340672\" target=\"_top\" title=\"psysml:83ce5d61-6771-4884-a571-d4d08f340672\" xlink:actuate=\"onRequest\" xlink:href=\"psysml:83ce5d61-6771-4884-a571-d4d08f340672\" xlink:show=\"new\" xlink:title=\"psysml:83ce5d61-6771-4884-a571-d4d08f340672\" xlink:type=\"simple\"><rect fill=\"#FFFFFF\" filter=\"url(#fxc4eeh6t6iec)\" height=\"87.72\" id=\"E9\" style=\"stroke: #A80036; stroke-width: 1.5;\" width=\"127\" x=\"410.25\" y=\"42.0986\"/><rect fill=\"#FEFECE\" height=\"37.9375\" style=\"stroke: #A80036; stroke-width: 1.5;\" width=\"127\" x=\"410.25\" y=\"42.0986\"/><text fill=\"#000000\" font-family=\"sans-serif\" font-size=\"12\" font-style=\"italic\" lengthAdjust=\"spacingAndGlyphs\" textLength=\"106\" x=\"420.75\" y=\"58.2373\">«calculation def»</text><text fill=\"#000000\" font-family=\"sans-serif\" font-size=\"12\" lengthAdjust=\"spacingAndGlyphs\" textLength=\"67\" x=\"440.25\" y=\"72.2061\">MassSum1</text></a><!--MD5=[47bea60c1a0ac6c1143df232041969c0]\n",
       "cluster E12--><a href=\"psysml:3aa3b647-0159-4a96-9fb7-94bd79c90754\" target=\"_top\" title=\"psysml:3aa3b647-0159-4a96-9fb7-94bd79c90754\" xlink:actuate=\"onRequest\" xlink:href=\"psysml:3aa3b647-0159-4a96-9fb7-94bd79c90754\" xlink:show=\"new\" xlink:title=\"psysml:3aa3b647-0159-4a96-9fb7-94bd79c90754\" xlink:type=\"simple\"><rect fill=\"#FFFFFF\" filter=\"url(#fxc4eeh6t6iec)\" height=\"87.72\" id=\"E12\" rx=\"10\" ry=\"10\" style=\"stroke: #A80036; stroke-width: 1.5;\" width=\"138\" x=\"526\" y=\"42.0986\"/><rect fill=\"#FEFECE\" height=\"37.9375\" rx=\"10\" ry=\"10\" style=\"stroke: #FEFECE; stroke-width: 1.5;\" width=\"138\" x=\"526\" y=\"42.0986\"/><rect fill=\"#FEFECE\" height=\"10\" style=\"stroke: #FEFECE; stroke-width: 1.5;\" width=\"138\" x=\"526\" y=\"70.0361\"/><rect fill=\"none\" height=\"87.72\" id=\"E12\" rx=\"10\" ry=\"10\" style=\"stroke: #A80036; stroke-width: 1.5;\" width=\"138\" x=\"526\" y=\"42.0986\"/><text fill=\"#000000\" font-family=\"sans-serif\" font-size=\"12\" font-style=\"italic\" lengthAdjust=\"spacingAndGlyphs\" textLength=\"82\" x=\"554\" y=\"58.2373\">«calculation»</text><text fill=\"#000000\" font-family=\"sans-serif\" font-size=\"12\" lengthAdjust=\"spacingAndGlyphs\" textLength=\"26\" x=\"582\" y=\"72.2061\">ms1</text><line style=\"stroke: #A80036; stroke-width: 1.0;\" x1=\"526\" x2=\"664\" y1=\"80.0361\" y2=\"80.0361\"/></a><text fill=\"#000000\" font-family=\"sans-serif\" font-size=\"14\" lengthAdjust=\"spacingAndGlyphs\" textLength=\"80\" x=\"6\" y=\"20.7969\">partMasses</text><rect fill=\"#A80036\" height=\"12\" style=\"stroke: #FEFECE; stroke-width: 1.5;\" width=\"12\" x=\"40\" y=\"36.0986\"/><text fill=\"#000000\" font-family=\"sans-serif\" font-size=\"14\" lengthAdjust=\"spacingAndGlyphs\" textLength=\"66\" x=\"54\" y=\"148.8138\">totalMass</text><rect fill=\"#A80036\" height=\"12\" style=\"stroke: #FEFECE; stroke-width: 1.5;\" width=\"12\" x=\"81\" y=\"123.8186\"/><text fill=\"#000000\" font-family=\"sans-serif\" font-size=\"14\" lengthAdjust=\"spacingAndGlyphs\" textLength=\"75\" x=\"100.5\" y=\"20.7969\">$collection</text><rect fill=\"#A80036\" height=\"12\" style=\"stroke: #FEFECE; stroke-width: 1.5;\" width=\"12\" x=\"132\" y=\"36.0986\"/><text fill=\"#000000\" font-family=\"sans-serif\" font-size=\"14\" lengthAdjust=\"spacingAndGlyphs\" textLength=\"48\" x=\"110\" y=\"148.8138\">$result</text><rect fill=\"#A80036\" height=\"12\" style=\"stroke: #FEFECE; stroke-width: 1.5;\" width=\"12\" x=\"128\" y=\"123.8186\"/><text fill=\"#000000\" font-family=\"sans-serif\" font-size=\"14\" lengthAdjust=\"spacingAndGlyphs\" textLength=\"80\" x=\"235\" y=\"20.7969\">partMasses</text><rect fill=\"#A80036\" height=\"12\" style=\"stroke: #FEFECE; stroke-width: 1.5;\" width=\"12\" x=\"269\" y=\"36.0986\"/><text fill=\"#000000\" font-family=\"sans-serif\" font-size=\"14\" lengthAdjust=\"spacingAndGlyphs\" textLength=\"66\" x=\"238\" y=\"148.8138\">totalMass</text><rect fill=\"#A80036\" height=\"12\" style=\"stroke: #FEFECE; stroke-width: 1.5;\" width=\"12\" x=\"265\" y=\"123.8186\"/><text fill=\"#000000\" font-family=\"sans-serif\" font-size=\"14\" lengthAdjust=\"spacingAndGlyphs\" textLength=\"80\" x=\"395\" y=\"20.7969\">partMasses</text><rect fill=\"#A80036\" height=\"12\" style=\"stroke: #FEFECE; stroke-width: 1.5;\" width=\"12\" x=\"429\" y=\"36.0986\"/><text fill=\"#000000\" font-family=\"sans-serif\" font-size=\"14\" lengthAdjust=\"spacingAndGlyphs\" textLength=\"66\" x=\"398\" y=\"148.8138\">totalMass</text><rect fill=\"#A80036\" height=\"12\" style=\"stroke: #FEFECE; stroke-width: 1.5;\" width=\"12\" x=\"425\" y=\"123.8186\"/><text fill=\"#000000\" font-family=\"sans-serif\" font-size=\"14\" lengthAdjust=\"spacingAndGlyphs\" textLength=\"80\" x=\"555\" y=\"20.7969\">partMasses</text><rect fill=\"#A80036\" height=\"12\" style=\"stroke: #FEFECE; stroke-width: 1.5;\" width=\"12\" x=\"589\" y=\"36.0986\"/><text fill=\"#000000\" font-family=\"sans-serif\" font-size=\"14\" lengthAdjust=\"spacingAndGlyphs\" textLength=\"66\" x=\"562\" y=\"148.8138\">totalMass</text><rect fill=\"#A80036\" height=\"12\" style=\"stroke: #FEFECE; stroke-width: 1.5;\" width=\"12\" x=\"589\" y=\"123.8186\"/><!--MD5=[6db8be26713e2f3c2507a28b25af1fc0]\n",
       "@startuml\r\n",
       "skinparam ranksep 8\r\n",
       "skinparam wrapWidth 300\r\n",
       "hide circle\r\n",
       "\r\n",
       "rec def \"MassSum\" as E1  <<(T,blue)calculation def>> [[psysml:5c4fc454-9680-413f-bf1a-bdf2f6cc06d5 ]] {\r\n",
       "portin \"partMasses\" as E2  [[psysml:57eaefe4-a57c-41fa-a944-033dc3e4df4e ]] \r\n",
       "portout \"totalMass\" as E3  [[psysml:35e88aae-ee13-4c55-bc31-272528607619 ]] \r\n",
       "portin \"$collection\" as E4  [[psysml:0e9b074a-52f0-467d-9ed6-1e247226bb71 ]] \r\n",
       "portout \"$result\" as E5  [[psysml:66242f20-bf9b-4b2d-900e-be3ce4c10d7e ]] \r\n",
       "}\r\n",
       "\r\n",
       "rec usage \"ms\" as E6  <<(T,blue)calculation>> [[psysml:20e483d0-a5a0-4777-bc7f-caa19ca2a7e0 ]] {\r\n",
       "portin \"partMasses\" as E7  [[psysml:61916027-7c4f-412f-9b89-438222569e79 ]] \r\n",
       "portout \"totalMass\" as E8  [[psysml:1b43c6aa-09b4-4e05-b4e4-873331fee78b ]] \r\n",
       "}\r\n",
       "\r\n",
       "rec def \"MassSum1\" as E9  <<(T,blue)calculation def>> [[psysml:83ce5d61-6771-4884-a571-d4d08f340672 ]] {\r\n",
       "portin \"partMasses\" as E10  [[psysml:0924d9a5-fc11-4345-935d-e5ff08c51a6a ]] \r\n",
       "portout \"totalMass\" as E11  [[psysml:b7c67a6a-5db6-4529-b3d9-f9fb47dc5f0c ]] \r\n",
       "}\r\n",
       "\r\n",
       "rec usage \"ms1\" as E12  <<(T,blue)calculation>> [[psysml:3aa3b647-0159-4a96-9fb7-94bd79c90754 ]] {\r\n",
       "portin \"partMasses\" as E13  [[psysml:d0b5b203-3fa8-4960-85f8-af6511da8b47 ]] \r\n",
       "portout \"totalMass\" as E14  [[psysml:7deb5e16-d6a2-4c83-9234-29097012e327 ]] \r\n",
       "}\r\n",
       "\r\n",
       "@enduml\r\n",
       "\n",
       "PlantUML version 1.2020.13(Sat Jun 13 12:26:38 UTC 2020)\n",
       "(EPL source distribution)\n",
       "Java Runtime: OpenJDK Runtime Environment\n",
       "JVM: OpenJDK 64-Bit Server VM\n",
       "Default Encoding: UTF-8\n",
       "Language: en\n",
       "Country: null\n",
       "--></g></svg>"
      ]
     },
     "execution_count": 27,
     "metadata": {},
     "output_type": "execute_result"
    }
   ],
   "source": [
    "%viz --style=\"STDCOLOR\" --view=\"Action\" \"CalculationExample\""
   ]
  },
  {
   "cell_type": "code",
   "execution_count": 28,
   "id": "fabulous-scottish",
   "metadata": {
    "execution": {
     "iopub.execute_input": "2021-03-26T13:05:06.760840Z",
     "iopub.status.busy": "2021-03-26T13:05:06.760295Z",
     "iopub.status.idle": "2021-03-26T13:05:06.826643Z",
     "shell.execute_reply": "2021-03-26T13:05:06.825207Z"
    }
   },
   "outputs": [
    {
     "data": {
      "image/svg+xml": [
       "<?xml version=\"1.0\" encoding=\"UTF-8\" standalone=\"no\"?><svg xmlns=\"http://www.w3.org/2000/svg\" xmlns:xlink=\"http://www.w3.org/1999/xlink\" contentScriptType=\"application/ecmascript\" contentStyleType=\"text/css\" height=\"260px\" preserveAspectRatio=\"none\" style=\"width:607px;height:260px;\" version=\"1.1\" viewBox=\"0 0 607 260\" width=\"607px\" zoomAndPan=\"magnify\"><defs><filter height=\"300%\" id=\"f1uoacau0svn8m\" width=\"300%\" x=\"-1\" y=\"-1\"><feGaussianBlur result=\"blurOut\" stdDeviation=\"2.0\"/><feColorMatrix in=\"blurOut\" result=\"blurOut2\" type=\"matrix\" values=\"0 0 0 0 0 0 0 0 0 0 0 0 0 0 0 0 0 0 .4 0\"/><feOffset dx=\"4.0\" dy=\"4.0\" in=\"blurOut2\" result=\"blurOut3\"/><feBlend in=\"SourceGraphic\" in2=\"blurOut3\" mode=\"normal\"/></filter></defs><g><!--MD5=[fbc87193dbaf4d95561dea2c320d4a47]\n",
       "cluster E1--><a href=\"psysml:279b101a-ad7c-43dd-8a07-da5fe5802bed\" target=\"_top\" title=\"psysml:279b101a-ad7c-43dd-8a07-da5fe5802bed\" xlink:actuate=\"onRequest\" xlink:href=\"psysml:279b101a-ad7c-43dd-8a07-da5fe5802bed\" xlink:show=\"new\" xlink:title=\"psysml:279b101a-ad7c-43dd-8a07-da5fe5802bed\" xlink:type=\"simple\"><polygon fill=\"#FFFFFF\" filter=\"url(#f1uoacau0svn8m)\" points=\"16,6,173,6,180,28.2969,585,28.2969,585,248,16,248,16,6\" style=\"stroke: #000000; stroke-width: 1.5;\"/><line style=\"stroke: #000000; stroke-width: 1.5;\" x1=\"16\" x2=\"180\" y1=\"28.2969\" y2=\"28.2969\"/><text fill=\"#000000\" font-family=\"sans-serif\" font-size=\"14\" font-weight=\"bold\" lengthAdjust=\"spacingAndGlyphs\" textLength=\"151\" x=\"20\" y=\"20.9951\">CalculationExample</text></a><!--MD5=[b4997ac47864f28c2f74865a473b2911]\n",
       "class E2--><a href=\"psysml:3dfd6fc9-2012-44ec-8abc-b458a2efa8ee\" target=\"_top\" title=\"psysml:3dfd6fc9-2012-44ec-8abc-b458a2efa8ee\" xlink:actuate=\"onRequest\" xlink:href=\"psysml:3dfd6fc9-2012-44ec-8abc-b458a2efa8ee\" xlink:show=\"new\" xlink:title=\"psysml:3dfd6fc9-2012-44ec-8abc-b458a2efa8ee\" xlink:type=\"simple\"><rect fill=\"#FEFECE\" filter=\"url(#f1uoacau0svn8m)\" height=\"58.7422\" id=\"E2\" rx=\"10\" ry=\"10\" style=\"stroke: #A80036; stroke-width: 1.5;\" width=\"92\" x=\"477\" y=\"47.5\"/><text fill=\"#000000\" font-family=\"sans-serif\" font-size=\"12\" font-style=\"italic\" lengthAdjust=\"spacingAndGlyphs\" textLength=\"40\" x=\"503\" y=\"63.6387\">«part»</text><text fill=\"#000000\" font-family=\"sans-serif\" font-size=\"12\" lengthAdjust=\"spacingAndGlyphs\" textLength=\"43\" x=\"501.5\" y=\"77.6074\">vehicle</text><line style=\"stroke: #A80036; stroke-width: 1.5;\" x1=\"478\" x2=\"568\" y1=\"85.4375\" y2=\"85.4375\"/><text fill=\"#000000\" font-family=\"sans-serif\" font-size=\"11\" lengthAdjust=\"spacingAndGlyphs\" textLength=\"80\" x=\"483\" y=\"99.6479\">m: MassValue</text></a><!--MD5=[09b614a08d8cba4a07c9adeb5e0fee81]\n",
       "class E3--><a href=\"psysml:6f0477df-1982-4bef-bc4b-f3a5f459ca50\" target=\"_top\" title=\"psysml:6f0477df-1982-4bef-bc4b-f3a5f459ca50\" xlink:actuate=\"onRequest\" xlink:href=\"psysml:6f0477df-1982-4bef-bc4b-f3a5f459ca50\" xlink:show=\"new\" xlink:title=\"psysml:6f0477df-1982-4bef-bc4b-f3a5f459ca50\" xlink:type=\"simple\"><rect fill=\"#FEFECE\" filter=\"url(#f1uoacau0svn8m)\" height=\"58.7422\" id=\"E3\" rx=\"10\" ry=\"10\" style=\"stroke: #A80036; stroke-width: 1.5;\" width=\"92\" x=\"350\" y=\"173\"/><text fill=\"#000000\" font-family=\"sans-serif\" font-size=\"12\" font-style=\"italic\" lengthAdjust=\"spacingAndGlyphs\" textLength=\"40\" x=\"376\" y=\"189.1387\">«part»</text><text fill=\"#000000\" font-family=\"sans-serif\" font-size=\"12\" lengthAdjust=\"spacingAndGlyphs\" textLength=\"24\" x=\"384\" y=\"203.1074\">eng</text><line style=\"stroke: #A80036; stroke-width: 1.5;\" x1=\"351\" x2=\"441\" y1=\"210.9375\" y2=\"210.9375\"/><text fill=\"#000000\" font-family=\"sans-serif\" font-size=\"11\" lengthAdjust=\"spacingAndGlyphs\" textLength=\"80\" x=\"356\" y=\"225.1479\">m: MassValue</text></a><!--MD5=[ebbe1d658d1005bcc118a6aa81145e00]\n",
       "class E4--><a href=\"psysml:39f29039-e97f-4cd7-a6e4-24de87290ff7\" target=\"_top\" title=\"psysml:39f29039-e97f-4cd7-a6e4-24de87290ff7\" xlink:actuate=\"onRequest\" xlink:href=\"psysml:39f29039-e97f-4cd7-a6e4-24de87290ff7\" xlink:show=\"new\" xlink:title=\"psysml:39f29039-e97f-4cd7-a6e4-24de87290ff7\" xlink:type=\"simple\"><rect fill=\"#FEFECE\" filter=\"url(#f1uoacau0svn8m)\" height=\"58.7422\" id=\"E4\" rx=\"10\" ry=\"10\" style=\"stroke: #A80036; stroke-width: 1.5;\" width=\"92\" x=\"477\" y=\"173\"/><text fill=\"#000000\" font-family=\"sans-serif\" font-size=\"12\" font-style=\"italic\" lengthAdjust=\"spacingAndGlyphs\" textLength=\"40\" x=\"503\" y=\"189.1387\">«part»</text><text fill=\"#000000\" font-family=\"sans-serif\" font-size=\"12\" lengthAdjust=\"spacingAndGlyphs\" textLength=\"33\" x=\"506.5\" y=\"203.1074\">trans</text><line style=\"stroke: #A80036; stroke-width: 1.5;\" x1=\"478\" x2=\"568\" y1=\"210.9375\" y2=\"210.9375\"/><text fill=\"#000000\" font-family=\"sans-serif\" font-size=\"11\" lengthAdjust=\"spacingAndGlyphs\" textLength=\"80\" x=\"483\" y=\"225.1479\">m: MassValue</text></a><!--MD5=[270fce915f116d4de14055a7c1d9a0f3]\n",
       "class E5--><a href=\"psysml:5c4fc454-9680-413f-bf1a-bdf2f6cc06d5\" target=\"_top\" title=\"psysml:5c4fc454-9680-413f-bf1a-bdf2f6cc06d5\" xlink:actuate=\"onRequest\" xlink:href=\"psysml:5c4fc454-9680-413f-bf1a-bdf2f6cc06d5\" xlink:show=\"new\" xlink:title=\"psysml:5c4fc454-9680-413f-bf1a-bdf2f6cc06d5\" xlink:type=\"simple\"><rect fill=\"#FEFECE\" filter=\"url(#f1uoacau0svn8m)\" height=\"45.9375\" id=\"E5\" style=\"stroke: #A80036; stroke-width: 1.5;\" width=\"108\" x=\"120\" y=\"179.5\"/><text fill=\"#000000\" font-family=\"sans-serif\" font-size=\"12\" font-style=\"italic\" lengthAdjust=\"spacingAndGlyphs\" textLength=\"106\" x=\"121\" y=\"195.6387\">«calculation def»</text><text fill=\"#000000\" font-family=\"sans-serif\" font-size=\"12\" lengthAdjust=\"spacingAndGlyphs\" textLength=\"59\" x=\"144.5\" y=\"209.6074\">MassSum</text><line style=\"stroke: #A80036; stroke-width: 1.5;\" x1=\"121\" x2=\"227\" y1=\"217.4375\" y2=\"217.4375\"/></a><!--MD5=[60a26617385b1d2d0262a64233df1f8d]\n",
       "class E6--><a href=\"psysml:20e483d0-a5a0-4777-bc7f-caa19ca2a7e0\" target=\"_top\" title=\"psysml:20e483d0-a5a0-4777-bc7f-caa19ca2a7e0\" xlink:actuate=\"onRequest\" xlink:href=\"psysml:20e483d0-a5a0-4777-bc7f-caa19ca2a7e0\" xlink:show=\"new\" xlink:title=\"psysml:20e483d0-a5a0-4777-bc7f-caa19ca2a7e0\" xlink:type=\"simple\"><rect fill=\"#FEFECE\" filter=\"url(#f1uoacau0svn8m)\" height=\"45.9375\" id=\"E6\" rx=\"10\" ry=\"10\" style=\"stroke: #A80036; stroke-width: 1.5;\" width=\"91\" x=\"350.5\" y=\"54\"/><text fill=\"#000000\" font-family=\"sans-serif\" font-size=\"12\" font-style=\"italic\" lengthAdjust=\"spacingAndGlyphs\" textLength=\"82\" x=\"355\" y=\"70.1387\">«calculation»</text><text fill=\"#000000\" font-family=\"sans-serif\" font-size=\"12\" lengthAdjust=\"spacingAndGlyphs\" textLength=\"85\" x=\"353.5\" y=\"84.1074\">ms: MassSum</text><line style=\"stroke: #A80036; stroke-width: 1.5;\" x1=\"351.5\" x2=\"440.5\" y1=\"91.9375\" y2=\"91.9375\"/></a><!--MD5=[2156ba9850f5573cc1fc38a6a4b2f02b]\n",
       "class E7--><a href=\"psysml:83ce5d61-6771-4884-a571-d4d08f340672\" target=\"_top\" title=\"psysml:83ce5d61-6771-4884-a571-d4d08f340672\" xlink:actuate=\"onRequest\" xlink:href=\"psysml:83ce5d61-6771-4884-a571-d4d08f340672\" xlink:show=\"new\" xlink:title=\"psysml:83ce5d61-6771-4884-a571-d4d08f340672\" xlink:type=\"simple\"><rect fill=\"#FEFECE\" filter=\"url(#f1uoacau0svn8m)\" height=\"71.5469\" id=\"E7\" style=\"stroke: #A80036; stroke-width: 1.5;\" width=\"148\" x=\"167\" y=\"41\"/><text fill=\"#000000\" font-family=\"sans-serif\" font-size=\"12\" font-style=\"italic\" lengthAdjust=\"spacingAndGlyphs\" textLength=\"106\" x=\"188\" y=\"57.1387\">«calculation def»</text><text fill=\"#000000\" font-family=\"sans-serif\" font-size=\"12\" lengthAdjust=\"spacingAndGlyphs\" textLength=\"67\" x=\"207.5\" y=\"71.1074\">MassSum1</text><line style=\"stroke: #A80036; stroke-width: 1.5;\" x1=\"168\" x2=\"314\" y1=\"78.9375\" y2=\"78.9375\"/><text fill=\"#000000\" font-family=\"sans-serif\" font-size=\"11\" lengthAdjust=\"spacingAndGlyphs\" textLength=\"136\" x=\"173\" y=\"93.1479\">partMasses: MassValue</text><text fill=\"#000000\" font-family=\"sans-serif\" font-size=\"11\" lengthAdjust=\"spacingAndGlyphs\" textLength=\"124\" x=\"173\" y=\"105.9526\">totalMass: MassValue</text></a><!--MD5=[b9389687b975829384b498ac4b7476b2]\n",
       "class E8--><a href=\"psysml:3aa3b647-0159-4a96-9fb7-94bd79c90754\" target=\"_top\" title=\"psysml:3aa3b647-0159-4a96-9fb7-94bd79c90754\" xlink:actuate=\"onRequest\" xlink:href=\"psysml:3aa3b647-0159-4a96-9fb7-94bd79c90754\" xlink:show=\"new\" xlink:title=\"psysml:3aa3b647-0159-4a96-9fb7-94bd79c90754\" xlink:type=\"simple\"><rect fill=\"#FEFECE\" filter=\"url(#f1uoacau0svn8m)\" height=\"71.5469\" id=\"E8\" rx=\"10\" ry=\"10\" style=\"stroke: #A80036; stroke-width: 1.5;\" width=\"99\" x=\"32.5\" y=\"41\"/><text fill=\"#000000\" font-family=\"sans-serif\" font-size=\"12\" font-style=\"italic\" lengthAdjust=\"spacingAndGlyphs\" textLength=\"82\" x=\"41\" y=\"57.1387\">«calculation»</text><text fill=\"#000000\" font-family=\"sans-serif\" font-size=\"12\" lengthAdjust=\"spacingAndGlyphs\" textLength=\"93\" x=\"35.5\" y=\"71.1074\">ms1: MassSum</text><line style=\"stroke: #A80036; stroke-width: 1.5;\" x1=\"33.5\" x2=\"130.5\" y1=\"78.9375\" y2=\"78.9375\"/><text fill=\"#000000\" font-family=\"sans-serif\" font-size=\"11\" lengthAdjust=\"spacingAndGlyphs\" textLength=\"67\" x=\"38.5\" y=\"93.1479\">partMasses</text><text fill=\"#000000\" font-family=\"sans-serif\" font-size=\"11\" lengthAdjust=\"spacingAndGlyphs\" textLength=\"55\" x=\"38.5\" y=\"105.9526\">totalMass</text></a><!--MD5=[209b3feb70ccb6233bfe1053d122c12c]\n",
       "reverse link E2 to E3--><a href=\"psysml:6f0477df-1982-4bef-bc4b-f3a5f459ca50\" target=\"_top\" title=\"psysml:6f0477df-1982-4bef-bc4b-f3a5f459ca50\" xlink:actuate=\"onRequest\" xlink:href=\"psysml:6f0477df-1982-4bef-bc4b-f3a5f459ca50\" xlink:show=\"new\" xlink:title=\"psysml:6f0477df-1982-4bef-bc4b-f3a5f459ca50\" xlink:type=\"simple\"><path d=\"M484.08,115.85 C465.3,134.11 443.13,155.66 425.74,172.58 \" fill=\"none\" id=\"E2&lt;-E3\" style=\"stroke: #A80036; stroke-width: 1.0;\"/><polygon fill=\"#A80036\" points=\"493.54,106.64,486.4499,107.9553,484.937,115.0059,492.0271,113.6906,493.54,106.64\" style=\"stroke: #A80036; stroke-width: 1.0;\"/></a><!--MD5=[9618e71518536f8baf3342ff6fdab317]\n",
       "reverse link E2 to E4--><a href=\"psysml:39f29039-e97f-4cd7-a6e4-24de87290ff7\" target=\"_top\" title=\"psysml:39f29039-e97f-4cd7-a6e4-24de87290ff7\" xlink:actuate=\"onRequest\" xlink:href=\"psysml:39f29039-e97f-4cd7-a6e4-24de87290ff7\" xlink:show=\"new\" xlink:title=\"psysml:39f29039-e97f-4cd7-a6e4-24de87290ff7\" xlink:type=\"simple\"><path d=\"M523,119.66 C523,137.05 523,156.83 523,172.58 \" fill=\"none\" id=\"E2&lt;-E4\" style=\"stroke: #A80036; stroke-width: 1.0;\"/><polygon fill=\"#A80036\" points=\"523,106.64,519,112.64,523,118.64,527,112.64,523,106.64\" style=\"stroke: #A80036; stroke-width: 1.0;\"/></a><!--MD5=[25b190c987b1e74e5126d372c5a73af1]\n",
       "link E6 to E5--><a href=\"psysml:087e1e8b-9f76-403f-b1f3-15ea1e5b2649\" target=\"_top\" title=\"psysml:087e1e8b-9f76-403f-b1f3-15ea1e5b2649\" xlink:actuate=\"onRequest\" xlink:href=\"psysml:087e1e8b-9f76-403f-b1f3-15ea1e5b2649\" xlink:show=\"new\" xlink:title=\"psysml:087e1e8b-9f76-403f-b1f3-15ea1e5b2649\" xlink:type=\"simple\"><path d=\"M356.31,100.08 C321.53,119.43 270.56,147.78 231.35,169.59 \" fill=\"none\" id=\"E6-&gt;E5\" style=\"stroke: #A80036; stroke-width: 1.0;\"/><polygon fill=\"#FFFFFF\" points=\"213.72,179.4,226.9199,164.0454,233.7265,176.2794,213.72,179.4\" style=\"stroke: #A80036; stroke-width: 1.0;\"/><ellipse cx=\"232.8733\" cy=\"163.0219\" fill=\"#A80036\" rx=\"2\" ry=\"2\" style=\"stroke: #A80036; stroke-width: 1.0;\"/><ellipse cx=\"237.7351\" cy=\"171.7604\" fill=\"#A80036\" rx=\"2\" ry=\"2\" style=\"stroke: #A80036; stroke-width: 1.0;\"/></a><!--MD5=[1ccb2481ffa92f8d51a74ee30c51832a]\n",
       "link E8 to E5--><a href=\"psysml:a6dd9655-fa53-42fd-8b92-db635a2ece9b\" target=\"_top\" title=\"psysml:a6dd9655-fa53-42fd-8b92-db635a2ece9b\" xlink:actuate=\"onRequest\" xlink:href=\"psysml:a6dd9655-fa53-42fd-8b92-db635a2ece9b\" xlink:show=\"new\" xlink:title=\"psysml:a6dd9655-fa53-42fd-8b92-db635a2ece9b\" xlink:type=\"simple\"><path d=\"M108.12,113.06 C119.74,128.67 133.47,147.09 145.37,163.07 \" fill=\"none\" id=\"E8-&gt;E5\" style=\"stroke: #A80036; stroke-width: 1.0;\"/><polygon fill=\"#FFFFFF\" points=\"157.39,179.2,140.4231,168.1491,151.6482,159.7827,157.39,179.2\" style=\"stroke: #A80036; stroke-width: 1.0;\"/><ellipse cx=\"138.6203\" cy=\"162.3836\" fill=\"#A80036\" rx=\"2\" ry=\"2\" style=\"stroke: #A80036; stroke-width: 1.0;\"/><ellipse cx=\"146.6383\" cy=\"156.4077\" fill=\"#A80036\" rx=\"2\" ry=\"2\" style=\"stroke: #A80036; stroke-width: 1.0;\"/></a><!--MD5=[3c800ddb78171d991657ea1b2e81d432]\n",
       "@startuml\r\n",
       "skinparam wrapWidth 300\r\n",
       "hide circle\r\n",
       "\r\n",
       "package \"CalculationExample\" as E1  [[psysml:279b101a-ad7c-43dd-8a07-da5fe5802bed ]]  {\r\n",
       "comp usage \"vehicle\" as E2  <<(T,blue)part>> [[psysml:3dfd6fc9-2012-44ec-8abc-b458a2efa8ee ]] {\r\n",
       "m: MassValue\r\n",
       "}\r\n",
       "comp usage \"eng\" as E3  <<(T,blue)part>> [[psysml:6f0477df-1982-4bef-bc4b-f3a5f459ca50 ]] {\r\n",
       "m: MassValue\r\n",
       "}\r\n",
       "comp usage \"trans\" as E4  <<(T,blue)part>> [[psysml:39f29039-e97f-4cd7-a6e4-24de87290ff7 ]] {\r\n",
       "m: MassValue\r\n",
       "}\r\n",
       "comp def \"MassSum\" as E5  <<(T,blue)calculation def>> [[psysml:5c4fc454-9680-413f-bf1a-bdf2f6cc06d5 ]] {\r\n",
       "}\r\n",
       "comp usage \"ms: MassSum\" as E6  <<(T,blue)calculation>> [[psysml:20e483d0-a5a0-4777-bc7f-caa19ca2a7e0 ]] {\r\n",
       "}\r\n",
       "comp def \"MassSum1\" as E7  <<(T,blue)calculation def>> [[psysml:83ce5d61-6771-4884-a571-d4d08f340672 ]] {\r\n",
       "partMasses: MassValue\r\n",
       "totalMass: MassValue\r\n",
       "}\r\n",
       "comp usage \"ms1: MassSum\" as E8  <<(T,blue)calculation>> [[psysml:3aa3b647-0159-4a96-9fb7-94bd79c90754 ]] {\r\n",
       "partMasses\r\n",
       "totalMass\r\n",
       "}\r\n",
       "E2 *- - E3 [[psysml:6f0477df-1982-4bef-bc4b-f3a5f459ca50 ]] \r\n",
       "E2 *- - E4 [[psysml:39f29039-e97f-4cd7-a6e4-24de87290ff7 ]] \r\n",
       "E6 - -:|> E5 [[psysml:087e1e8b-9f76-403f-b1f3-15ea1e5b2649 ]] \r\n",
       "E8 - -:|> E5 [[psysml:a6dd9655-fa53-42fd-8b92-db635a2ece9b ]] \r\n",
       "}\r\n",
       "@enduml\r\n",
       "\n",
       "PlantUML version 1.2020.13(Sat Jun 13 12:26:38 UTC 2020)\n",
       "(EPL source distribution)\n",
       "Java Runtime: OpenJDK Runtime Environment\n",
       "JVM: OpenJDK 64-Bit Server VM\n",
       "Default Encoding: UTF-8\n",
       "Language: en\n",
       "Country: null\n",
       "--></g></svg>"
      ]
     },
     "execution_count": 28,
     "metadata": {},
     "output_type": "execute_result"
    }
   ],
   "source": [
    "%viz --style=\"STDCOLOR\" --view=\"Sequence\" \"CalculationExample\""
   ]
  },
  {
   "cell_type": "code",
   "execution_count": 29,
   "id": "affected-marina",
   "metadata": {
    "execution": {
     "iopub.execute_input": "2021-03-26T13:05:06.876363Z",
     "iopub.status.busy": "2021-03-26T13:05:06.875837Z",
     "iopub.status.idle": "2021-03-26T13:05:06.928619Z",
     "shell.execute_reply": "2021-03-26T13:05:06.927102Z"
    }
   },
   "outputs": [
    {
     "data": {
      "image/svg+xml": [
       "<?xml version=\"1.0\" encoding=\"UTF-8\" standalone=\"no\"?><svg xmlns=\"http://www.w3.org/2000/svg\" xmlns:xlink=\"http://www.w3.org/1999/xlink\" contentScriptType=\"application/ecmascript\" contentStyleType=\"text/css\" height=\"408px\" preserveAspectRatio=\"none\" style=\"width:788px;height:408px;\" version=\"1.1\" viewBox=\"0 0 788 408\" width=\"788px\" zoomAndPan=\"magnify\"><defs><filter height=\"300%\" id=\"f14t1b1df7ys8w\" width=\"300%\" x=\"-1\" y=\"-1\"><feGaussianBlur result=\"blurOut\" stdDeviation=\"2.0\"/><feColorMatrix in=\"blurOut\" result=\"blurOut2\" type=\"matrix\" values=\"0 0 0 0 0 0 0 0 0 0 0 0 0 0 0 0 0 0 .4 0\"/><feOffset dx=\"4.0\" dy=\"4.0\" in=\"blurOut2\" result=\"blurOut3\"/><feBlend in=\"SourceGraphic\" in2=\"blurOut3\" mode=\"normal\"/></filter></defs><g><!--MD5=[fbc87193dbaf4d95561dea2c320d4a47]\n",
       "cluster E1--><a href=\"psysml:279b101a-ad7c-43dd-8a07-da5fe5802bed\" target=\"_top\" title=\"psysml:279b101a-ad7c-43dd-8a07-da5fe5802bed\" xlink:actuate=\"onRequest\" xlink:href=\"psysml:279b101a-ad7c-43dd-8a07-da5fe5802bed\" xlink:show=\"new\" xlink:title=\"psysml:279b101a-ad7c-43dd-8a07-da5fe5802bed\" xlink:type=\"simple\"><polygon fill=\"#FFFFFF\" filter=\"url(#f14t1b1df7ys8w)\" points=\"16,6,173,6,180,28.2969,766,28.2969,766,396.72,16,396.72,16,6\" style=\"stroke: #000000; stroke-width: 1.5;\"/><line style=\"stroke: #000000; stroke-width: 1.5;\" x1=\"16\" x2=\"180\" y1=\"28.2969\" y2=\"28.2969\"/><text fill=\"#000000\" font-family=\"sans-serif\" font-size=\"14\" font-weight=\"bold\" lengthAdjust=\"spacingAndGlyphs\" textLength=\"151\" x=\"20\" y=\"20.9951\">CalculationExample</text></a><!--MD5=[de5ec2e2e8f62f467e546659f5068c88]\n",
       "cluster E5--><a href=\"psysml:5c4fc454-9680-413f-bf1a-bdf2f6cc06d5\" target=\"_top\" title=\"psysml:5c4fc454-9680-413f-bf1a-bdf2f6cc06d5\" xlink:actuate=\"onRequest\" xlink:href=\"psysml:5c4fc454-9680-413f-bf1a-bdf2f6cc06d5\" xlink:show=\"new\" xlink:title=\"psysml:5c4fc454-9680-413f-bf1a-bdf2f6cc06d5\" xlink:type=\"simple\"><rect fill=\"#FFFFFF\" filter=\"url(#f14t1b1df7ys8w)\" height=\"281.72\" id=\"E5\" style=\"stroke: #A80036; stroke-width: 1.5;\" width=\"128\" x=\"155\" y=\"77\"/><rect fill=\"#FEFECE\" height=\"37.9375\" style=\"stroke: #A80036; stroke-width: 1.5;\" width=\"128\" x=\"155\" y=\"77\"/><text fill=\"#000000\" font-family=\"sans-serif\" font-size=\"12\" font-style=\"italic\" lengthAdjust=\"spacingAndGlyphs\" textLength=\"106\" x=\"166\" y=\"93.1387\">«calculation def»</text><text fill=\"#000000\" font-family=\"sans-serif\" font-size=\"12\" lengthAdjust=\"spacingAndGlyphs\" textLength=\"59\" x=\"189.5\" y=\"107.1074\">MassSum</text></a><!--MD5=[917b9dd0c7eca3ee5f47219d1a84c0ad]\n",
       "cluster E11--><a href=\"psysml:83ce5d61-6771-4884-a571-d4d08f340672\" target=\"_top\" title=\"psysml:83ce5d61-6771-4884-a571-d4d08f340672\" xlink:actuate=\"onRequest\" xlink:href=\"psysml:83ce5d61-6771-4884-a571-d4d08f340672\" xlink:show=\"new\" xlink:title=\"psysml:83ce5d61-6771-4884-a571-d4d08f340672\" xlink:type=\"simple\"><rect fill=\"#FFFFFF\" filter=\"url(#f14t1b1df7ys8w)\" height=\"281.72\" id=\"E11\" style=\"stroke: #A80036; stroke-width: 1.5;\" width=\"166\" x=\"584\" y=\"77\"/><rect fill=\"#FEFECE\" height=\"37.9375\" style=\"stroke: #A80036; stroke-width: 1.5;\" width=\"166\" x=\"584\" y=\"77\"/><text fill=\"#000000\" font-family=\"sans-serif\" font-size=\"12\" font-style=\"italic\" lengthAdjust=\"spacingAndGlyphs\" textLength=\"106\" x=\"614\" y=\"93.1387\">«calculation def»</text><text fill=\"#000000\" font-family=\"sans-serif\" font-size=\"12\" lengthAdjust=\"spacingAndGlyphs\" textLength=\"67\" x=\"633.5\" y=\"107.1074\">MassSum1</text></a><!--MD5=[b4997ac47864f28c2f74865a473b2911]\n",
       "class E2--><a href=\"psysml:3dfd6fc9-2012-44ec-8abc-b458a2efa8ee\" target=\"_top\" title=\"psysml:3dfd6fc9-2012-44ec-8abc-b458a2efa8ee\" xlink:actuate=\"onRequest\" xlink:href=\"psysml:3dfd6fc9-2012-44ec-8abc-b458a2efa8ee\" xlink:show=\"new\" xlink:title=\"psysml:3dfd6fc9-2012-44ec-8abc-b458a2efa8ee\" xlink:type=\"simple\"><rect fill=\"#FEFECE\" filter=\"url(#f14t1b1df7ys8w)\" height=\"58.7422\" id=\"E2\" rx=\"10\" ry=\"10\" style=\"stroke: #A80036; stroke-width: 1.5;\" width=\"92\" x=\"473\" y=\"47.5\"/><text fill=\"#000000\" font-family=\"sans-serif\" font-size=\"12\" font-style=\"italic\" lengthAdjust=\"spacingAndGlyphs\" textLength=\"40\" x=\"499\" y=\"63.6387\">«part»</text><text fill=\"#000000\" font-family=\"sans-serif\" font-size=\"12\" lengthAdjust=\"spacingAndGlyphs\" textLength=\"43\" x=\"497.5\" y=\"77.6074\">vehicle</text><line style=\"stroke: #A80036; stroke-width: 1.5;\" x1=\"474\" x2=\"564\" y1=\"85.4375\" y2=\"85.4375\"/><text fill=\"#000000\" font-family=\"sans-serif\" font-size=\"11\" lengthAdjust=\"spacingAndGlyphs\" textLength=\"80\" x=\"479\" y=\"99.6479\">m: MassValue</text></a><!--MD5=[09b614a08d8cba4a07c9adeb5e0fee81]\n",
       "class E3--><a href=\"psysml:6f0477df-1982-4bef-bc4b-f3a5f459ca50\" target=\"_top\" title=\"psysml:6f0477df-1982-4bef-bc4b-f3a5f459ca50\" xlink:actuate=\"onRequest\" xlink:href=\"psysml:6f0477df-1982-4bef-bc4b-f3a5f459ca50\" xlink:show=\"new\" xlink:title=\"psysml:6f0477df-1982-4bef-bc4b-f3a5f459ca50\" xlink:type=\"simple\"><rect fill=\"#FEFECE\" filter=\"url(#f14t1b1df7ys8w)\" height=\"58.7422\" id=\"E3\" rx=\"10\" ry=\"10\" style=\"stroke: #A80036; stroke-width: 1.5;\" width=\"92\" x=\"346\" y=\"173\"/><text fill=\"#000000\" font-family=\"sans-serif\" font-size=\"12\" font-style=\"italic\" lengthAdjust=\"spacingAndGlyphs\" textLength=\"40\" x=\"372\" y=\"189.1387\">«part»</text><text fill=\"#000000\" font-family=\"sans-serif\" font-size=\"12\" lengthAdjust=\"spacingAndGlyphs\" textLength=\"24\" x=\"380\" y=\"203.1074\">eng</text><line style=\"stroke: #A80036; stroke-width: 1.5;\" x1=\"347\" x2=\"437\" y1=\"210.9375\" y2=\"210.9375\"/><text fill=\"#000000\" font-family=\"sans-serif\" font-size=\"11\" lengthAdjust=\"spacingAndGlyphs\" textLength=\"80\" x=\"352\" y=\"225.1479\">m: MassValue</text></a><!--MD5=[ebbe1d658d1005bcc118a6aa81145e00]\n",
       "class E4--><a href=\"psysml:39f29039-e97f-4cd7-a6e4-24de87290ff7\" target=\"_top\" title=\"psysml:39f29039-e97f-4cd7-a6e4-24de87290ff7\" xlink:actuate=\"onRequest\" xlink:href=\"psysml:39f29039-e97f-4cd7-a6e4-24de87290ff7\" xlink:show=\"new\" xlink:title=\"psysml:39f29039-e97f-4cd7-a6e4-24de87290ff7\" xlink:type=\"simple\"><rect fill=\"#FEFECE\" filter=\"url(#f14t1b1df7ys8w)\" height=\"58.7422\" id=\"E4\" rx=\"10\" ry=\"10\" style=\"stroke: #A80036; stroke-width: 1.5;\" width=\"92\" x=\"473\" y=\"173\"/><text fill=\"#000000\" font-family=\"sans-serif\" font-size=\"12\" font-style=\"italic\" lengthAdjust=\"spacingAndGlyphs\" textLength=\"40\" x=\"499\" y=\"189.1387\">«part»</text><text fill=\"#000000\" font-family=\"sans-serif\" font-size=\"12\" lengthAdjust=\"spacingAndGlyphs\" textLength=\"33\" x=\"502.5\" y=\"203.1074\">trans</text><line style=\"stroke: #A80036; stroke-width: 1.5;\" x1=\"474\" x2=\"564\" y1=\"210.9375\" y2=\"210.9375\"/><text fill=\"#000000\" font-family=\"sans-serif\" font-size=\"11\" lengthAdjust=\"spacingAndGlyphs\" textLength=\"80\" x=\"479\" y=\"225.1479\">m: MassValue</text></a><!--MD5=[96f4274e9e20536e775497830990834d]\n",
       "class E10--><a href=\"psysml:20e483d0-a5a0-4777-bc7f-caa19ca2a7e0\" target=\"_top\" title=\"psysml:20e483d0-a5a0-4777-bc7f-caa19ca2a7e0\" xlink:actuate=\"onRequest\" xlink:href=\"psysml:20e483d0-a5a0-4777-bc7f-caa19ca2a7e0\" xlink:show=\"new\" xlink:title=\"psysml:20e483d0-a5a0-4777-bc7f-caa19ca2a7e0\" xlink:type=\"simple\"><rect fill=\"#FEFECE\" filter=\"url(#f14t1b1df7ys8w)\" height=\"45.9375\" id=\"E10\" rx=\"10\" ry=\"10\" style=\"stroke: #A80036; stroke-width: 1.5;\" width=\"91\" x=\"346.5\" y=\"54\"/><text fill=\"#000000\" font-family=\"sans-serif\" font-size=\"12\" font-style=\"italic\" lengthAdjust=\"spacingAndGlyphs\" textLength=\"82\" x=\"351\" y=\"70.1387\">«calculation»</text><text fill=\"#000000\" font-family=\"sans-serif\" font-size=\"12\" lengthAdjust=\"spacingAndGlyphs\" textLength=\"85\" x=\"349.5\" y=\"84.1074\">ms: MassSum</text><line style=\"stroke: #A80036; stroke-width: 1.5;\" x1=\"347.5\" x2=\"436.5\" y1=\"91.9375\" y2=\"91.9375\"/></a><!--MD5=[bee11217b2f71d958a27249dc326068c]\n",
       "class E14--><a href=\"psysml:3aa3b647-0159-4a96-9fb7-94bd79c90754\" target=\"_top\" title=\"psysml:3aa3b647-0159-4a96-9fb7-94bd79c90754\" xlink:actuate=\"onRequest\" xlink:href=\"psysml:3aa3b647-0159-4a96-9fb7-94bd79c90754\" xlink:show=\"new\" xlink:title=\"psysml:3aa3b647-0159-4a96-9fb7-94bd79c90754\" xlink:type=\"simple\"><rect fill=\"#FEFECE\" filter=\"url(#f14t1b1df7ys8w)\" height=\"71.5469\" id=\"E14\" rx=\"10\" ry=\"10\" style=\"stroke: #A80036; stroke-width: 1.5;\" width=\"99\" x=\"32.5\" y=\"41\"/><text fill=\"#000000\" font-family=\"sans-serif\" font-size=\"12\" font-style=\"italic\" lengthAdjust=\"spacingAndGlyphs\" textLength=\"82\" x=\"41\" y=\"57.1387\">«calculation»</text><text fill=\"#000000\" font-family=\"sans-serif\" font-size=\"12\" lengthAdjust=\"spacingAndGlyphs\" textLength=\"93\" x=\"35.5\" y=\"71.1074\">ms1: MassSum</text><line style=\"stroke: #A80036; stroke-width: 1.5;\" x1=\"33.5\" x2=\"130.5\" y1=\"78.9375\" y2=\"78.9375\"/><text fill=\"#000000\" font-family=\"sans-serif\" font-size=\"11\" lengthAdjust=\"spacingAndGlyphs\" textLength=\"67\" x=\"38.5\" y=\"93.1479\">partMasses</text><text fill=\"#000000\" font-family=\"sans-serif\" font-size=\"11\" lengthAdjust=\"spacingAndGlyphs\" textLength=\"55\" x=\"38.5\" y=\"105.9526\">totalMass</text></a><text fill=\"#000000\" font-family=\"sans-serif\" font-size=\"14\" lengthAdjust=\"spacingAndGlyphs\" textLength=\"80\" x=\"133\" y=\"55.6982\">partMasses</text><rect fill=\"#A80036\" height=\"12\" style=\"stroke: #FEFECE; stroke-width: 1.5;\" width=\"12\" x=\"167\" y=\"71\"/><text fill=\"#000000\" font-family=\"sans-serif\" font-size=\"14\" lengthAdjust=\"spacingAndGlyphs\" textLength=\"66\" x=\"177\" y=\"377.7151\">totalMass</text><rect fill=\"#A80036\" height=\"12\" style=\"stroke: #FEFECE; stroke-width: 1.5;\" width=\"12\" x=\"204\" y=\"352.72\"/><text fill=\"#000000\" font-family=\"sans-serif\" font-size=\"14\" lengthAdjust=\"spacingAndGlyphs\" textLength=\"75\" x=\"227.5\" y=\"55.6982\">$collection</text><rect fill=\"#A80036\" height=\"12\" style=\"stroke: #FEFECE; stroke-width: 1.5;\" width=\"12\" x=\"259\" y=\"71\"/><text fill=\"#000000\" font-family=\"sans-serif\" font-size=\"14\" lengthAdjust=\"spacingAndGlyphs\" textLength=\"48\" x=\"233\" y=\"377.7151\">$result</text><rect fill=\"#A80036\" height=\"12\" style=\"stroke: #FEFECE; stroke-width: 1.5;\" width=\"12\" x=\"251\" y=\"352.72\"/><text fill=\"#000000\" font-family=\"sans-serif\" font-size=\"14\" lengthAdjust=\"spacingAndGlyphs\" textLength=\"80\" x=\"627\" y=\"55.6982\">partMasses</text><rect fill=\"#A80036\" height=\"12\" style=\"stroke: #FEFECE; stroke-width: 1.5;\" width=\"12\" x=\"661\" y=\"71\"/><text fill=\"#000000\" font-family=\"sans-serif\" font-size=\"14\" lengthAdjust=\"spacingAndGlyphs\" textLength=\"66\" x=\"634\" y=\"377.7151\">totalMass</text><rect fill=\"#A80036\" height=\"12\" style=\"stroke: #FEFECE; stroke-width: 1.5;\" width=\"12\" x=\"661\" y=\"352.72\"/><!--MD5=[209b3feb70ccb6233bfe1053d122c12c]\n",
       "reverse link E2 to E3--><a href=\"psysml:6f0477df-1982-4bef-bc4b-f3a5f459ca50\" target=\"_top\" title=\"psysml:6f0477df-1982-4bef-bc4b-f3a5f459ca50\" xlink:actuate=\"onRequest\" xlink:href=\"psysml:6f0477df-1982-4bef-bc4b-f3a5f459ca50\" xlink:show=\"new\" xlink:title=\"psysml:6f0477df-1982-4bef-bc4b-f3a5f459ca50\" xlink:type=\"simple\"><path d=\"M480.08,115.85 C461.3,134.11 439.13,155.66 421.74,172.58 \" fill=\"none\" id=\"E2&lt;-E3\" style=\"stroke: #A80036; stroke-width: 1.0;\"/><polygon fill=\"#A80036\" points=\"489.54,106.64,482.4499,107.9553,480.937,115.0059,488.0271,113.6906,489.54,106.64\" style=\"stroke: #A80036; stroke-width: 1.0;\"/></a><!--MD5=[9618e71518536f8baf3342ff6fdab317]\n",
       "reverse link E2 to E4--><a href=\"psysml:39f29039-e97f-4cd7-a6e4-24de87290ff7\" target=\"_top\" title=\"psysml:39f29039-e97f-4cd7-a6e4-24de87290ff7\" xlink:actuate=\"onRequest\" xlink:href=\"psysml:39f29039-e97f-4cd7-a6e4-24de87290ff7\" xlink:show=\"new\" xlink:title=\"psysml:39f29039-e97f-4cd7-a6e4-24de87290ff7\" xlink:type=\"simple\"><path d=\"M519,119.66 C519,137.05 519,156.83 519,172.58 \" fill=\"none\" id=\"E2&lt;-E4\" style=\"stroke: #A80036; stroke-width: 1.0;\"/><polygon fill=\"#A80036\" points=\"519,106.64,515,112.64,519,118.64,523,112.64,519,106.64\" style=\"stroke: #A80036; stroke-width: 1.0;\"/></a><!--MD5=[ec5e0a54482b142abcecfe541d624bff]\n",
       "link E10 to E5--><a href=\"psysml:087e1e8b-9f76-403f-b1f3-15ea1e5b2649\" target=\"_top\" title=\"psysml:087e1e8b-9f76-403f-b1f3-15ea1e5b2649\" xlink:actuate=\"onRequest\" xlink:href=\"psysml:087e1e8b-9f76-403f-b1f3-15ea1e5b2649\" xlink:show=\"new\" xlink:title=\"psysml:087e1e8b-9f76-403f-b1f3-15ea1e5b2649\" xlink:type=\"simple\"><path d=\"M364.65,100.08 C349.605,112.22 330.165,127.91 311.0925,143.305 C301.5563,151.0025 292.1119,158.6263 283.3547,165.6956 \" fill=\"none\" id=\"E10-&gt;E5\" style=\"stroke: #A80036; stroke-width: 1.0;\"/><polygon fill=\"#FFFFFF\" points=\"283.3547,165.6956,293.7417,148.3143,302.5356,159.2078,283.3547,165.6956\" style=\"stroke: #A80036; stroke-width: 1.0;\"/><ellipse cx=\"299.4332\" cy=\"146.2901\" fill=\"#A80036\" rx=\"2\" ry=\"2\" style=\"stroke: #A80036; stroke-width: 1.0;\"/><ellipse cx=\"305.7145\" cy=\"154.0712\" fill=\"#A80036\" rx=\"2\" ry=\"2\" style=\"stroke: #A80036; stroke-width: 1.0;\"/></a><!--MD5=[111e5536516ee1ad7d4266f589654f03]\n",
       "link E14 to E5--><a href=\"psysml:a6dd9655-fa53-42fd-8b92-db635a2ece9b\" target=\"_top\" title=\"psysml:a6dd9655-fa53-42fd-8b92-db635a2ece9b\" xlink:actuate=\"onRequest\" xlink:href=\"psysml:a6dd9655-fa53-42fd-8b92-db635a2ece9b\" xlink:show=\"new\" xlink:title=\"psysml:a6dd9655-fa53-42fd-8b92-db635a2ece9b\" xlink:type=\"simple\"><path d=\"M126.57,113.06 C134.05,118.9425 142.0381,125.2256 150.1766,131.6275 C151.1939,132.4277 152.2135,133.2298 153.2348,134.0332 C153.7455,134.4349 154.2565,134.8369 154.7679,135.2392 \" fill=\"none\" id=\"E14-&gt;E5\" style=\"stroke: #A80036; stroke-width: 1.0;\"/><polygon fill=\"#FFFFFF\" points=\"154.7679,135.2392,135.5067,128.9938,144.1625,117.9903,154.7679,135.2392\" style=\"stroke: #A80036; stroke-width: 1.0;\"/><ellipse cx=\"132.2633\" cy=\"123.8977\" fill=\"#A80036\" rx=\"2\" ry=\"2\" style=\"stroke: #A80036; stroke-width: 1.0;\"/><ellipse cx=\"138.446\" cy=\"116.0381\" fill=\"#A80036\" rx=\"2\" ry=\"2\" style=\"stroke: #A80036; stroke-width: 1.0;\"/></a><!--MD5=[f455caf35a6e0973347c063916616e32]\n",
       "@startuml\r\n",
       "skinparam wrapWidth 300\r\n",
       "hide circle\r\n",
       "\r\n",
       "package \"CalculationExample\" as E1  [[psysml:279b101a-ad7c-43dd-8a07-da5fe5802bed ]]  {\r\n",
       "comp usage \"vehicle\" as E2  <<(T,blue)part>> [[psysml:3dfd6fc9-2012-44ec-8abc-b458a2efa8ee ]] {\r\n",
       "m: MassValue\r\n",
       "}\r\n",
       "comp usage \"eng\" as E3  <<(T,blue)part>> [[psysml:6f0477df-1982-4bef-bc4b-f3a5f459ca50 ]] {\r\n",
       "m: MassValue\r\n",
       "}\r\n",
       "comp usage \"trans\" as E4  <<(T,blue)part>> [[psysml:39f29039-e97f-4cd7-a6e4-24de87290ff7 ]] {\r\n",
       "m: MassValue\r\n",
       "}\r\n",
       "rec def \"MassSum\" as E5  <<(T,blue)calculation def>> [[psysml:5c4fc454-9680-413f-bf1a-bdf2f6cc06d5 ]] {\r\n",
       "portin \"partMasses\" as E6  [[psysml:57eaefe4-a57c-41fa-a944-033dc3e4df4e ]] \r\n",
       "portout \"totalMass\" as E7  [[psysml:35e88aae-ee13-4c55-bc31-272528607619 ]] \r\n",
       "portin \"$collection\" as E8  [[psysml:0e9b074a-52f0-467d-9ed6-1e247226bb71 ]] \r\n",
       "portout \"$result\" as E9  [[psysml:66242f20-bf9b-4b2d-900e-be3ce4c10d7e ]] \r\n",
       "}\r\n",
       "\r\n",
       "comp usage \"ms: MassSum\" as E10  <<(T,blue)calculation>> [[psysml:20e483d0-a5a0-4777-bc7f-caa19ca2a7e0 ]] {\r\n",
       "}\r\n",
       "rec def \"MassSum1\" as E11  <<(T,blue)calculation def>> [[psysml:83ce5d61-6771-4884-a571-d4d08f340672 ]] {\r\n",
       "portin \"partMasses\" as E12  [[psysml:0924d9a5-fc11-4345-935d-e5ff08c51a6a ]] \r\n",
       "portout \"totalMass\" as E13  [[psysml:b7c67a6a-5db6-4529-b3d9-f9fb47dc5f0c ]] \r\n",
       "}\r\n",
       "\r\n",
       "comp usage \"ms1: MassSum\" as E14  <<(T,blue)calculation>> [[psysml:3aa3b647-0159-4a96-9fb7-94bd79c90754 ]] {\r\n",
       "partMasses\r\n",
       "totalMass\r\n",
       "}\r\n",
       "E2 *- - E3 [[psysml:6f0477df-1982-4bef-bc4b-f3a5f459ca50 ]] \r\n",
       "E2 *- - E4 [[psysml:39f29039-e97f-4cd7-a6e4-24de87290ff7 ]] \r\n",
       "E10 - -:|> E5 [[psysml:087e1e8b-9f76-403f-b1f3-15ea1e5b2649 ]] \r\n",
       "E14 - -:|> E5 [[psysml:a6dd9655-fa53-42fd-8b92-db635a2ece9b ]] \r\n",
       "}\r\n",
       "@enduml\r\n",
       "\n",
       "PlantUML version 1.2020.13(Sat Jun 13 12:26:38 UTC 2020)\n",
       "(EPL source distribution)\n",
       "Java Runtime: OpenJDK Runtime Environment\n",
       "JVM: OpenJDK 64-Bit Server VM\n",
       "Default Encoding: UTF-8\n",
       "Language: en\n",
       "Country: null\n",
       "--></g></svg>"
      ]
     },
     "execution_count": 29,
     "metadata": {},
     "output_type": "execute_result"
    }
   ],
   "source": [
    "%viz --style=\"STDCOLOR\" --view=\"MIXED\" \"CalculationExample\""
   ]
  },
  {
   "cell_type": "code",
   "execution_count": 30,
   "id": "likely-planning",
   "metadata": {
    "execution": {
     "iopub.execute_input": "2021-03-26T13:05:06.980139Z",
     "iopub.status.busy": "2021-03-26T13:05:06.979602Z",
     "iopub.status.idle": "2021-03-26T13:05:07.055343Z",
     "shell.execute_reply": "2021-03-26T13:05:07.055004Z"
    }
   },
   "outputs": [
    {
     "data": {
      "image/svg+xml": [
       "<?xml version=\"1.0\" encoding=\"UTF-8\" standalone=\"no\"?><svg xmlns=\"http://www.w3.org/2000/svg\" xmlns:xlink=\"http://www.w3.org/1999/xlink\" contentScriptType=\"application/ecmascript\" contentStyleType=\"text/css\" height=\"408px\" preserveAspectRatio=\"none\" style=\"width:829px;height:408px;\" version=\"1.1\" viewBox=\"0 0 829 408\" width=\"829px\" zoomAndPan=\"magnify\"><defs><filter height=\"300%\" id=\"f10cxn9hdek807\" width=\"300%\" x=\"-1\" y=\"-1\"><feGaussianBlur result=\"blurOut\" stdDeviation=\"2.0\"/><feColorMatrix in=\"blurOut\" result=\"blurOut2\" type=\"matrix\" values=\"0 0 0 0 0 0 0 0 0 0 0 0 0 0 0 0 0 0 .4 0\"/><feOffset dx=\"4.0\" dy=\"4.0\" in=\"blurOut2\" result=\"blurOut3\"/><feBlend in=\"SourceGraphic\" in2=\"blurOut3\" mode=\"normal\"/></filter></defs><g><!--MD5=[fbc87193dbaf4d95561dea2c320d4a47]\n",
       "cluster E1--><a href=\"psysml:279b101a-ad7c-43dd-8a07-da5fe5802bed\" target=\"_top\" title=\"psysml:279b101a-ad7c-43dd-8a07-da5fe5802bed\" xlink:actuate=\"onRequest\" xlink:href=\"psysml:279b101a-ad7c-43dd-8a07-da5fe5802bed\" xlink:show=\"new\" xlink:title=\"psysml:279b101a-ad7c-43dd-8a07-da5fe5802bed\" xlink:type=\"simple\"><polygon fill=\"#FFFFFF\" filter=\"url(#f10cxn9hdek807)\" points=\"16,6,173,6,180,28.2969,807,28.2969,807,396.72,16,396.72,16,6\" style=\"stroke: #000000; stroke-width: 1.5;\"/><line style=\"stroke: #000000; stroke-width: 1.5;\" x1=\"16\" x2=\"180\" y1=\"28.2969\" y2=\"28.2969\"/><text fill=\"#000000\" font-family=\"sans-serif\" font-size=\"14\" font-weight=\"bold\" lengthAdjust=\"spacingAndGlyphs\" textLength=\"151\" x=\"20\" y=\"20.9951\">CalculationExample</text></a><!--MD5=[de5ec2e2e8f62f467e546659f5068c88]\n",
       "cluster E5--><a href=\"psysml:5c4fc454-9680-413f-bf1a-bdf2f6cc06d5\" target=\"_top\" title=\"psysml:5c4fc454-9680-413f-bf1a-bdf2f6cc06d5\" xlink:actuate=\"onRequest\" xlink:href=\"psysml:5c4fc454-9680-413f-bf1a-bdf2f6cc06d5\" xlink:show=\"new\" xlink:title=\"psysml:5c4fc454-9680-413f-bf1a-bdf2f6cc06d5\" xlink:type=\"simple\"><rect fill=\"#FFFFFF\" filter=\"url(#f10cxn9hdek807)\" height=\"281.72\" id=\"E5\" style=\"stroke: #A80036; stroke-width: 1.5;\" width=\"128\" x=\"181\" y=\"77\"/><rect fill=\"#FEFECE\" height=\"37.9375\" style=\"stroke: #A80036; stroke-width: 1.5;\" width=\"128\" x=\"181\" y=\"77\"/><text fill=\"#000000\" font-family=\"sans-serif\" font-size=\"12\" font-style=\"italic\" lengthAdjust=\"spacingAndGlyphs\" textLength=\"106\" x=\"192\" y=\"93.1387\">«calculation def»</text><text fill=\"#000000\" font-family=\"sans-serif\" font-size=\"12\" lengthAdjust=\"spacingAndGlyphs\" textLength=\"59\" x=\"215.5\" y=\"107.1074\">MassSum</text></a><!--MD5=[917b9dd0c7eca3ee5f47219d1a84c0ad]\n",
       "cluster E11--><a href=\"psysml:83ce5d61-6771-4884-a571-d4d08f340672\" target=\"_top\" title=\"psysml:83ce5d61-6771-4884-a571-d4d08f340672\" xlink:actuate=\"onRequest\" xlink:href=\"psysml:83ce5d61-6771-4884-a571-d4d08f340672\" xlink:show=\"new\" xlink:title=\"psysml:83ce5d61-6771-4884-a571-d4d08f340672\" xlink:type=\"simple\"><rect fill=\"#FFFFFF\" filter=\"url(#f10cxn9hdek807)\" height=\"281.72\" id=\"E11\" style=\"stroke: #A80036; stroke-width: 1.5;\" width=\"166\" x=\"625\" y=\"77\"/><rect fill=\"#FEFECE\" height=\"37.9375\" style=\"stroke: #A80036; stroke-width: 1.5;\" width=\"166\" x=\"625\" y=\"77\"/><text fill=\"#000000\" font-family=\"sans-serif\" font-size=\"12\" font-style=\"italic\" lengthAdjust=\"spacingAndGlyphs\" textLength=\"106\" x=\"655\" y=\"93.1387\">«calculation def»</text><text fill=\"#000000\" font-family=\"sans-serif\" font-size=\"12\" lengthAdjust=\"spacingAndGlyphs\" textLength=\"67\" x=\"674.5\" y=\"107.1074\">MassSum1</text></a><!--MD5=[b4997ac47864f28c2f74865a473b2911]\n",
       "class E2--><a href=\"psysml:3dfd6fc9-2012-44ec-8abc-b458a2efa8ee\" target=\"_top\" title=\"psysml:3dfd6fc9-2012-44ec-8abc-b458a2efa8ee\" xlink:actuate=\"onRequest\" xlink:href=\"psysml:3dfd6fc9-2012-44ec-8abc-b458a2efa8ee\" xlink:show=\"new\" xlink:title=\"psysml:3dfd6fc9-2012-44ec-8abc-b458a2efa8ee\" xlink:type=\"simple\"><rect fill=\"#FEFECE\" filter=\"url(#f10cxn9hdek807)\" height=\"58.7422\" id=\"E2\" rx=\"10\" ry=\"10\" style=\"stroke: #A80036; stroke-width: 1.5;\" width=\"92\" x=\"525\" y=\"47.5\"/><ellipse cx=\"547.65\" cy=\"66.4688\" fill=\"#32CD32\" rx=\"11\" ry=\"11\" style=\"stroke: #A80036; stroke-width: 1.0;\"/><path d=\"M547.4469,62.1406 L547.4469,65.7656 L548.4469,65.7656 Q549.65,65.7656 550.1344,65.3594 Q550.6188,64.9531 550.6188,63.9531 Q550.6188,62.9531 550.1344,62.5469 Q549.65,62.1406 548.4469,62.1406 L547.4469,62.1406 Z M544.9938,60.0781 L548.3531,60.0781 Q550.9156,60.0781 552.0406,61 Q553.1656,61.9063 553.1656,63.9531 Q553.1656,66 552.0406,66.9219 Q550.9156,67.8281 548.3531,67.8281 L547.4469,67.8281 L547.4469,72.4688 L544.9938,72.4688 L544.9938,60.0781 Z \"/><text fill=\"#000000\" font-family=\"sans-serif\" font-size=\"12\" font-style=\"italic\" lengthAdjust=\"spacingAndGlyphs\" textLength=\"40\" x=\"564.85\" y=\"63.6387\">«part»</text><text fill=\"#000000\" font-family=\"sans-serif\" font-size=\"12\" lengthAdjust=\"spacingAndGlyphs\" textLength=\"43\" x=\"563.35\" y=\"77.6074\">vehicle</text><line style=\"stroke: #A80036; stroke-width: 1.5;\" x1=\"526\" x2=\"616\" y1=\"85.4375\" y2=\"85.4375\"/><text fill=\"#000000\" font-family=\"sans-serif\" font-size=\"11\" lengthAdjust=\"spacingAndGlyphs\" textLength=\"80\" x=\"531\" y=\"99.6479\">m: MassValue</text></a><!--MD5=[09b614a08d8cba4a07c9adeb5e0fee81]\n",
       "class E3--><a href=\"psysml:6f0477df-1982-4bef-bc4b-f3a5f459ca50\" target=\"_top\" title=\"psysml:6f0477df-1982-4bef-bc4b-f3a5f459ca50\" xlink:actuate=\"onRequest\" xlink:href=\"psysml:6f0477df-1982-4bef-bc4b-f3a5f459ca50\" xlink:show=\"new\" xlink:title=\"psysml:6f0477df-1982-4bef-bc4b-f3a5f459ca50\" xlink:type=\"simple\"><rect fill=\"#FEFECE\" filter=\"url(#f10cxn9hdek807)\" height=\"58.7422\" id=\"E3\" rx=\"10\" ry=\"10\" style=\"stroke: #A80036; stroke-width: 1.5;\" width=\"92\" x=\"387\" y=\"173\"/><ellipse cx=\"412.8\" cy=\"191.9688\" fill=\"#32CD32\" rx=\"11\" ry=\"11\" style=\"stroke: #A80036; stroke-width: 1.0;\"/><path d=\"M412.5969,187.6406 L412.5969,191.2656 L413.5969,191.2656 Q414.8,191.2656 415.2844,190.8594 Q415.7688,190.4531 415.7688,189.4531 Q415.7688,188.4531 415.2844,188.0469 Q414.8,187.6406 413.5969,187.6406 L412.5969,187.6406 Z M410.1438,185.5781 L413.5031,185.5781 Q416.0656,185.5781 417.1906,186.5 Q418.3156,187.4063 418.3156,189.4531 Q418.3156,191.5 417.1906,192.4219 Q416.0656,193.3281 413.5031,193.3281 L412.5969,193.3281 L412.5969,197.9688 L410.1438,197.9688 L410.1438,185.5781 Z \"/><text fill=\"#000000\" font-family=\"sans-serif\" font-size=\"12\" font-style=\"italic\" lengthAdjust=\"spacingAndGlyphs\" textLength=\"40\" x=\"427.2\" y=\"189.1387\">«part»</text><text fill=\"#000000\" font-family=\"sans-serif\" font-size=\"12\" lengthAdjust=\"spacingAndGlyphs\" textLength=\"24\" x=\"435.2\" y=\"203.1074\">eng</text><line style=\"stroke: #A80036; stroke-width: 1.5;\" x1=\"388\" x2=\"478\" y1=\"210.9375\" y2=\"210.9375\"/><text fill=\"#000000\" font-family=\"sans-serif\" font-size=\"11\" lengthAdjust=\"spacingAndGlyphs\" textLength=\"80\" x=\"393\" y=\"225.1479\">m: MassValue</text></a><!--MD5=[ebbe1d658d1005bcc118a6aa81145e00]\n",
       "class E4--><a href=\"psysml:39f29039-e97f-4cd7-a6e4-24de87290ff7\" target=\"_top\" title=\"psysml:39f29039-e97f-4cd7-a6e4-24de87290ff7\" xlink:actuate=\"onRequest\" xlink:href=\"psysml:39f29039-e97f-4cd7-a6e4-24de87290ff7\" xlink:show=\"new\" xlink:title=\"psysml:39f29039-e97f-4cd7-a6e4-24de87290ff7\" xlink:type=\"simple\"><rect fill=\"#FEFECE\" filter=\"url(#f10cxn9hdek807)\" height=\"58.7422\" id=\"E4\" rx=\"10\" ry=\"10\" style=\"stroke: #A80036; stroke-width: 1.5;\" width=\"92\" x=\"514\" y=\"173\"/><ellipse cx=\"539.8\" cy=\"191.9688\" fill=\"#32CD32\" rx=\"11\" ry=\"11\" style=\"stroke: #A80036; stroke-width: 1.0;\"/><path d=\"M539.5969,187.6406 L539.5969,191.2656 L540.5969,191.2656 Q541.8,191.2656 542.2844,190.8594 Q542.7688,190.4531 542.7688,189.4531 Q542.7688,188.4531 542.2844,188.0469 Q541.8,187.6406 540.5969,187.6406 L539.5969,187.6406 Z M537.1438,185.5781 L540.5031,185.5781 Q543.0656,185.5781 544.1906,186.5 Q545.3156,187.4063 545.3156,189.4531 Q545.3156,191.5 544.1906,192.4219 Q543.0656,193.3281 540.5031,193.3281 L539.5969,193.3281 L539.5969,197.9688 L537.1438,197.9688 L537.1438,185.5781 Z \"/><text fill=\"#000000\" font-family=\"sans-serif\" font-size=\"12\" font-style=\"italic\" lengthAdjust=\"spacingAndGlyphs\" textLength=\"40\" x=\"554.2\" y=\"189.1387\">«part»</text><text fill=\"#000000\" font-family=\"sans-serif\" font-size=\"12\" lengthAdjust=\"spacingAndGlyphs\" textLength=\"33\" x=\"557.7\" y=\"203.1074\">trans</text><line style=\"stroke: #A80036; stroke-width: 1.5;\" x1=\"515\" x2=\"605\" y1=\"210.9375\" y2=\"210.9375\"/><text fill=\"#000000\" font-family=\"sans-serif\" font-size=\"11\" lengthAdjust=\"spacingAndGlyphs\" textLength=\"80\" x=\"520\" y=\"225.1479\">m: MassValue</text></a><!--MD5=[96f4274e9e20536e775497830990834d]\n",
       "class E10--><a href=\"psysml:20e483d0-a5a0-4777-bc7f-caa19ca2a7e0\" target=\"_top\" title=\"psysml:20e483d0-a5a0-4777-bc7f-caa19ca2a7e0\" xlink:actuate=\"onRequest\" xlink:href=\"psysml:20e483d0-a5a0-4777-bc7f-caa19ca2a7e0\" xlink:show=\"new\" xlink:title=\"psysml:20e483d0-a5a0-4777-bc7f-caa19ca2a7e0\" xlink:type=\"simple\"><rect fill=\"#FEFECE\" filter=\"url(#f10cxn9hdek807)\" height=\"45.9375\" id=\"E10\" rx=\"10\" ry=\"10\" style=\"stroke: #A80036; stroke-width: 1.5;\" width=\"117\" x=\"372.5\" y=\"54\"/><ellipse cx=\"387.5\" cy=\"72.9688\" fill=\"#FFA500\" rx=\"11\" ry=\"11\" style=\"stroke: #A80036; stroke-width: 1.0;\"/><path d=\"M383.375,74.8906 L383.375,67.0781 L385.8281,67.0781 L385.8281,75.5156 Q385.8281,76.4375 386.2969,76.9688 Q386.7813,77.5 387.6094,77.5 Q388.4531,77.5 388.9219,76.9688 Q389.3906,76.4375 389.3906,75.5156 L389.3906,67.0781 L391.8438,67.0781 L391.8438,74.8906 Q391.8438,77.4219 390.8438,78.5625 Q389.8438,79.7031 387.6094,79.7031 Q385.3906,79.7031 384.375,78.5625 Q383.375,77.4219 383.375,74.8906 Z \"/><text fill=\"#000000\" font-family=\"sans-serif\" font-size=\"12\" font-style=\"italic\" lengthAdjust=\"spacingAndGlyphs\" textLength=\"82\" x=\"403\" y=\"70.1387\">«calculation»</text><text fill=\"#000000\" font-family=\"sans-serif\" font-size=\"12\" lengthAdjust=\"spacingAndGlyphs\" textLength=\"85\" x=\"401.5\" y=\"84.1074\">ms: MassSum</text><line style=\"stroke: #A80036; stroke-width: 1.5;\" x1=\"373.5\" x2=\"488.5\" y1=\"91.9375\" y2=\"91.9375\"/></a><!--MD5=[bee11217b2f71d958a27249dc326068c]\n",
       "class E14--><a href=\"psysml:3aa3b647-0159-4a96-9fb7-94bd79c90754\" target=\"_top\" title=\"psysml:3aa3b647-0159-4a96-9fb7-94bd79c90754\" xlink:actuate=\"onRequest\" xlink:href=\"psysml:3aa3b647-0159-4a96-9fb7-94bd79c90754\" xlink:show=\"new\" xlink:title=\"psysml:3aa3b647-0159-4a96-9fb7-94bd79c90754\" xlink:type=\"simple\"><rect fill=\"#FEFECE\" filter=\"url(#f10cxn9hdek807)\" height=\"71.5469\" id=\"E14\" rx=\"10\" ry=\"10\" style=\"stroke: #A80036; stroke-width: 1.5;\" width=\"125\" x=\"32.5\" y=\"41\"/><ellipse cx=\"47.5\" cy=\"59.9688\" fill=\"#FFA500\" rx=\"11\" ry=\"11\" style=\"stroke: #A80036; stroke-width: 1.0;\"/><path d=\"M43.375,61.8906 L43.375,54.0781 L45.8281,54.0781 L45.8281,62.5156 Q45.8281,63.4375 46.2969,63.9688 Q46.7813,64.5 47.6094,64.5 Q48.4531,64.5 48.9219,63.9688 Q49.3906,63.4375 49.3906,62.5156 L49.3906,54.0781 L51.8438,54.0781 L51.8438,61.8906 Q51.8438,64.4219 50.8438,65.5625 Q49.8438,66.7031 47.6094,66.7031 Q45.3906,66.7031 44.375,65.5625 Q43.375,64.4219 43.375,61.8906 Z \"/><text fill=\"#000000\" font-family=\"sans-serif\" font-size=\"12\" font-style=\"italic\" lengthAdjust=\"spacingAndGlyphs\" textLength=\"82\" x=\"67\" y=\"57.1387\">«calculation»</text><text fill=\"#000000\" font-family=\"sans-serif\" font-size=\"12\" lengthAdjust=\"spacingAndGlyphs\" textLength=\"93\" x=\"61.5\" y=\"71.1074\">ms1: MassSum</text><line style=\"stroke: #A80036; stroke-width: 1.5;\" x1=\"33.5\" x2=\"156.5\" y1=\"78.9375\" y2=\"78.9375\"/><text fill=\"#000000\" font-family=\"sans-serif\" font-size=\"11\" lengthAdjust=\"spacingAndGlyphs\" textLength=\"67\" x=\"38.5\" y=\"93.1479\">partMasses</text><text fill=\"#000000\" font-family=\"sans-serif\" font-size=\"11\" lengthAdjust=\"spacingAndGlyphs\" textLength=\"55\" x=\"38.5\" y=\"105.9526\">totalMass</text></a><text fill=\"#000000\" font-family=\"sans-serif\" font-size=\"14\" lengthAdjust=\"spacingAndGlyphs\" textLength=\"80\" x=\"159\" y=\"55.6982\">partMasses</text><rect fill=\"#A80036\" height=\"12\" style=\"stroke: #FEFECE; stroke-width: 1.5;\" width=\"12\" x=\"193\" y=\"71\"/><text fill=\"#000000\" font-family=\"sans-serif\" font-size=\"14\" lengthAdjust=\"spacingAndGlyphs\" textLength=\"66\" x=\"203\" y=\"377.7151\">totalMass</text><rect fill=\"#A80036\" height=\"12\" style=\"stroke: #FEFECE; stroke-width: 1.5;\" width=\"12\" x=\"230\" y=\"352.72\"/><text fill=\"#000000\" font-family=\"sans-serif\" font-size=\"14\" lengthAdjust=\"spacingAndGlyphs\" textLength=\"75\" x=\"253.5\" y=\"55.6982\">$collection</text><rect fill=\"#A80036\" height=\"12\" style=\"stroke: #FEFECE; stroke-width: 1.5;\" width=\"12\" x=\"285\" y=\"71\"/><text fill=\"#000000\" font-family=\"sans-serif\" font-size=\"14\" lengthAdjust=\"spacingAndGlyphs\" textLength=\"48\" x=\"259\" y=\"377.7151\">$result</text><rect fill=\"#A80036\" height=\"12\" style=\"stroke: #FEFECE; stroke-width: 1.5;\" width=\"12\" x=\"277\" y=\"352.72\"/><text fill=\"#000000\" font-family=\"sans-serif\" font-size=\"14\" lengthAdjust=\"spacingAndGlyphs\" textLength=\"80\" x=\"668\" y=\"55.6982\">partMasses</text><rect fill=\"#A80036\" height=\"12\" style=\"stroke: #FEFECE; stroke-width: 1.5;\" width=\"12\" x=\"702\" y=\"71\"/><text fill=\"#000000\" font-family=\"sans-serif\" font-size=\"14\" lengthAdjust=\"spacingAndGlyphs\" textLength=\"66\" x=\"675\" y=\"377.7151\">totalMass</text><rect fill=\"#A80036\" height=\"12\" style=\"stroke: #FEFECE; stroke-width: 1.5;\" width=\"12\" x=\"702\" y=\"352.72\"/><!--MD5=[209b3feb70ccb6233bfe1053d122c12c]\n",
       "reverse link E2 to E3--><a href=\"psysml:6f0477df-1982-4bef-bc4b-f3a5f459ca50\" target=\"_top\" title=\"psysml:6f0477df-1982-4bef-bc4b-f3a5f459ca50\" xlink:actuate=\"onRequest\" xlink:href=\"psysml:6f0477df-1982-4bef-bc4b-f3a5f459ca50\" xlink:show=\"new\" xlink:title=\"psysml:6f0477df-1982-4bef-bc4b-f3a5f459ca50\" xlink:type=\"simple\"><path d=\"M529.27,115.35 C508.75,133.71 484.39,155.51 465.31,172.58 \" fill=\"none\" id=\"E2&lt;-E3\" style=\"stroke: #A80036; stroke-width: 1.0;\"/><polygon fill=\"#A80036\" points=\"538.99,106.64,531.8517,107.662,530.0495,114.6442,537.1878,113.6223,538.99,106.64\" style=\"stroke: #A80036; stroke-width: 1.0;\"/></a><!--MD5=[9618e71518536f8baf3342ff6fdab317]\n",
       "reverse link E2 to E4--><a href=\"psysml:39f29039-e97f-4cd7-a6e4-24de87290ff7\" target=\"_top\" title=\"psysml:39f29039-e97f-4cd7-a6e4-24de87290ff7\" xlink:actuate=\"onRequest\" xlink:href=\"psysml:39f29039-e97f-4cd7-a6e4-24de87290ff7\" xlink:show=\"new\" xlink:title=\"psysml:39f29039-e97f-4cd7-a6e4-24de87290ff7\" xlink:type=\"simple\"><path d=\"M567.29,119.66 C565.74,137.05 563.98,156.83 562.58,172.58 \" fill=\"none\" id=\"E2&lt;-E4\" style=\"stroke: #A80036; stroke-width: 1.0;\"/><polygon fill=\"#A80036\" points=\"568.45,106.64,563.9321,112.2604,567.3826,118.5924,571.9004,112.972,568.45,106.64\" style=\"stroke: #A80036; stroke-width: 1.0;\"/></a><!--MD5=[ec5e0a54482b142abcecfe541d624bff]\n",
       "link E10 to E5--><a href=\"psysml:087e1e8b-9f76-403f-b1f3-15ea1e5b2649\" target=\"_top\" title=\"psysml:087e1e8b-9f76-403f-b1f3-15ea1e5b2649\" xlink:actuate=\"onRequest\" xlink:href=\"psysml:087e1e8b-9f76-403f-b1f3-15ea1e5b2649\" xlink:show=\"new\" xlink:title=\"psysml:087e1e8b-9f76-403f-b1f3-15ea1e5b2649\" xlink:type=\"simple\"><path d=\"M401.32,100.08 C384.955,112.255 363.7925,128 343.0438,143.4375 C332.6694,151.1563 322.3984,158.7981 312.8823,165.8784 C311.6928,166.7635 310.5151,167.6397 309.3505,168.5063 \" fill=\"none\" id=\"E10-&gt;E5\" style=\"stroke: #A80036; stroke-width: 1.0;\"/><polygon fill=\"#FFFFFF\" points=\"309.3505,168.5063,320.4154,151.5485,328.7725,162.7806,309.3505,168.5063\" style=\"stroke: #A80036; stroke-width: 1.0;\"/><ellipse cx=\"326.1824\" cy=\"149.7506\" fill=\"#A80036\" rx=\"2\" ry=\"2\" style=\"stroke: #A80036; stroke-width: 1.0;\"/><ellipse cx=\"332.1517\" cy=\"157.7735\" fill=\"#A80036\" rx=\"2\" ry=\"2\" style=\"stroke: #A80036; stroke-width: 1.0;\"/></a><!--MD5=[111e5536516ee1ad7d4266f589654f03]\n",
       "link E14 to E5--><a href=\"psysml:a6dd9655-fa53-42fd-8b92-db635a2ece9b\" target=\"_top\" title=\"psysml:a6dd9655-fa53-42fd-8b92-db635a2ece9b\" xlink:actuate=\"onRequest\" xlink:href=\"psysml:a6dd9655-fa53-42fd-8b92-db635a2ece9b\" xlink:show=\"new\" xlink:title=\"psysml:a6dd9655-fa53-42fd-8b92-db635a2ece9b\" xlink:type=\"simple\"><path d=\"M143.26,113.06 C151.3575,118.9425 160.0062,125.2256 168.8184,131.6275 C171.0215,133.228 173.2347,134.8359 175.4522,136.4468 C176.5609,137.2522 177.6706,138.0584 178.7806,138.8648 C179.3357,139.268 179.8907,139.6713 180.4458,140.0745 C180.5846,140.1754 180.7233,140.2762 180.8621,140.377 \" fill=\"none\" id=\"E14-&gt;E5\" style=\"stroke: #A80036; stroke-width: 1.0;\"/><polygon fill=\"#FFFFFF\" points=\"180.8621,140.377,161.376,134.873,169.6046,123.5464,180.8621,140.377\" style=\"stroke: #A80036; stroke-width: 1.0;\"/><ellipse cx=\"157.94\" cy=\"129.9047\" fill=\"#A80036\" rx=\"2\" ry=\"2\" style=\"stroke: #A80036; stroke-width: 1.0;\"/><ellipse cx=\"163.8175\" cy=\"121.8143\" fill=\"#A80036\" rx=\"2\" ry=\"2\" style=\"stroke: #A80036; stroke-width: 1.0;\"/></a><!--MD5=[0f8f1fa19a1b476abd2b0567ce0a8965]\n",
       "@startuml\r\n",
       " \r\n",
       "package \"CalculationExample\" as E1  [[psysml:279b101a-ad7c-43dd-8a07-da5fe5802bed ]]  {\r\n",
       "comp usage \"vehicle\" as E2  << (P,limegreen) part>> [[psysml:3dfd6fc9-2012-44ec-8abc-b458a2efa8ee ]] {\r\n",
       "m: MassValue\r\n",
       "}\r\n",
       "comp usage \"eng\" as E3  << (P,limegreen) part>> [[psysml:6f0477df-1982-4bef-bc4b-f3a5f459ca50 ]] {\r\n",
       "m: MassValue\r\n",
       "}\r\n",
       "comp usage \"trans\" as E4  << (P,limegreen) part>> [[psysml:39f29039-e97f-4cd7-a6e4-24de87290ff7 ]] {\r\n",
       "m: MassValue\r\n",
       "}\r\n",
       "rec def \"MassSum\" as E5  <<(D,brown)calculation def>> [[psysml:5c4fc454-9680-413f-bf1a-bdf2f6cc06d5 ]] {\r\n",
       "portin \"partMasses\" as E6  [[psysml:57eaefe4-a57c-41fa-a944-033dc3e4df4e ]] \r\n",
       "portout \"totalMass\" as E7  [[psysml:35e88aae-ee13-4c55-bc31-272528607619 ]] \r\n",
       "portin \"$collection\" as E8  [[psysml:0e9b074a-52f0-467d-9ed6-1e247226bb71 ]] \r\n",
       "portout \"$result\" as E9  [[psysml:66242f20-bf9b-4b2d-900e-be3ce4c10d7e ]] \r\n",
       "}\r\n",
       "\r\n",
       "comp usage \"ms: MassSum\" as E10  <<(U,orange)calculation>> [[psysml:20e483d0-a5a0-4777-bc7f-caa19ca2a7e0 ]] {\r\n",
       "}\r\n",
       "rec def \"MassSum1\" as E11  <<(D,brown)calculation def>> [[psysml:83ce5d61-6771-4884-a571-d4d08f340672 ]] {\r\n",
       "portin \"partMasses\" as E12  [[psysml:0924d9a5-fc11-4345-935d-e5ff08c51a6a ]] \r\n",
       "portout \"totalMass\" as E13  [[psysml:b7c67a6a-5db6-4529-b3d9-f9fb47dc5f0c ]] \r\n",
       "}\r\n",
       "\r\n",
       "comp usage \"ms1: MassSum\" as E14  <<(U,orange)calculation>> [[psysml:3aa3b647-0159-4a96-9fb7-94bd79c90754 ]] {\r\n",
       "partMasses\r\n",
       "totalMass\r\n",
       "}\r\n",
       "E2 *- - E3 [[psysml:6f0477df-1982-4bef-bc4b-f3a5f459ca50 ]] \r\n",
       "E2 *- - E4 [[psysml:39f29039-e97f-4cd7-a6e4-24de87290ff7 ]] \r\n",
       "E10 - -:|> E5 [[psysml:087e1e8b-9f76-403f-b1f3-15ea1e5b2649 ]] \r\n",
       "E14 - -:|> E5 [[psysml:a6dd9655-fa53-42fd-8b92-db635a2ece9b ]] \r\n",
       "}\r\n",
       "@enduml\r\n",
       "\n",
       "PlantUML version 1.2020.13(Sat Jun 13 12:26:38 UTC 2020)\n",
       "(EPL source distribution)\n",
       "Java Runtime: OpenJDK Runtime Environment\n",
       "JVM: OpenJDK 64-Bit Server VM\n",
       "Default Encoding: UTF-8\n",
       "Language: en\n",
       "Country: null\n",
       "--></g></svg>"
      ]
     },
     "execution_count": 30,
     "metadata": {},
     "output_type": "execute_result"
    }
   ],
   "source": [
    "%viz --style=\"PLANTUML\" --view=\"Default\" \"CalculationExample\""
   ]
  },
  {
   "cell_type": "code",
   "execution_count": 31,
   "id": "nonprofit-remainder",
   "metadata": {
    "execution": {
     "iopub.execute_input": "2021-03-26T13:05:07.106708Z",
     "iopub.status.busy": "2021-03-26T13:05:07.106315Z",
     "iopub.status.idle": "2021-03-26T13:05:07.173856Z",
     "shell.execute_reply": "2021-03-26T13:05:07.172309Z"
    }
   },
   "outputs": [
    {
     "data": {
      "image/svg+xml": [
       "<?xml version=\"1.0\" encoding=\"UTF-8\" standalone=\"no\"?><svg xmlns=\"http://www.w3.org/2000/svg\" xmlns:xlink=\"http://www.w3.org/1999/xlink\" contentScriptType=\"application/ecmascript\" contentStyleType=\"text/css\" height=\"260px\" preserveAspectRatio=\"none\" style=\"width:659px;height:260px;\" version=\"1.1\" viewBox=\"0 0 659 260\" width=\"659px\" zoomAndPan=\"magnify\"><defs><filter height=\"300%\" id=\"fgp918bpzd5xx\" width=\"300%\" x=\"-1\" y=\"-1\"><feGaussianBlur result=\"blurOut\" stdDeviation=\"2.0\"/><feColorMatrix in=\"blurOut\" result=\"blurOut2\" type=\"matrix\" values=\"0 0 0 0 0 0 0 0 0 0 0 0 0 0 0 0 0 0 .4 0\"/><feOffset dx=\"4.0\" dy=\"4.0\" in=\"blurOut2\" result=\"blurOut3\"/><feBlend in=\"SourceGraphic\" in2=\"blurOut3\" mode=\"normal\"/></filter></defs><g><!--MD5=[fbc87193dbaf4d95561dea2c320d4a47]\n",
       "cluster E1--><a href=\"psysml:279b101a-ad7c-43dd-8a07-da5fe5802bed\" target=\"_top\" title=\"psysml:279b101a-ad7c-43dd-8a07-da5fe5802bed\" xlink:actuate=\"onRequest\" xlink:href=\"psysml:279b101a-ad7c-43dd-8a07-da5fe5802bed\" xlink:show=\"new\" xlink:title=\"psysml:279b101a-ad7c-43dd-8a07-da5fe5802bed\" xlink:type=\"simple\"><polygon fill=\"#FFFFFF\" filter=\"url(#fgp918bpzd5xx)\" points=\"16,6,173,6,180,28.2969,637,28.2969,637,248,16,248,16,6\" style=\"stroke: #000000; stroke-width: 1.5;\"/><line style=\"stroke: #000000; stroke-width: 1.5;\" x1=\"16\" x2=\"180\" y1=\"28.2969\" y2=\"28.2969\"/><text fill=\"#000000\" font-family=\"sans-serif\" font-size=\"14\" font-weight=\"bold\" lengthAdjust=\"spacingAndGlyphs\" textLength=\"151\" x=\"20\" y=\"20.9951\">CalculationExample</text></a><!--MD5=[b4997ac47864f28c2f74865a473b2911]\n",
       "class E2--><a href=\"psysml:3dfd6fc9-2012-44ec-8abc-b458a2efa8ee\" target=\"_top\" title=\"psysml:3dfd6fc9-2012-44ec-8abc-b458a2efa8ee\" xlink:actuate=\"onRequest\" xlink:href=\"psysml:3dfd6fc9-2012-44ec-8abc-b458a2efa8ee\" xlink:show=\"new\" xlink:title=\"psysml:3dfd6fc9-2012-44ec-8abc-b458a2efa8ee\" xlink:type=\"simple\"><rect fill=\"#FEFECE\" filter=\"url(#fgp918bpzd5xx)\" height=\"58.7422\" id=\"E2\" rx=\"10\" ry=\"10\" style=\"stroke: #A80036; stroke-width: 1.5;\" width=\"92\" x=\"529\" y=\"47.5\"/><ellipse cx=\"551.65\" cy=\"66.4688\" fill=\"#32CD32\" rx=\"11\" ry=\"11\" style=\"stroke: #A80036; stroke-width: 1.0;\"/><path d=\"M551.4469,62.1406 L551.4469,65.7656 L552.4469,65.7656 Q553.65,65.7656 554.1344,65.3594 Q554.6188,64.9531 554.6188,63.9531 Q554.6188,62.9531 554.1344,62.5469 Q553.65,62.1406 552.4469,62.1406 L551.4469,62.1406 Z M548.9938,60.0781 L552.3531,60.0781 Q554.9156,60.0781 556.0406,61 Q557.1656,61.9063 557.1656,63.9531 Q557.1656,66 556.0406,66.9219 Q554.9156,67.8281 552.3531,67.8281 L551.4469,67.8281 L551.4469,72.4688 L548.9938,72.4688 L548.9938,60.0781 Z \"/><text fill=\"#000000\" font-family=\"sans-serif\" font-size=\"12\" font-style=\"italic\" lengthAdjust=\"spacingAndGlyphs\" textLength=\"40\" x=\"568.85\" y=\"63.6387\">«part»</text><text fill=\"#000000\" font-family=\"sans-serif\" font-size=\"12\" lengthAdjust=\"spacingAndGlyphs\" textLength=\"43\" x=\"567.35\" y=\"77.6074\">vehicle</text><line style=\"stroke: #A80036; stroke-width: 1.5;\" x1=\"530\" x2=\"620\" y1=\"85.4375\" y2=\"85.4375\"/><text fill=\"#000000\" font-family=\"sans-serif\" font-size=\"11\" lengthAdjust=\"spacingAndGlyphs\" textLength=\"80\" x=\"535\" y=\"99.6479\">m: MassValue</text></a><!--MD5=[09b614a08d8cba4a07c9adeb5e0fee81]\n",
       "class E3--><a href=\"psysml:6f0477df-1982-4bef-bc4b-f3a5f459ca50\" target=\"_top\" title=\"psysml:6f0477df-1982-4bef-bc4b-f3a5f459ca50\" xlink:actuate=\"onRequest\" xlink:href=\"psysml:6f0477df-1982-4bef-bc4b-f3a5f459ca50\" xlink:show=\"new\" xlink:title=\"psysml:6f0477df-1982-4bef-bc4b-f3a5f459ca50\" xlink:type=\"simple\"><rect fill=\"#FEFECE\" filter=\"url(#fgp918bpzd5xx)\" height=\"58.7422\" id=\"E3\" rx=\"10\" ry=\"10\" style=\"stroke: #A80036; stroke-width: 1.5;\" width=\"92\" x=\"402\" y=\"173\"/><ellipse cx=\"427.8\" cy=\"191.9688\" fill=\"#32CD32\" rx=\"11\" ry=\"11\" style=\"stroke: #A80036; stroke-width: 1.0;\"/><path d=\"M427.5969,187.6406 L427.5969,191.2656 L428.5969,191.2656 Q429.8,191.2656 430.2844,190.8594 Q430.7688,190.4531 430.7688,189.4531 Q430.7688,188.4531 430.2844,188.0469 Q429.8,187.6406 428.5969,187.6406 L427.5969,187.6406 Z M425.1438,185.5781 L428.5031,185.5781 Q431.0656,185.5781 432.1906,186.5 Q433.3156,187.4063 433.3156,189.4531 Q433.3156,191.5 432.1906,192.4219 Q431.0656,193.3281 428.5031,193.3281 L427.5969,193.3281 L427.5969,197.9688 L425.1438,197.9688 L425.1438,185.5781 Z \"/><text fill=\"#000000\" font-family=\"sans-serif\" font-size=\"12\" font-style=\"italic\" lengthAdjust=\"spacingAndGlyphs\" textLength=\"40\" x=\"442.2\" y=\"189.1387\">«part»</text><text fill=\"#000000\" font-family=\"sans-serif\" font-size=\"12\" lengthAdjust=\"spacingAndGlyphs\" textLength=\"24\" x=\"450.2\" y=\"203.1074\">eng</text><line style=\"stroke: #A80036; stroke-width: 1.5;\" x1=\"403\" x2=\"493\" y1=\"210.9375\" y2=\"210.9375\"/><text fill=\"#000000\" font-family=\"sans-serif\" font-size=\"11\" lengthAdjust=\"spacingAndGlyphs\" textLength=\"80\" x=\"408\" y=\"225.1479\">m: MassValue</text></a><!--MD5=[ebbe1d658d1005bcc118a6aa81145e00]\n",
       "class E4--><a href=\"psysml:39f29039-e97f-4cd7-a6e4-24de87290ff7\" target=\"_top\" title=\"psysml:39f29039-e97f-4cd7-a6e4-24de87290ff7\" xlink:actuate=\"onRequest\" xlink:href=\"psysml:39f29039-e97f-4cd7-a6e4-24de87290ff7\" xlink:show=\"new\" xlink:title=\"psysml:39f29039-e97f-4cd7-a6e4-24de87290ff7\" xlink:type=\"simple\"><rect fill=\"#FEFECE\" filter=\"url(#fgp918bpzd5xx)\" height=\"58.7422\" id=\"E4\" rx=\"10\" ry=\"10\" style=\"stroke: #A80036; stroke-width: 1.5;\" width=\"92\" x=\"529\" y=\"173\"/><ellipse cx=\"554.8\" cy=\"191.9688\" fill=\"#32CD32\" rx=\"11\" ry=\"11\" style=\"stroke: #A80036; stroke-width: 1.0;\"/><path d=\"M554.5969,187.6406 L554.5969,191.2656 L555.5969,191.2656 Q556.8,191.2656 557.2844,190.8594 Q557.7688,190.4531 557.7688,189.4531 Q557.7688,188.4531 557.2844,188.0469 Q556.8,187.6406 555.5969,187.6406 L554.5969,187.6406 Z M552.1438,185.5781 L555.5031,185.5781 Q558.0656,185.5781 559.1906,186.5 Q560.3156,187.4063 560.3156,189.4531 Q560.3156,191.5 559.1906,192.4219 Q558.0656,193.3281 555.5031,193.3281 L554.5969,193.3281 L554.5969,197.9688 L552.1438,197.9688 L552.1438,185.5781 Z \"/><text fill=\"#000000\" font-family=\"sans-serif\" font-size=\"12\" font-style=\"italic\" lengthAdjust=\"spacingAndGlyphs\" textLength=\"40\" x=\"569.2\" y=\"189.1387\">«part»</text><text fill=\"#000000\" font-family=\"sans-serif\" font-size=\"12\" lengthAdjust=\"spacingAndGlyphs\" textLength=\"33\" x=\"572.7\" y=\"203.1074\">trans</text><line style=\"stroke: #A80036; stroke-width: 1.5;\" x1=\"530\" x2=\"620\" y1=\"210.9375\" y2=\"210.9375\"/><text fill=\"#000000\" font-family=\"sans-serif\" font-size=\"11\" lengthAdjust=\"spacingAndGlyphs\" textLength=\"80\" x=\"535\" y=\"225.1479\">m: MassValue</text></a><!--MD5=[270fce915f116d4de14055a7c1d9a0f3]\n",
       "class E5--><a href=\"psysml:5c4fc454-9680-413f-bf1a-bdf2f6cc06d5\" target=\"_top\" title=\"psysml:5c4fc454-9680-413f-bf1a-bdf2f6cc06d5\" xlink:actuate=\"onRequest\" xlink:href=\"psysml:5c4fc454-9680-413f-bf1a-bdf2f6cc06d5\" xlink:show=\"new\" xlink:title=\"psysml:5c4fc454-9680-413f-bf1a-bdf2f6cc06d5\" xlink:type=\"simple\"><rect fill=\"#FEFECE\" filter=\"url(#fgp918bpzd5xx)\" height=\"45.9375\" id=\"E5\" style=\"stroke: #A80036; stroke-width: 1.5;\" width=\"134\" x=\"133\" y=\"179.5\"/><ellipse cx=\"148\" cy=\"198.4688\" fill=\"#A52A2A\" rx=\"11\" ry=\"11\" style=\"stroke: #A80036; stroke-width: 1.0;\"/><path d=\"M147.5938,194.2813 L147.5938,202.2656 L148.25,202.2656 Q149.6875,202.2656 150.2969,201.3594 Q150.9219,200.4375 150.9219,198.2656 Q150.9219,196.0938 150.2969,195.1875 Q149.6875,194.2813 148.25,194.2813 L147.5938,194.2813 Z M145.1406,192.0781 L147.7656,192.0781 Q150.7969,192.0781 152.125,193.5313 Q153.4688,194.9688 153.4688,198.2656 Q153.4688,201.5625 152.125,203.0156 Q150.7969,204.4688 147.7656,204.4688 L145.1406,204.4688 L145.1406,192.0781 Z \"/><text fill=\"#000000\" font-family=\"sans-serif\" font-size=\"12\" font-style=\"italic\" lengthAdjust=\"spacingAndGlyphs\" textLength=\"106\" x=\"160\" y=\"195.6387\">«calculation def»</text><text fill=\"#000000\" font-family=\"sans-serif\" font-size=\"12\" lengthAdjust=\"spacingAndGlyphs\" textLength=\"59\" x=\"183.5\" y=\"209.6074\">MassSum</text><line style=\"stroke: #A80036; stroke-width: 1.5;\" x1=\"134\" x2=\"266\" y1=\"217.4375\" y2=\"217.4375\"/></a><!--MD5=[60a26617385b1d2d0262a64233df1f8d]\n",
       "class E6--><a href=\"psysml:20e483d0-a5a0-4777-bc7f-caa19ca2a7e0\" target=\"_top\" title=\"psysml:20e483d0-a5a0-4777-bc7f-caa19ca2a7e0\" xlink:actuate=\"onRequest\" xlink:href=\"psysml:20e483d0-a5a0-4777-bc7f-caa19ca2a7e0\" xlink:show=\"new\" xlink:title=\"psysml:20e483d0-a5a0-4777-bc7f-caa19ca2a7e0\" xlink:type=\"simple\"><rect fill=\"#FEFECE\" filter=\"url(#fgp918bpzd5xx)\" height=\"45.9375\" id=\"E6\" rx=\"10\" ry=\"10\" style=\"stroke: #A80036; stroke-width: 1.5;\" width=\"117\" x=\"376.5\" y=\"54\"/><ellipse cx=\"391.5\" cy=\"72.9688\" fill=\"#FFA500\" rx=\"11\" ry=\"11\" style=\"stroke: #A80036; stroke-width: 1.0;\"/><path d=\"M387.375,74.8906 L387.375,67.0781 L389.8281,67.0781 L389.8281,75.5156 Q389.8281,76.4375 390.2969,76.9688 Q390.7813,77.5 391.6094,77.5 Q392.4531,77.5 392.9219,76.9688 Q393.3906,76.4375 393.3906,75.5156 L393.3906,67.0781 L395.8438,67.0781 L395.8438,74.8906 Q395.8438,77.4219 394.8438,78.5625 Q393.8438,79.7031 391.6094,79.7031 Q389.3906,79.7031 388.375,78.5625 Q387.375,77.4219 387.375,74.8906 Z \"/><text fill=\"#000000\" font-family=\"sans-serif\" font-size=\"12\" font-style=\"italic\" lengthAdjust=\"spacingAndGlyphs\" textLength=\"82\" x=\"407\" y=\"70.1387\">«calculation»</text><text fill=\"#000000\" font-family=\"sans-serif\" font-size=\"12\" lengthAdjust=\"spacingAndGlyphs\" textLength=\"85\" x=\"405.5\" y=\"84.1074\">ms: MassSum</text><line style=\"stroke: #A80036; stroke-width: 1.5;\" x1=\"377.5\" x2=\"492.5\" y1=\"91.9375\" y2=\"91.9375\"/></a><!--MD5=[2156ba9850f5573cc1fc38a6a4b2f02b]\n",
       "class E7--><a href=\"psysml:83ce5d61-6771-4884-a571-d4d08f340672\" target=\"_top\" title=\"psysml:83ce5d61-6771-4884-a571-d4d08f340672\" xlink:actuate=\"onRequest\" xlink:href=\"psysml:83ce5d61-6771-4884-a571-d4d08f340672\" xlink:show=\"new\" xlink:title=\"psysml:83ce5d61-6771-4884-a571-d4d08f340672\" xlink:type=\"simple\"><rect fill=\"#FEFECE\" filter=\"url(#fgp918bpzd5xx)\" height=\"71.5469\" id=\"E7\" style=\"stroke: #A80036; stroke-width: 1.5;\" width=\"148\" x=\"193\" y=\"41\"/><ellipse cx=\"214.3\" cy=\"59.9688\" fill=\"#A52A2A\" rx=\"11\" ry=\"11\" style=\"stroke: #A80036; stroke-width: 1.0;\"/><path d=\"M213.8938,55.7813 L213.8938,63.7656 L214.55,63.7656 Q215.9875,63.7656 216.5969,62.8594 Q217.2219,61.9375 217.2219,59.7656 Q217.2219,57.5938 216.5969,56.6875 Q215.9875,55.7813 214.55,55.7813 L213.8938,55.7813 Z M211.4406,53.5781 L214.0656,53.5781 Q217.0969,53.5781 218.425,55.0313 Q219.7688,56.4688 219.7688,59.7656 Q219.7688,63.0625 218.425,64.5156 Q217.0969,65.9688 214.0656,65.9688 L211.4406,65.9688 L211.4406,53.5781 Z \"/><text fill=\"#000000\" font-family=\"sans-serif\" font-size=\"12\" font-style=\"italic\" lengthAdjust=\"spacingAndGlyphs\" textLength=\"106\" x=\"227.7\" y=\"57.1387\">«calculation def»</text><text fill=\"#000000\" font-family=\"sans-serif\" font-size=\"12\" lengthAdjust=\"spacingAndGlyphs\" textLength=\"67\" x=\"247.2\" y=\"71.1074\">MassSum1</text><line style=\"stroke: #A80036; stroke-width: 1.5;\" x1=\"194\" x2=\"340\" y1=\"78.9375\" y2=\"78.9375\"/><text fill=\"#000000\" font-family=\"sans-serif\" font-size=\"11\" lengthAdjust=\"spacingAndGlyphs\" textLength=\"136\" x=\"199\" y=\"93.1479\">partMasses: MassValue</text><text fill=\"#000000\" font-family=\"sans-serif\" font-size=\"11\" lengthAdjust=\"spacingAndGlyphs\" textLength=\"124\" x=\"199\" y=\"105.9526\">totalMass: MassValue</text></a><!--MD5=[b9389687b975829384b498ac4b7476b2]\n",
       "class E8--><a href=\"psysml:3aa3b647-0159-4a96-9fb7-94bd79c90754\" target=\"_top\" title=\"psysml:3aa3b647-0159-4a96-9fb7-94bd79c90754\" xlink:actuate=\"onRequest\" xlink:href=\"psysml:3aa3b647-0159-4a96-9fb7-94bd79c90754\" xlink:show=\"new\" xlink:title=\"psysml:3aa3b647-0159-4a96-9fb7-94bd79c90754\" xlink:type=\"simple\"><rect fill=\"#FEFECE\" filter=\"url(#fgp918bpzd5xx)\" height=\"71.5469\" id=\"E8\" rx=\"10\" ry=\"10\" style=\"stroke: #A80036; stroke-width: 1.5;\" width=\"125\" x=\"32.5\" y=\"41\"/><ellipse cx=\"47.5\" cy=\"59.9688\" fill=\"#FFA500\" rx=\"11\" ry=\"11\" style=\"stroke: #A80036; stroke-width: 1.0;\"/><path d=\"M43.375,61.8906 L43.375,54.0781 L45.8281,54.0781 L45.8281,62.5156 Q45.8281,63.4375 46.2969,63.9688 Q46.7813,64.5 47.6094,64.5 Q48.4531,64.5 48.9219,63.9688 Q49.3906,63.4375 49.3906,62.5156 L49.3906,54.0781 L51.8438,54.0781 L51.8438,61.8906 Q51.8438,64.4219 50.8438,65.5625 Q49.8438,66.7031 47.6094,66.7031 Q45.3906,66.7031 44.375,65.5625 Q43.375,64.4219 43.375,61.8906 Z \"/><text fill=\"#000000\" font-family=\"sans-serif\" font-size=\"12\" font-style=\"italic\" lengthAdjust=\"spacingAndGlyphs\" textLength=\"82\" x=\"67\" y=\"57.1387\">«calculation»</text><text fill=\"#000000\" font-family=\"sans-serif\" font-size=\"12\" lengthAdjust=\"spacingAndGlyphs\" textLength=\"93\" x=\"61.5\" y=\"71.1074\">ms1: MassSum</text><line style=\"stroke: #A80036; stroke-width: 1.5;\" x1=\"33.5\" x2=\"156.5\" y1=\"78.9375\" y2=\"78.9375\"/><text fill=\"#000000\" font-family=\"sans-serif\" font-size=\"11\" lengthAdjust=\"spacingAndGlyphs\" textLength=\"67\" x=\"38.5\" y=\"93.1479\">partMasses</text><text fill=\"#000000\" font-family=\"sans-serif\" font-size=\"11\" lengthAdjust=\"spacingAndGlyphs\" textLength=\"55\" x=\"38.5\" y=\"105.9526\">totalMass</text></a><!--MD5=[209b3feb70ccb6233bfe1053d122c12c]\n",
       "reverse link E2 to E3--><a href=\"psysml:6f0477df-1982-4bef-bc4b-f3a5f459ca50\" target=\"_top\" title=\"psysml:6f0477df-1982-4bef-bc4b-f3a5f459ca50\" xlink:actuate=\"onRequest\" xlink:href=\"psysml:6f0477df-1982-4bef-bc4b-f3a5f459ca50\" xlink:show=\"new\" xlink:title=\"psysml:6f0477df-1982-4bef-bc4b-f3a5f459ca50\" xlink:type=\"simple\"><path d=\"M536.08,115.85 C517.3,134.11 495.13,155.66 477.74,172.58 \" fill=\"none\" id=\"E2&lt;-E3\" style=\"stroke: #A80036; stroke-width: 1.0;\"/><polygon fill=\"#A80036\" points=\"545.54,106.64,538.4499,107.9553,536.937,115.0059,544.0271,113.6906,545.54,106.64\" style=\"stroke: #A80036; stroke-width: 1.0;\"/></a><!--MD5=[9618e71518536f8baf3342ff6fdab317]\n",
       "reverse link E2 to E4--><a href=\"psysml:39f29039-e97f-4cd7-a6e4-24de87290ff7\" target=\"_top\" title=\"psysml:39f29039-e97f-4cd7-a6e4-24de87290ff7\" xlink:actuate=\"onRequest\" xlink:href=\"psysml:39f29039-e97f-4cd7-a6e4-24de87290ff7\" xlink:show=\"new\" xlink:title=\"psysml:39f29039-e97f-4cd7-a6e4-24de87290ff7\" xlink:type=\"simple\"><path d=\"M575,119.66 C575,137.05 575,156.83 575,172.58 \" fill=\"none\" id=\"E2&lt;-E4\" style=\"stroke: #A80036; stroke-width: 1.0;\"/><polygon fill=\"#A80036\" points=\"575,106.64,571,112.64,575,118.64,579,112.64,575,106.64\" style=\"stroke: #A80036; stroke-width: 1.0;\"/></a><!--MD5=[25b190c987b1e74e5126d372c5a73af1]\n",
       "link E6 to E5--><a href=\"psysml:087e1e8b-9f76-403f-b1f3-15ea1e5b2649\" target=\"_top\" title=\"psysml:087e1e8b-9f76-403f-b1f3-15ea1e5b2649\" xlink:actuate=\"onRequest\" xlink:href=\"psysml:087e1e8b-9f76-403f-b1f3-15ea1e5b2649\" xlink:show=\"new\" xlink:title=\"psysml:087e1e8b-9f76-403f-b1f3-15ea1e5b2649\" xlink:type=\"simple\"><path d=\"M392.99,100.08 C355.92,119.56 301.49,148.17 259.87,170.04 \" fill=\"none\" id=\"E6-&gt;E5\" style=\"stroke: #A80036; stroke-width: 1.0;\"/><polygon fill=\"#FFFFFF\" points=\"242.05,179.4,255.6092,164.3618,262.1247,176.7533,242.05,179.4\" style=\"stroke: #A80036; stroke-width: 1.0;\"/><ellipse cx=\"261.5851\" cy=\"163.4793\" fill=\"#A80036\" rx=\"2\" ry=\"2\" style=\"stroke: #A80036; stroke-width: 1.0;\"/><ellipse cx=\"266.239\" cy=\"172.3303\" fill=\"#A80036\" rx=\"2\" ry=\"2\" style=\"stroke: #A80036; stroke-width: 1.0;\"/></a><!--MD5=[1ccb2481ffa92f8d51a74ee30c51832a]\n",
       "link E8 to E5--><a href=\"psysml:a6dd9655-fa53-42fd-8b92-db635a2ece9b\" target=\"_top\" title=\"psysml:a6dd9655-fa53-42fd-8b92-db635a2ece9b\" xlink:actuate=\"onRequest\" xlink:href=\"psysml:a6dd9655-fa53-42fd-8b92-db635a2ece9b\" xlink:show=\"new\" xlink:title=\"psysml:a6dd9655-fa53-42fd-8b92-db635a2ece9b\" xlink:type=\"simple\"><path d=\"M124.81,113.06 C138.29,128.92 154.24,147.68 167.97,163.83 \" fill=\"none\" id=\"E8-&gt;E5\" style=\"stroke: #A80036; stroke-width: 1.0;\"/><polygon fill=\"#FFFFFF\" points=\"181.04,179.2,163.4008,169.2572,174.0677,160.1898,181.04,179.2\" style=\"stroke: #A80036; stroke-width: 1.0;\"/><ellipse cx=\"161.233\" cy=\"163.6189\" fill=\"#A80036\" rx=\"2\" ry=\"2\" style=\"stroke: #A80036; stroke-width: 1.0;\"/><ellipse cx=\"168.8522\" cy=\"157.1422\" fill=\"#A80036\" rx=\"2\" ry=\"2\" style=\"stroke: #A80036; stroke-width: 1.0;\"/></a><!--MD5=[2b2c06f3a6195bdbc11a264c6c746426]\n",
       "@startuml\r\n",
       " \r\n",
       "package \"CalculationExample\" as E1  [[psysml:279b101a-ad7c-43dd-8a07-da5fe5802bed ]]  {\r\n",
       "comp usage \"vehicle\" as E2  << (P,limegreen) part>> [[psysml:3dfd6fc9-2012-44ec-8abc-b458a2efa8ee ]] {\r\n",
       "m: MassValue\r\n",
       "}\r\n",
       "comp usage \"eng\" as E3  << (P,limegreen) part>> [[psysml:6f0477df-1982-4bef-bc4b-f3a5f459ca50 ]] {\r\n",
       "m: MassValue\r\n",
       "}\r\n",
       "comp usage \"trans\" as E4  << (P,limegreen) part>> [[psysml:39f29039-e97f-4cd7-a6e4-24de87290ff7 ]] {\r\n",
       "m: MassValue\r\n",
       "}\r\n",
       "comp def \"MassSum\" as E5  <<(D,brown)calculation def>> [[psysml:5c4fc454-9680-413f-bf1a-bdf2f6cc06d5 ]] {\r\n",
       "}\r\n",
       "comp usage \"ms: MassSum\" as E6  <<(U,orange)calculation>> [[psysml:20e483d0-a5a0-4777-bc7f-caa19ca2a7e0 ]] {\r\n",
       "}\r\n",
       "comp def \"MassSum1\" as E7  <<(D,brown)calculation def>> [[psysml:83ce5d61-6771-4884-a571-d4d08f340672 ]] {\r\n",
       "partMasses: MassValue\r\n",
       "totalMass: MassValue\r\n",
       "}\r\n",
       "comp usage \"ms1: MassSum\" as E8  <<(U,orange)calculation>> [[psysml:3aa3b647-0159-4a96-9fb7-94bd79c90754 ]] {\r\n",
       "partMasses\r\n",
       "totalMass\r\n",
       "}\r\n",
       "E2 *- - E3 [[psysml:6f0477df-1982-4bef-bc4b-f3a5f459ca50 ]] \r\n",
       "E2 *- - E4 [[psysml:39f29039-e97f-4cd7-a6e4-24de87290ff7 ]] \r\n",
       "E6 - -:|> E5 [[psysml:087e1e8b-9f76-403f-b1f3-15ea1e5b2649 ]] \r\n",
       "E8 - -:|> E5 [[psysml:a6dd9655-fa53-42fd-8b92-db635a2ece9b ]] \r\n",
       "}\r\n",
       "@enduml\r\n",
       "\n",
       "PlantUML version 1.2020.13(Sat Jun 13 12:26:38 UTC 2020)\n",
       "(EPL source distribution)\n",
       "Java Runtime: OpenJDK Runtime Environment\n",
       "JVM: OpenJDK 64-Bit Server VM\n",
       "Default Encoding: UTF-8\n",
       "Language: en\n",
       "Country: null\n",
       "--></g></svg>"
      ]
     },
     "execution_count": 31,
     "metadata": {},
     "output_type": "execute_result"
    }
   ],
   "source": [
    "%viz --style=\"PLANTUML\" --view=\"Tree\" \"CalculationExample\""
   ]
  },
  {
   "cell_type": "code",
   "execution_count": 32,
   "id": "european-possible",
   "metadata": {
    "execution": {
     "iopub.execute_input": "2021-03-26T13:05:07.224623Z",
     "iopub.status.busy": "2021-03-26T13:05:07.224276Z",
     "iopub.status.idle": "2021-03-26T13:05:07.302509Z",
     "shell.execute_reply": "2021-03-26T13:05:07.301320Z"
    }
   },
   "outputs": [
    {
     "data": {
      "image/svg+xml": [
       "<?xml version=\"1.0\" encoding=\"UTF-8\" standalone=\"no\"?><svg xmlns=\"http://www.w3.org/2000/svg\" xmlns:xlink=\"http://www.w3.org/1999/xlink\" contentScriptType=\"application/ecmascript\" contentStyleType=\"text/css\" height=\"303px\" preserveAspectRatio=\"none\" style=\"width:603px;height:303px;background:#000000;\" version=\"1.1\" viewBox=\"0 0 603 303\" width=\"603px\" zoomAndPan=\"magnify\"><defs/><g><rect fill=\"#070707\" height=\"1\" style=\"stroke: #070707; stroke-width: 1.0;\" width=\"1\" x=\"0\" y=\"0\"/><rect fill=\"#FFFFFF\" height=\"205.5625\" style=\"stroke: #FFFFFF; stroke-width: 1.0;\" width=\"602\" x=\"0\" y=\"0\"/><text fill=\"#000000\" font-family=\"sans-serif\" font-size=\"12\" font-weight=\"bold\" lengthAdjust=\"spacingAndGlyphs\" textLength=\"159\" x=\"5\" y=\"16.1387\">Welcome to PlantUML!</text><text fill=\"#000000\" font-family=\"sans-serif\" font-size=\"12\" lengthAdjust=\"spacingAndGlyphs\" textLength=\"0\" x=\"9\" y=\"30.1074\"/><text fill=\"#000000\" font-family=\"sans-serif\" font-size=\"12\" lengthAdjust=\"spacingAndGlyphs\" textLength=\"293\" x=\"5\" y=\"44.0762\">If you use this software, you accept its license.</text><text fill=\"#000000\" font-family=\"sans-serif\" font-size=\"12\" lengthAdjust=\"spacingAndGlyphs\" textLength=\"107\" x=\"5\" y=\"58.0449\">(details by typing</text><text fill=\"#000000\" font-family=\"monospace\" font-size=\"12\" lengthAdjust=\"spacingAndGlyphs\" textLength=\"49\" x=\"116\" y=\"58.0449\">license</text><text fill=\"#000000\" font-family=\"sans-serif\" font-size=\"12\" lengthAdjust=\"spacingAndGlyphs\" textLength=\"56\" x=\"169\" y=\"58.0449\">keyword)</text><text fill=\"#000000\" font-family=\"sans-serif\" font-size=\"12\" lengthAdjust=\"spacingAndGlyphs\" textLength=\"0\" x=\"9\" y=\"72.0137\"/><text fill=\"#000000\" font-family=\"sans-serif\" font-size=\"12\" lengthAdjust=\"spacingAndGlyphs\" textLength=\"283\" x=\"5\" y=\"85.9824\">You can start with a simple UML Diagram like:</text><text fill=\"#000000\" font-family=\"sans-serif\" font-size=\"12\" lengthAdjust=\"spacingAndGlyphs\" textLength=\"0\" x=\"9\" y=\"99.9512\"/><text fill=\"#000000\" font-family=\"monospace\" font-size=\"12\" lengthAdjust=\"spacingAndGlyphs\" textLength=\"119\" x=\"5\" y=\"113.9199\">Bob-&gt;Alice: Hello</text><text fill=\"#000000\" font-family=\"sans-serif\" font-size=\"12\" lengthAdjust=\"spacingAndGlyphs\" textLength=\"0\" x=\"9\" y=\"127.8887\"/><text fill=\"#000000\" font-family=\"sans-serif\" font-size=\"12\" lengthAdjust=\"spacingAndGlyphs\" textLength=\"14\" x=\"5\" y=\"141.8574\">Or</text><text fill=\"#000000\" font-family=\"sans-serif\" font-size=\"12\" lengthAdjust=\"spacingAndGlyphs\" textLength=\"0\" x=\"9\" y=\"155.8262\"/><text fill=\"#000000\" font-family=\"monospace\" font-size=\"12\" lengthAdjust=\"spacingAndGlyphs\" textLength=\"91\" x=\"5\" y=\"169.7949\">class Example</text><text fill=\"#000000\" font-family=\"sans-serif\" font-size=\"12\" lengthAdjust=\"spacingAndGlyphs\" textLength=\"0\" x=\"9\" y=\"183.7637\"/><text fill=\"#000000\" font-family=\"sans-serif\" font-size=\"12\" lengthAdjust=\"spacingAndGlyphs\" textLength=\"349\" x=\"5\" y=\"197.7324\">You will find more information about PlantUML syntax on</text><text fill=\"#000000\" font-family=\"sans-serif\" font-size=\"12\" lengthAdjust=\"spacingAndGlyphs\" text-decoration=\"underline\" textLength=\"129\" x=\"358\" y=\"197.7324\">https://plantuml.com</text><image height=\"71\" width=\"80\" x=\"516\" xlink:href=\"data:image/png;base64,iVBORw0KGgoAAAANSUhEUgAAAFAAAABHCAMAAACnHDC8AAADAFBMVEX///+BpbvD3u/f7vfPz8+nz+g3ksuZEDkWADr/ujlvsdpTodLCwsOLwOEbg8T//v6pqamZETnLysvT09To5+jqLS4VATj9/f27u7vDw8MTfsK+v7/j4+SOweJprdjL4/KxsbEri8jk8PgXa57c29uUETez1utQoNJ1tNtEmc9cptWBut6ayOW/3O6YEDjY6vUfhcXBwcHs7Ozw9/v83t79uTn7+/vX19ehoaHx8fG2tLXHx8fuVlfrNTYaBjn/vUH5+fmko6WXl5f/+fn95ub+9PT+8PD3qKidmaMxIUrnqDWcFj7n5eX09PTu7u2SkpKfnZ6rq6z0lJTm4tzJrHUfDT339/eFGDn6tjcrEzOvrbBuZ3l4eomSMS7Hz9Smpqasu8SFiYuQETfa2du1m6OOM051J0NWTWL5xse4uLj6zc33r6/4vb7ydHXqLi/72dntTE3tR0ijbn5jW3C+u8NANVQrG0XFubqRVGZza4GQGT2VaS7a0NPJtI6IJj/zszrfqkXXzr/Hw8cgC0LUqltOQ2JsSC5bTGjOpFafSi2+iDGtyt14m7TJhTCPJUSwoIG/qa+ikHiIgpCRHjI9j8KXbnaQH0FLf6FGPlp0cnYyKE2rg49Wj7dFXHmcwtrp6uu+xMjvYWLvW1z97e3sPD3sP0DuUlP709PYzdDPmzqZWWySRVygfHHd1smWkZ+PgnibETqsl260q5fLuppJLC/dpj2HPFLTtHv/ujrTwJy5s6iWjIi0iD3joTTCmU3trjuvZS2zlFvjq0HSyLbYp0qRts10XGxEKC9yPVBQZIOPdlNvMk2NeYNqRlujtcCVrr3j5eY1gK9Qn9GLp7lbeJXRxrCkiZDaozyukoJ+H0B3rc+OYy+iprJkYXdhmr6ee0afs79xq9BikrGKjI3FomEiLFO0ay6nfIm4pZXRjTFuhZSZWm0zcZyJN0KNTk4eebNfdIGGlZ93h5kcED5nOVYyRWbziIk9dJ4kerE5ZYxRUnLG1d7p8PTvY2PtTk/1nZ1ycV/bAAAFx0lEQVR4Xu1Ye1BUVRg/e3dhl4csKyxqPlBJQVETF2icAY13GogkEFqizqRRpoBpTCIapaUOhWNjUdOMSBpqJYZTg4KigFKADzSIVZ4qD5VFluXhLgvbPee+r49R7v2z3+zcc77fOfPb7zvfPd85uwCIhwT4wPisANwPAuIKHnbHH1I+KwAXDA18ShDW58CneCEnXl8JGwmfHylCPSvlZ/FWxh8YIRIxTWkZAEofkTz8sNq7tAqE2gODOB6GYZobVaH20SVZ4oQcdmXV0L7c4b8OFvJHRoYwdVIoyPX3gxtFDA+V8e6mM8pBoCjij4wQiWo/ALzV/kpkifBi13p4waZuGrJEECycixcEVSbYgFwUozg4/qSraOxrP7O8Eogj2HDxyMWmzpk6823+yIjhvR7fLOpDsCuGhwC0WfbkjQq8A0MWC0EgIYzPCYMymM8Iwcvz6K4IWw8skTrgq3iPMIQnxdfKrvyedpyvbSsyBQt6zcH6OxXmjqYxg9PbgXBBveK6aRAXNEl1Ssc+hz7Bgntyohb/ggQlNrrdzfIuoYKSb79067PrRoLmGo25SeghJRn1yMrSbPTptZaoBlwtlWbBHspxiW+mW8+46ereVnMXGxbFQ+mjofiHZTrclJn5E14UEgdrO9tRVph0HDJlYlRsLv4XFA7RBA1kK5ogBb7gtn08AvxWymc2b+YzLHC3nnOCNHvdayUsZpnnwnPqGf+yGKcPKlv92vtJC209zGyRWJmgyd16sSGGT/AmM2rdKZKZHxwCz7KUodLzJOO8th4OBqxdo0c2tfUkNr3QlJkZQWWMBP0uwBHvmQQb3zRVCMnsMO6ATazf3f0kkza0HTaPCdIhpyTknqP61Te1eV2gRpr1FUn4xtxRT72pDHhj09/UnBLjiv72p4d8FEtlLibBd7Qg0xK5+XfS9q2AzxSVHPnNIMBS8BQPw8N1W4glQWj0mtp4+nSHhvKYOM4GL6vH1jGTcDQ3p1979AQPI5agXEDYwuS5awknJ73rHU56RyLAr6ACpO5iMRGvp3XykjImgs4Fgm2/7URc8dhbeD9jdhYVNon0mdFcAjTIXbmC75VrmVHcQ+JDIXbuNmYUYlZoYx6XcWjKTWavYXd1WzU9OEh9wLFfEVFza5PEhVhDAvfLx60cWM3ePMa9hyZG5DNr6DbQiCUcYU0AKGzGyYxlkf+wxnCk+wdwCbA/TkWH7Dbgoq8dcmKNssQQ3F/JmMxlIj/fzo/7s9OIwUMebbYzbh2zLfk7ehBGzIau6OeO+xzGKlBRwCGAXNaCFgYbRoKG+hMTfMff4M6h0LYxpmv/92ym9tIxc4uRzawynCEWGhum7odf9/75vh8zg0bKijX5AMxhMacsK8pBxaJihtnQqr1KG8yFMzq/dutJ2iKwNCbXA7Yamsm2Xn0XtgtowY3Xy8rpYc4NNqon8eM49k+NtzU55GtMleGAkNR6oldDMhH+e9EX0JB+UYKv4WgLZrLCjHV7wnyYlzJZvYV6A6d1w6xEph842UUyTkjGIbzwRA/JIOBJKSt88yglqND1h6TpiQqQV99wmJ7nknQcgIIHqd00EwSzgudigGYQUHE4qFMcGJb22kp7lNop8p6znStvg5S2e1TVRti56w/zj8fZzKLiDa317MqBQFbs+J3dcbSgo+H4D0kLOokJ82/NR8KZbp9eIZgllwKR8Ec1ejIX827POk/06HpYffGd5dkoZJXMqDAVXd1Nbhavlx4OyuAiPcyAF3Ick8faXAuE5WToApkMxykL1PbNRJ91SDkXOyymPFR1UMlw9GjRPKCrPsRSvUnbzbkELj2PSSRkQLiH1AvROTutlpryLHQAoCD+C2BBP4npMwd9zsIgzgaDsK+bctmVw3hetai5t9RS4PEqub4QnCvxteGzOZyQXxjscxkhHisWKMi72+T0p1dxGeGYkG0ez+eeG7In/n/oNOexC9fzIiLvPxVtKp84iza+AAAAAElFTkSuQmCC\" y=\"6\"/><rect fill=\"#000000\" height=\"96.4844\" style=\"stroke: #000000; stroke-width: 1.0;\" width=\"602\" x=\"0\" y=\"205.5625\"/><rect fill=\"#33FF02\" height=\"21.2969\" style=\"stroke: #33FF02; stroke-width: 1.0;\" width=\"170\" x=\"5\" y=\"210.5625\"/><text fill=\"#000000\" font-family=\"sans-serif\" font-size=\"14\" font-weight=\"bold\" lengthAdjust=\"spacingAndGlyphs\" textLength=\"168\" x=\"6\" y=\"225.5625\">[From string (line 2) ]</text><text fill=\"#33FF02\" font-family=\"sans-serif\" font-size=\"14\" font-weight=\"bold\" lengthAdjust=\"spacingAndGlyphs\" textLength=\"0\" x=\"10\" y=\"245.8594\"/><text fill=\"#33FF02\" font-family=\"sans-serif\" font-size=\"14\" font-weight=\"bold\" lengthAdjust=\"spacingAndGlyphs\" textLength=\"79\" x=\"5\" y=\"262.1563\">@startuml</text><text fill=\"#33FF02\" font-family=\"sans-serif\" font-size=\"14\" font-weight=\"bold\" lengthAdjust=\"spacingAndGlyphs\" textLength=\"0\" x=\"10\" y=\"278.4531\"/><text fill=\"#FF0000\" font-family=\"sans-serif\" font-size=\"14\" font-weight=\"bold\" lengthAdjust=\"spacingAndGlyphs\" textLength=\"142\" x=\"10\" y=\"294.75\">Empty description</text><!--MD5=[f59edd8218d337f74d0c332fc6737304]\n",
       "@startuml\r\n",
       " \r\n",
       "@enduml\r\n",
       "\n",
       "PlantUML version 1.2020.13(Sat Jun 13 12:26:38 UTC 2020)\n",
       "(EPL source distribution)\n",
       "Java Runtime: OpenJDK Runtime Environment\n",
       "JVM: OpenJDK 64-Bit Server VM\n",
       "Default Encoding: UTF-8\n",
       "Language: en\n",
       "Country: null\n",
       "--></g></svg>"
      ]
     },
     "execution_count": 32,
     "metadata": {},
     "output_type": "execute_result"
    }
   ],
   "source": [
    "%viz --style=\"PLANTUML\" --view=\"State\" \"CalculationExample\""
   ]
  },
  {
   "cell_type": "code",
   "execution_count": 33,
   "id": "similar-february",
   "metadata": {
    "execution": {
     "iopub.execute_input": "2021-03-26T13:05:07.356518Z",
     "iopub.status.busy": "2021-03-26T13:05:07.356043Z",
     "iopub.status.idle": "2021-03-26T13:05:07.389261Z",
     "shell.execute_reply": "2021-03-26T13:05:07.387588Z"
    }
   },
   "outputs": [
    {
     "data": {
      "image/svg+xml": [
       "<?xml version=\"1.0\" encoding=\"UTF-8\" standalone=\"no\"?><svg xmlns=\"http://www.w3.org/2000/svg\" xmlns:xlink=\"http://www.w3.org/1999/xlink\" contentScriptType=\"application/ecmascript\" contentStyleType=\"text/css\" height=\"246px\" preserveAspectRatio=\"none\" style=\"width:928px;height:246px;\" version=\"1.1\" viewBox=\"0 0 928 246\" width=\"928px\" zoomAndPan=\"magnify\"><defs><filter height=\"300%\" id=\"f12m4fehvc86af\" width=\"300%\" x=\"-1\" y=\"-1\"><feGaussianBlur result=\"blurOut\" stdDeviation=\"2.0\"/><feColorMatrix in=\"blurOut\" result=\"blurOut2\" type=\"matrix\" values=\"0 0 0 0 0 0 0 0 0 0 0 0 0 0 0 0 0 0 .4 0\"/><feOffset dx=\"4.0\" dy=\"4.0\" in=\"blurOut2\" result=\"blurOut3\"/><feBlend in=\"SourceGraphic\" in2=\"blurOut3\" mode=\"normal\"/></filter></defs><g><!--MD5=[fbc87193dbaf4d95561dea2c320d4a47]\n",
       "cluster E1--><a href=\"psysml:279b101a-ad7c-43dd-8a07-da5fe5802bed\" target=\"_top\" title=\"psysml:279b101a-ad7c-43dd-8a07-da5fe5802bed\" xlink:actuate=\"onRequest\" xlink:href=\"psysml:279b101a-ad7c-43dd-8a07-da5fe5802bed\" xlink:show=\"new\" xlink:title=\"psysml:279b101a-ad7c-43dd-8a07-da5fe5802bed\" xlink:type=\"simple\"><polygon fill=\"#FFFFFF\" filter=\"url(#f12m4fehvc86af)\" points=\"16,6,173,6,180,28.2969,906,28.2969,906,234,16,234,16,6\" style=\"stroke: #000000; stroke-width: 1.5;\"/><line style=\"stroke: #000000; stroke-width: 1.5;\" x1=\"16\" x2=\"180\" y1=\"28.2969\" y2=\"28.2969\"/><text fill=\"#000000\" font-family=\"sans-serif\" font-size=\"14\" font-weight=\"bold\" lengthAdjust=\"spacingAndGlyphs\" textLength=\"151\" x=\"20\" y=\"20.9951\">CalculationExample</text></a><!--MD5=[e4f7fae6ed58524ba242bb0b0d3be6b7]\n",
       "cluster E2--><a href=\"psysml:3dfd6fc9-2012-44ec-8abc-b458a2efa8ee\" target=\"_top\" title=\"psysml:3dfd6fc9-2012-44ec-8abc-b458a2efa8ee\" xlink:actuate=\"onRequest\" xlink:href=\"psysml:3dfd6fc9-2012-44ec-8abc-b458a2efa8ee\" xlink:show=\"new\" xlink:title=\"psysml:3dfd6fc9-2012-44ec-8abc-b458a2efa8ee\" xlink:type=\"simple\"><rect fill=\"#FFFFFF\" filter=\"url(#f12m4fehvc86af)\" height=\"161\" id=\"E2\" rx=\"10\" ry=\"10\" style=\"stroke: #A80036; stroke-width: 1.5;\" width=\"518\" x=\"364\" y=\"49\"/><rect fill=\"#FEFECE\" height=\"23.9688\" rx=\"10\" ry=\"10\" style=\"stroke: #FEFECE; stroke-width: 1.5;\" width=\"518\" x=\"364\" y=\"49\"/><rect fill=\"#FEFECE\" height=\"10\" style=\"stroke: #FEFECE; stroke-width: 1.5;\" width=\"518\" x=\"364\" y=\"62.9688\"/><rect fill=\"none\" height=\"161\" id=\"E2\" rx=\"10\" ry=\"10\" style=\"stroke: #A80036; stroke-width: 1.5;\" width=\"518\" x=\"364\" y=\"49\"/><text fill=\"#000000\" font-family=\"sans-serif\" font-size=\"12\" lengthAdjust=\"spacingAndGlyphs\" textLength=\"43\" x=\"601.5\" y=\"65.1387\">vehicle</text><line style=\"stroke: #A80036; stroke-width: 1.0;\" x1=\"364\" x2=\"882\" y1=\"72.9688\" y2=\"72.9688\"/></a><!--MD5=[f6df4d0ebaf0b5dfb2ced0ae5af7c670]\n",
       "cluster E4--><a href=\"psysml:6f0477df-1982-4bef-bc4b-f3a5f459ca50\" target=\"_top\" title=\"psysml:6f0477df-1982-4bef-bc4b-f3a5f459ca50\" xlink:actuate=\"onRequest\" xlink:href=\"psysml:6f0477df-1982-4bef-bc4b-f3a5f459ca50\" xlink:show=\"new\" xlink:title=\"psysml:6f0477df-1982-4bef-bc4b-f3a5f459ca50\" xlink:type=\"simple\"><rect fill=\"#FFFFFF\" filter=\"url(#f12m4fehvc86af)\" height=\"94\" id=\"E4\" rx=\"10\" ry=\"10\" style=\"stroke: #A80036; stroke-width: 1.5;\" width=\"156\" x=\"702\" y=\"92\"/><rect fill=\"#FEFECE\" height=\"23.9688\" rx=\"10\" ry=\"10\" style=\"stroke: #FEFECE; stroke-width: 1.5;\" width=\"156\" x=\"702\" y=\"92\"/><rect fill=\"#FEFECE\" height=\"10\" style=\"stroke: #FEFECE; stroke-width: 1.5;\" width=\"156\" x=\"702\" y=\"105.9688\"/><rect fill=\"none\" height=\"94\" id=\"E4\" rx=\"10\" ry=\"10\" style=\"stroke: #A80036; stroke-width: 1.5;\" width=\"156\" x=\"702\" y=\"92\"/><text fill=\"#000000\" font-family=\"sans-serif\" font-size=\"12\" lengthAdjust=\"spacingAndGlyphs\" textLength=\"24\" x=\"768\" y=\"108.1387\">eng</text><line style=\"stroke: #A80036; stroke-width: 1.0;\" x1=\"702\" x2=\"858\" y1=\"115.9688\" y2=\"115.9688\"/></a><!--MD5=[14e3b0961a2654348d326746436168a1]\n",
       "cluster E6--><a href=\"psysml:39f29039-e97f-4cd7-a6e4-24de87290ff7\" target=\"_top\" title=\"psysml:39f29039-e97f-4cd7-a6e4-24de87290ff7\" xlink:actuate=\"onRequest\" xlink:href=\"psysml:39f29039-e97f-4cd7-a6e4-24de87290ff7\" xlink:show=\"new\" xlink:title=\"psysml:39f29039-e97f-4cd7-a6e4-24de87290ff7\" xlink:type=\"simple\"><rect fill=\"#FFFFFF\" filter=\"url(#f12m4fehvc86af)\" height=\"94\" id=\"E6\" rx=\"10\" ry=\"10\" style=\"stroke: #A80036; stroke-width: 1.5;\" width=\"156\" x=\"522\" y=\"92\"/><rect fill=\"#FEFECE\" height=\"23.9688\" rx=\"10\" ry=\"10\" style=\"stroke: #FEFECE; stroke-width: 1.5;\" width=\"156\" x=\"522\" y=\"92\"/><rect fill=\"#FEFECE\" height=\"10\" style=\"stroke: #FEFECE; stroke-width: 1.5;\" width=\"156\" x=\"522\" y=\"105.9688\"/><rect fill=\"none\" height=\"94\" id=\"E6\" rx=\"10\" ry=\"10\" style=\"stroke: #A80036; stroke-width: 1.5;\" width=\"156\" x=\"522\" y=\"92\"/><text fill=\"#000000\" font-family=\"sans-serif\" font-size=\"12\" lengthAdjust=\"spacingAndGlyphs\" textLength=\"33\" x=\"583.5\" y=\"108.1387\">trans</text><line style=\"stroke: #A80036; stroke-width: 1.0;\" x1=\"522\" x2=\"678\" y1=\"115.9688\" y2=\"115.9688\"/></a><g id=\"E1.E8\"><a href=\"psysml:5c4fc454-9680-413f-bf1a-bdf2f6cc06d5\" target=\"_top\" title=\"psysml:5c4fc454-9680-413f-bf1a-bdf2f6cc06d5\" xlink:actuate=\"onRequest\" xlink:href=\"psysml:5c4fc454-9680-413f-bf1a-bdf2f6cc06d5\" xlink:show=\"new\" xlink:title=\"psysml:5c4fc454-9680-413f-bf1a-bdf2f6cc06d5\" xlink:type=\"simple\"><rect fill=\"#FEFECE\" filter=\"url(#f12m4fehvc86af)\" height=\"42.9375\" id=\"E8\" style=\"stroke: #A80036; stroke-width: 1.5;\" width=\"139\" x=\"206.5\" y=\"127\"/><ellipse cx=\"223.75\" cy=\"145.9688\" fill=\"#A52A2A\" rx=\"11\" ry=\"11\" style=\"stroke: #A80036; stroke-width: 1.0;\"/><path d=\"M223.3438,141.7813 L223.3438,149.7656 L224,149.7656 Q225.4375,149.7656 226.0469,148.8594 Q226.6719,147.9375 226.6719,145.7656 Q226.6719,143.5938 226.0469,142.6875 Q225.4375,141.7813 224,141.7813 L223.3438,141.7813 Z M220.8906,139.5781 L223.5156,139.5781 Q226.5469,139.5781 227.875,141.0313 Q229.2188,142.4688 229.2188,145.7656 Q229.2188,149.0625 227.875,150.5156 Q226.5469,151.9688 223.5156,151.9688 L220.8906,151.9688 L220.8906,139.5781 Z \"/><text fill=\"#000000\" font-family=\"sans-serif\" font-size=\"12\" font-style=\"italic\" lengthAdjust=\"spacingAndGlyphs\" textLength=\"106\" x=\"236.25\" y=\"143.1387\">«calculation def»</text><text fill=\"#000000\" font-family=\"sans-serif\" font-size=\"12\" lengthAdjust=\"spacingAndGlyphs\" textLength=\"59\" x=\"259.75\" y=\"157.1074\">MassSum</text></a></g><g id=\"E1.E9\"><a href=\"psysml:83ce5d61-6771-4884-a571-d4d08f340672\" target=\"_top\" title=\"psysml:83ce5d61-6771-4884-a571-d4d08f340672\" xlink:actuate=\"onRequest\" xlink:href=\"psysml:83ce5d61-6771-4884-a571-d4d08f340672\" xlink:show=\"new\" xlink:title=\"psysml:83ce5d61-6771-4884-a571-d4d08f340672\" xlink:type=\"simple\"><rect fill=\"#FEFECE\" filter=\"url(#f12m4fehvc86af)\" height=\"42.9375\" id=\"E9\" style=\"stroke: #A80036; stroke-width: 1.5;\" width=\"139\" x=\"32.5\" y=\"127\"/><ellipse cx=\"49.75\" cy=\"145.9688\" fill=\"#A52A2A\" rx=\"11\" ry=\"11\" style=\"stroke: #A80036; stroke-width: 1.0;\"/><path d=\"M49.3438,141.7813 L49.3438,149.7656 L50,149.7656 Q51.4375,149.7656 52.0469,148.8594 Q52.6719,147.9375 52.6719,145.7656 Q52.6719,143.5938 52.0469,142.6875 Q51.4375,141.7813 50,141.7813 L49.3438,141.7813 Z M46.8906,139.5781 L49.5156,139.5781 Q52.5469,139.5781 53.875,141.0313 Q55.2188,142.4688 55.2188,145.7656 Q55.2188,149.0625 53.875,150.5156 Q52.5469,151.9688 49.5156,151.9688 L46.8906,151.9688 L46.8906,139.5781 Z \"/><text fill=\"#000000\" font-family=\"sans-serif\" font-size=\"12\" font-style=\"italic\" lengthAdjust=\"spacingAndGlyphs\" textLength=\"106\" x=\"62.25\" y=\"143.1387\">«calculation def»</text><text fill=\"#000000\" font-family=\"sans-serif\" font-size=\"12\" lengthAdjust=\"spacingAndGlyphs\" textLength=\"67\" x=\"81.75\" y=\"157.1074\">MassSum1</text></a></g><g id=\"E1.E2.E3\"><a href=\"psysml:14ff17ee-41c8-45bd-b867-b50857ad993c\" target=\"_top\" title=\"psysml:14ff17ee-41c8-45bd-b867-b50857ad993c\" xlink:actuate=\"onRequest\" xlink:href=\"psysml:14ff17ee-41c8-45bd-b867-b50857ad993c\" xlink:show=\"new\" xlink:title=\"psysml:14ff17ee-41c8-45bd-b867-b50857ad993c\" xlink:type=\"simple\"><rect fill=\"#FEFECE\" filter=\"url(#f12m4fehvc86af)\" height=\"42.9375\" id=\"E3\" rx=\"10\" ry=\"10\" style=\"stroke: #A80036; stroke-width: 1.5;\" width=\"123\" x=\"380.5\" y=\"127\"/><ellipse cx=\"397.75\" cy=\"145.9688\" fill=\"#FFA500\" rx=\"11\" ry=\"11\" style=\"stroke: #A80036; stroke-width: 1.0;\"/><path d=\"M393.625,147.8906 L393.625,140.0781 L396.0781,140.0781 L396.0781,148.5156 Q396.0781,149.4375 396.5469,149.9688 Q397.0313,150.5 397.8594,150.5 Q398.7031,150.5 399.1719,149.9688 Q399.6406,149.4375 399.6406,148.5156 L399.6406,140.0781 L402.0938,140.0781 L402.0938,147.8906 Q402.0938,150.4219 401.0938,151.5625 Q400.0938,152.7031 397.8594,152.7031 Q395.6406,152.7031 394.625,151.5625 Q393.625,150.4219 393.625,147.8906 Z \"/><text fill=\"#000000\" font-family=\"sans-serif\" font-size=\"12\" font-style=\"italic\" lengthAdjust=\"spacingAndGlyphs\" textLength=\"69\" x=\"420.75\" y=\"143.1387\">«attribute»</text><text fill=\"#000000\" font-family=\"sans-serif\" font-size=\"12\" lengthAdjust=\"spacingAndGlyphs\" textLength=\"86\" x=\"412.25\" y=\"157.1074\">m: MassValue</text></a></g><g id=\"E1.E2.E4.E5\"><a href=\"psysml:74b360a2-1898-4ab2-8a14-bf87d0706240\" target=\"_top\" title=\"psysml:74b360a2-1898-4ab2-8a14-bf87d0706240\" xlink:actuate=\"onRequest\" xlink:href=\"psysml:74b360a2-1898-4ab2-8a14-bf87d0706240\" xlink:show=\"new\" xlink:title=\"psysml:74b360a2-1898-4ab2-8a14-bf87d0706240\" xlink:type=\"simple\"><rect fill=\"#FEFECE\" filter=\"url(#f12m4fehvc86af)\" height=\"42.9375\" id=\"E5\" rx=\"10\" ry=\"10\" style=\"stroke: #A80036; stroke-width: 1.5;\" width=\"123\" x=\"718.5\" y=\"127\"/><ellipse cx=\"735.75\" cy=\"145.9688\" fill=\"#FFA500\" rx=\"11\" ry=\"11\" style=\"stroke: #A80036; stroke-width: 1.0;\"/><path d=\"M731.625,147.8906 L731.625,140.0781 L734.0781,140.0781 L734.0781,148.5156 Q734.0781,149.4375 734.5469,149.9688 Q735.0313,150.5 735.8594,150.5 Q736.7031,150.5 737.1719,149.9688 Q737.6406,149.4375 737.6406,148.5156 L737.6406,140.0781 L740.0938,140.0781 L740.0938,147.8906 Q740.0938,150.4219 739.0938,151.5625 Q738.0938,152.7031 735.8594,152.7031 Q733.6406,152.7031 732.625,151.5625 Q731.625,150.4219 731.625,147.8906 Z \"/><text fill=\"#000000\" font-family=\"sans-serif\" font-size=\"12\" font-style=\"italic\" lengthAdjust=\"spacingAndGlyphs\" textLength=\"69\" x=\"758.75\" y=\"143.1387\">«attribute»</text><text fill=\"#000000\" font-family=\"sans-serif\" font-size=\"12\" lengthAdjust=\"spacingAndGlyphs\" textLength=\"86\" x=\"750.25\" y=\"157.1074\">m: MassValue</text></a></g><g id=\"E1.E2.E6.E7\"><a href=\"psysml:21104dbc-631a-485d-ad70-3d921fae82b5\" target=\"_top\" title=\"psysml:21104dbc-631a-485d-ad70-3d921fae82b5\" xlink:actuate=\"onRequest\" xlink:href=\"psysml:21104dbc-631a-485d-ad70-3d921fae82b5\" xlink:show=\"new\" xlink:title=\"psysml:21104dbc-631a-485d-ad70-3d921fae82b5\" xlink:type=\"simple\"><rect fill=\"#FEFECE\" filter=\"url(#f12m4fehvc86af)\" height=\"42.9375\" id=\"E7\" rx=\"10\" ry=\"10\" style=\"stroke: #A80036; stroke-width: 1.5;\" width=\"123\" x=\"538.5\" y=\"127\"/><ellipse cx=\"555.75\" cy=\"145.9688\" fill=\"#FFA500\" rx=\"11\" ry=\"11\" style=\"stroke: #A80036; stroke-width: 1.0;\"/><path d=\"M551.625,147.8906 L551.625,140.0781 L554.0781,140.0781 L554.0781,148.5156 Q554.0781,149.4375 554.5469,149.9688 Q555.0313,150.5 555.8594,150.5 Q556.7031,150.5 557.1719,149.9688 Q557.6406,149.4375 557.6406,148.5156 L557.6406,140.0781 L560.0938,140.0781 L560.0938,147.8906 Q560.0938,150.4219 559.0938,151.5625 Q558.0938,152.7031 555.8594,152.7031 Q553.6406,152.7031 552.625,151.5625 Q551.625,150.4219 551.625,147.8906 Z \"/><text fill=\"#000000\" font-family=\"sans-serif\" font-size=\"12\" font-style=\"italic\" lengthAdjust=\"spacingAndGlyphs\" textLength=\"69\" x=\"578.75\" y=\"143.1387\">«attribute»</text><text fill=\"#000000\" font-family=\"sans-serif\" font-size=\"12\" lengthAdjust=\"spacingAndGlyphs\" textLength=\"86\" x=\"570.25\" y=\"157.1074\">m: MassValue</text></a></g><!--MD5=[e15af96815a87ad46d621c69318c8796]\n",
       "@startuml\r\n",
       "skinparam ranksep 8\r\n",
       "skinparam rectangle {\r\n",
       " backgroundColor<<block>> LightGreen\r\n",
       "}\r\n",
       " \r\n",
       "package \"CalculationExample\" as E1  [[psysml:279b101a-ad7c-43dd-8a07-da5fe5802bed ]]  {\r\n",
       "rec usage \"vehicle\" as E2  [[psysml:3dfd6fc9-2012-44ec-8abc-b458a2efa8ee ]] {\r\n",
       "rec usage \"m: MassValue\" as E3  <<(U,orange)attribute>> [[psysml:14ff17ee-41c8-45bd-b867-b50857ad993c ]] {\r\n",
       "}\r\n",
       "rec usage \"eng\" as E4  [[psysml:6f0477df-1982-4bef-bc4b-f3a5f459ca50 ]] {\r\n",
       "rec usage \"m: MassValue\" as E5  <<(U,orange)attribute>> [[psysml:74b360a2-1898-4ab2-8a14-bf87d0706240 ]] {\r\n",
       "}\r\n",
       "}\r\n",
       "rec usage \"trans\" as E6  [[psysml:39f29039-e97f-4cd7-a6e4-24de87290ff7 ]] {\r\n",
       "rec usage \"m: MassValue\" as E7  <<(U,orange)attribute>> [[psysml:21104dbc-631a-485d-ad70-3d921fae82b5 ]] {\r\n",
       "}\r\n",
       "}\r\n",
       "}\r\n",
       "def \"MassSum\" as E8  <<(D,brown)calculation def>> [[psysml:5c4fc454-9680-413f-bf1a-bdf2f6cc06d5 ]] \r\n",
       "def \"MassSum1\" as E9  <<(D,brown)calculation def>> [[psysml:83ce5d61-6771-4884-a571-d4d08f340672 ]] \r\n",
       "}\r\n",
       "@enduml\r\n",
       "\n",
       "PlantUML version 1.2020.13(Sat Jun 13 12:26:38 UTC 2020)\n",
       "(EPL source distribution)\n",
       "Java Runtime: OpenJDK Runtime Environment\n",
       "JVM: OpenJDK 64-Bit Server VM\n",
       "Default Encoding: UTF-8\n",
       "Language: en\n",
       "Country: null\n",
       "--></g></svg>"
      ]
     },
     "execution_count": 33,
     "metadata": {},
     "output_type": "execute_result"
    }
   ],
   "source": [
    "%viz --style=\"PLANTUML\" --view=\"Interconnection\" \"CalculationExample\""
   ]
  },
  {
   "cell_type": "code",
   "execution_count": 34,
   "id": "violent-surveillance",
   "metadata": {
    "execution": {
     "iopub.execute_input": "2021-03-26T13:05:07.439399Z",
     "iopub.status.busy": "2021-03-26T13:05:07.438616Z",
     "iopub.status.idle": "2021-03-26T13:05:07.474601Z",
     "shell.execute_reply": "2021-03-26T13:05:07.473095Z"
    }
   },
   "outputs": [
    {
     "data": {
      "image/svg+xml": [
       "<?xml version=\"1.0\" encoding=\"UTF-8\" standalone=\"no\"?><svg xmlns=\"http://www.w3.org/2000/svg\" xmlns:xlink=\"http://www.w3.org/1999/xlink\" contentScriptType=\"application/ecmascript\" contentStyleType=\"text/css\" height=\"162px\" preserveAspectRatio=\"none\" style=\"width:683px;height:162px;\" version=\"1.1\" viewBox=\"0 0 683 162\" width=\"683px\" zoomAndPan=\"magnify\"><defs><filter height=\"300%\" id=\"f1hfkdwx2c569j\" width=\"300%\" x=\"-1\" y=\"-1\"><feGaussianBlur result=\"blurOut\" stdDeviation=\"2.0\"/><feColorMatrix in=\"blurOut\" result=\"blurOut2\" type=\"matrix\" values=\"0 0 0 0 0 0 0 0 0 0 0 0 0 0 0 0 0 0 .4 0\"/><feOffset dx=\"4.0\" dy=\"4.0\" in=\"blurOut2\" result=\"blurOut3\"/><feBlend in=\"SourceGraphic\" in2=\"blurOut3\" mode=\"normal\"/></filter></defs><g><!--MD5=[fbc87193dbaf4d95561dea2c320d4a47]\n",
       "cluster E1--><a href=\"psysml:5c4fc454-9680-413f-bf1a-bdf2f6cc06d5\" target=\"_top\" title=\"psysml:5c4fc454-9680-413f-bf1a-bdf2f6cc06d5\" xlink:actuate=\"onRequest\" xlink:href=\"psysml:5c4fc454-9680-413f-bf1a-bdf2f6cc06d5\" xlink:show=\"new\" xlink:title=\"psysml:5c4fc454-9680-413f-bf1a-bdf2f6cc06d5\" xlink:type=\"simple\"><rect fill=\"#FFFFFF\" filter=\"url(#f1hfkdwx2c569j)\" height=\"87.72\" id=\"E1\" style=\"stroke: #A80036; stroke-width: 1.5;\" width=\"128\" x=\"28\" y=\"42.0986\"/><rect fill=\"#FEFECE\" height=\"37.9375\" style=\"stroke: #A80036; stroke-width: 1.5;\" width=\"128\" x=\"28\" y=\"42.0986\"/><text fill=\"#000000\" font-family=\"sans-serif\" font-size=\"12\" font-style=\"italic\" lengthAdjust=\"spacingAndGlyphs\" textLength=\"106\" x=\"39\" y=\"58.2373\">«calculation def»</text><text fill=\"#000000\" font-family=\"sans-serif\" font-size=\"12\" lengthAdjust=\"spacingAndGlyphs\" textLength=\"59\" x=\"62.5\" y=\"72.2061\">MassSum</text></a><!--MD5=[14e3b0961a2654348d326746436168a1]\n",
       "cluster E6--><a href=\"psysml:20e483d0-a5a0-4777-bc7f-caa19ca2a7e0\" target=\"_top\" title=\"psysml:20e483d0-a5a0-4777-bc7f-caa19ca2a7e0\" xlink:actuate=\"onRequest\" xlink:href=\"psysml:20e483d0-a5a0-4777-bc7f-caa19ca2a7e0\" xlink:show=\"new\" xlink:title=\"psysml:20e483d0-a5a0-4777-bc7f-caa19ca2a7e0\" xlink:type=\"simple\"><rect fill=\"#FFFFFF\" filter=\"url(#f1hfkdwx2c569j)\" height=\"87.72\" id=\"E6\" rx=\"10\" ry=\"10\" style=\"stroke: #A80036; stroke-width: 1.5;\" width=\"101\" x=\"251.75\" y=\"42.0986\"/><rect fill=\"#FEFECE\" height=\"37.9375\" rx=\"10\" ry=\"10\" style=\"stroke: #FEFECE; stroke-width: 1.5;\" width=\"101\" x=\"251.75\" y=\"42.0986\"/><rect fill=\"#FEFECE\" height=\"10\" style=\"stroke: #FEFECE; stroke-width: 1.5;\" width=\"101\" x=\"251.75\" y=\"70.0361\"/><rect fill=\"none\" height=\"87.72\" id=\"E6\" rx=\"10\" ry=\"10\" style=\"stroke: #A80036; stroke-width: 1.5;\" width=\"101\" x=\"251.75\" y=\"42.0986\"/><text fill=\"#000000\" font-family=\"sans-serif\" font-size=\"12\" font-style=\"italic\" lengthAdjust=\"spacingAndGlyphs\" textLength=\"82\" x=\"261.25\" y=\"58.2373\">«calculation»</text><text fill=\"#000000\" font-family=\"sans-serif\" font-size=\"12\" lengthAdjust=\"spacingAndGlyphs\" textLength=\"18\" x=\"293.25\" y=\"72.2061\">ms</text><line style=\"stroke: #A80036; stroke-width: 1.0;\" x1=\"251.75\" x2=\"352.75\" y1=\"80.0361\" y2=\"80.0361\"/></a><!--MD5=[7f149f147074ac12df2cb0a7728a5fb0]\n",
       "cluster E9--><a href=\"psysml:83ce5d61-6771-4884-a571-d4d08f340672\" target=\"_top\" title=\"psysml:83ce5d61-6771-4884-a571-d4d08f340672\" xlink:actuate=\"onRequest\" xlink:href=\"psysml:83ce5d61-6771-4884-a571-d4d08f340672\" xlink:show=\"new\" xlink:title=\"psysml:83ce5d61-6771-4884-a571-d4d08f340672\" xlink:type=\"simple\"><rect fill=\"#FFFFFF\" filter=\"url(#f1hfkdwx2c569j)\" height=\"87.72\" id=\"E9\" style=\"stroke: #A80036; stroke-width: 1.5;\" width=\"127\" x=\"410.25\" y=\"42.0986\"/><rect fill=\"#FEFECE\" height=\"37.9375\" style=\"stroke: #A80036; stroke-width: 1.5;\" width=\"127\" x=\"410.25\" y=\"42.0986\"/><text fill=\"#000000\" font-family=\"sans-serif\" font-size=\"12\" font-style=\"italic\" lengthAdjust=\"spacingAndGlyphs\" textLength=\"106\" x=\"420.75\" y=\"58.2373\">«calculation def»</text><text fill=\"#000000\" font-family=\"sans-serif\" font-size=\"12\" lengthAdjust=\"spacingAndGlyphs\" textLength=\"67\" x=\"440.25\" y=\"72.2061\">MassSum1</text></a><!--MD5=[47bea60c1a0ac6c1143df232041969c0]\n",
       "cluster E12--><a href=\"psysml:3aa3b647-0159-4a96-9fb7-94bd79c90754\" target=\"_top\" title=\"psysml:3aa3b647-0159-4a96-9fb7-94bd79c90754\" xlink:actuate=\"onRequest\" xlink:href=\"psysml:3aa3b647-0159-4a96-9fb7-94bd79c90754\" xlink:show=\"new\" xlink:title=\"psysml:3aa3b647-0159-4a96-9fb7-94bd79c90754\" xlink:type=\"simple\"><rect fill=\"#FFFFFF\" filter=\"url(#f1hfkdwx2c569j)\" height=\"87.72\" id=\"E12\" rx=\"10\" ry=\"10\" style=\"stroke: #A80036; stroke-width: 1.5;\" width=\"138\" x=\"526\" y=\"42.0986\"/><rect fill=\"#FEFECE\" height=\"37.9375\" rx=\"10\" ry=\"10\" style=\"stroke: #FEFECE; stroke-width: 1.5;\" width=\"138\" x=\"526\" y=\"42.0986\"/><rect fill=\"#FEFECE\" height=\"10\" style=\"stroke: #FEFECE; stroke-width: 1.5;\" width=\"138\" x=\"526\" y=\"70.0361\"/><rect fill=\"none\" height=\"87.72\" id=\"E12\" rx=\"10\" ry=\"10\" style=\"stroke: #A80036; stroke-width: 1.5;\" width=\"138\" x=\"526\" y=\"42.0986\"/><text fill=\"#000000\" font-family=\"sans-serif\" font-size=\"12\" font-style=\"italic\" lengthAdjust=\"spacingAndGlyphs\" textLength=\"82\" x=\"554\" y=\"58.2373\">«calculation»</text><text fill=\"#000000\" font-family=\"sans-serif\" font-size=\"12\" lengthAdjust=\"spacingAndGlyphs\" textLength=\"26\" x=\"582\" y=\"72.2061\">ms1</text><line style=\"stroke: #A80036; stroke-width: 1.0;\" x1=\"526\" x2=\"664\" y1=\"80.0361\" y2=\"80.0361\"/></a><text fill=\"#000000\" font-family=\"sans-serif\" font-size=\"14\" lengthAdjust=\"spacingAndGlyphs\" textLength=\"80\" x=\"6\" y=\"20.7969\">partMasses</text><rect fill=\"#A80036\" height=\"12\" style=\"stroke: #FEFECE; stroke-width: 1.5;\" width=\"12\" x=\"40\" y=\"36.0986\"/><text fill=\"#000000\" font-family=\"sans-serif\" font-size=\"14\" lengthAdjust=\"spacingAndGlyphs\" textLength=\"66\" x=\"54\" y=\"148.8138\">totalMass</text><rect fill=\"#A80036\" height=\"12\" style=\"stroke: #FEFECE; stroke-width: 1.5;\" width=\"12\" x=\"81\" y=\"123.8186\"/><text fill=\"#000000\" font-family=\"sans-serif\" font-size=\"14\" lengthAdjust=\"spacingAndGlyphs\" textLength=\"75\" x=\"100.5\" y=\"20.7969\">$collection</text><rect fill=\"#A80036\" height=\"12\" style=\"stroke: #FEFECE; stroke-width: 1.5;\" width=\"12\" x=\"132\" y=\"36.0986\"/><text fill=\"#000000\" font-family=\"sans-serif\" font-size=\"14\" lengthAdjust=\"spacingAndGlyphs\" textLength=\"48\" x=\"110\" y=\"148.8138\">$result</text><rect fill=\"#A80036\" height=\"12\" style=\"stroke: #FEFECE; stroke-width: 1.5;\" width=\"12\" x=\"128\" y=\"123.8186\"/><text fill=\"#000000\" font-family=\"sans-serif\" font-size=\"14\" lengthAdjust=\"spacingAndGlyphs\" textLength=\"80\" x=\"235\" y=\"20.7969\">partMasses</text><rect fill=\"#A80036\" height=\"12\" style=\"stroke: #FEFECE; stroke-width: 1.5;\" width=\"12\" x=\"269\" y=\"36.0986\"/><text fill=\"#000000\" font-family=\"sans-serif\" font-size=\"14\" lengthAdjust=\"spacingAndGlyphs\" textLength=\"66\" x=\"238\" y=\"148.8138\">totalMass</text><rect fill=\"#A80036\" height=\"12\" style=\"stroke: #FEFECE; stroke-width: 1.5;\" width=\"12\" x=\"265\" y=\"123.8186\"/><text fill=\"#000000\" font-family=\"sans-serif\" font-size=\"14\" lengthAdjust=\"spacingAndGlyphs\" textLength=\"80\" x=\"395\" y=\"20.7969\">partMasses</text><rect fill=\"#A80036\" height=\"12\" style=\"stroke: #FEFECE; stroke-width: 1.5;\" width=\"12\" x=\"429\" y=\"36.0986\"/><text fill=\"#000000\" font-family=\"sans-serif\" font-size=\"14\" lengthAdjust=\"spacingAndGlyphs\" textLength=\"66\" x=\"398\" y=\"148.8138\">totalMass</text><rect fill=\"#A80036\" height=\"12\" style=\"stroke: #FEFECE; stroke-width: 1.5;\" width=\"12\" x=\"425\" y=\"123.8186\"/><text fill=\"#000000\" font-family=\"sans-serif\" font-size=\"14\" lengthAdjust=\"spacingAndGlyphs\" textLength=\"80\" x=\"555\" y=\"20.7969\">partMasses</text><rect fill=\"#A80036\" height=\"12\" style=\"stroke: #FEFECE; stroke-width: 1.5;\" width=\"12\" x=\"589\" y=\"36.0986\"/><text fill=\"#000000\" font-family=\"sans-serif\" font-size=\"14\" lengthAdjust=\"spacingAndGlyphs\" textLength=\"66\" x=\"562\" y=\"148.8138\">totalMass</text><rect fill=\"#A80036\" height=\"12\" style=\"stroke: #FEFECE; stroke-width: 1.5;\" width=\"12\" x=\"589\" y=\"123.8186\"/><!--MD5=[7bd46bbfe1e90e4dffab44d924e980ce]\n",
       "@startuml\r\n",
       "skinparam ranksep 8\r\n",
       " \r\n",
       "rec def \"MassSum\" as E1  <<(D,brown)calculation def>> [[psysml:5c4fc454-9680-413f-bf1a-bdf2f6cc06d5 ]] {\r\n",
       "portin \"partMasses\" as E2  [[psysml:57eaefe4-a57c-41fa-a944-033dc3e4df4e ]] \r\n",
       "portout \"totalMass\" as E3  [[psysml:35e88aae-ee13-4c55-bc31-272528607619 ]] \r\n",
       "portin \"$collection\" as E4  [[psysml:0e9b074a-52f0-467d-9ed6-1e247226bb71 ]] \r\n",
       "portout \"$result\" as E5  [[psysml:66242f20-bf9b-4b2d-900e-be3ce4c10d7e ]] \r\n",
       "}\r\n",
       "\r\n",
       "rec usage \"ms\" as E6  <<(U,orange)calculation>> [[psysml:20e483d0-a5a0-4777-bc7f-caa19ca2a7e0 ]] {\r\n",
       "portin \"partMasses\" as E7  [[psysml:61916027-7c4f-412f-9b89-438222569e79 ]] \r\n",
       "portout \"totalMass\" as E8  [[psysml:1b43c6aa-09b4-4e05-b4e4-873331fee78b ]] \r\n",
       "}\r\n",
       "\r\n",
       "rec def \"MassSum1\" as E9  <<(D,brown)calculation def>> [[psysml:83ce5d61-6771-4884-a571-d4d08f340672 ]] {\r\n",
       "portin \"partMasses\" as E10  [[psysml:0924d9a5-fc11-4345-935d-e5ff08c51a6a ]] \r\n",
       "portout \"totalMass\" as E11  [[psysml:b7c67a6a-5db6-4529-b3d9-f9fb47dc5f0c ]] \r\n",
       "}\r\n",
       "\r\n",
       "rec usage \"ms1\" as E12  <<(U,orange)calculation>> [[psysml:3aa3b647-0159-4a96-9fb7-94bd79c90754 ]] {\r\n",
       "portin \"partMasses\" as E13  [[psysml:d0b5b203-3fa8-4960-85f8-af6511da8b47 ]] \r\n",
       "portout \"totalMass\" as E14  [[psysml:7deb5e16-d6a2-4c83-9234-29097012e327 ]] \r\n",
       "}\r\n",
       "\r\n",
       "@enduml\r\n",
       "\n",
       "PlantUML version 1.2020.13(Sat Jun 13 12:26:38 UTC 2020)\n",
       "(EPL source distribution)\n",
       "Java Runtime: OpenJDK Runtime Environment\n",
       "JVM: OpenJDK 64-Bit Server VM\n",
       "Default Encoding: UTF-8\n",
       "Language: en\n",
       "Country: null\n",
       "--></g></svg>"
      ]
     },
     "execution_count": 34,
     "metadata": {},
     "output_type": "execute_result"
    }
   ],
   "source": [
    "%viz --style=\"PLANTUML\" --view=\"Action\" \"CalculationExample\""
   ]
  },
  {
   "cell_type": "code",
   "execution_count": 35,
   "id": "recognized-drain",
   "metadata": {
    "execution": {
     "iopub.execute_input": "2021-03-26T13:05:07.529506Z",
     "iopub.status.busy": "2021-03-26T13:05:07.528334Z",
     "iopub.status.idle": "2021-03-26T13:05:07.594317Z",
     "shell.execute_reply": "2021-03-26T13:05:07.592705Z"
    }
   },
   "outputs": [
    {
     "data": {
      "image/svg+xml": [
       "<?xml version=\"1.0\" encoding=\"UTF-8\" standalone=\"no\"?><svg xmlns=\"http://www.w3.org/2000/svg\" xmlns:xlink=\"http://www.w3.org/1999/xlink\" contentScriptType=\"application/ecmascript\" contentStyleType=\"text/css\" height=\"260px\" preserveAspectRatio=\"none\" style=\"width:659px;height:260px;\" version=\"1.1\" viewBox=\"0 0 659 260\" width=\"659px\" zoomAndPan=\"magnify\"><defs><filter height=\"300%\" id=\"fgp918bpzd5xx\" width=\"300%\" x=\"-1\" y=\"-1\"><feGaussianBlur result=\"blurOut\" stdDeviation=\"2.0\"/><feColorMatrix in=\"blurOut\" result=\"blurOut2\" type=\"matrix\" values=\"0 0 0 0 0 0 0 0 0 0 0 0 0 0 0 0 0 0 .4 0\"/><feOffset dx=\"4.0\" dy=\"4.0\" in=\"blurOut2\" result=\"blurOut3\"/><feBlend in=\"SourceGraphic\" in2=\"blurOut3\" mode=\"normal\"/></filter></defs><g><!--MD5=[fbc87193dbaf4d95561dea2c320d4a47]\n",
       "cluster E1--><a href=\"psysml:279b101a-ad7c-43dd-8a07-da5fe5802bed\" target=\"_top\" title=\"psysml:279b101a-ad7c-43dd-8a07-da5fe5802bed\" xlink:actuate=\"onRequest\" xlink:href=\"psysml:279b101a-ad7c-43dd-8a07-da5fe5802bed\" xlink:show=\"new\" xlink:title=\"psysml:279b101a-ad7c-43dd-8a07-da5fe5802bed\" xlink:type=\"simple\"><polygon fill=\"#FFFFFF\" filter=\"url(#fgp918bpzd5xx)\" points=\"16,6,173,6,180,28.2969,637,28.2969,637,248,16,248,16,6\" style=\"stroke: #000000; stroke-width: 1.5;\"/><line style=\"stroke: #000000; stroke-width: 1.5;\" x1=\"16\" x2=\"180\" y1=\"28.2969\" y2=\"28.2969\"/><text fill=\"#000000\" font-family=\"sans-serif\" font-size=\"14\" font-weight=\"bold\" lengthAdjust=\"spacingAndGlyphs\" textLength=\"151\" x=\"20\" y=\"20.9951\">CalculationExample</text></a><!--MD5=[b4997ac47864f28c2f74865a473b2911]\n",
       "class E2--><a href=\"psysml:3dfd6fc9-2012-44ec-8abc-b458a2efa8ee\" target=\"_top\" title=\"psysml:3dfd6fc9-2012-44ec-8abc-b458a2efa8ee\" xlink:actuate=\"onRequest\" xlink:href=\"psysml:3dfd6fc9-2012-44ec-8abc-b458a2efa8ee\" xlink:show=\"new\" xlink:title=\"psysml:3dfd6fc9-2012-44ec-8abc-b458a2efa8ee\" xlink:type=\"simple\"><rect fill=\"#FEFECE\" filter=\"url(#fgp918bpzd5xx)\" height=\"58.7422\" id=\"E2\" rx=\"10\" ry=\"10\" style=\"stroke: #A80036; stroke-width: 1.5;\" width=\"92\" x=\"529\" y=\"47.5\"/><ellipse cx=\"551.65\" cy=\"66.4688\" fill=\"#32CD32\" rx=\"11\" ry=\"11\" style=\"stroke: #A80036; stroke-width: 1.0;\"/><path d=\"M551.4469,62.1406 L551.4469,65.7656 L552.4469,65.7656 Q553.65,65.7656 554.1344,65.3594 Q554.6188,64.9531 554.6188,63.9531 Q554.6188,62.9531 554.1344,62.5469 Q553.65,62.1406 552.4469,62.1406 L551.4469,62.1406 Z M548.9938,60.0781 L552.3531,60.0781 Q554.9156,60.0781 556.0406,61 Q557.1656,61.9063 557.1656,63.9531 Q557.1656,66 556.0406,66.9219 Q554.9156,67.8281 552.3531,67.8281 L551.4469,67.8281 L551.4469,72.4688 L548.9938,72.4688 L548.9938,60.0781 Z \"/><text fill=\"#000000\" font-family=\"sans-serif\" font-size=\"12\" font-style=\"italic\" lengthAdjust=\"spacingAndGlyphs\" textLength=\"40\" x=\"568.85\" y=\"63.6387\">«part»</text><text fill=\"#000000\" font-family=\"sans-serif\" font-size=\"12\" lengthAdjust=\"spacingAndGlyphs\" textLength=\"43\" x=\"567.35\" y=\"77.6074\">vehicle</text><line style=\"stroke: #A80036; stroke-width: 1.5;\" x1=\"530\" x2=\"620\" y1=\"85.4375\" y2=\"85.4375\"/><text fill=\"#000000\" font-family=\"sans-serif\" font-size=\"11\" lengthAdjust=\"spacingAndGlyphs\" textLength=\"80\" x=\"535\" y=\"99.6479\">m: MassValue</text></a><!--MD5=[09b614a08d8cba4a07c9adeb5e0fee81]\n",
       "class E3--><a href=\"psysml:6f0477df-1982-4bef-bc4b-f3a5f459ca50\" target=\"_top\" title=\"psysml:6f0477df-1982-4bef-bc4b-f3a5f459ca50\" xlink:actuate=\"onRequest\" xlink:href=\"psysml:6f0477df-1982-4bef-bc4b-f3a5f459ca50\" xlink:show=\"new\" xlink:title=\"psysml:6f0477df-1982-4bef-bc4b-f3a5f459ca50\" xlink:type=\"simple\"><rect fill=\"#FEFECE\" filter=\"url(#fgp918bpzd5xx)\" height=\"58.7422\" id=\"E3\" rx=\"10\" ry=\"10\" style=\"stroke: #A80036; stroke-width: 1.5;\" width=\"92\" x=\"402\" y=\"173\"/><ellipse cx=\"427.8\" cy=\"191.9688\" fill=\"#32CD32\" rx=\"11\" ry=\"11\" style=\"stroke: #A80036; stroke-width: 1.0;\"/><path d=\"M427.5969,187.6406 L427.5969,191.2656 L428.5969,191.2656 Q429.8,191.2656 430.2844,190.8594 Q430.7688,190.4531 430.7688,189.4531 Q430.7688,188.4531 430.2844,188.0469 Q429.8,187.6406 428.5969,187.6406 L427.5969,187.6406 Z M425.1438,185.5781 L428.5031,185.5781 Q431.0656,185.5781 432.1906,186.5 Q433.3156,187.4063 433.3156,189.4531 Q433.3156,191.5 432.1906,192.4219 Q431.0656,193.3281 428.5031,193.3281 L427.5969,193.3281 L427.5969,197.9688 L425.1438,197.9688 L425.1438,185.5781 Z \"/><text fill=\"#000000\" font-family=\"sans-serif\" font-size=\"12\" font-style=\"italic\" lengthAdjust=\"spacingAndGlyphs\" textLength=\"40\" x=\"442.2\" y=\"189.1387\">«part»</text><text fill=\"#000000\" font-family=\"sans-serif\" font-size=\"12\" lengthAdjust=\"spacingAndGlyphs\" textLength=\"24\" x=\"450.2\" y=\"203.1074\">eng</text><line style=\"stroke: #A80036; stroke-width: 1.5;\" x1=\"403\" x2=\"493\" y1=\"210.9375\" y2=\"210.9375\"/><text fill=\"#000000\" font-family=\"sans-serif\" font-size=\"11\" lengthAdjust=\"spacingAndGlyphs\" textLength=\"80\" x=\"408\" y=\"225.1479\">m: MassValue</text></a><!--MD5=[ebbe1d658d1005bcc118a6aa81145e00]\n",
       "class E4--><a href=\"psysml:39f29039-e97f-4cd7-a6e4-24de87290ff7\" target=\"_top\" title=\"psysml:39f29039-e97f-4cd7-a6e4-24de87290ff7\" xlink:actuate=\"onRequest\" xlink:href=\"psysml:39f29039-e97f-4cd7-a6e4-24de87290ff7\" xlink:show=\"new\" xlink:title=\"psysml:39f29039-e97f-4cd7-a6e4-24de87290ff7\" xlink:type=\"simple\"><rect fill=\"#FEFECE\" filter=\"url(#fgp918bpzd5xx)\" height=\"58.7422\" id=\"E4\" rx=\"10\" ry=\"10\" style=\"stroke: #A80036; stroke-width: 1.5;\" width=\"92\" x=\"529\" y=\"173\"/><ellipse cx=\"554.8\" cy=\"191.9688\" fill=\"#32CD32\" rx=\"11\" ry=\"11\" style=\"stroke: #A80036; stroke-width: 1.0;\"/><path d=\"M554.5969,187.6406 L554.5969,191.2656 L555.5969,191.2656 Q556.8,191.2656 557.2844,190.8594 Q557.7688,190.4531 557.7688,189.4531 Q557.7688,188.4531 557.2844,188.0469 Q556.8,187.6406 555.5969,187.6406 L554.5969,187.6406 Z M552.1438,185.5781 L555.5031,185.5781 Q558.0656,185.5781 559.1906,186.5 Q560.3156,187.4063 560.3156,189.4531 Q560.3156,191.5 559.1906,192.4219 Q558.0656,193.3281 555.5031,193.3281 L554.5969,193.3281 L554.5969,197.9688 L552.1438,197.9688 L552.1438,185.5781 Z \"/><text fill=\"#000000\" font-family=\"sans-serif\" font-size=\"12\" font-style=\"italic\" lengthAdjust=\"spacingAndGlyphs\" textLength=\"40\" x=\"569.2\" y=\"189.1387\">«part»</text><text fill=\"#000000\" font-family=\"sans-serif\" font-size=\"12\" lengthAdjust=\"spacingAndGlyphs\" textLength=\"33\" x=\"572.7\" y=\"203.1074\">trans</text><line style=\"stroke: #A80036; stroke-width: 1.5;\" x1=\"530\" x2=\"620\" y1=\"210.9375\" y2=\"210.9375\"/><text fill=\"#000000\" font-family=\"sans-serif\" font-size=\"11\" lengthAdjust=\"spacingAndGlyphs\" textLength=\"80\" x=\"535\" y=\"225.1479\">m: MassValue</text></a><!--MD5=[270fce915f116d4de14055a7c1d9a0f3]\n",
       "class E5--><a href=\"psysml:5c4fc454-9680-413f-bf1a-bdf2f6cc06d5\" target=\"_top\" title=\"psysml:5c4fc454-9680-413f-bf1a-bdf2f6cc06d5\" xlink:actuate=\"onRequest\" xlink:href=\"psysml:5c4fc454-9680-413f-bf1a-bdf2f6cc06d5\" xlink:show=\"new\" xlink:title=\"psysml:5c4fc454-9680-413f-bf1a-bdf2f6cc06d5\" xlink:type=\"simple\"><rect fill=\"#FEFECE\" filter=\"url(#fgp918bpzd5xx)\" height=\"45.9375\" id=\"E5\" style=\"stroke: #A80036; stroke-width: 1.5;\" width=\"134\" x=\"133\" y=\"179.5\"/><ellipse cx=\"148\" cy=\"198.4688\" fill=\"#A52A2A\" rx=\"11\" ry=\"11\" style=\"stroke: #A80036; stroke-width: 1.0;\"/><path d=\"M147.5938,194.2813 L147.5938,202.2656 L148.25,202.2656 Q149.6875,202.2656 150.2969,201.3594 Q150.9219,200.4375 150.9219,198.2656 Q150.9219,196.0938 150.2969,195.1875 Q149.6875,194.2813 148.25,194.2813 L147.5938,194.2813 Z M145.1406,192.0781 L147.7656,192.0781 Q150.7969,192.0781 152.125,193.5313 Q153.4688,194.9688 153.4688,198.2656 Q153.4688,201.5625 152.125,203.0156 Q150.7969,204.4688 147.7656,204.4688 L145.1406,204.4688 L145.1406,192.0781 Z \"/><text fill=\"#000000\" font-family=\"sans-serif\" font-size=\"12\" font-style=\"italic\" lengthAdjust=\"spacingAndGlyphs\" textLength=\"106\" x=\"160\" y=\"195.6387\">«calculation def»</text><text fill=\"#000000\" font-family=\"sans-serif\" font-size=\"12\" lengthAdjust=\"spacingAndGlyphs\" textLength=\"59\" x=\"183.5\" y=\"209.6074\">MassSum</text><line style=\"stroke: #A80036; stroke-width: 1.5;\" x1=\"134\" x2=\"266\" y1=\"217.4375\" y2=\"217.4375\"/></a><!--MD5=[60a26617385b1d2d0262a64233df1f8d]\n",
       "class E6--><a href=\"psysml:20e483d0-a5a0-4777-bc7f-caa19ca2a7e0\" target=\"_top\" title=\"psysml:20e483d0-a5a0-4777-bc7f-caa19ca2a7e0\" xlink:actuate=\"onRequest\" xlink:href=\"psysml:20e483d0-a5a0-4777-bc7f-caa19ca2a7e0\" xlink:show=\"new\" xlink:title=\"psysml:20e483d0-a5a0-4777-bc7f-caa19ca2a7e0\" xlink:type=\"simple\"><rect fill=\"#FEFECE\" filter=\"url(#fgp918bpzd5xx)\" height=\"45.9375\" id=\"E6\" rx=\"10\" ry=\"10\" style=\"stroke: #A80036; stroke-width: 1.5;\" width=\"117\" x=\"376.5\" y=\"54\"/><ellipse cx=\"391.5\" cy=\"72.9688\" fill=\"#FFA500\" rx=\"11\" ry=\"11\" style=\"stroke: #A80036; stroke-width: 1.0;\"/><path d=\"M387.375,74.8906 L387.375,67.0781 L389.8281,67.0781 L389.8281,75.5156 Q389.8281,76.4375 390.2969,76.9688 Q390.7813,77.5 391.6094,77.5 Q392.4531,77.5 392.9219,76.9688 Q393.3906,76.4375 393.3906,75.5156 L393.3906,67.0781 L395.8438,67.0781 L395.8438,74.8906 Q395.8438,77.4219 394.8438,78.5625 Q393.8438,79.7031 391.6094,79.7031 Q389.3906,79.7031 388.375,78.5625 Q387.375,77.4219 387.375,74.8906 Z \"/><text fill=\"#000000\" font-family=\"sans-serif\" font-size=\"12\" font-style=\"italic\" lengthAdjust=\"spacingAndGlyphs\" textLength=\"82\" x=\"407\" y=\"70.1387\">«calculation»</text><text fill=\"#000000\" font-family=\"sans-serif\" font-size=\"12\" lengthAdjust=\"spacingAndGlyphs\" textLength=\"85\" x=\"405.5\" y=\"84.1074\">ms: MassSum</text><line style=\"stroke: #A80036; stroke-width: 1.5;\" x1=\"377.5\" x2=\"492.5\" y1=\"91.9375\" y2=\"91.9375\"/></a><!--MD5=[2156ba9850f5573cc1fc38a6a4b2f02b]\n",
       "class E7--><a href=\"psysml:83ce5d61-6771-4884-a571-d4d08f340672\" target=\"_top\" title=\"psysml:83ce5d61-6771-4884-a571-d4d08f340672\" xlink:actuate=\"onRequest\" xlink:href=\"psysml:83ce5d61-6771-4884-a571-d4d08f340672\" xlink:show=\"new\" xlink:title=\"psysml:83ce5d61-6771-4884-a571-d4d08f340672\" xlink:type=\"simple\"><rect fill=\"#FEFECE\" filter=\"url(#fgp918bpzd5xx)\" height=\"71.5469\" id=\"E7\" style=\"stroke: #A80036; stroke-width: 1.5;\" width=\"148\" x=\"193\" y=\"41\"/><ellipse cx=\"214.3\" cy=\"59.9688\" fill=\"#A52A2A\" rx=\"11\" ry=\"11\" style=\"stroke: #A80036; stroke-width: 1.0;\"/><path d=\"M213.8938,55.7813 L213.8938,63.7656 L214.55,63.7656 Q215.9875,63.7656 216.5969,62.8594 Q217.2219,61.9375 217.2219,59.7656 Q217.2219,57.5938 216.5969,56.6875 Q215.9875,55.7813 214.55,55.7813 L213.8938,55.7813 Z M211.4406,53.5781 L214.0656,53.5781 Q217.0969,53.5781 218.425,55.0313 Q219.7688,56.4688 219.7688,59.7656 Q219.7688,63.0625 218.425,64.5156 Q217.0969,65.9688 214.0656,65.9688 L211.4406,65.9688 L211.4406,53.5781 Z \"/><text fill=\"#000000\" font-family=\"sans-serif\" font-size=\"12\" font-style=\"italic\" lengthAdjust=\"spacingAndGlyphs\" textLength=\"106\" x=\"227.7\" y=\"57.1387\">«calculation def»</text><text fill=\"#000000\" font-family=\"sans-serif\" font-size=\"12\" lengthAdjust=\"spacingAndGlyphs\" textLength=\"67\" x=\"247.2\" y=\"71.1074\">MassSum1</text><line style=\"stroke: #A80036; stroke-width: 1.5;\" x1=\"194\" x2=\"340\" y1=\"78.9375\" y2=\"78.9375\"/><text fill=\"#000000\" font-family=\"sans-serif\" font-size=\"11\" lengthAdjust=\"spacingAndGlyphs\" textLength=\"136\" x=\"199\" y=\"93.1479\">partMasses: MassValue</text><text fill=\"#000000\" font-family=\"sans-serif\" font-size=\"11\" lengthAdjust=\"spacingAndGlyphs\" textLength=\"124\" x=\"199\" y=\"105.9526\">totalMass: MassValue</text></a><!--MD5=[b9389687b975829384b498ac4b7476b2]\n",
       "class E8--><a href=\"psysml:3aa3b647-0159-4a96-9fb7-94bd79c90754\" target=\"_top\" title=\"psysml:3aa3b647-0159-4a96-9fb7-94bd79c90754\" xlink:actuate=\"onRequest\" xlink:href=\"psysml:3aa3b647-0159-4a96-9fb7-94bd79c90754\" xlink:show=\"new\" xlink:title=\"psysml:3aa3b647-0159-4a96-9fb7-94bd79c90754\" xlink:type=\"simple\"><rect fill=\"#FEFECE\" filter=\"url(#fgp918bpzd5xx)\" height=\"71.5469\" id=\"E8\" rx=\"10\" ry=\"10\" style=\"stroke: #A80036; stroke-width: 1.5;\" width=\"125\" x=\"32.5\" y=\"41\"/><ellipse cx=\"47.5\" cy=\"59.9688\" fill=\"#FFA500\" rx=\"11\" ry=\"11\" style=\"stroke: #A80036; stroke-width: 1.0;\"/><path d=\"M43.375,61.8906 L43.375,54.0781 L45.8281,54.0781 L45.8281,62.5156 Q45.8281,63.4375 46.2969,63.9688 Q46.7813,64.5 47.6094,64.5 Q48.4531,64.5 48.9219,63.9688 Q49.3906,63.4375 49.3906,62.5156 L49.3906,54.0781 L51.8438,54.0781 L51.8438,61.8906 Q51.8438,64.4219 50.8438,65.5625 Q49.8438,66.7031 47.6094,66.7031 Q45.3906,66.7031 44.375,65.5625 Q43.375,64.4219 43.375,61.8906 Z \"/><text fill=\"#000000\" font-family=\"sans-serif\" font-size=\"12\" font-style=\"italic\" lengthAdjust=\"spacingAndGlyphs\" textLength=\"82\" x=\"67\" y=\"57.1387\">«calculation»</text><text fill=\"#000000\" font-family=\"sans-serif\" font-size=\"12\" lengthAdjust=\"spacingAndGlyphs\" textLength=\"93\" x=\"61.5\" y=\"71.1074\">ms1: MassSum</text><line style=\"stroke: #A80036; stroke-width: 1.5;\" x1=\"33.5\" x2=\"156.5\" y1=\"78.9375\" y2=\"78.9375\"/><text fill=\"#000000\" font-family=\"sans-serif\" font-size=\"11\" lengthAdjust=\"spacingAndGlyphs\" textLength=\"67\" x=\"38.5\" y=\"93.1479\">partMasses</text><text fill=\"#000000\" font-family=\"sans-serif\" font-size=\"11\" lengthAdjust=\"spacingAndGlyphs\" textLength=\"55\" x=\"38.5\" y=\"105.9526\">totalMass</text></a><!--MD5=[209b3feb70ccb6233bfe1053d122c12c]\n",
       "reverse link E2 to E3--><a href=\"psysml:6f0477df-1982-4bef-bc4b-f3a5f459ca50\" target=\"_top\" title=\"psysml:6f0477df-1982-4bef-bc4b-f3a5f459ca50\" xlink:actuate=\"onRequest\" xlink:href=\"psysml:6f0477df-1982-4bef-bc4b-f3a5f459ca50\" xlink:show=\"new\" xlink:title=\"psysml:6f0477df-1982-4bef-bc4b-f3a5f459ca50\" xlink:type=\"simple\"><path d=\"M536.08,115.85 C517.3,134.11 495.13,155.66 477.74,172.58 \" fill=\"none\" id=\"E2&lt;-E3\" style=\"stroke: #A80036; stroke-width: 1.0;\"/><polygon fill=\"#A80036\" points=\"545.54,106.64,538.4499,107.9553,536.937,115.0059,544.0271,113.6906,545.54,106.64\" style=\"stroke: #A80036; stroke-width: 1.0;\"/></a><!--MD5=[9618e71518536f8baf3342ff6fdab317]\n",
       "reverse link E2 to E4--><a href=\"psysml:39f29039-e97f-4cd7-a6e4-24de87290ff7\" target=\"_top\" title=\"psysml:39f29039-e97f-4cd7-a6e4-24de87290ff7\" xlink:actuate=\"onRequest\" xlink:href=\"psysml:39f29039-e97f-4cd7-a6e4-24de87290ff7\" xlink:show=\"new\" xlink:title=\"psysml:39f29039-e97f-4cd7-a6e4-24de87290ff7\" xlink:type=\"simple\"><path d=\"M575,119.66 C575,137.05 575,156.83 575,172.58 \" fill=\"none\" id=\"E2&lt;-E4\" style=\"stroke: #A80036; stroke-width: 1.0;\"/><polygon fill=\"#A80036\" points=\"575,106.64,571,112.64,575,118.64,579,112.64,575,106.64\" style=\"stroke: #A80036; stroke-width: 1.0;\"/></a><!--MD5=[25b190c987b1e74e5126d372c5a73af1]\n",
       "link E6 to E5--><a href=\"psysml:087e1e8b-9f76-403f-b1f3-15ea1e5b2649\" target=\"_top\" title=\"psysml:087e1e8b-9f76-403f-b1f3-15ea1e5b2649\" xlink:actuate=\"onRequest\" xlink:href=\"psysml:087e1e8b-9f76-403f-b1f3-15ea1e5b2649\" xlink:show=\"new\" xlink:title=\"psysml:087e1e8b-9f76-403f-b1f3-15ea1e5b2649\" xlink:type=\"simple\"><path d=\"M392.99,100.08 C355.92,119.56 301.49,148.17 259.87,170.04 \" fill=\"none\" id=\"E6-&gt;E5\" style=\"stroke: #A80036; stroke-width: 1.0;\"/><polygon fill=\"#FFFFFF\" points=\"242.05,179.4,255.6092,164.3618,262.1247,176.7533,242.05,179.4\" style=\"stroke: #A80036; stroke-width: 1.0;\"/><ellipse cx=\"261.5851\" cy=\"163.4793\" fill=\"#A80036\" rx=\"2\" ry=\"2\" style=\"stroke: #A80036; stroke-width: 1.0;\"/><ellipse cx=\"266.239\" cy=\"172.3303\" fill=\"#A80036\" rx=\"2\" ry=\"2\" style=\"stroke: #A80036; stroke-width: 1.0;\"/></a><!--MD5=[1ccb2481ffa92f8d51a74ee30c51832a]\n",
       "link E8 to E5--><a href=\"psysml:a6dd9655-fa53-42fd-8b92-db635a2ece9b\" target=\"_top\" title=\"psysml:a6dd9655-fa53-42fd-8b92-db635a2ece9b\" xlink:actuate=\"onRequest\" xlink:href=\"psysml:a6dd9655-fa53-42fd-8b92-db635a2ece9b\" xlink:show=\"new\" xlink:title=\"psysml:a6dd9655-fa53-42fd-8b92-db635a2ece9b\" xlink:type=\"simple\"><path d=\"M124.81,113.06 C138.29,128.92 154.24,147.68 167.97,163.83 \" fill=\"none\" id=\"E8-&gt;E5\" style=\"stroke: #A80036; stroke-width: 1.0;\"/><polygon fill=\"#FFFFFF\" points=\"181.04,179.2,163.4008,169.2572,174.0677,160.1898,181.04,179.2\" style=\"stroke: #A80036; stroke-width: 1.0;\"/><ellipse cx=\"161.233\" cy=\"163.6189\" fill=\"#A80036\" rx=\"2\" ry=\"2\" style=\"stroke: #A80036; stroke-width: 1.0;\"/><ellipse cx=\"168.8522\" cy=\"157.1422\" fill=\"#A80036\" rx=\"2\" ry=\"2\" style=\"stroke: #A80036; stroke-width: 1.0;\"/></a><!--MD5=[2b2c06f3a6195bdbc11a264c6c746426]\n",
       "@startuml\r\n",
       " \r\n",
       "package \"CalculationExample\" as E1  [[psysml:279b101a-ad7c-43dd-8a07-da5fe5802bed ]]  {\r\n",
       "comp usage \"vehicle\" as E2  << (P,limegreen) part>> [[psysml:3dfd6fc9-2012-44ec-8abc-b458a2efa8ee ]] {\r\n",
       "m: MassValue\r\n",
       "}\r\n",
       "comp usage \"eng\" as E3  << (P,limegreen) part>> [[psysml:6f0477df-1982-4bef-bc4b-f3a5f459ca50 ]] {\r\n",
       "m: MassValue\r\n",
       "}\r\n",
       "comp usage \"trans\" as E4  << (P,limegreen) part>> [[psysml:39f29039-e97f-4cd7-a6e4-24de87290ff7 ]] {\r\n",
       "m: MassValue\r\n",
       "}\r\n",
       "comp def \"MassSum\" as E5  <<(D,brown)calculation def>> [[psysml:5c4fc454-9680-413f-bf1a-bdf2f6cc06d5 ]] {\r\n",
       "}\r\n",
       "comp usage \"ms: MassSum\" as E6  <<(U,orange)calculation>> [[psysml:20e483d0-a5a0-4777-bc7f-caa19ca2a7e0 ]] {\r\n",
       "}\r\n",
       "comp def \"MassSum1\" as E7  <<(D,brown)calculation def>> [[psysml:83ce5d61-6771-4884-a571-d4d08f340672 ]] {\r\n",
       "partMasses: MassValue\r\n",
       "totalMass: MassValue\r\n",
       "}\r\n",
       "comp usage \"ms1: MassSum\" as E8  <<(U,orange)calculation>> [[psysml:3aa3b647-0159-4a96-9fb7-94bd79c90754 ]] {\r\n",
       "partMasses\r\n",
       "totalMass\r\n",
       "}\r\n",
       "E2 *- - E3 [[psysml:6f0477df-1982-4bef-bc4b-f3a5f459ca50 ]] \r\n",
       "E2 *- - E4 [[psysml:39f29039-e97f-4cd7-a6e4-24de87290ff7 ]] \r\n",
       "E6 - -:|> E5 [[psysml:087e1e8b-9f76-403f-b1f3-15ea1e5b2649 ]] \r\n",
       "E8 - -:|> E5 [[psysml:a6dd9655-fa53-42fd-8b92-db635a2ece9b ]] \r\n",
       "}\r\n",
       "@enduml\r\n",
       "\n",
       "PlantUML version 1.2020.13(Sat Jun 13 12:26:38 UTC 2020)\n",
       "(EPL source distribution)\n",
       "Java Runtime: OpenJDK Runtime Environment\n",
       "JVM: OpenJDK 64-Bit Server VM\n",
       "Default Encoding: UTF-8\n",
       "Language: en\n",
       "Country: null\n",
       "--></g></svg>"
      ]
     },
     "execution_count": 35,
     "metadata": {},
     "output_type": "execute_result"
    }
   ],
   "source": [
    "%viz --style=\"PLANTUML\" --view=\"Sequence\" \"CalculationExample\""
   ]
  },
  {
   "cell_type": "code",
   "execution_count": 36,
   "id": "dependent-customs",
   "metadata": {
    "execution": {
     "iopub.execute_input": "2021-03-26T13:05:07.646833Z",
     "iopub.status.busy": "2021-03-26T13:05:07.645942Z",
     "iopub.status.idle": "2021-03-26T13:05:07.707889Z",
     "shell.execute_reply": "2021-03-26T13:05:07.707524Z"
    }
   },
   "outputs": [
    {
     "data": {
      "image/svg+xml": [
       "<?xml version=\"1.0\" encoding=\"UTF-8\" standalone=\"no\"?><svg xmlns=\"http://www.w3.org/2000/svg\" xmlns:xlink=\"http://www.w3.org/1999/xlink\" contentScriptType=\"application/ecmascript\" contentStyleType=\"text/css\" height=\"408px\" preserveAspectRatio=\"none\" style=\"width:829px;height:408px;\" version=\"1.1\" viewBox=\"0 0 829 408\" width=\"829px\" zoomAndPan=\"magnify\"><defs><filter height=\"300%\" id=\"f10cxn9hdek807\" width=\"300%\" x=\"-1\" y=\"-1\"><feGaussianBlur result=\"blurOut\" stdDeviation=\"2.0\"/><feColorMatrix in=\"blurOut\" result=\"blurOut2\" type=\"matrix\" values=\"0 0 0 0 0 0 0 0 0 0 0 0 0 0 0 0 0 0 .4 0\"/><feOffset dx=\"4.0\" dy=\"4.0\" in=\"blurOut2\" result=\"blurOut3\"/><feBlend in=\"SourceGraphic\" in2=\"blurOut3\" mode=\"normal\"/></filter></defs><g><!--MD5=[fbc87193dbaf4d95561dea2c320d4a47]\n",
       "cluster E1--><a href=\"psysml:279b101a-ad7c-43dd-8a07-da5fe5802bed\" target=\"_top\" title=\"psysml:279b101a-ad7c-43dd-8a07-da5fe5802bed\" xlink:actuate=\"onRequest\" xlink:href=\"psysml:279b101a-ad7c-43dd-8a07-da5fe5802bed\" xlink:show=\"new\" xlink:title=\"psysml:279b101a-ad7c-43dd-8a07-da5fe5802bed\" xlink:type=\"simple\"><polygon fill=\"#FFFFFF\" filter=\"url(#f10cxn9hdek807)\" points=\"16,6,173,6,180,28.2969,807,28.2969,807,396.72,16,396.72,16,6\" style=\"stroke: #000000; stroke-width: 1.5;\"/><line style=\"stroke: #000000; stroke-width: 1.5;\" x1=\"16\" x2=\"180\" y1=\"28.2969\" y2=\"28.2969\"/><text fill=\"#000000\" font-family=\"sans-serif\" font-size=\"14\" font-weight=\"bold\" lengthAdjust=\"spacingAndGlyphs\" textLength=\"151\" x=\"20\" y=\"20.9951\">CalculationExample</text></a><!--MD5=[de5ec2e2e8f62f467e546659f5068c88]\n",
       "cluster E5--><a href=\"psysml:5c4fc454-9680-413f-bf1a-bdf2f6cc06d5\" target=\"_top\" title=\"psysml:5c4fc454-9680-413f-bf1a-bdf2f6cc06d5\" xlink:actuate=\"onRequest\" xlink:href=\"psysml:5c4fc454-9680-413f-bf1a-bdf2f6cc06d5\" xlink:show=\"new\" xlink:title=\"psysml:5c4fc454-9680-413f-bf1a-bdf2f6cc06d5\" xlink:type=\"simple\"><rect fill=\"#FFFFFF\" filter=\"url(#f10cxn9hdek807)\" height=\"281.72\" id=\"E5\" style=\"stroke: #A80036; stroke-width: 1.5;\" width=\"128\" x=\"181\" y=\"77\"/><rect fill=\"#FEFECE\" height=\"37.9375\" style=\"stroke: #A80036; stroke-width: 1.5;\" width=\"128\" x=\"181\" y=\"77\"/><text fill=\"#000000\" font-family=\"sans-serif\" font-size=\"12\" font-style=\"italic\" lengthAdjust=\"spacingAndGlyphs\" textLength=\"106\" x=\"192\" y=\"93.1387\">«calculation def»</text><text fill=\"#000000\" font-family=\"sans-serif\" font-size=\"12\" lengthAdjust=\"spacingAndGlyphs\" textLength=\"59\" x=\"215.5\" y=\"107.1074\">MassSum</text></a><!--MD5=[917b9dd0c7eca3ee5f47219d1a84c0ad]\n",
       "cluster E11--><a href=\"psysml:83ce5d61-6771-4884-a571-d4d08f340672\" target=\"_top\" title=\"psysml:83ce5d61-6771-4884-a571-d4d08f340672\" xlink:actuate=\"onRequest\" xlink:href=\"psysml:83ce5d61-6771-4884-a571-d4d08f340672\" xlink:show=\"new\" xlink:title=\"psysml:83ce5d61-6771-4884-a571-d4d08f340672\" xlink:type=\"simple\"><rect fill=\"#FFFFFF\" filter=\"url(#f10cxn9hdek807)\" height=\"281.72\" id=\"E11\" style=\"stroke: #A80036; stroke-width: 1.5;\" width=\"166\" x=\"625\" y=\"77\"/><rect fill=\"#FEFECE\" height=\"37.9375\" style=\"stroke: #A80036; stroke-width: 1.5;\" width=\"166\" x=\"625\" y=\"77\"/><text fill=\"#000000\" font-family=\"sans-serif\" font-size=\"12\" font-style=\"italic\" lengthAdjust=\"spacingAndGlyphs\" textLength=\"106\" x=\"655\" y=\"93.1387\">«calculation def»</text><text fill=\"#000000\" font-family=\"sans-serif\" font-size=\"12\" lengthAdjust=\"spacingAndGlyphs\" textLength=\"67\" x=\"674.5\" y=\"107.1074\">MassSum1</text></a><!--MD5=[b4997ac47864f28c2f74865a473b2911]\n",
       "class E2--><a href=\"psysml:3dfd6fc9-2012-44ec-8abc-b458a2efa8ee\" target=\"_top\" title=\"psysml:3dfd6fc9-2012-44ec-8abc-b458a2efa8ee\" xlink:actuate=\"onRequest\" xlink:href=\"psysml:3dfd6fc9-2012-44ec-8abc-b458a2efa8ee\" xlink:show=\"new\" xlink:title=\"psysml:3dfd6fc9-2012-44ec-8abc-b458a2efa8ee\" xlink:type=\"simple\"><rect fill=\"#FEFECE\" filter=\"url(#f10cxn9hdek807)\" height=\"58.7422\" id=\"E2\" rx=\"10\" ry=\"10\" style=\"stroke: #A80036; stroke-width: 1.5;\" width=\"92\" x=\"525\" y=\"47.5\"/><ellipse cx=\"547.65\" cy=\"66.4688\" fill=\"#32CD32\" rx=\"11\" ry=\"11\" style=\"stroke: #A80036; stroke-width: 1.0;\"/><path d=\"M547.4469,62.1406 L547.4469,65.7656 L548.4469,65.7656 Q549.65,65.7656 550.1344,65.3594 Q550.6188,64.9531 550.6188,63.9531 Q550.6188,62.9531 550.1344,62.5469 Q549.65,62.1406 548.4469,62.1406 L547.4469,62.1406 Z M544.9938,60.0781 L548.3531,60.0781 Q550.9156,60.0781 552.0406,61 Q553.1656,61.9063 553.1656,63.9531 Q553.1656,66 552.0406,66.9219 Q550.9156,67.8281 548.3531,67.8281 L547.4469,67.8281 L547.4469,72.4688 L544.9938,72.4688 L544.9938,60.0781 Z \"/><text fill=\"#000000\" font-family=\"sans-serif\" font-size=\"12\" font-style=\"italic\" lengthAdjust=\"spacingAndGlyphs\" textLength=\"40\" x=\"564.85\" y=\"63.6387\">«part»</text><text fill=\"#000000\" font-family=\"sans-serif\" font-size=\"12\" lengthAdjust=\"spacingAndGlyphs\" textLength=\"43\" x=\"563.35\" y=\"77.6074\">vehicle</text><line style=\"stroke: #A80036; stroke-width: 1.5;\" x1=\"526\" x2=\"616\" y1=\"85.4375\" y2=\"85.4375\"/><text fill=\"#000000\" font-family=\"sans-serif\" font-size=\"11\" lengthAdjust=\"spacingAndGlyphs\" textLength=\"80\" x=\"531\" y=\"99.6479\">m: MassValue</text></a><!--MD5=[09b614a08d8cba4a07c9adeb5e0fee81]\n",
       "class E3--><a href=\"psysml:6f0477df-1982-4bef-bc4b-f3a5f459ca50\" target=\"_top\" title=\"psysml:6f0477df-1982-4bef-bc4b-f3a5f459ca50\" xlink:actuate=\"onRequest\" xlink:href=\"psysml:6f0477df-1982-4bef-bc4b-f3a5f459ca50\" xlink:show=\"new\" xlink:title=\"psysml:6f0477df-1982-4bef-bc4b-f3a5f459ca50\" xlink:type=\"simple\"><rect fill=\"#FEFECE\" filter=\"url(#f10cxn9hdek807)\" height=\"58.7422\" id=\"E3\" rx=\"10\" ry=\"10\" style=\"stroke: #A80036; stroke-width: 1.5;\" width=\"92\" x=\"387\" y=\"173\"/><ellipse cx=\"412.8\" cy=\"191.9688\" fill=\"#32CD32\" rx=\"11\" ry=\"11\" style=\"stroke: #A80036; stroke-width: 1.0;\"/><path d=\"M412.5969,187.6406 L412.5969,191.2656 L413.5969,191.2656 Q414.8,191.2656 415.2844,190.8594 Q415.7688,190.4531 415.7688,189.4531 Q415.7688,188.4531 415.2844,188.0469 Q414.8,187.6406 413.5969,187.6406 L412.5969,187.6406 Z M410.1438,185.5781 L413.5031,185.5781 Q416.0656,185.5781 417.1906,186.5 Q418.3156,187.4063 418.3156,189.4531 Q418.3156,191.5 417.1906,192.4219 Q416.0656,193.3281 413.5031,193.3281 L412.5969,193.3281 L412.5969,197.9688 L410.1438,197.9688 L410.1438,185.5781 Z \"/><text fill=\"#000000\" font-family=\"sans-serif\" font-size=\"12\" font-style=\"italic\" lengthAdjust=\"spacingAndGlyphs\" textLength=\"40\" x=\"427.2\" y=\"189.1387\">«part»</text><text fill=\"#000000\" font-family=\"sans-serif\" font-size=\"12\" lengthAdjust=\"spacingAndGlyphs\" textLength=\"24\" x=\"435.2\" y=\"203.1074\">eng</text><line style=\"stroke: #A80036; stroke-width: 1.5;\" x1=\"388\" x2=\"478\" y1=\"210.9375\" y2=\"210.9375\"/><text fill=\"#000000\" font-family=\"sans-serif\" font-size=\"11\" lengthAdjust=\"spacingAndGlyphs\" textLength=\"80\" x=\"393\" y=\"225.1479\">m: MassValue</text></a><!--MD5=[ebbe1d658d1005bcc118a6aa81145e00]\n",
       "class E4--><a href=\"psysml:39f29039-e97f-4cd7-a6e4-24de87290ff7\" target=\"_top\" title=\"psysml:39f29039-e97f-4cd7-a6e4-24de87290ff7\" xlink:actuate=\"onRequest\" xlink:href=\"psysml:39f29039-e97f-4cd7-a6e4-24de87290ff7\" xlink:show=\"new\" xlink:title=\"psysml:39f29039-e97f-4cd7-a6e4-24de87290ff7\" xlink:type=\"simple\"><rect fill=\"#FEFECE\" filter=\"url(#f10cxn9hdek807)\" height=\"58.7422\" id=\"E4\" rx=\"10\" ry=\"10\" style=\"stroke: #A80036; stroke-width: 1.5;\" width=\"92\" x=\"514\" y=\"173\"/><ellipse cx=\"539.8\" cy=\"191.9688\" fill=\"#32CD32\" rx=\"11\" ry=\"11\" style=\"stroke: #A80036; stroke-width: 1.0;\"/><path d=\"M539.5969,187.6406 L539.5969,191.2656 L540.5969,191.2656 Q541.8,191.2656 542.2844,190.8594 Q542.7688,190.4531 542.7688,189.4531 Q542.7688,188.4531 542.2844,188.0469 Q541.8,187.6406 540.5969,187.6406 L539.5969,187.6406 Z M537.1438,185.5781 L540.5031,185.5781 Q543.0656,185.5781 544.1906,186.5 Q545.3156,187.4063 545.3156,189.4531 Q545.3156,191.5 544.1906,192.4219 Q543.0656,193.3281 540.5031,193.3281 L539.5969,193.3281 L539.5969,197.9688 L537.1438,197.9688 L537.1438,185.5781 Z \"/><text fill=\"#000000\" font-family=\"sans-serif\" font-size=\"12\" font-style=\"italic\" lengthAdjust=\"spacingAndGlyphs\" textLength=\"40\" x=\"554.2\" y=\"189.1387\">«part»</text><text fill=\"#000000\" font-family=\"sans-serif\" font-size=\"12\" lengthAdjust=\"spacingAndGlyphs\" textLength=\"33\" x=\"557.7\" y=\"203.1074\">trans</text><line style=\"stroke: #A80036; stroke-width: 1.5;\" x1=\"515\" x2=\"605\" y1=\"210.9375\" y2=\"210.9375\"/><text fill=\"#000000\" font-family=\"sans-serif\" font-size=\"11\" lengthAdjust=\"spacingAndGlyphs\" textLength=\"80\" x=\"520\" y=\"225.1479\">m: MassValue</text></a><!--MD5=[96f4274e9e20536e775497830990834d]\n",
       "class E10--><a href=\"psysml:20e483d0-a5a0-4777-bc7f-caa19ca2a7e0\" target=\"_top\" title=\"psysml:20e483d0-a5a0-4777-bc7f-caa19ca2a7e0\" xlink:actuate=\"onRequest\" xlink:href=\"psysml:20e483d0-a5a0-4777-bc7f-caa19ca2a7e0\" xlink:show=\"new\" xlink:title=\"psysml:20e483d0-a5a0-4777-bc7f-caa19ca2a7e0\" xlink:type=\"simple\"><rect fill=\"#FEFECE\" filter=\"url(#f10cxn9hdek807)\" height=\"45.9375\" id=\"E10\" rx=\"10\" ry=\"10\" style=\"stroke: #A80036; stroke-width: 1.5;\" width=\"117\" x=\"372.5\" y=\"54\"/><ellipse cx=\"387.5\" cy=\"72.9688\" fill=\"#FFA500\" rx=\"11\" ry=\"11\" style=\"stroke: #A80036; stroke-width: 1.0;\"/><path d=\"M383.375,74.8906 L383.375,67.0781 L385.8281,67.0781 L385.8281,75.5156 Q385.8281,76.4375 386.2969,76.9688 Q386.7813,77.5 387.6094,77.5 Q388.4531,77.5 388.9219,76.9688 Q389.3906,76.4375 389.3906,75.5156 L389.3906,67.0781 L391.8438,67.0781 L391.8438,74.8906 Q391.8438,77.4219 390.8438,78.5625 Q389.8438,79.7031 387.6094,79.7031 Q385.3906,79.7031 384.375,78.5625 Q383.375,77.4219 383.375,74.8906 Z \"/><text fill=\"#000000\" font-family=\"sans-serif\" font-size=\"12\" font-style=\"italic\" lengthAdjust=\"spacingAndGlyphs\" textLength=\"82\" x=\"403\" y=\"70.1387\">«calculation»</text><text fill=\"#000000\" font-family=\"sans-serif\" font-size=\"12\" lengthAdjust=\"spacingAndGlyphs\" textLength=\"85\" x=\"401.5\" y=\"84.1074\">ms: MassSum</text><line style=\"stroke: #A80036; stroke-width: 1.5;\" x1=\"373.5\" x2=\"488.5\" y1=\"91.9375\" y2=\"91.9375\"/></a><!--MD5=[bee11217b2f71d958a27249dc326068c]\n",
       "class E14--><a href=\"psysml:3aa3b647-0159-4a96-9fb7-94bd79c90754\" target=\"_top\" title=\"psysml:3aa3b647-0159-4a96-9fb7-94bd79c90754\" xlink:actuate=\"onRequest\" xlink:href=\"psysml:3aa3b647-0159-4a96-9fb7-94bd79c90754\" xlink:show=\"new\" xlink:title=\"psysml:3aa3b647-0159-4a96-9fb7-94bd79c90754\" xlink:type=\"simple\"><rect fill=\"#FEFECE\" filter=\"url(#f10cxn9hdek807)\" height=\"71.5469\" id=\"E14\" rx=\"10\" ry=\"10\" style=\"stroke: #A80036; stroke-width: 1.5;\" width=\"125\" x=\"32.5\" y=\"41\"/><ellipse cx=\"47.5\" cy=\"59.9688\" fill=\"#FFA500\" rx=\"11\" ry=\"11\" style=\"stroke: #A80036; stroke-width: 1.0;\"/><path d=\"M43.375,61.8906 L43.375,54.0781 L45.8281,54.0781 L45.8281,62.5156 Q45.8281,63.4375 46.2969,63.9688 Q46.7813,64.5 47.6094,64.5 Q48.4531,64.5 48.9219,63.9688 Q49.3906,63.4375 49.3906,62.5156 L49.3906,54.0781 L51.8438,54.0781 L51.8438,61.8906 Q51.8438,64.4219 50.8438,65.5625 Q49.8438,66.7031 47.6094,66.7031 Q45.3906,66.7031 44.375,65.5625 Q43.375,64.4219 43.375,61.8906 Z \"/><text fill=\"#000000\" font-family=\"sans-serif\" font-size=\"12\" font-style=\"italic\" lengthAdjust=\"spacingAndGlyphs\" textLength=\"82\" x=\"67\" y=\"57.1387\">«calculation»</text><text fill=\"#000000\" font-family=\"sans-serif\" font-size=\"12\" lengthAdjust=\"spacingAndGlyphs\" textLength=\"93\" x=\"61.5\" y=\"71.1074\">ms1: MassSum</text><line style=\"stroke: #A80036; stroke-width: 1.5;\" x1=\"33.5\" x2=\"156.5\" y1=\"78.9375\" y2=\"78.9375\"/><text fill=\"#000000\" font-family=\"sans-serif\" font-size=\"11\" lengthAdjust=\"spacingAndGlyphs\" textLength=\"67\" x=\"38.5\" y=\"93.1479\">partMasses</text><text fill=\"#000000\" font-family=\"sans-serif\" font-size=\"11\" lengthAdjust=\"spacingAndGlyphs\" textLength=\"55\" x=\"38.5\" y=\"105.9526\">totalMass</text></a><text fill=\"#000000\" font-family=\"sans-serif\" font-size=\"14\" lengthAdjust=\"spacingAndGlyphs\" textLength=\"80\" x=\"159\" y=\"55.6982\">partMasses</text><rect fill=\"#A80036\" height=\"12\" style=\"stroke: #FEFECE; stroke-width: 1.5;\" width=\"12\" x=\"193\" y=\"71\"/><text fill=\"#000000\" font-family=\"sans-serif\" font-size=\"14\" lengthAdjust=\"spacingAndGlyphs\" textLength=\"66\" x=\"203\" y=\"377.7151\">totalMass</text><rect fill=\"#A80036\" height=\"12\" style=\"stroke: #FEFECE; stroke-width: 1.5;\" width=\"12\" x=\"230\" y=\"352.72\"/><text fill=\"#000000\" font-family=\"sans-serif\" font-size=\"14\" lengthAdjust=\"spacingAndGlyphs\" textLength=\"75\" x=\"253.5\" y=\"55.6982\">$collection</text><rect fill=\"#A80036\" height=\"12\" style=\"stroke: #FEFECE; stroke-width: 1.5;\" width=\"12\" x=\"285\" y=\"71\"/><text fill=\"#000000\" font-family=\"sans-serif\" font-size=\"14\" lengthAdjust=\"spacingAndGlyphs\" textLength=\"48\" x=\"259\" y=\"377.7151\">$result</text><rect fill=\"#A80036\" height=\"12\" style=\"stroke: #FEFECE; stroke-width: 1.5;\" width=\"12\" x=\"277\" y=\"352.72\"/><text fill=\"#000000\" font-family=\"sans-serif\" font-size=\"14\" lengthAdjust=\"spacingAndGlyphs\" textLength=\"80\" x=\"668\" y=\"55.6982\">partMasses</text><rect fill=\"#A80036\" height=\"12\" style=\"stroke: #FEFECE; stroke-width: 1.5;\" width=\"12\" x=\"702\" y=\"71\"/><text fill=\"#000000\" font-family=\"sans-serif\" font-size=\"14\" lengthAdjust=\"spacingAndGlyphs\" textLength=\"66\" x=\"675\" y=\"377.7151\">totalMass</text><rect fill=\"#A80036\" height=\"12\" style=\"stroke: #FEFECE; stroke-width: 1.5;\" width=\"12\" x=\"702\" y=\"352.72\"/><!--MD5=[209b3feb70ccb6233bfe1053d122c12c]\n",
       "reverse link E2 to E3--><a href=\"psysml:6f0477df-1982-4bef-bc4b-f3a5f459ca50\" target=\"_top\" title=\"psysml:6f0477df-1982-4bef-bc4b-f3a5f459ca50\" xlink:actuate=\"onRequest\" xlink:href=\"psysml:6f0477df-1982-4bef-bc4b-f3a5f459ca50\" xlink:show=\"new\" xlink:title=\"psysml:6f0477df-1982-4bef-bc4b-f3a5f459ca50\" xlink:type=\"simple\"><path d=\"M529.27,115.35 C508.75,133.71 484.39,155.51 465.31,172.58 \" fill=\"none\" id=\"E2&lt;-E3\" style=\"stroke: #A80036; stroke-width: 1.0;\"/><polygon fill=\"#A80036\" points=\"538.99,106.64,531.8517,107.662,530.0495,114.6442,537.1878,113.6223,538.99,106.64\" style=\"stroke: #A80036; stroke-width: 1.0;\"/></a><!--MD5=[9618e71518536f8baf3342ff6fdab317]\n",
       "reverse link E2 to E4--><a href=\"psysml:39f29039-e97f-4cd7-a6e4-24de87290ff7\" target=\"_top\" title=\"psysml:39f29039-e97f-4cd7-a6e4-24de87290ff7\" xlink:actuate=\"onRequest\" xlink:href=\"psysml:39f29039-e97f-4cd7-a6e4-24de87290ff7\" xlink:show=\"new\" xlink:title=\"psysml:39f29039-e97f-4cd7-a6e4-24de87290ff7\" xlink:type=\"simple\"><path d=\"M567.29,119.66 C565.74,137.05 563.98,156.83 562.58,172.58 \" fill=\"none\" id=\"E2&lt;-E4\" style=\"stroke: #A80036; stroke-width: 1.0;\"/><polygon fill=\"#A80036\" points=\"568.45,106.64,563.9321,112.2604,567.3826,118.5924,571.9004,112.972,568.45,106.64\" style=\"stroke: #A80036; stroke-width: 1.0;\"/></a><!--MD5=[ec5e0a54482b142abcecfe541d624bff]\n",
       "link E10 to E5--><a href=\"psysml:087e1e8b-9f76-403f-b1f3-15ea1e5b2649\" target=\"_top\" title=\"psysml:087e1e8b-9f76-403f-b1f3-15ea1e5b2649\" xlink:actuate=\"onRequest\" xlink:href=\"psysml:087e1e8b-9f76-403f-b1f3-15ea1e5b2649\" xlink:show=\"new\" xlink:title=\"psysml:087e1e8b-9f76-403f-b1f3-15ea1e5b2649\" xlink:type=\"simple\"><path d=\"M401.32,100.08 C384.955,112.255 363.7925,128 343.0438,143.4375 C332.6694,151.1563 322.3984,158.7981 312.8823,165.8784 C311.6928,166.7635 310.5151,167.6397 309.3505,168.5063 \" fill=\"none\" id=\"E10-&gt;E5\" style=\"stroke: #A80036; stroke-width: 1.0;\"/><polygon fill=\"#FFFFFF\" points=\"309.3505,168.5063,320.4154,151.5485,328.7725,162.7806,309.3505,168.5063\" style=\"stroke: #A80036; stroke-width: 1.0;\"/><ellipse cx=\"326.1824\" cy=\"149.7506\" fill=\"#A80036\" rx=\"2\" ry=\"2\" style=\"stroke: #A80036; stroke-width: 1.0;\"/><ellipse cx=\"332.1517\" cy=\"157.7735\" fill=\"#A80036\" rx=\"2\" ry=\"2\" style=\"stroke: #A80036; stroke-width: 1.0;\"/></a><!--MD5=[111e5536516ee1ad7d4266f589654f03]\n",
       "link E14 to E5--><a href=\"psysml:a6dd9655-fa53-42fd-8b92-db635a2ece9b\" target=\"_top\" title=\"psysml:a6dd9655-fa53-42fd-8b92-db635a2ece9b\" xlink:actuate=\"onRequest\" xlink:href=\"psysml:a6dd9655-fa53-42fd-8b92-db635a2ece9b\" xlink:show=\"new\" xlink:title=\"psysml:a6dd9655-fa53-42fd-8b92-db635a2ece9b\" xlink:type=\"simple\"><path d=\"M143.26,113.06 C151.3575,118.9425 160.0062,125.2256 168.8184,131.6275 C171.0215,133.228 173.2347,134.8359 175.4522,136.4468 C176.5609,137.2522 177.6706,138.0584 178.7806,138.8648 C179.3357,139.268 179.8907,139.6713 180.4458,140.0745 C180.5846,140.1754 180.7233,140.2762 180.8621,140.377 \" fill=\"none\" id=\"E14-&gt;E5\" style=\"stroke: #A80036; stroke-width: 1.0;\"/><polygon fill=\"#FFFFFF\" points=\"180.8621,140.377,161.376,134.873,169.6046,123.5464,180.8621,140.377\" style=\"stroke: #A80036; stroke-width: 1.0;\"/><ellipse cx=\"157.94\" cy=\"129.9047\" fill=\"#A80036\" rx=\"2\" ry=\"2\" style=\"stroke: #A80036; stroke-width: 1.0;\"/><ellipse cx=\"163.8175\" cy=\"121.8143\" fill=\"#A80036\" rx=\"2\" ry=\"2\" style=\"stroke: #A80036; stroke-width: 1.0;\"/></a><!--MD5=[0f8f1fa19a1b476abd2b0567ce0a8965]\n",
       "@startuml\r\n",
       " \r\n",
       "package \"CalculationExample\" as E1  [[psysml:279b101a-ad7c-43dd-8a07-da5fe5802bed ]]  {\r\n",
       "comp usage \"vehicle\" as E2  << (P,limegreen) part>> [[psysml:3dfd6fc9-2012-44ec-8abc-b458a2efa8ee ]] {\r\n",
       "m: MassValue\r\n",
       "}\r\n",
       "comp usage \"eng\" as E3  << (P,limegreen) part>> [[psysml:6f0477df-1982-4bef-bc4b-f3a5f459ca50 ]] {\r\n",
       "m: MassValue\r\n",
       "}\r\n",
       "comp usage \"trans\" as E4  << (P,limegreen) part>> [[psysml:39f29039-e97f-4cd7-a6e4-24de87290ff7 ]] {\r\n",
       "m: MassValue\r\n",
       "}\r\n",
       "rec def \"MassSum\" as E5  <<(D,brown)calculation def>> [[psysml:5c4fc454-9680-413f-bf1a-bdf2f6cc06d5 ]] {\r\n",
       "portin \"partMasses\" as E6  [[psysml:57eaefe4-a57c-41fa-a944-033dc3e4df4e ]] \r\n",
       "portout \"totalMass\" as E7  [[psysml:35e88aae-ee13-4c55-bc31-272528607619 ]] \r\n",
       "portin \"$collection\" as E8  [[psysml:0e9b074a-52f0-467d-9ed6-1e247226bb71 ]] \r\n",
       "portout \"$result\" as E9  [[psysml:66242f20-bf9b-4b2d-900e-be3ce4c10d7e ]] \r\n",
       "}\r\n",
       "\r\n",
       "comp usage \"ms: MassSum\" as E10  <<(U,orange)calculation>> [[psysml:20e483d0-a5a0-4777-bc7f-caa19ca2a7e0 ]] {\r\n",
       "}\r\n",
       "rec def \"MassSum1\" as E11  <<(D,brown)calculation def>> [[psysml:83ce5d61-6771-4884-a571-d4d08f340672 ]] {\r\n",
       "portin \"partMasses\" as E12  [[psysml:0924d9a5-fc11-4345-935d-e5ff08c51a6a ]] \r\n",
       "portout \"totalMass\" as E13  [[psysml:b7c67a6a-5db6-4529-b3d9-f9fb47dc5f0c ]] \r\n",
       "}\r\n",
       "\r\n",
       "comp usage \"ms1: MassSum\" as E14  <<(U,orange)calculation>> [[psysml:3aa3b647-0159-4a96-9fb7-94bd79c90754 ]] {\r\n",
       "partMasses\r\n",
       "totalMass\r\n",
       "}\r\n",
       "E2 *- - E3 [[psysml:6f0477df-1982-4bef-bc4b-f3a5f459ca50 ]] \r\n",
       "E2 *- - E4 [[psysml:39f29039-e97f-4cd7-a6e4-24de87290ff7 ]] \r\n",
       "E10 - -:|> E5 [[psysml:087e1e8b-9f76-403f-b1f3-15ea1e5b2649 ]] \r\n",
       "E14 - -:|> E5 [[psysml:a6dd9655-fa53-42fd-8b92-db635a2ece9b ]] \r\n",
       "}\r\n",
       "@enduml\r\n",
       "\n",
       "PlantUML version 1.2020.13(Sat Jun 13 12:26:38 UTC 2020)\n",
       "(EPL source distribution)\n",
       "Java Runtime: OpenJDK Runtime Environment\n",
       "JVM: OpenJDK 64-Bit Server VM\n",
       "Default Encoding: UTF-8\n",
       "Language: en\n",
       "Country: null\n",
       "--></g></svg>"
      ]
     },
     "execution_count": 36,
     "metadata": {},
     "output_type": "execute_result"
    }
   ],
   "source": [
    "%viz --style=\"PLANTUML\" --view=\"MIXED\" \"CalculationExample\""
   ]
  },
  {
   "cell_type": "code",
   "execution_count": 37,
   "id": "cellular-intake",
   "metadata": {
    "execution": {
     "iopub.execute_input": "2021-03-26T13:05:07.759938Z",
     "iopub.status.busy": "2021-03-26T13:05:07.759429Z",
     "iopub.status.idle": "2021-03-26T13:05:07.837963Z",
     "shell.execute_reply": "2021-03-26T13:05:07.836632Z"
    }
   },
   "outputs": [
    {
     "data": {
      "image/svg+xml": [
       "<?xml version=\"1.0\" encoding=\"UTF-8\" standalone=\"no\"?><svg xmlns=\"http://www.w3.org/2000/svg\" xmlns:xlink=\"http://www.w3.org/1999/xlink\" contentScriptType=\"application/ecmascript\" contentStyleType=\"text/css\" height=\"441px\" preserveAspectRatio=\"none\" style=\"width:788px;height:441px;\" version=\"1.1\" viewBox=\"0 0 788 441\" width=\"788px\" zoomAndPan=\"magnify\"><defs/><g><!--MD5=[fbc87193dbaf4d95561dea2c320d4a47]\n",
       "cluster E1--><a href=\"psysml:279b101a-ad7c-43dd-8a07-da5fe5802bed\" target=\"_top\" title=\"psysml:279b101a-ad7c-43dd-8a07-da5fe5802bed\" xlink:actuate=\"onRequest\" xlink:href=\"psysml:279b101a-ad7c-43dd-8a07-da5fe5802bed\" xlink:show=\"new\" xlink:title=\"psysml:279b101a-ad7c-43dd-8a07-da5fe5802bed\" xlink:type=\"simple\"><polygon fill=\"#FFFFFF\" points=\"16,6,173,6,180,28.2969,766,28.2969,766,429.72,16,429.72,16,6\" style=\"stroke: #000000; stroke-width: 1.5;\"/><line style=\"stroke: #000000; stroke-width: 1.5;\" x1=\"16\" x2=\"180\" y1=\"28.2969\" y2=\"28.2969\"/><text fill=\"#000000\" font-family=\"sans-serif\" font-size=\"14\" font-weight=\"bold\" lengthAdjust=\"spacingAndGlyphs\" textLength=\"151\" x=\"20\" y=\"20.9951\">CalculationExample</text></a><!--MD5=[de5ec2e2e8f62f467e546659f5068c88]\n",
       "cluster E5--><a href=\"psysml:5c4fc454-9680-413f-bf1a-bdf2f6cc06d5\" target=\"_top\" title=\"psysml:5c4fc454-9680-413f-bf1a-bdf2f6cc06d5\" xlink:actuate=\"onRequest\" xlink:href=\"psysml:5c4fc454-9680-413f-bf1a-bdf2f6cc06d5\" xlink:show=\"new\" xlink:title=\"psysml:5c4fc454-9680-413f-bf1a-bdf2f6cc06d5\" xlink:type=\"simple\"><rect fill=\"#FFFFFF\" height=\"306.72\" id=\"E5\" style=\"stroke: #383838; stroke-width: 1.5;\" width=\"128\" x=\"155\" y=\"85\"/><rect fill=\"#F8F8F8\" height=\"37.9375\" style=\"stroke: #383838; stroke-width: 1.5;\" width=\"128\" x=\"155\" y=\"85\"/><text fill=\"#000000\" font-family=\"sans-serif\" font-size=\"12\" font-style=\"italic\" lengthAdjust=\"spacingAndGlyphs\" textLength=\"106\" x=\"166\" y=\"101.1387\">«calculation def»</text><text fill=\"#000000\" font-family=\"sans-serif\" font-size=\"12\" lengthAdjust=\"spacingAndGlyphs\" textLength=\"59\" x=\"189.5\" y=\"115.1074\">MassSum</text></a><!--MD5=[917b9dd0c7eca3ee5f47219d1a84c0ad]\n",
       "cluster E11--><a href=\"psysml:83ce5d61-6771-4884-a571-d4d08f340672\" target=\"_top\" title=\"psysml:83ce5d61-6771-4884-a571-d4d08f340672\" xlink:actuate=\"onRequest\" xlink:href=\"psysml:83ce5d61-6771-4884-a571-d4d08f340672\" xlink:show=\"new\" xlink:title=\"psysml:83ce5d61-6771-4884-a571-d4d08f340672\" xlink:type=\"simple\"><rect fill=\"#FFFFFF\" height=\"306.72\" id=\"E11\" style=\"stroke: #383838; stroke-width: 1.5;\" width=\"166\" x=\"584\" y=\"85\"/><rect fill=\"#F8F8F8\" height=\"37.9375\" style=\"stroke: #383838; stroke-width: 1.5;\" width=\"166\" x=\"584\" y=\"85\"/><text fill=\"#000000\" font-family=\"sans-serif\" font-size=\"12\" font-style=\"italic\" lengthAdjust=\"spacingAndGlyphs\" textLength=\"106\" x=\"614\" y=\"101.1387\">«calculation def»</text><text fill=\"#000000\" font-family=\"sans-serif\" font-size=\"12\" lengthAdjust=\"spacingAndGlyphs\" textLength=\"67\" x=\"633.5\" y=\"115.1074\">MassSum1</text></a><!--MD5=[b4997ac47864f28c2f74865a473b2911]\n",
       "class E2--><a href=\"psysml:3dfd6fc9-2012-44ec-8abc-b458a2efa8ee\" target=\"_top\" title=\"psysml:3dfd6fc9-2012-44ec-8abc-b458a2efa8ee\" xlink:actuate=\"onRequest\" xlink:href=\"psysml:3dfd6fc9-2012-44ec-8abc-b458a2efa8ee\" xlink:show=\"new\" xlink:title=\"psysml:3dfd6fc9-2012-44ec-8abc-b458a2efa8ee\" xlink:type=\"simple\"><rect fill=\"#FFFFFF\" height=\"75.5469\" id=\"E2\" rx=\"10\" ry=\"10\" style=\"stroke: #383838; stroke-width: 1.5;\" width=\"92\" x=\"473\" y=\"47\"/><text fill=\"#000000\" font-family=\"sans-serif\" font-size=\"12\" font-style=\"italic\" lengthAdjust=\"spacingAndGlyphs\" textLength=\"40\" x=\"499\" y=\"63.1387\">«part»</text><text fill=\"#000000\" font-family=\"sans-serif\" font-size=\"12\" lengthAdjust=\"spacingAndGlyphs\" textLength=\"43\" x=\"497.5\" y=\"77.1074\">vehicle</text><line style=\"stroke: #383838; stroke-width: 1.5;\" x1=\"474\" x2=\"564\" y1=\"84.9375\" y2=\"84.9375\"/><text fill=\"#000000\" font-family=\"sans-serif\" font-size=\"11\" lengthAdjust=\"spacingAndGlyphs\" textLength=\"80\" x=\"479\" y=\"115.9526\">m: MassValue</text><line style=\"stroke: #383838; stroke-width: 1.0;\" x1=\"474\" x2=\"491.5\" y1=\"99.3398\" y2=\"99.3398\"/><text fill=\"#000000\" font-family=\"sans-serif\" font-size=\"11\" lengthAdjust=\"spacingAndGlyphs\" textLength=\"55\" x=\"491.5\" y=\"102.6479\">attributes</text><line style=\"stroke: #383838; stroke-width: 1.0;\" x1=\"546.5\" x2=\"564\" y1=\"99.3398\" y2=\"99.3398\"/></a><!--MD5=[09b614a08d8cba4a07c9adeb5e0fee81]\n",
       "class E3--><a href=\"psysml:6f0477df-1982-4bef-bc4b-f3a5f459ca50\" target=\"_top\" title=\"psysml:6f0477df-1982-4bef-bc4b-f3a5f459ca50\" xlink:actuate=\"onRequest\" xlink:href=\"psysml:6f0477df-1982-4bef-bc4b-f3a5f459ca50\" xlink:show=\"new\" xlink:title=\"psysml:6f0477df-1982-4bef-bc4b-f3a5f459ca50\" xlink:type=\"simple\"><rect fill=\"#FFFFFF\" height=\"75.5469\" id=\"E3\" rx=\"10\" ry=\"10\" style=\"stroke: #383838; stroke-width: 1.5;\" width=\"92\" x=\"346\" y=\"189\"/><text fill=\"#000000\" font-family=\"sans-serif\" font-size=\"12\" font-style=\"italic\" lengthAdjust=\"spacingAndGlyphs\" textLength=\"40\" x=\"372\" y=\"205.1387\">«part»</text><text fill=\"#000000\" font-family=\"sans-serif\" font-size=\"12\" lengthAdjust=\"spacingAndGlyphs\" textLength=\"24\" x=\"380\" y=\"219.1074\">eng</text><line style=\"stroke: #383838; stroke-width: 1.5;\" x1=\"347\" x2=\"437\" y1=\"226.9375\" y2=\"226.9375\"/><text fill=\"#000000\" font-family=\"sans-serif\" font-size=\"11\" lengthAdjust=\"spacingAndGlyphs\" textLength=\"80\" x=\"352\" y=\"257.9526\">m: MassValue</text><line style=\"stroke: #383838; stroke-width: 1.0;\" x1=\"347\" x2=\"364.5\" y1=\"241.3398\" y2=\"241.3398\"/><text fill=\"#000000\" font-family=\"sans-serif\" font-size=\"11\" lengthAdjust=\"spacingAndGlyphs\" textLength=\"55\" x=\"364.5\" y=\"244.6479\">attributes</text><line style=\"stroke: #383838; stroke-width: 1.0;\" x1=\"419.5\" x2=\"437\" y1=\"241.3398\" y2=\"241.3398\"/></a><!--MD5=[ebbe1d658d1005bcc118a6aa81145e00]\n",
       "class E4--><a href=\"psysml:39f29039-e97f-4cd7-a6e4-24de87290ff7\" target=\"_top\" title=\"psysml:39f29039-e97f-4cd7-a6e4-24de87290ff7\" xlink:actuate=\"onRequest\" xlink:href=\"psysml:39f29039-e97f-4cd7-a6e4-24de87290ff7\" xlink:show=\"new\" xlink:title=\"psysml:39f29039-e97f-4cd7-a6e4-24de87290ff7\" xlink:type=\"simple\"><rect fill=\"#FFFFFF\" height=\"75.5469\" id=\"E4\" rx=\"10\" ry=\"10\" style=\"stroke: #383838; stroke-width: 1.5;\" width=\"92\" x=\"473\" y=\"189\"/><text fill=\"#000000\" font-family=\"sans-serif\" font-size=\"12\" font-style=\"italic\" lengthAdjust=\"spacingAndGlyphs\" textLength=\"40\" x=\"499\" y=\"205.1387\">«part»</text><text fill=\"#000000\" font-family=\"sans-serif\" font-size=\"12\" lengthAdjust=\"spacingAndGlyphs\" textLength=\"33\" x=\"502.5\" y=\"219.1074\">trans</text><line style=\"stroke: #383838; stroke-width: 1.5;\" x1=\"474\" x2=\"564\" y1=\"226.9375\" y2=\"226.9375\"/><text fill=\"#000000\" font-family=\"sans-serif\" font-size=\"11\" lengthAdjust=\"spacingAndGlyphs\" textLength=\"80\" x=\"479\" y=\"257.9526\">m: MassValue</text><line style=\"stroke: #383838; stroke-width: 1.0;\" x1=\"474\" x2=\"491.5\" y1=\"241.3398\" y2=\"241.3398\"/><text fill=\"#000000\" font-family=\"sans-serif\" font-size=\"11\" lengthAdjust=\"spacingAndGlyphs\" textLength=\"55\" x=\"491.5\" y=\"244.6479\">attributes</text><line style=\"stroke: #383838; stroke-width: 1.0;\" x1=\"546.5\" x2=\"564\" y1=\"241.3398\" y2=\"241.3398\"/></a><!--MD5=[96f4274e9e20536e775497830990834d]\n",
       "class E10--><a href=\"psysml:20e483d0-a5a0-4777-bc7f-caa19ca2a7e0\" target=\"_top\" title=\"psysml:20e483d0-a5a0-4777-bc7f-caa19ca2a7e0\" xlink:actuate=\"onRequest\" xlink:href=\"psysml:20e483d0-a5a0-4777-bc7f-caa19ca2a7e0\" xlink:show=\"new\" xlink:title=\"psysml:20e483d0-a5a0-4777-bc7f-caa19ca2a7e0\" xlink:type=\"simple\"><rect fill=\"#FFFFFF\" height=\"45.9375\" id=\"E10\" rx=\"10\" ry=\"10\" style=\"stroke: #383838; stroke-width: 1.5;\" width=\"91\" x=\"346.5\" y=\"62\"/><text fill=\"#000000\" font-family=\"sans-serif\" font-size=\"12\" font-style=\"italic\" lengthAdjust=\"spacingAndGlyphs\" textLength=\"82\" x=\"351\" y=\"78.1387\">«calculation»</text><text fill=\"#000000\" font-family=\"sans-serif\" font-size=\"12\" lengthAdjust=\"spacingAndGlyphs\" textLength=\"85\" x=\"349.5\" y=\"92.1074\">ms: MassSum</text><line style=\"stroke: #383838; stroke-width: 1.5;\" x1=\"347.5\" x2=\"436.5\" y1=\"99.9375\" y2=\"99.9375\"/></a><!--MD5=[bee11217b2f71d958a27249dc326068c]\n",
       "class E14--><a href=\"psysml:3aa3b647-0159-4a96-9fb7-94bd79c90754\" target=\"_top\" title=\"psysml:3aa3b647-0159-4a96-9fb7-94bd79c90754\" xlink:actuate=\"onRequest\" xlink:href=\"psysml:3aa3b647-0159-4a96-9fb7-94bd79c90754\" xlink:show=\"new\" xlink:title=\"psysml:3aa3b647-0159-4a96-9fb7-94bd79c90754\" xlink:type=\"simple\"><rect fill=\"#FFFFFF\" height=\"88.3516\" id=\"E14\" rx=\"10\" ry=\"10\" style=\"stroke: #383838; stroke-width: 1.5;\" width=\"99\" x=\"32.5\" y=\"41\"/><text fill=\"#000000\" font-family=\"sans-serif\" font-size=\"12\" font-style=\"italic\" lengthAdjust=\"spacingAndGlyphs\" textLength=\"82\" x=\"41\" y=\"57.1387\">«calculation»</text><text fill=\"#000000\" font-family=\"sans-serif\" font-size=\"12\" lengthAdjust=\"spacingAndGlyphs\" textLength=\"93\" x=\"35.5\" y=\"71.1074\">ms1: MassSum</text><line style=\"stroke: #383838; stroke-width: 1.5;\" x1=\"33.5\" x2=\"130.5\" y1=\"78.9375\" y2=\"78.9375\"/><text fill=\"#000000\" font-family=\"sans-serif\" font-size=\"11\" lengthAdjust=\"spacingAndGlyphs\" textLength=\"67\" x=\"38.5\" y=\"109.9526\">partMasses</text><text fill=\"#000000\" font-family=\"sans-serif\" font-size=\"11\" lengthAdjust=\"spacingAndGlyphs\" textLength=\"55\" x=\"38.5\" y=\"122.7573\">totalMass</text><line style=\"stroke: #383838; stroke-width: 1.0;\" x1=\"33.5\" x2=\"54.5\" y1=\"93.3398\" y2=\"93.3398\"/><text fill=\"#000000\" font-family=\"sans-serif\" font-size=\"11\" lengthAdjust=\"spacingAndGlyphs\" textLength=\"55\" x=\"54.5\" y=\"96.6479\">attributes</text><line style=\"stroke: #383838; stroke-width: 1.0;\" x1=\"109.5\" x2=\"130.5\" y1=\"93.3398\" y2=\"93.3398\"/></a><text fill=\"#000000\" font-family=\"sans-serif\" font-size=\"14\" lengthAdjust=\"spacingAndGlyphs\" textLength=\"80\" x=\"133\" y=\"63.6982\">partMasses</text><rect fill=\"#383838\" height=\"12\" style=\"stroke: #F8F8F8; stroke-width: 1.5;\" width=\"12\" x=\"167\" y=\"79\"/><text fill=\"#000000\" font-family=\"sans-serif\" font-size=\"14\" lengthAdjust=\"spacingAndGlyphs\" textLength=\"66\" x=\"177\" y=\"410.7151\">totalMass</text><rect fill=\"#383838\" height=\"12\" style=\"stroke: #F8F8F8; stroke-width: 1.5;\" width=\"12\" x=\"204\" y=\"385.72\"/><text fill=\"#000000\" font-family=\"sans-serif\" font-size=\"14\" lengthAdjust=\"spacingAndGlyphs\" textLength=\"75\" x=\"227.5\" y=\"63.6982\">$collection</text><rect fill=\"#383838\" height=\"12\" style=\"stroke: #F8F8F8; stroke-width: 1.5;\" width=\"12\" x=\"259\" y=\"79\"/><text fill=\"#000000\" font-family=\"sans-serif\" font-size=\"14\" lengthAdjust=\"spacingAndGlyphs\" textLength=\"48\" x=\"233\" y=\"410.7151\">$result</text><rect fill=\"#383838\" height=\"12\" style=\"stroke: #F8F8F8; stroke-width: 1.5;\" width=\"12\" x=\"251\" y=\"385.72\"/><text fill=\"#000000\" font-family=\"sans-serif\" font-size=\"14\" lengthAdjust=\"spacingAndGlyphs\" textLength=\"80\" x=\"627\" y=\"63.6982\">partMasses</text><rect fill=\"#383838\" height=\"12\" style=\"stroke: #F8F8F8; stroke-width: 1.5;\" width=\"12\" x=\"661\" y=\"79\"/><text fill=\"#000000\" font-family=\"sans-serif\" font-size=\"14\" lengthAdjust=\"spacingAndGlyphs\" textLength=\"66\" x=\"634\" y=\"410.7151\">totalMass</text><rect fill=\"#383838\" height=\"12\" style=\"stroke: #F8F8F8; stroke-width: 1.5;\" width=\"12\" x=\"661\" y=\"385.72\"/><!--MD5=[209b3feb70ccb6233bfe1053d122c12c]\n",
       "reverse link E2 to E3--><a href=\"psysml:6f0477df-1982-4bef-bc4b-f3a5f459ca50\" target=\"_top\" title=\"psysml:6f0477df-1982-4bef-bc4b-f3a5f459ca50\" xlink:actuate=\"onRequest\" xlink:href=\"psysml:6f0477df-1982-4bef-bc4b-f3a5f459ca50\" xlink:show=\"new\" xlink:title=\"psysml:6f0477df-1982-4bef-bc4b-f3a5f459ca50\" xlink:type=\"simple\"><path d=\"M476.41,132.95 C459.95,151.1 441.38,171.57 425.86,188.68 \" fill=\"none\" id=\"E2&lt;-E3\" style=\"stroke: #383838; stroke-width: 1.0;\"/><polygon fill=\"#383838\" points=\"485.3,123.15,478.3052,124.9031,477.2332,132.0341,484.2279,130.281,485.3,123.15\" style=\"stroke: #383838; stroke-width: 1.0;\"/></a><!--MD5=[9618e71518536f8baf3342ff6fdab317]\n",
       "reverse link E2 to E4--><a href=\"psysml:39f29039-e97f-4cd7-a6e4-24de87290ff7\" target=\"_top\" title=\"psysml:39f29039-e97f-4cd7-a6e4-24de87290ff7\" xlink:actuate=\"onRequest\" xlink:href=\"psysml:39f29039-e97f-4cd7-a6e4-24de87290ff7\" xlink:show=\"new\" xlink:title=\"psysml:39f29039-e97f-4cd7-a6e4-24de87290ff7\" xlink:type=\"simple\"><path d=\"M519,136.25 C519,153.55 519,172.6 519,188.68 \" fill=\"none\" id=\"E2&lt;-E4\" style=\"stroke: #383838; stroke-width: 1.0;\"/><polygon fill=\"#383838\" points=\"519,123.15,515,129.15,519,135.15,523,129.15,519,123.15\" style=\"stroke: #383838; stroke-width: 1.0;\"/></a><!--MD5=[ec5e0a54482b142abcecfe541d624bff]\n",
       "link E10 to E5--><a href=\"psysml:087e1e8b-9f76-403f-b1f3-15ea1e5b2649\" target=\"_top\" title=\"psysml:087e1e8b-9f76-403f-b1f3-15ea1e5b2649\" xlink:actuate=\"onRequest\" xlink:href=\"psysml:087e1e8b-9f76-403f-b1f3-15ea1e5b2649\" xlink:show=\"new\" xlink:title=\"psysml:087e1e8b-9f76-403f-b1f3-15ea1e5b2649\" xlink:type=\"simple\"><path d=\"M367.76,108.18 C352.425,122.215 331.7225,141.16 311.4063,159.75 C306.3272,164.3975 301.2723,169.0228 296.3314,173.5437 C293.8609,175.8041 291.419,178.0384 289.0168,180.2363 C287.8157,181.3353 286.6246,182.4252 285.4448,183.5046 C284.8549,184.0444 284.2678,184.5815 283.6837,185.1159 C283.5377,185.2495 283.3919,185.3829 283.2463,185.5162 \" fill=\"none\" id=\"E10-&gt;E5\" style=\"stroke: #383838; stroke-width: 1.0;\"/><polygon fill=\"#FFFFFF\" points=\"283.2463,185.5162,292.5389,167.526,301.9894,177.855,283.2463,185.5162\" style=\"stroke: #383838; stroke-width: 1.0;\"/><ellipse cx=\"298.0944\" cy=\"165.1539\" fill=\"#383838\" rx=\"2\" ry=\"2\" style=\"stroke: #383838; stroke-width: 1.0;\"/><ellipse cx=\"304.8447\" cy=\"172.5317\" fill=\"#383838\" rx=\"2\" ry=\"2\" style=\"stroke: #383838; stroke-width: 1.0;\"/></a><!--MD5=[111e5536516ee1ad7d4266f589654f03]\n",
       "link E14 to E5--><a href=\"psysml:a6dd9655-fa53-42fd-8b92-db635a2ece9b\" target=\"_top\" title=\"psysml:a6dd9655-fa53-42fd-8b92-db635a2ece9b\" xlink:actuate=\"onRequest\" xlink:href=\"psysml:a6dd9655-fa53-42fd-8b92-db635a2ece9b\" xlink:show=\"new\" xlink:title=\"psysml:a6dd9655-fa53-42fd-8b92-db635a2ece9b\" xlink:type=\"simple\"><path d=\"M130.39,129.15 C138.0025,135.9375 146.0606,143.1225 154.2098,150.3889 C154.4645,150.616 154.7193,150.8431 154.9741,151.0704 \" fill=\"none\" id=\"E14-&gt;E5\" style=\"stroke: #383838; stroke-width: 1.0;\"/><polygon fill=\"#FFFFFF\" points=\"154.9741,151.0704,136.1343,143.6501,145.4516,133.2008,154.9741,151.0704\" style=\"stroke: #383838; stroke-width: 1.0;\"/><ellipse cx=\"133.211\" cy=\"138.3638\" fill=\"#383838\" rx=\"2\" ry=\"2\" style=\"stroke: #383838; stroke-width: 1.0;\"/><ellipse cx=\"139.8662\" cy=\"130.9001\" fill=\"#383838\" rx=\"2\" ry=\"2\" style=\"stroke: #383838; stroke-width: 1.0;\"/></a><!--MD5=[9d7a60c576b9b904210148c73792ca65]\n",
       "@startuml\r\n",
       "skinparam monochrome true\r\n",
       "skinparam classbackgroundcolor white\r\n",
       "skinparam shadowing false\r\n",
       "skinparam wrapWidth 300\r\n",
       "hide circle\r\n",
       "\r\n",
       "package \"CalculationExample\" as E1  [[psysml:279b101a-ad7c-43dd-8a07-da5fe5802bed ]]  {\r\n",
       "comp usage \"vehicle\" as E2  <<(T,blue)part>> [[psysml:3dfd6fc9-2012-44ec-8abc-b458a2efa8ee ]] {\r\n",
       "- - attributes - -\r\n",
       "m: MassValue\r\n",
       "}\r\n",
       "comp usage \"eng\" as E3  <<(T,blue)part>> [[psysml:6f0477df-1982-4bef-bc4b-f3a5f459ca50 ]] {\r\n",
       "- - attributes - -\r\n",
       "m: MassValue\r\n",
       "}\r\n",
       "comp usage \"trans\" as E4  <<(T,blue)part>> [[psysml:39f29039-e97f-4cd7-a6e4-24de87290ff7 ]] {\r\n",
       "- - attributes - -\r\n",
       "m: MassValue\r\n",
       "}\r\n",
       "rec def \"MassSum\" as E5  <<(T,blue)calculation def>> [[psysml:5c4fc454-9680-413f-bf1a-bdf2f6cc06d5 ]] {\r\n",
       "portin \"partMasses\" as E6  [[psysml:57eaefe4-a57c-41fa-a944-033dc3e4df4e ]] \r\n",
       "portout \"totalMass\" as E7  [[psysml:35e88aae-ee13-4c55-bc31-272528607619 ]] \r\n",
       "portin \"$collection\" as E8  [[psysml:0e9b074a-52f0-467d-9ed6-1e247226bb71 ]] \r\n",
       "portout \"$result\" as E9  [[psysml:66242f20-bf9b-4b2d-900e-be3ce4c10d7e ]] \r\n",
       "}\r\n",
       "\r\n",
       "comp usage \"ms: MassSum\" as E10  <<(T,blue)calculation>> [[psysml:20e483d0-a5a0-4777-bc7f-caa19ca2a7e0 ]] {\r\n",
       "}\r\n",
       "rec def \"MassSum1\" as E11  <<(T,blue)calculation def>> [[psysml:83ce5d61-6771-4884-a571-d4d08f340672 ]] {\r\n",
       "portin \"partMasses\" as E12  [[psysml:0924d9a5-fc11-4345-935d-e5ff08c51a6a ]] \r\n",
       "portout \"totalMass\" as E13  [[psysml:b7c67a6a-5db6-4529-b3d9-f9fb47dc5f0c ]] \r\n",
       "}\r\n",
       "\r\n",
       "comp usage \"ms1: MassSum\" as E14  <<(T,blue)calculation>> [[psysml:3aa3b647-0159-4a96-9fb7-94bd79c90754 ]] {\r\n",
       "- - attributes - -\r\n",
       "partMasses\r\n",
       "totalMass\r\n",
       "}\r\n",
       "E2 *- - E3 [[psysml:6f0477df-1982-4bef-bc4b-f3a5f459ca50 ]] \r\n",
       "E2 *- - E4 [[psysml:39f29039-e97f-4cd7-a6e4-24de87290ff7 ]] \r\n",
       "E10 - -:|> E5 [[psysml:087e1e8b-9f76-403f-b1f3-15ea1e5b2649 ]] \r\n",
       "E14 - -:|> E5 [[psysml:a6dd9655-fa53-42fd-8b92-db635a2ece9b ]] \r\n",
       "}\r\n",
       "@enduml\r\n",
       "\n",
       "PlantUML version 1.2020.13(Sat Jun 13 12:26:38 UTC 2020)\n",
       "(EPL source distribution)\n",
       "Java Runtime: OpenJDK Runtime Environment\n",
       "JVM: OpenJDK 64-Bit Server VM\n",
       "Default Encoding: UTF-8\n",
       "Language: en\n",
       "Country: null\n",
       "--></g></svg>"
      ]
     },
     "execution_count": 37,
     "metadata": {},
     "output_type": "execute_result"
    }
   ],
   "source": [
    "%viz --style=\"DEFAULT\" --view=\"Default\" \"CalculationExample\""
   ]
  },
  {
   "cell_type": "code",
   "execution_count": 38,
   "id": "fatal-trinidad",
   "metadata": {
    "execution": {
     "iopub.execute_input": "2021-03-26T13:05:07.889906Z",
     "iopub.status.busy": "2021-03-26T13:05:07.889281Z",
     "iopub.status.idle": "2021-03-26T13:05:07.992271Z",
     "shell.execute_reply": "2021-03-26T13:05:07.991731Z"
    }
   },
   "outputs": [
    {
     "data": {
      "image/svg+xml": [
       "<?xml version=\"1.0\" encoding=\"UTF-8\" standalone=\"no\"?><svg xmlns=\"http://www.w3.org/2000/svg\" xmlns:xlink=\"http://www.w3.org/1999/xlink\" contentScriptType=\"application/ecmascript\" contentStyleType=\"text/css\" height=\"293px\" preserveAspectRatio=\"none\" style=\"width:607px;height:293px;\" version=\"1.1\" viewBox=\"0 0 607 293\" width=\"607px\" zoomAndPan=\"magnify\"><defs/><g><!--MD5=[fbc87193dbaf4d95561dea2c320d4a47]\n",
       "cluster E1--><a href=\"psysml:279b101a-ad7c-43dd-8a07-da5fe5802bed\" target=\"_top\" title=\"psysml:279b101a-ad7c-43dd-8a07-da5fe5802bed\" xlink:actuate=\"onRequest\" xlink:href=\"psysml:279b101a-ad7c-43dd-8a07-da5fe5802bed\" xlink:show=\"new\" xlink:title=\"psysml:279b101a-ad7c-43dd-8a07-da5fe5802bed\" xlink:type=\"simple\"><polygon fill=\"#FFFFFF\" points=\"16,6,173,6,180,28.2969,585,28.2969,585,281,16,281,16,6\" style=\"stroke: #000000; stroke-width: 1.5;\"/><line style=\"stroke: #000000; stroke-width: 1.5;\" x1=\"16\" x2=\"180\" y1=\"28.2969\" y2=\"28.2969\"/><text fill=\"#000000\" font-family=\"sans-serif\" font-size=\"14\" font-weight=\"bold\" lengthAdjust=\"spacingAndGlyphs\" textLength=\"151\" x=\"20\" y=\"20.9951\">CalculationExample</text></a><!--MD5=[b4997ac47864f28c2f74865a473b2911]\n",
       "class E2--><a href=\"psysml:3dfd6fc9-2012-44ec-8abc-b458a2efa8ee\" target=\"_top\" title=\"psysml:3dfd6fc9-2012-44ec-8abc-b458a2efa8ee\" xlink:actuate=\"onRequest\" xlink:href=\"psysml:3dfd6fc9-2012-44ec-8abc-b458a2efa8ee\" xlink:show=\"new\" xlink:title=\"psysml:3dfd6fc9-2012-44ec-8abc-b458a2efa8ee\" xlink:type=\"simple\"><rect fill=\"#FFFFFF\" height=\"75.5469\" id=\"E2\" rx=\"10\" ry=\"10\" style=\"stroke: #383838; stroke-width: 1.5;\" width=\"92\" x=\"477\" y=\"47\"/><text fill=\"#000000\" font-family=\"sans-serif\" font-size=\"12\" font-style=\"italic\" lengthAdjust=\"spacingAndGlyphs\" textLength=\"40\" x=\"503\" y=\"63.1387\">«part»</text><text fill=\"#000000\" font-family=\"sans-serif\" font-size=\"12\" lengthAdjust=\"spacingAndGlyphs\" textLength=\"43\" x=\"501.5\" y=\"77.1074\">vehicle</text><line style=\"stroke: #383838; stroke-width: 1.5;\" x1=\"478\" x2=\"568\" y1=\"84.9375\" y2=\"84.9375\"/><text fill=\"#000000\" font-family=\"sans-serif\" font-size=\"11\" lengthAdjust=\"spacingAndGlyphs\" textLength=\"80\" x=\"483\" y=\"115.9526\">m: MassValue</text><line style=\"stroke: #383838; stroke-width: 1.0;\" x1=\"478\" x2=\"495.5\" y1=\"99.3398\" y2=\"99.3398\"/><text fill=\"#000000\" font-family=\"sans-serif\" font-size=\"11\" lengthAdjust=\"spacingAndGlyphs\" textLength=\"55\" x=\"495.5\" y=\"102.6479\">attributes</text><line style=\"stroke: #383838; stroke-width: 1.0;\" x1=\"550.5\" x2=\"568\" y1=\"99.3398\" y2=\"99.3398\"/></a><!--MD5=[09b614a08d8cba4a07c9adeb5e0fee81]\n",
       "class E3--><a href=\"psysml:6f0477df-1982-4bef-bc4b-f3a5f459ca50\" target=\"_top\" title=\"psysml:6f0477df-1982-4bef-bc4b-f3a5f459ca50\" xlink:actuate=\"onRequest\" xlink:href=\"psysml:6f0477df-1982-4bef-bc4b-f3a5f459ca50\" xlink:show=\"new\" xlink:title=\"psysml:6f0477df-1982-4bef-bc4b-f3a5f459ca50\" xlink:type=\"simple\"><rect fill=\"#FFFFFF\" height=\"75.5469\" id=\"E3\" rx=\"10\" ry=\"10\" style=\"stroke: #383838; stroke-width: 1.5;\" width=\"92\" x=\"350\" y=\"189\"/><text fill=\"#000000\" font-family=\"sans-serif\" font-size=\"12\" font-style=\"italic\" lengthAdjust=\"spacingAndGlyphs\" textLength=\"40\" x=\"376\" y=\"205.1387\">«part»</text><text fill=\"#000000\" font-family=\"sans-serif\" font-size=\"12\" lengthAdjust=\"spacingAndGlyphs\" textLength=\"24\" x=\"384\" y=\"219.1074\">eng</text><line style=\"stroke: #383838; stroke-width: 1.5;\" x1=\"351\" x2=\"441\" y1=\"226.9375\" y2=\"226.9375\"/><text fill=\"#000000\" font-family=\"sans-serif\" font-size=\"11\" lengthAdjust=\"spacingAndGlyphs\" textLength=\"80\" x=\"356\" y=\"257.9526\">m: MassValue</text><line style=\"stroke: #383838; stroke-width: 1.0;\" x1=\"351\" x2=\"368.5\" y1=\"241.3398\" y2=\"241.3398\"/><text fill=\"#000000\" font-family=\"sans-serif\" font-size=\"11\" lengthAdjust=\"spacingAndGlyphs\" textLength=\"55\" x=\"368.5\" y=\"244.6479\">attributes</text><line style=\"stroke: #383838; stroke-width: 1.0;\" x1=\"423.5\" x2=\"441\" y1=\"241.3398\" y2=\"241.3398\"/></a><!--MD5=[ebbe1d658d1005bcc118a6aa81145e00]\n",
       "class E4--><a href=\"psysml:39f29039-e97f-4cd7-a6e4-24de87290ff7\" target=\"_top\" title=\"psysml:39f29039-e97f-4cd7-a6e4-24de87290ff7\" xlink:actuate=\"onRequest\" xlink:href=\"psysml:39f29039-e97f-4cd7-a6e4-24de87290ff7\" xlink:show=\"new\" xlink:title=\"psysml:39f29039-e97f-4cd7-a6e4-24de87290ff7\" xlink:type=\"simple\"><rect fill=\"#FFFFFF\" height=\"75.5469\" id=\"E4\" rx=\"10\" ry=\"10\" style=\"stroke: #383838; stroke-width: 1.5;\" width=\"92\" x=\"477\" y=\"189\"/><text fill=\"#000000\" font-family=\"sans-serif\" font-size=\"12\" font-style=\"italic\" lengthAdjust=\"spacingAndGlyphs\" textLength=\"40\" x=\"503\" y=\"205.1387\">«part»</text><text fill=\"#000000\" font-family=\"sans-serif\" font-size=\"12\" lengthAdjust=\"spacingAndGlyphs\" textLength=\"33\" x=\"506.5\" y=\"219.1074\">trans</text><line style=\"stroke: #383838; stroke-width: 1.5;\" x1=\"478\" x2=\"568\" y1=\"226.9375\" y2=\"226.9375\"/><text fill=\"#000000\" font-family=\"sans-serif\" font-size=\"11\" lengthAdjust=\"spacingAndGlyphs\" textLength=\"80\" x=\"483\" y=\"257.9526\">m: MassValue</text><line style=\"stroke: #383838; stroke-width: 1.0;\" x1=\"478\" x2=\"495.5\" y1=\"241.3398\" y2=\"241.3398\"/><text fill=\"#000000\" font-family=\"sans-serif\" font-size=\"11\" lengthAdjust=\"spacingAndGlyphs\" textLength=\"55\" x=\"495.5\" y=\"244.6479\">attributes</text><line style=\"stroke: #383838; stroke-width: 1.0;\" x1=\"550.5\" x2=\"568\" y1=\"241.3398\" y2=\"241.3398\"/></a><!--MD5=[270fce915f116d4de14055a7c1d9a0f3]\n",
       "class E5--><a href=\"psysml:5c4fc454-9680-413f-bf1a-bdf2f6cc06d5\" target=\"_top\" title=\"psysml:5c4fc454-9680-413f-bf1a-bdf2f6cc06d5\" xlink:actuate=\"onRequest\" xlink:href=\"psysml:5c4fc454-9680-413f-bf1a-bdf2f6cc06d5\" xlink:show=\"new\" xlink:title=\"psysml:5c4fc454-9680-413f-bf1a-bdf2f6cc06d5\" xlink:type=\"simple\"><rect fill=\"#FFFFFF\" height=\"45.9375\" id=\"E5\" style=\"stroke: #383838; stroke-width: 1.5;\" width=\"108\" x=\"120\" y=\"204\"/><text fill=\"#000000\" font-family=\"sans-serif\" font-size=\"12\" font-style=\"italic\" lengthAdjust=\"spacingAndGlyphs\" textLength=\"106\" x=\"121\" y=\"220.1387\">«calculation def»</text><text fill=\"#000000\" font-family=\"sans-serif\" font-size=\"12\" lengthAdjust=\"spacingAndGlyphs\" textLength=\"59\" x=\"144.5\" y=\"234.1074\">MassSum</text><line style=\"stroke: #383838; stroke-width: 1.5;\" x1=\"121\" x2=\"227\" y1=\"241.9375\" y2=\"241.9375\"/></a><!--MD5=[60a26617385b1d2d0262a64233df1f8d]\n",
       "class E6--><a href=\"psysml:20e483d0-a5a0-4777-bc7f-caa19ca2a7e0\" target=\"_top\" title=\"psysml:20e483d0-a5a0-4777-bc7f-caa19ca2a7e0\" xlink:actuate=\"onRequest\" xlink:href=\"psysml:20e483d0-a5a0-4777-bc7f-caa19ca2a7e0\" xlink:show=\"new\" xlink:title=\"psysml:20e483d0-a5a0-4777-bc7f-caa19ca2a7e0\" xlink:type=\"simple\"><rect fill=\"#FFFFFF\" height=\"45.9375\" id=\"E6\" rx=\"10\" ry=\"10\" style=\"stroke: #383838; stroke-width: 1.5;\" width=\"91\" x=\"350.5\" y=\"62\"/><text fill=\"#000000\" font-family=\"sans-serif\" font-size=\"12\" font-style=\"italic\" lengthAdjust=\"spacingAndGlyphs\" textLength=\"82\" x=\"355\" y=\"78.1387\">«calculation»</text><text fill=\"#000000\" font-family=\"sans-serif\" font-size=\"12\" lengthAdjust=\"spacingAndGlyphs\" textLength=\"85\" x=\"353.5\" y=\"92.1074\">ms: MassSum</text><line style=\"stroke: #383838; stroke-width: 1.5;\" x1=\"351.5\" x2=\"440.5\" y1=\"99.9375\" y2=\"99.9375\"/></a><!--MD5=[2156ba9850f5573cc1fc38a6a4b2f02b]\n",
       "class E7--><a href=\"psysml:83ce5d61-6771-4884-a571-d4d08f340672\" target=\"_top\" title=\"psysml:83ce5d61-6771-4884-a571-d4d08f340672\" xlink:actuate=\"onRequest\" xlink:href=\"psysml:83ce5d61-6771-4884-a571-d4d08f340672\" xlink:show=\"new\" xlink:title=\"psysml:83ce5d61-6771-4884-a571-d4d08f340672\" xlink:type=\"simple\"><rect fill=\"#FFFFFF\" height=\"88.3516\" id=\"E7\" style=\"stroke: #383838; stroke-width: 1.5;\" width=\"148\" x=\"167\" y=\"41\"/><text fill=\"#000000\" font-family=\"sans-serif\" font-size=\"12\" font-style=\"italic\" lengthAdjust=\"spacingAndGlyphs\" textLength=\"106\" x=\"188\" y=\"57.1387\">«calculation def»</text><text fill=\"#000000\" font-family=\"sans-serif\" font-size=\"12\" lengthAdjust=\"spacingAndGlyphs\" textLength=\"67\" x=\"207.5\" y=\"71.1074\">MassSum1</text><line style=\"stroke: #383838; stroke-width: 1.5;\" x1=\"168\" x2=\"314\" y1=\"78.9375\" y2=\"78.9375\"/><text fill=\"#000000\" font-family=\"sans-serif\" font-size=\"11\" lengthAdjust=\"spacingAndGlyphs\" textLength=\"136\" x=\"173\" y=\"109.9526\">partMasses: MassValue</text><text fill=\"#000000\" font-family=\"sans-serif\" font-size=\"11\" lengthAdjust=\"spacingAndGlyphs\" textLength=\"124\" x=\"173\" y=\"122.7573\">totalMass: MassValue</text><line style=\"stroke: #383838; stroke-width: 1.0;\" x1=\"168\" x2=\"213.5\" y1=\"93.3398\" y2=\"93.3398\"/><text fill=\"#000000\" font-family=\"sans-serif\" font-size=\"11\" lengthAdjust=\"spacingAndGlyphs\" textLength=\"55\" x=\"213.5\" y=\"96.6479\">attributes</text><line style=\"stroke: #383838; stroke-width: 1.0;\" x1=\"268.5\" x2=\"314\" y1=\"93.3398\" y2=\"93.3398\"/></a><!--MD5=[b9389687b975829384b498ac4b7476b2]\n",
       "class E8--><a href=\"psysml:3aa3b647-0159-4a96-9fb7-94bd79c90754\" target=\"_top\" title=\"psysml:3aa3b647-0159-4a96-9fb7-94bd79c90754\" xlink:actuate=\"onRequest\" xlink:href=\"psysml:3aa3b647-0159-4a96-9fb7-94bd79c90754\" xlink:show=\"new\" xlink:title=\"psysml:3aa3b647-0159-4a96-9fb7-94bd79c90754\" xlink:type=\"simple\"><rect fill=\"#FFFFFF\" height=\"88.3516\" id=\"E8\" rx=\"10\" ry=\"10\" style=\"stroke: #383838; stroke-width: 1.5;\" width=\"99\" x=\"32.5\" y=\"41\"/><text fill=\"#000000\" font-family=\"sans-serif\" font-size=\"12\" font-style=\"italic\" lengthAdjust=\"spacingAndGlyphs\" textLength=\"82\" x=\"41\" y=\"57.1387\">«calculation»</text><text fill=\"#000000\" font-family=\"sans-serif\" font-size=\"12\" lengthAdjust=\"spacingAndGlyphs\" textLength=\"93\" x=\"35.5\" y=\"71.1074\">ms1: MassSum</text><line style=\"stroke: #383838; stroke-width: 1.5;\" x1=\"33.5\" x2=\"130.5\" y1=\"78.9375\" y2=\"78.9375\"/><text fill=\"#000000\" font-family=\"sans-serif\" font-size=\"11\" lengthAdjust=\"spacingAndGlyphs\" textLength=\"67\" x=\"38.5\" y=\"109.9526\">partMasses</text><text fill=\"#000000\" font-family=\"sans-serif\" font-size=\"11\" lengthAdjust=\"spacingAndGlyphs\" textLength=\"55\" x=\"38.5\" y=\"122.7573\">totalMass</text><line style=\"stroke: #383838; stroke-width: 1.0;\" x1=\"33.5\" x2=\"54.5\" y1=\"93.3398\" y2=\"93.3398\"/><text fill=\"#000000\" font-family=\"sans-serif\" font-size=\"11\" lengthAdjust=\"spacingAndGlyphs\" textLength=\"55\" x=\"54.5\" y=\"96.6479\">attributes</text><line style=\"stroke: #383838; stroke-width: 1.0;\" x1=\"109.5\" x2=\"130.5\" y1=\"93.3398\" y2=\"93.3398\"/></a><!--MD5=[209b3feb70ccb6233bfe1053d122c12c]\n",
       "reverse link E2 to E3--><a href=\"psysml:6f0477df-1982-4bef-bc4b-f3a5f459ca50\" target=\"_top\" title=\"psysml:6f0477df-1982-4bef-bc4b-f3a5f459ca50\" xlink:actuate=\"onRequest\" xlink:href=\"psysml:6f0477df-1982-4bef-bc4b-f3a5f459ca50\" xlink:show=\"new\" xlink:title=\"psysml:6f0477df-1982-4bef-bc4b-f3a5f459ca50\" xlink:type=\"simple\"><path d=\"M480.41,132.95 C463.95,151.1 445.38,171.57 429.86,188.68 \" fill=\"none\" id=\"E2&lt;-E3\" style=\"stroke: #383838; stroke-width: 1.0;\"/><polygon fill=\"#383838\" points=\"489.3,123.15,482.3052,124.9031,481.2332,132.0341,488.2279,130.281,489.3,123.15\" style=\"stroke: #383838; stroke-width: 1.0;\"/></a><!--MD5=[9618e71518536f8baf3342ff6fdab317]\n",
       "reverse link E2 to E4--><a href=\"psysml:39f29039-e97f-4cd7-a6e4-24de87290ff7\" target=\"_top\" title=\"psysml:39f29039-e97f-4cd7-a6e4-24de87290ff7\" xlink:actuate=\"onRequest\" xlink:href=\"psysml:39f29039-e97f-4cd7-a6e4-24de87290ff7\" xlink:show=\"new\" xlink:title=\"psysml:39f29039-e97f-4cd7-a6e4-24de87290ff7\" xlink:type=\"simple\"><path d=\"M523,136.25 C523,153.55 523,172.6 523,188.68 \" fill=\"none\" id=\"E2&lt;-E4\" style=\"stroke: #383838; stroke-width: 1.0;\"/><polygon fill=\"#383838\" points=\"523,123.15,519,129.15,523,135.15,527,129.15,523,123.15\" style=\"stroke: #383838; stroke-width: 1.0;\"/></a><!--MD5=[25b190c987b1e74e5126d372c5a73af1]\n",
       "link E6 to E5--><a href=\"psysml:087e1e8b-9f76-403f-b1f3-15ea1e5b2649\" target=\"_top\" title=\"psysml:087e1e8b-9f76-403f-b1f3-15ea1e5b2649\" xlink:actuate=\"onRequest\" xlink:href=\"psysml:087e1e8b-9f76-403f-b1f3-15ea1e5b2649\" xlink:show=\"new\" xlink:title=\"psysml:087e1e8b-9f76-403f-b1f3-15ea1e5b2649\" xlink:type=\"simple\"><path d=\"M364.16,108.19 C354.25,114.98 343.23,122.39 333,129 C298.76,151.11 259.69,174.96 228.85,193.48 \" fill=\"none\" id=\"E6-&gt;E5\" style=\"stroke: #383838; stroke-width: 1.0;\"/><polygon fill=\"#FFFFFF\" points=\"211.28,203.99,223.9864,188.2246,231.1775,200.2365,211.28,203.99\" style=\"stroke: #383838; stroke-width: 1.0;\"/><ellipse cx=\"229.9042\" cy=\"187.0127\" fill=\"#383838\" rx=\"2\" ry=\"2\" style=\"stroke: #383838; stroke-width: 1.0;\"/><ellipse cx=\"235.0408\" cy=\"195.5927\" fill=\"#383838\" rx=\"2\" ry=\"2\" style=\"stroke: #383838; stroke-width: 1.0;\"/></a><!--MD5=[1ccb2481ffa92f8d51a74ee30c51832a]\n",
       "link E8 to E5--><a href=\"psysml:a6dd9655-fa53-42fd-8b92-db635a2ece9b\" target=\"_top\" title=\"psysml:a6dd9655-fa53-42fd-8b92-db635a2ece9b\" xlink:actuate=\"onRequest\" xlink:href=\"psysml:a6dd9655-fa53-42fd-8b92-db635a2ece9b\" xlink:show=\"new\" xlink:title=\"psysml:a6dd9655-fa53-42fd-8b92-db635a2ece9b\" xlink:type=\"simple\"><path d=\"M110.35,129.15 C122.49,147.61 136.55,169.01 148.37,186.99 \" fill=\"none\" id=\"E8-&gt;E5\" style=\"stroke: #383838; stroke-width: 1.0;\"/><polygon fill=\"#FFFFFF\" points=\"159.48,203.91,143.1947,191.8772,154.8939,184.1877,159.48,203.91\" style=\"stroke: #383838; stroke-width: 1.0;\"/><ellipse cx=\"141.7353\" cy=\"186.0155\" fill=\"#383838\" rx=\"2\" ry=\"2\" style=\"stroke: #383838; stroke-width: 1.0;\"/><ellipse cx=\"150.0918\" cy=\"180.523\" fill=\"#383838\" rx=\"2\" ry=\"2\" style=\"stroke: #383838; stroke-width: 1.0;\"/></a><!--MD5=[441b6871a3f26c34998f34b86c0e74b3]\n",
       "@startuml\r\n",
       "skinparam monochrome true\r\n",
       "skinparam classbackgroundcolor white\r\n",
       "skinparam shadowing false\r\n",
       "skinparam wrapWidth 300\r\n",
       "hide circle\r\n",
       "\r\n",
       "package \"CalculationExample\" as E1  [[psysml:279b101a-ad7c-43dd-8a07-da5fe5802bed ]]  {\r\n",
       "comp usage \"vehicle\" as E2  <<(T,blue)part>> [[psysml:3dfd6fc9-2012-44ec-8abc-b458a2efa8ee ]] {\r\n",
       "- - attributes - -\r\n",
       "m: MassValue\r\n",
       "}\r\n",
       "comp usage \"eng\" as E3  <<(T,blue)part>> [[psysml:6f0477df-1982-4bef-bc4b-f3a5f459ca50 ]] {\r\n",
       "- - attributes - -\r\n",
       "m: MassValue\r\n",
       "}\r\n",
       "comp usage \"trans\" as E4  <<(T,blue)part>> [[psysml:39f29039-e97f-4cd7-a6e4-24de87290ff7 ]] {\r\n",
       "- - attributes - -\r\n",
       "m: MassValue\r\n",
       "}\r\n",
       "comp def \"MassSum\" as E5  <<(T,blue)calculation def>> [[psysml:5c4fc454-9680-413f-bf1a-bdf2f6cc06d5 ]] {\r\n",
       "}\r\n",
       "comp usage \"ms: MassSum\" as E6  <<(T,blue)calculation>> [[psysml:20e483d0-a5a0-4777-bc7f-caa19ca2a7e0 ]] {\r\n",
       "}\r\n",
       "comp def \"MassSum1\" as E7  <<(T,blue)calculation def>> [[psysml:83ce5d61-6771-4884-a571-d4d08f340672 ]] {\r\n",
       "- - attributes - -\r\n",
       "partMasses: MassValue\r\n",
       "totalMass: MassValue\r\n",
       "}\r\n",
       "comp usage \"ms1: MassSum\" as E8  <<(T,blue)calculation>> [[psysml:3aa3b647-0159-4a96-9fb7-94bd79c90754 ]] {\r\n",
       "- - attributes - -\r\n",
       "partMasses\r\n",
       "totalMass\r\n",
       "}\r\n",
       "E2 *- - E3 [[psysml:6f0477df-1982-4bef-bc4b-f3a5f459ca50 ]] \r\n",
       "E2 *- - E4 [[psysml:39f29039-e97f-4cd7-a6e4-24de87290ff7 ]] \r\n",
       "E6 - -:|> E5 [[psysml:087e1e8b-9f76-403f-b1f3-15ea1e5b2649 ]] \r\n",
       "E8 - -:|> E5 [[psysml:a6dd9655-fa53-42fd-8b92-db635a2ece9b ]] \r\n",
       "}\r\n",
       "@enduml\r\n",
       "\n",
       "PlantUML version 1.2020.13(Sat Jun 13 12:26:38 UTC 2020)\n",
       "(EPL source distribution)\n",
       "Java Runtime: OpenJDK Runtime Environment\n",
       "JVM: OpenJDK 64-Bit Server VM\n",
       "Default Encoding: UTF-8\n",
       "Language: en\n",
       "Country: null\n",
       "--></g></svg>"
      ]
     },
     "execution_count": 38,
     "metadata": {},
     "output_type": "execute_result"
    }
   ],
   "source": [
    "%viz --style=\"DEFAULT\" --view=\"Tree\" \"CalculationExample\""
   ]
  },
  {
   "cell_type": "code",
   "execution_count": 39,
   "id": "unlike-anchor",
   "metadata": {
    "execution": {
     "iopub.execute_input": "2021-03-26T13:05:08.046916Z",
     "iopub.status.busy": "2021-03-26T13:05:08.046167Z",
     "iopub.status.idle": "2021-03-26T13:05:08.055339Z",
     "shell.execute_reply": "2021-03-26T13:05:08.055712Z"
    }
   },
   "outputs": [
    {
     "data": {
      "image/svg+xml": [
       "<?xml version=\"1.0\" encoding=\"UTF-8\" standalone=\"no\"?><svg xmlns=\"http://www.w3.org/2000/svg\" xmlns:xlink=\"http://www.w3.org/1999/xlink\" contentScriptType=\"application/ecmascript\" contentStyleType=\"text/css\" height=\"12px\" preserveAspectRatio=\"none\" style=\"width:12px;height:12px;\" version=\"1.1\" viewBox=\"0 0 12 12\" width=\"12px\" zoomAndPan=\"magnify\"><defs/><g><!--MD5=[c5f280e076d0d61ccf4b0f27871bda1d]\n",
       "@startuml\r\n",
       "skinparam monochrome true\r\n",
       "skinparam classbackgroundcolor white\r\n",
       "skinparam shadowing false\r\n",
       "skinparam wrapWidth 300\r\n",
       "hide circle\r\n",
       "\r\n",
       "@enduml\r\n",
       "\n",
       "PlantUML version 1.2020.13(Sat Jun 13 12:26:38 UTC 2020)\n",
       "(EPL source distribution)\n",
       "Java Runtime: OpenJDK Runtime Environment\n",
       "JVM: OpenJDK 64-Bit Server VM\n",
       "Default Encoding: UTF-8\n",
       "Language: en\n",
       "Country: null\n",
       "--></g></svg>"
      ]
     },
     "execution_count": 39,
     "metadata": {},
     "output_type": "execute_result"
    }
   ],
   "source": [
    "%viz --style=\"DEFAULT\" --view=\"State\" \"CalculationExample\""
   ]
  },
  {
   "cell_type": "code",
   "execution_count": 40,
   "id": "appreciated-judgment",
   "metadata": {
    "execution": {
     "iopub.execute_input": "2021-03-26T13:05:08.111265Z",
     "iopub.status.busy": "2021-03-26T13:05:08.110609Z",
     "iopub.status.idle": "2021-03-26T13:05:08.142853Z",
     "shell.execute_reply": "2021-03-26T13:05:08.143244Z"
    }
   },
   "outputs": [
    {
     "data": {
      "image/svg+xml": [
       "<?xml version=\"1.0\" encoding=\"UTF-8\" standalone=\"no\"?><svg xmlns=\"http://www.w3.org/2000/svg\" xmlns:xlink=\"http://www.w3.org/1999/xlink\" contentScriptType=\"application/ecmascript\" contentStyleType=\"text/css\" height=\"246px\" preserveAspectRatio=\"none\" style=\"width:795px;height:246px;\" version=\"1.1\" viewBox=\"0 0 795 246\" width=\"795px\" zoomAndPan=\"magnify\"><defs/><g><!--MD5=[fbc87193dbaf4d95561dea2c320d4a47]\n",
       "cluster E1--><a href=\"psysml:279b101a-ad7c-43dd-8a07-da5fe5802bed\" target=\"_top\" title=\"psysml:279b101a-ad7c-43dd-8a07-da5fe5802bed\" xlink:actuate=\"onRequest\" xlink:href=\"psysml:279b101a-ad7c-43dd-8a07-da5fe5802bed\" xlink:show=\"new\" xlink:title=\"psysml:279b101a-ad7c-43dd-8a07-da5fe5802bed\" xlink:type=\"simple\"><polygon fill=\"#FFFFFF\" points=\"16,6,173,6,180,28.2969,773,28.2969,773,234,16,234,16,6\" style=\"stroke: #000000; stroke-width: 1.5;\"/><line style=\"stroke: #000000; stroke-width: 1.5;\" x1=\"16\" x2=\"180\" y1=\"28.2969\" y2=\"28.2969\"/><text fill=\"#000000\" font-family=\"sans-serif\" font-size=\"14\" font-weight=\"bold\" lengthAdjust=\"spacingAndGlyphs\" textLength=\"151\" x=\"20\" y=\"20.9951\">CalculationExample</text></a><!--MD5=[e4f7fae6ed58524ba242bb0b0d3be6b7]\n",
       "cluster E2--><a href=\"psysml:3dfd6fc9-2012-44ec-8abc-b458a2efa8ee\" target=\"_top\" title=\"psysml:3dfd6fc9-2012-44ec-8abc-b458a2efa8ee\" xlink:actuate=\"onRequest\" xlink:href=\"psysml:3dfd6fc9-2012-44ec-8abc-b458a2efa8ee\" xlink:show=\"new\" xlink:title=\"psysml:3dfd6fc9-2012-44ec-8abc-b458a2efa8ee\" xlink:type=\"simple\"><rect fill=\"#FFFFFF\" height=\"161\" id=\"E2\" rx=\"10\" ry=\"10\" style=\"stroke: #383838; stroke-width: 1.5;\" width=\"436\" x=\"313\" y=\"49\"/><rect fill=\"#F8F8F8\" height=\"23.9688\" rx=\"10\" ry=\"10\" style=\"stroke: #F8F8F8; stroke-width: 1.5;\" width=\"436\" x=\"313\" y=\"49\"/><rect fill=\"#F8F8F8\" height=\"10\" style=\"stroke: #F8F8F8; stroke-width: 1.5;\" width=\"436\" x=\"313\" y=\"62.9688\"/><rect fill=\"none\" height=\"161\" id=\"E2\" rx=\"10\" ry=\"10\" style=\"stroke: #383838; stroke-width: 1.5;\" width=\"436\" x=\"313\" y=\"49\"/><text fill=\"#000000\" font-family=\"sans-serif\" font-size=\"12\" lengthAdjust=\"spacingAndGlyphs\" textLength=\"43\" x=\"509.5\" y=\"65.1387\">vehicle</text><line style=\"stroke: #383838; stroke-width: 1.0;\" x1=\"313\" x2=\"749\" y1=\"72.9688\" y2=\"72.9688\"/></a><!--MD5=[f6df4d0ebaf0b5dfb2ced0ae5af7c670]\n",
       "cluster E4--><a href=\"psysml:6f0477df-1982-4bef-bc4b-f3a5f459ca50\" target=\"_top\" title=\"psysml:6f0477df-1982-4bef-bc4b-f3a5f459ca50\" xlink:actuate=\"onRequest\" xlink:href=\"psysml:6f0477df-1982-4bef-bc4b-f3a5f459ca50\" xlink:show=\"new\" xlink:title=\"psysml:6f0477df-1982-4bef-bc4b-f3a5f459ca50\" xlink:type=\"simple\"><rect fill=\"#FFFFFF\" height=\"94\" id=\"E4\" rx=\"10\" ry=\"10\" style=\"stroke: #383838; stroke-width: 1.5;\" width=\"128\" x=\"597\" y=\"92\"/><rect fill=\"#F8F8F8\" height=\"23.9688\" rx=\"10\" ry=\"10\" style=\"stroke: #F8F8F8; stroke-width: 1.5;\" width=\"128\" x=\"597\" y=\"92\"/><rect fill=\"#F8F8F8\" height=\"10\" style=\"stroke: #F8F8F8; stroke-width: 1.5;\" width=\"128\" x=\"597\" y=\"105.9688\"/><rect fill=\"none\" height=\"94\" id=\"E4\" rx=\"10\" ry=\"10\" style=\"stroke: #383838; stroke-width: 1.5;\" width=\"128\" x=\"597\" y=\"92\"/><text fill=\"#000000\" font-family=\"sans-serif\" font-size=\"12\" lengthAdjust=\"spacingAndGlyphs\" textLength=\"24\" x=\"649\" y=\"108.1387\">eng</text><line style=\"stroke: #383838; stroke-width: 1.0;\" x1=\"597\" x2=\"725\" y1=\"115.9688\" y2=\"115.9688\"/></a><!--MD5=[14e3b0961a2654348d326746436168a1]\n",
       "cluster E6--><a href=\"psysml:39f29039-e97f-4cd7-a6e4-24de87290ff7\" target=\"_top\" title=\"psysml:39f29039-e97f-4cd7-a6e4-24de87290ff7\" xlink:actuate=\"onRequest\" xlink:href=\"psysml:39f29039-e97f-4cd7-a6e4-24de87290ff7\" xlink:show=\"new\" xlink:title=\"psysml:39f29039-e97f-4cd7-a6e4-24de87290ff7\" xlink:type=\"simple\"><rect fill=\"#FFFFFF\" height=\"94\" id=\"E6\" rx=\"10\" ry=\"10\" style=\"stroke: #383838; stroke-width: 1.5;\" width=\"128\" x=\"445\" y=\"92\"/><rect fill=\"#F8F8F8\" height=\"23.9688\" rx=\"10\" ry=\"10\" style=\"stroke: #F8F8F8; stroke-width: 1.5;\" width=\"128\" x=\"445\" y=\"92\"/><rect fill=\"#F8F8F8\" height=\"10\" style=\"stroke: #F8F8F8; stroke-width: 1.5;\" width=\"128\" x=\"445\" y=\"105.9688\"/><rect fill=\"none\" height=\"94\" id=\"E6\" rx=\"10\" ry=\"10\" style=\"stroke: #383838; stroke-width: 1.5;\" width=\"128\" x=\"445\" y=\"92\"/><text fill=\"#000000\" font-family=\"sans-serif\" font-size=\"12\" lengthAdjust=\"spacingAndGlyphs\" textLength=\"33\" x=\"492.5\" y=\"108.1387\">trans</text><line style=\"stroke: #383838; stroke-width: 1.0;\" x1=\"445\" x2=\"573\" y1=\"115.9688\" y2=\"115.9688\"/></a><g id=\"E1.E8\"><a href=\"psysml:5c4fc454-9680-413f-bf1a-bdf2f6cc06d5\" target=\"_top\" title=\"psysml:5c4fc454-9680-413f-bf1a-bdf2f6cc06d5\" xlink:actuate=\"onRequest\" xlink:href=\"psysml:5c4fc454-9680-413f-bf1a-bdf2f6cc06d5\" xlink:show=\"new\" xlink:title=\"psysml:5c4fc454-9680-413f-bf1a-bdf2f6cc06d5\" xlink:type=\"simple\"><rect fill=\"#FFFFFF\" height=\"42.9375\" id=\"E8\" style=\"stroke: #383838; stroke-width: 1.5;\" width=\"113\" x=\"180.5\" y=\"127\"/><rect fill=\"#F8F8F8\" height=\"37.9375\" style=\"stroke: #383838; stroke-width: 1.5;\" width=\"113\" x=\"180.5\" y=\"127\"/><text fill=\"#000000\" font-family=\"sans-serif\" font-size=\"12\" font-style=\"italic\" lengthAdjust=\"spacingAndGlyphs\" textLength=\"106\" x=\"184\" y=\"143.1387\">«calculation def»</text><text fill=\"#000000\" font-family=\"sans-serif\" font-size=\"12\" lengthAdjust=\"spacingAndGlyphs\" textLength=\"59\" x=\"207.5\" y=\"157.1074\">MassSum</text></a></g><g id=\"E1.E9\"><a href=\"psysml:83ce5d61-6771-4884-a571-d4d08f340672\" target=\"_top\" title=\"psysml:83ce5d61-6771-4884-a571-d4d08f340672\" xlink:actuate=\"onRequest\" xlink:href=\"psysml:83ce5d61-6771-4884-a571-d4d08f340672\" xlink:show=\"new\" xlink:title=\"psysml:83ce5d61-6771-4884-a571-d4d08f340672\" xlink:type=\"simple\"><rect fill=\"#FFFFFF\" height=\"42.9375\" id=\"E9\" style=\"stroke: #383838; stroke-width: 1.5;\" width=\"113\" x=\"32.5\" y=\"127\"/><rect fill=\"#F8F8F8\" height=\"37.9375\" style=\"stroke: #383838; stroke-width: 1.5;\" width=\"113\" x=\"32.5\" y=\"127\"/><text fill=\"#000000\" font-family=\"sans-serif\" font-size=\"12\" font-style=\"italic\" lengthAdjust=\"spacingAndGlyphs\" textLength=\"106\" x=\"36\" y=\"143.1387\">«calculation def»</text><text fill=\"#000000\" font-family=\"sans-serif\" font-size=\"12\" lengthAdjust=\"spacingAndGlyphs\" textLength=\"67\" x=\"55.5\" y=\"157.1074\">MassSum1</text></a></g><g id=\"E1.E2.E3\"><a href=\"psysml:14ff17ee-41c8-45bd-b867-b50857ad993c\" target=\"_top\" title=\"psysml:14ff17ee-41c8-45bd-b867-b50857ad993c\" xlink:actuate=\"onRequest\" xlink:href=\"psysml:14ff17ee-41c8-45bd-b867-b50857ad993c\" xlink:show=\"new\" xlink:title=\"psysml:14ff17ee-41c8-45bd-b867-b50857ad993c\" xlink:type=\"simple\"><rect fill=\"#FFFFFF\" height=\"42.9375\" id=\"E3\" rx=\"10\" ry=\"10\" style=\"stroke: #383838; stroke-width: 1.5;\" width=\"97\" x=\"328.5\" y=\"127\"/><rect fill=\"#F8F8F8\" height=\"37.9375\" rx=\"10\" ry=\"10\" style=\"stroke: #F8F8F8; stroke-width: 1.5;\" width=\"97\" x=\"328.5\" y=\"127\"/><rect fill=\"#F8F8F8\" height=\"10\" style=\"stroke: #F8F8F8; stroke-width: 1.5;\" width=\"97\" x=\"328.5\" y=\"154.9375\"/><rect fill=\"none\" height=\"42.9375\" id=\"E3\" rx=\"10\" ry=\"10\" style=\"stroke: #383838; stroke-width: 1.5;\" width=\"97\" x=\"328.5\" y=\"127\"/><text fill=\"#000000\" font-family=\"sans-serif\" font-size=\"12\" font-style=\"italic\" lengthAdjust=\"spacingAndGlyphs\" textLength=\"69\" x=\"342.5\" y=\"143.1387\">«attribute»</text><text fill=\"#000000\" font-family=\"sans-serif\" font-size=\"12\" lengthAdjust=\"spacingAndGlyphs\" textLength=\"86\" x=\"334\" y=\"157.1074\">m: MassValue</text></a></g><g id=\"E1.E2.E4.E5\"><a href=\"psysml:74b360a2-1898-4ab2-8a14-bf87d0706240\" target=\"_top\" title=\"psysml:74b360a2-1898-4ab2-8a14-bf87d0706240\" xlink:actuate=\"onRequest\" xlink:href=\"psysml:74b360a2-1898-4ab2-8a14-bf87d0706240\" xlink:show=\"new\" xlink:title=\"psysml:74b360a2-1898-4ab2-8a14-bf87d0706240\" xlink:type=\"simple\"><rect fill=\"#FFFFFF\" height=\"42.9375\" id=\"E5\" rx=\"10\" ry=\"10\" style=\"stroke: #383838; stroke-width: 1.5;\" width=\"97\" x=\"612.5\" y=\"127\"/><rect fill=\"#F8F8F8\" height=\"37.9375\" rx=\"10\" ry=\"10\" style=\"stroke: #F8F8F8; stroke-width: 1.5;\" width=\"97\" x=\"612.5\" y=\"127\"/><rect fill=\"#F8F8F8\" height=\"10\" style=\"stroke: #F8F8F8; stroke-width: 1.5;\" width=\"97\" x=\"612.5\" y=\"154.9375\"/><rect fill=\"none\" height=\"42.9375\" id=\"E5\" rx=\"10\" ry=\"10\" style=\"stroke: #383838; stroke-width: 1.5;\" width=\"97\" x=\"612.5\" y=\"127\"/><text fill=\"#000000\" font-family=\"sans-serif\" font-size=\"12\" font-style=\"italic\" lengthAdjust=\"spacingAndGlyphs\" textLength=\"69\" x=\"626.5\" y=\"143.1387\">«attribute»</text><text fill=\"#000000\" font-family=\"sans-serif\" font-size=\"12\" lengthAdjust=\"spacingAndGlyphs\" textLength=\"86\" x=\"618\" y=\"157.1074\">m: MassValue</text></a></g><g id=\"E1.E2.E6.E7\"><a href=\"psysml:21104dbc-631a-485d-ad70-3d921fae82b5\" target=\"_top\" title=\"psysml:21104dbc-631a-485d-ad70-3d921fae82b5\" xlink:actuate=\"onRequest\" xlink:href=\"psysml:21104dbc-631a-485d-ad70-3d921fae82b5\" xlink:show=\"new\" xlink:title=\"psysml:21104dbc-631a-485d-ad70-3d921fae82b5\" xlink:type=\"simple\"><rect fill=\"#FFFFFF\" height=\"42.9375\" id=\"E7\" rx=\"10\" ry=\"10\" style=\"stroke: #383838; stroke-width: 1.5;\" width=\"97\" x=\"460.5\" y=\"127\"/><rect fill=\"#F8F8F8\" height=\"37.9375\" rx=\"10\" ry=\"10\" style=\"stroke: #F8F8F8; stroke-width: 1.5;\" width=\"97\" x=\"460.5\" y=\"127\"/><rect fill=\"#F8F8F8\" height=\"10\" style=\"stroke: #F8F8F8; stroke-width: 1.5;\" width=\"97\" x=\"460.5\" y=\"154.9375\"/><rect fill=\"none\" height=\"42.9375\" id=\"E7\" rx=\"10\" ry=\"10\" style=\"stroke: #383838; stroke-width: 1.5;\" width=\"97\" x=\"460.5\" y=\"127\"/><text fill=\"#000000\" font-family=\"sans-serif\" font-size=\"12\" font-style=\"italic\" lengthAdjust=\"spacingAndGlyphs\" textLength=\"69\" x=\"474.5\" y=\"143.1387\">«attribute»</text><text fill=\"#000000\" font-family=\"sans-serif\" font-size=\"12\" lengthAdjust=\"spacingAndGlyphs\" textLength=\"86\" x=\"466\" y=\"157.1074\">m: MassValue</text></a></g><!--MD5=[4b32d69b74238d6f55d05d5ccc4d8677]\n",
       "@startuml\r\n",
       "skinparam ranksep 8\r\n",
       "skinparam rectangle {\r\n",
       " backgroundColor<<block>> LightGreen\r\n",
       "}\r\n",
       "skinparam monochrome true\r\n",
       "skinparam classbackgroundcolor white\r\n",
       "skinparam shadowing false\r\n",
       "skinparam wrapWidth 300\r\n",
       "hide circle\r\n",
       "\r\n",
       "package \"CalculationExample\" as E1  [[psysml:279b101a-ad7c-43dd-8a07-da5fe5802bed ]]  {\r\n",
       "rec usage \"vehicle\" as E2  [[psysml:3dfd6fc9-2012-44ec-8abc-b458a2efa8ee ]] {\r\n",
       "rec usage \"m: MassValue\" as E3  <<(T,blue)attribute>> [[psysml:14ff17ee-41c8-45bd-b867-b50857ad993c ]] {\r\n",
       "}\r\n",
       "rec usage \"eng\" as E4  [[psysml:6f0477df-1982-4bef-bc4b-f3a5f459ca50 ]] {\r\n",
       "rec usage \"m: MassValue\" as E5  <<(T,blue)attribute>> [[psysml:74b360a2-1898-4ab2-8a14-bf87d0706240 ]] {\r\n",
       "}\r\n",
       "}\r\n",
       "rec usage \"trans\" as E6  [[psysml:39f29039-e97f-4cd7-a6e4-24de87290ff7 ]] {\r\n",
       "rec usage \"m: MassValue\" as E7  <<(T,blue)attribute>> [[psysml:21104dbc-631a-485d-ad70-3d921fae82b5 ]] {\r\n",
       "}\r\n",
       "}\r\n",
       "}\r\n",
       "def \"MassSum\" as E8  <<(T,blue)calculation def>> [[psysml:5c4fc454-9680-413f-bf1a-bdf2f6cc06d5 ]] \r\n",
       "def \"MassSum1\" as E9  <<(T,blue)calculation def>> [[psysml:83ce5d61-6771-4884-a571-d4d08f340672 ]] \r\n",
       "}\r\n",
       "@enduml\r\n",
       "\n",
       "PlantUML version 1.2020.13(Sat Jun 13 12:26:38 UTC 2020)\n",
       "(EPL source distribution)\n",
       "Java Runtime: OpenJDK Runtime Environment\n",
       "JVM: OpenJDK 64-Bit Server VM\n",
       "Default Encoding: UTF-8\n",
       "Language: en\n",
       "Country: null\n",
       "--></g></svg>"
      ]
     },
     "execution_count": 40,
     "metadata": {},
     "output_type": "execute_result"
    }
   ],
   "source": [
    "%viz --style=\"DEFAULT\" --view=\"Interconnection\" \"CalculationExample\""
   ]
  },
  {
   "cell_type": "code",
   "execution_count": 41,
   "id": "judicial-creek",
   "metadata": {
    "execution": {
     "iopub.execute_input": "2021-03-26T13:05:08.193922Z",
     "iopub.status.busy": "2021-03-26T13:05:08.193579Z",
     "iopub.status.idle": "2021-03-26T13:05:08.226814Z",
     "shell.execute_reply": "2021-03-26T13:05:08.225663Z"
    }
   },
   "outputs": [
    {
     "data": {
      "image/svg+xml": [
       "<?xml version=\"1.0\" encoding=\"UTF-8\" standalone=\"no\"?><svg xmlns=\"http://www.w3.org/2000/svg\" xmlns:xlink=\"http://www.w3.org/1999/xlink\" contentScriptType=\"application/ecmascript\" contentStyleType=\"text/css\" height=\"162px\" preserveAspectRatio=\"none\" style=\"width:676px;height:162px;\" version=\"1.1\" viewBox=\"0 0 676 162\" width=\"676px\" zoomAndPan=\"magnify\"><defs/><g><!--MD5=[fbc87193dbaf4d95561dea2c320d4a47]\n",
       "cluster E1--><a href=\"psysml:5c4fc454-9680-413f-bf1a-bdf2f6cc06d5\" target=\"_top\" title=\"psysml:5c4fc454-9680-413f-bf1a-bdf2f6cc06d5\" xlink:actuate=\"onRequest\" xlink:href=\"psysml:5c4fc454-9680-413f-bf1a-bdf2f6cc06d5\" xlink:show=\"new\" xlink:title=\"psysml:5c4fc454-9680-413f-bf1a-bdf2f6cc06d5\" xlink:type=\"simple\"><rect fill=\"#FFFFFF\" height=\"87.72\" id=\"E1\" style=\"stroke: #383838; stroke-width: 1.5;\" width=\"128\" x=\"28\" y=\"42.0986\"/><rect fill=\"#F8F8F8\" height=\"37.9375\" style=\"stroke: #383838; stroke-width: 1.5;\" width=\"128\" x=\"28\" y=\"42.0986\"/><text fill=\"#000000\" font-family=\"sans-serif\" font-size=\"12\" font-style=\"italic\" lengthAdjust=\"spacingAndGlyphs\" textLength=\"106\" x=\"39\" y=\"58.2373\">«calculation def»</text><text fill=\"#000000\" font-family=\"sans-serif\" font-size=\"12\" lengthAdjust=\"spacingAndGlyphs\" textLength=\"59\" x=\"62.5\" y=\"72.2061\">MassSum</text></a><!--MD5=[14e3b0961a2654348d326746436168a1]\n",
       "cluster E6--><a href=\"psysml:20e483d0-a5a0-4777-bc7f-caa19ca2a7e0\" target=\"_top\" title=\"psysml:20e483d0-a5a0-4777-bc7f-caa19ca2a7e0\" xlink:actuate=\"onRequest\" xlink:href=\"psysml:20e483d0-a5a0-4777-bc7f-caa19ca2a7e0\" xlink:show=\"new\" xlink:title=\"psysml:20e483d0-a5a0-4777-bc7f-caa19ca2a7e0\" xlink:type=\"simple\"><rect fill=\"#FFFFFF\" height=\"87.72\" id=\"E6\" rx=\"10\" ry=\"10\" style=\"stroke: #383838; stroke-width: 1.5;\" width=\"101\" x=\"251.75\" y=\"42.0986\"/><rect fill=\"#F8F8F8\" height=\"37.9375\" rx=\"10\" ry=\"10\" style=\"stroke: #F8F8F8; stroke-width: 1.5;\" width=\"101\" x=\"251.75\" y=\"42.0986\"/><rect fill=\"#F8F8F8\" height=\"10\" style=\"stroke: #F8F8F8; stroke-width: 1.5;\" width=\"101\" x=\"251.75\" y=\"70.0361\"/><rect fill=\"none\" height=\"87.72\" id=\"E6\" rx=\"10\" ry=\"10\" style=\"stroke: #383838; stroke-width: 1.5;\" width=\"101\" x=\"251.75\" y=\"42.0986\"/><text fill=\"#000000\" font-family=\"sans-serif\" font-size=\"12\" font-style=\"italic\" lengthAdjust=\"spacingAndGlyphs\" textLength=\"82\" x=\"261.25\" y=\"58.2373\">«calculation»</text><text fill=\"#000000\" font-family=\"sans-serif\" font-size=\"12\" lengthAdjust=\"spacingAndGlyphs\" textLength=\"18\" x=\"293.25\" y=\"72.2061\">ms</text><line style=\"stroke: #383838; stroke-width: 1.0;\" x1=\"251.75\" x2=\"352.75\" y1=\"80.0361\" y2=\"80.0361\"/></a><!--MD5=[7f149f147074ac12df2cb0a7728a5fb0]\n",
       "cluster E9--><a href=\"psysml:83ce5d61-6771-4884-a571-d4d08f340672\" target=\"_top\" title=\"psysml:83ce5d61-6771-4884-a571-d4d08f340672\" xlink:actuate=\"onRequest\" xlink:href=\"psysml:83ce5d61-6771-4884-a571-d4d08f340672\" xlink:show=\"new\" xlink:title=\"psysml:83ce5d61-6771-4884-a571-d4d08f340672\" xlink:type=\"simple\"><rect fill=\"#FFFFFF\" height=\"87.72\" id=\"E9\" style=\"stroke: #383838; stroke-width: 1.5;\" width=\"127\" x=\"410.25\" y=\"42.0986\"/><rect fill=\"#F8F8F8\" height=\"37.9375\" style=\"stroke: #383838; stroke-width: 1.5;\" width=\"127\" x=\"410.25\" y=\"42.0986\"/><text fill=\"#000000\" font-family=\"sans-serif\" font-size=\"12\" font-style=\"italic\" lengthAdjust=\"spacingAndGlyphs\" textLength=\"106\" x=\"420.75\" y=\"58.2373\">«calculation def»</text><text fill=\"#000000\" font-family=\"sans-serif\" font-size=\"12\" lengthAdjust=\"spacingAndGlyphs\" textLength=\"67\" x=\"440.25\" y=\"72.2061\">MassSum1</text></a><!--MD5=[47bea60c1a0ac6c1143df232041969c0]\n",
       "cluster E12--><a href=\"psysml:3aa3b647-0159-4a96-9fb7-94bd79c90754\" target=\"_top\" title=\"psysml:3aa3b647-0159-4a96-9fb7-94bd79c90754\" xlink:actuate=\"onRequest\" xlink:href=\"psysml:3aa3b647-0159-4a96-9fb7-94bd79c90754\" xlink:show=\"new\" xlink:title=\"psysml:3aa3b647-0159-4a96-9fb7-94bd79c90754\" xlink:type=\"simple\"><rect fill=\"#FFFFFF\" height=\"87.72\" id=\"E12\" rx=\"10\" ry=\"10\" style=\"stroke: #383838; stroke-width: 1.5;\" width=\"138\" x=\"526\" y=\"42.0986\"/><rect fill=\"#F8F8F8\" height=\"37.9375\" rx=\"10\" ry=\"10\" style=\"stroke: #F8F8F8; stroke-width: 1.5;\" width=\"138\" x=\"526\" y=\"42.0986\"/><rect fill=\"#F8F8F8\" height=\"10\" style=\"stroke: #F8F8F8; stroke-width: 1.5;\" width=\"138\" x=\"526\" y=\"70.0361\"/><rect fill=\"none\" height=\"87.72\" id=\"E12\" rx=\"10\" ry=\"10\" style=\"stroke: #383838; stroke-width: 1.5;\" width=\"138\" x=\"526\" y=\"42.0986\"/><text fill=\"#000000\" font-family=\"sans-serif\" font-size=\"12\" font-style=\"italic\" lengthAdjust=\"spacingAndGlyphs\" textLength=\"82\" x=\"554\" y=\"58.2373\">«calculation»</text><text fill=\"#000000\" font-family=\"sans-serif\" font-size=\"12\" lengthAdjust=\"spacingAndGlyphs\" textLength=\"26\" x=\"582\" y=\"72.2061\">ms1</text><line style=\"stroke: #383838; stroke-width: 1.0;\" x1=\"526\" x2=\"664\" y1=\"80.0361\" y2=\"80.0361\"/></a><text fill=\"#000000\" font-family=\"sans-serif\" font-size=\"14\" lengthAdjust=\"spacingAndGlyphs\" textLength=\"80\" x=\"6\" y=\"20.7969\">partMasses</text><rect fill=\"#383838\" height=\"12\" style=\"stroke: #F8F8F8; stroke-width: 1.5;\" width=\"12\" x=\"40\" y=\"36.0986\"/><text fill=\"#000000\" font-family=\"sans-serif\" font-size=\"14\" lengthAdjust=\"spacingAndGlyphs\" textLength=\"66\" x=\"54\" y=\"148.8138\">totalMass</text><rect fill=\"#383838\" height=\"12\" style=\"stroke: #F8F8F8; stroke-width: 1.5;\" width=\"12\" x=\"81\" y=\"123.8186\"/><text fill=\"#000000\" font-family=\"sans-serif\" font-size=\"14\" lengthAdjust=\"spacingAndGlyphs\" textLength=\"75\" x=\"100.5\" y=\"20.7969\">$collection</text><rect fill=\"#383838\" height=\"12\" style=\"stroke: #F8F8F8; stroke-width: 1.5;\" width=\"12\" x=\"132\" y=\"36.0986\"/><text fill=\"#000000\" font-family=\"sans-serif\" font-size=\"14\" lengthAdjust=\"spacingAndGlyphs\" textLength=\"48\" x=\"110\" y=\"148.8138\">$result</text><rect fill=\"#383838\" height=\"12\" style=\"stroke: #F8F8F8; stroke-width: 1.5;\" width=\"12\" x=\"128\" y=\"123.8186\"/><text fill=\"#000000\" font-family=\"sans-serif\" font-size=\"14\" lengthAdjust=\"spacingAndGlyphs\" textLength=\"80\" x=\"235\" y=\"20.7969\">partMasses</text><rect fill=\"#383838\" height=\"12\" style=\"stroke: #F8F8F8; stroke-width: 1.5;\" width=\"12\" x=\"269\" y=\"36.0986\"/><text fill=\"#000000\" font-family=\"sans-serif\" font-size=\"14\" lengthAdjust=\"spacingAndGlyphs\" textLength=\"66\" x=\"238\" y=\"148.8138\">totalMass</text><rect fill=\"#383838\" height=\"12\" style=\"stroke: #F8F8F8; stroke-width: 1.5;\" width=\"12\" x=\"265\" y=\"123.8186\"/><text fill=\"#000000\" font-family=\"sans-serif\" font-size=\"14\" lengthAdjust=\"spacingAndGlyphs\" textLength=\"80\" x=\"395\" y=\"20.7969\">partMasses</text><rect fill=\"#383838\" height=\"12\" style=\"stroke: #F8F8F8; stroke-width: 1.5;\" width=\"12\" x=\"429\" y=\"36.0986\"/><text fill=\"#000000\" font-family=\"sans-serif\" font-size=\"14\" lengthAdjust=\"spacingAndGlyphs\" textLength=\"66\" x=\"398\" y=\"148.8138\">totalMass</text><rect fill=\"#383838\" height=\"12\" style=\"stroke: #F8F8F8; stroke-width: 1.5;\" width=\"12\" x=\"425\" y=\"123.8186\"/><text fill=\"#000000\" font-family=\"sans-serif\" font-size=\"14\" lengthAdjust=\"spacingAndGlyphs\" textLength=\"80\" x=\"555\" y=\"20.7969\">partMasses</text><rect fill=\"#383838\" height=\"12\" style=\"stroke: #F8F8F8; stroke-width: 1.5;\" width=\"12\" x=\"589\" y=\"36.0986\"/><text fill=\"#000000\" font-family=\"sans-serif\" font-size=\"14\" lengthAdjust=\"spacingAndGlyphs\" textLength=\"66\" x=\"562\" y=\"148.8138\">totalMass</text><rect fill=\"#383838\" height=\"12\" style=\"stroke: #F8F8F8; stroke-width: 1.5;\" width=\"12\" x=\"589\" y=\"123.8186\"/><!--MD5=[a7b01cc745d22d8e88403bbcac788f2e]\n",
       "@startuml\r\n",
       "skinparam ranksep 8\r\n",
       "skinparam monochrome true\r\n",
       "skinparam classbackgroundcolor white\r\n",
       "skinparam shadowing false\r\n",
       "skinparam wrapWidth 300\r\n",
       "hide circle\r\n",
       "\r\n",
       "rec def \"MassSum\" as E1  <<(T,blue)calculation def>> [[psysml:5c4fc454-9680-413f-bf1a-bdf2f6cc06d5 ]] {\r\n",
       "portin \"partMasses\" as E2  [[psysml:57eaefe4-a57c-41fa-a944-033dc3e4df4e ]] \r\n",
       "portout \"totalMass\" as E3  [[psysml:35e88aae-ee13-4c55-bc31-272528607619 ]] \r\n",
       "portin \"$collection\" as E4  [[psysml:0e9b074a-52f0-467d-9ed6-1e247226bb71 ]] \r\n",
       "portout \"$result\" as E5  [[psysml:66242f20-bf9b-4b2d-900e-be3ce4c10d7e ]] \r\n",
       "}\r\n",
       "\r\n",
       "rec usage \"ms\" as E6  <<(T,blue)calculation>> [[psysml:20e483d0-a5a0-4777-bc7f-caa19ca2a7e0 ]] {\r\n",
       "portin \"partMasses\" as E7  [[psysml:61916027-7c4f-412f-9b89-438222569e79 ]] \r\n",
       "portout \"totalMass\" as E8  [[psysml:1b43c6aa-09b4-4e05-b4e4-873331fee78b ]] \r\n",
       "}\r\n",
       "\r\n",
       "rec def \"MassSum1\" as E9  <<(T,blue)calculation def>> [[psysml:83ce5d61-6771-4884-a571-d4d08f340672 ]] {\r\n",
       "portin \"partMasses\" as E10  [[psysml:0924d9a5-fc11-4345-935d-e5ff08c51a6a ]] \r\n",
       "portout \"totalMass\" as E11  [[psysml:b7c67a6a-5db6-4529-b3d9-f9fb47dc5f0c ]] \r\n",
       "}\r\n",
       "\r\n",
       "rec usage \"ms1\" as E12  <<(T,blue)calculation>> [[psysml:3aa3b647-0159-4a96-9fb7-94bd79c90754 ]] {\r\n",
       "portin \"partMasses\" as E13  [[psysml:d0b5b203-3fa8-4960-85f8-af6511da8b47 ]] \r\n",
       "portout \"totalMass\" as E14  [[psysml:7deb5e16-d6a2-4c83-9234-29097012e327 ]] \r\n",
       "}\r\n",
       "\r\n",
       "@enduml\r\n",
       "\n",
       "PlantUML version 1.2020.13(Sat Jun 13 12:26:38 UTC 2020)\n",
       "(EPL source distribution)\n",
       "Java Runtime: OpenJDK Runtime Environment\n",
       "JVM: OpenJDK 64-Bit Server VM\n",
       "Default Encoding: UTF-8\n",
       "Language: en\n",
       "Country: null\n",
       "--></g></svg>"
      ]
     },
     "execution_count": 41,
     "metadata": {},
     "output_type": "execute_result"
    }
   ],
   "source": [
    "%viz --style=\"DEFAULT\" --view=\"Action\" \"CalculationExample\""
   ]
  },
  {
   "cell_type": "code",
   "execution_count": 42,
   "id": "sustained-romance",
   "metadata": {
    "execution": {
     "iopub.execute_input": "2021-03-26T13:05:08.276859Z",
     "iopub.status.busy": "2021-03-26T13:05:08.276443Z",
     "iopub.status.idle": "2021-03-26T13:05:08.368897Z",
     "shell.execute_reply": "2021-03-26T13:05:08.366100Z"
    }
   },
   "outputs": [
    {
     "data": {
      "image/svg+xml": [
       "<?xml version=\"1.0\" encoding=\"UTF-8\" standalone=\"no\"?><svg xmlns=\"http://www.w3.org/2000/svg\" xmlns:xlink=\"http://www.w3.org/1999/xlink\" contentScriptType=\"application/ecmascript\" contentStyleType=\"text/css\" height=\"293px\" preserveAspectRatio=\"none\" style=\"width:607px;height:293px;\" version=\"1.1\" viewBox=\"0 0 607 293\" width=\"607px\" zoomAndPan=\"magnify\"><defs/><g><!--MD5=[fbc87193dbaf4d95561dea2c320d4a47]\n",
       "cluster E1--><a href=\"psysml:279b101a-ad7c-43dd-8a07-da5fe5802bed\" target=\"_top\" title=\"psysml:279b101a-ad7c-43dd-8a07-da5fe5802bed\" xlink:actuate=\"onRequest\" xlink:href=\"psysml:279b101a-ad7c-43dd-8a07-da5fe5802bed\" xlink:show=\"new\" xlink:title=\"psysml:279b101a-ad7c-43dd-8a07-da5fe5802bed\" xlink:type=\"simple\"><polygon fill=\"#FFFFFF\" points=\"16,6,173,6,180,28.2969,585,28.2969,585,281,16,281,16,6\" style=\"stroke: #000000; stroke-width: 1.5;\"/><line style=\"stroke: #000000; stroke-width: 1.5;\" x1=\"16\" x2=\"180\" y1=\"28.2969\" y2=\"28.2969\"/><text fill=\"#000000\" font-family=\"sans-serif\" font-size=\"14\" font-weight=\"bold\" lengthAdjust=\"spacingAndGlyphs\" textLength=\"151\" x=\"20\" y=\"20.9951\">CalculationExample</text></a><!--MD5=[b4997ac47864f28c2f74865a473b2911]\n",
       "class E2--><a href=\"psysml:3dfd6fc9-2012-44ec-8abc-b458a2efa8ee\" target=\"_top\" title=\"psysml:3dfd6fc9-2012-44ec-8abc-b458a2efa8ee\" xlink:actuate=\"onRequest\" xlink:href=\"psysml:3dfd6fc9-2012-44ec-8abc-b458a2efa8ee\" xlink:show=\"new\" xlink:title=\"psysml:3dfd6fc9-2012-44ec-8abc-b458a2efa8ee\" xlink:type=\"simple\"><rect fill=\"#FFFFFF\" height=\"75.5469\" id=\"E2\" rx=\"10\" ry=\"10\" style=\"stroke: #383838; stroke-width: 1.5;\" width=\"92\" x=\"477\" y=\"47\"/><text fill=\"#000000\" font-family=\"sans-serif\" font-size=\"12\" font-style=\"italic\" lengthAdjust=\"spacingAndGlyphs\" textLength=\"40\" x=\"503\" y=\"63.1387\">«part»</text><text fill=\"#000000\" font-family=\"sans-serif\" font-size=\"12\" lengthAdjust=\"spacingAndGlyphs\" textLength=\"43\" x=\"501.5\" y=\"77.1074\">vehicle</text><line style=\"stroke: #383838; stroke-width: 1.5;\" x1=\"478\" x2=\"568\" y1=\"84.9375\" y2=\"84.9375\"/><text fill=\"#000000\" font-family=\"sans-serif\" font-size=\"11\" lengthAdjust=\"spacingAndGlyphs\" textLength=\"80\" x=\"483\" y=\"115.9526\">m: MassValue</text><line style=\"stroke: #383838; stroke-width: 1.0;\" x1=\"478\" x2=\"495.5\" y1=\"99.3398\" y2=\"99.3398\"/><text fill=\"#000000\" font-family=\"sans-serif\" font-size=\"11\" lengthAdjust=\"spacingAndGlyphs\" textLength=\"55\" x=\"495.5\" y=\"102.6479\">attributes</text><line style=\"stroke: #383838; stroke-width: 1.0;\" x1=\"550.5\" x2=\"568\" y1=\"99.3398\" y2=\"99.3398\"/></a><!--MD5=[09b614a08d8cba4a07c9adeb5e0fee81]\n",
       "class E3--><a href=\"psysml:6f0477df-1982-4bef-bc4b-f3a5f459ca50\" target=\"_top\" title=\"psysml:6f0477df-1982-4bef-bc4b-f3a5f459ca50\" xlink:actuate=\"onRequest\" xlink:href=\"psysml:6f0477df-1982-4bef-bc4b-f3a5f459ca50\" xlink:show=\"new\" xlink:title=\"psysml:6f0477df-1982-4bef-bc4b-f3a5f459ca50\" xlink:type=\"simple\"><rect fill=\"#FFFFFF\" height=\"75.5469\" id=\"E3\" rx=\"10\" ry=\"10\" style=\"stroke: #383838; stroke-width: 1.5;\" width=\"92\" x=\"350\" y=\"189\"/><text fill=\"#000000\" font-family=\"sans-serif\" font-size=\"12\" font-style=\"italic\" lengthAdjust=\"spacingAndGlyphs\" textLength=\"40\" x=\"376\" y=\"205.1387\">«part»</text><text fill=\"#000000\" font-family=\"sans-serif\" font-size=\"12\" lengthAdjust=\"spacingAndGlyphs\" textLength=\"24\" x=\"384\" y=\"219.1074\">eng</text><line style=\"stroke: #383838; stroke-width: 1.5;\" x1=\"351\" x2=\"441\" y1=\"226.9375\" y2=\"226.9375\"/><text fill=\"#000000\" font-family=\"sans-serif\" font-size=\"11\" lengthAdjust=\"spacingAndGlyphs\" textLength=\"80\" x=\"356\" y=\"257.9526\">m: MassValue</text><line style=\"stroke: #383838; stroke-width: 1.0;\" x1=\"351\" x2=\"368.5\" y1=\"241.3398\" y2=\"241.3398\"/><text fill=\"#000000\" font-family=\"sans-serif\" font-size=\"11\" lengthAdjust=\"spacingAndGlyphs\" textLength=\"55\" x=\"368.5\" y=\"244.6479\">attributes</text><line style=\"stroke: #383838; stroke-width: 1.0;\" x1=\"423.5\" x2=\"441\" y1=\"241.3398\" y2=\"241.3398\"/></a><!--MD5=[ebbe1d658d1005bcc118a6aa81145e00]\n",
       "class E4--><a href=\"psysml:39f29039-e97f-4cd7-a6e4-24de87290ff7\" target=\"_top\" title=\"psysml:39f29039-e97f-4cd7-a6e4-24de87290ff7\" xlink:actuate=\"onRequest\" xlink:href=\"psysml:39f29039-e97f-4cd7-a6e4-24de87290ff7\" xlink:show=\"new\" xlink:title=\"psysml:39f29039-e97f-4cd7-a6e4-24de87290ff7\" xlink:type=\"simple\"><rect fill=\"#FFFFFF\" height=\"75.5469\" id=\"E4\" rx=\"10\" ry=\"10\" style=\"stroke: #383838; stroke-width: 1.5;\" width=\"92\" x=\"477\" y=\"189\"/><text fill=\"#000000\" font-family=\"sans-serif\" font-size=\"12\" font-style=\"italic\" lengthAdjust=\"spacingAndGlyphs\" textLength=\"40\" x=\"503\" y=\"205.1387\">«part»</text><text fill=\"#000000\" font-family=\"sans-serif\" font-size=\"12\" lengthAdjust=\"spacingAndGlyphs\" textLength=\"33\" x=\"506.5\" y=\"219.1074\">trans</text><line style=\"stroke: #383838; stroke-width: 1.5;\" x1=\"478\" x2=\"568\" y1=\"226.9375\" y2=\"226.9375\"/><text fill=\"#000000\" font-family=\"sans-serif\" font-size=\"11\" lengthAdjust=\"spacingAndGlyphs\" textLength=\"80\" x=\"483\" y=\"257.9526\">m: MassValue</text><line style=\"stroke: #383838; stroke-width: 1.0;\" x1=\"478\" x2=\"495.5\" y1=\"241.3398\" y2=\"241.3398\"/><text fill=\"#000000\" font-family=\"sans-serif\" font-size=\"11\" lengthAdjust=\"spacingAndGlyphs\" textLength=\"55\" x=\"495.5\" y=\"244.6479\">attributes</text><line style=\"stroke: #383838; stroke-width: 1.0;\" x1=\"550.5\" x2=\"568\" y1=\"241.3398\" y2=\"241.3398\"/></a><!--MD5=[270fce915f116d4de14055a7c1d9a0f3]\n",
       "class E5--><a href=\"psysml:5c4fc454-9680-413f-bf1a-bdf2f6cc06d5\" target=\"_top\" title=\"psysml:5c4fc454-9680-413f-bf1a-bdf2f6cc06d5\" xlink:actuate=\"onRequest\" xlink:href=\"psysml:5c4fc454-9680-413f-bf1a-bdf2f6cc06d5\" xlink:show=\"new\" xlink:title=\"psysml:5c4fc454-9680-413f-bf1a-bdf2f6cc06d5\" xlink:type=\"simple\"><rect fill=\"#FFFFFF\" height=\"45.9375\" id=\"E5\" style=\"stroke: #383838; stroke-width: 1.5;\" width=\"108\" x=\"120\" y=\"204\"/><text fill=\"#000000\" font-family=\"sans-serif\" font-size=\"12\" font-style=\"italic\" lengthAdjust=\"spacingAndGlyphs\" textLength=\"106\" x=\"121\" y=\"220.1387\">«calculation def»</text><text fill=\"#000000\" font-family=\"sans-serif\" font-size=\"12\" lengthAdjust=\"spacingAndGlyphs\" textLength=\"59\" x=\"144.5\" y=\"234.1074\">MassSum</text><line style=\"stroke: #383838; stroke-width: 1.5;\" x1=\"121\" x2=\"227\" y1=\"241.9375\" y2=\"241.9375\"/></a><!--MD5=[60a26617385b1d2d0262a64233df1f8d]\n",
       "class E6--><a href=\"psysml:20e483d0-a5a0-4777-bc7f-caa19ca2a7e0\" target=\"_top\" title=\"psysml:20e483d0-a5a0-4777-bc7f-caa19ca2a7e0\" xlink:actuate=\"onRequest\" xlink:href=\"psysml:20e483d0-a5a0-4777-bc7f-caa19ca2a7e0\" xlink:show=\"new\" xlink:title=\"psysml:20e483d0-a5a0-4777-bc7f-caa19ca2a7e0\" xlink:type=\"simple\"><rect fill=\"#FFFFFF\" height=\"45.9375\" id=\"E6\" rx=\"10\" ry=\"10\" style=\"stroke: #383838; stroke-width: 1.5;\" width=\"91\" x=\"350.5\" y=\"62\"/><text fill=\"#000000\" font-family=\"sans-serif\" font-size=\"12\" font-style=\"italic\" lengthAdjust=\"spacingAndGlyphs\" textLength=\"82\" x=\"355\" y=\"78.1387\">«calculation»</text><text fill=\"#000000\" font-family=\"sans-serif\" font-size=\"12\" lengthAdjust=\"spacingAndGlyphs\" textLength=\"85\" x=\"353.5\" y=\"92.1074\">ms: MassSum</text><line style=\"stroke: #383838; stroke-width: 1.5;\" x1=\"351.5\" x2=\"440.5\" y1=\"99.9375\" y2=\"99.9375\"/></a><!--MD5=[2156ba9850f5573cc1fc38a6a4b2f02b]\n",
       "class E7--><a href=\"psysml:83ce5d61-6771-4884-a571-d4d08f340672\" target=\"_top\" title=\"psysml:83ce5d61-6771-4884-a571-d4d08f340672\" xlink:actuate=\"onRequest\" xlink:href=\"psysml:83ce5d61-6771-4884-a571-d4d08f340672\" xlink:show=\"new\" xlink:title=\"psysml:83ce5d61-6771-4884-a571-d4d08f340672\" xlink:type=\"simple\"><rect fill=\"#FFFFFF\" height=\"88.3516\" id=\"E7\" style=\"stroke: #383838; stroke-width: 1.5;\" width=\"148\" x=\"167\" y=\"41\"/><text fill=\"#000000\" font-family=\"sans-serif\" font-size=\"12\" font-style=\"italic\" lengthAdjust=\"spacingAndGlyphs\" textLength=\"106\" x=\"188\" y=\"57.1387\">«calculation def»</text><text fill=\"#000000\" font-family=\"sans-serif\" font-size=\"12\" lengthAdjust=\"spacingAndGlyphs\" textLength=\"67\" x=\"207.5\" y=\"71.1074\">MassSum1</text><line style=\"stroke: #383838; stroke-width: 1.5;\" x1=\"168\" x2=\"314\" y1=\"78.9375\" y2=\"78.9375\"/><text fill=\"#000000\" font-family=\"sans-serif\" font-size=\"11\" lengthAdjust=\"spacingAndGlyphs\" textLength=\"136\" x=\"173\" y=\"109.9526\">partMasses: MassValue</text><text fill=\"#000000\" font-family=\"sans-serif\" font-size=\"11\" lengthAdjust=\"spacingAndGlyphs\" textLength=\"124\" x=\"173\" y=\"122.7573\">totalMass: MassValue</text><line style=\"stroke: #383838; stroke-width: 1.0;\" x1=\"168\" x2=\"213.5\" y1=\"93.3398\" y2=\"93.3398\"/><text fill=\"#000000\" font-family=\"sans-serif\" font-size=\"11\" lengthAdjust=\"spacingAndGlyphs\" textLength=\"55\" x=\"213.5\" y=\"96.6479\">attributes</text><line style=\"stroke: #383838; stroke-width: 1.0;\" x1=\"268.5\" x2=\"314\" y1=\"93.3398\" y2=\"93.3398\"/></a><!--MD5=[b9389687b975829384b498ac4b7476b2]\n",
       "class E8--><a href=\"psysml:3aa3b647-0159-4a96-9fb7-94bd79c90754\" target=\"_top\" title=\"psysml:3aa3b647-0159-4a96-9fb7-94bd79c90754\" xlink:actuate=\"onRequest\" xlink:href=\"psysml:3aa3b647-0159-4a96-9fb7-94bd79c90754\" xlink:show=\"new\" xlink:title=\"psysml:3aa3b647-0159-4a96-9fb7-94bd79c90754\" xlink:type=\"simple\"><rect fill=\"#FFFFFF\" height=\"88.3516\" id=\"E8\" rx=\"10\" ry=\"10\" style=\"stroke: #383838; stroke-width: 1.5;\" width=\"99\" x=\"32.5\" y=\"41\"/><text fill=\"#000000\" font-family=\"sans-serif\" font-size=\"12\" font-style=\"italic\" lengthAdjust=\"spacingAndGlyphs\" textLength=\"82\" x=\"41\" y=\"57.1387\">«calculation»</text><text fill=\"#000000\" font-family=\"sans-serif\" font-size=\"12\" lengthAdjust=\"spacingAndGlyphs\" textLength=\"93\" x=\"35.5\" y=\"71.1074\">ms1: MassSum</text><line style=\"stroke: #383838; stroke-width: 1.5;\" x1=\"33.5\" x2=\"130.5\" y1=\"78.9375\" y2=\"78.9375\"/><text fill=\"#000000\" font-family=\"sans-serif\" font-size=\"11\" lengthAdjust=\"spacingAndGlyphs\" textLength=\"67\" x=\"38.5\" y=\"109.9526\">partMasses</text><text fill=\"#000000\" font-family=\"sans-serif\" font-size=\"11\" lengthAdjust=\"spacingAndGlyphs\" textLength=\"55\" x=\"38.5\" y=\"122.7573\">totalMass</text><line style=\"stroke: #383838; stroke-width: 1.0;\" x1=\"33.5\" x2=\"54.5\" y1=\"93.3398\" y2=\"93.3398\"/><text fill=\"#000000\" font-family=\"sans-serif\" font-size=\"11\" lengthAdjust=\"spacingAndGlyphs\" textLength=\"55\" x=\"54.5\" y=\"96.6479\">attributes</text><line style=\"stroke: #383838; stroke-width: 1.0;\" x1=\"109.5\" x2=\"130.5\" y1=\"93.3398\" y2=\"93.3398\"/></a><!--MD5=[209b3feb70ccb6233bfe1053d122c12c]\n",
       "reverse link E2 to E3--><a href=\"psysml:6f0477df-1982-4bef-bc4b-f3a5f459ca50\" target=\"_top\" title=\"psysml:6f0477df-1982-4bef-bc4b-f3a5f459ca50\" xlink:actuate=\"onRequest\" xlink:href=\"psysml:6f0477df-1982-4bef-bc4b-f3a5f459ca50\" xlink:show=\"new\" xlink:title=\"psysml:6f0477df-1982-4bef-bc4b-f3a5f459ca50\" xlink:type=\"simple\"><path d=\"M480.41,132.95 C463.95,151.1 445.38,171.57 429.86,188.68 \" fill=\"none\" id=\"E2&lt;-E3\" style=\"stroke: #383838; stroke-width: 1.0;\"/><polygon fill=\"#383838\" points=\"489.3,123.15,482.3052,124.9031,481.2332,132.0341,488.2279,130.281,489.3,123.15\" style=\"stroke: #383838; stroke-width: 1.0;\"/></a><!--MD5=[9618e71518536f8baf3342ff6fdab317]\n",
       "reverse link E2 to E4--><a href=\"psysml:39f29039-e97f-4cd7-a6e4-24de87290ff7\" target=\"_top\" title=\"psysml:39f29039-e97f-4cd7-a6e4-24de87290ff7\" xlink:actuate=\"onRequest\" xlink:href=\"psysml:39f29039-e97f-4cd7-a6e4-24de87290ff7\" xlink:show=\"new\" xlink:title=\"psysml:39f29039-e97f-4cd7-a6e4-24de87290ff7\" xlink:type=\"simple\"><path d=\"M523,136.25 C523,153.55 523,172.6 523,188.68 \" fill=\"none\" id=\"E2&lt;-E4\" style=\"stroke: #383838; stroke-width: 1.0;\"/><polygon fill=\"#383838\" points=\"523,123.15,519,129.15,523,135.15,527,129.15,523,123.15\" style=\"stroke: #383838; stroke-width: 1.0;\"/></a><!--MD5=[25b190c987b1e74e5126d372c5a73af1]\n",
       "link E6 to E5--><a href=\"psysml:087e1e8b-9f76-403f-b1f3-15ea1e5b2649\" target=\"_top\" title=\"psysml:087e1e8b-9f76-403f-b1f3-15ea1e5b2649\" xlink:actuate=\"onRequest\" xlink:href=\"psysml:087e1e8b-9f76-403f-b1f3-15ea1e5b2649\" xlink:show=\"new\" xlink:title=\"psysml:087e1e8b-9f76-403f-b1f3-15ea1e5b2649\" xlink:type=\"simple\"><path d=\"M364.16,108.19 C354.25,114.98 343.23,122.39 333,129 C298.76,151.11 259.69,174.96 228.85,193.48 \" fill=\"none\" id=\"E6-&gt;E5\" style=\"stroke: #383838; stroke-width: 1.0;\"/><polygon fill=\"#FFFFFF\" points=\"211.28,203.99,223.9864,188.2246,231.1775,200.2365,211.28,203.99\" style=\"stroke: #383838; stroke-width: 1.0;\"/><ellipse cx=\"229.9042\" cy=\"187.0127\" fill=\"#383838\" rx=\"2\" ry=\"2\" style=\"stroke: #383838; stroke-width: 1.0;\"/><ellipse cx=\"235.0408\" cy=\"195.5927\" fill=\"#383838\" rx=\"2\" ry=\"2\" style=\"stroke: #383838; stroke-width: 1.0;\"/></a><!--MD5=[1ccb2481ffa92f8d51a74ee30c51832a]\n",
       "link E8 to E5--><a href=\"psysml:a6dd9655-fa53-42fd-8b92-db635a2ece9b\" target=\"_top\" title=\"psysml:a6dd9655-fa53-42fd-8b92-db635a2ece9b\" xlink:actuate=\"onRequest\" xlink:href=\"psysml:a6dd9655-fa53-42fd-8b92-db635a2ece9b\" xlink:show=\"new\" xlink:title=\"psysml:a6dd9655-fa53-42fd-8b92-db635a2ece9b\" xlink:type=\"simple\"><path d=\"M110.35,129.15 C122.49,147.61 136.55,169.01 148.37,186.99 \" fill=\"none\" id=\"E8-&gt;E5\" style=\"stroke: #383838; stroke-width: 1.0;\"/><polygon fill=\"#FFFFFF\" points=\"159.48,203.91,143.1947,191.8772,154.8939,184.1877,159.48,203.91\" style=\"stroke: #383838; stroke-width: 1.0;\"/><ellipse cx=\"141.7353\" cy=\"186.0155\" fill=\"#383838\" rx=\"2\" ry=\"2\" style=\"stroke: #383838; stroke-width: 1.0;\"/><ellipse cx=\"150.0918\" cy=\"180.523\" fill=\"#383838\" rx=\"2\" ry=\"2\" style=\"stroke: #383838; stroke-width: 1.0;\"/></a><!--MD5=[441b6871a3f26c34998f34b86c0e74b3]\n",
       "@startuml\r\n",
       "skinparam monochrome true\r\n",
       "skinparam classbackgroundcolor white\r\n",
       "skinparam shadowing false\r\n",
       "skinparam wrapWidth 300\r\n",
       "hide circle\r\n",
       "\r\n",
       "package \"CalculationExample\" as E1  [[psysml:279b101a-ad7c-43dd-8a07-da5fe5802bed ]]  {\r\n",
       "comp usage \"vehicle\" as E2  <<(T,blue)part>> [[psysml:3dfd6fc9-2012-44ec-8abc-b458a2efa8ee ]] {\r\n",
       "- - attributes - -\r\n",
       "m: MassValue\r\n",
       "}\r\n",
       "comp usage \"eng\" as E3  <<(T,blue)part>> [[psysml:6f0477df-1982-4bef-bc4b-f3a5f459ca50 ]] {\r\n",
       "- - attributes - -\r\n",
       "m: MassValue\r\n",
       "}\r\n",
       "comp usage \"trans\" as E4  <<(T,blue)part>> [[psysml:39f29039-e97f-4cd7-a6e4-24de87290ff7 ]] {\r\n",
       "- - attributes - -\r\n",
       "m: MassValue\r\n",
       "}\r\n",
       "comp def \"MassSum\" as E5  <<(T,blue)calculation def>> [[psysml:5c4fc454-9680-413f-bf1a-bdf2f6cc06d5 ]] {\r\n",
       "}\r\n",
       "comp usage \"ms: MassSum\" as E6  <<(T,blue)calculation>> [[psysml:20e483d0-a5a0-4777-bc7f-caa19ca2a7e0 ]] {\r\n",
       "}\r\n",
       "comp def \"MassSum1\" as E7  <<(T,blue)calculation def>> [[psysml:83ce5d61-6771-4884-a571-d4d08f340672 ]] {\r\n",
       "- - attributes - -\r\n",
       "partMasses: MassValue\r\n",
       "totalMass: MassValue\r\n",
       "}\r\n",
       "comp usage \"ms1: MassSum\" as E8  <<(T,blue)calculation>> [[psysml:3aa3b647-0159-4a96-9fb7-94bd79c90754 ]] {\r\n",
       "- - attributes - -\r\n",
       "partMasses\r\n",
       "totalMass\r\n",
       "}\r\n",
       "E2 *- - E3 [[psysml:6f0477df-1982-4bef-bc4b-f3a5f459ca50 ]] \r\n",
       "E2 *- - E4 [[psysml:39f29039-e97f-4cd7-a6e4-24de87290ff7 ]] \r\n",
       "E6 - -:|> E5 [[psysml:087e1e8b-9f76-403f-b1f3-15ea1e5b2649 ]] \r\n",
       "E8 - -:|> E5 [[psysml:a6dd9655-fa53-42fd-8b92-db635a2ece9b ]] \r\n",
       "}\r\n",
       "@enduml\r\n",
       "\n",
       "PlantUML version 1.2020.13(Sat Jun 13 12:26:38 UTC 2020)\n",
       "(EPL source distribution)\n",
       "Java Runtime: OpenJDK Runtime Environment\n",
       "JVM: OpenJDK 64-Bit Server VM\n",
       "Default Encoding: UTF-8\n",
       "Language: en\n",
       "Country: null\n",
       "--></g></svg>"
      ]
     },
     "execution_count": 42,
     "metadata": {},
     "output_type": "execute_result"
    }
   ],
   "source": [
    "%viz --style=\"DEFAULT\" --view=\"Sequence\" \"CalculationExample\""
   ]
  },
  {
   "cell_type": "code",
   "execution_count": 43,
   "id": "automated-reach",
   "metadata": {
    "execution": {
     "iopub.execute_input": "2021-03-26T13:05:08.417767Z",
     "iopub.status.busy": "2021-03-26T13:05:08.417423Z",
     "iopub.status.idle": "2021-03-26T13:05:08.493520Z",
     "shell.execute_reply": "2021-03-26T13:05:08.492113Z"
    }
   },
   "outputs": [
    {
     "data": {
      "image/svg+xml": [
       "<?xml version=\"1.0\" encoding=\"UTF-8\" standalone=\"no\"?><svg xmlns=\"http://www.w3.org/2000/svg\" xmlns:xlink=\"http://www.w3.org/1999/xlink\" contentScriptType=\"application/ecmascript\" contentStyleType=\"text/css\" height=\"441px\" preserveAspectRatio=\"none\" style=\"width:788px;height:441px;\" version=\"1.1\" viewBox=\"0 0 788 441\" width=\"788px\" zoomAndPan=\"magnify\"><defs/><g><!--MD5=[fbc87193dbaf4d95561dea2c320d4a47]\n",
       "cluster E1--><a href=\"psysml:279b101a-ad7c-43dd-8a07-da5fe5802bed\" target=\"_top\" title=\"psysml:279b101a-ad7c-43dd-8a07-da5fe5802bed\" xlink:actuate=\"onRequest\" xlink:href=\"psysml:279b101a-ad7c-43dd-8a07-da5fe5802bed\" xlink:show=\"new\" xlink:title=\"psysml:279b101a-ad7c-43dd-8a07-da5fe5802bed\" xlink:type=\"simple\"><polygon fill=\"#FFFFFF\" points=\"16,6,173,6,180,28.2969,766,28.2969,766,429.72,16,429.72,16,6\" style=\"stroke: #000000; stroke-width: 1.5;\"/><line style=\"stroke: #000000; stroke-width: 1.5;\" x1=\"16\" x2=\"180\" y1=\"28.2969\" y2=\"28.2969\"/><text fill=\"#000000\" font-family=\"sans-serif\" font-size=\"14\" font-weight=\"bold\" lengthAdjust=\"spacingAndGlyphs\" textLength=\"151\" x=\"20\" y=\"20.9951\">CalculationExample</text></a><!--MD5=[de5ec2e2e8f62f467e546659f5068c88]\n",
       "cluster E5--><a href=\"psysml:5c4fc454-9680-413f-bf1a-bdf2f6cc06d5\" target=\"_top\" title=\"psysml:5c4fc454-9680-413f-bf1a-bdf2f6cc06d5\" xlink:actuate=\"onRequest\" xlink:href=\"psysml:5c4fc454-9680-413f-bf1a-bdf2f6cc06d5\" xlink:show=\"new\" xlink:title=\"psysml:5c4fc454-9680-413f-bf1a-bdf2f6cc06d5\" xlink:type=\"simple\"><rect fill=\"#FFFFFF\" height=\"306.72\" id=\"E5\" style=\"stroke: #383838; stroke-width: 1.5;\" width=\"128\" x=\"155\" y=\"85\"/><rect fill=\"#F8F8F8\" height=\"37.9375\" style=\"stroke: #383838; stroke-width: 1.5;\" width=\"128\" x=\"155\" y=\"85\"/><text fill=\"#000000\" font-family=\"sans-serif\" font-size=\"12\" font-style=\"italic\" lengthAdjust=\"spacingAndGlyphs\" textLength=\"106\" x=\"166\" y=\"101.1387\">«calculation def»</text><text fill=\"#000000\" font-family=\"sans-serif\" font-size=\"12\" lengthAdjust=\"spacingAndGlyphs\" textLength=\"59\" x=\"189.5\" y=\"115.1074\">MassSum</text></a><!--MD5=[917b9dd0c7eca3ee5f47219d1a84c0ad]\n",
       "cluster E11--><a href=\"psysml:83ce5d61-6771-4884-a571-d4d08f340672\" target=\"_top\" title=\"psysml:83ce5d61-6771-4884-a571-d4d08f340672\" xlink:actuate=\"onRequest\" xlink:href=\"psysml:83ce5d61-6771-4884-a571-d4d08f340672\" xlink:show=\"new\" xlink:title=\"psysml:83ce5d61-6771-4884-a571-d4d08f340672\" xlink:type=\"simple\"><rect fill=\"#FFFFFF\" height=\"306.72\" id=\"E11\" style=\"stroke: #383838; stroke-width: 1.5;\" width=\"166\" x=\"584\" y=\"85\"/><rect fill=\"#F8F8F8\" height=\"37.9375\" style=\"stroke: #383838; stroke-width: 1.5;\" width=\"166\" x=\"584\" y=\"85\"/><text fill=\"#000000\" font-family=\"sans-serif\" font-size=\"12\" font-style=\"italic\" lengthAdjust=\"spacingAndGlyphs\" textLength=\"106\" x=\"614\" y=\"101.1387\">«calculation def»</text><text fill=\"#000000\" font-family=\"sans-serif\" font-size=\"12\" lengthAdjust=\"spacingAndGlyphs\" textLength=\"67\" x=\"633.5\" y=\"115.1074\">MassSum1</text></a><!--MD5=[b4997ac47864f28c2f74865a473b2911]\n",
       "class E2--><a href=\"psysml:3dfd6fc9-2012-44ec-8abc-b458a2efa8ee\" target=\"_top\" title=\"psysml:3dfd6fc9-2012-44ec-8abc-b458a2efa8ee\" xlink:actuate=\"onRequest\" xlink:href=\"psysml:3dfd6fc9-2012-44ec-8abc-b458a2efa8ee\" xlink:show=\"new\" xlink:title=\"psysml:3dfd6fc9-2012-44ec-8abc-b458a2efa8ee\" xlink:type=\"simple\"><rect fill=\"#FFFFFF\" height=\"75.5469\" id=\"E2\" rx=\"10\" ry=\"10\" style=\"stroke: #383838; stroke-width: 1.5;\" width=\"92\" x=\"473\" y=\"47\"/><text fill=\"#000000\" font-family=\"sans-serif\" font-size=\"12\" font-style=\"italic\" lengthAdjust=\"spacingAndGlyphs\" textLength=\"40\" x=\"499\" y=\"63.1387\">«part»</text><text fill=\"#000000\" font-family=\"sans-serif\" font-size=\"12\" lengthAdjust=\"spacingAndGlyphs\" textLength=\"43\" x=\"497.5\" y=\"77.1074\">vehicle</text><line style=\"stroke: #383838; stroke-width: 1.5;\" x1=\"474\" x2=\"564\" y1=\"84.9375\" y2=\"84.9375\"/><text fill=\"#000000\" font-family=\"sans-serif\" font-size=\"11\" lengthAdjust=\"spacingAndGlyphs\" textLength=\"80\" x=\"479\" y=\"115.9526\">m: MassValue</text><line style=\"stroke: #383838; stroke-width: 1.0;\" x1=\"474\" x2=\"491.5\" y1=\"99.3398\" y2=\"99.3398\"/><text fill=\"#000000\" font-family=\"sans-serif\" font-size=\"11\" lengthAdjust=\"spacingAndGlyphs\" textLength=\"55\" x=\"491.5\" y=\"102.6479\">attributes</text><line style=\"stroke: #383838; stroke-width: 1.0;\" x1=\"546.5\" x2=\"564\" y1=\"99.3398\" y2=\"99.3398\"/></a><!--MD5=[09b614a08d8cba4a07c9adeb5e0fee81]\n",
       "class E3--><a href=\"psysml:6f0477df-1982-4bef-bc4b-f3a5f459ca50\" target=\"_top\" title=\"psysml:6f0477df-1982-4bef-bc4b-f3a5f459ca50\" xlink:actuate=\"onRequest\" xlink:href=\"psysml:6f0477df-1982-4bef-bc4b-f3a5f459ca50\" xlink:show=\"new\" xlink:title=\"psysml:6f0477df-1982-4bef-bc4b-f3a5f459ca50\" xlink:type=\"simple\"><rect fill=\"#FFFFFF\" height=\"75.5469\" id=\"E3\" rx=\"10\" ry=\"10\" style=\"stroke: #383838; stroke-width: 1.5;\" width=\"92\" x=\"346\" y=\"189\"/><text fill=\"#000000\" font-family=\"sans-serif\" font-size=\"12\" font-style=\"italic\" lengthAdjust=\"spacingAndGlyphs\" textLength=\"40\" x=\"372\" y=\"205.1387\">«part»</text><text fill=\"#000000\" font-family=\"sans-serif\" font-size=\"12\" lengthAdjust=\"spacingAndGlyphs\" textLength=\"24\" x=\"380\" y=\"219.1074\">eng</text><line style=\"stroke: #383838; stroke-width: 1.5;\" x1=\"347\" x2=\"437\" y1=\"226.9375\" y2=\"226.9375\"/><text fill=\"#000000\" font-family=\"sans-serif\" font-size=\"11\" lengthAdjust=\"spacingAndGlyphs\" textLength=\"80\" x=\"352\" y=\"257.9526\">m: MassValue</text><line style=\"stroke: #383838; stroke-width: 1.0;\" x1=\"347\" x2=\"364.5\" y1=\"241.3398\" y2=\"241.3398\"/><text fill=\"#000000\" font-family=\"sans-serif\" font-size=\"11\" lengthAdjust=\"spacingAndGlyphs\" textLength=\"55\" x=\"364.5\" y=\"244.6479\">attributes</text><line style=\"stroke: #383838; stroke-width: 1.0;\" x1=\"419.5\" x2=\"437\" y1=\"241.3398\" y2=\"241.3398\"/></a><!--MD5=[ebbe1d658d1005bcc118a6aa81145e00]\n",
       "class E4--><a href=\"psysml:39f29039-e97f-4cd7-a6e4-24de87290ff7\" target=\"_top\" title=\"psysml:39f29039-e97f-4cd7-a6e4-24de87290ff7\" xlink:actuate=\"onRequest\" xlink:href=\"psysml:39f29039-e97f-4cd7-a6e4-24de87290ff7\" xlink:show=\"new\" xlink:title=\"psysml:39f29039-e97f-4cd7-a6e4-24de87290ff7\" xlink:type=\"simple\"><rect fill=\"#FFFFFF\" height=\"75.5469\" id=\"E4\" rx=\"10\" ry=\"10\" style=\"stroke: #383838; stroke-width: 1.5;\" width=\"92\" x=\"473\" y=\"189\"/><text fill=\"#000000\" font-family=\"sans-serif\" font-size=\"12\" font-style=\"italic\" lengthAdjust=\"spacingAndGlyphs\" textLength=\"40\" x=\"499\" y=\"205.1387\">«part»</text><text fill=\"#000000\" font-family=\"sans-serif\" font-size=\"12\" lengthAdjust=\"spacingAndGlyphs\" textLength=\"33\" x=\"502.5\" y=\"219.1074\">trans</text><line style=\"stroke: #383838; stroke-width: 1.5;\" x1=\"474\" x2=\"564\" y1=\"226.9375\" y2=\"226.9375\"/><text fill=\"#000000\" font-family=\"sans-serif\" font-size=\"11\" lengthAdjust=\"spacingAndGlyphs\" textLength=\"80\" x=\"479\" y=\"257.9526\">m: MassValue</text><line style=\"stroke: #383838; stroke-width: 1.0;\" x1=\"474\" x2=\"491.5\" y1=\"241.3398\" y2=\"241.3398\"/><text fill=\"#000000\" font-family=\"sans-serif\" font-size=\"11\" lengthAdjust=\"spacingAndGlyphs\" textLength=\"55\" x=\"491.5\" y=\"244.6479\">attributes</text><line style=\"stroke: #383838; stroke-width: 1.0;\" x1=\"546.5\" x2=\"564\" y1=\"241.3398\" y2=\"241.3398\"/></a><!--MD5=[96f4274e9e20536e775497830990834d]\n",
       "class E10--><a href=\"psysml:20e483d0-a5a0-4777-bc7f-caa19ca2a7e0\" target=\"_top\" title=\"psysml:20e483d0-a5a0-4777-bc7f-caa19ca2a7e0\" xlink:actuate=\"onRequest\" xlink:href=\"psysml:20e483d0-a5a0-4777-bc7f-caa19ca2a7e0\" xlink:show=\"new\" xlink:title=\"psysml:20e483d0-a5a0-4777-bc7f-caa19ca2a7e0\" xlink:type=\"simple\"><rect fill=\"#FFFFFF\" height=\"45.9375\" id=\"E10\" rx=\"10\" ry=\"10\" style=\"stroke: #383838; stroke-width: 1.5;\" width=\"91\" x=\"346.5\" y=\"62\"/><text fill=\"#000000\" font-family=\"sans-serif\" font-size=\"12\" font-style=\"italic\" lengthAdjust=\"spacingAndGlyphs\" textLength=\"82\" x=\"351\" y=\"78.1387\">«calculation»</text><text fill=\"#000000\" font-family=\"sans-serif\" font-size=\"12\" lengthAdjust=\"spacingAndGlyphs\" textLength=\"85\" x=\"349.5\" y=\"92.1074\">ms: MassSum</text><line style=\"stroke: #383838; stroke-width: 1.5;\" x1=\"347.5\" x2=\"436.5\" y1=\"99.9375\" y2=\"99.9375\"/></a><!--MD5=[bee11217b2f71d958a27249dc326068c]\n",
       "class E14--><a href=\"psysml:3aa3b647-0159-4a96-9fb7-94bd79c90754\" target=\"_top\" title=\"psysml:3aa3b647-0159-4a96-9fb7-94bd79c90754\" xlink:actuate=\"onRequest\" xlink:href=\"psysml:3aa3b647-0159-4a96-9fb7-94bd79c90754\" xlink:show=\"new\" xlink:title=\"psysml:3aa3b647-0159-4a96-9fb7-94bd79c90754\" xlink:type=\"simple\"><rect fill=\"#FFFFFF\" height=\"88.3516\" id=\"E14\" rx=\"10\" ry=\"10\" style=\"stroke: #383838; stroke-width: 1.5;\" width=\"99\" x=\"32.5\" y=\"41\"/><text fill=\"#000000\" font-family=\"sans-serif\" font-size=\"12\" font-style=\"italic\" lengthAdjust=\"spacingAndGlyphs\" textLength=\"82\" x=\"41\" y=\"57.1387\">«calculation»</text><text fill=\"#000000\" font-family=\"sans-serif\" font-size=\"12\" lengthAdjust=\"spacingAndGlyphs\" textLength=\"93\" x=\"35.5\" y=\"71.1074\">ms1: MassSum</text><line style=\"stroke: #383838; stroke-width: 1.5;\" x1=\"33.5\" x2=\"130.5\" y1=\"78.9375\" y2=\"78.9375\"/><text fill=\"#000000\" font-family=\"sans-serif\" font-size=\"11\" lengthAdjust=\"spacingAndGlyphs\" textLength=\"67\" x=\"38.5\" y=\"109.9526\">partMasses</text><text fill=\"#000000\" font-family=\"sans-serif\" font-size=\"11\" lengthAdjust=\"spacingAndGlyphs\" textLength=\"55\" x=\"38.5\" y=\"122.7573\">totalMass</text><line style=\"stroke: #383838; stroke-width: 1.0;\" x1=\"33.5\" x2=\"54.5\" y1=\"93.3398\" y2=\"93.3398\"/><text fill=\"#000000\" font-family=\"sans-serif\" font-size=\"11\" lengthAdjust=\"spacingAndGlyphs\" textLength=\"55\" x=\"54.5\" y=\"96.6479\">attributes</text><line style=\"stroke: #383838; stroke-width: 1.0;\" x1=\"109.5\" x2=\"130.5\" y1=\"93.3398\" y2=\"93.3398\"/></a><text fill=\"#000000\" font-family=\"sans-serif\" font-size=\"14\" lengthAdjust=\"spacingAndGlyphs\" textLength=\"80\" x=\"133\" y=\"63.6982\">partMasses</text><rect fill=\"#383838\" height=\"12\" style=\"stroke: #F8F8F8; stroke-width: 1.5;\" width=\"12\" x=\"167\" y=\"79\"/><text fill=\"#000000\" font-family=\"sans-serif\" font-size=\"14\" lengthAdjust=\"spacingAndGlyphs\" textLength=\"66\" x=\"177\" y=\"410.7151\">totalMass</text><rect fill=\"#383838\" height=\"12\" style=\"stroke: #F8F8F8; stroke-width: 1.5;\" width=\"12\" x=\"204\" y=\"385.72\"/><text fill=\"#000000\" font-family=\"sans-serif\" font-size=\"14\" lengthAdjust=\"spacingAndGlyphs\" textLength=\"75\" x=\"227.5\" y=\"63.6982\">$collection</text><rect fill=\"#383838\" height=\"12\" style=\"stroke: #F8F8F8; stroke-width: 1.5;\" width=\"12\" x=\"259\" y=\"79\"/><text fill=\"#000000\" font-family=\"sans-serif\" font-size=\"14\" lengthAdjust=\"spacingAndGlyphs\" textLength=\"48\" x=\"233\" y=\"410.7151\">$result</text><rect fill=\"#383838\" height=\"12\" style=\"stroke: #F8F8F8; stroke-width: 1.5;\" width=\"12\" x=\"251\" y=\"385.72\"/><text fill=\"#000000\" font-family=\"sans-serif\" font-size=\"14\" lengthAdjust=\"spacingAndGlyphs\" textLength=\"80\" x=\"627\" y=\"63.6982\">partMasses</text><rect fill=\"#383838\" height=\"12\" style=\"stroke: #F8F8F8; stroke-width: 1.5;\" width=\"12\" x=\"661\" y=\"79\"/><text fill=\"#000000\" font-family=\"sans-serif\" font-size=\"14\" lengthAdjust=\"spacingAndGlyphs\" textLength=\"66\" x=\"634\" y=\"410.7151\">totalMass</text><rect fill=\"#383838\" height=\"12\" style=\"stroke: #F8F8F8; stroke-width: 1.5;\" width=\"12\" x=\"661\" y=\"385.72\"/><!--MD5=[209b3feb70ccb6233bfe1053d122c12c]\n",
       "reverse link E2 to E3--><a href=\"psysml:6f0477df-1982-4bef-bc4b-f3a5f459ca50\" target=\"_top\" title=\"psysml:6f0477df-1982-4bef-bc4b-f3a5f459ca50\" xlink:actuate=\"onRequest\" xlink:href=\"psysml:6f0477df-1982-4bef-bc4b-f3a5f459ca50\" xlink:show=\"new\" xlink:title=\"psysml:6f0477df-1982-4bef-bc4b-f3a5f459ca50\" xlink:type=\"simple\"><path d=\"M476.41,132.95 C459.95,151.1 441.38,171.57 425.86,188.68 \" fill=\"none\" id=\"E2&lt;-E3\" style=\"stroke: #383838; stroke-width: 1.0;\"/><polygon fill=\"#383838\" points=\"485.3,123.15,478.3052,124.9031,477.2332,132.0341,484.2279,130.281,485.3,123.15\" style=\"stroke: #383838; stroke-width: 1.0;\"/></a><!--MD5=[9618e71518536f8baf3342ff6fdab317]\n",
       "reverse link E2 to E4--><a href=\"psysml:39f29039-e97f-4cd7-a6e4-24de87290ff7\" target=\"_top\" title=\"psysml:39f29039-e97f-4cd7-a6e4-24de87290ff7\" xlink:actuate=\"onRequest\" xlink:href=\"psysml:39f29039-e97f-4cd7-a6e4-24de87290ff7\" xlink:show=\"new\" xlink:title=\"psysml:39f29039-e97f-4cd7-a6e4-24de87290ff7\" xlink:type=\"simple\"><path d=\"M519,136.25 C519,153.55 519,172.6 519,188.68 \" fill=\"none\" id=\"E2&lt;-E4\" style=\"stroke: #383838; stroke-width: 1.0;\"/><polygon fill=\"#383838\" points=\"519,123.15,515,129.15,519,135.15,523,129.15,519,123.15\" style=\"stroke: #383838; stroke-width: 1.0;\"/></a><!--MD5=[ec5e0a54482b142abcecfe541d624bff]\n",
       "link E10 to E5--><a href=\"psysml:087e1e8b-9f76-403f-b1f3-15ea1e5b2649\" target=\"_top\" title=\"psysml:087e1e8b-9f76-403f-b1f3-15ea1e5b2649\" xlink:actuate=\"onRequest\" xlink:href=\"psysml:087e1e8b-9f76-403f-b1f3-15ea1e5b2649\" xlink:show=\"new\" xlink:title=\"psysml:087e1e8b-9f76-403f-b1f3-15ea1e5b2649\" xlink:type=\"simple\"><path d=\"M367.76,108.18 C352.425,122.215 331.7225,141.16 311.4063,159.75 C306.3272,164.3975 301.2723,169.0228 296.3314,173.5437 C293.8609,175.8041 291.419,178.0384 289.0168,180.2363 C287.8157,181.3353 286.6246,182.4252 285.4448,183.5046 C284.8549,184.0444 284.2678,184.5815 283.6837,185.1159 C283.5377,185.2495 283.3919,185.3829 283.2463,185.5162 \" fill=\"none\" id=\"E10-&gt;E5\" style=\"stroke: #383838; stroke-width: 1.0;\"/><polygon fill=\"#FFFFFF\" points=\"283.2463,185.5162,292.5389,167.526,301.9894,177.855,283.2463,185.5162\" style=\"stroke: #383838; stroke-width: 1.0;\"/><ellipse cx=\"298.0944\" cy=\"165.1539\" fill=\"#383838\" rx=\"2\" ry=\"2\" style=\"stroke: #383838; stroke-width: 1.0;\"/><ellipse cx=\"304.8447\" cy=\"172.5317\" fill=\"#383838\" rx=\"2\" ry=\"2\" style=\"stroke: #383838; stroke-width: 1.0;\"/></a><!--MD5=[111e5536516ee1ad7d4266f589654f03]\n",
       "link E14 to E5--><a href=\"psysml:a6dd9655-fa53-42fd-8b92-db635a2ece9b\" target=\"_top\" title=\"psysml:a6dd9655-fa53-42fd-8b92-db635a2ece9b\" xlink:actuate=\"onRequest\" xlink:href=\"psysml:a6dd9655-fa53-42fd-8b92-db635a2ece9b\" xlink:show=\"new\" xlink:title=\"psysml:a6dd9655-fa53-42fd-8b92-db635a2ece9b\" xlink:type=\"simple\"><path d=\"M130.39,129.15 C138.0025,135.9375 146.0606,143.1225 154.2098,150.3889 C154.4645,150.616 154.7193,150.8431 154.9741,151.0704 \" fill=\"none\" id=\"E14-&gt;E5\" style=\"stroke: #383838; stroke-width: 1.0;\"/><polygon fill=\"#FFFFFF\" points=\"154.9741,151.0704,136.1343,143.6501,145.4516,133.2008,154.9741,151.0704\" style=\"stroke: #383838; stroke-width: 1.0;\"/><ellipse cx=\"133.211\" cy=\"138.3638\" fill=\"#383838\" rx=\"2\" ry=\"2\" style=\"stroke: #383838; stroke-width: 1.0;\"/><ellipse cx=\"139.8662\" cy=\"130.9001\" fill=\"#383838\" rx=\"2\" ry=\"2\" style=\"stroke: #383838; stroke-width: 1.0;\"/></a><!--MD5=[9d7a60c576b9b904210148c73792ca65]\n",
       "@startuml\r\n",
       "skinparam monochrome true\r\n",
       "skinparam classbackgroundcolor white\r\n",
       "skinparam shadowing false\r\n",
       "skinparam wrapWidth 300\r\n",
       "hide circle\r\n",
       "\r\n",
       "package \"CalculationExample\" as E1  [[psysml:279b101a-ad7c-43dd-8a07-da5fe5802bed ]]  {\r\n",
       "comp usage \"vehicle\" as E2  <<(T,blue)part>> [[psysml:3dfd6fc9-2012-44ec-8abc-b458a2efa8ee ]] {\r\n",
       "- - attributes - -\r\n",
       "m: MassValue\r\n",
       "}\r\n",
       "comp usage \"eng\" as E3  <<(T,blue)part>> [[psysml:6f0477df-1982-4bef-bc4b-f3a5f459ca50 ]] {\r\n",
       "- - attributes - -\r\n",
       "m: MassValue\r\n",
       "}\r\n",
       "comp usage \"trans\" as E4  <<(T,blue)part>> [[psysml:39f29039-e97f-4cd7-a6e4-24de87290ff7 ]] {\r\n",
       "- - attributes - -\r\n",
       "m: MassValue\r\n",
       "}\r\n",
       "rec def \"MassSum\" as E5  <<(T,blue)calculation def>> [[psysml:5c4fc454-9680-413f-bf1a-bdf2f6cc06d5 ]] {\r\n",
       "portin \"partMasses\" as E6  [[psysml:57eaefe4-a57c-41fa-a944-033dc3e4df4e ]] \r\n",
       "portout \"totalMass\" as E7  [[psysml:35e88aae-ee13-4c55-bc31-272528607619 ]] \r\n",
       "portin \"$collection\" as E8  [[psysml:0e9b074a-52f0-467d-9ed6-1e247226bb71 ]] \r\n",
       "portout \"$result\" as E9  [[psysml:66242f20-bf9b-4b2d-900e-be3ce4c10d7e ]] \r\n",
       "}\r\n",
       "\r\n",
       "comp usage \"ms: MassSum\" as E10  <<(T,blue)calculation>> [[psysml:20e483d0-a5a0-4777-bc7f-caa19ca2a7e0 ]] {\r\n",
       "}\r\n",
       "rec def \"MassSum1\" as E11  <<(T,blue)calculation def>> [[psysml:83ce5d61-6771-4884-a571-d4d08f340672 ]] {\r\n",
       "portin \"partMasses\" as E12  [[psysml:0924d9a5-fc11-4345-935d-e5ff08c51a6a ]] \r\n",
       "portout \"totalMass\" as E13  [[psysml:b7c67a6a-5db6-4529-b3d9-f9fb47dc5f0c ]] \r\n",
       "}\r\n",
       "\r\n",
       "comp usage \"ms1: MassSum\" as E14  <<(T,blue)calculation>> [[psysml:3aa3b647-0159-4a96-9fb7-94bd79c90754 ]] {\r\n",
       "- - attributes - -\r\n",
       "partMasses\r\n",
       "totalMass\r\n",
       "}\r\n",
       "E2 *- - E3 [[psysml:6f0477df-1982-4bef-bc4b-f3a5f459ca50 ]] \r\n",
       "E2 *- - E4 [[psysml:39f29039-e97f-4cd7-a6e4-24de87290ff7 ]] \r\n",
       "E10 - -:|> E5 [[psysml:087e1e8b-9f76-403f-b1f3-15ea1e5b2649 ]] \r\n",
       "E14 - -:|> E5 [[psysml:a6dd9655-fa53-42fd-8b92-db635a2ece9b ]] \r\n",
       "}\r\n",
       "@enduml\r\n",
       "\n",
       "PlantUML version 1.2020.13(Sat Jun 13 12:26:38 UTC 2020)\n",
       "(EPL source distribution)\n",
       "Java Runtime: OpenJDK Runtime Environment\n",
       "JVM: OpenJDK 64-Bit Server VM\n",
       "Default Encoding: UTF-8\n",
       "Language: en\n",
       "Country: null\n",
       "--></g></svg>"
      ]
     },
     "execution_count": 43,
     "metadata": {},
     "output_type": "execute_result"
    }
   ],
   "source": [
    "%viz --style=\"DEFAULT\" --view=\"MIXED\" \"CalculationExample\""
   ]
  },
  {
   "cell_type": "code",
   "execution_count": 44,
   "id": "different-enemy",
   "metadata": {
    "execution": {
     "iopub.execute_input": "2021-03-26T13:05:08.546605Z",
     "iopub.status.busy": "2021-03-26T13:05:08.545643Z",
     "iopub.status.idle": "2021-03-26T13:05:08.639721Z",
     "shell.execute_reply": "2021-03-26T13:05:08.638316Z"
    }
   },
   "outputs": [
    {
     "data": {
      "image/svg+xml": [
       "<?xml version=\"1.0\" encoding=\"UTF-8\" standalone=\"no\"?><svg xmlns=\"http://www.w3.org/2000/svg\" xmlns:xlink=\"http://www.w3.org/1999/xlink\" contentScriptType=\"application/ecmascript\" contentStyleType=\"text/css\" height=\"441px\" preserveAspectRatio=\"none\" style=\"width:788px;height:441px;\" version=\"1.1\" viewBox=\"0 0 788 441\" width=\"788px\" zoomAndPan=\"magnify\"><defs/><g><!--MD5=[fbc87193dbaf4d95561dea2c320d4a47]\n",
       "cluster E1--><a href=\"psysml:279b101a-ad7c-43dd-8a07-da5fe5802bed\" target=\"_top\" title=\"psysml:279b101a-ad7c-43dd-8a07-da5fe5802bed\" xlink:actuate=\"onRequest\" xlink:href=\"psysml:279b101a-ad7c-43dd-8a07-da5fe5802bed\" xlink:show=\"new\" xlink:title=\"psysml:279b101a-ad7c-43dd-8a07-da5fe5802bed\" xlink:type=\"simple\"><polygon fill=\"#FFFFFF\" points=\"16,6,173,6,180,28.2969,766,28.2969,766,429.72,16,429.72,16,6\" style=\"stroke: #000000; stroke-width: 1.5;\"/><line style=\"stroke: #000000; stroke-width: 1.5;\" x1=\"16\" x2=\"180\" y1=\"28.2969\" y2=\"28.2969\"/><text fill=\"#000000\" font-family=\"sans-serif\" font-size=\"14\" font-weight=\"bold\" lengthAdjust=\"spacingAndGlyphs\" textLength=\"151\" x=\"20\" y=\"20.9951\">CalculationExample</text></a><!--MD5=[de5ec2e2e8f62f467e546659f5068c88]\n",
       "cluster E5--><a href=\"psysml:5c4fc454-9680-413f-bf1a-bdf2f6cc06d5\" target=\"_top\" title=\"psysml:5c4fc454-9680-413f-bf1a-bdf2f6cc06d5\" xlink:actuate=\"onRequest\" xlink:href=\"psysml:5c4fc454-9680-413f-bf1a-bdf2f6cc06d5\" xlink:show=\"new\" xlink:title=\"psysml:5c4fc454-9680-413f-bf1a-bdf2f6cc06d5\" xlink:type=\"simple\"><rect fill=\"#FFFFFF\" height=\"306.72\" id=\"E5\" style=\"stroke: #383838; stroke-width: 1.5;\" width=\"128\" x=\"155\" y=\"85\"/><rect fill=\"#F8F8F8\" height=\"37.9375\" style=\"stroke: #383838; stroke-width: 1.5;\" width=\"128\" x=\"155\" y=\"85\"/><text fill=\"#000000\" font-family=\"sans-serif\" font-size=\"12\" font-style=\"italic\" lengthAdjust=\"spacingAndGlyphs\" textLength=\"106\" x=\"166\" y=\"101.1387\">«calculation def»</text><text fill=\"#000000\" font-family=\"sans-serif\" font-size=\"12\" lengthAdjust=\"spacingAndGlyphs\" textLength=\"59\" x=\"189.5\" y=\"115.1074\">MassSum</text></a><!--MD5=[917b9dd0c7eca3ee5f47219d1a84c0ad]\n",
       "cluster E11--><a href=\"psysml:83ce5d61-6771-4884-a571-d4d08f340672\" target=\"_top\" title=\"psysml:83ce5d61-6771-4884-a571-d4d08f340672\" xlink:actuate=\"onRequest\" xlink:href=\"psysml:83ce5d61-6771-4884-a571-d4d08f340672\" xlink:show=\"new\" xlink:title=\"psysml:83ce5d61-6771-4884-a571-d4d08f340672\" xlink:type=\"simple\"><rect fill=\"#FFFFFF\" height=\"306.72\" id=\"E11\" style=\"stroke: #383838; stroke-width: 1.5;\" width=\"166\" x=\"584\" y=\"85\"/><rect fill=\"#F8F8F8\" height=\"37.9375\" style=\"stroke: #383838; stroke-width: 1.5;\" width=\"166\" x=\"584\" y=\"85\"/><text fill=\"#000000\" font-family=\"sans-serif\" font-size=\"12\" font-style=\"italic\" lengthAdjust=\"spacingAndGlyphs\" textLength=\"106\" x=\"614\" y=\"101.1387\">«calculation def»</text><text fill=\"#000000\" font-family=\"sans-serif\" font-size=\"12\" lengthAdjust=\"spacingAndGlyphs\" textLength=\"67\" x=\"633.5\" y=\"115.1074\">MassSum1</text></a><!--MD5=[b4997ac47864f28c2f74865a473b2911]\n",
       "class E2--><a href=\"psysml:3dfd6fc9-2012-44ec-8abc-b458a2efa8ee\" target=\"_top\" title=\"psysml:3dfd6fc9-2012-44ec-8abc-b458a2efa8ee\" xlink:actuate=\"onRequest\" xlink:href=\"psysml:3dfd6fc9-2012-44ec-8abc-b458a2efa8ee\" xlink:show=\"new\" xlink:title=\"psysml:3dfd6fc9-2012-44ec-8abc-b458a2efa8ee\" xlink:type=\"simple\"><rect fill=\"#FFFFFF\" height=\"75.5469\" id=\"E2\" rx=\"10\" ry=\"10\" style=\"stroke: #383838; stroke-width: 1.5;\" width=\"92\" x=\"473\" y=\"47\"/><text fill=\"#000000\" font-family=\"sans-serif\" font-size=\"12\" font-style=\"italic\" lengthAdjust=\"spacingAndGlyphs\" textLength=\"40\" x=\"499\" y=\"63.1387\">«part»</text><text fill=\"#000000\" font-family=\"sans-serif\" font-size=\"12\" lengthAdjust=\"spacingAndGlyphs\" textLength=\"43\" x=\"497.5\" y=\"77.1074\">vehicle</text><line style=\"stroke: #383838; stroke-width: 1.5;\" x1=\"474\" x2=\"564\" y1=\"84.9375\" y2=\"84.9375\"/><text fill=\"#000000\" font-family=\"sans-serif\" font-size=\"11\" lengthAdjust=\"spacingAndGlyphs\" textLength=\"80\" x=\"479\" y=\"115.9526\">m: MassValue</text><line style=\"stroke: #383838; stroke-width: 1.0;\" x1=\"474\" x2=\"491.5\" y1=\"99.3398\" y2=\"99.3398\"/><text fill=\"#000000\" font-family=\"sans-serif\" font-size=\"11\" lengthAdjust=\"spacingAndGlyphs\" textLength=\"55\" x=\"491.5\" y=\"102.6479\">attributes</text><line style=\"stroke: #383838; stroke-width: 1.0;\" x1=\"546.5\" x2=\"564\" y1=\"99.3398\" y2=\"99.3398\"/></a><!--MD5=[09b614a08d8cba4a07c9adeb5e0fee81]\n",
       "class E3--><a href=\"psysml:6f0477df-1982-4bef-bc4b-f3a5f459ca50\" target=\"_top\" title=\"psysml:6f0477df-1982-4bef-bc4b-f3a5f459ca50\" xlink:actuate=\"onRequest\" xlink:href=\"psysml:6f0477df-1982-4bef-bc4b-f3a5f459ca50\" xlink:show=\"new\" xlink:title=\"psysml:6f0477df-1982-4bef-bc4b-f3a5f459ca50\" xlink:type=\"simple\"><rect fill=\"#FFFFFF\" height=\"75.5469\" id=\"E3\" rx=\"10\" ry=\"10\" style=\"stroke: #383838; stroke-width: 1.5;\" width=\"92\" x=\"346\" y=\"189\"/><text fill=\"#000000\" font-family=\"sans-serif\" font-size=\"12\" font-style=\"italic\" lengthAdjust=\"spacingAndGlyphs\" textLength=\"40\" x=\"372\" y=\"205.1387\">«part»</text><text fill=\"#000000\" font-family=\"sans-serif\" font-size=\"12\" lengthAdjust=\"spacingAndGlyphs\" textLength=\"24\" x=\"380\" y=\"219.1074\">eng</text><line style=\"stroke: #383838; stroke-width: 1.5;\" x1=\"347\" x2=\"437\" y1=\"226.9375\" y2=\"226.9375\"/><text fill=\"#000000\" font-family=\"sans-serif\" font-size=\"11\" lengthAdjust=\"spacingAndGlyphs\" textLength=\"80\" x=\"352\" y=\"257.9526\">m: MassValue</text><line style=\"stroke: #383838; stroke-width: 1.0;\" x1=\"347\" x2=\"364.5\" y1=\"241.3398\" y2=\"241.3398\"/><text fill=\"#000000\" font-family=\"sans-serif\" font-size=\"11\" lengthAdjust=\"spacingAndGlyphs\" textLength=\"55\" x=\"364.5\" y=\"244.6479\">attributes</text><line style=\"stroke: #383838; stroke-width: 1.0;\" x1=\"419.5\" x2=\"437\" y1=\"241.3398\" y2=\"241.3398\"/></a><!--MD5=[ebbe1d658d1005bcc118a6aa81145e00]\n",
       "class E4--><a href=\"psysml:39f29039-e97f-4cd7-a6e4-24de87290ff7\" target=\"_top\" title=\"psysml:39f29039-e97f-4cd7-a6e4-24de87290ff7\" xlink:actuate=\"onRequest\" xlink:href=\"psysml:39f29039-e97f-4cd7-a6e4-24de87290ff7\" xlink:show=\"new\" xlink:title=\"psysml:39f29039-e97f-4cd7-a6e4-24de87290ff7\" xlink:type=\"simple\"><rect fill=\"#FFFFFF\" height=\"75.5469\" id=\"E4\" rx=\"10\" ry=\"10\" style=\"stroke: #383838; stroke-width: 1.5;\" width=\"92\" x=\"473\" y=\"189\"/><text fill=\"#000000\" font-family=\"sans-serif\" font-size=\"12\" font-style=\"italic\" lengthAdjust=\"spacingAndGlyphs\" textLength=\"40\" x=\"499\" y=\"205.1387\">«part»</text><text fill=\"#000000\" font-family=\"sans-serif\" font-size=\"12\" lengthAdjust=\"spacingAndGlyphs\" textLength=\"33\" x=\"502.5\" y=\"219.1074\">trans</text><line style=\"stroke: #383838; stroke-width: 1.5;\" x1=\"474\" x2=\"564\" y1=\"226.9375\" y2=\"226.9375\"/><text fill=\"#000000\" font-family=\"sans-serif\" font-size=\"11\" lengthAdjust=\"spacingAndGlyphs\" textLength=\"80\" x=\"479\" y=\"257.9526\">m: MassValue</text><line style=\"stroke: #383838; stroke-width: 1.0;\" x1=\"474\" x2=\"491.5\" y1=\"241.3398\" y2=\"241.3398\"/><text fill=\"#000000\" font-family=\"sans-serif\" font-size=\"11\" lengthAdjust=\"spacingAndGlyphs\" textLength=\"55\" x=\"491.5\" y=\"244.6479\">attributes</text><line style=\"stroke: #383838; stroke-width: 1.0;\" x1=\"546.5\" x2=\"564\" y1=\"241.3398\" y2=\"241.3398\"/></a><!--MD5=[96f4274e9e20536e775497830990834d]\n",
       "class E10--><a href=\"psysml:20e483d0-a5a0-4777-bc7f-caa19ca2a7e0\" target=\"_top\" title=\"psysml:20e483d0-a5a0-4777-bc7f-caa19ca2a7e0\" xlink:actuate=\"onRequest\" xlink:href=\"psysml:20e483d0-a5a0-4777-bc7f-caa19ca2a7e0\" xlink:show=\"new\" xlink:title=\"psysml:20e483d0-a5a0-4777-bc7f-caa19ca2a7e0\" xlink:type=\"simple\"><rect fill=\"#FFFFFF\" height=\"45.9375\" id=\"E10\" rx=\"10\" ry=\"10\" style=\"stroke: #383838; stroke-width: 1.5;\" width=\"91\" x=\"346.5\" y=\"62\"/><text fill=\"#000000\" font-family=\"sans-serif\" font-size=\"12\" font-style=\"italic\" lengthAdjust=\"spacingAndGlyphs\" textLength=\"82\" x=\"351\" y=\"78.1387\">«calculation»</text><text fill=\"#000000\" font-family=\"sans-serif\" font-size=\"12\" lengthAdjust=\"spacingAndGlyphs\" textLength=\"85\" x=\"349.5\" y=\"92.1074\">ms: MassSum</text><line style=\"stroke: #383838; stroke-width: 1.5;\" x1=\"347.5\" x2=\"436.5\" y1=\"99.9375\" y2=\"99.9375\"/></a><!--MD5=[bee11217b2f71d958a27249dc326068c]\n",
       "class E14--><a href=\"psysml:3aa3b647-0159-4a96-9fb7-94bd79c90754\" target=\"_top\" title=\"psysml:3aa3b647-0159-4a96-9fb7-94bd79c90754\" xlink:actuate=\"onRequest\" xlink:href=\"psysml:3aa3b647-0159-4a96-9fb7-94bd79c90754\" xlink:show=\"new\" xlink:title=\"psysml:3aa3b647-0159-4a96-9fb7-94bd79c90754\" xlink:type=\"simple\"><rect fill=\"#FFFFFF\" height=\"88.3516\" id=\"E14\" rx=\"10\" ry=\"10\" style=\"stroke: #383838; stroke-width: 1.5;\" width=\"99\" x=\"32.5\" y=\"41\"/><text fill=\"#000000\" font-family=\"sans-serif\" font-size=\"12\" font-style=\"italic\" lengthAdjust=\"spacingAndGlyphs\" textLength=\"82\" x=\"41\" y=\"57.1387\">«calculation»</text><text fill=\"#000000\" font-family=\"sans-serif\" font-size=\"12\" lengthAdjust=\"spacingAndGlyphs\" textLength=\"93\" x=\"35.5\" y=\"71.1074\">ms1: MassSum</text><line style=\"stroke: #383838; stroke-width: 1.5;\" x1=\"33.5\" x2=\"130.5\" y1=\"78.9375\" y2=\"78.9375\"/><text fill=\"#000000\" font-family=\"sans-serif\" font-size=\"11\" lengthAdjust=\"spacingAndGlyphs\" textLength=\"67\" x=\"38.5\" y=\"109.9526\">partMasses</text><text fill=\"#000000\" font-family=\"sans-serif\" font-size=\"11\" lengthAdjust=\"spacingAndGlyphs\" textLength=\"55\" x=\"38.5\" y=\"122.7573\">totalMass</text><line style=\"stroke: #383838; stroke-width: 1.0;\" x1=\"33.5\" x2=\"54.5\" y1=\"93.3398\" y2=\"93.3398\"/><text fill=\"#000000\" font-family=\"sans-serif\" font-size=\"11\" lengthAdjust=\"spacingAndGlyphs\" textLength=\"55\" x=\"54.5\" y=\"96.6479\">attributes</text><line style=\"stroke: #383838; stroke-width: 1.0;\" x1=\"109.5\" x2=\"130.5\" y1=\"93.3398\" y2=\"93.3398\"/></a><text fill=\"#000000\" font-family=\"sans-serif\" font-size=\"14\" lengthAdjust=\"spacingAndGlyphs\" textLength=\"80\" x=\"133\" y=\"63.6982\">partMasses</text><rect fill=\"#383838\" height=\"12\" style=\"stroke: #F8F8F8; stroke-width: 1.5;\" width=\"12\" x=\"167\" y=\"79\"/><text fill=\"#000000\" font-family=\"sans-serif\" font-size=\"14\" lengthAdjust=\"spacingAndGlyphs\" textLength=\"66\" x=\"177\" y=\"410.7151\">totalMass</text><rect fill=\"#383838\" height=\"12\" style=\"stroke: #F8F8F8; stroke-width: 1.5;\" width=\"12\" x=\"204\" y=\"385.72\"/><text fill=\"#000000\" font-family=\"sans-serif\" font-size=\"14\" lengthAdjust=\"spacingAndGlyphs\" textLength=\"75\" x=\"227.5\" y=\"63.6982\">$collection</text><rect fill=\"#383838\" height=\"12\" style=\"stroke: #F8F8F8; stroke-width: 1.5;\" width=\"12\" x=\"259\" y=\"79\"/><text fill=\"#000000\" font-family=\"sans-serif\" font-size=\"14\" lengthAdjust=\"spacingAndGlyphs\" textLength=\"48\" x=\"233\" y=\"410.7151\">$result</text><rect fill=\"#383838\" height=\"12\" style=\"stroke: #F8F8F8; stroke-width: 1.5;\" width=\"12\" x=\"251\" y=\"385.72\"/><text fill=\"#000000\" font-family=\"sans-serif\" font-size=\"14\" lengthAdjust=\"spacingAndGlyphs\" textLength=\"80\" x=\"627\" y=\"63.6982\">partMasses</text><rect fill=\"#383838\" height=\"12\" style=\"stroke: #F8F8F8; stroke-width: 1.5;\" width=\"12\" x=\"661\" y=\"79\"/><text fill=\"#000000\" font-family=\"sans-serif\" font-size=\"14\" lengthAdjust=\"spacingAndGlyphs\" textLength=\"66\" x=\"634\" y=\"410.7151\">totalMass</text><rect fill=\"#383838\" height=\"12\" style=\"stroke: #F8F8F8; stroke-width: 1.5;\" width=\"12\" x=\"661\" y=\"385.72\"/><!--MD5=[209b3feb70ccb6233bfe1053d122c12c]\n",
       "reverse link E2 to E3--><a href=\"psysml:6f0477df-1982-4bef-bc4b-f3a5f459ca50\" target=\"_top\" title=\"psysml:6f0477df-1982-4bef-bc4b-f3a5f459ca50\" xlink:actuate=\"onRequest\" xlink:href=\"psysml:6f0477df-1982-4bef-bc4b-f3a5f459ca50\" xlink:show=\"new\" xlink:title=\"psysml:6f0477df-1982-4bef-bc4b-f3a5f459ca50\" xlink:type=\"simple\"><path d=\"M476.41,132.95 C459.95,151.1 441.38,171.57 425.86,188.68 \" fill=\"none\" id=\"E2&lt;-E3\" style=\"stroke: #383838; stroke-width: 1.0;\"/><polygon fill=\"#383838\" points=\"485.3,123.15,478.3052,124.9031,477.2332,132.0341,484.2279,130.281,485.3,123.15\" style=\"stroke: #383838; stroke-width: 1.0;\"/></a><!--MD5=[9618e71518536f8baf3342ff6fdab317]\n",
       "reverse link E2 to E4--><a href=\"psysml:39f29039-e97f-4cd7-a6e4-24de87290ff7\" target=\"_top\" title=\"psysml:39f29039-e97f-4cd7-a6e4-24de87290ff7\" xlink:actuate=\"onRequest\" xlink:href=\"psysml:39f29039-e97f-4cd7-a6e4-24de87290ff7\" xlink:show=\"new\" xlink:title=\"psysml:39f29039-e97f-4cd7-a6e4-24de87290ff7\" xlink:type=\"simple\"><path d=\"M519,136.25 C519,153.55 519,172.6 519,188.68 \" fill=\"none\" id=\"E2&lt;-E4\" style=\"stroke: #383838; stroke-width: 1.0;\"/><polygon fill=\"#383838\" points=\"519,123.15,515,129.15,519,135.15,523,129.15,519,123.15\" style=\"stroke: #383838; stroke-width: 1.0;\"/></a><!--MD5=[ec5e0a54482b142abcecfe541d624bff]\n",
       "link E10 to E5--><a href=\"psysml:087e1e8b-9f76-403f-b1f3-15ea1e5b2649\" target=\"_top\" title=\"psysml:087e1e8b-9f76-403f-b1f3-15ea1e5b2649\" xlink:actuate=\"onRequest\" xlink:href=\"psysml:087e1e8b-9f76-403f-b1f3-15ea1e5b2649\" xlink:show=\"new\" xlink:title=\"psysml:087e1e8b-9f76-403f-b1f3-15ea1e5b2649\" xlink:type=\"simple\"><path d=\"M367.76,108.18 C352.425,122.215 331.7225,141.16 311.4063,159.75 C306.3272,164.3975 301.2723,169.0228 296.3314,173.5437 C293.8609,175.8041 291.419,178.0384 289.0168,180.2363 C287.8157,181.3353 286.6246,182.4252 285.4448,183.5046 C284.8549,184.0444 284.2678,184.5815 283.6837,185.1159 C283.5377,185.2495 283.3919,185.3829 283.2463,185.5162 \" fill=\"none\" id=\"E10-&gt;E5\" style=\"stroke: #383838; stroke-width: 1.0;\"/><polygon fill=\"#FFFFFF\" points=\"283.2463,185.5162,292.5389,167.526,301.9894,177.855,283.2463,185.5162\" style=\"stroke: #383838; stroke-width: 1.0;\"/><ellipse cx=\"298.0944\" cy=\"165.1539\" fill=\"#383838\" rx=\"2\" ry=\"2\" style=\"stroke: #383838; stroke-width: 1.0;\"/><ellipse cx=\"304.8447\" cy=\"172.5317\" fill=\"#383838\" rx=\"2\" ry=\"2\" style=\"stroke: #383838; stroke-width: 1.0;\"/></a><!--MD5=[111e5536516ee1ad7d4266f589654f03]\n",
       "link E14 to E5--><a href=\"psysml:a6dd9655-fa53-42fd-8b92-db635a2ece9b\" target=\"_top\" title=\"psysml:a6dd9655-fa53-42fd-8b92-db635a2ece9b\" xlink:actuate=\"onRequest\" xlink:href=\"psysml:a6dd9655-fa53-42fd-8b92-db635a2ece9b\" xlink:show=\"new\" xlink:title=\"psysml:a6dd9655-fa53-42fd-8b92-db635a2ece9b\" xlink:type=\"simple\"><path d=\"M130.39,129.15 C138.0025,135.9375 146.0606,143.1225 154.2098,150.3889 C154.4645,150.616 154.7193,150.8431 154.9741,151.0704 \" fill=\"none\" id=\"E14-&gt;E5\" style=\"stroke: #383838; stroke-width: 1.0;\"/><polygon fill=\"#FFFFFF\" points=\"154.9741,151.0704,136.1343,143.6501,145.4516,133.2008,154.9741,151.0704\" style=\"stroke: #383838; stroke-width: 1.0;\"/><ellipse cx=\"133.211\" cy=\"138.3638\" fill=\"#383838\" rx=\"2\" ry=\"2\" style=\"stroke: #383838; stroke-width: 1.0;\"/><ellipse cx=\"139.8662\" cy=\"130.9001\" fill=\"#383838\" rx=\"2\" ry=\"2\" style=\"stroke: #383838; stroke-width: 1.0;\"/></a><!--MD5=[4016293304a9471856937780cd7520b9]\n",
       "@startuml\r\n",
       "top to bottom direction\r\n",
       "skinparam monochrome true\r\n",
       "skinparam classbackgroundcolor white\r\n",
       "skinparam shadowing false\r\n",
       "skinparam wrapWidth 300\r\n",
       "hide circle\r\n",
       "\r\n",
       "package \"CalculationExample\" as E1  [[psysml:279b101a-ad7c-43dd-8a07-da5fe5802bed ]]  {\r\n",
       "comp usage \"vehicle\" as E2  <<(T,blue)part>> [[psysml:3dfd6fc9-2012-44ec-8abc-b458a2efa8ee ]] {\r\n",
       "- - attributes - -\r\n",
       "m: MassValue\r\n",
       "}\r\n",
       "comp usage \"eng\" as E3  <<(T,blue)part>> [[psysml:6f0477df-1982-4bef-bc4b-f3a5f459ca50 ]] {\r\n",
       "- - attributes - -\r\n",
       "m: MassValue\r\n",
       "}\r\n",
       "comp usage \"trans\" as E4  <<(T,blue)part>> [[psysml:39f29039-e97f-4cd7-a6e4-24de87290ff7 ]] {\r\n",
       "- - attributes - -\r\n",
       "m: MassValue\r\n",
       "}\r\n",
       "rec def \"MassSum\" as E5  <<(T,blue)calculation def>> [[psysml:5c4fc454-9680-413f-bf1a-bdf2f6cc06d5 ]] {\r\n",
       "portin \"partMasses\" as E6  [[psysml:57eaefe4-a57c-41fa-a944-033dc3e4df4e ]] \r\n",
       "portout \"totalMass\" as E7  [[psysml:35e88aae-ee13-4c55-bc31-272528607619 ]] \r\n",
       "portin \"$collection\" as E8  [[psysml:0e9b074a-52f0-467d-9ed6-1e247226bb71 ]] \r\n",
       "portout \"$result\" as E9  [[psysml:66242f20-bf9b-4b2d-900e-be3ce4c10d7e ]] \r\n",
       "}\r\n",
       "\r\n",
       "comp usage \"ms: MassSum\" as E10  <<(T,blue)calculation>> [[psysml:20e483d0-a5a0-4777-bc7f-caa19ca2a7e0 ]] {\r\n",
       "}\r\n",
       "rec def \"MassSum1\" as E11  <<(T,blue)calculation def>> [[psysml:83ce5d61-6771-4884-a571-d4d08f340672 ]] {\r\n",
       "portin \"partMasses\" as E12  [[psysml:0924d9a5-fc11-4345-935d-e5ff08c51a6a ]] \r\n",
       "portout \"totalMass\" as E13  [[psysml:b7c67a6a-5db6-4529-b3d9-f9fb47dc5f0c ]] \r\n",
       "}\r\n",
       "\r\n",
       "comp usage \"ms1: MassSum\" as E14  <<(T,blue)calculation>> [[psysml:3aa3b647-0159-4a96-9fb7-94bd79c90754 ]] {\r\n",
       "- - attributes - -\r\n",
       "partMasses\r\n",
       "totalMass\r\n",
       "}\r\n",
       "E2 *- - E3 [[psysml:6f0477df-1982-4bef-bc4b-f3a5f459ca50 ]] \r\n",
       "E2 *- - E4 [[psysml:39f29039-e97f-4cd7-a6e4-24de87290ff7 ]] \r\n",
       "E10 - -:|> E5 [[psysml:087e1e8b-9f76-403f-b1f3-15ea1e5b2649 ]] \r\n",
       "E14 - -:|> E5 [[psysml:a6dd9655-fa53-42fd-8b92-db635a2ece9b ]] \r\n",
       "}\r\n",
       "@enduml\r\n",
       "\n",
       "PlantUML version 1.2020.13(Sat Jun 13 12:26:38 UTC 2020)\n",
       "(EPL source distribution)\n",
       "Java Runtime: OpenJDK Runtime Environment\n",
       "JVM: OpenJDK 64-Bit Server VM\n",
       "Default Encoding: UTF-8\n",
       "Language: en\n",
       "Country: null\n",
       "--></g></svg>"
      ]
     },
     "execution_count": 44,
     "metadata": {},
     "output_type": "execute_result"
    }
   ],
   "source": [
    "%viz --style=\"TB\" --view=\"Default\" \"CalculationExample\""
   ]
  },
  {
   "cell_type": "code",
   "execution_count": 45,
   "id": "verbal-incident",
   "metadata": {
    "execution": {
     "iopub.execute_input": "2021-03-26T13:05:08.689204Z",
     "iopub.status.busy": "2021-03-26T13:05:08.688812Z",
     "iopub.status.idle": "2021-03-26T13:05:08.780903Z",
     "shell.execute_reply": "2021-03-26T13:05:08.779183Z"
    }
   },
   "outputs": [
    {
     "data": {
      "image/svg+xml": [
       "<?xml version=\"1.0\" encoding=\"UTF-8\" standalone=\"no\"?><svg xmlns=\"http://www.w3.org/2000/svg\" xmlns:xlink=\"http://www.w3.org/1999/xlink\" contentScriptType=\"application/ecmascript\" contentStyleType=\"text/css\" height=\"293px\" preserveAspectRatio=\"none\" style=\"width:607px;height:293px;\" version=\"1.1\" viewBox=\"0 0 607 293\" width=\"607px\" zoomAndPan=\"magnify\"><defs/><g><!--MD5=[fbc87193dbaf4d95561dea2c320d4a47]\n",
       "cluster E1--><a href=\"psysml:279b101a-ad7c-43dd-8a07-da5fe5802bed\" target=\"_top\" title=\"psysml:279b101a-ad7c-43dd-8a07-da5fe5802bed\" xlink:actuate=\"onRequest\" xlink:href=\"psysml:279b101a-ad7c-43dd-8a07-da5fe5802bed\" xlink:show=\"new\" xlink:title=\"psysml:279b101a-ad7c-43dd-8a07-da5fe5802bed\" xlink:type=\"simple\"><polygon fill=\"#FFFFFF\" points=\"16,6,173,6,180,28.2969,585,28.2969,585,281,16,281,16,6\" style=\"stroke: #000000; stroke-width: 1.5;\"/><line style=\"stroke: #000000; stroke-width: 1.5;\" x1=\"16\" x2=\"180\" y1=\"28.2969\" y2=\"28.2969\"/><text fill=\"#000000\" font-family=\"sans-serif\" font-size=\"14\" font-weight=\"bold\" lengthAdjust=\"spacingAndGlyphs\" textLength=\"151\" x=\"20\" y=\"20.9951\">CalculationExample</text></a><!--MD5=[b4997ac47864f28c2f74865a473b2911]\n",
       "class E2--><a href=\"psysml:3dfd6fc9-2012-44ec-8abc-b458a2efa8ee\" target=\"_top\" title=\"psysml:3dfd6fc9-2012-44ec-8abc-b458a2efa8ee\" xlink:actuate=\"onRequest\" xlink:href=\"psysml:3dfd6fc9-2012-44ec-8abc-b458a2efa8ee\" xlink:show=\"new\" xlink:title=\"psysml:3dfd6fc9-2012-44ec-8abc-b458a2efa8ee\" xlink:type=\"simple\"><rect fill=\"#FFFFFF\" height=\"75.5469\" id=\"E2\" rx=\"10\" ry=\"10\" style=\"stroke: #383838; stroke-width: 1.5;\" width=\"92\" x=\"477\" y=\"47\"/><text fill=\"#000000\" font-family=\"sans-serif\" font-size=\"12\" font-style=\"italic\" lengthAdjust=\"spacingAndGlyphs\" textLength=\"40\" x=\"503\" y=\"63.1387\">«part»</text><text fill=\"#000000\" font-family=\"sans-serif\" font-size=\"12\" lengthAdjust=\"spacingAndGlyphs\" textLength=\"43\" x=\"501.5\" y=\"77.1074\">vehicle</text><line style=\"stroke: #383838; stroke-width: 1.5;\" x1=\"478\" x2=\"568\" y1=\"84.9375\" y2=\"84.9375\"/><text fill=\"#000000\" font-family=\"sans-serif\" font-size=\"11\" lengthAdjust=\"spacingAndGlyphs\" textLength=\"80\" x=\"483\" y=\"115.9526\">m: MassValue</text><line style=\"stroke: #383838; stroke-width: 1.0;\" x1=\"478\" x2=\"495.5\" y1=\"99.3398\" y2=\"99.3398\"/><text fill=\"#000000\" font-family=\"sans-serif\" font-size=\"11\" lengthAdjust=\"spacingAndGlyphs\" textLength=\"55\" x=\"495.5\" y=\"102.6479\">attributes</text><line style=\"stroke: #383838; stroke-width: 1.0;\" x1=\"550.5\" x2=\"568\" y1=\"99.3398\" y2=\"99.3398\"/></a><!--MD5=[09b614a08d8cba4a07c9adeb5e0fee81]\n",
       "class E3--><a href=\"psysml:6f0477df-1982-4bef-bc4b-f3a5f459ca50\" target=\"_top\" title=\"psysml:6f0477df-1982-4bef-bc4b-f3a5f459ca50\" xlink:actuate=\"onRequest\" xlink:href=\"psysml:6f0477df-1982-4bef-bc4b-f3a5f459ca50\" xlink:show=\"new\" xlink:title=\"psysml:6f0477df-1982-4bef-bc4b-f3a5f459ca50\" xlink:type=\"simple\"><rect fill=\"#FFFFFF\" height=\"75.5469\" id=\"E3\" rx=\"10\" ry=\"10\" style=\"stroke: #383838; stroke-width: 1.5;\" width=\"92\" x=\"350\" y=\"189\"/><text fill=\"#000000\" font-family=\"sans-serif\" font-size=\"12\" font-style=\"italic\" lengthAdjust=\"spacingAndGlyphs\" textLength=\"40\" x=\"376\" y=\"205.1387\">«part»</text><text fill=\"#000000\" font-family=\"sans-serif\" font-size=\"12\" lengthAdjust=\"spacingAndGlyphs\" textLength=\"24\" x=\"384\" y=\"219.1074\">eng</text><line style=\"stroke: #383838; stroke-width: 1.5;\" x1=\"351\" x2=\"441\" y1=\"226.9375\" y2=\"226.9375\"/><text fill=\"#000000\" font-family=\"sans-serif\" font-size=\"11\" lengthAdjust=\"spacingAndGlyphs\" textLength=\"80\" x=\"356\" y=\"257.9526\">m: MassValue</text><line style=\"stroke: #383838; stroke-width: 1.0;\" x1=\"351\" x2=\"368.5\" y1=\"241.3398\" y2=\"241.3398\"/><text fill=\"#000000\" font-family=\"sans-serif\" font-size=\"11\" lengthAdjust=\"spacingAndGlyphs\" textLength=\"55\" x=\"368.5\" y=\"244.6479\">attributes</text><line style=\"stroke: #383838; stroke-width: 1.0;\" x1=\"423.5\" x2=\"441\" y1=\"241.3398\" y2=\"241.3398\"/></a><!--MD5=[ebbe1d658d1005bcc118a6aa81145e00]\n",
       "class E4--><a href=\"psysml:39f29039-e97f-4cd7-a6e4-24de87290ff7\" target=\"_top\" title=\"psysml:39f29039-e97f-4cd7-a6e4-24de87290ff7\" xlink:actuate=\"onRequest\" xlink:href=\"psysml:39f29039-e97f-4cd7-a6e4-24de87290ff7\" xlink:show=\"new\" xlink:title=\"psysml:39f29039-e97f-4cd7-a6e4-24de87290ff7\" xlink:type=\"simple\"><rect fill=\"#FFFFFF\" height=\"75.5469\" id=\"E4\" rx=\"10\" ry=\"10\" style=\"stroke: #383838; stroke-width: 1.5;\" width=\"92\" x=\"477\" y=\"189\"/><text fill=\"#000000\" font-family=\"sans-serif\" font-size=\"12\" font-style=\"italic\" lengthAdjust=\"spacingAndGlyphs\" textLength=\"40\" x=\"503\" y=\"205.1387\">«part»</text><text fill=\"#000000\" font-family=\"sans-serif\" font-size=\"12\" lengthAdjust=\"spacingAndGlyphs\" textLength=\"33\" x=\"506.5\" y=\"219.1074\">trans</text><line style=\"stroke: #383838; stroke-width: 1.5;\" x1=\"478\" x2=\"568\" y1=\"226.9375\" y2=\"226.9375\"/><text fill=\"#000000\" font-family=\"sans-serif\" font-size=\"11\" lengthAdjust=\"spacingAndGlyphs\" textLength=\"80\" x=\"483\" y=\"257.9526\">m: MassValue</text><line style=\"stroke: #383838; stroke-width: 1.0;\" x1=\"478\" x2=\"495.5\" y1=\"241.3398\" y2=\"241.3398\"/><text fill=\"#000000\" font-family=\"sans-serif\" font-size=\"11\" lengthAdjust=\"spacingAndGlyphs\" textLength=\"55\" x=\"495.5\" y=\"244.6479\">attributes</text><line style=\"stroke: #383838; stroke-width: 1.0;\" x1=\"550.5\" x2=\"568\" y1=\"241.3398\" y2=\"241.3398\"/></a><!--MD5=[270fce915f116d4de14055a7c1d9a0f3]\n",
       "class E5--><a href=\"psysml:5c4fc454-9680-413f-bf1a-bdf2f6cc06d5\" target=\"_top\" title=\"psysml:5c4fc454-9680-413f-bf1a-bdf2f6cc06d5\" xlink:actuate=\"onRequest\" xlink:href=\"psysml:5c4fc454-9680-413f-bf1a-bdf2f6cc06d5\" xlink:show=\"new\" xlink:title=\"psysml:5c4fc454-9680-413f-bf1a-bdf2f6cc06d5\" xlink:type=\"simple\"><rect fill=\"#FFFFFF\" height=\"45.9375\" id=\"E5\" style=\"stroke: #383838; stroke-width: 1.5;\" width=\"108\" x=\"120\" y=\"204\"/><text fill=\"#000000\" font-family=\"sans-serif\" font-size=\"12\" font-style=\"italic\" lengthAdjust=\"spacingAndGlyphs\" textLength=\"106\" x=\"121\" y=\"220.1387\">«calculation def»</text><text fill=\"#000000\" font-family=\"sans-serif\" font-size=\"12\" lengthAdjust=\"spacingAndGlyphs\" textLength=\"59\" x=\"144.5\" y=\"234.1074\">MassSum</text><line style=\"stroke: #383838; stroke-width: 1.5;\" x1=\"121\" x2=\"227\" y1=\"241.9375\" y2=\"241.9375\"/></a><!--MD5=[60a26617385b1d2d0262a64233df1f8d]\n",
       "class E6--><a href=\"psysml:20e483d0-a5a0-4777-bc7f-caa19ca2a7e0\" target=\"_top\" title=\"psysml:20e483d0-a5a0-4777-bc7f-caa19ca2a7e0\" xlink:actuate=\"onRequest\" xlink:href=\"psysml:20e483d0-a5a0-4777-bc7f-caa19ca2a7e0\" xlink:show=\"new\" xlink:title=\"psysml:20e483d0-a5a0-4777-bc7f-caa19ca2a7e0\" xlink:type=\"simple\"><rect fill=\"#FFFFFF\" height=\"45.9375\" id=\"E6\" rx=\"10\" ry=\"10\" style=\"stroke: #383838; stroke-width: 1.5;\" width=\"91\" x=\"350.5\" y=\"62\"/><text fill=\"#000000\" font-family=\"sans-serif\" font-size=\"12\" font-style=\"italic\" lengthAdjust=\"spacingAndGlyphs\" textLength=\"82\" x=\"355\" y=\"78.1387\">«calculation»</text><text fill=\"#000000\" font-family=\"sans-serif\" font-size=\"12\" lengthAdjust=\"spacingAndGlyphs\" textLength=\"85\" x=\"353.5\" y=\"92.1074\">ms: MassSum</text><line style=\"stroke: #383838; stroke-width: 1.5;\" x1=\"351.5\" x2=\"440.5\" y1=\"99.9375\" y2=\"99.9375\"/></a><!--MD5=[2156ba9850f5573cc1fc38a6a4b2f02b]\n",
       "class E7--><a href=\"psysml:83ce5d61-6771-4884-a571-d4d08f340672\" target=\"_top\" title=\"psysml:83ce5d61-6771-4884-a571-d4d08f340672\" xlink:actuate=\"onRequest\" xlink:href=\"psysml:83ce5d61-6771-4884-a571-d4d08f340672\" xlink:show=\"new\" xlink:title=\"psysml:83ce5d61-6771-4884-a571-d4d08f340672\" xlink:type=\"simple\"><rect fill=\"#FFFFFF\" height=\"88.3516\" id=\"E7\" style=\"stroke: #383838; stroke-width: 1.5;\" width=\"148\" x=\"167\" y=\"41\"/><text fill=\"#000000\" font-family=\"sans-serif\" font-size=\"12\" font-style=\"italic\" lengthAdjust=\"spacingAndGlyphs\" textLength=\"106\" x=\"188\" y=\"57.1387\">«calculation def»</text><text fill=\"#000000\" font-family=\"sans-serif\" font-size=\"12\" lengthAdjust=\"spacingAndGlyphs\" textLength=\"67\" x=\"207.5\" y=\"71.1074\">MassSum1</text><line style=\"stroke: #383838; stroke-width: 1.5;\" x1=\"168\" x2=\"314\" y1=\"78.9375\" y2=\"78.9375\"/><text fill=\"#000000\" font-family=\"sans-serif\" font-size=\"11\" lengthAdjust=\"spacingAndGlyphs\" textLength=\"136\" x=\"173\" y=\"109.9526\">partMasses: MassValue</text><text fill=\"#000000\" font-family=\"sans-serif\" font-size=\"11\" lengthAdjust=\"spacingAndGlyphs\" textLength=\"124\" x=\"173\" y=\"122.7573\">totalMass: MassValue</text><line style=\"stroke: #383838; stroke-width: 1.0;\" x1=\"168\" x2=\"213.5\" y1=\"93.3398\" y2=\"93.3398\"/><text fill=\"#000000\" font-family=\"sans-serif\" font-size=\"11\" lengthAdjust=\"spacingAndGlyphs\" textLength=\"55\" x=\"213.5\" y=\"96.6479\">attributes</text><line style=\"stroke: #383838; stroke-width: 1.0;\" x1=\"268.5\" x2=\"314\" y1=\"93.3398\" y2=\"93.3398\"/></a><!--MD5=[b9389687b975829384b498ac4b7476b2]\n",
       "class E8--><a href=\"psysml:3aa3b647-0159-4a96-9fb7-94bd79c90754\" target=\"_top\" title=\"psysml:3aa3b647-0159-4a96-9fb7-94bd79c90754\" xlink:actuate=\"onRequest\" xlink:href=\"psysml:3aa3b647-0159-4a96-9fb7-94bd79c90754\" xlink:show=\"new\" xlink:title=\"psysml:3aa3b647-0159-4a96-9fb7-94bd79c90754\" xlink:type=\"simple\"><rect fill=\"#FFFFFF\" height=\"88.3516\" id=\"E8\" rx=\"10\" ry=\"10\" style=\"stroke: #383838; stroke-width: 1.5;\" width=\"99\" x=\"32.5\" y=\"41\"/><text fill=\"#000000\" font-family=\"sans-serif\" font-size=\"12\" font-style=\"italic\" lengthAdjust=\"spacingAndGlyphs\" textLength=\"82\" x=\"41\" y=\"57.1387\">«calculation»</text><text fill=\"#000000\" font-family=\"sans-serif\" font-size=\"12\" lengthAdjust=\"spacingAndGlyphs\" textLength=\"93\" x=\"35.5\" y=\"71.1074\">ms1: MassSum</text><line style=\"stroke: #383838; stroke-width: 1.5;\" x1=\"33.5\" x2=\"130.5\" y1=\"78.9375\" y2=\"78.9375\"/><text fill=\"#000000\" font-family=\"sans-serif\" font-size=\"11\" lengthAdjust=\"spacingAndGlyphs\" textLength=\"67\" x=\"38.5\" y=\"109.9526\">partMasses</text><text fill=\"#000000\" font-family=\"sans-serif\" font-size=\"11\" lengthAdjust=\"spacingAndGlyphs\" textLength=\"55\" x=\"38.5\" y=\"122.7573\">totalMass</text><line style=\"stroke: #383838; stroke-width: 1.0;\" x1=\"33.5\" x2=\"54.5\" y1=\"93.3398\" y2=\"93.3398\"/><text fill=\"#000000\" font-family=\"sans-serif\" font-size=\"11\" lengthAdjust=\"spacingAndGlyphs\" textLength=\"55\" x=\"54.5\" y=\"96.6479\">attributes</text><line style=\"stroke: #383838; stroke-width: 1.0;\" x1=\"109.5\" x2=\"130.5\" y1=\"93.3398\" y2=\"93.3398\"/></a><!--MD5=[209b3feb70ccb6233bfe1053d122c12c]\n",
       "reverse link E2 to E3--><a href=\"psysml:6f0477df-1982-4bef-bc4b-f3a5f459ca50\" target=\"_top\" title=\"psysml:6f0477df-1982-4bef-bc4b-f3a5f459ca50\" xlink:actuate=\"onRequest\" xlink:href=\"psysml:6f0477df-1982-4bef-bc4b-f3a5f459ca50\" xlink:show=\"new\" xlink:title=\"psysml:6f0477df-1982-4bef-bc4b-f3a5f459ca50\" xlink:type=\"simple\"><path d=\"M480.41,132.95 C463.95,151.1 445.38,171.57 429.86,188.68 \" fill=\"none\" id=\"E2&lt;-E3\" style=\"stroke: #383838; stroke-width: 1.0;\"/><polygon fill=\"#383838\" points=\"489.3,123.15,482.3052,124.9031,481.2332,132.0341,488.2279,130.281,489.3,123.15\" style=\"stroke: #383838; stroke-width: 1.0;\"/></a><!--MD5=[9618e71518536f8baf3342ff6fdab317]\n",
       "reverse link E2 to E4--><a href=\"psysml:39f29039-e97f-4cd7-a6e4-24de87290ff7\" target=\"_top\" title=\"psysml:39f29039-e97f-4cd7-a6e4-24de87290ff7\" xlink:actuate=\"onRequest\" xlink:href=\"psysml:39f29039-e97f-4cd7-a6e4-24de87290ff7\" xlink:show=\"new\" xlink:title=\"psysml:39f29039-e97f-4cd7-a6e4-24de87290ff7\" xlink:type=\"simple\"><path d=\"M523,136.25 C523,153.55 523,172.6 523,188.68 \" fill=\"none\" id=\"E2&lt;-E4\" style=\"stroke: #383838; stroke-width: 1.0;\"/><polygon fill=\"#383838\" points=\"523,123.15,519,129.15,523,135.15,527,129.15,523,123.15\" style=\"stroke: #383838; stroke-width: 1.0;\"/></a><!--MD5=[25b190c987b1e74e5126d372c5a73af1]\n",
       "link E6 to E5--><a href=\"psysml:087e1e8b-9f76-403f-b1f3-15ea1e5b2649\" target=\"_top\" title=\"psysml:087e1e8b-9f76-403f-b1f3-15ea1e5b2649\" xlink:actuate=\"onRequest\" xlink:href=\"psysml:087e1e8b-9f76-403f-b1f3-15ea1e5b2649\" xlink:show=\"new\" xlink:title=\"psysml:087e1e8b-9f76-403f-b1f3-15ea1e5b2649\" xlink:type=\"simple\"><path d=\"M364.16,108.19 C354.25,114.98 343.23,122.39 333,129 C298.76,151.11 259.69,174.96 228.85,193.48 \" fill=\"none\" id=\"E6-&gt;E5\" style=\"stroke: #383838; stroke-width: 1.0;\"/><polygon fill=\"#FFFFFF\" points=\"211.28,203.99,223.9864,188.2246,231.1775,200.2365,211.28,203.99\" style=\"stroke: #383838; stroke-width: 1.0;\"/><ellipse cx=\"229.9042\" cy=\"187.0127\" fill=\"#383838\" rx=\"2\" ry=\"2\" style=\"stroke: #383838; stroke-width: 1.0;\"/><ellipse cx=\"235.0408\" cy=\"195.5927\" fill=\"#383838\" rx=\"2\" ry=\"2\" style=\"stroke: #383838; stroke-width: 1.0;\"/></a><!--MD5=[1ccb2481ffa92f8d51a74ee30c51832a]\n",
       "link E8 to E5--><a href=\"psysml:a6dd9655-fa53-42fd-8b92-db635a2ece9b\" target=\"_top\" title=\"psysml:a6dd9655-fa53-42fd-8b92-db635a2ece9b\" xlink:actuate=\"onRequest\" xlink:href=\"psysml:a6dd9655-fa53-42fd-8b92-db635a2ece9b\" xlink:show=\"new\" xlink:title=\"psysml:a6dd9655-fa53-42fd-8b92-db635a2ece9b\" xlink:type=\"simple\"><path d=\"M110.35,129.15 C122.49,147.61 136.55,169.01 148.37,186.99 \" fill=\"none\" id=\"E8-&gt;E5\" style=\"stroke: #383838; stroke-width: 1.0;\"/><polygon fill=\"#FFFFFF\" points=\"159.48,203.91,143.1947,191.8772,154.8939,184.1877,159.48,203.91\" style=\"stroke: #383838; stroke-width: 1.0;\"/><ellipse cx=\"141.7353\" cy=\"186.0155\" fill=\"#383838\" rx=\"2\" ry=\"2\" style=\"stroke: #383838; stroke-width: 1.0;\"/><ellipse cx=\"150.0918\" cy=\"180.523\" fill=\"#383838\" rx=\"2\" ry=\"2\" style=\"stroke: #383838; stroke-width: 1.0;\"/></a><!--MD5=[849b647acb80e84e1f9401e285b8aecd]\n",
       "@startuml\r\n",
       "top to bottom direction\r\n",
       "skinparam monochrome true\r\n",
       "skinparam classbackgroundcolor white\r\n",
       "skinparam shadowing false\r\n",
       "skinparam wrapWidth 300\r\n",
       "hide circle\r\n",
       "\r\n",
       "package \"CalculationExample\" as E1  [[psysml:279b101a-ad7c-43dd-8a07-da5fe5802bed ]]  {\r\n",
       "comp usage \"vehicle\" as E2  <<(T,blue)part>> [[psysml:3dfd6fc9-2012-44ec-8abc-b458a2efa8ee ]] {\r\n",
       "- - attributes - -\r\n",
       "m: MassValue\r\n",
       "}\r\n",
       "comp usage \"eng\" as E3  <<(T,blue)part>> [[psysml:6f0477df-1982-4bef-bc4b-f3a5f459ca50 ]] {\r\n",
       "- - attributes - -\r\n",
       "m: MassValue\r\n",
       "}\r\n",
       "comp usage \"trans\" as E4  <<(T,blue)part>> [[psysml:39f29039-e97f-4cd7-a6e4-24de87290ff7 ]] {\r\n",
       "- - attributes - -\r\n",
       "m: MassValue\r\n",
       "}\r\n",
       "comp def \"MassSum\" as E5  <<(T,blue)calculation def>> [[psysml:5c4fc454-9680-413f-bf1a-bdf2f6cc06d5 ]] {\r\n",
       "}\r\n",
       "comp usage \"ms: MassSum\" as E6  <<(T,blue)calculation>> [[psysml:20e483d0-a5a0-4777-bc7f-caa19ca2a7e0 ]] {\r\n",
       "}\r\n",
       "comp def \"MassSum1\" as E7  <<(T,blue)calculation def>> [[psysml:83ce5d61-6771-4884-a571-d4d08f340672 ]] {\r\n",
       "- - attributes - -\r\n",
       "partMasses: MassValue\r\n",
       "totalMass: MassValue\r\n",
       "}\r\n",
       "comp usage \"ms1: MassSum\" as E8  <<(T,blue)calculation>> [[psysml:3aa3b647-0159-4a96-9fb7-94bd79c90754 ]] {\r\n",
       "- - attributes - -\r\n",
       "partMasses\r\n",
       "totalMass\r\n",
       "}\r\n",
       "E2 *- - E3 [[psysml:6f0477df-1982-4bef-bc4b-f3a5f459ca50 ]] \r\n",
       "E2 *- - E4 [[psysml:39f29039-e97f-4cd7-a6e4-24de87290ff7 ]] \r\n",
       "E6 - -:|> E5 [[psysml:087e1e8b-9f76-403f-b1f3-15ea1e5b2649 ]] \r\n",
       "E8 - -:|> E5 [[psysml:a6dd9655-fa53-42fd-8b92-db635a2ece9b ]] \r\n",
       "}\r\n",
       "@enduml\r\n",
       "\n",
       "PlantUML version 1.2020.13(Sat Jun 13 12:26:38 UTC 2020)\n",
       "(EPL source distribution)\n",
       "Java Runtime: OpenJDK Runtime Environment\n",
       "JVM: OpenJDK 64-Bit Server VM\n",
       "Default Encoding: UTF-8\n",
       "Language: en\n",
       "Country: null\n",
       "--></g></svg>"
      ]
     },
     "execution_count": 45,
     "metadata": {},
     "output_type": "execute_result"
    }
   ],
   "source": [
    "%viz --style=\"TB\" --view=\"Tree\" \"CalculationExample\""
   ]
  },
  {
   "cell_type": "code",
   "execution_count": 46,
   "id": "serial-being",
   "metadata": {
    "execution": {
     "iopub.execute_input": "2021-03-26T13:05:08.830659Z",
     "iopub.status.busy": "2021-03-26T13:05:08.829716Z",
     "iopub.status.idle": "2021-03-26T13:05:08.834676Z",
     "shell.execute_reply": "2021-03-26T13:05:08.835120Z"
    }
   },
   "outputs": [
    {
     "data": {
      "image/svg+xml": [
       "<?xml version=\"1.0\" encoding=\"UTF-8\" standalone=\"no\"?><svg xmlns=\"http://www.w3.org/2000/svg\" xmlns:xlink=\"http://www.w3.org/1999/xlink\" contentScriptType=\"application/ecmascript\" contentStyleType=\"text/css\" height=\"12px\" preserveAspectRatio=\"none\" style=\"width:12px;height:12px;\" version=\"1.1\" viewBox=\"0 0 12 12\" width=\"12px\" zoomAndPan=\"magnify\"><defs/><g><!--MD5=[f4ee21bc66e489b5061b7c3e9601fdef]\n",
       "@startuml\r\n",
       "top to bottom direction\r\n",
       "skinparam monochrome true\r\n",
       "skinparam classbackgroundcolor white\r\n",
       "skinparam shadowing false\r\n",
       "skinparam wrapWidth 300\r\n",
       "hide circle\r\n",
       "\r\n",
       "@enduml\r\n",
       "\n",
       "PlantUML version 1.2020.13(Sat Jun 13 12:26:38 UTC 2020)\n",
       "(EPL source distribution)\n",
       "Java Runtime: OpenJDK Runtime Environment\n",
       "JVM: OpenJDK 64-Bit Server VM\n",
       "Default Encoding: UTF-8\n",
       "Language: en\n",
       "Country: null\n",
       "--></g></svg>"
      ]
     },
     "execution_count": 46,
     "metadata": {},
     "output_type": "execute_result"
    }
   ],
   "source": [
    "%viz --style=\"TB\" --view=\"State\" \"CalculationExample\""
   ]
  },
  {
   "cell_type": "code",
   "execution_count": 47,
   "id": "printable-selection",
   "metadata": {
    "execution": {
     "iopub.execute_input": "2021-03-26T13:05:08.887290Z",
     "iopub.status.busy": "2021-03-26T13:05:08.886517Z",
     "iopub.status.idle": "2021-03-26T13:05:08.916888Z",
     "shell.execute_reply": "2021-03-26T13:05:08.915366Z"
    }
   },
   "outputs": [
    {
     "data": {
      "image/svg+xml": [
       "<?xml version=\"1.0\" encoding=\"UTF-8\" standalone=\"no\"?><svg xmlns=\"http://www.w3.org/2000/svg\" xmlns:xlink=\"http://www.w3.org/1999/xlink\" contentScriptType=\"application/ecmascript\" contentStyleType=\"text/css\" height=\"246px\" preserveAspectRatio=\"none\" style=\"width:795px;height:246px;\" version=\"1.1\" viewBox=\"0 0 795 246\" width=\"795px\" zoomAndPan=\"magnify\"><defs/><g><!--MD5=[fbc87193dbaf4d95561dea2c320d4a47]\n",
       "cluster E1--><a href=\"psysml:279b101a-ad7c-43dd-8a07-da5fe5802bed\" target=\"_top\" title=\"psysml:279b101a-ad7c-43dd-8a07-da5fe5802bed\" xlink:actuate=\"onRequest\" xlink:href=\"psysml:279b101a-ad7c-43dd-8a07-da5fe5802bed\" xlink:show=\"new\" xlink:title=\"psysml:279b101a-ad7c-43dd-8a07-da5fe5802bed\" xlink:type=\"simple\"><polygon fill=\"#FFFFFF\" points=\"16,6,173,6,180,28.2969,773,28.2969,773,234,16,234,16,6\" style=\"stroke: #000000; stroke-width: 1.5;\"/><line style=\"stroke: #000000; stroke-width: 1.5;\" x1=\"16\" x2=\"180\" y1=\"28.2969\" y2=\"28.2969\"/><text fill=\"#000000\" font-family=\"sans-serif\" font-size=\"14\" font-weight=\"bold\" lengthAdjust=\"spacingAndGlyphs\" textLength=\"151\" x=\"20\" y=\"20.9951\">CalculationExample</text></a><!--MD5=[e4f7fae6ed58524ba242bb0b0d3be6b7]\n",
       "cluster E2--><a href=\"psysml:3dfd6fc9-2012-44ec-8abc-b458a2efa8ee\" target=\"_top\" title=\"psysml:3dfd6fc9-2012-44ec-8abc-b458a2efa8ee\" xlink:actuate=\"onRequest\" xlink:href=\"psysml:3dfd6fc9-2012-44ec-8abc-b458a2efa8ee\" xlink:show=\"new\" xlink:title=\"psysml:3dfd6fc9-2012-44ec-8abc-b458a2efa8ee\" xlink:type=\"simple\"><rect fill=\"#FFFFFF\" height=\"161\" id=\"E2\" rx=\"10\" ry=\"10\" style=\"stroke: #383838; stroke-width: 1.5;\" width=\"436\" x=\"313\" y=\"49\"/><rect fill=\"#F8F8F8\" height=\"23.9688\" rx=\"10\" ry=\"10\" style=\"stroke: #F8F8F8; stroke-width: 1.5;\" width=\"436\" x=\"313\" y=\"49\"/><rect fill=\"#F8F8F8\" height=\"10\" style=\"stroke: #F8F8F8; stroke-width: 1.5;\" width=\"436\" x=\"313\" y=\"62.9688\"/><rect fill=\"none\" height=\"161\" id=\"E2\" rx=\"10\" ry=\"10\" style=\"stroke: #383838; stroke-width: 1.5;\" width=\"436\" x=\"313\" y=\"49\"/><text fill=\"#000000\" font-family=\"sans-serif\" font-size=\"12\" lengthAdjust=\"spacingAndGlyphs\" textLength=\"43\" x=\"509.5\" y=\"65.1387\">vehicle</text><line style=\"stroke: #383838; stroke-width: 1.0;\" x1=\"313\" x2=\"749\" y1=\"72.9688\" y2=\"72.9688\"/></a><!--MD5=[f6df4d0ebaf0b5dfb2ced0ae5af7c670]\n",
       "cluster E4--><a href=\"psysml:6f0477df-1982-4bef-bc4b-f3a5f459ca50\" target=\"_top\" title=\"psysml:6f0477df-1982-4bef-bc4b-f3a5f459ca50\" xlink:actuate=\"onRequest\" xlink:href=\"psysml:6f0477df-1982-4bef-bc4b-f3a5f459ca50\" xlink:show=\"new\" xlink:title=\"psysml:6f0477df-1982-4bef-bc4b-f3a5f459ca50\" xlink:type=\"simple\"><rect fill=\"#FFFFFF\" height=\"94\" id=\"E4\" rx=\"10\" ry=\"10\" style=\"stroke: #383838; stroke-width: 1.5;\" width=\"128\" x=\"597\" y=\"92\"/><rect fill=\"#F8F8F8\" height=\"23.9688\" rx=\"10\" ry=\"10\" style=\"stroke: #F8F8F8; stroke-width: 1.5;\" width=\"128\" x=\"597\" y=\"92\"/><rect fill=\"#F8F8F8\" height=\"10\" style=\"stroke: #F8F8F8; stroke-width: 1.5;\" width=\"128\" x=\"597\" y=\"105.9688\"/><rect fill=\"none\" height=\"94\" id=\"E4\" rx=\"10\" ry=\"10\" style=\"stroke: #383838; stroke-width: 1.5;\" width=\"128\" x=\"597\" y=\"92\"/><text fill=\"#000000\" font-family=\"sans-serif\" font-size=\"12\" lengthAdjust=\"spacingAndGlyphs\" textLength=\"24\" x=\"649\" y=\"108.1387\">eng</text><line style=\"stroke: #383838; stroke-width: 1.0;\" x1=\"597\" x2=\"725\" y1=\"115.9688\" y2=\"115.9688\"/></a><!--MD5=[14e3b0961a2654348d326746436168a1]\n",
       "cluster E6--><a href=\"psysml:39f29039-e97f-4cd7-a6e4-24de87290ff7\" target=\"_top\" title=\"psysml:39f29039-e97f-4cd7-a6e4-24de87290ff7\" xlink:actuate=\"onRequest\" xlink:href=\"psysml:39f29039-e97f-4cd7-a6e4-24de87290ff7\" xlink:show=\"new\" xlink:title=\"psysml:39f29039-e97f-4cd7-a6e4-24de87290ff7\" xlink:type=\"simple\"><rect fill=\"#FFFFFF\" height=\"94\" id=\"E6\" rx=\"10\" ry=\"10\" style=\"stroke: #383838; stroke-width: 1.5;\" width=\"128\" x=\"445\" y=\"92\"/><rect fill=\"#F8F8F8\" height=\"23.9688\" rx=\"10\" ry=\"10\" style=\"stroke: #F8F8F8; stroke-width: 1.5;\" width=\"128\" x=\"445\" y=\"92\"/><rect fill=\"#F8F8F8\" height=\"10\" style=\"stroke: #F8F8F8; stroke-width: 1.5;\" width=\"128\" x=\"445\" y=\"105.9688\"/><rect fill=\"none\" height=\"94\" id=\"E6\" rx=\"10\" ry=\"10\" style=\"stroke: #383838; stroke-width: 1.5;\" width=\"128\" x=\"445\" y=\"92\"/><text fill=\"#000000\" font-family=\"sans-serif\" font-size=\"12\" lengthAdjust=\"spacingAndGlyphs\" textLength=\"33\" x=\"492.5\" y=\"108.1387\">trans</text><line style=\"stroke: #383838; stroke-width: 1.0;\" x1=\"445\" x2=\"573\" y1=\"115.9688\" y2=\"115.9688\"/></a><g id=\"E1.E8\"><a href=\"psysml:5c4fc454-9680-413f-bf1a-bdf2f6cc06d5\" target=\"_top\" title=\"psysml:5c4fc454-9680-413f-bf1a-bdf2f6cc06d5\" xlink:actuate=\"onRequest\" xlink:href=\"psysml:5c4fc454-9680-413f-bf1a-bdf2f6cc06d5\" xlink:show=\"new\" xlink:title=\"psysml:5c4fc454-9680-413f-bf1a-bdf2f6cc06d5\" xlink:type=\"simple\"><rect fill=\"#FFFFFF\" height=\"42.9375\" id=\"E8\" style=\"stroke: #383838; stroke-width: 1.5;\" width=\"113\" x=\"180.5\" y=\"127\"/><rect fill=\"#F8F8F8\" height=\"37.9375\" style=\"stroke: #383838; stroke-width: 1.5;\" width=\"113\" x=\"180.5\" y=\"127\"/><text fill=\"#000000\" font-family=\"sans-serif\" font-size=\"12\" font-style=\"italic\" lengthAdjust=\"spacingAndGlyphs\" textLength=\"106\" x=\"184\" y=\"143.1387\">«calculation def»</text><text fill=\"#000000\" font-family=\"sans-serif\" font-size=\"12\" lengthAdjust=\"spacingAndGlyphs\" textLength=\"59\" x=\"207.5\" y=\"157.1074\">MassSum</text></a></g><g id=\"E1.E9\"><a href=\"psysml:83ce5d61-6771-4884-a571-d4d08f340672\" target=\"_top\" title=\"psysml:83ce5d61-6771-4884-a571-d4d08f340672\" xlink:actuate=\"onRequest\" xlink:href=\"psysml:83ce5d61-6771-4884-a571-d4d08f340672\" xlink:show=\"new\" xlink:title=\"psysml:83ce5d61-6771-4884-a571-d4d08f340672\" xlink:type=\"simple\"><rect fill=\"#FFFFFF\" height=\"42.9375\" id=\"E9\" style=\"stroke: #383838; stroke-width: 1.5;\" width=\"113\" x=\"32.5\" y=\"127\"/><rect fill=\"#F8F8F8\" height=\"37.9375\" style=\"stroke: #383838; stroke-width: 1.5;\" width=\"113\" x=\"32.5\" y=\"127\"/><text fill=\"#000000\" font-family=\"sans-serif\" font-size=\"12\" font-style=\"italic\" lengthAdjust=\"spacingAndGlyphs\" textLength=\"106\" x=\"36\" y=\"143.1387\">«calculation def»</text><text fill=\"#000000\" font-family=\"sans-serif\" font-size=\"12\" lengthAdjust=\"spacingAndGlyphs\" textLength=\"67\" x=\"55.5\" y=\"157.1074\">MassSum1</text></a></g><g id=\"E1.E2.E3\"><a href=\"psysml:14ff17ee-41c8-45bd-b867-b50857ad993c\" target=\"_top\" title=\"psysml:14ff17ee-41c8-45bd-b867-b50857ad993c\" xlink:actuate=\"onRequest\" xlink:href=\"psysml:14ff17ee-41c8-45bd-b867-b50857ad993c\" xlink:show=\"new\" xlink:title=\"psysml:14ff17ee-41c8-45bd-b867-b50857ad993c\" xlink:type=\"simple\"><rect fill=\"#FFFFFF\" height=\"42.9375\" id=\"E3\" rx=\"10\" ry=\"10\" style=\"stroke: #383838; stroke-width: 1.5;\" width=\"97\" x=\"328.5\" y=\"127\"/><rect fill=\"#F8F8F8\" height=\"37.9375\" rx=\"10\" ry=\"10\" style=\"stroke: #F8F8F8; stroke-width: 1.5;\" width=\"97\" x=\"328.5\" y=\"127\"/><rect fill=\"#F8F8F8\" height=\"10\" style=\"stroke: #F8F8F8; stroke-width: 1.5;\" width=\"97\" x=\"328.5\" y=\"154.9375\"/><rect fill=\"none\" height=\"42.9375\" id=\"E3\" rx=\"10\" ry=\"10\" style=\"stroke: #383838; stroke-width: 1.5;\" width=\"97\" x=\"328.5\" y=\"127\"/><text fill=\"#000000\" font-family=\"sans-serif\" font-size=\"12\" font-style=\"italic\" lengthAdjust=\"spacingAndGlyphs\" textLength=\"69\" x=\"342.5\" y=\"143.1387\">«attribute»</text><text fill=\"#000000\" font-family=\"sans-serif\" font-size=\"12\" lengthAdjust=\"spacingAndGlyphs\" textLength=\"86\" x=\"334\" y=\"157.1074\">m: MassValue</text></a></g><g id=\"E1.E2.E4.E5\"><a href=\"psysml:74b360a2-1898-4ab2-8a14-bf87d0706240\" target=\"_top\" title=\"psysml:74b360a2-1898-4ab2-8a14-bf87d0706240\" xlink:actuate=\"onRequest\" xlink:href=\"psysml:74b360a2-1898-4ab2-8a14-bf87d0706240\" xlink:show=\"new\" xlink:title=\"psysml:74b360a2-1898-4ab2-8a14-bf87d0706240\" xlink:type=\"simple\"><rect fill=\"#FFFFFF\" height=\"42.9375\" id=\"E5\" rx=\"10\" ry=\"10\" style=\"stroke: #383838; stroke-width: 1.5;\" width=\"97\" x=\"612.5\" y=\"127\"/><rect fill=\"#F8F8F8\" height=\"37.9375\" rx=\"10\" ry=\"10\" style=\"stroke: #F8F8F8; stroke-width: 1.5;\" width=\"97\" x=\"612.5\" y=\"127\"/><rect fill=\"#F8F8F8\" height=\"10\" style=\"stroke: #F8F8F8; stroke-width: 1.5;\" width=\"97\" x=\"612.5\" y=\"154.9375\"/><rect fill=\"none\" height=\"42.9375\" id=\"E5\" rx=\"10\" ry=\"10\" style=\"stroke: #383838; stroke-width: 1.5;\" width=\"97\" x=\"612.5\" y=\"127\"/><text fill=\"#000000\" font-family=\"sans-serif\" font-size=\"12\" font-style=\"italic\" lengthAdjust=\"spacingAndGlyphs\" textLength=\"69\" x=\"626.5\" y=\"143.1387\">«attribute»</text><text fill=\"#000000\" font-family=\"sans-serif\" font-size=\"12\" lengthAdjust=\"spacingAndGlyphs\" textLength=\"86\" x=\"618\" y=\"157.1074\">m: MassValue</text></a></g><g id=\"E1.E2.E6.E7\"><a href=\"psysml:21104dbc-631a-485d-ad70-3d921fae82b5\" target=\"_top\" title=\"psysml:21104dbc-631a-485d-ad70-3d921fae82b5\" xlink:actuate=\"onRequest\" xlink:href=\"psysml:21104dbc-631a-485d-ad70-3d921fae82b5\" xlink:show=\"new\" xlink:title=\"psysml:21104dbc-631a-485d-ad70-3d921fae82b5\" xlink:type=\"simple\"><rect fill=\"#FFFFFF\" height=\"42.9375\" id=\"E7\" rx=\"10\" ry=\"10\" style=\"stroke: #383838; stroke-width: 1.5;\" width=\"97\" x=\"460.5\" y=\"127\"/><rect fill=\"#F8F8F8\" height=\"37.9375\" rx=\"10\" ry=\"10\" style=\"stroke: #F8F8F8; stroke-width: 1.5;\" width=\"97\" x=\"460.5\" y=\"127\"/><rect fill=\"#F8F8F8\" height=\"10\" style=\"stroke: #F8F8F8; stroke-width: 1.5;\" width=\"97\" x=\"460.5\" y=\"154.9375\"/><rect fill=\"none\" height=\"42.9375\" id=\"E7\" rx=\"10\" ry=\"10\" style=\"stroke: #383838; stroke-width: 1.5;\" width=\"97\" x=\"460.5\" y=\"127\"/><text fill=\"#000000\" font-family=\"sans-serif\" font-size=\"12\" font-style=\"italic\" lengthAdjust=\"spacingAndGlyphs\" textLength=\"69\" x=\"474.5\" y=\"143.1387\">«attribute»</text><text fill=\"#000000\" font-family=\"sans-serif\" font-size=\"12\" lengthAdjust=\"spacingAndGlyphs\" textLength=\"86\" x=\"466\" y=\"157.1074\">m: MassValue</text></a></g><!--MD5=[6389d521c6b240ef2b30bf81ad85646d]\n",
       "@startuml\r\n",
       "skinparam ranksep 8\r\n",
       "skinparam rectangle {\r\n",
       " backgroundColor<<block>> LightGreen\r\n",
       "}\r\n",
       "top to bottom direction\r\n",
       "skinparam monochrome true\r\n",
       "skinparam classbackgroundcolor white\r\n",
       "skinparam shadowing false\r\n",
       "skinparam wrapWidth 300\r\n",
       "hide circle\r\n",
       "\r\n",
       "package \"CalculationExample\" as E1  [[psysml:279b101a-ad7c-43dd-8a07-da5fe5802bed ]]  {\r\n",
       "rec usage \"vehicle\" as E2  [[psysml:3dfd6fc9-2012-44ec-8abc-b458a2efa8ee ]] {\r\n",
       "rec usage \"m: MassValue\" as E3  <<(T,blue)attribute>> [[psysml:14ff17ee-41c8-45bd-b867-b50857ad993c ]] {\r\n",
       "}\r\n",
       "rec usage \"eng\" as E4  [[psysml:6f0477df-1982-4bef-bc4b-f3a5f459ca50 ]] {\r\n",
       "rec usage \"m: MassValue\" as E5  <<(T,blue)attribute>> [[psysml:74b360a2-1898-4ab2-8a14-bf87d0706240 ]] {\r\n",
       "}\r\n",
       "}\r\n",
       "rec usage \"trans\" as E6  [[psysml:39f29039-e97f-4cd7-a6e4-24de87290ff7 ]] {\r\n",
       "rec usage \"m: MassValue\" as E7  <<(T,blue)attribute>> [[psysml:21104dbc-631a-485d-ad70-3d921fae82b5 ]] {\r\n",
       "}\r\n",
       "}\r\n",
       "}\r\n",
       "def \"MassSum\" as E8  <<(T,blue)calculation def>> [[psysml:5c4fc454-9680-413f-bf1a-bdf2f6cc06d5 ]] \r\n",
       "def \"MassSum1\" as E9  <<(T,blue)calculation def>> [[psysml:83ce5d61-6771-4884-a571-d4d08f340672 ]] \r\n",
       "}\r\n",
       "@enduml\r\n",
       "\n",
       "PlantUML version 1.2020.13(Sat Jun 13 12:26:38 UTC 2020)\n",
       "(EPL source distribution)\n",
       "Java Runtime: OpenJDK Runtime Environment\n",
       "JVM: OpenJDK 64-Bit Server VM\n",
       "Default Encoding: UTF-8\n",
       "Language: en\n",
       "Country: null\n",
       "--></g></svg>"
      ]
     },
     "execution_count": 47,
     "metadata": {},
     "output_type": "execute_result"
    }
   ],
   "source": [
    "%viz --style=\"TB\" --view=\"Interconnection\" \"CalculationExample\""
   ]
  },
  {
   "cell_type": "code",
   "execution_count": 48,
   "id": "promotional-spending",
   "metadata": {
    "execution": {
     "iopub.execute_input": "2021-03-26T13:05:08.967908Z",
     "iopub.status.busy": "2021-03-26T13:05:08.967412Z",
     "iopub.status.idle": "2021-03-26T13:05:09.006446Z",
     "shell.execute_reply": "2021-03-26T13:05:09.002252Z"
    }
   },
   "outputs": [
    {
     "data": {
      "image/svg+xml": [
       "<?xml version=\"1.0\" encoding=\"UTF-8\" standalone=\"no\"?><svg xmlns=\"http://www.w3.org/2000/svg\" xmlns:xlink=\"http://www.w3.org/1999/xlink\" contentScriptType=\"application/ecmascript\" contentStyleType=\"text/css\" height=\"162px\" preserveAspectRatio=\"none\" style=\"width:676px;height:162px;\" version=\"1.1\" viewBox=\"0 0 676 162\" width=\"676px\" zoomAndPan=\"magnify\"><defs/><g><!--MD5=[fbc87193dbaf4d95561dea2c320d4a47]\n",
       "cluster E1--><a href=\"psysml:5c4fc454-9680-413f-bf1a-bdf2f6cc06d5\" target=\"_top\" title=\"psysml:5c4fc454-9680-413f-bf1a-bdf2f6cc06d5\" xlink:actuate=\"onRequest\" xlink:href=\"psysml:5c4fc454-9680-413f-bf1a-bdf2f6cc06d5\" xlink:show=\"new\" xlink:title=\"psysml:5c4fc454-9680-413f-bf1a-bdf2f6cc06d5\" xlink:type=\"simple\"><rect fill=\"#FFFFFF\" height=\"87.72\" id=\"E1\" style=\"stroke: #383838; stroke-width: 1.5;\" width=\"128\" x=\"28\" y=\"42.0986\"/><rect fill=\"#F8F8F8\" height=\"37.9375\" style=\"stroke: #383838; stroke-width: 1.5;\" width=\"128\" x=\"28\" y=\"42.0986\"/><text fill=\"#000000\" font-family=\"sans-serif\" font-size=\"12\" font-style=\"italic\" lengthAdjust=\"spacingAndGlyphs\" textLength=\"106\" x=\"39\" y=\"58.2373\">«calculation def»</text><text fill=\"#000000\" font-family=\"sans-serif\" font-size=\"12\" lengthAdjust=\"spacingAndGlyphs\" textLength=\"59\" x=\"62.5\" y=\"72.2061\">MassSum</text></a><!--MD5=[14e3b0961a2654348d326746436168a1]\n",
       "cluster E6--><a href=\"psysml:20e483d0-a5a0-4777-bc7f-caa19ca2a7e0\" target=\"_top\" title=\"psysml:20e483d0-a5a0-4777-bc7f-caa19ca2a7e0\" xlink:actuate=\"onRequest\" xlink:href=\"psysml:20e483d0-a5a0-4777-bc7f-caa19ca2a7e0\" xlink:show=\"new\" xlink:title=\"psysml:20e483d0-a5a0-4777-bc7f-caa19ca2a7e0\" xlink:type=\"simple\"><rect fill=\"#FFFFFF\" height=\"87.72\" id=\"E6\" rx=\"10\" ry=\"10\" style=\"stroke: #383838; stroke-width: 1.5;\" width=\"101\" x=\"251.75\" y=\"42.0986\"/><rect fill=\"#F8F8F8\" height=\"37.9375\" rx=\"10\" ry=\"10\" style=\"stroke: #F8F8F8; stroke-width: 1.5;\" width=\"101\" x=\"251.75\" y=\"42.0986\"/><rect fill=\"#F8F8F8\" height=\"10\" style=\"stroke: #F8F8F8; stroke-width: 1.5;\" width=\"101\" x=\"251.75\" y=\"70.0361\"/><rect fill=\"none\" height=\"87.72\" id=\"E6\" rx=\"10\" ry=\"10\" style=\"stroke: #383838; stroke-width: 1.5;\" width=\"101\" x=\"251.75\" y=\"42.0986\"/><text fill=\"#000000\" font-family=\"sans-serif\" font-size=\"12\" font-style=\"italic\" lengthAdjust=\"spacingAndGlyphs\" textLength=\"82\" x=\"261.25\" y=\"58.2373\">«calculation»</text><text fill=\"#000000\" font-family=\"sans-serif\" font-size=\"12\" lengthAdjust=\"spacingAndGlyphs\" textLength=\"18\" x=\"293.25\" y=\"72.2061\">ms</text><line style=\"stroke: #383838; stroke-width: 1.0;\" x1=\"251.75\" x2=\"352.75\" y1=\"80.0361\" y2=\"80.0361\"/></a><!--MD5=[7f149f147074ac12df2cb0a7728a5fb0]\n",
       "cluster E9--><a href=\"psysml:83ce5d61-6771-4884-a571-d4d08f340672\" target=\"_top\" title=\"psysml:83ce5d61-6771-4884-a571-d4d08f340672\" xlink:actuate=\"onRequest\" xlink:href=\"psysml:83ce5d61-6771-4884-a571-d4d08f340672\" xlink:show=\"new\" xlink:title=\"psysml:83ce5d61-6771-4884-a571-d4d08f340672\" xlink:type=\"simple\"><rect fill=\"#FFFFFF\" height=\"87.72\" id=\"E9\" style=\"stroke: #383838; stroke-width: 1.5;\" width=\"127\" x=\"410.25\" y=\"42.0986\"/><rect fill=\"#F8F8F8\" height=\"37.9375\" style=\"stroke: #383838; stroke-width: 1.5;\" width=\"127\" x=\"410.25\" y=\"42.0986\"/><text fill=\"#000000\" font-family=\"sans-serif\" font-size=\"12\" font-style=\"italic\" lengthAdjust=\"spacingAndGlyphs\" textLength=\"106\" x=\"420.75\" y=\"58.2373\">«calculation def»</text><text fill=\"#000000\" font-family=\"sans-serif\" font-size=\"12\" lengthAdjust=\"spacingAndGlyphs\" textLength=\"67\" x=\"440.25\" y=\"72.2061\">MassSum1</text></a><!--MD5=[47bea60c1a0ac6c1143df232041969c0]\n",
       "cluster E12--><a href=\"psysml:3aa3b647-0159-4a96-9fb7-94bd79c90754\" target=\"_top\" title=\"psysml:3aa3b647-0159-4a96-9fb7-94bd79c90754\" xlink:actuate=\"onRequest\" xlink:href=\"psysml:3aa3b647-0159-4a96-9fb7-94bd79c90754\" xlink:show=\"new\" xlink:title=\"psysml:3aa3b647-0159-4a96-9fb7-94bd79c90754\" xlink:type=\"simple\"><rect fill=\"#FFFFFF\" height=\"87.72\" id=\"E12\" rx=\"10\" ry=\"10\" style=\"stroke: #383838; stroke-width: 1.5;\" width=\"138\" x=\"526\" y=\"42.0986\"/><rect fill=\"#F8F8F8\" height=\"37.9375\" rx=\"10\" ry=\"10\" style=\"stroke: #F8F8F8; stroke-width: 1.5;\" width=\"138\" x=\"526\" y=\"42.0986\"/><rect fill=\"#F8F8F8\" height=\"10\" style=\"stroke: #F8F8F8; stroke-width: 1.5;\" width=\"138\" x=\"526\" y=\"70.0361\"/><rect fill=\"none\" height=\"87.72\" id=\"E12\" rx=\"10\" ry=\"10\" style=\"stroke: #383838; stroke-width: 1.5;\" width=\"138\" x=\"526\" y=\"42.0986\"/><text fill=\"#000000\" font-family=\"sans-serif\" font-size=\"12\" font-style=\"italic\" lengthAdjust=\"spacingAndGlyphs\" textLength=\"82\" x=\"554\" y=\"58.2373\">«calculation»</text><text fill=\"#000000\" font-family=\"sans-serif\" font-size=\"12\" lengthAdjust=\"spacingAndGlyphs\" textLength=\"26\" x=\"582\" y=\"72.2061\">ms1</text><line style=\"stroke: #383838; stroke-width: 1.0;\" x1=\"526\" x2=\"664\" y1=\"80.0361\" y2=\"80.0361\"/></a><text fill=\"#000000\" font-family=\"sans-serif\" font-size=\"14\" lengthAdjust=\"spacingAndGlyphs\" textLength=\"80\" x=\"6\" y=\"20.7969\">partMasses</text><rect fill=\"#383838\" height=\"12\" style=\"stroke: #F8F8F8; stroke-width: 1.5;\" width=\"12\" x=\"40\" y=\"36.0986\"/><text fill=\"#000000\" font-family=\"sans-serif\" font-size=\"14\" lengthAdjust=\"spacingAndGlyphs\" textLength=\"66\" x=\"54\" y=\"148.8138\">totalMass</text><rect fill=\"#383838\" height=\"12\" style=\"stroke: #F8F8F8; stroke-width: 1.5;\" width=\"12\" x=\"81\" y=\"123.8186\"/><text fill=\"#000000\" font-family=\"sans-serif\" font-size=\"14\" lengthAdjust=\"spacingAndGlyphs\" textLength=\"75\" x=\"100.5\" y=\"20.7969\">$collection</text><rect fill=\"#383838\" height=\"12\" style=\"stroke: #F8F8F8; stroke-width: 1.5;\" width=\"12\" x=\"132\" y=\"36.0986\"/><text fill=\"#000000\" font-family=\"sans-serif\" font-size=\"14\" lengthAdjust=\"spacingAndGlyphs\" textLength=\"48\" x=\"110\" y=\"148.8138\">$result</text><rect fill=\"#383838\" height=\"12\" style=\"stroke: #F8F8F8; stroke-width: 1.5;\" width=\"12\" x=\"128\" y=\"123.8186\"/><text fill=\"#000000\" font-family=\"sans-serif\" font-size=\"14\" lengthAdjust=\"spacingAndGlyphs\" textLength=\"80\" x=\"235\" y=\"20.7969\">partMasses</text><rect fill=\"#383838\" height=\"12\" style=\"stroke: #F8F8F8; stroke-width: 1.5;\" width=\"12\" x=\"269\" y=\"36.0986\"/><text fill=\"#000000\" font-family=\"sans-serif\" font-size=\"14\" lengthAdjust=\"spacingAndGlyphs\" textLength=\"66\" x=\"238\" y=\"148.8138\">totalMass</text><rect fill=\"#383838\" height=\"12\" style=\"stroke: #F8F8F8; stroke-width: 1.5;\" width=\"12\" x=\"265\" y=\"123.8186\"/><text fill=\"#000000\" font-family=\"sans-serif\" font-size=\"14\" lengthAdjust=\"spacingAndGlyphs\" textLength=\"80\" x=\"395\" y=\"20.7969\">partMasses</text><rect fill=\"#383838\" height=\"12\" style=\"stroke: #F8F8F8; stroke-width: 1.5;\" width=\"12\" x=\"429\" y=\"36.0986\"/><text fill=\"#000000\" font-family=\"sans-serif\" font-size=\"14\" lengthAdjust=\"spacingAndGlyphs\" textLength=\"66\" x=\"398\" y=\"148.8138\">totalMass</text><rect fill=\"#383838\" height=\"12\" style=\"stroke: #F8F8F8; stroke-width: 1.5;\" width=\"12\" x=\"425\" y=\"123.8186\"/><text fill=\"#000000\" font-family=\"sans-serif\" font-size=\"14\" lengthAdjust=\"spacingAndGlyphs\" textLength=\"80\" x=\"555\" y=\"20.7969\">partMasses</text><rect fill=\"#383838\" height=\"12\" style=\"stroke: #F8F8F8; stroke-width: 1.5;\" width=\"12\" x=\"589\" y=\"36.0986\"/><text fill=\"#000000\" font-family=\"sans-serif\" font-size=\"14\" lengthAdjust=\"spacingAndGlyphs\" textLength=\"66\" x=\"562\" y=\"148.8138\">totalMass</text><rect fill=\"#383838\" height=\"12\" style=\"stroke: #F8F8F8; stroke-width: 1.5;\" width=\"12\" x=\"589\" y=\"123.8186\"/><!--MD5=[c0c02fb646b0962219efb971d4ffa2b3]\n",
       "@startuml\r\n",
       "skinparam ranksep 8\r\n",
       "top to bottom direction\r\n",
       "skinparam monochrome true\r\n",
       "skinparam classbackgroundcolor white\r\n",
       "skinparam shadowing false\r\n",
       "skinparam wrapWidth 300\r\n",
       "hide circle\r\n",
       "\r\n",
       "rec def \"MassSum\" as E1  <<(T,blue)calculation def>> [[psysml:5c4fc454-9680-413f-bf1a-bdf2f6cc06d5 ]] {\r\n",
       "portin \"partMasses\" as E2  [[psysml:57eaefe4-a57c-41fa-a944-033dc3e4df4e ]] \r\n",
       "portout \"totalMass\" as E3  [[psysml:35e88aae-ee13-4c55-bc31-272528607619 ]] \r\n",
       "portin \"$collection\" as E4  [[psysml:0e9b074a-52f0-467d-9ed6-1e247226bb71 ]] \r\n",
       "portout \"$result\" as E5  [[psysml:66242f20-bf9b-4b2d-900e-be3ce4c10d7e ]] \r\n",
       "}\r\n",
       "\r\n",
       "rec usage \"ms\" as E6  <<(T,blue)calculation>> [[psysml:20e483d0-a5a0-4777-bc7f-caa19ca2a7e0 ]] {\r\n",
       "portin \"partMasses\" as E7  [[psysml:61916027-7c4f-412f-9b89-438222569e79 ]] \r\n",
       "portout \"totalMass\" as E8  [[psysml:1b43c6aa-09b4-4e05-b4e4-873331fee78b ]] \r\n",
       "}\r\n",
       "\r\n",
       "rec def \"MassSum1\" as E9  <<(T,blue)calculation def>> [[psysml:83ce5d61-6771-4884-a571-d4d08f340672 ]] {\r\n",
       "portin \"partMasses\" as E10  [[psysml:0924d9a5-fc11-4345-935d-e5ff08c51a6a ]] \r\n",
       "portout \"totalMass\" as E11  [[psysml:b7c67a6a-5db6-4529-b3d9-f9fb47dc5f0c ]] \r\n",
       "}\r\n",
       "\r\n",
       "rec usage \"ms1\" as E12  <<(T,blue)calculation>> [[psysml:3aa3b647-0159-4a96-9fb7-94bd79c90754 ]] {\r\n",
       "portin \"partMasses\" as E13  [[psysml:d0b5b203-3fa8-4960-85f8-af6511da8b47 ]] \r\n",
       "portout \"totalMass\" as E14  [[psysml:7deb5e16-d6a2-4c83-9234-29097012e327 ]] \r\n",
       "}\r\n",
       "\r\n",
       "@enduml\r\n",
       "\n",
       "PlantUML version 1.2020.13(Sat Jun 13 12:26:38 UTC 2020)\n",
       "(EPL source distribution)\n",
       "Java Runtime: OpenJDK Runtime Environment\n",
       "JVM: OpenJDK 64-Bit Server VM\n",
       "Default Encoding: UTF-8\n",
       "Language: en\n",
       "Country: null\n",
       "--></g></svg>"
      ]
     },
     "execution_count": 48,
     "metadata": {},
     "output_type": "execute_result"
    }
   ],
   "source": [
    "%viz --style=\"TB\" --view=\"Action\" \"CalculationExample\""
   ]
  },
  {
   "cell_type": "code",
   "execution_count": 49,
   "id": "funny-valentine",
   "metadata": {
    "execution": {
     "iopub.execute_input": "2021-03-26T13:05:09.057273Z",
     "iopub.status.busy": "2021-03-26T13:05:09.056736Z",
     "iopub.status.idle": "2021-03-26T13:05:09.149047Z",
     "shell.execute_reply": "2021-03-26T13:05:09.147596Z"
    }
   },
   "outputs": [
    {
     "data": {
      "image/svg+xml": [
       "<?xml version=\"1.0\" encoding=\"UTF-8\" standalone=\"no\"?><svg xmlns=\"http://www.w3.org/2000/svg\" xmlns:xlink=\"http://www.w3.org/1999/xlink\" contentScriptType=\"application/ecmascript\" contentStyleType=\"text/css\" height=\"293px\" preserveAspectRatio=\"none\" style=\"width:607px;height:293px;\" version=\"1.1\" viewBox=\"0 0 607 293\" width=\"607px\" zoomAndPan=\"magnify\"><defs/><g><!--MD5=[fbc87193dbaf4d95561dea2c320d4a47]\n",
       "cluster E1--><a href=\"psysml:279b101a-ad7c-43dd-8a07-da5fe5802bed\" target=\"_top\" title=\"psysml:279b101a-ad7c-43dd-8a07-da5fe5802bed\" xlink:actuate=\"onRequest\" xlink:href=\"psysml:279b101a-ad7c-43dd-8a07-da5fe5802bed\" xlink:show=\"new\" xlink:title=\"psysml:279b101a-ad7c-43dd-8a07-da5fe5802bed\" xlink:type=\"simple\"><polygon fill=\"#FFFFFF\" points=\"16,6,173,6,180,28.2969,585,28.2969,585,281,16,281,16,6\" style=\"stroke: #000000; stroke-width: 1.5;\"/><line style=\"stroke: #000000; stroke-width: 1.5;\" x1=\"16\" x2=\"180\" y1=\"28.2969\" y2=\"28.2969\"/><text fill=\"#000000\" font-family=\"sans-serif\" font-size=\"14\" font-weight=\"bold\" lengthAdjust=\"spacingAndGlyphs\" textLength=\"151\" x=\"20\" y=\"20.9951\">CalculationExample</text></a><!--MD5=[b4997ac47864f28c2f74865a473b2911]\n",
       "class E2--><a href=\"psysml:3dfd6fc9-2012-44ec-8abc-b458a2efa8ee\" target=\"_top\" title=\"psysml:3dfd6fc9-2012-44ec-8abc-b458a2efa8ee\" xlink:actuate=\"onRequest\" xlink:href=\"psysml:3dfd6fc9-2012-44ec-8abc-b458a2efa8ee\" xlink:show=\"new\" xlink:title=\"psysml:3dfd6fc9-2012-44ec-8abc-b458a2efa8ee\" xlink:type=\"simple\"><rect fill=\"#FFFFFF\" height=\"75.5469\" id=\"E2\" rx=\"10\" ry=\"10\" style=\"stroke: #383838; stroke-width: 1.5;\" width=\"92\" x=\"477\" y=\"47\"/><text fill=\"#000000\" font-family=\"sans-serif\" font-size=\"12\" font-style=\"italic\" lengthAdjust=\"spacingAndGlyphs\" textLength=\"40\" x=\"503\" y=\"63.1387\">«part»</text><text fill=\"#000000\" font-family=\"sans-serif\" font-size=\"12\" lengthAdjust=\"spacingAndGlyphs\" textLength=\"43\" x=\"501.5\" y=\"77.1074\">vehicle</text><line style=\"stroke: #383838; stroke-width: 1.5;\" x1=\"478\" x2=\"568\" y1=\"84.9375\" y2=\"84.9375\"/><text fill=\"#000000\" font-family=\"sans-serif\" font-size=\"11\" lengthAdjust=\"spacingAndGlyphs\" textLength=\"80\" x=\"483\" y=\"115.9526\">m: MassValue</text><line style=\"stroke: #383838; stroke-width: 1.0;\" x1=\"478\" x2=\"495.5\" y1=\"99.3398\" y2=\"99.3398\"/><text fill=\"#000000\" font-family=\"sans-serif\" font-size=\"11\" lengthAdjust=\"spacingAndGlyphs\" textLength=\"55\" x=\"495.5\" y=\"102.6479\">attributes</text><line style=\"stroke: #383838; stroke-width: 1.0;\" x1=\"550.5\" x2=\"568\" y1=\"99.3398\" y2=\"99.3398\"/></a><!--MD5=[09b614a08d8cba4a07c9adeb5e0fee81]\n",
       "class E3--><a href=\"psysml:6f0477df-1982-4bef-bc4b-f3a5f459ca50\" target=\"_top\" title=\"psysml:6f0477df-1982-4bef-bc4b-f3a5f459ca50\" xlink:actuate=\"onRequest\" xlink:href=\"psysml:6f0477df-1982-4bef-bc4b-f3a5f459ca50\" xlink:show=\"new\" xlink:title=\"psysml:6f0477df-1982-4bef-bc4b-f3a5f459ca50\" xlink:type=\"simple\"><rect fill=\"#FFFFFF\" height=\"75.5469\" id=\"E3\" rx=\"10\" ry=\"10\" style=\"stroke: #383838; stroke-width: 1.5;\" width=\"92\" x=\"350\" y=\"189\"/><text fill=\"#000000\" font-family=\"sans-serif\" font-size=\"12\" font-style=\"italic\" lengthAdjust=\"spacingAndGlyphs\" textLength=\"40\" x=\"376\" y=\"205.1387\">«part»</text><text fill=\"#000000\" font-family=\"sans-serif\" font-size=\"12\" lengthAdjust=\"spacingAndGlyphs\" textLength=\"24\" x=\"384\" y=\"219.1074\">eng</text><line style=\"stroke: #383838; stroke-width: 1.5;\" x1=\"351\" x2=\"441\" y1=\"226.9375\" y2=\"226.9375\"/><text fill=\"#000000\" font-family=\"sans-serif\" font-size=\"11\" lengthAdjust=\"spacingAndGlyphs\" textLength=\"80\" x=\"356\" y=\"257.9526\">m: MassValue</text><line style=\"stroke: #383838; stroke-width: 1.0;\" x1=\"351\" x2=\"368.5\" y1=\"241.3398\" y2=\"241.3398\"/><text fill=\"#000000\" font-family=\"sans-serif\" font-size=\"11\" lengthAdjust=\"spacingAndGlyphs\" textLength=\"55\" x=\"368.5\" y=\"244.6479\">attributes</text><line style=\"stroke: #383838; stroke-width: 1.0;\" x1=\"423.5\" x2=\"441\" y1=\"241.3398\" y2=\"241.3398\"/></a><!--MD5=[ebbe1d658d1005bcc118a6aa81145e00]\n",
       "class E4--><a href=\"psysml:39f29039-e97f-4cd7-a6e4-24de87290ff7\" target=\"_top\" title=\"psysml:39f29039-e97f-4cd7-a6e4-24de87290ff7\" xlink:actuate=\"onRequest\" xlink:href=\"psysml:39f29039-e97f-4cd7-a6e4-24de87290ff7\" xlink:show=\"new\" xlink:title=\"psysml:39f29039-e97f-4cd7-a6e4-24de87290ff7\" xlink:type=\"simple\"><rect fill=\"#FFFFFF\" height=\"75.5469\" id=\"E4\" rx=\"10\" ry=\"10\" style=\"stroke: #383838; stroke-width: 1.5;\" width=\"92\" x=\"477\" y=\"189\"/><text fill=\"#000000\" font-family=\"sans-serif\" font-size=\"12\" font-style=\"italic\" lengthAdjust=\"spacingAndGlyphs\" textLength=\"40\" x=\"503\" y=\"205.1387\">«part»</text><text fill=\"#000000\" font-family=\"sans-serif\" font-size=\"12\" lengthAdjust=\"spacingAndGlyphs\" textLength=\"33\" x=\"506.5\" y=\"219.1074\">trans</text><line style=\"stroke: #383838; stroke-width: 1.5;\" x1=\"478\" x2=\"568\" y1=\"226.9375\" y2=\"226.9375\"/><text fill=\"#000000\" font-family=\"sans-serif\" font-size=\"11\" lengthAdjust=\"spacingAndGlyphs\" textLength=\"80\" x=\"483\" y=\"257.9526\">m: MassValue</text><line style=\"stroke: #383838; stroke-width: 1.0;\" x1=\"478\" x2=\"495.5\" y1=\"241.3398\" y2=\"241.3398\"/><text fill=\"#000000\" font-family=\"sans-serif\" font-size=\"11\" lengthAdjust=\"spacingAndGlyphs\" textLength=\"55\" x=\"495.5\" y=\"244.6479\">attributes</text><line style=\"stroke: #383838; stroke-width: 1.0;\" x1=\"550.5\" x2=\"568\" y1=\"241.3398\" y2=\"241.3398\"/></a><!--MD5=[270fce915f116d4de14055a7c1d9a0f3]\n",
       "class E5--><a href=\"psysml:5c4fc454-9680-413f-bf1a-bdf2f6cc06d5\" target=\"_top\" title=\"psysml:5c4fc454-9680-413f-bf1a-bdf2f6cc06d5\" xlink:actuate=\"onRequest\" xlink:href=\"psysml:5c4fc454-9680-413f-bf1a-bdf2f6cc06d5\" xlink:show=\"new\" xlink:title=\"psysml:5c4fc454-9680-413f-bf1a-bdf2f6cc06d5\" xlink:type=\"simple\"><rect fill=\"#FFFFFF\" height=\"45.9375\" id=\"E5\" style=\"stroke: #383838; stroke-width: 1.5;\" width=\"108\" x=\"120\" y=\"204\"/><text fill=\"#000000\" font-family=\"sans-serif\" font-size=\"12\" font-style=\"italic\" lengthAdjust=\"spacingAndGlyphs\" textLength=\"106\" x=\"121\" y=\"220.1387\">«calculation def»</text><text fill=\"#000000\" font-family=\"sans-serif\" font-size=\"12\" lengthAdjust=\"spacingAndGlyphs\" textLength=\"59\" x=\"144.5\" y=\"234.1074\">MassSum</text><line style=\"stroke: #383838; stroke-width: 1.5;\" x1=\"121\" x2=\"227\" y1=\"241.9375\" y2=\"241.9375\"/></a><!--MD5=[60a26617385b1d2d0262a64233df1f8d]\n",
       "class E6--><a href=\"psysml:20e483d0-a5a0-4777-bc7f-caa19ca2a7e0\" target=\"_top\" title=\"psysml:20e483d0-a5a0-4777-bc7f-caa19ca2a7e0\" xlink:actuate=\"onRequest\" xlink:href=\"psysml:20e483d0-a5a0-4777-bc7f-caa19ca2a7e0\" xlink:show=\"new\" xlink:title=\"psysml:20e483d0-a5a0-4777-bc7f-caa19ca2a7e0\" xlink:type=\"simple\"><rect fill=\"#FFFFFF\" height=\"45.9375\" id=\"E6\" rx=\"10\" ry=\"10\" style=\"stroke: #383838; stroke-width: 1.5;\" width=\"91\" x=\"350.5\" y=\"62\"/><text fill=\"#000000\" font-family=\"sans-serif\" font-size=\"12\" font-style=\"italic\" lengthAdjust=\"spacingAndGlyphs\" textLength=\"82\" x=\"355\" y=\"78.1387\">«calculation»</text><text fill=\"#000000\" font-family=\"sans-serif\" font-size=\"12\" lengthAdjust=\"spacingAndGlyphs\" textLength=\"85\" x=\"353.5\" y=\"92.1074\">ms: MassSum</text><line style=\"stroke: #383838; stroke-width: 1.5;\" x1=\"351.5\" x2=\"440.5\" y1=\"99.9375\" y2=\"99.9375\"/></a><!--MD5=[2156ba9850f5573cc1fc38a6a4b2f02b]\n",
       "class E7--><a href=\"psysml:83ce5d61-6771-4884-a571-d4d08f340672\" target=\"_top\" title=\"psysml:83ce5d61-6771-4884-a571-d4d08f340672\" xlink:actuate=\"onRequest\" xlink:href=\"psysml:83ce5d61-6771-4884-a571-d4d08f340672\" xlink:show=\"new\" xlink:title=\"psysml:83ce5d61-6771-4884-a571-d4d08f340672\" xlink:type=\"simple\"><rect fill=\"#FFFFFF\" height=\"88.3516\" id=\"E7\" style=\"stroke: #383838; stroke-width: 1.5;\" width=\"148\" x=\"167\" y=\"41\"/><text fill=\"#000000\" font-family=\"sans-serif\" font-size=\"12\" font-style=\"italic\" lengthAdjust=\"spacingAndGlyphs\" textLength=\"106\" x=\"188\" y=\"57.1387\">«calculation def»</text><text fill=\"#000000\" font-family=\"sans-serif\" font-size=\"12\" lengthAdjust=\"spacingAndGlyphs\" textLength=\"67\" x=\"207.5\" y=\"71.1074\">MassSum1</text><line style=\"stroke: #383838; stroke-width: 1.5;\" x1=\"168\" x2=\"314\" y1=\"78.9375\" y2=\"78.9375\"/><text fill=\"#000000\" font-family=\"sans-serif\" font-size=\"11\" lengthAdjust=\"spacingAndGlyphs\" textLength=\"136\" x=\"173\" y=\"109.9526\">partMasses: MassValue</text><text fill=\"#000000\" font-family=\"sans-serif\" font-size=\"11\" lengthAdjust=\"spacingAndGlyphs\" textLength=\"124\" x=\"173\" y=\"122.7573\">totalMass: MassValue</text><line style=\"stroke: #383838; stroke-width: 1.0;\" x1=\"168\" x2=\"213.5\" y1=\"93.3398\" y2=\"93.3398\"/><text fill=\"#000000\" font-family=\"sans-serif\" font-size=\"11\" lengthAdjust=\"spacingAndGlyphs\" textLength=\"55\" x=\"213.5\" y=\"96.6479\">attributes</text><line style=\"stroke: #383838; stroke-width: 1.0;\" x1=\"268.5\" x2=\"314\" y1=\"93.3398\" y2=\"93.3398\"/></a><!--MD5=[b9389687b975829384b498ac4b7476b2]\n",
       "class E8--><a href=\"psysml:3aa3b647-0159-4a96-9fb7-94bd79c90754\" target=\"_top\" title=\"psysml:3aa3b647-0159-4a96-9fb7-94bd79c90754\" xlink:actuate=\"onRequest\" xlink:href=\"psysml:3aa3b647-0159-4a96-9fb7-94bd79c90754\" xlink:show=\"new\" xlink:title=\"psysml:3aa3b647-0159-4a96-9fb7-94bd79c90754\" xlink:type=\"simple\"><rect fill=\"#FFFFFF\" height=\"88.3516\" id=\"E8\" rx=\"10\" ry=\"10\" style=\"stroke: #383838; stroke-width: 1.5;\" width=\"99\" x=\"32.5\" y=\"41\"/><text fill=\"#000000\" font-family=\"sans-serif\" font-size=\"12\" font-style=\"italic\" lengthAdjust=\"spacingAndGlyphs\" textLength=\"82\" x=\"41\" y=\"57.1387\">«calculation»</text><text fill=\"#000000\" font-family=\"sans-serif\" font-size=\"12\" lengthAdjust=\"spacingAndGlyphs\" textLength=\"93\" x=\"35.5\" y=\"71.1074\">ms1: MassSum</text><line style=\"stroke: #383838; stroke-width: 1.5;\" x1=\"33.5\" x2=\"130.5\" y1=\"78.9375\" y2=\"78.9375\"/><text fill=\"#000000\" font-family=\"sans-serif\" font-size=\"11\" lengthAdjust=\"spacingAndGlyphs\" textLength=\"67\" x=\"38.5\" y=\"109.9526\">partMasses</text><text fill=\"#000000\" font-family=\"sans-serif\" font-size=\"11\" lengthAdjust=\"spacingAndGlyphs\" textLength=\"55\" x=\"38.5\" y=\"122.7573\">totalMass</text><line style=\"stroke: #383838; stroke-width: 1.0;\" x1=\"33.5\" x2=\"54.5\" y1=\"93.3398\" y2=\"93.3398\"/><text fill=\"#000000\" font-family=\"sans-serif\" font-size=\"11\" lengthAdjust=\"spacingAndGlyphs\" textLength=\"55\" x=\"54.5\" y=\"96.6479\">attributes</text><line style=\"stroke: #383838; stroke-width: 1.0;\" x1=\"109.5\" x2=\"130.5\" y1=\"93.3398\" y2=\"93.3398\"/></a><!--MD5=[209b3feb70ccb6233bfe1053d122c12c]\n",
       "reverse link E2 to E3--><a href=\"psysml:6f0477df-1982-4bef-bc4b-f3a5f459ca50\" target=\"_top\" title=\"psysml:6f0477df-1982-4bef-bc4b-f3a5f459ca50\" xlink:actuate=\"onRequest\" xlink:href=\"psysml:6f0477df-1982-4bef-bc4b-f3a5f459ca50\" xlink:show=\"new\" xlink:title=\"psysml:6f0477df-1982-4bef-bc4b-f3a5f459ca50\" xlink:type=\"simple\"><path d=\"M480.41,132.95 C463.95,151.1 445.38,171.57 429.86,188.68 \" fill=\"none\" id=\"E2&lt;-E3\" style=\"stroke: #383838; stroke-width: 1.0;\"/><polygon fill=\"#383838\" points=\"489.3,123.15,482.3052,124.9031,481.2332,132.0341,488.2279,130.281,489.3,123.15\" style=\"stroke: #383838; stroke-width: 1.0;\"/></a><!--MD5=[9618e71518536f8baf3342ff6fdab317]\n",
       "reverse link E2 to E4--><a href=\"psysml:39f29039-e97f-4cd7-a6e4-24de87290ff7\" target=\"_top\" title=\"psysml:39f29039-e97f-4cd7-a6e4-24de87290ff7\" xlink:actuate=\"onRequest\" xlink:href=\"psysml:39f29039-e97f-4cd7-a6e4-24de87290ff7\" xlink:show=\"new\" xlink:title=\"psysml:39f29039-e97f-4cd7-a6e4-24de87290ff7\" xlink:type=\"simple\"><path d=\"M523,136.25 C523,153.55 523,172.6 523,188.68 \" fill=\"none\" id=\"E2&lt;-E4\" style=\"stroke: #383838; stroke-width: 1.0;\"/><polygon fill=\"#383838\" points=\"523,123.15,519,129.15,523,135.15,527,129.15,523,123.15\" style=\"stroke: #383838; stroke-width: 1.0;\"/></a><!--MD5=[25b190c987b1e74e5126d372c5a73af1]\n",
       "link E6 to E5--><a href=\"psysml:087e1e8b-9f76-403f-b1f3-15ea1e5b2649\" target=\"_top\" title=\"psysml:087e1e8b-9f76-403f-b1f3-15ea1e5b2649\" xlink:actuate=\"onRequest\" xlink:href=\"psysml:087e1e8b-9f76-403f-b1f3-15ea1e5b2649\" xlink:show=\"new\" xlink:title=\"psysml:087e1e8b-9f76-403f-b1f3-15ea1e5b2649\" xlink:type=\"simple\"><path d=\"M364.16,108.19 C354.25,114.98 343.23,122.39 333,129 C298.76,151.11 259.69,174.96 228.85,193.48 \" fill=\"none\" id=\"E6-&gt;E5\" style=\"stroke: #383838; stroke-width: 1.0;\"/><polygon fill=\"#FFFFFF\" points=\"211.28,203.99,223.9864,188.2246,231.1775,200.2365,211.28,203.99\" style=\"stroke: #383838; stroke-width: 1.0;\"/><ellipse cx=\"229.9042\" cy=\"187.0127\" fill=\"#383838\" rx=\"2\" ry=\"2\" style=\"stroke: #383838; stroke-width: 1.0;\"/><ellipse cx=\"235.0408\" cy=\"195.5927\" fill=\"#383838\" rx=\"2\" ry=\"2\" style=\"stroke: #383838; stroke-width: 1.0;\"/></a><!--MD5=[1ccb2481ffa92f8d51a74ee30c51832a]\n",
       "link E8 to E5--><a href=\"psysml:a6dd9655-fa53-42fd-8b92-db635a2ece9b\" target=\"_top\" title=\"psysml:a6dd9655-fa53-42fd-8b92-db635a2ece9b\" xlink:actuate=\"onRequest\" xlink:href=\"psysml:a6dd9655-fa53-42fd-8b92-db635a2ece9b\" xlink:show=\"new\" xlink:title=\"psysml:a6dd9655-fa53-42fd-8b92-db635a2ece9b\" xlink:type=\"simple\"><path d=\"M110.35,129.15 C122.49,147.61 136.55,169.01 148.37,186.99 \" fill=\"none\" id=\"E8-&gt;E5\" style=\"stroke: #383838; stroke-width: 1.0;\"/><polygon fill=\"#FFFFFF\" points=\"159.48,203.91,143.1947,191.8772,154.8939,184.1877,159.48,203.91\" style=\"stroke: #383838; stroke-width: 1.0;\"/><ellipse cx=\"141.7353\" cy=\"186.0155\" fill=\"#383838\" rx=\"2\" ry=\"2\" style=\"stroke: #383838; stroke-width: 1.0;\"/><ellipse cx=\"150.0918\" cy=\"180.523\" fill=\"#383838\" rx=\"2\" ry=\"2\" style=\"stroke: #383838; stroke-width: 1.0;\"/></a><!--MD5=[849b647acb80e84e1f9401e285b8aecd]\n",
       "@startuml\r\n",
       "top to bottom direction\r\n",
       "skinparam monochrome true\r\n",
       "skinparam classbackgroundcolor white\r\n",
       "skinparam shadowing false\r\n",
       "skinparam wrapWidth 300\r\n",
       "hide circle\r\n",
       "\r\n",
       "package \"CalculationExample\" as E1  [[psysml:279b101a-ad7c-43dd-8a07-da5fe5802bed ]]  {\r\n",
       "comp usage \"vehicle\" as E2  <<(T,blue)part>> [[psysml:3dfd6fc9-2012-44ec-8abc-b458a2efa8ee ]] {\r\n",
       "- - attributes - -\r\n",
       "m: MassValue\r\n",
       "}\r\n",
       "comp usage \"eng\" as E3  <<(T,blue)part>> [[psysml:6f0477df-1982-4bef-bc4b-f3a5f459ca50 ]] {\r\n",
       "- - attributes - -\r\n",
       "m: MassValue\r\n",
       "}\r\n",
       "comp usage \"trans\" as E4  <<(T,blue)part>> [[psysml:39f29039-e97f-4cd7-a6e4-24de87290ff7 ]] {\r\n",
       "- - attributes - -\r\n",
       "m: MassValue\r\n",
       "}\r\n",
       "comp def \"MassSum\" as E5  <<(T,blue)calculation def>> [[psysml:5c4fc454-9680-413f-bf1a-bdf2f6cc06d5 ]] {\r\n",
       "}\r\n",
       "comp usage \"ms: MassSum\" as E6  <<(T,blue)calculation>> [[psysml:20e483d0-a5a0-4777-bc7f-caa19ca2a7e0 ]] {\r\n",
       "}\r\n",
       "comp def \"MassSum1\" as E7  <<(T,blue)calculation def>> [[psysml:83ce5d61-6771-4884-a571-d4d08f340672 ]] {\r\n",
       "- - attributes - -\r\n",
       "partMasses: MassValue\r\n",
       "totalMass: MassValue\r\n",
       "}\r\n",
       "comp usage \"ms1: MassSum\" as E8  <<(T,blue)calculation>> [[psysml:3aa3b647-0159-4a96-9fb7-94bd79c90754 ]] {\r\n",
       "- - attributes - -\r\n",
       "partMasses\r\n",
       "totalMass\r\n",
       "}\r\n",
       "E2 *- - E3 [[psysml:6f0477df-1982-4bef-bc4b-f3a5f459ca50 ]] \r\n",
       "E2 *- - E4 [[psysml:39f29039-e97f-4cd7-a6e4-24de87290ff7 ]] \r\n",
       "E6 - -:|> E5 [[psysml:087e1e8b-9f76-403f-b1f3-15ea1e5b2649 ]] \r\n",
       "E8 - -:|> E5 [[psysml:a6dd9655-fa53-42fd-8b92-db635a2ece9b ]] \r\n",
       "}\r\n",
       "@enduml\r\n",
       "\n",
       "PlantUML version 1.2020.13(Sat Jun 13 12:26:38 UTC 2020)\n",
       "(EPL source distribution)\n",
       "Java Runtime: OpenJDK Runtime Environment\n",
       "JVM: OpenJDK 64-Bit Server VM\n",
       "Default Encoding: UTF-8\n",
       "Language: en\n",
       "Country: null\n",
       "--></g></svg>"
      ]
     },
     "execution_count": 49,
     "metadata": {},
     "output_type": "execute_result"
    }
   ],
   "source": [
    "%viz --style=\"TB\" --view=\"Sequence\" \"CalculationExample\""
   ]
  },
  {
   "cell_type": "code",
   "execution_count": 50,
   "id": "lucky-wyoming",
   "metadata": {
    "execution": {
     "iopub.execute_input": "2021-03-26T13:05:09.198542Z",
     "iopub.status.busy": "2021-03-26T13:05:09.198206Z",
     "iopub.status.idle": "2021-03-26T13:05:09.277532Z",
     "shell.execute_reply": "2021-03-26T13:05:09.276191Z"
    }
   },
   "outputs": [
    {
     "data": {
      "image/svg+xml": [
       "<?xml version=\"1.0\" encoding=\"UTF-8\" standalone=\"no\"?><svg xmlns=\"http://www.w3.org/2000/svg\" xmlns:xlink=\"http://www.w3.org/1999/xlink\" contentScriptType=\"application/ecmascript\" contentStyleType=\"text/css\" height=\"441px\" preserveAspectRatio=\"none\" style=\"width:788px;height:441px;\" version=\"1.1\" viewBox=\"0 0 788 441\" width=\"788px\" zoomAndPan=\"magnify\"><defs/><g><!--MD5=[fbc87193dbaf4d95561dea2c320d4a47]\n",
       "cluster E1--><a href=\"psysml:279b101a-ad7c-43dd-8a07-da5fe5802bed\" target=\"_top\" title=\"psysml:279b101a-ad7c-43dd-8a07-da5fe5802bed\" xlink:actuate=\"onRequest\" xlink:href=\"psysml:279b101a-ad7c-43dd-8a07-da5fe5802bed\" xlink:show=\"new\" xlink:title=\"psysml:279b101a-ad7c-43dd-8a07-da5fe5802bed\" xlink:type=\"simple\"><polygon fill=\"#FFFFFF\" points=\"16,6,173,6,180,28.2969,766,28.2969,766,429.72,16,429.72,16,6\" style=\"stroke: #000000; stroke-width: 1.5;\"/><line style=\"stroke: #000000; stroke-width: 1.5;\" x1=\"16\" x2=\"180\" y1=\"28.2969\" y2=\"28.2969\"/><text fill=\"#000000\" font-family=\"sans-serif\" font-size=\"14\" font-weight=\"bold\" lengthAdjust=\"spacingAndGlyphs\" textLength=\"151\" x=\"20\" y=\"20.9951\">CalculationExample</text></a><!--MD5=[de5ec2e2e8f62f467e546659f5068c88]\n",
       "cluster E5--><a href=\"psysml:5c4fc454-9680-413f-bf1a-bdf2f6cc06d5\" target=\"_top\" title=\"psysml:5c4fc454-9680-413f-bf1a-bdf2f6cc06d5\" xlink:actuate=\"onRequest\" xlink:href=\"psysml:5c4fc454-9680-413f-bf1a-bdf2f6cc06d5\" xlink:show=\"new\" xlink:title=\"psysml:5c4fc454-9680-413f-bf1a-bdf2f6cc06d5\" xlink:type=\"simple\"><rect fill=\"#FFFFFF\" height=\"306.72\" id=\"E5\" style=\"stroke: #383838; stroke-width: 1.5;\" width=\"128\" x=\"155\" y=\"85\"/><rect fill=\"#F8F8F8\" height=\"37.9375\" style=\"stroke: #383838; stroke-width: 1.5;\" width=\"128\" x=\"155\" y=\"85\"/><text fill=\"#000000\" font-family=\"sans-serif\" font-size=\"12\" font-style=\"italic\" lengthAdjust=\"spacingAndGlyphs\" textLength=\"106\" x=\"166\" y=\"101.1387\">«calculation def»</text><text fill=\"#000000\" font-family=\"sans-serif\" font-size=\"12\" lengthAdjust=\"spacingAndGlyphs\" textLength=\"59\" x=\"189.5\" y=\"115.1074\">MassSum</text></a><!--MD5=[917b9dd0c7eca3ee5f47219d1a84c0ad]\n",
       "cluster E11--><a href=\"psysml:83ce5d61-6771-4884-a571-d4d08f340672\" target=\"_top\" title=\"psysml:83ce5d61-6771-4884-a571-d4d08f340672\" xlink:actuate=\"onRequest\" xlink:href=\"psysml:83ce5d61-6771-4884-a571-d4d08f340672\" xlink:show=\"new\" xlink:title=\"psysml:83ce5d61-6771-4884-a571-d4d08f340672\" xlink:type=\"simple\"><rect fill=\"#FFFFFF\" height=\"306.72\" id=\"E11\" style=\"stroke: #383838; stroke-width: 1.5;\" width=\"166\" x=\"584\" y=\"85\"/><rect fill=\"#F8F8F8\" height=\"37.9375\" style=\"stroke: #383838; stroke-width: 1.5;\" width=\"166\" x=\"584\" y=\"85\"/><text fill=\"#000000\" font-family=\"sans-serif\" font-size=\"12\" font-style=\"italic\" lengthAdjust=\"spacingAndGlyphs\" textLength=\"106\" x=\"614\" y=\"101.1387\">«calculation def»</text><text fill=\"#000000\" font-family=\"sans-serif\" font-size=\"12\" lengthAdjust=\"spacingAndGlyphs\" textLength=\"67\" x=\"633.5\" y=\"115.1074\">MassSum1</text></a><!--MD5=[b4997ac47864f28c2f74865a473b2911]\n",
       "class E2--><a href=\"psysml:3dfd6fc9-2012-44ec-8abc-b458a2efa8ee\" target=\"_top\" title=\"psysml:3dfd6fc9-2012-44ec-8abc-b458a2efa8ee\" xlink:actuate=\"onRequest\" xlink:href=\"psysml:3dfd6fc9-2012-44ec-8abc-b458a2efa8ee\" xlink:show=\"new\" xlink:title=\"psysml:3dfd6fc9-2012-44ec-8abc-b458a2efa8ee\" xlink:type=\"simple\"><rect fill=\"#FFFFFF\" height=\"75.5469\" id=\"E2\" rx=\"10\" ry=\"10\" style=\"stroke: #383838; stroke-width: 1.5;\" width=\"92\" x=\"473\" y=\"47\"/><text fill=\"#000000\" font-family=\"sans-serif\" font-size=\"12\" font-style=\"italic\" lengthAdjust=\"spacingAndGlyphs\" textLength=\"40\" x=\"499\" y=\"63.1387\">«part»</text><text fill=\"#000000\" font-family=\"sans-serif\" font-size=\"12\" lengthAdjust=\"spacingAndGlyphs\" textLength=\"43\" x=\"497.5\" y=\"77.1074\">vehicle</text><line style=\"stroke: #383838; stroke-width: 1.5;\" x1=\"474\" x2=\"564\" y1=\"84.9375\" y2=\"84.9375\"/><text fill=\"#000000\" font-family=\"sans-serif\" font-size=\"11\" lengthAdjust=\"spacingAndGlyphs\" textLength=\"80\" x=\"479\" y=\"115.9526\">m: MassValue</text><line style=\"stroke: #383838; stroke-width: 1.0;\" x1=\"474\" x2=\"491.5\" y1=\"99.3398\" y2=\"99.3398\"/><text fill=\"#000000\" font-family=\"sans-serif\" font-size=\"11\" lengthAdjust=\"spacingAndGlyphs\" textLength=\"55\" x=\"491.5\" y=\"102.6479\">attributes</text><line style=\"stroke: #383838; stroke-width: 1.0;\" x1=\"546.5\" x2=\"564\" y1=\"99.3398\" y2=\"99.3398\"/></a><!--MD5=[09b614a08d8cba4a07c9adeb5e0fee81]\n",
       "class E3--><a href=\"psysml:6f0477df-1982-4bef-bc4b-f3a5f459ca50\" target=\"_top\" title=\"psysml:6f0477df-1982-4bef-bc4b-f3a5f459ca50\" xlink:actuate=\"onRequest\" xlink:href=\"psysml:6f0477df-1982-4bef-bc4b-f3a5f459ca50\" xlink:show=\"new\" xlink:title=\"psysml:6f0477df-1982-4bef-bc4b-f3a5f459ca50\" xlink:type=\"simple\"><rect fill=\"#FFFFFF\" height=\"75.5469\" id=\"E3\" rx=\"10\" ry=\"10\" style=\"stroke: #383838; stroke-width: 1.5;\" width=\"92\" x=\"346\" y=\"189\"/><text fill=\"#000000\" font-family=\"sans-serif\" font-size=\"12\" font-style=\"italic\" lengthAdjust=\"spacingAndGlyphs\" textLength=\"40\" x=\"372\" y=\"205.1387\">«part»</text><text fill=\"#000000\" font-family=\"sans-serif\" font-size=\"12\" lengthAdjust=\"spacingAndGlyphs\" textLength=\"24\" x=\"380\" y=\"219.1074\">eng</text><line style=\"stroke: #383838; stroke-width: 1.5;\" x1=\"347\" x2=\"437\" y1=\"226.9375\" y2=\"226.9375\"/><text fill=\"#000000\" font-family=\"sans-serif\" font-size=\"11\" lengthAdjust=\"spacingAndGlyphs\" textLength=\"80\" x=\"352\" y=\"257.9526\">m: MassValue</text><line style=\"stroke: #383838; stroke-width: 1.0;\" x1=\"347\" x2=\"364.5\" y1=\"241.3398\" y2=\"241.3398\"/><text fill=\"#000000\" font-family=\"sans-serif\" font-size=\"11\" lengthAdjust=\"spacingAndGlyphs\" textLength=\"55\" x=\"364.5\" y=\"244.6479\">attributes</text><line style=\"stroke: #383838; stroke-width: 1.0;\" x1=\"419.5\" x2=\"437\" y1=\"241.3398\" y2=\"241.3398\"/></a><!--MD5=[ebbe1d658d1005bcc118a6aa81145e00]\n",
       "class E4--><a href=\"psysml:39f29039-e97f-4cd7-a6e4-24de87290ff7\" target=\"_top\" title=\"psysml:39f29039-e97f-4cd7-a6e4-24de87290ff7\" xlink:actuate=\"onRequest\" xlink:href=\"psysml:39f29039-e97f-4cd7-a6e4-24de87290ff7\" xlink:show=\"new\" xlink:title=\"psysml:39f29039-e97f-4cd7-a6e4-24de87290ff7\" xlink:type=\"simple\"><rect fill=\"#FFFFFF\" height=\"75.5469\" id=\"E4\" rx=\"10\" ry=\"10\" style=\"stroke: #383838; stroke-width: 1.5;\" width=\"92\" x=\"473\" y=\"189\"/><text fill=\"#000000\" font-family=\"sans-serif\" font-size=\"12\" font-style=\"italic\" lengthAdjust=\"spacingAndGlyphs\" textLength=\"40\" x=\"499\" y=\"205.1387\">«part»</text><text fill=\"#000000\" font-family=\"sans-serif\" font-size=\"12\" lengthAdjust=\"spacingAndGlyphs\" textLength=\"33\" x=\"502.5\" y=\"219.1074\">trans</text><line style=\"stroke: #383838; stroke-width: 1.5;\" x1=\"474\" x2=\"564\" y1=\"226.9375\" y2=\"226.9375\"/><text fill=\"#000000\" font-family=\"sans-serif\" font-size=\"11\" lengthAdjust=\"spacingAndGlyphs\" textLength=\"80\" x=\"479\" y=\"257.9526\">m: MassValue</text><line style=\"stroke: #383838; stroke-width: 1.0;\" x1=\"474\" x2=\"491.5\" y1=\"241.3398\" y2=\"241.3398\"/><text fill=\"#000000\" font-family=\"sans-serif\" font-size=\"11\" lengthAdjust=\"spacingAndGlyphs\" textLength=\"55\" x=\"491.5\" y=\"244.6479\">attributes</text><line style=\"stroke: #383838; stroke-width: 1.0;\" x1=\"546.5\" x2=\"564\" y1=\"241.3398\" y2=\"241.3398\"/></a><!--MD5=[96f4274e9e20536e775497830990834d]\n",
       "class E10--><a href=\"psysml:20e483d0-a5a0-4777-bc7f-caa19ca2a7e0\" target=\"_top\" title=\"psysml:20e483d0-a5a0-4777-bc7f-caa19ca2a7e0\" xlink:actuate=\"onRequest\" xlink:href=\"psysml:20e483d0-a5a0-4777-bc7f-caa19ca2a7e0\" xlink:show=\"new\" xlink:title=\"psysml:20e483d0-a5a0-4777-bc7f-caa19ca2a7e0\" xlink:type=\"simple\"><rect fill=\"#FFFFFF\" height=\"45.9375\" id=\"E10\" rx=\"10\" ry=\"10\" style=\"stroke: #383838; stroke-width: 1.5;\" width=\"91\" x=\"346.5\" y=\"62\"/><text fill=\"#000000\" font-family=\"sans-serif\" font-size=\"12\" font-style=\"italic\" lengthAdjust=\"spacingAndGlyphs\" textLength=\"82\" x=\"351\" y=\"78.1387\">«calculation»</text><text fill=\"#000000\" font-family=\"sans-serif\" font-size=\"12\" lengthAdjust=\"spacingAndGlyphs\" textLength=\"85\" x=\"349.5\" y=\"92.1074\">ms: MassSum</text><line style=\"stroke: #383838; stroke-width: 1.5;\" x1=\"347.5\" x2=\"436.5\" y1=\"99.9375\" y2=\"99.9375\"/></a><!--MD5=[bee11217b2f71d958a27249dc326068c]\n",
       "class E14--><a href=\"psysml:3aa3b647-0159-4a96-9fb7-94bd79c90754\" target=\"_top\" title=\"psysml:3aa3b647-0159-4a96-9fb7-94bd79c90754\" xlink:actuate=\"onRequest\" xlink:href=\"psysml:3aa3b647-0159-4a96-9fb7-94bd79c90754\" xlink:show=\"new\" xlink:title=\"psysml:3aa3b647-0159-4a96-9fb7-94bd79c90754\" xlink:type=\"simple\"><rect fill=\"#FFFFFF\" height=\"88.3516\" id=\"E14\" rx=\"10\" ry=\"10\" style=\"stroke: #383838; stroke-width: 1.5;\" width=\"99\" x=\"32.5\" y=\"41\"/><text fill=\"#000000\" font-family=\"sans-serif\" font-size=\"12\" font-style=\"italic\" lengthAdjust=\"spacingAndGlyphs\" textLength=\"82\" x=\"41\" y=\"57.1387\">«calculation»</text><text fill=\"#000000\" font-family=\"sans-serif\" font-size=\"12\" lengthAdjust=\"spacingAndGlyphs\" textLength=\"93\" x=\"35.5\" y=\"71.1074\">ms1: MassSum</text><line style=\"stroke: #383838; stroke-width: 1.5;\" x1=\"33.5\" x2=\"130.5\" y1=\"78.9375\" y2=\"78.9375\"/><text fill=\"#000000\" font-family=\"sans-serif\" font-size=\"11\" lengthAdjust=\"spacingAndGlyphs\" textLength=\"67\" x=\"38.5\" y=\"109.9526\">partMasses</text><text fill=\"#000000\" font-family=\"sans-serif\" font-size=\"11\" lengthAdjust=\"spacingAndGlyphs\" textLength=\"55\" x=\"38.5\" y=\"122.7573\">totalMass</text><line style=\"stroke: #383838; stroke-width: 1.0;\" x1=\"33.5\" x2=\"54.5\" y1=\"93.3398\" y2=\"93.3398\"/><text fill=\"#000000\" font-family=\"sans-serif\" font-size=\"11\" lengthAdjust=\"spacingAndGlyphs\" textLength=\"55\" x=\"54.5\" y=\"96.6479\">attributes</text><line style=\"stroke: #383838; stroke-width: 1.0;\" x1=\"109.5\" x2=\"130.5\" y1=\"93.3398\" y2=\"93.3398\"/></a><text fill=\"#000000\" font-family=\"sans-serif\" font-size=\"14\" lengthAdjust=\"spacingAndGlyphs\" textLength=\"80\" x=\"133\" y=\"63.6982\">partMasses</text><rect fill=\"#383838\" height=\"12\" style=\"stroke: #F8F8F8; stroke-width: 1.5;\" width=\"12\" x=\"167\" y=\"79\"/><text fill=\"#000000\" font-family=\"sans-serif\" font-size=\"14\" lengthAdjust=\"spacingAndGlyphs\" textLength=\"66\" x=\"177\" y=\"410.7151\">totalMass</text><rect fill=\"#383838\" height=\"12\" style=\"stroke: #F8F8F8; stroke-width: 1.5;\" width=\"12\" x=\"204\" y=\"385.72\"/><text fill=\"#000000\" font-family=\"sans-serif\" font-size=\"14\" lengthAdjust=\"spacingAndGlyphs\" textLength=\"75\" x=\"227.5\" y=\"63.6982\">$collection</text><rect fill=\"#383838\" height=\"12\" style=\"stroke: #F8F8F8; stroke-width: 1.5;\" width=\"12\" x=\"259\" y=\"79\"/><text fill=\"#000000\" font-family=\"sans-serif\" font-size=\"14\" lengthAdjust=\"spacingAndGlyphs\" textLength=\"48\" x=\"233\" y=\"410.7151\">$result</text><rect fill=\"#383838\" height=\"12\" style=\"stroke: #F8F8F8; stroke-width: 1.5;\" width=\"12\" x=\"251\" y=\"385.72\"/><text fill=\"#000000\" font-family=\"sans-serif\" font-size=\"14\" lengthAdjust=\"spacingAndGlyphs\" textLength=\"80\" x=\"627\" y=\"63.6982\">partMasses</text><rect fill=\"#383838\" height=\"12\" style=\"stroke: #F8F8F8; stroke-width: 1.5;\" width=\"12\" x=\"661\" y=\"79\"/><text fill=\"#000000\" font-family=\"sans-serif\" font-size=\"14\" lengthAdjust=\"spacingAndGlyphs\" textLength=\"66\" x=\"634\" y=\"410.7151\">totalMass</text><rect fill=\"#383838\" height=\"12\" style=\"stroke: #F8F8F8; stroke-width: 1.5;\" width=\"12\" x=\"661\" y=\"385.72\"/><!--MD5=[209b3feb70ccb6233bfe1053d122c12c]\n",
       "reverse link E2 to E3--><a href=\"psysml:6f0477df-1982-4bef-bc4b-f3a5f459ca50\" target=\"_top\" title=\"psysml:6f0477df-1982-4bef-bc4b-f3a5f459ca50\" xlink:actuate=\"onRequest\" xlink:href=\"psysml:6f0477df-1982-4bef-bc4b-f3a5f459ca50\" xlink:show=\"new\" xlink:title=\"psysml:6f0477df-1982-4bef-bc4b-f3a5f459ca50\" xlink:type=\"simple\"><path d=\"M476.41,132.95 C459.95,151.1 441.38,171.57 425.86,188.68 \" fill=\"none\" id=\"E2&lt;-E3\" style=\"stroke: #383838; stroke-width: 1.0;\"/><polygon fill=\"#383838\" points=\"485.3,123.15,478.3052,124.9031,477.2332,132.0341,484.2279,130.281,485.3,123.15\" style=\"stroke: #383838; stroke-width: 1.0;\"/></a><!--MD5=[9618e71518536f8baf3342ff6fdab317]\n",
       "reverse link E2 to E4--><a href=\"psysml:39f29039-e97f-4cd7-a6e4-24de87290ff7\" target=\"_top\" title=\"psysml:39f29039-e97f-4cd7-a6e4-24de87290ff7\" xlink:actuate=\"onRequest\" xlink:href=\"psysml:39f29039-e97f-4cd7-a6e4-24de87290ff7\" xlink:show=\"new\" xlink:title=\"psysml:39f29039-e97f-4cd7-a6e4-24de87290ff7\" xlink:type=\"simple\"><path d=\"M519,136.25 C519,153.55 519,172.6 519,188.68 \" fill=\"none\" id=\"E2&lt;-E4\" style=\"stroke: #383838; stroke-width: 1.0;\"/><polygon fill=\"#383838\" points=\"519,123.15,515,129.15,519,135.15,523,129.15,519,123.15\" style=\"stroke: #383838; stroke-width: 1.0;\"/></a><!--MD5=[ec5e0a54482b142abcecfe541d624bff]\n",
       "link E10 to E5--><a href=\"psysml:087e1e8b-9f76-403f-b1f3-15ea1e5b2649\" target=\"_top\" title=\"psysml:087e1e8b-9f76-403f-b1f3-15ea1e5b2649\" xlink:actuate=\"onRequest\" xlink:href=\"psysml:087e1e8b-9f76-403f-b1f3-15ea1e5b2649\" xlink:show=\"new\" xlink:title=\"psysml:087e1e8b-9f76-403f-b1f3-15ea1e5b2649\" xlink:type=\"simple\"><path d=\"M367.76,108.18 C352.425,122.215 331.7225,141.16 311.4063,159.75 C306.3272,164.3975 301.2723,169.0228 296.3314,173.5437 C293.8609,175.8041 291.419,178.0384 289.0168,180.2363 C287.8157,181.3353 286.6246,182.4252 285.4448,183.5046 C284.8549,184.0444 284.2678,184.5815 283.6837,185.1159 C283.5377,185.2495 283.3919,185.3829 283.2463,185.5162 \" fill=\"none\" id=\"E10-&gt;E5\" style=\"stroke: #383838; stroke-width: 1.0;\"/><polygon fill=\"#FFFFFF\" points=\"283.2463,185.5162,292.5389,167.526,301.9894,177.855,283.2463,185.5162\" style=\"stroke: #383838; stroke-width: 1.0;\"/><ellipse cx=\"298.0944\" cy=\"165.1539\" fill=\"#383838\" rx=\"2\" ry=\"2\" style=\"stroke: #383838; stroke-width: 1.0;\"/><ellipse cx=\"304.8447\" cy=\"172.5317\" fill=\"#383838\" rx=\"2\" ry=\"2\" style=\"stroke: #383838; stroke-width: 1.0;\"/></a><!--MD5=[111e5536516ee1ad7d4266f589654f03]\n",
       "link E14 to E5--><a href=\"psysml:a6dd9655-fa53-42fd-8b92-db635a2ece9b\" target=\"_top\" title=\"psysml:a6dd9655-fa53-42fd-8b92-db635a2ece9b\" xlink:actuate=\"onRequest\" xlink:href=\"psysml:a6dd9655-fa53-42fd-8b92-db635a2ece9b\" xlink:show=\"new\" xlink:title=\"psysml:a6dd9655-fa53-42fd-8b92-db635a2ece9b\" xlink:type=\"simple\"><path d=\"M130.39,129.15 C138.0025,135.9375 146.0606,143.1225 154.2098,150.3889 C154.4645,150.616 154.7193,150.8431 154.9741,151.0704 \" fill=\"none\" id=\"E14-&gt;E5\" style=\"stroke: #383838; stroke-width: 1.0;\"/><polygon fill=\"#FFFFFF\" points=\"154.9741,151.0704,136.1343,143.6501,145.4516,133.2008,154.9741,151.0704\" style=\"stroke: #383838; stroke-width: 1.0;\"/><ellipse cx=\"133.211\" cy=\"138.3638\" fill=\"#383838\" rx=\"2\" ry=\"2\" style=\"stroke: #383838; stroke-width: 1.0;\"/><ellipse cx=\"139.8662\" cy=\"130.9001\" fill=\"#383838\" rx=\"2\" ry=\"2\" style=\"stroke: #383838; stroke-width: 1.0;\"/></a><!--MD5=[4016293304a9471856937780cd7520b9]\n",
       "@startuml\r\n",
       "top to bottom direction\r\n",
       "skinparam monochrome true\r\n",
       "skinparam classbackgroundcolor white\r\n",
       "skinparam shadowing false\r\n",
       "skinparam wrapWidth 300\r\n",
       "hide circle\r\n",
       "\r\n",
       "package \"CalculationExample\" as E1  [[psysml:279b101a-ad7c-43dd-8a07-da5fe5802bed ]]  {\r\n",
       "comp usage \"vehicle\" as E2  <<(T,blue)part>> [[psysml:3dfd6fc9-2012-44ec-8abc-b458a2efa8ee ]] {\r\n",
       "- - attributes - -\r\n",
       "m: MassValue\r\n",
       "}\r\n",
       "comp usage \"eng\" as E3  <<(T,blue)part>> [[psysml:6f0477df-1982-4bef-bc4b-f3a5f459ca50 ]] {\r\n",
       "- - attributes - -\r\n",
       "m: MassValue\r\n",
       "}\r\n",
       "comp usage \"trans\" as E4  <<(T,blue)part>> [[psysml:39f29039-e97f-4cd7-a6e4-24de87290ff7 ]] {\r\n",
       "- - attributes - -\r\n",
       "m: MassValue\r\n",
       "}\r\n",
       "rec def \"MassSum\" as E5  <<(T,blue)calculation def>> [[psysml:5c4fc454-9680-413f-bf1a-bdf2f6cc06d5 ]] {\r\n",
       "portin \"partMasses\" as E6  [[psysml:57eaefe4-a57c-41fa-a944-033dc3e4df4e ]] \r\n",
       "portout \"totalMass\" as E7  [[psysml:35e88aae-ee13-4c55-bc31-272528607619 ]] \r\n",
       "portin \"$collection\" as E8  [[psysml:0e9b074a-52f0-467d-9ed6-1e247226bb71 ]] \r\n",
       "portout \"$result\" as E9  [[psysml:66242f20-bf9b-4b2d-900e-be3ce4c10d7e ]] \r\n",
       "}\r\n",
       "\r\n",
       "comp usage \"ms: MassSum\" as E10  <<(T,blue)calculation>> [[psysml:20e483d0-a5a0-4777-bc7f-caa19ca2a7e0 ]] {\r\n",
       "}\r\n",
       "rec def \"MassSum1\" as E11  <<(T,blue)calculation def>> [[psysml:83ce5d61-6771-4884-a571-d4d08f340672 ]] {\r\n",
       "portin \"partMasses\" as E12  [[psysml:0924d9a5-fc11-4345-935d-e5ff08c51a6a ]] \r\n",
       "portout \"totalMass\" as E13  [[psysml:b7c67a6a-5db6-4529-b3d9-f9fb47dc5f0c ]] \r\n",
       "}\r\n",
       "\r\n",
       "comp usage \"ms1: MassSum\" as E14  <<(T,blue)calculation>> [[psysml:3aa3b647-0159-4a96-9fb7-94bd79c90754 ]] {\r\n",
       "- - attributes - -\r\n",
       "partMasses\r\n",
       "totalMass\r\n",
       "}\r\n",
       "E2 *- - E3 [[psysml:6f0477df-1982-4bef-bc4b-f3a5f459ca50 ]] \r\n",
       "E2 *- - E4 [[psysml:39f29039-e97f-4cd7-a6e4-24de87290ff7 ]] \r\n",
       "E10 - -:|> E5 [[psysml:087e1e8b-9f76-403f-b1f3-15ea1e5b2649 ]] \r\n",
       "E14 - -:|> E5 [[psysml:a6dd9655-fa53-42fd-8b92-db635a2ece9b ]] \r\n",
       "}\r\n",
       "@enduml\r\n",
       "\n",
       "PlantUML version 1.2020.13(Sat Jun 13 12:26:38 UTC 2020)\n",
       "(EPL source distribution)\n",
       "Java Runtime: OpenJDK Runtime Environment\n",
       "JVM: OpenJDK 64-Bit Server VM\n",
       "Default Encoding: UTF-8\n",
       "Language: en\n",
       "Country: null\n",
       "--></g></svg>"
      ]
     },
     "execution_count": 50,
     "metadata": {},
     "output_type": "execute_result"
    }
   ],
   "source": [
    "%viz --style=\"TB\" --view=\"MIXED\" \"CalculationExample\""
   ]
  },
  {
   "cell_type": "code",
   "execution_count": 51,
   "id": "optical-moral",
   "metadata": {
    "execution": {
     "iopub.execute_input": "2021-03-26T13:05:09.327642Z",
     "iopub.status.busy": "2021-03-26T13:05:09.327263Z",
     "iopub.status.idle": "2021-03-26T13:05:09.399341Z",
     "shell.execute_reply": "2021-03-26T13:05:09.397943Z"
    }
   },
   "outputs": [
    {
     "data": {
      "image/svg+xml": [
       "<?xml version=\"1.0\" encoding=\"UTF-8\" standalone=\"no\"?><svg xmlns=\"http://www.w3.org/2000/svg\" xmlns:xlink=\"http://www.w3.org/1999/xlink\" contentScriptType=\"application/ecmascript\" contentStyleType=\"text/css\" height=\"441px\" preserveAspectRatio=\"none\" style=\"width:788px;height:441px;\" version=\"1.1\" viewBox=\"0 0 788 441\" width=\"788px\" zoomAndPan=\"magnify\"><defs/><g><!--MD5=[fbc87193dbaf4d95561dea2c320d4a47]\n",
       "cluster E1--><a href=\"psysml:279b101a-ad7c-43dd-8a07-da5fe5802bed\" target=\"_top\" title=\"psysml:279b101a-ad7c-43dd-8a07-da5fe5802bed\" xlink:actuate=\"onRequest\" xlink:href=\"psysml:279b101a-ad7c-43dd-8a07-da5fe5802bed\" xlink:show=\"new\" xlink:title=\"psysml:279b101a-ad7c-43dd-8a07-da5fe5802bed\" xlink:type=\"simple\"><polygon fill=\"#FFFFFF\" points=\"16,6,173,6,180,28.2969,766,28.2969,766,429.72,16,429.72,16,6\" style=\"stroke: #000000; stroke-width: 1.5;\"/><line style=\"stroke: #000000; stroke-width: 1.5;\" x1=\"16\" x2=\"180\" y1=\"28.2969\" y2=\"28.2969\"/><text fill=\"#000000\" font-family=\"sans-serif\" font-size=\"14\" font-weight=\"bold\" lengthAdjust=\"spacingAndGlyphs\" textLength=\"151\" x=\"20\" y=\"20.9951\">CalculationExample</text></a><!--MD5=[de5ec2e2e8f62f467e546659f5068c88]\n",
       "cluster E5--><a href=\"psysml:5c4fc454-9680-413f-bf1a-bdf2f6cc06d5\" target=\"_top\" title=\"psysml:5c4fc454-9680-413f-bf1a-bdf2f6cc06d5\" xlink:actuate=\"onRequest\" xlink:href=\"psysml:5c4fc454-9680-413f-bf1a-bdf2f6cc06d5\" xlink:show=\"new\" xlink:title=\"psysml:5c4fc454-9680-413f-bf1a-bdf2f6cc06d5\" xlink:type=\"simple\"><rect fill=\"#FFFFFF\" height=\"306.72\" id=\"E5\" style=\"stroke: #383838; stroke-width: 1.5;\" width=\"128\" x=\"155\" y=\"85\"/><rect fill=\"#F8F8F8\" height=\"37.9375\" style=\"stroke: #383838; stroke-width: 1.5;\" width=\"128\" x=\"155\" y=\"85\"/><text fill=\"#000000\" font-family=\"sans-serif\" font-size=\"12\" font-style=\"italic\" lengthAdjust=\"spacingAndGlyphs\" textLength=\"106\" x=\"166\" y=\"101.1387\">«calculation def»</text><text fill=\"#000000\" font-family=\"sans-serif\" font-size=\"12\" lengthAdjust=\"spacingAndGlyphs\" textLength=\"59\" x=\"189.5\" y=\"115.1074\">MassSum</text></a><!--MD5=[917b9dd0c7eca3ee5f47219d1a84c0ad]\n",
       "cluster E11--><a href=\"psysml:83ce5d61-6771-4884-a571-d4d08f340672\" target=\"_top\" title=\"psysml:83ce5d61-6771-4884-a571-d4d08f340672\" xlink:actuate=\"onRequest\" xlink:href=\"psysml:83ce5d61-6771-4884-a571-d4d08f340672\" xlink:show=\"new\" xlink:title=\"psysml:83ce5d61-6771-4884-a571-d4d08f340672\" xlink:type=\"simple\"><rect fill=\"#FFFFFF\" height=\"306.72\" id=\"E11\" style=\"stroke: #383838; stroke-width: 1.5;\" width=\"166\" x=\"584\" y=\"85\"/><rect fill=\"#F8F8F8\" height=\"37.9375\" style=\"stroke: #383838; stroke-width: 1.5;\" width=\"166\" x=\"584\" y=\"85\"/><text fill=\"#000000\" font-family=\"sans-serif\" font-size=\"12\" font-style=\"italic\" lengthAdjust=\"spacingAndGlyphs\" textLength=\"106\" x=\"614\" y=\"101.1387\">«calculation def»</text><text fill=\"#000000\" font-family=\"sans-serif\" font-size=\"12\" lengthAdjust=\"spacingAndGlyphs\" textLength=\"67\" x=\"633.5\" y=\"115.1074\">MassSum1</text></a><!--MD5=[b4997ac47864f28c2f74865a473b2911]\n",
       "class E2--><a href=\"psysml:3dfd6fc9-2012-44ec-8abc-b458a2efa8ee\" target=\"_top\" title=\"psysml:3dfd6fc9-2012-44ec-8abc-b458a2efa8ee\" xlink:actuate=\"onRequest\" xlink:href=\"psysml:3dfd6fc9-2012-44ec-8abc-b458a2efa8ee\" xlink:show=\"new\" xlink:title=\"psysml:3dfd6fc9-2012-44ec-8abc-b458a2efa8ee\" xlink:type=\"simple\"><rect fill=\"#FFFFFF\" height=\"75.5469\" id=\"E2\" rx=\"10\" ry=\"10\" style=\"stroke: #383838; stroke-width: 1.5;\" width=\"92\" x=\"473\" y=\"47\"/><text fill=\"#000000\" font-family=\"sans-serif\" font-size=\"12\" font-style=\"italic\" lengthAdjust=\"spacingAndGlyphs\" textLength=\"40\" x=\"499\" y=\"63.1387\">«part»</text><text fill=\"#000000\" font-family=\"sans-serif\" font-size=\"12\" lengthAdjust=\"spacingAndGlyphs\" textLength=\"43\" x=\"497.5\" y=\"77.1074\">vehicle</text><line style=\"stroke: #383838; stroke-width: 1.5;\" x1=\"474\" x2=\"564\" y1=\"84.9375\" y2=\"84.9375\"/><text fill=\"#000000\" font-family=\"sans-serif\" font-size=\"11\" lengthAdjust=\"spacingAndGlyphs\" textLength=\"80\" x=\"479\" y=\"115.9526\">m: MassValue</text><line style=\"stroke: #383838; stroke-width: 1.0;\" x1=\"474\" x2=\"491.5\" y1=\"99.3398\" y2=\"99.3398\"/><text fill=\"#000000\" font-family=\"sans-serif\" font-size=\"11\" lengthAdjust=\"spacingAndGlyphs\" textLength=\"55\" x=\"491.5\" y=\"102.6479\">attributes</text><line style=\"stroke: #383838; stroke-width: 1.0;\" x1=\"546.5\" x2=\"564\" y1=\"99.3398\" y2=\"99.3398\"/></a><!--MD5=[09b614a08d8cba4a07c9adeb5e0fee81]\n",
       "class E3--><a href=\"psysml:6f0477df-1982-4bef-bc4b-f3a5f459ca50\" target=\"_top\" title=\"psysml:6f0477df-1982-4bef-bc4b-f3a5f459ca50\" xlink:actuate=\"onRequest\" xlink:href=\"psysml:6f0477df-1982-4bef-bc4b-f3a5f459ca50\" xlink:show=\"new\" xlink:title=\"psysml:6f0477df-1982-4bef-bc4b-f3a5f459ca50\" xlink:type=\"simple\"><rect fill=\"#FFFFFF\" height=\"75.5469\" id=\"E3\" rx=\"10\" ry=\"10\" style=\"stroke: #383838; stroke-width: 1.5;\" width=\"92\" x=\"346\" y=\"189\"/><text fill=\"#000000\" font-family=\"sans-serif\" font-size=\"12\" font-style=\"italic\" lengthAdjust=\"spacingAndGlyphs\" textLength=\"40\" x=\"372\" y=\"205.1387\">«part»</text><text fill=\"#000000\" font-family=\"sans-serif\" font-size=\"12\" lengthAdjust=\"spacingAndGlyphs\" textLength=\"24\" x=\"380\" y=\"219.1074\">eng</text><line style=\"stroke: #383838; stroke-width: 1.5;\" x1=\"347\" x2=\"437\" y1=\"226.9375\" y2=\"226.9375\"/><text fill=\"#000000\" font-family=\"sans-serif\" font-size=\"11\" lengthAdjust=\"spacingAndGlyphs\" textLength=\"80\" x=\"352\" y=\"257.9526\">m: MassValue</text><line style=\"stroke: #383838; stroke-width: 1.0;\" x1=\"347\" x2=\"364.5\" y1=\"241.3398\" y2=\"241.3398\"/><text fill=\"#000000\" font-family=\"sans-serif\" font-size=\"11\" lengthAdjust=\"spacingAndGlyphs\" textLength=\"55\" x=\"364.5\" y=\"244.6479\">attributes</text><line style=\"stroke: #383838; stroke-width: 1.0;\" x1=\"419.5\" x2=\"437\" y1=\"241.3398\" y2=\"241.3398\"/></a><!--MD5=[ebbe1d658d1005bcc118a6aa81145e00]\n",
       "class E4--><a href=\"psysml:39f29039-e97f-4cd7-a6e4-24de87290ff7\" target=\"_top\" title=\"psysml:39f29039-e97f-4cd7-a6e4-24de87290ff7\" xlink:actuate=\"onRequest\" xlink:href=\"psysml:39f29039-e97f-4cd7-a6e4-24de87290ff7\" xlink:show=\"new\" xlink:title=\"psysml:39f29039-e97f-4cd7-a6e4-24de87290ff7\" xlink:type=\"simple\"><rect fill=\"#FFFFFF\" height=\"75.5469\" id=\"E4\" rx=\"10\" ry=\"10\" style=\"stroke: #383838; stroke-width: 1.5;\" width=\"92\" x=\"473\" y=\"189\"/><text fill=\"#000000\" font-family=\"sans-serif\" font-size=\"12\" font-style=\"italic\" lengthAdjust=\"spacingAndGlyphs\" textLength=\"40\" x=\"499\" y=\"205.1387\">«part»</text><text fill=\"#000000\" font-family=\"sans-serif\" font-size=\"12\" lengthAdjust=\"spacingAndGlyphs\" textLength=\"33\" x=\"502.5\" y=\"219.1074\">trans</text><line style=\"stroke: #383838; stroke-width: 1.5;\" x1=\"474\" x2=\"564\" y1=\"226.9375\" y2=\"226.9375\"/><text fill=\"#000000\" font-family=\"sans-serif\" font-size=\"11\" lengthAdjust=\"spacingAndGlyphs\" textLength=\"80\" x=\"479\" y=\"257.9526\">m: MassValue</text><line style=\"stroke: #383838; stroke-width: 1.0;\" x1=\"474\" x2=\"491.5\" y1=\"241.3398\" y2=\"241.3398\"/><text fill=\"#000000\" font-family=\"sans-serif\" font-size=\"11\" lengthAdjust=\"spacingAndGlyphs\" textLength=\"55\" x=\"491.5\" y=\"244.6479\">attributes</text><line style=\"stroke: #383838; stroke-width: 1.0;\" x1=\"546.5\" x2=\"564\" y1=\"241.3398\" y2=\"241.3398\"/></a><!--MD5=[96f4274e9e20536e775497830990834d]\n",
       "class E10--><a href=\"psysml:20e483d0-a5a0-4777-bc7f-caa19ca2a7e0\" target=\"_top\" title=\"psysml:20e483d0-a5a0-4777-bc7f-caa19ca2a7e0\" xlink:actuate=\"onRequest\" xlink:href=\"psysml:20e483d0-a5a0-4777-bc7f-caa19ca2a7e0\" xlink:show=\"new\" xlink:title=\"psysml:20e483d0-a5a0-4777-bc7f-caa19ca2a7e0\" xlink:type=\"simple\"><rect fill=\"#FFFFFF\" height=\"45.9375\" id=\"E10\" rx=\"10\" ry=\"10\" style=\"stroke: #383838; stroke-width: 1.5;\" width=\"91\" x=\"346.5\" y=\"62\"/><text fill=\"#000000\" font-family=\"sans-serif\" font-size=\"12\" font-style=\"italic\" lengthAdjust=\"spacingAndGlyphs\" textLength=\"82\" x=\"351\" y=\"78.1387\">«calculation»</text><text fill=\"#000000\" font-family=\"sans-serif\" font-size=\"12\" lengthAdjust=\"spacingAndGlyphs\" textLength=\"85\" x=\"349.5\" y=\"92.1074\">ms: MassSum</text><line style=\"stroke: #383838; stroke-width: 1.5;\" x1=\"347.5\" x2=\"436.5\" y1=\"99.9375\" y2=\"99.9375\"/></a><!--MD5=[bee11217b2f71d958a27249dc326068c]\n",
       "class E14--><a href=\"psysml:3aa3b647-0159-4a96-9fb7-94bd79c90754\" target=\"_top\" title=\"psysml:3aa3b647-0159-4a96-9fb7-94bd79c90754\" xlink:actuate=\"onRequest\" xlink:href=\"psysml:3aa3b647-0159-4a96-9fb7-94bd79c90754\" xlink:show=\"new\" xlink:title=\"psysml:3aa3b647-0159-4a96-9fb7-94bd79c90754\" xlink:type=\"simple\"><rect fill=\"#FFFFFF\" height=\"88.3516\" id=\"E14\" rx=\"10\" ry=\"10\" style=\"stroke: #383838; stroke-width: 1.5;\" width=\"99\" x=\"32.5\" y=\"41\"/><text fill=\"#000000\" font-family=\"sans-serif\" font-size=\"12\" font-style=\"italic\" lengthAdjust=\"spacingAndGlyphs\" textLength=\"82\" x=\"41\" y=\"57.1387\">«calculation»</text><text fill=\"#000000\" font-family=\"sans-serif\" font-size=\"12\" lengthAdjust=\"spacingAndGlyphs\" textLength=\"93\" x=\"35.5\" y=\"71.1074\">ms1: MassSum</text><line style=\"stroke: #383838; stroke-width: 1.5;\" x1=\"33.5\" x2=\"130.5\" y1=\"78.9375\" y2=\"78.9375\"/><text fill=\"#000000\" font-family=\"sans-serif\" font-size=\"11\" lengthAdjust=\"spacingAndGlyphs\" textLength=\"67\" x=\"38.5\" y=\"109.9526\">partMasses</text><text fill=\"#000000\" font-family=\"sans-serif\" font-size=\"11\" lengthAdjust=\"spacingAndGlyphs\" textLength=\"55\" x=\"38.5\" y=\"122.7573\">totalMass</text><line style=\"stroke: #383838; stroke-width: 1.0;\" x1=\"33.5\" x2=\"54.5\" y1=\"93.3398\" y2=\"93.3398\"/><text fill=\"#000000\" font-family=\"sans-serif\" font-size=\"11\" lengthAdjust=\"spacingAndGlyphs\" textLength=\"55\" x=\"54.5\" y=\"96.6479\">attributes</text><line style=\"stroke: #383838; stroke-width: 1.0;\" x1=\"109.5\" x2=\"130.5\" y1=\"93.3398\" y2=\"93.3398\"/></a><text fill=\"#000000\" font-family=\"sans-serif\" font-size=\"14\" lengthAdjust=\"spacingAndGlyphs\" textLength=\"80\" x=\"133\" y=\"63.6982\">partMasses</text><rect fill=\"#383838\" height=\"12\" style=\"stroke: #F8F8F8; stroke-width: 1.5;\" width=\"12\" x=\"167\" y=\"79\"/><text fill=\"#000000\" font-family=\"sans-serif\" font-size=\"14\" lengthAdjust=\"spacingAndGlyphs\" textLength=\"66\" x=\"177\" y=\"410.7151\">totalMass</text><rect fill=\"#383838\" height=\"12\" style=\"stroke: #F8F8F8; stroke-width: 1.5;\" width=\"12\" x=\"204\" y=\"385.72\"/><text fill=\"#000000\" font-family=\"sans-serif\" font-size=\"14\" lengthAdjust=\"spacingAndGlyphs\" textLength=\"75\" x=\"227.5\" y=\"63.6982\">$collection</text><rect fill=\"#383838\" height=\"12\" style=\"stroke: #F8F8F8; stroke-width: 1.5;\" width=\"12\" x=\"259\" y=\"79\"/><text fill=\"#000000\" font-family=\"sans-serif\" font-size=\"14\" lengthAdjust=\"spacingAndGlyphs\" textLength=\"48\" x=\"233\" y=\"410.7151\">$result</text><rect fill=\"#383838\" height=\"12\" style=\"stroke: #F8F8F8; stroke-width: 1.5;\" width=\"12\" x=\"251\" y=\"385.72\"/><text fill=\"#000000\" font-family=\"sans-serif\" font-size=\"14\" lengthAdjust=\"spacingAndGlyphs\" textLength=\"80\" x=\"627\" y=\"63.6982\">partMasses</text><rect fill=\"#383838\" height=\"12\" style=\"stroke: #F8F8F8; stroke-width: 1.5;\" width=\"12\" x=\"661\" y=\"79\"/><text fill=\"#000000\" font-family=\"sans-serif\" font-size=\"14\" lengthAdjust=\"spacingAndGlyphs\" textLength=\"66\" x=\"634\" y=\"410.7151\">totalMass</text><rect fill=\"#383838\" height=\"12\" style=\"stroke: #F8F8F8; stroke-width: 1.5;\" width=\"12\" x=\"661\" y=\"385.72\"/><!--MD5=[209b3feb70ccb6233bfe1053d122c12c]\n",
       "reverse link E2 to E3--><a href=\"psysml:6f0477df-1982-4bef-bc4b-f3a5f459ca50\" target=\"_top\" title=\"psysml:6f0477df-1982-4bef-bc4b-f3a5f459ca50\" xlink:actuate=\"onRequest\" xlink:href=\"psysml:6f0477df-1982-4bef-bc4b-f3a5f459ca50\" xlink:show=\"new\" xlink:title=\"psysml:6f0477df-1982-4bef-bc4b-f3a5f459ca50\" xlink:type=\"simple\"><path d=\"M459.79,118.72 C459.79,118.72 392,118.72 392,118.72 C392,118.72 392,157.65 392,188.82 \" fill=\"none\" id=\"E2&lt;-E3\" style=\"stroke: #383838; stroke-width: 1.0;\"/><polygon fill=\"#383838\" points=\"472.79,118.72,466.79,114.72,460.79,118.72,466.79,122.72,472.79,118.72\" style=\"stroke: #383838; stroke-width: 1.0;\"/></a><!--MD5=[9618e71518536f8baf3342ff6fdab317]\n",
       "reverse link E2 to E4--><a href=\"psysml:39f29039-e97f-4cd7-a6e4-24de87290ff7\" target=\"_top\" title=\"psysml:39f29039-e97f-4cd7-a6e4-24de87290ff7\" xlink:actuate=\"onRequest\" xlink:href=\"psysml:39f29039-e97f-4cd7-a6e4-24de87290ff7\" xlink:show=\"new\" xlink:title=\"psysml:39f29039-e97f-4cd7-a6e4-24de87290ff7\" xlink:type=\"simple\"><path d=\"M519,136.05 C519,136.05 519,188.84 519,188.84 \" fill=\"none\" id=\"E2&lt;-E4\" style=\"stroke: #383838; stroke-width: 1.0;\"/><polygon fill=\"#383838\" points=\"519,123.05,515,129.05,519,135.05,523,129.05,519,123.05\" style=\"stroke: #383838; stroke-width: 1.0;\"/></a><!--MD5=[ec5e0a54482b142abcecfe541d624bff]\n",
       "link E10 to E5--><a href=\"psysml:087e1e8b-9f76-403f-b1f3-15ea1e5b2649\" target=\"_top\" title=\"psysml:087e1e8b-9f76-403f-b1f3-15ea1e5b2649\" xlink:actuate=\"onRequest\" xlink:href=\"psysml:087e1e8b-9f76-403f-b1f3-15ea1e5b2649\" xlink:show=\"new\" xlink:title=\"psysml:087e1e8b-9f76-403f-b1f3-15ea1e5b2649\" xlink:type=\"simple\"><path d=\"M346.49,99.72 C318.62,99.72 288.25,99.72 288.25,99.72 C288.25,99.72 288.25,174.33 288.25,209.3 \" fill=\"none\" id=\"E10-&gt;E5\" style=\"stroke: #383838; stroke-width: 1.0;\"/><polygon fill=\"#FFFFFF\" points=\"288.25,209.3,281.25,190.3,295.25,190.3,288.25,209.3\" style=\"stroke: #383838; stroke-width: 1.0;\"/><ellipse cx=\"283.25\" cy=\"184.6\" fill=\"#383838\" rx=\"2\" ry=\"2\" style=\"stroke: #383838; stroke-width: 1.0;\"/><ellipse cx=\"293.25\" cy=\"184.6\" fill=\"#383838\" rx=\"2\" ry=\"2\" style=\"stroke: #383838; stroke-width: 1.0;\"/></a><!--MD5=[111e5536516ee1ad7d4266f589654f03]\n",
       "link E14 to E5--><a href=\"psysml:a6dd9655-fa53-42fd-8b92-db635a2ece9b\" target=\"_top\" title=\"psysml:a6dd9655-fa53-42fd-8b92-db635a2ece9b\" xlink:actuate=\"onRequest\" xlink:href=\"psysml:a6dd9655-fa53-42fd-8b92-db635a2ece9b\" xlink:show=\"new\" xlink:title=\"psysml:a6dd9655-fa53-42fd-8b92-db635a2ece9b\" xlink:type=\"simple\"><path d=\"M131.56,113.72 C139.295,113.72 147.2213,113.72 154.7597,113.72 \" fill=\"none\" id=\"E14-&gt;E5\" style=\"stroke: #383838; stroke-width: 1.0;\"/><polygon fill=\"#FFFFFF\" points=\"154.7597,113.72,135.7597,120.72,135.7597,106.72,154.7597,113.72\" style=\"stroke: #383838; stroke-width: 1.0;\"/><ellipse cx=\"130.0597\" cy=\"118.72\" fill=\"#383838\" rx=\"2\" ry=\"2\" style=\"stroke: #383838; stroke-width: 1.0;\"/><ellipse cx=\"130.0597\" cy=\"108.72\" fill=\"#383838\" rx=\"2\" ry=\"2\" style=\"stroke: #383838; stroke-width: 1.0;\"/></a><!--MD5=[ddc9bb66d139adc63ff6387c7fe120ae]\n",
       "@startuml\r\n",
       "skinparam linetype ortho\r\n",
       "skinparam monochrome true\r\n",
       "skinparam classbackgroundcolor white\r\n",
       "skinparam shadowing false\r\n",
       "skinparam wrapWidth 300\r\n",
       "hide circle\r\n",
       "\r\n",
       "package \"CalculationExample\" as E1  [[psysml:279b101a-ad7c-43dd-8a07-da5fe5802bed ]]  {\r\n",
       "comp usage \"vehicle\" as E2  <<(T,blue)part>> [[psysml:3dfd6fc9-2012-44ec-8abc-b458a2efa8ee ]] {\r\n",
       "- - attributes - -\r\n",
       "m: MassValue\r\n",
       "}\r\n",
       "comp usage \"eng\" as E3  <<(T,blue)part>> [[psysml:6f0477df-1982-4bef-bc4b-f3a5f459ca50 ]] {\r\n",
       "- - attributes - -\r\n",
       "m: MassValue\r\n",
       "}\r\n",
       "comp usage \"trans\" as E4  <<(T,blue)part>> [[psysml:39f29039-e97f-4cd7-a6e4-24de87290ff7 ]] {\r\n",
       "- - attributes - -\r\n",
       "m: MassValue\r\n",
       "}\r\n",
       "rec def \"MassSum\" as E5  <<(T,blue)calculation def>> [[psysml:5c4fc454-9680-413f-bf1a-bdf2f6cc06d5 ]] {\r\n",
       "portin \"partMasses\" as E6  [[psysml:57eaefe4-a57c-41fa-a944-033dc3e4df4e ]] \r\n",
       "portout \"totalMass\" as E7  [[psysml:35e88aae-ee13-4c55-bc31-272528607619 ]] \r\n",
       "portin \"$collection\" as E8  [[psysml:0e9b074a-52f0-467d-9ed6-1e247226bb71 ]] \r\n",
       "portout \"$result\" as E9  [[psysml:66242f20-bf9b-4b2d-900e-be3ce4c10d7e ]] \r\n",
       "}\r\n",
       "\r\n",
       "comp usage \"ms: MassSum\" as E10  <<(T,blue)calculation>> [[psysml:20e483d0-a5a0-4777-bc7f-caa19ca2a7e0 ]] {\r\n",
       "}\r\n",
       "rec def \"MassSum1\" as E11  <<(T,blue)calculation def>> [[psysml:83ce5d61-6771-4884-a571-d4d08f340672 ]] {\r\n",
       "portin \"partMasses\" as E12  [[psysml:0924d9a5-fc11-4345-935d-e5ff08c51a6a ]] \r\n",
       "portout \"totalMass\" as E13  [[psysml:b7c67a6a-5db6-4529-b3d9-f9fb47dc5f0c ]] \r\n",
       "}\r\n",
       "\r\n",
       "comp usage \"ms1: MassSum\" as E14  <<(T,blue)calculation>> [[psysml:3aa3b647-0159-4a96-9fb7-94bd79c90754 ]] {\r\n",
       "- - attributes - -\r\n",
       "partMasses\r\n",
       "totalMass\r\n",
       "}\r\n",
       "E2 *- - E3 [[psysml:6f0477df-1982-4bef-bc4b-f3a5f459ca50 ]] \r\n",
       "E2 *- - E4 [[psysml:39f29039-e97f-4cd7-a6e4-24de87290ff7 ]] \r\n",
       "E10 - -:|> E5 [[psysml:087e1e8b-9f76-403f-b1f3-15ea1e5b2649 ]] \r\n",
       "E14 - -:|> E5 [[psysml:a6dd9655-fa53-42fd-8b92-db635a2ece9b ]] \r\n",
       "}\r\n",
       "@enduml\r\n",
       "\n",
       "PlantUML version 1.2020.13(Sat Jun 13 12:26:38 UTC 2020)\n",
       "(EPL source distribution)\n",
       "Java Runtime: OpenJDK Runtime Environment\n",
       "JVM: OpenJDK 64-Bit Server VM\n",
       "Default Encoding: UTF-8\n",
       "Language: en\n",
       "Country: null\n",
       "--></g></svg>"
      ]
     },
     "execution_count": 51,
     "metadata": {},
     "output_type": "execute_result"
    }
   ],
   "source": [
    "%viz --style=\"ORTHOLINE\" --view=\"Default\" \"CalculationExample\""
   ]
  },
  {
   "cell_type": "code",
   "execution_count": 52,
   "id": "hearing-mouth",
   "metadata": {
    "execution": {
     "iopub.execute_input": "2021-03-26T13:05:09.449661Z",
     "iopub.status.busy": "2021-03-26T13:05:09.449221Z",
     "iopub.status.idle": "2021-03-26T13:05:09.535426Z",
     "shell.execute_reply": "2021-03-26T13:05:09.533838Z"
    }
   },
   "outputs": [
    {
     "data": {
      "image/svg+xml": [
       "<?xml version=\"1.0\" encoding=\"UTF-8\" standalone=\"no\"?><svg xmlns=\"http://www.w3.org/2000/svg\" xmlns:xlink=\"http://www.w3.org/1999/xlink\" contentScriptType=\"application/ecmascript\" contentStyleType=\"text/css\" height=\"293px\" preserveAspectRatio=\"none\" style=\"width:607px;height:293px;\" version=\"1.1\" viewBox=\"0 0 607 293\" width=\"607px\" zoomAndPan=\"magnify\"><defs/><g><!--MD5=[fbc87193dbaf4d95561dea2c320d4a47]\n",
       "cluster E1--><a href=\"psysml:279b101a-ad7c-43dd-8a07-da5fe5802bed\" target=\"_top\" title=\"psysml:279b101a-ad7c-43dd-8a07-da5fe5802bed\" xlink:actuate=\"onRequest\" xlink:href=\"psysml:279b101a-ad7c-43dd-8a07-da5fe5802bed\" xlink:show=\"new\" xlink:title=\"psysml:279b101a-ad7c-43dd-8a07-da5fe5802bed\" xlink:type=\"simple\"><polygon fill=\"#FFFFFF\" points=\"16,6,173,6,180,28.2969,585,28.2969,585,281,16,281,16,6\" style=\"stroke: #000000; stroke-width: 1.5;\"/><line style=\"stroke: #000000; stroke-width: 1.5;\" x1=\"16\" x2=\"180\" y1=\"28.2969\" y2=\"28.2969\"/><text fill=\"#000000\" font-family=\"sans-serif\" font-size=\"14\" font-weight=\"bold\" lengthAdjust=\"spacingAndGlyphs\" textLength=\"151\" x=\"20\" y=\"20.9951\">CalculationExample</text></a><!--MD5=[b4997ac47864f28c2f74865a473b2911]\n",
       "class E2--><a href=\"psysml:3dfd6fc9-2012-44ec-8abc-b458a2efa8ee\" target=\"_top\" title=\"psysml:3dfd6fc9-2012-44ec-8abc-b458a2efa8ee\" xlink:actuate=\"onRequest\" xlink:href=\"psysml:3dfd6fc9-2012-44ec-8abc-b458a2efa8ee\" xlink:show=\"new\" xlink:title=\"psysml:3dfd6fc9-2012-44ec-8abc-b458a2efa8ee\" xlink:type=\"simple\"><rect fill=\"#FFFFFF\" height=\"75.5469\" id=\"E2\" rx=\"10\" ry=\"10\" style=\"stroke: #383838; stroke-width: 1.5;\" width=\"92\" x=\"477\" y=\"47\"/><text fill=\"#000000\" font-family=\"sans-serif\" font-size=\"12\" font-style=\"italic\" lengthAdjust=\"spacingAndGlyphs\" textLength=\"40\" x=\"503\" y=\"63.1387\">«part»</text><text fill=\"#000000\" font-family=\"sans-serif\" font-size=\"12\" lengthAdjust=\"spacingAndGlyphs\" textLength=\"43\" x=\"501.5\" y=\"77.1074\">vehicle</text><line style=\"stroke: #383838; stroke-width: 1.5;\" x1=\"478\" x2=\"568\" y1=\"84.9375\" y2=\"84.9375\"/><text fill=\"#000000\" font-family=\"sans-serif\" font-size=\"11\" lengthAdjust=\"spacingAndGlyphs\" textLength=\"80\" x=\"483\" y=\"115.9526\">m: MassValue</text><line style=\"stroke: #383838; stroke-width: 1.0;\" x1=\"478\" x2=\"495.5\" y1=\"99.3398\" y2=\"99.3398\"/><text fill=\"#000000\" font-family=\"sans-serif\" font-size=\"11\" lengthAdjust=\"spacingAndGlyphs\" textLength=\"55\" x=\"495.5\" y=\"102.6479\">attributes</text><line style=\"stroke: #383838; stroke-width: 1.0;\" x1=\"550.5\" x2=\"568\" y1=\"99.3398\" y2=\"99.3398\"/></a><!--MD5=[09b614a08d8cba4a07c9adeb5e0fee81]\n",
       "class E3--><a href=\"psysml:6f0477df-1982-4bef-bc4b-f3a5f459ca50\" target=\"_top\" title=\"psysml:6f0477df-1982-4bef-bc4b-f3a5f459ca50\" xlink:actuate=\"onRequest\" xlink:href=\"psysml:6f0477df-1982-4bef-bc4b-f3a5f459ca50\" xlink:show=\"new\" xlink:title=\"psysml:6f0477df-1982-4bef-bc4b-f3a5f459ca50\" xlink:type=\"simple\"><rect fill=\"#FFFFFF\" height=\"75.5469\" id=\"E3\" rx=\"10\" ry=\"10\" style=\"stroke: #383838; stroke-width: 1.5;\" width=\"92\" x=\"350\" y=\"189\"/><text fill=\"#000000\" font-family=\"sans-serif\" font-size=\"12\" font-style=\"italic\" lengthAdjust=\"spacingAndGlyphs\" textLength=\"40\" x=\"376\" y=\"205.1387\">«part»</text><text fill=\"#000000\" font-family=\"sans-serif\" font-size=\"12\" lengthAdjust=\"spacingAndGlyphs\" textLength=\"24\" x=\"384\" y=\"219.1074\">eng</text><line style=\"stroke: #383838; stroke-width: 1.5;\" x1=\"351\" x2=\"441\" y1=\"226.9375\" y2=\"226.9375\"/><text fill=\"#000000\" font-family=\"sans-serif\" font-size=\"11\" lengthAdjust=\"spacingAndGlyphs\" textLength=\"80\" x=\"356\" y=\"257.9526\">m: MassValue</text><line style=\"stroke: #383838; stroke-width: 1.0;\" x1=\"351\" x2=\"368.5\" y1=\"241.3398\" y2=\"241.3398\"/><text fill=\"#000000\" font-family=\"sans-serif\" font-size=\"11\" lengthAdjust=\"spacingAndGlyphs\" textLength=\"55\" x=\"368.5\" y=\"244.6479\">attributes</text><line style=\"stroke: #383838; stroke-width: 1.0;\" x1=\"423.5\" x2=\"441\" y1=\"241.3398\" y2=\"241.3398\"/></a><!--MD5=[ebbe1d658d1005bcc118a6aa81145e00]\n",
       "class E4--><a href=\"psysml:39f29039-e97f-4cd7-a6e4-24de87290ff7\" target=\"_top\" title=\"psysml:39f29039-e97f-4cd7-a6e4-24de87290ff7\" xlink:actuate=\"onRequest\" xlink:href=\"psysml:39f29039-e97f-4cd7-a6e4-24de87290ff7\" xlink:show=\"new\" xlink:title=\"psysml:39f29039-e97f-4cd7-a6e4-24de87290ff7\" xlink:type=\"simple\"><rect fill=\"#FFFFFF\" height=\"75.5469\" id=\"E4\" rx=\"10\" ry=\"10\" style=\"stroke: #383838; stroke-width: 1.5;\" width=\"92\" x=\"477\" y=\"189\"/><text fill=\"#000000\" font-family=\"sans-serif\" font-size=\"12\" font-style=\"italic\" lengthAdjust=\"spacingAndGlyphs\" textLength=\"40\" x=\"503\" y=\"205.1387\">«part»</text><text fill=\"#000000\" font-family=\"sans-serif\" font-size=\"12\" lengthAdjust=\"spacingAndGlyphs\" textLength=\"33\" x=\"506.5\" y=\"219.1074\">trans</text><line style=\"stroke: #383838; stroke-width: 1.5;\" x1=\"478\" x2=\"568\" y1=\"226.9375\" y2=\"226.9375\"/><text fill=\"#000000\" font-family=\"sans-serif\" font-size=\"11\" lengthAdjust=\"spacingAndGlyphs\" textLength=\"80\" x=\"483\" y=\"257.9526\">m: MassValue</text><line style=\"stroke: #383838; stroke-width: 1.0;\" x1=\"478\" x2=\"495.5\" y1=\"241.3398\" y2=\"241.3398\"/><text fill=\"#000000\" font-family=\"sans-serif\" font-size=\"11\" lengthAdjust=\"spacingAndGlyphs\" textLength=\"55\" x=\"495.5\" y=\"244.6479\">attributes</text><line style=\"stroke: #383838; stroke-width: 1.0;\" x1=\"550.5\" x2=\"568\" y1=\"241.3398\" y2=\"241.3398\"/></a><!--MD5=[270fce915f116d4de14055a7c1d9a0f3]\n",
       "class E5--><a href=\"psysml:5c4fc454-9680-413f-bf1a-bdf2f6cc06d5\" target=\"_top\" title=\"psysml:5c4fc454-9680-413f-bf1a-bdf2f6cc06d5\" xlink:actuate=\"onRequest\" xlink:href=\"psysml:5c4fc454-9680-413f-bf1a-bdf2f6cc06d5\" xlink:show=\"new\" xlink:title=\"psysml:5c4fc454-9680-413f-bf1a-bdf2f6cc06d5\" xlink:type=\"simple\"><rect fill=\"#FFFFFF\" height=\"45.9375\" id=\"E5\" style=\"stroke: #383838; stroke-width: 1.5;\" width=\"108\" x=\"120\" y=\"204\"/><text fill=\"#000000\" font-family=\"sans-serif\" font-size=\"12\" font-style=\"italic\" lengthAdjust=\"spacingAndGlyphs\" textLength=\"106\" x=\"121\" y=\"220.1387\">«calculation def»</text><text fill=\"#000000\" font-family=\"sans-serif\" font-size=\"12\" lengthAdjust=\"spacingAndGlyphs\" textLength=\"59\" x=\"144.5\" y=\"234.1074\">MassSum</text><line style=\"stroke: #383838; stroke-width: 1.5;\" x1=\"121\" x2=\"227\" y1=\"241.9375\" y2=\"241.9375\"/></a><!--MD5=[60a26617385b1d2d0262a64233df1f8d]\n",
       "class E6--><a href=\"psysml:20e483d0-a5a0-4777-bc7f-caa19ca2a7e0\" target=\"_top\" title=\"psysml:20e483d0-a5a0-4777-bc7f-caa19ca2a7e0\" xlink:actuate=\"onRequest\" xlink:href=\"psysml:20e483d0-a5a0-4777-bc7f-caa19ca2a7e0\" xlink:show=\"new\" xlink:title=\"psysml:20e483d0-a5a0-4777-bc7f-caa19ca2a7e0\" xlink:type=\"simple\"><rect fill=\"#FFFFFF\" height=\"45.9375\" id=\"E6\" rx=\"10\" ry=\"10\" style=\"stroke: #383838; stroke-width: 1.5;\" width=\"91\" x=\"350.5\" y=\"62\"/><text fill=\"#000000\" font-family=\"sans-serif\" font-size=\"12\" font-style=\"italic\" lengthAdjust=\"spacingAndGlyphs\" textLength=\"82\" x=\"355\" y=\"78.1387\">«calculation»</text><text fill=\"#000000\" font-family=\"sans-serif\" font-size=\"12\" lengthAdjust=\"spacingAndGlyphs\" textLength=\"85\" x=\"353.5\" y=\"92.1074\">ms: MassSum</text><line style=\"stroke: #383838; stroke-width: 1.5;\" x1=\"351.5\" x2=\"440.5\" y1=\"99.9375\" y2=\"99.9375\"/></a><!--MD5=[2156ba9850f5573cc1fc38a6a4b2f02b]\n",
       "class E7--><a href=\"psysml:83ce5d61-6771-4884-a571-d4d08f340672\" target=\"_top\" title=\"psysml:83ce5d61-6771-4884-a571-d4d08f340672\" xlink:actuate=\"onRequest\" xlink:href=\"psysml:83ce5d61-6771-4884-a571-d4d08f340672\" xlink:show=\"new\" xlink:title=\"psysml:83ce5d61-6771-4884-a571-d4d08f340672\" xlink:type=\"simple\"><rect fill=\"#FFFFFF\" height=\"88.3516\" id=\"E7\" style=\"stroke: #383838; stroke-width: 1.5;\" width=\"148\" x=\"167\" y=\"41\"/><text fill=\"#000000\" font-family=\"sans-serif\" font-size=\"12\" font-style=\"italic\" lengthAdjust=\"spacingAndGlyphs\" textLength=\"106\" x=\"188\" y=\"57.1387\">«calculation def»</text><text fill=\"#000000\" font-family=\"sans-serif\" font-size=\"12\" lengthAdjust=\"spacingAndGlyphs\" textLength=\"67\" x=\"207.5\" y=\"71.1074\">MassSum1</text><line style=\"stroke: #383838; stroke-width: 1.5;\" x1=\"168\" x2=\"314\" y1=\"78.9375\" y2=\"78.9375\"/><text fill=\"#000000\" font-family=\"sans-serif\" font-size=\"11\" lengthAdjust=\"spacingAndGlyphs\" textLength=\"136\" x=\"173\" y=\"109.9526\">partMasses: MassValue</text><text fill=\"#000000\" font-family=\"sans-serif\" font-size=\"11\" lengthAdjust=\"spacingAndGlyphs\" textLength=\"124\" x=\"173\" y=\"122.7573\">totalMass: MassValue</text><line style=\"stroke: #383838; stroke-width: 1.0;\" x1=\"168\" x2=\"213.5\" y1=\"93.3398\" y2=\"93.3398\"/><text fill=\"#000000\" font-family=\"sans-serif\" font-size=\"11\" lengthAdjust=\"spacingAndGlyphs\" textLength=\"55\" x=\"213.5\" y=\"96.6479\">attributes</text><line style=\"stroke: #383838; stroke-width: 1.0;\" x1=\"268.5\" x2=\"314\" y1=\"93.3398\" y2=\"93.3398\"/></a><!--MD5=[b9389687b975829384b498ac4b7476b2]\n",
       "class E8--><a href=\"psysml:3aa3b647-0159-4a96-9fb7-94bd79c90754\" target=\"_top\" title=\"psysml:3aa3b647-0159-4a96-9fb7-94bd79c90754\" xlink:actuate=\"onRequest\" xlink:href=\"psysml:3aa3b647-0159-4a96-9fb7-94bd79c90754\" xlink:show=\"new\" xlink:title=\"psysml:3aa3b647-0159-4a96-9fb7-94bd79c90754\" xlink:type=\"simple\"><rect fill=\"#FFFFFF\" height=\"88.3516\" id=\"E8\" rx=\"10\" ry=\"10\" style=\"stroke: #383838; stroke-width: 1.5;\" width=\"99\" x=\"32.5\" y=\"41\"/><text fill=\"#000000\" font-family=\"sans-serif\" font-size=\"12\" font-style=\"italic\" lengthAdjust=\"spacingAndGlyphs\" textLength=\"82\" x=\"41\" y=\"57.1387\">«calculation»</text><text fill=\"#000000\" font-family=\"sans-serif\" font-size=\"12\" lengthAdjust=\"spacingAndGlyphs\" textLength=\"93\" x=\"35.5\" y=\"71.1074\">ms1: MassSum</text><line style=\"stroke: #383838; stroke-width: 1.5;\" x1=\"33.5\" x2=\"130.5\" y1=\"78.9375\" y2=\"78.9375\"/><text fill=\"#000000\" font-family=\"sans-serif\" font-size=\"11\" lengthAdjust=\"spacingAndGlyphs\" textLength=\"67\" x=\"38.5\" y=\"109.9526\">partMasses</text><text fill=\"#000000\" font-family=\"sans-serif\" font-size=\"11\" lengthAdjust=\"spacingAndGlyphs\" textLength=\"55\" x=\"38.5\" y=\"122.7573\">totalMass</text><line style=\"stroke: #383838; stroke-width: 1.0;\" x1=\"33.5\" x2=\"54.5\" y1=\"93.3398\" y2=\"93.3398\"/><text fill=\"#000000\" font-family=\"sans-serif\" font-size=\"11\" lengthAdjust=\"spacingAndGlyphs\" textLength=\"55\" x=\"54.5\" y=\"96.6479\">attributes</text><line style=\"stroke: #383838; stroke-width: 1.0;\" x1=\"109.5\" x2=\"130.5\" y1=\"93.3398\" y2=\"93.3398\"/></a><!--MD5=[209b3feb70ccb6233bfe1053d122c12c]\n",
       "reverse link E2 to E3--><a href=\"psysml:6f0477df-1982-4bef-bc4b-f3a5f459ca50\" target=\"_top\" title=\"psysml:6f0477df-1982-4bef-bc4b-f3a5f459ca50\" xlink:actuate=\"onRequest\" xlink:href=\"psysml:6f0477df-1982-4bef-bc4b-f3a5f459ca50\" xlink:show=\"new\" xlink:title=\"psysml:6f0477df-1982-4bef-bc4b-f3a5f459ca50\" xlink:type=\"simple\"><path d=\"M463.79,116 C463.79,116 396,116 396,116 C396,116 396,156.69 396,188.8 \" fill=\"none\" id=\"E2&lt;-E3\" style=\"stroke: #383838; stroke-width: 1.0;\"/><polygon fill=\"#383838\" points=\"476.79,116,470.79,112,464.79,116,470.79,120,476.79,116\" style=\"stroke: #383838; stroke-width: 1.0;\"/></a><!--MD5=[9618e71518536f8baf3342ff6fdab317]\n",
       "reverse link E2 to E4--><a href=\"psysml:39f29039-e97f-4cd7-a6e4-24de87290ff7\" target=\"_top\" title=\"psysml:39f29039-e97f-4cd7-a6e4-24de87290ff7\" xlink:actuate=\"onRequest\" xlink:href=\"psysml:39f29039-e97f-4cd7-a6e4-24de87290ff7\" xlink:show=\"new\" xlink:title=\"psysml:39f29039-e97f-4cd7-a6e4-24de87290ff7\" xlink:type=\"simple\"><path d=\"M523,136.05 C523,136.05 523,188.84 523,188.84 \" fill=\"none\" id=\"E2&lt;-E4\" style=\"stroke: #383838; stroke-width: 1.0;\"/><polygon fill=\"#383838\" points=\"523,123.05,519,129.05,523,135.05,527,129.05,523,123.05\" style=\"stroke: #383838; stroke-width: 1.0;\"/></a><!--MD5=[25b190c987b1e74e5126d372c5a73af1]\n",
       "link E6 to E5--><a href=\"psysml:087e1e8b-9f76-403f-b1f3-15ea1e5b2649\" target=\"_top\" title=\"psysml:087e1e8b-9f76-403f-b1f3-15ea1e5b2649\" xlink:actuate=\"onRequest\" xlink:href=\"psysml:087e1e8b-9f76-403f-b1f3-15ea1e5b2649\" xlink:show=\"new\" xlink:title=\"psysml:087e1e8b-9f76-403f-b1f3-15ea1e5b2649\" xlink:type=\"simple\"><path d=\"M350.19,85 C340.17,85 332.5,85 332.5,85 C332.5,85 332.5,227 332.5,227 C332.5,227 248.1,227 248.1,227 \" fill=\"none\" id=\"E6-&gt;E5\" style=\"stroke: #383838; stroke-width: 1.0;\"/><polygon fill=\"#FFFFFF\" points=\"228.1,227,247.1,220,247.1,234,228.1,227\" style=\"stroke: #383838; stroke-width: 1.0;\"/><ellipse cx=\"252.8\" cy=\"222\" fill=\"#383838\" rx=\"2\" ry=\"2\" style=\"stroke: #383838; stroke-width: 1.0;\"/><ellipse cx=\"252.8\" cy=\"232\" fill=\"#383838\" rx=\"2\" ry=\"2\" style=\"stroke: #383838; stroke-width: 1.0;\"/></a><!--MD5=[1ccb2481ffa92f8d51a74ee30c51832a]\n",
       "link E8 to E5--><a href=\"psysml:a6dd9655-fa53-42fd-8b92-db635a2ece9b\" target=\"_top\" title=\"psysml:a6dd9655-fa53-42fd-8b92-db635a2ece9b\" xlink:actuate=\"onRequest\" xlink:href=\"psysml:a6dd9655-fa53-42fd-8b92-db635a2ece9b\" xlink:show=\"new\" xlink:title=\"psysml:a6dd9655-fa53-42fd-8b92-db635a2ece9b\" xlink:type=\"simple\"><path d=\"M125.75,129.15 C125.75,129.15 125.75,183.93 125.75,183.93 \" fill=\"none\" id=\"E8-&gt;E5\" style=\"stroke: #383838; stroke-width: 1.0;\"/><polygon fill=\"#FFFFFF\" points=\"125.75,203.93,118.75,184.93,132.75,184.93,125.75,203.93\" style=\"stroke: #383838; stroke-width: 1.0;\"/><ellipse cx=\"120.75\" cy=\"179.23\" fill=\"#383838\" rx=\"2\" ry=\"2\" style=\"stroke: #383838; stroke-width: 1.0;\"/><ellipse cx=\"130.75\" cy=\"179.23\" fill=\"#383838\" rx=\"2\" ry=\"2\" style=\"stroke: #383838; stroke-width: 1.0;\"/></a><!--MD5=[e44e259ba75096787b6e19740b40477e]\n",
       "@startuml\r\n",
       "skinparam linetype ortho\r\n",
       "skinparam monochrome true\r\n",
       "skinparam classbackgroundcolor white\r\n",
       "skinparam shadowing false\r\n",
       "skinparam wrapWidth 300\r\n",
       "hide circle\r\n",
       "\r\n",
       "package \"CalculationExample\" as E1  [[psysml:279b101a-ad7c-43dd-8a07-da5fe5802bed ]]  {\r\n",
       "comp usage \"vehicle\" as E2  <<(T,blue)part>> [[psysml:3dfd6fc9-2012-44ec-8abc-b458a2efa8ee ]] {\r\n",
       "- - attributes - -\r\n",
       "m: MassValue\r\n",
       "}\r\n",
       "comp usage \"eng\" as E3  <<(T,blue)part>> [[psysml:6f0477df-1982-4bef-bc4b-f3a5f459ca50 ]] {\r\n",
       "- - attributes - -\r\n",
       "m: MassValue\r\n",
       "}\r\n",
       "comp usage \"trans\" as E4  <<(T,blue)part>> [[psysml:39f29039-e97f-4cd7-a6e4-24de87290ff7 ]] {\r\n",
       "- - attributes - -\r\n",
       "m: MassValue\r\n",
       "}\r\n",
       "comp def \"MassSum\" as E5  <<(T,blue)calculation def>> [[psysml:5c4fc454-9680-413f-bf1a-bdf2f6cc06d5 ]] {\r\n",
       "}\r\n",
       "comp usage \"ms: MassSum\" as E6  <<(T,blue)calculation>> [[psysml:20e483d0-a5a0-4777-bc7f-caa19ca2a7e0 ]] {\r\n",
       "}\r\n",
       "comp def \"MassSum1\" as E7  <<(T,blue)calculation def>> [[psysml:83ce5d61-6771-4884-a571-d4d08f340672 ]] {\r\n",
       "- - attributes - -\r\n",
       "partMasses: MassValue\r\n",
       "totalMass: MassValue\r\n",
       "}\r\n",
       "comp usage \"ms1: MassSum\" as E8  <<(T,blue)calculation>> [[psysml:3aa3b647-0159-4a96-9fb7-94bd79c90754 ]] {\r\n",
       "- - attributes - -\r\n",
       "partMasses\r\n",
       "totalMass\r\n",
       "}\r\n",
       "E2 *- - E3 [[psysml:6f0477df-1982-4bef-bc4b-f3a5f459ca50 ]] \r\n",
       "E2 *- - E4 [[psysml:39f29039-e97f-4cd7-a6e4-24de87290ff7 ]] \r\n",
       "E6 - -:|> E5 [[psysml:087e1e8b-9f76-403f-b1f3-15ea1e5b2649 ]] \r\n",
       "E8 - -:|> E5 [[psysml:a6dd9655-fa53-42fd-8b92-db635a2ece9b ]] \r\n",
       "}\r\n",
       "@enduml\r\n",
       "\n",
       "PlantUML version 1.2020.13(Sat Jun 13 12:26:38 UTC 2020)\n",
       "(EPL source distribution)\n",
       "Java Runtime: OpenJDK Runtime Environment\n",
       "JVM: OpenJDK 64-Bit Server VM\n",
       "Default Encoding: UTF-8\n",
       "Language: en\n",
       "Country: null\n",
       "--></g></svg>"
      ]
     },
     "execution_count": 52,
     "metadata": {},
     "output_type": "execute_result"
    }
   ],
   "source": [
    "%viz --style=\"ORTHOLINE\" --view=\"Tree\" \"CalculationExample\""
   ]
  },
  {
   "cell_type": "code",
   "execution_count": 53,
   "id": "documentary-mirror",
   "metadata": {
    "execution": {
     "iopub.execute_input": "2021-03-26T13:05:09.587408Z",
     "iopub.status.busy": "2021-03-26T13:05:09.586528Z",
     "iopub.status.idle": "2021-03-26T13:05:09.593313Z",
     "shell.execute_reply": "2021-03-26T13:05:09.592899Z"
    }
   },
   "outputs": [
    {
     "data": {
      "image/svg+xml": [
       "<?xml version=\"1.0\" encoding=\"UTF-8\" standalone=\"no\"?><svg xmlns=\"http://www.w3.org/2000/svg\" xmlns:xlink=\"http://www.w3.org/1999/xlink\" contentScriptType=\"application/ecmascript\" contentStyleType=\"text/css\" height=\"12px\" preserveAspectRatio=\"none\" style=\"width:12px;height:12px;\" version=\"1.1\" viewBox=\"0 0 12 12\" width=\"12px\" zoomAndPan=\"magnify\"><defs/><g><!--MD5=[97d6f38768b311333d388e66b2b27985]\n",
       "@startuml\r\n",
       "skinparam linetype ortho\r\n",
       "skinparam monochrome true\r\n",
       "skinparam classbackgroundcolor white\r\n",
       "skinparam shadowing false\r\n",
       "skinparam wrapWidth 300\r\n",
       "hide circle\r\n",
       "\r\n",
       "@enduml\r\n",
       "\n",
       "PlantUML version 1.2020.13(Sat Jun 13 12:26:38 UTC 2020)\n",
       "(EPL source distribution)\n",
       "Java Runtime: OpenJDK Runtime Environment\n",
       "JVM: OpenJDK 64-Bit Server VM\n",
       "Default Encoding: UTF-8\n",
       "Language: en\n",
       "Country: null\n",
       "--></g></svg>"
      ]
     },
     "execution_count": 53,
     "metadata": {},
     "output_type": "execute_result"
    }
   ],
   "source": [
    "%viz --style=\"ORTHOLINE\" --view=\"State\" \"CalculationExample\""
   ]
  },
  {
   "cell_type": "code",
   "execution_count": 54,
   "id": "atlantic-nowhere",
   "metadata": {
    "execution": {
     "iopub.execute_input": "2021-03-26T13:05:09.644072Z",
     "iopub.status.busy": "2021-03-26T13:05:09.643574Z",
     "iopub.status.idle": "2021-03-26T13:05:09.676015Z",
     "shell.execute_reply": "2021-03-26T13:05:09.676341Z"
    }
   },
   "outputs": [
    {
     "data": {
      "image/svg+xml": [
       "<?xml version=\"1.0\" encoding=\"UTF-8\" standalone=\"no\"?><svg xmlns=\"http://www.w3.org/2000/svg\" xmlns:xlink=\"http://www.w3.org/1999/xlink\" contentScriptType=\"application/ecmascript\" contentStyleType=\"text/css\" height=\"246px\" preserveAspectRatio=\"none\" style=\"width:795px;height:246px;\" version=\"1.1\" viewBox=\"0 0 795 246\" width=\"795px\" zoomAndPan=\"magnify\"><defs/><g><!--MD5=[fbc87193dbaf4d95561dea2c320d4a47]\n",
       "cluster E1--><a href=\"psysml:279b101a-ad7c-43dd-8a07-da5fe5802bed\" target=\"_top\" title=\"psysml:279b101a-ad7c-43dd-8a07-da5fe5802bed\" xlink:actuate=\"onRequest\" xlink:href=\"psysml:279b101a-ad7c-43dd-8a07-da5fe5802bed\" xlink:show=\"new\" xlink:title=\"psysml:279b101a-ad7c-43dd-8a07-da5fe5802bed\" xlink:type=\"simple\"><polygon fill=\"#FFFFFF\" points=\"16,6,173,6,180,28.2969,773,28.2969,773,234,16,234,16,6\" style=\"stroke: #000000; stroke-width: 1.5;\"/><line style=\"stroke: #000000; stroke-width: 1.5;\" x1=\"16\" x2=\"180\" y1=\"28.2969\" y2=\"28.2969\"/><text fill=\"#000000\" font-family=\"sans-serif\" font-size=\"14\" font-weight=\"bold\" lengthAdjust=\"spacingAndGlyphs\" textLength=\"151\" x=\"20\" y=\"20.9951\">CalculationExample</text></a><!--MD5=[e4f7fae6ed58524ba242bb0b0d3be6b7]\n",
       "cluster E2--><a href=\"psysml:3dfd6fc9-2012-44ec-8abc-b458a2efa8ee\" target=\"_top\" title=\"psysml:3dfd6fc9-2012-44ec-8abc-b458a2efa8ee\" xlink:actuate=\"onRequest\" xlink:href=\"psysml:3dfd6fc9-2012-44ec-8abc-b458a2efa8ee\" xlink:show=\"new\" xlink:title=\"psysml:3dfd6fc9-2012-44ec-8abc-b458a2efa8ee\" xlink:type=\"simple\"><rect fill=\"#FFFFFF\" height=\"161\" id=\"E2\" rx=\"10\" ry=\"10\" style=\"stroke: #383838; stroke-width: 1.5;\" width=\"436\" x=\"313\" y=\"49\"/><rect fill=\"#F8F8F8\" height=\"23.9688\" rx=\"10\" ry=\"10\" style=\"stroke: #F8F8F8; stroke-width: 1.5;\" width=\"436\" x=\"313\" y=\"49\"/><rect fill=\"#F8F8F8\" height=\"10\" style=\"stroke: #F8F8F8; stroke-width: 1.5;\" width=\"436\" x=\"313\" y=\"62.9688\"/><rect fill=\"none\" height=\"161\" id=\"E2\" rx=\"10\" ry=\"10\" style=\"stroke: #383838; stroke-width: 1.5;\" width=\"436\" x=\"313\" y=\"49\"/><text fill=\"#000000\" font-family=\"sans-serif\" font-size=\"12\" lengthAdjust=\"spacingAndGlyphs\" textLength=\"43\" x=\"509.5\" y=\"65.1387\">vehicle</text><line style=\"stroke: #383838; stroke-width: 1.0;\" x1=\"313\" x2=\"749\" y1=\"72.9688\" y2=\"72.9688\"/></a><!--MD5=[f6df4d0ebaf0b5dfb2ced0ae5af7c670]\n",
       "cluster E4--><a href=\"psysml:6f0477df-1982-4bef-bc4b-f3a5f459ca50\" target=\"_top\" title=\"psysml:6f0477df-1982-4bef-bc4b-f3a5f459ca50\" xlink:actuate=\"onRequest\" xlink:href=\"psysml:6f0477df-1982-4bef-bc4b-f3a5f459ca50\" xlink:show=\"new\" xlink:title=\"psysml:6f0477df-1982-4bef-bc4b-f3a5f459ca50\" xlink:type=\"simple\"><rect fill=\"#FFFFFF\" height=\"94\" id=\"E4\" rx=\"10\" ry=\"10\" style=\"stroke: #383838; stroke-width: 1.5;\" width=\"128\" x=\"597\" y=\"92\"/><rect fill=\"#F8F8F8\" height=\"23.9688\" rx=\"10\" ry=\"10\" style=\"stroke: #F8F8F8; stroke-width: 1.5;\" width=\"128\" x=\"597\" y=\"92\"/><rect fill=\"#F8F8F8\" height=\"10\" style=\"stroke: #F8F8F8; stroke-width: 1.5;\" width=\"128\" x=\"597\" y=\"105.9688\"/><rect fill=\"none\" height=\"94\" id=\"E4\" rx=\"10\" ry=\"10\" style=\"stroke: #383838; stroke-width: 1.5;\" width=\"128\" x=\"597\" y=\"92\"/><text fill=\"#000000\" font-family=\"sans-serif\" font-size=\"12\" lengthAdjust=\"spacingAndGlyphs\" textLength=\"24\" x=\"649\" y=\"108.1387\">eng</text><line style=\"stroke: #383838; stroke-width: 1.0;\" x1=\"597\" x2=\"725\" y1=\"115.9688\" y2=\"115.9688\"/></a><!--MD5=[14e3b0961a2654348d326746436168a1]\n",
       "cluster E6--><a href=\"psysml:39f29039-e97f-4cd7-a6e4-24de87290ff7\" target=\"_top\" title=\"psysml:39f29039-e97f-4cd7-a6e4-24de87290ff7\" xlink:actuate=\"onRequest\" xlink:href=\"psysml:39f29039-e97f-4cd7-a6e4-24de87290ff7\" xlink:show=\"new\" xlink:title=\"psysml:39f29039-e97f-4cd7-a6e4-24de87290ff7\" xlink:type=\"simple\"><rect fill=\"#FFFFFF\" height=\"94\" id=\"E6\" rx=\"10\" ry=\"10\" style=\"stroke: #383838; stroke-width: 1.5;\" width=\"128\" x=\"445\" y=\"92\"/><rect fill=\"#F8F8F8\" height=\"23.9688\" rx=\"10\" ry=\"10\" style=\"stroke: #F8F8F8; stroke-width: 1.5;\" width=\"128\" x=\"445\" y=\"92\"/><rect fill=\"#F8F8F8\" height=\"10\" style=\"stroke: #F8F8F8; stroke-width: 1.5;\" width=\"128\" x=\"445\" y=\"105.9688\"/><rect fill=\"none\" height=\"94\" id=\"E6\" rx=\"10\" ry=\"10\" style=\"stroke: #383838; stroke-width: 1.5;\" width=\"128\" x=\"445\" y=\"92\"/><text fill=\"#000000\" font-family=\"sans-serif\" font-size=\"12\" lengthAdjust=\"spacingAndGlyphs\" textLength=\"33\" x=\"492.5\" y=\"108.1387\">trans</text><line style=\"stroke: #383838; stroke-width: 1.0;\" x1=\"445\" x2=\"573\" y1=\"115.9688\" y2=\"115.9688\"/></a><g id=\"E1.E8\"><a href=\"psysml:5c4fc454-9680-413f-bf1a-bdf2f6cc06d5\" target=\"_top\" title=\"psysml:5c4fc454-9680-413f-bf1a-bdf2f6cc06d5\" xlink:actuate=\"onRequest\" xlink:href=\"psysml:5c4fc454-9680-413f-bf1a-bdf2f6cc06d5\" xlink:show=\"new\" xlink:title=\"psysml:5c4fc454-9680-413f-bf1a-bdf2f6cc06d5\" xlink:type=\"simple\"><rect fill=\"#FFFFFF\" height=\"42.9375\" id=\"E8\" style=\"stroke: #383838; stroke-width: 1.5;\" width=\"113\" x=\"180.5\" y=\"127\"/><rect fill=\"#F8F8F8\" height=\"37.9375\" style=\"stroke: #383838; stroke-width: 1.5;\" width=\"113\" x=\"180.5\" y=\"127\"/><text fill=\"#000000\" font-family=\"sans-serif\" font-size=\"12\" font-style=\"italic\" lengthAdjust=\"spacingAndGlyphs\" textLength=\"106\" x=\"184\" y=\"143.1387\">«calculation def»</text><text fill=\"#000000\" font-family=\"sans-serif\" font-size=\"12\" lengthAdjust=\"spacingAndGlyphs\" textLength=\"59\" x=\"207.5\" y=\"157.1074\">MassSum</text></a></g><g id=\"E1.E9\"><a href=\"psysml:83ce5d61-6771-4884-a571-d4d08f340672\" target=\"_top\" title=\"psysml:83ce5d61-6771-4884-a571-d4d08f340672\" xlink:actuate=\"onRequest\" xlink:href=\"psysml:83ce5d61-6771-4884-a571-d4d08f340672\" xlink:show=\"new\" xlink:title=\"psysml:83ce5d61-6771-4884-a571-d4d08f340672\" xlink:type=\"simple\"><rect fill=\"#FFFFFF\" height=\"42.9375\" id=\"E9\" style=\"stroke: #383838; stroke-width: 1.5;\" width=\"113\" x=\"32.5\" y=\"127\"/><rect fill=\"#F8F8F8\" height=\"37.9375\" style=\"stroke: #383838; stroke-width: 1.5;\" width=\"113\" x=\"32.5\" y=\"127\"/><text fill=\"#000000\" font-family=\"sans-serif\" font-size=\"12\" font-style=\"italic\" lengthAdjust=\"spacingAndGlyphs\" textLength=\"106\" x=\"36\" y=\"143.1387\">«calculation def»</text><text fill=\"#000000\" font-family=\"sans-serif\" font-size=\"12\" lengthAdjust=\"spacingAndGlyphs\" textLength=\"67\" x=\"55.5\" y=\"157.1074\">MassSum1</text></a></g><g id=\"E1.E2.E3\"><a href=\"psysml:14ff17ee-41c8-45bd-b867-b50857ad993c\" target=\"_top\" title=\"psysml:14ff17ee-41c8-45bd-b867-b50857ad993c\" xlink:actuate=\"onRequest\" xlink:href=\"psysml:14ff17ee-41c8-45bd-b867-b50857ad993c\" xlink:show=\"new\" xlink:title=\"psysml:14ff17ee-41c8-45bd-b867-b50857ad993c\" xlink:type=\"simple\"><rect fill=\"#FFFFFF\" height=\"42.9375\" id=\"E3\" rx=\"10\" ry=\"10\" style=\"stroke: #383838; stroke-width: 1.5;\" width=\"97\" x=\"328.5\" y=\"127\"/><rect fill=\"#F8F8F8\" height=\"37.9375\" rx=\"10\" ry=\"10\" style=\"stroke: #F8F8F8; stroke-width: 1.5;\" width=\"97\" x=\"328.5\" y=\"127\"/><rect fill=\"#F8F8F8\" height=\"10\" style=\"stroke: #F8F8F8; stroke-width: 1.5;\" width=\"97\" x=\"328.5\" y=\"154.9375\"/><rect fill=\"none\" height=\"42.9375\" id=\"E3\" rx=\"10\" ry=\"10\" style=\"stroke: #383838; stroke-width: 1.5;\" width=\"97\" x=\"328.5\" y=\"127\"/><text fill=\"#000000\" font-family=\"sans-serif\" font-size=\"12\" font-style=\"italic\" lengthAdjust=\"spacingAndGlyphs\" textLength=\"69\" x=\"342.5\" y=\"143.1387\">«attribute»</text><text fill=\"#000000\" font-family=\"sans-serif\" font-size=\"12\" lengthAdjust=\"spacingAndGlyphs\" textLength=\"86\" x=\"334\" y=\"157.1074\">m: MassValue</text></a></g><g id=\"E1.E2.E4.E5\"><a href=\"psysml:74b360a2-1898-4ab2-8a14-bf87d0706240\" target=\"_top\" title=\"psysml:74b360a2-1898-4ab2-8a14-bf87d0706240\" xlink:actuate=\"onRequest\" xlink:href=\"psysml:74b360a2-1898-4ab2-8a14-bf87d0706240\" xlink:show=\"new\" xlink:title=\"psysml:74b360a2-1898-4ab2-8a14-bf87d0706240\" xlink:type=\"simple\"><rect fill=\"#FFFFFF\" height=\"42.9375\" id=\"E5\" rx=\"10\" ry=\"10\" style=\"stroke: #383838; stroke-width: 1.5;\" width=\"97\" x=\"612.5\" y=\"127\"/><rect fill=\"#F8F8F8\" height=\"37.9375\" rx=\"10\" ry=\"10\" style=\"stroke: #F8F8F8; stroke-width: 1.5;\" width=\"97\" x=\"612.5\" y=\"127\"/><rect fill=\"#F8F8F8\" height=\"10\" style=\"stroke: #F8F8F8; stroke-width: 1.5;\" width=\"97\" x=\"612.5\" y=\"154.9375\"/><rect fill=\"none\" height=\"42.9375\" id=\"E5\" rx=\"10\" ry=\"10\" style=\"stroke: #383838; stroke-width: 1.5;\" width=\"97\" x=\"612.5\" y=\"127\"/><text fill=\"#000000\" font-family=\"sans-serif\" font-size=\"12\" font-style=\"italic\" lengthAdjust=\"spacingAndGlyphs\" textLength=\"69\" x=\"626.5\" y=\"143.1387\">«attribute»</text><text fill=\"#000000\" font-family=\"sans-serif\" font-size=\"12\" lengthAdjust=\"spacingAndGlyphs\" textLength=\"86\" x=\"618\" y=\"157.1074\">m: MassValue</text></a></g><g id=\"E1.E2.E6.E7\"><a href=\"psysml:21104dbc-631a-485d-ad70-3d921fae82b5\" target=\"_top\" title=\"psysml:21104dbc-631a-485d-ad70-3d921fae82b5\" xlink:actuate=\"onRequest\" xlink:href=\"psysml:21104dbc-631a-485d-ad70-3d921fae82b5\" xlink:show=\"new\" xlink:title=\"psysml:21104dbc-631a-485d-ad70-3d921fae82b5\" xlink:type=\"simple\"><rect fill=\"#FFFFFF\" height=\"42.9375\" id=\"E7\" rx=\"10\" ry=\"10\" style=\"stroke: #383838; stroke-width: 1.5;\" width=\"97\" x=\"460.5\" y=\"127\"/><rect fill=\"#F8F8F8\" height=\"37.9375\" rx=\"10\" ry=\"10\" style=\"stroke: #F8F8F8; stroke-width: 1.5;\" width=\"97\" x=\"460.5\" y=\"127\"/><rect fill=\"#F8F8F8\" height=\"10\" style=\"stroke: #F8F8F8; stroke-width: 1.5;\" width=\"97\" x=\"460.5\" y=\"154.9375\"/><rect fill=\"none\" height=\"42.9375\" id=\"E7\" rx=\"10\" ry=\"10\" style=\"stroke: #383838; stroke-width: 1.5;\" width=\"97\" x=\"460.5\" y=\"127\"/><text fill=\"#000000\" font-family=\"sans-serif\" font-size=\"12\" font-style=\"italic\" lengthAdjust=\"spacingAndGlyphs\" textLength=\"69\" x=\"474.5\" y=\"143.1387\">«attribute»</text><text fill=\"#000000\" font-family=\"sans-serif\" font-size=\"12\" lengthAdjust=\"spacingAndGlyphs\" textLength=\"86\" x=\"466\" y=\"157.1074\">m: MassValue</text></a></g><!--MD5=[d49a827c7334a4b4e6a7b1bbb2f21e38]\n",
       "@startuml\r\n",
       "skinparam ranksep 8\r\n",
       "skinparam rectangle {\r\n",
       " backgroundColor<<block>> LightGreen\r\n",
       "}\r\n",
       "skinparam linetype ortho\r\n",
       "skinparam monochrome true\r\n",
       "skinparam classbackgroundcolor white\r\n",
       "skinparam shadowing false\r\n",
       "skinparam wrapWidth 300\r\n",
       "hide circle\r\n",
       "\r\n",
       "package \"CalculationExample\" as E1  [[psysml:279b101a-ad7c-43dd-8a07-da5fe5802bed ]]  {\r\n",
       "rec usage \"vehicle\" as E2  [[psysml:3dfd6fc9-2012-44ec-8abc-b458a2efa8ee ]] {\r\n",
       "rec usage \"m: MassValue\" as E3  <<(T,blue)attribute>> [[psysml:14ff17ee-41c8-45bd-b867-b50857ad993c ]] {\r\n",
       "}\r\n",
       "rec usage \"eng\" as E4  [[psysml:6f0477df-1982-4bef-bc4b-f3a5f459ca50 ]] {\r\n",
       "rec usage \"m: MassValue\" as E5  <<(T,blue)attribute>> [[psysml:74b360a2-1898-4ab2-8a14-bf87d0706240 ]] {\r\n",
       "}\r\n",
       "}\r\n",
       "rec usage \"trans\" as E6  [[psysml:39f29039-e97f-4cd7-a6e4-24de87290ff7 ]] {\r\n",
       "rec usage \"m: MassValue\" as E7  <<(T,blue)attribute>> [[psysml:21104dbc-631a-485d-ad70-3d921fae82b5 ]] {\r\n",
       "}\r\n",
       "}\r\n",
       "}\r\n",
       "def \"MassSum\" as E8  <<(T,blue)calculation def>> [[psysml:5c4fc454-9680-413f-bf1a-bdf2f6cc06d5 ]] \r\n",
       "def \"MassSum1\" as E9  <<(T,blue)calculation def>> [[psysml:83ce5d61-6771-4884-a571-d4d08f340672 ]] \r\n",
       "}\r\n",
       "@enduml\r\n",
       "\n",
       "PlantUML version 1.2020.13(Sat Jun 13 12:26:38 UTC 2020)\n",
       "(EPL source distribution)\n",
       "Java Runtime: OpenJDK Runtime Environment\n",
       "JVM: OpenJDK 64-Bit Server VM\n",
       "Default Encoding: UTF-8\n",
       "Language: en\n",
       "Country: null\n",
       "--></g></svg>"
      ]
     },
     "execution_count": 54,
     "metadata": {},
     "output_type": "execute_result"
    }
   ],
   "source": [
    "%viz --style=\"ORTHOLINE\" --view=\"Interconnection\" \"CalculationExample\""
   ]
  },
  {
   "cell_type": "code",
   "execution_count": 55,
   "id": "mediterranean-choice",
   "metadata": {
    "execution": {
     "iopub.execute_input": "2021-03-26T13:05:09.730877Z",
     "iopub.status.busy": "2021-03-26T13:05:09.729828Z",
     "iopub.status.idle": "2021-03-26T13:05:09.769928Z",
     "shell.execute_reply": "2021-03-26T13:05:09.768653Z"
    }
   },
   "outputs": [
    {
     "data": {
      "image/svg+xml": [
       "<?xml version=\"1.0\" encoding=\"UTF-8\" standalone=\"no\"?><svg xmlns=\"http://www.w3.org/2000/svg\" xmlns:xlink=\"http://www.w3.org/1999/xlink\" contentScriptType=\"application/ecmascript\" contentStyleType=\"text/css\" height=\"162px\" preserveAspectRatio=\"none\" style=\"width:676px;height:162px;\" version=\"1.1\" viewBox=\"0 0 676 162\" width=\"676px\" zoomAndPan=\"magnify\"><defs/><g><!--MD5=[fbc87193dbaf4d95561dea2c320d4a47]\n",
       "cluster E1--><a href=\"psysml:5c4fc454-9680-413f-bf1a-bdf2f6cc06d5\" target=\"_top\" title=\"psysml:5c4fc454-9680-413f-bf1a-bdf2f6cc06d5\" xlink:actuate=\"onRequest\" xlink:href=\"psysml:5c4fc454-9680-413f-bf1a-bdf2f6cc06d5\" xlink:show=\"new\" xlink:title=\"psysml:5c4fc454-9680-413f-bf1a-bdf2f6cc06d5\" xlink:type=\"simple\"><rect fill=\"#FFFFFF\" height=\"87.72\" id=\"E1\" style=\"stroke: #383838; stroke-width: 1.5;\" width=\"128\" x=\"28\" y=\"42.0986\"/><rect fill=\"#F8F8F8\" height=\"37.9375\" style=\"stroke: #383838; stroke-width: 1.5;\" width=\"128\" x=\"28\" y=\"42.0986\"/><text fill=\"#000000\" font-family=\"sans-serif\" font-size=\"12\" font-style=\"italic\" lengthAdjust=\"spacingAndGlyphs\" textLength=\"106\" x=\"39\" y=\"58.2373\">«calculation def»</text><text fill=\"#000000\" font-family=\"sans-serif\" font-size=\"12\" lengthAdjust=\"spacingAndGlyphs\" textLength=\"59\" x=\"62.5\" y=\"72.2061\">MassSum</text></a><!--MD5=[14e3b0961a2654348d326746436168a1]\n",
       "cluster E6--><a href=\"psysml:20e483d0-a5a0-4777-bc7f-caa19ca2a7e0\" target=\"_top\" title=\"psysml:20e483d0-a5a0-4777-bc7f-caa19ca2a7e0\" xlink:actuate=\"onRequest\" xlink:href=\"psysml:20e483d0-a5a0-4777-bc7f-caa19ca2a7e0\" xlink:show=\"new\" xlink:title=\"psysml:20e483d0-a5a0-4777-bc7f-caa19ca2a7e0\" xlink:type=\"simple\"><rect fill=\"#FFFFFF\" height=\"87.72\" id=\"E6\" rx=\"10\" ry=\"10\" style=\"stroke: #383838; stroke-width: 1.5;\" width=\"101\" x=\"251.75\" y=\"42.0986\"/><rect fill=\"#F8F8F8\" height=\"37.9375\" rx=\"10\" ry=\"10\" style=\"stroke: #F8F8F8; stroke-width: 1.5;\" width=\"101\" x=\"251.75\" y=\"42.0986\"/><rect fill=\"#F8F8F8\" height=\"10\" style=\"stroke: #F8F8F8; stroke-width: 1.5;\" width=\"101\" x=\"251.75\" y=\"70.0361\"/><rect fill=\"none\" height=\"87.72\" id=\"E6\" rx=\"10\" ry=\"10\" style=\"stroke: #383838; stroke-width: 1.5;\" width=\"101\" x=\"251.75\" y=\"42.0986\"/><text fill=\"#000000\" font-family=\"sans-serif\" font-size=\"12\" font-style=\"italic\" lengthAdjust=\"spacingAndGlyphs\" textLength=\"82\" x=\"261.25\" y=\"58.2373\">«calculation»</text><text fill=\"#000000\" font-family=\"sans-serif\" font-size=\"12\" lengthAdjust=\"spacingAndGlyphs\" textLength=\"18\" x=\"293.25\" y=\"72.2061\">ms</text><line style=\"stroke: #383838; stroke-width: 1.0;\" x1=\"251.75\" x2=\"352.75\" y1=\"80.0361\" y2=\"80.0361\"/></a><!--MD5=[7f149f147074ac12df2cb0a7728a5fb0]\n",
       "cluster E9--><a href=\"psysml:83ce5d61-6771-4884-a571-d4d08f340672\" target=\"_top\" title=\"psysml:83ce5d61-6771-4884-a571-d4d08f340672\" xlink:actuate=\"onRequest\" xlink:href=\"psysml:83ce5d61-6771-4884-a571-d4d08f340672\" xlink:show=\"new\" xlink:title=\"psysml:83ce5d61-6771-4884-a571-d4d08f340672\" xlink:type=\"simple\"><rect fill=\"#FFFFFF\" height=\"87.72\" id=\"E9\" style=\"stroke: #383838; stroke-width: 1.5;\" width=\"127\" x=\"410.25\" y=\"42.0986\"/><rect fill=\"#F8F8F8\" height=\"37.9375\" style=\"stroke: #383838; stroke-width: 1.5;\" width=\"127\" x=\"410.25\" y=\"42.0986\"/><text fill=\"#000000\" font-family=\"sans-serif\" font-size=\"12\" font-style=\"italic\" lengthAdjust=\"spacingAndGlyphs\" textLength=\"106\" x=\"420.75\" y=\"58.2373\">«calculation def»</text><text fill=\"#000000\" font-family=\"sans-serif\" font-size=\"12\" lengthAdjust=\"spacingAndGlyphs\" textLength=\"67\" x=\"440.25\" y=\"72.2061\">MassSum1</text></a><!--MD5=[47bea60c1a0ac6c1143df232041969c0]\n",
       "cluster E12--><a href=\"psysml:3aa3b647-0159-4a96-9fb7-94bd79c90754\" target=\"_top\" title=\"psysml:3aa3b647-0159-4a96-9fb7-94bd79c90754\" xlink:actuate=\"onRequest\" xlink:href=\"psysml:3aa3b647-0159-4a96-9fb7-94bd79c90754\" xlink:show=\"new\" xlink:title=\"psysml:3aa3b647-0159-4a96-9fb7-94bd79c90754\" xlink:type=\"simple\"><rect fill=\"#FFFFFF\" height=\"87.72\" id=\"E12\" rx=\"10\" ry=\"10\" style=\"stroke: #383838; stroke-width: 1.5;\" width=\"138\" x=\"526\" y=\"42.0986\"/><rect fill=\"#F8F8F8\" height=\"37.9375\" rx=\"10\" ry=\"10\" style=\"stroke: #F8F8F8; stroke-width: 1.5;\" width=\"138\" x=\"526\" y=\"42.0986\"/><rect fill=\"#F8F8F8\" height=\"10\" style=\"stroke: #F8F8F8; stroke-width: 1.5;\" width=\"138\" x=\"526\" y=\"70.0361\"/><rect fill=\"none\" height=\"87.72\" id=\"E12\" rx=\"10\" ry=\"10\" style=\"stroke: #383838; stroke-width: 1.5;\" width=\"138\" x=\"526\" y=\"42.0986\"/><text fill=\"#000000\" font-family=\"sans-serif\" font-size=\"12\" font-style=\"italic\" lengthAdjust=\"spacingAndGlyphs\" textLength=\"82\" x=\"554\" y=\"58.2373\">«calculation»</text><text fill=\"#000000\" font-family=\"sans-serif\" font-size=\"12\" lengthAdjust=\"spacingAndGlyphs\" textLength=\"26\" x=\"582\" y=\"72.2061\">ms1</text><line style=\"stroke: #383838; stroke-width: 1.0;\" x1=\"526\" x2=\"664\" y1=\"80.0361\" y2=\"80.0361\"/></a><text fill=\"#000000\" font-family=\"sans-serif\" font-size=\"14\" lengthAdjust=\"spacingAndGlyphs\" textLength=\"80\" x=\"6\" y=\"20.7969\">partMasses</text><rect fill=\"#383838\" height=\"12\" style=\"stroke: #F8F8F8; stroke-width: 1.5;\" width=\"12\" x=\"40\" y=\"36.0986\"/><text fill=\"#000000\" font-family=\"sans-serif\" font-size=\"14\" lengthAdjust=\"spacingAndGlyphs\" textLength=\"66\" x=\"54\" y=\"148.8138\">totalMass</text><rect fill=\"#383838\" height=\"12\" style=\"stroke: #F8F8F8; stroke-width: 1.5;\" width=\"12\" x=\"81\" y=\"123.8186\"/><text fill=\"#000000\" font-family=\"sans-serif\" font-size=\"14\" lengthAdjust=\"spacingAndGlyphs\" textLength=\"75\" x=\"100.5\" y=\"20.7969\">$collection</text><rect fill=\"#383838\" height=\"12\" style=\"stroke: #F8F8F8; stroke-width: 1.5;\" width=\"12\" x=\"132\" y=\"36.0986\"/><text fill=\"#000000\" font-family=\"sans-serif\" font-size=\"14\" lengthAdjust=\"spacingAndGlyphs\" textLength=\"48\" x=\"110\" y=\"148.8138\">$result</text><rect fill=\"#383838\" height=\"12\" style=\"stroke: #F8F8F8; stroke-width: 1.5;\" width=\"12\" x=\"128\" y=\"123.8186\"/><text fill=\"#000000\" font-family=\"sans-serif\" font-size=\"14\" lengthAdjust=\"spacingAndGlyphs\" textLength=\"80\" x=\"235\" y=\"20.7969\">partMasses</text><rect fill=\"#383838\" height=\"12\" style=\"stroke: #F8F8F8; stroke-width: 1.5;\" width=\"12\" x=\"269\" y=\"36.0986\"/><text fill=\"#000000\" font-family=\"sans-serif\" font-size=\"14\" lengthAdjust=\"spacingAndGlyphs\" textLength=\"66\" x=\"238\" y=\"148.8138\">totalMass</text><rect fill=\"#383838\" height=\"12\" style=\"stroke: #F8F8F8; stroke-width: 1.5;\" width=\"12\" x=\"265\" y=\"123.8186\"/><text fill=\"#000000\" font-family=\"sans-serif\" font-size=\"14\" lengthAdjust=\"spacingAndGlyphs\" textLength=\"80\" x=\"395\" y=\"20.7969\">partMasses</text><rect fill=\"#383838\" height=\"12\" style=\"stroke: #F8F8F8; stroke-width: 1.5;\" width=\"12\" x=\"429\" y=\"36.0986\"/><text fill=\"#000000\" font-family=\"sans-serif\" font-size=\"14\" lengthAdjust=\"spacingAndGlyphs\" textLength=\"66\" x=\"398\" y=\"148.8138\">totalMass</text><rect fill=\"#383838\" height=\"12\" style=\"stroke: #F8F8F8; stroke-width: 1.5;\" width=\"12\" x=\"425\" y=\"123.8186\"/><text fill=\"#000000\" font-family=\"sans-serif\" font-size=\"14\" lengthAdjust=\"spacingAndGlyphs\" textLength=\"80\" x=\"555\" y=\"20.7969\">partMasses</text><rect fill=\"#383838\" height=\"12\" style=\"stroke: #F8F8F8; stroke-width: 1.5;\" width=\"12\" x=\"589\" y=\"36.0986\"/><text fill=\"#000000\" font-family=\"sans-serif\" font-size=\"14\" lengthAdjust=\"spacingAndGlyphs\" textLength=\"66\" x=\"562\" y=\"148.8138\">totalMass</text><rect fill=\"#383838\" height=\"12\" style=\"stroke: #F8F8F8; stroke-width: 1.5;\" width=\"12\" x=\"589\" y=\"123.8186\"/><!--MD5=[ee54b6368c015df3d36393c54b1bd0ca]\n",
       "@startuml\r\n",
       "skinparam ranksep 8\r\n",
       "skinparam linetype ortho\r\n",
       "skinparam monochrome true\r\n",
       "skinparam classbackgroundcolor white\r\n",
       "skinparam shadowing false\r\n",
       "skinparam wrapWidth 300\r\n",
       "hide circle\r\n",
       "\r\n",
       "rec def \"MassSum\" as E1  <<(T,blue)calculation def>> [[psysml:5c4fc454-9680-413f-bf1a-bdf2f6cc06d5 ]] {\r\n",
       "portin \"partMasses\" as E2  [[psysml:57eaefe4-a57c-41fa-a944-033dc3e4df4e ]] \r\n",
       "portout \"totalMass\" as E3  [[psysml:35e88aae-ee13-4c55-bc31-272528607619 ]] \r\n",
       "portin \"$collection\" as E4  [[psysml:0e9b074a-52f0-467d-9ed6-1e247226bb71 ]] \r\n",
       "portout \"$result\" as E5  [[psysml:66242f20-bf9b-4b2d-900e-be3ce4c10d7e ]] \r\n",
       "}\r\n",
       "\r\n",
       "rec usage \"ms\" as E6  <<(T,blue)calculation>> [[psysml:20e483d0-a5a0-4777-bc7f-caa19ca2a7e0 ]] {\r\n",
       "portin \"partMasses\" as E7  [[psysml:61916027-7c4f-412f-9b89-438222569e79 ]] \r\n",
       "portout \"totalMass\" as E8  [[psysml:1b43c6aa-09b4-4e05-b4e4-873331fee78b ]] \r\n",
       "}\r\n",
       "\r\n",
       "rec def \"MassSum1\" as E9  <<(T,blue)calculation def>> [[psysml:83ce5d61-6771-4884-a571-d4d08f340672 ]] {\r\n",
       "portin \"partMasses\" as E10  [[psysml:0924d9a5-fc11-4345-935d-e5ff08c51a6a ]] \r\n",
       "portout \"totalMass\" as E11  [[psysml:b7c67a6a-5db6-4529-b3d9-f9fb47dc5f0c ]] \r\n",
       "}\r\n",
       "\r\n",
       "rec usage \"ms1\" as E12  <<(T,blue)calculation>> [[psysml:3aa3b647-0159-4a96-9fb7-94bd79c90754 ]] {\r\n",
       "portin \"partMasses\" as E13  [[psysml:d0b5b203-3fa8-4960-85f8-af6511da8b47 ]] \r\n",
       "portout \"totalMass\" as E14  [[psysml:7deb5e16-d6a2-4c83-9234-29097012e327 ]] \r\n",
       "}\r\n",
       "\r\n",
       "@enduml\r\n",
       "\n",
       "PlantUML version 1.2020.13(Sat Jun 13 12:26:38 UTC 2020)\n",
       "(EPL source distribution)\n",
       "Java Runtime: OpenJDK Runtime Environment\n",
       "JVM: OpenJDK 64-Bit Server VM\n",
       "Default Encoding: UTF-8\n",
       "Language: en\n",
       "Country: null\n",
       "--></g></svg>"
      ]
     },
     "execution_count": 55,
     "metadata": {},
     "output_type": "execute_result"
    }
   ],
   "source": [
    "%viz --style=\"ORTHOLINE\" --view=\"Action\" \"CalculationExample\""
   ]
  },
  {
   "cell_type": "code",
   "execution_count": 56,
   "id": "painful-paint",
   "metadata": {
    "execution": {
     "iopub.execute_input": "2021-03-26T13:05:09.820595Z",
     "iopub.status.busy": "2021-03-26T13:05:09.820118Z",
     "iopub.status.idle": "2021-03-26T13:05:09.908703Z",
     "shell.execute_reply": "2021-03-26T13:05:09.907177Z"
    }
   },
   "outputs": [
    {
     "data": {
      "image/svg+xml": [
       "<?xml version=\"1.0\" encoding=\"UTF-8\" standalone=\"no\"?><svg xmlns=\"http://www.w3.org/2000/svg\" xmlns:xlink=\"http://www.w3.org/1999/xlink\" contentScriptType=\"application/ecmascript\" contentStyleType=\"text/css\" height=\"293px\" preserveAspectRatio=\"none\" style=\"width:607px;height:293px;\" version=\"1.1\" viewBox=\"0 0 607 293\" width=\"607px\" zoomAndPan=\"magnify\"><defs/><g><!--MD5=[fbc87193dbaf4d95561dea2c320d4a47]\n",
       "cluster E1--><a href=\"psysml:279b101a-ad7c-43dd-8a07-da5fe5802bed\" target=\"_top\" title=\"psysml:279b101a-ad7c-43dd-8a07-da5fe5802bed\" xlink:actuate=\"onRequest\" xlink:href=\"psysml:279b101a-ad7c-43dd-8a07-da5fe5802bed\" xlink:show=\"new\" xlink:title=\"psysml:279b101a-ad7c-43dd-8a07-da5fe5802bed\" xlink:type=\"simple\"><polygon fill=\"#FFFFFF\" points=\"16,6,173,6,180,28.2969,585,28.2969,585,281,16,281,16,6\" style=\"stroke: #000000; stroke-width: 1.5;\"/><line style=\"stroke: #000000; stroke-width: 1.5;\" x1=\"16\" x2=\"180\" y1=\"28.2969\" y2=\"28.2969\"/><text fill=\"#000000\" font-family=\"sans-serif\" font-size=\"14\" font-weight=\"bold\" lengthAdjust=\"spacingAndGlyphs\" textLength=\"151\" x=\"20\" y=\"20.9951\">CalculationExample</text></a><!--MD5=[b4997ac47864f28c2f74865a473b2911]\n",
       "class E2--><a href=\"psysml:3dfd6fc9-2012-44ec-8abc-b458a2efa8ee\" target=\"_top\" title=\"psysml:3dfd6fc9-2012-44ec-8abc-b458a2efa8ee\" xlink:actuate=\"onRequest\" xlink:href=\"psysml:3dfd6fc9-2012-44ec-8abc-b458a2efa8ee\" xlink:show=\"new\" xlink:title=\"psysml:3dfd6fc9-2012-44ec-8abc-b458a2efa8ee\" xlink:type=\"simple\"><rect fill=\"#FFFFFF\" height=\"75.5469\" id=\"E2\" rx=\"10\" ry=\"10\" style=\"stroke: #383838; stroke-width: 1.5;\" width=\"92\" x=\"477\" y=\"47\"/><text fill=\"#000000\" font-family=\"sans-serif\" font-size=\"12\" font-style=\"italic\" lengthAdjust=\"spacingAndGlyphs\" textLength=\"40\" x=\"503\" y=\"63.1387\">«part»</text><text fill=\"#000000\" font-family=\"sans-serif\" font-size=\"12\" lengthAdjust=\"spacingAndGlyphs\" textLength=\"43\" x=\"501.5\" y=\"77.1074\">vehicle</text><line style=\"stroke: #383838; stroke-width: 1.5;\" x1=\"478\" x2=\"568\" y1=\"84.9375\" y2=\"84.9375\"/><text fill=\"#000000\" font-family=\"sans-serif\" font-size=\"11\" lengthAdjust=\"spacingAndGlyphs\" textLength=\"80\" x=\"483\" y=\"115.9526\">m: MassValue</text><line style=\"stroke: #383838; stroke-width: 1.0;\" x1=\"478\" x2=\"495.5\" y1=\"99.3398\" y2=\"99.3398\"/><text fill=\"#000000\" font-family=\"sans-serif\" font-size=\"11\" lengthAdjust=\"spacingAndGlyphs\" textLength=\"55\" x=\"495.5\" y=\"102.6479\">attributes</text><line style=\"stroke: #383838; stroke-width: 1.0;\" x1=\"550.5\" x2=\"568\" y1=\"99.3398\" y2=\"99.3398\"/></a><!--MD5=[09b614a08d8cba4a07c9adeb5e0fee81]\n",
       "class E3--><a href=\"psysml:6f0477df-1982-4bef-bc4b-f3a5f459ca50\" target=\"_top\" title=\"psysml:6f0477df-1982-4bef-bc4b-f3a5f459ca50\" xlink:actuate=\"onRequest\" xlink:href=\"psysml:6f0477df-1982-4bef-bc4b-f3a5f459ca50\" xlink:show=\"new\" xlink:title=\"psysml:6f0477df-1982-4bef-bc4b-f3a5f459ca50\" xlink:type=\"simple\"><rect fill=\"#FFFFFF\" height=\"75.5469\" id=\"E3\" rx=\"10\" ry=\"10\" style=\"stroke: #383838; stroke-width: 1.5;\" width=\"92\" x=\"350\" y=\"189\"/><text fill=\"#000000\" font-family=\"sans-serif\" font-size=\"12\" font-style=\"italic\" lengthAdjust=\"spacingAndGlyphs\" textLength=\"40\" x=\"376\" y=\"205.1387\">«part»</text><text fill=\"#000000\" font-family=\"sans-serif\" font-size=\"12\" lengthAdjust=\"spacingAndGlyphs\" textLength=\"24\" x=\"384\" y=\"219.1074\">eng</text><line style=\"stroke: #383838; stroke-width: 1.5;\" x1=\"351\" x2=\"441\" y1=\"226.9375\" y2=\"226.9375\"/><text fill=\"#000000\" font-family=\"sans-serif\" font-size=\"11\" lengthAdjust=\"spacingAndGlyphs\" textLength=\"80\" x=\"356\" y=\"257.9526\">m: MassValue</text><line style=\"stroke: #383838; stroke-width: 1.0;\" x1=\"351\" x2=\"368.5\" y1=\"241.3398\" y2=\"241.3398\"/><text fill=\"#000000\" font-family=\"sans-serif\" font-size=\"11\" lengthAdjust=\"spacingAndGlyphs\" textLength=\"55\" x=\"368.5\" y=\"244.6479\">attributes</text><line style=\"stroke: #383838; stroke-width: 1.0;\" x1=\"423.5\" x2=\"441\" y1=\"241.3398\" y2=\"241.3398\"/></a><!--MD5=[ebbe1d658d1005bcc118a6aa81145e00]\n",
       "class E4--><a href=\"psysml:39f29039-e97f-4cd7-a6e4-24de87290ff7\" target=\"_top\" title=\"psysml:39f29039-e97f-4cd7-a6e4-24de87290ff7\" xlink:actuate=\"onRequest\" xlink:href=\"psysml:39f29039-e97f-4cd7-a6e4-24de87290ff7\" xlink:show=\"new\" xlink:title=\"psysml:39f29039-e97f-4cd7-a6e4-24de87290ff7\" xlink:type=\"simple\"><rect fill=\"#FFFFFF\" height=\"75.5469\" id=\"E4\" rx=\"10\" ry=\"10\" style=\"stroke: #383838; stroke-width: 1.5;\" width=\"92\" x=\"477\" y=\"189\"/><text fill=\"#000000\" font-family=\"sans-serif\" font-size=\"12\" font-style=\"italic\" lengthAdjust=\"spacingAndGlyphs\" textLength=\"40\" x=\"503\" y=\"205.1387\">«part»</text><text fill=\"#000000\" font-family=\"sans-serif\" font-size=\"12\" lengthAdjust=\"spacingAndGlyphs\" textLength=\"33\" x=\"506.5\" y=\"219.1074\">trans</text><line style=\"stroke: #383838; stroke-width: 1.5;\" x1=\"478\" x2=\"568\" y1=\"226.9375\" y2=\"226.9375\"/><text fill=\"#000000\" font-family=\"sans-serif\" font-size=\"11\" lengthAdjust=\"spacingAndGlyphs\" textLength=\"80\" x=\"483\" y=\"257.9526\">m: MassValue</text><line style=\"stroke: #383838; stroke-width: 1.0;\" x1=\"478\" x2=\"495.5\" y1=\"241.3398\" y2=\"241.3398\"/><text fill=\"#000000\" font-family=\"sans-serif\" font-size=\"11\" lengthAdjust=\"spacingAndGlyphs\" textLength=\"55\" x=\"495.5\" y=\"244.6479\">attributes</text><line style=\"stroke: #383838; stroke-width: 1.0;\" x1=\"550.5\" x2=\"568\" y1=\"241.3398\" y2=\"241.3398\"/></a><!--MD5=[270fce915f116d4de14055a7c1d9a0f3]\n",
       "class E5--><a href=\"psysml:5c4fc454-9680-413f-bf1a-bdf2f6cc06d5\" target=\"_top\" title=\"psysml:5c4fc454-9680-413f-bf1a-bdf2f6cc06d5\" xlink:actuate=\"onRequest\" xlink:href=\"psysml:5c4fc454-9680-413f-bf1a-bdf2f6cc06d5\" xlink:show=\"new\" xlink:title=\"psysml:5c4fc454-9680-413f-bf1a-bdf2f6cc06d5\" xlink:type=\"simple\"><rect fill=\"#FFFFFF\" height=\"45.9375\" id=\"E5\" style=\"stroke: #383838; stroke-width: 1.5;\" width=\"108\" x=\"120\" y=\"204\"/><text fill=\"#000000\" font-family=\"sans-serif\" font-size=\"12\" font-style=\"italic\" lengthAdjust=\"spacingAndGlyphs\" textLength=\"106\" x=\"121\" y=\"220.1387\">«calculation def»</text><text fill=\"#000000\" font-family=\"sans-serif\" font-size=\"12\" lengthAdjust=\"spacingAndGlyphs\" textLength=\"59\" x=\"144.5\" y=\"234.1074\">MassSum</text><line style=\"stroke: #383838; stroke-width: 1.5;\" x1=\"121\" x2=\"227\" y1=\"241.9375\" y2=\"241.9375\"/></a><!--MD5=[60a26617385b1d2d0262a64233df1f8d]\n",
       "class E6--><a href=\"psysml:20e483d0-a5a0-4777-bc7f-caa19ca2a7e0\" target=\"_top\" title=\"psysml:20e483d0-a5a0-4777-bc7f-caa19ca2a7e0\" xlink:actuate=\"onRequest\" xlink:href=\"psysml:20e483d0-a5a0-4777-bc7f-caa19ca2a7e0\" xlink:show=\"new\" xlink:title=\"psysml:20e483d0-a5a0-4777-bc7f-caa19ca2a7e0\" xlink:type=\"simple\"><rect fill=\"#FFFFFF\" height=\"45.9375\" id=\"E6\" rx=\"10\" ry=\"10\" style=\"stroke: #383838; stroke-width: 1.5;\" width=\"91\" x=\"350.5\" y=\"62\"/><text fill=\"#000000\" font-family=\"sans-serif\" font-size=\"12\" font-style=\"italic\" lengthAdjust=\"spacingAndGlyphs\" textLength=\"82\" x=\"355\" y=\"78.1387\">«calculation»</text><text fill=\"#000000\" font-family=\"sans-serif\" font-size=\"12\" lengthAdjust=\"spacingAndGlyphs\" textLength=\"85\" x=\"353.5\" y=\"92.1074\">ms: MassSum</text><line style=\"stroke: #383838; stroke-width: 1.5;\" x1=\"351.5\" x2=\"440.5\" y1=\"99.9375\" y2=\"99.9375\"/></a><!--MD5=[2156ba9850f5573cc1fc38a6a4b2f02b]\n",
       "class E7--><a href=\"psysml:83ce5d61-6771-4884-a571-d4d08f340672\" target=\"_top\" title=\"psysml:83ce5d61-6771-4884-a571-d4d08f340672\" xlink:actuate=\"onRequest\" xlink:href=\"psysml:83ce5d61-6771-4884-a571-d4d08f340672\" xlink:show=\"new\" xlink:title=\"psysml:83ce5d61-6771-4884-a571-d4d08f340672\" xlink:type=\"simple\"><rect fill=\"#FFFFFF\" height=\"88.3516\" id=\"E7\" style=\"stroke: #383838; stroke-width: 1.5;\" width=\"148\" x=\"167\" y=\"41\"/><text fill=\"#000000\" font-family=\"sans-serif\" font-size=\"12\" font-style=\"italic\" lengthAdjust=\"spacingAndGlyphs\" textLength=\"106\" x=\"188\" y=\"57.1387\">«calculation def»</text><text fill=\"#000000\" font-family=\"sans-serif\" font-size=\"12\" lengthAdjust=\"spacingAndGlyphs\" textLength=\"67\" x=\"207.5\" y=\"71.1074\">MassSum1</text><line style=\"stroke: #383838; stroke-width: 1.5;\" x1=\"168\" x2=\"314\" y1=\"78.9375\" y2=\"78.9375\"/><text fill=\"#000000\" font-family=\"sans-serif\" font-size=\"11\" lengthAdjust=\"spacingAndGlyphs\" textLength=\"136\" x=\"173\" y=\"109.9526\">partMasses: MassValue</text><text fill=\"#000000\" font-family=\"sans-serif\" font-size=\"11\" lengthAdjust=\"spacingAndGlyphs\" textLength=\"124\" x=\"173\" y=\"122.7573\">totalMass: MassValue</text><line style=\"stroke: #383838; stroke-width: 1.0;\" x1=\"168\" x2=\"213.5\" y1=\"93.3398\" y2=\"93.3398\"/><text fill=\"#000000\" font-family=\"sans-serif\" font-size=\"11\" lengthAdjust=\"spacingAndGlyphs\" textLength=\"55\" x=\"213.5\" y=\"96.6479\">attributes</text><line style=\"stroke: #383838; stroke-width: 1.0;\" x1=\"268.5\" x2=\"314\" y1=\"93.3398\" y2=\"93.3398\"/></a><!--MD5=[b9389687b975829384b498ac4b7476b2]\n",
       "class E8--><a href=\"psysml:3aa3b647-0159-4a96-9fb7-94bd79c90754\" target=\"_top\" title=\"psysml:3aa3b647-0159-4a96-9fb7-94bd79c90754\" xlink:actuate=\"onRequest\" xlink:href=\"psysml:3aa3b647-0159-4a96-9fb7-94bd79c90754\" xlink:show=\"new\" xlink:title=\"psysml:3aa3b647-0159-4a96-9fb7-94bd79c90754\" xlink:type=\"simple\"><rect fill=\"#FFFFFF\" height=\"88.3516\" id=\"E8\" rx=\"10\" ry=\"10\" style=\"stroke: #383838; stroke-width: 1.5;\" width=\"99\" x=\"32.5\" y=\"41\"/><text fill=\"#000000\" font-family=\"sans-serif\" font-size=\"12\" font-style=\"italic\" lengthAdjust=\"spacingAndGlyphs\" textLength=\"82\" x=\"41\" y=\"57.1387\">«calculation»</text><text fill=\"#000000\" font-family=\"sans-serif\" font-size=\"12\" lengthAdjust=\"spacingAndGlyphs\" textLength=\"93\" x=\"35.5\" y=\"71.1074\">ms1: MassSum</text><line style=\"stroke: #383838; stroke-width: 1.5;\" x1=\"33.5\" x2=\"130.5\" y1=\"78.9375\" y2=\"78.9375\"/><text fill=\"#000000\" font-family=\"sans-serif\" font-size=\"11\" lengthAdjust=\"spacingAndGlyphs\" textLength=\"67\" x=\"38.5\" y=\"109.9526\">partMasses</text><text fill=\"#000000\" font-family=\"sans-serif\" font-size=\"11\" lengthAdjust=\"spacingAndGlyphs\" textLength=\"55\" x=\"38.5\" y=\"122.7573\">totalMass</text><line style=\"stroke: #383838; stroke-width: 1.0;\" x1=\"33.5\" x2=\"54.5\" y1=\"93.3398\" y2=\"93.3398\"/><text fill=\"#000000\" font-family=\"sans-serif\" font-size=\"11\" lengthAdjust=\"spacingAndGlyphs\" textLength=\"55\" x=\"54.5\" y=\"96.6479\">attributes</text><line style=\"stroke: #383838; stroke-width: 1.0;\" x1=\"109.5\" x2=\"130.5\" y1=\"93.3398\" y2=\"93.3398\"/></a><!--MD5=[209b3feb70ccb6233bfe1053d122c12c]\n",
       "reverse link E2 to E3--><a href=\"psysml:6f0477df-1982-4bef-bc4b-f3a5f459ca50\" target=\"_top\" title=\"psysml:6f0477df-1982-4bef-bc4b-f3a5f459ca50\" xlink:actuate=\"onRequest\" xlink:href=\"psysml:6f0477df-1982-4bef-bc4b-f3a5f459ca50\" xlink:show=\"new\" xlink:title=\"psysml:6f0477df-1982-4bef-bc4b-f3a5f459ca50\" xlink:type=\"simple\"><path d=\"M463.79,116 C463.79,116 396,116 396,116 C396,116 396,156.69 396,188.8 \" fill=\"none\" id=\"E2&lt;-E3\" style=\"stroke: #383838; stroke-width: 1.0;\"/><polygon fill=\"#383838\" points=\"476.79,116,470.79,112,464.79,116,470.79,120,476.79,116\" style=\"stroke: #383838; stroke-width: 1.0;\"/></a><!--MD5=[9618e71518536f8baf3342ff6fdab317]\n",
       "reverse link E2 to E4--><a href=\"psysml:39f29039-e97f-4cd7-a6e4-24de87290ff7\" target=\"_top\" title=\"psysml:39f29039-e97f-4cd7-a6e4-24de87290ff7\" xlink:actuate=\"onRequest\" xlink:href=\"psysml:39f29039-e97f-4cd7-a6e4-24de87290ff7\" xlink:show=\"new\" xlink:title=\"psysml:39f29039-e97f-4cd7-a6e4-24de87290ff7\" xlink:type=\"simple\"><path d=\"M523,136.05 C523,136.05 523,188.84 523,188.84 \" fill=\"none\" id=\"E2&lt;-E4\" style=\"stroke: #383838; stroke-width: 1.0;\"/><polygon fill=\"#383838\" points=\"523,123.05,519,129.05,523,135.05,527,129.05,523,123.05\" style=\"stroke: #383838; stroke-width: 1.0;\"/></a><!--MD5=[25b190c987b1e74e5126d372c5a73af1]\n",
       "link E6 to E5--><a href=\"psysml:087e1e8b-9f76-403f-b1f3-15ea1e5b2649\" target=\"_top\" title=\"psysml:087e1e8b-9f76-403f-b1f3-15ea1e5b2649\" xlink:actuate=\"onRequest\" xlink:href=\"psysml:087e1e8b-9f76-403f-b1f3-15ea1e5b2649\" xlink:show=\"new\" xlink:title=\"psysml:087e1e8b-9f76-403f-b1f3-15ea1e5b2649\" xlink:type=\"simple\"><path d=\"M350.19,85 C340.17,85 332.5,85 332.5,85 C332.5,85 332.5,227 332.5,227 C332.5,227 248.1,227 248.1,227 \" fill=\"none\" id=\"E6-&gt;E5\" style=\"stroke: #383838; stroke-width: 1.0;\"/><polygon fill=\"#FFFFFF\" points=\"228.1,227,247.1,220,247.1,234,228.1,227\" style=\"stroke: #383838; stroke-width: 1.0;\"/><ellipse cx=\"252.8\" cy=\"222\" fill=\"#383838\" rx=\"2\" ry=\"2\" style=\"stroke: #383838; stroke-width: 1.0;\"/><ellipse cx=\"252.8\" cy=\"232\" fill=\"#383838\" rx=\"2\" ry=\"2\" style=\"stroke: #383838; stroke-width: 1.0;\"/></a><!--MD5=[1ccb2481ffa92f8d51a74ee30c51832a]\n",
       "link E8 to E5--><a href=\"psysml:a6dd9655-fa53-42fd-8b92-db635a2ece9b\" target=\"_top\" title=\"psysml:a6dd9655-fa53-42fd-8b92-db635a2ece9b\" xlink:actuate=\"onRequest\" xlink:href=\"psysml:a6dd9655-fa53-42fd-8b92-db635a2ece9b\" xlink:show=\"new\" xlink:title=\"psysml:a6dd9655-fa53-42fd-8b92-db635a2ece9b\" xlink:type=\"simple\"><path d=\"M125.75,129.15 C125.75,129.15 125.75,183.93 125.75,183.93 \" fill=\"none\" id=\"E8-&gt;E5\" style=\"stroke: #383838; stroke-width: 1.0;\"/><polygon fill=\"#FFFFFF\" points=\"125.75,203.93,118.75,184.93,132.75,184.93,125.75,203.93\" style=\"stroke: #383838; stroke-width: 1.0;\"/><ellipse cx=\"120.75\" cy=\"179.23\" fill=\"#383838\" rx=\"2\" ry=\"2\" style=\"stroke: #383838; stroke-width: 1.0;\"/><ellipse cx=\"130.75\" cy=\"179.23\" fill=\"#383838\" rx=\"2\" ry=\"2\" style=\"stroke: #383838; stroke-width: 1.0;\"/></a><!--MD5=[e44e259ba75096787b6e19740b40477e]\n",
       "@startuml\r\n",
       "skinparam linetype ortho\r\n",
       "skinparam monochrome true\r\n",
       "skinparam classbackgroundcolor white\r\n",
       "skinparam shadowing false\r\n",
       "skinparam wrapWidth 300\r\n",
       "hide circle\r\n",
       "\r\n",
       "package \"CalculationExample\" as E1  [[psysml:279b101a-ad7c-43dd-8a07-da5fe5802bed ]]  {\r\n",
       "comp usage \"vehicle\" as E2  <<(T,blue)part>> [[psysml:3dfd6fc9-2012-44ec-8abc-b458a2efa8ee ]] {\r\n",
       "- - attributes - -\r\n",
       "m: MassValue\r\n",
       "}\r\n",
       "comp usage \"eng\" as E3  <<(T,blue)part>> [[psysml:6f0477df-1982-4bef-bc4b-f3a5f459ca50 ]] {\r\n",
       "- - attributes - -\r\n",
       "m: MassValue\r\n",
       "}\r\n",
       "comp usage \"trans\" as E4  <<(T,blue)part>> [[psysml:39f29039-e97f-4cd7-a6e4-24de87290ff7 ]] {\r\n",
       "- - attributes - -\r\n",
       "m: MassValue\r\n",
       "}\r\n",
       "comp def \"MassSum\" as E5  <<(T,blue)calculation def>> [[psysml:5c4fc454-9680-413f-bf1a-bdf2f6cc06d5 ]] {\r\n",
       "}\r\n",
       "comp usage \"ms: MassSum\" as E6  <<(T,blue)calculation>> [[psysml:20e483d0-a5a0-4777-bc7f-caa19ca2a7e0 ]] {\r\n",
       "}\r\n",
       "comp def \"MassSum1\" as E7  <<(T,blue)calculation def>> [[psysml:83ce5d61-6771-4884-a571-d4d08f340672 ]] {\r\n",
       "- - attributes - -\r\n",
       "partMasses: MassValue\r\n",
       "totalMass: MassValue\r\n",
       "}\r\n",
       "comp usage \"ms1: MassSum\" as E8  <<(T,blue)calculation>> [[psysml:3aa3b647-0159-4a96-9fb7-94bd79c90754 ]] {\r\n",
       "- - attributes - -\r\n",
       "partMasses\r\n",
       "totalMass\r\n",
       "}\r\n",
       "E2 *- - E3 [[psysml:6f0477df-1982-4bef-bc4b-f3a5f459ca50 ]] \r\n",
       "E2 *- - E4 [[psysml:39f29039-e97f-4cd7-a6e4-24de87290ff7 ]] \r\n",
       "E6 - -:|> E5 [[psysml:087e1e8b-9f76-403f-b1f3-15ea1e5b2649 ]] \r\n",
       "E8 - -:|> E5 [[psysml:a6dd9655-fa53-42fd-8b92-db635a2ece9b ]] \r\n",
       "}\r\n",
       "@enduml\r\n",
       "\n",
       "PlantUML version 1.2020.13(Sat Jun 13 12:26:38 UTC 2020)\n",
       "(EPL source distribution)\n",
       "Java Runtime: OpenJDK Runtime Environment\n",
       "JVM: OpenJDK 64-Bit Server VM\n",
       "Default Encoding: UTF-8\n",
       "Language: en\n",
       "Country: null\n",
       "--></g></svg>"
      ]
     },
     "execution_count": 56,
     "metadata": {},
     "output_type": "execute_result"
    }
   ],
   "source": [
    "%viz --style=\"ORTHOLINE\" --view=\"Sequence\" \"CalculationExample\""
   ]
  },
  {
   "cell_type": "code",
   "execution_count": 57,
   "id": "accepted-weapon",
   "metadata": {
    "execution": {
     "iopub.execute_input": "2021-03-26T13:05:09.958568Z",
     "iopub.status.busy": "2021-03-26T13:05:09.958213Z",
     "iopub.status.idle": "2021-03-26T13:05:10.036408Z",
     "shell.execute_reply": "2021-03-26T13:05:10.035065Z"
    }
   },
   "outputs": [
    {
     "data": {
      "image/svg+xml": [
       "<?xml version=\"1.0\" encoding=\"UTF-8\" standalone=\"no\"?><svg xmlns=\"http://www.w3.org/2000/svg\" xmlns:xlink=\"http://www.w3.org/1999/xlink\" contentScriptType=\"application/ecmascript\" contentStyleType=\"text/css\" height=\"441px\" preserveAspectRatio=\"none\" style=\"width:788px;height:441px;\" version=\"1.1\" viewBox=\"0 0 788 441\" width=\"788px\" zoomAndPan=\"magnify\"><defs/><g><!--MD5=[fbc87193dbaf4d95561dea2c320d4a47]\n",
       "cluster E1--><a href=\"psysml:279b101a-ad7c-43dd-8a07-da5fe5802bed\" target=\"_top\" title=\"psysml:279b101a-ad7c-43dd-8a07-da5fe5802bed\" xlink:actuate=\"onRequest\" xlink:href=\"psysml:279b101a-ad7c-43dd-8a07-da5fe5802bed\" xlink:show=\"new\" xlink:title=\"psysml:279b101a-ad7c-43dd-8a07-da5fe5802bed\" xlink:type=\"simple\"><polygon fill=\"#FFFFFF\" points=\"16,6,173,6,180,28.2969,766,28.2969,766,429.72,16,429.72,16,6\" style=\"stroke: #000000; stroke-width: 1.5;\"/><line style=\"stroke: #000000; stroke-width: 1.5;\" x1=\"16\" x2=\"180\" y1=\"28.2969\" y2=\"28.2969\"/><text fill=\"#000000\" font-family=\"sans-serif\" font-size=\"14\" font-weight=\"bold\" lengthAdjust=\"spacingAndGlyphs\" textLength=\"151\" x=\"20\" y=\"20.9951\">CalculationExample</text></a><!--MD5=[de5ec2e2e8f62f467e546659f5068c88]\n",
       "cluster E5--><a href=\"psysml:5c4fc454-9680-413f-bf1a-bdf2f6cc06d5\" target=\"_top\" title=\"psysml:5c4fc454-9680-413f-bf1a-bdf2f6cc06d5\" xlink:actuate=\"onRequest\" xlink:href=\"psysml:5c4fc454-9680-413f-bf1a-bdf2f6cc06d5\" xlink:show=\"new\" xlink:title=\"psysml:5c4fc454-9680-413f-bf1a-bdf2f6cc06d5\" xlink:type=\"simple\"><rect fill=\"#FFFFFF\" height=\"306.72\" id=\"E5\" style=\"stroke: #383838; stroke-width: 1.5;\" width=\"128\" x=\"155\" y=\"85\"/><rect fill=\"#F8F8F8\" height=\"37.9375\" style=\"stroke: #383838; stroke-width: 1.5;\" width=\"128\" x=\"155\" y=\"85\"/><text fill=\"#000000\" font-family=\"sans-serif\" font-size=\"12\" font-style=\"italic\" lengthAdjust=\"spacingAndGlyphs\" textLength=\"106\" x=\"166\" y=\"101.1387\">«calculation def»</text><text fill=\"#000000\" font-family=\"sans-serif\" font-size=\"12\" lengthAdjust=\"spacingAndGlyphs\" textLength=\"59\" x=\"189.5\" y=\"115.1074\">MassSum</text></a><!--MD5=[917b9dd0c7eca3ee5f47219d1a84c0ad]\n",
       "cluster E11--><a href=\"psysml:83ce5d61-6771-4884-a571-d4d08f340672\" target=\"_top\" title=\"psysml:83ce5d61-6771-4884-a571-d4d08f340672\" xlink:actuate=\"onRequest\" xlink:href=\"psysml:83ce5d61-6771-4884-a571-d4d08f340672\" xlink:show=\"new\" xlink:title=\"psysml:83ce5d61-6771-4884-a571-d4d08f340672\" xlink:type=\"simple\"><rect fill=\"#FFFFFF\" height=\"306.72\" id=\"E11\" style=\"stroke: #383838; stroke-width: 1.5;\" width=\"166\" x=\"584\" y=\"85\"/><rect fill=\"#F8F8F8\" height=\"37.9375\" style=\"stroke: #383838; stroke-width: 1.5;\" width=\"166\" x=\"584\" y=\"85\"/><text fill=\"#000000\" font-family=\"sans-serif\" font-size=\"12\" font-style=\"italic\" lengthAdjust=\"spacingAndGlyphs\" textLength=\"106\" x=\"614\" y=\"101.1387\">«calculation def»</text><text fill=\"#000000\" font-family=\"sans-serif\" font-size=\"12\" lengthAdjust=\"spacingAndGlyphs\" textLength=\"67\" x=\"633.5\" y=\"115.1074\">MassSum1</text></a><!--MD5=[b4997ac47864f28c2f74865a473b2911]\n",
       "class E2--><a href=\"psysml:3dfd6fc9-2012-44ec-8abc-b458a2efa8ee\" target=\"_top\" title=\"psysml:3dfd6fc9-2012-44ec-8abc-b458a2efa8ee\" xlink:actuate=\"onRequest\" xlink:href=\"psysml:3dfd6fc9-2012-44ec-8abc-b458a2efa8ee\" xlink:show=\"new\" xlink:title=\"psysml:3dfd6fc9-2012-44ec-8abc-b458a2efa8ee\" xlink:type=\"simple\"><rect fill=\"#FFFFFF\" height=\"75.5469\" id=\"E2\" rx=\"10\" ry=\"10\" style=\"stroke: #383838; stroke-width: 1.5;\" width=\"92\" x=\"473\" y=\"47\"/><text fill=\"#000000\" font-family=\"sans-serif\" font-size=\"12\" font-style=\"italic\" lengthAdjust=\"spacingAndGlyphs\" textLength=\"40\" x=\"499\" y=\"63.1387\">«part»</text><text fill=\"#000000\" font-family=\"sans-serif\" font-size=\"12\" lengthAdjust=\"spacingAndGlyphs\" textLength=\"43\" x=\"497.5\" y=\"77.1074\">vehicle</text><line style=\"stroke: #383838; stroke-width: 1.5;\" x1=\"474\" x2=\"564\" y1=\"84.9375\" y2=\"84.9375\"/><text fill=\"#000000\" font-family=\"sans-serif\" font-size=\"11\" lengthAdjust=\"spacingAndGlyphs\" textLength=\"80\" x=\"479\" y=\"115.9526\">m: MassValue</text><line style=\"stroke: #383838; stroke-width: 1.0;\" x1=\"474\" x2=\"491.5\" y1=\"99.3398\" y2=\"99.3398\"/><text fill=\"#000000\" font-family=\"sans-serif\" font-size=\"11\" lengthAdjust=\"spacingAndGlyphs\" textLength=\"55\" x=\"491.5\" y=\"102.6479\">attributes</text><line style=\"stroke: #383838; stroke-width: 1.0;\" x1=\"546.5\" x2=\"564\" y1=\"99.3398\" y2=\"99.3398\"/></a><!--MD5=[09b614a08d8cba4a07c9adeb5e0fee81]\n",
       "class E3--><a href=\"psysml:6f0477df-1982-4bef-bc4b-f3a5f459ca50\" target=\"_top\" title=\"psysml:6f0477df-1982-4bef-bc4b-f3a5f459ca50\" xlink:actuate=\"onRequest\" xlink:href=\"psysml:6f0477df-1982-4bef-bc4b-f3a5f459ca50\" xlink:show=\"new\" xlink:title=\"psysml:6f0477df-1982-4bef-bc4b-f3a5f459ca50\" xlink:type=\"simple\"><rect fill=\"#FFFFFF\" height=\"75.5469\" id=\"E3\" rx=\"10\" ry=\"10\" style=\"stroke: #383838; stroke-width: 1.5;\" width=\"92\" x=\"346\" y=\"189\"/><text fill=\"#000000\" font-family=\"sans-serif\" font-size=\"12\" font-style=\"italic\" lengthAdjust=\"spacingAndGlyphs\" textLength=\"40\" x=\"372\" y=\"205.1387\">«part»</text><text fill=\"#000000\" font-family=\"sans-serif\" font-size=\"12\" lengthAdjust=\"spacingAndGlyphs\" textLength=\"24\" x=\"380\" y=\"219.1074\">eng</text><line style=\"stroke: #383838; stroke-width: 1.5;\" x1=\"347\" x2=\"437\" y1=\"226.9375\" y2=\"226.9375\"/><text fill=\"#000000\" font-family=\"sans-serif\" font-size=\"11\" lengthAdjust=\"spacingAndGlyphs\" textLength=\"80\" x=\"352\" y=\"257.9526\">m: MassValue</text><line style=\"stroke: #383838; stroke-width: 1.0;\" x1=\"347\" x2=\"364.5\" y1=\"241.3398\" y2=\"241.3398\"/><text fill=\"#000000\" font-family=\"sans-serif\" font-size=\"11\" lengthAdjust=\"spacingAndGlyphs\" textLength=\"55\" x=\"364.5\" y=\"244.6479\">attributes</text><line style=\"stroke: #383838; stroke-width: 1.0;\" x1=\"419.5\" x2=\"437\" y1=\"241.3398\" y2=\"241.3398\"/></a><!--MD5=[ebbe1d658d1005bcc118a6aa81145e00]\n",
       "class E4--><a href=\"psysml:39f29039-e97f-4cd7-a6e4-24de87290ff7\" target=\"_top\" title=\"psysml:39f29039-e97f-4cd7-a6e4-24de87290ff7\" xlink:actuate=\"onRequest\" xlink:href=\"psysml:39f29039-e97f-4cd7-a6e4-24de87290ff7\" xlink:show=\"new\" xlink:title=\"psysml:39f29039-e97f-4cd7-a6e4-24de87290ff7\" xlink:type=\"simple\"><rect fill=\"#FFFFFF\" height=\"75.5469\" id=\"E4\" rx=\"10\" ry=\"10\" style=\"stroke: #383838; stroke-width: 1.5;\" width=\"92\" x=\"473\" y=\"189\"/><text fill=\"#000000\" font-family=\"sans-serif\" font-size=\"12\" font-style=\"italic\" lengthAdjust=\"spacingAndGlyphs\" textLength=\"40\" x=\"499\" y=\"205.1387\">«part»</text><text fill=\"#000000\" font-family=\"sans-serif\" font-size=\"12\" lengthAdjust=\"spacingAndGlyphs\" textLength=\"33\" x=\"502.5\" y=\"219.1074\">trans</text><line style=\"stroke: #383838; stroke-width: 1.5;\" x1=\"474\" x2=\"564\" y1=\"226.9375\" y2=\"226.9375\"/><text fill=\"#000000\" font-family=\"sans-serif\" font-size=\"11\" lengthAdjust=\"spacingAndGlyphs\" textLength=\"80\" x=\"479\" y=\"257.9526\">m: MassValue</text><line style=\"stroke: #383838; stroke-width: 1.0;\" x1=\"474\" x2=\"491.5\" y1=\"241.3398\" y2=\"241.3398\"/><text fill=\"#000000\" font-family=\"sans-serif\" font-size=\"11\" lengthAdjust=\"spacingAndGlyphs\" textLength=\"55\" x=\"491.5\" y=\"244.6479\">attributes</text><line style=\"stroke: #383838; stroke-width: 1.0;\" x1=\"546.5\" x2=\"564\" y1=\"241.3398\" y2=\"241.3398\"/></a><!--MD5=[96f4274e9e20536e775497830990834d]\n",
       "class E10--><a href=\"psysml:20e483d0-a5a0-4777-bc7f-caa19ca2a7e0\" target=\"_top\" title=\"psysml:20e483d0-a5a0-4777-bc7f-caa19ca2a7e0\" xlink:actuate=\"onRequest\" xlink:href=\"psysml:20e483d0-a5a0-4777-bc7f-caa19ca2a7e0\" xlink:show=\"new\" xlink:title=\"psysml:20e483d0-a5a0-4777-bc7f-caa19ca2a7e0\" xlink:type=\"simple\"><rect fill=\"#FFFFFF\" height=\"45.9375\" id=\"E10\" rx=\"10\" ry=\"10\" style=\"stroke: #383838; stroke-width: 1.5;\" width=\"91\" x=\"346.5\" y=\"62\"/><text fill=\"#000000\" font-family=\"sans-serif\" font-size=\"12\" font-style=\"italic\" lengthAdjust=\"spacingAndGlyphs\" textLength=\"82\" x=\"351\" y=\"78.1387\">«calculation»</text><text fill=\"#000000\" font-family=\"sans-serif\" font-size=\"12\" lengthAdjust=\"spacingAndGlyphs\" textLength=\"85\" x=\"349.5\" y=\"92.1074\">ms: MassSum</text><line style=\"stroke: #383838; stroke-width: 1.5;\" x1=\"347.5\" x2=\"436.5\" y1=\"99.9375\" y2=\"99.9375\"/></a><!--MD5=[bee11217b2f71d958a27249dc326068c]\n",
       "class E14--><a href=\"psysml:3aa3b647-0159-4a96-9fb7-94bd79c90754\" target=\"_top\" title=\"psysml:3aa3b647-0159-4a96-9fb7-94bd79c90754\" xlink:actuate=\"onRequest\" xlink:href=\"psysml:3aa3b647-0159-4a96-9fb7-94bd79c90754\" xlink:show=\"new\" xlink:title=\"psysml:3aa3b647-0159-4a96-9fb7-94bd79c90754\" xlink:type=\"simple\"><rect fill=\"#FFFFFF\" height=\"88.3516\" id=\"E14\" rx=\"10\" ry=\"10\" style=\"stroke: #383838; stroke-width: 1.5;\" width=\"99\" x=\"32.5\" y=\"41\"/><text fill=\"#000000\" font-family=\"sans-serif\" font-size=\"12\" font-style=\"italic\" lengthAdjust=\"spacingAndGlyphs\" textLength=\"82\" x=\"41\" y=\"57.1387\">«calculation»</text><text fill=\"#000000\" font-family=\"sans-serif\" font-size=\"12\" lengthAdjust=\"spacingAndGlyphs\" textLength=\"93\" x=\"35.5\" y=\"71.1074\">ms1: MassSum</text><line style=\"stroke: #383838; stroke-width: 1.5;\" x1=\"33.5\" x2=\"130.5\" y1=\"78.9375\" y2=\"78.9375\"/><text fill=\"#000000\" font-family=\"sans-serif\" font-size=\"11\" lengthAdjust=\"spacingAndGlyphs\" textLength=\"67\" x=\"38.5\" y=\"109.9526\">partMasses</text><text fill=\"#000000\" font-family=\"sans-serif\" font-size=\"11\" lengthAdjust=\"spacingAndGlyphs\" textLength=\"55\" x=\"38.5\" y=\"122.7573\">totalMass</text><line style=\"stroke: #383838; stroke-width: 1.0;\" x1=\"33.5\" x2=\"54.5\" y1=\"93.3398\" y2=\"93.3398\"/><text fill=\"#000000\" font-family=\"sans-serif\" font-size=\"11\" lengthAdjust=\"spacingAndGlyphs\" textLength=\"55\" x=\"54.5\" y=\"96.6479\">attributes</text><line style=\"stroke: #383838; stroke-width: 1.0;\" x1=\"109.5\" x2=\"130.5\" y1=\"93.3398\" y2=\"93.3398\"/></a><text fill=\"#000000\" font-family=\"sans-serif\" font-size=\"14\" lengthAdjust=\"spacingAndGlyphs\" textLength=\"80\" x=\"133\" y=\"63.6982\">partMasses</text><rect fill=\"#383838\" height=\"12\" style=\"stroke: #F8F8F8; stroke-width: 1.5;\" width=\"12\" x=\"167\" y=\"79\"/><text fill=\"#000000\" font-family=\"sans-serif\" font-size=\"14\" lengthAdjust=\"spacingAndGlyphs\" textLength=\"66\" x=\"177\" y=\"410.7151\">totalMass</text><rect fill=\"#383838\" height=\"12\" style=\"stroke: #F8F8F8; stroke-width: 1.5;\" width=\"12\" x=\"204\" y=\"385.72\"/><text fill=\"#000000\" font-family=\"sans-serif\" font-size=\"14\" lengthAdjust=\"spacingAndGlyphs\" textLength=\"75\" x=\"227.5\" y=\"63.6982\">$collection</text><rect fill=\"#383838\" height=\"12\" style=\"stroke: #F8F8F8; stroke-width: 1.5;\" width=\"12\" x=\"259\" y=\"79\"/><text fill=\"#000000\" font-family=\"sans-serif\" font-size=\"14\" lengthAdjust=\"spacingAndGlyphs\" textLength=\"48\" x=\"233\" y=\"410.7151\">$result</text><rect fill=\"#383838\" height=\"12\" style=\"stroke: #F8F8F8; stroke-width: 1.5;\" width=\"12\" x=\"251\" y=\"385.72\"/><text fill=\"#000000\" font-family=\"sans-serif\" font-size=\"14\" lengthAdjust=\"spacingAndGlyphs\" textLength=\"80\" x=\"627\" y=\"63.6982\">partMasses</text><rect fill=\"#383838\" height=\"12\" style=\"stroke: #F8F8F8; stroke-width: 1.5;\" width=\"12\" x=\"661\" y=\"79\"/><text fill=\"#000000\" font-family=\"sans-serif\" font-size=\"14\" lengthAdjust=\"spacingAndGlyphs\" textLength=\"66\" x=\"634\" y=\"410.7151\">totalMass</text><rect fill=\"#383838\" height=\"12\" style=\"stroke: #F8F8F8; stroke-width: 1.5;\" width=\"12\" x=\"661\" y=\"385.72\"/><!--MD5=[209b3feb70ccb6233bfe1053d122c12c]\n",
       "reverse link E2 to E3--><a href=\"psysml:6f0477df-1982-4bef-bc4b-f3a5f459ca50\" target=\"_top\" title=\"psysml:6f0477df-1982-4bef-bc4b-f3a5f459ca50\" xlink:actuate=\"onRequest\" xlink:href=\"psysml:6f0477df-1982-4bef-bc4b-f3a5f459ca50\" xlink:show=\"new\" xlink:title=\"psysml:6f0477df-1982-4bef-bc4b-f3a5f459ca50\" xlink:type=\"simple\"><path d=\"M459.79,118.72 C459.79,118.72 392,118.72 392,118.72 C392,118.72 392,157.65 392,188.82 \" fill=\"none\" id=\"E2&lt;-E3\" style=\"stroke: #383838; stroke-width: 1.0;\"/><polygon fill=\"#383838\" points=\"472.79,118.72,466.79,114.72,460.79,118.72,466.79,122.72,472.79,118.72\" style=\"stroke: #383838; stroke-width: 1.0;\"/></a><!--MD5=[9618e71518536f8baf3342ff6fdab317]\n",
       "reverse link E2 to E4--><a href=\"psysml:39f29039-e97f-4cd7-a6e4-24de87290ff7\" target=\"_top\" title=\"psysml:39f29039-e97f-4cd7-a6e4-24de87290ff7\" xlink:actuate=\"onRequest\" xlink:href=\"psysml:39f29039-e97f-4cd7-a6e4-24de87290ff7\" xlink:show=\"new\" xlink:title=\"psysml:39f29039-e97f-4cd7-a6e4-24de87290ff7\" xlink:type=\"simple\"><path d=\"M519,136.05 C519,136.05 519,188.84 519,188.84 \" fill=\"none\" id=\"E2&lt;-E4\" style=\"stroke: #383838; stroke-width: 1.0;\"/><polygon fill=\"#383838\" points=\"519,123.05,515,129.05,519,135.05,523,129.05,519,123.05\" style=\"stroke: #383838; stroke-width: 1.0;\"/></a><!--MD5=[ec5e0a54482b142abcecfe541d624bff]\n",
       "link E10 to E5--><a href=\"psysml:087e1e8b-9f76-403f-b1f3-15ea1e5b2649\" target=\"_top\" title=\"psysml:087e1e8b-9f76-403f-b1f3-15ea1e5b2649\" xlink:actuate=\"onRequest\" xlink:href=\"psysml:087e1e8b-9f76-403f-b1f3-15ea1e5b2649\" xlink:show=\"new\" xlink:title=\"psysml:087e1e8b-9f76-403f-b1f3-15ea1e5b2649\" xlink:type=\"simple\"><path d=\"M346.49,99.72 C318.62,99.72 288.25,99.72 288.25,99.72 C288.25,99.72 288.25,174.33 288.25,209.3 \" fill=\"none\" id=\"E10-&gt;E5\" style=\"stroke: #383838; stroke-width: 1.0;\"/><polygon fill=\"#FFFFFF\" points=\"288.25,209.3,281.25,190.3,295.25,190.3,288.25,209.3\" style=\"stroke: #383838; stroke-width: 1.0;\"/><ellipse cx=\"283.25\" cy=\"184.6\" fill=\"#383838\" rx=\"2\" ry=\"2\" style=\"stroke: #383838; stroke-width: 1.0;\"/><ellipse cx=\"293.25\" cy=\"184.6\" fill=\"#383838\" rx=\"2\" ry=\"2\" style=\"stroke: #383838; stroke-width: 1.0;\"/></a><!--MD5=[111e5536516ee1ad7d4266f589654f03]\n",
       "link E14 to E5--><a href=\"psysml:a6dd9655-fa53-42fd-8b92-db635a2ece9b\" target=\"_top\" title=\"psysml:a6dd9655-fa53-42fd-8b92-db635a2ece9b\" xlink:actuate=\"onRequest\" xlink:href=\"psysml:a6dd9655-fa53-42fd-8b92-db635a2ece9b\" xlink:show=\"new\" xlink:title=\"psysml:a6dd9655-fa53-42fd-8b92-db635a2ece9b\" xlink:type=\"simple\"><path d=\"M131.56,113.72 C139.295,113.72 147.2213,113.72 154.7597,113.72 \" fill=\"none\" id=\"E14-&gt;E5\" style=\"stroke: #383838; stroke-width: 1.0;\"/><polygon fill=\"#FFFFFF\" points=\"154.7597,113.72,135.7597,120.72,135.7597,106.72,154.7597,113.72\" style=\"stroke: #383838; stroke-width: 1.0;\"/><ellipse cx=\"130.0597\" cy=\"118.72\" fill=\"#383838\" rx=\"2\" ry=\"2\" style=\"stroke: #383838; stroke-width: 1.0;\"/><ellipse cx=\"130.0597\" cy=\"108.72\" fill=\"#383838\" rx=\"2\" ry=\"2\" style=\"stroke: #383838; stroke-width: 1.0;\"/></a><!--MD5=[ddc9bb66d139adc63ff6387c7fe120ae]\n",
       "@startuml\r\n",
       "skinparam linetype ortho\r\n",
       "skinparam monochrome true\r\n",
       "skinparam classbackgroundcolor white\r\n",
       "skinparam shadowing false\r\n",
       "skinparam wrapWidth 300\r\n",
       "hide circle\r\n",
       "\r\n",
       "package \"CalculationExample\" as E1  [[psysml:279b101a-ad7c-43dd-8a07-da5fe5802bed ]]  {\r\n",
       "comp usage \"vehicle\" as E2  <<(T,blue)part>> [[psysml:3dfd6fc9-2012-44ec-8abc-b458a2efa8ee ]] {\r\n",
       "- - attributes - -\r\n",
       "m: MassValue\r\n",
       "}\r\n",
       "comp usage \"eng\" as E3  <<(T,blue)part>> [[psysml:6f0477df-1982-4bef-bc4b-f3a5f459ca50 ]] {\r\n",
       "- - attributes - -\r\n",
       "m: MassValue\r\n",
       "}\r\n",
       "comp usage \"trans\" as E4  <<(T,blue)part>> [[psysml:39f29039-e97f-4cd7-a6e4-24de87290ff7 ]] {\r\n",
       "- - attributes - -\r\n",
       "m: MassValue\r\n",
       "}\r\n",
       "rec def \"MassSum\" as E5  <<(T,blue)calculation def>> [[psysml:5c4fc454-9680-413f-bf1a-bdf2f6cc06d5 ]] {\r\n",
       "portin \"partMasses\" as E6  [[psysml:57eaefe4-a57c-41fa-a944-033dc3e4df4e ]] \r\n",
       "portout \"totalMass\" as E7  [[psysml:35e88aae-ee13-4c55-bc31-272528607619 ]] \r\n",
       "portin \"$collection\" as E8  [[psysml:0e9b074a-52f0-467d-9ed6-1e247226bb71 ]] \r\n",
       "portout \"$result\" as E9  [[psysml:66242f20-bf9b-4b2d-900e-be3ce4c10d7e ]] \r\n",
       "}\r\n",
       "\r\n",
       "comp usage \"ms: MassSum\" as E10  <<(T,blue)calculation>> [[psysml:20e483d0-a5a0-4777-bc7f-caa19ca2a7e0 ]] {\r\n",
       "}\r\n",
       "rec def \"MassSum1\" as E11  <<(T,blue)calculation def>> [[psysml:83ce5d61-6771-4884-a571-d4d08f340672 ]] {\r\n",
       "portin \"partMasses\" as E12  [[psysml:0924d9a5-fc11-4345-935d-e5ff08c51a6a ]] \r\n",
       "portout \"totalMass\" as E13  [[psysml:b7c67a6a-5db6-4529-b3d9-f9fb47dc5f0c ]] \r\n",
       "}\r\n",
       "\r\n",
       "comp usage \"ms1: MassSum\" as E14  <<(T,blue)calculation>> [[psysml:3aa3b647-0159-4a96-9fb7-94bd79c90754 ]] {\r\n",
       "- - attributes - -\r\n",
       "partMasses\r\n",
       "totalMass\r\n",
       "}\r\n",
       "E2 *- - E3 [[psysml:6f0477df-1982-4bef-bc4b-f3a5f459ca50 ]] \r\n",
       "E2 *- - E4 [[psysml:39f29039-e97f-4cd7-a6e4-24de87290ff7 ]] \r\n",
       "E10 - -:|> E5 [[psysml:087e1e8b-9f76-403f-b1f3-15ea1e5b2649 ]] \r\n",
       "E14 - -:|> E5 [[psysml:a6dd9655-fa53-42fd-8b92-db635a2ece9b ]] \r\n",
       "}\r\n",
       "@enduml\r\n",
       "\n",
       "PlantUML version 1.2020.13(Sat Jun 13 12:26:38 UTC 2020)\n",
       "(EPL source distribution)\n",
       "Java Runtime: OpenJDK Runtime Environment\n",
       "JVM: OpenJDK 64-Bit Server VM\n",
       "Default Encoding: UTF-8\n",
       "Language: en\n",
       "Country: null\n",
       "--></g></svg>"
      ]
     },
     "execution_count": 57,
     "metadata": {},
     "output_type": "execute_result"
    }
   ],
   "source": [
    "%viz --style=\"ORTHOLINE\" --view=\"MIXED\" \"CalculationExample\""
   ]
  }
 ],
 "metadata": {
  "kernelspec": {
   "display_name": "SysML",
   "language": "sysml",
   "name": "sysml"
  },
  "language_info": {
   "codemirror_mode": "sysml",
   "file_extension": ".sysml",
   "mimetype": "text/x-sysml",
   "name": "SysML",
   "pygments_lexer": "java",
   "version": "1.0.0"
  }
 },
 "nbformat": 4,
 "nbformat_minor": 5
}
