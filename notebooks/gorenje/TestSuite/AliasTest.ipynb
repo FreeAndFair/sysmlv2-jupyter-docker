{
 "cells": [
  {
   "cell_type": "markdown",
   "id": "urban-substitute",
   "metadata": {},
   "source": [
    "# SysML v2 Test Suite\n",
    "\n",
    "This can notebook can be cleared using menu `Edit --> Clear All Outputs` and then all cells can be\n",
    "run using menu `Run --> Run All Cells`.\n",
    "\n",
    "**WARNING**: This file is generated, all modifications here will be ignored.\n"
   ]
  },
  {
   "cell_type": "markdown",
   "id": "metropolitan-cyprus",
   "metadata": {},
   "source": [
    "## File: ../../sysml/src/examples/Simple Tests/AliasTest.sysml"
   ]
  },
  {
   "cell_type": "code",
   "execution_count": 1,
   "id": "identified-sudan",
   "metadata": {
    "execution": {
     "iopub.execute_input": "2021-03-26T13:00:32.031949Z",
     "iopub.status.busy": "2021-03-26T13:00:32.030476Z",
     "iopub.status.idle": "2021-03-26T13:00:32.240497Z",
     "shell.execute_reply": "2021-03-26T13:00:32.239458Z"
    }
   },
   "outputs": [
    {
     "data": {
      "text/plain": [
       "Package AliasTest (f665ab20-b821-4ec7-8559-ad678291d326)\n"
      ]
     },
     "execution_count": 1,
     "metadata": {},
     "output_type": "execute_result"
    }
   ],
   "source": [
    "package AliasTest {\n",
    "    part def P1 {\n",
    "        port porig1;\n",
    "        alias porig1 as po1;\n",
    "    }\n",
    "\n",
    "    part p1 : P1 {\n",
    "        port po1 :>> po1;\n",
    "    }\n",
    "\n",
    "    part p2 : P1 {\n",
    "        port pdest;\n",
    "        alias pdest as pd1;\n",
    "    }\n",
    "\n",
    "\n",
    "    connect p1::po1 to p2::pdest;\n",
    "\tconnect p1::po1 to p2::pd1;\n",
    "}"
   ]
  },
  {
   "cell_type": "code",
   "execution_count": 2,
   "id": "emotional-polls",
   "metadata": {
    "execution": {
     "iopub.execute_input": "2021-03-26T13:00:32.293450Z",
     "iopub.status.busy": "2021-03-26T13:00:32.292255Z",
     "iopub.status.idle": "2021-03-26T13:00:32.939460Z",
     "shell.execute_reply": "2021-03-26T13:00:32.939083Z"
    }
   },
   "outputs": [
    {
     "data": {
      "image/svg+xml": [
       "<?xml version=\"1.0\" encoding=\"UTF-8\" standalone=\"no\"?><svg xmlns=\"http://www.w3.org/2000/svg\" xmlns:xlink=\"http://www.w3.org/1999/xlink\" contentScriptType=\"application/ecmascript\" contentStyleType=\"text/css\" height=\"293px\" preserveAspectRatio=\"none\" style=\"width:285px;height:293px;\" version=\"1.1\" viewBox=\"0 0 285 293\" width=\"285px\" zoomAndPan=\"magnify\"><defs/><g><!--MD5=[fbc87193dbaf4d95561dea2c320d4a47]\n",
       "cluster E1--><a href=\"psysml:6f25d091-f985-426b-8055-e92e3d48be4a\" target=\"_top\" title=\"psysml:6f25d091-f985-426b-8055-e92e3d48be4a\" xlink:actuate=\"onRequest\" xlink:href=\"psysml:6f25d091-f985-426b-8055-e92e3d48be4a\" xlink:show=\"new\" xlink:title=\"psysml:6f25d091-f985-426b-8055-e92e3d48be4a\" xlink:type=\"simple\"><polygon fill=\"#FFFFFF\" points=\"16,6,94,6,101,28.2969,263,28.2969,263,281,16,281,16,6\" style=\"stroke: #000000; stroke-width: 1.5;\"/><line style=\"stroke: #000000; stroke-width: 1.5;\" x1=\"16\" x2=\"101\" y1=\"28.2969\" y2=\"28.2969\"/><text fill=\"#000000\" font-family=\"sans-serif\" font-size=\"14\" font-weight=\"bold\" lengthAdjust=\"spacingAndGlyphs\" textLength=\"72\" x=\"20\" y=\"20.9951\">AliasTest</text></a><!--MD5=[b4997ac47864f28c2f74865a473b2911]\n",
       "class E2--><a href=\"psysml:258ca4bf-faa9-4328-8179-2aed0dfcbbf6\" target=\"_top\" title=\"psysml:258ca4bf-faa9-4328-8179-2aed0dfcbbf6\" xlink:actuate=\"onRequest\" xlink:href=\"psysml:258ca4bf-faa9-4328-8179-2aed0dfcbbf6\" xlink:show=\"new\" xlink:title=\"psysml:258ca4bf-faa9-4328-8179-2aed0dfcbbf6\" xlink:type=\"simple\"><rect fill=\"#FFFFFF\" height=\"75.5469\" id=\"E2\" style=\"stroke: #383838; stroke-width: 1.5;\" width=\"92\" x=\"93\" y=\"189\"/><text fill=\"#000000\" font-family=\"sans-serif\" font-size=\"12\" font-style=\"italic\" lengthAdjust=\"spacingAndGlyphs\" textLength=\"64\" x=\"107\" y=\"205.1387\">«part def»</text><text fill=\"#000000\" font-family=\"sans-serif\" font-size=\"12\" lengthAdjust=\"spacingAndGlyphs\" textLength=\"16\" x=\"131\" y=\"219.1074\">P1</text><line style=\"stroke: #383838; stroke-width: 1.5;\" x1=\"94\" x2=\"184\" y1=\"226.9375\" y2=\"226.9375\"/><text fill=\"#000000\" font-family=\"sans-serif\" font-size=\"11\" lengthAdjust=\"spacingAndGlyphs\" textLength=\"36\" x=\"99\" y=\"257.9526\">porig1</text><text fill=\"#000000\" font-family=\"sans-serif\" font-size=\"11\" font-weight=\"bold\" lengthAdjust=\"spacingAndGlyphs\" textLength=\"15\" x=\"139\" y=\"257.9526\">as</text><text fill=\"#000000\" font-family=\"sans-serif\" font-size=\"11\" lengthAdjust=\"spacingAndGlyphs\" textLength=\"21\" x=\"158\" y=\"257.9526\">po1</text><line style=\"stroke: #383838; stroke-width: 1.0;\" x1=\"94\" x2=\"124\" y1=\"241.3398\" y2=\"241.3398\"/><text fill=\"#000000\" font-family=\"sans-serif\" font-size=\"11\" lengthAdjust=\"spacingAndGlyphs\" textLength=\"30\" x=\"124\" y=\"244.6479\">ports</text><line style=\"stroke: #383838; stroke-width: 1.0;\" x1=\"154\" x2=\"184\" y1=\"241.3398\" y2=\"241.3398\"/></a><!--MD5=[09b614a08d8cba4a07c9adeb5e0fee81]\n",
       "class E3--><a href=\"psysml:a26c0441-e754-421d-8c32-eea1ef6cab52\" target=\"_top\" title=\"psysml:a26c0441-e754-421d-8c32-eea1ef6cab52\" xlink:actuate=\"onRequest\" xlink:href=\"psysml:a26c0441-e754-421d-8c32-eea1ef6cab52\" xlink:show=\"new\" xlink:title=\"psysml:a26c0441-e754-421d-8c32-eea1ef6cab52\" xlink:type=\"simple\"><rect fill=\"#FFFFFF\" height=\"88.3516\" id=\"E3\" rx=\"10\" ry=\"10\" style=\"stroke: #383838; stroke-width: 1.5;\" width=\"92\" x=\"155\" y=\"41\"/><text fill=\"#000000\" font-family=\"sans-serif\" font-size=\"12\" font-style=\"italic\" lengthAdjust=\"spacingAndGlyphs\" textLength=\"40\" x=\"181\" y=\"57.1387\">«part»</text><text fill=\"#000000\" font-family=\"sans-serif\" font-size=\"12\" lengthAdjust=\"spacingAndGlyphs\" textLength=\"40\" x=\"181\" y=\"71.1074\">p1: P1</text><line style=\"stroke: #383838; stroke-width: 1.5;\" x1=\"156\" x2=\"246\" y1=\"78.9375\" y2=\"78.9375\"/><text fill=\"#000000\" font-family=\"sans-serif\" font-size=\"11\" lengthAdjust=\"spacingAndGlyphs\" textLength=\"21\" x=\"161\" y=\"109.9526\">po1</text><text fill=\"#000000\" font-family=\"sans-serif\" font-size=\"11\" font-style=\"italic\" lengthAdjust=\"spacingAndGlyphs\" textLength=\"80\" x=\"161\" y=\"122.7573\">:&gt;&gt;P1::porig1</text><line style=\"stroke: #383838; stroke-width: 1.0;\" x1=\"156\" x2=\"186\" y1=\"93.3398\" y2=\"93.3398\"/><text fill=\"#000000\" font-family=\"sans-serif\" font-size=\"11\" lengthAdjust=\"spacingAndGlyphs\" textLength=\"30\" x=\"186\" y=\"96.6479\">ports</text><line style=\"stroke: #383838; stroke-width: 1.0;\" x1=\"216\" x2=\"246\" y1=\"93.3398\" y2=\"93.3398\"/></a><!--MD5=[ebbe1d658d1005bcc118a6aa81145e00]\n",
       "class E4--><a href=\"psysml:5c32a7f3-b309-4357-ac47-765b0be17034\" target=\"_top\" title=\"psysml:5c32a7f3-b309-4357-ac47-765b0be17034\" xlink:actuate=\"onRequest\" xlink:href=\"psysml:5c32a7f3-b309-4357-ac47-765b0be17034\" xlink:show=\"new\" xlink:title=\"psysml:5c32a7f3-b309-4357-ac47-765b0be17034\" xlink:type=\"simple\"><rect fill=\"#FFFFFF\" height=\"75.5469\" id=\"E4\" rx=\"10\" ry=\"10\" style=\"stroke: #383838; stroke-width: 1.5;\" width=\"88\" x=\"32\" y=\"47\"/><text fill=\"#000000\" font-family=\"sans-serif\" font-size=\"12\" font-style=\"italic\" lengthAdjust=\"spacingAndGlyphs\" textLength=\"40\" x=\"56\" y=\"63.1387\">«part»</text><text fill=\"#000000\" font-family=\"sans-serif\" font-size=\"12\" lengthAdjust=\"spacingAndGlyphs\" textLength=\"40\" x=\"56\" y=\"77.1074\">p2: P1</text><line style=\"stroke: #383838; stroke-width: 1.5;\" x1=\"33\" x2=\"119\" y1=\"84.9375\" y2=\"84.9375\"/><text fill=\"#000000\" font-family=\"sans-serif\" font-size=\"11\" lengthAdjust=\"spacingAndGlyphs\" textLength=\"32\" x=\"38\" y=\"115.9526\">pdest</text><text fill=\"#000000\" font-family=\"sans-serif\" font-size=\"11\" font-weight=\"bold\" lengthAdjust=\"spacingAndGlyphs\" textLength=\"15\" x=\"74\" y=\"115.9526\">as</text><text fill=\"#000000\" font-family=\"sans-serif\" font-size=\"11\" lengthAdjust=\"spacingAndGlyphs\" textLength=\"21\" x=\"93\" y=\"115.9526\">pd1</text><line style=\"stroke: #383838; stroke-width: 1.0;\" x1=\"33\" x2=\"61\" y1=\"99.3398\" y2=\"99.3398\"/><text fill=\"#000000\" font-family=\"sans-serif\" font-size=\"11\" lengthAdjust=\"spacingAndGlyphs\" textLength=\"30\" x=\"61\" y=\"102.6479\">ports</text><line style=\"stroke: #383838; stroke-width: 1.0;\" x1=\"91\" x2=\"119\" y1=\"99.3398\" y2=\"99.3398\"/></a><!--MD5=[05d275557350bfb9b23a4ef7222b4c39]\n",
       "link E3 to E2--><a href=\"psysml:743cbcb0-f678-48b7-bb90-7aa18ca2c39d\" target=\"_top\" title=\"psysml:743cbcb0-f678-48b7-bb90-7aa18ca2c39d\" xlink:actuate=\"onRequest\" xlink:href=\"psysml:743cbcb0-f678-48b7-bb90-7aa18ca2c39d\" xlink:show=\"new\" xlink:title=\"psysml:743cbcb0-f678-48b7-bb90-7aa18ca2c39d\" xlink:type=\"simple\"><path d=\"M181.89,129.15 C176.14,142.14 169.74,156.6 163.67,170.29 \" fill=\"none\" id=\"E3-&gt;E2\" style=\"stroke: #383838; stroke-width: 1.0;\"/><polygon fill=\"#FFFFFF\" points=\"155.43,188.9,156.725,168.693,169.5254,174.3632,155.43,188.9\" style=\"stroke: #383838; stroke-width: 1.0;\"/><ellipse cx=\"160.8622\" cy=\"164.2914\" fill=\"#383838\" rx=\"2\" ry=\"2\" style=\"stroke: #383838; stroke-width: 1.0;\"/><ellipse cx=\"170.0053\" cy=\"168.3416\" fill=\"#383838\" rx=\"2\" ry=\"2\" style=\"stroke: #383838; stroke-width: 1.0;\"/></a><!--MD5=[185131fc0dcab0a4505a2ebe144e961b]\n",
       "link E4 to E2--><a href=\"psysml:a1f896e7-ae1f-4795-a4ef-b600067d493f\" target=\"_top\" title=\"psysml:a1f896e7-ae1f-4795-a4ef-b600067d493f\" xlink:actuate=\"onRequest\" xlink:href=\"psysml:a1f896e7-ae1f-4795-a4ef-b600067d493f\" xlink:show=\"new\" xlink:title=\"psysml:a1f896e7-ae1f-4795-a4ef-b600067d493f\" xlink:type=\"simple\"><path d=\"M92.72,123.15 C99.23,137.63 106.84,154.53 113.98,170.4 \" fill=\"none\" id=\"E4-&gt;E2\" style=\"stroke: #383838; stroke-width: 1.0;\"/><polygon fill=\"#FFFFFF\" points=\"122.2,188.68,108.0257,174.22,120.7951,168.4803,122.2,188.68\" style=\"stroke: #383838; stroke-width: 1.0;\"/><ellipse cx=\"107.5131\" cy=\"168.2011\" fill=\"#383838\" rx=\"2\" ry=\"2\" style=\"stroke: #383838; stroke-width: 1.0;\"/><ellipse cx=\"116.634\" cy=\"164.1014\" fill=\"#383838\" rx=\"2\" ry=\"2\" style=\"stroke: #383838; stroke-width: 1.0;\"/></a><!--MD5=[4e835e90e804641bf2b89ee0ca85e523]\n",
       "@startuml\r\n",
       " skinparam monochrome true\r\n",
       "skinparam classbackgroundcolor white\r\n",
       "skinparam shadowing false\r\n",
       "skinparam wrapWidth 300\r\n",
       "hide circle\r\n",
       "\r\n",
       "package \"AliasTest\" as E1  [[psysml:6f25d091-f985-426b-8055-e92e3d48be4a ]]  {\r\n",
       "comp def \"P1\" as E2  <<(T,blue)part def>> [[psysml:258ca4bf-faa9-4328-8179-2aed0dfcbbf6 ]] {\r\n",
       "- - ports - -\r\n",
       "porig1 <b>as</b> po1 \r\n",
       "}\r\n",
       "comp usage \"p1: P1\" as E3  <<(T,blue)part>> [[psysml:a26c0441-e754-421d-8c32-eea1ef6cab52 ]] {\r\n",
       "- - ports - -\r\n",
       "po1\\n//:>>P1::porig1// \r\n",
       "}\r\n",
       "comp usage \"p2: P1\" as E4  <<(T,blue)part>> [[psysml:5c32a7f3-b309-4357-ac47-765b0be17034 ]] {\r\n",
       "- - ports - -\r\n",
       "pdest <b>as</b> pd1 \r\n",
       "}\r\n",
       "E3 - -:|> E2 [[psysml:743cbcb0-f678-48b7-bb90-7aa18ca2c39d ]] \r\n",
       "E4 - -:|> E2 [[psysml:a1f896e7-ae1f-4795-a4ef-b600067d493f ]] \r\n",
       "}\r\n",
       "@enduml\r\n",
       "\n",
       "PlantUML version 1.2020.13(Sat Jun 13 12:26:38 UTC 2020)\n",
       "(EPL source distribution)\n",
       "Java Runtime: OpenJDK Runtime Environment\n",
       "JVM: OpenJDK 64-Bit Server VM\n",
       "Default Encoding: UTF-8\n",
       "Language: en\n",
       "Country: null\n",
       "--></g></svg>"
      ]
     },
     "execution_count": 2,
     "metadata": {},
     "output_type": "execute_result"
    }
   ],
   "source": [
    "%viz --style=\"COMPTREE\" --view=\"Default\" \"AliasTest\""
   ]
  },
  {
   "cell_type": "code",
   "execution_count": 3,
   "id": "greek-collective",
   "metadata": {
    "execution": {
     "iopub.execute_input": "2021-03-26T13:00:32.991664Z",
     "iopub.status.busy": "2021-03-26T13:00:32.991081Z",
     "iopub.status.idle": "2021-03-26T13:00:33.093054Z",
     "shell.execute_reply": "2021-03-26T13:00:33.092739Z"
    }
   },
   "outputs": [
    {
     "data": {
      "image/svg+xml": [
       "<?xml version=\"1.0\" encoding=\"UTF-8\" standalone=\"no\"?><svg xmlns=\"http://www.w3.org/2000/svg\" xmlns:xlink=\"http://www.w3.org/1999/xlink\" contentScriptType=\"application/ecmascript\" contentStyleType=\"text/css\" height=\"293px\" preserveAspectRatio=\"none\" style=\"width:285px;height:293px;\" version=\"1.1\" viewBox=\"0 0 285 293\" width=\"285px\" zoomAndPan=\"magnify\"><defs/><g><!--MD5=[fbc87193dbaf4d95561dea2c320d4a47]\n",
       "cluster E1--><a href=\"psysml:6f25d091-f985-426b-8055-e92e3d48be4a\" target=\"_top\" title=\"psysml:6f25d091-f985-426b-8055-e92e3d48be4a\" xlink:actuate=\"onRequest\" xlink:href=\"psysml:6f25d091-f985-426b-8055-e92e3d48be4a\" xlink:show=\"new\" xlink:title=\"psysml:6f25d091-f985-426b-8055-e92e3d48be4a\" xlink:type=\"simple\"><polygon fill=\"#FFFFFF\" points=\"16,6,94,6,101,28.2969,263,28.2969,263,281,16,281,16,6\" style=\"stroke: #000000; stroke-width: 1.5;\"/><line style=\"stroke: #000000; stroke-width: 1.5;\" x1=\"16\" x2=\"101\" y1=\"28.2969\" y2=\"28.2969\"/><text fill=\"#000000\" font-family=\"sans-serif\" font-size=\"14\" font-weight=\"bold\" lengthAdjust=\"spacingAndGlyphs\" textLength=\"72\" x=\"20\" y=\"20.9951\">AliasTest</text></a><!--MD5=[b4997ac47864f28c2f74865a473b2911]\n",
       "class E2--><a href=\"psysml:258ca4bf-faa9-4328-8179-2aed0dfcbbf6\" target=\"_top\" title=\"psysml:258ca4bf-faa9-4328-8179-2aed0dfcbbf6\" xlink:actuate=\"onRequest\" xlink:href=\"psysml:258ca4bf-faa9-4328-8179-2aed0dfcbbf6\" xlink:show=\"new\" xlink:title=\"psysml:258ca4bf-faa9-4328-8179-2aed0dfcbbf6\" xlink:type=\"simple\"><rect fill=\"#FFFFFF\" height=\"75.5469\" id=\"E2\" style=\"stroke: #383838; stroke-width: 1.5;\" width=\"92\" x=\"93\" y=\"189\"/><text fill=\"#000000\" font-family=\"sans-serif\" font-size=\"12\" font-style=\"italic\" lengthAdjust=\"spacingAndGlyphs\" textLength=\"64\" x=\"107\" y=\"205.1387\">«part def»</text><text fill=\"#000000\" font-family=\"sans-serif\" font-size=\"12\" lengthAdjust=\"spacingAndGlyphs\" textLength=\"16\" x=\"131\" y=\"219.1074\">P1</text><line style=\"stroke: #383838; stroke-width: 1.5;\" x1=\"94\" x2=\"184\" y1=\"226.9375\" y2=\"226.9375\"/><text fill=\"#000000\" font-family=\"sans-serif\" font-size=\"11\" lengthAdjust=\"spacingAndGlyphs\" textLength=\"36\" x=\"99\" y=\"257.9526\">porig1</text><text fill=\"#000000\" font-family=\"sans-serif\" font-size=\"11\" font-weight=\"bold\" lengthAdjust=\"spacingAndGlyphs\" textLength=\"15\" x=\"139\" y=\"257.9526\">as</text><text fill=\"#000000\" font-family=\"sans-serif\" font-size=\"11\" lengthAdjust=\"spacingAndGlyphs\" textLength=\"21\" x=\"158\" y=\"257.9526\">po1</text><line style=\"stroke: #383838; stroke-width: 1.0;\" x1=\"94\" x2=\"124\" y1=\"241.3398\" y2=\"241.3398\"/><text fill=\"#000000\" font-family=\"sans-serif\" font-size=\"11\" lengthAdjust=\"spacingAndGlyphs\" textLength=\"30\" x=\"124\" y=\"244.6479\">ports</text><line style=\"stroke: #383838; stroke-width: 1.0;\" x1=\"154\" x2=\"184\" y1=\"241.3398\" y2=\"241.3398\"/></a><!--MD5=[09b614a08d8cba4a07c9adeb5e0fee81]\n",
       "class E3--><a href=\"psysml:a26c0441-e754-421d-8c32-eea1ef6cab52\" target=\"_top\" title=\"psysml:a26c0441-e754-421d-8c32-eea1ef6cab52\" xlink:actuate=\"onRequest\" xlink:href=\"psysml:a26c0441-e754-421d-8c32-eea1ef6cab52\" xlink:show=\"new\" xlink:title=\"psysml:a26c0441-e754-421d-8c32-eea1ef6cab52\" xlink:type=\"simple\"><rect fill=\"#FFFFFF\" height=\"88.3516\" id=\"E3\" rx=\"10\" ry=\"10\" style=\"stroke: #383838; stroke-width: 1.5;\" width=\"92\" x=\"155\" y=\"41\"/><text fill=\"#000000\" font-family=\"sans-serif\" font-size=\"12\" font-style=\"italic\" lengthAdjust=\"spacingAndGlyphs\" textLength=\"40\" x=\"181\" y=\"57.1387\">«part»</text><text fill=\"#000000\" font-family=\"sans-serif\" font-size=\"12\" lengthAdjust=\"spacingAndGlyphs\" textLength=\"40\" x=\"181\" y=\"71.1074\">p1: P1</text><line style=\"stroke: #383838; stroke-width: 1.5;\" x1=\"156\" x2=\"246\" y1=\"78.9375\" y2=\"78.9375\"/><text fill=\"#000000\" font-family=\"sans-serif\" font-size=\"11\" lengthAdjust=\"spacingAndGlyphs\" textLength=\"21\" x=\"161\" y=\"109.9526\">po1</text><text fill=\"#000000\" font-family=\"sans-serif\" font-size=\"11\" font-style=\"italic\" lengthAdjust=\"spacingAndGlyphs\" textLength=\"80\" x=\"161\" y=\"122.7573\">:&gt;&gt;P1::porig1</text><line style=\"stroke: #383838; stroke-width: 1.0;\" x1=\"156\" x2=\"186\" y1=\"93.3398\" y2=\"93.3398\"/><text fill=\"#000000\" font-family=\"sans-serif\" font-size=\"11\" lengthAdjust=\"spacingAndGlyphs\" textLength=\"30\" x=\"186\" y=\"96.6479\">ports</text><line style=\"stroke: #383838; stroke-width: 1.0;\" x1=\"216\" x2=\"246\" y1=\"93.3398\" y2=\"93.3398\"/></a><!--MD5=[ebbe1d658d1005bcc118a6aa81145e00]\n",
       "class E4--><a href=\"psysml:5c32a7f3-b309-4357-ac47-765b0be17034\" target=\"_top\" title=\"psysml:5c32a7f3-b309-4357-ac47-765b0be17034\" xlink:actuate=\"onRequest\" xlink:href=\"psysml:5c32a7f3-b309-4357-ac47-765b0be17034\" xlink:show=\"new\" xlink:title=\"psysml:5c32a7f3-b309-4357-ac47-765b0be17034\" xlink:type=\"simple\"><rect fill=\"#FFFFFF\" height=\"75.5469\" id=\"E4\" rx=\"10\" ry=\"10\" style=\"stroke: #383838; stroke-width: 1.5;\" width=\"88\" x=\"32\" y=\"47\"/><text fill=\"#000000\" font-family=\"sans-serif\" font-size=\"12\" font-style=\"italic\" lengthAdjust=\"spacingAndGlyphs\" textLength=\"40\" x=\"56\" y=\"63.1387\">«part»</text><text fill=\"#000000\" font-family=\"sans-serif\" font-size=\"12\" lengthAdjust=\"spacingAndGlyphs\" textLength=\"40\" x=\"56\" y=\"77.1074\">p2: P1</text><line style=\"stroke: #383838; stroke-width: 1.5;\" x1=\"33\" x2=\"119\" y1=\"84.9375\" y2=\"84.9375\"/><text fill=\"#000000\" font-family=\"sans-serif\" font-size=\"11\" lengthAdjust=\"spacingAndGlyphs\" textLength=\"32\" x=\"38\" y=\"115.9526\">pdest</text><text fill=\"#000000\" font-family=\"sans-serif\" font-size=\"11\" font-weight=\"bold\" lengthAdjust=\"spacingAndGlyphs\" textLength=\"15\" x=\"74\" y=\"115.9526\">as</text><text fill=\"#000000\" font-family=\"sans-serif\" font-size=\"11\" lengthAdjust=\"spacingAndGlyphs\" textLength=\"21\" x=\"93\" y=\"115.9526\">pd1</text><line style=\"stroke: #383838; stroke-width: 1.0;\" x1=\"33\" x2=\"61\" y1=\"99.3398\" y2=\"99.3398\"/><text fill=\"#000000\" font-family=\"sans-serif\" font-size=\"11\" lengthAdjust=\"spacingAndGlyphs\" textLength=\"30\" x=\"61\" y=\"102.6479\">ports</text><line style=\"stroke: #383838; stroke-width: 1.0;\" x1=\"91\" x2=\"119\" y1=\"99.3398\" y2=\"99.3398\"/></a><!--MD5=[05d275557350bfb9b23a4ef7222b4c39]\n",
       "link E3 to E2--><a href=\"psysml:743cbcb0-f678-48b7-bb90-7aa18ca2c39d\" target=\"_top\" title=\"psysml:743cbcb0-f678-48b7-bb90-7aa18ca2c39d\" xlink:actuate=\"onRequest\" xlink:href=\"psysml:743cbcb0-f678-48b7-bb90-7aa18ca2c39d\" xlink:show=\"new\" xlink:title=\"psysml:743cbcb0-f678-48b7-bb90-7aa18ca2c39d\" xlink:type=\"simple\"><path d=\"M181.89,129.15 C176.14,142.14 169.74,156.6 163.67,170.29 \" fill=\"none\" id=\"E3-&gt;E2\" style=\"stroke: #383838; stroke-width: 1.0;\"/><polygon fill=\"#FFFFFF\" points=\"155.43,188.9,156.725,168.693,169.5254,174.3632,155.43,188.9\" style=\"stroke: #383838; stroke-width: 1.0;\"/><ellipse cx=\"160.8622\" cy=\"164.2914\" fill=\"#383838\" rx=\"2\" ry=\"2\" style=\"stroke: #383838; stroke-width: 1.0;\"/><ellipse cx=\"170.0053\" cy=\"168.3416\" fill=\"#383838\" rx=\"2\" ry=\"2\" style=\"stroke: #383838; stroke-width: 1.0;\"/></a><!--MD5=[185131fc0dcab0a4505a2ebe144e961b]\n",
       "link E4 to E2--><a href=\"psysml:a1f896e7-ae1f-4795-a4ef-b600067d493f\" target=\"_top\" title=\"psysml:a1f896e7-ae1f-4795-a4ef-b600067d493f\" xlink:actuate=\"onRequest\" xlink:href=\"psysml:a1f896e7-ae1f-4795-a4ef-b600067d493f\" xlink:show=\"new\" xlink:title=\"psysml:a1f896e7-ae1f-4795-a4ef-b600067d493f\" xlink:type=\"simple\"><path d=\"M92.72,123.15 C99.23,137.63 106.84,154.53 113.98,170.4 \" fill=\"none\" id=\"E4-&gt;E2\" style=\"stroke: #383838; stroke-width: 1.0;\"/><polygon fill=\"#FFFFFF\" points=\"122.2,188.68,108.0257,174.22,120.7951,168.4803,122.2,188.68\" style=\"stroke: #383838; stroke-width: 1.0;\"/><ellipse cx=\"107.5131\" cy=\"168.2011\" fill=\"#383838\" rx=\"2\" ry=\"2\" style=\"stroke: #383838; stroke-width: 1.0;\"/><ellipse cx=\"116.634\" cy=\"164.1014\" fill=\"#383838\" rx=\"2\" ry=\"2\" style=\"stroke: #383838; stroke-width: 1.0;\"/></a><!--MD5=[4e835e90e804641bf2b89ee0ca85e523]\n",
       "@startuml\r\n",
       " skinparam monochrome true\r\n",
       "skinparam classbackgroundcolor white\r\n",
       "skinparam shadowing false\r\n",
       "skinparam wrapWidth 300\r\n",
       "hide circle\r\n",
       "\r\n",
       "package \"AliasTest\" as E1  [[psysml:6f25d091-f985-426b-8055-e92e3d48be4a ]]  {\r\n",
       "comp def \"P1\" as E2  <<(T,blue)part def>> [[psysml:258ca4bf-faa9-4328-8179-2aed0dfcbbf6 ]] {\r\n",
       "- - ports - -\r\n",
       "porig1 <b>as</b> po1 \r\n",
       "}\r\n",
       "comp usage \"p1: P1\" as E3  <<(T,blue)part>> [[psysml:a26c0441-e754-421d-8c32-eea1ef6cab52 ]] {\r\n",
       "- - ports - -\r\n",
       "po1\\n//:>>P1::porig1// \r\n",
       "}\r\n",
       "comp usage \"p2: P1\" as E4  <<(T,blue)part>> [[psysml:5c32a7f3-b309-4357-ac47-765b0be17034 ]] {\r\n",
       "- - ports - -\r\n",
       "pdest <b>as</b> pd1 \r\n",
       "}\r\n",
       "E3 - -:|> E2 [[psysml:743cbcb0-f678-48b7-bb90-7aa18ca2c39d ]] \r\n",
       "E4 - -:|> E2 [[psysml:a1f896e7-ae1f-4795-a4ef-b600067d493f ]] \r\n",
       "}\r\n",
       "@enduml\r\n",
       "\n",
       "PlantUML version 1.2020.13(Sat Jun 13 12:26:38 UTC 2020)\n",
       "(EPL source distribution)\n",
       "Java Runtime: OpenJDK Runtime Environment\n",
       "JVM: OpenJDK 64-Bit Server VM\n",
       "Default Encoding: UTF-8\n",
       "Language: en\n",
       "Country: null\n",
       "--></g></svg>"
      ]
     },
     "execution_count": 3,
     "metadata": {},
     "output_type": "execute_result"
    }
   ],
   "source": [
    "%viz --style=\"COMPTREE\" --view=\"Tree\" \"AliasTest\""
   ]
  },
  {
   "cell_type": "code",
   "execution_count": 4,
   "id": "detected-background",
   "metadata": {
    "execution": {
     "iopub.execute_input": "2021-03-26T13:00:33.145461Z",
     "iopub.status.busy": "2021-03-26T13:00:33.144180Z",
     "iopub.status.idle": "2021-03-26T13:00:33.155021Z",
     "shell.execute_reply": "2021-03-26T13:00:33.154182Z"
    }
   },
   "outputs": [
    {
     "data": {
      "image/svg+xml": [
       "<?xml version=\"1.0\" encoding=\"UTF-8\" standalone=\"no\"?><svg xmlns=\"http://www.w3.org/2000/svg\" xmlns:xlink=\"http://www.w3.org/1999/xlink\" contentScriptType=\"application/ecmascript\" contentStyleType=\"text/css\" height=\"12px\" preserveAspectRatio=\"none\" style=\"width:12px;height:12px;\" version=\"1.1\" viewBox=\"0 0 12 12\" width=\"12px\" zoomAndPan=\"magnify\"><defs/><g><!--MD5=[f19188ef49e11757b5c46753f95d9edc]\n",
       "@startuml\r\n",
       " skinparam monochrome true\r\n",
       "skinparam classbackgroundcolor white\r\n",
       "skinparam shadowing false\r\n",
       "skinparam wrapWidth 300\r\n",
       "hide circle\r\n",
       "\r\n",
       "@enduml\r\n",
       "\n",
       "PlantUML version 1.2020.13(Sat Jun 13 12:26:38 UTC 2020)\n",
       "(EPL source distribution)\n",
       "Java Runtime: OpenJDK Runtime Environment\n",
       "JVM: OpenJDK 64-Bit Server VM\n",
       "Default Encoding: UTF-8\n",
       "Language: en\n",
       "Country: null\n",
       "--></g></svg>"
      ]
     },
     "execution_count": 4,
     "metadata": {},
     "output_type": "execute_result"
    }
   ],
   "source": [
    "%viz --style=\"COMPTREE\" --view=\"State\" \"AliasTest\""
   ]
  },
  {
   "cell_type": "code",
   "execution_count": 5,
   "id": "artistic-blend",
   "metadata": {
    "execution": {
     "iopub.execute_input": "2021-03-26T13:00:33.207484Z",
     "iopub.status.busy": "2021-03-26T13:00:33.206706Z",
     "iopub.status.idle": "2021-03-26T13:00:33.263352Z",
     "shell.execute_reply": "2021-03-26T13:00:33.262062Z"
    }
   },
   "outputs": [
    {
     "data": {
      "image/svg+xml": [
       "<?xml version=\"1.0\" encoding=\"UTF-8\" standalone=\"no\"?><svg xmlns=\"http://www.w3.org/2000/svg\" xmlns:xlink=\"http://www.w3.org/1999/xlink\" contentScriptType=\"application/ecmascript\" contentStyleType=\"text/css\" height=\"207px\" preserveAspectRatio=\"none\" style=\"width:406px;height:207px;\" version=\"1.1\" viewBox=\"0 0 406 207\" width=\"406px\" zoomAndPan=\"magnify\"><defs/><g><!--MD5=[fbc87193dbaf4d95561dea2c320d4a47]\n",
       "cluster E1--><a href=\"psysml:6f25d091-f985-426b-8055-e92e3d48be4a\" target=\"_top\" title=\"psysml:6f25d091-f985-426b-8055-e92e3d48be4a\" xlink:actuate=\"onRequest\" xlink:href=\"psysml:6f25d091-f985-426b-8055-e92e3d48be4a\" xlink:show=\"new\" xlink:title=\"psysml:6f25d091-f985-426b-8055-e92e3d48be4a\" xlink:type=\"simple\"><polygon fill=\"#FFFFFF\" points=\"16,6,94,6,101,28.2969,384,28.2969,384,195,16,195,16,6\" style=\"stroke: #000000; stroke-width: 1.5;\"/><line style=\"stroke: #000000; stroke-width: 1.5;\" x1=\"16\" x2=\"101\" y1=\"28.2969\" y2=\"28.2969\"/><text fill=\"#000000\" font-family=\"sans-serif\" font-size=\"14\" font-weight=\"bold\" lengthAdjust=\"spacingAndGlyphs\" textLength=\"72\" x=\"20\" y=\"20.9951\">AliasTest</text></a><!--MD5=[e4f7fae6ed58524ba242bb0b0d3be6b7]\n",
       "cluster E2--><a href=\"psysml:258ca4bf-faa9-4328-8179-2aed0dfcbbf6\" target=\"_top\" title=\"psysml:258ca4bf-faa9-4328-8179-2aed0dfcbbf6\" xlink:actuate=\"onRequest\" xlink:href=\"psysml:258ca4bf-faa9-4328-8179-2aed0dfcbbf6\" xlink:show=\"new\" xlink:title=\"psysml:258ca4bf-faa9-4328-8179-2aed0dfcbbf6\" xlink:type=\"simple\"><rect fill=\"#FFFFFF\" height=\"73\" id=\"E2\" style=\"stroke: #383838; stroke-width: 1.5;\" width=\"83\" x=\"244\" y=\"55\"/><rect fill=\"#F8F8F8\" height=\"37.9375\" style=\"stroke: #383838; stroke-width: 1.5;\" width=\"83\" x=\"244\" y=\"55\"/><text fill=\"#000000\" font-family=\"sans-serif\" font-size=\"12\" font-style=\"italic\" lengthAdjust=\"spacingAndGlyphs\" textLength=\"64\" x=\"253.5\" y=\"71.1387\">«part def»</text><text fill=\"#000000\" font-family=\"sans-serif\" font-size=\"12\" lengthAdjust=\"spacingAndGlyphs\" textLength=\"16\" x=\"277.5\" y=\"85.1074\">P1</text></a><!--MD5=[de5ec2e2e8f62f467e546659f5068c88]\n",
       "cluster E5--><a href=\"psysml:a26c0441-e754-421d-8c32-eea1ef6cab52\" target=\"_top\" title=\"psysml:a26c0441-e754-421d-8c32-eea1ef6cab52\" xlink:actuate=\"onRequest\" xlink:href=\"psysml:a26c0441-e754-421d-8c32-eea1ef6cab52\" xlink:show=\"new\" xlink:title=\"psysml:a26c0441-e754-421d-8c32-eea1ef6cab52\" xlink:type=\"simple\"><rect fill=\"#FFFFFF\" height=\"84.5\" id=\"E5\" rx=\"10\" ry=\"10\" style=\"stroke: #383838; stroke-width: 1.5;\" width=\"101\" x=\"139\" y=\"94.5\"/><rect fill=\"#F8F8F8\" height=\"23.9688\" rx=\"10\" ry=\"10\" style=\"stroke: #F8F8F8; stroke-width: 1.5;\" width=\"101\" x=\"139\" y=\"94.5\"/><rect fill=\"#F8F8F8\" height=\"10\" style=\"stroke: #F8F8F8; stroke-width: 1.5;\" width=\"101\" x=\"139\" y=\"108.4688\"/><rect fill=\"none\" height=\"84.5\" id=\"E5\" rx=\"10\" ry=\"10\" style=\"stroke: #383838; stroke-width: 1.5;\" width=\"101\" x=\"139\" y=\"94.5\"/><text fill=\"#000000\" font-family=\"sans-serif\" font-size=\"12\" lengthAdjust=\"spacingAndGlyphs\" textLength=\"40\" x=\"169.5\" y=\"110.6387\">p1: P1</text><line style=\"stroke: #383838; stroke-width: 1.0;\" x1=\"139\" x2=\"240\" y1=\"118.4688\" y2=\"118.4688\"/></a><!--MD5=[168fadf3d0c3fd93dd5d6da1b1d7ab76]\n",
       "cluster E7--><a href=\"psysml:5c32a7f3-b309-4357-ac47-765b0be17034\" target=\"_top\" title=\"psysml:5c32a7f3-b309-4357-ac47-765b0be17034\" xlink:actuate=\"onRequest\" xlink:href=\"psysml:5c32a7f3-b309-4357-ac47-765b0be17034\" xlink:show=\"new\" xlink:title=\"psysml:5c32a7f3-b309-4357-ac47-765b0be17034\" xlink:type=\"simple\"><rect fill=\"#FFFFFF\" height=\"65\" id=\"E7\" rx=\"10\" ry=\"10\" style=\"stroke: #383838; stroke-width: 1.5;\" width=\"83\" x=\"53\" y=\"55\"/><rect fill=\"#F8F8F8\" height=\"23.9688\" rx=\"10\" ry=\"10\" style=\"stroke: #F8F8F8; stroke-width: 1.5;\" width=\"83\" x=\"53\" y=\"55\"/><rect fill=\"#F8F8F8\" height=\"10\" style=\"stroke: #F8F8F8; stroke-width: 1.5;\" width=\"83\" x=\"53\" y=\"68.9688\"/><rect fill=\"none\" height=\"65\" id=\"E7\" rx=\"10\" ry=\"10\" style=\"stroke: #383838; stroke-width: 1.5;\" width=\"83\" x=\"53\" y=\"55\"/><text fill=\"#000000\" font-family=\"sans-serif\" font-size=\"12\" lengthAdjust=\"spacingAndGlyphs\" textLength=\"40\" x=\"74.5\" y=\"71.1387\">p2: P1</text><line style=\"stroke: #383838; stroke-width: 1.0;\" x1=\"53\" x2=\"136\" y1=\"78.9688\" y2=\"78.9688\"/></a><text fill=\"#000000\" font-family=\"sans-serif\" font-size=\"14\" lengthAdjust=\"spacingAndGlyphs\" textLength=\"44\" x=\"240\" y=\"33.6982\">porig1</text><rect fill=\"#383838\" height=\"12\" style=\"stroke: #F8F8F8; stroke-width: 1.5;\" width=\"12\" x=\"256\" y=\"49\"/><text fill=\"#000000\" font-family=\"sans-serif\" font-size=\"14\" lengthAdjust=\"spacingAndGlyphs\" textLength=\"44\" x=\"287\" y=\"33.6982\">porig1</text><rect fill=\"#383838\" height=\"12\" style=\"stroke: #F8F8F8; stroke-width: 1.5;\" width=\"12\" x=\"303\" y=\"49\"/><text fill=\"#000000\" font-family=\"sans-serif\" font-size=\"14\" lengthAdjust=\"spacingAndGlyphs\" textLength=\"27\" x=\"143.5\" y=\"73.1982\">po1</text><rect fill=\"#383838\" height=\"12\" style=\"stroke: #F8F8F8; stroke-width: 1.5;\" width=\"12\" x=\"151\" y=\"88.5\"/><text fill=\"#000000\" font-family=\"sans-serif\" font-size=\"14\" lengthAdjust=\"spacingAndGlyphs\" textLength=\"40\" x=\"51\" y=\"33.6982\">pdest</text><rect fill=\"#383838\" height=\"12\" style=\"stroke: #F8F8F8; stroke-width: 1.5;\" width=\"12\" x=\"65\" y=\"49\"/><text fill=\"#000000\" font-family=\"sans-serif\" font-size=\"14\" lengthAdjust=\"spacingAndGlyphs\" textLength=\"40\" x=\"98\" y=\"33.6982\">pdest</text><rect fill=\"#383838\" height=\"12\" style=\"stroke: #F8F8F8; stroke-width: 1.5;\" width=\"12\" x=\"112\" y=\"49\"/><!--MD5=[60ac2c0cde89d4308155b0484e57a8ec]\n",
       "link E9 to E6--><a href=\"psysml:df73490b-6554-48a2-b250-43b559083f0a\" target=\"_top\" title=\"psysml:df73490b-6554-48a2-b250-43b559083f0a\" xlink:actuate=\"onRequest\" xlink:href=\"psysml:df73490b-6554-48a2-b250-43b559083f0a\" xlink:show=\"new\" xlink:title=\"psysml:df73490b-6554-48a2-b250-43b559083f0a\" xlink:type=\"simple\"><path d=\"M111.75,56.49 C103.41,58.2 109.82,64.05 115,69 C124.85,78.4 136.6,90.11 150.78,92.89 \" fill=\"none\" id=\"E9-E6\" style=\"stroke: #383838; stroke-width: 3.0;\"/></a><!--MD5=[60ac2c0cde89d4308155b0484e57a8ec]\n",
       "link E9 to E6--><a href=\"psysml:45234df1-ac0c-4024-a641-0b76867140fc\" target=\"_top\" title=\"psysml:45234df1-ac0c-4024-a641-0b76867140fc\" xlink:actuate=\"onRequest\" xlink:href=\"psysml:45234df1-ac0c-4024-a641-0b76867140fc\" xlink:show=\"new\" xlink:title=\"psysml:45234df1-ac0c-4024-a641-0b76867140fc\" xlink:type=\"simple\"><path d=\"M124.29,56.32 C137.94,57.76 144.62,63.87 150,69 C159.5,78.06 170.77,89.27 163.24,92.56 \" fill=\"none\" id=\"E9-E6-1\" style=\"stroke: #383838; stroke-width: 3.0;\"/></a><!--MD5=[96154733673b14649bf2d16b4520bfed]\n",
       "@startuml\r\n",
       "skinparam ranksep 8\r\n",
       "skinparam rectangle {\r\n",
       " backgroundColor<<block>> LightGreen\r\n",
       "}\r\n",
       " skinparam monochrome true\r\n",
       "skinparam classbackgroundcolor white\r\n",
       "skinparam shadowing false\r\n",
       "skinparam wrapWidth 300\r\n",
       "hide circle\r\n",
       "\r\n",
       "package \"AliasTest\" as E1  [[psysml:6f25d091-f985-426b-8055-e92e3d48be4a ]]  {\r\n",
       "rec def \"P1\" as E2  <<(T,blue)part def>> [[psysml:258ca4bf-faa9-4328-8179-2aed0dfcbbf6 ]] {\r\n",
       "portin \"porig1\" as E3  <<(T,blue)port>> [[psysml:9209c45f-41ff-489f-bc17-bfe3af02fc93 ]] \r\n",
       "portin \"porig1\" as E4  <<(T,blue)port>> [[psysml:9209c45f-41ff-489f-bc17-bfe3af02fc93 ]] \r\n",
       "}\r\n",
       "rec usage \"p1: P1\" as E5  [[psysml:a26c0441-e754-421d-8c32-eea1ef6cab52 ]] {\r\n",
       "portin \"po1\" as E6  <<(T,blue)port>> [[psysml:aa893173-d0db-4be8-bf63-d1ddc32421c6 ]] \r\n",
       "}\r\n",
       "rec usage \"p2: P1\" as E7  [[psysml:5c32a7f3-b309-4357-ac47-765b0be17034 ]] {\r\n",
       "portin \"pdest\" as E8  <<(T,blue)port>> [[psysml:cb10c624-640d-45a1-89db-7833fbdc21f8 ]] \r\n",
       "portin \"pdest\" as E9  <<(T,blue)port>> [[psysml:cb10c624-640d-45a1-89db-7833fbdc21f8 ]] \r\n",
       "}\r\n",
       "E9 -[thickness=3]- E6 [[psysml:df73490b-6554-48a2-b250-43b559083f0a ]] \r\n",
       "E9 -[thickness=3]- E6 [[psysml:45234df1-ac0c-4024-a641-0b76867140fc ]] \r\n",
       "}\r\n",
       "@enduml\r\n",
       "\n",
       "PlantUML version 1.2020.13(Sat Jun 13 12:26:38 UTC 2020)\n",
       "(EPL source distribution)\n",
       "Java Runtime: OpenJDK Runtime Environment\n",
       "JVM: OpenJDK 64-Bit Server VM\n",
       "Default Encoding: UTF-8\n",
       "Language: en\n",
       "Country: null\n",
       "--></g></svg>"
      ]
     },
     "execution_count": 5,
     "metadata": {},
     "output_type": "execute_result"
    }
   ],
   "source": [
    "%viz --style=\"COMPTREE\" --view=\"Interconnection\" \"AliasTest\""
   ]
  },
  {
   "cell_type": "code",
   "execution_count": 6,
   "id": "synthetic-piece",
   "metadata": {
    "execution": {
     "iopub.execute_input": "2021-03-26T13:00:33.313202Z",
     "iopub.status.busy": "2021-03-26T13:00:33.312782Z",
     "iopub.status.idle": "2021-03-26T13:00:33.319280Z",
     "shell.execute_reply": "2021-03-26T13:00:33.319025Z"
    }
   },
   "outputs": [
    {
     "data": {
      "image/svg+xml": [
       "<?xml version=\"1.0\" encoding=\"UTF-8\" standalone=\"no\"?><svg xmlns=\"http://www.w3.org/2000/svg\" xmlns:xlink=\"http://www.w3.org/1999/xlink\" contentScriptType=\"application/ecmascript\" contentStyleType=\"text/css\" height=\"12px\" preserveAspectRatio=\"none\" style=\"width:12px;height:12px;\" version=\"1.1\" viewBox=\"0 0 12 12\" width=\"12px\" zoomAndPan=\"magnify\"><defs/><g><!--MD5=[655b888544ca4751ea36af1068543f84]\n",
       "@startuml\r\n",
       "skinparam ranksep 8\r\n",
       " skinparam monochrome true\r\n",
       "skinparam classbackgroundcolor white\r\n",
       "skinparam shadowing false\r\n",
       "skinparam wrapWidth 300\r\n",
       "hide circle\r\n",
       "\r\n",
       "@enduml\r\n",
       "\n",
       "PlantUML version 1.2020.13(Sat Jun 13 12:26:38 UTC 2020)\n",
       "(EPL source distribution)\n",
       "Java Runtime: OpenJDK Runtime Environment\n",
       "JVM: OpenJDK 64-Bit Server VM\n",
       "Default Encoding: UTF-8\n",
       "Language: en\n",
       "Country: null\n",
       "--></g></svg>"
      ]
     },
     "execution_count": 6,
     "metadata": {},
     "output_type": "execute_result"
    }
   ],
   "source": [
    "%viz --style=\"COMPTREE\" --view=\"Action\" \"AliasTest\""
   ]
  },
  {
   "cell_type": "code",
   "execution_count": 7,
   "id": "fantastic-delight",
   "metadata": {
    "execution": {
     "iopub.execute_input": "2021-03-26T13:00:33.370115Z",
     "iopub.status.busy": "2021-03-26T13:00:33.369687Z",
     "iopub.status.idle": "2021-03-26T13:00:33.455755Z",
     "shell.execute_reply": "2021-03-26T13:00:33.455434Z"
    }
   },
   "outputs": [
    {
     "data": {
      "image/svg+xml": [
       "<?xml version=\"1.0\" encoding=\"UTF-8\" standalone=\"no\"?><svg xmlns=\"http://www.w3.org/2000/svg\" xmlns:xlink=\"http://www.w3.org/1999/xlink\" contentScriptType=\"application/ecmascript\" contentStyleType=\"text/css\" height=\"293px\" preserveAspectRatio=\"none\" style=\"width:285px;height:293px;\" version=\"1.1\" viewBox=\"0 0 285 293\" width=\"285px\" zoomAndPan=\"magnify\"><defs/><g><!--MD5=[fbc87193dbaf4d95561dea2c320d4a47]\n",
       "cluster E1--><a href=\"psysml:6f25d091-f985-426b-8055-e92e3d48be4a\" target=\"_top\" title=\"psysml:6f25d091-f985-426b-8055-e92e3d48be4a\" xlink:actuate=\"onRequest\" xlink:href=\"psysml:6f25d091-f985-426b-8055-e92e3d48be4a\" xlink:show=\"new\" xlink:title=\"psysml:6f25d091-f985-426b-8055-e92e3d48be4a\" xlink:type=\"simple\"><polygon fill=\"#FFFFFF\" points=\"16,6,94,6,101,28.2969,263,28.2969,263,281,16,281,16,6\" style=\"stroke: #000000; stroke-width: 1.5;\"/><line style=\"stroke: #000000; stroke-width: 1.5;\" x1=\"16\" x2=\"101\" y1=\"28.2969\" y2=\"28.2969\"/><text fill=\"#000000\" font-family=\"sans-serif\" font-size=\"14\" font-weight=\"bold\" lengthAdjust=\"spacingAndGlyphs\" textLength=\"72\" x=\"20\" y=\"20.9951\">AliasTest</text></a><!--MD5=[b4997ac47864f28c2f74865a473b2911]\n",
       "class E2--><a href=\"psysml:258ca4bf-faa9-4328-8179-2aed0dfcbbf6\" target=\"_top\" title=\"psysml:258ca4bf-faa9-4328-8179-2aed0dfcbbf6\" xlink:actuate=\"onRequest\" xlink:href=\"psysml:258ca4bf-faa9-4328-8179-2aed0dfcbbf6\" xlink:show=\"new\" xlink:title=\"psysml:258ca4bf-faa9-4328-8179-2aed0dfcbbf6\" xlink:type=\"simple\"><rect fill=\"#FFFFFF\" height=\"75.5469\" id=\"E2\" style=\"stroke: #383838; stroke-width: 1.5;\" width=\"92\" x=\"93\" y=\"189\"/><text fill=\"#000000\" font-family=\"sans-serif\" font-size=\"12\" font-style=\"italic\" lengthAdjust=\"spacingAndGlyphs\" textLength=\"64\" x=\"107\" y=\"205.1387\">«part def»</text><text fill=\"#000000\" font-family=\"sans-serif\" font-size=\"12\" lengthAdjust=\"spacingAndGlyphs\" textLength=\"16\" x=\"131\" y=\"219.1074\">P1</text><line style=\"stroke: #383838; stroke-width: 1.5;\" x1=\"94\" x2=\"184\" y1=\"226.9375\" y2=\"226.9375\"/><text fill=\"#000000\" font-family=\"sans-serif\" font-size=\"11\" lengthAdjust=\"spacingAndGlyphs\" textLength=\"36\" x=\"99\" y=\"257.9526\">porig1</text><text fill=\"#000000\" font-family=\"sans-serif\" font-size=\"11\" font-weight=\"bold\" lengthAdjust=\"spacingAndGlyphs\" textLength=\"15\" x=\"139\" y=\"257.9526\">as</text><text fill=\"#000000\" font-family=\"sans-serif\" font-size=\"11\" lengthAdjust=\"spacingAndGlyphs\" textLength=\"21\" x=\"158\" y=\"257.9526\">po1</text><line style=\"stroke: #383838; stroke-width: 1.0;\" x1=\"94\" x2=\"124\" y1=\"241.3398\" y2=\"241.3398\"/><text fill=\"#000000\" font-family=\"sans-serif\" font-size=\"11\" lengthAdjust=\"spacingAndGlyphs\" textLength=\"30\" x=\"124\" y=\"244.6479\">ports</text><line style=\"stroke: #383838; stroke-width: 1.0;\" x1=\"154\" x2=\"184\" y1=\"241.3398\" y2=\"241.3398\"/></a><!--MD5=[09b614a08d8cba4a07c9adeb5e0fee81]\n",
       "class E3--><a href=\"psysml:a26c0441-e754-421d-8c32-eea1ef6cab52\" target=\"_top\" title=\"psysml:a26c0441-e754-421d-8c32-eea1ef6cab52\" xlink:actuate=\"onRequest\" xlink:href=\"psysml:a26c0441-e754-421d-8c32-eea1ef6cab52\" xlink:show=\"new\" xlink:title=\"psysml:a26c0441-e754-421d-8c32-eea1ef6cab52\" xlink:type=\"simple\"><rect fill=\"#FFFFFF\" height=\"88.3516\" id=\"E3\" rx=\"10\" ry=\"10\" style=\"stroke: #383838; stroke-width: 1.5;\" width=\"92\" x=\"155\" y=\"41\"/><text fill=\"#000000\" font-family=\"sans-serif\" font-size=\"12\" font-style=\"italic\" lengthAdjust=\"spacingAndGlyphs\" textLength=\"40\" x=\"181\" y=\"57.1387\">«part»</text><text fill=\"#000000\" font-family=\"sans-serif\" font-size=\"12\" lengthAdjust=\"spacingAndGlyphs\" textLength=\"40\" x=\"181\" y=\"71.1074\">p1: P1</text><line style=\"stroke: #383838; stroke-width: 1.5;\" x1=\"156\" x2=\"246\" y1=\"78.9375\" y2=\"78.9375\"/><text fill=\"#000000\" font-family=\"sans-serif\" font-size=\"11\" lengthAdjust=\"spacingAndGlyphs\" textLength=\"21\" x=\"161\" y=\"109.9526\">po1</text><text fill=\"#000000\" font-family=\"sans-serif\" font-size=\"11\" font-style=\"italic\" lengthAdjust=\"spacingAndGlyphs\" textLength=\"80\" x=\"161\" y=\"122.7573\">:&gt;&gt;P1::porig1</text><line style=\"stroke: #383838; stroke-width: 1.0;\" x1=\"156\" x2=\"186\" y1=\"93.3398\" y2=\"93.3398\"/><text fill=\"#000000\" font-family=\"sans-serif\" font-size=\"11\" lengthAdjust=\"spacingAndGlyphs\" textLength=\"30\" x=\"186\" y=\"96.6479\">ports</text><line style=\"stroke: #383838; stroke-width: 1.0;\" x1=\"216\" x2=\"246\" y1=\"93.3398\" y2=\"93.3398\"/></a><!--MD5=[ebbe1d658d1005bcc118a6aa81145e00]\n",
       "class E4--><a href=\"psysml:5c32a7f3-b309-4357-ac47-765b0be17034\" target=\"_top\" title=\"psysml:5c32a7f3-b309-4357-ac47-765b0be17034\" xlink:actuate=\"onRequest\" xlink:href=\"psysml:5c32a7f3-b309-4357-ac47-765b0be17034\" xlink:show=\"new\" xlink:title=\"psysml:5c32a7f3-b309-4357-ac47-765b0be17034\" xlink:type=\"simple\"><rect fill=\"#FFFFFF\" height=\"75.5469\" id=\"E4\" rx=\"10\" ry=\"10\" style=\"stroke: #383838; stroke-width: 1.5;\" width=\"88\" x=\"32\" y=\"47\"/><text fill=\"#000000\" font-family=\"sans-serif\" font-size=\"12\" font-style=\"italic\" lengthAdjust=\"spacingAndGlyphs\" textLength=\"40\" x=\"56\" y=\"63.1387\">«part»</text><text fill=\"#000000\" font-family=\"sans-serif\" font-size=\"12\" lengthAdjust=\"spacingAndGlyphs\" textLength=\"40\" x=\"56\" y=\"77.1074\">p2: P1</text><line style=\"stroke: #383838; stroke-width: 1.5;\" x1=\"33\" x2=\"119\" y1=\"84.9375\" y2=\"84.9375\"/><text fill=\"#000000\" font-family=\"sans-serif\" font-size=\"11\" lengthAdjust=\"spacingAndGlyphs\" textLength=\"32\" x=\"38\" y=\"115.9526\">pdest</text><text fill=\"#000000\" font-family=\"sans-serif\" font-size=\"11\" font-weight=\"bold\" lengthAdjust=\"spacingAndGlyphs\" textLength=\"15\" x=\"74\" y=\"115.9526\">as</text><text fill=\"#000000\" font-family=\"sans-serif\" font-size=\"11\" lengthAdjust=\"spacingAndGlyphs\" textLength=\"21\" x=\"93\" y=\"115.9526\">pd1</text><line style=\"stroke: #383838; stroke-width: 1.0;\" x1=\"33\" x2=\"61\" y1=\"99.3398\" y2=\"99.3398\"/><text fill=\"#000000\" font-family=\"sans-serif\" font-size=\"11\" lengthAdjust=\"spacingAndGlyphs\" textLength=\"30\" x=\"61\" y=\"102.6479\">ports</text><line style=\"stroke: #383838; stroke-width: 1.0;\" x1=\"91\" x2=\"119\" y1=\"99.3398\" y2=\"99.3398\"/></a><!--MD5=[05d275557350bfb9b23a4ef7222b4c39]\n",
       "link E3 to E2--><a href=\"psysml:743cbcb0-f678-48b7-bb90-7aa18ca2c39d\" target=\"_top\" title=\"psysml:743cbcb0-f678-48b7-bb90-7aa18ca2c39d\" xlink:actuate=\"onRequest\" xlink:href=\"psysml:743cbcb0-f678-48b7-bb90-7aa18ca2c39d\" xlink:show=\"new\" xlink:title=\"psysml:743cbcb0-f678-48b7-bb90-7aa18ca2c39d\" xlink:type=\"simple\"><path d=\"M181.89,129.15 C176.14,142.14 169.74,156.6 163.67,170.29 \" fill=\"none\" id=\"E3-&gt;E2\" style=\"stroke: #383838; stroke-width: 1.0;\"/><polygon fill=\"#FFFFFF\" points=\"155.43,188.9,156.725,168.693,169.5254,174.3632,155.43,188.9\" style=\"stroke: #383838; stroke-width: 1.0;\"/><ellipse cx=\"160.8622\" cy=\"164.2914\" fill=\"#383838\" rx=\"2\" ry=\"2\" style=\"stroke: #383838; stroke-width: 1.0;\"/><ellipse cx=\"170.0053\" cy=\"168.3416\" fill=\"#383838\" rx=\"2\" ry=\"2\" style=\"stroke: #383838; stroke-width: 1.0;\"/></a><!--MD5=[185131fc0dcab0a4505a2ebe144e961b]\n",
       "link E4 to E2--><a href=\"psysml:a1f896e7-ae1f-4795-a4ef-b600067d493f\" target=\"_top\" title=\"psysml:a1f896e7-ae1f-4795-a4ef-b600067d493f\" xlink:actuate=\"onRequest\" xlink:href=\"psysml:a1f896e7-ae1f-4795-a4ef-b600067d493f\" xlink:show=\"new\" xlink:title=\"psysml:a1f896e7-ae1f-4795-a4ef-b600067d493f\" xlink:type=\"simple\"><path d=\"M92.72,123.15 C99.23,137.63 106.84,154.53 113.98,170.4 \" fill=\"none\" id=\"E4-&gt;E2\" style=\"stroke: #383838; stroke-width: 1.0;\"/><polygon fill=\"#FFFFFF\" points=\"122.2,188.68,108.0257,174.22,120.7951,168.4803,122.2,188.68\" style=\"stroke: #383838; stroke-width: 1.0;\"/><ellipse cx=\"107.5131\" cy=\"168.2011\" fill=\"#383838\" rx=\"2\" ry=\"2\" style=\"stroke: #383838; stroke-width: 1.0;\"/><ellipse cx=\"116.634\" cy=\"164.1014\" fill=\"#383838\" rx=\"2\" ry=\"2\" style=\"stroke: #383838; stroke-width: 1.0;\"/></a><!--MD5=[4e835e90e804641bf2b89ee0ca85e523]\n",
       "@startuml\r\n",
       " skinparam monochrome true\r\n",
       "skinparam classbackgroundcolor white\r\n",
       "skinparam shadowing false\r\n",
       "skinparam wrapWidth 300\r\n",
       "hide circle\r\n",
       "\r\n",
       "package \"AliasTest\" as E1  [[psysml:6f25d091-f985-426b-8055-e92e3d48be4a ]]  {\r\n",
       "comp def \"P1\" as E2  <<(T,blue)part def>> [[psysml:258ca4bf-faa9-4328-8179-2aed0dfcbbf6 ]] {\r\n",
       "- - ports - -\r\n",
       "porig1 <b>as</b> po1 \r\n",
       "}\r\n",
       "comp usage \"p1: P1\" as E3  <<(T,blue)part>> [[psysml:a26c0441-e754-421d-8c32-eea1ef6cab52 ]] {\r\n",
       "- - ports - -\r\n",
       "po1\\n//:>>P1::porig1// \r\n",
       "}\r\n",
       "comp usage \"p2: P1\" as E4  <<(T,blue)part>> [[psysml:5c32a7f3-b309-4357-ac47-765b0be17034 ]] {\r\n",
       "- - ports - -\r\n",
       "pdest <b>as</b> pd1 \r\n",
       "}\r\n",
       "E3 - -:|> E2 [[psysml:743cbcb0-f678-48b7-bb90-7aa18ca2c39d ]] \r\n",
       "E4 - -:|> E2 [[psysml:a1f896e7-ae1f-4795-a4ef-b600067d493f ]] \r\n",
       "}\r\n",
       "@enduml\r\n",
       "\n",
       "PlantUML version 1.2020.13(Sat Jun 13 12:26:38 UTC 2020)\n",
       "(EPL source distribution)\n",
       "Java Runtime: OpenJDK Runtime Environment\n",
       "JVM: OpenJDK 64-Bit Server VM\n",
       "Default Encoding: UTF-8\n",
       "Language: en\n",
       "Country: null\n",
       "--></g></svg>"
      ]
     },
     "execution_count": 7,
     "metadata": {},
     "output_type": "execute_result"
    }
   ],
   "source": [
    "%viz --style=\"COMPTREE\" --view=\"Sequence\" \"AliasTest\""
   ]
  },
  {
   "cell_type": "code",
   "execution_count": 8,
   "id": "running-cambridge",
   "metadata": {
    "execution": {
     "iopub.execute_input": "2021-03-26T13:00:33.507527Z",
     "iopub.status.busy": "2021-03-26T13:00:33.506796Z",
     "iopub.status.idle": "2021-03-26T13:00:33.593989Z",
     "shell.execute_reply": "2021-03-26T13:00:33.593558Z"
    }
   },
   "outputs": [
    {
     "data": {
      "image/svg+xml": [
       "<?xml version=\"1.0\" encoding=\"UTF-8\" standalone=\"no\"?><svg xmlns=\"http://www.w3.org/2000/svg\" xmlns:xlink=\"http://www.w3.org/1999/xlink\" contentScriptType=\"application/ecmascript\" contentStyleType=\"text/css\" height=\"293px\" preserveAspectRatio=\"none\" style=\"width:285px;height:293px;\" version=\"1.1\" viewBox=\"0 0 285 293\" width=\"285px\" zoomAndPan=\"magnify\"><defs/><g><!--MD5=[fbc87193dbaf4d95561dea2c320d4a47]\n",
       "cluster E1--><a href=\"psysml:6f25d091-f985-426b-8055-e92e3d48be4a\" target=\"_top\" title=\"psysml:6f25d091-f985-426b-8055-e92e3d48be4a\" xlink:actuate=\"onRequest\" xlink:href=\"psysml:6f25d091-f985-426b-8055-e92e3d48be4a\" xlink:show=\"new\" xlink:title=\"psysml:6f25d091-f985-426b-8055-e92e3d48be4a\" xlink:type=\"simple\"><polygon fill=\"#FFFFFF\" points=\"16,6,94,6,101,28.2969,263,28.2969,263,281,16,281,16,6\" style=\"stroke: #000000; stroke-width: 1.5;\"/><line style=\"stroke: #000000; stroke-width: 1.5;\" x1=\"16\" x2=\"101\" y1=\"28.2969\" y2=\"28.2969\"/><text fill=\"#000000\" font-family=\"sans-serif\" font-size=\"14\" font-weight=\"bold\" lengthAdjust=\"spacingAndGlyphs\" textLength=\"72\" x=\"20\" y=\"20.9951\">AliasTest</text></a><!--MD5=[b4997ac47864f28c2f74865a473b2911]\n",
       "class E2--><a href=\"psysml:258ca4bf-faa9-4328-8179-2aed0dfcbbf6\" target=\"_top\" title=\"psysml:258ca4bf-faa9-4328-8179-2aed0dfcbbf6\" xlink:actuate=\"onRequest\" xlink:href=\"psysml:258ca4bf-faa9-4328-8179-2aed0dfcbbf6\" xlink:show=\"new\" xlink:title=\"psysml:258ca4bf-faa9-4328-8179-2aed0dfcbbf6\" xlink:type=\"simple\"><rect fill=\"#FFFFFF\" height=\"75.5469\" id=\"E2\" style=\"stroke: #383838; stroke-width: 1.5;\" width=\"92\" x=\"93\" y=\"189\"/><text fill=\"#000000\" font-family=\"sans-serif\" font-size=\"12\" font-style=\"italic\" lengthAdjust=\"spacingAndGlyphs\" textLength=\"64\" x=\"107\" y=\"205.1387\">«part def»</text><text fill=\"#000000\" font-family=\"sans-serif\" font-size=\"12\" lengthAdjust=\"spacingAndGlyphs\" textLength=\"16\" x=\"131\" y=\"219.1074\">P1</text><line style=\"stroke: #383838; stroke-width: 1.5;\" x1=\"94\" x2=\"184\" y1=\"226.9375\" y2=\"226.9375\"/><text fill=\"#000000\" font-family=\"sans-serif\" font-size=\"11\" lengthAdjust=\"spacingAndGlyphs\" textLength=\"36\" x=\"99\" y=\"257.9526\">porig1</text><text fill=\"#000000\" font-family=\"sans-serif\" font-size=\"11\" font-weight=\"bold\" lengthAdjust=\"spacingAndGlyphs\" textLength=\"15\" x=\"139\" y=\"257.9526\">as</text><text fill=\"#000000\" font-family=\"sans-serif\" font-size=\"11\" lengthAdjust=\"spacingAndGlyphs\" textLength=\"21\" x=\"158\" y=\"257.9526\">po1</text><line style=\"stroke: #383838; stroke-width: 1.0;\" x1=\"94\" x2=\"124\" y1=\"241.3398\" y2=\"241.3398\"/><text fill=\"#000000\" font-family=\"sans-serif\" font-size=\"11\" lengthAdjust=\"spacingAndGlyphs\" textLength=\"30\" x=\"124\" y=\"244.6479\">ports</text><line style=\"stroke: #383838; stroke-width: 1.0;\" x1=\"154\" x2=\"184\" y1=\"241.3398\" y2=\"241.3398\"/></a><!--MD5=[09b614a08d8cba4a07c9adeb5e0fee81]\n",
       "class E3--><a href=\"psysml:a26c0441-e754-421d-8c32-eea1ef6cab52\" target=\"_top\" title=\"psysml:a26c0441-e754-421d-8c32-eea1ef6cab52\" xlink:actuate=\"onRequest\" xlink:href=\"psysml:a26c0441-e754-421d-8c32-eea1ef6cab52\" xlink:show=\"new\" xlink:title=\"psysml:a26c0441-e754-421d-8c32-eea1ef6cab52\" xlink:type=\"simple\"><rect fill=\"#FFFFFF\" height=\"88.3516\" id=\"E3\" rx=\"10\" ry=\"10\" style=\"stroke: #383838; stroke-width: 1.5;\" width=\"92\" x=\"155\" y=\"41\"/><text fill=\"#000000\" font-family=\"sans-serif\" font-size=\"12\" font-style=\"italic\" lengthAdjust=\"spacingAndGlyphs\" textLength=\"40\" x=\"181\" y=\"57.1387\">«part»</text><text fill=\"#000000\" font-family=\"sans-serif\" font-size=\"12\" lengthAdjust=\"spacingAndGlyphs\" textLength=\"40\" x=\"181\" y=\"71.1074\">p1: P1</text><line style=\"stroke: #383838; stroke-width: 1.5;\" x1=\"156\" x2=\"246\" y1=\"78.9375\" y2=\"78.9375\"/><text fill=\"#000000\" font-family=\"sans-serif\" font-size=\"11\" lengthAdjust=\"spacingAndGlyphs\" textLength=\"21\" x=\"161\" y=\"109.9526\">po1</text><text fill=\"#000000\" font-family=\"sans-serif\" font-size=\"11\" font-style=\"italic\" lengthAdjust=\"spacingAndGlyphs\" textLength=\"80\" x=\"161\" y=\"122.7573\">:&gt;&gt;P1::porig1</text><line style=\"stroke: #383838; stroke-width: 1.0;\" x1=\"156\" x2=\"186\" y1=\"93.3398\" y2=\"93.3398\"/><text fill=\"#000000\" font-family=\"sans-serif\" font-size=\"11\" lengthAdjust=\"spacingAndGlyphs\" textLength=\"30\" x=\"186\" y=\"96.6479\">ports</text><line style=\"stroke: #383838; stroke-width: 1.0;\" x1=\"216\" x2=\"246\" y1=\"93.3398\" y2=\"93.3398\"/></a><!--MD5=[ebbe1d658d1005bcc118a6aa81145e00]\n",
       "class E4--><a href=\"psysml:5c32a7f3-b309-4357-ac47-765b0be17034\" target=\"_top\" title=\"psysml:5c32a7f3-b309-4357-ac47-765b0be17034\" xlink:actuate=\"onRequest\" xlink:href=\"psysml:5c32a7f3-b309-4357-ac47-765b0be17034\" xlink:show=\"new\" xlink:title=\"psysml:5c32a7f3-b309-4357-ac47-765b0be17034\" xlink:type=\"simple\"><rect fill=\"#FFFFFF\" height=\"75.5469\" id=\"E4\" rx=\"10\" ry=\"10\" style=\"stroke: #383838; stroke-width: 1.5;\" width=\"88\" x=\"32\" y=\"47\"/><text fill=\"#000000\" font-family=\"sans-serif\" font-size=\"12\" font-style=\"italic\" lengthAdjust=\"spacingAndGlyphs\" textLength=\"40\" x=\"56\" y=\"63.1387\">«part»</text><text fill=\"#000000\" font-family=\"sans-serif\" font-size=\"12\" lengthAdjust=\"spacingAndGlyphs\" textLength=\"40\" x=\"56\" y=\"77.1074\">p2: P1</text><line style=\"stroke: #383838; stroke-width: 1.5;\" x1=\"33\" x2=\"119\" y1=\"84.9375\" y2=\"84.9375\"/><text fill=\"#000000\" font-family=\"sans-serif\" font-size=\"11\" lengthAdjust=\"spacingAndGlyphs\" textLength=\"32\" x=\"38\" y=\"115.9526\">pdest</text><text fill=\"#000000\" font-family=\"sans-serif\" font-size=\"11\" font-weight=\"bold\" lengthAdjust=\"spacingAndGlyphs\" textLength=\"15\" x=\"74\" y=\"115.9526\">as</text><text fill=\"#000000\" font-family=\"sans-serif\" font-size=\"11\" lengthAdjust=\"spacingAndGlyphs\" textLength=\"21\" x=\"93\" y=\"115.9526\">pd1</text><line style=\"stroke: #383838; stroke-width: 1.0;\" x1=\"33\" x2=\"61\" y1=\"99.3398\" y2=\"99.3398\"/><text fill=\"#000000\" font-family=\"sans-serif\" font-size=\"11\" lengthAdjust=\"spacingAndGlyphs\" textLength=\"30\" x=\"61\" y=\"102.6479\">ports</text><line style=\"stroke: #383838; stroke-width: 1.0;\" x1=\"91\" x2=\"119\" y1=\"99.3398\" y2=\"99.3398\"/></a><!--MD5=[05d275557350bfb9b23a4ef7222b4c39]\n",
       "link E3 to E2--><a href=\"psysml:743cbcb0-f678-48b7-bb90-7aa18ca2c39d\" target=\"_top\" title=\"psysml:743cbcb0-f678-48b7-bb90-7aa18ca2c39d\" xlink:actuate=\"onRequest\" xlink:href=\"psysml:743cbcb0-f678-48b7-bb90-7aa18ca2c39d\" xlink:show=\"new\" xlink:title=\"psysml:743cbcb0-f678-48b7-bb90-7aa18ca2c39d\" xlink:type=\"simple\"><path d=\"M181.89,129.15 C176.14,142.14 169.74,156.6 163.67,170.29 \" fill=\"none\" id=\"E3-&gt;E2\" style=\"stroke: #383838; stroke-width: 1.0;\"/><polygon fill=\"#FFFFFF\" points=\"155.43,188.9,156.725,168.693,169.5254,174.3632,155.43,188.9\" style=\"stroke: #383838; stroke-width: 1.0;\"/><ellipse cx=\"160.8622\" cy=\"164.2914\" fill=\"#383838\" rx=\"2\" ry=\"2\" style=\"stroke: #383838; stroke-width: 1.0;\"/><ellipse cx=\"170.0053\" cy=\"168.3416\" fill=\"#383838\" rx=\"2\" ry=\"2\" style=\"stroke: #383838; stroke-width: 1.0;\"/></a><!--MD5=[185131fc0dcab0a4505a2ebe144e961b]\n",
       "link E4 to E2--><a href=\"psysml:a1f896e7-ae1f-4795-a4ef-b600067d493f\" target=\"_top\" title=\"psysml:a1f896e7-ae1f-4795-a4ef-b600067d493f\" xlink:actuate=\"onRequest\" xlink:href=\"psysml:a1f896e7-ae1f-4795-a4ef-b600067d493f\" xlink:show=\"new\" xlink:title=\"psysml:a1f896e7-ae1f-4795-a4ef-b600067d493f\" xlink:type=\"simple\"><path d=\"M92.72,123.15 C99.23,137.63 106.84,154.53 113.98,170.4 \" fill=\"none\" id=\"E4-&gt;E2\" style=\"stroke: #383838; stroke-width: 1.0;\"/><polygon fill=\"#FFFFFF\" points=\"122.2,188.68,108.0257,174.22,120.7951,168.4803,122.2,188.68\" style=\"stroke: #383838; stroke-width: 1.0;\"/><ellipse cx=\"107.5131\" cy=\"168.2011\" fill=\"#383838\" rx=\"2\" ry=\"2\" style=\"stroke: #383838; stroke-width: 1.0;\"/><ellipse cx=\"116.634\" cy=\"164.1014\" fill=\"#383838\" rx=\"2\" ry=\"2\" style=\"stroke: #383838; stroke-width: 1.0;\"/></a><!--MD5=[4e835e90e804641bf2b89ee0ca85e523]\n",
       "@startuml\r\n",
       " skinparam monochrome true\r\n",
       "skinparam classbackgroundcolor white\r\n",
       "skinparam shadowing false\r\n",
       "skinparam wrapWidth 300\r\n",
       "hide circle\r\n",
       "\r\n",
       "package \"AliasTest\" as E1  [[psysml:6f25d091-f985-426b-8055-e92e3d48be4a ]]  {\r\n",
       "comp def \"P1\" as E2  <<(T,blue)part def>> [[psysml:258ca4bf-faa9-4328-8179-2aed0dfcbbf6 ]] {\r\n",
       "- - ports - -\r\n",
       "porig1 <b>as</b> po1 \r\n",
       "}\r\n",
       "comp usage \"p1: P1\" as E3  <<(T,blue)part>> [[psysml:a26c0441-e754-421d-8c32-eea1ef6cab52 ]] {\r\n",
       "- - ports - -\r\n",
       "po1\\n//:>>P1::porig1// \r\n",
       "}\r\n",
       "comp usage \"p2: P1\" as E4  <<(T,blue)part>> [[psysml:5c32a7f3-b309-4357-ac47-765b0be17034 ]] {\r\n",
       "- - ports - -\r\n",
       "pdest <b>as</b> pd1 \r\n",
       "}\r\n",
       "E3 - -:|> E2 [[psysml:743cbcb0-f678-48b7-bb90-7aa18ca2c39d ]] \r\n",
       "E4 - -:|> E2 [[psysml:a1f896e7-ae1f-4795-a4ef-b600067d493f ]] \r\n",
       "}\r\n",
       "@enduml\r\n",
       "\n",
       "PlantUML version 1.2020.13(Sat Jun 13 12:26:38 UTC 2020)\n",
       "(EPL source distribution)\n",
       "Java Runtime: OpenJDK Runtime Environment\n",
       "JVM: OpenJDK 64-Bit Server VM\n",
       "Default Encoding: UTF-8\n",
       "Language: en\n",
       "Country: null\n",
       "--></g></svg>"
      ]
     },
     "execution_count": 8,
     "metadata": {},
     "output_type": "execute_result"
    }
   ],
   "source": [
    "%viz --style=\"COMPTREE\" --view=\"MIXED\" \"AliasTest\""
   ]
  },
  {
   "cell_type": "code",
   "execution_count": 9,
   "id": "attempted-cleveland",
   "metadata": {
    "execution": {
     "iopub.execute_input": "2021-03-26T13:00:33.645561Z",
     "iopub.status.busy": "2021-03-26T13:00:33.644652Z",
     "iopub.status.idle": "2021-03-26T13:00:33.722354Z",
     "shell.execute_reply": "2021-03-26T13:00:33.722084Z"
    }
   },
   "outputs": [
    {
     "data": {
      "image/svg+xml": [
       "<?xml version=\"1.0\" encoding=\"UTF-8\" standalone=\"no\"?><svg xmlns=\"http://www.w3.org/2000/svg\" xmlns:xlink=\"http://www.w3.org/1999/xlink\" contentScriptType=\"application/ecmascript\" contentStyleType=\"text/css\" height=\"293px\" preserveAspectRatio=\"none\" style=\"width:285px;height:293px;\" version=\"1.1\" viewBox=\"0 0 285 293\" width=\"285px\" zoomAndPan=\"magnify\"><defs/><g><!--MD5=[fbc87193dbaf4d95561dea2c320d4a47]\n",
       "cluster E1--><a href=\"psysml:6f25d091-f985-426b-8055-e92e3d48be4a\" target=\"_top\" title=\"psysml:6f25d091-f985-426b-8055-e92e3d48be4a\" xlink:actuate=\"onRequest\" xlink:href=\"psysml:6f25d091-f985-426b-8055-e92e3d48be4a\" xlink:show=\"new\" xlink:title=\"psysml:6f25d091-f985-426b-8055-e92e3d48be4a\" xlink:type=\"simple\"><polygon fill=\"#FFFFFF\" points=\"16,6,94,6,101,28.2969,263,28.2969,263,281,16,281,16,6\" style=\"stroke: #000000; stroke-width: 1.5;\"/><line style=\"stroke: #000000; stroke-width: 1.5;\" x1=\"16\" x2=\"101\" y1=\"28.2969\" y2=\"28.2969\"/><text fill=\"#000000\" font-family=\"sans-serif\" font-size=\"14\" font-weight=\"bold\" lengthAdjust=\"spacingAndGlyphs\" textLength=\"72\" x=\"20\" y=\"20.9951\">AliasTest</text></a><!--MD5=[b4997ac47864f28c2f74865a473b2911]\n",
       "class E2--><a href=\"psysml:258ca4bf-faa9-4328-8179-2aed0dfcbbf6\" target=\"_top\" title=\"psysml:258ca4bf-faa9-4328-8179-2aed0dfcbbf6\" xlink:actuate=\"onRequest\" xlink:href=\"psysml:258ca4bf-faa9-4328-8179-2aed0dfcbbf6\" xlink:show=\"new\" xlink:title=\"psysml:258ca4bf-faa9-4328-8179-2aed0dfcbbf6\" xlink:type=\"simple\"><rect fill=\"#FFFFFF\" height=\"75.5469\" id=\"E2\" style=\"stroke: #383838; stroke-width: 1.5;\" width=\"92\" x=\"93\" y=\"189\"/><text fill=\"#000000\" font-family=\"sans-serif\" font-size=\"12\" font-style=\"italic\" lengthAdjust=\"spacingAndGlyphs\" textLength=\"64\" x=\"107\" y=\"205.1387\">«part def»</text><text fill=\"#000000\" font-family=\"sans-serif\" font-size=\"12\" lengthAdjust=\"spacingAndGlyphs\" textLength=\"16\" x=\"131\" y=\"219.1074\">P1</text><line style=\"stroke: #383838; stroke-width: 1.5;\" x1=\"94\" x2=\"184\" y1=\"226.9375\" y2=\"226.9375\"/><text fill=\"#000000\" font-family=\"sans-serif\" font-size=\"11\" lengthAdjust=\"spacingAndGlyphs\" textLength=\"36\" x=\"99\" y=\"257.9526\">porig1</text><text fill=\"#000000\" font-family=\"sans-serif\" font-size=\"11\" font-weight=\"bold\" lengthAdjust=\"spacingAndGlyphs\" textLength=\"15\" x=\"139\" y=\"257.9526\">as</text><text fill=\"#000000\" font-family=\"sans-serif\" font-size=\"11\" lengthAdjust=\"spacingAndGlyphs\" textLength=\"21\" x=\"158\" y=\"257.9526\">po1</text><line style=\"stroke: #383838; stroke-width: 1.0;\" x1=\"94\" x2=\"124\" y1=\"241.3398\" y2=\"241.3398\"/><text fill=\"#000000\" font-family=\"sans-serif\" font-size=\"11\" lengthAdjust=\"spacingAndGlyphs\" textLength=\"30\" x=\"124\" y=\"244.6479\">ports</text><line style=\"stroke: #383838; stroke-width: 1.0;\" x1=\"154\" x2=\"184\" y1=\"241.3398\" y2=\"241.3398\"/></a><!--MD5=[ebbe1d658d1005bcc118a6aa81145e00]\n",
       "class E4--><a href=\"psysml:a26c0441-e754-421d-8c32-eea1ef6cab52\" target=\"_top\" title=\"psysml:a26c0441-e754-421d-8c32-eea1ef6cab52\" xlink:actuate=\"onRequest\" xlink:href=\"psysml:a26c0441-e754-421d-8c32-eea1ef6cab52\" xlink:show=\"new\" xlink:title=\"psysml:a26c0441-e754-421d-8c32-eea1ef6cab52\" xlink:type=\"simple\"><rect fill=\"#FFFFFF\" height=\"88.3516\" id=\"E4\" rx=\"10\" ry=\"10\" style=\"stroke: #383838; stroke-width: 1.5;\" width=\"92\" x=\"155\" y=\"41\"/><text fill=\"#000000\" font-family=\"sans-serif\" font-size=\"12\" font-style=\"italic\" lengthAdjust=\"spacingAndGlyphs\" textLength=\"40\" x=\"181\" y=\"57.1387\">«part»</text><text fill=\"#000000\" font-family=\"sans-serif\" font-size=\"12\" lengthAdjust=\"spacingAndGlyphs\" textLength=\"40\" x=\"181\" y=\"71.1074\">p1: P1</text><line style=\"stroke: #383838; stroke-width: 1.5;\" x1=\"156\" x2=\"246\" y1=\"78.9375\" y2=\"78.9375\"/><text fill=\"#000000\" font-family=\"sans-serif\" font-size=\"11\" lengthAdjust=\"spacingAndGlyphs\" textLength=\"21\" x=\"161\" y=\"109.9526\">po1</text><text fill=\"#000000\" font-family=\"sans-serif\" font-size=\"11\" font-style=\"italic\" lengthAdjust=\"spacingAndGlyphs\" textLength=\"80\" x=\"161\" y=\"122.7573\">:&gt;&gt;P1::porig1</text><line style=\"stroke: #383838; stroke-width: 1.0;\" x1=\"156\" x2=\"186\" y1=\"93.3398\" y2=\"93.3398\"/><text fill=\"#000000\" font-family=\"sans-serif\" font-size=\"11\" lengthAdjust=\"spacingAndGlyphs\" textLength=\"30\" x=\"186\" y=\"96.6479\">ports</text><line style=\"stroke: #383838; stroke-width: 1.0;\" x1=\"216\" x2=\"246\" y1=\"93.3398\" y2=\"93.3398\"/></a><!--MD5=[60a26617385b1d2d0262a64233df1f8d]\n",
       "class E6--><a href=\"psysml:5c32a7f3-b309-4357-ac47-765b0be17034\" target=\"_top\" title=\"psysml:5c32a7f3-b309-4357-ac47-765b0be17034\" xlink:actuate=\"onRequest\" xlink:href=\"psysml:5c32a7f3-b309-4357-ac47-765b0be17034\" xlink:show=\"new\" xlink:title=\"psysml:5c32a7f3-b309-4357-ac47-765b0be17034\" xlink:type=\"simple\"><rect fill=\"#FFFFFF\" height=\"75.5469\" id=\"E6\" rx=\"10\" ry=\"10\" style=\"stroke: #383838; stroke-width: 1.5;\" width=\"88\" x=\"32\" y=\"47\"/><text fill=\"#000000\" font-family=\"sans-serif\" font-size=\"12\" font-style=\"italic\" lengthAdjust=\"spacingAndGlyphs\" textLength=\"40\" x=\"56\" y=\"63.1387\">«part»</text><text fill=\"#000000\" font-family=\"sans-serif\" font-size=\"12\" lengthAdjust=\"spacingAndGlyphs\" textLength=\"40\" x=\"56\" y=\"77.1074\">p2: P1</text><line style=\"stroke: #383838; stroke-width: 1.5;\" x1=\"33\" x2=\"119\" y1=\"84.9375\" y2=\"84.9375\"/><text fill=\"#000000\" font-family=\"sans-serif\" font-size=\"11\" lengthAdjust=\"spacingAndGlyphs\" textLength=\"32\" x=\"38\" y=\"115.9526\">pdest</text><text fill=\"#000000\" font-family=\"sans-serif\" font-size=\"11\" font-weight=\"bold\" lengthAdjust=\"spacingAndGlyphs\" textLength=\"15\" x=\"74\" y=\"115.9526\">as</text><text fill=\"#000000\" font-family=\"sans-serif\" font-size=\"11\" lengthAdjust=\"spacingAndGlyphs\" textLength=\"21\" x=\"93\" y=\"115.9526\">pd1</text><line style=\"stroke: #383838; stroke-width: 1.0;\" x1=\"33\" x2=\"61\" y1=\"99.3398\" y2=\"99.3398\"/><text fill=\"#000000\" font-family=\"sans-serif\" font-size=\"11\" lengthAdjust=\"spacingAndGlyphs\" textLength=\"30\" x=\"61\" y=\"102.6479\">ports</text><line style=\"stroke: #383838; stroke-width: 1.0;\" x1=\"91\" x2=\"119\" y1=\"99.3398\" y2=\"99.3398\"/></a><!--MD5=[185131fc0dcab0a4505a2ebe144e961b]\n",
       "link E4 to E2--><a href=\"psysml:743cbcb0-f678-48b7-bb90-7aa18ca2c39d\" target=\"_top\" title=\"psysml:743cbcb0-f678-48b7-bb90-7aa18ca2c39d\" xlink:actuate=\"onRequest\" xlink:href=\"psysml:743cbcb0-f678-48b7-bb90-7aa18ca2c39d\" xlink:show=\"new\" xlink:title=\"psysml:743cbcb0-f678-48b7-bb90-7aa18ca2c39d\" xlink:type=\"simple\"><path d=\"M181.89,129.15 C176.14,142.14 169.74,156.6 163.67,170.29 \" fill=\"none\" id=\"E4-&gt;E2\" style=\"stroke: #383838; stroke-width: 1.0;\"/><polygon fill=\"#FFFFFF\" points=\"155.43,188.9,156.725,168.693,169.5254,174.3632,155.43,188.9\" style=\"stroke: #383838; stroke-width: 1.0;\"/><ellipse cx=\"160.8622\" cy=\"164.2914\" fill=\"#383838\" rx=\"2\" ry=\"2\" style=\"stroke: #383838; stroke-width: 1.0;\"/><ellipse cx=\"170.0053\" cy=\"168.3416\" fill=\"#383838\" rx=\"2\" ry=\"2\" style=\"stroke: #383838; stroke-width: 1.0;\"/></a><!--MD5=[2351f337d6de0f557b50152ba70847b5]\n",
       "link E6 to E2--><a href=\"psysml:a1f896e7-ae1f-4795-a4ef-b600067d493f\" target=\"_top\" title=\"psysml:a1f896e7-ae1f-4795-a4ef-b600067d493f\" xlink:actuate=\"onRequest\" xlink:href=\"psysml:a1f896e7-ae1f-4795-a4ef-b600067d493f\" xlink:show=\"new\" xlink:title=\"psysml:a1f896e7-ae1f-4795-a4ef-b600067d493f\" xlink:type=\"simple\"><path d=\"M92.72,123.15 C99.23,137.63 106.84,154.53 113.98,170.4 \" fill=\"none\" id=\"E6-&gt;E2\" style=\"stroke: #383838; stroke-width: 1.0;\"/><polygon fill=\"#FFFFFF\" points=\"122.2,188.68,108.0257,174.22,120.7951,168.4803,122.2,188.68\" style=\"stroke: #383838; stroke-width: 1.0;\"/><ellipse cx=\"107.5131\" cy=\"168.2011\" fill=\"#383838\" rx=\"2\" ry=\"2\" style=\"stroke: #383838; stroke-width: 1.0;\"/><ellipse cx=\"116.634\" cy=\"164.1014\" fill=\"#383838\" rx=\"2\" ry=\"2\" style=\"stroke: #383838; stroke-width: 1.0;\"/></a><!--MD5=[18f60b9cfb4e83cd4a2240f9129498ae]\n",
       "@startuml\r\n",
       "skinparam linetype polyline\r\n",
       "skinparam monochrome true\r\n",
       "skinparam classbackgroundcolor white\r\n",
       "skinparam shadowing false\r\n",
       "skinparam wrapWidth 300\r\n",
       "hide circle\r\n",
       "\r\n",
       "package \"AliasTest\" as E1  [[psysml:6f25d091-f985-426b-8055-e92e3d48be4a ]]  {\r\n",
       "comp def \"P1\" as E2  <<(T,blue)part def>> [[psysml:258ca4bf-faa9-4328-8179-2aed0dfcbbf6 ]] {\r\n",
       "- - ports - -\r\n",
       "porig1 <b>as</b> po1 \r\n",
       "}\r\n",
       "comp usage \"p1: P1\" as E4  <<(T,blue)part>> [[psysml:a26c0441-e754-421d-8c32-eea1ef6cab52 ]] {\r\n",
       "- - ports - -\r\n",
       "po1\\n//:>>P1::porig1// \r\n",
       "}\r\n",
       "comp usage \"p2: P1\" as E6  <<(T,blue)part>> [[psysml:5c32a7f3-b309-4357-ac47-765b0be17034 ]] {\r\n",
       "- - ports - -\r\n",
       "pdest <b>as</b> pd1 \r\n",
       "}\r\n",
       "E4 - -:|> E2 [[psysml:743cbcb0-f678-48b7-bb90-7aa18ca2c39d ]] \r\n",
       "E6 - -:|> E2 [[psysml:a1f896e7-ae1f-4795-a4ef-b600067d493f ]] \r\n",
       "}\r\n",
       "@enduml\r\n",
       "\n",
       "PlantUML version 1.2020.13(Sat Jun 13 12:26:38 UTC 2020)\n",
       "(EPL source distribution)\n",
       "Java Runtime: OpenJDK Runtime Environment\n",
       "JVM: OpenJDK 64-Bit Server VM\n",
       "Default Encoding: UTF-8\n",
       "Language: en\n",
       "Country: null\n",
       "--></g></svg>"
      ]
     },
     "execution_count": 9,
     "metadata": {},
     "output_type": "execute_result"
    }
   ],
   "source": [
    "%viz --style=\"POLYLINE\" --view=\"Default\" \"AliasTest\""
   ]
  },
  {
   "cell_type": "code",
   "execution_count": 10,
   "id": "blessed-seller",
   "metadata": {
    "execution": {
     "iopub.execute_input": "2021-03-26T13:00:33.774800Z",
     "iopub.status.busy": "2021-03-26T13:00:33.774166Z",
     "iopub.status.idle": "2021-03-26T13:00:33.845355Z",
     "shell.execute_reply": "2021-03-26T13:00:33.845089Z"
    }
   },
   "outputs": [
    {
     "data": {
      "image/svg+xml": [
       "<?xml version=\"1.0\" encoding=\"UTF-8\" standalone=\"no\"?><svg xmlns=\"http://www.w3.org/2000/svg\" xmlns:xlink=\"http://www.w3.org/1999/xlink\" contentScriptType=\"application/ecmascript\" contentStyleType=\"text/css\" height=\"293px\" preserveAspectRatio=\"none\" style=\"width:285px;height:293px;\" version=\"1.1\" viewBox=\"0 0 285 293\" width=\"285px\" zoomAndPan=\"magnify\"><defs/><g><!--MD5=[fbc87193dbaf4d95561dea2c320d4a47]\n",
       "cluster E1--><a href=\"psysml:6f25d091-f985-426b-8055-e92e3d48be4a\" target=\"_top\" title=\"psysml:6f25d091-f985-426b-8055-e92e3d48be4a\" xlink:actuate=\"onRequest\" xlink:href=\"psysml:6f25d091-f985-426b-8055-e92e3d48be4a\" xlink:show=\"new\" xlink:title=\"psysml:6f25d091-f985-426b-8055-e92e3d48be4a\" xlink:type=\"simple\"><polygon fill=\"#FFFFFF\" points=\"16,6,94,6,101,28.2969,263,28.2969,263,281,16,281,16,6\" style=\"stroke: #000000; stroke-width: 1.5;\"/><line style=\"stroke: #000000; stroke-width: 1.5;\" x1=\"16\" x2=\"101\" y1=\"28.2969\" y2=\"28.2969\"/><text fill=\"#000000\" font-family=\"sans-serif\" font-size=\"14\" font-weight=\"bold\" lengthAdjust=\"spacingAndGlyphs\" textLength=\"72\" x=\"20\" y=\"20.9951\">AliasTest</text></a><!--MD5=[b4997ac47864f28c2f74865a473b2911]\n",
       "class E2--><a href=\"psysml:258ca4bf-faa9-4328-8179-2aed0dfcbbf6\" target=\"_top\" title=\"psysml:258ca4bf-faa9-4328-8179-2aed0dfcbbf6\" xlink:actuate=\"onRequest\" xlink:href=\"psysml:258ca4bf-faa9-4328-8179-2aed0dfcbbf6\" xlink:show=\"new\" xlink:title=\"psysml:258ca4bf-faa9-4328-8179-2aed0dfcbbf6\" xlink:type=\"simple\"><rect fill=\"#FFFFFF\" height=\"75.5469\" id=\"E2\" style=\"stroke: #383838; stroke-width: 1.5;\" width=\"92\" x=\"93\" y=\"189\"/><text fill=\"#000000\" font-family=\"sans-serif\" font-size=\"12\" font-style=\"italic\" lengthAdjust=\"spacingAndGlyphs\" textLength=\"64\" x=\"107\" y=\"205.1387\">«part def»</text><text fill=\"#000000\" font-family=\"sans-serif\" font-size=\"12\" lengthAdjust=\"spacingAndGlyphs\" textLength=\"16\" x=\"131\" y=\"219.1074\">P1</text><line style=\"stroke: #383838; stroke-width: 1.5;\" x1=\"94\" x2=\"184\" y1=\"226.9375\" y2=\"226.9375\"/><text fill=\"#000000\" font-family=\"sans-serif\" font-size=\"11\" lengthAdjust=\"spacingAndGlyphs\" textLength=\"36\" x=\"99\" y=\"257.9526\">porig1</text><text fill=\"#000000\" font-family=\"sans-serif\" font-size=\"11\" font-weight=\"bold\" lengthAdjust=\"spacingAndGlyphs\" textLength=\"15\" x=\"139\" y=\"257.9526\">as</text><text fill=\"#000000\" font-family=\"sans-serif\" font-size=\"11\" lengthAdjust=\"spacingAndGlyphs\" textLength=\"21\" x=\"158\" y=\"257.9526\">po1</text><line style=\"stroke: #383838; stroke-width: 1.0;\" x1=\"94\" x2=\"124\" y1=\"241.3398\" y2=\"241.3398\"/><text fill=\"#000000\" font-family=\"sans-serif\" font-size=\"11\" lengthAdjust=\"spacingAndGlyphs\" textLength=\"30\" x=\"124\" y=\"244.6479\">ports</text><line style=\"stroke: #383838; stroke-width: 1.0;\" x1=\"154\" x2=\"184\" y1=\"241.3398\" y2=\"241.3398\"/></a><!--MD5=[ebbe1d658d1005bcc118a6aa81145e00]\n",
       "class E4--><a href=\"psysml:a26c0441-e754-421d-8c32-eea1ef6cab52\" target=\"_top\" title=\"psysml:a26c0441-e754-421d-8c32-eea1ef6cab52\" xlink:actuate=\"onRequest\" xlink:href=\"psysml:a26c0441-e754-421d-8c32-eea1ef6cab52\" xlink:show=\"new\" xlink:title=\"psysml:a26c0441-e754-421d-8c32-eea1ef6cab52\" xlink:type=\"simple\"><rect fill=\"#FFFFFF\" height=\"88.3516\" id=\"E4\" rx=\"10\" ry=\"10\" style=\"stroke: #383838; stroke-width: 1.5;\" width=\"92\" x=\"155\" y=\"41\"/><text fill=\"#000000\" font-family=\"sans-serif\" font-size=\"12\" font-style=\"italic\" lengthAdjust=\"spacingAndGlyphs\" textLength=\"40\" x=\"181\" y=\"57.1387\">«part»</text><text fill=\"#000000\" font-family=\"sans-serif\" font-size=\"12\" lengthAdjust=\"spacingAndGlyphs\" textLength=\"40\" x=\"181\" y=\"71.1074\">p1: P1</text><line style=\"stroke: #383838; stroke-width: 1.5;\" x1=\"156\" x2=\"246\" y1=\"78.9375\" y2=\"78.9375\"/><text fill=\"#000000\" font-family=\"sans-serif\" font-size=\"11\" lengthAdjust=\"spacingAndGlyphs\" textLength=\"21\" x=\"161\" y=\"109.9526\">po1</text><text fill=\"#000000\" font-family=\"sans-serif\" font-size=\"11\" font-style=\"italic\" lengthAdjust=\"spacingAndGlyphs\" textLength=\"80\" x=\"161\" y=\"122.7573\">:&gt;&gt;P1::porig1</text><line style=\"stroke: #383838; stroke-width: 1.0;\" x1=\"156\" x2=\"186\" y1=\"93.3398\" y2=\"93.3398\"/><text fill=\"#000000\" font-family=\"sans-serif\" font-size=\"11\" lengthAdjust=\"spacingAndGlyphs\" textLength=\"30\" x=\"186\" y=\"96.6479\">ports</text><line style=\"stroke: #383838; stroke-width: 1.0;\" x1=\"216\" x2=\"246\" y1=\"93.3398\" y2=\"93.3398\"/></a><!--MD5=[60a26617385b1d2d0262a64233df1f8d]\n",
       "class E6--><a href=\"psysml:5c32a7f3-b309-4357-ac47-765b0be17034\" target=\"_top\" title=\"psysml:5c32a7f3-b309-4357-ac47-765b0be17034\" xlink:actuate=\"onRequest\" xlink:href=\"psysml:5c32a7f3-b309-4357-ac47-765b0be17034\" xlink:show=\"new\" xlink:title=\"psysml:5c32a7f3-b309-4357-ac47-765b0be17034\" xlink:type=\"simple\"><rect fill=\"#FFFFFF\" height=\"75.5469\" id=\"E6\" rx=\"10\" ry=\"10\" style=\"stroke: #383838; stroke-width: 1.5;\" width=\"88\" x=\"32\" y=\"47\"/><text fill=\"#000000\" font-family=\"sans-serif\" font-size=\"12\" font-style=\"italic\" lengthAdjust=\"spacingAndGlyphs\" textLength=\"40\" x=\"56\" y=\"63.1387\">«part»</text><text fill=\"#000000\" font-family=\"sans-serif\" font-size=\"12\" lengthAdjust=\"spacingAndGlyphs\" textLength=\"40\" x=\"56\" y=\"77.1074\">p2: P1</text><line style=\"stroke: #383838; stroke-width: 1.5;\" x1=\"33\" x2=\"119\" y1=\"84.9375\" y2=\"84.9375\"/><text fill=\"#000000\" font-family=\"sans-serif\" font-size=\"11\" lengthAdjust=\"spacingAndGlyphs\" textLength=\"32\" x=\"38\" y=\"115.9526\">pdest</text><text fill=\"#000000\" font-family=\"sans-serif\" font-size=\"11\" font-weight=\"bold\" lengthAdjust=\"spacingAndGlyphs\" textLength=\"15\" x=\"74\" y=\"115.9526\">as</text><text fill=\"#000000\" font-family=\"sans-serif\" font-size=\"11\" lengthAdjust=\"spacingAndGlyphs\" textLength=\"21\" x=\"93\" y=\"115.9526\">pd1</text><line style=\"stroke: #383838; stroke-width: 1.0;\" x1=\"33\" x2=\"61\" y1=\"99.3398\" y2=\"99.3398\"/><text fill=\"#000000\" font-family=\"sans-serif\" font-size=\"11\" lengthAdjust=\"spacingAndGlyphs\" textLength=\"30\" x=\"61\" y=\"102.6479\">ports</text><line style=\"stroke: #383838; stroke-width: 1.0;\" x1=\"91\" x2=\"119\" y1=\"99.3398\" y2=\"99.3398\"/></a><!--MD5=[185131fc0dcab0a4505a2ebe144e961b]\n",
       "link E4 to E2--><a href=\"psysml:743cbcb0-f678-48b7-bb90-7aa18ca2c39d\" target=\"_top\" title=\"psysml:743cbcb0-f678-48b7-bb90-7aa18ca2c39d\" xlink:actuate=\"onRequest\" xlink:href=\"psysml:743cbcb0-f678-48b7-bb90-7aa18ca2c39d\" xlink:show=\"new\" xlink:title=\"psysml:743cbcb0-f678-48b7-bb90-7aa18ca2c39d\" xlink:type=\"simple\"><path d=\"M181.89,129.15 C176.14,142.14 169.74,156.6 163.67,170.29 \" fill=\"none\" id=\"E4-&gt;E2\" style=\"stroke: #383838; stroke-width: 1.0;\"/><polygon fill=\"#FFFFFF\" points=\"155.43,188.9,156.725,168.693,169.5254,174.3632,155.43,188.9\" style=\"stroke: #383838; stroke-width: 1.0;\"/><ellipse cx=\"160.8622\" cy=\"164.2914\" fill=\"#383838\" rx=\"2\" ry=\"2\" style=\"stroke: #383838; stroke-width: 1.0;\"/><ellipse cx=\"170.0053\" cy=\"168.3416\" fill=\"#383838\" rx=\"2\" ry=\"2\" style=\"stroke: #383838; stroke-width: 1.0;\"/></a><!--MD5=[2351f337d6de0f557b50152ba70847b5]\n",
       "link E6 to E2--><a href=\"psysml:a1f896e7-ae1f-4795-a4ef-b600067d493f\" target=\"_top\" title=\"psysml:a1f896e7-ae1f-4795-a4ef-b600067d493f\" xlink:actuate=\"onRequest\" xlink:href=\"psysml:a1f896e7-ae1f-4795-a4ef-b600067d493f\" xlink:show=\"new\" xlink:title=\"psysml:a1f896e7-ae1f-4795-a4ef-b600067d493f\" xlink:type=\"simple\"><path d=\"M92.72,123.15 C99.23,137.63 106.84,154.53 113.98,170.4 \" fill=\"none\" id=\"E6-&gt;E2\" style=\"stroke: #383838; stroke-width: 1.0;\"/><polygon fill=\"#FFFFFF\" points=\"122.2,188.68,108.0257,174.22,120.7951,168.4803,122.2,188.68\" style=\"stroke: #383838; stroke-width: 1.0;\"/><ellipse cx=\"107.5131\" cy=\"168.2011\" fill=\"#383838\" rx=\"2\" ry=\"2\" style=\"stroke: #383838; stroke-width: 1.0;\"/><ellipse cx=\"116.634\" cy=\"164.1014\" fill=\"#383838\" rx=\"2\" ry=\"2\" style=\"stroke: #383838; stroke-width: 1.0;\"/></a><!--MD5=[18f60b9cfb4e83cd4a2240f9129498ae]\n",
       "@startuml\r\n",
       "skinparam linetype polyline\r\n",
       "skinparam monochrome true\r\n",
       "skinparam classbackgroundcolor white\r\n",
       "skinparam shadowing false\r\n",
       "skinparam wrapWidth 300\r\n",
       "hide circle\r\n",
       "\r\n",
       "package \"AliasTest\" as E1  [[psysml:6f25d091-f985-426b-8055-e92e3d48be4a ]]  {\r\n",
       "comp def \"P1\" as E2  <<(T,blue)part def>> [[psysml:258ca4bf-faa9-4328-8179-2aed0dfcbbf6 ]] {\r\n",
       "- - ports - -\r\n",
       "porig1 <b>as</b> po1 \r\n",
       "}\r\n",
       "comp usage \"p1: P1\" as E4  <<(T,blue)part>> [[psysml:a26c0441-e754-421d-8c32-eea1ef6cab52 ]] {\r\n",
       "- - ports - -\r\n",
       "po1\\n//:>>P1::porig1// \r\n",
       "}\r\n",
       "comp usage \"p2: P1\" as E6  <<(T,blue)part>> [[psysml:5c32a7f3-b309-4357-ac47-765b0be17034 ]] {\r\n",
       "- - ports - -\r\n",
       "pdest <b>as</b> pd1 \r\n",
       "}\r\n",
       "E4 - -:|> E2 [[psysml:743cbcb0-f678-48b7-bb90-7aa18ca2c39d ]] \r\n",
       "E6 - -:|> E2 [[psysml:a1f896e7-ae1f-4795-a4ef-b600067d493f ]] \r\n",
       "}\r\n",
       "@enduml\r\n",
       "\n",
       "PlantUML version 1.2020.13(Sat Jun 13 12:26:38 UTC 2020)\n",
       "(EPL source distribution)\n",
       "Java Runtime: OpenJDK Runtime Environment\n",
       "JVM: OpenJDK 64-Bit Server VM\n",
       "Default Encoding: UTF-8\n",
       "Language: en\n",
       "Country: null\n",
       "--></g></svg>"
      ]
     },
     "execution_count": 10,
     "metadata": {},
     "output_type": "execute_result"
    }
   ],
   "source": [
    "%viz --style=\"POLYLINE\" --view=\"Tree\" \"AliasTest\""
   ]
  },
  {
   "cell_type": "code",
   "execution_count": 11,
   "id": "affecting-finish",
   "metadata": {
    "execution": {
     "iopub.execute_input": "2021-03-26T13:00:33.897381Z",
     "iopub.status.busy": "2021-03-26T13:00:33.896372Z",
     "iopub.status.idle": "2021-03-26T13:00:33.905234Z",
     "shell.execute_reply": "2021-03-26T13:00:33.904934Z"
    }
   },
   "outputs": [
    {
     "data": {
      "image/svg+xml": [
       "<?xml version=\"1.0\" encoding=\"UTF-8\" standalone=\"no\"?><svg xmlns=\"http://www.w3.org/2000/svg\" xmlns:xlink=\"http://www.w3.org/1999/xlink\" contentScriptType=\"application/ecmascript\" contentStyleType=\"text/css\" height=\"12px\" preserveAspectRatio=\"none\" style=\"width:12px;height:12px;\" version=\"1.1\" viewBox=\"0 0 12 12\" width=\"12px\" zoomAndPan=\"magnify\"><defs/><g><!--MD5=[896ac0e7a515d8dd7765a661cb4ee08b]\n",
       "@startuml\r\n",
       "skinparam linetype polyline\r\n",
       "skinparam monochrome true\r\n",
       "skinparam classbackgroundcolor white\r\n",
       "skinparam shadowing false\r\n",
       "skinparam wrapWidth 300\r\n",
       "hide circle\r\n",
       "\r\n",
       "@enduml\r\n",
       "\n",
       "PlantUML version 1.2020.13(Sat Jun 13 12:26:38 UTC 2020)\n",
       "(EPL source distribution)\n",
       "Java Runtime: OpenJDK Runtime Environment\n",
       "JVM: OpenJDK 64-Bit Server VM\n",
       "Default Encoding: UTF-8\n",
       "Language: en\n",
       "Country: null\n",
       "--></g></svg>"
      ]
     },
     "execution_count": 11,
     "metadata": {},
     "output_type": "execute_result"
    }
   ],
   "source": [
    "%viz --style=\"POLYLINE\" --view=\"State\" \"AliasTest\""
   ]
  },
  {
   "cell_type": "code",
   "execution_count": 12,
   "id": "acute-blake",
   "metadata": {
    "execution": {
     "iopub.execute_input": "2021-03-26T13:00:33.957439Z",
     "iopub.status.busy": "2021-03-26T13:00:33.956660Z",
     "iopub.status.idle": "2021-03-26T13:00:34.005110Z",
     "shell.execute_reply": "2021-03-26T13:00:34.004671Z"
    }
   },
   "outputs": [
    {
     "data": {
      "image/svg+xml": [
       "<?xml version=\"1.0\" encoding=\"UTF-8\" standalone=\"no\"?><svg xmlns=\"http://www.w3.org/2000/svg\" xmlns:xlink=\"http://www.w3.org/1999/xlink\" contentScriptType=\"application/ecmascript\" contentStyleType=\"text/css\" height=\"207px\" preserveAspectRatio=\"none\" style=\"width:406px;height:207px;\" version=\"1.1\" viewBox=\"0 0 406 207\" width=\"406px\" zoomAndPan=\"magnify\"><defs/><g><!--MD5=[fbc87193dbaf4d95561dea2c320d4a47]\n",
       "cluster E1--><a href=\"psysml:6f25d091-f985-426b-8055-e92e3d48be4a\" target=\"_top\" title=\"psysml:6f25d091-f985-426b-8055-e92e3d48be4a\" xlink:actuate=\"onRequest\" xlink:href=\"psysml:6f25d091-f985-426b-8055-e92e3d48be4a\" xlink:show=\"new\" xlink:title=\"psysml:6f25d091-f985-426b-8055-e92e3d48be4a\" xlink:type=\"simple\"><polygon fill=\"#FFFFFF\" points=\"16,6,94,6,101,28.2969,384,28.2969,384,195,16,195,16,6\" style=\"stroke: #000000; stroke-width: 1.5;\"/><line style=\"stroke: #000000; stroke-width: 1.5;\" x1=\"16\" x2=\"101\" y1=\"28.2969\" y2=\"28.2969\"/><text fill=\"#000000\" font-family=\"sans-serif\" font-size=\"14\" font-weight=\"bold\" lengthAdjust=\"spacingAndGlyphs\" textLength=\"72\" x=\"20\" y=\"20.9951\">AliasTest</text></a><!--MD5=[e4f7fae6ed58524ba242bb0b0d3be6b7]\n",
       "cluster E2--><a href=\"psysml:258ca4bf-faa9-4328-8179-2aed0dfcbbf6\" target=\"_top\" title=\"psysml:258ca4bf-faa9-4328-8179-2aed0dfcbbf6\" xlink:actuate=\"onRequest\" xlink:href=\"psysml:258ca4bf-faa9-4328-8179-2aed0dfcbbf6\" xlink:show=\"new\" xlink:title=\"psysml:258ca4bf-faa9-4328-8179-2aed0dfcbbf6\" xlink:type=\"simple\"><rect fill=\"#FFFFFF\" height=\"73\" id=\"E2\" style=\"stroke: #383838; stroke-width: 1.5;\" width=\"83\" x=\"244\" y=\"55\"/><rect fill=\"#F8F8F8\" height=\"37.9375\" style=\"stroke: #383838; stroke-width: 1.5;\" width=\"83\" x=\"244\" y=\"55\"/><text fill=\"#000000\" font-family=\"sans-serif\" font-size=\"12\" font-style=\"italic\" lengthAdjust=\"spacingAndGlyphs\" textLength=\"64\" x=\"253.5\" y=\"71.1387\">«part def»</text><text fill=\"#000000\" font-family=\"sans-serif\" font-size=\"12\" lengthAdjust=\"spacingAndGlyphs\" textLength=\"16\" x=\"277.5\" y=\"85.1074\">P1</text></a><!--MD5=[de5ec2e2e8f62f467e546659f5068c88]\n",
       "cluster E5--><a href=\"psysml:a26c0441-e754-421d-8c32-eea1ef6cab52\" target=\"_top\" title=\"psysml:a26c0441-e754-421d-8c32-eea1ef6cab52\" xlink:actuate=\"onRequest\" xlink:href=\"psysml:a26c0441-e754-421d-8c32-eea1ef6cab52\" xlink:show=\"new\" xlink:title=\"psysml:a26c0441-e754-421d-8c32-eea1ef6cab52\" xlink:type=\"simple\"><rect fill=\"#FFFFFF\" height=\"84.5\" id=\"E5\" rx=\"10\" ry=\"10\" style=\"stroke: #383838; stroke-width: 1.5;\" width=\"101\" x=\"139\" y=\"94.5\"/><rect fill=\"#F8F8F8\" height=\"23.9688\" rx=\"10\" ry=\"10\" style=\"stroke: #F8F8F8; stroke-width: 1.5;\" width=\"101\" x=\"139\" y=\"94.5\"/><rect fill=\"#F8F8F8\" height=\"10\" style=\"stroke: #F8F8F8; stroke-width: 1.5;\" width=\"101\" x=\"139\" y=\"108.4688\"/><rect fill=\"none\" height=\"84.5\" id=\"E5\" rx=\"10\" ry=\"10\" style=\"stroke: #383838; stroke-width: 1.5;\" width=\"101\" x=\"139\" y=\"94.5\"/><text fill=\"#000000\" font-family=\"sans-serif\" font-size=\"12\" lengthAdjust=\"spacingAndGlyphs\" textLength=\"40\" x=\"169.5\" y=\"110.6387\">p1: P1</text><line style=\"stroke: #383838; stroke-width: 1.0;\" x1=\"139\" x2=\"240\" y1=\"118.4688\" y2=\"118.4688\"/></a><!--MD5=[168fadf3d0c3fd93dd5d6da1b1d7ab76]\n",
       "cluster E7--><a href=\"psysml:5c32a7f3-b309-4357-ac47-765b0be17034\" target=\"_top\" title=\"psysml:5c32a7f3-b309-4357-ac47-765b0be17034\" xlink:actuate=\"onRequest\" xlink:href=\"psysml:5c32a7f3-b309-4357-ac47-765b0be17034\" xlink:show=\"new\" xlink:title=\"psysml:5c32a7f3-b309-4357-ac47-765b0be17034\" xlink:type=\"simple\"><rect fill=\"#FFFFFF\" height=\"65\" id=\"E7\" rx=\"10\" ry=\"10\" style=\"stroke: #383838; stroke-width: 1.5;\" width=\"83\" x=\"53\" y=\"55\"/><rect fill=\"#F8F8F8\" height=\"23.9688\" rx=\"10\" ry=\"10\" style=\"stroke: #F8F8F8; stroke-width: 1.5;\" width=\"83\" x=\"53\" y=\"55\"/><rect fill=\"#F8F8F8\" height=\"10\" style=\"stroke: #F8F8F8; stroke-width: 1.5;\" width=\"83\" x=\"53\" y=\"68.9688\"/><rect fill=\"none\" height=\"65\" id=\"E7\" rx=\"10\" ry=\"10\" style=\"stroke: #383838; stroke-width: 1.5;\" width=\"83\" x=\"53\" y=\"55\"/><text fill=\"#000000\" font-family=\"sans-serif\" font-size=\"12\" lengthAdjust=\"spacingAndGlyphs\" textLength=\"40\" x=\"74.5\" y=\"71.1387\">p2: P1</text><line style=\"stroke: #383838; stroke-width: 1.0;\" x1=\"53\" x2=\"136\" y1=\"78.9688\" y2=\"78.9688\"/></a><text fill=\"#000000\" font-family=\"sans-serif\" font-size=\"14\" lengthAdjust=\"spacingAndGlyphs\" textLength=\"44\" x=\"240\" y=\"33.6982\">porig1</text><rect fill=\"#383838\" height=\"12\" style=\"stroke: #F8F8F8; stroke-width: 1.5;\" width=\"12\" x=\"256\" y=\"49\"/><text fill=\"#000000\" font-family=\"sans-serif\" font-size=\"14\" lengthAdjust=\"spacingAndGlyphs\" textLength=\"44\" x=\"287\" y=\"33.6982\">porig1</text><rect fill=\"#383838\" height=\"12\" style=\"stroke: #F8F8F8; stroke-width: 1.5;\" width=\"12\" x=\"303\" y=\"49\"/><text fill=\"#000000\" font-family=\"sans-serif\" font-size=\"14\" lengthAdjust=\"spacingAndGlyphs\" textLength=\"27\" x=\"143.5\" y=\"73.1982\">po1</text><rect fill=\"#383838\" height=\"12\" style=\"stroke: #F8F8F8; stroke-width: 1.5;\" width=\"12\" x=\"151\" y=\"88.5\"/><text fill=\"#000000\" font-family=\"sans-serif\" font-size=\"14\" lengthAdjust=\"spacingAndGlyphs\" textLength=\"40\" x=\"51\" y=\"33.6982\">pdest</text><rect fill=\"#383838\" height=\"12\" style=\"stroke: #F8F8F8; stroke-width: 1.5;\" width=\"12\" x=\"65\" y=\"49\"/><text fill=\"#000000\" font-family=\"sans-serif\" font-size=\"14\" lengthAdjust=\"spacingAndGlyphs\" textLength=\"40\" x=\"98\" y=\"33.6982\">pdest</text><rect fill=\"#383838\" height=\"12\" style=\"stroke: #F8F8F8; stroke-width: 1.5;\" width=\"12\" x=\"112\" y=\"49\"/><!--MD5=[60ac2c0cde89d4308155b0484e57a8ec]\n",
       "link E9 to E6--><a href=\"psysml:df73490b-6554-48a2-b250-43b559083f0a\" target=\"_top\" title=\"psysml:df73490b-6554-48a2-b250-43b559083f0a\" xlink:actuate=\"onRequest\" xlink:href=\"psysml:df73490b-6554-48a2-b250-43b559083f0a\" xlink:show=\"new\" xlink:title=\"psysml:df73490b-6554-48a2-b250-43b559083f0a\" xlink:type=\"simple\"><path d=\"M111.75,57.02 C105.4,60.08 115,69 115,69 C115,69 134.48,88.09 150.75,92.57 \" fill=\"none\" id=\"E9-E6\" style=\"stroke: #383838; stroke-width: 3.0;\"/></a><!--MD5=[60ac2c0cde89d4308155b0484e57a8ec]\n",
       "link E9 to E6--><a href=\"psysml:45234df1-ac0c-4024-a641-0b76867140fc\" target=\"_top\" title=\"psysml:45234df1-ac0c-4024-a641-0b76867140fc\" xlink:actuate=\"onRequest\" xlink:href=\"psysml:45234df1-ac0c-4024-a641-0b76867140fc\" xlink:show=\"new\" xlink:title=\"psysml:45234df1-ac0c-4024-a641-0b76867140fc\" xlink:type=\"simple\"><path d=\"M124.15,56.49 C139.09,58.87 150,69 150,69 C150,69 166.5,85.17 163.04,91.24 \" fill=\"none\" id=\"E9-E6-1\" style=\"stroke: #383838; stroke-width: 3.0;\"/></a><!--MD5=[b20ad19a43e4920784597cf42aeeaf58]\n",
       "@startuml\r\n",
       "skinparam ranksep 8\r\n",
       "skinparam rectangle {\r\n",
       " backgroundColor<<block>> LightGreen\r\n",
       "}\r\n",
       "skinparam linetype polyline\r\n",
       "skinparam monochrome true\r\n",
       "skinparam classbackgroundcolor white\r\n",
       "skinparam shadowing false\r\n",
       "skinparam wrapWidth 300\r\n",
       "hide circle\r\n",
       "\r\n",
       "package \"AliasTest\" as E1  [[psysml:6f25d091-f985-426b-8055-e92e3d48be4a ]]  {\r\n",
       "rec def \"P1\" as E2  <<(T,blue)part def>> [[psysml:258ca4bf-faa9-4328-8179-2aed0dfcbbf6 ]] {\r\n",
       "portin \"porig1\" as E3  <<(T,blue)port>> [[psysml:9209c45f-41ff-489f-bc17-bfe3af02fc93 ]] \r\n",
       "portin \"porig1\" as E4  <<(T,blue)port>> [[psysml:9209c45f-41ff-489f-bc17-bfe3af02fc93 ]] \r\n",
       "}\r\n",
       "rec usage \"p1: P1\" as E5  [[psysml:a26c0441-e754-421d-8c32-eea1ef6cab52 ]] {\r\n",
       "portin \"po1\" as E6  <<(T,blue)port>> [[psysml:aa893173-d0db-4be8-bf63-d1ddc32421c6 ]] \r\n",
       "}\r\n",
       "rec usage \"p2: P1\" as E7  [[psysml:5c32a7f3-b309-4357-ac47-765b0be17034 ]] {\r\n",
       "portin \"pdest\" as E8  <<(T,blue)port>> [[psysml:cb10c624-640d-45a1-89db-7833fbdc21f8 ]] \r\n",
       "portin \"pdest\" as E9  <<(T,blue)port>> [[psysml:cb10c624-640d-45a1-89db-7833fbdc21f8 ]] \r\n",
       "}\r\n",
       "E9 -[thickness=3]- E6 [[psysml:df73490b-6554-48a2-b250-43b559083f0a ]] \r\n",
       "E9 -[thickness=3]- E6 [[psysml:45234df1-ac0c-4024-a641-0b76867140fc ]] \r\n",
       "}\r\n",
       "@enduml\r\n",
       "\n",
       "PlantUML version 1.2020.13(Sat Jun 13 12:26:38 UTC 2020)\n",
       "(EPL source distribution)\n",
       "Java Runtime: OpenJDK Runtime Environment\n",
       "JVM: OpenJDK 64-Bit Server VM\n",
       "Default Encoding: UTF-8\n",
       "Language: en\n",
       "Country: null\n",
       "--></g></svg>"
      ]
     },
     "execution_count": 12,
     "metadata": {},
     "output_type": "execute_result"
    }
   ],
   "source": [
    "%viz --style=\"POLYLINE\" --view=\"Interconnection\" \"AliasTest\""
   ]
  },
  {
   "cell_type": "code",
   "execution_count": 13,
   "id": "double-preserve",
   "metadata": {
    "execution": {
     "iopub.execute_input": "2021-03-26T13:00:34.057034Z",
     "iopub.status.busy": "2021-03-26T13:00:34.056270Z",
     "iopub.status.idle": "2021-03-26T13:00:34.062963Z",
     "shell.execute_reply": "2021-03-26T13:00:34.062604Z"
    }
   },
   "outputs": [
    {
     "data": {
      "image/svg+xml": [
       "<?xml version=\"1.0\" encoding=\"UTF-8\" standalone=\"no\"?><svg xmlns=\"http://www.w3.org/2000/svg\" xmlns:xlink=\"http://www.w3.org/1999/xlink\" contentScriptType=\"application/ecmascript\" contentStyleType=\"text/css\" height=\"12px\" preserveAspectRatio=\"none\" style=\"width:12px;height:12px;\" version=\"1.1\" viewBox=\"0 0 12 12\" width=\"12px\" zoomAndPan=\"magnify\"><defs/><g><!--MD5=[97bbf32f66ccd50cbc40d92ea8f5a65e]\n",
       "@startuml\r\n",
       "skinparam ranksep 8\r\n",
       "skinparam linetype polyline\r\n",
       "skinparam monochrome true\r\n",
       "skinparam classbackgroundcolor white\r\n",
       "skinparam shadowing false\r\n",
       "skinparam wrapWidth 300\r\n",
       "hide circle\r\n",
       "\r\n",
       "@enduml\r\n",
       "\n",
       "PlantUML version 1.2020.13(Sat Jun 13 12:26:38 UTC 2020)\n",
       "(EPL source distribution)\n",
       "Java Runtime: OpenJDK Runtime Environment\n",
       "JVM: OpenJDK 64-Bit Server VM\n",
       "Default Encoding: UTF-8\n",
       "Language: en\n",
       "Country: null\n",
       "--></g></svg>"
      ]
     },
     "execution_count": 13,
     "metadata": {},
     "output_type": "execute_result"
    }
   ],
   "source": [
    "%viz --style=\"POLYLINE\" --view=\"Action\" \"AliasTest\""
   ]
  },
  {
   "cell_type": "code",
   "execution_count": 14,
   "id": "grand-welding",
   "metadata": {
    "execution": {
     "iopub.execute_input": "2021-03-26T13:00:34.116468Z",
     "iopub.status.busy": "2021-03-26T13:00:34.115643Z",
     "iopub.status.idle": "2021-03-26T13:00:34.185421Z",
     "shell.execute_reply": "2021-03-26T13:00:34.184949Z"
    }
   },
   "outputs": [
    {
     "data": {
      "image/svg+xml": [
       "<?xml version=\"1.0\" encoding=\"UTF-8\" standalone=\"no\"?><svg xmlns=\"http://www.w3.org/2000/svg\" xmlns:xlink=\"http://www.w3.org/1999/xlink\" contentScriptType=\"application/ecmascript\" contentStyleType=\"text/css\" height=\"293px\" preserveAspectRatio=\"none\" style=\"width:285px;height:293px;\" version=\"1.1\" viewBox=\"0 0 285 293\" width=\"285px\" zoomAndPan=\"magnify\"><defs/><g><!--MD5=[fbc87193dbaf4d95561dea2c320d4a47]\n",
       "cluster E1--><a href=\"psysml:6f25d091-f985-426b-8055-e92e3d48be4a\" target=\"_top\" title=\"psysml:6f25d091-f985-426b-8055-e92e3d48be4a\" xlink:actuate=\"onRequest\" xlink:href=\"psysml:6f25d091-f985-426b-8055-e92e3d48be4a\" xlink:show=\"new\" xlink:title=\"psysml:6f25d091-f985-426b-8055-e92e3d48be4a\" xlink:type=\"simple\"><polygon fill=\"#FFFFFF\" points=\"16,6,94,6,101,28.2969,263,28.2969,263,281,16,281,16,6\" style=\"stroke: #000000; stroke-width: 1.5;\"/><line style=\"stroke: #000000; stroke-width: 1.5;\" x1=\"16\" x2=\"101\" y1=\"28.2969\" y2=\"28.2969\"/><text fill=\"#000000\" font-family=\"sans-serif\" font-size=\"14\" font-weight=\"bold\" lengthAdjust=\"spacingAndGlyphs\" textLength=\"72\" x=\"20\" y=\"20.9951\">AliasTest</text></a><!--MD5=[b4997ac47864f28c2f74865a473b2911]\n",
       "class E2--><a href=\"psysml:258ca4bf-faa9-4328-8179-2aed0dfcbbf6\" target=\"_top\" title=\"psysml:258ca4bf-faa9-4328-8179-2aed0dfcbbf6\" xlink:actuate=\"onRequest\" xlink:href=\"psysml:258ca4bf-faa9-4328-8179-2aed0dfcbbf6\" xlink:show=\"new\" xlink:title=\"psysml:258ca4bf-faa9-4328-8179-2aed0dfcbbf6\" xlink:type=\"simple\"><rect fill=\"#FFFFFF\" height=\"75.5469\" id=\"E2\" style=\"stroke: #383838; stroke-width: 1.5;\" width=\"92\" x=\"93\" y=\"189\"/><text fill=\"#000000\" font-family=\"sans-serif\" font-size=\"12\" font-style=\"italic\" lengthAdjust=\"spacingAndGlyphs\" textLength=\"64\" x=\"107\" y=\"205.1387\">«part def»</text><text fill=\"#000000\" font-family=\"sans-serif\" font-size=\"12\" lengthAdjust=\"spacingAndGlyphs\" textLength=\"16\" x=\"131\" y=\"219.1074\">P1</text><line style=\"stroke: #383838; stroke-width: 1.5;\" x1=\"94\" x2=\"184\" y1=\"226.9375\" y2=\"226.9375\"/><text fill=\"#000000\" font-family=\"sans-serif\" font-size=\"11\" lengthAdjust=\"spacingAndGlyphs\" textLength=\"36\" x=\"99\" y=\"257.9526\">porig1</text><text fill=\"#000000\" font-family=\"sans-serif\" font-size=\"11\" font-weight=\"bold\" lengthAdjust=\"spacingAndGlyphs\" textLength=\"15\" x=\"139\" y=\"257.9526\">as</text><text fill=\"#000000\" font-family=\"sans-serif\" font-size=\"11\" lengthAdjust=\"spacingAndGlyphs\" textLength=\"21\" x=\"158\" y=\"257.9526\">po1</text><line style=\"stroke: #383838; stroke-width: 1.0;\" x1=\"94\" x2=\"124\" y1=\"241.3398\" y2=\"241.3398\"/><text fill=\"#000000\" font-family=\"sans-serif\" font-size=\"11\" lengthAdjust=\"spacingAndGlyphs\" textLength=\"30\" x=\"124\" y=\"244.6479\">ports</text><line style=\"stroke: #383838; stroke-width: 1.0;\" x1=\"154\" x2=\"184\" y1=\"241.3398\" y2=\"241.3398\"/></a><!--MD5=[ebbe1d658d1005bcc118a6aa81145e00]\n",
       "class E4--><a href=\"psysml:a26c0441-e754-421d-8c32-eea1ef6cab52\" target=\"_top\" title=\"psysml:a26c0441-e754-421d-8c32-eea1ef6cab52\" xlink:actuate=\"onRequest\" xlink:href=\"psysml:a26c0441-e754-421d-8c32-eea1ef6cab52\" xlink:show=\"new\" xlink:title=\"psysml:a26c0441-e754-421d-8c32-eea1ef6cab52\" xlink:type=\"simple\"><rect fill=\"#FFFFFF\" height=\"88.3516\" id=\"E4\" rx=\"10\" ry=\"10\" style=\"stroke: #383838; stroke-width: 1.5;\" width=\"92\" x=\"155\" y=\"41\"/><text fill=\"#000000\" font-family=\"sans-serif\" font-size=\"12\" font-style=\"italic\" lengthAdjust=\"spacingAndGlyphs\" textLength=\"40\" x=\"181\" y=\"57.1387\">«part»</text><text fill=\"#000000\" font-family=\"sans-serif\" font-size=\"12\" lengthAdjust=\"spacingAndGlyphs\" textLength=\"40\" x=\"181\" y=\"71.1074\">p1: P1</text><line style=\"stroke: #383838; stroke-width: 1.5;\" x1=\"156\" x2=\"246\" y1=\"78.9375\" y2=\"78.9375\"/><text fill=\"#000000\" font-family=\"sans-serif\" font-size=\"11\" lengthAdjust=\"spacingAndGlyphs\" textLength=\"21\" x=\"161\" y=\"109.9526\">po1</text><text fill=\"#000000\" font-family=\"sans-serif\" font-size=\"11\" font-style=\"italic\" lengthAdjust=\"spacingAndGlyphs\" textLength=\"80\" x=\"161\" y=\"122.7573\">:&gt;&gt;P1::porig1</text><line style=\"stroke: #383838; stroke-width: 1.0;\" x1=\"156\" x2=\"186\" y1=\"93.3398\" y2=\"93.3398\"/><text fill=\"#000000\" font-family=\"sans-serif\" font-size=\"11\" lengthAdjust=\"spacingAndGlyphs\" textLength=\"30\" x=\"186\" y=\"96.6479\">ports</text><line style=\"stroke: #383838; stroke-width: 1.0;\" x1=\"216\" x2=\"246\" y1=\"93.3398\" y2=\"93.3398\"/></a><!--MD5=[60a26617385b1d2d0262a64233df1f8d]\n",
       "class E6--><a href=\"psysml:5c32a7f3-b309-4357-ac47-765b0be17034\" target=\"_top\" title=\"psysml:5c32a7f3-b309-4357-ac47-765b0be17034\" xlink:actuate=\"onRequest\" xlink:href=\"psysml:5c32a7f3-b309-4357-ac47-765b0be17034\" xlink:show=\"new\" xlink:title=\"psysml:5c32a7f3-b309-4357-ac47-765b0be17034\" xlink:type=\"simple\"><rect fill=\"#FFFFFF\" height=\"75.5469\" id=\"E6\" rx=\"10\" ry=\"10\" style=\"stroke: #383838; stroke-width: 1.5;\" width=\"88\" x=\"32\" y=\"47\"/><text fill=\"#000000\" font-family=\"sans-serif\" font-size=\"12\" font-style=\"italic\" lengthAdjust=\"spacingAndGlyphs\" textLength=\"40\" x=\"56\" y=\"63.1387\">«part»</text><text fill=\"#000000\" font-family=\"sans-serif\" font-size=\"12\" lengthAdjust=\"spacingAndGlyphs\" textLength=\"40\" x=\"56\" y=\"77.1074\">p2: P1</text><line style=\"stroke: #383838; stroke-width: 1.5;\" x1=\"33\" x2=\"119\" y1=\"84.9375\" y2=\"84.9375\"/><text fill=\"#000000\" font-family=\"sans-serif\" font-size=\"11\" lengthAdjust=\"spacingAndGlyphs\" textLength=\"32\" x=\"38\" y=\"115.9526\">pdest</text><text fill=\"#000000\" font-family=\"sans-serif\" font-size=\"11\" font-weight=\"bold\" lengthAdjust=\"spacingAndGlyphs\" textLength=\"15\" x=\"74\" y=\"115.9526\">as</text><text fill=\"#000000\" font-family=\"sans-serif\" font-size=\"11\" lengthAdjust=\"spacingAndGlyphs\" textLength=\"21\" x=\"93\" y=\"115.9526\">pd1</text><line style=\"stroke: #383838; stroke-width: 1.0;\" x1=\"33\" x2=\"61\" y1=\"99.3398\" y2=\"99.3398\"/><text fill=\"#000000\" font-family=\"sans-serif\" font-size=\"11\" lengthAdjust=\"spacingAndGlyphs\" textLength=\"30\" x=\"61\" y=\"102.6479\">ports</text><line style=\"stroke: #383838; stroke-width: 1.0;\" x1=\"91\" x2=\"119\" y1=\"99.3398\" y2=\"99.3398\"/></a><!--MD5=[185131fc0dcab0a4505a2ebe144e961b]\n",
       "link E4 to E2--><a href=\"psysml:743cbcb0-f678-48b7-bb90-7aa18ca2c39d\" target=\"_top\" title=\"psysml:743cbcb0-f678-48b7-bb90-7aa18ca2c39d\" xlink:actuate=\"onRequest\" xlink:href=\"psysml:743cbcb0-f678-48b7-bb90-7aa18ca2c39d\" xlink:show=\"new\" xlink:title=\"psysml:743cbcb0-f678-48b7-bb90-7aa18ca2c39d\" xlink:type=\"simple\"><path d=\"M181.89,129.15 C176.14,142.14 169.74,156.6 163.67,170.29 \" fill=\"none\" id=\"E4-&gt;E2\" style=\"stroke: #383838; stroke-width: 1.0;\"/><polygon fill=\"#FFFFFF\" points=\"155.43,188.9,156.725,168.693,169.5254,174.3632,155.43,188.9\" style=\"stroke: #383838; stroke-width: 1.0;\"/><ellipse cx=\"160.8622\" cy=\"164.2914\" fill=\"#383838\" rx=\"2\" ry=\"2\" style=\"stroke: #383838; stroke-width: 1.0;\"/><ellipse cx=\"170.0053\" cy=\"168.3416\" fill=\"#383838\" rx=\"2\" ry=\"2\" style=\"stroke: #383838; stroke-width: 1.0;\"/></a><!--MD5=[2351f337d6de0f557b50152ba70847b5]\n",
       "link E6 to E2--><a href=\"psysml:a1f896e7-ae1f-4795-a4ef-b600067d493f\" target=\"_top\" title=\"psysml:a1f896e7-ae1f-4795-a4ef-b600067d493f\" xlink:actuate=\"onRequest\" xlink:href=\"psysml:a1f896e7-ae1f-4795-a4ef-b600067d493f\" xlink:show=\"new\" xlink:title=\"psysml:a1f896e7-ae1f-4795-a4ef-b600067d493f\" xlink:type=\"simple\"><path d=\"M92.72,123.15 C99.23,137.63 106.84,154.53 113.98,170.4 \" fill=\"none\" id=\"E6-&gt;E2\" style=\"stroke: #383838; stroke-width: 1.0;\"/><polygon fill=\"#FFFFFF\" points=\"122.2,188.68,108.0257,174.22,120.7951,168.4803,122.2,188.68\" style=\"stroke: #383838; stroke-width: 1.0;\"/><ellipse cx=\"107.5131\" cy=\"168.2011\" fill=\"#383838\" rx=\"2\" ry=\"2\" style=\"stroke: #383838; stroke-width: 1.0;\"/><ellipse cx=\"116.634\" cy=\"164.1014\" fill=\"#383838\" rx=\"2\" ry=\"2\" style=\"stroke: #383838; stroke-width: 1.0;\"/></a><!--MD5=[18f60b9cfb4e83cd4a2240f9129498ae]\n",
       "@startuml\r\n",
       "skinparam linetype polyline\r\n",
       "skinparam monochrome true\r\n",
       "skinparam classbackgroundcolor white\r\n",
       "skinparam shadowing false\r\n",
       "skinparam wrapWidth 300\r\n",
       "hide circle\r\n",
       "\r\n",
       "package \"AliasTest\" as E1  [[psysml:6f25d091-f985-426b-8055-e92e3d48be4a ]]  {\r\n",
       "comp def \"P1\" as E2  <<(T,blue)part def>> [[psysml:258ca4bf-faa9-4328-8179-2aed0dfcbbf6 ]] {\r\n",
       "- - ports - -\r\n",
       "porig1 <b>as</b> po1 \r\n",
       "}\r\n",
       "comp usage \"p1: P1\" as E4  <<(T,blue)part>> [[psysml:a26c0441-e754-421d-8c32-eea1ef6cab52 ]] {\r\n",
       "- - ports - -\r\n",
       "po1\\n//:>>P1::porig1// \r\n",
       "}\r\n",
       "comp usage \"p2: P1\" as E6  <<(T,blue)part>> [[psysml:5c32a7f3-b309-4357-ac47-765b0be17034 ]] {\r\n",
       "- - ports - -\r\n",
       "pdest <b>as</b> pd1 \r\n",
       "}\r\n",
       "E4 - -:|> E2 [[psysml:743cbcb0-f678-48b7-bb90-7aa18ca2c39d ]] \r\n",
       "E6 - -:|> E2 [[psysml:a1f896e7-ae1f-4795-a4ef-b600067d493f ]] \r\n",
       "}\r\n",
       "@enduml\r\n",
       "\n",
       "PlantUML version 1.2020.13(Sat Jun 13 12:26:38 UTC 2020)\n",
       "(EPL source distribution)\n",
       "Java Runtime: OpenJDK Runtime Environment\n",
       "JVM: OpenJDK 64-Bit Server VM\n",
       "Default Encoding: UTF-8\n",
       "Language: en\n",
       "Country: null\n",
       "--></g></svg>"
      ]
     },
     "execution_count": 14,
     "metadata": {},
     "output_type": "execute_result"
    }
   ],
   "source": [
    "%viz --style=\"POLYLINE\" --view=\"Sequence\" \"AliasTest\""
   ]
  },
  {
   "cell_type": "code",
   "execution_count": 15,
   "id": "printable-bunny",
   "metadata": {
    "execution": {
     "iopub.execute_input": "2021-03-26T13:00:34.237413Z",
     "iopub.status.busy": "2021-03-26T13:00:34.236565Z",
     "iopub.status.idle": "2021-03-26T13:00:34.301440Z",
     "shell.execute_reply": "2021-03-26T13:00:34.301159Z"
    }
   },
   "outputs": [
    {
     "data": {
      "image/svg+xml": [
       "<?xml version=\"1.0\" encoding=\"UTF-8\" standalone=\"no\"?><svg xmlns=\"http://www.w3.org/2000/svg\" xmlns:xlink=\"http://www.w3.org/1999/xlink\" contentScriptType=\"application/ecmascript\" contentStyleType=\"text/css\" height=\"293px\" preserveAspectRatio=\"none\" style=\"width:285px;height:293px;\" version=\"1.1\" viewBox=\"0 0 285 293\" width=\"285px\" zoomAndPan=\"magnify\"><defs/><g><!--MD5=[fbc87193dbaf4d95561dea2c320d4a47]\n",
       "cluster E1--><a href=\"psysml:6f25d091-f985-426b-8055-e92e3d48be4a\" target=\"_top\" title=\"psysml:6f25d091-f985-426b-8055-e92e3d48be4a\" xlink:actuate=\"onRequest\" xlink:href=\"psysml:6f25d091-f985-426b-8055-e92e3d48be4a\" xlink:show=\"new\" xlink:title=\"psysml:6f25d091-f985-426b-8055-e92e3d48be4a\" xlink:type=\"simple\"><polygon fill=\"#FFFFFF\" points=\"16,6,94,6,101,28.2969,263,28.2969,263,281,16,281,16,6\" style=\"stroke: #000000; stroke-width: 1.5;\"/><line style=\"stroke: #000000; stroke-width: 1.5;\" x1=\"16\" x2=\"101\" y1=\"28.2969\" y2=\"28.2969\"/><text fill=\"#000000\" font-family=\"sans-serif\" font-size=\"14\" font-weight=\"bold\" lengthAdjust=\"spacingAndGlyphs\" textLength=\"72\" x=\"20\" y=\"20.9951\">AliasTest</text></a><!--MD5=[b4997ac47864f28c2f74865a473b2911]\n",
       "class E2--><a href=\"psysml:258ca4bf-faa9-4328-8179-2aed0dfcbbf6\" target=\"_top\" title=\"psysml:258ca4bf-faa9-4328-8179-2aed0dfcbbf6\" xlink:actuate=\"onRequest\" xlink:href=\"psysml:258ca4bf-faa9-4328-8179-2aed0dfcbbf6\" xlink:show=\"new\" xlink:title=\"psysml:258ca4bf-faa9-4328-8179-2aed0dfcbbf6\" xlink:type=\"simple\"><rect fill=\"#FFFFFF\" height=\"75.5469\" id=\"E2\" style=\"stroke: #383838; stroke-width: 1.5;\" width=\"92\" x=\"93\" y=\"189\"/><text fill=\"#000000\" font-family=\"sans-serif\" font-size=\"12\" font-style=\"italic\" lengthAdjust=\"spacingAndGlyphs\" textLength=\"64\" x=\"107\" y=\"205.1387\">«part def»</text><text fill=\"#000000\" font-family=\"sans-serif\" font-size=\"12\" lengthAdjust=\"spacingAndGlyphs\" textLength=\"16\" x=\"131\" y=\"219.1074\">P1</text><line style=\"stroke: #383838; stroke-width: 1.5;\" x1=\"94\" x2=\"184\" y1=\"226.9375\" y2=\"226.9375\"/><text fill=\"#000000\" font-family=\"sans-serif\" font-size=\"11\" lengthAdjust=\"spacingAndGlyphs\" textLength=\"36\" x=\"99\" y=\"257.9526\">porig1</text><text fill=\"#000000\" font-family=\"sans-serif\" font-size=\"11\" font-weight=\"bold\" lengthAdjust=\"spacingAndGlyphs\" textLength=\"15\" x=\"139\" y=\"257.9526\">as</text><text fill=\"#000000\" font-family=\"sans-serif\" font-size=\"11\" lengthAdjust=\"spacingAndGlyphs\" textLength=\"21\" x=\"158\" y=\"257.9526\">po1</text><line style=\"stroke: #383838; stroke-width: 1.0;\" x1=\"94\" x2=\"124\" y1=\"241.3398\" y2=\"241.3398\"/><text fill=\"#000000\" font-family=\"sans-serif\" font-size=\"11\" lengthAdjust=\"spacingAndGlyphs\" textLength=\"30\" x=\"124\" y=\"244.6479\">ports</text><line style=\"stroke: #383838; stroke-width: 1.0;\" x1=\"154\" x2=\"184\" y1=\"241.3398\" y2=\"241.3398\"/></a><!--MD5=[ebbe1d658d1005bcc118a6aa81145e00]\n",
       "class E4--><a href=\"psysml:a26c0441-e754-421d-8c32-eea1ef6cab52\" target=\"_top\" title=\"psysml:a26c0441-e754-421d-8c32-eea1ef6cab52\" xlink:actuate=\"onRequest\" xlink:href=\"psysml:a26c0441-e754-421d-8c32-eea1ef6cab52\" xlink:show=\"new\" xlink:title=\"psysml:a26c0441-e754-421d-8c32-eea1ef6cab52\" xlink:type=\"simple\"><rect fill=\"#FFFFFF\" height=\"88.3516\" id=\"E4\" rx=\"10\" ry=\"10\" style=\"stroke: #383838; stroke-width: 1.5;\" width=\"92\" x=\"155\" y=\"41\"/><text fill=\"#000000\" font-family=\"sans-serif\" font-size=\"12\" font-style=\"italic\" lengthAdjust=\"spacingAndGlyphs\" textLength=\"40\" x=\"181\" y=\"57.1387\">«part»</text><text fill=\"#000000\" font-family=\"sans-serif\" font-size=\"12\" lengthAdjust=\"spacingAndGlyphs\" textLength=\"40\" x=\"181\" y=\"71.1074\">p1: P1</text><line style=\"stroke: #383838; stroke-width: 1.5;\" x1=\"156\" x2=\"246\" y1=\"78.9375\" y2=\"78.9375\"/><text fill=\"#000000\" font-family=\"sans-serif\" font-size=\"11\" lengthAdjust=\"spacingAndGlyphs\" textLength=\"21\" x=\"161\" y=\"109.9526\">po1</text><text fill=\"#000000\" font-family=\"sans-serif\" font-size=\"11\" font-style=\"italic\" lengthAdjust=\"spacingAndGlyphs\" textLength=\"80\" x=\"161\" y=\"122.7573\">:&gt;&gt;P1::porig1</text><line style=\"stroke: #383838; stroke-width: 1.0;\" x1=\"156\" x2=\"186\" y1=\"93.3398\" y2=\"93.3398\"/><text fill=\"#000000\" font-family=\"sans-serif\" font-size=\"11\" lengthAdjust=\"spacingAndGlyphs\" textLength=\"30\" x=\"186\" y=\"96.6479\">ports</text><line style=\"stroke: #383838; stroke-width: 1.0;\" x1=\"216\" x2=\"246\" y1=\"93.3398\" y2=\"93.3398\"/></a><!--MD5=[60a26617385b1d2d0262a64233df1f8d]\n",
       "class E6--><a href=\"psysml:5c32a7f3-b309-4357-ac47-765b0be17034\" target=\"_top\" title=\"psysml:5c32a7f3-b309-4357-ac47-765b0be17034\" xlink:actuate=\"onRequest\" xlink:href=\"psysml:5c32a7f3-b309-4357-ac47-765b0be17034\" xlink:show=\"new\" xlink:title=\"psysml:5c32a7f3-b309-4357-ac47-765b0be17034\" xlink:type=\"simple\"><rect fill=\"#FFFFFF\" height=\"75.5469\" id=\"E6\" rx=\"10\" ry=\"10\" style=\"stroke: #383838; stroke-width: 1.5;\" width=\"88\" x=\"32\" y=\"47\"/><text fill=\"#000000\" font-family=\"sans-serif\" font-size=\"12\" font-style=\"italic\" lengthAdjust=\"spacingAndGlyphs\" textLength=\"40\" x=\"56\" y=\"63.1387\">«part»</text><text fill=\"#000000\" font-family=\"sans-serif\" font-size=\"12\" lengthAdjust=\"spacingAndGlyphs\" textLength=\"40\" x=\"56\" y=\"77.1074\">p2: P1</text><line style=\"stroke: #383838; stroke-width: 1.5;\" x1=\"33\" x2=\"119\" y1=\"84.9375\" y2=\"84.9375\"/><text fill=\"#000000\" font-family=\"sans-serif\" font-size=\"11\" lengthAdjust=\"spacingAndGlyphs\" textLength=\"32\" x=\"38\" y=\"115.9526\">pdest</text><text fill=\"#000000\" font-family=\"sans-serif\" font-size=\"11\" font-weight=\"bold\" lengthAdjust=\"spacingAndGlyphs\" textLength=\"15\" x=\"74\" y=\"115.9526\">as</text><text fill=\"#000000\" font-family=\"sans-serif\" font-size=\"11\" lengthAdjust=\"spacingAndGlyphs\" textLength=\"21\" x=\"93\" y=\"115.9526\">pd1</text><line style=\"stroke: #383838; stroke-width: 1.0;\" x1=\"33\" x2=\"61\" y1=\"99.3398\" y2=\"99.3398\"/><text fill=\"#000000\" font-family=\"sans-serif\" font-size=\"11\" lengthAdjust=\"spacingAndGlyphs\" textLength=\"30\" x=\"61\" y=\"102.6479\">ports</text><line style=\"stroke: #383838; stroke-width: 1.0;\" x1=\"91\" x2=\"119\" y1=\"99.3398\" y2=\"99.3398\"/></a><!--MD5=[185131fc0dcab0a4505a2ebe144e961b]\n",
       "link E4 to E2--><a href=\"psysml:743cbcb0-f678-48b7-bb90-7aa18ca2c39d\" target=\"_top\" title=\"psysml:743cbcb0-f678-48b7-bb90-7aa18ca2c39d\" xlink:actuate=\"onRequest\" xlink:href=\"psysml:743cbcb0-f678-48b7-bb90-7aa18ca2c39d\" xlink:show=\"new\" xlink:title=\"psysml:743cbcb0-f678-48b7-bb90-7aa18ca2c39d\" xlink:type=\"simple\"><path d=\"M181.89,129.15 C176.14,142.14 169.74,156.6 163.67,170.29 \" fill=\"none\" id=\"E4-&gt;E2\" style=\"stroke: #383838; stroke-width: 1.0;\"/><polygon fill=\"#FFFFFF\" points=\"155.43,188.9,156.725,168.693,169.5254,174.3632,155.43,188.9\" style=\"stroke: #383838; stroke-width: 1.0;\"/><ellipse cx=\"160.8622\" cy=\"164.2914\" fill=\"#383838\" rx=\"2\" ry=\"2\" style=\"stroke: #383838; stroke-width: 1.0;\"/><ellipse cx=\"170.0053\" cy=\"168.3416\" fill=\"#383838\" rx=\"2\" ry=\"2\" style=\"stroke: #383838; stroke-width: 1.0;\"/></a><!--MD5=[2351f337d6de0f557b50152ba70847b5]\n",
       "link E6 to E2--><a href=\"psysml:a1f896e7-ae1f-4795-a4ef-b600067d493f\" target=\"_top\" title=\"psysml:a1f896e7-ae1f-4795-a4ef-b600067d493f\" xlink:actuate=\"onRequest\" xlink:href=\"psysml:a1f896e7-ae1f-4795-a4ef-b600067d493f\" xlink:show=\"new\" xlink:title=\"psysml:a1f896e7-ae1f-4795-a4ef-b600067d493f\" xlink:type=\"simple\"><path d=\"M92.72,123.15 C99.23,137.63 106.84,154.53 113.98,170.4 \" fill=\"none\" id=\"E6-&gt;E2\" style=\"stroke: #383838; stroke-width: 1.0;\"/><polygon fill=\"#FFFFFF\" points=\"122.2,188.68,108.0257,174.22,120.7951,168.4803,122.2,188.68\" style=\"stroke: #383838; stroke-width: 1.0;\"/><ellipse cx=\"107.5131\" cy=\"168.2011\" fill=\"#383838\" rx=\"2\" ry=\"2\" style=\"stroke: #383838; stroke-width: 1.0;\"/><ellipse cx=\"116.634\" cy=\"164.1014\" fill=\"#383838\" rx=\"2\" ry=\"2\" style=\"stroke: #383838; stroke-width: 1.0;\"/></a><!--MD5=[18f60b9cfb4e83cd4a2240f9129498ae]\n",
       "@startuml\r\n",
       "skinparam linetype polyline\r\n",
       "skinparam monochrome true\r\n",
       "skinparam classbackgroundcolor white\r\n",
       "skinparam shadowing false\r\n",
       "skinparam wrapWidth 300\r\n",
       "hide circle\r\n",
       "\r\n",
       "package \"AliasTest\" as E1  [[psysml:6f25d091-f985-426b-8055-e92e3d48be4a ]]  {\r\n",
       "comp def \"P1\" as E2  <<(T,blue)part def>> [[psysml:258ca4bf-faa9-4328-8179-2aed0dfcbbf6 ]] {\r\n",
       "- - ports - -\r\n",
       "porig1 <b>as</b> po1 \r\n",
       "}\r\n",
       "comp usage \"p1: P1\" as E4  <<(T,blue)part>> [[psysml:a26c0441-e754-421d-8c32-eea1ef6cab52 ]] {\r\n",
       "- - ports - -\r\n",
       "po1\\n//:>>P1::porig1// \r\n",
       "}\r\n",
       "comp usage \"p2: P1\" as E6  <<(T,blue)part>> [[psysml:5c32a7f3-b309-4357-ac47-765b0be17034 ]] {\r\n",
       "- - ports - -\r\n",
       "pdest <b>as</b> pd1 \r\n",
       "}\r\n",
       "E4 - -:|> E2 [[psysml:743cbcb0-f678-48b7-bb90-7aa18ca2c39d ]] \r\n",
       "E6 - -:|> E2 [[psysml:a1f896e7-ae1f-4795-a4ef-b600067d493f ]] \r\n",
       "}\r\n",
       "@enduml\r\n",
       "\n",
       "PlantUML version 1.2020.13(Sat Jun 13 12:26:38 UTC 2020)\n",
       "(EPL source distribution)\n",
       "Java Runtime: OpenJDK Runtime Environment\n",
       "JVM: OpenJDK 64-Bit Server VM\n",
       "Default Encoding: UTF-8\n",
       "Language: en\n",
       "Country: null\n",
       "--></g></svg>"
      ]
     },
     "execution_count": 15,
     "metadata": {},
     "output_type": "execute_result"
    }
   ],
   "source": [
    "%viz --style=\"POLYLINE\" --view=\"MIXED\" \"AliasTest\""
   ]
  },
  {
   "cell_type": "code",
   "execution_count": 16,
   "id": "standing-people",
   "metadata": {
    "execution": {
     "iopub.execute_input": "2021-03-26T13:00:34.352552Z",
     "iopub.status.busy": "2021-03-26T13:00:34.352069Z",
     "iopub.status.idle": "2021-03-26T13:00:34.421291Z",
     "shell.execute_reply": "2021-03-26T13:00:34.419589Z"
    }
   },
   "outputs": [
    {
     "data": {
      "image/svg+xml": [
       "<?xml version=\"1.0\" encoding=\"UTF-8\" standalone=\"no\"?><svg xmlns=\"http://www.w3.org/2000/svg\" xmlns:xlink=\"http://www.w3.org/1999/xlink\" contentScriptType=\"application/ecmascript\" contentStyleType=\"text/css\" height=\"268px\" preserveAspectRatio=\"none\" style=\"width:314px;height:268px;\" version=\"1.1\" viewBox=\"0 0 314 268\" width=\"314px\" zoomAndPan=\"magnify\"><defs/><g><!--MD5=[fbc87193dbaf4d95561dea2c320d4a47]\n",
       "cluster E1--><a href=\"psysml:6f25d091-f985-426b-8055-e92e3d48be4a\" target=\"_top\" title=\"psysml:6f25d091-f985-426b-8055-e92e3d48be4a\" xlink:actuate=\"onRequest\" xlink:href=\"psysml:6f25d091-f985-426b-8055-e92e3d48be4a\" xlink:show=\"new\" xlink:title=\"psysml:6f25d091-f985-426b-8055-e92e3d48be4a\" xlink:type=\"simple\"><polygon fill=\"#FFFFFF\" points=\"16,6,94,6,101,28.2969,292,28.2969,292,256,16,256,16,6\" style=\"stroke: #000000; stroke-width: 1.5;\"/><line style=\"stroke: #000000; stroke-width: 1.5;\" x1=\"16\" x2=\"101\" y1=\"28.2969\" y2=\"28.2969\"/><text fill=\"#000000\" font-family=\"sans-serif\" font-size=\"14\" font-weight=\"bold\" lengthAdjust=\"spacingAndGlyphs\" textLength=\"72\" x=\"20\" y=\"20.9951\">AliasTest</text></a><!--MD5=[b4997ac47864f28c2f74865a473b2911]\n",
       "class E2--><a href=\"psysml:258ca4bf-faa9-4328-8179-2aed0dfcbbf6\" target=\"_top\" title=\"psysml:258ca4bf-faa9-4328-8179-2aed0dfcbbf6\" xlink:actuate=\"onRequest\" xlink:href=\"psysml:258ca4bf-faa9-4328-8179-2aed0dfcbbf6\" xlink:show=\"new\" xlink:title=\"psysml:258ca4bf-faa9-4328-8179-2aed0dfcbbf6\" xlink:type=\"simple\"><rect fill=\"#FFFFFF\" height=\"75.5469\" id=\"E2\" style=\"stroke: #383838; stroke-width: 1.5;\" width=\"92\" x=\"184\" y=\"106\"/><text fill=\"#000000\" font-family=\"sans-serif\" font-size=\"12\" font-style=\"italic\" lengthAdjust=\"spacingAndGlyphs\" textLength=\"64\" x=\"198\" y=\"122.1387\">«part def»</text><text fill=\"#000000\" font-family=\"sans-serif\" font-size=\"12\" lengthAdjust=\"spacingAndGlyphs\" textLength=\"16\" x=\"222\" y=\"136.1074\">P1</text><line style=\"stroke: #383838; stroke-width: 1.5;\" x1=\"185\" x2=\"275\" y1=\"143.9375\" y2=\"143.9375\"/><text fill=\"#000000\" font-family=\"sans-serif\" font-size=\"11\" lengthAdjust=\"spacingAndGlyphs\" textLength=\"36\" x=\"190\" y=\"174.9526\">porig1</text><text fill=\"#000000\" font-family=\"sans-serif\" font-size=\"11\" font-weight=\"bold\" lengthAdjust=\"spacingAndGlyphs\" textLength=\"15\" x=\"230\" y=\"174.9526\">as</text><text fill=\"#000000\" font-family=\"sans-serif\" font-size=\"11\" lengthAdjust=\"spacingAndGlyphs\" textLength=\"21\" x=\"249\" y=\"174.9526\">po1</text><line style=\"stroke: #383838; stroke-width: 1.0;\" x1=\"185\" x2=\"215\" y1=\"158.3398\" y2=\"158.3398\"/><text fill=\"#000000\" font-family=\"sans-serif\" font-size=\"11\" lengthAdjust=\"spacingAndGlyphs\" textLength=\"30\" x=\"215\" y=\"161.6479\">ports</text><line style=\"stroke: #383838; stroke-width: 1.0;\" x1=\"245\" x2=\"275\" y1=\"158.3398\" y2=\"158.3398\"/></a><!--MD5=[ebbe1d658d1005bcc118a6aa81145e00]\n",
       "class E4--><a href=\"psysml:a26c0441-e754-421d-8c32-eea1ef6cab52\" target=\"_top\" title=\"psysml:a26c0441-e754-421d-8c32-eea1ef6cab52\" xlink:actuate=\"onRequest\" xlink:href=\"psysml:a26c0441-e754-421d-8c32-eea1ef6cab52\" xlink:show=\"new\" xlink:title=\"psysml:a26c0441-e754-421d-8c32-eea1ef6cab52\" xlink:type=\"simple\"><rect fill=\"#FFFFFF\" height=\"88.3516\" id=\"E4\" rx=\"10\" ry=\"10\" style=\"stroke: #383838; stroke-width: 1.5;\" width=\"92\" x=\"32\" y=\"41\"/><text fill=\"#000000\" font-family=\"sans-serif\" font-size=\"12\" font-style=\"italic\" lengthAdjust=\"spacingAndGlyphs\" textLength=\"40\" x=\"58\" y=\"57.1387\">«part»</text><text fill=\"#000000\" font-family=\"sans-serif\" font-size=\"12\" lengthAdjust=\"spacingAndGlyphs\" textLength=\"40\" x=\"58\" y=\"71.1074\">p1: P1</text><line style=\"stroke: #383838; stroke-width: 1.5;\" x1=\"33\" x2=\"123\" y1=\"78.9375\" y2=\"78.9375\"/><text fill=\"#000000\" font-family=\"sans-serif\" font-size=\"11\" lengthAdjust=\"spacingAndGlyphs\" textLength=\"21\" x=\"38\" y=\"109.9526\">po1</text><text fill=\"#000000\" font-family=\"sans-serif\" font-size=\"11\" font-style=\"italic\" lengthAdjust=\"spacingAndGlyphs\" textLength=\"80\" x=\"38\" y=\"122.7573\">:&gt;&gt;P1::porig1</text><line style=\"stroke: #383838; stroke-width: 1.0;\" x1=\"33\" x2=\"63\" y1=\"93.3398\" y2=\"93.3398\"/><text fill=\"#000000\" font-family=\"sans-serif\" font-size=\"11\" lengthAdjust=\"spacingAndGlyphs\" textLength=\"30\" x=\"63\" y=\"96.6479\">ports</text><line style=\"stroke: #383838; stroke-width: 1.0;\" x1=\"93\" x2=\"123\" y1=\"93.3398\" y2=\"93.3398\"/></a><!--MD5=[60a26617385b1d2d0262a64233df1f8d]\n",
       "class E6--><a href=\"psysml:5c32a7f3-b309-4357-ac47-765b0be17034\" target=\"_top\" title=\"psysml:5c32a7f3-b309-4357-ac47-765b0be17034\" xlink:actuate=\"onRequest\" xlink:href=\"psysml:5c32a7f3-b309-4357-ac47-765b0be17034\" xlink:show=\"new\" xlink:title=\"psysml:5c32a7f3-b309-4357-ac47-765b0be17034\" xlink:type=\"simple\"><rect fill=\"#FFFFFF\" height=\"75.5469\" id=\"E6\" rx=\"10\" ry=\"10\" style=\"stroke: #383838; stroke-width: 1.5;\" width=\"88\" x=\"34\" y=\"164\"/><text fill=\"#000000\" font-family=\"sans-serif\" font-size=\"12\" font-style=\"italic\" lengthAdjust=\"spacingAndGlyphs\" textLength=\"40\" x=\"58\" y=\"180.1387\">«part»</text><text fill=\"#000000\" font-family=\"sans-serif\" font-size=\"12\" lengthAdjust=\"spacingAndGlyphs\" textLength=\"40\" x=\"58\" y=\"194.1074\">p2: P1</text><line style=\"stroke: #383838; stroke-width: 1.5;\" x1=\"35\" x2=\"121\" y1=\"201.9375\" y2=\"201.9375\"/><text fill=\"#000000\" font-family=\"sans-serif\" font-size=\"11\" lengthAdjust=\"spacingAndGlyphs\" textLength=\"32\" x=\"40\" y=\"232.9526\">pdest</text><text fill=\"#000000\" font-family=\"sans-serif\" font-size=\"11\" font-weight=\"bold\" lengthAdjust=\"spacingAndGlyphs\" textLength=\"15\" x=\"76\" y=\"232.9526\">as</text><text fill=\"#000000\" font-family=\"sans-serif\" font-size=\"11\" lengthAdjust=\"spacingAndGlyphs\" textLength=\"21\" x=\"95\" y=\"232.9526\">pd1</text><line style=\"stroke: #383838; stroke-width: 1.0;\" x1=\"35\" x2=\"63\" y1=\"216.3398\" y2=\"216.3398\"/><text fill=\"#000000\" font-family=\"sans-serif\" font-size=\"11\" lengthAdjust=\"spacingAndGlyphs\" textLength=\"30\" x=\"63\" y=\"219.6479\">ports</text><line style=\"stroke: #383838; stroke-width: 1.0;\" x1=\"93\" x2=\"121\" y1=\"216.3398\" y2=\"216.3398\"/></a><!--MD5=[185131fc0dcab0a4505a2ebe144e961b]\n",
       "link E4 to E2--><a href=\"psysml:743cbcb0-f678-48b7-bb90-7aa18ca2c39d\" target=\"_top\" title=\"psysml:743cbcb0-f678-48b7-bb90-7aa18ca2c39d\" xlink:actuate=\"onRequest\" xlink:href=\"psysml:743cbcb0-f678-48b7-bb90-7aa18ca2c39d\" xlink:show=\"new\" xlink:title=\"psysml:743cbcb0-f678-48b7-bb90-7aa18ca2c39d\" xlink:type=\"simple\"><path d=\"M124,102.7 C136.85,107.75 151.1,113.36 164.85,118.77 \" fill=\"none\" id=\"E4-&gt;E2\" style=\"stroke: #383838; stroke-width: 1.0;\"/><polygon fill=\"#FFFFFF\" points=\"183.77,126.21,163.5265,125.763,168.6552,112.7362,183.77,126.21\" style=\"stroke: #383838; stroke-width: 1.0;\"/><ellipse cx=\"158.9554\" cy=\"121.8139\" fill=\"#383838\" rx=\"2\" ry=\"2\" style=\"stroke: #383838; stroke-width: 1.0;\"/><ellipse cx=\"162.6188\" cy=\"112.5091\" fill=\"#383838\" rx=\"2\" ry=\"2\" style=\"stroke: #383838; stroke-width: 1.0;\"/></a><!--MD5=[2351f337d6de0f557b50152ba70847b5]\n",
       "link E6 to E2--><a href=\"psysml:a1f896e7-ae1f-4795-a4ef-b600067d493f\" target=\"_top\" title=\"psysml:a1f896e7-ae1f-4795-a4ef-b600067d493f\" xlink:actuate=\"onRequest\" xlink:href=\"psysml:a1f896e7-ae1f-4795-a4ef-b600067d493f\" xlink:show=\"new\" xlink:title=\"psysml:a1f896e7-ae1f-4795-a4ef-b600067d493f\" xlink:type=\"simple\"><path d=\"M122.39,185.22 C135.65,180.09 150.53,174.34 164.87,168.8 \" fill=\"none\" id=\"E6-&gt;E2\" style=\"stroke: #383838; stroke-width: 1.0;\"/><polygon fill=\"#FFFFFF\" points=\"183.89,161.44,168.6933,174.8213,163.6441,161.7635,183.89,161.44\" style=\"stroke: #383838; stroke-width: 1.0;\"/><ellipse cx=\"162.6556\" cy=\"175.0116\" fill=\"#383838\" rx=\"2\" ry=\"2\" style=\"stroke: #383838; stroke-width: 1.0;\"/><ellipse cx=\"159.049\" cy=\"165.6846\" fill=\"#383838\" rx=\"2\" ry=\"2\" style=\"stroke: #383838; stroke-width: 1.0;\"/></a><!--MD5=[21d20698a52bd78abfc5028ca742f23a]\n",
       "@startuml\r\n",
       "left to right direction\r\n",
       "skinparam monochrome true\r\n",
       "skinparam classbackgroundcolor white\r\n",
       "skinparam shadowing false\r\n",
       "skinparam wrapWidth 300\r\n",
       "hide circle\r\n",
       "\r\n",
       "package \"AliasTest\" as E1  [[psysml:6f25d091-f985-426b-8055-e92e3d48be4a ]]  {\r\n",
       "comp def \"P1\" as E2  <<(T,blue)part def>> [[psysml:258ca4bf-faa9-4328-8179-2aed0dfcbbf6 ]] {\r\n",
       "- - ports - -\r\n",
       "porig1 <b>as</b> po1 \r\n",
       "}\r\n",
       "comp usage \"p1: P1\" as E4  <<(T,blue)part>> [[psysml:a26c0441-e754-421d-8c32-eea1ef6cab52 ]] {\r\n",
       "- - ports - -\r\n",
       "po1\\n//:>>P1::porig1// \r\n",
       "}\r\n",
       "comp usage \"p2: P1\" as E6  <<(T,blue)part>> [[psysml:5c32a7f3-b309-4357-ac47-765b0be17034 ]] {\r\n",
       "- - ports - -\r\n",
       "pdest <b>as</b> pd1 \r\n",
       "}\r\n",
       "E4 - -:|> E2 [[psysml:743cbcb0-f678-48b7-bb90-7aa18ca2c39d ]] \r\n",
       "E6 - -:|> E2 [[psysml:a1f896e7-ae1f-4795-a4ef-b600067d493f ]] \r\n",
       "}\r\n",
       "@enduml\r\n",
       "\n",
       "PlantUML version 1.2020.13(Sat Jun 13 12:26:38 UTC 2020)\n",
       "(EPL source distribution)\n",
       "Java Runtime: OpenJDK Runtime Environment\n",
       "JVM: OpenJDK 64-Bit Server VM\n",
       "Default Encoding: UTF-8\n",
       "Language: en\n",
       "Country: null\n",
       "--></g></svg>"
      ]
     },
     "execution_count": 16,
     "metadata": {},
     "output_type": "execute_result"
    }
   ],
   "source": [
    "%viz --style=\"LR\" --view=\"Default\" \"AliasTest\""
   ]
  },
  {
   "cell_type": "code",
   "execution_count": 17,
   "id": "resident-channels",
   "metadata": {
    "execution": {
     "iopub.execute_input": "2021-03-26T13:00:34.473518Z",
     "iopub.status.busy": "2021-03-26T13:00:34.472951Z",
     "iopub.status.idle": "2021-03-26T13:00:34.539895Z",
     "shell.execute_reply": "2021-03-26T13:00:34.538544Z"
    }
   },
   "outputs": [
    {
     "data": {
      "image/svg+xml": [
       "<?xml version=\"1.0\" encoding=\"UTF-8\" standalone=\"no\"?><svg xmlns=\"http://www.w3.org/2000/svg\" xmlns:xlink=\"http://www.w3.org/1999/xlink\" contentScriptType=\"application/ecmascript\" contentStyleType=\"text/css\" height=\"268px\" preserveAspectRatio=\"none\" style=\"width:314px;height:268px;\" version=\"1.1\" viewBox=\"0 0 314 268\" width=\"314px\" zoomAndPan=\"magnify\"><defs/><g><!--MD5=[fbc87193dbaf4d95561dea2c320d4a47]\n",
       "cluster E1--><a href=\"psysml:6f25d091-f985-426b-8055-e92e3d48be4a\" target=\"_top\" title=\"psysml:6f25d091-f985-426b-8055-e92e3d48be4a\" xlink:actuate=\"onRequest\" xlink:href=\"psysml:6f25d091-f985-426b-8055-e92e3d48be4a\" xlink:show=\"new\" xlink:title=\"psysml:6f25d091-f985-426b-8055-e92e3d48be4a\" xlink:type=\"simple\"><polygon fill=\"#FFFFFF\" points=\"16,6,94,6,101,28.2969,292,28.2969,292,256,16,256,16,6\" style=\"stroke: #000000; stroke-width: 1.5;\"/><line style=\"stroke: #000000; stroke-width: 1.5;\" x1=\"16\" x2=\"101\" y1=\"28.2969\" y2=\"28.2969\"/><text fill=\"#000000\" font-family=\"sans-serif\" font-size=\"14\" font-weight=\"bold\" lengthAdjust=\"spacingAndGlyphs\" textLength=\"72\" x=\"20\" y=\"20.9951\">AliasTest</text></a><!--MD5=[b4997ac47864f28c2f74865a473b2911]\n",
       "class E2--><a href=\"psysml:258ca4bf-faa9-4328-8179-2aed0dfcbbf6\" target=\"_top\" title=\"psysml:258ca4bf-faa9-4328-8179-2aed0dfcbbf6\" xlink:actuate=\"onRequest\" xlink:href=\"psysml:258ca4bf-faa9-4328-8179-2aed0dfcbbf6\" xlink:show=\"new\" xlink:title=\"psysml:258ca4bf-faa9-4328-8179-2aed0dfcbbf6\" xlink:type=\"simple\"><rect fill=\"#FFFFFF\" height=\"75.5469\" id=\"E2\" style=\"stroke: #383838; stroke-width: 1.5;\" width=\"92\" x=\"184\" y=\"106\"/><text fill=\"#000000\" font-family=\"sans-serif\" font-size=\"12\" font-style=\"italic\" lengthAdjust=\"spacingAndGlyphs\" textLength=\"64\" x=\"198\" y=\"122.1387\">«part def»</text><text fill=\"#000000\" font-family=\"sans-serif\" font-size=\"12\" lengthAdjust=\"spacingAndGlyphs\" textLength=\"16\" x=\"222\" y=\"136.1074\">P1</text><line style=\"stroke: #383838; stroke-width: 1.5;\" x1=\"185\" x2=\"275\" y1=\"143.9375\" y2=\"143.9375\"/><text fill=\"#000000\" font-family=\"sans-serif\" font-size=\"11\" lengthAdjust=\"spacingAndGlyphs\" textLength=\"36\" x=\"190\" y=\"174.9526\">porig1</text><text fill=\"#000000\" font-family=\"sans-serif\" font-size=\"11\" font-weight=\"bold\" lengthAdjust=\"spacingAndGlyphs\" textLength=\"15\" x=\"230\" y=\"174.9526\">as</text><text fill=\"#000000\" font-family=\"sans-serif\" font-size=\"11\" lengthAdjust=\"spacingAndGlyphs\" textLength=\"21\" x=\"249\" y=\"174.9526\">po1</text><line style=\"stroke: #383838; stroke-width: 1.0;\" x1=\"185\" x2=\"215\" y1=\"158.3398\" y2=\"158.3398\"/><text fill=\"#000000\" font-family=\"sans-serif\" font-size=\"11\" lengthAdjust=\"spacingAndGlyphs\" textLength=\"30\" x=\"215\" y=\"161.6479\">ports</text><line style=\"stroke: #383838; stroke-width: 1.0;\" x1=\"245\" x2=\"275\" y1=\"158.3398\" y2=\"158.3398\"/></a><!--MD5=[ebbe1d658d1005bcc118a6aa81145e00]\n",
       "class E4--><a href=\"psysml:a26c0441-e754-421d-8c32-eea1ef6cab52\" target=\"_top\" title=\"psysml:a26c0441-e754-421d-8c32-eea1ef6cab52\" xlink:actuate=\"onRequest\" xlink:href=\"psysml:a26c0441-e754-421d-8c32-eea1ef6cab52\" xlink:show=\"new\" xlink:title=\"psysml:a26c0441-e754-421d-8c32-eea1ef6cab52\" xlink:type=\"simple\"><rect fill=\"#FFFFFF\" height=\"88.3516\" id=\"E4\" rx=\"10\" ry=\"10\" style=\"stroke: #383838; stroke-width: 1.5;\" width=\"92\" x=\"32\" y=\"41\"/><text fill=\"#000000\" font-family=\"sans-serif\" font-size=\"12\" font-style=\"italic\" lengthAdjust=\"spacingAndGlyphs\" textLength=\"40\" x=\"58\" y=\"57.1387\">«part»</text><text fill=\"#000000\" font-family=\"sans-serif\" font-size=\"12\" lengthAdjust=\"spacingAndGlyphs\" textLength=\"40\" x=\"58\" y=\"71.1074\">p1: P1</text><line style=\"stroke: #383838; stroke-width: 1.5;\" x1=\"33\" x2=\"123\" y1=\"78.9375\" y2=\"78.9375\"/><text fill=\"#000000\" font-family=\"sans-serif\" font-size=\"11\" lengthAdjust=\"spacingAndGlyphs\" textLength=\"21\" x=\"38\" y=\"109.9526\">po1</text><text fill=\"#000000\" font-family=\"sans-serif\" font-size=\"11\" font-style=\"italic\" lengthAdjust=\"spacingAndGlyphs\" textLength=\"80\" x=\"38\" y=\"122.7573\">:&gt;&gt;P1::porig1</text><line style=\"stroke: #383838; stroke-width: 1.0;\" x1=\"33\" x2=\"63\" y1=\"93.3398\" y2=\"93.3398\"/><text fill=\"#000000\" font-family=\"sans-serif\" font-size=\"11\" lengthAdjust=\"spacingAndGlyphs\" textLength=\"30\" x=\"63\" y=\"96.6479\">ports</text><line style=\"stroke: #383838; stroke-width: 1.0;\" x1=\"93\" x2=\"123\" y1=\"93.3398\" y2=\"93.3398\"/></a><!--MD5=[60a26617385b1d2d0262a64233df1f8d]\n",
       "class E6--><a href=\"psysml:5c32a7f3-b309-4357-ac47-765b0be17034\" target=\"_top\" title=\"psysml:5c32a7f3-b309-4357-ac47-765b0be17034\" xlink:actuate=\"onRequest\" xlink:href=\"psysml:5c32a7f3-b309-4357-ac47-765b0be17034\" xlink:show=\"new\" xlink:title=\"psysml:5c32a7f3-b309-4357-ac47-765b0be17034\" xlink:type=\"simple\"><rect fill=\"#FFFFFF\" height=\"75.5469\" id=\"E6\" rx=\"10\" ry=\"10\" style=\"stroke: #383838; stroke-width: 1.5;\" width=\"88\" x=\"34\" y=\"164\"/><text fill=\"#000000\" font-family=\"sans-serif\" font-size=\"12\" font-style=\"italic\" lengthAdjust=\"spacingAndGlyphs\" textLength=\"40\" x=\"58\" y=\"180.1387\">«part»</text><text fill=\"#000000\" font-family=\"sans-serif\" font-size=\"12\" lengthAdjust=\"spacingAndGlyphs\" textLength=\"40\" x=\"58\" y=\"194.1074\">p2: P1</text><line style=\"stroke: #383838; stroke-width: 1.5;\" x1=\"35\" x2=\"121\" y1=\"201.9375\" y2=\"201.9375\"/><text fill=\"#000000\" font-family=\"sans-serif\" font-size=\"11\" lengthAdjust=\"spacingAndGlyphs\" textLength=\"32\" x=\"40\" y=\"232.9526\">pdest</text><text fill=\"#000000\" font-family=\"sans-serif\" font-size=\"11\" font-weight=\"bold\" lengthAdjust=\"spacingAndGlyphs\" textLength=\"15\" x=\"76\" y=\"232.9526\">as</text><text fill=\"#000000\" font-family=\"sans-serif\" font-size=\"11\" lengthAdjust=\"spacingAndGlyphs\" textLength=\"21\" x=\"95\" y=\"232.9526\">pd1</text><line style=\"stroke: #383838; stroke-width: 1.0;\" x1=\"35\" x2=\"63\" y1=\"216.3398\" y2=\"216.3398\"/><text fill=\"#000000\" font-family=\"sans-serif\" font-size=\"11\" lengthAdjust=\"spacingAndGlyphs\" textLength=\"30\" x=\"63\" y=\"219.6479\">ports</text><line style=\"stroke: #383838; stroke-width: 1.0;\" x1=\"93\" x2=\"121\" y1=\"216.3398\" y2=\"216.3398\"/></a><!--MD5=[185131fc0dcab0a4505a2ebe144e961b]\n",
       "link E4 to E2--><a href=\"psysml:743cbcb0-f678-48b7-bb90-7aa18ca2c39d\" target=\"_top\" title=\"psysml:743cbcb0-f678-48b7-bb90-7aa18ca2c39d\" xlink:actuate=\"onRequest\" xlink:href=\"psysml:743cbcb0-f678-48b7-bb90-7aa18ca2c39d\" xlink:show=\"new\" xlink:title=\"psysml:743cbcb0-f678-48b7-bb90-7aa18ca2c39d\" xlink:type=\"simple\"><path d=\"M124,102.7 C136.85,107.75 151.1,113.36 164.85,118.77 \" fill=\"none\" id=\"E4-&gt;E2\" style=\"stroke: #383838; stroke-width: 1.0;\"/><polygon fill=\"#FFFFFF\" points=\"183.77,126.21,163.5265,125.763,168.6552,112.7362,183.77,126.21\" style=\"stroke: #383838; stroke-width: 1.0;\"/><ellipse cx=\"158.9554\" cy=\"121.8139\" fill=\"#383838\" rx=\"2\" ry=\"2\" style=\"stroke: #383838; stroke-width: 1.0;\"/><ellipse cx=\"162.6188\" cy=\"112.5091\" fill=\"#383838\" rx=\"2\" ry=\"2\" style=\"stroke: #383838; stroke-width: 1.0;\"/></a><!--MD5=[2351f337d6de0f557b50152ba70847b5]\n",
       "link E6 to E2--><a href=\"psysml:a1f896e7-ae1f-4795-a4ef-b600067d493f\" target=\"_top\" title=\"psysml:a1f896e7-ae1f-4795-a4ef-b600067d493f\" xlink:actuate=\"onRequest\" xlink:href=\"psysml:a1f896e7-ae1f-4795-a4ef-b600067d493f\" xlink:show=\"new\" xlink:title=\"psysml:a1f896e7-ae1f-4795-a4ef-b600067d493f\" xlink:type=\"simple\"><path d=\"M122.39,185.22 C135.65,180.09 150.53,174.34 164.87,168.8 \" fill=\"none\" id=\"E6-&gt;E2\" style=\"stroke: #383838; stroke-width: 1.0;\"/><polygon fill=\"#FFFFFF\" points=\"183.89,161.44,168.6933,174.8213,163.6441,161.7635,183.89,161.44\" style=\"stroke: #383838; stroke-width: 1.0;\"/><ellipse cx=\"162.6556\" cy=\"175.0116\" fill=\"#383838\" rx=\"2\" ry=\"2\" style=\"stroke: #383838; stroke-width: 1.0;\"/><ellipse cx=\"159.049\" cy=\"165.6846\" fill=\"#383838\" rx=\"2\" ry=\"2\" style=\"stroke: #383838; stroke-width: 1.0;\"/></a><!--MD5=[21d20698a52bd78abfc5028ca742f23a]\n",
       "@startuml\r\n",
       "left to right direction\r\n",
       "skinparam monochrome true\r\n",
       "skinparam classbackgroundcolor white\r\n",
       "skinparam shadowing false\r\n",
       "skinparam wrapWidth 300\r\n",
       "hide circle\r\n",
       "\r\n",
       "package \"AliasTest\" as E1  [[psysml:6f25d091-f985-426b-8055-e92e3d48be4a ]]  {\r\n",
       "comp def \"P1\" as E2  <<(T,blue)part def>> [[psysml:258ca4bf-faa9-4328-8179-2aed0dfcbbf6 ]] {\r\n",
       "- - ports - -\r\n",
       "porig1 <b>as</b> po1 \r\n",
       "}\r\n",
       "comp usage \"p1: P1\" as E4  <<(T,blue)part>> [[psysml:a26c0441-e754-421d-8c32-eea1ef6cab52 ]] {\r\n",
       "- - ports - -\r\n",
       "po1\\n//:>>P1::porig1// \r\n",
       "}\r\n",
       "comp usage \"p2: P1\" as E6  <<(T,blue)part>> [[psysml:5c32a7f3-b309-4357-ac47-765b0be17034 ]] {\r\n",
       "- - ports - -\r\n",
       "pdest <b>as</b> pd1 \r\n",
       "}\r\n",
       "E4 - -:|> E2 [[psysml:743cbcb0-f678-48b7-bb90-7aa18ca2c39d ]] \r\n",
       "E6 - -:|> E2 [[psysml:a1f896e7-ae1f-4795-a4ef-b600067d493f ]] \r\n",
       "}\r\n",
       "@enduml\r\n",
       "\n",
       "PlantUML version 1.2020.13(Sat Jun 13 12:26:38 UTC 2020)\n",
       "(EPL source distribution)\n",
       "Java Runtime: OpenJDK Runtime Environment\n",
       "JVM: OpenJDK 64-Bit Server VM\n",
       "Default Encoding: UTF-8\n",
       "Language: en\n",
       "Country: null\n",
       "--></g></svg>"
      ]
     },
     "execution_count": 17,
     "metadata": {},
     "output_type": "execute_result"
    }
   ],
   "source": [
    "%viz --style=\"LR\" --view=\"Tree\" \"AliasTest\""
   ]
  },
  {
   "cell_type": "code",
   "execution_count": 18,
   "id": "crazy-concrete",
   "metadata": {
    "execution": {
     "iopub.execute_input": "2021-03-26T13:00:34.590561Z",
     "iopub.status.busy": "2021-03-26T13:00:34.590215Z",
     "iopub.status.idle": "2021-03-26T13:00:34.594123Z",
     "shell.execute_reply": "2021-03-26T13:00:34.593815Z"
    }
   },
   "outputs": [
    {
     "data": {
      "image/svg+xml": [
       "<?xml version=\"1.0\" encoding=\"UTF-8\" standalone=\"no\"?><svg xmlns=\"http://www.w3.org/2000/svg\" xmlns:xlink=\"http://www.w3.org/1999/xlink\" contentScriptType=\"application/ecmascript\" contentStyleType=\"text/css\" height=\"12px\" preserveAspectRatio=\"none\" style=\"width:12px;height:12px;\" version=\"1.1\" viewBox=\"0 0 12 12\" width=\"12px\" zoomAndPan=\"magnify\"><defs/><g><!--MD5=[19d285c9d72a204eba4e2cd117d745e8]\n",
       "@startuml\r\n",
       "left to right direction\r\n",
       "skinparam monochrome true\r\n",
       "skinparam classbackgroundcolor white\r\n",
       "skinparam shadowing false\r\n",
       "skinparam wrapWidth 300\r\n",
       "hide circle\r\n",
       "\r\n",
       "@enduml\r\n",
       "\n",
       "PlantUML version 1.2020.13(Sat Jun 13 12:26:38 UTC 2020)\n",
       "(EPL source distribution)\n",
       "Java Runtime: OpenJDK Runtime Environment\n",
       "JVM: OpenJDK 64-Bit Server VM\n",
       "Default Encoding: UTF-8\n",
       "Language: en\n",
       "Country: null\n",
       "--></g></svg>"
      ]
     },
     "execution_count": 18,
     "metadata": {},
     "output_type": "execute_result"
    }
   ],
   "source": [
    "%viz --style=\"LR\" --view=\"State\" \"AliasTest\""
   ]
  },
  {
   "cell_type": "code",
   "execution_count": 19,
   "id": "challenging-contents",
   "metadata": {
    "execution": {
     "iopub.execute_input": "2021-03-26T13:00:34.645183Z",
     "iopub.status.busy": "2021-03-26T13:00:34.644823Z",
     "iopub.status.idle": "2021-03-26T13:00:34.677184Z",
     "shell.execute_reply": "2021-03-26T13:00:34.676062Z"
    }
   },
   "outputs": [
    {
     "data": {
      "image/svg+xml": [
       "<?xml version=\"1.0\" encoding=\"UTF-8\" standalone=\"no\"?><svg xmlns=\"http://www.w3.org/2000/svg\" xmlns:xlink=\"http://www.w3.org/1999/xlink\" contentScriptType=\"application/ecmascript\" contentStyleType=\"text/css\" height=\"287px\" preserveAspectRatio=\"none\" style=\"width:308px;height:287px;\" version=\"1.1\" viewBox=\"0 0 308 287\" width=\"308px\" zoomAndPan=\"magnify\"><defs/><g><!--MD5=[fbc87193dbaf4d95561dea2c320d4a47]\n",
       "cluster E1--><a href=\"psysml:6f25d091-f985-426b-8055-e92e3d48be4a\" target=\"_top\" title=\"psysml:6f25d091-f985-426b-8055-e92e3d48be4a\" xlink:actuate=\"onRequest\" xlink:href=\"psysml:6f25d091-f985-426b-8055-e92e3d48be4a\" xlink:show=\"new\" xlink:title=\"psysml:6f25d091-f985-426b-8055-e92e3d48be4a\" xlink:type=\"simple\"><polygon fill=\"#FFFFFF\" points=\"16,6,94,6,101,28.2969,286,28.2969,286,275,16,275,16,6\" style=\"stroke: #000000; stroke-width: 1.5;\"/><line style=\"stroke: #000000; stroke-width: 1.5;\" x1=\"16\" x2=\"101\" y1=\"28.2969\" y2=\"28.2969\"/><text fill=\"#000000\" font-family=\"sans-serif\" font-size=\"14\" font-weight=\"bold\" lengthAdjust=\"spacingAndGlyphs\" textLength=\"72\" x=\"20\" y=\"20.9951\">AliasTest</text></a><!--MD5=[e4f7fae6ed58524ba242bb0b0d3be6b7]\n",
       "cluster E2--><a href=\"psysml:258ca4bf-faa9-4328-8179-2aed0dfcbbf6\" target=\"_top\" title=\"psysml:258ca4bf-faa9-4328-8179-2aed0dfcbbf6\" xlink:actuate=\"onRequest\" xlink:href=\"psysml:258ca4bf-faa9-4328-8179-2aed0dfcbbf6\" xlink:show=\"new\" xlink:title=\"psysml:258ca4bf-faa9-4328-8179-2aed0dfcbbf6\" xlink:type=\"simple\"><rect fill=\"#FFFFFF\" height=\"47\" id=\"E2\" style=\"stroke: #383838; stroke-width: 1.5;\" width=\"143\" x=\"28\" y=\"55\"/><rect fill=\"#F8F8F8\" height=\"37.9375\" style=\"stroke: #383838; stroke-width: 1.5;\" width=\"143\" x=\"28\" y=\"55\"/><text fill=\"#000000\" font-family=\"sans-serif\" font-size=\"12\" font-style=\"italic\" lengthAdjust=\"spacingAndGlyphs\" textLength=\"64\" x=\"67.5\" y=\"71.1387\">«part def»</text><text fill=\"#000000\" font-family=\"sans-serif\" font-size=\"12\" lengthAdjust=\"spacingAndGlyphs\" textLength=\"16\" x=\"91.5\" y=\"85.1074\">P1</text></a><!--MD5=[de5ec2e2e8f62f467e546659f5068c88]\n",
       "cluster E5--><a href=\"psysml:a26c0441-e754-421d-8c32-eea1ef6cab52\" target=\"_top\" title=\"psysml:a26c0441-e754-421d-8c32-eea1ef6cab52\" xlink:actuate=\"onRequest\" xlink:href=\"psysml:a26c0441-e754-421d-8c32-eea1ef6cab52\" xlink:show=\"new\" xlink:title=\"psysml:a26c0441-e754-421d-8c32-eea1ef6cab52\" xlink:type=\"simple\"><rect fill=\"#FFFFFF\" height=\"37\" id=\"E5\" rx=\"10\" ry=\"10\" style=\"stroke: #383838; stroke-width: 1.5;\" width=\"176.5\" x=\"93.5\" y=\"124\"/><rect fill=\"#F8F8F8\" height=\"23.9688\" rx=\"10\" ry=\"10\" style=\"stroke: #F8F8F8; stroke-width: 1.5;\" width=\"176.5\" x=\"93.5\" y=\"124\"/><rect fill=\"#F8F8F8\" height=\"10\" style=\"stroke: #F8F8F8; stroke-width: 1.5;\" width=\"176.5\" x=\"93.5\" y=\"137.9688\"/><rect fill=\"none\" height=\"37\" id=\"E5\" rx=\"10\" ry=\"10\" style=\"stroke: #383838; stroke-width: 1.5;\" width=\"176.5\" x=\"93.5\" y=\"124\"/><text fill=\"#000000\" font-family=\"sans-serif\" font-size=\"12\" lengthAdjust=\"spacingAndGlyphs\" textLength=\"40\" x=\"161.75\" y=\"140.1387\">p1: P1</text><line style=\"stroke: #383838; stroke-width: 1.0;\" x1=\"93.5\" x2=\"270\" y1=\"147.9688\" y2=\"147.9688\"/></a><!--MD5=[168fadf3d0c3fd93dd5d6da1b1d7ab76]\n",
       "cluster E7--><a href=\"psysml:5c32a7f3-b309-4357-ac47-765b0be17034\" target=\"_top\" title=\"psysml:5c32a7f3-b309-4357-ac47-765b0be17034\" xlink:actuate=\"onRequest\" xlink:href=\"psysml:5c32a7f3-b309-4357-ac47-765b0be17034\" xlink:show=\"new\" xlink:title=\"psysml:5c32a7f3-b309-4357-ac47-765b0be17034\" xlink:type=\"simple\"><rect fill=\"#FFFFFF\" height=\"47\" id=\"E7\" rx=\"10\" ry=\"10\" style=\"stroke: #383838; stroke-width: 1.5;\" width=\"133\" x=\"28\" y=\"198\"/><rect fill=\"#F8F8F8\" height=\"23.9688\" rx=\"10\" ry=\"10\" style=\"stroke: #F8F8F8; stroke-width: 1.5;\" width=\"133\" x=\"28\" y=\"198\"/><rect fill=\"#F8F8F8\" height=\"10\" style=\"stroke: #F8F8F8; stroke-width: 1.5;\" width=\"133\" x=\"28\" y=\"211.9688\"/><rect fill=\"none\" height=\"47\" id=\"E7\" rx=\"10\" ry=\"10\" style=\"stroke: #383838; stroke-width: 1.5;\" width=\"133\" x=\"28\" y=\"198\"/><text fill=\"#000000\" font-family=\"sans-serif\" font-size=\"12\" lengthAdjust=\"spacingAndGlyphs\" textLength=\"40\" x=\"74.5\" y=\"214.1387\">p2: P1</text><line style=\"stroke: #383838; stroke-width: 1.0;\" x1=\"28\" x2=\"161\" y1=\"221.9688\" y2=\"221.9688\"/></a><text fill=\"#000000\" font-family=\"sans-serif\" font-size=\"14\" lengthAdjust=\"spacingAndGlyphs\" textLength=\"44\" x=\"24\" y=\"120.9951\">porig1</text><rect fill=\"#383838\" height=\"12\" style=\"stroke: #F8F8F8; stroke-width: 1.5;\" width=\"12\" x=\"40\" y=\"96\"/><text fill=\"#000000\" font-family=\"sans-serif\" font-size=\"14\" lengthAdjust=\"spacingAndGlyphs\" textLength=\"44\" x=\"24\" y=\"33.6982\">porig1</text><rect fill=\"#383838\" height=\"12\" style=\"stroke: #F8F8F8; stroke-width: 1.5;\" width=\"12\" x=\"40\" y=\"49\"/><text fill=\"#000000\" font-family=\"sans-serif\" font-size=\"14\" lengthAdjust=\"spacingAndGlyphs\" textLength=\"27\" x=\"98\" y=\"179.9951\">po1</text><rect fill=\"#383838\" height=\"12\" style=\"stroke: #F8F8F8; stroke-width: 1.5;\" width=\"12\" x=\"105.5\" y=\"155\"/><text fill=\"#000000\" font-family=\"sans-serif\" font-size=\"14\" lengthAdjust=\"spacingAndGlyphs\" textLength=\"40\" x=\"26\" y=\"263.9951\">pdest</text><rect fill=\"#383838\" height=\"12\" style=\"stroke: #F8F8F8; stroke-width: 1.5;\" width=\"12\" x=\"40\" y=\"239\"/><text fill=\"#000000\" font-family=\"sans-serif\" font-size=\"14\" lengthAdjust=\"spacingAndGlyphs\" textLength=\"40\" x=\"26\" y=\"176.6982\">pdest</text><rect fill=\"#383838\" height=\"12\" style=\"stroke: #F8F8F8; stroke-width: 1.5;\" width=\"12\" x=\"40\" y=\"192\"/><!--MD5=[60ac2c0cde89d4308155b0484e57a8ec]\n",
       "link E9 to E6--><a href=\"psysml:df73490b-6554-48a2-b250-43b559083f0a\" target=\"_top\" title=\"psysml:df73490b-6554-48a2-b250-43b559083f0a\" xlink:actuate=\"onRequest\" xlink:href=\"psysml:df73490b-6554-48a2-b250-43b559083f0a\" xlink:show=\"new\" xlink:title=\"psysml:df73490b-6554-48a2-b250-43b559083f0a\" xlink:type=\"simple\"><path d=\"M47.45,204.28 C49.04,212.72 54.53,206.76 60,203 C78.05,190.58 103.18,180.75 109.18,167.1 \" fill=\"none\" id=\"E9-E6\" style=\"stroke: #383838; stroke-width: 3.0;\"/></a><!--MD5=[60ac2c0cde89d4308155b0484e57a8ec]\n",
       "link E9 to E6--><a href=\"psysml:45234df1-ac0c-4024-a641-0b76867140fc\" target=\"_top\" title=\"psysml:45234df1-ac0c-4024-a641-0b76867140fc\" xlink:actuate=\"onRequest\" xlink:href=\"psysml:45234df1-ac0c-4024-a641-0b76867140fc\" xlink:show=\"new\" xlink:title=\"psysml:45234df1-ac0c-4024-a641-0b76867140fc\" xlink:type=\"simple\"><path d=\"M47.29,191.73 C48.63,178.16 54.33,171.9 60,168 C77.41,156.02 101.39,146.46 108.46,154.58 \" fill=\"none\" id=\"E9-E6-1\" style=\"stroke: #383838; stroke-width: 3.0;\"/></a><!--MD5=[f74014edbc54d4ad9c4e29d76d6f1f8e]\n",
       "@startuml\r\n",
       "skinparam ranksep 8\r\n",
       "skinparam rectangle {\r\n",
       " backgroundColor<<block>> LightGreen\r\n",
       "}\r\n",
       "left to right direction\r\n",
       "skinparam monochrome true\r\n",
       "skinparam classbackgroundcolor white\r\n",
       "skinparam shadowing false\r\n",
       "skinparam wrapWidth 300\r\n",
       "hide circle\r\n",
       "\r\n",
       "package \"AliasTest\" as E1  [[psysml:6f25d091-f985-426b-8055-e92e3d48be4a ]]  {\r\n",
       "rec def \"P1\" as E2  <<(T,blue)part def>> [[psysml:258ca4bf-faa9-4328-8179-2aed0dfcbbf6 ]] {\r\n",
       "portin \"porig1\" as E3  <<(T,blue)port>> [[psysml:9209c45f-41ff-489f-bc17-bfe3af02fc93 ]] \r\n",
       "portin \"porig1\" as E4  <<(T,blue)port>> [[psysml:9209c45f-41ff-489f-bc17-bfe3af02fc93 ]] \r\n",
       "}\r\n",
       "rec usage \"p1: P1\" as E5  [[psysml:a26c0441-e754-421d-8c32-eea1ef6cab52 ]] {\r\n",
       "portin \"po1\" as E6  <<(T,blue)port>> [[psysml:aa893173-d0db-4be8-bf63-d1ddc32421c6 ]] \r\n",
       "}\r\n",
       "rec usage \"p2: P1\" as E7  [[psysml:5c32a7f3-b309-4357-ac47-765b0be17034 ]] {\r\n",
       "portin \"pdest\" as E8  <<(T,blue)port>> [[psysml:cb10c624-640d-45a1-89db-7833fbdc21f8 ]] \r\n",
       "portin \"pdest\" as E9  <<(T,blue)port>> [[psysml:cb10c624-640d-45a1-89db-7833fbdc21f8 ]] \r\n",
       "}\r\n",
       "E9 -[thickness=3]- E6 [[psysml:df73490b-6554-48a2-b250-43b559083f0a ]] \r\n",
       "E9 -[thickness=3]- E6 [[psysml:45234df1-ac0c-4024-a641-0b76867140fc ]] \r\n",
       "}\r\n",
       "@enduml\r\n",
       "\n",
       "PlantUML version 1.2020.13(Sat Jun 13 12:26:38 UTC 2020)\n",
       "(EPL source distribution)\n",
       "Java Runtime: OpenJDK Runtime Environment\n",
       "JVM: OpenJDK 64-Bit Server VM\n",
       "Default Encoding: UTF-8\n",
       "Language: en\n",
       "Country: null\n",
       "--></g></svg>"
      ]
     },
     "execution_count": 19,
     "metadata": {},
     "output_type": "execute_result"
    }
   ],
   "source": [
    "%viz --style=\"LR\" --view=\"Interconnection\" \"AliasTest\""
   ]
  },
  {
   "cell_type": "code",
   "execution_count": 20,
   "id": "silent-manner",
   "metadata": {
    "execution": {
     "iopub.execute_input": "2021-03-26T13:00:34.727298Z",
     "iopub.status.busy": "2021-03-26T13:00:34.726859Z",
     "iopub.status.idle": "2021-03-26T13:00:34.731997Z",
     "shell.execute_reply": "2021-03-26T13:00:34.732310Z"
    }
   },
   "outputs": [
    {
     "data": {
      "image/svg+xml": [
       "<?xml version=\"1.0\" encoding=\"UTF-8\" standalone=\"no\"?><svg xmlns=\"http://www.w3.org/2000/svg\" xmlns:xlink=\"http://www.w3.org/1999/xlink\" contentScriptType=\"application/ecmascript\" contentStyleType=\"text/css\" height=\"12px\" preserveAspectRatio=\"none\" style=\"width:12px;height:12px;\" version=\"1.1\" viewBox=\"0 0 12 12\" width=\"12px\" zoomAndPan=\"magnify\"><defs/><g><!--MD5=[7aeb398939421629f6affaa4a1a7b125]\n",
       "@startuml\r\n",
       "skinparam ranksep 8\r\n",
       "left to right direction\r\n",
       "skinparam monochrome true\r\n",
       "skinparam classbackgroundcolor white\r\n",
       "skinparam shadowing false\r\n",
       "skinparam wrapWidth 300\r\n",
       "hide circle\r\n",
       "\r\n",
       "@enduml\r\n",
       "\n",
       "PlantUML version 1.2020.13(Sat Jun 13 12:26:38 UTC 2020)\n",
       "(EPL source distribution)\n",
       "Java Runtime: OpenJDK Runtime Environment\n",
       "JVM: OpenJDK 64-Bit Server VM\n",
       "Default Encoding: UTF-8\n",
       "Language: en\n",
       "Country: null\n",
       "--></g></svg>"
      ]
     },
     "execution_count": 20,
     "metadata": {},
     "output_type": "execute_result"
    }
   ],
   "source": [
    "%viz --style=\"LR\" --view=\"Action\" \"AliasTest\""
   ]
  },
  {
   "cell_type": "code",
   "execution_count": 21,
   "id": "rotary-manchester",
   "metadata": {
    "execution": {
     "iopub.execute_input": "2021-03-26T13:00:34.786593Z",
     "iopub.status.busy": "2021-03-26T13:00:34.785905Z",
     "iopub.status.idle": "2021-03-26T13:00:34.847308Z",
     "shell.execute_reply": "2021-03-26T13:00:34.845860Z"
    }
   },
   "outputs": [
    {
     "data": {
      "image/svg+xml": [
       "<?xml version=\"1.0\" encoding=\"UTF-8\" standalone=\"no\"?><svg xmlns=\"http://www.w3.org/2000/svg\" xmlns:xlink=\"http://www.w3.org/1999/xlink\" contentScriptType=\"application/ecmascript\" contentStyleType=\"text/css\" height=\"268px\" preserveAspectRatio=\"none\" style=\"width:314px;height:268px;\" version=\"1.1\" viewBox=\"0 0 314 268\" width=\"314px\" zoomAndPan=\"magnify\"><defs/><g><!--MD5=[fbc87193dbaf4d95561dea2c320d4a47]\n",
       "cluster E1--><a href=\"psysml:6f25d091-f985-426b-8055-e92e3d48be4a\" target=\"_top\" title=\"psysml:6f25d091-f985-426b-8055-e92e3d48be4a\" xlink:actuate=\"onRequest\" xlink:href=\"psysml:6f25d091-f985-426b-8055-e92e3d48be4a\" xlink:show=\"new\" xlink:title=\"psysml:6f25d091-f985-426b-8055-e92e3d48be4a\" xlink:type=\"simple\"><polygon fill=\"#FFFFFF\" points=\"16,6,94,6,101,28.2969,292,28.2969,292,256,16,256,16,6\" style=\"stroke: #000000; stroke-width: 1.5;\"/><line style=\"stroke: #000000; stroke-width: 1.5;\" x1=\"16\" x2=\"101\" y1=\"28.2969\" y2=\"28.2969\"/><text fill=\"#000000\" font-family=\"sans-serif\" font-size=\"14\" font-weight=\"bold\" lengthAdjust=\"spacingAndGlyphs\" textLength=\"72\" x=\"20\" y=\"20.9951\">AliasTest</text></a><!--MD5=[b4997ac47864f28c2f74865a473b2911]\n",
       "class E2--><a href=\"psysml:258ca4bf-faa9-4328-8179-2aed0dfcbbf6\" target=\"_top\" title=\"psysml:258ca4bf-faa9-4328-8179-2aed0dfcbbf6\" xlink:actuate=\"onRequest\" xlink:href=\"psysml:258ca4bf-faa9-4328-8179-2aed0dfcbbf6\" xlink:show=\"new\" xlink:title=\"psysml:258ca4bf-faa9-4328-8179-2aed0dfcbbf6\" xlink:type=\"simple\"><rect fill=\"#FFFFFF\" height=\"75.5469\" id=\"E2\" style=\"stroke: #383838; stroke-width: 1.5;\" width=\"92\" x=\"184\" y=\"106\"/><text fill=\"#000000\" font-family=\"sans-serif\" font-size=\"12\" font-style=\"italic\" lengthAdjust=\"spacingAndGlyphs\" textLength=\"64\" x=\"198\" y=\"122.1387\">«part def»</text><text fill=\"#000000\" font-family=\"sans-serif\" font-size=\"12\" lengthAdjust=\"spacingAndGlyphs\" textLength=\"16\" x=\"222\" y=\"136.1074\">P1</text><line style=\"stroke: #383838; stroke-width: 1.5;\" x1=\"185\" x2=\"275\" y1=\"143.9375\" y2=\"143.9375\"/><text fill=\"#000000\" font-family=\"sans-serif\" font-size=\"11\" lengthAdjust=\"spacingAndGlyphs\" textLength=\"36\" x=\"190\" y=\"174.9526\">porig1</text><text fill=\"#000000\" font-family=\"sans-serif\" font-size=\"11\" font-weight=\"bold\" lengthAdjust=\"spacingAndGlyphs\" textLength=\"15\" x=\"230\" y=\"174.9526\">as</text><text fill=\"#000000\" font-family=\"sans-serif\" font-size=\"11\" lengthAdjust=\"spacingAndGlyphs\" textLength=\"21\" x=\"249\" y=\"174.9526\">po1</text><line style=\"stroke: #383838; stroke-width: 1.0;\" x1=\"185\" x2=\"215\" y1=\"158.3398\" y2=\"158.3398\"/><text fill=\"#000000\" font-family=\"sans-serif\" font-size=\"11\" lengthAdjust=\"spacingAndGlyphs\" textLength=\"30\" x=\"215\" y=\"161.6479\">ports</text><line style=\"stroke: #383838; stroke-width: 1.0;\" x1=\"245\" x2=\"275\" y1=\"158.3398\" y2=\"158.3398\"/></a><!--MD5=[ebbe1d658d1005bcc118a6aa81145e00]\n",
       "class E4--><a href=\"psysml:a26c0441-e754-421d-8c32-eea1ef6cab52\" target=\"_top\" title=\"psysml:a26c0441-e754-421d-8c32-eea1ef6cab52\" xlink:actuate=\"onRequest\" xlink:href=\"psysml:a26c0441-e754-421d-8c32-eea1ef6cab52\" xlink:show=\"new\" xlink:title=\"psysml:a26c0441-e754-421d-8c32-eea1ef6cab52\" xlink:type=\"simple\"><rect fill=\"#FFFFFF\" height=\"88.3516\" id=\"E4\" rx=\"10\" ry=\"10\" style=\"stroke: #383838; stroke-width: 1.5;\" width=\"92\" x=\"32\" y=\"41\"/><text fill=\"#000000\" font-family=\"sans-serif\" font-size=\"12\" font-style=\"italic\" lengthAdjust=\"spacingAndGlyphs\" textLength=\"40\" x=\"58\" y=\"57.1387\">«part»</text><text fill=\"#000000\" font-family=\"sans-serif\" font-size=\"12\" lengthAdjust=\"spacingAndGlyphs\" textLength=\"40\" x=\"58\" y=\"71.1074\">p1: P1</text><line style=\"stroke: #383838; stroke-width: 1.5;\" x1=\"33\" x2=\"123\" y1=\"78.9375\" y2=\"78.9375\"/><text fill=\"#000000\" font-family=\"sans-serif\" font-size=\"11\" lengthAdjust=\"spacingAndGlyphs\" textLength=\"21\" x=\"38\" y=\"109.9526\">po1</text><text fill=\"#000000\" font-family=\"sans-serif\" font-size=\"11\" font-style=\"italic\" lengthAdjust=\"spacingAndGlyphs\" textLength=\"80\" x=\"38\" y=\"122.7573\">:&gt;&gt;P1::porig1</text><line style=\"stroke: #383838; stroke-width: 1.0;\" x1=\"33\" x2=\"63\" y1=\"93.3398\" y2=\"93.3398\"/><text fill=\"#000000\" font-family=\"sans-serif\" font-size=\"11\" lengthAdjust=\"spacingAndGlyphs\" textLength=\"30\" x=\"63\" y=\"96.6479\">ports</text><line style=\"stroke: #383838; stroke-width: 1.0;\" x1=\"93\" x2=\"123\" y1=\"93.3398\" y2=\"93.3398\"/></a><!--MD5=[60a26617385b1d2d0262a64233df1f8d]\n",
       "class E6--><a href=\"psysml:5c32a7f3-b309-4357-ac47-765b0be17034\" target=\"_top\" title=\"psysml:5c32a7f3-b309-4357-ac47-765b0be17034\" xlink:actuate=\"onRequest\" xlink:href=\"psysml:5c32a7f3-b309-4357-ac47-765b0be17034\" xlink:show=\"new\" xlink:title=\"psysml:5c32a7f3-b309-4357-ac47-765b0be17034\" xlink:type=\"simple\"><rect fill=\"#FFFFFF\" height=\"75.5469\" id=\"E6\" rx=\"10\" ry=\"10\" style=\"stroke: #383838; stroke-width: 1.5;\" width=\"88\" x=\"34\" y=\"164\"/><text fill=\"#000000\" font-family=\"sans-serif\" font-size=\"12\" font-style=\"italic\" lengthAdjust=\"spacingAndGlyphs\" textLength=\"40\" x=\"58\" y=\"180.1387\">«part»</text><text fill=\"#000000\" font-family=\"sans-serif\" font-size=\"12\" lengthAdjust=\"spacingAndGlyphs\" textLength=\"40\" x=\"58\" y=\"194.1074\">p2: P1</text><line style=\"stroke: #383838; stroke-width: 1.5;\" x1=\"35\" x2=\"121\" y1=\"201.9375\" y2=\"201.9375\"/><text fill=\"#000000\" font-family=\"sans-serif\" font-size=\"11\" lengthAdjust=\"spacingAndGlyphs\" textLength=\"32\" x=\"40\" y=\"232.9526\">pdest</text><text fill=\"#000000\" font-family=\"sans-serif\" font-size=\"11\" font-weight=\"bold\" lengthAdjust=\"spacingAndGlyphs\" textLength=\"15\" x=\"76\" y=\"232.9526\">as</text><text fill=\"#000000\" font-family=\"sans-serif\" font-size=\"11\" lengthAdjust=\"spacingAndGlyphs\" textLength=\"21\" x=\"95\" y=\"232.9526\">pd1</text><line style=\"stroke: #383838; stroke-width: 1.0;\" x1=\"35\" x2=\"63\" y1=\"216.3398\" y2=\"216.3398\"/><text fill=\"#000000\" font-family=\"sans-serif\" font-size=\"11\" lengthAdjust=\"spacingAndGlyphs\" textLength=\"30\" x=\"63\" y=\"219.6479\">ports</text><line style=\"stroke: #383838; stroke-width: 1.0;\" x1=\"93\" x2=\"121\" y1=\"216.3398\" y2=\"216.3398\"/></a><!--MD5=[185131fc0dcab0a4505a2ebe144e961b]\n",
       "link E4 to E2--><a href=\"psysml:743cbcb0-f678-48b7-bb90-7aa18ca2c39d\" target=\"_top\" title=\"psysml:743cbcb0-f678-48b7-bb90-7aa18ca2c39d\" xlink:actuate=\"onRequest\" xlink:href=\"psysml:743cbcb0-f678-48b7-bb90-7aa18ca2c39d\" xlink:show=\"new\" xlink:title=\"psysml:743cbcb0-f678-48b7-bb90-7aa18ca2c39d\" xlink:type=\"simple\"><path d=\"M124,102.7 C136.85,107.75 151.1,113.36 164.85,118.77 \" fill=\"none\" id=\"E4-&gt;E2\" style=\"stroke: #383838; stroke-width: 1.0;\"/><polygon fill=\"#FFFFFF\" points=\"183.77,126.21,163.5265,125.763,168.6552,112.7362,183.77,126.21\" style=\"stroke: #383838; stroke-width: 1.0;\"/><ellipse cx=\"158.9554\" cy=\"121.8139\" fill=\"#383838\" rx=\"2\" ry=\"2\" style=\"stroke: #383838; stroke-width: 1.0;\"/><ellipse cx=\"162.6188\" cy=\"112.5091\" fill=\"#383838\" rx=\"2\" ry=\"2\" style=\"stroke: #383838; stroke-width: 1.0;\"/></a><!--MD5=[2351f337d6de0f557b50152ba70847b5]\n",
       "link E6 to E2--><a href=\"psysml:a1f896e7-ae1f-4795-a4ef-b600067d493f\" target=\"_top\" title=\"psysml:a1f896e7-ae1f-4795-a4ef-b600067d493f\" xlink:actuate=\"onRequest\" xlink:href=\"psysml:a1f896e7-ae1f-4795-a4ef-b600067d493f\" xlink:show=\"new\" xlink:title=\"psysml:a1f896e7-ae1f-4795-a4ef-b600067d493f\" xlink:type=\"simple\"><path d=\"M122.39,185.22 C135.65,180.09 150.53,174.34 164.87,168.8 \" fill=\"none\" id=\"E6-&gt;E2\" style=\"stroke: #383838; stroke-width: 1.0;\"/><polygon fill=\"#FFFFFF\" points=\"183.89,161.44,168.6933,174.8213,163.6441,161.7635,183.89,161.44\" style=\"stroke: #383838; stroke-width: 1.0;\"/><ellipse cx=\"162.6556\" cy=\"175.0116\" fill=\"#383838\" rx=\"2\" ry=\"2\" style=\"stroke: #383838; stroke-width: 1.0;\"/><ellipse cx=\"159.049\" cy=\"165.6846\" fill=\"#383838\" rx=\"2\" ry=\"2\" style=\"stroke: #383838; stroke-width: 1.0;\"/></a><!--MD5=[21d20698a52bd78abfc5028ca742f23a]\n",
       "@startuml\r\n",
       "left to right direction\r\n",
       "skinparam monochrome true\r\n",
       "skinparam classbackgroundcolor white\r\n",
       "skinparam shadowing false\r\n",
       "skinparam wrapWidth 300\r\n",
       "hide circle\r\n",
       "\r\n",
       "package \"AliasTest\" as E1  [[psysml:6f25d091-f985-426b-8055-e92e3d48be4a ]]  {\r\n",
       "comp def \"P1\" as E2  <<(T,blue)part def>> [[psysml:258ca4bf-faa9-4328-8179-2aed0dfcbbf6 ]] {\r\n",
       "- - ports - -\r\n",
       "porig1 <b>as</b> po1 \r\n",
       "}\r\n",
       "comp usage \"p1: P1\" as E4  <<(T,blue)part>> [[psysml:a26c0441-e754-421d-8c32-eea1ef6cab52 ]] {\r\n",
       "- - ports - -\r\n",
       "po1\\n//:>>P1::porig1// \r\n",
       "}\r\n",
       "comp usage \"p2: P1\" as E6  <<(T,blue)part>> [[psysml:5c32a7f3-b309-4357-ac47-765b0be17034 ]] {\r\n",
       "- - ports - -\r\n",
       "pdest <b>as</b> pd1 \r\n",
       "}\r\n",
       "E4 - -:|> E2 [[psysml:743cbcb0-f678-48b7-bb90-7aa18ca2c39d ]] \r\n",
       "E6 - -:|> E2 [[psysml:a1f896e7-ae1f-4795-a4ef-b600067d493f ]] \r\n",
       "}\r\n",
       "@enduml\r\n",
       "\n",
       "PlantUML version 1.2020.13(Sat Jun 13 12:26:38 UTC 2020)\n",
       "(EPL source distribution)\n",
       "Java Runtime: OpenJDK Runtime Environment\n",
       "JVM: OpenJDK 64-Bit Server VM\n",
       "Default Encoding: UTF-8\n",
       "Language: en\n",
       "Country: null\n",
       "--></g></svg>"
      ]
     },
     "execution_count": 21,
     "metadata": {},
     "output_type": "execute_result"
    }
   ],
   "source": [
    "%viz --style=\"LR\" --view=\"Sequence\" \"AliasTest\""
   ]
  },
  {
   "cell_type": "code",
   "execution_count": 22,
   "id": "worthy-account",
   "metadata": {
    "execution": {
     "iopub.execute_input": "2021-03-26T13:00:34.899667Z",
     "iopub.status.busy": "2021-03-26T13:00:34.898948Z",
     "iopub.status.idle": "2021-03-26T13:00:34.962649Z",
     "shell.execute_reply": "2021-03-26T13:00:34.963060Z"
    }
   },
   "outputs": [
    {
     "data": {
      "image/svg+xml": [
       "<?xml version=\"1.0\" encoding=\"UTF-8\" standalone=\"no\"?><svg xmlns=\"http://www.w3.org/2000/svg\" xmlns:xlink=\"http://www.w3.org/1999/xlink\" contentScriptType=\"application/ecmascript\" contentStyleType=\"text/css\" height=\"268px\" preserveAspectRatio=\"none\" style=\"width:314px;height:268px;\" version=\"1.1\" viewBox=\"0 0 314 268\" width=\"314px\" zoomAndPan=\"magnify\"><defs/><g><!--MD5=[fbc87193dbaf4d95561dea2c320d4a47]\n",
       "cluster E1--><a href=\"psysml:6f25d091-f985-426b-8055-e92e3d48be4a\" target=\"_top\" title=\"psysml:6f25d091-f985-426b-8055-e92e3d48be4a\" xlink:actuate=\"onRequest\" xlink:href=\"psysml:6f25d091-f985-426b-8055-e92e3d48be4a\" xlink:show=\"new\" xlink:title=\"psysml:6f25d091-f985-426b-8055-e92e3d48be4a\" xlink:type=\"simple\"><polygon fill=\"#FFFFFF\" points=\"16,6,94,6,101,28.2969,292,28.2969,292,256,16,256,16,6\" style=\"stroke: #000000; stroke-width: 1.5;\"/><line style=\"stroke: #000000; stroke-width: 1.5;\" x1=\"16\" x2=\"101\" y1=\"28.2969\" y2=\"28.2969\"/><text fill=\"#000000\" font-family=\"sans-serif\" font-size=\"14\" font-weight=\"bold\" lengthAdjust=\"spacingAndGlyphs\" textLength=\"72\" x=\"20\" y=\"20.9951\">AliasTest</text></a><!--MD5=[b4997ac47864f28c2f74865a473b2911]\n",
       "class E2--><a href=\"psysml:258ca4bf-faa9-4328-8179-2aed0dfcbbf6\" target=\"_top\" title=\"psysml:258ca4bf-faa9-4328-8179-2aed0dfcbbf6\" xlink:actuate=\"onRequest\" xlink:href=\"psysml:258ca4bf-faa9-4328-8179-2aed0dfcbbf6\" xlink:show=\"new\" xlink:title=\"psysml:258ca4bf-faa9-4328-8179-2aed0dfcbbf6\" xlink:type=\"simple\"><rect fill=\"#FFFFFF\" height=\"75.5469\" id=\"E2\" style=\"stroke: #383838; stroke-width: 1.5;\" width=\"92\" x=\"184\" y=\"106\"/><text fill=\"#000000\" font-family=\"sans-serif\" font-size=\"12\" font-style=\"italic\" lengthAdjust=\"spacingAndGlyphs\" textLength=\"64\" x=\"198\" y=\"122.1387\">«part def»</text><text fill=\"#000000\" font-family=\"sans-serif\" font-size=\"12\" lengthAdjust=\"spacingAndGlyphs\" textLength=\"16\" x=\"222\" y=\"136.1074\">P1</text><line style=\"stroke: #383838; stroke-width: 1.5;\" x1=\"185\" x2=\"275\" y1=\"143.9375\" y2=\"143.9375\"/><text fill=\"#000000\" font-family=\"sans-serif\" font-size=\"11\" lengthAdjust=\"spacingAndGlyphs\" textLength=\"36\" x=\"190\" y=\"174.9526\">porig1</text><text fill=\"#000000\" font-family=\"sans-serif\" font-size=\"11\" font-weight=\"bold\" lengthAdjust=\"spacingAndGlyphs\" textLength=\"15\" x=\"230\" y=\"174.9526\">as</text><text fill=\"#000000\" font-family=\"sans-serif\" font-size=\"11\" lengthAdjust=\"spacingAndGlyphs\" textLength=\"21\" x=\"249\" y=\"174.9526\">po1</text><line style=\"stroke: #383838; stroke-width: 1.0;\" x1=\"185\" x2=\"215\" y1=\"158.3398\" y2=\"158.3398\"/><text fill=\"#000000\" font-family=\"sans-serif\" font-size=\"11\" lengthAdjust=\"spacingAndGlyphs\" textLength=\"30\" x=\"215\" y=\"161.6479\">ports</text><line style=\"stroke: #383838; stroke-width: 1.0;\" x1=\"245\" x2=\"275\" y1=\"158.3398\" y2=\"158.3398\"/></a><!--MD5=[ebbe1d658d1005bcc118a6aa81145e00]\n",
       "class E4--><a href=\"psysml:a26c0441-e754-421d-8c32-eea1ef6cab52\" target=\"_top\" title=\"psysml:a26c0441-e754-421d-8c32-eea1ef6cab52\" xlink:actuate=\"onRequest\" xlink:href=\"psysml:a26c0441-e754-421d-8c32-eea1ef6cab52\" xlink:show=\"new\" xlink:title=\"psysml:a26c0441-e754-421d-8c32-eea1ef6cab52\" xlink:type=\"simple\"><rect fill=\"#FFFFFF\" height=\"88.3516\" id=\"E4\" rx=\"10\" ry=\"10\" style=\"stroke: #383838; stroke-width: 1.5;\" width=\"92\" x=\"32\" y=\"41\"/><text fill=\"#000000\" font-family=\"sans-serif\" font-size=\"12\" font-style=\"italic\" lengthAdjust=\"spacingAndGlyphs\" textLength=\"40\" x=\"58\" y=\"57.1387\">«part»</text><text fill=\"#000000\" font-family=\"sans-serif\" font-size=\"12\" lengthAdjust=\"spacingAndGlyphs\" textLength=\"40\" x=\"58\" y=\"71.1074\">p1: P1</text><line style=\"stroke: #383838; stroke-width: 1.5;\" x1=\"33\" x2=\"123\" y1=\"78.9375\" y2=\"78.9375\"/><text fill=\"#000000\" font-family=\"sans-serif\" font-size=\"11\" lengthAdjust=\"spacingAndGlyphs\" textLength=\"21\" x=\"38\" y=\"109.9526\">po1</text><text fill=\"#000000\" font-family=\"sans-serif\" font-size=\"11\" font-style=\"italic\" lengthAdjust=\"spacingAndGlyphs\" textLength=\"80\" x=\"38\" y=\"122.7573\">:&gt;&gt;P1::porig1</text><line style=\"stroke: #383838; stroke-width: 1.0;\" x1=\"33\" x2=\"63\" y1=\"93.3398\" y2=\"93.3398\"/><text fill=\"#000000\" font-family=\"sans-serif\" font-size=\"11\" lengthAdjust=\"spacingAndGlyphs\" textLength=\"30\" x=\"63\" y=\"96.6479\">ports</text><line style=\"stroke: #383838; stroke-width: 1.0;\" x1=\"93\" x2=\"123\" y1=\"93.3398\" y2=\"93.3398\"/></a><!--MD5=[60a26617385b1d2d0262a64233df1f8d]\n",
       "class E6--><a href=\"psysml:5c32a7f3-b309-4357-ac47-765b0be17034\" target=\"_top\" title=\"psysml:5c32a7f3-b309-4357-ac47-765b0be17034\" xlink:actuate=\"onRequest\" xlink:href=\"psysml:5c32a7f3-b309-4357-ac47-765b0be17034\" xlink:show=\"new\" xlink:title=\"psysml:5c32a7f3-b309-4357-ac47-765b0be17034\" xlink:type=\"simple\"><rect fill=\"#FFFFFF\" height=\"75.5469\" id=\"E6\" rx=\"10\" ry=\"10\" style=\"stroke: #383838; stroke-width: 1.5;\" width=\"88\" x=\"34\" y=\"164\"/><text fill=\"#000000\" font-family=\"sans-serif\" font-size=\"12\" font-style=\"italic\" lengthAdjust=\"spacingAndGlyphs\" textLength=\"40\" x=\"58\" y=\"180.1387\">«part»</text><text fill=\"#000000\" font-family=\"sans-serif\" font-size=\"12\" lengthAdjust=\"spacingAndGlyphs\" textLength=\"40\" x=\"58\" y=\"194.1074\">p2: P1</text><line style=\"stroke: #383838; stroke-width: 1.5;\" x1=\"35\" x2=\"121\" y1=\"201.9375\" y2=\"201.9375\"/><text fill=\"#000000\" font-family=\"sans-serif\" font-size=\"11\" lengthAdjust=\"spacingAndGlyphs\" textLength=\"32\" x=\"40\" y=\"232.9526\">pdest</text><text fill=\"#000000\" font-family=\"sans-serif\" font-size=\"11\" font-weight=\"bold\" lengthAdjust=\"spacingAndGlyphs\" textLength=\"15\" x=\"76\" y=\"232.9526\">as</text><text fill=\"#000000\" font-family=\"sans-serif\" font-size=\"11\" lengthAdjust=\"spacingAndGlyphs\" textLength=\"21\" x=\"95\" y=\"232.9526\">pd1</text><line style=\"stroke: #383838; stroke-width: 1.0;\" x1=\"35\" x2=\"63\" y1=\"216.3398\" y2=\"216.3398\"/><text fill=\"#000000\" font-family=\"sans-serif\" font-size=\"11\" lengthAdjust=\"spacingAndGlyphs\" textLength=\"30\" x=\"63\" y=\"219.6479\">ports</text><line style=\"stroke: #383838; stroke-width: 1.0;\" x1=\"93\" x2=\"121\" y1=\"216.3398\" y2=\"216.3398\"/></a><!--MD5=[185131fc0dcab0a4505a2ebe144e961b]\n",
       "link E4 to E2--><a href=\"psysml:743cbcb0-f678-48b7-bb90-7aa18ca2c39d\" target=\"_top\" title=\"psysml:743cbcb0-f678-48b7-bb90-7aa18ca2c39d\" xlink:actuate=\"onRequest\" xlink:href=\"psysml:743cbcb0-f678-48b7-bb90-7aa18ca2c39d\" xlink:show=\"new\" xlink:title=\"psysml:743cbcb0-f678-48b7-bb90-7aa18ca2c39d\" xlink:type=\"simple\"><path d=\"M124,102.7 C136.85,107.75 151.1,113.36 164.85,118.77 \" fill=\"none\" id=\"E4-&gt;E2\" style=\"stroke: #383838; stroke-width: 1.0;\"/><polygon fill=\"#FFFFFF\" points=\"183.77,126.21,163.5265,125.763,168.6552,112.7362,183.77,126.21\" style=\"stroke: #383838; stroke-width: 1.0;\"/><ellipse cx=\"158.9554\" cy=\"121.8139\" fill=\"#383838\" rx=\"2\" ry=\"2\" style=\"stroke: #383838; stroke-width: 1.0;\"/><ellipse cx=\"162.6188\" cy=\"112.5091\" fill=\"#383838\" rx=\"2\" ry=\"2\" style=\"stroke: #383838; stroke-width: 1.0;\"/></a><!--MD5=[2351f337d6de0f557b50152ba70847b5]\n",
       "link E6 to E2--><a href=\"psysml:a1f896e7-ae1f-4795-a4ef-b600067d493f\" target=\"_top\" title=\"psysml:a1f896e7-ae1f-4795-a4ef-b600067d493f\" xlink:actuate=\"onRequest\" xlink:href=\"psysml:a1f896e7-ae1f-4795-a4ef-b600067d493f\" xlink:show=\"new\" xlink:title=\"psysml:a1f896e7-ae1f-4795-a4ef-b600067d493f\" xlink:type=\"simple\"><path d=\"M122.39,185.22 C135.65,180.09 150.53,174.34 164.87,168.8 \" fill=\"none\" id=\"E6-&gt;E2\" style=\"stroke: #383838; stroke-width: 1.0;\"/><polygon fill=\"#FFFFFF\" points=\"183.89,161.44,168.6933,174.8213,163.6441,161.7635,183.89,161.44\" style=\"stroke: #383838; stroke-width: 1.0;\"/><ellipse cx=\"162.6556\" cy=\"175.0116\" fill=\"#383838\" rx=\"2\" ry=\"2\" style=\"stroke: #383838; stroke-width: 1.0;\"/><ellipse cx=\"159.049\" cy=\"165.6846\" fill=\"#383838\" rx=\"2\" ry=\"2\" style=\"stroke: #383838; stroke-width: 1.0;\"/></a><!--MD5=[21d20698a52bd78abfc5028ca742f23a]\n",
       "@startuml\r\n",
       "left to right direction\r\n",
       "skinparam monochrome true\r\n",
       "skinparam classbackgroundcolor white\r\n",
       "skinparam shadowing false\r\n",
       "skinparam wrapWidth 300\r\n",
       "hide circle\r\n",
       "\r\n",
       "package \"AliasTest\" as E1  [[psysml:6f25d091-f985-426b-8055-e92e3d48be4a ]]  {\r\n",
       "comp def \"P1\" as E2  <<(T,blue)part def>> [[psysml:258ca4bf-faa9-4328-8179-2aed0dfcbbf6 ]] {\r\n",
       "- - ports - -\r\n",
       "porig1 <b>as</b> po1 \r\n",
       "}\r\n",
       "comp usage \"p1: P1\" as E4  <<(T,blue)part>> [[psysml:a26c0441-e754-421d-8c32-eea1ef6cab52 ]] {\r\n",
       "- - ports - -\r\n",
       "po1\\n//:>>P1::porig1// \r\n",
       "}\r\n",
       "comp usage \"p2: P1\" as E6  <<(T,blue)part>> [[psysml:5c32a7f3-b309-4357-ac47-765b0be17034 ]] {\r\n",
       "- - ports - -\r\n",
       "pdest <b>as</b> pd1 \r\n",
       "}\r\n",
       "E4 - -:|> E2 [[psysml:743cbcb0-f678-48b7-bb90-7aa18ca2c39d ]] \r\n",
       "E6 - -:|> E2 [[psysml:a1f896e7-ae1f-4795-a4ef-b600067d493f ]] \r\n",
       "}\r\n",
       "@enduml\r\n",
       "\n",
       "PlantUML version 1.2020.13(Sat Jun 13 12:26:38 UTC 2020)\n",
       "(EPL source distribution)\n",
       "Java Runtime: OpenJDK Runtime Environment\n",
       "JVM: OpenJDK 64-Bit Server VM\n",
       "Default Encoding: UTF-8\n",
       "Language: en\n",
       "Country: null\n",
       "--></g></svg>"
      ]
     },
     "execution_count": 22,
     "metadata": {},
     "output_type": "execute_result"
    }
   ],
   "source": [
    "%viz --style=\"LR\" --view=\"MIXED\" \"AliasTest\""
   ]
  },
  {
   "cell_type": "code",
   "execution_count": 23,
   "id": "according-nudist",
   "metadata": {
    "execution": {
     "iopub.execute_input": "2021-03-26T13:00:35.015260Z",
     "iopub.status.busy": "2021-03-26T13:00:35.014459Z",
     "iopub.status.idle": "2021-03-26T13:00:35.094473Z",
     "shell.execute_reply": "2021-03-26T13:00:35.093196Z"
    }
   },
   "outputs": [
    {
     "data": {
      "image/svg+xml": [
       "<?xml version=\"1.0\" encoding=\"UTF-8\" standalone=\"no\"?><svg xmlns=\"http://www.w3.org/2000/svg\" xmlns:xlink=\"http://www.w3.org/1999/xlink\" contentScriptType=\"application/ecmascript\" contentStyleType=\"text/css\" height=\"281px\" preserveAspectRatio=\"none\" style=\"width:305px;height:281px;\" version=\"1.1\" viewBox=\"0 0 305 281\" width=\"305px\" zoomAndPan=\"magnify\"><defs><filter height=\"300%\" id=\"f1dumik9rb0xz2\" width=\"300%\" x=\"-1\" y=\"-1\"><feGaussianBlur result=\"blurOut\" stdDeviation=\"2.0\"/><feColorMatrix in=\"blurOut\" result=\"blurOut2\" type=\"matrix\" values=\"0 0 0 0 0 0 0 0 0 0 0 0 0 0 0 0 0 0 .4 0\"/><feOffset dx=\"4.0\" dy=\"4.0\" in=\"blurOut2\" result=\"blurOut3\"/><feBlend in=\"SourceGraphic\" in2=\"blurOut3\" mode=\"normal\"/></filter></defs><g><!--MD5=[fbc87193dbaf4d95561dea2c320d4a47]\n",
       "cluster E1--><a href=\"psysml:6f25d091-f985-426b-8055-e92e3d48be4a\" target=\"_top\" title=\"psysml:6f25d091-f985-426b-8055-e92e3d48be4a\" xlink:actuate=\"onRequest\" xlink:href=\"psysml:6f25d091-f985-426b-8055-e92e3d48be4a\" xlink:show=\"new\" xlink:title=\"psysml:6f25d091-f985-426b-8055-e92e3d48be4a\" xlink:type=\"simple\"><polygon fill=\"#FFFFFF\" filter=\"url(#f1dumik9rb0xz2)\" points=\"16,6,94,6,101,28.2969,283,28.2969,283,269,16,269,16,6\" style=\"stroke: #000000; stroke-width: 1.5;\"/><line style=\"stroke: #000000; stroke-width: 1.5;\" x1=\"16\" x2=\"101\" y1=\"28.2969\" y2=\"28.2969\"/><text fill=\"#000000\" font-family=\"sans-serif\" font-size=\"14\" font-weight=\"bold\" lengthAdjust=\"spacingAndGlyphs\" textLength=\"72\" x=\"20\" y=\"20.9951\">AliasTest</text></a><!--MD5=[b4997ac47864f28c2f74865a473b2911]\n",
       "class E2--><a href=\"psysml:258ca4bf-faa9-4328-8179-2aed0dfcbbf6\" target=\"_top\" title=\"psysml:258ca4bf-faa9-4328-8179-2aed0dfcbbf6\" xlink:actuate=\"onRequest\" xlink:href=\"psysml:258ca4bf-faa9-4328-8179-2aed0dfcbbf6\" xlink:show=\"new\" xlink:title=\"psysml:258ca4bf-faa9-4328-8179-2aed0dfcbbf6\" xlink:type=\"simple\"><rect fill=\"#FEFECE\" filter=\"url(#f1dumik9rb0xz2)\" height=\"75.5469\" id=\"E2\" style=\"stroke: #A80036; stroke-width: 1.5;\" width=\"92\" x=\"98\" y=\"177\"/><text fill=\"#000000\" font-family=\"sans-serif\" font-size=\"12\" font-style=\"italic\" lengthAdjust=\"spacingAndGlyphs\" textLength=\"64\" x=\"112\" y=\"193.1387\">«part def»</text><text fill=\"#000000\" font-family=\"sans-serif\" font-size=\"12\" lengthAdjust=\"spacingAndGlyphs\" textLength=\"16\" x=\"136\" y=\"207.1074\">P1</text><line style=\"stroke: #A80036; stroke-width: 1.5;\" x1=\"99\" x2=\"189\" y1=\"214.9375\" y2=\"214.9375\"/><text fill=\"#000000\" font-family=\"sans-serif\" font-size=\"11\" lengthAdjust=\"spacingAndGlyphs\" textLength=\"36\" x=\"104\" y=\"245.9526\">porig1</text><text fill=\"#000000\" font-family=\"sans-serif\" font-size=\"11\" font-weight=\"bold\" lengthAdjust=\"spacingAndGlyphs\" textLength=\"15\" x=\"144\" y=\"245.9526\">as</text><text fill=\"#000000\" font-family=\"sans-serif\" font-size=\"11\" lengthAdjust=\"spacingAndGlyphs\" textLength=\"21\" x=\"163\" y=\"245.9526\">po1</text><line style=\"stroke: #A80036; stroke-width: 1.0;\" x1=\"99\" x2=\"129\" y1=\"229.3398\" y2=\"229.3398\"/><text fill=\"#000000\" font-family=\"sans-serif\" font-size=\"11\" lengthAdjust=\"spacingAndGlyphs\" textLength=\"30\" x=\"129\" y=\"232.6479\">ports</text><line style=\"stroke: #A80036; stroke-width: 1.0;\" x1=\"159\" x2=\"189\" y1=\"229.3398\" y2=\"229.3398\"/></a><!--MD5=[ebbe1d658d1005bcc118a6aa81145e00]\n",
       "class E4--><a href=\"psysml:a26c0441-e754-421d-8c32-eea1ef6cab52\" target=\"_top\" title=\"psysml:a26c0441-e754-421d-8c32-eea1ef6cab52\" xlink:actuate=\"onRequest\" xlink:href=\"psysml:a26c0441-e754-421d-8c32-eea1ef6cab52\" xlink:show=\"new\" xlink:title=\"psysml:a26c0441-e754-421d-8c32-eea1ef6cab52\" xlink:type=\"simple\"><rect fill=\"#FEFECE\" filter=\"url(#f1dumik9rb0xz2)\" height=\"76.4922\" id=\"E4\" rx=\"10\" ry=\"10\" style=\"stroke: #A80036; stroke-width: 1.5;\" width=\"112\" x=\"155\" y=\"41\"/><text fill=\"#000000\" font-family=\"sans-serif\" font-size=\"12\" font-style=\"italic\" lengthAdjust=\"spacingAndGlyphs\" textLength=\"40\" x=\"191\" y=\"57.1387\">«part»</text><text fill=\"#000000\" font-family=\"sans-serif\" font-size=\"12\" lengthAdjust=\"spacingAndGlyphs\" textLength=\"40\" x=\"191\" y=\"71.1074\">p1: P1</text><line style=\"stroke: #A80036; stroke-width: 1.5;\" x1=\"156\" x2=\"266\" y1=\"78.9375\" y2=\"78.9375\"/><path d=\"M162.9167,100.6589 L162.9167,109.8255 L163.8333,109.8255 L163.8333,100.6589 M166.5833,100.6589 L166.5833,109.8255 L173.9167,105.2422 L166.5833,100.6589 L167.5,102.0339 L172.5417,105.2422 L167.5,108.4505 L167.5,102.0339 \" fill=\"#000000\" style=\"stroke: ; stroke-width: 0.0; stroke-dasharray: ;\"/><text fill=\"#000000\" font-family=\"sans-serif\" font-size=\"11\" lengthAdjust=\"spacingAndGlyphs\" textLength=\"21\" x=\"178\" y=\"110.8979\">po1</text><text fill=\"#000000\" font-family=\"sans-serif\" font-size=\"11\" lengthAdjust=\"spacingAndGlyphs\" text-decoration=\"line-through\" textLength=\"58\" x=\"203\" y=\"110.8979\">P1::porig1</text><line style=\"stroke: #A80036; stroke-width: 1.0;\" x1=\"156\" x2=\"196\" y1=\"93.3398\" y2=\"93.3398\"/><text fill=\"#000000\" font-family=\"sans-serif\" font-size=\"11\" lengthAdjust=\"spacingAndGlyphs\" textLength=\"30\" x=\"196\" y=\"96.6479\">ports</text><line style=\"stroke: #A80036; stroke-width: 1.0;\" x1=\"226\" x2=\"266\" y1=\"93.3398\" y2=\"93.3398\"/></a><!--MD5=[60a26617385b1d2d0262a64233df1f8d]\n",
       "class E6--><a href=\"psysml:5c32a7f3-b309-4357-ac47-765b0be17034\" target=\"_top\" title=\"psysml:5c32a7f3-b309-4357-ac47-765b0be17034\" xlink:actuate=\"onRequest\" xlink:href=\"psysml:5c32a7f3-b309-4357-ac47-765b0be17034\" xlink:show=\"new\" xlink:title=\"psysml:5c32a7f3-b309-4357-ac47-765b0be17034\" xlink:type=\"simple\"><rect fill=\"#FEFECE\" filter=\"url(#f1dumik9rb0xz2)\" height=\"75.5469\" id=\"E6\" rx=\"10\" ry=\"10\" style=\"stroke: #A80036; stroke-width: 1.5;\" width=\"88\" x=\"32\" y=\"41\"/><text fill=\"#000000\" font-family=\"sans-serif\" font-size=\"12\" font-style=\"italic\" lengthAdjust=\"spacingAndGlyphs\" textLength=\"40\" x=\"56\" y=\"57.1387\">«part»</text><text fill=\"#000000\" font-family=\"sans-serif\" font-size=\"12\" lengthAdjust=\"spacingAndGlyphs\" textLength=\"40\" x=\"56\" y=\"71.1074\">p2: P1</text><line style=\"stroke: #A80036; stroke-width: 1.5;\" x1=\"33\" x2=\"119\" y1=\"78.9375\" y2=\"78.9375\"/><text fill=\"#000000\" font-family=\"sans-serif\" font-size=\"11\" lengthAdjust=\"spacingAndGlyphs\" textLength=\"32\" x=\"38\" y=\"109.9526\">pdest</text><text fill=\"#000000\" font-family=\"sans-serif\" font-size=\"11\" font-weight=\"bold\" lengthAdjust=\"spacingAndGlyphs\" textLength=\"15\" x=\"74\" y=\"109.9526\">as</text><text fill=\"#000000\" font-family=\"sans-serif\" font-size=\"11\" lengthAdjust=\"spacingAndGlyphs\" textLength=\"21\" x=\"93\" y=\"109.9526\">pd1</text><line style=\"stroke: #A80036; stroke-width: 1.0;\" x1=\"33\" x2=\"61\" y1=\"93.3398\" y2=\"93.3398\"/><text fill=\"#000000\" font-family=\"sans-serif\" font-size=\"11\" lengthAdjust=\"spacingAndGlyphs\" textLength=\"30\" x=\"61\" y=\"96.6479\">ports</text><line style=\"stroke: #A80036; stroke-width: 1.0;\" x1=\"91\" x2=\"119\" y1=\"93.3398\" y2=\"93.3398\"/></a><!--MD5=[185131fc0dcab0a4505a2ebe144e961b]\n",
       "link E4 to E2--><a href=\"psysml:743cbcb0-f678-48b7-bb90-7aa18ca2c39d\" target=\"_top\" title=\"psysml:743cbcb0-f678-48b7-bb90-7aa18ca2c39d\" xlink:actuate=\"onRequest\" xlink:href=\"psysml:743cbcb0-f678-48b7-bb90-7aa18ca2c39d\" xlink:show=\"new\" xlink:title=\"psysml:743cbcb0-f678-48b7-bb90-7aa18ca2c39d\" xlink:type=\"simple\"><path d=\"M192.34,117.33 C185.95,130.1 178.66,144.69 171.71,158.58 \" fill=\"none\" id=\"E4-&gt;E2\" style=\"stroke: #A80036; stroke-width: 1.0;\"/><polygon fill=\"#FFFFFF\" points=\"162.56,176.87,164.8089,156.7468,177.3269,163.0158,162.56,176.87\" style=\"stroke: #A80036; stroke-width: 1.0;\"/><ellipse cx=\"169.1496\" cy=\"152.5458\" fill=\"#A80036\" rx=\"2\" ry=\"2\" style=\"stroke: #A80036; stroke-width: 1.0;\"/><ellipse cx=\"178.091\" cy=\"157.0236\" fill=\"#A80036\" rx=\"2\" ry=\"2\" style=\"stroke: #A80036; stroke-width: 1.0;\"/></a><!--MD5=[2351f337d6de0f557b50152ba70847b5]\n",
       "link E6 to E2--><a href=\"psysml:a1f896e7-ae1f-4795-a4ef-b600067d493f\" target=\"_top\" title=\"psysml:a1f896e7-ae1f-4795-a4ef-b600067d493f\" xlink:actuate=\"onRequest\" xlink:href=\"psysml:a1f896e7-ae1f-4795-a4ef-b600067d493f\" xlink:show=\"new\" xlink:title=\"psysml:a1f896e7-ae1f-4795-a4ef-b600067d493f\" xlink:type=\"simple\"><path d=\"M94.94,117.33 C101.43,130.1 108.83,144.69 115.88,158.58 \" fill=\"none\" id=\"E6-&gt;E2\" style=\"stroke: #A80036; stroke-width: 1.0;\"/><polygon fill=\"#FFFFFF\" points=\"125.16,176.87,110.3137,163.101,122.7954,156.7601,125.16,176.87\" style=\"stroke: #A80036; stroke-width: 1.0;\"/><ellipse cx=\"109.5151\" cy=\"157.1133\" fill=\"#A80036\" rx=\"2\" ry=\"2\" style=\"stroke: #A80036; stroke-width: 1.0;\"/><ellipse cx=\"118.4306\" cy=\"152.5841\" fill=\"#A80036\" rx=\"2\" ry=\"2\" style=\"stroke: #A80036; stroke-width: 1.0;\"/></a><!--MD5=[fc730fa97731a5030e8a71ca9e2e1a54]\n",
       "@startuml\r\n",
       "skinparam wrapWidth 300\r\n",
       "hide circle\r\n",
       "\r\n",
       "package \"AliasTest\" as E1  [[psysml:6f25d091-f985-426b-8055-e92e3d48be4a ]]  {\r\n",
       "comp def \"P1\" as E2  <<(T,blue)part def>> [[psysml:258ca4bf-faa9-4328-8179-2aed0dfcbbf6 ]] {\r\n",
       "- - ports - -\r\n",
       "porig1 <b>as</b> po1 \r\n",
       "}\r\n",
       "comp usage \"p1: P1\" as E4  <<(T,blue)part>> [[psysml:a26c0441-e754-421d-8c32-eea1ef6cab52 ]] {\r\n",
       "- - ports - -\r\n",
       "<&bar-trig> po1 <s>P1::porig1</s>\r\n",
       "}\r\n",
       "comp usage \"p2: P1\" as E6  <<(T,blue)part>> [[psysml:5c32a7f3-b309-4357-ac47-765b0be17034 ]] {\r\n",
       "- - ports - -\r\n",
       "pdest <b>as</b> pd1 \r\n",
       "}\r\n",
       "E4 - -:|> E2 [[psysml:743cbcb0-f678-48b7-bb90-7aa18ca2c39d ]] \r\n",
       "E6 - -:|> E2 [[psysml:a1f896e7-ae1f-4795-a4ef-b600067d493f ]] \r\n",
       "}\r\n",
       "@enduml\r\n",
       "\n",
       "PlantUML version 1.2020.13(Sat Jun 13 12:26:38 UTC 2020)\n",
       "(EPL source distribution)\n",
       "Java Runtime: OpenJDK Runtime Environment\n",
       "JVM: OpenJDK 64-Bit Server VM\n",
       "Default Encoding: UTF-8\n",
       "Language: en\n",
       "Country: null\n",
       "--></g></svg>"
      ]
     },
     "execution_count": 23,
     "metadata": {},
     "output_type": "execute_result"
    }
   ],
   "source": [
    "%viz --style=\"STDCOLOR\" --view=\"Default\" \"AliasTest\""
   ]
  },
  {
   "cell_type": "code",
   "execution_count": 24,
   "id": "constitutional-stations",
   "metadata": {
    "execution": {
     "iopub.execute_input": "2021-03-26T13:00:35.144559Z",
     "iopub.status.busy": "2021-03-26T13:00:35.144034Z",
     "iopub.status.idle": "2021-03-26T13:00:35.211548Z",
     "shell.execute_reply": "2021-03-26T13:00:35.210213Z"
    }
   },
   "outputs": [
    {
     "data": {
      "image/svg+xml": [
       "<?xml version=\"1.0\" encoding=\"UTF-8\" standalone=\"no\"?><svg xmlns=\"http://www.w3.org/2000/svg\" xmlns:xlink=\"http://www.w3.org/1999/xlink\" contentScriptType=\"application/ecmascript\" contentStyleType=\"text/css\" height=\"281px\" preserveAspectRatio=\"none\" style=\"width:305px;height:281px;\" version=\"1.1\" viewBox=\"0 0 305 281\" width=\"305px\" zoomAndPan=\"magnify\"><defs><filter height=\"300%\" id=\"f1dumik9rb0xz2\" width=\"300%\" x=\"-1\" y=\"-1\"><feGaussianBlur result=\"blurOut\" stdDeviation=\"2.0\"/><feColorMatrix in=\"blurOut\" result=\"blurOut2\" type=\"matrix\" values=\"0 0 0 0 0 0 0 0 0 0 0 0 0 0 0 0 0 0 .4 0\"/><feOffset dx=\"4.0\" dy=\"4.0\" in=\"blurOut2\" result=\"blurOut3\"/><feBlend in=\"SourceGraphic\" in2=\"blurOut3\" mode=\"normal\"/></filter></defs><g><!--MD5=[fbc87193dbaf4d95561dea2c320d4a47]\n",
       "cluster E1--><a href=\"psysml:6f25d091-f985-426b-8055-e92e3d48be4a\" target=\"_top\" title=\"psysml:6f25d091-f985-426b-8055-e92e3d48be4a\" xlink:actuate=\"onRequest\" xlink:href=\"psysml:6f25d091-f985-426b-8055-e92e3d48be4a\" xlink:show=\"new\" xlink:title=\"psysml:6f25d091-f985-426b-8055-e92e3d48be4a\" xlink:type=\"simple\"><polygon fill=\"#FFFFFF\" filter=\"url(#f1dumik9rb0xz2)\" points=\"16,6,94,6,101,28.2969,283,28.2969,283,269,16,269,16,6\" style=\"stroke: #000000; stroke-width: 1.5;\"/><line style=\"stroke: #000000; stroke-width: 1.5;\" x1=\"16\" x2=\"101\" y1=\"28.2969\" y2=\"28.2969\"/><text fill=\"#000000\" font-family=\"sans-serif\" font-size=\"14\" font-weight=\"bold\" lengthAdjust=\"spacingAndGlyphs\" textLength=\"72\" x=\"20\" y=\"20.9951\">AliasTest</text></a><!--MD5=[b4997ac47864f28c2f74865a473b2911]\n",
       "class E2--><a href=\"psysml:258ca4bf-faa9-4328-8179-2aed0dfcbbf6\" target=\"_top\" title=\"psysml:258ca4bf-faa9-4328-8179-2aed0dfcbbf6\" xlink:actuate=\"onRequest\" xlink:href=\"psysml:258ca4bf-faa9-4328-8179-2aed0dfcbbf6\" xlink:show=\"new\" xlink:title=\"psysml:258ca4bf-faa9-4328-8179-2aed0dfcbbf6\" xlink:type=\"simple\"><rect fill=\"#FEFECE\" filter=\"url(#f1dumik9rb0xz2)\" height=\"75.5469\" id=\"E2\" style=\"stroke: #A80036; stroke-width: 1.5;\" width=\"92\" x=\"98\" y=\"177\"/><text fill=\"#000000\" font-family=\"sans-serif\" font-size=\"12\" font-style=\"italic\" lengthAdjust=\"spacingAndGlyphs\" textLength=\"64\" x=\"112\" y=\"193.1387\">«part def»</text><text fill=\"#000000\" font-family=\"sans-serif\" font-size=\"12\" lengthAdjust=\"spacingAndGlyphs\" textLength=\"16\" x=\"136\" y=\"207.1074\">P1</text><line style=\"stroke: #A80036; stroke-width: 1.5;\" x1=\"99\" x2=\"189\" y1=\"214.9375\" y2=\"214.9375\"/><text fill=\"#000000\" font-family=\"sans-serif\" font-size=\"11\" lengthAdjust=\"spacingAndGlyphs\" textLength=\"36\" x=\"104\" y=\"245.9526\">porig1</text><text fill=\"#000000\" font-family=\"sans-serif\" font-size=\"11\" font-weight=\"bold\" lengthAdjust=\"spacingAndGlyphs\" textLength=\"15\" x=\"144\" y=\"245.9526\">as</text><text fill=\"#000000\" font-family=\"sans-serif\" font-size=\"11\" lengthAdjust=\"spacingAndGlyphs\" textLength=\"21\" x=\"163\" y=\"245.9526\">po1</text><line style=\"stroke: #A80036; stroke-width: 1.0;\" x1=\"99\" x2=\"129\" y1=\"229.3398\" y2=\"229.3398\"/><text fill=\"#000000\" font-family=\"sans-serif\" font-size=\"11\" lengthAdjust=\"spacingAndGlyphs\" textLength=\"30\" x=\"129\" y=\"232.6479\">ports</text><line style=\"stroke: #A80036; stroke-width: 1.0;\" x1=\"159\" x2=\"189\" y1=\"229.3398\" y2=\"229.3398\"/></a><!--MD5=[ebbe1d658d1005bcc118a6aa81145e00]\n",
       "class E4--><a href=\"psysml:a26c0441-e754-421d-8c32-eea1ef6cab52\" target=\"_top\" title=\"psysml:a26c0441-e754-421d-8c32-eea1ef6cab52\" xlink:actuate=\"onRequest\" xlink:href=\"psysml:a26c0441-e754-421d-8c32-eea1ef6cab52\" xlink:show=\"new\" xlink:title=\"psysml:a26c0441-e754-421d-8c32-eea1ef6cab52\" xlink:type=\"simple\"><rect fill=\"#FEFECE\" filter=\"url(#f1dumik9rb0xz2)\" height=\"76.4922\" id=\"E4\" rx=\"10\" ry=\"10\" style=\"stroke: #A80036; stroke-width: 1.5;\" width=\"112\" x=\"155\" y=\"41\"/><text fill=\"#000000\" font-family=\"sans-serif\" font-size=\"12\" font-style=\"italic\" lengthAdjust=\"spacingAndGlyphs\" textLength=\"40\" x=\"191\" y=\"57.1387\">«part»</text><text fill=\"#000000\" font-family=\"sans-serif\" font-size=\"12\" lengthAdjust=\"spacingAndGlyphs\" textLength=\"40\" x=\"191\" y=\"71.1074\">p1: P1</text><line style=\"stroke: #A80036; stroke-width: 1.5;\" x1=\"156\" x2=\"266\" y1=\"78.9375\" y2=\"78.9375\"/><path d=\"M162.9167,100.6589 L162.9167,109.8255 L163.8333,109.8255 L163.8333,100.6589 M166.5833,100.6589 L166.5833,109.8255 L173.9167,105.2422 L166.5833,100.6589 L167.5,102.0339 L172.5417,105.2422 L167.5,108.4505 L167.5,102.0339 \" fill=\"#000000\" style=\"stroke: ; stroke-width: 0.0; stroke-dasharray: ;\"/><text fill=\"#000000\" font-family=\"sans-serif\" font-size=\"11\" lengthAdjust=\"spacingAndGlyphs\" textLength=\"21\" x=\"178\" y=\"110.8979\">po1</text><text fill=\"#000000\" font-family=\"sans-serif\" font-size=\"11\" lengthAdjust=\"spacingAndGlyphs\" text-decoration=\"line-through\" textLength=\"58\" x=\"203\" y=\"110.8979\">P1::porig1</text><line style=\"stroke: #A80036; stroke-width: 1.0;\" x1=\"156\" x2=\"196\" y1=\"93.3398\" y2=\"93.3398\"/><text fill=\"#000000\" font-family=\"sans-serif\" font-size=\"11\" lengthAdjust=\"spacingAndGlyphs\" textLength=\"30\" x=\"196\" y=\"96.6479\">ports</text><line style=\"stroke: #A80036; stroke-width: 1.0;\" x1=\"226\" x2=\"266\" y1=\"93.3398\" y2=\"93.3398\"/></a><!--MD5=[60a26617385b1d2d0262a64233df1f8d]\n",
       "class E6--><a href=\"psysml:5c32a7f3-b309-4357-ac47-765b0be17034\" target=\"_top\" title=\"psysml:5c32a7f3-b309-4357-ac47-765b0be17034\" xlink:actuate=\"onRequest\" xlink:href=\"psysml:5c32a7f3-b309-4357-ac47-765b0be17034\" xlink:show=\"new\" xlink:title=\"psysml:5c32a7f3-b309-4357-ac47-765b0be17034\" xlink:type=\"simple\"><rect fill=\"#FEFECE\" filter=\"url(#f1dumik9rb0xz2)\" height=\"75.5469\" id=\"E6\" rx=\"10\" ry=\"10\" style=\"stroke: #A80036; stroke-width: 1.5;\" width=\"88\" x=\"32\" y=\"41\"/><text fill=\"#000000\" font-family=\"sans-serif\" font-size=\"12\" font-style=\"italic\" lengthAdjust=\"spacingAndGlyphs\" textLength=\"40\" x=\"56\" y=\"57.1387\">«part»</text><text fill=\"#000000\" font-family=\"sans-serif\" font-size=\"12\" lengthAdjust=\"spacingAndGlyphs\" textLength=\"40\" x=\"56\" y=\"71.1074\">p2: P1</text><line style=\"stroke: #A80036; stroke-width: 1.5;\" x1=\"33\" x2=\"119\" y1=\"78.9375\" y2=\"78.9375\"/><text fill=\"#000000\" font-family=\"sans-serif\" font-size=\"11\" lengthAdjust=\"spacingAndGlyphs\" textLength=\"32\" x=\"38\" y=\"109.9526\">pdest</text><text fill=\"#000000\" font-family=\"sans-serif\" font-size=\"11\" font-weight=\"bold\" lengthAdjust=\"spacingAndGlyphs\" textLength=\"15\" x=\"74\" y=\"109.9526\">as</text><text fill=\"#000000\" font-family=\"sans-serif\" font-size=\"11\" lengthAdjust=\"spacingAndGlyphs\" textLength=\"21\" x=\"93\" y=\"109.9526\">pd1</text><line style=\"stroke: #A80036; stroke-width: 1.0;\" x1=\"33\" x2=\"61\" y1=\"93.3398\" y2=\"93.3398\"/><text fill=\"#000000\" font-family=\"sans-serif\" font-size=\"11\" lengthAdjust=\"spacingAndGlyphs\" textLength=\"30\" x=\"61\" y=\"96.6479\">ports</text><line style=\"stroke: #A80036; stroke-width: 1.0;\" x1=\"91\" x2=\"119\" y1=\"93.3398\" y2=\"93.3398\"/></a><!--MD5=[185131fc0dcab0a4505a2ebe144e961b]\n",
       "link E4 to E2--><a href=\"psysml:743cbcb0-f678-48b7-bb90-7aa18ca2c39d\" target=\"_top\" title=\"psysml:743cbcb0-f678-48b7-bb90-7aa18ca2c39d\" xlink:actuate=\"onRequest\" xlink:href=\"psysml:743cbcb0-f678-48b7-bb90-7aa18ca2c39d\" xlink:show=\"new\" xlink:title=\"psysml:743cbcb0-f678-48b7-bb90-7aa18ca2c39d\" xlink:type=\"simple\"><path d=\"M192.34,117.33 C185.95,130.1 178.66,144.69 171.71,158.58 \" fill=\"none\" id=\"E4-&gt;E2\" style=\"stroke: #A80036; stroke-width: 1.0;\"/><polygon fill=\"#FFFFFF\" points=\"162.56,176.87,164.8089,156.7468,177.3269,163.0158,162.56,176.87\" style=\"stroke: #A80036; stroke-width: 1.0;\"/><ellipse cx=\"169.1496\" cy=\"152.5458\" fill=\"#A80036\" rx=\"2\" ry=\"2\" style=\"stroke: #A80036; stroke-width: 1.0;\"/><ellipse cx=\"178.091\" cy=\"157.0236\" fill=\"#A80036\" rx=\"2\" ry=\"2\" style=\"stroke: #A80036; stroke-width: 1.0;\"/></a><!--MD5=[2351f337d6de0f557b50152ba70847b5]\n",
       "link E6 to E2--><a href=\"psysml:a1f896e7-ae1f-4795-a4ef-b600067d493f\" target=\"_top\" title=\"psysml:a1f896e7-ae1f-4795-a4ef-b600067d493f\" xlink:actuate=\"onRequest\" xlink:href=\"psysml:a1f896e7-ae1f-4795-a4ef-b600067d493f\" xlink:show=\"new\" xlink:title=\"psysml:a1f896e7-ae1f-4795-a4ef-b600067d493f\" xlink:type=\"simple\"><path d=\"M94.94,117.33 C101.43,130.1 108.83,144.69 115.88,158.58 \" fill=\"none\" id=\"E6-&gt;E2\" style=\"stroke: #A80036; stroke-width: 1.0;\"/><polygon fill=\"#FFFFFF\" points=\"125.16,176.87,110.3137,163.101,122.7954,156.7601,125.16,176.87\" style=\"stroke: #A80036; stroke-width: 1.0;\"/><ellipse cx=\"109.5151\" cy=\"157.1133\" fill=\"#A80036\" rx=\"2\" ry=\"2\" style=\"stroke: #A80036; stroke-width: 1.0;\"/><ellipse cx=\"118.4306\" cy=\"152.5841\" fill=\"#A80036\" rx=\"2\" ry=\"2\" style=\"stroke: #A80036; stroke-width: 1.0;\"/></a><!--MD5=[fc730fa97731a5030e8a71ca9e2e1a54]\n",
       "@startuml\r\n",
       "skinparam wrapWidth 300\r\n",
       "hide circle\r\n",
       "\r\n",
       "package \"AliasTest\" as E1  [[psysml:6f25d091-f985-426b-8055-e92e3d48be4a ]]  {\r\n",
       "comp def \"P1\" as E2  <<(T,blue)part def>> [[psysml:258ca4bf-faa9-4328-8179-2aed0dfcbbf6 ]] {\r\n",
       "- - ports - -\r\n",
       "porig1 <b>as</b> po1 \r\n",
       "}\r\n",
       "comp usage \"p1: P1\" as E4  <<(T,blue)part>> [[psysml:a26c0441-e754-421d-8c32-eea1ef6cab52 ]] {\r\n",
       "- - ports - -\r\n",
       "<&bar-trig> po1 <s>P1::porig1</s>\r\n",
       "}\r\n",
       "comp usage \"p2: P1\" as E6  <<(T,blue)part>> [[psysml:5c32a7f3-b309-4357-ac47-765b0be17034 ]] {\r\n",
       "- - ports - -\r\n",
       "pdest <b>as</b> pd1 \r\n",
       "}\r\n",
       "E4 - -:|> E2 [[psysml:743cbcb0-f678-48b7-bb90-7aa18ca2c39d ]] \r\n",
       "E6 - -:|> E2 [[psysml:a1f896e7-ae1f-4795-a4ef-b600067d493f ]] \r\n",
       "}\r\n",
       "@enduml\r\n",
       "\n",
       "PlantUML version 1.2020.13(Sat Jun 13 12:26:38 UTC 2020)\n",
       "(EPL source distribution)\n",
       "Java Runtime: OpenJDK Runtime Environment\n",
       "JVM: OpenJDK 64-Bit Server VM\n",
       "Default Encoding: UTF-8\n",
       "Language: en\n",
       "Country: null\n",
       "--></g></svg>"
      ]
     },
     "execution_count": 24,
     "metadata": {},
     "output_type": "execute_result"
    }
   ],
   "source": [
    "%viz --style=\"STDCOLOR\" --view=\"Tree\" \"AliasTest\""
   ]
  },
  {
   "cell_type": "code",
   "execution_count": 25,
   "id": "vulnerable-shift",
   "metadata": {
    "execution": {
     "iopub.execute_input": "2021-03-26T13:00:35.261200Z",
     "iopub.status.busy": "2021-03-26T13:00:35.260883Z",
     "iopub.status.idle": "2021-03-26T13:00:35.266209Z",
     "shell.execute_reply": "2021-03-26T13:00:35.265456Z"
    }
   },
   "outputs": [
    {
     "data": {
      "image/svg+xml": [
       "<?xml version=\"1.0\" encoding=\"UTF-8\" standalone=\"no\"?><svg xmlns=\"http://www.w3.org/2000/svg\" xmlns:xlink=\"http://www.w3.org/1999/xlink\" contentScriptType=\"application/ecmascript\" contentStyleType=\"text/css\" height=\"12px\" preserveAspectRatio=\"none\" style=\"width:12px;height:12px;\" version=\"1.1\" viewBox=\"0 0 12 12\" width=\"12px\" zoomAndPan=\"magnify\"><defs/><g><!--MD5=[aeeef50f102b80d730deb6443d14f702]\n",
       "@startuml\r\n",
       "skinparam wrapWidth 300\r\n",
       "hide circle\r\n",
       "\r\n",
       "@enduml\r\n",
       "\n",
       "PlantUML version 1.2020.13(Sat Jun 13 12:26:38 UTC 2020)\n",
       "(EPL source distribution)\n",
       "Java Runtime: OpenJDK Runtime Environment\n",
       "JVM: OpenJDK 64-Bit Server VM\n",
       "Default Encoding: UTF-8\n",
       "Language: en\n",
       "Country: null\n",
       "--></g></svg>"
      ]
     },
     "execution_count": 25,
     "metadata": {},
     "output_type": "execute_result"
    }
   ],
   "source": [
    "%viz --style=\"STDCOLOR\" --view=\"State\" \"AliasTest\""
   ]
  },
  {
   "cell_type": "code",
   "execution_count": 26,
   "id": "jewish-azerbaijan",
   "metadata": {
    "execution": {
     "iopub.execute_input": "2021-03-26T13:00:35.317861Z",
     "iopub.status.busy": "2021-03-26T13:00:35.317432Z",
     "iopub.status.idle": "2021-03-26T13:00:35.350352Z",
     "shell.execute_reply": "2021-03-26T13:00:35.349445Z"
    }
   },
   "outputs": [
    {
     "data": {
      "image/svg+xml": [
       "<?xml version=\"1.0\" encoding=\"UTF-8\" standalone=\"no\"?><svg xmlns=\"http://www.w3.org/2000/svg\" xmlns:xlink=\"http://www.w3.org/1999/xlink\" contentScriptType=\"application/ecmascript\" contentStyleType=\"text/css\" height=\"207px\" preserveAspectRatio=\"none\" style=\"width:406px;height:207px;\" version=\"1.1\" viewBox=\"0 0 406 207\" width=\"406px\" zoomAndPan=\"magnify\"><defs><filter height=\"300%\" id=\"f12fmkms9uoy4n\" width=\"300%\" x=\"-1\" y=\"-1\"><feGaussianBlur result=\"blurOut\" stdDeviation=\"2.0\"/><feColorMatrix in=\"blurOut\" result=\"blurOut2\" type=\"matrix\" values=\"0 0 0 0 0 0 0 0 0 0 0 0 0 0 0 0 0 0 .4 0\"/><feOffset dx=\"4.0\" dy=\"4.0\" in=\"blurOut2\" result=\"blurOut3\"/><feBlend in=\"SourceGraphic\" in2=\"blurOut3\" mode=\"normal\"/></filter></defs><g><!--MD5=[fbc87193dbaf4d95561dea2c320d4a47]\n",
       "cluster E1--><a href=\"psysml:6f25d091-f985-426b-8055-e92e3d48be4a\" target=\"_top\" title=\"psysml:6f25d091-f985-426b-8055-e92e3d48be4a\" xlink:actuate=\"onRequest\" xlink:href=\"psysml:6f25d091-f985-426b-8055-e92e3d48be4a\" xlink:show=\"new\" xlink:title=\"psysml:6f25d091-f985-426b-8055-e92e3d48be4a\" xlink:type=\"simple\"><polygon fill=\"#FFFFFF\" filter=\"url(#f12fmkms9uoy4n)\" points=\"16,6,94,6,101,28.2969,384,28.2969,384,195,16,195,16,6\" style=\"stroke: #000000; stroke-width: 1.5;\"/><line style=\"stroke: #000000; stroke-width: 1.5;\" x1=\"16\" x2=\"101\" y1=\"28.2969\" y2=\"28.2969\"/><text fill=\"#000000\" font-family=\"sans-serif\" font-size=\"14\" font-weight=\"bold\" lengthAdjust=\"spacingAndGlyphs\" textLength=\"72\" x=\"20\" y=\"20.9951\">AliasTest</text></a><!--MD5=[e4f7fae6ed58524ba242bb0b0d3be6b7]\n",
       "cluster E2--><a href=\"psysml:258ca4bf-faa9-4328-8179-2aed0dfcbbf6\" target=\"_top\" title=\"psysml:258ca4bf-faa9-4328-8179-2aed0dfcbbf6\" xlink:actuate=\"onRequest\" xlink:href=\"psysml:258ca4bf-faa9-4328-8179-2aed0dfcbbf6\" xlink:show=\"new\" xlink:title=\"psysml:258ca4bf-faa9-4328-8179-2aed0dfcbbf6\" xlink:type=\"simple\"><rect fill=\"#FFFFFF\" filter=\"url(#f12fmkms9uoy4n)\" height=\"73\" id=\"E2\" style=\"stroke: #A80036; stroke-width: 1.5;\" width=\"83\" x=\"244\" y=\"55\"/><rect fill=\"#FEFECE\" height=\"37.9375\" style=\"stroke: #A80036; stroke-width: 1.5;\" width=\"83\" x=\"244\" y=\"55\"/><text fill=\"#000000\" font-family=\"sans-serif\" font-size=\"12\" font-style=\"italic\" lengthAdjust=\"spacingAndGlyphs\" textLength=\"64\" x=\"253.5\" y=\"71.1387\">«part def»</text><text fill=\"#000000\" font-family=\"sans-serif\" font-size=\"12\" lengthAdjust=\"spacingAndGlyphs\" textLength=\"16\" x=\"277.5\" y=\"85.1074\">P1</text></a><!--MD5=[de5ec2e2e8f62f467e546659f5068c88]\n",
       "cluster E5--><a href=\"psysml:a26c0441-e754-421d-8c32-eea1ef6cab52\" target=\"_top\" title=\"psysml:a26c0441-e754-421d-8c32-eea1ef6cab52\" xlink:actuate=\"onRequest\" xlink:href=\"psysml:a26c0441-e754-421d-8c32-eea1ef6cab52\" xlink:show=\"new\" xlink:title=\"psysml:a26c0441-e754-421d-8c32-eea1ef6cab52\" xlink:type=\"simple\"><rect fill=\"#FFFFFF\" filter=\"url(#f12fmkms9uoy4n)\" height=\"84.5\" id=\"E5\" rx=\"10\" ry=\"10\" style=\"stroke: #A80036; stroke-width: 1.5;\" width=\"101\" x=\"139\" y=\"94.5\"/><rect fill=\"#FEFECE\" height=\"23.9688\" rx=\"10\" ry=\"10\" style=\"stroke: #FEFECE; stroke-width: 1.5;\" width=\"101\" x=\"139\" y=\"94.5\"/><rect fill=\"#FEFECE\" height=\"10\" style=\"stroke: #FEFECE; stroke-width: 1.5;\" width=\"101\" x=\"139\" y=\"108.4688\"/><rect fill=\"none\" height=\"84.5\" id=\"E5\" rx=\"10\" ry=\"10\" style=\"stroke: #A80036; stroke-width: 1.5;\" width=\"101\" x=\"139\" y=\"94.5\"/><text fill=\"#000000\" font-family=\"sans-serif\" font-size=\"12\" lengthAdjust=\"spacingAndGlyphs\" textLength=\"40\" x=\"169.5\" y=\"110.6387\">p1: P1</text><line style=\"stroke: #A80036; stroke-width: 1.0;\" x1=\"139\" x2=\"240\" y1=\"118.4688\" y2=\"118.4688\"/></a><!--MD5=[168fadf3d0c3fd93dd5d6da1b1d7ab76]\n",
       "cluster E7--><a href=\"psysml:5c32a7f3-b309-4357-ac47-765b0be17034\" target=\"_top\" title=\"psysml:5c32a7f3-b309-4357-ac47-765b0be17034\" xlink:actuate=\"onRequest\" xlink:href=\"psysml:5c32a7f3-b309-4357-ac47-765b0be17034\" xlink:show=\"new\" xlink:title=\"psysml:5c32a7f3-b309-4357-ac47-765b0be17034\" xlink:type=\"simple\"><rect fill=\"#FFFFFF\" filter=\"url(#f12fmkms9uoy4n)\" height=\"65\" id=\"E7\" rx=\"10\" ry=\"10\" style=\"stroke: #A80036; stroke-width: 1.5;\" width=\"83\" x=\"53\" y=\"55\"/><rect fill=\"#FEFECE\" height=\"23.9688\" rx=\"10\" ry=\"10\" style=\"stroke: #FEFECE; stroke-width: 1.5;\" width=\"83\" x=\"53\" y=\"55\"/><rect fill=\"#FEFECE\" height=\"10\" style=\"stroke: #FEFECE; stroke-width: 1.5;\" width=\"83\" x=\"53\" y=\"68.9688\"/><rect fill=\"none\" height=\"65\" id=\"E7\" rx=\"10\" ry=\"10\" style=\"stroke: #A80036; stroke-width: 1.5;\" width=\"83\" x=\"53\" y=\"55\"/><text fill=\"#000000\" font-family=\"sans-serif\" font-size=\"12\" lengthAdjust=\"spacingAndGlyphs\" textLength=\"40\" x=\"74.5\" y=\"71.1387\">p2: P1</text><line style=\"stroke: #A80036; stroke-width: 1.0;\" x1=\"53\" x2=\"136\" y1=\"78.9688\" y2=\"78.9688\"/></a><text fill=\"#000000\" font-family=\"sans-serif\" font-size=\"14\" lengthAdjust=\"spacingAndGlyphs\" textLength=\"44\" x=\"240\" y=\"33.6982\">porig1</text><rect fill=\"#A80036\" height=\"12\" style=\"stroke: #FEFECE; stroke-width: 1.5;\" width=\"12\" x=\"256\" y=\"49\"/><text fill=\"#000000\" font-family=\"sans-serif\" font-size=\"14\" lengthAdjust=\"spacingAndGlyphs\" textLength=\"44\" x=\"287\" y=\"33.6982\">porig1</text><rect fill=\"#A80036\" height=\"12\" style=\"stroke: #FEFECE; stroke-width: 1.5;\" width=\"12\" x=\"303\" y=\"49\"/><text fill=\"#000000\" font-family=\"sans-serif\" font-size=\"14\" lengthAdjust=\"spacingAndGlyphs\" textLength=\"27\" x=\"143.5\" y=\"73.1982\">po1</text><rect fill=\"#A80036\" height=\"12\" style=\"stroke: #FEFECE; stroke-width: 1.5;\" width=\"12\" x=\"151\" y=\"88.5\"/><text fill=\"#000000\" font-family=\"sans-serif\" font-size=\"14\" lengthAdjust=\"spacingAndGlyphs\" textLength=\"40\" x=\"51\" y=\"33.6982\">pdest</text><rect fill=\"#A80036\" height=\"12\" style=\"stroke: #FEFECE; stroke-width: 1.5;\" width=\"12\" x=\"65\" y=\"49\"/><text fill=\"#000000\" font-family=\"sans-serif\" font-size=\"14\" lengthAdjust=\"spacingAndGlyphs\" textLength=\"40\" x=\"98\" y=\"33.6982\">pdest</text><rect fill=\"#A80036\" height=\"12\" style=\"stroke: #FEFECE; stroke-width: 1.5;\" width=\"12\" x=\"112\" y=\"49\"/><!--MD5=[60ac2c0cde89d4308155b0484e57a8ec]\n",
       "link E9 to E6--><a href=\"psysml:df73490b-6554-48a2-b250-43b559083f0a\" target=\"_top\" title=\"psysml:df73490b-6554-48a2-b250-43b559083f0a\" xlink:actuate=\"onRequest\" xlink:href=\"psysml:df73490b-6554-48a2-b250-43b559083f0a\" xlink:show=\"new\" xlink:title=\"psysml:df73490b-6554-48a2-b250-43b559083f0a\" xlink:type=\"simple\"><path d=\"M111.75,56.49 C103.41,58.2 109.82,64.05 115,69 C124.85,78.4 136.6,90.11 150.78,92.89 \" fill=\"none\" id=\"E9-E6\" style=\"stroke: #A80036; stroke-width: 3.0;\"/></a><!--MD5=[60ac2c0cde89d4308155b0484e57a8ec]\n",
       "link E9 to E6--><a href=\"psysml:45234df1-ac0c-4024-a641-0b76867140fc\" target=\"_top\" title=\"psysml:45234df1-ac0c-4024-a641-0b76867140fc\" xlink:actuate=\"onRequest\" xlink:href=\"psysml:45234df1-ac0c-4024-a641-0b76867140fc\" xlink:show=\"new\" xlink:title=\"psysml:45234df1-ac0c-4024-a641-0b76867140fc\" xlink:type=\"simple\"><path d=\"M124.29,56.32 C137.94,57.76 144.62,63.87 150,69 C159.5,78.06 170.77,89.27 163.24,92.56 \" fill=\"none\" id=\"E9-E6-1\" style=\"stroke: #A80036; stroke-width: 3.0;\"/></a><!--MD5=[a5a8668e039726c4afcb05f4834771ed]\n",
       "@startuml\r\n",
       "skinparam ranksep 8\r\n",
       "skinparam rectangle {\r\n",
       " backgroundColor<<block>> LightGreen\r\n",
       "}\r\n",
       "skinparam wrapWidth 300\r\n",
       "hide circle\r\n",
       "\r\n",
       "package \"AliasTest\" as E1  [[psysml:6f25d091-f985-426b-8055-e92e3d48be4a ]]  {\r\n",
       "rec def \"P1\" as E2  <<(T,blue)part def>> [[psysml:258ca4bf-faa9-4328-8179-2aed0dfcbbf6 ]] {\r\n",
       "portin \"porig1\" as E3  <<(T,blue)port>> [[psysml:9209c45f-41ff-489f-bc17-bfe3af02fc93 ]] \r\n",
       "portin \"porig1\" as E4  <<(T,blue)port>> [[psysml:9209c45f-41ff-489f-bc17-bfe3af02fc93 ]] \r\n",
       "}\r\n",
       "rec usage \"p1: P1\" as E5  [[psysml:a26c0441-e754-421d-8c32-eea1ef6cab52 ]] {\r\n",
       "portin \"po1\" as E6  <<(T,blue)port>> [[psysml:aa893173-d0db-4be8-bf63-d1ddc32421c6 ]] \r\n",
       "}\r\n",
       "rec usage \"p2: P1\" as E7  [[psysml:5c32a7f3-b309-4357-ac47-765b0be17034 ]] {\r\n",
       "portin \"pdest\" as E8  <<(T,blue)port>> [[psysml:cb10c624-640d-45a1-89db-7833fbdc21f8 ]] \r\n",
       "portin \"pdest\" as E9  <<(T,blue)port>> [[psysml:cb10c624-640d-45a1-89db-7833fbdc21f8 ]] \r\n",
       "}\r\n",
       "E9 -[thickness=3]- E6 [[psysml:df73490b-6554-48a2-b250-43b559083f0a ]] \r\n",
       "E9 -[thickness=3]- E6 [[psysml:45234df1-ac0c-4024-a641-0b76867140fc ]] \r\n",
       "}\r\n",
       "@enduml\r\n",
       "\n",
       "PlantUML version 1.2020.13(Sat Jun 13 12:26:38 UTC 2020)\n",
       "(EPL source distribution)\n",
       "Java Runtime: OpenJDK Runtime Environment\n",
       "JVM: OpenJDK 64-Bit Server VM\n",
       "Default Encoding: UTF-8\n",
       "Language: en\n",
       "Country: null\n",
       "--></g></svg>"
      ]
     },
     "execution_count": 26,
     "metadata": {},
     "output_type": "execute_result"
    }
   ],
   "source": [
    "%viz --style=\"STDCOLOR\" --view=\"Interconnection\" \"AliasTest\""
   ]
  },
  {
   "cell_type": "code",
   "execution_count": 27,
   "id": "running-passport",
   "metadata": {
    "execution": {
     "iopub.execute_input": "2021-03-26T13:00:35.402548Z",
     "iopub.status.busy": "2021-03-26T13:00:35.402031Z",
     "iopub.status.idle": "2021-03-26T13:00:35.408156Z",
     "shell.execute_reply": "2021-03-26T13:00:35.408568Z"
    }
   },
   "outputs": [
    {
     "data": {
      "image/svg+xml": [
       "<?xml version=\"1.0\" encoding=\"UTF-8\" standalone=\"no\"?><svg xmlns=\"http://www.w3.org/2000/svg\" xmlns:xlink=\"http://www.w3.org/1999/xlink\" contentScriptType=\"application/ecmascript\" contentStyleType=\"text/css\" height=\"12px\" preserveAspectRatio=\"none\" style=\"width:12px;height:12px;\" version=\"1.1\" viewBox=\"0 0 12 12\" width=\"12px\" zoomAndPan=\"magnify\"><defs/><g><!--MD5=[9863325348a96a77dacc89509d8ee65e]\n",
       "@startuml\r\n",
       "skinparam ranksep 8\r\n",
       "skinparam wrapWidth 300\r\n",
       "hide circle\r\n",
       "\r\n",
       "@enduml\r\n",
       "\n",
       "PlantUML version 1.2020.13(Sat Jun 13 12:26:38 UTC 2020)\n",
       "(EPL source distribution)\n",
       "Java Runtime: OpenJDK Runtime Environment\n",
       "JVM: OpenJDK 64-Bit Server VM\n",
       "Default Encoding: UTF-8\n",
       "Language: en\n",
       "Country: null\n",
       "--></g></svg>"
      ]
     },
     "execution_count": 27,
     "metadata": {},
     "output_type": "execute_result"
    }
   ],
   "source": [
    "%viz --style=\"STDCOLOR\" --view=\"Action\" \"AliasTest\""
   ]
  },
  {
   "cell_type": "code",
   "execution_count": 28,
   "id": "driving-administration",
   "metadata": {
    "execution": {
     "iopub.execute_input": "2021-03-26T13:00:35.460534Z",
     "iopub.status.busy": "2021-03-26T13:00:35.460001Z",
     "iopub.status.idle": "2021-03-26T13:00:35.530625Z",
     "shell.execute_reply": "2021-03-26T13:00:35.530984Z"
    }
   },
   "outputs": [
    {
     "data": {
      "image/svg+xml": [
       "<?xml version=\"1.0\" encoding=\"UTF-8\" standalone=\"no\"?><svg xmlns=\"http://www.w3.org/2000/svg\" xmlns:xlink=\"http://www.w3.org/1999/xlink\" contentScriptType=\"application/ecmascript\" contentStyleType=\"text/css\" height=\"281px\" preserveAspectRatio=\"none\" style=\"width:305px;height:281px;\" version=\"1.1\" viewBox=\"0 0 305 281\" width=\"305px\" zoomAndPan=\"magnify\"><defs><filter height=\"300%\" id=\"f1dumik9rb0xz2\" width=\"300%\" x=\"-1\" y=\"-1\"><feGaussianBlur result=\"blurOut\" stdDeviation=\"2.0\"/><feColorMatrix in=\"blurOut\" result=\"blurOut2\" type=\"matrix\" values=\"0 0 0 0 0 0 0 0 0 0 0 0 0 0 0 0 0 0 .4 0\"/><feOffset dx=\"4.0\" dy=\"4.0\" in=\"blurOut2\" result=\"blurOut3\"/><feBlend in=\"SourceGraphic\" in2=\"blurOut3\" mode=\"normal\"/></filter></defs><g><!--MD5=[fbc87193dbaf4d95561dea2c320d4a47]\n",
       "cluster E1--><a href=\"psysml:6f25d091-f985-426b-8055-e92e3d48be4a\" target=\"_top\" title=\"psysml:6f25d091-f985-426b-8055-e92e3d48be4a\" xlink:actuate=\"onRequest\" xlink:href=\"psysml:6f25d091-f985-426b-8055-e92e3d48be4a\" xlink:show=\"new\" xlink:title=\"psysml:6f25d091-f985-426b-8055-e92e3d48be4a\" xlink:type=\"simple\"><polygon fill=\"#FFFFFF\" filter=\"url(#f1dumik9rb0xz2)\" points=\"16,6,94,6,101,28.2969,283,28.2969,283,269,16,269,16,6\" style=\"stroke: #000000; stroke-width: 1.5;\"/><line style=\"stroke: #000000; stroke-width: 1.5;\" x1=\"16\" x2=\"101\" y1=\"28.2969\" y2=\"28.2969\"/><text fill=\"#000000\" font-family=\"sans-serif\" font-size=\"14\" font-weight=\"bold\" lengthAdjust=\"spacingAndGlyphs\" textLength=\"72\" x=\"20\" y=\"20.9951\">AliasTest</text></a><!--MD5=[b4997ac47864f28c2f74865a473b2911]\n",
       "class E2--><a href=\"psysml:258ca4bf-faa9-4328-8179-2aed0dfcbbf6\" target=\"_top\" title=\"psysml:258ca4bf-faa9-4328-8179-2aed0dfcbbf6\" xlink:actuate=\"onRequest\" xlink:href=\"psysml:258ca4bf-faa9-4328-8179-2aed0dfcbbf6\" xlink:show=\"new\" xlink:title=\"psysml:258ca4bf-faa9-4328-8179-2aed0dfcbbf6\" xlink:type=\"simple\"><rect fill=\"#FEFECE\" filter=\"url(#f1dumik9rb0xz2)\" height=\"75.5469\" id=\"E2\" style=\"stroke: #A80036; stroke-width: 1.5;\" width=\"92\" x=\"98\" y=\"177\"/><text fill=\"#000000\" font-family=\"sans-serif\" font-size=\"12\" font-style=\"italic\" lengthAdjust=\"spacingAndGlyphs\" textLength=\"64\" x=\"112\" y=\"193.1387\">«part def»</text><text fill=\"#000000\" font-family=\"sans-serif\" font-size=\"12\" lengthAdjust=\"spacingAndGlyphs\" textLength=\"16\" x=\"136\" y=\"207.1074\">P1</text><line style=\"stroke: #A80036; stroke-width: 1.5;\" x1=\"99\" x2=\"189\" y1=\"214.9375\" y2=\"214.9375\"/><text fill=\"#000000\" font-family=\"sans-serif\" font-size=\"11\" lengthAdjust=\"spacingAndGlyphs\" textLength=\"36\" x=\"104\" y=\"245.9526\">porig1</text><text fill=\"#000000\" font-family=\"sans-serif\" font-size=\"11\" font-weight=\"bold\" lengthAdjust=\"spacingAndGlyphs\" textLength=\"15\" x=\"144\" y=\"245.9526\">as</text><text fill=\"#000000\" font-family=\"sans-serif\" font-size=\"11\" lengthAdjust=\"spacingAndGlyphs\" textLength=\"21\" x=\"163\" y=\"245.9526\">po1</text><line style=\"stroke: #A80036; stroke-width: 1.0;\" x1=\"99\" x2=\"129\" y1=\"229.3398\" y2=\"229.3398\"/><text fill=\"#000000\" font-family=\"sans-serif\" font-size=\"11\" lengthAdjust=\"spacingAndGlyphs\" textLength=\"30\" x=\"129\" y=\"232.6479\">ports</text><line style=\"stroke: #A80036; stroke-width: 1.0;\" x1=\"159\" x2=\"189\" y1=\"229.3398\" y2=\"229.3398\"/></a><!--MD5=[ebbe1d658d1005bcc118a6aa81145e00]\n",
       "class E4--><a href=\"psysml:a26c0441-e754-421d-8c32-eea1ef6cab52\" target=\"_top\" title=\"psysml:a26c0441-e754-421d-8c32-eea1ef6cab52\" xlink:actuate=\"onRequest\" xlink:href=\"psysml:a26c0441-e754-421d-8c32-eea1ef6cab52\" xlink:show=\"new\" xlink:title=\"psysml:a26c0441-e754-421d-8c32-eea1ef6cab52\" xlink:type=\"simple\"><rect fill=\"#FEFECE\" filter=\"url(#f1dumik9rb0xz2)\" height=\"76.4922\" id=\"E4\" rx=\"10\" ry=\"10\" style=\"stroke: #A80036; stroke-width: 1.5;\" width=\"112\" x=\"155\" y=\"41\"/><text fill=\"#000000\" font-family=\"sans-serif\" font-size=\"12\" font-style=\"italic\" lengthAdjust=\"spacingAndGlyphs\" textLength=\"40\" x=\"191\" y=\"57.1387\">«part»</text><text fill=\"#000000\" font-family=\"sans-serif\" font-size=\"12\" lengthAdjust=\"spacingAndGlyphs\" textLength=\"40\" x=\"191\" y=\"71.1074\">p1: P1</text><line style=\"stroke: #A80036; stroke-width: 1.5;\" x1=\"156\" x2=\"266\" y1=\"78.9375\" y2=\"78.9375\"/><path d=\"M162.9167,100.6589 L162.9167,109.8255 L163.8333,109.8255 L163.8333,100.6589 M166.5833,100.6589 L166.5833,109.8255 L173.9167,105.2422 L166.5833,100.6589 L167.5,102.0339 L172.5417,105.2422 L167.5,108.4505 L167.5,102.0339 \" fill=\"#000000\" style=\"stroke: ; stroke-width: 0.0; stroke-dasharray: ;\"/><text fill=\"#000000\" font-family=\"sans-serif\" font-size=\"11\" lengthAdjust=\"spacingAndGlyphs\" textLength=\"21\" x=\"178\" y=\"110.8979\">po1</text><text fill=\"#000000\" font-family=\"sans-serif\" font-size=\"11\" lengthAdjust=\"spacingAndGlyphs\" text-decoration=\"line-through\" textLength=\"58\" x=\"203\" y=\"110.8979\">P1::porig1</text><line style=\"stroke: #A80036; stroke-width: 1.0;\" x1=\"156\" x2=\"196\" y1=\"93.3398\" y2=\"93.3398\"/><text fill=\"#000000\" font-family=\"sans-serif\" font-size=\"11\" lengthAdjust=\"spacingAndGlyphs\" textLength=\"30\" x=\"196\" y=\"96.6479\">ports</text><line style=\"stroke: #A80036; stroke-width: 1.0;\" x1=\"226\" x2=\"266\" y1=\"93.3398\" y2=\"93.3398\"/></a><!--MD5=[60a26617385b1d2d0262a64233df1f8d]\n",
       "class E6--><a href=\"psysml:5c32a7f3-b309-4357-ac47-765b0be17034\" target=\"_top\" title=\"psysml:5c32a7f3-b309-4357-ac47-765b0be17034\" xlink:actuate=\"onRequest\" xlink:href=\"psysml:5c32a7f3-b309-4357-ac47-765b0be17034\" xlink:show=\"new\" xlink:title=\"psysml:5c32a7f3-b309-4357-ac47-765b0be17034\" xlink:type=\"simple\"><rect fill=\"#FEFECE\" filter=\"url(#f1dumik9rb0xz2)\" height=\"75.5469\" id=\"E6\" rx=\"10\" ry=\"10\" style=\"stroke: #A80036; stroke-width: 1.5;\" width=\"88\" x=\"32\" y=\"41\"/><text fill=\"#000000\" font-family=\"sans-serif\" font-size=\"12\" font-style=\"italic\" lengthAdjust=\"spacingAndGlyphs\" textLength=\"40\" x=\"56\" y=\"57.1387\">«part»</text><text fill=\"#000000\" font-family=\"sans-serif\" font-size=\"12\" lengthAdjust=\"spacingAndGlyphs\" textLength=\"40\" x=\"56\" y=\"71.1074\">p2: P1</text><line style=\"stroke: #A80036; stroke-width: 1.5;\" x1=\"33\" x2=\"119\" y1=\"78.9375\" y2=\"78.9375\"/><text fill=\"#000000\" font-family=\"sans-serif\" font-size=\"11\" lengthAdjust=\"spacingAndGlyphs\" textLength=\"32\" x=\"38\" y=\"109.9526\">pdest</text><text fill=\"#000000\" font-family=\"sans-serif\" font-size=\"11\" font-weight=\"bold\" lengthAdjust=\"spacingAndGlyphs\" textLength=\"15\" x=\"74\" y=\"109.9526\">as</text><text fill=\"#000000\" font-family=\"sans-serif\" font-size=\"11\" lengthAdjust=\"spacingAndGlyphs\" textLength=\"21\" x=\"93\" y=\"109.9526\">pd1</text><line style=\"stroke: #A80036; stroke-width: 1.0;\" x1=\"33\" x2=\"61\" y1=\"93.3398\" y2=\"93.3398\"/><text fill=\"#000000\" font-family=\"sans-serif\" font-size=\"11\" lengthAdjust=\"spacingAndGlyphs\" textLength=\"30\" x=\"61\" y=\"96.6479\">ports</text><line style=\"stroke: #A80036; stroke-width: 1.0;\" x1=\"91\" x2=\"119\" y1=\"93.3398\" y2=\"93.3398\"/></a><!--MD5=[185131fc0dcab0a4505a2ebe144e961b]\n",
       "link E4 to E2--><a href=\"psysml:743cbcb0-f678-48b7-bb90-7aa18ca2c39d\" target=\"_top\" title=\"psysml:743cbcb0-f678-48b7-bb90-7aa18ca2c39d\" xlink:actuate=\"onRequest\" xlink:href=\"psysml:743cbcb0-f678-48b7-bb90-7aa18ca2c39d\" xlink:show=\"new\" xlink:title=\"psysml:743cbcb0-f678-48b7-bb90-7aa18ca2c39d\" xlink:type=\"simple\"><path d=\"M192.34,117.33 C185.95,130.1 178.66,144.69 171.71,158.58 \" fill=\"none\" id=\"E4-&gt;E2\" style=\"stroke: #A80036; stroke-width: 1.0;\"/><polygon fill=\"#FFFFFF\" points=\"162.56,176.87,164.8089,156.7468,177.3269,163.0158,162.56,176.87\" style=\"stroke: #A80036; stroke-width: 1.0;\"/><ellipse cx=\"169.1496\" cy=\"152.5458\" fill=\"#A80036\" rx=\"2\" ry=\"2\" style=\"stroke: #A80036; stroke-width: 1.0;\"/><ellipse cx=\"178.091\" cy=\"157.0236\" fill=\"#A80036\" rx=\"2\" ry=\"2\" style=\"stroke: #A80036; stroke-width: 1.0;\"/></a><!--MD5=[2351f337d6de0f557b50152ba70847b5]\n",
       "link E6 to E2--><a href=\"psysml:a1f896e7-ae1f-4795-a4ef-b600067d493f\" target=\"_top\" title=\"psysml:a1f896e7-ae1f-4795-a4ef-b600067d493f\" xlink:actuate=\"onRequest\" xlink:href=\"psysml:a1f896e7-ae1f-4795-a4ef-b600067d493f\" xlink:show=\"new\" xlink:title=\"psysml:a1f896e7-ae1f-4795-a4ef-b600067d493f\" xlink:type=\"simple\"><path d=\"M94.94,117.33 C101.43,130.1 108.83,144.69 115.88,158.58 \" fill=\"none\" id=\"E6-&gt;E2\" style=\"stroke: #A80036; stroke-width: 1.0;\"/><polygon fill=\"#FFFFFF\" points=\"125.16,176.87,110.3137,163.101,122.7954,156.7601,125.16,176.87\" style=\"stroke: #A80036; stroke-width: 1.0;\"/><ellipse cx=\"109.5151\" cy=\"157.1133\" fill=\"#A80036\" rx=\"2\" ry=\"2\" style=\"stroke: #A80036; stroke-width: 1.0;\"/><ellipse cx=\"118.4306\" cy=\"152.5841\" fill=\"#A80036\" rx=\"2\" ry=\"2\" style=\"stroke: #A80036; stroke-width: 1.0;\"/></a><!--MD5=[fc730fa97731a5030e8a71ca9e2e1a54]\n",
       "@startuml\r\n",
       "skinparam wrapWidth 300\r\n",
       "hide circle\r\n",
       "\r\n",
       "package \"AliasTest\" as E1  [[psysml:6f25d091-f985-426b-8055-e92e3d48be4a ]]  {\r\n",
       "comp def \"P1\" as E2  <<(T,blue)part def>> [[psysml:258ca4bf-faa9-4328-8179-2aed0dfcbbf6 ]] {\r\n",
       "- - ports - -\r\n",
       "porig1 <b>as</b> po1 \r\n",
       "}\r\n",
       "comp usage \"p1: P1\" as E4  <<(T,blue)part>> [[psysml:a26c0441-e754-421d-8c32-eea1ef6cab52 ]] {\r\n",
       "- - ports - -\r\n",
       "<&bar-trig> po1 <s>P1::porig1</s>\r\n",
       "}\r\n",
       "comp usage \"p2: P1\" as E6  <<(T,blue)part>> [[psysml:5c32a7f3-b309-4357-ac47-765b0be17034 ]] {\r\n",
       "- - ports - -\r\n",
       "pdest <b>as</b> pd1 \r\n",
       "}\r\n",
       "E4 - -:|> E2 [[psysml:743cbcb0-f678-48b7-bb90-7aa18ca2c39d ]] \r\n",
       "E6 - -:|> E2 [[psysml:a1f896e7-ae1f-4795-a4ef-b600067d493f ]] \r\n",
       "}\r\n",
       "@enduml\r\n",
       "\n",
       "PlantUML version 1.2020.13(Sat Jun 13 12:26:38 UTC 2020)\n",
       "(EPL source distribution)\n",
       "Java Runtime: OpenJDK Runtime Environment\n",
       "JVM: OpenJDK 64-Bit Server VM\n",
       "Default Encoding: UTF-8\n",
       "Language: en\n",
       "Country: null\n",
       "--></g></svg>"
      ]
     },
     "execution_count": 28,
     "metadata": {},
     "output_type": "execute_result"
    }
   ],
   "source": [
    "%viz --style=\"STDCOLOR\" --view=\"Sequence\" \"AliasTest\""
   ]
  },
  {
   "cell_type": "code",
   "execution_count": 29,
   "id": "funded-biography",
   "metadata": {
    "execution": {
     "iopub.execute_input": "2021-03-26T13:00:35.583885Z",
     "iopub.status.busy": "2021-03-26T13:00:35.583270Z",
     "iopub.status.idle": "2021-03-26T13:00:35.650841Z",
     "shell.execute_reply": "2021-03-26T13:00:35.649564Z"
    }
   },
   "outputs": [
    {
     "data": {
      "image/svg+xml": [
       "<?xml version=\"1.0\" encoding=\"UTF-8\" standalone=\"no\"?><svg xmlns=\"http://www.w3.org/2000/svg\" xmlns:xlink=\"http://www.w3.org/1999/xlink\" contentScriptType=\"application/ecmascript\" contentStyleType=\"text/css\" height=\"281px\" preserveAspectRatio=\"none\" style=\"width:305px;height:281px;\" version=\"1.1\" viewBox=\"0 0 305 281\" width=\"305px\" zoomAndPan=\"magnify\"><defs><filter height=\"300%\" id=\"f1dumik9rb0xz2\" width=\"300%\" x=\"-1\" y=\"-1\"><feGaussianBlur result=\"blurOut\" stdDeviation=\"2.0\"/><feColorMatrix in=\"blurOut\" result=\"blurOut2\" type=\"matrix\" values=\"0 0 0 0 0 0 0 0 0 0 0 0 0 0 0 0 0 0 .4 0\"/><feOffset dx=\"4.0\" dy=\"4.0\" in=\"blurOut2\" result=\"blurOut3\"/><feBlend in=\"SourceGraphic\" in2=\"blurOut3\" mode=\"normal\"/></filter></defs><g><!--MD5=[fbc87193dbaf4d95561dea2c320d4a47]\n",
       "cluster E1--><a href=\"psysml:6f25d091-f985-426b-8055-e92e3d48be4a\" target=\"_top\" title=\"psysml:6f25d091-f985-426b-8055-e92e3d48be4a\" xlink:actuate=\"onRequest\" xlink:href=\"psysml:6f25d091-f985-426b-8055-e92e3d48be4a\" xlink:show=\"new\" xlink:title=\"psysml:6f25d091-f985-426b-8055-e92e3d48be4a\" xlink:type=\"simple\"><polygon fill=\"#FFFFFF\" filter=\"url(#f1dumik9rb0xz2)\" points=\"16,6,94,6,101,28.2969,283,28.2969,283,269,16,269,16,6\" style=\"stroke: #000000; stroke-width: 1.5;\"/><line style=\"stroke: #000000; stroke-width: 1.5;\" x1=\"16\" x2=\"101\" y1=\"28.2969\" y2=\"28.2969\"/><text fill=\"#000000\" font-family=\"sans-serif\" font-size=\"14\" font-weight=\"bold\" lengthAdjust=\"spacingAndGlyphs\" textLength=\"72\" x=\"20\" y=\"20.9951\">AliasTest</text></a><!--MD5=[b4997ac47864f28c2f74865a473b2911]\n",
       "class E2--><a href=\"psysml:258ca4bf-faa9-4328-8179-2aed0dfcbbf6\" target=\"_top\" title=\"psysml:258ca4bf-faa9-4328-8179-2aed0dfcbbf6\" xlink:actuate=\"onRequest\" xlink:href=\"psysml:258ca4bf-faa9-4328-8179-2aed0dfcbbf6\" xlink:show=\"new\" xlink:title=\"psysml:258ca4bf-faa9-4328-8179-2aed0dfcbbf6\" xlink:type=\"simple\"><rect fill=\"#FEFECE\" filter=\"url(#f1dumik9rb0xz2)\" height=\"75.5469\" id=\"E2\" style=\"stroke: #A80036; stroke-width: 1.5;\" width=\"92\" x=\"98\" y=\"177\"/><text fill=\"#000000\" font-family=\"sans-serif\" font-size=\"12\" font-style=\"italic\" lengthAdjust=\"spacingAndGlyphs\" textLength=\"64\" x=\"112\" y=\"193.1387\">«part def»</text><text fill=\"#000000\" font-family=\"sans-serif\" font-size=\"12\" lengthAdjust=\"spacingAndGlyphs\" textLength=\"16\" x=\"136\" y=\"207.1074\">P1</text><line style=\"stroke: #A80036; stroke-width: 1.5;\" x1=\"99\" x2=\"189\" y1=\"214.9375\" y2=\"214.9375\"/><text fill=\"#000000\" font-family=\"sans-serif\" font-size=\"11\" lengthAdjust=\"spacingAndGlyphs\" textLength=\"36\" x=\"104\" y=\"245.9526\">porig1</text><text fill=\"#000000\" font-family=\"sans-serif\" font-size=\"11\" font-weight=\"bold\" lengthAdjust=\"spacingAndGlyphs\" textLength=\"15\" x=\"144\" y=\"245.9526\">as</text><text fill=\"#000000\" font-family=\"sans-serif\" font-size=\"11\" lengthAdjust=\"spacingAndGlyphs\" textLength=\"21\" x=\"163\" y=\"245.9526\">po1</text><line style=\"stroke: #A80036; stroke-width: 1.0;\" x1=\"99\" x2=\"129\" y1=\"229.3398\" y2=\"229.3398\"/><text fill=\"#000000\" font-family=\"sans-serif\" font-size=\"11\" lengthAdjust=\"spacingAndGlyphs\" textLength=\"30\" x=\"129\" y=\"232.6479\">ports</text><line style=\"stroke: #A80036; stroke-width: 1.0;\" x1=\"159\" x2=\"189\" y1=\"229.3398\" y2=\"229.3398\"/></a><!--MD5=[ebbe1d658d1005bcc118a6aa81145e00]\n",
       "class E4--><a href=\"psysml:a26c0441-e754-421d-8c32-eea1ef6cab52\" target=\"_top\" title=\"psysml:a26c0441-e754-421d-8c32-eea1ef6cab52\" xlink:actuate=\"onRequest\" xlink:href=\"psysml:a26c0441-e754-421d-8c32-eea1ef6cab52\" xlink:show=\"new\" xlink:title=\"psysml:a26c0441-e754-421d-8c32-eea1ef6cab52\" xlink:type=\"simple\"><rect fill=\"#FEFECE\" filter=\"url(#f1dumik9rb0xz2)\" height=\"76.4922\" id=\"E4\" rx=\"10\" ry=\"10\" style=\"stroke: #A80036; stroke-width: 1.5;\" width=\"112\" x=\"155\" y=\"41\"/><text fill=\"#000000\" font-family=\"sans-serif\" font-size=\"12\" font-style=\"italic\" lengthAdjust=\"spacingAndGlyphs\" textLength=\"40\" x=\"191\" y=\"57.1387\">«part»</text><text fill=\"#000000\" font-family=\"sans-serif\" font-size=\"12\" lengthAdjust=\"spacingAndGlyphs\" textLength=\"40\" x=\"191\" y=\"71.1074\">p1: P1</text><line style=\"stroke: #A80036; stroke-width: 1.5;\" x1=\"156\" x2=\"266\" y1=\"78.9375\" y2=\"78.9375\"/><path d=\"M162.9167,100.6589 L162.9167,109.8255 L163.8333,109.8255 L163.8333,100.6589 M166.5833,100.6589 L166.5833,109.8255 L173.9167,105.2422 L166.5833,100.6589 L167.5,102.0339 L172.5417,105.2422 L167.5,108.4505 L167.5,102.0339 \" fill=\"#000000\" style=\"stroke: ; stroke-width: 0.0; stroke-dasharray: ;\"/><text fill=\"#000000\" font-family=\"sans-serif\" font-size=\"11\" lengthAdjust=\"spacingAndGlyphs\" textLength=\"21\" x=\"178\" y=\"110.8979\">po1</text><text fill=\"#000000\" font-family=\"sans-serif\" font-size=\"11\" lengthAdjust=\"spacingAndGlyphs\" text-decoration=\"line-through\" textLength=\"58\" x=\"203\" y=\"110.8979\">P1::porig1</text><line style=\"stroke: #A80036; stroke-width: 1.0;\" x1=\"156\" x2=\"196\" y1=\"93.3398\" y2=\"93.3398\"/><text fill=\"#000000\" font-family=\"sans-serif\" font-size=\"11\" lengthAdjust=\"spacingAndGlyphs\" textLength=\"30\" x=\"196\" y=\"96.6479\">ports</text><line style=\"stroke: #A80036; stroke-width: 1.0;\" x1=\"226\" x2=\"266\" y1=\"93.3398\" y2=\"93.3398\"/></a><!--MD5=[60a26617385b1d2d0262a64233df1f8d]\n",
       "class E6--><a href=\"psysml:5c32a7f3-b309-4357-ac47-765b0be17034\" target=\"_top\" title=\"psysml:5c32a7f3-b309-4357-ac47-765b0be17034\" xlink:actuate=\"onRequest\" xlink:href=\"psysml:5c32a7f3-b309-4357-ac47-765b0be17034\" xlink:show=\"new\" xlink:title=\"psysml:5c32a7f3-b309-4357-ac47-765b0be17034\" xlink:type=\"simple\"><rect fill=\"#FEFECE\" filter=\"url(#f1dumik9rb0xz2)\" height=\"75.5469\" id=\"E6\" rx=\"10\" ry=\"10\" style=\"stroke: #A80036; stroke-width: 1.5;\" width=\"88\" x=\"32\" y=\"41\"/><text fill=\"#000000\" font-family=\"sans-serif\" font-size=\"12\" font-style=\"italic\" lengthAdjust=\"spacingAndGlyphs\" textLength=\"40\" x=\"56\" y=\"57.1387\">«part»</text><text fill=\"#000000\" font-family=\"sans-serif\" font-size=\"12\" lengthAdjust=\"spacingAndGlyphs\" textLength=\"40\" x=\"56\" y=\"71.1074\">p2: P1</text><line style=\"stroke: #A80036; stroke-width: 1.5;\" x1=\"33\" x2=\"119\" y1=\"78.9375\" y2=\"78.9375\"/><text fill=\"#000000\" font-family=\"sans-serif\" font-size=\"11\" lengthAdjust=\"spacingAndGlyphs\" textLength=\"32\" x=\"38\" y=\"109.9526\">pdest</text><text fill=\"#000000\" font-family=\"sans-serif\" font-size=\"11\" font-weight=\"bold\" lengthAdjust=\"spacingAndGlyphs\" textLength=\"15\" x=\"74\" y=\"109.9526\">as</text><text fill=\"#000000\" font-family=\"sans-serif\" font-size=\"11\" lengthAdjust=\"spacingAndGlyphs\" textLength=\"21\" x=\"93\" y=\"109.9526\">pd1</text><line style=\"stroke: #A80036; stroke-width: 1.0;\" x1=\"33\" x2=\"61\" y1=\"93.3398\" y2=\"93.3398\"/><text fill=\"#000000\" font-family=\"sans-serif\" font-size=\"11\" lengthAdjust=\"spacingAndGlyphs\" textLength=\"30\" x=\"61\" y=\"96.6479\">ports</text><line style=\"stroke: #A80036; stroke-width: 1.0;\" x1=\"91\" x2=\"119\" y1=\"93.3398\" y2=\"93.3398\"/></a><!--MD5=[185131fc0dcab0a4505a2ebe144e961b]\n",
       "link E4 to E2--><a href=\"psysml:743cbcb0-f678-48b7-bb90-7aa18ca2c39d\" target=\"_top\" title=\"psysml:743cbcb0-f678-48b7-bb90-7aa18ca2c39d\" xlink:actuate=\"onRequest\" xlink:href=\"psysml:743cbcb0-f678-48b7-bb90-7aa18ca2c39d\" xlink:show=\"new\" xlink:title=\"psysml:743cbcb0-f678-48b7-bb90-7aa18ca2c39d\" xlink:type=\"simple\"><path d=\"M192.34,117.33 C185.95,130.1 178.66,144.69 171.71,158.58 \" fill=\"none\" id=\"E4-&gt;E2\" style=\"stroke: #A80036; stroke-width: 1.0;\"/><polygon fill=\"#FFFFFF\" points=\"162.56,176.87,164.8089,156.7468,177.3269,163.0158,162.56,176.87\" style=\"stroke: #A80036; stroke-width: 1.0;\"/><ellipse cx=\"169.1496\" cy=\"152.5458\" fill=\"#A80036\" rx=\"2\" ry=\"2\" style=\"stroke: #A80036; stroke-width: 1.0;\"/><ellipse cx=\"178.091\" cy=\"157.0236\" fill=\"#A80036\" rx=\"2\" ry=\"2\" style=\"stroke: #A80036; stroke-width: 1.0;\"/></a><!--MD5=[2351f337d6de0f557b50152ba70847b5]\n",
       "link E6 to E2--><a href=\"psysml:a1f896e7-ae1f-4795-a4ef-b600067d493f\" target=\"_top\" title=\"psysml:a1f896e7-ae1f-4795-a4ef-b600067d493f\" xlink:actuate=\"onRequest\" xlink:href=\"psysml:a1f896e7-ae1f-4795-a4ef-b600067d493f\" xlink:show=\"new\" xlink:title=\"psysml:a1f896e7-ae1f-4795-a4ef-b600067d493f\" xlink:type=\"simple\"><path d=\"M94.94,117.33 C101.43,130.1 108.83,144.69 115.88,158.58 \" fill=\"none\" id=\"E6-&gt;E2\" style=\"stroke: #A80036; stroke-width: 1.0;\"/><polygon fill=\"#FFFFFF\" points=\"125.16,176.87,110.3137,163.101,122.7954,156.7601,125.16,176.87\" style=\"stroke: #A80036; stroke-width: 1.0;\"/><ellipse cx=\"109.5151\" cy=\"157.1133\" fill=\"#A80036\" rx=\"2\" ry=\"2\" style=\"stroke: #A80036; stroke-width: 1.0;\"/><ellipse cx=\"118.4306\" cy=\"152.5841\" fill=\"#A80036\" rx=\"2\" ry=\"2\" style=\"stroke: #A80036; stroke-width: 1.0;\"/></a><!--MD5=[fc730fa97731a5030e8a71ca9e2e1a54]\n",
       "@startuml\r\n",
       "skinparam wrapWidth 300\r\n",
       "hide circle\r\n",
       "\r\n",
       "package \"AliasTest\" as E1  [[psysml:6f25d091-f985-426b-8055-e92e3d48be4a ]]  {\r\n",
       "comp def \"P1\" as E2  <<(T,blue)part def>> [[psysml:258ca4bf-faa9-4328-8179-2aed0dfcbbf6 ]] {\r\n",
       "- - ports - -\r\n",
       "porig1 <b>as</b> po1 \r\n",
       "}\r\n",
       "comp usage \"p1: P1\" as E4  <<(T,blue)part>> [[psysml:a26c0441-e754-421d-8c32-eea1ef6cab52 ]] {\r\n",
       "- - ports - -\r\n",
       "<&bar-trig> po1 <s>P1::porig1</s>\r\n",
       "}\r\n",
       "comp usage \"p2: P1\" as E6  <<(T,blue)part>> [[psysml:5c32a7f3-b309-4357-ac47-765b0be17034 ]] {\r\n",
       "- - ports - -\r\n",
       "pdest <b>as</b> pd1 \r\n",
       "}\r\n",
       "E4 - -:|> E2 [[psysml:743cbcb0-f678-48b7-bb90-7aa18ca2c39d ]] \r\n",
       "E6 - -:|> E2 [[psysml:a1f896e7-ae1f-4795-a4ef-b600067d493f ]] \r\n",
       "}\r\n",
       "@enduml\r\n",
       "\n",
       "PlantUML version 1.2020.13(Sat Jun 13 12:26:38 UTC 2020)\n",
       "(EPL source distribution)\n",
       "Java Runtime: OpenJDK Runtime Environment\n",
       "JVM: OpenJDK 64-Bit Server VM\n",
       "Default Encoding: UTF-8\n",
       "Language: en\n",
       "Country: null\n",
       "--></g></svg>"
      ]
     },
     "execution_count": 29,
     "metadata": {},
     "output_type": "execute_result"
    }
   ],
   "source": [
    "%viz --style=\"STDCOLOR\" --view=\"MIXED\" \"AliasTest\""
   ]
  },
  {
   "cell_type": "code",
   "execution_count": 30,
   "id": "fundamental-concrete",
   "metadata": {
    "execution": {
     "iopub.execute_input": "2021-03-26T13:00:35.700616Z",
     "iopub.status.busy": "2021-03-26T13:00:35.700160Z",
     "iopub.status.idle": "2021-03-26T13:00:35.774556Z",
     "shell.execute_reply": "2021-03-26T13:00:35.773320Z"
    }
   },
   "outputs": [
    {
     "data": {
      "image/svg+xml": [
       "<?xml version=\"1.0\" encoding=\"UTF-8\" standalone=\"no\"?><svg xmlns=\"http://www.w3.org/2000/svg\" xmlns:xlink=\"http://www.w3.org/1999/xlink\" contentScriptType=\"application/ecmascript\" contentStyleType=\"text/css\" height=\"287px\" preserveAspectRatio=\"none\" style=\"width:285px;height:287px;\" version=\"1.1\" viewBox=\"0 0 285 287\" width=\"285px\" zoomAndPan=\"magnify\"><defs><filter height=\"300%\" id=\"f1pvxdkfttatop\" width=\"300%\" x=\"-1\" y=\"-1\"><feGaussianBlur result=\"blurOut\" stdDeviation=\"2.0\"/><feColorMatrix in=\"blurOut\" result=\"blurOut2\" type=\"matrix\" values=\"0 0 0 0 0 0 0 0 0 0 0 0 0 0 0 0 0 0 .4 0\"/><feOffset dx=\"4.0\" dy=\"4.0\" in=\"blurOut2\" result=\"blurOut3\"/><feBlend in=\"SourceGraphic\" in2=\"blurOut3\" mode=\"normal\"/></filter></defs><g><!--MD5=[fbc87193dbaf4d95561dea2c320d4a47]\n",
       "cluster E1--><a href=\"psysml:6f25d091-f985-426b-8055-e92e3d48be4a\" target=\"_top\" title=\"psysml:6f25d091-f985-426b-8055-e92e3d48be4a\" xlink:actuate=\"onRequest\" xlink:href=\"psysml:6f25d091-f985-426b-8055-e92e3d48be4a\" xlink:show=\"new\" xlink:title=\"psysml:6f25d091-f985-426b-8055-e92e3d48be4a\" xlink:type=\"simple\"><polygon fill=\"#FFFFFF\" filter=\"url(#f1pvxdkfttatop)\" points=\"16,6,94,6,101,28.2969,263,28.2969,263,275,16,275,16,6\" style=\"stroke: #000000; stroke-width: 1.5;\"/><line style=\"stroke: #000000; stroke-width: 1.5;\" x1=\"16\" x2=\"101\" y1=\"28.2969\" y2=\"28.2969\"/><text fill=\"#000000\" font-family=\"sans-serif\" font-size=\"14\" font-weight=\"bold\" lengthAdjust=\"spacingAndGlyphs\" textLength=\"72\" x=\"20\" y=\"20.9951\">AliasTest</text></a><!--MD5=[b4997ac47864f28c2f74865a473b2911]\n",
       "class E2--><a href=\"psysml:258ca4bf-faa9-4328-8179-2aed0dfcbbf6\" target=\"_top\" title=\"psysml:258ca4bf-faa9-4328-8179-2aed0dfcbbf6\" xlink:actuate=\"onRequest\" xlink:href=\"psysml:258ca4bf-faa9-4328-8179-2aed0dfcbbf6\" xlink:show=\"new\" xlink:title=\"psysml:258ca4bf-faa9-4328-8179-2aed0dfcbbf6\" xlink:type=\"simple\"><rect fill=\"#FEFECE\" filter=\"url(#f1pvxdkfttatop)\" height=\"69.6094\" id=\"E2\" style=\"stroke: #A80036; stroke-width: 1.5;\" width=\"92\" x=\"93\" y=\"189\"/><ellipse cx=\"127.8\" cy=\"205\" fill=\"#008000\" rx=\"11\" ry=\"11\" style=\"stroke: #A80036; stroke-width: 1.0;\"/><path d=\"M126.7063,205.375 L126.7063,209.0469 L128.3313,209.0469 Q129.5031,209.0469 129.9719,208.6563 Q130.4406,208.25 130.4406,207.25 Q130.4406,206.25 129.9406,205.8125 Q129.4563,205.375 128.3313,205.375 L126.7063,205.375 Z M126.7063,200.5469 L126.7063,203.4219 L128.3313,203.4219 Q129.2531,203.4219 129.6438,203.0938 Q130.05,202.75 130.05,202 Q130.05,201.2344 129.6438,200.8906 Q129.2375,200.5469 128.3313,200.5469 L126.7063,200.5469 Z M124.3313,198.5938 L128.3313,198.5938 Q130.3938,198.5938 131.4406,199.375 Q132.4875,200.1563 132.4875,201.7188 Q132.4875,202.9219 131.8625,203.5938 Q131.2531,204.2656 130.0656,204.375 Q131.4875,204.5156 132.2063,205.3281 Q132.925,206.1406 132.925,207.5938 Q132.925,209.3906 131.8469,210.2031 Q130.7688,211 128.3313,211 L124.3313,211 L124.3313,198.5938 Z \"/><text fill=\"#000000\" font-family=\"sans-serif\" font-size=\"12\" lengthAdjust=\"spacingAndGlyphs\" textLength=\"16\" x=\"146.2\" y=\"209.1543\">P1</text><line style=\"stroke: #A80036; stroke-width: 1.5;\" x1=\"94\" x2=\"184\" y1=\"221\" y2=\"221\"/><text fill=\"#000000\" font-family=\"sans-serif\" font-size=\"11\" lengthAdjust=\"spacingAndGlyphs\" textLength=\"36\" x=\"99\" y=\"252.0151\">porig1</text><text fill=\"#000000\" font-family=\"sans-serif\" font-size=\"11\" font-weight=\"bold\" lengthAdjust=\"spacingAndGlyphs\" textLength=\"15\" x=\"139\" y=\"252.0151\">as</text><text fill=\"#000000\" font-family=\"sans-serif\" font-size=\"11\" lengthAdjust=\"spacingAndGlyphs\" textLength=\"21\" x=\"158\" y=\"252.0151\">po1</text><line style=\"stroke: #A80036; stroke-width: 1.0;\" x1=\"94\" x2=\"124\" y1=\"235.4023\" y2=\"235.4023\"/><text fill=\"#000000\" font-family=\"sans-serif\" font-size=\"11\" lengthAdjust=\"spacingAndGlyphs\" textLength=\"30\" x=\"124\" y=\"238.7104\">ports</text><line style=\"stroke: #A80036; stroke-width: 1.0;\" x1=\"154\" x2=\"184\" y1=\"235.4023\" y2=\"235.4023\"/></a><!--MD5=[ebbe1d658d1005bcc118a6aa81145e00]\n",
       "class E4--><a href=\"psysml:a26c0441-e754-421d-8c32-eea1ef6cab52\" target=\"_top\" title=\"psysml:a26c0441-e754-421d-8c32-eea1ef6cab52\" xlink:actuate=\"onRequest\" xlink:href=\"psysml:a26c0441-e754-421d-8c32-eea1ef6cab52\" xlink:show=\"new\" xlink:title=\"psysml:a26c0441-e754-421d-8c32-eea1ef6cab52\" xlink:type=\"simple\"><rect fill=\"#FEFECE\" filter=\"url(#f1pvxdkfttatop)\" height=\"88.3516\" id=\"E4\" rx=\"10\" ry=\"10\" style=\"stroke: #A80036; stroke-width: 1.5;\" width=\"92\" x=\"155\" y=\"41\"/><ellipse cx=\"179\" cy=\"59.9688\" fill=\"#32CD32\" rx=\"11\" ry=\"11\" style=\"stroke: #A80036; stroke-width: 1.0;\"/><path d=\"M178.7969,55.6406 L178.7969,59.2656 L179.7969,59.2656 Q181,59.2656 181.4844,58.8594 Q181.9688,58.4531 181.9688,57.4531 Q181.9688,56.4531 181.4844,56.0469 Q181,55.6406 179.7969,55.6406 L178.7969,55.6406 Z M176.3438,53.5781 L179.7031,53.5781 Q182.2656,53.5781 183.3906,54.5 Q184.5156,55.4063 184.5156,57.4531 Q184.5156,59.5 183.3906,60.4219 Q182.2656,61.3281 179.7031,61.3281 L178.7969,61.3281 L178.7969,65.9688 L176.3438,65.9688 L176.3438,53.5781 Z \"/><text fill=\"#000000\" font-family=\"sans-serif\" font-size=\"12\" font-style=\"italic\" lengthAdjust=\"spacingAndGlyphs\" textLength=\"40\" x=\"195\" y=\"57.1387\">«part»</text><text fill=\"#000000\" font-family=\"sans-serif\" font-size=\"12\" lengthAdjust=\"spacingAndGlyphs\" textLength=\"40\" x=\"195\" y=\"71.1074\">p1: P1</text><line style=\"stroke: #A80036; stroke-width: 1.5;\" x1=\"156\" x2=\"246\" y1=\"78.9375\" y2=\"78.9375\"/><text fill=\"#000000\" font-family=\"sans-serif\" font-size=\"11\" lengthAdjust=\"spacingAndGlyphs\" textLength=\"21\" x=\"161\" y=\"109.9526\">po1</text><text fill=\"#000000\" font-family=\"sans-serif\" font-size=\"11\" font-style=\"italic\" lengthAdjust=\"spacingAndGlyphs\" textLength=\"80\" x=\"161\" y=\"122.7573\">:&gt;&gt;P1::porig1</text><line style=\"stroke: #A80036; stroke-width: 1.0;\" x1=\"156\" x2=\"186\" y1=\"93.3398\" y2=\"93.3398\"/><text fill=\"#000000\" font-family=\"sans-serif\" font-size=\"11\" lengthAdjust=\"spacingAndGlyphs\" textLength=\"30\" x=\"186\" y=\"96.6479\">ports</text><line style=\"stroke: #A80036; stroke-width: 1.0;\" x1=\"216\" x2=\"246\" y1=\"93.3398\" y2=\"93.3398\"/></a><!--MD5=[60a26617385b1d2d0262a64233df1f8d]\n",
       "class E6--><a href=\"psysml:5c32a7f3-b309-4357-ac47-765b0be17034\" target=\"_top\" title=\"psysml:5c32a7f3-b309-4357-ac47-765b0be17034\" xlink:actuate=\"onRequest\" xlink:href=\"psysml:5c32a7f3-b309-4357-ac47-765b0be17034\" xlink:show=\"new\" xlink:title=\"psysml:5c32a7f3-b309-4357-ac47-765b0be17034\" xlink:type=\"simple\"><rect fill=\"#FEFECE\" filter=\"url(#f1pvxdkfttatop)\" height=\"75.5469\" id=\"E6\" rx=\"10\" ry=\"10\" style=\"stroke: #A80036; stroke-width: 1.5;\" width=\"88\" x=\"32\" y=\"47\"/><ellipse cx=\"54.2\" cy=\"65.9688\" fill=\"#32CD32\" rx=\"11\" ry=\"11\" style=\"stroke: #A80036; stroke-width: 1.0;\"/><path d=\"M53.9969,61.6406 L53.9969,65.2656 L54.9969,65.2656 Q56.2,65.2656 56.6844,64.8594 Q57.1688,64.4531 57.1688,63.4531 Q57.1688,62.4531 56.6844,62.0469 Q56.2,61.6406 54.9969,61.6406 L53.9969,61.6406 Z M51.5438,59.5781 L54.9031,59.5781 Q57.4656,59.5781 58.5906,60.5 Q59.7156,61.4063 59.7156,63.4531 Q59.7156,65.5 58.5906,66.4219 Q57.4656,67.3281 54.9031,67.3281 L53.9969,67.3281 L53.9969,71.9688 L51.5438,71.9688 L51.5438,59.5781 Z \"/><text fill=\"#000000\" font-family=\"sans-serif\" font-size=\"12\" font-style=\"italic\" lengthAdjust=\"spacingAndGlyphs\" textLength=\"40\" x=\"69.8\" y=\"63.1387\">«part»</text><text fill=\"#000000\" font-family=\"sans-serif\" font-size=\"12\" lengthAdjust=\"spacingAndGlyphs\" textLength=\"40\" x=\"69.8\" y=\"77.1074\">p2: P1</text><line style=\"stroke: #A80036; stroke-width: 1.5;\" x1=\"33\" x2=\"119\" y1=\"84.9375\" y2=\"84.9375\"/><text fill=\"#000000\" font-family=\"sans-serif\" font-size=\"11\" lengthAdjust=\"spacingAndGlyphs\" textLength=\"32\" x=\"38\" y=\"115.9526\">pdest</text><text fill=\"#000000\" font-family=\"sans-serif\" font-size=\"11\" font-weight=\"bold\" lengthAdjust=\"spacingAndGlyphs\" textLength=\"15\" x=\"74\" y=\"115.9526\">as</text><text fill=\"#000000\" font-family=\"sans-serif\" font-size=\"11\" lengthAdjust=\"spacingAndGlyphs\" textLength=\"21\" x=\"93\" y=\"115.9526\">pd1</text><line style=\"stroke: #A80036; stroke-width: 1.0;\" x1=\"33\" x2=\"61\" y1=\"99.3398\" y2=\"99.3398\"/><text fill=\"#000000\" font-family=\"sans-serif\" font-size=\"11\" lengthAdjust=\"spacingAndGlyphs\" textLength=\"30\" x=\"61\" y=\"102.6479\">ports</text><line style=\"stroke: #A80036; stroke-width: 1.0;\" x1=\"91\" x2=\"119\" y1=\"99.3398\" y2=\"99.3398\"/></a><!--MD5=[185131fc0dcab0a4505a2ebe144e961b]\n",
       "link E4 to E2--><a href=\"psysml:743cbcb0-f678-48b7-bb90-7aa18ca2c39d\" target=\"_top\" title=\"psysml:743cbcb0-f678-48b7-bb90-7aa18ca2c39d\" xlink:actuate=\"onRequest\" xlink:href=\"psysml:743cbcb0-f678-48b7-bb90-7aa18ca2c39d\" xlink:show=\"new\" xlink:title=\"psysml:743cbcb0-f678-48b7-bb90-7aa18ca2c39d\" xlink:type=\"simple\"><path d=\"M181.38,129.35 C175.5,142.35 168.98,156.75 162.86,170.29 \" fill=\"none\" id=\"E4-&gt;E2\" style=\"stroke: #A80036; stroke-width: 1.0;\"/><polygon fill=\"#FFFFFF\" points=\"154.57,188.61,156.0203,168.4135,168.7767,174.1819,154.57,188.61\" style=\"stroke: #A80036; stroke-width: 1.0;\"/><ellipse cx=\"160.1912\" cy=\"164.0439\" fill=\"#A80036\" rx=\"2\" ry=\"2\" style=\"stroke: #A80036; stroke-width: 1.0;\"/><ellipse cx=\"169.3029\" cy=\"168.1642\" fill=\"#A80036\" rx=\"2\" ry=\"2\" style=\"stroke: #A80036; stroke-width: 1.0;\"/></a><!--MD5=[2351f337d6de0f557b50152ba70847b5]\n",
       "link E6 to E2--><a href=\"psysml:a1f896e7-ae1f-4795-a4ef-b600067d493f\" target=\"_top\" title=\"psysml:a1f896e7-ae1f-4795-a4ef-b600067d493f\" xlink:actuate=\"onRequest\" xlink:href=\"psysml:a1f896e7-ae1f-4795-a4ef-b600067d493f\" xlink:show=\"new\" xlink:title=\"psysml:a1f896e7-ae1f-4795-a4ef-b600067d493f\" xlink:type=\"simple\"><path d=\"M93.05,123.07 C99.73,137.61 107.53,154.55 114.77,170.32 \" fill=\"none\" id=\"E6-&gt;E2\" style=\"stroke: #A80036; stroke-width: 1.0;\"/><polygon fill=\"#FFFFFF\" points=\"123.24,188.72,108.9415,174.3829,121.6608,168.5332,123.24,188.72\" style=\"stroke: #A80036; stroke-width: 1.0;\"/><ellipse cx=\"108.3769\" cy=\"168.3687\" fill=\"#A80036\" rx=\"2\" ry=\"2\" style=\"stroke: #A80036; stroke-width: 1.0;\"/><ellipse cx=\"117.4621\" cy=\"164.1903\" fill=\"#A80036\" rx=\"2\" ry=\"2\" style=\"stroke: #A80036; stroke-width: 1.0;\"/></a><!--MD5=[6e0234505faeeeca1ba0e2a60b0e1101]\n",
       "@startuml\r\n",
       " \r\n",
       "package \"AliasTest\" as E1  [[psysml:6f25d091-f985-426b-8055-e92e3d48be4a ]]  {\r\n",
       "comp def \"P1\" as E2  << (B,green) >> [[psysml:258ca4bf-faa9-4328-8179-2aed0dfcbbf6 ]] {\r\n",
       "- - ports - -\r\n",
       "porig1 <b>as</b> po1 \r\n",
       "}\r\n",
       "comp usage \"p1: P1\" as E4  << (P,limegreen) part>> [[psysml:a26c0441-e754-421d-8c32-eea1ef6cab52 ]] {\r\n",
       "- - ports - -\r\n",
       "po1\\n//:>>P1::porig1// \r\n",
       "}\r\n",
       "comp usage \"p2: P1\" as E6  << (P,limegreen) part>> [[psysml:5c32a7f3-b309-4357-ac47-765b0be17034 ]] {\r\n",
       "- - ports - -\r\n",
       "pdest <b>as</b> pd1 \r\n",
       "}\r\n",
       "E4 - -:|> E2 [[psysml:743cbcb0-f678-48b7-bb90-7aa18ca2c39d ]] \r\n",
       "E6 - -:|> E2 [[psysml:a1f896e7-ae1f-4795-a4ef-b600067d493f ]] \r\n",
       "}\r\n",
       "@enduml\r\n",
       "\n",
       "PlantUML version 1.2020.13(Sat Jun 13 12:26:38 UTC 2020)\n",
       "(EPL source distribution)\n",
       "Java Runtime: OpenJDK Runtime Environment\n",
       "JVM: OpenJDK 64-Bit Server VM\n",
       "Default Encoding: UTF-8\n",
       "Language: en\n",
       "Country: null\n",
       "--></g></svg>"
      ]
     },
     "execution_count": 30,
     "metadata": {},
     "output_type": "execute_result"
    }
   ],
   "source": [
    "%viz --style=\"PLANTUML\" --view=\"Default\" \"AliasTest\""
   ]
  },
  {
   "cell_type": "code",
   "execution_count": 31,
   "id": "geological-cancer",
   "metadata": {
    "execution": {
     "iopub.execute_input": "2021-03-26T13:00:35.825413Z",
     "iopub.status.busy": "2021-03-26T13:00:35.825073Z",
     "iopub.status.idle": "2021-03-26T13:00:35.883998Z",
     "shell.execute_reply": "2021-03-26T13:00:35.882763Z"
    }
   },
   "outputs": [
    {
     "data": {
      "image/svg+xml": [
       "<?xml version=\"1.0\" encoding=\"UTF-8\" standalone=\"no\"?><svg xmlns=\"http://www.w3.org/2000/svg\" xmlns:xlink=\"http://www.w3.org/1999/xlink\" contentScriptType=\"application/ecmascript\" contentStyleType=\"text/css\" height=\"287px\" preserveAspectRatio=\"none\" style=\"width:285px;height:287px;\" version=\"1.1\" viewBox=\"0 0 285 287\" width=\"285px\" zoomAndPan=\"magnify\"><defs><filter height=\"300%\" id=\"f1pvxdkfttatop\" width=\"300%\" x=\"-1\" y=\"-1\"><feGaussianBlur result=\"blurOut\" stdDeviation=\"2.0\"/><feColorMatrix in=\"blurOut\" result=\"blurOut2\" type=\"matrix\" values=\"0 0 0 0 0 0 0 0 0 0 0 0 0 0 0 0 0 0 .4 0\"/><feOffset dx=\"4.0\" dy=\"4.0\" in=\"blurOut2\" result=\"blurOut3\"/><feBlend in=\"SourceGraphic\" in2=\"blurOut3\" mode=\"normal\"/></filter></defs><g><!--MD5=[fbc87193dbaf4d95561dea2c320d4a47]\n",
       "cluster E1--><a href=\"psysml:6f25d091-f985-426b-8055-e92e3d48be4a\" target=\"_top\" title=\"psysml:6f25d091-f985-426b-8055-e92e3d48be4a\" xlink:actuate=\"onRequest\" xlink:href=\"psysml:6f25d091-f985-426b-8055-e92e3d48be4a\" xlink:show=\"new\" xlink:title=\"psysml:6f25d091-f985-426b-8055-e92e3d48be4a\" xlink:type=\"simple\"><polygon fill=\"#FFFFFF\" filter=\"url(#f1pvxdkfttatop)\" points=\"16,6,94,6,101,28.2969,263,28.2969,263,275,16,275,16,6\" style=\"stroke: #000000; stroke-width: 1.5;\"/><line style=\"stroke: #000000; stroke-width: 1.5;\" x1=\"16\" x2=\"101\" y1=\"28.2969\" y2=\"28.2969\"/><text fill=\"#000000\" font-family=\"sans-serif\" font-size=\"14\" font-weight=\"bold\" lengthAdjust=\"spacingAndGlyphs\" textLength=\"72\" x=\"20\" y=\"20.9951\">AliasTest</text></a><!--MD5=[b4997ac47864f28c2f74865a473b2911]\n",
       "class E2--><a href=\"psysml:258ca4bf-faa9-4328-8179-2aed0dfcbbf6\" target=\"_top\" title=\"psysml:258ca4bf-faa9-4328-8179-2aed0dfcbbf6\" xlink:actuate=\"onRequest\" xlink:href=\"psysml:258ca4bf-faa9-4328-8179-2aed0dfcbbf6\" xlink:show=\"new\" xlink:title=\"psysml:258ca4bf-faa9-4328-8179-2aed0dfcbbf6\" xlink:type=\"simple\"><rect fill=\"#FEFECE\" filter=\"url(#f1pvxdkfttatop)\" height=\"69.6094\" id=\"E2\" style=\"stroke: #A80036; stroke-width: 1.5;\" width=\"92\" x=\"93\" y=\"189\"/><ellipse cx=\"127.8\" cy=\"205\" fill=\"#008000\" rx=\"11\" ry=\"11\" style=\"stroke: #A80036; stroke-width: 1.0;\"/><path d=\"M126.7063,205.375 L126.7063,209.0469 L128.3313,209.0469 Q129.5031,209.0469 129.9719,208.6563 Q130.4406,208.25 130.4406,207.25 Q130.4406,206.25 129.9406,205.8125 Q129.4563,205.375 128.3313,205.375 L126.7063,205.375 Z M126.7063,200.5469 L126.7063,203.4219 L128.3313,203.4219 Q129.2531,203.4219 129.6438,203.0938 Q130.05,202.75 130.05,202 Q130.05,201.2344 129.6438,200.8906 Q129.2375,200.5469 128.3313,200.5469 L126.7063,200.5469 Z M124.3313,198.5938 L128.3313,198.5938 Q130.3938,198.5938 131.4406,199.375 Q132.4875,200.1563 132.4875,201.7188 Q132.4875,202.9219 131.8625,203.5938 Q131.2531,204.2656 130.0656,204.375 Q131.4875,204.5156 132.2063,205.3281 Q132.925,206.1406 132.925,207.5938 Q132.925,209.3906 131.8469,210.2031 Q130.7688,211 128.3313,211 L124.3313,211 L124.3313,198.5938 Z \"/><text fill=\"#000000\" font-family=\"sans-serif\" font-size=\"12\" lengthAdjust=\"spacingAndGlyphs\" textLength=\"16\" x=\"146.2\" y=\"209.1543\">P1</text><line style=\"stroke: #A80036; stroke-width: 1.5;\" x1=\"94\" x2=\"184\" y1=\"221\" y2=\"221\"/><text fill=\"#000000\" font-family=\"sans-serif\" font-size=\"11\" lengthAdjust=\"spacingAndGlyphs\" textLength=\"36\" x=\"99\" y=\"252.0151\">porig1</text><text fill=\"#000000\" font-family=\"sans-serif\" font-size=\"11\" font-weight=\"bold\" lengthAdjust=\"spacingAndGlyphs\" textLength=\"15\" x=\"139\" y=\"252.0151\">as</text><text fill=\"#000000\" font-family=\"sans-serif\" font-size=\"11\" lengthAdjust=\"spacingAndGlyphs\" textLength=\"21\" x=\"158\" y=\"252.0151\">po1</text><line style=\"stroke: #A80036; stroke-width: 1.0;\" x1=\"94\" x2=\"124\" y1=\"235.4023\" y2=\"235.4023\"/><text fill=\"#000000\" font-family=\"sans-serif\" font-size=\"11\" lengthAdjust=\"spacingAndGlyphs\" textLength=\"30\" x=\"124\" y=\"238.7104\">ports</text><line style=\"stroke: #A80036; stroke-width: 1.0;\" x1=\"154\" x2=\"184\" y1=\"235.4023\" y2=\"235.4023\"/></a><!--MD5=[ebbe1d658d1005bcc118a6aa81145e00]\n",
       "class E4--><a href=\"psysml:a26c0441-e754-421d-8c32-eea1ef6cab52\" target=\"_top\" title=\"psysml:a26c0441-e754-421d-8c32-eea1ef6cab52\" xlink:actuate=\"onRequest\" xlink:href=\"psysml:a26c0441-e754-421d-8c32-eea1ef6cab52\" xlink:show=\"new\" xlink:title=\"psysml:a26c0441-e754-421d-8c32-eea1ef6cab52\" xlink:type=\"simple\"><rect fill=\"#FEFECE\" filter=\"url(#f1pvxdkfttatop)\" height=\"88.3516\" id=\"E4\" rx=\"10\" ry=\"10\" style=\"stroke: #A80036; stroke-width: 1.5;\" width=\"92\" x=\"155\" y=\"41\"/><ellipse cx=\"179\" cy=\"59.9688\" fill=\"#32CD32\" rx=\"11\" ry=\"11\" style=\"stroke: #A80036; stroke-width: 1.0;\"/><path d=\"M178.7969,55.6406 L178.7969,59.2656 L179.7969,59.2656 Q181,59.2656 181.4844,58.8594 Q181.9688,58.4531 181.9688,57.4531 Q181.9688,56.4531 181.4844,56.0469 Q181,55.6406 179.7969,55.6406 L178.7969,55.6406 Z M176.3438,53.5781 L179.7031,53.5781 Q182.2656,53.5781 183.3906,54.5 Q184.5156,55.4063 184.5156,57.4531 Q184.5156,59.5 183.3906,60.4219 Q182.2656,61.3281 179.7031,61.3281 L178.7969,61.3281 L178.7969,65.9688 L176.3438,65.9688 L176.3438,53.5781 Z \"/><text fill=\"#000000\" font-family=\"sans-serif\" font-size=\"12\" font-style=\"italic\" lengthAdjust=\"spacingAndGlyphs\" textLength=\"40\" x=\"195\" y=\"57.1387\">«part»</text><text fill=\"#000000\" font-family=\"sans-serif\" font-size=\"12\" lengthAdjust=\"spacingAndGlyphs\" textLength=\"40\" x=\"195\" y=\"71.1074\">p1: P1</text><line style=\"stroke: #A80036; stroke-width: 1.5;\" x1=\"156\" x2=\"246\" y1=\"78.9375\" y2=\"78.9375\"/><text fill=\"#000000\" font-family=\"sans-serif\" font-size=\"11\" lengthAdjust=\"spacingAndGlyphs\" textLength=\"21\" x=\"161\" y=\"109.9526\">po1</text><text fill=\"#000000\" font-family=\"sans-serif\" font-size=\"11\" font-style=\"italic\" lengthAdjust=\"spacingAndGlyphs\" textLength=\"80\" x=\"161\" y=\"122.7573\">:&gt;&gt;P1::porig1</text><line style=\"stroke: #A80036; stroke-width: 1.0;\" x1=\"156\" x2=\"186\" y1=\"93.3398\" y2=\"93.3398\"/><text fill=\"#000000\" font-family=\"sans-serif\" font-size=\"11\" lengthAdjust=\"spacingAndGlyphs\" textLength=\"30\" x=\"186\" y=\"96.6479\">ports</text><line style=\"stroke: #A80036; stroke-width: 1.0;\" x1=\"216\" x2=\"246\" y1=\"93.3398\" y2=\"93.3398\"/></a><!--MD5=[60a26617385b1d2d0262a64233df1f8d]\n",
       "class E6--><a href=\"psysml:5c32a7f3-b309-4357-ac47-765b0be17034\" target=\"_top\" title=\"psysml:5c32a7f3-b309-4357-ac47-765b0be17034\" xlink:actuate=\"onRequest\" xlink:href=\"psysml:5c32a7f3-b309-4357-ac47-765b0be17034\" xlink:show=\"new\" xlink:title=\"psysml:5c32a7f3-b309-4357-ac47-765b0be17034\" xlink:type=\"simple\"><rect fill=\"#FEFECE\" filter=\"url(#f1pvxdkfttatop)\" height=\"75.5469\" id=\"E6\" rx=\"10\" ry=\"10\" style=\"stroke: #A80036; stroke-width: 1.5;\" width=\"88\" x=\"32\" y=\"47\"/><ellipse cx=\"54.2\" cy=\"65.9688\" fill=\"#32CD32\" rx=\"11\" ry=\"11\" style=\"stroke: #A80036; stroke-width: 1.0;\"/><path d=\"M53.9969,61.6406 L53.9969,65.2656 L54.9969,65.2656 Q56.2,65.2656 56.6844,64.8594 Q57.1688,64.4531 57.1688,63.4531 Q57.1688,62.4531 56.6844,62.0469 Q56.2,61.6406 54.9969,61.6406 L53.9969,61.6406 Z M51.5438,59.5781 L54.9031,59.5781 Q57.4656,59.5781 58.5906,60.5 Q59.7156,61.4063 59.7156,63.4531 Q59.7156,65.5 58.5906,66.4219 Q57.4656,67.3281 54.9031,67.3281 L53.9969,67.3281 L53.9969,71.9688 L51.5438,71.9688 L51.5438,59.5781 Z \"/><text fill=\"#000000\" font-family=\"sans-serif\" font-size=\"12\" font-style=\"italic\" lengthAdjust=\"spacingAndGlyphs\" textLength=\"40\" x=\"69.8\" y=\"63.1387\">«part»</text><text fill=\"#000000\" font-family=\"sans-serif\" font-size=\"12\" lengthAdjust=\"spacingAndGlyphs\" textLength=\"40\" x=\"69.8\" y=\"77.1074\">p2: P1</text><line style=\"stroke: #A80036; stroke-width: 1.5;\" x1=\"33\" x2=\"119\" y1=\"84.9375\" y2=\"84.9375\"/><text fill=\"#000000\" font-family=\"sans-serif\" font-size=\"11\" lengthAdjust=\"spacingAndGlyphs\" textLength=\"32\" x=\"38\" y=\"115.9526\">pdest</text><text fill=\"#000000\" font-family=\"sans-serif\" font-size=\"11\" font-weight=\"bold\" lengthAdjust=\"spacingAndGlyphs\" textLength=\"15\" x=\"74\" y=\"115.9526\">as</text><text fill=\"#000000\" font-family=\"sans-serif\" font-size=\"11\" lengthAdjust=\"spacingAndGlyphs\" textLength=\"21\" x=\"93\" y=\"115.9526\">pd1</text><line style=\"stroke: #A80036; stroke-width: 1.0;\" x1=\"33\" x2=\"61\" y1=\"99.3398\" y2=\"99.3398\"/><text fill=\"#000000\" font-family=\"sans-serif\" font-size=\"11\" lengthAdjust=\"spacingAndGlyphs\" textLength=\"30\" x=\"61\" y=\"102.6479\">ports</text><line style=\"stroke: #A80036; stroke-width: 1.0;\" x1=\"91\" x2=\"119\" y1=\"99.3398\" y2=\"99.3398\"/></a><!--MD5=[185131fc0dcab0a4505a2ebe144e961b]\n",
       "link E4 to E2--><a href=\"psysml:743cbcb0-f678-48b7-bb90-7aa18ca2c39d\" target=\"_top\" title=\"psysml:743cbcb0-f678-48b7-bb90-7aa18ca2c39d\" xlink:actuate=\"onRequest\" xlink:href=\"psysml:743cbcb0-f678-48b7-bb90-7aa18ca2c39d\" xlink:show=\"new\" xlink:title=\"psysml:743cbcb0-f678-48b7-bb90-7aa18ca2c39d\" xlink:type=\"simple\"><path d=\"M181.38,129.35 C175.5,142.35 168.98,156.75 162.86,170.29 \" fill=\"none\" id=\"E4-&gt;E2\" style=\"stroke: #A80036; stroke-width: 1.0;\"/><polygon fill=\"#FFFFFF\" points=\"154.57,188.61,156.0203,168.4135,168.7767,174.1819,154.57,188.61\" style=\"stroke: #A80036; stroke-width: 1.0;\"/><ellipse cx=\"160.1912\" cy=\"164.0439\" fill=\"#A80036\" rx=\"2\" ry=\"2\" style=\"stroke: #A80036; stroke-width: 1.0;\"/><ellipse cx=\"169.3029\" cy=\"168.1642\" fill=\"#A80036\" rx=\"2\" ry=\"2\" style=\"stroke: #A80036; stroke-width: 1.0;\"/></a><!--MD5=[2351f337d6de0f557b50152ba70847b5]\n",
       "link E6 to E2--><a href=\"psysml:a1f896e7-ae1f-4795-a4ef-b600067d493f\" target=\"_top\" title=\"psysml:a1f896e7-ae1f-4795-a4ef-b600067d493f\" xlink:actuate=\"onRequest\" xlink:href=\"psysml:a1f896e7-ae1f-4795-a4ef-b600067d493f\" xlink:show=\"new\" xlink:title=\"psysml:a1f896e7-ae1f-4795-a4ef-b600067d493f\" xlink:type=\"simple\"><path d=\"M93.05,123.07 C99.73,137.61 107.53,154.55 114.77,170.32 \" fill=\"none\" id=\"E6-&gt;E2\" style=\"stroke: #A80036; stroke-width: 1.0;\"/><polygon fill=\"#FFFFFF\" points=\"123.24,188.72,108.9415,174.3829,121.6608,168.5332,123.24,188.72\" style=\"stroke: #A80036; stroke-width: 1.0;\"/><ellipse cx=\"108.3769\" cy=\"168.3687\" fill=\"#A80036\" rx=\"2\" ry=\"2\" style=\"stroke: #A80036; stroke-width: 1.0;\"/><ellipse cx=\"117.4621\" cy=\"164.1903\" fill=\"#A80036\" rx=\"2\" ry=\"2\" style=\"stroke: #A80036; stroke-width: 1.0;\"/></a><!--MD5=[6e0234505faeeeca1ba0e2a60b0e1101]\n",
       "@startuml\r\n",
       " \r\n",
       "package \"AliasTest\" as E1  [[psysml:6f25d091-f985-426b-8055-e92e3d48be4a ]]  {\r\n",
       "comp def \"P1\" as E2  << (B,green) >> [[psysml:258ca4bf-faa9-4328-8179-2aed0dfcbbf6 ]] {\r\n",
       "- - ports - -\r\n",
       "porig1 <b>as</b> po1 \r\n",
       "}\r\n",
       "comp usage \"p1: P1\" as E4  << (P,limegreen) part>> [[psysml:a26c0441-e754-421d-8c32-eea1ef6cab52 ]] {\r\n",
       "- - ports - -\r\n",
       "po1\\n//:>>P1::porig1// \r\n",
       "}\r\n",
       "comp usage \"p2: P1\" as E6  << (P,limegreen) part>> [[psysml:5c32a7f3-b309-4357-ac47-765b0be17034 ]] {\r\n",
       "- - ports - -\r\n",
       "pdest <b>as</b> pd1 \r\n",
       "}\r\n",
       "E4 - -:|> E2 [[psysml:743cbcb0-f678-48b7-bb90-7aa18ca2c39d ]] \r\n",
       "E6 - -:|> E2 [[psysml:a1f896e7-ae1f-4795-a4ef-b600067d493f ]] \r\n",
       "}\r\n",
       "@enduml\r\n",
       "\n",
       "PlantUML version 1.2020.13(Sat Jun 13 12:26:38 UTC 2020)\n",
       "(EPL source distribution)\n",
       "Java Runtime: OpenJDK Runtime Environment\n",
       "JVM: OpenJDK 64-Bit Server VM\n",
       "Default Encoding: UTF-8\n",
       "Language: en\n",
       "Country: null\n",
       "--></g></svg>"
      ]
     },
     "execution_count": 31,
     "metadata": {},
     "output_type": "execute_result"
    }
   ],
   "source": [
    "%viz --style=\"PLANTUML\" --view=\"Tree\" \"AliasTest\""
   ]
  },
  {
   "cell_type": "code",
   "execution_count": 32,
   "id": "developmental-raleigh",
   "metadata": {
    "execution": {
     "iopub.execute_input": "2021-03-26T13:00:35.933889Z",
     "iopub.status.busy": "2021-03-26T13:00:35.933512Z",
     "iopub.status.idle": "2021-03-26T13:00:36.001357Z",
     "shell.execute_reply": "2021-03-26T13:00:35.999446Z"
    }
   },
   "outputs": [
    {
     "data": {
      "image/svg+xml": [
       "<?xml version=\"1.0\" encoding=\"UTF-8\" standalone=\"no\"?><svg xmlns=\"http://www.w3.org/2000/svg\" xmlns:xlink=\"http://www.w3.org/1999/xlink\" contentScriptType=\"application/ecmascript\" contentStyleType=\"text/css\" height=\"303px\" preserveAspectRatio=\"none\" style=\"width:603px;height:303px;background:#000000;\" version=\"1.1\" viewBox=\"0 0 603 303\" width=\"603px\" zoomAndPan=\"magnify\"><defs/><g><rect fill=\"#0B2221\" height=\"1\" style=\"stroke: #0B2221; stroke-width: 1.0;\" width=\"1\" x=\"0\" y=\"0\"/><rect fill=\"#FFFFFF\" height=\"205.5625\" style=\"stroke: #FFFFFF; stroke-width: 1.0;\" width=\"602\" x=\"0\" y=\"0\"/><text fill=\"#000000\" font-family=\"sans-serif\" font-size=\"12\" font-weight=\"bold\" lengthAdjust=\"spacingAndGlyphs\" textLength=\"159\" x=\"5\" y=\"16.1387\">Welcome to PlantUML!</text><text fill=\"#000000\" font-family=\"sans-serif\" font-size=\"12\" lengthAdjust=\"spacingAndGlyphs\" textLength=\"0\" x=\"9\" y=\"30.1074\"/><text fill=\"#000000\" font-family=\"sans-serif\" font-size=\"12\" lengthAdjust=\"spacingAndGlyphs\" textLength=\"293\" x=\"5\" y=\"44.0762\">If you use this software, you accept its license.</text><text fill=\"#000000\" font-family=\"sans-serif\" font-size=\"12\" lengthAdjust=\"spacingAndGlyphs\" textLength=\"107\" x=\"5\" y=\"58.0449\">(details by typing</text><text fill=\"#000000\" font-family=\"monospace\" font-size=\"12\" lengthAdjust=\"spacingAndGlyphs\" textLength=\"49\" x=\"116\" y=\"58.0449\">license</text><text fill=\"#000000\" font-family=\"sans-serif\" font-size=\"12\" lengthAdjust=\"spacingAndGlyphs\" textLength=\"56\" x=\"169\" y=\"58.0449\">keyword)</text><text fill=\"#000000\" font-family=\"sans-serif\" font-size=\"12\" lengthAdjust=\"spacingAndGlyphs\" textLength=\"0\" x=\"9\" y=\"72.0137\"/><text fill=\"#000000\" font-family=\"sans-serif\" font-size=\"12\" lengthAdjust=\"spacingAndGlyphs\" textLength=\"283\" x=\"5\" y=\"85.9824\">You can start with a simple UML Diagram like:</text><text fill=\"#000000\" font-family=\"sans-serif\" font-size=\"12\" lengthAdjust=\"spacingAndGlyphs\" textLength=\"0\" x=\"9\" y=\"99.9512\"/><text fill=\"#000000\" font-family=\"monospace\" font-size=\"12\" lengthAdjust=\"spacingAndGlyphs\" textLength=\"119\" x=\"5\" y=\"113.9199\">Bob-&gt;Alice: Hello</text><text fill=\"#000000\" font-family=\"sans-serif\" font-size=\"12\" lengthAdjust=\"spacingAndGlyphs\" textLength=\"0\" x=\"9\" y=\"127.8887\"/><text fill=\"#000000\" font-family=\"sans-serif\" font-size=\"12\" lengthAdjust=\"spacingAndGlyphs\" textLength=\"14\" x=\"5\" y=\"141.8574\">Or</text><text fill=\"#000000\" font-family=\"sans-serif\" font-size=\"12\" lengthAdjust=\"spacingAndGlyphs\" textLength=\"0\" x=\"9\" y=\"155.8262\"/><text fill=\"#000000\" font-family=\"monospace\" font-size=\"12\" lengthAdjust=\"spacingAndGlyphs\" textLength=\"91\" x=\"5\" y=\"169.7949\">class Example</text><text fill=\"#000000\" font-family=\"sans-serif\" font-size=\"12\" lengthAdjust=\"spacingAndGlyphs\" textLength=\"0\" x=\"9\" y=\"183.7637\"/><text fill=\"#000000\" font-family=\"sans-serif\" font-size=\"12\" lengthAdjust=\"spacingAndGlyphs\" textLength=\"349\" x=\"5\" y=\"197.7324\">You will find more information about PlantUML syntax on</text><text fill=\"#000000\" font-family=\"sans-serif\" font-size=\"12\" lengthAdjust=\"spacingAndGlyphs\" text-decoration=\"underline\" textLength=\"129\" x=\"358\" y=\"197.7324\">https://plantuml.com</text><image height=\"71\" width=\"80\" x=\"516\" xlink:href=\"data:image/png;base64,iVBORw0KGgoAAAANSUhEUgAAAFAAAABHCAMAAACnHDC8AAADAFBMVEX///+BpbvD3u/f7vfPz8+nz+g3ksuZEDkWADr/ujlvsdpTodLCwsOLwOEbg8T//v6pqamZETnLysvT09To5+jqLS4VATj9/f27u7vDw8MTfsK+v7/j4+SOweJprdjL4/KxsbEri8jk8PgXa57c29uUETez1utQoNJ1tNtEmc9cptWBut6ayOW/3O6YEDjY6vUfhcXBwcHs7Ozw9/v83t79uTn7+/vX19ehoaHx8fG2tLXHx8fuVlfrNTYaBjn/vUH5+fmko6WXl5f/+fn95ub+9PT+8PD3qKidmaMxIUrnqDWcFj7n5eX09PTu7u2SkpKfnZ6rq6z0lJTm4tzJrHUfDT339/eFGDn6tjcrEzOvrbBuZ3l4eomSMS7Hz9Smpqasu8SFiYuQETfa2du1m6OOM051J0NWTWL5xse4uLj6zc33r6/4vb7ydHXqLi/72dntTE3tR0ijbn5jW3C+u8NANVQrG0XFubqRVGZza4GQGT2VaS7a0NPJtI6IJj/zszrfqkXXzr/Hw8cgC0LUqltOQ2JsSC5bTGjOpFafSi2+iDGtyt14m7TJhTCPJUSwoIG/qa+ikHiIgpCRHjI9j8KXbnaQH0FLf6FGPlp0cnYyKE2rg49Wj7dFXHmcwtrp6uu+xMjvYWLvW1z97e3sPD3sP0DuUlP709PYzdDPmzqZWWySRVygfHHd1smWkZ+PgnibETqsl260q5fLuppJLC/dpj2HPFLTtHv/ujrTwJy5s6iWjIi0iD3joTTCmU3trjuvZS2zlFvjq0HSyLbYp0qRts10XGxEKC9yPVBQZIOPdlNvMk2NeYNqRlujtcCVrr3j5eY1gK9Qn9GLp7lbeJXRxrCkiZDaozyukoJ+H0B3rc+OYy+iprJkYXdhmr6ee0afs79xq9BikrGKjI3FomEiLFO0ay6nfIm4pZXRjTFuhZSZWm0zcZyJN0KNTk4eebNfdIGGlZ93h5kcED5nOVYyRWbziIk9dJ4kerE5ZYxRUnLG1d7p8PTvY2PtTk/1nZ1ycV/bAAAFx0lEQVR4Xu1Ye1BUVRg/e3dhl4csKyxqPlBJQVETF2icAY13GogkEFqizqRRpoBpTCIapaUOhWNjUdOMSBpqJYZTg4KigFKADzSIVZ4qD5VFluXhLgvbPee+r49R7v2z3+zcc77fOfPb7zvfPd85uwCIhwT4wPisANwPAuIKHnbHH1I+KwAXDA18ShDW58CneCEnXl8JGwmfHylCPSvlZ/FWxh8YIRIxTWkZAEofkTz8sNq7tAqE2gODOB6GYZobVaH20SVZ4oQcdmXV0L7c4b8OFvJHRoYwdVIoyPX3gxtFDA+V8e6mM8pBoCjij4wQiWo/ALzV/kpkifBi13p4waZuGrJEECycixcEVSbYgFwUozg4/qSraOxrP7O8Eogj2HDxyMWmzpk6823+yIjhvR7fLOpDsCuGhwC0WfbkjQq8A0MWC0EgIYzPCYMymM8Iwcvz6K4IWw8skTrgq3iPMIQnxdfKrvyedpyvbSsyBQt6zcH6OxXmjqYxg9PbgXBBveK6aRAXNEl1Ssc+hz7Bgntyohb/ggQlNrrdzfIuoYKSb79067PrRoLmGo25SeghJRn1yMrSbPTptZaoBlwtlWbBHspxiW+mW8+46ereVnMXGxbFQ+mjofiHZTrclJn5E14UEgdrO9tRVph0HDJlYlRsLv4XFA7RBA1kK5ogBb7gtn08AvxWymc2b+YzLHC3nnOCNHvdayUsZpnnwnPqGf+yGKcPKlv92vtJC209zGyRWJmgyd16sSGGT/AmM2rdKZKZHxwCz7KUodLzJOO8th4OBqxdo0c2tfUkNr3QlJkZQWWMBP0uwBHvmQQb3zRVCMnsMO6ATazf3f0kkza0HTaPCdIhpyTknqP61Te1eV2gRpr1FUn4xtxRT72pDHhj09/UnBLjiv72p4d8FEtlLibBd7Qg0xK5+XfS9q2AzxSVHPnNIMBS8BQPw8N1W4glQWj0mtp4+nSHhvKYOM4GL6vH1jGTcDQ3p1979AQPI5agXEDYwuS5awknJ73rHU56RyLAr6ACpO5iMRGvp3XykjImgs4Fgm2/7URc8dhbeD9jdhYVNon0mdFcAjTIXbmC75VrmVHcQ+JDIXbuNmYUYlZoYx6XcWjKTWavYXd1WzU9OEh9wLFfEVFza5PEhVhDAvfLx60cWM3ePMa9hyZG5DNr6DbQiCUcYU0AKGzGyYxlkf+wxnCk+wdwCbA/TkWH7Dbgoq8dcmKNssQQ3F/JmMxlIj/fzo/7s9OIwUMebbYzbh2zLfk7ehBGzIau6OeO+xzGKlBRwCGAXNaCFgYbRoKG+hMTfMff4M6h0LYxpmv/92ym9tIxc4uRzawynCEWGhum7odf9/75vh8zg0bKijX5AMxhMacsK8pBxaJihtnQqr1KG8yFMzq/dutJ2iKwNCbXA7Yamsm2Xn0XtgtowY3Xy8rpYc4NNqon8eM49k+NtzU55GtMleGAkNR6oldDMhH+e9EX0JB+UYKv4WgLZrLCjHV7wnyYlzJZvYV6A6d1w6xEph842UUyTkjGIbzwRA/JIOBJKSt88yglqND1h6TpiQqQV99wmJ7nknQcgIIHqd00EwSzgudigGYQUHE4qFMcGJb22kp7lNop8p6znStvg5S2e1TVRti56w/zj8fZzKLiDa317MqBQFbs+J3dcbSgo+H4D0kLOokJ82/NR8KZbp9eIZgllwKR8Ec1ejIX827POk/06HpYffGd5dkoZJXMqDAVXd1Nbhavlx4OyuAiPcyAF3Ick8faXAuE5WToApkMxykL1PbNRJ91SDkXOyymPFR1UMlw9GjRPKCrPsRSvUnbzbkELj2PSSRkQLiH1AvROTutlpryLHQAoCD+C2BBP4npMwd9zsIgzgaDsK+bctmVw3hetai5t9RS4PEqub4QnCvxteGzOZyQXxjscxkhHisWKMi72+T0p1dxGeGYkG0ez+eeG7In/n/oNOexC9fzIiLvPxVtKp84iza+AAAAAElFTkSuQmCC\" y=\"6\"/><rect fill=\"#000000\" height=\"96.4844\" style=\"stroke: #000000; stroke-width: 1.0;\" width=\"602\" x=\"0\" y=\"205.5625\"/><rect fill=\"#33FF02\" height=\"21.2969\" style=\"stroke: #33FF02; stroke-width: 1.0;\" width=\"170\" x=\"5\" y=\"210.5625\"/><text fill=\"#000000\" font-family=\"sans-serif\" font-size=\"14\" font-weight=\"bold\" lengthAdjust=\"spacingAndGlyphs\" textLength=\"168\" x=\"6\" y=\"225.5625\">[From string (line 2) ]</text><text fill=\"#33FF02\" font-family=\"sans-serif\" font-size=\"14\" font-weight=\"bold\" lengthAdjust=\"spacingAndGlyphs\" textLength=\"0\" x=\"10\" y=\"245.8594\"/><text fill=\"#33FF02\" font-family=\"sans-serif\" font-size=\"14\" font-weight=\"bold\" lengthAdjust=\"spacingAndGlyphs\" textLength=\"79\" x=\"5\" y=\"262.1563\">@startuml</text><text fill=\"#33FF02\" font-family=\"sans-serif\" font-size=\"14\" font-weight=\"bold\" lengthAdjust=\"spacingAndGlyphs\" textLength=\"0\" x=\"10\" y=\"278.4531\"/><text fill=\"#FF0000\" font-family=\"sans-serif\" font-size=\"14\" font-weight=\"bold\" lengthAdjust=\"spacingAndGlyphs\" textLength=\"142\" x=\"10\" y=\"294.75\">Empty description</text><!--MD5=[f59edd8218d337f74d0c332fc6737304]\n",
       "@startuml\r\n",
       " \r\n",
       "@enduml\r\n",
       "\n",
       "PlantUML version 1.2020.13(Sat Jun 13 12:26:38 UTC 2020)\n",
       "(EPL source distribution)\n",
       "Java Runtime: OpenJDK Runtime Environment\n",
       "JVM: OpenJDK 64-Bit Server VM\n",
       "Default Encoding: UTF-8\n",
       "Language: en\n",
       "Country: null\n",
       "--></g></svg>"
      ]
     },
     "execution_count": 32,
     "metadata": {},
     "output_type": "execute_result"
    }
   ],
   "source": [
    "%viz --style=\"PLANTUML\" --view=\"State\" \"AliasTest\""
   ]
  },
  {
   "cell_type": "code",
   "execution_count": 33,
   "id": "sought-mercy",
   "metadata": {
    "execution": {
     "iopub.execute_input": "2021-03-26T13:00:36.053941Z",
     "iopub.status.busy": "2021-03-26T13:00:36.051600Z",
     "iopub.status.idle": "2021-03-26T13:00:36.099476Z",
     "shell.execute_reply": "2021-03-26T13:00:36.098209Z"
    }
   },
   "outputs": [
    {
     "data": {
      "image/svg+xml": [
       "<?xml version=\"1.0\" encoding=\"UTF-8\" standalone=\"no\"?><svg xmlns=\"http://www.w3.org/2000/svg\" xmlns:xlink=\"http://www.w3.org/1999/xlink\" contentScriptType=\"application/ecmascript\" contentStyleType=\"text/css\" height=\"191px\" preserveAspectRatio=\"none\" style=\"width:361px;height:191px;\" version=\"1.1\" viewBox=\"0 0 361 191\" width=\"361px\" zoomAndPan=\"magnify\"><defs><filter height=\"300%\" id=\"f50coad9hox25\" width=\"300%\" x=\"-1\" y=\"-1\"><feGaussianBlur result=\"blurOut\" stdDeviation=\"2.0\"/><feColorMatrix in=\"blurOut\" result=\"blurOut2\" type=\"matrix\" values=\"0 0 0 0 0 0 0 0 0 0 0 0 0 0 0 0 0 0 .4 0\"/><feOffset dx=\"4.0\" dy=\"4.0\" in=\"blurOut2\" result=\"blurOut3\"/><feBlend in=\"SourceGraphic\" in2=\"blurOut3\" mode=\"normal\"/></filter></defs><g><!--MD5=[fbc87193dbaf4d95561dea2c320d4a47]\n",
       "cluster E1--><a href=\"psysml:6f25d091-f985-426b-8055-e92e3d48be4a\" target=\"_top\" title=\"psysml:6f25d091-f985-426b-8055-e92e3d48be4a\" xlink:actuate=\"onRequest\" xlink:href=\"psysml:6f25d091-f985-426b-8055-e92e3d48be4a\" xlink:show=\"new\" xlink:title=\"psysml:6f25d091-f985-426b-8055-e92e3d48be4a\" xlink:type=\"simple\"><polygon fill=\"#FFFFFF\" filter=\"url(#f50coad9hox25)\" points=\"16,6,94,6,101,28.2969,339,28.2969,339,179,16,179,16,6\" style=\"stroke: #000000; stroke-width: 1.5;\"/><line style=\"stroke: #000000; stroke-width: 1.5;\" x1=\"16\" x2=\"101\" y1=\"28.2969\" y2=\"28.2969\"/><text fill=\"#000000\" font-family=\"sans-serif\" font-size=\"14\" font-weight=\"bold\" lengthAdjust=\"spacingAndGlyphs\" textLength=\"72\" x=\"20\" y=\"20.9951\">AliasTest</text></a><!--MD5=[e4f7fae6ed58524ba242bb0b0d3be6b7]\n",
       "cluster E2--><a href=\"psysml:258ca4bf-faa9-4328-8179-2aed0dfcbbf6\" target=\"_top\" title=\"psysml:258ca4bf-faa9-4328-8179-2aed0dfcbbf6\" xlink:actuate=\"onRequest\" xlink:href=\"psysml:258ca4bf-faa9-4328-8179-2aed0dfcbbf6\" xlink:show=\"new\" xlink:title=\"psysml:258ca4bf-faa9-4328-8179-2aed0dfcbbf6\" xlink:type=\"simple\"><rect fill=\"#FFFFFF\" filter=\"url(#f50coad9hox25)\" height=\"57\" id=\"E2\" style=\"stroke: #A80036; stroke-width: 1.5;\" width=\"83\" x=\"244\" y=\"55\"/><rect fill=\"#FEFECE\" height=\"23.9688\" style=\"stroke: #A80036; stroke-width: 1.5;\" width=\"83\" x=\"244\" y=\"55\"/><text fill=\"#000000\" font-family=\"sans-serif\" font-size=\"12\" lengthAdjust=\"spacingAndGlyphs\" textLength=\"16\" x=\"277.5\" y=\"71.1387\">P1</text></a><!--MD5=[de5ec2e2e8f62f467e546659f5068c88]\n",
       "cluster E5--><a href=\"psysml:a26c0441-e754-421d-8c32-eea1ef6cab52\" target=\"_top\" title=\"psysml:a26c0441-e754-421d-8c32-eea1ef6cab52\" xlink:actuate=\"onRequest\" xlink:href=\"psysml:a26c0441-e754-421d-8c32-eea1ef6cab52\" xlink:show=\"new\" xlink:title=\"psysml:a26c0441-e754-421d-8c32-eea1ef6cab52\" xlink:type=\"simple\"><rect fill=\"#FFFFFF\" filter=\"url(#f50coad9hox25)\" height=\"76.5\" id=\"E5\" rx=\"10\" ry=\"10\" style=\"stroke: #A80036; stroke-width: 1.5;\" width=\"101\" x=\"139\" y=\"86.5\"/><rect fill=\"#FEFECE\" height=\"23.9688\" rx=\"10\" ry=\"10\" style=\"stroke: #FEFECE; stroke-width: 1.5;\" width=\"101\" x=\"139\" y=\"86.5\"/><rect fill=\"#FEFECE\" height=\"10\" style=\"stroke: #FEFECE; stroke-width: 1.5;\" width=\"101\" x=\"139\" y=\"100.4688\"/><rect fill=\"none\" height=\"76.5\" id=\"E5\" rx=\"10\" ry=\"10\" style=\"stroke: #A80036; stroke-width: 1.5;\" width=\"101\" x=\"139\" y=\"86.5\"/><text fill=\"#000000\" font-family=\"sans-serif\" font-size=\"12\" lengthAdjust=\"spacingAndGlyphs\" textLength=\"40\" x=\"169.5\" y=\"102.6387\">p1: P1</text><line style=\"stroke: #A80036; stroke-width: 1.0;\" x1=\"139\" x2=\"240\" y1=\"110.4688\" y2=\"110.4688\"/></a><!--MD5=[168fadf3d0c3fd93dd5d6da1b1d7ab76]\n",
       "cluster E7--><a href=\"psysml:5c32a7f3-b309-4357-ac47-765b0be17034\" target=\"_top\" title=\"psysml:5c32a7f3-b309-4357-ac47-765b0be17034\" xlink:actuate=\"onRequest\" xlink:href=\"psysml:5c32a7f3-b309-4357-ac47-765b0be17034\" xlink:show=\"new\" xlink:title=\"psysml:5c32a7f3-b309-4357-ac47-765b0be17034\" xlink:type=\"simple\"><rect fill=\"#FFFFFF\" filter=\"url(#f50coad9hox25)\" height=\"57\" id=\"E7\" rx=\"10\" ry=\"10\" style=\"stroke: #A80036; stroke-width: 1.5;\" width=\"83\" x=\"53\" y=\"55\"/><rect fill=\"#FEFECE\" height=\"23.9688\" rx=\"10\" ry=\"10\" style=\"stroke: #FEFECE; stroke-width: 1.5;\" width=\"83\" x=\"53\" y=\"55\"/><rect fill=\"#FEFECE\" height=\"10\" style=\"stroke: #FEFECE; stroke-width: 1.5;\" width=\"83\" x=\"53\" y=\"68.9688\"/><rect fill=\"none\" height=\"57\" id=\"E7\" rx=\"10\" ry=\"10\" style=\"stroke: #A80036; stroke-width: 1.5;\" width=\"83\" x=\"53\" y=\"55\"/><text fill=\"#000000\" font-family=\"sans-serif\" font-size=\"12\" lengthAdjust=\"spacingAndGlyphs\" textLength=\"40\" x=\"74.5\" y=\"71.1387\">p2: P1</text><line style=\"stroke: #A80036; stroke-width: 1.0;\" x1=\"53\" x2=\"136\" y1=\"78.9688\" y2=\"78.9688\"/></a><text fill=\"#000000\" font-family=\"sans-serif\" font-size=\"14\" lengthAdjust=\"spacingAndGlyphs\" textLength=\"44\" x=\"240\" y=\"33.6982\">porig1</text><rect fill=\"#A80036\" height=\"12\" style=\"stroke: #FEFECE; stroke-width: 1.5;\" width=\"12\" x=\"256\" y=\"49\"/><text fill=\"#000000\" font-family=\"sans-serif\" font-size=\"14\" lengthAdjust=\"spacingAndGlyphs\" textLength=\"44\" x=\"287\" y=\"33.6982\">porig1</text><rect fill=\"#A80036\" height=\"12\" style=\"stroke: #FEFECE; stroke-width: 1.5;\" width=\"12\" x=\"303\" y=\"49\"/><text fill=\"#000000\" font-family=\"sans-serif\" font-size=\"14\" lengthAdjust=\"spacingAndGlyphs\" textLength=\"27\" x=\"143.5\" y=\"65.1982\">po1</text><rect fill=\"#A80036\" height=\"12\" style=\"stroke: #FEFECE; stroke-width: 1.5;\" width=\"12\" x=\"151\" y=\"80.5\"/><text fill=\"#000000\" font-family=\"sans-serif\" font-size=\"14\" lengthAdjust=\"spacingAndGlyphs\" textLength=\"40\" x=\"51\" y=\"33.6982\">pdest</text><rect fill=\"#A80036\" height=\"12\" style=\"stroke: #FEFECE; stroke-width: 1.5;\" width=\"12\" x=\"65\" y=\"49\"/><text fill=\"#000000\" font-family=\"sans-serif\" font-size=\"14\" lengthAdjust=\"spacingAndGlyphs\" textLength=\"40\" x=\"98\" y=\"33.6982\">pdest</text><rect fill=\"#A80036\" height=\"12\" style=\"stroke: #FEFECE; stroke-width: 1.5;\" width=\"12\" x=\"112\" y=\"49\"/><!--MD5=[60ac2c0cde89d4308155b0484e57a8ec]\n",
       "link E9 to E6--><a href=\"psysml:df73490b-6554-48a2-b250-43b559083f0a\" target=\"_top\" title=\"psysml:df73490b-6554-48a2-b250-43b559083f0a\" xlink:actuate=\"onRequest\" xlink:href=\"psysml:df73490b-6554-48a2-b250-43b559083f0a\" xlink:show=\"new\" xlink:title=\"psysml:df73490b-6554-48a2-b250-43b559083f0a\" xlink:type=\"simple\"><path d=\"M114.84,61.14 C119.38,68.34 137.71,80.94 150.76,84.52 \" fill=\"none\" id=\"E9-E6\" style=\"stroke: #A80036; stroke-width: 3.0;\"/></a><!--MD5=[60ac2c0cde89d4308155b0484e57a8ec]\n",
       "link E9 to E6--><a href=\"psysml:45234df1-ac0c-4024-a641-0b76867140fc\" target=\"_top\" title=\"psysml:45234df1-ac0c-4024-a641-0b76867140fc\" xlink:actuate=\"onRequest\" xlink:href=\"psysml:45234df1-ac0c-4024-a641-0b76867140fc\" xlink:show=\"new\" xlink:title=\"psysml:45234df1-ac0c-4024-a641-0b76867140fc\" xlink:type=\"simple\"><path d=\"M124.05,56.85 C137.61,60.25 156.39,73.03 160.72,80.32 \" fill=\"none\" id=\"E9-E6-1\" style=\"stroke: #A80036; stroke-width: 3.0;\"/></a><!--MD5=[b3b23cc2bf184cc2396a16586ca080c6]\n",
       "@startuml\r\n",
       "skinparam ranksep 8\r\n",
       "skinparam rectangle {\r\n",
       " backgroundColor<<block>> LightGreen\r\n",
       "}\r\n",
       " \r\n",
       "package \"AliasTest\" as E1  [[psysml:6f25d091-f985-426b-8055-e92e3d48be4a ]]  {\r\n",
       "rec def \"P1\" as E2  << (B,green) >> [[psysml:258ca4bf-faa9-4328-8179-2aed0dfcbbf6 ]] {\r\n",
       "portin \"porig1\" as E3  << (P,blue) port>> [[psysml:9209c45f-41ff-489f-bc17-bfe3af02fc93 ]] \r\n",
       "portin \"porig1\" as E4  << (P,blue) port>> [[psysml:9209c45f-41ff-489f-bc17-bfe3af02fc93 ]] \r\n",
       "}\r\n",
       "rec usage \"p1: P1\" as E5  [[psysml:a26c0441-e754-421d-8c32-eea1ef6cab52 ]] {\r\n",
       "portin \"po1\" as E6  << (P,blue) port>> [[psysml:aa893173-d0db-4be8-bf63-d1ddc32421c6 ]] \r\n",
       "}\r\n",
       "rec usage \"p2: P1\" as E7  [[psysml:5c32a7f3-b309-4357-ac47-765b0be17034 ]] {\r\n",
       "portin \"pdest\" as E8  << (P,blue) port>> [[psysml:cb10c624-640d-45a1-89db-7833fbdc21f8 ]] \r\n",
       "portin \"pdest\" as E9  << (P,blue) port>> [[psysml:cb10c624-640d-45a1-89db-7833fbdc21f8 ]] \r\n",
       "}\r\n",
       "E9 -[thickness=3]- E6 [[psysml:df73490b-6554-48a2-b250-43b559083f0a ]] \r\n",
       "E9 -[thickness=3]- E6 [[psysml:45234df1-ac0c-4024-a641-0b76867140fc ]] \r\n",
       "}\r\n",
       "@enduml\r\n",
       "\n",
       "PlantUML version 1.2020.13(Sat Jun 13 12:26:38 UTC 2020)\n",
       "(EPL source distribution)\n",
       "Java Runtime: OpenJDK Runtime Environment\n",
       "JVM: OpenJDK 64-Bit Server VM\n",
       "Default Encoding: UTF-8\n",
       "Language: en\n",
       "Country: null\n",
       "--></g></svg>"
      ]
     },
     "execution_count": 33,
     "metadata": {},
     "output_type": "execute_result"
    }
   ],
   "source": [
    "%viz --style=\"PLANTUML\" --view=\"Interconnection\" \"AliasTest\""
   ]
  },
  {
   "cell_type": "code",
   "execution_count": 34,
   "id": "collected-milton",
   "metadata": {
    "execution": {
     "iopub.execute_input": "2021-03-26T13:00:36.151629Z",
     "iopub.status.busy": "2021-03-26T13:00:36.151157Z",
     "iopub.status.idle": "2021-03-26T13:00:36.155837Z",
     "shell.execute_reply": "2021-03-26T13:00:36.156253Z"
    }
   },
   "outputs": [
    {
     "data": {
      "image/svg+xml": [
       "<?xml version=\"1.0\" encoding=\"UTF-8\" standalone=\"no\"?><svg xmlns=\"http://www.w3.org/2000/svg\" xmlns:xlink=\"http://www.w3.org/1999/xlink\" contentScriptType=\"application/ecmascript\" contentStyleType=\"text/css\" height=\"12px\" preserveAspectRatio=\"none\" style=\"width:12px;height:12px;\" version=\"1.1\" viewBox=\"0 0 12 12\" width=\"12px\" zoomAndPan=\"magnify\"><defs/><g><!--MD5=[6a4cb978cab31700e1ce5529f947a75d]\n",
       "@startuml\r\n",
       "skinparam ranksep 8\r\n",
       " \r\n",
       "@enduml\r\n",
       "\n",
       "PlantUML version 1.2020.13(Sat Jun 13 12:26:38 UTC 2020)\n",
       "(EPL source distribution)\n",
       "Java Runtime: OpenJDK Runtime Environment\n",
       "JVM: OpenJDK 64-Bit Server VM\n",
       "Default Encoding: UTF-8\n",
       "Language: en\n",
       "Country: null\n",
       "--></g></svg>"
      ]
     },
     "execution_count": 34,
     "metadata": {},
     "output_type": "execute_result"
    }
   ],
   "source": [
    "%viz --style=\"PLANTUML\" --view=\"Action\" \"AliasTest\""
   ]
  },
  {
   "cell_type": "code",
   "execution_count": 35,
   "id": "sophisticated-trial",
   "metadata": {
    "execution": {
     "iopub.execute_input": "2021-03-26T13:00:36.208212Z",
     "iopub.status.busy": "2021-03-26T13:00:36.207518Z",
     "iopub.status.idle": "2021-03-26T13:00:36.264320Z",
     "shell.execute_reply": "2021-03-26T13:00:36.263106Z"
    }
   },
   "outputs": [
    {
     "data": {
      "image/svg+xml": [
       "<?xml version=\"1.0\" encoding=\"UTF-8\" standalone=\"no\"?><svg xmlns=\"http://www.w3.org/2000/svg\" xmlns:xlink=\"http://www.w3.org/1999/xlink\" contentScriptType=\"application/ecmascript\" contentStyleType=\"text/css\" height=\"287px\" preserveAspectRatio=\"none\" style=\"width:285px;height:287px;\" version=\"1.1\" viewBox=\"0 0 285 287\" width=\"285px\" zoomAndPan=\"magnify\"><defs><filter height=\"300%\" id=\"f1pvxdkfttatop\" width=\"300%\" x=\"-1\" y=\"-1\"><feGaussianBlur result=\"blurOut\" stdDeviation=\"2.0\"/><feColorMatrix in=\"blurOut\" result=\"blurOut2\" type=\"matrix\" values=\"0 0 0 0 0 0 0 0 0 0 0 0 0 0 0 0 0 0 .4 0\"/><feOffset dx=\"4.0\" dy=\"4.0\" in=\"blurOut2\" result=\"blurOut3\"/><feBlend in=\"SourceGraphic\" in2=\"blurOut3\" mode=\"normal\"/></filter></defs><g><!--MD5=[fbc87193dbaf4d95561dea2c320d4a47]\n",
       "cluster E1--><a href=\"psysml:6f25d091-f985-426b-8055-e92e3d48be4a\" target=\"_top\" title=\"psysml:6f25d091-f985-426b-8055-e92e3d48be4a\" xlink:actuate=\"onRequest\" xlink:href=\"psysml:6f25d091-f985-426b-8055-e92e3d48be4a\" xlink:show=\"new\" xlink:title=\"psysml:6f25d091-f985-426b-8055-e92e3d48be4a\" xlink:type=\"simple\"><polygon fill=\"#FFFFFF\" filter=\"url(#f1pvxdkfttatop)\" points=\"16,6,94,6,101,28.2969,263,28.2969,263,275,16,275,16,6\" style=\"stroke: #000000; stroke-width: 1.5;\"/><line style=\"stroke: #000000; stroke-width: 1.5;\" x1=\"16\" x2=\"101\" y1=\"28.2969\" y2=\"28.2969\"/><text fill=\"#000000\" font-family=\"sans-serif\" font-size=\"14\" font-weight=\"bold\" lengthAdjust=\"spacingAndGlyphs\" textLength=\"72\" x=\"20\" y=\"20.9951\">AliasTest</text></a><!--MD5=[b4997ac47864f28c2f74865a473b2911]\n",
       "class E2--><a href=\"psysml:258ca4bf-faa9-4328-8179-2aed0dfcbbf6\" target=\"_top\" title=\"psysml:258ca4bf-faa9-4328-8179-2aed0dfcbbf6\" xlink:actuate=\"onRequest\" xlink:href=\"psysml:258ca4bf-faa9-4328-8179-2aed0dfcbbf6\" xlink:show=\"new\" xlink:title=\"psysml:258ca4bf-faa9-4328-8179-2aed0dfcbbf6\" xlink:type=\"simple\"><rect fill=\"#FEFECE\" filter=\"url(#f1pvxdkfttatop)\" height=\"69.6094\" id=\"E2\" style=\"stroke: #A80036; stroke-width: 1.5;\" width=\"92\" x=\"93\" y=\"189\"/><ellipse cx=\"127.8\" cy=\"205\" fill=\"#008000\" rx=\"11\" ry=\"11\" style=\"stroke: #A80036; stroke-width: 1.0;\"/><path d=\"M126.7063,205.375 L126.7063,209.0469 L128.3313,209.0469 Q129.5031,209.0469 129.9719,208.6563 Q130.4406,208.25 130.4406,207.25 Q130.4406,206.25 129.9406,205.8125 Q129.4563,205.375 128.3313,205.375 L126.7063,205.375 Z M126.7063,200.5469 L126.7063,203.4219 L128.3313,203.4219 Q129.2531,203.4219 129.6438,203.0938 Q130.05,202.75 130.05,202 Q130.05,201.2344 129.6438,200.8906 Q129.2375,200.5469 128.3313,200.5469 L126.7063,200.5469 Z M124.3313,198.5938 L128.3313,198.5938 Q130.3938,198.5938 131.4406,199.375 Q132.4875,200.1563 132.4875,201.7188 Q132.4875,202.9219 131.8625,203.5938 Q131.2531,204.2656 130.0656,204.375 Q131.4875,204.5156 132.2063,205.3281 Q132.925,206.1406 132.925,207.5938 Q132.925,209.3906 131.8469,210.2031 Q130.7688,211 128.3313,211 L124.3313,211 L124.3313,198.5938 Z \"/><text fill=\"#000000\" font-family=\"sans-serif\" font-size=\"12\" lengthAdjust=\"spacingAndGlyphs\" textLength=\"16\" x=\"146.2\" y=\"209.1543\">P1</text><line style=\"stroke: #A80036; stroke-width: 1.5;\" x1=\"94\" x2=\"184\" y1=\"221\" y2=\"221\"/><text fill=\"#000000\" font-family=\"sans-serif\" font-size=\"11\" lengthAdjust=\"spacingAndGlyphs\" textLength=\"36\" x=\"99\" y=\"252.0151\">porig1</text><text fill=\"#000000\" font-family=\"sans-serif\" font-size=\"11\" font-weight=\"bold\" lengthAdjust=\"spacingAndGlyphs\" textLength=\"15\" x=\"139\" y=\"252.0151\">as</text><text fill=\"#000000\" font-family=\"sans-serif\" font-size=\"11\" lengthAdjust=\"spacingAndGlyphs\" textLength=\"21\" x=\"158\" y=\"252.0151\">po1</text><line style=\"stroke: #A80036; stroke-width: 1.0;\" x1=\"94\" x2=\"124\" y1=\"235.4023\" y2=\"235.4023\"/><text fill=\"#000000\" font-family=\"sans-serif\" font-size=\"11\" lengthAdjust=\"spacingAndGlyphs\" textLength=\"30\" x=\"124\" y=\"238.7104\">ports</text><line style=\"stroke: #A80036; stroke-width: 1.0;\" x1=\"154\" x2=\"184\" y1=\"235.4023\" y2=\"235.4023\"/></a><!--MD5=[ebbe1d658d1005bcc118a6aa81145e00]\n",
       "class E4--><a href=\"psysml:a26c0441-e754-421d-8c32-eea1ef6cab52\" target=\"_top\" title=\"psysml:a26c0441-e754-421d-8c32-eea1ef6cab52\" xlink:actuate=\"onRequest\" xlink:href=\"psysml:a26c0441-e754-421d-8c32-eea1ef6cab52\" xlink:show=\"new\" xlink:title=\"psysml:a26c0441-e754-421d-8c32-eea1ef6cab52\" xlink:type=\"simple\"><rect fill=\"#FEFECE\" filter=\"url(#f1pvxdkfttatop)\" height=\"88.3516\" id=\"E4\" rx=\"10\" ry=\"10\" style=\"stroke: #A80036; stroke-width: 1.5;\" width=\"92\" x=\"155\" y=\"41\"/><ellipse cx=\"179\" cy=\"59.9688\" fill=\"#32CD32\" rx=\"11\" ry=\"11\" style=\"stroke: #A80036; stroke-width: 1.0;\"/><path d=\"M178.7969,55.6406 L178.7969,59.2656 L179.7969,59.2656 Q181,59.2656 181.4844,58.8594 Q181.9688,58.4531 181.9688,57.4531 Q181.9688,56.4531 181.4844,56.0469 Q181,55.6406 179.7969,55.6406 L178.7969,55.6406 Z M176.3438,53.5781 L179.7031,53.5781 Q182.2656,53.5781 183.3906,54.5 Q184.5156,55.4063 184.5156,57.4531 Q184.5156,59.5 183.3906,60.4219 Q182.2656,61.3281 179.7031,61.3281 L178.7969,61.3281 L178.7969,65.9688 L176.3438,65.9688 L176.3438,53.5781 Z \"/><text fill=\"#000000\" font-family=\"sans-serif\" font-size=\"12\" font-style=\"italic\" lengthAdjust=\"spacingAndGlyphs\" textLength=\"40\" x=\"195\" y=\"57.1387\">«part»</text><text fill=\"#000000\" font-family=\"sans-serif\" font-size=\"12\" lengthAdjust=\"spacingAndGlyphs\" textLength=\"40\" x=\"195\" y=\"71.1074\">p1: P1</text><line style=\"stroke: #A80036; stroke-width: 1.5;\" x1=\"156\" x2=\"246\" y1=\"78.9375\" y2=\"78.9375\"/><text fill=\"#000000\" font-family=\"sans-serif\" font-size=\"11\" lengthAdjust=\"spacingAndGlyphs\" textLength=\"21\" x=\"161\" y=\"109.9526\">po1</text><text fill=\"#000000\" font-family=\"sans-serif\" font-size=\"11\" font-style=\"italic\" lengthAdjust=\"spacingAndGlyphs\" textLength=\"80\" x=\"161\" y=\"122.7573\">:&gt;&gt;P1::porig1</text><line style=\"stroke: #A80036; stroke-width: 1.0;\" x1=\"156\" x2=\"186\" y1=\"93.3398\" y2=\"93.3398\"/><text fill=\"#000000\" font-family=\"sans-serif\" font-size=\"11\" lengthAdjust=\"spacingAndGlyphs\" textLength=\"30\" x=\"186\" y=\"96.6479\">ports</text><line style=\"stroke: #A80036; stroke-width: 1.0;\" x1=\"216\" x2=\"246\" y1=\"93.3398\" y2=\"93.3398\"/></a><!--MD5=[60a26617385b1d2d0262a64233df1f8d]\n",
       "class E6--><a href=\"psysml:5c32a7f3-b309-4357-ac47-765b0be17034\" target=\"_top\" title=\"psysml:5c32a7f3-b309-4357-ac47-765b0be17034\" xlink:actuate=\"onRequest\" xlink:href=\"psysml:5c32a7f3-b309-4357-ac47-765b0be17034\" xlink:show=\"new\" xlink:title=\"psysml:5c32a7f3-b309-4357-ac47-765b0be17034\" xlink:type=\"simple\"><rect fill=\"#FEFECE\" filter=\"url(#f1pvxdkfttatop)\" height=\"75.5469\" id=\"E6\" rx=\"10\" ry=\"10\" style=\"stroke: #A80036; stroke-width: 1.5;\" width=\"88\" x=\"32\" y=\"47\"/><ellipse cx=\"54.2\" cy=\"65.9688\" fill=\"#32CD32\" rx=\"11\" ry=\"11\" style=\"stroke: #A80036; stroke-width: 1.0;\"/><path d=\"M53.9969,61.6406 L53.9969,65.2656 L54.9969,65.2656 Q56.2,65.2656 56.6844,64.8594 Q57.1688,64.4531 57.1688,63.4531 Q57.1688,62.4531 56.6844,62.0469 Q56.2,61.6406 54.9969,61.6406 L53.9969,61.6406 Z M51.5438,59.5781 L54.9031,59.5781 Q57.4656,59.5781 58.5906,60.5 Q59.7156,61.4063 59.7156,63.4531 Q59.7156,65.5 58.5906,66.4219 Q57.4656,67.3281 54.9031,67.3281 L53.9969,67.3281 L53.9969,71.9688 L51.5438,71.9688 L51.5438,59.5781 Z \"/><text fill=\"#000000\" font-family=\"sans-serif\" font-size=\"12\" font-style=\"italic\" lengthAdjust=\"spacingAndGlyphs\" textLength=\"40\" x=\"69.8\" y=\"63.1387\">«part»</text><text fill=\"#000000\" font-family=\"sans-serif\" font-size=\"12\" lengthAdjust=\"spacingAndGlyphs\" textLength=\"40\" x=\"69.8\" y=\"77.1074\">p2: P1</text><line style=\"stroke: #A80036; stroke-width: 1.5;\" x1=\"33\" x2=\"119\" y1=\"84.9375\" y2=\"84.9375\"/><text fill=\"#000000\" font-family=\"sans-serif\" font-size=\"11\" lengthAdjust=\"spacingAndGlyphs\" textLength=\"32\" x=\"38\" y=\"115.9526\">pdest</text><text fill=\"#000000\" font-family=\"sans-serif\" font-size=\"11\" font-weight=\"bold\" lengthAdjust=\"spacingAndGlyphs\" textLength=\"15\" x=\"74\" y=\"115.9526\">as</text><text fill=\"#000000\" font-family=\"sans-serif\" font-size=\"11\" lengthAdjust=\"spacingAndGlyphs\" textLength=\"21\" x=\"93\" y=\"115.9526\">pd1</text><line style=\"stroke: #A80036; stroke-width: 1.0;\" x1=\"33\" x2=\"61\" y1=\"99.3398\" y2=\"99.3398\"/><text fill=\"#000000\" font-family=\"sans-serif\" font-size=\"11\" lengthAdjust=\"spacingAndGlyphs\" textLength=\"30\" x=\"61\" y=\"102.6479\">ports</text><line style=\"stroke: #A80036; stroke-width: 1.0;\" x1=\"91\" x2=\"119\" y1=\"99.3398\" y2=\"99.3398\"/></a><!--MD5=[185131fc0dcab0a4505a2ebe144e961b]\n",
       "link E4 to E2--><a href=\"psysml:743cbcb0-f678-48b7-bb90-7aa18ca2c39d\" target=\"_top\" title=\"psysml:743cbcb0-f678-48b7-bb90-7aa18ca2c39d\" xlink:actuate=\"onRequest\" xlink:href=\"psysml:743cbcb0-f678-48b7-bb90-7aa18ca2c39d\" xlink:show=\"new\" xlink:title=\"psysml:743cbcb0-f678-48b7-bb90-7aa18ca2c39d\" xlink:type=\"simple\"><path d=\"M181.38,129.35 C175.5,142.35 168.98,156.75 162.86,170.29 \" fill=\"none\" id=\"E4-&gt;E2\" style=\"stroke: #A80036; stroke-width: 1.0;\"/><polygon fill=\"#FFFFFF\" points=\"154.57,188.61,156.0203,168.4135,168.7767,174.1819,154.57,188.61\" style=\"stroke: #A80036; stroke-width: 1.0;\"/><ellipse cx=\"160.1912\" cy=\"164.0439\" fill=\"#A80036\" rx=\"2\" ry=\"2\" style=\"stroke: #A80036; stroke-width: 1.0;\"/><ellipse cx=\"169.3029\" cy=\"168.1642\" fill=\"#A80036\" rx=\"2\" ry=\"2\" style=\"stroke: #A80036; stroke-width: 1.0;\"/></a><!--MD5=[2351f337d6de0f557b50152ba70847b5]\n",
       "link E6 to E2--><a href=\"psysml:a1f896e7-ae1f-4795-a4ef-b600067d493f\" target=\"_top\" title=\"psysml:a1f896e7-ae1f-4795-a4ef-b600067d493f\" xlink:actuate=\"onRequest\" xlink:href=\"psysml:a1f896e7-ae1f-4795-a4ef-b600067d493f\" xlink:show=\"new\" xlink:title=\"psysml:a1f896e7-ae1f-4795-a4ef-b600067d493f\" xlink:type=\"simple\"><path d=\"M93.05,123.07 C99.73,137.61 107.53,154.55 114.77,170.32 \" fill=\"none\" id=\"E6-&gt;E2\" style=\"stroke: #A80036; stroke-width: 1.0;\"/><polygon fill=\"#FFFFFF\" points=\"123.24,188.72,108.9415,174.3829,121.6608,168.5332,123.24,188.72\" style=\"stroke: #A80036; stroke-width: 1.0;\"/><ellipse cx=\"108.3769\" cy=\"168.3687\" fill=\"#A80036\" rx=\"2\" ry=\"2\" style=\"stroke: #A80036; stroke-width: 1.0;\"/><ellipse cx=\"117.4621\" cy=\"164.1903\" fill=\"#A80036\" rx=\"2\" ry=\"2\" style=\"stroke: #A80036; stroke-width: 1.0;\"/></a><!--MD5=[6e0234505faeeeca1ba0e2a60b0e1101]\n",
       "@startuml\r\n",
       " \r\n",
       "package \"AliasTest\" as E1  [[psysml:6f25d091-f985-426b-8055-e92e3d48be4a ]]  {\r\n",
       "comp def \"P1\" as E2  << (B,green) >> [[psysml:258ca4bf-faa9-4328-8179-2aed0dfcbbf6 ]] {\r\n",
       "- - ports - -\r\n",
       "porig1 <b>as</b> po1 \r\n",
       "}\r\n",
       "comp usage \"p1: P1\" as E4  << (P,limegreen) part>> [[psysml:a26c0441-e754-421d-8c32-eea1ef6cab52 ]] {\r\n",
       "- - ports - -\r\n",
       "po1\\n//:>>P1::porig1// \r\n",
       "}\r\n",
       "comp usage \"p2: P1\" as E6  << (P,limegreen) part>> [[psysml:5c32a7f3-b309-4357-ac47-765b0be17034 ]] {\r\n",
       "- - ports - -\r\n",
       "pdest <b>as</b> pd1 \r\n",
       "}\r\n",
       "E4 - -:|> E2 [[psysml:743cbcb0-f678-48b7-bb90-7aa18ca2c39d ]] \r\n",
       "E6 - -:|> E2 [[psysml:a1f896e7-ae1f-4795-a4ef-b600067d493f ]] \r\n",
       "}\r\n",
       "@enduml\r\n",
       "\n",
       "PlantUML version 1.2020.13(Sat Jun 13 12:26:38 UTC 2020)\n",
       "(EPL source distribution)\n",
       "Java Runtime: OpenJDK Runtime Environment\n",
       "JVM: OpenJDK 64-Bit Server VM\n",
       "Default Encoding: UTF-8\n",
       "Language: en\n",
       "Country: null\n",
       "--></g></svg>"
      ]
     },
     "execution_count": 35,
     "metadata": {},
     "output_type": "execute_result"
    }
   ],
   "source": [
    "%viz --style=\"PLANTUML\" --view=\"Sequence\" \"AliasTest\""
   ]
  },
  {
   "cell_type": "code",
   "execution_count": 36,
   "id": "satisfactory-sperm",
   "metadata": {
    "execution": {
     "iopub.execute_input": "2021-03-26T13:00:36.316364Z",
     "iopub.status.busy": "2021-03-26T13:00:36.315434Z",
     "iopub.status.idle": "2021-03-26T13:00:36.376516Z",
     "shell.execute_reply": "2021-03-26T13:00:36.375305Z"
    }
   },
   "outputs": [
    {
     "data": {
      "image/svg+xml": [
       "<?xml version=\"1.0\" encoding=\"UTF-8\" standalone=\"no\"?><svg xmlns=\"http://www.w3.org/2000/svg\" xmlns:xlink=\"http://www.w3.org/1999/xlink\" contentScriptType=\"application/ecmascript\" contentStyleType=\"text/css\" height=\"287px\" preserveAspectRatio=\"none\" style=\"width:285px;height:287px;\" version=\"1.1\" viewBox=\"0 0 285 287\" width=\"285px\" zoomAndPan=\"magnify\"><defs><filter height=\"300%\" id=\"f1pvxdkfttatop\" width=\"300%\" x=\"-1\" y=\"-1\"><feGaussianBlur result=\"blurOut\" stdDeviation=\"2.0\"/><feColorMatrix in=\"blurOut\" result=\"blurOut2\" type=\"matrix\" values=\"0 0 0 0 0 0 0 0 0 0 0 0 0 0 0 0 0 0 .4 0\"/><feOffset dx=\"4.0\" dy=\"4.0\" in=\"blurOut2\" result=\"blurOut3\"/><feBlend in=\"SourceGraphic\" in2=\"blurOut3\" mode=\"normal\"/></filter></defs><g><!--MD5=[fbc87193dbaf4d95561dea2c320d4a47]\n",
       "cluster E1--><a href=\"psysml:6f25d091-f985-426b-8055-e92e3d48be4a\" target=\"_top\" title=\"psysml:6f25d091-f985-426b-8055-e92e3d48be4a\" xlink:actuate=\"onRequest\" xlink:href=\"psysml:6f25d091-f985-426b-8055-e92e3d48be4a\" xlink:show=\"new\" xlink:title=\"psysml:6f25d091-f985-426b-8055-e92e3d48be4a\" xlink:type=\"simple\"><polygon fill=\"#FFFFFF\" filter=\"url(#f1pvxdkfttatop)\" points=\"16,6,94,6,101,28.2969,263,28.2969,263,275,16,275,16,6\" style=\"stroke: #000000; stroke-width: 1.5;\"/><line style=\"stroke: #000000; stroke-width: 1.5;\" x1=\"16\" x2=\"101\" y1=\"28.2969\" y2=\"28.2969\"/><text fill=\"#000000\" font-family=\"sans-serif\" font-size=\"14\" font-weight=\"bold\" lengthAdjust=\"spacingAndGlyphs\" textLength=\"72\" x=\"20\" y=\"20.9951\">AliasTest</text></a><!--MD5=[b4997ac47864f28c2f74865a473b2911]\n",
       "class E2--><a href=\"psysml:258ca4bf-faa9-4328-8179-2aed0dfcbbf6\" target=\"_top\" title=\"psysml:258ca4bf-faa9-4328-8179-2aed0dfcbbf6\" xlink:actuate=\"onRequest\" xlink:href=\"psysml:258ca4bf-faa9-4328-8179-2aed0dfcbbf6\" xlink:show=\"new\" xlink:title=\"psysml:258ca4bf-faa9-4328-8179-2aed0dfcbbf6\" xlink:type=\"simple\"><rect fill=\"#FEFECE\" filter=\"url(#f1pvxdkfttatop)\" height=\"69.6094\" id=\"E2\" style=\"stroke: #A80036; stroke-width: 1.5;\" width=\"92\" x=\"93\" y=\"189\"/><ellipse cx=\"127.8\" cy=\"205\" fill=\"#008000\" rx=\"11\" ry=\"11\" style=\"stroke: #A80036; stroke-width: 1.0;\"/><path d=\"M126.7063,205.375 L126.7063,209.0469 L128.3313,209.0469 Q129.5031,209.0469 129.9719,208.6563 Q130.4406,208.25 130.4406,207.25 Q130.4406,206.25 129.9406,205.8125 Q129.4563,205.375 128.3313,205.375 L126.7063,205.375 Z M126.7063,200.5469 L126.7063,203.4219 L128.3313,203.4219 Q129.2531,203.4219 129.6438,203.0938 Q130.05,202.75 130.05,202 Q130.05,201.2344 129.6438,200.8906 Q129.2375,200.5469 128.3313,200.5469 L126.7063,200.5469 Z M124.3313,198.5938 L128.3313,198.5938 Q130.3938,198.5938 131.4406,199.375 Q132.4875,200.1563 132.4875,201.7188 Q132.4875,202.9219 131.8625,203.5938 Q131.2531,204.2656 130.0656,204.375 Q131.4875,204.5156 132.2063,205.3281 Q132.925,206.1406 132.925,207.5938 Q132.925,209.3906 131.8469,210.2031 Q130.7688,211 128.3313,211 L124.3313,211 L124.3313,198.5938 Z \"/><text fill=\"#000000\" font-family=\"sans-serif\" font-size=\"12\" lengthAdjust=\"spacingAndGlyphs\" textLength=\"16\" x=\"146.2\" y=\"209.1543\">P1</text><line style=\"stroke: #A80036; stroke-width: 1.5;\" x1=\"94\" x2=\"184\" y1=\"221\" y2=\"221\"/><text fill=\"#000000\" font-family=\"sans-serif\" font-size=\"11\" lengthAdjust=\"spacingAndGlyphs\" textLength=\"36\" x=\"99\" y=\"252.0151\">porig1</text><text fill=\"#000000\" font-family=\"sans-serif\" font-size=\"11\" font-weight=\"bold\" lengthAdjust=\"spacingAndGlyphs\" textLength=\"15\" x=\"139\" y=\"252.0151\">as</text><text fill=\"#000000\" font-family=\"sans-serif\" font-size=\"11\" lengthAdjust=\"spacingAndGlyphs\" textLength=\"21\" x=\"158\" y=\"252.0151\">po1</text><line style=\"stroke: #A80036; stroke-width: 1.0;\" x1=\"94\" x2=\"124\" y1=\"235.4023\" y2=\"235.4023\"/><text fill=\"#000000\" font-family=\"sans-serif\" font-size=\"11\" lengthAdjust=\"spacingAndGlyphs\" textLength=\"30\" x=\"124\" y=\"238.7104\">ports</text><line style=\"stroke: #A80036; stroke-width: 1.0;\" x1=\"154\" x2=\"184\" y1=\"235.4023\" y2=\"235.4023\"/></a><!--MD5=[ebbe1d658d1005bcc118a6aa81145e00]\n",
       "class E4--><a href=\"psysml:a26c0441-e754-421d-8c32-eea1ef6cab52\" target=\"_top\" title=\"psysml:a26c0441-e754-421d-8c32-eea1ef6cab52\" xlink:actuate=\"onRequest\" xlink:href=\"psysml:a26c0441-e754-421d-8c32-eea1ef6cab52\" xlink:show=\"new\" xlink:title=\"psysml:a26c0441-e754-421d-8c32-eea1ef6cab52\" xlink:type=\"simple\"><rect fill=\"#FEFECE\" filter=\"url(#f1pvxdkfttatop)\" height=\"88.3516\" id=\"E4\" rx=\"10\" ry=\"10\" style=\"stroke: #A80036; stroke-width: 1.5;\" width=\"92\" x=\"155\" y=\"41\"/><ellipse cx=\"179\" cy=\"59.9688\" fill=\"#32CD32\" rx=\"11\" ry=\"11\" style=\"stroke: #A80036; stroke-width: 1.0;\"/><path d=\"M178.7969,55.6406 L178.7969,59.2656 L179.7969,59.2656 Q181,59.2656 181.4844,58.8594 Q181.9688,58.4531 181.9688,57.4531 Q181.9688,56.4531 181.4844,56.0469 Q181,55.6406 179.7969,55.6406 L178.7969,55.6406 Z M176.3438,53.5781 L179.7031,53.5781 Q182.2656,53.5781 183.3906,54.5 Q184.5156,55.4063 184.5156,57.4531 Q184.5156,59.5 183.3906,60.4219 Q182.2656,61.3281 179.7031,61.3281 L178.7969,61.3281 L178.7969,65.9688 L176.3438,65.9688 L176.3438,53.5781 Z \"/><text fill=\"#000000\" font-family=\"sans-serif\" font-size=\"12\" font-style=\"italic\" lengthAdjust=\"spacingAndGlyphs\" textLength=\"40\" x=\"195\" y=\"57.1387\">«part»</text><text fill=\"#000000\" font-family=\"sans-serif\" font-size=\"12\" lengthAdjust=\"spacingAndGlyphs\" textLength=\"40\" x=\"195\" y=\"71.1074\">p1: P1</text><line style=\"stroke: #A80036; stroke-width: 1.5;\" x1=\"156\" x2=\"246\" y1=\"78.9375\" y2=\"78.9375\"/><text fill=\"#000000\" font-family=\"sans-serif\" font-size=\"11\" lengthAdjust=\"spacingAndGlyphs\" textLength=\"21\" x=\"161\" y=\"109.9526\">po1</text><text fill=\"#000000\" font-family=\"sans-serif\" font-size=\"11\" font-style=\"italic\" lengthAdjust=\"spacingAndGlyphs\" textLength=\"80\" x=\"161\" y=\"122.7573\">:&gt;&gt;P1::porig1</text><line style=\"stroke: #A80036; stroke-width: 1.0;\" x1=\"156\" x2=\"186\" y1=\"93.3398\" y2=\"93.3398\"/><text fill=\"#000000\" font-family=\"sans-serif\" font-size=\"11\" lengthAdjust=\"spacingAndGlyphs\" textLength=\"30\" x=\"186\" y=\"96.6479\">ports</text><line style=\"stroke: #A80036; stroke-width: 1.0;\" x1=\"216\" x2=\"246\" y1=\"93.3398\" y2=\"93.3398\"/></a><!--MD5=[60a26617385b1d2d0262a64233df1f8d]\n",
       "class E6--><a href=\"psysml:5c32a7f3-b309-4357-ac47-765b0be17034\" target=\"_top\" title=\"psysml:5c32a7f3-b309-4357-ac47-765b0be17034\" xlink:actuate=\"onRequest\" xlink:href=\"psysml:5c32a7f3-b309-4357-ac47-765b0be17034\" xlink:show=\"new\" xlink:title=\"psysml:5c32a7f3-b309-4357-ac47-765b0be17034\" xlink:type=\"simple\"><rect fill=\"#FEFECE\" filter=\"url(#f1pvxdkfttatop)\" height=\"75.5469\" id=\"E6\" rx=\"10\" ry=\"10\" style=\"stroke: #A80036; stroke-width: 1.5;\" width=\"88\" x=\"32\" y=\"47\"/><ellipse cx=\"54.2\" cy=\"65.9688\" fill=\"#32CD32\" rx=\"11\" ry=\"11\" style=\"stroke: #A80036; stroke-width: 1.0;\"/><path d=\"M53.9969,61.6406 L53.9969,65.2656 L54.9969,65.2656 Q56.2,65.2656 56.6844,64.8594 Q57.1688,64.4531 57.1688,63.4531 Q57.1688,62.4531 56.6844,62.0469 Q56.2,61.6406 54.9969,61.6406 L53.9969,61.6406 Z M51.5438,59.5781 L54.9031,59.5781 Q57.4656,59.5781 58.5906,60.5 Q59.7156,61.4063 59.7156,63.4531 Q59.7156,65.5 58.5906,66.4219 Q57.4656,67.3281 54.9031,67.3281 L53.9969,67.3281 L53.9969,71.9688 L51.5438,71.9688 L51.5438,59.5781 Z \"/><text fill=\"#000000\" font-family=\"sans-serif\" font-size=\"12\" font-style=\"italic\" lengthAdjust=\"spacingAndGlyphs\" textLength=\"40\" x=\"69.8\" y=\"63.1387\">«part»</text><text fill=\"#000000\" font-family=\"sans-serif\" font-size=\"12\" lengthAdjust=\"spacingAndGlyphs\" textLength=\"40\" x=\"69.8\" y=\"77.1074\">p2: P1</text><line style=\"stroke: #A80036; stroke-width: 1.5;\" x1=\"33\" x2=\"119\" y1=\"84.9375\" y2=\"84.9375\"/><text fill=\"#000000\" font-family=\"sans-serif\" font-size=\"11\" lengthAdjust=\"spacingAndGlyphs\" textLength=\"32\" x=\"38\" y=\"115.9526\">pdest</text><text fill=\"#000000\" font-family=\"sans-serif\" font-size=\"11\" font-weight=\"bold\" lengthAdjust=\"spacingAndGlyphs\" textLength=\"15\" x=\"74\" y=\"115.9526\">as</text><text fill=\"#000000\" font-family=\"sans-serif\" font-size=\"11\" lengthAdjust=\"spacingAndGlyphs\" textLength=\"21\" x=\"93\" y=\"115.9526\">pd1</text><line style=\"stroke: #A80036; stroke-width: 1.0;\" x1=\"33\" x2=\"61\" y1=\"99.3398\" y2=\"99.3398\"/><text fill=\"#000000\" font-family=\"sans-serif\" font-size=\"11\" lengthAdjust=\"spacingAndGlyphs\" textLength=\"30\" x=\"61\" y=\"102.6479\">ports</text><line style=\"stroke: #A80036; stroke-width: 1.0;\" x1=\"91\" x2=\"119\" y1=\"99.3398\" y2=\"99.3398\"/></a><!--MD5=[185131fc0dcab0a4505a2ebe144e961b]\n",
       "link E4 to E2--><a href=\"psysml:743cbcb0-f678-48b7-bb90-7aa18ca2c39d\" target=\"_top\" title=\"psysml:743cbcb0-f678-48b7-bb90-7aa18ca2c39d\" xlink:actuate=\"onRequest\" xlink:href=\"psysml:743cbcb0-f678-48b7-bb90-7aa18ca2c39d\" xlink:show=\"new\" xlink:title=\"psysml:743cbcb0-f678-48b7-bb90-7aa18ca2c39d\" xlink:type=\"simple\"><path d=\"M181.38,129.35 C175.5,142.35 168.98,156.75 162.86,170.29 \" fill=\"none\" id=\"E4-&gt;E2\" style=\"stroke: #A80036; stroke-width: 1.0;\"/><polygon fill=\"#FFFFFF\" points=\"154.57,188.61,156.0203,168.4135,168.7767,174.1819,154.57,188.61\" style=\"stroke: #A80036; stroke-width: 1.0;\"/><ellipse cx=\"160.1912\" cy=\"164.0439\" fill=\"#A80036\" rx=\"2\" ry=\"2\" style=\"stroke: #A80036; stroke-width: 1.0;\"/><ellipse cx=\"169.3029\" cy=\"168.1642\" fill=\"#A80036\" rx=\"2\" ry=\"2\" style=\"stroke: #A80036; stroke-width: 1.0;\"/></a><!--MD5=[2351f337d6de0f557b50152ba70847b5]\n",
       "link E6 to E2--><a href=\"psysml:a1f896e7-ae1f-4795-a4ef-b600067d493f\" target=\"_top\" title=\"psysml:a1f896e7-ae1f-4795-a4ef-b600067d493f\" xlink:actuate=\"onRequest\" xlink:href=\"psysml:a1f896e7-ae1f-4795-a4ef-b600067d493f\" xlink:show=\"new\" xlink:title=\"psysml:a1f896e7-ae1f-4795-a4ef-b600067d493f\" xlink:type=\"simple\"><path d=\"M93.05,123.07 C99.73,137.61 107.53,154.55 114.77,170.32 \" fill=\"none\" id=\"E6-&gt;E2\" style=\"stroke: #A80036; stroke-width: 1.0;\"/><polygon fill=\"#FFFFFF\" points=\"123.24,188.72,108.9415,174.3829,121.6608,168.5332,123.24,188.72\" style=\"stroke: #A80036; stroke-width: 1.0;\"/><ellipse cx=\"108.3769\" cy=\"168.3687\" fill=\"#A80036\" rx=\"2\" ry=\"2\" style=\"stroke: #A80036; stroke-width: 1.0;\"/><ellipse cx=\"117.4621\" cy=\"164.1903\" fill=\"#A80036\" rx=\"2\" ry=\"2\" style=\"stroke: #A80036; stroke-width: 1.0;\"/></a><!--MD5=[6e0234505faeeeca1ba0e2a60b0e1101]\n",
       "@startuml\r\n",
       " \r\n",
       "package \"AliasTest\" as E1  [[psysml:6f25d091-f985-426b-8055-e92e3d48be4a ]]  {\r\n",
       "comp def \"P1\" as E2  << (B,green) >> [[psysml:258ca4bf-faa9-4328-8179-2aed0dfcbbf6 ]] {\r\n",
       "- - ports - -\r\n",
       "porig1 <b>as</b> po1 \r\n",
       "}\r\n",
       "comp usage \"p1: P1\" as E4  << (P,limegreen) part>> [[psysml:a26c0441-e754-421d-8c32-eea1ef6cab52 ]] {\r\n",
       "- - ports - -\r\n",
       "po1\\n//:>>P1::porig1// \r\n",
       "}\r\n",
       "comp usage \"p2: P1\" as E6  << (P,limegreen) part>> [[psysml:5c32a7f3-b309-4357-ac47-765b0be17034 ]] {\r\n",
       "- - ports - -\r\n",
       "pdest <b>as</b> pd1 \r\n",
       "}\r\n",
       "E4 - -:|> E2 [[psysml:743cbcb0-f678-48b7-bb90-7aa18ca2c39d ]] \r\n",
       "E6 - -:|> E2 [[psysml:a1f896e7-ae1f-4795-a4ef-b600067d493f ]] \r\n",
       "}\r\n",
       "@enduml\r\n",
       "\n",
       "PlantUML version 1.2020.13(Sat Jun 13 12:26:38 UTC 2020)\n",
       "(EPL source distribution)\n",
       "Java Runtime: OpenJDK Runtime Environment\n",
       "JVM: OpenJDK 64-Bit Server VM\n",
       "Default Encoding: UTF-8\n",
       "Language: en\n",
       "Country: null\n",
       "--></g></svg>"
      ]
     },
     "execution_count": 36,
     "metadata": {},
     "output_type": "execute_result"
    }
   ],
   "source": [
    "%viz --style=\"PLANTUML\" --view=\"MIXED\" \"AliasTest\""
   ]
  },
  {
   "cell_type": "code",
   "execution_count": 37,
   "id": "respiratory-criminal",
   "metadata": {
    "execution": {
     "iopub.execute_input": "2021-03-26T13:00:36.427952Z",
     "iopub.status.busy": "2021-03-26T13:00:36.427468Z",
     "iopub.status.idle": "2021-03-26T13:00:36.490404Z",
     "shell.execute_reply": "2021-03-26T13:00:36.489158Z"
    }
   },
   "outputs": [
    {
     "data": {
      "image/svg+xml": [
       "<?xml version=\"1.0\" encoding=\"UTF-8\" standalone=\"no\"?><svg xmlns=\"http://www.w3.org/2000/svg\" xmlns:xlink=\"http://www.w3.org/1999/xlink\" contentScriptType=\"application/ecmascript\" contentStyleType=\"text/css\" height=\"293px\" preserveAspectRatio=\"none\" style=\"width:285px;height:293px;\" version=\"1.1\" viewBox=\"0 0 285 293\" width=\"285px\" zoomAndPan=\"magnify\"><defs/><g><!--MD5=[fbc87193dbaf4d95561dea2c320d4a47]\n",
       "cluster E1--><a href=\"psysml:6f25d091-f985-426b-8055-e92e3d48be4a\" target=\"_top\" title=\"psysml:6f25d091-f985-426b-8055-e92e3d48be4a\" xlink:actuate=\"onRequest\" xlink:href=\"psysml:6f25d091-f985-426b-8055-e92e3d48be4a\" xlink:show=\"new\" xlink:title=\"psysml:6f25d091-f985-426b-8055-e92e3d48be4a\" xlink:type=\"simple\"><polygon fill=\"#FFFFFF\" points=\"16,6,94,6,101,28.2969,263,28.2969,263,281,16,281,16,6\" style=\"stroke: #000000; stroke-width: 1.5;\"/><line style=\"stroke: #000000; stroke-width: 1.5;\" x1=\"16\" x2=\"101\" y1=\"28.2969\" y2=\"28.2969\"/><text fill=\"#000000\" font-family=\"sans-serif\" font-size=\"14\" font-weight=\"bold\" lengthAdjust=\"spacingAndGlyphs\" textLength=\"72\" x=\"20\" y=\"20.9951\">AliasTest</text></a><!--MD5=[b4997ac47864f28c2f74865a473b2911]\n",
       "class E2--><a href=\"psysml:258ca4bf-faa9-4328-8179-2aed0dfcbbf6\" target=\"_top\" title=\"psysml:258ca4bf-faa9-4328-8179-2aed0dfcbbf6\" xlink:actuate=\"onRequest\" xlink:href=\"psysml:258ca4bf-faa9-4328-8179-2aed0dfcbbf6\" xlink:show=\"new\" xlink:title=\"psysml:258ca4bf-faa9-4328-8179-2aed0dfcbbf6\" xlink:type=\"simple\"><rect fill=\"#FFFFFF\" height=\"75.5469\" id=\"E2\" style=\"stroke: #383838; stroke-width: 1.5;\" width=\"92\" x=\"93\" y=\"189\"/><text fill=\"#000000\" font-family=\"sans-serif\" font-size=\"12\" font-style=\"italic\" lengthAdjust=\"spacingAndGlyphs\" textLength=\"64\" x=\"107\" y=\"205.1387\">«part def»</text><text fill=\"#000000\" font-family=\"sans-serif\" font-size=\"12\" lengthAdjust=\"spacingAndGlyphs\" textLength=\"16\" x=\"131\" y=\"219.1074\">P1</text><line style=\"stroke: #383838; stroke-width: 1.5;\" x1=\"94\" x2=\"184\" y1=\"226.9375\" y2=\"226.9375\"/><text fill=\"#000000\" font-family=\"sans-serif\" font-size=\"11\" lengthAdjust=\"spacingAndGlyphs\" textLength=\"36\" x=\"99\" y=\"257.9526\">porig1</text><text fill=\"#000000\" font-family=\"sans-serif\" font-size=\"11\" font-weight=\"bold\" lengthAdjust=\"spacingAndGlyphs\" textLength=\"15\" x=\"139\" y=\"257.9526\">as</text><text fill=\"#000000\" font-family=\"sans-serif\" font-size=\"11\" lengthAdjust=\"spacingAndGlyphs\" textLength=\"21\" x=\"158\" y=\"257.9526\">po1</text><line style=\"stroke: #383838; stroke-width: 1.0;\" x1=\"94\" x2=\"124\" y1=\"241.3398\" y2=\"241.3398\"/><text fill=\"#000000\" font-family=\"sans-serif\" font-size=\"11\" lengthAdjust=\"spacingAndGlyphs\" textLength=\"30\" x=\"124\" y=\"244.6479\">ports</text><line style=\"stroke: #383838; stroke-width: 1.0;\" x1=\"154\" x2=\"184\" y1=\"241.3398\" y2=\"241.3398\"/></a><!--MD5=[ebbe1d658d1005bcc118a6aa81145e00]\n",
       "class E4--><a href=\"psysml:a26c0441-e754-421d-8c32-eea1ef6cab52\" target=\"_top\" title=\"psysml:a26c0441-e754-421d-8c32-eea1ef6cab52\" xlink:actuate=\"onRequest\" xlink:href=\"psysml:a26c0441-e754-421d-8c32-eea1ef6cab52\" xlink:show=\"new\" xlink:title=\"psysml:a26c0441-e754-421d-8c32-eea1ef6cab52\" xlink:type=\"simple\"><rect fill=\"#FFFFFF\" height=\"88.3516\" id=\"E4\" rx=\"10\" ry=\"10\" style=\"stroke: #383838; stroke-width: 1.5;\" width=\"92\" x=\"155\" y=\"41\"/><text fill=\"#000000\" font-family=\"sans-serif\" font-size=\"12\" font-style=\"italic\" lengthAdjust=\"spacingAndGlyphs\" textLength=\"40\" x=\"181\" y=\"57.1387\">«part»</text><text fill=\"#000000\" font-family=\"sans-serif\" font-size=\"12\" lengthAdjust=\"spacingAndGlyphs\" textLength=\"40\" x=\"181\" y=\"71.1074\">p1: P1</text><line style=\"stroke: #383838; stroke-width: 1.5;\" x1=\"156\" x2=\"246\" y1=\"78.9375\" y2=\"78.9375\"/><text fill=\"#000000\" font-family=\"sans-serif\" font-size=\"11\" lengthAdjust=\"spacingAndGlyphs\" textLength=\"21\" x=\"161\" y=\"109.9526\">po1</text><text fill=\"#000000\" font-family=\"sans-serif\" font-size=\"11\" font-style=\"italic\" lengthAdjust=\"spacingAndGlyphs\" textLength=\"80\" x=\"161\" y=\"122.7573\">:&gt;&gt;P1::porig1</text><line style=\"stroke: #383838; stroke-width: 1.0;\" x1=\"156\" x2=\"186\" y1=\"93.3398\" y2=\"93.3398\"/><text fill=\"#000000\" font-family=\"sans-serif\" font-size=\"11\" lengthAdjust=\"spacingAndGlyphs\" textLength=\"30\" x=\"186\" y=\"96.6479\">ports</text><line style=\"stroke: #383838; stroke-width: 1.0;\" x1=\"216\" x2=\"246\" y1=\"93.3398\" y2=\"93.3398\"/></a><!--MD5=[60a26617385b1d2d0262a64233df1f8d]\n",
       "class E6--><a href=\"psysml:5c32a7f3-b309-4357-ac47-765b0be17034\" target=\"_top\" title=\"psysml:5c32a7f3-b309-4357-ac47-765b0be17034\" xlink:actuate=\"onRequest\" xlink:href=\"psysml:5c32a7f3-b309-4357-ac47-765b0be17034\" xlink:show=\"new\" xlink:title=\"psysml:5c32a7f3-b309-4357-ac47-765b0be17034\" xlink:type=\"simple\"><rect fill=\"#FFFFFF\" height=\"75.5469\" id=\"E6\" rx=\"10\" ry=\"10\" style=\"stroke: #383838; stroke-width: 1.5;\" width=\"88\" x=\"32\" y=\"47\"/><text fill=\"#000000\" font-family=\"sans-serif\" font-size=\"12\" font-style=\"italic\" lengthAdjust=\"spacingAndGlyphs\" textLength=\"40\" x=\"56\" y=\"63.1387\">«part»</text><text fill=\"#000000\" font-family=\"sans-serif\" font-size=\"12\" lengthAdjust=\"spacingAndGlyphs\" textLength=\"40\" x=\"56\" y=\"77.1074\">p2: P1</text><line style=\"stroke: #383838; stroke-width: 1.5;\" x1=\"33\" x2=\"119\" y1=\"84.9375\" y2=\"84.9375\"/><text fill=\"#000000\" font-family=\"sans-serif\" font-size=\"11\" lengthAdjust=\"spacingAndGlyphs\" textLength=\"32\" x=\"38\" y=\"115.9526\">pdest</text><text fill=\"#000000\" font-family=\"sans-serif\" font-size=\"11\" font-weight=\"bold\" lengthAdjust=\"spacingAndGlyphs\" textLength=\"15\" x=\"74\" y=\"115.9526\">as</text><text fill=\"#000000\" font-family=\"sans-serif\" font-size=\"11\" lengthAdjust=\"spacingAndGlyphs\" textLength=\"21\" x=\"93\" y=\"115.9526\">pd1</text><line style=\"stroke: #383838; stroke-width: 1.0;\" x1=\"33\" x2=\"61\" y1=\"99.3398\" y2=\"99.3398\"/><text fill=\"#000000\" font-family=\"sans-serif\" font-size=\"11\" lengthAdjust=\"spacingAndGlyphs\" textLength=\"30\" x=\"61\" y=\"102.6479\">ports</text><line style=\"stroke: #383838; stroke-width: 1.0;\" x1=\"91\" x2=\"119\" y1=\"99.3398\" y2=\"99.3398\"/></a><!--MD5=[185131fc0dcab0a4505a2ebe144e961b]\n",
       "link E4 to E2--><a href=\"psysml:743cbcb0-f678-48b7-bb90-7aa18ca2c39d\" target=\"_top\" title=\"psysml:743cbcb0-f678-48b7-bb90-7aa18ca2c39d\" xlink:actuate=\"onRequest\" xlink:href=\"psysml:743cbcb0-f678-48b7-bb90-7aa18ca2c39d\" xlink:show=\"new\" xlink:title=\"psysml:743cbcb0-f678-48b7-bb90-7aa18ca2c39d\" xlink:type=\"simple\"><path d=\"M181.89,129.15 C176.14,142.14 169.74,156.6 163.67,170.29 \" fill=\"none\" id=\"E4-&gt;E2\" style=\"stroke: #383838; stroke-width: 1.0;\"/><polygon fill=\"#FFFFFF\" points=\"155.43,188.9,156.725,168.693,169.5254,174.3632,155.43,188.9\" style=\"stroke: #383838; stroke-width: 1.0;\"/><ellipse cx=\"160.8622\" cy=\"164.2914\" fill=\"#383838\" rx=\"2\" ry=\"2\" style=\"stroke: #383838; stroke-width: 1.0;\"/><ellipse cx=\"170.0053\" cy=\"168.3416\" fill=\"#383838\" rx=\"2\" ry=\"2\" style=\"stroke: #383838; stroke-width: 1.0;\"/></a><!--MD5=[2351f337d6de0f557b50152ba70847b5]\n",
       "link E6 to E2--><a href=\"psysml:a1f896e7-ae1f-4795-a4ef-b600067d493f\" target=\"_top\" title=\"psysml:a1f896e7-ae1f-4795-a4ef-b600067d493f\" xlink:actuate=\"onRequest\" xlink:href=\"psysml:a1f896e7-ae1f-4795-a4ef-b600067d493f\" xlink:show=\"new\" xlink:title=\"psysml:a1f896e7-ae1f-4795-a4ef-b600067d493f\" xlink:type=\"simple\"><path d=\"M92.72,123.15 C99.23,137.63 106.84,154.53 113.98,170.4 \" fill=\"none\" id=\"E6-&gt;E2\" style=\"stroke: #383838; stroke-width: 1.0;\"/><polygon fill=\"#FFFFFF\" points=\"122.2,188.68,108.0257,174.22,120.7951,168.4803,122.2,188.68\" style=\"stroke: #383838; stroke-width: 1.0;\"/><ellipse cx=\"107.5131\" cy=\"168.2011\" fill=\"#383838\" rx=\"2\" ry=\"2\" style=\"stroke: #383838; stroke-width: 1.0;\"/><ellipse cx=\"116.634\" cy=\"164.1014\" fill=\"#383838\" rx=\"2\" ry=\"2\" style=\"stroke: #383838; stroke-width: 1.0;\"/></a><!--MD5=[fc607ecb3b69f5e9c01101f6a9916c0c]\n",
       "@startuml\r\n",
       "skinparam monochrome true\r\n",
       "skinparam classbackgroundcolor white\r\n",
       "skinparam shadowing false\r\n",
       "skinparam wrapWidth 300\r\n",
       "hide circle\r\n",
       "\r\n",
       "package \"AliasTest\" as E1  [[psysml:6f25d091-f985-426b-8055-e92e3d48be4a ]]  {\r\n",
       "comp def \"P1\" as E2  <<(T,blue)part def>> [[psysml:258ca4bf-faa9-4328-8179-2aed0dfcbbf6 ]] {\r\n",
       "- - ports - -\r\n",
       "porig1 <b>as</b> po1 \r\n",
       "}\r\n",
       "comp usage \"p1: P1\" as E4  <<(T,blue)part>> [[psysml:a26c0441-e754-421d-8c32-eea1ef6cab52 ]] {\r\n",
       "- - ports - -\r\n",
       "po1\\n//:>>P1::porig1// \r\n",
       "}\r\n",
       "comp usage \"p2: P1\" as E6  <<(T,blue)part>> [[psysml:5c32a7f3-b309-4357-ac47-765b0be17034 ]] {\r\n",
       "- - ports - -\r\n",
       "pdest <b>as</b> pd1 \r\n",
       "}\r\n",
       "E4 - -:|> E2 [[psysml:743cbcb0-f678-48b7-bb90-7aa18ca2c39d ]] \r\n",
       "E6 - -:|> E2 [[psysml:a1f896e7-ae1f-4795-a4ef-b600067d493f ]] \r\n",
       "}\r\n",
       "@enduml\r\n",
       "\n",
       "PlantUML version 1.2020.13(Sat Jun 13 12:26:38 UTC 2020)\n",
       "(EPL source distribution)\n",
       "Java Runtime: OpenJDK Runtime Environment\n",
       "JVM: OpenJDK 64-Bit Server VM\n",
       "Default Encoding: UTF-8\n",
       "Language: en\n",
       "Country: null\n",
       "--></g></svg>"
      ]
     },
     "execution_count": 37,
     "metadata": {},
     "output_type": "execute_result"
    }
   ],
   "source": [
    "%viz --style=\"DEFAULT\" --view=\"Default\" \"AliasTest\""
   ]
  },
  {
   "cell_type": "code",
   "execution_count": 38,
   "id": "centered-graphic",
   "metadata": {
    "execution": {
     "iopub.execute_input": "2021-03-26T13:00:36.540786Z",
     "iopub.status.busy": "2021-03-26T13:00:36.540397Z",
     "iopub.status.idle": "2021-03-26T13:00:36.599623Z",
     "shell.execute_reply": "2021-03-26T13:00:36.598414Z"
    }
   },
   "outputs": [
    {
     "data": {
      "image/svg+xml": [
       "<?xml version=\"1.0\" encoding=\"UTF-8\" standalone=\"no\"?><svg xmlns=\"http://www.w3.org/2000/svg\" xmlns:xlink=\"http://www.w3.org/1999/xlink\" contentScriptType=\"application/ecmascript\" contentStyleType=\"text/css\" height=\"293px\" preserveAspectRatio=\"none\" style=\"width:285px;height:293px;\" version=\"1.1\" viewBox=\"0 0 285 293\" width=\"285px\" zoomAndPan=\"magnify\"><defs/><g><!--MD5=[fbc87193dbaf4d95561dea2c320d4a47]\n",
       "cluster E1--><a href=\"psysml:6f25d091-f985-426b-8055-e92e3d48be4a\" target=\"_top\" title=\"psysml:6f25d091-f985-426b-8055-e92e3d48be4a\" xlink:actuate=\"onRequest\" xlink:href=\"psysml:6f25d091-f985-426b-8055-e92e3d48be4a\" xlink:show=\"new\" xlink:title=\"psysml:6f25d091-f985-426b-8055-e92e3d48be4a\" xlink:type=\"simple\"><polygon fill=\"#FFFFFF\" points=\"16,6,94,6,101,28.2969,263,28.2969,263,281,16,281,16,6\" style=\"stroke: #000000; stroke-width: 1.5;\"/><line style=\"stroke: #000000; stroke-width: 1.5;\" x1=\"16\" x2=\"101\" y1=\"28.2969\" y2=\"28.2969\"/><text fill=\"#000000\" font-family=\"sans-serif\" font-size=\"14\" font-weight=\"bold\" lengthAdjust=\"spacingAndGlyphs\" textLength=\"72\" x=\"20\" y=\"20.9951\">AliasTest</text></a><!--MD5=[b4997ac47864f28c2f74865a473b2911]\n",
       "class E2--><a href=\"psysml:258ca4bf-faa9-4328-8179-2aed0dfcbbf6\" target=\"_top\" title=\"psysml:258ca4bf-faa9-4328-8179-2aed0dfcbbf6\" xlink:actuate=\"onRequest\" xlink:href=\"psysml:258ca4bf-faa9-4328-8179-2aed0dfcbbf6\" xlink:show=\"new\" xlink:title=\"psysml:258ca4bf-faa9-4328-8179-2aed0dfcbbf6\" xlink:type=\"simple\"><rect fill=\"#FFFFFF\" height=\"75.5469\" id=\"E2\" style=\"stroke: #383838; stroke-width: 1.5;\" width=\"92\" x=\"93\" y=\"189\"/><text fill=\"#000000\" font-family=\"sans-serif\" font-size=\"12\" font-style=\"italic\" lengthAdjust=\"spacingAndGlyphs\" textLength=\"64\" x=\"107\" y=\"205.1387\">«part def»</text><text fill=\"#000000\" font-family=\"sans-serif\" font-size=\"12\" lengthAdjust=\"spacingAndGlyphs\" textLength=\"16\" x=\"131\" y=\"219.1074\">P1</text><line style=\"stroke: #383838; stroke-width: 1.5;\" x1=\"94\" x2=\"184\" y1=\"226.9375\" y2=\"226.9375\"/><text fill=\"#000000\" font-family=\"sans-serif\" font-size=\"11\" lengthAdjust=\"spacingAndGlyphs\" textLength=\"36\" x=\"99\" y=\"257.9526\">porig1</text><text fill=\"#000000\" font-family=\"sans-serif\" font-size=\"11\" font-weight=\"bold\" lengthAdjust=\"spacingAndGlyphs\" textLength=\"15\" x=\"139\" y=\"257.9526\">as</text><text fill=\"#000000\" font-family=\"sans-serif\" font-size=\"11\" lengthAdjust=\"spacingAndGlyphs\" textLength=\"21\" x=\"158\" y=\"257.9526\">po1</text><line style=\"stroke: #383838; stroke-width: 1.0;\" x1=\"94\" x2=\"124\" y1=\"241.3398\" y2=\"241.3398\"/><text fill=\"#000000\" font-family=\"sans-serif\" font-size=\"11\" lengthAdjust=\"spacingAndGlyphs\" textLength=\"30\" x=\"124\" y=\"244.6479\">ports</text><line style=\"stroke: #383838; stroke-width: 1.0;\" x1=\"154\" x2=\"184\" y1=\"241.3398\" y2=\"241.3398\"/></a><!--MD5=[ebbe1d658d1005bcc118a6aa81145e00]\n",
       "class E4--><a href=\"psysml:a26c0441-e754-421d-8c32-eea1ef6cab52\" target=\"_top\" title=\"psysml:a26c0441-e754-421d-8c32-eea1ef6cab52\" xlink:actuate=\"onRequest\" xlink:href=\"psysml:a26c0441-e754-421d-8c32-eea1ef6cab52\" xlink:show=\"new\" xlink:title=\"psysml:a26c0441-e754-421d-8c32-eea1ef6cab52\" xlink:type=\"simple\"><rect fill=\"#FFFFFF\" height=\"88.3516\" id=\"E4\" rx=\"10\" ry=\"10\" style=\"stroke: #383838; stroke-width: 1.5;\" width=\"92\" x=\"155\" y=\"41\"/><text fill=\"#000000\" font-family=\"sans-serif\" font-size=\"12\" font-style=\"italic\" lengthAdjust=\"spacingAndGlyphs\" textLength=\"40\" x=\"181\" y=\"57.1387\">«part»</text><text fill=\"#000000\" font-family=\"sans-serif\" font-size=\"12\" lengthAdjust=\"spacingAndGlyphs\" textLength=\"40\" x=\"181\" y=\"71.1074\">p1: P1</text><line style=\"stroke: #383838; stroke-width: 1.5;\" x1=\"156\" x2=\"246\" y1=\"78.9375\" y2=\"78.9375\"/><text fill=\"#000000\" font-family=\"sans-serif\" font-size=\"11\" lengthAdjust=\"spacingAndGlyphs\" textLength=\"21\" x=\"161\" y=\"109.9526\">po1</text><text fill=\"#000000\" font-family=\"sans-serif\" font-size=\"11\" font-style=\"italic\" lengthAdjust=\"spacingAndGlyphs\" textLength=\"80\" x=\"161\" y=\"122.7573\">:&gt;&gt;P1::porig1</text><line style=\"stroke: #383838; stroke-width: 1.0;\" x1=\"156\" x2=\"186\" y1=\"93.3398\" y2=\"93.3398\"/><text fill=\"#000000\" font-family=\"sans-serif\" font-size=\"11\" lengthAdjust=\"spacingAndGlyphs\" textLength=\"30\" x=\"186\" y=\"96.6479\">ports</text><line style=\"stroke: #383838; stroke-width: 1.0;\" x1=\"216\" x2=\"246\" y1=\"93.3398\" y2=\"93.3398\"/></a><!--MD5=[60a26617385b1d2d0262a64233df1f8d]\n",
       "class E6--><a href=\"psysml:5c32a7f3-b309-4357-ac47-765b0be17034\" target=\"_top\" title=\"psysml:5c32a7f3-b309-4357-ac47-765b0be17034\" xlink:actuate=\"onRequest\" xlink:href=\"psysml:5c32a7f3-b309-4357-ac47-765b0be17034\" xlink:show=\"new\" xlink:title=\"psysml:5c32a7f3-b309-4357-ac47-765b0be17034\" xlink:type=\"simple\"><rect fill=\"#FFFFFF\" height=\"75.5469\" id=\"E6\" rx=\"10\" ry=\"10\" style=\"stroke: #383838; stroke-width: 1.5;\" width=\"88\" x=\"32\" y=\"47\"/><text fill=\"#000000\" font-family=\"sans-serif\" font-size=\"12\" font-style=\"italic\" lengthAdjust=\"spacingAndGlyphs\" textLength=\"40\" x=\"56\" y=\"63.1387\">«part»</text><text fill=\"#000000\" font-family=\"sans-serif\" font-size=\"12\" lengthAdjust=\"spacingAndGlyphs\" textLength=\"40\" x=\"56\" y=\"77.1074\">p2: P1</text><line style=\"stroke: #383838; stroke-width: 1.5;\" x1=\"33\" x2=\"119\" y1=\"84.9375\" y2=\"84.9375\"/><text fill=\"#000000\" font-family=\"sans-serif\" font-size=\"11\" lengthAdjust=\"spacingAndGlyphs\" textLength=\"32\" x=\"38\" y=\"115.9526\">pdest</text><text fill=\"#000000\" font-family=\"sans-serif\" font-size=\"11\" font-weight=\"bold\" lengthAdjust=\"spacingAndGlyphs\" textLength=\"15\" x=\"74\" y=\"115.9526\">as</text><text fill=\"#000000\" font-family=\"sans-serif\" font-size=\"11\" lengthAdjust=\"spacingAndGlyphs\" textLength=\"21\" x=\"93\" y=\"115.9526\">pd1</text><line style=\"stroke: #383838; stroke-width: 1.0;\" x1=\"33\" x2=\"61\" y1=\"99.3398\" y2=\"99.3398\"/><text fill=\"#000000\" font-family=\"sans-serif\" font-size=\"11\" lengthAdjust=\"spacingAndGlyphs\" textLength=\"30\" x=\"61\" y=\"102.6479\">ports</text><line style=\"stroke: #383838; stroke-width: 1.0;\" x1=\"91\" x2=\"119\" y1=\"99.3398\" y2=\"99.3398\"/></a><!--MD5=[185131fc0dcab0a4505a2ebe144e961b]\n",
       "link E4 to E2--><a href=\"psysml:743cbcb0-f678-48b7-bb90-7aa18ca2c39d\" target=\"_top\" title=\"psysml:743cbcb0-f678-48b7-bb90-7aa18ca2c39d\" xlink:actuate=\"onRequest\" xlink:href=\"psysml:743cbcb0-f678-48b7-bb90-7aa18ca2c39d\" xlink:show=\"new\" xlink:title=\"psysml:743cbcb0-f678-48b7-bb90-7aa18ca2c39d\" xlink:type=\"simple\"><path d=\"M181.89,129.15 C176.14,142.14 169.74,156.6 163.67,170.29 \" fill=\"none\" id=\"E4-&gt;E2\" style=\"stroke: #383838; stroke-width: 1.0;\"/><polygon fill=\"#FFFFFF\" points=\"155.43,188.9,156.725,168.693,169.5254,174.3632,155.43,188.9\" style=\"stroke: #383838; stroke-width: 1.0;\"/><ellipse cx=\"160.8622\" cy=\"164.2914\" fill=\"#383838\" rx=\"2\" ry=\"2\" style=\"stroke: #383838; stroke-width: 1.0;\"/><ellipse cx=\"170.0053\" cy=\"168.3416\" fill=\"#383838\" rx=\"2\" ry=\"2\" style=\"stroke: #383838; stroke-width: 1.0;\"/></a><!--MD5=[2351f337d6de0f557b50152ba70847b5]\n",
       "link E6 to E2--><a href=\"psysml:a1f896e7-ae1f-4795-a4ef-b600067d493f\" target=\"_top\" title=\"psysml:a1f896e7-ae1f-4795-a4ef-b600067d493f\" xlink:actuate=\"onRequest\" xlink:href=\"psysml:a1f896e7-ae1f-4795-a4ef-b600067d493f\" xlink:show=\"new\" xlink:title=\"psysml:a1f896e7-ae1f-4795-a4ef-b600067d493f\" xlink:type=\"simple\"><path d=\"M92.72,123.15 C99.23,137.63 106.84,154.53 113.98,170.4 \" fill=\"none\" id=\"E6-&gt;E2\" style=\"stroke: #383838; stroke-width: 1.0;\"/><polygon fill=\"#FFFFFF\" points=\"122.2,188.68,108.0257,174.22,120.7951,168.4803,122.2,188.68\" style=\"stroke: #383838; stroke-width: 1.0;\"/><ellipse cx=\"107.5131\" cy=\"168.2011\" fill=\"#383838\" rx=\"2\" ry=\"2\" style=\"stroke: #383838; stroke-width: 1.0;\"/><ellipse cx=\"116.634\" cy=\"164.1014\" fill=\"#383838\" rx=\"2\" ry=\"2\" style=\"stroke: #383838; stroke-width: 1.0;\"/></a><!--MD5=[fc607ecb3b69f5e9c01101f6a9916c0c]\n",
       "@startuml\r\n",
       "skinparam monochrome true\r\n",
       "skinparam classbackgroundcolor white\r\n",
       "skinparam shadowing false\r\n",
       "skinparam wrapWidth 300\r\n",
       "hide circle\r\n",
       "\r\n",
       "package \"AliasTest\" as E1  [[psysml:6f25d091-f985-426b-8055-e92e3d48be4a ]]  {\r\n",
       "comp def \"P1\" as E2  <<(T,blue)part def>> [[psysml:258ca4bf-faa9-4328-8179-2aed0dfcbbf6 ]] {\r\n",
       "- - ports - -\r\n",
       "porig1 <b>as</b> po1 \r\n",
       "}\r\n",
       "comp usage \"p1: P1\" as E4  <<(T,blue)part>> [[psysml:a26c0441-e754-421d-8c32-eea1ef6cab52 ]] {\r\n",
       "- - ports - -\r\n",
       "po1\\n//:>>P1::porig1// \r\n",
       "}\r\n",
       "comp usage \"p2: P1\" as E6  <<(T,blue)part>> [[psysml:5c32a7f3-b309-4357-ac47-765b0be17034 ]] {\r\n",
       "- - ports - -\r\n",
       "pdest <b>as</b> pd1 \r\n",
       "}\r\n",
       "E4 - -:|> E2 [[psysml:743cbcb0-f678-48b7-bb90-7aa18ca2c39d ]] \r\n",
       "E6 - -:|> E2 [[psysml:a1f896e7-ae1f-4795-a4ef-b600067d493f ]] \r\n",
       "}\r\n",
       "@enduml\r\n",
       "\n",
       "PlantUML version 1.2020.13(Sat Jun 13 12:26:38 UTC 2020)\n",
       "(EPL source distribution)\n",
       "Java Runtime: OpenJDK Runtime Environment\n",
       "JVM: OpenJDK 64-Bit Server VM\n",
       "Default Encoding: UTF-8\n",
       "Language: en\n",
       "Country: null\n",
       "--></g></svg>"
      ]
     },
     "execution_count": 38,
     "metadata": {},
     "output_type": "execute_result"
    }
   ],
   "source": [
    "%viz --style=\"DEFAULT\" --view=\"Tree\" \"AliasTest\""
   ]
  },
  {
   "cell_type": "code",
   "execution_count": 39,
   "id": "purple-childhood",
   "metadata": {
    "execution": {
     "iopub.execute_input": "2021-03-26T13:00:36.651774Z",
     "iopub.status.busy": "2021-03-26T13:00:36.651195Z",
     "iopub.status.idle": "2021-03-26T13:00:36.656786Z",
     "shell.execute_reply": "2021-03-26T13:00:36.656401Z"
    }
   },
   "outputs": [
    {
     "data": {
      "image/svg+xml": [
       "<?xml version=\"1.0\" encoding=\"UTF-8\" standalone=\"no\"?><svg xmlns=\"http://www.w3.org/2000/svg\" xmlns:xlink=\"http://www.w3.org/1999/xlink\" contentScriptType=\"application/ecmascript\" contentStyleType=\"text/css\" height=\"12px\" preserveAspectRatio=\"none\" style=\"width:12px;height:12px;\" version=\"1.1\" viewBox=\"0 0 12 12\" width=\"12px\" zoomAndPan=\"magnify\"><defs/><g><!--MD5=[c5f280e076d0d61ccf4b0f27871bda1d]\n",
       "@startuml\r\n",
       "skinparam monochrome true\r\n",
       "skinparam classbackgroundcolor white\r\n",
       "skinparam shadowing false\r\n",
       "skinparam wrapWidth 300\r\n",
       "hide circle\r\n",
       "\r\n",
       "@enduml\r\n",
       "\n",
       "PlantUML version 1.2020.13(Sat Jun 13 12:26:38 UTC 2020)\n",
       "(EPL source distribution)\n",
       "Java Runtime: OpenJDK Runtime Environment\n",
       "JVM: OpenJDK 64-Bit Server VM\n",
       "Default Encoding: UTF-8\n",
       "Language: en\n",
       "Country: null\n",
       "--></g></svg>"
      ]
     },
     "execution_count": 39,
     "metadata": {},
     "output_type": "execute_result"
    }
   ],
   "source": [
    "%viz --style=\"DEFAULT\" --view=\"State\" \"AliasTest\""
   ]
  },
  {
   "cell_type": "code",
   "execution_count": 40,
   "id": "weekly-methodology",
   "metadata": {
    "execution": {
     "iopub.execute_input": "2021-03-26T13:00:36.708641Z",
     "iopub.status.busy": "2021-03-26T13:00:36.708097Z",
     "iopub.status.idle": "2021-03-26T13:00:36.743042Z",
     "shell.execute_reply": "2021-03-26T13:00:36.741842Z"
    }
   },
   "outputs": [
    {
     "data": {
      "image/svg+xml": [
       "<?xml version=\"1.0\" encoding=\"UTF-8\" standalone=\"no\"?><svg xmlns=\"http://www.w3.org/2000/svg\" xmlns:xlink=\"http://www.w3.org/1999/xlink\" contentScriptType=\"application/ecmascript\" contentStyleType=\"text/css\" height=\"207px\" preserveAspectRatio=\"none\" style=\"width:406px;height:207px;\" version=\"1.1\" viewBox=\"0 0 406 207\" width=\"406px\" zoomAndPan=\"magnify\"><defs/><g><!--MD5=[fbc87193dbaf4d95561dea2c320d4a47]\n",
       "cluster E1--><a href=\"psysml:6f25d091-f985-426b-8055-e92e3d48be4a\" target=\"_top\" title=\"psysml:6f25d091-f985-426b-8055-e92e3d48be4a\" xlink:actuate=\"onRequest\" xlink:href=\"psysml:6f25d091-f985-426b-8055-e92e3d48be4a\" xlink:show=\"new\" xlink:title=\"psysml:6f25d091-f985-426b-8055-e92e3d48be4a\" xlink:type=\"simple\"><polygon fill=\"#FFFFFF\" points=\"16,6,94,6,101,28.2969,384,28.2969,384,195,16,195,16,6\" style=\"stroke: #000000; stroke-width: 1.5;\"/><line style=\"stroke: #000000; stroke-width: 1.5;\" x1=\"16\" x2=\"101\" y1=\"28.2969\" y2=\"28.2969\"/><text fill=\"#000000\" font-family=\"sans-serif\" font-size=\"14\" font-weight=\"bold\" lengthAdjust=\"spacingAndGlyphs\" textLength=\"72\" x=\"20\" y=\"20.9951\">AliasTest</text></a><!--MD5=[e4f7fae6ed58524ba242bb0b0d3be6b7]\n",
       "cluster E2--><a href=\"psysml:258ca4bf-faa9-4328-8179-2aed0dfcbbf6\" target=\"_top\" title=\"psysml:258ca4bf-faa9-4328-8179-2aed0dfcbbf6\" xlink:actuate=\"onRequest\" xlink:href=\"psysml:258ca4bf-faa9-4328-8179-2aed0dfcbbf6\" xlink:show=\"new\" xlink:title=\"psysml:258ca4bf-faa9-4328-8179-2aed0dfcbbf6\" xlink:type=\"simple\"><rect fill=\"#FFFFFF\" height=\"73\" id=\"E2\" style=\"stroke: #383838; stroke-width: 1.5;\" width=\"83\" x=\"244\" y=\"55\"/><rect fill=\"#F8F8F8\" height=\"37.9375\" style=\"stroke: #383838; stroke-width: 1.5;\" width=\"83\" x=\"244\" y=\"55\"/><text fill=\"#000000\" font-family=\"sans-serif\" font-size=\"12\" font-style=\"italic\" lengthAdjust=\"spacingAndGlyphs\" textLength=\"64\" x=\"253.5\" y=\"71.1387\">«part def»</text><text fill=\"#000000\" font-family=\"sans-serif\" font-size=\"12\" lengthAdjust=\"spacingAndGlyphs\" textLength=\"16\" x=\"277.5\" y=\"85.1074\">P1</text></a><!--MD5=[de5ec2e2e8f62f467e546659f5068c88]\n",
       "cluster E5--><a href=\"psysml:a26c0441-e754-421d-8c32-eea1ef6cab52\" target=\"_top\" title=\"psysml:a26c0441-e754-421d-8c32-eea1ef6cab52\" xlink:actuate=\"onRequest\" xlink:href=\"psysml:a26c0441-e754-421d-8c32-eea1ef6cab52\" xlink:show=\"new\" xlink:title=\"psysml:a26c0441-e754-421d-8c32-eea1ef6cab52\" xlink:type=\"simple\"><rect fill=\"#FFFFFF\" height=\"84.5\" id=\"E5\" rx=\"10\" ry=\"10\" style=\"stroke: #383838; stroke-width: 1.5;\" width=\"101\" x=\"139\" y=\"94.5\"/><rect fill=\"#F8F8F8\" height=\"23.9688\" rx=\"10\" ry=\"10\" style=\"stroke: #F8F8F8; stroke-width: 1.5;\" width=\"101\" x=\"139\" y=\"94.5\"/><rect fill=\"#F8F8F8\" height=\"10\" style=\"stroke: #F8F8F8; stroke-width: 1.5;\" width=\"101\" x=\"139\" y=\"108.4688\"/><rect fill=\"none\" height=\"84.5\" id=\"E5\" rx=\"10\" ry=\"10\" style=\"stroke: #383838; stroke-width: 1.5;\" width=\"101\" x=\"139\" y=\"94.5\"/><text fill=\"#000000\" font-family=\"sans-serif\" font-size=\"12\" lengthAdjust=\"spacingAndGlyphs\" textLength=\"40\" x=\"169.5\" y=\"110.6387\">p1: P1</text><line style=\"stroke: #383838; stroke-width: 1.0;\" x1=\"139\" x2=\"240\" y1=\"118.4688\" y2=\"118.4688\"/></a><!--MD5=[168fadf3d0c3fd93dd5d6da1b1d7ab76]\n",
       "cluster E7--><a href=\"psysml:5c32a7f3-b309-4357-ac47-765b0be17034\" target=\"_top\" title=\"psysml:5c32a7f3-b309-4357-ac47-765b0be17034\" xlink:actuate=\"onRequest\" xlink:href=\"psysml:5c32a7f3-b309-4357-ac47-765b0be17034\" xlink:show=\"new\" xlink:title=\"psysml:5c32a7f3-b309-4357-ac47-765b0be17034\" xlink:type=\"simple\"><rect fill=\"#FFFFFF\" height=\"65\" id=\"E7\" rx=\"10\" ry=\"10\" style=\"stroke: #383838; stroke-width: 1.5;\" width=\"83\" x=\"53\" y=\"55\"/><rect fill=\"#F8F8F8\" height=\"23.9688\" rx=\"10\" ry=\"10\" style=\"stroke: #F8F8F8; stroke-width: 1.5;\" width=\"83\" x=\"53\" y=\"55\"/><rect fill=\"#F8F8F8\" height=\"10\" style=\"stroke: #F8F8F8; stroke-width: 1.5;\" width=\"83\" x=\"53\" y=\"68.9688\"/><rect fill=\"none\" height=\"65\" id=\"E7\" rx=\"10\" ry=\"10\" style=\"stroke: #383838; stroke-width: 1.5;\" width=\"83\" x=\"53\" y=\"55\"/><text fill=\"#000000\" font-family=\"sans-serif\" font-size=\"12\" lengthAdjust=\"spacingAndGlyphs\" textLength=\"40\" x=\"74.5\" y=\"71.1387\">p2: P1</text><line style=\"stroke: #383838; stroke-width: 1.0;\" x1=\"53\" x2=\"136\" y1=\"78.9688\" y2=\"78.9688\"/></a><text fill=\"#000000\" font-family=\"sans-serif\" font-size=\"14\" lengthAdjust=\"spacingAndGlyphs\" textLength=\"44\" x=\"240\" y=\"33.6982\">porig1</text><rect fill=\"#383838\" height=\"12\" style=\"stroke: #F8F8F8; stroke-width: 1.5;\" width=\"12\" x=\"256\" y=\"49\"/><text fill=\"#000000\" font-family=\"sans-serif\" font-size=\"14\" lengthAdjust=\"spacingAndGlyphs\" textLength=\"44\" x=\"287\" y=\"33.6982\">porig1</text><rect fill=\"#383838\" height=\"12\" style=\"stroke: #F8F8F8; stroke-width: 1.5;\" width=\"12\" x=\"303\" y=\"49\"/><text fill=\"#000000\" font-family=\"sans-serif\" font-size=\"14\" lengthAdjust=\"spacingAndGlyphs\" textLength=\"27\" x=\"143.5\" y=\"73.1982\">po1</text><rect fill=\"#383838\" height=\"12\" style=\"stroke: #F8F8F8; stroke-width: 1.5;\" width=\"12\" x=\"151\" y=\"88.5\"/><text fill=\"#000000\" font-family=\"sans-serif\" font-size=\"14\" lengthAdjust=\"spacingAndGlyphs\" textLength=\"40\" x=\"51\" y=\"33.6982\">pdest</text><rect fill=\"#383838\" height=\"12\" style=\"stroke: #F8F8F8; stroke-width: 1.5;\" width=\"12\" x=\"65\" y=\"49\"/><text fill=\"#000000\" font-family=\"sans-serif\" font-size=\"14\" lengthAdjust=\"spacingAndGlyphs\" textLength=\"40\" x=\"98\" y=\"33.6982\">pdest</text><rect fill=\"#383838\" height=\"12\" style=\"stroke: #F8F8F8; stroke-width: 1.5;\" width=\"12\" x=\"112\" y=\"49\"/><!--MD5=[60ac2c0cde89d4308155b0484e57a8ec]\n",
       "link E9 to E6--><a href=\"psysml:df73490b-6554-48a2-b250-43b559083f0a\" target=\"_top\" title=\"psysml:df73490b-6554-48a2-b250-43b559083f0a\" xlink:actuate=\"onRequest\" xlink:href=\"psysml:df73490b-6554-48a2-b250-43b559083f0a\" xlink:show=\"new\" xlink:title=\"psysml:df73490b-6554-48a2-b250-43b559083f0a\" xlink:type=\"simple\"><path d=\"M111.75,56.49 C103.41,58.2 109.82,64.05 115,69 C124.85,78.4 136.6,90.11 150.78,92.89 \" fill=\"none\" id=\"E9-E6\" style=\"stroke: #383838; stroke-width: 3.0;\"/></a><!--MD5=[60ac2c0cde89d4308155b0484e57a8ec]\n",
       "link E9 to E6--><a href=\"psysml:45234df1-ac0c-4024-a641-0b76867140fc\" target=\"_top\" title=\"psysml:45234df1-ac0c-4024-a641-0b76867140fc\" xlink:actuate=\"onRequest\" xlink:href=\"psysml:45234df1-ac0c-4024-a641-0b76867140fc\" xlink:show=\"new\" xlink:title=\"psysml:45234df1-ac0c-4024-a641-0b76867140fc\" xlink:type=\"simple\"><path d=\"M124.29,56.32 C137.94,57.76 144.62,63.87 150,69 C159.5,78.06 170.77,89.27 163.24,92.56 \" fill=\"none\" id=\"E9-E6-1\" style=\"stroke: #383838; stroke-width: 3.0;\"/></a><!--MD5=[07b860619d29e92e2cd1f01373c26c0e]\n",
       "@startuml\r\n",
       "skinparam ranksep 8\r\n",
       "skinparam rectangle {\r\n",
       " backgroundColor<<block>> LightGreen\r\n",
       "}\r\n",
       "skinparam monochrome true\r\n",
       "skinparam classbackgroundcolor white\r\n",
       "skinparam shadowing false\r\n",
       "skinparam wrapWidth 300\r\n",
       "hide circle\r\n",
       "\r\n",
       "package \"AliasTest\" as E1  [[psysml:6f25d091-f985-426b-8055-e92e3d48be4a ]]  {\r\n",
       "rec def \"P1\" as E2  <<(T,blue)part def>> [[psysml:258ca4bf-faa9-4328-8179-2aed0dfcbbf6 ]] {\r\n",
       "portin \"porig1\" as E3  <<(T,blue)port>> [[psysml:9209c45f-41ff-489f-bc17-bfe3af02fc93 ]] \r\n",
       "portin \"porig1\" as E4  <<(T,blue)port>> [[psysml:9209c45f-41ff-489f-bc17-bfe3af02fc93 ]] \r\n",
       "}\r\n",
       "rec usage \"p1: P1\" as E5  [[psysml:a26c0441-e754-421d-8c32-eea1ef6cab52 ]] {\r\n",
       "portin \"po1\" as E6  <<(T,blue)port>> [[psysml:aa893173-d0db-4be8-bf63-d1ddc32421c6 ]] \r\n",
       "}\r\n",
       "rec usage \"p2: P1\" as E7  [[psysml:5c32a7f3-b309-4357-ac47-765b0be17034 ]] {\r\n",
       "portin \"pdest\" as E8  <<(T,blue)port>> [[psysml:cb10c624-640d-45a1-89db-7833fbdc21f8 ]] \r\n",
       "portin \"pdest\" as E9  <<(T,blue)port>> [[psysml:cb10c624-640d-45a1-89db-7833fbdc21f8 ]] \r\n",
       "}\r\n",
       "E9 -[thickness=3]- E6 [[psysml:df73490b-6554-48a2-b250-43b559083f0a ]] \r\n",
       "E9 -[thickness=3]- E6 [[psysml:45234df1-ac0c-4024-a641-0b76867140fc ]] \r\n",
       "}\r\n",
       "@enduml\r\n",
       "\n",
       "PlantUML version 1.2020.13(Sat Jun 13 12:26:38 UTC 2020)\n",
       "(EPL source distribution)\n",
       "Java Runtime: OpenJDK Runtime Environment\n",
       "JVM: OpenJDK 64-Bit Server VM\n",
       "Default Encoding: UTF-8\n",
       "Language: en\n",
       "Country: null\n",
       "--></g></svg>"
      ]
     },
     "execution_count": 40,
     "metadata": {},
     "output_type": "execute_result"
    }
   ],
   "source": [
    "%viz --style=\"DEFAULT\" --view=\"Interconnection\" \"AliasTest\""
   ]
  },
  {
   "cell_type": "code",
   "execution_count": 41,
   "id": "square-october",
   "metadata": {
    "execution": {
     "iopub.execute_input": "2021-03-26T13:00:36.790528Z",
     "iopub.status.busy": "2021-03-26T13:00:36.790191Z",
     "iopub.status.idle": "2021-03-26T13:00:36.793717Z",
     "shell.execute_reply": "2021-03-26T13:00:36.794112Z"
    }
   },
   "outputs": [
    {
     "data": {
      "image/svg+xml": [
       "<?xml version=\"1.0\" encoding=\"UTF-8\" standalone=\"no\"?><svg xmlns=\"http://www.w3.org/2000/svg\" xmlns:xlink=\"http://www.w3.org/1999/xlink\" contentScriptType=\"application/ecmascript\" contentStyleType=\"text/css\" height=\"12px\" preserveAspectRatio=\"none\" style=\"width:12px;height:12px;\" version=\"1.1\" viewBox=\"0 0 12 12\" width=\"12px\" zoomAndPan=\"magnify\"><defs/><g><!--MD5=[388f21188e31bfdd97050473b19af356]\n",
       "@startuml\r\n",
       "skinparam ranksep 8\r\n",
       "skinparam monochrome true\r\n",
       "skinparam classbackgroundcolor white\r\n",
       "skinparam shadowing false\r\n",
       "skinparam wrapWidth 300\r\n",
       "hide circle\r\n",
       "\r\n",
       "@enduml\r\n",
       "\n",
       "PlantUML version 1.2020.13(Sat Jun 13 12:26:38 UTC 2020)\n",
       "(EPL source distribution)\n",
       "Java Runtime: OpenJDK Runtime Environment\n",
       "JVM: OpenJDK 64-Bit Server VM\n",
       "Default Encoding: UTF-8\n",
       "Language: en\n",
       "Country: null\n",
       "--></g></svg>"
      ]
     },
     "execution_count": 41,
     "metadata": {},
     "output_type": "execute_result"
    }
   ],
   "source": [
    "%viz --style=\"DEFAULT\" --view=\"Action\" \"AliasTest\""
   ]
  },
  {
   "cell_type": "code",
   "execution_count": 42,
   "id": "numerical-assembly",
   "metadata": {
    "execution": {
     "iopub.execute_input": "2021-03-26T13:00:36.844955Z",
     "iopub.status.busy": "2021-03-26T13:00:36.844538Z",
     "iopub.status.idle": "2021-03-26T13:00:36.899213Z",
     "shell.execute_reply": "2021-03-26T13:00:36.897811Z"
    }
   },
   "outputs": [
    {
     "data": {
      "image/svg+xml": [
       "<?xml version=\"1.0\" encoding=\"UTF-8\" standalone=\"no\"?><svg xmlns=\"http://www.w3.org/2000/svg\" xmlns:xlink=\"http://www.w3.org/1999/xlink\" contentScriptType=\"application/ecmascript\" contentStyleType=\"text/css\" height=\"293px\" preserveAspectRatio=\"none\" style=\"width:285px;height:293px;\" version=\"1.1\" viewBox=\"0 0 285 293\" width=\"285px\" zoomAndPan=\"magnify\"><defs/><g><!--MD5=[fbc87193dbaf4d95561dea2c320d4a47]\n",
       "cluster E1--><a href=\"psysml:6f25d091-f985-426b-8055-e92e3d48be4a\" target=\"_top\" title=\"psysml:6f25d091-f985-426b-8055-e92e3d48be4a\" xlink:actuate=\"onRequest\" xlink:href=\"psysml:6f25d091-f985-426b-8055-e92e3d48be4a\" xlink:show=\"new\" xlink:title=\"psysml:6f25d091-f985-426b-8055-e92e3d48be4a\" xlink:type=\"simple\"><polygon fill=\"#FFFFFF\" points=\"16,6,94,6,101,28.2969,263,28.2969,263,281,16,281,16,6\" style=\"stroke: #000000; stroke-width: 1.5;\"/><line style=\"stroke: #000000; stroke-width: 1.5;\" x1=\"16\" x2=\"101\" y1=\"28.2969\" y2=\"28.2969\"/><text fill=\"#000000\" font-family=\"sans-serif\" font-size=\"14\" font-weight=\"bold\" lengthAdjust=\"spacingAndGlyphs\" textLength=\"72\" x=\"20\" y=\"20.9951\">AliasTest</text></a><!--MD5=[b4997ac47864f28c2f74865a473b2911]\n",
       "class E2--><a href=\"psysml:258ca4bf-faa9-4328-8179-2aed0dfcbbf6\" target=\"_top\" title=\"psysml:258ca4bf-faa9-4328-8179-2aed0dfcbbf6\" xlink:actuate=\"onRequest\" xlink:href=\"psysml:258ca4bf-faa9-4328-8179-2aed0dfcbbf6\" xlink:show=\"new\" xlink:title=\"psysml:258ca4bf-faa9-4328-8179-2aed0dfcbbf6\" xlink:type=\"simple\"><rect fill=\"#FFFFFF\" height=\"75.5469\" id=\"E2\" style=\"stroke: #383838; stroke-width: 1.5;\" width=\"92\" x=\"93\" y=\"189\"/><text fill=\"#000000\" font-family=\"sans-serif\" font-size=\"12\" font-style=\"italic\" lengthAdjust=\"spacingAndGlyphs\" textLength=\"64\" x=\"107\" y=\"205.1387\">«part def»</text><text fill=\"#000000\" font-family=\"sans-serif\" font-size=\"12\" lengthAdjust=\"spacingAndGlyphs\" textLength=\"16\" x=\"131\" y=\"219.1074\">P1</text><line style=\"stroke: #383838; stroke-width: 1.5;\" x1=\"94\" x2=\"184\" y1=\"226.9375\" y2=\"226.9375\"/><text fill=\"#000000\" font-family=\"sans-serif\" font-size=\"11\" lengthAdjust=\"spacingAndGlyphs\" textLength=\"36\" x=\"99\" y=\"257.9526\">porig1</text><text fill=\"#000000\" font-family=\"sans-serif\" font-size=\"11\" font-weight=\"bold\" lengthAdjust=\"spacingAndGlyphs\" textLength=\"15\" x=\"139\" y=\"257.9526\">as</text><text fill=\"#000000\" font-family=\"sans-serif\" font-size=\"11\" lengthAdjust=\"spacingAndGlyphs\" textLength=\"21\" x=\"158\" y=\"257.9526\">po1</text><line style=\"stroke: #383838; stroke-width: 1.0;\" x1=\"94\" x2=\"124\" y1=\"241.3398\" y2=\"241.3398\"/><text fill=\"#000000\" font-family=\"sans-serif\" font-size=\"11\" lengthAdjust=\"spacingAndGlyphs\" textLength=\"30\" x=\"124\" y=\"244.6479\">ports</text><line style=\"stroke: #383838; stroke-width: 1.0;\" x1=\"154\" x2=\"184\" y1=\"241.3398\" y2=\"241.3398\"/></a><!--MD5=[ebbe1d658d1005bcc118a6aa81145e00]\n",
       "class E4--><a href=\"psysml:a26c0441-e754-421d-8c32-eea1ef6cab52\" target=\"_top\" title=\"psysml:a26c0441-e754-421d-8c32-eea1ef6cab52\" xlink:actuate=\"onRequest\" xlink:href=\"psysml:a26c0441-e754-421d-8c32-eea1ef6cab52\" xlink:show=\"new\" xlink:title=\"psysml:a26c0441-e754-421d-8c32-eea1ef6cab52\" xlink:type=\"simple\"><rect fill=\"#FFFFFF\" height=\"88.3516\" id=\"E4\" rx=\"10\" ry=\"10\" style=\"stroke: #383838; stroke-width: 1.5;\" width=\"92\" x=\"155\" y=\"41\"/><text fill=\"#000000\" font-family=\"sans-serif\" font-size=\"12\" font-style=\"italic\" lengthAdjust=\"spacingAndGlyphs\" textLength=\"40\" x=\"181\" y=\"57.1387\">«part»</text><text fill=\"#000000\" font-family=\"sans-serif\" font-size=\"12\" lengthAdjust=\"spacingAndGlyphs\" textLength=\"40\" x=\"181\" y=\"71.1074\">p1: P1</text><line style=\"stroke: #383838; stroke-width: 1.5;\" x1=\"156\" x2=\"246\" y1=\"78.9375\" y2=\"78.9375\"/><text fill=\"#000000\" font-family=\"sans-serif\" font-size=\"11\" lengthAdjust=\"spacingAndGlyphs\" textLength=\"21\" x=\"161\" y=\"109.9526\">po1</text><text fill=\"#000000\" font-family=\"sans-serif\" font-size=\"11\" font-style=\"italic\" lengthAdjust=\"spacingAndGlyphs\" textLength=\"80\" x=\"161\" y=\"122.7573\">:&gt;&gt;P1::porig1</text><line style=\"stroke: #383838; stroke-width: 1.0;\" x1=\"156\" x2=\"186\" y1=\"93.3398\" y2=\"93.3398\"/><text fill=\"#000000\" font-family=\"sans-serif\" font-size=\"11\" lengthAdjust=\"spacingAndGlyphs\" textLength=\"30\" x=\"186\" y=\"96.6479\">ports</text><line style=\"stroke: #383838; stroke-width: 1.0;\" x1=\"216\" x2=\"246\" y1=\"93.3398\" y2=\"93.3398\"/></a><!--MD5=[60a26617385b1d2d0262a64233df1f8d]\n",
       "class E6--><a href=\"psysml:5c32a7f3-b309-4357-ac47-765b0be17034\" target=\"_top\" title=\"psysml:5c32a7f3-b309-4357-ac47-765b0be17034\" xlink:actuate=\"onRequest\" xlink:href=\"psysml:5c32a7f3-b309-4357-ac47-765b0be17034\" xlink:show=\"new\" xlink:title=\"psysml:5c32a7f3-b309-4357-ac47-765b0be17034\" xlink:type=\"simple\"><rect fill=\"#FFFFFF\" height=\"75.5469\" id=\"E6\" rx=\"10\" ry=\"10\" style=\"stroke: #383838; stroke-width: 1.5;\" width=\"88\" x=\"32\" y=\"47\"/><text fill=\"#000000\" font-family=\"sans-serif\" font-size=\"12\" font-style=\"italic\" lengthAdjust=\"spacingAndGlyphs\" textLength=\"40\" x=\"56\" y=\"63.1387\">«part»</text><text fill=\"#000000\" font-family=\"sans-serif\" font-size=\"12\" lengthAdjust=\"spacingAndGlyphs\" textLength=\"40\" x=\"56\" y=\"77.1074\">p2: P1</text><line style=\"stroke: #383838; stroke-width: 1.5;\" x1=\"33\" x2=\"119\" y1=\"84.9375\" y2=\"84.9375\"/><text fill=\"#000000\" font-family=\"sans-serif\" font-size=\"11\" lengthAdjust=\"spacingAndGlyphs\" textLength=\"32\" x=\"38\" y=\"115.9526\">pdest</text><text fill=\"#000000\" font-family=\"sans-serif\" font-size=\"11\" font-weight=\"bold\" lengthAdjust=\"spacingAndGlyphs\" textLength=\"15\" x=\"74\" y=\"115.9526\">as</text><text fill=\"#000000\" font-family=\"sans-serif\" font-size=\"11\" lengthAdjust=\"spacingAndGlyphs\" textLength=\"21\" x=\"93\" y=\"115.9526\">pd1</text><line style=\"stroke: #383838; stroke-width: 1.0;\" x1=\"33\" x2=\"61\" y1=\"99.3398\" y2=\"99.3398\"/><text fill=\"#000000\" font-family=\"sans-serif\" font-size=\"11\" lengthAdjust=\"spacingAndGlyphs\" textLength=\"30\" x=\"61\" y=\"102.6479\">ports</text><line style=\"stroke: #383838; stroke-width: 1.0;\" x1=\"91\" x2=\"119\" y1=\"99.3398\" y2=\"99.3398\"/></a><!--MD5=[185131fc0dcab0a4505a2ebe144e961b]\n",
       "link E4 to E2--><a href=\"psysml:743cbcb0-f678-48b7-bb90-7aa18ca2c39d\" target=\"_top\" title=\"psysml:743cbcb0-f678-48b7-bb90-7aa18ca2c39d\" xlink:actuate=\"onRequest\" xlink:href=\"psysml:743cbcb0-f678-48b7-bb90-7aa18ca2c39d\" xlink:show=\"new\" xlink:title=\"psysml:743cbcb0-f678-48b7-bb90-7aa18ca2c39d\" xlink:type=\"simple\"><path d=\"M181.89,129.15 C176.14,142.14 169.74,156.6 163.67,170.29 \" fill=\"none\" id=\"E4-&gt;E2\" style=\"stroke: #383838; stroke-width: 1.0;\"/><polygon fill=\"#FFFFFF\" points=\"155.43,188.9,156.725,168.693,169.5254,174.3632,155.43,188.9\" style=\"stroke: #383838; stroke-width: 1.0;\"/><ellipse cx=\"160.8622\" cy=\"164.2914\" fill=\"#383838\" rx=\"2\" ry=\"2\" style=\"stroke: #383838; stroke-width: 1.0;\"/><ellipse cx=\"170.0053\" cy=\"168.3416\" fill=\"#383838\" rx=\"2\" ry=\"2\" style=\"stroke: #383838; stroke-width: 1.0;\"/></a><!--MD5=[2351f337d6de0f557b50152ba70847b5]\n",
       "link E6 to E2--><a href=\"psysml:a1f896e7-ae1f-4795-a4ef-b600067d493f\" target=\"_top\" title=\"psysml:a1f896e7-ae1f-4795-a4ef-b600067d493f\" xlink:actuate=\"onRequest\" xlink:href=\"psysml:a1f896e7-ae1f-4795-a4ef-b600067d493f\" xlink:show=\"new\" xlink:title=\"psysml:a1f896e7-ae1f-4795-a4ef-b600067d493f\" xlink:type=\"simple\"><path d=\"M92.72,123.15 C99.23,137.63 106.84,154.53 113.98,170.4 \" fill=\"none\" id=\"E6-&gt;E2\" style=\"stroke: #383838; stroke-width: 1.0;\"/><polygon fill=\"#FFFFFF\" points=\"122.2,188.68,108.0257,174.22,120.7951,168.4803,122.2,188.68\" style=\"stroke: #383838; stroke-width: 1.0;\"/><ellipse cx=\"107.5131\" cy=\"168.2011\" fill=\"#383838\" rx=\"2\" ry=\"2\" style=\"stroke: #383838; stroke-width: 1.0;\"/><ellipse cx=\"116.634\" cy=\"164.1014\" fill=\"#383838\" rx=\"2\" ry=\"2\" style=\"stroke: #383838; stroke-width: 1.0;\"/></a><!--MD5=[fc607ecb3b69f5e9c01101f6a9916c0c]\n",
       "@startuml\r\n",
       "skinparam monochrome true\r\n",
       "skinparam classbackgroundcolor white\r\n",
       "skinparam shadowing false\r\n",
       "skinparam wrapWidth 300\r\n",
       "hide circle\r\n",
       "\r\n",
       "package \"AliasTest\" as E1  [[psysml:6f25d091-f985-426b-8055-e92e3d48be4a ]]  {\r\n",
       "comp def \"P1\" as E2  <<(T,blue)part def>> [[psysml:258ca4bf-faa9-4328-8179-2aed0dfcbbf6 ]] {\r\n",
       "- - ports - -\r\n",
       "porig1 <b>as</b> po1 \r\n",
       "}\r\n",
       "comp usage \"p1: P1\" as E4  <<(T,blue)part>> [[psysml:a26c0441-e754-421d-8c32-eea1ef6cab52 ]] {\r\n",
       "- - ports - -\r\n",
       "po1\\n//:>>P1::porig1// \r\n",
       "}\r\n",
       "comp usage \"p2: P1\" as E6  <<(T,blue)part>> [[psysml:5c32a7f3-b309-4357-ac47-765b0be17034 ]] {\r\n",
       "- - ports - -\r\n",
       "pdest <b>as</b> pd1 \r\n",
       "}\r\n",
       "E4 - -:|> E2 [[psysml:743cbcb0-f678-48b7-bb90-7aa18ca2c39d ]] \r\n",
       "E6 - -:|> E2 [[psysml:a1f896e7-ae1f-4795-a4ef-b600067d493f ]] \r\n",
       "}\r\n",
       "@enduml\r\n",
       "\n",
       "PlantUML version 1.2020.13(Sat Jun 13 12:26:38 UTC 2020)\n",
       "(EPL source distribution)\n",
       "Java Runtime: OpenJDK Runtime Environment\n",
       "JVM: OpenJDK 64-Bit Server VM\n",
       "Default Encoding: UTF-8\n",
       "Language: en\n",
       "Country: null\n",
       "--></g></svg>"
      ]
     },
     "execution_count": 42,
     "metadata": {},
     "output_type": "execute_result"
    }
   ],
   "source": [
    "%viz --style=\"DEFAULT\" --view=\"Sequence\" \"AliasTest\""
   ]
  },
  {
   "cell_type": "code",
   "execution_count": 43,
   "id": "sixth-flush",
   "metadata": {
    "execution": {
     "iopub.execute_input": "2021-03-26T13:00:36.973130Z",
     "iopub.status.busy": "2021-03-26T13:00:36.951301Z",
     "iopub.status.idle": "2021-03-26T13:00:37.024563Z",
     "shell.execute_reply": "2021-03-26T13:00:37.023572Z"
    }
   },
   "outputs": [
    {
     "data": {
      "image/svg+xml": [
       "<?xml version=\"1.0\" encoding=\"UTF-8\" standalone=\"no\"?><svg xmlns=\"http://www.w3.org/2000/svg\" xmlns:xlink=\"http://www.w3.org/1999/xlink\" contentScriptType=\"application/ecmascript\" contentStyleType=\"text/css\" height=\"293px\" preserveAspectRatio=\"none\" style=\"width:285px;height:293px;\" version=\"1.1\" viewBox=\"0 0 285 293\" width=\"285px\" zoomAndPan=\"magnify\"><defs/><g><!--MD5=[fbc87193dbaf4d95561dea2c320d4a47]\n",
       "cluster E1--><a href=\"psysml:6f25d091-f985-426b-8055-e92e3d48be4a\" target=\"_top\" title=\"psysml:6f25d091-f985-426b-8055-e92e3d48be4a\" xlink:actuate=\"onRequest\" xlink:href=\"psysml:6f25d091-f985-426b-8055-e92e3d48be4a\" xlink:show=\"new\" xlink:title=\"psysml:6f25d091-f985-426b-8055-e92e3d48be4a\" xlink:type=\"simple\"><polygon fill=\"#FFFFFF\" points=\"16,6,94,6,101,28.2969,263,28.2969,263,281,16,281,16,6\" style=\"stroke: #000000; stroke-width: 1.5;\"/><line style=\"stroke: #000000; stroke-width: 1.5;\" x1=\"16\" x2=\"101\" y1=\"28.2969\" y2=\"28.2969\"/><text fill=\"#000000\" font-family=\"sans-serif\" font-size=\"14\" font-weight=\"bold\" lengthAdjust=\"spacingAndGlyphs\" textLength=\"72\" x=\"20\" y=\"20.9951\">AliasTest</text></a><!--MD5=[b4997ac47864f28c2f74865a473b2911]\n",
       "class E2--><a href=\"psysml:258ca4bf-faa9-4328-8179-2aed0dfcbbf6\" target=\"_top\" title=\"psysml:258ca4bf-faa9-4328-8179-2aed0dfcbbf6\" xlink:actuate=\"onRequest\" xlink:href=\"psysml:258ca4bf-faa9-4328-8179-2aed0dfcbbf6\" xlink:show=\"new\" xlink:title=\"psysml:258ca4bf-faa9-4328-8179-2aed0dfcbbf6\" xlink:type=\"simple\"><rect fill=\"#FFFFFF\" height=\"75.5469\" id=\"E2\" style=\"stroke: #383838; stroke-width: 1.5;\" width=\"92\" x=\"93\" y=\"189\"/><text fill=\"#000000\" font-family=\"sans-serif\" font-size=\"12\" font-style=\"italic\" lengthAdjust=\"spacingAndGlyphs\" textLength=\"64\" x=\"107\" y=\"205.1387\">«part def»</text><text fill=\"#000000\" font-family=\"sans-serif\" font-size=\"12\" lengthAdjust=\"spacingAndGlyphs\" textLength=\"16\" x=\"131\" y=\"219.1074\">P1</text><line style=\"stroke: #383838; stroke-width: 1.5;\" x1=\"94\" x2=\"184\" y1=\"226.9375\" y2=\"226.9375\"/><text fill=\"#000000\" font-family=\"sans-serif\" font-size=\"11\" lengthAdjust=\"spacingAndGlyphs\" textLength=\"36\" x=\"99\" y=\"257.9526\">porig1</text><text fill=\"#000000\" font-family=\"sans-serif\" font-size=\"11\" font-weight=\"bold\" lengthAdjust=\"spacingAndGlyphs\" textLength=\"15\" x=\"139\" y=\"257.9526\">as</text><text fill=\"#000000\" font-family=\"sans-serif\" font-size=\"11\" lengthAdjust=\"spacingAndGlyphs\" textLength=\"21\" x=\"158\" y=\"257.9526\">po1</text><line style=\"stroke: #383838; stroke-width: 1.0;\" x1=\"94\" x2=\"124\" y1=\"241.3398\" y2=\"241.3398\"/><text fill=\"#000000\" font-family=\"sans-serif\" font-size=\"11\" lengthAdjust=\"spacingAndGlyphs\" textLength=\"30\" x=\"124\" y=\"244.6479\">ports</text><line style=\"stroke: #383838; stroke-width: 1.0;\" x1=\"154\" x2=\"184\" y1=\"241.3398\" y2=\"241.3398\"/></a><!--MD5=[ebbe1d658d1005bcc118a6aa81145e00]\n",
       "class E4--><a href=\"psysml:a26c0441-e754-421d-8c32-eea1ef6cab52\" target=\"_top\" title=\"psysml:a26c0441-e754-421d-8c32-eea1ef6cab52\" xlink:actuate=\"onRequest\" xlink:href=\"psysml:a26c0441-e754-421d-8c32-eea1ef6cab52\" xlink:show=\"new\" xlink:title=\"psysml:a26c0441-e754-421d-8c32-eea1ef6cab52\" xlink:type=\"simple\"><rect fill=\"#FFFFFF\" height=\"88.3516\" id=\"E4\" rx=\"10\" ry=\"10\" style=\"stroke: #383838; stroke-width: 1.5;\" width=\"92\" x=\"155\" y=\"41\"/><text fill=\"#000000\" font-family=\"sans-serif\" font-size=\"12\" font-style=\"italic\" lengthAdjust=\"spacingAndGlyphs\" textLength=\"40\" x=\"181\" y=\"57.1387\">«part»</text><text fill=\"#000000\" font-family=\"sans-serif\" font-size=\"12\" lengthAdjust=\"spacingAndGlyphs\" textLength=\"40\" x=\"181\" y=\"71.1074\">p1: P1</text><line style=\"stroke: #383838; stroke-width: 1.5;\" x1=\"156\" x2=\"246\" y1=\"78.9375\" y2=\"78.9375\"/><text fill=\"#000000\" font-family=\"sans-serif\" font-size=\"11\" lengthAdjust=\"spacingAndGlyphs\" textLength=\"21\" x=\"161\" y=\"109.9526\">po1</text><text fill=\"#000000\" font-family=\"sans-serif\" font-size=\"11\" font-style=\"italic\" lengthAdjust=\"spacingAndGlyphs\" textLength=\"80\" x=\"161\" y=\"122.7573\">:&gt;&gt;P1::porig1</text><line style=\"stroke: #383838; stroke-width: 1.0;\" x1=\"156\" x2=\"186\" y1=\"93.3398\" y2=\"93.3398\"/><text fill=\"#000000\" font-family=\"sans-serif\" font-size=\"11\" lengthAdjust=\"spacingAndGlyphs\" textLength=\"30\" x=\"186\" y=\"96.6479\">ports</text><line style=\"stroke: #383838; stroke-width: 1.0;\" x1=\"216\" x2=\"246\" y1=\"93.3398\" y2=\"93.3398\"/></a><!--MD5=[60a26617385b1d2d0262a64233df1f8d]\n",
       "class E6--><a href=\"psysml:5c32a7f3-b309-4357-ac47-765b0be17034\" target=\"_top\" title=\"psysml:5c32a7f3-b309-4357-ac47-765b0be17034\" xlink:actuate=\"onRequest\" xlink:href=\"psysml:5c32a7f3-b309-4357-ac47-765b0be17034\" xlink:show=\"new\" xlink:title=\"psysml:5c32a7f3-b309-4357-ac47-765b0be17034\" xlink:type=\"simple\"><rect fill=\"#FFFFFF\" height=\"75.5469\" id=\"E6\" rx=\"10\" ry=\"10\" style=\"stroke: #383838; stroke-width: 1.5;\" width=\"88\" x=\"32\" y=\"47\"/><text fill=\"#000000\" font-family=\"sans-serif\" font-size=\"12\" font-style=\"italic\" lengthAdjust=\"spacingAndGlyphs\" textLength=\"40\" x=\"56\" y=\"63.1387\">«part»</text><text fill=\"#000000\" font-family=\"sans-serif\" font-size=\"12\" lengthAdjust=\"spacingAndGlyphs\" textLength=\"40\" x=\"56\" y=\"77.1074\">p2: P1</text><line style=\"stroke: #383838; stroke-width: 1.5;\" x1=\"33\" x2=\"119\" y1=\"84.9375\" y2=\"84.9375\"/><text fill=\"#000000\" font-family=\"sans-serif\" font-size=\"11\" lengthAdjust=\"spacingAndGlyphs\" textLength=\"32\" x=\"38\" y=\"115.9526\">pdest</text><text fill=\"#000000\" font-family=\"sans-serif\" font-size=\"11\" font-weight=\"bold\" lengthAdjust=\"spacingAndGlyphs\" textLength=\"15\" x=\"74\" y=\"115.9526\">as</text><text fill=\"#000000\" font-family=\"sans-serif\" font-size=\"11\" lengthAdjust=\"spacingAndGlyphs\" textLength=\"21\" x=\"93\" y=\"115.9526\">pd1</text><line style=\"stroke: #383838; stroke-width: 1.0;\" x1=\"33\" x2=\"61\" y1=\"99.3398\" y2=\"99.3398\"/><text fill=\"#000000\" font-family=\"sans-serif\" font-size=\"11\" lengthAdjust=\"spacingAndGlyphs\" textLength=\"30\" x=\"61\" y=\"102.6479\">ports</text><line style=\"stroke: #383838; stroke-width: 1.0;\" x1=\"91\" x2=\"119\" y1=\"99.3398\" y2=\"99.3398\"/></a><!--MD5=[185131fc0dcab0a4505a2ebe144e961b]\n",
       "link E4 to E2--><a href=\"psysml:743cbcb0-f678-48b7-bb90-7aa18ca2c39d\" target=\"_top\" title=\"psysml:743cbcb0-f678-48b7-bb90-7aa18ca2c39d\" xlink:actuate=\"onRequest\" xlink:href=\"psysml:743cbcb0-f678-48b7-bb90-7aa18ca2c39d\" xlink:show=\"new\" xlink:title=\"psysml:743cbcb0-f678-48b7-bb90-7aa18ca2c39d\" xlink:type=\"simple\"><path d=\"M181.89,129.15 C176.14,142.14 169.74,156.6 163.67,170.29 \" fill=\"none\" id=\"E4-&gt;E2\" style=\"stroke: #383838; stroke-width: 1.0;\"/><polygon fill=\"#FFFFFF\" points=\"155.43,188.9,156.725,168.693,169.5254,174.3632,155.43,188.9\" style=\"stroke: #383838; stroke-width: 1.0;\"/><ellipse cx=\"160.8622\" cy=\"164.2914\" fill=\"#383838\" rx=\"2\" ry=\"2\" style=\"stroke: #383838; stroke-width: 1.0;\"/><ellipse cx=\"170.0053\" cy=\"168.3416\" fill=\"#383838\" rx=\"2\" ry=\"2\" style=\"stroke: #383838; stroke-width: 1.0;\"/></a><!--MD5=[2351f337d6de0f557b50152ba70847b5]\n",
       "link E6 to E2--><a href=\"psysml:a1f896e7-ae1f-4795-a4ef-b600067d493f\" target=\"_top\" title=\"psysml:a1f896e7-ae1f-4795-a4ef-b600067d493f\" xlink:actuate=\"onRequest\" xlink:href=\"psysml:a1f896e7-ae1f-4795-a4ef-b600067d493f\" xlink:show=\"new\" xlink:title=\"psysml:a1f896e7-ae1f-4795-a4ef-b600067d493f\" xlink:type=\"simple\"><path d=\"M92.72,123.15 C99.23,137.63 106.84,154.53 113.98,170.4 \" fill=\"none\" id=\"E6-&gt;E2\" style=\"stroke: #383838; stroke-width: 1.0;\"/><polygon fill=\"#FFFFFF\" points=\"122.2,188.68,108.0257,174.22,120.7951,168.4803,122.2,188.68\" style=\"stroke: #383838; stroke-width: 1.0;\"/><ellipse cx=\"107.5131\" cy=\"168.2011\" fill=\"#383838\" rx=\"2\" ry=\"2\" style=\"stroke: #383838; stroke-width: 1.0;\"/><ellipse cx=\"116.634\" cy=\"164.1014\" fill=\"#383838\" rx=\"2\" ry=\"2\" style=\"stroke: #383838; stroke-width: 1.0;\"/></a><!--MD5=[fc607ecb3b69f5e9c01101f6a9916c0c]\n",
       "@startuml\r\n",
       "skinparam monochrome true\r\n",
       "skinparam classbackgroundcolor white\r\n",
       "skinparam shadowing false\r\n",
       "skinparam wrapWidth 300\r\n",
       "hide circle\r\n",
       "\r\n",
       "package \"AliasTest\" as E1  [[psysml:6f25d091-f985-426b-8055-e92e3d48be4a ]]  {\r\n",
       "comp def \"P1\" as E2  <<(T,blue)part def>> [[psysml:258ca4bf-faa9-4328-8179-2aed0dfcbbf6 ]] {\r\n",
       "- - ports - -\r\n",
       "porig1 <b>as</b> po1 \r\n",
       "}\r\n",
       "comp usage \"p1: P1\" as E4  <<(T,blue)part>> [[psysml:a26c0441-e754-421d-8c32-eea1ef6cab52 ]] {\r\n",
       "- - ports - -\r\n",
       "po1\\n//:>>P1::porig1// \r\n",
       "}\r\n",
       "comp usage \"p2: P1\" as E6  <<(T,blue)part>> [[psysml:5c32a7f3-b309-4357-ac47-765b0be17034 ]] {\r\n",
       "- - ports - -\r\n",
       "pdest <b>as</b> pd1 \r\n",
       "}\r\n",
       "E4 - -:|> E2 [[psysml:743cbcb0-f678-48b7-bb90-7aa18ca2c39d ]] \r\n",
       "E6 - -:|> E2 [[psysml:a1f896e7-ae1f-4795-a4ef-b600067d493f ]] \r\n",
       "}\r\n",
       "@enduml\r\n",
       "\n",
       "PlantUML version 1.2020.13(Sat Jun 13 12:26:38 UTC 2020)\n",
       "(EPL source distribution)\n",
       "Java Runtime: OpenJDK Runtime Environment\n",
       "JVM: OpenJDK 64-Bit Server VM\n",
       "Default Encoding: UTF-8\n",
       "Language: en\n",
       "Country: null\n",
       "--></g></svg>"
      ]
     },
     "execution_count": 43,
     "metadata": {},
     "output_type": "execute_result"
    }
   ],
   "source": [
    "%viz --style=\"DEFAULT\" --view=\"MIXED\" \"AliasTest\""
   ]
  },
  {
   "cell_type": "code",
   "execution_count": 44,
   "id": "directed-consultancy",
   "metadata": {
    "execution": {
     "iopub.execute_input": "2021-03-26T13:00:37.077862Z",
     "iopub.status.busy": "2021-03-26T13:00:37.076875Z",
     "iopub.status.idle": "2021-03-26T13:00:37.135333Z",
     "shell.execute_reply": "2021-03-26T13:00:37.134168Z"
    }
   },
   "outputs": [
    {
     "data": {
      "image/svg+xml": [
       "<?xml version=\"1.0\" encoding=\"UTF-8\" standalone=\"no\"?><svg xmlns=\"http://www.w3.org/2000/svg\" xmlns:xlink=\"http://www.w3.org/1999/xlink\" contentScriptType=\"application/ecmascript\" contentStyleType=\"text/css\" height=\"293px\" preserveAspectRatio=\"none\" style=\"width:285px;height:293px;\" version=\"1.1\" viewBox=\"0 0 285 293\" width=\"285px\" zoomAndPan=\"magnify\"><defs/><g><!--MD5=[fbc87193dbaf4d95561dea2c320d4a47]\n",
       "cluster E1--><a href=\"psysml:6f25d091-f985-426b-8055-e92e3d48be4a\" target=\"_top\" title=\"psysml:6f25d091-f985-426b-8055-e92e3d48be4a\" xlink:actuate=\"onRequest\" xlink:href=\"psysml:6f25d091-f985-426b-8055-e92e3d48be4a\" xlink:show=\"new\" xlink:title=\"psysml:6f25d091-f985-426b-8055-e92e3d48be4a\" xlink:type=\"simple\"><polygon fill=\"#FFFFFF\" points=\"16,6,94,6,101,28.2969,263,28.2969,263,281,16,281,16,6\" style=\"stroke: #000000; stroke-width: 1.5;\"/><line style=\"stroke: #000000; stroke-width: 1.5;\" x1=\"16\" x2=\"101\" y1=\"28.2969\" y2=\"28.2969\"/><text fill=\"#000000\" font-family=\"sans-serif\" font-size=\"14\" font-weight=\"bold\" lengthAdjust=\"spacingAndGlyphs\" textLength=\"72\" x=\"20\" y=\"20.9951\">AliasTest</text></a><!--MD5=[b4997ac47864f28c2f74865a473b2911]\n",
       "class E2--><a href=\"psysml:258ca4bf-faa9-4328-8179-2aed0dfcbbf6\" target=\"_top\" title=\"psysml:258ca4bf-faa9-4328-8179-2aed0dfcbbf6\" xlink:actuate=\"onRequest\" xlink:href=\"psysml:258ca4bf-faa9-4328-8179-2aed0dfcbbf6\" xlink:show=\"new\" xlink:title=\"psysml:258ca4bf-faa9-4328-8179-2aed0dfcbbf6\" xlink:type=\"simple\"><rect fill=\"#FFFFFF\" height=\"75.5469\" id=\"E2\" style=\"stroke: #383838; stroke-width: 1.5;\" width=\"92\" x=\"93\" y=\"189\"/><text fill=\"#000000\" font-family=\"sans-serif\" font-size=\"12\" font-style=\"italic\" lengthAdjust=\"spacingAndGlyphs\" textLength=\"64\" x=\"107\" y=\"205.1387\">«part def»</text><text fill=\"#000000\" font-family=\"sans-serif\" font-size=\"12\" lengthAdjust=\"spacingAndGlyphs\" textLength=\"16\" x=\"131\" y=\"219.1074\">P1</text><line style=\"stroke: #383838; stroke-width: 1.5;\" x1=\"94\" x2=\"184\" y1=\"226.9375\" y2=\"226.9375\"/><text fill=\"#000000\" font-family=\"sans-serif\" font-size=\"11\" lengthAdjust=\"spacingAndGlyphs\" textLength=\"36\" x=\"99\" y=\"257.9526\">porig1</text><text fill=\"#000000\" font-family=\"sans-serif\" font-size=\"11\" font-weight=\"bold\" lengthAdjust=\"spacingAndGlyphs\" textLength=\"15\" x=\"139\" y=\"257.9526\">as</text><text fill=\"#000000\" font-family=\"sans-serif\" font-size=\"11\" lengthAdjust=\"spacingAndGlyphs\" textLength=\"21\" x=\"158\" y=\"257.9526\">po1</text><line style=\"stroke: #383838; stroke-width: 1.0;\" x1=\"94\" x2=\"124\" y1=\"241.3398\" y2=\"241.3398\"/><text fill=\"#000000\" font-family=\"sans-serif\" font-size=\"11\" lengthAdjust=\"spacingAndGlyphs\" textLength=\"30\" x=\"124\" y=\"244.6479\">ports</text><line style=\"stroke: #383838; stroke-width: 1.0;\" x1=\"154\" x2=\"184\" y1=\"241.3398\" y2=\"241.3398\"/></a><!--MD5=[ebbe1d658d1005bcc118a6aa81145e00]\n",
       "class E4--><a href=\"psysml:a26c0441-e754-421d-8c32-eea1ef6cab52\" target=\"_top\" title=\"psysml:a26c0441-e754-421d-8c32-eea1ef6cab52\" xlink:actuate=\"onRequest\" xlink:href=\"psysml:a26c0441-e754-421d-8c32-eea1ef6cab52\" xlink:show=\"new\" xlink:title=\"psysml:a26c0441-e754-421d-8c32-eea1ef6cab52\" xlink:type=\"simple\"><rect fill=\"#FFFFFF\" height=\"88.3516\" id=\"E4\" rx=\"10\" ry=\"10\" style=\"stroke: #383838; stroke-width: 1.5;\" width=\"92\" x=\"155\" y=\"41\"/><text fill=\"#000000\" font-family=\"sans-serif\" font-size=\"12\" font-style=\"italic\" lengthAdjust=\"spacingAndGlyphs\" textLength=\"40\" x=\"181\" y=\"57.1387\">«part»</text><text fill=\"#000000\" font-family=\"sans-serif\" font-size=\"12\" lengthAdjust=\"spacingAndGlyphs\" textLength=\"40\" x=\"181\" y=\"71.1074\">p1: P1</text><line style=\"stroke: #383838; stroke-width: 1.5;\" x1=\"156\" x2=\"246\" y1=\"78.9375\" y2=\"78.9375\"/><text fill=\"#000000\" font-family=\"sans-serif\" font-size=\"11\" lengthAdjust=\"spacingAndGlyphs\" textLength=\"21\" x=\"161\" y=\"109.9526\">po1</text><text fill=\"#000000\" font-family=\"sans-serif\" font-size=\"11\" font-style=\"italic\" lengthAdjust=\"spacingAndGlyphs\" textLength=\"80\" x=\"161\" y=\"122.7573\">:&gt;&gt;P1::porig1</text><line style=\"stroke: #383838; stroke-width: 1.0;\" x1=\"156\" x2=\"186\" y1=\"93.3398\" y2=\"93.3398\"/><text fill=\"#000000\" font-family=\"sans-serif\" font-size=\"11\" lengthAdjust=\"spacingAndGlyphs\" textLength=\"30\" x=\"186\" y=\"96.6479\">ports</text><line style=\"stroke: #383838; stroke-width: 1.0;\" x1=\"216\" x2=\"246\" y1=\"93.3398\" y2=\"93.3398\"/></a><!--MD5=[60a26617385b1d2d0262a64233df1f8d]\n",
       "class E6--><a href=\"psysml:5c32a7f3-b309-4357-ac47-765b0be17034\" target=\"_top\" title=\"psysml:5c32a7f3-b309-4357-ac47-765b0be17034\" xlink:actuate=\"onRequest\" xlink:href=\"psysml:5c32a7f3-b309-4357-ac47-765b0be17034\" xlink:show=\"new\" xlink:title=\"psysml:5c32a7f3-b309-4357-ac47-765b0be17034\" xlink:type=\"simple\"><rect fill=\"#FFFFFF\" height=\"75.5469\" id=\"E6\" rx=\"10\" ry=\"10\" style=\"stroke: #383838; stroke-width: 1.5;\" width=\"88\" x=\"32\" y=\"47\"/><text fill=\"#000000\" font-family=\"sans-serif\" font-size=\"12\" font-style=\"italic\" lengthAdjust=\"spacingAndGlyphs\" textLength=\"40\" x=\"56\" y=\"63.1387\">«part»</text><text fill=\"#000000\" font-family=\"sans-serif\" font-size=\"12\" lengthAdjust=\"spacingAndGlyphs\" textLength=\"40\" x=\"56\" y=\"77.1074\">p2: P1</text><line style=\"stroke: #383838; stroke-width: 1.5;\" x1=\"33\" x2=\"119\" y1=\"84.9375\" y2=\"84.9375\"/><text fill=\"#000000\" font-family=\"sans-serif\" font-size=\"11\" lengthAdjust=\"spacingAndGlyphs\" textLength=\"32\" x=\"38\" y=\"115.9526\">pdest</text><text fill=\"#000000\" font-family=\"sans-serif\" font-size=\"11\" font-weight=\"bold\" lengthAdjust=\"spacingAndGlyphs\" textLength=\"15\" x=\"74\" y=\"115.9526\">as</text><text fill=\"#000000\" font-family=\"sans-serif\" font-size=\"11\" lengthAdjust=\"spacingAndGlyphs\" textLength=\"21\" x=\"93\" y=\"115.9526\">pd1</text><line style=\"stroke: #383838; stroke-width: 1.0;\" x1=\"33\" x2=\"61\" y1=\"99.3398\" y2=\"99.3398\"/><text fill=\"#000000\" font-family=\"sans-serif\" font-size=\"11\" lengthAdjust=\"spacingAndGlyphs\" textLength=\"30\" x=\"61\" y=\"102.6479\">ports</text><line style=\"stroke: #383838; stroke-width: 1.0;\" x1=\"91\" x2=\"119\" y1=\"99.3398\" y2=\"99.3398\"/></a><!--MD5=[185131fc0dcab0a4505a2ebe144e961b]\n",
       "link E4 to E2--><a href=\"psysml:743cbcb0-f678-48b7-bb90-7aa18ca2c39d\" target=\"_top\" title=\"psysml:743cbcb0-f678-48b7-bb90-7aa18ca2c39d\" xlink:actuate=\"onRequest\" xlink:href=\"psysml:743cbcb0-f678-48b7-bb90-7aa18ca2c39d\" xlink:show=\"new\" xlink:title=\"psysml:743cbcb0-f678-48b7-bb90-7aa18ca2c39d\" xlink:type=\"simple\"><path d=\"M181.89,129.15 C176.14,142.14 169.74,156.6 163.67,170.29 \" fill=\"none\" id=\"E4-&gt;E2\" style=\"stroke: #383838; stroke-width: 1.0;\"/><polygon fill=\"#FFFFFF\" points=\"155.43,188.9,156.725,168.693,169.5254,174.3632,155.43,188.9\" style=\"stroke: #383838; stroke-width: 1.0;\"/><ellipse cx=\"160.8622\" cy=\"164.2914\" fill=\"#383838\" rx=\"2\" ry=\"2\" style=\"stroke: #383838; stroke-width: 1.0;\"/><ellipse cx=\"170.0053\" cy=\"168.3416\" fill=\"#383838\" rx=\"2\" ry=\"2\" style=\"stroke: #383838; stroke-width: 1.0;\"/></a><!--MD5=[2351f337d6de0f557b50152ba70847b5]\n",
       "link E6 to E2--><a href=\"psysml:a1f896e7-ae1f-4795-a4ef-b600067d493f\" target=\"_top\" title=\"psysml:a1f896e7-ae1f-4795-a4ef-b600067d493f\" xlink:actuate=\"onRequest\" xlink:href=\"psysml:a1f896e7-ae1f-4795-a4ef-b600067d493f\" xlink:show=\"new\" xlink:title=\"psysml:a1f896e7-ae1f-4795-a4ef-b600067d493f\" xlink:type=\"simple\"><path d=\"M92.72,123.15 C99.23,137.63 106.84,154.53 113.98,170.4 \" fill=\"none\" id=\"E6-&gt;E2\" style=\"stroke: #383838; stroke-width: 1.0;\"/><polygon fill=\"#FFFFFF\" points=\"122.2,188.68,108.0257,174.22,120.7951,168.4803,122.2,188.68\" style=\"stroke: #383838; stroke-width: 1.0;\"/><ellipse cx=\"107.5131\" cy=\"168.2011\" fill=\"#383838\" rx=\"2\" ry=\"2\" style=\"stroke: #383838; stroke-width: 1.0;\"/><ellipse cx=\"116.634\" cy=\"164.1014\" fill=\"#383838\" rx=\"2\" ry=\"2\" style=\"stroke: #383838; stroke-width: 1.0;\"/></a><!--MD5=[1149f572dfeda9aa23d55ed6de19677c]\n",
       "@startuml\r\n",
       "top to bottom direction\r\n",
       "skinparam monochrome true\r\n",
       "skinparam classbackgroundcolor white\r\n",
       "skinparam shadowing false\r\n",
       "skinparam wrapWidth 300\r\n",
       "hide circle\r\n",
       "\r\n",
       "package \"AliasTest\" as E1  [[psysml:6f25d091-f985-426b-8055-e92e3d48be4a ]]  {\r\n",
       "comp def \"P1\" as E2  <<(T,blue)part def>> [[psysml:258ca4bf-faa9-4328-8179-2aed0dfcbbf6 ]] {\r\n",
       "- - ports - -\r\n",
       "porig1 <b>as</b> po1 \r\n",
       "}\r\n",
       "comp usage \"p1: P1\" as E4  <<(T,blue)part>> [[psysml:a26c0441-e754-421d-8c32-eea1ef6cab52 ]] {\r\n",
       "- - ports - -\r\n",
       "po1\\n//:>>P1::porig1// \r\n",
       "}\r\n",
       "comp usage \"p2: P1\" as E6  <<(T,blue)part>> [[psysml:5c32a7f3-b309-4357-ac47-765b0be17034 ]] {\r\n",
       "- - ports - -\r\n",
       "pdest <b>as</b> pd1 \r\n",
       "}\r\n",
       "E4 - -:|> E2 [[psysml:743cbcb0-f678-48b7-bb90-7aa18ca2c39d ]] \r\n",
       "E6 - -:|> E2 [[psysml:a1f896e7-ae1f-4795-a4ef-b600067d493f ]] \r\n",
       "}\r\n",
       "@enduml\r\n",
       "\n",
       "PlantUML version 1.2020.13(Sat Jun 13 12:26:38 UTC 2020)\n",
       "(EPL source distribution)\n",
       "Java Runtime: OpenJDK Runtime Environment\n",
       "JVM: OpenJDK 64-Bit Server VM\n",
       "Default Encoding: UTF-8\n",
       "Language: en\n",
       "Country: null\n",
       "--></g></svg>"
      ]
     },
     "execution_count": 44,
     "metadata": {},
     "output_type": "execute_result"
    }
   ],
   "source": [
    "%viz --style=\"TB\" --view=\"Default\" \"AliasTest\""
   ]
  },
  {
   "cell_type": "code",
   "execution_count": 45,
   "id": "vanilla-choir",
   "metadata": {
    "execution": {
     "iopub.execute_input": "2021-03-26T13:00:37.186656Z",
     "iopub.status.busy": "2021-03-26T13:00:37.186299Z",
     "iopub.status.idle": "2021-03-26T13:00:37.247742Z",
     "shell.execute_reply": "2021-03-26T13:00:37.246526Z"
    }
   },
   "outputs": [
    {
     "data": {
      "image/svg+xml": [
       "<?xml version=\"1.0\" encoding=\"UTF-8\" standalone=\"no\"?><svg xmlns=\"http://www.w3.org/2000/svg\" xmlns:xlink=\"http://www.w3.org/1999/xlink\" contentScriptType=\"application/ecmascript\" contentStyleType=\"text/css\" height=\"293px\" preserveAspectRatio=\"none\" style=\"width:285px;height:293px;\" version=\"1.1\" viewBox=\"0 0 285 293\" width=\"285px\" zoomAndPan=\"magnify\"><defs/><g><!--MD5=[fbc87193dbaf4d95561dea2c320d4a47]\n",
       "cluster E1--><a href=\"psysml:6f25d091-f985-426b-8055-e92e3d48be4a\" target=\"_top\" title=\"psysml:6f25d091-f985-426b-8055-e92e3d48be4a\" xlink:actuate=\"onRequest\" xlink:href=\"psysml:6f25d091-f985-426b-8055-e92e3d48be4a\" xlink:show=\"new\" xlink:title=\"psysml:6f25d091-f985-426b-8055-e92e3d48be4a\" xlink:type=\"simple\"><polygon fill=\"#FFFFFF\" points=\"16,6,94,6,101,28.2969,263,28.2969,263,281,16,281,16,6\" style=\"stroke: #000000; stroke-width: 1.5;\"/><line style=\"stroke: #000000; stroke-width: 1.5;\" x1=\"16\" x2=\"101\" y1=\"28.2969\" y2=\"28.2969\"/><text fill=\"#000000\" font-family=\"sans-serif\" font-size=\"14\" font-weight=\"bold\" lengthAdjust=\"spacingAndGlyphs\" textLength=\"72\" x=\"20\" y=\"20.9951\">AliasTest</text></a><!--MD5=[b4997ac47864f28c2f74865a473b2911]\n",
       "class E2--><a href=\"psysml:258ca4bf-faa9-4328-8179-2aed0dfcbbf6\" target=\"_top\" title=\"psysml:258ca4bf-faa9-4328-8179-2aed0dfcbbf6\" xlink:actuate=\"onRequest\" xlink:href=\"psysml:258ca4bf-faa9-4328-8179-2aed0dfcbbf6\" xlink:show=\"new\" xlink:title=\"psysml:258ca4bf-faa9-4328-8179-2aed0dfcbbf6\" xlink:type=\"simple\"><rect fill=\"#FFFFFF\" height=\"75.5469\" id=\"E2\" style=\"stroke: #383838; stroke-width: 1.5;\" width=\"92\" x=\"93\" y=\"189\"/><text fill=\"#000000\" font-family=\"sans-serif\" font-size=\"12\" font-style=\"italic\" lengthAdjust=\"spacingAndGlyphs\" textLength=\"64\" x=\"107\" y=\"205.1387\">«part def»</text><text fill=\"#000000\" font-family=\"sans-serif\" font-size=\"12\" lengthAdjust=\"spacingAndGlyphs\" textLength=\"16\" x=\"131\" y=\"219.1074\">P1</text><line style=\"stroke: #383838; stroke-width: 1.5;\" x1=\"94\" x2=\"184\" y1=\"226.9375\" y2=\"226.9375\"/><text fill=\"#000000\" font-family=\"sans-serif\" font-size=\"11\" lengthAdjust=\"spacingAndGlyphs\" textLength=\"36\" x=\"99\" y=\"257.9526\">porig1</text><text fill=\"#000000\" font-family=\"sans-serif\" font-size=\"11\" font-weight=\"bold\" lengthAdjust=\"spacingAndGlyphs\" textLength=\"15\" x=\"139\" y=\"257.9526\">as</text><text fill=\"#000000\" font-family=\"sans-serif\" font-size=\"11\" lengthAdjust=\"spacingAndGlyphs\" textLength=\"21\" x=\"158\" y=\"257.9526\">po1</text><line style=\"stroke: #383838; stroke-width: 1.0;\" x1=\"94\" x2=\"124\" y1=\"241.3398\" y2=\"241.3398\"/><text fill=\"#000000\" font-family=\"sans-serif\" font-size=\"11\" lengthAdjust=\"spacingAndGlyphs\" textLength=\"30\" x=\"124\" y=\"244.6479\">ports</text><line style=\"stroke: #383838; stroke-width: 1.0;\" x1=\"154\" x2=\"184\" y1=\"241.3398\" y2=\"241.3398\"/></a><!--MD5=[ebbe1d658d1005bcc118a6aa81145e00]\n",
       "class E4--><a href=\"psysml:a26c0441-e754-421d-8c32-eea1ef6cab52\" target=\"_top\" title=\"psysml:a26c0441-e754-421d-8c32-eea1ef6cab52\" xlink:actuate=\"onRequest\" xlink:href=\"psysml:a26c0441-e754-421d-8c32-eea1ef6cab52\" xlink:show=\"new\" xlink:title=\"psysml:a26c0441-e754-421d-8c32-eea1ef6cab52\" xlink:type=\"simple\"><rect fill=\"#FFFFFF\" height=\"88.3516\" id=\"E4\" rx=\"10\" ry=\"10\" style=\"stroke: #383838; stroke-width: 1.5;\" width=\"92\" x=\"155\" y=\"41\"/><text fill=\"#000000\" font-family=\"sans-serif\" font-size=\"12\" font-style=\"italic\" lengthAdjust=\"spacingAndGlyphs\" textLength=\"40\" x=\"181\" y=\"57.1387\">«part»</text><text fill=\"#000000\" font-family=\"sans-serif\" font-size=\"12\" lengthAdjust=\"spacingAndGlyphs\" textLength=\"40\" x=\"181\" y=\"71.1074\">p1: P1</text><line style=\"stroke: #383838; stroke-width: 1.5;\" x1=\"156\" x2=\"246\" y1=\"78.9375\" y2=\"78.9375\"/><text fill=\"#000000\" font-family=\"sans-serif\" font-size=\"11\" lengthAdjust=\"spacingAndGlyphs\" textLength=\"21\" x=\"161\" y=\"109.9526\">po1</text><text fill=\"#000000\" font-family=\"sans-serif\" font-size=\"11\" font-style=\"italic\" lengthAdjust=\"spacingAndGlyphs\" textLength=\"80\" x=\"161\" y=\"122.7573\">:&gt;&gt;P1::porig1</text><line style=\"stroke: #383838; stroke-width: 1.0;\" x1=\"156\" x2=\"186\" y1=\"93.3398\" y2=\"93.3398\"/><text fill=\"#000000\" font-family=\"sans-serif\" font-size=\"11\" lengthAdjust=\"spacingAndGlyphs\" textLength=\"30\" x=\"186\" y=\"96.6479\">ports</text><line style=\"stroke: #383838; stroke-width: 1.0;\" x1=\"216\" x2=\"246\" y1=\"93.3398\" y2=\"93.3398\"/></a><!--MD5=[60a26617385b1d2d0262a64233df1f8d]\n",
       "class E6--><a href=\"psysml:5c32a7f3-b309-4357-ac47-765b0be17034\" target=\"_top\" title=\"psysml:5c32a7f3-b309-4357-ac47-765b0be17034\" xlink:actuate=\"onRequest\" xlink:href=\"psysml:5c32a7f3-b309-4357-ac47-765b0be17034\" xlink:show=\"new\" xlink:title=\"psysml:5c32a7f3-b309-4357-ac47-765b0be17034\" xlink:type=\"simple\"><rect fill=\"#FFFFFF\" height=\"75.5469\" id=\"E6\" rx=\"10\" ry=\"10\" style=\"stroke: #383838; stroke-width: 1.5;\" width=\"88\" x=\"32\" y=\"47\"/><text fill=\"#000000\" font-family=\"sans-serif\" font-size=\"12\" font-style=\"italic\" lengthAdjust=\"spacingAndGlyphs\" textLength=\"40\" x=\"56\" y=\"63.1387\">«part»</text><text fill=\"#000000\" font-family=\"sans-serif\" font-size=\"12\" lengthAdjust=\"spacingAndGlyphs\" textLength=\"40\" x=\"56\" y=\"77.1074\">p2: P1</text><line style=\"stroke: #383838; stroke-width: 1.5;\" x1=\"33\" x2=\"119\" y1=\"84.9375\" y2=\"84.9375\"/><text fill=\"#000000\" font-family=\"sans-serif\" font-size=\"11\" lengthAdjust=\"spacingAndGlyphs\" textLength=\"32\" x=\"38\" y=\"115.9526\">pdest</text><text fill=\"#000000\" font-family=\"sans-serif\" font-size=\"11\" font-weight=\"bold\" lengthAdjust=\"spacingAndGlyphs\" textLength=\"15\" x=\"74\" y=\"115.9526\">as</text><text fill=\"#000000\" font-family=\"sans-serif\" font-size=\"11\" lengthAdjust=\"spacingAndGlyphs\" textLength=\"21\" x=\"93\" y=\"115.9526\">pd1</text><line style=\"stroke: #383838; stroke-width: 1.0;\" x1=\"33\" x2=\"61\" y1=\"99.3398\" y2=\"99.3398\"/><text fill=\"#000000\" font-family=\"sans-serif\" font-size=\"11\" lengthAdjust=\"spacingAndGlyphs\" textLength=\"30\" x=\"61\" y=\"102.6479\">ports</text><line style=\"stroke: #383838; stroke-width: 1.0;\" x1=\"91\" x2=\"119\" y1=\"99.3398\" y2=\"99.3398\"/></a><!--MD5=[185131fc0dcab0a4505a2ebe144e961b]\n",
       "link E4 to E2--><a href=\"psysml:743cbcb0-f678-48b7-bb90-7aa18ca2c39d\" target=\"_top\" title=\"psysml:743cbcb0-f678-48b7-bb90-7aa18ca2c39d\" xlink:actuate=\"onRequest\" xlink:href=\"psysml:743cbcb0-f678-48b7-bb90-7aa18ca2c39d\" xlink:show=\"new\" xlink:title=\"psysml:743cbcb0-f678-48b7-bb90-7aa18ca2c39d\" xlink:type=\"simple\"><path d=\"M181.89,129.15 C176.14,142.14 169.74,156.6 163.67,170.29 \" fill=\"none\" id=\"E4-&gt;E2\" style=\"stroke: #383838; stroke-width: 1.0;\"/><polygon fill=\"#FFFFFF\" points=\"155.43,188.9,156.725,168.693,169.5254,174.3632,155.43,188.9\" style=\"stroke: #383838; stroke-width: 1.0;\"/><ellipse cx=\"160.8622\" cy=\"164.2914\" fill=\"#383838\" rx=\"2\" ry=\"2\" style=\"stroke: #383838; stroke-width: 1.0;\"/><ellipse cx=\"170.0053\" cy=\"168.3416\" fill=\"#383838\" rx=\"2\" ry=\"2\" style=\"stroke: #383838; stroke-width: 1.0;\"/></a><!--MD5=[2351f337d6de0f557b50152ba70847b5]\n",
       "link E6 to E2--><a href=\"psysml:a1f896e7-ae1f-4795-a4ef-b600067d493f\" target=\"_top\" title=\"psysml:a1f896e7-ae1f-4795-a4ef-b600067d493f\" xlink:actuate=\"onRequest\" xlink:href=\"psysml:a1f896e7-ae1f-4795-a4ef-b600067d493f\" xlink:show=\"new\" xlink:title=\"psysml:a1f896e7-ae1f-4795-a4ef-b600067d493f\" xlink:type=\"simple\"><path d=\"M92.72,123.15 C99.23,137.63 106.84,154.53 113.98,170.4 \" fill=\"none\" id=\"E6-&gt;E2\" style=\"stroke: #383838; stroke-width: 1.0;\"/><polygon fill=\"#FFFFFF\" points=\"122.2,188.68,108.0257,174.22,120.7951,168.4803,122.2,188.68\" style=\"stroke: #383838; stroke-width: 1.0;\"/><ellipse cx=\"107.5131\" cy=\"168.2011\" fill=\"#383838\" rx=\"2\" ry=\"2\" style=\"stroke: #383838; stroke-width: 1.0;\"/><ellipse cx=\"116.634\" cy=\"164.1014\" fill=\"#383838\" rx=\"2\" ry=\"2\" style=\"stroke: #383838; stroke-width: 1.0;\"/></a><!--MD5=[1149f572dfeda9aa23d55ed6de19677c]\n",
       "@startuml\r\n",
       "top to bottom direction\r\n",
       "skinparam monochrome true\r\n",
       "skinparam classbackgroundcolor white\r\n",
       "skinparam shadowing false\r\n",
       "skinparam wrapWidth 300\r\n",
       "hide circle\r\n",
       "\r\n",
       "package \"AliasTest\" as E1  [[psysml:6f25d091-f985-426b-8055-e92e3d48be4a ]]  {\r\n",
       "comp def \"P1\" as E2  <<(T,blue)part def>> [[psysml:258ca4bf-faa9-4328-8179-2aed0dfcbbf6 ]] {\r\n",
       "- - ports - -\r\n",
       "porig1 <b>as</b> po1 \r\n",
       "}\r\n",
       "comp usage \"p1: P1\" as E4  <<(T,blue)part>> [[psysml:a26c0441-e754-421d-8c32-eea1ef6cab52 ]] {\r\n",
       "- - ports - -\r\n",
       "po1\\n//:>>P1::porig1// \r\n",
       "}\r\n",
       "comp usage \"p2: P1\" as E6  <<(T,blue)part>> [[psysml:5c32a7f3-b309-4357-ac47-765b0be17034 ]] {\r\n",
       "- - ports - -\r\n",
       "pdest <b>as</b> pd1 \r\n",
       "}\r\n",
       "E4 - -:|> E2 [[psysml:743cbcb0-f678-48b7-bb90-7aa18ca2c39d ]] \r\n",
       "E6 - -:|> E2 [[psysml:a1f896e7-ae1f-4795-a4ef-b600067d493f ]] \r\n",
       "}\r\n",
       "@enduml\r\n",
       "\n",
       "PlantUML version 1.2020.13(Sat Jun 13 12:26:38 UTC 2020)\n",
       "(EPL source distribution)\n",
       "Java Runtime: OpenJDK Runtime Environment\n",
       "JVM: OpenJDK 64-Bit Server VM\n",
       "Default Encoding: UTF-8\n",
       "Language: en\n",
       "Country: null\n",
       "--></g></svg>"
      ]
     },
     "execution_count": 45,
     "metadata": {},
     "output_type": "execute_result"
    }
   ],
   "source": [
    "%viz --style=\"TB\" --view=\"Tree\" \"AliasTest\""
   ]
  },
  {
   "cell_type": "code",
   "execution_count": 46,
   "id": "blocked-coordinator",
   "metadata": {
    "execution": {
     "iopub.execute_input": "2021-03-26T13:00:37.299337Z",
     "iopub.status.busy": "2021-03-26T13:00:37.297611Z",
     "iopub.status.idle": "2021-03-26T13:00:37.306377Z",
     "shell.execute_reply": "2021-03-26T13:00:37.305781Z"
    }
   },
   "outputs": [
    {
     "data": {
      "image/svg+xml": [
       "<?xml version=\"1.0\" encoding=\"UTF-8\" standalone=\"no\"?><svg xmlns=\"http://www.w3.org/2000/svg\" xmlns:xlink=\"http://www.w3.org/1999/xlink\" contentScriptType=\"application/ecmascript\" contentStyleType=\"text/css\" height=\"12px\" preserveAspectRatio=\"none\" style=\"width:12px;height:12px;\" version=\"1.1\" viewBox=\"0 0 12 12\" width=\"12px\" zoomAndPan=\"magnify\"><defs/><g><!--MD5=[f4ee21bc66e489b5061b7c3e9601fdef]\n",
       "@startuml\r\n",
       "top to bottom direction\r\n",
       "skinparam monochrome true\r\n",
       "skinparam classbackgroundcolor white\r\n",
       "skinparam shadowing false\r\n",
       "skinparam wrapWidth 300\r\n",
       "hide circle\r\n",
       "\r\n",
       "@enduml\r\n",
       "\n",
       "PlantUML version 1.2020.13(Sat Jun 13 12:26:38 UTC 2020)\n",
       "(EPL source distribution)\n",
       "Java Runtime: OpenJDK Runtime Environment\n",
       "JVM: OpenJDK 64-Bit Server VM\n",
       "Default Encoding: UTF-8\n",
       "Language: en\n",
       "Country: null\n",
       "--></g></svg>"
      ]
     },
     "execution_count": 46,
     "metadata": {},
     "output_type": "execute_result"
    }
   ],
   "source": [
    "%viz --style=\"TB\" --view=\"State\" \"AliasTest\""
   ]
  },
  {
   "cell_type": "code",
   "execution_count": 47,
   "id": "presidential-summit",
   "metadata": {
    "execution": {
     "iopub.execute_input": "2021-03-26T13:00:37.359780Z",
     "iopub.status.busy": "2021-03-26T13:00:37.359071Z",
     "iopub.status.idle": "2021-03-26T13:00:37.390472Z",
     "shell.execute_reply": "2021-03-26T13:00:37.389351Z"
    }
   },
   "outputs": [
    {
     "data": {
      "image/svg+xml": [
       "<?xml version=\"1.0\" encoding=\"UTF-8\" standalone=\"no\"?><svg xmlns=\"http://www.w3.org/2000/svg\" xmlns:xlink=\"http://www.w3.org/1999/xlink\" contentScriptType=\"application/ecmascript\" contentStyleType=\"text/css\" height=\"207px\" preserveAspectRatio=\"none\" style=\"width:406px;height:207px;\" version=\"1.1\" viewBox=\"0 0 406 207\" width=\"406px\" zoomAndPan=\"magnify\"><defs/><g><!--MD5=[fbc87193dbaf4d95561dea2c320d4a47]\n",
       "cluster E1--><a href=\"psysml:6f25d091-f985-426b-8055-e92e3d48be4a\" target=\"_top\" title=\"psysml:6f25d091-f985-426b-8055-e92e3d48be4a\" xlink:actuate=\"onRequest\" xlink:href=\"psysml:6f25d091-f985-426b-8055-e92e3d48be4a\" xlink:show=\"new\" xlink:title=\"psysml:6f25d091-f985-426b-8055-e92e3d48be4a\" xlink:type=\"simple\"><polygon fill=\"#FFFFFF\" points=\"16,6,94,6,101,28.2969,384,28.2969,384,195,16,195,16,6\" style=\"stroke: #000000; stroke-width: 1.5;\"/><line style=\"stroke: #000000; stroke-width: 1.5;\" x1=\"16\" x2=\"101\" y1=\"28.2969\" y2=\"28.2969\"/><text fill=\"#000000\" font-family=\"sans-serif\" font-size=\"14\" font-weight=\"bold\" lengthAdjust=\"spacingAndGlyphs\" textLength=\"72\" x=\"20\" y=\"20.9951\">AliasTest</text></a><!--MD5=[e4f7fae6ed58524ba242bb0b0d3be6b7]\n",
       "cluster E2--><a href=\"psysml:258ca4bf-faa9-4328-8179-2aed0dfcbbf6\" target=\"_top\" title=\"psysml:258ca4bf-faa9-4328-8179-2aed0dfcbbf6\" xlink:actuate=\"onRequest\" xlink:href=\"psysml:258ca4bf-faa9-4328-8179-2aed0dfcbbf6\" xlink:show=\"new\" xlink:title=\"psysml:258ca4bf-faa9-4328-8179-2aed0dfcbbf6\" xlink:type=\"simple\"><rect fill=\"#FFFFFF\" height=\"73\" id=\"E2\" style=\"stroke: #383838; stroke-width: 1.5;\" width=\"83\" x=\"244\" y=\"55\"/><rect fill=\"#F8F8F8\" height=\"37.9375\" style=\"stroke: #383838; stroke-width: 1.5;\" width=\"83\" x=\"244\" y=\"55\"/><text fill=\"#000000\" font-family=\"sans-serif\" font-size=\"12\" font-style=\"italic\" lengthAdjust=\"spacingAndGlyphs\" textLength=\"64\" x=\"253.5\" y=\"71.1387\">«part def»</text><text fill=\"#000000\" font-family=\"sans-serif\" font-size=\"12\" lengthAdjust=\"spacingAndGlyphs\" textLength=\"16\" x=\"277.5\" y=\"85.1074\">P1</text></a><!--MD5=[de5ec2e2e8f62f467e546659f5068c88]\n",
       "cluster E5--><a href=\"psysml:a26c0441-e754-421d-8c32-eea1ef6cab52\" target=\"_top\" title=\"psysml:a26c0441-e754-421d-8c32-eea1ef6cab52\" xlink:actuate=\"onRequest\" xlink:href=\"psysml:a26c0441-e754-421d-8c32-eea1ef6cab52\" xlink:show=\"new\" xlink:title=\"psysml:a26c0441-e754-421d-8c32-eea1ef6cab52\" xlink:type=\"simple\"><rect fill=\"#FFFFFF\" height=\"84.5\" id=\"E5\" rx=\"10\" ry=\"10\" style=\"stroke: #383838; stroke-width: 1.5;\" width=\"101\" x=\"139\" y=\"94.5\"/><rect fill=\"#F8F8F8\" height=\"23.9688\" rx=\"10\" ry=\"10\" style=\"stroke: #F8F8F8; stroke-width: 1.5;\" width=\"101\" x=\"139\" y=\"94.5\"/><rect fill=\"#F8F8F8\" height=\"10\" style=\"stroke: #F8F8F8; stroke-width: 1.5;\" width=\"101\" x=\"139\" y=\"108.4688\"/><rect fill=\"none\" height=\"84.5\" id=\"E5\" rx=\"10\" ry=\"10\" style=\"stroke: #383838; stroke-width: 1.5;\" width=\"101\" x=\"139\" y=\"94.5\"/><text fill=\"#000000\" font-family=\"sans-serif\" font-size=\"12\" lengthAdjust=\"spacingAndGlyphs\" textLength=\"40\" x=\"169.5\" y=\"110.6387\">p1: P1</text><line style=\"stroke: #383838; stroke-width: 1.0;\" x1=\"139\" x2=\"240\" y1=\"118.4688\" y2=\"118.4688\"/></a><!--MD5=[168fadf3d0c3fd93dd5d6da1b1d7ab76]\n",
       "cluster E7--><a href=\"psysml:5c32a7f3-b309-4357-ac47-765b0be17034\" target=\"_top\" title=\"psysml:5c32a7f3-b309-4357-ac47-765b0be17034\" xlink:actuate=\"onRequest\" xlink:href=\"psysml:5c32a7f3-b309-4357-ac47-765b0be17034\" xlink:show=\"new\" xlink:title=\"psysml:5c32a7f3-b309-4357-ac47-765b0be17034\" xlink:type=\"simple\"><rect fill=\"#FFFFFF\" height=\"65\" id=\"E7\" rx=\"10\" ry=\"10\" style=\"stroke: #383838; stroke-width: 1.5;\" width=\"83\" x=\"53\" y=\"55\"/><rect fill=\"#F8F8F8\" height=\"23.9688\" rx=\"10\" ry=\"10\" style=\"stroke: #F8F8F8; stroke-width: 1.5;\" width=\"83\" x=\"53\" y=\"55\"/><rect fill=\"#F8F8F8\" height=\"10\" style=\"stroke: #F8F8F8; stroke-width: 1.5;\" width=\"83\" x=\"53\" y=\"68.9688\"/><rect fill=\"none\" height=\"65\" id=\"E7\" rx=\"10\" ry=\"10\" style=\"stroke: #383838; stroke-width: 1.5;\" width=\"83\" x=\"53\" y=\"55\"/><text fill=\"#000000\" font-family=\"sans-serif\" font-size=\"12\" lengthAdjust=\"spacingAndGlyphs\" textLength=\"40\" x=\"74.5\" y=\"71.1387\">p2: P1</text><line style=\"stroke: #383838; stroke-width: 1.0;\" x1=\"53\" x2=\"136\" y1=\"78.9688\" y2=\"78.9688\"/></a><text fill=\"#000000\" font-family=\"sans-serif\" font-size=\"14\" lengthAdjust=\"spacingAndGlyphs\" textLength=\"44\" x=\"240\" y=\"33.6982\">porig1</text><rect fill=\"#383838\" height=\"12\" style=\"stroke: #F8F8F8; stroke-width: 1.5;\" width=\"12\" x=\"256\" y=\"49\"/><text fill=\"#000000\" font-family=\"sans-serif\" font-size=\"14\" lengthAdjust=\"spacingAndGlyphs\" textLength=\"44\" x=\"287\" y=\"33.6982\">porig1</text><rect fill=\"#383838\" height=\"12\" style=\"stroke: #F8F8F8; stroke-width: 1.5;\" width=\"12\" x=\"303\" y=\"49\"/><text fill=\"#000000\" font-family=\"sans-serif\" font-size=\"14\" lengthAdjust=\"spacingAndGlyphs\" textLength=\"27\" x=\"143.5\" y=\"73.1982\">po1</text><rect fill=\"#383838\" height=\"12\" style=\"stroke: #F8F8F8; stroke-width: 1.5;\" width=\"12\" x=\"151\" y=\"88.5\"/><text fill=\"#000000\" font-family=\"sans-serif\" font-size=\"14\" lengthAdjust=\"spacingAndGlyphs\" textLength=\"40\" x=\"51\" y=\"33.6982\">pdest</text><rect fill=\"#383838\" height=\"12\" style=\"stroke: #F8F8F8; stroke-width: 1.5;\" width=\"12\" x=\"65\" y=\"49\"/><text fill=\"#000000\" font-family=\"sans-serif\" font-size=\"14\" lengthAdjust=\"spacingAndGlyphs\" textLength=\"40\" x=\"98\" y=\"33.6982\">pdest</text><rect fill=\"#383838\" height=\"12\" style=\"stroke: #F8F8F8; stroke-width: 1.5;\" width=\"12\" x=\"112\" y=\"49\"/><!--MD5=[60ac2c0cde89d4308155b0484e57a8ec]\n",
       "link E9 to E6--><a href=\"psysml:df73490b-6554-48a2-b250-43b559083f0a\" target=\"_top\" title=\"psysml:df73490b-6554-48a2-b250-43b559083f0a\" xlink:actuate=\"onRequest\" xlink:href=\"psysml:df73490b-6554-48a2-b250-43b559083f0a\" xlink:show=\"new\" xlink:title=\"psysml:df73490b-6554-48a2-b250-43b559083f0a\" xlink:type=\"simple\"><path d=\"M111.75,56.49 C103.41,58.2 109.82,64.05 115,69 C124.85,78.4 136.6,90.11 150.78,92.89 \" fill=\"none\" id=\"E9-E6\" style=\"stroke: #383838; stroke-width: 3.0;\"/></a><!--MD5=[60ac2c0cde89d4308155b0484e57a8ec]\n",
       "link E9 to E6--><a href=\"psysml:45234df1-ac0c-4024-a641-0b76867140fc\" target=\"_top\" title=\"psysml:45234df1-ac0c-4024-a641-0b76867140fc\" xlink:actuate=\"onRequest\" xlink:href=\"psysml:45234df1-ac0c-4024-a641-0b76867140fc\" xlink:show=\"new\" xlink:title=\"psysml:45234df1-ac0c-4024-a641-0b76867140fc\" xlink:type=\"simple\"><path d=\"M124.29,56.32 C137.94,57.76 144.62,63.87 150,69 C159.5,78.06 170.77,89.27 163.24,92.56 \" fill=\"none\" id=\"E9-E6-1\" style=\"stroke: #383838; stroke-width: 3.0;\"/></a><!--MD5=[462ac05321de14f4a704bd5ed34adb5e]\n",
       "@startuml\r\n",
       "skinparam ranksep 8\r\n",
       "skinparam rectangle {\r\n",
       " backgroundColor<<block>> LightGreen\r\n",
       "}\r\n",
       "top to bottom direction\r\n",
       "skinparam monochrome true\r\n",
       "skinparam classbackgroundcolor white\r\n",
       "skinparam shadowing false\r\n",
       "skinparam wrapWidth 300\r\n",
       "hide circle\r\n",
       "\r\n",
       "package \"AliasTest\" as E1  [[psysml:6f25d091-f985-426b-8055-e92e3d48be4a ]]  {\r\n",
       "rec def \"P1\" as E2  <<(T,blue)part def>> [[psysml:258ca4bf-faa9-4328-8179-2aed0dfcbbf6 ]] {\r\n",
       "portin \"porig1\" as E3  <<(T,blue)port>> [[psysml:9209c45f-41ff-489f-bc17-bfe3af02fc93 ]] \r\n",
       "portin \"porig1\" as E4  <<(T,blue)port>> [[psysml:9209c45f-41ff-489f-bc17-bfe3af02fc93 ]] \r\n",
       "}\r\n",
       "rec usage \"p1: P1\" as E5  [[psysml:a26c0441-e754-421d-8c32-eea1ef6cab52 ]] {\r\n",
       "portin \"po1\" as E6  <<(T,blue)port>> [[psysml:aa893173-d0db-4be8-bf63-d1ddc32421c6 ]] \r\n",
       "}\r\n",
       "rec usage \"p2: P1\" as E7  [[psysml:5c32a7f3-b309-4357-ac47-765b0be17034 ]] {\r\n",
       "portin \"pdest\" as E8  <<(T,blue)port>> [[psysml:cb10c624-640d-45a1-89db-7833fbdc21f8 ]] \r\n",
       "portin \"pdest\" as E9  <<(T,blue)port>> [[psysml:cb10c624-640d-45a1-89db-7833fbdc21f8 ]] \r\n",
       "}\r\n",
       "E9 -[thickness=3]- E6 [[psysml:df73490b-6554-48a2-b250-43b559083f0a ]] \r\n",
       "E9 -[thickness=3]- E6 [[psysml:45234df1-ac0c-4024-a641-0b76867140fc ]] \r\n",
       "}\r\n",
       "@enduml\r\n",
       "\n",
       "PlantUML version 1.2020.13(Sat Jun 13 12:26:38 UTC 2020)\n",
       "(EPL source distribution)\n",
       "Java Runtime: OpenJDK Runtime Environment\n",
       "JVM: OpenJDK 64-Bit Server VM\n",
       "Default Encoding: UTF-8\n",
       "Language: en\n",
       "Country: null\n",
       "--></g></svg>"
      ]
     },
     "execution_count": 47,
     "metadata": {},
     "output_type": "execute_result"
    }
   ],
   "source": [
    "%viz --style=\"TB\" --view=\"Interconnection\" \"AliasTest\""
   ]
  },
  {
   "cell_type": "code",
   "execution_count": 48,
   "id": "romance-grant",
   "metadata": {
    "execution": {
     "iopub.execute_input": "2021-03-26T13:00:37.442687Z",
     "iopub.status.busy": "2021-03-26T13:00:37.441981Z",
     "iopub.status.idle": "2021-03-26T13:00:37.448500Z",
     "shell.execute_reply": "2021-03-26T13:00:37.448126Z"
    }
   },
   "outputs": [
    {
     "data": {
      "image/svg+xml": [
       "<?xml version=\"1.0\" encoding=\"UTF-8\" standalone=\"no\"?><svg xmlns=\"http://www.w3.org/2000/svg\" xmlns:xlink=\"http://www.w3.org/1999/xlink\" contentScriptType=\"application/ecmascript\" contentStyleType=\"text/css\" height=\"12px\" preserveAspectRatio=\"none\" style=\"width:12px;height:12px;\" version=\"1.1\" viewBox=\"0 0 12 12\" width=\"12px\" zoomAndPan=\"magnify\"><defs/><g><!--MD5=[06afc254b03ac5e9d9fb7773b07d0800]\n",
       "@startuml\r\n",
       "skinparam ranksep 8\r\n",
       "top to bottom direction\r\n",
       "skinparam monochrome true\r\n",
       "skinparam classbackgroundcolor white\r\n",
       "skinparam shadowing false\r\n",
       "skinparam wrapWidth 300\r\n",
       "hide circle\r\n",
       "\r\n",
       "@enduml\r\n",
       "\n",
       "PlantUML version 1.2020.13(Sat Jun 13 12:26:38 UTC 2020)\n",
       "(EPL source distribution)\n",
       "Java Runtime: OpenJDK Runtime Environment\n",
       "JVM: OpenJDK 64-Bit Server VM\n",
       "Default Encoding: UTF-8\n",
       "Language: en\n",
       "Country: null\n",
       "--></g></svg>"
      ]
     },
     "execution_count": 48,
     "metadata": {},
     "output_type": "execute_result"
    }
   ],
   "source": [
    "%viz --style=\"TB\" --view=\"Action\" \"AliasTest\""
   ]
  },
  {
   "cell_type": "code",
   "execution_count": 49,
   "id": "little-mechanism",
   "metadata": {
    "execution": {
     "iopub.execute_input": "2021-03-26T13:00:37.498801Z",
     "iopub.status.busy": "2021-03-26T13:00:37.498373Z",
     "iopub.status.idle": "2021-03-26T13:00:37.569355Z",
     "shell.execute_reply": "2021-03-26T13:00:37.568231Z"
    }
   },
   "outputs": [
    {
     "data": {
      "image/svg+xml": [
       "<?xml version=\"1.0\" encoding=\"UTF-8\" standalone=\"no\"?><svg xmlns=\"http://www.w3.org/2000/svg\" xmlns:xlink=\"http://www.w3.org/1999/xlink\" contentScriptType=\"application/ecmascript\" contentStyleType=\"text/css\" height=\"293px\" preserveAspectRatio=\"none\" style=\"width:285px;height:293px;\" version=\"1.1\" viewBox=\"0 0 285 293\" width=\"285px\" zoomAndPan=\"magnify\"><defs/><g><!--MD5=[fbc87193dbaf4d95561dea2c320d4a47]\n",
       "cluster E1--><a href=\"psysml:6f25d091-f985-426b-8055-e92e3d48be4a\" target=\"_top\" title=\"psysml:6f25d091-f985-426b-8055-e92e3d48be4a\" xlink:actuate=\"onRequest\" xlink:href=\"psysml:6f25d091-f985-426b-8055-e92e3d48be4a\" xlink:show=\"new\" xlink:title=\"psysml:6f25d091-f985-426b-8055-e92e3d48be4a\" xlink:type=\"simple\"><polygon fill=\"#FFFFFF\" points=\"16,6,94,6,101,28.2969,263,28.2969,263,281,16,281,16,6\" style=\"stroke: #000000; stroke-width: 1.5;\"/><line style=\"stroke: #000000; stroke-width: 1.5;\" x1=\"16\" x2=\"101\" y1=\"28.2969\" y2=\"28.2969\"/><text fill=\"#000000\" font-family=\"sans-serif\" font-size=\"14\" font-weight=\"bold\" lengthAdjust=\"spacingAndGlyphs\" textLength=\"72\" x=\"20\" y=\"20.9951\">AliasTest</text></a><!--MD5=[b4997ac47864f28c2f74865a473b2911]\n",
       "class E2--><a href=\"psysml:258ca4bf-faa9-4328-8179-2aed0dfcbbf6\" target=\"_top\" title=\"psysml:258ca4bf-faa9-4328-8179-2aed0dfcbbf6\" xlink:actuate=\"onRequest\" xlink:href=\"psysml:258ca4bf-faa9-4328-8179-2aed0dfcbbf6\" xlink:show=\"new\" xlink:title=\"psysml:258ca4bf-faa9-4328-8179-2aed0dfcbbf6\" xlink:type=\"simple\"><rect fill=\"#FFFFFF\" height=\"75.5469\" id=\"E2\" style=\"stroke: #383838; stroke-width: 1.5;\" width=\"92\" x=\"93\" y=\"189\"/><text fill=\"#000000\" font-family=\"sans-serif\" font-size=\"12\" font-style=\"italic\" lengthAdjust=\"spacingAndGlyphs\" textLength=\"64\" x=\"107\" y=\"205.1387\">«part def»</text><text fill=\"#000000\" font-family=\"sans-serif\" font-size=\"12\" lengthAdjust=\"spacingAndGlyphs\" textLength=\"16\" x=\"131\" y=\"219.1074\">P1</text><line style=\"stroke: #383838; stroke-width: 1.5;\" x1=\"94\" x2=\"184\" y1=\"226.9375\" y2=\"226.9375\"/><text fill=\"#000000\" font-family=\"sans-serif\" font-size=\"11\" lengthAdjust=\"spacingAndGlyphs\" textLength=\"36\" x=\"99\" y=\"257.9526\">porig1</text><text fill=\"#000000\" font-family=\"sans-serif\" font-size=\"11\" font-weight=\"bold\" lengthAdjust=\"spacingAndGlyphs\" textLength=\"15\" x=\"139\" y=\"257.9526\">as</text><text fill=\"#000000\" font-family=\"sans-serif\" font-size=\"11\" lengthAdjust=\"spacingAndGlyphs\" textLength=\"21\" x=\"158\" y=\"257.9526\">po1</text><line style=\"stroke: #383838; stroke-width: 1.0;\" x1=\"94\" x2=\"124\" y1=\"241.3398\" y2=\"241.3398\"/><text fill=\"#000000\" font-family=\"sans-serif\" font-size=\"11\" lengthAdjust=\"spacingAndGlyphs\" textLength=\"30\" x=\"124\" y=\"244.6479\">ports</text><line style=\"stroke: #383838; stroke-width: 1.0;\" x1=\"154\" x2=\"184\" y1=\"241.3398\" y2=\"241.3398\"/></a><!--MD5=[ebbe1d658d1005bcc118a6aa81145e00]\n",
       "class E4--><a href=\"psysml:a26c0441-e754-421d-8c32-eea1ef6cab52\" target=\"_top\" title=\"psysml:a26c0441-e754-421d-8c32-eea1ef6cab52\" xlink:actuate=\"onRequest\" xlink:href=\"psysml:a26c0441-e754-421d-8c32-eea1ef6cab52\" xlink:show=\"new\" xlink:title=\"psysml:a26c0441-e754-421d-8c32-eea1ef6cab52\" xlink:type=\"simple\"><rect fill=\"#FFFFFF\" height=\"88.3516\" id=\"E4\" rx=\"10\" ry=\"10\" style=\"stroke: #383838; stroke-width: 1.5;\" width=\"92\" x=\"155\" y=\"41\"/><text fill=\"#000000\" font-family=\"sans-serif\" font-size=\"12\" font-style=\"italic\" lengthAdjust=\"spacingAndGlyphs\" textLength=\"40\" x=\"181\" y=\"57.1387\">«part»</text><text fill=\"#000000\" font-family=\"sans-serif\" font-size=\"12\" lengthAdjust=\"spacingAndGlyphs\" textLength=\"40\" x=\"181\" y=\"71.1074\">p1: P1</text><line style=\"stroke: #383838; stroke-width: 1.5;\" x1=\"156\" x2=\"246\" y1=\"78.9375\" y2=\"78.9375\"/><text fill=\"#000000\" font-family=\"sans-serif\" font-size=\"11\" lengthAdjust=\"spacingAndGlyphs\" textLength=\"21\" x=\"161\" y=\"109.9526\">po1</text><text fill=\"#000000\" font-family=\"sans-serif\" font-size=\"11\" font-style=\"italic\" lengthAdjust=\"spacingAndGlyphs\" textLength=\"80\" x=\"161\" y=\"122.7573\">:&gt;&gt;P1::porig1</text><line style=\"stroke: #383838; stroke-width: 1.0;\" x1=\"156\" x2=\"186\" y1=\"93.3398\" y2=\"93.3398\"/><text fill=\"#000000\" font-family=\"sans-serif\" font-size=\"11\" lengthAdjust=\"spacingAndGlyphs\" textLength=\"30\" x=\"186\" y=\"96.6479\">ports</text><line style=\"stroke: #383838; stroke-width: 1.0;\" x1=\"216\" x2=\"246\" y1=\"93.3398\" y2=\"93.3398\"/></a><!--MD5=[60a26617385b1d2d0262a64233df1f8d]\n",
       "class E6--><a href=\"psysml:5c32a7f3-b309-4357-ac47-765b0be17034\" target=\"_top\" title=\"psysml:5c32a7f3-b309-4357-ac47-765b0be17034\" xlink:actuate=\"onRequest\" xlink:href=\"psysml:5c32a7f3-b309-4357-ac47-765b0be17034\" xlink:show=\"new\" xlink:title=\"psysml:5c32a7f3-b309-4357-ac47-765b0be17034\" xlink:type=\"simple\"><rect fill=\"#FFFFFF\" height=\"75.5469\" id=\"E6\" rx=\"10\" ry=\"10\" style=\"stroke: #383838; stroke-width: 1.5;\" width=\"88\" x=\"32\" y=\"47\"/><text fill=\"#000000\" font-family=\"sans-serif\" font-size=\"12\" font-style=\"italic\" lengthAdjust=\"spacingAndGlyphs\" textLength=\"40\" x=\"56\" y=\"63.1387\">«part»</text><text fill=\"#000000\" font-family=\"sans-serif\" font-size=\"12\" lengthAdjust=\"spacingAndGlyphs\" textLength=\"40\" x=\"56\" y=\"77.1074\">p2: P1</text><line style=\"stroke: #383838; stroke-width: 1.5;\" x1=\"33\" x2=\"119\" y1=\"84.9375\" y2=\"84.9375\"/><text fill=\"#000000\" font-family=\"sans-serif\" font-size=\"11\" lengthAdjust=\"spacingAndGlyphs\" textLength=\"32\" x=\"38\" y=\"115.9526\">pdest</text><text fill=\"#000000\" font-family=\"sans-serif\" font-size=\"11\" font-weight=\"bold\" lengthAdjust=\"spacingAndGlyphs\" textLength=\"15\" x=\"74\" y=\"115.9526\">as</text><text fill=\"#000000\" font-family=\"sans-serif\" font-size=\"11\" lengthAdjust=\"spacingAndGlyphs\" textLength=\"21\" x=\"93\" y=\"115.9526\">pd1</text><line style=\"stroke: #383838; stroke-width: 1.0;\" x1=\"33\" x2=\"61\" y1=\"99.3398\" y2=\"99.3398\"/><text fill=\"#000000\" font-family=\"sans-serif\" font-size=\"11\" lengthAdjust=\"spacingAndGlyphs\" textLength=\"30\" x=\"61\" y=\"102.6479\">ports</text><line style=\"stroke: #383838; stroke-width: 1.0;\" x1=\"91\" x2=\"119\" y1=\"99.3398\" y2=\"99.3398\"/></a><!--MD5=[185131fc0dcab0a4505a2ebe144e961b]\n",
       "link E4 to E2--><a href=\"psysml:743cbcb0-f678-48b7-bb90-7aa18ca2c39d\" target=\"_top\" title=\"psysml:743cbcb0-f678-48b7-bb90-7aa18ca2c39d\" xlink:actuate=\"onRequest\" xlink:href=\"psysml:743cbcb0-f678-48b7-bb90-7aa18ca2c39d\" xlink:show=\"new\" xlink:title=\"psysml:743cbcb0-f678-48b7-bb90-7aa18ca2c39d\" xlink:type=\"simple\"><path d=\"M181.89,129.15 C176.14,142.14 169.74,156.6 163.67,170.29 \" fill=\"none\" id=\"E4-&gt;E2\" style=\"stroke: #383838; stroke-width: 1.0;\"/><polygon fill=\"#FFFFFF\" points=\"155.43,188.9,156.725,168.693,169.5254,174.3632,155.43,188.9\" style=\"stroke: #383838; stroke-width: 1.0;\"/><ellipse cx=\"160.8622\" cy=\"164.2914\" fill=\"#383838\" rx=\"2\" ry=\"2\" style=\"stroke: #383838; stroke-width: 1.0;\"/><ellipse cx=\"170.0053\" cy=\"168.3416\" fill=\"#383838\" rx=\"2\" ry=\"2\" style=\"stroke: #383838; stroke-width: 1.0;\"/></a><!--MD5=[2351f337d6de0f557b50152ba70847b5]\n",
       "link E6 to E2--><a href=\"psysml:a1f896e7-ae1f-4795-a4ef-b600067d493f\" target=\"_top\" title=\"psysml:a1f896e7-ae1f-4795-a4ef-b600067d493f\" xlink:actuate=\"onRequest\" xlink:href=\"psysml:a1f896e7-ae1f-4795-a4ef-b600067d493f\" xlink:show=\"new\" xlink:title=\"psysml:a1f896e7-ae1f-4795-a4ef-b600067d493f\" xlink:type=\"simple\"><path d=\"M92.72,123.15 C99.23,137.63 106.84,154.53 113.98,170.4 \" fill=\"none\" id=\"E6-&gt;E2\" style=\"stroke: #383838; stroke-width: 1.0;\"/><polygon fill=\"#FFFFFF\" points=\"122.2,188.68,108.0257,174.22,120.7951,168.4803,122.2,188.68\" style=\"stroke: #383838; stroke-width: 1.0;\"/><ellipse cx=\"107.5131\" cy=\"168.2011\" fill=\"#383838\" rx=\"2\" ry=\"2\" style=\"stroke: #383838; stroke-width: 1.0;\"/><ellipse cx=\"116.634\" cy=\"164.1014\" fill=\"#383838\" rx=\"2\" ry=\"2\" style=\"stroke: #383838; stroke-width: 1.0;\"/></a><!--MD5=[1149f572dfeda9aa23d55ed6de19677c]\n",
       "@startuml\r\n",
       "top to bottom direction\r\n",
       "skinparam monochrome true\r\n",
       "skinparam classbackgroundcolor white\r\n",
       "skinparam shadowing false\r\n",
       "skinparam wrapWidth 300\r\n",
       "hide circle\r\n",
       "\r\n",
       "package \"AliasTest\" as E1  [[psysml:6f25d091-f985-426b-8055-e92e3d48be4a ]]  {\r\n",
       "comp def \"P1\" as E2  <<(T,blue)part def>> [[psysml:258ca4bf-faa9-4328-8179-2aed0dfcbbf6 ]] {\r\n",
       "- - ports - -\r\n",
       "porig1 <b>as</b> po1 \r\n",
       "}\r\n",
       "comp usage \"p1: P1\" as E4  <<(T,blue)part>> [[psysml:a26c0441-e754-421d-8c32-eea1ef6cab52 ]] {\r\n",
       "- - ports - -\r\n",
       "po1\\n//:>>P1::porig1// \r\n",
       "}\r\n",
       "comp usage \"p2: P1\" as E6  <<(T,blue)part>> [[psysml:5c32a7f3-b309-4357-ac47-765b0be17034 ]] {\r\n",
       "- - ports - -\r\n",
       "pdest <b>as</b> pd1 \r\n",
       "}\r\n",
       "E4 - -:|> E2 [[psysml:743cbcb0-f678-48b7-bb90-7aa18ca2c39d ]] \r\n",
       "E6 - -:|> E2 [[psysml:a1f896e7-ae1f-4795-a4ef-b600067d493f ]] \r\n",
       "}\r\n",
       "@enduml\r\n",
       "\n",
       "PlantUML version 1.2020.13(Sat Jun 13 12:26:38 UTC 2020)\n",
       "(EPL source distribution)\n",
       "Java Runtime: OpenJDK Runtime Environment\n",
       "JVM: OpenJDK 64-Bit Server VM\n",
       "Default Encoding: UTF-8\n",
       "Language: en\n",
       "Country: null\n",
       "--></g></svg>"
      ]
     },
     "execution_count": 49,
     "metadata": {},
     "output_type": "execute_result"
    }
   ],
   "source": [
    "%viz --style=\"TB\" --view=\"Sequence\" \"AliasTest\""
   ]
  },
  {
   "cell_type": "code",
   "execution_count": 50,
   "id": "national-burden",
   "metadata": {
    "execution": {
     "iopub.execute_input": "2021-03-26T13:00:37.620084Z",
     "iopub.status.busy": "2021-03-26T13:00:37.619565Z",
     "iopub.status.idle": "2021-03-26T13:00:37.683138Z",
     "shell.execute_reply": "2021-03-26T13:00:37.682841Z"
    }
   },
   "outputs": [
    {
     "data": {
      "image/svg+xml": [
       "<?xml version=\"1.0\" encoding=\"UTF-8\" standalone=\"no\"?><svg xmlns=\"http://www.w3.org/2000/svg\" xmlns:xlink=\"http://www.w3.org/1999/xlink\" contentScriptType=\"application/ecmascript\" contentStyleType=\"text/css\" height=\"293px\" preserveAspectRatio=\"none\" style=\"width:285px;height:293px;\" version=\"1.1\" viewBox=\"0 0 285 293\" width=\"285px\" zoomAndPan=\"magnify\"><defs/><g><!--MD5=[fbc87193dbaf4d95561dea2c320d4a47]\n",
       "cluster E1--><a href=\"psysml:6f25d091-f985-426b-8055-e92e3d48be4a\" target=\"_top\" title=\"psysml:6f25d091-f985-426b-8055-e92e3d48be4a\" xlink:actuate=\"onRequest\" xlink:href=\"psysml:6f25d091-f985-426b-8055-e92e3d48be4a\" xlink:show=\"new\" xlink:title=\"psysml:6f25d091-f985-426b-8055-e92e3d48be4a\" xlink:type=\"simple\"><polygon fill=\"#FFFFFF\" points=\"16,6,94,6,101,28.2969,263,28.2969,263,281,16,281,16,6\" style=\"stroke: #000000; stroke-width: 1.5;\"/><line style=\"stroke: #000000; stroke-width: 1.5;\" x1=\"16\" x2=\"101\" y1=\"28.2969\" y2=\"28.2969\"/><text fill=\"#000000\" font-family=\"sans-serif\" font-size=\"14\" font-weight=\"bold\" lengthAdjust=\"spacingAndGlyphs\" textLength=\"72\" x=\"20\" y=\"20.9951\">AliasTest</text></a><!--MD5=[b4997ac47864f28c2f74865a473b2911]\n",
       "class E2--><a href=\"psysml:258ca4bf-faa9-4328-8179-2aed0dfcbbf6\" target=\"_top\" title=\"psysml:258ca4bf-faa9-4328-8179-2aed0dfcbbf6\" xlink:actuate=\"onRequest\" xlink:href=\"psysml:258ca4bf-faa9-4328-8179-2aed0dfcbbf6\" xlink:show=\"new\" xlink:title=\"psysml:258ca4bf-faa9-4328-8179-2aed0dfcbbf6\" xlink:type=\"simple\"><rect fill=\"#FFFFFF\" height=\"75.5469\" id=\"E2\" style=\"stroke: #383838; stroke-width: 1.5;\" width=\"92\" x=\"93\" y=\"189\"/><text fill=\"#000000\" font-family=\"sans-serif\" font-size=\"12\" font-style=\"italic\" lengthAdjust=\"spacingAndGlyphs\" textLength=\"64\" x=\"107\" y=\"205.1387\">«part def»</text><text fill=\"#000000\" font-family=\"sans-serif\" font-size=\"12\" lengthAdjust=\"spacingAndGlyphs\" textLength=\"16\" x=\"131\" y=\"219.1074\">P1</text><line style=\"stroke: #383838; stroke-width: 1.5;\" x1=\"94\" x2=\"184\" y1=\"226.9375\" y2=\"226.9375\"/><text fill=\"#000000\" font-family=\"sans-serif\" font-size=\"11\" lengthAdjust=\"spacingAndGlyphs\" textLength=\"36\" x=\"99\" y=\"257.9526\">porig1</text><text fill=\"#000000\" font-family=\"sans-serif\" font-size=\"11\" font-weight=\"bold\" lengthAdjust=\"spacingAndGlyphs\" textLength=\"15\" x=\"139\" y=\"257.9526\">as</text><text fill=\"#000000\" font-family=\"sans-serif\" font-size=\"11\" lengthAdjust=\"spacingAndGlyphs\" textLength=\"21\" x=\"158\" y=\"257.9526\">po1</text><line style=\"stroke: #383838; stroke-width: 1.0;\" x1=\"94\" x2=\"124\" y1=\"241.3398\" y2=\"241.3398\"/><text fill=\"#000000\" font-family=\"sans-serif\" font-size=\"11\" lengthAdjust=\"spacingAndGlyphs\" textLength=\"30\" x=\"124\" y=\"244.6479\">ports</text><line style=\"stroke: #383838; stroke-width: 1.0;\" x1=\"154\" x2=\"184\" y1=\"241.3398\" y2=\"241.3398\"/></a><!--MD5=[ebbe1d658d1005bcc118a6aa81145e00]\n",
       "class E4--><a href=\"psysml:a26c0441-e754-421d-8c32-eea1ef6cab52\" target=\"_top\" title=\"psysml:a26c0441-e754-421d-8c32-eea1ef6cab52\" xlink:actuate=\"onRequest\" xlink:href=\"psysml:a26c0441-e754-421d-8c32-eea1ef6cab52\" xlink:show=\"new\" xlink:title=\"psysml:a26c0441-e754-421d-8c32-eea1ef6cab52\" xlink:type=\"simple\"><rect fill=\"#FFFFFF\" height=\"88.3516\" id=\"E4\" rx=\"10\" ry=\"10\" style=\"stroke: #383838; stroke-width: 1.5;\" width=\"92\" x=\"155\" y=\"41\"/><text fill=\"#000000\" font-family=\"sans-serif\" font-size=\"12\" font-style=\"italic\" lengthAdjust=\"spacingAndGlyphs\" textLength=\"40\" x=\"181\" y=\"57.1387\">«part»</text><text fill=\"#000000\" font-family=\"sans-serif\" font-size=\"12\" lengthAdjust=\"spacingAndGlyphs\" textLength=\"40\" x=\"181\" y=\"71.1074\">p1: P1</text><line style=\"stroke: #383838; stroke-width: 1.5;\" x1=\"156\" x2=\"246\" y1=\"78.9375\" y2=\"78.9375\"/><text fill=\"#000000\" font-family=\"sans-serif\" font-size=\"11\" lengthAdjust=\"spacingAndGlyphs\" textLength=\"21\" x=\"161\" y=\"109.9526\">po1</text><text fill=\"#000000\" font-family=\"sans-serif\" font-size=\"11\" font-style=\"italic\" lengthAdjust=\"spacingAndGlyphs\" textLength=\"80\" x=\"161\" y=\"122.7573\">:&gt;&gt;P1::porig1</text><line style=\"stroke: #383838; stroke-width: 1.0;\" x1=\"156\" x2=\"186\" y1=\"93.3398\" y2=\"93.3398\"/><text fill=\"#000000\" font-family=\"sans-serif\" font-size=\"11\" lengthAdjust=\"spacingAndGlyphs\" textLength=\"30\" x=\"186\" y=\"96.6479\">ports</text><line style=\"stroke: #383838; stroke-width: 1.0;\" x1=\"216\" x2=\"246\" y1=\"93.3398\" y2=\"93.3398\"/></a><!--MD5=[60a26617385b1d2d0262a64233df1f8d]\n",
       "class E6--><a href=\"psysml:5c32a7f3-b309-4357-ac47-765b0be17034\" target=\"_top\" title=\"psysml:5c32a7f3-b309-4357-ac47-765b0be17034\" xlink:actuate=\"onRequest\" xlink:href=\"psysml:5c32a7f3-b309-4357-ac47-765b0be17034\" xlink:show=\"new\" xlink:title=\"psysml:5c32a7f3-b309-4357-ac47-765b0be17034\" xlink:type=\"simple\"><rect fill=\"#FFFFFF\" height=\"75.5469\" id=\"E6\" rx=\"10\" ry=\"10\" style=\"stroke: #383838; stroke-width: 1.5;\" width=\"88\" x=\"32\" y=\"47\"/><text fill=\"#000000\" font-family=\"sans-serif\" font-size=\"12\" font-style=\"italic\" lengthAdjust=\"spacingAndGlyphs\" textLength=\"40\" x=\"56\" y=\"63.1387\">«part»</text><text fill=\"#000000\" font-family=\"sans-serif\" font-size=\"12\" lengthAdjust=\"spacingAndGlyphs\" textLength=\"40\" x=\"56\" y=\"77.1074\">p2: P1</text><line style=\"stroke: #383838; stroke-width: 1.5;\" x1=\"33\" x2=\"119\" y1=\"84.9375\" y2=\"84.9375\"/><text fill=\"#000000\" font-family=\"sans-serif\" font-size=\"11\" lengthAdjust=\"spacingAndGlyphs\" textLength=\"32\" x=\"38\" y=\"115.9526\">pdest</text><text fill=\"#000000\" font-family=\"sans-serif\" font-size=\"11\" font-weight=\"bold\" lengthAdjust=\"spacingAndGlyphs\" textLength=\"15\" x=\"74\" y=\"115.9526\">as</text><text fill=\"#000000\" font-family=\"sans-serif\" font-size=\"11\" lengthAdjust=\"spacingAndGlyphs\" textLength=\"21\" x=\"93\" y=\"115.9526\">pd1</text><line style=\"stroke: #383838; stroke-width: 1.0;\" x1=\"33\" x2=\"61\" y1=\"99.3398\" y2=\"99.3398\"/><text fill=\"#000000\" font-family=\"sans-serif\" font-size=\"11\" lengthAdjust=\"spacingAndGlyphs\" textLength=\"30\" x=\"61\" y=\"102.6479\">ports</text><line style=\"stroke: #383838; stroke-width: 1.0;\" x1=\"91\" x2=\"119\" y1=\"99.3398\" y2=\"99.3398\"/></a><!--MD5=[185131fc0dcab0a4505a2ebe144e961b]\n",
       "link E4 to E2--><a href=\"psysml:743cbcb0-f678-48b7-bb90-7aa18ca2c39d\" target=\"_top\" title=\"psysml:743cbcb0-f678-48b7-bb90-7aa18ca2c39d\" xlink:actuate=\"onRequest\" xlink:href=\"psysml:743cbcb0-f678-48b7-bb90-7aa18ca2c39d\" xlink:show=\"new\" xlink:title=\"psysml:743cbcb0-f678-48b7-bb90-7aa18ca2c39d\" xlink:type=\"simple\"><path d=\"M181.89,129.15 C176.14,142.14 169.74,156.6 163.67,170.29 \" fill=\"none\" id=\"E4-&gt;E2\" style=\"stroke: #383838; stroke-width: 1.0;\"/><polygon fill=\"#FFFFFF\" points=\"155.43,188.9,156.725,168.693,169.5254,174.3632,155.43,188.9\" style=\"stroke: #383838; stroke-width: 1.0;\"/><ellipse cx=\"160.8622\" cy=\"164.2914\" fill=\"#383838\" rx=\"2\" ry=\"2\" style=\"stroke: #383838; stroke-width: 1.0;\"/><ellipse cx=\"170.0053\" cy=\"168.3416\" fill=\"#383838\" rx=\"2\" ry=\"2\" style=\"stroke: #383838; stroke-width: 1.0;\"/></a><!--MD5=[2351f337d6de0f557b50152ba70847b5]\n",
       "link E6 to E2--><a href=\"psysml:a1f896e7-ae1f-4795-a4ef-b600067d493f\" target=\"_top\" title=\"psysml:a1f896e7-ae1f-4795-a4ef-b600067d493f\" xlink:actuate=\"onRequest\" xlink:href=\"psysml:a1f896e7-ae1f-4795-a4ef-b600067d493f\" xlink:show=\"new\" xlink:title=\"psysml:a1f896e7-ae1f-4795-a4ef-b600067d493f\" xlink:type=\"simple\"><path d=\"M92.72,123.15 C99.23,137.63 106.84,154.53 113.98,170.4 \" fill=\"none\" id=\"E6-&gt;E2\" style=\"stroke: #383838; stroke-width: 1.0;\"/><polygon fill=\"#FFFFFF\" points=\"122.2,188.68,108.0257,174.22,120.7951,168.4803,122.2,188.68\" style=\"stroke: #383838; stroke-width: 1.0;\"/><ellipse cx=\"107.5131\" cy=\"168.2011\" fill=\"#383838\" rx=\"2\" ry=\"2\" style=\"stroke: #383838; stroke-width: 1.0;\"/><ellipse cx=\"116.634\" cy=\"164.1014\" fill=\"#383838\" rx=\"2\" ry=\"2\" style=\"stroke: #383838; stroke-width: 1.0;\"/></a><!--MD5=[1149f572dfeda9aa23d55ed6de19677c]\n",
       "@startuml\r\n",
       "top to bottom direction\r\n",
       "skinparam monochrome true\r\n",
       "skinparam classbackgroundcolor white\r\n",
       "skinparam shadowing false\r\n",
       "skinparam wrapWidth 300\r\n",
       "hide circle\r\n",
       "\r\n",
       "package \"AliasTest\" as E1  [[psysml:6f25d091-f985-426b-8055-e92e3d48be4a ]]  {\r\n",
       "comp def \"P1\" as E2  <<(T,blue)part def>> [[psysml:258ca4bf-faa9-4328-8179-2aed0dfcbbf6 ]] {\r\n",
       "- - ports - -\r\n",
       "porig1 <b>as</b> po1 \r\n",
       "}\r\n",
       "comp usage \"p1: P1\" as E4  <<(T,blue)part>> [[psysml:a26c0441-e754-421d-8c32-eea1ef6cab52 ]] {\r\n",
       "- - ports - -\r\n",
       "po1\\n//:>>P1::porig1// \r\n",
       "}\r\n",
       "comp usage \"p2: P1\" as E6  <<(T,blue)part>> [[psysml:5c32a7f3-b309-4357-ac47-765b0be17034 ]] {\r\n",
       "- - ports - -\r\n",
       "pdest <b>as</b> pd1 \r\n",
       "}\r\n",
       "E4 - -:|> E2 [[psysml:743cbcb0-f678-48b7-bb90-7aa18ca2c39d ]] \r\n",
       "E6 - -:|> E2 [[psysml:a1f896e7-ae1f-4795-a4ef-b600067d493f ]] \r\n",
       "}\r\n",
       "@enduml\r\n",
       "\n",
       "PlantUML version 1.2020.13(Sat Jun 13 12:26:38 UTC 2020)\n",
       "(EPL source distribution)\n",
       "Java Runtime: OpenJDK Runtime Environment\n",
       "JVM: OpenJDK 64-Bit Server VM\n",
       "Default Encoding: UTF-8\n",
       "Language: en\n",
       "Country: null\n",
       "--></g></svg>"
      ]
     },
     "execution_count": 50,
     "metadata": {},
     "output_type": "execute_result"
    }
   ],
   "source": [
    "%viz --style=\"TB\" --view=\"MIXED\" \"AliasTest\""
   ]
  },
  {
   "cell_type": "code",
   "execution_count": 51,
   "id": "italian-nerve",
   "metadata": {
    "execution": {
     "iopub.execute_input": "2021-03-26T13:00:37.735527Z",
     "iopub.status.busy": "2021-03-26T13:00:37.735035Z",
     "iopub.status.idle": "2021-03-26T13:00:37.800221Z",
     "shell.execute_reply": "2021-03-26T13:00:37.798948Z"
    }
   },
   "outputs": [
    {
     "data": {
      "image/svg+xml": [
       "<?xml version=\"1.0\" encoding=\"UTF-8\" standalone=\"no\"?><svg xmlns=\"http://www.w3.org/2000/svg\" xmlns:xlink=\"http://www.w3.org/1999/xlink\" contentScriptType=\"application/ecmascript\" contentStyleType=\"text/css\" height=\"293px\" preserveAspectRatio=\"none\" style=\"width:285px;height:293px;\" version=\"1.1\" viewBox=\"0 0 285 293\" width=\"285px\" zoomAndPan=\"magnify\"><defs/><g><!--MD5=[fbc87193dbaf4d95561dea2c320d4a47]\n",
       "cluster E1--><a href=\"psysml:6f25d091-f985-426b-8055-e92e3d48be4a\" target=\"_top\" title=\"psysml:6f25d091-f985-426b-8055-e92e3d48be4a\" xlink:actuate=\"onRequest\" xlink:href=\"psysml:6f25d091-f985-426b-8055-e92e3d48be4a\" xlink:show=\"new\" xlink:title=\"psysml:6f25d091-f985-426b-8055-e92e3d48be4a\" xlink:type=\"simple\"><polygon fill=\"#FFFFFF\" points=\"16,6,94,6,101,28.2969,263,28.2969,263,281,16,281,16,6\" style=\"stroke: #000000; stroke-width: 1.5;\"/><line style=\"stroke: #000000; stroke-width: 1.5;\" x1=\"16\" x2=\"101\" y1=\"28.2969\" y2=\"28.2969\"/><text fill=\"#000000\" font-family=\"sans-serif\" font-size=\"14\" font-weight=\"bold\" lengthAdjust=\"spacingAndGlyphs\" textLength=\"72\" x=\"20\" y=\"20.9951\">AliasTest</text></a><!--MD5=[b4997ac47864f28c2f74865a473b2911]\n",
       "class E2--><a href=\"psysml:258ca4bf-faa9-4328-8179-2aed0dfcbbf6\" target=\"_top\" title=\"psysml:258ca4bf-faa9-4328-8179-2aed0dfcbbf6\" xlink:actuate=\"onRequest\" xlink:href=\"psysml:258ca4bf-faa9-4328-8179-2aed0dfcbbf6\" xlink:show=\"new\" xlink:title=\"psysml:258ca4bf-faa9-4328-8179-2aed0dfcbbf6\" xlink:type=\"simple\"><rect fill=\"#FFFFFF\" height=\"75.5469\" id=\"E2\" style=\"stroke: #383838; stroke-width: 1.5;\" width=\"92\" x=\"93\" y=\"189\"/><text fill=\"#000000\" font-family=\"sans-serif\" font-size=\"12\" font-style=\"italic\" lengthAdjust=\"spacingAndGlyphs\" textLength=\"64\" x=\"107\" y=\"205.1387\">«part def»</text><text fill=\"#000000\" font-family=\"sans-serif\" font-size=\"12\" lengthAdjust=\"spacingAndGlyphs\" textLength=\"16\" x=\"131\" y=\"219.1074\">P1</text><line style=\"stroke: #383838; stroke-width: 1.5;\" x1=\"94\" x2=\"184\" y1=\"226.9375\" y2=\"226.9375\"/><text fill=\"#000000\" font-family=\"sans-serif\" font-size=\"11\" lengthAdjust=\"spacingAndGlyphs\" textLength=\"36\" x=\"99\" y=\"257.9526\">porig1</text><text fill=\"#000000\" font-family=\"sans-serif\" font-size=\"11\" font-weight=\"bold\" lengthAdjust=\"spacingAndGlyphs\" textLength=\"15\" x=\"139\" y=\"257.9526\">as</text><text fill=\"#000000\" font-family=\"sans-serif\" font-size=\"11\" lengthAdjust=\"spacingAndGlyphs\" textLength=\"21\" x=\"158\" y=\"257.9526\">po1</text><line style=\"stroke: #383838; stroke-width: 1.0;\" x1=\"94\" x2=\"124\" y1=\"241.3398\" y2=\"241.3398\"/><text fill=\"#000000\" font-family=\"sans-serif\" font-size=\"11\" lengthAdjust=\"spacingAndGlyphs\" textLength=\"30\" x=\"124\" y=\"244.6479\">ports</text><line style=\"stroke: #383838; stroke-width: 1.0;\" x1=\"154\" x2=\"184\" y1=\"241.3398\" y2=\"241.3398\"/></a><!--MD5=[ebbe1d658d1005bcc118a6aa81145e00]\n",
       "class E4--><a href=\"psysml:a26c0441-e754-421d-8c32-eea1ef6cab52\" target=\"_top\" title=\"psysml:a26c0441-e754-421d-8c32-eea1ef6cab52\" xlink:actuate=\"onRequest\" xlink:href=\"psysml:a26c0441-e754-421d-8c32-eea1ef6cab52\" xlink:show=\"new\" xlink:title=\"psysml:a26c0441-e754-421d-8c32-eea1ef6cab52\" xlink:type=\"simple\"><rect fill=\"#FFFFFF\" height=\"88.3516\" id=\"E4\" rx=\"10\" ry=\"10\" style=\"stroke: #383838; stroke-width: 1.5;\" width=\"92\" x=\"155\" y=\"41\"/><text fill=\"#000000\" font-family=\"sans-serif\" font-size=\"12\" font-style=\"italic\" lengthAdjust=\"spacingAndGlyphs\" textLength=\"40\" x=\"181\" y=\"57.1387\">«part»</text><text fill=\"#000000\" font-family=\"sans-serif\" font-size=\"12\" lengthAdjust=\"spacingAndGlyphs\" textLength=\"40\" x=\"181\" y=\"71.1074\">p1: P1</text><line style=\"stroke: #383838; stroke-width: 1.5;\" x1=\"156\" x2=\"246\" y1=\"78.9375\" y2=\"78.9375\"/><text fill=\"#000000\" font-family=\"sans-serif\" font-size=\"11\" lengthAdjust=\"spacingAndGlyphs\" textLength=\"21\" x=\"161\" y=\"109.9526\">po1</text><text fill=\"#000000\" font-family=\"sans-serif\" font-size=\"11\" font-style=\"italic\" lengthAdjust=\"spacingAndGlyphs\" textLength=\"80\" x=\"161\" y=\"122.7573\">:&gt;&gt;P1::porig1</text><line style=\"stroke: #383838; stroke-width: 1.0;\" x1=\"156\" x2=\"186\" y1=\"93.3398\" y2=\"93.3398\"/><text fill=\"#000000\" font-family=\"sans-serif\" font-size=\"11\" lengthAdjust=\"spacingAndGlyphs\" textLength=\"30\" x=\"186\" y=\"96.6479\">ports</text><line style=\"stroke: #383838; stroke-width: 1.0;\" x1=\"216\" x2=\"246\" y1=\"93.3398\" y2=\"93.3398\"/></a><!--MD5=[60a26617385b1d2d0262a64233df1f8d]\n",
       "class E6--><a href=\"psysml:5c32a7f3-b309-4357-ac47-765b0be17034\" target=\"_top\" title=\"psysml:5c32a7f3-b309-4357-ac47-765b0be17034\" xlink:actuate=\"onRequest\" xlink:href=\"psysml:5c32a7f3-b309-4357-ac47-765b0be17034\" xlink:show=\"new\" xlink:title=\"psysml:5c32a7f3-b309-4357-ac47-765b0be17034\" xlink:type=\"simple\"><rect fill=\"#FFFFFF\" height=\"75.5469\" id=\"E6\" rx=\"10\" ry=\"10\" style=\"stroke: #383838; stroke-width: 1.5;\" width=\"88\" x=\"32\" y=\"47\"/><text fill=\"#000000\" font-family=\"sans-serif\" font-size=\"12\" font-style=\"italic\" lengthAdjust=\"spacingAndGlyphs\" textLength=\"40\" x=\"56\" y=\"63.1387\">«part»</text><text fill=\"#000000\" font-family=\"sans-serif\" font-size=\"12\" lengthAdjust=\"spacingAndGlyphs\" textLength=\"40\" x=\"56\" y=\"77.1074\">p2: P1</text><line style=\"stroke: #383838; stroke-width: 1.5;\" x1=\"33\" x2=\"119\" y1=\"84.9375\" y2=\"84.9375\"/><text fill=\"#000000\" font-family=\"sans-serif\" font-size=\"11\" lengthAdjust=\"spacingAndGlyphs\" textLength=\"32\" x=\"38\" y=\"115.9526\">pdest</text><text fill=\"#000000\" font-family=\"sans-serif\" font-size=\"11\" font-weight=\"bold\" lengthAdjust=\"spacingAndGlyphs\" textLength=\"15\" x=\"74\" y=\"115.9526\">as</text><text fill=\"#000000\" font-family=\"sans-serif\" font-size=\"11\" lengthAdjust=\"spacingAndGlyphs\" textLength=\"21\" x=\"93\" y=\"115.9526\">pd1</text><line style=\"stroke: #383838; stroke-width: 1.0;\" x1=\"33\" x2=\"61\" y1=\"99.3398\" y2=\"99.3398\"/><text fill=\"#000000\" font-family=\"sans-serif\" font-size=\"11\" lengthAdjust=\"spacingAndGlyphs\" textLength=\"30\" x=\"61\" y=\"102.6479\">ports</text><line style=\"stroke: #383838; stroke-width: 1.0;\" x1=\"91\" x2=\"119\" y1=\"99.3398\" y2=\"99.3398\"/></a><!--MD5=[185131fc0dcab0a4505a2ebe144e961b]\n",
       "link E4 to E2--><a href=\"psysml:743cbcb0-f678-48b7-bb90-7aa18ca2c39d\" target=\"_top\" title=\"psysml:743cbcb0-f678-48b7-bb90-7aa18ca2c39d\" xlink:actuate=\"onRequest\" xlink:href=\"psysml:743cbcb0-f678-48b7-bb90-7aa18ca2c39d\" xlink:show=\"new\" xlink:title=\"psysml:743cbcb0-f678-48b7-bb90-7aa18ca2c39d\" xlink:type=\"simple\"><path d=\"M170,129.15 C170,129.15 170,168.63 170,168.63 \" fill=\"none\" id=\"E4-&gt;E2\" style=\"stroke: #383838; stroke-width: 1.0;\"/><polygon fill=\"#FFFFFF\" points=\"170,188.63,163,169.63,177,169.63,170,188.63\" style=\"stroke: #383838; stroke-width: 1.0;\"/><ellipse cx=\"165\" cy=\"163.93\" fill=\"#383838\" rx=\"2\" ry=\"2\" style=\"stroke: #383838; stroke-width: 1.0;\"/><ellipse cx=\"175\" cy=\"163.93\" fill=\"#383838\" rx=\"2\" ry=\"2\" style=\"stroke: #383838; stroke-width: 1.0;\"/></a><!--MD5=[2351f337d6de0f557b50152ba70847b5]\n",
       "link E6 to E2--><a href=\"psysml:a1f896e7-ae1f-4795-a4ef-b600067d493f\" target=\"_top\" title=\"psysml:a1f896e7-ae1f-4795-a4ef-b600067d493f\" xlink:actuate=\"onRequest\" xlink:href=\"psysml:a1f896e7-ae1f-4795-a4ef-b600067d493f\" xlink:show=\"new\" xlink:title=\"psysml:a1f896e7-ae1f-4795-a4ef-b600067d493f\" xlink:type=\"simple\"><path d=\"M106.5,123.05 C106.5,123.05 106.5,168.84 106.5,168.84 \" fill=\"none\" id=\"E6-&gt;E2\" style=\"stroke: #383838; stroke-width: 1.0;\"/><polygon fill=\"#FFFFFF\" points=\"106.5,188.84,99.5,169.84,113.5,169.84,106.5,188.84\" style=\"stroke: #383838; stroke-width: 1.0;\"/><ellipse cx=\"101.5\" cy=\"164.14\" fill=\"#383838\" rx=\"2\" ry=\"2\" style=\"stroke: #383838; stroke-width: 1.0;\"/><ellipse cx=\"111.5\" cy=\"164.14\" fill=\"#383838\" rx=\"2\" ry=\"2\" style=\"stroke: #383838; stroke-width: 1.0;\"/></a><!--MD5=[30883b8f57daef3ebb0b6da3b9e214d1]\n",
       "@startuml\r\n",
       "skinparam linetype ortho\r\n",
       "skinparam monochrome true\r\n",
       "skinparam classbackgroundcolor white\r\n",
       "skinparam shadowing false\r\n",
       "skinparam wrapWidth 300\r\n",
       "hide circle\r\n",
       "\r\n",
       "package \"AliasTest\" as E1  [[psysml:6f25d091-f985-426b-8055-e92e3d48be4a ]]  {\r\n",
       "comp def \"P1\" as E2  <<(T,blue)part def>> [[psysml:258ca4bf-faa9-4328-8179-2aed0dfcbbf6 ]] {\r\n",
       "- - ports - -\r\n",
       "porig1 <b>as</b> po1 \r\n",
       "}\r\n",
       "comp usage \"p1: P1\" as E4  <<(T,blue)part>> [[psysml:a26c0441-e754-421d-8c32-eea1ef6cab52 ]] {\r\n",
       "- - ports - -\r\n",
       "po1\\n//:>>P1::porig1// \r\n",
       "}\r\n",
       "comp usage \"p2: P1\" as E6  <<(T,blue)part>> [[psysml:5c32a7f3-b309-4357-ac47-765b0be17034 ]] {\r\n",
       "- - ports - -\r\n",
       "pdest <b>as</b> pd1 \r\n",
       "}\r\n",
       "E4 - -:|> E2 [[psysml:743cbcb0-f678-48b7-bb90-7aa18ca2c39d ]] \r\n",
       "E6 - -:|> E2 [[psysml:a1f896e7-ae1f-4795-a4ef-b600067d493f ]] \r\n",
       "}\r\n",
       "@enduml\r\n",
       "\n",
       "PlantUML version 1.2020.13(Sat Jun 13 12:26:38 UTC 2020)\n",
       "(EPL source distribution)\n",
       "Java Runtime: OpenJDK Runtime Environment\n",
       "JVM: OpenJDK 64-Bit Server VM\n",
       "Default Encoding: UTF-8\n",
       "Language: en\n",
       "Country: null\n",
       "--></g></svg>"
      ]
     },
     "execution_count": 51,
     "metadata": {},
     "output_type": "execute_result"
    }
   ],
   "source": [
    "%viz --style=\"ORTHOLINE\" --view=\"Default\" \"AliasTest\""
   ]
  },
  {
   "cell_type": "code",
   "execution_count": 52,
   "id": "handy-latex",
   "metadata": {
    "execution": {
     "iopub.execute_input": "2021-03-26T13:00:37.850621Z",
     "iopub.status.busy": "2021-03-26T13:00:37.850243Z",
     "iopub.status.idle": "2021-03-26T13:00:37.911124Z",
     "shell.execute_reply": "2021-03-26T13:00:37.909477Z"
    }
   },
   "outputs": [
    {
     "data": {
      "image/svg+xml": [
       "<?xml version=\"1.0\" encoding=\"UTF-8\" standalone=\"no\"?><svg xmlns=\"http://www.w3.org/2000/svg\" xmlns:xlink=\"http://www.w3.org/1999/xlink\" contentScriptType=\"application/ecmascript\" contentStyleType=\"text/css\" height=\"293px\" preserveAspectRatio=\"none\" style=\"width:285px;height:293px;\" version=\"1.1\" viewBox=\"0 0 285 293\" width=\"285px\" zoomAndPan=\"magnify\"><defs/><g><!--MD5=[fbc87193dbaf4d95561dea2c320d4a47]\n",
       "cluster E1--><a href=\"psysml:6f25d091-f985-426b-8055-e92e3d48be4a\" target=\"_top\" title=\"psysml:6f25d091-f985-426b-8055-e92e3d48be4a\" xlink:actuate=\"onRequest\" xlink:href=\"psysml:6f25d091-f985-426b-8055-e92e3d48be4a\" xlink:show=\"new\" xlink:title=\"psysml:6f25d091-f985-426b-8055-e92e3d48be4a\" xlink:type=\"simple\"><polygon fill=\"#FFFFFF\" points=\"16,6,94,6,101,28.2969,263,28.2969,263,281,16,281,16,6\" style=\"stroke: #000000; stroke-width: 1.5;\"/><line style=\"stroke: #000000; stroke-width: 1.5;\" x1=\"16\" x2=\"101\" y1=\"28.2969\" y2=\"28.2969\"/><text fill=\"#000000\" font-family=\"sans-serif\" font-size=\"14\" font-weight=\"bold\" lengthAdjust=\"spacingAndGlyphs\" textLength=\"72\" x=\"20\" y=\"20.9951\">AliasTest</text></a><!--MD5=[b4997ac47864f28c2f74865a473b2911]\n",
       "class E2--><a href=\"psysml:258ca4bf-faa9-4328-8179-2aed0dfcbbf6\" target=\"_top\" title=\"psysml:258ca4bf-faa9-4328-8179-2aed0dfcbbf6\" xlink:actuate=\"onRequest\" xlink:href=\"psysml:258ca4bf-faa9-4328-8179-2aed0dfcbbf6\" xlink:show=\"new\" xlink:title=\"psysml:258ca4bf-faa9-4328-8179-2aed0dfcbbf6\" xlink:type=\"simple\"><rect fill=\"#FFFFFF\" height=\"75.5469\" id=\"E2\" style=\"stroke: #383838; stroke-width: 1.5;\" width=\"92\" x=\"93\" y=\"189\"/><text fill=\"#000000\" font-family=\"sans-serif\" font-size=\"12\" font-style=\"italic\" lengthAdjust=\"spacingAndGlyphs\" textLength=\"64\" x=\"107\" y=\"205.1387\">«part def»</text><text fill=\"#000000\" font-family=\"sans-serif\" font-size=\"12\" lengthAdjust=\"spacingAndGlyphs\" textLength=\"16\" x=\"131\" y=\"219.1074\">P1</text><line style=\"stroke: #383838; stroke-width: 1.5;\" x1=\"94\" x2=\"184\" y1=\"226.9375\" y2=\"226.9375\"/><text fill=\"#000000\" font-family=\"sans-serif\" font-size=\"11\" lengthAdjust=\"spacingAndGlyphs\" textLength=\"36\" x=\"99\" y=\"257.9526\">porig1</text><text fill=\"#000000\" font-family=\"sans-serif\" font-size=\"11\" font-weight=\"bold\" lengthAdjust=\"spacingAndGlyphs\" textLength=\"15\" x=\"139\" y=\"257.9526\">as</text><text fill=\"#000000\" font-family=\"sans-serif\" font-size=\"11\" lengthAdjust=\"spacingAndGlyphs\" textLength=\"21\" x=\"158\" y=\"257.9526\">po1</text><line style=\"stroke: #383838; stroke-width: 1.0;\" x1=\"94\" x2=\"124\" y1=\"241.3398\" y2=\"241.3398\"/><text fill=\"#000000\" font-family=\"sans-serif\" font-size=\"11\" lengthAdjust=\"spacingAndGlyphs\" textLength=\"30\" x=\"124\" y=\"244.6479\">ports</text><line style=\"stroke: #383838; stroke-width: 1.0;\" x1=\"154\" x2=\"184\" y1=\"241.3398\" y2=\"241.3398\"/></a><!--MD5=[ebbe1d658d1005bcc118a6aa81145e00]\n",
       "class E4--><a href=\"psysml:a26c0441-e754-421d-8c32-eea1ef6cab52\" target=\"_top\" title=\"psysml:a26c0441-e754-421d-8c32-eea1ef6cab52\" xlink:actuate=\"onRequest\" xlink:href=\"psysml:a26c0441-e754-421d-8c32-eea1ef6cab52\" xlink:show=\"new\" xlink:title=\"psysml:a26c0441-e754-421d-8c32-eea1ef6cab52\" xlink:type=\"simple\"><rect fill=\"#FFFFFF\" height=\"88.3516\" id=\"E4\" rx=\"10\" ry=\"10\" style=\"stroke: #383838; stroke-width: 1.5;\" width=\"92\" x=\"155\" y=\"41\"/><text fill=\"#000000\" font-family=\"sans-serif\" font-size=\"12\" font-style=\"italic\" lengthAdjust=\"spacingAndGlyphs\" textLength=\"40\" x=\"181\" y=\"57.1387\">«part»</text><text fill=\"#000000\" font-family=\"sans-serif\" font-size=\"12\" lengthAdjust=\"spacingAndGlyphs\" textLength=\"40\" x=\"181\" y=\"71.1074\">p1: P1</text><line style=\"stroke: #383838; stroke-width: 1.5;\" x1=\"156\" x2=\"246\" y1=\"78.9375\" y2=\"78.9375\"/><text fill=\"#000000\" font-family=\"sans-serif\" font-size=\"11\" lengthAdjust=\"spacingAndGlyphs\" textLength=\"21\" x=\"161\" y=\"109.9526\">po1</text><text fill=\"#000000\" font-family=\"sans-serif\" font-size=\"11\" font-style=\"italic\" lengthAdjust=\"spacingAndGlyphs\" textLength=\"80\" x=\"161\" y=\"122.7573\">:&gt;&gt;P1::porig1</text><line style=\"stroke: #383838; stroke-width: 1.0;\" x1=\"156\" x2=\"186\" y1=\"93.3398\" y2=\"93.3398\"/><text fill=\"#000000\" font-family=\"sans-serif\" font-size=\"11\" lengthAdjust=\"spacingAndGlyphs\" textLength=\"30\" x=\"186\" y=\"96.6479\">ports</text><line style=\"stroke: #383838; stroke-width: 1.0;\" x1=\"216\" x2=\"246\" y1=\"93.3398\" y2=\"93.3398\"/></a><!--MD5=[60a26617385b1d2d0262a64233df1f8d]\n",
       "class E6--><a href=\"psysml:5c32a7f3-b309-4357-ac47-765b0be17034\" target=\"_top\" title=\"psysml:5c32a7f3-b309-4357-ac47-765b0be17034\" xlink:actuate=\"onRequest\" xlink:href=\"psysml:5c32a7f3-b309-4357-ac47-765b0be17034\" xlink:show=\"new\" xlink:title=\"psysml:5c32a7f3-b309-4357-ac47-765b0be17034\" xlink:type=\"simple\"><rect fill=\"#FFFFFF\" height=\"75.5469\" id=\"E6\" rx=\"10\" ry=\"10\" style=\"stroke: #383838; stroke-width: 1.5;\" width=\"88\" x=\"32\" y=\"47\"/><text fill=\"#000000\" font-family=\"sans-serif\" font-size=\"12\" font-style=\"italic\" lengthAdjust=\"spacingAndGlyphs\" textLength=\"40\" x=\"56\" y=\"63.1387\">«part»</text><text fill=\"#000000\" font-family=\"sans-serif\" font-size=\"12\" lengthAdjust=\"spacingAndGlyphs\" textLength=\"40\" x=\"56\" y=\"77.1074\">p2: P1</text><line style=\"stroke: #383838; stroke-width: 1.5;\" x1=\"33\" x2=\"119\" y1=\"84.9375\" y2=\"84.9375\"/><text fill=\"#000000\" font-family=\"sans-serif\" font-size=\"11\" lengthAdjust=\"spacingAndGlyphs\" textLength=\"32\" x=\"38\" y=\"115.9526\">pdest</text><text fill=\"#000000\" font-family=\"sans-serif\" font-size=\"11\" font-weight=\"bold\" lengthAdjust=\"spacingAndGlyphs\" textLength=\"15\" x=\"74\" y=\"115.9526\">as</text><text fill=\"#000000\" font-family=\"sans-serif\" font-size=\"11\" lengthAdjust=\"spacingAndGlyphs\" textLength=\"21\" x=\"93\" y=\"115.9526\">pd1</text><line style=\"stroke: #383838; stroke-width: 1.0;\" x1=\"33\" x2=\"61\" y1=\"99.3398\" y2=\"99.3398\"/><text fill=\"#000000\" font-family=\"sans-serif\" font-size=\"11\" lengthAdjust=\"spacingAndGlyphs\" textLength=\"30\" x=\"61\" y=\"102.6479\">ports</text><line style=\"stroke: #383838; stroke-width: 1.0;\" x1=\"91\" x2=\"119\" y1=\"99.3398\" y2=\"99.3398\"/></a><!--MD5=[185131fc0dcab0a4505a2ebe144e961b]\n",
       "link E4 to E2--><a href=\"psysml:743cbcb0-f678-48b7-bb90-7aa18ca2c39d\" target=\"_top\" title=\"psysml:743cbcb0-f678-48b7-bb90-7aa18ca2c39d\" xlink:actuate=\"onRequest\" xlink:href=\"psysml:743cbcb0-f678-48b7-bb90-7aa18ca2c39d\" xlink:show=\"new\" xlink:title=\"psysml:743cbcb0-f678-48b7-bb90-7aa18ca2c39d\" xlink:type=\"simple\"><path d=\"M170,129.15 C170,129.15 170,168.63 170,168.63 \" fill=\"none\" id=\"E4-&gt;E2\" style=\"stroke: #383838; stroke-width: 1.0;\"/><polygon fill=\"#FFFFFF\" points=\"170,188.63,163,169.63,177,169.63,170,188.63\" style=\"stroke: #383838; stroke-width: 1.0;\"/><ellipse cx=\"165\" cy=\"163.93\" fill=\"#383838\" rx=\"2\" ry=\"2\" style=\"stroke: #383838; stroke-width: 1.0;\"/><ellipse cx=\"175\" cy=\"163.93\" fill=\"#383838\" rx=\"2\" ry=\"2\" style=\"stroke: #383838; stroke-width: 1.0;\"/></a><!--MD5=[2351f337d6de0f557b50152ba70847b5]\n",
       "link E6 to E2--><a href=\"psysml:a1f896e7-ae1f-4795-a4ef-b600067d493f\" target=\"_top\" title=\"psysml:a1f896e7-ae1f-4795-a4ef-b600067d493f\" xlink:actuate=\"onRequest\" xlink:href=\"psysml:a1f896e7-ae1f-4795-a4ef-b600067d493f\" xlink:show=\"new\" xlink:title=\"psysml:a1f896e7-ae1f-4795-a4ef-b600067d493f\" xlink:type=\"simple\"><path d=\"M106.5,123.05 C106.5,123.05 106.5,168.84 106.5,168.84 \" fill=\"none\" id=\"E6-&gt;E2\" style=\"stroke: #383838; stroke-width: 1.0;\"/><polygon fill=\"#FFFFFF\" points=\"106.5,188.84,99.5,169.84,113.5,169.84,106.5,188.84\" style=\"stroke: #383838; stroke-width: 1.0;\"/><ellipse cx=\"101.5\" cy=\"164.14\" fill=\"#383838\" rx=\"2\" ry=\"2\" style=\"stroke: #383838; stroke-width: 1.0;\"/><ellipse cx=\"111.5\" cy=\"164.14\" fill=\"#383838\" rx=\"2\" ry=\"2\" style=\"stroke: #383838; stroke-width: 1.0;\"/></a><!--MD5=[30883b8f57daef3ebb0b6da3b9e214d1]\n",
       "@startuml\r\n",
       "skinparam linetype ortho\r\n",
       "skinparam monochrome true\r\n",
       "skinparam classbackgroundcolor white\r\n",
       "skinparam shadowing false\r\n",
       "skinparam wrapWidth 300\r\n",
       "hide circle\r\n",
       "\r\n",
       "package \"AliasTest\" as E1  [[psysml:6f25d091-f985-426b-8055-e92e3d48be4a ]]  {\r\n",
       "comp def \"P1\" as E2  <<(T,blue)part def>> [[psysml:258ca4bf-faa9-4328-8179-2aed0dfcbbf6 ]] {\r\n",
       "- - ports - -\r\n",
       "porig1 <b>as</b> po1 \r\n",
       "}\r\n",
       "comp usage \"p1: P1\" as E4  <<(T,blue)part>> [[psysml:a26c0441-e754-421d-8c32-eea1ef6cab52 ]] {\r\n",
       "- - ports - -\r\n",
       "po1\\n//:>>P1::porig1// \r\n",
       "}\r\n",
       "comp usage \"p2: P1\" as E6  <<(T,blue)part>> [[psysml:5c32a7f3-b309-4357-ac47-765b0be17034 ]] {\r\n",
       "- - ports - -\r\n",
       "pdest <b>as</b> pd1 \r\n",
       "}\r\n",
       "E4 - -:|> E2 [[psysml:743cbcb0-f678-48b7-bb90-7aa18ca2c39d ]] \r\n",
       "E6 - -:|> E2 [[psysml:a1f896e7-ae1f-4795-a4ef-b600067d493f ]] \r\n",
       "}\r\n",
       "@enduml\r\n",
       "\n",
       "PlantUML version 1.2020.13(Sat Jun 13 12:26:38 UTC 2020)\n",
       "(EPL source distribution)\n",
       "Java Runtime: OpenJDK Runtime Environment\n",
       "JVM: OpenJDK 64-Bit Server VM\n",
       "Default Encoding: UTF-8\n",
       "Language: en\n",
       "Country: null\n",
       "--></g></svg>"
      ]
     },
     "execution_count": 52,
     "metadata": {},
     "output_type": "execute_result"
    }
   ],
   "source": [
    "%viz --style=\"ORTHOLINE\" --view=\"Tree\" \"AliasTest\""
   ]
  },
  {
   "cell_type": "code",
   "execution_count": 53,
   "id": "desirable-moderator",
   "metadata": {
    "execution": {
     "iopub.execute_input": "2021-03-26T13:00:37.964143Z",
     "iopub.status.busy": "2021-03-26T13:00:37.963217Z",
     "iopub.status.idle": "2021-03-26T13:00:37.968664Z",
     "shell.execute_reply": "2021-03-26T13:00:37.968311Z"
    }
   },
   "outputs": [
    {
     "data": {
      "image/svg+xml": [
       "<?xml version=\"1.0\" encoding=\"UTF-8\" standalone=\"no\"?><svg xmlns=\"http://www.w3.org/2000/svg\" xmlns:xlink=\"http://www.w3.org/1999/xlink\" contentScriptType=\"application/ecmascript\" contentStyleType=\"text/css\" height=\"12px\" preserveAspectRatio=\"none\" style=\"width:12px;height:12px;\" version=\"1.1\" viewBox=\"0 0 12 12\" width=\"12px\" zoomAndPan=\"magnify\"><defs/><g><!--MD5=[97d6f38768b311333d388e66b2b27985]\n",
       "@startuml\r\n",
       "skinparam linetype ortho\r\n",
       "skinparam monochrome true\r\n",
       "skinparam classbackgroundcolor white\r\n",
       "skinparam shadowing false\r\n",
       "skinparam wrapWidth 300\r\n",
       "hide circle\r\n",
       "\r\n",
       "@enduml\r\n",
       "\n",
       "PlantUML version 1.2020.13(Sat Jun 13 12:26:38 UTC 2020)\n",
       "(EPL source distribution)\n",
       "Java Runtime: OpenJDK Runtime Environment\n",
       "JVM: OpenJDK 64-Bit Server VM\n",
       "Default Encoding: UTF-8\n",
       "Language: en\n",
       "Country: null\n",
       "--></g></svg>"
      ]
     },
     "execution_count": 53,
     "metadata": {},
     "output_type": "execute_result"
    }
   ],
   "source": [
    "%viz --style=\"ORTHOLINE\" --view=\"State\" \"AliasTest\""
   ]
  },
  {
   "cell_type": "code",
   "execution_count": 54,
   "id": "starting-broad",
   "metadata": {
    "execution": {
     "iopub.execute_input": "2021-03-26T13:00:38.020315Z",
     "iopub.status.busy": "2021-03-26T13:00:38.019631Z",
     "iopub.status.idle": "2021-03-26T13:00:38.052311Z",
     "shell.execute_reply": "2021-03-26T13:00:38.051121Z"
    }
   },
   "outputs": [
    {
     "data": {
      "image/svg+xml": [
       "<?xml version=\"1.0\" encoding=\"UTF-8\" standalone=\"no\"?><svg xmlns=\"http://www.w3.org/2000/svg\" xmlns:xlink=\"http://www.w3.org/1999/xlink\" contentScriptType=\"application/ecmascript\" contentStyleType=\"text/css\" height=\"207px\" preserveAspectRatio=\"none\" style=\"width:406px;height:207px;\" version=\"1.1\" viewBox=\"0 0 406 207\" width=\"406px\" zoomAndPan=\"magnify\"><defs/><g><!--MD5=[fbc87193dbaf4d95561dea2c320d4a47]\n",
       "cluster E1--><a href=\"psysml:6f25d091-f985-426b-8055-e92e3d48be4a\" target=\"_top\" title=\"psysml:6f25d091-f985-426b-8055-e92e3d48be4a\" xlink:actuate=\"onRequest\" xlink:href=\"psysml:6f25d091-f985-426b-8055-e92e3d48be4a\" xlink:show=\"new\" xlink:title=\"psysml:6f25d091-f985-426b-8055-e92e3d48be4a\" xlink:type=\"simple\"><polygon fill=\"#FFFFFF\" points=\"16,6,94,6,101,28.2969,384,28.2969,384,195,16,195,16,6\" style=\"stroke: #000000; stroke-width: 1.5;\"/><line style=\"stroke: #000000; stroke-width: 1.5;\" x1=\"16\" x2=\"101\" y1=\"28.2969\" y2=\"28.2969\"/><text fill=\"#000000\" font-family=\"sans-serif\" font-size=\"14\" font-weight=\"bold\" lengthAdjust=\"spacingAndGlyphs\" textLength=\"72\" x=\"20\" y=\"20.9951\">AliasTest</text></a><!--MD5=[e4f7fae6ed58524ba242bb0b0d3be6b7]\n",
       "cluster E2--><a href=\"psysml:258ca4bf-faa9-4328-8179-2aed0dfcbbf6\" target=\"_top\" title=\"psysml:258ca4bf-faa9-4328-8179-2aed0dfcbbf6\" xlink:actuate=\"onRequest\" xlink:href=\"psysml:258ca4bf-faa9-4328-8179-2aed0dfcbbf6\" xlink:show=\"new\" xlink:title=\"psysml:258ca4bf-faa9-4328-8179-2aed0dfcbbf6\" xlink:type=\"simple\"><rect fill=\"#FFFFFF\" height=\"73\" id=\"E2\" style=\"stroke: #383838; stroke-width: 1.5;\" width=\"83\" x=\"244\" y=\"55\"/><rect fill=\"#F8F8F8\" height=\"37.9375\" style=\"stroke: #383838; stroke-width: 1.5;\" width=\"83\" x=\"244\" y=\"55\"/><text fill=\"#000000\" font-family=\"sans-serif\" font-size=\"12\" font-style=\"italic\" lengthAdjust=\"spacingAndGlyphs\" textLength=\"64\" x=\"253.5\" y=\"71.1387\">«part def»</text><text fill=\"#000000\" font-family=\"sans-serif\" font-size=\"12\" lengthAdjust=\"spacingAndGlyphs\" textLength=\"16\" x=\"277.5\" y=\"85.1074\">P1</text></a><!--MD5=[de5ec2e2e8f62f467e546659f5068c88]\n",
       "cluster E5--><a href=\"psysml:a26c0441-e754-421d-8c32-eea1ef6cab52\" target=\"_top\" title=\"psysml:a26c0441-e754-421d-8c32-eea1ef6cab52\" xlink:actuate=\"onRequest\" xlink:href=\"psysml:a26c0441-e754-421d-8c32-eea1ef6cab52\" xlink:show=\"new\" xlink:title=\"psysml:a26c0441-e754-421d-8c32-eea1ef6cab52\" xlink:type=\"simple\"><rect fill=\"#FFFFFF\" height=\"84.5\" id=\"E5\" rx=\"10\" ry=\"10\" style=\"stroke: #383838; stroke-width: 1.5;\" width=\"101\" x=\"139\" y=\"94.5\"/><rect fill=\"#F8F8F8\" height=\"23.9688\" rx=\"10\" ry=\"10\" style=\"stroke: #F8F8F8; stroke-width: 1.5;\" width=\"101\" x=\"139\" y=\"94.5\"/><rect fill=\"#F8F8F8\" height=\"10\" style=\"stroke: #F8F8F8; stroke-width: 1.5;\" width=\"101\" x=\"139\" y=\"108.4688\"/><rect fill=\"none\" height=\"84.5\" id=\"E5\" rx=\"10\" ry=\"10\" style=\"stroke: #383838; stroke-width: 1.5;\" width=\"101\" x=\"139\" y=\"94.5\"/><text fill=\"#000000\" font-family=\"sans-serif\" font-size=\"12\" lengthAdjust=\"spacingAndGlyphs\" textLength=\"40\" x=\"169.5\" y=\"110.6387\">p1: P1</text><line style=\"stroke: #383838; stroke-width: 1.0;\" x1=\"139\" x2=\"240\" y1=\"118.4688\" y2=\"118.4688\"/></a><!--MD5=[168fadf3d0c3fd93dd5d6da1b1d7ab76]\n",
       "cluster E7--><a href=\"psysml:5c32a7f3-b309-4357-ac47-765b0be17034\" target=\"_top\" title=\"psysml:5c32a7f3-b309-4357-ac47-765b0be17034\" xlink:actuate=\"onRequest\" xlink:href=\"psysml:5c32a7f3-b309-4357-ac47-765b0be17034\" xlink:show=\"new\" xlink:title=\"psysml:5c32a7f3-b309-4357-ac47-765b0be17034\" xlink:type=\"simple\"><rect fill=\"#FFFFFF\" height=\"65\" id=\"E7\" rx=\"10\" ry=\"10\" style=\"stroke: #383838; stroke-width: 1.5;\" width=\"83\" x=\"53\" y=\"55\"/><rect fill=\"#F8F8F8\" height=\"23.9688\" rx=\"10\" ry=\"10\" style=\"stroke: #F8F8F8; stroke-width: 1.5;\" width=\"83\" x=\"53\" y=\"55\"/><rect fill=\"#F8F8F8\" height=\"10\" style=\"stroke: #F8F8F8; stroke-width: 1.5;\" width=\"83\" x=\"53\" y=\"68.9688\"/><rect fill=\"none\" height=\"65\" id=\"E7\" rx=\"10\" ry=\"10\" style=\"stroke: #383838; stroke-width: 1.5;\" width=\"83\" x=\"53\" y=\"55\"/><text fill=\"#000000\" font-family=\"sans-serif\" font-size=\"12\" lengthAdjust=\"spacingAndGlyphs\" textLength=\"40\" x=\"74.5\" y=\"71.1387\">p2: P1</text><line style=\"stroke: #383838; stroke-width: 1.0;\" x1=\"53\" x2=\"136\" y1=\"78.9688\" y2=\"78.9688\"/></a><text fill=\"#000000\" font-family=\"sans-serif\" font-size=\"14\" lengthAdjust=\"spacingAndGlyphs\" textLength=\"44\" x=\"240\" y=\"33.6982\">porig1</text><rect fill=\"#383838\" height=\"12\" style=\"stroke: #F8F8F8; stroke-width: 1.5;\" width=\"12\" x=\"256\" y=\"49\"/><text fill=\"#000000\" font-family=\"sans-serif\" font-size=\"14\" lengthAdjust=\"spacingAndGlyphs\" textLength=\"44\" x=\"287\" y=\"33.6982\">porig1</text><rect fill=\"#383838\" height=\"12\" style=\"stroke: #F8F8F8; stroke-width: 1.5;\" width=\"12\" x=\"303\" y=\"49\"/><text fill=\"#000000\" font-family=\"sans-serif\" font-size=\"14\" lengthAdjust=\"spacingAndGlyphs\" textLength=\"27\" x=\"143.5\" y=\"73.1982\">po1</text><rect fill=\"#383838\" height=\"12\" style=\"stroke: #F8F8F8; stroke-width: 1.5;\" width=\"12\" x=\"151\" y=\"88.5\"/><text fill=\"#000000\" font-family=\"sans-serif\" font-size=\"14\" lengthAdjust=\"spacingAndGlyphs\" textLength=\"40\" x=\"51\" y=\"33.6982\">pdest</text><rect fill=\"#383838\" height=\"12\" style=\"stroke: #F8F8F8; stroke-width: 1.5;\" width=\"12\" x=\"65\" y=\"49\"/><text fill=\"#000000\" font-family=\"sans-serif\" font-size=\"14\" lengthAdjust=\"spacingAndGlyphs\" textLength=\"40\" x=\"98\" y=\"33.6982\">pdest</text><rect fill=\"#383838\" height=\"12\" style=\"stroke: #F8F8F8; stroke-width: 1.5;\" width=\"12\" x=\"112\" y=\"49\"/><!--MD5=[60ac2c0cde89d4308155b0484e57a8ec]\n",
       "link E9 to E6--><a href=\"psysml:df73490b-6554-48a2-b250-43b559083f0a\" target=\"_top\" title=\"psysml:df73490b-6554-48a2-b250-43b559083f0a\" xlink:actuate=\"onRequest\" xlink:href=\"psysml:df73490b-6554-48a2-b250-43b559083f0a\" xlink:show=\"new\" xlink:title=\"psysml:df73490b-6554-48a2-b250-43b559083f0a\" xlink:type=\"simple\"><path d=\"M121.88,61.25 C121.88,72.5 121.88,95 121.88,95 C121.88,95 140.82,95 150.88,95 \" fill=\"none\" id=\"E9-E6\" style=\"stroke: #383838; stroke-width: 3.0;\"/></a><!--MD5=[60ac2c0cde89d4308155b0484e57a8ec]\n",
       "link E9 to E6--><a href=\"psysml:45234df1-ac0c-4024-a641-0b76867140fc\" target=\"_top\" title=\"psysml:45234df1-ac0c-4024-a641-0b76867140fc\" xlink:actuate=\"onRequest\" xlink:href=\"psysml:45234df1-ac0c-4024-a641-0b76867140fc\" xlink:show=\"new\" xlink:title=\"psysml:45234df1-ac0c-4024-a641-0b76867140fc\" xlink:type=\"simple\"><path d=\"M119.75,61.34 C119.75,73.31 119.75,98 119.75,98 C119.75,98 140.27,98 150.85,98 \" fill=\"none\" id=\"E9-E6-1\" style=\"stroke: #383838; stroke-width: 3.0;\"/></a><!--MD5=[64bfd69f89d6366fddc589aafe9b5577]\n",
       "@startuml\r\n",
       "skinparam ranksep 8\r\n",
       "skinparam rectangle {\r\n",
       " backgroundColor<<block>> LightGreen\r\n",
       "}\r\n",
       "skinparam linetype ortho\r\n",
       "skinparam monochrome true\r\n",
       "skinparam classbackgroundcolor white\r\n",
       "skinparam shadowing false\r\n",
       "skinparam wrapWidth 300\r\n",
       "hide circle\r\n",
       "\r\n",
       "package \"AliasTest\" as E1  [[psysml:6f25d091-f985-426b-8055-e92e3d48be4a ]]  {\r\n",
       "rec def \"P1\" as E2  <<(T,blue)part def>> [[psysml:258ca4bf-faa9-4328-8179-2aed0dfcbbf6 ]] {\r\n",
       "portin \"porig1\" as E3  <<(T,blue)port>> [[psysml:9209c45f-41ff-489f-bc17-bfe3af02fc93 ]] \r\n",
       "portin \"porig1\" as E4  <<(T,blue)port>> [[psysml:9209c45f-41ff-489f-bc17-bfe3af02fc93 ]] \r\n",
       "}\r\n",
       "rec usage \"p1: P1\" as E5  [[psysml:a26c0441-e754-421d-8c32-eea1ef6cab52 ]] {\r\n",
       "portin \"po1\" as E6  <<(T,blue)port>> [[psysml:aa893173-d0db-4be8-bf63-d1ddc32421c6 ]] \r\n",
       "}\r\n",
       "rec usage \"p2: P1\" as E7  [[psysml:5c32a7f3-b309-4357-ac47-765b0be17034 ]] {\r\n",
       "portin \"pdest\" as E8  <<(T,blue)port>> [[psysml:cb10c624-640d-45a1-89db-7833fbdc21f8 ]] \r\n",
       "portin \"pdest\" as E9  <<(T,blue)port>> [[psysml:cb10c624-640d-45a1-89db-7833fbdc21f8 ]] \r\n",
       "}\r\n",
       "E9 -[thickness=3]- E6 [[psysml:df73490b-6554-48a2-b250-43b559083f0a ]] \r\n",
       "E9 -[thickness=3]- E6 [[psysml:45234df1-ac0c-4024-a641-0b76867140fc ]] \r\n",
       "}\r\n",
       "@enduml\r\n",
       "\n",
       "PlantUML version 1.2020.13(Sat Jun 13 12:26:38 UTC 2020)\n",
       "(EPL source distribution)\n",
       "Java Runtime: OpenJDK Runtime Environment\n",
       "JVM: OpenJDK 64-Bit Server VM\n",
       "Default Encoding: UTF-8\n",
       "Language: en\n",
       "Country: null\n",
       "--></g></svg>"
      ]
     },
     "execution_count": 54,
     "metadata": {},
     "output_type": "execute_result"
    }
   ],
   "source": [
    "%viz --style=\"ORTHOLINE\" --view=\"Interconnection\" \"AliasTest\""
   ]
  },
  {
   "cell_type": "code",
   "execution_count": 55,
   "id": "opened-virtue",
   "metadata": {
    "execution": {
     "iopub.execute_input": "2021-03-26T13:00:38.104006Z",
     "iopub.status.busy": "2021-03-26T13:00:38.103169Z",
     "iopub.status.idle": "2021-03-26T13:00:38.108555Z",
     "shell.execute_reply": "2021-03-26T13:00:38.108202Z"
    }
   },
   "outputs": [
    {
     "data": {
      "image/svg+xml": [
       "<?xml version=\"1.0\" encoding=\"UTF-8\" standalone=\"no\"?><svg xmlns=\"http://www.w3.org/2000/svg\" xmlns:xlink=\"http://www.w3.org/1999/xlink\" contentScriptType=\"application/ecmascript\" contentStyleType=\"text/css\" height=\"12px\" preserveAspectRatio=\"none\" style=\"width:12px;height:12px;\" version=\"1.1\" viewBox=\"0 0 12 12\" width=\"12px\" zoomAndPan=\"magnify\"><defs/><g><!--MD5=[72934c63077099a26744516a776b4749]\n",
       "@startuml\r\n",
       "skinparam ranksep 8\r\n",
       "skinparam linetype ortho\r\n",
       "skinparam monochrome true\r\n",
       "skinparam classbackgroundcolor white\r\n",
       "skinparam shadowing false\r\n",
       "skinparam wrapWidth 300\r\n",
       "hide circle\r\n",
       "\r\n",
       "@enduml\r\n",
       "\n",
       "PlantUML version 1.2020.13(Sat Jun 13 12:26:38 UTC 2020)\n",
       "(EPL source distribution)\n",
       "Java Runtime: OpenJDK Runtime Environment\n",
       "JVM: OpenJDK 64-Bit Server VM\n",
       "Default Encoding: UTF-8\n",
       "Language: en\n",
       "Country: null\n",
       "--></g></svg>"
      ]
     },
     "execution_count": 55,
     "metadata": {},
     "output_type": "execute_result"
    }
   ],
   "source": [
    "%viz --style=\"ORTHOLINE\" --view=\"Action\" \"AliasTest\""
   ]
  },
  {
   "cell_type": "code",
   "execution_count": 56,
   "id": "aware-classics",
   "metadata": {
    "execution": {
     "iopub.execute_input": "2021-03-26T13:00:38.161109Z",
     "iopub.status.busy": "2021-03-26T13:00:38.160170Z",
     "iopub.status.idle": "2021-03-26T13:00:38.218865Z",
     "shell.execute_reply": "2021-03-26T13:00:38.217692Z"
    }
   },
   "outputs": [
    {
     "data": {
      "image/svg+xml": [
       "<?xml version=\"1.0\" encoding=\"UTF-8\" standalone=\"no\"?><svg xmlns=\"http://www.w3.org/2000/svg\" xmlns:xlink=\"http://www.w3.org/1999/xlink\" contentScriptType=\"application/ecmascript\" contentStyleType=\"text/css\" height=\"293px\" preserveAspectRatio=\"none\" style=\"width:285px;height:293px;\" version=\"1.1\" viewBox=\"0 0 285 293\" width=\"285px\" zoomAndPan=\"magnify\"><defs/><g><!--MD5=[fbc87193dbaf4d95561dea2c320d4a47]\n",
       "cluster E1--><a href=\"psysml:6f25d091-f985-426b-8055-e92e3d48be4a\" target=\"_top\" title=\"psysml:6f25d091-f985-426b-8055-e92e3d48be4a\" xlink:actuate=\"onRequest\" xlink:href=\"psysml:6f25d091-f985-426b-8055-e92e3d48be4a\" xlink:show=\"new\" xlink:title=\"psysml:6f25d091-f985-426b-8055-e92e3d48be4a\" xlink:type=\"simple\"><polygon fill=\"#FFFFFF\" points=\"16,6,94,6,101,28.2969,263,28.2969,263,281,16,281,16,6\" style=\"stroke: #000000; stroke-width: 1.5;\"/><line style=\"stroke: #000000; stroke-width: 1.5;\" x1=\"16\" x2=\"101\" y1=\"28.2969\" y2=\"28.2969\"/><text fill=\"#000000\" font-family=\"sans-serif\" font-size=\"14\" font-weight=\"bold\" lengthAdjust=\"spacingAndGlyphs\" textLength=\"72\" x=\"20\" y=\"20.9951\">AliasTest</text></a><!--MD5=[b4997ac47864f28c2f74865a473b2911]\n",
       "class E2--><a href=\"psysml:258ca4bf-faa9-4328-8179-2aed0dfcbbf6\" target=\"_top\" title=\"psysml:258ca4bf-faa9-4328-8179-2aed0dfcbbf6\" xlink:actuate=\"onRequest\" xlink:href=\"psysml:258ca4bf-faa9-4328-8179-2aed0dfcbbf6\" xlink:show=\"new\" xlink:title=\"psysml:258ca4bf-faa9-4328-8179-2aed0dfcbbf6\" xlink:type=\"simple\"><rect fill=\"#FFFFFF\" height=\"75.5469\" id=\"E2\" style=\"stroke: #383838; stroke-width: 1.5;\" width=\"92\" x=\"93\" y=\"189\"/><text fill=\"#000000\" font-family=\"sans-serif\" font-size=\"12\" font-style=\"italic\" lengthAdjust=\"spacingAndGlyphs\" textLength=\"64\" x=\"107\" y=\"205.1387\">«part def»</text><text fill=\"#000000\" font-family=\"sans-serif\" font-size=\"12\" lengthAdjust=\"spacingAndGlyphs\" textLength=\"16\" x=\"131\" y=\"219.1074\">P1</text><line style=\"stroke: #383838; stroke-width: 1.5;\" x1=\"94\" x2=\"184\" y1=\"226.9375\" y2=\"226.9375\"/><text fill=\"#000000\" font-family=\"sans-serif\" font-size=\"11\" lengthAdjust=\"spacingAndGlyphs\" textLength=\"36\" x=\"99\" y=\"257.9526\">porig1</text><text fill=\"#000000\" font-family=\"sans-serif\" font-size=\"11\" font-weight=\"bold\" lengthAdjust=\"spacingAndGlyphs\" textLength=\"15\" x=\"139\" y=\"257.9526\">as</text><text fill=\"#000000\" font-family=\"sans-serif\" font-size=\"11\" lengthAdjust=\"spacingAndGlyphs\" textLength=\"21\" x=\"158\" y=\"257.9526\">po1</text><line style=\"stroke: #383838; stroke-width: 1.0;\" x1=\"94\" x2=\"124\" y1=\"241.3398\" y2=\"241.3398\"/><text fill=\"#000000\" font-family=\"sans-serif\" font-size=\"11\" lengthAdjust=\"spacingAndGlyphs\" textLength=\"30\" x=\"124\" y=\"244.6479\">ports</text><line style=\"stroke: #383838; stroke-width: 1.0;\" x1=\"154\" x2=\"184\" y1=\"241.3398\" y2=\"241.3398\"/></a><!--MD5=[ebbe1d658d1005bcc118a6aa81145e00]\n",
       "class E4--><a href=\"psysml:a26c0441-e754-421d-8c32-eea1ef6cab52\" target=\"_top\" title=\"psysml:a26c0441-e754-421d-8c32-eea1ef6cab52\" xlink:actuate=\"onRequest\" xlink:href=\"psysml:a26c0441-e754-421d-8c32-eea1ef6cab52\" xlink:show=\"new\" xlink:title=\"psysml:a26c0441-e754-421d-8c32-eea1ef6cab52\" xlink:type=\"simple\"><rect fill=\"#FFFFFF\" height=\"88.3516\" id=\"E4\" rx=\"10\" ry=\"10\" style=\"stroke: #383838; stroke-width: 1.5;\" width=\"92\" x=\"155\" y=\"41\"/><text fill=\"#000000\" font-family=\"sans-serif\" font-size=\"12\" font-style=\"italic\" lengthAdjust=\"spacingAndGlyphs\" textLength=\"40\" x=\"181\" y=\"57.1387\">«part»</text><text fill=\"#000000\" font-family=\"sans-serif\" font-size=\"12\" lengthAdjust=\"spacingAndGlyphs\" textLength=\"40\" x=\"181\" y=\"71.1074\">p1: P1</text><line style=\"stroke: #383838; stroke-width: 1.5;\" x1=\"156\" x2=\"246\" y1=\"78.9375\" y2=\"78.9375\"/><text fill=\"#000000\" font-family=\"sans-serif\" font-size=\"11\" lengthAdjust=\"spacingAndGlyphs\" textLength=\"21\" x=\"161\" y=\"109.9526\">po1</text><text fill=\"#000000\" font-family=\"sans-serif\" font-size=\"11\" font-style=\"italic\" lengthAdjust=\"spacingAndGlyphs\" textLength=\"80\" x=\"161\" y=\"122.7573\">:&gt;&gt;P1::porig1</text><line style=\"stroke: #383838; stroke-width: 1.0;\" x1=\"156\" x2=\"186\" y1=\"93.3398\" y2=\"93.3398\"/><text fill=\"#000000\" font-family=\"sans-serif\" font-size=\"11\" lengthAdjust=\"spacingAndGlyphs\" textLength=\"30\" x=\"186\" y=\"96.6479\">ports</text><line style=\"stroke: #383838; stroke-width: 1.0;\" x1=\"216\" x2=\"246\" y1=\"93.3398\" y2=\"93.3398\"/></a><!--MD5=[60a26617385b1d2d0262a64233df1f8d]\n",
       "class E6--><a href=\"psysml:5c32a7f3-b309-4357-ac47-765b0be17034\" target=\"_top\" title=\"psysml:5c32a7f3-b309-4357-ac47-765b0be17034\" xlink:actuate=\"onRequest\" xlink:href=\"psysml:5c32a7f3-b309-4357-ac47-765b0be17034\" xlink:show=\"new\" xlink:title=\"psysml:5c32a7f3-b309-4357-ac47-765b0be17034\" xlink:type=\"simple\"><rect fill=\"#FFFFFF\" height=\"75.5469\" id=\"E6\" rx=\"10\" ry=\"10\" style=\"stroke: #383838; stroke-width: 1.5;\" width=\"88\" x=\"32\" y=\"47\"/><text fill=\"#000000\" font-family=\"sans-serif\" font-size=\"12\" font-style=\"italic\" lengthAdjust=\"spacingAndGlyphs\" textLength=\"40\" x=\"56\" y=\"63.1387\">«part»</text><text fill=\"#000000\" font-family=\"sans-serif\" font-size=\"12\" lengthAdjust=\"spacingAndGlyphs\" textLength=\"40\" x=\"56\" y=\"77.1074\">p2: P1</text><line style=\"stroke: #383838; stroke-width: 1.5;\" x1=\"33\" x2=\"119\" y1=\"84.9375\" y2=\"84.9375\"/><text fill=\"#000000\" font-family=\"sans-serif\" font-size=\"11\" lengthAdjust=\"spacingAndGlyphs\" textLength=\"32\" x=\"38\" y=\"115.9526\">pdest</text><text fill=\"#000000\" font-family=\"sans-serif\" font-size=\"11\" font-weight=\"bold\" lengthAdjust=\"spacingAndGlyphs\" textLength=\"15\" x=\"74\" y=\"115.9526\">as</text><text fill=\"#000000\" font-family=\"sans-serif\" font-size=\"11\" lengthAdjust=\"spacingAndGlyphs\" textLength=\"21\" x=\"93\" y=\"115.9526\">pd1</text><line style=\"stroke: #383838; stroke-width: 1.0;\" x1=\"33\" x2=\"61\" y1=\"99.3398\" y2=\"99.3398\"/><text fill=\"#000000\" font-family=\"sans-serif\" font-size=\"11\" lengthAdjust=\"spacingAndGlyphs\" textLength=\"30\" x=\"61\" y=\"102.6479\">ports</text><line style=\"stroke: #383838; stroke-width: 1.0;\" x1=\"91\" x2=\"119\" y1=\"99.3398\" y2=\"99.3398\"/></a><!--MD5=[185131fc0dcab0a4505a2ebe144e961b]\n",
       "link E4 to E2--><a href=\"psysml:743cbcb0-f678-48b7-bb90-7aa18ca2c39d\" target=\"_top\" title=\"psysml:743cbcb0-f678-48b7-bb90-7aa18ca2c39d\" xlink:actuate=\"onRequest\" xlink:href=\"psysml:743cbcb0-f678-48b7-bb90-7aa18ca2c39d\" xlink:show=\"new\" xlink:title=\"psysml:743cbcb0-f678-48b7-bb90-7aa18ca2c39d\" xlink:type=\"simple\"><path d=\"M170,129.15 C170,129.15 170,168.63 170,168.63 \" fill=\"none\" id=\"E4-&gt;E2\" style=\"stroke: #383838; stroke-width: 1.0;\"/><polygon fill=\"#FFFFFF\" points=\"170,188.63,163,169.63,177,169.63,170,188.63\" style=\"stroke: #383838; stroke-width: 1.0;\"/><ellipse cx=\"165\" cy=\"163.93\" fill=\"#383838\" rx=\"2\" ry=\"2\" style=\"stroke: #383838; stroke-width: 1.0;\"/><ellipse cx=\"175\" cy=\"163.93\" fill=\"#383838\" rx=\"2\" ry=\"2\" style=\"stroke: #383838; stroke-width: 1.0;\"/></a><!--MD5=[2351f337d6de0f557b50152ba70847b5]\n",
       "link E6 to E2--><a href=\"psysml:a1f896e7-ae1f-4795-a4ef-b600067d493f\" target=\"_top\" title=\"psysml:a1f896e7-ae1f-4795-a4ef-b600067d493f\" xlink:actuate=\"onRequest\" xlink:href=\"psysml:a1f896e7-ae1f-4795-a4ef-b600067d493f\" xlink:show=\"new\" xlink:title=\"psysml:a1f896e7-ae1f-4795-a4ef-b600067d493f\" xlink:type=\"simple\"><path d=\"M106.5,123.05 C106.5,123.05 106.5,168.84 106.5,168.84 \" fill=\"none\" id=\"E6-&gt;E2\" style=\"stroke: #383838; stroke-width: 1.0;\"/><polygon fill=\"#FFFFFF\" points=\"106.5,188.84,99.5,169.84,113.5,169.84,106.5,188.84\" style=\"stroke: #383838; stroke-width: 1.0;\"/><ellipse cx=\"101.5\" cy=\"164.14\" fill=\"#383838\" rx=\"2\" ry=\"2\" style=\"stroke: #383838; stroke-width: 1.0;\"/><ellipse cx=\"111.5\" cy=\"164.14\" fill=\"#383838\" rx=\"2\" ry=\"2\" style=\"stroke: #383838; stroke-width: 1.0;\"/></a><!--MD5=[30883b8f57daef3ebb0b6da3b9e214d1]\n",
       "@startuml\r\n",
       "skinparam linetype ortho\r\n",
       "skinparam monochrome true\r\n",
       "skinparam classbackgroundcolor white\r\n",
       "skinparam shadowing false\r\n",
       "skinparam wrapWidth 300\r\n",
       "hide circle\r\n",
       "\r\n",
       "package \"AliasTest\" as E1  [[psysml:6f25d091-f985-426b-8055-e92e3d48be4a ]]  {\r\n",
       "comp def \"P1\" as E2  <<(T,blue)part def>> [[psysml:258ca4bf-faa9-4328-8179-2aed0dfcbbf6 ]] {\r\n",
       "- - ports - -\r\n",
       "porig1 <b>as</b> po1 \r\n",
       "}\r\n",
       "comp usage \"p1: P1\" as E4  <<(T,blue)part>> [[psysml:a26c0441-e754-421d-8c32-eea1ef6cab52 ]] {\r\n",
       "- - ports - -\r\n",
       "po1\\n//:>>P1::porig1// \r\n",
       "}\r\n",
       "comp usage \"p2: P1\" as E6  <<(T,blue)part>> [[psysml:5c32a7f3-b309-4357-ac47-765b0be17034 ]] {\r\n",
       "- - ports - -\r\n",
       "pdest <b>as</b> pd1 \r\n",
       "}\r\n",
       "E4 - -:|> E2 [[psysml:743cbcb0-f678-48b7-bb90-7aa18ca2c39d ]] \r\n",
       "E6 - -:|> E2 [[psysml:a1f896e7-ae1f-4795-a4ef-b600067d493f ]] \r\n",
       "}\r\n",
       "@enduml\r\n",
       "\n",
       "PlantUML version 1.2020.13(Sat Jun 13 12:26:38 UTC 2020)\n",
       "(EPL source distribution)\n",
       "Java Runtime: OpenJDK Runtime Environment\n",
       "JVM: OpenJDK 64-Bit Server VM\n",
       "Default Encoding: UTF-8\n",
       "Language: en\n",
       "Country: null\n",
       "--></g></svg>"
      ]
     },
     "execution_count": 56,
     "metadata": {},
     "output_type": "execute_result"
    }
   ],
   "source": [
    "%viz --style=\"ORTHOLINE\" --view=\"Sequence\" \"AliasTest\""
   ]
  },
  {
   "cell_type": "code",
   "execution_count": 57,
   "id": "subsequent-quarter",
   "metadata": {
    "execution": {
     "iopub.execute_input": "2021-03-26T13:00:38.271323Z",
     "iopub.status.busy": "2021-03-26T13:00:38.270369Z",
     "iopub.status.idle": "2021-03-26T13:00:38.326592Z",
     "shell.execute_reply": "2021-03-26T13:00:38.325444Z"
    }
   },
   "outputs": [
    {
     "data": {
      "image/svg+xml": [
       "<?xml version=\"1.0\" encoding=\"UTF-8\" standalone=\"no\"?><svg xmlns=\"http://www.w3.org/2000/svg\" xmlns:xlink=\"http://www.w3.org/1999/xlink\" contentScriptType=\"application/ecmascript\" contentStyleType=\"text/css\" height=\"293px\" preserveAspectRatio=\"none\" style=\"width:285px;height:293px;\" version=\"1.1\" viewBox=\"0 0 285 293\" width=\"285px\" zoomAndPan=\"magnify\"><defs/><g><!--MD5=[fbc87193dbaf4d95561dea2c320d4a47]\n",
       "cluster E1--><a href=\"psysml:6f25d091-f985-426b-8055-e92e3d48be4a\" target=\"_top\" title=\"psysml:6f25d091-f985-426b-8055-e92e3d48be4a\" xlink:actuate=\"onRequest\" xlink:href=\"psysml:6f25d091-f985-426b-8055-e92e3d48be4a\" xlink:show=\"new\" xlink:title=\"psysml:6f25d091-f985-426b-8055-e92e3d48be4a\" xlink:type=\"simple\"><polygon fill=\"#FFFFFF\" points=\"16,6,94,6,101,28.2969,263,28.2969,263,281,16,281,16,6\" style=\"stroke: #000000; stroke-width: 1.5;\"/><line style=\"stroke: #000000; stroke-width: 1.5;\" x1=\"16\" x2=\"101\" y1=\"28.2969\" y2=\"28.2969\"/><text fill=\"#000000\" font-family=\"sans-serif\" font-size=\"14\" font-weight=\"bold\" lengthAdjust=\"spacingAndGlyphs\" textLength=\"72\" x=\"20\" y=\"20.9951\">AliasTest</text></a><!--MD5=[b4997ac47864f28c2f74865a473b2911]\n",
       "class E2--><a href=\"psysml:258ca4bf-faa9-4328-8179-2aed0dfcbbf6\" target=\"_top\" title=\"psysml:258ca4bf-faa9-4328-8179-2aed0dfcbbf6\" xlink:actuate=\"onRequest\" xlink:href=\"psysml:258ca4bf-faa9-4328-8179-2aed0dfcbbf6\" xlink:show=\"new\" xlink:title=\"psysml:258ca4bf-faa9-4328-8179-2aed0dfcbbf6\" xlink:type=\"simple\"><rect fill=\"#FFFFFF\" height=\"75.5469\" id=\"E2\" style=\"stroke: #383838; stroke-width: 1.5;\" width=\"92\" x=\"93\" y=\"189\"/><text fill=\"#000000\" font-family=\"sans-serif\" font-size=\"12\" font-style=\"italic\" lengthAdjust=\"spacingAndGlyphs\" textLength=\"64\" x=\"107\" y=\"205.1387\">«part def»</text><text fill=\"#000000\" font-family=\"sans-serif\" font-size=\"12\" lengthAdjust=\"spacingAndGlyphs\" textLength=\"16\" x=\"131\" y=\"219.1074\">P1</text><line style=\"stroke: #383838; stroke-width: 1.5;\" x1=\"94\" x2=\"184\" y1=\"226.9375\" y2=\"226.9375\"/><text fill=\"#000000\" font-family=\"sans-serif\" font-size=\"11\" lengthAdjust=\"spacingAndGlyphs\" textLength=\"36\" x=\"99\" y=\"257.9526\">porig1</text><text fill=\"#000000\" font-family=\"sans-serif\" font-size=\"11\" font-weight=\"bold\" lengthAdjust=\"spacingAndGlyphs\" textLength=\"15\" x=\"139\" y=\"257.9526\">as</text><text fill=\"#000000\" font-family=\"sans-serif\" font-size=\"11\" lengthAdjust=\"spacingAndGlyphs\" textLength=\"21\" x=\"158\" y=\"257.9526\">po1</text><line style=\"stroke: #383838; stroke-width: 1.0;\" x1=\"94\" x2=\"124\" y1=\"241.3398\" y2=\"241.3398\"/><text fill=\"#000000\" font-family=\"sans-serif\" font-size=\"11\" lengthAdjust=\"spacingAndGlyphs\" textLength=\"30\" x=\"124\" y=\"244.6479\">ports</text><line style=\"stroke: #383838; stroke-width: 1.0;\" x1=\"154\" x2=\"184\" y1=\"241.3398\" y2=\"241.3398\"/></a><!--MD5=[ebbe1d658d1005bcc118a6aa81145e00]\n",
       "class E4--><a href=\"psysml:a26c0441-e754-421d-8c32-eea1ef6cab52\" target=\"_top\" title=\"psysml:a26c0441-e754-421d-8c32-eea1ef6cab52\" xlink:actuate=\"onRequest\" xlink:href=\"psysml:a26c0441-e754-421d-8c32-eea1ef6cab52\" xlink:show=\"new\" xlink:title=\"psysml:a26c0441-e754-421d-8c32-eea1ef6cab52\" xlink:type=\"simple\"><rect fill=\"#FFFFFF\" height=\"88.3516\" id=\"E4\" rx=\"10\" ry=\"10\" style=\"stroke: #383838; stroke-width: 1.5;\" width=\"92\" x=\"155\" y=\"41\"/><text fill=\"#000000\" font-family=\"sans-serif\" font-size=\"12\" font-style=\"italic\" lengthAdjust=\"spacingAndGlyphs\" textLength=\"40\" x=\"181\" y=\"57.1387\">«part»</text><text fill=\"#000000\" font-family=\"sans-serif\" font-size=\"12\" lengthAdjust=\"spacingAndGlyphs\" textLength=\"40\" x=\"181\" y=\"71.1074\">p1: P1</text><line style=\"stroke: #383838; stroke-width: 1.5;\" x1=\"156\" x2=\"246\" y1=\"78.9375\" y2=\"78.9375\"/><text fill=\"#000000\" font-family=\"sans-serif\" font-size=\"11\" lengthAdjust=\"spacingAndGlyphs\" textLength=\"21\" x=\"161\" y=\"109.9526\">po1</text><text fill=\"#000000\" font-family=\"sans-serif\" font-size=\"11\" font-style=\"italic\" lengthAdjust=\"spacingAndGlyphs\" textLength=\"80\" x=\"161\" y=\"122.7573\">:&gt;&gt;P1::porig1</text><line style=\"stroke: #383838; stroke-width: 1.0;\" x1=\"156\" x2=\"186\" y1=\"93.3398\" y2=\"93.3398\"/><text fill=\"#000000\" font-family=\"sans-serif\" font-size=\"11\" lengthAdjust=\"spacingAndGlyphs\" textLength=\"30\" x=\"186\" y=\"96.6479\">ports</text><line style=\"stroke: #383838; stroke-width: 1.0;\" x1=\"216\" x2=\"246\" y1=\"93.3398\" y2=\"93.3398\"/></a><!--MD5=[60a26617385b1d2d0262a64233df1f8d]\n",
       "class E6--><a href=\"psysml:5c32a7f3-b309-4357-ac47-765b0be17034\" target=\"_top\" title=\"psysml:5c32a7f3-b309-4357-ac47-765b0be17034\" xlink:actuate=\"onRequest\" xlink:href=\"psysml:5c32a7f3-b309-4357-ac47-765b0be17034\" xlink:show=\"new\" xlink:title=\"psysml:5c32a7f3-b309-4357-ac47-765b0be17034\" xlink:type=\"simple\"><rect fill=\"#FFFFFF\" height=\"75.5469\" id=\"E6\" rx=\"10\" ry=\"10\" style=\"stroke: #383838; stroke-width: 1.5;\" width=\"88\" x=\"32\" y=\"47\"/><text fill=\"#000000\" font-family=\"sans-serif\" font-size=\"12\" font-style=\"italic\" lengthAdjust=\"spacingAndGlyphs\" textLength=\"40\" x=\"56\" y=\"63.1387\">«part»</text><text fill=\"#000000\" font-family=\"sans-serif\" font-size=\"12\" lengthAdjust=\"spacingAndGlyphs\" textLength=\"40\" x=\"56\" y=\"77.1074\">p2: P1</text><line style=\"stroke: #383838; stroke-width: 1.5;\" x1=\"33\" x2=\"119\" y1=\"84.9375\" y2=\"84.9375\"/><text fill=\"#000000\" font-family=\"sans-serif\" font-size=\"11\" lengthAdjust=\"spacingAndGlyphs\" textLength=\"32\" x=\"38\" y=\"115.9526\">pdest</text><text fill=\"#000000\" font-family=\"sans-serif\" font-size=\"11\" font-weight=\"bold\" lengthAdjust=\"spacingAndGlyphs\" textLength=\"15\" x=\"74\" y=\"115.9526\">as</text><text fill=\"#000000\" font-family=\"sans-serif\" font-size=\"11\" lengthAdjust=\"spacingAndGlyphs\" textLength=\"21\" x=\"93\" y=\"115.9526\">pd1</text><line style=\"stroke: #383838; stroke-width: 1.0;\" x1=\"33\" x2=\"61\" y1=\"99.3398\" y2=\"99.3398\"/><text fill=\"#000000\" font-family=\"sans-serif\" font-size=\"11\" lengthAdjust=\"spacingAndGlyphs\" textLength=\"30\" x=\"61\" y=\"102.6479\">ports</text><line style=\"stroke: #383838; stroke-width: 1.0;\" x1=\"91\" x2=\"119\" y1=\"99.3398\" y2=\"99.3398\"/></a><!--MD5=[185131fc0dcab0a4505a2ebe144e961b]\n",
       "link E4 to E2--><a href=\"psysml:743cbcb0-f678-48b7-bb90-7aa18ca2c39d\" target=\"_top\" title=\"psysml:743cbcb0-f678-48b7-bb90-7aa18ca2c39d\" xlink:actuate=\"onRequest\" xlink:href=\"psysml:743cbcb0-f678-48b7-bb90-7aa18ca2c39d\" xlink:show=\"new\" xlink:title=\"psysml:743cbcb0-f678-48b7-bb90-7aa18ca2c39d\" xlink:type=\"simple\"><path d=\"M170,129.15 C170,129.15 170,168.63 170,168.63 \" fill=\"none\" id=\"E4-&gt;E2\" style=\"stroke: #383838; stroke-width: 1.0;\"/><polygon fill=\"#FFFFFF\" points=\"170,188.63,163,169.63,177,169.63,170,188.63\" style=\"stroke: #383838; stroke-width: 1.0;\"/><ellipse cx=\"165\" cy=\"163.93\" fill=\"#383838\" rx=\"2\" ry=\"2\" style=\"stroke: #383838; stroke-width: 1.0;\"/><ellipse cx=\"175\" cy=\"163.93\" fill=\"#383838\" rx=\"2\" ry=\"2\" style=\"stroke: #383838; stroke-width: 1.0;\"/></a><!--MD5=[2351f337d6de0f557b50152ba70847b5]\n",
       "link E6 to E2--><a href=\"psysml:a1f896e7-ae1f-4795-a4ef-b600067d493f\" target=\"_top\" title=\"psysml:a1f896e7-ae1f-4795-a4ef-b600067d493f\" xlink:actuate=\"onRequest\" xlink:href=\"psysml:a1f896e7-ae1f-4795-a4ef-b600067d493f\" xlink:show=\"new\" xlink:title=\"psysml:a1f896e7-ae1f-4795-a4ef-b600067d493f\" xlink:type=\"simple\"><path d=\"M106.5,123.05 C106.5,123.05 106.5,168.84 106.5,168.84 \" fill=\"none\" id=\"E6-&gt;E2\" style=\"stroke: #383838; stroke-width: 1.0;\"/><polygon fill=\"#FFFFFF\" points=\"106.5,188.84,99.5,169.84,113.5,169.84,106.5,188.84\" style=\"stroke: #383838; stroke-width: 1.0;\"/><ellipse cx=\"101.5\" cy=\"164.14\" fill=\"#383838\" rx=\"2\" ry=\"2\" style=\"stroke: #383838; stroke-width: 1.0;\"/><ellipse cx=\"111.5\" cy=\"164.14\" fill=\"#383838\" rx=\"2\" ry=\"2\" style=\"stroke: #383838; stroke-width: 1.0;\"/></a><!--MD5=[30883b8f57daef3ebb0b6da3b9e214d1]\n",
       "@startuml\r\n",
       "skinparam linetype ortho\r\n",
       "skinparam monochrome true\r\n",
       "skinparam classbackgroundcolor white\r\n",
       "skinparam shadowing false\r\n",
       "skinparam wrapWidth 300\r\n",
       "hide circle\r\n",
       "\r\n",
       "package \"AliasTest\" as E1  [[psysml:6f25d091-f985-426b-8055-e92e3d48be4a ]]  {\r\n",
       "comp def \"P1\" as E2  <<(T,blue)part def>> [[psysml:258ca4bf-faa9-4328-8179-2aed0dfcbbf6 ]] {\r\n",
       "- - ports - -\r\n",
       "porig1 <b>as</b> po1 \r\n",
       "}\r\n",
       "comp usage \"p1: P1\" as E4  <<(T,blue)part>> [[psysml:a26c0441-e754-421d-8c32-eea1ef6cab52 ]] {\r\n",
       "- - ports - -\r\n",
       "po1\\n//:>>P1::porig1// \r\n",
       "}\r\n",
       "comp usage \"p2: P1\" as E6  <<(T,blue)part>> [[psysml:5c32a7f3-b309-4357-ac47-765b0be17034 ]] {\r\n",
       "- - ports - -\r\n",
       "pdest <b>as</b> pd1 \r\n",
       "}\r\n",
       "E4 - -:|> E2 [[psysml:743cbcb0-f678-48b7-bb90-7aa18ca2c39d ]] \r\n",
       "E6 - -:|> E2 [[psysml:a1f896e7-ae1f-4795-a4ef-b600067d493f ]] \r\n",
       "}\r\n",
       "@enduml\r\n",
       "\n",
       "PlantUML version 1.2020.13(Sat Jun 13 12:26:38 UTC 2020)\n",
       "(EPL source distribution)\n",
       "Java Runtime: OpenJDK Runtime Environment\n",
       "JVM: OpenJDK 64-Bit Server VM\n",
       "Default Encoding: UTF-8\n",
       "Language: en\n",
       "Country: null\n",
       "--></g></svg>"
      ]
     },
     "execution_count": 57,
     "metadata": {},
     "output_type": "execute_result"
    }
   ],
   "source": [
    "%viz --style=\"ORTHOLINE\" --view=\"MIXED\" \"AliasTest\""
   ]
  }
 ],
 "metadata": {
  "kernelspec": {
   "display_name": "SysML",
   "language": "sysml",
   "name": "sysml"
  },
  "language_info": {
   "codemirror_mode": "sysml",
   "file_extension": ".sysml",
   "mimetype": "text/x-sysml",
   "name": "SysML",
   "pygments_lexer": "java",
   "version": "1.0.0"
  }
 },
 "nbformat": 4,
 "nbformat_minor": 5
}
