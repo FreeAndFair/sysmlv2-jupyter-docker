{
 "cells": [
  {
   "cell_type": "markdown",
   "id": "western-attention",
   "metadata": {},
   "source": [
    "# SysML v2 Test Suite\n",
    "\n",
    "This can notebook can be cleared using menu `Edit --> Clear All Outputs` and then all cells can be\n",
    "run using menu `Run --> Run All Cells`.\n",
    "\n",
    "**WARNING**: This file is generated, all modifications here will be ignored.\n"
   ]
  },
  {
   "cell_type": "markdown",
   "id": "powerful-julian",
   "metadata": {},
   "source": [
    "## File: ../../sysml/src/examples/Simple Tests/AliasTest.sysml"
   ]
  },
  {
   "cell_type": "code",
   "execution_count": 1,
   "id": "exciting-checkout",
   "metadata": {
    "execution": {
     "iopub.execute_input": "2021-03-25T14:09:54.630006Z",
     "iopub.status.busy": "2021-03-25T14:09:54.629265Z",
     "iopub.status.idle": "2021-03-25T14:09:54.885303Z",
     "shell.execute_reply": "2021-03-25T14:09:54.884701Z"
    }
   },
   "outputs": [
    {
     "data": {
      "text/plain": [
       "Package AliasTest (91ab0f1f-234a-4bb3-b592-a6be6eda5031)\n"
      ]
     },
     "execution_count": 1,
     "metadata": {},
     "output_type": "execute_result"
    }
   ],
   "source": [
    "package AliasTest {\n",
    "    part def P1 {\n",
    "        port porig1;\n",
    "        alias porig1 as po1;\n",
    "    }\n",
    "\n",
    "    part p1 : P1 {\n",
    "        port po1 :>> po1;\n",
    "    }\n",
    "\n",
    "    part p2 : P1 {\n",
    "        port pdest;\n",
    "        alias pdest as pd1;\n",
    "    }\n",
    "\n",
    "\n",
    "    connect p1::po1 to p2::pdest;\n",
    "\tconnect p1::po1 to p2::pd1;\n",
    "}"
   ]
  },
  {
   "cell_type": "code",
   "execution_count": 2,
   "id": "dirty-studio",
   "metadata": {
    "execution": {
     "iopub.execute_input": "2021-03-25T14:09:54.937125Z",
     "iopub.status.busy": "2021-03-25T14:09:54.936694Z",
     "iopub.status.idle": "2021-03-25T14:09:56.198298Z",
     "shell.execute_reply": "2021-03-25T14:09:56.196890Z"
    }
   },
   "outputs": [
    {
     "data": {
      "image/svg+xml": [
       "<?xml version=\"1.0\" encoding=\"UTF-8\" standalone=\"no\"?><svg xmlns=\"http://www.w3.org/2000/svg\" xmlns:xlink=\"http://www.w3.org/1999/xlink\" contentScriptType=\"application/ecmascript\" contentStyleType=\"text/css\" height=\"293px\" preserveAspectRatio=\"none\" style=\"width:285px;height:293px;\" version=\"1.1\" viewBox=\"0 0 285 293\" width=\"285px\" zoomAndPan=\"magnify\"><defs/><g><!--MD5=[fbc87193dbaf4d95561dea2c320d4a47]\n",
       "cluster E1--><a href=\"psysml:e49964db-e340-4eba-a3a8-d7e4e465bce2\" target=\"_top\" title=\"psysml:e49964db-e340-4eba-a3a8-d7e4e465bce2\" xlink:actuate=\"onRequest\" xlink:href=\"psysml:e49964db-e340-4eba-a3a8-d7e4e465bce2\" xlink:show=\"new\" xlink:title=\"psysml:e49964db-e340-4eba-a3a8-d7e4e465bce2\" xlink:type=\"simple\"><polygon fill=\"#FFFFFF\" points=\"16,6,94,6,101,28.2969,263,28.2969,263,281,16,281,16,6\" style=\"stroke: #000000; stroke-width: 1.5;\"/><line style=\"stroke: #000000; stroke-width: 1.5;\" x1=\"16\" x2=\"101\" y1=\"28.2969\" y2=\"28.2969\"/><text fill=\"#000000\" font-family=\"sans-serif\" font-size=\"14\" font-weight=\"bold\" lengthAdjust=\"spacingAndGlyphs\" textLength=\"72\" x=\"20\" y=\"20.9951\">AliasTest</text></a><!--MD5=[b4997ac47864f28c2f74865a473b2911]\n",
       "class E2--><a href=\"psysml:c347ad09-22d6-4423-9bac-4dbac759901f\" target=\"_top\" title=\"psysml:c347ad09-22d6-4423-9bac-4dbac759901f\" xlink:actuate=\"onRequest\" xlink:href=\"psysml:c347ad09-22d6-4423-9bac-4dbac759901f\" xlink:show=\"new\" xlink:title=\"psysml:c347ad09-22d6-4423-9bac-4dbac759901f\" xlink:type=\"simple\"><rect fill=\"#FFFFFF\" height=\"75.5469\" id=\"E2\" style=\"stroke: #383838; stroke-width: 1.5;\" width=\"92\" x=\"93\" y=\"189\"/><text fill=\"#000000\" font-family=\"sans-serif\" font-size=\"12\" font-style=\"italic\" lengthAdjust=\"spacingAndGlyphs\" textLength=\"64\" x=\"107\" y=\"205.1387\">«part def»</text><text fill=\"#000000\" font-family=\"sans-serif\" font-size=\"12\" lengthAdjust=\"spacingAndGlyphs\" textLength=\"16\" x=\"131\" y=\"219.1074\">P1</text><line style=\"stroke: #383838; stroke-width: 1.5;\" x1=\"94\" x2=\"184\" y1=\"226.9375\" y2=\"226.9375\"/><text fill=\"#000000\" font-family=\"sans-serif\" font-size=\"11\" lengthAdjust=\"spacingAndGlyphs\" textLength=\"36\" x=\"99\" y=\"257.9526\">porig1</text><text fill=\"#000000\" font-family=\"sans-serif\" font-size=\"11\" font-weight=\"bold\" lengthAdjust=\"spacingAndGlyphs\" textLength=\"15\" x=\"139\" y=\"257.9526\">as</text><text fill=\"#000000\" font-family=\"sans-serif\" font-size=\"11\" lengthAdjust=\"spacingAndGlyphs\" textLength=\"21\" x=\"158\" y=\"257.9526\">po1</text><line style=\"stroke: #383838; stroke-width: 1.0;\" x1=\"94\" x2=\"124\" y1=\"241.3398\" y2=\"241.3398\"/><text fill=\"#000000\" font-family=\"sans-serif\" font-size=\"11\" lengthAdjust=\"spacingAndGlyphs\" textLength=\"30\" x=\"124\" y=\"244.6479\">ports</text><line style=\"stroke: #383838; stroke-width: 1.0;\" x1=\"154\" x2=\"184\" y1=\"241.3398\" y2=\"241.3398\"/></a><!--MD5=[09b614a08d8cba4a07c9adeb5e0fee81]\n",
       "class E3--><a href=\"psysml:d449d8a1-a677-4f10-8ecb-a1ad1c680d6c\" target=\"_top\" title=\"psysml:d449d8a1-a677-4f10-8ecb-a1ad1c680d6c\" xlink:actuate=\"onRequest\" xlink:href=\"psysml:d449d8a1-a677-4f10-8ecb-a1ad1c680d6c\" xlink:show=\"new\" xlink:title=\"psysml:d449d8a1-a677-4f10-8ecb-a1ad1c680d6c\" xlink:type=\"simple\"><rect fill=\"#FFFFFF\" height=\"88.3516\" id=\"E3\" rx=\"10\" ry=\"10\" style=\"stroke: #383838; stroke-width: 1.5;\" width=\"92\" x=\"155\" y=\"41\"/><text fill=\"#000000\" font-family=\"sans-serif\" font-size=\"12\" font-style=\"italic\" lengthAdjust=\"spacingAndGlyphs\" textLength=\"40\" x=\"181\" y=\"57.1387\">«part»</text><text fill=\"#000000\" font-family=\"sans-serif\" font-size=\"12\" lengthAdjust=\"spacingAndGlyphs\" textLength=\"40\" x=\"181\" y=\"71.1074\">p1: P1</text><line style=\"stroke: #383838; stroke-width: 1.5;\" x1=\"156\" x2=\"246\" y1=\"78.9375\" y2=\"78.9375\"/><text fill=\"#000000\" font-family=\"sans-serif\" font-size=\"11\" lengthAdjust=\"spacingAndGlyphs\" textLength=\"21\" x=\"161\" y=\"109.9526\">po1</text><text fill=\"#000000\" font-family=\"sans-serif\" font-size=\"11\" font-style=\"italic\" lengthAdjust=\"spacingAndGlyphs\" textLength=\"80\" x=\"161\" y=\"122.7573\">:&gt;&gt;P1::porig1</text><line style=\"stroke: #383838; stroke-width: 1.0;\" x1=\"156\" x2=\"186\" y1=\"93.3398\" y2=\"93.3398\"/><text fill=\"#000000\" font-family=\"sans-serif\" font-size=\"11\" lengthAdjust=\"spacingAndGlyphs\" textLength=\"30\" x=\"186\" y=\"96.6479\">ports</text><line style=\"stroke: #383838; stroke-width: 1.0;\" x1=\"216\" x2=\"246\" y1=\"93.3398\" y2=\"93.3398\"/></a><!--MD5=[ebbe1d658d1005bcc118a6aa81145e00]\n",
       "class E4--><a href=\"psysml:32242b45-8d95-4b7d-97cb-8dd31296908f\" target=\"_top\" title=\"psysml:32242b45-8d95-4b7d-97cb-8dd31296908f\" xlink:actuate=\"onRequest\" xlink:href=\"psysml:32242b45-8d95-4b7d-97cb-8dd31296908f\" xlink:show=\"new\" xlink:title=\"psysml:32242b45-8d95-4b7d-97cb-8dd31296908f\" xlink:type=\"simple\"><rect fill=\"#FFFFFF\" height=\"75.5469\" id=\"E4\" rx=\"10\" ry=\"10\" style=\"stroke: #383838; stroke-width: 1.5;\" width=\"88\" x=\"32\" y=\"47\"/><text fill=\"#000000\" font-family=\"sans-serif\" font-size=\"12\" font-style=\"italic\" lengthAdjust=\"spacingAndGlyphs\" textLength=\"40\" x=\"56\" y=\"63.1387\">«part»</text><text fill=\"#000000\" font-family=\"sans-serif\" font-size=\"12\" lengthAdjust=\"spacingAndGlyphs\" textLength=\"40\" x=\"56\" y=\"77.1074\">p2: P1</text><line style=\"stroke: #383838; stroke-width: 1.5;\" x1=\"33\" x2=\"119\" y1=\"84.9375\" y2=\"84.9375\"/><text fill=\"#000000\" font-family=\"sans-serif\" font-size=\"11\" lengthAdjust=\"spacingAndGlyphs\" textLength=\"32\" x=\"38\" y=\"115.9526\">pdest</text><text fill=\"#000000\" font-family=\"sans-serif\" font-size=\"11\" font-weight=\"bold\" lengthAdjust=\"spacingAndGlyphs\" textLength=\"15\" x=\"74\" y=\"115.9526\">as</text><text fill=\"#000000\" font-family=\"sans-serif\" font-size=\"11\" lengthAdjust=\"spacingAndGlyphs\" textLength=\"21\" x=\"93\" y=\"115.9526\">pd1</text><line style=\"stroke: #383838; stroke-width: 1.0;\" x1=\"33\" x2=\"61\" y1=\"99.3398\" y2=\"99.3398\"/><text fill=\"#000000\" font-family=\"sans-serif\" font-size=\"11\" lengthAdjust=\"spacingAndGlyphs\" textLength=\"30\" x=\"61\" y=\"102.6479\">ports</text><line style=\"stroke: #383838; stroke-width: 1.0;\" x1=\"91\" x2=\"119\" y1=\"99.3398\" y2=\"99.3398\"/></a><!--MD5=[05d275557350bfb9b23a4ef7222b4c39]\n",
       "link E3 to E2--><a href=\"psysml:2d5875ca-6e79-47eb-af19-37e1c3e68f98\" target=\"_top\" title=\"psysml:2d5875ca-6e79-47eb-af19-37e1c3e68f98\" xlink:actuate=\"onRequest\" xlink:href=\"psysml:2d5875ca-6e79-47eb-af19-37e1c3e68f98\" xlink:show=\"new\" xlink:title=\"psysml:2d5875ca-6e79-47eb-af19-37e1c3e68f98\" xlink:type=\"simple\"><path d=\"M181.89,129.15 C176.14,142.14 169.74,156.6 163.67,170.29 \" fill=\"none\" id=\"E3-&gt;E2\" style=\"stroke: #383838; stroke-width: 1.0;\"/><polygon fill=\"#FFFFFF\" points=\"155.43,188.9,156.725,168.693,169.5254,174.3632,155.43,188.9\" style=\"stroke: #383838; stroke-width: 1.0;\"/><ellipse cx=\"160.8622\" cy=\"164.2914\" fill=\"#383838\" rx=\"2\" ry=\"2\" style=\"stroke: #383838; stroke-width: 1.0;\"/><ellipse cx=\"170.0053\" cy=\"168.3416\" fill=\"#383838\" rx=\"2\" ry=\"2\" style=\"stroke: #383838; stroke-width: 1.0;\"/></a><!--MD5=[185131fc0dcab0a4505a2ebe144e961b]\n",
       "link E4 to E2--><a href=\"psysml:6438d4a2-0b71-4be8-b1f1-dcd907944303\" target=\"_top\" title=\"psysml:6438d4a2-0b71-4be8-b1f1-dcd907944303\" xlink:actuate=\"onRequest\" xlink:href=\"psysml:6438d4a2-0b71-4be8-b1f1-dcd907944303\" xlink:show=\"new\" xlink:title=\"psysml:6438d4a2-0b71-4be8-b1f1-dcd907944303\" xlink:type=\"simple\"><path d=\"M92.72,123.15 C99.23,137.63 106.84,154.53 113.98,170.4 \" fill=\"none\" id=\"E4-&gt;E2\" style=\"stroke: #383838; stroke-width: 1.0;\"/><polygon fill=\"#FFFFFF\" points=\"122.2,188.68,108.0257,174.22,120.7951,168.4803,122.2,188.68\" style=\"stroke: #383838; stroke-width: 1.0;\"/><ellipse cx=\"107.5131\" cy=\"168.2011\" fill=\"#383838\" rx=\"2\" ry=\"2\" style=\"stroke: #383838; stroke-width: 1.0;\"/><ellipse cx=\"116.634\" cy=\"164.1014\" fill=\"#383838\" rx=\"2\" ry=\"2\" style=\"stroke: #383838; stroke-width: 1.0;\"/></a><!--MD5=[cb83027944fcf8ed55145c091e744b5c]\n",
       "@startuml\r\n",
       " skinparam monochrome true\r\n",
       "skinparam classbackgroundcolor white\r\n",
       "skinparam shadowing false\r\n",
       "skinparam wrapWidth 300\r\n",
       "hide circle\r\n",
       "\r\n",
       "package \"AliasTest\" as E1  [[psysml:e49964db-e340-4eba-a3a8-d7e4e465bce2 ]]  {\r\n",
       "comp def \"P1\" as E2  <<(T,blue)part def>> [[psysml:c347ad09-22d6-4423-9bac-4dbac759901f ]] {\r\n",
       "- - ports - -\r\n",
       "porig1 <b>as</b> po1 \r\n",
       "}\r\n",
       "comp usage \"p1: P1\" as E3  <<(T,blue)part>> [[psysml:d449d8a1-a677-4f10-8ecb-a1ad1c680d6c ]] {\r\n",
       "- - ports - -\r\n",
       "po1\\n//:>>P1::porig1// \r\n",
       "}\r\n",
       "comp usage \"p2: P1\" as E4  <<(T,blue)part>> [[psysml:32242b45-8d95-4b7d-97cb-8dd31296908f ]] {\r\n",
       "- - ports - -\r\n",
       "pdest <b>as</b> pd1 \r\n",
       "}\r\n",
       "E3 - -:|> E2 [[psysml:2d5875ca-6e79-47eb-af19-37e1c3e68f98 ]] \r\n",
       "E4 - -:|> E2 [[psysml:6438d4a2-0b71-4be8-b1f1-dcd907944303 ]] \r\n",
       "}\r\n",
       "@enduml\r\n",
       "\n",
       "PlantUML version 1.2020.13(Sat Jun 13 12:26:38 UTC 2020)\n",
       "(EPL source distribution)\n",
       "Java Runtime: OpenJDK Runtime Environment\n",
       "JVM: OpenJDK 64-Bit Server VM\n",
       "Default Encoding: UTF-8\n",
       "Language: en\n",
       "Country: null\n",
       "--></g></svg>"
      ]
     },
     "execution_count": 2,
     "metadata": {},
     "output_type": "execute_result"
    }
   ],
   "source": [
    "%viz --style=\"COMPTREE\" --view=\"Default\" \"AliasTest\""
   ]
  },
  {
   "cell_type": "code",
   "execution_count": 3,
   "id": "induced-fifth",
   "metadata": {
    "execution": {
     "iopub.execute_input": "2021-03-25T14:09:56.251828Z",
     "iopub.status.busy": "2021-03-25T14:09:56.250570Z",
     "iopub.status.idle": "2021-03-25T14:09:56.866569Z",
     "shell.execute_reply": "2021-03-25T14:09:56.865092Z"
    }
   },
   "outputs": [
    {
     "data": {
      "image/svg+xml": [
       "<?xml version=\"1.0\" encoding=\"UTF-8\" standalone=\"no\"?><svg xmlns=\"http://www.w3.org/2000/svg\" xmlns:xlink=\"http://www.w3.org/1999/xlink\" contentScriptType=\"application/ecmascript\" contentStyleType=\"text/css\" height=\"293px\" preserveAspectRatio=\"none\" style=\"width:285px;height:293px;\" version=\"1.1\" viewBox=\"0 0 285 293\" width=\"285px\" zoomAndPan=\"magnify\"><defs/><g><!--MD5=[fbc87193dbaf4d95561dea2c320d4a47]\n",
       "cluster E1--><a href=\"psysml:e49964db-e340-4eba-a3a8-d7e4e465bce2\" target=\"_top\" title=\"psysml:e49964db-e340-4eba-a3a8-d7e4e465bce2\" xlink:actuate=\"onRequest\" xlink:href=\"psysml:e49964db-e340-4eba-a3a8-d7e4e465bce2\" xlink:show=\"new\" xlink:title=\"psysml:e49964db-e340-4eba-a3a8-d7e4e465bce2\" xlink:type=\"simple\"><polygon fill=\"#FFFFFF\" points=\"16,6,94,6,101,28.2969,263,28.2969,263,281,16,281,16,6\" style=\"stroke: #000000; stroke-width: 1.5;\"/><line style=\"stroke: #000000; stroke-width: 1.5;\" x1=\"16\" x2=\"101\" y1=\"28.2969\" y2=\"28.2969\"/><text fill=\"#000000\" font-family=\"sans-serif\" font-size=\"14\" font-weight=\"bold\" lengthAdjust=\"spacingAndGlyphs\" textLength=\"72\" x=\"20\" y=\"20.9951\">AliasTest</text></a><!--MD5=[b4997ac47864f28c2f74865a473b2911]\n",
       "class E2--><a href=\"psysml:c347ad09-22d6-4423-9bac-4dbac759901f\" target=\"_top\" title=\"psysml:c347ad09-22d6-4423-9bac-4dbac759901f\" xlink:actuate=\"onRequest\" xlink:href=\"psysml:c347ad09-22d6-4423-9bac-4dbac759901f\" xlink:show=\"new\" xlink:title=\"psysml:c347ad09-22d6-4423-9bac-4dbac759901f\" xlink:type=\"simple\"><rect fill=\"#FFFFFF\" height=\"75.5469\" id=\"E2\" style=\"stroke: #383838; stroke-width: 1.5;\" width=\"92\" x=\"93\" y=\"189\"/><text fill=\"#000000\" font-family=\"sans-serif\" font-size=\"12\" font-style=\"italic\" lengthAdjust=\"spacingAndGlyphs\" textLength=\"64\" x=\"107\" y=\"205.1387\">«part def»</text><text fill=\"#000000\" font-family=\"sans-serif\" font-size=\"12\" lengthAdjust=\"spacingAndGlyphs\" textLength=\"16\" x=\"131\" y=\"219.1074\">P1</text><line style=\"stroke: #383838; stroke-width: 1.5;\" x1=\"94\" x2=\"184\" y1=\"226.9375\" y2=\"226.9375\"/><text fill=\"#000000\" font-family=\"sans-serif\" font-size=\"11\" lengthAdjust=\"spacingAndGlyphs\" textLength=\"36\" x=\"99\" y=\"257.9526\">porig1</text><text fill=\"#000000\" font-family=\"sans-serif\" font-size=\"11\" font-weight=\"bold\" lengthAdjust=\"spacingAndGlyphs\" textLength=\"15\" x=\"139\" y=\"257.9526\">as</text><text fill=\"#000000\" font-family=\"sans-serif\" font-size=\"11\" lengthAdjust=\"spacingAndGlyphs\" textLength=\"21\" x=\"158\" y=\"257.9526\">po1</text><line style=\"stroke: #383838; stroke-width: 1.0;\" x1=\"94\" x2=\"124\" y1=\"241.3398\" y2=\"241.3398\"/><text fill=\"#000000\" font-family=\"sans-serif\" font-size=\"11\" lengthAdjust=\"spacingAndGlyphs\" textLength=\"30\" x=\"124\" y=\"244.6479\">ports</text><line style=\"stroke: #383838; stroke-width: 1.0;\" x1=\"154\" x2=\"184\" y1=\"241.3398\" y2=\"241.3398\"/></a><!--MD5=[09b614a08d8cba4a07c9adeb5e0fee81]\n",
       "class E3--><a href=\"psysml:d449d8a1-a677-4f10-8ecb-a1ad1c680d6c\" target=\"_top\" title=\"psysml:d449d8a1-a677-4f10-8ecb-a1ad1c680d6c\" xlink:actuate=\"onRequest\" xlink:href=\"psysml:d449d8a1-a677-4f10-8ecb-a1ad1c680d6c\" xlink:show=\"new\" xlink:title=\"psysml:d449d8a1-a677-4f10-8ecb-a1ad1c680d6c\" xlink:type=\"simple\"><rect fill=\"#FFFFFF\" height=\"88.3516\" id=\"E3\" rx=\"10\" ry=\"10\" style=\"stroke: #383838; stroke-width: 1.5;\" width=\"92\" x=\"155\" y=\"41\"/><text fill=\"#000000\" font-family=\"sans-serif\" font-size=\"12\" font-style=\"italic\" lengthAdjust=\"spacingAndGlyphs\" textLength=\"40\" x=\"181\" y=\"57.1387\">«part»</text><text fill=\"#000000\" font-family=\"sans-serif\" font-size=\"12\" lengthAdjust=\"spacingAndGlyphs\" textLength=\"40\" x=\"181\" y=\"71.1074\">p1: P1</text><line style=\"stroke: #383838; stroke-width: 1.5;\" x1=\"156\" x2=\"246\" y1=\"78.9375\" y2=\"78.9375\"/><text fill=\"#000000\" font-family=\"sans-serif\" font-size=\"11\" lengthAdjust=\"spacingAndGlyphs\" textLength=\"21\" x=\"161\" y=\"109.9526\">po1</text><text fill=\"#000000\" font-family=\"sans-serif\" font-size=\"11\" font-style=\"italic\" lengthAdjust=\"spacingAndGlyphs\" textLength=\"80\" x=\"161\" y=\"122.7573\">:&gt;&gt;P1::porig1</text><line style=\"stroke: #383838; stroke-width: 1.0;\" x1=\"156\" x2=\"186\" y1=\"93.3398\" y2=\"93.3398\"/><text fill=\"#000000\" font-family=\"sans-serif\" font-size=\"11\" lengthAdjust=\"spacingAndGlyphs\" textLength=\"30\" x=\"186\" y=\"96.6479\">ports</text><line style=\"stroke: #383838; stroke-width: 1.0;\" x1=\"216\" x2=\"246\" y1=\"93.3398\" y2=\"93.3398\"/></a><!--MD5=[ebbe1d658d1005bcc118a6aa81145e00]\n",
       "class E4--><a href=\"psysml:32242b45-8d95-4b7d-97cb-8dd31296908f\" target=\"_top\" title=\"psysml:32242b45-8d95-4b7d-97cb-8dd31296908f\" xlink:actuate=\"onRequest\" xlink:href=\"psysml:32242b45-8d95-4b7d-97cb-8dd31296908f\" xlink:show=\"new\" xlink:title=\"psysml:32242b45-8d95-4b7d-97cb-8dd31296908f\" xlink:type=\"simple\"><rect fill=\"#FFFFFF\" height=\"75.5469\" id=\"E4\" rx=\"10\" ry=\"10\" style=\"stroke: #383838; stroke-width: 1.5;\" width=\"88\" x=\"32\" y=\"47\"/><text fill=\"#000000\" font-family=\"sans-serif\" font-size=\"12\" font-style=\"italic\" lengthAdjust=\"spacingAndGlyphs\" textLength=\"40\" x=\"56\" y=\"63.1387\">«part»</text><text fill=\"#000000\" font-family=\"sans-serif\" font-size=\"12\" lengthAdjust=\"spacingAndGlyphs\" textLength=\"40\" x=\"56\" y=\"77.1074\">p2: P1</text><line style=\"stroke: #383838; stroke-width: 1.5;\" x1=\"33\" x2=\"119\" y1=\"84.9375\" y2=\"84.9375\"/><text fill=\"#000000\" font-family=\"sans-serif\" font-size=\"11\" lengthAdjust=\"spacingAndGlyphs\" textLength=\"32\" x=\"38\" y=\"115.9526\">pdest</text><text fill=\"#000000\" font-family=\"sans-serif\" font-size=\"11\" font-weight=\"bold\" lengthAdjust=\"spacingAndGlyphs\" textLength=\"15\" x=\"74\" y=\"115.9526\">as</text><text fill=\"#000000\" font-family=\"sans-serif\" font-size=\"11\" lengthAdjust=\"spacingAndGlyphs\" textLength=\"21\" x=\"93\" y=\"115.9526\">pd1</text><line style=\"stroke: #383838; stroke-width: 1.0;\" x1=\"33\" x2=\"61\" y1=\"99.3398\" y2=\"99.3398\"/><text fill=\"#000000\" font-family=\"sans-serif\" font-size=\"11\" lengthAdjust=\"spacingAndGlyphs\" textLength=\"30\" x=\"61\" y=\"102.6479\">ports</text><line style=\"stroke: #383838; stroke-width: 1.0;\" x1=\"91\" x2=\"119\" y1=\"99.3398\" y2=\"99.3398\"/></a><!--MD5=[05d275557350bfb9b23a4ef7222b4c39]\n",
       "link E3 to E2--><a href=\"psysml:2d5875ca-6e79-47eb-af19-37e1c3e68f98\" target=\"_top\" title=\"psysml:2d5875ca-6e79-47eb-af19-37e1c3e68f98\" xlink:actuate=\"onRequest\" xlink:href=\"psysml:2d5875ca-6e79-47eb-af19-37e1c3e68f98\" xlink:show=\"new\" xlink:title=\"psysml:2d5875ca-6e79-47eb-af19-37e1c3e68f98\" xlink:type=\"simple\"><path d=\"M181.89,129.15 C176.14,142.14 169.74,156.6 163.67,170.29 \" fill=\"none\" id=\"E3-&gt;E2\" style=\"stroke: #383838; stroke-width: 1.0;\"/><polygon fill=\"#FFFFFF\" points=\"155.43,188.9,156.725,168.693,169.5254,174.3632,155.43,188.9\" style=\"stroke: #383838; stroke-width: 1.0;\"/><ellipse cx=\"160.8622\" cy=\"164.2914\" fill=\"#383838\" rx=\"2\" ry=\"2\" style=\"stroke: #383838; stroke-width: 1.0;\"/><ellipse cx=\"170.0053\" cy=\"168.3416\" fill=\"#383838\" rx=\"2\" ry=\"2\" style=\"stroke: #383838; stroke-width: 1.0;\"/></a><!--MD5=[185131fc0dcab0a4505a2ebe144e961b]\n",
       "link E4 to E2--><a href=\"psysml:6438d4a2-0b71-4be8-b1f1-dcd907944303\" target=\"_top\" title=\"psysml:6438d4a2-0b71-4be8-b1f1-dcd907944303\" xlink:actuate=\"onRequest\" xlink:href=\"psysml:6438d4a2-0b71-4be8-b1f1-dcd907944303\" xlink:show=\"new\" xlink:title=\"psysml:6438d4a2-0b71-4be8-b1f1-dcd907944303\" xlink:type=\"simple\"><path d=\"M92.72,123.15 C99.23,137.63 106.84,154.53 113.98,170.4 \" fill=\"none\" id=\"E4-&gt;E2\" style=\"stroke: #383838; stroke-width: 1.0;\"/><polygon fill=\"#FFFFFF\" points=\"122.2,188.68,108.0257,174.22,120.7951,168.4803,122.2,188.68\" style=\"stroke: #383838; stroke-width: 1.0;\"/><ellipse cx=\"107.5131\" cy=\"168.2011\" fill=\"#383838\" rx=\"2\" ry=\"2\" style=\"stroke: #383838; stroke-width: 1.0;\"/><ellipse cx=\"116.634\" cy=\"164.1014\" fill=\"#383838\" rx=\"2\" ry=\"2\" style=\"stroke: #383838; stroke-width: 1.0;\"/></a><!--MD5=[cb83027944fcf8ed55145c091e744b5c]\n",
       "@startuml\r\n",
       " skinparam monochrome true\r\n",
       "skinparam classbackgroundcolor white\r\n",
       "skinparam shadowing false\r\n",
       "skinparam wrapWidth 300\r\n",
       "hide circle\r\n",
       "\r\n",
       "package \"AliasTest\" as E1  [[psysml:e49964db-e340-4eba-a3a8-d7e4e465bce2 ]]  {\r\n",
       "comp def \"P1\" as E2  <<(T,blue)part def>> [[psysml:c347ad09-22d6-4423-9bac-4dbac759901f ]] {\r\n",
       "- - ports - -\r\n",
       "porig1 <b>as</b> po1 \r\n",
       "}\r\n",
       "comp usage \"p1: P1\" as E3  <<(T,blue)part>> [[psysml:d449d8a1-a677-4f10-8ecb-a1ad1c680d6c ]] {\r\n",
       "- - ports - -\r\n",
       "po1\\n//:>>P1::porig1// \r\n",
       "}\r\n",
       "comp usage \"p2: P1\" as E4  <<(T,blue)part>> [[psysml:32242b45-8d95-4b7d-97cb-8dd31296908f ]] {\r\n",
       "- - ports - -\r\n",
       "pdest <b>as</b> pd1 \r\n",
       "}\r\n",
       "E3 - -:|> E2 [[psysml:2d5875ca-6e79-47eb-af19-37e1c3e68f98 ]] \r\n",
       "E4 - -:|> E2 [[psysml:6438d4a2-0b71-4be8-b1f1-dcd907944303 ]] \r\n",
       "}\r\n",
       "@enduml\r\n",
       "\n",
       "PlantUML version 1.2020.13(Sat Jun 13 12:26:38 UTC 2020)\n",
       "(EPL source distribution)\n",
       "Java Runtime: OpenJDK Runtime Environment\n",
       "JVM: OpenJDK 64-Bit Server VM\n",
       "Default Encoding: UTF-8\n",
       "Language: en\n",
       "Country: null\n",
       "--></g></svg>"
      ]
     },
     "execution_count": 3,
     "metadata": {},
     "output_type": "execute_result"
    }
   ],
   "source": [
    "%viz --style=\"COMPTREE\" --view=\"Tree\" \"AliasTest\""
   ]
  },
  {
   "cell_type": "code",
   "execution_count": 4,
   "id": "characteristic-latvia",
   "metadata": {
    "execution": {
     "iopub.execute_input": "2021-03-25T14:09:56.918107Z",
     "iopub.status.busy": "2021-03-25T14:09:56.917334Z",
     "iopub.status.idle": "2021-03-25T14:09:56.930039Z",
     "shell.execute_reply": "2021-03-25T14:09:56.930449Z"
    }
   },
   "outputs": [
    {
     "data": {
      "image/svg+xml": [
       "<?xml version=\"1.0\" encoding=\"UTF-8\" standalone=\"no\"?><svg xmlns=\"http://www.w3.org/2000/svg\" xmlns:xlink=\"http://www.w3.org/1999/xlink\" contentScriptType=\"application/ecmascript\" contentStyleType=\"text/css\" height=\"12px\" preserveAspectRatio=\"none\" style=\"width:12px;height:12px;\" version=\"1.1\" viewBox=\"0 0 12 12\" width=\"12px\" zoomAndPan=\"magnify\"><defs/><g><!--MD5=[f19188ef49e11757b5c46753f95d9edc]\n",
       "@startuml\r\n",
       " skinparam monochrome true\r\n",
       "skinparam classbackgroundcolor white\r\n",
       "skinparam shadowing false\r\n",
       "skinparam wrapWidth 300\r\n",
       "hide circle\r\n",
       "\r\n",
       "@enduml\r\n",
       "\n",
       "PlantUML version 1.2020.13(Sat Jun 13 12:26:38 UTC 2020)\n",
       "(EPL source distribution)\n",
       "Java Runtime: OpenJDK Runtime Environment\n",
       "JVM: OpenJDK 64-Bit Server VM\n",
       "Default Encoding: UTF-8\n",
       "Language: en\n",
       "Country: null\n",
       "--></g></svg>"
      ]
     },
     "execution_count": 4,
     "metadata": {},
     "output_type": "execute_result"
    }
   ],
   "source": [
    "%viz --style=\"COMPTREE\" --view=\"State\" \"AliasTest\""
   ]
  },
  {
   "cell_type": "code",
   "execution_count": 5,
   "id": "solved-malpractice",
   "metadata": {
    "execution": {
     "iopub.execute_input": "2021-03-25T14:09:56.982427Z",
     "iopub.status.busy": "2021-03-25T14:09:56.981825Z",
     "iopub.status.idle": "2021-03-25T14:09:57.131342Z",
     "shell.execute_reply": "2021-03-25T14:09:57.128993Z"
    }
   },
   "outputs": [
    {
     "data": {
      "image/svg+xml": [
       "<?xml version=\"1.0\" encoding=\"UTF-8\" standalone=\"no\"?><svg xmlns=\"http://www.w3.org/2000/svg\" xmlns:xlink=\"http://www.w3.org/1999/xlink\" contentScriptType=\"application/ecmascript\" contentStyleType=\"text/css\" height=\"207px\" preserveAspectRatio=\"none\" style=\"width:406px;height:207px;\" version=\"1.1\" viewBox=\"0 0 406 207\" width=\"406px\" zoomAndPan=\"magnify\"><defs/><g><!--MD5=[fbc87193dbaf4d95561dea2c320d4a47]\n",
       "cluster E1--><a href=\"psysml:e49964db-e340-4eba-a3a8-d7e4e465bce2\" target=\"_top\" title=\"psysml:e49964db-e340-4eba-a3a8-d7e4e465bce2\" xlink:actuate=\"onRequest\" xlink:href=\"psysml:e49964db-e340-4eba-a3a8-d7e4e465bce2\" xlink:show=\"new\" xlink:title=\"psysml:e49964db-e340-4eba-a3a8-d7e4e465bce2\" xlink:type=\"simple\"><polygon fill=\"#FFFFFF\" points=\"16,6,94,6,101,28.2969,384,28.2969,384,195,16,195,16,6\" style=\"stroke: #000000; stroke-width: 1.5;\"/><line style=\"stroke: #000000; stroke-width: 1.5;\" x1=\"16\" x2=\"101\" y1=\"28.2969\" y2=\"28.2969\"/><text fill=\"#000000\" font-family=\"sans-serif\" font-size=\"14\" font-weight=\"bold\" lengthAdjust=\"spacingAndGlyphs\" textLength=\"72\" x=\"20\" y=\"20.9951\">AliasTest</text></a><!--MD5=[e4f7fae6ed58524ba242bb0b0d3be6b7]\n",
       "cluster E2--><a href=\"psysml:c347ad09-22d6-4423-9bac-4dbac759901f\" target=\"_top\" title=\"psysml:c347ad09-22d6-4423-9bac-4dbac759901f\" xlink:actuate=\"onRequest\" xlink:href=\"psysml:c347ad09-22d6-4423-9bac-4dbac759901f\" xlink:show=\"new\" xlink:title=\"psysml:c347ad09-22d6-4423-9bac-4dbac759901f\" xlink:type=\"simple\"><rect fill=\"#FFFFFF\" height=\"73\" id=\"E2\" style=\"stroke: #383838; stroke-width: 1.5;\" width=\"83\" x=\"244\" y=\"55\"/><rect fill=\"#F8F8F8\" height=\"37.9375\" style=\"stroke: #383838; stroke-width: 1.5;\" width=\"83\" x=\"244\" y=\"55\"/><text fill=\"#000000\" font-family=\"sans-serif\" font-size=\"12\" font-style=\"italic\" lengthAdjust=\"spacingAndGlyphs\" textLength=\"64\" x=\"253.5\" y=\"71.1387\">«part def»</text><text fill=\"#000000\" font-family=\"sans-serif\" font-size=\"12\" lengthAdjust=\"spacingAndGlyphs\" textLength=\"16\" x=\"277.5\" y=\"85.1074\">P1</text></a><!--MD5=[de5ec2e2e8f62f467e546659f5068c88]\n",
       "cluster E5--><a href=\"psysml:d449d8a1-a677-4f10-8ecb-a1ad1c680d6c\" target=\"_top\" title=\"psysml:d449d8a1-a677-4f10-8ecb-a1ad1c680d6c\" xlink:actuate=\"onRequest\" xlink:href=\"psysml:d449d8a1-a677-4f10-8ecb-a1ad1c680d6c\" xlink:show=\"new\" xlink:title=\"psysml:d449d8a1-a677-4f10-8ecb-a1ad1c680d6c\" xlink:type=\"simple\"><rect fill=\"#FFFFFF\" height=\"84.5\" id=\"E5\" rx=\"10\" ry=\"10\" style=\"stroke: #383838; stroke-width: 1.5;\" width=\"101\" x=\"139\" y=\"94.5\"/><rect fill=\"#F8F8F8\" height=\"23.9688\" rx=\"10\" ry=\"10\" style=\"stroke: #F8F8F8; stroke-width: 1.5;\" width=\"101\" x=\"139\" y=\"94.5\"/><rect fill=\"#F8F8F8\" height=\"10\" style=\"stroke: #F8F8F8; stroke-width: 1.5;\" width=\"101\" x=\"139\" y=\"108.4688\"/><rect fill=\"none\" height=\"84.5\" id=\"E5\" rx=\"10\" ry=\"10\" style=\"stroke: #383838; stroke-width: 1.5;\" width=\"101\" x=\"139\" y=\"94.5\"/><text fill=\"#000000\" font-family=\"sans-serif\" font-size=\"12\" lengthAdjust=\"spacingAndGlyphs\" textLength=\"40\" x=\"169.5\" y=\"110.6387\">p1: P1</text><line style=\"stroke: #383838; stroke-width: 1.0;\" x1=\"139\" x2=\"240\" y1=\"118.4688\" y2=\"118.4688\"/></a><!--MD5=[168fadf3d0c3fd93dd5d6da1b1d7ab76]\n",
       "cluster E7--><a href=\"psysml:32242b45-8d95-4b7d-97cb-8dd31296908f\" target=\"_top\" title=\"psysml:32242b45-8d95-4b7d-97cb-8dd31296908f\" xlink:actuate=\"onRequest\" xlink:href=\"psysml:32242b45-8d95-4b7d-97cb-8dd31296908f\" xlink:show=\"new\" xlink:title=\"psysml:32242b45-8d95-4b7d-97cb-8dd31296908f\" xlink:type=\"simple\"><rect fill=\"#FFFFFF\" height=\"65\" id=\"E7\" rx=\"10\" ry=\"10\" style=\"stroke: #383838; stroke-width: 1.5;\" width=\"83\" x=\"53\" y=\"55\"/><rect fill=\"#F8F8F8\" height=\"23.9688\" rx=\"10\" ry=\"10\" style=\"stroke: #F8F8F8; stroke-width: 1.5;\" width=\"83\" x=\"53\" y=\"55\"/><rect fill=\"#F8F8F8\" height=\"10\" style=\"stroke: #F8F8F8; stroke-width: 1.5;\" width=\"83\" x=\"53\" y=\"68.9688\"/><rect fill=\"none\" height=\"65\" id=\"E7\" rx=\"10\" ry=\"10\" style=\"stroke: #383838; stroke-width: 1.5;\" width=\"83\" x=\"53\" y=\"55\"/><text fill=\"#000000\" font-family=\"sans-serif\" font-size=\"12\" lengthAdjust=\"spacingAndGlyphs\" textLength=\"40\" x=\"74.5\" y=\"71.1387\">p2: P1</text><line style=\"stroke: #383838; stroke-width: 1.0;\" x1=\"53\" x2=\"136\" y1=\"78.9688\" y2=\"78.9688\"/></a><text fill=\"#000000\" font-family=\"sans-serif\" font-size=\"14\" lengthAdjust=\"spacingAndGlyphs\" textLength=\"44\" x=\"240\" y=\"33.6982\">porig1</text><rect fill=\"#383838\" height=\"12\" style=\"stroke: #F8F8F8; stroke-width: 1.5;\" width=\"12\" x=\"256\" y=\"49\"/><text fill=\"#000000\" font-family=\"sans-serif\" font-size=\"14\" lengthAdjust=\"spacingAndGlyphs\" textLength=\"44\" x=\"287\" y=\"33.6982\">porig1</text><rect fill=\"#383838\" height=\"12\" style=\"stroke: #F8F8F8; stroke-width: 1.5;\" width=\"12\" x=\"303\" y=\"49\"/><text fill=\"#000000\" font-family=\"sans-serif\" font-size=\"14\" lengthAdjust=\"spacingAndGlyphs\" textLength=\"27\" x=\"143.5\" y=\"73.1982\">po1</text><rect fill=\"#383838\" height=\"12\" style=\"stroke: #F8F8F8; stroke-width: 1.5;\" width=\"12\" x=\"151\" y=\"88.5\"/><text fill=\"#000000\" font-family=\"sans-serif\" font-size=\"14\" lengthAdjust=\"spacingAndGlyphs\" textLength=\"40\" x=\"51\" y=\"33.6982\">pdest</text><rect fill=\"#383838\" height=\"12\" style=\"stroke: #F8F8F8; stroke-width: 1.5;\" width=\"12\" x=\"65\" y=\"49\"/><text fill=\"#000000\" font-family=\"sans-serif\" font-size=\"14\" lengthAdjust=\"spacingAndGlyphs\" textLength=\"40\" x=\"98\" y=\"33.6982\">pdest</text><rect fill=\"#383838\" height=\"12\" style=\"stroke: #F8F8F8; stroke-width: 1.5;\" width=\"12\" x=\"112\" y=\"49\"/><!--MD5=[60ac2c0cde89d4308155b0484e57a8ec]\n",
       "link E9 to E6--><a href=\"psysml:542ee912-9568-47bf-89cf-5ffa6da25451\" target=\"_top\" title=\"psysml:542ee912-9568-47bf-89cf-5ffa6da25451\" xlink:actuate=\"onRequest\" xlink:href=\"psysml:542ee912-9568-47bf-89cf-5ffa6da25451\" xlink:show=\"new\" xlink:title=\"psysml:542ee912-9568-47bf-89cf-5ffa6da25451\" xlink:type=\"simple\"><path d=\"M111.75,56.49 C103.41,58.2 109.82,64.05 115,69 C124.85,78.4 136.6,90.11 150.78,92.89 \" fill=\"none\" id=\"E9-E6\" style=\"stroke: #383838; stroke-width: 3.0;\"/></a><!--MD5=[60ac2c0cde89d4308155b0484e57a8ec]\n",
       "link E9 to E6--><a href=\"psysml:574c6fbc-01c2-4e16-ae54-13c104835878\" target=\"_top\" title=\"psysml:574c6fbc-01c2-4e16-ae54-13c104835878\" xlink:actuate=\"onRequest\" xlink:href=\"psysml:574c6fbc-01c2-4e16-ae54-13c104835878\" xlink:show=\"new\" xlink:title=\"psysml:574c6fbc-01c2-4e16-ae54-13c104835878\" xlink:type=\"simple\"><path d=\"M124.29,56.32 C137.94,57.76 144.62,63.87 150,69 C159.5,78.06 170.77,89.27 163.24,92.56 \" fill=\"none\" id=\"E9-E6-1\" style=\"stroke: #383838; stroke-width: 3.0;\"/></a><!--MD5=[85681c74a7350d0013c0811c5c1a7c94]\n",
       "@startuml\r\n",
       "skinparam ranksep 10\r\n",
       "skinparam rectangle {\r\n",
       " backgroundColor<<block>> LightGreen\r\n",
       "}\r\n",
       " skinparam monochrome true\r\n",
       "skinparam classbackgroundcolor white\r\n",
       "skinparam shadowing false\r\n",
       "skinparam wrapWidth 300\r\n",
       "hide circle\r\n",
       "\r\n",
       "package \"AliasTest\" as E1  [[psysml:e49964db-e340-4eba-a3a8-d7e4e465bce2 ]]  {\r\n",
       "rec def \"P1\" as E2  <<(T,blue)part def>> [[psysml:c347ad09-22d6-4423-9bac-4dbac759901f ]] {\r\n",
       "portin \"porig1\" as E3  <<(T,blue)port>> [[psysml:0250d93f-14e1-4692-9053-ebbfda808262 ]] \r\n",
       "portin \"porig1\" as E4  <<(T,blue)port>> [[psysml:0250d93f-14e1-4692-9053-ebbfda808262 ]] \r\n",
       "}\r\n",
       "rec usage \"p1: P1\" as E5  [[psysml:d449d8a1-a677-4f10-8ecb-a1ad1c680d6c ]] {\r\n",
       "portin \"po1\" as E6  <<(T,blue)port>> [[psysml:29809450-6fae-45f0-8103-0520fac6504b ]] \r\n",
       "}\r\n",
       "rec usage \"p2: P1\" as E7  [[psysml:32242b45-8d95-4b7d-97cb-8dd31296908f ]] {\r\n",
       "portin \"pdest\" as E8  <<(T,blue)port>> [[psysml:232a2b18-4f4e-4d95-914a-9e8054ac4fe4 ]] \r\n",
       "portin \"pdest\" as E9  <<(T,blue)port>> [[psysml:232a2b18-4f4e-4d95-914a-9e8054ac4fe4 ]] \r\n",
       "}\r\n",
       "E9 -[thickness=3]- E6 [[psysml:542ee912-9568-47bf-89cf-5ffa6da25451 ]] \r\n",
       "E9 -[thickness=3]- E6 [[psysml:574c6fbc-01c2-4e16-ae54-13c104835878 ]] \r\n",
       "}\r\n",
       "@enduml\r\n",
       "\n",
       "PlantUML version 1.2020.13(Sat Jun 13 12:26:38 UTC 2020)\n",
       "(EPL source distribution)\n",
       "Java Runtime: OpenJDK Runtime Environment\n",
       "JVM: OpenJDK 64-Bit Server VM\n",
       "Default Encoding: UTF-8\n",
       "Language: en\n",
       "Country: null\n",
       "--></g></svg>"
      ]
     },
     "execution_count": 5,
     "metadata": {},
     "output_type": "execute_result"
    }
   ],
   "source": [
    "%viz --style=\"COMPTREE\" --view=\"Interconnection\" \"AliasTest\""
   ]
  },
  {
   "cell_type": "code",
   "execution_count": 6,
   "id": "modified-strain",
   "metadata": {
    "execution": {
     "iopub.execute_input": "2021-03-25T14:09:57.179649Z",
     "iopub.status.busy": "2021-03-25T14:09:57.179127Z",
     "iopub.status.idle": "2021-03-25T14:09:57.190639Z",
     "shell.execute_reply": "2021-03-25T14:09:57.190265Z"
    }
   },
   "outputs": [
    {
     "data": {
      "image/svg+xml": [
       "<?xml version=\"1.0\" encoding=\"UTF-8\" standalone=\"no\"?><svg xmlns=\"http://www.w3.org/2000/svg\" xmlns:xlink=\"http://www.w3.org/1999/xlink\" contentScriptType=\"application/ecmascript\" contentStyleType=\"text/css\" height=\"12px\" preserveAspectRatio=\"none\" style=\"width:12px;height:12px;\" version=\"1.1\" viewBox=\"0 0 12 12\" width=\"12px\" zoomAndPan=\"magnify\"><defs/><g><!--MD5=[655b888544ca4751ea36af1068543f84]\n",
       "@startuml\r\n",
       "skinparam ranksep 8\r\n",
       " skinparam monochrome true\r\n",
       "skinparam classbackgroundcolor white\r\n",
       "skinparam shadowing false\r\n",
       "skinparam wrapWidth 300\r\n",
       "hide circle\r\n",
       "\r\n",
       "@enduml\r\n",
       "\n",
       "PlantUML version 1.2020.13(Sat Jun 13 12:26:38 UTC 2020)\n",
       "(EPL source distribution)\n",
       "Java Runtime: OpenJDK Runtime Environment\n",
       "JVM: OpenJDK 64-Bit Server VM\n",
       "Default Encoding: UTF-8\n",
       "Language: en\n",
       "Country: null\n",
       "--></g></svg>"
      ]
     },
     "execution_count": 6,
     "metadata": {},
     "output_type": "execute_result"
    }
   ],
   "source": [
    "%viz --style=\"COMPTREE\" --view=\"Action\" \"AliasTest\""
   ]
  },
  {
   "cell_type": "code",
   "execution_count": 7,
   "id": "happy-friday",
   "metadata": {
    "execution": {
     "iopub.execute_input": "2021-03-25T14:09:57.242669Z",
     "iopub.status.busy": "2021-03-25T14:09:57.242200Z",
     "iopub.status.idle": "2021-03-25T14:09:57.846317Z",
     "shell.execute_reply": "2021-03-25T14:09:57.844870Z"
    }
   },
   "outputs": [
    {
     "data": {
      "image/svg+xml": [
       "<?xml version=\"1.0\" encoding=\"UTF-8\" standalone=\"no\"?><svg xmlns=\"http://www.w3.org/2000/svg\" xmlns:xlink=\"http://www.w3.org/1999/xlink\" contentScriptType=\"application/ecmascript\" contentStyleType=\"text/css\" height=\"293px\" preserveAspectRatio=\"none\" style=\"width:285px;height:293px;\" version=\"1.1\" viewBox=\"0 0 285 293\" width=\"285px\" zoomAndPan=\"magnify\"><defs/><g><!--MD5=[fbc87193dbaf4d95561dea2c320d4a47]\n",
       "cluster E1--><a href=\"psysml:e49964db-e340-4eba-a3a8-d7e4e465bce2\" target=\"_top\" title=\"psysml:e49964db-e340-4eba-a3a8-d7e4e465bce2\" xlink:actuate=\"onRequest\" xlink:href=\"psysml:e49964db-e340-4eba-a3a8-d7e4e465bce2\" xlink:show=\"new\" xlink:title=\"psysml:e49964db-e340-4eba-a3a8-d7e4e465bce2\" xlink:type=\"simple\"><polygon fill=\"#FFFFFF\" points=\"16,6,94,6,101,28.2969,263,28.2969,263,281,16,281,16,6\" style=\"stroke: #000000; stroke-width: 1.5;\"/><line style=\"stroke: #000000; stroke-width: 1.5;\" x1=\"16\" x2=\"101\" y1=\"28.2969\" y2=\"28.2969\"/><text fill=\"#000000\" font-family=\"sans-serif\" font-size=\"14\" font-weight=\"bold\" lengthAdjust=\"spacingAndGlyphs\" textLength=\"72\" x=\"20\" y=\"20.9951\">AliasTest</text></a><!--MD5=[b4997ac47864f28c2f74865a473b2911]\n",
       "class E2--><a href=\"psysml:c347ad09-22d6-4423-9bac-4dbac759901f\" target=\"_top\" title=\"psysml:c347ad09-22d6-4423-9bac-4dbac759901f\" xlink:actuate=\"onRequest\" xlink:href=\"psysml:c347ad09-22d6-4423-9bac-4dbac759901f\" xlink:show=\"new\" xlink:title=\"psysml:c347ad09-22d6-4423-9bac-4dbac759901f\" xlink:type=\"simple\"><rect fill=\"#FFFFFF\" height=\"75.5469\" id=\"E2\" style=\"stroke: #383838; stroke-width: 1.5;\" width=\"92\" x=\"93\" y=\"189\"/><text fill=\"#000000\" font-family=\"sans-serif\" font-size=\"12\" font-style=\"italic\" lengthAdjust=\"spacingAndGlyphs\" textLength=\"64\" x=\"107\" y=\"205.1387\">«part def»</text><text fill=\"#000000\" font-family=\"sans-serif\" font-size=\"12\" lengthAdjust=\"spacingAndGlyphs\" textLength=\"16\" x=\"131\" y=\"219.1074\">P1</text><line style=\"stroke: #383838; stroke-width: 1.5;\" x1=\"94\" x2=\"184\" y1=\"226.9375\" y2=\"226.9375\"/><text fill=\"#000000\" font-family=\"sans-serif\" font-size=\"11\" lengthAdjust=\"spacingAndGlyphs\" textLength=\"36\" x=\"99\" y=\"257.9526\">porig1</text><text fill=\"#000000\" font-family=\"sans-serif\" font-size=\"11\" font-weight=\"bold\" lengthAdjust=\"spacingAndGlyphs\" textLength=\"15\" x=\"139\" y=\"257.9526\">as</text><text fill=\"#000000\" font-family=\"sans-serif\" font-size=\"11\" lengthAdjust=\"spacingAndGlyphs\" textLength=\"21\" x=\"158\" y=\"257.9526\">po1</text><line style=\"stroke: #383838; stroke-width: 1.0;\" x1=\"94\" x2=\"124\" y1=\"241.3398\" y2=\"241.3398\"/><text fill=\"#000000\" font-family=\"sans-serif\" font-size=\"11\" lengthAdjust=\"spacingAndGlyphs\" textLength=\"30\" x=\"124\" y=\"244.6479\">ports</text><line style=\"stroke: #383838; stroke-width: 1.0;\" x1=\"154\" x2=\"184\" y1=\"241.3398\" y2=\"241.3398\"/></a><!--MD5=[09b614a08d8cba4a07c9adeb5e0fee81]\n",
       "class E3--><a href=\"psysml:d449d8a1-a677-4f10-8ecb-a1ad1c680d6c\" target=\"_top\" title=\"psysml:d449d8a1-a677-4f10-8ecb-a1ad1c680d6c\" xlink:actuate=\"onRequest\" xlink:href=\"psysml:d449d8a1-a677-4f10-8ecb-a1ad1c680d6c\" xlink:show=\"new\" xlink:title=\"psysml:d449d8a1-a677-4f10-8ecb-a1ad1c680d6c\" xlink:type=\"simple\"><rect fill=\"#FFFFFF\" height=\"88.3516\" id=\"E3\" rx=\"10\" ry=\"10\" style=\"stroke: #383838; stroke-width: 1.5;\" width=\"92\" x=\"155\" y=\"41\"/><text fill=\"#000000\" font-family=\"sans-serif\" font-size=\"12\" font-style=\"italic\" lengthAdjust=\"spacingAndGlyphs\" textLength=\"40\" x=\"181\" y=\"57.1387\">«part»</text><text fill=\"#000000\" font-family=\"sans-serif\" font-size=\"12\" lengthAdjust=\"spacingAndGlyphs\" textLength=\"40\" x=\"181\" y=\"71.1074\">p1: P1</text><line style=\"stroke: #383838; stroke-width: 1.5;\" x1=\"156\" x2=\"246\" y1=\"78.9375\" y2=\"78.9375\"/><text fill=\"#000000\" font-family=\"sans-serif\" font-size=\"11\" lengthAdjust=\"spacingAndGlyphs\" textLength=\"21\" x=\"161\" y=\"109.9526\">po1</text><text fill=\"#000000\" font-family=\"sans-serif\" font-size=\"11\" font-style=\"italic\" lengthAdjust=\"spacingAndGlyphs\" textLength=\"80\" x=\"161\" y=\"122.7573\">:&gt;&gt;P1::porig1</text><line style=\"stroke: #383838; stroke-width: 1.0;\" x1=\"156\" x2=\"186\" y1=\"93.3398\" y2=\"93.3398\"/><text fill=\"#000000\" font-family=\"sans-serif\" font-size=\"11\" lengthAdjust=\"spacingAndGlyphs\" textLength=\"30\" x=\"186\" y=\"96.6479\">ports</text><line style=\"stroke: #383838; stroke-width: 1.0;\" x1=\"216\" x2=\"246\" y1=\"93.3398\" y2=\"93.3398\"/></a><!--MD5=[ebbe1d658d1005bcc118a6aa81145e00]\n",
       "class E4--><a href=\"psysml:32242b45-8d95-4b7d-97cb-8dd31296908f\" target=\"_top\" title=\"psysml:32242b45-8d95-4b7d-97cb-8dd31296908f\" xlink:actuate=\"onRequest\" xlink:href=\"psysml:32242b45-8d95-4b7d-97cb-8dd31296908f\" xlink:show=\"new\" xlink:title=\"psysml:32242b45-8d95-4b7d-97cb-8dd31296908f\" xlink:type=\"simple\"><rect fill=\"#FFFFFF\" height=\"75.5469\" id=\"E4\" rx=\"10\" ry=\"10\" style=\"stroke: #383838; stroke-width: 1.5;\" width=\"88\" x=\"32\" y=\"47\"/><text fill=\"#000000\" font-family=\"sans-serif\" font-size=\"12\" font-style=\"italic\" lengthAdjust=\"spacingAndGlyphs\" textLength=\"40\" x=\"56\" y=\"63.1387\">«part»</text><text fill=\"#000000\" font-family=\"sans-serif\" font-size=\"12\" lengthAdjust=\"spacingAndGlyphs\" textLength=\"40\" x=\"56\" y=\"77.1074\">p2: P1</text><line style=\"stroke: #383838; stroke-width: 1.5;\" x1=\"33\" x2=\"119\" y1=\"84.9375\" y2=\"84.9375\"/><text fill=\"#000000\" font-family=\"sans-serif\" font-size=\"11\" lengthAdjust=\"spacingAndGlyphs\" textLength=\"32\" x=\"38\" y=\"115.9526\">pdest</text><text fill=\"#000000\" font-family=\"sans-serif\" font-size=\"11\" font-weight=\"bold\" lengthAdjust=\"spacingAndGlyphs\" textLength=\"15\" x=\"74\" y=\"115.9526\">as</text><text fill=\"#000000\" font-family=\"sans-serif\" font-size=\"11\" lengthAdjust=\"spacingAndGlyphs\" textLength=\"21\" x=\"93\" y=\"115.9526\">pd1</text><line style=\"stroke: #383838; stroke-width: 1.0;\" x1=\"33\" x2=\"61\" y1=\"99.3398\" y2=\"99.3398\"/><text fill=\"#000000\" font-family=\"sans-serif\" font-size=\"11\" lengthAdjust=\"spacingAndGlyphs\" textLength=\"30\" x=\"61\" y=\"102.6479\">ports</text><line style=\"stroke: #383838; stroke-width: 1.0;\" x1=\"91\" x2=\"119\" y1=\"99.3398\" y2=\"99.3398\"/></a><!--MD5=[05d275557350bfb9b23a4ef7222b4c39]\n",
       "link E3 to E2--><a href=\"psysml:2d5875ca-6e79-47eb-af19-37e1c3e68f98\" target=\"_top\" title=\"psysml:2d5875ca-6e79-47eb-af19-37e1c3e68f98\" xlink:actuate=\"onRequest\" xlink:href=\"psysml:2d5875ca-6e79-47eb-af19-37e1c3e68f98\" xlink:show=\"new\" xlink:title=\"psysml:2d5875ca-6e79-47eb-af19-37e1c3e68f98\" xlink:type=\"simple\"><path d=\"M181.89,129.15 C176.14,142.14 169.74,156.6 163.67,170.29 \" fill=\"none\" id=\"E3-&gt;E2\" style=\"stroke: #383838; stroke-width: 1.0;\"/><polygon fill=\"#FFFFFF\" points=\"155.43,188.9,156.725,168.693,169.5254,174.3632,155.43,188.9\" style=\"stroke: #383838; stroke-width: 1.0;\"/><ellipse cx=\"160.8622\" cy=\"164.2914\" fill=\"#383838\" rx=\"2\" ry=\"2\" style=\"stroke: #383838; stroke-width: 1.0;\"/><ellipse cx=\"170.0053\" cy=\"168.3416\" fill=\"#383838\" rx=\"2\" ry=\"2\" style=\"stroke: #383838; stroke-width: 1.0;\"/></a><!--MD5=[185131fc0dcab0a4505a2ebe144e961b]\n",
       "link E4 to E2--><a href=\"psysml:6438d4a2-0b71-4be8-b1f1-dcd907944303\" target=\"_top\" title=\"psysml:6438d4a2-0b71-4be8-b1f1-dcd907944303\" xlink:actuate=\"onRequest\" xlink:href=\"psysml:6438d4a2-0b71-4be8-b1f1-dcd907944303\" xlink:show=\"new\" xlink:title=\"psysml:6438d4a2-0b71-4be8-b1f1-dcd907944303\" xlink:type=\"simple\"><path d=\"M92.72,123.15 C99.23,137.63 106.84,154.53 113.98,170.4 \" fill=\"none\" id=\"E4-&gt;E2\" style=\"stroke: #383838; stroke-width: 1.0;\"/><polygon fill=\"#FFFFFF\" points=\"122.2,188.68,108.0257,174.22,120.7951,168.4803,122.2,188.68\" style=\"stroke: #383838; stroke-width: 1.0;\"/><ellipse cx=\"107.5131\" cy=\"168.2011\" fill=\"#383838\" rx=\"2\" ry=\"2\" style=\"stroke: #383838; stroke-width: 1.0;\"/><ellipse cx=\"116.634\" cy=\"164.1014\" fill=\"#383838\" rx=\"2\" ry=\"2\" style=\"stroke: #383838; stroke-width: 1.0;\"/></a><!--MD5=[cb83027944fcf8ed55145c091e744b5c]\n",
       "@startuml\r\n",
       " skinparam monochrome true\r\n",
       "skinparam classbackgroundcolor white\r\n",
       "skinparam shadowing false\r\n",
       "skinparam wrapWidth 300\r\n",
       "hide circle\r\n",
       "\r\n",
       "package \"AliasTest\" as E1  [[psysml:e49964db-e340-4eba-a3a8-d7e4e465bce2 ]]  {\r\n",
       "comp def \"P1\" as E2  <<(T,blue)part def>> [[psysml:c347ad09-22d6-4423-9bac-4dbac759901f ]] {\r\n",
       "- - ports - -\r\n",
       "porig1 <b>as</b> po1 \r\n",
       "}\r\n",
       "comp usage \"p1: P1\" as E3  <<(T,blue)part>> [[psysml:d449d8a1-a677-4f10-8ecb-a1ad1c680d6c ]] {\r\n",
       "- - ports - -\r\n",
       "po1\\n//:>>P1::porig1// \r\n",
       "}\r\n",
       "comp usage \"p2: P1\" as E4  <<(T,blue)part>> [[psysml:32242b45-8d95-4b7d-97cb-8dd31296908f ]] {\r\n",
       "- - ports - -\r\n",
       "pdest <b>as</b> pd1 \r\n",
       "}\r\n",
       "E3 - -:|> E2 [[psysml:2d5875ca-6e79-47eb-af19-37e1c3e68f98 ]] \r\n",
       "E4 - -:|> E2 [[psysml:6438d4a2-0b71-4be8-b1f1-dcd907944303 ]] \r\n",
       "}\r\n",
       "@enduml\r\n",
       "\n",
       "PlantUML version 1.2020.13(Sat Jun 13 12:26:38 UTC 2020)\n",
       "(EPL source distribution)\n",
       "Java Runtime: OpenJDK Runtime Environment\n",
       "JVM: OpenJDK 64-Bit Server VM\n",
       "Default Encoding: UTF-8\n",
       "Language: en\n",
       "Country: null\n",
       "--></g></svg>"
      ]
     },
     "execution_count": 7,
     "metadata": {},
     "output_type": "execute_result"
    }
   ],
   "source": [
    "%viz --style=\"COMPTREE\" --view=\"Sequence\" \"AliasTest\""
   ]
  },
  {
   "cell_type": "code",
   "execution_count": 8,
   "id": "personal-recognition",
   "metadata": {
    "execution": {
     "iopub.execute_input": "2021-03-25T14:09:57.896909Z",
     "iopub.status.busy": "2021-03-25T14:09:57.896545Z",
     "iopub.status.idle": "2021-03-25T14:09:58.487261Z",
     "shell.execute_reply": "2021-03-25T14:09:58.485243Z"
    }
   },
   "outputs": [
    {
     "data": {
      "image/svg+xml": [
       "<?xml version=\"1.0\" encoding=\"UTF-8\" standalone=\"no\"?><svg xmlns=\"http://www.w3.org/2000/svg\" xmlns:xlink=\"http://www.w3.org/1999/xlink\" contentScriptType=\"application/ecmascript\" contentStyleType=\"text/css\" height=\"293px\" preserveAspectRatio=\"none\" style=\"width:285px;height:293px;\" version=\"1.1\" viewBox=\"0 0 285 293\" width=\"285px\" zoomAndPan=\"magnify\"><defs/><g><!--MD5=[fbc87193dbaf4d95561dea2c320d4a47]\n",
       "cluster E1--><a href=\"psysml:e49964db-e340-4eba-a3a8-d7e4e465bce2\" target=\"_top\" title=\"psysml:e49964db-e340-4eba-a3a8-d7e4e465bce2\" xlink:actuate=\"onRequest\" xlink:href=\"psysml:e49964db-e340-4eba-a3a8-d7e4e465bce2\" xlink:show=\"new\" xlink:title=\"psysml:e49964db-e340-4eba-a3a8-d7e4e465bce2\" xlink:type=\"simple\"><polygon fill=\"#FFFFFF\" points=\"16,6,94,6,101,28.2969,263,28.2969,263,281,16,281,16,6\" style=\"stroke: #000000; stroke-width: 1.5;\"/><line style=\"stroke: #000000; stroke-width: 1.5;\" x1=\"16\" x2=\"101\" y1=\"28.2969\" y2=\"28.2969\"/><text fill=\"#000000\" font-family=\"sans-serif\" font-size=\"14\" font-weight=\"bold\" lengthAdjust=\"spacingAndGlyphs\" textLength=\"72\" x=\"20\" y=\"20.9951\">AliasTest</text></a><!--MD5=[b4997ac47864f28c2f74865a473b2911]\n",
       "class E2--><a href=\"psysml:c347ad09-22d6-4423-9bac-4dbac759901f\" target=\"_top\" title=\"psysml:c347ad09-22d6-4423-9bac-4dbac759901f\" xlink:actuate=\"onRequest\" xlink:href=\"psysml:c347ad09-22d6-4423-9bac-4dbac759901f\" xlink:show=\"new\" xlink:title=\"psysml:c347ad09-22d6-4423-9bac-4dbac759901f\" xlink:type=\"simple\"><rect fill=\"#FFFFFF\" height=\"75.5469\" id=\"E2\" style=\"stroke: #383838; stroke-width: 1.5;\" width=\"92\" x=\"93\" y=\"189\"/><text fill=\"#000000\" font-family=\"sans-serif\" font-size=\"12\" font-style=\"italic\" lengthAdjust=\"spacingAndGlyphs\" textLength=\"64\" x=\"107\" y=\"205.1387\">«part def»</text><text fill=\"#000000\" font-family=\"sans-serif\" font-size=\"12\" lengthAdjust=\"spacingAndGlyphs\" textLength=\"16\" x=\"131\" y=\"219.1074\">P1</text><line style=\"stroke: #383838; stroke-width: 1.5;\" x1=\"94\" x2=\"184\" y1=\"226.9375\" y2=\"226.9375\"/><text fill=\"#000000\" font-family=\"sans-serif\" font-size=\"11\" lengthAdjust=\"spacingAndGlyphs\" textLength=\"36\" x=\"99\" y=\"257.9526\">porig1</text><text fill=\"#000000\" font-family=\"sans-serif\" font-size=\"11\" font-weight=\"bold\" lengthAdjust=\"spacingAndGlyphs\" textLength=\"15\" x=\"139\" y=\"257.9526\">as</text><text fill=\"#000000\" font-family=\"sans-serif\" font-size=\"11\" lengthAdjust=\"spacingAndGlyphs\" textLength=\"21\" x=\"158\" y=\"257.9526\">po1</text><line style=\"stroke: #383838; stroke-width: 1.0;\" x1=\"94\" x2=\"124\" y1=\"241.3398\" y2=\"241.3398\"/><text fill=\"#000000\" font-family=\"sans-serif\" font-size=\"11\" lengthAdjust=\"spacingAndGlyphs\" textLength=\"30\" x=\"124\" y=\"244.6479\">ports</text><line style=\"stroke: #383838; stroke-width: 1.0;\" x1=\"154\" x2=\"184\" y1=\"241.3398\" y2=\"241.3398\"/></a><!--MD5=[09b614a08d8cba4a07c9adeb5e0fee81]\n",
       "class E3--><a href=\"psysml:d449d8a1-a677-4f10-8ecb-a1ad1c680d6c\" target=\"_top\" title=\"psysml:d449d8a1-a677-4f10-8ecb-a1ad1c680d6c\" xlink:actuate=\"onRequest\" xlink:href=\"psysml:d449d8a1-a677-4f10-8ecb-a1ad1c680d6c\" xlink:show=\"new\" xlink:title=\"psysml:d449d8a1-a677-4f10-8ecb-a1ad1c680d6c\" xlink:type=\"simple\"><rect fill=\"#FFFFFF\" height=\"88.3516\" id=\"E3\" rx=\"10\" ry=\"10\" style=\"stroke: #383838; stroke-width: 1.5;\" width=\"92\" x=\"155\" y=\"41\"/><text fill=\"#000000\" font-family=\"sans-serif\" font-size=\"12\" font-style=\"italic\" lengthAdjust=\"spacingAndGlyphs\" textLength=\"40\" x=\"181\" y=\"57.1387\">«part»</text><text fill=\"#000000\" font-family=\"sans-serif\" font-size=\"12\" lengthAdjust=\"spacingAndGlyphs\" textLength=\"40\" x=\"181\" y=\"71.1074\">p1: P1</text><line style=\"stroke: #383838; stroke-width: 1.5;\" x1=\"156\" x2=\"246\" y1=\"78.9375\" y2=\"78.9375\"/><text fill=\"#000000\" font-family=\"sans-serif\" font-size=\"11\" lengthAdjust=\"spacingAndGlyphs\" textLength=\"21\" x=\"161\" y=\"109.9526\">po1</text><text fill=\"#000000\" font-family=\"sans-serif\" font-size=\"11\" font-style=\"italic\" lengthAdjust=\"spacingAndGlyphs\" textLength=\"80\" x=\"161\" y=\"122.7573\">:&gt;&gt;P1::porig1</text><line style=\"stroke: #383838; stroke-width: 1.0;\" x1=\"156\" x2=\"186\" y1=\"93.3398\" y2=\"93.3398\"/><text fill=\"#000000\" font-family=\"sans-serif\" font-size=\"11\" lengthAdjust=\"spacingAndGlyphs\" textLength=\"30\" x=\"186\" y=\"96.6479\">ports</text><line style=\"stroke: #383838; stroke-width: 1.0;\" x1=\"216\" x2=\"246\" y1=\"93.3398\" y2=\"93.3398\"/></a><!--MD5=[ebbe1d658d1005bcc118a6aa81145e00]\n",
       "class E4--><a href=\"psysml:32242b45-8d95-4b7d-97cb-8dd31296908f\" target=\"_top\" title=\"psysml:32242b45-8d95-4b7d-97cb-8dd31296908f\" xlink:actuate=\"onRequest\" xlink:href=\"psysml:32242b45-8d95-4b7d-97cb-8dd31296908f\" xlink:show=\"new\" xlink:title=\"psysml:32242b45-8d95-4b7d-97cb-8dd31296908f\" xlink:type=\"simple\"><rect fill=\"#FFFFFF\" height=\"75.5469\" id=\"E4\" rx=\"10\" ry=\"10\" style=\"stroke: #383838; stroke-width: 1.5;\" width=\"88\" x=\"32\" y=\"47\"/><text fill=\"#000000\" font-family=\"sans-serif\" font-size=\"12\" font-style=\"italic\" lengthAdjust=\"spacingAndGlyphs\" textLength=\"40\" x=\"56\" y=\"63.1387\">«part»</text><text fill=\"#000000\" font-family=\"sans-serif\" font-size=\"12\" lengthAdjust=\"spacingAndGlyphs\" textLength=\"40\" x=\"56\" y=\"77.1074\">p2: P1</text><line style=\"stroke: #383838; stroke-width: 1.5;\" x1=\"33\" x2=\"119\" y1=\"84.9375\" y2=\"84.9375\"/><text fill=\"#000000\" font-family=\"sans-serif\" font-size=\"11\" lengthAdjust=\"spacingAndGlyphs\" textLength=\"32\" x=\"38\" y=\"115.9526\">pdest</text><text fill=\"#000000\" font-family=\"sans-serif\" font-size=\"11\" font-weight=\"bold\" lengthAdjust=\"spacingAndGlyphs\" textLength=\"15\" x=\"74\" y=\"115.9526\">as</text><text fill=\"#000000\" font-family=\"sans-serif\" font-size=\"11\" lengthAdjust=\"spacingAndGlyphs\" textLength=\"21\" x=\"93\" y=\"115.9526\">pd1</text><line style=\"stroke: #383838; stroke-width: 1.0;\" x1=\"33\" x2=\"61\" y1=\"99.3398\" y2=\"99.3398\"/><text fill=\"#000000\" font-family=\"sans-serif\" font-size=\"11\" lengthAdjust=\"spacingAndGlyphs\" textLength=\"30\" x=\"61\" y=\"102.6479\">ports</text><line style=\"stroke: #383838; stroke-width: 1.0;\" x1=\"91\" x2=\"119\" y1=\"99.3398\" y2=\"99.3398\"/></a><!--MD5=[05d275557350bfb9b23a4ef7222b4c39]\n",
       "link E3 to E2--><a href=\"psysml:2d5875ca-6e79-47eb-af19-37e1c3e68f98\" target=\"_top\" title=\"psysml:2d5875ca-6e79-47eb-af19-37e1c3e68f98\" xlink:actuate=\"onRequest\" xlink:href=\"psysml:2d5875ca-6e79-47eb-af19-37e1c3e68f98\" xlink:show=\"new\" xlink:title=\"psysml:2d5875ca-6e79-47eb-af19-37e1c3e68f98\" xlink:type=\"simple\"><path d=\"M181.89,129.15 C176.14,142.14 169.74,156.6 163.67,170.29 \" fill=\"none\" id=\"E3-&gt;E2\" style=\"stroke: #383838; stroke-width: 1.0;\"/><polygon fill=\"#FFFFFF\" points=\"155.43,188.9,156.725,168.693,169.5254,174.3632,155.43,188.9\" style=\"stroke: #383838; stroke-width: 1.0;\"/><ellipse cx=\"160.8622\" cy=\"164.2914\" fill=\"#383838\" rx=\"2\" ry=\"2\" style=\"stroke: #383838; stroke-width: 1.0;\"/><ellipse cx=\"170.0053\" cy=\"168.3416\" fill=\"#383838\" rx=\"2\" ry=\"2\" style=\"stroke: #383838; stroke-width: 1.0;\"/></a><!--MD5=[185131fc0dcab0a4505a2ebe144e961b]\n",
       "link E4 to E2--><a href=\"psysml:6438d4a2-0b71-4be8-b1f1-dcd907944303\" target=\"_top\" title=\"psysml:6438d4a2-0b71-4be8-b1f1-dcd907944303\" xlink:actuate=\"onRequest\" xlink:href=\"psysml:6438d4a2-0b71-4be8-b1f1-dcd907944303\" xlink:show=\"new\" xlink:title=\"psysml:6438d4a2-0b71-4be8-b1f1-dcd907944303\" xlink:type=\"simple\"><path d=\"M92.72,123.15 C99.23,137.63 106.84,154.53 113.98,170.4 \" fill=\"none\" id=\"E4-&gt;E2\" style=\"stroke: #383838; stroke-width: 1.0;\"/><polygon fill=\"#FFFFFF\" points=\"122.2,188.68,108.0257,174.22,120.7951,168.4803,122.2,188.68\" style=\"stroke: #383838; stroke-width: 1.0;\"/><ellipse cx=\"107.5131\" cy=\"168.2011\" fill=\"#383838\" rx=\"2\" ry=\"2\" style=\"stroke: #383838; stroke-width: 1.0;\"/><ellipse cx=\"116.634\" cy=\"164.1014\" fill=\"#383838\" rx=\"2\" ry=\"2\" style=\"stroke: #383838; stroke-width: 1.0;\"/></a><!--MD5=[cb83027944fcf8ed55145c091e744b5c]\n",
       "@startuml\r\n",
       " skinparam monochrome true\r\n",
       "skinparam classbackgroundcolor white\r\n",
       "skinparam shadowing false\r\n",
       "skinparam wrapWidth 300\r\n",
       "hide circle\r\n",
       "\r\n",
       "package \"AliasTest\" as E1  [[psysml:e49964db-e340-4eba-a3a8-d7e4e465bce2 ]]  {\r\n",
       "comp def \"P1\" as E2  <<(T,blue)part def>> [[psysml:c347ad09-22d6-4423-9bac-4dbac759901f ]] {\r\n",
       "- - ports - -\r\n",
       "porig1 <b>as</b> po1 \r\n",
       "}\r\n",
       "comp usage \"p1: P1\" as E3  <<(T,blue)part>> [[psysml:d449d8a1-a677-4f10-8ecb-a1ad1c680d6c ]] {\r\n",
       "- - ports - -\r\n",
       "po1\\n//:>>P1::porig1// \r\n",
       "}\r\n",
       "comp usage \"p2: P1\" as E4  <<(T,blue)part>> [[psysml:32242b45-8d95-4b7d-97cb-8dd31296908f ]] {\r\n",
       "- - ports - -\r\n",
       "pdest <b>as</b> pd1 \r\n",
       "}\r\n",
       "E3 - -:|> E2 [[psysml:2d5875ca-6e79-47eb-af19-37e1c3e68f98 ]] \r\n",
       "E4 - -:|> E2 [[psysml:6438d4a2-0b71-4be8-b1f1-dcd907944303 ]] \r\n",
       "}\r\n",
       "@enduml\r\n",
       "\n",
       "PlantUML version 1.2020.13(Sat Jun 13 12:26:38 UTC 2020)\n",
       "(EPL source distribution)\n",
       "Java Runtime: OpenJDK Runtime Environment\n",
       "JVM: OpenJDK 64-Bit Server VM\n",
       "Default Encoding: UTF-8\n",
       "Language: en\n",
       "Country: null\n",
       "--></g></svg>"
      ]
     },
     "execution_count": 8,
     "metadata": {},
     "output_type": "execute_result"
    }
   ],
   "source": [
    "%viz --style=\"COMPTREE\" --view=\"MIXED\" \"AliasTest\""
   ]
  },
  {
   "cell_type": "code",
   "execution_count": 9,
   "id": "specified-canon",
   "metadata": {
    "execution": {
     "iopub.execute_input": "2021-03-25T14:09:58.538414Z",
     "iopub.status.busy": "2021-03-25T14:09:58.537830Z",
     "iopub.status.idle": "2021-03-25T14:09:59.113498Z",
     "shell.execute_reply": "2021-03-25T14:09:59.111909Z"
    }
   },
   "outputs": [
    {
     "data": {
      "image/svg+xml": [
       "<?xml version=\"1.0\" encoding=\"UTF-8\" standalone=\"no\"?><svg xmlns=\"http://www.w3.org/2000/svg\" xmlns:xlink=\"http://www.w3.org/1999/xlink\" contentScriptType=\"application/ecmascript\" contentStyleType=\"text/css\" height=\"293px\" preserveAspectRatio=\"none\" style=\"width:285px;height:293px;\" version=\"1.1\" viewBox=\"0 0 285 293\" width=\"285px\" zoomAndPan=\"magnify\"><defs/><g><!--MD5=[fbc87193dbaf4d95561dea2c320d4a47]\n",
       "cluster E1--><a href=\"psysml:e49964db-e340-4eba-a3a8-d7e4e465bce2\" target=\"_top\" title=\"psysml:e49964db-e340-4eba-a3a8-d7e4e465bce2\" xlink:actuate=\"onRequest\" xlink:href=\"psysml:e49964db-e340-4eba-a3a8-d7e4e465bce2\" xlink:show=\"new\" xlink:title=\"psysml:e49964db-e340-4eba-a3a8-d7e4e465bce2\" xlink:type=\"simple\"><polygon fill=\"#FFFFFF\" points=\"16,6,94,6,101,28.2969,263,28.2969,263,281,16,281,16,6\" style=\"stroke: #000000; stroke-width: 1.5;\"/><line style=\"stroke: #000000; stroke-width: 1.5;\" x1=\"16\" x2=\"101\" y1=\"28.2969\" y2=\"28.2969\"/><text fill=\"#000000\" font-family=\"sans-serif\" font-size=\"14\" font-weight=\"bold\" lengthAdjust=\"spacingAndGlyphs\" textLength=\"72\" x=\"20\" y=\"20.9951\">AliasTest</text></a><!--MD5=[b4997ac47864f28c2f74865a473b2911]\n",
       "class E2--><a href=\"psysml:c347ad09-22d6-4423-9bac-4dbac759901f\" target=\"_top\" title=\"psysml:c347ad09-22d6-4423-9bac-4dbac759901f\" xlink:actuate=\"onRequest\" xlink:href=\"psysml:c347ad09-22d6-4423-9bac-4dbac759901f\" xlink:show=\"new\" xlink:title=\"psysml:c347ad09-22d6-4423-9bac-4dbac759901f\" xlink:type=\"simple\"><rect fill=\"#FFFFFF\" height=\"75.5469\" id=\"E2\" style=\"stroke: #383838; stroke-width: 1.5;\" width=\"92\" x=\"93\" y=\"189\"/><text fill=\"#000000\" font-family=\"sans-serif\" font-size=\"12\" font-style=\"italic\" lengthAdjust=\"spacingAndGlyphs\" textLength=\"64\" x=\"107\" y=\"205.1387\">«part def»</text><text fill=\"#000000\" font-family=\"sans-serif\" font-size=\"12\" lengthAdjust=\"spacingAndGlyphs\" textLength=\"16\" x=\"131\" y=\"219.1074\">P1</text><line style=\"stroke: #383838; stroke-width: 1.5;\" x1=\"94\" x2=\"184\" y1=\"226.9375\" y2=\"226.9375\"/><text fill=\"#000000\" font-family=\"sans-serif\" font-size=\"11\" lengthAdjust=\"spacingAndGlyphs\" textLength=\"36\" x=\"99\" y=\"257.9526\">porig1</text><text fill=\"#000000\" font-family=\"sans-serif\" font-size=\"11\" font-weight=\"bold\" lengthAdjust=\"spacingAndGlyphs\" textLength=\"15\" x=\"139\" y=\"257.9526\">as</text><text fill=\"#000000\" font-family=\"sans-serif\" font-size=\"11\" lengthAdjust=\"spacingAndGlyphs\" textLength=\"21\" x=\"158\" y=\"257.9526\">po1</text><line style=\"stroke: #383838; stroke-width: 1.0;\" x1=\"94\" x2=\"124\" y1=\"241.3398\" y2=\"241.3398\"/><text fill=\"#000000\" font-family=\"sans-serif\" font-size=\"11\" lengthAdjust=\"spacingAndGlyphs\" textLength=\"30\" x=\"124\" y=\"244.6479\">ports</text><line style=\"stroke: #383838; stroke-width: 1.0;\" x1=\"154\" x2=\"184\" y1=\"241.3398\" y2=\"241.3398\"/></a><!--MD5=[ebbe1d658d1005bcc118a6aa81145e00]\n",
       "class E4--><a href=\"psysml:d449d8a1-a677-4f10-8ecb-a1ad1c680d6c\" target=\"_top\" title=\"psysml:d449d8a1-a677-4f10-8ecb-a1ad1c680d6c\" xlink:actuate=\"onRequest\" xlink:href=\"psysml:d449d8a1-a677-4f10-8ecb-a1ad1c680d6c\" xlink:show=\"new\" xlink:title=\"psysml:d449d8a1-a677-4f10-8ecb-a1ad1c680d6c\" xlink:type=\"simple\"><rect fill=\"#FFFFFF\" height=\"88.3516\" id=\"E4\" rx=\"10\" ry=\"10\" style=\"stroke: #383838; stroke-width: 1.5;\" width=\"92\" x=\"155\" y=\"41\"/><text fill=\"#000000\" font-family=\"sans-serif\" font-size=\"12\" font-style=\"italic\" lengthAdjust=\"spacingAndGlyphs\" textLength=\"40\" x=\"181\" y=\"57.1387\">«part»</text><text fill=\"#000000\" font-family=\"sans-serif\" font-size=\"12\" lengthAdjust=\"spacingAndGlyphs\" textLength=\"40\" x=\"181\" y=\"71.1074\">p1: P1</text><line style=\"stroke: #383838; stroke-width: 1.5;\" x1=\"156\" x2=\"246\" y1=\"78.9375\" y2=\"78.9375\"/><text fill=\"#000000\" font-family=\"sans-serif\" font-size=\"11\" lengthAdjust=\"spacingAndGlyphs\" textLength=\"21\" x=\"161\" y=\"109.9526\">po1</text><text fill=\"#000000\" font-family=\"sans-serif\" font-size=\"11\" font-style=\"italic\" lengthAdjust=\"spacingAndGlyphs\" textLength=\"80\" x=\"161\" y=\"122.7573\">:&gt;&gt;P1::porig1</text><line style=\"stroke: #383838; stroke-width: 1.0;\" x1=\"156\" x2=\"186\" y1=\"93.3398\" y2=\"93.3398\"/><text fill=\"#000000\" font-family=\"sans-serif\" font-size=\"11\" lengthAdjust=\"spacingAndGlyphs\" textLength=\"30\" x=\"186\" y=\"96.6479\">ports</text><line style=\"stroke: #383838; stroke-width: 1.0;\" x1=\"216\" x2=\"246\" y1=\"93.3398\" y2=\"93.3398\"/></a><!--MD5=[60a26617385b1d2d0262a64233df1f8d]\n",
       "class E6--><a href=\"psysml:32242b45-8d95-4b7d-97cb-8dd31296908f\" target=\"_top\" title=\"psysml:32242b45-8d95-4b7d-97cb-8dd31296908f\" xlink:actuate=\"onRequest\" xlink:href=\"psysml:32242b45-8d95-4b7d-97cb-8dd31296908f\" xlink:show=\"new\" xlink:title=\"psysml:32242b45-8d95-4b7d-97cb-8dd31296908f\" xlink:type=\"simple\"><rect fill=\"#FFFFFF\" height=\"75.5469\" id=\"E6\" rx=\"10\" ry=\"10\" style=\"stroke: #383838; stroke-width: 1.5;\" width=\"88\" x=\"32\" y=\"47\"/><text fill=\"#000000\" font-family=\"sans-serif\" font-size=\"12\" font-style=\"italic\" lengthAdjust=\"spacingAndGlyphs\" textLength=\"40\" x=\"56\" y=\"63.1387\">«part»</text><text fill=\"#000000\" font-family=\"sans-serif\" font-size=\"12\" lengthAdjust=\"spacingAndGlyphs\" textLength=\"40\" x=\"56\" y=\"77.1074\">p2: P1</text><line style=\"stroke: #383838; stroke-width: 1.5;\" x1=\"33\" x2=\"119\" y1=\"84.9375\" y2=\"84.9375\"/><text fill=\"#000000\" font-family=\"sans-serif\" font-size=\"11\" lengthAdjust=\"spacingAndGlyphs\" textLength=\"32\" x=\"38\" y=\"115.9526\">pdest</text><text fill=\"#000000\" font-family=\"sans-serif\" font-size=\"11\" font-weight=\"bold\" lengthAdjust=\"spacingAndGlyphs\" textLength=\"15\" x=\"74\" y=\"115.9526\">as</text><text fill=\"#000000\" font-family=\"sans-serif\" font-size=\"11\" lengthAdjust=\"spacingAndGlyphs\" textLength=\"21\" x=\"93\" y=\"115.9526\">pd1</text><line style=\"stroke: #383838; stroke-width: 1.0;\" x1=\"33\" x2=\"61\" y1=\"99.3398\" y2=\"99.3398\"/><text fill=\"#000000\" font-family=\"sans-serif\" font-size=\"11\" lengthAdjust=\"spacingAndGlyphs\" textLength=\"30\" x=\"61\" y=\"102.6479\">ports</text><line style=\"stroke: #383838; stroke-width: 1.0;\" x1=\"91\" x2=\"119\" y1=\"99.3398\" y2=\"99.3398\"/></a><!--MD5=[185131fc0dcab0a4505a2ebe144e961b]\n",
       "link E4 to E2--><a href=\"psysml:2d5875ca-6e79-47eb-af19-37e1c3e68f98\" target=\"_top\" title=\"psysml:2d5875ca-6e79-47eb-af19-37e1c3e68f98\" xlink:actuate=\"onRequest\" xlink:href=\"psysml:2d5875ca-6e79-47eb-af19-37e1c3e68f98\" xlink:show=\"new\" xlink:title=\"psysml:2d5875ca-6e79-47eb-af19-37e1c3e68f98\" xlink:type=\"simple\"><path d=\"M181.89,129.15 C176.14,142.14 169.74,156.6 163.67,170.29 \" fill=\"none\" id=\"E4-&gt;E2\" style=\"stroke: #383838; stroke-width: 1.0;\"/><polygon fill=\"#FFFFFF\" points=\"155.43,188.9,156.725,168.693,169.5254,174.3632,155.43,188.9\" style=\"stroke: #383838; stroke-width: 1.0;\"/><ellipse cx=\"160.8622\" cy=\"164.2914\" fill=\"#383838\" rx=\"2\" ry=\"2\" style=\"stroke: #383838; stroke-width: 1.0;\"/><ellipse cx=\"170.0053\" cy=\"168.3416\" fill=\"#383838\" rx=\"2\" ry=\"2\" style=\"stroke: #383838; stroke-width: 1.0;\"/></a><!--MD5=[2351f337d6de0f557b50152ba70847b5]\n",
       "link E6 to E2--><a href=\"psysml:6438d4a2-0b71-4be8-b1f1-dcd907944303\" target=\"_top\" title=\"psysml:6438d4a2-0b71-4be8-b1f1-dcd907944303\" xlink:actuate=\"onRequest\" xlink:href=\"psysml:6438d4a2-0b71-4be8-b1f1-dcd907944303\" xlink:show=\"new\" xlink:title=\"psysml:6438d4a2-0b71-4be8-b1f1-dcd907944303\" xlink:type=\"simple\"><path d=\"M92.72,123.15 C99.23,137.63 106.84,154.53 113.98,170.4 \" fill=\"none\" id=\"E6-&gt;E2\" style=\"stroke: #383838; stroke-width: 1.0;\"/><polygon fill=\"#FFFFFF\" points=\"122.2,188.68,108.0257,174.22,120.7951,168.4803,122.2,188.68\" style=\"stroke: #383838; stroke-width: 1.0;\"/><ellipse cx=\"107.5131\" cy=\"168.2011\" fill=\"#383838\" rx=\"2\" ry=\"2\" style=\"stroke: #383838; stroke-width: 1.0;\"/><ellipse cx=\"116.634\" cy=\"164.1014\" fill=\"#383838\" rx=\"2\" ry=\"2\" style=\"stroke: #383838; stroke-width: 1.0;\"/></a><!--MD5=[1fe6e326346e62b0abc3dc552c956968]\n",
       "@startuml\r\n",
       "skinparam linetype polyline\r\n",
       "skinparam monochrome true\r\n",
       "skinparam classbackgroundcolor white\r\n",
       "skinparam shadowing false\r\n",
       "skinparam wrapWidth 300\r\n",
       "hide circle\r\n",
       "\r\n",
       "package \"AliasTest\" as E1  [[psysml:e49964db-e340-4eba-a3a8-d7e4e465bce2 ]]  {\r\n",
       "comp def \"P1\" as E2  <<(T,blue)part def>> [[psysml:c347ad09-22d6-4423-9bac-4dbac759901f ]] {\r\n",
       "- - ports - -\r\n",
       "porig1 <b>as</b> po1 \r\n",
       "}\r\n",
       "comp usage \"p1: P1\" as E4  <<(T,blue)part>> [[psysml:d449d8a1-a677-4f10-8ecb-a1ad1c680d6c ]] {\r\n",
       "- - ports - -\r\n",
       "po1\\n//:>>P1::porig1// \r\n",
       "}\r\n",
       "comp usage \"p2: P1\" as E6  <<(T,blue)part>> [[psysml:32242b45-8d95-4b7d-97cb-8dd31296908f ]] {\r\n",
       "- - ports - -\r\n",
       "pdest <b>as</b> pd1 \r\n",
       "}\r\n",
       "E4 - -:|> E2 [[psysml:2d5875ca-6e79-47eb-af19-37e1c3e68f98 ]] \r\n",
       "E6 - -:|> E2 [[psysml:6438d4a2-0b71-4be8-b1f1-dcd907944303 ]] \r\n",
       "}\r\n",
       "@enduml\r\n",
       "\n",
       "PlantUML version 1.2020.13(Sat Jun 13 12:26:38 UTC 2020)\n",
       "(EPL source distribution)\n",
       "Java Runtime: OpenJDK Runtime Environment\n",
       "JVM: OpenJDK 64-Bit Server VM\n",
       "Default Encoding: UTF-8\n",
       "Language: en\n",
       "Country: null\n",
       "--></g></svg>"
      ]
     },
     "execution_count": 9,
     "metadata": {},
     "output_type": "execute_result"
    }
   ],
   "source": [
    "%viz --style=\"POLYLINE\" --view=\"Default\" \"AliasTest\""
   ]
  },
  {
   "cell_type": "code",
   "execution_count": 10,
   "id": "neither-preservation",
   "metadata": {
    "execution": {
     "iopub.execute_input": "2021-03-25T14:09:59.164631Z",
     "iopub.status.busy": "2021-03-25T14:09:59.164053Z",
     "iopub.status.idle": "2021-03-25T14:09:59.742379Z",
     "shell.execute_reply": "2021-03-25T14:09:59.740917Z"
    }
   },
   "outputs": [
    {
     "data": {
      "image/svg+xml": [
       "<?xml version=\"1.0\" encoding=\"UTF-8\" standalone=\"no\"?><svg xmlns=\"http://www.w3.org/2000/svg\" xmlns:xlink=\"http://www.w3.org/1999/xlink\" contentScriptType=\"application/ecmascript\" contentStyleType=\"text/css\" height=\"293px\" preserveAspectRatio=\"none\" style=\"width:285px;height:293px;\" version=\"1.1\" viewBox=\"0 0 285 293\" width=\"285px\" zoomAndPan=\"magnify\"><defs/><g><!--MD5=[fbc87193dbaf4d95561dea2c320d4a47]\n",
       "cluster E1--><a href=\"psysml:e49964db-e340-4eba-a3a8-d7e4e465bce2\" target=\"_top\" title=\"psysml:e49964db-e340-4eba-a3a8-d7e4e465bce2\" xlink:actuate=\"onRequest\" xlink:href=\"psysml:e49964db-e340-4eba-a3a8-d7e4e465bce2\" xlink:show=\"new\" xlink:title=\"psysml:e49964db-e340-4eba-a3a8-d7e4e465bce2\" xlink:type=\"simple\"><polygon fill=\"#FFFFFF\" points=\"16,6,94,6,101,28.2969,263,28.2969,263,281,16,281,16,6\" style=\"stroke: #000000; stroke-width: 1.5;\"/><line style=\"stroke: #000000; stroke-width: 1.5;\" x1=\"16\" x2=\"101\" y1=\"28.2969\" y2=\"28.2969\"/><text fill=\"#000000\" font-family=\"sans-serif\" font-size=\"14\" font-weight=\"bold\" lengthAdjust=\"spacingAndGlyphs\" textLength=\"72\" x=\"20\" y=\"20.9951\">AliasTest</text></a><!--MD5=[b4997ac47864f28c2f74865a473b2911]\n",
       "class E2--><a href=\"psysml:c347ad09-22d6-4423-9bac-4dbac759901f\" target=\"_top\" title=\"psysml:c347ad09-22d6-4423-9bac-4dbac759901f\" xlink:actuate=\"onRequest\" xlink:href=\"psysml:c347ad09-22d6-4423-9bac-4dbac759901f\" xlink:show=\"new\" xlink:title=\"psysml:c347ad09-22d6-4423-9bac-4dbac759901f\" xlink:type=\"simple\"><rect fill=\"#FFFFFF\" height=\"75.5469\" id=\"E2\" style=\"stroke: #383838; stroke-width: 1.5;\" width=\"92\" x=\"93\" y=\"189\"/><text fill=\"#000000\" font-family=\"sans-serif\" font-size=\"12\" font-style=\"italic\" lengthAdjust=\"spacingAndGlyphs\" textLength=\"64\" x=\"107\" y=\"205.1387\">«part def»</text><text fill=\"#000000\" font-family=\"sans-serif\" font-size=\"12\" lengthAdjust=\"spacingAndGlyphs\" textLength=\"16\" x=\"131\" y=\"219.1074\">P1</text><line style=\"stroke: #383838; stroke-width: 1.5;\" x1=\"94\" x2=\"184\" y1=\"226.9375\" y2=\"226.9375\"/><text fill=\"#000000\" font-family=\"sans-serif\" font-size=\"11\" lengthAdjust=\"spacingAndGlyphs\" textLength=\"36\" x=\"99\" y=\"257.9526\">porig1</text><text fill=\"#000000\" font-family=\"sans-serif\" font-size=\"11\" font-weight=\"bold\" lengthAdjust=\"spacingAndGlyphs\" textLength=\"15\" x=\"139\" y=\"257.9526\">as</text><text fill=\"#000000\" font-family=\"sans-serif\" font-size=\"11\" lengthAdjust=\"spacingAndGlyphs\" textLength=\"21\" x=\"158\" y=\"257.9526\">po1</text><line style=\"stroke: #383838; stroke-width: 1.0;\" x1=\"94\" x2=\"124\" y1=\"241.3398\" y2=\"241.3398\"/><text fill=\"#000000\" font-family=\"sans-serif\" font-size=\"11\" lengthAdjust=\"spacingAndGlyphs\" textLength=\"30\" x=\"124\" y=\"244.6479\">ports</text><line style=\"stroke: #383838; stroke-width: 1.0;\" x1=\"154\" x2=\"184\" y1=\"241.3398\" y2=\"241.3398\"/></a><!--MD5=[ebbe1d658d1005bcc118a6aa81145e00]\n",
       "class E4--><a href=\"psysml:d449d8a1-a677-4f10-8ecb-a1ad1c680d6c\" target=\"_top\" title=\"psysml:d449d8a1-a677-4f10-8ecb-a1ad1c680d6c\" xlink:actuate=\"onRequest\" xlink:href=\"psysml:d449d8a1-a677-4f10-8ecb-a1ad1c680d6c\" xlink:show=\"new\" xlink:title=\"psysml:d449d8a1-a677-4f10-8ecb-a1ad1c680d6c\" xlink:type=\"simple\"><rect fill=\"#FFFFFF\" height=\"88.3516\" id=\"E4\" rx=\"10\" ry=\"10\" style=\"stroke: #383838; stroke-width: 1.5;\" width=\"92\" x=\"155\" y=\"41\"/><text fill=\"#000000\" font-family=\"sans-serif\" font-size=\"12\" font-style=\"italic\" lengthAdjust=\"spacingAndGlyphs\" textLength=\"40\" x=\"181\" y=\"57.1387\">«part»</text><text fill=\"#000000\" font-family=\"sans-serif\" font-size=\"12\" lengthAdjust=\"spacingAndGlyphs\" textLength=\"40\" x=\"181\" y=\"71.1074\">p1: P1</text><line style=\"stroke: #383838; stroke-width: 1.5;\" x1=\"156\" x2=\"246\" y1=\"78.9375\" y2=\"78.9375\"/><text fill=\"#000000\" font-family=\"sans-serif\" font-size=\"11\" lengthAdjust=\"spacingAndGlyphs\" textLength=\"21\" x=\"161\" y=\"109.9526\">po1</text><text fill=\"#000000\" font-family=\"sans-serif\" font-size=\"11\" font-style=\"italic\" lengthAdjust=\"spacingAndGlyphs\" textLength=\"80\" x=\"161\" y=\"122.7573\">:&gt;&gt;P1::porig1</text><line style=\"stroke: #383838; stroke-width: 1.0;\" x1=\"156\" x2=\"186\" y1=\"93.3398\" y2=\"93.3398\"/><text fill=\"#000000\" font-family=\"sans-serif\" font-size=\"11\" lengthAdjust=\"spacingAndGlyphs\" textLength=\"30\" x=\"186\" y=\"96.6479\">ports</text><line style=\"stroke: #383838; stroke-width: 1.0;\" x1=\"216\" x2=\"246\" y1=\"93.3398\" y2=\"93.3398\"/></a><!--MD5=[60a26617385b1d2d0262a64233df1f8d]\n",
       "class E6--><a href=\"psysml:32242b45-8d95-4b7d-97cb-8dd31296908f\" target=\"_top\" title=\"psysml:32242b45-8d95-4b7d-97cb-8dd31296908f\" xlink:actuate=\"onRequest\" xlink:href=\"psysml:32242b45-8d95-4b7d-97cb-8dd31296908f\" xlink:show=\"new\" xlink:title=\"psysml:32242b45-8d95-4b7d-97cb-8dd31296908f\" xlink:type=\"simple\"><rect fill=\"#FFFFFF\" height=\"75.5469\" id=\"E6\" rx=\"10\" ry=\"10\" style=\"stroke: #383838; stroke-width: 1.5;\" width=\"88\" x=\"32\" y=\"47\"/><text fill=\"#000000\" font-family=\"sans-serif\" font-size=\"12\" font-style=\"italic\" lengthAdjust=\"spacingAndGlyphs\" textLength=\"40\" x=\"56\" y=\"63.1387\">«part»</text><text fill=\"#000000\" font-family=\"sans-serif\" font-size=\"12\" lengthAdjust=\"spacingAndGlyphs\" textLength=\"40\" x=\"56\" y=\"77.1074\">p2: P1</text><line style=\"stroke: #383838; stroke-width: 1.5;\" x1=\"33\" x2=\"119\" y1=\"84.9375\" y2=\"84.9375\"/><text fill=\"#000000\" font-family=\"sans-serif\" font-size=\"11\" lengthAdjust=\"spacingAndGlyphs\" textLength=\"32\" x=\"38\" y=\"115.9526\">pdest</text><text fill=\"#000000\" font-family=\"sans-serif\" font-size=\"11\" font-weight=\"bold\" lengthAdjust=\"spacingAndGlyphs\" textLength=\"15\" x=\"74\" y=\"115.9526\">as</text><text fill=\"#000000\" font-family=\"sans-serif\" font-size=\"11\" lengthAdjust=\"spacingAndGlyphs\" textLength=\"21\" x=\"93\" y=\"115.9526\">pd1</text><line style=\"stroke: #383838; stroke-width: 1.0;\" x1=\"33\" x2=\"61\" y1=\"99.3398\" y2=\"99.3398\"/><text fill=\"#000000\" font-family=\"sans-serif\" font-size=\"11\" lengthAdjust=\"spacingAndGlyphs\" textLength=\"30\" x=\"61\" y=\"102.6479\">ports</text><line style=\"stroke: #383838; stroke-width: 1.0;\" x1=\"91\" x2=\"119\" y1=\"99.3398\" y2=\"99.3398\"/></a><!--MD5=[185131fc0dcab0a4505a2ebe144e961b]\n",
       "link E4 to E2--><a href=\"psysml:2d5875ca-6e79-47eb-af19-37e1c3e68f98\" target=\"_top\" title=\"psysml:2d5875ca-6e79-47eb-af19-37e1c3e68f98\" xlink:actuate=\"onRequest\" xlink:href=\"psysml:2d5875ca-6e79-47eb-af19-37e1c3e68f98\" xlink:show=\"new\" xlink:title=\"psysml:2d5875ca-6e79-47eb-af19-37e1c3e68f98\" xlink:type=\"simple\"><path d=\"M181.89,129.15 C176.14,142.14 169.74,156.6 163.67,170.29 \" fill=\"none\" id=\"E4-&gt;E2\" style=\"stroke: #383838; stroke-width: 1.0;\"/><polygon fill=\"#FFFFFF\" points=\"155.43,188.9,156.725,168.693,169.5254,174.3632,155.43,188.9\" style=\"stroke: #383838; stroke-width: 1.0;\"/><ellipse cx=\"160.8622\" cy=\"164.2914\" fill=\"#383838\" rx=\"2\" ry=\"2\" style=\"stroke: #383838; stroke-width: 1.0;\"/><ellipse cx=\"170.0053\" cy=\"168.3416\" fill=\"#383838\" rx=\"2\" ry=\"2\" style=\"stroke: #383838; stroke-width: 1.0;\"/></a><!--MD5=[2351f337d6de0f557b50152ba70847b5]\n",
       "link E6 to E2--><a href=\"psysml:6438d4a2-0b71-4be8-b1f1-dcd907944303\" target=\"_top\" title=\"psysml:6438d4a2-0b71-4be8-b1f1-dcd907944303\" xlink:actuate=\"onRequest\" xlink:href=\"psysml:6438d4a2-0b71-4be8-b1f1-dcd907944303\" xlink:show=\"new\" xlink:title=\"psysml:6438d4a2-0b71-4be8-b1f1-dcd907944303\" xlink:type=\"simple\"><path d=\"M92.72,123.15 C99.23,137.63 106.84,154.53 113.98,170.4 \" fill=\"none\" id=\"E6-&gt;E2\" style=\"stroke: #383838; stroke-width: 1.0;\"/><polygon fill=\"#FFFFFF\" points=\"122.2,188.68,108.0257,174.22,120.7951,168.4803,122.2,188.68\" style=\"stroke: #383838; stroke-width: 1.0;\"/><ellipse cx=\"107.5131\" cy=\"168.2011\" fill=\"#383838\" rx=\"2\" ry=\"2\" style=\"stroke: #383838; stroke-width: 1.0;\"/><ellipse cx=\"116.634\" cy=\"164.1014\" fill=\"#383838\" rx=\"2\" ry=\"2\" style=\"stroke: #383838; stroke-width: 1.0;\"/></a><!--MD5=[1fe6e326346e62b0abc3dc552c956968]\n",
       "@startuml\r\n",
       "skinparam linetype polyline\r\n",
       "skinparam monochrome true\r\n",
       "skinparam classbackgroundcolor white\r\n",
       "skinparam shadowing false\r\n",
       "skinparam wrapWidth 300\r\n",
       "hide circle\r\n",
       "\r\n",
       "package \"AliasTest\" as E1  [[psysml:e49964db-e340-4eba-a3a8-d7e4e465bce2 ]]  {\r\n",
       "comp def \"P1\" as E2  <<(T,blue)part def>> [[psysml:c347ad09-22d6-4423-9bac-4dbac759901f ]] {\r\n",
       "- - ports - -\r\n",
       "porig1 <b>as</b> po1 \r\n",
       "}\r\n",
       "comp usage \"p1: P1\" as E4  <<(T,blue)part>> [[psysml:d449d8a1-a677-4f10-8ecb-a1ad1c680d6c ]] {\r\n",
       "- - ports - -\r\n",
       "po1\\n//:>>P1::porig1// \r\n",
       "}\r\n",
       "comp usage \"p2: P1\" as E6  <<(T,blue)part>> [[psysml:32242b45-8d95-4b7d-97cb-8dd31296908f ]] {\r\n",
       "- - ports - -\r\n",
       "pdest <b>as</b> pd1 \r\n",
       "}\r\n",
       "E4 - -:|> E2 [[psysml:2d5875ca-6e79-47eb-af19-37e1c3e68f98 ]] \r\n",
       "E6 - -:|> E2 [[psysml:6438d4a2-0b71-4be8-b1f1-dcd907944303 ]] \r\n",
       "}\r\n",
       "@enduml\r\n",
       "\n",
       "PlantUML version 1.2020.13(Sat Jun 13 12:26:38 UTC 2020)\n",
       "(EPL source distribution)\n",
       "Java Runtime: OpenJDK Runtime Environment\n",
       "JVM: OpenJDK 64-Bit Server VM\n",
       "Default Encoding: UTF-8\n",
       "Language: en\n",
       "Country: null\n",
       "--></g></svg>"
      ]
     },
     "execution_count": 10,
     "metadata": {},
     "output_type": "execute_result"
    }
   ],
   "source": [
    "%viz --style=\"POLYLINE\" --view=\"Tree\" \"AliasTest\""
   ]
  },
  {
   "cell_type": "code",
   "execution_count": 11,
   "id": "earlier-prediction",
   "metadata": {
    "execution": {
     "iopub.execute_input": "2021-03-25T14:09:59.794661Z",
     "iopub.status.busy": "2021-03-25T14:09:59.793909Z",
     "iopub.status.idle": "2021-03-25T14:09:59.804418Z",
     "shell.execute_reply": "2021-03-25T14:09:59.804062Z"
    }
   },
   "outputs": [
    {
     "data": {
      "image/svg+xml": [
       "<?xml version=\"1.0\" encoding=\"UTF-8\" standalone=\"no\"?><svg xmlns=\"http://www.w3.org/2000/svg\" xmlns:xlink=\"http://www.w3.org/1999/xlink\" contentScriptType=\"application/ecmascript\" contentStyleType=\"text/css\" height=\"12px\" preserveAspectRatio=\"none\" style=\"width:12px;height:12px;\" version=\"1.1\" viewBox=\"0 0 12 12\" width=\"12px\" zoomAndPan=\"magnify\"><defs/><g><!--MD5=[896ac0e7a515d8dd7765a661cb4ee08b]\n",
       "@startuml\r\n",
       "skinparam linetype polyline\r\n",
       "skinparam monochrome true\r\n",
       "skinparam classbackgroundcolor white\r\n",
       "skinparam shadowing false\r\n",
       "skinparam wrapWidth 300\r\n",
       "hide circle\r\n",
       "\r\n",
       "@enduml\r\n",
       "\n",
       "PlantUML version 1.2020.13(Sat Jun 13 12:26:38 UTC 2020)\n",
       "(EPL source distribution)\n",
       "Java Runtime: OpenJDK Runtime Environment\n",
       "JVM: OpenJDK 64-Bit Server VM\n",
       "Default Encoding: UTF-8\n",
       "Language: en\n",
       "Country: null\n",
       "--></g></svg>"
      ]
     },
     "execution_count": 11,
     "metadata": {},
     "output_type": "execute_result"
    }
   ],
   "source": [
    "%viz --style=\"POLYLINE\" --view=\"State\" \"AliasTest\""
   ]
  },
  {
   "cell_type": "code",
   "execution_count": 12,
   "id": "together-career",
   "metadata": {
    "execution": {
     "iopub.execute_input": "2021-03-25T14:09:59.858268Z",
     "iopub.status.busy": "2021-03-25T14:09:59.857600Z",
     "iopub.status.idle": "2021-03-25T14:09:59.965090Z",
     "shell.execute_reply": "2021-03-25T14:09:59.963929Z"
    }
   },
   "outputs": [
    {
     "data": {
      "image/svg+xml": [
       "<?xml version=\"1.0\" encoding=\"UTF-8\" standalone=\"no\"?><svg xmlns=\"http://www.w3.org/2000/svg\" xmlns:xlink=\"http://www.w3.org/1999/xlink\" contentScriptType=\"application/ecmascript\" contentStyleType=\"text/css\" height=\"207px\" preserveAspectRatio=\"none\" style=\"width:406px;height:207px;\" version=\"1.1\" viewBox=\"0 0 406 207\" width=\"406px\" zoomAndPan=\"magnify\"><defs/><g><!--MD5=[fbc87193dbaf4d95561dea2c320d4a47]\n",
       "cluster E1--><a href=\"psysml:e49964db-e340-4eba-a3a8-d7e4e465bce2\" target=\"_top\" title=\"psysml:e49964db-e340-4eba-a3a8-d7e4e465bce2\" xlink:actuate=\"onRequest\" xlink:href=\"psysml:e49964db-e340-4eba-a3a8-d7e4e465bce2\" xlink:show=\"new\" xlink:title=\"psysml:e49964db-e340-4eba-a3a8-d7e4e465bce2\" xlink:type=\"simple\"><polygon fill=\"#FFFFFF\" points=\"16,6,94,6,101,28.2969,384,28.2969,384,195,16,195,16,6\" style=\"stroke: #000000; stroke-width: 1.5;\"/><line style=\"stroke: #000000; stroke-width: 1.5;\" x1=\"16\" x2=\"101\" y1=\"28.2969\" y2=\"28.2969\"/><text fill=\"#000000\" font-family=\"sans-serif\" font-size=\"14\" font-weight=\"bold\" lengthAdjust=\"spacingAndGlyphs\" textLength=\"72\" x=\"20\" y=\"20.9951\">AliasTest</text></a><!--MD5=[e4f7fae6ed58524ba242bb0b0d3be6b7]\n",
       "cluster E2--><a href=\"psysml:c347ad09-22d6-4423-9bac-4dbac759901f\" target=\"_top\" title=\"psysml:c347ad09-22d6-4423-9bac-4dbac759901f\" xlink:actuate=\"onRequest\" xlink:href=\"psysml:c347ad09-22d6-4423-9bac-4dbac759901f\" xlink:show=\"new\" xlink:title=\"psysml:c347ad09-22d6-4423-9bac-4dbac759901f\" xlink:type=\"simple\"><rect fill=\"#FFFFFF\" height=\"73\" id=\"E2\" style=\"stroke: #383838; stroke-width: 1.5;\" width=\"83\" x=\"244\" y=\"55\"/><rect fill=\"#F8F8F8\" height=\"37.9375\" style=\"stroke: #383838; stroke-width: 1.5;\" width=\"83\" x=\"244\" y=\"55\"/><text fill=\"#000000\" font-family=\"sans-serif\" font-size=\"12\" font-style=\"italic\" lengthAdjust=\"spacingAndGlyphs\" textLength=\"64\" x=\"253.5\" y=\"71.1387\">«part def»</text><text fill=\"#000000\" font-family=\"sans-serif\" font-size=\"12\" lengthAdjust=\"spacingAndGlyphs\" textLength=\"16\" x=\"277.5\" y=\"85.1074\">P1</text></a><!--MD5=[de5ec2e2e8f62f467e546659f5068c88]\n",
       "cluster E5--><a href=\"psysml:d449d8a1-a677-4f10-8ecb-a1ad1c680d6c\" target=\"_top\" title=\"psysml:d449d8a1-a677-4f10-8ecb-a1ad1c680d6c\" xlink:actuate=\"onRequest\" xlink:href=\"psysml:d449d8a1-a677-4f10-8ecb-a1ad1c680d6c\" xlink:show=\"new\" xlink:title=\"psysml:d449d8a1-a677-4f10-8ecb-a1ad1c680d6c\" xlink:type=\"simple\"><rect fill=\"#FFFFFF\" height=\"84.5\" id=\"E5\" rx=\"10\" ry=\"10\" style=\"stroke: #383838; stroke-width: 1.5;\" width=\"101\" x=\"139\" y=\"94.5\"/><rect fill=\"#F8F8F8\" height=\"23.9688\" rx=\"10\" ry=\"10\" style=\"stroke: #F8F8F8; stroke-width: 1.5;\" width=\"101\" x=\"139\" y=\"94.5\"/><rect fill=\"#F8F8F8\" height=\"10\" style=\"stroke: #F8F8F8; stroke-width: 1.5;\" width=\"101\" x=\"139\" y=\"108.4688\"/><rect fill=\"none\" height=\"84.5\" id=\"E5\" rx=\"10\" ry=\"10\" style=\"stroke: #383838; stroke-width: 1.5;\" width=\"101\" x=\"139\" y=\"94.5\"/><text fill=\"#000000\" font-family=\"sans-serif\" font-size=\"12\" lengthAdjust=\"spacingAndGlyphs\" textLength=\"40\" x=\"169.5\" y=\"110.6387\">p1: P1</text><line style=\"stroke: #383838; stroke-width: 1.0;\" x1=\"139\" x2=\"240\" y1=\"118.4688\" y2=\"118.4688\"/></a><!--MD5=[168fadf3d0c3fd93dd5d6da1b1d7ab76]\n",
       "cluster E7--><a href=\"psysml:32242b45-8d95-4b7d-97cb-8dd31296908f\" target=\"_top\" title=\"psysml:32242b45-8d95-4b7d-97cb-8dd31296908f\" xlink:actuate=\"onRequest\" xlink:href=\"psysml:32242b45-8d95-4b7d-97cb-8dd31296908f\" xlink:show=\"new\" xlink:title=\"psysml:32242b45-8d95-4b7d-97cb-8dd31296908f\" xlink:type=\"simple\"><rect fill=\"#FFFFFF\" height=\"65\" id=\"E7\" rx=\"10\" ry=\"10\" style=\"stroke: #383838; stroke-width: 1.5;\" width=\"83\" x=\"53\" y=\"55\"/><rect fill=\"#F8F8F8\" height=\"23.9688\" rx=\"10\" ry=\"10\" style=\"stroke: #F8F8F8; stroke-width: 1.5;\" width=\"83\" x=\"53\" y=\"55\"/><rect fill=\"#F8F8F8\" height=\"10\" style=\"stroke: #F8F8F8; stroke-width: 1.5;\" width=\"83\" x=\"53\" y=\"68.9688\"/><rect fill=\"none\" height=\"65\" id=\"E7\" rx=\"10\" ry=\"10\" style=\"stroke: #383838; stroke-width: 1.5;\" width=\"83\" x=\"53\" y=\"55\"/><text fill=\"#000000\" font-family=\"sans-serif\" font-size=\"12\" lengthAdjust=\"spacingAndGlyphs\" textLength=\"40\" x=\"74.5\" y=\"71.1387\">p2: P1</text><line style=\"stroke: #383838; stroke-width: 1.0;\" x1=\"53\" x2=\"136\" y1=\"78.9688\" y2=\"78.9688\"/></a><text fill=\"#000000\" font-family=\"sans-serif\" font-size=\"14\" lengthAdjust=\"spacingAndGlyphs\" textLength=\"44\" x=\"240\" y=\"33.6982\">porig1</text><rect fill=\"#383838\" height=\"12\" style=\"stroke: #F8F8F8; stroke-width: 1.5;\" width=\"12\" x=\"256\" y=\"49\"/><text fill=\"#000000\" font-family=\"sans-serif\" font-size=\"14\" lengthAdjust=\"spacingAndGlyphs\" textLength=\"44\" x=\"287\" y=\"33.6982\">porig1</text><rect fill=\"#383838\" height=\"12\" style=\"stroke: #F8F8F8; stroke-width: 1.5;\" width=\"12\" x=\"303\" y=\"49\"/><text fill=\"#000000\" font-family=\"sans-serif\" font-size=\"14\" lengthAdjust=\"spacingAndGlyphs\" textLength=\"27\" x=\"143.5\" y=\"73.1982\">po1</text><rect fill=\"#383838\" height=\"12\" style=\"stroke: #F8F8F8; stroke-width: 1.5;\" width=\"12\" x=\"151\" y=\"88.5\"/><text fill=\"#000000\" font-family=\"sans-serif\" font-size=\"14\" lengthAdjust=\"spacingAndGlyphs\" textLength=\"40\" x=\"51\" y=\"33.6982\">pdest</text><rect fill=\"#383838\" height=\"12\" style=\"stroke: #F8F8F8; stroke-width: 1.5;\" width=\"12\" x=\"65\" y=\"49\"/><text fill=\"#000000\" font-family=\"sans-serif\" font-size=\"14\" lengthAdjust=\"spacingAndGlyphs\" textLength=\"40\" x=\"98\" y=\"33.6982\">pdest</text><rect fill=\"#383838\" height=\"12\" style=\"stroke: #F8F8F8; stroke-width: 1.5;\" width=\"12\" x=\"112\" y=\"49\"/><!--MD5=[60ac2c0cde89d4308155b0484e57a8ec]\n",
       "link E9 to E6--><a href=\"psysml:542ee912-9568-47bf-89cf-5ffa6da25451\" target=\"_top\" title=\"psysml:542ee912-9568-47bf-89cf-5ffa6da25451\" xlink:actuate=\"onRequest\" xlink:href=\"psysml:542ee912-9568-47bf-89cf-5ffa6da25451\" xlink:show=\"new\" xlink:title=\"psysml:542ee912-9568-47bf-89cf-5ffa6da25451\" xlink:type=\"simple\"><path d=\"M111.75,57.02 C105.4,60.08 115,69 115,69 C115,69 134.48,88.09 150.75,92.57 \" fill=\"none\" id=\"E9-E6\" style=\"stroke: #383838; stroke-width: 3.0;\"/></a><!--MD5=[60ac2c0cde89d4308155b0484e57a8ec]\n",
       "link E9 to E6--><a href=\"psysml:574c6fbc-01c2-4e16-ae54-13c104835878\" target=\"_top\" title=\"psysml:574c6fbc-01c2-4e16-ae54-13c104835878\" xlink:actuate=\"onRequest\" xlink:href=\"psysml:574c6fbc-01c2-4e16-ae54-13c104835878\" xlink:show=\"new\" xlink:title=\"psysml:574c6fbc-01c2-4e16-ae54-13c104835878\" xlink:type=\"simple\"><path d=\"M124.15,56.49 C139.09,58.87 150,69 150,69 C150,69 166.5,85.17 163.04,91.24 \" fill=\"none\" id=\"E9-E6-1\" style=\"stroke: #383838; stroke-width: 3.0;\"/></a><!--MD5=[99b7273d8fb817140c850afabaeac3a4]\n",
       "@startuml\r\n",
       "skinparam ranksep 10\r\n",
       "skinparam rectangle {\r\n",
       " backgroundColor<<block>> LightGreen\r\n",
       "}\r\n",
       "skinparam linetype polyline\r\n",
       "skinparam monochrome true\r\n",
       "skinparam classbackgroundcolor white\r\n",
       "skinparam shadowing false\r\n",
       "skinparam wrapWidth 300\r\n",
       "hide circle\r\n",
       "\r\n",
       "package \"AliasTest\" as E1  [[psysml:e49964db-e340-4eba-a3a8-d7e4e465bce2 ]]  {\r\n",
       "rec def \"P1\" as E2  <<(T,blue)part def>> [[psysml:c347ad09-22d6-4423-9bac-4dbac759901f ]] {\r\n",
       "portin \"porig1\" as E3  <<(T,blue)port>> [[psysml:0250d93f-14e1-4692-9053-ebbfda808262 ]] \r\n",
       "portin \"porig1\" as E4  <<(T,blue)port>> [[psysml:0250d93f-14e1-4692-9053-ebbfda808262 ]] \r\n",
       "}\r\n",
       "rec usage \"p1: P1\" as E5  [[psysml:d449d8a1-a677-4f10-8ecb-a1ad1c680d6c ]] {\r\n",
       "portin \"po1\" as E6  <<(T,blue)port>> [[psysml:29809450-6fae-45f0-8103-0520fac6504b ]] \r\n",
       "}\r\n",
       "rec usage \"p2: P1\" as E7  [[psysml:32242b45-8d95-4b7d-97cb-8dd31296908f ]] {\r\n",
       "portin \"pdest\" as E8  <<(T,blue)port>> [[psysml:232a2b18-4f4e-4d95-914a-9e8054ac4fe4 ]] \r\n",
       "portin \"pdest\" as E9  <<(T,blue)port>> [[psysml:232a2b18-4f4e-4d95-914a-9e8054ac4fe4 ]] \r\n",
       "}\r\n",
       "E9 -[thickness=3]- E6 [[psysml:542ee912-9568-47bf-89cf-5ffa6da25451 ]] \r\n",
       "E9 -[thickness=3]- E6 [[psysml:574c6fbc-01c2-4e16-ae54-13c104835878 ]] \r\n",
       "}\r\n",
       "@enduml\r\n",
       "\n",
       "PlantUML version 1.2020.13(Sat Jun 13 12:26:38 UTC 2020)\n",
       "(EPL source distribution)\n",
       "Java Runtime: OpenJDK Runtime Environment\n",
       "JVM: OpenJDK 64-Bit Server VM\n",
       "Default Encoding: UTF-8\n",
       "Language: en\n",
       "Country: null\n",
       "--></g></svg>"
      ]
     },
     "execution_count": 12,
     "metadata": {},
     "output_type": "execute_result"
    }
   ],
   "source": [
    "%viz --style=\"POLYLINE\" --view=\"Interconnection\" \"AliasTest\""
   ]
  },
  {
   "cell_type": "code",
   "execution_count": 13,
   "id": "instant-reserve",
   "metadata": {
    "execution": {
     "iopub.execute_input": "2021-03-25T14:10:00.018145Z",
     "iopub.status.busy": "2021-03-25T14:10:00.017432Z",
     "iopub.status.idle": "2021-03-25T14:10:00.030239Z",
     "shell.execute_reply": "2021-03-25T14:10:00.029380Z"
    }
   },
   "outputs": [
    {
     "data": {
      "image/svg+xml": [
       "<?xml version=\"1.0\" encoding=\"UTF-8\" standalone=\"no\"?><svg xmlns=\"http://www.w3.org/2000/svg\" xmlns:xlink=\"http://www.w3.org/1999/xlink\" contentScriptType=\"application/ecmascript\" contentStyleType=\"text/css\" height=\"12px\" preserveAspectRatio=\"none\" style=\"width:12px;height:12px;\" version=\"1.1\" viewBox=\"0 0 12 12\" width=\"12px\" zoomAndPan=\"magnify\"><defs/><g><!--MD5=[97bbf32f66ccd50cbc40d92ea8f5a65e]\n",
       "@startuml\r\n",
       "skinparam ranksep 8\r\n",
       "skinparam linetype polyline\r\n",
       "skinparam monochrome true\r\n",
       "skinparam classbackgroundcolor white\r\n",
       "skinparam shadowing false\r\n",
       "skinparam wrapWidth 300\r\n",
       "hide circle\r\n",
       "\r\n",
       "@enduml\r\n",
       "\n",
       "PlantUML version 1.2020.13(Sat Jun 13 12:26:38 UTC 2020)\n",
       "(EPL source distribution)\n",
       "Java Runtime: OpenJDK Runtime Environment\n",
       "JVM: OpenJDK 64-Bit Server VM\n",
       "Default Encoding: UTF-8\n",
       "Language: en\n",
       "Country: null\n",
       "--></g></svg>"
      ]
     },
     "execution_count": 13,
     "metadata": {},
     "output_type": "execute_result"
    }
   ],
   "source": [
    "%viz --style=\"POLYLINE\" --view=\"Action\" \"AliasTest\""
   ]
  },
  {
   "cell_type": "code",
   "execution_count": 14,
   "id": "comfortable-delaware",
   "metadata": {
    "execution": {
     "iopub.execute_input": "2021-03-25T14:10:00.083967Z",
     "iopub.status.busy": "2021-03-25T14:10:00.083208Z",
     "iopub.status.idle": "2021-03-25T14:10:00.655497Z",
     "shell.execute_reply": "2021-03-25T14:10:00.654033Z"
    }
   },
   "outputs": [
    {
     "data": {
      "image/svg+xml": [
       "<?xml version=\"1.0\" encoding=\"UTF-8\" standalone=\"no\"?><svg xmlns=\"http://www.w3.org/2000/svg\" xmlns:xlink=\"http://www.w3.org/1999/xlink\" contentScriptType=\"application/ecmascript\" contentStyleType=\"text/css\" height=\"293px\" preserveAspectRatio=\"none\" style=\"width:285px;height:293px;\" version=\"1.1\" viewBox=\"0 0 285 293\" width=\"285px\" zoomAndPan=\"magnify\"><defs/><g><!--MD5=[fbc87193dbaf4d95561dea2c320d4a47]\n",
       "cluster E1--><a href=\"psysml:e49964db-e340-4eba-a3a8-d7e4e465bce2\" target=\"_top\" title=\"psysml:e49964db-e340-4eba-a3a8-d7e4e465bce2\" xlink:actuate=\"onRequest\" xlink:href=\"psysml:e49964db-e340-4eba-a3a8-d7e4e465bce2\" xlink:show=\"new\" xlink:title=\"psysml:e49964db-e340-4eba-a3a8-d7e4e465bce2\" xlink:type=\"simple\"><polygon fill=\"#FFFFFF\" points=\"16,6,94,6,101,28.2969,263,28.2969,263,281,16,281,16,6\" style=\"stroke: #000000; stroke-width: 1.5;\"/><line style=\"stroke: #000000; stroke-width: 1.5;\" x1=\"16\" x2=\"101\" y1=\"28.2969\" y2=\"28.2969\"/><text fill=\"#000000\" font-family=\"sans-serif\" font-size=\"14\" font-weight=\"bold\" lengthAdjust=\"spacingAndGlyphs\" textLength=\"72\" x=\"20\" y=\"20.9951\">AliasTest</text></a><!--MD5=[b4997ac47864f28c2f74865a473b2911]\n",
       "class E2--><a href=\"psysml:c347ad09-22d6-4423-9bac-4dbac759901f\" target=\"_top\" title=\"psysml:c347ad09-22d6-4423-9bac-4dbac759901f\" xlink:actuate=\"onRequest\" xlink:href=\"psysml:c347ad09-22d6-4423-9bac-4dbac759901f\" xlink:show=\"new\" xlink:title=\"psysml:c347ad09-22d6-4423-9bac-4dbac759901f\" xlink:type=\"simple\"><rect fill=\"#FFFFFF\" height=\"75.5469\" id=\"E2\" style=\"stroke: #383838; stroke-width: 1.5;\" width=\"92\" x=\"93\" y=\"189\"/><text fill=\"#000000\" font-family=\"sans-serif\" font-size=\"12\" font-style=\"italic\" lengthAdjust=\"spacingAndGlyphs\" textLength=\"64\" x=\"107\" y=\"205.1387\">«part def»</text><text fill=\"#000000\" font-family=\"sans-serif\" font-size=\"12\" lengthAdjust=\"spacingAndGlyphs\" textLength=\"16\" x=\"131\" y=\"219.1074\">P1</text><line style=\"stroke: #383838; stroke-width: 1.5;\" x1=\"94\" x2=\"184\" y1=\"226.9375\" y2=\"226.9375\"/><text fill=\"#000000\" font-family=\"sans-serif\" font-size=\"11\" lengthAdjust=\"spacingAndGlyphs\" textLength=\"36\" x=\"99\" y=\"257.9526\">porig1</text><text fill=\"#000000\" font-family=\"sans-serif\" font-size=\"11\" font-weight=\"bold\" lengthAdjust=\"spacingAndGlyphs\" textLength=\"15\" x=\"139\" y=\"257.9526\">as</text><text fill=\"#000000\" font-family=\"sans-serif\" font-size=\"11\" lengthAdjust=\"spacingAndGlyphs\" textLength=\"21\" x=\"158\" y=\"257.9526\">po1</text><line style=\"stroke: #383838; stroke-width: 1.0;\" x1=\"94\" x2=\"124\" y1=\"241.3398\" y2=\"241.3398\"/><text fill=\"#000000\" font-family=\"sans-serif\" font-size=\"11\" lengthAdjust=\"spacingAndGlyphs\" textLength=\"30\" x=\"124\" y=\"244.6479\">ports</text><line style=\"stroke: #383838; stroke-width: 1.0;\" x1=\"154\" x2=\"184\" y1=\"241.3398\" y2=\"241.3398\"/></a><!--MD5=[ebbe1d658d1005bcc118a6aa81145e00]\n",
       "class E4--><a href=\"psysml:d449d8a1-a677-4f10-8ecb-a1ad1c680d6c\" target=\"_top\" title=\"psysml:d449d8a1-a677-4f10-8ecb-a1ad1c680d6c\" xlink:actuate=\"onRequest\" xlink:href=\"psysml:d449d8a1-a677-4f10-8ecb-a1ad1c680d6c\" xlink:show=\"new\" xlink:title=\"psysml:d449d8a1-a677-4f10-8ecb-a1ad1c680d6c\" xlink:type=\"simple\"><rect fill=\"#FFFFFF\" height=\"88.3516\" id=\"E4\" rx=\"10\" ry=\"10\" style=\"stroke: #383838; stroke-width: 1.5;\" width=\"92\" x=\"155\" y=\"41\"/><text fill=\"#000000\" font-family=\"sans-serif\" font-size=\"12\" font-style=\"italic\" lengthAdjust=\"spacingAndGlyphs\" textLength=\"40\" x=\"181\" y=\"57.1387\">«part»</text><text fill=\"#000000\" font-family=\"sans-serif\" font-size=\"12\" lengthAdjust=\"spacingAndGlyphs\" textLength=\"40\" x=\"181\" y=\"71.1074\">p1: P1</text><line style=\"stroke: #383838; stroke-width: 1.5;\" x1=\"156\" x2=\"246\" y1=\"78.9375\" y2=\"78.9375\"/><text fill=\"#000000\" font-family=\"sans-serif\" font-size=\"11\" lengthAdjust=\"spacingAndGlyphs\" textLength=\"21\" x=\"161\" y=\"109.9526\">po1</text><text fill=\"#000000\" font-family=\"sans-serif\" font-size=\"11\" font-style=\"italic\" lengthAdjust=\"spacingAndGlyphs\" textLength=\"80\" x=\"161\" y=\"122.7573\">:&gt;&gt;P1::porig1</text><line style=\"stroke: #383838; stroke-width: 1.0;\" x1=\"156\" x2=\"186\" y1=\"93.3398\" y2=\"93.3398\"/><text fill=\"#000000\" font-family=\"sans-serif\" font-size=\"11\" lengthAdjust=\"spacingAndGlyphs\" textLength=\"30\" x=\"186\" y=\"96.6479\">ports</text><line style=\"stroke: #383838; stroke-width: 1.0;\" x1=\"216\" x2=\"246\" y1=\"93.3398\" y2=\"93.3398\"/></a><!--MD5=[60a26617385b1d2d0262a64233df1f8d]\n",
       "class E6--><a href=\"psysml:32242b45-8d95-4b7d-97cb-8dd31296908f\" target=\"_top\" title=\"psysml:32242b45-8d95-4b7d-97cb-8dd31296908f\" xlink:actuate=\"onRequest\" xlink:href=\"psysml:32242b45-8d95-4b7d-97cb-8dd31296908f\" xlink:show=\"new\" xlink:title=\"psysml:32242b45-8d95-4b7d-97cb-8dd31296908f\" xlink:type=\"simple\"><rect fill=\"#FFFFFF\" height=\"75.5469\" id=\"E6\" rx=\"10\" ry=\"10\" style=\"stroke: #383838; stroke-width: 1.5;\" width=\"88\" x=\"32\" y=\"47\"/><text fill=\"#000000\" font-family=\"sans-serif\" font-size=\"12\" font-style=\"italic\" lengthAdjust=\"spacingAndGlyphs\" textLength=\"40\" x=\"56\" y=\"63.1387\">«part»</text><text fill=\"#000000\" font-family=\"sans-serif\" font-size=\"12\" lengthAdjust=\"spacingAndGlyphs\" textLength=\"40\" x=\"56\" y=\"77.1074\">p2: P1</text><line style=\"stroke: #383838; stroke-width: 1.5;\" x1=\"33\" x2=\"119\" y1=\"84.9375\" y2=\"84.9375\"/><text fill=\"#000000\" font-family=\"sans-serif\" font-size=\"11\" lengthAdjust=\"spacingAndGlyphs\" textLength=\"32\" x=\"38\" y=\"115.9526\">pdest</text><text fill=\"#000000\" font-family=\"sans-serif\" font-size=\"11\" font-weight=\"bold\" lengthAdjust=\"spacingAndGlyphs\" textLength=\"15\" x=\"74\" y=\"115.9526\">as</text><text fill=\"#000000\" font-family=\"sans-serif\" font-size=\"11\" lengthAdjust=\"spacingAndGlyphs\" textLength=\"21\" x=\"93\" y=\"115.9526\">pd1</text><line style=\"stroke: #383838; stroke-width: 1.0;\" x1=\"33\" x2=\"61\" y1=\"99.3398\" y2=\"99.3398\"/><text fill=\"#000000\" font-family=\"sans-serif\" font-size=\"11\" lengthAdjust=\"spacingAndGlyphs\" textLength=\"30\" x=\"61\" y=\"102.6479\">ports</text><line style=\"stroke: #383838; stroke-width: 1.0;\" x1=\"91\" x2=\"119\" y1=\"99.3398\" y2=\"99.3398\"/></a><!--MD5=[185131fc0dcab0a4505a2ebe144e961b]\n",
       "link E4 to E2--><a href=\"psysml:2d5875ca-6e79-47eb-af19-37e1c3e68f98\" target=\"_top\" title=\"psysml:2d5875ca-6e79-47eb-af19-37e1c3e68f98\" xlink:actuate=\"onRequest\" xlink:href=\"psysml:2d5875ca-6e79-47eb-af19-37e1c3e68f98\" xlink:show=\"new\" xlink:title=\"psysml:2d5875ca-6e79-47eb-af19-37e1c3e68f98\" xlink:type=\"simple\"><path d=\"M181.89,129.15 C176.14,142.14 169.74,156.6 163.67,170.29 \" fill=\"none\" id=\"E4-&gt;E2\" style=\"stroke: #383838; stroke-width: 1.0;\"/><polygon fill=\"#FFFFFF\" points=\"155.43,188.9,156.725,168.693,169.5254,174.3632,155.43,188.9\" style=\"stroke: #383838; stroke-width: 1.0;\"/><ellipse cx=\"160.8622\" cy=\"164.2914\" fill=\"#383838\" rx=\"2\" ry=\"2\" style=\"stroke: #383838; stroke-width: 1.0;\"/><ellipse cx=\"170.0053\" cy=\"168.3416\" fill=\"#383838\" rx=\"2\" ry=\"2\" style=\"stroke: #383838; stroke-width: 1.0;\"/></a><!--MD5=[2351f337d6de0f557b50152ba70847b5]\n",
       "link E6 to E2--><a href=\"psysml:6438d4a2-0b71-4be8-b1f1-dcd907944303\" target=\"_top\" title=\"psysml:6438d4a2-0b71-4be8-b1f1-dcd907944303\" xlink:actuate=\"onRequest\" xlink:href=\"psysml:6438d4a2-0b71-4be8-b1f1-dcd907944303\" xlink:show=\"new\" xlink:title=\"psysml:6438d4a2-0b71-4be8-b1f1-dcd907944303\" xlink:type=\"simple\"><path d=\"M92.72,123.15 C99.23,137.63 106.84,154.53 113.98,170.4 \" fill=\"none\" id=\"E6-&gt;E2\" style=\"stroke: #383838; stroke-width: 1.0;\"/><polygon fill=\"#FFFFFF\" points=\"122.2,188.68,108.0257,174.22,120.7951,168.4803,122.2,188.68\" style=\"stroke: #383838; stroke-width: 1.0;\"/><ellipse cx=\"107.5131\" cy=\"168.2011\" fill=\"#383838\" rx=\"2\" ry=\"2\" style=\"stroke: #383838; stroke-width: 1.0;\"/><ellipse cx=\"116.634\" cy=\"164.1014\" fill=\"#383838\" rx=\"2\" ry=\"2\" style=\"stroke: #383838; stroke-width: 1.0;\"/></a><!--MD5=[1fe6e326346e62b0abc3dc552c956968]\n",
       "@startuml\r\n",
       "skinparam linetype polyline\r\n",
       "skinparam monochrome true\r\n",
       "skinparam classbackgroundcolor white\r\n",
       "skinparam shadowing false\r\n",
       "skinparam wrapWidth 300\r\n",
       "hide circle\r\n",
       "\r\n",
       "package \"AliasTest\" as E1  [[psysml:e49964db-e340-4eba-a3a8-d7e4e465bce2 ]]  {\r\n",
       "comp def \"P1\" as E2  <<(T,blue)part def>> [[psysml:c347ad09-22d6-4423-9bac-4dbac759901f ]] {\r\n",
       "- - ports - -\r\n",
       "porig1 <b>as</b> po1 \r\n",
       "}\r\n",
       "comp usage \"p1: P1\" as E4  <<(T,blue)part>> [[psysml:d449d8a1-a677-4f10-8ecb-a1ad1c680d6c ]] {\r\n",
       "- - ports - -\r\n",
       "po1\\n//:>>P1::porig1// \r\n",
       "}\r\n",
       "comp usage \"p2: P1\" as E6  <<(T,blue)part>> [[psysml:32242b45-8d95-4b7d-97cb-8dd31296908f ]] {\r\n",
       "- - ports - -\r\n",
       "pdest <b>as</b> pd1 \r\n",
       "}\r\n",
       "E4 - -:|> E2 [[psysml:2d5875ca-6e79-47eb-af19-37e1c3e68f98 ]] \r\n",
       "E6 - -:|> E2 [[psysml:6438d4a2-0b71-4be8-b1f1-dcd907944303 ]] \r\n",
       "}\r\n",
       "@enduml\r\n",
       "\n",
       "PlantUML version 1.2020.13(Sat Jun 13 12:26:38 UTC 2020)\n",
       "(EPL source distribution)\n",
       "Java Runtime: OpenJDK Runtime Environment\n",
       "JVM: OpenJDK 64-Bit Server VM\n",
       "Default Encoding: UTF-8\n",
       "Language: en\n",
       "Country: null\n",
       "--></g></svg>"
      ]
     },
     "execution_count": 14,
     "metadata": {},
     "output_type": "execute_result"
    }
   ],
   "source": [
    "%viz --style=\"POLYLINE\" --view=\"Sequence\" \"AliasTest\""
   ]
  },
  {
   "cell_type": "code",
   "execution_count": 15,
   "id": "numerous-tongue",
   "metadata": {
    "execution": {
     "iopub.execute_input": "2021-03-25T14:10:00.707835Z",
     "iopub.status.busy": "2021-03-25T14:10:00.706789Z",
     "iopub.status.idle": "2021-03-25T14:10:01.274186Z",
     "shell.execute_reply": "2021-03-25T14:10:01.272748Z"
    }
   },
   "outputs": [
    {
     "data": {
      "image/svg+xml": [
       "<?xml version=\"1.0\" encoding=\"UTF-8\" standalone=\"no\"?><svg xmlns=\"http://www.w3.org/2000/svg\" xmlns:xlink=\"http://www.w3.org/1999/xlink\" contentScriptType=\"application/ecmascript\" contentStyleType=\"text/css\" height=\"293px\" preserveAspectRatio=\"none\" style=\"width:285px;height:293px;\" version=\"1.1\" viewBox=\"0 0 285 293\" width=\"285px\" zoomAndPan=\"magnify\"><defs/><g><!--MD5=[fbc87193dbaf4d95561dea2c320d4a47]\n",
       "cluster E1--><a href=\"psysml:e49964db-e340-4eba-a3a8-d7e4e465bce2\" target=\"_top\" title=\"psysml:e49964db-e340-4eba-a3a8-d7e4e465bce2\" xlink:actuate=\"onRequest\" xlink:href=\"psysml:e49964db-e340-4eba-a3a8-d7e4e465bce2\" xlink:show=\"new\" xlink:title=\"psysml:e49964db-e340-4eba-a3a8-d7e4e465bce2\" xlink:type=\"simple\"><polygon fill=\"#FFFFFF\" points=\"16,6,94,6,101,28.2969,263,28.2969,263,281,16,281,16,6\" style=\"stroke: #000000; stroke-width: 1.5;\"/><line style=\"stroke: #000000; stroke-width: 1.5;\" x1=\"16\" x2=\"101\" y1=\"28.2969\" y2=\"28.2969\"/><text fill=\"#000000\" font-family=\"sans-serif\" font-size=\"14\" font-weight=\"bold\" lengthAdjust=\"spacingAndGlyphs\" textLength=\"72\" x=\"20\" y=\"20.9951\">AliasTest</text></a><!--MD5=[b4997ac47864f28c2f74865a473b2911]\n",
       "class E2--><a href=\"psysml:c347ad09-22d6-4423-9bac-4dbac759901f\" target=\"_top\" title=\"psysml:c347ad09-22d6-4423-9bac-4dbac759901f\" xlink:actuate=\"onRequest\" xlink:href=\"psysml:c347ad09-22d6-4423-9bac-4dbac759901f\" xlink:show=\"new\" xlink:title=\"psysml:c347ad09-22d6-4423-9bac-4dbac759901f\" xlink:type=\"simple\"><rect fill=\"#FFFFFF\" height=\"75.5469\" id=\"E2\" style=\"stroke: #383838; stroke-width: 1.5;\" width=\"92\" x=\"93\" y=\"189\"/><text fill=\"#000000\" font-family=\"sans-serif\" font-size=\"12\" font-style=\"italic\" lengthAdjust=\"spacingAndGlyphs\" textLength=\"64\" x=\"107\" y=\"205.1387\">«part def»</text><text fill=\"#000000\" font-family=\"sans-serif\" font-size=\"12\" lengthAdjust=\"spacingAndGlyphs\" textLength=\"16\" x=\"131\" y=\"219.1074\">P1</text><line style=\"stroke: #383838; stroke-width: 1.5;\" x1=\"94\" x2=\"184\" y1=\"226.9375\" y2=\"226.9375\"/><text fill=\"#000000\" font-family=\"sans-serif\" font-size=\"11\" lengthAdjust=\"spacingAndGlyphs\" textLength=\"36\" x=\"99\" y=\"257.9526\">porig1</text><text fill=\"#000000\" font-family=\"sans-serif\" font-size=\"11\" font-weight=\"bold\" lengthAdjust=\"spacingAndGlyphs\" textLength=\"15\" x=\"139\" y=\"257.9526\">as</text><text fill=\"#000000\" font-family=\"sans-serif\" font-size=\"11\" lengthAdjust=\"spacingAndGlyphs\" textLength=\"21\" x=\"158\" y=\"257.9526\">po1</text><line style=\"stroke: #383838; stroke-width: 1.0;\" x1=\"94\" x2=\"124\" y1=\"241.3398\" y2=\"241.3398\"/><text fill=\"#000000\" font-family=\"sans-serif\" font-size=\"11\" lengthAdjust=\"spacingAndGlyphs\" textLength=\"30\" x=\"124\" y=\"244.6479\">ports</text><line style=\"stroke: #383838; stroke-width: 1.0;\" x1=\"154\" x2=\"184\" y1=\"241.3398\" y2=\"241.3398\"/></a><!--MD5=[ebbe1d658d1005bcc118a6aa81145e00]\n",
       "class E4--><a href=\"psysml:d449d8a1-a677-4f10-8ecb-a1ad1c680d6c\" target=\"_top\" title=\"psysml:d449d8a1-a677-4f10-8ecb-a1ad1c680d6c\" xlink:actuate=\"onRequest\" xlink:href=\"psysml:d449d8a1-a677-4f10-8ecb-a1ad1c680d6c\" xlink:show=\"new\" xlink:title=\"psysml:d449d8a1-a677-4f10-8ecb-a1ad1c680d6c\" xlink:type=\"simple\"><rect fill=\"#FFFFFF\" height=\"88.3516\" id=\"E4\" rx=\"10\" ry=\"10\" style=\"stroke: #383838; stroke-width: 1.5;\" width=\"92\" x=\"155\" y=\"41\"/><text fill=\"#000000\" font-family=\"sans-serif\" font-size=\"12\" font-style=\"italic\" lengthAdjust=\"spacingAndGlyphs\" textLength=\"40\" x=\"181\" y=\"57.1387\">«part»</text><text fill=\"#000000\" font-family=\"sans-serif\" font-size=\"12\" lengthAdjust=\"spacingAndGlyphs\" textLength=\"40\" x=\"181\" y=\"71.1074\">p1: P1</text><line style=\"stroke: #383838; stroke-width: 1.5;\" x1=\"156\" x2=\"246\" y1=\"78.9375\" y2=\"78.9375\"/><text fill=\"#000000\" font-family=\"sans-serif\" font-size=\"11\" lengthAdjust=\"spacingAndGlyphs\" textLength=\"21\" x=\"161\" y=\"109.9526\">po1</text><text fill=\"#000000\" font-family=\"sans-serif\" font-size=\"11\" font-style=\"italic\" lengthAdjust=\"spacingAndGlyphs\" textLength=\"80\" x=\"161\" y=\"122.7573\">:&gt;&gt;P1::porig1</text><line style=\"stroke: #383838; stroke-width: 1.0;\" x1=\"156\" x2=\"186\" y1=\"93.3398\" y2=\"93.3398\"/><text fill=\"#000000\" font-family=\"sans-serif\" font-size=\"11\" lengthAdjust=\"spacingAndGlyphs\" textLength=\"30\" x=\"186\" y=\"96.6479\">ports</text><line style=\"stroke: #383838; stroke-width: 1.0;\" x1=\"216\" x2=\"246\" y1=\"93.3398\" y2=\"93.3398\"/></a><!--MD5=[60a26617385b1d2d0262a64233df1f8d]\n",
       "class E6--><a href=\"psysml:32242b45-8d95-4b7d-97cb-8dd31296908f\" target=\"_top\" title=\"psysml:32242b45-8d95-4b7d-97cb-8dd31296908f\" xlink:actuate=\"onRequest\" xlink:href=\"psysml:32242b45-8d95-4b7d-97cb-8dd31296908f\" xlink:show=\"new\" xlink:title=\"psysml:32242b45-8d95-4b7d-97cb-8dd31296908f\" xlink:type=\"simple\"><rect fill=\"#FFFFFF\" height=\"75.5469\" id=\"E6\" rx=\"10\" ry=\"10\" style=\"stroke: #383838; stroke-width: 1.5;\" width=\"88\" x=\"32\" y=\"47\"/><text fill=\"#000000\" font-family=\"sans-serif\" font-size=\"12\" font-style=\"italic\" lengthAdjust=\"spacingAndGlyphs\" textLength=\"40\" x=\"56\" y=\"63.1387\">«part»</text><text fill=\"#000000\" font-family=\"sans-serif\" font-size=\"12\" lengthAdjust=\"spacingAndGlyphs\" textLength=\"40\" x=\"56\" y=\"77.1074\">p2: P1</text><line style=\"stroke: #383838; stroke-width: 1.5;\" x1=\"33\" x2=\"119\" y1=\"84.9375\" y2=\"84.9375\"/><text fill=\"#000000\" font-family=\"sans-serif\" font-size=\"11\" lengthAdjust=\"spacingAndGlyphs\" textLength=\"32\" x=\"38\" y=\"115.9526\">pdest</text><text fill=\"#000000\" font-family=\"sans-serif\" font-size=\"11\" font-weight=\"bold\" lengthAdjust=\"spacingAndGlyphs\" textLength=\"15\" x=\"74\" y=\"115.9526\">as</text><text fill=\"#000000\" font-family=\"sans-serif\" font-size=\"11\" lengthAdjust=\"spacingAndGlyphs\" textLength=\"21\" x=\"93\" y=\"115.9526\">pd1</text><line style=\"stroke: #383838; stroke-width: 1.0;\" x1=\"33\" x2=\"61\" y1=\"99.3398\" y2=\"99.3398\"/><text fill=\"#000000\" font-family=\"sans-serif\" font-size=\"11\" lengthAdjust=\"spacingAndGlyphs\" textLength=\"30\" x=\"61\" y=\"102.6479\">ports</text><line style=\"stroke: #383838; stroke-width: 1.0;\" x1=\"91\" x2=\"119\" y1=\"99.3398\" y2=\"99.3398\"/></a><!--MD5=[185131fc0dcab0a4505a2ebe144e961b]\n",
       "link E4 to E2--><a href=\"psysml:2d5875ca-6e79-47eb-af19-37e1c3e68f98\" target=\"_top\" title=\"psysml:2d5875ca-6e79-47eb-af19-37e1c3e68f98\" xlink:actuate=\"onRequest\" xlink:href=\"psysml:2d5875ca-6e79-47eb-af19-37e1c3e68f98\" xlink:show=\"new\" xlink:title=\"psysml:2d5875ca-6e79-47eb-af19-37e1c3e68f98\" xlink:type=\"simple\"><path d=\"M181.89,129.15 C176.14,142.14 169.74,156.6 163.67,170.29 \" fill=\"none\" id=\"E4-&gt;E2\" style=\"stroke: #383838; stroke-width: 1.0;\"/><polygon fill=\"#FFFFFF\" points=\"155.43,188.9,156.725,168.693,169.5254,174.3632,155.43,188.9\" style=\"stroke: #383838; stroke-width: 1.0;\"/><ellipse cx=\"160.8622\" cy=\"164.2914\" fill=\"#383838\" rx=\"2\" ry=\"2\" style=\"stroke: #383838; stroke-width: 1.0;\"/><ellipse cx=\"170.0053\" cy=\"168.3416\" fill=\"#383838\" rx=\"2\" ry=\"2\" style=\"stroke: #383838; stroke-width: 1.0;\"/></a><!--MD5=[2351f337d6de0f557b50152ba70847b5]\n",
       "link E6 to E2--><a href=\"psysml:6438d4a2-0b71-4be8-b1f1-dcd907944303\" target=\"_top\" title=\"psysml:6438d4a2-0b71-4be8-b1f1-dcd907944303\" xlink:actuate=\"onRequest\" xlink:href=\"psysml:6438d4a2-0b71-4be8-b1f1-dcd907944303\" xlink:show=\"new\" xlink:title=\"psysml:6438d4a2-0b71-4be8-b1f1-dcd907944303\" xlink:type=\"simple\"><path d=\"M92.72,123.15 C99.23,137.63 106.84,154.53 113.98,170.4 \" fill=\"none\" id=\"E6-&gt;E2\" style=\"stroke: #383838; stroke-width: 1.0;\"/><polygon fill=\"#FFFFFF\" points=\"122.2,188.68,108.0257,174.22,120.7951,168.4803,122.2,188.68\" style=\"stroke: #383838; stroke-width: 1.0;\"/><ellipse cx=\"107.5131\" cy=\"168.2011\" fill=\"#383838\" rx=\"2\" ry=\"2\" style=\"stroke: #383838; stroke-width: 1.0;\"/><ellipse cx=\"116.634\" cy=\"164.1014\" fill=\"#383838\" rx=\"2\" ry=\"2\" style=\"stroke: #383838; stroke-width: 1.0;\"/></a><!--MD5=[1fe6e326346e62b0abc3dc552c956968]\n",
       "@startuml\r\n",
       "skinparam linetype polyline\r\n",
       "skinparam monochrome true\r\n",
       "skinparam classbackgroundcolor white\r\n",
       "skinparam shadowing false\r\n",
       "skinparam wrapWidth 300\r\n",
       "hide circle\r\n",
       "\r\n",
       "package \"AliasTest\" as E1  [[psysml:e49964db-e340-4eba-a3a8-d7e4e465bce2 ]]  {\r\n",
       "comp def \"P1\" as E2  <<(T,blue)part def>> [[psysml:c347ad09-22d6-4423-9bac-4dbac759901f ]] {\r\n",
       "- - ports - -\r\n",
       "porig1 <b>as</b> po1 \r\n",
       "}\r\n",
       "comp usage \"p1: P1\" as E4  <<(T,blue)part>> [[psysml:d449d8a1-a677-4f10-8ecb-a1ad1c680d6c ]] {\r\n",
       "- - ports - -\r\n",
       "po1\\n//:>>P1::porig1// \r\n",
       "}\r\n",
       "comp usage \"p2: P1\" as E6  <<(T,blue)part>> [[psysml:32242b45-8d95-4b7d-97cb-8dd31296908f ]] {\r\n",
       "- - ports - -\r\n",
       "pdest <b>as</b> pd1 \r\n",
       "}\r\n",
       "E4 - -:|> E2 [[psysml:2d5875ca-6e79-47eb-af19-37e1c3e68f98 ]] \r\n",
       "E6 - -:|> E2 [[psysml:6438d4a2-0b71-4be8-b1f1-dcd907944303 ]] \r\n",
       "}\r\n",
       "@enduml\r\n",
       "\n",
       "PlantUML version 1.2020.13(Sat Jun 13 12:26:38 UTC 2020)\n",
       "(EPL source distribution)\n",
       "Java Runtime: OpenJDK Runtime Environment\n",
       "JVM: OpenJDK 64-Bit Server VM\n",
       "Default Encoding: UTF-8\n",
       "Language: en\n",
       "Country: null\n",
       "--></g></svg>"
      ]
     },
     "execution_count": 15,
     "metadata": {},
     "output_type": "execute_result"
    }
   ],
   "source": [
    "%viz --style=\"POLYLINE\" --view=\"MIXED\" \"AliasTest\""
   ]
  },
  {
   "cell_type": "code",
   "execution_count": 16,
   "id": "surface-gravity",
   "metadata": {
    "execution": {
     "iopub.execute_input": "2021-03-25T14:10:01.327790Z",
     "iopub.status.busy": "2021-03-25T14:10:01.326987Z",
     "iopub.status.idle": "2021-03-25T14:10:01.894371Z",
     "shell.execute_reply": "2021-03-25T14:10:01.893980Z"
    }
   },
   "outputs": [
    {
     "data": {
      "image/svg+xml": [
       "<?xml version=\"1.0\" encoding=\"UTF-8\" standalone=\"no\"?><svg xmlns=\"http://www.w3.org/2000/svg\" xmlns:xlink=\"http://www.w3.org/1999/xlink\" contentScriptType=\"application/ecmascript\" contentStyleType=\"text/css\" height=\"268px\" preserveAspectRatio=\"none\" style=\"width:314px;height:268px;\" version=\"1.1\" viewBox=\"0 0 314 268\" width=\"314px\" zoomAndPan=\"magnify\"><defs/><g><!--MD5=[fbc87193dbaf4d95561dea2c320d4a47]\n",
       "cluster E1--><a href=\"psysml:e49964db-e340-4eba-a3a8-d7e4e465bce2\" target=\"_top\" title=\"psysml:e49964db-e340-4eba-a3a8-d7e4e465bce2\" xlink:actuate=\"onRequest\" xlink:href=\"psysml:e49964db-e340-4eba-a3a8-d7e4e465bce2\" xlink:show=\"new\" xlink:title=\"psysml:e49964db-e340-4eba-a3a8-d7e4e465bce2\" xlink:type=\"simple\"><polygon fill=\"#FFFFFF\" points=\"16,6,94,6,101,28.2969,292,28.2969,292,256,16,256,16,6\" style=\"stroke: #000000; stroke-width: 1.5;\"/><line style=\"stroke: #000000; stroke-width: 1.5;\" x1=\"16\" x2=\"101\" y1=\"28.2969\" y2=\"28.2969\"/><text fill=\"#000000\" font-family=\"sans-serif\" font-size=\"14\" font-weight=\"bold\" lengthAdjust=\"spacingAndGlyphs\" textLength=\"72\" x=\"20\" y=\"20.9951\">AliasTest</text></a><!--MD5=[b4997ac47864f28c2f74865a473b2911]\n",
       "class E2--><a href=\"psysml:c347ad09-22d6-4423-9bac-4dbac759901f\" target=\"_top\" title=\"psysml:c347ad09-22d6-4423-9bac-4dbac759901f\" xlink:actuate=\"onRequest\" xlink:href=\"psysml:c347ad09-22d6-4423-9bac-4dbac759901f\" xlink:show=\"new\" xlink:title=\"psysml:c347ad09-22d6-4423-9bac-4dbac759901f\" xlink:type=\"simple\"><rect fill=\"#FFFFFF\" height=\"75.5469\" id=\"E2\" style=\"stroke: #383838; stroke-width: 1.5;\" width=\"92\" x=\"184\" y=\"106\"/><text fill=\"#000000\" font-family=\"sans-serif\" font-size=\"12\" font-style=\"italic\" lengthAdjust=\"spacingAndGlyphs\" textLength=\"64\" x=\"198\" y=\"122.1387\">«part def»</text><text fill=\"#000000\" font-family=\"sans-serif\" font-size=\"12\" lengthAdjust=\"spacingAndGlyphs\" textLength=\"16\" x=\"222\" y=\"136.1074\">P1</text><line style=\"stroke: #383838; stroke-width: 1.5;\" x1=\"185\" x2=\"275\" y1=\"143.9375\" y2=\"143.9375\"/><text fill=\"#000000\" font-family=\"sans-serif\" font-size=\"11\" lengthAdjust=\"spacingAndGlyphs\" textLength=\"36\" x=\"190\" y=\"174.9526\">porig1</text><text fill=\"#000000\" font-family=\"sans-serif\" font-size=\"11\" font-weight=\"bold\" lengthAdjust=\"spacingAndGlyphs\" textLength=\"15\" x=\"230\" y=\"174.9526\">as</text><text fill=\"#000000\" font-family=\"sans-serif\" font-size=\"11\" lengthAdjust=\"spacingAndGlyphs\" textLength=\"21\" x=\"249\" y=\"174.9526\">po1</text><line style=\"stroke: #383838; stroke-width: 1.0;\" x1=\"185\" x2=\"215\" y1=\"158.3398\" y2=\"158.3398\"/><text fill=\"#000000\" font-family=\"sans-serif\" font-size=\"11\" lengthAdjust=\"spacingAndGlyphs\" textLength=\"30\" x=\"215\" y=\"161.6479\">ports</text><line style=\"stroke: #383838; stroke-width: 1.0;\" x1=\"245\" x2=\"275\" y1=\"158.3398\" y2=\"158.3398\"/></a><!--MD5=[ebbe1d658d1005bcc118a6aa81145e00]\n",
       "class E4--><a href=\"psysml:d449d8a1-a677-4f10-8ecb-a1ad1c680d6c\" target=\"_top\" title=\"psysml:d449d8a1-a677-4f10-8ecb-a1ad1c680d6c\" xlink:actuate=\"onRequest\" xlink:href=\"psysml:d449d8a1-a677-4f10-8ecb-a1ad1c680d6c\" xlink:show=\"new\" xlink:title=\"psysml:d449d8a1-a677-4f10-8ecb-a1ad1c680d6c\" xlink:type=\"simple\"><rect fill=\"#FFFFFF\" height=\"88.3516\" id=\"E4\" rx=\"10\" ry=\"10\" style=\"stroke: #383838; stroke-width: 1.5;\" width=\"92\" x=\"32\" y=\"41\"/><text fill=\"#000000\" font-family=\"sans-serif\" font-size=\"12\" font-style=\"italic\" lengthAdjust=\"spacingAndGlyphs\" textLength=\"40\" x=\"58\" y=\"57.1387\">«part»</text><text fill=\"#000000\" font-family=\"sans-serif\" font-size=\"12\" lengthAdjust=\"spacingAndGlyphs\" textLength=\"40\" x=\"58\" y=\"71.1074\">p1: P1</text><line style=\"stroke: #383838; stroke-width: 1.5;\" x1=\"33\" x2=\"123\" y1=\"78.9375\" y2=\"78.9375\"/><text fill=\"#000000\" font-family=\"sans-serif\" font-size=\"11\" lengthAdjust=\"spacingAndGlyphs\" textLength=\"21\" x=\"38\" y=\"109.9526\">po1</text><text fill=\"#000000\" font-family=\"sans-serif\" font-size=\"11\" font-style=\"italic\" lengthAdjust=\"spacingAndGlyphs\" textLength=\"80\" x=\"38\" y=\"122.7573\">:&gt;&gt;P1::porig1</text><line style=\"stroke: #383838; stroke-width: 1.0;\" x1=\"33\" x2=\"63\" y1=\"93.3398\" y2=\"93.3398\"/><text fill=\"#000000\" font-family=\"sans-serif\" font-size=\"11\" lengthAdjust=\"spacingAndGlyphs\" textLength=\"30\" x=\"63\" y=\"96.6479\">ports</text><line style=\"stroke: #383838; stroke-width: 1.0;\" x1=\"93\" x2=\"123\" y1=\"93.3398\" y2=\"93.3398\"/></a><!--MD5=[60a26617385b1d2d0262a64233df1f8d]\n",
       "class E6--><a href=\"psysml:32242b45-8d95-4b7d-97cb-8dd31296908f\" target=\"_top\" title=\"psysml:32242b45-8d95-4b7d-97cb-8dd31296908f\" xlink:actuate=\"onRequest\" xlink:href=\"psysml:32242b45-8d95-4b7d-97cb-8dd31296908f\" xlink:show=\"new\" xlink:title=\"psysml:32242b45-8d95-4b7d-97cb-8dd31296908f\" xlink:type=\"simple\"><rect fill=\"#FFFFFF\" height=\"75.5469\" id=\"E6\" rx=\"10\" ry=\"10\" style=\"stroke: #383838; stroke-width: 1.5;\" width=\"88\" x=\"34\" y=\"164\"/><text fill=\"#000000\" font-family=\"sans-serif\" font-size=\"12\" font-style=\"italic\" lengthAdjust=\"spacingAndGlyphs\" textLength=\"40\" x=\"58\" y=\"180.1387\">«part»</text><text fill=\"#000000\" font-family=\"sans-serif\" font-size=\"12\" lengthAdjust=\"spacingAndGlyphs\" textLength=\"40\" x=\"58\" y=\"194.1074\">p2: P1</text><line style=\"stroke: #383838; stroke-width: 1.5;\" x1=\"35\" x2=\"121\" y1=\"201.9375\" y2=\"201.9375\"/><text fill=\"#000000\" font-family=\"sans-serif\" font-size=\"11\" lengthAdjust=\"spacingAndGlyphs\" textLength=\"32\" x=\"40\" y=\"232.9526\">pdest</text><text fill=\"#000000\" font-family=\"sans-serif\" font-size=\"11\" font-weight=\"bold\" lengthAdjust=\"spacingAndGlyphs\" textLength=\"15\" x=\"76\" y=\"232.9526\">as</text><text fill=\"#000000\" font-family=\"sans-serif\" font-size=\"11\" lengthAdjust=\"spacingAndGlyphs\" textLength=\"21\" x=\"95\" y=\"232.9526\">pd1</text><line style=\"stroke: #383838; stroke-width: 1.0;\" x1=\"35\" x2=\"63\" y1=\"216.3398\" y2=\"216.3398\"/><text fill=\"#000000\" font-family=\"sans-serif\" font-size=\"11\" lengthAdjust=\"spacingAndGlyphs\" textLength=\"30\" x=\"63\" y=\"219.6479\">ports</text><line style=\"stroke: #383838; stroke-width: 1.0;\" x1=\"93\" x2=\"121\" y1=\"216.3398\" y2=\"216.3398\"/></a><!--MD5=[185131fc0dcab0a4505a2ebe144e961b]\n",
       "link E4 to E2--><a href=\"psysml:2d5875ca-6e79-47eb-af19-37e1c3e68f98\" target=\"_top\" title=\"psysml:2d5875ca-6e79-47eb-af19-37e1c3e68f98\" xlink:actuate=\"onRequest\" xlink:href=\"psysml:2d5875ca-6e79-47eb-af19-37e1c3e68f98\" xlink:show=\"new\" xlink:title=\"psysml:2d5875ca-6e79-47eb-af19-37e1c3e68f98\" xlink:type=\"simple\"><path d=\"M124,102.7 C136.85,107.75 151.1,113.36 164.85,118.77 \" fill=\"none\" id=\"E4-&gt;E2\" style=\"stroke: #383838; stroke-width: 1.0;\"/><polygon fill=\"#FFFFFF\" points=\"183.77,126.21,163.5265,125.763,168.6552,112.7362,183.77,126.21\" style=\"stroke: #383838; stroke-width: 1.0;\"/><ellipse cx=\"158.9554\" cy=\"121.8139\" fill=\"#383838\" rx=\"2\" ry=\"2\" style=\"stroke: #383838; stroke-width: 1.0;\"/><ellipse cx=\"162.6188\" cy=\"112.5091\" fill=\"#383838\" rx=\"2\" ry=\"2\" style=\"stroke: #383838; stroke-width: 1.0;\"/></a><!--MD5=[2351f337d6de0f557b50152ba70847b5]\n",
       "link E6 to E2--><a href=\"psysml:6438d4a2-0b71-4be8-b1f1-dcd907944303\" target=\"_top\" title=\"psysml:6438d4a2-0b71-4be8-b1f1-dcd907944303\" xlink:actuate=\"onRequest\" xlink:href=\"psysml:6438d4a2-0b71-4be8-b1f1-dcd907944303\" xlink:show=\"new\" xlink:title=\"psysml:6438d4a2-0b71-4be8-b1f1-dcd907944303\" xlink:type=\"simple\"><path d=\"M122.39,185.22 C135.65,180.09 150.53,174.34 164.87,168.8 \" fill=\"none\" id=\"E6-&gt;E2\" style=\"stroke: #383838; stroke-width: 1.0;\"/><polygon fill=\"#FFFFFF\" points=\"183.89,161.44,168.6933,174.8213,163.6441,161.7635,183.89,161.44\" style=\"stroke: #383838; stroke-width: 1.0;\"/><ellipse cx=\"162.6556\" cy=\"175.0116\" fill=\"#383838\" rx=\"2\" ry=\"2\" style=\"stroke: #383838; stroke-width: 1.0;\"/><ellipse cx=\"159.049\" cy=\"165.6846\" fill=\"#383838\" rx=\"2\" ry=\"2\" style=\"stroke: #383838; stroke-width: 1.0;\"/></a><!--MD5=[357615a360e4fdcc5675a69201358f82]\n",
       "@startuml\r\n",
       "left to right direction\r\n",
       "skinparam monochrome true\r\n",
       "skinparam classbackgroundcolor white\r\n",
       "skinparam shadowing false\r\n",
       "skinparam wrapWidth 300\r\n",
       "hide circle\r\n",
       "\r\n",
       "package \"AliasTest\" as E1  [[psysml:e49964db-e340-4eba-a3a8-d7e4e465bce2 ]]  {\r\n",
       "comp def \"P1\" as E2  <<(T,blue)part def>> [[psysml:c347ad09-22d6-4423-9bac-4dbac759901f ]] {\r\n",
       "- - ports - -\r\n",
       "porig1 <b>as</b> po1 \r\n",
       "}\r\n",
       "comp usage \"p1: P1\" as E4  <<(T,blue)part>> [[psysml:d449d8a1-a677-4f10-8ecb-a1ad1c680d6c ]] {\r\n",
       "- - ports - -\r\n",
       "po1\\n//:>>P1::porig1// \r\n",
       "}\r\n",
       "comp usage \"p2: P1\" as E6  <<(T,blue)part>> [[psysml:32242b45-8d95-4b7d-97cb-8dd31296908f ]] {\r\n",
       "- - ports - -\r\n",
       "pdest <b>as</b> pd1 \r\n",
       "}\r\n",
       "E4 - -:|> E2 [[psysml:2d5875ca-6e79-47eb-af19-37e1c3e68f98 ]] \r\n",
       "E6 - -:|> E2 [[psysml:6438d4a2-0b71-4be8-b1f1-dcd907944303 ]] \r\n",
       "}\r\n",
       "@enduml\r\n",
       "\n",
       "PlantUML version 1.2020.13(Sat Jun 13 12:26:38 UTC 2020)\n",
       "(EPL source distribution)\n",
       "Java Runtime: OpenJDK Runtime Environment\n",
       "JVM: OpenJDK 64-Bit Server VM\n",
       "Default Encoding: UTF-8\n",
       "Language: en\n",
       "Country: null\n",
       "--></g></svg>"
      ]
     },
     "execution_count": 16,
     "metadata": {},
     "output_type": "execute_result"
    }
   ],
   "source": [
    "%viz --style=\"LR\" --view=\"Default\" \"AliasTest\""
   ]
  },
  {
   "cell_type": "code",
   "execution_count": 17,
   "id": "present-appreciation",
   "metadata": {
    "execution": {
     "iopub.execute_input": "2021-03-25T14:10:01.946725Z",
     "iopub.status.busy": "2021-03-25T14:10:01.946039Z",
     "iopub.status.idle": "2021-03-25T14:10:02.520744Z",
     "shell.execute_reply": "2021-03-25T14:10:02.521455Z"
    }
   },
   "outputs": [
    {
     "data": {
      "image/svg+xml": [
       "<?xml version=\"1.0\" encoding=\"UTF-8\" standalone=\"no\"?><svg xmlns=\"http://www.w3.org/2000/svg\" xmlns:xlink=\"http://www.w3.org/1999/xlink\" contentScriptType=\"application/ecmascript\" contentStyleType=\"text/css\" height=\"268px\" preserveAspectRatio=\"none\" style=\"width:314px;height:268px;\" version=\"1.1\" viewBox=\"0 0 314 268\" width=\"314px\" zoomAndPan=\"magnify\"><defs/><g><!--MD5=[fbc87193dbaf4d95561dea2c320d4a47]\n",
       "cluster E1--><a href=\"psysml:e49964db-e340-4eba-a3a8-d7e4e465bce2\" target=\"_top\" title=\"psysml:e49964db-e340-4eba-a3a8-d7e4e465bce2\" xlink:actuate=\"onRequest\" xlink:href=\"psysml:e49964db-e340-4eba-a3a8-d7e4e465bce2\" xlink:show=\"new\" xlink:title=\"psysml:e49964db-e340-4eba-a3a8-d7e4e465bce2\" xlink:type=\"simple\"><polygon fill=\"#FFFFFF\" points=\"16,6,94,6,101,28.2969,292,28.2969,292,256,16,256,16,6\" style=\"stroke: #000000; stroke-width: 1.5;\"/><line style=\"stroke: #000000; stroke-width: 1.5;\" x1=\"16\" x2=\"101\" y1=\"28.2969\" y2=\"28.2969\"/><text fill=\"#000000\" font-family=\"sans-serif\" font-size=\"14\" font-weight=\"bold\" lengthAdjust=\"spacingAndGlyphs\" textLength=\"72\" x=\"20\" y=\"20.9951\">AliasTest</text></a><!--MD5=[b4997ac47864f28c2f74865a473b2911]\n",
       "class E2--><a href=\"psysml:c347ad09-22d6-4423-9bac-4dbac759901f\" target=\"_top\" title=\"psysml:c347ad09-22d6-4423-9bac-4dbac759901f\" xlink:actuate=\"onRequest\" xlink:href=\"psysml:c347ad09-22d6-4423-9bac-4dbac759901f\" xlink:show=\"new\" xlink:title=\"psysml:c347ad09-22d6-4423-9bac-4dbac759901f\" xlink:type=\"simple\"><rect fill=\"#FFFFFF\" height=\"75.5469\" id=\"E2\" style=\"stroke: #383838; stroke-width: 1.5;\" width=\"92\" x=\"184\" y=\"106\"/><text fill=\"#000000\" font-family=\"sans-serif\" font-size=\"12\" font-style=\"italic\" lengthAdjust=\"spacingAndGlyphs\" textLength=\"64\" x=\"198\" y=\"122.1387\">«part def»</text><text fill=\"#000000\" font-family=\"sans-serif\" font-size=\"12\" lengthAdjust=\"spacingAndGlyphs\" textLength=\"16\" x=\"222\" y=\"136.1074\">P1</text><line style=\"stroke: #383838; stroke-width: 1.5;\" x1=\"185\" x2=\"275\" y1=\"143.9375\" y2=\"143.9375\"/><text fill=\"#000000\" font-family=\"sans-serif\" font-size=\"11\" lengthAdjust=\"spacingAndGlyphs\" textLength=\"36\" x=\"190\" y=\"174.9526\">porig1</text><text fill=\"#000000\" font-family=\"sans-serif\" font-size=\"11\" font-weight=\"bold\" lengthAdjust=\"spacingAndGlyphs\" textLength=\"15\" x=\"230\" y=\"174.9526\">as</text><text fill=\"#000000\" font-family=\"sans-serif\" font-size=\"11\" lengthAdjust=\"spacingAndGlyphs\" textLength=\"21\" x=\"249\" y=\"174.9526\">po1</text><line style=\"stroke: #383838; stroke-width: 1.0;\" x1=\"185\" x2=\"215\" y1=\"158.3398\" y2=\"158.3398\"/><text fill=\"#000000\" font-family=\"sans-serif\" font-size=\"11\" lengthAdjust=\"spacingAndGlyphs\" textLength=\"30\" x=\"215\" y=\"161.6479\">ports</text><line style=\"stroke: #383838; stroke-width: 1.0;\" x1=\"245\" x2=\"275\" y1=\"158.3398\" y2=\"158.3398\"/></a><!--MD5=[ebbe1d658d1005bcc118a6aa81145e00]\n",
       "class E4--><a href=\"psysml:d449d8a1-a677-4f10-8ecb-a1ad1c680d6c\" target=\"_top\" title=\"psysml:d449d8a1-a677-4f10-8ecb-a1ad1c680d6c\" xlink:actuate=\"onRequest\" xlink:href=\"psysml:d449d8a1-a677-4f10-8ecb-a1ad1c680d6c\" xlink:show=\"new\" xlink:title=\"psysml:d449d8a1-a677-4f10-8ecb-a1ad1c680d6c\" xlink:type=\"simple\"><rect fill=\"#FFFFFF\" height=\"88.3516\" id=\"E4\" rx=\"10\" ry=\"10\" style=\"stroke: #383838; stroke-width: 1.5;\" width=\"92\" x=\"32\" y=\"41\"/><text fill=\"#000000\" font-family=\"sans-serif\" font-size=\"12\" font-style=\"italic\" lengthAdjust=\"spacingAndGlyphs\" textLength=\"40\" x=\"58\" y=\"57.1387\">«part»</text><text fill=\"#000000\" font-family=\"sans-serif\" font-size=\"12\" lengthAdjust=\"spacingAndGlyphs\" textLength=\"40\" x=\"58\" y=\"71.1074\">p1: P1</text><line style=\"stroke: #383838; stroke-width: 1.5;\" x1=\"33\" x2=\"123\" y1=\"78.9375\" y2=\"78.9375\"/><text fill=\"#000000\" font-family=\"sans-serif\" font-size=\"11\" lengthAdjust=\"spacingAndGlyphs\" textLength=\"21\" x=\"38\" y=\"109.9526\">po1</text><text fill=\"#000000\" font-family=\"sans-serif\" font-size=\"11\" font-style=\"italic\" lengthAdjust=\"spacingAndGlyphs\" textLength=\"80\" x=\"38\" y=\"122.7573\">:&gt;&gt;P1::porig1</text><line style=\"stroke: #383838; stroke-width: 1.0;\" x1=\"33\" x2=\"63\" y1=\"93.3398\" y2=\"93.3398\"/><text fill=\"#000000\" font-family=\"sans-serif\" font-size=\"11\" lengthAdjust=\"spacingAndGlyphs\" textLength=\"30\" x=\"63\" y=\"96.6479\">ports</text><line style=\"stroke: #383838; stroke-width: 1.0;\" x1=\"93\" x2=\"123\" y1=\"93.3398\" y2=\"93.3398\"/></a><!--MD5=[60a26617385b1d2d0262a64233df1f8d]\n",
       "class E6--><a href=\"psysml:32242b45-8d95-4b7d-97cb-8dd31296908f\" target=\"_top\" title=\"psysml:32242b45-8d95-4b7d-97cb-8dd31296908f\" xlink:actuate=\"onRequest\" xlink:href=\"psysml:32242b45-8d95-4b7d-97cb-8dd31296908f\" xlink:show=\"new\" xlink:title=\"psysml:32242b45-8d95-4b7d-97cb-8dd31296908f\" xlink:type=\"simple\"><rect fill=\"#FFFFFF\" height=\"75.5469\" id=\"E6\" rx=\"10\" ry=\"10\" style=\"stroke: #383838; stroke-width: 1.5;\" width=\"88\" x=\"34\" y=\"164\"/><text fill=\"#000000\" font-family=\"sans-serif\" font-size=\"12\" font-style=\"italic\" lengthAdjust=\"spacingAndGlyphs\" textLength=\"40\" x=\"58\" y=\"180.1387\">«part»</text><text fill=\"#000000\" font-family=\"sans-serif\" font-size=\"12\" lengthAdjust=\"spacingAndGlyphs\" textLength=\"40\" x=\"58\" y=\"194.1074\">p2: P1</text><line style=\"stroke: #383838; stroke-width: 1.5;\" x1=\"35\" x2=\"121\" y1=\"201.9375\" y2=\"201.9375\"/><text fill=\"#000000\" font-family=\"sans-serif\" font-size=\"11\" lengthAdjust=\"spacingAndGlyphs\" textLength=\"32\" x=\"40\" y=\"232.9526\">pdest</text><text fill=\"#000000\" font-family=\"sans-serif\" font-size=\"11\" font-weight=\"bold\" lengthAdjust=\"spacingAndGlyphs\" textLength=\"15\" x=\"76\" y=\"232.9526\">as</text><text fill=\"#000000\" font-family=\"sans-serif\" font-size=\"11\" lengthAdjust=\"spacingAndGlyphs\" textLength=\"21\" x=\"95\" y=\"232.9526\">pd1</text><line style=\"stroke: #383838; stroke-width: 1.0;\" x1=\"35\" x2=\"63\" y1=\"216.3398\" y2=\"216.3398\"/><text fill=\"#000000\" font-family=\"sans-serif\" font-size=\"11\" lengthAdjust=\"spacingAndGlyphs\" textLength=\"30\" x=\"63\" y=\"219.6479\">ports</text><line style=\"stroke: #383838; stroke-width: 1.0;\" x1=\"93\" x2=\"121\" y1=\"216.3398\" y2=\"216.3398\"/></a><!--MD5=[185131fc0dcab0a4505a2ebe144e961b]\n",
       "link E4 to E2--><a href=\"psysml:2d5875ca-6e79-47eb-af19-37e1c3e68f98\" target=\"_top\" title=\"psysml:2d5875ca-6e79-47eb-af19-37e1c3e68f98\" xlink:actuate=\"onRequest\" xlink:href=\"psysml:2d5875ca-6e79-47eb-af19-37e1c3e68f98\" xlink:show=\"new\" xlink:title=\"psysml:2d5875ca-6e79-47eb-af19-37e1c3e68f98\" xlink:type=\"simple\"><path d=\"M124,102.7 C136.85,107.75 151.1,113.36 164.85,118.77 \" fill=\"none\" id=\"E4-&gt;E2\" style=\"stroke: #383838; stroke-width: 1.0;\"/><polygon fill=\"#FFFFFF\" points=\"183.77,126.21,163.5265,125.763,168.6552,112.7362,183.77,126.21\" style=\"stroke: #383838; stroke-width: 1.0;\"/><ellipse cx=\"158.9554\" cy=\"121.8139\" fill=\"#383838\" rx=\"2\" ry=\"2\" style=\"stroke: #383838; stroke-width: 1.0;\"/><ellipse cx=\"162.6188\" cy=\"112.5091\" fill=\"#383838\" rx=\"2\" ry=\"2\" style=\"stroke: #383838; stroke-width: 1.0;\"/></a><!--MD5=[2351f337d6de0f557b50152ba70847b5]\n",
       "link E6 to E2--><a href=\"psysml:6438d4a2-0b71-4be8-b1f1-dcd907944303\" target=\"_top\" title=\"psysml:6438d4a2-0b71-4be8-b1f1-dcd907944303\" xlink:actuate=\"onRequest\" xlink:href=\"psysml:6438d4a2-0b71-4be8-b1f1-dcd907944303\" xlink:show=\"new\" xlink:title=\"psysml:6438d4a2-0b71-4be8-b1f1-dcd907944303\" xlink:type=\"simple\"><path d=\"M122.39,185.22 C135.65,180.09 150.53,174.34 164.87,168.8 \" fill=\"none\" id=\"E6-&gt;E2\" style=\"stroke: #383838; stroke-width: 1.0;\"/><polygon fill=\"#FFFFFF\" points=\"183.89,161.44,168.6933,174.8213,163.6441,161.7635,183.89,161.44\" style=\"stroke: #383838; stroke-width: 1.0;\"/><ellipse cx=\"162.6556\" cy=\"175.0116\" fill=\"#383838\" rx=\"2\" ry=\"2\" style=\"stroke: #383838; stroke-width: 1.0;\"/><ellipse cx=\"159.049\" cy=\"165.6846\" fill=\"#383838\" rx=\"2\" ry=\"2\" style=\"stroke: #383838; stroke-width: 1.0;\"/></a><!--MD5=[357615a360e4fdcc5675a69201358f82]\n",
       "@startuml\r\n",
       "left to right direction\r\n",
       "skinparam monochrome true\r\n",
       "skinparam classbackgroundcolor white\r\n",
       "skinparam shadowing false\r\n",
       "skinparam wrapWidth 300\r\n",
       "hide circle\r\n",
       "\r\n",
       "package \"AliasTest\" as E1  [[psysml:e49964db-e340-4eba-a3a8-d7e4e465bce2 ]]  {\r\n",
       "comp def \"P1\" as E2  <<(T,blue)part def>> [[psysml:c347ad09-22d6-4423-9bac-4dbac759901f ]] {\r\n",
       "- - ports - -\r\n",
       "porig1 <b>as</b> po1 \r\n",
       "}\r\n",
       "comp usage \"p1: P1\" as E4  <<(T,blue)part>> [[psysml:d449d8a1-a677-4f10-8ecb-a1ad1c680d6c ]] {\r\n",
       "- - ports - -\r\n",
       "po1\\n//:>>P1::porig1// \r\n",
       "}\r\n",
       "comp usage \"p2: P1\" as E6  <<(T,blue)part>> [[psysml:32242b45-8d95-4b7d-97cb-8dd31296908f ]] {\r\n",
       "- - ports - -\r\n",
       "pdest <b>as</b> pd1 \r\n",
       "}\r\n",
       "E4 - -:|> E2 [[psysml:2d5875ca-6e79-47eb-af19-37e1c3e68f98 ]] \r\n",
       "E6 - -:|> E2 [[psysml:6438d4a2-0b71-4be8-b1f1-dcd907944303 ]] \r\n",
       "}\r\n",
       "@enduml\r\n",
       "\n",
       "PlantUML version 1.2020.13(Sat Jun 13 12:26:38 UTC 2020)\n",
       "(EPL source distribution)\n",
       "Java Runtime: OpenJDK Runtime Environment\n",
       "JVM: OpenJDK 64-Bit Server VM\n",
       "Default Encoding: UTF-8\n",
       "Language: en\n",
       "Country: null\n",
       "--></g></svg>"
      ]
     },
     "execution_count": 17,
     "metadata": {},
     "output_type": "execute_result"
    }
   ],
   "source": [
    "%viz --style=\"LR\" --view=\"Tree\" \"AliasTest\""
   ]
  },
  {
   "cell_type": "code",
   "execution_count": 18,
   "id": "theoretical-allergy",
   "metadata": {
    "execution": {
     "iopub.execute_input": "2021-03-25T14:10:02.575587Z",
     "iopub.status.busy": "2021-03-25T14:10:02.574943Z",
     "iopub.status.idle": "2021-03-25T14:10:02.582931Z",
     "shell.execute_reply": "2021-03-25T14:10:02.583376Z"
    }
   },
   "outputs": [
    {
     "data": {
      "image/svg+xml": [
       "<?xml version=\"1.0\" encoding=\"UTF-8\" standalone=\"no\"?><svg xmlns=\"http://www.w3.org/2000/svg\" xmlns:xlink=\"http://www.w3.org/1999/xlink\" contentScriptType=\"application/ecmascript\" contentStyleType=\"text/css\" height=\"12px\" preserveAspectRatio=\"none\" style=\"width:12px;height:12px;\" version=\"1.1\" viewBox=\"0 0 12 12\" width=\"12px\" zoomAndPan=\"magnify\"><defs/><g><!--MD5=[19d285c9d72a204eba4e2cd117d745e8]\n",
       "@startuml\r\n",
       "left to right direction\r\n",
       "skinparam monochrome true\r\n",
       "skinparam classbackgroundcolor white\r\n",
       "skinparam shadowing false\r\n",
       "skinparam wrapWidth 300\r\n",
       "hide circle\r\n",
       "\r\n",
       "@enduml\r\n",
       "\n",
       "PlantUML version 1.2020.13(Sat Jun 13 12:26:38 UTC 2020)\n",
       "(EPL source distribution)\n",
       "Java Runtime: OpenJDK Runtime Environment\n",
       "JVM: OpenJDK 64-Bit Server VM\n",
       "Default Encoding: UTF-8\n",
       "Language: en\n",
       "Country: null\n",
       "--></g></svg>"
      ]
     },
     "execution_count": 18,
     "metadata": {},
     "output_type": "execute_result"
    }
   ],
   "source": [
    "%viz --style=\"LR\" --view=\"State\" \"AliasTest\""
   ]
  },
  {
   "cell_type": "code",
   "execution_count": 19,
   "id": "friendly-taiwan",
   "metadata": {
    "execution": {
     "iopub.execute_input": "2021-03-25T14:10:02.636792Z",
     "iopub.status.busy": "2021-03-25T14:10:02.635811Z",
     "iopub.status.idle": "2021-03-25T14:10:02.735404Z",
     "shell.execute_reply": "2021-03-25T14:10:02.733824Z"
    }
   },
   "outputs": [
    {
     "data": {
      "image/svg+xml": [
       "<?xml version=\"1.0\" encoding=\"UTF-8\" standalone=\"no\"?><svg xmlns=\"http://www.w3.org/2000/svg\" xmlns:xlink=\"http://www.w3.org/1999/xlink\" contentScriptType=\"application/ecmascript\" contentStyleType=\"text/css\" height=\"287px\" preserveAspectRatio=\"none\" style=\"width:308px;height:287px;\" version=\"1.1\" viewBox=\"0 0 308 287\" width=\"308px\" zoomAndPan=\"magnify\"><defs/><g><!--MD5=[fbc87193dbaf4d95561dea2c320d4a47]\n",
       "cluster E1--><a href=\"psysml:e49964db-e340-4eba-a3a8-d7e4e465bce2\" target=\"_top\" title=\"psysml:e49964db-e340-4eba-a3a8-d7e4e465bce2\" xlink:actuate=\"onRequest\" xlink:href=\"psysml:e49964db-e340-4eba-a3a8-d7e4e465bce2\" xlink:show=\"new\" xlink:title=\"psysml:e49964db-e340-4eba-a3a8-d7e4e465bce2\" xlink:type=\"simple\"><polygon fill=\"#FFFFFF\" points=\"16,6,94,6,101,28.2969,286,28.2969,286,275,16,275,16,6\" style=\"stroke: #000000; stroke-width: 1.5;\"/><line style=\"stroke: #000000; stroke-width: 1.5;\" x1=\"16\" x2=\"101\" y1=\"28.2969\" y2=\"28.2969\"/><text fill=\"#000000\" font-family=\"sans-serif\" font-size=\"14\" font-weight=\"bold\" lengthAdjust=\"spacingAndGlyphs\" textLength=\"72\" x=\"20\" y=\"20.9951\">AliasTest</text></a><!--MD5=[e4f7fae6ed58524ba242bb0b0d3be6b7]\n",
       "cluster E2--><a href=\"psysml:c347ad09-22d6-4423-9bac-4dbac759901f\" target=\"_top\" title=\"psysml:c347ad09-22d6-4423-9bac-4dbac759901f\" xlink:actuate=\"onRequest\" xlink:href=\"psysml:c347ad09-22d6-4423-9bac-4dbac759901f\" xlink:show=\"new\" xlink:title=\"psysml:c347ad09-22d6-4423-9bac-4dbac759901f\" xlink:type=\"simple\"><rect fill=\"#FFFFFF\" height=\"47\" id=\"E2\" style=\"stroke: #383838; stroke-width: 1.5;\" width=\"143\" x=\"28\" y=\"55\"/><rect fill=\"#F8F8F8\" height=\"37.9375\" style=\"stroke: #383838; stroke-width: 1.5;\" width=\"143\" x=\"28\" y=\"55\"/><text fill=\"#000000\" font-family=\"sans-serif\" font-size=\"12\" font-style=\"italic\" lengthAdjust=\"spacingAndGlyphs\" textLength=\"64\" x=\"67.5\" y=\"71.1387\">«part def»</text><text fill=\"#000000\" font-family=\"sans-serif\" font-size=\"12\" lengthAdjust=\"spacingAndGlyphs\" textLength=\"16\" x=\"91.5\" y=\"85.1074\">P1</text></a><!--MD5=[de5ec2e2e8f62f467e546659f5068c88]\n",
       "cluster E5--><a href=\"psysml:d449d8a1-a677-4f10-8ecb-a1ad1c680d6c\" target=\"_top\" title=\"psysml:d449d8a1-a677-4f10-8ecb-a1ad1c680d6c\" xlink:actuate=\"onRequest\" xlink:href=\"psysml:d449d8a1-a677-4f10-8ecb-a1ad1c680d6c\" xlink:show=\"new\" xlink:title=\"psysml:d449d8a1-a677-4f10-8ecb-a1ad1c680d6c\" xlink:type=\"simple\"><rect fill=\"#FFFFFF\" height=\"37\" id=\"E5\" rx=\"10\" ry=\"10\" style=\"stroke: #383838; stroke-width: 1.5;\" width=\"176.5\" x=\"93.5\" y=\"124\"/><rect fill=\"#F8F8F8\" height=\"23.9688\" rx=\"10\" ry=\"10\" style=\"stroke: #F8F8F8; stroke-width: 1.5;\" width=\"176.5\" x=\"93.5\" y=\"124\"/><rect fill=\"#F8F8F8\" height=\"10\" style=\"stroke: #F8F8F8; stroke-width: 1.5;\" width=\"176.5\" x=\"93.5\" y=\"137.9688\"/><rect fill=\"none\" height=\"37\" id=\"E5\" rx=\"10\" ry=\"10\" style=\"stroke: #383838; stroke-width: 1.5;\" width=\"176.5\" x=\"93.5\" y=\"124\"/><text fill=\"#000000\" font-family=\"sans-serif\" font-size=\"12\" lengthAdjust=\"spacingAndGlyphs\" textLength=\"40\" x=\"161.75\" y=\"140.1387\">p1: P1</text><line style=\"stroke: #383838; stroke-width: 1.0;\" x1=\"93.5\" x2=\"270\" y1=\"147.9688\" y2=\"147.9688\"/></a><!--MD5=[168fadf3d0c3fd93dd5d6da1b1d7ab76]\n",
       "cluster E7--><a href=\"psysml:32242b45-8d95-4b7d-97cb-8dd31296908f\" target=\"_top\" title=\"psysml:32242b45-8d95-4b7d-97cb-8dd31296908f\" xlink:actuate=\"onRequest\" xlink:href=\"psysml:32242b45-8d95-4b7d-97cb-8dd31296908f\" xlink:show=\"new\" xlink:title=\"psysml:32242b45-8d95-4b7d-97cb-8dd31296908f\" xlink:type=\"simple\"><rect fill=\"#FFFFFF\" height=\"47\" id=\"E7\" rx=\"10\" ry=\"10\" style=\"stroke: #383838; stroke-width: 1.5;\" width=\"133\" x=\"28\" y=\"198\"/><rect fill=\"#F8F8F8\" height=\"23.9688\" rx=\"10\" ry=\"10\" style=\"stroke: #F8F8F8; stroke-width: 1.5;\" width=\"133\" x=\"28\" y=\"198\"/><rect fill=\"#F8F8F8\" height=\"10\" style=\"stroke: #F8F8F8; stroke-width: 1.5;\" width=\"133\" x=\"28\" y=\"211.9688\"/><rect fill=\"none\" height=\"47\" id=\"E7\" rx=\"10\" ry=\"10\" style=\"stroke: #383838; stroke-width: 1.5;\" width=\"133\" x=\"28\" y=\"198\"/><text fill=\"#000000\" font-family=\"sans-serif\" font-size=\"12\" lengthAdjust=\"spacingAndGlyphs\" textLength=\"40\" x=\"74.5\" y=\"214.1387\">p2: P1</text><line style=\"stroke: #383838; stroke-width: 1.0;\" x1=\"28\" x2=\"161\" y1=\"221.9688\" y2=\"221.9688\"/></a><text fill=\"#000000\" font-family=\"sans-serif\" font-size=\"14\" lengthAdjust=\"spacingAndGlyphs\" textLength=\"44\" x=\"24\" y=\"120.9951\">porig1</text><rect fill=\"#383838\" height=\"12\" style=\"stroke: #F8F8F8; stroke-width: 1.5;\" width=\"12\" x=\"40\" y=\"96\"/><text fill=\"#000000\" font-family=\"sans-serif\" font-size=\"14\" lengthAdjust=\"spacingAndGlyphs\" textLength=\"44\" x=\"24\" y=\"33.6982\">porig1</text><rect fill=\"#383838\" height=\"12\" style=\"stroke: #F8F8F8; stroke-width: 1.5;\" width=\"12\" x=\"40\" y=\"49\"/><text fill=\"#000000\" font-family=\"sans-serif\" font-size=\"14\" lengthAdjust=\"spacingAndGlyphs\" textLength=\"27\" x=\"98\" y=\"179.9951\">po1</text><rect fill=\"#383838\" height=\"12\" style=\"stroke: #F8F8F8; stroke-width: 1.5;\" width=\"12\" x=\"105.5\" y=\"155\"/><text fill=\"#000000\" font-family=\"sans-serif\" font-size=\"14\" lengthAdjust=\"spacingAndGlyphs\" textLength=\"40\" x=\"26\" y=\"263.9951\">pdest</text><rect fill=\"#383838\" height=\"12\" style=\"stroke: #F8F8F8; stroke-width: 1.5;\" width=\"12\" x=\"40\" y=\"239\"/><text fill=\"#000000\" font-family=\"sans-serif\" font-size=\"14\" lengthAdjust=\"spacingAndGlyphs\" textLength=\"40\" x=\"26\" y=\"176.6982\">pdest</text><rect fill=\"#383838\" height=\"12\" style=\"stroke: #F8F8F8; stroke-width: 1.5;\" width=\"12\" x=\"40\" y=\"192\"/><!--MD5=[60ac2c0cde89d4308155b0484e57a8ec]\n",
       "link E9 to E6--><a href=\"psysml:542ee912-9568-47bf-89cf-5ffa6da25451\" target=\"_top\" title=\"psysml:542ee912-9568-47bf-89cf-5ffa6da25451\" xlink:actuate=\"onRequest\" xlink:href=\"psysml:542ee912-9568-47bf-89cf-5ffa6da25451\" xlink:show=\"new\" xlink:title=\"psysml:542ee912-9568-47bf-89cf-5ffa6da25451\" xlink:type=\"simple\"><path d=\"M47.45,204.28 C49.04,212.72 54.53,206.76 60,203 C78.05,190.58 103.18,180.75 109.18,167.1 \" fill=\"none\" id=\"E9-E6\" style=\"stroke: #383838; stroke-width: 3.0;\"/></a><!--MD5=[60ac2c0cde89d4308155b0484e57a8ec]\n",
       "link E9 to E6--><a href=\"psysml:574c6fbc-01c2-4e16-ae54-13c104835878\" target=\"_top\" title=\"psysml:574c6fbc-01c2-4e16-ae54-13c104835878\" xlink:actuate=\"onRequest\" xlink:href=\"psysml:574c6fbc-01c2-4e16-ae54-13c104835878\" xlink:show=\"new\" xlink:title=\"psysml:574c6fbc-01c2-4e16-ae54-13c104835878\" xlink:type=\"simple\"><path d=\"M47.29,191.73 C48.63,178.16 54.33,171.9 60,168 C77.41,156.02 101.39,146.46 108.46,154.58 \" fill=\"none\" id=\"E9-E6-1\" style=\"stroke: #383838; stroke-width: 3.0;\"/></a><!--MD5=[f9e52ae63e62070542bd9f91b828b34f]\n",
       "@startuml\r\n",
       "skinparam ranksep 10\r\n",
       "skinparam rectangle {\r\n",
       " backgroundColor<<block>> LightGreen\r\n",
       "}\r\n",
       "left to right direction\r\n",
       "skinparam monochrome true\r\n",
       "skinparam classbackgroundcolor white\r\n",
       "skinparam shadowing false\r\n",
       "skinparam wrapWidth 300\r\n",
       "hide circle\r\n",
       "\r\n",
       "package \"AliasTest\" as E1  [[psysml:e49964db-e340-4eba-a3a8-d7e4e465bce2 ]]  {\r\n",
       "rec def \"P1\" as E2  <<(T,blue)part def>> [[psysml:c347ad09-22d6-4423-9bac-4dbac759901f ]] {\r\n",
       "portin \"porig1\" as E3  <<(T,blue)port>> [[psysml:0250d93f-14e1-4692-9053-ebbfda808262 ]] \r\n",
       "portin \"porig1\" as E4  <<(T,blue)port>> [[psysml:0250d93f-14e1-4692-9053-ebbfda808262 ]] \r\n",
       "}\r\n",
       "rec usage \"p1: P1\" as E5  [[psysml:d449d8a1-a677-4f10-8ecb-a1ad1c680d6c ]] {\r\n",
       "portin \"po1\" as E6  <<(T,blue)port>> [[psysml:29809450-6fae-45f0-8103-0520fac6504b ]] \r\n",
       "}\r\n",
       "rec usage \"p2: P1\" as E7  [[psysml:32242b45-8d95-4b7d-97cb-8dd31296908f ]] {\r\n",
       "portin \"pdest\" as E8  <<(T,blue)port>> [[psysml:232a2b18-4f4e-4d95-914a-9e8054ac4fe4 ]] \r\n",
       "portin \"pdest\" as E9  <<(T,blue)port>> [[psysml:232a2b18-4f4e-4d95-914a-9e8054ac4fe4 ]] \r\n",
       "}\r\n",
       "E9 -[thickness=3]- E6 [[psysml:542ee912-9568-47bf-89cf-5ffa6da25451 ]] \r\n",
       "E9 -[thickness=3]- E6 [[psysml:574c6fbc-01c2-4e16-ae54-13c104835878 ]] \r\n",
       "}\r\n",
       "@enduml\r\n",
       "\n",
       "PlantUML version 1.2020.13(Sat Jun 13 12:26:38 UTC 2020)\n",
       "(EPL source distribution)\n",
       "Java Runtime: OpenJDK Runtime Environment\n",
       "JVM: OpenJDK 64-Bit Server VM\n",
       "Default Encoding: UTF-8\n",
       "Language: en\n",
       "Country: null\n",
       "--></g></svg>"
      ]
     },
     "execution_count": 19,
     "metadata": {},
     "output_type": "execute_result"
    }
   ],
   "source": [
    "%viz --style=\"LR\" --view=\"Interconnection\" \"AliasTest\""
   ]
  },
  {
   "cell_type": "code",
   "execution_count": 20,
   "id": "square-accent",
   "metadata": {
    "execution": {
     "iopub.execute_input": "2021-03-25T14:10:02.787747Z",
     "iopub.status.busy": "2021-03-25T14:10:02.786997Z",
     "iopub.status.idle": "2021-03-25T14:10:02.796321Z",
     "shell.execute_reply": "2021-03-25T14:10:02.796785Z"
    }
   },
   "outputs": [
    {
     "data": {
      "image/svg+xml": [
       "<?xml version=\"1.0\" encoding=\"UTF-8\" standalone=\"no\"?><svg xmlns=\"http://www.w3.org/2000/svg\" xmlns:xlink=\"http://www.w3.org/1999/xlink\" contentScriptType=\"application/ecmascript\" contentStyleType=\"text/css\" height=\"12px\" preserveAspectRatio=\"none\" style=\"width:12px;height:12px;\" version=\"1.1\" viewBox=\"0 0 12 12\" width=\"12px\" zoomAndPan=\"magnify\"><defs/><g><!--MD5=[7aeb398939421629f6affaa4a1a7b125]\n",
       "@startuml\r\n",
       "skinparam ranksep 8\r\n",
       "left to right direction\r\n",
       "skinparam monochrome true\r\n",
       "skinparam classbackgroundcolor white\r\n",
       "skinparam shadowing false\r\n",
       "skinparam wrapWidth 300\r\n",
       "hide circle\r\n",
       "\r\n",
       "@enduml\r\n",
       "\n",
       "PlantUML version 1.2020.13(Sat Jun 13 12:26:38 UTC 2020)\n",
       "(EPL source distribution)\n",
       "Java Runtime: OpenJDK Runtime Environment\n",
       "JVM: OpenJDK 64-Bit Server VM\n",
       "Default Encoding: UTF-8\n",
       "Language: en\n",
       "Country: null\n",
       "--></g></svg>"
      ]
     },
     "execution_count": 20,
     "metadata": {},
     "output_type": "execute_result"
    }
   ],
   "source": [
    "%viz --style=\"LR\" --view=\"Action\" \"AliasTest\""
   ]
  },
  {
   "cell_type": "code",
   "execution_count": 21,
   "id": "impaired-anaheim",
   "metadata": {
    "execution": {
     "iopub.execute_input": "2021-03-25T14:10:02.849371Z",
     "iopub.status.busy": "2021-03-25T14:10:02.848789Z",
     "iopub.status.idle": "2021-03-25T14:10:03.420960Z",
     "shell.execute_reply": "2021-03-25T14:10:03.419369Z"
    }
   },
   "outputs": [
    {
     "data": {
      "image/svg+xml": [
       "<?xml version=\"1.0\" encoding=\"UTF-8\" standalone=\"no\"?><svg xmlns=\"http://www.w3.org/2000/svg\" xmlns:xlink=\"http://www.w3.org/1999/xlink\" contentScriptType=\"application/ecmascript\" contentStyleType=\"text/css\" height=\"268px\" preserveAspectRatio=\"none\" style=\"width:314px;height:268px;\" version=\"1.1\" viewBox=\"0 0 314 268\" width=\"314px\" zoomAndPan=\"magnify\"><defs/><g><!--MD5=[fbc87193dbaf4d95561dea2c320d4a47]\n",
       "cluster E1--><a href=\"psysml:e49964db-e340-4eba-a3a8-d7e4e465bce2\" target=\"_top\" title=\"psysml:e49964db-e340-4eba-a3a8-d7e4e465bce2\" xlink:actuate=\"onRequest\" xlink:href=\"psysml:e49964db-e340-4eba-a3a8-d7e4e465bce2\" xlink:show=\"new\" xlink:title=\"psysml:e49964db-e340-4eba-a3a8-d7e4e465bce2\" xlink:type=\"simple\"><polygon fill=\"#FFFFFF\" points=\"16,6,94,6,101,28.2969,292,28.2969,292,256,16,256,16,6\" style=\"stroke: #000000; stroke-width: 1.5;\"/><line style=\"stroke: #000000; stroke-width: 1.5;\" x1=\"16\" x2=\"101\" y1=\"28.2969\" y2=\"28.2969\"/><text fill=\"#000000\" font-family=\"sans-serif\" font-size=\"14\" font-weight=\"bold\" lengthAdjust=\"spacingAndGlyphs\" textLength=\"72\" x=\"20\" y=\"20.9951\">AliasTest</text></a><!--MD5=[b4997ac47864f28c2f74865a473b2911]\n",
       "class E2--><a href=\"psysml:c347ad09-22d6-4423-9bac-4dbac759901f\" target=\"_top\" title=\"psysml:c347ad09-22d6-4423-9bac-4dbac759901f\" xlink:actuate=\"onRequest\" xlink:href=\"psysml:c347ad09-22d6-4423-9bac-4dbac759901f\" xlink:show=\"new\" xlink:title=\"psysml:c347ad09-22d6-4423-9bac-4dbac759901f\" xlink:type=\"simple\"><rect fill=\"#FFFFFF\" height=\"75.5469\" id=\"E2\" style=\"stroke: #383838; stroke-width: 1.5;\" width=\"92\" x=\"184\" y=\"106\"/><text fill=\"#000000\" font-family=\"sans-serif\" font-size=\"12\" font-style=\"italic\" lengthAdjust=\"spacingAndGlyphs\" textLength=\"64\" x=\"198\" y=\"122.1387\">«part def»</text><text fill=\"#000000\" font-family=\"sans-serif\" font-size=\"12\" lengthAdjust=\"spacingAndGlyphs\" textLength=\"16\" x=\"222\" y=\"136.1074\">P1</text><line style=\"stroke: #383838; stroke-width: 1.5;\" x1=\"185\" x2=\"275\" y1=\"143.9375\" y2=\"143.9375\"/><text fill=\"#000000\" font-family=\"sans-serif\" font-size=\"11\" lengthAdjust=\"spacingAndGlyphs\" textLength=\"36\" x=\"190\" y=\"174.9526\">porig1</text><text fill=\"#000000\" font-family=\"sans-serif\" font-size=\"11\" font-weight=\"bold\" lengthAdjust=\"spacingAndGlyphs\" textLength=\"15\" x=\"230\" y=\"174.9526\">as</text><text fill=\"#000000\" font-family=\"sans-serif\" font-size=\"11\" lengthAdjust=\"spacingAndGlyphs\" textLength=\"21\" x=\"249\" y=\"174.9526\">po1</text><line style=\"stroke: #383838; stroke-width: 1.0;\" x1=\"185\" x2=\"215\" y1=\"158.3398\" y2=\"158.3398\"/><text fill=\"#000000\" font-family=\"sans-serif\" font-size=\"11\" lengthAdjust=\"spacingAndGlyphs\" textLength=\"30\" x=\"215\" y=\"161.6479\">ports</text><line style=\"stroke: #383838; stroke-width: 1.0;\" x1=\"245\" x2=\"275\" y1=\"158.3398\" y2=\"158.3398\"/></a><!--MD5=[ebbe1d658d1005bcc118a6aa81145e00]\n",
       "class E4--><a href=\"psysml:d449d8a1-a677-4f10-8ecb-a1ad1c680d6c\" target=\"_top\" title=\"psysml:d449d8a1-a677-4f10-8ecb-a1ad1c680d6c\" xlink:actuate=\"onRequest\" xlink:href=\"psysml:d449d8a1-a677-4f10-8ecb-a1ad1c680d6c\" xlink:show=\"new\" xlink:title=\"psysml:d449d8a1-a677-4f10-8ecb-a1ad1c680d6c\" xlink:type=\"simple\"><rect fill=\"#FFFFFF\" height=\"88.3516\" id=\"E4\" rx=\"10\" ry=\"10\" style=\"stroke: #383838; stroke-width: 1.5;\" width=\"92\" x=\"32\" y=\"41\"/><text fill=\"#000000\" font-family=\"sans-serif\" font-size=\"12\" font-style=\"italic\" lengthAdjust=\"spacingAndGlyphs\" textLength=\"40\" x=\"58\" y=\"57.1387\">«part»</text><text fill=\"#000000\" font-family=\"sans-serif\" font-size=\"12\" lengthAdjust=\"spacingAndGlyphs\" textLength=\"40\" x=\"58\" y=\"71.1074\">p1: P1</text><line style=\"stroke: #383838; stroke-width: 1.5;\" x1=\"33\" x2=\"123\" y1=\"78.9375\" y2=\"78.9375\"/><text fill=\"#000000\" font-family=\"sans-serif\" font-size=\"11\" lengthAdjust=\"spacingAndGlyphs\" textLength=\"21\" x=\"38\" y=\"109.9526\">po1</text><text fill=\"#000000\" font-family=\"sans-serif\" font-size=\"11\" font-style=\"italic\" lengthAdjust=\"spacingAndGlyphs\" textLength=\"80\" x=\"38\" y=\"122.7573\">:&gt;&gt;P1::porig1</text><line style=\"stroke: #383838; stroke-width: 1.0;\" x1=\"33\" x2=\"63\" y1=\"93.3398\" y2=\"93.3398\"/><text fill=\"#000000\" font-family=\"sans-serif\" font-size=\"11\" lengthAdjust=\"spacingAndGlyphs\" textLength=\"30\" x=\"63\" y=\"96.6479\">ports</text><line style=\"stroke: #383838; stroke-width: 1.0;\" x1=\"93\" x2=\"123\" y1=\"93.3398\" y2=\"93.3398\"/></a><!--MD5=[60a26617385b1d2d0262a64233df1f8d]\n",
       "class E6--><a href=\"psysml:32242b45-8d95-4b7d-97cb-8dd31296908f\" target=\"_top\" title=\"psysml:32242b45-8d95-4b7d-97cb-8dd31296908f\" xlink:actuate=\"onRequest\" xlink:href=\"psysml:32242b45-8d95-4b7d-97cb-8dd31296908f\" xlink:show=\"new\" xlink:title=\"psysml:32242b45-8d95-4b7d-97cb-8dd31296908f\" xlink:type=\"simple\"><rect fill=\"#FFFFFF\" height=\"75.5469\" id=\"E6\" rx=\"10\" ry=\"10\" style=\"stroke: #383838; stroke-width: 1.5;\" width=\"88\" x=\"34\" y=\"164\"/><text fill=\"#000000\" font-family=\"sans-serif\" font-size=\"12\" font-style=\"italic\" lengthAdjust=\"spacingAndGlyphs\" textLength=\"40\" x=\"58\" y=\"180.1387\">«part»</text><text fill=\"#000000\" font-family=\"sans-serif\" font-size=\"12\" lengthAdjust=\"spacingAndGlyphs\" textLength=\"40\" x=\"58\" y=\"194.1074\">p2: P1</text><line style=\"stroke: #383838; stroke-width: 1.5;\" x1=\"35\" x2=\"121\" y1=\"201.9375\" y2=\"201.9375\"/><text fill=\"#000000\" font-family=\"sans-serif\" font-size=\"11\" lengthAdjust=\"spacingAndGlyphs\" textLength=\"32\" x=\"40\" y=\"232.9526\">pdest</text><text fill=\"#000000\" font-family=\"sans-serif\" font-size=\"11\" font-weight=\"bold\" lengthAdjust=\"spacingAndGlyphs\" textLength=\"15\" x=\"76\" y=\"232.9526\">as</text><text fill=\"#000000\" font-family=\"sans-serif\" font-size=\"11\" lengthAdjust=\"spacingAndGlyphs\" textLength=\"21\" x=\"95\" y=\"232.9526\">pd1</text><line style=\"stroke: #383838; stroke-width: 1.0;\" x1=\"35\" x2=\"63\" y1=\"216.3398\" y2=\"216.3398\"/><text fill=\"#000000\" font-family=\"sans-serif\" font-size=\"11\" lengthAdjust=\"spacingAndGlyphs\" textLength=\"30\" x=\"63\" y=\"219.6479\">ports</text><line style=\"stroke: #383838; stroke-width: 1.0;\" x1=\"93\" x2=\"121\" y1=\"216.3398\" y2=\"216.3398\"/></a><!--MD5=[185131fc0dcab0a4505a2ebe144e961b]\n",
       "link E4 to E2--><a href=\"psysml:2d5875ca-6e79-47eb-af19-37e1c3e68f98\" target=\"_top\" title=\"psysml:2d5875ca-6e79-47eb-af19-37e1c3e68f98\" xlink:actuate=\"onRequest\" xlink:href=\"psysml:2d5875ca-6e79-47eb-af19-37e1c3e68f98\" xlink:show=\"new\" xlink:title=\"psysml:2d5875ca-6e79-47eb-af19-37e1c3e68f98\" xlink:type=\"simple\"><path d=\"M124,102.7 C136.85,107.75 151.1,113.36 164.85,118.77 \" fill=\"none\" id=\"E4-&gt;E2\" style=\"stroke: #383838; stroke-width: 1.0;\"/><polygon fill=\"#FFFFFF\" points=\"183.77,126.21,163.5265,125.763,168.6552,112.7362,183.77,126.21\" style=\"stroke: #383838; stroke-width: 1.0;\"/><ellipse cx=\"158.9554\" cy=\"121.8139\" fill=\"#383838\" rx=\"2\" ry=\"2\" style=\"stroke: #383838; stroke-width: 1.0;\"/><ellipse cx=\"162.6188\" cy=\"112.5091\" fill=\"#383838\" rx=\"2\" ry=\"2\" style=\"stroke: #383838; stroke-width: 1.0;\"/></a><!--MD5=[2351f337d6de0f557b50152ba70847b5]\n",
       "link E6 to E2--><a href=\"psysml:6438d4a2-0b71-4be8-b1f1-dcd907944303\" target=\"_top\" title=\"psysml:6438d4a2-0b71-4be8-b1f1-dcd907944303\" xlink:actuate=\"onRequest\" xlink:href=\"psysml:6438d4a2-0b71-4be8-b1f1-dcd907944303\" xlink:show=\"new\" xlink:title=\"psysml:6438d4a2-0b71-4be8-b1f1-dcd907944303\" xlink:type=\"simple\"><path d=\"M122.39,185.22 C135.65,180.09 150.53,174.34 164.87,168.8 \" fill=\"none\" id=\"E6-&gt;E2\" style=\"stroke: #383838; stroke-width: 1.0;\"/><polygon fill=\"#FFFFFF\" points=\"183.89,161.44,168.6933,174.8213,163.6441,161.7635,183.89,161.44\" style=\"stroke: #383838; stroke-width: 1.0;\"/><ellipse cx=\"162.6556\" cy=\"175.0116\" fill=\"#383838\" rx=\"2\" ry=\"2\" style=\"stroke: #383838; stroke-width: 1.0;\"/><ellipse cx=\"159.049\" cy=\"165.6846\" fill=\"#383838\" rx=\"2\" ry=\"2\" style=\"stroke: #383838; stroke-width: 1.0;\"/></a><!--MD5=[357615a360e4fdcc5675a69201358f82]\n",
       "@startuml\r\n",
       "left to right direction\r\n",
       "skinparam monochrome true\r\n",
       "skinparam classbackgroundcolor white\r\n",
       "skinparam shadowing false\r\n",
       "skinparam wrapWidth 300\r\n",
       "hide circle\r\n",
       "\r\n",
       "package \"AliasTest\" as E1  [[psysml:e49964db-e340-4eba-a3a8-d7e4e465bce2 ]]  {\r\n",
       "comp def \"P1\" as E2  <<(T,blue)part def>> [[psysml:c347ad09-22d6-4423-9bac-4dbac759901f ]] {\r\n",
       "- - ports - -\r\n",
       "porig1 <b>as</b> po1 \r\n",
       "}\r\n",
       "comp usage \"p1: P1\" as E4  <<(T,blue)part>> [[psysml:d449d8a1-a677-4f10-8ecb-a1ad1c680d6c ]] {\r\n",
       "- - ports - -\r\n",
       "po1\\n//:>>P1::porig1// \r\n",
       "}\r\n",
       "comp usage \"p2: P1\" as E6  <<(T,blue)part>> [[psysml:32242b45-8d95-4b7d-97cb-8dd31296908f ]] {\r\n",
       "- - ports - -\r\n",
       "pdest <b>as</b> pd1 \r\n",
       "}\r\n",
       "E4 - -:|> E2 [[psysml:2d5875ca-6e79-47eb-af19-37e1c3e68f98 ]] \r\n",
       "E6 - -:|> E2 [[psysml:6438d4a2-0b71-4be8-b1f1-dcd907944303 ]] \r\n",
       "}\r\n",
       "@enduml\r\n",
       "\n",
       "PlantUML version 1.2020.13(Sat Jun 13 12:26:38 UTC 2020)\n",
       "(EPL source distribution)\n",
       "Java Runtime: OpenJDK Runtime Environment\n",
       "JVM: OpenJDK 64-Bit Server VM\n",
       "Default Encoding: UTF-8\n",
       "Language: en\n",
       "Country: null\n",
       "--></g></svg>"
      ]
     },
     "execution_count": 21,
     "metadata": {},
     "output_type": "execute_result"
    }
   ],
   "source": [
    "%viz --style=\"LR\" --view=\"Sequence\" \"AliasTest\""
   ]
  },
  {
   "cell_type": "code",
   "execution_count": 22,
   "id": "moved-wheat",
   "metadata": {
    "execution": {
     "iopub.execute_input": "2021-03-25T14:10:03.473006Z",
     "iopub.status.busy": "2021-03-25T14:10:03.472358Z",
     "iopub.status.idle": "2021-03-25T14:10:04.041488Z",
     "shell.execute_reply": "2021-03-25T14:10:04.041922Z"
    }
   },
   "outputs": [
    {
     "data": {
      "image/svg+xml": [
       "<?xml version=\"1.0\" encoding=\"UTF-8\" standalone=\"no\"?><svg xmlns=\"http://www.w3.org/2000/svg\" xmlns:xlink=\"http://www.w3.org/1999/xlink\" contentScriptType=\"application/ecmascript\" contentStyleType=\"text/css\" height=\"268px\" preserveAspectRatio=\"none\" style=\"width:314px;height:268px;\" version=\"1.1\" viewBox=\"0 0 314 268\" width=\"314px\" zoomAndPan=\"magnify\"><defs/><g><!--MD5=[fbc87193dbaf4d95561dea2c320d4a47]\n",
       "cluster E1--><a href=\"psysml:e49964db-e340-4eba-a3a8-d7e4e465bce2\" target=\"_top\" title=\"psysml:e49964db-e340-4eba-a3a8-d7e4e465bce2\" xlink:actuate=\"onRequest\" xlink:href=\"psysml:e49964db-e340-4eba-a3a8-d7e4e465bce2\" xlink:show=\"new\" xlink:title=\"psysml:e49964db-e340-4eba-a3a8-d7e4e465bce2\" xlink:type=\"simple\"><polygon fill=\"#FFFFFF\" points=\"16,6,94,6,101,28.2969,292,28.2969,292,256,16,256,16,6\" style=\"stroke: #000000; stroke-width: 1.5;\"/><line style=\"stroke: #000000; stroke-width: 1.5;\" x1=\"16\" x2=\"101\" y1=\"28.2969\" y2=\"28.2969\"/><text fill=\"#000000\" font-family=\"sans-serif\" font-size=\"14\" font-weight=\"bold\" lengthAdjust=\"spacingAndGlyphs\" textLength=\"72\" x=\"20\" y=\"20.9951\">AliasTest</text></a><!--MD5=[b4997ac47864f28c2f74865a473b2911]\n",
       "class E2--><a href=\"psysml:c347ad09-22d6-4423-9bac-4dbac759901f\" target=\"_top\" title=\"psysml:c347ad09-22d6-4423-9bac-4dbac759901f\" xlink:actuate=\"onRequest\" xlink:href=\"psysml:c347ad09-22d6-4423-9bac-4dbac759901f\" xlink:show=\"new\" xlink:title=\"psysml:c347ad09-22d6-4423-9bac-4dbac759901f\" xlink:type=\"simple\"><rect fill=\"#FFFFFF\" height=\"75.5469\" id=\"E2\" style=\"stroke: #383838; stroke-width: 1.5;\" width=\"92\" x=\"184\" y=\"106\"/><text fill=\"#000000\" font-family=\"sans-serif\" font-size=\"12\" font-style=\"italic\" lengthAdjust=\"spacingAndGlyphs\" textLength=\"64\" x=\"198\" y=\"122.1387\">«part def»</text><text fill=\"#000000\" font-family=\"sans-serif\" font-size=\"12\" lengthAdjust=\"spacingAndGlyphs\" textLength=\"16\" x=\"222\" y=\"136.1074\">P1</text><line style=\"stroke: #383838; stroke-width: 1.5;\" x1=\"185\" x2=\"275\" y1=\"143.9375\" y2=\"143.9375\"/><text fill=\"#000000\" font-family=\"sans-serif\" font-size=\"11\" lengthAdjust=\"spacingAndGlyphs\" textLength=\"36\" x=\"190\" y=\"174.9526\">porig1</text><text fill=\"#000000\" font-family=\"sans-serif\" font-size=\"11\" font-weight=\"bold\" lengthAdjust=\"spacingAndGlyphs\" textLength=\"15\" x=\"230\" y=\"174.9526\">as</text><text fill=\"#000000\" font-family=\"sans-serif\" font-size=\"11\" lengthAdjust=\"spacingAndGlyphs\" textLength=\"21\" x=\"249\" y=\"174.9526\">po1</text><line style=\"stroke: #383838; stroke-width: 1.0;\" x1=\"185\" x2=\"215\" y1=\"158.3398\" y2=\"158.3398\"/><text fill=\"#000000\" font-family=\"sans-serif\" font-size=\"11\" lengthAdjust=\"spacingAndGlyphs\" textLength=\"30\" x=\"215\" y=\"161.6479\">ports</text><line style=\"stroke: #383838; stroke-width: 1.0;\" x1=\"245\" x2=\"275\" y1=\"158.3398\" y2=\"158.3398\"/></a><!--MD5=[ebbe1d658d1005bcc118a6aa81145e00]\n",
       "class E4--><a href=\"psysml:d449d8a1-a677-4f10-8ecb-a1ad1c680d6c\" target=\"_top\" title=\"psysml:d449d8a1-a677-4f10-8ecb-a1ad1c680d6c\" xlink:actuate=\"onRequest\" xlink:href=\"psysml:d449d8a1-a677-4f10-8ecb-a1ad1c680d6c\" xlink:show=\"new\" xlink:title=\"psysml:d449d8a1-a677-4f10-8ecb-a1ad1c680d6c\" xlink:type=\"simple\"><rect fill=\"#FFFFFF\" height=\"88.3516\" id=\"E4\" rx=\"10\" ry=\"10\" style=\"stroke: #383838; stroke-width: 1.5;\" width=\"92\" x=\"32\" y=\"41\"/><text fill=\"#000000\" font-family=\"sans-serif\" font-size=\"12\" font-style=\"italic\" lengthAdjust=\"spacingAndGlyphs\" textLength=\"40\" x=\"58\" y=\"57.1387\">«part»</text><text fill=\"#000000\" font-family=\"sans-serif\" font-size=\"12\" lengthAdjust=\"spacingAndGlyphs\" textLength=\"40\" x=\"58\" y=\"71.1074\">p1: P1</text><line style=\"stroke: #383838; stroke-width: 1.5;\" x1=\"33\" x2=\"123\" y1=\"78.9375\" y2=\"78.9375\"/><text fill=\"#000000\" font-family=\"sans-serif\" font-size=\"11\" lengthAdjust=\"spacingAndGlyphs\" textLength=\"21\" x=\"38\" y=\"109.9526\">po1</text><text fill=\"#000000\" font-family=\"sans-serif\" font-size=\"11\" font-style=\"italic\" lengthAdjust=\"spacingAndGlyphs\" textLength=\"80\" x=\"38\" y=\"122.7573\">:&gt;&gt;P1::porig1</text><line style=\"stroke: #383838; stroke-width: 1.0;\" x1=\"33\" x2=\"63\" y1=\"93.3398\" y2=\"93.3398\"/><text fill=\"#000000\" font-family=\"sans-serif\" font-size=\"11\" lengthAdjust=\"spacingAndGlyphs\" textLength=\"30\" x=\"63\" y=\"96.6479\">ports</text><line style=\"stroke: #383838; stroke-width: 1.0;\" x1=\"93\" x2=\"123\" y1=\"93.3398\" y2=\"93.3398\"/></a><!--MD5=[60a26617385b1d2d0262a64233df1f8d]\n",
       "class E6--><a href=\"psysml:32242b45-8d95-4b7d-97cb-8dd31296908f\" target=\"_top\" title=\"psysml:32242b45-8d95-4b7d-97cb-8dd31296908f\" xlink:actuate=\"onRequest\" xlink:href=\"psysml:32242b45-8d95-4b7d-97cb-8dd31296908f\" xlink:show=\"new\" xlink:title=\"psysml:32242b45-8d95-4b7d-97cb-8dd31296908f\" xlink:type=\"simple\"><rect fill=\"#FFFFFF\" height=\"75.5469\" id=\"E6\" rx=\"10\" ry=\"10\" style=\"stroke: #383838; stroke-width: 1.5;\" width=\"88\" x=\"34\" y=\"164\"/><text fill=\"#000000\" font-family=\"sans-serif\" font-size=\"12\" font-style=\"italic\" lengthAdjust=\"spacingAndGlyphs\" textLength=\"40\" x=\"58\" y=\"180.1387\">«part»</text><text fill=\"#000000\" font-family=\"sans-serif\" font-size=\"12\" lengthAdjust=\"spacingAndGlyphs\" textLength=\"40\" x=\"58\" y=\"194.1074\">p2: P1</text><line style=\"stroke: #383838; stroke-width: 1.5;\" x1=\"35\" x2=\"121\" y1=\"201.9375\" y2=\"201.9375\"/><text fill=\"#000000\" font-family=\"sans-serif\" font-size=\"11\" lengthAdjust=\"spacingAndGlyphs\" textLength=\"32\" x=\"40\" y=\"232.9526\">pdest</text><text fill=\"#000000\" font-family=\"sans-serif\" font-size=\"11\" font-weight=\"bold\" lengthAdjust=\"spacingAndGlyphs\" textLength=\"15\" x=\"76\" y=\"232.9526\">as</text><text fill=\"#000000\" font-family=\"sans-serif\" font-size=\"11\" lengthAdjust=\"spacingAndGlyphs\" textLength=\"21\" x=\"95\" y=\"232.9526\">pd1</text><line style=\"stroke: #383838; stroke-width: 1.0;\" x1=\"35\" x2=\"63\" y1=\"216.3398\" y2=\"216.3398\"/><text fill=\"#000000\" font-family=\"sans-serif\" font-size=\"11\" lengthAdjust=\"spacingAndGlyphs\" textLength=\"30\" x=\"63\" y=\"219.6479\">ports</text><line style=\"stroke: #383838; stroke-width: 1.0;\" x1=\"93\" x2=\"121\" y1=\"216.3398\" y2=\"216.3398\"/></a><!--MD5=[185131fc0dcab0a4505a2ebe144e961b]\n",
       "link E4 to E2--><a href=\"psysml:2d5875ca-6e79-47eb-af19-37e1c3e68f98\" target=\"_top\" title=\"psysml:2d5875ca-6e79-47eb-af19-37e1c3e68f98\" xlink:actuate=\"onRequest\" xlink:href=\"psysml:2d5875ca-6e79-47eb-af19-37e1c3e68f98\" xlink:show=\"new\" xlink:title=\"psysml:2d5875ca-6e79-47eb-af19-37e1c3e68f98\" xlink:type=\"simple\"><path d=\"M124,102.7 C136.85,107.75 151.1,113.36 164.85,118.77 \" fill=\"none\" id=\"E4-&gt;E2\" style=\"stroke: #383838; stroke-width: 1.0;\"/><polygon fill=\"#FFFFFF\" points=\"183.77,126.21,163.5265,125.763,168.6552,112.7362,183.77,126.21\" style=\"stroke: #383838; stroke-width: 1.0;\"/><ellipse cx=\"158.9554\" cy=\"121.8139\" fill=\"#383838\" rx=\"2\" ry=\"2\" style=\"stroke: #383838; stroke-width: 1.0;\"/><ellipse cx=\"162.6188\" cy=\"112.5091\" fill=\"#383838\" rx=\"2\" ry=\"2\" style=\"stroke: #383838; stroke-width: 1.0;\"/></a><!--MD5=[2351f337d6de0f557b50152ba70847b5]\n",
       "link E6 to E2--><a href=\"psysml:6438d4a2-0b71-4be8-b1f1-dcd907944303\" target=\"_top\" title=\"psysml:6438d4a2-0b71-4be8-b1f1-dcd907944303\" xlink:actuate=\"onRequest\" xlink:href=\"psysml:6438d4a2-0b71-4be8-b1f1-dcd907944303\" xlink:show=\"new\" xlink:title=\"psysml:6438d4a2-0b71-4be8-b1f1-dcd907944303\" xlink:type=\"simple\"><path d=\"M122.39,185.22 C135.65,180.09 150.53,174.34 164.87,168.8 \" fill=\"none\" id=\"E6-&gt;E2\" style=\"stroke: #383838; stroke-width: 1.0;\"/><polygon fill=\"#FFFFFF\" points=\"183.89,161.44,168.6933,174.8213,163.6441,161.7635,183.89,161.44\" style=\"stroke: #383838; stroke-width: 1.0;\"/><ellipse cx=\"162.6556\" cy=\"175.0116\" fill=\"#383838\" rx=\"2\" ry=\"2\" style=\"stroke: #383838; stroke-width: 1.0;\"/><ellipse cx=\"159.049\" cy=\"165.6846\" fill=\"#383838\" rx=\"2\" ry=\"2\" style=\"stroke: #383838; stroke-width: 1.0;\"/></a><!--MD5=[357615a360e4fdcc5675a69201358f82]\n",
       "@startuml\r\n",
       "left to right direction\r\n",
       "skinparam monochrome true\r\n",
       "skinparam classbackgroundcolor white\r\n",
       "skinparam shadowing false\r\n",
       "skinparam wrapWidth 300\r\n",
       "hide circle\r\n",
       "\r\n",
       "package \"AliasTest\" as E1  [[psysml:e49964db-e340-4eba-a3a8-d7e4e465bce2 ]]  {\r\n",
       "comp def \"P1\" as E2  <<(T,blue)part def>> [[psysml:c347ad09-22d6-4423-9bac-4dbac759901f ]] {\r\n",
       "- - ports - -\r\n",
       "porig1 <b>as</b> po1 \r\n",
       "}\r\n",
       "comp usage \"p1: P1\" as E4  <<(T,blue)part>> [[psysml:d449d8a1-a677-4f10-8ecb-a1ad1c680d6c ]] {\r\n",
       "- - ports - -\r\n",
       "po1\\n//:>>P1::porig1// \r\n",
       "}\r\n",
       "comp usage \"p2: P1\" as E6  <<(T,blue)part>> [[psysml:32242b45-8d95-4b7d-97cb-8dd31296908f ]] {\r\n",
       "- - ports - -\r\n",
       "pdest <b>as</b> pd1 \r\n",
       "}\r\n",
       "E4 - -:|> E2 [[psysml:2d5875ca-6e79-47eb-af19-37e1c3e68f98 ]] \r\n",
       "E6 - -:|> E2 [[psysml:6438d4a2-0b71-4be8-b1f1-dcd907944303 ]] \r\n",
       "}\r\n",
       "@enduml\r\n",
       "\n",
       "PlantUML version 1.2020.13(Sat Jun 13 12:26:38 UTC 2020)\n",
       "(EPL source distribution)\n",
       "Java Runtime: OpenJDK Runtime Environment\n",
       "JVM: OpenJDK 64-Bit Server VM\n",
       "Default Encoding: UTF-8\n",
       "Language: en\n",
       "Country: null\n",
       "--></g></svg>"
      ]
     },
     "execution_count": 22,
     "metadata": {},
     "output_type": "execute_result"
    }
   ],
   "source": [
    "%viz --style=\"LR\" --view=\"MIXED\" \"AliasTest\""
   ]
  },
  {
   "cell_type": "code",
   "execution_count": 23,
   "id": "fatal-swiss",
   "metadata": {
    "execution": {
     "iopub.execute_input": "2021-03-25T14:10:04.093211Z",
     "iopub.status.busy": "2021-03-25T14:10:04.092587Z",
     "iopub.status.idle": "2021-03-25T14:10:04.641694Z",
     "shell.execute_reply": "2021-03-25T14:10:04.640159Z"
    }
   },
   "outputs": [
    {
     "data": {
      "image/svg+xml": [
       "<?xml version=\"1.0\" encoding=\"UTF-8\" standalone=\"no\"?><svg xmlns=\"http://www.w3.org/2000/svg\" xmlns:xlink=\"http://www.w3.org/1999/xlink\" contentScriptType=\"application/ecmascript\" contentStyleType=\"text/css\" height=\"281px\" preserveAspectRatio=\"none\" style=\"width:305px;height:281px;\" version=\"1.1\" viewBox=\"0 0 305 281\" width=\"305px\" zoomAndPan=\"magnify\"><defs><filter height=\"300%\" id=\"f15yrls6c9604q\" width=\"300%\" x=\"-1\" y=\"-1\"><feGaussianBlur result=\"blurOut\" stdDeviation=\"2.0\"/><feColorMatrix in=\"blurOut\" result=\"blurOut2\" type=\"matrix\" values=\"0 0 0 0 0 0 0 0 0 0 0 0 0 0 0 0 0 0 .4 0\"/><feOffset dx=\"4.0\" dy=\"4.0\" in=\"blurOut2\" result=\"blurOut3\"/><feBlend in=\"SourceGraphic\" in2=\"blurOut3\" mode=\"normal\"/></filter></defs><g><!--MD5=[fbc87193dbaf4d95561dea2c320d4a47]\n",
       "cluster E1--><a href=\"psysml:e49964db-e340-4eba-a3a8-d7e4e465bce2\" target=\"_top\" title=\"psysml:e49964db-e340-4eba-a3a8-d7e4e465bce2\" xlink:actuate=\"onRequest\" xlink:href=\"psysml:e49964db-e340-4eba-a3a8-d7e4e465bce2\" xlink:show=\"new\" xlink:title=\"psysml:e49964db-e340-4eba-a3a8-d7e4e465bce2\" xlink:type=\"simple\"><polygon fill=\"#FFFFFF\" filter=\"url(#f15yrls6c9604q)\" points=\"16,6,94,6,101,28.2969,283,28.2969,283,269,16,269,16,6\" style=\"stroke: #000000; stroke-width: 1.5;\"/><line style=\"stroke: #000000; stroke-width: 1.5;\" x1=\"16\" x2=\"101\" y1=\"28.2969\" y2=\"28.2969\"/><text fill=\"#000000\" font-family=\"sans-serif\" font-size=\"14\" font-weight=\"bold\" lengthAdjust=\"spacingAndGlyphs\" textLength=\"72\" x=\"20\" y=\"20.9951\">AliasTest</text></a><!--MD5=[b4997ac47864f28c2f74865a473b2911]\n",
       "class E2--><a href=\"psysml:c347ad09-22d6-4423-9bac-4dbac759901f\" target=\"_top\" title=\"psysml:c347ad09-22d6-4423-9bac-4dbac759901f\" xlink:actuate=\"onRequest\" xlink:href=\"psysml:c347ad09-22d6-4423-9bac-4dbac759901f\" xlink:show=\"new\" xlink:title=\"psysml:c347ad09-22d6-4423-9bac-4dbac759901f\" xlink:type=\"simple\"><rect fill=\"#FEFECE\" filter=\"url(#f15yrls6c9604q)\" height=\"75.5469\" id=\"E2\" style=\"stroke: #A80036; stroke-width: 1.5;\" width=\"92\" x=\"98\" y=\"177\"/><text fill=\"#000000\" font-family=\"sans-serif\" font-size=\"12\" font-style=\"italic\" lengthAdjust=\"spacingAndGlyphs\" textLength=\"64\" x=\"112\" y=\"193.1387\">«part def»</text><text fill=\"#000000\" font-family=\"sans-serif\" font-size=\"12\" lengthAdjust=\"spacingAndGlyphs\" textLength=\"16\" x=\"136\" y=\"207.1074\">P1</text><line style=\"stroke: #A80036; stroke-width: 1.5;\" x1=\"99\" x2=\"189\" y1=\"214.9375\" y2=\"214.9375\"/><text fill=\"#000000\" font-family=\"sans-serif\" font-size=\"11\" lengthAdjust=\"spacingAndGlyphs\" textLength=\"36\" x=\"104\" y=\"245.9526\">porig1</text><text fill=\"#000000\" font-family=\"sans-serif\" font-size=\"11\" font-weight=\"bold\" lengthAdjust=\"spacingAndGlyphs\" textLength=\"15\" x=\"144\" y=\"245.9526\">as</text><text fill=\"#000000\" font-family=\"sans-serif\" font-size=\"11\" lengthAdjust=\"spacingAndGlyphs\" textLength=\"21\" x=\"163\" y=\"245.9526\">po1</text><line style=\"stroke: #A80036; stroke-width: 1.0;\" x1=\"99\" x2=\"129\" y1=\"229.3398\" y2=\"229.3398\"/><text fill=\"#000000\" font-family=\"sans-serif\" font-size=\"11\" lengthAdjust=\"spacingAndGlyphs\" textLength=\"30\" x=\"129\" y=\"232.6479\">ports</text><line style=\"stroke: #A80036; stroke-width: 1.0;\" x1=\"159\" x2=\"189\" y1=\"229.3398\" y2=\"229.3398\"/></a><!--MD5=[ebbe1d658d1005bcc118a6aa81145e00]\n",
       "class E4--><a href=\"psysml:d449d8a1-a677-4f10-8ecb-a1ad1c680d6c\" target=\"_top\" title=\"psysml:d449d8a1-a677-4f10-8ecb-a1ad1c680d6c\" xlink:actuate=\"onRequest\" xlink:href=\"psysml:d449d8a1-a677-4f10-8ecb-a1ad1c680d6c\" xlink:show=\"new\" xlink:title=\"psysml:d449d8a1-a677-4f10-8ecb-a1ad1c680d6c\" xlink:type=\"simple\"><rect fill=\"#FEFECE\" filter=\"url(#f15yrls6c9604q)\" height=\"76.4922\" id=\"E4\" rx=\"10\" ry=\"10\" style=\"stroke: #A80036; stroke-width: 1.5;\" width=\"112\" x=\"155\" y=\"41\"/><text fill=\"#000000\" font-family=\"sans-serif\" font-size=\"12\" font-style=\"italic\" lengthAdjust=\"spacingAndGlyphs\" textLength=\"40\" x=\"191\" y=\"57.1387\">«part»</text><text fill=\"#000000\" font-family=\"sans-serif\" font-size=\"12\" lengthAdjust=\"spacingAndGlyphs\" textLength=\"40\" x=\"191\" y=\"71.1074\">p1: P1</text><line style=\"stroke: #A80036; stroke-width: 1.5;\" x1=\"156\" x2=\"266\" y1=\"78.9375\" y2=\"78.9375\"/><path d=\"M162.9167,100.6589 L162.9167,109.8255 L163.8333,109.8255 L163.8333,100.6589 M166.5833,100.6589 L166.5833,109.8255 L173.9167,105.2422 L166.5833,100.6589 L167.5,102.0339 L172.5417,105.2422 L167.5,108.4505 L167.5,102.0339 \" fill=\"#000000\" style=\"stroke: ; stroke-width: 0.0; stroke-dasharray: ;\"/><text fill=\"#000000\" font-family=\"sans-serif\" font-size=\"11\" lengthAdjust=\"spacingAndGlyphs\" textLength=\"21\" x=\"178\" y=\"110.8979\">po1</text><text fill=\"#000000\" font-family=\"sans-serif\" font-size=\"11\" lengthAdjust=\"spacingAndGlyphs\" text-decoration=\"line-through\" textLength=\"58\" x=\"203\" y=\"110.8979\">P1::porig1</text><line style=\"stroke: #A80036; stroke-width: 1.0;\" x1=\"156\" x2=\"196\" y1=\"93.3398\" y2=\"93.3398\"/><text fill=\"#000000\" font-family=\"sans-serif\" font-size=\"11\" lengthAdjust=\"spacingAndGlyphs\" textLength=\"30\" x=\"196\" y=\"96.6479\">ports</text><line style=\"stroke: #A80036; stroke-width: 1.0;\" x1=\"226\" x2=\"266\" y1=\"93.3398\" y2=\"93.3398\"/></a><!--MD5=[60a26617385b1d2d0262a64233df1f8d]\n",
       "class E6--><a href=\"psysml:32242b45-8d95-4b7d-97cb-8dd31296908f\" target=\"_top\" title=\"psysml:32242b45-8d95-4b7d-97cb-8dd31296908f\" xlink:actuate=\"onRequest\" xlink:href=\"psysml:32242b45-8d95-4b7d-97cb-8dd31296908f\" xlink:show=\"new\" xlink:title=\"psysml:32242b45-8d95-4b7d-97cb-8dd31296908f\" xlink:type=\"simple\"><rect fill=\"#FEFECE\" filter=\"url(#f15yrls6c9604q)\" height=\"75.5469\" id=\"E6\" rx=\"10\" ry=\"10\" style=\"stroke: #A80036; stroke-width: 1.5;\" width=\"88\" x=\"32\" y=\"41\"/><text fill=\"#000000\" font-family=\"sans-serif\" font-size=\"12\" font-style=\"italic\" lengthAdjust=\"spacingAndGlyphs\" textLength=\"40\" x=\"56\" y=\"57.1387\">«part»</text><text fill=\"#000000\" font-family=\"sans-serif\" font-size=\"12\" lengthAdjust=\"spacingAndGlyphs\" textLength=\"40\" x=\"56\" y=\"71.1074\">p2: P1</text><line style=\"stroke: #A80036; stroke-width: 1.5;\" x1=\"33\" x2=\"119\" y1=\"78.9375\" y2=\"78.9375\"/><text fill=\"#000000\" font-family=\"sans-serif\" font-size=\"11\" lengthAdjust=\"spacingAndGlyphs\" textLength=\"32\" x=\"38\" y=\"109.9526\">pdest</text><text fill=\"#000000\" font-family=\"sans-serif\" font-size=\"11\" font-weight=\"bold\" lengthAdjust=\"spacingAndGlyphs\" textLength=\"15\" x=\"74\" y=\"109.9526\">as</text><text fill=\"#000000\" font-family=\"sans-serif\" font-size=\"11\" lengthAdjust=\"spacingAndGlyphs\" textLength=\"21\" x=\"93\" y=\"109.9526\">pd1</text><line style=\"stroke: #A80036; stroke-width: 1.0;\" x1=\"33\" x2=\"61\" y1=\"93.3398\" y2=\"93.3398\"/><text fill=\"#000000\" font-family=\"sans-serif\" font-size=\"11\" lengthAdjust=\"spacingAndGlyphs\" textLength=\"30\" x=\"61\" y=\"96.6479\">ports</text><line style=\"stroke: #A80036; stroke-width: 1.0;\" x1=\"91\" x2=\"119\" y1=\"93.3398\" y2=\"93.3398\"/></a><!--MD5=[185131fc0dcab0a4505a2ebe144e961b]\n",
       "link E4 to E2--><a href=\"psysml:2d5875ca-6e79-47eb-af19-37e1c3e68f98\" target=\"_top\" title=\"psysml:2d5875ca-6e79-47eb-af19-37e1c3e68f98\" xlink:actuate=\"onRequest\" xlink:href=\"psysml:2d5875ca-6e79-47eb-af19-37e1c3e68f98\" xlink:show=\"new\" xlink:title=\"psysml:2d5875ca-6e79-47eb-af19-37e1c3e68f98\" xlink:type=\"simple\"><path d=\"M192.34,117.33 C185.95,130.1 178.66,144.69 171.71,158.58 \" fill=\"none\" id=\"E4-&gt;E2\" style=\"stroke: #A80036; stroke-width: 1.0;\"/><polygon fill=\"#FFFFFF\" points=\"162.56,176.87,164.8089,156.7468,177.3269,163.0158,162.56,176.87\" style=\"stroke: #A80036; stroke-width: 1.0;\"/><ellipse cx=\"169.1496\" cy=\"152.5458\" fill=\"#A80036\" rx=\"2\" ry=\"2\" style=\"stroke: #A80036; stroke-width: 1.0;\"/><ellipse cx=\"178.091\" cy=\"157.0236\" fill=\"#A80036\" rx=\"2\" ry=\"2\" style=\"stroke: #A80036; stroke-width: 1.0;\"/></a><!--MD5=[2351f337d6de0f557b50152ba70847b5]\n",
       "link E6 to E2--><a href=\"psysml:6438d4a2-0b71-4be8-b1f1-dcd907944303\" target=\"_top\" title=\"psysml:6438d4a2-0b71-4be8-b1f1-dcd907944303\" xlink:actuate=\"onRequest\" xlink:href=\"psysml:6438d4a2-0b71-4be8-b1f1-dcd907944303\" xlink:show=\"new\" xlink:title=\"psysml:6438d4a2-0b71-4be8-b1f1-dcd907944303\" xlink:type=\"simple\"><path d=\"M94.94,117.33 C101.43,130.1 108.83,144.69 115.88,158.58 \" fill=\"none\" id=\"E6-&gt;E2\" style=\"stroke: #A80036; stroke-width: 1.0;\"/><polygon fill=\"#FFFFFF\" points=\"125.16,176.87,110.3137,163.101,122.7954,156.7601,125.16,176.87\" style=\"stroke: #A80036; stroke-width: 1.0;\"/><ellipse cx=\"109.5151\" cy=\"157.1133\" fill=\"#A80036\" rx=\"2\" ry=\"2\" style=\"stroke: #A80036; stroke-width: 1.0;\"/><ellipse cx=\"118.4306\" cy=\"152.5841\" fill=\"#A80036\" rx=\"2\" ry=\"2\" style=\"stroke: #A80036; stroke-width: 1.0;\"/></a><!--MD5=[3040418f5990af7ce14c1014160c330c]\n",
       "@startuml\r\n",
       "skinparam wrapWidth 300\r\n",
       "hide circle\r\n",
       "\r\n",
       "package \"AliasTest\" as E1  [[psysml:e49964db-e340-4eba-a3a8-d7e4e465bce2 ]]  {\r\n",
       "comp def \"P1\" as E2  <<(T,blue)part def>> [[psysml:c347ad09-22d6-4423-9bac-4dbac759901f ]] {\r\n",
       "- - ports - -\r\n",
       "porig1 <b>as</b> po1 \r\n",
       "}\r\n",
       "comp usage \"p1: P1\" as E4  <<(T,blue)part>> [[psysml:d449d8a1-a677-4f10-8ecb-a1ad1c680d6c ]] {\r\n",
       "- - ports - -\r\n",
       "<&bar-trig> po1 <s>P1::porig1</s>\r\n",
       "}\r\n",
       "comp usage \"p2: P1\" as E6  <<(T,blue)part>> [[psysml:32242b45-8d95-4b7d-97cb-8dd31296908f ]] {\r\n",
       "- - ports - -\r\n",
       "pdest <b>as</b> pd1 \r\n",
       "}\r\n",
       "E4 - -:|> E2 [[psysml:2d5875ca-6e79-47eb-af19-37e1c3e68f98 ]] \r\n",
       "E6 - -:|> E2 [[psysml:6438d4a2-0b71-4be8-b1f1-dcd907944303 ]] \r\n",
       "}\r\n",
       "@enduml\r\n",
       "\n",
       "PlantUML version 1.2020.13(Sat Jun 13 12:26:38 UTC 2020)\n",
       "(EPL source distribution)\n",
       "Java Runtime: OpenJDK Runtime Environment\n",
       "JVM: OpenJDK 64-Bit Server VM\n",
       "Default Encoding: UTF-8\n",
       "Language: en\n",
       "Country: null\n",
       "--></g></svg>"
      ]
     },
     "execution_count": 23,
     "metadata": {},
     "output_type": "execute_result"
    }
   ],
   "source": [
    "%viz --style=\"STDCOLOR\" --view=\"Default\" \"AliasTest\""
   ]
  },
  {
   "cell_type": "code",
   "execution_count": 24,
   "id": "acquired-cemetery",
   "metadata": {
    "execution": {
     "iopub.execute_input": "2021-03-25T14:10:04.693725Z",
     "iopub.status.busy": "2021-03-25T14:10:04.692826Z",
     "iopub.status.idle": "2021-03-25T14:10:05.265619Z",
     "shell.execute_reply": "2021-03-25T14:10:05.264377Z"
    }
   },
   "outputs": [
    {
     "data": {
      "image/svg+xml": [
       "<?xml version=\"1.0\" encoding=\"UTF-8\" standalone=\"no\"?><svg xmlns=\"http://www.w3.org/2000/svg\" xmlns:xlink=\"http://www.w3.org/1999/xlink\" contentScriptType=\"application/ecmascript\" contentStyleType=\"text/css\" height=\"281px\" preserveAspectRatio=\"none\" style=\"width:305px;height:281px;\" version=\"1.1\" viewBox=\"0 0 305 281\" width=\"305px\" zoomAndPan=\"magnify\"><defs><filter height=\"300%\" id=\"f15yrls6c9604q\" width=\"300%\" x=\"-1\" y=\"-1\"><feGaussianBlur result=\"blurOut\" stdDeviation=\"2.0\"/><feColorMatrix in=\"blurOut\" result=\"blurOut2\" type=\"matrix\" values=\"0 0 0 0 0 0 0 0 0 0 0 0 0 0 0 0 0 0 .4 0\"/><feOffset dx=\"4.0\" dy=\"4.0\" in=\"blurOut2\" result=\"blurOut3\"/><feBlend in=\"SourceGraphic\" in2=\"blurOut3\" mode=\"normal\"/></filter></defs><g><!--MD5=[fbc87193dbaf4d95561dea2c320d4a47]\n",
       "cluster E1--><a href=\"psysml:e49964db-e340-4eba-a3a8-d7e4e465bce2\" target=\"_top\" title=\"psysml:e49964db-e340-4eba-a3a8-d7e4e465bce2\" xlink:actuate=\"onRequest\" xlink:href=\"psysml:e49964db-e340-4eba-a3a8-d7e4e465bce2\" xlink:show=\"new\" xlink:title=\"psysml:e49964db-e340-4eba-a3a8-d7e4e465bce2\" xlink:type=\"simple\"><polygon fill=\"#FFFFFF\" filter=\"url(#f15yrls6c9604q)\" points=\"16,6,94,6,101,28.2969,283,28.2969,283,269,16,269,16,6\" style=\"stroke: #000000; stroke-width: 1.5;\"/><line style=\"stroke: #000000; stroke-width: 1.5;\" x1=\"16\" x2=\"101\" y1=\"28.2969\" y2=\"28.2969\"/><text fill=\"#000000\" font-family=\"sans-serif\" font-size=\"14\" font-weight=\"bold\" lengthAdjust=\"spacingAndGlyphs\" textLength=\"72\" x=\"20\" y=\"20.9951\">AliasTest</text></a><!--MD5=[b4997ac47864f28c2f74865a473b2911]\n",
       "class E2--><a href=\"psysml:c347ad09-22d6-4423-9bac-4dbac759901f\" target=\"_top\" title=\"psysml:c347ad09-22d6-4423-9bac-4dbac759901f\" xlink:actuate=\"onRequest\" xlink:href=\"psysml:c347ad09-22d6-4423-9bac-4dbac759901f\" xlink:show=\"new\" xlink:title=\"psysml:c347ad09-22d6-4423-9bac-4dbac759901f\" xlink:type=\"simple\"><rect fill=\"#FEFECE\" filter=\"url(#f15yrls6c9604q)\" height=\"75.5469\" id=\"E2\" style=\"stroke: #A80036; stroke-width: 1.5;\" width=\"92\" x=\"98\" y=\"177\"/><text fill=\"#000000\" font-family=\"sans-serif\" font-size=\"12\" font-style=\"italic\" lengthAdjust=\"spacingAndGlyphs\" textLength=\"64\" x=\"112\" y=\"193.1387\">«part def»</text><text fill=\"#000000\" font-family=\"sans-serif\" font-size=\"12\" lengthAdjust=\"spacingAndGlyphs\" textLength=\"16\" x=\"136\" y=\"207.1074\">P1</text><line style=\"stroke: #A80036; stroke-width: 1.5;\" x1=\"99\" x2=\"189\" y1=\"214.9375\" y2=\"214.9375\"/><text fill=\"#000000\" font-family=\"sans-serif\" font-size=\"11\" lengthAdjust=\"spacingAndGlyphs\" textLength=\"36\" x=\"104\" y=\"245.9526\">porig1</text><text fill=\"#000000\" font-family=\"sans-serif\" font-size=\"11\" font-weight=\"bold\" lengthAdjust=\"spacingAndGlyphs\" textLength=\"15\" x=\"144\" y=\"245.9526\">as</text><text fill=\"#000000\" font-family=\"sans-serif\" font-size=\"11\" lengthAdjust=\"spacingAndGlyphs\" textLength=\"21\" x=\"163\" y=\"245.9526\">po1</text><line style=\"stroke: #A80036; stroke-width: 1.0;\" x1=\"99\" x2=\"129\" y1=\"229.3398\" y2=\"229.3398\"/><text fill=\"#000000\" font-family=\"sans-serif\" font-size=\"11\" lengthAdjust=\"spacingAndGlyphs\" textLength=\"30\" x=\"129\" y=\"232.6479\">ports</text><line style=\"stroke: #A80036; stroke-width: 1.0;\" x1=\"159\" x2=\"189\" y1=\"229.3398\" y2=\"229.3398\"/></a><!--MD5=[ebbe1d658d1005bcc118a6aa81145e00]\n",
       "class E4--><a href=\"psysml:d449d8a1-a677-4f10-8ecb-a1ad1c680d6c\" target=\"_top\" title=\"psysml:d449d8a1-a677-4f10-8ecb-a1ad1c680d6c\" xlink:actuate=\"onRequest\" xlink:href=\"psysml:d449d8a1-a677-4f10-8ecb-a1ad1c680d6c\" xlink:show=\"new\" xlink:title=\"psysml:d449d8a1-a677-4f10-8ecb-a1ad1c680d6c\" xlink:type=\"simple\"><rect fill=\"#FEFECE\" filter=\"url(#f15yrls6c9604q)\" height=\"76.4922\" id=\"E4\" rx=\"10\" ry=\"10\" style=\"stroke: #A80036; stroke-width: 1.5;\" width=\"112\" x=\"155\" y=\"41\"/><text fill=\"#000000\" font-family=\"sans-serif\" font-size=\"12\" font-style=\"italic\" lengthAdjust=\"spacingAndGlyphs\" textLength=\"40\" x=\"191\" y=\"57.1387\">«part»</text><text fill=\"#000000\" font-family=\"sans-serif\" font-size=\"12\" lengthAdjust=\"spacingAndGlyphs\" textLength=\"40\" x=\"191\" y=\"71.1074\">p1: P1</text><line style=\"stroke: #A80036; stroke-width: 1.5;\" x1=\"156\" x2=\"266\" y1=\"78.9375\" y2=\"78.9375\"/><path d=\"M162.9167,100.6589 L162.9167,109.8255 L163.8333,109.8255 L163.8333,100.6589 M166.5833,100.6589 L166.5833,109.8255 L173.9167,105.2422 L166.5833,100.6589 L167.5,102.0339 L172.5417,105.2422 L167.5,108.4505 L167.5,102.0339 \" fill=\"#000000\" style=\"stroke: ; stroke-width: 0.0; stroke-dasharray: ;\"/><text fill=\"#000000\" font-family=\"sans-serif\" font-size=\"11\" lengthAdjust=\"spacingAndGlyphs\" textLength=\"21\" x=\"178\" y=\"110.8979\">po1</text><text fill=\"#000000\" font-family=\"sans-serif\" font-size=\"11\" lengthAdjust=\"spacingAndGlyphs\" text-decoration=\"line-through\" textLength=\"58\" x=\"203\" y=\"110.8979\">P1::porig1</text><line style=\"stroke: #A80036; stroke-width: 1.0;\" x1=\"156\" x2=\"196\" y1=\"93.3398\" y2=\"93.3398\"/><text fill=\"#000000\" font-family=\"sans-serif\" font-size=\"11\" lengthAdjust=\"spacingAndGlyphs\" textLength=\"30\" x=\"196\" y=\"96.6479\">ports</text><line style=\"stroke: #A80036; stroke-width: 1.0;\" x1=\"226\" x2=\"266\" y1=\"93.3398\" y2=\"93.3398\"/></a><!--MD5=[60a26617385b1d2d0262a64233df1f8d]\n",
       "class E6--><a href=\"psysml:32242b45-8d95-4b7d-97cb-8dd31296908f\" target=\"_top\" title=\"psysml:32242b45-8d95-4b7d-97cb-8dd31296908f\" xlink:actuate=\"onRequest\" xlink:href=\"psysml:32242b45-8d95-4b7d-97cb-8dd31296908f\" xlink:show=\"new\" xlink:title=\"psysml:32242b45-8d95-4b7d-97cb-8dd31296908f\" xlink:type=\"simple\"><rect fill=\"#FEFECE\" filter=\"url(#f15yrls6c9604q)\" height=\"75.5469\" id=\"E6\" rx=\"10\" ry=\"10\" style=\"stroke: #A80036; stroke-width: 1.5;\" width=\"88\" x=\"32\" y=\"41\"/><text fill=\"#000000\" font-family=\"sans-serif\" font-size=\"12\" font-style=\"italic\" lengthAdjust=\"spacingAndGlyphs\" textLength=\"40\" x=\"56\" y=\"57.1387\">«part»</text><text fill=\"#000000\" font-family=\"sans-serif\" font-size=\"12\" lengthAdjust=\"spacingAndGlyphs\" textLength=\"40\" x=\"56\" y=\"71.1074\">p2: P1</text><line style=\"stroke: #A80036; stroke-width: 1.5;\" x1=\"33\" x2=\"119\" y1=\"78.9375\" y2=\"78.9375\"/><text fill=\"#000000\" font-family=\"sans-serif\" font-size=\"11\" lengthAdjust=\"spacingAndGlyphs\" textLength=\"32\" x=\"38\" y=\"109.9526\">pdest</text><text fill=\"#000000\" font-family=\"sans-serif\" font-size=\"11\" font-weight=\"bold\" lengthAdjust=\"spacingAndGlyphs\" textLength=\"15\" x=\"74\" y=\"109.9526\">as</text><text fill=\"#000000\" font-family=\"sans-serif\" font-size=\"11\" lengthAdjust=\"spacingAndGlyphs\" textLength=\"21\" x=\"93\" y=\"109.9526\">pd1</text><line style=\"stroke: #A80036; stroke-width: 1.0;\" x1=\"33\" x2=\"61\" y1=\"93.3398\" y2=\"93.3398\"/><text fill=\"#000000\" font-family=\"sans-serif\" font-size=\"11\" lengthAdjust=\"spacingAndGlyphs\" textLength=\"30\" x=\"61\" y=\"96.6479\">ports</text><line style=\"stroke: #A80036; stroke-width: 1.0;\" x1=\"91\" x2=\"119\" y1=\"93.3398\" y2=\"93.3398\"/></a><!--MD5=[185131fc0dcab0a4505a2ebe144e961b]\n",
       "link E4 to E2--><a href=\"psysml:2d5875ca-6e79-47eb-af19-37e1c3e68f98\" target=\"_top\" title=\"psysml:2d5875ca-6e79-47eb-af19-37e1c3e68f98\" xlink:actuate=\"onRequest\" xlink:href=\"psysml:2d5875ca-6e79-47eb-af19-37e1c3e68f98\" xlink:show=\"new\" xlink:title=\"psysml:2d5875ca-6e79-47eb-af19-37e1c3e68f98\" xlink:type=\"simple\"><path d=\"M192.34,117.33 C185.95,130.1 178.66,144.69 171.71,158.58 \" fill=\"none\" id=\"E4-&gt;E2\" style=\"stroke: #A80036; stroke-width: 1.0;\"/><polygon fill=\"#FFFFFF\" points=\"162.56,176.87,164.8089,156.7468,177.3269,163.0158,162.56,176.87\" style=\"stroke: #A80036; stroke-width: 1.0;\"/><ellipse cx=\"169.1496\" cy=\"152.5458\" fill=\"#A80036\" rx=\"2\" ry=\"2\" style=\"stroke: #A80036; stroke-width: 1.0;\"/><ellipse cx=\"178.091\" cy=\"157.0236\" fill=\"#A80036\" rx=\"2\" ry=\"2\" style=\"stroke: #A80036; stroke-width: 1.0;\"/></a><!--MD5=[2351f337d6de0f557b50152ba70847b5]\n",
       "link E6 to E2--><a href=\"psysml:6438d4a2-0b71-4be8-b1f1-dcd907944303\" target=\"_top\" title=\"psysml:6438d4a2-0b71-4be8-b1f1-dcd907944303\" xlink:actuate=\"onRequest\" xlink:href=\"psysml:6438d4a2-0b71-4be8-b1f1-dcd907944303\" xlink:show=\"new\" xlink:title=\"psysml:6438d4a2-0b71-4be8-b1f1-dcd907944303\" xlink:type=\"simple\"><path d=\"M94.94,117.33 C101.43,130.1 108.83,144.69 115.88,158.58 \" fill=\"none\" id=\"E6-&gt;E2\" style=\"stroke: #A80036; stroke-width: 1.0;\"/><polygon fill=\"#FFFFFF\" points=\"125.16,176.87,110.3137,163.101,122.7954,156.7601,125.16,176.87\" style=\"stroke: #A80036; stroke-width: 1.0;\"/><ellipse cx=\"109.5151\" cy=\"157.1133\" fill=\"#A80036\" rx=\"2\" ry=\"2\" style=\"stroke: #A80036; stroke-width: 1.0;\"/><ellipse cx=\"118.4306\" cy=\"152.5841\" fill=\"#A80036\" rx=\"2\" ry=\"2\" style=\"stroke: #A80036; stroke-width: 1.0;\"/></a><!--MD5=[3040418f5990af7ce14c1014160c330c]\n",
       "@startuml\r\n",
       "skinparam wrapWidth 300\r\n",
       "hide circle\r\n",
       "\r\n",
       "package \"AliasTest\" as E1  [[psysml:e49964db-e340-4eba-a3a8-d7e4e465bce2 ]]  {\r\n",
       "comp def \"P1\" as E2  <<(T,blue)part def>> [[psysml:c347ad09-22d6-4423-9bac-4dbac759901f ]] {\r\n",
       "- - ports - -\r\n",
       "porig1 <b>as</b> po1 \r\n",
       "}\r\n",
       "comp usage \"p1: P1\" as E4  <<(T,blue)part>> [[psysml:d449d8a1-a677-4f10-8ecb-a1ad1c680d6c ]] {\r\n",
       "- - ports - -\r\n",
       "<&bar-trig> po1 <s>P1::porig1</s>\r\n",
       "}\r\n",
       "comp usage \"p2: P1\" as E6  <<(T,blue)part>> [[psysml:32242b45-8d95-4b7d-97cb-8dd31296908f ]] {\r\n",
       "- - ports - -\r\n",
       "pdest <b>as</b> pd1 \r\n",
       "}\r\n",
       "E4 - -:|> E2 [[psysml:2d5875ca-6e79-47eb-af19-37e1c3e68f98 ]] \r\n",
       "E6 - -:|> E2 [[psysml:6438d4a2-0b71-4be8-b1f1-dcd907944303 ]] \r\n",
       "}\r\n",
       "@enduml\r\n",
       "\n",
       "PlantUML version 1.2020.13(Sat Jun 13 12:26:38 UTC 2020)\n",
       "(EPL source distribution)\n",
       "Java Runtime: OpenJDK Runtime Environment\n",
       "JVM: OpenJDK 64-Bit Server VM\n",
       "Default Encoding: UTF-8\n",
       "Language: en\n",
       "Country: null\n",
       "--></g></svg>"
      ]
     },
     "execution_count": 24,
     "metadata": {},
     "output_type": "execute_result"
    }
   ],
   "source": [
    "%viz --style=\"STDCOLOR\" --view=\"Tree\" \"AliasTest\""
   ]
  },
  {
   "cell_type": "code",
   "execution_count": 25,
   "id": "given-japan",
   "metadata": {
    "execution": {
     "iopub.execute_input": "2021-03-25T14:10:05.321537Z",
     "iopub.status.busy": "2021-03-25T14:10:05.319623Z",
     "iopub.status.idle": "2021-03-25T14:10:05.327791Z",
     "shell.execute_reply": "2021-03-25T14:10:05.328219Z"
    }
   },
   "outputs": [
    {
     "data": {
      "image/svg+xml": [
       "<?xml version=\"1.0\" encoding=\"UTF-8\" standalone=\"no\"?><svg xmlns=\"http://www.w3.org/2000/svg\" xmlns:xlink=\"http://www.w3.org/1999/xlink\" contentScriptType=\"application/ecmascript\" contentStyleType=\"text/css\" height=\"12px\" preserveAspectRatio=\"none\" style=\"width:12px;height:12px;\" version=\"1.1\" viewBox=\"0 0 12 12\" width=\"12px\" zoomAndPan=\"magnify\"><defs/><g><!--MD5=[aeeef50f102b80d730deb6443d14f702]\n",
       "@startuml\r\n",
       "skinparam wrapWidth 300\r\n",
       "hide circle\r\n",
       "\r\n",
       "@enduml\r\n",
       "\n",
       "PlantUML version 1.2020.13(Sat Jun 13 12:26:38 UTC 2020)\n",
       "(EPL source distribution)\n",
       "Java Runtime: OpenJDK Runtime Environment\n",
       "JVM: OpenJDK 64-Bit Server VM\n",
       "Default Encoding: UTF-8\n",
       "Language: en\n",
       "Country: null\n",
       "--></g></svg>"
      ]
     },
     "execution_count": 25,
     "metadata": {},
     "output_type": "execute_result"
    }
   ],
   "source": [
    "%viz --style=\"STDCOLOR\" --view=\"State\" \"AliasTest\""
   ]
  },
  {
   "cell_type": "code",
   "execution_count": 26,
   "id": "premier-portuguese",
   "metadata": {
    "execution": {
     "iopub.execute_input": "2021-03-25T14:10:05.380451Z",
     "iopub.status.busy": "2021-03-25T14:10:05.379765Z",
     "iopub.status.idle": "2021-03-25T14:10:05.476382Z",
     "shell.execute_reply": "2021-03-25T14:10:05.474866Z"
    }
   },
   "outputs": [
    {
     "data": {
      "image/svg+xml": [
       "<?xml version=\"1.0\" encoding=\"UTF-8\" standalone=\"no\"?><svg xmlns=\"http://www.w3.org/2000/svg\" xmlns:xlink=\"http://www.w3.org/1999/xlink\" contentScriptType=\"application/ecmascript\" contentStyleType=\"text/css\" height=\"207px\" preserveAspectRatio=\"none\" style=\"width:406px;height:207px;\" version=\"1.1\" viewBox=\"0 0 406 207\" width=\"406px\" zoomAndPan=\"magnify\"><defs><filter height=\"300%\" id=\"f1hfy1hkbox2dp\" width=\"300%\" x=\"-1\" y=\"-1\"><feGaussianBlur result=\"blurOut\" stdDeviation=\"2.0\"/><feColorMatrix in=\"blurOut\" result=\"blurOut2\" type=\"matrix\" values=\"0 0 0 0 0 0 0 0 0 0 0 0 0 0 0 0 0 0 .4 0\"/><feOffset dx=\"4.0\" dy=\"4.0\" in=\"blurOut2\" result=\"blurOut3\"/><feBlend in=\"SourceGraphic\" in2=\"blurOut3\" mode=\"normal\"/></filter></defs><g><!--MD5=[fbc87193dbaf4d95561dea2c320d4a47]\n",
       "cluster E1--><a href=\"psysml:e49964db-e340-4eba-a3a8-d7e4e465bce2\" target=\"_top\" title=\"psysml:e49964db-e340-4eba-a3a8-d7e4e465bce2\" xlink:actuate=\"onRequest\" xlink:href=\"psysml:e49964db-e340-4eba-a3a8-d7e4e465bce2\" xlink:show=\"new\" xlink:title=\"psysml:e49964db-e340-4eba-a3a8-d7e4e465bce2\" xlink:type=\"simple\"><polygon fill=\"#FFFFFF\" filter=\"url(#f1hfy1hkbox2dp)\" points=\"16,6,94,6,101,28.2969,384,28.2969,384,195,16,195,16,6\" style=\"stroke: #000000; stroke-width: 1.5;\"/><line style=\"stroke: #000000; stroke-width: 1.5;\" x1=\"16\" x2=\"101\" y1=\"28.2969\" y2=\"28.2969\"/><text fill=\"#000000\" font-family=\"sans-serif\" font-size=\"14\" font-weight=\"bold\" lengthAdjust=\"spacingAndGlyphs\" textLength=\"72\" x=\"20\" y=\"20.9951\">AliasTest</text></a><!--MD5=[e4f7fae6ed58524ba242bb0b0d3be6b7]\n",
       "cluster E2--><a href=\"psysml:c347ad09-22d6-4423-9bac-4dbac759901f\" target=\"_top\" title=\"psysml:c347ad09-22d6-4423-9bac-4dbac759901f\" xlink:actuate=\"onRequest\" xlink:href=\"psysml:c347ad09-22d6-4423-9bac-4dbac759901f\" xlink:show=\"new\" xlink:title=\"psysml:c347ad09-22d6-4423-9bac-4dbac759901f\" xlink:type=\"simple\"><rect fill=\"#FFFFFF\" filter=\"url(#f1hfy1hkbox2dp)\" height=\"73\" id=\"E2\" style=\"stroke: #A80036; stroke-width: 1.5;\" width=\"83\" x=\"244\" y=\"55\"/><rect fill=\"#FEFECE\" height=\"37.9375\" style=\"stroke: #A80036; stroke-width: 1.5;\" width=\"83\" x=\"244\" y=\"55\"/><text fill=\"#000000\" font-family=\"sans-serif\" font-size=\"12\" font-style=\"italic\" lengthAdjust=\"spacingAndGlyphs\" textLength=\"64\" x=\"253.5\" y=\"71.1387\">«part def»</text><text fill=\"#000000\" font-family=\"sans-serif\" font-size=\"12\" lengthAdjust=\"spacingAndGlyphs\" textLength=\"16\" x=\"277.5\" y=\"85.1074\">P1</text></a><!--MD5=[de5ec2e2e8f62f467e546659f5068c88]\n",
       "cluster E5--><a href=\"psysml:d449d8a1-a677-4f10-8ecb-a1ad1c680d6c\" target=\"_top\" title=\"psysml:d449d8a1-a677-4f10-8ecb-a1ad1c680d6c\" xlink:actuate=\"onRequest\" xlink:href=\"psysml:d449d8a1-a677-4f10-8ecb-a1ad1c680d6c\" xlink:show=\"new\" xlink:title=\"psysml:d449d8a1-a677-4f10-8ecb-a1ad1c680d6c\" xlink:type=\"simple\"><rect fill=\"#FFFFFF\" filter=\"url(#f1hfy1hkbox2dp)\" height=\"84.5\" id=\"E5\" rx=\"10\" ry=\"10\" style=\"stroke: #A80036; stroke-width: 1.5;\" width=\"101\" x=\"139\" y=\"94.5\"/><rect fill=\"#FEFECE\" height=\"23.9688\" rx=\"10\" ry=\"10\" style=\"stroke: #FEFECE; stroke-width: 1.5;\" width=\"101\" x=\"139\" y=\"94.5\"/><rect fill=\"#FEFECE\" height=\"10\" style=\"stroke: #FEFECE; stroke-width: 1.5;\" width=\"101\" x=\"139\" y=\"108.4688\"/><rect fill=\"none\" height=\"84.5\" id=\"E5\" rx=\"10\" ry=\"10\" style=\"stroke: #A80036; stroke-width: 1.5;\" width=\"101\" x=\"139\" y=\"94.5\"/><text fill=\"#000000\" font-family=\"sans-serif\" font-size=\"12\" lengthAdjust=\"spacingAndGlyphs\" textLength=\"40\" x=\"169.5\" y=\"110.6387\">p1: P1</text><line style=\"stroke: #A80036; stroke-width: 1.0;\" x1=\"139\" x2=\"240\" y1=\"118.4688\" y2=\"118.4688\"/></a><!--MD5=[168fadf3d0c3fd93dd5d6da1b1d7ab76]\n",
       "cluster E7--><a href=\"psysml:32242b45-8d95-4b7d-97cb-8dd31296908f\" target=\"_top\" title=\"psysml:32242b45-8d95-4b7d-97cb-8dd31296908f\" xlink:actuate=\"onRequest\" xlink:href=\"psysml:32242b45-8d95-4b7d-97cb-8dd31296908f\" xlink:show=\"new\" xlink:title=\"psysml:32242b45-8d95-4b7d-97cb-8dd31296908f\" xlink:type=\"simple\"><rect fill=\"#FFFFFF\" filter=\"url(#f1hfy1hkbox2dp)\" height=\"65\" id=\"E7\" rx=\"10\" ry=\"10\" style=\"stroke: #A80036; stroke-width: 1.5;\" width=\"83\" x=\"53\" y=\"55\"/><rect fill=\"#FEFECE\" height=\"23.9688\" rx=\"10\" ry=\"10\" style=\"stroke: #FEFECE; stroke-width: 1.5;\" width=\"83\" x=\"53\" y=\"55\"/><rect fill=\"#FEFECE\" height=\"10\" style=\"stroke: #FEFECE; stroke-width: 1.5;\" width=\"83\" x=\"53\" y=\"68.9688\"/><rect fill=\"none\" height=\"65\" id=\"E7\" rx=\"10\" ry=\"10\" style=\"stroke: #A80036; stroke-width: 1.5;\" width=\"83\" x=\"53\" y=\"55\"/><text fill=\"#000000\" font-family=\"sans-serif\" font-size=\"12\" lengthAdjust=\"spacingAndGlyphs\" textLength=\"40\" x=\"74.5\" y=\"71.1387\">p2: P1</text><line style=\"stroke: #A80036; stroke-width: 1.0;\" x1=\"53\" x2=\"136\" y1=\"78.9688\" y2=\"78.9688\"/></a><text fill=\"#000000\" font-family=\"sans-serif\" font-size=\"14\" lengthAdjust=\"spacingAndGlyphs\" textLength=\"44\" x=\"240\" y=\"33.6982\">porig1</text><rect fill=\"#A80036\" height=\"12\" style=\"stroke: #FEFECE; stroke-width: 1.5;\" width=\"12\" x=\"256\" y=\"49\"/><text fill=\"#000000\" font-family=\"sans-serif\" font-size=\"14\" lengthAdjust=\"spacingAndGlyphs\" textLength=\"44\" x=\"287\" y=\"33.6982\">porig1</text><rect fill=\"#A80036\" height=\"12\" style=\"stroke: #FEFECE; stroke-width: 1.5;\" width=\"12\" x=\"303\" y=\"49\"/><text fill=\"#000000\" font-family=\"sans-serif\" font-size=\"14\" lengthAdjust=\"spacingAndGlyphs\" textLength=\"27\" x=\"143.5\" y=\"73.1982\">po1</text><rect fill=\"#A80036\" height=\"12\" style=\"stroke: #FEFECE; stroke-width: 1.5;\" width=\"12\" x=\"151\" y=\"88.5\"/><text fill=\"#000000\" font-family=\"sans-serif\" font-size=\"14\" lengthAdjust=\"spacingAndGlyphs\" textLength=\"40\" x=\"51\" y=\"33.6982\">pdest</text><rect fill=\"#A80036\" height=\"12\" style=\"stroke: #FEFECE; stroke-width: 1.5;\" width=\"12\" x=\"65\" y=\"49\"/><text fill=\"#000000\" font-family=\"sans-serif\" font-size=\"14\" lengthAdjust=\"spacingAndGlyphs\" textLength=\"40\" x=\"98\" y=\"33.6982\">pdest</text><rect fill=\"#A80036\" height=\"12\" style=\"stroke: #FEFECE; stroke-width: 1.5;\" width=\"12\" x=\"112\" y=\"49\"/><!--MD5=[60ac2c0cde89d4308155b0484e57a8ec]\n",
       "link E9 to E6--><a href=\"psysml:542ee912-9568-47bf-89cf-5ffa6da25451\" target=\"_top\" title=\"psysml:542ee912-9568-47bf-89cf-5ffa6da25451\" xlink:actuate=\"onRequest\" xlink:href=\"psysml:542ee912-9568-47bf-89cf-5ffa6da25451\" xlink:show=\"new\" xlink:title=\"psysml:542ee912-9568-47bf-89cf-5ffa6da25451\" xlink:type=\"simple\"><path d=\"M111.75,56.49 C103.41,58.2 109.82,64.05 115,69 C124.85,78.4 136.6,90.11 150.78,92.89 \" fill=\"none\" id=\"E9-E6\" style=\"stroke: #A80036; stroke-width: 3.0;\"/></a><!--MD5=[60ac2c0cde89d4308155b0484e57a8ec]\n",
       "link E9 to E6--><a href=\"psysml:574c6fbc-01c2-4e16-ae54-13c104835878\" target=\"_top\" title=\"psysml:574c6fbc-01c2-4e16-ae54-13c104835878\" xlink:actuate=\"onRequest\" xlink:href=\"psysml:574c6fbc-01c2-4e16-ae54-13c104835878\" xlink:show=\"new\" xlink:title=\"psysml:574c6fbc-01c2-4e16-ae54-13c104835878\" xlink:type=\"simple\"><path d=\"M124.29,56.32 C137.94,57.76 144.62,63.87 150,69 C159.5,78.06 170.77,89.27 163.24,92.56 \" fill=\"none\" id=\"E9-E6-1\" style=\"stroke: #A80036; stroke-width: 3.0;\"/></a><!--MD5=[940fa8a1c1e4dc3f0cf0001fdad6dead]\n",
       "@startuml\r\n",
       "skinparam ranksep 10\r\n",
       "skinparam rectangle {\r\n",
       " backgroundColor<<block>> LightGreen\r\n",
       "}\r\n",
       "skinparam wrapWidth 300\r\n",
       "hide circle\r\n",
       "\r\n",
       "package \"AliasTest\" as E1  [[psysml:e49964db-e340-4eba-a3a8-d7e4e465bce2 ]]  {\r\n",
       "rec def \"P1\" as E2  <<(T,blue)part def>> [[psysml:c347ad09-22d6-4423-9bac-4dbac759901f ]] {\r\n",
       "portin \"porig1\" as E3  <<(T,blue)port>> [[psysml:0250d93f-14e1-4692-9053-ebbfda808262 ]] \r\n",
       "portin \"porig1\" as E4  <<(T,blue)port>> [[psysml:0250d93f-14e1-4692-9053-ebbfda808262 ]] \r\n",
       "}\r\n",
       "rec usage \"p1: P1\" as E5  [[psysml:d449d8a1-a677-4f10-8ecb-a1ad1c680d6c ]] {\r\n",
       "portin \"po1\" as E6  <<(T,blue)port>> [[psysml:29809450-6fae-45f0-8103-0520fac6504b ]] \r\n",
       "}\r\n",
       "rec usage \"p2: P1\" as E7  [[psysml:32242b45-8d95-4b7d-97cb-8dd31296908f ]] {\r\n",
       "portin \"pdest\" as E8  <<(T,blue)port>> [[psysml:232a2b18-4f4e-4d95-914a-9e8054ac4fe4 ]] \r\n",
       "portin \"pdest\" as E9  <<(T,blue)port>> [[psysml:232a2b18-4f4e-4d95-914a-9e8054ac4fe4 ]] \r\n",
       "}\r\n",
       "E9 -[thickness=3]- E6 [[psysml:542ee912-9568-47bf-89cf-5ffa6da25451 ]] \r\n",
       "E9 -[thickness=3]- E6 [[psysml:574c6fbc-01c2-4e16-ae54-13c104835878 ]] \r\n",
       "}\r\n",
       "@enduml\r\n",
       "\n",
       "PlantUML version 1.2020.13(Sat Jun 13 12:26:38 UTC 2020)\n",
       "(EPL source distribution)\n",
       "Java Runtime: OpenJDK Runtime Environment\n",
       "JVM: OpenJDK 64-Bit Server VM\n",
       "Default Encoding: UTF-8\n",
       "Language: en\n",
       "Country: null\n",
       "--></g></svg>"
      ]
     },
     "execution_count": 26,
     "metadata": {},
     "output_type": "execute_result"
    }
   ],
   "source": [
    "%viz --style=\"STDCOLOR\" --view=\"Interconnection\" \"AliasTest\""
   ]
  },
  {
   "cell_type": "code",
   "execution_count": 27,
   "id": "perfect-martin",
   "metadata": {
    "execution": {
     "iopub.execute_input": "2021-03-25T14:10:05.526901Z",
     "iopub.status.busy": "2021-03-25T14:10:05.526383Z",
     "iopub.status.idle": "2021-03-25T14:10:05.532428Z",
     "shell.execute_reply": "2021-03-25T14:10:05.531984Z"
    }
   },
   "outputs": [
    {
     "data": {
      "image/svg+xml": [
       "<?xml version=\"1.0\" encoding=\"UTF-8\" standalone=\"no\"?><svg xmlns=\"http://www.w3.org/2000/svg\" xmlns:xlink=\"http://www.w3.org/1999/xlink\" contentScriptType=\"application/ecmascript\" contentStyleType=\"text/css\" height=\"12px\" preserveAspectRatio=\"none\" style=\"width:12px;height:12px;\" version=\"1.1\" viewBox=\"0 0 12 12\" width=\"12px\" zoomAndPan=\"magnify\"><defs/><g><!--MD5=[9863325348a96a77dacc89509d8ee65e]\n",
       "@startuml\r\n",
       "skinparam ranksep 8\r\n",
       "skinparam wrapWidth 300\r\n",
       "hide circle\r\n",
       "\r\n",
       "@enduml\r\n",
       "\n",
       "PlantUML version 1.2020.13(Sat Jun 13 12:26:38 UTC 2020)\n",
       "(EPL source distribution)\n",
       "Java Runtime: OpenJDK Runtime Environment\n",
       "JVM: OpenJDK 64-Bit Server VM\n",
       "Default Encoding: UTF-8\n",
       "Language: en\n",
       "Country: null\n",
       "--></g></svg>"
      ]
     },
     "execution_count": 27,
     "metadata": {},
     "output_type": "execute_result"
    }
   ],
   "source": [
    "%viz --style=\"STDCOLOR\" --view=\"Action\" \"AliasTest\""
   ]
  },
  {
   "cell_type": "code",
   "execution_count": 28,
   "id": "interpreted-rocket",
   "metadata": {
    "execution": {
     "iopub.execute_input": "2021-03-25T14:10:05.584846Z",
     "iopub.status.busy": "2021-03-25T14:10:05.584120Z",
     "iopub.status.idle": "2021-03-25T14:10:06.169171Z",
     "shell.execute_reply": "2021-03-25T14:10:06.168570Z"
    }
   },
   "outputs": [
    {
     "data": {
      "image/svg+xml": [
       "<?xml version=\"1.0\" encoding=\"UTF-8\" standalone=\"no\"?><svg xmlns=\"http://www.w3.org/2000/svg\" xmlns:xlink=\"http://www.w3.org/1999/xlink\" contentScriptType=\"application/ecmascript\" contentStyleType=\"text/css\" height=\"281px\" preserveAspectRatio=\"none\" style=\"width:305px;height:281px;\" version=\"1.1\" viewBox=\"0 0 305 281\" width=\"305px\" zoomAndPan=\"magnify\"><defs><filter height=\"300%\" id=\"f15yrls6c9604q\" width=\"300%\" x=\"-1\" y=\"-1\"><feGaussianBlur result=\"blurOut\" stdDeviation=\"2.0\"/><feColorMatrix in=\"blurOut\" result=\"blurOut2\" type=\"matrix\" values=\"0 0 0 0 0 0 0 0 0 0 0 0 0 0 0 0 0 0 .4 0\"/><feOffset dx=\"4.0\" dy=\"4.0\" in=\"blurOut2\" result=\"blurOut3\"/><feBlend in=\"SourceGraphic\" in2=\"blurOut3\" mode=\"normal\"/></filter></defs><g><!--MD5=[fbc87193dbaf4d95561dea2c320d4a47]\n",
       "cluster E1--><a href=\"psysml:e49964db-e340-4eba-a3a8-d7e4e465bce2\" target=\"_top\" title=\"psysml:e49964db-e340-4eba-a3a8-d7e4e465bce2\" xlink:actuate=\"onRequest\" xlink:href=\"psysml:e49964db-e340-4eba-a3a8-d7e4e465bce2\" xlink:show=\"new\" xlink:title=\"psysml:e49964db-e340-4eba-a3a8-d7e4e465bce2\" xlink:type=\"simple\"><polygon fill=\"#FFFFFF\" filter=\"url(#f15yrls6c9604q)\" points=\"16,6,94,6,101,28.2969,283,28.2969,283,269,16,269,16,6\" style=\"stroke: #000000; stroke-width: 1.5;\"/><line style=\"stroke: #000000; stroke-width: 1.5;\" x1=\"16\" x2=\"101\" y1=\"28.2969\" y2=\"28.2969\"/><text fill=\"#000000\" font-family=\"sans-serif\" font-size=\"14\" font-weight=\"bold\" lengthAdjust=\"spacingAndGlyphs\" textLength=\"72\" x=\"20\" y=\"20.9951\">AliasTest</text></a><!--MD5=[b4997ac47864f28c2f74865a473b2911]\n",
       "class E2--><a href=\"psysml:c347ad09-22d6-4423-9bac-4dbac759901f\" target=\"_top\" title=\"psysml:c347ad09-22d6-4423-9bac-4dbac759901f\" xlink:actuate=\"onRequest\" xlink:href=\"psysml:c347ad09-22d6-4423-9bac-4dbac759901f\" xlink:show=\"new\" xlink:title=\"psysml:c347ad09-22d6-4423-9bac-4dbac759901f\" xlink:type=\"simple\"><rect fill=\"#FEFECE\" filter=\"url(#f15yrls6c9604q)\" height=\"75.5469\" id=\"E2\" style=\"stroke: #A80036; stroke-width: 1.5;\" width=\"92\" x=\"98\" y=\"177\"/><text fill=\"#000000\" font-family=\"sans-serif\" font-size=\"12\" font-style=\"italic\" lengthAdjust=\"spacingAndGlyphs\" textLength=\"64\" x=\"112\" y=\"193.1387\">«part def»</text><text fill=\"#000000\" font-family=\"sans-serif\" font-size=\"12\" lengthAdjust=\"spacingAndGlyphs\" textLength=\"16\" x=\"136\" y=\"207.1074\">P1</text><line style=\"stroke: #A80036; stroke-width: 1.5;\" x1=\"99\" x2=\"189\" y1=\"214.9375\" y2=\"214.9375\"/><text fill=\"#000000\" font-family=\"sans-serif\" font-size=\"11\" lengthAdjust=\"spacingAndGlyphs\" textLength=\"36\" x=\"104\" y=\"245.9526\">porig1</text><text fill=\"#000000\" font-family=\"sans-serif\" font-size=\"11\" font-weight=\"bold\" lengthAdjust=\"spacingAndGlyphs\" textLength=\"15\" x=\"144\" y=\"245.9526\">as</text><text fill=\"#000000\" font-family=\"sans-serif\" font-size=\"11\" lengthAdjust=\"spacingAndGlyphs\" textLength=\"21\" x=\"163\" y=\"245.9526\">po1</text><line style=\"stroke: #A80036; stroke-width: 1.0;\" x1=\"99\" x2=\"129\" y1=\"229.3398\" y2=\"229.3398\"/><text fill=\"#000000\" font-family=\"sans-serif\" font-size=\"11\" lengthAdjust=\"spacingAndGlyphs\" textLength=\"30\" x=\"129\" y=\"232.6479\">ports</text><line style=\"stroke: #A80036; stroke-width: 1.0;\" x1=\"159\" x2=\"189\" y1=\"229.3398\" y2=\"229.3398\"/></a><!--MD5=[ebbe1d658d1005bcc118a6aa81145e00]\n",
       "class E4--><a href=\"psysml:d449d8a1-a677-4f10-8ecb-a1ad1c680d6c\" target=\"_top\" title=\"psysml:d449d8a1-a677-4f10-8ecb-a1ad1c680d6c\" xlink:actuate=\"onRequest\" xlink:href=\"psysml:d449d8a1-a677-4f10-8ecb-a1ad1c680d6c\" xlink:show=\"new\" xlink:title=\"psysml:d449d8a1-a677-4f10-8ecb-a1ad1c680d6c\" xlink:type=\"simple\"><rect fill=\"#FEFECE\" filter=\"url(#f15yrls6c9604q)\" height=\"76.4922\" id=\"E4\" rx=\"10\" ry=\"10\" style=\"stroke: #A80036; stroke-width: 1.5;\" width=\"112\" x=\"155\" y=\"41\"/><text fill=\"#000000\" font-family=\"sans-serif\" font-size=\"12\" font-style=\"italic\" lengthAdjust=\"spacingAndGlyphs\" textLength=\"40\" x=\"191\" y=\"57.1387\">«part»</text><text fill=\"#000000\" font-family=\"sans-serif\" font-size=\"12\" lengthAdjust=\"spacingAndGlyphs\" textLength=\"40\" x=\"191\" y=\"71.1074\">p1: P1</text><line style=\"stroke: #A80036; stroke-width: 1.5;\" x1=\"156\" x2=\"266\" y1=\"78.9375\" y2=\"78.9375\"/><path d=\"M162.9167,100.6589 L162.9167,109.8255 L163.8333,109.8255 L163.8333,100.6589 M166.5833,100.6589 L166.5833,109.8255 L173.9167,105.2422 L166.5833,100.6589 L167.5,102.0339 L172.5417,105.2422 L167.5,108.4505 L167.5,102.0339 \" fill=\"#000000\" style=\"stroke: ; stroke-width: 0.0; stroke-dasharray: ;\"/><text fill=\"#000000\" font-family=\"sans-serif\" font-size=\"11\" lengthAdjust=\"spacingAndGlyphs\" textLength=\"21\" x=\"178\" y=\"110.8979\">po1</text><text fill=\"#000000\" font-family=\"sans-serif\" font-size=\"11\" lengthAdjust=\"spacingAndGlyphs\" text-decoration=\"line-through\" textLength=\"58\" x=\"203\" y=\"110.8979\">P1::porig1</text><line style=\"stroke: #A80036; stroke-width: 1.0;\" x1=\"156\" x2=\"196\" y1=\"93.3398\" y2=\"93.3398\"/><text fill=\"#000000\" font-family=\"sans-serif\" font-size=\"11\" lengthAdjust=\"spacingAndGlyphs\" textLength=\"30\" x=\"196\" y=\"96.6479\">ports</text><line style=\"stroke: #A80036; stroke-width: 1.0;\" x1=\"226\" x2=\"266\" y1=\"93.3398\" y2=\"93.3398\"/></a><!--MD5=[60a26617385b1d2d0262a64233df1f8d]\n",
       "class E6--><a href=\"psysml:32242b45-8d95-4b7d-97cb-8dd31296908f\" target=\"_top\" title=\"psysml:32242b45-8d95-4b7d-97cb-8dd31296908f\" xlink:actuate=\"onRequest\" xlink:href=\"psysml:32242b45-8d95-4b7d-97cb-8dd31296908f\" xlink:show=\"new\" xlink:title=\"psysml:32242b45-8d95-4b7d-97cb-8dd31296908f\" xlink:type=\"simple\"><rect fill=\"#FEFECE\" filter=\"url(#f15yrls6c9604q)\" height=\"75.5469\" id=\"E6\" rx=\"10\" ry=\"10\" style=\"stroke: #A80036; stroke-width: 1.5;\" width=\"88\" x=\"32\" y=\"41\"/><text fill=\"#000000\" font-family=\"sans-serif\" font-size=\"12\" font-style=\"italic\" lengthAdjust=\"spacingAndGlyphs\" textLength=\"40\" x=\"56\" y=\"57.1387\">«part»</text><text fill=\"#000000\" font-family=\"sans-serif\" font-size=\"12\" lengthAdjust=\"spacingAndGlyphs\" textLength=\"40\" x=\"56\" y=\"71.1074\">p2: P1</text><line style=\"stroke: #A80036; stroke-width: 1.5;\" x1=\"33\" x2=\"119\" y1=\"78.9375\" y2=\"78.9375\"/><text fill=\"#000000\" font-family=\"sans-serif\" font-size=\"11\" lengthAdjust=\"spacingAndGlyphs\" textLength=\"32\" x=\"38\" y=\"109.9526\">pdest</text><text fill=\"#000000\" font-family=\"sans-serif\" font-size=\"11\" font-weight=\"bold\" lengthAdjust=\"spacingAndGlyphs\" textLength=\"15\" x=\"74\" y=\"109.9526\">as</text><text fill=\"#000000\" font-family=\"sans-serif\" font-size=\"11\" lengthAdjust=\"spacingAndGlyphs\" textLength=\"21\" x=\"93\" y=\"109.9526\">pd1</text><line style=\"stroke: #A80036; stroke-width: 1.0;\" x1=\"33\" x2=\"61\" y1=\"93.3398\" y2=\"93.3398\"/><text fill=\"#000000\" font-family=\"sans-serif\" font-size=\"11\" lengthAdjust=\"spacingAndGlyphs\" textLength=\"30\" x=\"61\" y=\"96.6479\">ports</text><line style=\"stroke: #A80036; stroke-width: 1.0;\" x1=\"91\" x2=\"119\" y1=\"93.3398\" y2=\"93.3398\"/></a><!--MD5=[185131fc0dcab0a4505a2ebe144e961b]\n",
       "link E4 to E2--><a href=\"psysml:2d5875ca-6e79-47eb-af19-37e1c3e68f98\" target=\"_top\" title=\"psysml:2d5875ca-6e79-47eb-af19-37e1c3e68f98\" xlink:actuate=\"onRequest\" xlink:href=\"psysml:2d5875ca-6e79-47eb-af19-37e1c3e68f98\" xlink:show=\"new\" xlink:title=\"psysml:2d5875ca-6e79-47eb-af19-37e1c3e68f98\" xlink:type=\"simple\"><path d=\"M192.34,117.33 C185.95,130.1 178.66,144.69 171.71,158.58 \" fill=\"none\" id=\"E4-&gt;E2\" style=\"stroke: #A80036; stroke-width: 1.0;\"/><polygon fill=\"#FFFFFF\" points=\"162.56,176.87,164.8089,156.7468,177.3269,163.0158,162.56,176.87\" style=\"stroke: #A80036; stroke-width: 1.0;\"/><ellipse cx=\"169.1496\" cy=\"152.5458\" fill=\"#A80036\" rx=\"2\" ry=\"2\" style=\"stroke: #A80036; stroke-width: 1.0;\"/><ellipse cx=\"178.091\" cy=\"157.0236\" fill=\"#A80036\" rx=\"2\" ry=\"2\" style=\"stroke: #A80036; stroke-width: 1.0;\"/></a><!--MD5=[2351f337d6de0f557b50152ba70847b5]\n",
       "link E6 to E2--><a href=\"psysml:6438d4a2-0b71-4be8-b1f1-dcd907944303\" target=\"_top\" title=\"psysml:6438d4a2-0b71-4be8-b1f1-dcd907944303\" xlink:actuate=\"onRequest\" xlink:href=\"psysml:6438d4a2-0b71-4be8-b1f1-dcd907944303\" xlink:show=\"new\" xlink:title=\"psysml:6438d4a2-0b71-4be8-b1f1-dcd907944303\" xlink:type=\"simple\"><path d=\"M94.94,117.33 C101.43,130.1 108.83,144.69 115.88,158.58 \" fill=\"none\" id=\"E6-&gt;E2\" style=\"stroke: #A80036; stroke-width: 1.0;\"/><polygon fill=\"#FFFFFF\" points=\"125.16,176.87,110.3137,163.101,122.7954,156.7601,125.16,176.87\" style=\"stroke: #A80036; stroke-width: 1.0;\"/><ellipse cx=\"109.5151\" cy=\"157.1133\" fill=\"#A80036\" rx=\"2\" ry=\"2\" style=\"stroke: #A80036; stroke-width: 1.0;\"/><ellipse cx=\"118.4306\" cy=\"152.5841\" fill=\"#A80036\" rx=\"2\" ry=\"2\" style=\"stroke: #A80036; stroke-width: 1.0;\"/></a><!--MD5=[3040418f5990af7ce14c1014160c330c]\n",
       "@startuml\r\n",
       "skinparam wrapWidth 300\r\n",
       "hide circle\r\n",
       "\r\n",
       "package \"AliasTest\" as E1  [[psysml:e49964db-e340-4eba-a3a8-d7e4e465bce2 ]]  {\r\n",
       "comp def \"P1\" as E2  <<(T,blue)part def>> [[psysml:c347ad09-22d6-4423-9bac-4dbac759901f ]] {\r\n",
       "- - ports - -\r\n",
       "porig1 <b>as</b> po1 \r\n",
       "}\r\n",
       "comp usage \"p1: P1\" as E4  <<(T,blue)part>> [[psysml:d449d8a1-a677-4f10-8ecb-a1ad1c680d6c ]] {\r\n",
       "- - ports - -\r\n",
       "<&bar-trig> po1 <s>P1::porig1</s>\r\n",
       "}\r\n",
       "comp usage \"p2: P1\" as E6  <<(T,blue)part>> [[psysml:32242b45-8d95-4b7d-97cb-8dd31296908f ]] {\r\n",
       "- - ports - -\r\n",
       "pdest <b>as</b> pd1 \r\n",
       "}\r\n",
       "E4 - -:|> E2 [[psysml:2d5875ca-6e79-47eb-af19-37e1c3e68f98 ]] \r\n",
       "E6 - -:|> E2 [[psysml:6438d4a2-0b71-4be8-b1f1-dcd907944303 ]] \r\n",
       "}\r\n",
       "@enduml\r\n",
       "\n",
       "PlantUML version 1.2020.13(Sat Jun 13 12:26:38 UTC 2020)\n",
       "(EPL source distribution)\n",
       "Java Runtime: OpenJDK Runtime Environment\n",
       "JVM: OpenJDK 64-Bit Server VM\n",
       "Default Encoding: UTF-8\n",
       "Language: en\n",
       "Country: null\n",
       "--></g></svg>"
      ]
     },
     "execution_count": 28,
     "metadata": {},
     "output_type": "execute_result"
    }
   ],
   "source": [
    "%viz --style=\"STDCOLOR\" --view=\"Sequence\" \"AliasTest\""
   ]
  },
  {
   "cell_type": "code",
   "execution_count": 29,
   "id": "aggregate-clearance",
   "metadata": {
    "execution": {
     "iopub.execute_input": "2021-03-25T14:10:06.221994Z",
     "iopub.status.busy": "2021-03-25T14:10:06.221291Z",
     "iopub.status.idle": "2021-03-25T14:10:06.786876Z",
     "shell.execute_reply": "2021-03-25T14:10:06.785350Z"
    }
   },
   "outputs": [
    {
     "data": {
      "image/svg+xml": [
       "<?xml version=\"1.0\" encoding=\"UTF-8\" standalone=\"no\"?><svg xmlns=\"http://www.w3.org/2000/svg\" xmlns:xlink=\"http://www.w3.org/1999/xlink\" contentScriptType=\"application/ecmascript\" contentStyleType=\"text/css\" height=\"281px\" preserveAspectRatio=\"none\" style=\"width:305px;height:281px;\" version=\"1.1\" viewBox=\"0 0 305 281\" width=\"305px\" zoomAndPan=\"magnify\"><defs><filter height=\"300%\" id=\"f15yrls6c9604q\" width=\"300%\" x=\"-1\" y=\"-1\"><feGaussianBlur result=\"blurOut\" stdDeviation=\"2.0\"/><feColorMatrix in=\"blurOut\" result=\"blurOut2\" type=\"matrix\" values=\"0 0 0 0 0 0 0 0 0 0 0 0 0 0 0 0 0 0 .4 0\"/><feOffset dx=\"4.0\" dy=\"4.0\" in=\"blurOut2\" result=\"blurOut3\"/><feBlend in=\"SourceGraphic\" in2=\"blurOut3\" mode=\"normal\"/></filter></defs><g><!--MD5=[fbc87193dbaf4d95561dea2c320d4a47]\n",
       "cluster E1--><a href=\"psysml:e49964db-e340-4eba-a3a8-d7e4e465bce2\" target=\"_top\" title=\"psysml:e49964db-e340-4eba-a3a8-d7e4e465bce2\" xlink:actuate=\"onRequest\" xlink:href=\"psysml:e49964db-e340-4eba-a3a8-d7e4e465bce2\" xlink:show=\"new\" xlink:title=\"psysml:e49964db-e340-4eba-a3a8-d7e4e465bce2\" xlink:type=\"simple\"><polygon fill=\"#FFFFFF\" filter=\"url(#f15yrls6c9604q)\" points=\"16,6,94,6,101,28.2969,283,28.2969,283,269,16,269,16,6\" style=\"stroke: #000000; stroke-width: 1.5;\"/><line style=\"stroke: #000000; stroke-width: 1.5;\" x1=\"16\" x2=\"101\" y1=\"28.2969\" y2=\"28.2969\"/><text fill=\"#000000\" font-family=\"sans-serif\" font-size=\"14\" font-weight=\"bold\" lengthAdjust=\"spacingAndGlyphs\" textLength=\"72\" x=\"20\" y=\"20.9951\">AliasTest</text></a><!--MD5=[b4997ac47864f28c2f74865a473b2911]\n",
       "class E2--><a href=\"psysml:c347ad09-22d6-4423-9bac-4dbac759901f\" target=\"_top\" title=\"psysml:c347ad09-22d6-4423-9bac-4dbac759901f\" xlink:actuate=\"onRequest\" xlink:href=\"psysml:c347ad09-22d6-4423-9bac-4dbac759901f\" xlink:show=\"new\" xlink:title=\"psysml:c347ad09-22d6-4423-9bac-4dbac759901f\" xlink:type=\"simple\"><rect fill=\"#FEFECE\" filter=\"url(#f15yrls6c9604q)\" height=\"75.5469\" id=\"E2\" style=\"stroke: #A80036; stroke-width: 1.5;\" width=\"92\" x=\"98\" y=\"177\"/><text fill=\"#000000\" font-family=\"sans-serif\" font-size=\"12\" font-style=\"italic\" lengthAdjust=\"spacingAndGlyphs\" textLength=\"64\" x=\"112\" y=\"193.1387\">«part def»</text><text fill=\"#000000\" font-family=\"sans-serif\" font-size=\"12\" lengthAdjust=\"spacingAndGlyphs\" textLength=\"16\" x=\"136\" y=\"207.1074\">P1</text><line style=\"stroke: #A80036; stroke-width: 1.5;\" x1=\"99\" x2=\"189\" y1=\"214.9375\" y2=\"214.9375\"/><text fill=\"#000000\" font-family=\"sans-serif\" font-size=\"11\" lengthAdjust=\"spacingAndGlyphs\" textLength=\"36\" x=\"104\" y=\"245.9526\">porig1</text><text fill=\"#000000\" font-family=\"sans-serif\" font-size=\"11\" font-weight=\"bold\" lengthAdjust=\"spacingAndGlyphs\" textLength=\"15\" x=\"144\" y=\"245.9526\">as</text><text fill=\"#000000\" font-family=\"sans-serif\" font-size=\"11\" lengthAdjust=\"spacingAndGlyphs\" textLength=\"21\" x=\"163\" y=\"245.9526\">po1</text><line style=\"stroke: #A80036; stroke-width: 1.0;\" x1=\"99\" x2=\"129\" y1=\"229.3398\" y2=\"229.3398\"/><text fill=\"#000000\" font-family=\"sans-serif\" font-size=\"11\" lengthAdjust=\"spacingAndGlyphs\" textLength=\"30\" x=\"129\" y=\"232.6479\">ports</text><line style=\"stroke: #A80036; stroke-width: 1.0;\" x1=\"159\" x2=\"189\" y1=\"229.3398\" y2=\"229.3398\"/></a><!--MD5=[ebbe1d658d1005bcc118a6aa81145e00]\n",
       "class E4--><a href=\"psysml:d449d8a1-a677-4f10-8ecb-a1ad1c680d6c\" target=\"_top\" title=\"psysml:d449d8a1-a677-4f10-8ecb-a1ad1c680d6c\" xlink:actuate=\"onRequest\" xlink:href=\"psysml:d449d8a1-a677-4f10-8ecb-a1ad1c680d6c\" xlink:show=\"new\" xlink:title=\"psysml:d449d8a1-a677-4f10-8ecb-a1ad1c680d6c\" xlink:type=\"simple\"><rect fill=\"#FEFECE\" filter=\"url(#f15yrls6c9604q)\" height=\"76.4922\" id=\"E4\" rx=\"10\" ry=\"10\" style=\"stroke: #A80036; stroke-width: 1.5;\" width=\"112\" x=\"155\" y=\"41\"/><text fill=\"#000000\" font-family=\"sans-serif\" font-size=\"12\" font-style=\"italic\" lengthAdjust=\"spacingAndGlyphs\" textLength=\"40\" x=\"191\" y=\"57.1387\">«part»</text><text fill=\"#000000\" font-family=\"sans-serif\" font-size=\"12\" lengthAdjust=\"spacingAndGlyphs\" textLength=\"40\" x=\"191\" y=\"71.1074\">p1: P1</text><line style=\"stroke: #A80036; stroke-width: 1.5;\" x1=\"156\" x2=\"266\" y1=\"78.9375\" y2=\"78.9375\"/><path d=\"M162.9167,100.6589 L162.9167,109.8255 L163.8333,109.8255 L163.8333,100.6589 M166.5833,100.6589 L166.5833,109.8255 L173.9167,105.2422 L166.5833,100.6589 L167.5,102.0339 L172.5417,105.2422 L167.5,108.4505 L167.5,102.0339 \" fill=\"#000000\" style=\"stroke: ; stroke-width: 0.0; stroke-dasharray: ;\"/><text fill=\"#000000\" font-family=\"sans-serif\" font-size=\"11\" lengthAdjust=\"spacingAndGlyphs\" textLength=\"21\" x=\"178\" y=\"110.8979\">po1</text><text fill=\"#000000\" font-family=\"sans-serif\" font-size=\"11\" lengthAdjust=\"spacingAndGlyphs\" text-decoration=\"line-through\" textLength=\"58\" x=\"203\" y=\"110.8979\">P1::porig1</text><line style=\"stroke: #A80036; stroke-width: 1.0;\" x1=\"156\" x2=\"196\" y1=\"93.3398\" y2=\"93.3398\"/><text fill=\"#000000\" font-family=\"sans-serif\" font-size=\"11\" lengthAdjust=\"spacingAndGlyphs\" textLength=\"30\" x=\"196\" y=\"96.6479\">ports</text><line style=\"stroke: #A80036; stroke-width: 1.0;\" x1=\"226\" x2=\"266\" y1=\"93.3398\" y2=\"93.3398\"/></a><!--MD5=[60a26617385b1d2d0262a64233df1f8d]\n",
       "class E6--><a href=\"psysml:32242b45-8d95-4b7d-97cb-8dd31296908f\" target=\"_top\" title=\"psysml:32242b45-8d95-4b7d-97cb-8dd31296908f\" xlink:actuate=\"onRequest\" xlink:href=\"psysml:32242b45-8d95-4b7d-97cb-8dd31296908f\" xlink:show=\"new\" xlink:title=\"psysml:32242b45-8d95-4b7d-97cb-8dd31296908f\" xlink:type=\"simple\"><rect fill=\"#FEFECE\" filter=\"url(#f15yrls6c9604q)\" height=\"75.5469\" id=\"E6\" rx=\"10\" ry=\"10\" style=\"stroke: #A80036; stroke-width: 1.5;\" width=\"88\" x=\"32\" y=\"41\"/><text fill=\"#000000\" font-family=\"sans-serif\" font-size=\"12\" font-style=\"italic\" lengthAdjust=\"spacingAndGlyphs\" textLength=\"40\" x=\"56\" y=\"57.1387\">«part»</text><text fill=\"#000000\" font-family=\"sans-serif\" font-size=\"12\" lengthAdjust=\"spacingAndGlyphs\" textLength=\"40\" x=\"56\" y=\"71.1074\">p2: P1</text><line style=\"stroke: #A80036; stroke-width: 1.5;\" x1=\"33\" x2=\"119\" y1=\"78.9375\" y2=\"78.9375\"/><text fill=\"#000000\" font-family=\"sans-serif\" font-size=\"11\" lengthAdjust=\"spacingAndGlyphs\" textLength=\"32\" x=\"38\" y=\"109.9526\">pdest</text><text fill=\"#000000\" font-family=\"sans-serif\" font-size=\"11\" font-weight=\"bold\" lengthAdjust=\"spacingAndGlyphs\" textLength=\"15\" x=\"74\" y=\"109.9526\">as</text><text fill=\"#000000\" font-family=\"sans-serif\" font-size=\"11\" lengthAdjust=\"spacingAndGlyphs\" textLength=\"21\" x=\"93\" y=\"109.9526\">pd1</text><line style=\"stroke: #A80036; stroke-width: 1.0;\" x1=\"33\" x2=\"61\" y1=\"93.3398\" y2=\"93.3398\"/><text fill=\"#000000\" font-family=\"sans-serif\" font-size=\"11\" lengthAdjust=\"spacingAndGlyphs\" textLength=\"30\" x=\"61\" y=\"96.6479\">ports</text><line style=\"stroke: #A80036; stroke-width: 1.0;\" x1=\"91\" x2=\"119\" y1=\"93.3398\" y2=\"93.3398\"/></a><!--MD5=[185131fc0dcab0a4505a2ebe144e961b]\n",
       "link E4 to E2--><a href=\"psysml:2d5875ca-6e79-47eb-af19-37e1c3e68f98\" target=\"_top\" title=\"psysml:2d5875ca-6e79-47eb-af19-37e1c3e68f98\" xlink:actuate=\"onRequest\" xlink:href=\"psysml:2d5875ca-6e79-47eb-af19-37e1c3e68f98\" xlink:show=\"new\" xlink:title=\"psysml:2d5875ca-6e79-47eb-af19-37e1c3e68f98\" xlink:type=\"simple\"><path d=\"M192.34,117.33 C185.95,130.1 178.66,144.69 171.71,158.58 \" fill=\"none\" id=\"E4-&gt;E2\" style=\"stroke: #A80036; stroke-width: 1.0;\"/><polygon fill=\"#FFFFFF\" points=\"162.56,176.87,164.8089,156.7468,177.3269,163.0158,162.56,176.87\" style=\"stroke: #A80036; stroke-width: 1.0;\"/><ellipse cx=\"169.1496\" cy=\"152.5458\" fill=\"#A80036\" rx=\"2\" ry=\"2\" style=\"stroke: #A80036; stroke-width: 1.0;\"/><ellipse cx=\"178.091\" cy=\"157.0236\" fill=\"#A80036\" rx=\"2\" ry=\"2\" style=\"stroke: #A80036; stroke-width: 1.0;\"/></a><!--MD5=[2351f337d6de0f557b50152ba70847b5]\n",
       "link E6 to E2--><a href=\"psysml:6438d4a2-0b71-4be8-b1f1-dcd907944303\" target=\"_top\" title=\"psysml:6438d4a2-0b71-4be8-b1f1-dcd907944303\" xlink:actuate=\"onRequest\" xlink:href=\"psysml:6438d4a2-0b71-4be8-b1f1-dcd907944303\" xlink:show=\"new\" xlink:title=\"psysml:6438d4a2-0b71-4be8-b1f1-dcd907944303\" xlink:type=\"simple\"><path d=\"M94.94,117.33 C101.43,130.1 108.83,144.69 115.88,158.58 \" fill=\"none\" id=\"E6-&gt;E2\" style=\"stroke: #A80036; stroke-width: 1.0;\"/><polygon fill=\"#FFFFFF\" points=\"125.16,176.87,110.3137,163.101,122.7954,156.7601,125.16,176.87\" style=\"stroke: #A80036; stroke-width: 1.0;\"/><ellipse cx=\"109.5151\" cy=\"157.1133\" fill=\"#A80036\" rx=\"2\" ry=\"2\" style=\"stroke: #A80036; stroke-width: 1.0;\"/><ellipse cx=\"118.4306\" cy=\"152.5841\" fill=\"#A80036\" rx=\"2\" ry=\"2\" style=\"stroke: #A80036; stroke-width: 1.0;\"/></a><!--MD5=[3040418f5990af7ce14c1014160c330c]\n",
       "@startuml\r\n",
       "skinparam wrapWidth 300\r\n",
       "hide circle\r\n",
       "\r\n",
       "package \"AliasTest\" as E1  [[psysml:e49964db-e340-4eba-a3a8-d7e4e465bce2 ]]  {\r\n",
       "comp def \"P1\" as E2  <<(T,blue)part def>> [[psysml:c347ad09-22d6-4423-9bac-4dbac759901f ]] {\r\n",
       "- - ports - -\r\n",
       "porig1 <b>as</b> po1 \r\n",
       "}\r\n",
       "comp usage \"p1: P1\" as E4  <<(T,blue)part>> [[psysml:d449d8a1-a677-4f10-8ecb-a1ad1c680d6c ]] {\r\n",
       "- - ports - -\r\n",
       "<&bar-trig> po1 <s>P1::porig1</s>\r\n",
       "}\r\n",
       "comp usage \"p2: P1\" as E6  <<(T,blue)part>> [[psysml:32242b45-8d95-4b7d-97cb-8dd31296908f ]] {\r\n",
       "- - ports - -\r\n",
       "pdest <b>as</b> pd1 \r\n",
       "}\r\n",
       "E4 - -:|> E2 [[psysml:2d5875ca-6e79-47eb-af19-37e1c3e68f98 ]] \r\n",
       "E6 - -:|> E2 [[psysml:6438d4a2-0b71-4be8-b1f1-dcd907944303 ]] \r\n",
       "}\r\n",
       "@enduml\r\n",
       "\n",
       "PlantUML version 1.2020.13(Sat Jun 13 12:26:38 UTC 2020)\n",
       "(EPL source distribution)\n",
       "Java Runtime: OpenJDK Runtime Environment\n",
       "JVM: OpenJDK 64-Bit Server VM\n",
       "Default Encoding: UTF-8\n",
       "Language: en\n",
       "Country: null\n",
       "--></g></svg>"
      ]
     },
     "execution_count": 29,
     "metadata": {},
     "output_type": "execute_result"
    }
   ],
   "source": [
    "%viz --style=\"STDCOLOR\" --view=\"MIXED\" \"AliasTest\""
   ]
  },
  {
   "cell_type": "code",
   "execution_count": 30,
   "id": "simplified-recovery",
   "metadata": {
    "execution": {
     "iopub.execute_input": "2021-03-25T14:10:06.840748Z",
     "iopub.status.busy": "2021-03-25T14:10:06.839719Z",
     "iopub.status.idle": "2021-03-25T14:10:07.419136Z",
     "shell.execute_reply": "2021-03-25T14:10:07.417639Z"
    }
   },
   "outputs": [
    {
     "data": {
      "image/svg+xml": [
       "<?xml version=\"1.0\" encoding=\"UTF-8\" standalone=\"no\"?><svg xmlns=\"http://www.w3.org/2000/svg\" xmlns:xlink=\"http://www.w3.org/1999/xlink\" contentScriptType=\"application/ecmascript\" contentStyleType=\"text/css\" height=\"287px\" preserveAspectRatio=\"none\" style=\"width:285px;height:287px;\" version=\"1.1\" viewBox=\"0 0 285 287\" width=\"285px\" zoomAndPan=\"magnify\"><defs><filter height=\"300%\" id=\"f1y0y62yvplikd\" width=\"300%\" x=\"-1\" y=\"-1\"><feGaussianBlur result=\"blurOut\" stdDeviation=\"2.0\"/><feColorMatrix in=\"blurOut\" result=\"blurOut2\" type=\"matrix\" values=\"0 0 0 0 0 0 0 0 0 0 0 0 0 0 0 0 0 0 .4 0\"/><feOffset dx=\"4.0\" dy=\"4.0\" in=\"blurOut2\" result=\"blurOut3\"/><feBlend in=\"SourceGraphic\" in2=\"blurOut3\" mode=\"normal\"/></filter></defs><g><!--MD5=[fbc87193dbaf4d95561dea2c320d4a47]\n",
       "cluster E1--><a href=\"psysml:e49964db-e340-4eba-a3a8-d7e4e465bce2\" target=\"_top\" title=\"psysml:e49964db-e340-4eba-a3a8-d7e4e465bce2\" xlink:actuate=\"onRequest\" xlink:href=\"psysml:e49964db-e340-4eba-a3a8-d7e4e465bce2\" xlink:show=\"new\" xlink:title=\"psysml:e49964db-e340-4eba-a3a8-d7e4e465bce2\" xlink:type=\"simple\"><polygon fill=\"#FFFFFF\" filter=\"url(#f1y0y62yvplikd)\" points=\"16,6,94,6,101,28.2969,263,28.2969,263,275,16,275,16,6\" style=\"stroke: #000000; stroke-width: 1.5;\"/><line style=\"stroke: #000000; stroke-width: 1.5;\" x1=\"16\" x2=\"101\" y1=\"28.2969\" y2=\"28.2969\"/><text fill=\"#000000\" font-family=\"sans-serif\" font-size=\"14\" font-weight=\"bold\" lengthAdjust=\"spacingAndGlyphs\" textLength=\"72\" x=\"20\" y=\"20.9951\">AliasTest</text></a><!--MD5=[b4997ac47864f28c2f74865a473b2911]\n",
       "class E2--><a href=\"psysml:c347ad09-22d6-4423-9bac-4dbac759901f\" target=\"_top\" title=\"psysml:c347ad09-22d6-4423-9bac-4dbac759901f\" xlink:actuate=\"onRequest\" xlink:href=\"psysml:c347ad09-22d6-4423-9bac-4dbac759901f\" xlink:show=\"new\" xlink:title=\"psysml:c347ad09-22d6-4423-9bac-4dbac759901f\" xlink:type=\"simple\"><rect fill=\"#FEFECE\" filter=\"url(#f1y0y62yvplikd)\" height=\"69.6094\" id=\"E2\" style=\"stroke: #A80036; stroke-width: 1.5;\" width=\"92\" x=\"93\" y=\"189\"/><ellipse cx=\"127.8\" cy=\"205\" fill=\"#008000\" rx=\"11\" ry=\"11\" style=\"stroke: #A80036; stroke-width: 1.0;\"/><path d=\"M126.7063,205.375 L126.7063,209.0469 L128.3313,209.0469 Q129.5031,209.0469 129.9719,208.6563 Q130.4406,208.25 130.4406,207.25 Q130.4406,206.25 129.9406,205.8125 Q129.4563,205.375 128.3313,205.375 L126.7063,205.375 Z M126.7063,200.5469 L126.7063,203.4219 L128.3313,203.4219 Q129.2531,203.4219 129.6438,203.0938 Q130.05,202.75 130.05,202 Q130.05,201.2344 129.6438,200.8906 Q129.2375,200.5469 128.3313,200.5469 L126.7063,200.5469 Z M124.3313,198.5938 L128.3313,198.5938 Q130.3938,198.5938 131.4406,199.375 Q132.4875,200.1563 132.4875,201.7188 Q132.4875,202.9219 131.8625,203.5938 Q131.2531,204.2656 130.0656,204.375 Q131.4875,204.5156 132.2063,205.3281 Q132.925,206.1406 132.925,207.5938 Q132.925,209.3906 131.8469,210.2031 Q130.7688,211 128.3313,211 L124.3313,211 L124.3313,198.5938 Z \"/><text fill=\"#000000\" font-family=\"sans-serif\" font-size=\"12\" lengthAdjust=\"spacingAndGlyphs\" textLength=\"16\" x=\"146.2\" y=\"209.1543\">P1</text><line style=\"stroke: #A80036; stroke-width: 1.5;\" x1=\"94\" x2=\"184\" y1=\"221\" y2=\"221\"/><text fill=\"#000000\" font-family=\"sans-serif\" font-size=\"11\" lengthAdjust=\"spacingAndGlyphs\" textLength=\"36\" x=\"99\" y=\"252.0151\">porig1</text><text fill=\"#000000\" font-family=\"sans-serif\" font-size=\"11\" font-weight=\"bold\" lengthAdjust=\"spacingAndGlyphs\" textLength=\"15\" x=\"139\" y=\"252.0151\">as</text><text fill=\"#000000\" font-family=\"sans-serif\" font-size=\"11\" lengthAdjust=\"spacingAndGlyphs\" textLength=\"21\" x=\"158\" y=\"252.0151\">po1</text><line style=\"stroke: #A80036; stroke-width: 1.0;\" x1=\"94\" x2=\"124\" y1=\"235.4023\" y2=\"235.4023\"/><text fill=\"#000000\" font-family=\"sans-serif\" font-size=\"11\" lengthAdjust=\"spacingAndGlyphs\" textLength=\"30\" x=\"124\" y=\"238.7104\">ports</text><line style=\"stroke: #A80036; stroke-width: 1.0;\" x1=\"154\" x2=\"184\" y1=\"235.4023\" y2=\"235.4023\"/></a><!--MD5=[ebbe1d658d1005bcc118a6aa81145e00]\n",
       "class E4--><a href=\"psysml:d449d8a1-a677-4f10-8ecb-a1ad1c680d6c\" target=\"_top\" title=\"psysml:d449d8a1-a677-4f10-8ecb-a1ad1c680d6c\" xlink:actuate=\"onRequest\" xlink:href=\"psysml:d449d8a1-a677-4f10-8ecb-a1ad1c680d6c\" xlink:show=\"new\" xlink:title=\"psysml:d449d8a1-a677-4f10-8ecb-a1ad1c680d6c\" xlink:type=\"simple\"><rect fill=\"#FEFECE\" filter=\"url(#f1y0y62yvplikd)\" height=\"88.3516\" id=\"E4\" rx=\"10\" ry=\"10\" style=\"stroke: #A80036; stroke-width: 1.5;\" width=\"92\" x=\"155\" y=\"41\"/><ellipse cx=\"179\" cy=\"59.9688\" fill=\"#32CD32\" rx=\"11\" ry=\"11\" style=\"stroke: #A80036; stroke-width: 1.0;\"/><path d=\"M178.7969,55.6406 L178.7969,59.2656 L179.7969,59.2656 Q181,59.2656 181.4844,58.8594 Q181.9688,58.4531 181.9688,57.4531 Q181.9688,56.4531 181.4844,56.0469 Q181,55.6406 179.7969,55.6406 L178.7969,55.6406 Z M176.3438,53.5781 L179.7031,53.5781 Q182.2656,53.5781 183.3906,54.5 Q184.5156,55.4063 184.5156,57.4531 Q184.5156,59.5 183.3906,60.4219 Q182.2656,61.3281 179.7031,61.3281 L178.7969,61.3281 L178.7969,65.9688 L176.3438,65.9688 L176.3438,53.5781 Z \"/><text fill=\"#000000\" font-family=\"sans-serif\" font-size=\"12\" font-style=\"italic\" lengthAdjust=\"spacingAndGlyphs\" textLength=\"40\" x=\"195\" y=\"57.1387\">«part»</text><text fill=\"#000000\" font-family=\"sans-serif\" font-size=\"12\" lengthAdjust=\"spacingAndGlyphs\" textLength=\"40\" x=\"195\" y=\"71.1074\">p1: P1</text><line style=\"stroke: #A80036; stroke-width: 1.5;\" x1=\"156\" x2=\"246\" y1=\"78.9375\" y2=\"78.9375\"/><text fill=\"#000000\" font-family=\"sans-serif\" font-size=\"11\" lengthAdjust=\"spacingAndGlyphs\" textLength=\"21\" x=\"161\" y=\"109.9526\">po1</text><text fill=\"#000000\" font-family=\"sans-serif\" font-size=\"11\" font-style=\"italic\" lengthAdjust=\"spacingAndGlyphs\" textLength=\"80\" x=\"161\" y=\"122.7573\">:&gt;&gt;P1::porig1</text><line style=\"stroke: #A80036; stroke-width: 1.0;\" x1=\"156\" x2=\"186\" y1=\"93.3398\" y2=\"93.3398\"/><text fill=\"#000000\" font-family=\"sans-serif\" font-size=\"11\" lengthAdjust=\"spacingAndGlyphs\" textLength=\"30\" x=\"186\" y=\"96.6479\">ports</text><line style=\"stroke: #A80036; stroke-width: 1.0;\" x1=\"216\" x2=\"246\" y1=\"93.3398\" y2=\"93.3398\"/></a><!--MD5=[60a26617385b1d2d0262a64233df1f8d]\n",
       "class E6--><a href=\"psysml:32242b45-8d95-4b7d-97cb-8dd31296908f\" target=\"_top\" title=\"psysml:32242b45-8d95-4b7d-97cb-8dd31296908f\" xlink:actuate=\"onRequest\" xlink:href=\"psysml:32242b45-8d95-4b7d-97cb-8dd31296908f\" xlink:show=\"new\" xlink:title=\"psysml:32242b45-8d95-4b7d-97cb-8dd31296908f\" xlink:type=\"simple\"><rect fill=\"#FEFECE\" filter=\"url(#f1y0y62yvplikd)\" height=\"75.5469\" id=\"E6\" rx=\"10\" ry=\"10\" style=\"stroke: #A80036; stroke-width: 1.5;\" width=\"88\" x=\"32\" y=\"47\"/><ellipse cx=\"54.2\" cy=\"65.9688\" fill=\"#32CD32\" rx=\"11\" ry=\"11\" style=\"stroke: #A80036; stroke-width: 1.0;\"/><path d=\"M53.9969,61.6406 L53.9969,65.2656 L54.9969,65.2656 Q56.2,65.2656 56.6844,64.8594 Q57.1688,64.4531 57.1688,63.4531 Q57.1688,62.4531 56.6844,62.0469 Q56.2,61.6406 54.9969,61.6406 L53.9969,61.6406 Z M51.5438,59.5781 L54.9031,59.5781 Q57.4656,59.5781 58.5906,60.5 Q59.7156,61.4063 59.7156,63.4531 Q59.7156,65.5 58.5906,66.4219 Q57.4656,67.3281 54.9031,67.3281 L53.9969,67.3281 L53.9969,71.9688 L51.5438,71.9688 L51.5438,59.5781 Z \"/><text fill=\"#000000\" font-family=\"sans-serif\" font-size=\"12\" font-style=\"italic\" lengthAdjust=\"spacingAndGlyphs\" textLength=\"40\" x=\"69.8\" y=\"63.1387\">«part»</text><text fill=\"#000000\" font-family=\"sans-serif\" font-size=\"12\" lengthAdjust=\"spacingAndGlyphs\" textLength=\"40\" x=\"69.8\" y=\"77.1074\">p2: P1</text><line style=\"stroke: #A80036; stroke-width: 1.5;\" x1=\"33\" x2=\"119\" y1=\"84.9375\" y2=\"84.9375\"/><text fill=\"#000000\" font-family=\"sans-serif\" font-size=\"11\" lengthAdjust=\"spacingAndGlyphs\" textLength=\"32\" x=\"38\" y=\"115.9526\">pdest</text><text fill=\"#000000\" font-family=\"sans-serif\" font-size=\"11\" font-weight=\"bold\" lengthAdjust=\"spacingAndGlyphs\" textLength=\"15\" x=\"74\" y=\"115.9526\">as</text><text fill=\"#000000\" font-family=\"sans-serif\" font-size=\"11\" lengthAdjust=\"spacingAndGlyphs\" textLength=\"21\" x=\"93\" y=\"115.9526\">pd1</text><line style=\"stroke: #A80036; stroke-width: 1.0;\" x1=\"33\" x2=\"61\" y1=\"99.3398\" y2=\"99.3398\"/><text fill=\"#000000\" font-family=\"sans-serif\" font-size=\"11\" lengthAdjust=\"spacingAndGlyphs\" textLength=\"30\" x=\"61\" y=\"102.6479\">ports</text><line style=\"stroke: #A80036; stroke-width: 1.0;\" x1=\"91\" x2=\"119\" y1=\"99.3398\" y2=\"99.3398\"/></a><!--MD5=[185131fc0dcab0a4505a2ebe144e961b]\n",
       "link E4 to E2--><a href=\"psysml:2d5875ca-6e79-47eb-af19-37e1c3e68f98\" target=\"_top\" title=\"psysml:2d5875ca-6e79-47eb-af19-37e1c3e68f98\" xlink:actuate=\"onRequest\" xlink:href=\"psysml:2d5875ca-6e79-47eb-af19-37e1c3e68f98\" xlink:show=\"new\" xlink:title=\"psysml:2d5875ca-6e79-47eb-af19-37e1c3e68f98\" xlink:type=\"simple\"><path d=\"M181.38,129.35 C175.5,142.35 168.98,156.75 162.86,170.29 \" fill=\"none\" id=\"E4-&gt;E2\" style=\"stroke: #A80036; stroke-width: 1.0;\"/><polygon fill=\"#FFFFFF\" points=\"154.57,188.61,156.0203,168.4135,168.7767,174.1819,154.57,188.61\" style=\"stroke: #A80036; stroke-width: 1.0;\"/><ellipse cx=\"160.1912\" cy=\"164.0439\" fill=\"#A80036\" rx=\"2\" ry=\"2\" style=\"stroke: #A80036; stroke-width: 1.0;\"/><ellipse cx=\"169.3029\" cy=\"168.1642\" fill=\"#A80036\" rx=\"2\" ry=\"2\" style=\"stroke: #A80036; stroke-width: 1.0;\"/></a><!--MD5=[2351f337d6de0f557b50152ba70847b5]\n",
       "link E6 to E2--><a href=\"psysml:6438d4a2-0b71-4be8-b1f1-dcd907944303\" target=\"_top\" title=\"psysml:6438d4a2-0b71-4be8-b1f1-dcd907944303\" xlink:actuate=\"onRequest\" xlink:href=\"psysml:6438d4a2-0b71-4be8-b1f1-dcd907944303\" xlink:show=\"new\" xlink:title=\"psysml:6438d4a2-0b71-4be8-b1f1-dcd907944303\" xlink:type=\"simple\"><path d=\"M93.05,123.07 C99.73,137.61 107.53,154.55 114.77,170.32 \" fill=\"none\" id=\"E6-&gt;E2\" style=\"stroke: #A80036; stroke-width: 1.0;\"/><polygon fill=\"#FFFFFF\" points=\"123.24,188.72,108.9415,174.3829,121.6608,168.5332,123.24,188.72\" style=\"stroke: #A80036; stroke-width: 1.0;\"/><ellipse cx=\"108.3769\" cy=\"168.3687\" fill=\"#A80036\" rx=\"2\" ry=\"2\" style=\"stroke: #A80036; stroke-width: 1.0;\"/><ellipse cx=\"117.4621\" cy=\"164.1903\" fill=\"#A80036\" rx=\"2\" ry=\"2\" style=\"stroke: #A80036; stroke-width: 1.0;\"/></a><!--MD5=[a066420ad9204f2b29d5424a22c03d0f]\n",
       "@startuml\r\n",
       " \r\n",
       "package \"AliasTest\" as E1  [[psysml:e49964db-e340-4eba-a3a8-d7e4e465bce2 ]]  {\r\n",
       "comp def \"P1\" as E2  << (B,green) >> [[psysml:c347ad09-22d6-4423-9bac-4dbac759901f ]] {\r\n",
       "- - ports - -\r\n",
       "porig1 <b>as</b> po1 \r\n",
       "}\r\n",
       "comp usage \"p1: P1\" as E4  << (P,limegreen) part>> [[psysml:d449d8a1-a677-4f10-8ecb-a1ad1c680d6c ]] {\r\n",
       "- - ports - -\r\n",
       "po1\\n//:>>P1::porig1// \r\n",
       "}\r\n",
       "comp usage \"p2: P1\" as E6  << (P,limegreen) part>> [[psysml:32242b45-8d95-4b7d-97cb-8dd31296908f ]] {\r\n",
       "- - ports - -\r\n",
       "pdest <b>as</b> pd1 \r\n",
       "}\r\n",
       "E4 - -:|> E2 [[psysml:2d5875ca-6e79-47eb-af19-37e1c3e68f98 ]] \r\n",
       "E6 - -:|> E2 [[psysml:6438d4a2-0b71-4be8-b1f1-dcd907944303 ]] \r\n",
       "}\r\n",
       "@enduml\r\n",
       "\n",
       "PlantUML version 1.2020.13(Sat Jun 13 12:26:38 UTC 2020)\n",
       "(EPL source distribution)\n",
       "Java Runtime: OpenJDK Runtime Environment\n",
       "JVM: OpenJDK 64-Bit Server VM\n",
       "Default Encoding: UTF-8\n",
       "Language: en\n",
       "Country: null\n",
       "--></g></svg>"
      ]
     },
     "execution_count": 30,
     "metadata": {},
     "output_type": "execute_result"
    }
   ],
   "source": [
    "%viz --style=\"PLANTUML\" --view=\"Default\" \"AliasTest\""
   ]
  },
  {
   "cell_type": "code",
   "execution_count": 31,
   "id": "dirty-porter",
   "metadata": {
    "execution": {
     "iopub.execute_input": "2021-03-25T14:10:07.471271Z",
     "iopub.status.busy": "2021-03-25T14:10:07.470232Z",
     "iopub.status.idle": "2021-03-25T14:10:08.017407Z",
     "shell.execute_reply": "2021-03-25T14:10:08.015788Z"
    }
   },
   "outputs": [
    {
     "data": {
      "image/svg+xml": [
       "<?xml version=\"1.0\" encoding=\"UTF-8\" standalone=\"no\"?><svg xmlns=\"http://www.w3.org/2000/svg\" xmlns:xlink=\"http://www.w3.org/1999/xlink\" contentScriptType=\"application/ecmascript\" contentStyleType=\"text/css\" height=\"287px\" preserveAspectRatio=\"none\" style=\"width:285px;height:287px;\" version=\"1.1\" viewBox=\"0 0 285 287\" width=\"285px\" zoomAndPan=\"magnify\"><defs><filter height=\"300%\" id=\"f1y0y62yvplikd\" width=\"300%\" x=\"-1\" y=\"-1\"><feGaussianBlur result=\"blurOut\" stdDeviation=\"2.0\"/><feColorMatrix in=\"blurOut\" result=\"blurOut2\" type=\"matrix\" values=\"0 0 0 0 0 0 0 0 0 0 0 0 0 0 0 0 0 0 .4 0\"/><feOffset dx=\"4.0\" dy=\"4.0\" in=\"blurOut2\" result=\"blurOut3\"/><feBlend in=\"SourceGraphic\" in2=\"blurOut3\" mode=\"normal\"/></filter></defs><g><!--MD5=[fbc87193dbaf4d95561dea2c320d4a47]\n",
       "cluster E1--><a href=\"psysml:e49964db-e340-4eba-a3a8-d7e4e465bce2\" target=\"_top\" title=\"psysml:e49964db-e340-4eba-a3a8-d7e4e465bce2\" xlink:actuate=\"onRequest\" xlink:href=\"psysml:e49964db-e340-4eba-a3a8-d7e4e465bce2\" xlink:show=\"new\" xlink:title=\"psysml:e49964db-e340-4eba-a3a8-d7e4e465bce2\" xlink:type=\"simple\"><polygon fill=\"#FFFFFF\" filter=\"url(#f1y0y62yvplikd)\" points=\"16,6,94,6,101,28.2969,263,28.2969,263,275,16,275,16,6\" style=\"stroke: #000000; stroke-width: 1.5;\"/><line style=\"stroke: #000000; stroke-width: 1.5;\" x1=\"16\" x2=\"101\" y1=\"28.2969\" y2=\"28.2969\"/><text fill=\"#000000\" font-family=\"sans-serif\" font-size=\"14\" font-weight=\"bold\" lengthAdjust=\"spacingAndGlyphs\" textLength=\"72\" x=\"20\" y=\"20.9951\">AliasTest</text></a><!--MD5=[b4997ac47864f28c2f74865a473b2911]\n",
       "class E2--><a href=\"psysml:c347ad09-22d6-4423-9bac-4dbac759901f\" target=\"_top\" title=\"psysml:c347ad09-22d6-4423-9bac-4dbac759901f\" xlink:actuate=\"onRequest\" xlink:href=\"psysml:c347ad09-22d6-4423-9bac-4dbac759901f\" xlink:show=\"new\" xlink:title=\"psysml:c347ad09-22d6-4423-9bac-4dbac759901f\" xlink:type=\"simple\"><rect fill=\"#FEFECE\" filter=\"url(#f1y0y62yvplikd)\" height=\"69.6094\" id=\"E2\" style=\"stroke: #A80036; stroke-width: 1.5;\" width=\"92\" x=\"93\" y=\"189\"/><ellipse cx=\"127.8\" cy=\"205\" fill=\"#008000\" rx=\"11\" ry=\"11\" style=\"stroke: #A80036; stroke-width: 1.0;\"/><path d=\"M126.7063,205.375 L126.7063,209.0469 L128.3313,209.0469 Q129.5031,209.0469 129.9719,208.6563 Q130.4406,208.25 130.4406,207.25 Q130.4406,206.25 129.9406,205.8125 Q129.4563,205.375 128.3313,205.375 L126.7063,205.375 Z M126.7063,200.5469 L126.7063,203.4219 L128.3313,203.4219 Q129.2531,203.4219 129.6438,203.0938 Q130.05,202.75 130.05,202 Q130.05,201.2344 129.6438,200.8906 Q129.2375,200.5469 128.3313,200.5469 L126.7063,200.5469 Z M124.3313,198.5938 L128.3313,198.5938 Q130.3938,198.5938 131.4406,199.375 Q132.4875,200.1563 132.4875,201.7188 Q132.4875,202.9219 131.8625,203.5938 Q131.2531,204.2656 130.0656,204.375 Q131.4875,204.5156 132.2063,205.3281 Q132.925,206.1406 132.925,207.5938 Q132.925,209.3906 131.8469,210.2031 Q130.7688,211 128.3313,211 L124.3313,211 L124.3313,198.5938 Z \"/><text fill=\"#000000\" font-family=\"sans-serif\" font-size=\"12\" lengthAdjust=\"spacingAndGlyphs\" textLength=\"16\" x=\"146.2\" y=\"209.1543\">P1</text><line style=\"stroke: #A80036; stroke-width: 1.5;\" x1=\"94\" x2=\"184\" y1=\"221\" y2=\"221\"/><text fill=\"#000000\" font-family=\"sans-serif\" font-size=\"11\" lengthAdjust=\"spacingAndGlyphs\" textLength=\"36\" x=\"99\" y=\"252.0151\">porig1</text><text fill=\"#000000\" font-family=\"sans-serif\" font-size=\"11\" font-weight=\"bold\" lengthAdjust=\"spacingAndGlyphs\" textLength=\"15\" x=\"139\" y=\"252.0151\">as</text><text fill=\"#000000\" font-family=\"sans-serif\" font-size=\"11\" lengthAdjust=\"spacingAndGlyphs\" textLength=\"21\" x=\"158\" y=\"252.0151\">po1</text><line style=\"stroke: #A80036; stroke-width: 1.0;\" x1=\"94\" x2=\"124\" y1=\"235.4023\" y2=\"235.4023\"/><text fill=\"#000000\" font-family=\"sans-serif\" font-size=\"11\" lengthAdjust=\"spacingAndGlyphs\" textLength=\"30\" x=\"124\" y=\"238.7104\">ports</text><line style=\"stroke: #A80036; stroke-width: 1.0;\" x1=\"154\" x2=\"184\" y1=\"235.4023\" y2=\"235.4023\"/></a><!--MD5=[ebbe1d658d1005bcc118a6aa81145e00]\n",
       "class E4--><a href=\"psysml:d449d8a1-a677-4f10-8ecb-a1ad1c680d6c\" target=\"_top\" title=\"psysml:d449d8a1-a677-4f10-8ecb-a1ad1c680d6c\" xlink:actuate=\"onRequest\" xlink:href=\"psysml:d449d8a1-a677-4f10-8ecb-a1ad1c680d6c\" xlink:show=\"new\" xlink:title=\"psysml:d449d8a1-a677-4f10-8ecb-a1ad1c680d6c\" xlink:type=\"simple\"><rect fill=\"#FEFECE\" filter=\"url(#f1y0y62yvplikd)\" height=\"88.3516\" id=\"E4\" rx=\"10\" ry=\"10\" style=\"stroke: #A80036; stroke-width: 1.5;\" width=\"92\" x=\"155\" y=\"41\"/><ellipse cx=\"179\" cy=\"59.9688\" fill=\"#32CD32\" rx=\"11\" ry=\"11\" style=\"stroke: #A80036; stroke-width: 1.0;\"/><path d=\"M178.7969,55.6406 L178.7969,59.2656 L179.7969,59.2656 Q181,59.2656 181.4844,58.8594 Q181.9688,58.4531 181.9688,57.4531 Q181.9688,56.4531 181.4844,56.0469 Q181,55.6406 179.7969,55.6406 L178.7969,55.6406 Z M176.3438,53.5781 L179.7031,53.5781 Q182.2656,53.5781 183.3906,54.5 Q184.5156,55.4063 184.5156,57.4531 Q184.5156,59.5 183.3906,60.4219 Q182.2656,61.3281 179.7031,61.3281 L178.7969,61.3281 L178.7969,65.9688 L176.3438,65.9688 L176.3438,53.5781 Z \"/><text fill=\"#000000\" font-family=\"sans-serif\" font-size=\"12\" font-style=\"italic\" lengthAdjust=\"spacingAndGlyphs\" textLength=\"40\" x=\"195\" y=\"57.1387\">«part»</text><text fill=\"#000000\" font-family=\"sans-serif\" font-size=\"12\" lengthAdjust=\"spacingAndGlyphs\" textLength=\"40\" x=\"195\" y=\"71.1074\">p1: P1</text><line style=\"stroke: #A80036; stroke-width: 1.5;\" x1=\"156\" x2=\"246\" y1=\"78.9375\" y2=\"78.9375\"/><text fill=\"#000000\" font-family=\"sans-serif\" font-size=\"11\" lengthAdjust=\"spacingAndGlyphs\" textLength=\"21\" x=\"161\" y=\"109.9526\">po1</text><text fill=\"#000000\" font-family=\"sans-serif\" font-size=\"11\" font-style=\"italic\" lengthAdjust=\"spacingAndGlyphs\" textLength=\"80\" x=\"161\" y=\"122.7573\">:&gt;&gt;P1::porig1</text><line style=\"stroke: #A80036; stroke-width: 1.0;\" x1=\"156\" x2=\"186\" y1=\"93.3398\" y2=\"93.3398\"/><text fill=\"#000000\" font-family=\"sans-serif\" font-size=\"11\" lengthAdjust=\"spacingAndGlyphs\" textLength=\"30\" x=\"186\" y=\"96.6479\">ports</text><line style=\"stroke: #A80036; stroke-width: 1.0;\" x1=\"216\" x2=\"246\" y1=\"93.3398\" y2=\"93.3398\"/></a><!--MD5=[60a26617385b1d2d0262a64233df1f8d]\n",
       "class E6--><a href=\"psysml:32242b45-8d95-4b7d-97cb-8dd31296908f\" target=\"_top\" title=\"psysml:32242b45-8d95-4b7d-97cb-8dd31296908f\" xlink:actuate=\"onRequest\" xlink:href=\"psysml:32242b45-8d95-4b7d-97cb-8dd31296908f\" xlink:show=\"new\" xlink:title=\"psysml:32242b45-8d95-4b7d-97cb-8dd31296908f\" xlink:type=\"simple\"><rect fill=\"#FEFECE\" filter=\"url(#f1y0y62yvplikd)\" height=\"75.5469\" id=\"E6\" rx=\"10\" ry=\"10\" style=\"stroke: #A80036; stroke-width: 1.5;\" width=\"88\" x=\"32\" y=\"47\"/><ellipse cx=\"54.2\" cy=\"65.9688\" fill=\"#32CD32\" rx=\"11\" ry=\"11\" style=\"stroke: #A80036; stroke-width: 1.0;\"/><path d=\"M53.9969,61.6406 L53.9969,65.2656 L54.9969,65.2656 Q56.2,65.2656 56.6844,64.8594 Q57.1688,64.4531 57.1688,63.4531 Q57.1688,62.4531 56.6844,62.0469 Q56.2,61.6406 54.9969,61.6406 L53.9969,61.6406 Z M51.5438,59.5781 L54.9031,59.5781 Q57.4656,59.5781 58.5906,60.5 Q59.7156,61.4063 59.7156,63.4531 Q59.7156,65.5 58.5906,66.4219 Q57.4656,67.3281 54.9031,67.3281 L53.9969,67.3281 L53.9969,71.9688 L51.5438,71.9688 L51.5438,59.5781 Z \"/><text fill=\"#000000\" font-family=\"sans-serif\" font-size=\"12\" font-style=\"italic\" lengthAdjust=\"spacingAndGlyphs\" textLength=\"40\" x=\"69.8\" y=\"63.1387\">«part»</text><text fill=\"#000000\" font-family=\"sans-serif\" font-size=\"12\" lengthAdjust=\"spacingAndGlyphs\" textLength=\"40\" x=\"69.8\" y=\"77.1074\">p2: P1</text><line style=\"stroke: #A80036; stroke-width: 1.5;\" x1=\"33\" x2=\"119\" y1=\"84.9375\" y2=\"84.9375\"/><text fill=\"#000000\" font-family=\"sans-serif\" font-size=\"11\" lengthAdjust=\"spacingAndGlyphs\" textLength=\"32\" x=\"38\" y=\"115.9526\">pdest</text><text fill=\"#000000\" font-family=\"sans-serif\" font-size=\"11\" font-weight=\"bold\" lengthAdjust=\"spacingAndGlyphs\" textLength=\"15\" x=\"74\" y=\"115.9526\">as</text><text fill=\"#000000\" font-family=\"sans-serif\" font-size=\"11\" lengthAdjust=\"spacingAndGlyphs\" textLength=\"21\" x=\"93\" y=\"115.9526\">pd1</text><line style=\"stroke: #A80036; stroke-width: 1.0;\" x1=\"33\" x2=\"61\" y1=\"99.3398\" y2=\"99.3398\"/><text fill=\"#000000\" font-family=\"sans-serif\" font-size=\"11\" lengthAdjust=\"spacingAndGlyphs\" textLength=\"30\" x=\"61\" y=\"102.6479\">ports</text><line style=\"stroke: #A80036; stroke-width: 1.0;\" x1=\"91\" x2=\"119\" y1=\"99.3398\" y2=\"99.3398\"/></a><!--MD5=[185131fc0dcab0a4505a2ebe144e961b]\n",
       "link E4 to E2--><a href=\"psysml:2d5875ca-6e79-47eb-af19-37e1c3e68f98\" target=\"_top\" title=\"psysml:2d5875ca-6e79-47eb-af19-37e1c3e68f98\" xlink:actuate=\"onRequest\" xlink:href=\"psysml:2d5875ca-6e79-47eb-af19-37e1c3e68f98\" xlink:show=\"new\" xlink:title=\"psysml:2d5875ca-6e79-47eb-af19-37e1c3e68f98\" xlink:type=\"simple\"><path d=\"M181.38,129.35 C175.5,142.35 168.98,156.75 162.86,170.29 \" fill=\"none\" id=\"E4-&gt;E2\" style=\"stroke: #A80036; stroke-width: 1.0;\"/><polygon fill=\"#FFFFFF\" points=\"154.57,188.61,156.0203,168.4135,168.7767,174.1819,154.57,188.61\" style=\"stroke: #A80036; stroke-width: 1.0;\"/><ellipse cx=\"160.1912\" cy=\"164.0439\" fill=\"#A80036\" rx=\"2\" ry=\"2\" style=\"stroke: #A80036; stroke-width: 1.0;\"/><ellipse cx=\"169.3029\" cy=\"168.1642\" fill=\"#A80036\" rx=\"2\" ry=\"2\" style=\"stroke: #A80036; stroke-width: 1.0;\"/></a><!--MD5=[2351f337d6de0f557b50152ba70847b5]\n",
       "link E6 to E2--><a href=\"psysml:6438d4a2-0b71-4be8-b1f1-dcd907944303\" target=\"_top\" title=\"psysml:6438d4a2-0b71-4be8-b1f1-dcd907944303\" xlink:actuate=\"onRequest\" xlink:href=\"psysml:6438d4a2-0b71-4be8-b1f1-dcd907944303\" xlink:show=\"new\" xlink:title=\"psysml:6438d4a2-0b71-4be8-b1f1-dcd907944303\" xlink:type=\"simple\"><path d=\"M93.05,123.07 C99.73,137.61 107.53,154.55 114.77,170.32 \" fill=\"none\" id=\"E6-&gt;E2\" style=\"stroke: #A80036; stroke-width: 1.0;\"/><polygon fill=\"#FFFFFF\" points=\"123.24,188.72,108.9415,174.3829,121.6608,168.5332,123.24,188.72\" style=\"stroke: #A80036; stroke-width: 1.0;\"/><ellipse cx=\"108.3769\" cy=\"168.3687\" fill=\"#A80036\" rx=\"2\" ry=\"2\" style=\"stroke: #A80036; stroke-width: 1.0;\"/><ellipse cx=\"117.4621\" cy=\"164.1903\" fill=\"#A80036\" rx=\"2\" ry=\"2\" style=\"stroke: #A80036; stroke-width: 1.0;\"/></a><!--MD5=[a066420ad9204f2b29d5424a22c03d0f]\n",
       "@startuml\r\n",
       " \r\n",
       "package \"AliasTest\" as E1  [[psysml:e49964db-e340-4eba-a3a8-d7e4e465bce2 ]]  {\r\n",
       "comp def \"P1\" as E2  << (B,green) >> [[psysml:c347ad09-22d6-4423-9bac-4dbac759901f ]] {\r\n",
       "- - ports - -\r\n",
       "porig1 <b>as</b> po1 \r\n",
       "}\r\n",
       "comp usage \"p1: P1\" as E4  << (P,limegreen) part>> [[psysml:d449d8a1-a677-4f10-8ecb-a1ad1c680d6c ]] {\r\n",
       "- - ports - -\r\n",
       "po1\\n//:>>P1::porig1// \r\n",
       "}\r\n",
       "comp usage \"p2: P1\" as E6  << (P,limegreen) part>> [[psysml:32242b45-8d95-4b7d-97cb-8dd31296908f ]] {\r\n",
       "- - ports - -\r\n",
       "pdest <b>as</b> pd1 \r\n",
       "}\r\n",
       "E4 - -:|> E2 [[psysml:2d5875ca-6e79-47eb-af19-37e1c3e68f98 ]] \r\n",
       "E6 - -:|> E2 [[psysml:6438d4a2-0b71-4be8-b1f1-dcd907944303 ]] \r\n",
       "}\r\n",
       "@enduml\r\n",
       "\n",
       "PlantUML version 1.2020.13(Sat Jun 13 12:26:38 UTC 2020)\n",
       "(EPL source distribution)\n",
       "Java Runtime: OpenJDK Runtime Environment\n",
       "JVM: OpenJDK 64-Bit Server VM\n",
       "Default Encoding: UTF-8\n",
       "Language: en\n",
       "Country: null\n",
       "--></g></svg>"
      ]
     },
     "execution_count": 31,
     "metadata": {},
     "output_type": "execute_result"
    }
   ],
   "source": [
    "%viz --style=\"PLANTUML\" --view=\"Tree\" \"AliasTest\""
   ]
  },
  {
   "cell_type": "code",
   "execution_count": 32,
   "id": "identical-original",
   "metadata": {
    "execution": {
     "iopub.execute_input": "2021-03-25T14:10:08.070165Z",
     "iopub.status.busy": "2021-03-25T14:10:08.069178Z",
     "iopub.status.idle": "2021-03-25T14:10:08.923828Z",
     "shell.execute_reply": "2021-03-25T14:10:08.922552Z"
    }
   },
   "outputs": [
    {
     "data": {
      "image/svg+xml": [
       "<?xml version=\"1.0\" encoding=\"UTF-8\" standalone=\"no\"?><svg xmlns=\"http://www.w3.org/2000/svg\" xmlns:xlink=\"http://www.w3.org/1999/xlink\" contentScriptType=\"application/ecmascript\" contentStyleType=\"text/css\" height=\"303px\" preserveAspectRatio=\"none\" style=\"width:603px;height:303px;background:#000000;\" version=\"1.1\" viewBox=\"0 0 603 303\" width=\"603px\" zoomAndPan=\"magnify\"><defs/><g><rect fill=\"#20131E\" height=\"1\" style=\"stroke: #20131E; stroke-width: 1.0;\" width=\"1\" x=\"0\" y=\"0\"/><rect fill=\"#FFFFFF\" height=\"205.5625\" style=\"stroke: #FFFFFF; stroke-width: 1.0;\" width=\"602\" x=\"0\" y=\"0\"/><text fill=\"#000000\" font-family=\"sans-serif\" font-size=\"12\" font-weight=\"bold\" lengthAdjust=\"spacingAndGlyphs\" textLength=\"159\" x=\"5\" y=\"16.1387\">Welcome to PlantUML!</text><text fill=\"#000000\" font-family=\"sans-serif\" font-size=\"12\" lengthAdjust=\"spacingAndGlyphs\" textLength=\"0\" x=\"9\" y=\"30.1074\"/><text fill=\"#000000\" font-family=\"sans-serif\" font-size=\"12\" lengthAdjust=\"spacingAndGlyphs\" textLength=\"293\" x=\"5\" y=\"44.0762\">If you use this software, you accept its license.</text><text fill=\"#000000\" font-family=\"sans-serif\" font-size=\"12\" lengthAdjust=\"spacingAndGlyphs\" textLength=\"107\" x=\"5\" y=\"58.0449\">(details by typing</text><text fill=\"#000000\" font-family=\"monospace\" font-size=\"12\" lengthAdjust=\"spacingAndGlyphs\" textLength=\"49\" x=\"116\" y=\"58.0449\">license</text><text fill=\"#000000\" font-family=\"sans-serif\" font-size=\"12\" lengthAdjust=\"spacingAndGlyphs\" textLength=\"56\" x=\"169\" y=\"58.0449\">keyword)</text><text fill=\"#000000\" font-family=\"sans-serif\" font-size=\"12\" lengthAdjust=\"spacingAndGlyphs\" textLength=\"0\" x=\"9\" y=\"72.0137\"/><text fill=\"#000000\" font-family=\"sans-serif\" font-size=\"12\" lengthAdjust=\"spacingAndGlyphs\" textLength=\"283\" x=\"5\" y=\"85.9824\">You can start with a simple UML Diagram like:</text><text fill=\"#000000\" font-family=\"sans-serif\" font-size=\"12\" lengthAdjust=\"spacingAndGlyphs\" textLength=\"0\" x=\"9\" y=\"99.9512\"/><text fill=\"#000000\" font-family=\"monospace\" font-size=\"12\" lengthAdjust=\"spacingAndGlyphs\" textLength=\"119\" x=\"5\" y=\"113.9199\">Bob-&gt;Alice: Hello</text><text fill=\"#000000\" font-family=\"sans-serif\" font-size=\"12\" lengthAdjust=\"spacingAndGlyphs\" textLength=\"0\" x=\"9\" y=\"127.8887\"/><text fill=\"#000000\" font-family=\"sans-serif\" font-size=\"12\" lengthAdjust=\"spacingAndGlyphs\" textLength=\"14\" x=\"5\" y=\"141.8574\">Or</text><text fill=\"#000000\" font-family=\"sans-serif\" font-size=\"12\" lengthAdjust=\"spacingAndGlyphs\" textLength=\"0\" x=\"9\" y=\"155.8262\"/><text fill=\"#000000\" font-family=\"monospace\" font-size=\"12\" lengthAdjust=\"spacingAndGlyphs\" textLength=\"91\" x=\"5\" y=\"169.7949\">class Example</text><text fill=\"#000000\" font-family=\"sans-serif\" font-size=\"12\" lengthAdjust=\"spacingAndGlyphs\" textLength=\"0\" x=\"9\" y=\"183.7637\"/><text fill=\"#000000\" font-family=\"sans-serif\" font-size=\"12\" lengthAdjust=\"spacingAndGlyphs\" textLength=\"349\" x=\"5\" y=\"197.7324\">You will find more information about PlantUML syntax on</text><text fill=\"#000000\" font-family=\"sans-serif\" font-size=\"12\" lengthAdjust=\"spacingAndGlyphs\" text-decoration=\"underline\" textLength=\"129\" x=\"358\" y=\"197.7324\">https://plantuml.com</text><image height=\"71\" width=\"80\" x=\"516\" xlink:href=\"data:image/png;base64,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\" y=\"6\"/><rect fill=\"#000000\" height=\"96.4844\" style=\"stroke: #000000; stroke-width: 1.0;\" width=\"602\" x=\"0\" y=\"205.5625\"/><rect fill=\"#33FF02\" height=\"21.2969\" style=\"stroke: #33FF02; stroke-width: 1.0;\" width=\"170\" x=\"5\" y=\"210.5625\"/><text fill=\"#000000\" font-family=\"sans-serif\" font-size=\"14\" font-weight=\"bold\" lengthAdjust=\"spacingAndGlyphs\" textLength=\"168\" x=\"6\" y=\"225.5625\">[From string (line 2) ]</text><text fill=\"#33FF02\" font-family=\"sans-serif\" font-size=\"14\" font-weight=\"bold\" lengthAdjust=\"spacingAndGlyphs\" textLength=\"0\" x=\"10\" y=\"245.8594\"/><text fill=\"#33FF02\" font-family=\"sans-serif\" font-size=\"14\" font-weight=\"bold\" lengthAdjust=\"spacingAndGlyphs\" textLength=\"79\" x=\"5\" y=\"262.1563\">@startuml</text><text fill=\"#33FF02\" font-family=\"sans-serif\" font-size=\"14\" font-weight=\"bold\" lengthAdjust=\"spacingAndGlyphs\" textLength=\"0\" x=\"10\" y=\"278.4531\"/><text fill=\"#FF0000\" font-family=\"sans-serif\" font-size=\"14\" font-weight=\"bold\" lengthAdjust=\"spacingAndGlyphs\" textLength=\"142\" x=\"10\" y=\"294.75\">Empty description</text><!--MD5=[f59edd8218d337f74d0c332fc6737304]\n",
       "@startuml\r\n",
       " \r\n",
       "@enduml\r\n",
       "\n",
       "PlantUML version 1.2020.13(Sat Jun 13 12:26:38 UTC 2020)\n",
       "(EPL source distribution)\n",
       "Java Runtime: OpenJDK Runtime Environment\n",
       "JVM: OpenJDK 64-Bit Server VM\n",
       "Default Encoding: UTF-8\n",
       "Language: en\n",
       "Country: null\n",
       "--></g></svg>"
      ]
     },
     "execution_count": 32,
     "metadata": {},
     "output_type": "execute_result"
    }
   ],
   "source": [
    "%viz --style=\"PLANTUML\" --view=\"State\" \"AliasTest\""
   ]
  },
  {
   "cell_type": "code",
   "execution_count": 33,
   "id": "front-drove",
   "metadata": {
    "execution": {
     "iopub.execute_input": "2021-03-25T14:10:08.973472Z",
     "iopub.status.busy": "2021-03-25T14:10:08.972824Z",
     "iopub.status.idle": "2021-03-25T14:10:09.046892Z",
     "shell.execute_reply": "2021-03-25T14:10:09.045645Z"
    }
   },
   "outputs": [
    {
     "data": {
      "image/svg+xml": [
       "<?xml version=\"1.0\" encoding=\"UTF-8\" standalone=\"no\"?><svg xmlns=\"http://www.w3.org/2000/svg\" xmlns:xlink=\"http://www.w3.org/1999/xlink\" contentScriptType=\"application/ecmascript\" contentStyleType=\"text/css\" height=\"191px\" preserveAspectRatio=\"none\" style=\"width:361px;height:191px;\" version=\"1.1\" viewBox=\"0 0 361 191\" width=\"361px\" zoomAndPan=\"magnify\"><defs><filter height=\"300%\" id=\"f1r6x6l56t57fr\" width=\"300%\" x=\"-1\" y=\"-1\"><feGaussianBlur result=\"blurOut\" stdDeviation=\"2.0\"/><feColorMatrix in=\"blurOut\" result=\"blurOut2\" type=\"matrix\" values=\"0 0 0 0 0 0 0 0 0 0 0 0 0 0 0 0 0 0 .4 0\"/><feOffset dx=\"4.0\" dy=\"4.0\" in=\"blurOut2\" result=\"blurOut3\"/><feBlend in=\"SourceGraphic\" in2=\"blurOut3\" mode=\"normal\"/></filter></defs><g><!--MD5=[fbc87193dbaf4d95561dea2c320d4a47]\n",
       "cluster E1--><a href=\"psysml:e49964db-e340-4eba-a3a8-d7e4e465bce2\" target=\"_top\" title=\"psysml:e49964db-e340-4eba-a3a8-d7e4e465bce2\" xlink:actuate=\"onRequest\" xlink:href=\"psysml:e49964db-e340-4eba-a3a8-d7e4e465bce2\" xlink:show=\"new\" xlink:title=\"psysml:e49964db-e340-4eba-a3a8-d7e4e465bce2\" xlink:type=\"simple\"><polygon fill=\"#FFFFFF\" filter=\"url(#f1r6x6l56t57fr)\" points=\"16,6,94,6,101,28.2969,339,28.2969,339,179,16,179,16,6\" style=\"stroke: #000000; stroke-width: 1.5;\"/><line style=\"stroke: #000000; stroke-width: 1.5;\" x1=\"16\" x2=\"101\" y1=\"28.2969\" y2=\"28.2969\"/><text fill=\"#000000\" font-family=\"sans-serif\" font-size=\"14\" font-weight=\"bold\" lengthAdjust=\"spacingAndGlyphs\" textLength=\"72\" x=\"20\" y=\"20.9951\">AliasTest</text></a><!--MD5=[e4f7fae6ed58524ba242bb0b0d3be6b7]\n",
       "cluster E2--><a href=\"psysml:c347ad09-22d6-4423-9bac-4dbac759901f\" target=\"_top\" title=\"psysml:c347ad09-22d6-4423-9bac-4dbac759901f\" xlink:actuate=\"onRequest\" xlink:href=\"psysml:c347ad09-22d6-4423-9bac-4dbac759901f\" xlink:show=\"new\" xlink:title=\"psysml:c347ad09-22d6-4423-9bac-4dbac759901f\" xlink:type=\"simple\"><rect fill=\"#FFFFFF\" filter=\"url(#f1r6x6l56t57fr)\" height=\"57\" id=\"E2\" style=\"stroke: #A80036; stroke-width: 1.5;\" width=\"83\" x=\"244\" y=\"55\"/><rect fill=\"#FEFECE\" height=\"23.9688\" style=\"stroke: #A80036; stroke-width: 1.5;\" width=\"83\" x=\"244\" y=\"55\"/><text fill=\"#000000\" font-family=\"sans-serif\" font-size=\"12\" lengthAdjust=\"spacingAndGlyphs\" textLength=\"16\" x=\"277.5\" y=\"71.1387\">P1</text></a><!--MD5=[de5ec2e2e8f62f467e546659f5068c88]\n",
       "cluster E5--><a href=\"psysml:d449d8a1-a677-4f10-8ecb-a1ad1c680d6c\" target=\"_top\" title=\"psysml:d449d8a1-a677-4f10-8ecb-a1ad1c680d6c\" xlink:actuate=\"onRequest\" xlink:href=\"psysml:d449d8a1-a677-4f10-8ecb-a1ad1c680d6c\" xlink:show=\"new\" xlink:title=\"psysml:d449d8a1-a677-4f10-8ecb-a1ad1c680d6c\" xlink:type=\"simple\"><rect fill=\"#FFFFFF\" filter=\"url(#f1r6x6l56t57fr)\" height=\"76.5\" id=\"E5\" rx=\"10\" ry=\"10\" style=\"stroke: #A80036; stroke-width: 1.5;\" width=\"101\" x=\"139\" y=\"86.5\"/><rect fill=\"#FEFECE\" height=\"23.9688\" rx=\"10\" ry=\"10\" style=\"stroke: #FEFECE; stroke-width: 1.5;\" width=\"101\" x=\"139\" y=\"86.5\"/><rect fill=\"#FEFECE\" height=\"10\" style=\"stroke: #FEFECE; stroke-width: 1.5;\" width=\"101\" x=\"139\" y=\"100.4688\"/><rect fill=\"none\" height=\"76.5\" id=\"E5\" rx=\"10\" ry=\"10\" style=\"stroke: #A80036; stroke-width: 1.5;\" width=\"101\" x=\"139\" y=\"86.5\"/><text fill=\"#000000\" font-family=\"sans-serif\" font-size=\"12\" lengthAdjust=\"spacingAndGlyphs\" textLength=\"40\" x=\"169.5\" y=\"102.6387\">p1: P1</text><line style=\"stroke: #A80036; stroke-width: 1.0;\" x1=\"139\" x2=\"240\" y1=\"110.4688\" y2=\"110.4688\"/></a><!--MD5=[168fadf3d0c3fd93dd5d6da1b1d7ab76]\n",
       "cluster E7--><a href=\"psysml:32242b45-8d95-4b7d-97cb-8dd31296908f\" target=\"_top\" title=\"psysml:32242b45-8d95-4b7d-97cb-8dd31296908f\" xlink:actuate=\"onRequest\" xlink:href=\"psysml:32242b45-8d95-4b7d-97cb-8dd31296908f\" xlink:show=\"new\" xlink:title=\"psysml:32242b45-8d95-4b7d-97cb-8dd31296908f\" xlink:type=\"simple\"><rect fill=\"#FFFFFF\" filter=\"url(#f1r6x6l56t57fr)\" height=\"57\" id=\"E7\" rx=\"10\" ry=\"10\" style=\"stroke: #A80036; stroke-width: 1.5;\" width=\"83\" x=\"53\" y=\"55\"/><rect fill=\"#FEFECE\" height=\"23.9688\" rx=\"10\" ry=\"10\" style=\"stroke: #FEFECE; stroke-width: 1.5;\" width=\"83\" x=\"53\" y=\"55\"/><rect fill=\"#FEFECE\" height=\"10\" style=\"stroke: #FEFECE; stroke-width: 1.5;\" width=\"83\" x=\"53\" y=\"68.9688\"/><rect fill=\"none\" height=\"57\" id=\"E7\" rx=\"10\" ry=\"10\" style=\"stroke: #A80036; stroke-width: 1.5;\" width=\"83\" x=\"53\" y=\"55\"/><text fill=\"#000000\" font-family=\"sans-serif\" font-size=\"12\" lengthAdjust=\"spacingAndGlyphs\" textLength=\"40\" x=\"74.5\" y=\"71.1387\">p2: P1</text><line style=\"stroke: #A80036; stroke-width: 1.0;\" x1=\"53\" x2=\"136\" y1=\"78.9688\" y2=\"78.9688\"/></a><text fill=\"#000000\" font-family=\"sans-serif\" font-size=\"14\" lengthAdjust=\"spacingAndGlyphs\" textLength=\"44\" x=\"240\" y=\"33.6982\">porig1</text><rect fill=\"#A80036\" height=\"12\" style=\"stroke: #FEFECE; stroke-width: 1.5;\" width=\"12\" x=\"256\" y=\"49\"/><text fill=\"#000000\" font-family=\"sans-serif\" font-size=\"14\" lengthAdjust=\"spacingAndGlyphs\" textLength=\"44\" x=\"287\" y=\"33.6982\">porig1</text><rect fill=\"#A80036\" height=\"12\" style=\"stroke: #FEFECE; stroke-width: 1.5;\" width=\"12\" x=\"303\" y=\"49\"/><text fill=\"#000000\" font-family=\"sans-serif\" font-size=\"14\" lengthAdjust=\"spacingAndGlyphs\" textLength=\"27\" x=\"143.5\" y=\"65.1982\">po1</text><rect fill=\"#A80036\" height=\"12\" style=\"stroke: #FEFECE; stroke-width: 1.5;\" width=\"12\" x=\"151\" y=\"80.5\"/><text fill=\"#000000\" font-family=\"sans-serif\" font-size=\"14\" lengthAdjust=\"spacingAndGlyphs\" textLength=\"40\" x=\"51\" y=\"33.6982\">pdest</text><rect fill=\"#A80036\" height=\"12\" style=\"stroke: #FEFECE; stroke-width: 1.5;\" width=\"12\" x=\"65\" y=\"49\"/><text fill=\"#000000\" font-family=\"sans-serif\" font-size=\"14\" lengthAdjust=\"spacingAndGlyphs\" textLength=\"40\" x=\"98\" y=\"33.6982\">pdest</text><rect fill=\"#A80036\" height=\"12\" style=\"stroke: #FEFECE; stroke-width: 1.5;\" width=\"12\" x=\"112\" y=\"49\"/><!--MD5=[60ac2c0cde89d4308155b0484e57a8ec]\n",
       "link E9 to E6--><a href=\"psysml:542ee912-9568-47bf-89cf-5ffa6da25451\" target=\"_top\" title=\"psysml:542ee912-9568-47bf-89cf-5ffa6da25451\" xlink:actuate=\"onRequest\" xlink:href=\"psysml:542ee912-9568-47bf-89cf-5ffa6da25451\" xlink:show=\"new\" xlink:title=\"psysml:542ee912-9568-47bf-89cf-5ffa6da25451\" xlink:type=\"simple\"><path d=\"M114.84,61.14 C119.38,68.34 137.71,80.94 150.76,84.52 \" fill=\"none\" id=\"E9-E6\" style=\"stroke: #A80036; stroke-width: 3.0;\"/></a><!--MD5=[60ac2c0cde89d4308155b0484e57a8ec]\n",
       "link E9 to E6--><a href=\"psysml:574c6fbc-01c2-4e16-ae54-13c104835878\" target=\"_top\" title=\"psysml:574c6fbc-01c2-4e16-ae54-13c104835878\" xlink:actuate=\"onRequest\" xlink:href=\"psysml:574c6fbc-01c2-4e16-ae54-13c104835878\" xlink:show=\"new\" xlink:title=\"psysml:574c6fbc-01c2-4e16-ae54-13c104835878\" xlink:type=\"simple\"><path d=\"M124.05,56.85 C137.61,60.25 156.39,73.03 160.72,80.32 \" fill=\"none\" id=\"E9-E6-1\" style=\"stroke: #A80036; stroke-width: 3.0;\"/></a><!--MD5=[ba52afc0cec5bccdca764aed11307936]\n",
       "@startuml\r\n",
       "skinparam ranksep 10\r\n",
       "skinparam rectangle {\r\n",
       " backgroundColor<<block>> LightGreen\r\n",
       "}\r\n",
       " \r\n",
       "package \"AliasTest\" as E1  [[psysml:e49964db-e340-4eba-a3a8-d7e4e465bce2 ]]  {\r\n",
       "rec def \"P1\" as E2  << (B,green) >> [[psysml:c347ad09-22d6-4423-9bac-4dbac759901f ]] {\r\n",
       "portin \"porig1\" as E3  << (P,blue) port>> [[psysml:0250d93f-14e1-4692-9053-ebbfda808262 ]] \r\n",
       "portin \"porig1\" as E4  << (P,blue) port>> [[psysml:0250d93f-14e1-4692-9053-ebbfda808262 ]] \r\n",
       "}\r\n",
       "rec usage \"p1: P1\" as E5  [[psysml:d449d8a1-a677-4f10-8ecb-a1ad1c680d6c ]] {\r\n",
       "portin \"po1\" as E6  << (P,blue) port>> [[psysml:29809450-6fae-45f0-8103-0520fac6504b ]] \r\n",
       "}\r\n",
       "rec usage \"p2: P1\" as E7  [[psysml:32242b45-8d95-4b7d-97cb-8dd31296908f ]] {\r\n",
       "portin \"pdest\" as E8  << (P,blue) port>> [[psysml:232a2b18-4f4e-4d95-914a-9e8054ac4fe4 ]] \r\n",
       "portin \"pdest\" as E9  << (P,blue) port>> [[psysml:232a2b18-4f4e-4d95-914a-9e8054ac4fe4 ]] \r\n",
       "}\r\n",
       "E9 -[thickness=3]- E6 [[psysml:542ee912-9568-47bf-89cf-5ffa6da25451 ]] \r\n",
       "E9 -[thickness=3]- E6 [[psysml:574c6fbc-01c2-4e16-ae54-13c104835878 ]] \r\n",
       "}\r\n",
       "@enduml\r\n",
       "\n",
       "PlantUML version 1.2020.13(Sat Jun 13 12:26:38 UTC 2020)\n",
       "(EPL source distribution)\n",
       "Java Runtime: OpenJDK Runtime Environment\n",
       "JVM: OpenJDK 64-Bit Server VM\n",
       "Default Encoding: UTF-8\n",
       "Language: en\n",
       "Country: null\n",
       "--></g></svg>"
      ]
     },
     "execution_count": 33,
     "metadata": {},
     "output_type": "execute_result"
    }
   ],
   "source": [
    "%viz --style=\"PLANTUML\" --view=\"Interconnection\" \"AliasTest\""
   ]
  },
  {
   "cell_type": "code",
   "execution_count": 34,
   "id": "organizational-copyright",
   "metadata": {
    "execution": {
     "iopub.execute_input": "2021-03-25T14:10:09.098131Z",
     "iopub.status.busy": "2021-03-25T14:10:09.097498Z",
     "iopub.status.idle": "2021-03-25T14:10:09.102662Z",
     "shell.execute_reply": "2021-03-25T14:10:09.102281Z"
    }
   },
   "outputs": [
    {
     "data": {
      "image/svg+xml": [
       "<?xml version=\"1.0\" encoding=\"UTF-8\" standalone=\"no\"?><svg xmlns=\"http://www.w3.org/2000/svg\" xmlns:xlink=\"http://www.w3.org/1999/xlink\" contentScriptType=\"application/ecmascript\" contentStyleType=\"text/css\" height=\"12px\" preserveAspectRatio=\"none\" style=\"width:12px;height:12px;\" version=\"1.1\" viewBox=\"0 0 12 12\" width=\"12px\" zoomAndPan=\"magnify\"><defs/><g><!--MD5=[6a4cb978cab31700e1ce5529f947a75d]\n",
       "@startuml\r\n",
       "skinparam ranksep 8\r\n",
       " \r\n",
       "@enduml\r\n",
       "\n",
       "PlantUML version 1.2020.13(Sat Jun 13 12:26:38 UTC 2020)\n",
       "(EPL source distribution)\n",
       "Java Runtime: OpenJDK Runtime Environment\n",
       "JVM: OpenJDK 64-Bit Server VM\n",
       "Default Encoding: UTF-8\n",
       "Language: en\n",
       "Country: null\n",
       "--></g></svg>"
      ]
     },
     "execution_count": 34,
     "metadata": {},
     "output_type": "execute_result"
    }
   ],
   "source": [
    "%viz --style=\"PLANTUML\" --view=\"Action\" \"AliasTest\""
   ]
  },
  {
   "cell_type": "code",
   "execution_count": 35,
   "id": "measured-mailing",
   "metadata": {
    "execution": {
     "iopub.execute_input": "2021-03-25T14:10:09.156343Z",
     "iopub.status.busy": "2021-03-25T14:10:09.155659Z",
     "iopub.status.idle": "2021-03-25T14:10:09.705616Z",
     "shell.execute_reply": "2021-03-25T14:10:09.706120Z"
    }
   },
   "outputs": [
    {
     "data": {
      "image/svg+xml": [
       "<?xml version=\"1.0\" encoding=\"UTF-8\" standalone=\"no\"?><svg xmlns=\"http://www.w3.org/2000/svg\" xmlns:xlink=\"http://www.w3.org/1999/xlink\" contentScriptType=\"application/ecmascript\" contentStyleType=\"text/css\" height=\"287px\" preserveAspectRatio=\"none\" style=\"width:285px;height:287px;\" version=\"1.1\" viewBox=\"0 0 285 287\" width=\"285px\" zoomAndPan=\"magnify\"><defs><filter height=\"300%\" id=\"f1y0y62yvplikd\" width=\"300%\" x=\"-1\" y=\"-1\"><feGaussianBlur result=\"blurOut\" stdDeviation=\"2.0\"/><feColorMatrix in=\"blurOut\" result=\"blurOut2\" type=\"matrix\" values=\"0 0 0 0 0 0 0 0 0 0 0 0 0 0 0 0 0 0 .4 0\"/><feOffset dx=\"4.0\" dy=\"4.0\" in=\"blurOut2\" result=\"blurOut3\"/><feBlend in=\"SourceGraphic\" in2=\"blurOut3\" mode=\"normal\"/></filter></defs><g><!--MD5=[fbc87193dbaf4d95561dea2c320d4a47]\n",
       "cluster E1--><a href=\"psysml:e49964db-e340-4eba-a3a8-d7e4e465bce2\" target=\"_top\" title=\"psysml:e49964db-e340-4eba-a3a8-d7e4e465bce2\" xlink:actuate=\"onRequest\" xlink:href=\"psysml:e49964db-e340-4eba-a3a8-d7e4e465bce2\" xlink:show=\"new\" xlink:title=\"psysml:e49964db-e340-4eba-a3a8-d7e4e465bce2\" xlink:type=\"simple\"><polygon fill=\"#FFFFFF\" filter=\"url(#f1y0y62yvplikd)\" points=\"16,6,94,6,101,28.2969,263,28.2969,263,275,16,275,16,6\" style=\"stroke: #000000; stroke-width: 1.5;\"/><line style=\"stroke: #000000; stroke-width: 1.5;\" x1=\"16\" x2=\"101\" y1=\"28.2969\" y2=\"28.2969\"/><text fill=\"#000000\" font-family=\"sans-serif\" font-size=\"14\" font-weight=\"bold\" lengthAdjust=\"spacingAndGlyphs\" textLength=\"72\" x=\"20\" y=\"20.9951\">AliasTest</text></a><!--MD5=[b4997ac47864f28c2f74865a473b2911]\n",
       "class E2--><a href=\"psysml:c347ad09-22d6-4423-9bac-4dbac759901f\" target=\"_top\" title=\"psysml:c347ad09-22d6-4423-9bac-4dbac759901f\" xlink:actuate=\"onRequest\" xlink:href=\"psysml:c347ad09-22d6-4423-9bac-4dbac759901f\" xlink:show=\"new\" xlink:title=\"psysml:c347ad09-22d6-4423-9bac-4dbac759901f\" xlink:type=\"simple\"><rect fill=\"#FEFECE\" filter=\"url(#f1y0y62yvplikd)\" height=\"69.6094\" id=\"E2\" style=\"stroke: #A80036; stroke-width: 1.5;\" width=\"92\" x=\"93\" y=\"189\"/><ellipse cx=\"127.8\" cy=\"205\" fill=\"#008000\" rx=\"11\" ry=\"11\" style=\"stroke: #A80036; stroke-width: 1.0;\"/><path d=\"M126.7063,205.375 L126.7063,209.0469 L128.3313,209.0469 Q129.5031,209.0469 129.9719,208.6563 Q130.4406,208.25 130.4406,207.25 Q130.4406,206.25 129.9406,205.8125 Q129.4563,205.375 128.3313,205.375 L126.7063,205.375 Z M126.7063,200.5469 L126.7063,203.4219 L128.3313,203.4219 Q129.2531,203.4219 129.6438,203.0938 Q130.05,202.75 130.05,202 Q130.05,201.2344 129.6438,200.8906 Q129.2375,200.5469 128.3313,200.5469 L126.7063,200.5469 Z M124.3313,198.5938 L128.3313,198.5938 Q130.3938,198.5938 131.4406,199.375 Q132.4875,200.1563 132.4875,201.7188 Q132.4875,202.9219 131.8625,203.5938 Q131.2531,204.2656 130.0656,204.375 Q131.4875,204.5156 132.2063,205.3281 Q132.925,206.1406 132.925,207.5938 Q132.925,209.3906 131.8469,210.2031 Q130.7688,211 128.3313,211 L124.3313,211 L124.3313,198.5938 Z \"/><text fill=\"#000000\" font-family=\"sans-serif\" font-size=\"12\" lengthAdjust=\"spacingAndGlyphs\" textLength=\"16\" x=\"146.2\" y=\"209.1543\">P1</text><line style=\"stroke: #A80036; stroke-width: 1.5;\" x1=\"94\" x2=\"184\" y1=\"221\" y2=\"221\"/><text fill=\"#000000\" font-family=\"sans-serif\" font-size=\"11\" lengthAdjust=\"spacingAndGlyphs\" textLength=\"36\" x=\"99\" y=\"252.0151\">porig1</text><text fill=\"#000000\" font-family=\"sans-serif\" font-size=\"11\" font-weight=\"bold\" lengthAdjust=\"spacingAndGlyphs\" textLength=\"15\" x=\"139\" y=\"252.0151\">as</text><text fill=\"#000000\" font-family=\"sans-serif\" font-size=\"11\" lengthAdjust=\"spacingAndGlyphs\" textLength=\"21\" x=\"158\" y=\"252.0151\">po1</text><line style=\"stroke: #A80036; stroke-width: 1.0;\" x1=\"94\" x2=\"124\" y1=\"235.4023\" y2=\"235.4023\"/><text fill=\"#000000\" font-family=\"sans-serif\" font-size=\"11\" lengthAdjust=\"spacingAndGlyphs\" textLength=\"30\" x=\"124\" y=\"238.7104\">ports</text><line style=\"stroke: #A80036; stroke-width: 1.0;\" x1=\"154\" x2=\"184\" y1=\"235.4023\" y2=\"235.4023\"/></a><!--MD5=[ebbe1d658d1005bcc118a6aa81145e00]\n",
       "class E4--><a href=\"psysml:d449d8a1-a677-4f10-8ecb-a1ad1c680d6c\" target=\"_top\" title=\"psysml:d449d8a1-a677-4f10-8ecb-a1ad1c680d6c\" xlink:actuate=\"onRequest\" xlink:href=\"psysml:d449d8a1-a677-4f10-8ecb-a1ad1c680d6c\" xlink:show=\"new\" xlink:title=\"psysml:d449d8a1-a677-4f10-8ecb-a1ad1c680d6c\" xlink:type=\"simple\"><rect fill=\"#FEFECE\" filter=\"url(#f1y0y62yvplikd)\" height=\"88.3516\" id=\"E4\" rx=\"10\" ry=\"10\" style=\"stroke: #A80036; stroke-width: 1.5;\" width=\"92\" x=\"155\" y=\"41\"/><ellipse cx=\"179\" cy=\"59.9688\" fill=\"#32CD32\" rx=\"11\" ry=\"11\" style=\"stroke: #A80036; stroke-width: 1.0;\"/><path d=\"M178.7969,55.6406 L178.7969,59.2656 L179.7969,59.2656 Q181,59.2656 181.4844,58.8594 Q181.9688,58.4531 181.9688,57.4531 Q181.9688,56.4531 181.4844,56.0469 Q181,55.6406 179.7969,55.6406 L178.7969,55.6406 Z M176.3438,53.5781 L179.7031,53.5781 Q182.2656,53.5781 183.3906,54.5 Q184.5156,55.4063 184.5156,57.4531 Q184.5156,59.5 183.3906,60.4219 Q182.2656,61.3281 179.7031,61.3281 L178.7969,61.3281 L178.7969,65.9688 L176.3438,65.9688 L176.3438,53.5781 Z \"/><text fill=\"#000000\" font-family=\"sans-serif\" font-size=\"12\" font-style=\"italic\" lengthAdjust=\"spacingAndGlyphs\" textLength=\"40\" x=\"195\" y=\"57.1387\">«part»</text><text fill=\"#000000\" font-family=\"sans-serif\" font-size=\"12\" lengthAdjust=\"spacingAndGlyphs\" textLength=\"40\" x=\"195\" y=\"71.1074\">p1: P1</text><line style=\"stroke: #A80036; stroke-width: 1.5;\" x1=\"156\" x2=\"246\" y1=\"78.9375\" y2=\"78.9375\"/><text fill=\"#000000\" font-family=\"sans-serif\" font-size=\"11\" lengthAdjust=\"spacingAndGlyphs\" textLength=\"21\" x=\"161\" y=\"109.9526\">po1</text><text fill=\"#000000\" font-family=\"sans-serif\" font-size=\"11\" font-style=\"italic\" lengthAdjust=\"spacingAndGlyphs\" textLength=\"80\" x=\"161\" y=\"122.7573\">:&gt;&gt;P1::porig1</text><line style=\"stroke: #A80036; stroke-width: 1.0;\" x1=\"156\" x2=\"186\" y1=\"93.3398\" y2=\"93.3398\"/><text fill=\"#000000\" font-family=\"sans-serif\" font-size=\"11\" lengthAdjust=\"spacingAndGlyphs\" textLength=\"30\" x=\"186\" y=\"96.6479\">ports</text><line style=\"stroke: #A80036; stroke-width: 1.0;\" x1=\"216\" x2=\"246\" y1=\"93.3398\" y2=\"93.3398\"/></a><!--MD5=[60a26617385b1d2d0262a64233df1f8d]\n",
       "class E6--><a href=\"psysml:32242b45-8d95-4b7d-97cb-8dd31296908f\" target=\"_top\" title=\"psysml:32242b45-8d95-4b7d-97cb-8dd31296908f\" xlink:actuate=\"onRequest\" xlink:href=\"psysml:32242b45-8d95-4b7d-97cb-8dd31296908f\" xlink:show=\"new\" xlink:title=\"psysml:32242b45-8d95-4b7d-97cb-8dd31296908f\" xlink:type=\"simple\"><rect fill=\"#FEFECE\" filter=\"url(#f1y0y62yvplikd)\" height=\"75.5469\" id=\"E6\" rx=\"10\" ry=\"10\" style=\"stroke: #A80036; stroke-width: 1.5;\" width=\"88\" x=\"32\" y=\"47\"/><ellipse cx=\"54.2\" cy=\"65.9688\" fill=\"#32CD32\" rx=\"11\" ry=\"11\" style=\"stroke: #A80036; stroke-width: 1.0;\"/><path d=\"M53.9969,61.6406 L53.9969,65.2656 L54.9969,65.2656 Q56.2,65.2656 56.6844,64.8594 Q57.1688,64.4531 57.1688,63.4531 Q57.1688,62.4531 56.6844,62.0469 Q56.2,61.6406 54.9969,61.6406 L53.9969,61.6406 Z M51.5438,59.5781 L54.9031,59.5781 Q57.4656,59.5781 58.5906,60.5 Q59.7156,61.4063 59.7156,63.4531 Q59.7156,65.5 58.5906,66.4219 Q57.4656,67.3281 54.9031,67.3281 L53.9969,67.3281 L53.9969,71.9688 L51.5438,71.9688 L51.5438,59.5781 Z \"/><text fill=\"#000000\" font-family=\"sans-serif\" font-size=\"12\" font-style=\"italic\" lengthAdjust=\"spacingAndGlyphs\" textLength=\"40\" x=\"69.8\" y=\"63.1387\">«part»</text><text fill=\"#000000\" font-family=\"sans-serif\" font-size=\"12\" lengthAdjust=\"spacingAndGlyphs\" textLength=\"40\" x=\"69.8\" y=\"77.1074\">p2: P1</text><line style=\"stroke: #A80036; stroke-width: 1.5;\" x1=\"33\" x2=\"119\" y1=\"84.9375\" y2=\"84.9375\"/><text fill=\"#000000\" font-family=\"sans-serif\" font-size=\"11\" lengthAdjust=\"spacingAndGlyphs\" textLength=\"32\" x=\"38\" y=\"115.9526\">pdest</text><text fill=\"#000000\" font-family=\"sans-serif\" font-size=\"11\" font-weight=\"bold\" lengthAdjust=\"spacingAndGlyphs\" textLength=\"15\" x=\"74\" y=\"115.9526\">as</text><text fill=\"#000000\" font-family=\"sans-serif\" font-size=\"11\" lengthAdjust=\"spacingAndGlyphs\" textLength=\"21\" x=\"93\" y=\"115.9526\">pd1</text><line style=\"stroke: #A80036; stroke-width: 1.0;\" x1=\"33\" x2=\"61\" y1=\"99.3398\" y2=\"99.3398\"/><text fill=\"#000000\" font-family=\"sans-serif\" font-size=\"11\" lengthAdjust=\"spacingAndGlyphs\" textLength=\"30\" x=\"61\" y=\"102.6479\">ports</text><line style=\"stroke: #A80036; stroke-width: 1.0;\" x1=\"91\" x2=\"119\" y1=\"99.3398\" y2=\"99.3398\"/></a><!--MD5=[185131fc0dcab0a4505a2ebe144e961b]\n",
       "link E4 to E2--><a href=\"psysml:2d5875ca-6e79-47eb-af19-37e1c3e68f98\" target=\"_top\" title=\"psysml:2d5875ca-6e79-47eb-af19-37e1c3e68f98\" xlink:actuate=\"onRequest\" xlink:href=\"psysml:2d5875ca-6e79-47eb-af19-37e1c3e68f98\" xlink:show=\"new\" xlink:title=\"psysml:2d5875ca-6e79-47eb-af19-37e1c3e68f98\" xlink:type=\"simple\"><path d=\"M181.38,129.35 C175.5,142.35 168.98,156.75 162.86,170.29 \" fill=\"none\" id=\"E4-&gt;E2\" style=\"stroke: #A80036; stroke-width: 1.0;\"/><polygon fill=\"#FFFFFF\" points=\"154.57,188.61,156.0203,168.4135,168.7767,174.1819,154.57,188.61\" style=\"stroke: #A80036; stroke-width: 1.0;\"/><ellipse cx=\"160.1912\" cy=\"164.0439\" fill=\"#A80036\" rx=\"2\" ry=\"2\" style=\"stroke: #A80036; stroke-width: 1.0;\"/><ellipse cx=\"169.3029\" cy=\"168.1642\" fill=\"#A80036\" rx=\"2\" ry=\"2\" style=\"stroke: #A80036; stroke-width: 1.0;\"/></a><!--MD5=[2351f337d6de0f557b50152ba70847b5]\n",
       "link E6 to E2--><a href=\"psysml:6438d4a2-0b71-4be8-b1f1-dcd907944303\" target=\"_top\" title=\"psysml:6438d4a2-0b71-4be8-b1f1-dcd907944303\" xlink:actuate=\"onRequest\" xlink:href=\"psysml:6438d4a2-0b71-4be8-b1f1-dcd907944303\" xlink:show=\"new\" xlink:title=\"psysml:6438d4a2-0b71-4be8-b1f1-dcd907944303\" xlink:type=\"simple\"><path d=\"M93.05,123.07 C99.73,137.61 107.53,154.55 114.77,170.32 \" fill=\"none\" id=\"E6-&gt;E2\" style=\"stroke: #A80036; stroke-width: 1.0;\"/><polygon fill=\"#FFFFFF\" points=\"123.24,188.72,108.9415,174.3829,121.6608,168.5332,123.24,188.72\" style=\"stroke: #A80036; stroke-width: 1.0;\"/><ellipse cx=\"108.3769\" cy=\"168.3687\" fill=\"#A80036\" rx=\"2\" ry=\"2\" style=\"stroke: #A80036; stroke-width: 1.0;\"/><ellipse cx=\"117.4621\" cy=\"164.1903\" fill=\"#A80036\" rx=\"2\" ry=\"2\" style=\"stroke: #A80036; stroke-width: 1.0;\"/></a><!--MD5=[a066420ad9204f2b29d5424a22c03d0f]\n",
       "@startuml\r\n",
       " \r\n",
       "package \"AliasTest\" as E1  [[psysml:e49964db-e340-4eba-a3a8-d7e4e465bce2 ]]  {\r\n",
       "comp def \"P1\" as E2  << (B,green) >> [[psysml:c347ad09-22d6-4423-9bac-4dbac759901f ]] {\r\n",
       "- - ports - -\r\n",
       "porig1 <b>as</b> po1 \r\n",
       "}\r\n",
       "comp usage \"p1: P1\" as E4  << (P,limegreen) part>> [[psysml:d449d8a1-a677-4f10-8ecb-a1ad1c680d6c ]] {\r\n",
       "- - ports - -\r\n",
       "po1\\n//:>>P1::porig1// \r\n",
       "}\r\n",
       "comp usage \"p2: P1\" as E6  << (P,limegreen) part>> [[psysml:32242b45-8d95-4b7d-97cb-8dd31296908f ]] {\r\n",
       "- - ports - -\r\n",
       "pdest <b>as</b> pd1 \r\n",
       "}\r\n",
       "E4 - -:|> E2 [[psysml:2d5875ca-6e79-47eb-af19-37e1c3e68f98 ]] \r\n",
       "E6 - -:|> E2 [[psysml:6438d4a2-0b71-4be8-b1f1-dcd907944303 ]] \r\n",
       "}\r\n",
       "@enduml\r\n",
       "\n",
       "PlantUML version 1.2020.13(Sat Jun 13 12:26:38 UTC 2020)\n",
       "(EPL source distribution)\n",
       "Java Runtime: OpenJDK Runtime Environment\n",
       "JVM: OpenJDK 64-Bit Server VM\n",
       "Default Encoding: UTF-8\n",
       "Language: en\n",
       "Country: null\n",
       "--></g></svg>"
      ]
     },
     "execution_count": 35,
     "metadata": {},
     "output_type": "execute_result"
    }
   ],
   "source": [
    "%viz --style=\"PLANTUML\" --view=\"Sequence\" \"AliasTest\""
   ]
  },
  {
   "cell_type": "code",
   "execution_count": 36,
   "id": "concerned-privilege",
   "metadata": {
    "execution": {
     "iopub.execute_input": "2021-03-25T14:10:09.757302Z",
     "iopub.status.busy": "2021-03-25T14:10:09.756572Z",
     "iopub.status.idle": "2021-03-25T14:10:10.307243Z",
     "shell.execute_reply": "2021-03-25T14:10:10.305751Z"
    }
   },
   "outputs": [
    {
     "data": {
      "image/svg+xml": [
       "<?xml version=\"1.0\" encoding=\"UTF-8\" standalone=\"no\"?><svg xmlns=\"http://www.w3.org/2000/svg\" xmlns:xlink=\"http://www.w3.org/1999/xlink\" contentScriptType=\"application/ecmascript\" contentStyleType=\"text/css\" height=\"287px\" preserveAspectRatio=\"none\" style=\"width:285px;height:287px;\" version=\"1.1\" viewBox=\"0 0 285 287\" width=\"285px\" zoomAndPan=\"magnify\"><defs><filter height=\"300%\" id=\"f1y0y62yvplikd\" width=\"300%\" x=\"-1\" y=\"-1\"><feGaussianBlur result=\"blurOut\" stdDeviation=\"2.0\"/><feColorMatrix in=\"blurOut\" result=\"blurOut2\" type=\"matrix\" values=\"0 0 0 0 0 0 0 0 0 0 0 0 0 0 0 0 0 0 .4 0\"/><feOffset dx=\"4.0\" dy=\"4.0\" in=\"blurOut2\" result=\"blurOut3\"/><feBlend in=\"SourceGraphic\" in2=\"blurOut3\" mode=\"normal\"/></filter></defs><g><!--MD5=[fbc87193dbaf4d95561dea2c320d4a47]\n",
       "cluster E1--><a href=\"psysml:e49964db-e340-4eba-a3a8-d7e4e465bce2\" target=\"_top\" title=\"psysml:e49964db-e340-4eba-a3a8-d7e4e465bce2\" xlink:actuate=\"onRequest\" xlink:href=\"psysml:e49964db-e340-4eba-a3a8-d7e4e465bce2\" xlink:show=\"new\" xlink:title=\"psysml:e49964db-e340-4eba-a3a8-d7e4e465bce2\" xlink:type=\"simple\"><polygon fill=\"#FFFFFF\" filter=\"url(#f1y0y62yvplikd)\" points=\"16,6,94,6,101,28.2969,263,28.2969,263,275,16,275,16,6\" style=\"stroke: #000000; stroke-width: 1.5;\"/><line style=\"stroke: #000000; stroke-width: 1.5;\" x1=\"16\" x2=\"101\" y1=\"28.2969\" y2=\"28.2969\"/><text fill=\"#000000\" font-family=\"sans-serif\" font-size=\"14\" font-weight=\"bold\" lengthAdjust=\"spacingAndGlyphs\" textLength=\"72\" x=\"20\" y=\"20.9951\">AliasTest</text></a><!--MD5=[b4997ac47864f28c2f74865a473b2911]\n",
       "class E2--><a href=\"psysml:c347ad09-22d6-4423-9bac-4dbac759901f\" target=\"_top\" title=\"psysml:c347ad09-22d6-4423-9bac-4dbac759901f\" xlink:actuate=\"onRequest\" xlink:href=\"psysml:c347ad09-22d6-4423-9bac-4dbac759901f\" xlink:show=\"new\" xlink:title=\"psysml:c347ad09-22d6-4423-9bac-4dbac759901f\" xlink:type=\"simple\"><rect fill=\"#FEFECE\" filter=\"url(#f1y0y62yvplikd)\" height=\"69.6094\" id=\"E2\" style=\"stroke: #A80036; stroke-width: 1.5;\" width=\"92\" x=\"93\" y=\"189\"/><ellipse cx=\"127.8\" cy=\"205\" fill=\"#008000\" rx=\"11\" ry=\"11\" style=\"stroke: #A80036; stroke-width: 1.0;\"/><path d=\"M126.7063,205.375 L126.7063,209.0469 L128.3313,209.0469 Q129.5031,209.0469 129.9719,208.6563 Q130.4406,208.25 130.4406,207.25 Q130.4406,206.25 129.9406,205.8125 Q129.4563,205.375 128.3313,205.375 L126.7063,205.375 Z M126.7063,200.5469 L126.7063,203.4219 L128.3313,203.4219 Q129.2531,203.4219 129.6438,203.0938 Q130.05,202.75 130.05,202 Q130.05,201.2344 129.6438,200.8906 Q129.2375,200.5469 128.3313,200.5469 L126.7063,200.5469 Z M124.3313,198.5938 L128.3313,198.5938 Q130.3938,198.5938 131.4406,199.375 Q132.4875,200.1563 132.4875,201.7188 Q132.4875,202.9219 131.8625,203.5938 Q131.2531,204.2656 130.0656,204.375 Q131.4875,204.5156 132.2063,205.3281 Q132.925,206.1406 132.925,207.5938 Q132.925,209.3906 131.8469,210.2031 Q130.7688,211 128.3313,211 L124.3313,211 L124.3313,198.5938 Z \"/><text fill=\"#000000\" font-family=\"sans-serif\" font-size=\"12\" lengthAdjust=\"spacingAndGlyphs\" textLength=\"16\" x=\"146.2\" y=\"209.1543\">P1</text><line style=\"stroke: #A80036; stroke-width: 1.5;\" x1=\"94\" x2=\"184\" y1=\"221\" y2=\"221\"/><text fill=\"#000000\" font-family=\"sans-serif\" font-size=\"11\" lengthAdjust=\"spacingAndGlyphs\" textLength=\"36\" x=\"99\" y=\"252.0151\">porig1</text><text fill=\"#000000\" font-family=\"sans-serif\" font-size=\"11\" font-weight=\"bold\" lengthAdjust=\"spacingAndGlyphs\" textLength=\"15\" x=\"139\" y=\"252.0151\">as</text><text fill=\"#000000\" font-family=\"sans-serif\" font-size=\"11\" lengthAdjust=\"spacingAndGlyphs\" textLength=\"21\" x=\"158\" y=\"252.0151\">po1</text><line style=\"stroke: #A80036; stroke-width: 1.0;\" x1=\"94\" x2=\"124\" y1=\"235.4023\" y2=\"235.4023\"/><text fill=\"#000000\" font-family=\"sans-serif\" font-size=\"11\" lengthAdjust=\"spacingAndGlyphs\" textLength=\"30\" x=\"124\" y=\"238.7104\">ports</text><line style=\"stroke: #A80036; stroke-width: 1.0;\" x1=\"154\" x2=\"184\" y1=\"235.4023\" y2=\"235.4023\"/></a><!--MD5=[ebbe1d658d1005bcc118a6aa81145e00]\n",
       "class E4--><a href=\"psysml:d449d8a1-a677-4f10-8ecb-a1ad1c680d6c\" target=\"_top\" title=\"psysml:d449d8a1-a677-4f10-8ecb-a1ad1c680d6c\" xlink:actuate=\"onRequest\" xlink:href=\"psysml:d449d8a1-a677-4f10-8ecb-a1ad1c680d6c\" xlink:show=\"new\" xlink:title=\"psysml:d449d8a1-a677-4f10-8ecb-a1ad1c680d6c\" xlink:type=\"simple\"><rect fill=\"#FEFECE\" filter=\"url(#f1y0y62yvplikd)\" height=\"88.3516\" id=\"E4\" rx=\"10\" ry=\"10\" style=\"stroke: #A80036; stroke-width: 1.5;\" width=\"92\" x=\"155\" y=\"41\"/><ellipse cx=\"179\" cy=\"59.9688\" fill=\"#32CD32\" rx=\"11\" ry=\"11\" style=\"stroke: #A80036; stroke-width: 1.0;\"/><path d=\"M178.7969,55.6406 L178.7969,59.2656 L179.7969,59.2656 Q181,59.2656 181.4844,58.8594 Q181.9688,58.4531 181.9688,57.4531 Q181.9688,56.4531 181.4844,56.0469 Q181,55.6406 179.7969,55.6406 L178.7969,55.6406 Z M176.3438,53.5781 L179.7031,53.5781 Q182.2656,53.5781 183.3906,54.5 Q184.5156,55.4063 184.5156,57.4531 Q184.5156,59.5 183.3906,60.4219 Q182.2656,61.3281 179.7031,61.3281 L178.7969,61.3281 L178.7969,65.9688 L176.3438,65.9688 L176.3438,53.5781 Z \"/><text fill=\"#000000\" font-family=\"sans-serif\" font-size=\"12\" font-style=\"italic\" lengthAdjust=\"spacingAndGlyphs\" textLength=\"40\" x=\"195\" y=\"57.1387\">«part»</text><text fill=\"#000000\" font-family=\"sans-serif\" font-size=\"12\" lengthAdjust=\"spacingAndGlyphs\" textLength=\"40\" x=\"195\" y=\"71.1074\">p1: P1</text><line style=\"stroke: #A80036; stroke-width: 1.5;\" x1=\"156\" x2=\"246\" y1=\"78.9375\" y2=\"78.9375\"/><text fill=\"#000000\" font-family=\"sans-serif\" font-size=\"11\" lengthAdjust=\"spacingAndGlyphs\" textLength=\"21\" x=\"161\" y=\"109.9526\">po1</text><text fill=\"#000000\" font-family=\"sans-serif\" font-size=\"11\" font-style=\"italic\" lengthAdjust=\"spacingAndGlyphs\" textLength=\"80\" x=\"161\" y=\"122.7573\">:&gt;&gt;P1::porig1</text><line style=\"stroke: #A80036; stroke-width: 1.0;\" x1=\"156\" x2=\"186\" y1=\"93.3398\" y2=\"93.3398\"/><text fill=\"#000000\" font-family=\"sans-serif\" font-size=\"11\" lengthAdjust=\"spacingAndGlyphs\" textLength=\"30\" x=\"186\" y=\"96.6479\">ports</text><line style=\"stroke: #A80036; stroke-width: 1.0;\" x1=\"216\" x2=\"246\" y1=\"93.3398\" y2=\"93.3398\"/></a><!--MD5=[60a26617385b1d2d0262a64233df1f8d]\n",
       "class E6--><a href=\"psysml:32242b45-8d95-4b7d-97cb-8dd31296908f\" target=\"_top\" title=\"psysml:32242b45-8d95-4b7d-97cb-8dd31296908f\" xlink:actuate=\"onRequest\" xlink:href=\"psysml:32242b45-8d95-4b7d-97cb-8dd31296908f\" xlink:show=\"new\" xlink:title=\"psysml:32242b45-8d95-4b7d-97cb-8dd31296908f\" xlink:type=\"simple\"><rect fill=\"#FEFECE\" filter=\"url(#f1y0y62yvplikd)\" height=\"75.5469\" id=\"E6\" rx=\"10\" ry=\"10\" style=\"stroke: #A80036; stroke-width: 1.5;\" width=\"88\" x=\"32\" y=\"47\"/><ellipse cx=\"54.2\" cy=\"65.9688\" fill=\"#32CD32\" rx=\"11\" ry=\"11\" style=\"stroke: #A80036; stroke-width: 1.0;\"/><path d=\"M53.9969,61.6406 L53.9969,65.2656 L54.9969,65.2656 Q56.2,65.2656 56.6844,64.8594 Q57.1688,64.4531 57.1688,63.4531 Q57.1688,62.4531 56.6844,62.0469 Q56.2,61.6406 54.9969,61.6406 L53.9969,61.6406 Z M51.5438,59.5781 L54.9031,59.5781 Q57.4656,59.5781 58.5906,60.5 Q59.7156,61.4063 59.7156,63.4531 Q59.7156,65.5 58.5906,66.4219 Q57.4656,67.3281 54.9031,67.3281 L53.9969,67.3281 L53.9969,71.9688 L51.5438,71.9688 L51.5438,59.5781 Z \"/><text fill=\"#000000\" font-family=\"sans-serif\" font-size=\"12\" font-style=\"italic\" lengthAdjust=\"spacingAndGlyphs\" textLength=\"40\" x=\"69.8\" y=\"63.1387\">«part»</text><text fill=\"#000000\" font-family=\"sans-serif\" font-size=\"12\" lengthAdjust=\"spacingAndGlyphs\" textLength=\"40\" x=\"69.8\" y=\"77.1074\">p2: P1</text><line style=\"stroke: #A80036; stroke-width: 1.5;\" x1=\"33\" x2=\"119\" y1=\"84.9375\" y2=\"84.9375\"/><text fill=\"#000000\" font-family=\"sans-serif\" font-size=\"11\" lengthAdjust=\"spacingAndGlyphs\" textLength=\"32\" x=\"38\" y=\"115.9526\">pdest</text><text fill=\"#000000\" font-family=\"sans-serif\" font-size=\"11\" font-weight=\"bold\" lengthAdjust=\"spacingAndGlyphs\" textLength=\"15\" x=\"74\" y=\"115.9526\">as</text><text fill=\"#000000\" font-family=\"sans-serif\" font-size=\"11\" lengthAdjust=\"spacingAndGlyphs\" textLength=\"21\" x=\"93\" y=\"115.9526\">pd1</text><line style=\"stroke: #A80036; stroke-width: 1.0;\" x1=\"33\" x2=\"61\" y1=\"99.3398\" y2=\"99.3398\"/><text fill=\"#000000\" font-family=\"sans-serif\" font-size=\"11\" lengthAdjust=\"spacingAndGlyphs\" textLength=\"30\" x=\"61\" y=\"102.6479\">ports</text><line style=\"stroke: #A80036; stroke-width: 1.0;\" x1=\"91\" x2=\"119\" y1=\"99.3398\" y2=\"99.3398\"/></a><!--MD5=[185131fc0dcab0a4505a2ebe144e961b]\n",
       "link E4 to E2--><a href=\"psysml:2d5875ca-6e79-47eb-af19-37e1c3e68f98\" target=\"_top\" title=\"psysml:2d5875ca-6e79-47eb-af19-37e1c3e68f98\" xlink:actuate=\"onRequest\" xlink:href=\"psysml:2d5875ca-6e79-47eb-af19-37e1c3e68f98\" xlink:show=\"new\" xlink:title=\"psysml:2d5875ca-6e79-47eb-af19-37e1c3e68f98\" xlink:type=\"simple\"><path d=\"M181.38,129.35 C175.5,142.35 168.98,156.75 162.86,170.29 \" fill=\"none\" id=\"E4-&gt;E2\" style=\"stroke: #A80036; stroke-width: 1.0;\"/><polygon fill=\"#FFFFFF\" points=\"154.57,188.61,156.0203,168.4135,168.7767,174.1819,154.57,188.61\" style=\"stroke: #A80036; stroke-width: 1.0;\"/><ellipse cx=\"160.1912\" cy=\"164.0439\" fill=\"#A80036\" rx=\"2\" ry=\"2\" style=\"stroke: #A80036; stroke-width: 1.0;\"/><ellipse cx=\"169.3029\" cy=\"168.1642\" fill=\"#A80036\" rx=\"2\" ry=\"2\" style=\"stroke: #A80036; stroke-width: 1.0;\"/></a><!--MD5=[2351f337d6de0f557b50152ba70847b5]\n",
       "link E6 to E2--><a href=\"psysml:6438d4a2-0b71-4be8-b1f1-dcd907944303\" target=\"_top\" title=\"psysml:6438d4a2-0b71-4be8-b1f1-dcd907944303\" xlink:actuate=\"onRequest\" xlink:href=\"psysml:6438d4a2-0b71-4be8-b1f1-dcd907944303\" xlink:show=\"new\" xlink:title=\"psysml:6438d4a2-0b71-4be8-b1f1-dcd907944303\" xlink:type=\"simple\"><path d=\"M93.05,123.07 C99.73,137.61 107.53,154.55 114.77,170.32 \" fill=\"none\" id=\"E6-&gt;E2\" style=\"stroke: #A80036; stroke-width: 1.0;\"/><polygon fill=\"#FFFFFF\" points=\"123.24,188.72,108.9415,174.3829,121.6608,168.5332,123.24,188.72\" style=\"stroke: #A80036; stroke-width: 1.0;\"/><ellipse cx=\"108.3769\" cy=\"168.3687\" fill=\"#A80036\" rx=\"2\" ry=\"2\" style=\"stroke: #A80036; stroke-width: 1.0;\"/><ellipse cx=\"117.4621\" cy=\"164.1903\" fill=\"#A80036\" rx=\"2\" ry=\"2\" style=\"stroke: #A80036; stroke-width: 1.0;\"/></a><!--MD5=[a066420ad9204f2b29d5424a22c03d0f]\n",
       "@startuml\r\n",
       " \r\n",
       "package \"AliasTest\" as E1  [[psysml:e49964db-e340-4eba-a3a8-d7e4e465bce2 ]]  {\r\n",
       "comp def \"P1\" as E2  << (B,green) >> [[psysml:c347ad09-22d6-4423-9bac-4dbac759901f ]] {\r\n",
       "- - ports - -\r\n",
       "porig1 <b>as</b> po1 \r\n",
       "}\r\n",
       "comp usage \"p1: P1\" as E4  << (P,limegreen) part>> [[psysml:d449d8a1-a677-4f10-8ecb-a1ad1c680d6c ]] {\r\n",
       "- - ports - -\r\n",
       "po1\\n//:>>P1::porig1// \r\n",
       "}\r\n",
       "comp usage \"p2: P1\" as E6  << (P,limegreen) part>> [[psysml:32242b45-8d95-4b7d-97cb-8dd31296908f ]] {\r\n",
       "- - ports - -\r\n",
       "pdest <b>as</b> pd1 \r\n",
       "}\r\n",
       "E4 - -:|> E2 [[psysml:2d5875ca-6e79-47eb-af19-37e1c3e68f98 ]] \r\n",
       "E6 - -:|> E2 [[psysml:6438d4a2-0b71-4be8-b1f1-dcd907944303 ]] \r\n",
       "}\r\n",
       "@enduml\r\n",
       "\n",
       "PlantUML version 1.2020.13(Sat Jun 13 12:26:38 UTC 2020)\n",
       "(EPL source distribution)\n",
       "Java Runtime: OpenJDK Runtime Environment\n",
       "JVM: OpenJDK 64-Bit Server VM\n",
       "Default Encoding: UTF-8\n",
       "Language: en\n",
       "Country: null\n",
       "--></g></svg>"
      ]
     },
     "execution_count": 36,
     "metadata": {},
     "output_type": "execute_result"
    }
   ],
   "source": [
    "%viz --style=\"PLANTUML\" --view=\"MIXED\" \"AliasTest\""
   ]
  },
  {
   "cell_type": "code",
   "execution_count": 37,
   "id": "worldwide-compact",
   "metadata": {
    "execution": {
     "iopub.execute_input": "2021-03-25T14:10:10.361663Z",
     "iopub.status.busy": "2021-03-25T14:10:10.360768Z",
     "iopub.status.idle": "2021-03-25T14:10:10.928850Z",
     "shell.execute_reply": "2021-03-25T14:10:10.927261Z"
    }
   },
   "outputs": [
    {
     "data": {
      "image/svg+xml": [
       "<?xml version=\"1.0\" encoding=\"UTF-8\" standalone=\"no\"?><svg xmlns=\"http://www.w3.org/2000/svg\" xmlns:xlink=\"http://www.w3.org/1999/xlink\" contentScriptType=\"application/ecmascript\" contentStyleType=\"text/css\" height=\"293px\" preserveAspectRatio=\"none\" style=\"width:285px;height:293px;\" version=\"1.1\" viewBox=\"0 0 285 293\" width=\"285px\" zoomAndPan=\"magnify\"><defs/><g><!--MD5=[fbc87193dbaf4d95561dea2c320d4a47]\n",
       "cluster E1--><a href=\"psysml:e49964db-e340-4eba-a3a8-d7e4e465bce2\" target=\"_top\" title=\"psysml:e49964db-e340-4eba-a3a8-d7e4e465bce2\" xlink:actuate=\"onRequest\" xlink:href=\"psysml:e49964db-e340-4eba-a3a8-d7e4e465bce2\" xlink:show=\"new\" xlink:title=\"psysml:e49964db-e340-4eba-a3a8-d7e4e465bce2\" xlink:type=\"simple\"><polygon fill=\"#FFFFFF\" points=\"16,6,94,6,101,28.2969,263,28.2969,263,281,16,281,16,6\" style=\"stroke: #000000; stroke-width: 1.5;\"/><line style=\"stroke: #000000; stroke-width: 1.5;\" x1=\"16\" x2=\"101\" y1=\"28.2969\" y2=\"28.2969\"/><text fill=\"#000000\" font-family=\"sans-serif\" font-size=\"14\" font-weight=\"bold\" lengthAdjust=\"spacingAndGlyphs\" textLength=\"72\" x=\"20\" y=\"20.9951\">AliasTest</text></a><!--MD5=[b4997ac47864f28c2f74865a473b2911]\n",
       "class E2--><a href=\"psysml:c347ad09-22d6-4423-9bac-4dbac759901f\" target=\"_top\" title=\"psysml:c347ad09-22d6-4423-9bac-4dbac759901f\" xlink:actuate=\"onRequest\" xlink:href=\"psysml:c347ad09-22d6-4423-9bac-4dbac759901f\" xlink:show=\"new\" xlink:title=\"psysml:c347ad09-22d6-4423-9bac-4dbac759901f\" xlink:type=\"simple\"><rect fill=\"#FFFFFF\" height=\"75.5469\" id=\"E2\" style=\"stroke: #383838; stroke-width: 1.5;\" width=\"92\" x=\"93\" y=\"189\"/><text fill=\"#000000\" font-family=\"sans-serif\" font-size=\"12\" font-style=\"italic\" lengthAdjust=\"spacingAndGlyphs\" textLength=\"64\" x=\"107\" y=\"205.1387\">«part def»</text><text fill=\"#000000\" font-family=\"sans-serif\" font-size=\"12\" lengthAdjust=\"spacingAndGlyphs\" textLength=\"16\" x=\"131\" y=\"219.1074\">P1</text><line style=\"stroke: #383838; stroke-width: 1.5;\" x1=\"94\" x2=\"184\" y1=\"226.9375\" y2=\"226.9375\"/><text fill=\"#000000\" font-family=\"sans-serif\" font-size=\"11\" lengthAdjust=\"spacingAndGlyphs\" textLength=\"36\" x=\"99\" y=\"257.9526\">porig1</text><text fill=\"#000000\" font-family=\"sans-serif\" font-size=\"11\" font-weight=\"bold\" lengthAdjust=\"spacingAndGlyphs\" textLength=\"15\" x=\"139\" y=\"257.9526\">as</text><text fill=\"#000000\" font-family=\"sans-serif\" font-size=\"11\" lengthAdjust=\"spacingAndGlyphs\" textLength=\"21\" x=\"158\" y=\"257.9526\">po1</text><line style=\"stroke: #383838; stroke-width: 1.0;\" x1=\"94\" x2=\"124\" y1=\"241.3398\" y2=\"241.3398\"/><text fill=\"#000000\" font-family=\"sans-serif\" font-size=\"11\" lengthAdjust=\"spacingAndGlyphs\" textLength=\"30\" x=\"124\" y=\"244.6479\">ports</text><line style=\"stroke: #383838; stroke-width: 1.0;\" x1=\"154\" x2=\"184\" y1=\"241.3398\" y2=\"241.3398\"/></a><!--MD5=[ebbe1d658d1005bcc118a6aa81145e00]\n",
       "class E4--><a href=\"psysml:d449d8a1-a677-4f10-8ecb-a1ad1c680d6c\" target=\"_top\" title=\"psysml:d449d8a1-a677-4f10-8ecb-a1ad1c680d6c\" xlink:actuate=\"onRequest\" xlink:href=\"psysml:d449d8a1-a677-4f10-8ecb-a1ad1c680d6c\" xlink:show=\"new\" xlink:title=\"psysml:d449d8a1-a677-4f10-8ecb-a1ad1c680d6c\" xlink:type=\"simple\"><rect fill=\"#FFFFFF\" height=\"88.3516\" id=\"E4\" rx=\"10\" ry=\"10\" style=\"stroke: #383838; stroke-width: 1.5;\" width=\"92\" x=\"155\" y=\"41\"/><text fill=\"#000000\" font-family=\"sans-serif\" font-size=\"12\" font-style=\"italic\" lengthAdjust=\"spacingAndGlyphs\" textLength=\"40\" x=\"181\" y=\"57.1387\">«part»</text><text fill=\"#000000\" font-family=\"sans-serif\" font-size=\"12\" lengthAdjust=\"spacingAndGlyphs\" textLength=\"40\" x=\"181\" y=\"71.1074\">p1: P1</text><line style=\"stroke: #383838; stroke-width: 1.5;\" x1=\"156\" x2=\"246\" y1=\"78.9375\" y2=\"78.9375\"/><text fill=\"#000000\" font-family=\"sans-serif\" font-size=\"11\" lengthAdjust=\"spacingAndGlyphs\" textLength=\"21\" x=\"161\" y=\"109.9526\">po1</text><text fill=\"#000000\" font-family=\"sans-serif\" font-size=\"11\" font-style=\"italic\" lengthAdjust=\"spacingAndGlyphs\" textLength=\"80\" x=\"161\" y=\"122.7573\">:&gt;&gt;P1::porig1</text><line style=\"stroke: #383838; stroke-width: 1.0;\" x1=\"156\" x2=\"186\" y1=\"93.3398\" y2=\"93.3398\"/><text fill=\"#000000\" font-family=\"sans-serif\" font-size=\"11\" lengthAdjust=\"spacingAndGlyphs\" textLength=\"30\" x=\"186\" y=\"96.6479\">ports</text><line style=\"stroke: #383838; stroke-width: 1.0;\" x1=\"216\" x2=\"246\" y1=\"93.3398\" y2=\"93.3398\"/></a><!--MD5=[60a26617385b1d2d0262a64233df1f8d]\n",
       "class E6--><a href=\"psysml:32242b45-8d95-4b7d-97cb-8dd31296908f\" target=\"_top\" title=\"psysml:32242b45-8d95-4b7d-97cb-8dd31296908f\" xlink:actuate=\"onRequest\" xlink:href=\"psysml:32242b45-8d95-4b7d-97cb-8dd31296908f\" xlink:show=\"new\" xlink:title=\"psysml:32242b45-8d95-4b7d-97cb-8dd31296908f\" xlink:type=\"simple\"><rect fill=\"#FFFFFF\" height=\"75.5469\" id=\"E6\" rx=\"10\" ry=\"10\" style=\"stroke: #383838; stroke-width: 1.5;\" width=\"88\" x=\"32\" y=\"47\"/><text fill=\"#000000\" font-family=\"sans-serif\" font-size=\"12\" font-style=\"italic\" lengthAdjust=\"spacingAndGlyphs\" textLength=\"40\" x=\"56\" y=\"63.1387\">«part»</text><text fill=\"#000000\" font-family=\"sans-serif\" font-size=\"12\" lengthAdjust=\"spacingAndGlyphs\" textLength=\"40\" x=\"56\" y=\"77.1074\">p2: P1</text><line style=\"stroke: #383838; stroke-width: 1.5;\" x1=\"33\" x2=\"119\" y1=\"84.9375\" y2=\"84.9375\"/><text fill=\"#000000\" font-family=\"sans-serif\" font-size=\"11\" lengthAdjust=\"spacingAndGlyphs\" textLength=\"32\" x=\"38\" y=\"115.9526\">pdest</text><text fill=\"#000000\" font-family=\"sans-serif\" font-size=\"11\" font-weight=\"bold\" lengthAdjust=\"spacingAndGlyphs\" textLength=\"15\" x=\"74\" y=\"115.9526\">as</text><text fill=\"#000000\" font-family=\"sans-serif\" font-size=\"11\" lengthAdjust=\"spacingAndGlyphs\" textLength=\"21\" x=\"93\" y=\"115.9526\">pd1</text><line style=\"stroke: #383838; stroke-width: 1.0;\" x1=\"33\" x2=\"61\" y1=\"99.3398\" y2=\"99.3398\"/><text fill=\"#000000\" font-family=\"sans-serif\" font-size=\"11\" lengthAdjust=\"spacingAndGlyphs\" textLength=\"30\" x=\"61\" y=\"102.6479\">ports</text><line style=\"stroke: #383838; stroke-width: 1.0;\" x1=\"91\" x2=\"119\" y1=\"99.3398\" y2=\"99.3398\"/></a><!--MD5=[185131fc0dcab0a4505a2ebe144e961b]\n",
       "link E4 to E2--><a href=\"psysml:2d5875ca-6e79-47eb-af19-37e1c3e68f98\" target=\"_top\" title=\"psysml:2d5875ca-6e79-47eb-af19-37e1c3e68f98\" xlink:actuate=\"onRequest\" xlink:href=\"psysml:2d5875ca-6e79-47eb-af19-37e1c3e68f98\" xlink:show=\"new\" xlink:title=\"psysml:2d5875ca-6e79-47eb-af19-37e1c3e68f98\" xlink:type=\"simple\"><path d=\"M181.89,129.15 C176.14,142.14 169.74,156.6 163.67,170.29 \" fill=\"none\" id=\"E4-&gt;E2\" style=\"stroke: #383838; stroke-width: 1.0;\"/><polygon fill=\"#FFFFFF\" points=\"155.43,188.9,156.725,168.693,169.5254,174.3632,155.43,188.9\" style=\"stroke: #383838; stroke-width: 1.0;\"/><ellipse cx=\"160.8622\" cy=\"164.2914\" fill=\"#383838\" rx=\"2\" ry=\"2\" style=\"stroke: #383838; stroke-width: 1.0;\"/><ellipse cx=\"170.0053\" cy=\"168.3416\" fill=\"#383838\" rx=\"2\" ry=\"2\" style=\"stroke: #383838; stroke-width: 1.0;\"/></a><!--MD5=[2351f337d6de0f557b50152ba70847b5]\n",
       "link E6 to E2--><a href=\"psysml:6438d4a2-0b71-4be8-b1f1-dcd907944303\" target=\"_top\" title=\"psysml:6438d4a2-0b71-4be8-b1f1-dcd907944303\" xlink:actuate=\"onRequest\" xlink:href=\"psysml:6438d4a2-0b71-4be8-b1f1-dcd907944303\" xlink:show=\"new\" xlink:title=\"psysml:6438d4a2-0b71-4be8-b1f1-dcd907944303\" xlink:type=\"simple\"><path d=\"M92.72,123.15 C99.23,137.63 106.84,154.53 113.98,170.4 \" fill=\"none\" id=\"E6-&gt;E2\" style=\"stroke: #383838; stroke-width: 1.0;\"/><polygon fill=\"#FFFFFF\" points=\"122.2,188.68,108.0257,174.22,120.7951,168.4803,122.2,188.68\" style=\"stroke: #383838; stroke-width: 1.0;\"/><ellipse cx=\"107.5131\" cy=\"168.2011\" fill=\"#383838\" rx=\"2\" ry=\"2\" style=\"stroke: #383838; stroke-width: 1.0;\"/><ellipse cx=\"116.634\" cy=\"164.1014\" fill=\"#383838\" rx=\"2\" ry=\"2\" style=\"stroke: #383838; stroke-width: 1.0;\"/></a><!--MD5=[94631e6c139d0ef5c9aace6f5e776697]\n",
       "@startuml\r\n",
       "skinparam monochrome true\r\n",
       "skinparam classbackgroundcolor white\r\n",
       "skinparam shadowing false\r\n",
       "skinparam wrapWidth 300\r\n",
       "hide circle\r\n",
       "\r\n",
       "package \"AliasTest\" as E1  [[psysml:e49964db-e340-4eba-a3a8-d7e4e465bce2 ]]  {\r\n",
       "comp def \"P1\" as E2  <<(T,blue)part def>> [[psysml:c347ad09-22d6-4423-9bac-4dbac759901f ]] {\r\n",
       "- - ports - -\r\n",
       "porig1 <b>as</b> po1 \r\n",
       "}\r\n",
       "comp usage \"p1: P1\" as E4  <<(T,blue)part>> [[psysml:d449d8a1-a677-4f10-8ecb-a1ad1c680d6c ]] {\r\n",
       "- - ports - -\r\n",
       "po1\\n//:>>P1::porig1// \r\n",
       "}\r\n",
       "comp usage \"p2: P1\" as E6  <<(T,blue)part>> [[psysml:32242b45-8d95-4b7d-97cb-8dd31296908f ]] {\r\n",
       "- - ports - -\r\n",
       "pdest <b>as</b> pd1 \r\n",
       "}\r\n",
       "E4 - -:|> E2 [[psysml:2d5875ca-6e79-47eb-af19-37e1c3e68f98 ]] \r\n",
       "E6 - -:|> E2 [[psysml:6438d4a2-0b71-4be8-b1f1-dcd907944303 ]] \r\n",
       "}\r\n",
       "@enduml\r\n",
       "\n",
       "PlantUML version 1.2020.13(Sat Jun 13 12:26:38 UTC 2020)\n",
       "(EPL source distribution)\n",
       "Java Runtime: OpenJDK Runtime Environment\n",
       "JVM: OpenJDK 64-Bit Server VM\n",
       "Default Encoding: UTF-8\n",
       "Language: en\n",
       "Country: null\n",
       "--></g></svg>"
      ]
     },
     "execution_count": 37,
     "metadata": {},
     "output_type": "execute_result"
    }
   ],
   "source": [
    "%viz --style=\"DEFAULT\" --view=\"Default\" \"AliasTest\""
   ]
  },
  {
   "cell_type": "code",
   "execution_count": 38,
   "id": "moved-butter",
   "metadata": {
    "execution": {
     "iopub.execute_input": "2021-03-25T14:10:10.979201Z",
     "iopub.status.busy": "2021-03-25T14:10:10.978601Z",
     "iopub.status.idle": "2021-03-25T14:10:11.568430Z",
     "shell.execute_reply": "2021-03-25T14:10:11.569058Z"
    }
   },
   "outputs": [
    {
     "data": {
      "image/svg+xml": [
       "<?xml version=\"1.0\" encoding=\"UTF-8\" standalone=\"no\"?><svg xmlns=\"http://www.w3.org/2000/svg\" xmlns:xlink=\"http://www.w3.org/1999/xlink\" contentScriptType=\"application/ecmascript\" contentStyleType=\"text/css\" height=\"293px\" preserveAspectRatio=\"none\" style=\"width:285px;height:293px;\" version=\"1.1\" viewBox=\"0 0 285 293\" width=\"285px\" zoomAndPan=\"magnify\"><defs/><g><!--MD5=[fbc87193dbaf4d95561dea2c320d4a47]\n",
       "cluster E1--><a href=\"psysml:e49964db-e340-4eba-a3a8-d7e4e465bce2\" target=\"_top\" title=\"psysml:e49964db-e340-4eba-a3a8-d7e4e465bce2\" xlink:actuate=\"onRequest\" xlink:href=\"psysml:e49964db-e340-4eba-a3a8-d7e4e465bce2\" xlink:show=\"new\" xlink:title=\"psysml:e49964db-e340-4eba-a3a8-d7e4e465bce2\" xlink:type=\"simple\"><polygon fill=\"#FFFFFF\" points=\"16,6,94,6,101,28.2969,263,28.2969,263,281,16,281,16,6\" style=\"stroke: #000000; stroke-width: 1.5;\"/><line style=\"stroke: #000000; stroke-width: 1.5;\" x1=\"16\" x2=\"101\" y1=\"28.2969\" y2=\"28.2969\"/><text fill=\"#000000\" font-family=\"sans-serif\" font-size=\"14\" font-weight=\"bold\" lengthAdjust=\"spacingAndGlyphs\" textLength=\"72\" x=\"20\" y=\"20.9951\">AliasTest</text></a><!--MD5=[b4997ac47864f28c2f74865a473b2911]\n",
       "class E2--><a href=\"psysml:c347ad09-22d6-4423-9bac-4dbac759901f\" target=\"_top\" title=\"psysml:c347ad09-22d6-4423-9bac-4dbac759901f\" xlink:actuate=\"onRequest\" xlink:href=\"psysml:c347ad09-22d6-4423-9bac-4dbac759901f\" xlink:show=\"new\" xlink:title=\"psysml:c347ad09-22d6-4423-9bac-4dbac759901f\" xlink:type=\"simple\"><rect fill=\"#FFFFFF\" height=\"75.5469\" id=\"E2\" style=\"stroke: #383838; stroke-width: 1.5;\" width=\"92\" x=\"93\" y=\"189\"/><text fill=\"#000000\" font-family=\"sans-serif\" font-size=\"12\" font-style=\"italic\" lengthAdjust=\"spacingAndGlyphs\" textLength=\"64\" x=\"107\" y=\"205.1387\">«part def»</text><text fill=\"#000000\" font-family=\"sans-serif\" font-size=\"12\" lengthAdjust=\"spacingAndGlyphs\" textLength=\"16\" x=\"131\" y=\"219.1074\">P1</text><line style=\"stroke: #383838; stroke-width: 1.5;\" x1=\"94\" x2=\"184\" y1=\"226.9375\" y2=\"226.9375\"/><text fill=\"#000000\" font-family=\"sans-serif\" font-size=\"11\" lengthAdjust=\"spacingAndGlyphs\" textLength=\"36\" x=\"99\" y=\"257.9526\">porig1</text><text fill=\"#000000\" font-family=\"sans-serif\" font-size=\"11\" font-weight=\"bold\" lengthAdjust=\"spacingAndGlyphs\" textLength=\"15\" x=\"139\" y=\"257.9526\">as</text><text fill=\"#000000\" font-family=\"sans-serif\" font-size=\"11\" lengthAdjust=\"spacingAndGlyphs\" textLength=\"21\" x=\"158\" y=\"257.9526\">po1</text><line style=\"stroke: #383838; stroke-width: 1.0;\" x1=\"94\" x2=\"124\" y1=\"241.3398\" y2=\"241.3398\"/><text fill=\"#000000\" font-family=\"sans-serif\" font-size=\"11\" lengthAdjust=\"spacingAndGlyphs\" textLength=\"30\" x=\"124\" y=\"244.6479\">ports</text><line style=\"stroke: #383838; stroke-width: 1.0;\" x1=\"154\" x2=\"184\" y1=\"241.3398\" y2=\"241.3398\"/></a><!--MD5=[ebbe1d658d1005bcc118a6aa81145e00]\n",
       "class E4--><a href=\"psysml:d449d8a1-a677-4f10-8ecb-a1ad1c680d6c\" target=\"_top\" title=\"psysml:d449d8a1-a677-4f10-8ecb-a1ad1c680d6c\" xlink:actuate=\"onRequest\" xlink:href=\"psysml:d449d8a1-a677-4f10-8ecb-a1ad1c680d6c\" xlink:show=\"new\" xlink:title=\"psysml:d449d8a1-a677-4f10-8ecb-a1ad1c680d6c\" xlink:type=\"simple\"><rect fill=\"#FFFFFF\" height=\"88.3516\" id=\"E4\" rx=\"10\" ry=\"10\" style=\"stroke: #383838; stroke-width: 1.5;\" width=\"92\" x=\"155\" y=\"41\"/><text fill=\"#000000\" font-family=\"sans-serif\" font-size=\"12\" font-style=\"italic\" lengthAdjust=\"spacingAndGlyphs\" textLength=\"40\" x=\"181\" y=\"57.1387\">«part»</text><text fill=\"#000000\" font-family=\"sans-serif\" font-size=\"12\" lengthAdjust=\"spacingAndGlyphs\" textLength=\"40\" x=\"181\" y=\"71.1074\">p1: P1</text><line style=\"stroke: #383838; stroke-width: 1.5;\" x1=\"156\" x2=\"246\" y1=\"78.9375\" y2=\"78.9375\"/><text fill=\"#000000\" font-family=\"sans-serif\" font-size=\"11\" lengthAdjust=\"spacingAndGlyphs\" textLength=\"21\" x=\"161\" y=\"109.9526\">po1</text><text fill=\"#000000\" font-family=\"sans-serif\" font-size=\"11\" font-style=\"italic\" lengthAdjust=\"spacingAndGlyphs\" textLength=\"80\" x=\"161\" y=\"122.7573\">:&gt;&gt;P1::porig1</text><line style=\"stroke: #383838; stroke-width: 1.0;\" x1=\"156\" x2=\"186\" y1=\"93.3398\" y2=\"93.3398\"/><text fill=\"#000000\" font-family=\"sans-serif\" font-size=\"11\" lengthAdjust=\"spacingAndGlyphs\" textLength=\"30\" x=\"186\" y=\"96.6479\">ports</text><line style=\"stroke: #383838; stroke-width: 1.0;\" x1=\"216\" x2=\"246\" y1=\"93.3398\" y2=\"93.3398\"/></a><!--MD5=[60a26617385b1d2d0262a64233df1f8d]\n",
       "class E6--><a href=\"psysml:32242b45-8d95-4b7d-97cb-8dd31296908f\" target=\"_top\" title=\"psysml:32242b45-8d95-4b7d-97cb-8dd31296908f\" xlink:actuate=\"onRequest\" xlink:href=\"psysml:32242b45-8d95-4b7d-97cb-8dd31296908f\" xlink:show=\"new\" xlink:title=\"psysml:32242b45-8d95-4b7d-97cb-8dd31296908f\" xlink:type=\"simple\"><rect fill=\"#FFFFFF\" height=\"75.5469\" id=\"E6\" rx=\"10\" ry=\"10\" style=\"stroke: #383838; stroke-width: 1.5;\" width=\"88\" x=\"32\" y=\"47\"/><text fill=\"#000000\" font-family=\"sans-serif\" font-size=\"12\" font-style=\"italic\" lengthAdjust=\"spacingAndGlyphs\" textLength=\"40\" x=\"56\" y=\"63.1387\">«part»</text><text fill=\"#000000\" font-family=\"sans-serif\" font-size=\"12\" lengthAdjust=\"spacingAndGlyphs\" textLength=\"40\" x=\"56\" y=\"77.1074\">p2: P1</text><line style=\"stroke: #383838; stroke-width: 1.5;\" x1=\"33\" x2=\"119\" y1=\"84.9375\" y2=\"84.9375\"/><text fill=\"#000000\" font-family=\"sans-serif\" font-size=\"11\" lengthAdjust=\"spacingAndGlyphs\" textLength=\"32\" x=\"38\" y=\"115.9526\">pdest</text><text fill=\"#000000\" font-family=\"sans-serif\" font-size=\"11\" font-weight=\"bold\" lengthAdjust=\"spacingAndGlyphs\" textLength=\"15\" x=\"74\" y=\"115.9526\">as</text><text fill=\"#000000\" font-family=\"sans-serif\" font-size=\"11\" lengthAdjust=\"spacingAndGlyphs\" textLength=\"21\" x=\"93\" y=\"115.9526\">pd1</text><line style=\"stroke: #383838; stroke-width: 1.0;\" x1=\"33\" x2=\"61\" y1=\"99.3398\" y2=\"99.3398\"/><text fill=\"#000000\" font-family=\"sans-serif\" font-size=\"11\" lengthAdjust=\"spacingAndGlyphs\" textLength=\"30\" x=\"61\" y=\"102.6479\">ports</text><line style=\"stroke: #383838; stroke-width: 1.0;\" x1=\"91\" x2=\"119\" y1=\"99.3398\" y2=\"99.3398\"/></a><!--MD5=[185131fc0dcab0a4505a2ebe144e961b]\n",
       "link E4 to E2--><a href=\"psysml:2d5875ca-6e79-47eb-af19-37e1c3e68f98\" target=\"_top\" title=\"psysml:2d5875ca-6e79-47eb-af19-37e1c3e68f98\" xlink:actuate=\"onRequest\" xlink:href=\"psysml:2d5875ca-6e79-47eb-af19-37e1c3e68f98\" xlink:show=\"new\" xlink:title=\"psysml:2d5875ca-6e79-47eb-af19-37e1c3e68f98\" xlink:type=\"simple\"><path d=\"M181.89,129.15 C176.14,142.14 169.74,156.6 163.67,170.29 \" fill=\"none\" id=\"E4-&gt;E2\" style=\"stroke: #383838; stroke-width: 1.0;\"/><polygon fill=\"#FFFFFF\" points=\"155.43,188.9,156.725,168.693,169.5254,174.3632,155.43,188.9\" style=\"stroke: #383838; stroke-width: 1.0;\"/><ellipse cx=\"160.8622\" cy=\"164.2914\" fill=\"#383838\" rx=\"2\" ry=\"2\" style=\"stroke: #383838; stroke-width: 1.0;\"/><ellipse cx=\"170.0053\" cy=\"168.3416\" fill=\"#383838\" rx=\"2\" ry=\"2\" style=\"stroke: #383838; stroke-width: 1.0;\"/></a><!--MD5=[2351f337d6de0f557b50152ba70847b5]\n",
       "link E6 to E2--><a href=\"psysml:6438d4a2-0b71-4be8-b1f1-dcd907944303\" target=\"_top\" title=\"psysml:6438d4a2-0b71-4be8-b1f1-dcd907944303\" xlink:actuate=\"onRequest\" xlink:href=\"psysml:6438d4a2-0b71-4be8-b1f1-dcd907944303\" xlink:show=\"new\" xlink:title=\"psysml:6438d4a2-0b71-4be8-b1f1-dcd907944303\" xlink:type=\"simple\"><path d=\"M92.72,123.15 C99.23,137.63 106.84,154.53 113.98,170.4 \" fill=\"none\" id=\"E6-&gt;E2\" style=\"stroke: #383838; stroke-width: 1.0;\"/><polygon fill=\"#FFFFFF\" points=\"122.2,188.68,108.0257,174.22,120.7951,168.4803,122.2,188.68\" style=\"stroke: #383838; stroke-width: 1.0;\"/><ellipse cx=\"107.5131\" cy=\"168.2011\" fill=\"#383838\" rx=\"2\" ry=\"2\" style=\"stroke: #383838; stroke-width: 1.0;\"/><ellipse cx=\"116.634\" cy=\"164.1014\" fill=\"#383838\" rx=\"2\" ry=\"2\" style=\"stroke: #383838; stroke-width: 1.0;\"/></a><!--MD5=[94631e6c139d0ef5c9aace6f5e776697]\n",
       "@startuml\r\n",
       "skinparam monochrome true\r\n",
       "skinparam classbackgroundcolor white\r\n",
       "skinparam shadowing false\r\n",
       "skinparam wrapWidth 300\r\n",
       "hide circle\r\n",
       "\r\n",
       "package \"AliasTest\" as E1  [[psysml:e49964db-e340-4eba-a3a8-d7e4e465bce2 ]]  {\r\n",
       "comp def \"P1\" as E2  <<(T,blue)part def>> [[psysml:c347ad09-22d6-4423-9bac-4dbac759901f ]] {\r\n",
       "- - ports - -\r\n",
       "porig1 <b>as</b> po1 \r\n",
       "}\r\n",
       "comp usage \"p1: P1\" as E4  <<(T,blue)part>> [[psysml:d449d8a1-a677-4f10-8ecb-a1ad1c680d6c ]] {\r\n",
       "- - ports - -\r\n",
       "po1\\n//:>>P1::porig1// \r\n",
       "}\r\n",
       "comp usage \"p2: P1\" as E6  <<(T,blue)part>> [[psysml:32242b45-8d95-4b7d-97cb-8dd31296908f ]] {\r\n",
       "- - ports - -\r\n",
       "pdest <b>as</b> pd1 \r\n",
       "}\r\n",
       "E4 - -:|> E2 [[psysml:2d5875ca-6e79-47eb-af19-37e1c3e68f98 ]] \r\n",
       "E6 - -:|> E2 [[psysml:6438d4a2-0b71-4be8-b1f1-dcd907944303 ]] \r\n",
       "}\r\n",
       "@enduml\r\n",
       "\n",
       "PlantUML version 1.2020.13(Sat Jun 13 12:26:38 UTC 2020)\n",
       "(EPL source distribution)\n",
       "Java Runtime: OpenJDK Runtime Environment\n",
       "JVM: OpenJDK 64-Bit Server VM\n",
       "Default Encoding: UTF-8\n",
       "Language: en\n",
       "Country: null\n",
       "--></g></svg>"
      ]
     },
     "execution_count": 38,
     "metadata": {},
     "output_type": "execute_result"
    }
   ],
   "source": [
    "%viz --style=\"DEFAULT\" --view=\"Tree\" \"AliasTest\""
   ]
  },
  {
   "cell_type": "code",
   "execution_count": 39,
   "id": "specialized-league",
   "metadata": {
    "execution": {
     "iopub.execute_input": "2021-03-25T14:10:11.621464Z",
     "iopub.status.busy": "2021-03-25T14:10:11.620961Z",
     "iopub.status.idle": "2021-03-25T14:10:11.628667Z",
     "shell.execute_reply": "2021-03-25T14:10:11.628132Z"
    }
   },
   "outputs": [
    {
     "data": {
      "image/svg+xml": [
       "<?xml version=\"1.0\" encoding=\"UTF-8\" standalone=\"no\"?><svg xmlns=\"http://www.w3.org/2000/svg\" xmlns:xlink=\"http://www.w3.org/1999/xlink\" contentScriptType=\"application/ecmascript\" contentStyleType=\"text/css\" height=\"12px\" preserveAspectRatio=\"none\" style=\"width:12px;height:12px;\" version=\"1.1\" viewBox=\"0 0 12 12\" width=\"12px\" zoomAndPan=\"magnify\"><defs/><g><!--MD5=[c5f280e076d0d61ccf4b0f27871bda1d]\n",
       "@startuml\r\n",
       "skinparam monochrome true\r\n",
       "skinparam classbackgroundcolor white\r\n",
       "skinparam shadowing false\r\n",
       "skinparam wrapWidth 300\r\n",
       "hide circle\r\n",
       "\r\n",
       "@enduml\r\n",
       "\n",
       "PlantUML version 1.2020.13(Sat Jun 13 12:26:38 UTC 2020)\n",
       "(EPL source distribution)\n",
       "Java Runtime: OpenJDK Runtime Environment\n",
       "JVM: OpenJDK 64-Bit Server VM\n",
       "Default Encoding: UTF-8\n",
       "Language: en\n",
       "Country: null\n",
       "--></g></svg>"
      ]
     },
     "execution_count": 39,
     "metadata": {},
     "output_type": "execute_result"
    }
   ],
   "source": [
    "%viz --style=\"DEFAULT\" --view=\"State\" \"AliasTest\""
   ]
  },
  {
   "cell_type": "code",
   "execution_count": 40,
   "id": "listed-crash",
   "metadata": {
    "execution": {
     "iopub.execute_input": "2021-03-25T14:10:11.682286Z",
     "iopub.status.busy": "2021-03-25T14:10:11.680849Z",
     "iopub.status.idle": "2021-03-25T14:10:11.781703Z",
     "shell.execute_reply": "2021-03-25T14:10:11.782074Z"
    }
   },
   "outputs": [
    {
     "data": {
      "image/svg+xml": [
       "<?xml version=\"1.0\" encoding=\"UTF-8\" standalone=\"no\"?><svg xmlns=\"http://www.w3.org/2000/svg\" xmlns:xlink=\"http://www.w3.org/1999/xlink\" contentScriptType=\"application/ecmascript\" contentStyleType=\"text/css\" height=\"207px\" preserveAspectRatio=\"none\" style=\"width:406px;height:207px;\" version=\"1.1\" viewBox=\"0 0 406 207\" width=\"406px\" zoomAndPan=\"magnify\"><defs/><g><!--MD5=[fbc87193dbaf4d95561dea2c320d4a47]\n",
       "cluster E1--><a href=\"psysml:e49964db-e340-4eba-a3a8-d7e4e465bce2\" target=\"_top\" title=\"psysml:e49964db-e340-4eba-a3a8-d7e4e465bce2\" xlink:actuate=\"onRequest\" xlink:href=\"psysml:e49964db-e340-4eba-a3a8-d7e4e465bce2\" xlink:show=\"new\" xlink:title=\"psysml:e49964db-e340-4eba-a3a8-d7e4e465bce2\" xlink:type=\"simple\"><polygon fill=\"#FFFFFF\" points=\"16,6,94,6,101,28.2969,384,28.2969,384,195,16,195,16,6\" style=\"stroke: #000000; stroke-width: 1.5;\"/><line style=\"stroke: #000000; stroke-width: 1.5;\" x1=\"16\" x2=\"101\" y1=\"28.2969\" y2=\"28.2969\"/><text fill=\"#000000\" font-family=\"sans-serif\" font-size=\"14\" font-weight=\"bold\" lengthAdjust=\"spacingAndGlyphs\" textLength=\"72\" x=\"20\" y=\"20.9951\">AliasTest</text></a><!--MD5=[e4f7fae6ed58524ba242bb0b0d3be6b7]\n",
       "cluster E2--><a href=\"psysml:c347ad09-22d6-4423-9bac-4dbac759901f\" target=\"_top\" title=\"psysml:c347ad09-22d6-4423-9bac-4dbac759901f\" xlink:actuate=\"onRequest\" xlink:href=\"psysml:c347ad09-22d6-4423-9bac-4dbac759901f\" xlink:show=\"new\" xlink:title=\"psysml:c347ad09-22d6-4423-9bac-4dbac759901f\" xlink:type=\"simple\"><rect fill=\"#FFFFFF\" height=\"73\" id=\"E2\" style=\"stroke: #383838; stroke-width: 1.5;\" width=\"83\" x=\"244\" y=\"55\"/><rect fill=\"#F8F8F8\" height=\"37.9375\" style=\"stroke: #383838; stroke-width: 1.5;\" width=\"83\" x=\"244\" y=\"55\"/><text fill=\"#000000\" font-family=\"sans-serif\" font-size=\"12\" font-style=\"italic\" lengthAdjust=\"spacingAndGlyphs\" textLength=\"64\" x=\"253.5\" y=\"71.1387\">«part def»</text><text fill=\"#000000\" font-family=\"sans-serif\" font-size=\"12\" lengthAdjust=\"spacingAndGlyphs\" textLength=\"16\" x=\"277.5\" y=\"85.1074\">P1</text></a><!--MD5=[de5ec2e2e8f62f467e546659f5068c88]\n",
       "cluster E5--><a href=\"psysml:d449d8a1-a677-4f10-8ecb-a1ad1c680d6c\" target=\"_top\" title=\"psysml:d449d8a1-a677-4f10-8ecb-a1ad1c680d6c\" xlink:actuate=\"onRequest\" xlink:href=\"psysml:d449d8a1-a677-4f10-8ecb-a1ad1c680d6c\" xlink:show=\"new\" xlink:title=\"psysml:d449d8a1-a677-4f10-8ecb-a1ad1c680d6c\" xlink:type=\"simple\"><rect fill=\"#FFFFFF\" height=\"84.5\" id=\"E5\" rx=\"10\" ry=\"10\" style=\"stroke: #383838; stroke-width: 1.5;\" width=\"101\" x=\"139\" y=\"94.5\"/><rect fill=\"#F8F8F8\" height=\"23.9688\" rx=\"10\" ry=\"10\" style=\"stroke: #F8F8F8; stroke-width: 1.5;\" width=\"101\" x=\"139\" y=\"94.5\"/><rect fill=\"#F8F8F8\" height=\"10\" style=\"stroke: #F8F8F8; stroke-width: 1.5;\" width=\"101\" x=\"139\" y=\"108.4688\"/><rect fill=\"none\" height=\"84.5\" id=\"E5\" rx=\"10\" ry=\"10\" style=\"stroke: #383838; stroke-width: 1.5;\" width=\"101\" x=\"139\" y=\"94.5\"/><text fill=\"#000000\" font-family=\"sans-serif\" font-size=\"12\" lengthAdjust=\"spacingAndGlyphs\" textLength=\"40\" x=\"169.5\" y=\"110.6387\">p1: P1</text><line style=\"stroke: #383838; stroke-width: 1.0;\" x1=\"139\" x2=\"240\" y1=\"118.4688\" y2=\"118.4688\"/></a><!--MD5=[168fadf3d0c3fd93dd5d6da1b1d7ab76]\n",
       "cluster E7--><a href=\"psysml:32242b45-8d95-4b7d-97cb-8dd31296908f\" target=\"_top\" title=\"psysml:32242b45-8d95-4b7d-97cb-8dd31296908f\" xlink:actuate=\"onRequest\" xlink:href=\"psysml:32242b45-8d95-4b7d-97cb-8dd31296908f\" xlink:show=\"new\" xlink:title=\"psysml:32242b45-8d95-4b7d-97cb-8dd31296908f\" xlink:type=\"simple\"><rect fill=\"#FFFFFF\" height=\"65\" id=\"E7\" rx=\"10\" ry=\"10\" style=\"stroke: #383838; stroke-width: 1.5;\" width=\"83\" x=\"53\" y=\"55\"/><rect fill=\"#F8F8F8\" height=\"23.9688\" rx=\"10\" ry=\"10\" style=\"stroke: #F8F8F8; stroke-width: 1.5;\" width=\"83\" x=\"53\" y=\"55\"/><rect fill=\"#F8F8F8\" height=\"10\" style=\"stroke: #F8F8F8; stroke-width: 1.5;\" width=\"83\" x=\"53\" y=\"68.9688\"/><rect fill=\"none\" height=\"65\" id=\"E7\" rx=\"10\" ry=\"10\" style=\"stroke: #383838; stroke-width: 1.5;\" width=\"83\" x=\"53\" y=\"55\"/><text fill=\"#000000\" font-family=\"sans-serif\" font-size=\"12\" lengthAdjust=\"spacingAndGlyphs\" textLength=\"40\" x=\"74.5\" y=\"71.1387\">p2: P1</text><line style=\"stroke: #383838; stroke-width: 1.0;\" x1=\"53\" x2=\"136\" y1=\"78.9688\" y2=\"78.9688\"/></a><text fill=\"#000000\" font-family=\"sans-serif\" font-size=\"14\" lengthAdjust=\"spacingAndGlyphs\" textLength=\"44\" x=\"240\" y=\"33.6982\">porig1</text><rect fill=\"#383838\" height=\"12\" style=\"stroke: #F8F8F8; stroke-width: 1.5;\" width=\"12\" x=\"256\" y=\"49\"/><text fill=\"#000000\" font-family=\"sans-serif\" font-size=\"14\" lengthAdjust=\"spacingAndGlyphs\" textLength=\"44\" x=\"287\" y=\"33.6982\">porig1</text><rect fill=\"#383838\" height=\"12\" style=\"stroke: #F8F8F8; stroke-width: 1.5;\" width=\"12\" x=\"303\" y=\"49\"/><text fill=\"#000000\" font-family=\"sans-serif\" font-size=\"14\" lengthAdjust=\"spacingAndGlyphs\" textLength=\"27\" x=\"143.5\" y=\"73.1982\">po1</text><rect fill=\"#383838\" height=\"12\" style=\"stroke: #F8F8F8; stroke-width: 1.5;\" width=\"12\" x=\"151\" y=\"88.5\"/><text fill=\"#000000\" font-family=\"sans-serif\" font-size=\"14\" lengthAdjust=\"spacingAndGlyphs\" textLength=\"40\" x=\"51\" y=\"33.6982\">pdest</text><rect fill=\"#383838\" height=\"12\" style=\"stroke: #F8F8F8; stroke-width: 1.5;\" width=\"12\" x=\"65\" y=\"49\"/><text fill=\"#000000\" font-family=\"sans-serif\" font-size=\"14\" lengthAdjust=\"spacingAndGlyphs\" textLength=\"40\" x=\"98\" y=\"33.6982\">pdest</text><rect fill=\"#383838\" height=\"12\" style=\"stroke: #F8F8F8; stroke-width: 1.5;\" width=\"12\" x=\"112\" y=\"49\"/><!--MD5=[60ac2c0cde89d4308155b0484e57a8ec]\n",
       "link E9 to E6--><a href=\"psysml:542ee912-9568-47bf-89cf-5ffa6da25451\" target=\"_top\" title=\"psysml:542ee912-9568-47bf-89cf-5ffa6da25451\" xlink:actuate=\"onRequest\" xlink:href=\"psysml:542ee912-9568-47bf-89cf-5ffa6da25451\" xlink:show=\"new\" xlink:title=\"psysml:542ee912-9568-47bf-89cf-5ffa6da25451\" xlink:type=\"simple\"><path d=\"M111.75,56.49 C103.41,58.2 109.82,64.05 115,69 C124.85,78.4 136.6,90.11 150.78,92.89 \" fill=\"none\" id=\"E9-E6\" style=\"stroke: #383838; stroke-width: 3.0;\"/></a><!--MD5=[60ac2c0cde89d4308155b0484e57a8ec]\n",
       "link E9 to E6--><a href=\"psysml:574c6fbc-01c2-4e16-ae54-13c104835878\" target=\"_top\" title=\"psysml:574c6fbc-01c2-4e16-ae54-13c104835878\" xlink:actuate=\"onRequest\" xlink:href=\"psysml:574c6fbc-01c2-4e16-ae54-13c104835878\" xlink:show=\"new\" xlink:title=\"psysml:574c6fbc-01c2-4e16-ae54-13c104835878\" xlink:type=\"simple\"><path d=\"M124.29,56.32 C137.94,57.76 144.62,63.87 150,69 C159.5,78.06 170.77,89.27 163.24,92.56 \" fill=\"none\" id=\"E9-E6-1\" style=\"stroke: #383838; stroke-width: 3.0;\"/></a><!--MD5=[ad9ca4b0dee6985c19ae981cd3cf9681]\n",
       "@startuml\r\n",
       "skinparam ranksep 10\r\n",
       "skinparam rectangle {\r\n",
       " backgroundColor<<block>> LightGreen\r\n",
       "}\r\n",
       "skinparam monochrome true\r\n",
       "skinparam classbackgroundcolor white\r\n",
       "skinparam shadowing false\r\n",
       "skinparam wrapWidth 300\r\n",
       "hide circle\r\n",
       "\r\n",
       "package \"AliasTest\" as E1  [[psysml:e49964db-e340-4eba-a3a8-d7e4e465bce2 ]]  {\r\n",
       "rec def \"P1\" as E2  <<(T,blue)part def>> [[psysml:c347ad09-22d6-4423-9bac-4dbac759901f ]] {\r\n",
       "portin \"porig1\" as E3  <<(T,blue)port>> [[psysml:0250d93f-14e1-4692-9053-ebbfda808262 ]] \r\n",
       "portin \"porig1\" as E4  <<(T,blue)port>> [[psysml:0250d93f-14e1-4692-9053-ebbfda808262 ]] \r\n",
       "}\r\n",
       "rec usage \"p1: P1\" as E5  [[psysml:d449d8a1-a677-4f10-8ecb-a1ad1c680d6c ]] {\r\n",
       "portin \"po1\" as E6  <<(T,blue)port>> [[psysml:29809450-6fae-45f0-8103-0520fac6504b ]] \r\n",
       "}\r\n",
       "rec usage \"p2: P1\" as E7  [[psysml:32242b45-8d95-4b7d-97cb-8dd31296908f ]] {\r\n",
       "portin \"pdest\" as E8  <<(T,blue)port>> [[psysml:232a2b18-4f4e-4d95-914a-9e8054ac4fe4 ]] \r\n",
       "portin \"pdest\" as E9  <<(T,blue)port>> [[psysml:232a2b18-4f4e-4d95-914a-9e8054ac4fe4 ]] \r\n",
       "}\r\n",
       "E9 -[thickness=3]- E6 [[psysml:542ee912-9568-47bf-89cf-5ffa6da25451 ]] \r\n",
       "E9 -[thickness=3]- E6 [[psysml:574c6fbc-01c2-4e16-ae54-13c104835878 ]] \r\n",
       "}\r\n",
       "@enduml\r\n",
       "\n",
       "PlantUML version 1.2020.13(Sat Jun 13 12:26:38 UTC 2020)\n",
       "(EPL source distribution)\n",
       "Java Runtime: OpenJDK Runtime Environment\n",
       "JVM: OpenJDK 64-Bit Server VM\n",
       "Default Encoding: UTF-8\n",
       "Language: en\n",
       "Country: null\n",
       "--></g></svg>"
      ]
     },
     "execution_count": 40,
     "metadata": {},
     "output_type": "execute_result"
    }
   ],
   "source": [
    "%viz --style=\"DEFAULT\" --view=\"Interconnection\" \"AliasTest\""
   ]
  },
  {
   "cell_type": "code",
   "execution_count": 41,
   "id": "conceptual-state",
   "metadata": {
    "execution": {
     "iopub.execute_input": "2021-03-25T14:10:11.833760Z",
     "iopub.status.busy": "2021-03-25T14:10:11.833353Z",
     "iopub.status.idle": "2021-03-25T14:10:11.846900Z",
     "shell.execute_reply": "2021-03-25T14:10:11.847297Z"
    }
   },
   "outputs": [
    {
     "data": {
      "image/svg+xml": [
       "<?xml version=\"1.0\" encoding=\"UTF-8\" standalone=\"no\"?><svg xmlns=\"http://www.w3.org/2000/svg\" xmlns:xlink=\"http://www.w3.org/1999/xlink\" contentScriptType=\"application/ecmascript\" contentStyleType=\"text/css\" height=\"12px\" preserveAspectRatio=\"none\" style=\"width:12px;height:12px;\" version=\"1.1\" viewBox=\"0 0 12 12\" width=\"12px\" zoomAndPan=\"magnify\"><defs/><g><!--MD5=[388f21188e31bfdd97050473b19af356]\n",
       "@startuml\r\n",
       "skinparam ranksep 8\r\n",
       "skinparam monochrome true\r\n",
       "skinparam classbackgroundcolor white\r\n",
       "skinparam shadowing false\r\n",
       "skinparam wrapWidth 300\r\n",
       "hide circle\r\n",
       "\r\n",
       "@enduml\r\n",
       "\n",
       "PlantUML version 1.2020.13(Sat Jun 13 12:26:38 UTC 2020)\n",
       "(EPL source distribution)\n",
       "Java Runtime: OpenJDK Runtime Environment\n",
       "JVM: OpenJDK 64-Bit Server VM\n",
       "Default Encoding: UTF-8\n",
       "Language: en\n",
       "Country: null\n",
       "--></g></svg>"
      ]
     },
     "execution_count": 41,
     "metadata": {},
     "output_type": "execute_result"
    }
   ],
   "source": [
    "%viz --style=\"DEFAULT\" --view=\"Action\" \"AliasTest\""
   ]
  },
  {
   "cell_type": "code",
   "execution_count": 42,
   "id": "sustainable-calendar",
   "metadata": {
    "execution": {
     "iopub.execute_input": "2021-03-25T14:10:11.900693Z",
     "iopub.status.busy": "2021-03-25T14:10:11.899783Z",
     "iopub.status.idle": "2021-03-25T14:10:12.462460Z",
     "shell.execute_reply": "2021-03-25T14:10:12.460377Z"
    }
   },
   "outputs": [
    {
     "data": {
      "image/svg+xml": [
       "<?xml version=\"1.0\" encoding=\"UTF-8\" standalone=\"no\"?><svg xmlns=\"http://www.w3.org/2000/svg\" xmlns:xlink=\"http://www.w3.org/1999/xlink\" contentScriptType=\"application/ecmascript\" contentStyleType=\"text/css\" height=\"293px\" preserveAspectRatio=\"none\" style=\"width:285px;height:293px;\" version=\"1.1\" viewBox=\"0 0 285 293\" width=\"285px\" zoomAndPan=\"magnify\"><defs/><g><!--MD5=[fbc87193dbaf4d95561dea2c320d4a47]\n",
       "cluster E1--><a href=\"psysml:e49964db-e340-4eba-a3a8-d7e4e465bce2\" target=\"_top\" title=\"psysml:e49964db-e340-4eba-a3a8-d7e4e465bce2\" xlink:actuate=\"onRequest\" xlink:href=\"psysml:e49964db-e340-4eba-a3a8-d7e4e465bce2\" xlink:show=\"new\" xlink:title=\"psysml:e49964db-e340-4eba-a3a8-d7e4e465bce2\" xlink:type=\"simple\"><polygon fill=\"#FFFFFF\" points=\"16,6,94,6,101,28.2969,263,28.2969,263,281,16,281,16,6\" style=\"stroke: #000000; stroke-width: 1.5;\"/><line style=\"stroke: #000000; stroke-width: 1.5;\" x1=\"16\" x2=\"101\" y1=\"28.2969\" y2=\"28.2969\"/><text fill=\"#000000\" font-family=\"sans-serif\" font-size=\"14\" font-weight=\"bold\" lengthAdjust=\"spacingAndGlyphs\" textLength=\"72\" x=\"20\" y=\"20.9951\">AliasTest</text></a><!--MD5=[b4997ac47864f28c2f74865a473b2911]\n",
       "class E2--><a href=\"psysml:c347ad09-22d6-4423-9bac-4dbac759901f\" target=\"_top\" title=\"psysml:c347ad09-22d6-4423-9bac-4dbac759901f\" xlink:actuate=\"onRequest\" xlink:href=\"psysml:c347ad09-22d6-4423-9bac-4dbac759901f\" xlink:show=\"new\" xlink:title=\"psysml:c347ad09-22d6-4423-9bac-4dbac759901f\" xlink:type=\"simple\"><rect fill=\"#FFFFFF\" height=\"75.5469\" id=\"E2\" style=\"stroke: #383838; stroke-width: 1.5;\" width=\"92\" x=\"93\" y=\"189\"/><text fill=\"#000000\" font-family=\"sans-serif\" font-size=\"12\" font-style=\"italic\" lengthAdjust=\"spacingAndGlyphs\" textLength=\"64\" x=\"107\" y=\"205.1387\">«part def»</text><text fill=\"#000000\" font-family=\"sans-serif\" font-size=\"12\" lengthAdjust=\"spacingAndGlyphs\" textLength=\"16\" x=\"131\" y=\"219.1074\">P1</text><line style=\"stroke: #383838; stroke-width: 1.5;\" x1=\"94\" x2=\"184\" y1=\"226.9375\" y2=\"226.9375\"/><text fill=\"#000000\" font-family=\"sans-serif\" font-size=\"11\" lengthAdjust=\"spacingAndGlyphs\" textLength=\"36\" x=\"99\" y=\"257.9526\">porig1</text><text fill=\"#000000\" font-family=\"sans-serif\" font-size=\"11\" font-weight=\"bold\" lengthAdjust=\"spacingAndGlyphs\" textLength=\"15\" x=\"139\" y=\"257.9526\">as</text><text fill=\"#000000\" font-family=\"sans-serif\" font-size=\"11\" lengthAdjust=\"spacingAndGlyphs\" textLength=\"21\" x=\"158\" y=\"257.9526\">po1</text><line style=\"stroke: #383838; stroke-width: 1.0;\" x1=\"94\" x2=\"124\" y1=\"241.3398\" y2=\"241.3398\"/><text fill=\"#000000\" font-family=\"sans-serif\" font-size=\"11\" lengthAdjust=\"spacingAndGlyphs\" textLength=\"30\" x=\"124\" y=\"244.6479\">ports</text><line style=\"stroke: #383838; stroke-width: 1.0;\" x1=\"154\" x2=\"184\" y1=\"241.3398\" y2=\"241.3398\"/></a><!--MD5=[ebbe1d658d1005bcc118a6aa81145e00]\n",
       "class E4--><a href=\"psysml:d449d8a1-a677-4f10-8ecb-a1ad1c680d6c\" target=\"_top\" title=\"psysml:d449d8a1-a677-4f10-8ecb-a1ad1c680d6c\" xlink:actuate=\"onRequest\" xlink:href=\"psysml:d449d8a1-a677-4f10-8ecb-a1ad1c680d6c\" xlink:show=\"new\" xlink:title=\"psysml:d449d8a1-a677-4f10-8ecb-a1ad1c680d6c\" xlink:type=\"simple\"><rect fill=\"#FFFFFF\" height=\"88.3516\" id=\"E4\" rx=\"10\" ry=\"10\" style=\"stroke: #383838; stroke-width: 1.5;\" width=\"92\" x=\"155\" y=\"41\"/><text fill=\"#000000\" font-family=\"sans-serif\" font-size=\"12\" font-style=\"italic\" lengthAdjust=\"spacingAndGlyphs\" textLength=\"40\" x=\"181\" y=\"57.1387\">«part»</text><text fill=\"#000000\" font-family=\"sans-serif\" font-size=\"12\" lengthAdjust=\"spacingAndGlyphs\" textLength=\"40\" x=\"181\" y=\"71.1074\">p1: P1</text><line style=\"stroke: #383838; stroke-width: 1.5;\" x1=\"156\" x2=\"246\" y1=\"78.9375\" y2=\"78.9375\"/><text fill=\"#000000\" font-family=\"sans-serif\" font-size=\"11\" lengthAdjust=\"spacingAndGlyphs\" textLength=\"21\" x=\"161\" y=\"109.9526\">po1</text><text fill=\"#000000\" font-family=\"sans-serif\" font-size=\"11\" font-style=\"italic\" lengthAdjust=\"spacingAndGlyphs\" textLength=\"80\" x=\"161\" y=\"122.7573\">:&gt;&gt;P1::porig1</text><line style=\"stroke: #383838; stroke-width: 1.0;\" x1=\"156\" x2=\"186\" y1=\"93.3398\" y2=\"93.3398\"/><text fill=\"#000000\" font-family=\"sans-serif\" font-size=\"11\" lengthAdjust=\"spacingAndGlyphs\" textLength=\"30\" x=\"186\" y=\"96.6479\">ports</text><line style=\"stroke: #383838; stroke-width: 1.0;\" x1=\"216\" x2=\"246\" y1=\"93.3398\" y2=\"93.3398\"/></a><!--MD5=[60a26617385b1d2d0262a64233df1f8d]\n",
       "class E6--><a href=\"psysml:32242b45-8d95-4b7d-97cb-8dd31296908f\" target=\"_top\" title=\"psysml:32242b45-8d95-4b7d-97cb-8dd31296908f\" xlink:actuate=\"onRequest\" xlink:href=\"psysml:32242b45-8d95-4b7d-97cb-8dd31296908f\" xlink:show=\"new\" xlink:title=\"psysml:32242b45-8d95-4b7d-97cb-8dd31296908f\" xlink:type=\"simple\"><rect fill=\"#FFFFFF\" height=\"75.5469\" id=\"E6\" rx=\"10\" ry=\"10\" style=\"stroke: #383838; stroke-width: 1.5;\" width=\"88\" x=\"32\" y=\"47\"/><text fill=\"#000000\" font-family=\"sans-serif\" font-size=\"12\" font-style=\"italic\" lengthAdjust=\"spacingAndGlyphs\" textLength=\"40\" x=\"56\" y=\"63.1387\">«part»</text><text fill=\"#000000\" font-family=\"sans-serif\" font-size=\"12\" lengthAdjust=\"spacingAndGlyphs\" textLength=\"40\" x=\"56\" y=\"77.1074\">p2: P1</text><line style=\"stroke: #383838; stroke-width: 1.5;\" x1=\"33\" x2=\"119\" y1=\"84.9375\" y2=\"84.9375\"/><text fill=\"#000000\" font-family=\"sans-serif\" font-size=\"11\" lengthAdjust=\"spacingAndGlyphs\" textLength=\"32\" x=\"38\" y=\"115.9526\">pdest</text><text fill=\"#000000\" font-family=\"sans-serif\" font-size=\"11\" font-weight=\"bold\" lengthAdjust=\"spacingAndGlyphs\" textLength=\"15\" x=\"74\" y=\"115.9526\">as</text><text fill=\"#000000\" font-family=\"sans-serif\" font-size=\"11\" lengthAdjust=\"spacingAndGlyphs\" textLength=\"21\" x=\"93\" y=\"115.9526\">pd1</text><line style=\"stroke: #383838; stroke-width: 1.0;\" x1=\"33\" x2=\"61\" y1=\"99.3398\" y2=\"99.3398\"/><text fill=\"#000000\" font-family=\"sans-serif\" font-size=\"11\" lengthAdjust=\"spacingAndGlyphs\" textLength=\"30\" x=\"61\" y=\"102.6479\">ports</text><line style=\"stroke: #383838; stroke-width: 1.0;\" x1=\"91\" x2=\"119\" y1=\"99.3398\" y2=\"99.3398\"/></a><!--MD5=[185131fc0dcab0a4505a2ebe144e961b]\n",
       "link E4 to E2--><a href=\"psysml:2d5875ca-6e79-47eb-af19-37e1c3e68f98\" target=\"_top\" title=\"psysml:2d5875ca-6e79-47eb-af19-37e1c3e68f98\" xlink:actuate=\"onRequest\" xlink:href=\"psysml:2d5875ca-6e79-47eb-af19-37e1c3e68f98\" xlink:show=\"new\" xlink:title=\"psysml:2d5875ca-6e79-47eb-af19-37e1c3e68f98\" xlink:type=\"simple\"><path d=\"M181.89,129.15 C176.14,142.14 169.74,156.6 163.67,170.29 \" fill=\"none\" id=\"E4-&gt;E2\" style=\"stroke: #383838; stroke-width: 1.0;\"/><polygon fill=\"#FFFFFF\" points=\"155.43,188.9,156.725,168.693,169.5254,174.3632,155.43,188.9\" style=\"stroke: #383838; stroke-width: 1.0;\"/><ellipse cx=\"160.8622\" cy=\"164.2914\" fill=\"#383838\" rx=\"2\" ry=\"2\" style=\"stroke: #383838; stroke-width: 1.0;\"/><ellipse cx=\"170.0053\" cy=\"168.3416\" fill=\"#383838\" rx=\"2\" ry=\"2\" style=\"stroke: #383838; stroke-width: 1.0;\"/></a><!--MD5=[2351f337d6de0f557b50152ba70847b5]\n",
       "link E6 to E2--><a href=\"psysml:6438d4a2-0b71-4be8-b1f1-dcd907944303\" target=\"_top\" title=\"psysml:6438d4a2-0b71-4be8-b1f1-dcd907944303\" xlink:actuate=\"onRequest\" xlink:href=\"psysml:6438d4a2-0b71-4be8-b1f1-dcd907944303\" xlink:show=\"new\" xlink:title=\"psysml:6438d4a2-0b71-4be8-b1f1-dcd907944303\" xlink:type=\"simple\"><path d=\"M92.72,123.15 C99.23,137.63 106.84,154.53 113.98,170.4 \" fill=\"none\" id=\"E6-&gt;E2\" style=\"stroke: #383838; stroke-width: 1.0;\"/><polygon fill=\"#FFFFFF\" points=\"122.2,188.68,108.0257,174.22,120.7951,168.4803,122.2,188.68\" style=\"stroke: #383838; stroke-width: 1.0;\"/><ellipse cx=\"107.5131\" cy=\"168.2011\" fill=\"#383838\" rx=\"2\" ry=\"2\" style=\"stroke: #383838; stroke-width: 1.0;\"/><ellipse cx=\"116.634\" cy=\"164.1014\" fill=\"#383838\" rx=\"2\" ry=\"2\" style=\"stroke: #383838; stroke-width: 1.0;\"/></a><!--MD5=[94631e6c139d0ef5c9aace6f5e776697]\n",
       "@startuml\r\n",
       "skinparam monochrome true\r\n",
       "skinparam classbackgroundcolor white\r\n",
       "skinparam shadowing false\r\n",
       "skinparam wrapWidth 300\r\n",
       "hide circle\r\n",
       "\r\n",
       "package \"AliasTest\" as E1  [[psysml:e49964db-e340-4eba-a3a8-d7e4e465bce2 ]]  {\r\n",
       "comp def \"P1\" as E2  <<(T,blue)part def>> [[psysml:c347ad09-22d6-4423-9bac-4dbac759901f ]] {\r\n",
       "- - ports - -\r\n",
       "porig1 <b>as</b> po1 \r\n",
       "}\r\n",
       "comp usage \"p1: P1\" as E4  <<(T,blue)part>> [[psysml:d449d8a1-a677-4f10-8ecb-a1ad1c680d6c ]] {\r\n",
       "- - ports - -\r\n",
       "po1\\n//:>>P1::porig1// \r\n",
       "}\r\n",
       "comp usage \"p2: P1\" as E6  <<(T,blue)part>> [[psysml:32242b45-8d95-4b7d-97cb-8dd31296908f ]] {\r\n",
       "- - ports - -\r\n",
       "pdest <b>as</b> pd1 \r\n",
       "}\r\n",
       "E4 - -:|> E2 [[psysml:2d5875ca-6e79-47eb-af19-37e1c3e68f98 ]] \r\n",
       "E6 - -:|> E2 [[psysml:6438d4a2-0b71-4be8-b1f1-dcd907944303 ]] \r\n",
       "}\r\n",
       "@enduml\r\n",
       "\n",
       "PlantUML version 1.2020.13(Sat Jun 13 12:26:38 UTC 2020)\n",
       "(EPL source distribution)\n",
       "Java Runtime: OpenJDK Runtime Environment\n",
       "JVM: OpenJDK 64-Bit Server VM\n",
       "Default Encoding: UTF-8\n",
       "Language: en\n",
       "Country: null\n",
       "--></g></svg>"
      ]
     },
     "execution_count": 42,
     "metadata": {},
     "output_type": "execute_result"
    }
   ],
   "source": [
    "%viz --style=\"DEFAULT\" --view=\"Sequence\" \"AliasTest\""
   ]
  },
  {
   "cell_type": "code",
   "execution_count": 43,
   "id": "found-terrace",
   "metadata": {
    "execution": {
     "iopub.execute_input": "2021-03-25T14:10:12.513835Z",
     "iopub.status.busy": "2021-03-25T14:10:12.513187Z",
     "iopub.status.idle": "2021-03-25T14:10:13.074566Z",
     "shell.execute_reply": "2021-03-25T14:10:13.073055Z"
    }
   },
   "outputs": [
    {
     "data": {
      "image/svg+xml": [
       "<?xml version=\"1.0\" encoding=\"UTF-8\" standalone=\"no\"?><svg xmlns=\"http://www.w3.org/2000/svg\" xmlns:xlink=\"http://www.w3.org/1999/xlink\" contentScriptType=\"application/ecmascript\" contentStyleType=\"text/css\" height=\"293px\" preserveAspectRatio=\"none\" style=\"width:285px;height:293px;\" version=\"1.1\" viewBox=\"0 0 285 293\" width=\"285px\" zoomAndPan=\"magnify\"><defs/><g><!--MD5=[fbc87193dbaf4d95561dea2c320d4a47]\n",
       "cluster E1--><a href=\"psysml:e49964db-e340-4eba-a3a8-d7e4e465bce2\" target=\"_top\" title=\"psysml:e49964db-e340-4eba-a3a8-d7e4e465bce2\" xlink:actuate=\"onRequest\" xlink:href=\"psysml:e49964db-e340-4eba-a3a8-d7e4e465bce2\" xlink:show=\"new\" xlink:title=\"psysml:e49964db-e340-4eba-a3a8-d7e4e465bce2\" xlink:type=\"simple\"><polygon fill=\"#FFFFFF\" points=\"16,6,94,6,101,28.2969,263,28.2969,263,281,16,281,16,6\" style=\"stroke: #000000; stroke-width: 1.5;\"/><line style=\"stroke: #000000; stroke-width: 1.5;\" x1=\"16\" x2=\"101\" y1=\"28.2969\" y2=\"28.2969\"/><text fill=\"#000000\" font-family=\"sans-serif\" font-size=\"14\" font-weight=\"bold\" lengthAdjust=\"spacingAndGlyphs\" textLength=\"72\" x=\"20\" y=\"20.9951\">AliasTest</text></a><!--MD5=[b4997ac47864f28c2f74865a473b2911]\n",
       "class E2--><a href=\"psysml:c347ad09-22d6-4423-9bac-4dbac759901f\" target=\"_top\" title=\"psysml:c347ad09-22d6-4423-9bac-4dbac759901f\" xlink:actuate=\"onRequest\" xlink:href=\"psysml:c347ad09-22d6-4423-9bac-4dbac759901f\" xlink:show=\"new\" xlink:title=\"psysml:c347ad09-22d6-4423-9bac-4dbac759901f\" xlink:type=\"simple\"><rect fill=\"#FFFFFF\" height=\"75.5469\" id=\"E2\" style=\"stroke: #383838; stroke-width: 1.5;\" width=\"92\" x=\"93\" y=\"189\"/><text fill=\"#000000\" font-family=\"sans-serif\" font-size=\"12\" font-style=\"italic\" lengthAdjust=\"spacingAndGlyphs\" textLength=\"64\" x=\"107\" y=\"205.1387\">«part def»</text><text fill=\"#000000\" font-family=\"sans-serif\" font-size=\"12\" lengthAdjust=\"spacingAndGlyphs\" textLength=\"16\" x=\"131\" y=\"219.1074\">P1</text><line style=\"stroke: #383838; stroke-width: 1.5;\" x1=\"94\" x2=\"184\" y1=\"226.9375\" y2=\"226.9375\"/><text fill=\"#000000\" font-family=\"sans-serif\" font-size=\"11\" lengthAdjust=\"spacingAndGlyphs\" textLength=\"36\" x=\"99\" y=\"257.9526\">porig1</text><text fill=\"#000000\" font-family=\"sans-serif\" font-size=\"11\" font-weight=\"bold\" lengthAdjust=\"spacingAndGlyphs\" textLength=\"15\" x=\"139\" y=\"257.9526\">as</text><text fill=\"#000000\" font-family=\"sans-serif\" font-size=\"11\" lengthAdjust=\"spacingAndGlyphs\" textLength=\"21\" x=\"158\" y=\"257.9526\">po1</text><line style=\"stroke: #383838; stroke-width: 1.0;\" x1=\"94\" x2=\"124\" y1=\"241.3398\" y2=\"241.3398\"/><text fill=\"#000000\" font-family=\"sans-serif\" font-size=\"11\" lengthAdjust=\"spacingAndGlyphs\" textLength=\"30\" x=\"124\" y=\"244.6479\">ports</text><line style=\"stroke: #383838; stroke-width: 1.0;\" x1=\"154\" x2=\"184\" y1=\"241.3398\" y2=\"241.3398\"/></a><!--MD5=[ebbe1d658d1005bcc118a6aa81145e00]\n",
       "class E4--><a href=\"psysml:d449d8a1-a677-4f10-8ecb-a1ad1c680d6c\" target=\"_top\" title=\"psysml:d449d8a1-a677-4f10-8ecb-a1ad1c680d6c\" xlink:actuate=\"onRequest\" xlink:href=\"psysml:d449d8a1-a677-4f10-8ecb-a1ad1c680d6c\" xlink:show=\"new\" xlink:title=\"psysml:d449d8a1-a677-4f10-8ecb-a1ad1c680d6c\" xlink:type=\"simple\"><rect fill=\"#FFFFFF\" height=\"88.3516\" id=\"E4\" rx=\"10\" ry=\"10\" style=\"stroke: #383838; stroke-width: 1.5;\" width=\"92\" x=\"155\" y=\"41\"/><text fill=\"#000000\" font-family=\"sans-serif\" font-size=\"12\" font-style=\"italic\" lengthAdjust=\"spacingAndGlyphs\" textLength=\"40\" x=\"181\" y=\"57.1387\">«part»</text><text fill=\"#000000\" font-family=\"sans-serif\" font-size=\"12\" lengthAdjust=\"spacingAndGlyphs\" textLength=\"40\" x=\"181\" y=\"71.1074\">p1: P1</text><line style=\"stroke: #383838; stroke-width: 1.5;\" x1=\"156\" x2=\"246\" y1=\"78.9375\" y2=\"78.9375\"/><text fill=\"#000000\" font-family=\"sans-serif\" font-size=\"11\" lengthAdjust=\"spacingAndGlyphs\" textLength=\"21\" x=\"161\" y=\"109.9526\">po1</text><text fill=\"#000000\" font-family=\"sans-serif\" font-size=\"11\" font-style=\"italic\" lengthAdjust=\"spacingAndGlyphs\" textLength=\"80\" x=\"161\" y=\"122.7573\">:&gt;&gt;P1::porig1</text><line style=\"stroke: #383838; stroke-width: 1.0;\" x1=\"156\" x2=\"186\" y1=\"93.3398\" y2=\"93.3398\"/><text fill=\"#000000\" font-family=\"sans-serif\" font-size=\"11\" lengthAdjust=\"spacingAndGlyphs\" textLength=\"30\" x=\"186\" y=\"96.6479\">ports</text><line style=\"stroke: #383838; stroke-width: 1.0;\" x1=\"216\" x2=\"246\" y1=\"93.3398\" y2=\"93.3398\"/></a><!--MD5=[60a26617385b1d2d0262a64233df1f8d]\n",
       "class E6--><a href=\"psysml:32242b45-8d95-4b7d-97cb-8dd31296908f\" target=\"_top\" title=\"psysml:32242b45-8d95-4b7d-97cb-8dd31296908f\" xlink:actuate=\"onRequest\" xlink:href=\"psysml:32242b45-8d95-4b7d-97cb-8dd31296908f\" xlink:show=\"new\" xlink:title=\"psysml:32242b45-8d95-4b7d-97cb-8dd31296908f\" xlink:type=\"simple\"><rect fill=\"#FFFFFF\" height=\"75.5469\" id=\"E6\" rx=\"10\" ry=\"10\" style=\"stroke: #383838; stroke-width: 1.5;\" width=\"88\" x=\"32\" y=\"47\"/><text fill=\"#000000\" font-family=\"sans-serif\" font-size=\"12\" font-style=\"italic\" lengthAdjust=\"spacingAndGlyphs\" textLength=\"40\" x=\"56\" y=\"63.1387\">«part»</text><text fill=\"#000000\" font-family=\"sans-serif\" font-size=\"12\" lengthAdjust=\"spacingAndGlyphs\" textLength=\"40\" x=\"56\" y=\"77.1074\">p2: P1</text><line style=\"stroke: #383838; stroke-width: 1.5;\" x1=\"33\" x2=\"119\" y1=\"84.9375\" y2=\"84.9375\"/><text fill=\"#000000\" font-family=\"sans-serif\" font-size=\"11\" lengthAdjust=\"spacingAndGlyphs\" textLength=\"32\" x=\"38\" y=\"115.9526\">pdest</text><text fill=\"#000000\" font-family=\"sans-serif\" font-size=\"11\" font-weight=\"bold\" lengthAdjust=\"spacingAndGlyphs\" textLength=\"15\" x=\"74\" y=\"115.9526\">as</text><text fill=\"#000000\" font-family=\"sans-serif\" font-size=\"11\" lengthAdjust=\"spacingAndGlyphs\" textLength=\"21\" x=\"93\" y=\"115.9526\">pd1</text><line style=\"stroke: #383838; stroke-width: 1.0;\" x1=\"33\" x2=\"61\" y1=\"99.3398\" y2=\"99.3398\"/><text fill=\"#000000\" font-family=\"sans-serif\" font-size=\"11\" lengthAdjust=\"spacingAndGlyphs\" textLength=\"30\" x=\"61\" y=\"102.6479\">ports</text><line style=\"stroke: #383838; stroke-width: 1.0;\" x1=\"91\" x2=\"119\" y1=\"99.3398\" y2=\"99.3398\"/></a><!--MD5=[185131fc0dcab0a4505a2ebe144e961b]\n",
       "link E4 to E2--><a href=\"psysml:2d5875ca-6e79-47eb-af19-37e1c3e68f98\" target=\"_top\" title=\"psysml:2d5875ca-6e79-47eb-af19-37e1c3e68f98\" xlink:actuate=\"onRequest\" xlink:href=\"psysml:2d5875ca-6e79-47eb-af19-37e1c3e68f98\" xlink:show=\"new\" xlink:title=\"psysml:2d5875ca-6e79-47eb-af19-37e1c3e68f98\" xlink:type=\"simple\"><path d=\"M181.89,129.15 C176.14,142.14 169.74,156.6 163.67,170.29 \" fill=\"none\" id=\"E4-&gt;E2\" style=\"stroke: #383838; stroke-width: 1.0;\"/><polygon fill=\"#FFFFFF\" points=\"155.43,188.9,156.725,168.693,169.5254,174.3632,155.43,188.9\" style=\"stroke: #383838; stroke-width: 1.0;\"/><ellipse cx=\"160.8622\" cy=\"164.2914\" fill=\"#383838\" rx=\"2\" ry=\"2\" style=\"stroke: #383838; stroke-width: 1.0;\"/><ellipse cx=\"170.0053\" cy=\"168.3416\" fill=\"#383838\" rx=\"2\" ry=\"2\" style=\"stroke: #383838; stroke-width: 1.0;\"/></a><!--MD5=[2351f337d6de0f557b50152ba70847b5]\n",
       "link E6 to E2--><a href=\"psysml:6438d4a2-0b71-4be8-b1f1-dcd907944303\" target=\"_top\" title=\"psysml:6438d4a2-0b71-4be8-b1f1-dcd907944303\" xlink:actuate=\"onRequest\" xlink:href=\"psysml:6438d4a2-0b71-4be8-b1f1-dcd907944303\" xlink:show=\"new\" xlink:title=\"psysml:6438d4a2-0b71-4be8-b1f1-dcd907944303\" xlink:type=\"simple\"><path d=\"M92.72,123.15 C99.23,137.63 106.84,154.53 113.98,170.4 \" fill=\"none\" id=\"E6-&gt;E2\" style=\"stroke: #383838; stroke-width: 1.0;\"/><polygon fill=\"#FFFFFF\" points=\"122.2,188.68,108.0257,174.22,120.7951,168.4803,122.2,188.68\" style=\"stroke: #383838; stroke-width: 1.0;\"/><ellipse cx=\"107.5131\" cy=\"168.2011\" fill=\"#383838\" rx=\"2\" ry=\"2\" style=\"stroke: #383838; stroke-width: 1.0;\"/><ellipse cx=\"116.634\" cy=\"164.1014\" fill=\"#383838\" rx=\"2\" ry=\"2\" style=\"stroke: #383838; stroke-width: 1.0;\"/></a><!--MD5=[94631e6c139d0ef5c9aace6f5e776697]\n",
       "@startuml\r\n",
       "skinparam monochrome true\r\n",
       "skinparam classbackgroundcolor white\r\n",
       "skinparam shadowing false\r\n",
       "skinparam wrapWidth 300\r\n",
       "hide circle\r\n",
       "\r\n",
       "package \"AliasTest\" as E1  [[psysml:e49964db-e340-4eba-a3a8-d7e4e465bce2 ]]  {\r\n",
       "comp def \"P1\" as E2  <<(T,blue)part def>> [[psysml:c347ad09-22d6-4423-9bac-4dbac759901f ]] {\r\n",
       "- - ports - -\r\n",
       "porig1 <b>as</b> po1 \r\n",
       "}\r\n",
       "comp usage \"p1: P1\" as E4  <<(T,blue)part>> [[psysml:d449d8a1-a677-4f10-8ecb-a1ad1c680d6c ]] {\r\n",
       "- - ports - -\r\n",
       "po1\\n//:>>P1::porig1// \r\n",
       "}\r\n",
       "comp usage \"p2: P1\" as E6  <<(T,blue)part>> [[psysml:32242b45-8d95-4b7d-97cb-8dd31296908f ]] {\r\n",
       "- - ports - -\r\n",
       "pdest <b>as</b> pd1 \r\n",
       "}\r\n",
       "E4 - -:|> E2 [[psysml:2d5875ca-6e79-47eb-af19-37e1c3e68f98 ]] \r\n",
       "E6 - -:|> E2 [[psysml:6438d4a2-0b71-4be8-b1f1-dcd907944303 ]] \r\n",
       "}\r\n",
       "@enduml\r\n",
       "\n",
       "PlantUML version 1.2020.13(Sat Jun 13 12:26:38 UTC 2020)\n",
       "(EPL source distribution)\n",
       "Java Runtime: OpenJDK Runtime Environment\n",
       "JVM: OpenJDK 64-Bit Server VM\n",
       "Default Encoding: UTF-8\n",
       "Language: en\n",
       "Country: null\n",
       "--></g></svg>"
      ]
     },
     "execution_count": 43,
     "metadata": {},
     "output_type": "execute_result"
    }
   ],
   "source": [
    "%viz --style=\"DEFAULT\" --view=\"MIXED\" \"AliasTest\""
   ]
  },
  {
   "cell_type": "code",
   "execution_count": 44,
   "id": "pregnant-terrorism",
   "metadata": {
    "execution": {
     "iopub.execute_input": "2021-03-25T14:10:13.125891Z",
     "iopub.status.busy": "2021-03-25T14:10:13.125200Z",
     "iopub.status.idle": "2021-03-25T14:10:13.687109Z",
     "shell.execute_reply": "2021-03-25T14:10:13.685385Z"
    }
   },
   "outputs": [
    {
     "data": {
      "image/svg+xml": [
       "<?xml version=\"1.0\" encoding=\"UTF-8\" standalone=\"no\"?><svg xmlns=\"http://www.w3.org/2000/svg\" xmlns:xlink=\"http://www.w3.org/1999/xlink\" contentScriptType=\"application/ecmascript\" contentStyleType=\"text/css\" height=\"293px\" preserveAspectRatio=\"none\" style=\"width:285px;height:293px;\" version=\"1.1\" viewBox=\"0 0 285 293\" width=\"285px\" zoomAndPan=\"magnify\"><defs/><g><!--MD5=[fbc87193dbaf4d95561dea2c320d4a47]\n",
       "cluster E1--><a href=\"psysml:e49964db-e340-4eba-a3a8-d7e4e465bce2\" target=\"_top\" title=\"psysml:e49964db-e340-4eba-a3a8-d7e4e465bce2\" xlink:actuate=\"onRequest\" xlink:href=\"psysml:e49964db-e340-4eba-a3a8-d7e4e465bce2\" xlink:show=\"new\" xlink:title=\"psysml:e49964db-e340-4eba-a3a8-d7e4e465bce2\" xlink:type=\"simple\"><polygon fill=\"#FFFFFF\" points=\"16,6,94,6,101,28.2969,263,28.2969,263,281,16,281,16,6\" style=\"stroke: #000000; stroke-width: 1.5;\"/><line style=\"stroke: #000000; stroke-width: 1.5;\" x1=\"16\" x2=\"101\" y1=\"28.2969\" y2=\"28.2969\"/><text fill=\"#000000\" font-family=\"sans-serif\" font-size=\"14\" font-weight=\"bold\" lengthAdjust=\"spacingAndGlyphs\" textLength=\"72\" x=\"20\" y=\"20.9951\">AliasTest</text></a><!--MD5=[b4997ac47864f28c2f74865a473b2911]\n",
       "class E2--><a href=\"psysml:c347ad09-22d6-4423-9bac-4dbac759901f\" target=\"_top\" title=\"psysml:c347ad09-22d6-4423-9bac-4dbac759901f\" xlink:actuate=\"onRequest\" xlink:href=\"psysml:c347ad09-22d6-4423-9bac-4dbac759901f\" xlink:show=\"new\" xlink:title=\"psysml:c347ad09-22d6-4423-9bac-4dbac759901f\" xlink:type=\"simple\"><rect fill=\"#FFFFFF\" height=\"75.5469\" id=\"E2\" style=\"stroke: #383838; stroke-width: 1.5;\" width=\"92\" x=\"93\" y=\"189\"/><text fill=\"#000000\" font-family=\"sans-serif\" font-size=\"12\" font-style=\"italic\" lengthAdjust=\"spacingAndGlyphs\" textLength=\"64\" x=\"107\" y=\"205.1387\">«part def»</text><text fill=\"#000000\" font-family=\"sans-serif\" font-size=\"12\" lengthAdjust=\"spacingAndGlyphs\" textLength=\"16\" x=\"131\" y=\"219.1074\">P1</text><line style=\"stroke: #383838; stroke-width: 1.5;\" x1=\"94\" x2=\"184\" y1=\"226.9375\" y2=\"226.9375\"/><text fill=\"#000000\" font-family=\"sans-serif\" font-size=\"11\" lengthAdjust=\"spacingAndGlyphs\" textLength=\"36\" x=\"99\" y=\"257.9526\">porig1</text><text fill=\"#000000\" font-family=\"sans-serif\" font-size=\"11\" font-weight=\"bold\" lengthAdjust=\"spacingAndGlyphs\" textLength=\"15\" x=\"139\" y=\"257.9526\">as</text><text fill=\"#000000\" font-family=\"sans-serif\" font-size=\"11\" lengthAdjust=\"spacingAndGlyphs\" textLength=\"21\" x=\"158\" y=\"257.9526\">po1</text><line style=\"stroke: #383838; stroke-width: 1.0;\" x1=\"94\" x2=\"124\" y1=\"241.3398\" y2=\"241.3398\"/><text fill=\"#000000\" font-family=\"sans-serif\" font-size=\"11\" lengthAdjust=\"spacingAndGlyphs\" textLength=\"30\" x=\"124\" y=\"244.6479\">ports</text><line style=\"stroke: #383838; stroke-width: 1.0;\" x1=\"154\" x2=\"184\" y1=\"241.3398\" y2=\"241.3398\"/></a><!--MD5=[ebbe1d658d1005bcc118a6aa81145e00]\n",
       "class E4--><a href=\"psysml:d449d8a1-a677-4f10-8ecb-a1ad1c680d6c\" target=\"_top\" title=\"psysml:d449d8a1-a677-4f10-8ecb-a1ad1c680d6c\" xlink:actuate=\"onRequest\" xlink:href=\"psysml:d449d8a1-a677-4f10-8ecb-a1ad1c680d6c\" xlink:show=\"new\" xlink:title=\"psysml:d449d8a1-a677-4f10-8ecb-a1ad1c680d6c\" xlink:type=\"simple\"><rect fill=\"#FFFFFF\" height=\"88.3516\" id=\"E4\" rx=\"10\" ry=\"10\" style=\"stroke: #383838; stroke-width: 1.5;\" width=\"92\" x=\"155\" y=\"41\"/><text fill=\"#000000\" font-family=\"sans-serif\" font-size=\"12\" font-style=\"italic\" lengthAdjust=\"spacingAndGlyphs\" textLength=\"40\" x=\"181\" y=\"57.1387\">«part»</text><text fill=\"#000000\" font-family=\"sans-serif\" font-size=\"12\" lengthAdjust=\"spacingAndGlyphs\" textLength=\"40\" x=\"181\" y=\"71.1074\">p1: P1</text><line style=\"stroke: #383838; stroke-width: 1.5;\" x1=\"156\" x2=\"246\" y1=\"78.9375\" y2=\"78.9375\"/><text fill=\"#000000\" font-family=\"sans-serif\" font-size=\"11\" lengthAdjust=\"spacingAndGlyphs\" textLength=\"21\" x=\"161\" y=\"109.9526\">po1</text><text fill=\"#000000\" font-family=\"sans-serif\" font-size=\"11\" font-style=\"italic\" lengthAdjust=\"spacingAndGlyphs\" textLength=\"80\" x=\"161\" y=\"122.7573\">:&gt;&gt;P1::porig1</text><line style=\"stroke: #383838; stroke-width: 1.0;\" x1=\"156\" x2=\"186\" y1=\"93.3398\" y2=\"93.3398\"/><text fill=\"#000000\" font-family=\"sans-serif\" font-size=\"11\" lengthAdjust=\"spacingAndGlyphs\" textLength=\"30\" x=\"186\" y=\"96.6479\">ports</text><line style=\"stroke: #383838; stroke-width: 1.0;\" x1=\"216\" x2=\"246\" y1=\"93.3398\" y2=\"93.3398\"/></a><!--MD5=[60a26617385b1d2d0262a64233df1f8d]\n",
       "class E6--><a href=\"psysml:32242b45-8d95-4b7d-97cb-8dd31296908f\" target=\"_top\" title=\"psysml:32242b45-8d95-4b7d-97cb-8dd31296908f\" xlink:actuate=\"onRequest\" xlink:href=\"psysml:32242b45-8d95-4b7d-97cb-8dd31296908f\" xlink:show=\"new\" xlink:title=\"psysml:32242b45-8d95-4b7d-97cb-8dd31296908f\" xlink:type=\"simple\"><rect fill=\"#FFFFFF\" height=\"75.5469\" id=\"E6\" rx=\"10\" ry=\"10\" style=\"stroke: #383838; stroke-width: 1.5;\" width=\"88\" x=\"32\" y=\"47\"/><text fill=\"#000000\" font-family=\"sans-serif\" font-size=\"12\" font-style=\"italic\" lengthAdjust=\"spacingAndGlyphs\" textLength=\"40\" x=\"56\" y=\"63.1387\">«part»</text><text fill=\"#000000\" font-family=\"sans-serif\" font-size=\"12\" lengthAdjust=\"spacingAndGlyphs\" textLength=\"40\" x=\"56\" y=\"77.1074\">p2: P1</text><line style=\"stroke: #383838; stroke-width: 1.5;\" x1=\"33\" x2=\"119\" y1=\"84.9375\" y2=\"84.9375\"/><text fill=\"#000000\" font-family=\"sans-serif\" font-size=\"11\" lengthAdjust=\"spacingAndGlyphs\" textLength=\"32\" x=\"38\" y=\"115.9526\">pdest</text><text fill=\"#000000\" font-family=\"sans-serif\" font-size=\"11\" font-weight=\"bold\" lengthAdjust=\"spacingAndGlyphs\" textLength=\"15\" x=\"74\" y=\"115.9526\">as</text><text fill=\"#000000\" font-family=\"sans-serif\" font-size=\"11\" lengthAdjust=\"spacingAndGlyphs\" textLength=\"21\" x=\"93\" y=\"115.9526\">pd1</text><line style=\"stroke: #383838; stroke-width: 1.0;\" x1=\"33\" x2=\"61\" y1=\"99.3398\" y2=\"99.3398\"/><text fill=\"#000000\" font-family=\"sans-serif\" font-size=\"11\" lengthAdjust=\"spacingAndGlyphs\" textLength=\"30\" x=\"61\" y=\"102.6479\">ports</text><line style=\"stroke: #383838; stroke-width: 1.0;\" x1=\"91\" x2=\"119\" y1=\"99.3398\" y2=\"99.3398\"/></a><!--MD5=[185131fc0dcab0a4505a2ebe144e961b]\n",
       "link E4 to E2--><a href=\"psysml:2d5875ca-6e79-47eb-af19-37e1c3e68f98\" target=\"_top\" title=\"psysml:2d5875ca-6e79-47eb-af19-37e1c3e68f98\" xlink:actuate=\"onRequest\" xlink:href=\"psysml:2d5875ca-6e79-47eb-af19-37e1c3e68f98\" xlink:show=\"new\" xlink:title=\"psysml:2d5875ca-6e79-47eb-af19-37e1c3e68f98\" xlink:type=\"simple\"><path d=\"M181.89,129.15 C176.14,142.14 169.74,156.6 163.67,170.29 \" fill=\"none\" id=\"E4-&gt;E2\" style=\"stroke: #383838; stroke-width: 1.0;\"/><polygon fill=\"#FFFFFF\" points=\"155.43,188.9,156.725,168.693,169.5254,174.3632,155.43,188.9\" style=\"stroke: #383838; stroke-width: 1.0;\"/><ellipse cx=\"160.8622\" cy=\"164.2914\" fill=\"#383838\" rx=\"2\" ry=\"2\" style=\"stroke: #383838; stroke-width: 1.0;\"/><ellipse cx=\"170.0053\" cy=\"168.3416\" fill=\"#383838\" rx=\"2\" ry=\"2\" style=\"stroke: #383838; stroke-width: 1.0;\"/></a><!--MD5=[2351f337d6de0f557b50152ba70847b5]\n",
       "link E6 to E2--><a href=\"psysml:6438d4a2-0b71-4be8-b1f1-dcd907944303\" target=\"_top\" title=\"psysml:6438d4a2-0b71-4be8-b1f1-dcd907944303\" xlink:actuate=\"onRequest\" xlink:href=\"psysml:6438d4a2-0b71-4be8-b1f1-dcd907944303\" xlink:show=\"new\" xlink:title=\"psysml:6438d4a2-0b71-4be8-b1f1-dcd907944303\" xlink:type=\"simple\"><path d=\"M92.72,123.15 C99.23,137.63 106.84,154.53 113.98,170.4 \" fill=\"none\" id=\"E6-&gt;E2\" style=\"stroke: #383838; stroke-width: 1.0;\"/><polygon fill=\"#FFFFFF\" points=\"122.2,188.68,108.0257,174.22,120.7951,168.4803,122.2,188.68\" style=\"stroke: #383838; stroke-width: 1.0;\"/><ellipse cx=\"107.5131\" cy=\"168.2011\" fill=\"#383838\" rx=\"2\" ry=\"2\" style=\"stroke: #383838; stroke-width: 1.0;\"/><ellipse cx=\"116.634\" cy=\"164.1014\" fill=\"#383838\" rx=\"2\" ry=\"2\" style=\"stroke: #383838; stroke-width: 1.0;\"/></a><!--MD5=[d355b1eb33d4ee18aaac9140aa8800d8]\n",
       "@startuml\r\n",
       "top to bottom direction\r\n",
       "skinparam monochrome true\r\n",
       "skinparam classbackgroundcolor white\r\n",
       "skinparam shadowing false\r\n",
       "skinparam wrapWidth 300\r\n",
       "hide circle\r\n",
       "\r\n",
       "package \"AliasTest\" as E1  [[psysml:e49964db-e340-4eba-a3a8-d7e4e465bce2 ]]  {\r\n",
       "comp def \"P1\" as E2  <<(T,blue)part def>> [[psysml:c347ad09-22d6-4423-9bac-4dbac759901f ]] {\r\n",
       "- - ports - -\r\n",
       "porig1 <b>as</b> po1 \r\n",
       "}\r\n",
       "comp usage \"p1: P1\" as E4  <<(T,blue)part>> [[psysml:d449d8a1-a677-4f10-8ecb-a1ad1c680d6c ]] {\r\n",
       "- - ports - -\r\n",
       "po1\\n//:>>P1::porig1// \r\n",
       "}\r\n",
       "comp usage \"p2: P1\" as E6  <<(T,blue)part>> [[psysml:32242b45-8d95-4b7d-97cb-8dd31296908f ]] {\r\n",
       "- - ports - -\r\n",
       "pdest <b>as</b> pd1 \r\n",
       "}\r\n",
       "E4 - -:|> E2 [[psysml:2d5875ca-6e79-47eb-af19-37e1c3e68f98 ]] \r\n",
       "E6 - -:|> E2 [[psysml:6438d4a2-0b71-4be8-b1f1-dcd907944303 ]] \r\n",
       "}\r\n",
       "@enduml\r\n",
       "\n",
       "PlantUML version 1.2020.13(Sat Jun 13 12:26:38 UTC 2020)\n",
       "(EPL source distribution)\n",
       "Java Runtime: OpenJDK Runtime Environment\n",
       "JVM: OpenJDK 64-Bit Server VM\n",
       "Default Encoding: UTF-8\n",
       "Language: en\n",
       "Country: null\n",
       "--></g></svg>"
      ]
     },
     "execution_count": 44,
     "metadata": {},
     "output_type": "execute_result"
    }
   ],
   "source": [
    "%viz --style=\"TB\" --view=\"Default\" \"AliasTest\""
   ]
  },
  {
   "cell_type": "code",
   "execution_count": 45,
   "id": "derived-moisture",
   "metadata": {
    "execution": {
     "iopub.execute_input": "2021-03-25T14:10:13.738001Z",
     "iopub.status.busy": "2021-03-25T14:10:13.737110Z",
     "iopub.status.idle": "2021-03-25T14:10:14.298598Z",
     "shell.execute_reply": "2021-03-25T14:10:14.297008Z"
    }
   },
   "outputs": [
    {
     "data": {
      "image/svg+xml": [
       "<?xml version=\"1.0\" encoding=\"UTF-8\" standalone=\"no\"?><svg xmlns=\"http://www.w3.org/2000/svg\" xmlns:xlink=\"http://www.w3.org/1999/xlink\" contentScriptType=\"application/ecmascript\" contentStyleType=\"text/css\" height=\"293px\" preserveAspectRatio=\"none\" style=\"width:285px;height:293px;\" version=\"1.1\" viewBox=\"0 0 285 293\" width=\"285px\" zoomAndPan=\"magnify\"><defs/><g><!--MD5=[fbc87193dbaf4d95561dea2c320d4a47]\n",
       "cluster E1--><a href=\"psysml:e49964db-e340-4eba-a3a8-d7e4e465bce2\" target=\"_top\" title=\"psysml:e49964db-e340-4eba-a3a8-d7e4e465bce2\" xlink:actuate=\"onRequest\" xlink:href=\"psysml:e49964db-e340-4eba-a3a8-d7e4e465bce2\" xlink:show=\"new\" xlink:title=\"psysml:e49964db-e340-4eba-a3a8-d7e4e465bce2\" xlink:type=\"simple\"><polygon fill=\"#FFFFFF\" points=\"16,6,94,6,101,28.2969,263,28.2969,263,281,16,281,16,6\" style=\"stroke: #000000; stroke-width: 1.5;\"/><line style=\"stroke: #000000; stroke-width: 1.5;\" x1=\"16\" x2=\"101\" y1=\"28.2969\" y2=\"28.2969\"/><text fill=\"#000000\" font-family=\"sans-serif\" font-size=\"14\" font-weight=\"bold\" lengthAdjust=\"spacingAndGlyphs\" textLength=\"72\" x=\"20\" y=\"20.9951\">AliasTest</text></a><!--MD5=[b4997ac47864f28c2f74865a473b2911]\n",
       "class E2--><a href=\"psysml:c347ad09-22d6-4423-9bac-4dbac759901f\" target=\"_top\" title=\"psysml:c347ad09-22d6-4423-9bac-4dbac759901f\" xlink:actuate=\"onRequest\" xlink:href=\"psysml:c347ad09-22d6-4423-9bac-4dbac759901f\" xlink:show=\"new\" xlink:title=\"psysml:c347ad09-22d6-4423-9bac-4dbac759901f\" xlink:type=\"simple\"><rect fill=\"#FFFFFF\" height=\"75.5469\" id=\"E2\" style=\"stroke: #383838; stroke-width: 1.5;\" width=\"92\" x=\"93\" y=\"189\"/><text fill=\"#000000\" font-family=\"sans-serif\" font-size=\"12\" font-style=\"italic\" lengthAdjust=\"spacingAndGlyphs\" textLength=\"64\" x=\"107\" y=\"205.1387\">«part def»</text><text fill=\"#000000\" font-family=\"sans-serif\" font-size=\"12\" lengthAdjust=\"spacingAndGlyphs\" textLength=\"16\" x=\"131\" y=\"219.1074\">P1</text><line style=\"stroke: #383838; stroke-width: 1.5;\" x1=\"94\" x2=\"184\" y1=\"226.9375\" y2=\"226.9375\"/><text fill=\"#000000\" font-family=\"sans-serif\" font-size=\"11\" lengthAdjust=\"spacingAndGlyphs\" textLength=\"36\" x=\"99\" y=\"257.9526\">porig1</text><text fill=\"#000000\" font-family=\"sans-serif\" font-size=\"11\" font-weight=\"bold\" lengthAdjust=\"spacingAndGlyphs\" textLength=\"15\" x=\"139\" y=\"257.9526\">as</text><text fill=\"#000000\" font-family=\"sans-serif\" font-size=\"11\" lengthAdjust=\"spacingAndGlyphs\" textLength=\"21\" x=\"158\" y=\"257.9526\">po1</text><line style=\"stroke: #383838; stroke-width: 1.0;\" x1=\"94\" x2=\"124\" y1=\"241.3398\" y2=\"241.3398\"/><text fill=\"#000000\" font-family=\"sans-serif\" font-size=\"11\" lengthAdjust=\"spacingAndGlyphs\" textLength=\"30\" x=\"124\" y=\"244.6479\">ports</text><line style=\"stroke: #383838; stroke-width: 1.0;\" x1=\"154\" x2=\"184\" y1=\"241.3398\" y2=\"241.3398\"/></a><!--MD5=[ebbe1d658d1005bcc118a6aa81145e00]\n",
       "class E4--><a href=\"psysml:d449d8a1-a677-4f10-8ecb-a1ad1c680d6c\" target=\"_top\" title=\"psysml:d449d8a1-a677-4f10-8ecb-a1ad1c680d6c\" xlink:actuate=\"onRequest\" xlink:href=\"psysml:d449d8a1-a677-4f10-8ecb-a1ad1c680d6c\" xlink:show=\"new\" xlink:title=\"psysml:d449d8a1-a677-4f10-8ecb-a1ad1c680d6c\" xlink:type=\"simple\"><rect fill=\"#FFFFFF\" height=\"88.3516\" id=\"E4\" rx=\"10\" ry=\"10\" style=\"stroke: #383838; stroke-width: 1.5;\" width=\"92\" x=\"155\" y=\"41\"/><text fill=\"#000000\" font-family=\"sans-serif\" font-size=\"12\" font-style=\"italic\" lengthAdjust=\"spacingAndGlyphs\" textLength=\"40\" x=\"181\" y=\"57.1387\">«part»</text><text fill=\"#000000\" font-family=\"sans-serif\" font-size=\"12\" lengthAdjust=\"spacingAndGlyphs\" textLength=\"40\" x=\"181\" y=\"71.1074\">p1: P1</text><line style=\"stroke: #383838; stroke-width: 1.5;\" x1=\"156\" x2=\"246\" y1=\"78.9375\" y2=\"78.9375\"/><text fill=\"#000000\" font-family=\"sans-serif\" font-size=\"11\" lengthAdjust=\"spacingAndGlyphs\" textLength=\"21\" x=\"161\" y=\"109.9526\">po1</text><text fill=\"#000000\" font-family=\"sans-serif\" font-size=\"11\" font-style=\"italic\" lengthAdjust=\"spacingAndGlyphs\" textLength=\"80\" x=\"161\" y=\"122.7573\">:&gt;&gt;P1::porig1</text><line style=\"stroke: #383838; stroke-width: 1.0;\" x1=\"156\" x2=\"186\" y1=\"93.3398\" y2=\"93.3398\"/><text fill=\"#000000\" font-family=\"sans-serif\" font-size=\"11\" lengthAdjust=\"spacingAndGlyphs\" textLength=\"30\" x=\"186\" y=\"96.6479\">ports</text><line style=\"stroke: #383838; stroke-width: 1.0;\" x1=\"216\" x2=\"246\" y1=\"93.3398\" y2=\"93.3398\"/></a><!--MD5=[60a26617385b1d2d0262a64233df1f8d]\n",
       "class E6--><a href=\"psysml:32242b45-8d95-4b7d-97cb-8dd31296908f\" target=\"_top\" title=\"psysml:32242b45-8d95-4b7d-97cb-8dd31296908f\" xlink:actuate=\"onRequest\" xlink:href=\"psysml:32242b45-8d95-4b7d-97cb-8dd31296908f\" xlink:show=\"new\" xlink:title=\"psysml:32242b45-8d95-4b7d-97cb-8dd31296908f\" xlink:type=\"simple\"><rect fill=\"#FFFFFF\" height=\"75.5469\" id=\"E6\" rx=\"10\" ry=\"10\" style=\"stroke: #383838; stroke-width: 1.5;\" width=\"88\" x=\"32\" y=\"47\"/><text fill=\"#000000\" font-family=\"sans-serif\" font-size=\"12\" font-style=\"italic\" lengthAdjust=\"spacingAndGlyphs\" textLength=\"40\" x=\"56\" y=\"63.1387\">«part»</text><text fill=\"#000000\" font-family=\"sans-serif\" font-size=\"12\" lengthAdjust=\"spacingAndGlyphs\" textLength=\"40\" x=\"56\" y=\"77.1074\">p2: P1</text><line style=\"stroke: #383838; stroke-width: 1.5;\" x1=\"33\" x2=\"119\" y1=\"84.9375\" y2=\"84.9375\"/><text fill=\"#000000\" font-family=\"sans-serif\" font-size=\"11\" lengthAdjust=\"spacingAndGlyphs\" textLength=\"32\" x=\"38\" y=\"115.9526\">pdest</text><text fill=\"#000000\" font-family=\"sans-serif\" font-size=\"11\" font-weight=\"bold\" lengthAdjust=\"spacingAndGlyphs\" textLength=\"15\" x=\"74\" y=\"115.9526\">as</text><text fill=\"#000000\" font-family=\"sans-serif\" font-size=\"11\" lengthAdjust=\"spacingAndGlyphs\" textLength=\"21\" x=\"93\" y=\"115.9526\">pd1</text><line style=\"stroke: #383838; stroke-width: 1.0;\" x1=\"33\" x2=\"61\" y1=\"99.3398\" y2=\"99.3398\"/><text fill=\"#000000\" font-family=\"sans-serif\" font-size=\"11\" lengthAdjust=\"spacingAndGlyphs\" textLength=\"30\" x=\"61\" y=\"102.6479\">ports</text><line style=\"stroke: #383838; stroke-width: 1.0;\" x1=\"91\" x2=\"119\" y1=\"99.3398\" y2=\"99.3398\"/></a><!--MD5=[185131fc0dcab0a4505a2ebe144e961b]\n",
       "link E4 to E2--><a href=\"psysml:2d5875ca-6e79-47eb-af19-37e1c3e68f98\" target=\"_top\" title=\"psysml:2d5875ca-6e79-47eb-af19-37e1c3e68f98\" xlink:actuate=\"onRequest\" xlink:href=\"psysml:2d5875ca-6e79-47eb-af19-37e1c3e68f98\" xlink:show=\"new\" xlink:title=\"psysml:2d5875ca-6e79-47eb-af19-37e1c3e68f98\" xlink:type=\"simple\"><path d=\"M181.89,129.15 C176.14,142.14 169.74,156.6 163.67,170.29 \" fill=\"none\" id=\"E4-&gt;E2\" style=\"stroke: #383838; stroke-width: 1.0;\"/><polygon fill=\"#FFFFFF\" points=\"155.43,188.9,156.725,168.693,169.5254,174.3632,155.43,188.9\" style=\"stroke: #383838; stroke-width: 1.0;\"/><ellipse cx=\"160.8622\" cy=\"164.2914\" fill=\"#383838\" rx=\"2\" ry=\"2\" style=\"stroke: #383838; stroke-width: 1.0;\"/><ellipse cx=\"170.0053\" cy=\"168.3416\" fill=\"#383838\" rx=\"2\" ry=\"2\" style=\"stroke: #383838; stroke-width: 1.0;\"/></a><!--MD5=[2351f337d6de0f557b50152ba70847b5]\n",
       "link E6 to E2--><a href=\"psysml:6438d4a2-0b71-4be8-b1f1-dcd907944303\" target=\"_top\" title=\"psysml:6438d4a2-0b71-4be8-b1f1-dcd907944303\" xlink:actuate=\"onRequest\" xlink:href=\"psysml:6438d4a2-0b71-4be8-b1f1-dcd907944303\" xlink:show=\"new\" xlink:title=\"psysml:6438d4a2-0b71-4be8-b1f1-dcd907944303\" xlink:type=\"simple\"><path d=\"M92.72,123.15 C99.23,137.63 106.84,154.53 113.98,170.4 \" fill=\"none\" id=\"E6-&gt;E2\" style=\"stroke: #383838; stroke-width: 1.0;\"/><polygon fill=\"#FFFFFF\" points=\"122.2,188.68,108.0257,174.22,120.7951,168.4803,122.2,188.68\" style=\"stroke: #383838; stroke-width: 1.0;\"/><ellipse cx=\"107.5131\" cy=\"168.2011\" fill=\"#383838\" rx=\"2\" ry=\"2\" style=\"stroke: #383838; stroke-width: 1.0;\"/><ellipse cx=\"116.634\" cy=\"164.1014\" fill=\"#383838\" rx=\"2\" ry=\"2\" style=\"stroke: #383838; stroke-width: 1.0;\"/></a><!--MD5=[d355b1eb33d4ee18aaac9140aa8800d8]\n",
       "@startuml\r\n",
       "top to bottom direction\r\n",
       "skinparam monochrome true\r\n",
       "skinparam classbackgroundcolor white\r\n",
       "skinparam shadowing false\r\n",
       "skinparam wrapWidth 300\r\n",
       "hide circle\r\n",
       "\r\n",
       "package \"AliasTest\" as E1  [[psysml:e49964db-e340-4eba-a3a8-d7e4e465bce2 ]]  {\r\n",
       "comp def \"P1\" as E2  <<(T,blue)part def>> [[psysml:c347ad09-22d6-4423-9bac-4dbac759901f ]] {\r\n",
       "- - ports - -\r\n",
       "porig1 <b>as</b> po1 \r\n",
       "}\r\n",
       "comp usage \"p1: P1\" as E4  <<(T,blue)part>> [[psysml:d449d8a1-a677-4f10-8ecb-a1ad1c680d6c ]] {\r\n",
       "- - ports - -\r\n",
       "po1\\n//:>>P1::porig1// \r\n",
       "}\r\n",
       "comp usage \"p2: P1\" as E6  <<(T,blue)part>> [[psysml:32242b45-8d95-4b7d-97cb-8dd31296908f ]] {\r\n",
       "- - ports - -\r\n",
       "pdest <b>as</b> pd1 \r\n",
       "}\r\n",
       "E4 - -:|> E2 [[psysml:2d5875ca-6e79-47eb-af19-37e1c3e68f98 ]] \r\n",
       "E6 - -:|> E2 [[psysml:6438d4a2-0b71-4be8-b1f1-dcd907944303 ]] \r\n",
       "}\r\n",
       "@enduml\r\n",
       "\n",
       "PlantUML version 1.2020.13(Sat Jun 13 12:26:38 UTC 2020)\n",
       "(EPL source distribution)\n",
       "Java Runtime: OpenJDK Runtime Environment\n",
       "JVM: OpenJDK 64-Bit Server VM\n",
       "Default Encoding: UTF-8\n",
       "Language: en\n",
       "Country: null\n",
       "--></g></svg>"
      ]
     },
     "execution_count": 45,
     "metadata": {},
     "output_type": "execute_result"
    }
   ],
   "source": [
    "%viz --style=\"TB\" --view=\"Tree\" \"AliasTest\""
   ]
  },
  {
   "cell_type": "code",
   "execution_count": 46,
   "id": "interpreted-status",
   "metadata": {
    "execution": {
     "iopub.execute_input": "2021-03-25T14:10:14.350476Z",
     "iopub.status.busy": "2021-03-25T14:10:14.349622Z",
     "iopub.status.idle": "2021-03-25T14:10:14.357865Z",
     "shell.execute_reply": "2021-03-25T14:10:14.358330Z"
    }
   },
   "outputs": [
    {
     "data": {
      "image/svg+xml": [
       "<?xml version=\"1.0\" encoding=\"UTF-8\" standalone=\"no\"?><svg xmlns=\"http://www.w3.org/2000/svg\" xmlns:xlink=\"http://www.w3.org/1999/xlink\" contentScriptType=\"application/ecmascript\" contentStyleType=\"text/css\" height=\"12px\" preserveAspectRatio=\"none\" style=\"width:12px;height:12px;\" version=\"1.1\" viewBox=\"0 0 12 12\" width=\"12px\" zoomAndPan=\"magnify\"><defs/><g><!--MD5=[f4ee21bc66e489b5061b7c3e9601fdef]\n",
       "@startuml\r\n",
       "top to bottom direction\r\n",
       "skinparam monochrome true\r\n",
       "skinparam classbackgroundcolor white\r\n",
       "skinparam shadowing false\r\n",
       "skinparam wrapWidth 300\r\n",
       "hide circle\r\n",
       "\r\n",
       "@enduml\r\n",
       "\n",
       "PlantUML version 1.2020.13(Sat Jun 13 12:26:38 UTC 2020)\n",
       "(EPL source distribution)\n",
       "Java Runtime: OpenJDK Runtime Environment\n",
       "JVM: OpenJDK 64-Bit Server VM\n",
       "Default Encoding: UTF-8\n",
       "Language: en\n",
       "Country: null\n",
       "--></g></svg>"
      ]
     },
     "execution_count": 46,
     "metadata": {},
     "output_type": "execute_result"
    }
   ],
   "source": [
    "%viz --style=\"TB\" --view=\"State\" \"AliasTest\""
   ]
  },
  {
   "cell_type": "code",
   "execution_count": 47,
   "id": "accessory-tenant",
   "metadata": {
    "execution": {
     "iopub.execute_input": "2021-03-25T14:10:14.411438Z",
     "iopub.status.busy": "2021-03-25T14:10:14.410590Z",
     "iopub.status.idle": "2021-03-25T14:10:14.507607Z",
     "shell.execute_reply": "2021-03-25T14:10:14.505943Z"
    }
   },
   "outputs": [
    {
     "data": {
      "image/svg+xml": [
       "<?xml version=\"1.0\" encoding=\"UTF-8\" standalone=\"no\"?><svg xmlns=\"http://www.w3.org/2000/svg\" xmlns:xlink=\"http://www.w3.org/1999/xlink\" contentScriptType=\"application/ecmascript\" contentStyleType=\"text/css\" height=\"207px\" preserveAspectRatio=\"none\" style=\"width:406px;height:207px;\" version=\"1.1\" viewBox=\"0 0 406 207\" width=\"406px\" zoomAndPan=\"magnify\"><defs/><g><!--MD5=[fbc87193dbaf4d95561dea2c320d4a47]\n",
       "cluster E1--><a href=\"psysml:e49964db-e340-4eba-a3a8-d7e4e465bce2\" target=\"_top\" title=\"psysml:e49964db-e340-4eba-a3a8-d7e4e465bce2\" xlink:actuate=\"onRequest\" xlink:href=\"psysml:e49964db-e340-4eba-a3a8-d7e4e465bce2\" xlink:show=\"new\" xlink:title=\"psysml:e49964db-e340-4eba-a3a8-d7e4e465bce2\" xlink:type=\"simple\"><polygon fill=\"#FFFFFF\" points=\"16,6,94,6,101,28.2969,384,28.2969,384,195,16,195,16,6\" style=\"stroke: #000000; stroke-width: 1.5;\"/><line style=\"stroke: #000000; stroke-width: 1.5;\" x1=\"16\" x2=\"101\" y1=\"28.2969\" y2=\"28.2969\"/><text fill=\"#000000\" font-family=\"sans-serif\" font-size=\"14\" font-weight=\"bold\" lengthAdjust=\"spacingAndGlyphs\" textLength=\"72\" x=\"20\" y=\"20.9951\">AliasTest</text></a><!--MD5=[e4f7fae6ed58524ba242bb0b0d3be6b7]\n",
       "cluster E2--><a href=\"psysml:c347ad09-22d6-4423-9bac-4dbac759901f\" target=\"_top\" title=\"psysml:c347ad09-22d6-4423-9bac-4dbac759901f\" xlink:actuate=\"onRequest\" xlink:href=\"psysml:c347ad09-22d6-4423-9bac-4dbac759901f\" xlink:show=\"new\" xlink:title=\"psysml:c347ad09-22d6-4423-9bac-4dbac759901f\" xlink:type=\"simple\"><rect fill=\"#FFFFFF\" height=\"73\" id=\"E2\" style=\"stroke: #383838; stroke-width: 1.5;\" width=\"83\" x=\"244\" y=\"55\"/><rect fill=\"#F8F8F8\" height=\"37.9375\" style=\"stroke: #383838; stroke-width: 1.5;\" width=\"83\" x=\"244\" y=\"55\"/><text fill=\"#000000\" font-family=\"sans-serif\" font-size=\"12\" font-style=\"italic\" lengthAdjust=\"spacingAndGlyphs\" textLength=\"64\" x=\"253.5\" y=\"71.1387\">«part def»</text><text fill=\"#000000\" font-family=\"sans-serif\" font-size=\"12\" lengthAdjust=\"spacingAndGlyphs\" textLength=\"16\" x=\"277.5\" y=\"85.1074\">P1</text></a><!--MD5=[de5ec2e2e8f62f467e546659f5068c88]\n",
       "cluster E5--><a href=\"psysml:d449d8a1-a677-4f10-8ecb-a1ad1c680d6c\" target=\"_top\" title=\"psysml:d449d8a1-a677-4f10-8ecb-a1ad1c680d6c\" xlink:actuate=\"onRequest\" xlink:href=\"psysml:d449d8a1-a677-4f10-8ecb-a1ad1c680d6c\" xlink:show=\"new\" xlink:title=\"psysml:d449d8a1-a677-4f10-8ecb-a1ad1c680d6c\" xlink:type=\"simple\"><rect fill=\"#FFFFFF\" height=\"84.5\" id=\"E5\" rx=\"10\" ry=\"10\" style=\"stroke: #383838; stroke-width: 1.5;\" width=\"101\" x=\"139\" y=\"94.5\"/><rect fill=\"#F8F8F8\" height=\"23.9688\" rx=\"10\" ry=\"10\" style=\"stroke: #F8F8F8; stroke-width: 1.5;\" width=\"101\" x=\"139\" y=\"94.5\"/><rect fill=\"#F8F8F8\" height=\"10\" style=\"stroke: #F8F8F8; stroke-width: 1.5;\" width=\"101\" x=\"139\" y=\"108.4688\"/><rect fill=\"none\" height=\"84.5\" id=\"E5\" rx=\"10\" ry=\"10\" style=\"stroke: #383838; stroke-width: 1.5;\" width=\"101\" x=\"139\" y=\"94.5\"/><text fill=\"#000000\" font-family=\"sans-serif\" font-size=\"12\" lengthAdjust=\"spacingAndGlyphs\" textLength=\"40\" x=\"169.5\" y=\"110.6387\">p1: P1</text><line style=\"stroke: #383838; stroke-width: 1.0;\" x1=\"139\" x2=\"240\" y1=\"118.4688\" y2=\"118.4688\"/></a><!--MD5=[168fadf3d0c3fd93dd5d6da1b1d7ab76]\n",
       "cluster E7--><a href=\"psysml:32242b45-8d95-4b7d-97cb-8dd31296908f\" target=\"_top\" title=\"psysml:32242b45-8d95-4b7d-97cb-8dd31296908f\" xlink:actuate=\"onRequest\" xlink:href=\"psysml:32242b45-8d95-4b7d-97cb-8dd31296908f\" xlink:show=\"new\" xlink:title=\"psysml:32242b45-8d95-4b7d-97cb-8dd31296908f\" xlink:type=\"simple\"><rect fill=\"#FFFFFF\" height=\"65\" id=\"E7\" rx=\"10\" ry=\"10\" style=\"stroke: #383838; stroke-width: 1.5;\" width=\"83\" x=\"53\" y=\"55\"/><rect fill=\"#F8F8F8\" height=\"23.9688\" rx=\"10\" ry=\"10\" style=\"stroke: #F8F8F8; stroke-width: 1.5;\" width=\"83\" x=\"53\" y=\"55\"/><rect fill=\"#F8F8F8\" height=\"10\" style=\"stroke: #F8F8F8; stroke-width: 1.5;\" width=\"83\" x=\"53\" y=\"68.9688\"/><rect fill=\"none\" height=\"65\" id=\"E7\" rx=\"10\" ry=\"10\" style=\"stroke: #383838; stroke-width: 1.5;\" width=\"83\" x=\"53\" y=\"55\"/><text fill=\"#000000\" font-family=\"sans-serif\" font-size=\"12\" lengthAdjust=\"spacingAndGlyphs\" textLength=\"40\" x=\"74.5\" y=\"71.1387\">p2: P1</text><line style=\"stroke: #383838; stroke-width: 1.0;\" x1=\"53\" x2=\"136\" y1=\"78.9688\" y2=\"78.9688\"/></a><text fill=\"#000000\" font-family=\"sans-serif\" font-size=\"14\" lengthAdjust=\"spacingAndGlyphs\" textLength=\"44\" x=\"240\" y=\"33.6982\">porig1</text><rect fill=\"#383838\" height=\"12\" style=\"stroke: #F8F8F8; stroke-width: 1.5;\" width=\"12\" x=\"256\" y=\"49\"/><text fill=\"#000000\" font-family=\"sans-serif\" font-size=\"14\" lengthAdjust=\"spacingAndGlyphs\" textLength=\"44\" x=\"287\" y=\"33.6982\">porig1</text><rect fill=\"#383838\" height=\"12\" style=\"stroke: #F8F8F8; stroke-width: 1.5;\" width=\"12\" x=\"303\" y=\"49\"/><text fill=\"#000000\" font-family=\"sans-serif\" font-size=\"14\" lengthAdjust=\"spacingAndGlyphs\" textLength=\"27\" x=\"143.5\" y=\"73.1982\">po1</text><rect fill=\"#383838\" height=\"12\" style=\"stroke: #F8F8F8; stroke-width: 1.5;\" width=\"12\" x=\"151\" y=\"88.5\"/><text fill=\"#000000\" font-family=\"sans-serif\" font-size=\"14\" lengthAdjust=\"spacingAndGlyphs\" textLength=\"40\" x=\"51\" y=\"33.6982\">pdest</text><rect fill=\"#383838\" height=\"12\" style=\"stroke: #F8F8F8; stroke-width: 1.5;\" width=\"12\" x=\"65\" y=\"49\"/><text fill=\"#000000\" font-family=\"sans-serif\" font-size=\"14\" lengthAdjust=\"spacingAndGlyphs\" textLength=\"40\" x=\"98\" y=\"33.6982\">pdest</text><rect fill=\"#383838\" height=\"12\" style=\"stroke: #F8F8F8; stroke-width: 1.5;\" width=\"12\" x=\"112\" y=\"49\"/><!--MD5=[60ac2c0cde89d4308155b0484e57a8ec]\n",
       "link E9 to E6--><a href=\"psysml:542ee912-9568-47bf-89cf-5ffa6da25451\" target=\"_top\" title=\"psysml:542ee912-9568-47bf-89cf-5ffa6da25451\" xlink:actuate=\"onRequest\" xlink:href=\"psysml:542ee912-9568-47bf-89cf-5ffa6da25451\" xlink:show=\"new\" xlink:title=\"psysml:542ee912-9568-47bf-89cf-5ffa6da25451\" xlink:type=\"simple\"><path d=\"M111.75,56.49 C103.41,58.2 109.82,64.05 115,69 C124.85,78.4 136.6,90.11 150.78,92.89 \" fill=\"none\" id=\"E9-E6\" style=\"stroke: #383838; stroke-width: 3.0;\"/></a><!--MD5=[60ac2c0cde89d4308155b0484e57a8ec]\n",
       "link E9 to E6--><a href=\"psysml:574c6fbc-01c2-4e16-ae54-13c104835878\" target=\"_top\" title=\"psysml:574c6fbc-01c2-4e16-ae54-13c104835878\" xlink:actuate=\"onRequest\" xlink:href=\"psysml:574c6fbc-01c2-4e16-ae54-13c104835878\" xlink:show=\"new\" xlink:title=\"psysml:574c6fbc-01c2-4e16-ae54-13c104835878\" xlink:type=\"simple\"><path d=\"M124.29,56.32 C137.94,57.76 144.62,63.87 150,69 C159.5,78.06 170.77,89.27 163.24,92.56 \" fill=\"none\" id=\"E9-E6-1\" style=\"stroke: #383838; stroke-width: 3.0;\"/></a><!--MD5=[4e53aad318d86bc66013c6b23f0e53a1]\n",
       "@startuml\r\n",
       "skinparam ranksep 10\r\n",
       "skinparam rectangle {\r\n",
       " backgroundColor<<block>> LightGreen\r\n",
       "}\r\n",
       "top to bottom direction\r\n",
       "skinparam monochrome true\r\n",
       "skinparam classbackgroundcolor white\r\n",
       "skinparam shadowing false\r\n",
       "skinparam wrapWidth 300\r\n",
       "hide circle\r\n",
       "\r\n",
       "package \"AliasTest\" as E1  [[psysml:e49964db-e340-4eba-a3a8-d7e4e465bce2 ]]  {\r\n",
       "rec def \"P1\" as E2  <<(T,blue)part def>> [[psysml:c347ad09-22d6-4423-9bac-4dbac759901f ]] {\r\n",
       "portin \"porig1\" as E3  <<(T,blue)port>> [[psysml:0250d93f-14e1-4692-9053-ebbfda808262 ]] \r\n",
       "portin \"porig1\" as E4  <<(T,blue)port>> [[psysml:0250d93f-14e1-4692-9053-ebbfda808262 ]] \r\n",
       "}\r\n",
       "rec usage \"p1: P1\" as E5  [[psysml:d449d8a1-a677-4f10-8ecb-a1ad1c680d6c ]] {\r\n",
       "portin \"po1\" as E6  <<(T,blue)port>> [[psysml:29809450-6fae-45f0-8103-0520fac6504b ]] \r\n",
       "}\r\n",
       "rec usage \"p2: P1\" as E7  [[psysml:32242b45-8d95-4b7d-97cb-8dd31296908f ]] {\r\n",
       "portin \"pdest\" as E8  <<(T,blue)port>> [[psysml:232a2b18-4f4e-4d95-914a-9e8054ac4fe4 ]] \r\n",
       "portin \"pdest\" as E9  <<(T,blue)port>> [[psysml:232a2b18-4f4e-4d95-914a-9e8054ac4fe4 ]] \r\n",
       "}\r\n",
       "E9 -[thickness=3]- E6 [[psysml:542ee912-9568-47bf-89cf-5ffa6da25451 ]] \r\n",
       "E9 -[thickness=3]- E6 [[psysml:574c6fbc-01c2-4e16-ae54-13c104835878 ]] \r\n",
       "}\r\n",
       "@enduml\r\n",
       "\n",
       "PlantUML version 1.2020.13(Sat Jun 13 12:26:38 UTC 2020)\n",
       "(EPL source distribution)\n",
       "Java Runtime: OpenJDK Runtime Environment\n",
       "JVM: OpenJDK 64-Bit Server VM\n",
       "Default Encoding: UTF-8\n",
       "Language: en\n",
       "Country: null\n",
       "--></g></svg>"
      ]
     },
     "execution_count": 47,
     "metadata": {},
     "output_type": "execute_result"
    }
   ],
   "source": [
    "%viz --style=\"TB\" --view=\"Interconnection\" \"AliasTest\""
   ]
  },
  {
   "cell_type": "code",
   "execution_count": 48,
   "id": "other-cross",
   "metadata": {
    "execution": {
     "iopub.execute_input": "2021-03-25T14:10:14.560825Z",
     "iopub.status.busy": "2021-03-25T14:10:14.559980Z",
     "iopub.status.idle": "2021-03-25T14:10:14.568754Z",
     "shell.execute_reply": "2021-03-25T14:10:14.568235Z"
    }
   },
   "outputs": [
    {
     "data": {
      "image/svg+xml": [
       "<?xml version=\"1.0\" encoding=\"UTF-8\" standalone=\"no\"?><svg xmlns=\"http://www.w3.org/2000/svg\" xmlns:xlink=\"http://www.w3.org/1999/xlink\" contentScriptType=\"application/ecmascript\" contentStyleType=\"text/css\" height=\"12px\" preserveAspectRatio=\"none\" style=\"width:12px;height:12px;\" version=\"1.1\" viewBox=\"0 0 12 12\" width=\"12px\" zoomAndPan=\"magnify\"><defs/><g><!--MD5=[06afc254b03ac5e9d9fb7773b07d0800]\n",
       "@startuml\r\n",
       "skinparam ranksep 8\r\n",
       "top to bottom direction\r\n",
       "skinparam monochrome true\r\n",
       "skinparam classbackgroundcolor white\r\n",
       "skinparam shadowing false\r\n",
       "skinparam wrapWidth 300\r\n",
       "hide circle\r\n",
       "\r\n",
       "@enduml\r\n",
       "\n",
       "PlantUML version 1.2020.13(Sat Jun 13 12:26:38 UTC 2020)\n",
       "(EPL source distribution)\n",
       "Java Runtime: OpenJDK Runtime Environment\n",
       "JVM: OpenJDK 64-Bit Server VM\n",
       "Default Encoding: UTF-8\n",
       "Language: en\n",
       "Country: null\n",
       "--></g></svg>"
      ]
     },
     "execution_count": 48,
     "metadata": {},
     "output_type": "execute_result"
    }
   ],
   "source": [
    "%viz --style=\"TB\" --view=\"Action\" \"AliasTest\""
   ]
  },
  {
   "cell_type": "code",
   "execution_count": 49,
   "id": "furnished-shoulder",
   "metadata": {
    "execution": {
     "iopub.execute_input": "2021-03-25T14:10:14.620972Z",
     "iopub.status.busy": "2021-03-25T14:10:14.620170Z",
     "iopub.status.idle": "2021-03-25T14:10:15.180731Z",
     "shell.execute_reply": "2021-03-25T14:10:15.181178Z"
    }
   },
   "outputs": [
    {
     "data": {
      "image/svg+xml": [
       "<?xml version=\"1.0\" encoding=\"UTF-8\" standalone=\"no\"?><svg xmlns=\"http://www.w3.org/2000/svg\" xmlns:xlink=\"http://www.w3.org/1999/xlink\" contentScriptType=\"application/ecmascript\" contentStyleType=\"text/css\" height=\"293px\" preserveAspectRatio=\"none\" style=\"width:285px;height:293px;\" version=\"1.1\" viewBox=\"0 0 285 293\" width=\"285px\" zoomAndPan=\"magnify\"><defs/><g><!--MD5=[fbc87193dbaf4d95561dea2c320d4a47]\n",
       "cluster E1--><a href=\"psysml:e49964db-e340-4eba-a3a8-d7e4e465bce2\" target=\"_top\" title=\"psysml:e49964db-e340-4eba-a3a8-d7e4e465bce2\" xlink:actuate=\"onRequest\" xlink:href=\"psysml:e49964db-e340-4eba-a3a8-d7e4e465bce2\" xlink:show=\"new\" xlink:title=\"psysml:e49964db-e340-4eba-a3a8-d7e4e465bce2\" xlink:type=\"simple\"><polygon fill=\"#FFFFFF\" points=\"16,6,94,6,101,28.2969,263,28.2969,263,281,16,281,16,6\" style=\"stroke: #000000; stroke-width: 1.5;\"/><line style=\"stroke: #000000; stroke-width: 1.5;\" x1=\"16\" x2=\"101\" y1=\"28.2969\" y2=\"28.2969\"/><text fill=\"#000000\" font-family=\"sans-serif\" font-size=\"14\" font-weight=\"bold\" lengthAdjust=\"spacingAndGlyphs\" textLength=\"72\" x=\"20\" y=\"20.9951\">AliasTest</text></a><!--MD5=[b4997ac47864f28c2f74865a473b2911]\n",
       "class E2--><a href=\"psysml:c347ad09-22d6-4423-9bac-4dbac759901f\" target=\"_top\" title=\"psysml:c347ad09-22d6-4423-9bac-4dbac759901f\" xlink:actuate=\"onRequest\" xlink:href=\"psysml:c347ad09-22d6-4423-9bac-4dbac759901f\" xlink:show=\"new\" xlink:title=\"psysml:c347ad09-22d6-4423-9bac-4dbac759901f\" xlink:type=\"simple\"><rect fill=\"#FFFFFF\" height=\"75.5469\" id=\"E2\" style=\"stroke: #383838; stroke-width: 1.5;\" width=\"92\" x=\"93\" y=\"189\"/><text fill=\"#000000\" font-family=\"sans-serif\" font-size=\"12\" font-style=\"italic\" lengthAdjust=\"spacingAndGlyphs\" textLength=\"64\" x=\"107\" y=\"205.1387\">«part def»</text><text fill=\"#000000\" font-family=\"sans-serif\" font-size=\"12\" lengthAdjust=\"spacingAndGlyphs\" textLength=\"16\" x=\"131\" y=\"219.1074\">P1</text><line style=\"stroke: #383838; stroke-width: 1.5;\" x1=\"94\" x2=\"184\" y1=\"226.9375\" y2=\"226.9375\"/><text fill=\"#000000\" font-family=\"sans-serif\" font-size=\"11\" lengthAdjust=\"spacingAndGlyphs\" textLength=\"36\" x=\"99\" y=\"257.9526\">porig1</text><text fill=\"#000000\" font-family=\"sans-serif\" font-size=\"11\" font-weight=\"bold\" lengthAdjust=\"spacingAndGlyphs\" textLength=\"15\" x=\"139\" y=\"257.9526\">as</text><text fill=\"#000000\" font-family=\"sans-serif\" font-size=\"11\" lengthAdjust=\"spacingAndGlyphs\" textLength=\"21\" x=\"158\" y=\"257.9526\">po1</text><line style=\"stroke: #383838; stroke-width: 1.0;\" x1=\"94\" x2=\"124\" y1=\"241.3398\" y2=\"241.3398\"/><text fill=\"#000000\" font-family=\"sans-serif\" font-size=\"11\" lengthAdjust=\"spacingAndGlyphs\" textLength=\"30\" x=\"124\" y=\"244.6479\">ports</text><line style=\"stroke: #383838; stroke-width: 1.0;\" x1=\"154\" x2=\"184\" y1=\"241.3398\" y2=\"241.3398\"/></a><!--MD5=[ebbe1d658d1005bcc118a6aa81145e00]\n",
       "class E4--><a href=\"psysml:d449d8a1-a677-4f10-8ecb-a1ad1c680d6c\" target=\"_top\" title=\"psysml:d449d8a1-a677-4f10-8ecb-a1ad1c680d6c\" xlink:actuate=\"onRequest\" xlink:href=\"psysml:d449d8a1-a677-4f10-8ecb-a1ad1c680d6c\" xlink:show=\"new\" xlink:title=\"psysml:d449d8a1-a677-4f10-8ecb-a1ad1c680d6c\" xlink:type=\"simple\"><rect fill=\"#FFFFFF\" height=\"88.3516\" id=\"E4\" rx=\"10\" ry=\"10\" style=\"stroke: #383838; stroke-width: 1.5;\" width=\"92\" x=\"155\" y=\"41\"/><text fill=\"#000000\" font-family=\"sans-serif\" font-size=\"12\" font-style=\"italic\" lengthAdjust=\"spacingAndGlyphs\" textLength=\"40\" x=\"181\" y=\"57.1387\">«part»</text><text fill=\"#000000\" font-family=\"sans-serif\" font-size=\"12\" lengthAdjust=\"spacingAndGlyphs\" textLength=\"40\" x=\"181\" y=\"71.1074\">p1: P1</text><line style=\"stroke: #383838; stroke-width: 1.5;\" x1=\"156\" x2=\"246\" y1=\"78.9375\" y2=\"78.9375\"/><text fill=\"#000000\" font-family=\"sans-serif\" font-size=\"11\" lengthAdjust=\"spacingAndGlyphs\" textLength=\"21\" x=\"161\" y=\"109.9526\">po1</text><text fill=\"#000000\" font-family=\"sans-serif\" font-size=\"11\" font-style=\"italic\" lengthAdjust=\"spacingAndGlyphs\" textLength=\"80\" x=\"161\" y=\"122.7573\">:&gt;&gt;P1::porig1</text><line style=\"stroke: #383838; stroke-width: 1.0;\" x1=\"156\" x2=\"186\" y1=\"93.3398\" y2=\"93.3398\"/><text fill=\"#000000\" font-family=\"sans-serif\" font-size=\"11\" lengthAdjust=\"spacingAndGlyphs\" textLength=\"30\" x=\"186\" y=\"96.6479\">ports</text><line style=\"stroke: #383838; stroke-width: 1.0;\" x1=\"216\" x2=\"246\" y1=\"93.3398\" y2=\"93.3398\"/></a><!--MD5=[60a26617385b1d2d0262a64233df1f8d]\n",
       "class E6--><a href=\"psysml:32242b45-8d95-4b7d-97cb-8dd31296908f\" target=\"_top\" title=\"psysml:32242b45-8d95-4b7d-97cb-8dd31296908f\" xlink:actuate=\"onRequest\" xlink:href=\"psysml:32242b45-8d95-4b7d-97cb-8dd31296908f\" xlink:show=\"new\" xlink:title=\"psysml:32242b45-8d95-4b7d-97cb-8dd31296908f\" xlink:type=\"simple\"><rect fill=\"#FFFFFF\" height=\"75.5469\" id=\"E6\" rx=\"10\" ry=\"10\" style=\"stroke: #383838; stroke-width: 1.5;\" width=\"88\" x=\"32\" y=\"47\"/><text fill=\"#000000\" font-family=\"sans-serif\" font-size=\"12\" font-style=\"italic\" lengthAdjust=\"spacingAndGlyphs\" textLength=\"40\" x=\"56\" y=\"63.1387\">«part»</text><text fill=\"#000000\" font-family=\"sans-serif\" font-size=\"12\" lengthAdjust=\"spacingAndGlyphs\" textLength=\"40\" x=\"56\" y=\"77.1074\">p2: P1</text><line style=\"stroke: #383838; stroke-width: 1.5;\" x1=\"33\" x2=\"119\" y1=\"84.9375\" y2=\"84.9375\"/><text fill=\"#000000\" font-family=\"sans-serif\" font-size=\"11\" lengthAdjust=\"spacingAndGlyphs\" textLength=\"32\" x=\"38\" y=\"115.9526\">pdest</text><text fill=\"#000000\" font-family=\"sans-serif\" font-size=\"11\" font-weight=\"bold\" lengthAdjust=\"spacingAndGlyphs\" textLength=\"15\" x=\"74\" y=\"115.9526\">as</text><text fill=\"#000000\" font-family=\"sans-serif\" font-size=\"11\" lengthAdjust=\"spacingAndGlyphs\" textLength=\"21\" x=\"93\" y=\"115.9526\">pd1</text><line style=\"stroke: #383838; stroke-width: 1.0;\" x1=\"33\" x2=\"61\" y1=\"99.3398\" y2=\"99.3398\"/><text fill=\"#000000\" font-family=\"sans-serif\" font-size=\"11\" lengthAdjust=\"spacingAndGlyphs\" textLength=\"30\" x=\"61\" y=\"102.6479\">ports</text><line style=\"stroke: #383838; stroke-width: 1.0;\" x1=\"91\" x2=\"119\" y1=\"99.3398\" y2=\"99.3398\"/></a><!--MD5=[185131fc0dcab0a4505a2ebe144e961b]\n",
       "link E4 to E2--><a href=\"psysml:2d5875ca-6e79-47eb-af19-37e1c3e68f98\" target=\"_top\" title=\"psysml:2d5875ca-6e79-47eb-af19-37e1c3e68f98\" xlink:actuate=\"onRequest\" xlink:href=\"psysml:2d5875ca-6e79-47eb-af19-37e1c3e68f98\" xlink:show=\"new\" xlink:title=\"psysml:2d5875ca-6e79-47eb-af19-37e1c3e68f98\" xlink:type=\"simple\"><path d=\"M181.89,129.15 C176.14,142.14 169.74,156.6 163.67,170.29 \" fill=\"none\" id=\"E4-&gt;E2\" style=\"stroke: #383838; stroke-width: 1.0;\"/><polygon fill=\"#FFFFFF\" points=\"155.43,188.9,156.725,168.693,169.5254,174.3632,155.43,188.9\" style=\"stroke: #383838; stroke-width: 1.0;\"/><ellipse cx=\"160.8622\" cy=\"164.2914\" fill=\"#383838\" rx=\"2\" ry=\"2\" style=\"stroke: #383838; stroke-width: 1.0;\"/><ellipse cx=\"170.0053\" cy=\"168.3416\" fill=\"#383838\" rx=\"2\" ry=\"2\" style=\"stroke: #383838; stroke-width: 1.0;\"/></a><!--MD5=[2351f337d6de0f557b50152ba70847b5]\n",
       "link E6 to E2--><a href=\"psysml:6438d4a2-0b71-4be8-b1f1-dcd907944303\" target=\"_top\" title=\"psysml:6438d4a2-0b71-4be8-b1f1-dcd907944303\" xlink:actuate=\"onRequest\" xlink:href=\"psysml:6438d4a2-0b71-4be8-b1f1-dcd907944303\" xlink:show=\"new\" xlink:title=\"psysml:6438d4a2-0b71-4be8-b1f1-dcd907944303\" xlink:type=\"simple\"><path d=\"M92.72,123.15 C99.23,137.63 106.84,154.53 113.98,170.4 \" fill=\"none\" id=\"E6-&gt;E2\" style=\"stroke: #383838; stroke-width: 1.0;\"/><polygon fill=\"#FFFFFF\" points=\"122.2,188.68,108.0257,174.22,120.7951,168.4803,122.2,188.68\" style=\"stroke: #383838; stroke-width: 1.0;\"/><ellipse cx=\"107.5131\" cy=\"168.2011\" fill=\"#383838\" rx=\"2\" ry=\"2\" style=\"stroke: #383838; stroke-width: 1.0;\"/><ellipse cx=\"116.634\" cy=\"164.1014\" fill=\"#383838\" rx=\"2\" ry=\"2\" style=\"stroke: #383838; stroke-width: 1.0;\"/></a><!--MD5=[d355b1eb33d4ee18aaac9140aa8800d8]\n",
       "@startuml\r\n",
       "top to bottom direction\r\n",
       "skinparam monochrome true\r\n",
       "skinparam classbackgroundcolor white\r\n",
       "skinparam shadowing false\r\n",
       "skinparam wrapWidth 300\r\n",
       "hide circle\r\n",
       "\r\n",
       "package \"AliasTest\" as E1  [[psysml:e49964db-e340-4eba-a3a8-d7e4e465bce2 ]]  {\r\n",
       "comp def \"P1\" as E2  <<(T,blue)part def>> [[psysml:c347ad09-22d6-4423-9bac-4dbac759901f ]] {\r\n",
       "- - ports - -\r\n",
       "porig1 <b>as</b> po1 \r\n",
       "}\r\n",
       "comp usage \"p1: P1\" as E4  <<(T,blue)part>> [[psysml:d449d8a1-a677-4f10-8ecb-a1ad1c680d6c ]] {\r\n",
       "- - ports - -\r\n",
       "po1\\n//:>>P1::porig1// \r\n",
       "}\r\n",
       "comp usage \"p2: P1\" as E6  <<(T,blue)part>> [[psysml:32242b45-8d95-4b7d-97cb-8dd31296908f ]] {\r\n",
       "- - ports - -\r\n",
       "pdest <b>as</b> pd1 \r\n",
       "}\r\n",
       "E4 - -:|> E2 [[psysml:2d5875ca-6e79-47eb-af19-37e1c3e68f98 ]] \r\n",
       "E6 - -:|> E2 [[psysml:6438d4a2-0b71-4be8-b1f1-dcd907944303 ]] \r\n",
       "}\r\n",
       "@enduml\r\n",
       "\n",
       "PlantUML version 1.2020.13(Sat Jun 13 12:26:38 UTC 2020)\n",
       "(EPL source distribution)\n",
       "Java Runtime: OpenJDK Runtime Environment\n",
       "JVM: OpenJDK 64-Bit Server VM\n",
       "Default Encoding: UTF-8\n",
       "Language: en\n",
       "Country: null\n",
       "--></g></svg>"
      ]
     },
     "execution_count": 49,
     "metadata": {},
     "output_type": "execute_result"
    }
   ],
   "source": [
    "%viz --style=\"TB\" --view=\"Sequence\" \"AliasTest\""
   ]
  },
  {
   "cell_type": "code",
   "execution_count": 50,
   "id": "surgical-smart",
   "metadata": {
    "execution": {
     "iopub.execute_input": "2021-03-25T14:10:15.231989Z",
     "iopub.status.busy": "2021-03-25T14:10:15.231319Z",
     "iopub.status.idle": "2021-03-25T14:10:15.793133Z",
     "shell.execute_reply": "2021-03-25T14:10:15.791860Z"
    }
   },
   "outputs": [
    {
     "data": {
      "image/svg+xml": [
       "<?xml version=\"1.0\" encoding=\"UTF-8\" standalone=\"no\"?><svg xmlns=\"http://www.w3.org/2000/svg\" xmlns:xlink=\"http://www.w3.org/1999/xlink\" contentScriptType=\"application/ecmascript\" contentStyleType=\"text/css\" height=\"293px\" preserveAspectRatio=\"none\" style=\"width:285px;height:293px;\" version=\"1.1\" viewBox=\"0 0 285 293\" width=\"285px\" zoomAndPan=\"magnify\"><defs/><g><!--MD5=[fbc87193dbaf4d95561dea2c320d4a47]\n",
       "cluster E1--><a href=\"psysml:e49964db-e340-4eba-a3a8-d7e4e465bce2\" target=\"_top\" title=\"psysml:e49964db-e340-4eba-a3a8-d7e4e465bce2\" xlink:actuate=\"onRequest\" xlink:href=\"psysml:e49964db-e340-4eba-a3a8-d7e4e465bce2\" xlink:show=\"new\" xlink:title=\"psysml:e49964db-e340-4eba-a3a8-d7e4e465bce2\" xlink:type=\"simple\"><polygon fill=\"#FFFFFF\" points=\"16,6,94,6,101,28.2969,263,28.2969,263,281,16,281,16,6\" style=\"stroke: #000000; stroke-width: 1.5;\"/><line style=\"stroke: #000000; stroke-width: 1.5;\" x1=\"16\" x2=\"101\" y1=\"28.2969\" y2=\"28.2969\"/><text fill=\"#000000\" font-family=\"sans-serif\" font-size=\"14\" font-weight=\"bold\" lengthAdjust=\"spacingAndGlyphs\" textLength=\"72\" x=\"20\" y=\"20.9951\">AliasTest</text></a><!--MD5=[b4997ac47864f28c2f74865a473b2911]\n",
       "class E2--><a href=\"psysml:c347ad09-22d6-4423-9bac-4dbac759901f\" target=\"_top\" title=\"psysml:c347ad09-22d6-4423-9bac-4dbac759901f\" xlink:actuate=\"onRequest\" xlink:href=\"psysml:c347ad09-22d6-4423-9bac-4dbac759901f\" xlink:show=\"new\" xlink:title=\"psysml:c347ad09-22d6-4423-9bac-4dbac759901f\" xlink:type=\"simple\"><rect fill=\"#FFFFFF\" height=\"75.5469\" id=\"E2\" style=\"stroke: #383838; stroke-width: 1.5;\" width=\"92\" x=\"93\" y=\"189\"/><text fill=\"#000000\" font-family=\"sans-serif\" font-size=\"12\" font-style=\"italic\" lengthAdjust=\"spacingAndGlyphs\" textLength=\"64\" x=\"107\" y=\"205.1387\">«part def»</text><text fill=\"#000000\" font-family=\"sans-serif\" font-size=\"12\" lengthAdjust=\"spacingAndGlyphs\" textLength=\"16\" x=\"131\" y=\"219.1074\">P1</text><line style=\"stroke: #383838; stroke-width: 1.5;\" x1=\"94\" x2=\"184\" y1=\"226.9375\" y2=\"226.9375\"/><text fill=\"#000000\" font-family=\"sans-serif\" font-size=\"11\" lengthAdjust=\"spacingAndGlyphs\" textLength=\"36\" x=\"99\" y=\"257.9526\">porig1</text><text fill=\"#000000\" font-family=\"sans-serif\" font-size=\"11\" font-weight=\"bold\" lengthAdjust=\"spacingAndGlyphs\" textLength=\"15\" x=\"139\" y=\"257.9526\">as</text><text fill=\"#000000\" font-family=\"sans-serif\" font-size=\"11\" lengthAdjust=\"spacingAndGlyphs\" textLength=\"21\" x=\"158\" y=\"257.9526\">po1</text><line style=\"stroke: #383838; stroke-width: 1.0;\" x1=\"94\" x2=\"124\" y1=\"241.3398\" y2=\"241.3398\"/><text fill=\"#000000\" font-family=\"sans-serif\" font-size=\"11\" lengthAdjust=\"spacingAndGlyphs\" textLength=\"30\" x=\"124\" y=\"244.6479\">ports</text><line style=\"stroke: #383838; stroke-width: 1.0;\" x1=\"154\" x2=\"184\" y1=\"241.3398\" y2=\"241.3398\"/></a><!--MD5=[ebbe1d658d1005bcc118a6aa81145e00]\n",
       "class E4--><a href=\"psysml:d449d8a1-a677-4f10-8ecb-a1ad1c680d6c\" target=\"_top\" title=\"psysml:d449d8a1-a677-4f10-8ecb-a1ad1c680d6c\" xlink:actuate=\"onRequest\" xlink:href=\"psysml:d449d8a1-a677-4f10-8ecb-a1ad1c680d6c\" xlink:show=\"new\" xlink:title=\"psysml:d449d8a1-a677-4f10-8ecb-a1ad1c680d6c\" xlink:type=\"simple\"><rect fill=\"#FFFFFF\" height=\"88.3516\" id=\"E4\" rx=\"10\" ry=\"10\" style=\"stroke: #383838; stroke-width: 1.5;\" width=\"92\" x=\"155\" y=\"41\"/><text fill=\"#000000\" font-family=\"sans-serif\" font-size=\"12\" font-style=\"italic\" lengthAdjust=\"spacingAndGlyphs\" textLength=\"40\" x=\"181\" y=\"57.1387\">«part»</text><text fill=\"#000000\" font-family=\"sans-serif\" font-size=\"12\" lengthAdjust=\"spacingAndGlyphs\" textLength=\"40\" x=\"181\" y=\"71.1074\">p1: P1</text><line style=\"stroke: #383838; stroke-width: 1.5;\" x1=\"156\" x2=\"246\" y1=\"78.9375\" y2=\"78.9375\"/><text fill=\"#000000\" font-family=\"sans-serif\" font-size=\"11\" lengthAdjust=\"spacingAndGlyphs\" textLength=\"21\" x=\"161\" y=\"109.9526\">po1</text><text fill=\"#000000\" font-family=\"sans-serif\" font-size=\"11\" font-style=\"italic\" lengthAdjust=\"spacingAndGlyphs\" textLength=\"80\" x=\"161\" y=\"122.7573\">:&gt;&gt;P1::porig1</text><line style=\"stroke: #383838; stroke-width: 1.0;\" x1=\"156\" x2=\"186\" y1=\"93.3398\" y2=\"93.3398\"/><text fill=\"#000000\" font-family=\"sans-serif\" font-size=\"11\" lengthAdjust=\"spacingAndGlyphs\" textLength=\"30\" x=\"186\" y=\"96.6479\">ports</text><line style=\"stroke: #383838; stroke-width: 1.0;\" x1=\"216\" x2=\"246\" y1=\"93.3398\" y2=\"93.3398\"/></a><!--MD5=[60a26617385b1d2d0262a64233df1f8d]\n",
       "class E6--><a href=\"psysml:32242b45-8d95-4b7d-97cb-8dd31296908f\" target=\"_top\" title=\"psysml:32242b45-8d95-4b7d-97cb-8dd31296908f\" xlink:actuate=\"onRequest\" xlink:href=\"psysml:32242b45-8d95-4b7d-97cb-8dd31296908f\" xlink:show=\"new\" xlink:title=\"psysml:32242b45-8d95-4b7d-97cb-8dd31296908f\" xlink:type=\"simple\"><rect fill=\"#FFFFFF\" height=\"75.5469\" id=\"E6\" rx=\"10\" ry=\"10\" style=\"stroke: #383838; stroke-width: 1.5;\" width=\"88\" x=\"32\" y=\"47\"/><text fill=\"#000000\" font-family=\"sans-serif\" font-size=\"12\" font-style=\"italic\" lengthAdjust=\"spacingAndGlyphs\" textLength=\"40\" x=\"56\" y=\"63.1387\">«part»</text><text fill=\"#000000\" font-family=\"sans-serif\" font-size=\"12\" lengthAdjust=\"spacingAndGlyphs\" textLength=\"40\" x=\"56\" y=\"77.1074\">p2: P1</text><line style=\"stroke: #383838; stroke-width: 1.5;\" x1=\"33\" x2=\"119\" y1=\"84.9375\" y2=\"84.9375\"/><text fill=\"#000000\" font-family=\"sans-serif\" font-size=\"11\" lengthAdjust=\"spacingAndGlyphs\" textLength=\"32\" x=\"38\" y=\"115.9526\">pdest</text><text fill=\"#000000\" font-family=\"sans-serif\" font-size=\"11\" font-weight=\"bold\" lengthAdjust=\"spacingAndGlyphs\" textLength=\"15\" x=\"74\" y=\"115.9526\">as</text><text fill=\"#000000\" font-family=\"sans-serif\" font-size=\"11\" lengthAdjust=\"spacingAndGlyphs\" textLength=\"21\" x=\"93\" y=\"115.9526\">pd1</text><line style=\"stroke: #383838; stroke-width: 1.0;\" x1=\"33\" x2=\"61\" y1=\"99.3398\" y2=\"99.3398\"/><text fill=\"#000000\" font-family=\"sans-serif\" font-size=\"11\" lengthAdjust=\"spacingAndGlyphs\" textLength=\"30\" x=\"61\" y=\"102.6479\">ports</text><line style=\"stroke: #383838; stroke-width: 1.0;\" x1=\"91\" x2=\"119\" y1=\"99.3398\" y2=\"99.3398\"/></a><!--MD5=[185131fc0dcab0a4505a2ebe144e961b]\n",
       "link E4 to E2--><a href=\"psysml:2d5875ca-6e79-47eb-af19-37e1c3e68f98\" target=\"_top\" title=\"psysml:2d5875ca-6e79-47eb-af19-37e1c3e68f98\" xlink:actuate=\"onRequest\" xlink:href=\"psysml:2d5875ca-6e79-47eb-af19-37e1c3e68f98\" xlink:show=\"new\" xlink:title=\"psysml:2d5875ca-6e79-47eb-af19-37e1c3e68f98\" xlink:type=\"simple\"><path d=\"M181.89,129.15 C176.14,142.14 169.74,156.6 163.67,170.29 \" fill=\"none\" id=\"E4-&gt;E2\" style=\"stroke: #383838; stroke-width: 1.0;\"/><polygon fill=\"#FFFFFF\" points=\"155.43,188.9,156.725,168.693,169.5254,174.3632,155.43,188.9\" style=\"stroke: #383838; stroke-width: 1.0;\"/><ellipse cx=\"160.8622\" cy=\"164.2914\" fill=\"#383838\" rx=\"2\" ry=\"2\" style=\"stroke: #383838; stroke-width: 1.0;\"/><ellipse cx=\"170.0053\" cy=\"168.3416\" fill=\"#383838\" rx=\"2\" ry=\"2\" style=\"stroke: #383838; stroke-width: 1.0;\"/></a><!--MD5=[2351f337d6de0f557b50152ba70847b5]\n",
       "link E6 to E2--><a href=\"psysml:6438d4a2-0b71-4be8-b1f1-dcd907944303\" target=\"_top\" title=\"psysml:6438d4a2-0b71-4be8-b1f1-dcd907944303\" xlink:actuate=\"onRequest\" xlink:href=\"psysml:6438d4a2-0b71-4be8-b1f1-dcd907944303\" xlink:show=\"new\" xlink:title=\"psysml:6438d4a2-0b71-4be8-b1f1-dcd907944303\" xlink:type=\"simple\"><path d=\"M92.72,123.15 C99.23,137.63 106.84,154.53 113.98,170.4 \" fill=\"none\" id=\"E6-&gt;E2\" style=\"stroke: #383838; stroke-width: 1.0;\"/><polygon fill=\"#FFFFFF\" points=\"122.2,188.68,108.0257,174.22,120.7951,168.4803,122.2,188.68\" style=\"stroke: #383838; stroke-width: 1.0;\"/><ellipse cx=\"107.5131\" cy=\"168.2011\" fill=\"#383838\" rx=\"2\" ry=\"2\" style=\"stroke: #383838; stroke-width: 1.0;\"/><ellipse cx=\"116.634\" cy=\"164.1014\" fill=\"#383838\" rx=\"2\" ry=\"2\" style=\"stroke: #383838; stroke-width: 1.0;\"/></a><!--MD5=[d355b1eb33d4ee18aaac9140aa8800d8]\n",
       "@startuml\r\n",
       "top to bottom direction\r\n",
       "skinparam monochrome true\r\n",
       "skinparam classbackgroundcolor white\r\n",
       "skinparam shadowing false\r\n",
       "skinparam wrapWidth 300\r\n",
       "hide circle\r\n",
       "\r\n",
       "package \"AliasTest\" as E1  [[psysml:e49964db-e340-4eba-a3a8-d7e4e465bce2 ]]  {\r\n",
       "comp def \"P1\" as E2  <<(T,blue)part def>> [[psysml:c347ad09-22d6-4423-9bac-4dbac759901f ]] {\r\n",
       "- - ports - -\r\n",
       "porig1 <b>as</b> po1 \r\n",
       "}\r\n",
       "comp usage \"p1: P1\" as E4  <<(T,blue)part>> [[psysml:d449d8a1-a677-4f10-8ecb-a1ad1c680d6c ]] {\r\n",
       "- - ports - -\r\n",
       "po1\\n//:>>P1::porig1// \r\n",
       "}\r\n",
       "comp usage \"p2: P1\" as E6  <<(T,blue)part>> [[psysml:32242b45-8d95-4b7d-97cb-8dd31296908f ]] {\r\n",
       "- - ports - -\r\n",
       "pdest <b>as</b> pd1 \r\n",
       "}\r\n",
       "E4 - -:|> E2 [[psysml:2d5875ca-6e79-47eb-af19-37e1c3e68f98 ]] \r\n",
       "E6 - -:|> E2 [[psysml:6438d4a2-0b71-4be8-b1f1-dcd907944303 ]] \r\n",
       "}\r\n",
       "@enduml\r\n",
       "\n",
       "PlantUML version 1.2020.13(Sat Jun 13 12:26:38 UTC 2020)\n",
       "(EPL source distribution)\n",
       "Java Runtime: OpenJDK Runtime Environment\n",
       "JVM: OpenJDK 64-Bit Server VM\n",
       "Default Encoding: UTF-8\n",
       "Language: en\n",
       "Country: null\n",
       "--></g></svg>"
      ]
     },
     "execution_count": 50,
     "metadata": {},
     "output_type": "execute_result"
    }
   ],
   "source": [
    "%viz --style=\"TB\" --view=\"MIXED\" \"AliasTest\""
   ]
  },
  {
   "cell_type": "code",
   "execution_count": 51,
   "id": "timely-torture",
   "metadata": {
    "execution": {
     "iopub.execute_input": "2021-03-25T14:10:15.844056Z",
     "iopub.status.busy": "2021-03-25T14:10:15.843592Z",
     "iopub.status.idle": "2021-03-25T14:10:16.400527Z",
     "shell.execute_reply": "2021-03-25T14:10:16.399156Z"
    }
   },
   "outputs": [
    {
     "data": {
      "image/svg+xml": [
       "<?xml version=\"1.0\" encoding=\"UTF-8\" standalone=\"no\"?><svg xmlns=\"http://www.w3.org/2000/svg\" xmlns:xlink=\"http://www.w3.org/1999/xlink\" contentScriptType=\"application/ecmascript\" contentStyleType=\"text/css\" height=\"293px\" preserveAspectRatio=\"none\" style=\"width:285px;height:293px;\" version=\"1.1\" viewBox=\"0 0 285 293\" width=\"285px\" zoomAndPan=\"magnify\"><defs/><g><!--MD5=[fbc87193dbaf4d95561dea2c320d4a47]\n",
       "cluster E1--><a href=\"psysml:e49964db-e340-4eba-a3a8-d7e4e465bce2\" target=\"_top\" title=\"psysml:e49964db-e340-4eba-a3a8-d7e4e465bce2\" xlink:actuate=\"onRequest\" xlink:href=\"psysml:e49964db-e340-4eba-a3a8-d7e4e465bce2\" xlink:show=\"new\" xlink:title=\"psysml:e49964db-e340-4eba-a3a8-d7e4e465bce2\" xlink:type=\"simple\"><polygon fill=\"#FFFFFF\" points=\"16,6,94,6,101,28.2969,263,28.2969,263,281,16,281,16,6\" style=\"stroke: #000000; stroke-width: 1.5;\"/><line style=\"stroke: #000000; stroke-width: 1.5;\" x1=\"16\" x2=\"101\" y1=\"28.2969\" y2=\"28.2969\"/><text fill=\"#000000\" font-family=\"sans-serif\" font-size=\"14\" font-weight=\"bold\" lengthAdjust=\"spacingAndGlyphs\" textLength=\"72\" x=\"20\" y=\"20.9951\">AliasTest</text></a><!--MD5=[b4997ac47864f28c2f74865a473b2911]\n",
       "class E2--><a href=\"psysml:c347ad09-22d6-4423-9bac-4dbac759901f\" target=\"_top\" title=\"psysml:c347ad09-22d6-4423-9bac-4dbac759901f\" xlink:actuate=\"onRequest\" xlink:href=\"psysml:c347ad09-22d6-4423-9bac-4dbac759901f\" xlink:show=\"new\" xlink:title=\"psysml:c347ad09-22d6-4423-9bac-4dbac759901f\" xlink:type=\"simple\"><rect fill=\"#FFFFFF\" height=\"75.5469\" id=\"E2\" style=\"stroke: #383838; stroke-width: 1.5;\" width=\"92\" x=\"93\" y=\"189\"/><text fill=\"#000000\" font-family=\"sans-serif\" font-size=\"12\" font-style=\"italic\" lengthAdjust=\"spacingAndGlyphs\" textLength=\"64\" x=\"107\" y=\"205.1387\">«part def»</text><text fill=\"#000000\" font-family=\"sans-serif\" font-size=\"12\" lengthAdjust=\"spacingAndGlyphs\" textLength=\"16\" x=\"131\" y=\"219.1074\">P1</text><line style=\"stroke: #383838; stroke-width: 1.5;\" x1=\"94\" x2=\"184\" y1=\"226.9375\" y2=\"226.9375\"/><text fill=\"#000000\" font-family=\"sans-serif\" font-size=\"11\" lengthAdjust=\"spacingAndGlyphs\" textLength=\"36\" x=\"99\" y=\"257.9526\">porig1</text><text fill=\"#000000\" font-family=\"sans-serif\" font-size=\"11\" font-weight=\"bold\" lengthAdjust=\"spacingAndGlyphs\" textLength=\"15\" x=\"139\" y=\"257.9526\">as</text><text fill=\"#000000\" font-family=\"sans-serif\" font-size=\"11\" lengthAdjust=\"spacingAndGlyphs\" textLength=\"21\" x=\"158\" y=\"257.9526\">po1</text><line style=\"stroke: #383838; stroke-width: 1.0;\" x1=\"94\" x2=\"124\" y1=\"241.3398\" y2=\"241.3398\"/><text fill=\"#000000\" font-family=\"sans-serif\" font-size=\"11\" lengthAdjust=\"spacingAndGlyphs\" textLength=\"30\" x=\"124\" y=\"244.6479\">ports</text><line style=\"stroke: #383838; stroke-width: 1.0;\" x1=\"154\" x2=\"184\" y1=\"241.3398\" y2=\"241.3398\"/></a><!--MD5=[ebbe1d658d1005bcc118a6aa81145e00]\n",
       "class E4--><a href=\"psysml:d449d8a1-a677-4f10-8ecb-a1ad1c680d6c\" target=\"_top\" title=\"psysml:d449d8a1-a677-4f10-8ecb-a1ad1c680d6c\" xlink:actuate=\"onRequest\" xlink:href=\"psysml:d449d8a1-a677-4f10-8ecb-a1ad1c680d6c\" xlink:show=\"new\" xlink:title=\"psysml:d449d8a1-a677-4f10-8ecb-a1ad1c680d6c\" xlink:type=\"simple\"><rect fill=\"#FFFFFF\" height=\"88.3516\" id=\"E4\" rx=\"10\" ry=\"10\" style=\"stroke: #383838; stroke-width: 1.5;\" width=\"92\" x=\"155\" y=\"41\"/><text fill=\"#000000\" font-family=\"sans-serif\" font-size=\"12\" font-style=\"italic\" lengthAdjust=\"spacingAndGlyphs\" textLength=\"40\" x=\"181\" y=\"57.1387\">«part»</text><text fill=\"#000000\" font-family=\"sans-serif\" font-size=\"12\" lengthAdjust=\"spacingAndGlyphs\" textLength=\"40\" x=\"181\" y=\"71.1074\">p1: P1</text><line style=\"stroke: #383838; stroke-width: 1.5;\" x1=\"156\" x2=\"246\" y1=\"78.9375\" y2=\"78.9375\"/><text fill=\"#000000\" font-family=\"sans-serif\" font-size=\"11\" lengthAdjust=\"spacingAndGlyphs\" textLength=\"21\" x=\"161\" y=\"109.9526\">po1</text><text fill=\"#000000\" font-family=\"sans-serif\" font-size=\"11\" font-style=\"italic\" lengthAdjust=\"spacingAndGlyphs\" textLength=\"80\" x=\"161\" y=\"122.7573\">:&gt;&gt;P1::porig1</text><line style=\"stroke: #383838; stroke-width: 1.0;\" x1=\"156\" x2=\"186\" y1=\"93.3398\" y2=\"93.3398\"/><text fill=\"#000000\" font-family=\"sans-serif\" font-size=\"11\" lengthAdjust=\"spacingAndGlyphs\" textLength=\"30\" x=\"186\" y=\"96.6479\">ports</text><line style=\"stroke: #383838; stroke-width: 1.0;\" x1=\"216\" x2=\"246\" y1=\"93.3398\" y2=\"93.3398\"/></a><!--MD5=[60a26617385b1d2d0262a64233df1f8d]\n",
       "class E6--><a href=\"psysml:32242b45-8d95-4b7d-97cb-8dd31296908f\" target=\"_top\" title=\"psysml:32242b45-8d95-4b7d-97cb-8dd31296908f\" xlink:actuate=\"onRequest\" xlink:href=\"psysml:32242b45-8d95-4b7d-97cb-8dd31296908f\" xlink:show=\"new\" xlink:title=\"psysml:32242b45-8d95-4b7d-97cb-8dd31296908f\" xlink:type=\"simple\"><rect fill=\"#FFFFFF\" height=\"75.5469\" id=\"E6\" rx=\"10\" ry=\"10\" style=\"stroke: #383838; stroke-width: 1.5;\" width=\"88\" x=\"32\" y=\"47\"/><text fill=\"#000000\" font-family=\"sans-serif\" font-size=\"12\" font-style=\"italic\" lengthAdjust=\"spacingAndGlyphs\" textLength=\"40\" x=\"56\" y=\"63.1387\">«part»</text><text fill=\"#000000\" font-family=\"sans-serif\" font-size=\"12\" lengthAdjust=\"spacingAndGlyphs\" textLength=\"40\" x=\"56\" y=\"77.1074\">p2: P1</text><line style=\"stroke: #383838; stroke-width: 1.5;\" x1=\"33\" x2=\"119\" y1=\"84.9375\" y2=\"84.9375\"/><text fill=\"#000000\" font-family=\"sans-serif\" font-size=\"11\" lengthAdjust=\"spacingAndGlyphs\" textLength=\"32\" x=\"38\" y=\"115.9526\">pdest</text><text fill=\"#000000\" font-family=\"sans-serif\" font-size=\"11\" font-weight=\"bold\" lengthAdjust=\"spacingAndGlyphs\" textLength=\"15\" x=\"74\" y=\"115.9526\">as</text><text fill=\"#000000\" font-family=\"sans-serif\" font-size=\"11\" lengthAdjust=\"spacingAndGlyphs\" textLength=\"21\" x=\"93\" y=\"115.9526\">pd1</text><line style=\"stroke: #383838; stroke-width: 1.0;\" x1=\"33\" x2=\"61\" y1=\"99.3398\" y2=\"99.3398\"/><text fill=\"#000000\" font-family=\"sans-serif\" font-size=\"11\" lengthAdjust=\"spacingAndGlyphs\" textLength=\"30\" x=\"61\" y=\"102.6479\">ports</text><line style=\"stroke: #383838; stroke-width: 1.0;\" x1=\"91\" x2=\"119\" y1=\"99.3398\" y2=\"99.3398\"/></a><!--MD5=[185131fc0dcab0a4505a2ebe144e961b]\n",
       "link E4 to E2--><a href=\"psysml:2d5875ca-6e79-47eb-af19-37e1c3e68f98\" target=\"_top\" title=\"psysml:2d5875ca-6e79-47eb-af19-37e1c3e68f98\" xlink:actuate=\"onRequest\" xlink:href=\"psysml:2d5875ca-6e79-47eb-af19-37e1c3e68f98\" xlink:show=\"new\" xlink:title=\"psysml:2d5875ca-6e79-47eb-af19-37e1c3e68f98\" xlink:type=\"simple\"><path d=\"M170,129.15 C170,129.15 170,168.63 170,168.63 \" fill=\"none\" id=\"E4-&gt;E2\" style=\"stroke: #383838; stroke-width: 1.0;\"/><polygon fill=\"#FFFFFF\" points=\"170,188.63,163,169.63,177,169.63,170,188.63\" style=\"stroke: #383838; stroke-width: 1.0;\"/><ellipse cx=\"165\" cy=\"163.93\" fill=\"#383838\" rx=\"2\" ry=\"2\" style=\"stroke: #383838; stroke-width: 1.0;\"/><ellipse cx=\"175\" cy=\"163.93\" fill=\"#383838\" rx=\"2\" ry=\"2\" style=\"stroke: #383838; stroke-width: 1.0;\"/></a><!--MD5=[2351f337d6de0f557b50152ba70847b5]\n",
       "link E6 to E2--><a href=\"psysml:6438d4a2-0b71-4be8-b1f1-dcd907944303\" target=\"_top\" title=\"psysml:6438d4a2-0b71-4be8-b1f1-dcd907944303\" xlink:actuate=\"onRequest\" xlink:href=\"psysml:6438d4a2-0b71-4be8-b1f1-dcd907944303\" xlink:show=\"new\" xlink:title=\"psysml:6438d4a2-0b71-4be8-b1f1-dcd907944303\" xlink:type=\"simple\"><path d=\"M106.5,123.05 C106.5,123.05 106.5,168.84 106.5,168.84 \" fill=\"none\" id=\"E6-&gt;E2\" style=\"stroke: #383838; stroke-width: 1.0;\"/><polygon fill=\"#FFFFFF\" points=\"106.5,188.84,99.5,169.84,113.5,169.84,106.5,188.84\" style=\"stroke: #383838; stroke-width: 1.0;\"/><ellipse cx=\"101.5\" cy=\"164.14\" fill=\"#383838\" rx=\"2\" ry=\"2\" style=\"stroke: #383838; stroke-width: 1.0;\"/><ellipse cx=\"111.5\" cy=\"164.14\" fill=\"#383838\" rx=\"2\" ry=\"2\" style=\"stroke: #383838; stroke-width: 1.0;\"/></a><!--MD5=[f4ffd8c3ad47dedfda58d6b4618a8e95]\n",
       "@startuml\r\n",
       "skinparam linetype ortho\r\n",
       "skinparam monochrome true\r\n",
       "skinparam classbackgroundcolor white\r\n",
       "skinparam shadowing false\r\n",
       "skinparam wrapWidth 300\r\n",
       "hide circle\r\n",
       "\r\n",
       "package \"AliasTest\" as E1  [[psysml:e49964db-e340-4eba-a3a8-d7e4e465bce2 ]]  {\r\n",
       "comp def \"P1\" as E2  <<(T,blue)part def>> [[psysml:c347ad09-22d6-4423-9bac-4dbac759901f ]] {\r\n",
       "- - ports - -\r\n",
       "porig1 <b>as</b> po1 \r\n",
       "}\r\n",
       "comp usage \"p1: P1\" as E4  <<(T,blue)part>> [[psysml:d449d8a1-a677-4f10-8ecb-a1ad1c680d6c ]] {\r\n",
       "- - ports - -\r\n",
       "po1\\n//:>>P1::porig1// \r\n",
       "}\r\n",
       "comp usage \"p2: P1\" as E6  <<(T,blue)part>> [[psysml:32242b45-8d95-4b7d-97cb-8dd31296908f ]] {\r\n",
       "- - ports - -\r\n",
       "pdest <b>as</b> pd1 \r\n",
       "}\r\n",
       "E4 - -:|> E2 [[psysml:2d5875ca-6e79-47eb-af19-37e1c3e68f98 ]] \r\n",
       "E6 - -:|> E2 [[psysml:6438d4a2-0b71-4be8-b1f1-dcd907944303 ]] \r\n",
       "}\r\n",
       "@enduml\r\n",
       "\n",
       "PlantUML version 1.2020.13(Sat Jun 13 12:26:38 UTC 2020)\n",
       "(EPL source distribution)\n",
       "Java Runtime: OpenJDK Runtime Environment\n",
       "JVM: OpenJDK 64-Bit Server VM\n",
       "Default Encoding: UTF-8\n",
       "Language: en\n",
       "Country: null\n",
       "--></g></svg>"
      ]
     },
     "execution_count": 51,
     "metadata": {},
     "output_type": "execute_result"
    }
   ],
   "source": [
    "%viz --style=\"ORTHOLINE\" --view=\"Default\" \"AliasTest\""
   ]
  },
  {
   "cell_type": "code",
   "execution_count": 52,
   "id": "handmade-backing",
   "metadata": {
    "execution": {
     "iopub.execute_input": "2021-03-25T14:10:16.451952Z",
     "iopub.status.busy": "2021-03-25T14:10:16.451170Z",
     "iopub.status.idle": "2021-03-25T14:10:17.006284Z",
     "shell.execute_reply": "2021-03-25T14:10:17.004942Z"
    }
   },
   "outputs": [
    {
     "data": {
      "image/svg+xml": [
       "<?xml version=\"1.0\" encoding=\"UTF-8\" standalone=\"no\"?><svg xmlns=\"http://www.w3.org/2000/svg\" xmlns:xlink=\"http://www.w3.org/1999/xlink\" contentScriptType=\"application/ecmascript\" contentStyleType=\"text/css\" height=\"293px\" preserveAspectRatio=\"none\" style=\"width:285px;height:293px;\" version=\"1.1\" viewBox=\"0 0 285 293\" width=\"285px\" zoomAndPan=\"magnify\"><defs/><g><!--MD5=[fbc87193dbaf4d95561dea2c320d4a47]\n",
       "cluster E1--><a href=\"psysml:e49964db-e340-4eba-a3a8-d7e4e465bce2\" target=\"_top\" title=\"psysml:e49964db-e340-4eba-a3a8-d7e4e465bce2\" xlink:actuate=\"onRequest\" xlink:href=\"psysml:e49964db-e340-4eba-a3a8-d7e4e465bce2\" xlink:show=\"new\" xlink:title=\"psysml:e49964db-e340-4eba-a3a8-d7e4e465bce2\" xlink:type=\"simple\"><polygon fill=\"#FFFFFF\" points=\"16,6,94,6,101,28.2969,263,28.2969,263,281,16,281,16,6\" style=\"stroke: #000000; stroke-width: 1.5;\"/><line style=\"stroke: #000000; stroke-width: 1.5;\" x1=\"16\" x2=\"101\" y1=\"28.2969\" y2=\"28.2969\"/><text fill=\"#000000\" font-family=\"sans-serif\" font-size=\"14\" font-weight=\"bold\" lengthAdjust=\"spacingAndGlyphs\" textLength=\"72\" x=\"20\" y=\"20.9951\">AliasTest</text></a><!--MD5=[b4997ac47864f28c2f74865a473b2911]\n",
       "class E2--><a href=\"psysml:c347ad09-22d6-4423-9bac-4dbac759901f\" target=\"_top\" title=\"psysml:c347ad09-22d6-4423-9bac-4dbac759901f\" xlink:actuate=\"onRequest\" xlink:href=\"psysml:c347ad09-22d6-4423-9bac-4dbac759901f\" xlink:show=\"new\" xlink:title=\"psysml:c347ad09-22d6-4423-9bac-4dbac759901f\" xlink:type=\"simple\"><rect fill=\"#FFFFFF\" height=\"75.5469\" id=\"E2\" style=\"stroke: #383838; stroke-width: 1.5;\" width=\"92\" x=\"93\" y=\"189\"/><text fill=\"#000000\" font-family=\"sans-serif\" font-size=\"12\" font-style=\"italic\" lengthAdjust=\"spacingAndGlyphs\" textLength=\"64\" x=\"107\" y=\"205.1387\">«part def»</text><text fill=\"#000000\" font-family=\"sans-serif\" font-size=\"12\" lengthAdjust=\"spacingAndGlyphs\" textLength=\"16\" x=\"131\" y=\"219.1074\">P1</text><line style=\"stroke: #383838; stroke-width: 1.5;\" x1=\"94\" x2=\"184\" y1=\"226.9375\" y2=\"226.9375\"/><text fill=\"#000000\" font-family=\"sans-serif\" font-size=\"11\" lengthAdjust=\"spacingAndGlyphs\" textLength=\"36\" x=\"99\" y=\"257.9526\">porig1</text><text fill=\"#000000\" font-family=\"sans-serif\" font-size=\"11\" font-weight=\"bold\" lengthAdjust=\"spacingAndGlyphs\" textLength=\"15\" x=\"139\" y=\"257.9526\">as</text><text fill=\"#000000\" font-family=\"sans-serif\" font-size=\"11\" lengthAdjust=\"spacingAndGlyphs\" textLength=\"21\" x=\"158\" y=\"257.9526\">po1</text><line style=\"stroke: #383838; stroke-width: 1.0;\" x1=\"94\" x2=\"124\" y1=\"241.3398\" y2=\"241.3398\"/><text fill=\"#000000\" font-family=\"sans-serif\" font-size=\"11\" lengthAdjust=\"spacingAndGlyphs\" textLength=\"30\" x=\"124\" y=\"244.6479\">ports</text><line style=\"stroke: #383838; stroke-width: 1.0;\" x1=\"154\" x2=\"184\" y1=\"241.3398\" y2=\"241.3398\"/></a><!--MD5=[ebbe1d658d1005bcc118a6aa81145e00]\n",
       "class E4--><a href=\"psysml:d449d8a1-a677-4f10-8ecb-a1ad1c680d6c\" target=\"_top\" title=\"psysml:d449d8a1-a677-4f10-8ecb-a1ad1c680d6c\" xlink:actuate=\"onRequest\" xlink:href=\"psysml:d449d8a1-a677-4f10-8ecb-a1ad1c680d6c\" xlink:show=\"new\" xlink:title=\"psysml:d449d8a1-a677-4f10-8ecb-a1ad1c680d6c\" xlink:type=\"simple\"><rect fill=\"#FFFFFF\" height=\"88.3516\" id=\"E4\" rx=\"10\" ry=\"10\" style=\"stroke: #383838; stroke-width: 1.5;\" width=\"92\" x=\"155\" y=\"41\"/><text fill=\"#000000\" font-family=\"sans-serif\" font-size=\"12\" font-style=\"italic\" lengthAdjust=\"spacingAndGlyphs\" textLength=\"40\" x=\"181\" y=\"57.1387\">«part»</text><text fill=\"#000000\" font-family=\"sans-serif\" font-size=\"12\" lengthAdjust=\"spacingAndGlyphs\" textLength=\"40\" x=\"181\" y=\"71.1074\">p1: P1</text><line style=\"stroke: #383838; stroke-width: 1.5;\" x1=\"156\" x2=\"246\" y1=\"78.9375\" y2=\"78.9375\"/><text fill=\"#000000\" font-family=\"sans-serif\" font-size=\"11\" lengthAdjust=\"spacingAndGlyphs\" textLength=\"21\" x=\"161\" y=\"109.9526\">po1</text><text fill=\"#000000\" font-family=\"sans-serif\" font-size=\"11\" font-style=\"italic\" lengthAdjust=\"spacingAndGlyphs\" textLength=\"80\" x=\"161\" y=\"122.7573\">:&gt;&gt;P1::porig1</text><line style=\"stroke: #383838; stroke-width: 1.0;\" x1=\"156\" x2=\"186\" y1=\"93.3398\" y2=\"93.3398\"/><text fill=\"#000000\" font-family=\"sans-serif\" font-size=\"11\" lengthAdjust=\"spacingAndGlyphs\" textLength=\"30\" x=\"186\" y=\"96.6479\">ports</text><line style=\"stroke: #383838; stroke-width: 1.0;\" x1=\"216\" x2=\"246\" y1=\"93.3398\" y2=\"93.3398\"/></a><!--MD5=[60a26617385b1d2d0262a64233df1f8d]\n",
       "class E6--><a href=\"psysml:32242b45-8d95-4b7d-97cb-8dd31296908f\" target=\"_top\" title=\"psysml:32242b45-8d95-4b7d-97cb-8dd31296908f\" xlink:actuate=\"onRequest\" xlink:href=\"psysml:32242b45-8d95-4b7d-97cb-8dd31296908f\" xlink:show=\"new\" xlink:title=\"psysml:32242b45-8d95-4b7d-97cb-8dd31296908f\" xlink:type=\"simple\"><rect fill=\"#FFFFFF\" height=\"75.5469\" id=\"E6\" rx=\"10\" ry=\"10\" style=\"stroke: #383838; stroke-width: 1.5;\" width=\"88\" x=\"32\" y=\"47\"/><text fill=\"#000000\" font-family=\"sans-serif\" font-size=\"12\" font-style=\"italic\" lengthAdjust=\"spacingAndGlyphs\" textLength=\"40\" x=\"56\" y=\"63.1387\">«part»</text><text fill=\"#000000\" font-family=\"sans-serif\" font-size=\"12\" lengthAdjust=\"spacingAndGlyphs\" textLength=\"40\" x=\"56\" y=\"77.1074\">p2: P1</text><line style=\"stroke: #383838; stroke-width: 1.5;\" x1=\"33\" x2=\"119\" y1=\"84.9375\" y2=\"84.9375\"/><text fill=\"#000000\" font-family=\"sans-serif\" font-size=\"11\" lengthAdjust=\"spacingAndGlyphs\" textLength=\"32\" x=\"38\" y=\"115.9526\">pdest</text><text fill=\"#000000\" font-family=\"sans-serif\" font-size=\"11\" font-weight=\"bold\" lengthAdjust=\"spacingAndGlyphs\" textLength=\"15\" x=\"74\" y=\"115.9526\">as</text><text fill=\"#000000\" font-family=\"sans-serif\" font-size=\"11\" lengthAdjust=\"spacingAndGlyphs\" textLength=\"21\" x=\"93\" y=\"115.9526\">pd1</text><line style=\"stroke: #383838; stroke-width: 1.0;\" x1=\"33\" x2=\"61\" y1=\"99.3398\" y2=\"99.3398\"/><text fill=\"#000000\" font-family=\"sans-serif\" font-size=\"11\" lengthAdjust=\"spacingAndGlyphs\" textLength=\"30\" x=\"61\" y=\"102.6479\">ports</text><line style=\"stroke: #383838; stroke-width: 1.0;\" x1=\"91\" x2=\"119\" y1=\"99.3398\" y2=\"99.3398\"/></a><!--MD5=[185131fc0dcab0a4505a2ebe144e961b]\n",
       "link E4 to E2--><a href=\"psysml:2d5875ca-6e79-47eb-af19-37e1c3e68f98\" target=\"_top\" title=\"psysml:2d5875ca-6e79-47eb-af19-37e1c3e68f98\" xlink:actuate=\"onRequest\" xlink:href=\"psysml:2d5875ca-6e79-47eb-af19-37e1c3e68f98\" xlink:show=\"new\" xlink:title=\"psysml:2d5875ca-6e79-47eb-af19-37e1c3e68f98\" xlink:type=\"simple\"><path d=\"M170,129.15 C170,129.15 170,168.63 170,168.63 \" fill=\"none\" id=\"E4-&gt;E2\" style=\"stroke: #383838; stroke-width: 1.0;\"/><polygon fill=\"#FFFFFF\" points=\"170,188.63,163,169.63,177,169.63,170,188.63\" style=\"stroke: #383838; stroke-width: 1.0;\"/><ellipse cx=\"165\" cy=\"163.93\" fill=\"#383838\" rx=\"2\" ry=\"2\" style=\"stroke: #383838; stroke-width: 1.0;\"/><ellipse cx=\"175\" cy=\"163.93\" fill=\"#383838\" rx=\"2\" ry=\"2\" style=\"stroke: #383838; stroke-width: 1.0;\"/></a><!--MD5=[2351f337d6de0f557b50152ba70847b5]\n",
       "link E6 to E2--><a href=\"psysml:6438d4a2-0b71-4be8-b1f1-dcd907944303\" target=\"_top\" title=\"psysml:6438d4a2-0b71-4be8-b1f1-dcd907944303\" xlink:actuate=\"onRequest\" xlink:href=\"psysml:6438d4a2-0b71-4be8-b1f1-dcd907944303\" xlink:show=\"new\" xlink:title=\"psysml:6438d4a2-0b71-4be8-b1f1-dcd907944303\" xlink:type=\"simple\"><path d=\"M106.5,123.05 C106.5,123.05 106.5,168.84 106.5,168.84 \" fill=\"none\" id=\"E6-&gt;E2\" style=\"stroke: #383838; stroke-width: 1.0;\"/><polygon fill=\"#FFFFFF\" points=\"106.5,188.84,99.5,169.84,113.5,169.84,106.5,188.84\" style=\"stroke: #383838; stroke-width: 1.0;\"/><ellipse cx=\"101.5\" cy=\"164.14\" fill=\"#383838\" rx=\"2\" ry=\"2\" style=\"stroke: #383838; stroke-width: 1.0;\"/><ellipse cx=\"111.5\" cy=\"164.14\" fill=\"#383838\" rx=\"2\" ry=\"2\" style=\"stroke: #383838; stroke-width: 1.0;\"/></a><!--MD5=[f4ffd8c3ad47dedfda58d6b4618a8e95]\n",
       "@startuml\r\n",
       "skinparam linetype ortho\r\n",
       "skinparam monochrome true\r\n",
       "skinparam classbackgroundcolor white\r\n",
       "skinparam shadowing false\r\n",
       "skinparam wrapWidth 300\r\n",
       "hide circle\r\n",
       "\r\n",
       "package \"AliasTest\" as E1  [[psysml:e49964db-e340-4eba-a3a8-d7e4e465bce2 ]]  {\r\n",
       "comp def \"P1\" as E2  <<(T,blue)part def>> [[psysml:c347ad09-22d6-4423-9bac-4dbac759901f ]] {\r\n",
       "- - ports - -\r\n",
       "porig1 <b>as</b> po1 \r\n",
       "}\r\n",
       "comp usage \"p1: P1\" as E4  <<(T,blue)part>> [[psysml:d449d8a1-a677-4f10-8ecb-a1ad1c680d6c ]] {\r\n",
       "- - ports - -\r\n",
       "po1\\n//:>>P1::porig1// \r\n",
       "}\r\n",
       "comp usage \"p2: P1\" as E6  <<(T,blue)part>> [[psysml:32242b45-8d95-4b7d-97cb-8dd31296908f ]] {\r\n",
       "- - ports - -\r\n",
       "pdest <b>as</b> pd1 \r\n",
       "}\r\n",
       "E4 - -:|> E2 [[psysml:2d5875ca-6e79-47eb-af19-37e1c3e68f98 ]] \r\n",
       "E6 - -:|> E2 [[psysml:6438d4a2-0b71-4be8-b1f1-dcd907944303 ]] \r\n",
       "}\r\n",
       "@enduml\r\n",
       "\n",
       "PlantUML version 1.2020.13(Sat Jun 13 12:26:38 UTC 2020)\n",
       "(EPL source distribution)\n",
       "Java Runtime: OpenJDK Runtime Environment\n",
       "JVM: OpenJDK 64-Bit Server VM\n",
       "Default Encoding: UTF-8\n",
       "Language: en\n",
       "Country: null\n",
       "--></g></svg>"
      ]
     },
     "execution_count": 52,
     "metadata": {},
     "output_type": "execute_result"
    }
   ],
   "source": [
    "%viz --style=\"ORTHOLINE\" --view=\"Tree\" \"AliasTest\""
   ]
  },
  {
   "cell_type": "code",
   "execution_count": 53,
   "id": "circular-strap",
   "metadata": {
    "execution": {
     "iopub.execute_input": "2021-03-25T14:10:17.059093Z",
     "iopub.status.busy": "2021-03-25T14:10:17.057987Z",
     "iopub.status.idle": "2021-03-25T14:10:17.067915Z",
     "shell.execute_reply": "2021-03-25T14:10:17.067465Z"
    }
   },
   "outputs": [
    {
     "data": {
      "image/svg+xml": [
       "<?xml version=\"1.0\" encoding=\"UTF-8\" standalone=\"no\"?><svg xmlns=\"http://www.w3.org/2000/svg\" xmlns:xlink=\"http://www.w3.org/1999/xlink\" contentScriptType=\"application/ecmascript\" contentStyleType=\"text/css\" height=\"12px\" preserveAspectRatio=\"none\" style=\"width:12px;height:12px;\" version=\"1.1\" viewBox=\"0 0 12 12\" width=\"12px\" zoomAndPan=\"magnify\"><defs/><g><!--MD5=[97d6f38768b311333d388e66b2b27985]\n",
       "@startuml\r\n",
       "skinparam linetype ortho\r\n",
       "skinparam monochrome true\r\n",
       "skinparam classbackgroundcolor white\r\n",
       "skinparam shadowing false\r\n",
       "skinparam wrapWidth 300\r\n",
       "hide circle\r\n",
       "\r\n",
       "@enduml\r\n",
       "\n",
       "PlantUML version 1.2020.13(Sat Jun 13 12:26:38 UTC 2020)\n",
       "(EPL source distribution)\n",
       "Java Runtime: OpenJDK Runtime Environment\n",
       "JVM: OpenJDK 64-Bit Server VM\n",
       "Default Encoding: UTF-8\n",
       "Language: en\n",
       "Country: null\n",
       "--></g></svg>"
      ]
     },
     "execution_count": 53,
     "metadata": {},
     "output_type": "execute_result"
    }
   ],
   "source": [
    "%viz --style=\"ORTHOLINE\" --view=\"State\" \"AliasTest\""
   ]
  },
  {
   "cell_type": "code",
   "execution_count": 54,
   "id": "productive-pension",
   "metadata": {
    "execution": {
     "iopub.execute_input": "2021-03-25T14:10:17.119647Z",
     "iopub.status.busy": "2021-03-25T14:10:17.118929Z",
     "iopub.status.idle": "2021-03-25T14:10:17.213143Z",
     "shell.execute_reply": "2021-03-25T14:10:17.211727Z"
    }
   },
   "outputs": [
    {
     "data": {
      "image/svg+xml": [
       "<?xml version=\"1.0\" encoding=\"UTF-8\" standalone=\"no\"?><svg xmlns=\"http://www.w3.org/2000/svg\" xmlns:xlink=\"http://www.w3.org/1999/xlink\" contentScriptType=\"application/ecmascript\" contentStyleType=\"text/css\" height=\"207px\" preserveAspectRatio=\"none\" style=\"width:406px;height:207px;\" version=\"1.1\" viewBox=\"0 0 406 207\" width=\"406px\" zoomAndPan=\"magnify\"><defs/><g><!--MD5=[fbc87193dbaf4d95561dea2c320d4a47]\n",
       "cluster E1--><a href=\"psysml:e49964db-e340-4eba-a3a8-d7e4e465bce2\" target=\"_top\" title=\"psysml:e49964db-e340-4eba-a3a8-d7e4e465bce2\" xlink:actuate=\"onRequest\" xlink:href=\"psysml:e49964db-e340-4eba-a3a8-d7e4e465bce2\" xlink:show=\"new\" xlink:title=\"psysml:e49964db-e340-4eba-a3a8-d7e4e465bce2\" xlink:type=\"simple\"><polygon fill=\"#FFFFFF\" points=\"16,6,94,6,101,28.2969,384,28.2969,384,195,16,195,16,6\" style=\"stroke: #000000; stroke-width: 1.5;\"/><line style=\"stroke: #000000; stroke-width: 1.5;\" x1=\"16\" x2=\"101\" y1=\"28.2969\" y2=\"28.2969\"/><text fill=\"#000000\" font-family=\"sans-serif\" font-size=\"14\" font-weight=\"bold\" lengthAdjust=\"spacingAndGlyphs\" textLength=\"72\" x=\"20\" y=\"20.9951\">AliasTest</text></a><!--MD5=[e4f7fae6ed58524ba242bb0b0d3be6b7]\n",
       "cluster E2--><a href=\"psysml:c347ad09-22d6-4423-9bac-4dbac759901f\" target=\"_top\" title=\"psysml:c347ad09-22d6-4423-9bac-4dbac759901f\" xlink:actuate=\"onRequest\" xlink:href=\"psysml:c347ad09-22d6-4423-9bac-4dbac759901f\" xlink:show=\"new\" xlink:title=\"psysml:c347ad09-22d6-4423-9bac-4dbac759901f\" xlink:type=\"simple\"><rect fill=\"#FFFFFF\" height=\"73\" id=\"E2\" style=\"stroke: #383838; stroke-width: 1.5;\" width=\"83\" x=\"244\" y=\"55\"/><rect fill=\"#F8F8F8\" height=\"37.9375\" style=\"stroke: #383838; stroke-width: 1.5;\" width=\"83\" x=\"244\" y=\"55\"/><text fill=\"#000000\" font-family=\"sans-serif\" font-size=\"12\" font-style=\"italic\" lengthAdjust=\"spacingAndGlyphs\" textLength=\"64\" x=\"253.5\" y=\"71.1387\">«part def»</text><text fill=\"#000000\" font-family=\"sans-serif\" font-size=\"12\" lengthAdjust=\"spacingAndGlyphs\" textLength=\"16\" x=\"277.5\" y=\"85.1074\">P1</text></a><!--MD5=[de5ec2e2e8f62f467e546659f5068c88]\n",
       "cluster E5--><a href=\"psysml:d449d8a1-a677-4f10-8ecb-a1ad1c680d6c\" target=\"_top\" title=\"psysml:d449d8a1-a677-4f10-8ecb-a1ad1c680d6c\" xlink:actuate=\"onRequest\" xlink:href=\"psysml:d449d8a1-a677-4f10-8ecb-a1ad1c680d6c\" xlink:show=\"new\" xlink:title=\"psysml:d449d8a1-a677-4f10-8ecb-a1ad1c680d6c\" xlink:type=\"simple\"><rect fill=\"#FFFFFF\" height=\"84.5\" id=\"E5\" rx=\"10\" ry=\"10\" style=\"stroke: #383838; stroke-width: 1.5;\" width=\"101\" x=\"139\" y=\"94.5\"/><rect fill=\"#F8F8F8\" height=\"23.9688\" rx=\"10\" ry=\"10\" style=\"stroke: #F8F8F8; stroke-width: 1.5;\" width=\"101\" x=\"139\" y=\"94.5\"/><rect fill=\"#F8F8F8\" height=\"10\" style=\"stroke: #F8F8F8; stroke-width: 1.5;\" width=\"101\" x=\"139\" y=\"108.4688\"/><rect fill=\"none\" height=\"84.5\" id=\"E5\" rx=\"10\" ry=\"10\" style=\"stroke: #383838; stroke-width: 1.5;\" width=\"101\" x=\"139\" y=\"94.5\"/><text fill=\"#000000\" font-family=\"sans-serif\" font-size=\"12\" lengthAdjust=\"spacingAndGlyphs\" textLength=\"40\" x=\"169.5\" y=\"110.6387\">p1: P1</text><line style=\"stroke: #383838; stroke-width: 1.0;\" x1=\"139\" x2=\"240\" y1=\"118.4688\" y2=\"118.4688\"/></a><!--MD5=[168fadf3d0c3fd93dd5d6da1b1d7ab76]\n",
       "cluster E7--><a href=\"psysml:32242b45-8d95-4b7d-97cb-8dd31296908f\" target=\"_top\" title=\"psysml:32242b45-8d95-4b7d-97cb-8dd31296908f\" xlink:actuate=\"onRequest\" xlink:href=\"psysml:32242b45-8d95-4b7d-97cb-8dd31296908f\" xlink:show=\"new\" xlink:title=\"psysml:32242b45-8d95-4b7d-97cb-8dd31296908f\" xlink:type=\"simple\"><rect fill=\"#FFFFFF\" height=\"65\" id=\"E7\" rx=\"10\" ry=\"10\" style=\"stroke: #383838; stroke-width: 1.5;\" width=\"83\" x=\"53\" y=\"55\"/><rect fill=\"#F8F8F8\" height=\"23.9688\" rx=\"10\" ry=\"10\" style=\"stroke: #F8F8F8; stroke-width: 1.5;\" width=\"83\" x=\"53\" y=\"55\"/><rect fill=\"#F8F8F8\" height=\"10\" style=\"stroke: #F8F8F8; stroke-width: 1.5;\" width=\"83\" x=\"53\" y=\"68.9688\"/><rect fill=\"none\" height=\"65\" id=\"E7\" rx=\"10\" ry=\"10\" style=\"stroke: #383838; stroke-width: 1.5;\" width=\"83\" x=\"53\" y=\"55\"/><text fill=\"#000000\" font-family=\"sans-serif\" font-size=\"12\" lengthAdjust=\"spacingAndGlyphs\" textLength=\"40\" x=\"74.5\" y=\"71.1387\">p2: P1</text><line style=\"stroke: #383838; stroke-width: 1.0;\" x1=\"53\" x2=\"136\" y1=\"78.9688\" y2=\"78.9688\"/></a><text fill=\"#000000\" font-family=\"sans-serif\" font-size=\"14\" lengthAdjust=\"spacingAndGlyphs\" textLength=\"44\" x=\"240\" y=\"33.6982\">porig1</text><rect fill=\"#383838\" height=\"12\" style=\"stroke: #F8F8F8; stroke-width: 1.5;\" width=\"12\" x=\"256\" y=\"49\"/><text fill=\"#000000\" font-family=\"sans-serif\" font-size=\"14\" lengthAdjust=\"spacingAndGlyphs\" textLength=\"44\" x=\"287\" y=\"33.6982\">porig1</text><rect fill=\"#383838\" height=\"12\" style=\"stroke: #F8F8F8; stroke-width: 1.5;\" width=\"12\" x=\"303\" y=\"49\"/><text fill=\"#000000\" font-family=\"sans-serif\" font-size=\"14\" lengthAdjust=\"spacingAndGlyphs\" textLength=\"27\" x=\"143.5\" y=\"73.1982\">po1</text><rect fill=\"#383838\" height=\"12\" style=\"stroke: #F8F8F8; stroke-width: 1.5;\" width=\"12\" x=\"151\" y=\"88.5\"/><text fill=\"#000000\" font-family=\"sans-serif\" font-size=\"14\" lengthAdjust=\"spacingAndGlyphs\" textLength=\"40\" x=\"51\" y=\"33.6982\">pdest</text><rect fill=\"#383838\" height=\"12\" style=\"stroke: #F8F8F8; stroke-width: 1.5;\" width=\"12\" x=\"65\" y=\"49\"/><text fill=\"#000000\" font-family=\"sans-serif\" font-size=\"14\" lengthAdjust=\"spacingAndGlyphs\" textLength=\"40\" x=\"98\" y=\"33.6982\">pdest</text><rect fill=\"#383838\" height=\"12\" style=\"stroke: #F8F8F8; stroke-width: 1.5;\" width=\"12\" x=\"112\" y=\"49\"/><!--MD5=[60ac2c0cde89d4308155b0484e57a8ec]\n",
       "link E9 to E6--><a href=\"psysml:542ee912-9568-47bf-89cf-5ffa6da25451\" target=\"_top\" title=\"psysml:542ee912-9568-47bf-89cf-5ffa6da25451\" xlink:actuate=\"onRequest\" xlink:href=\"psysml:542ee912-9568-47bf-89cf-5ffa6da25451\" xlink:show=\"new\" xlink:title=\"psysml:542ee912-9568-47bf-89cf-5ffa6da25451\" xlink:type=\"simple\"><path d=\"M121.88,61.25 C121.88,72.5 121.88,95 121.88,95 C121.88,95 140.82,95 150.88,95 \" fill=\"none\" id=\"E9-E6\" style=\"stroke: #383838; stroke-width: 3.0;\"/></a><!--MD5=[60ac2c0cde89d4308155b0484e57a8ec]\n",
       "link E9 to E6--><a href=\"psysml:574c6fbc-01c2-4e16-ae54-13c104835878\" target=\"_top\" title=\"psysml:574c6fbc-01c2-4e16-ae54-13c104835878\" xlink:actuate=\"onRequest\" xlink:href=\"psysml:574c6fbc-01c2-4e16-ae54-13c104835878\" xlink:show=\"new\" xlink:title=\"psysml:574c6fbc-01c2-4e16-ae54-13c104835878\" xlink:type=\"simple\"><path d=\"M119.75,61.34 C119.75,73.31 119.75,98 119.75,98 C119.75,98 140.27,98 150.85,98 \" fill=\"none\" id=\"E9-E6-1\" style=\"stroke: #383838; stroke-width: 3.0;\"/></a><!--MD5=[6e4b6c1f8686364c5b17e2ab7a3000cf]\n",
       "@startuml\r\n",
       "skinparam ranksep 10\r\n",
       "skinparam rectangle {\r\n",
       " backgroundColor<<block>> LightGreen\r\n",
       "}\r\n",
       "skinparam linetype ortho\r\n",
       "skinparam monochrome true\r\n",
       "skinparam classbackgroundcolor white\r\n",
       "skinparam shadowing false\r\n",
       "skinparam wrapWidth 300\r\n",
       "hide circle\r\n",
       "\r\n",
       "package \"AliasTest\" as E1  [[psysml:e49964db-e340-4eba-a3a8-d7e4e465bce2 ]]  {\r\n",
       "rec def \"P1\" as E2  <<(T,blue)part def>> [[psysml:c347ad09-22d6-4423-9bac-4dbac759901f ]] {\r\n",
       "portin \"porig1\" as E3  <<(T,blue)port>> [[psysml:0250d93f-14e1-4692-9053-ebbfda808262 ]] \r\n",
       "portin \"porig1\" as E4  <<(T,blue)port>> [[psysml:0250d93f-14e1-4692-9053-ebbfda808262 ]] \r\n",
       "}\r\n",
       "rec usage \"p1: P1\" as E5  [[psysml:d449d8a1-a677-4f10-8ecb-a1ad1c680d6c ]] {\r\n",
       "portin \"po1\" as E6  <<(T,blue)port>> [[psysml:29809450-6fae-45f0-8103-0520fac6504b ]] \r\n",
       "}\r\n",
       "rec usage \"p2: P1\" as E7  [[psysml:32242b45-8d95-4b7d-97cb-8dd31296908f ]] {\r\n",
       "portin \"pdest\" as E8  <<(T,blue)port>> [[psysml:232a2b18-4f4e-4d95-914a-9e8054ac4fe4 ]] \r\n",
       "portin \"pdest\" as E9  <<(T,blue)port>> [[psysml:232a2b18-4f4e-4d95-914a-9e8054ac4fe4 ]] \r\n",
       "}\r\n",
       "E9 -[thickness=3]- E6 [[psysml:542ee912-9568-47bf-89cf-5ffa6da25451 ]] \r\n",
       "E9 -[thickness=3]- E6 [[psysml:574c6fbc-01c2-4e16-ae54-13c104835878 ]] \r\n",
       "}\r\n",
       "@enduml\r\n",
       "\n",
       "PlantUML version 1.2020.13(Sat Jun 13 12:26:38 UTC 2020)\n",
       "(EPL source distribution)\n",
       "Java Runtime: OpenJDK Runtime Environment\n",
       "JVM: OpenJDK 64-Bit Server VM\n",
       "Default Encoding: UTF-8\n",
       "Language: en\n",
       "Country: null\n",
       "--></g></svg>"
      ]
     },
     "execution_count": 54,
     "metadata": {},
     "output_type": "execute_result"
    }
   ],
   "source": [
    "%viz --style=\"ORTHOLINE\" --view=\"Interconnection\" \"AliasTest\""
   ]
  },
  {
   "cell_type": "code",
   "execution_count": 55,
   "id": "therapeutic-viking",
   "metadata": {
    "execution": {
     "iopub.execute_input": "2021-03-25T14:10:17.265589Z",
     "iopub.status.busy": "2021-03-25T14:10:17.264291Z",
     "iopub.status.idle": "2021-03-25T14:10:17.274684Z",
     "shell.execute_reply": "2021-03-25T14:10:17.274183Z"
    }
   },
   "outputs": [
    {
     "data": {
      "image/svg+xml": [
       "<?xml version=\"1.0\" encoding=\"UTF-8\" standalone=\"no\"?><svg xmlns=\"http://www.w3.org/2000/svg\" xmlns:xlink=\"http://www.w3.org/1999/xlink\" contentScriptType=\"application/ecmascript\" contentStyleType=\"text/css\" height=\"12px\" preserveAspectRatio=\"none\" style=\"width:12px;height:12px;\" version=\"1.1\" viewBox=\"0 0 12 12\" width=\"12px\" zoomAndPan=\"magnify\"><defs/><g><!--MD5=[72934c63077099a26744516a776b4749]\n",
       "@startuml\r\n",
       "skinparam ranksep 8\r\n",
       "skinparam linetype ortho\r\n",
       "skinparam monochrome true\r\n",
       "skinparam classbackgroundcolor white\r\n",
       "skinparam shadowing false\r\n",
       "skinparam wrapWidth 300\r\n",
       "hide circle\r\n",
       "\r\n",
       "@enduml\r\n",
       "\n",
       "PlantUML version 1.2020.13(Sat Jun 13 12:26:38 UTC 2020)\n",
       "(EPL source distribution)\n",
       "Java Runtime: OpenJDK Runtime Environment\n",
       "JVM: OpenJDK 64-Bit Server VM\n",
       "Default Encoding: UTF-8\n",
       "Language: en\n",
       "Country: null\n",
       "--></g></svg>"
      ]
     },
     "execution_count": 55,
     "metadata": {},
     "output_type": "execute_result"
    }
   ],
   "source": [
    "%viz --style=\"ORTHOLINE\" --view=\"Action\" \"AliasTest\""
   ]
  },
  {
   "cell_type": "code",
   "execution_count": 56,
   "id": "dedicated-effectiveness",
   "metadata": {
    "execution": {
     "iopub.execute_input": "2021-03-25T14:10:17.325443Z",
     "iopub.status.busy": "2021-03-25T14:10:17.324621Z",
     "iopub.status.idle": "2021-03-25T14:10:17.878375Z",
     "shell.execute_reply": "2021-03-25T14:10:17.876789Z"
    }
   },
   "outputs": [
    {
     "data": {
      "image/svg+xml": [
       "<?xml version=\"1.0\" encoding=\"UTF-8\" standalone=\"no\"?><svg xmlns=\"http://www.w3.org/2000/svg\" xmlns:xlink=\"http://www.w3.org/1999/xlink\" contentScriptType=\"application/ecmascript\" contentStyleType=\"text/css\" height=\"293px\" preserveAspectRatio=\"none\" style=\"width:285px;height:293px;\" version=\"1.1\" viewBox=\"0 0 285 293\" width=\"285px\" zoomAndPan=\"magnify\"><defs/><g><!--MD5=[fbc87193dbaf4d95561dea2c320d4a47]\n",
       "cluster E1--><a href=\"psysml:e49964db-e340-4eba-a3a8-d7e4e465bce2\" target=\"_top\" title=\"psysml:e49964db-e340-4eba-a3a8-d7e4e465bce2\" xlink:actuate=\"onRequest\" xlink:href=\"psysml:e49964db-e340-4eba-a3a8-d7e4e465bce2\" xlink:show=\"new\" xlink:title=\"psysml:e49964db-e340-4eba-a3a8-d7e4e465bce2\" xlink:type=\"simple\"><polygon fill=\"#FFFFFF\" points=\"16,6,94,6,101,28.2969,263,28.2969,263,281,16,281,16,6\" style=\"stroke: #000000; stroke-width: 1.5;\"/><line style=\"stroke: #000000; stroke-width: 1.5;\" x1=\"16\" x2=\"101\" y1=\"28.2969\" y2=\"28.2969\"/><text fill=\"#000000\" font-family=\"sans-serif\" font-size=\"14\" font-weight=\"bold\" lengthAdjust=\"spacingAndGlyphs\" textLength=\"72\" x=\"20\" y=\"20.9951\">AliasTest</text></a><!--MD5=[b4997ac47864f28c2f74865a473b2911]\n",
       "class E2--><a href=\"psysml:c347ad09-22d6-4423-9bac-4dbac759901f\" target=\"_top\" title=\"psysml:c347ad09-22d6-4423-9bac-4dbac759901f\" xlink:actuate=\"onRequest\" xlink:href=\"psysml:c347ad09-22d6-4423-9bac-4dbac759901f\" xlink:show=\"new\" xlink:title=\"psysml:c347ad09-22d6-4423-9bac-4dbac759901f\" xlink:type=\"simple\"><rect fill=\"#FFFFFF\" height=\"75.5469\" id=\"E2\" style=\"stroke: #383838; stroke-width: 1.5;\" width=\"92\" x=\"93\" y=\"189\"/><text fill=\"#000000\" font-family=\"sans-serif\" font-size=\"12\" font-style=\"italic\" lengthAdjust=\"spacingAndGlyphs\" textLength=\"64\" x=\"107\" y=\"205.1387\">«part def»</text><text fill=\"#000000\" font-family=\"sans-serif\" font-size=\"12\" lengthAdjust=\"spacingAndGlyphs\" textLength=\"16\" x=\"131\" y=\"219.1074\">P1</text><line style=\"stroke: #383838; stroke-width: 1.5;\" x1=\"94\" x2=\"184\" y1=\"226.9375\" y2=\"226.9375\"/><text fill=\"#000000\" font-family=\"sans-serif\" font-size=\"11\" lengthAdjust=\"spacingAndGlyphs\" textLength=\"36\" x=\"99\" y=\"257.9526\">porig1</text><text fill=\"#000000\" font-family=\"sans-serif\" font-size=\"11\" font-weight=\"bold\" lengthAdjust=\"spacingAndGlyphs\" textLength=\"15\" x=\"139\" y=\"257.9526\">as</text><text fill=\"#000000\" font-family=\"sans-serif\" font-size=\"11\" lengthAdjust=\"spacingAndGlyphs\" textLength=\"21\" x=\"158\" y=\"257.9526\">po1</text><line style=\"stroke: #383838; stroke-width: 1.0;\" x1=\"94\" x2=\"124\" y1=\"241.3398\" y2=\"241.3398\"/><text fill=\"#000000\" font-family=\"sans-serif\" font-size=\"11\" lengthAdjust=\"spacingAndGlyphs\" textLength=\"30\" x=\"124\" y=\"244.6479\">ports</text><line style=\"stroke: #383838; stroke-width: 1.0;\" x1=\"154\" x2=\"184\" y1=\"241.3398\" y2=\"241.3398\"/></a><!--MD5=[ebbe1d658d1005bcc118a6aa81145e00]\n",
       "class E4--><a href=\"psysml:d449d8a1-a677-4f10-8ecb-a1ad1c680d6c\" target=\"_top\" title=\"psysml:d449d8a1-a677-4f10-8ecb-a1ad1c680d6c\" xlink:actuate=\"onRequest\" xlink:href=\"psysml:d449d8a1-a677-4f10-8ecb-a1ad1c680d6c\" xlink:show=\"new\" xlink:title=\"psysml:d449d8a1-a677-4f10-8ecb-a1ad1c680d6c\" xlink:type=\"simple\"><rect fill=\"#FFFFFF\" height=\"88.3516\" id=\"E4\" rx=\"10\" ry=\"10\" style=\"stroke: #383838; stroke-width: 1.5;\" width=\"92\" x=\"155\" y=\"41\"/><text fill=\"#000000\" font-family=\"sans-serif\" font-size=\"12\" font-style=\"italic\" lengthAdjust=\"spacingAndGlyphs\" textLength=\"40\" x=\"181\" y=\"57.1387\">«part»</text><text fill=\"#000000\" font-family=\"sans-serif\" font-size=\"12\" lengthAdjust=\"spacingAndGlyphs\" textLength=\"40\" x=\"181\" y=\"71.1074\">p1: P1</text><line style=\"stroke: #383838; stroke-width: 1.5;\" x1=\"156\" x2=\"246\" y1=\"78.9375\" y2=\"78.9375\"/><text fill=\"#000000\" font-family=\"sans-serif\" font-size=\"11\" lengthAdjust=\"spacingAndGlyphs\" textLength=\"21\" x=\"161\" y=\"109.9526\">po1</text><text fill=\"#000000\" font-family=\"sans-serif\" font-size=\"11\" font-style=\"italic\" lengthAdjust=\"spacingAndGlyphs\" textLength=\"80\" x=\"161\" y=\"122.7573\">:&gt;&gt;P1::porig1</text><line style=\"stroke: #383838; stroke-width: 1.0;\" x1=\"156\" x2=\"186\" y1=\"93.3398\" y2=\"93.3398\"/><text fill=\"#000000\" font-family=\"sans-serif\" font-size=\"11\" lengthAdjust=\"spacingAndGlyphs\" textLength=\"30\" x=\"186\" y=\"96.6479\">ports</text><line style=\"stroke: #383838; stroke-width: 1.0;\" x1=\"216\" x2=\"246\" y1=\"93.3398\" y2=\"93.3398\"/></a><!--MD5=[60a26617385b1d2d0262a64233df1f8d]\n",
       "class E6--><a href=\"psysml:32242b45-8d95-4b7d-97cb-8dd31296908f\" target=\"_top\" title=\"psysml:32242b45-8d95-4b7d-97cb-8dd31296908f\" xlink:actuate=\"onRequest\" xlink:href=\"psysml:32242b45-8d95-4b7d-97cb-8dd31296908f\" xlink:show=\"new\" xlink:title=\"psysml:32242b45-8d95-4b7d-97cb-8dd31296908f\" xlink:type=\"simple\"><rect fill=\"#FFFFFF\" height=\"75.5469\" id=\"E6\" rx=\"10\" ry=\"10\" style=\"stroke: #383838; stroke-width: 1.5;\" width=\"88\" x=\"32\" y=\"47\"/><text fill=\"#000000\" font-family=\"sans-serif\" font-size=\"12\" font-style=\"italic\" lengthAdjust=\"spacingAndGlyphs\" textLength=\"40\" x=\"56\" y=\"63.1387\">«part»</text><text fill=\"#000000\" font-family=\"sans-serif\" font-size=\"12\" lengthAdjust=\"spacingAndGlyphs\" textLength=\"40\" x=\"56\" y=\"77.1074\">p2: P1</text><line style=\"stroke: #383838; stroke-width: 1.5;\" x1=\"33\" x2=\"119\" y1=\"84.9375\" y2=\"84.9375\"/><text fill=\"#000000\" font-family=\"sans-serif\" font-size=\"11\" lengthAdjust=\"spacingAndGlyphs\" textLength=\"32\" x=\"38\" y=\"115.9526\">pdest</text><text fill=\"#000000\" font-family=\"sans-serif\" font-size=\"11\" font-weight=\"bold\" lengthAdjust=\"spacingAndGlyphs\" textLength=\"15\" x=\"74\" y=\"115.9526\">as</text><text fill=\"#000000\" font-family=\"sans-serif\" font-size=\"11\" lengthAdjust=\"spacingAndGlyphs\" textLength=\"21\" x=\"93\" y=\"115.9526\">pd1</text><line style=\"stroke: #383838; stroke-width: 1.0;\" x1=\"33\" x2=\"61\" y1=\"99.3398\" y2=\"99.3398\"/><text fill=\"#000000\" font-family=\"sans-serif\" font-size=\"11\" lengthAdjust=\"spacingAndGlyphs\" textLength=\"30\" x=\"61\" y=\"102.6479\">ports</text><line style=\"stroke: #383838; stroke-width: 1.0;\" x1=\"91\" x2=\"119\" y1=\"99.3398\" y2=\"99.3398\"/></a><!--MD5=[185131fc0dcab0a4505a2ebe144e961b]\n",
       "link E4 to E2--><a href=\"psysml:2d5875ca-6e79-47eb-af19-37e1c3e68f98\" target=\"_top\" title=\"psysml:2d5875ca-6e79-47eb-af19-37e1c3e68f98\" xlink:actuate=\"onRequest\" xlink:href=\"psysml:2d5875ca-6e79-47eb-af19-37e1c3e68f98\" xlink:show=\"new\" xlink:title=\"psysml:2d5875ca-6e79-47eb-af19-37e1c3e68f98\" xlink:type=\"simple\"><path d=\"M170,129.15 C170,129.15 170,168.63 170,168.63 \" fill=\"none\" id=\"E4-&gt;E2\" style=\"stroke: #383838; stroke-width: 1.0;\"/><polygon fill=\"#FFFFFF\" points=\"170,188.63,163,169.63,177,169.63,170,188.63\" style=\"stroke: #383838; stroke-width: 1.0;\"/><ellipse cx=\"165\" cy=\"163.93\" fill=\"#383838\" rx=\"2\" ry=\"2\" style=\"stroke: #383838; stroke-width: 1.0;\"/><ellipse cx=\"175\" cy=\"163.93\" fill=\"#383838\" rx=\"2\" ry=\"2\" style=\"stroke: #383838; stroke-width: 1.0;\"/></a><!--MD5=[2351f337d6de0f557b50152ba70847b5]\n",
       "link E6 to E2--><a href=\"psysml:6438d4a2-0b71-4be8-b1f1-dcd907944303\" target=\"_top\" title=\"psysml:6438d4a2-0b71-4be8-b1f1-dcd907944303\" xlink:actuate=\"onRequest\" xlink:href=\"psysml:6438d4a2-0b71-4be8-b1f1-dcd907944303\" xlink:show=\"new\" xlink:title=\"psysml:6438d4a2-0b71-4be8-b1f1-dcd907944303\" xlink:type=\"simple\"><path d=\"M106.5,123.05 C106.5,123.05 106.5,168.84 106.5,168.84 \" fill=\"none\" id=\"E6-&gt;E2\" style=\"stroke: #383838; stroke-width: 1.0;\"/><polygon fill=\"#FFFFFF\" points=\"106.5,188.84,99.5,169.84,113.5,169.84,106.5,188.84\" style=\"stroke: #383838; stroke-width: 1.0;\"/><ellipse cx=\"101.5\" cy=\"164.14\" fill=\"#383838\" rx=\"2\" ry=\"2\" style=\"stroke: #383838; stroke-width: 1.0;\"/><ellipse cx=\"111.5\" cy=\"164.14\" fill=\"#383838\" rx=\"2\" ry=\"2\" style=\"stroke: #383838; stroke-width: 1.0;\"/></a><!--MD5=[f4ffd8c3ad47dedfda58d6b4618a8e95]\n",
       "@startuml\r\n",
       "skinparam linetype ortho\r\n",
       "skinparam monochrome true\r\n",
       "skinparam classbackgroundcolor white\r\n",
       "skinparam shadowing false\r\n",
       "skinparam wrapWidth 300\r\n",
       "hide circle\r\n",
       "\r\n",
       "package \"AliasTest\" as E1  [[psysml:e49964db-e340-4eba-a3a8-d7e4e465bce2 ]]  {\r\n",
       "comp def \"P1\" as E2  <<(T,blue)part def>> [[psysml:c347ad09-22d6-4423-9bac-4dbac759901f ]] {\r\n",
       "- - ports - -\r\n",
       "porig1 <b>as</b> po1 \r\n",
       "}\r\n",
       "comp usage \"p1: P1\" as E4  <<(T,blue)part>> [[psysml:d449d8a1-a677-4f10-8ecb-a1ad1c680d6c ]] {\r\n",
       "- - ports - -\r\n",
       "po1\\n//:>>P1::porig1// \r\n",
       "}\r\n",
       "comp usage \"p2: P1\" as E6  <<(T,blue)part>> [[psysml:32242b45-8d95-4b7d-97cb-8dd31296908f ]] {\r\n",
       "- - ports - -\r\n",
       "pdest <b>as</b> pd1 \r\n",
       "}\r\n",
       "E4 - -:|> E2 [[psysml:2d5875ca-6e79-47eb-af19-37e1c3e68f98 ]] \r\n",
       "E6 - -:|> E2 [[psysml:6438d4a2-0b71-4be8-b1f1-dcd907944303 ]] \r\n",
       "}\r\n",
       "@enduml\r\n",
       "\n",
       "PlantUML version 1.2020.13(Sat Jun 13 12:26:38 UTC 2020)\n",
       "(EPL source distribution)\n",
       "Java Runtime: OpenJDK Runtime Environment\n",
       "JVM: OpenJDK 64-Bit Server VM\n",
       "Default Encoding: UTF-8\n",
       "Language: en\n",
       "Country: null\n",
       "--></g></svg>"
      ]
     },
     "execution_count": 56,
     "metadata": {},
     "output_type": "execute_result"
    }
   ],
   "source": [
    "%viz --style=\"ORTHOLINE\" --view=\"Sequence\" \"AliasTest\""
   ]
  },
  {
   "cell_type": "code",
   "execution_count": 57,
   "id": "swiss-commons",
   "metadata": {
    "execution": {
     "iopub.execute_input": "2021-03-25T14:10:17.929232Z",
     "iopub.status.busy": "2021-03-25T14:10:17.928539Z",
     "iopub.status.idle": "2021-03-25T14:10:18.480165Z",
     "shell.execute_reply": "2021-03-25T14:10:18.478711Z"
    }
   },
   "outputs": [
    {
     "data": {
      "image/svg+xml": [
       "<?xml version=\"1.0\" encoding=\"UTF-8\" standalone=\"no\"?><svg xmlns=\"http://www.w3.org/2000/svg\" xmlns:xlink=\"http://www.w3.org/1999/xlink\" contentScriptType=\"application/ecmascript\" contentStyleType=\"text/css\" height=\"293px\" preserveAspectRatio=\"none\" style=\"width:285px;height:293px;\" version=\"1.1\" viewBox=\"0 0 285 293\" width=\"285px\" zoomAndPan=\"magnify\"><defs/><g><!--MD5=[fbc87193dbaf4d95561dea2c320d4a47]\n",
       "cluster E1--><a href=\"psysml:e49964db-e340-4eba-a3a8-d7e4e465bce2\" target=\"_top\" title=\"psysml:e49964db-e340-4eba-a3a8-d7e4e465bce2\" xlink:actuate=\"onRequest\" xlink:href=\"psysml:e49964db-e340-4eba-a3a8-d7e4e465bce2\" xlink:show=\"new\" xlink:title=\"psysml:e49964db-e340-4eba-a3a8-d7e4e465bce2\" xlink:type=\"simple\"><polygon fill=\"#FFFFFF\" points=\"16,6,94,6,101,28.2969,263,28.2969,263,281,16,281,16,6\" style=\"stroke: #000000; stroke-width: 1.5;\"/><line style=\"stroke: #000000; stroke-width: 1.5;\" x1=\"16\" x2=\"101\" y1=\"28.2969\" y2=\"28.2969\"/><text fill=\"#000000\" font-family=\"sans-serif\" font-size=\"14\" font-weight=\"bold\" lengthAdjust=\"spacingAndGlyphs\" textLength=\"72\" x=\"20\" y=\"20.9951\">AliasTest</text></a><!--MD5=[b4997ac47864f28c2f74865a473b2911]\n",
       "class E2--><a href=\"psysml:c347ad09-22d6-4423-9bac-4dbac759901f\" target=\"_top\" title=\"psysml:c347ad09-22d6-4423-9bac-4dbac759901f\" xlink:actuate=\"onRequest\" xlink:href=\"psysml:c347ad09-22d6-4423-9bac-4dbac759901f\" xlink:show=\"new\" xlink:title=\"psysml:c347ad09-22d6-4423-9bac-4dbac759901f\" xlink:type=\"simple\"><rect fill=\"#FFFFFF\" height=\"75.5469\" id=\"E2\" style=\"stroke: #383838; stroke-width: 1.5;\" width=\"92\" x=\"93\" y=\"189\"/><text fill=\"#000000\" font-family=\"sans-serif\" font-size=\"12\" font-style=\"italic\" lengthAdjust=\"spacingAndGlyphs\" textLength=\"64\" x=\"107\" y=\"205.1387\">«part def»</text><text fill=\"#000000\" font-family=\"sans-serif\" font-size=\"12\" lengthAdjust=\"spacingAndGlyphs\" textLength=\"16\" x=\"131\" y=\"219.1074\">P1</text><line style=\"stroke: #383838; stroke-width: 1.5;\" x1=\"94\" x2=\"184\" y1=\"226.9375\" y2=\"226.9375\"/><text fill=\"#000000\" font-family=\"sans-serif\" font-size=\"11\" lengthAdjust=\"spacingAndGlyphs\" textLength=\"36\" x=\"99\" y=\"257.9526\">porig1</text><text fill=\"#000000\" font-family=\"sans-serif\" font-size=\"11\" font-weight=\"bold\" lengthAdjust=\"spacingAndGlyphs\" textLength=\"15\" x=\"139\" y=\"257.9526\">as</text><text fill=\"#000000\" font-family=\"sans-serif\" font-size=\"11\" lengthAdjust=\"spacingAndGlyphs\" textLength=\"21\" x=\"158\" y=\"257.9526\">po1</text><line style=\"stroke: #383838; stroke-width: 1.0;\" x1=\"94\" x2=\"124\" y1=\"241.3398\" y2=\"241.3398\"/><text fill=\"#000000\" font-family=\"sans-serif\" font-size=\"11\" lengthAdjust=\"spacingAndGlyphs\" textLength=\"30\" x=\"124\" y=\"244.6479\">ports</text><line style=\"stroke: #383838; stroke-width: 1.0;\" x1=\"154\" x2=\"184\" y1=\"241.3398\" y2=\"241.3398\"/></a><!--MD5=[ebbe1d658d1005bcc118a6aa81145e00]\n",
       "class E4--><a href=\"psysml:d449d8a1-a677-4f10-8ecb-a1ad1c680d6c\" target=\"_top\" title=\"psysml:d449d8a1-a677-4f10-8ecb-a1ad1c680d6c\" xlink:actuate=\"onRequest\" xlink:href=\"psysml:d449d8a1-a677-4f10-8ecb-a1ad1c680d6c\" xlink:show=\"new\" xlink:title=\"psysml:d449d8a1-a677-4f10-8ecb-a1ad1c680d6c\" xlink:type=\"simple\"><rect fill=\"#FFFFFF\" height=\"88.3516\" id=\"E4\" rx=\"10\" ry=\"10\" style=\"stroke: #383838; stroke-width: 1.5;\" width=\"92\" x=\"155\" y=\"41\"/><text fill=\"#000000\" font-family=\"sans-serif\" font-size=\"12\" font-style=\"italic\" lengthAdjust=\"spacingAndGlyphs\" textLength=\"40\" x=\"181\" y=\"57.1387\">«part»</text><text fill=\"#000000\" font-family=\"sans-serif\" font-size=\"12\" lengthAdjust=\"spacingAndGlyphs\" textLength=\"40\" x=\"181\" y=\"71.1074\">p1: P1</text><line style=\"stroke: #383838; stroke-width: 1.5;\" x1=\"156\" x2=\"246\" y1=\"78.9375\" y2=\"78.9375\"/><text fill=\"#000000\" font-family=\"sans-serif\" font-size=\"11\" lengthAdjust=\"spacingAndGlyphs\" textLength=\"21\" x=\"161\" y=\"109.9526\">po1</text><text fill=\"#000000\" font-family=\"sans-serif\" font-size=\"11\" font-style=\"italic\" lengthAdjust=\"spacingAndGlyphs\" textLength=\"80\" x=\"161\" y=\"122.7573\">:&gt;&gt;P1::porig1</text><line style=\"stroke: #383838; stroke-width: 1.0;\" x1=\"156\" x2=\"186\" y1=\"93.3398\" y2=\"93.3398\"/><text fill=\"#000000\" font-family=\"sans-serif\" font-size=\"11\" lengthAdjust=\"spacingAndGlyphs\" textLength=\"30\" x=\"186\" y=\"96.6479\">ports</text><line style=\"stroke: #383838; stroke-width: 1.0;\" x1=\"216\" x2=\"246\" y1=\"93.3398\" y2=\"93.3398\"/></a><!--MD5=[60a26617385b1d2d0262a64233df1f8d]\n",
       "class E6--><a href=\"psysml:32242b45-8d95-4b7d-97cb-8dd31296908f\" target=\"_top\" title=\"psysml:32242b45-8d95-4b7d-97cb-8dd31296908f\" xlink:actuate=\"onRequest\" xlink:href=\"psysml:32242b45-8d95-4b7d-97cb-8dd31296908f\" xlink:show=\"new\" xlink:title=\"psysml:32242b45-8d95-4b7d-97cb-8dd31296908f\" xlink:type=\"simple\"><rect fill=\"#FFFFFF\" height=\"75.5469\" id=\"E6\" rx=\"10\" ry=\"10\" style=\"stroke: #383838; stroke-width: 1.5;\" width=\"88\" x=\"32\" y=\"47\"/><text fill=\"#000000\" font-family=\"sans-serif\" font-size=\"12\" font-style=\"italic\" lengthAdjust=\"spacingAndGlyphs\" textLength=\"40\" x=\"56\" y=\"63.1387\">«part»</text><text fill=\"#000000\" font-family=\"sans-serif\" font-size=\"12\" lengthAdjust=\"spacingAndGlyphs\" textLength=\"40\" x=\"56\" y=\"77.1074\">p2: P1</text><line style=\"stroke: #383838; stroke-width: 1.5;\" x1=\"33\" x2=\"119\" y1=\"84.9375\" y2=\"84.9375\"/><text fill=\"#000000\" font-family=\"sans-serif\" font-size=\"11\" lengthAdjust=\"spacingAndGlyphs\" textLength=\"32\" x=\"38\" y=\"115.9526\">pdest</text><text fill=\"#000000\" font-family=\"sans-serif\" font-size=\"11\" font-weight=\"bold\" lengthAdjust=\"spacingAndGlyphs\" textLength=\"15\" x=\"74\" y=\"115.9526\">as</text><text fill=\"#000000\" font-family=\"sans-serif\" font-size=\"11\" lengthAdjust=\"spacingAndGlyphs\" textLength=\"21\" x=\"93\" y=\"115.9526\">pd1</text><line style=\"stroke: #383838; stroke-width: 1.0;\" x1=\"33\" x2=\"61\" y1=\"99.3398\" y2=\"99.3398\"/><text fill=\"#000000\" font-family=\"sans-serif\" font-size=\"11\" lengthAdjust=\"spacingAndGlyphs\" textLength=\"30\" x=\"61\" y=\"102.6479\">ports</text><line style=\"stroke: #383838; stroke-width: 1.0;\" x1=\"91\" x2=\"119\" y1=\"99.3398\" y2=\"99.3398\"/></a><!--MD5=[185131fc0dcab0a4505a2ebe144e961b]\n",
       "link E4 to E2--><a href=\"psysml:2d5875ca-6e79-47eb-af19-37e1c3e68f98\" target=\"_top\" title=\"psysml:2d5875ca-6e79-47eb-af19-37e1c3e68f98\" xlink:actuate=\"onRequest\" xlink:href=\"psysml:2d5875ca-6e79-47eb-af19-37e1c3e68f98\" xlink:show=\"new\" xlink:title=\"psysml:2d5875ca-6e79-47eb-af19-37e1c3e68f98\" xlink:type=\"simple\"><path d=\"M170,129.15 C170,129.15 170,168.63 170,168.63 \" fill=\"none\" id=\"E4-&gt;E2\" style=\"stroke: #383838; stroke-width: 1.0;\"/><polygon fill=\"#FFFFFF\" points=\"170,188.63,163,169.63,177,169.63,170,188.63\" style=\"stroke: #383838; stroke-width: 1.0;\"/><ellipse cx=\"165\" cy=\"163.93\" fill=\"#383838\" rx=\"2\" ry=\"2\" style=\"stroke: #383838; stroke-width: 1.0;\"/><ellipse cx=\"175\" cy=\"163.93\" fill=\"#383838\" rx=\"2\" ry=\"2\" style=\"stroke: #383838; stroke-width: 1.0;\"/></a><!--MD5=[2351f337d6de0f557b50152ba70847b5]\n",
       "link E6 to E2--><a href=\"psysml:6438d4a2-0b71-4be8-b1f1-dcd907944303\" target=\"_top\" title=\"psysml:6438d4a2-0b71-4be8-b1f1-dcd907944303\" xlink:actuate=\"onRequest\" xlink:href=\"psysml:6438d4a2-0b71-4be8-b1f1-dcd907944303\" xlink:show=\"new\" xlink:title=\"psysml:6438d4a2-0b71-4be8-b1f1-dcd907944303\" xlink:type=\"simple\"><path d=\"M106.5,123.05 C106.5,123.05 106.5,168.84 106.5,168.84 \" fill=\"none\" id=\"E6-&gt;E2\" style=\"stroke: #383838; stroke-width: 1.0;\"/><polygon fill=\"#FFFFFF\" points=\"106.5,188.84,99.5,169.84,113.5,169.84,106.5,188.84\" style=\"stroke: #383838; stroke-width: 1.0;\"/><ellipse cx=\"101.5\" cy=\"164.14\" fill=\"#383838\" rx=\"2\" ry=\"2\" style=\"stroke: #383838; stroke-width: 1.0;\"/><ellipse cx=\"111.5\" cy=\"164.14\" fill=\"#383838\" rx=\"2\" ry=\"2\" style=\"stroke: #383838; stroke-width: 1.0;\"/></a><!--MD5=[f4ffd8c3ad47dedfda58d6b4618a8e95]\n",
       "@startuml\r\n",
       "skinparam linetype ortho\r\n",
       "skinparam monochrome true\r\n",
       "skinparam classbackgroundcolor white\r\n",
       "skinparam shadowing false\r\n",
       "skinparam wrapWidth 300\r\n",
       "hide circle\r\n",
       "\r\n",
       "package \"AliasTest\" as E1  [[psysml:e49964db-e340-4eba-a3a8-d7e4e465bce2 ]]  {\r\n",
       "comp def \"P1\" as E2  <<(T,blue)part def>> [[psysml:c347ad09-22d6-4423-9bac-4dbac759901f ]] {\r\n",
       "- - ports - -\r\n",
       "porig1 <b>as</b> po1 \r\n",
       "}\r\n",
       "comp usage \"p1: P1\" as E4  <<(T,blue)part>> [[psysml:d449d8a1-a677-4f10-8ecb-a1ad1c680d6c ]] {\r\n",
       "- - ports - -\r\n",
       "po1\\n//:>>P1::porig1// \r\n",
       "}\r\n",
       "comp usage \"p2: P1\" as E6  <<(T,blue)part>> [[psysml:32242b45-8d95-4b7d-97cb-8dd31296908f ]] {\r\n",
       "- - ports - -\r\n",
       "pdest <b>as</b> pd1 \r\n",
       "}\r\n",
       "E4 - -:|> E2 [[psysml:2d5875ca-6e79-47eb-af19-37e1c3e68f98 ]] \r\n",
       "E6 - -:|> E2 [[psysml:6438d4a2-0b71-4be8-b1f1-dcd907944303 ]] \r\n",
       "}\r\n",
       "@enduml\r\n",
       "\n",
       "PlantUML version 1.2020.13(Sat Jun 13 12:26:38 UTC 2020)\n",
       "(EPL source distribution)\n",
       "Java Runtime: OpenJDK Runtime Environment\n",
       "JVM: OpenJDK 64-Bit Server VM\n",
       "Default Encoding: UTF-8\n",
       "Language: en\n",
       "Country: null\n",
       "--></g></svg>"
      ]
     },
     "execution_count": 57,
     "metadata": {},
     "output_type": "execute_result"
    }
   ],
   "source": [
    "%viz --style=\"ORTHOLINE\" --view=\"MIXED\" \"AliasTest\""
   ]
  }
 ],
 "metadata": {
  "kernelspec": {
   "display_name": "SysML",
   "language": "sysml",
   "name": "sysml"
  },
  "language_info": {
   "codemirror_mode": "sysml",
   "file_extension": ".sysml",
   "mimetype": "text/x-sysml",
   "name": "SysML",
   "pygments_lexer": "java",
   "version": "1.0.0"
  }
 },
 "nbformat": 4,
 "nbformat_minor": 5
}
