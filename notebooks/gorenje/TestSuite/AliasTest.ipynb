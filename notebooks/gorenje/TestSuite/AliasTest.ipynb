{
 "cells": [
  {
   "cell_type": "markdown",
   "id": "aadd986b",
   "metadata": {},
   "source": [
    "# SysML v2 Test Suite\n",
    "\n",
    "This can notebook can be cleared using menu `Edit --> Clear All Outputs` and then all cells can be\n",
    "run using menu `Run --> Run All Cells`.\n",
    "\n",
    "**WARNING**: This file is generated, all modifications here will be ignored.\n"
   ]
  },
  {
   "cell_type": "markdown",
   "id": "b08dbf1d",
   "metadata": {},
   "source": [
    "## File: ../../sysml/src/examples/Simple Tests/AliasTest.sysml"
   ]
  },
  {
   "cell_type": "code",
   "execution_count": 1,
   "id": "756626b6",
   "metadata": {
    "execution": {
     "iopub.execute_input": "2024-12-16T03:25:10.456480Z",
     "iopub.status.busy": "2024-12-16T03:25:10.454540Z",
     "iopub.status.idle": "2024-12-16T03:25:10.714684Z",
     "shell.execute_reply": "2024-12-16T03:25:10.714438Z"
    }
   },
   "outputs": [
    {
     "data": {
      "text/plain": [
       "Package AliasTest (a1c2986a-a425-4687-93ae-51674f2ada97)\n"
      ]
     },
     "execution_count": 1,
     "metadata": {},
     "output_type": "execute_result"
    }
   ],
   "source": [
    "package AliasTest {\n",
    "\tprivate import ISQSpaceTime::breadth; // import of an alias\n",
    "\tattribute b :> breadth;\n",
    "\t\n",
    "    part def P1 {\n",
    "        port porig1;\n",
    "        alias po1 for porig1;\n",
    "    }\n",
    "\n",
    "    part p1 : P1 {\n",
    "        port po1 :>> po1;\n",
    "    }\n",
    "\n",
    "    part p2 : P1 {\n",
    "        port pdest;\n",
    "        alias pd1 for pdest;\n",
    "    }\n",
    "\n",
    "\n",
    "    connect p1.po1 to p2.pdest;\n",
    "\tconnect p1.po1 to p2.pd1;\n",
    "}"
   ]
  },
  {
   "cell_type": "code",
   "execution_count": 2,
   "id": "aeff5915",
   "metadata": {
    "execution": {
     "iopub.execute_input": "2024-12-16T03:25:10.771740Z",
     "iopub.status.busy": "2024-12-16T03:25:10.771521Z",
     "iopub.status.idle": "2024-12-16T03:25:11.190906Z",
     "shell.execute_reply": "2024-12-16T03:25:11.189995Z"
    }
   },
   "outputs": [
    {
     "data": {
      "image/svg+xml": [
       "<?xml version=\"1.0\" encoding=\"UTF-8\" standalone=\"no\"?><svg xmlns=\"http://www.w3.org/2000/svg\" xmlns:xlink=\"http://www.w3.org/1999/xlink\" contentStyleType=\"text/css\" height=\"314px\" preserveAspectRatio=\"none\" style=\"width:554px;height:314px;background:#FFFFFF;\" version=\"1.1\" viewBox=\"0 0 554 314\" width=\"554px\" zoomAndPan=\"magnify\"><defs/><g><!--MD5=[fbc87193dbaf4d95561dea2c320d4a47]\n",
       "cluster E1--><g id=\"cluster_E1\"><a href=\"psysml:a1c2986a-a425-4687-93ae-51674f2ada97\" target=\"_top\" title=\"psysml:a1c2986a-a425-4687-93ae-51674f2ada97\" xlink:actuate=\"onRequest\" xlink:href=\"psysml:a1c2986a-a425-4687-93ae-51674f2ada97\" xlink:show=\"new\" xlink:title=\"psysml:a1c2986a-a425-4687-93ae-51674f2ada97\" xlink:type=\"simple\"><polygon fill=\"none\" points=\"16,6,87.9375,6,94.9375,28.2969,537,28.2969,537,307,16,307,16,6\" style=\"stroke:#000000;stroke-width:1.5;\"/><line style=\"stroke:#000000;stroke-width:1.5;\" x1=\"16\" x2=\"94.9375\" y1=\"28.2969\" y2=\"28.2969\"/><text fill=\"#000000\" font-family=\"sans-serif\" font-size=\"14\" font-weight=\"bold\" lengthAdjust=\"spacing\" textLength=\"65.9375\" x=\"20\" y=\"20.9951\">AliasTest</text></a></g><!--MD5=[b4997ac47864f28c2f74865a473b2911]\n",
       "class E2--><a href=\"psysml:f27707b2-90f2-4671-96dd-49a3cebd999e\" target=\"_top\" title=\"psysml:f27707b2-90f2-4671-96dd-49a3cebd999e\" xlink:actuate=\"onRequest\" xlink:href=\"psysml:f27707b2-90f2-4671-96dd-49a3cebd999e\" xlink:show=\"new\" xlink:title=\"psysml:f27707b2-90f2-4671-96dd-49a3cebd999e\" xlink:type=\"simple\"><g id=\"elem_E2\"><rect fill=\"#FFFFFF\" height=\"48.2656\" id=\"E2\" rx=\"10\" ry=\"10\" style=\"stroke:#181818;stroke-width:0.5;\" width=\"187\" x=\"334.5\" y=\"64.5\"/><text fill=\"#000000\" font-family=\"sans-serif\" font-size=\"12\" font-style=\"italic\" lengthAdjust=\"spacing\" textLength=\"69\" x=\"393.5\" y=\"80.6387\">«attribute»</text><text fill=\"#000000\" font-family=\"sans-serif\" font-size=\"14\" lengthAdjust=\"spacing\" textLength=\"177\" x=\"337.5\" y=\"96.4639\">b :&gt;ISQSpaceTime::width</text><line style=\"stroke:#181818;stroke-width:0.5;\" x1=\"335.5\" x2=\"520.5\" y1=\"104.7656\" y2=\"104.7656\"/></g></a><!--MD5=[09b614a08d8cba4a07c9adeb5e0fee81]\n",
       "class E3--><a href=\"psysml:d64d4abf-692a-4b0a-b1a7-ca6bfa2152dc\" target=\"_top\" title=\"psysml:d64d4abf-692a-4b0a-b1a7-ca6bfa2152dc\" xlink:actuate=\"onRequest\" xlink:href=\"psysml:d64d4abf-692a-4b0a-b1a7-ca6bfa2152dc\" xlink:show=\"new\" xlink:title=\"psysml:d64d4abf-692a-4b0a-b1a7-ca6bfa2152dc\" xlink:type=\"simple\"><g id=\"elem_E3\"><rect fill=\"#FFFFFF\" height=\"95.3781\" id=\"E3\" style=\"stroke:#181818;stroke-width:0.5;\" width=\"123.1875\" x=\"106.5\" y=\"196\"/><text fill=\"#000000\" font-family=\"sans-serif\" font-size=\"12\" font-style=\"italic\" lengthAdjust=\"spacing\" textLength=\"68\" x=\"134.0938\" y=\"212.1387\">«part  def»</text><text fill=\"#000000\" font-family=\"sans-serif\" font-size=\"14\" lengthAdjust=\"spacing\" textLength=\"18\" x=\"159.0938\" y=\"227.9639\">P1</text><line style=\"stroke:#181818;stroke-width:0.5;\" x1=\"107.5\" x2=\"228.6875\" y1=\"236.2656\" y2=\"236.2656\"/><text fill=\"#000000\" font-family=\"sans-serif\" font-size=\"14\" lengthAdjust=\"spacing\" textLength=\"44\" x=\"112.5\" y=\"263.7795\">porig1</text><text fill=\"#000000\" font-family=\"sans-serif\" font-size=\"14\" font-weight=\"bold\" lengthAdjust=\"spacing\" textLength=\"32.1875\" x=\"160.5\" y=\"263.7795\">alias</text><text fill=\"#000000\" font-family=\"sans-serif\" font-size=\"14\" lengthAdjust=\"spacing\" textLength=\"27\" x=\"196.6875\" y=\"263.7795\">po1</text><text fill=\"#000000\" font-family=\"sans-serif\" font-size=\"14\" font-style=\"italic\" lengthAdjust=\"spacing\" textLength=\"36\" x=\"150.0938\" y=\"248.6123\">ports</text><text fill=\"#000000\" font-family=\"sans-serif\" font-size=\"14\" lengthAdjust=\"spacing\" textLength=\"4\" x=\"124.5\" y=\"286.0764\"> </text><rect fill=\"#FFFFFF\" height=\"2\" style=\"stroke:#000000;stroke-width:1.0;\" width=\"2\" x=\"121.5\" y=\"280.2297\"/><line style=\"stroke:#000000;stroke-width:1.0;\" x1=\"114.5\" x2=\"122.5\" y1=\"281.2297\" y2=\"281.2297\"/><line style=\"stroke:#000000;stroke-width:1.0;\" x1=\"114.5\" x2=\"114.5\" y1=\"273.0813\" y2=\"281.2297\"/></g></a><!--MD5=[ebbe1d658d1005bcc118a6aa81145e00]\n",
       "class E4--><a href=\"psysml:e8b71076-5181-45d8-952d-6c6c3b8ab27b\" target=\"_top\" title=\"psysml:e8b71076-5181-45d8-952d-6c6c3b8ab27b\" xlink:actuate=\"onRequest\" xlink:href=\"psysml:e8b71076-5181-45d8-952d-6c6c3b8ab27b\" xlink:show=\"new\" xlink:title=\"psysml:e8b71076-5181-45d8-952d-6c6c3b8ab27b\" xlink:type=\"simple\"><g id=\"elem_E4\"><rect fill=\"#FFFFFF\" height=\"91.3781\" id=\"E4\" rx=\"10\" ry=\"10\" style=\"stroke:#181818;stroke-width:0.5;\" width=\"113\" x=\"186.5\" y=\"43\"/><text fill=\"#000000\" font-family=\"sans-serif\" font-size=\"12\" font-style=\"italic\" lengthAdjust=\"spacing\" textLength=\"40\" x=\"223\" y=\"59.1387\">«part»</text><text fill=\"#000000\" font-family=\"sans-serif\" font-size=\"14\" lengthAdjust=\"spacing\" textLength=\"45\" x=\"216.5\" y=\"74.9639\">p1: P1</text><line style=\"stroke:#181818;stroke-width:0.5;\" x1=\"187.5\" x2=\"298.5\" y1=\"83.2656\" y2=\"83.2656\"/><text fill=\"#000000\" font-family=\"sans-serif\" font-size=\"14\" lengthAdjust=\"spacing\" textLength=\"27\" x=\"192.5\" y=\"110.7795\">po1</text><text fill=\"#000000\" font-family=\"sans-serif\" font-size=\"14\" font-style=\"italic\" lengthAdjust=\"spacing\" textLength=\"101\" x=\"192.5\" y=\"127.0764\">:&gt;&gt;P1::porig1</text><text fill=\"#000000\" font-family=\"sans-serif\" font-size=\"14\" font-style=\"italic\" lengthAdjust=\"spacing\" textLength=\"36\" x=\"225\" y=\"95.6123\">ports</text></g></a><!--MD5=[270fce915f116d4de14055a7c1d9a0f3]\n",
       "class E5--><a href=\"psysml:8277226e-c173-411e-8d8e-d31bb811c94b\" target=\"_top\" title=\"psysml:8277226e-c173-411e-8d8e-d31bb811c94b\" xlink:actuate=\"onRequest\" xlink:href=\"psysml:8277226e-c173-411e-8d8e-d31bb811c94b\" xlink:show=\"new\" xlink:title=\"psysml:8277226e-c173-411e-8d8e-d31bb811c94b\" xlink:type=\"simple\"><g id=\"elem_E5\"><rect fill=\"#FFFFFF\" height=\"95.3781\" id=\"E5\" rx=\"10\" ry=\"10\" style=\"stroke:#181818;stroke-width:0.5;\" width=\"119.1875\" x=\"32.5\" y=\"41\"/><text fill=\"#000000\" font-family=\"sans-serif\" font-size=\"12\" font-style=\"italic\" lengthAdjust=\"spacing\" textLength=\"40\" x=\"72.0938\" y=\"57.1387\">«part»</text><text fill=\"#000000\" font-family=\"sans-serif\" font-size=\"14\" lengthAdjust=\"spacing\" textLength=\"45\" x=\"65.5938\" y=\"72.9639\">p2: P1</text><line style=\"stroke:#181818;stroke-width:0.5;\" x1=\"33.5\" x2=\"150.6875\" y1=\"81.2656\" y2=\"81.2656\"/><text fill=\"#000000\" font-family=\"sans-serif\" font-size=\"14\" lengthAdjust=\"spacing\" textLength=\"40\" x=\"38.5\" y=\"108.7795\">pdest</text><text fill=\"#000000\" font-family=\"sans-serif\" font-size=\"14\" font-weight=\"bold\" lengthAdjust=\"spacing\" textLength=\"32.1875\" x=\"82.5\" y=\"108.7795\">alias</text><text fill=\"#000000\" font-family=\"sans-serif\" font-size=\"14\" lengthAdjust=\"spacing\" textLength=\"27\" x=\"118.6875\" y=\"108.7795\">pd1</text><text fill=\"#000000\" font-family=\"sans-serif\" font-size=\"14\" font-style=\"italic\" lengthAdjust=\"spacing\" textLength=\"36\" x=\"74.0938\" y=\"93.6123\">ports</text><text fill=\"#000000\" font-family=\"sans-serif\" font-size=\"14\" lengthAdjust=\"spacing\" textLength=\"4\" x=\"50.5\" y=\"131.0764\"> </text><rect fill=\"#FFFFFF\" height=\"2\" style=\"stroke:#000000;stroke-width:1.0;\" width=\"2\" x=\"47.5\" y=\"125.2297\"/><line style=\"stroke:#000000;stroke-width:1.0;\" x1=\"40.5\" x2=\"48.5\" y1=\"126.2297\" y2=\"126.2297\"/><line style=\"stroke:#000000;stroke-width:1.0;\" x1=\"40.5\" x2=\"40.5\" y1=\"118.0813\" y2=\"126.2297\"/></g></a><!--MD5=[f0cdf4548168e5211fb3a02bf679d63a]\n",
       "link E4 to E3--><g id=\"link_E4_E3\"><a href=\"psysml:515868c5-6015-4da5-b3ff-32117e872914\" target=\"_top\" title=\"psysml:515868c5-6015-4da5-b3ff-32117e872914\" xlink:actuate=\"onRequest\" xlink:href=\"psysml:515868c5-6015-4da5-b3ff-32117e872914\" xlink:show=\"new\" xlink:title=\"psysml:515868c5-6015-4da5-b3ff-32117e872914\" xlink:type=\"simple\"><path d=\"M221.11,134.17 C214.42,147.81 206.92,163.1 199.72,177.79 \" fill=\"none\" id=\"E4-to-E3\" style=\"stroke:#181818;stroke-width:1.0;\"/><polygon fill=\"#FFFFFF\" points=\"190.84,195.92,192.9153,175.7782,205.4868,181.9389,190.84,195.92\" style=\"stroke:#181818;stroke-width:1.0;\"/><ellipse cx=\"197.2195\" cy=\"171.5398\" fill=\"#181818\" rx=\"2\" ry=\"2\" style=\"stroke:#181818;stroke-width:1.0;\"/><ellipse cx=\"206.1992\" cy=\"175.9404\" fill=\"#181818\" rx=\"2\" ry=\"2\" style=\"stroke:#181818;stroke-width:1.0;\"/></a></g><!--MD5=[e9be52314489bd878ff4c7144b63c9e1]\n",
       "link E5 to E3--><g id=\"link_E5_E3\"><a href=\"psysml:e2fe589c-f14e-47a5-aaf0-9a8ebd450a7c\" target=\"_top\" title=\"psysml:e2fe589c-f14e-47a5-aaf0-9a8ebd450a7c\" xlink:actuate=\"onRequest\" xlink:href=\"psysml:e2fe589c-f14e-47a5-aaf0-9a8ebd450a7c\" xlink:show=\"new\" xlink:title=\"psysml:e2fe589c-f14e-47a5-aaf0-9a8ebd450a7c\" xlink:type=\"simple\"><path d=\"M115.22,136.24 C121.67,149.23 128.79,163.57 135.67,177.41 \" fill=\"none\" id=\"E5-to-E3\" style=\"stroke:#181818;stroke-width:1.0;\"/><polygon fill=\"#FFFFFF\" points=\"144.8,195.79,130.0774,181.8887,142.6154,175.6597,144.8,195.79\" style=\"stroke:#181818;stroke-width:1.0;\"/><ellipse cx=\"129.3325\" cy=\"175.8941\" fill=\"#181818\" rx=\"2\" ry=\"2\" style=\"stroke:#181818;stroke-width:1.0;\"/><ellipse cx=\"138.2881\" cy=\"171.4449\" fill=\"#181818\" rx=\"2\" ry=\"2\" style=\"stroke:#181818;stroke-width:1.0;\"/></a></g><!--MD5=[41aa565e5c2803ea2b9883361257edb7]\n",
       "@startuml\r\n",
       "skin sysmlbw\r\n",
       "skinparam monochrome true\r\n",
       "skinparam wrapWidth 300\r\n",
       "hide circle\r\n",
       " \r\n",
       "package \"AliasTest\" as E1  [[psysml:a1c2986a-a425-4687-93ae-51674f2ada97 ]]  {\r\n",
       "comp usage \"b :>ISQSpaceTime::width \" as E2  <<(T,blue) attribute>> [[psysml:f27707b2-90f2-4671-96dd-49a3cebd999e ]] {\r\n",
       "}\r\n",
       "comp def \"P1\" as E3  <<(T,blue) part  def>> [[psysml:d64d4abf-692a-4b0a-b1a7-ca6bfa2152dc ]] {\r\n",
       "##//ports//##\r\n",
       "porig1 <b>alias</b> po1 \r\n",
       "|_ \r\n",
       "}\r\n",
       "comp usage \"p1: P1  \" as E4  <<(T,blue) part>> [[psysml:e8b71076-5181-45d8-952d-6c6c3b8ab27b ]] {\r\n",
       "##//ports//##\r\n",
       "po1\\n//:>>P1::porig1// \r\n",
       "}\r\n",
       "comp usage \"p2: P1  \" as E5  <<(T,blue) part>> [[psysml:8277226e-c173-411e-8d8e-d31bb811c94b ]] {\r\n",
       "##//ports//##\r\n",
       "pdest <b>alias</b> pd1 \r\n",
       "|_ \r\n",
       "}\r\n",
       "}\r\n",
       "E4 - -:|> E3 [[psysml:515868c5-6015-4da5-b3ff-32117e872914 ]] \r\n",
       "E5 - -:|> E3 [[psysml:e2fe589c-f14e-47a5-aaf0-9a8ebd450a7c ]] \r\n",
       "@enduml\r\n",
       "\n",
       "PlantUML version 1.2022.7(Mon Aug 22 17:01:30 UTC 2022)\n",
       "(EPL source distribution)\n",
       "Java Runtime: OpenJDK Runtime Environment\n",
       "JVM: OpenJDK 64-Bit Server VM\n",
       "Default Encoding: UTF-8\n",
       "Language: en\n",
       "Country: null\n",
       "--></g></svg>"
      ]
     },
     "execution_count": 2,
     "metadata": {},
     "output_type": "execute_result"
    }
   ],
   "source": [
    "%viz --style=\"COMPTREE\" --view=\"Default\" \"AliasTest\""
   ]
  },
  {
   "cell_type": "code",
   "execution_count": 3,
   "id": "36c715c6",
   "metadata": {
    "execution": {
     "iopub.execute_input": "2024-12-16T03:25:11.247215Z",
     "iopub.status.busy": "2024-12-16T03:25:11.246984Z",
     "iopub.status.idle": "2024-12-16T03:25:11.300290Z",
     "shell.execute_reply": "2024-12-16T03:25:11.300425Z"
    }
   },
   "outputs": [
    {
     "data": {
      "image/svg+xml": [
       "<?xml version=\"1.0\" encoding=\"UTF-8\" standalone=\"no\"?><svg xmlns=\"http://www.w3.org/2000/svg\" xmlns:xlink=\"http://www.w3.org/1999/xlink\" contentStyleType=\"text/css\" height=\"314px\" preserveAspectRatio=\"none\" style=\"width:554px;height:314px;background:#FFFFFF;\" version=\"1.1\" viewBox=\"0 0 554 314\" width=\"554px\" zoomAndPan=\"magnify\"><defs/><g><!--MD5=[fbc87193dbaf4d95561dea2c320d4a47]\n",
       "cluster E1--><g id=\"cluster_E1\"><a href=\"psysml:a1c2986a-a425-4687-93ae-51674f2ada97\" target=\"_top\" title=\"psysml:a1c2986a-a425-4687-93ae-51674f2ada97\" xlink:actuate=\"onRequest\" xlink:href=\"psysml:a1c2986a-a425-4687-93ae-51674f2ada97\" xlink:show=\"new\" xlink:title=\"psysml:a1c2986a-a425-4687-93ae-51674f2ada97\" xlink:type=\"simple\"><polygon fill=\"none\" points=\"16,6,87.9375,6,94.9375,28.2969,537,28.2969,537,307,16,307,16,6\" style=\"stroke:#000000;stroke-width:1.5;\"/><line style=\"stroke:#000000;stroke-width:1.5;\" x1=\"16\" x2=\"94.9375\" y1=\"28.2969\" y2=\"28.2969\"/><text fill=\"#000000\" font-family=\"sans-serif\" font-size=\"14\" font-weight=\"bold\" lengthAdjust=\"spacing\" textLength=\"65.9375\" x=\"20\" y=\"20.9951\">AliasTest</text></a></g><!--MD5=[b4997ac47864f28c2f74865a473b2911]\n",
       "class E2--><a href=\"psysml:f27707b2-90f2-4671-96dd-49a3cebd999e\" target=\"_top\" title=\"psysml:f27707b2-90f2-4671-96dd-49a3cebd999e\" xlink:actuate=\"onRequest\" xlink:href=\"psysml:f27707b2-90f2-4671-96dd-49a3cebd999e\" xlink:show=\"new\" xlink:title=\"psysml:f27707b2-90f2-4671-96dd-49a3cebd999e\" xlink:type=\"simple\"><g id=\"elem_E2\"><rect fill=\"#FFFFFF\" height=\"48.2656\" id=\"E2\" rx=\"10\" ry=\"10\" style=\"stroke:#181818;stroke-width:0.5;\" width=\"187\" x=\"334.5\" y=\"64.5\"/><text fill=\"#000000\" font-family=\"sans-serif\" font-size=\"12\" font-style=\"italic\" lengthAdjust=\"spacing\" textLength=\"69\" x=\"393.5\" y=\"80.6387\">«attribute»</text><text fill=\"#000000\" font-family=\"sans-serif\" font-size=\"14\" lengthAdjust=\"spacing\" textLength=\"177\" x=\"337.5\" y=\"96.4639\">b :&gt;ISQSpaceTime::width</text><line style=\"stroke:#181818;stroke-width:0.5;\" x1=\"335.5\" x2=\"520.5\" y1=\"104.7656\" y2=\"104.7656\"/></g></a><!--MD5=[09b614a08d8cba4a07c9adeb5e0fee81]\n",
       "class E3--><a href=\"psysml:d64d4abf-692a-4b0a-b1a7-ca6bfa2152dc\" target=\"_top\" title=\"psysml:d64d4abf-692a-4b0a-b1a7-ca6bfa2152dc\" xlink:actuate=\"onRequest\" xlink:href=\"psysml:d64d4abf-692a-4b0a-b1a7-ca6bfa2152dc\" xlink:show=\"new\" xlink:title=\"psysml:d64d4abf-692a-4b0a-b1a7-ca6bfa2152dc\" xlink:type=\"simple\"><g id=\"elem_E3\"><rect fill=\"#FFFFFF\" height=\"95.3781\" id=\"E3\" style=\"stroke:#181818;stroke-width:0.5;\" width=\"123.1875\" x=\"106.5\" y=\"196\"/><text fill=\"#000000\" font-family=\"sans-serif\" font-size=\"12\" font-style=\"italic\" lengthAdjust=\"spacing\" textLength=\"68\" x=\"134.0938\" y=\"212.1387\">«part  def»</text><text fill=\"#000000\" font-family=\"sans-serif\" font-size=\"14\" lengthAdjust=\"spacing\" textLength=\"18\" x=\"159.0938\" y=\"227.9639\">P1</text><line style=\"stroke:#181818;stroke-width:0.5;\" x1=\"107.5\" x2=\"228.6875\" y1=\"236.2656\" y2=\"236.2656\"/><text fill=\"#000000\" font-family=\"sans-serif\" font-size=\"14\" lengthAdjust=\"spacing\" textLength=\"44\" x=\"112.5\" y=\"263.7795\">porig1</text><text fill=\"#000000\" font-family=\"sans-serif\" font-size=\"14\" font-weight=\"bold\" lengthAdjust=\"spacing\" textLength=\"32.1875\" x=\"160.5\" y=\"263.7795\">alias</text><text fill=\"#000000\" font-family=\"sans-serif\" font-size=\"14\" lengthAdjust=\"spacing\" textLength=\"27\" x=\"196.6875\" y=\"263.7795\">po1</text><text fill=\"#000000\" font-family=\"sans-serif\" font-size=\"14\" font-style=\"italic\" lengthAdjust=\"spacing\" textLength=\"36\" x=\"150.0938\" y=\"248.6123\">ports</text><text fill=\"#000000\" font-family=\"sans-serif\" font-size=\"14\" lengthAdjust=\"spacing\" textLength=\"4\" x=\"124.5\" y=\"286.0764\"> </text><rect fill=\"#FFFFFF\" height=\"2\" style=\"stroke:#000000;stroke-width:1.0;\" width=\"2\" x=\"121.5\" y=\"280.2297\"/><line style=\"stroke:#000000;stroke-width:1.0;\" x1=\"114.5\" x2=\"122.5\" y1=\"281.2297\" y2=\"281.2297\"/><line style=\"stroke:#000000;stroke-width:1.0;\" x1=\"114.5\" x2=\"114.5\" y1=\"273.0813\" y2=\"281.2297\"/></g></a><!--MD5=[ebbe1d658d1005bcc118a6aa81145e00]\n",
       "class E4--><a href=\"psysml:e8b71076-5181-45d8-952d-6c6c3b8ab27b\" target=\"_top\" title=\"psysml:e8b71076-5181-45d8-952d-6c6c3b8ab27b\" xlink:actuate=\"onRequest\" xlink:href=\"psysml:e8b71076-5181-45d8-952d-6c6c3b8ab27b\" xlink:show=\"new\" xlink:title=\"psysml:e8b71076-5181-45d8-952d-6c6c3b8ab27b\" xlink:type=\"simple\"><g id=\"elem_E4\"><rect fill=\"#FFFFFF\" height=\"91.3781\" id=\"E4\" rx=\"10\" ry=\"10\" style=\"stroke:#181818;stroke-width:0.5;\" width=\"113\" x=\"186.5\" y=\"43\"/><text fill=\"#000000\" font-family=\"sans-serif\" font-size=\"12\" font-style=\"italic\" lengthAdjust=\"spacing\" textLength=\"40\" x=\"223\" y=\"59.1387\">«part»</text><text fill=\"#000000\" font-family=\"sans-serif\" font-size=\"14\" lengthAdjust=\"spacing\" textLength=\"45\" x=\"216.5\" y=\"74.9639\">p1: P1</text><line style=\"stroke:#181818;stroke-width:0.5;\" x1=\"187.5\" x2=\"298.5\" y1=\"83.2656\" y2=\"83.2656\"/><text fill=\"#000000\" font-family=\"sans-serif\" font-size=\"14\" lengthAdjust=\"spacing\" textLength=\"27\" x=\"192.5\" y=\"110.7795\">po1</text><text fill=\"#000000\" font-family=\"sans-serif\" font-size=\"14\" font-style=\"italic\" lengthAdjust=\"spacing\" textLength=\"101\" x=\"192.5\" y=\"127.0764\">:&gt;&gt;P1::porig1</text><text fill=\"#000000\" font-family=\"sans-serif\" font-size=\"14\" font-style=\"italic\" lengthAdjust=\"spacing\" textLength=\"36\" x=\"225\" y=\"95.6123\">ports</text></g></a><!--MD5=[270fce915f116d4de14055a7c1d9a0f3]\n",
       "class E5--><a href=\"psysml:8277226e-c173-411e-8d8e-d31bb811c94b\" target=\"_top\" title=\"psysml:8277226e-c173-411e-8d8e-d31bb811c94b\" xlink:actuate=\"onRequest\" xlink:href=\"psysml:8277226e-c173-411e-8d8e-d31bb811c94b\" xlink:show=\"new\" xlink:title=\"psysml:8277226e-c173-411e-8d8e-d31bb811c94b\" xlink:type=\"simple\"><g id=\"elem_E5\"><rect fill=\"#FFFFFF\" height=\"95.3781\" id=\"E5\" rx=\"10\" ry=\"10\" style=\"stroke:#181818;stroke-width:0.5;\" width=\"119.1875\" x=\"32.5\" y=\"41\"/><text fill=\"#000000\" font-family=\"sans-serif\" font-size=\"12\" font-style=\"italic\" lengthAdjust=\"spacing\" textLength=\"40\" x=\"72.0938\" y=\"57.1387\">«part»</text><text fill=\"#000000\" font-family=\"sans-serif\" font-size=\"14\" lengthAdjust=\"spacing\" textLength=\"45\" x=\"65.5938\" y=\"72.9639\">p2: P1</text><line style=\"stroke:#181818;stroke-width:0.5;\" x1=\"33.5\" x2=\"150.6875\" y1=\"81.2656\" y2=\"81.2656\"/><text fill=\"#000000\" font-family=\"sans-serif\" font-size=\"14\" lengthAdjust=\"spacing\" textLength=\"40\" x=\"38.5\" y=\"108.7795\">pdest</text><text fill=\"#000000\" font-family=\"sans-serif\" font-size=\"14\" font-weight=\"bold\" lengthAdjust=\"spacing\" textLength=\"32.1875\" x=\"82.5\" y=\"108.7795\">alias</text><text fill=\"#000000\" font-family=\"sans-serif\" font-size=\"14\" lengthAdjust=\"spacing\" textLength=\"27\" x=\"118.6875\" y=\"108.7795\">pd1</text><text fill=\"#000000\" font-family=\"sans-serif\" font-size=\"14\" font-style=\"italic\" lengthAdjust=\"spacing\" textLength=\"36\" x=\"74.0938\" y=\"93.6123\">ports</text><text fill=\"#000000\" font-family=\"sans-serif\" font-size=\"14\" lengthAdjust=\"spacing\" textLength=\"4\" x=\"50.5\" y=\"131.0764\"> </text><rect fill=\"#FFFFFF\" height=\"2\" style=\"stroke:#000000;stroke-width:1.0;\" width=\"2\" x=\"47.5\" y=\"125.2297\"/><line style=\"stroke:#000000;stroke-width:1.0;\" x1=\"40.5\" x2=\"48.5\" y1=\"126.2297\" y2=\"126.2297\"/><line style=\"stroke:#000000;stroke-width:1.0;\" x1=\"40.5\" x2=\"40.5\" y1=\"118.0813\" y2=\"126.2297\"/></g></a><!--MD5=[f0cdf4548168e5211fb3a02bf679d63a]\n",
       "link E4 to E3--><g id=\"link_E4_E3\"><a href=\"psysml:515868c5-6015-4da5-b3ff-32117e872914\" target=\"_top\" title=\"psysml:515868c5-6015-4da5-b3ff-32117e872914\" xlink:actuate=\"onRequest\" xlink:href=\"psysml:515868c5-6015-4da5-b3ff-32117e872914\" xlink:show=\"new\" xlink:title=\"psysml:515868c5-6015-4da5-b3ff-32117e872914\" xlink:type=\"simple\"><path d=\"M221.11,134.17 C214.42,147.81 206.92,163.1 199.72,177.79 \" fill=\"none\" id=\"E4-to-E3\" style=\"stroke:#181818;stroke-width:1.0;\"/><polygon fill=\"#FFFFFF\" points=\"190.84,195.92,192.9153,175.7782,205.4868,181.9389,190.84,195.92\" style=\"stroke:#181818;stroke-width:1.0;\"/><ellipse cx=\"197.2195\" cy=\"171.5398\" fill=\"#181818\" rx=\"2\" ry=\"2\" style=\"stroke:#181818;stroke-width:1.0;\"/><ellipse cx=\"206.1992\" cy=\"175.9404\" fill=\"#181818\" rx=\"2\" ry=\"2\" style=\"stroke:#181818;stroke-width:1.0;\"/></a></g><!--MD5=[e9be52314489bd878ff4c7144b63c9e1]\n",
       "link E5 to E3--><g id=\"link_E5_E3\"><a href=\"psysml:e2fe589c-f14e-47a5-aaf0-9a8ebd450a7c\" target=\"_top\" title=\"psysml:e2fe589c-f14e-47a5-aaf0-9a8ebd450a7c\" xlink:actuate=\"onRequest\" xlink:href=\"psysml:e2fe589c-f14e-47a5-aaf0-9a8ebd450a7c\" xlink:show=\"new\" xlink:title=\"psysml:e2fe589c-f14e-47a5-aaf0-9a8ebd450a7c\" xlink:type=\"simple\"><path d=\"M115.22,136.24 C121.67,149.23 128.79,163.57 135.67,177.41 \" fill=\"none\" id=\"E5-to-E3\" style=\"stroke:#181818;stroke-width:1.0;\"/><polygon fill=\"#FFFFFF\" points=\"144.8,195.79,130.0774,181.8887,142.6154,175.6597,144.8,195.79\" style=\"stroke:#181818;stroke-width:1.0;\"/><ellipse cx=\"129.3325\" cy=\"175.8941\" fill=\"#181818\" rx=\"2\" ry=\"2\" style=\"stroke:#181818;stroke-width:1.0;\"/><ellipse cx=\"138.2881\" cy=\"171.4449\" fill=\"#181818\" rx=\"2\" ry=\"2\" style=\"stroke:#181818;stroke-width:1.0;\"/></a></g><!--MD5=[41aa565e5c2803ea2b9883361257edb7]\n",
       "@startuml\r\n",
       "skin sysmlbw\r\n",
       "skinparam monochrome true\r\n",
       "skinparam wrapWidth 300\r\n",
       "hide circle\r\n",
       " \r\n",
       "package \"AliasTest\" as E1  [[psysml:a1c2986a-a425-4687-93ae-51674f2ada97 ]]  {\r\n",
       "comp usage \"b :>ISQSpaceTime::width \" as E2  <<(T,blue) attribute>> [[psysml:f27707b2-90f2-4671-96dd-49a3cebd999e ]] {\r\n",
       "}\r\n",
       "comp def \"P1\" as E3  <<(T,blue) part  def>> [[psysml:d64d4abf-692a-4b0a-b1a7-ca6bfa2152dc ]] {\r\n",
       "##//ports//##\r\n",
       "porig1 <b>alias</b> po1 \r\n",
       "|_ \r\n",
       "}\r\n",
       "comp usage \"p1: P1  \" as E4  <<(T,blue) part>> [[psysml:e8b71076-5181-45d8-952d-6c6c3b8ab27b ]] {\r\n",
       "##//ports//##\r\n",
       "po1\\n//:>>P1::porig1// \r\n",
       "}\r\n",
       "comp usage \"p2: P1  \" as E5  <<(T,blue) part>> [[psysml:8277226e-c173-411e-8d8e-d31bb811c94b ]] {\r\n",
       "##//ports//##\r\n",
       "pdest <b>alias</b> pd1 \r\n",
       "|_ \r\n",
       "}\r\n",
       "}\r\n",
       "E4 - -:|> E3 [[psysml:515868c5-6015-4da5-b3ff-32117e872914 ]] \r\n",
       "E5 - -:|> E3 [[psysml:e2fe589c-f14e-47a5-aaf0-9a8ebd450a7c ]] \r\n",
       "@enduml\r\n",
       "\n",
       "PlantUML version 1.2022.7(Mon Aug 22 17:01:30 UTC 2022)\n",
       "(EPL source distribution)\n",
       "Java Runtime: OpenJDK Runtime Environment\n",
       "JVM: OpenJDK 64-Bit Server VM\n",
       "Default Encoding: UTF-8\n",
       "Language: en\n",
       "Country: null\n",
       "--></g></svg>"
      ]
     },
     "execution_count": 3,
     "metadata": {},
     "output_type": "execute_result"
    }
   ],
   "source": [
    "%viz --style=\"COMPTREE\" --view=\"Tree\" \"AliasTest\""
   ]
  },
  {
   "cell_type": "code",
   "execution_count": 4,
   "id": "9eb4b085",
   "metadata": {
    "execution": {
     "iopub.execute_input": "2024-12-16T03:25:11.352781Z",
     "iopub.status.busy": "2024-12-16T03:25:11.352560Z",
     "iopub.status.idle": "2024-12-16T03:25:11.363312Z",
     "shell.execute_reply": "2024-12-16T03:25:11.363442Z"
    }
   },
   "outputs": [
    {
     "data": {
      "image/svg+xml": [
       "<?xml version=\"1.0\" encoding=\"UTF-8\" standalone=\"no\"?><svg xmlns=\"http://www.w3.org/2000/svg\" xmlns:xlink=\"http://www.w3.org/1999/xlink\" contentStyleType=\"text/css\" height=\"10px\" preserveAspectRatio=\"none\" style=\"width:10px;height:10px;background:#FFFFFF;\" version=\"1.1\" viewBox=\"0 0 10 10\" width=\"10px\" zoomAndPan=\"magnify\"><defs/><g><!--MD5=[ee07d3037018df61283447c7fdb4a44f]\n",
       "@startuml\r\n",
       "skin sysmlbw\r\n",
       "skinparam monochrome true\r\n",
       "skinparam wrapWidth 300\r\n",
       "hide circle\r\n",
       " \r\n",
       "@enduml\r\n",
       "\n",
       "PlantUML version 1.2022.7(Mon Aug 22 17:01:30 UTC 2022)\n",
       "(EPL source distribution)\n",
       "Java Runtime: OpenJDK Runtime Environment\n",
       "JVM: OpenJDK 64-Bit Server VM\n",
       "Default Encoding: UTF-8\n",
       "Language: en\n",
       "Country: null\n",
       "--></g></svg>"
      ]
     },
     "execution_count": 4,
     "metadata": {},
     "output_type": "execute_result"
    }
   ],
   "source": [
    "%viz --style=\"COMPTREE\" --view=\"State\" \"AliasTest\""
   ]
  },
  {
   "cell_type": "code",
   "execution_count": 5,
   "id": "a7a6a58d",
   "metadata": {
    "execution": {
     "iopub.execute_input": "2024-12-16T03:25:11.417385Z",
     "iopub.status.busy": "2024-12-16T03:25:11.416725Z",
     "iopub.status.idle": "2024-12-16T03:25:11.459132Z",
     "shell.execute_reply": "2024-12-16T03:25:11.459266Z"
    }
   },
   "outputs": [
    {
     "data": {
      "image/svg+xml": [
       "<?xml version=\"1.0\" encoding=\"UTF-8\" standalone=\"no\"?><svg xmlns=\"http://www.w3.org/2000/svg\" xmlns:xlink=\"http://www.w3.org/1999/xlink\" contentStyleType=\"text/css\" height=\"394px\" preserveAspectRatio=\"none\" style=\"width:387px;height:394px;background:#FFFFFF;\" version=\"1.1\" viewBox=\"0 0 387 394\" width=\"387px\" zoomAndPan=\"magnify\"><defs/><g><!--MD5=[fbc87193dbaf4d95561dea2c320d4a47]\n",
       "cluster E1--><g id=\"cluster_E1\"><a href=\"psysml:a1c2986a-a425-4687-93ae-51674f2ada97\" target=\"_top\" title=\"psysml:a1c2986a-a425-4687-93ae-51674f2ada97\" xlink:actuate=\"onRequest\" xlink:href=\"psysml:a1c2986a-a425-4687-93ae-51674f2ada97\" xlink:show=\"new\" xlink:title=\"psysml:a1c2986a-a425-4687-93ae-51674f2ada97\" xlink:type=\"simple\"><polygon fill=\"none\" points=\"16,6,87.9375,6,94.9375,28.2969,370,28.2969,370,387.36,16,387.36,16,6\" style=\"stroke:#000000;stroke-width:1.5;\"/><line style=\"stroke:#000000;stroke-width:1.5;\" x1=\"16\" x2=\"94.9375\" y1=\"28.2969\" y2=\"28.2969\"/><text fill=\"#000000\" font-family=\"sans-serif\" font-size=\"14\" font-weight=\"bold\" lengthAdjust=\"spacing\" textLength=\"65.9375\" x=\"20\" y=\"20.9951\">AliasTest</text></a></g><!--MD5=[d5e69f78d87373223dbae638b30a9c99]\n",
       "cluster E3--><g id=\"cluster_E3\"><a href=\"psysml:d64d4abf-692a-4b0a-b1a7-ca6bfa2152dc\" target=\"_top\" title=\"psysml:d64d4abf-692a-4b0a-b1a7-ca6bfa2152dc\" xlink:actuate=\"onRequest\" xlink:href=\"psysml:d64d4abf-692a-4b0a-b1a7-ca6bfa2152dc\" xlink:show=\"new\" xlink:title=\"psysml:d64d4abf-692a-4b0a-b1a7-ca6bfa2152dc\" xlink:type=\"simple\"><rect fill=\"#FFFFFF\" height=\"124.5\" id=\"E3\" style=\"stroke:#383838;stroke-width:1.5;\" width=\"144\" x=\"202\" y=\"238.86\"/><text fill=\"#000000\" font-family=\"sans-serif\" font-size=\"12\" font-style=\"italic\" lengthAdjust=\"spacing\" textLength=\"68\" x=\"240\" y=\"254.9987\">«part  def»</text><text fill=\"#000000\" font-family=\"sans-serif\" font-size=\"14\" lengthAdjust=\"spacing\" textLength=\"18\" x=\"265\" y=\"270.8239\">P1</text><line style=\"stroke:#383838;stroke-width:1.0;\" x1=\"202\" x2=\"346\" y1=\"279.1256\" y2=\"279.1256\"/></a></g><!--MD5=[14e3b0961a2654348d326746436168a1]\n",
       "cluster E6--><g id=\"cluster_E6\"><a href=\"psysml:e8b71076-5181-45d8-952d-6c6c3b8ab27b\" target=\"_top\" title=\"psysml:e8b71076-5181-45d8-952d-6c6c3b8ab27b\" xlink:actuate=\"onRequest\" xlink:href=\"psysml:e8b71076-5181-45d8-952d-6c6c3b8ab27b\" xlink:show=\"new\" xlink:title=\"psysml:e8b71076-5181-45d8-952d-6c6c3b8ab27b\" xlink:type=\"simple\"><rect fill=\"#FFFFFF\" height=\"98.36\" id=\"E6\" rx=\"10\" ry=\"10\" style=\"stroke:#383838;stroke-width:1.5;\" width=\"116\" x=\"230\" y=\"49\"/><text fill=\"#000000\" font-family=\"sans-serif\" font-size=\"14\" lengthAdjust=\"spacing\" textLength=\"45\" x=\"265.5\" y=\"66.9951\">p1: P1</text><line style=\"stroke:#383838;stroke-width:1.0;\" x1=\"230\" x2=\"346\" y1=\"75.2969\" y2=\"75.2969\"/></a></g><!--MD5=[55dfccfc6c49c2d10cd1bd2211a6c90c]\n",
       "cluster E8--><g id=\"cluster_E8\"><a href=\"psysml:8277226e-c173-411e-8d8e-d31bb811c94b\" target=\"_top\" title=\"psysml:8277226e-c173-411e-8d8e-d31bb811c94b\" xlink:actuate=\"onRequest\" xlink:href=\"psysml:8277226e-c173-411e-8d8e-d31bb811c94b\" xlink:show=\"new\" xlink:title=\"psysml:8277226e-c173-411e-8d8e-d31bb811c94b\" xlink:type=\"simple\"><rect fill=\"#FFFFFF\" height=\"73\" id=\"E8\" rx=\"10\" ry=\"10\" style=\"stroke:#383838;stroke-width:1.5;\" width=\"83\" x=\"103\" y=\"199.36\"/><text fill=\"#000000\" font-family=\"sans-serif\" font-size=\"14\" lengthAdjust=\"spacing\" textLength=\"45\" x=\"122\" y=\"217.3551\">p2: P1</text><line style=\"stroke:#383838;stroke-width:1.0;\" x1=\"103\" x2=\"186\" y1=\"225.6569\" y2=\"225.6569\"/></a></g><!--MD5=[b4997ac47864f28c2f74865a473b2911]\n",
       "class E2--><a href=\"psysml:f27707b2-90f2-4671-96dd-49a3cebd999e\" target=\"_top\" title=\"psysml:f27707b2-90f2-4671-96dd-49a3cebd999e\" xlink:actuate=\"onRequest\" xlink:href=\"psysml:f27707b2-90f2-4671-96dd-49a3cebd999e\" xlink:show=\"new\" xlink:title=\"psysml:f27707b2-90f2-4671-96dd-49a3cebd999e\" xlink:type=\"simple\"><g id=\"elem_E2\"><rect fill=\"#FFFFFF\" height=\"48.2656\" id=\"E2\" rx=\"10\" ry=\"10\" style=\"stroke:#181818;stroke-width:0.5;\" width=\"187\" x=\"31.5\" y=\"58.5\"/><text fill=\"#000000\" font-family=\"sans-serif\" font-size=\"12\" font-style=\"italic\" lengthAdjust=\"spacing\" textLength=\"69\" x=\"90.5\" y=\"74.6387\">«attribute»</text><text fill=\"#000000\" font-family=\"sans-serif\" font-size=\"14\" lengthAdjust=\"spacing\" textLength=\"177\" x=\"34.5\" y=\"90.4639\">b :&gt;ISQSpaceTime::width</text><line style=\"stroke:#181818;stroke-width:0.5;\" x1=\"32.5\" x2=\"217.5\" y1=\"98.7656\" y2=\"98.7656\"/></g></a><text fill=\"#000000\" font-family=\"sans-serif\" font-size=\"14\" lengthAdjust=\"spacing\" textLength=\"44\" x=\"194\" y=\"217.5582\">porig1</text><rect fill=\"#FFFFFF\" height=\"12\" style=\"stroke:#181818;stroke-width:1.5;\" width=\"12\" x=\"214\" y=\"232.86\"/><text fill=\"#000000\" font-family=\"sans-serif\" font-size=\"14\" lengthAdjust=\"spacing\" textLength=\"44\" x=\"241\" y=\"217.5582\">porig1</text><rect fill=\"#FFFFFF\" height=\"12\" style=\"stroke:#181818;stroke-width:1.5;\" width=\"12\" x=\"261\" y=\"232.86\"/><text fill=\"#000000\" font-family=\"sans-serif\" font-size=\"14\" lengthAdjust=\"spacing\" textLength=\"27\" x=\"230.5\" y=\"166.3551\">po1</text><rect fill=\"#FFFFFF\" height=\"12\" style=\"stroke:#181818;stroke-width:1.5;\" width=\"12\" x=\"242\" y=\"141.36\"/><text fill=\"#000000\" font-family=\"sans-serif\" font-size=\"14\" lengthAdjust=\"spacing\" textLength=\"40\" x=\"97\" y=\"178.0582\">pdest</text><rect fill=\"#FFFFFF\" height=\"12\" style=\"stroke:#181818;stroke-width:1.5;\" width=\"12\" x=\"115\" y=\"193.36\"/><text fill=\"#000000\" font-family=\"sans-serif\" font-size=\"14\" lengthAdjust=\"spacing\" textLength=\"40\" x=\"144\" y=\"178.0582\">pdest</text><rect fill=\"#FFFFFF\" height=\"12\" style=\"stroke:#181818;stroke-width:1.5;\" width=\"12\" x=\"162\" y=\"193.36\"/><!--MD5=[a717450b82c80b9240a525fa862496af]\n",
       "link E6 to E3--><g id=\"link_E6_E3\"><a href=\"psysml:515868c5-6015-4da5-b3ff-32117e872914\" target=\"_top\" title=\"psysml:515868c5-6015-4da5-b3ff-32117e872914\" xlink:actuate=\"onRequest\" xlink:href=\"psysml:515868c5-6015-4da5-b3ff-32117e872914\" xlink:show=\"new\" xlink:title=\"psysml:515868c5-6015-4da5-b3ff-32117e872914\" xlink:type=\"simple\"><path d=\"M309,147.372 C309,147.4316 309,147.4946 309,147.5614 C309,147.6948 309,147.8432 309,148.0079 C309,148.3375 309,148.733 309,149.2077 C309,150.1569 309,151.4225 309,153.11 C309,159.86 309,173.36 309,200.36 C309,209.265 309.4169,216.6138 309.8598,223.1538 C309.8875,223.5625 309.9153,223.9681 309.9431,224.3707 C309.9501,224.4714 309.957,224.5718 309.964,224.6721 \" fill=\"none\" id=\"E6-to-E3\" style=\"stroke:#181818;stroke-width:1.0;\"/><polygon fill=\"#FFFFFF\" points=\"309.964,224.6721,301.6675,206.2014,315.634,205.2337,309.964,224.6721\" style=\"stroke:#181818;stroke-width:1.0;\"/><ellipse cx=\"303.2688\" cy=\"200.3768\" fill=\"#181818\" rx=\"2\" ry=\"2\" style=\"stroke:#181818;stroke-width:1.0;\"/><ellipse cx=\"313.2448\" cy=\"199.6856\" fill=\"#181818\" rx=\"2\" ry=\"2\" style=\"stroke:#181818;stroke-width:1.0;\"/></a></g><!--MD5=[95fa686b5a16158bcdbcaeead89f639b]\n",
       "link E8 to E3--><g id=\"link_E8_E3\"><a href=\"psysml:e2fe589c-f14e-47a5-aaf0-9a8ebd450a7c\" target=\"_top\" title=\"psysml:e2fe589c-f14e-47a5-aaf0-9a8ebd450a7c\" xlink:actuate=\"onRequest\" xlink:href=\"psysml:e2fe589c-f14e-47a5-aaf0-9a8ebd450a7c\" xlink:show=\"new\" xlink:title=\"psysml:e2fe589c-f14e-47a5-aaf0-9a8ebd450a7c\" xlink:type=\"simple\"><path d=\"M183.4212,272.3838 C183.5018,272.4284 183.5825,272.4729 183.6631,272.5175 C183.9857,272.6957 184.3083,272.8737 184.6308,273.0516 C185.2757,273.4074 185.9202,273.7626 186.564,274.117 C187.8516,274.8256 189.1362,275.5309 190.4153,276.2313 C192.9733,277.6319 195.5088,279.0125 198,280.36 C199.8625,281.3675 201.7522,282.3847 203.6607,283.4076 C204.1378,283.6633 204.6161,283.9193 205.0954,284.1757 C205.3351,284.3039 205.575,284.4322 205.8152,284.5605 C205.8752,284.5926 205.9353,284.6246 205.9954,284.6567 \" fill=\"none\" id=\"E8-to-E3\" style=\"stroke:#181818;stroke-width:1.0;\"/><polygon fill=\"#FFFFFF\" points=\"205.9954,284.6567,185.9383,281.8793,192.5344,269.5305,205.9954,284.6567\" style=\"stroke:#181818;stroke-width:1.0;\"/><ellipse cx=\"181.8529\" cy=\"277.4296\" fill=\"#181818\" rx=\"2\" ry=\"2\" style=\"stroke:#181818;stroke-width:1.0;\"/><ellipse cx=\"186.5644\" cy=\"268.6091\" fill=\"#181818\" rx=\"2\" ry=\"2\" style=\"stroke:#181818;stroke-width:1.0;\"/></a></g><!--MD5=[1c0b9414cc86e0744215edee6abd8926]\n",
       "link E7 to E9--><g id=\"link_E7_E9\"><a href=\"psysml:f1f85c24-6beb-4ed4-abfc-161aeb53ad8b\" target=\"_top\" title=\"psysml:f1f85c24-6beb-4ed4-abfc-161aeb53ad8b\" xlink:actuate=\"onRequest\" xlink:href=\"psysml:f1f85c24-6beb-4ed4-abfc-161aeb53ad8b\" xlink:show=\"new\" xlink:title=\"psysml:f1f85c24-6beb-4ed4-abfc-161aeb53ad8b\" xlink:type=\"simple\"><path d=\"M241.79,148.54 C219.08,149.65 164.87,156.38 127,177.36 C116.78,183.02 107.43,194.08 114.97,197.4 \" fill=\"none\" id=\"E7-E9\" style=\"stroke:#181818;stroke-width:3.0;\"/></a></g><!--MD5=[1c0b9414cc86e0744215edee6abd8926]\n",
       "link E7 to E9--><g id=\"link_E7_E9\"><a href=\"psysml:92c8a956-0030-45f2-8c30-896629fb0abd\" target=\"_top\" title=\"psysml:92c8a956-0030-45f2-8c30-896629fb0abd\" xlink:actuate=\"onRequest\" xlink:href=\"psysml:92c8a956-0030-45f2-8c30-896629fb0abd\" xlink:show=\"new\" xlink:title=\"psysml:92c8a956-0030-45f2-8c30-896629fb0abd\" xlink:type=\"simple\"><path d=\"M241.96,150.94 C225.3,154.47 189.38,162.19 162,177.36 C151.31,183.28 141.57,195.11 127.05,197.81 \" fill=\"none\" id=\"E7-E9-1\" style=\"stroke:#181818;stroke-width:3.0;\"/></a></g><!--MD5=[8948126ec330a466db1fbee9b9f79d0b]\n",
       "@startuml\r\n",
       "skin sysmlbw\r\n",
       "skinparam monochrome true\r\n",
       "skinparam wrapWidth 300\r\n",
       "hide circle\r\n",
       " skinparam ranksep 10\r\n",
       "skinparam rectangle {\r\n",
       " backgroundColor<<block>> LightGreen\r\n",
       "}\r\n",
       "\r\n",
       "package \"AliasTest\" as E1  [[psysml:a1c2986a-a425-4687-93ae-51674f2ada97 ]]  {\r\n",
       "comp usage \"b :>ISQSpaceTime::width \" as E2  <<(T,blue) attribute>> [[psysml:f27707b2-90f2-4671-96dd-49a3cebd999e ]] {\r\n",
       "}\r\n",
       "rec def \"P1\" as E3  <<(T,blue) part  def>> [[psysml:d64d4abf-692a-4b0a-b1a7-ca6bfa2152dc ]] {\r\n",
       "portin \"porig1  \" as E4  <<(T,blue) port>> [[psysml:61764694-1d1c-48ba-adaa-4bba53d3d30f ]] \r\n",
       "portin \"porig1  \" as E5  <<(T,blue) port>> [[psysml:61764694-1d1c-48ba-adaa-4bba53d3d30f ]] \r\n",
       "}\r\n",
       "rec usage \"p1: P1\" as E6 [[psysml:e8b71076-5181-45d8-952d-6c6c3b8ab27b ]] {\r\n",
       "portout \"po1  \" as E7  <<(T,blue) port>> [[psysml:d614f44e-5180-4509-9cc1-1632afa7b11f ]] \r\n",
       "}\r\n",
       "rec usage \"p2: P1\" as E8 [[psysml:8277226e-c173-411e-8d8e-d31bb811c94b ]] {\r\n",
       "portin \"pdest  \" as E9  <<(T,blue) port>> [[psysml:88f12717-b335-4bfa-a952-2b65a00cb7af ]] \r\n",
       "portin \"pdest  \" as E10  <<(T,blue) port>> [[psysml:88f12717-b335-4bfa-a952-2b65a00cb7af ]] \r\n",
       "}\r\n",
       "}\r\n",
       "E6 - -:|> E3 [[psysml:515868c5-6015-4da5-b3ff-32117e872914 ]] \r\n",
       "E8 - -:|> E3 [[psysml:e2fe589c-f14e-47a5-aaf0-9a8ebd450a7c ]] \r\n",
       "E7 -[thickness=3]- E9 [[psysml:f1f85c24-6beb-4ed4-abfc-161aeb53ad8b ]] \r\n",
       "E7 -[thickness=3]- E9 [[psysml:92c8a956-0030-45f2-8c30-896629fb0abd ]] \r\n",
       "@enduml\r\n",
       "\n",
       "PlantUML version 1.2022.7(Mon Aug 22 17:01:30 UTC 2022)\n",
       "(EPL source distribution)\n",
       "Java Runtime: OpenJDK Runtime Environment\n",
       "JVM: OpenJDK 64-Bit Server VM\n",
       "Default Encoding: UTF-8\n",
       "Language: en\n",
       "Country: null\n",
       "--></g></svg>"
      ]
     },
     "execution_count": 5,
     "metadata": {},
     "output_type": "execute_result"
    }
   ],
   "source": [
    "%viz --style=\"COMPTREE\" --view=\"Interconnection\" \"AliasTest\""
   ]
  },
  {
   "cell_type": "code",
   "execution_count": 6,
   "id": "cf838bc1",
   "metadata": {
    "execution": {
     "iopub.execute_input": "2024-12-16T03:25:11.514480Z",
     "iopub.status.busy": "2024-12-16T03:25:11.514265Z",
     "iopub.status.idle": "2024-12-16T03:25:11.521497Z",
     "shell.execute_reply": "2024-12-16T03:25:11.521333Z"
    }
   },
   "outputs": [
    {
     "data": {
      "image/svg+xml": [
       "<?xml version=\"1.0\" encoding=\"UTF-8\" standalone=\"no\"?><svg xmlns=\"http://www.w3.org/2000/svg\" xmlns:xlink=\"http://www.w3.org/1999/xlink\" contentStyleType=\"text/css\" height=\"10px\" preserveAspectRatio=\"none\" style=\"width:10px;height:10px;background:#FFFFFF;\" version=\"1.1\" viewBox=\"0 0 10 10\" width=\"10px\" zoomAndPan=\"magnify\"><defs/><g><!--MD5=[042b5323e4810735e2315f6f99dad39e]\n",
       "@startuml\r\n",
       "skin sysmlbw\r\n",
       "skinparam monochrome true\r\n",
       "skinparam wrapWidth 300\r\n",
       "hide circle\r\n",
       " skinparam ranksep 8\r\n",
       "\r\n",
       "@enduml\r\n",
       "\n",
       "PlantUML version 1.2022.7(Mon Aug 22 17:01:30 UTC 2022)\n",
       "(EPL source distribution)\n",
       "Java Runtime: OpenJDK Runtime Environment\n",
       "JVM: OpenJDK 64-Bit Server VM\n",
       "Default Encoding: UTF-8\n",
       "Language: en\n",
       "Country: null\n",
       "--></g></svg>"
      ]
     },
     "execution_count": 6,
     "metadata": {},
     "output_type": "execute_result"
    }
   ],
   "source": [
    "%viz --style=\"COMPTREE\" --view=\"Action\" \"AliasTest\""
   ]
  },
  {
   "cell_type": "code",
   "execution_count": 7,
   "id": "500f97f1",
   "metadata": {
    "execution": {
     "iopub.execute_input": "2024-12-16T03:25:11.576873Z",
     "iopub.status.busy": "2024-12-16T03:25:11.576633Z",
     "iopub.status.idle": "2024-12-16T03:25:11.590299Z",
     "shell.execute_reply": "2024-12-16T03:25:11.590428Z"
    }
   },
   "outputs": [
    {
     "data": {
      "image/svg+xml": [
       "<?xml version=\"1.0\" encoding=\"UTF-8\" standalone=\"no\"?><svg xmlns=\"http://www.w3.org/2000/svg\" xmlns:xlink=\"http://www.w3.org/1999/xlink\" contentStyleType=\"text/css\" height=\"10px\" preserveAspectRatio=\"none\" style=\"width:10px;height:10px;background:#FFFFFF;\" version=\"1.1\" viewBox=\"0 0 10 10\" width=\"10px\" zoomAndPan=\"magnify\"><defs/><g><!--MD5=[f5e9abf0a6c8dccaf40d0172f495ca0b]\n",
       "@startuml\r\n",
       "skin sysmlbw\r\n",
       "skinparam monochrome true\r\n",
       "skinparam wrapWidth 300\r\n",
       "hide circle\r\n",
       " skinparam roundcorner 20\r\n",
       "skinparam BoxPadding 20\r\n",
       "skinparam SequenceBoxBackgroundColor #white\r\n",
       "skinparam style strictuml\r\n",
       "skinparam maxMessageSize 100\r\n",
       "\r\n",
       "@enduml\r\n",
       "\n",
       "PlantUML version 1.2022.7(Mon Aug 22 17:01:30 UTC 2022)\n",
       "(EPL source distribution)\n",
       "Java Runtime: OpenJDK Runtime Environment\n",
       "JVM: OpenJDK 64-Bit Server VM\n",
       "Default Encoding: UTF-8\n",
       "Language: en\n",
       "Country: null\n",
       "--></g></svg>"
      ]
     },
     "execution_count": 7,
     "metadata": {},
     "output_type": "execute_result"
    }
   ],
   "source": [
    "%viz --style=\"COMPTREE\" --view=\"Sequence\" \"AliasTest\""
   ]
  },
  {
   "cell_type": "code",
   "execution_count": 8,
   "id": "19f9e8e2",
   "metadata": {
    "execution": {
     "iopub.execute_input": "2024-12-16T03:25:11.644300Z",
     "iopub.status.busy": "2024-12-16T03:25:11.644060Z",
     "iopub.status.idle": "2024-12-16T03:25:11.681087Z",
     "shell.execute_reply": "2024-12-16T03:25:11.680916Z"
    }
   },
   "outputs": [
    {
     "data": {
      "image/svg+xml": [
       "<?xml version=\"1.0\" encoding=\"UTF-8\" standalone=\"no\"?><svg xmlns=\"http://www.w3.org/2000/svg\" xmlns:xlink=\"http://www.w3.org/1999/xlink\" contentStyleType=\"text/css\" height=\"314px\" preserveAspectRatio=\"none\" style=\"width:554px;height:314px;background:#FFFFFF;\" version=\"1.1\" viewBox=\"0 0 554 314\" width=\"554px\" zoomAndPan=\"magnify\"><defs/><g><!--MD5=[fbc87193dbaf4d95561dea2c320d4a47]\n",
       "cluster E1--><g id=\"cluster_E1\"><a href=\"psysml:a1c2986a-a425-4687-93ae-51674f2ada97\" target=\"_top\" title=\"psysml:a1c2986a-a425-4687-93ae-51674f2ada97\" xlink:actuate=\"onRequest\" xlink:href=\"psysml:a1c2986a-a425-4687-93ae-51674f2ada97\" xlink:show=\"new\" xlink:title=\"psysml:a1c2986a-a425-4687-93ae-51674f2ada97\" xlink:type=\"simple\"><polygon fill=\"none\" points=\"16,6,87.9375,6,94.9375,28.2969,537,28.2969,537,307,16,307,16,6\" style=\"stroke:#000000;stroke-width:1.5;\"/><line style=\"stroke:#000000;stroke-width:1.5;\" x1=\"16\" x2=\"94.9375\" y1=\"28.2969\" y2=\"28.2969\"/><text fill=\"#000000\" font-family=\"sans-serif\" font-size=\"14\" font-weight=\"bold\" lengthAdjust=\"spacing\" textLength=\"65.9375\" x=\"20\" y=\"20.9951\">AliasTest</text></a></g><!--MD5=[b4997ac47864f28c2f74865a473b2911]\n",
       "class E2--><a href=\"psysml:f27707b2-90f2-4671-96dd-49a3cebd999e\" target=\"_top\" title=\"psysml:f27707b2-90f2-4671-96dd-49a3cebd999e\" xlink:actuate=\"onRequest\" xlink:href=\"psysml:f27707b2-90f2-4671-96dd-49a3cebd999e\" xlink:show=\"new\" xlink:title=\"psysml:f27707b2-90f2-4671-96dd-49a3cebd999e\" xlink:type=\"simple\"><g id=\"elem_E2\"><rect fill=\"#FFFFFF\" height=\"48.2656\" id=\"E2\" rx=\"10\" ry=\"10\" style=\"stroke:#181818;stroke-width:0.5;\" width=\"187\" x=\"334.5\" y=\"64.5\"/><text fill=\"#000000\" font-family=\"sans-serif\" font-size=\"12\" font-style=\"italic\" lengthAdjust=\"spacing\" textLength=\"69\" x=\"393.5\" y=\"80.6387\">«attribute»</text><text fill=\"#000000\" font-family=\"sans-serif\" font-size=\"14\" lengthAdjust=\"spacing\" textLength=\"177\" x=\"337.5\" y=\"96.4639\">b :&gt;ISQSpaceTime::width</text><line style=\"stroke:#181818;stroke-width:0.5;\" x1=\"335.5\" x2=\"520.5\" y1=\"104.7656\" y2=\"104.7656\"/></g></a><!--MD5=[09b614a08d8cba4a07c9adeb5e0fee81]\n",
       "class E3--><a href=\"psysml:d64d4abf-692a-4b0a-b1a7-ca6bfa2152dc\" target=\"_top\" title=\"psysml:d64d4abf-692a-4b0a-b1a7-ca6bfa2152dc\" xlink:actuate=\"onRequest\" xlink:href=\"psysml:d64d4abf-692a-4b0a-b1a7-ca6bfa2152dc\" xlink:show=\"new\" xlink:title=\"psysml:d64d4abf-692a-4b0a-b1a7-ca6bfa2152dc\" xlink:type=\"simple\"><g id=\"elem_E3\"><rect fill=\"#FFFFFF\" height=\"95.3781\" id=\"E3\" style=\"stroke:#181818;stroke-width:0.5;\" width=\"123.1875\" x=\"106.5\" y=\"196\"/><text fill=\"#000000\" font-family=\"sans-serif\" font-size=\"12\" font-style=\"italic\" lengthAdjust=\"spacing\" textLength=\"68\" x=\"134.0938\" y=\"212.1387\">«part  def»</text><text fill=\"#000000\" font-family=\"sans-serif\" font-size=\"14\" lengthAdjust=\"spacing\" textLength=\"18\" x=\"159.0938\" y=\"227.9639\">P1</text><line style=\"stroke:#181818;stroke-width:0.5;\" x1=\"107.5\" x2=\"228.6875\" y1=\"236.2656\" y2=\"236.2656\"/><text fill=\"#000000\" font-family=\"sans-serif\" font-size=\"14\" lengthAdjust=\"spacing\" textLength=\"44\" x=\"112.5\" y=\"263.7795\">porig1</text><text fill=\"#000000\" font-family=\"sans-serif\" font-size=\"14\" font-weight=\"bold\" lengthAdjust=\"spacing\" textLength=\"32.1875\" x=\"160.5\" y=\"263.7795\">alias</text><text fill=\"#000000\" font-family=\"sans-serif\" font-size=\"14\" lengthAdjust=\"spacing\" textLength=\"27\" x=\"196.6875\" y=\"263.7795\">po1</text><text fill=\"#000000\" font-family=\"sans-serif\" font-size=\"14\" font-style=\"italic\" lengthAdjust=\"spacing\" textLength=\"36\" x=\"150.0938\" y=\"248.6123\">ports</text><text fill=\"#000000\" font-family=\"sans-serif\" font-size=\"14\" lengthAdjust=\"spacing\" textLength=\"4\" x=\"124.5\" y=\"286.0764\"> </text><rect fill=\"#FFFFFF\" height=\"2\" style=\"stroke:#000000;stroke-width:1.0;\" width=\"2\" x=\"121.5\" y=\"280.2297\"/><line style=\"stroke:#000000;stroke-width:1.0;\" x1=\"114.5\" x2=\"122.5\" y1=\"281.2297\" y2=\"281.2297\"/><line style=\"stroke:#000000;stroke-width:1.0;\" x1=\"114.5\" x2=\"114.5\" y1=\"273.0813\" y2=\"281.2297\"/></g></a><!--MD5=[ebbe1d658d1005bcc118a6aa81145e00]\n",
       "class E4--><a href=\"psysml:e8b71076-5181-45d8-952d-6c6c3b8ab27b\" target=\"_top\" title=\"psysml:e8b71076-5181-45d8-952d-6c6c3b8ab27b\" xlink:actuate=\"onRequest\" xlink:href=\"psysml:e8b71076-5181-45d8-952d-6c6c3b8ab27b\" xlink:show=\"new\" xlink:title=\"psysml:e8b71076-5181-45d8-952d-6c6c3b8ab27b\" xlink:type=\"simple\"><g id=\"elem_E4\"><rect fill=\"#FFFFFF\" height=\"91.3781\" id=\"E4\" rx=\"10\" ry=\"10\" style=\"stroke:#181818;stroke-width:0.5;\" width=\"113\" x=\"186.5\" y=\"43\"/><text fill=\"#000000\" font-family=\"sans-serif\" font-size=\"12\" font-style=\"italic\" lengthAdjust=\"spacing\" textLength=\"40\" x=\"223\" y=\"59.1387\">«part»</text><text fill=\"#000000\" font-family=\"sans-serif\" font-size=\"14\" lengthAdjust=\"spacing\" textLength=\"45\" x=\"216.5\" y=\"74.9639\">p1: P1</text><line style=\"stroke:#181818;stroke-width:0.5;\" x1=\"187.5\" x2=\"298.5\" y1=\"83.2656\" y2=\"83.2656\"/><text fill=\"#000000\" font-family=\"sans-serif\" font-size=\"14\" lengthAdjust=\"spacing\" textLength=\"27\" x=\"192.5\" y=\"110.7795\">po1</text><text fill=\"#000000\" font-family=\"sans-serif\" font-size=\"14\" font-style=\"italic\" lengthAdjust=\"spacing\" textLength=\"101\" x=\"192.5\" y=\"127.0764\">:&gt;&gt;P1::porig1</text><text fill=\"#000000\" font-family=\"sans-serif\" font-size=\"14\" font-style=\"italic\" lengthAdjust=\"spacing\" textLength=\"36\" x=\"225\" y=\"95.6123\">ports</text></g></a><!--MD5=[270fce915f116d4de14055a7c1d9a0f3]\n",
       "class E5--><a href=\"psysml:8277226e-c173-411e-8d8e-d31bb811c94b\" target=\"_top\" title=\"psysml:8277226e-c173-411e-8d8e-d31bb811c94b\" xlink:actuate=\"onRequest\" xlink:href=\"psysml:8277226e-c173-411e-8d8e-d31bb811c94b\" xlink:show=\"new\" xlink:title=\"psysml:8277226e-c173-411e-8d8e-d31bb811c94b\" xlink:type=\"simple\"><g id=\"elem_E5\"><rect fill=\"#FFFFFF\" height=\"95.3781\" id=\"E5\" rx=\"10\" ry=\"10\" style=\"stroke:#181818;stroke-width:0.5;\" width=\"119.1875\" x=\"32.5\" y=\"41\"/><text fill=\"#000000\" font-family=\"sans-serif\" font-size=\"12\" font-style=\"italic\" lengthAdjust=\"spacing\" textLength=\"40\" x=\"72.0938\" y=\"57.1387\">«part»</text><text fill=\"#000000\" font-family=\"sans-serif\" font-size=\"14\" lengthAdjust=\"spacing\" textLength=\"45\" x=\"65.5938\" y=\"72.9639\">p2: P1</text><line style=\"stroke:#181818;stroke-width:0.5;\" x1=\"33.5\" x2=\"150.6875\" y1=\"81.2656\" y2=\"81.2656\"/><text fill=\"#000000\" font-family=\"sans-serif\" font-size=\"14\" lengthAdjust=\"spacing\" textLength=\"40\" x=\"38.5\" y=\"108.7795\">pdest</text><text fill=\"#000000\" font-family=\"sans-serif\" font-size=\"14\" font-weight=\"bold\" lengthAdjust=\"spacing\" textLength=\"32.1875\" x=\"82.5\" y=\"108.7795\">alias</text><text fill=\"#000000\" font-family=\"sans-serif\" font-size=\"14\" lengthAdjust=\"spacing\" textLength=\"27\" x=\"118.6875\" y=\"108.7795\">pd1</text><text fill=\"#000000\" font-family=\"sans-serif\" font-size=\"14\" font-style=\"italic\" lengthAdjust=\"spacing\" textLength=\"36\" x=\"74.0938\" y=\"93.6123\">ports</text><text fill=\"#000000\" font-family=\"sans-serif\" font-size=\"14\" lengthAdjust=\"spacing\" textLength=\"4\" x=\"50.5\" y=\"131.0764\"> </text><rect fill=\"#FFFFFF\" height=\"2\" style=\"stroke:#000000;stroke-width:1.0;\" width=\"2\" x=\"47.5\" y=\"125.2297\"/><line style=\"stroke:#000000;stroke-width:1.0;\" x1=\"40.5\" x2=\"48.5\" y1=\"126.2297\" y2=\"126.2297\"/><line style=\"stroke:#000000;stroke-width:1.0;\" x1=\"40.5\" x2=\"40.5\" y1=\"118.0813\" y2=\"126.2297\"/></g></a><!--MD5=[f0cdf4548168e5211fb3a02bf679d63a]\n",
       "link E4 to E3--><g id=\"link_E4_E3\"><a href=\"psysml:515868c5-6015-4da5-b3ff-32117e872914\" target=\"_top\" title=\"psysml:515868c5-6015-4da5-b3ff-32117e872914\" xlink:actuate=\"onRequest\" xlink:href=\"psysml:515868c5-6015-4da5-b3ff-32117e872914\" xlink:show=\"new\" xlink:title=\"psysml:515868c5-6015-4da5-b3ff-32117e872914\" xlink:type=\"simple\"><path d=\"M221.11,134.17 C214.42,147.81 206.92,163.1 199.72,177.79 \" fill=\"none\" id=\"E4-to-E3\" style=\"stroke:#181818;stroke-width:1.0;\"/><polygon fill=\"#FFFFFF\" points=\"190.84,195.92,192.9153,175.7782,205.4868,181.9389,190.84,195.92\" style=\"stroke:#181818;stroke-width:1.0;\"/><ellipse cx=\"197.2195\" cy=\"171.5398\" fill=\"#181818\" rx=\"2\" ry=\"2\" style=\"stroke:#181818;stroke-width:1.0;\"/><ellipse cx=\"206.1992\" cy=\"175.9404\" fill=\"#181818\" rx=\"2\" ry=\"2\" style=\"stroke:#181818;stroke-width:1.0;\"/></a></g><!--MD5=[e9be52314489bd878ff4c7144b63c9e1]\n",
       "link E5 to E3--><g id=\"link_E5_E3\"><a href=\"psysml:e2fe589c-f14e-47a5-aaf0-9a8ebd450a7c\" target=\"_top\" title=\"psysml:e2fe589c-f14e-47a5-aaf0-9a8ebd450a7c\" xlink:actuate=\"onRequest\" xlink:href=\"psysml:e2fe589c-f14e-47a5-aaf0-9a8ebd450a7c\" xlink:show=\"new\" xlink:title=\"psysml:e2fe589c-f14e-47a5-aaf0-9a8ebd450a7c\" xlink:type=\"simple\"><path d=\"M115.22,136.24 C121.67,149.23 128.79,163.57 135.67,177.41 \" fill=\"none\" id=\"E5-to-E3\" style=\"stroke:#181818;stroke-width:1.0;\"/><polygon fill=\"#FFFFFF\" points=\"144.8,195.79,130.0774,181.8887,142.6154,175.6597,144.8,195.79\" style=\"stroke:#181818;stroke-width:1.0;\"/><ellipse cx=\"129.3325\" cy=\"175.8941\" fill=\"#181818\" rx=\"2\" ry=\"2\" style=\"stroke:#181818;stroke-width:1.0;\"/><ellipse cx=\"138.2881\" cy=\"171.4449\" fill=\"#181818\" rx=\"2\" ry=\"2\" style=\"stroke:#181818;stroke-width:1.0;\"/></a></g><!--MD5=[41aa565e5c2803ea2b9883361257edb7]\n",
       "@startuml\r\n",
       "skin sysmlbw\r\n",
       "skinparam monochrome true\r\n",
       "skinparam wrapWidth 300\r\n",
       "hide circle\r\n",
       " \r\n",
       "package \"AliasTest\" as E1  [[psysml:a1c2986a-a425-4687-93ae-51674f2ada97 ]]  {\r\n",
       "comp usage \"b :>ISQSpaceTime::width \" as E2  <<(T,blue) attribute>> [[psysml:f27707b2-90f2-4671-96dd-49a3cebd999e ]] {\r\n",
       "}\r\n",
       "comp def \"P1\" as E3  <<(T,blue) part  def>> [[psysml:d64d4abf-692a-4b0a-b1a7-ca6bfa2152dc ]] {\r\n",
       "##//ports//##\r\n",
       "porig1 <b>alias</b> po1 \r\n",
       "|_ \r\n",
       "}\r\n",
       "comp usage \"p1: P1  \" as E4  <<(T,blue) part>> [[psysml:e8b71076-5181-45d8-952d-6c6c3b8ab27b ]] {\r\n",
       "##//ports//##\r\n",
       "po1\\n//:>>P1::porig1// \r\n",
       "}\r\n",
       "comp usage \"p2: P1  \" as E5  <<(T,blue) part>> [[psysml:8277226e-c173-411e-8d8e-d31bb811c94b ]] {\r\n",
       "##//ports//##\r\n",
       "pdest <b>alias</b> pd1 \r\n",
       "|_ \r\n",
       "}\r\n",
       "}\r\n",
       "E4 - -:|> E3 [[psysml:515868c5-6015-4da5-b3ff-32117e872914 ]] \r\n",
       "E5 - -:|> E3 [[psysml:e2fe589c-f14e-47a5-aaf0-9a8ebd450a7c ]] \r\n",
       "@enduml\r\n",
       "\n",
       "PlantUML version 1.2022.7(Mon Aug 22 17:01:30 UTC 2022)\n",
       "(EPL source distribution)\n",
       "Java Runtime: OpenJDK Runtime Environment\n",
       "JVM: OpenJDK 64-Bit Server VM\n",
       "Default Encoding: UTF-8\n",
       "Language: en\n",
       "Country: null\n",
       "--></g></svg>"
      ]
     },
     "execution_count": 8,
     "metadata": {},
     "output_type": "execute_result"
    }
   ],
   "source": [
    "%viz --style=\"COMPTREE\" --view=\"MIXED\" \"AliasTest\""
   ]
  },
  {
   "cell_type": "code",
   "execution_count": 9,
   "id": "ebe9b8c0",
   "metadata": {
    "execution": {
     "iopub.execute_input": "2024-12-16T03:25:11.732949Z",
     "iopub.status.busy": "2024-12-16T03:25:11.732687Z",
     "iopub.status.idle": "2024-12-16T03:25:11.763943Z",
     "shell.execute_reply": "2024-12-16T03:25:11.763097Z"
    }
   },
   "outputs": [
    {
     "data": {
      "image/svg+xml": [
       "<?xml version=\"1.0\" encoding=\"UTF-8\" standalone=\"no\"?><svg xmlns=\"http://www.w3.org/2000/svg\" xmlns:xlink=\"http://www.w3.org/1999/xlink\" contentStyleType=\"text/css\" height=\"382px\" preserveAspectRatio=\"none\" style=\"width:440px;height:382px;background:#FFFFFF;\" version=\"1.1\" viewBox=\"0 0 440 382\" width=\"440px\" zoomAndPan=\"magnify\"><defs/><g><!--MD5=[fbc87193dbaf4d95561dea2c320d4a47]\n",
       "cluster E1--><g id=\"cluster_E1\"><a href=\"psysml:a1c2986a-a425-4687-93ae-51674f2ada97\" target=\"_top\" title=\"psysml:a1c2986a-a425-4687-93ae-51674f2ada97\" xlink:actuate=\"onRequest\" xlink:href=\"psysml:a1c2986a-a425-4687-93ae-51674f2ada97\" xlink:show=\"new\" xlink:title=\"psysml:a1c2986a-a425-4687-93ae-51674f2ada97\" xlink:type=\"simple\"><polygon fill=\"none\" points=\"16,6,87.9375,6,94.9375,28.2969,423,28.2969,423,375,16,375,16,6\" style=\"stroke:#000000;stroke-width:1.5;\"/><line style=\"stroke:#000000;stroke-width:1.5;\" x1=\"16\" x2=\"94.9375\" y1=\"28.2969\" y2=\"28.2969\"/><text fill=\"#000000\" font-family=\"sans-serif\" font-size=\"14\" font-weight=\"bold\" lengthAdjust=\"spacing\" textLength=\"65.9375\" x=\"20\" y=\"20.9951\">AliasTest</text></a></g><!--MD5=[b4997ac47864f28c2f74865a473b2911]\n",
       "class E2--><a href=\"psysml:f27707b2-90f2-4671-96dd-49a3cebd999e\" target=\"_top\" title=\"psysml:f27707b2-90f2-4671-96dd-49a3cebd999e\" xlink:actuate=\"onRequest\" xlink:href=\"psysml:f27707b2-90f2-4671-96dd-49a3cebd999e\" xlink:show=\"new\" xlink:title=\"psysml:f27707b2-90f2-4671-96dd-49a3cebd999e\" xlink:type=\"simple\"><g id=\"elem_E2\"><rect fill=\"#FFFFFF\" height=\"48.2656\" id=\"E2\" rx=\"10\" ry=\"10\" style=\"stroke:#181818;stroke-width:0.5;\" width=\"187\" x=\"220.5\" y=\"54.5\"/><text fill=\"#000000\" font-family=\"sans-serif\" font-size=\"12\" font-style=\"italic\" lengthAdjust=\"spacing\" textLength=\"69\" x=\"279.5\" y=\"70.6387\">«attribute»</text><text fill=\"#000000\" font-family=\"sans-serif\" font-size=\"14\" lengthAdjust=\"spacing\" textLength=\"177\" x=\"223.5\" y=\"86.4639\">b :&gt;ISQSpaceTime::width</text><line style=\"stroke:#181818;stroke-width:0.5;\" x1=\"221.5\" x2=\"406.5\" y1=\"94.7656\" y2=\"94.7656\"/></g></a><!--MD5=[09b614a08d8cba4a07c9adeb5e0fee81]\n",
       "class E3--><a href=\"psysml:d64d4abf-692a-4b0a-b1a7-ca6bfa2152dc\" target=\"_top\" title=\"psysml:d64d4abf-692a-4b0a-b1a7-ca6bfa2152dc\" xlink:actuate=\"onRequest\" xlink:href=\"psysml:d64d4abf-692a-4b0a-b1a7-ca6bfa2152dc\" xlink:show=\"new\" xlink:title=\"psysml:d64d4abf-692a-4b0a-b1a7-ca6bfa2152dc\" xlink:type=\"simple\"><g id=\"elem_E3\"><rect fill=\"#FFFFFF\" height=\"75.0813\" id=\"E3\" style=\"stroke:#181818;stroke-width:0.5;\" width=\"70\" x=\"160\" y=\"176\"/><text fill=\"#000000\" font-family=\"sans-serif\" font-size=\"12\" font-style=\"italic\" lengthAdjust=\"spacing\" textLength=\"68\" x=\"161\" y=\"192.1387\">«part  def»</text><text fill=\"#000000\" font-family=\"sans-serif\" font-size=\"14\" lengthAdjust=\"spacing\" textLength=\"18\" x=\"186\" y=\"207.9639\">P1</text><line style=\"stroke:#181818;stroke-width:0.5;\" x1=\"161\" x2=\"229\" y1=\"216.2656\" y2=\"216.2656\"/><text fill=\"#000000\" font-family=\"sans-serif\" font-size=\"14\" lengthAdjust=\"spacing\" textLength=\"44\" x=\"166\" y=\"243.7795\">porig1</text><text fill=\"#000000\" font-family=\"sans-serif\" font-size=\"14\" font-style=\"italic\" lengthAdjust=\"spacing\" textLength=\"36\" x=\"177\" y=\"228.6123\">ports</text></g></a><!--MD5=[ebbe1d658d1005bcc118a6aa81145e00]\n",
       "class E4--><a href=\"psysml:61764694-1d1c-48ba-adaa-4bba53d3d30f\" target=\"_top\" title=\"psysml:61764694-1d1c-48ba-adaa-4bba53d3d30f\" xlink:actuate=\"onRequest\" xlink:href=\"psysml:61764694-1d1c-48ba-adaa-4bba53d3d30f\" xlink:show=\"new\" xlink:title=\"psysml:61764694-1d1c-48ba-adaa-4bba53d3d30f\" xlink:type=\"simple\"><g id=\"elem_E4\"><rect fill=\"#FFFFFF\" height=\"48.2656\" id=\"E4\" rx=\"10\" ry=\"10\" style=\"stroke:#181818;stroke-width:0.5;\" width=\"58\" x=\"166\" y=\"311\"/><text fill=\"#000000\" font-family=\"sans-serif\" font-size=\"12\" font-style=\"italic\" lengthAdjust=\"spacing\" textLength=\"40\" x=\"175\" y=\"327.1387\">«port»</text><text fill=\"#000000\" font-family=\"sans-serif\" font-size=\"14\" lengthAdjust=\"spacing\" textLength=\"44\" x=\"169\" y=\"342.9639\">porig1</text><line style=\"stroke:#181818;stroke-width:0.5;\" x1=\"167\" x2=\"223\" y1=\"351.2656\" y2=\"351.2656\"/></g></a><!--MD5=[270fce915f116d4de14055a7c1d9a0f3]\n",
       "class E5--><a href=\"psysml:e8b71076-5181-45d8-952d-6c6c3b8ab27b\" target=\"_top\" title=\"psysml:e8b71076-5181-45d8-952d-6c6c3b8ab27b\" xlink:actuate=\"onRequest\" xlink:href=\"psysml:e8b71076-5181-45d8-952d-6c6c3b8ab27b\" xlink:show=\"new\" xlink:title=\"psysml:e8b71076-5181-45d8-952d-6c6c3b8ab27b\" xlink:type=\"simple\"><g id=\"elem_E5\"><rect fill=\"#FFFFFF\" height=\"48.2656\" id=\"E5\" rx=\"10\" ry=\"10\" style=\"stroke:#181818;stroke-width:0.5;\" width=\"59\" x=\"126.5\" y=\"54.5\"/><text fill=\"#000000\" font-family=\"sans-serif\" font-size=\"12\" font-style=\"italic\" lengthAdjust=\"spacing\" textLength=\"40\" x=\"136\" y=\"70.6387\">«part»</text><text fill=\"#000000\" font-family=\"sans-serif\" font-size=\"14\" lengthAdjust=\"spacing\" textLength=\"45\" x=\"129.5\" y=\"86.4639\">p1: P1</text><line style=\"stroke:#181818;stroke-width:0.5;\" x1=\"127.5\" x2=\"184.5\" y1=\"94.7656\" y2=\"94.7656\"/></g></a><!--MD5=[60a26617385b1d2d0262a64233df1f8d]\n",
       "class E6--><a href=\"psysml:d614f44e-5180-4509-9cc1-1632afa7b11f\" target=\"_top\" title=\"psysml:d614f44e-5180-4509-9cc1-1632afa7b11f\" xlink:actuate=\"onRequest\" xlink:href=\"psysml:d614f44e-5180-4509-9cc1-1632afa7b11f\" xlink:show=\"new\" xlink:title=\"psysml:d614f44e-5180-4509-9cc1-1632afa7b11f\" xlink:type=\"simple\"><g id=\"elem_E6\"><rect fill=\"#FFFFFF\" height=\"48.2656\" id=\"E6\" rx=\"10\" ry=\"10\" style=\"stroke:#181818;stroke-width:0.5;\" width=\"42\" x=\"83\" y=\"189.5\"/><text fill=\"#000000\" font-family=\"sans-serif\" font-size=\"12\" font-style=\"italic\" lengthAdjust=\"spacing\" textLength=\"40\" x=\"84\" y=\"205.6387\">«port»</text><text fill=\"#000000\" font-family=\"sans-serif\" font-size=\"14\" lengthAdjust=\"spacing\" textLength=\"27\" x=\"86.5\" y=\"221.4639\">po1</text><line style=\"stroke:#181818;stroke-width:0.5;\" x1=\"84\" x2=\"124\" y1=\"229.7656\" y2=\"229.7656\"/></g></a><!--MD5=[2156ba9850f5573cc1fc38a6a4b2f02b]\n",
       "class E7--><a href=\"psysml:8277226e-c173-411e-8d8e-d31bb811c94b\" target=\"_top\" title=\"psysml:8277226e-c173-411e-8d8e-d31bb811c94b\" xlink:actuate=\"onRequest\" xlink:href=\"psysml:8277226e-c173-411e-8d8e-d31bb811c94b\" xlink:show=\"new\" xlink:title=\"psysml:8277226e-c173-411e-8d8e-d31bb811c94b\" xlink:type=\"simple\"><g id=\"elem_E7\"><rect fill=\"#FFFFFF\" height=\"75.0813\" id=\"E7\" rx=\"10\" ry=\"10\" style=\"stroke:#181818;stroke-width:0.5;\" width=\"59\" x=\"32.5\" y=\"41\"/><text fill=\"#000000\" font-family=\"sans-serif\" font-size=\"12\" font-style=\"italic\" lengthAdjust=\"spacing\" textLength=\"40\" x=\"42\" y=\"57.1387\">«part»</text><text fill=\"#000000\" font-family=\"sans-serif\" font-size=\"14\" lengthAdjust=\"spacing\" textLength=\"45\" x=\"35.5\" y=\"72.9639\">p2: P1</text><line style=\"stroke:#181818;stroke-width:0.5;\" x1=\"33.5\" x2=\"90.5\" y1=\"81.2656\" y2=\"81.2656\"/><text fill=\"#000000\" font-family=\"sans-serif\" font-size=\"14\" lengthAdjust=\"spacing\" textLength=\"40\" x=\"38.5\" y=\"108.7795\">pdest</text><text fill=\"#000000\" font-family=\"sans-serif\" font-size=\"14\" font-style=\"italic\" lengthAdjust=\"spacing\" textLength=\"36\" x=\"44\" y=\"93.6123\">ports</text></g></a><!--MD5=[b9389687b975829384b498ac4b7476b2]\n",
       "class E8--><a href=\"psysml:88f12717-b335-4bfa-a952-2b65a00cb7af\" target=\"_top\" title=\"psysml:88f12717-b335-4bfa-a952-2b65a00cb7af\" xlink:actuate=\"onRequest\" xlink:href=\"psysml:88f12717-b335-4bfa-a952-2b65a00cb7af\" xlink:show=\"new\" xlink:title=\"psysml:88f12717-b335-4bfa-a952-2b65a00cb7af\" xlink:type=\"simple\"><g id=\"elem_E8\"><rect fill=\"#FFFFFF\" height=\"48.2656\" id=\"E8\" rx=\"10\" ry=\"10\" style=\"stroke:#181818;stroke-width:0.5;\" width=\"54\" x=\"77\" y=\"311\"/><text fill=\"#000000\" font-family=\"sans-serif\" font-size=\"12\" font-style=\"italic\" lengthAdjust=\"spacing\" textLength=\"40\" x=\"84\" y=\"327.1387\">«port»</text><text fill=\"#000000\" font-family=\"sans-serif\" font-size=\"14\" lengthAdjust=\"spacing\" textLength=\"40\" x=\"80\" y=\"342.9639\">pdest</text><line style=\"stroke:#181818;stroke-width:0.5;\" x1=\"78\" x2=\"130\" y1=\"351.2656\" y2=\"351.2656\"/></g></a><!--MD5=[4672eba38e49728da53d11aeb285b987]\n",
       "reverse link E3 to E4--><g id=\"link_E3_E4\"><a href=\"psysml:9ff7bfb9-db47-4597-ac60-7f24b5e1b5c0\" target=\"_top\" title=\"psysml:9ff7bfb9-db47-4597-ac60-7f24b5e1b5c0\" xlink:actuate=\"onRequest\" xlink:href=\"psysml:9ff7bfb9-db47-4597-ac60-7f24b5e1b5c0\" xlink:show=\"new\" xlink:title=\"psysml:9ff7bfb9-db47-4597-ac60-7f24b5e1b5c0\" xlink:type=\"simple\"><path d=\"M195,264.25 C195,280.43 195,297.61 195,310.88 \" fill=\"none\" id=\"E3-backto-E4\" style=\"stroke:#181818;stroke-width:1.0;\"/><polygon fill=\"none\" points=\"195,251,191,257,195,263,199,257,195,251\" style=\"stroke:#181818;stroke-width:1.0;\"/></a></g><!--MD5=[e9be52314489bd878ff4c7144b63c9e1]\n",
       "link E5 to E3--><g id=\"link_E5_E3\"><a href=\"psysml:515868c5-6015-4da5-b3ff-32117e872914\" target=\"_top\" title=\"psysml:515868c5-6015-4da5-b3ff-32117e872914\" xlink:actuate=\"onRequest\" xlink:href=\"psysml:515868c5-6015-4da5-b3ff-32117e872914\" xlink:show=\"new\" xlink:title=\"psysml:515868c5-6015-4da5-b3ff-32117e872914\" xlink:type=\"simple\"><path d=\"M162.79,102.67 C167.16,117.56 173.03,137.58 178.57,156.45 \" fill=\"none\" id=\"E5-to-E3\" style=\"stroke:#181818;stroke-width:1.0;\"/><polygon fill=\"#FFFFFF\" points=\"184.24,175.81,172.1744,159.5489,185.6082,155.6078,184.24,175.81\" style=\"stroke:#181818;stroke-width:1.0;\"/><ellipse cx=\"172.4889\" cy=\"153.5164\" fill=\"#181818\" rx=\"2\" ry=\"2\" style=\"stroke:#181818;stroke-width:1.0;\"/><ellipse cx=\"182.0845\" cy=\"150.7014\" fill=\"#181818\" rx=\"2\" ry=\"2\" style=\"stroke:#181818;stroke-width:1.0;\"/></a></g><!--MD5=[85d356282659285ab4b2cfe2f634dd2b]\n",
       "reverse link E5 to E6--><g id=\"link_E5_E6\"><a href=\"psysml:1a5e094c-b062-4a12-bd0e-4269385c32ea\" target=\"_top\" title=\"psysml:1a5e094c-b062-4a12-bd0e-4269385c32ea\" xlink:actuate=\"onRequest\" xlink:href=\"psysml:1a5e094c-b062-4a12-bd0e-4269385c32ea\" xlink:show=\"new\" xlink:title=\"psysml:1a5e094c-b062-4a12-bd0e-4269385c32ea\" xlink:type=\"simple\"><path d=\"M142.15,114.93 C132.96,138.44 121.15,168.62 113.13,189.15 \" fill=\"none\" id=\"E5-backto-E6\" style=\"stroke:#181818;stroke-width:1.0;\"/><polygon fill=\"none\" points=\"146.94,102.67,141.0321,106.8049,142.5767,113.8486,148.4845,109.7138,146.94,102.67\" style=\"stroke:#181818;stroke-width:1.0;\"/></a></g><!--MD5=[f667431f98296947986a1a7595a31603]\n",
       "link E6 to E4--><g id=\"link_E6_E4\"><a href=\"psysml:70307247-8a04-4365-8b78-a7ff4bcf8dda\" target=\"_top\" title=\"psysml:70307247-8a04-4365-8b78-a7ff4bcf8dda\" xlink:actuate=\"onRequest\" xlink:href=\"psysml:70307247-8a04-4365-8b78-a7ff4bcf8dda\" xlink:show=\"new\" xlink:title=\"psysml:70307247-8a04-4365-8b78-a7ff4bcf8dda\" xlink:type=\"simple\"><path d=\"M121.55,237.54 C133.87,253.72 150.65,275.76 165.07,294.69 \" fill=\"none\" id=\"E6-to-E4\" style=\"stroke:#181818;stroke-width:1.0;\"/><polygon fill=\"#FFFFFF\" points=\"177.2,310.62,160.1219,299.7417,171.2616,291.2619,177.2,310.62\" style=\"stroke:#181818;stroke-width:1.0;\"/><line style=\"stroke:#181818;stroke-width:2.0;\" x1=\"157.8202\" x2=\"168.9599\" y1=\"296.7181\" y2=\"288.2383\"/></a></g><!--MD5=[14ccda38c055a5c0da953d572bc50960]\n",
       "link E7 to E3--><g id=\"link_E7_E3\"><a href=\"psysml:e2fe589c-f14e-47a5-aaf0-9a8ebd450a7c\" target=\"_top\" title=\"psysml:e2fe589c-f14e-47a5-aaf0-9a8ebd450a7c\" xlink:actuate=\"onRequest\" xlink:href=\"psysml:e2fe589c-f14e-47a5-aaf0-9a8ebd450a7c\" xlink:show=\"new\" xlink:title=\"psysml:e2fe589c-f14e-47a5-aaf0-9a8ebd450a7c\" xlink:type=\"simple\"><path d=\"M91.52,109.02 C107.38,124.88 127.36,144.86 145.52,163.02 \" fill=\"none\" id=\"E7-to-E3\" style=\"stroke:#181818;stroke-width:1.0;\"/><polygon fill=\"#FFFFFF\" points=\"159.9,177.4,141.5152,168.9147,151.4147,159.0152,159.9,177.4\" style=\"stroke:#181818;stroke-width:1.0;\"/><ellipse cx=\"138.8989\" cy=\"163.47\" fill=\"#181818\" rx=\"2\" ry=\"2\" style=\"stroke:#181818;stroke-width:1.0;\"/><ellipse cx=\"145.97\" cy=\"156.3989\" fill=\"#181818\" rx=\"2\" ry=\"2\" style=\"stroke:#181818;stroke-width:1.0;\"/></a></g><!--MD5=[dc164f5e8a733ab456ef1add180e9e34]\n",
       "reverse link E7 to E8--><g id=\"link_E7_E8\"><a href=\"psysml:ca64ac56-097c-4feb-943f-895d8fc6b637\" target=\"_top\" title=\"psysml:ca64ac56-097c-4feb-943f-895d8fc6b637\" xlink:actuate=\"onRequest\" xlink:href=\"psysml:ca64ac56-097c-4feb-943f-895d8fc6b637\" xlink:show=\"new\" xlink:title=\"psysml:ca64ac56-097c-4feb-943f-895d8fc6b637\" xlink:type=\"simple\"><path d=\"M63.16,129.31 C64.34,179.95 66,251 66,251 C66,251 82.17,286.32 93.41,310.88 \" fill=\"none\" id=\"E7-backto-E8\" style=\"stroke:#181818;stroke-width:1.0;\"/><polygon fill=\"none\" points=\"62.86,116.29,58.9995,122.3807,63.1368,128.2868,66.9974,122.1961,62.86,116.29\" style=\"stroke:#181818;stroke-width:1.0;\"/></a></g><!--MD5=[0a839d0f80c2d72d4b9b307f046d0de8]\n",
       "link E6 to E8--><g id=\"link_E6_E8\"><a href=\"psysml:f1f85c24-6beb-4ed4-abfc-161aeb53ad8b\" target=\"_top\" title=\"psysml:f1f85c24-6beb-4ed4-abfc-161aeb53ad8b\" xlink:actuate=\"onRequest\" xlink:href=\"psysml:f1f85c24-6beb-4ed4-abfc-161aeb53ad8b\" xlink:show=\"new\" xlink:title=\"psysml:f1f85c24-6beb-4ed4-abfc-161aeb53ad8b\" xlink:type=\"simple\"><path d=\"M93.69,237.54 C90.45,258.57 90.44,289.49 93.64,310.62 \" fill=\"none\" id=\"E6-E8\" style=\"stroke:#181818;stroke-width:3.0;\"/></a></g><!--MD5=[0a839d0f80c2d72d4b9b307f046d0de8]\n",
       "link E6 to E8--><g id=\"link_E6_E8\"><a href=\"psysml:92c8a956-0030-45f2-8c30-896629fb0abd\" target=\"_top\" title=\"psysml:92c8a956-0030-45f2-8c30-896629fb0abd\" xlink:actuate=\"onRequest\" xlink:href=\"psysml:92c8a956-0030-45f2-8c30-896629fb0abd\" xlink:show=\"new\" xlink:title=\"psysml:92c8a956-0030-45f2-8c30-896629fb0abd\" xlink:type=\"simple\"><path d=\"M114.92,237.54 C118.34,258.57 118.36,289.49 114.97,310.62 \" fill=\"none\" id=\"E6-E8-1\" style=\"stroke:#181818;stroke-width:3.0;\"/></a></g><!--MD5=[d63e0d019ccf81c5ce6736ba904810a1]\n",
       "@startuml\r\n",
       "skin sysmlbw\r\n",
       "skinparam monochrome true\r\n",
       "skinparam wrapWidth 300\r\n",
       "hide circle\r\n",
       "skinparam linetype polyline\r\n",
       "\r\n",
       "package \"AliasTest\" as E1  [[psysml:a1c2986a-a425-4687-93ae-51674f2ada97 ]]  {\r\n",
       "comp usage \"b :>ISQSpaceTime::width \" as E2  <<(T,blue) attribute>> [[psysml:f27707b2-90f2-4671-96dd-49a3cebd999e ]] {\r\n",
       "}\r\n",
       "comp def \"P1\" as E3  <<(T,blue) part  def>> [[psysml:d64d4abf-692a-4b0a-b1a7-ca6bfa2152dc ]] {\r\n",
       "##//ports//##\r\n",
       "porig1\r\n",
       "}\r\n",
       "comp usage \"porig1  \" as E4  <<(T,blue) port>> [[psysml:61764694-1d1c-48ba-adaa-4bba53d3d30f ]] {\r\n",
       "}\r\n",
       "comp usage \"p1: P1  \" as E5  <<(T,blue) part>> [[psysml:e8b71076-5181-45d8-952d-6c6c3b8ab27b ]] {\r\n",
       "}\r\n",
       "comp usage \"po1  \" as E6  <<(T,blue) port>> [[psysml:d614f44e-5180-4509-9cc1-1632afa7b11f ]] {\r\n",
       "}\r\n",
       "comp usage \"p2: P1  \" as E7  <<(T,blue) part>> [[psysml:8277226e-c173-411e-8d8e-d31bb811c94b ]] {\r\n",
       "##//ports//##\r\n",
       "pdest\r\n",
       "}\r\n",
       "comp usage \"pdest  \" as E8  <<(T,blue) port>> [[psysml:88f12717-b335-4bfa-a952-2b65a00cb7af ]] {\r\n",
       "}\r\n",
       "}\r\n",
       "E3 o- - E4 [[psysml:9ff7bfb9-db47-4597-ac60-7f24b5e1b5c0 ]] \r\n",
       "E5 - -:|> E3 [[psysml:515868c5-6015-4da5-b3ff-32117e872914 ]] \r\n",
       "E5 o- - E6 [[psysml:1a5e094c-b062-4a12-bd0e-4269385c32ea ]] \r\n",
       "E6 - -||> E4 [[psysml:70307247-8a04-4365-8b78-a7ff4bcf8dda ]] \r\n",
       "E7 - -:|> E3 [[psysml:e2fe589c-f14e-47a5-aaf0-9a8ebd450a7c ]] \r\n",
       "E7 o- - E8 [[psysml:ca64ac56-097c-4feb-943f-895d8fc6b637 ]] \r\n",
       "E6 -[thickness=3]- E8 [[psysml:f1f85c24-6beb-4ed4-abfc-161aeb53ad8b ]] \r\n",
       "E6 -[thickness=3]- E8 [[psysml:92c8a956-0030-45f2-8c30-896629fb0abd ]] \r\n",
       "@enduml\r\n",
       "\n",
       "PlantUML version 1.2022.7(Mon Aug 22 17:01:30 UTC 2022)\n",
       "(EPL source distribution)\n",
       "Java Runtime: OpenJDK Runtime Environment\n",
       "JVM: OpenJDK 64-Bit Server VM\n",
       "Default Encoding: UTF-8\n",
       "Language: en\n",
       "Country: null\n",
       "--></g></svg>"
      ]
     },
     "execution_count": 9,
     "metadata": {},
     "output_type": "execute_result"
    }
   ],
   "source": [
    "%viz --style=\"POLYLINE\" --view=\"Default\" \"AliasTest\""
   ]
  },
  {
   "cell_type": "code",
   "execution_count": 10,
   "id": "30f8eca3",
   "metadata": {
    "execution": {
     "iopub.execute_input": "2024-12-16T03:25:11.816913Z",
     "iopub.status.busy": "2024-12-16T03:25:11.816668Z",
     "iopub.status.idle": "2024-12-16T03:25:11.844644Z",
     "shell.execute_reply": "2024-12-16T03:25:11.844776Z"
    }
   },
   "outputs": [
    {
     "data": {
      "image/svg+xml": [
       "<?xml version=\"1.0\" encoding=\"UTF-8\" standalone=\"no\"?><svg xmlns=\"http://www.w3.org/2000/svg\" xmlns:xlink=\"http://www.w3.org/1999/xlink\" contentStyleType=\"text/css\" height=\"382px\" preserveAspectRatio=\"none\" style=\"width:440px;height:382px;background:#FFFFFF;\" version=\"1.1\" viewBox=\"0 0 440 382\" width=\"440px\" zoomAndPan=\"magnify\"><defs/><g><!--MD5=[fbc87193dbaf4d95561dea2c320d4a47]\n",
       "cluster E1--><g id=\"cluster_E1\"><a href=\"psysml:a1c2986a-a425-4687-93ae-51674f2ada97\" target=\"_top\" title=\"psysml:a1c2986a-a425-4687-93ae-51674f2ada97\" xlink:actuate=\"onRequest\" xlink:href=\"psysml:a1c2986a-a425-4687-93ae-51674f2ada97\" xlink:show=\"new\" xlink:title=\"psysml:a1c2986a-a425-4687-93ae-51674f2ada97\" xlink:type=\"simple\"><polygon fill=\"none\" points=\"16,6,87.9375,6,94.9375,28.2969,423,28.2969,423,375,16,375,16,6\" style=\"stroke:#000000;stroke-width:1.5;\"/><line style=\"stroke:#000000;stroke-width:1.5;\" x1=\"16\" x2=\"94.9375\" y1=\"28.2969\" y2=\"28.2969\"/><text fill=\"#000000\" font-family=\"sans-serif\" font-size=\"14\" font-weight=\"bold\" lengthAdjust=\"spacing\" textLength=\"65.9375\" x=\"20\" y=\"20.9951\">AliasTest</text></a></g><!--MD5=[b4997ac47864f28c2f74865a473b2911]\n",
       "class E2--><a href=\"psysml:f27707b2-90f2-4671-96dd-49a3cebd999e\" target=\"_top\" title=\"psysml:f27707b2-90f2-4671-96dd-49a3cebd999e\" xlink:actuate=\"onRequest\" xlink:href=\"psysml:f27707b2-90f2-4671-96dd-49a3cebd999e\" xlink:show=\"new\" xlink:title=\"psysml:f27707b2-90f2-4671-96dd-49a3cebd999e\" xlink:type=\"simple\"><g id=\"elem_E2\"><rect fill=\"#FFFFFF\" height=\"48.2656\" id=\"E2\" rx=\"10\" ry=\"10\" style=\"stroke:#181818;stroke-width:0.5;\" width=\"187\" x=\"220.5\" y=\"54.5\"/><text fill=\"#000000\" font-family=\"sans-serif\" font-size=\"12\" font-style=\"italic\" lengthAdjust=\"spacing\" textLength=\"69\" x=\"279.5\" y=\"70.6387\">«attribute»</text><text fill=\"#000000\" font-family=\"sans-serif\" font-size=\"14\" lengthAdjust=\"spacing\" textLength=\"177\" x=\"223.5\" y=\"86.4639\">b :&gt;ISQSpaceTime::width</text><line style=\"stroke:#181818;stroke-width:0.5;\" x1=\"221.5\" x2=\"406.5\" y1=\"94.7656\" y2=\"94.7656\"/></g></a><!--MD5=[09b614a08d8cba4a07c9adeb5e0fee81]\n",
       "class E3--><a href=\"psysml:d64d4abf-692a-4b0a-b1a7-ca6bfa2152dc\" target=\"_top\" title=\"psysml:d64d4abf-692a-4b0a-b1a7-ca6bfa2152dc\" xlink:actuate=\"onRequest\" xlink:href=\"psysml:d64d4abf-692a-4b0a-b1a7-ca6bfa2152dc\" xlink:show=\"new\" xlink:title=\"psysml:d64d4abf-692a-4b0a-b1a7-ca6bfa2152dc\" xlink:type=\"simple\"><g id=\"elem_E3\"><rect fill=\"#FFFFFF\" height=\"75.0813\" id=\"E3\" style=\"stroke:#181818;stroke-width:0.5;\" width=\"70\" x=\"160\" y=\"176\"/><text fill=\"#000000\" font-family=\"sans-serif\" font-size=\"12\" font-style=\"italic\" lengthAdjust=\"spacing\" textLength=\"68\" x=\"161\" y=\"192.1387\">«part  def»</text><text fill=\"#000000\" font-family=\"sans-serif\" font-size=\"14\" lengthAdjust=\"spacing\" textLength=\"18\" x=\"186\" y=\"207.9639\">P1</text><line style=\"stroke:#181818;stroke-width:0.5;\" x1=\"161\" x2=\"229\" y1=\"216.2656\" y2=\"216.2656\"/><text fill=\"#000000\" font-family=\"sans-serif\" font-size=\"14\" lengthAdjust=\"spacing\" textLength=\"44\" x=\"166\" y=\"243.7795\">porig1</text><text fill=\"#000000\" font-family=\"sans-serif\" font-size=\"14\" font-style=\"italic\" lengthAdjust=\"spacing\" textLength=\"36\" x=\"177\" y=\"228.6123\">ports</text></g></a><!--MD5=[ebbe1d658d1005bcc118a6aa81145e00]\n",
       "class E4--><a href=\"psysml:61764694-1d1c-48ba-adaa-4bba53d3d30f\" target=\"_top\" title=\"psysml:61764694-1d1c-48ba-adaa-4bba53d3d30f\" xlink:actuate=\"onRequest\" xlink:href=\"psysml:61764694-1d1c-48ba-adaa-4bba53d3d30f\" xlink:show=\"new\" xlink:title=\"psysml:61764694-1d1c-48ba-adaa-4bba53d3d30f\" xlink:type=\"simple\"><g id=\"elem_E4\"><rect fill=\"#FFFFFF\" height=\"48.2656\" id=\"E4\" rx=\"10\" ry=\"10\" style=\"stroke:#181818;stroke-width:0.5;\" width=\"58\" x=\"166\" y=\"311\"/><text fill=\"#000000\" font-family=\"sans-serif\" font-size=\"12\" font-style=\"italic\" lengthAdjust=\"spacing\" textLength=\"40\" x=\"175\" y=\"327.1387\">«port»</text><text fill=\"#000000\" font-family=\"sans-serif\" font-size=\"14\" lengthAdjust=\"spacing\" textLength=\"44\" x=\"169\" y=\"342.9639\">porig1</text><line style=\"stroke:#181818;stroke-width:0.5;\" x1=\"167\" x2=\"223\" y1=\"351.2656\" y2=\"351.2656\"/></g></a><!--MD5=[270fce915f116d4de14055a7c1d9a0f3]\n",
       "class E5--><a href=\"psysml:e8b71076-5181-45d8-952d-6c6c3b8ab27b\" target=\"_top\" title=\"psysml:e8b71076-5181-45d8-952d-6c6c3b8ab27b\" xlink:actuate=\"onRequest\" xlink:href=\"psysml:e8b71076-5181-45d8-952d-6c6c3b8ab27b\" xlink:show=\"new\" xlink:title=\"psysml:e8b71076-5181-45d8-952d-6c6c3b8ab27b\" xlink:type=\"simple\"><g id=\"elem_E5\"><rect fill=\"#FFFFFF\" height=\"48.2656\" id=\"E5\" rx=\"10\" ry=\"10\" style=\"stroke:#181818;stroke-width:0.5;\" width=\"59\" x=\"126.5\" y=\"54.5\"/><text fill=\"#000000\" font-family=\"sans-serif\" font-size=\"12\" font-style=\"italic\" lengthAdjust=\"spacing\" textLength=\"40\" x=\"136\" y=\"70.6387\">«part»</text><text fill=\"#000000\" font-family=\"sans-serif\" font-size=\"14\" lengthAdjust=\"spacing\" textLength=\"45\" x=\"129.5\" y=\"86.4639\">p1: P1</text><line style=\"stroke:#181818;stroke-width:0.5;\" x1=\"127.5\" x2=\"184.5\" y1=\"94.7656\" y2=\"94.7656\"/></g></a><!--MD5=[60a26617385b1d2d0262a64233df1f8d]\n",
       "class E6--><a href=\"psysml:d614f44e-5180-4509-9cc1-1632afa7b11f\" target=\"_top\" title=\"psysml:d614f44e-5180-4509-9cc1-1632afa7b11f\" xlink:actuate=\"onRequest\" xlink:href=\"psysml:d614f44e-5180-4509-9cc1-1632afa7b11f\" xlink:show=\"new\" xlink:title=\"psysml:d614f44e-5180-4509-9cc1-1632afa7b11f\" xlink:type=\"simple\"><g id=\"elem_E6\"><rect fill=\"#FFFFFF\" height=\"48.2656\" id=\"E6\" rx=\"10\" ry=\"10\" style=\"stroke:#181818;stroke-width:0.5;\" width=\"42\" x=\"83\" y=\"189.5\"/><text fill=\"#000000\" font-family=\"sans-serif\" font-size=\"12\" font-style=\"italic\" lengthAdjust=\"spacing\" textLength=\"40\" x=\"84\" y=\"205.6387\">«port»</text><text fill=\"#000000\" font-family=\"sans-serif\" font-size=\"14\" lengthAdjust=\"spacing\" textLength=\"27\" x=\"86.5\" y=\"221.4639\">po1</text><line style=\"stroke:#181818;stroke-width:0.5;\" x1=\"84\" x2=\"124\" y1=\"229.7656\" y2=\"229.7656\"/></g></a><!--MD5=[2156ba9850f5573cc1fc38a6a4b2f02b]\n",
       "class E7--><a href=\"psysml:8277226e-c173-411e-8d8e-d31bb811c94b\" target=\"_top\" title=\"psysml:8277226e-c173-411e-8d8e-d31bb811c94b\" xlink:actuate=\"onRequest\" xlink:href=\"psysml:8277226e-c173-411e-8d8e-d31bb811c94b\" xlink:show=\"new\" xlink:title=\"psysml:8277226e-c173-411e-8d8e-d31bb811c94b\" xlink:type=\"simple\"><g id=\"elem_E7\"><rect fill=\"#FFFFFF\" height=\"75.0813\" id=\"E7\" rx=\"10\" ry=\"10\" style=\"stroke:#181818;stroke-width:0.5;\" width=\"59\" x=\"32.5\" y=\"41\"/><text fill=\"#000000\" font-family=\"sans-serif\" font-size=\"12\" font-style=\"italic\" lengthAdjust=\"spacing\" textLength=\"40\" x=\"42\" y=\"57.1387\">«part»</text><text fill=\"#000000\" font-family=\"sans-serif\" font-size=\"14\" lengthAdjust=\"spacing\" textLength=\"45\" x=\"35.5\" y=\"72.9639\">p2: P1</text><line style=\"stroke:#181818;stroke-width:0.5;\" x1=\"33.5\" x2=\"90.5\" y1=\"81.2656\" y2=\"81.2656\"/><text fill=\"#000000\" font-family=\"sans-serif\" font-size=\"14\" lengthAdjust=\"spacing\" textLength=\"40\" x=\"38.5\" y=\"108.7795\">pdest</text><text fill=\"#000000\" font-family=\"sans-serif\" font-size=\"14\" font-style=\"italic\" lengthAdjust=\"spacing\" textLength=\"36\" x=\"44\" y=\"93.6123\">ports</text></g></a><!--MD5=[b9389687b975829384b498ac4b7476b2]\n",
       "class E8--><a href=\"psysml:88f12717-b335-4bfa-a952-2b65a00cb7af\" target=\"_top\" title=\"psysml:88f12717-b335-4bfa-a952-2b65a00cb7af\" xlink:actuate=\"onRequest\" xlink:href=\"psysml:88f12717-b335-4bfa-a952-2b65a00cb7af\" xlink:show=\"new\" xlink:title=\"psysml:88f12717-b335-4bfa-a952-2b65a00cb7af\" xlink:type=\"simple\"><g id=\"elem_E8\"><rect fill=\"#FFFFFF\" height=\"48.2656\" id=\"E8\" rx=\"10\" ry=\"10\" style=\"stroke:#181818;stroke-width:0.5;\" width=\"54\" x=\"77\" y=\"311\"/><text fill=\"#000000\" font-family=\"sans-serif\" font-size=\"12\" font-style=\"italic\" lengthAdjust=\"spacing\" textLength=\"40\" x=\"84\" y=\"327.1387\">«port»</text><text fill=\"#000000\" font-family=\"sans-serif\" font-size=\"14\" lengthAdjust=\"spacing\" textLength=\"40\" x=\"80\" y=\"342.9639\">pdest</text><line style=\"stroke:#181818;stroke-width:0.5;\" x1=\"78\" x2=\"130\" y1=\"351.2656\" y2=\"351.2656\"/></g></a><!--MD5=[4672eba38e49728da53d11aeb285b987]\n",
       "reverse link E3 to E4--><g id=\"link_E3_E4\"><a href=\"psysml:9ff7bfb9-db47-4597-ac60-7f24b5e1b5c0\" target=\"_top\" title=\"psysml:9ff7bfb9-db47-4597-ac60-7f24b5e1b5c0\" xlink:actuate=\"onRequest\" xlink:href=\"psysml:9ff7bfb9-db47-4597-ac60-7f24b5e1b5c0\" xlink:show=\"new\" xlink:title=\"psysml:9ff7bfb9-db47-4597-ac60-7f24b5e1b5c0\" xlink:type=\"simple\"><path d=\"M195,264.25 C195,280.43 195,297.61 195,310.88 \" fill=\"none\" id=\"E3-backto-E4\" style=\"stroke:#181818;stroke-width:1.0;\"/><polygon fill=\"none\" points=\"195,251,191,257,195,263,199,257,195,251\" style=\"stroke:#181818;stroke-width:1.0;\"/></a></g><!--MD5=[e9be52314489bd878ff4c7144b63c9e1]\n",
       "link E5 to E3--><g id=\"link_E5_E3\"><a href=\"psysml:515868c5-6015-4da5-b3ff-32117e872914\" target=\"_top\" title=\"psysml:515868c5-6015-4da5-b3ff-32117e872914\" xlink:actuate=\"onRequest\" xlink:href=\"psysml:515868c5-6015-4da5-b3ff-32117e872914\" xlink:show=\"new\" xlink:title=\"psysml:515868c5-6015-4da5-b3ff-32117e872914\" xlink:type=\"simple\"><path d=\"M162.79,102.67 C167.16,117.56 173.03,137.58 178.57,156.45 \" fill=\"none\" id=\"E5-to-E3\" style=\"stroke:#181818;stroke-width:1.0;\"/><polygon fill=\"#FFFFFF\" points=\"184.24,175.81,172.1744,159.5489,185.6082,155.6078,184.24,175.81\" style=\"stroke:#181818;stroke-width:1.0;\"/><ellipse cx=\"172.4889\" cy=\"153.5164\" fill=\"#181818\" rx=\"2\" ry=\"2\" style=\"stroke:#181818;stroke-width:1.0;\"/><ellipse cx=\"182.0845\" cy=\"150.7014\" fill=\"#181818\" rx=\"2\" ry=\"2\" style=\"stroke:#181818;stroke-width:1.0;\"/></a></g><!--MD5=[85d356282659285ab4b2cfe2f634dd2b]\n",
       "reverse link E5 to E6--><g id=\"link_E5_E6\"><a href=\"psysml:1a5e094c-b062-4a12-bd0e-4269385c32ea\" target=\"_top\" title=\"psysml:1a5e094c-b062-4a12-bd0e-4269385c32ea\" xlink:actuate=\"onRequest\" xlink:href=\"psysml:1a5e094c-b062-4a12-bd0e-4269385c32ea\" xlink:show=\"new\" xlink:title=\"psysml:1a5e094c-b062-4a12-bd0e-4269385c32ea\" xlink:type=\"simple\"><path d=\"M142.15,114.93 C132.96,138.44 121.15,168.62 113.13,189.15 \" fill=\"none\" id=\"E5-backto-E6\" style=\"stroke:#181818;stroke-width:1.0;\"/><polygon fill=\"none\" points=\"146.94,102.67,141.0321,106.8049,142.5767,113.8486,148.4845,109.7138,146.94,102.67\" style=\"stroke:#181818;stroke-width:1.0;\"/></a></g><!--MD5=[f667431f98296947986a1a7595a31603]\n",
       "link E6 to E4--><g id=\"link_E6_E4\"><a href=\"psysml:70307247-8a04-4365-8b78-a7ff4bcf8dda\" target=\"_top\" title=\"psysml:70307247-8a04-4365-8b78-a7ff4bcf8dda\" xlink:actuate=\"onRequest\" xlink:href=\"psysml:70307247-8a04-4365-8b78-a7ff4bcf8dda\" xlink:show=\"new\" xlink:title=\"psysml:70307247-8a04-4365-8b78-a7ff4bcf8dda\" xlink:type=\"simple\"><path d=\"M121.55,237.54 C133.87,253.72 150.65,275.76 165.07,294.69 \" fill=\"none\" id=\"E6-to-E4\" style=\"stroke:#181818;stroke-width:1.0;\"/><polygon fill=\"#FFFFFF\" points=\"177.2,310.62,160.1219,299.7417,171.2616,291.2619,177.2,310.62\" style=\"stroke:#181818;stroke-width:1.0;\"/><line style=\"stroke:#181818;stroke-width:2.0;\" x1=\"157.8202\" x2=\"168.9599\" y1=\"296.7181\" y2=\"288.2383\"/></a></g><!--MD5=[14ccda38c055a5c0da953d572bc50960]\n",
       "link E7 to E3--><g id=\"link_E7_E3\"><a href=\"psysml:e2fe589c-f14e-47a5-aaf0-9a8ebd450a7c\" target=\"_top\" title=\"psysml:e2fe589c-f14e-47a5-aaf0-9a8ebd450a7c\" xlink:actuate=\"onRequest\" xlink:href=\"psysml:e2fe589c-f14e-47a5-aaf0-9a8ebd450a7c\" xlink:show=\"new\" xlink:title=\"psysml:e2fe589c-f14e-47a5-aaf0-9a8ebd450a7c\" xlink:type=\"simple\"><path d=\"M91.52,109.02 C107.38,124.88 127.36,144.86 145.52,163.02 \" fill=\"none\" id=\"E7-to-E3\" style=\"stroke:#181818;stroke-width:1.0;\"/><polygon fill=\"#FFFFFF\" points=\"159.9,177.4,141.5152,168.9147,151.4147,159.0152,159.9,177.4\" style=\"stroke:#181818;stroke-width:1.0;\"/><ellipse cx=\"138.8989\" cy=\"163.47\" fill=\"#181818\" rx=\"2\" ry=\"2\" style=\"stroke:#181818;stroke-width:1.0;\"/><ellipse cx=\"145.97\" cy=\"156.3989\" fill=\"#181818\" rx=\"2\" ry=\"2\" style=\"stroke:#181818;stroke-width:1.0;\"/></a></g><!--MD5=[dc164f5e8a733ab456ef1add180e9e34]\n",
       "reverse link E7 to E8--><g id=\"link_E7_E8\"><a href=\"psysml:ca64ac56-097c-4feb-943f-895d8fc6b637\" target=\"_top\" title=\"psysml:ca64ac56-097c-4feb-943f-895d8fc6b637\" xlink:actuate=\"onRequest\" xlink:href=\"psysml:ca64ac56-097c-4feb-943f-895d8fc6b637\" xlink:show=\"new\" xlink:title=\"psysml:ca64ac56-097c-4feb-943f-895d8fc6b637\" xlink:type=\"simple\"><path d=\"M63.16,129.31 C64.34,179.95 66,251 66,251 C66,251 82.17,286.32 93.41,310.88 \" fill=\"none\" id=\"E7-backto-E8\" style=\"stroke:#181818;stroke-width:1.0;\"/><polygon fill=\"none\" points=\"62.86,116.29,58.9995,122.3807,63.1368,128.2868,66.9974,122.1961,62.86,116.29\" style=\"stroke:#181818;stroke-width:1.0;\"/></a></g><!--MD5=[0a839d0f80c2d72d4b9b307f046d0de8]\n",
       "link E6 to E8--><g id=\"link_E6_E8\"><a href=\"psysml:f1f85c24-6beb-4ed4-abfc-161aeb53ad8b\" target=\"_top\" title=\"psysml:f1f85c24-6beb-4ed4-abfc-161aeb53ad8b\" xlink:actuate=\"onRequest\" xlink:href=\"psysml:f1f85c24-6beb-4ed4-abfc-161aeb53ad8b\" xlink:show=\"new\" xlink:title=\"psysml:f1f85c24-6beb-4ed4-abfc-161aeb53ad8b\" xlink:type=\"simple\"><path d=\"M93.69,237.54 C90.45,258.57 90.44,289.49 93.64,310.62 \" fill=\"none\" id=\"E6-E8\" style=\"stroke:#181818;stroke-width:3.0;\"/></a></g><!--MD5=[0a839d0f80c2d72d4b9b307f046d0de8]\n",
       "link E6 to E8--><g id=\"link_E6_E8\"><a href=\"psysml:92c8a956-0030-45f2-8c30-896629fb0abd\" target=\"_top\" title=\"psysml:92c8a956-0030-45f2-8c30-896629fb0abd\" xlink:actuate=\"onRequest\" xlink:href=\"psysml:92c8a956-0030-45f2-8c30-896629fb0abd\" xlink:show=\"new\" xlink:title=\"psysml:92c8a956-0030-45f2-8c30-896629fb0abd\" xlink:type=\"simple\"><path d=\"M114.92,237.54 C118.34,258.57 118.36,289.49 114.97,310.62 \" fill=\"none\" id=\"E6-E8-1\" style=\"stroke:#181818;stroke-width:3.0;\"/></a></g><!--MD5=[d63e0d019ccf81c5ce6736ba904810a1]\n",
       "@startuml\r\n",
       "skin sysmlbw\r\n",
       "skinparam monochrome true\r\n",
       "skinparam wrapWidth 300\r\n",
       "hide circle\r\n",
       "skinparam linetype polyline\r\n",
       "\r\n",
       "package \"AliasTest\" as E1  [[psysml:a1c2986a-a425-4687-93ae-51674f2ada97 ]]  {\r\n",
       "comp usage \"b :>ISQSpaceTime::width \" as E2  <<(T,blue) attribute>> [[psysml:f27707b2-90f2-4671-96dd-49a3cebd999e ]] {\r\n",
       "}\r\n",
       "comp def \"P1\" as E3  <<(T,blue) part  def>> [[psysml:d64d4abf-692a-4b0a-b1a7-ca6bfa2152dc ]] {\r\n",
       "##//ports//##\r\n",
       "porig1\r\n",
       "}\r\n",
       "comp usage \"porig1  \" as E4  <<(T,blue) port>> [[psysml:61764694-1d1c-48ba-adaa-4bba53d3d30f ]] {\r\n",
       "}\r\n",
       "comp usage \"p1: P1  \" as E5  <<(T,blue) part>> [[psysml:e8b71076-5181-45d8-952d-6c6c3b8ab27b ]] {\r\n",
       "}\r\n",
       "comp usage \"po1  \" as E6  <<(T,blue) port>> [[psysml:d614f44e-5180-4509-9cc1-1632afa7b11f ]] {\r\n",
       "}\r\n",
       "comp usage \"p2: P1  \" as E7  <<(T,blue) part>> [[psysml:8277226e-c173-411e-8d8e-d31bb811c94b ]] {\r\n",
       "##//ports//##\r\n",
       "pdest\r\n",
       "}\r\n",
       "comp usage \"pdest  \" as E8  <<(T,blue) port>> [[psysml:88f12717-b335-4bfa-a952-2b65a00cb7af ]] {\r\n",
       "}\r\n",
       "}\r\n",
       "E3 o- - E4 [[psysml:9ff7bfb9-db47-4597-ac60-7f24b5e1b5c0 ]] \r\n",
       "E5 - -:|> E3 [[psysml:515868c5-6015-4da5-b3ff-32117e872914 ]] \r\n",
       "E5 o- - E6 [[psysml:1a5e094c-b062-4a12-bd0e-4269385c32ea ]] \r\n",
       "E6 - -||> E4 [[psysml:70307247-8a04-4365-8b78-a7ff4bcf8dda ]] \r\n",
       "E7 - -:|> E3 [[psysml:e2fe589c-f14e-47a5-aaf0-9a8ebd450a7c ]] \r\n",
       "E7 o- - E8 [[psysml:ca64ac56-097c-4feb-943f-895d8fc6b637 ]] \r\n",
       "E6 -[thickness=3]- E8 [[psysml:f1f85c24-6beb-4ed4-abfc-161aeb53ad8b ]] \r\n",
       "E6 -[thickness=3]- E8 [[psysml:92c8a956-0030-45f2-8c30-896629fb0abd ]] \r\n",
       "@enduml\r\n",
       "\n",
       "PlantUML version 1.2022.7(Mon Aug 22 17:01:30 UTC 2022)\n",
       "(EPL source distribution)\n",
       "Java Runtime: OpenJDK Runtime Environment\n",
       "JVM: OpenJDK 64-Bit Server VM\n",
       "Default Encoding: UTF-8\n",
       "Language: en\n",
       "Country: null\n",
       "--></g></svg>"
      ]
     },
     "execution_count": 10,
     "metadata": {},
     "output_type": "execute_result"
    }
   ],
   "source": [
    "%viz --style=\"POLYLINE\" --view=\"Tree\" \"AliasTest\""
   ]
  },
  {
   "cell_type": "code",
   "execution_count": 11,
   "id": "f38cce1d",
   "metadata": {
    "execution": {
     "iopub.execute_input": "2024-12-16T03:25:11.897374Z",
     "iopub.status.busy": "2024-12-16T03:25:11.897188Z",
     "iopub.status.idle": "2024-12-16T03:25:11.905081Z",
     "shell.execute_reply": "2024-12-16T03:25:11.905227Z"
    }
   },
   "outputs": [
    {
     "data": {
      "image/svg+xml": [
       "<?xml version=\"1.0\" encoding=\"UTF-8\" standalone=\"no\"?><svg xmlns=\"http://www.w3.org/2000/svg\" xmlns:xlink=\"http://www.w3.org/1999/xlink\" contentStyleType=\"text/css\" height=\"10px\" preserveAspectRatio=\"none\" style=\"width:10px;height:10px;background:#FFFFFF;\" version=\"1.1\" viewBox=\"0 0 10 10\" width=\"10px\" zoomAndPan=\"magnify\"><defs/><g><!--MD5=[20bed88d98f2aabbefdc8661420d403d]\n",
       "@startuml\r\n",
       "skin sysmlbw\r\n",
       "skinparam monochrome true\r\n",
       "skinparam wrapWidth 300\r\n",
       "hide circle\r\n",
       "skinparam linetype polyline\r\n",
       "\r\n",
       "@enduml\r\n",
       "\n",
       "PlantUML version 1.2022.7(Mon Aug 22 17:01:30 UTC 2022)\n",
       "(EPL source distribution)\n",
       "Java Runtime: OpenJDK Runtime Environment\n",
       "JVM: OpenJDK 64-Bit Server VM\n",
       "Default Encoding: UTF-8\n",
       "Language: en\n",
       "Country: null\n",
       "--></g></svg>"
      ]
     },
     "execution_count": 11,
     "metadata": {},
     "output_type": "execute_result"
    }
   ],
   "source": [
    "%viz --style=\"POLYLINE\" --view=\"State\" \"AliasTest\""
   ]
  },
  {
   "cell_type": "code",
   "execution_count": 12,
   "id": "10d2a541",
   "metadata": {
    "execution": {
     "iopub.execute_input": "2024-12-16T03:25:11.961367Z",
     "iopub.status.busy": "2024-12-16T03:25:11.961144Z",
     "iopub.status.idle": "2024-12-16T03:25:11.992144Z",
     "shell.execute_reply": "2024-12-16T03:25:11.991306Z"
    }
   },
   "outputs": [
    {
     "data": {
      "image/svg+xml": [
       "<?xml version=\"1.0\" encoding=\"UTF-8\" standalone=\"no\"?><svg xmlns=\"http://www.w3.org/2000/svg\" xmlns:xlink=\"http://www.w3.org/1999/xlink\" contentStyleType=\"text/css\" height=\"394px\" preserveAspectRatio=\"none\" style=\"width:387px;height:394px;background:#FFFFFF;\" version=\"1.1\" viewBox=\"0 0 387 394\" width=\"387px\" zoomAndPan=\"magnify\"><defs/><g><!--MD5=[fbc87193dbaf4d95561dea2c320d4a47]\n",
       "cluster E1--><g id=\"cluster_E1\"><a href=\"psysml:a1c2986a-a425-4687-93ae-51674f2ada97\" target=\"_top\" title=\"psysml:a1c2986a-a425-4687-93ae-51674f2ada97\" xlink:actuate=\"onRequest\" xlink:href=\"psysml:a1c2986a-a425-4687-93ae-51674f2ada97\" xlink:show=\"new\" xlink:title=\"psysml:a1c2986a-a425-4687-93ae-51674f2ada97\" xlink:type=\"simple\"><polygon fill=\"none\" points=\"16,6,87.9375,6,94.9375,28.2969,370,28.2969,370,387.36,16,387.36,16,6\" style=\"stroke:#000000;stroke-width:1.5;\"/><line style=\"stroke:#000000;stroke-width:1.5;\" x1=\"16\" x2=\"94.9375\" y1=\"28.2969\" y2=\"28.2969\"/><text fill=\"#000000\" font-family=\"sans-serif\" font-size=\"14\" font-weight=\"bold\" lengthAdjust=\"spacing\" textLength=\"65.9375\" x=\"20\" y=\"20.9951\">AliasTest</text></a></g><!--MD5=[d5e69f78d87373223dbae638b30a9c99]\n",
       "cluster E3--><g id=\"cluster_E3\"><a href=\"psysml:d64d4abf-692a-4b0a-b1a7-ca6bfa2152dc\" target=\"_top\" title=\"psysml:d64d4abf-692a-4b0a-b1a7-ca6bfa2152dc\" xlink:actuate=\"onRequest\" xlink:href=\"psysml:d64d4abf-692a-4b0a-b1a7-ca6bfa2152dc\" xlink:show=\"new\" xlink:title=\"psysml:d64d4abf-692a-4b0a-b1a7-ca6bfa2152dc\" xlink:type=\"simple\"><rect fill=\"#FFFFFF\" height=\"124.5\" id=\"E3\" style=\"stroke:#383838;stroke-width:1.5;\" width=\"144\" x=\"202\" y=\"238.86\"/><text fill=\"#000000\" font-family=\"sans-serif\" font-size=\"12\" font-style=\"italic\" lengthAdjust=\"spacing\" textLength=\"68\" x=\"240\" y=\"254.9987\">«part  def»</text><text fill=\"#000000\" font-family=\"sans-serif\" font-size=\"14\" lengthAdjust=\"spacing\" textLength=\"18\" x=\"265\" y=\"270.8239\">P1</text><line style=\"stroke:#383838;stroke-width:1.0;\" x1=\"202\" x2=\"346\" y1=\"279.1256\" y2=\"279.1256\"/></a></g><!--MD5=[14e3b0961a2654348d326746436168a1]\n",
       "cluster E6--><g id=\"cluster_E6\"><a href=\"psysml:e8b71076-5181-45d8-952d-6c6c3b8ab27b\" target=\"_top\" title=\"psysml:e8b71076-5181-45d8-952d-6c6c3b8ab27b\" xlink:actuate=\"onRequest\" xlink:href=\"psysml:e8b71076-5181-45d8-952d-6c6c3b8ab27b\" xlink:show=\"new\" xlink:title=\"psysml:e8b71076-5181-45d8-952d-6c6c3b8ab27b\" xlink:type=\"simple\"><rect fill=\"#FFFFFF\" height=\"98.36\" id=\"E6\" rx=\"10\" ry=\"10\" style=\"stroke:#383838;stroke-width:1.5;\" width=\"116\" x=\"230\" y=\"49\"/><text fill=\"#000000\" font-family=\"sans-serif\" font-size=\"14\" lengthAdjust=\"spacing\" textLength=\"45\" x=\"265.5\" y=\"66.9951\">p1: P1</text><line style=\"stroke:#383838;stroke-width:1.0;\" x1=\"230\" x2=\"346\" y1=\"75.2969\" y2=\"75.2969\"/></a></g><!--MD5=[55dfccfc6c49c2d10cd1bd2211a6c90c]\n",
       "cluster E8--><g id=\"cluster_E8\"><a href=\"psysml:8277226e-c173-411e-8d8e-d31bb811c94b\" target=\"_top\" title=\"psysml:8277226e-c173-411e-8d8e-d31bb811c94b\" xlink:actuate=\"onRequest\" xlink:href=\"psysml:8277226e-c173-411e-8d8e-d31bb811c94b\" xlink:show=\"new\" xlink:title=\"psysml:8277226e-c173-411e-8d8e-d31bb811c94b\" xlink:type=\"simple\"><rect fill=\"#FFFFFF\" height=\"73\" id=\"E8\" rx=\"10\" ry=\"10\" style=\"stroke:#383838;stroke-width:1.5;\" width=\"83\" x=\"103\" y=\"199.36\"/><text fill=\"#000000\" font-family=\"sans-serif\" font-size=\"14\" lengthAdjust=\"spacing\" textLength=\"45\" x=\"122\" y=\"217.3551\">p2: P1</text><line style=\"stroke:#383838;stroke-width:1.0;\" x1=\"103\" x2=\"186\" y1=\"225.6569\" y2=\"225.6569\"/></a></g><!--MD5=[b4997ac47864f28c2f74865a473b2911]\n",
       "class E2--><a href=\"psysml:f27707b2-90f2-4671-96dd-49a3cebd999e\" target=\"_top\" title=\"psysml:f27707b2-90f2-4671-96dd-49a3cebd999e\" xlink:actuate=\"onRequest\" xlink:href=\"psysml:f27707b2-90f2-4671-96dd-49a3cebd999e\" xlink:show=\"new\" xlink:title=\"psysml:f27707b2-90f2-4671-96dd-49a3cebd999e\" xlink:type=\"simple\"><g id=\"elem_E2\"><rect fill=\"#FFFFFF\" height=\"48.2656\" id=\"E2\" rx=\"10\" ry=\"10\" style=\"stroke:#181818;stroke-width:0.5;\" width=\"187\" x=\"31.5\" y=\"58.5\"/><text fill=\"#000000\" font-family=\"sans-serif\" font-size=\"12\" font-style=\"italic\" lengthAdjust=\"spacing\" textLength=\"69\" x=\"90.5\" y=\"74.6387\">«attribute»</text><text fill=\"#000000\" font-family=\"sans-serif\" font-size=\"14\" lengthAdjust=\"spacing\" textLength=\"177\" x=\"34.5\" y=\"90.4639\">b :&gt;ISQSpaceTime::width</text><line style=\"stroke:#181818;stroke-width:0.5;\" x1=\"32.5\" x2=\"217.5\" y1=\"98.7656\" y2=\"98.7656\"/></g></a><text fill=\"#000000\" font-family=\"sans-serif\" font-size=\"14\" lengthAdjust=\"spacing\" textLength=\"44\" x=\"194\" y=\"217.5582\">porig1</text><rect fill=\"#FFFFFF\" height=\"12\" style=\"stroke:#181818;stroke-width:1.5;\" width=\"12\" x=\"214\" y=\"232.86\"/><text fill=\"#000000\" font-family=\"sans-serif\" font-size=\"14\" lengthAdjust=\"spacing\" textLength=\"44\" x=\"241\" y=\"217.5582\">porig1</text><rect fill=\"#FFFFFF\" height=\"12\" style=\"stroke:#181818;stroke-width:1.5;\" width=\"12\" x=\"261\" y=\"232.86\"/><text fill=\"#000000\" font-family=\"sans-serif\" font-size=\"14\" lengthAdjust=\"spacing\" textLength=\"27\" x=\"230.5\" y=\"166.3551\">po1</text><rect fill=\"#FFFFFF\" height=\"12\" style=\"stroke:#181818;stroke-width:1.5;\" width=\"12\" x=\"242\" y=\"141.36\"/><text fill=\"#000000\" font-family=\"sans-serif\" font-size=\"14\" lengthAdjust=\"spacing\" textLength=\"40\" x=\"97\" y=\"178.0582\">pdest</text><rect fill=\"#FFFFFF\" height=\"12\" style=\"stroke:#181818;stroke-width:1.5;\" width=\"12\" x=\"115\" y=\"193.36\"/><text fill=\"#000000\" font-family=\"sans-serif\" font-size=\"14\" lengthAdjust=\"spacing\" textLength=\"40\" x=\"144\" y=\"178.0582\">pdest</text><rect fill=\"#FFFFFF\" height=\"12\" style=\"stroke:#181818;stroke-width:1.5;\" width=\"12\" x=\"162\" y=\"193.36\"/><!--MD5=[a717450b82c80b9240a525fa862496af]\n",
       "link E6 to E3--><g id=\"link_E6_E3\"><a href=\"psysml:515868c5-6015-4da5-b3ff-32117e872914\" target=\"_top\" title=\"psysml:515868c5-6015-4da5-b3ff-32117e872914\" xlink:actuate=\"onRequest\" xlink:href=\"psysml:515868c5-6015-4da5-b3ff-32117e872914\" xlink:show=\"new\" xlink:title=\"psysml:515868c5-6015-4da5-b3ff-32117e872914\" xlink:type=\"simple\"><path d=\"M309,147.372 C309,147.4316 309,147.4946 309,147.5614 C309,147.6948 309,147.8432 309,148.0079 C309,148.3375 309,148.733 309,149.2077 C309,150.1569 309,151.4225 309,153.11 C309,159.86 309,173.36 309,200.36 C309,200.36 308.6875,205.36 308.2188,212.86 C308.1016,214.735 307.9746,216.7663 307.8403,218.9147 C307.7732,219.9889 307.7042,221.0924 307.6337,222.2204 C307.5985,222.7843 307.5629,223.3544 307.5269,223.9299 C307.5089,224.2177 307.4908,224.5069 307.4727,224.7973 \" fill=\"none\" id=\"E6-to-E3\" style=\"stroke:#181818;stroke-width:1.0;\"/><polygon fill=\"#FFFFFF\" points=\"307.4727,224.7973,301.6715,205.3977,315.6442,206.271,307.4727,224.7973\" style=\"stroke:#181818;stroke-width:1.0;\"/><ellipse cx=\"304.0231\" cy=\"199.8335\" fill=\"#181818\" rx=\"2\" ry=\"2\" style=\"stroke:#181818;stroke-width:1.0;\"/><ellipse cx=\"314.0037\" cy=\"200.4573\" fill=\"#181818\" rx=\"2\" ry=\"2\" style=\"stroke:#181818;stroke-width:1.0;\"/></a></g><!--MD5=[95fa686b5a16158bcdbcaeead89f639b]\n",
       "link E8 to E3--><g id=\"link_E8_E3\"><a href=\"psysml:e2fe589c-f14e-47a5-aaf0-9a8ebd450a7c\" target=\"_top\" title=\"psysml:e2fe589c-f14e-47a5-aaf0-9a8ebd450a7c\" xlink:actuate=\"onRequest\" xlink:href=\"psysml:e2fe589c-f14e-47a5-aaf0-9a8ebd450a7c\" xlink:show=\"new\" xlink:title=\"psysml:e2fe589c-f14e-47a5-aaf0-9a8ebd450a7c\" xlink:type=\"simple\"><path d=\"M183.9723,272.4709 C184.0525,272.516 184.1325,272.561 184.2123,272.6059 C184.3718,272.6956 184.5304,272.7848 184.688,272.8734 C185.0032,273.0507 185.3145,273.2258 185.6217,273.3985 C188.079,274.7806 190.2735,276.0148 192.1073,277.0461 C195.775,279.1088 198,280.36 198,280.36 C198,280.36 199.5213,281.15 202.1388,282.5092 C202.7931,282.849 203.516,283.2244 204.3008,283.6319 C204.6932,283.8357 205.101,284.0475 205.5235,284.2668 C205.6291,284.3217 205.7357,284.377 205.8431,284.4328 \" fill=\"none\" id=\"E8-to-E3\" style=\"stroke:#181818;stroke-width:1.0;\"/><polygon fill=\"#FFFFFF\" points=\"205.8431,284.4328,185.755,281.8892,192.2068,269.4644,205.8431,284.4328\" style=\"stroke:#181818;stroke-width:1.0;\"/><ellipse cx=\"181.6181\" cy=\"277.4874\" fill=\"#181818\" rx=\"2\" ry=\"2\" style=\"stroke:#181818;stroke-width:1.0;\"/><ellipse cx=\"186.2265\" cy=\"268.6126\" fill=\"#181818\" rx=\"2\" ry=\"2\" style=\"stroke:#181818;stroke-width:1.0;\"/></a></g><!--MD5=[1c0b9414cc86e0744215edee6abd8926]\n",
       "link E7 to E9--><g id=\"link_E7_E9\"><a href=\"psysml:f1f85c24-6beb-4ed4-abfc-161aeb53ad8b\" target=\"_top\" title=\"psysml:f1f85c24-6beb-4ed4-abfc-161aeb53ad8b\" xlink:actuate=\"onRequest\" xlink:href=\"psysml:f1f85c24-6beb-4ed4-abfc-161aeb53ad8b\" xlink:show=\"new\" xlink:title=\"psysml:f1f85c24-6beb-4ed4-abfc-161aeb53ad8b\" xlink:type=\"simple\"><path d=\"M241.81,148.97 C213.89,153.13 127,177.36 127,177.36 C127,177.36 112.96,190.18 114.93,195.78 \" fill=\"none\" id=\"E7-E9\" style=\"stroke:#181818;stroke-width:3.0;\"/></a></g><!--MD5=[1c0b9414cc86e0744215edee6abd8926]\n",
       "link E7 to E9--><g id=\"link_E7_E9\"><a href=\"psysml:92c8a956-0030-45f2-8c30-896629fb0abd\" target=\"_top\" title=\"psysml:92c8a956-0030-45f2-8c30-896629fb0abd\" xlink:actuate=\"onRequest\" xlink:href=\"psysml:92c8a956-0030-45f2-8c30-896629fb0abd\" xlink:show=\"new\" xlink:title=\"psysml:92c8a956-0030-45f2-8c30-896629fb0abd\" xlink:type=\"simple\"><path d=\"M241.81,153.02 C219.89,161.22 162,177.36 162,177.36 C162,177.36 143.76,194.02 127.05,197.66 \" fill=\"none\" id=\"E7-E9-1\" style=\"stroke:#181818;stroke-width:3.0;\"/></a></g><!--MD5=[748f50b699a687aacfaa27f4cf798b3c]\n",
       "@startuml\r\n",
       "skin sysmlbw\r\n",
       "skinparam monochrome true\r\n",
       "skinparam wrapWidth 300\r\n",
       "hide circle\r\n",
       "skinparam linetype polyline\r\n",
       "skinparam ranksep 10\r\n",
       "skinparam rectangle {\r\n",
       " backgroundColor<<block>> LightGreen\r\n",
       "}\r\n",
       "\r\n",
       "package \"AliasTest\" as E1  [[psysml:a1c2986a-a425-4687-93ae-51674f2ada97 ]]  {\r\n",
       "comp usage \"b :>ISQSpaceTime::width \" as E2  <<(T,blue) attribute>> [[psysml:f27707b2-90f2-4671-96dd-49a3cebd999e ]] {\r\n",
       "}\r\n",
       "rec def \"P1\" as E3  <<(T,blue) part  def>> [[psysml:d64d4abf-692a-4b0a-b1a7-ca6bfa2152dc ]] {\r\n",
       "portin \"porig1  \" as E4  <<(T,blue) port>> [[psysml:61764694-1d1c-48ba-adaa-4bba53d3d30f ]] \r\n",
       "portin \"porig1  \" as E5  <<(T,blue) port>> [[psysml:61764694-1d1c-48ba-adaa-4bba53d3d30f ]] \r\n",
       "}\r\n",
       "rec usage \"p1: P1\" as E6 [[psysml:e8b71076-5181-45d8-952d-6c6c3b8ab27b ]] {\r\n",
       "portout \"po1  \" as E7  <<(T,blue) port>> [[psysml:d614f44e-5180-4509-9cc1-1632afa7b11f ]] \r\n",
       "}\r\n",
       "rec usage \"p2: P1\" as E8 [[psysml:8277226e-c173-411e-8d8e-d31bb811c94b ]] {\r\n",
       "portin \"pdest  \" as E9  <<(T,blue) port>> [[psysml:88f12717-b335-4bfa-a952-2b65a00cb7af ]] \r\n",
       "portin \"pdest  \" as E10  <<(T,blue) port>> [[psysml:88f12717-b335-4bfa-a952-2b65a00cb7af ]] \r\n",
       "}\r\n",
       "}\r\n",
       "E6 - -:|> E3 [[psysml:515868c5-6015-4da5-b3ff-32117e872914 ]] \r\n",
       "E8 - -:|> E3 [[psysml:e2fe589c-f14e-47a5-aaf0-9a8ebd450a7c ]] \r\n",
       "E7 -[thickness=3]- E9 [[psysml:f1f85c24-6beb-4ed4-abfc-161aeb53ad8b ]] \r\n",
       "E7 -[thickness=3]- E9 [[psysml:92c8a956-0030-45f2-8c30-896629fb0abd ]] \r\n",
       "@enduml\r\n",
       "\n",
       "PlantUML version 1.2022.7(Mon Aug 22 17:01:30 UTC 2022)\n",
       "(EPL source distribution)\n",
       "Java Runtime: OpenJDK Runtime Environment\n",
       "JVM: OpenJDK 64-Bit Server VM\n",
       "Default Encoding: UTF-8\n",
       "Language: en\n",
       "Country: null\n",
       "--></g></svg>"
      ]
     },
     "execution_count": 12,
     "metadata": {},
     "output_type": "execute_result"
    }
   ],
   "source": [
    "%viz --style=\"POLYLINE\" --view=\"Interconnection\" \"AliasTest\""
   ]
  },
  {
   "cell_type": "code",
   "execution_count": 13,
   "id": "271a8d6f",
   "metadata": {
    "execution": {
     "iopub.execute_input": "2024-12-16T03:25:12.048165Z",
     "iopub.status.busy": "2024-12-16T03:25:12.047977Z",
     "iopub.status.idle": "2024-12-16T03:25:12.054909Z",
     "shell.execute_reply": "2024-12-16T03:25:12.054710Z"
    }
   },
   "outputs": [
    {
     "data": {
      "image/svg+xml": [
       "<?xml version=\"1.0\" encoding=\"UTF-8\" standalone=\"no\"?><svg xmlns=\"http://www.w3.org/2000/svg\" xmlns:xlink=\"http://www.w3.org/1999/xlink\" contentStyleType=\"text/css\" height=\"10px\" preserveAspectRatio=\"none\" style=\"width:10px;height:10px;background:#FFFFFF;\" version=\"1.1\" viewBox=\"0 0 10 10\" width=\"10px\" zoomAndPan=\"magnify\"><defs/><g><!--MD5=[ff8e7c24accf200c4355ceeab022c402]\n",
       "@startuml\r\n",
       "skin sysmlbw\r\n",
       "skinparam monochrome true\r\n",
       "skinparam wrapWidth 300\r\n",
       "hide circle\r\n",
       "skinparam linetype polyline\r\n",
       "skinparam ranksep 8\r\n",
       "\r\n",
       "@enduml\r\n",
       "\n",
       "PlantUML version 1.2022.7(Mon Aug 22 17:01:30 UTC 2022)\n",
       "(EPL source distribution)\n",
       "Java Runtime: OpenJDK Runtime Environment\n",
       "JVM: OpenJDK 64-Bit Server VM\n",
       "Default Encoding: UTF-8\n",
       "Language: en\n",
       "Country: null\n",
       "--></g></svg>"
      ]
     },
     "execution_count": 13,
     "metadata": {},
     "output_type": "execute_result"
    }
   ],
   "source": [
    "%viz --style=\"POLYLINE\" --view=\"Action\" \"AliasTest\""
   ]
  },
  {
   "cell_type": "code",
   "execution_count": 14,
   "id": "5a45a752",
   "metadata": {
    "execution": {
     "iopub.execute_input": "2024-12-16T03:25:12.111347Z",
     "iopub.status.busy": "2024-12-16T03:25:12.111130Z",
     "iopub.status.idle": "2024-12-16T03:25:12.119817Z",
     "shell.execute_reply": "2024-12-16T03:25:12.119630Z"
    }
   },
   "outputs": [
    {
     "data": {
      "image/svg+xml": [
       "<?xml version=\"1.0\" encoding=\"UTF-8\" standalone=\"no\"?><svg xmlns=\"http://www.w3.org/2000/svg\" xmlns:xlink=\"http://www.w3.org/1999/xlink\" contentStyleType=\"text/css\" height=\"10px\" preserveAspectRatio=\"none\" style=\"width:10px;height:10px;background:#FFFFFF;\" version=\"1.1\" viewBox=\"0 0 10 10\" width=\"10px\" zoomAndPan=\"magnify\"><defs/><g><!--MD5=[efefafbf36b45173e0355713d9054f90]\n",
       "@startuml\r\n",
       "skin sysmlbw\r\n",
       "skinparam monochrome true\r\n",
       "skinparam wrapWidth 300\r\n",
       "hide circle\r\n",
       "skinparam linetype polyline\r\n",
       "skinparam roundcorner 20\r\n",
       "skinparam BoxPadding 20\r\n",
       "skinparam SequenceBoxBackgroundColor #white\r\n",
       "skinparam style strictuml\r\n",
       "skinparam maxMessageSize 100\r\n",
       "\r\n",
       "@enduml\r\n",
       "\n",
       "PlantUML version 1.2022.7(Mon Aug 22 17:01:30 UTC 2022)\n",
       "(EPL source distribution)\n",
       "Java Runtime: OpenJDK Runtime Environment\n",
       "JVM: OpenJDK 64-Bit Server VM\n",
       "Default Encoding: UTF-8\n",
       "Language: en\n",
       "Country: null\n",
       "--></g></svg>"
      ]
     },
     "execution_count": 14,
     "metadata": {},
     "output_type": "execute_result"
    }
   ],
   "source": [
    "%viz --style=\"POLYLINE\" --view=\"Sequence\" \"AliasTest\""
   ]
  },
  {
   "cell_type": "code",
   "execution_count": 15,
   "id": "e3c42923",
   "metadata": {
    "execution": {
     "iopub.execute_input": "2024-12-16T03:25:12.176228Z",
     "iopub.status.busy": "2024-12-16T03:25:12.176031Z",
     "iopub.status.idle": "2024-12-16T03:25:12.203356Z",
     "shell.execute_reply": "2024-12-16T03:25:12.203480Z"
    }
   },
   "outputs": [
    {
     "data": {
      "image/svg+xml": [
       "<?xml version=\"1.0\" encoding=\"UTF-8\" standalone=\"no\"?><svg xmlns=\"http://www.w3.org/2000/svg\" xmlns:xlink=\"http://www.w3.org/1999/xlink\" contentStyleType=\"text/css\" height=\"382px\" preserveAspectRatio=\"none\" style=\"width:440px;height:382px;background:#FFFFFF;\" version=\"1.1\" viewBox=\"0 0 440 382\" width=\"440px\" zoomAndPan=\"magnify\"><defs/><g><!--MD5=[fbc87193dbaf4d95561dea2c320d4a47]\n",
       "cluster E1--><g id=\"cluster_E1\"><a href=\"psysml:a1c2986a-a425-4687-93ae-51674f2ada97\" target=\"_top\" title=\"psysml:a1c2986a-a425-4687-93ae-51674f2ada97\" xlink:actuate=\"onRequest\" xlink:href=\"psysml:a1c2986a-a425-4687-93ae-51674f2ada97\" xlink:show=\"new\" xlink:title=\"psysml:a1c2986a-a425-4687-93ae-51674f2ada97\" xlink:type=\"simple\"><polygon fill=\"none\" points=\"16,6,87.9375,6,94.9375,28.2969,423,28.2969,423,375,16,375,16,6\" style=\"stroke:#000000;stroke-width:1.5;\"/><line style=\"stroke:#000000;stroke-width:1.5;\" x1=\"16\" x2=\"94.9375\" y1=\"28.2969\" y2=\"28.2969\"/><text fill=\"#000000\" font-family=\"sans-serif\" font-size=\"14\" font-weight=\"bold\" lengthAdjust=\"spacing\" textLength=\"65.9375\" x=\"20\" y=\"20.9951\">AliasTest</text></a></g><!--MD5=[b4997ac47864f28c2f74865a473b2911]\n",
       "class E2--><a href=\"psysml:f27707b2-90f2-4671-96dd-49a3cebd999e\" target=\"_top\" title=\"psysml:f27707b2-90f2-4671-96dd-49a3cebd999e\" xlink:actuate=\"onRequest\" xlink:href=\"psysml:f27707b2-90f2-4671-96dd-49a3cebd999e\" xlink:show=\"new\" xlink:title=\"psysml:f27707b2-90f2-4671-96dd-49a3cebd999e\" xlink:type=\"simple\"><g id=\"elem_E2\"><rect fill=\"#FFFFFF\" height=\"48.2656\" id=\"E2\" rx=\"10\" ry=\"10\" style=\"stroke:#181818;stroke-width:0.5;\" width=\"187\" x=\"220.5\" y=\"54.5\"/><text fill=\"#000000\" font-family=\"sans-serif\" font-size=\"12\" font-style=\"italic\" lengthAdjust=\"spacing\" textLength=\"69\" x=\"279.5\" y=\"70.6387\">«attribute»</text><text fill=\"#000000\" font-family=\"sans-serif\" font-size=\"14\" lengthAdjust=\"spacing\" textLength=\"177\" x=\"223.5\" y=\"86.4639\">b :&gt;ISQSpaceTime::width</text><line style=\"stroke:#181818;stroke-width:0.5;\" x1=\"221.5\" x2=\"406.5\" y1=\"94.7656\" y2=\"94.7656\"/></g></a><!--MD5=[09b614a08d8cba4a07c9adeb5e0fee81]\n",
       "class E3--><a href=\"psysml:d64d4abf-692a-4b0a-b1a7-ca6bfa2152dc\" target=\"_top\" title=\"psysml:d64d4abf-692a-4b0a-b1a7-ca6bfa2152dc\" xlink:actuate=\"onRequest\" xlink:href=\"psysml:d64d4abf-692a-4b0a-b1a7-ca6bfa2152dc\" xlink:show=\"new\" xlink:title=\"psysml:d64d4abf-692a-4b0a-b1a7-ca6bfa2152dc\" xlink:type=\"simple\"><g id=\"elem_E3\"><rect fill=\"#FFFFFF\" height=\"75.0813\" id=\"E3\" style=\"stroke:#181818;stroke-width:0.5;\" width=\"70\" x=\"160\" y=\"176\"/><text fill=\"#000000\" font-family=\"sans-serif\" font-size=\"12\" font-style=\"italic\" lengthAdjust=\"spacing\" textLength=\"68\" x=\"161\" y=\"192.1387\">«part  def»</text><text fill=\"#000000\" font-family=\"sans-serif\" font-size=\"14\" lengthAdjust=\"spacing\" textLength=\"18\" x=\"186\" y=\"207.9639\">P1</text><line style=\"stroke:#181818;stroke-width:0.5;\" x1=\"161\" x2=\"229\" y1=\"216.2656\" y2=\"216.2656\"/><text fill=\"#000000\" font-family=\"sans-serif\" font-size=\"14\" lengthAdjust=\"spacing\" textLength=\"44\" x=\"166\" y=\"243.7795\">porig1</text><text fill=\"#000000\" font-family=\"sans-serif\" font-size=\"14\" font-style=\"italic\" lengthAdjust=\"spacing\" textLength=\"36\" x=\"177\" y=\"228.6123\">ports</text></g></a><!--MD5=[ebbe1d658d1005bcc118a6aa81145e00]\n",
       "class E4--><a href=\"psysml:61764694-1d1c-48ba-adaa-4bba53d3d30f\" target=\"_top\" title=\"psysml:61764694-1d1c-48ba-adaa-4bba53d3d30f\" xlink:actuate=\"onRequest\" xlink:href=\"psysml:61764694-1d1c-48ba-adaa-4bba53d3d30f\" xlink:show=\"new\" xlink:title=\"psysml:61764694-1d1c-48ba-adaa-4bba53d3d30f\" xlink:type=\"simple\"><g id=\"elem_E4\"><rect fill=\"#FFFFFF\" height=\"48.2656\" id=\"E4\" rx=\"10\" ry=\"10\" style=\"stroke:#181818;stroke-width:0.5;\" width=\"58\" x=\"166\" y=\"311\"/><text fill=\"#000000\" font-family=\"sans-serif\" font-size=\"12\" font-style=\"italic\" lengthAdjust=\"spacing\" textLength=\"40\" x=\"175\" y=\"327.1387\">«port»</text><text fill=\"#000000\" font-family=\"sans-serif\" font-size=\"14\" lengthAdjust=\"spacing\" textLength=\"44\" x=\"169\" y=\"342.9639\">porig1</text><line style=\"stroke:#181818;stroke-width:0.5;\" x1=\"167\" x2=\"223\" y1=\"351.2656\" y2=\"351.2656\"/></g></a><!--MD5=[270fce915f116d4de14055a7c1d9a0f3]\n",
       "class E5--><a href=\"psysml:e8b71076-5181-45d8-952d-6c6c3b8ab27b\" target=\"_top\" title=\"psysml:e8b71076-5181-45d8-952d-6c6c3b8ab27b\" xlink:actuate=\"onRequest\" xlink:href=\"psysml:e8b71076-5181-45d8-952d-6c6c3b8ab27b\" xlink:show=\"new\" xlink:title=\"psysml:e8b71076-5181-45d8-952d-6c6c3b8ab27b\" xlink:type=\"simple\"><g id=\"elem_E5\"><rect fill=\"#FFFFFF\" height=\"48.2656\" id=\"E5\" rx=\"10\" ry=\"10\" style=\"stroke:#181818;stroke-width:0.5;\" width=\"59\" x=\"126.5\" y=\"54.5\"/><text fill=\"#000000\" font-family=\"sans-serif\" font-size=\"12\" font-style=\"italic\" lengthAdjust=\"spacing\" textLength=\"40\" x=\"136\" y=\"70.6387\">«part»</text><text fill=\"#000000\" font-family=\"sans-serif\" font-size=\"14\" lengthAdjust=\"spacing\" textLength=\"45\" x=\"129.5\" y=\"86.4639\">p1: P1</text><line style=\"stroke:#181818;stroke-width:0.5;\" x1=\"127.5\" x2=\"184.5\" y1=\"94.7656\" y2=\"94.7656\"/></g></a><!--MD5=[60a26617385b1d2d0262a64233df1f8d]\n",
       "class E6--><a href=\"psysml:d614f44e-5180-4509-9cc1-1632afa7b11f\" target=\"_top\" title=\"psysml:d614f44e-5180-4509-9cc1-1632afa7b11f\" xlink:actuate=\"onRequest\" xlink:href=\"psysml:d614f44e-5180-4509-9cc1-1632afa7b11f\" xlink:show=\"new\" xlink:title=\"psysml:d614f44e-5180-4509-9cc1-1632afa7b11f\" xlink:type=\"simple\"><g id=\"elem_E6\"><rect fill=\"#FFFFFF\" height=\"48.2656\" id=\"E6\" rx=\"10\" ry=\"10\" style=\"stroke:#181818;stroke-width:0.5;\" width=\"42\" x=\"83\" y=\"189.5\"/><text fill=\"#000000\" font-family=\"sans-serif\" font-size=\"12\" font-style=\"italic\" lengthAdjust=\"spacing\" textLength=\"40\" x=\"84\" y=\"205.6387\">«port»</text><text fill=\"#000000\" font-family=\"sans-serif\" font-size=\"14\" lengthAdjust=\"spacing\" textLength=\"27\" x=\"86.5\" y=\"221.4639\">po1</text><line style=\"stroke:#181818;stroke-width:0.5;\" x1=\"84\" x2=\"124\" y1=\"229.7656\" y2=\"229.7656\"/></g></a><!--MD5=[2156ba9850f5573cc1fc38a6a4b2f02b]\n",
       "class E7--><a href=\"psysml:8277226e-c173-411e-8d8e-d31bb811c94b\" target=\"_top\" title=\"psysml:8277226e-c173-411e-8d8e-d31bb811c94b\" xlink:actuate=\"onRequest\" xlink:href=\"psysml:8277226e-c173-411e-8d8e-d31bb811c94b\" xlink:show=\"new\" xlink:title=\"psysml:8277226e-c173-411e-8d8e-d31bb811c94b\" xlink:type=\"simple\"><g id=\"elem_E7\"><rect fill=\"#FFFFFF\" height=\"75.0813\" id=\"E7\" rx=\"10\" ry=\"10\" style=\"stroke:#181818;stroke-width:0.5;\" width=\"59\" x=\"32.5\" y=\"41\"/><text fill=\"#000000\" font-family=\"sans-serif\" font-size=\"12\" font-style=\"italic\" lengthAdjust=\"spacing\" textLength=\"40\" x=\"42\" y=\"57.1387\">«part»</text><text fill=\"#000000\" font-family=\"sans-serif\" font-size=\"14\" lengthAdjust=\"spacing\" textLength=\"45\" x=\"35.5\" y=\"72.9639\">p2: P1</text><line style=\"stroke:#181818;stroke-width:0.5;\" x1=\"33.5\" x2=\"90.5\" y1=\"81.2656\" y2=\"81.2656\"/><text fill=\"#000000\" font-family=\"sans-serif\" font-size=\"14\" lengthAdjust=\"spacing\" textLength=\"40\" x=\"38.5\" y=\"108.7795\">pdest</text><text fill=\"#000000\" font-family=\"sans-serif\" font-size=\"14\" font-style=\"italic\" lengthAdjust=\"spacing\" textLength=\"36\" x=\"44\" y=\"93.6123\">ports</text></g></a><!--MD5=[b9389687b975829384b498ac4b7476b2]\n",
       "class E8--><a href=\"psysml:88f12717-b335-4bfa-a952-2b65a00cb7af\" target=\"_top\" title=\"psysml:88f12717-b335-4bfa-a952-2b65a00cb7af\" xlink:actuate=\"onRequest\" xlink:href=\"psysml:88f12717-b335-4bfa-a952-2b65a00cb7af\" xlink:show=\"new\" xlink:title=\"psysml:88f12717-b335-4bfa-a952-2b65a00cb7af\" xlink:type=\"simple\"><g id=\"elem_E8\"><rect fill=\"#FFFFFF\" height=\"48.2656\" id=\"E8\" rx=\"10\" ry=\"10\" style=\"stroke:#181818;stroke-width:0.5;\" width=\"54\" x=\"77\" y=\"311\"/><text fill=\"#000000\" font-family=\"sans-serif\" font-size=\"12\" font-style=\"italic\" lengthAdjust=\"spacing\" textLength=\"40\" x=\"84\" y=\"327.1387\">«port»</text><text fill=\"#000000\" font-family=\"sans-serif\" font-size=\"14\" lengthAdjust=\"spacing\" textLength=\"40\" x=\"80\" y=\"342.9639\">pdest</text><line style=\"stroke:#181818;stroke-width:0.5;\" x1=\"78\" x2=\"130\" y1=\"351.2656\" y2=\"351.2656\"/></g></a><!--MD5=[4672eba38e49728da53d11aeb285b987]\n",
       "reverse link E3 to E4--><g id=\"link_E3_E4\"><a href=\"psysml:9ff7bfb9-db47-4597-ac60-7f24b5e1b5c0\" target=\"_top\" title=\"psysml:9ff7bfb9-db47-4597-ac60-7f24b5e1b5c0\" xlink:actuate=\"onRequest\" xlink:href=\"psysml:9ff7bfb9-db47-4597-ac60-7f24b5e1b5c0\" xlink:show=\"new\" xlink:title=\"psysml:9ff7bfb9-db47-4597-ac60-7f24b5e1b5c0\" xlink:type=\"simple\"><path d=\"M195,264.25 C195,280.43 195,297.61 195,310.88 \" fill=\"none\" id=\"E3-backto-E4\" style=\"stroke:#181818;stroke-width:1.0;\"/><polygon fill=\"none\" points=\"195,251,191,257,195,263,199,257,195,251\" style=\"stroke:#181818;stroke-width:1.0;\"/></a></g><!--MD5=[e9be52314489bd878ff4c7144b63c9e1]\n",
       "link E5 to E3--><g id=\"link_E5_E3\"><a href=\"psysml:515868c5-6015-4da5-b3ff-32117e872914\" target=\"_top\" title=\"psysml:515868c5-6015-4da5-b3ff-32117e872914\" xlink:actuate=\"onRequest\" xlink:href=\"psysml:515868c5-6015-4da5-b3ff-32117e872914\" xlink:show=\"new\" xlink:title=\"psysml:515868c5-6015-4da5-b3ff-32117e872914\" xlink:type=\"simple\"><path d=\"M162.79,102.67 C167.16,117.56 173.03,137.58 178.57,156.45 \" fill=\"none\" id=\"E5-to-E3\" style=\"stroke:#181818;stroke-width:1.0;\"/><polygon fill=\"#FFFFFF\" points=\"184.24,175.81,172.1744,159.5489,185.6082,155.6078,184.24,175.81\" style=\"stroke:#181818;stroke-width:1.0;\"/><ellipse cx=\"172.4889\" cy=\"153.5164\" fill=\"#181818\" rx=\"2\" ry=\"2\" style=\"stroke:#181818;stroke-width:1.0;\"/><ellipse cx=\"182.0845\" cy=\"150.7014\" fill=\"#181818\" rx=\"2\" ry=\"2\" style=\"stroke:#181818;stroke-width:1.0;\"/></a></g><!--MD5=[85d356282659285ab4b2cfe2f634dd2b]\n",
       "reverse link E5 to E6--><g id=\"link_E5_E6\"><a href=\"psysml:1a5e094c-b062-4a12-bd0e-4269385c32ea\" target=\"_top\" title=\"psysml:1a5e094c-b062-4a12-bd0e-4269385c32ea\" xlink:actuate=\"onRequest\" xlink:href=\"psysml:1a5e094c-b062-4a12-bd0e-4269385c32ea\" xlink:show=\"new\" xlink:title=\"psysml:1a5e094c-b062-4a12-bd0e-4269385c32ea\" xlink:type=\"simple\"><path d=\"M142.15,114.93 C132.96,138.44 121.15,168.62 113.13,189.15 \" fill=\"none\" id=\"E5-backto-E6\" style=\"stroke:#181818;stroke-width:1.0;\"/><polygon fill=\"none\" points=\"146.94,102.67,141.0321,106.8049,142.5767,113.8486,148.4845,109.7138,146.94,102.67\" style=\"stroke:#181818;stroke-width:1.0;\"/></a></g><!--MD5=[f667431f98296947986a1a7595a31603]\n",
       "link E6 to E4--><g id=\"link_E6_E4\"><a href=\"psysml:70307247-8a04-4365-8b78-a7ff4bcf8dda\" target=\"_top\" title=\"psysml:70307247-8a04-4365-8b78-a7ff4bcf8dda\" xlink:actuate=\"onRequest\" xlink:href=\"psysml:70307247-8a04-4365-8b78-a7ff4bcf8dda\" xlink:show=\"new\" xlink:title=\"psysml:70307247-8a04-4365-8b78-a7ff4bcf8dda\" xlink:type=\"simple\"><path d=\"M121.55,237.54 C133.87,253.72 150.65,275.76 165.07,294.69 \" fill=\"none\" id=\"E6-to-E4\" style=\"stroke:#181818;stroke-width:1.0;\"/><polygon fill=\"#FFFFFF\" points=\"177.2,310.62,160.1219,299.7417,171.2616,291.2619,177.2,310.62\" style=\"stroke:#181818;stroke-width:1.0;\"/><line style=\"stroke:#181818;stroke-width:2.0;\" x1=\"157.8202\" x2=\"168.9599\" y1=\"296.7181\" y2=\"288.2383\"/></a></g><!--MD5=[14ccda38c055a5c0da953d572bc50960]\n",
       "link E7 to E3--><g id=\"link_E7_E3\"><a href=\"psysml:e2fe589c-f14e-47a5-aaf0-9a8ebd450a7c\" target=\"_top\" title=\"psysml:e2fe589c-f14e-47a5-aaf0-9a8ebd450a7c\" xlink:actuate=\"onRequest\" xlink:href=\"psysml:e2fe589c-f14e-47a5-aaf0-9a8ebd450a7c\" xlink:show=\"new\" xlink:title=\"psysml:e2fe589c-f14e-47a5-aaf0-9a8ebd450a7c\" xlink:type=\"simple\"><path d=\"M91.52,109.02 C107.38,124.88 127.36,144.86 145.52,163.02 \" fill=\"none\" id=\"E7-to-E3\" style=\"stroke:#181818;stroke-width:1.0;\"/><polygon fill=\"#FFFFFF\" points=\"159.9,177.4,141.5152,168.9147,151.4147,159.0152,159.9,177.4\" style=\"stroke:#181818;stroke-width:1.0;\"/><ellipse cx=\"138.8989\" cy=\"163.47\" fill=\"#181818\" rx=\"2\" ry=\"2\" style=\"stroke:#181818;stroke-width:1.0;\"/><ellipse cx=\"145.97\" cy=\"156.3989\" fill=\"#181818\" rx=\"2\" ry=\"2\" style=\"stroke:#181818;stroke-width:1.0;\"/></a></g><!--MD5=[dc164f5e8a733ab456ef1add180e9e34]\n",
       "reverse link E7 to E8--><g id=\"link_E7_E8\"><a href=\"psysml:ca64ac56-097c-4feb-943f-895d8fc6b637\" target=\"_top\" title=\"psysml:ca64ac56-097c-4feb-943f-895d8fc6b637\" xlink:actuate=\"onRequest\" xlink:href=\"psysml:ca64ac56-097c-4feb-943f-895d8fc6b637\" xlink:show=\"new\" xlink:title=\"psysml:ca64ac56-097c-4feb-943f-895d8fc6b637\" xlink:type=\"simple\"><path d=\"M63.16,129.31 C64.34,179.95 66,251 66,251 C66,251 82.17,286.32 93.41,310.88 \" fill=\"none\" id=\"E7-backto-E8\" style=\"stroke:#181818;stroke-width:1.0;\"/><polygon fill=\"none\" points=\"62.86,116.29,58.9995,122.3807,63.1368,128.2868,66.9974,122.1961,62.86,116.29\" style=\"stroke:#181818;stroke-width:1.0;\"/></a></g><!--MD5=[0a839d0f80c2d72d4b9b307f046d0de8]\n",
       "link E6 to E8--><g id=\"link_E6_E8\"><a href=\"psysml:f1f85c24-6beb-4ed4-abfc-161aeb53ad8b\" target=\"_top\" title=\"psysml:f1f85c24-6beb-4ed4-abfc-161aeb53ad8b\" xlink:actuate=\"onRequest\" xlink:href=\"psysml:f1f85c24-6beb-4ed4-abfc-161aeb53ad8b\" xlink:show=\"new\" xlink:title=\"psysml:f1f85c24-6beb-4ed4-abfc-161aeb53ad8b\" xlink:type=\"simple\"><path d=\"M93.69,237.54 C90.45,258.57 90.44,289.49 93.64,310.62 \" fill=\"none\" id=\"E6-E8\" style=\"stroke:#181818;stroke-width:3.0;\"/></a></g><!--MD5=[0a839d0f80c2d72d4b9b307f046d0de8]\n",
       "link E6 to E8--><g id=\"link_E6_E8\"><a href=\"psysml:92c8a956-0030-45f2-8c30-896629fb0abd\" target=\"_top\" title=\"psysml:92c8a956-0030-45f2-8c30-896629fb0abd\" xlink:actuate=\"onRequest\" xlink:href=\"psysml:92c8a956-0030-45f2-8c30-896629fb0abd\" xlink:show=\"new\" xlink:title=\"psysml:92c8a956-0030-45f2-8c30-896629fb0abd\" xlink:type=\"simple\"><path d=\"M114.92,237.54 C118.34,258.57 118.36,289.49 114.97,310.62 \" fill=\"none\" id=\"E6-E8-1\" style=\"stroke:#181818;stroke-width:3.0;\"/></a></g><!--MD5=[d63e0d019ccf81c5ce6736ba904810a1]\n",
       "@startuml\r\n",
       "skin sysmlbw\r\n",
       "skinparam monochrome true\r\n",
       "skinparam wrapWidth 300\r\n",
       "hide circle\r\n",
       "skinparam linetype polyline\r\n",
       "\r\n",
       "package \"AliasTest\" as E1  [[psysml:a1c2986a-a425-4687-93ae-51674f2ada97 ]]  {\r\n",
       "comp usage \"b :>ISQSpaceTime::width \" as E2  <<(T,blue) attribute>> [[psysml:f27707b2-90f2-4671-96dd-49a3cebd999e ]] {\r\n",
       "}\r\n",
       "comp def \"P1\" as E3  <<(T,blue) part  def>> [[psysml:d64d4abf-692a-4b0a-b1a7-ca6bfa2152dc ]] {\r\n",
       "##//ports//##\r\n",
       "porig1\r\n",
       "}\r\n",
       "comp usage \"porig1  \" as E4  <<(T,blue) port>> [[psysml:61764694-1d1c-48ba-adaa-4bba53d3d30f ]] {\r\n",
       "}\r\n",
       "comp usage \"p1: P1  \" as E5  <<(T,blue) part>> [[psysml:e8b71076-5181-45d8-952d-6c6c3b8ab27b ]] {\r\n",
       "}\r\n",
       "comp usage \"po1  \" as E6  <<(T,blue) port>> [[psysml:d614f44e-5180-4509-9cc1-1632afa7b11f ]] {\r\n",
       "}\r\n",
       "comp usage \"p2: P1  \" as E7  <<(T,blue) part>> [[psysml:8277226e-c173-411e-8d8e-d31bb811c94b ]] {\r\n",
       "##//ports//##\r\n",
       "pdest\r\n",
       "}\r\n",
       "comp usage \"pdest  \" as E8  <<(T,blue) port>> [[psysml:88f12717-b335-4bfa-a952-2b65a00cb7af ]] {\r\n",
       "}\r\n",
       "}\r\n",
       "E3 o- - E4 [[psysml:9ff7bfb9-db47-4597-ac60-7f24b5e1b5c0 ]] \r\n",
       "E5 - -:|> E3 [[psysml:515868c5-6015-4da5-b3ff-32117e872914 ]] \r\n",
       "E5 o- - E6 [[psysml:1a5e094c-b062-4a12-bd0e-4269385c32ea ]] \r\n",
       "E6 - -||> E4 [[psysml:70307247-8a04-4365-8b78-a7ff4bcf8dda ]] \r\n",
       "E7 - -:|> E3 [[psysml:e2fe589c-f14e-47a5-aaf0-9a8ebd450a7c ]] \r\n",
       "E7 o- - E8 [[psysml:ca64ac56-097c-4feb-943f-895d8fc6b637 ]] \r\n",
       "E6 -[thickness=3]- E8 [[psysml:f1f85c24-6beb-4ed4-abfc-161aeb53ad8b ]] \r\n",
       "E6 -[thickness=3]- E8 [[psysml:92c8a956-0030-45f2-8c30-896629fb0abd ]] \r\n",
       "@enduml\r\n",
       "\n",
       "PlantUML version 1.2022.7(Mon Aug 22 17:01:30 UTC 2022)\n",
       "(EPL source distribution)\n",
       "Java Runtime: OpenJDK Runtime Environment\n",
       "JVM: OpenJDK 64-Bit Server VM\n",
       "Default Encoding: UTF-8\n",
       "Language: en\n",
       "Country: null\n",
       "--></g></svg>"
      ]
     },
     "execution_count": 15,
     "metadata": {},
     "output_type": "execute_result"
    }
   ],
   "source": [
    "%viz --style=\"POLYLINE\" --view=\"MIXED\" \"AliasTest\""
   ]
  },
  {
   "cell_type": "code",
   "execution_count": 16,
   "id": "6cd2437a",
   "metadata": {
    "execution": {
     "iopub.execute_input": "2024-12-16T03:25:12.258476Z",
     "iopub.status.busy": "2024-12-16T03:25:12.258231Z",
     "iopub.status.idle": "2024-12-16T03:25:12.287064Z",
     "shell.execute_reply": "2024-12-16T03:25:12.286159Z"
    }
   },
   "outputs": [
    {
     "data": {
      "image/svg+xml": [
       "<?xml version=\"1.0\" encoding=\"UTF-8\" standalone=\"no\"?><svg xmlns=\"http://www.w3.org/2000/svg\" xmlns:xlink=\"http://www.w3.org/1999/xlink\" contentStyleType=\"text/css\" height=\"305px\" preserveAspectRatio=\"none\" style=\"width:500px;height:305px;background:#FFFFFF;\" version=\"1.1\" viewBox=\"0 0 500 305\" width=\"500px\" zoomAndPan=\"magnify\"><defs/><g><!--MD5=[fbc87193dbaf4d95561dea2c320d4a47]\n",
       "cluster E1--><g id=\"cluster_E1\"><a href=\"psysml:a1c2986a-a425-4687-93ae-51674f2ada97\" target=\"_top\" title=\"psysml:a1c2986a-a425-4687-93ae-51674f2ada97\" xlink:actuate=\"onRequest\" xlink:href=\"psysml:a1c2986a-a425-4687-93ae-51674f2ada97\" xlink:show=\"new\" xlink:title=\"psysml:a1c2986a-a425-4687-93ae-51674f2ada97\" xlink:type=\"simple\"><polygon fill=\"none\" points=\"16,6,87.9375,6,94.9375,28.2969,483,28.2969,483,298,16,298,16,6\" style=\"stroke:#000000;stroke-width:1.5;\"/><line style=\"stroke:#000000;stroke-width:1.5;\" x1=\"16\" x2=\"94.9375\" y1=\"28.2969\" y2=\"28.2969\"/><text fill=\"#000000\" font-family=\"sans-serif\" font-size=\"14\" font-weight=\"bold\" lengthAdjust=\"spacing\" textLength=\"65.9375\" x=\"20\" y=\"20.9951\">AliasTest</text></a></g><!--MD5=[b4997ac47864f28c2f74865a473b2911]\n",
       "class E2--><a href=\"psysml:f27707b2-90f2-4671-96dd-49a3cebd999e\" target=\"_top\" title=\"psysml:f27707b2-90f2-4671-96dd-49a3cebd999e\" xlink:actuate=\"onRequest\" xlink:href=\"psysml:f27707b2-90f2-4671-96dd-49a3cebd999e\" xlink:show=\"new\" xlink:title=\"psysml:f27707b2-90f2-4671-96dd-49a3cebd999e\" xlink:type=\"simple\"><g id=\"elem_E2\"><rect fill=\"#FFFFFF\" height=\"48.2656\" id=\"E2\" rx=\"10\" ry=\"10\" style=\"stroke:#181818;stroke-width:0.5;\" width=\"187\" x=\"32\" y=\"41\"/><text fill=\"#000000\" font-family=\"sans-serif\" font-size=\"12\" font-style=\"italic\" lengthAdjust=\"spacing\" textLength=\"69\" x=\"91\" y=\"57.1387\">«attribute»</text><text fill=\"#000000\" font-family=\"sans-serif\" font-size=\"14\" lengthAdjust=\"spacing\" textLength=\"177\" x=\"35\" y=\"72.9639\">b :&gt;ISQSpaceTime::width</text><line style=\"stroke:#181818;stroke-width:0.5;\" x1=\"33\" x2=\"218\" y1=\"81.2656\" y2=\"81.2656\"/></g></a><!--MD5=[09b614a08d8cba4a07c9adeb5e0fee81]\n",
       "class E3--><a href=\"psysml:d64d4abf-692a-4b0a-b1a7-ca6bfa2152dc\" target=\"_top\" title=\"psysml:d64d4abf-692a-4b0a-b1a7-ca6bfa2152dc\" xlink:actuate=\"onRequest\" xlink:href=\"psysml:d64d4abf-692a-4b0a-b1a7-ca6bfa2152dc\" xlink:show=\"new\" xlink:title=\"psysml:d64d4abf-692a-4b0a-b1a7-ca6bfa2152dc\" xlink:type=\"simple\"><g id=\"elem_E3\"><rect fill=\"#FFFFFF\" height=\"75.0813\" id=\"E3\" style=\"stroke:#181818;stroke-width:0.5;\" width=\"70\" x=\"279\" y=\"68.5\"/><text fill=\"#000000\" font-family=\"sans-serif\" font-size=\"12\" font-style=\"italic\" lengthAdjust=\"spacing\" textLength=\"68\" x=\"280\" y=\"84.6387\">«part  def»</text><text fill=\"#000000\" font-family=\"sans-serif\" font-size=\"14\" lengthAdjust=\"spacing\" textLength=\"18\" x=\"305\" y=\"100.4639\">P1</text><line style=\"stroke:#181818;stroke-width:0.5;\" x1=\"280\" x2=\"348\" y1=\"108.7656\" y2=\"108.7656\"/><text fill=\"#000000\" font-family=\"sans-serif\" font-size=\"14\" lengthAdjust=\"spacing\" textLength=\"44\" x=\"285\" y=\"136.2795\">porig1</text><text fill=\"#000000\" font-family=\"sans-serif\" font-size=\"14\" font-style=\"italic\" lengthAdjust=\"spacing\" textLength=\"36\" x=\"296\" y=\"121.1123\">ports</text></g></a><!--MD5=[ebbe1d658d1005bcc118a6aa81145e00]\n",
       "class E4--><a href=\"psysml:61764694-1d1c-48ba-adaa-4bba53d3d30f\" target=\"_top\" title=\"psysml:61764694-1d1c-48ba-adaa-4bba53d3d30f\" xlink:actuate=\"onRequest\" xlink:href=\"psysml:61764694-1d1c-48ba-adaa-4bba53d3d30f\" xlink:show=\"new\" xlink:title=\"psysml:61764694-1d1c-48ba-adaa-4bba53d3d30f\" xlink:type=\"simple\"><g id=\"elem_E4\"><rect fill=\"#FFFFFF\" height=\"48.2656\" id=\"E4\" rx=\"10\" ry=\"10\" style=\"stroke:#181818;stroke-width:0.5;\" width=\"58\" x=\"409\" y=\"89\"/><text fill=\"#000000\" font-family=\"sans-serif\" font-size=\"12\" font-style=\"italic\" lengthAdjust=\"spacing\" textLength=\"40\" x=\"418\" y=\"105.1387\">«port»</text><text fill=\"#000000\" font-family=\"sans-serif\" font-size=\"14\" lengthAdjust=\"spacing\" textLength=\"44\" x=\"412\" y=\"120.9639\">porig1</text><line style=\"stroke:#181818;stroke-width:0.5;\" x1=\"410\" x2=\"466\" y1=\"129.2656\" y2=\"129.2656\"/></g></a><!--MD5=[270fce915f116d4de14055a7c1d9a0f3]\n",
       "class E5--><a href=\"psysml:e8b71076-5181-45d8-952d-6c6c3b8ab27b\" target=\"_top\" title=\"psysml:e8b71076-5181-45d8-952d-6c6c3b8ab27b\" xlink:actuate=\"onRequest\" xlink:href=\"psysml:e8b71076-5181-45d8-952d-6c6c3b8ab27b\" xlink:show=\"new\" xlink:title=\"psysml:e8b71076-5181-45d8-952d-6c6c3b8ab27b\" xlink:type=\"simple\"><g id=\"elem_E5\"><rect fill=\"#FFFFFF\" height=\"48.2656\" id=\"E5\" rx=\"10\" ry=\"10\" style=\"stroke:#181818;stroke-width:0.5;\" width=\"59\" x=\"96\" y=\"124\"/><text fill=\"#000000\" font-family=\"sans-serif\" font-size=\"12\" font-style=\"italic\" lengthAdjust=\"spacing\" textLength=\"40\" x=\"105.5\" y=\"140.1387\">«part»</text><text fill=\"#000000\" font-family=\"sans-serif\" font-size=\"14\" lengthAdjust=\"spacing\" textLength=\"45\" x=\"99\" y=\"155.9639\">p1: P1</text><line style=\"stroke:#181818;stroke-width:0.5;\" x1=\"97\" x2=\"154\" y1=\"164.2656\" y2=\"164.2656\"/></g></a><!--MD5=[60a26617385b1d2d0262a64233df1f8d]\n",
       "class E6--><a href=\"psysml:d614f44e-5180-4509-9cc1-1632afa7b11f\" target=\"_top\" title=\"psysml:d614f44e-5180-4509-9cc1-1632afa7b11f\" xlink:actuate=\"onRequest\" xlink:href=\"psysml:d614f44e-5180-4509-9cc1-1632afa7b11f\" xlink:show=\"new\" xlink:title=\"psysml:d614f44e-5180-4509-9cc1-1632afa7b11f\" xlink:type=\"simple\"><g id=\"elem_E6\"><rect fill=\"#FFFFFF\" height=\"48.2656\" id=\"E6\" rx=\"10\" ry=\"10\" style=\"stroke:#181818;stroke-width:0.5;\" width=\"42\" x=\"293\" y=\"179\"/><text fill=\"#000000\" font-family=\"sans-serif\" font-size=\"12\" font-style=\"italic\" lengthAdjust=\"spacing\" textLength=\"40\" x=\"294\" y=\"195.1387\">«port»</text><text fill=\"#000000\" font-family=\"sans-serif\" font-size=\"14\" lengthAdjust=\"spacing\" textLength=\"27\" x=\"296.5\" y=\"210.9639\">po1</text><line style=\"stroke:#181818;stroke-width:0.5;\" x1=\"294\" x2=\"334\" y1=\"219.2656\" y2=\"219.2656\"/></g></a><!--MD5=[2156ba9850f5573cc1fc38a6a4b2f02b]\n",
       "class E7--><a href=\"psysml:8277226e-c173-411e-8d8e-d31bb811c94b\" target=\"_top\" title=\"psysml:8277226e-c173-411e-8d8e-d31bb811c94b\" xlink:actuate=\"onRequest\" xlink:href=\"psysml:8277226e-c173-411e-8d8e-d31bb811c94b\" xlink:show=\"new\" xlink:title=\"psysml:8277226e-c173-411e-8d8e-d31bb811c94b\" xlink:type=\"simple\"><g id=\"elem_E7\"><rect fill=\"#FFFFFF\" height=\"75.0813\" id=\"E7\" rx=\"10\" ry=\"10\" style=\"stroke:#181818;stroke-width:0.5;\" width=\"59\" x=\"96\" y=\"207.5\"/><text fill=\"#000000\" font-family=\"sans-serif\" font-size=\"12\" font-style=\"italic\" lengthAdjust=\"spacing\" textLength=\"40\" x=\"105.5\" y=\"223.6387\">«part»</text><text fill=\"#000000\" font-family=\"sans-serif\" font-size=\"14\" lengthAdjust=\"spacing\" textLength=\"45\" x=\"99\" y=\"239.4639\">p2: P1</text><line style=\"stroke:#181818;stroke-width:0.5;\" x1=\"97\" x2=\"154\" y1=\"247.7656\" y2=\"247.7656\"/><text fill=\"#000000\" font-family=\"sans-serif\" font-size=\"14\" lengthAdjust=\"spacing\" textLength=\"40\" x=\"102\" y=\"275.2795\">pdest</text><text fill=\"#000000\" font-family=\"sans-serif\" font-size=\"14\" font-style=\"italic\" lengthAdjust=\"spacing\" textLength=\"36\" x=\"107.5\" y=\"260.1123\">ports</text></g></a><!--MD5=[b9389687b975829384b498ac4b7476b2]\n",
       "class E8--><a href=\"psysml:88f12717-b335-4bfa-a952-2b65a00cb7af\" target=\"_top\" title=\"psysml:88f12717-b335-4bfa-a952-2b65a00cb7af\" xlink:actuate=\"onRequest\" xlink:href=\"psysml:88f12717-b335-4bfa-a952-2b65a00cb7af\" xlink:show=\"new\" xlink:title=\"psysml:88f12717-b335-4bfa-a952-2b65a00cb7af\" xlink:type=\"simple\"><g id=\"elem_E8\"><rect fill=\"#FFFFFF\" height=\"48.2656\" id=\"E8\" rx=\"10\" ry=\"10\" style=\"stroke:#181818;stroke-width:0.5;\" width=\"54\" x=\"411\" y=\"179\"/><text fill=\"#000000\" font-family=\"sans-serif\" font-size=\"12\" font-style=\"italic\" lengthAdjust=\"spacing\" textLength=\"40\" x=\"418\" y=\"195.1387\">«port»</text><text fill=\"#000000\" font-family=\"sans-serif\" font-size=\"14\" lengthAdjust=\"spacing\" textLength=\"40\" x=\"414\" y=\"210.9639\">pdest</text><line style=\"stroke:#181818;stroke-width:0.5;\" x1=\"412\" x2=\"464\" y1=\"219.2656\" y2=\"219.2656\"/></g></a><!--MD5=[4672eba38e49728da53d11aeb285b987]\n",
       "reverse link E3 to E4--><g id=\"link_E3_E4\"><a href=\"psysml:9ff7bfb9-db47-4597-ac60-7f24b5e1b5c0\" target=\"_top\" title=\"psysml:9ff7bfb9-db47-4597-ac60-7f24b5e1b5c0\" xlink:actuate=\"onRequest\" xlink:href=\"psysml:9ff7bfb9-db47-4597-ac60-7f24b5e1b5c0\" xlink:show=\"new\" xlink:title=\"psysml:9ff7bfb9-db47-4597-ac60-7f24b5e1b5c0\" xlink:type=\"simple\"><path d=\"M362.59,108.73 C378.18,109.63 395.01,110.59 408.71,111.38 \" fill=\"none\" id=\"E3-backto-E4\" style=\"stroke:#181818;stroke-width:1.0;\"/><polygon fill=\"none\" points=\"349.31,107.97,355.0718,112.3061,361.2904,108.6553,355.5287,104.3192,349.31,107.97\" style=\"stroke:#181818;stroke-width:1.0;\"/></a></g><!--MD5=[e9be52314489bd878ff4c7144b63c9e1]\n",
       "link E5 to E3--><g id=\"link_E5_E3\"><a href=\"psysml:515868c5-6015-4da5-b3ff-32117e872914\" target=\"_top\" title=\"psysml:515868c5-6015-4da5-b3ff-32117e872914\" xlink:actuate=\"onRequest\" xlink:href=\"psysml:515868c5-6015-4da5-b3ff-32117e872914\" xlink:show=\"new\" xlink:title=\"psysml:515868c5-6015-4da5-b3ff-32117e872914\" xlink:type=\"simple\"><path d=\"M155.23,141.53 C182.82,135.32 225.18,125.78 259.06,118.15 \" fill=\"none\" id=\"E5-to-E3\" style=\"stroke:#181818;stroke-width:1.0;\"/><polygon fill=\"#FFFFFF\" points=\"278.85,113.69,261.8567,124.7004,258.7752,111.0437,278.85,113.69\" style=\"stroke:#181818;stroke-width:1.0;\"/><ellipse cx=\"255.8563\" cy=\"124.004\" fill=\"#181818\" rx=\"2\" ry=\"2\" style=\"stroke:#181818;stroke-width:1.0;\"/><ellipse cx=\"253.6552\" cy=\"114.2493\" fill=\"#181818\" rx=\"2\" ry=\"2\" style=\"stroke:#181818;stroke-width:1.0;\"/></a></g><!--MD5=[85d356282659285ab4b2cfe2f634dd2b]\n",
       "reverse link E5 to E6--><g id=\"link_E5_E6\"><a href=\"psysml:1a5e094c-b062-4a12-bd0e-4269385c32ea\" target=\"_top\" title=\"psysml:1a5e094c-b062-4a12-bd0e-4269385c32ea\" xlink:actuate=\"onRequest\" xlink:href=\"psysml:1a5e094c-b062-4a12-bd0e-4269385c32ea\" xlink:show=\"new\" xlink:title=\"psysml:1a5e094c-b062-4a12-bd0e-4269385c32ea\" xlink:type=\"simple\"><path d=\"M167.91,160.21 C206.72,171.66 263.1,188.28 292.86,197.06 \" fill=\"none\" id=\"E5-backto-E6\" style=\"stroke:#181818;stroke-width:1.0;\"/><polygon fill=\"none\" points=\"155.23,156.47,159.8486,162.0079,166.7369,159.8746,162.1183,154.3366,155.23,156.47\" style=\"stroke:#181818;stroke-width:1.0;\"/></a></g><!--MD5=[f667431f98296947986a1a7595a31603]\n",
       "link E6 to E4--><g id=\"link_E6_E4\"><a href=\"psysml:70307247-8a04-4365-8b78-a7ff4bcf8dda\" target=\"_top\" title=\"psysml:70307247-8a04-4365-8b78-a7ff4bcf8dda\" xlink:actuate=\"onRequest\" xlink:href=\"psysml:70307247-8a04-4365-8b78-a7ff4bcf8dda\" xlink:show=\"new\" xlink:title=\"psysml:70307247-8a04-4365-8b78-a7ff4bcf8dda\" xlink:type=\"simple\"><path d=\"M335.15,188.14 C350.64,176.71 372.64,160.48 392.23,146.02 \" fill=\"none\" id=\"E6-to-E4\" style=\"stroke:#181818;stroke-width:1.0;\"/><polygon fill=\"#FFFFFF\" points=\"408.61,133.94,397.472,150.8499,389.1634,139.5819,408.61,133.94\" style=\"stroke:#181818;stroke-width:1.0;\"/><line style=\"stroke:#181818;stroke-width:2.0;\" x1=\"394.4135\" x2=\"386.105\" y1=\"153.1051\" y2=\"141.837\"/></a></g><!--MD5=[14ccda38c055a5c0da953d572bc50960]\n",
       "link E7 to E3--><g id=\"link_E7_E3\"><a href=\"psysml:e2fe589c-f14e-47a5-aaf0-9a8ebd450a7c\" target=\"_top\" title=\"psysml:e2fe589c-f14e-47a5-aaf0-9a8ebd450a7c\" xlink:actuate=\"onRequest\" xlink:href=\"psysml:e2fe589c-f14e-47a5-aaf0-9a8ebd450a7c\" xlink:show=\"new\" xlink:title=\"psysml:e2fe589c-f14e-47a5-aaf0-9a8ebd450a7c\" xlink:type=\"simple\"><path d=\"M155.27,229.35 C173.97,218.76 198.58,204.01 219,189 C234.17,177.85 249.81,164.77 263.88,152.32 \" fill=\"none\" id=\"E7-to-E3\" style=\"stroke:#181818;stroke-width:1.0;\"/><polygon fill=\"#FFFFFF\" points=\"278.99,138.69,269.5778,156.6179,260.1962,146.2262,278.99,138.69\" style=\"stroke:#181818;stroke-width:1.0;\"/><ellipse cx=\"264.0066\" cy=\"158.953\" fill=\"#181818\" rx=\"2\" ry=\"2\" style=\"stroke:#181818;stroke-width:1.0;\"/><ellipse cx=\"257.3056\" cy=\"151.5304\" fill=\"#181818\" rx=\"2\" ry=\"2\" style=\"stroke:#181818;stroke-width:1.0;\"/></a></g><!--MD5=[dc164f5e8a733ab456ef1add180e9e34]\n",
       "reverse link E7 to E8--><g id=\"link_E7_E8\"><a href=\"psysml:ca64ac56-097c-4feb-943f-895d8fc6b637\" target=\"_top\" title=\"psysml:ca64ac56-097c-4feb-943f-895d8fc6b637\" xlink:actuate=\"onRequest\" xlink:href=\"psysml:ca64ac56-097c-4feb-943f-895d8fc6b637\" xlink:show=\"new\" xlink:title=\"psysml:ca64ac56-097c-4feb-943f-895d8fc6b637\" xlink:type=\"simple\"><path d=\"M168.08,250.07 C213.22,254.36 287.17,257.84 349,244 C370.88,239.1 393.77,228.23 410.73,218.91 \" fill=\"none\" id=\"E7-backto-E8\" style=\"stroke:#181818;stroke-width:1.0;\"/><polygon fill=\"none\" points=\"155.03,248.73,160.5897,253.3224,166.9671,249.9567,161.4075,245.3643,155.03,248.73\" style=\"stroke:#181818;stroke-width:1.0;\"/></a></g><!--MD5=[0a839d0f80c2d72d4b9b307f046d0de8]\n",
       "link E6 to E8--><g id=\"link_E6_E8\"><a href=\"psysml:f1f85c24-6beb-4ed4-abfc-161aeb53ad8b\" target=\"_top\" title=\"psysml:f1f85c24-6beb-4ed4-abfc-161aeb53ad8b\" xlink:actuate=\"onRequest\" xlink:href=\"psysml:f1f85c24-6beb-4ed4-abfc-161aeb53ad8b\" xlink:show=\"new\" xlink:title=\"psysml:f1f85c24-6beb-4ed4-abfc-161aeb53ad8b\" xlink:type=\"simple\"><path d=\"M335.15,212.76 C355.86,216.41 388.19,216.72 410.86,213.68 \" fill=\"none\" id=\"E6-E8\" style=\"stroke:#181818;stroke-width:3.0;\"/></a></g><!--MD5=[0a839d0f80c2d72d4b9b307f046d0de8]\n",
       "link E6 to E8--><g id=\"link_E6_E8\"><a href=\"psysml:92c8a956-0030-45f2-8c30-896629fb0abd\" target=\"_top\" title=\"psysml:92c8a956-0030-45f2-8c30-896629fb0abd\" xlink:actuate=\"onRequest\" xlink:href=\"psysml:92c8a956-0030-45f2-8c30-896629fb0abd\" xlink:show=\"new\" xlink:title=\"psysml:92c8a956-0030-45f2-8c30-896629fb0abd\" xlink:type=\"simple\"><path d=\"M335.15,192.67 C355.86,188.8 388.19,188.47 410.86,191.69 \" fill=\"none\" id=\"E6-E8-1\" style=\"stroke:#181818;stroke-width:3.0;\"/></a></g><!--MD5=[fd99690fa6de7fa3115ddbe01eff9498]\n",
       "@startuml\r\n",
       "skin sysmlbw\r\n",
       "skinparam monochrome true\r\n",
       "skinparam wrapWidth 300\r\n",
       "hide circle\r\n",
       "left to right direction\r\n",
       "\r\n",
       "package \"AliasTest\" as E1  [[psysml:a1c2986a-a425-4687-93ae-51674f2ada97 ]]  {\r\n",
       "comp usage \"b :>ISQSpaceTime::width \" as E2  <<(T,blue) attribute>> [[psysml:f27707b2-90f2-4671-96dd-49a3cebd999e ]] {\r\n",
       "}\r\n",
       "comp def \"P1\" as E3  <<(T,blue) part  def>> [[psysml:d64d4abf-692a-4b0a-b1a7-ca6bfa2152dc ]] {\r\n",
       "##//ports//##\r\n",
       "porig1\r\n",
       "}\r\n",
       "comp usage \"porig1  \" as E4  <<(T,blue) port>> [[psysml:61764694-1d1c-48ba-adaa-4bba53d3d30f ]] {\r\n",
       "}\r\n",
       "comp usage \"p1: P1  \" as E5  <<(T,blue) part>> [[psysml:e8b71076-5181-45d8-952d-6c6c3b8ab27b ]] {\r\n",
       "}\r\n",
       "comp usage \"po1  \" as E6  <<(T,blue) port>> [[psysml:d614f44e-5180-4509-9cc1-1632afa7b11f ]] {\r\n",
       "}\r\n",
       "comp usage \"p2: P1  \" as E7  <<(T,blue) part>> [[psysml:8277226e-c173-411e-8d8e-d31bb811c94b ]] {\r\n",
       "##//ports//##\r\n",
       "pdest\r\n",
       "}\r\n",
       "comp usage \"pdest  \" as E8  <<(T,blue) port>> [[psysml:88f12717-b335-4bfa-a952-2b65a00cb7af ]] {\r\n",
       "}\r\n",
       "}\r\n",
       "E3 o- - E4 [[psysml:9ff7bfb9-db47-4597-ac60-7f24b5e1b5c0 ]] \r\n",
       "E5 - -:|> E3 [[psysml:515868c5-6015-4da5-b3ff-32117e872914 ]] \r\n",
       "E5 o- - E6 [[psysml:1a5e094c-b062-4a12-bd0e-4269385c32ea ]] \r\n",
       "E6 - -||> E4 [[psysml:70307247-8a04-4365-8b78-a7ff4bcf8dda ]] \r\n",
       "E7 - -:|> E3 [[psysml:e2fe589c-f14e-47a5-aaf0-9a8ebd450a7c ]] \r\n",
       "E7 o- - E8 [[psysml:ca64ac56-097c-4feb-943f-895d8fc6b637 ]] \r\n",
       "E6 -[thickness=3]- E8 [[psysml:f1f85c24-6beb-4ed4-abfc-161aeb53ad8b ]] \r\n",
       "E6 -[thickness=3]- E8 [[psysml:92c8a956-0030-45f2-8c30-896629fb0abd ]] \r\n",
       "@enduml\r\n",
       "\n",
       "PlantUML version 1.2022.7(Mon Aug 22 17:01:30 UTC 2022)\n",
       "(EPL source distribution)\n",
       "Java Runtime: OpenJDK Runtime Environment\n",
       "JVM: OpenJDK 64-Bit Server VM\n",
       "Default Encoding: UTF-8\n",
       "Language: en\n",
       "Country: null\n",
       "--></g></svg>"
      ]
     },
     "execution_count": 16,
     "metadata": {},
     "output_type": "execute_result"
    }
   ],
   "source": [
    "%viz --style=\"LR\" --view=\"Default\" \"AliasTest\""
   ]
  },
  {
   "cell_type": "code",
   "execution_count": 17,
   "id": "55f290b4",
   "metadata": {
    "execution": {
     "iopub.execute_input": "2024-12-16T03:25:12.340158Z",
     "iopub.status.busy": "2024-12-16T03:25:12.339857Z",
     "iopub.status.idle": "2024-12-16T03:25:12.367095Z",
     "shell.execute_reply": "2024-12-16T03:25:12.366277Z"
    }
   },
   "outputs": [
    {
     "data": {
      "image/svg+xml": [
       "<?xml version=\"1.0\" encoding=\"UTF-8\" standalone=\"no\"?><svg xmlns=\"http://www.w3.org/2000/svg\" xmlns:xlink=\"http://www.w3.org/1999/xlink\" contentStyleType=\"text/css\" height=\"305px\" preserveAspectRatio=\"none\" style=\"width:500px;height:305px;background:#FFFFFF;\" version=\"1.1\" viewBox=\"0 0 500 305\" width=\"500px\" zoomAndPan=\"magnify\"><defs/><g><!--MD5=[fbc87193dbaf4d95561dea2c320d4a47]\n",
       "cluster E1--><g id=\"cluster_E1\"><a href=\"psysml:a1c2986a-a425-4687-93ae-51674f2ada97\" target=\"_top\" title=\"psysml:a1c2986a-a425-4687-93ae-51674f2ada97\" xlink:actuate=\"onRequest\" xlink:href=\"psysml:a1c2986a-a425-4687-93ae-51674f2ada97\" xlink:show=\"new\" xlink:title=\"psysml:a1c2986a-a425-4687-93ae-51674f2ada97\" xlink:type=\"simple\"><polygon fill=\"none\" points=\"16,6,87.9375,6,94.9375,28.2969,483,28.2969,483,298,16,298,16,6\" style=\"stroke:#000000;stroke-width:1.5;\"/><line style=\"stroke:#000000;stroke-width:1.5;\" x1=\"16\" x2=\"94.9375\" y1=\"28.2969\" y2=\"28.2969\"/><text fill=\"#000000\" font-family=\"sans-serif\" font-size=\"14\" font-weight=\"bold\" lengthAdjust=\"spacing\" textLength=\"65.9375\" x=\"20\" y=\"20.9951\">AliasTest</text></a></g><!--MD5=[b4997ac47864f28c2f74865a473b2911]\n",
       "class E2--><a href=\"psysml:f27707b2-90f2-4671-96dd-49a3cebd999e\" target=\"_top\" title=\"psysml:f27707b2-90f2-4671-96dd-49a3cebd999e\" xlink:actuate=\"onRequest\" xlink:href=\"psysml:f27707b2-90f2-4671-96dd-49a3cebd999e\" xlink:show=\"new\" xlink:title=\"psysml:f27707b2-90f2-4671-96dd-49a3cebd999e\" xlink:type=\"simple\"><g id=\"elem_E2\"><rect fill=\"#FFFFFF\" height=\"48.2656\" id=\"E2\" rx=\"10\" ry=\"10\" style=\"stroke:#181818;stroke-width:0.5;\" width=\"187\" x=\"32\" y=\"41\"/><text fill=\"#000000\" font-family=\"sans-serif\" font-size=\"12\" font-style=\"italic\" lengthAdjust=\"spacing\" textLength=\"69\" x=\"91\" y=\"57.1387\">«attribute»</text><text fill=\"#000000\" font-family=\"sans-serif\" font-size=\"14\" lengthAdjust=\"spacing\" textLength=\"177\" x=\"35\" y=\"72.9639\">b :&gt;ISQSpaceTime::width</text><line style=\"stroke:#181818;stroke-width:0.5;\" x1=\"33\" x2=\"218\" y1=\"81.2656\" y2=\"81.2656\"/></g></a><!--MD5=[09b614a08d8cba4a07c9adeb5e0fee81]\n",
       "class E3--><a href=\"psysml:d64d4abf-692a-4b0a-b1a7-ca6bfa2152dc\" target=\"_top\" title=\"psysml:d64d4abf-692a-4b0a-b1a7-ca6bfa2152dc\" xlink:actuate=\"onRequest\" xlink:href=\"psysml:d64d4abf-692a-4b0a-b1a7-ca6bfa2152dc\" xlink:show=\"new\" xlink:title=\"psysml:d64d4abf-692a-4b0a-b1a7-ca6bfa2152dc\" xlink:type=\"simple\"><g id=\"elem_E3\"><rect fill=\"#FFFFFF\" height=\"75.0813\" id=\"E3\" style=\"stroke:#181818;stroke-width:0.5;\" width=\"70\" x=\"279\" y=\"68.5\"/><text fill=\"#000000\" font-family=\"sans-serif\" font-size=\"12\" font-style=\"italic\" lengthAdjust=\"spacing\" textLength=\"68\" x=\"280\" y=\"84.6387\">«part  def»</text><text fill=\"#000000\" font-family=\"sans-serif\" font-size=\"14\" lengthAdjust=\"spacing\" textLength=\"18\" x=\"305\" y=\"100.4639\">P1</text><line style=\"stroke:#181818;stroke-width:0.5;\" x1=\"280\" x2=\"348\" y1=\"108.7656\" y2=\"108.7656\"/><text fill=\"#000000\" font-family=\"sans-serif\" font-size=\"14\" lengthAdjust=\"spacing\" textLength=\"44\" x=\"285\" y=\"136.2795\">porig1</text><text fill=\"#000000\" font-family=\"sans-serif\" font-size=\"14\" font-style=\"italic\" lengthAdjust=\"spacing\" textLength=\"36\" x=\"296\" y=\"121.1123\">ports</text></g></a><!--MD5=[ebbe1d658d1005bcc118a6aa81145e00]\n",
       "class E4--><a href=\"psysml:61764694-1d1c-48ba-adaa-4bba53d3d30f\" target=\"_top\" title=\"psysml:61764694-1d1c-48ba-adaa-4bba53d3d30f\" xlink:actuate=\"onRequest\" xlink:href=\"psysml:61764694-1d1c-48ba-adaa-4bba53d3d30f\" xlink:show=\"new\" xlink:title=\"psysml:61764694-1d1c-48ba-adaa-4bba53d3d30f\" xlink:type=\"simple\"><g id=\"elem_E4\"><rect fill=\"#FFFFFF\" height=\"48.2656\" id=\"E4\" rx=\"10\" ry=\"10\" style=\"stroke:#181818;stroke-width:0.5;\" width=\"58\" x=\"409\" y=\"89\"/><text fill=\"#000000\" font-family=\"sans-serif\" font-size=\"12\" font-style=\"italic\" lengthAdjust=\"spacing\" textLength=\"40\" x=\"418\" y=\"105.1387\">«port»</text><text fill=\"#000000\" font-family=\"sans-serif\" font-size=\"14\" lengthAdjust=\"spacing\" textLength=\"44\" x=\"412\" y=\"120.9639\">porig1</text><line style=\"stroke:#181818;stroke-width:0.5;\" x1=\"410\" x2=\"466\" y1=\"129.2656\" y2=\"129.2656\"/></g></a><!--MD5=[270fce915f116d4de14055a7c1d9a0f3]\n",
       "class E5--><a href=\"psysml:e8b71076-5181-45d8-952d-6c6c3b8ab27b\" target=\"_top\" title=\"psysml:e8b71076-5181-45d8-952d-6c6c3b8ab27b\" xlink:actuate=\"onRequest\" xlink:href=\"psysml:e8b71076-5181-45d8-952d-6c6c3b8ab27b\" xlink:show=\"new\" xlink:title=\"psysml:e8b71076-5181-45d8-952d-6c6c3b8ab27b\" xlink:type=\"simple\"><g id=\"elem_E5\"><rect fill=\"#FFFFFF\" height=\"48.2656\" id=\"E5\" rx=\"10\" ry=\"10\" style=\"stroke:#181818;stroke-width:0.5;\" width=\"59\" x=\"96\" y=\"124\"/><text fill=\"#000000\" font-family=\"sans-serif\" font-size=\"12\" font-style=\"italic\" lengthAdjust=\"spacing\" textLength=\"40\" x=\"105.5\" y=\"140.1387\">«part»</text><text fill=\"#000000\" font-family=\"sans-serif\" font-size=\"14\" lengthAdjust=\"spacing\" textLength=\"45\" x=\"99\" y=\"155.9639\">p1: P1</text><line style=\"stroke:#181818;stroke-width:0.5;\" x1=\"97\" x2=\"154\" y1=\"164.2656\" y2=\"164.2656\"/></g></a><!--MD5=[60a26617385b1d2d0262a64233df1f8d]\n",
       "class E6--><a href=\"psysml:d614f44e-5180-4509-9cc1-1632afa7b11f\" target=\"_top\" title=\"psysml:d614f44e-5180-4509-9cc1-1632afa7b11f\" xlink:actuate=\"onRequest\" xlink:href=\"psysml:d614f44e-5180-4509-9cc1-1632afa7b11f\" xlink:show=\"new\" xlink:title=\"psysml:d614f44e-5180-4509-9cc1-1632afa7b11f\" xlink:type=\"simple\"><g id=\"elem_E6\"><rect fill=\"#FFFFFF\" height=\"48.2656\" id=\"E6\" rx=\"10\" ry=\"10\" style=\"stroke:#181818;stroke-width:0.5;\" width=\"42\" x=\"293\" y=\"179\"/><text fill=\"#000000\" font-family=\"sans-serif\" font-size=\"12\" font-style=\"italic\" lengthAdjust=\"spacing\" textLength=\"40\" x=\"294\" y=\"195.1387\">«port»</text><text fill=\"#000000\" font-family=\"sans-serif\" font-size=\"14\" lengthAdjust=\"spacing\" textLength=\"27\" x=\"296.5\" y=\"210.9639\">po1</text><line style=\"stroke:#181818;stroke-width:0.5;\" x1=\"294\" x2=\"334\" y1=\"219.2656\" y2=\"219.2656\"/></g></a><!--MD5=[2156ba9850f5573cc1fc38a6a4b2f02b]\n",
       "class E7--><a href=\"psysml:8277226e-c173-411e-8d8e-d31bb811c94b\" target=\"_top\" title=\"psysml:8277226e-c173-411e-8d8e-d31bb811c94b\" xlink:actuate=\"onRequest\" xlink:href=\"psysml:8277226e-c173-411e-8d8e-d31bb811c94b\" xlink:show=\"new\" xlink:title=\"psysml:8277226e-c173-411e-8d8e-d31bb811c94b\" xlink:type=\"simple\"><g id=\"elem_E7\"><rect fill=\"#FFFFFF\" height=\"75.0813\" id=\"E7\" rx=\"10\" ry=\"10\" style=\"stroke:#181818;stroke-width:0.5;\" width=\"59\" x=\"96\" y=\"207.5\"/><text fill=\"#000000\" font-family=\"sans-serif\" font-size=\"12\" font-style=\"italic\" lengthAdjust=\"spacing\" textLength=\"40\" x=\"105.5\" y=\"223.6387\">«part»</text><text fill=\"#000000\" font-family=\"sans-serif\" font-size=\"14\" lengthAdjust=\"spacing\" textLength=\"45\" x=\"99\" y=\"239.4639\">p2: P1</text><line style=\"stroke:#181818;stroke-width:0.5;\" x1=\"97\" x2=\"154\" y1=\"247.7656\" y2=\"247.7656\"/><text fill=\"#000000\" font-family=\"sans-serif\" font-size=\"14\" lengthAdjust=\"spacing\" textLength=\"40\" x=\"102\" y=\"275.2795\">pdest</text><text fill=\"#000000\" font-family=\"sans-serif\" font-size=\"14\" font-style=\"italic\" lengthAdjust=\"spacing\" textLength=\"36\" x=\"107.5\" y=\"260.1123\">ports</text></g></a><!--MD5=[b9389687b975829384b498ac4b7476b2]\n",
       "class E8--><a href=\"psysml:88f12717-b335-4bfa-a952-2b65a00cb7af\" target=\"_top\" title=\"psysml:88f12717-b335-4bfa-a952-2b65a00cb7af\" xlink:actuate=\"onRequest\" xlink:href=\"psysml:88f12717-b335-4bfa-a952-2b65a00cb7af\" xlink:show=\"new\" xlink:title=\"psysml:88f12717-b335-4bfa-a952-2b65a00cb7af\" xlink:type=\"simple\"><g id=\"elem_E8\"><rect fill=\"#FFFFFF\" height=\"48.2656\" id=\"E8\" rx=\"10\" ry=\"10\" style=\"stroke:#181818;stroke-width:0.5;\" width=\"54\" x=\"411\" y=\"179\"/><text fill=\"#000000\" font-family=\"sans-serif\" font-size=\"12\" font-style=\"italic\" lengthAdjust=\"spacing\" textLength=\"40\" x=\"418\" y=\"195.1387\">«port»</text><text fill=\"#000000\" font-family=\"sans-serif\" font-size=\"14\" lengthAdjust=\"spacing\" textLength=\"40\" x=\"414\" y=\"210.9639\">pdest</text><line style=\"stroke:#181818;stroke-width:0.5;\" x1=\"412\" x2=\"464\" y1=\"219.2656\" y2=\"219.2656\"/></g></a><!--MD5=[4672eba38e49728da53d11aeb285b987]\n",
       "reverse link E3 to E4--><g id=\"link_E3_E4\"><a href=\"psysml:9ff7bfb9-db47-4597-ac60-7f24b5e1b5c0\" target=\"_top\" title=\"psysml:9ff7bfb9-db47-4597-ac60-7f24b5e1b5c0\" xlink:actuate=\"onRequest\" xlink:href=\"psysml:9ff7bfb9-db47-4597-ac60-7f24b5e1b5c0\" xlink:show=\"new\" xlink:title=\"psysml:9ff7bfb9-db47-4597-ac60-7f24b5e1b5c0\" xlink:type=\"simple\"><path d=\"M362.59,108.73 C378.18,109.63 395.01,110.59 408.71,111.38 \" fill=\"none\" id=\"E3-backto-E4\" style=\"stroke:#181818;stroke-width:1.0;\"/><polygon fill=\"none\" points=\"349.31,107.97,355.0718,112.3061,361.2904,108.6553,355.5287,104.3192,349.31,107.97\" style=\"stroke:#181818;stroke-width:1.0;\"/></a></g><!--MD5=[e9be52314489bd878ff4c7144b63c9e1]\n",
       "link E5 to E3--><g id=\"link_E5_E3\"><a href=\"psysml:515868c5-6015-4da5-b3ff-32117e872914\" target=\"_top\" title=\"psysml:515868c5-6015-4da5-b3ff-32117e872914\" xlink:actuate=\"onRequest\" xlink:href=\"psysml:515868c5-6015-4da5-b3ff-32117e872914\" xlink:show=\"new\" xlink:title=\"psysml:515868c5-6015-4da5-b3ff-32117e872914\" xlink:type=\"simple\"><path d=\"M155.23,141.53 C182.82,135.32 225.18,125.78 259.06,118.15 \" fill=\"none\" id=\"E5-to-E3\" style=\"stroke:#181818;stroke-width:1.0;\"/><polygon fill=\"#FFFFFF\" points=\"278.85,113.69,261.8567,124.7004,258.7752,111.0437,278.85,113.69\" style=\"stroke:#181818;stroke-width:1.0;\"/><ellipse cx=\"255.8563\" cy=\"124.004\" fill=\"#181818\" rx=\"2\" ry=\"2\" style=\"stroke:#181818;stroke-width:1.0;\"/><ellipse cx=\"253.6552\" cy=\"114.2493\" fill=\"#181818\" rx=\"2\" ry=\"2\" style=\"stroke:#181818;stroke-width:1.0;\"/></a></g><!--MD5=[85d356282659285ab4b2cfe2f634dd2b]\n",
       "reverse link E5 to E6--><g id=\"link_E5_E6\"><a href=\"psysml:1a5e094c-b062-4a12-bd0e-4269385c32ea\" target=\"_top\" title=\"psysml:1a5e094c-b062-4a12-bd0e-4269385c32ea\" xlink:actuate=\"onRequest\" xlink:href=\"psysml:1a5e094c-b062-4a12-bd0e-4269385c32ea\" xlink:show=\"new\" xlink:title=\"psysml:1a5e094c-b062-4a12-bd0e-4269385c32ea\" xlink:type=\"simple\"><path d=\"M167.91,160.21 C206.72,171.66 263.1,188.28 292.86,197.06 \" fill=\"none\" id=\"E5-backto-E6\" style=\"stroke:#181818;stroke-width:1.0;\"/><polygon fill=\"none\" points=\"155.23,156.47,159.8486,162.0079,166.7369,159.8746,162.1183,154.3366,155.23,156.47\" style=\"stroke:#181818;stroke-width:1.0;\"/></a></g><!--MD5=[f667431f98296947986a1a7595a31603]\n",
       "link E6 to E4--><g id=\"link_E6_E4\"><a href=\"psysml:70307247-8a04-4365-8b78-a7ff4bcf8dda\" target=\"_top\" title=\"psysml:70307247-8a04-4365-8b78-a7ff4bcf8dda\" xlink:actuate=\"onRequest\" xlink:href=\"psysml:70307247-8a04-4365-8b78-a7ff4bcf8dda\" xlink:show=\"new\" xlink:title=\"psysml:70307247-8a04-4365-8b78-a7ff4bcf8dda\" xlink:type=\"simple\"><path d=\"M335.15,188.14 C350.64,176.71 372.64,160.48 392.23,146.02 \" fill=\"none\" id=\"E6-to-E4\" style=\"stroke:#181818;stroke-width:1.0;\"/><polygon fill=\"#FFFFFF\" points=\"408.61,133.94,397.472,150.8499,389.1634,139.5819,408.61,133.94\" style=\"stroke:#181818;stroke-width:1.0;\"/><line style=\"stroke:#181818;stroke-width:2.0;\" x1=\"394.4135\" x2=\"386.105\" y1=\"153.1051\" y2=\"141.837\"/></a></g><!--MD5=[14ccda38c055a5c0da953d572bc50960]\n",
       "link E7 to E3--><g id=\"link_E7_E3\"><a href=\"psysml:e2fe589c-f14e-47a5-aaf0-9a8ebd450a7c\" target=\"_top\" title=\"psysml:e2fe589c-f14e-47a5-aaf0-9a8ebd450a7c\" xlink:actuate=\"onRequest\" xlink:href=\"psysml:e2fe589c-f14e-47a5-aaf0-9a8ebd450a7c\" xlink:show=\"new\" xlink:title=\"psysml:e2fe589c-f14e-47a5-aaf0-9a8ebd450a7c\" xlink:type=\"simple\"><path d=\"M155.27,229.35 C173.97,218.76 198.58,204.01 219,189 C234.17,177.85 249.81,164.77 263.88,152.32 \" fill=\"none\" id=\"E7-to-E3\" style=\"stroke:#181818;stroke-width:1.0;\"/><polygon fill=\"#FFFFFF\" points=\"278.99,138.69,269.5778,156.6179,260.1962,146.2262,278.99,138.69\" style=\"stroke:#181818;stroke-width:1.0;\"/><ellipse cx=\"264.0066\" cy=\"158.953\" fill=\"#181818\" rx=\"2\" ry=\"2\" style=\"stroke:#181818;stroke-width:1.0;\"/><ellipse cx=\"257.3056\" cy=\"151.5304\" fill=\"#181818\" rx=\"2\" ry=\"2\" style=\"stroke:#181818;stroke-width:1.0;\"/></a></g><!--MD5=[dc164f5e8a733ab456ef1add180e9e34]\n",
       "reverse link E7 to E8--><g id=\"link_E7_E8\"><a href=\"psysml:ca64ac56-097c-4feb-943f-895d8fc6b637\" target=\"_top\" title=\"psysml:ca64ac56-097c-4feb-943f-895d8fc6b637\" xlink:actuate=\"onRequest\" xlink:href=\"psysml:ca64ac56-097c-4feb-943f-895d8fc6b637\" xlink:show=\"new\" xlink:title=\"psysml:ca64ac56-097c-4feb-943f-895d8fc6b637\" xlink:type=\"simple\"><path d=\"M168.08,250.07 C213.22,254.36 287.17,257.84 349,244 C370.88,239.1 393.77,228.23 410.73,218.91 \" fill=\"none\" id=\"E7-backto-E8\" style=\"stroke:#181818;stroke-width:1.0;\"/><polygon fill=\"none\" points=\"155.03,248.73,160.5897,253.3224,166.9671,249.9567,161.4075,245.3643,155.03,248.73\" style=\"stroke:#181818;stroke-width:1.0;\"/></a></g><!--MD5=[0a839d0f80c2d72d4b9b307f046d0de8]\n",
       "link E6 to E8--><g id=\"link_E6_E8\"><a href=\"psysml:f1f85c24-6beb-4ed4-abfc-161aeb53ad8b\" target=\"_top\" title=\"psysml:f1f85c24-6beb-4ed4-abfc-161aeb53ad8b\" xlink:actuate=\"onRequest\" xlink:href=\"psysml:f1f85c24-6beb-4ed4-abfc-161aeb53ad8b\" xlink:show=\"new\" xlink:title=\"psysml:f1f85c24-6beb-4ed4-abfc-161aeb53ad8b\" xlink:type=\"simple\"><path d=\"M335.15,212.76 C355.86,216.41 388.19,216.72 410.86,213.68 \" fill=\"none\" id=\"E6-E8\" style=\"stroke:#181818;stroke-width:3.0;\"/></a></g><!--MD5=[0a839d0f80c2d72d4b9b307f046d0de8]\n",
       "link E6 to E8--><g id=\"link_E6_E8\"><a href=\"psysml:92c8a956-0030-45f2-8c30-896629fb0abd\" target=\"_top\" title=\"psysml:92c8a956-0030-45f2-8c30-896629fb0abd\" xlink:actuate=\"onRequest\" xlink:href=\"psysml:92c8a956-0030-45f2-8c30-896629fb0abd\" xlink:show=\"new\" xlink:title=\"psysml:92c8a956-0030-45f2-8c30-896629fb0abd\" xlink:type=\"simple\"><path d=\"M335.15,192.67 C355.86,188.8 388.19,188.47 410.86,191.69 \" fill=\"none\" id=\"E6-E8-1\" style=\"stroke:#181818;stroke-width:3.0;\"/></a></g><!--MD5=[fd99690fa6de7fa3115ddbe01eff9498]\n",
       "@startuml\r\n",
       "skin sysmlbw\r\n",
       "skinparam monochrome true\r\n",
       "skinparam wrapWidth 300\r\n",
       "hide circle\r\n",
       "left to right direction\r\n",
       "\r\n",
       "package \"AliasTest\" as E1  [[psysml:a1c2986a-a425-4687-93ae-51674f2ada97 ]]  {\r\n",
       "comp usage \"b :>ISQSpaceTime::width \" as E2  <<(T,blue) attribute>> [[psysml:f27707b2-90f2-4671-96dd-49a3cebd999e ]] {\r\n",
       "}\r\n",
       "comp def \"P1\" as E3  <<(T,blue) part  def>> [[psysml:d64d4abf-692a-4b0a-b1a7-ca6bfa2152dc ]] {\r\n",
       "##//ports//##\r\n",
       "porig1\r\n",
       "}\r\n",
       "comp usage \"porig1  \" as E4  <<(T,blue) port>> [[psysml:61764694-1d1c-48ba-adaa-4bba53d3d30f ]] {\r\n",
       "}\r\n",
       "comp usage \"p1: P1  \" as E5  <<(T,blue) part>> [[psysml:e8b71076-5181-45d8-952d-6c6c3b8ab27b ]] {\r\n",
       "}\r\n",
       "comp usage \"po1  \" as E6  <<(T,blue) port>> [[psysml:d614f44e-5180-4509-9cc1-1632afa7b11f ]] {\r\n",
       "}\r\n",
       "comp usage \"p2: P1  \" as E7  <<(T,blue) part>> [[psysml:8277226e-c173-411e-8d8e-d31bb811c94b ]] {\r\n",
       "##//ports//##\r\n",
       "pdest\r\n",
       "}\r\n",
       "comp usage \"pdest  \" as E8  <<(T,blue) port>> [[psysml:88f12717-b335-4bfa-a952-2b65a00cb7af ]] {\r\n",
       "}\r\n",
       "}\r\n",
       "E3 o- - E4 [[psysml:9ff7bfb9-db47-4597-ac60-7f24b5e1b5c0 ]] \r\n",
       "E5 - -:|> E3 [[psysml:515868c5-6015-4da5-b3ff-32117e872914 ]] \r\n",
       "E5 o- - E6 [[psysml:1a5e094c-b062-4a12-bd0e-4269385c32ea ]] \r\n",
       "E6 - -||> E4 [[psysml:70307247-8a04-4365-8b78-a7ff4bcf8dda ]] \r\n",
       "E7 - -:|> E3 [[psysml:e2fe589c-f14e-47a5-aaf0-9a8ebd450a7c ]] \r\n",
       "E7 o- - E8 [[psysml:ca64ac56-097c-4feb-943f-895d8fc6b637 ]] \r\n",
       "E6 -[thickness=3]- E8 [[psysml:f1f85c24-6beb-4ed4-abfc-161aeb53ad8b ]] \r\n",
       "E6 -[thickness=3]- E8 [[psysml:92c8a956-0030-45f2-8c30-896629fb0abd ]] \r\n",
       "@enduml\r\n",
       "\n",
       "PlantUML version 1.2022.7(Mon Aug 22 17:01:30 UTC 2022)\n",
       "(EPL source distribution)\n",
       "Java Runtime: OpenJDK Runtime Environment\n",
       "JVM: OpenJDK 64-Bit Server VM\n",
       "Default Encoding: UTF-8\n",
       "Language: en\n",
       "Country: null\n",
       "--></g></svg>"
      ]
     },
     "execution_count": 17,
     "metadata": {},
     "output_type": "execute_result"
    }
   ],
   "source": [
    "%viz --style=\"LR\" --view=\"Tree\" \"AliasTest\""
   ]
  },
  {
   "cell_type": "code",
   "execution_count": 18,
   "id": "1d83d35f",
   "metadata": {
    "execution": {
     "iopub.execute_input": "2024-12-16T03:25:12.421230Z",
     "iopub.status.busy": "2024-12-16T03:25:12.421023Z",
     "iopub.status.idle": "2024-12-16T03:25:12.426957Z",
     "shell.execute_reply": "2024-12-16T03:25:12.426773Z"
    }
   },
   "outputs": [
    {
     "data": {
      "image/svg+xml": [
       "<?xml version=\"1.0\" encoding=\"UTF-8\" standalone=\"no\"?><svg xmlns=\"http://www.w3.org/2000/svg\" xmlns:xlink=\"http://www.w3.org/1999/xlink\" contentStyleType=\"text/css\" height=\"10px\" preserveAspectRatio=\"none\" style=\"width:10px;height:10px;background:#FFFFFF;\" version=\"1.1\" viewBox=\"0 0 10 10\" width=\"10px\" zoomAndPan=\"magnify\"><defs/><g><!--MD5=[fb420fbd7a91d32138f4344b927a323c]\n",
       "@startuml\r\n",
       "skin sysmlbw\r\n",
       "skinparam monochrome true\r\n",
       "skinparam wrapWidth 300\r\n",
       "hide circle\r\n",
       "left to right direction\r\n",
       "\r\n",
       "@enduml\r\n",
       "\n",
       "PlantUML version 1.2022.7(Mon Aug 22 17:01:30 UTC 2022)\n",
       "(EPL source distribution)\n",
       "Java Runtime: OpenJDK Runtime Environment\n",
       "JVM: OpenJDK 64-Bit Server VM\n",
       "Default Encoding: UTF-8\n",
       "Language: en\n",
       "Country: null\n",
       "--></g></svg>"
      ]
     },
     "execution_count": 18,
     "metadata": {},
     "output_type": "execute_result"
    }
   ],
   "source": [
    "%viz --style=\"LR\" --view=\"State\" \"AliasTest\""
   ]
  },
  {
   "cell_type": "code",
   "execution_count": 19,
   "id": "d7d6a2b9",
   "metadata": {
    "execution": {
     "iopub.execute_input": "2024-12-16T03:25:12.480321Z",
     "iopub.status.busy": "2024-12-16T03:25:12.480143Z",
     "iopub.status.idle": "2024-12-16T03:25:12.502015Z",
     "shell.execute_reply": "2024-12-16T03:25:12.501826Z"
    }
   },
   "outputs": [
    {
     "data": {
      "image/svg+xml": [
       "<?xml version=\"1.0\" encoding=\"UTF-8\" standalone=\"no\"?><svg xmlns=\"http://www.w3.org/2000/svg\" xmlns:xlink=\"http://www.w3.org/1999/xlink\" contentStyleType=\"text/css\" height=\"275px\" preserveAspectRatio=\"none\" style=\"width:616px;height:275px;background:#FFFFFF;\" version=\"1.1\" viewBox=\"0 0 616 275\" width=\"616px\" zoomAndPan=\"magnify\"><defs/><g><!--MD5=[fbc87193dbaf4d95561dea2c320d4a47]\n",
       "cluster E1--><g id=\"cluster_E1\"><a href=\"psysml:a1c2986a-a425-4687-93ae-51674f2ada97\" target=\"_top\" title=\"psysml:a1c2986a-a425-4687-93ae-51674f2ada97\" xlink:actuate=\"onRequest\" xlink:href=\"psysml:a1c2986a-a425-4687-93ae-51674f2ada97\" xlink:show=\"new\" xlink:title=\"psysml:a1c2986a-a425-4687-93ae-51674f2ada97\" xlink:type=\"simple\"><polygon fill=\"none\" points=\"16,6,87.9375,6,94.9375,28.2969,599.86,28.2969,599.86,268,16,268,16,6\" style=\"stroke:#000000;stroke-width:1.5;\"/><line style=\"stroke:#000000;stroke-width:1.5;\" x1=\"16\" x2=\"94.9375\" y1=\"28.2969\" y2=\"28.2969\"/><text fill=\"#000000\" font-family=\"sans-serif\" font-size=\"14\" font-weight=\"bold\" lengthAdjust=\"spacing\" textLength=\"65.9375\" x=\"20\" y=\"20.9951\">AliasTest</text></a></g><!--MD5=[d5e69f78d87373223dbae638b30a9c99]\n",
       "cluster E3--><g id=\"cluster_E3\"><a href=\"psysml:d64d4abf-692a-4b0a-b1a7-ca6bfa2152dc\" target=\"_top\" title=\"psysml:d64d4abf-692a-4b0a-b1a7-ca6bfa2152dc\" xlink:actuate=\"onRequest\" xlink:href=\"psysml:d64d4abf-692a-4b0a-b1a7-ca6bfa2152dc\" xlink:show=\"new\" xlink:title=\"psysml:d64d4abf-692a-4b0a-b1a7-ca6bfa2152dc\" xlink:type=\"simple\"><rect fill=\"#FFFFFF\" height=\"47\" id=\"E3\" style=\"stroke:#383838;stroke-width:1.5;\" width=\"220.5\" x=\"355.36\" y=\"84\"/><text fill=\"#000000\" font-family=\"sans-serif\" font-size=\"12\" font-style=\"italic\" lengthAdjust=\"spacing\" textLength=\"68\" x=\"431.61\" y=\"100.1387\">«part  def»</text><text fill=\"#000000\" font-family=\"sans-serif\" font-size=\"14\" lengthAdjust=\"spacing\" textLength=\"18\" x=\"456.61\" y=\"115.9639\">P1</text><line style=\"stroke:#383838;stroke-width:1.0;\" x1=\"355.36\" x2=\"575.86\" y1=\"124.2656\" y2=\"124.2656\"/></a></g><!--MD5=[14e3b0961a2654348d326746436168a1]\n",
       "cluster E6--><g id=\"cluster_E6\"><a href=\"psysml:e8b71076-5181-45d8-952d-6c6c3b8ab27b\" target=\"_top\" title=\"psysml:e8b71076-5181-45d8-952d-6c6c3b8ab27b\" xlink:actuate=\"onRequest\" xlink:href=\"psysml:e8b71076-5181-45d8-952d-6c6c3b8ab27b\" xlink:show=\"new\" xlink:title=\"psysml:e8b71076-5181-45d8-952d-6c6c3b8ab27b\" xlink:type=\"simple\"><rect fill=\"#FFFFFF\" height=\"54\" id=\"E6\" rx=\"10\" ry=\"10\" style=\"stroke:#383838;stroke-width:1.5;\" width=\"207.86\" x=\"70\" y=\"120\"/><text fill=\"#000000\" font-family=\"sans-serif\" font-size=\"14\" lengthAdjust=\"spacing\" textLength=\"45\" x=\"151.43\" y=\"137.9951\">p1: P1</text><line style=\"stroke:#383838;stroke-width:1.0;\" x1=\"70\" x2=\"277.86\" y1=\"146.2969\" y2=\"146.2969\"/></a></g><!--MD5=[55dfccfc6c49c2d10cd1bd2211a6c90c]\n",
       "cluster E8--><g id=\"cluster_E8\"><a href=\"psysml:8277226e-c173-411e-8d8e-d31bb811c94b\" target=\"_top\" title=\"psysml:8277226e-c173-411e-8d8e-d31bb811c94b\" xlink:actuate=\"onRequest\" xlink:href=\"psysml:8277226e-c173-411e-8d8e-d31bb811c94b\" xlink:show=\"new\" xlink:title=\"psysml:8277226e-c173-411e-8d8e-d31bb811c94b\" xlink:type=\"simple\"><rect fill=\"#FFFFFF\" height=\"47\" id=\"E8\" rx=\"10\" ry=\"10\" style=\"stroke:#383838;stroke-width:1.5;\" width=\"135\" x=\"293.86\" y=\"183\"/><text fill=\"#000000\" font-family=\"sans-serif\" font-size=\"14\" lengthAdjust=\"spacing\" textLength=\"45\" x=\"338.86\" y=\"200.9951\">p2: P1</text><line style=\"stroke:#383838;stroke-width:1.0;\" x1=\"293.86\" x2=\"428.86\" y1=\"209.2969\" y2=\"209.2969\"/></a></g><!--MD5=[b4997ac47864f28c2f74865a473b2911]\n",
       "class E2--><a href=\"psysml:f27707b2-90f2-4671-96dd-49a3cebd999e\" target=\"_top\" title=\"psysml:f27707b2-90f2-4671-96dd-49a3cebd999e\" xlink:actuate=\"onRequest\" xlink:href=\"psysml:f27707b2-90f2-4671-96dd-49a3cebd999e\" xlink:show=\"new\" xlink:title=\"psysml:f27707b2-90f2-4671-96dd-49a3cebd999e\" xlink:type=\"simple\"><g id=\"elem_E2\"><rect fill=\"#FFFFFF\" height=\"48.2656\" id=\"E2\" rx=\"10\" ry=\"10\" style=\"stroke:#181818;stroke-width:0.5;\" width=\"187\" x=\"32\" y=\"204\"/><text fill=\"#000000\" font-family=\"sans-serif\" font-size=\"12\" font-style=\"italic\" lengthAdjust=\"spacing\" textLength=\"69\" x=\"91\" y=\"220.1387\">«attribute»</text><text fill=\"#000000\" font-family=\"sans-serif\" font-size=\"14\" lengthAdjust=\"spacing\" textLength=\"177\" x=\"35\" y=\"235.9639\">b :&gt;ISQSpaceTime::width</text><line style=\"stroke:#181818;stroke-width:0.5;\" x1=\"33\" x2=\"218\" y1=\"244.2656\" y2=\"244.2656\"/></g></a><text fill=\"#000000\" font-family=\"sans-serif\" font-size=\"14\" lengthAdjust=\"spacing\" textLength=\"44\" x=\"347.36\" y=\"149.9951\">porig1</text><rect fill=\"#FFFFFF\" height=\"12\" style=\"stroke:#181818;stroke-width:1.5;\" width=\"12\" x=\"367.36\" y=\"125\"/><text fill=\"#000000\" font-family=\"sans-serif\" font-size=\"14\" lengthAdjust=\"spacing\" textLength=\"44\" x=\"347.36\" y=\"62.6982\">porig1</text><rect fill=\"#FFFFFF\" height=\"12\" style=\"stroke:#181818;stroke-width:1.5;\" width=\"12\" x=\"367.36\" y=\"78\"/><text fill=\"#000000\" font-family=\"sans-serif\" font-size=\"14\" lengthAdjust=\"spacing\" textLength=\"27\" x=\"242.36\" y=\"192.9951\">po1</text><rect fill=\"#FFFFFF\" height=\"12\" style=\"stroke:#181818;stroke-width:1.5;\" width=\"12\" x=\"253.86\" y=\"168\"/><text fill=\"#000000\" font-family=\"sans-serif\" font-size=\"14\" lengthAdjust=\"spacing\" textLength=\"40\" x=\"287.86\" y=\"248.9951\">pdest</text><rect fill=\"#FFFFFF\" height=\"12\" style=\"stroke:#181818;stroke-width:1.5;\" width=\"12\" x=\"305.86\" y=\"224\"/><text fill=\"#000000\" font-family=\"sans-serif\" font-size=\"14\" lengthAdjust=\"spacing\" textLength=\"40\" x=\"287.86\" y=\"161.6982\">pdest</text><rect fill=\"#FFFFFF\" height=\"12\" style=\"stroke:#181818;stroke-width:1.5;\" width=\"12\" x=\"305.86\" y=\"177\"/><!--MD5=[a717450b82c80b9240a525fa862496af]\n",
       "link E6 to E3--><g id=\"link_E6_E3\"><a href=\"psysml:515868c5-6015-4da5-b3ff-32117e872914\" target=\"_top\" title=\"psysml:515868c5-6015-4da5-b3ff-32117e872914\" xlink:actuate=\"onRequest\" xlink:href=\"psysml:515868c5-6015-4da5-b3ff-32117e872914\" xlink:show=\"new\" xlink:title=\"psysml:515868c5-6015-4da5-b3ff-32117e872914\" xlink:type=\"simple\"><path d=\"M147.3773,119.5456 C147.4933,119.3785 147.6099,119.2112 147.7268,119.0435 C148.1947,118.3728 148.6696,117.6974 149.1514,117.0178 C156.8609,106.1438 166.3531,94.1838 177.3388,83.07 C199.31,60.8425 227.255,42 258.86,42 C258.86,42 258.86,42 312.86,42 C368.19,42 385.07,33.54 436.86,53 C441.615,54.7875 446.3325,57.0013 450.9363,59.4939 C451.5117,59.8055 452.0854,60.1214 452.6572,60.4414 C452.9431,60.6014 453.2285,60.7625 453.5134,60.9245 \" fill=\"none\" id=\"E6-to-E3\" style=\"stroke:#181818;stroke-width:1.0;\"/><polygon fill=\"#FFFFFF\" points=\"453.5134,60.9245,433.5367,57.6177,440.457,45.4476,453.5134,60.9245\" style=\"stroke:#181818;stroke-width:1.0;\"/><ellipse cx=\"429.5704\" cy=\"53.0615\" fill=\"#181818\" rx=\"2\" ry=\"2\" style=\"stroke:#181818;stroke-width:1.0;\"/><ellipse cx=\"434.5135\" cy=\"44.3687\" fill=\"#181818\" rx=\"2\" ry=\"2\" style=\"stroke:#181818;stroke-width:1.0;\"/></a></g><!--MD5=[95fa686b5a16158bcdbcaeead89f639b]\n",
       "link E8 to E3--><g id=\"link_E8_E3\"><a href=\"psysml:e2fe589c-f14e-47a5-aaf0-9a8ebd450a7c\" target=\"_top\" title=\"psysml:e2fe589c-f14e-47a5-aaf0-9a8ebd450a7c\" xlink:actuate=\"onRequest\" xlink:href=\"psysml:e2fe589c-f14e-47a5-aaf0-9a8ebd450a7c\" xlink:show=\"new\" xlink:title=\"psysml:e2fe589c-f14e-47a5-aaf0-9a8ebd450a7c\" xlink:type=\"simple\"><path d=\"M400.7709,182.8361 C400.9978,182.6629 401.2257,182.4889 401.4546,182.3142 C403.2855,180.9165 405.1783,179.4716 407.123,177.9872 C414.9016,172.0494 423.5094,165.4788 432.3013,158.7675 C436.6972,155.4119 441.1391,152.0211 445.5465,148.6567 C446.6483,147.8156 447.748,146.9761 448.8442,146.1393 C449.1183,145.9301 449.3921,145.721 449.6657,145.5121 C449.8025,145.4077 449.9393,145.3033 450.076,145.199 C450.1443,145.1468 450.2126,145.0946 450.281,145.0425 \" fill=\"none\" id=\"E8-to-E3\" style=\"stroke:#181818;stroke-width:1.0;\"/><polygon fill=\"#FFFFFF\" points=\"450.281,145.0425,439.426,162.1355,430.931,151.0074,450.281,145.0425\" style=\"stroke:#181818;stroke-width:1.0;\"/><ellipse cx=\"433.6817\" cy=\"164.0044\" fill=\"#181818\" rx=\"2\" ry=\"2\" style=\"stroke:#181818;stroke-width:1.0;\"/><ellipse cx=\"427.6138\" cy=\"156.0558\" fill=\"#181818\" rx=\"2\" ry=\"2\" style=\"stroke:#181818;stroke-width:1.0;\"/></a></g><!--MD5=[1c0b9414cc86e0744215edee6abd8926]\n",
       "link E7 to E9--><g id=\"link_E7_E9\"><a href=\"psysml:f1f85c24-6beb-4ed4-abfc-161aeb53ad8b\" target=\"_top\" title=\"psysml:f1f85c24-6beb-4ed4-abfc-161aeb53ad8b\" xlink:actuate=\"onRequest\" xlink:href=\"psysml:f1f85c24-6beb-4ed4-abfc-161aeb53ad8b\" xlink:show=\"new\" xlink:title=\"psysml:f1f85c24-6beb-4ed4-abfc-161aeb53ad8b\" xlink:type=\"simple\"><path d=\"M261.49,180.03 C264.56,195.27 278.36,211.16 289.86,224 C297.51,232.54 306.89,242.71 309.89,236.3 \" fill=\"none\" id=\"E7-E9\" style=\"stroke:#181818;stroke-width:3.0;\"/></a></g><!--MD5=[1c0b9414cc86e0744215edee6abd8926]\n",
       "link E7 to E9--><g id=\"link_E7_E9\"><a href=\"psysml:92c8a956-0030-45f2-8c30-896629fb0abd\" target=\"_top\" title=\"psysml:92c8a956-0030-45f2-8c30-896629fb0abd\" xlink:actuate=\"onRequest\" xlink:href=\"psysml:92c8a956-0030-45f2-8c30-896629fb0abd\" xlink:show=\"new\" xlink:title=\"psysml:92c8a956-0030-45f2-8c30-896629fb0abd\" xlink:type=\"simple\"><path d=\"M262.18,167.74 C266.26,162.23 279.07,176.96 289.86,189 C298.01,198.1 308.14,209.06 310.4,223.89 \" fill=\"none\" id=\"E7-E9-1\" style=\"stroke:#181818;stroke-width:3.0;\"/></a></g><!--MD5=[760740cf20be24699b25158c9abf13c6]\n",
       "@startuml\r\n",
       "skin sysmlbw\r\n",
       "skinparam monochrome true\r\n",
       "skinparam wrapWidth 300\r\n",
       "hide circle\r\n",
       "left to right direction\r\n",
       "skinparam ranksep 10\r\n",
       "skinparam rectangle {\r\n",
       " backgroundColor<<block>> LightGreen\r\n",
       "}\r\n",
       "\r\n",
       "package \"AliasTest\" as E1  [[psysml:a1c2986a-a425-4687-93ae-51674f2ada97 ]]  {\r\n",
       "comp usage \"b :>ISQSpaceTime::width \" as E2  <<(T,blue) attribute>> [[psysml:f27707b2-90f2-4671-96dd-49a3cebd999e ]] {\r\n",
       "}\r\n",
       "rec def \"P1\" as E3  <<(T,blue) part  def>> [[psysml:d64d4abf-692a-4b0a-b1a7-ca6bfa2152dc ]] {\r\n",
       "portin \"porig1  \" as E4  <<(T,blue) port>> [[psysml:61764694-1d1c-48ba-adaa-4bba53d3d30f ]] \r\n",
       "portin \"porig1  \" as E5  <<(T,blue) port>> [[psysml:61764694-1d1c-48ba-adaa-4bba53d3d30f ]] \r\n",
       "}\r\n",
       "rec usage \"p1: P1\" as E6 [[psysml:e8b71076-5181-45d8-952d-6c6c3b8ab27b ]] {\r\n",
       "portout \"po1  \" as E7  <<(T,blue) port>> [[psysml:d614f44e-5180-4509-9cc1-1632afa7b11f ]] \r\n",
       "}\r\n",
       "rec usage \"p2: P1\" as E8 [[psysml:8277226e-c173-411e-8d8e-d31bb811c94b ]] {\r\n",
       "portin \"pdest  \" as E9  <<(T,blue) port>> [[psysml:88f12717-b335-4bfa-a952-2b65a00cb7af ]] \r\n",
       "portin \"pdest  \" as E10  <<(T,blue) port>> [[psysml:88f12717-b335-4bfa-a952-2b65a00cb7af ]] \r\n",
       "}\r\n",
       "}\r\n",
       "E6 - -:|> E3 [[psysml:515868c5-6015-4da5-b3ff-32117e872914 ]] \r\n",
       "E8 - -:|> E3 [[psysml:e2fe589c-f14e-47a5-aaf0-9a8ebd450a7c ]] \r\n",
       "E7 -[thickness=3]- E9 [[psysml:f1f85c24-6beb-4ed4-abfc-161aeb53ad8b ]] \r\n",
       "E7 -[thickness=3]- E9 [[psysml:92c8a956-0030-45f2-8c30-896629fb0abd ]] \r\n",
       "@enduml\r\n",
       "\n",
       "PlantUML version 1.2022.7(Mon Aug 22 17:01:30 UTC 2022)\n",
       "(EPL source distribution)\n",
       "Java Runtime: OpenJDK Runtime Environment\n",
       "JVM: OpenJDK 64-Bit Server VM\n",
       "Default Encoding: UTF-8\n",
       "Language: en\n",
       "Country: null\n",
       "--></g></svg>"
      ]
     },
     "execution_count": 19,
     "metadata": {},
     "output_type": "execute_result"
    }
   ],
   "source": [
    "%viz --style=\"LR\" --view=\"Interconnection\" \"AliasTest\""
   ]
  },
  {
   "cell_type": "code",
   "execution_count": 20,
   "id": "5fe71451",
   "metadata": {
    "execution": {
     "iopub.execute_input": "2024-12-16T03:25:12.559311Z",
     "iopub.status.busy": "2024-12-16T03:25:12.559074Z",
     "iopub.status.idle": "2024-12-16T03:25:12.565784Z",
     "shell.execute_reply": "2024-12-16T03:25:12.565602Z"
    }
   },
   "outputs": [
    {
     "data": {
      "image/svg+xml": [
       "<?xml version=\"1.0\" encoding=\"UTF-8\" standalone=\"no\"?><svg xmlns=\"http://www.w3.org/2000/svg\" xmlns:xlink=\"http://www.w3.org/1999/xlink\" contentStyleType=\"text/css\" height=\"10px\" preserveAspectRatio=\"none\" style=\"width:10px;height:10px;background:#FFFFFF;\" version=\"1.1\" viewBox=\"0 0 10 10\" width=\"10px\" zoomAndPan=\"magnify\"><defs/><g><!--MD5=[a45826aa31d3f335355a0e6fe4d8f867]\n",
       "@startuml\r\n",
       "skin sysmlbw\r\n",
       "skinparam monochrome true\r\n",
       "skinparam wrapWidth 300\r\n",
       "hide circle\r\n",
       "left to right direction\r\n",
       "skinparam ranksep 8\r\n",
       "\r\n",
       "@enduml\r\n",
       "\n",
       "PlantUML version 1.2022.7(Mon Aug 22 17:01:30 UTC 2022)\n",
       "(EPL source distribution)\n",
       "Java Runtime: OpenJDK Runtime Environment\n",
       "JVM: OpenJDK 64-Bit Server VM\n",
       "Default Encoding: UTF-8\n",
       "Language: en\n",
       "Country: null\n",
       "--></g></svg>"
      ]
     },
     "execution_count": 20,
     "metadata": {},
     "output_type": "execute_result"
    }
   ],
   "source": [
    "%viz --style=\"LR\" --view=\"Action\" \"AliasTest\""
   ]
  },
  {
   "cell_type": "code",
   "execution_count": 21,
   "id": "a89e4f22",
   "metadata": {
    "execution": {
     "iopub.execute_input": "2024-12-16T03:25:12.622070Z",
     "iopub.status.busy": "2024-12-16T03:25:12.621809Z",
     "iopub.status.idle": "2024-12-16T03:25:12.628300Z",
     "shell.execute_reply": "2024-12-16T03:25:12.628105Z"
    }
   },
   "outputs": [
    {
     "data": {
      "image/svg+xml": [
       "<?xml version=\"1.0\" encoding=\"UTF-8\" standalone=\"no\"?><svg xmlns=\"http://www.w3.org/2000/svg\" xmlns:xlink=\"http://www.w3.org/1999/xlink\" contentStyleType=\"text/css\" height=\"10px\" preserveAspectRatio=\"none\" style=\"width:10px;height:10px;background:#FFFFFF;\" version=\"1.1\" viewBox=\"0 0 10 10\" width=\"10px\" zoomAndPan=\"magnify\"><defs/><g><!--MD5=[3d7abb46b795db4c9d99c7acf425de78]\n",
       "@startuml\r\n",
       "skin sysmlbw\r\n",
       "skinparam monochrome true\r\n",
       "skinparam wrapWidth 300\r\n",
       "hide circle\r\n",
       "left to right direction\r\n",
       "skinparam roundcorner 20\r\n",
       "skinparam BoxPadding 20\r\n",
       "skinparam SequenceBoxBackgroundColor #white\r\n",
       "skinparam style strictuml\r\n",
       "skinparam maxMessageSize 100\r\n",
       "\r\n",
       "@enduml\r\n",
       "\n",
       "PlantUML version 1.2022.7(Mon Aug 22 17:01:30 UTC 2022)\n",
       "(EPL source distribution)\n",
       "Java Runtime: OpenJDK Runtime Environment\n",
       "JVM: OpenJDK 64-Bit Server VM\n",
       "Default Encoding: UTF-8\n",
       "Language: en\n",
       "Country: null\n",
       "--></g></svg>"
      ]
     },
     "execution_count": 21,
     "metadata": {},
     "output_type": "execute_result"
    }
   ],
   "source": [
    "%viz --style=\"LR\" --view=\"Sequence\" \"AliasTest\""
   ]
  },
  {
   "cell_type": "code",
   "execution_count": 22,
   "id": "df903fb1",
   "metadata": {
    "execution": {
     "iopub.execute_input": "2024-12-16T03:25:12.682584Z",
     "iopub.status.busy": "2024-12-16T03:25:12.682375Z",
     "iopub.status.idle": "2024-12-16T03:25:12.708948Z",
     "shell.execute_reply": "2024-12-16T03:25:12.707965Z"
    }
   },
   "outputs": [
    {
     "data": {
      "image/svg+xml": [
       "<?xml version=\"1.0\" encoding=\"UTF-8\" standalone=\"no\"?><svg xmlns=\"http://www.w3.org/2000/svg\" xmlns:xlink=\"http://www.w3.org/1999/xlink\" contentStyleType=\"text/css\" height=\"305px\" preserveAspectRatio=\"none\" style=\"width:500px;height:305px;background:#FFFFFF;\" version=\"1.1\" viewBox=\"0 0 500 305\" width=\"500px\" zoomAndPan=\"magnify\"><defs/><g><!--MD5=[fbc87193dbaf4d95561dea2c320d4a47]\n",
       "cluster E1--><g id=\"cluster_E1\"><a href=\"psysml:a1c2986a-a425-4687-93ae-51674f2ada97\" target=\"_top\" title=\"psysml:a1c2986a-a425-4687-93ae-51674f2ada97\" xlink:actuate=\"onRequest\" xlink:href=\"psysml:a1c2986a-a425-4687-93ae-51674f2ada97\" xlink:show=\"new\" xlink:title=\"psysml:a1c2986a-a425-4687-93ae-51674f2ada97\" xlink:type=\"simple\"><polygon fill=\"none\" points=\"16,6,87.9375,6,94.9375,28.2969,483,28.2969,483,298,16,298,16,6\" style=\"stroke:#000000;stroke-width:1.5;\"/><line style=\"stroke:#000000;stroke-width:1.5;\" x1=\"16\" x2=\"94.9375\" y1=\"28.2969\" y2=\"28.2969\"/><text fill=\"#000000\" font-family=\"sans-serif\" font-size=\"14\" font-weight=\"bold\" lengthAdjust=\"spacing\" textLength=\"65.9375\" x=\"20\" y=\"20.9951\">AliasTest</text></a></g><!--MD5=[b4997ac47864f28c2f74865a473b2911]\n",
       "class E2--><a href=\"psysml:f27707b2-90f2-4671-96dd-49a3cebd999e\" target=\"_top\" title=\"psysml:f27707b2-90f2-4671-96dd-49a3cebd999e\" xlink:actuate=\"onRequest\" xlink:href=\"psysml:f27707b2-90f2-4671-96dd-49a3cebd999e\" xlink:show=\"new\" xlink:title=\"psysml:f27707b2-90f2-4671-96dd-49a3cebd999e\" xlink:type=\"simple\"><g id=\"elem_E2\"><rect fill=\"#FFFFFF\" height=\"48.2656\" id=\"E2\" rx=\"10\" ry=\"10\" style=\"stroke:#181818;stroke-width:0.5;\" width=\"187\" x=\"32\" y=\"41\"/><text fill=\"#000000\" font-family=\"sans-serif\" font-size=\"12\" font-style=\"italic\" lengthAdjust=\"spacing\" textLength=\"69\" x=\"91\" y=\"57.1387\">«attribute»</text><text fill=\"#000000\" font-family=\"sans-serif\" font-size=\"14\" lengthAdjust=\"spacing\" textLength=\"177\" x=\"35\" y=\"72.9639\">b :&gt;ISQSpaceTime::width</text><line style=\"stroke:#181818;stroke-width:0.5;\" x1=\"33\" x2=\"218\" y1=\"81.2656\" y2=\"81.2656\"/></g></a><!--MD5=[09b614a08d8cba4a07c9adeb5e0fee81]\n",
       "class E3--><a href=\"psysml:d64d4abf-692a-4b0a-b1a7-ca6bfa2152dc\" target=\"_top\" title=\"psysml:d64d4abf-692a-4b0a-b1a7-ca6bfa2152dc\" xlink:actuate=\"onRequest\" xlink:href=\"psysml:d64d4abf-692a-4b0a-b1a7-ca6bfa2152dc\" xlink:show=\"new\" xlink:title=\"psysml:d64d4abf-692a-4b0a-b1a7-ca6bfa2152dc\" xlink:type=\"simple\"><g id=\"elem_E3\"><rect fill=\"#FFFFFF\" height=\"75.0813\" id=\"E3\" style=\"stroke:#181818;stroke-width:0.5;\" width=\"70\" x=\"279\" y=\"68.5\"/><text fill=\"#000000\" font-family=\"sans-serif\" font-size=\"12\" font-style=\"italic\" lengthAdjust=\"spacing\" textLength=\"68\" x=\"280\" y=\"84.6387\">«part  def»</text><text fill=\"#000000\" font-family=\"sans-serif\" font-size=\"14\" lengthAdjust=\"spacing\" textLength=\"18\" x=\"305\" y=\"100.4639\">P1</text><line style=\"stroke:#181818;stroke-width:0.5;\" x1=\"280\" x2=\"348\" y1=\"108.7656\" y2=\"108.7656\"/><text fill=\"#000000\" font-family=\"sans-serif\" font-size=\"14\" lengthAdjust=\"spacing\" textLength=\"44\" x=\"285\" y=\"136.2795\">porig1</text><text fill=\"#000000\" font-family=\"sans-serif\" font-size=\"14\" font-style=\"italic\" lengthAdjust=\"spacing\" textLength=\"36\" x=\"296\" y=\"121.1123\">ports</text></g></a><!--MD5=[ebbe1d658d1005bcc118a6aa81145e00]\n",
       "class E4--><a href=\"psysml:61764694-1d1c-48ba-adaa-4bba53d3d30f\" target=\"_top\" title=\"psysml:61764694-1d1c-48ba-adaa-4bba53d3d30f\" xlink:actuate=\"onRequest\" xlink:href=\"psysml:61764694-1d1c-48ba-adaa-4bba53d3d30f\" xlink:show=\"new\" xlink:title=\"psysml:61764694-1d1c-48ba-adaa-4bba53d3d30f\" xlink:type=\"simple\"><g id=\"elem_E4\"><rect fill=\"#FFFFFF\" height=\"48.2656\" id=\"E4\" rx=\"10\" ry=\"10\" style=\"stroke:#181818;stroke-width:0.5;\" width=\"58\" x=\"409\" y=\"89\"/><text fill=\"#000000\" font-family=\"sans-serif\" font-size=\"12\" font-style=\"italic\" lengthAdjust=\"spacing\" textLength=\"40\" x=\"418\" y=\"105.1387\">«port»</text><text fill=\"#000000\" font-family=\"sans-serif\" font-size=\"14\" lengthAdjust=\"spacing\" textLength=\"44\" x=\"412\" y=\"120.9639\">porig1</text><line style=\"stroke:#181818;stroke-width:0.5;\" x1=\"410\" x2=\"466\" y1=\"129.2656\" y2=\"129.2656\"/></g></a><!--MD5=[270fce915f116d4de14055a7c1d9a0f3]\n",
       "class E5--><a href=\"psysml:e8b71076-5181-45d8-952d-6c6c3b8ab27b\" target=\"_top\" title=\"psysml:e8b71076-5181-45d8-952d-6c6c3b8ab27b\" xlink:actuate=\"onRequest\" xlink:href=\"psysml:e8b71076-5181-45d8-952d-6c6c3b8ab27b\" xlink:show=\"new\" xlink:title=\"psysml:e8b71076-5181-45d8-952d-6c6c3b8ab27b\" xlink:type=\"simple\"><g id=\"elem_E5\"><rect fill=\"#FFFFFF\" height=\"48.2656\" id=\"E5\" rx=\"10\" ry=\"10\" style=\"stroke:#181818;stroke-width:0.5;\" width=\"59\" x=\"96\" y=\"124\"/><text fill=\"#000000\" font-family=\"sans-serif\" font-size=\"12\" font-style=\"italic\" lengthAdjust=\"spacing\" textLength=\"40\" x=\"105.5\" y=\"140.1387\">«part»</text><text fill=\"#000000\" font-family=\"sans-serif\" font-size=\"14\" lengthAdjust=\"spacing\" textLength=\"45\" x=\"99\" y=\"155.9639\">p1: P1</text><line style=\"stroke:#181818;stroke-width:0.5;\" x1=\"97\" x2=\"154\" y1=\"164.2656\" y2=\"164.2656\"/></g></a><!--MD5=[60a26617385b1d2d0262a64233df1f8d]\n",
       "class E6--><a href=\"psysml:d614f44e-5180-4509-9cc1-1632afa7b11f\" target=\"_top\" title=\"psysml:d614f44e-5180-4509-9cc1-1632afa7b11f\" xlink:actuate=\"onRequest\" xlink:href=\"psysml:d614f44e-5180-4509-9cc1-1632afa7b11f\" xlink:show=\"new\" xlink:title=\"psysml:d614f44e-5180-4509-9cc1-1632afa7b11f\" xlink:type=\"simple\"><g id=\"elem_E6\"><rect fill=\"#FFFFFF\" height=\"48.2656\" id=\"E6\" rx=\"10\" ry=\"10\" style=\"stroke:#181818;stroke-width:0.5;\" width=\"42\" x=\"293\" y=\"179\"/><text fill=\"#000000\" font-family=\"sans-serif\" font-size=\"12\" font-style=\"italic\" lengthAdjust=\"spacing\" textLength=\"40\" x=\"294\" y=\"195.1387\">«port»</text><text fill=\"#000000\" font-family=\"sans-serif\" font-size=\"14\" lengthAdjust=\"spacing\" textLength=\"27\" x=\"296.5\" y=\"210.9639\">po1</text><line style=\"stroke:#181818;stroke-width:0.5;\" x1=\"294\" x2=\"334\" y1=\"219.2656\" y2=\"219.2656\"/></g></a><!--MD5=[2156ba9850f5573cc1fc38a6a4b2f02b]\n",
       "class E7--><a href=\"psysml:8277226e-c173-411e-8d8e-d31bb811c94b\" target=\"_top\" title=\"psysml:8277226e-c173-411e-8d8e-d31bb811c94b\" xlink:actuate=\"onRequest\" xlink:href=\"psysml:8277226e-c173-411e-8d8e-d31bb811c94b\" xlink:show=\"new\" xlink:title=\"psysml:8277226e-c173-411e-8d8e-d31bb811c94b\" xlink:type=\"simple\"><g id=\"elem_E7\"><rect fill=\"#FFFFFF\" height=\"75.0813\" id=\"E7\" rx=\"10\" ry=\"10\" style=\"stroke:#181818;stroke-width:0.5;\" width=\"59\" x=\"96\" y=\"207.5\"/><text fill=\"#000000\" font-family=\"sans-serif\" font-size=\"12\" font-style=\"italic\" lengthAdjust=\"spacing\" textLength=\"40\" x=\"105.5\" y=\"223.6387\">«part»</text><text fill=\"#000000\" font-family=\"sans-serif\" font-size=\"14\" lengthAdjust=\"spacing\" textLength=\"45\" x=\"99\" y=\"239.4639\">p2: P1</text><line style=\"stroke:#181818;stroke-width:0.5;\" x1=\"97\" x2=\"154\" y1=\"247.7656\" y2=\"247.7656\"/><text fill=\"#000000\" font-family=\"sans-serif\" font-size=\"14\" lengthAdjust=\"spacing\" textLength=\"40\" x=\"102\" y=\"275.2795\">pdest</text><text fill=\"#000000\" font-family=\"sans-serif\" font-size=\"14\" font-style=\"italic\" lengthAdjust=\"spacing\" textLength=\"36\" x=\"107.5\" y=\"260.1123\">ports</text></g></a><!--MD5=[b9389687b975829384b498ac4b7476b2]\n",
       "class E8--><a href=\"psysml:88f12717-b335-4bfa-a952-2b65a00cb7af\" target=\"_top\" title=\"psysml:88f12717-b335-4bfa-a952-2b65a00cb7af\" xlink:actuate=\"onRequest\" xlink:href=\"psysml:88f12717-b335-4bfa-a952-2b65a00cb7af\" xlink:show=\"new\" xlink:title=\"psysml:88f12717-b335-4bfa-a952-2b65a00cb7af\" xlink:type=\"simple\"><g id=\"elem_E8\"><rect fill=\"#FFFFFF\" height=\"48.2656\" id=\"E8\" rx=\"10\" ry=\"10\" style=\"stroke:#181818;stroke-width:0.5;\" width=\"54\" x=\"411\" y=\"179\"/><text fill=\"#000000\" font-family=\"sans-serif\" font-size=\"12\" font-style=\"italic\" lengthAdjust=\"spacing\" textLength=\"40\" x=\"418\" y=\"195.1387\">«port»</text><text fill=\"#000000\" font-family=\"sans-serif\" font-size=\"14\" lengthAdjust=\"spacing\" textLength=\"40\" x=\"414\" y=\"210.9639\">pdest</text><line style=\"stroke:#181818;stroke-width:0.5;\" x1=\"412\" x2=\"464\" y1=\"219.2656\" y2=\"219.2656\"/></g></a><!--MD5=[4672eba38e49728da53d11aeb285b987]\n",
       "reverse link E3 to E4--><g id=\"link_E3_E4\"><a href=\"psysml:9ff7bfb9-db47-4597-ac60-7f24b5e1b5c0\" target=\"_top\" title=\"psysml:9ff7bfb9-db47-4597-ac60-7f24b5e1b5c0\" xlink:actuate=\"onRequest\" xlink:href=\"psysml:9ff7bfb9-db47-4597-ac60-7f24b5e1b5c0\" xlink:show=\"new\" xlink:title=\"psysml:9ff7bfb9-db47-4597-ac60-7f24b5e1b5c0\" xlink:type=\"simple\"><path d=\"M362.59,108.73 C378.18,109.63 395.01,110.59 408.71,111.38 \" fill=\"none\" id=\"E3-backto-E4\" style=\"stroke:#181818;stroke-width:1.0;\"/><polygon fill=\"none\" points=\"349.31,107.97,355.0718,112.3061,361.2904,108.6553,355.5287,104.3192,349.31,107.97\" style=\"stroke:#181818;stroke-width:1.0;\"/></a></g><!--MD5=[e9be52314489bd878ff4c7144b63c9e1]\n",
       "link E5 to E3--><g id=\"link_E5_E3\"><a href=\"psysml:515868c5-6015-4da5-b3ff-32117e872914\" target=\"_top\" title=\"psysml:515868c5-6015-4da5-b3ff-32117e872914\" xlink:actuate=\"onRequest\" xlink:href=\"psysml:515868c5-6015-4da5-b3ff-32117e872914\" xlink:show=\"new\" xlink:title=\"psysml:515868c5-6015-4da5-b3ff-32117e872914\" xlink:type=\"simple\"><path d=\"M155.23,141.53 C182.82,135.32 225.18,125.78 259.06,118.15 \" fill=\"none\" id=\"E5-to-E3\" style=\"stroke:#181818;stroke-width:1.0;\"/><polygon fill=\"#FFFFFF\" points=\"278.85,113.69,261.8567,124.7004,258.7752,111.0437,278.85,113.69\" style=\"stroke:#181818;stroke-width:1.0;\"/><ellipse cx=\"255.8563\" cy=\"124.004\" fill=\"#181818\" rx=\"2\" ry=\"2\" style=\"stroke:#181818;stroke-width:1.0;\"/><ellipse cx=\"253.6552\" cy=\"114.2493\" fill=\"#181818\" rx=\"2\" ry=\"2\" style=\"stroke:#181818;stroke-width:1.0;\"/></a></g><!--MD5=[85d356282659285ab4b2cfe2f634dd2b]\n",
       "reverse link E5 to E6--><g id=\"link_E5_E6\"><a href=\"psysml:1a5e094c-b062-4a12-bd0e-4269385c32ea\" target=\"_top\" title=\"psysml:1a5e094c-b062-4a12-bd0e-4269385c32ea\" xlink:actuate=\"onRequest\" xlink:href=\"psysml:1a5e094c-b062-4a12-bd0e-4269385c32ea\" xlink:show=\"new\" xlink:title=\"psysml:1a5e094c-b062-4a12-bd0e-4269385c32ea\" xlink:type=\"simple\"><path d=\"M167.91,160.21 C206.72,171.66 263.1,188.28 292.86,197.06 \" fill=\"none\" id=\"E5-backto-E6\" style=\"stroke:#181818;stroke-width:1.0;\"/><polygon fill=\"none\" points=\"155.23,156.47,159.8486,162.0079,166.7369,159.8746,162.1183,154.3366,155.23,156.47\" style=\"stroke:#181818;stroke-width:1.0;\"/></a></g><!--MD5=[f667431f98296947986a1a7595a31603]\n",
       "link E6 to E4--><g id=\"link_E6_E4\"><a href=\"psysml:70307247-8a04-4365-8b78-a7ff4bcf8dda\" target=\"_top\" title=\"psysml:70307247-8a04-4365-8b78-a7ff4bcf8dda\" xlink:actuate=\"onRequest\" xlink:href=\"psysml:70307247-8a04-4365-8b78-a7ff4bcf8dda\" xlink:show=\"new\" xlink:title=\"psysml:70307247-8a04-4365-8b78-a7ff4bcf8dda\" xlink:type=\"simple\"><path d=\"M335.15,188.14 C350.64,176.71 372.64,160.48 392.23,146.02 \" fill=\"none\" id=\"E6-to-E4\" style=\"stroke:#181818;stroke-width:1.0;\"/><polygon fill=\"#FFFFFF\" points=\"408.61,133.94,397.472,150.8499,389.1634,139.5819,408.61,133.94\" style=\"stroke:#181818;stroke-width:1.0;\"/><line style=\"stroke:#181818;stroke-width:2.0;\" x1=\"394.4135\" x2=\"386.105\" y1=\"153.1051\" y2=\"141.837\"/></a></g><!--MD5=[14ccda38c055a5c0da953d572bc50960]\n",
       "link E7 to E3--><g id=\"link_E7_E3\"><a href=\"psysml:e2fe589c-f14e-47a5-aaf0-9a8ebd450a7c\" target=\"_top\" title=\"psysml:e2fe589c-f14e-47a5-aaf0-9a8ebd450a7c\" xlink:actuate=\"onRequest\" xlink:href=\"psysml:e2fe589c-f14e-47a5-aaf0-9a8ebd450a7c\" xlink:show=\"new\" xlink:title=\"psysml:e2fe589c-f14e-47a5-aaf0-9a8ebd450a7c\" xlink:type=\"simple\"><path d=\"M155.27,229.35 C173.97,218.76 198.58,204.01 219,189 C234.17,177.85 249.81,164.77 263.88,152.32 \" fill=\"none\" id=\"E7-to-E3\" style=\"stroke:#181818;stroke-width:1.0;\"/><polygon fill=\"#FFFFFF\" points=\"278.99,138.69,269.5778,156.6179,260.1962,146.2262,278.99,138.69\" style=\"stroke:#181818;stroke-width:1.0;\"/><ellipse cx=\"264.0066\" cy=\"158.953\" fill=\"#181818\" rx=\"2\" ry=\"2\" style=\"stroke:#181818;stroke-width:1.0;\"/><ellipse cx=\"257.3056\" cy=\"151.5304\" fill=\"#181818\" rx=\"2\" ry=\"2\" style=\"stroke:#181818;stroke-width:1.0;\"/></a></g><!--MD5=[dc164f5e8a733ab456ef1add180e9e34]\n",
       "reverse link E7 to E8--><g id=\"link_E7_E8\"><a href=\"psysml:ca64ac56-097c-4feb-943f-895d8fc6b637\" target=\"_top\" title=\"psysml:ca64ac56-097c-4feb-943f-895d8fc6b637\" xlink:actuate=\"onRequest\" xlink:href=\"psysml:ca64ac56-097c-4feb-943f-895d8fc6b637\" xlink:show=\"new\" xlink:title=\"psysml:ca64ac56-097c-4feb-943f-895d8fc6b637\" xlink:type=\"simple\"><path d=\"M168.08,250.07 C213.22,254.36 287.17,257.84 349,244 C370.88,239.1 393.77,228.23 410.73,218.91 \" fill=\"none\" id=\"E7-backto-E8\" style=\"stroke:#181818;stroke-width:1.0;\"/><polygon fill=\"none\" points=\"155.03,248.73,160.5897,253.3224,166.9671,249.9567,161.4075,245.3643,155.03,248.73\" style=\"stroke:#181818;stroke-width:1.0;\"/></a></g><!--MD5=[0a839d0f80c2d72d4b9b307f046d0de8]\n",
       "link E6 to E8--><g id=\"link_E6_E8\"><a href=\"psysml:f1f85c24-6beb-4ed4-abfc-161aeb53ad8b\" target=\"_top\" title=\"psysml:f1f85c24-6beb-4ed4-abfc-161aeb53ad8b\" xlink:actuate=\"onRequest\" xlink:href=\"psysml:f1f85c24-6beb-4ed4-abfc-161aeb53ad8b\" xlink:show=\"new\" xlink:title=\"psysml:f1f85c24-6beb-4ed4-abfc-161aeb53ad8b\" xlink:type=\"simple\"><path d=\"M335.15,212.76 C355.86,216.41 388.19,216.72 410.86,213.68 \" fill=\"none\" id=\"E6-E8\" style=\"stroke:#181818;stroke-width:3.0;\"/></a></g><!--MD5=[0a839d0f80c2d72d4b9b307f046d0de8]\n",
       "link E6 to E8--><g id=\"link_E6_E8\"><a href=\"psysml:92c8a956-0030-45f2-8c30-896629fb0abd\" target=\"_top\" title=\"psysml:92c8a956-0030-45f2-8c30-896629fb0abd\" xlink:actuate=\"onRequest\" xlink:href=\"psysml:92c8a956-0030-45f2-8c30-896629fb0abd\" xlink:show=\"new\" xlink:title=\"psysml:92c8a956-0030-45f2-8c30-896629fb0abd\" xlink:type=\"simple\"><path d=\"M335.15,192.67 C355.86,188.8 388.19,188.47 410.86,191.69 \" fill=\"none\" id=\"E6-E8-1\" style=\"stroke:#181818;stroke-width:3.0;\"/></a></g><!--MD5=[fd99690fa6de7fa3115ddbe01eff9498]\n",
       "@startuml\r\n",
       "skin sysmlbw\r\n",
       "skinparam monochrome true\r\n",
       "skinparam wrapWidth 300\r\n",
       "hide circle\r\n",
       "left to right direction\r\n",
       "\r\n",
       "package \"AliasTest\" as E1  [[psysml:a1c2986a-a425-4687-93ae-51674f2ada97 ]]  {\r\n",
       "comp usage \"b :>ISQSpaceTime::width \" as E2  <<(T,blue) attribute>> [[psysml:f27707b2-90f2-4671-96dd-49a3cebd999e ]] {\r\n",
       "}\r\n",
       "comp def \"P1\" as E3  <<(T,blue) part  def>> [[psysml:d64d4abf-692a-4b0a-b1a7-ca6bfa2152dc ]] {\r\n",
       "##//ports//##\r\n",
       "porig1\r\n",
       "}\r\n",
       "comp usage \"porig1  \" as E4  <<(T,blue) port>> [[psysml:61764694-1d1c-48ba-adaa-4bba53d3d30f ]] {\r\n",
       "}\r\n",
       "comp usage \"p1: P1  \" as E5  <<(T,blue) part>> [[psysml:e8b71076-5181-45d8-952d-6c6c3b8ab27b ]] {\r\n",
       "}\r\n",
       "comp usage \"po1  \" as E6  <<(T,blue) port>> [[psysml:d614f44e-5180-4509-9cc1-1632afa7b11f ]] {\r\n",
       "}\r\n",
       "comp usage \"p2: P1  \" as E7  <<(T,blue) part>> [[psysml:8277226e-c173-411e-8d8e-d31bb811c94b ]] {\r\n",
       "##//ports//##\r\n",
       "pdest\r\n",
       "}\r\n",
       "comp usage \"pdest  \" as E8  <<(T,blue) port>> [[psysml:88f12717-b335-4bfa-a952-2b65a00cb7af ]] {\r\n",
       "}\r\n",
       "}\r\n",
       "E3 o- - E4 [[psysml:9ff7bfb9-db47-4597-ac60-7f24b5e1b5c0 ]] \r\n",
       "E5 - -:|> E3 [[psysml:515868c5-6015-4da5-b3ff-32117e872914 ]] \r\n",
       "E5 o- - E6 [[psysml:1a5e094c-b062-4a12-bd0e-4269385c32ea ]] \r\n",
       "E6 - -||> E4 [[psysml:70307247-8a04-4365-8b78-a7ff4bcf8dda ]] \r\n",
       "E7 - -:|> E3 [[psysml:e2fe589c-f14e-47a5-aaf0-9a8ebd450a7c ]] \r\n",
       "E7 o- - E8 [[psysml:ca64ac56-097c-4feb-943f-895d8fc6b637 ]] \r\n",
       "E6 -[thickness=3]- E8 [[psysml:f1f85c24-6beb-4ed4-abfc-161aeb53ad8b ]] \r\n",
       "E6 -[thickness=3]- E8 [[psysml:92c8a956-0030-45f2-8c30-896629fb0abd ]] \r\n",
       "@enduml\r\n",
       "\n",
       "PlantUML version 1.2022.7(Mon Aug 22 17:01:30 UTC 2022)\n",
       "(EPL source distribution)\n",
       "Java Runtime: OpenJDK Runtime Environment\n",
       "JVM: OpenJDK 64-Bit Server VM\n",
       "Default Encoding: UTF-8\n",
       "Language: en\n",
       "Country: null\n",
       "--></g></svg>"
      ]
     },
     "execution_count": 22,
     "metadata": {},
     "output_type": "execute_result"
    }
   ],
   "source": [
    "%viz --style=\"LR\" --view=\"MIXED\" \"AliasTest\""
   ]
  },
  {
   "cell_type": "code",
   "execution_count": 23,
   "id": "43bdcafd",
   "metadata": {
    "execution": {
     "iopub.execute_input": "2024-12-16T03:25:12.759378Z",
     "iopub.status.busy": "2024-12-16T03:25:12.759176Z",
     "iopub.status.idle": "2024-12-16T03:25:12.786147Z",
     "shell.execute_reply": "2024-12-16T03:25:12.785309Z"
    }
   },
   "outputs": [
    {
     "data": {
      "image/svg+xml": [
       "<?xml version=\"1.0\" encoding=\"UTF-8\" standalone=\"no\"?><svg xmlns=\"http://www.w3.org/2000/svg\" xmlns:xlink=\"http://www.w3.org/1999/xlink\" contentStyleType=\"text/css\" height=\"382px\" preserveAspectRatio=\"none\" style=\"width:440px;height:382px;background:#FFFFFF;\" version=\"1.1\" viewBox=\"0 0 440 382\" width=\"440px\" zoomAndPan=\"magnify\"><defs><filter height=\"300%\" id=\"fyyfw4jhubvj3\" width=\"300%\" x=\"-1\" y=\"-1\"><feGaussianBlur result=\"blurOut\" stdDeviation=\"2.0\"/><feColorMatrix in=\"blurOut\" result=\"blurOut2\" type=\"matrix\" values=\"0 0 0 0 0 0 0 0 0 0 0 0 0 0 0 0 0 0 .4 0\"/><feOffset dx=\"4.0\" dy=\"4.0\" in=\"blurOut2\" result=\"blurOut3\"/><feBlend in=\"SourceGraphic\" in2=\"blurOut3\" mode=\"normal\"/></filter></defs><g><!--MD5=[fbc87193dbaf4d95561dea2c320d4a47]\n",
       "cluster E1--><g id=\"cluster_E1\"><a href=\"psysml:a1c2986a-a425-4687-93ae-51674f2ada97\" target=\"_top\" title=\"psysml:a1c2986a-a425-4687-93ae-51674f2ada97\" xlink:actuate=\"onRequest\" xlink:href=\"psysml:a1c2986a-a425-4687-93ae-51674f2ada97\" xlink:show=\"new\" xlink:title=\"psysml:a1c2986a-a425-4687-93ae-51674f2ada97\" xlink:type=\"simple\"><polygon fill=\"none\" filter=\"url(#fyyfw4jhubvj3)\" points=\"16,6,87.9375,6,94.9375,28.2969,423,28.2969,423,375,16,375,16,6\" style=\"stroke:#000000;stroke-width:1.5;\"/><line style=\"stroke:#000000;stroke-width:1.5;\" x1=\"16\" x2=\"94.9375\" y1=\"28.2969\" y2=\"28.2969\"/><text fill=\"#000000\" font-family=\"sans-serif\" font-size=\"14\" font-weight=\"bold\" lengthAdjust=\"spacing\" textLength=\"65.9375\" x=\"20\" y=\"20.9951\">AliasTest</text></a></g><!--MD5=[b4997ac47864f28c2f74865a473b2911]\n",
       "class E2--><a href=\"psysml:f27707b2-90f2-4671-96dd-49a3cebd999e\" target=\"_top\" title=\"psysml:f27707b2-90f2-4671-96dd-49a3cebd999e\" xlink:actuate=\"onRequest\" xlink:href=\"psysml:f27707b2-90f2-4671-96dd-49a3cebd999e\" xlink:show=\"new\" xlink:title=\"psysml:f27707b2-90f2-4671-96dd-49a3cebd999e\" xlink:type=\"simple\"><g id=\"elem_E2\"><rect fill=\"#FFFACD\" filter=\"url(#fyyfw4jhubvj3)\" height=\"48.2656\" id=\"E2\" rx=\"10\" ry=\"10\" style=\"stroke:#181818;stroke-width:0.5;\" width=\"187\" x=\"220.5\" y=\"54.5\"/><text fill=\"#000000\" font-family=\"sans-serif\" font-size=\"12\" font-style=\"italic\" lengthAdjust=\"spacing\" textLength=\"69\" x=\"279.5\" y=\"70.6387\">«attribute»</text><text fill=\"#000000\" font-family=\"sans-serif\" font-size=\"14\" lengthAdjust=\"spacing\" textLength=\"177\" x=\"223.5\" y=\"86.4639\">b :&gt;ISQSpaceTime::width</text><line style=\"stroke:#181818;stroke-width:0.5;\" x1=\"221.5\" x2=\"406.5\" y1=\"94.7656\" y2=\"94.7656\"/></g></a><!--MD5=[09b614a08d8cba4a07c9adeb5e0fee81]\n",
       "class E3--><a href=\"psysml:d64d4abf-692a-4b0a-b1a7-ca6bfa2152dc\" target=\"_top\" title=\"psysml:d64d4abf-692a-4b0a-b1a7-ca6bfa2152dc\" xlink:actuate=\"onRequest\" xlink:href=\"psysml:d64d4abf-692a-4b0a-b1a7-ca6bfa2152dc\" xlink:show=\"new\" xlink:title=\"psysml:d64d4abf-692a-4b0a-b1a7-ca6bfa2152dc\" xlink:type=\"simple\"><g id=\"elem_E3\"><rect fill=\"#FFFACD\" filter=\"url(#fyyfw4jhubvj3)\" height=\"75.0813\" id=\"E3\" style=\"stroke:#181818;stroke-width:0.5;\" width=\"70\" x=\"160\" y=\"176\"/><text fill=\"#000000\" font-family=\"sans-serif\" font-size=\"12\" font-style=\"italic\" lengthAdjust=\"spacing\" textLength=\"68\" x=\"161\" y=\"192.1387\">«part  def»</text><text fill=\"#000000\" font-family=\"sans-serif\" font-size=\"14\" lengthAdjust=\"spacing\" textLength=\"18\" x=\"186\" y=\"207.9639\">P1</text><line style=\"stroke:#181818;stroke-width:0.5;\" x1=\"161\" x2=\"229\" y1=\"216.2656\" y2=\"216.2656\"/><text fill=\"#000000\" font-family=\"sans-serif\" font-size=\"14\" lengthAdjust=\"spacing\" textLength=\"44\" x=\"166\" y=\"243.7795\">porig1</text><text fill=\"#000000\" font-family=\"sans-serif\" font-size=\"14\" font-style=\"italic\" lengthAdjust=\"spacing\" textLength=\"36\" x=\"177\" y=\"228.6123\">ports</text></g></a><!--MD5=[ebbe1d658d1005bcc118a6aa81145e00]\n",
       "class E4--><a href=\"psysml:61764694-1d1c-48ba-adaa-4bba53d3d30f\" target=\"_top\" title=\"psysml:61764694-1d1c-48ba-adaa-4bba53d3d30f\" xlink:actuate=\"onRequest\" xlink:href=\"psysml:61764694-1d1c-48ba-adaa-4bba53d3d30f\" xlink:show=\"new\" xlink:title=\"psysml:61764694-1d1c-48ba-adaa-4bba53d3d30f\" xlink:type=\"simple\"><g id=\"elem_E4\"><rect fill=\"#FFFACD\" filter=\"url(#fyyfw4jhubvj3)\" height=\"48.2656\" id=\"E4\" rx=\"10\" ry=\"10\" style=\"stroke:#181818;stroke-width:0.5;\" width=\"58\" x=\"166\" y=\"311\"/><text fill=\"#000000\" font-family=\"sans-serif\" font-size=\"12\" font-style=\"italic\" lengthAdjust=\"spacing\" textLength=\"40\" x=\"175\" y=\"327.1387\">«port»</text><text fill=\"#000000\" font-family=\"sans-serif\" font-size=\"14\" lengthAdjust=\"spacing\" textLength=\"44\" x=\"169\" y=\"342.9639\">porig1</text><line style=\"stroke:#181818;stroke-width:0.5;\" x1=\"167\" x2=\"223\" y1=\"351.2656\" y2=\"351.2656\"/></g></a><!--MD5=[270fce915f116d4de14055a7c1d9a0f3]\n",
       "class E5--><a href=\"psysml:e8b71076-5181-45d8-952d-6c6c3b8ab27b\" target=\"_top\" title=\"psysml:e8b71076-5181-45d8-952d-6c6c3b8ab27b\" xlink:actuate=\"onRequest\" xlink:href=\"psysml:e8b71076-5181-45d8-952d-6c6c3b8ab27b\" xlink:show=\"new\" xlink:title=\"psysml:e8b71076-5181-45d8-952d-6c6c3b8ab27b\" xlink:type=\"simple\"><g id=\"elem_E5\"><rect fill=\"#FFFACD\" filter=\"url(#fyyfw4jhubvj3)\" height=\"48.2656\" id=\"E5\" rx=\"10\" ry=\"10\" style=\"stroke:#181818;stroke-width:0.5;\" width=\"59\" x=\"126.5\" y=\"54.5\"/><text fill=\"#000000\" font-family=\"sans-serif\" font-size=\"12\" font-style=\"italic\" lengthAdjust=\"spacing\" textLength=\"40\" x=\"136\" y=\"70.6387\">«part»</text><text fill=\"#000000\" font-family=\"sans-serif\" font-size=\"14\" lengthAdjust=\"spacing\" textLength=\"45\" x=\"129.5\" y=\"86.4639\">p1: P1</text><line style=\"stroke:#181818;stroke-width:0.5;\" x1=\"127.5\" x2=\"184.5\" y1=\"94.7656\" y2=\"94.7656\"/></g></a><!--MD5=[60a26617385b1d2d0262a64233df1f8d]\n",
       "class E6--><a href=\"psysml:d614f44e-5180-4509-9cc1-1632afa7b11f\" target=\"_top\" title=\"psysml:d614f44e-5180-4509-9cc1-1632afa7b11f\" xlink:actuate=\"onRequest\" xlink:href=\"psysml:d614f44e-5180-4509-9cc1-1632afa7b11f\" xlink:show=\"new\" xlink:title=\"psysml:d614f44e-5180-4509-9cc1-1632afa7b11f\" xlink:type=\"simple\"><g id=\"elem_E6\"><rect fill=\"#FFFACD\" filter=\"url(#fyyfw4jhubvj3)\" height=\"48.2656\" id=\"E6\" rx=\"10\" ry=\"10\" style=\"stroke:#181818;stroke-width:0.5;\" width=\"42\" x=\"83\" y=\"189.5\"/><text fill=\"#000000\" font-family=\"sans-serif\" font-size=\"12\" font-style=\"italic\" lengthAdjust=\"spacing\" textLength=\"40\" x=\"84\" y=\"205.6387\">«port»</text><text fill=\"#000000\" font-family=\"sans-serif\" font-size=\"14\" lengthAdjust=\"spacing\" textLength=\"27\" x=\"86.5\" y=\"221.4639\">po1</text><line style=\"stroke:#181818;stroke-width:0.5;\" x1=\"84\" x2=\"124\" y1=\"229.7656\" y2=\"229.7656\"/></g></a><!--MD5=[2156ba9850f5573cc1fc38a6a4b2f02b]\n",
       "class E7--><a href=\"psysml:8277226e-c173-411e-8d8e-d31bb811c94b\" target=\"_top\" title=\"psysml:8277226e-c173-411e-8d8e-d31bb811c94b\" xlink:actuate=\"onRequest\" xlink:href=\"psysml:8277226e-c173-411e-8d8e-d31bb811c94b\" xlink:show=\"new\" xlink:title=\"psysml:8277226e-c173-411e-8d8e-d31bb811c94b\" xlink:type=\"simple\"><g id=\"elem_E7\"><rect fill=\"#FFFACD\" filter=\"url(#fyyfw4jhubvj3)\" height=\"75.0813\" id=\"E7\" rx=\"10\" ry=\"10\" style=\"stroke:#181818;stroke-width:0.5;\" width=\"59\" x=\"32.5\" y=\"41\"/><text fill=\"#000000\" font-family=\"sans-serif\" font-size=\"12\" font-style=\"italic\" lengthAdjust=\"spacing\" textLength=\"40\" x=\"42\" y=\"57.1387\">«part»</text><text fill=\"#000000\" font-family=\"sans-serif\" font-size=\"14\" lengthAdjust=\"spacing\" textLength=\"45\" x=\"35.5\" y=\"72.9639\">p2: P1</text><line style=\"stroke:#181818;stroke-width:0.5;\" x1=\"33.5\" x2=\"90.5\" y1=\"81.2656\" y2=\"81.2656\"/><text fill=\"#000000\" font-family=\"sans-serif\" font-size=\"14\" lengthAdjust=\"spacing\" textLength=\"40\" x=\"38.5\" y=\"108.7795\">pdest</text><text fill=\"#000000\" font-family=\"sans-serif\" font-size=\"14\" font-style=\"italic\" lengthAdjust=\"spacing\" textLength=\"36\" x=\"44\" y=\"93.6123\">ports</text></g></a><!--MD5=[b9389687b975829384b498ac4b7476b2]\n",
       "class E8--><a href=\"psysml:88f12717-b335-4bfa-a952-2b65a00cb7af\" target=\"_top\" title=\"psysml:88f12717-b335-4bfa-a952-2b65a00cb7af\" xlink:actuate=\"onRequest\" xlink:href=\"psysml:88f12717-b335-4bfa-a952-2b65a00cb7af\" xlink:show=\"new\" xlink:title=\"psysml:88f12717-b335-4bfa-a952-2b65a00cb7af\" xlink:type=\"simple\"><g id=\"elem_E8\"><rect fill=\"#FFFACD\" filter=\"url(#fyyfw4jhubvj3)\" height=\"48.2656\" id=\"E8\" rx=\"10\" ry=\"10\" style=\"stroke:#181818;stroke-width:0.5;\" width=\"54\" x=\"77\" y=\"311\"/><text fill=\"#000000\" font-family=\"sans-serif\" font-size=\"12\" font-style=\"italic\" lengthAdjust=\"spacing\" textLength=\"40\" x=\"84\" y=\"327.1387\">«port»</text><text fill=\"#000000\" font-family=\"sans-serif\" font-size=\"14\" lengthAdjust=\"spacing\" textLength=\"40\" x=\"80\" y=\"342.9639\">pdest</text><line style=\"stroke:#181818;stroke-width:0.5;\" x1=\"78\" x2=\"130\" y1=\"351.2656\" y2=\"351.2656\"/></g></a><!--MD5=[4672eba38e49728da53d11aeb285b987]\n",
       "reverse link E3 to E4--><g id=\"link_E3_E4\"><a href=\"psysml:9ff7bfb9-db47-4597-ac60-7f24b5e1b5c0\" target=\"_top\" title=\"psysml:9ff7bfb9-db47-4597-ac60-7f24b5e1b5c0\" xlink:actuate=\"onRequest\" xlink:href=\"psysml:9ff7bfb9-db47-4597-ac60-7f24b5e1b5c0\" xlink:show=\"new\" xlink:title=\"psysml:9ff7bfb9-db47-4597-ac60-7f24b5e1b5c0\" xlink:type=\"simple\"><path d=\"M195,264.25 C195,280.43 195,297.61 195,310.88 \" fill=\"none\" id=\"E3-backto-E4\" style=\"stroke:#181818;stroke-width:1.0;\"/><polygon fill=\"none\" points=\"195,251,191,257,195,263,199,257,195,251\" style=\"stroke:#181818;stroke-width:1.0;\"/></a></g><!--MD5=[e9be52314489bd878ff4c7144b63c9e1]\n",
       "link E5 to E3--><g id=\"link_E5_E3\"><a href=\"psysml:515868c5-6015-4da5-b3ff-32117e872914\" target=\"_top\" title=\"psysml:515868c5-6015-4da5-b3ff-32117e872914\" xlink:actuate=\"onRequest\" xlink:href=\"psysml:515868c5-6015-4da5-b3ff-32117e872914\" xlink:show=\"new\" xlink:title=\"psysml:515868c5-6015-4da5-b3ff-32117e872914\" xlink:type=\"simple\"><path d=\"M162.79,102.67 C167.16,117.56 173.03,137.58 178.57,156.45 \" fill=\"none\" id=\"E5-to-E3\" style=\"stroke:#181818;stroke-width:1.0;\"/><polygon fill=\"#FFFFFF\" points=\"184.24,175.81,172.1744,159.5489,185.6082,155.6078,184.24,175.81\" style=\"stroke:#181818;stroke-width:1.0;\"/><ellipse cx=\"172.4889\" cy=\"153.5164\" fill=\"#181818\" rx=\"2\" ry=\"2\" style=\"stroke:#181818;stroke-width:1.0;\"/><ellipse cx=\"182.0845\" cy=\"150.7014\" fill=\"#181818\" rx=\"2\" ry=\"2\" style=\"stroke:#181818;stroke-width:1.0;\"/></a></g><!--MD5=[85d356282659285ab4b2cfe2f634dd2b]\n",
       "reverse link E5 to E6--><g id=\"link_E5_E6\"><a href=\"psysml:1a5e094c-b062-4a12-bd0e-4269385c32ea\" target=\"_top\" title=\"psysml:1a5e094c-b062-4a12-bd0e-4269385c32ea\" xlink:actuate=\"onRequest\" xlink:href=\"psysml:1a5e094c-b062-4a12-bd0e-4269385c32ea\" xlink:show=\"new\" xlink:title=\"psysml:1a5e094c-b062-4a12-bd0e-4269385c32ea\" xlink:type=\"simple\"><path d=\"M142.15,114.93 C132.96,138.44 121.15,168.62 113.13,189.15 \" fill=\"none\" id=\"E5-backto-E6\" style=\"stroke:#181818;stroke-width:1.0;\"/><polygon fill=\"none\" points=\"146.94,102.67,141.0321,106.8049,142.5767,113.8486,148.4845,109.7138,146.94,102.67\" style=\"stroke:#181818;stroke-width:1.0;\"/></a></g><!--MD5=[f667431f98296947986a1a7595a31603]\n",
       "link E6 to E4--><g id=\"link_E6_E4\"><a href=\"psysml:70307247-8a04-4365-8b78-a7ff4bcf8dda\" target=\"_top\" title=\"psysml:70307247-8a04-4365-8b78-a7ff4bcf8dda\" xlink:actuate=\"onRequest\" xlink:href=\"psysml:70307247-8a04-4365-8b78-a7ff4bcf8dda\" xlink:show=\"new\" xlink:title=\"psysml:70307247-8a04-4365-8b78-a7ff4bcf8dda\" xlink:type=\"simple\"><path d=\"M121.55,237.54 C133.87,253.72 150.65,275.76 165.07,294.69 \" fill=\"none\" id=\"E6-to-E4\" style=\"stroke:#181818;stroke-width:1.0;\"/><polygon fill=\"#FFFFFF\" points=\"177.2,310.62,160.1219,299.7417,171.2616,291.2619,177.2,310.62\" style=\"stroke:#181818;stroke-width:1.0;\"/><line style=\"stroke:#181818;stroke-width:2.0;\" x1=\"157.8202\" x2=\"168.9599\" y1=\"296.7181\" y2=\"288.2383\"/></a></g><!--MD5=[14ccda38c055a5c0da953d572bc50960]\n",
       "link E7 to E3--><g id=\"link_E7_E3\"><a href=\"psysml:e2fe589c-f14e-47a5-aaf0-9a8ebd450a7c\" target=\"_top\" title=\"psysml:e2fe589c-f14e-47a5-aaf0-9a8ebd450a7c\" xlink:actuate=\"onRequest\" xlink:href=\"psysml:e2fe589c-f14e-47a5-aaf0-9a8ebd450a7c\" xlink:show=\"new\" xlink:title=\"psysml:e2fe589c-f14e-47a5-aaf0-9a8ebd450a7c\" xlink:type=\"simple\"><path d=\"M91.52,109.02 C107.38,124.88 127.36,144.86 145.52,163.02 \" fill=\"none\" id=\"E7-to-E3\" style=\"stroke:#181818;stroke-width:1.0;\"/><polygon fill=\"#FFFFFF\" points=\"159.9,177.4,141.5152,168.9147,151.4147,159.0152,159.9,177.4\" style=\"stroke:#181818;stroke-width:1.0;\"/><ellipse cx=\"138.8989\" cy=\"163.47\" fill=\"#181818\" rx=\"2\" ry=\"2\" style=\"stroke:#181818;stroke-width:1.0;\"/><ellipse cx=\"145.97\" cy=\"156.3989\" fill=\"#181818\" rx=\"2\" ry=\"2\" style=\"stroke:#181818;stroke-width:1.0;\"/></a></g><!--MD5=[dc164f5e8a733ab456ef1add180e9e34]\n",
       "reverse link E7 to E8--><g id=\"link_E7_E8\"><a href=\"psysml:ca64ac56-097c-4feb-943f-895d8fc6b637\" target=\"_top\" title=\"psysml:ca64ac56-097c-4feb-943f-895d8fc6b637\" xlink:actuate=\"onRequest\" xlink:href=\"psysml:ca64ac56-097c-4feb-943f-895d8fc6b637\" xlink:show=\"new\" xlink:title=\"psysml:ca64ac56-097c-4feb-943f-895d8fc6b637\" xlink:type=\"simple\"><path d=\"M57.91,129.24 C56.33,163.83 56.74,210.77 66,251 C70.91,272.31 81.57,294.77 90.35,310.94 \" fill=\"none\" id=\"E7-backto-E8\" style=\"stroke:#181818;stroke-width:1.0;\"/><polygon fill=\"none\" points=\"58.62,116.16,54.3028,121.936,57.9741,128.1426,62.2912,122.3666,58.62,116.16\" style=\"stroke:#181818;stroke-width:1.0;\"/></a></g><!--MD5=[0a839d0f80c2d72d4b9b307f046d0de8]\n",
       "link E6 to E8--><g id=\"link_E6_E8\"><a href=\"psysml:f1f85c24-6beb-4ed4-abfc-161aeb53ad8b\" target=\"_top\" title=\"psysml:f1f85c24-6beb-4ed4-abfc-161aeb53ad8b\" xlink:actuate=\"onRequest\" xlink:href=\"psysml:f1f85c24-6beb-4ed4-abfc-161aeb53ad8b\" xlink:show=\"new\" xlink:title=\"psysml:f1f85c24-6beb-4ed4-abfc-161aeb53ad8b\" xlink:type=\"simple\"><path d=\"M93.69,237.54 C90.45,258.57 90.44,289.49 93.64,310.62 \" fill=\"none\" id=\"E6-E8\" style=\"stroke:#181818;stroke-width:3.0;\"/></a></g><!--MD5=[0a839d0f80c2d72d4b9b307f046d0de8]\n",
       "link E6 to E8--><g id=\"link_E6_E8\"><a href=\"psysml:92c8a956-0030-45f2-8c30-896629fb0abd\" target=\"_top\" title=\"psysml:92c8a956-0030-45f2-8c30-896629fb0abd\" xlink:actuate=\"onRequest\" xlink:href=\"psysml:92c8a956-0030-45f2-8c30-896629fb0abd\" xlink:show=\"new\" xlink:title=\"psysml:92c8a956-0030-45f2-8c30-896629fb0abd\" xlink:type=\"simple\"><path d=\"M114.92,237.54 C118.34,258.57 118.36,289.49 114.97,310.62 \" fill=\"none\" id=\"E6-E8-1\" style=\"stroke:#181818;stroke-width:3.0;\"/></a></g><!--MD5=[a249e82692fa516ba279168c610ba9bc]\n",
       "@startuml\r\n",
       "skin sysmlc\r\n",
       "skinparam wrapWidth 300\r\n",
       "hide circle\r\n",
       "\r\n",
       "package \"AliasTest\" as E1  [[psysml:a1c2986a-a425-4687-93ae-51674f2ada97 ]]  {\r\n",
       "comp usage \"b :>ISQSpaceTime::width \" as E2  <<(T,blue) attribute>> [[psysml:f27707b2-90f2-4671-96dd-49a3cebd999e ]] {\r\n",
       "}\r\n",
       "comp def \"P1\" as E3  <<(T,blue) part  def>> [[psysml:d64d4abf-692a-4b0a-b1a7-ca6bfa2152dc ]] {\r\n",
       "##//ports//##\r\n",
       "porig1\r\n",
       "}\r\n",
       "comp usage \"porig1  \" as E4  <<(T,blue) port>> [[psysml:61764694-1d1c-48ba-adaa-4bba53d3d30f ]] {\r\n",
       "}\r\n",
       "comp usage \"p1: P1  \" as E5  <<(T,blue) part>> [[psysml:e8b71076-5181-45d8-952d-6c6c3b8ab27b ]] {\r\n",
       "}\r\n",
       "comp usage \"po1  \" as E6  <<(T,blue) port>> [[psysml:d614f44e-5180-4509-9cc1-1632afa7b11f ]] {\r\n",
       "}\r\n",
       "comp usage \"p2: P1  \" as E7  <<(T,blue) part>> [[psysml:8277226e-c173-411e-8d8e-d31bb811c94b ]] {\r\n",
       "##//ports//##\r\n",
       "pdest\r\n",
       "}\r\n",
       "comp usage \"pdest  \" as E8  <<(T,blue) port>> [[psysml:88f12717-b335-4bfa-a952-2b65a00cb7af ]] {\r\n",
       "}\r\n",
       "}\r\n",
       "E3 o- - E4 [[psysml:9ff7bfb9-db47-4597-ac60-7f24b5e1b5c0 ]] \r\n",
       "E5 - -:|> E3 [[psysml:515868c5-6015-4da5-b3ff-32117e872914 ]] \r\n",
       "E5 o- - E6 [[psysml:1a5e094c-b062-4a12-bd0e-4269385c32ea ]] \r\n",
       "E6 - -||> E4 [[psysml:70307247-8a04-4365-8b78-a7ff4bcf8dda ]] \r\n",
       "E7 - -:|> E3 [[psysml:e2fe589c-f14e-47a5-aaf0-9a8ebd450a7c ]] \r\n",
       "E7 o- - E8 [[psysml:ca64ac56-097c-4feb-943f-895d8fc6b637 ]] \r\n",
       "E6 -[thickness=3]- E8 [[psysml:f1f85c24-6beb-4ed4-abfc-161aeb53ad8b ]] \r\n",
       "E6 -[thickness=3]- E8 [[psysml:92c8a956-0030-45f2-8c30-896629fb0abd ]] \r\n",
       "@enduml\r\n",
       "\n",
       "PlantUML version 1.2022.7(Mon Aug 22 17:01:30 UTC 2022)\n",
       "(EPL source distribution)\n",
       "Java Runtime: OpenJDK Runtime Environment\n",
       "JVM: OpenJDK 64-Bit Server VM\n",
       "Default Encoding: UTF-8\n",
       "Language: en\n",
       "Country: null\n",
       "--></g></svg>"
      ]
     },
     "execution_count": 23,
     "metadata": {},
     "output_type": "execute_result"
    }
   ],
   "source": [
    "%viz --style=\"STDCOLOR\" --view=\"Default\" \"AliasTest\""
   ]
  },
  {
   "cell_type": "code",
   "execution_count": 24,
   "id": "9a869140",
   "metadata": {
    "execution": {
     "iopub.execute_input": "2024-12-16T03:25:12.842737Z",
     "iopub.status.busy": "2024-12-16T03:25:12.842507Z",
     "iopub.status.idle": "2024-12-16T03:25:12.867903Z",
     "shell.execute_reply": "2024-12-16T03:25:12.867052Z"
    }
   },
   "outputs": [
    {
     "data": {
      "image/svg+xml": [
       "<?xml version=\"1.0\" encoding=\"UTF-8\" standalone=\"no\"?><svg xmlns=\"http://www.w3.org/2000/svg\" xmlns:xlink=\"http://www.w3.org/1999/xlink\" contentStyleType=\"text/css\" height=\"382px\" preserveAspectRatio=\"none\" style=\"width:440px;height:382px;background:#FFFFFF;\" version=\"1.1\" viewBox=\"0 0 440 382\" width=\"440px\" zoomAndPan=\"magnify\"><defs><filter height=\"300%\" id=\"fyyfw4jhubvj3\" width=\"300%\" x=\"-1\" y=\"-1\"><feGaussianBlur result=\"blurOut\" stdDeviation=\"2.0\"/><feColorMatrix in=\"blurOut\" result=\"blurOut2\" type=\"matrix\" values=\"0 0 0 0 0 0 0 0 0 0 0 0 0 0 0 0 0 0 .4 0\"/><feOffset dx=\"4.0\" dy=\"4.0\" in=\"blurOut2\" result=\"blurOut3\"/><feBlend in=\"SourceGraphic\" in2=\"blurOut3\" mode=\"normal\"/></filter></defs><g><!--MD5=[fbc87193dbaf4d95561dea2c320d4a47]\n",
       "cluster E1--><g id=\"cluster_E1\"><a href=\"psysml:a1c2986a-a425-4687-93ae-51674f2ada97\" target=\"_top\" title=\"psysml:a1c2986a-a425-4687-93ae-51674f2ada97\" xlink:actuate=\"onRequest\" xlink:href=\"psysml:a1c2986a-a425-4687-93ae-51674f2ada97\" xlink:show=\"new\" xlink:title=\"psysml:a1c2986a-a425-4687-93ae-51674f2ada97\" xlink:type=\"simple\"><polygon fill=\"none\" filter=\"url(#fyyfw4jhubvj3)\" points=\"16,6,87.9375,6,94.9375,28.2969,423,28.2969,423,375,16,375,16,6\" style=\"stroke:#000000;stroke-width:1.5;\"/><line style=\"stroke:#000000;stroke-width:1.5;\" x1=\"16\" x2=\"94.9375\" y1=\"28.2969\" y2=\"28.2969\"/><text fill=\"#000000\" font-family=\"sans-serif\" font-size=\"14\" font-weight=\"bold\" lengthAdjust=\"spacing\" textLength=\"65.9375\" x=\"20\" y=\"20.9951\">AliasTest</text></a></g><!--MD5=[b4997ac47864f28c2f74865a473b2911]\n",
       "class E2--><a href=\"psysml:f27707b2-90f2-4671-96dd-49a3cebd999e\" target=\"_top\" title=\"psysml:f27707b2-90f2-4671-96dd-49a3cebd999e\" xlink:actuate=\"onRequest\" xlink:href=\"psysml:f27707b2-90f2-4671-96dd-49a3cebd999e\" xlink:show=\"new\" xlink:title=\"psysml:f27707b2-90f2-4671-96dd-49a3cebd999e\" xlink:type=\"simple\"><g id=\"elem_E2\"><rect fill=\"#FFFACD\" filter=\"url(#fyyfw4jhubvj3)\" height=\"48.2656\" id=\"E2\" rx=\"10\" ry=\"10\" style=\"stroke:#181818;stroke-width:0.5;\" width=\"187\" x=\"220.5\" y=\"54.5\"/><text fill=\"#000000\" font-family=\"sans-serif\" font-size=\"12\" font-style=\"italic\" lengthAdjust=\"spacing\" textLength=\"69\" x=\"279.5\" y=\"70.6387\">«attribute»</text><text fill=\"#000000\" font-family=\"sans-serif\" font-size=\"14\" lengthAdjust=\"spacing\" textLength=\"177\" x=\"223.5\" y=\"86.4639\">b :&gt;ISQSpaceTime::width</text><line style=\"stroke:#181818;stroke-width:0.5;\" x1=\"221.5\" x2=\"406.5\" y1=\"94.7656\" y2=\"94.7656\"/></g></a><!--MD5=[09b614a08d8cba4a07c9adeb5e0fee81]\n",
       "class E3--><a href=\"psysml:d64d4abf-692a-4b0a-b1a7-ca6bfa2152dc\" target=\"_top\" title=\"psysml:d64d4abf-692a-4b0a-b1a7-ca6bfa2152dc\" xlink:actuate=\"onRequest\" xlink:href=\"psysml:d64d4abf-692a-4b0a-b1a7-ca6bfa2152dc\" xlink:show=\"new\" xlink:title=\"psysml:d64d4abf-692a-4b0a-b1a7-ca6bfa2152dc\" xlink:type=\"simple\"><g id=\"elem_E3\"><rect fill=\"#FFFACD\" filter=\"url(#fyyfw4jhubvj3)\" height=\"75.0813\" id=\"E3\" style=\"stroke:#181818;stroke-width:0.5;\" width=\"70\" x=\"160\" y=\"176\"/><text fill=\"#000000\" font-family=\"sans-serif\" font-size=\"12\" font-style=\"italic\" lengthAdjust=\"spacing\" textLength=\"68\" x=\"161\" y=\"192.1387\">«part  def»</text><text fill=\"#000000\" font-family=\"sans-serif\" font-size=\"14\" lengthAdjust=\"spacing\" textLength=\"18\" x=\"186\" y=\"207.9639\">P1</text><line style=\"stroke:#181818;stroke-width:0.5;\" x1=\"161\" x2=\"229\" y1=\"216.2656\" y2=\"216.2656\"/><text fill=\"#000000\" font-family=\"sans-serif\" font-size=\"14\" lengthAdjust=\"spacing\" textLength=\"44\" x=\"166\" y=\"243.7795\">porig1</text><text fill=\"#000000\" font-family=\"sans-serif\" font-size=\"14\" font-style=\"italic\" lengthAdjust=\"spacing\" textLength=\"36\" x=\"177\" y=\"228.6123\">ports</text></g></a><!--MD5=[ebbe1d658d1005bcc118a6aa81145e00]\n",
       "class E4--><a href=\"psysml:61764694-1d1c-48ba-adaa-4bba53d3d30f\" target=\"_top\" title=\"psysml:61764694-1d1c-48ba-adaa-4bba53d3d30f\" xlink:actuate=\"onRequest\" xlink:href=\"psysml:61764694-1d1c-48ba-adaa-4bba53d3d30f\" xlink:show=\"new\" xlink:title=\"psysml:61764694-1d1c-48ba-adaa-4bba53d3d30f\" xlink:type=\"simple\"><g id=\"elem_E4\"><rect fill=\"#FFFACD\" filter=\"url(#fyyfw4jhubvj3)\" height=\"48.2656\" id=\"E4\" rx=\"10\" ry=\"10\" style=\"stroke:#181818;stroke-width:0.5;\" width=\"58\" x=\"166\" y=\"311\"/><text fill=\"#000000\" font-family=\"sans-serif\" font-size=\"12\" font-style=\"italic\" lengthAdjust=\"spacing\" textLength=\"40\" x=\"175\" y=\"327.1387\">«port»</text><text fill=\"#000000\" font-family=\"sans-serif\" font-size=\"14\" lengthAdjust=\"spacing\" textLength=\"44\" x=\"169\" y=\"342.9639\">porig1</text><line style=\"stroke:#181818;stroke-width:0.5;\" x1=\"167\" x2=\"223\" y1=\"351.2656\" y2=\"351.2656\"/></g></a><!--MD5=[270fce915f116d4de14055a7c1d9a0f3]\n",
       "class E5--><a href=\"psysml:e8b71076-5181-45d8-952d-6c6c3b8ab27b\" target=\"_top\" title=\"psysml:e8b71076-5181-45d8-952d-6c6c3b8ab27b\" xlink:actuate=\"onRequest\" xlink:href=\"psysml:e8b71076-5181-45d8-952d-6c6c3b8ab27b\" xlink:show=\"new\" xlink:title=\"psysml:e8b71076-5181-45d8-952d-6c6c3b8ab27b\" xlink:type=\"simple\"><g id=\"elem_E5\"><rect fill=\"#FFFACD\" filter=\"url(#fyyfw4jhubvj3)\" height=\"48.2656\" id=\"E5\" rx=\"10\" ry=\"10\" style=\"stroke:#181818;stroke-width:0.5;\" width=\"59\" x=\"126.5\" y=\"54.5\"/><text fill=\"#000000\" font-family=\"sans-serif\" font-size=\"12\" font-style=\"italic\" lengthAdjust=\"spacing\" textLength=\"40\" x=\"136\" y=\"70.6387\">«part»</text><text fill=\"#000000\" font-family=\"sans-serif\" font-size=\"14\" lengthAdjust=\"spacing\" textLength=\"45\" x=\"129.5\" y=\"86.4639\">p1: P1</text><line style=\"stroke:#181818;stroke-width:0.5;\" x1=\"127.5\" x2=\"184.5\" y1=\"94.7656\" y2=\"94.7656\"/></g></a><!--MD5=[60a26617385b1d2d0262a64233df1f8d]\n",
       "class E6--><a href=\"psysml:d614f44e-5180-4509-9cc1-1632afa7b11f\" target=\"_top\" title=\"psysml:d614f44e-5180-4509-9cc1-1632afa7b11f\" xlink:actuate=\"onRequest\" xlink:href=\"psysml:d614f44e-5180-4509-9cc1-1632afa7b11f\" xlink:show=\"new\" xlink:title=\"psysml:d614f44e-5180-4509-9cc1-1632afa7b11f\" xlink:type=\"simple\"><g id=\"elem_E6\"><rect fill=\"#FFFACD\" filter=\"url(#fyyfw4jhubvj3)\" height=\"48.2656\" id=\"E6\" rx=\"10\" ry=\"10\" style=\"stroke:#181818;stroke-width:0.5;\" width=\"42\" x=\"83\" y=\"189.5\"/><text fill=\"#000000\" font-family=\"sans-serif\" font-size=\"12\" font-style=\"italic\" lengthAdjust=\"spacing\" textLength=\"40\" x=\"84\" y=\"205.6387\">«port»</text><text fill=\"#000000\" font-family=\"sans-serif\" font-size=\"14\" lengthAdjust=\"spacing\" textLength=\"27\" x=\"86.5\" y=\"221.4639\">po1</text><line style=\"stroke:#181818;stroke-width:0.5;\" x1=\"84\" x2=\"124\" y1=\"229.7656\" y2=\"229.7656\"/></g></a><!--MD5=[2156ba9850f5573cc1fc38a6a4b2f02b]\n",
       "class E7--><a href=\"psysml:8277226e-c173-411e-8d8e-d31bb811c94b\" target=\"_top\" title=\"psysml:8277226e-c173-411e-8d8e-d31bb811c94b\" xlink:actuate=\"onRequest\" xlink:href=\"psysml:8277226e-c173-411e-8d8e-d31bb811c94b\" xlink:show=\"new\" xlink:title=\"psysml:8277226e-c173-411e-8d8e-d31bb811c94b\" xlink:type=\"simple\"><g id=\"elem_E7\"><rect fill=\"#FFFACD\" filter=\"url(#fyyfw4jhubvj3)\" height=\"75.0813\" id=\"E7\" rx=\"10\" ry=\"10\" style=\"stroke:#181818;stroke-width:0.5;\" width=\"59\" x=\"32.5\" y=\"41\"/><text fill=\"#000000\" font-family=\"sans-serif\" font-size=\"12\" font-style=\"italic\" lengthAdjust=\"spacing\" textLength=\"40\" x=\"42\" y=\"57.1387\">«part»</text><text fill=\"#000000\" font-family=\"sans-serif\" font-size=\"14\" lengthAdjust=\"spacing\" textLength=\"45\" x=\"35.5\" y=\"72.9639\">p2: P1</text><line style=\"stroke:#181818;stroke-width:0.5;\" x1=\"33.5\" x2=\"90.5\" y1=\"81.2656\" y2=\"81.2656\"/><text fill=\"#000000\" font-family=\"sans-serif\" font-size=\"14\" lengthAdjust=\"spacing\" textLength=\"40\" x=\"38.5\" y=\"108.7795\">pdest</text><text fill=\"#000000\" font-family=\"sans-serif\" font-size=\"14\" font-style=\"italic\" lengthAdjust=\"spacing\" textLength=\"36\" x=\"44\" y=\"93.6123\">ports</text></g></a><!--MD5=[b9389687b975829384b498ac4b7476b2]\n",
       "class E8--><a href=\"psysml:88f12717-b335-4bfa-a952-2b65a00cb7af\" target=\"_top\" title=\"psysml:88f12717-b335-4bfa-a952-2b65a00cb7af\" xlink:actuate=\"onRequest\" xlink:href=\"psysml:88f12717-b335-4bfa-a952-2b65a00cb7af\" xlink:show=\"new\" xlink:title=\"psysml:88f12717-b335-4bfa-a952-2b65a00cb7af\" xlink:type=\"simple\"><g id=\"elem_E8\"><rect fill=\"#FFFACD\" filter=\"url(#fyyfw4jhubvj3)\" height=\"48.2656\" id=\"E8\" rx=\"10\" ry=\"10\" style=\"stroke:#181818;stroke-width:0.5;\" width=\"54\" x=\"77\" y=\"311\"/><text fill=\"#000000\" font-family=\"sans-serif\" font-size=\"12\" font-style=\"italic\" lengthAdjust=\"spacing\" textLength=\"40\" x=\"84\" y=\"327.1387\">«port»</text><text fill=\"#000000\" font-family=\"sans-serif\" font-size=\"14\" lengthAdjust=\"spacing\" textLength=\"40\" x=\"80\" y=\"342.9639\">pdest</text><line style=\"stroke:#181818;stroke-width:0.5;\" x1=\"78\" x2=\"130\" y1=\"351.2656\" y2=\"351.2656\"/></g></a><!--MD5=[4672eba38e49728da53d11aeb285b987]\n",
       "reverse link E3 to E4--><g id=\"link_E3_E4\"><a href=\"psysml:9ff7bfb9-db47-4597-ac60-7f24b5e1b5c0\" target=\"_top\" title=\"psysml:9ff7bfb9-db47-4597-ac60-7f24b5e1b5c0\" xlink:actuate=\"onRequest\" xlink:href=\"psysml:9ff7bfb9-db47-4597-ac60-7f24b5e1b5c0\" xlink:show=\"new\" xlink:title=\"psysml:9ff7bfb9-db47-4597-ac60-7f24b5e1b5c0\" xlink:type=\"simple\"><path d=\"M195,264.25 C195,280.43 195,297.61 195,310.88 \" fill=\"none\" id=\"E3-backto-E4\" style=\"stroke:#181818;stroke-width:1.0;\"/><polygon fill=\"none\" points=\"195,251,191,257,195,263,199,257,195,251\" style=\"stroke:#181818;stroke-width:1.0;\"/></a></g><!--MD5=[e9be52314489bd878ff4c7144b63c9e1]\n",
       "link E5 to E3--><g id=\"link_E5_E3\"><a href=\"psysml:515868c5-6015-4da5-b3ff-32117e872914\" target=\"_top\" title=\"psysml:515868c5-6015-4da5-b3ff-32117e872914\" xlink:actuate=\"onRequest\" xlink:href=\"psysml:515868c5-6015-4da5-b3ff-32117e872914\" xlink:show=\"new\" xlink:title=\"psysml:515868c5-6015-4da5-b3ff-32117e872914\" xlink:type=\"simple\"><path d=\"M162.79,102.67 C167.16,117.56 173.03,137.58 178.57,156.45 \" fill=\"none\" id=\"E5-to-E3\" style=\"stroke:#181818;stroke-width:1.0;\"/><polygon fill=\"#FFFFFF\" points=\"184.24,175.81,172.1744,159.5489,185.6082,155.6078,184.24,175.81\" style=\"stroke:#181818;stroke-width:1.0;\"/><ellipse cx=\"172.4889\" cy=\"153.5164\" fill=\"#181818\" rx=\"2\" ry=\"2\" style=\"stroke:#181818;stroke-width:1.0;\"/><ellipse cx=\"182.0845\" cy=\"150.7014\" fill=\"#181818\" rx=\"2\" ry=\"2\" style=\"stroke:#181818;stroke-width:1.0;\"/></a></g><!--MD5=[85d356282659285ab4b2cfe2f634dd2b]\n",
       "reverse link E5 to E6--><g id=\"link_E5_E6\"><a href=\"psysml:1a5e094c-b062-4a12-bd0e-4269385c32ea\" target=\"_top\" title=\"psysml:1a5e094c-b062-4a12-bd0e-4269385c32ea\" xlink:actuate=\"onRequest\" xlink:href=\"psysml:1a5e094c-b062-4a12-bd0e-4269385c32ea\" xlink:show=\"new\" xlink:title=\"psysml:1a5e094c-b062-4a12-bd0e-4269385c32ea\" xlink:type=\"simple\"><path d=\"M142.15,114.93 C132.96,138.44 121.15,168.62 113.13,189.15 \" fill=\"none\" id=\"E5-backto-E6\" style=\"stroke:#181818;stroke-width:1.0;\"/><polygon fill=\"none\" points=\"146.94,102.67,141.0321,106.8049,142.5767,113.8486,148.4845,109.7138,146.94,102.67\" style=\"stroke:#181818;stroke-width:1.0;\"/></a></g><!--MD5=[f667431f98296947986a1a7595a31603]\n",
       "link E6 to E4--><g id=\"link_E6_E4\"><a href=\"psysml:70307247-8a04-4365-8b78-a7ff4bcf8dda\" target=\"_top\" title=\"psysml:70307247-8a04-4365-8b78-a7ff4bcf8dda\" xlink:actuate=\"onRequest\" xlink:href=\"psysml:70307247-8a04-4365-8b78-a7ff4bcf8dda\" xlink:show=\"new\" xlink:title=\"psysml:70307247-8a04-4365-8b78-a7ff4bcf8dda\" xlink:type=\"simple\"><path d=\"M121.55,237.54 C133.87,253.72 150.65,275.76 165.07,294.69 \" fill=\"none\" id=\"E6-to-E4\" style=\"stroke:#181818;stroke-width:1.0;\"/><polygon fill=\"#FFFFFF\" points=\"177.2,310.62,160.1219,299.7417,171.2616,291.2619,177.2,310.62\" style=\"stroke:#181818;stroke-width:1.0;\"/><line style=\"stroke:#181818;stroke-width:2.0;\" x1=\"157.8202\" x2=\"168.9599\" y1=\"296.7181\" y2=\"288.2383\"/></a></g><!--MD5=[14ccda38c055a5c0da953d572bc50960]\n",
       "link E7 to E3--><g id=\"link_E7_E3\"><a href=\"psysml:e2fe589c-f14e-47a5-aaf0-9a8ebd450a7c\" target=\"_top\" title=\"psysml:e2fe589c-f14e-47a5-aaf0-9a8ebd450a7c\" xlink:actuate=\"onRequest\" xlink:href=\"psysml:e2fe589c-f14e-47a5-aaf0-9a8ebd450a7c\" xlink:show=\"new\" xlink:title=\"psysml:e2fe589c-f14e-47a5-aaf0-9a8ebd450a7c\" xlink:type=\"simple\"><path d=\"M91.52,109.02 C107.38,124.88 127.36,144.86 145.52,163.02 \" fill=\"none\" id=\"E7-to-E3\" style=\"stroke:#181818;stroke-width:1.0;\"/><polygon fill=\"#FFFFFF\" points=\"159.9,177.4,141.5152,168.9147,151.4147,159.0152,159.9,177.4\" style=\"stroke:#181818;stroke-width:1.0;\"/><ellipse cx=\"138.8989\" cy=\"163.47\" fill=\"#181818\" rx=\"2\" ry=\"2\" style=\"stroke:#181818;stroke-width:1.0;\"/><ellipse cx=\"145.97\" cy=\"156.3989\" fill=\"#181818\" rx=\"2\" ry=\"2\" style=\"stroke:#181818;stroke-width:1.0;\"/></a></g><!--MD5=[dc164f5e8a733ab456ef1add180e9e34]\n",
       "reverse link E7 to E8--><g id=\"link_E7_E8\"><a href=\"psysml:ca64ac56-097c-4feb-943f-895d8fc6b637\" target=\"_top\" title=\"psysml:ca64ac56-097c-4feb-943f-895d8fc6b637\" xlink:actuate=\"onRequest\" xlink:href=\"psysml:ca64ac56-097c-4feb-943f-895d8fc6b637\" xlink:show=\"new\" xlink:title=\"psysml:ca64ac56-097c-4feb-943f-895d8fc6b637\" xlink:type=\"simple\"><path d=\"M57.91,129.24 C56.33,163.83 56.74,210.77 66,251 C70.91,272.31 81.57,294.77 90.35,310.94 \" fill=\"none\" id=\"E7-backto-E8\" style=\"stroke:#181818;stroke-width:1.0;\"/><polygon fill=\"none\" points=\"58.62,116.16,54.3028,121.936,57.9741,128.1426,62.2912,122.3666,58.62,116.16\" style=\"stroke:#181818;stroke-width:1.0;\"/></a></g><!--MD5=[0a839d0f80c2d72d4b9b307f046d0de8]\n",
       "link E6 to E8--><g id=\"link_E6_E8\"><a href=\"psysml:f1f85c24-6beb-4ed4-abfc-161aeb53ad8b\" target=\"_top\" title=\"psysml:f1f85c24-6beb-4ed4-abfc-161aeb53ad8b\" xlink:actuate=\"onRequest\" xlink:href=\"psysml:f1f85c24-6beb-4ed4-abfc-161aeb53ad8b\" xlink:show=\"new\" xlink:title=\"psysml:f1f85c24-6beb-4ed4-abfc-161aeb53ad8b\" xlink:type=\"simple\"><path d=\"M93.69,237.54 C90.45,258.57 90.44,289.49 93.64,310.62 \" fill=\"none\" id=\"E6-E8\" style=\"stroke:#181818;stroke-width:3.0;\"/></a></g><!--MD5=[0a839d0f80c2d72d4b9b307f046d0de8]\n",
       "link E6 to E8--><g id=\"link_E6_E8\"><a href=\"psysml:92c8a956-0030-45f2-8c30-896629fb0abd\" target=\"_top\" title=\"psysml:92c8a956-0030-45f2-8c30-896629fb0abd\" xlink:actuate=\"onRequest\" xlink:href=\"psysml:92c8a956-0030-45f2-8c30-896629fb0abd\" xlink:show=\"new\" xlink:title=\"psysml:92c8a956-0030-45f2-8c30-896629fb0abd\" xlink:type=\"simple\"><path d=\"M114.92,237.54 C118.34,258.57 118.36,289.49 114.97,310.62 \" fill=\"none\" id=\"E6-E8-1\" style=\"stroke:#181818;stroke-width:3.0;\"/></a></g><!--MD5=[a249e82692fa516ba279168c610ba9bc]\n",
       "@startuml\r\n",
       "skin sysmlc\r\n",
       "skinparam wrapWidth 300\r\n",
       "hide circle\r\n",
       "\r\n",
       "package \"AliasTest\" as E1  [[psysml:a1c2986a-a425-4687-93ae-51674f2ada97 ]]  {\r\n",
       "comp usage \"b :>ISQSpaceTime::width \" as E2  <<(T,blue) attribute>> [[psysml:f27707b2-90f2-4671-96dd-49a3cebd999e ]] {\r\n",
       "}\r\n",
       "comp def \"P1\" as E3  <<(T,blue) part  def>> [[psysml:d64d4abf-692a-4b0a-b1a7-ca6bfa2152dc ]] {\r\n",
       "##//ports//##\r\n",
       "porig1\r\n",
       "}\r\n",
       "comp usage \"porig1  \" as E4  <<(T,blue) port>> [[psysml:61764694-1d1c-48ba-adaa-4bba53d3d30f ]] {\r\n",
       "}\r\n",
       "comp usage \"p1: P1  \" as E5  <<(T,blue) part>> [[psysml:e8b71076-5181-45d8-952d-6c6c3b8ab27b ]] {\r\n",
       "}\r\n",
       "comp usage \"po1  \" as E6  <<(T,blue) port>> [[psysml:d614f44e-5180-4509-9cc1-1632afa7b11f ]] {\r\n",
       "}\r\n",
       "comp usage \"p2: P1  \" as E7  <<(T,blue) part>> [[psysml:8277226e-c173-411e-8d8e-d31bb811c94b ]] {\r\n",
       "##//ports//##\r\n",
       "pdest\r\n",
       "}\r\n",
       "comp usage \"pdest  \" as E8  <<(T,blue) port>> [[psysml:88f12717-b335-4bfa-a952-2b65a00cb7af ]] {\r\n",
       "}\r\n",
       "}\r\n",
       "E3 o- - E4 [[psysml:9ff7bfb9-db47-4597-ac60-7f24b5e1b5c0 ]] \r\n",
       "E5 - -:|> E3 [[psysml:515868c5-6015-4da5-b3ff-32117e872914 ]] \r\n",
       "E5 o- - E6 [[psysml:1a5e094c-b062-4a12-bd0e-4269385c32ea ]] \r\n",
       "E6 - -||> E4 [[psysml:70307247-8a04-4365-8b78-a7ff4bcf8dda ]] \r\n",
       "E7 - -:|> E3 [[psysml:e2fe589c-f14e-47a5-aaf0-9a8ebd450a7c ]] \r\n",
       "E7 o- - E8 [[psysml:ca64ac56-097c-4feb-943f-895d8fc6b637 ]] \r\n",
       "E6 -[thickness=3]- E8 [[psysml:f1f85c24-6beb-4ed4-abfc-161aeb53ad8b ]] \r\n",
       "E6 -[thickness=3]- E8 [[psysml:92c8a956-0030-45f2-8c30-896629fb0abd ]] \r\n",
       "@enduml\r\n",
       "\n",
       "PlantUML version 1.2022.7(Mon Aug 22 17:01:30 UTC 2022)\n",
       "(EPL source distribution)\n",
       "Java Runtime: OpenJDK Runtime Environment\n",
       "JVM: OpenJDK 64-Bit Server VM\n",
       "Default Encoding: UTF-8\n",
       "Language: en\n",
       "Country: null\n",
       "--></g></svg>"
      ]
     },
     "execution_count": 24,
     "metadata": {},
     "output_type": "execute_result"
    }
   ],
   "source": [
    "%viz --style=\"STDCOLOR\" --view=\"Tree\" \"AliasTest\""
   ]
  },
  {
   "cell_type": "code",
   "execution_count": 25,
   "id": "40b93fd5",
   "metadata": {
    "execution": {
     "iopub.execute_input": "2024-12-16T03:25:12.918951Z",
     "iopub.status.busy": "2024-12-16T03:25:12.918673Z",
     "iopub.status.idle": "2024-12-16T03:25:12.925475Z",
     "shell.execute_reply": "2024-12-16T03:25:12.925270Z"
    }
   },
   "outputs": [
    {
     "data": {
      "image/svg+xml": [
       "<?xml version=\"1.0\" encoding=\"UTF-8\" standalone=\"no\"?><svg xmlns=\"http://www.w3.org/2000/svg\" xmlns:xlink=\"http://www.w3.org/1999/xlink\" contentStyleType=\"text/css\" height=\"10px\" preserveAspectRatio=\"none\" style=\"width:10px;height:10px;background:#FFFFFF;\" version=\"1.1\" viewBox=\"0 0 10 10\" width=\"10px\" zoomAndPan=\"magnify\"><defs/><g><!--MD5=[a1048f16c75022af837d4b7065e6f600]\n",
       "@startuml\r\n",
       "skin sysmlc\r\n",
       "skinparam wrapWidth 300\r\n",
       "hide circle\r\n",
       "\r\n",
       "@enduml\r\n",
       "\n",
       "PlantUML version 1.2022.7(Mon Aug 22 17:01:30 UTC 2022)\n",
       "(EPL source distribution)\n",
       "Java Runtime: OpenJDK Runtime Environment\n",
       "JVM: OpenJDK 64-Bit Server VM\n",
       "Default Encoding: UTF-8\n",
       "Language: en\n",
       "Country: null\n",
       "--></g></svg>"
      ]
     },
     "execution_count": 25,
     "metadata": {},
     "output_type": "execute_result"
    }
   ],
   "source": [
    "%viz --style=\"STDCOLOR\" --view=\"State\" \"AliasTest\""
   ]
  },
  {
   "cell_type": "code",
   "execution_count": 26,
   "id": "6c0757a4",
   "metadata": {
    "execution": {
     "iopub.execute_input": "2024-12-16T03:25:12.981767Z",
     "iopub.status.busy": "2024-12-16T03:25:12.981499Z",
     "iopub.status.idle": "2024-12-16T03:25:13.007794Z",
     "shell.execute_reply": "2024-12-16T03:25:13.006951Z"
    }
   },
   "outputs": [
    {
     "data": {
      "image/svg+xml": [
       "<?xml version=\"1.0\" encoding=\"UTF-8\" standalone=\"no\"?><svg xmlns=\"http://www.w3.org/2000/svg\" xmlns:xlink=\"http://www.w3.org/1999/xlink\" contentStyleType=\"text/css\" height=\"394px\" preserveAspectRatio=\"none\" style=\"width:387px;height:394px;background:#FFFFFF;\" version=\"1.1\" viewBox=\"0 0 387 394\" width=\"387px\" zoomAndPan=\"magnify\"><defs><filter height=\"300%\" id=\"f1o6m3pt4mmagp\" width=\"300%\" x=\"-1\" y=\"-1\"><feGaussianBlur result=\"blurOut\" stdDeviation=\"2.0\"/><feColorMatrix in=\"blurOut\" result=\"blurOut2\" type=\"matrix\" values=\"0 0 0 0 0 0 0 0 0 0 0 0 0 0 0 0 0 0 .4 0\"/><feOffset dx=\"4.0\" dy=\"4.0\" in=\"blurOut2\" result=\"blurOut3\"/><feBlend in=\"SourceGraphic\" in2=\"blurOut3\" mode=\"normal\"/></filter></defs><g><!--MD5=[fbc87193dbaf4d95561dea2c320d4a47]\n",
       "cluster E1--><g id=\"cluster_E1\"><a href=\"psysml:a1c2986a-a425-4687-93ae-51674f2ada97\" target=\"_top\" title=\"psysml:a1c2986a-a425-4687-93ae-51674f2ada97\" xlink:actuate=\"onRequest\" xlink:href=\"psysml:a1c2986a-a425-4687-93ae-51674f2ada97\" xlink:show=\"new\" xlink:title=\"psysml:a1c2986a-a425-4687-93ae-51674f2ada97\" xlink:type=\"simple\"><polygon fill=\"none\" filter=\"url(#f1o6m3pt4mmagp)\" points=\"16,6,87.9375,6,94.9375,28.2969,370,28.2969,370,387.36,16,387.36,16,6\" style=\"stroke:#000000;stroke-width:1.5;\"/><line style=\"stroke:#000000;stroke-width:1.5;\" x1=\"16\" x2=\"94.9375\" y1=\"28.2969\" y2=\"28.2969\"/><text fill=\"#000000\" font-family=\"sans-serif\" font-size=\"14\" font-weight=\"bold\" lengthAdjust=\"spacing\" textLength=\"65.9375\" x=\"20\" y=\"20.9951\">AliasTest</text></a></g><!--MD5=[d5e69f78d87373223dbae638b30a9c99]\n",
       "cluster E3--><g id=\"cluster_E3\"><a href=\"psysml:d64d4abf-692a-4b0a-b1a7-ca6bfa2152dc\" target=\"_top\" title=\"psysml:d64d4abf-692a-4b0a-b1a7-ca6bfa2152dc\" xlink:actuate=\"onRequest\" xlink:href=\"psysml:d64d4abf-692a-4b0a-b1a7-ca6bfa2152dc\" xlink:show=\"new\" xlink:title=\"psysml:d64d4abf-692a-4b0a-b1a7-ca6bfa2152dc\" xlink:type=\"simple\"><rect fill=\"#FFFFFF\" filter=\"url(#f1o6m3pt4mmagp)\" height=\"124.5\" id=\"E3\" style=\"stroke:#A80036;stroke-width:1.5;\" width=\"144\" x=\"202\" y=\"238.86\"/><rect fill=\"#FFFACD\" height=\"40.2656\" style=\"stroke:#A80036;stroke-width:1.5;\" width=\"144\" x=\"202\" y=\"238.86\"/><text fill=\"#000000\" font-family=\"sans-serif\" font-size=\"12\" font-style=\"italic\" lengthAdjust=\"spacing\" textLength=\"68\" x=\"240\" y=\"254.9987\">«part  def»</text><text fill=\"#000000\" font-family=\"sans-serif\" font-size=\"14\" lengthAdjust=\"spacing\" textLength=\"18\" x=\"265\" y=\"270.8239\">P1</text></a></g><!--MD5=[14e3b0961a2654348d326746436168a1]\n",
       "cluster E6--><g id=\"cluster_E6\"><a href=\"psysml:e8b71076-5181-45d8-952d-6c6c3b8ab27b\" target=\"_top\" title=\"psysml:e8b71076-5181-45d8-952d-6c6c3b8ab27b\" xlink:actuate=\"onRequest\" xlink:href=\"psysml:e8b71076-5181-45d8-952d-6c6c3b8ab27b\" xlink:show=\"new\" xlink:title=\"psysml:e8b71076-5181-45d8-952d-6c6c3b8ab27b\" xlink:type=\"simple\"><rect fill=\"#FFFFFF\" filter=\"url(#f1o6m3pt4mmagp)\" height=\"98.36\" id=\"E6\" rx=\"10\" ry=\"10\" style=\"stroke:#A80036;stroke-width:1.5;\" width=\"116\" x=\"230\" y=\"49\"/><rect fill=\"#FFFACD\" height=\"26.2969\" rx=\"10\" ry=\"10\" style=\"stroke:#FFFACD;stroke-width:1.5;\" width=\"116\" x=\"230\" y=\"49\"/><rect fill=\"#FFFACD\" height=\"10\" style=\"stroke:#FFFACD;stroke-width:1.5;\" width=\"116\" x=\"230\" y=\"65.2969\"/><rect fill=\"none\" height=\"98.36\" id=\"E6\" rx=\"10\" ry=\"10\" style=\"stroke:#A80036;stroke-width:1.5;\" width=\"116\" x=\"230\" y=\"49\"/><text fill=\"#000000\" font-family=\"sans-serif\" font-size=\"14\" lengthAdjust=\"spacing\" textLength=\"45\" x=\"265.5\" y=\"66.9951\">p1: P1</text><line style=\"stroke:#A80036;stroke-width:1.0;\" x1=\"230\" x2=\"346\" y1=\"75.2969\" y2=\"75.2969\"/></a></g><!--MD5=[55dfccfc6c49c2d10cd1bd2211a6c90c]\n",
       "cluster E8--><g id=\"cluster_E8\"><a href=\"psysml:8277226e-c173-411e-8d8e-d31bb811c94b\" target=\"_top\" title=\"psysml:8277226e-c173-411e-8d8e-d31bb811c94b\" xlink:actuate=\"onRequest\" xlink:href=\"psysml:8277226e-c173-411e-8d8e-d31bb811c94b\" xlink:show=\"new\" xlink:title=\"psysml:8277226e-c173-411e-8d8e-d31bb811c94b\" xlink:type=\"simple\"><rect fill=\"#FFFFFF\" filter=\"url(#f1o6m3pt4mmagp)\" height=\"73\" id=\"E8\" rx=\"10\" ry=\"10\" style=\"stroke:#A80036;stroke-width:1.5;\" width=\"83\" x=\"103\" y=\"199.36\"/><rect fill=\"#FFFACD\" height=\"26.2969\" rx=\"10\" ry=\"10\" style=\"stroke:#FFFACD;stroke-width:1.5;\" width=\"83\" x=\"103\" y=\"199.36\"/><rect fill=\"#FFFACD\" height=\"10\" style=\"stroke:#FFFACD;stroke-width:1.5;\" width=\"83\" x=\"103\" y=\"215.6569\"/><rect fill=\"none\" height=\"73\" id=\"E8\" rx=\"10\" ry=\"10\" style=\"stroke:#A80036;stroke-width:1.5;\" width=\"83\" x=\"103\" y=\"199.36\"/><text fill=\"#000000\" font-family=\"sans-serif\" font-size=\"14\" lengthAdjust=\"spacing\" textLength=\"45\" x=\"122\" y=\"217.3551\">p2: P1</text><line style=\"stroke:#A80036;stroke-width:1.0;\" x1=\"103\" x2=\"186\" y1=\"225.6569\" y2=\"225.6569\"/></a></g><!--MD5=[b4997ac47864f28c2f74865a473b2911]\n",
       "class E2--><a href=\"psysml:f27707b2-90f2-4671-96dd-49a3cebd999e\" target=\"_top\" title=\"psysml:f27707b2-90f2-4671-96dd-49a3cebd999e\" xlink:actuate=\"onRequest\" xlink:href=\"psysml:f27707b2-90f2-4671-96dd-49a3cebd999e\" xlink:show=\"new\" xlink:title=\"psysml:f27707b2-90f2-4671-96dd-49a3cebd999e\" xlink:type=\"simple\"><g id=\"elem_E2\"><rect fill=\"#FFFACD\" filter=\"url(#f1o6m3pt4mmagp)\" height=\"48.2656\" id=\"E2\" rx=\"10\" ry=\"10\" style=\"stroke:#181818;stroke-width:0.5;\" width=\"187\" x=\"31.5\" y=\"58.5\"/><text fill=\"#000000\" font-family=\"sans-serif\" font-size=\"12\" font-style=\"italic\" lengthAdjust=\"spacing\" textLength=\"69\" x=\"90.5\" y=\"74.6387\">«attribute»</text><text fill=\"#000000\" font-family=\"sans-serif\" font-size=\"14\" lengthAdjust=\"spacing\" textLength=\"177\" x=\"34.5\" y=\"90.4639\">b :&gt;ISQSpaceTime::width</text><line style=\"stroke:#181818;stroke-width:0.5;\" x1=\"32.5\" x2=\"217.5\" y1=\"98.7656\" y2=\"98.7656\"/></g></a><text fill=\"#000000\" font-family=\"sans-serif\" font-size=\"14\" lengthAdjust=\"spacing\" textLength=\"44\" x=\"194\" y=\"217.5582\">porig1</text><rect fill=\"#FFFACD\" height=\"12\" style=\"stroke:#181818;stroke-width:1.5;\" width=\"12\" x=\"214\" y=\"232.86\"/><text fill=\"#000000\" font-family=\"sans-serif\" font-size=\"14\" lengthAdjust=\"spacing\" textLength=\"44\" x=\"241\" y=\"217.5582\">porig1</text><rect fill=\"#FFFACD\" height=\"12\" style=\"stroke:#181818;stroke-width:1.5;\" width=\"12\" x=\"261\" y=\"232.86\"/><text fill=\"#000000\" font-family=\"sans-serif\" font-size=\"14\" lengthAdjust=\"spacing\" textLength=\"27\" x=\"230.5\" y=\"166.3551\">po1</text><rect fill=\"#FFFACD\" height=\"12\" style=\"stroke:#181818;stroke-width:1.5;\" width=\"12\" x=\"242\" y=\"141.36\"/><text fill=\"#000000\" font-family=\"sans-serif\" font-size=\"14\" lengthAdjust=\"spacing\" textLength=\"40\" x=\"97\" y=\"178.0582\">pdest</text><rect fill=\"#FFFACD\" height=\"12\" style=\"stroke:#181818;stroke-width:1.5;\" width=\"12\" x=\"115\" y=\"193.36\"/><text fill=\"#000000\" font-family=\"sans-serif\" font-size=\"14\" lengthAdjust=\"spacing\" textLength=\"40\" x=\"144\" y=\"178.0582\">pdest</text><rect fill=\"#FFFACD\" height=\"12\" style=\"stroke:#181818;stroke-width:1.5;\" width=\"12\" x=\"162\" y=\"193.36\"/><!--MD5=[a717450b82c80b9240a525fa862496af]\n",
       "link E6 to E3--><g id=\"link_E6_E3\"><a href=\"psysml:515868c5-6015-4da5-b3ff-32117e872914\" target=\"_top\" title=\"psysml:515868c5-6015-4da5-b3ff-32117e872914\" xlink:actuate=\"onRequest\" xlink:href=\"psysml:515868c5-6015-4da5-b3ff-32117e872914\" xlink:show=\"new\" xlink:title=\"psysml:515868c5-6015-4da5-b3ff-32117e872914\" xlink:type=\"simple\"><path d=\"M309,147.372 C309,147.4316 309,147.4946 309,147.5614 C309,147.6948 309,147.8432 309,148.0079 C309,148.3375 309,148.733 309,149.2077 C309,150.1569 309,151.4225 309,153.11 C309,159.86 309,173.36 309,200.36 C309,209.265 309.4169,216.6138 309.8598,223.1538 C309.8875,223.5625 309.9153,223.9681 309.9431,224.3707 C309.9501,224.4714 309.957,224.5718 309.964,224.6721 \" fill=\"none\" id=\"E6-to-E3\" style=\"stroke:#181818;stroke-width:1.0;\"/><polygon fill=\"#FFFFFF\" points=\"309.964,224.6721,301.6675,206.2014,315.634,205.2337,309.964,224.6721\" style=\"stroke:#181818;stroke-width:1.0;\"/><ellipse cx=\"303.2688\" cy=\"200.3768\" fill=\"#181818\" rx=\"2\" ry=\"2\" style=\"stroke:#181818;stroke-width:1.0;\"/><ellipse cx=\"313.2448\" cy=\"199.6856\" fill=\"#181818\" rx=\"2\" ry=\"2\" style=\"stroke:#181818;stroke-width:1.0;\"/></a></g><!--MD5=[95fa686b5a16158bcdbcaeead89f639b]\n",
       "link E8 to E3--><g id=\"link_E8_E3\"><a href=\"psysml:e2fe589c-f14e-47a5-aaf0-9a8ebd450a7c\" target=\"_top\" title=\"psysml:e2fe589c-f14e-47a5-aaf0-9a8ebd450a7c\" xlink:actuate=\"onRequest\" xlink:href=\"psysml:e2fe589c-f14e-47a5-aaf0-9a8ebd450a7c\" xlink:show=\"new\" xlink:title=\"psysml:e2fe589c-f14e-47a5-aaf0-9a8ebd450a7c\" xlink:type=\"simple\"><path d=\"M183.4212,272.3838 C183.5018,272.4284 183.5825,272.4729 183.6631,272.5175 C183.9857,272.6957 184.3083,272.8737 184.6308,273.0516 C185.2757,273.4074 185.9202,273.7626 186.564,274.117 C187.8516,274.8256 189.1362,275.5309 190.4153,276.2313 C192.9733,277.6319 195.5088,279.0125 198,280.36 C199.8625,281.3675 201.7522,282.3847 203.6607,283.4076 C204.1378,283.6633 204.6161,283.9193 205.0954,284.1757 C205.3351,284.3039 205.575,284.4322 205.8152,284.5605 C205.8752,284.5926 205.9353,284.6246 205.9954,284.6567 \" fill=\"none\" id=\"E8-to-E3\" style=\"stroke:#181818;stroke-width:1.0;\"/><polygon fill=\"#FFFFFF\" points=\"205.9954,284.6567,185.9383,281.8793,192.5344,269.5305,205.9954,284.6567\" style=\"stroke:#181818;stroke-width:1.0;\"/><ellipse cx=\"181.8529\" cy=\"277.4296\" fill=\"#181818\" rx=\"2\" ry=\"2\" style=\"stroke:#181818;stroke-width:1.0;\"/><ellipse cx=\"186.5644\" cy=\"268.6091\" fill=\"#181818\" rx=\"2\" ry=\"2\" style=\"stroke:#181818;stroke-width:1.0;\"/></a></g><!--MD5=[1c0b9414cc86e0744215edee6abd8926]\n",
       "link E7 to E9--><g id=\"link_E7_E9\"><a href=\"psysml:f1f85c24-6beb-4ed4-abfc-161aeb53ad8b\" target=\"_top\" title=\"psysml:f1f85c24-6beb-4ed4-abfc-161aeb53ad8b\" xlink:actuate=\"onRequest\" xlink:href=\"psysml:f1f85c24-6beb-4ed4-abfc-161aeb53ad8b\" xlink:show=\"new\" xlink:title=\"psysml:f1f85c24-6beb-4ed4-abfc-161aeb53ad8b\" xlink:type=\"simple\"><path d=\"M241.79,148.54 C219.08,149.65 164.87,156.38 127,177.36 C116.78,183.02 107.43,194.08 114.97,197.4 \" fill=\"none\" id=\"E7-E9\" style=\"stroke:#181818;stroke-width:3.0;\"/></a></g><!--MD5=[1c0b9414cc86e0744215edee6abd8926]\n",
       "link E7 to E9--><g id=\"link_E7_E9\"><a href=\"psysml:92c8a956-0030-45f2-8c30-896629fb0abd\" target=\"_top\" title=\"psysml:92c8a956-0030-45f2-8c30-896629fb0abd\" xlink:actuate=\"onRequest\" xlink:href=\"psysml:92c8a956-0030-45f2-8c30-896629fb0abd\" xlink:show=\"new\" xlink:title=\"psysml:92c8a956-0030-45f2-8c30-896629fb0abd\" xlink:type=\"simple\"><path d=\"M241.96,150.94 C225.3,154.47 189.38,162.19 162,177.36 C151.31,183.28 141.57,195.11 127.05,197.81 \" fill=\"none\" id=\"E7-E9-1\" style=\"stroke:#181818;stroke-width:3.0;\"/></a></g><!--MD5=[be353328efcf76f385e32e7817128660]\n",
       "@startuml\r\n",
       "skin sysmlc\r\n",
       "skinparam wrapWidth 300\r\n",
       "hide circle\r\n",
       "skinparam ranksep 10\r\n",
       "skinparam rectangle {\r\n",
       " backgroundColor<<block>> LightGreen\r\n",
       "}\r\n",
       "\r\n",
       "package \"AliasTest\" as E1  [[psysml:a1c2986a-a425-4687-93ae-51674f2ada97 ]]  {\r\n",
       "comp usage \"b :>ISQSpaceTime::width \" as E2  <<(T,blue) attribute>> [[psysml:f27707b2-90f2-4671-96dd-49a3cebd999e ]] {\r\n",
       "}\r\n",
       "rec def \"P1\" as E3  <<(T,blue) part  def>> [[psysml:d64d4abf-692a-4b0a-b1a7-ca6bfa2152dc ]] {\r\n",
       "portin \"porig1  \" as E4  <<(T,blue) port>> [[psysml:61764694-1d1c-48ba-adaa-4bba53d3d30f ]] \r\n",
       "portin \"porig1  \" as E5  <<(T,blue) port>> [[psysml:61764694-1d1c-48ba-adaa-4bba53d3d30f ]] \r\n",
       "}\r\n",
       "rec usage \"p1: P1\" as E6 [[psysml:e8b71076-5181-45d8-952d-6c6c3b8ab27b ]] {\r\n",
       "portout \"po1  \" as E7  <<(T,blue) port>> [[psysml:d614f44e-5180-4509-9cc1-1632afa7b11f ]] \r\n",
       "}\r\n",
       "rec usage \"p2: P1\" as E8 [[psysml:8277226e-c173-411e-8d8e-d31bb811c94b ]] {\r\n",
       "portin \"pdest  \" as E9  <<(T,blue) port>> [[psysml:88f12717-b335-4bfa-a952-2b65a00cb7af ]] \r\n",
       "portin \"pdest  \" as E10  <<(T,blue) port>> [[psysml:88f12717-b335-4bfa-a952-2b65a00cb7af ]] \r\n",
       "}\r\n",
       "}\r\n",
       "E6 - -:|> E3 [[psysml:515868c5-6015-4da5-b3ff-32117e872914 ]] \r\n",
       "E8 - -:|> E3 [[psysml:e2fe589c-f14e-47a5-aaf0-9a8ebd450a7c ]] \r\n",
       "E7 -[thickness=3]- E9 [[psysml:f1f85c24-6beb-4ed4-abfc-161aeb53ad8b ]] \r\n",
       "E7 -[thickness=3]- E9 [[psysml:92c8a956-0030-45f2-8c30-896629fb0abd ]] \r\n",
       "@enduml\r\n",
       "\n",
       "PlantUML version 1.2022.7(Mon Aug 22 17:01:30 UTC 2022)\n",
       "(EPL source distribution)\n",
       "Java Runtime: OpenJDK Runtime Environment\n",
       "JVM: OpenJDK 64-Bit Server VM\n",
       "Default Encoding: UTF-8\n",
       "Language: en\n",
       "Country: null\n",
       "--></g></svg>"
      ]
     },
     "execution_count": 26,
     "metadata": {},
     "output_type": "execute_result"
    }
   ],
   "source": [
    "%viz --style=\"STDCOLOR\" --view=\"Interconnection\" \"AliasTest\""
   ]
  },
  {
   "cell_type": "code",
   "execution_count": 27,
   "id": "3fa9a9eb",
   "metadata": {
    "execution": {
     "iopub.execute_input": "2024-12-16T03:25:13.060703Z",
     "iopub.status.busy": "2024-12-16T03:25:13.060455Z",
     "iopub.status.idle": "2024-12-16T03:25:13.066706Z",
     "shell.execute_reply": "2024-12-16T03:25:13.066542Z"
    }
   },
   "outputs": [
    {
     "data": {
      "image/svg+xml": [
       "<?xml version=\"1.0\" encoding=\"UTF-8\" standalone=\"no\"?><svg xmlns=\"http://www.w3.org/2000/svg\" xmlns:xlink=\"http://www.w3.org/1999/xlink\" contentStyleType=\"text/css\" height=\"10px\" preserveAspectRatio=\"none\" style=\"width:10px;height:10px;background:#FFFFFF;\" version=\"1.1\" viewBox=\"0 0 10 10\" width=\"10px\" zoomAndPan=\"magnify\"><defs/><g><!--MD5=[f1e15a62785563bad28e840d677c8e75]\n",
       "@startuml\r\n",
       "skin sysmlc\r\n",
       "skinparam wrapWidth 300\r\n",
       "hide circle\r\n",
       "skinparam ranksep 8\r\n",
       "\r\n",
       "@enduml\r\n",
       "\n",
       "PlantUML version 1.2022.7(Mon Aug 22 17:01:30 UTC 2022)\n",
       "(EPL source distribution)\n",
       "Java Runtime: OpenJDK Runtime Environment\n",
       "JVM: OpenJDK 64-Bit Server VM\n",
       "Default Encoding: UTF-8\n",
       "Language: en\n",
       "Country: null\n",
       "--></g></svg>"
      ]
     },
     "execution_count": 27,
     "metadata": {},
     "output_type": "execute_result"
    }
   ],
   "source": [
    "%viz --style=\"STDCOLOR\" --view=\"Action\" \"AliasTest\""
   ]
  },
  {
   "cell_type": "code",
   "execution_count": 28,
   "id": "f57345bf",
   "metadata": {
    "execution": {
     "iopub.execute_input": "2024-12-16T03:25:13.122633Z",
     "iopub.status.busy": "2024-12-16T03:25:13.122393Z",
     "iopub.status.idle": "2024-12-16T03:25:13.129739Z",
     "shell.execute_reply": "2024-12-16T03:25:13.129552Z"
    }
   },
   "outputs": [
    {
     "data": {
      "image/svg+xml": [
       "<?xml version=\"1.0\" encoding=\"UTF-8\" standalone=\"no\"?><svg xmlns=\"http://www.w3.org/2000/svg\" xmlns:xlink=\"http://www.w3.org/1999/xlink\" contentStyleType=\"text/css\" height=\"10px\" preserveAspectRatio=\"none\" style=\"width:10px;height:10px;background:#FFFFFF;\" version=\"1.1\" viewBox=\"0 0 10 10\" width=\"10px\" zoomAndPan=\"magnify\"><defs/><g><!--MD5=[e54413e611bf323face5c486cd3a32bb]\n",
       "@startuml\r\n",
       "skin sysmlc\r\n",
       "skinparam wrapWidth 300\r\n",
       "hide circle\r\n",
       "skinparam roundcorner 20\r\n",
       "skinparam BoxPadding 20\r\n",
       "skinparam SequenceBoxBackgroundColor #white\r\n",
       "skinparam style strictuml\r\n",
       "skinparam maxMessageSize 100\r\n",
       "\r\n",
       "@enduml\r\n",
       "\n",
       "PlantUML version 1.2022.7(Mon Aug 22 17:01:30 UTC 2022)\n",
       "(EPL source distribution)\n",
       "Java Runtime: OpenJDK Runtime Environment\n",
       "JVM: OpenJDK 64-Bit Server VM\n",
       "Default Encoding: UTF-8\n",
       "Language: en\n",
       "Country: null\n",
       "--></g></svg>"
      ]
     },
     "execution_count": 28,
     "metadata": {},
     "output_type": "execute_result"
    }
   ],
   "source": [
    "%viz --style=\"STDCOLOR\" --view=\"Sequence\" \"AliasTest\""
   ]
  },
  {
   "cell_type": "code",
   "execution_count": 29,
   "id": "eaab4e12",
   "metadata": {
    "execution": {
     "iopub.execute_input": "2024-12-16T03:25:13.183656Z",
     "iopub.status.busy": "2024-12-16T03:25:13.183427Z",
     "iopub.status.idle": "2024-12-16T03:25:13.209671Z",
     "shell.execute_reply": "2024-12-16T03:25:13.208849Z"
    }
   },
   "outputs": [
    {
     "data": {
      "image/svg+xml": [
       "<?xml version=\"1.0\" encoding=\"UTF-8\" standalone=\"no\"?><svg xmlns=\"http://www.w3.org/2000/svg\" xmlns:xlink=\"http://www.w3.org/1999/xlink\" contentStyleType=\"text/css\" height=\"382px\" preserveAspectRatio=\"none\" style=\"width:440px;height:382px;background:#FFFFFF;\" version=\"1.1\" viewBox=\"0 0 440 382\" width=\"440px\" zoomAndPan=\"magnify\"><defs><filter height=\"300%\" id=\"fyyfw4jhubvj3\" width=\"300%\" x=\"-1\" y=\"-1\"><feGaussianBlur result=\"blurOut\" stdDeviation=\"2.0\"/><feColorMatrix in=\"blurOut\" result=\"blurOut2\" type=\"matrix\" values=\"0 0 0 0 0 0 0 0 0 0 0 0 0 0 0 0 0 0 .4 0\"/><feOffset dx=\"4.0\" dy=\"4.0\" in=\"blurOut2\" result=\"blurOut3\"/><feBlend in=\"SourceGraphic\" in2=\"blurOut3\" mode=\"normal\"/></filter></defs><g><!--MD5=[fbc87193dbaf4d95561dea2c320d4a47]\n",
       "cluster E1--><g id=\"cluster_E1\"><a href=\"psysml:a1c2986a-a425-4687-93ae-51674f2ada97\" target=\"_top\" title=\"psysml:a1c2986a-a425-4687-93ae-51674f2ada97\" xlink:actuate=\"onRequest\" xlink:href=\"psysml:a1c2986a-a425-4687-93ae-51674f2ada97\" xlink:show=\"new\" xlink:title=\"psysml:a1c2986a-a425-4687-93ae-51674f2ada97\" xlink:type=\"simple\"><polygon fill=\"none\" filter=\"url(#fyyfw4jhubvj3)\" points=\"16,6,87.9375,6,94.9375,28.2969,423,28.2969,423,375,16,375,16,6\" style=\"stroke:#000000;stroke-width:1.5;\"/><line style=\"stroke:#000000;stroke-width:1.5;\" x1=\"16\" x2=\"94.9375\" y1=\"28.2969\" y2=\"28.2969\"/><text fill=\"#000000\" font-family=\"sans-serif\" font-size=\"14\" font-weight=\"bold\" lengthAdjust=\"spacing\" textLength=\"65.9375\" x=\"20\" y=\"20.9951\">AliasTest</text></a></g><!--MD5=[b4997ac47864f28c2f74865a473b2911]\n",
       "class E2--><a href=\"psysml:f27707b2-90f2-4671-96dd-49a3cebd999e\" target=\"_top\" title=\"psysml:f27707b2-90f2-4671-96dd-49a3cebd999e\" xlink:actuate=\"onRequest\" xlink:href=\"psysml:f27707b2-90f2-4671-96dd-49a3cebd999e\" xlink:show=\"new\" xlink:title=\"psysml:f27707b2-90f2-4671-96dd-49a3cebd999e\" xlink:type=\"simple\"><g id=\"elem_E2\"><rect fill=\"#FFFACD\" filter=\"url(#fyyfw4jhubvj3)\" height=\"48.2656\" id=\"E2\" rx=\"10\" ry=\"10\" style=\"stroke:#181818;stroke-width:0.5;\" width=\"187\" x=\"220.5\" y=\"54.5\"/><text fill=\"#000000\" font-family=\"sans-serif\" font-size=\"12\" font-style=\"italic\" lengthAdjust=\"spacing\" textLength=\"69\" x=\"279.5\" y=\"70.6387\">«attribute»</text><text fill=\"#000000\" font-family=\"sans-serif\" font-size=\"14\" lengthAdjust=\"spacing\" textLength=\"177\" x=\"223.5\" y=\"86.4639\">b :&gt;ISQSpaceTime::width</text><line style=\"stroke:#181818;stroke-width:0.5;\" x1=\"221.5\" x2=\"406.5\" y1=\"94.7656\" y2=\"94.7656\"/></g></a><!--MD5=[09b614a08d8cba4a07c9adeb5e0fee81]\n",
       "class E3--><a href=\"psysml:d64d4abf-692a-4b0a-b1a7-ca6bfa2152dc\" target=\"_top\" title=\"psysml:d64d4abf-692a-4b0a-b1a7-ca6bfa2152dc\" xlink:actuate=\"onRequest\" xlink:href=\"psysml:d64d4abf-692a-4b0a-b1a7-ca6bfa2152dc\" xlink:show=\"new\" xlink:title=\"psysml:d64d4abf-692a-4b0a-b1a7-ca6bfa2152dc\" xlink:type=\"simple\"><g id=\"elem_E3\"><rect fill=\"#FFFACD\" filter=\"url(#fyyfw4jhubvj3)\" height=\"75.0813\" id=\"E3\" style=\"stroke:#181818;stroke-width:0.5;\" width=\"70\" x=\"160\" y=\"176\"/><text fill=\"#000000\" font-family=\"sans-serif\" font-size=\"12\" font-style=\"italic\" lengthAdjust=\"spacing\" textLength=\"68\" x=\"161\" y=\"192.1387\">«part  def»</text><text fill=\"#000000\" font-family=\"sans-serif\" font-size=\"14\" lengthAdjust=\"spacing\" textLength=\"18\" x=\"186\" y=\"207.9639\">P1</text><line style=\"stroke:#181818;stroke-width:0.5;\" x1=\"161\" x2=\"229\" y1=\"216.2656\" y2=\"216.2656\"/><text fill=\"#000000\" font-family=\"sans-serif\" font-size=\"14\" lengthAdjust=\"spacing\" textLength=\"44\" x=\"166\" y=\"243.7795\">porig1</text><text fill=\"#000000\" font-family=\"sans-serif\" font-size=\"14\" font-style=\"italic\" lengthAdjust=\"spacing\" textLength=\"36\" x=\"177\" y=\"228.6123\">ports</text></g></a><!--MD5=[ebbe1d658d1005bcc118a6aa81145e00]\n",
       "class E4--><a href=\"psysml:61764694-1d1c-48ba-adaa-4bba53d3d30f\" target=\"_top\" title=\"psysml:61764694-1d1c-48ba-adaa-4bba53d3d30f\" xlink:actuate=\"onRequest\" xlink:href=\"psysml:61764694-1d1c-48ba-adaa-4bba53d3d30f\" xlink:show=\"new\" xlink:title=\"psysml:61764694-1d1c-48ba-adaa-4bba53d3d30f\" xlink:type=\"simple\"><g id=\"elem_E4\"><rect fill=\"#FFFACD\" filter=\"url(#fyyfw4jhubvj3)\" height=\"48.2656\" id=\"E4\" rx=\"10\" ry=\"10\" style=\"stroke:#181818;stroke-width:0.5;\" width=\"58\" x=\"166\" y=\"311\"/><text fill=\"#000000\" font-family=\"sans-serif\" font-size=\"12\" font-style=\"italic\" lengthAdjust=\"spacing\" textLength=\"40\" x=\"175\" y=\"327.1387\">«port»</text><text fill=\"#000000\" font-family=\"sans-serif\" font-size=\"14\" lengthAdjust=\"spacing\" textLength=\"44\" x=\"169\" y=\"342.9639\">porig1</text><line style=\"stroke:#181818;stroke-width:0.5;\" x1=\"167\" x2=\"223\" y1=\"351.2656\" y2=\"351.2656\"/></g></a><!--MD5=[270fce915f116d4de14055a7c1d9a0f3]\n",
       "class E5--><a href=\"psysml:e8b71076-5181-45d8-952d-6c6c3b8ab27b\" target=\"_top\" title=\"psysml:e8b71076-5181-45d8-952d-6c6c3b8ab27b\" xlink:actuate=\"onRequest\" xlink:href=\"psysml:e8b71076-5181-45d8-952d-6c6c3b8ab27b\" xlink:show=\"new\" xlink:title=\"psysml:e8b71076-5181-45d8-952d-6c6c3b8ab27b\" xlink:type=\"simple\"><g id=\"elem_E5\"><rect fill=\"#FFFACD\" filter=\"url(#fyyfw4jhubvj3)\" height=\"48.2656\" id=\"E5\" rx=\"10\" ry=\"10\" style=\"stroke:#181818;stroke-width:0.5;\" width=\"59\" x=\"126.5\" y=\"54.5\"/><text fill=\"#000000\" font-family=\"sans-serif\" font-size=\"12\" font-style=\"italic\" lengthAdjust=\"spacing\" textLength=\"40\" x=\"136\" y=\"70.6387\">«part»</text><text fill=\"#000000\" font-family=\"sans-serif\" font-size=\"14\" lengthAdjust=\"spacing\" textLength=\"45\" x=\"129.5\" y=\"86.4639\">p1: P1</text><line style=\"stroke:#181818;stroke-width:0.5;\" x1=\"127.5\" x2=\"184.5\" y1=\"94.7656\" y2=\"94.7656\"/></g></a><!--MD5=[60a26617385b1d2d0262a64233df1f8d]\n",
       "class E6--><a href=\"psysml:d614f44e-5180-4509-9cc1-1632afa7b11f\" target=\"_top\" title=\"psysml:d614f44e-5180-4509-9cc1-1632afa7b11f\" xlink:actuate=\"onRequest\" xlink:href=\"psysml:d614f44e-5180-4509-9cc1-1632afa7b11f\" xlink:show=\"new\" xlink:title=\"psysml:d614f44e-5180-4509-9cc1-1632afa7b11f\" xlink:type=\"simple\"><g id=\"elem_E6\"><rect fill=\"#FFFACD\" filter=\"url(#fyyfw4jhubvj3)\" height=\"48.2656\" id=\"E6\" rx=\"10\" ry=\"10\" style=\"stroke:#181818;stroke-width:0.5;\" width=\"42\" x=\"83\" y=\"189.5\"/><text fill=\"#000000\" font-family=\"sans-serif\" font-size=\"12\" font-style=\"italic\" lengthAdjust=\"spacing\" textLength=\"40\" x=\"84\" y=\"205.6387\">«port»</text><text fill=\"#000000\" font-family=\"sans-serif\" font-size=\"14\" lengthAdjust=\"spacing\" textLength=\"27\" x=\"86.5\" y=\"221.4639\">po1</text><line style=\"stroke:#181818;stroke-width:0.5;\" x1=\"84\" x2=\"124\" y1=\"229.7656\" y2=\"229.7656\"/></g></a><!--MD5=[2156ba9850f5573cc1fc38a6a4b2f02b]\n",
       "class E7--><a href=\"psysml:8277226e-c173-411e-8d8e-d31bb811c94b\" target=\"_top\" title=\"psysml:8277226e-c173-411e-8d8e-d31bb811c94b\" xlink:actuate=\"onRequest\" xlink:href=\"psysml:8277226e-c173-411e-8d8e-d31bb811c94b\" xlink:show=\"new\" xlink:title=\"psysml:8277226e-c173-411e-8d8e-d31bb811c94b\" xlink:type=\"simple\"><g id=\"elem_E7\"><rect fill=\"#FFFACD\" filter=\"url(#fyyfw4jhubvj3)\" height=\"75.0813\" id=\"E7\" rx=\"10\" ry=\"10\" style=\"stroke:#181818;stroke-width:0.5;\" width=\"59\" x=\"32.5\" y=\"41\"/><text fill=\"#000000\" font-family=\"sans-serif\" font-size=\"12\" font-style=\"italic\" lengthAdjust=\"spacing\" textLength=\"40\" x=\"42\" y=\"57.1387\">«part»</text><text fill=\"#000000\" font-family=\"sans-serif\" font-size=\"14\" lengthAdjust=\"spacing\" textLength=\"45\" x=\"35.5\" y=\"72.9639\">p2: P1</text><line style=\"stroke:#181818;stroke-width:0.5;\" x1=\"33.5\" x2=\"90.5\" y1=\"81.2656\" y2=\"81.2656\"/><text fill=\"#000000\" font-family=\"sans-serif\" font-size=\"14\" lengthAdjust=\"spacing\" textLength=\"40\" x=\"38.5\" y=\"108.7795\">pdest</text><text fill=\"#000000\" font-family=\"sans-serif\" font-size=\"14\" font-style=\"italic\" lengthAdjust=\"spacing\" textLength=\"36\" x=\"44\" y=\"93.6123\">ports</text></g></a><!--MD5=[b9389687b975829384b498ac4b7476b2]\n",
       "class E8--><a href=\"psysml:88f12717-b335-4bfa-a952-2b65a00cb7af\" target=\"_top\" title=\"psysml:88f12717-b335-4bfa-a952-2b65a00cb7af\" xlink:actuate=\"onRequest\" xlink:href=\"psysml:88f12717-b335-4bfa-a952-2b65a00cb7af\" xlink:show=\"new\" xlink:title=\"psysml:88f12717-b335-4bfa-a952-2b65a00cb7af\" xlink:type=\"simple\"><g id=\"elem_E8\"><rect fill=\"#FFFACD\" filter=\"url(#fyyfw4jhubvj3)\" height=\"48.2656\" id=\"E8\" rx=\"10\" ry=\"10\" style=\"stroke:#181818;stroke-width:0.5;\" width=\"54\" x=\"77\" y=\"311\"/><text fill=\"#000000\" font-family=\"sans-serif\" font-size=\"12\" font-style=\"italic\" lengthAdjust=\"spacing\" textLength=\"40\" x=\"84\" y=\"327.1387\">«port»</text><text fill=\"#000000\" font-family=\"sans-serif\" font-size=\"14\" lengthAdjust=\"spacing\" textLength=\"40\" x=\"80\" y=\"342.9639\">pdest</text><line style=\"stroke:#181818;stroke-width:0.5;\" x1=\"78\" x2=\"130\" y1=\"351.2656\" y2=\"351.2656\"/></g></a><!--MD5=[4672eba38e49728da53d11aeb285b987]\n",
       "reverse link E3 to E4--><g id=\"link_E3_E4\"><a href=\"psysml:9ff7bfb9-db47-4597-ac60-7f24b5e1b5c0\" target=\"_top\" title=\"psysml:9ff7bfb9-db47-4597-ac60-7f24b5e1b5c0\" xlink:actuate=\"onRequest\" xlink:href=\"psysml:9ff7bfb9-db47-4597-ac60-7f24b5e1b5c0\" xlink:show=\"new\" xlink:title=\"psysml:9ff7bfb9-db47-4597-ac60-7f24b5e1b5c0\" xlink:type=\"simple\"><path d=\"M195,264.25 C195,280.43 195,297.61 195,310.88 \" fill=\"none\" id=\"E3-backto-E4\" style=\"stroke:#181818;stroke-width:1.0;\"/><polygon fill=\"none\" points=\"195,251,191,257,195,263,199,257,195,251\" style=\"stroke:#181818;stroke-width:1.0;\"/></a></g><!--MD5=[e9be52314489bd878ff4c7144b63c9e1]\n",
       "link E5 to E3--><g id=\"link_E5_E3\"><a href=\"psysml:515868c5-6015-4da5-b3ff-32117e872914\" target=\"_top\" title=\"psysml:515868c5-6015-4da5-b3ff-32117e872914\" xlink:actuate=\"onRequest\" xlink:href=\"psysml:515868c5-6015-4da5-b3ff-32117e872914\" xlink:show=\"new\" xlink:title=\"psysml:515868c5-6015-4da5-b3ff-32117e872914\" xlink:type=\"simple\"><path d=\"M162.79,102.67 C167.16,117.56 173.03,137.58 178.57,156.45 \" fill=\"none\" id=\"E5-to-E3\" style=\"stroke:#181818;stroke-width:1.0;\"/><polygon fill=\"#FFFFFF\" points=\"184.24,175.81,172.1744,159.5489,185.6082,155.6078,184.24,175.81\" style=\"stroke:#181818;stroke-width:1.0;\"/><ellipse cx=\"172.4889\" cy=\"153.5164\" fill=\"#181818\" rx=\"2\" ry=\"2\" style=\"stroke:#181818;stroke-width:1.0;\"/><ellipse cx=\"182.0845\" cy=\"150.7014\" fill=\"#181818\" rx=\"2\" ry=\"2\" style=\"stroke:#181818;stroke-width:1.0;\"/></a></g><!--MD5=[85d356282659285ab4b2cfe2f634dd2b]\n",
       "reverse link E5 to E6--><g id=\"link_E5_E6\"><a href=\"psysml:1a5e094c-b062-4a12-bd0e-4269385c32ea\" target=\"_top\" title=\"psysml:1a5e094c-b062-4a12-bd0e-4269385c32ea\" xlink:actuate=\"onRequest\" xlink:href=\"psysml:1a5e094c-b062-4a12-bd0e-4269385c32ea\" xlink:show=\"new\" xlink:title=\"psysml:1a5e094c-b062-4a12-bd0e-4269385c32ea\" xlink:type=\"simple\"><path d=\"M142.15,114.93 C132.96,138.44 121.15,168.62 113.13,189.15 \" fill=\"none\" id=\"E5-backto-E6\" style=\"stroke:#181818;stroke-width:1.0;\"/><polygon fill=\"none\" points=\"146.94,102.67,141.0321,106.8049,142.5767,113.8486,148.4845,109.7138,146.94,102.67\" style=\"stroke:#181818;stroke-width:1.0;\"/></a></g><!--MD5=[f667431f98296947986a1a7595a31603]\n",
       "link E6 to E4--><g id=\"link_E6_E4\"><a href=\"psysml:70307247-8a04-4365-8b78-a7ff4bcf8dda\" target=\"_top\" title=\"psysml:70307247-8a04-4365-8b78-a7ff4bcf8dda\" xlink:actuate=\"onRequest\" xlink:href=\"psysml:70307247-8a04-4365-8b78-a7ff4bcf8dda\" xlink:show=\"new\" xlink:title=\"psysml:70307247-8a04-4365-8b78-a7ff4bcf8dda\" xlink:type=\"simple\"><path d=\"M121.55,237.54 C133.87,253.72 150.65,275.76 165.07,294.69 \" fill=\"none\" id=\"E6-to-E4\" style=\"stroke:#181818;stroke-width:1.0;\"/><polygon fill=\"#FFFFFF\" points=\"177.2,310.62,160.1219,299.7417,171.2616,291.2619,177.2,310.62\" style=\"stroke:#181818;stroke-width:1.0;\"/><line style=\"stroke:#181818;stroke-width:2.0;\" x1=\"157.8202\" x2=\"168.9599\" y1=\"296.7181\" y2=\"288.2383\"/></a></g><!--MD5=[14ccda38c055a5c0da953d572bc50960]\n",
       "link E7 to E3--><g id=\"link_E7_E3\"><a href=\"psysml:e2fe589c-f14e-47a5-aaf0-9a8ebd450a7c\" target=\"_top\" title=\"psysml:e2fe589c-f14e-47a5-aaf0-9a8ebd450a7c\" xlink:actuate=\"onRequest\" xlink:href=\"psysml:e2fe589c-f14e-47a5-aaf0-9a8ebd450a7c\" xlink:show=\"new\" xlink:title=\"psysml:e2fe589c-f14e-47a5-aaf0-9a8ebd450a7c\" xlink:type=\"simple\"><path d=\"M91.52,109.02 C107.38,124.88 127.36,144.86 145.52,163.02 \" fill=\"none\" id=\"E7-to-E3\" style=\"stroke:#181818;stroke-width:1.0;\"/><polygon fill=\"#FFFFFF\" points=\"159.9,177.4,141.5152,168.9147,151.4147,159.0152,159.9,177.4\" style=\"stroke:#181818;stroke-width:1.0;\"/><ellipse cx=\"138.8989\" cy=\"163.47\" fill=\"#181818\" rx=\"2\" ry=\"2\" style=\"stroke:#181818;stroke-width:1.0;\"/><ellipse cx=\"145.97\" cy=\"156.3989\" fill=\"#181818\" rx=\"2\" ry=\"2\" style=\"stroke:#181818;stroke-width:1.0;\"/></a></g><!--MD5=[dc164f5e8a733ab456ef1add180e9e34]\n",
       "reverse link E7 to E8--><g id=\"link_E7_E8\"><a href=\"psysml:ca64ac56-097c-4feb-943f-895d8fc6b637\" target=\"_top\" title=\"psysml:ca64ac56-097c-4feb-943f-895d8fc6b637\" xlink:actuate=\"onRequest\" xlink:href=\"psysml:ca64ac56-097c-4feb-943f-895d8fc6b637\" xlink:show=\"new\" xlink:title=\"psysml:ca64ac56-097c-4feb-943f-895d8fc6b637\" xlink:type=\"simple\"><path d=\"M57.91,129.24 C56.33,163.83 56.74,210.77 66,251 C70.91,272.31 81.57,294.77 90.35,310.94 \" fill=\"none\" id=\"E7-backto-E8\" style=\"stroke:#181818;stroke-width:1.0;\"/><polygon fill=\"none\" points=\"58.62,116.16,54.3028,121.936,57.9741,128.1426,62.2912,122.3666,58.62,116.16\" style=\"stroke:#181818;stroke-width:1.0;\"/></a></g><!--MD5=[0a839d0f80c2d72d4b9b307f046d0de8]\n",
       "link E6 to E8--><g id=\"link_E6_E8\"><a href=\"psysml:f1f85c24-6beb-4ed4-abfc-161aeb53ad8b\" target=\"_top\" title=\"psysml:f1f85c24-6beb-4ed4-abfc-161aeb53ad8b\" xlink:actuate=\"onRequest\" xlink:href=\"psysml:f1f85c24-6beb-4ed4-abfc-161aeb53ad8b\" xlink:show=\"new\" xlink:title=\"psysml:f1f85c24-6beb-4ed4-abfc-161aeb53ad8b\" xlink:type=\"simple\"><path d=\"M93.69,237.54 C90.45,258.57 90.44,289.49 93.64,310.62 \" fill=\"none\" id=\"E6-E8\" style=\"stroke:#181818;stroke-width:3.0;\"/></a></g><!--MD5=[0a839d0f80c2d72d4b9b307f046d0de8]\n",
       "link E6 to E8--><g id=\"link_E6_E8\"><a href=\"psysml:92c8a956-0030-45f2-8c30-896629fb0abd\" target=\"_top\" title=\"psysml:92c8a956-0030-45f2-8c30-896629fb0abd\" xlink:actuate=\"onRequest\" xlink:href=\"psysml:92c8a956-0030-45f2-8c30-896629fb0abd\" xlink:show=\"new\" xlink:title=\"psysml:92c8a956-0030-45f2-8c30-896629fb0abd\" xlink:type=\"simple\"><path d=\"M114.92,237.54 C118.34,258.57 118.36,289.49 114.97,310.62 \" fill=\"none\" id=\"E6-E8-1\" style=\"stroke:#181818;stroke-width:3.0;\"/></a></g><!--MD5=[a249e82692fa516ba279168c610ba9bc]\n",
       "@startuml\r\n",
       "skin sysmlc\r\n",
       "skinparam wrapWidth 300\r\n",
       "hide circle\r\n",
       "\r\n",
       "package \"AliasTest\" as E1  [[psysml:a1c2986a-a425-4687-93ae-51674f2ada97 ]]  {\r\n",
       "comp usage \"b :>ISQSpaceTime::width \" as E2  <<(T,blue) attribute>> [[psysml:f27707b2-90f2-4671-96dd-49a3cebd999e ]] {\r\n",
       "}\r\n",
       "comp def \"P1\" as E3  <<(T,blue) part  def>> [[psysml:d64d4abf-692a-4b0a-b1a7-ca6bfa2152dc ]] {\r\n",
       "##//ports//##\r\n",
       "porig1\r\n",
       "}\r\n",
       "comp usage \"porig1  \" as E4  <<(T,blue) port>> [[psysml:61764694-1d1c-48ba-adaa-4bba53d3d30f ]] {\r\n",
       "}\r\n",
       "comp usage \"p1: P1  \" as E5  <<(T,blue) part>> [[psysml:e8b71076-5181-45d8-952d-6c6c3b8ab27b ]] {\r\n",
       "}\r\n",
       "comp usage \"po1  \" as E6  <<(T,blue) port>> [[psysml:d614f44e-5180-4509-9cc1-1632afa7b11f ]] {\r\n",
       "}\r\n",
       "comp usage \"p2: P1  \" as E7  <<(T,blue) part>> [[psysml:8277226e-c173-411e-8d8e-d31bb811c94b ]] {\r\n",
       "##//ports//##\r\n",
       "pdest\r\n",
       "}\r\n",
       "comp usage \"pdest  \" as E8  <<(T,blue) port>> [[psysml:88f12717-b335-4bfa-a952-2b65a00cb7af ]] {\r\n",
       "}\r\n",
       "}\r\n",
       "E3 o- - E4 [[psysml:9ff7bfb9-db47-4597-ac60-7f24b5e1b5c0 ]] \r\n",
       "E5 - -:|> E3 [[psysml:515868c5-6015-4da5-b3ff-32117e872914 ]] \r\n",
       "E5 o- - E6 [[psysml:1a5e094c-b062-4a12-bd0e-4269385c32ea ]] \r\n",
       "E6 - -||> E4 [[psysml:70307247-8a04-4365-8b78-a7ff4bcf8dda ]] \r\n",
       "E7 - -:|> E3 [[psysml:e2fe589c-f14e-47a5-aaf0-9a8ebd450a7c ]] \r\n",
       "E7 o- - E8 [[psysml:ca64ac56-097c-4feb-943f-895d8fc6b637 ]] \r\n",
       "E6 -[thickness=3]- E8 [[psysml:f1f85c24-6beb-4ed4-abfc-161aeb53ad8b ]] \r\n",
       "E6 -[thickness=3]- E8 [[psysml:92c8a956-0030-45f2-8c30-896629fb0abd ]] \r\n",
       "@enduml\r\n",
       "\n",
       "PlantUML version 1.2022.7(Mon Aug 22 17:01:30 UTC 2022)\n",
       "(EPL source distribution)\n",
       "Java Runtime: OpenJDK Runtime Environment\n",
       "JVM: OpenJDK 64-Bit Server VM\n",
       "Default Encoding: UTF-8\n",
       "Language: en\n",
       "Country: null\n",
       "--></g></svg>"
      ]
     },
     "execution_count": 29,
     "metadata": {},
     "output_type": "execute_result"
    }
   ],
   "source": [
    "%viz --style=\"STDCOLOR\" --view=\"MIXED\" \"AliasTest\""
   ]
  },
  {
   "cell_type": "code",
   "execution_count": 30,
   "id": "b725574a",
   "metadata": {
    "execution": {
     "iopub.execute_input": "2024-12-16T03:25:13.261581Z",
     "iopub.status.busy": "2024-12-16T03:25:13.261362Z",
     "iopub.status.idle": "2024-12-16T03:25:13.418185Z",
     "shell.execute_reply": "2024-12-16T03:25:13.418003Z"
    }
   },
   "outputs": [
    {
     "data": {
      "image/svg+xml": [
       "<?xml version=\"1.0\" encoding=\"UTF-8\" standalone=\"no\"?><svg xmlns=\"http://www.w3.org/2000/svg\" xmlns:xlink=\"http://www.w3.org/1999/xlink\" contentStyleType=\"text/css\" height=\"374px\" preserveAspectRatio=\"none\" style=\"width:498px;height:374px;background:#FFFFFF;\" version=\"1.1\" viewBox=\"0 0 498 374\" width=\"498px\" zoomAndPan=\"magnify\"><defs/><g><!--MD5=[fbc87193dbaf4d95561dea2c320d4a47]\n",
       "cluster E1--><g id=\"cluster_E1\"><a href=\"psysml:a1c2986a-a425-4687-93ae-51674f2ada97\" target=\"_top\" title=\"psysml:a1c2986a-a425-4687-93ae-51674f2ada97\" xlink:actuate=\"onRequest\" xlink:href=\"psysml:a1c2986a-a425-4687-93ae-51674f2ada97\" xlink:show=\"new\" xlink:title=\"psysml:a1c2986a-a425-4687-93ae-51674f2ada97\" xlink:type=\"simple\"><path d=\"M8.5,6 L75.4375,6 A3.75,3.75 0 0 1 77.9375,8.5 L84.9375,28.2969 L488.5,28.2969 A2.5,2.5 0 0 1 491,30.7969 L491,364.5 A2.5,2.5 0 0 1 488.5,367 L8.5,367 A2.5,2.5 0 0 1 6,364.5 L6,8.5 A2.5,2.5 0 0 1 8.5,6 \" fill=\"none\" style=\"stroke:#000000;stroke-width:1.5;\"/><line style=\"stroke:#000000;stroke-width:1.5;\" x1=\"6\" x2=\"84.9375\" y1=\"28.2969\" y2=\"28.2969\"/><text fill=\"#000000\" font-family=\"sans-serif\" font-size=\"14\" font-weight=\"bold\" lengthAdjust=\"spacing\" textLength=\"65.9375\" x=\"10\" y=\"20.9951\">AliasTest</text></a></g><!--MD5=[b4997ac47864f28c2f74865a473b2911]\n",
       "class E2--><a href=\"psysml:f27707b2-90f2-4671-96dd-49a3cebd999e\" target=\"_top\" title=\"psysml:f27707b2-90f2-4671-96dd-49a3cebd999e\" xlink:actuate=\"onRequest\" xlink:href=\"psysml:f27707b2-90f2-4671-96dd-49a3cebd999e\" xlink:show=\"new\" xlink:title=\"psysml:f27707b2-90f2-4671-96dd-49a3cebd999e\" xlink:type=\"simple\"><g id=\"elem_E2\"><rect fill=\"#F1F1F1\" height=\"48.2656\" id=\"E2\" rx=\"10\" ry=\"10\" style=\"stroke:#181818;stroke-width:0.5;\" width=\"213\" x=\"262.5\" y=\"54.5\"/><ellipse cx=\"277.5\" cy=\"74.6328\" fill=\"#FFA500\" rx=\"11\" ry=\"11\" style=\"stroke:#181818;stroke-width:1.0;\"/><path d=\"M277.5625,81.8047 Q275.4531,81.8047 274.3594,80.6797 Q273.2656,79.5547 273.2656,77.5078 L273.2656,69.4922 L275.7344,69.4922 L275.7344,77.0703 Q275.7344,78.5078 276.1875,79.1016 Q276.6406,79.6797 277.5938,79.6797 Q278.6094,79.6797 279.0313,79.0703 Q279.4688,78.4609 279.4688,77.0547 L279.4688,69.4922 L281.9375,69.4922 L281.9375,77.4922 Q281.9375,79.4766 280.8438,80.6484 Q279.7656,81.8047 277.5625,81.8047 Z \" fill=\"#000000\"/><text fill=\"#000000\" font-family=\"sans-serif\" font-size=\"12\" font-style=\"italic\" lengthAdjust=\"spacing\" textLength=\"69\" x=\"347.5\" y=\"70.6387\">«attribute»</text><text fill=\"#000000\" font-family=\"sans-serif\" font-size=\"14\" lengthAdjust=\"spacing\" textLength=\"177\" x=\"291.5\" y=\"86.4639\">b :&gt;ISQSpaceTime::width</text><line style=\"stroke:#181818;stroke-width:0.5;\" x1=\"263.5\" x2=\"474.5\" y1=\"94.7656\" y2=\"94.7656\"/></g></a><!--MD5=[09b614a08d8cba4a07c9adeb5e0fee81]\n",
       "class E3--><a href=\"psysml:d64d4abf-692a-4b0a-b1a7-ca6bfa2152dc\" target=\"_top\" title=\"psysml:d64d4abf-692a-4b0a-b1a7-ca6bfa2152dc\" xlink:actuate=\"onRequest\" xlink:href=\"psysml:d64d4abf-692a-4b0a-b1a7-ca6bfa2152dc\" xlink:show=\"new\" xlink:title=\"psysml:d64d4abf-692a-4b0a-b1a7-ca6bfa2152dc\" xlink:type=\"simple\"><g id=\"elem_E3\"><rect fill=\"#F1F1F1\" height=\"66.8156\" id=\"E3\" rx=\"2.5\" ry=\"2.5\" style=\"stroke:#181818;stroke-width:0.5;\" width=\"56\" x=\"183\" y=\"176\"/><ellipse cx=\"200.7\" cy=\"192\" fill=\"#008000\" rx=\"11\" ry=\"11\" style=\"stroke:#181818;stroke-width:1.0;\"/><path d=\"M197.5594,198.5 L197.5594,186.3594 L201.3563,186.3594 Q203.3563,186.3594 204.4031,187.0625 Q205.4656,187.7656 205.4656,189.3438 Q205.4656,190.4375 204.9656,191.1563 Q204.4813,191.875 203.6531,192.0625 L203.6531,192.1406 Q204.575,192.3594 205.1375,193.0313 Q205.7156,193.6875 205.7156,194.9531 Q205.7156,196.6094 204.6688,197.5625 Q203.6219,198.5 201.7625,198.5 L197.5594,198.5 Z M201.3406,191.1406 Q202.2313,191.1406 202.5906,190.8125 Q202.9656,190.4688 202.9656,189.7656 Q202.9656,189.0313 202.575,188.7188 Q202.1844,188.3906 201.2469,188.3906 L199.8563,188.3906 L199.8563,191.1406 L201.3406,191.1406 Z M201.5281,196.4844 Q202.4344,196.4844 202.7938,196.0469 Q203.1531,195.5938 203.1531,194.8125 Q203.1531,194.0313 202.7781,193.6406 Q202.4188,193.2344 201.4344,193.2344 L199.8563,193.2344 L199.8563,196.4844 L201.5281,196.4844 Z \" fill=\"#000000\"/><text fill=\"#000000\" font-family=\"sans-serif\" font-size=\"14\" lengthAdjust=\"spacing\" textLength=\"18\" x=\"215.3\" y=\"196.8467\">P1</text><line style=\"stroke:#181818;stroke-width:0.5;\" x1=\"184\" x2=\"238\" y1=\"208\" y2=\"208\"/><text fill=\"#000000\" font-family=\"sans-serif\" font-size=\"14\" lengthAdjust=\"spacing\" textLength=\"44\" x=\"189\" y=\"235.5139\">porig1</text><text fill=\"#000000\" font-family=\"sans-serif\" font-size=\"14\" font-style=\"italic\" lengthAdjust=\"spacing\" textLength=\"36\" x=\"193\" y=\"220.3467\">ports</text></g></a><!--MD5=[ebbe1d658d1005bcc118a6aa81145e00]\n",
       "class E4--><a href=\"psysml:61764694-1d1c-48ba-adaa-4bba53d3d30f\" target=\"_top\" title=\"psysml:61764694-1d1c-48ba-adaa-4bba53d3d30f\" xlink:actuate=\"onRequest\" xlink:href=\"psysml:61764694-1d1c-48ba-adaa-4bba53d3d30f\" xlink:show=\"new\" xlink:title=\"psysml:61764694-1d1c-48ba-adaa-4bba53d3d30f\" xlink:type=\"simple\"><g id=\"elem_E4\"><rect fill=\"#F1F1F1\" height=\"48.2656\" id=\"E4\" rx=\"10\" ry=\"10\" style=\"stroke:#181818;stroke-width:0.5;\" width=\"84\" x=\"169\" y=\"303\"/><ellipse cx=\"184\" cy=\"323.1328\" fill=\"#0000FF\" rx=\"11\" ry=\"11\" style=\"stroke:#181818;stroke-width:1.0;\"/><path d=\"M180.8594,329.6328 L180.8594,317.4922 L184.8906,317.4922 Q186.9844,317.4922 188,318.4766 Q189.0156,319.4453 189.0156,321.2734 Q189.0156,322.4766 188.5781,323.3828 Q188.1563,324.2891 187.2031,324.8047 Q186.2656,325.3203 184.7344,325.3203 L183.2344,325.3203 L183.2344,329.6328 L180.8594,329.6328 Z M184.4844,323.2266 Q185.5313,323.2266 186.0469,322.7422 Q186.5781,322.2578 186.5781,321.3672 Q186.5781,320.4766 186.1406,320.0391 Q185.7188,319.5859 184.7969,319.5859 L183.2344,319.5859 L183.2344,323.2266 L184.4844,323.2266 Z \" fill=\"#000000\"/><text fill=\"#000000\" font-family=\"sans-serif\" font-size=\"12\" font-style=\"italic\" lengthAdjust=\"spacing\" textLength=\"40\" x=\"204\" y=\"319.1387\">«port»</text><text fill=\"#000000\" font-family=\"sans-serif\" font-size=\"14\" lengthAdjust=\"spacing\" textLength=\"44\" x=\"198\" y=\"334.9639\">porig1</text><line style=\"stroke:#181818;stroke-width:0.5;\" x1=\"170\" x2=\"252\" y1=\"343.2656\" y2=\"343.2656\"/></g></a><!--MD5=[270fce915f116d4de14055a7c1d9a0f3]\n",
       "class E5--><a href=\"psysml:e8b71076-5181-45d8-952d-6c6c3b8ab27b\" target=\"_top\" title=\"psysml:e8b71076-5181-45d8-952d-6c6c3b8ab27b\" xlink:actuate=\"onRequest\" xlink:href=\"psysml:e8b71076-5181-45d8-952d-6c6c3b8ab27b\" xlink:show=\"new\" xlink:title=\"psysml:e8b71076-5181-45d8-952d-6c6c3b8ab27b\" xlink:type=\"simple\"><g id=\"elem_E5\"><rect fill=\"#F1F1F1\" height=\"48.2656\" id=\"E5\" rx=\"10\" ry=\"10\" style=\"stroke:#181818;stroke-width:0.5;\" width=\"85\" x=\"142.5\" y=\"54.5\"/><ellipse cx=\"157.5\" cy=\"74.6328\" fill=\"#32CD32\" rx=\"11\" ry=\"11\" style=\"stroke:#181818;stroke-width:1.0;\"/><path d=\"M154.3594,81.1328 L154.3594,68.9922 L158.3906,68.9922 Q160.4844,68.9922 161.5,69.9766 Q162.5156,70.9453 162.5156,72.7734 Q162.5156,73.9766 162.0781,74.8828 Q161.6563,75.7891 160.7031,76.3047 Q159.7656,76.8203 158.2344,76.8203 L156.7344,76.8203 L156.7344,81.1328 L154.3594,81.1328 Z M157.9844,74.7266 Q159.0313,74.7266 159.5469,74.2422 Q160.0781,73.7578 160.0781,72.8672 Q160.0781,71.9766 159.6406,71.5391 Q159.2188,71.0859 158.2969,71.0859 L156.7344,71.0859 L156.7344,74.7266 L157.9844,74.7266 Z \" fill=\"#000000\"/><text fill=\"#000000\" font-family=\"sans-serif\" font-size=\"12\" font-style=\"italic\" lengthAdjust=\"spacing\" textLength=\"40\" x=\"178\" y=\"70.6387\">«part»</text><text fill=\"#000000\" font-family=\"sans-serif\" font-size=\"14\" lengthAdjust=\"spacing\" textLength=\"45\" x=\"171.5\" y=\"86.4639\">p1: P1</text><line style=\"stroke:#181818;stroke-width:0.5;\" x1=\"143.5\" x2=\"226.5\" y1=\"94.7656\" y2=\"94.7656\"/></g></a><!--MD5=[60a26617385b1d2d0262a64233df1f8d]\n",
       "class E6--><a href=\"psysml:d614f44e-5180-4509-9cc1-1632afa7b11f\" target=\"_top\" title=\"psysml:d614f44e-5180-4509-9cc1-1632afa7b11f\" xlink:actuate=\"onRequest\" xlink:href=\"psysml:d614f44e-5180-4509-9cc1-1632afa7b11f\" xlink:show=\"new\" xlink:title=\"psysml:d614f44e-5180-4509-9cc1-1632afa7b11f\" xlink:type=\"simple\"><g id=\"elem_E6\"><rect fill=\"#F1F1F1\" height=\"48.2656\" id=\"E6\" rx=\"10\" ry=\"10\" style=\"stroke:#181818;stroke-width:0.5;\" width=\"68\" x=\"80\" y=\"185.5\"/><ellipse cx=\"95\" cy=\"205.6328\" fill=\"#0000FF\" rx=\"11\" ry=\"11\" style=\"stroke:#181818;stroke-width:1.0;\"/><path d=\"M91.8594,212.1328 L91.8594,199.9922 L95.8906,199.9922 Q97.9844,199.9922 99,200.9766 Q100.0156,201.9453 100.0156,203.7734 Q100.0156,204.9766 99.5781,205.8828 Q99.1563,206.7891 98.2031,207.3047 Q97.2656,207.8203 95.7344,207.8203 L94.2344,207.8203 L94.2344,212.1328 L91.8594,212.1328 Z M95.4844,205.7266 Q96.5313,205.7266 97.0469,205.2422 Q97.5781,204.7578 97.5781,203.8672 Q97.5781,202.9766 97.1406,202.5391 Q96.7188,202.0859 95.7969,202.0859 L94.2344,202.0859 L94.2344,205.7266 L95.4844,205.7266 Z \" fill=\"#000000\"/><text fill=\"#000000\" font-family=\"sans-serif\" font-size=\"12\" font-style=\"italic\" lengthAdjust=\"spacing\" textLength=\"40\" x=\"107\" y=\"201.6387\">«port»</text><text fill=\"#000000\" font-family=\"sans-serif\" font-size=\"14\" lengthAdjust=\"spacing\" textLength=\"27\" x=\"109.5\" y=\"217.4639\">po1</text><line style=\"stroke:#181818;stroke-width:0.5;\" x1=\"81\" x2=\"147\" y1=\"225.7656\" y2=\"225.7656\"/></g></a><!--MD5=[2156ba9850f5573cc1fc38a6a4b2f02b]\n",
       "class E7--><a href=\"psysml:8277226e-c173-411e-8d8e-d31bb811c94b\" target=\"_top\" title=\"psysml:8277226e-c173-411e-8d8e-d31bb811c94b\" xlink:actuate=\"onRequest\" xlink:href=\"psysml:8277226e-c173-411e-8d8e-d31bb811c94b\" xlink:show=\"new\" xlink:title=\"psysml:8277226e-c173-411e-8d8e-d31bb811c94b\" xlink:type=\"simple\"><g id=\"elem_E7\"><rect fill=\"#F1F1F1\" height=\"75.0813\" id=\"E7\" rx=\"10\" ry=\"10\" style=\"stroke:#181818;stroke-width:0.5;\" width=\"85\" x=\"22.5\" y=\"41\"/><ellipse cx=\"37.5\" cy=\"61.1328\" fill=\"#32CD32\" rx=\"11\" ry=\"11\" style=\"stroke:#181818;stroke-width:1.0;\"/><path d=\"M34.3594,67.6328 L34.3594,55.4922 L38.3906,55.4922 Q40.4844,55.4922 41.5,56.4766 Q42.5156,57.4453 42.5156,59.2734 Q42.5156,60.4766 42.0781,61.3828 Q41.6563,62.2891 40.7031,62.8047 Q39.7656,63.3203 38.2344,63.3203 L36.7344,63.3203 L36.7344,67.6328 L34.3594,67.6328 Z M37.9844,61.2266 Q39.0313,61.2266 39.5469,60.7422 Q40.0781,60.2578 40.0781,59.3672 Q40.0781,58.4766 39.6406,58.0391 Q39.2188,57.5859 38.2969,57.5859 L36.7344,57.5859 L36.7344,61.2266 L37.9844,61.2266 Z \" fill=\"#000000\"/><text fill=\"#000000\" font-family=\"sans-serif\" font-size=\"12\" font-style=\"italic\" lengthAdjust=\"spacing\" textLength=\"40\" x=\"58\" y=\"57.1387\">«part»</text><text fill=\"#000000\" font-family=\"sans-serif\" font-size=\"14\" lengthAdjust=\"spacing\" textLength=\"45\" x=\"51.5\" y=\"72.9639\">p2: P1</text><line style=\"stroke:#181818;stroke-width:0.5;\" x1=\"23.5\" x2=\"106.5\" y1=\"81.2656\" y2=\"81.2656\"/><text fill=\"#000000\" font-family=\"sans-serif\" font-size=\"14\" lengthAdjust=\"spacing\" textLength=\"40\" x=\"28.5\" y=\"108.7795\">pdest</text><text fill=\"#000000\" font-family=\"sans-serif\" font-size=\"14\" font-style=\"italic\" lengthAdjust=\"spacing\" textLength=\"36\" x=\"47\" y=\"93.6123\">ports</text></g></a><!--MD5=[b9389687b975829384b498ac4b7476b2]\n",
       "class E8--><a href=\"psysml:88f12717-b335-4bfa-a952-2b65a00cb7af\" target=\"_top\" title=\"psysml:88f12717-b335-4bfa-a952-2b65a00cb7af\" xlink:actuate=\"onRequest\" xlink:href=\"psysml:88f12717-b335-4bfa-a952-2b65a00cb7af\" xlink:show=\"new\" xlink:title=\"psysml:88f12717-b335-4bfa-a952-2b65a00cb7af\" xlink:type=\"simple\"><g id=\"elem_E8\"><rect fill=\"#F1F1F1\" height=\"48.2656\" id=\"E8\" rx=\"10\" ry=\"10\" style=\"stroke:#181818;stroke-width:0.5;\" width=\"80\" x=\"54\" y=\"303\"/><ellipse cx=\"69\" cy=\"323.1328\" fill=\"#0000FF\" rx=\"11\" ry=\"11\" style=\"stroke:#181818;stroke-width:1.0;\"/><path d=\"M65.8594,329.6328 L65.8594,317.4922 L69.8906,317.4922 Q71.9844,317.4922 73,318.4766 Q74.0156,319.4453 74.0156,321.2734 Q74.0156,322.4766 73.5781,323.3828 Q73.1563,324.2891 72.2031,324.8047 Q71.2656,325.3203 69.7344,325.3203 L68.2344,325.3203 L68.2344,329.6328 L65.8594,329.6328 Z M69.4844,323.2266 Q70.5313,323.2266 71.0469,322.7422 Q71.5781,322.2578 71.5781,321.3672 Q71.5781,320.4766 71.1406,320.0391 Q70.7188,319.5859 69.7969,319.5859 L68.2344,319.5859 L68.2344,323.2266 L69.4844,323.2266 Z \" fill=\"#000000\"/><text fill=\"#000000\" font-family=\"sans-serif\" font-size=\"12\" font-style=\"italic\" lengthAdjust=\"spacing\" textLength=\"40\" x=\"87\" y=\"319.1387\">«port»</text><text fill=\"#000000\" font-family=\"sans-serif\" font-size=\"14\" lengthAdjust=\"spacing\" textLength=\"40\" x=\"83\" y=\"334.9639\">pdest</text><line style=\"stroke:#181818;stroke-width:0.5;\" x1=\"55\" x2=\"133\" y1=\"343.2656\" y2=\"343.2656\"/></g></a><!--MD5=[4672eba38e49728da53d11aeb285b987]\n",
       "reverse link E3 to E4--><g id=\"link_E3_E4\"><a href=\"psysml:9ff7bfb9-db47-4597-ac60-7f24b5e1b5c0\" target=\"_top\" title=\"psysml:9ff7bfb9-db47-4597-ac60-7f24b5e1b5c0\" xlink:actuate=\"onRequest\" xlink:href=\"psysml:9ff7bfb9-db47-4597-ac60-7f24b5e1b5c0\" xlink:show=\"new\" xlink:title=\"psysml:9ff7bfb9-db47-4597-ac60-7f24b5e1b5c0\" xlink:type=\"simple\"><path d=\"M211,256.72 C211,272.5 211,289.47 211,302.67 \" fill=\"none\" id=\"E3-backto-E4\" style=\"stroke:#181818;stroke-width:1.0;\"/><polygon fill=\"none\" points=\"211,243.29,207,249.29,211,255.29,215,249.29,211,243.29\" style=\"stroke:#181818;stroke-width:1.0;\"/></a></g><!--MD5=[e9be52314489bd878ff4c7144b63c9e1]\n",
       "link E5 to E3--><g id=\"link_E5_E3\"><a href=\"psysml:515868c5-6015-4da5-b3ff-32117e872914\" target=\"_top\" title=\"psysml:515868c5-6015-4da5-b3ff-32117e872914\" xlink:actuate=\"onRequest\" xlink:href=\"psysml:515868c5-6015-4da5-b3ff-32117e872914\" xlink:show=\"new\" xlink:title=\"psysml:515868c5-6015-4da5-b3ff-32117e872914\" xlink:type=\"simple\"><path d=\"M189.65,102.56 C192.66,117.49 196.7,137.56 200.46,156.21 \" fill=\"none\" id=\"E5-to-E3\" style=\"stroke:#181818;stroke-width:1.0;\"/><polygon fill=\"#FFFFFF\" points=\"204.44,175.95,193.8328,158.7022,207.5582,155.9431,204.44,175.95\" style=\"stroke:#181818;stroke-width:1.0;\"/><ellipse cx=\"194.6703\" cy=\"152.7198\" fill=\"#181818\" rx=\"2\" ry=\"2\" style=\"stroke:#181818;stroke-width:1.0;\"/><ellipse cx=\"204.4741\" cy=\"150.749\" fill=\"#181818\" rx=\"2\" ry=\"2\" style=\"stroke:#181818;stroke-width:1.0;\"/></a></g><!--MD5=[85d356282659285ab4b2cfe2f634dd2b]\n",
       "reverse link E5 to E6--><g id=\"link_E5_E6\"><a href=\"psysml:1a5e094c-b062-4a12-bd0e-4269385c32ea\" target=\"_top\" title=\"psysml:1a5e094c-b062-4a12-bd0e-4269385c32ea\" xlink:actuate=\"onRequest\" xlink:href=\"psysml:1a5e094c-b062-4a12-bd0e-4269385c32ea\" xlink:show=\"new\" xlink:title=\"psysml:1a5e094c-b062-4a12-bd0e-4269385c32ea\" xlink:type=\"simple\"><path d=\"M166,114.01 C153.6,136.54 137.75,165.35 126.82,185.2 \" fill=\"none\" id=\"E5-backto-E6\" style=\"stroke:#181818;stroke-width:1.0;\"/><polygon fill=\"none\" points=\"172.31,102.56,165.9115,105.8856,166.5204,113.071,172.9189,109.7454,172.31,102.56\" style=\"stroke:#181818;stroke-width:1.0;\"/></a></g><!--MD5=[f667431f98296947986a1a7595a31603]\n",
       "link E6 to E4--><g id=\"link_E6_E4\"><a href=\"psysml:70307247-8a04-4365-8b78-a7ff4bcf8dda\" target=\"_top\" title=\"psysml:70307247-8a04-4365-8b78-a7ff4bcf8dda\" xlink:actuate=\"onRequest\" xlink:href=\"psysml:70307247-8a04-4365-8b78-a7ff4bcf8dda\" xlink:show=\"new\" xlink:title=\"psysml:70307247-8a04-4365-8b78-a7ff4bcf8dda\" xlink:type=\"simple\"><path d=\"M133.4,233.6 C146.35,249.02 163.7,269.67 178.7,287.55 \" fill=\"none\" id=\"E6-to-E4\" style=\"stroke:#181818;stroke-width:1.0;\"/><polygon fill=\"#FFFFFF\" points=\"191.64,302.94,174.0667,292.8813,184.793,283.8843,191.64,302.94\" style=\"stroke:#181818;stroke-width:1.0;\"/><line style=\"stroke:#181818;stroke-width:2.0;\" x1=\"171.6246\" x2=\"182.351\" y1=\"289.9698\" y2=\"280.9729\"/></a></g><!--MD5=[14ccda38c055a5c0da953d572bc50960]\n",
       "link E7 to E3--><g id=\"link_E7_E3\"><a href=\"psysml:e2fe589c-f14e-47a5-aaf0-9a8ebd450a7c\" target=\"_top\" title=\"psysml:e2fe589c-f14e-47a5-aaf0-9a8ebd450a7c\" xlink:actuate=\"onRequest\" xlink:href=\"psysml:e2fe589c-f14e-47a5-aaf0-9a8ebd450a7c\" xlink:show=\"new\" xlink:title=\"psysml:e2fe589c-f14e-47a5-aaf0-9a8ebd450a7c\" xlink:type=\"simple\"><path d=\"M106.45,116.12 C125.64,133.08 148.44,153.23 167.85,170.37 \" fill=\"none\" id=\"E7-to-E3\" style=\"stroke:#181818;stroke-width:1.0;\"/><polygon fill=\"#FFFFFF\" points=\"182.87,183.64,163.9973,176.3038,173.2679,165.8131,182.87,183.64\" style=\"stroke:#181818;stroke-width:1.0;\"/><ellipse cx=\"161.0504\" cy=\"171.0306\" fill=\"#181818\" rx=\"2\" ry=\"2\" style=\"stroke:#181818;stroke-width:1.0;\"/><ellipse cx=\"167.6723\" cy=\"163.5373\" fill=\"#181818\" rx=\"2\" ry=\"2\" style=\"stroke:#181818;stroke-width:1.0;\"/></a></g><!--MD5=[dc164f5e8a733ab456ef1add180e9e34]\n",
       "reverse link E7 to E8--><g id=\"link_E7_E8\"><a href=\"psysml:ca64ac56-097c-4feb-943f-895d8fc6b637\" target=\"_top\" title=\"psysml:ca64ac56-097c-4feb-943f-895d8fc6b637\" xlink:actuate=\"onRequest\" xlink:href=\"psysml:ca64ac56-097c-4feb-943f-895d8fc6b637\" xlink:show=\"new\" xlink:title=\"psysml:ca64ac56-097c-4feb-943f-895d8fc6b637\" xlink:type=\"simple\"><path d=\"M59.5,129.46 C57.11,162.04 56.2,205.36 63,243 C66.77,263.89 75.49,286.38 82.72,302.67 \" fill=\"none\" id=\"E7-backto-E8\" style=\"stroke:#181818;stroke-width:1.0;\"/><polygon fill=\"none\" points=\"60.6,116.2,56.1192,121.85,59.6111,128.1592,64.0919,122.5092,60.6,116.2\" style=\"stroke:#181818;stroke-width:1.0;\"/></a></g><!--MD5=[0a839d0f80c2d72d4b9b307f046d0de8]\n",
       "link E6 to E8--><g id=\"link_E6_E8\"><a href=\"psysml:f1f85c24-6beb-4ed4-abfc-161aeb53ad8b\" target=\"_top\" title=\"psysml:f1f85c24-6beb-4ed4-abfc-161aeb53ad8b\" xlink:actuate=\"onRequest\" xlink:href=\"psysml:f1f85c24-6beb-4ed4-abfc-161aeb53ad8b\" xlink:show=\"new\" xlink:title=\"psysml:f1f85c24-6beb-4ed4-abfc-161aeb53ad8b\" xlink:type=\"simple\"><path d=\"M99.56,233.6 C92.99,253.74 87.96,282.81 87.56,302.94 \" fill=\"none\" id=\"E6-E8\" style=\"stroke:#181818;stroke-width:3.0;\"/></a></g><!--MD5=[0a839d0f80c2d72d4b9b307f046d0de8]\n",
       "link E6 to E8--><g id=\"link_E6_E8\"><a href=\"psysml:92c8a956-0030-45f2-8c30-896629fb0abd\" target=\"_top\" title=\"psysml:92c8a956-0030-45f2-8c30-896629fb0abd\" xlink:actuate=\"onRequest\" xlink:href=\"psysml:92c8a956-0030-45f2-8c30-896629fb0abd\" xlink:show=\"new\" xlink:title=\"psysml:92c8a956-0030-45f2-8c30-896629fb0abd\" xlink:type=\"simple\"><path d=\"M121.05,233.6 C120.83,253.74 115.79,282.81 109.04,302.94 \" fill=\"none\" id=\"E6-E8-1\" style=\"stroke:#181818;stroke-width:3.0;\"/></a></g><!--MD5=[76b1d7495f47bc074d22d87d3c3cd578]\n",
       "@startuml\r\n",
       " \r\n",
       "package \"AliasTest\" as E1  [[psysml:a1c2986a-a425-4687-93ae-51674f2ada97 ]]  {\r\n",
       "comp usage \"b :>ISQSpaceTime::width \" as E2  << <<(U,orange) attribute>> [[psysml:f27707b2-90f2-4671-96dd-49a3cebd999e ]] {\r\n",
       "}\r\n",
       "comp def \"P1\" as E3  << << (B,green) >> [[psysml:d64d4abf-692a-4b0a-b1a7-ca6bfa2152dc ]] {\r\n",
       "##//ports//##\r\n",
       "porig1\r\n",
       "}\r\n",
       "comp usage \"porig1  \" as E4  << << (P,blue) port>> [[psysml:61764694-1d1c-48ba-adaa-4bba53d3d30f ]] {\r\n",
       "}\r\n",
       "comp usage \"p1: P1  \" as E5  << << (P,limegreen) part>> [[psysml:e8b71076-5181-45d8-952d-6c6c3b8ab27b ]] {\r\n",
       "}\r\n",
       "comp usage \"po1  \" as E6  << << (P,blue) port>> [[psysml:d614f44e-5180-4509-9cc1-1632afa7b11f ]] {\r\n",
       "}\r\n",
       "comp usage \"p2: P1  \" as E7  << << (P,limegreen) part>> [[psysml:8277226e-c173-411e-8d8e-d31bb811c94b ]] {\r\n",
       "##//ports//##\r\n",
       "pdest\r\n",
       "}\r\n",
       "comp usage \"pdest  \" as E8  << << (P,blue) port>> [[psysml:88f12717-b335-4bfa-a952-2b65a00cb7af ]] {\r\n",
       "}\r\n",
       "}\r\n",
       "E3 o- - E4 [[psysml:9ff7bfb9-db47-4597-ac60-7f24b5e1b5c0 ]] \r\n",
       "E5 - -:|> E3 [[psysml:515868c5-6015-4da5-b3ff-32117e872914 ]] \r\n",
       "E5 o- - E6 [[psysml:1a5e094c-b062-4a12-bd0e-4269385c32ea ]] \r\n",
       "E6 - -||> E4 [[psysml:70307247-8a04-4365-8b78-a7ff4bcf8dda ]] \r\n",
       "E7 - -:|> E3 [[psysml:e2fe589c-f14e-47a5-aaf0-9a8ebd450a7c ]] \r\n",
       "E7 o- - E8 [[psysml:ca64ac56-097c-4feb-943f-895d8fc6b637 ]] \r\n",
       "E6 -[thickness=3]- E8 [[psysml:f1f85c24-6beb-4ed4-abfc-161aeb53ad8b ]] \r\n",
       "E6 -[thickness=3]- E8 [[psysml:92c8a956-0030-45f2-8c30-896629fb0abd ]] \r\n",
       "@enduml\r\n",
       "\n",
       "PlantUML version 1.2022.7(Mon Aug 22 17:01:30 UTC 2022)\n",
       "(EPL source distribution)\n",
       "Java Runtime: OpenJDK Runtime Environment\n",
       "JVM: OpenJDK 64-Bit Server VM\n",
       "Default Encoding: UTF-8\n",
       "Language: en\n",
       "Country: null\n",
       "--></g></svg>"
      ]
     },
     "execution_count": 30,
     "metadata": {},
     "output_type": "execute_result"
    }
   ],
   "source": [
    "%viz --style=\"PLANTUML\" --view=\"Default\" \"AliasTest\""
   ]
  },
  {
   "cell_type": "code",
   "execution_count": 31,
   "id": "3546ecca",
   "metadata": {
    "execution": {
     "iopub.execute_input": "2024-12-16T03:25:13.474322Z",
     "iopub.status.busy": "2024-12-16T03:25:13.474107Z",
     "iopub.status.idle": "2024-12-16T03:25:13.501423Z",
     "shell.execute_reply": "2024-12-16T03:25:13.500547Z"
    }
   },
   "outputs": [
    {
     "data": {
      "image/svg+xml": [
       "<?xml version=\"1.0\" encoding=\"UTF-8\" standalone=\"no\"?><svg xmlns=\"http://www.w3.org/2000/svg\" xmlns:xlink=\"http://www.w3.org/1999/xlink\" contentStyleType=\"text/css\" height=\"374px\" preserveAspectRatio=\"none\" style=\"width:498px;height:374px;background:#FFFFFF;\" version=\"1.1\" viewBox=\"0 0 498 374\" width=\"498px\" zoomAndPan=\"magnify\"><defs/><g><!--MD5=[fbc87193dbaf4d95561dea2c320d4a47]\n",
       "cluster E1--><g id=\"cluster_E1\"><a href=\"psysml:a1c2986a-a425-4687-93ae-51674f2ada97\" target=\"_top\" title=\"psysml:a1c2986a-a425-4687-93ae-51674f2ada97\" xlink:actuate=\"onRequest\" xlink:href=\"psysml:a1c2986a-a425-4687-93ae-51674f2ada97\" xlink:show=\"new\" xlink:title=\"psysml:a1c2986a-a425-4687-93ae-51674f2ada97\" xlink:type=\"simple\"><path d=\"M8.5,6 L75.4375,6 A3.75,3.75 0 0 1 77.9375,8.5 L84.9375,28.2969 L488.5,28.2969 A2.5,2.5 0 0 1 491,30.7969 L491,364.5 A2.5,2.5 0 0 1 488.5,367 L8.5,367 A2.5,2.5 0 0 1 6,364.5 L6,8.5 A2.5,2.5 0 0 1 8.5,6 \" fill=\"none\" style=\"stroke:#000000;stroke-width:1.5;\"/><line style=\"stroke:#000000;stroke-width:1.5;\" x1=\"6\" x2=\"84.9375\" y1=\"28.2969\" y2=\"28.2969\"/><text fill=\"#000000\" font-family=\"sans-serif\" font-size=\"14\" font-weight=\"bold\" lengthAdjust=\"spacing\" textLength=\"65.9375\" x=\"10\" y=\"20.9951\">AliasTest</text></a></g><!--MD5=[b4997ac47864f28c2f74865a473b2911]\n",
       "class E2--><a href=\"psysml:f27707b2-90f2-4671-96dd-49a3cebd999e\" target=\"_top\" title=\"psysml:f27707b2-90f2-4671-96dd-49a3cebd999e\" xlink:actuate=\"onRequest\" xlink:href=\"psysml:f27707b2-90f2-4671-96dd-49a3cebd999e\" xlink:show=\"new\" xlink:title=\"psysml:f27707b2-90f2-4671-96dd-49a3cebd999e\" xlink:type=\"simple\"><g id=\"elem_E2\"><rect fill=\"#F1F1F1\" height=\"48.2656\" id=\"E2\" rx=\"10\" ry=\"10\" style=\"stroke:#181818;stroke-width:0.5;\" width=\"213\" x=\"262.5\" y=\"54.5\"/><ellipse cx=\"277.5\" cy=\"74.6328\" fill=\"#FFA500\" rx=\"11\" ry=\"11\" style=\"stroke:#181818;stroke-width:1.0;\"/><path d=\"M277.5625,81.8047 Q275.4531,81.8047 274.3594,80.6797 Q273.2656,79.5547 273.2656,77.5078 L273.2656,69.4922 L275.7344,69.4922 L275.7344,77.0703 Q275.7344,78.5078 276.1875,79.1016 Q276.6406,79.6797 277.5938,79.6797 Q278.6094,79.6797 279.0313,79.0703 Q279.4688,78.4609 279.4688,77.0547 L279.4688,69.4922 L281.9375,69.4922 L281.9375,77.4922 Q281.9375,79.4766 280.8438,80.6484 Q279.7656,81.8047 277.5625,81.8047 Z \" fill=\"#000000\"/><text fill=\"#000000\" font-family=\"sans-serif\" font-size=\"12\" font-style=\"italic\" lengthAdjust=\"spacing\" textLength=\"69\" x=\"347.5\" y=\"70.6387\">«attribute»</text><text fill=\"#000000\" font-family=\"sans-serif\" font-size=\"14\" lengthAdjust=\"spacing\" textLength=\"177\" x=\"291.5\" y=\"86.4639\">b :&gt;ISQSpaceTime::width</text><line style=\"stroke:#181818;stroke-width:0.5;\" x1=\"263.5\" x2=\"474.5\" y1=\"94.7656\" y2=\"94.7656\"/></g></a><!--MD5=[09b614a08d8cba4a07c9adeb5e0fee81]\n",
       "class E3--><a href=\"psysml:d64d4abf-692a-4b0a-b1a7-ca6bfa2152dc\" target=\"_top\" title=\"psysml:d64d4abf-692a-4b0a-b1a7-ca6bfa2152dc\" xlink:actuate=\"onRequest\" xlink:href=\"psysml:d64d4abf-692a-4b0a-b1a7-ca6bfa2152dc\" xlink:show=\"new\" xlink:title=\"psysml:d64d4abf-692a-4b0a-b1a7-ca6bfa2152dc\" xlink:type=\"simple\"><g id=\"elem_E3\"><rect fill=\"#F1F1F1\" height=\"66.8156\" id=\"E3\" rx=\"2.5\" ry=\"2.5\" style=\"stroke:#181818;stroke-width:0.5;\" width=\"56\" x=\"183\" y=\"176\"/><ellipse cx=\"200.7\" cy=\"192\" fill=\"#008000\" rx=\"11\" ry=\"11\" style=\"stroke:#181818;stroke-width:1.0;\"/><path d=\"M197.5594,198.5 L197.5594,186.3594 L201.3563,186.3594 Q203.3563,186.3594 204.4031,187.0625 Q205.4656,187.7656 205.4656,189.3438 Q205.4656,190.4375 204.9656,191.1563 Q204.4813,191.875 203.6531,192.0625 L203.6531,192.1406 Q204.575,192.3594 205.1375,193.0313 Q205.7156,193.6875 205.7156,194.9531 Q205.7156,196.6094 204.6688,197.5625 Q203.6219,198.5 201.7625,198.5 L197.5594,198.5 Z M201.3406,191.1406 Q202.2313,191.1406 202.5906,190.8125 Q202.9656,190.4688 202.9656,189.7656 Q202.9656,189.0313 202.575,188.7188 Q202.1844,188.3906 201.2469,188.3906 L199.8563,188.3906 L199.8563,191.1406 L201.3406,191.1406 Z M201.5281,196.4844 Q202.4344,196.4844 202.7938,196.0469 Q203.1531,195.5938 203.1531,194.8125 Q203.1531,194.0313 202.7781,193.6406 Q202.4188,193.2344 201.4344,193.2344 L199.8563,193.2344 L199.8563,196.4844 L201.5281,196.4844 Z \" fill=\"#000000\"/><text fill=\"#000000\" font-family=\"sans-serif\" font-size=\"14\" lengthAdjust=\"spacing\" textLength=\"18\" x=\"215.3\" y=\"196.8467\">P1</text><line style=\"stroke:#181818;stroke-width:0.5;\" x1=\"184\" x2=\"238\" y1=\"208\" y2=\"208\"/><text fill=\"#000000\" font-family=\"sans-serif\" font-size=\"14\" lengthAdjust=\"spacing\" textLength=\"44\" x=\"189\" y=\"235.5139\">porig1</text><text fill=\"#000000\" font-family=\"sans-serif\" font-size=\"14\" font-style=\"italic\" lengthAdjust=\"spacing\" textLength=\"36\" x=\"193\" y=\"220.3467\">ports</text></g></a><!--MD5=[ebbe1d658d1005bcc118a6aa81145e00]\n",
       "class E4--><a href=\"psysml:61764694-1d1c-48ba-adaa-4bba53d3d30f\" target=\"_top\" title=\"psysml:61764694-1d1c-48ba-adaa-4bba53d3d30f\" xlink:actuate=\"onRequest\" xlink:href=\"psysml:61764694-1d1c-48ba-adaa-4bba53d3d30f\" xlink:show=\"new\" xlink:title=\"psysml:61764694-1d1c-48ba-adaa-4bba53d3d30f\" xlink:type=\"simple\"><g id=\"elem_E4\"><rect fill=\"#F1F1F1\" height=\"48.2656\" id=\"E4\" rx=\"10\" ry=\"10\" style=\"stroke:#181818;stroke-width:0.5;\" width=\"84\" x=\"169\" y=\"303\"/><ellipse cx=\"184\" cy=\"323.1328\" fill=\"#0000FF\" rx=\"11\" ry=\"11\" style=\"stroke:#181818;stroke-width:1.0;\"/><path d=\"M180.8594,329.6328 L180.8594,317.4922 L184.8906,317.4922 Q186.9844,317.4922 188,318.4766 Q189.0156,319.4453 189.0156,321.2734 Q189.0156,322.4766 188.5781,323.3828 Q188.1563,324.2891 187.2031,324.8047 Q186.2656,325.3203 184.7344,325.3203 L183.2344,325.3203 L183.2344,329.6328 L180.8594,329.6328 Z M184.4844,323.2266 Q185.5313,323.2266 186.0469,322.7422 Q186.5781,322.2578 186.5781,321.3672 Q186.5781,320.4766 186.1406,320.0391 Q185.7188,319.5859 184.7969,319.5859 L183.2344,319.5859 L183.2344,323.2266 L184.4844,323.2266 Z \" fill=\"#000000\"/><text fill=\"#000000\" font-family=\"sans-serif\" font-size=\"12\" font-style=\"italic\" lengthAdjust=\"spacing\" textLength=\"40\" x=\"204\" y=\"319.1387\">«port»</text><text fill=\"#000000\" font-family=\"sans-serif\" font-size=\"14\" lengthAdjust=\"spacing\" textLength=\"44\" x=\"198\" y=\"334.9639\">porig1</text><line style=\"stroke:#181818;stroke-width:0.5;\" x1=\"170\" x2=\"252\" y1=\"343.2656\" y2=\"343.2656\"/></g></a><!--MD5=[270fce915f116d4de14055a7c1d9a0f3]\n",
       "class E5--><a href=\"psysml:e8b71076-5181-45d8-952d-6c6c3b8ab27b\" target=\"_top\" title=\"psysml:e8b71076-5181-45d8-952d-6c6c3b8ab27b\" xlink:actuate=\"onRequest\" xlink:href=\"psysml:e8b71076-5181-45d8-952d-6c6c3b8ab27b\" xlink:show=\"new\" xlink:title=\"psysml:e8b71076-5181-45d8-952d-6c6c3b8ab27b\" xlink:type=\"simple\"><g id=\"elem_E5\"><rect fill=\"#F1F1F1\" height=\"48.2656\" id=\"E5\" rx=\"10\" ry=\"10\" style=\"stroke:#181818;stroke-width:0.5;\" width=\"85\" x=\"142.5\" y=\"54.5\"/><ellipse cx=\"157.5\" cy=\"74.6328\" fill=\"#32CD32\" rx=\"11\" ry=\"11\" style=\"stroke:#181818;stroke-width:1.0;\"/><path d=\"M154.3594,81.1328 L154.3594,68.9922 L158.3906,68.9922 Q160.4844,68.9922 161.5,69.9766 Q162.5156,70.9453 162.5156,72.7734 Q162.5156,73.9766 162.0781,74.8828 Q161.6563,75.7891 160.7031,76.3047 Q159.7656,76.8203 158.2344,76.8203 L156.7344,76.8203 L156.7344,81.1328 L154.3594,81.1328 Z M157.9844,74.7266 Q159.0313,74.7266 159.5469,74.2422 Q160.0781,73.7578 160.0781,72.8672 Q160.0781,71.9766 159.6406,71.5391 Q159.2188,71.0859 158.2969,71.0859 L156.7344,71.0859 L156.7344,74.7266 L157.9844,74.7266 Z \" fill=\"#000000\"/><text fill=\"#000000\" font-family=\"sans-serif\" font-size=\"12\" font-style=\"italic\" lengthAdjust=\"spacing\" textLength=\"40\" x=\"178\" y=\"70.6387\">«part»</text><text fill=\"#000000\" font-family=\"sans-serif\" font-size=\"14\" lengthAdjust=\"spacing\" textLength=\"45\" x=\"171.5\" y=\"86.4639\">p1: P1</text><line style=\"stroke:#181818;stroke-width:0.5;\" x1=\"143.5\" x2=\"226.5\" y1=\"94.7656\" y2=\"94.7656\"/></g></a><!--MD5=[60a26617385b1d2d0262a64233df1f8d]\n",
       "class E6--><a href=\"psysml:d614f44e-5180-4509-9cc1-1632afa7b11f\" target=\"_top\" title=\"psysml:d614f44e-5180-4509-9cc1-1632afa7b11f\" xlink:actuate=\"onRequest\" xlink:href=\"psysml:d614f44e-5180-4509-9cc1-1632afa7b11f\" xlink:show=\"new\" xlink:title=\"psysml:d614f44e-5180-4509-9cc1-1632afa7b11f\" xlink:type=\"simple\"><g id=\"elem_E6\"><rect fill=\"#F1F1F1\" height=\"48.2656\" id=\"E6\" rx=\"10\" ry=\"10\" style=\"stroke:#181818;stroke-width:0.5;\" width=\"68\" x=\"80\" y=\"185.5\"/><ellipse cx=\"95\" cy=\"205.6328\" fill=\"#0000FF\" rx=\"11\" ry=\"11\" style=\"stroke:#181818;stroke-width:1.0;\"/><path d=\"M91.8594,212.1328 L91.8594,199.9922 L95.8906,199.9922 Q97.9844,199.9922 99,200.9766 Q100.0156,201.9453 100.0156,203.7734 Q100.0156,204.9766 99.5781,205.8828 Q99.1563,206.7891 98.2031,207.3047 Q97.2656,207.8203 95.7344,207.8203 L94.2344,207.8203 L94.2344,212.1328 L91.8594,212.1328 Z M95.4844,205.7266 Q96.5313,205.7266 97.0469,205.2422 Q97.5781,204.7578 97.5781,203.8672 Q97.5781,202.9766 97.1406,202.5391 Q96.7188,202.0859 95.7969,202.0859 L94.2344,202.0859 L94.2344,205.7266 L95.4844,205.7266 Z \" fill=\"#000000\"/><text fill=\"#000000\" font-family=\"sans-serif\" font-size=\"12\" font-style=\"italic\" lengthAdjust=\"spacing\" textLength=\"40\" x=\"107\" y=\"201.6387\">«port»</text><text fill=\"#000000\" font-family=\"sans-serif\" font-size=\"14\" lengthAdjust=\"spacing\" textLength=\"27\" x=\"109.5\" y=\"217.4639\">po1</text><line style=\"stroke:#181818;stroke-width:0.5;\" x1=\"81\" x2=\"147\" y1=\"225.7656\" y2=\"225.7656\"/></g></a><!--MD5=[2156ba9850f5573cc1fc38a6a4b2f02b]\n",
       "class E7--><a href=\"psysml:8277226e-c173-411e-8d8e-d31bb811c94b\" target=\"_top\" title=\"psysml:8277226e-c173-411e-8d8e-d31bb811c94b\" xlink:actuate=\"onRequest\" xlink:href=\"psysml:8277226e-c173-411e-8d8e-d31bb811c94b\" xlink:show=\"new\" xlink:title=\"psysml:8277226e-c173-411e-8d8e-d31bb811c94b\" xlink:type=\"simple\"><g id=\"elem_E7\"><rect fill=\"#F1F1F1\" height=\"75.0813\" id=\"E7\" rx=\"10\" ry=\"10\" style=\"stroke:#181818;stroke-width:0.5;\" width=\"85\" x=\"22.5\" y=\"41\"/><ellipse cx=\"37.5\" cy=\"61.1328\" fill=\"#32CD32\" rx=\"11\" ry=\"11\" style=\"stroke:#181818;stroke-width:1.0;\"/><path d=\"M34.3594,67.6328 L34.3594,55.4922 L38.3906,55.4922 Q40.4844,55.4922 41.5,56.4766 Q42.5156,57.4453 42.5156,59.2734 Q42.5156,60.4766 42.0781,61.3828 Q41.6563,62.2891 40.7031,62.8047 Q39.7656,63.3203 38.2344,63.3203 L36.7344,63.3203 L36.7344,67.6328 L34.3594,67.6328 Z M37.9844,61.2266 Q39.0313,61.2266 39.5469,60.7422 Q40.0781,60.2578 40.0781,59.3672 Q40.0781,58.4766 39.6406,58.0391 Q39.2188,57.5859 38.2969,57.5859 L36.7344,57.5859 L36.7344,61.2266 L37.9844,61.2266 Z \" fill=\"#000000\"/><text fill=\"#000000\" font-family=\"sans-serif\" font-size=\"12\" font-style=\"italic\" lengthAdjust=\"spacing\" textLength=\"40\" x=\"58\" y=\"57.1387\">«part»</text><text fill=\"#000000\" font-family=\"sans-serif\" font-size=\"14\" lengthAdjust=\"spacing\" textLength=\"45\" x=\"51.5\" y=\"72.9639\">p2: P1</text><line style=\"stroke:#181818;stroke-width:0.5;\" x1=\"23.5\" x2=\"106.5\" y1=\"81.2656\" y2=\"81.2656\"/><text fill=\"#000000\" font-family=\"sans-serif\" font-size=\"14\" lengthAdjust=\"spacing\" textLength=\"40\" x=\"28.5\" y=\"108.7795\">pdest</text><text fill=\"#000000\" font-family=\"sans-serif\" font-size=\"14\" font-style=\"italic\" lengthAdjust=\"spacing\" textLength=\"36\" x=\"47\" y=\"93.6123\">ports</text></g></a><!--MD5=[b9389687b975829384b498ac4b7476b2]\n",
       "class E8--><a href=\"psysml:88f12717-b335-4bfa-a952-2b65a00cb7af\" target=\"_top\" title=\"psysml:88f12717-b335-4bfa-a952-2b65a00cb7af\" xlink:actuate=\"onRequest\" xlink:href=\"psysml:88f12717-b335-4bfa-a952-2b65a00cb7af\" xlink:show=\"new\" xlink:title=\"psysml:88f12717-b335-4bfa-a952-2b65a00cb7af\" xlink:type=\"simple\"><g id=\"elem_E8\"><rect fill=\"#F1F1F1\" height=\"48.2656\" id=\"E8\" rx=\"10\" ry=\"10\" style=\"stroke:#181818;stroke-width:0.5;\" width=\"80\" x=\"54\" y=\"303\"/><ellipse cx=\"69\" cy=\"323.1328\" fill=\"#0000FF\" rx=\"11\" ry=\"11\" style=\"stroke:#181818;stroke-width:1.0;\"/><path d=\"M65.8594,329.6328 L65.8594,317.4922 L69.8906,317.4922 Q71.9844,317.4922 73,318.4766 Q74.0156,319.4453 74.0156,321.2734 Q74.0156,322.4766 73.5781,323.3828 Q73.1563,324.2891 72.2031,324.8047 Q71.2656,325.3203 69.7344,325.3203 L68.2344,325.3203 L68.2344,329.6328 L65.8594,329.6328 Z M69.4844,323.2266 Q70.5313,323.2266 71.0469,322.7422 Q71.5781,322.2578 71.5781,321.3672 Q71.5781,320.4766 71.1406,320.0391 Q70.7188,319.5859 69.7969,319.5859 L68.2344,319.5859 L68.2344,323.2266 L69.4844,323.2266 Z \" fill=\"#000000\"/><text fill=\"#000000\" font-family=\"sans-serif\" font-size=\"12\" font-style=\"italic\" lengthAdjust=\"spacing\" textLength=\"40\" x=\"87\" y=\"319.1387\">«port»</text><text fill=\"#000000\" font-family=\"sans-serif\" font-size=\"14\" lengthAdjust=\"spacing\" textLength=\"40\" x=\"83\" y=\"334.9639\">pdest</text><line style=\"stroke:#181818;stroke-width:0.5;\" x1=\"55\" x2=\"133\" y1=\"343.2656\" y2=\"343.2656\"/></g></a><!--MD5=[4672eba38e49728da53d11aeb285b987]\n",
       "reverse link E3 to E4--><g id=\"link_E3_E4\"><a href=\"psysml:9ff7bfb9-db47-4597-ac60-7f24b5e1b5c0\" target=\"_top\" title=\"psysml:9ff7bfb9-db47-4597-ac60-7f24b5e1b5c0\" xlink:actuate=\"onRequest\" xlink:href=\"psysml:9ff7bfb9-db47-4597-ac60-7f24b5e1b5c0\" xlink:show=\"new\" xlink:title=\"psysml:9ff7bfb9-db47-4597-ac60-7f24b5e1b5c0\" xlink:type=\"simple\"><path d=\"M211,256.72 C211,272.5 211,289.47 211,302.67 \" fill=\"none\" id=\"E3-backto-E4\" style=\"stroke:#181818;stroke-width:1.0;\"/><polygon fill=\"none\" points=\"211,243.29,207,249.29,211,255.29,215,249.29,211,243.29\" style=\"stroke:#181818;stroke-width:1.0;\"/></a></g><!--MD5=[e9be52314489bd878ff4c7144b63c9e1]\n",
       "link E5 to E3--><g id=\"link_E5_E3\"><a href=\"psysml:515868c5-6015-4da5-b3ff-32117e872914\" target=\"_top\" title=\"psysml:515868c5-6015-4da5-b3ff-32117e872914\" xlink:actuate=\"onRequest\" xlink:href=\"psysml:515868c5-6015-4da5-b3ff-32117e872914\" xlink:show=\"new\" xlink:title=\"psysml:515868c5-6015-4da5-b3ff-32117e872914\" xlink:type=\"simple\"><path d=\"M189.65,102.56 C192.66,117.49 196.7,137.56 200.46,156.21 \" fill=\"none\" id=\"E5-to-E3\" style=\"stroke:#181818;stroke-width:1.0;\"/><polygon fill=\"#FFFFFF\" points=\"204.44,175.95,193.8328,158.7022,207.5582,155.9431,204.44,175.95\" style=\"stroke:#181818;stroke-width:1.0;\"/><ellipse cx=\"194.6703\" cy=\"152.7198\" fill=\"#181818\" rx=\"2\" ry=\"2\" style=\"stroke:#181818;stroke-width:1.0;\"/><ellipse cx=\"204.4741\" cy=\"150.749\" fill=\"#181818\" rx=\"2\" ry=\"2\" style=\"stroke:#181818;stroke-width:1.0;\"/></a></g><!--MD5=[85d356282659285ab4b2cfe2f634dd2b]\n",
       "reverse link E5 to E6--><g id=\"link_E5_E6\"><a href=\"psysml:1a5e094c-b062-4a12-bd0e-4269385c32ea\" target=\"_top\" title=\"psysml:1a5e094c-b062-4a12-bd0e-4269385c32ea\" xlink:actuate=\"onRequest\" xlink:href=\"psysml:1a5e094c-b062-4a12-bd0e-4269385c32ea\" xlink:show=\"new\" xlink:title=\"psysml:1a5e094c-b062-4a12-bd0e-4269385c32ea\" xlink:type=\"simple\"><path d=\"M166,114.01 C153.6,136.54 137.75,165.35 126.82,185.2 \" fill=\"none\" id=\"E5-backto-E6\" style=\"stroke:#181818;stroke-width:1.0;\"/><polygon fill=\"none\" points=\"172.31,102.56,165.9115,105.8856,166.5204,113.071,172.9189,109.7454,172.31,102.56\" style=\"stroke:#181818;stroke-width:1.0;\"/></a></g><!--MD5=[f667431f98296947986a1a7595a31603]\n",
       "link E6 to E4--><g id=\"link_E6_E4\"><a href=\"psysml:70307247-8a04-4365-8b78-a7ff4bcf8dda\" target=\"_top\" title=\"psysml:70307247-8a04-4365-8b78-a7ff4bcf8dda\" xlink:actuate=\"onRequest\" xlink:href=\"psysml:70307247-8a04-4365-8b78-a7ff4bcf8dda\" xlink:show=\"new\" xlink:title=\"psysml:70307247-8a04-4365-8b78-a7ff4bcf8dda\" xlink:type=\"simple\"><path d=\"M133.4,233.6 C146.35,249.02 163.7,269.67 178.7,287.55 \" fill=\"none\" id=\"E6-to-E4\" style=\"stroke:#181818;stroke-width:1.0;\"/><polygon fill=\"#FFFFFF\" points=\"191.64,302.94,174.0667,292.8813,184.793,283.8843,191.64,302.94\" style=\"stroke:#181818;stroke-width:1.0;\"/><line style=\"stroke:#181818;stroke-width:2.0;\" x1=\"171.6246\" x2=\"182.351\" y1=\"289.9698\" y2=\"280.9729\"/></a></g><!--MD5=[14ccda38c055a5c0da953d572bc50960]\n",
       "link E7 to E3--><g id=\"link_E7_E3\"><a href=\"psysml:e2fe589c-f14e-47a5-aaf0-9a8ebd450a7c\" target=\"_top\" title=\"psysml:e2fe589c-f14e-47a5-aaf0-9a8ebd450a7c\" xlink:actuate=\"onRequest\" xlink:href=\"psysml:e2fe589c-f14e-47a5-aaf0-9a8ebd450a7c\" xlink:show=\"new\" xlink:title=\"psysml:e2fe589c-f14e-47a5-aaf0-9a8ebd450a7c\" xlink:type=\"simple\"><path d=\"M106.45,116.12 C125.64,133.08 148.44,153.23 167.85,170.37 \" fill=\"none\" id=\"E7-to-E3\" style=\"stroke:#181818;stroke-width:1.0;\"/><polygon fill=\"#FFFFFF\" points=\"182.87,183.64,163.9973,176.3038,173.2679,165.8131,182.87,183.64\" style=\"stroke:#181818;stroke-width:1.0;\"/><ellipse cx=\"161.0504\" cy=\"171.0306\" fill=\"#181818\" rx=\"2\" ry=\"2\" style=\"stroke:#181818;stroke-width:1.0;\"/><ellipse cx=\"167.6723\" cy=\"163.5373\" fill=\"#181818\" rx=\"2\" ry=\"2\" style=\"stroke:#181818;stroke-width:1.0;\"/></a></g><!--MD5=[dc164f5e8a733ab456ef1add180e9e34]\n",
       "reverse link E7 to E8--><g id=\"link_E7_E8\"><a href=\"psysml:ca64ac56-097c-4feb-943f-895d8fc6b637\" target=\"_top\" title=\"psysml:ca64ac56-097c-4feb-943f-895d8fc6b637\" xlink:actuate=\"onRequest\" xlink:href=\"psysml:ca64ac56-097c-4feb-943f-895d8fc6b637\" xlink:show=\"new\" xlink:title=\"psysml:ca64ac56-097c-4feb-943f-895d8fc6b637\" xlink:type=\"simple\"><path d=\"M59.5,129.46 C57.11,162.04 56.2,205.36 63,243 C66.77,263.89 75.49,286.38 82.72,302.67 \" fill=\"none\" id=\"E7-backto-E8\" style=\"stroke:#181818;stroke-width:1.0;\"/><polygon fill=\"none\" points=\"60.6,116.2,56.1192,121.85,59.6111,128.1592,64.0919,122.5092,60.6,116.2\" style=\"stroke:#181818;stroke-width:1.0;\"/></a></g><!--MD5=[0a839d0f80c2d72d4b9b307f046d0de8]\n",
       "link E6 to E8--><g id=\"link_E6_E8\"><a href=\"psysml:f1f85c24-6beb-4ed4-abfc-161aeb53ad8b\" target=\"_top\" title=\"psysml:f1f85c24-6beb-4ed4-abfc-161aeb53ad8b\" xlink:actuate=\"onRequest\" xlink:href=\"psysml:f1f85c24-6beb-4ed4-abfc-161aeb53ad8b\" xlink:show=\"new\" xlink:title=\"psysml:f1f85c24-6beb-4ed4-abfc-161aeb53ad8b\" xlink:type=\"simple\"><path d=\"M99.56,233.6 C92.99,253.74 87.96,282.81 87.56,302.94 \" fill=\"none\" id=\"E6-E8\" style=\"stroke:#181818;stroke-width:3.0;\"/></a></g><!--MD5=[0a839d0f80c2d72d4b9b307f046d0de8]\n",
       "link E6 to E8--><g id=\"link_E6_E8\"><a href=\"psysml:92c8a956-0030-45f2-8c30-896629fb0abd\" target=\"_top\" title=\"psysml:92c8a956-0030-45f2-8c30-896629fb0abd\" xlink:actuate=\"onRequest\" xlink:href=\"psysml:92c8a956-0030-45f2-8c30-896629fb0abd\" xlink:show=\"new\" xlink:title=\"psysml:92c8a956-0030-45f2-8c30-896629fb0abd\" xlink:type=\"simple\"><path d=\"M121.05,233.6 C120.83,253.74 115.79,282.81 109.04,302.94 \" fill=\"none\" id=\"E6-E8-1\" style=\"stroke:#181818;stroke-width:3.0;\"/></a></g><!--MD5=[76b1d7495f47bc074d22d87d3c3cd578]\n",
       "@startuml\r\n",
       " \r\n",
       "package \"AliasTest\" as E1  [[psysml:a1c2986a-a425-4687-93ae-51674f2ada97 ]]  {\r\n",
       "comp usage \"b :>ISQSpaceTime::width \" as E2  << <<(U,orange) attribute>> [[psysml:f27707b2-90f2-4671-96dd-49a3cebd999e ]] {\r\n",
       "}\r\n",
       "comp def \"P1\" as E3  << << (B,green) >> [[psysml:d64d4abf-692a-4b0a-b1a7-ca6bfa2152dc ]] {\r\n",
       "##//ports//##\r\n",
       "porig1\r\n",
       "}\r\n",
       "comp usage \"porig1  \" as E4  << << (P,blue) port>> [[psysml:61764694-1d1c-48ba-adaa-4bba53d3d30f ]] {\r\n",
       "}\r\n",
       "comp usage \"p1: P1  \" as E5  << << (P,limegreen) part>> [[psysml:e8b71076-5181-45d8-952d-6c6c3b8ab27b ]] {\r\n",
       "}\r\n",
       "comp usage \"po1  \" as E6  << << (P,blue) port>> [[psysml:d614f44e-5180-4509-9cc1-1632afa7b11f ]] {\r\n",
       "}\r\n",
       "comp usage \"p2: P1  \" as E7  << << (P,limegreen) part>> [[psysml:8277226e-c173-411e-8d8e-d31bb811c94b ]] {\r\n",
       "##//ports//##\r\n",
       "pdest\r\n",
       "}\r\n",
       "comp usage \"pdest  \" as E8  << << (P,blue) port>> [[psysml:88f12717-b335-4bfa-a952-2b65a00cb7af ]] {\r\n",
       "}\r\n",
       "}\r\n",
       "E3 o- - E4 [[psysml:9ff7bfb9-db47-4597-ac60-7f24b5e1b5c0 ]] \r\n",
       "E5 - -:|> E3 [[psysml:515868c5-6015-4da5-b3ff-32117e872914 ]] \r\n",
       "E5 o- - E6 [[psysml:1a5e094c-b062-4a12-bd0e-4269385c32ea ]] \r\n",
       "E6 - -||> E4 [[psysml:70307247-8a04-4365-8b78-a7ff4bcf8dda ]] \r\n",
       "E7 - -:|> E3 [[psysml:e2fe589c-f14e-47a5-aaf0-9a8ebd450a7c ]] \r\n",
       "E7 o- - E8 [[psysml:ca64ac56-097c-4feb-943f-895d8fc6b637 ]] \r\n",
       "E6 -[thickness=3]- E8 [[psysml:f1f85c24-6beb-4ed4-abfc-161aeb53ad8b ]] \r\n",
       "E6 -[thickness=3]- E8 [[psysml:92c8a956-0030-45f2-8c30-896629fb0abd ]] \r\n",
       "@enduml\r\n",
       "\n",
       "PlantUML version 1.2022.7(Mon Aug 22 17:01:30 UTC 2022)\n",
       "(EPL source distribution)\n",
       "Java Runtime: OpenJDK Runtime Environment\n",
       "JVM: OpenJDK 64-Bit Server VM\n",
       "Default Encoding: UTF-8\n",
       "Language: en\n",
       "Country: null\n",
       "--></g></svg>"
      ]
     },
     "execution_count": 31,
     "metadata": {},
     "output_type": "execute_result"
    }
   ],
   "source": [
    "%viz --style=\"PLANTUML\" --view=\"Tree\" \"AliasTest\""
   ]
  },
  {
   "cell_type": "code",
   "execution_count": 32,
   "id": "8b4e4706",
   "metadata": {
    "execution": {
     "iopub.execute_input": "2024-12-16T03:25:13.552708Z",
     "iopub.status.busy": "2024-12-16T03:25:13.552398Z",
     "iopub.status.idle": "2024-12-16T03:25:13.590407Z",
     "shell.execute_reply": "2024-12-16T03:25:13.589614Z"
    }
   },
   "outputs": [
    {
     "data": {
      "image/svg+xml": [
       "<?xml version=\"1.0\" encoding=\"UTF-8\" standalone=\"no\"?><svg xmlns=\"http://www.w3.org/2000/svg\" xmlns:xlink=\"http://www.w3.org/1999/xlink\" contentStyleType=\"text/css\" height=\"389px\" preserveAspectRatio=\"none\" style=\"width:603px;height:389px;background:#000000;\" version=\"1.1\" viewBox=\"0 0 603 389\" width=\"603px\" zoomAndPan=\"magnify\"><defs/><g><rect fill=\"#1A0D1F\" height=\"1\" style=\"stroke:#1A0D1F;stroke-width:1.0;\" width=\"1\" x=\"0\" y=\"0\"/><rect fill=\"#FFFFFF\" height=\"226.6573\" style=\"stroke:#FFFFFF;stroke-width:1.0;\" width=\"602\" x=\"0\" y=\"0\"/><text fill=\"#000000\" font-family=\"sans-serif\" font-size=\"12\" font-weight=\"bold\" lengthAdjust=\"spacing\" textLength=\"145.75\" x=\"5\" y=\"16.1387\">Welcome to PlantUML!</text><text fill=\"#000000\" font-family=\"sans-serif\" font-size=\"12\" lengthAdjust=\"spacing\" textLength=\"4\" x=\"5\" y=\"30.1074\"> </text><text fill=\"#000000\" font-family=\"sans-serif\" font-size=\"12\" lengthAdjust=\"spacing\" textLength=\"283\" x=\"5\" y=\"44.0762\">You can start with a simple UML Diagram like:</text><text fill=\"#000000\" font-family=\"sans-serif\" font-size=\"12\" lengthAdjust=\"spacing\" textLength=\"4\" x=\"5\" y=\"58.0449\"> </text><text fill=\"#000000\" font-family=\"monospace\" font-size=\"12\" lengthAdjust=\"spacing\" textLength=\"119\" x=\"5\" y=\"73.7031\">Bob-&gt;Alice: Hello</text><text fill=\"#000000\" font-family=\"sans-serif\" font-size=\"12\" lengthAdjust=\"spacing\" textLength=\"4\" x=\"5\" y=\"88.3578\"> </text><text fill=\"#000000\" font-family=\"sans-serif\" font-size=\"12\" lengthAdjust=\"spacing\" textLength=\"14\" x=\"5\" y=\"102.3265\">Or</text><text fill=\"#000000\" font-family=\"sans-serif\" font-size=\"12\" lengthAdjust=\"spacing\" textLength=\"4\" x=\"5\" y=\"116.2953\"> </text><text fill=\"#000000\" font-family=\"monospace\" font-size=\"12\" lengthAdjust=\"spacing\" textLength=\"91\" x=\"5\" y=\"131.9535\">class Example</text><text fill=\"#000000\" font-family=\"sans-serif\" font-size=\"12\" lengthAdjust=\"spacing\" textLength=\"4\" x=\"5\" y=\"146.6082\"> </text><text fill=\"#000000\" font-family=\"sans-serif\" font-size=\"12\" lengthAdjust=\"spacing\" textLength=\"349\" x=\"5\" y=\"160.5769\">You will find more information about PlantUML syntax on</text><text fill=\"#000000\" font-family=\"sans-serif\" font-size=\"12\" lengthAdjust=\"spacing\" text-decoration=\"underline\" textLength=\"129\" x=\"358\" y=\"160.5769\">https://plantuml.com</text><text fill=\"#000000\" font-family=\"sans-serif\" font-size=\"12\" lengthAdjust=\"spacing\" textLength=\"4\" x=\"5\" y=\"174.5457\"> </text><text fill=\"#000000\" font-family=\"sans-serif\" font-size=\"12\" lengthAdjust=\"spacing\" textLength=\"299\" x=\"5\" y=\"188.5144\">(If you use this software, you accept its license)</text><text fill=\"#000000\" font-family=\"sans-serif\" font-size=\"12\" lengthAdjust=\"spacing\" textLength=\"108\" x=\"5\" y=\"204.8585\">(Details by typing</text><text fill=\"#000000\" font-family=\"monospace\" font-size=\"12\" lengthAdjust=\"spacing\" textLength=\"49\" x=\"117\" y=\"204.1726\">license</text><text fill=\"#000000\" font-family=\"sans-serif\" font-size=\"12\" lengthAdjust=\"spacing\" textLength=\"56\" x=\"170\" y=\"204.8585\">keyword)</text><text fill=\"#000000\" font-family=\"sans-serif\" font-size=\"12\" lengthAdjust=\"spacing\" textLength=\"4\" x=\"5\" y=\"218.8273\"> </text><image height=\"71\" width=\"80\" x=\"516\" xlink:href=\"data:image/png;base64,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\" y=\"6\"/><rect fill=\"#000000\" height=\"160.3594\" style=\"stroke:#000000;stroke-width:1.0;\" width=\"602\" x=\"0\" y=\"226.6573\"/><text fill=\"#33FF02\" font-family=\"sans-serif\" font-size=\"12\" font-style=\"italic\" font-weight=\"bold\" lengthAdjust=\"spacing\" textLength=\"123\" x=\"5\" y=\"243.6573\">PlantUML 1.2022.7</text><text fill=\"#33FF02\" font-family=\"sans-serif\" font-size=\"12\" font-style=\"italic\" font-weight=\"bold\" lengthAdjust=\"spacing\" textLength=\"4\" x=\"5\" y=\"257.6261\"> </text><text fill=\"#33FF02\" font-family=\"sans-serif\" font-size=\"12\" font-style=\"italic\" font-weight=\"bold\" lengthAdjust=\"spacing\" textLength=\"390\" x=\"5\" y=\"271.5948\">&lt;b&gt;This version of PlantUML is 846 days old, so you should</text><text fill=\"#33FF02\" font-family=\"sans-serif\" font-size=\"12\" font-style=\"italic\" font-weight=\"bold\" lengthAdjust=\"spacing\" textLength=\"398.875\" x=\"5\" y=\"285.5636\">&lt;b&gt;consider upgrading from https://plantuml.com/download</text><rect fill=\"#33FF02\" height=\"21.2969\" style=\"stroke:#33FF02;stroke-width:1.0;\" width=\"153.3125\" x=\"5\" y=\"295.5323\"/><text fill=\"#000000\" font-family=\"sans-serif\" font-size=\"14\" font-weight=\"bold\" lengthAdjust=\"spacing\" textLength=\"151.3125\" x=\"6\" y=\"310.5323\">[From string (line 2) ]</text><text fill=\"#33FF02\" font-family=\"sans-serif\" font-size=\"14\" font-weight=\"bold\" lengthAdjust=\"spacing\" textLength=\"4\" x=\"5\" y=\"330.8292\"> </text><text fill=\"#33FF02\" font-family=\"sans-serif\" font-size=\"14\" font-weight=\"bold\" lengthAdjust=\"spacing\" textLength=\"73.9375\" x=\"5\" y=\"347.1261\">@startuml</text><text fill=\"#33FF02\" font-family=\"sans-serif\" font-size=\"14\" font-weight=\"bold\" lengthAdjust=\"spacing\" text-decoration=\"wavy underline\" textLength=\"4\" x=\"5\" y=\"363.423\"> </text><text fill=\"#FF0000\" font-family=\"sans-serif\" font-size=\"14\" font-weight=\"bold\" lengthAdjust=\"spacing\" textLength=\"131\" x=\"9\" y=\"379.7198\">Empty description</text><!--MD5=[5b6570bdd48fecdb4121f0162c378f28]\n",
       "@startuml\r\n",
       " \r\n",
       "@enduml\r\n",
       "\n",
       "PlantUML version 1.2022.7(Mon Aug 22 17:01:30 UTC 2022)\n",
       "(EPL source distribution)\n",
       "Java Runtime: OpenJDK Runtime Environment\n",
       "JVM: OpenJDK 64-Bit Server VM\n",
       "Default Encoding: UTF-8\n",
       "Language: en\n",
       "Country: null\n",
       "--></g></svg>"
      ]
     },
     "execution_count": 32,
     "metadata": {},
     "output_type": "execute_result"
    }
   ],
   "source": [
    "%viz --style=\"PLANTUML\" --view=\"State\" \"AliasTest\""
   ]
  },
  {
   "cell_type": "code",
   "execution_count": 33,
   "id": "bcbb6e2a",
   "metadata": {
    "execution": {
     "iopub.execute_input": "2024-12-16T03:25:13.646518Z",
     "iopub.status.busy": "2024-12-16T03:25:13.646261Z",
     "iopub.status.idle": "2024-12-16T03:25:13.666127Z",
     "shell.execute_reply": "2024-12-16T03:25:13.665339Z"
    }
   },
   "outputs": [
    {
     "data": {
      "image/svg+xml": [
       "<?xml version=\"1.0\" encoding=\"UTF-8\" standalone=\"no\"?><svg xmlns=\"http://www.w3.org/2000/svg\" xmlns:xlink=\"http://www.w3.org/1999/xlink\" contentStyleType=\"text/css\" height=\"378px\" preserveAspectRatio=\"none\" style=\"width:393px;height:378px;background:#FFFFFF;\" version=\"1.1\" viewBox=\"0 0 393 378\" width=\"393px\" zoomAndPan=\"magnify\"><defs/><g><!--MD5=[fbc87193dbaf4d95561dea2c320d4a47]\n",
       "cluster E1--><g id=\"cluster_E1\"><a href=\"psysml:a1c2986a-a425-4687-93ae-51674f2ada97\" target=\"_top\" title=\"psysml:a1c2986a-a425-4687-93ae-51674f2ada97\" xlink:actuate=\"onRequest\" xlink:href=\"psysml:a1c2986a-a425-4687-93ae-51674f2ada97\" xlink:show=\"new\" xlink:title=\"psysml:a1c2986a-a425-4687-93ae-51674f2ada97\" xlink:type=\"simple\"><path d=\"M8.5,6 L75.4375,6 A3.75,3.75 0 0 1 77.9375,8.5 L84.9375,28.2969 L383.5,28.2969 A2.5,2.5 0 0 1 386,30.7969 L386,368.86 A2.5,2.5 0 0 1 383.5,371.36 L8.5,371.36 A2.5,2.5 0 0 1 6,368.86 L6,8.5 A2.5,2.5 0 0 1 8.5,6 \" fill=\"none\" style=\"stroke:#000000;stroke-width:1.5;\"/><line style=\"stroke:#000000;stroke-width:1.5;\" x1=\"6\" x2=\"84.9375\" y1=\"28.2969\" y2=\"28.2969\"/><text fill=\"#000000\" font-family=\"sans-serif\" font-size=\"14\" font-weight=\"bold\" lengthAdjust=\"spacing\" textLength=\"65.9375\" x=\"10\" y=\"20.9951\">AliasTest</text></a></g><!--MD5=[d5e69f78d87373223dbae638b30a9c99]\n",
       "cluster E3--><g id=\"cluster_E3\"><a href=\"psysml:d64d4abf-692a-4b0a-b1a7-ca6bfa2152dc\" target=\"_top\" title=\"psysml:d64d4abf-692a-4b0a-b1a7-ca6bfa2152dc\" xlink:actuate=\"onRequest\" xlink:href=\"psysml:d64d4abf-692a-4b0a-b1a7-ca6bfa2152dc\" xlink:show=\"new\" xlink:title=\"psysml:d64d4abf-692a-4b0a-b1a7-ca6bfa2152dc\" xlink:type=\"simple\"><rect fill=\"#FFFFFF\" height=\"108.5\" id=\"E3\" style=\"stroke:#A80036;stroke-width:1.5;\" width=\"83\" x=\"262\" y=\"238.86\"/><rect fill=\"#F1F1F1\" height=\"26.2969\" style=\"stroke:#A80036;stroke-width:1.5;\" width=\"83\" x=\"262\" y=\"238.86\"/><text fill=\"#000000\" font-family=\"sans-serif\" font-size=\"14\" lengthAdjust=\"spacing\" textLength=\"18\" x=\"294.5\" y=\"256.8551\">P1</text></a></g><!--MD5=[14e3b0961a2654348d326746436168a1]\n",
       "cluster E6--><g id=\"cluster_E6\"><a href=\"psysml:e8b71076-5181-45d8-952d-6c6c3b8ab27b\" target=\"_top\" title=\"psysml:e8b71076-5181-45d8-952d-6c6c3b8ab27b\" xlink:actuate=\"onRequest\" xlink:href=\"psysml:e8b71076-5181-45d8-952d-6c6c3b8ab27b\" xlink:show=\"new\" xlink:title=\"psysml:e8b71076-5181-45d8-952d-6c6c3b8ab27b\" xlink:type=\"simple\"><rect fill=\"#FFFFFF\" height=\"98.36\" id=\"E6\" rx=\"10\" ry=\"10\" style=\"stroke:#A80036;stroke-width:1.5;\" width=\"116\" x=\"246\" y=\"49\"/><rect fill=\"#F1F1F1\" height=\"26.2969\" rx=\"10\" ry=\"10\" style=\"stroke:#F1F1F1;stroke-width:1.5;\" width=\"116\" x=\"246\" y=\"49\"/><rect fill=\"#F1F1F1\" height=\"10\" style=\"stroke:#F1F1F1;stroke-width:1.5;\" width=\"116\" x=\"246\" y=\"65.2969\"/><rect fill=\"none\" height=\"98.36\" id=\"E6\" rx=\"10\" ry=\"10\" style=\"stroke:#A80036;stroke-width:1.5;\" width=\"116\" x=\"246\" y=\"49\"/><text fill=\"#000000\" font-family=\"sans-serif\" font-size=\"14\" lengthAdjust=\"spacing\" textLength=\"45\" x=\"281.5\" y=\"66.9951\">p1: P1</text><line style=\"stroke:#A80036;stroke-width:1.0;\" x1=\"246\" x2=\"362\" y1=\"75.2969\" y2=\"75.2969\"/></a></g><!--MD5=[55dfccfc6c49c2d10cd1bd2211a6c90c]\n",
       "cluster E8--><g id=\"cluster_E8\"><a href=\"psysml:8277226e-c173-411e-8d8e-d31bb811c94b\" target=\"_top\" title=\"psysml:8277226e-c173-411e-8d8e-d31bb811c94b\" xlink:actuate=\"onRequest\" xlink:href=\"psysml:8277226e-c173-411e-8d8e-d31bb811c94b\" xlink:show=\"new\" xlink:title=\"psysml:8277226e-c173-411e-8d8e-d31bb811c94b\" xlink:type=\"simple\"><rect fill=\"#FFFFFF\" height=\"73\" id=\"E8\" rx=\"10\" ry=\"10\" style=\"stroke:#A80036;stroke-width:1.5;\" width=\"83\" x=\"163\" y=\"199.36\"/><rect fill=\"#F1F1F1\" height=\"26.2969\" rx=\"10\" ry=\"10\" style=\"stroke:#F1F1F1;stroke-width:1.5;\" width=\"83\" x=\"163\" y=\"199.36\"/><rect fill=\"#F1F1F1\" height=\"10\" style=\"stroke:#F1F1F1;stroke-width:1.5;\" width=\"83\" x=\"163\" y=\"215.6569\"/><rect fill=\"none\" height=\"73\" id=\"E8\" rx=\"10\" ry=\"10\" style=\"stroke:#A80036;stroke-width:1.5;\" width=\"83\" x=\"163\" y=\"199.36\"/><text fill=\"#000000\" font-family=\"sans-serif\" font-size=\"14\" lengthAdjust=\"spacing\" textLength=\"45\" x=\"182\" y=\"217.3551\">p2: P1</text><line style=\"stroke:#A80036;stroke-width:1.0;\" x1=\"163\" x2=\"246\" y1=\"225.6569\" y2=\"225.6569\"/></a></g><!--MD5=[b4997ac47864f28c2f74865a473b2911]\n",
       "class E2--><a href=\"psysml:f27707b2-90f2-4671-96dd-49a3cebd999e\" target=\"_top\" title=\"psysml:f27707b2-90f2-4671-96dd-49a3cebd999e\" xlink:actuate=\"onRequest\" xlink:href=\"psysml:f27707b2-90f2-4671-96dd-49a3cebd999e\" xlink:show=\"new\" xlink:title=\"psysml:f27707b2-90f2-4671-96dd-49a3cebd999e\" xlink:type=\"simple\"><g id=\"elem_E2\"><rect fill=\"#F1F1F1\" height=\"48.2656\" id=\"E2\" rx=\"10\" ry=\"10\" style=\"stroke:#181818;stroke-width:0.5;\" width=\"213\" x=\"21.5\" y=\"58.5\"/><ellipse cx=\"36.5\" cy=\"78.6328\" fill=\"#FFA500\" rx=\"11\" ry=\"11\" style=\"stroke:#181818;stroke-width:1.0;\"/><path d=\"M36.5625,85.8047 Q34.4531,85.8047 33.3594,84.6797 Q32.2656,83.5547 32.2656,81.5078 L32.2656,73.4922 L34.7344,73.4922 L34.7344,81.0703 Q34.7344,82.5078 35.1875,83.1016 Q35.6406,83.6797 36.5938,83.6797 Q37.6094,83.6797 38.0313,83.0703 Q38.4688,82.4609 38.4688,81.0547 L38.4688,73.4922 L40.9375,73.4922 L40.9375,81.4922 Q40.9375,83.4766 39.8438,84.6484 Q38.7656,85.8047 36.5625,85.8047 Z \" fill=\"#000000\"/><text fill=\"#000000\" font-family=\"sans-serif\" font-size=\"12\" font-style=\"italic\" lengthAdjust=\"spacing\" textLength=\"69\" x=\"106.5\" y=\"74.6387\">«attribute»</text><text fill=\"#000000\" font-family=\"sans-serif\" font-size=\"14\" lengthAdjust=\"spacing\" textLength=\"177\" x=\"50.5\" y=\"90.4639\">b :&gt;ISQSpaceTime::width</text><line style=\"stroke:#181818;stroke-width:0.5;\" x1=\"22.5\" x2=\"233.5\" y1=\"98.7656\" y2=\"98.7656\"/></g></a><text fill=\"#000000\" font-family=\"sans-serif\" font-size=\"14\" lengthAdjust=\"spacing\" textLength=\"44\" x=\"254\" y=\"217.5582\">porig1</text><rect fill=\"#F1F1F1\" height=\"12\" style=\"stroke:#181818;stroke-width:1.5;\" width=\"12\" x=\"274\" y=\"232.86\"/><text fill=\"#000000\" font-family=\"sans-serif\" font-size=\"14\" lengthAdjust=\"spacing\" textLength=\"44\" x=\"301\" y=\"217.5582\">porig1</text><rect fill=\"#F1F1F1\" height=\"12\" style=\"stroke:#181818;stroke-width:1.5;\" width=\"12\" x=\"321\" y=\"232.86\"/><text fill=\"#000000\" font-family=\"sans-serif\" font-size=\"14\" lengthAdjust=\"spacing\" textLength=\"27\" x=\"246.5\" y=\"166.3551\">po1</text><rect fill=\"#F1F1F1\" height=\"12\" style=\"stroke:#181818;stroke-width:1.5;\" width=\"12\" x=\"258\" y=\"141.36\"/><text fill=\"#000000\" font-family=\"sans-serif\" font-size=\"14\" lengthAdjust=\"spacing\" textLength=\"40\" x=\"157\" y=\"178.0582\">pdest</text><rect fill=\"#F1F1F1\" height=\"12\" style=\"stroke:#181818;stroke-width:1.5;\" width=\"12\" x=\"175\" y=\"193.36\"/><text fill=\"#000000\" font-family=\"sans-serif\" font-size=\"14\" lengthAdjust=\"spacing\" textLength=\"40\" x=\"204\" y=\"178.0582\">pdest</text><rect fill=\"#F1F1F1\" height=\"12\" style=\"stroke:#181818;stroke-width:1.5;\" width=\"12\" x=\"222\" y=\"193.36\"/><!--MD5=[a717450b82c80b9240a525fa862496af]\n",
       "link E6 to E3--><g id=\"link_E6_E3\"><a href=\"psysml:515868c5-6015-4da5-b3ff-32117e872914\" target=\"_top\" title=\"psysml:515868c5-6015-4da5-b3ff-32117e872914\" xlink:actuate=\"onRequest\" xlink:href=\"psysml:515868c5-6015-4da5-b3ff-32117e872914\" xlink:show=\"new\" xlink:title=\"psysml:515868c5-6015-4da5-b3ff-32117e872914\" xlink:type=\"simple\"><path d=\"M362.0534,124.003 C362.1573,124.1669 362.2603,124.3312 362.3624,124.496 C363.1788,125.8142 363.9341,127.1611 364.6202,128.5361 C367.3644,134.0363 369,139.9875 369,146.36 C369,146.36 369,146.36 369,200.36 C369,236.38 375.53,250.09 356,280.36 C354.1175,283.275 351.8706,285.9894 349.3894,288.5048 C349.0792,288.8193 348.7654,289.1306 348.4482,289.4388 C348.3689,289.5159 348.2893,289.5927 348.2096,289.6694 C348.1698,289.7077 348.1298,289.746 348.0899,289.7843 \" fill=\"none\" id=\"E6-to-E3\" style=\"stroke:#181818;stroke-width:1.0;\"/><polygon fill=\"#FFFFFF\" points=\"348.0899,289.7843,356.9801,271.5918,366.658,281.7081,348.0899,289.7843\" style=\"stroke:#181818;stroke-width:1.0;\"/><ellipse cx=\"362.4814\" cy=\"269.0967\" fill=\"#181818\" rx=\"2\" ry=\"2\" style=\"stroke:#181818;stroke-width:1.0;\"/><ellipse cx=\"369.3942\" cy=\"276.3226\" fill=\"#181818\" rx=\"2\" ry=\"2\" style=\"stroke:#181818;stroke-width:1.0;\"/></a></g><!--MD5=[95fa686b5a16158bcdbcaeead89f639b]\n",
       "link E8 to E3--><g id=\"link_E8_E3\"><a href=\"psysml:e2fe589c-f14e-47a5-aaf0-9a8ebd450a7c\" target=\"_top\" title=\"psysml:e2fe589c-f14e-47a5-aaf0-9a8ebd450a7c\" xlink:actuate=\"onRequest\" xlink:href=\"psysml:e2fe589c-f14e-47a5-aaf0-9a8ebd450a7c\" xlink:show=\"new\" xlink:title=\"psysml:e2fe589c-f14e-47a5-aaf0-9a8ebd450a7c\" xlink:type=\"simple\"><path d=\"M240.0536,272.4711 C242.1997,273.7659 244.3567,275.0673 246.5137,276.3688 C250.8278,278.9716 255.1418,281.5743 259.3679,284.124 C261.481,285.3989 263.5721,286.6605 265.6302,287.9022 C265.6945,287.941 265.7588,287.9798 265.8231,288.0185 \" fill=\"none\" id=\"E8-to-E3\" style=\"stroke:#181818;stroke-width:1.0;\"/><polygon fill=\"#FFFFFF\" points=\"265.8231,288.0185,245.9385,284.1971,253.1707,272.2098,265.8231,288.0185\" style=\"stroke:#181818;stroke-width:1.0;\"/><ellipse cx=\"242.0911\" cy=\"279.5401\" fill=\"#181818\" rx=\"2\" ry=\"2\" style=\"stroke:#181818;stroke-width:1.0;\"/><ellipse cx=\"247.2569\" cy=\"270.9777\" fill=\"#181818\" rx=\"2\" ry=\"2\" style=\"stroke:#181818;stroke-width:1.0;\"/></a></g><!--MD5=[1c0b9414cc86e0744215edee6abd8926]\n",
       "link E7 to E9--><g id=\"link_E7_E9\"><a href=\"psysml:f1f85c24-6beb-4ed4-abfc-161aeb53ad8b\" target=\"_top\" title=\"psysml:f1f85c24-6beb-4ed4-abfc-161aeb53ad8b\" xlink:actuate=\"onRequest\" xlink:href=\"psysml:f1f85c24-6beb-4ed4-abfc-161aeb53ad8b\" xlink:show=\"new\" xlink:title=\"psysml:f1f85c24-6beb-4ed4-abfc-161aeb53ad8b\" xlink:type=\"simple\"><path d=\"M257.8,148.79 C239.37,151.12 208.84,162.57 187,177.36 C177.51,183.79 167.96,193.97 174.62,197.28 \" fill=\"none\" id=\"E7-E9\" style=\"stroke:#181818;stroke-width:3.0;\"/></a></g><!--MD5=[1c0b9414cc86e0744215edee6abd8926]\n",
       "link E7 to E9--><g id=\"link_E7_E9\"><a href=\"psysml:92c8a956-0030-45f2-8c30-896629fb0abd\" target=\"_top\" title=\"psysml:92c8a956-0030-45f2-8c30-896629fb0abd\" xlink:actuate=\"onRequest\" xlink:href=\"psysml:92c8a956-0030-45f2-8c30-896629fb0abd\" xlink:show=\"new\" xlink:title=\"psysml:92c8a956-0030-45f2-8c30-896629fb0abd\" xlink:type=\"simple\"><path d=\"M264.46,153.55 C255.96,158.69 236.95,167.24 222,177.36 C211.88,184.21 201.7,195.33 187.07,197.84 \" fill=\"none\" id=\"E7-E9-1\" style=\"stroke:#181818;stroke-width:3.0;\"/></a></g><!--MD5=[15e117846ae233d88cc580c10663caab]\n",
       "@startuml\r\n",
       " skinparam ranksep 10\r\n",
       "skinparam rectangle {\r\n",
       " backgroundColor<<block>> LightGreen\r\n",
       "}\r\n",
       "\r\n",
       "package \"AliasTest\" as E1  [[psysml:a1c2986a-a425-4687-93ae-51674f2ada97 ]]  {\r\n",
       "comp usage \"b :>ISQSpaceTime::width \" as E2  << <<(U,orange) attribute>> [[psysml:f27707b2-90f2-4671-96dd-49a3cebd999e ]] {\r\n",
       "}\r\n",
       "rec def \"P1\" as E3  << << (B,green) >> [[psysml:d64d4abf-692a-4b0a-b1a7-ca6bfa2152dc ]] {\r\n",
       "portin \"porig1  \" as E4  << << (P,blue) port>> [[psysml:61764694-1d1c-48ba-adaa-4bba53d3d30f ]] \r\n",
       "portin \"porig1  \" as E5  << << (P,blue) port>> [[psysml:61764694-1d1c-48ba-adaa-4bba53d3d30f ]] \r\n",
       "}\r\n",
       "rec usage \"p1: P1\" as E6 [[psysml:e8b71076-5181-45d8-952d-6c6c3b8ab27b ]] {\r\n",
       "portout \"po1  \" as E7  << << (P,blue) port>> [[psysml:d614f44e-5180-4509-9cc1-1632afa7b11f ]] \r\n",
       "}\r\n",
       "rec usage \"p2: P1\" as E8 [[psysml:8277226e-c173-411e-8d8e-d31bb811c94b ]] {\r\n",
       "portin \"pdest  \" as E9  << << (P,blue) port>> [[psysml:88f12717-b335-4bfa-a952-2b65a00cb7af ]] \r\n",
       "portin \"pdest  \" as E10  << << (P,blue) port>> [[psysml:88f12717-b335-4bfa-a952-2b65a00cb7af ]] \r\n",
       "}\r\n",
       "}\r\n",
       "E6 - -:|> E3 [[psysml:515868c5-6015-4da5-b3ff-32117e872914 ]] \r\n",
       "E8 - -:|> E3 [[psysml:e2fe589c-f14e-47a5-aaf0-9a8ebd450a7c ]] \r\n",
       "E7 -[thickness=3]- E9 [[psysml:f1f85c24-6beb-4ed4-abfc-161aeb53ad8b ]] \r\n",
       "E7 -[thickness=3]- E9 [[psysml:92c8a956-0030-45f2-8c30-896629fb0abd ]] \r\n",
       "@enduml\r\n",
       "\n",
       "PlantUML version 1.2022.7(Mon Aug 22 17:01:30 UTC 2022)\n",
       "(EPL source distribution)\n",
       "Java Runtime: OpenJDK Runtime Environment\n",
       "JVM: OpenJDK 64-Bit Server VM\n",
       "Default Encoding: UTF-8\n",
       "Language: en\n",
       "Country: null\n",
       "--></g></svg>"
      ]
     },
     "execution_count": 33,
     "metadata": {},
     "output_type": "execute_result"
    }
   ],
   "source": [
    "%viz --style=\"PLANTUML\" --view=\"Interconnection\" \"AliasTest\""
   ]
  },
  {
   "cell_type": "code",
   "execution_count": 34,
   "id": "2d579fcc",
   "metadata": {
    "execution": {
     "iopub.execute_input": "2024-12-16T03:25:13.719330Z",
     "iopub.status.busy": "2024-12-16T03:25:13.719107Z",
     "iopub.status.idle": "2024-12-16T03:25:13.724522Z",
     "shell.execute_reply": "2024-12-16T03:25:13.724312Z"
    }
   },
   "outputs": [
    {
     "data": {
      "image/svg+xml": [
       "<?xml version=\"1.0\" encoding=\"UTF-8\" standalone=\"no\"?><svg xmlns=\"http://www.w3.org/2000/svg\" xmlns:xlink=\"http://www.w3.org/1999/xlink\" contentStyleType=\"text/css\" height=\"10px\" preserveAspectRatio=\"none\" style=\"width:10px;height:10px;background:#FFFFFF;\" version=\"1.1\" viewBox=\"0 0 10 10\" width=\"10px\" zoomAndPan=\"magnify\"><defs/><g><!--MD5=[5b85ed15c012f432344d03f88cdcf85b]\n",
       "@startuml\r\n",
       " skinparam ranksep 8\r\n",
       "\r\n",
       "@enduml\r\n",
       "\n",
       "PlantUML version 1.2022.7(Mon Aug 22 17:01:30 UTC 2022)\n",
       "(EPL source distribution)\n",
       "Java Runtime: OpenJDK Runtime Environment\n",
       "JVM: OpenJDK 64-Bit Server VM\n",
       "Default Encoding: UTF-8\n",
       "Language: en\n",
       "Country: null\n",
       "--></g></svg>"
      ]
     },
     "execution_count": 34,
     "metadata": {},
     "output_type": "execute_result"
    }
   ],
   "source": [
    "%viz --style=\"PLANTUML\" --view=\"Action\" \"AliasTest\""
   ]
  },
  {
   "cell_type": "code",
   "execution_count": 35,
   "id": "ffd38f30",
   "metadata": {
    "execution": {
     "iopub.execute_input": "2024-12-16T03:25:13.780256Z",
     "iopub.status.busy": "2024-12-16T03:25:13.780049Z",
     "iopub.status.idle": "2024-12-16T03:25:13.785862Z",
     "shell.execute_reply": "2024-12-16T03:25:13.785666Z"
    }
   },
   "outputs": [
    {
     "data": {
      "image/svg+xml": [
       "<?xml version=\"1.0\" encoding=\"UTF-8\" standalone=\"no\"?><svg xmlns=\"http://www.w3.org/2000/svg\" xmlns:xlink=\"http://www.w3.org/1999/xlink\" contentStyleType=\"text/css\" height=\"10px\" preserveAspectRatio=\"none\" style=\"width:10px;height:10px;background:#FFFFFF;\" version=\"1.1\" viewBox=\"0 0 10 10\" width=\"10px\" zoomAndPan=\"magnify\"><defs/><g><!--MD5=[395e82ba475bd2e80052467b56fa0251]\n",
       "@startuml\r\n",
       " skinparam roundcorner 20\r\n",
       "skinparam BoxPadding 20\r\n",
       "skinparam SequenceBoxBackgroundColor #white\r\n",
       "skinparam style strictuml\r\n",
       "skinparam maxMessageSize 100\r\n",
       "\r\n",
       "@enduml\r\n",
       "\n",
       "PlantUML version 1.2022.7(Mon Aug 22 17:01:30 UTC 2022)\n",
       "(EPL source distribution)\n",
       "Java Runtime: OpenJDK Runtime Environment\n",
       "JVM: OpenJDK 64-Bit Server VM\n",
       "Default Encoding: UTF-8\n",
       "Language: en\n",
       "Country: null\n",
       "--></g></svg>"
      ]
     },
     "execution_count": 35,
     "metadata": {},
     "output_type": "execute_result"
    }
   ],
   "source": [
    "%viz --style=\"PLANTUML\" --view=\"Sequence\" \"AliasTest\""
   ]
  },
  {
   "cell_type": "code",
   "execution_count": 36,
   "id": "645d3dc5",
   "metadata": {
    "execution": {
     "iopub.execute_input": "2024-12-16T03:25:13.840938Z",
     "iopub.status.busy": "2024-12-16T03:25:13.840729Z",
     "iopub.status.idle": "2024-12-16T03:25:13.868872Z",
     "shell.execute_reply": "2024-12-16T03:25:13.869105Z"
    }
   },
   "outputs": [
    {
     "data": {
      "image/svg+xml": [
       "<?xml version=\"1.0\" encoding=\"UTF-8\" standalone=\"no\"?><svg xmlns=\"http://www.w3.org/2000/svg\" xmlns:xlink=\"http://www.w3.org/1999/xlink\" contentStyleType=\"text/css\" height=\"374px\" preserveAspectRatio=\"none\" style=\"width:498px;height:374px;background:#FFFFFF;\" version=\"1.1\" viewBox=\"0 0 498 374\" width=\"498px\" zoomAndPan=\"magnify\"><defs/><g><!--MD5=[fbc87193dbaf4d95561dea2c320d4a47]\n",
       "cluster E1--><g id=\"cluster_E1\"><a href=\"psysml:a1c2986a-a425-4687-93ae-51674f2ada97\" target=\"_top\" title=\"psysml:a1c2986a-a425-4687-93ae-51674f2ada97\" xlink:actuate=\"onRequest\" xlink:href=\"psysml:a1c2986a-a425-4687-93ae-51674f2ada97\" xlink:show=\"new\" xlink:title=\"psysml:a1c2986a-a425-4687-93ae-51674f2ada97\" xlink:type=\"simple\"><path d=\"M8.5,6 L75.4375,6 A3.75,3.75 0 0 1 77.9375,8.5 L84.9375,28.2969 L488.5,28.2969 A2.5,2.5 0 0 1 491,30.7969 L491,364.5 A2.5,2.5 0 0 1 488.5,367 L8.5,367 A2.5,2.5 0 0 1 6,364.5 L6,8.5 A2.5,2.5 0 0 1 8.5,6 \" fill=\"none\" style=\"stroke:#000000;stroke-width:1.5;\"/><line style=\"stroke:#000000;stroke-width:1.5;\" x1=\"6\" x2=\"84.9375\" y1=\"28.2969\" y2=\"28.2969\"/><text fill=\"#000000\" font-family=\"sans-serif\" font-size=\"14\" font-weight=\"bold\" lengthAdjust=\"spacing\" textLength=\"65.9375\" x=\"10\" y=\"20.9951\">AliasTest</text></a></g><!--MD5=[b4997ac47864f28c2f74865a473b2911]\n",
       "class E2--><a href=\"psysml:f27707b2-90f2-4671-96dd-49a3cebd999e\" target=\"_top\" title=\"psysml:f27707b2-90f2-4671-96dd-49a3cebd999e\" xlink:actuate=\"onRequest\" xlink:href=\"psysml:f27707b2-90f2-4671-96dd-49a3cebd999e\" xlink:show=\"new\" xlink:title=\"psysml:f27707b2-90f2-4671-96dd-49a3cebd999e\" xlink:type=\"simple\"><g id=\"elem_E2\"><rect fill=\"#F1F1F1\" height=\"48.2656\" id=\"E2\" rx=\"10\" ry=\"10\" style=\"stroke:#181818;stroke-width:0.5;\" width=\"213\" x=\"262.5\" y=\"54.5\"/><ellipse cx=\"277.5\" cy=\"74.6328\" fill=\"#FFA500\" rx=\"11\" ry=\"11\" style=\"stroke:#181818;stroke-width:1.0;\"/><path d=\"M277.5625,81.8047 Q275.4531,81.8047 274.3594,80.6797 Q273.2656,79.5547 273.2656,77.5078 L273.2656,69.4922 L275.7344,69.4922 L275.7344,77.0703 Q275.7344,78.5078 276.1875,79.1016 Q276.6406,79.6797 277.5938,79.6797 Q278.6094,79.6797 279.0313,79.0703 Q279.4688,78.4609 279.4688,77.0547 L279.4688,69.4922 L281.9375,69.4922 L281.9375,77.4922 Q281.9375,79.4766 280.8438,80.6484 Q279.7656,81.8047 277.5625,81.8047 Z \" fill=\"#000000\"/><text fill=\"#000000\" font-family=\"sans-serif\" font-size=\"12\" font-style=\"italic\" lengthAdjust=\"spacing\" textLength=\"69\" x=\"347.5\" y=\"70.6387\">«attribute»</text><text fill=\"#000000\" font-family=\"sans-serif\" font-size=\"14\" lengthAdjust=\"spacing\" textLength=\"177\" x=\"291.5\" y=\"86.4639\">b :&gt;ISQSpaceTime::width</text><line style=\"stroke:#181818;stroke-width:0.5;\" x1=\"263.5\" x2=\"474.5\" y1=\"94.7656\" y2=\"94.7656\"/></g></a><!--MD5=[09b614a08d8cba4a07c9adeb5e0fee81]\n",
       "class E3--><a href=\"psysml:d64d4abf-692a-4b0a-b1a7-ca6bfa2152dc\" target=\"_top\" title=\"psysml:d64d4abf-692a-4b0a-b1a7-ca6bfa2152dc\" xlink:actuate=\"onRequest\" xlink:href=\"psysml:d64d4abf-692a-4b0a-b1a7-ca6bfa2152dc\" xlink:show=\"new\" xlink:title=\"psysml:d64d4abf-692a-4b0a-b1a7-ca6bfa2152dc\" xlink:type=\"simple\"><g id=\"elem_E3\"><rect fill=\"#F1F1F1\" height=\"66.8156\" id=\"E3\" rx=\"2.5\" ry=\"2.5\" style=\"stroke:#181818;stroke-width:0.5;\" width=\"56\" x=\"183\" y=\"176\"/><ellipse cx=\"200.7\" cy=\"192\" fill=\"#008000\" rx=\"11\" ry=\"11\" style=\"stroke:#181818;stroke-width:1.0;\"/><path d=\"M197.5594,198.5 L197.5594,186.3594 L201.3563,186.3594 Q203.3563,186.3594 204.4031,187.0625 Q205.4656,187.7656 205.4656,189.3438 Q205.4656,190.4375 204.9656,191.1563 Q204.4813,191.875 203.6531,192.0625 L203.6531,192.1406 Q204.575,192.3594 205.1375,193.0313 Q205.7156,193.6875 205.7156,194.9531 Q205.7156,196.6094 204.6688,197.5625 Q203.6219,198.5 201.7625,198.5 L197.5594,198.5 Z M201.3406,191.1406 Q202.2313,191.1406 202.5906,190.8125 Q202.9656,190.4688 202.9656,189.7656 Q202.9656,189.0313 202.575,188.7188 Q202.1844,188.3906 201.2469,188.3906 L199.8563,188.3906 L199.8563,191.1406 L201.3406,191.1406 Z M201.5281,196.4844 Q202.4344,196.4844 202.7938,196.0469 Q203.1531,195.5938 203.1531,194.8125 Q203.1531,194.0313 202.7781,193.6406 Q202.4188,193.2344 201.4344,193.2344 L199.8563,193.2344 L199.8563,196.4844 L201.5281,196.4844 Z \" fill=\"#000000\"/><text fill=\"#000000\" font-family=\"sans-serif\" font-size=\"14\" lengthAdjust=\"spacing\" textLength=\"18\" x=\"215.3\" y=\"196.8467\">P1</text><line style=\"stroke:#181818;stroke-width:0.5;\" x1=\"184\" x2=\"238\" y1=\"208\" y2=\"208\"/><text fill=\"#000000\" font-family=\"sans-serif\" font-size=\"14\" lengthAdjust=\"spacing\" textLength=\"44\" x=\"189\" y=\"235.5139\">porig1</text><text fill=\"#000000\" font-family=\"sans-serif\" font-size=\"14\" font-style=\"italic\" lengthAdjust=\"spacing\" textLength=\"36\" x=\"193\" y=\"220.3467\">ports</text></g></a><!--MD5=[ebbe1d658d1005bcc118a6aa81145e00]\n",
       "class E4--><a href=\"psysml:61764694-1d1c-48ba-adaa-4bba53d3d30f\" target=\"_top\" title=\"psysml:61764694-1d1c-48ba-adaa-4bba53d3d30f\" xlink:actuate=\"onRequest\" xlink:href=\"psysml:61764694-1d1c-48ba-adaa-4bba53d3d30f\" xlink:show=\"new\" xlink:title=\"psysml:61764694-1d1c-48ba-adaa-4bba53d3d30f\" xlink:type=\"simple\"><g id=\"elem_E4\"><rect fill=\"#F1F1F1\" height=\"48.2656\" id=\"E4\" rx=\"10\" ry=\"10\" style=\"stroke:#181818;stroke-width:0.5;\" width=\"84\" x=\"169\" y=\"303\"/><ellipse cx=\"184\" cy=\"323.1328\" fill=\"#0000FF\" rx=\"11\" ry=\"11\" style=\"stroke:#181818;stroke-width:1.0;\"/><path d=\"M180.8594,329.6328 L180.8594,317.4922 L184.8906,317.4922 Q186.9844,317.4922 188,318.4766 Q189.0156,319.4453 189.0156,321.2734 Q189.0156,322.4766 188.5781,323.3828 Q188.1563,324.2891 187.2031,324.8047 Q186.2656,325.3203 184.7344,325.3203 L183.2344,325.3203 L183.2344,329.6328 L180.8594,329.6328 Z M184.4844,323.2266 Q185.5313,323.2266 186.0469,322.7422 Q186.5781,322.2578 186.5781,321.3672 Q186.5781,320.4766 186.1406,320.0391 Q185.7188,319.5859 184.7969,319.5859 L183.2344,319.5859 L183.2344,323.2266 L184.4844,323.2266 Z \" fill=\"#000000\"/><text fill=\"#000000\" font-family=\"sans-serif\" font-size=\"12\" font-style=\"italic\" lengthAdjust=\"spacing\" textLength=\"40\" x=\"204\" y=\"319.1387\">«port»</text><text fill=\"#000000\" font-family=\"sans-serif\" font-size=\"14\" lengthAdjust=\"spacing\" textLength=\"44\" x=\"198\" y=\"334.9639\">porig1</text><line style=\"stroke:#181818;stroke-width:0.5;\" x1=\"170\" x2=\"252\" y1=\"343.2656\" y2=\"343.2656\"/></g></a><!--MD5=[270fce915f116d4de14055a7c1d9a0f3]\n",
       "class E5--><a href=\"psysml:e8b71076-5181-45d8-952d-6c6c3b8ab27b\" target=\"_top\" title=\"psysml:e8b71076-5181-45d8-952d-6c6c3b8ab27b\" xlink:actuate=\"onRequest\" xlink:href=\"psysml:e8b71076-5181-45d8-952d-6c6c3b8ab27b\" xlink:show=\"new\" xlink:title=\"psysml:e8b71076-5181-45d8-952d-6c6c3b8ab27b\" xlink:type=\"simple\"><g id=\"elem_E5\"><rect fill=\"#F1F1F1\" height=\"48.2656\" id=\"E5\" rx=\"10\" ry=\"10\" style=\"stroke:#181818;stroke-width:0.5;\" width=\"85\" x=\"142.5\" y=\"54.5\"/><ellipse cx=\"157.5\" cy=\"74.6328\" fill=\"#32CD32\" rx=\"11\" ry=\"11\" style=\"stroke:#181818;stroke-width:1.0;\"/><path d=\"M154.3594,81.1328 L154.3594,68.9922 L158.3906,68.9922 Q160.4844,68.9922 161.5,69.9766 Q162.5156,70.9453 162.5156,72.7734 Q162.5156,73.9766 162.0781,74.8828 Q161.6563,75.7891 160.7031,76.3047 Q159.7656,76.8203 158.2344,76.8203 L156.7344,76.8203 L156.7344,81.1328 L154.3594,81.1328 Z M157.9844,74.7266 Q159.0313,74.7266 159.5469,74.2422 Q160.0781,73.7578 160.0781,72.8672 Q160.0781,71.9766 159.6406,71.5391 Q159.2188,71.0859 158.2969,71.0859 L156.7344,71.0859 L156.7344,74.7266 L157.9844,74.7266 Z \" fill=\"#000000\"/><text fill=\"#000000\" font-family=\"sans-serif\" font-size=\"12\" font-style=\"italic\" lengthAdjust=\"spacing\" textLength=\"40\" x=\"178\" y=\"70.6387\">«part»</text><text fill=\"#000000\" font-family=\"sans-serif\" font-size=\"14\" lengthAdjust=\"spacing\" textLength=\"45\" x=\"171.5\" y=\"86.4639\">p1: P1</text><line style=\"stroke:#181818;stroke-width:0.5;\" x1=\"143.5\" x2=\"226.5\" y1=\"94.7656\" y2=\"94.7656\"/></g></a><!--MD5=[60a26617385b1d2d0262a64233df1f8d]\n",
       "class E6--><a href=\"psysml:d614f44e-5180-4509-9cc1-1632afa7b11f\" target=\"_top\" title=\"psysml:d614f44e-5180-4509-9cc1-1632afa7b11f\" xlink:actuate=\"onRequest\" xlink:href=\"psysml:d614f44e-5180-4509-9cc1-1632afa7b11f\" xlink:show=\"new\" xlink:title=\"psysml:d614f44e-5180-4509-9cc1-1632afa7b11f\" xlink:type=\"simple\"><g id=\"elem_E6\"><rect fill=\"#F1F1F1\" height=\"48.2656\" id=\"E6\" rx=\"10\" ry=\"10\" style=\"stroke:#181818;stroke-width:0.5;\" width=\"68\" x=\"80\" y=\"185.5\"/><ellipse cx=\"95\" cy=\"205.6328\" fill=\"#0000FF\" rx=\"11\" ry=\"11\" style=\"stroke:#181818;stroke-width:1.0;\"/><path d=\"M91.8594,212.1328 L91.8594,199.9922 L95.8906,199.9922 Q97.9844,199.9922 99,200.9766 Q100.0156,201.9453 100.0156,203.7734 Q100.0156,204.9766 99.5781,205.8828 Q99.1563,206.7891 98.2031,207.3047 Q97.2656,207.8203 95.7344,207.8203 L94.2344,207.8203 L94.2344,212.1328 L91.8594,212.1328 Z M95.4844,205.7266 Q96.5313,205.7266 97.0469,205.2422 Q97.5781,204.7578 97.5781,203.8672 Q97.5781,202.9766 97.1406,202.5391 Q96.7188,202.0859 95.7969,202.0859 L94.2344,202.0859 L94.2344,205.7266 L95.4844,205.7266 Z \" fill=\"#000000\"/><text fill=\"#000000\" font-family=\"sans-serif\" font-size=\"12\" font-style=\"italic\" lengthAdjust=\"spacing\" textLength=\"40\" x=\"107\" y=\"201.6387\">«port»</text><text fill=\"#000000\" font-family=\"sans-serif\" font-size=\"14\" lengthAdjust=\"spacing\" textLength=\"27\" x=\"109.5\" y=\"217.4639\">po1</text><line style=\"stroke:#181818;stroke-width:0.5;\" x1=\"81\" x2=\"147\" y1=\"225.7656\" y2=\"225.7656\"/></g></a><!--MD5=[2156ba9850f5573cc1fc38a6a4b2f02b]\n",
       "class E7--><a href=\"psysml:8277226e-c173-411e-8d8e-d31bb811c94b\" target=\"_top\" title=\"psysml:8277226e-c173-411e-8d8e-d31bb811c94b\" xlink:actuate=\"onRequest\" xlink:href=\"psysml:8277226e-c173-411e-8d8e-d31bb811c94b\" xlink:show=\"new\" xlink:title=\"psysml:8277226e-c173-411e-8d8e-d31bb811c94b\" xlink:type=\"simple\"><g id=\"elem_E7\"><rect fill=\"#F1F1F1\" height=\"75.0813\" id=\"E7\" rx=\"10\" ry=\"10\" style=\"stroke:#181818;stroke-width:0.5;\" width=\"85\" x=\"22.5\" y=\"41\"/><ellipse cx=\"37.5\" cy=\"61.1328\" fill=\"#32CD32\" rx=\"11\" ry=\"11\" style=\"stroke:#181818;stroke-width:1.0;\"/><path d=\"M34.3594,67.6328 L34.3594,55.4922 L38.3906,55.4922 Q40.4844,55.4922 41.5,56.4766 Q42.5156,57.4453 42.5156,59.2734 Q42.5156,60.4766 42.0781,61.3828 Q41.6563,62.2891 40.7031,62.8047 Q39.7656,63.3203 38.2344,63.3203 L36.7344,63.3203 L36.7344,67.6328 L34.3594,67.6328 Z M37.9844,61.2266 Q39.0313,61.2266 39.5469,60.7422 Q40.0781,60.2578 40.0781,59.3672 Q40.0781,58.4766 39.6406,58.0391 Q39.2188,57.5859 38.2969,57.5859 L36.7344,57.5859 L36.7344,61.2266 L37.9844,61.2266 Z \" fill=\"#000000\"/><text fill=\"#000000\" font-family=\"sans-serif\" font-size=\"12\" font-style=\"italic\" lengthAdjust=\"spacing\" textLength=\"40\" x=\"58\" y=\"57.1387\">«part»</text><text fill=\"#000000\" font-family=\"sans-serif\" font-size=\"14\" lengthAdjust=\"spacing\" textLength=\"45\" x=\"51.5\" y=\"72.9639\">p2: P1</text><line style=\"stroke:#181818;stroke-width:0.5;\" x1=\"23.5\" x2=\"106.5\" y1=\"81.2656\" y2=\"81.2656\"/><text fill=\"#000000\" font-family=\"sans-serif\" font-size=\"14\" lengthAdjust=\"spacing\" textLength=\"40\" x=\"28.5\" y=\"108.7795\">pdest</text><text fill=\"#000000\" font-family=\"sans-serif\" font-size=\"14\" font-style=\"italic\" lengthAdjust=\"spacing\" textLength=\"36\" x=\"47\" y=\"93.6123\">ports</text></g></a><!--MD5=[b9389687b975829384b498ac4b7476b2]\n",
       "class E8--><a href=\"psysml:88f12717-b335-4bfa-a952-2b65a00cb7af\" target=\"_top\" title=\"psysml:88f12717-b335-4bfa-a952-2b65a00cb7af\" xlink:actuate=\"onRequest\" xlink:href=\"psysml:88f12717-b335-4bfa-a952-2b65a00cb7af\" xlink:show=\"new\" xlink:title=\"psysml:88f12717-b335-4bfa-a952-2b65a00cb7af\" xlink:type=\"simple\"><g id=\"elem_E8\"><rect fill=\"#F1F1F1\" height=\"48.2656\" id=\"E8\" rx=\"10\" ry=\"10\" style=\"stroke:#181818;stroke-width:0.5;\" width=\"80\" x=\"54\" y=\"303\"/><ellipse cx=\"69\" cy=\"323.1328\" fill=\"#0000FF\" rx=\"11\" ry=\"11\" style=\"stroke:#181818;stroke-width:1.0;\"/><path d=\"M65.8594,329.6328 L65.8594,317.4922 L69.8906,317.4922 Q71.9844,317.4922 73,318.4766 Q74.0156,319.4453 74.0156,321.2734 Q74.0156,322.4766 73.5781,323.3828 Q73.1563,324.2891 72.2031,324.8047 Q71.2656,325.3203 69.7344,325.3203 L68.2344,325.3203 L68.2344,329.6328 L65.8594,329.6328 Z M69.4844,323.2266 Q70.5313,323.2266 71.0469,322.7422 Q71.5781,322.2578 71.5781,321.3672 Q71.5781,320.4766 71.1406,320.0391 Q70.7188,319.5859 69.7969,319.5859 L68.2344,319.5859 L68.2344,323.2266 L69.4844,323.2266 Z \" fill=\"#000000\"/><text fill=\"#000000\" font-family=\"sans-serif\" font-size=\"12\" font-style=\"italic\" lengthAdjust=\"spacing\" textLength=\"40\" x=\"87\" y=\"319.1387\">«port»</text><text fill=\"#000000\" font-family=\"sans-serif\" font-size=\"14\" lengthAdjust=\"spacing\" textLength=\"40\" x=\"83\" y=\"334.9639\">pdest</text><line style=\"stroke:#181818;stroke-width:0.5;\" x1=\"55\" x2=\"133\" y1=\"343.2656\" y2=\"343.2656\"/></g></a><!--MD5=[4672eba38e49728da53d11aeb285b987]\n",
       "reverse link E3 to E4--><g id=\"link_E3_E4\"><a href=\"psysml:9ff7bfb9-db47-4597-ac60-7f24b5e1b5c0\" target=\"_top\" title=\"psysml:9ff7bfb9-db47-4597-ac60-7f24b5e1b5c0\" xlink:actuate=\"onRequest\" xlink:href=\"psysml:9ff7bfb9-db47-4597-ac60-7f24b5e1b5c0\" xlink:show=\"new\" xlink:title=\"psysml:9ff7bfb9-db47-4597-ac60-7f24b5e1b5c0\" xlink:type=\"simple\"><path d=\"M211,256.72 C211,272.5 211,289.47 211,302.67 \" fill=\"none\" id=\"E3-backto-E4\" style=\"stroke:#181818;stroke-width:1.0;\"/><polygon fill=\"none\" points=\"211,243.29,207,249.29,211,255.29,215,249.29,211,243.29\" style=\"stroke:#181818;stroke-width:1.0;\"/></a></g><!--MD5=[e9be52314489bd878ff4c7144b63c9e1]\n",
       "link E5 to E3--><g id=\"link_E5_E3\"><a href=\"psysml:515868c5-6015-4da5-b3ff-32117e872914\" target=\"_top\" title=\"psysml:515868c5-6015-4da5-b3ff-32117e872914\" xlink:actuate=\"onRequest\" xlink:href=\"psysml:515868c5-6015-4da5-b3ff-32117e872914\" xlink:show=\"new\" xlink:title=\"psysml:515868c5-6015-4da5-b3ff-32117e872914\" xlink:type=\"simple\"><path d=\"M189.65,102.56 C192.66,117.49 196.7,137.56 200.46,156.21 \" fill=\"none\" id=\"E5-to-E3\" style=\"stroke:#181818;stroke-width:1.0;\"/><polygon fill=\"#FFFFFF\" points=\"204.44,175.95,193.8328,158.7022,207.5582,155.9431,204.44,175.95\" style=\"stroke:#181818;stroke-width:1.0;\"/><ellipse cx=\"194.6703\" cy=\"152.7198\" fill=\"#181818\" rx=\"2\" ry=\"2\" style=\"stroke:#181818;stroke-width:1.0;\"/><ellipse cx=\"204.4741\" cy=\"150.749\" fill=\"#181818\" rx=\"2\" ry=\"2\" style=\"stroke:#181818;stroke-width:1.0;\"/></a></g><!--MD5=[85d356282659285ab4b2cfe2f634dd2b]\n",
       "reverse link E5 to E6--><g id=\"link_E5_E6\"><a href=\"psysml:1a5e094c-b062-4a12-bd0e-4269385c32ea\" target=\"_top\" title=\"psysml:1a5e094c-b062-4a12-bd0e-4269385c32ea\" xlink:actuate=\"onRequest\" xlink:href=\"psysml:1a5e094c-b062-4a12-bd0e-4269385c32ea\" xlink:show=\"new\" xlink:title=\"psysml:1a5e094c-b062-4a12-bd0e-4269385c32ea\" xlink:type=\"simple\"><path d=\"M166,114.01 C153.6,136.54 137.75,165.35 126.82,185.2 \" fill=\"none\" id=\"E5-backto-E6\" style=\"stroke:#181818;stroke-width:1.0;\"/><polygon fill=\"none\" points=\"172.31,102.56,165.9115,105.8856,166.5204,113.071,172.9189,109.7454,172.31,102.56\" style=\"stroke:#181818;stroke-width:1.0;\"/></a></g><!--MD5=[f667431f98296947986a1a7595a31603]\n",
       "link E6 to E4--><g id=\"link_E6_E4\"><a href=\"psysml:70307247-8a04-4365-8b78-a7ff4bcf8dda\" target=\"_top\" title=\"psysml:70307247-8a04-4365-8b78-a7ff4bcf8dda\" xlink:actuate=\"onRequest\" xlink:href=\"psysml:70307247-8a04-4365-8b78-a7ff4bcf8dda\" xlink:show=\"new\" xlink:title=\"psysml:70307247-8a04-4365-8b78-a7ff4bcf8dda\" xlink:type=\"simple\"><path d=\"M133.4,233.6 C146.35,249.02 163.7,269.67 178.7,287.55 \" fill=\"none\" id=\"E6-to-E4\" style=\"stroke:#181818;stroke-width:1.0;\"/><polygon fill=\"#FFFFFF\" points=\"191.64,302.94,174.0667,292.8813,184.793,283.8843,191.64,302.94\" style=\"stroke:#181818;stroke-width:1.0;\"/><line style=\"stroke:#181818;stroke-width:2.0;\" x1=\"171.6246\" x2=\"182.351\" y1=\"289.9698\" y2=\"280.9729\"/></a></g><!--MD5=[14ccda38c055a5c0da953d572bc50960]\n",
       "link E7 to E3--><g id=\"link_E7_E3\"><a href=\"psysml:e2fe589c-f14e-47a5-aaf0-9a8ebd450a7c\" target=\"_top\" title=\"psysml:e2fe589c-f14e-47a5-aaf0-9a8ebd450a7c\" xlink:actuate=\"onRequest\" xlink:href=\"psysml:e2fe589c-f14e-47a5-aaf0-9a8ebd450a7c\" xlink:show=\"new\" xlink:title=\"psysml:e2fe589c-f14e-47a5-aaf0-9a8ebd450a7c\" xlink:type=\"simple\"><path d=\"M106.45,116.12 C125.64,133.08 148.44,153.23 167.85,170.37 \" fill=\"none\" id=\"E7-to-E3\" style=\"stroke:#181818;stroke-width:1.0;\"/><polygon fill=\"#FFFFFF\" points=\"182.87,183.64,163.9973,176.3038,173.2679,165.8131,182.87,183.64\" style=\"stroke:#181818;stroke-width:1.0;\"/><ellipse cx=\"161.0504\" cy=\"171.0306\" fill=\"#181818\" rx=\"2\" ry=\"2\" style=\"stroke:#181818;stroke-width:1.0;\"/><ellipse cx=\"167.6723\" cy=\"163.5373\" fill=\"#181818\" rx=\"2\" ry=\"2\" style=\"stroke:#181818;stroke-width:1.0;\"/></a></g><!--MD5=[dc164f5e8a733ab456ef1add180e9e34]\n",
       "reverse link E7 to E8--><g id=\"link_E7_E8\"><a href=\"psysml:ca64ac56-097c-4feb-943f-895d8fc6b637\" target=\"_top\" title=\"psysml:ca64ac56-097c-4feb-943f-895d8fc6b637\" xlink:actuate=\"onRequest\" xlink:href=\"psysml:ca64ac56-097c-4feb-943f-895d8fc6b637\" xlink:show=\"new\" xlink:title=\"psysml:ca64ac56-097c-4feb-943f-895d8fc6b637\" xlink:type=\"simple\"><path d=\"M59.5,129.46 C57.11,162.04 56.2,205.36 63,243 C66.77,263.89 75.49,286.38 82.72,302.67 \" fill=\"none\" id=\"E7-backto-E8\" style=\"stroke:#181818;stroke-width:1.0;\"/><polygon fill=\"none\" points=\"60.6,116.2,56.1192,121.85,59.6111,128.1592,64.0919,122.5092,60.6,116.2\" style=\"stroke:#181818;stroke-width:1.0;\"/></a></g><!--MD5=[0a839d0f80c2d72d4b9b307f046d0de8]\n",
       "link E6 to E8--><g id=\"link_E6_E8\"><a href=\"psysml:f1f85c24-6beb-4ed4-abfc-161aeb53ad8b\" target=\"_top\" title=\"psysml:f1f85c24-6beb-4ed4-abfc-161aeb53ad8b\" xlink:actuate=\"onRequest\" xlink:href=\"psysml:f1f85c24-6beb-4ed4-abfc-161aeb53ad8b\" xlink:show=\"new\" xlink:title=\"psysml:f1f85c24-6beb-4ed4-abfc-161aeb53ad8b\" xlink:type=\"simple\"><path d=\"M99.56,233.6 C92.99,253.74 87.96,282.81 87.56,302.94 \" fill=\"none\" id=\"E6-E8\" style=\"stroke:#181818;stroke-width:3.0;\"/></a></g><!--MD5=[0a839d0f80c2d72d4b9b307f046d0de8]\n",
       "link E6 to E8--><g id=\"link_E6_E8\"><a href=\"psysml:92c8a956-0030-45f2-8c30-896629fb0abd\" target=\"_top\" title=\"psysml:92c8a956-0030-45f2-8c30-896629fb0abd\" xlink:actuate=\"onRequest\" xlink:href=\"psysml:92c8a956-0030-45f2-8c30-896629fb0abd\" xlink:show=\"new\" xlink:title=\"psysml:92c8a956-0030-45f2-8c30-896629fb0abd\" xlink:type=\"simple\"><path d=\"M121.05,233.6 C120.83,253.74 115.79,282.81 109.04,302.94 \" fill=\"none\" id=\"E6-E8-1\" style=\"stroke:#181818;stroke-width:3.0;\"/></a></g><!--MD5=[76b1d7495f47bc074d22d87d3c3cd578]\n",
       "@startuml\r\n",
       " \r\n",
       "package \"AliasTest\" as E1  [[psysml:a1c2986a-a425-4687-93ae-51674f2ada97 ]]  {\r\n",
       "comp usage \"b :>ISQSpaceTime::width \" as E2  << <<(U,orange) attribute>> [[psysml:f27707b2-90f2-4671-96dd-49a3cebd999e ]] {\r\n",
       "}\r\n",
       "comp def \"P1\" as E3  << << (B,green) >> [[psysml:d64d4abf-692a-4b0a-b1a7-ca6bfa2152dc ]] {\r\n",
       "##//ports//##\r\n",
       "porig1\r\n",
       "}\r\n",
       "comp usage \"porig1  \" as E4  << << (P,blue) port>> [[psysml:61764694-1d1c-48ba-adaa-4bba53d3d30f ]] {\r\n",
       "}\r\n",
       "comp usage \"p1: P1  \" as E5  << << (P,limegreen) part>> [[psysml:e8b71076-5181-45d8-952d-6c6c3b8ab27b ]] {\r\n",
       "}\r\n",
       "comp usage \"po1  \" as E6  << << (P,blue) port>> [[psysml:d614f44e-5180-4509-9cc1-1632afa7b11f ]] {\r\n",
       "}\r\n",
       "comp usage \"p2: P1  \" as E7  << << (P,limegreen) part>> [[psysml:8277226e-c173-411e-8d8e-d31bb811c94b ]] {\r\n",
       "##//ports//##\r\n",
       "pdest\r\n",
       "}\r\n",
       "comp usage \"pdest  \" as E8  << << (P,blue) port>> [[psysml:88f12717-b335-4bfa-a952-2b65a00cb7af ]] {\r\n",
       "}\r\n",
       "}\r\n",
       "E3 o- - E4 [[psysml:9ff7bfb9-db47-4597-ac60-7f24b5e1b5c0 ]] \r\n",
       "E5 - -:|> E3 [[psysml:515868c5-6015-4da5-b3ff-32117e872914 ]] \r\n",
       "E5 o- - E6 [[psysml:1a5e094c-b062-4a12-bd0e-4269385c32ea ]] \r\n",
       "E6 - -||> E4 [[psysml:70307247-8a04-4365-8b78-a7ff4bcf8dda ]] \r\n",
       "E7 - -:|> E3 [[psysml:e2fe589c-f14e-47a5-aaf0-9a8ebd450a7c ]] \r\n",
       "E7 o- - E8 [[psysml:ca64ac56-097c-4feb-943f-895d8fc6b637 ]] \r\n",
       "E6 -[thickness=3]- E8 [[psysml:f1f85c24-6beb-4ed4-abfc-161aeb53ad8b ]] \r\n",
       "E6 -[thickness=3]- E8 [[psysml:92c8a956-0030-45f2-8c30-896629fb0abd ]] \r\n",
       "@enduml\r\n",
       "\n",
       "PlantUML version 1.2022.7(Mon Aug 22 17:01:30 UTC 2022)\n",
       "(EPL source distribution)\n",
       "Java Runtime: OpenJDK Runtime Environment\n",
       "JVM: OpenJDK 64-Bit Server VM\n",
       "Default Encoding: UTF-8\n",
       "Language: en\n",
       "Country: null\n",
       "--></g></svg>"
      ]
     },
     "execution_count": 36,
     "metadata": {},
     "output_type": "execute_result"
    }
   ],
   "source": [
    "%viz --style=\"PLANTUML\" --view=\"MIXED\" \"AliasTest\""
   ]
  },
  {
   "cell_type": "code",
   "execution_count": 37,
   "id": "dc05435f",
   "metadata": {
    "execution": {
     "iopub.execute_input": "2024-12-16T03:25:13.919594Z",
     "iopub.status.busy": "2024-12-16T03:25:13.919380Z",
     "iopub.status.idle": "2024-12-16T03:25:13.938956Z",
     "shell.execute_reply": "2024-12-16T03:25:13.938020Z"
    }
   },
   "outputs": [
    {
     "data": {
      "image/svg+xml": [
       "<?xml version=\"1.0\" encoding=\"UTF-8\" standalone=\"no\"?><svg xmlns=\"http://www.w3.org/2000/svg\" xmlns:xlink=\"http://www.w3.org/1999/xlink\" contentStyleType=\"text/css\" height=\"382px\" preserveAspectRatio=\"none\" style=\"width:440px;height:382px;background:#FFFFFF;\" version=\"1.1\" viewBox=\"0 0 440 382\" width=\"440px\" zoomAndPan=\"magnify\"><defs/><g><!--MD5=[fbc87193dbaf4d95561dea2c320d4a47]\n",
       "cluster E1--><g id=\"cluster_E1\"><a href=\"psysml:a1c2986a-a425-4687-93ae-51674f2ada97\" target=\"_top\" title=\"psysml:a1c2986a-a425-4687-93ae-51674f2ada97\" xlink:actuate=\"onRequest\" xlink:href=\"psysml:a1c2986a-a425-4687-93ae-51674f2ada97\" xlink:show=\"new\" xlink:title=\"psysml:a1c2986a-a425-4687-93ae-51674f2ada97\" xlink:type=\"simple\"><polygon fill=\"none\" points=\"16,6,87.9375,6,94.9375,28.2969,423,28.2969,423,375,16,375,16,6\" style=\"stroke:#000000;stroke-width:1.5;\"/><line style=\"stroke:#000000;stroke-width:1.5;\" x1=\"16\" x2=\"94.9375\" y1=\"28.2969\" y2=\"28.2969\"/><text fill=\"#000000\" font-family=\"sans-serif\" font-size=\"14\" font-weight=\"bold\" lengthAdjust=\"spacing\" textLength=\"65.9375\" x=\"20\" y=\"20.9951\">AliasTest</text></a></g><!--MD5=[b4997ac47864f28c2f74865a473b2911]\n",
       "class E2--><a href=\"psysml:f27707b2-90f2-4671-96dd-49a3cebd999e\" target=\"_top\" title=\"psysml:f27707b2-90f2-4671-96dd-49a3cebd999e\" xlink:actuate=\"onRequest\" xlink:href=\"psysml:f27707b2-90f2-4671-96dd-49a3cebd999e\" xlink:show=\"new\" xlink:title=\"psysml:f27707b2-90f2-4671-96dd-49a3cebd999e\" xlink:type=\"simple\"><g id=\"elem_E2\"><rect fill=\"#FFFFFF\" height=\"48.2656\" id=\"E2\" rx=\"10\" ry=\"10\" style=\"stroke:#181818;stroke-width:0.5;\" width=\"187\" x=\"220.5\" y=\"54.5\"/><text fill=\"#000000\" font-family=\"sans-serif\" font-size=\"12\" font-style=\"italic\" lengthAdjust=\"spacing\" textLength=\"69\" x=\"279.5\" y=\"70.6387\">«attribute»</text><text fill=\"#000000\" font-family=\"sans-serif\" font-size=\"14\" lengthAdjust=\"spacing\" textLength=\"177\" x=\"223.5\" y=\"86.4639\">b :&gt;ISQSpaceTime::width</text><line style=\"stroke:#181818;stroke-width:0.5;\" x1=\"221.5\" x2=\"406.5\" y1=\"94.7656\" y2=\"94.7656\"/></g></a><!--MD5=[09b614a08d8cba4a07c9adeb5e0fee81]\n",
       "class E3--><a href=\"psysml:d64d4abf-692a-4b0a-b1a7-ca6bfa2152dc\" target=\"_top\" title=\"psysml:d64d4abf-692a-4b0a-b1a7-ca6bfa2152dc\" xlink:actuate=\"onRequest\" xlink:href=\"psysml:d64d4abf-692a-4b0a-b1a7-ca6bfa2152dc\" xlink:show=\"new\" xlink:title=\"psysml:d64d4abf-692a-4b0a-b1a7-ca6bfa2152dc\" xlink:type=\"simple\"><g id=\"elem_E3\"><rect fill=\"#FFFFFF\" height=\"75.0813\" id=\"E3\" style=\"stroke:#181818;stroke-width:0.5;\" width=\"70\" x=\"160\" y=\"176\"/><text fill=\"#000000\" font-family=\"sans-serif\" font-size=\"12\" font-style=\"italic\" lengthAdjust=\"spacing\" textLength=\"68\" x=\"161\" y=\"192.1387\">«part  def»</text><text fill=\"#000000\" font-family=\"sans-serif\" font-size=\"14\" lengthAdjust=\"spacing\" textLength=\"18\" x=\"186\" y=\"207.9639\">P1</text><line style=\"stroke:#181818;stroke-width:0.5;\" x1=\"161\" x2=\"229\" y1=\"216.2656\" y2=\"216.2656\"/><text fill=\"#000000\" font-family=\"sans-serif\" font-size=\"14\" lengthAdjust=\"spacing\" textLength=\"44\" x=\"166\" y=\"243.7795\">porig1</text><text fill=\"#000000\" font-family=\"sans-serif\" font-size=\"14\" font-style=\"italic\" lengthAdjust=\"spacing\" textLength=\"36\" x=\"177\" y=\"228.6123\">ports</text></g></a><!--MD5=[ebbe1d658d1005bcc118a6aa81145e00]\n",
       "class E4--><a href=\"psysml:61764694-1d1c-48ba-adaa-4bba53d3d30f\" target=\"_top\" title=\"psysml:61764694-1d1c-48ba-adaa-4bba53d3d30f\" xlink:actuate=\"onRequest\" xlink:href=\"psysml:61764694-1d1c-48ba-adaa-4bba53d3d30f\" xlink:show=\"new\" xlink:title=\"psysml:61764694-1d1c-48ba-adaa-4bba53d3d30f\" xlink:type=\"simple\"><g id=\"elem_E4\"><rect fill=\"#FFFFFF\" height=\"48.2656\" id=\"E4\" rx=\"10\" ry=\"10\" style=\"stroke:#181818;stroke-width:0.5;\" width=\"58\" x=\"166\" y=\"311\"/><text fill=\"#000000\" font-family=\"sans-serif\" font-size=\"12\" font-style=\"italic\" lengthAdjust=\"spacing\" textLength=\"40\" x=\"175\" y=\"327.1387\">«port»</text><text fill=\"#000000\" font-family=\"sans-serif\" font-size=\"14\" lengthAdjust=\"spacing\" textLength=\"44\" x=\"169\" y=\"342.9639\">porig1</text><line style=\"stroke:#181818;stroke-width:0.5;\" x1=\"167\" x2=\"223\" y1=\"351.2656\" y2=\"351.2656\"/></g></a><!--MD5=[270fce915f116d4de14055a7c1d9a0f3]\n",
       "class E5--><a href=\"psysml:e8b71076-5181-45d8-952d-6c6c3b8ab27b\" target=\"_top\" title=\"psysml:e8b71076-5181-45d8-952d-6c6c3b8ab27b\" xlink:actuate=\"onRequest\" xlink:href=\"psysml:e8b71076-5181-45d8-952d-6c6c3b8ab27b\" xlink:show=\"new\" xlink:title=\"psysml:e8b71076-5181-45d8-952d-6c6c3b8ab27b\" xlink:type=\"simple\"><g id=\"elem_E5\"><rect fill=\"#FFFFFF\" height=\"48.2656\" id=\"E5\" rx=\"10\" ry=\"10\" style=\"stroke:#181818;stroke-width:0.5;\" width=\"59\" x=\"126.5\" y=\"54.5\"/><text fill=\"#000000\" font-family=\"sans-serif\" font-size=\"12\" font-style=\"italic\" lengthAdjust=\"spacing\" textLength=\"40\" x=\"136\" y=\"70.6387\">«part»</text><text fill=\"#000000\" font-family=\"sans-serif\" font-size=\"14\" lengthAdjust=\"spacing\" textLength=\"45\" x=\"129.5\" y=\"86.4639\">p1: P1</text><line style=\"stroke:#181818;stroke-width:0.5;\" x1=\"127.5\" x2=\"184.5\" y1=\"94.7656\" y2=\"94.7656\"/></g></a><!--MD5=[60a26617385b1d2d0262a64233df1f8d]\n",
       "class E6--><a href=\"psysml:d614f44e-5180-4509-9cc1-1632afa7b11f\" target=\"_top\" title=\"psysml:d614f44e-5180-4509-9cc1-1632afa7b11f\" xlink:actuate=\"onRequest\" xlink:href=\"psysml:d614f44e-5180-4509-9cc1-1632afa7b11f\" xlink:show=\"new\" xlink:title=\"psysml:d614f44e-5180-4509-9cc1-1632afa7b11f\" xlink:type=\"simple\"><g id=\"elem_E6\"><rect fill=\"#FFFFFF\" height=\"48.2656\" id=\"E6\" rx=\"10\" ry=\"10\" style=\"stroke:#181818;stroke-width:0.5;\" width=\"42\" x=\"83\" y=\"189.5\"/><text fill=\"#000000\" font-family=\"sans-serif\" font-size=\"12\" font-style=\"italic\" lengthAdjust=\"spacing\" textLength=\"40\" x=\"84\" y=\"205.6387\">«port»</text><text fill=\"#000000\" font-family=\"sans-serif\" font-size=\"14\" lengthAdjust=\"spacing\" textLength=\"27\" x=\"86.5\" y=\"221.4639\">po1</text><line style=\"stroke:#181818;stroke-width:0.5;\" x1=\"84\" x2=\"124\" y1=\"229.7656\" y2=\"229.7656\"/></g></a><!--MD5=[2156ba9850f5573cc1fc38a6a4b2f02b]\n",
       "class E7--><a href=\"psysml:8277226e-c173-411e-8d8e-d31bb811c94b\" target=\"_top\" title=\"psysml:8277226e-c173-411e-8d8e-d31bb811c94b\" xlink:actuate=\"onRequest\" xlink:href=\"psysml:8277226e-c173-411e-8d8e-d31bb811c94b\" xlink:show=\"new\" xlink:title=\"psysml:8277226e-c173-411e-8d8e-d31bb811c94b\" xlink:type=\"simple\"><g id=\"elem_E7\"><rect fill=\"#FFFFFF\" height=\"75.0813\" id=\"E7\" rx=\"10\" ry=\"10\" style=\"stroke:#181818;stroke-width:0.5;\" width=\"59\" x=\"32.5\" y=\"41\"/><text fill=\"#000000\" font-family=\"sans-serif\" font-size=\"12\" font-style=\"italic\" lengthAdjust=\"spacing\" textLength=\"40\" x=\"42\" y=\"57.1387\">«part»</text><text fill=\"#000000\" font-family=\"sans-serif\" font-size=\"14\" lengthAdjust=\"spacing\" textLength=\"45\" x=\"35.5\" y=\"72.9639\">p2: P1</text><line style=\"stroke:#181818;stroke-width:0.5;\" x1=\"33.5\" x2=\"90.5\" y1=\"81.2656\" y2=\"81.2656\"/><text fill=\"#000000\" font-family=\"sans-serif\" font-size=\"14\" lengthAdjust=\"spacing\" textLength=\"40\" x=\"38.5\" y=\"108.7795\">pdest</text><text fill=\"#000000\" font-family=\"sans-serif\" font-size=\"14\" font-style=\"italic\" lengthAdjust=\"spacing\" textLength=\"36\" x=\"44\" y=\"93.6123\">ports</text></g></a><!--MD5=[b9389687b975829384b498ac4b7476b2]\n",
       "class E8--><a href=\"psysml:88f12717-b335-4bfa-a952-2b65a00cb7af\" target=\"_top\" title=\"psysml:88f12717-b335-4bfa-a952-2b65a00cb7af\" xlink:actuate=\"onRequest\" xlink:href=\"psysml:88f12717-b335-4bfa-a952-2b65a00cb7af\" xlink:show=\"new\" xlink:title=\"psysml:88f12717-b335-4bfa-a952-2b65a00cb7af\" xlink:type=\"simple\"><g id=\"elem_E8\"><rect fill=\"#FFFFFF\" height=\"48.2656\" id=\"E8\" rx=\"10\" ry=\"10\" style=\"stroke:#181818;stroke-width:0.5;\" width=\"54\" x=\"77\" y=\"311\"/><text fill=\"#000000\" font-family=\"sans-serif\" font-size=\"12\" font-style=\"italic\" lengthAdjust=\"spacing\" textLength=\"40\" x=\"84\" y=\"327.1387\">«port»</text><text fill=\"#000000\" font-family=\"sans-serif\" font-size=\"14\" lengthAdjust=\"spacing\" textLength=\"40\" x=\"80\" y=\"342.9639\">pdest</text><line style=\"stroke:#181818;stroke-width:0.5;\" x1=\"78\" x2=\"130\" y1=\"351.2656\" y2=\"351.2656\"/></g></a><!--MD5=[4672eba38e49728da53d11aeb285b987]\n",
       "reverse link E3 to E4--><g id=\"link_E3_E4\"><a href=\"psysml:9ff7bfb9-db47-4597-ac60-7f24b5e1b5c0\" target=\"_top\" title=\"psysml:9ff7bfb9-db47-4597-ac60-7f24b5e1b5c0\" xlink:actuate=\"onRequest\" xlink:href=\"psysml:9ff7bfb9-db47-4597-ac60-7f24b5e1b5c0\" xlink:show=\"new\" xlink:title=\"psysml:9ff7bfb9-db47-4597-ac60-7f24b5e1b5c0\" xlink:type=\"simple\"><path d=\"M195,264.25 C195,280.43 195,297.61 195,310.88 \" fill=\"none\" id=\"E3-backto-E4\" style=\"stroke:#181818;stroke-width:1.0;\"/><polygon fill=\"none\" points=\"195,251,191,257,195,263,199,257,195,251\" style=\"stroke:#181818;stroke-width:1.0;\"/></a></g><!--MD5=[e9be52314489bd878ff4c7144b63c9e1]\n",
       "link E5 to E3--><g id=\"link_E5_E3\"><a href=\"psysml:515868c5-6015-4da5-b3ff-32117e872914\" target=\"_top\" title=\"psysml:515868c5-6015-4da5-b3ff-32117e872914\" xlink:actuate=\"onRequest\" xlink:href=\"psysml:515868c5-6015-4da5-b3ff-32117e872914\" xlink:show=\"new\" xlink:title=\"psysml:515868c5-6015-4da5-b3ff-32117e872914\" xlink:type=\"simple\"><path d=\"M162.79,102.67 C167.16,117.56 173.03,137.58 178.57,156.45 \" fill=\"none\" id=\"E5-to-E3\" style=\"stroke:#181818;stroke-width:1.0;\"/><polygon fill=\"#FFFFFF\" points=\"184.24,175.81,172.1744,159.5489,185.6082,155.6078,184.24,175.81\" style=\"stroke:#181818;stroke-width:1.0;\"/><ellipse cx=\"172.4889\" cy=\"153.5164\" fill=\"#181818\" rx=\"2\" ry=\"2\" style=\"stroke:#181818;stroke-width:1.0;\"/><ellipse cx=\"182.0845\" cy=\"150.7014\" fill=\"#181818\" rx=\"2\" ry=\"2\" style=\"stroke:#181818;stroke-width:1.0;\"/></a></g><!--MD5=[85d356282659285ab4b2cfe2f634dd2b]\n",
       "reverse link E5 to E6--><g id=\"link_E5_E6\"><a href=\"psysml:1a5e094c-b062-4a12-bd0e-4269385c32ea\" target=\"_top\" title=\"psysml:1a5e094c-b062-4a12-bd0e-4269385c32ea\" xlink:actuate=\"onRequest\" xlink:href=\"psysml:1a5e094c-b062-4a12-bd0e-4269385c32ea\" xlink:show=\"new\" xlink:title=\"psysml:1a5e094c-b062-4a12-bd0e-4269385c32ea\" xlink:type=\"simple\"><path d=\"M142.15,114.93 C132.96,138.44 121.15,168.62 113.13,189.15 \" fill=\"none\" id=\"E5-backto-E6\" style=\"stroke:#181818;stroke-width:1.0;\"/><polygon fill=\"none\" points=\"146.94,102.67,141.0321,106.8049,142.5767,113.8486,148.4845,109.7138,146.94,102.67\" style=\"stroke:#181818;stroke-width:1.0;\"/></a></g><!--MD5=[f667431f98296947986a1a7595a31603]\n",
       "link E6 to E4--><g id=\"link_E6_E4\"><a href=\"psysml:70307247-8a04-4365-8b78-a7ff4bcf8dda\" target=\"_top\" title=\"psysml:70307247-8a04-4365-8b78-a7ff4bcf8dda\" xlink:actuate=\"onRequest\" xlink:href=\"psysml:70307247-8a04-4365-8b78-a7ff4bcf8dda\" xlink:show=\"new\" xlink:title=\"psysml:70307247-8a04-4365-8b78-a7ff4bcf8dda\" xlink:type=\"simple\"><path d=\"M121.55,237.54 C133.87,253.72 150.65,275.76 165.07,294.69 \" fill=\"none\" id=\"E6-to-E4\" style=\"stroke:#181818;stroke-width:1.0;\"/><polygon fill=\"#FFFFFF\" points=\"177.2,310.62,160.1219,299.7417,171.2616,291.2619,177.2,310.62\" style=\"stroke:#181818;stroke-width:1.0;\"/><line style=\"stroke:#181818;stroke-width:2.0;\" x1=\"157.8202\" x2=\"168.9599\" y1=\"296.7181\" y2=\"288.2383\"/></a></g><!--MD5=[14ccda38c055a5c0da953d572bc50960]\n",
       "link E7 to E3--><g id=\"link_E7_E3\"><a href=\"psysml:e2fe589c-f14e-47a5-aaf0-9a8ebd450a7c\" target=\"_top\" title=\"psysml:e2fe589c-f14e-47a5-aaf0-9a8ebd450a7c\" xlink:actuate=\"onRequest\" xlink:href=\"psysml:e2fe589c-f14e-47a5-aaf0-9a8ebd450a7c\" xlink:show=\"new\" xlink:title=\"psysml:e2fe589c-f14e-47a5-aaf0-9a8ebd450a7c\" xlink:type=\"simple\"><path d=\"M91.52,109.02 C107.38,124.88 127.36,144.86 145.52,163.02 \" fill=\"none\" id=\"E7-to-E3\" style=\"stroke:#181818;stroke-width:1.0;\"/><polygon fill=\"#FFFFFF\" points=\"159.9,177.4,141.5152,168.9147,151.4147,159.0152,159.9,177.4\" style=\"stroke:#181818;stroke-width:1.0;\"/><ellipse cx=\"138.8989\" cy=\"163.47\" fill=\"#181818\" rx=\"2\" ry=\"2\" style=\"stroke:#181818;stroke-width:1.0;\"/><ellipse cx=\"145.97\" cy=\"156.3989\" fill=\"#181818\" rx=\"2\" ry=\"2\" style=\"stroke:#181818;stroke-width:1.0;\"/></a></g><!--MD5=[dc164f5e8a733ab456ef1add180e9e34]\n",
       "reverse link E7 to E8--><g id=\"link_E7_E8\"><a href=\"psysml:ca64ac56-097c-4feb-943f-895d8fc6b637\" target=\"_top\" title=\"psysml:ca64ac56-097c-4feb-943f-895d8fc6b637\" xlink:actuate=\"onRequest\" xlink:href=\"psysml:ca64ac56-097c-4feb-943f-895d8fc6b637\" xlink:show=\"new\" xlink:title=\"psysml:ca64ac56-097c-4feb-943f-895d8fc6b637\" xlink:type=\"simple\"><path d=\"M57.91,129.24 C56.33,163.83 56.74,210.77 66,251 C70.91,272.31 81.57,294.77 90.35,310.94 \" fill=\"none\" id=\"E7-backto-E8\" style=\"stroke:#181818;stroke-width:1.0;\"/><polygon fill=\"none\" points=\"58.62,116.16,54.3028,121.936,57.9741,128.1426,62.2912,122.3666,58.62,116.16\" style=\"stroke:#181818;stroke-width:1.0;\"/></a></g><!--MD5=[0a839d0f80c2d72d4b9b307f046d0de8]\n",
       "link E6 to E8--><g id=\"link_E6_E8\"><a href=\"psysml:f1f85c24-6beb-4ed4-abfc-161aeb53ad8b\" target=\"_top\" title=\"psysml:f1f85c24-6beb-4ed4-abfc-161aeb53ad8b\" xlink:actuate=\"onRequest\" xlink:href=\"psysml:f1f85c24-6beb-4ed4-abfc-161aeb53ad8b\" xlink:show=\"new\" xlink:title=\"psysml:f1f85c24-6beb-4ed4-abfc-161aeb53ad8b\" xlink:type=\"simple\"><path d=\"M93.69,237.54 C90.45,258.57 90.44,289.49 93.64,310.62 \" fill=\"none\" id=\"E6-E8\" style=\"stroke:#181818;stroke-width:3.0;\"/></a></g><!--MD5=[0a839d0f80c2d72d4b9b307f046d0de8]\n",
       "link E6 to E8--><g id=\"link_E6_E8\"><a href=\"psysml:92c8a956-0030-45f2-8c30-896629fb0abd\" target=\"_top\" title=\"psysml:92c8a956-0030-45f2-8c30-896629fb0abd\" xlink:actuate=\"onRequest\" xlink:href=\"psysml:92c8a956-0030-45f2-8c30-896629fb0abd\" xlink:show=\"new\" xlink:title=\"psysml:92c8a956-0030-45f2-8c30-896629fb0abd\" xlink:type=\"simple\"><path d=\"M114.92,237.54 C118.34,258.57 118.36,289.49 114.97,310.62 \" fill=\"none\" id=\"E6-E8-1\" style=\"stroke:#181818;stroke-width:3.0;\"/></a></g><!--MD5=[1e5d360e0b41e9686ed55dcec78fa1ab]\n",
       "@startuml\r\n",
       "skin sysmlbw\r\n",
       "skinparam monochrome true\r\n",
       "skinparam wrapWidth 300\r\n",
       "hide circle\r\n",
       "\r\n",
       "package \"AliasTest\" as E1  [[psysml:a1c2986a-a425-4687-93ae-51674f2ada97 ]]  {\r\n",
       "comp usage \"b :>ISQSpaceTime::width \" as E2  <<(T,blue) attribute>> [[psysml:f27707b2-90f2-4671-96dd-49a3cebd999e ]] {\r\n",
       "}\r\n",
       "comp def \"P1\" as E3  <<(T,blue) part  def>> [[psysml:d64d4abf-692a-4b0a-b1a7-ca6bfa2152dc ]] {\r\n",
       "##//ports//##\r\n",
       "porig1\r\n",
       "}\r\n",
       "comp usage \"porig1  \" as E4  <<(T,blue) port>> [[psysml:61764694-1d1c-48ba-adaa-4bba53d3d30f ]] {\r\n",
       "}\r\n",
       "comp usage \"p1: P1  \" as E5  <<(T,blue) part>> [[psysml:e8b71076-5181-45d8-952d-6c6c3b8ab27b ]] {\r\n",
       "}\r\n",
       "comp usage \"po1  \" as E6  <<(T,blue) port>> [[psysml:d614f44e-5180-4509-9cc1-1632afa7b11f ]] {\r\n",
       "}\r\n",
       "comp usage \"p2: P1  \" as E7  <<(T,blue) part>> [[psysml:8277226e-c173-411e-8d8e-d31bb811c94b ]] {\r\n",
       "##//ports//##\r\n",
       "pdest\r\n",
       "}\r\n",
       "comp usage \"pdest  \" as E8  <<(T,blue) port>> [[psysml:88f12717-b335-4bfa-a952-2b65a00cb7af ]] {\r\n",
       "}\r\n",
       "}\r\n",
       "E3 o- - E4 [[psysml:9ff7bfb9-db47-4597-ac60-7f24b5e1b5c0 ]] \r\n",
       "E5 - -:|> E3 [[psysml:515868c5-6015-4da5-b3ff-32117e872914 ]] \r\n",
       "E5 o- - E6 [[psysml:1a5e094c-b062-4a12-bd0e-4269385c32ea ]] \r\n",
       "E6 - -||> E4 [[psysml:70307247-8a04-4365-8b78-a7ff4bcf8dda ]] \r\n",
       "E7 - -:|> E3 [[psysml:e2fe589c-f14e-47a5-aaf0-9a8ebd450a7c ]] \r\n",
       "E7 o- - E8 [[psysml:ca64ac56-097c-4feb-943f-895d8fc6b637 ]] \r\n",
       "E6 -[thickness=3]- E8 [[psysml:f1f85c24-6beb-4ed4-abfc-161aeb53ad8b ]] \r\n",
       "E6 -[thickness=3]- E8 [[psysml:92c8a956-0030-45f2-8c30-896629fb0abd ]] \r\n",
       "@enduml\r\n",
       "\n",
       "PlantUML version 1.2022.7(Mon Aug 22 17:01:30 UTC 2022)\n",
       "(EPL source distribution)\n",
       "Java Runtime: OpenJDK Runtime Environment\n",
       "JVM: OpenJDK 64-Bit Server VM\n",
       "Default Encoding: UTF-8\n",
       "Language: en\n",
       "Country: null\n",
       "--></g></svg>"
      ]
     },
     "execution_count": 37,
     "metadata": {},
     "output_type": "execute_result"
    }
   ],
   "source": [
    "%viz --style=\"DEFAULT\" --view=\"Default\" \"AliasTest\""
   ]
  },
  {
   "cell_type": "code",
   "execution_count": 38,
   "id": "f6c55ad1",
   "metadata": {
    "execution": {
     "iopub.execute_input": "2024-12-16T03:25:13.994008Z",
     "iopub.status.busy": "2024-12-16T03:25:13.993709Z",
     "iopub.status.idle": "2024-12-16T03:25:14.015912Z",
     "shell.execute_reply": "2024-12-16T03:25:14.015044Z"
    }
   },
   "outputs": [
    {
     "data": {
      "image/svg+xml": [
       "<?xml version=\"1.0\" encoding=\"UTF-8\" standalone=\"no\"?><svg xmlns=\"http://www.w3.org/2000/svg\" xmlns:xlink=\"http://www.w3.org/1999/xlink\" contentStyleType=\"text/css\" height=\"382px\" preserveAspectRatio=\"none\" style=\"width:440px;height:382px;background:#FFFFFF;\" version=\"1.1\" viewBox=\"0 0 440 382\" width=\"440px\" zoomAndPan=\"magnify\"><defs/><g><!--MD5=[fbc87193dbaf4d95561dea2c320d4a47]\n",
       "cluster E1--><g id=\"cluster_E1\"><a href=\"psysml:a1c2986a-a425-4687-93ae-51674f2ada97\" target=\"_top\" title=\"psysml:a1c2986a-a425-4687-93ae-51674f2ada97\" xlink:actuate=\"onRequest\" xlink:href=\"psysml:a1c2986a-a425-4687-93ae-51674f2ada97\" xlink:show=\"new\" xlink:title=\"psysml:a1c2986a-a425-4687-93ae-51674f2ada97\" xlink:type=\"simple\"><polygon fill=\"none\" points=\"16,6,87.9375,6,94.9375,28.2969,423,28.2969,423,375,16,375,16,6\" style=\"stroke:#000000;stroke-width:1.5;\"/><line style=\"stroke:#000000;stroke-width:1.5;\" x1=\"16\" x2=\"94.9375\" y1=\"28.2969\" y2=\"28.2969\"/><text fill=\"#000000\" font-family=\"sans-serif\" font-size=\"14\" font-weight=\"bold\" lengthAdjust=\"spacing\" textLength=\"65.9375\" x=\"20\" y=\"20.9951\">AliasTest</text></a></g><!--MD5=[b4997ac47864f28c2f74865a473b2911]\n",
       "class E2--><a href=\"psysml:f27707b2-90f2-4671-96dd-49a3cebd999e\" target=\"_top\" title=\"psysml:f27707b2-90f2-4671-96dd-49a3cebd999e\" xlink:actuate=\"onRequest\" xlink:href=\"psysml:f27707b2-90f2-4671-96dd-49a3cebd999e\" xlink:show=\"new\" xlink:title=\"psysml:f27707b2-90f2-4671-96dd-49a3cebd999e\" xlink:type=\"simple\"><g id=\"elem_E2\"><rect fill=\"#FFFFFF\" height=\"48.2656\" id=\"E2\" rx=\"10\" ry=\"10\" style=\"stroke:#181818;stroke-width:0.5;\" width=\"187\" x=\"220.5\" y=\"54.5\"/><text fill=\"#000000\" font-family=\"sans-serif\" font-size=\"12\" font-style=\"italic\" lengthAdjust=\"spacing\" textLength=\"69\" x=\"279.5\" y=\"70.6387\">«attribute»</text><text fill=\"#000000\" font-family=\"sans-serif\" font-size=\"14\" lengthAdjust=\"spacing\" textLength=\"177\" x=\"223.5\" y=\"86.4639\">b :&gt;ISQSpaceTime::width</text><line style=\"stroke:#181818;stroke-width:0.5;\" x1=\"221.5\" x2=\"406.5\" y1=\"94.7656\" y2=\"94.7656\"/></g></a><!--MD5=[09b614a08d8cba4a07c9adeb5e0fee81]\n",
       "class E3--><a href=\"psysml:d64d4abf-692a-4b0a-b1a7-ca6bfa2152dc\" target=\"_top\" title=\"psysml:d64d4abf-692a-4b0a-b1a7-ca6bfa2152dc\" xlink:actuate=\"onRequest\" xlink:href=\"psysml:d64d4abf-692a-4b0a-b1a7-ca6bfa2152dc\" xlink:show=\"new\" xlink:title=\"psysml:d64d4abf-692a-4b0a-b1a7-ca6bfa2152dc\" xlink:type=\"simple\"><g id=\"elem_E3\"><rect fill=\"#FFFFFF\" height=\"75.0813\" id=\"E3\" style=\"stroke:#181818;stroke-width:0.5;\" width=\"70\" x=\"160\" y=\"176\"/><text fill=\"#000000\" font-family=\"sans-serif\" font-size=\"12\" font-style=\"italic\" lengthAdjust=\"spacing\" textLength=\"68\" x=\"161\" y=\"192.1387\">«part  def»</text><text fill=\"#000000\" font-family=\"sans-serif\" font-size=\"14\" lengthAdjust=\"spacing\" textLength=\"18\" x=\"186\" y=\"207.9639\">P1</text><line style=\"stroke:#181818;stroke-width:0.5;\" x1=\"161\" x2=\"229\" y1=\"216.2656\" y2=\"216.2656\"/><text fill=\"#000000\" font-family=\"sans-serif\" font-size=\"14\" lengthAdjust=\"spacing\" textLength=\"44\" x=\"166\" y=\"243.7795\">porig1</text><text fill=\"#000000\" font-family=\"sans-serif\" font-size=\"14\" font-style=\"italic\" lengthAdjust=\"spacing\" textLength=\"36\" x=\"177\" y=\"228.6123\">ports</text></g></a><!--MD5=[ebbe1d658d1005bcc118a6aa81145e00]\n",
       "class E4--><a href=\"psysml:61764694-1d1c-48ba-adaa-4bba53d3d30f\" target=\"_top\" title=\"psysml:61764694-1d1c-48ba-adaa-4bba53d3d30f\" xlink:actuate=\"onRequest\" xlink:href=\"psysml:61764694-1d1c-48ba-adaa-4bba53d3d30f\" xlink:show=\"new\" xlink:title=\"psysml:61764694-1d1c-48ba-adaa-4bba53d3d30f\" xlink:type=\"simple\"><g id=\"elem_E4\"><rect fill=\"#FFFFFF\" height=\"48.2656\" id=\"E4\" rx=\"10\" ry=\"10\" style=\"stroke:#181818;stroke-width:0.5;\" width=\"58\" x=\"166\" y=\"311\"/><text fill=\"#000000\" font-family=\"sans-serif\" font-size=\"12\" font-style=\"italic\" lengthAdjust=\"spacing\" textLength=\"40\" x=\"175\" y=\"327.1387\">«port»</text><text fill=\"#000000\" font-family=\"sans-serif\" font-size=\"14\" lengthAdjust=\"spacing\" textLength=\"44\" x=\"169\" y=\"342.9639\">porig1</text><line style=\"stroke:#181818;stroke-width:0.5;\" x1=\"167\" x2=\"223\" y1=\"351.2656\" y2=\"351.2656\"/></g></a><!--MD5=[270fce915f116d4de14055a7c1d9a0f3]\n",
       "class E5--><a href=\"psysml:e8b71076-5181-45d8-952d-6c6c3b8ab27b\" target=\"_top\" title=\"psysml:e8b71076-5181-45d8-952d-6c6c3b8ab27b\" xlink:actuate=\"onRequest\" xlink:href=\"psysml:e8b71076-5181-45d8-952d-6c6c3b8ab27b\" xlink:show=\"new\" xlink:title=\"psysml:e8b71076-5181-45d8-952d-6c6c3b8ab27b\" xlink:type=\"simple\"><g id=\"elem_E5\"><rect fill=\"#FFFFFF\" height=\"48.2656\" id=\"E5\" rx=\"10\" ry=\"10\" style=\"stroke:#181818;stroke-width:0.5;\" width=\"59\" x=\"126.5\" y=\"54.5\"/><text fill=\"#000000\" font-family=\"sans-serif\" font-size=\"12\" font-style=\"italic\" lengthAdjust=\"spacing\" textLength=\"40\" x=\"136\" y=\"70.6387\">«part»</text><text fill=\"#000000\" font-family=\"sans-serif\" font-size=\"14\" lengthAdjust=\"spacing\" textLength=\"45\" x=\"129.5\" y=\"86.4639\">p1: P1</text><line style=\"stroke:#181818;stroke-width:0.5;\" x1=\"127.5\" x2=\"184.5\" y1=\"94.7656\" y2=\"94.7656\"/></g></a><!--MD5=[60a26617385b1d2d0262a64233df1f8d]\n",
       "class E6--><a href=\"psysml:d614f44e-5180-4509-9cc1-1632afa7b11f\" target=\"_top\" title=\"psysml:d614f44e-5180-4509-9cc1-1632afa7b11f\" xlink:actuate=\"onRequest\" xlink:href=\"psysml:d614f44e-5180-4509-9cc1-1632afa7b11f\" xlink:show=\"new\" xlink:title=\"psysml:d614f44e-5180-4509-9cc1-1632afa7b11f\" xlink:type=\"simple\"><g id=\"elem_E6\"><rect fill=\"#FFFFFF\" height=\"48.2656\" id=\"E6\" rx=\"10\" ry=\"10\" style=\"stroke:#181818;stroke-width:0.5;\" width=\"42\" x=\"83\" y=\"189.5\"/><text fill=\"#000000\" font-family=\"sans-serif\" font-size=\"12\" font-style=\"italic\" lengthAdjust=\"spacing\" textLength=\"40\" x=\"84\" y=\"205.6387\">«port»</text><text fill=\"#000000\" font-family=\"sans-serif\" font-size=\"14\" lengthAdjust=\"spacing\" textLength=\"27\" x=\"86.5\" y=\"221.4639\">po1</text><line style=\"stroke:#181818;stroke-width:0.5;\" x1=\"84\" x2=\"124\" y1=\"229.7656\" y2=\"229.7656\"/></g></a><!--MD5=[2156ba9850f5573cc1fc38a6a4b2f02b]\n",
       "class E7--><a href=\"psysml:8277226e-c173-411e-8d8e-d31bb811c94b\" target=\"_top\" title=\"psysml:8277226e-c173-411e-8d8e-d31bb811c94b\" xlink:actuate=\"onRequest\" xlink:href=\"psysml:8277226e-c173-411e-8d8e-d31bb811c94b\" xlink:show=\"new\" xlink:title=\"psysml:8277226e-c173-411e-8d8e-d31bb811c94b\" xlink:type=\"simple\"><g id=\"elem_E7\"><rect fill=\"#FFFFFF\" height=\"75.0813\" id=\"E7\" rx=\"10\" ry=\"10\" style=\"stroke:#181818;stroke-width:0.5;\" width=\"59\" x=\"32.5\" y=\"41\"/><text fill=\"#000000\" font-family=\"sans-serif\" font-size=\"12\" font-style=\"italic\" lengthAdjust=\"spacing\" textLength=\"40\" x=\"42\" y=\"57.1387\">«part»</text><text fill=\"#000000\" font-family=\"sans-serif\" font-size=\"14\" lengthAdjust=\"spacing\" textLength=\"45\" x=\"35.5\" y=\"72.9639\">p2: P1</text><line style=\"stroke:#181818;stroke-width:0.5;\" x1=\"33.5\" x2=\"90.5\" y1=\"81.2656\" y2=\"81.2656\"/><text fill=\"#000000\" font-family=\"sans-serif\" font-size=\"14\" lengthAdjust=\"spacing\" textLength=\"40\" x=\"38.5\" y=\"108.7795\">pdest</text><text fill=\"#000000\" font-family=\"sans-serif\" font-size=\"14\" font-style=\"italic\" lengthAdjust=\"spacing\" textLength=\"36\" x=\"44\" y=\"93.6123\">ports</text></g></a><!--MD5=[b9389687b975829384b498ac4b7476b2]\n",
       "class E8--><a href=\"psysml:88f12717-b335-4bfa-a952-2b65a00cb7af\" target=\"_top\" title=\"psysml:88f12717-b335-4bfa-a952-2b65a00cb7af\" xlink:actuate=\"onRequest\" xlink:href=\"psysml:88f12717-b335-4bfa-a952-2b65a00cb7af\" xlink:show=\"new\" xlink:title=\"psysml:88f12717-b335-4bfa-a952-2b65a00cb7af\" xlink:type=\"simple\"><g id=\"elem_E8\"><rect fill=\"#FFFFFF\" height=\"48.2656\" id=\"E8\" rx=\"10\" ry=\"10\" style=\"stroke:#181818;stroke-width:0.5;\" width=\"54\" x=\"77\" y=\"311\"/><text fill=\"#000000\" font-family=\"sans-serif\" font-size=\"12\" font-style=\"italic\" lengthAdjust=\"spacing\" textLength=\"40\" x=\"84\" y=\"327.1387\">«port»</text><text fill=\"#000000\" font-family=\"sans-serif\" font-size=\"14\" lengthAdjust=\"spacing\" textLength=\"40\" x=\"80\" y=\"342.9639\">pdest</text><line style=\"stroke:#181818;stroke-width:0.5;\" x1=\"78\" x2=\"130\" y1=\"351.2656\" y2=\"351.2656\"/></g></a><!--MD5=[4672eba38e49728da53d11aeb285b987]\n",
       "reverse link E3 to E4--><g id=\"link_E3_E4\"><a href=\"psysml:9ff7bfb9-db47-4597-ac60-7f24b5e1b5c0\" target=\"_top\" title=\"psysml:9ff7bfb9-db47-4597-ac60-7f24b5e1b5c0\" xlink:actuate=\"onRequest\" xlink:href=\"psysml:9ff7bfb9-db47-4597-ac60-7f24b5e1b5c0\" xlink:show=\"new\" xlink:title=\"psysml:9ff7bfb9-db47-4597-ac60-7f24b5e1b5c0\" xlink:type=\"simple\"><path d=\"M195,264.25 C195,280.43 195,297.61 195,310.88 \" fill=\"none\" id=\"E3-backto-E4\" style=\"stroke:#181818;stroke-width:1.0;\"/><polygon fill=\"none\" points=\"195,251,191,257,195,263,199,257,195,251\" style=\"stroke:#181818;stroke-width:1.0;\"/></a></g><!--MD5=[e9be52314489bd878ff4c7144b63c9e1]\n",
       "link E5 to E3--><g id=\"link_E5_E3\"><a href=\"psysml:515868c5-6015-4da5-b3ff-32117e872914\" target=\"_top\" title=\"psysml:515868c5-6015-4da5-b3ff-32117e872914\" xlink:actuate=\"onRequest\" xlink:href=\"psysml:515868c5-6015-4da5-b3ff-32117e872914\" xlink:show=\"new\" xlink:title=\"psysml:515868c5-6015-4da5-b3ff-32117e872914\" xlink:type=\"simple\"><path d=\"M162.79,102.67 C167.16,117.56 173.03,137.58 178.57,156.45 \" fill=\"none\" id=\"E5-to-E3\" style=\"stroke:#181818;stroke-width:1.0;\"/><polygon fill=\"#FFFFFF\" points=\"184.24,175.81,172.1744,159.5489,185.6082,155.6078,184.24,175.81\" style=\"stroke:#181818;stroke-width:1.0;\"/><ellipse cx=\"172.4889\" cy=\"153.5164\" fill=\"#181818\" rx=\"2\" ry=\"2\" style=\"stroke:#181818;stroke-width:1.0;\"/><ellipse cx=\"182.0845\" cy=\"150.7014\" fill=\"#181818\" rx=\"2\" ry=\"2\" style=\"stroke:#181818;stroke-width:1.0;\"/></a></g><!--MD5=[85d356282659285ab4b2cfe2f634dd2b]\n",
       "reverse link E5 to E6--><g id=\"link_E5_E6\"><a href=\"psysml:1a5e094c-b062-4a12-bd0e-4269385c32ea\" target=\"_top\" title=\"psysml:1a5e094c-b062-4a12-bd0e-4269385c32ea\" xlink:actuate=\"onRequest\" xlink:href=\"psysml:1a5e094c-b062-4a12-bd0e-4269385c32ea\" xlink:show=\"new\" xlink:title=\"psysml:1a5e094c-b062-4a12-bd0e-4269385c32ea\" xlink:type=\"simple\"><path d=\"M142.15,114.93 C132.96,138.44 121.15,168.62 113.13,189.15 \" fill=\"none\" id=\"E5-backto-E6\" style=\"stroke:#181818;stroke-width:1.0;\"/><polygon fill=\"none\" points=\"146.94,102.67,141.0321,106.8049,142.5767,113.8486,148.4845,109.7138,146.94,102.67\" style=\"stroke:#181818;stroke-width:1.0;\"/></a></g><!--MD5=[f667431f98296947986a1a7595a31603]\n",
       "link E6 to E4--><g id=\"link_E6_E4\"><a href=\"psysml:70307247-8a04-4365-8b78-a7ff4bcf8dda\" target=\"_top\" title=\"psysml:70307247-8a04-4365-8b78-a7ff4bcf8dda\" xlink:actuate=\"onRequest\" xlink:href=\"psysml:70307247-8a04-4365-8b78-a7ff4bcf8dda\" xlink:show=\"new\" xlink:title=\"psysml:70307247-8a04-4365-8b78-a7ff4bcf8dda\" xlink:type=\"simple\"><path d=\"M121.55,237.54 C133.87,253.72 150.65,275.76 165.07,294.69 \" fill=\"none\" id=\"E6-to-E4\" style=\"stroke:#181818;stroke-width:1.0;\"/><polygon fill=\"#FFFFFF\" points=\"177.2,310.62,160.1219,299.7417,171.2616,291.2619,177.2,310.62\" style=\"stroke:#181818;stroke-width:1.0;\"/><line style=\"stroke:#181818;stroke-width:2.0;\" x1=\"157.8202\" x2=\"168.9599\" y1=\"296.7181\" y2=\"288.2383\"/></a></g><!--MD5=[14ccda38c055a5c0da953d572bc50960]\n",
       "link E7 to E3--><g id=\"link_E7_E3\"><a href=\"psysml:e2fe589c-f14e-47a5-aaf0-9a8ebd450a7c\" target=\"_top\" title=\"psysml:e2fe589c-f14e-47a5-aaf0-9a8ebd450a7c\" xlink:actuate=\"onRequest\" xlink:href=\"psysml:e2fe589c-f14e-47a5-aaf0-9a8ebd450a7c\" xlink:show=\"new\" xlink:title=\"psysml:e2fe589c-f14e-47a5-aaf0-9a8ebd450a7c\" xlink:type=\"simple\"><path d=\"M91.52,109.02 C107.38,124.88 127.36,144.86 145.52,163.02 \" fill=\"none\" id=\"E7-to-E3\" style=\"stroke:#181818;stroke-width:1.0;\"/><polygon fill=\"#FFFFFF\" points=\"159.9,177.4,141.5152,168.9147,151.4147,159.0152,159.9,177.4\" style=\"stroke:#181818;stroke-width:1.0;\"/><ellipse cx=\"138.8989\" cy=\"163.47\" fill=\"#181818\" rx=\"2\" ry=\"2\" style=\"stroke:#181818;stroke-width:1.0;\"/><ellipse cx=\"145.97\" cy=\"156.3989\" fill=\"#181818\" rx=\"2\" ry=\"2\" style=\"stroke:#181818;stroke-width:1.0;\"/></a></g><!--MD5=[dc164f5e8a733ab456ef1add180e9e34]\n",
       "reverse link E7 to E8--><g id=\"link_E7_E8\"><a href=\"psysml:ca64ac56-097c-4feb-943f-895d8fc6b637\" target=\"_top\" title=\"psysml:ca64ac56-097c-4feb-943f-895d8fc6b637\" xlink:actuate=\"onRequest\" xlink:href=\"psysml:ca64ac56-097c-4feb-943f-895d8fc6b637\" xlink:show=\"new\" xlink:title=\"psysml:ca64ac56-097c-4feb-943f-895d8fc6b637\" xlink:type=\"simple\"><path d=\"M57.91,129.24 C56.33,163.83 56.74,210.77 66,251 C70.91,272.31 81.57,294.77 90.35,310.94 \" fill=\"none\" id=\"E7-backto-E8\" style=\"stroke:#181818;stroke-width:1.0;\"/><polygon fill=\"none\" points=\"58.62,116.16,54.3028,121.936,57.9741,128.1426,62.2912,122.3666,58.62,116.16\" style=\"stroke:#181818;stroke-width:1.0;\"/></a></g><!--MD5=[0a839d0f80c2d72d4b9b307f046d0de8]\n",
       "link E6 to E8--><g id=\"link_E6_E8\"><a href=\"psysml:f1f85c24-6beb-4ed4-abfc-161aeb53ad8b\" target=\"_top\" title=\"psysml:f1f85c24-6beb-4ed4-abfc-161aeb53ad8b\" xlink:actuate=\"onRequest\" xlink:href=\"psysml:f1f85c24-6beb-4ed4-abfc-161aeb53ad8b\" xlink:show=\"new\" xlink:title=\"psysml:f1f85c24-6beb-4ed4-abfc-161aeb53ad8b\" xlink:type=\"simple\"><path d=\"M93.69,237.54 C90.45,258.57 90.44,289.49 93.64,310.62 \" fill=\"none\" id=\"E6-E8\" style=\"stroke:#181818;stroke-width:3.0;\"/></a></g><!--MD5=[0a839d0f80c2d72d4b9b307f046d0de8]\n",
       "link E6 to E8--><g id=\"link_E6_E8\"><a href=\"psysml:92c8a956-0030-45f2-8c30-896629fb0abd\" target=\"_top\" title=\"psysml:92c8a956-0030-45f2-8c30-896629fb0abd\" xlink:actuate=\"onRequest\" xlink:href=\"psysml:92c8a956-0030-45f2-8c30-896629fb0abd\" xlink:show=\"new\" xlink:title=\"psysml:92c8a956-0030-45f2-8c30-896629fb0abd\" xlink:type=\"simple\"><path d=\"M114.92,237.54 C118.34,258.57 118.36,289.49 114.97,310.62 \" fill=\"none\" id=\"E6-E8-1\" style=\"stroke:#181818;stroke-width:3.0;\"/></a></g><!--MD5=[1e5d360e0b41e9686ed55dcec78fa1ab]\n",
       "@startuml\r\n",
       "skin sysmlbw\r\n",
       "skinparam monochrome true\r\n",
       "skinparam wrapWidth 300\r\n",
       "hide circle\r\n",
       "\r\n",
       "package \"AliasTest\" as E1  [[psysml:a1c2986a-a425-4687-93ae-51674f2ada97 ]]  {\r\n",
       "comp usage \"b :>ISQSpaceTime::width \" as E2  <<(T,blue) attribute>> [[psysml:f27707b2-90f2-4671-96dd-49a3cebd999e ]] {\r\n",
       "}\r\n",
       "comp def \"P1\" as E3  <<(T,blue) part  def>> [[psysml:d64d4abf-692a-4b0a-b1a7-ca6bfa2152dc ]] {\r\n",
       "##//ports//##\r\n",
       "porig1\r\n",
       "}\r\n",
       "comp usage \"porig1  \" as E4  <<(T,blue) port>> [[psysml:61764694-1d1c-48ba-adaa-4bba53d3d30f ]] {\r\n",
       "}\r\n",
       "comp usage \"p1: P1  \" as E5  <<(T,blue) part>> [[psysml:e8b71076-5181-45d8-952d-6c6c3b8ab27b ]] {\r\n",
       "}\r\n",
       "comp usage \"po1  \" as E6  <<(T,blue) port>> [[psysml:d614f44e-5180-4509-9cc1-1632afa7b11f ]] {\r\n",
       "}\r\n",
       "comp usage \"p2: P1  \" as E7  <<(T,blue) part>> [[psysml:8277226e-c173-411e-8d8e-d31bb811c94b ]] {\r\n",
       "##//ports//##\r\n",
       "pdest\r\n",
       "}\r\n",
       "comp usage \"pdest  \" as E8  <<(T,blue) port>> [[psysml:88f12717-b335-4bfa-a952-2b65a00cb7af ]] {\r\n",
       "}\r\n",
       "}\r\n",
       "E3 o- - E4 [[psysml:9ff7bfb9-db47-4597-ac60-7f24b5e1b5c0 ]] \r\n",
       "E5 - -:|> E3 [[psysml:515868c5-6015-4da5-b3ff-32117e872914 ]] \r\n",
       "E5 o- - E6 [[psysml:1a5e094c-b062-4a12-bd0e-4269385c32ea ]] \r\n",
       "E6 - -||> E4 [[psysml:70307247-8a04-4365-8b78-a7ff4bcf8dda ]] \r\n",
       "E7 - -:|> E3 [[psysml:e2fe589c-f14e-47a5-aaf0-9a8ebd450a7c ]] \r\n",
       "E7 o- - E8 [[psysml:ca64ac56-097c-4feb-943f-895d8fc6b637 ]] \r\n",
       "E6 -[thickness=3]- E8 [[psysml:f1f85c24-6beb-4ed4-abfc-161aeb53ad8b ]] \r\n",
       "E6 -[thickness=3]- E8 [[psysml:92c8a956-0030-45f2-8c30-896629fb0abd ]] \r\n",
       "@enduml\r\n",
       "\n",
       "PlantUML version 1.2022.7(Mon Aug 22 17:01:30 UTC 2022)\n",
       "(EPL source distribution)\n",
       "Java Runtime: OpenJDK Runtime Environment\n",
       "JVM: OpenJDK 64-Bit Server VM\n",
       "Default Encoding: UTF-8\n",
       "Language: en\n",
       "Country: null\n",
       "--></g></svg>"
      ]
     },
     "execution_count": 38,
     "metadata": {},
     "output_type": "execute_result"
    }
   ],
   "source": [
    "%viz --style=\"DEFAULT\" --view=\"Tree\" \"AliasTest\""
   ]
  },
  {
   "cell_type": "code",
   "execution_count": 39,
   "id": "59fec5de",
   "metadata": {
    "execution": {
     "iopub.execute_input": "2024-12-16T03:25:14.070043Z",
     "iopub.status.busy": "2024-12-16T03:25:14.069798Z",
     "iopub.status.idle": "2024-12-16T03:25:14.074631Z",
     "shell.execute_reply": "2024-12-16T03:25:14.074454Z"
    }
   },
   "outputs": [
    {
     "data": {
      "image/svg+xml": [
       "<?xml version=\"1.0\" encoding=\"UTF-8\" standalone=\"no\"?><svg xmlns=\"http://www.w3.org/2000/svg\" xmlns:xlink=\"http://www.w3.org/1999/xlink\" contentStyleType=\"text/css\" height=\"10px\" preserveAspectRatio=\"none\" style=\"width:10px;height:10px;background:#FFFFFF;\" version=\"1.1\" viewBox=\"0 0 10 10\" width=\"10px\" zoomAndPan=\"magnify\"><defs/><g><!--MD5=[ac12e6954f3af68464267ee74ddf8a9f]\n",
       "@startuml\r\n",
       "skin sysmlbw\r\n",
       "skinparam monochrome true\r\n",
       "skinparam wrapWidth 300\r\n",
       "hide circle\r\n",
       "\r\n",
       "@enduml\r\n",
       "\n",
       "PlantUML version 1.2022.7(Mon Aug 22 17:01:30 UTC 2022)\n",
       "(EPL source distribution)\n",
       "Java Runtime: OpenJDK Runtime Environment\n",
       "JVM: OpenJDK 64-Bit Server VM\n",
       "Default Encoding: UTF-8\n",
       "Language: en\n",
       "Country: null\n",
       "--></g></svg>"
      ]
     },
     "execution_count": 39,
     "metadata": {},
     "output_type": "execute_result"
    }
   ],
   "source": [
    "%viz --style=\"DEFAULT\" --view=\"State\" \"AliasTest\""
   ]
  },
  {
   "cell_type": "code",
   "execution_count": 40,
   "id": "b7f1b639",
   "metadata": {
    "execution": {
     "iopub.execute_input": "2024-12-16T03:25:14.129183Z",
     "iopub.status.busy": "2024-12-16T03:25:14.128962Z",
     "iopub.status.idle": "2024-12-16T03:25:14.147244Z",
     "shell.execute_reply": "2024-12-16T03:25:14.146477Z"
    }
   },
   "outputs": [
    {
     "data": {
      "image/svg+xml": [
       "<?xml version=\"1.0\" encoding=\"UTF-8\" standalone=\"no\"?><svg xmlns=\"http://www.w3.org/2000/svg\" xmlns:xlink=\"http://www.w3.org/1999/xlink\" contentStyleType=\"text/css\" height=\"394px\" preserveAspectRatio=\"none\" style=\"width:387px;height:394px;background:#FFFFFF;\" version=\"1.1\" viewBox=\"0 0 387 394\" width=\"387px\" zoomAndPan=\"magnify\"><defs/><g><!--MD5=[fbc87193dbaf4d95561dea2c320d4a47]\n",
       "cluster E1--><g id=\"cluster_E1\"><a href=\"psysml:a1c2986a-a425-4687-93ae-51674f2ada97\" target=\"_top\" title=\"psysml:a1c2986a-a425-4687-93ae-51674f2ada97\" xlink:actuate=\"onRequest\" xlink:href=\"psysml:a1c2986a-a425-4687-93ae-51674f2ada97\" xlink:show=\"new\" xlink:title=\"psysml:a1c2986a-a425-4687-93ae-51674f2ada97\" xlink:type=\"simple\"><polygon fill=\"none\" points=\"16,6,87.9375,6,94.9375,28.2969,370,28.2969,370,387.36,16,387.36,16,6\" style=\"stroke:#000000;stroke-width:1.5;\"/><line style=\"stroke:#000000;stroke-width:1.5;\" x1=\"16\" x2=\"94.9375\" y1=\"28.2969\" y2=\"28.2969\"/><text fill=\"#000000\" font-family=\"sans-serif\" font-size=\"14\" font-weight=\"bold\" lengthAdjust=\"spacing\" textLength=\"65.9375\" x=\"20\" y=\"20.9951\">AliasTest</text></a></g><!--MD5=[d5e69f78d87373223dbae638b30a9c99]\n",
       "cluster E3--><g id=\"cluster_E3\"><a href=\"psysml:d64d4abf-692a-4b0a-b1a7-ca6bfa2152dc\" target=\"_top\" title=\"psysml:d64d4abf-692a-4b0a-b1a7-ca6bfa2152dc\" xlink:actuate=\"onRequest\" xlink:href=\"psysml:d64d4abf-692a-4b0a-b1a7-ca6bfa2152dc\" xlink:show=\"new\" xlink:title=\"psysml:d64d4abf-692a-4b0a-b1a7-ca6bfa2152dc\" xlink:type=\"simple\"><rect fill=\"#FFFFFF\" height=\"124.5\" id=\"E3\" style=\"stroke:#383838;stroke-width:1.5;\" width=\"144\" x=\"202\" y=\"238.86\"/><text fill=\"#000000\" font-family=\"sans-serif\" font-size=\"12\" font-style=\"italic\" lengthAdjust=\"spacing\" textLength=\"68\" x=\"240\" y=\"254.9987\">«part  def»</text><text fill=\"#000000\" font-family=\"sans-serif\" font-size=\"14\" lengthAdjust=\"spacing\" textLength=\"18\" x=\"265\" y=\"270.8239\">P1</text><line style=\"stroke:#383838;stroke-width:1.0;\" x1=\"202\" x2=\"346\" y1=\"279.1256\" y2=\"279.1256\"/></a></g><!--MD5=[14e3b0961a2654348d326746436168a1]\n",
       "cluster E6--><g id=\"cluster_E6\"><a href=\"psysml:e8b71076-5181-45d8-952d-6c6c3b8ab27b\" target=\"_top\" title=\"psysml:e8b71076-5181-45d8-952d-6c6c3b8ab27b\" xlink:actuate=\"onRequest\" xlink:href=\"psysml:e8b71076-5181-45d8-952d-6c6c3b8ab27b\" xlink:show=\"new\" xlink:title=\"psysml:e8b71076-5181-45d8-952d-6c6c3b8ab27b\" xlink:type=\"simple\"><rect fill=\"#FFFFFF\" height=\"98.36\" id=\"E6\" rx=\"10\" ry=\"10\" style=\"stroke:#383838;stroke-width:1.5;\" width=\"116\" x=\"230\" y=\"49\"/><text fill=\"#000000\" font-family=\"sans-serif\" font-size=\"14\" lengthAdjust=\"spacing\" textLength=\"45\" x=\"265.5\" y=\"66.9951\">p1: P1</text><line style=\"stroke:#383838;stroke-width:1.0;\" x1=\"230\" x2=\"346\" y1=\"75.2969\" y2=\"75.2969\"/></a></g><!--MD5=[55dfccfc6c49c2d10cd1bd2211a6c90c]\n",
       "cluster E8--><g id=\"cluster_E8\"><a href=\"psysml:8277226e-c173-411e-8d8e-d31bb811c94b\" target=\"_top\" title=\"psysml:8277226e-c173-411e-8d8e-d31bb811c94b\" xlink:actuate=\"onRequest\" xlink:href=\"psysml:8277226e-c173-411e-8d8e-d31bb811c94b\" xlink:show=\"new\" xlink:title=\"psysml:8277226e-c173-411e-8d8e-d31bb811c94b\" xlink:type=\"simple\"><rect fill=\"#FFFFFF\" height=\"73\" id=\"E8\" rx=\"10\" ry=\"10\" style=\"stroke:#383838;stroke-width:1.5;\" width=\"83\" x=\"103\" y=\"199.36\"/><text fill=\"#000000\" font-family=\"sans-serif\" font-size=\"14\" lengthAdjust=\"spacing\" textLength=\"45\" x=\"122\" y=\"217.3551\">p2: P1</text><line style=\"stroke:#383838;stroke-width:1.0;\" x1=\"103\" x2=\"186\" y1=\"225.6569\" y2=\"225.6569\"/></a></g><!--MD5=[b4997ac47864f28c2f74865a473b2911]\n",
       "class E2--><a href=\"psysml:f27707b2-90f2-4671-96dd-49a3cebd999e\" target=\"_top\" title=\"psysml:f27707b2-90f2-4671-96dd-49a3cebd999e\" xlink:actuate=\"onRequest\" xlink:href=\"psysml:f27707b2-90f2-4671-96dd-49a3cebd999e\" xlink:show=\"new\" xlink:title=\"psysml:f27707b2-90f2-4671-96dd-49a3cebd999e\" xlink:type=\"simple\"><g id=\"elem_E2\"><rect fill=\"#FFFFFF\" height=\"48.2656\" id=\"E2\" rx=\"10\" ry=\"10\" style=\"stroke:#181818;stroke-width:0.5;\" width=\"187\" x=\"31.5\" y=\"58.5\"/><text fill=\"#000000\" font-family=\"sans-serif\" font-size=\"12\" font-style=\"italic\" lengthAdjust=\"spacing\" textLength=\"69\" x=\"90.5\" y=\"74.6387\">«attribute»</text><text fill=\"#000000\" font-family=\"sans-serif\" font-size=\"14\" lengthAdjust=\"spacing\" textLength=\"177\" x=\"34.5\" y=\"90.4639\">b :&gt;ISQSpaceTime::width</text><line style=\"stroke:#181818;stroke-width:0.5;\" x1=\"32.5\" x2=\"217.5\" y1=\"98.7656\" y2=\"98.7656\"/></g></a><text fill=\"#000000\" font-family=\"sans-serif\" font-size=\"14\" lengthAdjust=\"spacing\" textLength=\"44\" x=\"194\" y=\"217.5582\">porig1</text><rect fill=\"#FFFFFF\" height=\"12\" style=\"stroke:#181818;stroke-width:1.5;\" width=\"12\" x=\"214\" y=\"232.86\"/><text fill=\"#000000\" font-family=\"sans-serif\" font-size=\"14\" lengthAdjust=\"spacing\" textLength=\"44\" x=\"241\" y=\"217.5582\">porig1</text><rect fill=\"#FFFFFF\" height=\"12\" style=\"stroke:#181818;stroke-width:1.5;\" width=\"12\" x=\"261\" y=\"232.86\"/><text fill=\"#000000\" font-family=\"sans-serif\" font-size=\"14\" lengthAdjust=\"spacing\" textLength=\"27\" x=\"230.5\" y=\"166.3551\">po1</text><rect fill=\"#FFFFFF\" height=\"12\" style=\"stroke:#181818;stroke-width:1.5;\" width=\"12\" x=\"242\" y=\"141.36\"/><text fill=\"#000000\" font-family=\"sans-serif\" font-size=\"14\" lengthAdjust=\"spacing\" textLength=\"40\" x=\"97\" y=\"178.0582\">pdest</text><rect fill=\"#FFFFFF\" height=\"12\" style=\"stroke:#181818;stroke-width:1.5;\" width=\"12\" x=\"115\" y=\"193.36\"/><text fill=\"#000000\" font-family=\"sans-serif\" font-size=\"14\" lengthAdjust=\"spacing\" textLength=\"40\" x=\"144\" y=\"178.0582\">pdest</text><rect fill=\"#FFFFFF\" height=\"12\" style=\"stroke:#181818;stroke-width:1.5;\" width=\"12\" x=\"162\" y=\"193.36\"/><!--MD5=[a717450b82c80b9240a525fa862496af]\n",
       "link E6 to E3--><g id=\"link_E6_E3\"><a href=\"psysml:515868c5-6015-4da5-b3ff-32117e872914\" target=\"_top\" title=\"psysml:515868c5-6015-4da5-b3ff-32117e872914\" xlink:actuate=\"onRequest\" xlink:href=\"psysml:515868c5-6015-4da5-b3ff-32117e872914\" xlink:show=\"new\" xlink:title=\"psysml:515868c5-6015-4da5-b3ff-32117e872914\" xlink:type=\"simple\"><path d=\"M309,147.372 C309,147.4316 309,147.4946 309,147.5614 C309,147.6948 309,147.8432 309,148.0079 C309,148.3375 309,148.733 309,149.2077 C309,150.1569 309,151.4225 309,153.11 C309,159.86 309,173.36 309,200.36 C309,209.265 309.4169,216.6138 309.8598,223.1538 C309.8875,223.5625 309.9153,223.9681 309.9431,224.3707 C309.9501,224.4714 309.957,224.5718 309.964,224.6721 \" fill=\"none\" id=\"E6-to-E3\" style=\"stroke:#181818;stroke-width:1.0;\"/><polygon fill=\"#FFFFFF\" points=\"309.964,224.6721,301.6675,206.2014,315.634,205.2337,309.964,224.6721\" style=\"stroke:#181818;stroke-width:1.0;\"/><ellipse cx=\"303.2688\" cy=\"200.3768\" fill=\"#181818\" rx=\"2\" ry=\"2\" style=\"stroke:#181818;stroke-width:1.0;\"/><ellipse cx=\"313.2448\" cy=\"199.6856\" fill=\"#181818\" rx=\"2\" ry=\"2\" style=\"stroke:#181818;stroke-width:1.0;\"/></a></g><!--MD5=[95fa686b5a16158bcdbcaeead89f639b]\n",
       "link E8 to E3--><g id=\"link_E8_E3\"><a href=\"psysml:e2fe589c-f14e-47a5-aaf0-9a8ebd450a7c\" target=\"_top\" title=\"psysml:e2fe589c-f14e-47a5-aaf0-9a8ebd450a7c\" xlink:actuate=\"onRequest\" xlink:href=\"psysml:e2fe589c-f14e-47a5-aaf0-9a8ebd450a7c\" xlink:show=\"new\" xlink:title=\"psysml:e2fe589c-f14e-47a5-aaf0-9a8ebd450a7c\" xlink:type=\"simple\"><path d=\"M183.4212,272.3838 C183.5018,272.4284 183.5825,272.4729 183.6631,272.5175 C183.9857,272.6957 184.3083,272.8737 184.6308,273.0516 C185.2757,273.4074 185.9202,273.7626 186.564,274.117 C187.8516,274.8256 189.1362,275.5309 190.4153,276.2313 C192.9733,277.6319 195.5088,279.0125 198,280.36 C199.8625,281.3675 201.7522,282.3847 203.6607,283.4076 C204.1378,283.6633 204.6161,283.9193 205.0954,284.1757 C205.3351,284.3039 205.575,284.4322 205.8152,284.5605 C205.8752,284.5926 205.9353,284.6246 205.9954,284.6567 \" fill=\"none\" id=\"E8-to-E3\" style=\"stroke:#181818;stroke-width:1.0;\"/><polygon fill=\"#FFFFFF\" points=\"205.9954,284.6567,185.9383,281.8793,192.5344,269.5305,205.9954,284.6567\" style=\"stroke:#181818;stroke-width:1.0;\"/><ellipse cx=\"181.8529\" cy=\"277.4296\" fill=\"#181818\" rx=\"2\" ry=\"2\" style=\"stroke:#181818;stroke-width:1.0;\"/><ellipse cx=\"186.5644\" cy=\"268.6091\" fill=\"#181818\" rx=\"2\" ry=\"2\" style=\"stroke:#181818;stroke-width:1.0;\"/></a></g><!--MD5=[1c0b9414cc86e0744215edee6abd8926]\n",
       "link E7 to E9--><g id=\"link_E7_E9\"><a href=\"psysml:f1f85c24-6beb-4ed4-abfc-161aeb53ad8b\" target=\"_top\" title=\"psysml:f1f85c24-6beb-4ed4-abfc-161aeb53ad8b\" xlink:actuate=\"onRequest\" xlink:href=\"psysml:f1f85c24-6beb-4ed4-abfc-161aeb53ad8b\" xlink:show=\"new\" xlink:title=\"psysml:f1f85c24-6beb-4ed4-abfc-161aeb53ad8b\" xlink:type=\"simple\"><path d=\"M241.79,148.54 C219.08,149.65 164.87,156.38 127,177.36 C116.78,183.02 107.43,194.08 114.97,197.4 \" fill=\"none\" id=\"E7-E9\" style=\"stroke:#181818;stroke-width:3.0;\"/></a></g><!--MD5=[1c0b9414cc86e0744215edee6abd8926]\n",
       "link E7 to E9--><g id=\"link_E7_E9\"><a href=\"psysml:92c8a956-0030-45f2-8c30-896629fb0abd\" target=\"_top\" title=\"psysml:92c8a956-0030-45f2-8c30-896629fb0abd\" xlink:actuate=\"onRequest\" xlink:href=\"psysml:92c8a956-0030-45f2-8c30-896629fb0abd\" xlink:show=\"new\" xlink:title=\"psysml:92c8a956-0030-45f2-8c30-896629fb0abd\" xlink:type=\"simple\"><path d=\"M241.96,150.94 C225.3,154.47 189.38,162.19 162,177.36 C151.31,183.28 141.57,195.11 127.05,197.81 \" fill=\"none\" id=\"E7-E9-1\" style=\"stroke:#181818;stroke-width:3.0;\"/></a></g><!--MD5=[0a2f9970656193ffa0336fb4a6658ab0]\n",
       "@startuml\r\n",
       "skin sysmlbw\r\n",
       "skinparam monochrome true\r\n",
       "skinparam wrapWidth 300\r\n",
       "hide circle\r\n",
       "skinparam ranksep 10\r\n",
       "skinparam rectangle {\r\n",
       " backgroundColor<<block>> LightGreen\r\n",
       "}\r\n",
       "\r\n",
       "package \"AliasTest\" as E1  [[psysml:a1c2986a-a425-4687-93ae-51674f2ada97 ]]  {\r\n",
       "comp usage \"b :>ISQSpaceTime::width \" as E2  <<(T,blue) attribute>> [[psysml:f27707b2-90f2-4671-96dd-49a3cebd999e ]] {\r\n",
       "}\r\n",
       "rec def \"P1\" as E3  <<(T,blue) part  def>> [[psysml:d64d4abf-692a-4b0a-b1a7-ca6bfa2152dc ]] {\r\n",
       "portin \"porig1  \" as E4  <<(T,blue) port>> [[psysml:61764694-1d1c-48ba-adaa-4bba53d3d30f ]] \r\n",
       "portin \"porig1  \" as E5  <<(T,blue) port>> [[psysml:61764694-1d1c-48ba-adaa-4bba53d3d30f ]] \r\n",
       "}\r\n",
       "rec usage \"p1: P1\" as E6 [[psysml:e8b71076-5181-45d8-952d-6c6c3b8ab27b ]] {\r\n",
       "portout \"po1  \" as E7  <<(T,blue) port>> [[psysml:d614f44e-5180-4509-9cc1-1632afa7b11f ]] \r\n",
       "}\r\n",
       "rec usage \"p2: P1\" as E8 [[psysml:8277226e-c173-411e-8d8e-d31bb811c94b ]] {\r\n",
       "portin \"pdest  \" as E9  <<(T,blue) port>> [[psysml:88f12717-b335-4bfa-a952-2b65a00cb7af ]] \r\n",
       "portin \"pdest  \" as E10  <<(T,blue) port>> [[psysml:88f12717-b335-4bfa-a952-2b65a00cb7af ]] \r\n",
       "}\r\n",
       "}\r\n",
       "E6 - -:|> E3 [[psysml:515868c5-6015-4da5-b3ff-32117e872914 ]] \r\n",
       "E8 - -:|> E3 [[psysml:e2fe589c-f14e-47a5-aaf0-9a8ebd450a7c ]] \r\n",
       "E7 -[thickness=3]- E9 [[psysml:f1f85c24-6beb-4ed4-abfc-161aeb53ad8b ]] \r\n",
       "E7 -[thickness=3]- E9 [[psysml:92c8a956-0030-45f2-8c30-896629fb0abd ]] \r\n",
       "@enduml\r\n",
       "\n",
       "PlantUML version 1.2022.7(Mon Aug 22 17:01:30 UTC 2022)\n",
       "(EPL source distribution)\n",
       "Java Runtime: OpenJDK Runtime Environment\n",
       "JVM: OpenJDK 64-Bit Server VM\n",
       "Default Encoding: UTF-8\n",
       "Language: en\n",
       "Country: null\n",
       "--></g></svg>"
      ]
     },
     "execution_count": 40,
     "metadata": {},
     "output_type": "execute_result"
    }
   ],
   "source": [
    "%viz --style=\"DEFAULT\" --view=\"Interconnection\" \"AliasTest\""
   ]
  },
  {
   "cell_type": "code",
   "execution_count": 41,
   "id": "3ac9c986",
   "metadata": {
    "execution": {
     "iopub.execute_input": "2024-12-16T03:25:14.202525Z",
     "iopub.status.busy": "2024-12-16T03:25:14.202285Z",
     "iopub.status.idle": "2024-12-16T03:25:14.207054Z",
     "shell.execute_reply": "2024-12-16T03:25:14.206867Z"
    }
   },
   "outputs": [
    {
     "data": {
      "image/svg+xml": [
       "<?xml version=\"1.0\" encoding=\"UTF-8\" standalone=\"no\"?><svg xmlns=\"http://www.w3.org/2000/svg\" xmlns:xlink=\"http://www.w3.org/1999/xlink\" contentStyleType=\"text/css\" height=\"10px\" preserveAspectRatio=\"none\" style=\"width:10px;height:10px;background:#FFFFFF;\" version=\"1.1\" viewBox=\"0 0 10 10\" width=\"10px\" zoomAndPan=\"magnify\"><defs/><g><!--MD5=[3d9597b1575ffc4802b0d6ba40297a8d]\n",
       "@startuml\r\n",
       "skin sysmlbw\r\n",
       "skinparam monochrome true\r\n",
       "skinparam wrapWidth 300\r\n",
       "hide circle\r\n",
       "skinparam ranksep 8\r\n",
       "\r\n",
       "@enduml\r\n",
       "\n",
       "PlantUML version 1.2022.7(Mon Aug 22 17:01:30 UTC 2022)\n",
       "(EPL source distribution)\n",
       "Java Runtime: OpenJDK Runtime Environment\n",
       "JVM: OpenJDK 64-Bit Server VM\n",
       "Default Encoding: UTF-8\n",
       "Language: en\n",
       "Country: null\n",
       "--></g></svg>"
      ]
     },
     "execution_count": 41,
     "metadata": {},
     "output_type": "execute_result"
    }
   ],
   "source": [
    "%viz --style=\"DEFAULT\" --view=\"Action\" \"AliasTest\""
   ]
  },
  {
   "cell_type": "code",
   "execution_count": 42,
   "id": "0ed8452d",
   "metadata": {
    "execution": {
     "iopub.execute_input": "2024-12-16T03:25:14.262486Z",
     "iopub.status.busy": "2024-12-16T03:25:14.262256Z",
     "iopub.status.idle": "2024-12-16T03:25:14.267194Z",
     "shell.execute_reply": "2024-12-16T03:25:14.267019Z"
    }
   },
   "outputs": [
    {
     "data": {
      "image/svg+xml": [
       "<?xml version=\"1.0\" encoding=\"UTF-8\" standalone=\"no\"?><svg xmlns=\"http://www.w3.org/2000/svg\" xmlns:xlink=\"http://www.w3.org/1999/xlink\" contentStyleType=\"text/css\" height=\"10px\" preserveAspectRatio=\"none\" style=\"width:10px;height:10px;background:#FFFFFF;\" version=\"1.1\" viewBox=\"0 0 10 10\" width=\"10px\" zoomAndPan=\"magnify\"><defs/><g><!--MD5=[075159388321915a295a256e9638f934]\n",
       "@startuml\r\n",
       "skin sysmlbw\r\n",
       "skinparam monochrome true\r\n",
       "skinparam wrapWidth 300\r\n",
       "hide circle\r\n",
       "skinparam roundcorner 20\r\n",
       "skinparam BoxPadding 20\r\n",
       "skinparam SequenceBoxBackgroundColor #white\r\n",
       "skinparam style strictuml\r\n",
       "skinparam maxMessageSize 100\r\n",
       "\r\n",
       "@enduml\r\n",
       "\n",
       "PlantUML version 1.2022.7(Mon Aug 22 17:01:30 UTC 2022)\n",
       "(EPL source distribution)\n",
       "Java Runtime: OpenJDK Runtime Environment\n",
       "JVM: OpenJDK 64-Bit Server VM\n",
       "Default Encoding: UTF-8\n",
       "Language: en\n",
       "Country: null\n",
       "--></g></svg>"
      ]
     },
     "execution_count": 42,
     "metadata": {},
     "output_type": "execute_result"
    }
   ],
   "source": [
    "%viz --style=\"DEFAULT\" --view=\"Sequence\" \"AliasTest\""
   ]
  },
  {
   "cell_type": "code",
   "execution_count": 43,
   "id": "a3ad9661",
   "metadata": {
    "execution": {
     "iopub.execute_input": "2024-12-16T03:25:14.321397Z",
     "iopub.status.busy": "2024-12-16T03:25:14.321180Z",
     "iopub.status.idle": "2024-12-16T03:25:14.340853Z",
     "shell.execute_reply": "2024-12-16T03:25:14.340023Z"
    }
   },
   "outputs": [
    {
     "data": {
      "image/svg+xml": [
       "<?xml version=\"1.0\" encoding=\"UTF-8\" standalone=\"no\"?><svg xmlns=\"http://www.w3.org/2000/svg\" xmlns:xlink=\"http://www.w3.org/1999/xlink\" contentStyleType=\"text/css\" height=\"382px\" preserveAspectRatio=\"none\" style=\"width:440px;height:382px;background:#FFFFFF;\" version=\"1.1\" viewBox=\"0 0 440 382\" width=\"440px\" zoomAndPan=\"magnify\"><defs/><g><!--MD5=[fbc87193dbaf4d95561dea2c320d4a47]\n",
       "cluster E1--><g id=\"cluster_E1\"><a href=\"psysml:a1c2986a-a425-4687-93ae-51674f2ada97\" target=\"_top\" title=\"psysml:a1c2986a-a425-4687-93ae-51674f2ada97\" xlink:actuate=\"onRequest\" xlink:href=\"psysml:a1c2986a-a425-4687-93ae-51674f2ada97\" xlink:show=\"new\" xlink:title=\"psysml:a1c2986a-a425-4687-93ae-51674f2ada97\" xlink:type=\"simple\"><polygon fill=\"none\" points=\"16,6,87.9375,6,94.9375,28.2969,423,28.2969,423,375,16,375,16,6\" style=\"stroke:#000000;stroke-width:1.5;\"/><line style=\"stroke:#000000;stroke-width:1.5;\" x1=\"16\" x2=\"94.9375\" y1=\"28.2969\" y2=\"28.2969\"/><text fill=\"#000000\" font-family=\"sans-serif\" font-size=\"14\" font-weight=\"bold\" lengthAdjust=\"spacing\" textLength=\"65.9375\" x=\"20\" y=\"20.9951\">AliasTest</text></a></g><!--MD5=[b4997ac47864f28c2f74865a473b2911]\n",
       "class E2--><a href=\"psysml:f27707b2-90f2-4671-96dd-49a3cebd999e\" target=\"_top\" title=\"psysml:f27707b2-90f2-4671-96dd-49a3cebd999e\" xlink:actuate=\"onRequest\" xlink:href=\"psysml:f27707b2-90f2-4671-96dd-49a3cebd999e\" xlink:show=\"new\" xlink:title=\"psysml:f27707b2-90f2-4671-96dd-49a3cebd999e\" xlink:type=\"simple\"><g id=\"elem_E2\"><rect fill=\"#FFFFFF\" height=\"48.2656\" id=\"E2\" rx=\"10\" ry=\"10\" style=\"stroke:#181818;stroke-width:0.5;\" width=\"187\" x=\"220.5\" y=\"54.5\"/><text fill=\"#000000\" font-family=\"sans-serif\" font-size=\"12\" font-style=\"italic\" lengthAdjust=\"spacing\" textLength=\"69\" x=\"279.5\" y=\"70.6387\">«attribute»</text><text fill=\"#000000\" font-family=\"sans-serif\" font-size=\"14\" lengthAdjust=\"spacing\" textLength=\"177\" x=\"223.5\" y=\"86.4639\">b :&gt;ISQSpaceTime::width</text><line style=\"stroke:#181818;stroke-width:0.5;\" x1=\"221.5\" x2=\"406.5\" y1=\"94.7656\" y2=\"94.7656\"/></g></a><!--MD5=[09b614a08d8cba4a07c9adeb5e0fee81]\n",
       "class E3--><a href=\"psysml:d64d4abf-692a-4b0a-b1a7-ca6bfa2152dc\" target=\"_top\" title=\"psysml:d64d4abf-692a-4b0a-b1a7-ca6bfa2152dc\" xlink:actuate=\"onRequest\" xlink:href=\"psysml:d64d4abf-692a-4b0a-b1a7-ca6bfa2152dc\" xlink:show=\"new\" xlink:title=\"psysml:d64d4abf-692a-4b0a-b1a7-ca6bfa2152dc\" xlink:type=\"simple\"><g id=\"elem_E3\"><rect fill=\"#FFFFFF\" height=\"75.0813\" id=\"E3\" style=\"stroke:#181818;stroke-width:0.5;\" width=\"70\" x=\"160\" y=\"176\"/><text fill=\"#000000\" font-family=\"sans-serif\" font-size=\"12\" font-style=\"italic\" lengthAdjust=\"spacing\" textLength=\"68\" x=\"161\" y=\"192.1387\">«part  def»</text><text fill=\"#000000\" font-family=\"sans-serif\" font-size=\"14\" lengthAdjust=\"spacing\" textLength=\"18\" x=\"186\" y=\"207.9639\">P1</text><line style=\"stroke:#181818;stroke-width:0.5;\" x1=\"161\" x2=\"229\" y1=\"216.2656\" y2=\"216.2656\"/><text fill=\"#000000\" font-family=\"sans-serif\" font-size=\"14\" lengthAdjust=\"spacing\" textLength=\"44\" x=\"166\" y=\"243.7795\">porig1</text><text fill=\"#000000\" font-family=\"sans-serif\" font-size=\"14\" font-style=\"italic\" lengthAdjust=\"spacing\" textLength=\"36\" x=\"177\" y=\"228.6123\">ports</text></g></a><!--MD5=[ebbe1d658d1005bcc118a6aa81145e00]\n",
       "class E4--><a href=\"psysml:61764694-1d1c-48ba-adaa-4bba53d3d30f\" target=\"_top\" title=\"psysml:61764694-1d1c-48ba-adaa-4bba53d3d30f\" xlink:actuate=\"onRequest\" xlink:href=\"psysml:61764694-1d1c-48ba-adaa-4bba53d3d30f\" xlink:show=\"new\" xlink:title=\"psysml:61764694-1d1c-48ba-adaa-4bba53d3d30f\" xlink:type=\"simple\"><g id=\"elem_E4\"><rect fill=\"#FFFFFF\" height=\"48.2656\" id=\"E4\" rx=\"10\" ry=\"10\" style=\"stroke:#181818;stroke-width:0.5;\" width=\"58\" x=\"166\" y=\"311\"/><text fill=\"#000000\" font-family=\"sans-serif\" font-size=\"12\" font-style=\"italic\" lengthAdjust=\"spacing\" textLength=\"40\" x=\"175\" y=\"327.1387\">«port»</text><text fill=\"#000000\" font-family=\"sans-serif\" font-size=\"14\" lengthAdjust=\"spacing\" textLength=\"44\" x=\"169\" y=\"342.9639\">porig1</text><line style=\"stroke:#181818;stroke-width:0.5;\" x1=\"167\" x2=\"223\" y1=\"351.2656\" y2=\"351.2656\"/></g></a><!--MD5=[270fce915f116d4de14055a7c1d9a0f3]\n",
       "class E5--><a href=\"psysml:e8b71076-5181-45d8-952d-6c6c3b8ab27b\" target=\"_top\" title=\"psysml:e8b71076-5181-45d8-952d-6c6c3b8ab27b\" xlink:actuate=\"onRequest\" xlink:href=\"psysml:e8b71076-5181-45d8-952d-6c6c3b8ab27b\" xlink:show=\"new\" xlink:title=\"psysml:e8b71076-5181-45d8-952d-6c6c3b8ab27b\" xlink:type=\"simple\"><g id=\"elem_E5\"><rect fill=\"#FFFFFF\" height=\"48.2656\" id=\"E5\" rx=\"10\" ry=\"10\" style=\"stroke:#181818;stroke-width:0.5;\" width=\"59\" x=\"126.5\" y=\"54.5\"/><text fill=\"#000000\" font-family=\"sans-serif\" font-size=\"12\" font-style=\"italic\" lengthAdjust=\"spacing\" textLength=\"40\" x=\"136\" y=\"70.6387\">«part»</text><text fill=\"#000000\" font-family=\"sans-serif\" font-size=\"14\" lengthAdjust=\"spacing\" textLength=\"45\" x=\"129.5\" y=\"86.4639\">p1: P1</text><line style=\"stroke:#181818;stroke-width:0.5;\" x1=\"127.5\" x2=\"184.5\" y1=\"94.7656\" y2=\"94.7656\"/></g></a><!--MD5=[60a26617385b1d2d0262a64233df1f8d]\n",
       "class E6--><a href=\"psysml:d614f44e-5180-4509-9cc1-1632afa7b11f\" target=\"_top\" title=\"psysml:d614f44e-5180-4509-9cc1-1632afa7b11f\" xlink:actuate=\"onRequest\" xlink:href=\"psysml:d614f44e-5180-4509-9cc1-1632afa7b11f\" xlink:show=\"new\" xlink:title=\"psysml:d614f44e-5180-4509-9cc1-1632afa7b11f\" xlink:type=\"simple\"><g id=\"elem_E6\"><rect fill=\"#FFFFFF\" height=\"48.2656\" id=\"E6\" rx=\"10\" ry=\"10\" style=\"stroke:#181818;stroke-width:0.5;\" width=\"42\" x=\"83\" y=\"189.5\"/><text fill=\"#000000\" font-family=\"sans-serif\" font-size=\"12\" font-style=\"italic\" lengthAdjust=\"spacing\" textLength=\"40\" x=\"84\" y=\"205.6387\">«port»</text><text fill=\"#000000\" font-family=\"sans-serif\" font-size=\"14\" lengthAdjust=\"spacing\" textLength=\"27\" x=\"86.5\" y=\"221.4639\">po1</text><line style=\"stroke:#181818;stroke-width:0.5;\" x1=\"84\" x2=\"124\" y1=\"229.7656\" y2=\"229.7656\"/></g></a><!--MD5=[2156ba9850f5573cc1fc38a6a4b2f02b]\n",
       "class E7--><a href=\"psysml:8277226e-c173-411e-8d8e-d31bb811c94b\" target=\"_top\" title=\"psysml:8277226e-c173-411e-8d8e-d31bb811c94b\" xlink:actuate=\"onRequest\" xlink:href=\"psysml:8277226e-c173-411e-8d8e-d31bb811c94b\" xlink:show=\"new\" xlink:title=\"psysml:8277226e-c173-411e-8d8e-d31bb811c94b\" xlink:type=\"simple\"><g id=\"elem_E7\"><rect fill=\"#FFFFFF\" height=\"75.0813\" id=\"E7\" rx=\"10\" ry=\"10\" style=\"stroke:#181818;stroke-width:0.5;\" width=\"59\" x=\"32.5\" y=\"41\"/><text fill=\"#000000\" font-family=\"sans-serif\" font-size=\"12\" font-style=\"italic\" lengthAdjust=\"spacing\" textLength=\"40\" x=\"42\" y=\"57.1387\">«part»</text><text fill=\"#000000\" font-family=\"sans-serif\" font-size=\"14\" lengthAdjust=\"spacing\" textLength=\"45\" x=\"35.5\" y=\"72.9639\">p2: P1</text><line style=\"stroke:#181818;stroke-width:0.5;\" x1=\"33.5\" x2=\"90.5\" y1=\"81.2656\" y2=\"81.2656\"/><text fill=\"#000000\" font-family=\"sans-serif\" font-size=\"14\" lengthAdjust=\"spacing\" textLength=\"40\" x=\"38.5\" y=\"108.7795\">pdest</text><text fill=\"#000000\" font-family=\"sans-serif\" font-size=\"14\" font-style=\"italic\" lengthAdjust=\"spacing\" textLength=\"36\" x=\"44\" y=\"93.6123\">ports</text></g></a><!--MD5=[b9389687b975829384b498ac4b7476b2]\n",
       "class E8--><a href=\"psysml:88f12717-b335-4bfa-a952-2b65a00cb7af\" target=\"_top\" title=\"psysml:88f12717-b335-4bfa-a952-2b65a00cb7af\" xlink:actuate=\"onRequest\" xlink:href=\"psysml:88f12717-b335-4bfa-a952-2b65a00cb7af\" xlink:show=\"new\" xlink:title=\"psysml:88f12717-b335-4bfa-a952-2b65a00cb7af\" xlink:type=\"simple\"><g id=\"elem_E8\"><rect fill=\"#FFFFFF\" height=\"48.2656\" id=\"E8\" rx=\"10\" ry=\"10\" style=\"stroke:#181818;stroke-width:0.5;\" width=\"54\" x=\"77\" y=\"311\"/><text fill=\"#000000\" font-family=\"sans-serif\" font-size=\"12\" font-style=\"italic\" lengthAdjust=\"spacing\" textLength=\"40\" x=\"84\" y=\"327.1387\">«port»</text><text fill=\"#000000\" font-family=\"sans-serif\" font-size=\"14\" lengthAdjust=\"spacing\" textLength=\"40\" x=\"80\" y=\"342.9639\">pdest</text><line style=\"stroke:#181818;stroke-width:0.5;\" x1=\"78\" x2=\"130\" y1=\"351.2656\" y2=\"351.2656\"/></g></a><!--MD5=[4672eba38e49728da53d11aeb285b987]\n",
       "reverse link E3 to E4--><g id=\"link_E3_E4\"><a href=\"psysml:9ff7bfb9-db47-4597-ac60-7f24b5e1b5c0\" target=\"_top\" title=\"psysml:9ff7bfb9-db47-4597-ac60-7f24b5e1b5c0\" xlink:actuate=\"onRequest\" xlink:href=\"psysml:9ff7bfb9-db47-4597-ac60-7f24b5e1b5c0\" xlink:show=\"new\" xlink:title=\"psysml:9ff7bfb9-db47-4597-ac60-7f24b5e1b5c0\" xlink:type=\"simple\"><path d=\"M195,264.25 C195,280.43 195,297.61 195,310.88 \" fill=\"none\" id=\"E3-backto-E4\" style=\"stroke:#181818;stroke-width:1.0;\"/><polygon fill=\"none\" points=\"195,251,191,257,195,263,199,257,195,251\" style=\"stroke:#181818;stroke-width:1.0;\"/></a></g><!--MD5=[e9be52314489bd878ff4c7144b63c9e1]\n",
       "link E5 to E3--><g id=\"link_E5_E3\"><a href=\"psysml:515868c5-6015-4da5-b3ff-32117e872914\" target=\"_top\" title=\"psysml:515868c5-6015-4da5-b3ff-32117e872914\" xlink:actuate=\"onRequest\" xlink:href=\"psysml:515868c5-6015-4da5-b3ff-32117e872914\" xlink:show=\"new\" xlink:title=\"psysml:515868c5-6015-4da5-b3ff-32117e872914\" xlink:type=\"simple\"><path d=\"M162.79,102.67 C167.16,117.56 173.03,137.58 178.57,156.45 \" fill=\"none\" id=\"E5-to-E3\" style=\"stroke:#181818;stroke-width:1.0;\"/><polygon fill=\"#FFFFFF\" points=\"184.24,175.81,172.1744,159.5489,185.6082,155.6078,184.24,175.81\" style=\"stroke:#181818;stroke-width:1.0;\"/><ellipse cx=\"172.4889\" cy=\"153.5164\" fill=\"#181818\" rx=\"2\" ry=\"2\" style=\"stroke:#181818;stroke-width:1.0;\"/><ellipse cx=\"182.0845\" cy=\"150.7014\" fill=\"#181818\" rx=\"2\" ry=\"2\" style=\"stroke:#181818;stroke-width:1.0;\"/></a></g><!--MD5=[85d356282659285ab4b2cfe2f634dd2b]\n",
       "reverse link E5 to E6--><g id=\"link_E5_E6\"><a href=\"psysml:1a5e094c-b062-4a12-bd0e-4269385c32ea\" target=\"_top\" title=\"psysml:1a5e094c-b062-4a12-bd0e-4269385c32ea\" xlink:actuate=\"onRequest\" xlink:href=\"psysml:1a5e094c-b062-4a12-bd0e-4269385c32ea\" xlink:show=\"new\" xlink:title=\"psysml:1a5e094c-b062-4a12-bd0e-4269385c32ea\" xlink:type=\"simple\"><path d=\"M142.15,114.93 C132.96,138.44 121.15,168.62 113.13,189.15 \" fill=\"none\" id=\"E5-backto-E6\" style=\"stroke:#181818;stroke-width:1.0;\"/><polygon fill=\"none\" points=\"146.94,102.67,141.0321,106.8049,142.5767,113.8486,148.4845,109.7138,146.94,102.67\" style=\"stroke:#181818;stroke-width:1.0;\"/></a></g><!--MD5=[f667431f98296947986a1a7595a31603]\n",
       "link E6 to E4--><g id=\"link_E6_E4\"><a href=\"psysml:70307247-8a04-4365-8b78-a7ff4bcf8dda\" target=\"_top\" title=\"psysml:70307247-8a04-4365-8b78-a7ff4bcf8dda\" xlink:actuate=\"onRequest\" xlink:href=\"psysml:70307247-8a04-4365-8b78-a7ff4bcf8dda\" xlink:show=\"new\" xlink:title=\"psysml:70307247-8a04-4365-8b78-a7ff4bcf8dda\" xlink:type=\"simple\"><path d=\"M121.55,237.54 C133.87,253.72 150.65,275.76 165.07,294.69 \" fill=\"none\" id=\"E6-to-E4\" style=\"stroke:#181818;stroke-width:1.0;\"/><polygon fill=\"#FFFFFF\" points=\"177.2,310.62,160.1219,299.7417,171.2616,291.2619,177.2,310.62\" style=\"stroke:#181818;stroke-width:1.0;\"/><line style=\"stroke:#181818;stroke-width:2.0;\" x1=\"157.8202\" x2=\"168.9599\" y1=\"296.7181\" y2=\"288.2383\"/></a></g><!--MD5=[14ccda38c055a5c0da953d572bc50960]\n",
       "link E7 to E3--><g id=\"link_E7_E3\"><a href=\"psysml:e2fe589c-f14e-47a5-aaf0-9a8ebd450a7c\" target=\"_top\" title=\"psysml:e2fe589c-f14e-47a5-aaf0-9a8ebd450a7c\" xlink:actuate=\"onRequest\" xlink:href=\"psysml:e2fe589c-f14e-47a5-aaf0-9a8ebd450a7c\" xlink:show=\"new\" xlink:title=\"psysml:e2fe589c-f14e-47a5-aaf0-9a8ebd450a7c\" xlink:type=\"simple\"><path d=\"M91.52,109.02 C107.38,124.88 127.36,144.86 145.52,163.02 \" fill=\"none\" id=\"E7-to-E3\" style=\"stroke:#181818;stroke-width:1.0;\"/><polygon fill=\"#FFFFFF\" points=\"159.9,177.4,141.5152,168.9147,151.4147,159.0152,159.9,177.4\" style=\"stroke:#181818;stroke-width:1.0;\"/><ellipse cx=\"138.8989\" cy=\"163.47\" fill=\"#181818\" rx=\"2\" ry=\"2\" style=\"stroke:#181818;stroke-width:1.0;\"/><ellipse cx=\"145.97\" cy=\"156.3989\" fill=\"#181818\" rx=\"2\" ry=\"2\" style=\"stroke:#181818;stroke-width:1.0;\"/></a></g><!--MD5=[dc164f5e8a733ab456ef1add180e9e34]\n",
       "reverse link E7 to E8--><g id=\"link_E7_E8\"><a href=\"psysml:ca64ac56-097c-4feb-943f-895d8fc6b637\" target=\"_top\" title=\"psysml:ca64ac56-097c-4feb-943f-895d8fc6b637\" xlink:actuate=\"onRequest\" xlink:href=\"psysml:ca64ac56-097c-4feb-943f-895d8fc6b637\" xlink:show=\"new\" xlink:title=\"psysml:ca64ac56-097c-4feb-943f-895d8fc6b637\" xlink:type=\"simple\"><path d=\"M57.91,129.24 C56.33,163.83 56.74,210.77 66,251 C70.91,272.31 81.57,294.77 90.35,310.94 \" fill=\"none\" id=\"E7-backto-E8\" style=\"stroke:#181818;stroke-width:1.0;\"/><polygon fill=\"none\" points=\"58.62,116.16,54.3028,121.936,57.9741,128.1426,62.2912,122.3666,58.62,116.16\" style=\"stroke:#181818;stroke-width:1.0;\"/></a></g><!--MD5=[0a839d0f80c2d72d4b9b307f046d0de8]\n",
       "link E6 to E8--><g id=\"link_E6_E8\"><a href=\"psysml:f1f85c24-6beb-4ed4-abfc-161aeb53ad8b\" target=\"_top\" title=\"psysml:f1f85c24-6beb-4ed4-abfc-161aeb53ad8b\" xlink:actuate=\"onRequest\" xlink:href=\"psysml:f1f85c24-6beb-4ed4-abfc-161aeb53ad8b\" xlink:show=\"new\" xlink:title=\"psysml:f1f85c24-6beb-4ed4-abfc-161aeb53ad8b\" xlink:type=\"simple\"><path d=\"M93.69,237.54 C90.45,258.57 90.44,289.49 93.64,310.62 \" fill=\"none\" id=\"E6-E8\" style=\"stroke:#181818;stroke-width:3.0;\"/></a></g><!--MD5=[0a839d0f80c2d72d4b9b307f046d0de8]\n",
       "link E6 to E8--><g id=\"link_E6_E8\"><a href=\"psysml:92c8a956-0030-45f2-8c30-896629fb0abd\" target=\"_top\" title=\"psysml:92c8a956-0030-45f2-8c30-896629fb0abd\" xlink:actuate=\"onRequest\" xlink:href=\"psysml:92c8a956-0030-45f2-8c30-896629fb0abd\" xlink:show=\"new\" xlink:title=\"psysml:92c8a956-0030-45f2-8c30-896629fb0abd\" xlink:type=\"simple\"><path d=\"M114.92,237.54 C118.34,258.57 118.36,289.49 114.97,310.62 \" fill=\"none\" id=\"E6-E8-1\" style=\"stroke:#181818;stroke-width:3.0;\"/></a></g><!--MD5=[1e5d360e0b41e9686ed55dcec78fa1ab]\n",
       "@startuml\r\n",
       "skin sysmlbw\r\n",
       "skinparam monochrome true\r\n",
       "skinparam wrapWidth 300\r\n",
       "hide circle\r\n",
       "\r\n",
       "package \"AliasTest\" as E1  [[psysml:a1c2986a-a425-4687-93ae-51674f2ada97 ]]  {\r\n",
       "comp usage \"b :>ISQSpaceTime::width \" as E2  <<(T,blue) attribute>> [[psysml:f27707b2-90f2-4671-96dd-49a3cebd999e ]] {\r\n",
       "}\r\n",
       "comp def \"P1\" as E3  <<(T,blue) part  def>> [[psysml:d64d4abf-692a-4b0a-b1a7-ca6bfa2152dc ]] {\r\n",
       "##//ports//##\r\n",
       "porig1\r\n",
       "}\r\n",
       "comp usage \"porig1  \" as E4  <<(T,blue) port>> [[psysml:61764694-1d1c-48ba-adaa-4bba53d3d30f ]] {\r\n",
       "}\r\n",
       "comp usage \"p1: P1  \" as E5  <<(T,blue) part>> [[psysml:e8b71076-5181-45d8-952d-6c6c3b8ab27b ]] {\r\n",
       "}\r\n",
       "comp usage \"po1  \" as E6  <<(T,blue) port>> [[psysml:d614f44e-5180-4509-9cc1-1632afa7b11f ]] {\r\n",
       "}\r\n",
       "comp usage \"p2: P1  \" as E7  <<(T,blue) part>> [[psysml:8277226e-c173-411e-8d8e-d31bb811c94b ]] {\r\n",
       "##//ports//##\r\n",
       "pdest\r\n",
       "}\r\n",
       "comp usage \"pdest  \" as E8  <<(T,blue) port>> [[psysml:88f12717-b335-4bfa-a952-2b65a00cb7af ]] {\r\n",
       "}\r\n",
       "}\r\n",
       "E3 o- - E4 [[psysml:9ff7bfb9-db47-4597-ac60-7f24b5e1b5c0 ]] \r\n",
       "E5 - -:|> E3 [[psysml:515868c5-6015-4da5-b3ff-32117e872914 ]] \r\n",
       "E5 o- - E6 [[psysml:1a5e094c-b062-4a12-bd0e-4269385c32ea ]] \r\n",
       "E6 - -||> E4 [[psysml:70307247-8a04-4365-8b78-a7ff4bcf8dda ]] \r\n",
       "E7 - -:|> E3 [[psysml:e2fe589c-f14e-47a5-aaf0-9a8ebd450a7c ]] \r\n",
       "E7 o- - E8 [[psysml:ca64ac56-097c-4feb-943f-895d8fc6b637 ]] \r\n",
       "E6 -[thickness=3]- E8 [[psysml:f1f85c24-6beb-4ed4-abfc-161aeb53ad8b ]] \r\n",
       "E6 -[thickness=3]- E8 [[psysml:92c8a956-0030-45f2-8c30-896629fb0abd ]] \r\n",
       "@enduml\r\n",
       "\n",
       "PlantUML version 1.2022.7(Mon Aug 22 17:01:30 UTC 2022)\n",
       "(EPL source distribution)\n",
       "Java Runtime: OpenJDK Runtime Environment\n",
       "JVM: OpenJDK 64-Bit Server VM\n",
       "Default Encoding: UTF-8\n",
       "Language: en\n",
       "Country: null\n",
       "--></g></svg>"
      ]
     },
     "execution_count": 43,
     "metadata": {},
     "output_type": "execute_result"
    }
   ],
   "source": [
    "%viz --style=\"DEFAULT\" --view=\"MIXED\" \"AliasTest\""
   ]
  },
  {
   "cell_type": "code",
   "execution_count": 44,
   "id": "6eacf48a",
   "metadata": {
    "execution": {
     "iopub.execute_input": "2024-12-16T03:25:14.396564Z",
     "iopub.status.busy": "2024-12-16T03:25:14.396314Z",
     "iopub.status.idle": "2024-12-16T03:25:14.415330Z",
     "shell.execute_reply": "2024-12-16T03:25:14.414508Z"
    }
   },
   "outputs": [
    {
     "data": {
      "image/svg+xml": [
       "<?xml version=\"1.0\" encoding=\"UTF-8\" standalone=\"no\"?><svg xmlns=\"http://www.w3.org/2000/svg\" xmlns:xlink=\"http://www.w3.org/1999/xlink\" contentStyleType=\"text/css\" height=\"382px\" preserveAspectRatio=\"none\" style=\"width:440px;height:382px;background:#FFFFFF;\" version=\"1.1\" viewBox=\"0 0 440 382\" width=\"440px\" zoomAndPan=\"magnify\"><defs/><g><!--MD5=[fbc87193dbaf4d95561dea2c320d4a47]\n",
       "cluster E1--><g id=\"cluster_E1\"><a href=\"psysml:a1c2986a-a425-4687-93ae-51674f2ada97\" target=\"_top\" title=\"psysml:a1c2986a-a425-4687-93ae-51674f2ada97\" xlink:actuate=\"onRequest\" xlink:href=\"psysml:a1c2986a-a425-4687-93ae-51674f2ada97\" xlink:show=\"new\" xlink:title=\"psysml:a1c2986a-a425-4687-93ae-51674f2ada97\" xlink:type=\"simple\"><polygon fill=\"none\" points=\"16,6,87.9375,6,94.9375,28.2969,423,28.2969,423,375,16,375,16,6\" style=\"stroke:#000000;stroke-width:1.5;\"/><line style=\"stroke:#000000;stroke-width:1.5;\" x1=\"16\" x2=\"94.9375\" y1=\"28.2969\" y2=\"28.2969\"/><text fill=\"#000000\" font-family=\"sans-serif\" font-size=\"14\" font-weight=\"bold\" lengthAdjust=\"spacing\" textLength=\"65.9375\" x=\"20\" y=\"20.9951\">AliasTest</text></a></g><!--MD5=[b4997ac47864f28c2f74865a473b2911]\n",
       "class E2--><a href=\"psysml:f27707b2-90f2-4671-96dd-49a3cebd999e\" target=\"_top\" title=\"psysml:f27707b2-90f2-4671-96dd-49a3cebd999e\" xlink:actuate=\"onRequest\" xlink:href=\"psysml:f27707b2-90f2-4671-96dd-49a3cebd999e\" xlink:show=\"new\" xlink:title=\"psysml:f27707b2-90f2-4671-96dd-49a3cebd999e\" xlink:type=\"simple\"><g id=\"elem_E2\"><rect fill=\"#FFFFFF\" height=\"48.2656\" id=\"E2\" rx=\"10\" ry=\"10\" style=\"stroke:#181818;stroke-width:0.5;\" width=\"187\" x=\"220.5\" y=\"54.5\"/><text fill=\"#000000\" font-family=\"sans-serif\" font-size=\"12\" font-style=\"italic\" lengthAdjust=\"spacing\" textLength=\"69\" x=\"279.5\" y=\"70.6387\">«attribute»</text><text fill=\"#000000\" font-family=\"sans-serif\" font-size=\"14\" lengthAdjust=\"spacing\" textLength=\"177\" x=\"223.5\" y=\"86.4639\">b :&gt;ISQSpaceTime::width</text><line style=\"stroke:#181818;stroke-width:0.5;\" x1=\"221.5\" x2=\"406.5\" y1=\"94.7656\" y2=\"94.7656\"/></g></a><!--MD5=[09b614a08d8cba4a07c9adeb5e0fee81]\n",
       "class E3--><a href=\"psysml:d64d4abf-692a-4b0a-b1a7-ca6bfa2152dc\" target=\"_top\" title=\"psysml:d64d4abf-692a-4b0a-b1a7-ca6bfa2152dc\" xlink:actuate=\"onRequest\" xlink:href=\"psysml:d64d4abf-692a-4b0a-b1a7-ca6bfa2152dc\" xlink:show=\"new\" xlink:title=\"psysml:d64d4abf-692a-4b0a-b1a7-ca6bfa2152dc\" xlink:type=\"simple\"><g id=\"elem_E3\"><rect fill=\"#FFFFFF\" height=\"75.0813\" id=\"E3\" style=\"stroke:#181818;stroke-width:0.5;\" width=\"70\" x=\"160\" y=\"176\"/><text fill=\"#000000\" font-family=\"sans-serif\" font-size=\"12\" font-style=\"italic\" lengthAdjust=\"spacing\" textLength=\"68\" x=\"161\" y=\"192.1387\">«part  def»</text><text fill=\"#000000\" font-family=\"sans-serif\" font-size=\"14\" lengthAdjust=\"spacing\" textLength=\"18\" x=\"186\" y=\"207.9639\">P1</text><line style=\"stroke:#181818;stroke-width:0.5;\" x1=\"161\" x2=\"229\" y1=\"216.2656\" y2=\"216.2656\"/><text fill=\"#000000\" font-family=\"sans-serif\" font-size=\"14\" lengthAdjust=\"spacing\" textLength=\"44\" x=\"166\" y=\"243.7795\">porig1</text><text fill=\"#000000\" font-family=\"sans-serif\" font-size=\"14\" font-style=\"italic\" lengthAdjust=\"spacing\" textLength=\"36\" x=\"177\" y=\"228.6123\">ports</text></g></a><!--MD5=[ebbe1d658d1005bcc118a6aa81145e00]\n",
       "class E4--><a href=\"psysml:61764694-1d1c-48ba-adaa-4bba53d3d30f\" target=\"_top\" title=\"psysml:61764694-1d1c-48ba-adaa-4bba53d3d30f\" xlink:actuate=\"onRequest\" xlink:href=\"psysml:61764694-1d1c-48ba-adaa-4bba53d3d30f\" xlink:show=\"new\" xlink:title=\"psysml:61764694-1d1c-48ba-adaa-4bba53d3d30f\" xlink:type=\"simple\"><g id=\"elem_E4\"><rect fill=\"#FFFFFF\" height=\"48.2656\" id=\"E4\" rx=\"10\" ry=\"10\" style=\"stroke:#181818;stroke-width:0.5;\" width=\"58\" x=\"166\" y=\"311\"/><text fill=\"#000000\" font-family=\"sans-serif\" font-size=\"12\" font-style=\"italic\" lengthAdjust=\"spacing\" textLength=\"40\" x=\"175\" y=\"327.1387\">«port»</text><text fill=\"#000000\" font-family=\"sans-serif\" font-size=\"14\" lengthAdjust=\"spacing\" textLength=\"44\" x=\"169\" y=\"342.9639\">porig1</text><line style=\"stroke:#181818;stroke-width:0.5;\" x1=\"167\" x2=\"223\" y1=\"351.2656\" y2=\"351.2656\"/></g></a><!--MD5=[270fce915f116d4de14055a7c1d9a0f3]\n",
       "class E5--><a href=\"psysml:e8b71076-5181-45d8-952d-6c6c3b8ab27b\" target=\"_top\" title=\"psysml:e8b71076-5181-45d8-952d-6c6c3b8ab27b\" xlink:actuate=\"onRequest\" xlink:href=\"psysml:e8b71076-5181-45d8-952d-6c6c3b8ab27b\" xlink:show=\"new\" xlink:title=\"psysml:e8b71076-5181-45d8-952d-6c6c3b8ab27b\" xlink:type=\"simple\"><g id=\"elem_E5\"><rect fill=\"#FFFFFF\" height=\"48.2656\" id=\"E5\" rx=\"10\" ry=\"10\" style=\"stroke:#181818;stroke-width:0.5;\" width=\"59\" x=\"126.5\" y=\"54.5\"/><text fill=\"#000000\" font-family=\"sans-serif\" font-size=\"12\" font-style=\"italic\" lengthAdjust=\"spacing\" textLength=\"40\" x=\"136\" y=\"70.6387\">«part»</text><text fill=\"#000000\" font-family=\"sans-serif\" font-size=\"14\" lengthAdjust=\"spacing\" textLength=\"45\" x=\"129.5\" y=\"86.4639\">p1: P1</text><line style=\"stroke:#181818;stroke-width:0.5;\" x1=\"127.5\" x2=\"184.5\" y1=\"94.7656\" y2=\"94.7656\"/></g></a><!--MD5=[60a26617385b1d2d0262a64233df1f8d]\n",
       "class E6--><a href=\"psysml:d614f44e-5180-4509-9cc1-1632afa7b11f\" target=\"_top\" title=\"psysml:d614f44e-5180-4509-9cc1-1632afa7b11f\" xlink:actuate=\"onRequest\" xlink:href=\"psysml:d614f44e-5180-4509-9cc1-1632afa7b11f\" xlink:show=\"new\" xlink:title=\"psysml:d614f44e-5180-4509-9cc1-1632afa7b11f\" xlink:type=\"simple\"><g id=\"elem_E6\"><rect fill=\"#FFFFFF\" height=\"48.2656\" id=\"E6\" rx=\"10\" ry=\"10\" style=\"stroke:#181818;stroke-width:0.5;\" width=\"42\" x=\"83\" y=\"189.5\"/><text fill=\"#000000\" font-family=\"sans-serif\" font-size=\"12\" font-style=\"italic\" lengthAdjust=\"spacing\" textLength=\"40\" x=\"84\" y=\"205.6387\">«port»</text><text fill=\"#000000\" font-family=\"sans-serif\" font-size=\"14\" lengthAdjust=\"spacing\" textLength=\"27\" x=\"86.5\" y=\"221.4639\">po1</text><line style=\"stroke:#181818;stroke-width:0.5;\" x1=\"84\" x2=\"124\" y1=\"229.7656\" y2=\"229.7656\"/></g></a><!--MD5=[2156ba9850f5573cc1fc38a6a4b2f02b]\n",
       "class E7--><a href=\"psysml:8277226e-c173-411e-8d8e-d31bb811c94b\" target=\"_top\" title=\"psysml:8277226e-c173-411e-8d8e-d31bb811c94b\" xlink:actuate=\"onRequest\" xlink:href=\"psysml:8277226e-c173-411e-8d8e-d31bb811c94b\" xlink:show=\"new\" xlink:title=\"psysml:8277226e-c173-411e-8d8e-d31bb811c94b\" xlink:type=\"simple\"><g id=\"elem_E7\"><rect fill=\"#FFFFFF\" height=\"75.0813\" id=\"E7\" rx=\"10\" ry=\"10\" style=\"stroke:#181818;stroke-width:0.5;\" width=\"59\" x=\"32.5\" y=\"41\"/><text fill=\"#000000\" font-family=\"sans-serif\" font-size=\"12\" font-style=\"italic\" lengthAdjust=\"spacing\" textLength=\"40\" x=\"42\" y=\"57.1387\">«part»</text><text fill=\"#000000\" font-family=\"sans-serif\" font-size=\"14\" lengthAdjust=\"spacing\" textLength=\"45\" x=\"35.5\" y=\"72.9639\">p2: P1</text><line style=\"stroke:#181818;stroke-width:0.5;\" x1=\"33.5\" x2=\"90.5\" y1=\"81.2656\" y2=\"81.2656\"/><text fill=\"#000000\" font-family=\"sans-serif\" font-size=\"14\" lengthAdjust=\"spacing\" textLength=\"40\" x=\"38.5\" y=\"108.7795\">pdest</text><text fill=\"#000000\" font-family=\"sans-serif\" font-size=\"14\" font-style=\"italic\" lengthAdjust=\"spacing\" textLength=\"36\" x=\"44\" y=\"93.6123\">ports</text></g></a><!--MD5=[b9389687b975829384b498ac4b7476b2]\n",
       "class E8--><a href=\"psysml:88f12717-b335-4bfa-a952-2b65a00cb7af\" target=\"_top\" title=\"psysml:88f12717-b335-4bfa-a952-2b65a00cb7af\" xlink:actuate=\"onRequest\" xlink:href=\"psysml:88f12717-b335-4bfa-a952-2b65a00cb7af\" xlink:show=\"new\" xlink:title=\"psysml:88f12717-b335-4bfa-a952-2b65a00cb7af\" xlink:type=\"simple\"><g id=\"elem_E8\"><rect fill=\"#FFFFFF\" height=\"48.2656\" id=\"E8\" rx=\"10\" ry=\"10\" style=\"stroke:#181818;stroke-width:0.5;\" width=\"54\" x=\"77\" y=\"311\"/><text fill=\"#000000\" font-family=\"sans-serif\" font-size=\"12\" font-style=\"italic\" lengthAdjust=\"spacing\" textLength=\"40\" x=\"84\" y=\"327.1387\">«port»</text><text fill=\"#000000\" font-family=\"sans-serif\" font-size=\"14\" lengthAdjust=\"spacing\" textLength=\"40\" x=\"80\" y=\"342.9639\">pdest</text><line style=\"stroke:#181818;stroke-width:0.5;\" x1=\"78\" x2=\"130\" y1=\"351.2656\" y2=\"351.2656\"/></g></a><!--MD5=[4672eba38e49728da53d11aeb285b987]\n",
       "reverse link E3 to E4--><g id=\"link_E3_E4\"><a href=\"psysml:9ff7bfb9-db47-4597-ac60-7f24b5e1b5c0\" target=\"_top\" title=\"psysml:9ff7bfb9-db47-4597-ac60-7f24b5e1b5c0\" xlink:actuate=\"onRequest\" xlink:href=\"psysml:9ff7bfb9-db47-4597-ac60-7f24b5e1b5c0\" xlink:show=\"new\" xlink:title=\"psysml:9ff7bfb9-db47-4597-ac60-7f24b5e1b5c0\" xlink:type=\"simple\"><path d=\"M195,264.25 C195,280.43 195,297.61 195,310.88 \" fill=\"none\" id=\"E3-backto-E4\" style=\"stroke:#181818;stroke-width:1.0;\"/><polygon fill=\"none\" points=\"195,251,191,257,195,263,199,257,195,251\" style=\"stroke:#181818;stroke-width:1.0;\"/></a></g><!--MD5=[e9be52314489bd878ff4c7144b63c9e1]\n",
       "link E5 to E3--><g id=\"link_E5_E3\"><a href=\"psysml:515868c5-6015-4da5-b3ff-32117e872914\" target=\"_top\" title=\"psysml:515868c5-6015-4da5-b3ff-32117e872914\" xlink:actuate=\"onRequest\" xlink:href=\"psysml:515868c5-6015-4da5-b3ff-32117e872914\" xlink:show=\"new\" xlink:title=\"psysml:515868c5-6015-4da5-b3ff-32117e872914\" xlink:type=\"simple\"><path d=\"M162.79,102.67 C167.16,117.56 173.03,137.58 178.57,156.45 \" fill=\"none\" id=\"E5-to-E3\" style=\"stroke:#181818;stroke-width:1.0;\"/><polygon fill=\"#FFFFFF\" points=\"184.24,175.81,172.1744,159.5489,185.6082,155.6078,184.24,175.81\" style=\"stroke:#181818;stroke-width:1.0;\"/><ellipse cx=\"172.4889\" cy=\"153.5164\" fill=\"#181818\" rx=\"2\" ry=\"2\" style=\"stroke:#181818;stroke-width:1.0;\"/><ellipse cx=\"182.0845\" cy=\"150.7014\" fill=\"#181818\" rx=\"2\" ry=\"2\" style=\"stroke:#181818;stroke-width:1.0;\"/></a></g><!--MD5=[85d356282659285ab4b2cfe2f634dd2b]\n",
       "reverse link E5 to E6--><g id=\"link_E5_E6\"><a href=\"psysml:1a5e094c-b062-4a12-bd0e-4269385c32ea\" target=\"_top\" title=\"psysml:1a5e094c-b062-4a12-bd0e-4269385c32ea\" xlink:actuate=\"onRequest\" xlink:href=\"psysml:1a5e094c-b062-4a12-bd0e-4269385c32ea\" xlink:show=\"new\" xlink:title=\"psysml:1a5e094c-b062-4a12-bd0e-4269385c32ea\" xlink:type=\"simple\"><path d=\"M142.15,114.93 C132.96,138.44 121.15,168.62 113.13,189.15 \" fill=\"none\" id=\"E5-backto-E6\" style=\"stroke:#181818;stroke-width:1.0;\"/><polygon fill=\"none\" points=\"146.94,102.67,141.0321,106.8049,142.5767,113.8486,148.4845,109.7138,146.94,102.67\" style=\"stroke:#181818;stroke-width:1.0;\"/></a></g><!--MD5=[f667431f98296947986a1a7595a31603]\n",
       "link E6 to E4--><g id=\"link_E6_E4\"><a href=\"psysml:70307247-8a04-4365-8b78-a7ff4bcf8dda\" target=\"_top\" title=\"psysml:70307247-8a04-4365-8b78-a7ff4bcf8dda\" xlink:actuate=\"onRequest\" xlink:href=\"psysml:70307247-8a04-4365-8b78-a7ff4bcf8dda\" xlink:show=\"new\" xlink:title=\"psysml:70307247-8a04-4365-8b78-a7ff4bcf8dda\" xlink:type=\"simple\"><path d=\"M121.55,237.54 C133.87,253.72 150.65,275.76 165.07,294.69 \" fill=\"none\" id=\"E6-to-E4\" style=\"stroke:#181818;stroke-width:1.0;\"/><polygon fill=\"#FFFFFF\" points=\"177.2,310.62,160.1219,299.7417,171.2616,291.2619,177.2,310.62\" style=\"stroke:#181818;stroke-width:1.0;\"/><line style=\"stroke:#181818;stroke-width:2.0;\" x1=\"157.8202\" x2=\"168.9599\" y1=\"296.7181\" y2=\"288.2383\"/></a></g><!--MD5=[14ccda38c055a5c0da953d572bc50960]\n",
       "link E7 to E3--><g id=\"link_E7_E3\"><a href=\"psysml:e2fe589c-f14e-47a5-aaf0-9a8ebd450a7c\" target=\"_top\" title=\"psysml:e2fe589c-f14e-47a5-aaf0-9a8ebd450a7c\" xlink:actuate=\"onRequest\" xlink:href=\"psysml:e2fe589c-f14e-47a5-aaf0-9a8ebd450a7c\" xlink:show=\"new\" xlink:title=\"psysml:e2fe589c-f14e-47a5-aaf0-9a8ebd450a7c\" xlink:type=\"simple\"><path d=\"M91.52,109.02 C107.38,124.88 127.36,144.86 145.52,163.02 \" fill=\"none\" id=\"E7-to-E3\" style=\"stroke:#181818;stroke-width:1.0;\"/><polygon fill=\"#FFFFFF\" points=\"159.9,177.4,141.5152,168.9147,151.4147,159.0152,159.9,177.4\" style=\"stroke:#181818;stroke-width:1.0;\"/><ellipse cx=\"138.8989\" cy=\"163.47\" fill=\"#181818\" rx=\"2\" ry=\"2\" style=\"stroke:#181818;stroke-width:1.0;\"/><ellipse cx=\"145.97\" cy=\"156.3989\" fill=\"#181818\" rx=\"2\" ry=\"2\" style=\"stroke:#181818;stroke-width:1.0;\"/></a></g><!--MD5=[dc164f5e8a733ab456ef1add180e9e34]\n",
       "reverse link E7 to E8--><g id=\"link_E7_E8\"><a href=\"psysml:ca64ac56-097c-4feb-943f-895d8fc6b637\" target=\"_top\" title=\"psysml:ca64ac56-097c-4feb-943f-895d8fc6b637\" xlink:actuate=\"onRequest\" xlink:href=\"psysml:ca64ac56-097c-4feb-943f-895d8fc6b637\" xlink:show=\"new\" xlink:title=\"psysml:ca64ac56-097c-4feb-943f-895d8fc6b637\" xlink:type=\"simple\"><path d=\"M57.91,129.24 C56.33,163.83 56.74,210.77 66,251 C70.91,272.31 81.57,294.77 90.35,310.94 \" fill=\"none\" id=\"E7-backto-E8\" style=\"stroke:#181818;stroke-width:1.0;\"/><polygon fill=\"none\" points=\"58.62,116.16,54.3028,121.936,57.9741,128.1426,62.2912,122.3666,58.62,116.16\" style=\"stroke:#181818;stroke-width:1.0;\"/></a></g><!--MD5=[0a839d0f80c2d72d4b9b307f046d0de8]\n",
       "link E6 to E8--><g id=\"link_E6_E8\"><a href=\"psysml:f1f85c24-6beb-4ed4-abfc-161aeb53ad8b\" target=\"_top\" title=\"psysml:f1f85c24-6beb-4ed4-abfc-161aeb53ad8b\" xlink:actuate=\"onRequest\" xlink:href=\"psysml:f1f85c24-6beb-4ed4-abfc-161aeb53ad8b\" xlink:show=\"new\" xlink:title=\"psysml:f1f85c24-6beb-4ed4-abfc-161aeb53ad8b\" xlink:type=\"simple\"><path d=\"M93.69,237.54 C90.45,258.57 90.44,289.49 93.64,310.62 \" fill=\"none\" id=\"E6-E8\" style=\"stroke:#181818;stroke-width:3.0;\"/></a></g><!--MD5=[0a839d0f80c2d72d4b9b307f046d0de8]\n",
       "link E6 to E8--><g id=\"link_E6_E8\"><a href=\"psysml:92c8a956-0030-45f2-8c30-896629fb0abd\" target=\"_top\" title=\"psysml:92c8a956-0030-45f2-8c30-896629fb0abd\" xlink:actuate=\"onRequest\" xlink:href=\"psysml:92c8a956-0030-45f2-8c30-896629fb0abd\" xlink:show=\"new\" xlink:title=\"psysml:92c8a956-0030-45f2-8c30-896629fb0abd\" xlink:type=\"simple\"><path d=\"M114.92,237.54 C118.34,258.57 118.36,289.49 114.97,310.62 \" fill=\"none\" id=\"E6-E8-1\" style=\"stroke:#181818;stroke-width:3.0;\"/></a></g><!--MD5=[32e772a682e771a732cd2b94c5fd3e0b]\n",
       "@startuml\r\n",
       "skin sysmlbw\r\n",
       "skinparam monochrome true\r\n",
       "skinparam wrapWidth 300\r\n",
       "hide circle\r\n",
       "top to bottom direction\r\n",
       "\r\n",
       "package \"AliasTest\" as E1  [[psysml:a1c2986a-a425-4687-93ae-51674f2ada97 ]]  {\r\n",
       "comp usage \"b :>ISQSpaceTime::width \" as E2  <<(T,blue) attribute>> [[psysml:f27707b2-90f2-4671-96dd-49a3cebd999e ]] {\r\n",
       "}\r\n",
       "comp def \"P1\" as E3  <<(T,blue) part  def>> [[psysml:d64d4abf-692a-4b0a-b1a7-ca6bfa2152dc ]] {\r\n",
       "##//ports//##\r\n",
       "porig1\r\n",
       "}\r\n",
       "comp usage \"porig1  \" as E4  <<(T,blue) port>> [[psysml:61764694-1d1c-48ba-adaa-4bba53d3d30f ]] {\r\n",
       "}\r\n",
       "comp usage \"p1: P1  \" as E5  <<(T,blue) part>> [[psysml:e8b71076-5181-45d8-952d-6c6c3b8ab27b ]] {\r\n",
       "}\r\n",
       "comp usage \"po1  \" as E6  <<(T,blue) port>> [[psysml:d614f44e-5180-4509-9cc1-1632afa7b11f ]] {\r\n",
       "}\r\n",
       "comp usage \"p2: P1  \" as E7  <<(T,blue) part>> [[psysml:8277226e-c173-411e-8d8e-d31bb811c94b ]] {\r\n",
       "##//ports//##\r\n",
       "pdest\r\n",
       "}\r\n",
       "comp usage \"pdest  \" as E8  <<(T,blue) port>> [[psysml:88f12717-b335-4bfa-a952-2b65a00cb7af ]] {\r\n",
       "}\r\n",
       "}\r\n",
       "E3 o- - E4 [[psysml:9ff7bfb9-db47-4597-ac60-7f24b5e1b5c0 ]] \r\n",
       "E5 - -:|> E3 [[psysml:515868c5-6015-4da5-b3ff-32117e872914 ]] \r\n",
       "E5 o- - E6 [[psysml:1a5e094c-b062-4a12-bd0e-4269385c32ea ]] \r\n",
       "E6 - -||> E4 [[psysml:70307247-8a04-4365-8b78-a7ff4bcf8dda ]] \r\n",
       "E7 - -:|> E3 [[psysml:e2fe589c-f14e-47a5-aaf0-9a8ebd450a7c ]] \r\n",
       "E7 o- - E8 [[psysml:ca64ac56-097c-4feb-943f-895d8fc6b637 ]] \r\n",
       "E6 -[thickness=3]- E8 [[psysml:f1f85c24-6beb-4ed4-abfc-161aeb53ad8b ]] \r\n",
       "E6 -[thickness=3]- E8 [[psysml:92c8a956-0030-45f2-8c30-896629fb0abd ]] \r\n",
       "@enduml\r\n",
       "\n",
       "PlantUML version 1.2022.7(Mon Aug 22 17:01:30 UTC 2022)\n",
       "(EPL source distribution)\n",
       "Java Runtime: OpenJDK Runtime Environment\n",
       "JVM: OpenJDK 64-Bit Server VM\n",
       "Default Encoding: UTF-8\n",
       "Language: en\n",
       "Country: null\n",
       "--></g></svg>"
      ]
     },
     "execution_count": 44,
     "metadata": {},
     "output_type": "execute_result"
    }
   ],
   "source": [
    "%viz --style=\"TB\" --view=\"Default\" \"AliasTest\""
   ]
  },
  {
   "cell_type": "code",
   "execution_count": 45,
   "id": "64d8dc81",
   "metadata": {
    "execution": {
     "iopub.execute_input": "2024-12-16T03:25:14.466787Z",
     "iopub.status.busy": "2024-12-16T03:25:14.466552Z",
     "iopub.status.idle": "2024-12-16T03:25:14.492402Z",
     "shell.execute_reply": "2024-12-16T03:25:14.491418Z"
    }
   },
   "outputs": [
    {
     "data": {
      "image/svg+xml": [
       "<?xml version=\"1.0\" encoding=\"UTF-8\" standalone=\"no\"?><svg xmlns=\"http://www.w3.org/2000/svg\" xmlns:xlink=\"http://www.w3.org/1999/xlink\" contentStyleType=\"text/css\" height=\"382px\" preserveAspectRatio=\"none\" style=\"width:440px;height:382px;background:#FFFFFF;\" version=\"1.1\" viewBox=\"0 0 440 382\" width=\"440px\" zoomAndPan=\"magnify\"><defs/><g><!--MD5=[fbc87193dbaf4d95561dea2c320d4a47]\n",
       "cluster E1--><g id=\"cluster_E1\"><a href=\"psysml:a1c2986a-a425-4687-93ae-51674f2ada97\" target=\"_top\" title=\"psysml:a1c2986a-a425-4687-93ae-51674f2ada97\" xlink:actuate=\"onRequest\" xlink:href=\"psysml:a1c2986a-a425-4687-93ae-51674f2ada97\" xlink:show=\"new\" xlink:title=\"psysml:a1c2986a-a425-4687-93ae-51674f2ada97\" xlink:type=\"simple\"><polygon fill=\"none\" points=\"16,6,87.9375,6,94.9375,28.2969,423,28.2969,423,375,16,375,16,6\" style=\"stroke:#000000;stroke-width:1.5;\"/><line style=\"stroke:#000000;stroke-width:1.5;\" x1=\"16\" x2=\"94.9375\" y1=\"28.2969\" y2=\"28.2969\"/><text fill=\"#000000\" font-family=\"sans-serif\" font-size=\"14\" font-weight=\"bold\" lengthAdjust=\"spacing\" textLength=\"65.9375\" x=\"20\" y=\"20.9951\">AliasTest</text></a></g><!--MD5=[b4997ac47864f28c2f74865a473b2911]\n",
       "class E2--><a href=\"psysml:f27707b2-90f2-4671-96dd-49a3cebd999e\" target=\"_top\" title=\"psysml:f27707b2-90f2-4671-96dd-49a3cebd999e\" xlink:actuate=\"onRequest\" xlink:href=\"psysml:f27707b2-90f2-4671-96dd-49a3cebd999e\" xlink:show=\"new\" xlink:title=\"psysml:f27707b2-90f2-4671-96dd-49a3cebd999e\" xlink:type=\"simple\"><g id=\"elem_E2\"><rect fill=\"#FFFFFF\" height=\"48.2656\" id=\"E2\" rx=\"10\" ry=\"10\" style=\"stroke:#181818;stroke-width:0.5;\" width=\"187\" x=\"220.5\" y=\"54.5\"/><text fill=\"#000000\" font-family=\"sans-serif\" font-size=\"12\" font-style=\"italic\" lengthAdjust=\"spacing\" textLength=\"69\" x=\"279.5\" y=\"70.6387\">«attribute»</text><text fill=\"#000000\" font-family=\"sans-serif\" font-size=\"14\" lengthAdjust=\"spacing\" textLength=\"177\" x=\"223.5\" y=\"86.4639\">b :&gt;ISQSpaceTime::width</text><line style=\"stroke:#181818;stroke-width:0.5;\" x1=\"221.5\" x2=\"406.5\" y1=\"94.7656\" y2=\"94.7656\"/></g></a><!--MD5=[09b614a08d8cba4a07c9adeb5e0fee81]\n",
       "class E3--><a href=\"psysml:d64d4abf-692a-4b0a-b1a7-ca6bfa2152dc\" target=\"_top\" title=\"psysml:d64d4abf-692a-4b0a-b1a7-ca6bfa2152dc\" xlink:actuate=\"onRequest\" xlink:href=\"psysml:d64d4abf-692a-4b0a-b1a7-ca6bfa2152dc\" xlink:show=\"new\" xlink:title=\"psysml:d64d4abf-692a-4b0a-b1a7-ca6bfa2152dc\" xlink:type=\"simple\"><g id=\"elem_E3\"><rect fill=\"#FFFFFF\" height=\"75.0813\" id=\"E3\" style=\"stroke:#181818;stroke-width:0.5;\" width=\"70\" x=\"160\" y=\"176\"/><text fill=\"#000000\" font-family=\"sans-serif\" font-size=\"12\" font-style=\"italic\" lengthAdjust=\"spacing\" textLength=\"68\" x=\"161\" y=\"192.1387\">«part  def»</text><text fill=\"#000000\" font-family=\"sans-serif\" font-size=\"14\" lengthAdjust=\"spacing\" textLength=\"18\" x=\"186\" y=\"207.9639\">P1</text><line style=\"stroke:#181818;stroke-width:0.5;\" x1=\"161\" x2=\"229\" y1=\"216.2656\" y2=\"216.2656\"/><text fill=\"#000000\" font-family=\"sans-serif\" font-size=\"14\" lengthAdjust=\"spacing\" textLength=\"44\" x=\"166\" y=\"243.7795\">porig1</text><text fill=\"#000000\" font-family=\"sans-serif\" font-size=\"14\" font-style=\"italic\" lengthAdjust=\"spacing\" textLength=\"36\" x=\"177\" y=\"228.6123\">ports</text></g></a><!--MD5=[ebbe1d658d1005bcc118a6aa81145e00]\n",
       "class E4--><a href=\"psysml:61764694-1d1c-48ba-adaa-4bba53d3d30f\" target=\"_top\" title=\"psysml:61764694-1d1c-48ba-adaa-4bba53d3d30f\" xlink:actuate=\"onRequest\" xlink:href=\"psysml:61764694-1d1c-48ba-adaa-4bba53d3d30f\" xlink:show=\"new\" xlink:title=\"psysml:61764694-1d1c-48ba-adaa-4bba53d3d30f\" xlink:type=\"simple\"><g id=\"elem_E4\"><rect fill=\"#FFFFFF\" height=\"48.2656\" id=\"E4\" rx=\"10\" ry=\"10\" style=\"stroke:#181818;stroke-width:0.5;\" width=\"58\" x=\"166\" y=\"311\"/><text fill=\"#000000\" font-family=\"sans-serif\" font-size=\"12\" font-style=\"italic\" lengthAdjust=\"spacing\" textLength=\"40\" x=\"175\" y=\"327.1387\">«port»</text><text fill=\"#000000\" font-family=\"sans-serif\" font-size=\"14\" lengthAdjust=\"spacing\" textLength=\"44\" x=\"169\" y=\"342.9639\">porig1</text><line style=\"stroke:#181818;stroke-width:0.5;\" x1=\"167\" x2=\"223\" y1=\"351.2656\" y2=\"351.2656\"/></g></a><!--MD5=[270fce915f116d4de14055a7c1d9a0f3]\n",
       "class E5--><a href=\"psysml:e8b71076-5181-45d8-952d-6c6c3b8ab27b\" target=\"_top\" title=\"psysml:e8b71076-5181-45d8-952d-6c6c3b8ab27b\" xlink:actuate=\"onRequest\" xlink:href=\"psysml:e8b71076-5181-45d8-952d-6c6c3b8ab27b\" xlink:show=\"new\" xlink:title=\"psysml:e8b71076-5181-45d8-952d-6c6c3b8ab27b\" xlink:type=\"simple\"><g id=\"elem_E5\"><rect fill=\"#FFFFFF\" height=\"48.2656\" id=\"E5\" rx=\"10\" ry=\"10\" style=\"stroke:#181818;stroke-width:0.5;\" width=\"59\" x=\"126.5\" y=\"54.5\"/><text fill=\"#000000\" font-family=\"sans-serif\" font-size=\"12\" font-style=\"italic\" lengthAdjust=\"spacing\" textLength=\"40\" x=\"136\" y=\"70.6387\">«part»</text><text fill=\"#000000\" font-family=\"sans-serif\" font-size=\"14\" lengthAdjust=\"spacing\" textLength=\"45\" x=\"129.5\" y=\"86.4639\">p1: P1</text><line style=\"stroke:#181818;stroke-width:0.5;\" x1=\"127.5\" x2=\"184.5\" y1=\"94.7656\" y2=\"94.7656\"/></g></a><!--MD5=[60a26617385b1d2d0262a64233df1f8d]\n",
       "class E6--><a href=\"psysml:d614f44e-5180-4509-9cc1-1632afa7b11f\" target=\"_top\" title=\"psysml:d614f44e-5180-4509-9cc1-1632afa7b11f\" xlink:actuate=\"onRequest\" xlink:href=\"psysml:d614f44e-5180-4509-9cc1-1632afa7b11f\" xlink:show=\"new\" xlink:title=\"psysml:d614f44e-5180-4509-9cc1-1632afa7b11f\" xlink:type=\"simple\"><g id=\"elem_E6\"><rect fill=\"#FFFFFF\" height=\"48.2656\" id=\"E6\" rx=\"10\" ry=\"10\" style=\"stroke:#181818;stroke-width:0.5;\" width=\"42\" x=\"83\" y=\"189.5\"/><text fill=\"#000000\" font-family=\"sans-serif\" font-size=\"12\" font-style=\"italic\" lengthAdjust=\"spacing\" textLength=\"40\" x=\"84\" y=\"205.6387\">«port»</text><text fill=\"#000000\" font-family=\"sans-serif\" font-size=\"14\" lengthAdjust=\"spacing\" textLength=\"27\" x=\"86.5\" y=\"221.4639\">po1</text><line style=\"stroke:#181818;stroke-width:0.5;\" x1=\"84\" x2=\"124\" y1=\"229.7656\" y2=\"229.7656\"/></g></a><!--MD5=[2156ba9850f5573cc1fc38a6a4b2f02b]\n",
       "class E7--><a href=\"psysml:8277226e-c173-411e-8d8e-d31bb811c94b\" target=\"_top\" title=\"psysml:8277226e-c173-411e-8d8e-d31bb811c94b\" xlink:actuate=\"onRequest\" xlink:href=\"psysml:8277226e-c173-411e-8d8e-d31bb811c94b\" xlink:show=\"new\" xlink:title=\"psysml:8277226e-c173-411e-8d8e-d31bb811c94b\" xlink:type=\"simple\"><g id=\"elem_E7\"><rect fill=\"#FFFFFF\" height=\"75.0813\" id=\"E7\" rx=\"10\" ry=\"10\" style=\"stroke:#181818;stroke-width:0.5;\" width=\"59\" x=\"32.5\" y=\"41\"/><text fill=\"#000000\" font-family=\"sans-serif\" font-size=\"12\" font-style=\"italic\" lengthAdjust=\"spacing\" textLength=\"40\" x=\"42\" y=\"57.1387\">«part»</text><text fill=\"#000000\" font-family=\"sans-serif\" font-size=\"14\" lengthAdjust=\"spacing\" textLength=\"45\" x=\"35.5\" y=\"72.9639\">p2: P1</text><line style=\"stroke:#181818;stroke-width:0.5;\" x1=\"33.5\" x2=\"90.5\" y1=\"81.2656\" y2=\"81.2656\"/><text fill=\"#000000\" font-family=\"sans-serif\" font-size=\"14\" lengthAdjust=\"spacing\" textLength=\"40\" x=\"38.5\" y=\"108.7795\">pdest</text><text fill=\"#000000\" font-family=\"sans-serif\" font-size=\"14\" font-style=\"italic\" lengthAdjust=\"spacing\" textLength=\"36\" x=\"44\" y=\"93.6123\">ports</text></g></a><!--MD5=[b9389687b975829384b498ac4b7476b2]\n",
       "class E8--><a href=\"psysml:88f12717-b335-4bfa-a952-2b65a00cb7af\" target=\"_top\" title=\"psysml:88f12717-b335-4bfa-a952-2b65a00cb7af\" xlink:actuate=\"onRequest\" xlink:href=\"psysml:88f12717-b335-4bfa-a952-2b65a00cb7af\" xlink:show=\"new\" xlink:title=\"psysml:88f12717-b335-4bfa-a952-2b65a00cb7af\" xlink:type=\"simple\"><g id=\"elem_E8\"><rect fill=\"#FFFFFF\" height=\"48.2656\" id=\"E8\" rx=\"10\" ry=\"10\" style=\"stroke:#181818;stroke-width:0.5;\" width=\"54\" x=\"77\" y=\"311\"/><text fill=\"#000000\" font-family=\"sans-serif\" font-size=\"12\" font-style=\"italic\" lengthAdjust=\"spacing\" textLength=\"40\" x=\"84\" y=\"327.1387\">«port»</text><text fill=\"#000000\" font-family=\"sans-serif\" font-size=\"14\" lengthAdjust=\"spacing\" textLength=\"40\" x=\"80\" y=\"342.9639\">pdest</text><line style=\"stroke:#181818;stroke-width:0.5;\" x1=\"78\" x2=\"130\" y1=\"351.2656\" y2=\"351.2656\"/></g></a><!--MD5=[4672eba38e49728da53d11aeb285b987]\n",
       "reverse link E3 to E4--><g id=\"link_E3_E4\"><a href=\"psysml:9ff7bfb9-db47-4597-ac60-7f24b5e1b5c0\" target=\"_top\" title=\"psysml:9ff7bfb9-db47-4597-ac60-7f24b5e1b5c0\" xlink:actuate=\"onRequest\" xlink:href=\"psysml:9ff7bfb9-db47-4597-ac60-7f24b5e1b5c0\" xlink:show=\"new\" xlink:title=\"psysml:9ff7bfb9-db47-4597-ac60-7f24b5e1b5c0\" xlink:type=\"simple\"><path d=\"M195,264.25 C195,280.43 195,297.61 195,310.88 \" fill=\"none\" id=\"E3-backto-E4\" style=\"stroke:#181818;stroke-width:1.0;\"/><polygon fill=\"none\" points=\"195,251,191,257,195,263,199,257,195,251\" style=\"stroke:#181818;stroke-width:1.0;\"/></a></g><!--MD5=[e9be52314489bd878ff4c7144b63c9e1]\n",
       "link E5 to E3--><g id=\"link_E5_E3\"><a href=\"psysml:515868c5-6015-4da5-b3ff-32117e872914\" target=\"_top\" title=\"psysml:515868c5-6015-4da5-b3ff-32117e872914\" xlink:actuate=\"onRequest\" xlink:href=\"psysml:515868c5-6015-4da5-b3ff-32117e872914\" xlink:show=\"new\" xlink:title=\"psysml:515868c5-6015-4da5-b3ff-32117e872914\" xlink:type=\"simple\"><path d=\"M162.79,102.67 C167.16,117.56 173.03,137.58 178.57,156.45 \" fill=\"none\" id=\"E5-to-E3\" style=\"stroke:#181818;stroke-width:1.0;\"/><polygon fill=\"#FFFFFF\" points=\"184.24,175.81,172.1744,159.5489,185.6082,155.6078,184.24,175.81\" style=\"stroke:#181818;stroke-width:1.0;\"/><ellipse cx=\"172.4889\" cy=\"153.5164\" fill=\"#181818\" rx=\"2\" ry=\"2\" style=\"stroke:#181818;stroke-width:1.0;\"/><ellipse cx=\"182.0845\" cy=\"150.7014\" fill=\"#181818\" rx=\"2\" ry=\"2\" style=\"stroke:#181818;stroke-width:1.0;\"/></a></g><!--MD5=[85d356282659285ab4b2cfe2f634dd2b]\n",
       "reverse link E5 to E6--><g id=\"link_E5_E6\"><a href=\"psysml:1a5e094c-b062-4a12-bd0e-4269385c32ea\" target=\"_top\" title=\"psysml:1a5e094c-b062-4a12-bd0e-4269385c32ea\" xlink:actuate=\"onRequest\" xlink:href=\"psysml:1a5e094c-b062-4a12-bd0e-4269385c32ea\" xlink:show=\"new\" xlink:title=\"psysml:1a5e094c-b062-4a12-bd0e-4269385c32ea\" xlink:type=\"simple\"><path d=\"M142.15,114.93 C132.96,138.44 121.15,168.62 113.13,189.15 \" fill=\"none\" id=\"E5-backto-E6\" style=\"stroke:#181818;stroke-width:1.0;\"/><polygon fill=\"none\" points=\"146.94,102.67,141.0321,106.8049,142.5767,113.8486,148.4845,109.7138,146.94,102.67\" style=\"stroke:#181818;stroke-width:1.0;\"/></a></g><!--MD5=[f667431f98296947986a1a7595a31603]\n",
       "link E6 to E4--><g id=\"link_E6_E4\"><a href=\"psysml:70307247-8a04-4365-8b78-a7ff4bcf8dda\" target=\"_top\" title=\"psysml:70307247-8a04-4365-8b78-a7ff4bcf8dda\" xlink:actuate=\"onRequest\" xlink:href=\"psysml:70307247-8a04-4365-8b78-a7ff4bcf8dda\" xlink:show=\"new\" xlink:title=\"psysml:70307247-8a04-4365-8b78-a7ff4bcf8dda\" xlink:type=\"simple\"><path d=\"M121.55,237.54 C133.87,253.72 150.65,275.76 165.07,294.69 \" fill=\"none\" id=\"E6-to-E4\" style=\"stroke:#181818;stroke-width:1.0;\"/><polygon fill=\"#FFFFFF\" points=\"177.2,310.62,160.1219,299.7417,171.2616,291.2619,177.2,310.62\" style=\"stroke:#181818;stroke-width:1.0;\"/><line style=\"stroke:#181818;stroke-width:2.0;\" x1=\"157.8202\" x2=\"168.9599\" y1=\"296.7181\" y2=\"288.2383\"/></a></g><!--MD5=[14ccda38c055a5c0da953d572bc50960]\n",
       "link E7 to E3--><g id=\"link_E7_E3\"><a href=\"psysml:e2fe589c-f14e-47a5-aaf0-9a8ebd450a7c\" target=\"_top\" title=\"psysml:e2fe589c-f14e-47a5-aaf0-9a8ebd450a7c\" xlink:actuate=\"onRequest\" xlink:href=\"psysml:e2fe589c-f14e-47a5-aaf0-9a8ebd450a7c\" xlink:show=\"new\" xlink:title=\"psysml:e2fe589c-f14e-47a5-aaf0-9a8ebd450a7c\" xlink:type=\"simple\"><path d=\"M91.52,109.02 C107.38,124.88 127.36,144.86 145.52,163.02 \" fill=\"none\" id=\"E7-to-E3\" style=\"stroke:#181818;stroke-width:1.0;\"/><polygon fill=\"#FFFFFF\" points=\"159.9,177.4,141.5152,168.9147,151.4147,159.0152,159.9,177.4\" style=\"stroke:#181818;stroke-width:1.0;\"/><ellipse cx=\"138.8989\" cy=\"163.47\" fill=\"#181818\" rx=\"2\" ry=\"2\" style=\"stroke:#181818;stroke-width:1.0;\"/><ellipse cx=\"145.97\" cy=\"156.3989\" fill=\"#181818\" rx=\"2\" ry=\"2\" style=\"stroke:#181818;stroke-width:1.0;\"/></a></g><!--MD5=[dc164f5e8a733ab456ef1add180e9e34]\n",
       "reverse link E7 to E8--><g id=\"link_E7_E8\"><a href=\"psysml:ca64ac56-097c-4feb-943f-895d8fc6b637\" target=\"_top\" title=\"psysml:ca64ac56-097c-4feb-943f-895d8fc6b637\" xlink:actuate=\"onRequest\" xlink:href=\"psysml:ca64ac56-097c-4feb-943f-895d8fc6b637\" xlink:show=\"new\" xlink:title=\"psysml:ca64ac56-097c-4feb-943f-895d8fc6b637\" xlink:type=\"simple\"><path d=\"M57.91,129.24 C56.33,163.83 56.74,210.77 66,251 C70.91,272.31 81.57,294.77 90.35,310.94 \" fill=\"none\" id=\"E7-backto-E8\" style=\"stroke:#181818;stroke-width:1.0;\"/><polygon fill=\"none\" points=\"58.62,116.16,54.3028,121.936,57.9741,128.1426,62.2912,122.3666,58.62,116.16\" style=\"stroke:#181818;stroke-width:1.0;\"/></a></g><!--MD5=[0a839d0f80c2d72d4b9b307f046d0de8]\n",
       "link E6 to E8--><g id=\"link_E6_E8\"><a href=\"psysml:f1f85c24-6beb-4ed4-abfc-161aeb53ad8b\" target=\"_top\" title=\"psysml:f1f85c24-6beb-4ed4-abfc-161aeb53ad8b\" xlink:actuate=\"onRequest\" xlink:href=\"psysml:f1f85c24-6beb-4ed4-abfc-161aeb53ad8b\" xlink:show=\"new\" xlink:title=\"psysml:f1f85c24-6beb-4ed4-abfc-161aeb53ad8b\" xlink:type=\"simple\"><path d=\"M93.69,237.54 C90.45,258.57 90.44,289.49 93.64,310.62 \" fill=\"none\" id=\"E6-E8\" style=\"stroke:#181818;stroke-width:3.0;\"/></a></g><!--MD5=[0a839d0f80c2d72d4b9b307f046d0de8]\n",
       "link E6 to E8--><g id=\"link_E6_E8\"><a href=\"psysml:92c8a956-0030-45f2-8c30-896629fb0abd\" target=\"_top\" title=\"psysml:92c8a956-0030-45f2-8c30-896629fb0abd\" xlink:actuate=\"onRequest\" xlink:href=\"psysml:92c8a956-0030-45f2-8c30-896629fb0abd\" xlink:show=\"new\" xlink:title=\"psysml:92c8a956-0030-45f2-8c30-896629fb0abd\" xlink:type=\"simple\"><path d=\"M114.92,237.54 C118.34,258.57 118.36,289.49 114.97,310.62 \" fill=\"none\" id=\"E6-E8-1\" style=\"stroke:#181818;stroke-width:3.0;\"/></a></g><!--MD5=[32e772a682e771a732cd2b94c5fd3e0b]\n",
       "@startuml\r\n",
       "skin sysmlbw\r\n",
       "skinparam monochrome true\r\n",
       "skinparam wrapWidth 300\r\n",
       "hide circle\r\n",
       "top to bottom direction\r\n",
       "\r\n",
       "package \"AliasTest\" as E1  [[psysml:a1c2986a-a425-4687-93ae-51674f2ada97 ]]  {\r\n",
       "comp usage \"b :>ISQSpaceTime::width \" as E2  <<(T,blue) attribute>> [[psysml:f27707b2-90f2-4671-96dd-49a3cebd999e ]] {\r\n",
       "}\r\n",
       "comp def \"P1\" as E3  <<(T,blue) part  def>> [[psysml:d64d4abf-692a-4b0a-b1a7-ca6bfa2152dc ]] {\r\n",
       "##//ports//##\r\n",
       "porig1\r\n",
       "}\r\n",
       "comp usage \"porig1  \" as E4  <<(T,blue) port>> [[psysml:61764694-1d1c-48ba-adaa-4bba53d3d30f ]] {\r\n",
       "}\r\n",
       "comp usage \"p1: P1  \" as E5  <<(T,blue) part>> [[psysml:e8b71076-5181-45d8-952d-6c6c3b8ab27b ]] {\r\n",
       "}\r\n",
       "comp usage \"po1  \" as E6  <<(T,blue) port>> [[psysml:d614f44e-5180-4509-9cc1-1632afa7b11f ]] {\r\n",
       "}\r\n",
       "comp usage \"p2: P1  \" as E7  <<(T,blue) part>> [[psysml:8277226e-c173-411e-8d8e-d31bb811c94b ]] {\r\n",
       "##//ports//##\r\n",
       "pdest\r\n",
       "}\r\n",
       "comp usage \"pdest  \" as E8  <<(T,blue) port>> [[psysml:88f12717-b335-4bfa-a952-2b65a00cb7af ]] {\r\n",
       "}\r\n",
       "}\r\n",
       "E3 o- - E4 [[psysml:9ff7bfb9-db47-4597-ac60-7f24b5e1b5c0 ]] \r\n",
       "E5 - -:|> E3 [[psysml:515868c5-6015-4da5-b3ff-32117e872914 ]] \r\n",
       "E5 o- - E6 [[psysml:1a5e094c-b062-4a12-bd0e-4269385c32ea ]] \r\n",
       "E6 - -||> E4 [[psysml:70307247-8a04-4365-8b78-a7ff4bcf8dda ]] \r\n",
       "E7 - -:|> E3 [[psysml:e2fe589c-f14e-47a5-aaf0-9a8ebd450a7c ]] \r\n",
       "E7 o- - E8 [[psysml:ca64ac56-097c-4feb-943f-895d8fc6b637 ]] \r\n",
       "E6 -[thickness=3]- E8 [[psysml:f1f85c24-6beb-4ed4-abfc-161aeb53ad8b ]] \r\n",
       "E6 -[thickness=3]- E8 [[psysml:92c8a956-0030-45f2-8c30-896629fb0abd ]] \r\n",
       "@enduml\r\n",
       "\n",
       "PlantUML version 1.2022.7(Mon Aug 22 17:01:30 UTC 2022)\n",
       "(EPL source distribution)\n",
       "Java Runtime: OpenJDK Runtime Environment\n",
       "JVM: OpenJDK 64-Bit Server VM\n",
       "Default Encoding: UTF-8\n",
       "Language: en\n",
       "Country: null\n",
       "--></g></svg>"
      ]
     },
     "execution_count": 45,
     "metadata": {},
     "output_type": "execute_result"
    }
   ],
   "source": [
    "%viz --style=\"TB\" --view=\"Tree\" \"AliasTest\""
   ]
  },
  {
   "cell_type": "code",
   "execution_count": 46,
   "id": "d5e4c27c",
   "metadata": {
    "execution": {
     "iopub.execute_input": "2024-12-16T03:25:14.545118Z",
     "iopub.status.busy": "2024-12-16T03:25:14.544903Z",
     "iopub.status.idle": "2024-12-16T03:25:14.549328Z",
     "shell.execute_reply": "2024-12-16T03:25:14.549153Z"
    }
   },
   "outputs": [
    {
     "data": {
      "image/svg+xml": [
       "<?xml version=\"1.0\" encoding=\"UTF-8\" standalone=\"no\"?><svg xmlns=\"http://www.w3.org/2000/svg\" xmlns:xlink=\"http://www.w3.org/1999/xlink\" contentStyleType=\"text/css\" height=\"10px\" preserveAspectRatio=\"none\" style=\"width:10px;height:10px;background:#FFFFFF;\" version=\"1.1\" viewBox=\"0 0 10 10\" width=\"10px\" zoomAndPan=\"magnify\"><defs/><g><!--MD5=[457d54036ad86991b1ebb71db2c9a3b1]\n",
       "@startuml\r\n",
       "skin sysmlbw\r\n",
       "skinparam monochrome true\r\n",
       "skinparam wrapWidth 300\r\n",
       "hide circle\r\n",
       "top to bottom direction\r\n",
       "\r\n",
       "@enduml\r\n",
       "\n",
       "PlantUML version 1.2022.7(Mon Aug 22 17:01:30 UTC 2022)\n",
       "(EPL source distribution)\n",
       "Java Runtime: OpenJDK Runtime Environment\n",
       "JVM: OpenJDK 64-Bit Server VM\n",
       "Default Encoding: UTF-8\n",
       "Language: en\n",
       "Country: null\n",
       "--></g></svg>"
      ]
     },
     "execution_count": 46,
     "metadata": {},
     "output_type": "execute_result"
    }
   ],
   "source": [
    "%viz --style=\"TB\" --view=\"State\" \"AliasTest\""
   ]
  },
  {
   "cell_type": "code",
   "execution_count": 47,
   "id": "99c6fca8",
   "metadata": {
    "execution": {
     "iopub.execute_input": "2024-12-16T03:25:14.600532Z",
     "iopub.status.busy": "2024-12-16T03:25:14.600291Z",
     "iopub.status.idle": "2024-12-16T03:25:14.619195Z",
     "shell.execute_reply": "2024-12-16T03:25:14.618366Z"
    }
   },
   "outputs": [
    {
     "data": {
      "image/svg+xml": [
       "<?xml version=\"1.0\" encoding=\"UTF-8\" standalone=\"no\"?><svg xmlns=\"http://www.w3.org/2000/svg\" xmlns:xlink=\"http://www.w3.org/1999/xlink\" contentStyleType=\"text/css\" height=\"394px\" preserveAspectRatio=\"none\" style=\"width:387px;height:394px;background:#FFFFFF;\" version=\"1.1\" viewBox=\"0 0 387 394\" width=\"387px\" zoomAndPan=\"magnify\"><defs/><g><!--MD5=[fbc87193dbaf4d95561dea2c320d4a47]\n",
       "cluster E1--><g id=\"cluster_E1\"><a href=\"psysml:a1c2986a-a425-4687-93ae-51674f2ada97\" target=\"_top\" title=\"psysml:a1c2986a-a425-4687-93ae-51674f2ada97\" xlink:actuate=\"onRequest\" xlink:href=\"psysml:a1c2986a-a425-4687-93ae-51674f2ada97\" xlink:show=\"new\" xlink:title=\"psysml:a1c2986a-a425-4687-93ae-51674f2ada97\" xlink:type=\"simple\"><polygon fill=\"none\" points=\"16,6,87.9375,6,94.9375,28.2969,370,28.2969,370,387.36,16,387.36,16,6\" style=\"stroke:#000000;stroke-width:1.5;\"/><line style=\"stroke:#000000;stroke-width:1.5;\" x1=\"16\" x2=\"94.9375\" y1=\"28.2969\" y2=\"28.2969\"/><text fill=\"#000000\" font-family=\"sans-serif\" font-size=\"14\" font-weight=\"bold\" lengthAdjust=\"spacing\" textLength=\"65.9375\" x=\"20\" y=\"20.9951\">AliasTest</text></a></g><!--MD5=[d5e69f78d87373223dbae638b30a9c99]\n",
       "cluster E3--><g id=\"cluster_E3\"><a href=\"psysml:d64d4abf-692a-4b0a-b1a7-ca6bfa2152dc\" target=\"_top\" title=\"psysml:d64d4abf-692a-4b0a-b1a7-ca6bfa2152dc\" xlink:actuate=\"onRequest\" xlink:href=\"psysml:d64d4abf-692a-4b0a-b1a7-ca6bfa2152dc\" xlink:show=\"new\" xlink:title=\"psysml:d64d4abf-692a-4b0a-b1a7-ca6bfa2152dc\" xlink:type=\"simple\"><rect fill=\"#FFFFFF\" height=\"124.5\" id=\"E3\" style=\"stroke:#383838;stroke-width:1.5;\" width=\"144\" x=\"202\" y=\"238.86\"/><text fill=\"#000000\" font-family=\"sans-serif\" font-size=\"12\" font-style=\"italic\" lengthAdjust=\"spacing\" textLength=\"68\" x=\"240\" y=\"254.9987\">«part  def»</text><text fill=\"#000000\" font-family=\"sans-serif\" font-size=\"14\" lengthAdjust=\"spacing\" textLength=\"18\" x=\"265\" y=\"270.8239\">P1</text><line style=\"stroke:#383838;stroke-width:1.0;\" x1=\"202\" x2=\"346\" y1=\"279.1256\" y2=\"279.1256\"/></a></g><!--MD5=[14e3b0961a2654348d326746436168a1]\n",
       "cluster E6--><g id=\"cluster_E6\"><a href=\"psysml:e8b71076-5181-45d8-952d-6c6c3b8ab27b\" target=\"_top\" title=\"psysml:e8b71076-5181-45d8-952d-6c6c3b8ab27b\" xlink:actuate=\"onRequest\" xlink:href=\"psysml:e8b71076-5181-45d8-952d-6c6c3b8ab27b\" xlink:show=\"new\" xlink:title=\"psysml:e8b71076-5181-45d8-952d-6c6c3b8ab27b\" xlink:type=\"simple\"><rect fill=\"#FFFFFF\" height=\"98.36\" id=\"E6\" rx=\"10\" ry=\"10\" style=\"stroke:#383838;stroke-width:1.5;\" width=\"116\" x=\"230\" y=\"49\"/><text fill=\"#000000\" font-family=\"sans-serif\" font-size=\"14\" lengthAdjust=\"spacing\" textLength=\"45\" x=\"265.5\" y=\"66.9951\">p1: P1</text><line style=\"stroke:#383838;stroke-width:1.0;\" x1=\"230\" x2=\"346\" y1=\"75.2969\" y2=\"75.2969\"/></a></g><!--MD5=[55dfccfc6c49c2d10cd1bd2211a6c90c]\n",
       "cluster E8--><g id=\"cluster_E8\"><a href=\"psysml:8277226e-c173-411e-8d8e-d31bb811c94b\" target=\"_top\" title=\"psysml:8277226e-c173-411e-8d8e-d31bb811c94b\" xlink:actuate=\"onRequest\" xlink:href=\"psysml:8277226e-c173-411e-8d8e-d31bb811c94b\" xlink:show=\"new\" xlink:title=\"psysml:8277226e-c173-411e-8d8e-d31bb811c94b\" xlink:type=\"simple\"><rect fill=\"#FFFFFF\" height=\"73\" id=\"E8\" rx=\"10\" ry=\"10\" style=\"stroke:#383838;stroke-width:1.5;\" width=\"83\" x=\"103\" y=\"199.36\"/><text fill=\"#000000\" font-family=\"sans-serif\" font-size=\"14\" lengthAdjust=\"spacing\" textLength=\"45\" x=\"122\" y=\"217.3551\">p2: P1</text><line style=\"stroke:#383838;stroke-width:1.0;\" x1=\"103\" x2=\"186\" y1=\"225.6569\" y2=\"225.6569\"/></a></g><!--MD5=[b4997ac47864f28c2f74865a473b2911]\n",
       "class E2--><a href=\"psysml:f27707b2-90f2-4671-96dd-49a3cebd999e\" target=\"_top\" title=\"psysml:f27707b2-90f2-4671-96dd-49a3cebd999e\" xlink:actuate=\"onRequest\" xlink:href=\"psysml:f27707b2-90f2-4671-96dd-49a3cebd999e\" xlink:show=\"new\" xlink:title=\"psysml:f27707b2-90f2-4671-96dd-49a3cebd999e\" xlink:type=\"simple\"><g id=\"elem_E2\"><rect fill=\"#FFFFFF\" height=\"48.2656\" id=\"E2\" rx=\"10\" ry=\"10\" style=\"stroke:#181818;stroke-width:0.5;\" width=\"187\" x=\"31.5\" y=\"58.5\"/><text fill=\"#000000\" font-family=\"sans-serif\" font-size=\"12\" font-style=\"italic\" lengthAdjust=\"spacing\" textLength=\"69\" x=\"90.5\" y=\"74.6387\">«attribute»</text><text fill=\"#000000\" font-family=\"sans-serif\" font-size=\"14\" lengthAdjust=\"spacing\" textLength=\"177\" x=\"34.5\" y=\"90.4639\">b :&gt;ISQSpaceTime::width</text><line style=\"stroke:#181818;stroke-width:0.5;\" x1=\"32.5\" x2=\"217.5\" y1=\"98.7656\" y2=\"98.7656\"/></g></a><text fill=\"#000000\" font-family=\"sans-serif\" font-size=\"14\" lengthAdjust=\"spacing\" textLength=\"44\" x=\"194\" y=\"217.5582\">porig1</text><rect fill=\"#FFFFFF\" height=\"12\" style=\"stroke:#181818;stroke-width:1.5;\" width=\"12\" x=\"214\" y=\"232.86\"/><text fill=\"#000000\" font-family=\"sans-serif\" font-size=\"14\" lengthAdjust=\"spacing\" textLength=\"44\" x=\"241\" y=\"217.5582\">porig1</text><rect fill=\"#FFFFFF\" height=\"12\" style=\"stroke:#181818;stroke-width:1.5;\" width=\"12\" x=\"261\" y=\"232.86\"/><text fill=\"#000000\" font-family=\"sans-serif\" font-size=\"14\" lengthAdjust=\"spacing\" textLength=\"27\" x=\"230.5\" y=\"166.3551\">po1</text><rect fill=\"#FFFFFF\" height=\"12\" style=\"stroke:#181818;stroke-width:1.5;\" width=\"12\" x=\"242\" y=\"141.36\"/><text fill=\"#000000\" font-family=\"sans-serif\" font-size=\"14\" lengthAdjust=\"spacing\" textLength=\"40\" x=\"97\" y=\"178.0582\">pdest</text><rect fill=\"#FFFFFF\" height=\"12\" style=\"stroke:#181818;stroke-width:1.5;\" width=\"12\" x=\"115\" y=\"193.36\"/><text fill=\"#000000\" font-family=\"sans-serif\" font-size=\"14\" lengthAdjust=\"spacing\" textLength=\"40\" x=\"144\" y=\"178.0582\">pdest</text><rect fill=\"#FFFFFF\" height=\"12\" style=\"stroke:#181818;stroke-width:1.5;\" width=\"12\" x=\"162\" y=\"193.36\"/><!--MD5=[a717450b82c80b9240a525fa862496af]\n",
       "link E6 to E3--><g id=\"link_E6_E3\"><a href=\"psysml:515868c5-6015-4da5-b3ff-32117e872914\" target=\"_top\" title=\"psysml:515868c5-6015-4da5-b3ff-32117e872914\" xlink:actuate=\"onRequest\" xlink:href=\"psysml:515868c5-6015-4da5-b3ff-32117e872914\" xlink:show=\"new\" xlink:title=\"psysml:515868c5-6015-4da5-b3ff-32117e872914\" xlink:type=\"simple\"><path d=\"M309,147.372 C309,147.4316 309,147.4946 309,147.5614 C309,147.6948 309,147.8432 309,148.0079 C309,148.3375 309,148.733 309,149.2077 C309,150.1569 309,151.4225 309,153.11 C309,159.86 309,173.36 309,200.36 C309,209.265 309.4169,216.6138 309.8598,223.1538 C309.8875,223.5625 309.9153,223.9681 309.9431,224.3707 C309.9501,224.4714 309.957,224.5718 309.964,224.6721 \" fill=\"none\" id=\"E6-to-E3\" style=\"stroke:#181818;stroke-width:1.0;\"/><polygon fill=\"#FFFFFF\" points=\"309.964,224.6721,301.6675,206.2014,315.634,205.2337,309.964,224.6721\" style=\"stroke:#181818;stroke-width:1.0;\"/><ellipse cx=\"303.2688\" cy=\"200.3768\" fill=\"#181818\" rx=\"2\" ry=\"2\" style=\"stroke:#181818;stroke-width:1.0;\"/><ellipse cx=\"313.2448\" cy=\"199.6856\" fill=\"#181818\" rx=\"2\" ry=\"2\" style=\"stroke:#181818;stroke-width:1.0;\"/></a></g><!--MD5=[95fa686b5a16158bcdbcaeead89f639b]\n",
       "link E8 to E3--><g id=\"link_E8_E3\"><a href=\"psysml:e2fe589c-f14e-47a5-aaf0-9a8ebd450a7c\" target=\"_top\" title=\"psysml:e2fe589c-f14e-47a5-aaf0-9a8ebd450a7c\" xlink:actuate=\"onRequest\" xlink:href=\"psysml:e2fe589c-f14e-47a5-aaf0-9a8ebd450a7c\" xlink:show=\"new\" xlink:title=\"psysml:e2fe589c-f14e-47a5-aaf0-9a8ebd450a7c\" xlink:type=\"simple\"><path d=\"M183.4212,272.3838 C183.5018,272.4284 183.5825,272.4729 183.6631,272.5175 C183.9857,272.6957 184.3083,272.8737 184.6308,273.0516 C185.2757,273.4074 185.9202,273.7626 186.564,274.117 C187.8516,274.8256 189.1362,275.5309 190.4153,276.2313 C192.9733,277.6319 195.5088,279.0125 198,280.36 C199.8625,281.3675 201.7522,282.3847 203.6607,283.4076 C204.1378,283.6633 204.6161,283.9193 205.0954,284.1757 C205.3351,284.3039 205.575,284.4322 205.8152,284.5605 C205.8752,284.5926 205.9353,284.6246 205.9954,284.6567 \" fill=\"none\" id=\"E8-to-E3\" style=\"stroke:#181818;stroke-width:1.0;\"/><polygon fill=\"#FFFFFF\" points=\"205.9954,284.6567,185.9383,281.8793,192.5344,269.5305,205.9954,284.6567\" style=\"stroke:#181818;stroke-width:1.0;\"/><ellipse cx=\"181.8529\" cy=\"277.4296\" fill=\"#181818\" rx=\"2\" ry=\"2\" style=\"stroke:#181818;stroke-width:1.0;\"/><ellipse cx=\"186.5644\" cy=\"268.6091\" fill=\"#181818\" rx=\"2\" ry=\"2\" style=\"stroke:#181818;stroke-width:1.0;\"/></a></g><!--MD5=[1c0b9414cc86e0744215edee6abd8926]\n",
       "link E7 to E9--><g id=\"link_E7_E9\"><a href=\"psysml:f1f85c24-6beb-4ed4-abfc-161aeb53ad8b\" target=\"_top\" title=\"psysml:f1f85c24-6beb-4ed4-abfc-161aeb53ad8b\" xlink:actuate=\"onRequest\" xlink:href=\"psysml:f1f85c24-6beb-4ed4-abfc-161aeb53ad8b\" xlink:show=\"new\" xlink:title=\"psysml:f1f85c24-6beb-4ed4-abfc-161aeb53ad8b\" xlink:type=\"simple\"><path d=\"M241.79,148.54 C219.08,149.65 164.87,156.38 127,177.36 C116.78,183.02 107.43,194.08 114.97,197.4 \" fill=\"none\" id=\"E7-E9\" style=\"stroke:#181818;stroke-width:3.0;\"/></a></g><!--MD5=[1c0b9414cc86e0744215edee6abd8926]\n",
       "link E7 to E9--><g id=\"link_E7_E9\"><a href=\"psysml:92c8a956-0030-45f2-8c30-896629fb0abd\" target=\"_top\" title=\"psysml:92c8a956-0030-45f2-8c30-896629fb0abd\" xlink:actuate=\"onRequest\" xlink:href=\"psysml:92c8a956-0030-45f2-8c30-896629fb0abd\" xlink:show=\"new\" xlink:title=\"psysml:92c8a956-0030-45f2-8c30-896629fb0abd\" xlink:type=\"simple\"><path d=\"M241.96,150.94 C225.3,154.47 189.38,162.19 162,177.36 C151.31,183.28 141.57,195.11 127.05,197.81 \" fill=\"none\" id=\"E7-E9-1\" style=\"stroke:#181818;stroke-width:3.0;\"/></a></g><!--MD5=[2e1355ddc0204a67832ab52ddcc4d0df]\n",
       "@startuml\r\n",
       "skin sysmlbw\r\n",
       "skinparam monochrome true\r\n",
       "skinparam wrapWidth 300\r\n",
       "hide circle\r\n",
       "top to bottom direction\r\n",
       "skinparam ranksep 10\r\n",
       "skinparam rectangle {\r\n",
       " backgroundColor<<block>> LightGreen\r\n",
       "}\r\n",
       "\r\n",
       "package \"AliasTest\" as E1  [[psysml:a1c2986a-a425-4687-93ae-51674f2ada97 ]]  {\r\n",
       "comp usage \"b :>ISQSpaceTime::width \" as E2  <<(T,blue) attribute>> [[psysml:f27707b2-90f2-4671-96dd-49a3cebd999e ]] {\r\n",
       "}\r\n",
       "rec def \"P1\" as E3  <<(T,blue) part  def>> [[psysml:d64d4abf-692a-4b0a-b1a7-ca6bfa2152dc ]] {\r\n",
       "portin \"porig1  \" as E4  <<(T,blue) port>> [[psysml:61764694-1d1c-48ba-adaa-4bba53d3d30f ]] \r\n",
       "portin \"porig1  \" as E5  <<(T,blue) port>> [[psysml:61764694-1d1c-48ba-adaa-4bba53d3d30f ]] \r\n",
       "}\r\n",
       "rec usage \"p1: P1\" as E6 [[psysml:e8b71076-5181-45d8-952d-6c6c3b8ab27b ]] {\r\n",
       "portout \"po1  \" as E7  <<(T,blue) port>> [[psysml:d614f44e-5180-4509-9cc1-1632afa7b11f ]] \r\n",
       "}\r\n",
       "rec usage \"p2: P1\" as E8 [[psysml:8277226e-c173-411e-8d8e-d31bb811c94b ]] {\r\n",
       "portin \"pdest  \" as E9  <<(T,blue) port>> [[psysml:88f12717-b335-4bfa-a952-2b65a00cb7af ]] \r\n",
       "portin \"pdest  \" as E10  <<(T,blue) port>> [[psysml:88f12717-b335-4bfa-a952-2b65a00cb7af ]] \r\n",
       "}\r\n",
       "}\r\n",
       "E6 - -:|> E3 [[psysml:515868c5-6015-4da5-b3ff-32117e872914 ]] \r\n",
       "E8 - -:|> E3 [[psysml:e2fe589c-f14e-47a5-aaf0-9a8ebd450a7c ]] \r\n",
       "E7 -[thickness=3]- E9 [[psysml:f1f85c24-6beb-4ed4-abfc-161aeb53ad8b ]] \r\n",
       "E7 -[thickness=3]- E9 [[psysml:92c8a956-0030-45f2-8c30-896629fb0abd ]] \r\n",
       "@enduml\r\n",
       "\n",
       "PlantUML version 1.2022.7(Mon Aug 22 17:01:30 UTC 2022)\n",
       "(EPL source distribution)\n",
       "Java Runtime: OpenJDK Runtime Environment\n",
       "JVM: OpenJDK 64-Bit Server VM\n",
       "Default Encoding: UTF-8\n",
       "Language: en\n",
       "Country: null\n",
       "--></g></svg>"
      ]
     },
     "execution_count": 47,
     "metadata": {},
     "output_type": "execute_result"
    }
   ],
   "source": [
    "%viz --style=\"TB\" --view=\"Interconnection\" \"AliasTest\""
   ]
  },
  {
   "cell_type": "code",
   "execution_count": 48,
   "id": "8dbcd304",
   "metadata": {
    "execution": {
     "iopub.execute_input": "2024-12-16T03:25:14.672803Z",
     "iopub.status.busy": "2024-12-16T03:25:14.672526Z",
     "iopub.status.idle": "2024-12-16T03:25:14.678389Z",
     "shell.execute_reply": "2024-12-16T03:25:14.678185Z"
    }
   },
   "outputs": [
    {
     "data": {
      "image/svg+xml": [
       "<?xml version=\"1.0\" encoding=\"UTF-8\" standalone=\"no\"?><svg xmlns=\"http://www.w3.org/2000/svg\" xmlns:xlink=\"http://www.w3.org/1999/xlink\" contentStyleType=\"text/css\" height=\"10px\" preserveAspectRatio=\"none\" style=\"width:10px;height:10px;background:#FFFFFF;\" version=\"1.1\" viewBox=\"0 0 10 10\" width=\"10px\" zoomAndPan=\"magnify\"><defs/><g><!--MD5=[c8dde5d066d102a500cd081cce1d9948]\n",
       "@startuml\r\n",
       "skin sysmlbw\r\n",
       "skinparam monochrome true\r\n",
       "skinparam wrapWidth 300\r\n",
       "hide circle\r\n",
       "top to bottom direction\r\n",
       "skinparam ranksep 8\r\n",
       "\r\n",
       "@enduml\r\n",
       "\n",
       "PlantUML version 1.2022.7(Mon Aug 22 17:01:30 UTC 2022)\n",
       "(EPL source distribution)\n",
       "Java Runtime: OpenJDK Runtime Environment\n",
       "JVM: OpenJDK 64-Bit Server VM\n",
       "Default Encoding: UTF-8\n",
       "Language: en\n",
       "Country: null\n",
       "--></g></svg>"
      ]
     },
     "execution_count": 48,
     "metadata": {},
     "output_type": "execute_result"
    }
   ],
   "source": [
    "%viz --style=\"TB\" --view=\"Action\" \"AliasTest\""
   ]
  },
  {
   "cell_type": "code",
   "execution_count": 49,
   "id": "22b937e7",
   "metadata": {
    "execution": {
     "iopub.execute_input": "2024-12-16T03:25:14.731321Z",
     "iopub.status.busy": "2024-12-16T03:25:14.731093Z",
     "iopub.status.idle": "2024-12-16T03:25:14.736807Z",
     "shell.execute_reply": "2024-12-16T03:25:14.736629Z"
    }
   },
   "outputs": [
    {
     "data": {
      "image/svg+xml": [
       "<?xml version=\"1.0\" encoding=\"UTF-8\" standalone=\"no\"?><svg xmlns=\"http://www.w3.org/2000/svg\" xmlns:xlink=\"http://www.w3.org/1999/xlink\" contentStyleType=\"text/css\" height=\"10px\" preserveAspectRatio=\"none\" style=\"width:10px;height:10px;background:#FFFFFF;\" version=\"1.1\" viewBox=\"0 0 10 10\" width=\"10px\" zoomAndPan=\"magnify\"><defs/><g><!--MD5=[228a58293b408a2cee091b1559da5a28]\n",
       "@startuml\r\n",
       "skin sysmlbw\r\n",
       "skinparam monochrome true\r\n",
       "skinparam wrapWidth 300\r\n",
       "hide circle\r\n",
       "top to bottom direction\r\n",
       "skinparam roundcorner 20\r\n",
       "skinparam BoxPadding 20\r\n",
       "skinparam SequenceBoxBackgroundColor #white\r\n",
       "skinparam style strictuml\r\n",
       "skinparam maxMessageSize 100\r\n",
       "\r\n",
       "@enduml\r\n",
       "\n",
       "PlantUML version 1.2022.7(Mon Aug 22 17:01:30 UTC 2022)\n",
       "(EPL source distribution)\n",
       "Java Runtime: OpenJDK Runtime Environment\n",
       "JVM: OpenJDK 64-Bit Server VM\n",
       "Default Encoding: UTF-8\n",
       "Language: en\n",
       "Country: null\n",
       "--></g></svg>"
      ]
     },
     "execution_count": 49,
     "metadata": {},
     "output_type": "execute_result"
    }
   ],
   "source": [
    "%viz --style=\"TB\" --view=\"Sequence\" \"AliasTest\""
   ]
  },
  {
   "cell_type": "code",
   "execution_count": 50,
   "id": "cf7ead7a",
   "metadata": {
    "execution": {
     "iopub.execute_input": "2024-12-16T03:25:14.789148Z",
     "iopub.status.busy": "2024-12-16T03:25:14.788938Z",
     "iopub.status.idle": "2024-12-16T03:25:14.810253Z",
     "shell.execute_reply": "2024-12-16T03:25:14.809406Z"
    }
   },
   "outputs": [
    {
     "data": {
      "image/svg+xml": [
       "<?xml version=\"1.0\" encoding=\"UTF-8\" standalone=\"no\"?><svg xmlns=\"http://www.w3.org/2000/svg\" xmlns:xlink=\"http://www.w3.org/1999/xlink\" contentStyleType=\"text/css\" height=\"382px\" preserveAspectRatio=\"none\" style=\"width:440px;height:382px;background:#FFFFFF;\" version=\"1.1\" viewBox=\"0 0 440 382\" width=\"440px\" zoomAndPan=\"magnify\"><defs/><g><!--MD5=[fbc87193dbaf4d95561dea2c320d4a47]\n",
       "cluster E1--><g id=\"cluster_E1\"><a href=\"psysml:a1c2986a-a425-4687-93ae-51674f2ada97\" target=\"_top\" title=\"psysml:a1c2986a-a425-4687-93ae-51674f2ada97\" xlink:actuate=\"onRequest\" xlink:href=\"psysml:a1c2986a-a425-4687-93ae-51674f2ada97\" xlink:show=\"new\" xlink:title=\"psysml:a1c2986a-a425-4687-93ae-51674f2ada97\" xlink:type=\"simple\"><polygon fill=\"none\" points=\"16,6,87.9375,6,94.9375,28.2969,423,28.2969,423,375,16,375,16,6\" style=\"stroke:#000000;stroke-width:1.5;\"/><line style=\"stroke:#000000;stroke-width:1.5;\" x1=\"16\" x2=\"94.9375\" y1=\"28.2969\" y2=\"28.2969\"/><text fill=\"#000000\" font-family=\"sans-serif\" font-size=\"14\" font-weight=\"bold\" lengthAdjust=\"spacing\" textLength=\"65.9375\" x=\"20\" y=\"20.9951\">AliasTest</text></a></g><!--MD5=[b4997ac47864f28c2f74865a473b2911]\n",
       "class E2--><a href=\"psysml:f27707b2-90f2-4671-96dd-49a3cebd999e\" target=\"_top\" title=\"psysml:f27707b2-90f2-4671-96dd-49a3cebd999e\" xlink:actuate=\"onRequest\" xlink:href=\"psysml:f27707b2-90f2-4671-96dd-49a3cebd999e\" xlink:show=\"new\" xlink:title=\"psysml:f27707b2-90f2-4671-96dd-49a3cebd999e\" xlink:type=\"simple\"><g id=\"elem_E2\"><rect fill=\"#FFFFFF\" height=\"48.2656\" id=\"E2\" rx=\"10\" ry=\"10\" style=\"stroke:#181818;stroke-width:0.5;\" width=\"187\" x=\"220.5\" y=\"54.5\"/><text fill=\"#000000\" font-family=\"sans-serif\" font-size=\"12\" font-style=\"italic\" lengthAdjust=\"spacing\" textLength=\"69\" x=\"279.5\" y=\"70.6387\">«attribute»</text><text fill=\"#000000\" font-family=\"sans-serif\" font-size=\"14\" lengthAdjust=\"spacing\" textLength=\"177\" x=\"223.5\" y=\"86.4639\">b :&gt;ISQSpaceTime::width</text><line style=\"stroke:#181818;stroke-width:0.5;\" x1=\"221.5\" x2=\"406.5\" y1=\"94.7656\" y2=\"94.7656\"/></g></a><!--MD5=[09b614a08d8cba4a07c9adeb5e0fee81]\n",
       "class E3--><a href=\"psysml:d64d4abf-692a-4b0a-b1a7-ca6bfa2152dc\" target=\"_top\" title=\"psysml:d64d4abf-692a-4b0a-b1a7-ca6bfa2152dc\" xlink:actuate=\"onRequest\" xlink:href=\"psysml:d64d4abf-692a-4b0a-b1a7-ca6bfa2152dc\" xlink:show=\"new\" xlink:title=\"psysml:d64d4abf-692a-4b0a-b1a7-ca6bfa2152dc\" xlink:type=\"simple\"><g id=\"elem_E3\"><rect fill=\"#FFFFFF\" height=\"75.0813\" id=\"E3\" style=\"stroke:#181818;stroke-width:0.5;\" width=\"70\" x=\"160\" y=\"176\"/><text fill=\"#000000\" font-family=\"sans-serif\" font-size=\"12\" font-style=\"italic\" lengthAdjust=\"spacing\" textLength=\"68\" x=\"161\" y=\"192.1387\">«part  def»</text><text fill=\"#000000\" font-family=\"sans-serif\" font-size=\"14\" lengthAdjust=\"spacing\" textLength=\"18\" x=\"186\" y=\"207.9639\">P1</text><line style=\"stroke:#181818;stroke-width:0.5;\" x1=\"161\" x2=\"229\" y1=\"216.2656\" y2=\"216.2656\"/><text fill=\"#000000\" font-family=\"sans-serif\" font-size=\"14\" lengthAdjust=\"spacing\" textLength=\"44\" x=\"166\" y=\"243.7795\">porig1</text><text fill=\"#000000\" font-family=\"sans-serif\" font-size=\"14\" font-style=\"italic\" lengthAdjust=\"spacing\" textLength=\"36\" x=\"177\" y=\"228.6123\">ports</text></g></a><!--MD5=[ebbe1d658d1005bcc118a6aa81145e00]\n",
       "class E4--><a href=\"psysml:61764694-1d1c-48ba-adaa-4bba53d3d30f\" target=\"_top\" title=\"psysml:61764694-1d1c-48ba-adaa-4bba53d3d30f\" xlink:actuate=\"onRequest\" xlink:href=\"psysml:61764694-1d1c-48ba-adaa-4bba53d3d30f\" xlink:show=\"new\" xlink:title=\"psysml:61764694-1d1c-48ba-adaa-4bba53d3d30f\" xlink:type=\"simple\"><g id=\"elem_E4\"><rect fill=\"#FFFFFF\" height=\"48.2656\" id=\"E4\" rx=\"10\" ry=\"10\" style=\"stroke:#181818;stroke-width:0.5;\" width=\"58\" x=\"166\" y=\"311\"/><text fill=\"#000000\" font-family=\"sans-serif\" font-size=\"12\" font-style=\"italic\" lengthAdjust=\"spacing\" textLength=\"40\" x=\"175\" y=\"327.1387\">«port»</text><text fill=\"#000000\" font-family=\"sans-serif\" font-size=\"14\" lengthAdjust=\"spacing\" textLength=\"44\" x=\"169\" y=\"342.9639\">porig1</text><line style=\"stroke:#181818;stroke-width:0.5;\" x1=\"167\" x2=\"223\" y1=\"351.2656\" y2=\"351.2656\"/></g></a><!--MD5=[270fce915f116d4de14055a7c1d9a0f3]\n",
       "class E5--><a href=\"psysml:e8b71076-5181-45d8-952d-6c6c3b8ab27b\" target=\"_top\" title=\"psysml:e8b71076-5181-45d8-952d-6c6c3b8ab27b\" xlink:actuate=\"onRequest\" xlink:href=\"psysml:e8b71076-5181-45d8-952d-6c6c3b8ab27b\" xlink:show=\"new\" xlink:title=\"psysml:e8b71076-5181-45d8-952d-6c6c3b8ab27b\" xlink:type=\"simple\"><g id=\"elem_E5\"><rect fill=\"#FFFFFF\" height=\"48.2656\" id=\"E5\" rx=\"10\" ry=\"10\" style=\"stroke:#181818;stroke-width:0.5;\" width=\"59\" x=\"126.5\" y=\"54.5\"/><text fill=\"#000000\" font-family=\"sans-serif\" font-size=\"12\" font-style=\"italic\" lengthAdjust=\"spacing\" textLength=\"40\" x=\"136\" y=\"70.6387\">«part»</text><text fill=\"#000000\" font-family=\"sans-serif\" font-size=\"14\" lengthAdjust=\"spacing\" textLength=\"45\" x=\"129.5\" y=\"86.4639\">p1: P1</text><line style=\"stroke:#181818;stroke-width:0.5;\" x1=\"127.5\" x2=\"184.5\" y1=\"94.7656\" y2=\"94.7656\"/></g></a><!--MD5=[60a26617385b1d2d0262a64233df1f8d]\n",
       "class E6--><a href=\"psysml:d614f44e-5180-4509-9cc1-1632afa7b11f\" target=\"_top\" title=\"psysml:d614f44e-5180-4509-9cc1-1632afa7b11f\" xlink:actuate=\"onRequest\" xlink:href=\"psysml:d614f44e-5180-4509-9cc1-1632afa7b11f\" xlink:show=\"new\" xlink:title=\"psysml:d614f44e-5180-4509-9cc1-1632afa7b11f\" xlink:type=\"simple\"><g id=\"elem_E6\"><rect fill=\"#FFFFFF\" height=\"48.2656\" id=\"E6\" rx=\"10\" ry=\"10\" style=\"stroke:#181818;stroke-width:0.5;\" width=\"42\" x=\"83\" y=\"189.5\"/><text fill=\"#000000\" font-family=\"sans-serif\" font-size=\"12\" font-style=\"italic\" lengthAdjust=\"spacing\" textLength=\"40\" x=\"84\" y=\"205.6387\">«port»</text><text fill=\"#000000\" font-family=\"sans-serif\" font-size=\"14\" lengthAdjust=\"spacing\" textLength=\"27\" x=\"86.5\" y=\"221.4639\">po1</text><line style=\"stroke:#181818;stroke-width:0.5;\" x1=\"84\" x2=\"124\" y1=\"229.7656\" y2=\"229.7656\"/></g></a><!--MD5=[2156ba9850f5573cc1fc38a6a4b2f02b]\n",
       "class E7--><a href=\"psysml:8277226e-c173-411e-8d8e-d31bb811c94b\" target=\"_top\" title=\"psysml:8277226e-c173-411e-8d8e-d31bb811c94b\" xlink:actuate=\"onRequest\" xlink:href=\"psysml:8277226e-c173-411e-8d8e-d31bb811c94b\" xlink:show=\"new\" xlink:title=\"psysml:8277226e-c173-411e-8d8e-d31bb811c94b\" xlink:type=\"simple\"><g id=\"elem_E7\"><rect fill=\"#FFFFFF\" height=\"75.0813\" id=\"E7\" rx=\"10\" ry=\"10\" style=\"stroke:#181818;stroke-width:0.5;\" width=\"59\" x=\"32.5\" y=\"41\"/><text fill=\"#000000\" font-family=\"sans-serif\" font-size=\"12\" font-style=\"italic\" lengthAdjust=\"spacing\" textLength=\"40\" x=\"42\" y=\"57.1387\">«part»</text><text fill=\"#000000\" font-family=\"sans-serif\" font-size=\"14\" lengthAdjust=\"spacing\" textLength=\"45\" x=\"35.5\" y=\"72.9639\">p2: P1</text><line style=\"stroke:#181818;stroke-width:0.5;\" x1=\"33.5\" x2=\"90.5\" y1=\"81.2656\" y2=\"81.2656\"/><text fill=\"#000000\" font-family=\"sans-serif\" font-size=\"14\" lengthAdjust=\"spacing\" textLength=\"40\" x=\"38.5\" y=\"108.7795\">pdest</text><text fill=\"#000000\" font-family=\"sans-serif\" font-size=\"14\" font-style=\"italic\" lengthAdjust=\"spacing\" textLength=\"36\" x=\"44\" y=\"93.6123\">ports</text></g></a><!--MD5=[b9389687b975829384b498ac4b7476b2]\n",
       "class E8--><a href=\"psysml:88f12717-b335-4bfa-a952-2b65a00cb7af\" target=\"_top\" title=\"psysml:88f12717-b335-4bfa-a952-2b65a00cb7af\" xlink:actuate=\"onRequest\" xlink:href=\"psysml:88f12717-b335-4bfa-a952-2b65a00cb7af\" xlink:show=\"new\" xlink:title=\"psysml:88f12717-b335-4bfa-a952-2b65a00cb7af\" xlink:type=\"simple\"><g id=\"elem_E8\"><rect fill=\"#FFFFFF\" height=\"48.2656\" id=\"E8\" rx=\"10\" ry=\"10\" style=\"stroke:#181818;stroke-width:0.5;\" width=\"54\" x=\"77\" y=\"311\"/><text fill=\"#000000\" font-family=\"sans-serif\" font-size=\"12\" font-style=\"italic\" lengthAdjust=\"spacing\" textLength=\"40\" x=\"84\" y=\"327.1387\">«port»</text><text fill=\"#000000\" font-family=\"sans-serif\" font-size=\"14\" lengthAdjust=\"spacing\" textLength=\"40\" x=\"80\" y=\"342.9639\">pdest</text><line style=\"stroke:#181818;stroke-width:0.5;\" x1=\"78\" x2=\"130\" y1=\"351.2656\" y2=\"351.2656\"/></g></a><!--MD5=[4672eba38e49728da53d11aeb285b987]\n",
       "reverse link E3 to E4--><g id=\"link_E3_E4\"><a href=\"psysml:9ff7bfb9-db47-4597-ac60-7f24b5e1b5c0\" target=\"_top\" title=\"psysml:9ff7bfb9-db47-4597-ac60-7f24b5e1b5c0\" xlink:actuate=\"onRequest\" xlink:href=\"psysml:9ff7bfb9-db47-4597-ac60-7f24b5e1b5c0\" xlink:show=\"new\" xlink:title=\"psysml:9ff7bfb9-db47-4597-ac60-7f24b5e1b5c0\" xlink:type=\"simple\"><path d=\"M195,264.25 C195,280.43 195,297.61 195,310.88 \" fill=\"none\" id=\"E3-backto-E4\" style=\"stroke:#181818;stroke-width:1.0;\"/><polygon fill=\"none\" points=\"195,251,191,257,195,263,199,257,195,251\" style=\"stroke:#181818;stroke-width:1.0;\"/></a></g><!--MD5=[e9be52314489bd878ff4c7144b63c9e1]\n",
       "link E5 to E3--><g id=\"link_E5_E3\"><a href=\"psysml:515868c5-6015-4da5-b3ff-32117e872914\" target=\"_top\" title=\"psysml:515868c5-6015-4da5-b3ff-32117e872914\" xlink:actuate=\"onRequest\" xlink:href=\"psysml:515868c5-6015-4da5-b3ff-32117e872914\" xlink:show=\"new\" xlink:title=\"psysml:515868c5-6015-4da5-b3ff-32117e872914\" xlink:type=\"simple\"><path d=\"M162.79,102.67 C167.16,117.56 173.03,137.58 178.57,156.45 \" fill=\"none\" id=\"E5-to-E3\" style=\"stroke:#181818;stroke-width:1.0;\"/><polygon fill=\"#FFFFFF\" points=\"184.24,175.81,172.1744,159.5489,185.6082,155.6078,184.24,175.81\" style=\"stroke:#181818;stroke-width:1.0;\"/><ellipse cx=\"172.4889\" cy=\"153.5164\" fill=\"#181818\" rx=\"2\" ry=\"2\" style=\"stroke:#181818;stroke-width:1.0;\"/><ellipse cx=\"182.0845\" cy=\"150.7014\" fill=\"#181818\" rx=\"2\" ry=\"2\" style=\"stroke:#181818;stroke-width:1.0;\"/></a></g><!--MD5=[85d356282659285ab4b2cfe2f634dd2b]\n",
       "reverse link E5 to E6--><g id=\"link_E5_E6\"><a href=\"psysml:1a5e094c-b062-4a12-bd0e-4269385c32ea\" target=\"_top\" title=\"psysml:1a5e094c-b062-4a12-bd0e-4269385c32ea\" xlink:actuate=\"onRequest\" xlink:href=\"psysml:1a5e094c-b062-4a12-bd0e-4269385c32ea\" xlink:show=\"new\" xlink:title=\"psysml:1a5e094c-b062-4a12-bd0e-4269385c32ea\" xlink:type=\"simple\"><path d=\"M142.15,114.93 C132.96,138.44 121.15,168.62 113.13,189.15 \" fill=\"none\" id=\"E5-backto-E6\" style=\"stroke:#181818;stroke-width:1.0;\"/><polygon fill=\"none\" points=\"146.94,102.67,141.0321,106.8049,142.5767,113.8486,148.4845,109.7138,146.94,102.67\" style=\"stroke:#181818;stroke-width:1.0;\"/></a></g><!--MD5=[f667431f98296947986a1a7595a31603]\n",
       "link E6 to E4--><g id=\"link_E6_E4\"><a href=\"psysml:70307247-8a04-4365-8b78-a7ff4bcf8dda\" target=\"_top\" title=\"psysml:70307247-8a04-4365-8b78-a7ff4bcf8dda\" xlink:actuate=\"onRequest\" xlink:href=\"psysml:70307247-8a04-4365-8b78-a7ff4bcf8dda\" xlink:show=\"new\" xlink:title=\"psysml:70307247-8a04-4365-8b78-a7ff4bcf8dda\" xlink:type=\"simple\"><path d=\"M121.55,237.54 C133.87,253.72 150.65,275.76 165.07,294.69 \" fill=\"none\" id=\"E6-to-E4\" style=\"stroke:#181818;stroke-width:1.0;\"/><polygon fill=\"#FFFFFF\" points=\"177.2,310.62,160.1219,299.7417,171.2616,291.2619,177.2,310.62\" style=\"stroke:#181818;stroke-width:1.0;\"/><line style=\"stroke:#181818;stroke-width:2.0;\" x1=\"157.8202\" x2=\"168.9599\" y1=\"296.7181\" y2=\"288.2383\"/></a></g><!--MD5=[14ccda38c055a5c0da953d572bc50960]\n",
       "link E7 to E3--><g id=\"link_E7_E3\"><a href=\"psysml:e2fe589c-f14e-47a5-aaf0-9a8ebd450a7c\" target=\"_top\" title=\"psysml:e2fe589c-f14e-47a5-aaf0-9a8ebd450a7c\" xlink:actuate=\"onRequest\" xlink:href=\"psysml:e2fe589c-f14e-47a5-aaf0-9a8ebd450a7c\" xlink:show=\"new\" xlink:title=\"psysml:e2fe589c-f14e-47a5-aaf0-9a8ebd450a7c\" xlink:type=\"simple\"><path d=\"M91.52,109.02 C107.38,124.88 127.36,144.86 145.52,163.02 \" fill=\"none\" id=\"E7-to-E3\" style=\"stroke:#181818;stroke-width:1.0;\"/><polygon fill=\"#FFFFFF\" points=\"159.9,177.4,141.5152,168.9147,151.4147,159.0152,159.9,177.4\" style=\"stroke:#181818;stroke-width:1.0;\"/><ellipse cx=\"138.8989\" cy=\"163.47\" fill=\"#181818\" rx=\"2\" ry=\"2\" style=\"stroke:#181818;stroke-width:1.0;\"/><ellipse cx=\"145.97\" cy=\"156.3989\" fill=\"#181818\" rx=\"2\" ry=\"2\" style=\"stroke:#181818;stroke-width:1.0;\"/></a></g><!--MD5=[dc164f5e8a733ab456ef1add180e9e34]\n",
       "reverse link E7 to E8--><g id=\"link_E7_E8\"><a href=\"psysml:ca64ac56-097c-4feb-943f-895d8fc6b637\" target=\"_top\" title=\"psysml:ca64ac56-097c-4feb-943f-895d8fc6b637\" xlink:actuate=\"onRequest\" xlink:href=\"psysml:ca64ac56-097c-4feb-943f-895d8fc6b637\" xlink:show=\"new\" xlink:title=\"psysml:ca64ac56-097c-4feb-943f-895d8fc6b637\" xlink:type=\"simple\"><path d=\"M57.91,129.24 C56.33,163.83 56.74,210.77 66,251 C70.91,272.31 81.57,294.77 90.35,310.94 \" fill=\"none\" id=\"E7-backto-E8\" style=\"stroke:#181818;stroke-width:1.0;\"/><polygon fill=\"none\" points=\"58.62,116.16,54.3028,121.936,57.9741,128.1426,62.2912,122.3666,58.62,116.16\" style=\"stroke:#181818;stroke-width:1.0;\"/></a></g><!--MD5=[0a839d0f80c2d72d4b9b307f046d0de8]\n",
       "link E6 to E8--><g id=\"link_E6_E8\"><a href=\"psysml:f1f85c24-6beb-4ed4-abfc-161aeb53ad8b\" target=\"_top\" title=\"psysml:f1f85c24-6beb-4ed4-abfc-161aeb53ad8b\" xlink:actuate=\"onRequest\" xlink:href=\"psysml:f1f85c24-6beb-4ed4-abfc-161aeb53ad8b\" xlink:show=\"new\" xlink:title=\"psysml:f1f85c24-6beb-4ed4-abfc-161aeb53ad8b\" xlink:type=\"simple\"><path d=\"M93.69,237.54 C90.45,258.57 90.44,289.49 93.64,310.62 \" fill=\"none\" id=\"E6-E8\" style=\"stroke:#181818;stroke-width:3.0;\"/></a></g><!--MD5=[0a839d0f80c2d72d4b9b307f046d0de8]\n",
       "link E6 to E8--><g id=\"link_E6_E8\"><a href=\"psysml:92c8a956-0030-45f2-8c30-896629fb0abd\" target=\"_top\" title=\"psysml:92c8a956-0030-45f2-8c30-896629fb0abd\" xlink:actuate=\"onRequest\" xlink:href=\"psysml:92c8a956-0030-45f2-8c30-896629fb0abd\" xlink:show=\"new\" xlink:title=\"psysml:92c8a956-0030-45f2-8c30-896629fb0abd\" xlink:type=\"simple\"><path d=\"M114.92,237.54 C118.34,258.57 118.36,289.49 114.97,310.62 \" fill=\"none\" id=\"E6-E8-1\" style=\"stroke:#181818;stroke-width:3.0;\"/></a></g><!--MD5=[32e772a682e771a732cd2b94c5fd3e0b]\n",
       "@startuml\r\n",
       "skin sysmlbw\r\n",
       "skinparam monochrome true\r\n",
       "skinparam wrapWidth 300\r\n",
       "hide circle\r\n",
       "top to bottom direction\r\n",
       "\r\n",
       "package \"AliasTest\" as E1  [[psysml:a1c2986a-a425-4687-93ae-51674f2ada97 ]]  {\r\n",
       "comp usage \"b :>ISQSpaceTime::width \" as E2  <<(T,blue) attribute>> [[psysml:f27707b2-90f2-4671-96dd-49a3cebd999e ]] {\r\n",
       "}\r\n",
       "comp def \"P1\" as E3  <<(T,blue) part  def>> [[psysml:d64d4abf-692a-4b0a-b1a7-ca6bfa2152dc ]] {\r\n",
       "##//ports//##\r\n",
       "porig1\r\n",
       "}\r\n",
       "comp usage \"porig1  \" as E4  <<(T,blue) port>> [[psysml:61764694-1d1c-48ba-adaa-4bba53d3d30f ]] {\r\n",
       "}\r\n",
       "comp usage \"p1: P1  \" as E5  <<(T,blue) part>> [[psysml:e8b71076-5181-45d8-952d-6c6c3b8ab27b ]] {\r\n",
       "}\r\n",
       "comp usage \"po1  \" as E6  <<(T,blue) port>> [[psysml:d614f44e-5180-4509-9cc1-1632afa7b11f ]] {\r\n",
       "}\r\n",
       "comp usage \"p2: P1  \" as E7  <<(T,blue) part>> [[psysml:8277226e-c173-411e-8d8e-d31bb811c94b ]] {\r\n",
       "##//ports//##\r\n",
       "pdest\r\n",
       "}\r\n",
       "comp usage \"pdest  \" as E8  <<(T,blue) port>> [[psysml:88f12717-b335-4bfa-a952-2b65a00cb7af ]] {\r\n",
       "}\r\n",
       "}\r\n",
       "E3 o- - E4 [[psysml:9ff7bfb9-db47-4597-ac60-7f24b5e1b5c0 ]] \r\n",
       "E5 - -:|> E3 [[psysml:515868c5-6015-4da5-b3ff-32117e872914 ]] \r\n",
       "E5 o- - E6 [[psysml:1a5e094c-b062-4a12-bd0e-4269385c32ea ]] \r\n",
       "E6 - -||> E4 [[psysml:70307247-8a04-4365-8b78-a7ff4bcf8dda ]] \r\n",
       "E7 - -:|> E3 [[psysml:e2fe589c-f14e-47a5-aaf0-9a8ebd450a7c ]] \r\n",
       "E7 o- - E8 [[psysml:ca64ac56-097c-4feb-943f-895d8fc6b637 ]] \r\n",
       "E6 -[thickness=3]- E8 [[psysml:f1f85c24-6beb-4ed4-abfc-161aeb53ad8b ]] \r\n",
       "E6 -[thickness=3]- E8 [[psysml:92c8a956-0030-45f2-8c30-896629fb0abd ]] \r\n",
       "@enduml\r\n",
       "\n",
       "PlantUML version 1.2022.7(Mon Aug 22 17:01:30 UTC 2022)\n",
       "(EPL source distribution)\n",
       "Java Runtime: OpenJDK Runtime Environment\n",
       "JVM: OpenJDK 64-Bit Server VM\n",
       "Default Encoding: UTF-8\n",
       "Language: en\n",
       "Country: null\n",
       "--></g></svg>"
      ]
     },
     "execution_count": 50,
     "metadata": {},
     "output_type": "execute_result"
    }
   ],
   "source": [
    "%viz --style=\"TB\" --view=\"MIXED\" \"AliasTest\""
   ]
  },
  {
   "cell_type": "code",
   "execution_count": 51,
   "id": "5742aeec",
   "metadata": {
    "execution": {
     "iopub.execute_input": "2024-12-16T03:25:14.861367Z",
     "iopub.status.busy": "2024-12-16T03:25:14.861178Z",
     "iopub.status.idle": "2024-12-16T03:25:14.881007Z",
     "shell.execute_reply": "2024-12-16T03:25:14.880102Z"
    }
   },
   "outputs": [
    {
     "data": {
      "image/svg+xml": [
       "<?xml version=\"1.0\" encoding=\"UTF-8\" standalone=\"no\"?><svg xmlns=\"http://www.w3.org/2000/svg\" xmlns:xlink=\"http://www.w3.org/1999/xlink\" contentStyleType=\"text/css\" height=\"382px\" preserveAspectRatio=\"none\" style=\"width:440px;height:382px;background:#FFFFFF;\" version=\"1.1\" viewBox=\"0 0 440 382\" width=\"440px\" zoomAndPan=\"magnify\"><defs/><g><!--MD5=[fbc87193dbaf4d95561dea2c320d4a47]\n",
       "cluster E1--><g id=\"cluster_E1\"><a href=\"psysml:a1c2986a-a425-4687-93ae-51674f2ada97\" target=\"_top\" title=\"psysml:a1c2986a-a425-4687-93ae-51674f2ada97\" xlink:actuate=\"onRequest\" xlink:href=\"psysml:a1c2986a-a425-4687-93ae-51674f2ada97\" xlink:show=\"new\" xlink:title=\"psysml:a1c2986a-a425-4687-93ae-51674f2ada97\" xlink:type=\"simple\"><polygon fill=\"none\" points=\"16,6,87.9375,6,94.9375,28.2969,423,28.2969,423,375,16,375,16,6\" style=\"stroke:#000000;stroke-width:1.5;\"/><line style=\"stroke:#000000;stroke-width:1.5;\" x1=\"16\" x2=\"94.9375\" y1=\"28.2969\" y2=\"28.2969\"/><text fill=\"#000000\" font-family=\"sans-serif\" font-size=\"14\" font-weight=\"bold\" lengthAdjust=\"spacing\" textLength=\"65.9375\" x=\"20\" y=\"20.9951\">AliasTest</text></a></g><!--MD5=[b4997ac47864f28c2f74865a473b2911]\n",
       "class E2--><a href=\"psysml:f27707b2-90f2-4671-96dd-49a3cebd999e\" target=\"_top\" title=\"psysml:f27707b2-90f2-4671-96dd-49a3cebd999e\" xlink:actuate=\"onRequest\" xlink:href=\"psysml:f27707b2-90f2-4671-96dd-49a3cebd999e\" xlink:show=\"new\" xlink:title=\"psysml:f27707b2-90f2-4671-96dd-49a3cebd999e\" xlink:type=\"simple\"><g id=\"elem_E2\"><rect fill=\"#FFFFFF\" height=\"48.2656\" id=\"E2\" rx=\"10\" ry=\"10\" style=\"stroke:#181818;stroke-width:0.5;\" width=\"187\" x=\"220.5\" y=\"54.5\"/><text fill=\"#000000\" font-family=\"sans-serif\" font-size=\"12\" font-style=\"italic\" lengthAdjust=\"spacing\" textLength=\"69\" x=\"279.5\" y=\"70.6387\">«attribute»</text><text fill=\"#000000\" font-family=\"sans-serif\" font-size=\"14\" lengthAdjust=\"spacing\" textLength=\"177\" x=\"223.5\" y=\"86.4639\">b :&gt;ISQSpaceTime::width</text><line style=\"stroke:#181818;stroke-width:0.5;\" x1=\"221.5\" x2=\"406.5\" y1=\"94.7656\" y2=\"94.7656\"/></g></a><!--MD5=[09b614a08d8cba4a07c9adeb5e0fee81]\n",
       "class E3--><a href=\"psysml:d64d4abf-692a-4b0a-b1a7-ca6bfa2152dc\" target=\"_top\" title=\"psysml:d64d4abf-692a-4b0a-b1a7-ca6bfa2152dc\" xlink:actuate=\"onRequest\" xlink:href=\"psysml:d64d4abf-692a-4b0a-b1a7-ca6bfa2152dc\" xlink:show=\"new\" xlink:title=\"psysml:d64d4abf-692a-4b0a-b1a7-ca6bfa2152dc\" xlink:type=\"simple\"><g id=\"elem_E3\"><rect fill=\"#FFFFFF\" height=\"75.0813\" id=\"E3\" style=\"stroke:#181818;stroke-width:0.5;\" width=\"70\" x=\"160\" y=\"176\"/><text fill=\"#000000\" font-family=\"sans-serif\" font-size=\"12\" font-style=\"italic\" lengthAdjust=\"spacing\" textLength=\"68\" x=\"161\" y=\"192.1387\">«part  def»</text><text fill=\"#000000\" font-family=\"sans-serif\" font-size=\"14\" lengthAdjust=\"spacing\" textLength=\"18\" x=\"186\" y=\"207.9639\">P1</text><line style=\"stroke:#181818;stroke-width:0.5;\" x1=\"161\" x2=\"229\" y1=\"216.2656\" y2=\"216.2656\"/><text fill=\"#000000\" font-family=\"sans-serif\" font-size=\"14\" lengthAdjust=\"spacing\" textLength=\"44\" x=\"166\" y=\"243.7795\">porig1</text><text fill=\"#000000\" font-family=\"sans-serif\" font-size=\"14\" font-style=\"italic\" lengthAdjust=\"spacing\" textLength=\"36\" x=\"177\" y=\"228.6123\">ports</text></g></a><!--MD5=[ebbe1d658d1005bcc118a6aa81145e00]\n",
       "class E4--><a href=\"psysml:61764694-1d1c-48ba-adaa-4bba53d3d30f\" target=\"_top\" title=\"psysml:61764694-1d1c-48ba-adaa-4bba53d3d30f\" xlink:actuate=\"onRequest\" xlink:href=\"psysml:61764694-1d1c-48ba-adaa-4bba53d3d30f\" xlink:show=\"new\" xlink:title=\"psysml:61764694-1d1c-48ba-adaa-4bba53d3d30f\" xlink:type=\"simple\"><g id=\"elem_E4\"><rect fill=\"#FFFFFF\" height=\"48.2656\" id=\"E4\" rx=\"10\" ry=\"10\" style=\"stroke:#181818;stroke-width:0.5;\" width=\"58\" x=\"166\" y=\"311\"/><text fill=\"#000000\" font-family=\"sans-serif\" font-size=\"12\" font-style=\"italic\" lengthAdjust=\"spacing\" textLength=\"40\" x=\"175\" y=\"327.1387\">«port»</text><text fill=\"#000000\" font-family=\"sans-serif\" font-size=\"14\" lengthAdjust=\"spacing\" textLength=\"44\" x=\"169\" y=\"342.9639\">porig1</text><line style=\"stroke:#181818;stroke-width:0.5;\" x1=\"167\" x2=\"223\" y1=\"351.2656\" y2=\"351.2656\"/></g></a><!--MD5=[270fce915f116d4de14055a7c1d9a0f3]\n",
       "class E5--><a href=\"psysml:e8b71076-5181-45d8-952d-6c6c3b8ab27b\" target=\"_top\" title=\"psysml:e8b71076-5181-45d8-952d-6c6c3b8ab27b\" xlink:actuate=\"onRequest\" xlink:href=\"psysml:e8b71076-5181-45d8-952d-6c6c3b8ab27b\" xlink:show=\"new\" xlink:title=\"psysml:e8b71076-5181-45d8-952d-6c6c3b8ab27b\" xlink:type=\"simple\"><g id=\"elem_E5\"><rect fill=\"#FFFFFF\" height=\"48.2656\" id=\"E5\" rx=\"10\" ry=\"10\" style=\"stroke:#181818;stroke-width:0.5;\" width=\"59\" x=\"126.5\" y=\"54.5\"/><text fill=\"#000000\" font-family=\"sans-serif\" font-size=\"12\" font-style=\"italic\" lengthAdjust=\"spacing\" textLength=\"40\" x=\"136\" y=\"70.6387\">«part»</text><text fill=\"#000000\" font-family=\"sans-serif\" font-size=\"14\" lengthAdjust=\"spacing\" textLength=\"45\" x=\"129.5\" y=\"86.4639\">p1: P1</text><line style=\"stroke:#181818;stroke-width:0.5;\" x1=\"127.5\" x2=\"184.5\" y1=\"94.7656\" y2=\"94.7656\"/></g></a><!--MD5=[60a26617385b1d2d0262a64233df1f8d]\n",
       "class E6--><a href=\"psysml:d614f44e-5180-4509-9cc1-1632afa7b11f\" target=\"_top\" title=\"psysml:d614f44e-5180-4509-9cc1-1632afa7b11f\" xlink:actuate=\"onRequest\" xlink:href=\"psysml:d614f44e-5180-4509-9cc1-1632afa7b11f\" xlink:show=\"new\" xlink:title=\"psysml:d614f44e-5180-4509-9cc1-1632afa7b11f\" xlink:type=\"simple\"><g id=\"elem_E6\"><rect fill=\"#FFFFFF\" height=\"48.2656\" id=\"E6\" rx=\"10\" ry=\"10\" style=\"stroke:#181818;stroke-width:0.5;\" width=\"42\" x=\"83\" y=\"189.5\"/><text fill=\"#000000\" font-family=\"sans-serif\" font-size=\"12\" font-style=\"italic\" lengthAdjust=\"spacing\" textLength=\"40\" x=\"84\" y=\"205.6387\">«port»</text><text fill=\"#000000\" font-family=\"sans-serif\" font-size=\"14\" lengthAdjust=\"spacing\" textLength=\"27\" x=\"86.5\" y=\"221.4639\">po1</text><line style=\"stroke:#181818;stroke-width:0.5;\" x1=\"84\" x2=\"124\" y1=\"229.7656\" y2=\"229.7656\"/></g></a><!--MD5=[2156ba9850f5573cc1fc38a6a4b2f02b]\n",
       "class E7--><a href=\"psysml:8277226e-c173-411e-8d8e-d31bb811c94b\" target=\"_top\" title=\"psysml:8277226e-c173-411e-8d8e-d31bb811c94b\" xlink:actuate=\"onRequest\" xlink:href=\"psysml:8277226e-c173-411e-8d8e-d31bb811c94b\" xlink:show=\"new\" xlink:title=\"psysml:8277226e-c173-411e-8d8e-d31bb811c94b\" xlink:type=\"simple\"><g id=\"elem_E7\"><rect fill=\"#FFFFFF\" height=\"75.0813\" id=\"E7\" rx=\"10\" ry=\"10\" style=\"stroke:#181818;stroke-width:0.5;\" width=\"59\" x=\"32.5\" y=\"41\"/><text fill=\"#000000\" font-family=\"sans-serif\" font-size=\"12\" font-style=\"italic\" lengthAdjust=\"spacing\" textLength=\"40\" x=\"42\" y=\"57.1387\">«part»</text><text fill=\"#000000\" font-family=\"sans-serif\" font-size=\"14\" lengthAdjust=\"spacing\" textLength=\"45\" x=\"35.5\" y=\"72.9639\">p2: P1</text><line style=\"stroke:#181818;stroke-width:0.5;\" x1=\"33.5\" x2=\"90.5\" y1=\"81.2656\" y2=\"81.2656\"/><text fill=\"#000000\" font-family=\"sans-serif\" font-size=\"14\" lengthAdjust=\"spacing\" textLength=\"40\" x=\"38.5\" y=\"108.7795\">pdest</text><text fill=\"#000000\" font-family=\"sans-serif\" font-size=\"14\" font-style=\"italic\" lengthAdjust=\"spacing\" textLength=\"36\" x=\"44\" y=\"93.6123\">ports</text></g></a><!--MD5=[b9389687b975829384b498ac4b7476b2]\n",
       "class E8--><a href=\"psysml:88f12717-b335-4bfa-a952-2b65a00cb7af\" target=\"_top\" title=\"psysml:88f12717-b335-4bfa-a952-2b65a00cb7af\" xlink:actuate=\"onRequest\" xlink:href=\"psysml:88f12717-b335-4bfa-a952-2b65a00cb7af\" xlink:show=\"new\" xlink:title=\"psysml:88f12717-b335-4bfa-a952-2b65a00cb7af\" xlink:type=\"simple\"><g id=\"elem_E8\"><rect fill=\"#FFFFFF\" height=\"48.2656\" id=\"E8\" rx=\"10\" ry=\"10\" style=\"stroke:#181818;stroke-width:0.5;\" width=\"54\" x=\"77\" y=\"311\"/><text fill=\"#000000\" font-family=\"sans-serif\" font-size=\"12\" font-style=\"italic\" lengthAdjust=\"spacing\" textLength=\"40\" x=\"84\" y=\"327.1387\">«port»</text><text fill=\"#000000\" font-family=\"sans-serif\" font-size=\"14\" lengthAdjust=\"spacing\" textLength=\"40\" x=\"80\" y=\"342.9639\">pdest</text><line style=\"stroke:#181818;stroke-width:0.5;\" x1=\"78\" x2=\"130\" y1=\"351.2656\" y2=\"351.2656\"/></g></a><!--MD5=[4672eba38e49728da53d11aeb285b987]\n",
       "reverse link E3 to E4--><g id=\"link_E3_E4\"><a href=\"psysml:9ff7bfb9-db47-4597-ac60-7f24b5e1b5c0\" target=\"_top\" title=\"psysml:9ff7bfb9-db47-4597-ac60-7f24b5e1b5c0\" xlink:actuate=\"onRequest\" xlink:href=\"psysml:9ff7bfb9-db47-4597-ac60-7f24b5e1b5c0\" xlink:show=\"new\" xlink:title=\"psysml:9ff7bfb9-db47-4597-ac60-7f24b5e1b5c0\" xlink:type=\"simple\"><path d=\"M195,264.28 C195,264.28 195,310.66 195,310.66 \" fill=\"none\" id=\"E3-backto-E4\" style=\"stroke:#181818;stroke-width:1.0;\"/><polygon fill=\"none\" points=\"195,251.28,191,257.28,195,263.28,199,257.28,195,251.28\" style=\"stroke:#181818;stroke-width:1.0;\"/></a></g><!--MD5=[e9be52314489bd878ff4c7144b63c9e1]\n",
       "link E5 to E3--><g id=\"link_E5_E3\"><a href=\"psysml:515868c5-6015-4da5-b3ff-32117e872914\" target=\"_top\" title=\"psysml:515868c5-6015-4da5-b3ff-32117e872914\" xlink:actuate=\"onRequest\" xlink:href=\"psysml:515868c5-6015-4da5-b3ff-32117e872914\" xlink:show=\"new\" xlink:title=\"psysml:515868c5-6015-4da5-b3ff-32117e872914\" xlink:type=\"simple\"><path d=\"M172.75,102.64 C172.75,102.64 172.75,155.81 172.75,155.81 \" fill=\"none\" id=\"E5-to-E3\" style=\"stroke:#181818;stroke-width:1.0;\"/><polygon fill=\"#FFFFFF\" points=\"172.75,175.81,165.75,156.81,179.75,156.81,172.75,175.81\" style=\"stroke:#181818;stroke-width:1.0;\"/><ellipse cx=\"167.75\" cy=\"151.11\" fill=\"#181818\" rx=\"2\" ry=\"2\" style=\"stroke:#181818;stroke-width:1.0;\"/><ellipse cx=\"177.75\" cy=\"151.11\" fill=\"#181818\" rx=\"2\" ry=\"2\" style=\"stroke:#181818;stroke-width:1.0;\"/></a></g><!--MD5=[85d356282659285ab4b2cfe2f634dd2b]\n",
       "reverse link E5 to E6--><g id=\"link_E5_E6\"><a href=\"psysml:1a5e094c-b062-4a12-bd0e-4269385c32ea\" target=\"_top\" title=\"psysml:1a5e094c-b062-4a12-bd0e-4269385c32ea\" xlink:actuate=\"onRequest\" xlink:href=\"psysml:1a5e094c-b062-4a12-bd0e-4269385c32ea\" xlink:show=\"new\" xlink:title=\"psysml:1a5e094c-b062-4a12-bd0e-4269385c32ea\" xlink:type=\"simple\"><path d=\"M113.3,79 C113.3,79 108.25,79 108.25,79 C108.25,79 108.25,150.77 108.25,189.45 \" fill=\"none\" id=\"E5-backto-E6\" style=\"stroke:#181818;stroke-width:1.0;\"/><polygon fill=\"none\" points=\"126.3,79,120.3,75,114.3,79,120.3,83,126.3,79\" style=\"stroke:#181818;stroke-width:1.0;\"/></a></g><!--MD5=[f667431f98296947986a1a7595a31603]\n",
       "link E6 to E4--><g id=\"link_E6_E4\"><a href=\"psysml:70307247-8a04-4365-8b78-a7ff4bcf8dda\" target=\"_top\" title=\"psysml:70307247-8a04-4365-8b78-a7ff4bcf8dda\" xlink:actuate=\"onRequest\" xlink:href=\"psysml:70307247-8a04-4365-8b78-a7ff4bcf8dda\" xlink:show=\"new\" xlink:title=\"psysml:70307247-8a04-4365-8b78-a7ff4bcf8dda\" xlink:type=\"simple\"><path d=\"M125.24,214 C135.45,214 145.5,214 145.5,214 C145.5,214 145.5,335 145.5,335 C145.5,335 147.54,335 147.54,335 \" fill=\"none\" id=\"E6-to-E4\" style=\"stroke:#181818;stroke-width:1.0;\"/><polygon fill=\"#FFFFFF\" points=\"165.92,335,146.92,342,146.92,328,165.92,335\" style=\"stroke:#181818;stroke-width:1.0;\"/><line style=\"stroke:#181818;stroke-width:2.0;\" x1=\"143.12\" x2=\"143.12\" y1=\"342\" y2=\"328\"/></a></g><!--MD5=[14ccda38c055a5c0da953d572bc50960]\n",
       "link E7 to E3--><g id=\"link_E7_E3\"><a href=\"psysml:e2fe589c-f14e-47a5-aaf0-9a8ebd450a7c\" target=\"_top\" title=\"psysml:e2fe589c-f14e-47a5-aaf0-9a8ebd450a7c\" xlink:actuate=\"onRequest\" xlink:href=\"psysml:e2fe589c-f14e-47a5-aaf0-9a8ebd450a7c\" xlink:show=\"new\" xlink:title=\"psysml:e2fe589c-f14e-47a5-aaf0-9a8ebd450a7c\" xlink:type=\"simple\"><path d=\"M87.25,116.23 C87.25,146.16 87.25,183 87.25,183 C87.25,183 139.72,183 139.72,183 \" fill=\"none\" id=\"E7-to-E3\" style=\"stroke:#181818;stroke-width:1.0;\"/><polygon fill=\"#FFFFFF\" points=\"159.72,183,140.72,190,140.72,176,159.72,183\" style=\"stroke:#181818;stroke-width:1.0;\"/><ellipse cx=\"135.02\" cy=\"188\" fill=\"#181818\" rx=\"2\" ry=\"2\" style=\"stroke:#181818;stroke-width:1.0;\"/><ellipse cx=\"135.02\" cy=\"178\" fill=\"#181818\" rx=\"2\" ry=\"2\" style=\"stroke:#181818;stroke-width:1.0;\"/></a></g><!--MD5=[dc164f5e8a733ab456ef1add180e9e34]\n",
       "reverse link E7 to E8--><g id=\"link_E7_E8\"><a href=\"psysml:ca64ac56-097c-4feb-943f-895d8fc6b637\" target=\"_top\" title=\"psysml:ca64ac56-097c-4feb-943f-895d8fc6b637\" xlink:actuate=\"onRequest\" xlink:href=\"psysml:ca64ac56-097c-4feb-943f-895d8fc6b637\" xlink:show=\"new\" xlink:title=\"psysml:ca64ac56-097c-4feb-943f-895d8fc6b637\" xlink:type=\"simple\"><path d=\"M54.75,129.07 C54.75,129.07 54.75,335 54.75,335 C54.75,335 65.39,335 76.78,335 \" fill=\"none\" id=\"E7-backto-E8\" style=\"stroke:#181818;stroke-width:1.0;\"/><polygon fill=\"none\" points=\"54.75,116.07,50.75,122.07,54.75,128.07,58.75,122.07,54.75,116.07\" style=\"stroke:#181818;stroke-width:1.0;\"/></a></g><!--MD5=[0a839d0f80c2d72d4b9b307f046d0de8]\n",
       "link E6 to E8--><g id=\"link_E6_E8\"><a href=\"psysml:f1f85c24-6beb-4ed4-abfc-161aeb53ad8b\" target=\"_top\" title=\"psysml:f1f85c24-6beb-4ed4-abfc-161aeb53ad8b\" xlink:actuate=\"onRequest\" xlink:href=\"psysml:f1f85c24-6beb-4ed4-abfc-161aeb53ad8b\" xlink:show=\"new\" xlink:title=\"psysml:f1f85c24-6beb-4ed4-abfc-161aeb53ad8b\" xlink:type=\"simple\"><path d=\"M97,237.5 C97,258.67 97,289.36 97,310.63 \" fill=\"none\" id=\"E6-E8\" style=\"stroke:#181818;stroke-width:3.0;\"/></a></g><!--MD5=[0a839d0f80c2d72d4b9b307f046d0de8]\n",
       "link E6 to E8--><g id=\"link_E6_E8\"><a href=\"psysml:92c8a956-0030-45f2-8c30-896629fb0abd\" target=\"_top\" title=\"psysml:92c8a956-0030-45f2-8c30-896629fb0abd\" xlink:actuate=\"onRequest\" xlink:href=\"psysml:92c8a956-0030-45f2-8c30-896629fb0abd\" xlink:show=\"new\" xlink:title=\"psysml:92c8a956-0030-45f2-8c30-896629fb0abd\" xlink:type=\"simple\"><path d=\"M111,237.5 C111,258.67 111,289.36 111,310.63 \" fill=\"none\" id=\"E6-E8-1\" style=\"stroke:#181818;stroke-width:3.0;\"/></a></g><!--MD5=[e0b7b841373110b701f93e39a4e1c9bd]\n",
       "@startuml\r\n",
       "skin sysmlbw\r\n",
       "skinparam monochrome true\r\n",
       "skinparam wrapWidth 300\r\n",
       "hide circle\r\n",
       "skinparam linetype ortho\r\n",
       "\r\n",
       "package \"AliasTest\" as E1  [[psysml:a1c2986a-a425-4687-93ae-51674f2ada97 ]]  {\r\n",
       "comp usage \"b :>ISQSpaceTime::width \" as E2  <<(T,blue) attribute>> [[psysml:f27707b2-90f2-4671-96dd-49a3cebd999e ]] {\r\n",
       "}\r\n",
       "comp def \"P1\" as E3  <<(T,blue) part  def>> [[psysml:d64d4abf-692a-4b0a-b1a7-ca6bfa2152dc ]] {\r\n",
       "##//ports//##\r\n",
       "porig1\r\n",
       "}\r\n",
       "comp usage \"porig1  \" as E4  <<(T,blue) port>> [[psysml:61764694-1d1c-48ba-adaa-4bba53d3d30f ]] {\r\n",
       "}\r\n",
       "comp usage \"p1: P1  \" as E5  <<(T,blue) part>> [[psysml:e8b71076-5181-45d8-952d-6c6c3b8ab27b ]] {\r\n",
       "}\r\n",
       "comp usage \"po1  \" as E6  <<(T,blue) port>> [[psysml:d614f44e-5180-4509-9cc1-1632afa7b11f ]] {\r\n",
       "}\r\n",
       "comp usage \"p2: P1  \" as E7  <<(T,blue) part>> [[psysml:8277226e-c173-411e-8d8e-d31bb811c94b ]] {\r\n",
       "##//ports//##\r\n",
       "pdest\r\n",
       "}\r\n",
       "comp usage \"pdest  \" as E8  <<(T,blue) port>> [[psysml:88f12717-b335-4bfa-a952-2b65a00cb7af ]] {\r\n",
       "}\r\n",
       "}\r\n",
       "E3 o- - E4 [[psysml:9ff7bfb9-db47-4597-ac60-7f24b5e1b5c0 ]] \r\n",
       "E5 - -:|> E3 [[psysml:515868c5-6015-4da5-b3ff-32117e872914 ]] \r\n",
       "E5 o- - E6 [[psysml:1a5e094c-b062-4a12-bd0e-4269385c32ea ]] \r\n",
       "E6 - -||> E4 [[psysml:70307247-8a04-4365-8b78-a7ff4bcf8dda ]] \r\n",
       "E7 - -:|> E3 [[psysml:e2fe589c-f14e-47a5-aaf0-9a8ebd450a7c ]] \r\n",
       "E7 o- - E8 [[psysml:ca64ac56-097c-4feb-943f-895d8fc6b637 ]] \r\n",
       "E6 -[thickness=3]- E8 [[psysml:f1f85c24-6beb-4ed4-abfc-161aeb53ad8b ]] \r\n",
       "E6 -[thickness=3]- E8 [[psysml:92c8a956-0030-45f2-8c30-896629fb0abd ]] \r\n",
       "@enduml\r\n",
       "\n",
       "PlantUML version 1.2022.7(Mon Aug 22 17:01:30 UTC 2022)\n",
       "(EPL source distribution)\n",
       "Java Runtime: OpenJDK Runtime Environment\n",
       "JVM: OpenJDK 64-Bit Server VM\n",
       "Default Encoding: UTF-8\n",
       "Language: en\n",
       "Country: null\n",
       "--></g></svg>"
      ]
     },
     "execution_count": 51,
     "metadata": {},
     "output_type": "execute_result"
    }
   ],
   "source": [
    "%viz --style=\"ORTHOLINE\" --view=\"Default\" \"AliasTest\""
   ]
  },
  {
   "cell_type": "code",
   "execution_count": 52,
   "id": "5dca53c2",
   "metadata": {
    "execution": {
     "iopub.execute_input": "2024-12-16T03:25:14.933816Z",
     "iopub.status.busy": "2024-12-16T03:25:14.933619Z",
     "iopub.status.idle": "2024-12-16T03:25:14.951903Z",
     "shell.execute_reply": "2024-12-16T03:25:14.951162Z"
    }
   },
   "outputs": [
    {
     "data": {
      "image/svg+xml": [
       "<?xml version=\"1.0\" encoding=\"UTF-8\" standalone=\"no\"?><svg xmlns=\"http://www.w3.org/2000/svg\" xmlns:xlink=\"http://www.w3.org/1999/xlink\" contentStyleType=\"text/css\" height=\"382px\" preserveAspectRatio=\"none\" style=\"width:440px;height:382px;background:#FFFFFF;\" version=\"1.1\" viewBox=\"0 0 440 382\" width=\"440px\" zoomAndPan=\"magnify\"><defs/><g><!--MD5=[fbc87193dbaf4d95561dea2c320d4a47]\n",
       "cluster E1--><g id=\"cluster_E1\"><a href=\"psysml:a1c2986a-a425-4687-93ae-51674f2ada97\" target=\"_top\" title=\"psysml:a1c2986a-a425-4687-93ae-51674f2ada97\" xlink:actuate=\"onRequest\" xlink:href=\"psysml:a1c2986a-a425-4687-93ae-51674f2ada97\" xlink:show=\"new\" xlink:title=\"psysml:a1c2986a-a425-4687-93ae-51674f2ada97\" xlink:type=\"simple\"><polygon fill=\"none\" points=\"16,6,87.9375,6,94.9375,28.2969,423,28.2969,423,375,16,375,16,6\" style=\"stroke:#000000;stroke-width:1.5;\"/><line style=\"stroke:#000000;stroke-width:1.5;\" x1=\"16\" x2=\"94.9375\" y1=\"28.2969\" y2=\"28.2969\"/><text fill=\"#000000\" font-family=\"sans-serif\" font-size=\"14\" font-weight=\"bold\" lengthAdjust=\"spacing\" textLength=\"65.9375\" x=\"20\" y=\"20.9951\">AliasTest</text></a></g><!--MD5=[b4997ac47864f28c2f74865a473b2911]\n",
       "class E2--><a href=\"psysml:f27707b2-90f2-4671-96dd-49a3cebd999e\" target=\"_top\" title=\"psysml:f27707b2-90f2-4671-96dd-49a3cebd999e\" xlink:actuate=\"onRequest\" xlink:href=\"psysml:f27707b2-90f2-4671-96dd-49a3cebd999e\" xlink:show=\"new\" xlink:title=\"psysml:f27707b2-90f2-4671-96dd-49a3cebd999e\" xlink:type=\"simple\"><g id=\"elem_E2\"><rect fill=\"#FFFFFF\" height=\"48.2656\" id=\"E2\" rx=\"10\" ry=\"10\" style=\"stroke:#181818;stroke-width:0.5;\" width=\"187\" x=\"220.5\" y=\"54.5\"/><text fill=\"#000000\" font-family=\"sans-serif\" font-size=\"12\" font-style=\"italic\" lengthAdjust=\"spacing\" textLength=\"69\" x=\"279.5\" y=\"70.6387\">«attribute»</text><text fill=\"#000000\" font-family=\"sans-serif\" font-size=\"14\" lengthAdjust=\"spacing\" textLength=\"177\" x=\"223.5\" y=\"86.4639\">b :&gt;ISQSpaceTime::width</text><line style=\"stroke:#181818;stroke-width:0.5;\" x1=\"221.5\" x2=\"406.5\" y1=\"94.7656\" y2=\"94.7656\"/></g></a><!--MD5=[09b614a08d8cba4a07c9adeb5e0fee81]\n",
       "class E3--><a href=\"psysml:d64d4abf-692a-4b0a-b1a7-ca6bfa2152dc\" target=\"_top\" title=\"psysml:d64d4abf-692a-4b0a-b1a7-ca6bfa2152dc\" xlink:actuate=\"onRequest\" xlink:href=\"psysml:d64d4abf-692a-4b0a-b1a7-ca6bfa2152dc\" xlink:show=\"new\" xlink:title=\"psysml:d64d4abf-692a-4b0a-b1a7-ca6bfa2152dc\" xlink:type=\"simple\"><g id=\"elem_E3\"><rect fill=\"#FFFFFF\" height=\"75.0813\" id=\"E3\" style=\"stroke:#181818;stroke-width:0.5;\" width=\"70\" x=\"160\" y=\"176\"/><text fill=\"#000000\" font-family=\"sans-serif\" font-size=\"12\" font-style=\"italic\" lengthAdjust=\"spacing\" textLength=\"68\" x=\"161\" y=\"192.1387\">«part  def»</text><text fill=\"#000000\" font-family=\"sans-serif\" font-size=\"14\" lengthAdjust=\"spacing\" textLength=\"18\" x=\"186\" y=\"207.9639\">P1</text><line style=\"stroke:#181818;stroke-width:0.5;\" x1=\"161\" x2=\"229\" y1=\"216.2656\" y2=\"216.2656\"/><text fill=\"#000000\" font-family=\"sans-serif\" font-size=\"14\" lengthAdjust=\"spacing\" textLength=\"44\" x=\"166\" y=\"243.7795\">porig1</text><text fill=\"#000000\" font-family=\"sans-serif\" font-size=\"14\" font-style=\"italic\" lengthAdjust=\"spacing\" textLength=\"36\" x=\"177\" y=\"228.6123\">ports</text></g></a><!--MD5=[ebbe1d658d1005bcc118a6aa81145e00]\n",
       "class E4--><a href=\"psysml:61764694-1d1c-48ba-adaa-4bba53d3d30f\" target=\"_top\" title=\"psysml:61764694-1d1c-48ba-adaa-4bba53d3d30f\" xlink:actuate=\"onRequest\" xlink:href=\"psysml:61764694-1d1c-48ba-adaa-4bba53d3d30f\" xlink:show=\"new\" xlink:title=\"psysml:61764694-1d1c-48ba-adaa-4bba53d3d30f\" xlink:type=\"simple\"><g id=\"elem_E4\"><rect fill=\"#FFFFFF\" height=\"48.2656\" id=\"E4\" rx=\"10\" ry=\"10\" style=\"stroke:#181818;stroke-width:0.5;\" width=\"58\" x=\"166\" y=\"311\"/><text fill=\"#000000\" font-family=\"sans-serif\" font-size=\"12\" font-style=\"italic\" lengthAdjust=\"spacing\" textLength=\"40\" x=\"175\" y=\"327.1387\">«port»</text><text fill=\"#000000\" font-family=\"sans-serif\" font-size=\"14\" lengthAdjust=\"spacing\" textLength=\"44\" x=\"169\" y=\"342.9639\">porig1</text><line style=\"stroke:#181818;stroke-width:0.5;\" x1=\"167\" x2=\"223\" y1=\"351.2656\" y2=\"351.2656\"/></g></a><!--MD5=[270fce915f116d4de14055a7c1d9a0f3]\n",
       "class E5--><a href=\"psysml:e8b71076-5181-45d8-952d-6c6c3b8ab27b\" target=\"_top\" title=\"psysml:e8b71076-5181-45d8-952d-6c6c3b8ab27b\" xlink:actuate=\"onRequest\" xlink:href=\"psysml:e8b71076-5181-45d8-952d-6c6c3b8ab27b\" xlink:show=\"new\" xlink:title=\"psysml:e8b71076-5181-45d8-952d-6c6c3b8ab27b\" xlink:type=\"simple\"><g id=\"elem_E5\"><rect fill=\"#FFFFFF\" height=\"48.2656\" id=\"E5\" rx=\"10\" ry=\"10\" style=\"stroke:#181818;stroke-width:0.5;\" width=\"59\" x=\"126.5\" y=\"54.5\"/><text fill=\"#000000\" font-family=\"sans-serif\" font-size=\"12\" font-style=\"italic\" lengthAdjust=\"spacing\" textLength=\"40\" x=\"136\" y=\"70.6387\">«part»</text><text fill=\"#000000\" font-family=\"sans-serif\" font-size=\"14\" lengthAdjust=\"spacing\" textLength=\"45\" x=\"129.5\" y=\"86.4639\">p1: P1</text><line style=\"stroke:#181818;stroke-width:0.5;\" x1=\"127.5\" x2=\"184.5\" y1=\"94.7656\" y2=\"94.7656\"/></g></a><!--MD5=[60a26617385b1d2d0262a64233df1f8d]\n",
       "class E6--><a href=\"psysml:d614f44e-5180-4509-9cc1-1632afa7b11f\" target=\"_top\" title=\"psysml:d614f44e-5180-4509-9cc1-1632afa7b11f\" xlink:actuate=\"onRequest\" xlink:href=\"psysml:d614f44e-5180-4509-9cc1-1632afa7b11f\" xlink:show=\"new\" xlink:title=\"psysml:d614f44e-5180-4509-9cc1-1632afa7b11f\" xlink:type=\"simple\"><g id=\"elem_E6\"><rect fill=\"#FFFFFF\" height=\"48.2656\" id=\"E6\" rx=\"10\" ry=\"10\" style=\"stroke:#181818;stroke-width:0.5;\" width=\"42\" x=\"83\" y=\"189.5\"/><text fill=\"#000000\" font-family=\"sans-serif\" font-size=\"12\" font-style=\"italic\" lengthAdjust=\"spacing\" textLength=\"40\" x=\"84\" y=\"205.6387\">«port»</text><text fill=\"#000000\" font-family=\"sans-serif\" font-size=\"14\" lengthAdjust=\"spacing\" textLength=\"27\" x=\"86.5\" y=\"221.4639\">po1</text><line style=\"stroke:#181818;stroke-width:0.5;\" x1=\"84\" x2=\"124\" y1=\"229.7656\" y2=\"229.7656\"/></g></a><!--MD5=[2156ba9850f5573cc1fc38a6a4b2f02b]\n",
       "class E7--><a href=\"psysml:8277226e-c173-411e-8d8e-d31bb811c94b\" target=\"_top\" title=\"psysml:8277226e-c173-411e-8d8e-d31bb811c94b\" xlink:actuate=\"onRequest\" xlink:href=\"psysml:8277226e-c173-411e-8d8e-d31bb811c94b\" xlink:show=\"new\" xlink:title=\"psysml:8277226e-c173-411e-8d8e-d31bb811c94b\" xlink:type=\"simple\"><g id=\"elem_E7\"><rect fill=\"#FFFFFF\" height=\"75.0813\" id=\"E7\" rx=\"10\" ry=\"10\" style=\"stroke:#181818;stroke-width:0.5;\" width=\"59\" x=\"32.5\" y=\"41\"/><text fill=\"#000000\" font-family=\"sans-serif\" font-size=\"12\" font-style=\"italic\" lengthAdjust=\"spacing\" textLength=\"40\" x=\"42\" y=\"57.1387\">«part»</text><text fill=\"#000000\" font-family=\"sans-serif\" font-size=\"14\" lengthAdjust=\"spacing\" textLength=\"45\" x=\"35.5\" y=\"72.9639\">p2: P1</text><line style=\"stroke:#181818;stroke-width:0.5;\" x1=\"33.5\" x2=\"90.5\" y1=\"81.2656\" y2=\"81.2656\"/><text fill=\"#000000\" font-family=\"sans-serif\" font-size=\"14\" lengthAdjust=\"spacing\" textLength=\"40\" x=\"38.5\" y=\"108.7795\">pdest</text><text fill=\"#000000\" font-family=\"sans-serif\" font-size=\"14\" font-style=\"italic\" lengthAdjust=\"spacing\" textLength=\"36\" x=\"44\" y=\"93.6123\">ports</text></g></a><!--MD5=[b9389687b975829384b498ac4b7476b2]\n",
       "class E8--><a href=\"psysml:88f12717-b335-4bfa-a952-2b65a00cb7af\" target=\"_top\" title=\"psysml:88f12717-b335-4bfa-a952-2b65a00cb7af\" xlink:actuate=\"onRequest\" xlink:href=\"psysml:88f12717-b335-4bfa-a952-2b65a00cb7af\" xlink:show=\"new\" xlink:title=\"psysml:88f12717-b335-4bfa-a952-2b65a00cb7af\" xlink:type=\"simple\"><g id=\"elem_E8\"><rect fill=\"#FFFFFF\" height=\"48.2656\" id=\"E8\" rx=\"10\" ry=\"10\" style=\"stroke:#181818;stroke-width:0.5;\" width=\"54\" x=\"77\" y=\"311\"/><text fill=\"#000000\" font-family=\"sans-serif\" font-size=\"12\" font-style=\"italic\" lengthAdjust=\"spacing\" textLength=\"40\" x=\"84\" y=\"327.1387\">«port»</text><text fill=\"#000000\" font-family=\"sans-serif\" font-size=\"14\" lengthAdjust=\"spacing\" textLength=\"40\" x=\"80\" y=\"342.9639\">pdest</text><line style=\"stroke:#181818;stroke-width:0.5;\" x1=\"78\" x2=\"130\" y1=\"351.2656\" y2=\"351.2656\"/></g></a><!--MD5=[4672eba38e49728da53d11aeb285b987]\n",
       "reverse link E3 to E4--><g id=\"link_E3_E4\"><a href=\"psysml:9ff7bfb9-db47-4597-ac60-7f24b5e1b5c0\" target=\"_top\" title=\"psysml:9ff7bfb9-db47-4597-ac60-7f24b5e1b5c0\" xlink:actuate=\"onRequest\" xlink:href=\"psysml:9ff7bfb9-db47-4597-ac60-7f24b5e1b5c0\" xlink:show=\"new\" xlink:title=\"psysml:9ff7bfb9-db47-4597-ac60-7f24b5e1b5c0\" xlink:type=\"simple\"><path d=\"M195,264.28 C195,264.28 195,310.66 195,310.66 \" fill=\"none\" id=\"E3-backto-E4\" style=\"stroke:#181818;stroke-width:1.0;\"/><polygon fill=\"none\" points=\"195,251.28,191,257.28,195,263.28,199,257.28,195,251.28\" style=\"stroke:#181818;stroke-width:1.0;\"/></a></g><!--MD5=[e9be52314489bd878ff4c7144b63c9e1]\n",
       "link E5 to E3--><g id=\"link_E5_E3\"><a href=\"psysml:515868c5-6015-4da5-b3ff-32117e872914\" target=\"_top\" title=\"psysml:515868c5-6015-4da5-b3ff-32117e872914\" xlink:actuate=\"onRequest\" xlink:href=\"psysml:515868c5-6015-4da5-b3ff-32117e872914\" xlink:show=\"new\" xlink:title=\"psysml:515868c5-6015-4da5-b3ff-32117e872914\" xlink:type=\"simple\"><path d=\"M172.75,102.64 C172.75,102.64 172.75,155.81 172.75,155.81 \" fill=\"none\" id=\"E5-to-E3\" style=\"stroke:#181818;stroke-width:1.0;\"/><polygon fill=\"#FFFFFF\" points=\"172.75,175.81,165.75,156.81,179.75,156.81,172.75,175.81\" style=\"stroke:#181818;stroke-width:1.0;\"/><ellipse cx=\"167.75\" cy=\"151.11\" fill=\"#181818\" rx=\"2\" ry=\"2\" style=\"stroke:#181818;stroke-width:1.0;\"/><ellipse cx=\"177.75\" cy=\"151.11\" fill=\"#181818\" rx=\"2\" ry=\"2\" style=\"stroke:#181818;stroke-width:1.0;\"/></a></g><!--MD5=[85d356282659285ab4b2cfe2f634dd2b]\n",
       "reverse link E5 to E6--><g id=\"link_E5_E6\"><a href=\"psysml:1a5e094c-b062-4a12-bd0e-4269385c32ea\" target=\"_top\" title=\"psysml:1a5e094c-b062-4a12-bd0e-4269385c32ea\" xlink:actuate=\"onRequest\" xlink:href=\"psysml:1a5e094c-b062-4a12-bd0e-4269385c32ea\" xlink:show=\"new\" xlink:title=\"psysml:1a5e094c-b062-4a12-bd0e-4269385c32ea\" xlink:type=\"simple\"><path d=\"M113.3,79 C113.3,79 108.25,79 108.25,79 C108.25,79 108.25,150.77 108.25,189.45 \" fill=\"none\" id=\"E5-backto-E6\" style=\"stroke:#181818;stroke-width:1.0;\"/><polygon fill=\"none\" points=\"126.3,79,120.3,75,114.3,79,120.3,83,126.3,79\" style=\"stroke:#181818;stroke-width:1.0;\"/></a></g><!--MD5=[f667431f98296947986a1a7595a31603]\n",
       "link E6 to E4--><g id=\"link_E6_E4\"><a href=\"psysml:70307247-8a04-4365-8b78-a7ff4bcf8dda\" target=\"_top\" title=\"psysml:70307247-8a04-4365-8b78-a7ff4bcf8dda\" xlink:actuate=\"onRequest\" xlink:href=\"psysml:70307247-8a04-4365-8b78-a7ff4bcf8dda\" xlink:show=\"new\" xlink:title=\"psysml:70307247-8a04-4365-8b78-a7ff4bcf8dda\" xlink:type=\"simple\"><path d=\"M125.24,214 C135.45,214 145.5,214 145.5,214 C145.5,214 145.5,335 145.5,335 C145.5,335 147.54,335 147.54,335 \" fill=\"none\" id=\"E6-to-E4\" style=\"stroke:#181818;stroke-width:1.0;\"/><polygon fill=\"#FFFFFF\" points=\"165.92,335,146.92,342,146.92,328,165.92,335\" style=\"stroke:#181818;stroke-width:1.0;\"/><line style=\"stroke:#181818;stroke-width:2.0;\" x1=\"143.12\" x2=\"143.12\" y1=\"342\" y2=\"328\"/></a></g><!--MD5=[14ccda38c055a5c0da953d572bc50960]\n",
       "link E7 to E3--><g id=\"link_E7_E3\"><a href=\"psysml:e2fe589c-f14e-47a5-aaf0-9a8ebd450a7c\" target=\"_top\" title=\"psysml:e2fe589c-f14e-47a5-aaf0-9a8ebd450a7c\" xlink:actuate=\"onRequest\" xlink:href=\"psysml:e2fe589c-f14e-47a5-aaf0-9a8ebd450a7c\" xlink:show=\"new\" xlink:title=\"psysml:e2fe589c-f14e-47a5-aaf0-9a8ebd450a7c\" xlink:type=\"simple\"><path d=\"M87.25,116.23 C87.25,146.16 87.25,183 87.25,183 C87.25,183 139.72,183 139.72,183 \" fill=\"none\" id=\"E7-to-E3\" style=\"stroke:#181818;stroke-width:1.0;\"/><polygon fill=\"#FFFFFF\" points=\"159.72,183,140.72,190,140.72,176,159.72,183\" style=\"stroke:#181818;stroke-width:1.0;\"/><ellipse cx=\"135.02\" cy=\"188\" fill=\"#181818\" rx=\"2\" ry=\"2\" style=\"stroke:#181818;stroke-width:1.0;\"/><ellipse cx=\"135.02\" cy=\"178\" fill=\"#181818\" rx=\"2\" ry=\"2\" style=\"stroke:#181818;stroke-width:1.0;\"/></a></g><!--MD5=[dc164f5e8a733ab456ef1add180e9e34]\n",
       "reverse link E7 to E8--><g id=\"link_E7_E8\"><a href=\"psysml:ca64ac56-097c-4feb-943f-895d8fc6b637\" target=\"_top\" title=\"psysml:ca64ac56-097c-4feb-943f-895d8fc6b637\" xlink:actuate=\"onRequest\" xlink:href=\"psysml:ca64ac56-097c-4feb-943f-895d8fc6b637\" xlink:show=\"new\" xlink:title=\"psysml:ca64ac56-097c-4feb-943f-895d8fc6b637\" xlink:type=\"simple\"><path d=\"M54.75,129.07 C54.75,129.07 54.75,335 54.75,335 C54.75,335 65.39,335 76.78,335 \" fill=\"none\" id=\"E7-backto-E8\" style=\"stroke:#181818;stroke-width:1.0;\"/><polygon fill=\"none\" points=\"54.75,116.07,50.75,122.07,54.75,128.07,58.75,122.07,54.75,116.07\" style=\"stroke:#181818;stroke-width:1.0;\"/></a></g><!--MD5=[0a839d0f80c2d72d4b9b307f046d0de8]\n",
       "link E6 to E8--><g id=\"link_E6_E8\"><a href=\"psysml:f1f85c24-6beb-4ed4-abfc-161aeb53ad8b\" target=\"_top\" title=\"psysml:f1f85c24-6beb-4ed4-abfc-161aeb53ad8b\" xlink:actuate=\"onRequest\" xlink:href=\"psysml:f1f85c24-6beb-4ed4-abfc-161aeb53ad8b\" xlink:show=\"new\" xlink:title=\"psysml:f1f85c24-6beb-4ed4-abfc-161aeb53ad8b\" xlink:type=\"simple\"><path d=\"M97,237.5 C97,258.67 97,289.36 97,310.63 \" fill=\"none\" id=\"E6-E8\" style=\"stroke:#181818;stroke-width:3.0;\"/></a></g><!--MD5=[0a839d0f80c2d72d4b9b307f046d0de8]\n",
       "link E6 to E8--><g id=\"link_E6_E8\"><a href=\"psysml:92c8a956-0030-45f2-8c30-896629fb0abd\" target=\"_top\" title=\"psysml:92c8a956-0030-45f2-8c30-896629fb0abd\" xlink:actuate=\"onRequest\" xlink:href=\"psysml:92c8a956-0030-45f2-8c30-896629fb0abd\" xlink:show=\"new\" xlink:title=\"psysml:92c8a956-0030-45f2-8c30-896629fb0abd\" xlink:type=\"simple\"><path d=\"M111,237.5 C111,258.67 111,289.36 111,310.63 \" fill=\"none\" id=\"E6-E8-1\" style=\"stroke:#181818;stroke-width:3.0;\"/></a></g><!--MD5=[e0b7b841373110b701f93e39a4e1c9bd]\n",
       "@startuml\r\n",
       "skin sysmlbw\r\n",
       "skinparam monochrome true\r\n",
       "skinparam wrapWidth 300\r\n",
       "hide circle\r\n",
       "skinparam linetype ortho\r\n",
       "\r\n",
       "package \"AliasTest\" as E1  [[psysml:a1c2986a-a425-4687-93ae-51674f2ada97 ]]  {\r\n",
       "comp usage \"b :>ISQSpaceTime::width \" as E2  <<(T,blue) attribute>> [[psysml:f27707b2-90f2-4671-96dd-49a3cebd999e ]] {\r\n",
       "}\r\n",
       "comp def \"P1\" as E3  <<(T,blue) part  def>> [[psysml:d64d4abf-692a-4b0a-b1a7-ca6bfa2152dc ]] {\r\n",
       "##//ports//##\r\n",
       "porig1\r\n",
       "}\r\n",
       "comp usage \"porig1  \" as E4  <<(T,blue) port>> [[psysml:61764694-1d1c-48ba-adaa-4bba53d3d30f ]] {\r\n",
       "}\r\n",
       "comp usage \"p1: P1  \" as E5  <<(T,blue) part>> [[psysml:e8b71076-5181-45d8-952d-6c6c3b8ab27b ]] {\r\n",
       "}\r\n",
       "comp usage \"po1  \" as E6  <<(T,blue) port>> [[psysml:d614f44e-5180-4509-9cc1-1632afa7b11f ]] {\r\n",
       "}\r\n",
       "comp usage \"p2: P1  \" as E7  <<(T,blue) part>> [[psysml:8277226e-c173-411e-8d8e-d31bb811c94b ]] {\r\n",
       "##//ports//##\r\n",
       "pdest\r\n",
       "}\r\n",
       "comp usage \"pdest  \" as E8  <<(T,blue) port>> [[psysml:88f12717-b335-4bfa-a952-2b65a00cb7af ]] {\r\n",
       "}\r\n",
       "}\r\n",
       "E3 o- - E4 [[psysml:9ff7bfb9-db47-4597-ac60-7f24b5e1b5c0 ]] \r\n",
       "E5 - -:|> E3 [[psysml:515868c5-6015-4da5-b3ff-32117e872914 ]] \r\n",
       "E5 o- - E6 [[psysml:1a5e094c-b062-4a12-bd0e-4269385c32ea ]] \r\n",
       "E6 - -||> E4 [[psysml:70307247-8a04-4365-8b78-a7ff4bcf8dda ]] \r\n",
       "E7 - -:|> E3 [[psysml:e2fe589c-f14e-47a5-aaf0-9a8ebd450a7c ]] \r\n",
       "E7 o- - E8 [[psysml:ca64ac56-097c-4feb-943f-895d8fc6b637 ]] \r\n",
       "E6 -[thickness=3]- E8 [[psysml:f1f85c24-6beb-4ed4-abfc-161aeb53ad8b ]] \r\n",
       "E6 -[thickness=3]- E8 [[psysml:92c8a956-0030-45f2-8c30-896629fb0abd ]] \r\n",
       "@enduml\r\n",
       "\n",
       "PlantUML version 1.2022.7(Mon Aug 22 17:01:30 UTC 2022)\n",
       "(EPL source distribution)\n",
       "Java Runtime: OpenJDK Runtime Environment\n",
       "JVM: OpenJDK 64-Bit Server VM\n",
       "Default Encoding: UTF-8\n",
       "Language: en\n",
       "Country: null\n",
       "--></g></svg>"
      ]
     },
     "execution_count": 52,
     "metadata": {},
     "output_type": "execute_result"
    }
   ],
   "source": [
    "%viz --style=\"ORTHOLINE\" --view=\"Tree\" \"AliasTest\""
   ]
  },
  {
   "cell_type": "code",
   "execution_count": 53,
   "id": "27ec8bf4",
   "metadata": {
    "execution": {
     "iopub.execute_input": "2024-12-16T03:25:15.007024Z",
     "iopub.status.busy": "2024-12-16T03:25:15.006776Z",
     "iopub.status.idle": "2024-12-16T03:25:15.011718Z",
     "shell.execute_reply": "2024-12-16T03:25:15.011546Z"
    }
   },
   "outputs": [
    {
     "data": {
      "image/svg+xml": [
       "<?xml version=\"1.0\" encoding=\"UTF-8\" standalone=\"no\"?><svg xmlns=\"http://www.w3.org/2000/svg\" xmlns:xlink=\"http://www.w3.org/1999/xlink\" contentStyleType=\"text/css\" height=\"10px\" preserveAspectRatio=\"none\" style=\"width:10px;height:10px;background:#FFFFFF;\" version=\"1.1\" viewBox=\"0 0 10 10\" width=\"10px\" zoomAndPan=\"magnify\"><defs/><g><!--MD5=[db5337d1ba6fd3a35e07e04988169323]\n",
       "@startuml\r\n",
       "skin sysmlbw\r\n",
       "skinparam monochrome true\r\n",
       "skinparam wrapWidth 300\r\n",
       "hide circle\r\n",
       "skinparam linetype ortho\r\n",
       "\r\n",
       "@enduml\r\n",
       "\n",
       "PlantUML version 1.2022.7(Mon Aug 22 17:01:30 UTC 2022)\n",
       "(EPL source distribution)\n",
       "Java Runtime: OpenJDK Runtime Environment\n",
       "JVM: OpenJDK 64-Bit Server VM\n",
       "Default Encoding: UTF-8\n",
       "Language: en\n",
       "Country: null\n",
       "--></g></svg>"
      ]
     },
     "execution_count": 53,
     "metadata": {},
     "output_type": "execute_result"
    }
   ],
   "source": [
    "%viz --style=\"ORTHOLINE\" --view=\"State\" \"AliasTest\""
   ]
  },
  {
   "cell_type": "code",
   "execution_count": 54,
   "id": "c90238eb",
   "metadata": {
    "execution": {
     "iopub.execute_input": "2024-12-16T03:25:15.066100Z",
     "iopub.status.busy": "2024-12-16T03:25:15.065811Z",
     "iopub.status.idle": "2024-12-16T03:25:15.083466Z",
     "shell.execute_reply": "2024-12-16T03:25:15.082543Z"
    }
   },
   "outputs": [
    {
     "data": {
      "image/svg+xml": [
       "<?xml version=\"1.0\" encoding=\"UTF-8\" standalone=\"no\"?><svg xmlns=\"http://www.w3.org/2000/svg\" xmlns:xlink=\"http://www.w3.org/1999/xlink\" contentStyleType=\"text/css\" height=\"394px\" preserveAspectRatio=\"none\" style=\"width:387px;height:394px;background:#FFFFFF;\" version=\"1.1\" viewBox=\"0 0 387 394\" width=\"387px\" zoomAndPan=\"magnify\"><defs/><g><!--MD5=[fbc87193dbaf4d95561dea2c320d4a47]\n",
       "cluster E1--><g id=\"cluster_E1\"><a href=\"psysml:a1c2986a-a425-4687-93ae-51674f2ada97\" target=\"_top\" title=\"psysml:a1c2986a-a425-4687-93ae-51674f2ada97\" xlink:actuate=\"onRequest\" xlink:href=\"psysml:a1c2986a-a425-4687-93ae-51674f2ada97\" xlink:show=\"new\" xlink:title=\"psysml:a1c2986a-a425-4687-93ae-51674f2ada97\" xlink:type=\"simple\"><polygon fill=\"none\" points=\"16,6,87.9375,6,94.9375,28.2969,370,28.2969,370,387.36,16,387.36,16,6\" style=\"stroke:#000000;stroke-width:1.5;\"/><line style=\"stroke:#000000;stroke-width:1.5;\" x1=\"16\" x2=\"94.9375\" y1=\"28.2969\" y2=\"28.2969\"/><text fill=\"#000000\" font-family=\"sans-serif\" font-size=\"14\" font-weight=\"bold\" lengthAdjust=\"spacing\" textLength=\"65.9375\" x=\"20\" y=\"20.9951\">AliasTest</text></a></g><!--MD5=[d5e69f78d87373223dbae638b30a9c99]\n",
       "cluster E3--><g id=\"cluster_E3\"><a href=\"psysml:d64d4abf-692a-4b0a-b1a7-ca6bfa2152dc\" target=\"_top\" title=\"psysml:d64d4abf-692a-4b0a-b1a7-ca6bfa2152dc\" xlink:actuate=\"onRequest\" xlink:href=\"psysml:d64d4abf-692a-4b0a-b1a7-ca6bfa2152dc\" xlink:show=\"new\" xlink:title=\"psysml:d64d4abf-692a-4b0a-b1a7-ca6bfa2152dc\" xlink:type=\"simple\"><rect fill=\"#FFFFFF\" height=\"124.5\" id=\"E3\" style=\"stroke:#383838;stroke-width:1.5;\" width=\"144\" x=\"202\" y=\"238.86\"/><text fill=\"#000000\" font-family=\"sans-serif\" font-size=\"12\" font-style=\"italic\" lengthAdjust=\"spacing\" textLength=\"68\" x=\"240\" y=\"254.9987\">«part  def»</text><text fill=\"#000000\" font-family=\"sans-serif\" font-size=\"14\" lengthAdjust=\"spacing\" textLength=\"18\" x=\"265\" y=\"270.8239\">P1</text><line style=\"stroke:#383838;stroke-width:1.0;\" x1=\"202\" x2=\"346\" y1=\"279.1256\" y2=\"279.1256\"/></a></g><!--MD5=[14e3b0961a2654348d326746436168a1]\n",
       "cluster E6--><g id=\"cluster_E6\"><a href=\"psysml:e8b71076-5181-45d8-952d-6c6c3b8ab27b\" target=\"_top\" title=\"psysml:e8b71076-5181-45d8-952d-6c6c3b8ab27b\" xlink:actuate=\"onRequest\" xlink:href=\"psysml:e8b71076-5181-45d8-952d-6c6c3b8ab27b\" xlink:show=\"new\" xlink:title=\"psysml:e8b71076-5181-45d8-952d-6c6c3b8ab27b\" xlink:type=\"simple\"><rect fill=\"#FFFFFF\" height=\"98.36\" id=\"E6\" rx=\"10\" ry=\"10\" style=\"stroke:#383838;stroke-width:1.5;\" width=\"116\" x=\"230\" y=\"49\"/><text fill=\"#000000\" font-family=\"sans-serif\" font-size=\"14\" lengthAdjust=\"spacing\" textLength=\"45\" x=\"265.5\" y=\"66.9951\">p1: P1</text><line style=\"stroke:#383838;stroke-width:1.0;\" x1=\"230\" x2=\"346\" y1=\"75.2969\" y2=\"75.2969\"/></a></g><!--MD5=[55dfccfc6c49c2d10cd1bd2211a6c90c]\n",
       "cluster E8--><g id=\"cluster_E8\"><a href=\"psysml:8277226e-c173-411e-8d8e-d31bb811c94b\" target=\"_top\" title=\"psysml:8277226e-c173-411e-8d8e-d31bb811c94b\" xlink:actuate=\"onRequest\" xlink:href=\"psysml:8277226e-c173-411e-8d8e-d31bb811c94b\" xlink:show=\"new\" xlink:title=\"psysml:8277226e-c173-411e-8d8e-d31bb811c94b\" xlink:type=\"simple\"><rect fill=\"#FFFFFF\" height=\"73\" id=\"E8\" rx=\"10\" ry=\"10\" style=\"stroke:#383838;stroke-width:1.5;\" width=\"83\" x=\"103\" y=\"199.36\"/><text fill=\"#000000\" font-family=\"sans-serif\" font-size=\"14\" lengthAdjust=\"spacing\" textLength=\"45\" x=\"122\" y=\"217.3551\">p2: P1</text><line style=\"stroke:#383838;stroke-width:1.0;\" x1=\"103\" x2=\"186\" y1=\"225.6569\" y2=\"225.6569\"/></a></g><!--MD5=[b4997ac47864f28c2f74865a473b2911]\n",
       "class E2--><a href=\"psysml:f27707b2-90f2-4671-96dd-49a3cebd999e\" target=\"_top\" title=\"psysml:f27707b2-90f2-4671-96dd-49a3cebd999e\" xlink:actuate=\"onRequest\" xlink:href=\"psysml:f27707b2-90f2-4671-96dd-49a3cebd999e\" xlink:show=\"new\" xlink:title=\"psysml:f27707b2-90f2-4671-96dd-49a3cebd999e\" xlink:type=\"simple\"><g id=\"elem_E2\"><rect fill=\"#FFFFFF\" height=\"48.2656\" id=\"E2\" rx=\"10\" ry=\"10\" style=\"stroke:#181818;stroke-width:0.5;\" width=\"187\" x=\"31.5\" y=\"58.5\"/><text fill=\"#000000\" font-family=\"sans-serif\" font-size=\"12\" font-style=\"italic\" lengthAdjust=\"spacing\" textLength=\"69\" x=\"90.5\" y=\"74.6387\">«attribute»</text><text fill=\"#000000\" font-family=\"sans-serif\" font-size=\"14\" lengthAdjust=\"spacing\" textLength=\"177\" x=\"34.5\" y=\"90.4639\">b :&gt;ISQSpaceTime::width</text><line style=\"stroke:#181818;stroke-width:0.5;\" x1=\"32.5\" x2=\"217.5\" y1=\"98.7656\" y2=\"98.7656\"/></g></a><text fill=\"#000000\" font-family=\"sans-serif\" font-size=\"14\" lengthAdjust=\"spacing\" textLength=\"44\" x=\"194\" y=\"217.5582\">porig1</text><rect fill=\"#FFFFFF\" height=\"12\" style=\"stroke:#181818;stroke-width:1.5;\" width=\"12\" x=\"214\" y=\"232.86\"/><text fill=\"#000000\" font-family=\"sans-serif\" font-size=\"14\" lengthAdjust=\"spacing\" textLength=\"44\" x=\"241\" y=\"217.5582\">porig1</text><rect fill=\"#FFFFFF\" height=\"12\" style=\"stroke:#181818;stroke-width:1.5;\" width=\"12\" x=\"261\" y=\"232.86\"/><text fill=\"#000000\" font-family=\"sans-serif\" font-size=\"14\" lengthAdjust=\"spacing\" textLength=\"27\" x=\"230.5\" y=\"166.3551\">po1</text><rect fill=\"#FFFFFF\" height=\"12\" style=\"stroke:#181818;stroke-width:1.5;\" width=\"12\" x=\"242\" y=\"141.36\"/><text fill=\"#000000\" font-family=\"sans-serif\" font-size=\"14\" lengthAdjust=\"spacing\" textLength=\"40\" x=\"97\" y=\"178.0582\">pdest</text><rect fill=\"#FFFFFF\" height=\"12\" style=\"stroke:#181818;stroke-width:1.5;\" width=\"12\" x=\"115\" y=\"193.36\"/><text fill=\"#000000\" font-family=\"sans-serif\" font-size=\"14\" lengthAdjust=\"spacing\" textLength=\"40\" x=\"144\" y=\"178.0582\">pdest</text><rect fill=\"#FFFFFF\" height=\"12\" style=\"stroke:#181818;stroke-width:1.5;\" width=\"12\" x=\"162\" y=\"193.36\"/><!--MD5=[a717450b82c80b9240a525fa862496af]\n",
       "link E6 to E3--><g id=\"link_E6_E3\"><a href=\"psysml:515868c5-6015-4da5-b3ff-32117e872914\" target=\"_top\" title=\"psysml:515868c5-6015-4da5-b3ff-32117e872914\" xlink:actuate=\"onRequest\" xlink:href=\"psysml:515868c5-6015-4da5-b3ff-32117e872914\" xlink:show=\"new\" xlink:title=\"psysml:515868c5-6015-4da5-b3ff-32117e872914\" xlink:type=\"simple\"><path d=\"M297.25,147.8973 C297.25,152.7055 297.25,157.6619 297.25,162.7244 C297.25,172.8493 297.25,183.3984 297.25,194.0338 C297.25,199.3514 297.25,204.6906 297.25,210.0091 C297.25,212.6683 297.25,215.3224 297.25,217.966 C297.25,219.2878 297.25,220.607 297.25,221.9229 C297.25,222.5809 297.25,223.238 297.25,223.8943 C297.25,224.0583 297.25,224.2223 297.25,224.3863 \" fill=\"none\" id=\"E6-to-E3\" style=\"stroke:#181818;stroke-width:1.0;\"/><polygon fill=\"#FFFFFF\" points=\"297.25,224.3863,290.25,205.3863,304.25,205.3863,297.25,224.3863\" style=\"stroke:#181818;stroke-width:1.0;\"/><ellipse cx=\"292.25\" cy=\"199.6863\" fill=\"#181818\" rx=\"2\" ry=\"2\" style=\"stroke:#181818;stroke-width:1.0;\"/><ellipse cx=\"302.25\" cy=\"199.6863\" fill=\"#181818\" rx=\"2\" ry=\"2\" style=\"stroke:#181818;stroke-width:1.0;\"/></a></g><!--MD5=[95fa686b5a16158bcdbcaeead89f639b]\n",
       "link E8 to E3--><g id=\"link_E8_E3\"><a href=\"psysml:e2fe589c-f14e-47a5-aaf0-9a8ebd450a7c\" target=\"_top\" title=\"psysml:e2fe589c-f14e-47a5-aaf0-9a8ebd450a7c\" xlink:actuate=\"onRequest\" xlink:href=\"psysml:e2fe589c-f14e-47a5-aaf0-9a8ebd450a7c\" xlink:show=\"new\" xlink:title=\"psysml:e2fe589c-f14e-47a5-aaf0-9a8ebd450a7c\" xlink:type=\"simple\"><path d=\"M126,272.6308 C126,272.7574 126,272.8841 126,273.0108 C126,273.2644 126,273.5183 126,273.7726 C126,274.2811 126,274.791 126,275.302 C126,277.3461 126,279.4074 126,281.466 C126,285.583 126,289.6891 126,293.6238 C126,309.3625 126,322.36 126,322.36 C126,322.36 141.0175,322.36 161.5487,322.36 C171.8144,322.36 183.4584,322.36 195.293,322.36 C198.2516,322.36 201.2221,322.36 204.186,322.36 C204.5565,322.36 204.9269,322.36 205.2971,322.36 C205.4822,322.36 205.6673,322.36 205.8524,322.36 \" fill=\"none\" id=\"E8-to-E3\" style=\"stroke:#181818;stroke-width:1.0;\"/><polygon fill=\"#FFFFFF\" points=\"205.8524,322.36,186.8524,329.36,186.8524,315.36,205.8524,322.36\" style=\"stroke:#181818;stroke-width:1.0;\"/><ellipse cx=\"181.1524\" cy=\"327.36\" fill=\"#181818\" rx=\"2\" ry=\"2\" style=\"stroke:#181818;stroke-width:1.0;\"/><ellipse cx=\"181.1524\" cy=\"317.36\" fill=\"#181818\" rx=\"2\" ry=\"2\" style=\"stroke:#181818;stroke-width:1.0;\"/></a></g><!--MD5=[1c0b9414cc86e0744215edee6abd8926]\n",
       "link E7 to E9--><g id=\"link_E7_E9\"><a href=\"psysml:f1f85c24-6beb-4ed4-abfc-161aeb53ad8b\" target=\"_top\" title=\"psysml:f1f85c24-6beb-4ed4-abfc-161aeb53ad8b\" xlink:actuate=\"onRequest\" xlink:href=\"psysml:f1f85c24-6beb-4ed4-abfc-161aeb53ad8b\" xlink:show=\"new\" xlink:title=\"psysml:f1f85c24-6beb-4ed4-abfc-161aeb53ad8b\" xlink:type=\"simple\"><path d=\"M241.78,145.36 C216.01,145.36 119,145.36 119,145.36 C119,145.36 119,178.98 119,193.17 \" fill=\"none\" id=\"E7-E9\" style=\"stroke:#181818;stroke-width:3.0;\"/></a></g><!--MD5=[1c0b9414cc86e0744215edee6abd8926]\n",
       "link E7 to E9--><g id=\"link_E7_E9\"><a href=\"psysml:92c8a956-0030-45f2-8c30-896629fb0abd\" target=\"_top\" title=\"psysml:92c8a956-0030-45f2-8c30-896629fb0abd\" xlink:actuate=\"onRequest\" xlink:href=\"psysml:92c8a956-0030-45f2-8c30-896629fb0abd\" xlink:show=\"new\" xlink:title=\"psysml:92c8a956-0030-45f2-8c30-896629fb0abd\" xlink:type=\"simple\"><path d=\"M241.97,149.36 C217,149.36 123,149.36 123,149.36 C123,149.36 123,179.88 123,193.23 \" fill=\"none\" id=\"E7-E9-1\" style=\"stroke:#181818;stroke-width:3.0;\"/></a></g><!--MD5=[1707321c12bc2f7b9d137ba51dfd9df8]\n",
       "@startuml\r\n",
       "skin sysmlbw\r\n",
       "skinparam monochrome true\r\n",
       "skinparam wrapWidth 300\r\n",
       "hide circle\r\n",
       "skinparam linetype ortho\r\n",
       "skinparam ranksep 10\r\n",
       "skinparam rectangle {\r\n",
       " backgroundColor<<block>> LightGreen\r\n",
       "}\r\n",
       "\r\n",
       "package \"AliasTest\" as E1  [[psysml:a1c2986a-a425-4687-93ae-51674f2ada97 ]]  {\r\n",
       "comp usage \"b :>ISQSpaceTime::width \" as E2  <<(T,blue) attribute>> [[psysml:f27707b2-90f2-4671-96dd-49a3cebd999e ]] {\r\n",
       "}\r\n",
       "rec def \"P1\" as E3  <<(T,blue) part  def>> [[psysml:d64d4abf-692a-4b0a-b1a7-ca6bfa2152dc ]] {\r\n",
       "portin \"porig1  \" as E4  <<(T,blue) port>> [[psysml:61764694-1d1c-48ba-adaa-4bba53d3d30f ]] \r\n",
       "portin \"porig1  \" as E5  <<(T,blue) port>> [[psysml:61764694-1d1c-48ba-adaa-4bba53d3d30f ]] \r\n",
       "}\r\n",
       "rec usage \"p1: P1\" as E6 [[psysml:e8b71076-5181-45d8-952d-6c6c3b8ab27b ]] {\r\n",
       "portout \"po1  \" as E7  <<(T,blue) port>> [[psysml:d614f44e-5180-4509-9cc1-1632afa7b11f ]] \r\n",
       "}\r\n",
       "rec usage \"p2: P1\" as E8 [[psysml:8277226e-c173-411e-8d8e-d31bb811c94b ]] {\r\n",
       "portin \"pdest  \" as E9  <<(T,blue) port>> [[psysml:88f12717-b335-4bfa-a952-2b65a00cb7af ]] \r\n",
       "portin \"pdest  \" as E10  <<(T,blue) port>> [[psysml:88f12717-b335-4bfa-a952-2b65a00cb7af ]] \r\n",
       "}\r\n",
       "}\r\n",
       "E6 - -:|> E3 [[psysml:515868c5-6015-4da5-b3ff-32117e872914 ]] \r\n",
       "E8 - -:|> E3 [[psysml:e2fe589c-f14e-47a5-aaf0-9a8ebd450a7c ]] \r\n",
       "E7 -[thickness=3]- E9 [[psysml:f1f85c24-6beb-4ed4-abfc-161aeb53ad8b ]] \r\n",
       "E7 -[thickness=3]- E9 [[psysml:92c8a956-0030-45f2-8c30-896629fb0abd ]] \r\n",
       "@enduml\r\n",
       "\n",
       "PlantUML version 1.2022.7(Mon Aug 22 17:01:30 UTC 2022)\n",
       "(EPL source distribution)\n",
       "Java Runtime: OpenJDK Runtime Environment\n",
       "JVM: OpenJDK 64-Bit Server VM\n",
       "Default Encoding: UTF-8\n",
       "Language: en\n",
       "Country: null\n",
       "--></g></svg>"
      ]
     },
     "execution_count": 54,
     "metadata": {},
     "output_type": "execute_result"
    }
   ],
   "source": [
    "%viz --style=\"ORTHOLINE\" --view=\"Interconnection\" \"AliasTest\""
   ]
  },
  {
   "cell_type": "code",
   "execution_count": 55,
   "id": "6b15e476",
   "metadata": {
    "execution": {
     "iopub.execute_input": "2024-12-16T03:25:15.136117Z",
     "iopub.status.busy": "2024-12-16T03:25:15.135814Z",
     "iopub.status.idle": "2024-12-16T03:25:15.140269Z",
     "shell.execute_reply": "2024-12-16T03:25:15.140081Z"
    }
   },
   "outputs": [
    {
     "data": {
      "image/svg+xml": [
       "<?xml version=\"1.0\" encoding=\"UTF-8\" standalone=\"no\"?><svg xmlns=\"http://www.w3.org/2000/svg\" xmlns:xlink=\"http://www.w3.org/1999/xlink\" contentStyleType=\"text/css\" height=\"10px\" preserveAspectRatio=\"none\" style=\"width:10px;height:10px;background:#FFFFFF;\" version=\"1.1\" viewBox=\"0 0 10 10\" width=\"10px\" zoomAndPan=\"magnify\"><defs/><g><!--MD5=[13654d10b9e2b79db36f00fd31e63fb2]\n",
       "@startuml\r\n",
       "skin sysmlbw\r\n",
       "skinparam monochrome true\r\n",
       "skinparam wrapWidth 300\r\n",
       "hide circle\r\n",
       "skinparam linetype ortho\r\n",
       "skinparam ranksep 8\r\n",
       "\r\n",
       "@enduml\r\n",
       "\n",
       "PlantUML version 1.2022.7(Mon Aug 22 17:01:30 UTC 2022)\n",
       "(EPL source distribution)\n",
       "Java Runtime: OpenJDK Runtime Environment\n",
       "JVM: OpenJDK 64-Bit Server VM\n",
       "Default Encoding: UTF-8\n",
       "Language: en\n",
       "Country: null\n",
       "--></g></svg>"
      ]
     },
     "execution_count": 55,
     "metadata": {},
     "output_type": "execute_result"
    }
   ],
   "source": [
    "%viz --style=\"ORTHOLINE\" --view=\"Action\" \"AliasTest\""
   ]
  },
  {
   "cell_type": "code",
   "execution_count": 56,
   "id": "ce5b457a",
   "metadata": {
    "execution": {
     "iopub.execute_input": "2024-12-16T03:25:15.192271Z",
     "iopub.status.busy": "2024-12-16T03:25:15.192059Z",
     "iopub.status.idle": "2024-12-16T03:25:15.196711Z",
     "shell.execute_reply": "2024-12-16T03:25:15.196540Z"
    }
   },
   "outputs": [
    {
     "data": {
      "image/svg+xml": [
       "<?xml version=\"1.0\" encoding=\"UTF-8\" standalone=\"no\"?><svg xmlns=\"http://www.w3.org/2000/svg\" xmlns:xlink=\"http://www.w3.org/1999/xlink\" contentStyleType=\"text/css\" height=\"10px\" preserveAspectRatio=\"none\" style=\"width:10px;height:10px;background:#FFFFFF;\" version=\"1.1\" viewBox=\"0 0 10 10\" width=\"10px\" zoomAndPan=\"magnify\"><defs/><g><!--MD5=[5b6eb85285460e34b0e63326afe72cc5]\n",
       "@startuml\r\n",
       "skin sysmlbw\r\n",
       "skinparam monochrome true\r\n",
       "skinparam wrapWidth 300\r\n",
       "hide circle\r\n",
       "skinparam linetype ortho\r\n",
       "skinparam roundcorner 20\r\n",
       "skinparam BoxPadding 20\r\n",
       "skinparam SequenceBoxBackgroundColor #white\r\n",
       "skinparam style strictuml\r\n",
       "skinparam maxMessageSize 100\r\n",
       "\r\n",
       "@enduml\r\n",
       "\n",
       "PlantUML version 1.2022.7(Mon Aug 22 17:01:30 UTC 2022)\n",
       "(EPL source distribution)\n",
       "Java Runtime: OpenJDK Runtime Environment\n",
       "JVM: OpenJDK 64-Bit Server VM\n",
       "Default Encoding: UTF-8\n",
       "Language: en\n",
       "Country: null\n",
       "--></g></svg>"
      ]
     },
     "execution_count": 56,
     "metadata": {},
     "output_type": "execute_result"
    }
   ],
   "source": [
    "%viz --style=\"ORTHOLINE\" --view=\"Sequence\" \"AliasTest\""
   ]
  },
  {
   "cell_type": "code",
   "execution_count": 57,
   "id": "6b89bd8c",
   "metadata": {
    "execution": {
     "iopub.execute_input": "2024-12-16T03:25:15.252255Z",
     "iopub.status.busy": "2024-12-16T03:25:15.252041Z",
     "iopub.status.idle": "2024-12-16T03:25:15.273104Z",
     "shell.execute_reply": "2024-12-16T03:25:15.272907Z"
    }
   },
   "outputs": [
    {
     "data": {
      "image/svg+xml": [
       "<?xml version=\"1.0\" encoding=\"UTF-8\" standalone=\"no\"?><svg xmlns=\"http://www.w3.org/2000/svg\" xmlns:xlink=\"http://www.w3.org/1999/xlink\" contentStyleType=\"text/css\" height=\"382px\" preserveAspectRatio=\"none\" style=\"width:440px;height:382px;background:#FFFFFF;\" version=\"1.1\" viewBox=\"0 0 440 382\" width=\"440px\" zoomAndPan=\"magnify\"><defs/><g><!--MD5=[fbc87193dbaf4d95561dea2c320d4a47]\n",
       "cluster E1--><g id=\"cluster_E1\"><a href=\"psysml:a1c2986a-a425-4687-93ae-51674f2ada97\" target=\"_top\" title=\"psysml:a1c2986a-a425-4687-93ae-51674f2ada97\" xlink:actuate=\"onRequest\" xlink:href=\"psysml:a1c2986a-a425-4687-93ae-51674f2ada97\" xlink:show=\"new\" xlink:title=\"psysml:a1c2986a-a425-4687-93ae-51674f2ada97\" xlink:type=\"simple\"><polygon fill=\"none\" points=\"16,6,87.9375,6,94.9375,28.2969,423,28.2969,423,375,16,375,16,6\" style=\"stroke:#000000;stroke-width:1.5;\"/><line style=\"stroke:#000000;stroke-width:1.5;\" x1=\"16\" x2=\"94.9375\" y1=\"28.2969\" y2=\"28.2969\"/><text fill=\"#000000\" font-family=\"sans-serif\" font-size=\"14\" font-weight=\"bold\" lengthAdjust=\"spacing\" textLength=\"65.9375\" x=\"20\" y=\"20.9951\">AliasTest</text></a></g><!--MD5=[b4997ac47864f28c2f74865a473b2911]\n",
       "class E2--><a href=\"psysml:f27707b2-90f2-4671-96dd-49a3cebd999e\" target=\"_top\" title=\"psysml:f27707b2-90f2-4671-96dd-49a3cebd999e\" xlink:actuate=\"onRequest\" xlink:href=\"psysml:f27707b2-90f2-4671-96dd-49a3cebd999e\" xlink:show=\"new\" xlink:title=\"psysml:f27707b2-90f2-4671-96dd-49a3cebd999e\" xlink:type=\"simple\"><g id=\"elem_E2\"><rect fill=\"#FFFFFF\" height=\"48.2656\" id=\"E2\" rx=\"10\" ry=\"10\" style=\"stroke:#181818;stroke-width:0.5;\" width=\"187\" x=\"220.5\" y=\"54.5\"/><text fill=\"#000000\" font-family=\"sans-serif\" font-size=\"12\" font-style=\"italic\" lengthAdjust=\"spacing\" textLength=\"69\" x=\"279.5\" y=\"70.6387\">«attribute»</text><text fill=\"#000000\" font-family=\"sans-serif\" font-size=\"14\" lengthAdjust=\"spacing\" textLength=\"177\" x=\"223.5\" y=\"86.4639\">b :&gt;ISQSpaceTime::width</text><line style=\"stroke:#181818;stroke-width:0.5;\" x1=\"221.5\" x2=\"406.5\" y1=\"94.7656\" y2=\"94.7656\"/></g></a><!--MD5=[09b614a08d8cba4a07c9adeb5e0fee81]\n",
       "class E3--><a href=\"psysml:d64d4abf-692a-4b0a-b1a7-ca6bfa2152dc\" target=\"_top\" title=\"psysml:d64d4abf-692a-4b0a-b1a7-ca6bfa2152dc\" xlink:actuate=\"onRequest\" xlink:href=\"psysml:d64d4abf-692a-4b0a-b1a7-ca6bfa2152dc\" xlink:show=\"new\" xlink:title=\"psysml:d64d4abf-692a-4b0a-b1a7-ca6bfa2152dc\" xlink:type=\"simple\"><g id=\"elem_E3\"><rect fill=\"#FFFFFF\" height=\"75.0813\" id=\"E3\" style=\"stroke:#181818;stroke-width:0.5;\" width=\"70\" x=\"160\" y=\"176\"/><text fill=\"#000000\" font-family=\"sans-serif\" font-size=\"12\" font-style=\"italic\" lengthAdjust=\"spacing\" textLength=\"68\" x=\"161\" y=\"192.1387\">«part  def»</text><text fill=\"#000000\" font-family=\"sans-serif\" font-size=\"14\" lengthAdjust=\"spacing\" textLength=\"18\" x=\"186\" y=\"207.9639\">P1</text><line style=\"stroke:#181818;stroke-width:0.5;\" x1=\"161\" x2=\"229\" y1=\"216.2656\" y2=\"216.2656\"/><text fill=\"#000000\" font-family=\"sans-serif\" font-size=\"14\" lengthAdjust=\"spacing\" textLength=\"44\" x=\"166\" y=\"243.7795\">porig1</text><text fill=\"#000000\" font-family=\"sans-serif\" font-size=\"14\" font-style=\"italic\" lengthAdjust=\"spacing\" textLength=\"36\" x=\"177\" y=\"228.6123\">ports</text></g></a><!--MD5=[ebbe1d658d1005bcc118a6aa81145e00]\n",
       "class E4--><a href=\"psysml:61764694-1d1c-48ba-adaa-4bba53d3d30f\" target=\"_top\" title=\"psysml:61764694-1d1c-48ba-adaa-4bba53d3d30f\" xlink:actuate=\"onRequest\" xlink:href=\"psysml:61764694-1d1c-48ba-adaa-4bba53d3d30f\" xlink:show=\"new\" xlink:title=\"psysml:61764694-1d1c-48ba-adaa-4bba53d3d30f\" xlink:type=\"simple\"><g id=\"elem_E4\"><rect fill=\"#FFFFFF\" height=\"48.2656\" id=\"E4\" rx=\"10\" ry=\"10\" style=\"stroke:#181818;stroke-width:0.5;\" width=\"58\" x=\"166\" y=\"311\"/><text fill=\"#000000\" font-family=\"sans-serif\" font-size=\"12\" font-style=\"italic\" lengthAdjust=\"spacing\" textLength=\"40\" x=\"175\" y=\"327.1387\">«port»</text><text fill=\"#000000\" font-family=\"sans-serif\" font-size=\"14\" lengthAdjust=\"spacing\" textLength=\"44\" x=\"169\" y=\"342.9639\">porig1</text><line style=\"stroke:#181818;stroke-width:0.5;\" x1=\"167\" x2=\"223\" y1=\"351.2656\" y2=\"351.2656\"/></g></a><!--MD5=[270fce915f116d4de14055a7c1d9a0f3]\n",
       "class E5--><a href=\"psysml:e8b71076-5181-45d8-952d-6c6c3b8ab27b\" target=\"_top\" title=\"psysml:e8b71076-5181-45d8-952d-6c6c3b8ab27b\" xlink:actuate=\"onRequest\" xlink:href=\"psysml:e8b71076-5181-45d8-952d-6c6c3b8ab27b\" xlink:show=\"new\" xlink:title=\"psysml:e8b71076-5181-45d8-952d-6c6c3b8ab27b\" xlink:type=\"simple\"><g id=\"elem_E5\"><rect fill=\"#FFFFFF\" height=\"48.2656\" id=\"E5\" rx=\"10\" ry=\"10\" style=\"stroke:#181818;stroke-width:0.5;\" width=\"59\" x=\"126.5\" y=\"54.5\"/><text fill=\"#000000\" font-family=\"sans-serif\" font-size=\"12\" font-style=\"italic\" lengthAdjust=\"spacing\" textLength=\"40\" x=\"136\" y=\"70.6387\">«part»</text><text fill=\"#000000\" font-family=\"sans-serif\" font-size=\"14\" lengthAdjust=\"spacing\" textLength=\"45\" x=\"129.5\" y=\"86.4639\">p1: P1</text><line style=\"stroke:#181818;stroke-width:0.5;\" x1=\"127.5\" x2=\"184.5\" y1=\"94.7656\" y2=\"94.7656\"/></g></a><!--MD5=[60a26617385b1d2d0262a64233df1f8d]\n",
       "class E6--><a href=\"psysml:d614f44e-5180-4509-9cc1-1632afa7b11f\" target=\"_top\" title=\"psysml:d614f44e-5180-4509-9cc1-1632afa7b11f\" xlink:actuate=\"onRequest\" xlink:href=\"psysml:d614f44e-5180-4509-9cc1-1632afa7b11f\" xlink:show=\"new\" xlink:title=\"psysml:d614f44e-5180-4509-9cc1-1632afa7b11f\" xlink:type=\"simple\"><g id=\"elem_E6\"><rect fill=\"#FFFFFF\" height=\"48.2656\" id=\"E6\" rx=\"10\" ry=\"10\" style=\"stroke:#181818;stroke-width:0.5;\" width=\"42\" x=\"83\" y=\"189.5\"/><text fill=\"#000000\" font-family=\"sans-serif\" font-size=\"12\" font-style=\"italic\" lengthAdjust=\"spacing\" textLength=\"40\" x=\"84\" y=\"205.6387\">«port»</text><text fill=\"#000000\" font-family=\"sans-serif\" font-size=\"14\" lengthAdjust=\"spacing\" textLength=\"27\" x=\"86.5\" y=\"221.4639\">po1</text><line style=\"stroke:#181818;stroke-width:0.5;\" x1=\"84\" x2=\"124\" y1=\"229.7656\" y2=\"229.7656\"/></g></a><!--MD5=[2156ba9850f5573cc1fc38a6a4b2f02b]\n",
       "class E7--><a href=\"psysml:8277226e-c173-411e-8d8e-d31bb811c94b\" target=\"_top\" title=\"psysml:8277226e-c173-411e-8d8e-d31bb811c94b\" xlink:actuate=\"onRequest\" xlink:href=\"psysml:8277226e-c173-411e-8d8e-d31bb811c94b\" xlink:show=\"new\" xlink:title=\"psysml:8277226e-c173-411e-8d8e-d31bb811c94b\" xlink:type=\"simple\"><g id=\"elem_E7\"><rect fill=\"#FFFFFF\" height=\"75.0813\" id=\"E7\" rx=\"10\" ry=\"10\" style=\"stroke:#181818;stroke-width:0.5;\" width=\"59\" x=\"32.5\" y=\"41\"/><text fill=\"#000000\" font-family=\"sans-serif\" font-size=\"12\" font-style=\"italic\" lengthAdjust=\"spacing\" textLength=\"40\" x=\"42\" y=\"57.1387\">«part»</text><text fill=\"#000000\" font-family=\"sans-serif\" font-size=\"14\" lengthAdjust=\"spacing\" textLength=\"45\" x=\"35.5\" y=\"72.9639\">p2: P1</text><line style=\"stroke:#181818;stroke-width:0.5;\" x1=\"33.5\" x2=\"90.5\" y1=\"81.2656\" y2=\"81.2656\"/><text fill=\"#000000\" font-family=\"sans-serif\" font-size=\"14\" lengthAdjust=\"spacing\" textLength=\"40\" x=\"38.5\" y=\"108.7795\">pdest</text><text fill=\"#000000\" font-family=\"sans-serif\" font-size=\"14\" font-style=\"italic\" lengthAdjust=\"spacing\" textLength=\"36\" x=\"44\" y=\"93.6123\">ports</text></g></a><!--MD5=[b9389687b975829384b498ac4b7476b2]\n",
       "class E8--><a href=\"psysml:88f12717-b335-4bfa-a952-2b65a00cb7af\" target=\"_top\" title=\"psysml:88f12717-b335-4bfa-a952-2b65a00cb7af\" xlink:actuate=\"onRequest\" xlink:href=\"psysml:88f12717-b335-4bfa-a952-2b65a00cb7af\" xlink:show=\"new\" xlink:title=\"psysml:88f12717-b335-4bfa-a952-2b65a00cb7af\" xlink:type=\"simple\"><g id=\"elem_E8\"><rect fill=\"#FFFFFF\" height=\"48.2656\" id=\"E8\" rx=\"10\" ry=\"10\" style=\"stroke:#181818;stroke-width:0.5;\" width=\"54\" x=\"77\" y=\"311\"/><text fill=\"#000000\" font-family=\"sans-serif\" font-size=\"12\" font-style=\"italic\" lengthAdjust=\"spacing\" textLength=\"40\" x=\"84\" y=\"327.1387\">«port»</text><text fill=\"#000000\" font-family=\"sans-serif\" font-size=\"14\" lengthAdjust=\"spacing\" textLength=\"40\" x=\"80\" y=\"342.9639\">pdest</text><line style=\"stroke:#181818;stroke-width:0.5;\" x1=\"78\" x2=\"130\" y1=\"351.2656\" y2=\"351.2656\"/></g></a><!--MD5=[4672eba38e49728da53d11aeb285b987]\n",
       "reverse link E3 to E4--><g id=\"link_E3_E4\"><a href=\"psysml:9ff7bfb9-db47-4597-ac60-7f24b5e1b5c0\" target=\"_top\" title=\"psysml:9ff7bfb9-db47-4597-ac60-7f24b5e1b5c0\" xlink:actuate=\"onRequest\" xlink:href=\"psysml:9ff7bfb9-db47-4597-ac60-7f24b5e1b5c0\" xlink:show=\"new\" xlink:title=\"psysml:9ff7bfb9-db47-4597-ac60-7f24b5e1b5c0\" xlink:type=\"simple\"><path d=\"M195,264.28 C195,264.28 195,310.66 195,310.66 \" fill=\"none\" id=\"E3-backto-E4\" style=\"stroke:#181818;stroke-width:1.0;\"/><polygon fill=\"none\" points=\"195,251.28,191,257.28,195,263.28,199,257.28,195,251.28\" style=\"stroke:#181818;stroke-width:1.0;\"/></a></g><!--MD5=[e9be52314489bd878ff4c7144b63c9e1]\n",
       "link E5 to E3--><g id=\"link_E5_E3\"><a href=\"psysml:515868c5-6015-4da5-b3ff-32117e872914\" target=\"_top\" title=\"psysml:515868c5-6015-4da5-b3ff-32117e872914\" xlink:actuate=\"onRequest\" xlink:href=\"psysml:515868c5-6015-4da5-b3ff-32117e872914\" xlink:show=\"new\" xlink:title=\"psysml:515868c5-6015-4da5-b3ff-32117e872914\" xlink:type=\"simple\"><path d=\"M172.75,102.64 C172.75,102.64 172.75,155.81 172.75,155.81 \" fill=\"none\" id=\"E5-to-E3\" style=\"stroke:#181818;stroke-width:1.0;\"/><polygon fill=\"#FFFFFF\" points=\"172.75,175.81,165.75,156.81,179.75,156.81,172.75,175.81\" style=\"stroke:#181818;stroke-width:1.0;\"/><ellipse cx=\"167.75\" cy=\"151.11\" fill=\"#181818\" rx=\"2\" ry=\"2\" style=\"stroke:#181818;stroke-width:1.0;\"/><ellipse cx=\"177.75\" cy=\"151.11\" fill=\"#181818\" rx=\"2\" ry=\"2\" style=\"stroke:#181818;stroke-width:1.0;\"/></a></g><!--MD5=[85d356282659285ab4b2cfe2f634dd2b]\n",
       "reverse link E5 to E6--><g id=\"link_E5_E6\"><a href=\"psysml:1a5e094c-b062-4a12-bd0e-4269385c32ea\" target=\"_top\" title=\"psysml:1a5e094c-b062-4a12-bd0e-4269385c32ea\" xlink:actuate=\"onRequest\" xlink:href=\"psysml:1a5e094c-b062-4a12-bd0e-4269385c32ea\" xlink:show=\"new\" xlink:title=\"psysml:1a5e094c-b062-4a12-bd0e-4269385c32ea\" xlink:type=\"simple\"><path d=\"M113.3,79 C113.3,79 108.25,79 108.25,79 C108.25,79 108.25,150.77 108.25,189.45 \" fill=\"none\" id=\"E5-backto-E6\" style=\"stroke:#181818;stroke-width:1.0;\"/><polygon fill=\"none\" points=\"126.3,79,120.3,75,114.3,79,120.3,83,126.3,79\" style=\"stroke:#181818;stroke-width:1.0;\"/></a></g><!--MD5=[f667431f98296947986a1a7595a31603]\n",
       "link E6 to E4--><g id=\"link_E6_E4\"><a href=\"psysml:70307247-8a04-4365-8b78-a7ff4bcf8dda\" target=\"_top\" title=\"psysml:70307247-8a04-4365-8b78-a7ff4bcf8dda\" xlink:actuate=\"onRequest\" xlink:href=\"psysml:70307247-8a04-4365-8b78-a7ff4bcf8dda\" xlink:show=\"new\" xlink:title=\"psysml:70307247-8a04-4365-8b78-a7ff4bcf8dda\" xlink:type=\"simple\"><path d=\"M125.24,214 C135.45,214 145.5,214 145.5,214 C145.5,214 145.5,335 145.5,335 C145.5,335 147.54,335 147.54,335 \" fill=\"none\" id=\"E6-to-E4\" style=\"stroke:#181818;stroke-width:1.0;\"/><polygon fill=\"#FFFFFF\" points=\"165.92,335,146.92,342,146.92,328,165.92,335\" style=\"stroke:#181818;stroke-width:1.0;\"/><line style=\"stroke:#181818;stroke-width:2.0;\" x1=\"143.12\" x2=\"143.12\" y1=\"342\" y2=\"328\"/></a></g><!--MD5=[14ccda38c055a5c0da953d572bc50960]\n",
       "link E7 to E3--><g id=\"link_E7_E3\"><a href=\"psysml:e2fe589c-f14e-47a5-aaf0-9a8ebd450a7c\" target=\"_top\" title=\"psysml:e2fe589c-f14e-47a5-aaf0-9a8ebd450a7c\" xlink:actuate=\"onRequest\" xlink:href=\"psysml:e2fe589c-f14e-47a5-aaf0-9a8ebd450a7c\" xlink:show=\"new\" xlink:title=\"psysml:e2fe589c-f14e-47a5-aaf0-9a8ebd450a7c\" xlink:type=\"simple\"><path d=\"M87.25,116.23 C87.25,146.16 87.25,183 87.25,183 C87.25,183 139.72,183 139.72,183 \" fill=\"none\" id=\"E7-to-E3\" style=\"stroke:#181818;stroke-width:1.0;\"/><polygon fill=\"#FFFFFF\" points=\"159.72,183,140.72,190,140.72,176,159.72,183\" style=\"stroke:#181818;stroke-width:1.0;\"/><ellipse cx=\"135.02\" cy=\"188\" fill=\"#181818\" rx=\"2\" ry=\"2\" style=\"stroke:#181818;stroke-width:1.0;\"/><ellipse cx=\"135.02\" cy=\"178\" fill=\"#181818\" rx=\"2\" ry=\"2\" style=\"stroke:#181818;stroke-width:1.0;\"/></a></g><!--MD5=[dc164f5e8a733ab456ef1add180e9e34]\n",
       "reverse link E7 to E8--><g id=\"link_E7_E8\"><a href=\"psysml:ca64ac56-097c-4feb-943f-895d8fc6b637\" target=\"_top\" title=\"psysml:ca64ac56-097c-4feb-943f-895d8fc6b637\" xlink:actuate=\"onRequest\" xlink:href=\"psysml:ca64ac56-097c-4feb-943f-895d8fc6b637\" xlink:show=\"new\" xlink:title=\"psysml:ca64ac56-097c-4feb-943f-895d8fc6b637\" xlink:type=\"simple\"><path d=\"M54.75,129.07 C54.75,129.07 54.75,335 54.75,335 C54.75,335 65.39,335 76.78,335 \" fill=\"none\" id=\"E7-backto-E8\" style=\"stroke:#181818;stroke-width:1.0;\"/><polygon fill=\"none\" points=\"54.75,116.07,50.75,122.07,54.75,128.07,58.75,122.07,54.75,116.07\" style=\"stroke:#181818;stroke-width:1.0;\"/></a></g><!--MD5=[0a839d0f80c2d72d4b9b307f046d0de8]\n",
       "link E6 to E8--><g id=\"link_E6_E8\"><a href=\"psysml:f1f85c24-6beb-4ed4-abfc-161aeb53ad8b\" target=\"_top\" title=\"psysml:f1f85c24-6beb-4ed4-abfc-161aeb53ad8b\" xlink:actuate=\"onRequest\" xlink:href=\"psysml:f1f85c24-6beb-4ed4-abfc-161aeb53ad8b\" xlink:show=\"new\" xlink:title=\"psysml:f1f85c24-6beb-4ed4-abfc-161aeb53ad8b\" xlink:type=\"simple\"><path d=\"M97,237.5 C97,258.67 97,289.36 97,310.63 \" fill=\"none\" id=\"E6-E8\" style=\"stroke:#181818;stroke-width:3.0;\"/></a></g><!--MD5=[0a839d0f80c2d72d4b9b307f046d0de8]\n",
       "link E6 to E8--><g id=\"link_E6_E8\"><a href=\"psysml:92c8a956-0030-45f2-8c30-896629fb0abd\" target=\"_top\" title=\"psysml:92c8a956-0030-45f2-8c30-896629fb0abd\" xlink:actuate=\"onRequest\" xlink:href=\"psysml:92c8a956-0030-45f2-8c30-896629fb0abd\" xlink:show=\"new\" xlink:title=\"psysml:92c8a956-0030-45f2-8c30-896629fb0abd\" xlink:type=\"simple\"><path d=\"M111,237.5 C111,258.67 111,289.36 111,310.63 \" fill=\"none\" id=\"E6-E8-1\" style=\"stroke:#181818;stroke-width:3.0;\"/></a></g><!--MD5=[e0b7b841373110b701f93e39a4e1c9bd]\n",
       "@startuml\r\n",
       "skin sysmlbw\r\n",
       "skinparam monochrome true\r\n",
       "skinparam wrapWidth 300\r\n",
       "hide circle\r\n",
       "skinparam linetype ortho\r\n",
       "\r\n",
       "package \"AliasTest\" as E1  [[psysml:a1c2986a-a425-4687-93ae-51674f2ada97 ]]  {\r\n",
       "comp usage \"b :>ISQSpaceTime::width \" as E2  <<(T,blue) attribute>> [[psysml:f27707b2-90f2-4671-96dd-49a3cebd999e ]] {\r\n",
       "}\r\n",
       "comp def \"P1\" as E3  <<(T,blue) part  def>> [[psysml:d64d4abf-692a-4b0a-b1a7-ca6bfa2152dc ]] {\r\n",
       "##//ports//##\r\n",
       "porig1\r\n",
       "}\r\n",
       "comp usage \"porig1  \" as E4  <<(T,blue) port>> [[psysml:61764694-1d1c-48ba-adaa-4bba53d3d30f ]] {\r\n",
       "}\r\n",
       "comp usage \"p1: P1  \" as E5  <<(T,blue) part>> [[psysml:e8b71076-5181-45d8-952d-6c6c3b8ab27b ]] {\r\n",
       "}\r\n",
       "comp usage \"po1  \" as E6  <<(T,blue) port>> [[psysml:d614f44e-5180-4509-9cc1-1632afa7b11f ]] {\r\n",
       "}\r\n",
       "comp usage \"p2: P1  \" as E7  <<(T,blue) part>> [[psysml:8277226e-c173-411e-8d8e-d31bb811c94b ]] {\r\n",
       "##//ports//##\r\n",
       "pdest\r\n",
       "}\r\n",
       "comp usage \"pdest  \" as E8  <<(T,blue) port>> [[psysml:88f12717-b335-4bfa-a952-2b65a00cb7af ]] {\r\n",
       "}\r\n",
       "}\r\n",
       "E3 o- - E4 [[psysml:9ff7bfb9-db47-4597-ac60-7f24b5e1b5c0 ]] \r\n",
       "E5 - -:|> E3 [[psysml:515868c5-6015-4da5-b3ff-32117e872914 ]] \r\n",
       "E5 o- - E6 [[psysml:1a5e094c-b062-4a12-bd0e-4269385c32ea ]] \r\n",
       "E6 - -||> E4 [[psysml:70307247-8a04-4365-8b78-a7ff4bcf8dda ]] \r\n",
       "E7 - -:|> E3 [[psysml:e2fe589c-f14e-47a5-aaf0-9a8ebd450a7c ]] \r\n",
       "E7 o- - E8 [[psysml:ca64ac56-097c-4feb-943f-895d8fc6b637 ]] \r\n",
       "E6 -[thickness=3]- E8 [[psysml:f1f85c24-6beb-4ed4-abfc-161aeb53ad8b ]] \r\n",
       "E6 -[thickness=3]- E8 [[psysml:92c8a956-0030-45f2-8c30-896629fb0abd ]] \r\n",
       "@enduml\r\n",
       "\n",
       "PlantUML version 1.2022.7(Mon Aug 22 17:01:30 UTC 2022)\n",
       "(EPL source distribution)\n",
       "Java Runtime: OpenJDK Runtime Environment\n",
       "JVM: OpenJDK 64-Bit Server VM\n",
       "Default Encoding: UTF-8\n",
       "Language: en\n",
       "Country: null\n",
       "--></g></svg>"
      ]
     },
     "execution_count": 57,
     "metadata": {},
     "output_type": "execute_result"
    }
   ],
   "source": [
    "%viz --style=\"ORTHOLINE\" --view=\"MIXED\" \"AliasTest\""
   ]
  }
 ],
 "metadata": {
  "kernelspec": {
   "display_name": "SysML",
   "language": "sysml",
   "name": "sysml"
  },
  "language_info": {
   "codemirror_mode": "sysml",
   "file_extension": ".sysml",
   "mimetype": "text/x-sysml",
   "name": "SysML",
   "pygments_lexer": "java",
   "version": "1.0.0"
  }
 },
 "nbformat": 4,
 "nbformat_minor": 5
}
