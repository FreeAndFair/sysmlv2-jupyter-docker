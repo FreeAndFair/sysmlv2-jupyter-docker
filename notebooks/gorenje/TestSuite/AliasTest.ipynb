{
 "cells": [
  {
   "cell_type": "markdown",
   "id": "cooperative-bench",
   "metadata": {},
   "source": [
    "# SysML v2 Test Suite\n",
    "\n",
    "This can notebook can be cleared using menu `Edit --> Clear All Outputs` and then all cells can be\n",
    "run using menu `Run --> Run All Cells`.\n",
    "\n",
    "**WARNING**: This file is generated, all modifications here will be ignored.\n"
   ]
  },
  {
   "cell_type": "markdown",
   "id": "injured-reverse",
   "metadata": {},
   "source": [
    "## File: ../../sysml/src/examples/Simple Tests/AliasTest.sysml"
   ]
  },
  {
   "cell_type": "code",
   "execution_count": 1,
   "id": "brave-mozambique",
   "metadata": {
    "execution": {
     "iopub.execute_input": "2021-03-25T13:15:07.230588Z",
     "iopub.status.busy": "2021-03-25T13:15:07.227357Z",
     "iopub.status.idle": "2021-03-25T13:15:07.834544Z",
     "shell.execute_reply": "2021-03-25T13:15:07.833494Z"
    }
   },
   "outputs": [
    {
     "data": {
      "text/plain": [
       "Package AliasTest (40222bb0-0a66-4a20-b368-cc30f363d956)\n"
      ]
     },
     "execution_count": 1,
     "metadata": {},
     "output_type": "execute_result"
    }
   ],
   "source": [
    "package AliasTest {\n",
    "    part def P1 {\n",
    "        port porig1;\n",
    "        alias porig1 as po1;\n",
    "    }\n",
    "\n",
    "    part p1 : P1 {\n",
    "        port po1 :>> po1;\n",
    "    }\n",
    "\n",
    "    part p2 : P1 {\n",
    "        port pdest;\n",
    "        alias pdest as pd1;\n",
    "    }\n",
    "\n",
    "\n",
    "    connect p1::po1 to p2::pdest;\n",
    "\tconnect p1::po1 to p2::pd1;\n",
    "}"
   ]
  },
  {
   "cell_type": "code",
   "execution_count": 2,
   "id": "instant-zoning",
   "metadata": {
    "execution": {
     "iopub.execute_input": "2021-03-25T13:15:07.886953Z",
     "iopub.status.busy": "2021-03-25T13:15:07.886119Z",
     "iopub.status.idle": "2021-03-25T13:15:10.509451Z",
     "shell.execute_reply": "2021-03-25T13:15:10.503074Z"
    }
   },
   "outputs": [
    {
     "data": {
      "image/svg+xml": [
       "<?xml version=\"1.0\" encoding=\"UTF-8\" standalone=\"no\"?><svg xmlns=\"http://www.w3.org/2000/svg\" xmlns:xlink=\"http://www.w3.org/1999/xlink\" contentScriptType=\"application/ecmascript\" contentStyleType=\"text/css\" height=\"293px\" preserveAspectRatio=\"none\" style=\"width:285px;height:293px;\" version=\"1.1\" viewBox=\"0 0 285 293\" width=\"285px\" zoomAndPan=\"magnify\"><defs/><g><!--MD5=[fbc87193dbaf4d95561dea2c320d4a47]\n",
       "cluster E1--><a href=\"psysml:d6640503-c03f-477e-b125-432046bb93b4\" target=\"_top\" title=\"psysml:d6640503-c03f-477e-b125-432046bb93b4\" xlink:actuate=\"onRequest\" xlink:href=\"psysml:d6640503-c03f-477e-b125-432046bb93b4\" xlink:show=\"new\" xlink:title=\"psysml:d6640503-c03f-477e-b125-432046bb93b4\" xlink:type=\"simple\"><polygon fill=\"#FFFFFF\" points=\"16,6,94,6,101,28.2969,263,28.2969,263,281,16,281,16,6\" style=\"stroke: #000000; stroke-width: 1.5;\"/><line style=\"stroke: #000000; stroke-width: 1.5;\" x1=\"16\" x2=\"101\" y1=\"28.2969\" y2=\"28.2969\"/><text fill=\"#000000\" font-family=\"sans-serif\" font-size=\"14\" font-weight=\"bold\" lengthAdjust=\"spacingAndGlyphs\" textLength=\"72\" x=\"20\" y=\"20.9951\">AliasTest</text></a><!--MD5=[b4997ac47864f28c2f74865a473b2911]\n",
       "class E2--><a href=\"psysml:4a06ff05-02b9-4148-90d6-f5221b7c40f0\" target=\"_top\" title=\"psysml:4a06ff05-02b9-4148-90d6-f5221b7c40f0\" xlink:actuate=\"onRequest\" xlink:href=\"psysml:4a06ff05-02b9-4148-90d6-f5221b7c40f0\" xlink:show=\"new\" xlink:title=\"psysml:4a06ff05-02b9-4148-90d6-f5221b7c40f0\" xlink:type=\"simple\"><rect fill=\"#FFFFFF\" height=\"75.5469\" id=\"E2\" style=\"stroke: #383838; stroke-width: 1.5;\" width=\"92\" x=\"93\" y=\"189\"/><text fill=\"#000000\" font-family=\"sans-serif\" font-size=\"12\" font-style=\"italic\" lengthAdjust=\"spacingAndGlyphs\" textLength=\"64\" x=\"107\" y=\"205.1387\">«part def»</text><text fill=\"#000000\" font-family=\"sans-serif\" font-size=\"12\" lengthAdjust=\"spacingAndGlyphs\" textLength=\"16\" x=\"131\" y=\"219.1074\">P1</text><line style=\"stroke: #383838; stroke-width: 1.5;\" x1=\"94\" x2=\"184\" y1=\"226.9375\" y2=\"226.9375\"/><text fill=\"#000000\" font-family=\"sans-serif\" font-size=\"11\" lengthAdjust=\"spacingAndGlyphs\" textLength=\"36\" x=\"99\" y=\"257.9526\">porig1</text><text fill=\"#000000\" font-family=\"sans-serif\" font-size=\"11\" font-weight=\"bold\" lengthAdjust=\"spacingAndGlyphs\" textLength=\"15\" x=\"139\" y=\"257.9526\">as</text><text fill=\"#000000\" font-family=\"sans-serif\" font-size=\"11\" lengthAdjust=\"spacingAndGlyphs\" textLength=\"21\" x=\"158\" y=\"257.9526\">po1</text><line style=\"stroke: #383838; stroke-width: 1.0;\" x1=\"94\" x2=\"124\" y1=\"241.3398\" y2=\"241.3398\"/><text fill=\"#000000\" font-family=\"sans-serif\" font-size=\"11\" lengthAdjust=\"spacingAndGlyphs\" textLength=\"30\" x=\"124\" y=\"244.6479\">ports</text><line style=\"stroke: #383838; stroke-width: 1.0;\" x1=\"154\" x2=\"184\" y1=\"241.3398\" y2=\"241.3398\"/></a><!--MD5=[09b614a08d8cba4a07c9adeb5e0fee81]\n",
       "class E3--><a href=\"psysml:9ecf2706-3ec0-4307-8293-70ef42ab2608\" target=\"_top\" title=\"psysml:9ecf2706-3ec0-4307-8293-70ef42ab2608\" xlink:actuate=\"onRequest\" xlink:href=\"psysml:9ecf2706-3ec0-4307-8293-70ef42ab2608\" xlink:show=\"new\" xlink:title=\"psysml:9ecf2706-3ec0-4307-8293-70ef42ab2608\" xlink:type=\"simple\"><rect fill=\"#FFFFFF\" height=\"88.3516\" id=\"E3\" rx=\"10\" ry=\"10\" style=\"stroke: #383838; stroke-width: 1.5;\" width=\"92\" x=\"155\" y=\"41\"/><text fill=\"#000000\" font-family=\"sans-serif\" font-size=\"12\" font-style=\"italic\" lengthAdjust=\"spacingAndGlyphs\" textLength=\"40\" x=\"181\" y=\"57.1387\">«part»</text><text fill=\"#000000\" font-family=\"sans-serif\" font-size=\"12\" lengthAdjust=\"spacingAndGlyphs\" textLength=\"40\" x=\"181\" y=\"71.1074\">p1: P1</text><line style=\"stroke: #383838; stroke-width: 1.5;\" x1=\"156\" x2=\"246\" y1=\"78.9375\" y2=\"78.9375\"/><text fill=\"#000000\" font-family=\"sans-serif\" font-size=\"11\" lengthAdjust=\"spacingAndGlyphs\" textLength=\"21\" x=\"161\" y=\"109.9526\">po1</text><text fill=\"#000000\" font-family=\"sans-serif\" font-size=\"11\" font-style=\"italic\" lengthAdjust=\"spacingAndGlyphs\" textLength=\"80\" x=\"161\" y=\"122.7573\">:&gt;&gt;P1::porig1</text><line style=\"stroke: #383838; stroke-width: 1.0;\" x1=\"156\" x2=\"186\" y1=\"93.3398\" y2=\"93.3398\"/><text fill=\"#000000\" font-family=\"sans-serif\" font-size=\"11\" lengthAdjust=\"spacingAndGlyphs\" textLength=\"30\" x=\"186\" y=\"96.6479\">ports</text><line style=\"stroke: #383838; stroke-width: 1.0;\" x1=\"216\" x2=\"246\" y1=\"93.3398\" y2=\"93.3398\"/></a><!--MD5=[ebbe1d658d1005bcc118a6aa81145e00]\n",
       "class E4--><a href=\"psysml:28be41ac-7d51-495b-a80e-46db5ea96230\" target=\"_top\" title=\"psysml:28be41ac-7d51-495b-a80e-46db5ea96230\" xlink:actuate=\"onRequest\" xlink:href=\"psysml:28be41ac-7d51-495b-a80e-46db5ea96230\" xlink:show=\"new\" xlink:title=\"psysml:28be41ac-7d51-495b-a80e-46db5ea96230\" xlink:type=\"simple\"><rect fill=\"#FFFFFF\" height=\"75.5469\" id=\"E4\" rx=\"10\" ry=\"10\" style=\"stroke: #383838; stroke-width: 1.5;\" width=\"88\" x=\"32\" y=\"47\"/><text fill=\"#000000\" font-family=\"sans-serif\" font-size=\"12\" font-style=\"italic\" lengthAdjust=\"spacingAndGlyphs\" textLength=\"40\" x=\"56\" y=\"63.1387\">«part»</text><text fill=\"#000000\" font-family=\"sans-serif\" font-size=\"12\" lengthAdjust=\"spacingAndGlyphs\" textLength=\"40\" x=\"56\" y=\"77.1074\">p2: P1</text><line style=\"stroke: #383838; stroke-width: 1.5;\" x1=\"33\" x2=\"119\" y1=\"84.9375\" y2=\"84.9375\"/><text fill=\"#000000\" font-family=\"sans-serif\" font-size=\"11\" lengthAdjust=\"spacingAndGlyphs\" textLength=\"32\" x=\"38\" y=\"115.9526\">pdest</text><text fill=\"#000000\" font-family=\"sans-serif\" font-size=\"11\" font-weight=\"bold\" lengthAdjust=\"spacingAndGlyphs\" textLength=\"15\" x=\"74\" y=\"115.9526\">as</text><text fill=\"#000000\" font-family=\"sans-serif\" font-size=\"11\" lengthAdjust=\"spacingAndGlyphs\" textLength=\"21\" x=\"93\" y=\"115.9526\">pd1</text><line style=\"stroke: #383838; stroke-width: 1.0;\" x1=\"33\" x2=\"61\" y1=\"99.3398\" y2=\"99.3398\"/><text fill=\"#000000\" font-family=\"sans-serif\" font-size=\"11\" lengthAdjust=\"spacingAndGlyphs\" textLength=\"30\" x=\"61\" y=\"102.6479\">ports</text><line style=\"stroke: #383838; stroke-width: 1.0;\" x1=\"91\" x2=\"119\" y1=\"99.3398\" y2=\"99.3398\"/></a><!--MD5=[05d275557350bfb9b23a4ef7222b4c39]\n",
       "link E3 to E2--><a href=\"psysml:8ce18664-e29b-46f0-97c0-4b398d523e7c\" target=\"_top\" title=\"psysml:8ce18664-e29b-46f0-97c0-4b398d523e7c\" xlink:actuate=\"onRequest\" xlink:href=\"psysml:8ce18664-e29b-46f0-97c0-4b398d523e7c\" xlink:show=\"new\" xlink:title=\"psysml:8ce18664-e29b-46f0-97c0-4b398d523e7c\" xlink:type=\"simple\"><path d=\"M181.89,129.15 C176.14,142.14 169.74,156.6 163.67,170.29 \" fill=\"none\" id=\"E3-&gt;E2\" style=\"stroke: #383838; stroke-width: 1.0;\"/><polygon fill=\"#FFFFFF\" points=\"155.43,188.9,156.725,168.693,169.5254,174.3632,155.43,188.9\" style=\"stroke: #383838; stroke-width: 1.0;\"/><ellipse cx=\"160.8622\" cy=\"164.2914\" fill=\"#383838\" rx=\"2\" ry=\"2\" style=\"stroke: #383838; stroke-width: 1.0;\"/><ellipse cx=\"170.0053\" cy=\"168.3416\" fill=\"#383838\" rx=\"2\" ry=\"2\" style=\"stroke: #383838; stroke-width: 1.0;\"/></a><!--MD5=[185131fc0dcab0a4505a2ebe144e961b]\n",
       "link E4 to E2--><a href=\"psysml:aea9633f-bca5-4d9c-866d-d7db5d7aa3e2\" target=\"_top\" title=\"psysml:aea9633f-bca5-4d9c-866d-d7db5d7aa3e2\" xlink:actuate=\"onRequest\" xlink:href=\"psysml:aea9633f-bca5-4d9c-866d-d7db5d7aa3e2\" xlink:show=\"new\" xlink:title=\"psysml:aea9633f-bca5-4d9c-866d-d7db5d7aa3e2\" xlink:type=\"simple\"><path d=\"M92.72,123.15 C99.23,137.63 106.84,154.53 113.98,170.4 \" fill=\"none\" id=\"E4-&gt;E2\" style=\"stroke: #383838; stroke-width: 1.0;\"/><polygon fill=\"#FFFFFF\" points=\"122.2,188.68,108.0257,174.22,120.7951,168.4803,122.2,188.68\" style=\"stroke: #383838; stroke-width: 1.0;\"/><ellipse cx=\"107.5131\" cy=\"168.2011\" fill=\"#383838\" rx=\"2\" ry=\"2\" style=\"stroke: #383838; stroke-width: 1.0;\"/><ellipse cx=\"116.634\" cy=\"164.1014\" fill=\"#383838\" rx=\"2\" ry=\"2\" style=\"stroke: #383838; stroke-width: 1.0;\"/></a><!--MD5=[31f522a2a4b13699db5c39a8ed91d34a]\n",
       "@startuml\r\n",
       " skinparam monochrome true\r\n",
       "skinparam classbackgroundcolor white\r\n",
       "skinparam shadowing false\r\n",
       "skinparam wrapWidth 300\r\n",
       "hide circle\r\n",
       "\r\n",
       "package \"AliasTest\" as E1  [[psysml:d6640503-c03f-477e-b125-432046bb93b4 ]]  {\r\n",
       "comp def \"P1\" as E2  <<(T,blue)part def>> [[psysml:4a06ff05-02b9-4148-90d6-f5221b7c40f0 ]] {\r\n",
       "- - ports - -\r\n",
       "porig1 <b>as</b> po1 \r\n",
       "}\r\n",
       "comp usage \"p1: P1\" as E3  <<(T,blue)part>> [[psysml:9ecf2706-3ec0-4307-8293-70ef42ab2608 ]] {\r\n",
       "- - ports - -\r\n",
       "po1\\n//:>>P1::porig1// \r\n",
       "}\r\n",
       "comp usage \"p2: P1\" as E4  <<(T,blue)part>> [[psysml:28be41ac-7d51-495b-a80e-46db5ea96230 ]] {\r\n",
       "- - ports - -\r\n",
       "pdest <b>as</b> pd1 \r\n",
       "}\r\n",
       "E3 - -:|> E2 [[psysml:8ce18664-e29b-46f0-97c0-4b398d523e7c ]] \r\n",
       "E4 - -:|> E2 [[psysml:aea9633f-bca5-4d9c-866d-d7db5d7aa3e2 ]] \r\n",
       "}\r\n",
       "@enduml\r\n",
       "\n",
       "PlantUML version 1.2020.13(Sat Jun 13 12:26:38 UTC 2020)\n",
       "(EPL source distribution)\n",
       "Java Runtime: OpenJDK Runtime Environment\n",
       "JVM: OpenJDK 64-Bit Server VM\n",
       "Default Encoding: UTF-8\n",
       "Language: en\n",
       "Country: null\n",
       "--></g></svg>"
      ]
     },
     "execution_count": 2,
     "metadata": {},
     "output_type": "execute_result"
    }
   ],
   "source": [
    "%viz --style=\"COMPTREE\" --view=\"Default\" \"AliasTest\""
   ]
  },
  {
   "cell_type": "code",
   "execution_count": 3,
   "id": "animal-canyon",
   "metadata": {
    "execution": {
     "iopub.execute_input": "2021-03-25T13:15:10.557209Z",
     "iopub.status.busy": "2021-03-25T13:15:10.556392Z",
     "iopub.status.idle": "2021-03-25T13:15:11.546150Z",
     "shell.execute_reply": "2021-03-25T13:15:11.546613Z"
    }
   },
   "outputs": [
    {
     "data": {
      "image/svg+xml": [
       "<?xml version=\"1.0\" encoding=\"UTF-8\" standalone=\"no\"?><svg xmlns=\"http://www.w3.org/2000/svg\" xmlns:xlink=\"http://www.w3.org/1999/xlink\" contentScriptType=\"application/ecmascript\" contentStyleType=\"text/css\" height=\"293px\" preserveAspectRatio=\"none\" style=\"width:285px;height:293px;\" version=\"1.1\" viewBox=\"0 0 285 293\" width=\"285px\" zoomAndPan=\"magnify\"><defs/><g><!--MD5=[fbc87193dbaf4d95561dea2c320d4a47]\n",
       "cluster E1--><a href=\"psysml:d6640503-c03f-477e-b125-432046bb93b4\" target=\"_top\" title=\"psysml:d6640503-c03f-477e-b125-432046bb93b4\" xlink:actuate=\"onRequest\" xlink:href=\"psysml:d6640503-c03f-477e-b125-432046bb93b4\" xlink:show=\"new\" xlink:title=\"psysml:d6640503-c03f-477e-b125-432046bb93b4\" xlink:type=\"simple\"><polygon fill=\"#FFFFFF\" points=\"16,6,94,6,101,28.2969,263,28.2969,263,281,16,281,16,6\" style=\"stroke: #000000; stroke-width: 1.5;\"/><line style=\"stroke: #000000; stroke-width: 1.5;\" x1=\"16\" x2=\"101\" y1=\"28.2969\" y2=\"28.2969\"/><text fill=\"#000000\" font-family=\"sans-serif\" font-size=\"14\" font-weight=\"bold\" lengthAdjust=\"spacingAndGlyphs\" textLength=\"72\" x=\"20\" y=\"20.9951\">AliasTest</text></a><!--MD5=[b4997ac47864f28c2f74865a473b2911]\n",
       "class E2--><a href=\"psysml:4a06ff05-02b9-4148-90d6-f5221b7c40f0\" target=\"_top\" title=\"psysml:4a06ff05-02b9-4148-90d6-f5221b7c40f0\" xlink:actuate=\"onRequest\" xlink:href=\"psysml:4a06ff05-02b9-4148-90d6-f5221b7c40f0\" xlink:show=\"new\" xlink:title=\"psysml:4a06ff05-02b9-4148-90d6-f5221b7c40f0\" xlink:type=\"simple\"><rect fill=\"#FFFFFF\" height=\"75.5469\" id=\"E2\" style=\"stroke: #383838; stroke-width: 1.5;\" width=\"92\" x=\"93\" y=\"189\"/><text fill=\"#000000\" font-family=\"sans-serif\" font-size=\"12\" font-style=\"italic\" lengthAdjust=\"spacingAndGlyphs\" textLength=\"64\" x=\"107\" y=\"205.1387\">«part def»</text><text fill=\"#000000\" font-family=\"sans-serif\" font-size=\"12\" lengthAdjust=\"spacingAndGlyphs\" textLength=\"16\" x=\"131\" y=\"219.1074\">P1</text><line style=\"stroke: #383838; stroke-width: 1.5;\" x1=\"94\" x2=\"184\" y1=\"226.9375\" y2=\"226.9375\"/><text fill=\"#000000\" font-family=\"sans-serif\" font-size=\"11\" lengthAdjust=\"spacingAndGlyphs\" textLength=\"36\" x=\"99\" y=\"257.9526\">porig1</text><text fill=\"#000000\" font-family=\"sans-serif\" font-size=\"11\" font-weight=\"bold\" lengthAdjust=\"spacingAndGlyphs\" textLength=\"15\" x=\"139\" y=\"257.9526\">as</text><text fill=\"#000000\" font-family=\"sans-serif\" font-size=\"11\" lengthAdjust=\"spacingAndGlyphs\" textLength=\"21\" x=\"158\" y=\"257.9526\">po1</text><line style=\"stroke: #383838; stroke-width: 1.0;\" x1=\"94\" x2=\"124\" y1=\"241.3398\" y2=\"241.3398\"/><text fill=\"#000000\" font-family=\"sans-serif\" font-size=\"11\" lengthAdjust=\"spacingAndGlyphs\" textLength=\"30\" x=\"124\" y=\"244.6479\">ports</text><line style=\"stroke: #383838; stroke-width: 1.0;\" x1=\"154\" x2=\"184\" y1=\"241.3398\" y2=\"241.3398\"/></a><!--MD5=[09b614a08d8cba4a07c9adeb5e0fee81]\n",
       "class E3--><a href=\"psysml:9ecf2706-3ec0-4307-8293-70ef42ab2608\" target=\"_top\" title=\"psysml:9ecf2706-3ec0-4307-8293-70ef42ab2608\" xlink:actuate=\"onRequest\" xlink:href=\"psysml:9ecf2706-3ec0-4307-8293-70ef42ab2608\" xlink:show=\"new\" xlink:title=\"psysml:9ecf2706-3ec0-4307-8293-70ef42ab2608\" xlink:type=\"simple\"><rect fill=\"#FFFFFF\" height=\"88.3516\" id=\"E3\" rx=\"10\" ry=\"10\" style=\"stroke: #383838; stroke-width: 1.5;\" width=\"92\" x=\"155\" y=\"41\"/><text fill=\"#000000\" font-family=\"sans-serif\" font-size=\"12\" font-style=\"italic\" lengthAdjust=\"spacingAndGlyphs\" textLength=\"40\" x=\"181\" y=\"57.1387\">«part»</text><text fill=\"#000000\" font-family=\"sans-serif\" font-size=\"12\" lengthAdjust=\"spacingAndGlyphs\" textLength=\"40\" x=\"181\" y=\"71.1074\">p1: P1</text><line style=\"stroke: #383838; stroke-width: 1.5;\" x1=\"156\" x2=\"246\" y1=\"78.9375\" y2=\"78.9375\"/><text fill=\"#000000\" font-family=\"sans-serif\" font-size=\"11\" lengthAdjust=\"spacingAndGlyphs\" textLength=\"21\" x=\"161\" y=\"109.9526\">po1</text><text fill=\"#000000\" font-family=\"sans-serif\" font-size=\"11\" font-style=\"italic\" lengthAdjust=\"spacingAndGlyphs\" textLength=\"80\" x=\"161\" y=\"122.7573\">:&gt;&gt;P1::porig1</text><line style=\"stroke: #383838; stroke-width: 1.0;\" x1=\"156\" x2=\"186\" y1=\"93.3398\" y2=\"93.3398\"/><text fill=\"#000000\" font-family=\"sans-serif\" font-size=\"11\" lengthAdjust=\"spacingAndGlyphs\" textLength=\"30\" x=\"186\" y=\"96.6479\">ports</text><line style=\"stroke: #383838; stroke-width: 1.0;\" x1=\"216\" x2=\"246\" y1=\"93.3398\" y2=\"93.3398\"/></a><!--MD5=[ebbe1d658d1005bcc118a6aa81145e00]\n",
       "class E4--><a href=\"psysml:28be41ac-7d51-495b-a80e-46db5ea96230\" target=\"_top\" title=\"psysml:28be41ac-7d51-495b-a80e-46db5ea96230\" xlink:actuate=\"onRequest\" xlink:href=\"psysml:28be41ac-7d51-495b-a80e-46db5ea96230\" xlink:show=\"new\" xlink:title=\"psysml:28be41ac-7d51-495b-a80e-46db5ea96230\" xlink:type=\"simple\"><rect fill=\"#FFFFFF\" height=\"75.5469\" id=\"E4\" rx=\"10\" ry=\"10\" style=\"stroke: #383838; stroke-width: 1.5;\" width=\"88\" x=\"32\" y=\"47\"/><text fill=\"#000000\" font-family=\"sans-serif\" font-size=\"12\" font-style=\"italic\" lengthAdjust=\"spacingAndGlyphs\" textLength=\"40\" x=\"56\" y=\"63.1387\">«part»</text><text fill=\"#000000\" font-family=\"sans-serif\" font-size=\"12\" lengthAdjust=\"spacingAndGlyphs\" textLength=\"40\" x=\"56\" y=\"77.1074\">p2: P1</text><line style=\"stroke: #383838; stroke-width: 1.5;\" x1=\"33\" x2=\"119\" y1=\"84.9375\" y2=\"84.9375\"/><text fill=\"#000000\" font-family=\"sans-serif\" font-size=\"11\" lengthAdjust=\"spacingAndGlyphs\" textLength=\"32\" x=\"38\" y=\"115.9526\">pdest</text><text fill=\"#000000\" font-family=\"sans-serif\" font-size=\"11\" font-weight=\"bold\" lengthAdjust=\"spacingAndGlyphs\" textLength=\"15\" x=\"74\" y=\"115.9526\">as</text><text fill=\"#000000\" font-family=\"sans-serif\" font-size=\"11\" lengthAdjust=\"spacingAndGlyphs\" textLength=\"21\" x=\"93\" y=\"115.9526\">pd1</text><line style=\"stroke: #383838; stroke-width: 1.0;\" x1=\"33\" x2=\"61\" y1=\"99.3398\" y2=\"99.3398\"/><text fill=\"#000000\" font-family=\"sans-serif\" font-size=\"11\" lengthAdjust=\"spacingAndGlyphs\" textLength=\"30\" x=\"61\" y=\"102.6479\">ports</text><line style=\"stroke: #383838; stroke-width: 1.0;\" x1=\"91\" x2=\"119\" y1=\"99.3398\" y2=\"99.3398\"/></a><!--MD5=[05d275557350bfb9b23a4ef7222b4c39]\n",
       "link E3 to E2--><a href=\"psysml:8ce18664-e29b-46f0-97c0-4b398d523e7c\" target=\"_top\" title=\"psysml:8ce18664-e29b-46f0-97c0-4b398d523e7c\" xlink:actuate=\"onRequest\" xlink:href=\"psysml:8ce18664-e29b-46f0-97c0-4b398d523e7c\" xlink:show=\"new\" xlink:title=\"psysml:8ce18664-e29b-46f0-97c0-4b398d523e7c\" xlink:type=\"simple\"><path d=\"M181.89,129.15 C176.14,142.14 169.74,156.6 163.67,170.29 \" fill=\"none\" id=\"E3-&gt;E2\" style=\"stroke: #383838; stroke-width: 1.0;\"/><polygon fill=\"#FFFFFF\" points=\"155.43,188.9,156.725,168.693,169.5254,174.3632,155.43,188.9\" style=\"stroke: #383838; stroke-width: 1.0;\"/><ellipse cx=\"160.8622\" cy=\"164.2914\" fill=\"#383838\" rx=\"2\" ry=\"2\" style=\"stroke: #383838; stroke-width: 1.0;\"/><ellipse cx=\"170.0053\" cy=\"168.3416\" fill=\"#383838\" rx=\"2\" ry=\"2\" style=\"stroke: #383838; stroke-width: 1.0;\"/></a><!--MD5=[185131fc0dcab0a4505a2ebe144e961b]\n",
       "link E4 to E2--><a href=\"psysml:aea9633f-bca5-4d9c-866d-d7db5d7aa3e2\" target=\"_top\" title=\"psysml:aea9633f-bca5-4d9c-866d-d7db5d7aa3e2\" xlink:actuate=\"onRequest\" xlink:href=\"psysml:aea9633f-bca5-4d9c-866d-d7db5d7aa3e2\" xlink:show=\"new\" xlink:title=\"psysml:aea9633f-bca5-4d9c-866d-d7db5d7aa3e2\" xlink:type=\"simple\"><path d=\"M92.72,123.15 C99.23,137.63 106.84,154.53 113.98,170.4 \" fill=\"none\" id=\"E4-&gt;E2\" style=\"stroke: #383838; stroke-width: 1.0;\"/><polygon fill=\"#FFFFFF\" points=\"122.2,188.68,108.0257,174.22,120.7951,168.4803,122.2,188.68\" style=\"stroke: #383838; stroke-width: 1.0;\"/><ellipse cx=\"107.5131\" cy=\"168.2011\" fill=\"#383838\" rx=\"2\" ry=\"2\" style=\"stroke: #383838; stroke-width: 1.0;\"/><ellipse cx=\"116.634\" cy=\"164.1014\" fill=\"#383838\" rx=\"2\" ry=\"2\" style=\"stroke: #383838; stroke-width: 1.0;\"/></a><!--MD5=[31f522a2a4b13699db5c39a8ed91d34a]\n",
       "@startuml\r\n",
       " skinparam monochrome true\r\n",
       "skinparam classbackgroundcolor white\r\n",
       "skinparam shadowing false\r\n",
       "skinparam wrapWidth 300\r\n",
       "hide circle\r\n",
       "\r\n",
       "package \"AliasTest\" as E1  [[psysml:d6640503-c03f-477e-b125-432046bb93b4 ]]  {\r\n",
       "comp def \"P1\" as E2  <<(T,blue)part def>> [[psysml:4a06ff05-02b9-4148-90d6-f5221b7c40f0 ]] {\r\n",
       "- - ports - -\r\n",
       "porig1 <b>as</b> po1 \r\n",
       "}\r\n",
       "comp usage \"p1: P1\" as E3  <<(T,blue)part>> [[psysml:9ecf2706-3ec0-4307-8293-70ef42ab2608 ]] {\r\n",
       "- - ports - -\r\n",
       "po1\\n//:>>P1::porig1// \r\n",
       "}\r\n",
       "comp usage \"p2: P1\" as E4  <<(T,blue)part>> [[psysml:28be41ac-7d51-495b-a80e-46db5ea96230 ]] {\r\n",
       "- - ports - -\r\n",
       "pdest <b>as</b> pd1 \r\n",
       "}\r\n",
       "E3 - -:|> E2 [[psysml:8ce18664-e29b-46f0-97c0-4b398d523e7c ]] \r\n",
       "E4 - -:|> E2 [[psysml:aea9633f-bca5-4d9c-866d-d7db5d7aa3e2 ]] \r\n",
       "}\r\n",
       "@enduml\r\n",
       "\n",
       "PlantUML version 1.2020.13(Sat Jun 13 12:26:38 UTC 2020)\n",
       "(EPL source distribution)\n",
       "Java Runtime: OpenJDK Runtime Environment\n",
       "JVM: OpenJDK 64-Bit Server VM\n",
       "Default Encoding: UTF-8\n",
       "Language: en\n",
       "Country: null\n",
       "--></g></svg>"
      ]
     },
     "execution_count": 3,
     "metadata": {},
     "output_type": "execute_result"
    }
   ],
   "source": [
    "%viz --style=\"COMPTREE\" --view=\"Tree\" \"AliasTest\""
   ]
  },
  {
   "cell_type": "code",
   "execution_count": 4,
   "id": "professional-ballet",
   "metadata": {
    "execution": {
     "iopub.execute_input": "2021-03-25T13:15:11.597322Z",
     "iopub.status.busy": "2021-03-25T13:15:11.596345Z",
     "iopub.status.idle": "2021-03-25T13:15:11.610833Z",
     "shell.execute_reply": "2021-03-25T13:15:11.610384Z"
    }
   },
   "outputs": [
    {
     "data": {
      "image/svg+xml": [
       "<?xml version=\"1.0\" encoding=\"UTF-8\" standalone=\"no\"?><svg xmlns=\"http://www.w3.org/2000/svg\" xmlns:xlink=\"http://www.w3.org/1999/xlink\" contentScriptType=\"application/ecmascript\" contentStyleType=\"text/css\" height=\"12px\" preserveAspectRatio=\"none\" style=\"width:12px;height:12px;\" version=\"1.1\" viewBox=\"0 0 12 12\" width=\"12px\" zoomAndPan=\"magnify\"><defs/><g><!--MD5=[f19188ef49e11757b5c46753f95d9edc]\n",
       "@startuml\r\n",
       " skinparam monochrome true\r\n",
       "skinparam classbackgroundcolor white\r\n",
       "skinparam shadowing false\r\n",
       "skinparam wrapWidth 300\r\n",
       "hide circle\r\n",
       "\r\n",
       "@enduml\r\n",
       "\n",
       "PlantUML version 1.2020.13(Sat Jun 13 12:26:38 UTC 2020)\n",
       "(EPL source distribution)\n",
       "Java Runtime: OpenJDK Runtime Environment\n",
       "JVM: OpenJDK 64-Bit Server VM\n",
       "Default Encoding: UTF-8\n",
       "Language: en\n",
       "Country: null\n",
       "--></g></svg>"
      ]
     },
     "execution_count": 4,
     "metadata": {},
     "output_type": "execute_result"
    }
   ],
   "source": [
    "%viz --style=\"COMPTREE\" --view=\"State\" \"AliasTest\""
   ]
  },
  {
   "cell_type": "code",
   "execution_count": 5,
   "id": "lasting-actress",
   "metadata": {
    "execution": {
     "iopub.execute_input": "2021-03-25T13:15:11.661740Z",
     "iopub.status.busy": "2021-03-25T13:15:11.660988Z",
     "iopub.status.idle": "2021-03-25T13:15:11.827393Z",
     "shell.execute_reply": "2021-03-25T13:15:11.828163Z"
    }
   },
   "outputs": [
    {
     "data": {
      "image/svg+xml": [
       "<?xml version=\"1.0\" encoding=\"UTF-8\" standalone=\"no\"?><svg xmlns=\"http://www.w3.org/2000/svg\" xmlns:xlink=\"http://www.w3.org/1999/xlink\" contentScriptType=\"application/ecmascript\" contentStyleType=\"text/css\" height=\"207px\" preserveAspectRatio=\"none\" style=\"width:406px;height:207px;\" version=\"1.1\" viewBox=\"0 0 406 207\" width=\"406px\" zoomAndPan=\"magnify\"><defs/><g><!--MD5=[fbc87193dbaf4d95561dea2c320d4a47]\n",
       "cluster E1--><a href=\"psysml:d6640503-c03f-477e-b125-432046bb93b4\" target=\"_top\" title=\"psysml:d6640503-c03f-477e-b125-432046bb93b4\" xlink:actuate=\"onRequest\" xlink:href=\"psysml:d6640503-c03f-477e-b125-432046bb93b4\" xlink:show=\"new\" xlink:title=\"psysml:d6640503-c03f-477e-b125-432046bb93b4\" xlink:type=\"simple\"><polygon fill=\"#FFFFFF\" points=\"16,6,94,6,101,28.2969,384,28.2969,384,195,16,195,16,6\" style=\"stroke: #000000; stroke-width: 1.5;\"/><line style=\"stroke: #000000; stroke-width: 1.5;\" x1=\"16\" x2=\"101\" y1=\"28.2969\" y2=\"28.2969\"/><text fill=\"#000000\" font-family=\"sans-serif\" font-size=\"14\" font-weight=\"bold\" lengthAdjust=\"spacingAndGlyphs\" textLength=\"72\" x=\"20\" y=\"20.9951\">AliasTest</text></a><!--MD5=[e4f7fae6ed58524ba242bb0b0d3be6b7]\n",
       "cluster E2--><a href=\"psysml:4a06ff05-02b9-4148-90d6-f5221b7c40f0\" target=\"_top\" title=\"psysml:4a06ff05-02b9-4148-90d6-f5221b7c40f0\" xlink:actuate=\"onRequest\" xlink:href=\"psysml:4a06ff05-02b9-4148-90d6-f5221b7c40f0\" xlink:show=\"new\" xlink:title=\"psysml:4a06ff05-02b9-4148-90d6-f5221b7c40f0\" xlink:type=\"simple\"><rect fill=\"#FFFFFF\" height=\"73\" id=\"E2\" style=\"stroke: #383838; stroke-width: 1.5;\" width=\"83\" x=\"244\" y=\"55\"/><rect fill=\"#F8F8F8\" height=\"37.9375\" style=\"stroke: #383838; stroke-width: 1.5;\" width=\"83\" x=\"244\" y=\"55\"/><text fill=\"#000000\" font-family=\"sans-serif\" font-size=\"12\" font-style=\"italic\" lengthAdjust=\"spacingAndGlyphs\" textLength=\"64\" x=\"253.5\" y=\"71.1387\">«part def»</text><text fill=\"#000000\" font-family=\"sans-serif\" font-size=\"12\" lengthAdjust=\"spacingAndGlyphs\" textLength=\"16\" x=\"277.5\" y=\"85.1074\">P1</text></a><!--MD5=[de5ec2e2e8f62f467e546659f5068c88]\n",
       "cluster E5--><a href=\"psysml:9ecf2706-3ec0-4307-8293-70ef42ab2608\" target=\"_top\" title=\"psysml:9ecf2706-3ec0-4307-8293-70ef42ab2608\" xlink:actuate=\"onRequest\" xlink:href=\"psysml:9ecf2706-3ec0-4307-8293-70ef42ab2608\" xlink:show=\"new\" xlink:title=\"psysml:9ecf2706-3ec0-4307-8293-70ef42ab2608\" xlink:type=\"simple\"><rect fill=\"#FFFFFF\" height=\"84.5\" id=\"E5\" rx=\"10\" ry=\"10\" style=\"stroke: #383838; stroke-width: 1.5;\" width=\"101\" x=\"139\" y=\"94.5\"/><rect fill=\"#F8F8F8\" height=\"23.9688\" rx=\"10\" ry=\"10\" style=\"stroke: #F8F8F8; stroke-width: 1.5;\" width=\"101\" x=\"139\" y=\"94.5\"/><rect fill=\"#F8F8F8\" height=\"10\" style=\"stroke: #F8F8F8; stroke-width: 1.5;\" width=\"101\" x=\"139\" y=\"108.4688\"/><rect fill=\"none\" height=\"84.5\" id=\"E5\" rx=\"10\" ry=\"10\" style=\"stroke: #383838; stroke-width: 1.5;\" width=\"101\" x=\"139\" y=\"94.5\"/><text fill=\"#000000\" font-family=\"sans-serif\" font-size=\"12\" lengthAdjust=\"spacingAndGlyphs\" textLength=\"40\" x=\"169.5\" y=\"110.6387\">p1: P1</text><line style=\"stroke: #383838; stroke-width: 1.0;\" x1=\"139\" x2=\"240\" y1=\"118.4688\" y2=\"118.4688\"/></a><!--MD5=[168fadf3d0c3fd93dd5d6da1b1d7ab76]\n",
       "cluster E7--><a href=\"psysml:28be41ac-7d51-495b-a80e-46db5ea96230\" target=\"_top\" title=\"psysml:28be41ac-7d51-495b-a80e-46db5ea96230\" xlink:actuate=\"onRequest\" xlink:href=\"psysml:28be41ac-7d51-495b-a80e-46db5ea96230\" xlink:show=\"new\" xlink:title=\"psysml:28be41ac-7d51-495b-a80e-46db5ea96230\" xlink:type=\"simple\"><rect fill=\"#FFFFFF\" height=\"65\" id=\"E7\" rx=\"10\" ry=\"10\" style=\"stroke: #383838; stroke-width: 1.5;\" width=\"83\" x=\"53\" y=\"55\"/><rect fill=\"#F8F8F8\" height=\"23.9688\" rx=\"10\" ry=\"10\" style=\"stroke: #F8F8F8; stroke-width: 1.5;\" width=\"83\" x=\"53\" y=\"55\"/><rect fill=\"#F8F8F8\" height=\"10\" style=\"stroke: #F8F8F8; stroke-width: 1.5;\" width=\"83\" x=\"53\" y=\"68.9688\"/><rect fill=\"none\" height=\"65\" id=\"E7\" rx=\"10\" ry=\"10\" style=\"stroke: #383838; stroke-width: 1.5;\" width=\"83\" x=\"53\" y=\"55\"/><text fill=\"#000000\" font-family=\"sans-serif\" font-size=\"12\" lengthAdjust=\"spacingAndGlyphs\" textLength=\"40\" x=\"74.5\" y=\"71.1387\">p2: P1</text><line style=\"stroke: #383838; stroke-width: 1.0;\" x1=\"53\" x2=\"136\" y1=\"78.9688\" y2=\"78.9688\"/></a><text fill=\"#000000\" font-family=\"sans-serif\" font-size=\"14\" lengthAdjust=\"spacingAndGlyphs\" textLength=\"44\" x=\"240\" y=\"33.6982\">porig1</text><rect fill=\"#383838\" height=\"12\" style=\"stroke: #F8F8F8; stroke-width: 1.5;\" width=\"12\" x=\"256\" y=\"49\"/><text fill=\"#000000\" font-family=\"sans-serif\" font-size=\"14\" lengthAdjust=\"spacingAndGlyphs\" textLength=\"44\" x=\"287\" y=\"33.6982\">porig1</text><rect fill=\"#383838\" height=\"12\" style=\"stroke: #F8F8F8; stroke-width: 1.5;\" width=\"12\" x=\"303\" y=\"49\"/><text fill=\"#000000\" font-family=\"sans-serif\" font-size=\"14\" lengthAdjust=\"spacingAndGlyphs\" textLength=\"27\" x=\"143.5\" y=\"73.1982\">po1</text><rect fill=\"#383838\" height=\"12\" style=\"stroke: #F8F8F8; stroke-width: 1.5;\" width=\"12\" x=\"151\" y=\"88.5\"/><text fill=\"#000000\" font-family=\"sans-serif\" font-size=\"14\" lengthAdjust=\"spacingAndGlyphs\" textLength=\"40\" x=\"51\" y=\"33.6982\">pdest</text><rect fill=\"#383838\" height=\"12\" style=\"stroke: #F8F8F8; stroke-width: 1.5;\" width=\"12\" x=\"65\" y=\"49\"/><text fill=\"#000000\" font-family=\"sans-serif\" font-size=\"14\" lengthAdjust=\"spacingAndGlyphs\" textLength=\"40\" x=\"98\" y=\"33.6982\">pdest</text><rect fill=\"#383838\" height=\"12\" style=\"stroke: #F8F8F8; stroke-width: 1.5;\" width=\"12\" x=\"112\" y=\"49\"/><!--MD5=[60ac2c0cde89d4308155b0484e57a8ec]\n",
       "link E9 to E6--><a href=\"psysml:32f11bb0-f29d-43a1-aa99-c5cb95a5777d\" target=\"_top\" title=\"psysml:32f11bb0-f29d-43a1-aa99-c5cb95a5777d\" xlink:actuate=\"onRequest\" xlink:href=\"psysml:32f11bb0-f29d-43a1-aa99-c5cb95a5777d\" xlink:show=\"new\" xlink:title=\"psysml:32f11bb0-f29d-43a1-aa99-c5cb95a5777d\" xlink:type=\"simple\"><path d=\"M111.75,56.49 C103.41,58.2 109.82,64.05 115,69 C124.85,78.4 136.6,90.11 150.78,92.89 \" fill=\"none\" id=\"E9-E6\" style=\"stroke: #383838; stroke-width: 3.0;\"/></a><!--MD5=[60ac2c0cde89d4308155b0484e57a8ec]\n",
       "link E9 to E6--><a href=\"psysml:e24ce1f4-3e8e-4ff6-8278-f74c062e3ad6\" target=\"_top\" title=\"psysml:e24ce1f4-3e8e-4ff6-8278-f74c062e3ad6\" xlink:actuate=\"onRequest\" xlink:href=\"psysml:e24ce1f4-3e8e-4ff6-8278-f74c062e3ad6\" xlink:show=\"new\" xlink:title=\"psysml:e24ce1f4-3e8e-4ff6-8278-f74c062e3ad6\" xlink:type=\"simple\"><path d=\"M124.29,56.32 C137.94,57.76 144.62,63.87 150,69 C159.5,78.06 170.77,89.27 163.24,92.56 \" fill=\"none\" id=\"E9-E6-1\" style=\"stroke: #383838; stroke-width: 3.0;\"/></a><!--MD5=[e0929bd84c4968e96a9877b7e18e234c]\n",
       "@startuml\r\n",
       "skinparam ranksep 8\r\n",
       "skinparam rectangle {\r\n",
       " backgroundColor<<block>> LightGreen\r\n",
       "}\r\n",
       " skinparam monochrome true\r\n",
       "skinparam classbackgroundcolor white\r\n",
       "skinparam shadowing false\r\n",
       "skinparam wrapWidth 300\r\n",
       "hide circle\r\n",
       "\r\n",
       "package \"AliasTest\" as E1  [[psysml:d6640503-c03f-477e-b125-432046bb93b4 ]]  {\r\n",
       "rec def \"P1\" as E2  <<(T,blue)part def>> [[psysml:4a06ff05-02b9-4148-90d6-f5221b7c40f0 ]] {\r\n",
       "portin \"porig1\" as E3  <<(T,blue)port>> [[psysml:2b77977e-0e87-40fa-bfcc-86d3bbd61ac4 ]] \r\n",
       "portin \"porig1\" as E4  <<(T,blue)port>> [[psysml:2b77977e-0e87-40fa-bfcc-86d3bbd61ac4 ]] \r\n",
       "}\r\n",
       "rec usage \"p1: P1\" as E5  [[psysml:9ecf2706-3ec0-4307-8293-70ef42ab2608 ]] {\r\n",
       "portin \"po1\" as E6  <<(T,blue)port>> [[psysml:040fe1ca-6ed4-4b89-a2be-3a2910b81d71 ]] \r\n",
       "}\r\n",
       "rec usage \"p2: P1\" as E7  [[psysml:28be41ac-7d51-495b-a80e-46db5ea96230 ]] {\r\n",
       "portin \"pdest\" as E8  <<(T,blue)port>> [[psysml:35e7e96c-66ea-4900-a048-bf88e7083b58 ]] \r\n",
       "portin \"pdest\" as E9  <<(T,blue)port>> [[psysml:35e7e96c-66ea-4900-a048-bf88e7083b58 ]] \r\n",
       "}\r\n",
       "E9 -[thickness=3]- E6 [[psysml:32f11bb0-f29d-43a1-aa99-c5cb95a5777d ]] \r\n",
       "E9 -[thickness=3]- E6 [[psysml:e24ce1f4-3e8e-4ff6-8278-f74c062e3ad6 ]] \r\n",
       "}\r\n",
       "@enduml\r\n",
       "\n",
       "PlantUML version 1.2020.13(Sat Jun 13 12:26:38 UTC 2020)\n",
       "(EPL source distribution)\n",
       "Java Runtime: OpenJDK Runtime Environment\n",
       "JVM: OpenJDK 64-Bit Server VM\n",
       "Default Encoding: UTF-8\n",
       "Language: en\n",
       "Country: null\n",
       "--></g></svg>"
      ]
     },
     "execution_count": 5,
     "metadata": {},
     "output_type": "execute_result"
    }
   ],
   "source": [
    "%viz --style=\"COMPTREE\" --view=\"Interconnection\" \"AliasTest\""
   ]
  },
  {
   "cell_type": "code",
   "execution_count": 6,
   "id": "bizarre-child",
   "metadata": {
    "execution": {
     "iopub.execute_input": "2021-03-25T13:15:11.878488Z",
     "iopub.status.busy": "2021-03-25T13:15:11.877775Z",
     "iopub.status.idle": "2021-03-25T13:15:11.892162Z",
     "shell.execute_reply": "2021-03-25T13:15:11.891553Z"
    }
   },
   "outputs": [
    {
     "data": {
      "image/svg+xml": [
       "<?xml version=\"1.0\" encoding=\"UTF-8\" standalone=\"no\"?><svg xmlns=\"http://www.w3.org/2000/svg\" xmlns:xlink=\"http://www.w3.org/1999/xlink\" contentScriptType=\"application/ecmascript\" contentStyleType=\"text/css\" height=\"12px\" preserveAspectRatio=\"none\" style=\"width:12px;height:12px;\" version=\"1.1\" viewBox=\"0 0 12 12\" width=\"12px\" zoomAndPan=\"magnify\"><defs/><g><!--MD5=[655b888544ca4751ea36af1068543f84]\n",
       "@startuml\r\n",
       "skinparam ranksep 8\r\n",
       " skinparam monochrome true\r\n",
       "skinparam classbackgroundcolor white\r\n",
       "skinparam shadowing false\r\n",
       "skinparam wrapWidth 300\r\n",
       "hide circle\r\n",
       "\r\n",
       "@enduml\r\n",
       "\n",
       "PlantUML version 1.2020.13(Sat Jun 13 12:26:38 UTC 2020)\n",
       "(EPL source distribution)\n",
       "Java Runtime: OpenJDK Runtime Environment\n",
       "JVM: OpenJDK 64-Bit Server VM\n",
       "Default Encoding: UTF-8\n",
       "Language: en\n",
       "Country: null\n",
       "--></g></svg>"
      ]
     },
     "execution_count": 6,
     "metadata": {},
     "output_type": "execute_result"
    }
   ],
   "source": [
    "%viz --style=\"COMPTREE\" --view=\"Action\" \"AliasTest\""
   ]
  },
  {
   "cell_type": "code",
   "execution_count": 7,
   "id": "square-plymouth",
   "metadata": {
    "execution": {
     "iopub.execute_input": "2021-03-25T13:15:11.942547Z",
     "iopub.status.busy": "2021-03-25T13:15:11.942097Z",
     "iopub.status.idle": "2021-03-25T13:15:12.781362Z",
     "shell.execute_reply": "2021-03-25T13:15:12.779275Z"
    }
   },
   "outputs": [
    {
     "data": {
      "image/svg+xml": [
       "<?xml version=\"1.0\" encoding=\"UTF-8\" standalone=\"no\"?><svg xmlns=\"http://www.w3.org/2000/svg\" xmlns:xlink=\"http://www.w3.org/1999/xlink\" contentScriptType=\"application/ecmascript\" contentStyleType=\"text/css\" height=\"293px\" preserveAspectRatio=\"none\" style=\"width:285px;height:293px;\" version=\"1.1\" viewBox=\"0 0 285 293\" width=\"285px\" zoomAndPan=\"magnify\"><defs/><g><!--MD5=[fbc87193dbaf4d95561dea2c320d4a47]\n",
       "cluster E1--><a href=\"psysml:d6640503-c03f-477e-b125-432046bb93b4\" target=\"_top\" title=\"psysml:d6640503-c03f-477e-b125-432046bb93b4\" xlink:actuate=\"onRequest\" xlink:href=\"psysml:d6640503-c03f-477e-b125-432046bb93b4\" xlink:show=\"new\" xlink:title=\"psysml:d6640503-c03f-477e-b125-432046bb93b4\" xlink:type=\"simple\"><polygon fill=\"#FFFFFF\" points=\"16,6,94,6,101,28.2969,263,28.2969,263,281,16,281,16,6\" style=\"stroke: #000000; stroke-width: 1.5;\"/><line style=\"stroke: #000000; stroke-width: 1.5;\" x1=\"16\" x2=\"101\" y1=\"28.2969\" y2=\"28.2969\"/><text fill=\"#000000\" font-family=\"sans-serif\" font-size=\"14\" font-weight=\"bold\" lengthAdjust=\"spacingAndGlyphs\" textLength=\"72\" x=\"20\" y=\"20.9951\">AliasTest</text></a><!--MD5=[b4997ac47864f28c2f74865a473b2911]\n",
       "class E2--><a href=\"psysml:4a06ff05-02b9-4148-90d6-f5221b7c40f0\" target=\"_top\" title=\"psysml:4a06ff05-02b9-4148-90d6-f5221b7c40f0\" xlink:actuate=\"onRequest\" xlink:href=\"psysml:4a06ff05-02b9-4148-90d6-f5221b7c40f0\" xlink:show=\"new\" xlink:title=\"psysml:4a06ff05-02b9-4148-90d6-f5221b7c40f0\" xlink:type=\"simple\"><rect fill=\"#FFFFFF\" height=\"75.5469\" id=\"E2\" style=\"stroke: #383838; stroke-width: 1.5;\" width=\"92\" x=\"93\" y=\"189\"/><text fill=\"#000000\" font-family=\"sans-serif\" font-size=\"12\" font-style=\"italic\" lengthAdjust=\"spacingAndGlyphs\" textLength=\"64\" x=\"107\" y=\"205.1387\">«part def»</text><text fill=\"#000000\" font-family=\"sans-serif\" font-size=\"12\" lengthAdjust=\"spacingAndGlyphs\" textLength=\"16\" x=\"131\" y=\"219.1074\">P1</text><line style=\"stroke: #383838; stroke-width: 1.5;\" x1=\"94\" x2=\"184\" y1=\"226.9375\" y2=\"226.9375\"/><text fill=\"#000000\" font-family=\"sans-serif\" font-size=\"11\" lengthAdjust=\"spacingAndGlyphs\" textLength=\"36\" x=\"99\" y=\"257.9526\">porig1</text><text fill=\"#000000\" font-family=\"sans-serif\" font-size=\"11\" font-weight=\"bold\" lengthAdjust=\"spacingAndGlyphs\" textLength=\"15\" x=\"139\" y=\"257.9526\">as</text><text fill=\"#000000\" font-family=\"sans-serif\" font-size=\"11\" lengthAdjust=\"spacingAndGlyphs\" textLength=\"21\" x=\"158\" y=\"257.9526\">po1</text><line style=\"stroke: #383838; stroke-width: 1.0;\" x1=\"94\" x2=\"124\" y1=\"241.3398\" y2=\"241.3398\"/><text fill=\"#000000\" font-family=\"sans-serif\" font-size=\"11\" lengthAdjust=\"spacingAndGlyphs\" textLength=\"30\" x=\"124\" y=\"244.6479\">ports</text><line style=\"stroke: #383838; stroke-width: 1.0;\" x1=\"154\" x2=\"184\" y1=\"241.3398\" y2=\"241.3398\"/></a><!--MD5=[09b614a08d8cba4a07c9adeb5e0fee81]\n",
       "class E3--><a href=\"psysml:9ecf2706-3ec0-4307-8293-70ef42ab2608\" target=\"_top\" title=\"psysml:9ecf2706-3ec0-4307-8293-70ef42ab2608\" xlink:actuate=\"onRequest\" xlink:href=\"psysml:9ecf2706-3ec0-4307-8293-70ef42ab2608\" xlink:show=\"new\" xlink:title=\"psysml:9ecf2706-3ec0-4307-8293-70ef42ab2608\" xlink:type=\"simple\"><rect fill=\"#FFFFFF\" height=\"88.3516\" id=\"E3\" rx=\"10\" ry=\"10\" style=\"stroke: #383838; stroke-width: 1.5;\" width=\"92\" x=\"155\" y=\"41\"/><text fill=\"#000000\" font-family=\"sans-serif\" font-size=\"12\" font-style=\"italic\" lengthAdjust=\"spacingAndGlyphs\" textLength=\"40\" x=\"181\" y=\"57.1387\">«part»</text><text fill=\"#000000\" font-family=\"sans-serif\" font-size=\"12\" lengthAdjust=\"spacingAndGlyphs\" textLength=\"40\" x=\"181\" y=\"71.1074\">p1: P1</text><line style=\"stroke: #383838; stroke-width: 1.5;\" x1=\"156\" x2=\"246\" y1=\"78.9375\" y2=\"78.9375\"/><text fill=\"#000000\" font-family=\"sans-serif\" font-size=\"11\" lengthAdjust=\"spacingAndGlyphs\" textLength=\"21\" x=\"161\" y=\"109.9526\">po1</text><text fill=\"#000000\" font-family=\"sans-serif\" font-size=\"11\" font-style=\"italic\" lengthAdjust=\"spacingAndGlyphs\" textLength=\"80\" x=\"161\" y=\"122.7573\">:&gt;&gt;P1::porig1</text><line style=\"stroke: #383838; stroke-width: 1.0;\" x1=\"156\" x2=\"186\" y1=\"93.3398\" y2=\"93.3398\"/><text fill=\"#000000\" font-family=\"sans-serif\" font-size=\"11\" lengthAdjust=\"spacingAndGlyphs\" textLength=\"30\" x=\"186\" y=\"96.6479\">ports</text><line style=\"stroke: #383838; stroke-width: 1.0;\" x1=\"216\" x2=\"246\" y1=\"93.3398\" y2=\"93.3398\"/></a><!--MD5=[ebbe1d658d1005bcc118a6aa81145e00]\n",
       "class E4--><a href=\"psysml:28be41ac-7d51-495b-a80e-46db5ea96230\" target=\"_top\" title=\"psysml:28be41ac-7d51-495b-a80e-46db5ea96230\" xlink:actuate=\"onRequest\" xlink:href=\"psysml:28be41ac-7d51-495b-a80e-46db5ea96230\" xlink:show=\"new\" xlink:title=\"psysml:28be41ac-7d51-495b-a80e-46db5ea96230\" xlink:type=\"simple\"><rect fill=\"#FFFFFF\" height=\"75.5469\" id=\"E4\" rx=\"10\" ry=\"10\" style=\"stroke: #383838; stroke-width: 1.5;\" width=\"88\" x=\"32\" y=\"47\"/><text fill=\"#000000\" font-family=\"sans-serif\" font-size=\"12\" font-style=\"italic\" lengthAdjust=\"spacingAndGlyphs\" textLength=\"40\" x=\"56\" y=\"63.1387\">«part»</text><text fill=\"#000000\" font-family=\"sans-serif\" font-size=\"12\" lengthAdjust=\"spacingAndGlyphs\" textLength=\"40\" x=\"56\" y=\"77.1074\">p2: P1</text><line style=\"stroke: #383838; stroke-width: 1.5;\" x1=\"33\" x2=\"119\" y1=\"84.9375\" y2=\"84.9375\"/><text fill=\"#000000\" font-family=\"sans-serif\" font-size=\"11\" lengthAdjust=\"spacingAndGlyphs\" textLength=\"32\" x=\"38\" y=\"115.9526\">pdest</text><text fill=\"#000000\" font-family=\"sans-serif\" font-size=\"11\" font-weight=\"bold\" lengthAdjust=\"spacingAndGlyphs\" textLength=\"15\" x=\"74\" y=\"115.9526\">as</text><text fill=\"#000000\" font-family=\"sans-serif\" font-size=\"11\" lengthAdjust=\"spacingAndGlyphs\" textLength=\"21\" x=\"93\" y=\"115.9526\">pd1</text><line style=\"stroke: #383838; stroke-width: 1.0;\" x1=\"33\" x2=\"61\" y1=\"99.3398\" y2=\"99.3398\"/><text fill=\"#000000\" font-family=\"sans-serif\" font-size=\"11\" lengthAdjust=\"spacingAndGlyphs\" textLength=\"30\" x=\"61\" y=\"102.6479\">ports</text><line style=\"stroke: #383838; stroke-width: 1.0;\" x1=\"91\" x2=\"119\" y1=\"99.3398\" y2=\"99.3398\"/></a><!--MD5=[05d275557350bfb9b23a4ef7222b4c39]\n",
       "link E3 to E2--><a href=\"psysml:8ce18664-e29b-46f0-97c0-4b398d523e7c\" target=\"_top\" title=\"psysml:8ce18664-e29b-46f0-97c0-4b398d523e7c\" xlink:actuate=\"onRequest\" xlink:href=\"psysml:8ce18664-e29b-46f0-97c0-4b398d523e7c\" xlink:show=\"new\" xlink:title=\"psysml:8ce18664-e29b-46f0-97c0-4b398d523e7c\" xlink:type=\"simple\"><path d=\"M181.89,129.15 C176.14,142.14 169.74,156.6 163.67,170.29 \" fill=\"none\" id=\"E3-&gt;E2\" style=\"stroke: #383838; stroke-width: 1.0;\"/><polygon fill=\"#FFFFFF\" points=\"155.43,188.9,156.725,168.693,169.5254,174.3632,155.43,188.9\" style=\"stroke: #383838; stroke-width: 1.0;\"/><ellipse cx=\"160.8622\" cy=\"164.2914\" fill=\"#383838\" rx=\"2\" ry=\"2\" style=\"stroke: #383838; stroke-width: 1.0;\"/><ellipse cx=\"170.0053\" cy=\"168.3416\" fill=\"#383838\" rx=\"2\" ry=\"2\" style=\"stroke: #383838; stroke-width: 1.0;\"/></a><!--MD5=[185131fc0dcab0a4505a2ebe144e961b]\n",
       "link E4 to E2--><a href=\"psysml:aea9633f-bca5-4d9c-866d-d7db5d7aa3e2\" target=\"_top\" title=\"psysml:aea9633f-bca5-4d9c-866d-d7db5d7aa3e2\" xlink:actuate=\"onRequest\" xlink:href=\"psysml:aea9633f-bca5-4d9c-866d-d7db5d7aa3e2\" xlink:show=\"new\" xlink:title=\"psysml:aea9633f-bca5-4d9c-866d-d7db5d7aa3e2\" xlink:type=\"simple\"><path d=\"M92.72,123.15 C99.23,137.63 106.84,154.53 113.98,170.4 \" fill=\"none\" id=\"E4-&gt;E2\" style=\"stroke: #383838; stroke-width: 1.0;\"/><polygon fill=\"#FFFFFF\" points=\"122.2,188.68,108.0257,174.22,120.7951,168.4803,122.2,188.68\" style=\"stroke: #383838; stroke-width: 1.0;\"/><ellipse cx=\"107.5131\" cy=\"168.2011\" fill=\"#383838\" rx=\"2\" ry=\"2\" style=\"stroke: #383838; stroke-width: 1.0;\"/><ellipse cx=\"116.634\" cy=\"164.1014\" fill=\"#383838\" rx=\"2\" ry=\"2\" style=\"stroke: #383838; stroke-width: 1.0;\"/></a><!--MD5=[31f522a2a4b13699db5c39a8ed91d34a]\n",
       "@startuml\r\n",
       " skinparam monochrome true\r\n",
       "skinparam classbackgroundcolor white\r\n",
       "skinparam shadowing false\r\n",
       "skinparam wrapWidth 300\r\n",
       "hide circle\r\n",
       "\r\n",
       "package \"AliasTest\" as E1  [[psysml:d6640503-c03f-477e-b125-432046bb93b4 ]]  {\r\n",
       "comp def \"P1\" as E2  <<(T,blue)part def>> [[psysml:4a06ff05-02b9-4148-90d6-f5221b7c40f0 ]] {\r\n",
       "- - ports - -\r\n",
       "porig1 <b>as</b> po1 \r\n",
       "}\r\n",
       "comp usage \"p1: P1\" as E3  <<(T,blue)part>> [[psysml:9ecf2706-3ec0-4307-8293-70ef42ab2608 ]] {\r\n",
       "- - ports - -\r\n",
       "po1\\n//:>>P1::porig1// \r\n",
       "}\r\n",
       "comp usage \"p2: P1\" as E4  <<(T,blue)part>> [[psysml:28be41ac-7d51-495b-a80e-46db5ea96230 ]] {\r\n",
       "- - ports - -\r\n",
       "pdest <b>as</b> pd1 \r\n",
       "}\r\n",
       "E3 - -:|> E2 [[psysml:8ce18664-e29b-46f0-97c0-4b398d523e7c ]] \r\n",
       "E4 - -:|> E2 [[psysml:aea9633f-bca5-4d9c-866d-d7db5d7aa3e2 ]] \r\n",
       "}\r\n",
       "@enduml\r\n",
       "\n",
       "PlantUML version 1.2020.13(Sat Jun 13 12:26:38 UTC 2020)\n",
       "(EPL source distribution)\n",
       "Java Runtime: OpenJDK Runtime Environment\n",
       "JVM: OpenJDK 64-Bit Server VM\n",
       "Default Encoding: UTF-8\n",
       "Language: en\n",
       "Country: null\n",
       "--></g></svg>"
      ]
     },
     "execution_count": 7,
     "metadata": {},
     "output_type": "execute_result"
    }
   ],
   "source": [
    "%viz --style=\"COMPTREE\" --view=\"Sequence\" \"AliasTest\""
   ]
  },
  {
   "cell_type": "code",
   "execution_count": 8,
   "id": "composite-forge",
   "metadata": {
    "execution": {
     "iopub.execute_input": "2021-03-25T13:15:12.831639Z",
     "iopub.status.busy": "2021-03-25T13:15:12.830916Z",
     "iopub.status.idle": "2021-03-25T13:15:13.679277Z",
     "shell.execute_reply": "2021-03-25T13:15:13.677600Z"
    }
   },
   "outputs": [
    {
     "data": {
      "image/svg+xml": [
       "<?xml version=\"1.0\" encoding=\"UTF-8\" standalone=\"no\"?><svg xmlns=\"http://www.w3.org/2000/svg\" xmlns:xlink=\"http://www.w3.org/1999/xlink\" contentScriptType=\"application/ecmascript\" contentStyleType=\"text/css\" height=\"293px\" preserveAspectRatio=\"none\" style=\"width:285px;height:293px;\" version=\"1.1\" viewBox=\"0 0 285 293\" width=\"285px\" zoomAndPan=\"magnify\"><defs/><g><!--MD5=[fbc87193dbaf4d95561dea2c320d4a47]\n",
       "cluster E1--><a href=\"psysml:d6640503-c03f-477e-b125-432046bb93b4\" target=\"_top\" title=\"psysml:d6640503-c03f-477e-b125-432046bb93b4\" xlink:actuate=\"onRequest\" xlink:href=\"psysml:d6640503-c03f-477e-b125-432046bb93b4\" xlink:show=\"new\" xlink:title=\"psysml:d6640503-c03f-477e-b125-432046bb93b4\" xlink:type=\"simple\"><polygon fill=\"#FFFFFF\" points=\"16,6,94,6,101,28.2969,263,28.2969,263,281,16,281,16,6\" style=\"stroke: #000000; stroke-width: 1.5;\"/><line style=\"stroke: #000000; stroke-width: 1.5;\" x1=\"16\" x2=\"101\" y1=\"28.2969\" y2=\"28.2969\"/><text fill=\"#000000\" font-family=\"sans-serif\" font-size=\"14\" font-weight=\"bold\" lengthAdjust=\"spacingAndGlyphs\" textLength=\"72\" x=\"20\" y=\"20.9951\">AliasTest</text></a><!--MD5=[b4997ac47864f28c2f74865a473b2911]\n",
       "class E2--><a href=\"psysml:4a06ff05-02b9-4148-90d6-f5221b7c40f0\" target=\"_top\" title=\"psysml:4a06ff05-02b9-4148-90d6-f5221b7c40f0\" xlink:actuate=\"onRequest\" xlink:href=\"psysml:4a06ff05-02b9-4148-90d6-f5221b7c40f0\" xlink:show=\"new\" xlink:title=\"psysml:4a06ff05-02b9-4148-90d6-f5221b7c40f0\" xlink:type=\"simple\"><rect fill=\"#FFFFFF\" height=\"75.5469\" id=\"E2\" style=\"stroke: #383838; stroke-width: 1.5;\" width=\"92\" x=\"93\" y=\"189\"/><text fill=\"#000000\" font-family=\"sans-serif\" font-size=\"12\" font-style=\"italic\" lengthAdjust=\"spacingAndGlyphs\" textLength=\"64\" x=\"107\" y=\"205.1387\">«part def»</text><text fill=\"#000000\" font-family=\"sans-serif\" font-size=\"12\" lengthAdjust=\"spacingAndGlyphs\" textLength=\"16\" x=\"131\" y=\"219.1074\">P1</text><line style=\"stroke: #383838; stroke-width: 1.5;\" x1=\"94\" x2=\"184\" y1=\"226.9375\" y2=\"226.9375\"/><text fill=\"#000000\" font-family=\"sans-serif\" font-size=\"11\" lengthAdjust=\"spacingAndGlyphs\" textLength=\"36\" x=\"99\" y=\"257.9526\">porig1</text><text fill=\"#000000\" font-family=\"sans-serif\" font-size=\"11\" font-weight=\"bold\" lengthAdjust=\"spacingAndGlyphs\" textLength=\"15\" x=\"139\" y=\"257.9526\">as</text><text fill=\"#000000\" font-family=\"sans-serif\" font-size=\"11\" lengthAdjust=\"spacingAndGlyphs\" textLength=\"21\" x=\"158\" y=\"257.9526\">po1</text><line style=\"stroke: #383838; stroke-width: 1.0;\" x1=\"94\" x2=\"124\" y1=\"241.3398\" y2=\"241.3398\"/><text fill=\"#000000\" font-family=\"sans-serif\" font-size=\"11\" lengthAdjust=\"spacingAndGlyphs\" textLength=\"30\" x=\"124\" y=\"244.6479\">ports</text><line style=\"stroke: #383838; stroke-width: 1.0;\" x1=\"154\" x2=\"184\" y1=\"241.3398\" y2=\"241.3398\"/></a><!--MD5=[09b614a08d8cba4a07c9adeb5e0fee81]\n",
       "class E3--><a href=\"psysml:9ecf2706-3ec0-4307-8293-70ef42ab2608\" target=\"_top\" title=\"psysml:9ecf2706-3ec0-4307-8293-70ef42ab2608\" xlink:actuate=\"onRequest\" xlink:href=\"psysml:9ecf2706-3ec0-4307-8293-70ef42ab2608\" xlink:show=\"new\" xlink:title=\"psysml:9ecf2706-3ec0-4307-8293-70ef42ab2608\" xlink:type=\"simple\"><rect fill=\"#FFFFFF\" height=\"88.3516\" id=\"E3\" rx=\"10\" ry=\"10\" style=\"stroke: #383838; stroke-width: 1.5;\" width=\"92\" x=\"155\" y=\"41\"/><text fill=\"#000000\" font-family=\"sans-serif\" font-size=\"12\" font-style=\"italic\" lengthAdjust=\"spacingAndGlyphs\" textLength=\"40\" x=\"181\" y=\"57.1387\">«part»</text><text fill=\"#000000\" font-family=\"sans-serif\" font-size=\"12\" lengthAdjust=\"spacingAndGlyphs\" textLength=\"40\" x=\"181\" y=\"71.1074\">p1: P1</text><line style=\"stroke: #383838; stroke-width: 1.5;\" x1=\"156\" x2=\"246\" y1=\"78.9375\" y2=\"78.9375\"/><text fill=\"#000000\" font-family=\"sans-serif\" font-size=\"11\" lengthAdjust=\"spacingAndGlyphs\" textLength=\"21\" x=\"161\" y=\"109.9526\">po1</text><text fill=\"#000000\" font-family=\"sans-serif\" font-size=\"11\" font-style=\"italic\" lengthAdjust=\"spacingAndGlyphs\" textLength=\"80\" x=\"161\" y=\"122.7573\">:&gt;&gt;P1::porig1</text><line style=\"stroke: #383838; stroke-width: 1.0;\" x1=\"156\" x2=\"186\" y1=\"93.3398\" y2=\"93.3398\"/><text fill=\"#000000\" font-family=\"sans-serif\" font-size=\"11\" lengthAdjust=\"spacingAndGlyphs\" textLength=\"30\" x=\"186\" y=\"96.6479\">ports</text><line style=\"stroke: #383838; stroke-width: 1.0;\" x1=\"216\" x2=\"246\" y1=\"93.3398\" y2=\"93.3398\"/></a><!--MD5=[ebbe1d658d1005bcc118a6aa81145e00]\n",
       "class E4--><a href=\"psysml:28be41ac-7d51-495b-a80e-46db5ea96230\" target=\"_top\" title=\"psysml:28be41ac-7d51-495b-a80e-46db5ea96230\" xlink:actuate=\"onRequest\" xlink:href=\"psysml:28be41ac-7d51-495b-a80e-46db5ea96230\" xlink:show=\"new\" xlink:title=\"psysml:28be41ac-7d51-495b-a80e-46db5ea96230\" xlink:type=\"simple\"><rect fill=\"#FFFFFF\" height=\"75.5469\" id=\"E4\" rx=\"10\" ry=\"10\" style=\"stroke: #383838; stroke-width: 1.5;\" width=\"88\" x=\"32\" y=\"47\"/><text fill=\"#000000\" font-family=\"sans-serif\" font-size=\"12\" font-style=\"italic\" lengthAdjust=\"spacingAndGlyphs\" textLength=\"40\" x=\"56\" y=\"63.1387\">«part»</text><text fill=\"#000000\" font-family=\"sans-serif\" font-size=\"12\" lengthAdjust=\"spacingAndGlyphs\" textLength=\"40\" x=\"56\" y=\"77.1074\">p2: P1</text><line style=\"stroke: #383838; stroke-width: 1.5;\" x1=\"33\" x2=\"119\" y1=\"84.9375\" y2=\"84.9375\"/><text fill=\"#000000\" font-family=\"sans-serif\" font-size=\"11\" lengthAdjust=\"spacingAndGlyphs\" textLength=\"32\" x=\"38\" y=\"115.9526\">pdest</text><text fill=\"#000000\" font-family=\"sans-serif\" font-size=\"11\" font-weight=\"bold\" lengthAdjust=\"spacingAndGlyphs\" textLength=\"15\" x=\"74\" y=\"115.9526\">as</text><text fill=\"#000000\" font-family=\"sans-serif\" font-size=\"11\" lengthAdjust=\"spacingAndGlyphs\" textLength=\"21\" x=\"93\" y=\"115.9526\">pd1</text><line style=\"stroke: #383838; stroke-width: 1.0;\" x1=\"33\" x2=\"61\" y1=\"99.3398\" y2=\"99.3398\"/><text fill=\"#000000\" font-family=\"sans-serif\" font-size=\"11\" lengthAdjust=\"spacingAndGlyphs\" textLength=\"30\" x=\"61\" y=\"102.6479\">ports</text><line style=\"stroke: #383838; stroke-width: 1.0;\" x1=\"91\" x2=\"119\" y1=\"99.3398\" y2=\"99.3398\"/></a><!--MD5=[05d275557350bfb9b23a4ef7222b4c39]\n",
       "link E3 to E2--><a href=\"psysml:8ce18664-e29b-46f0-97c0-4b398d523e7c\" target=\"_top\" title=\"psysml:8ce18664-e29b-46f0-97c0-4b398d523e7c\" xlink:actuate=\"onRequest\" xlink:href=\"psysml:8ce18664-e29b-46f0-97c0-4b398d523e7c\" xlink:show=\"new\" xlink:title=\"psysml:8ce18664-e29b-46f0-97c0-4b398d523e7c\" xlink:type=\"simple\"><path d=\"M181.89,129.15 C176.14,142.14 169.74,156.6 163.67,170.29 \" fill=\"none\" id=\"E3-&gt;E2\" style=\"stroke: #383838; stroke-width: 1.0;\"/><polygon fill=\"#FFFFFF\" points=\"155.43,188.9,156.725,168.693,169.5254,174.3632,155.43,188.9\" style=\"stroke: #383838; stroke-width: 1.0;\"/><ellipse cx=\"160.8622\" cy=\"164.2914\" fill=\"#383838\" rx=\"2\" ry=\"2\" style=\"stroke: #383838; stroke-width: 1.0;\"/><ellipse cx=\"170.0053\" cy=\"168.3416\" fill=\"#383838\" rx=\"2\" ry=\"2\" style=\"stroke: #383838; stroke-width: 1.0;\"/></a><!--MD5=[185131fc0dcab0a4505a2ebe144e961b]\n",
       "link E4 to E2--><a href=\"psysml:aea9633f-bca5-4d9c-866d-d7db5d7aa3e2\" target=\"_top\" title=\"psysml:aea9633f-bca5-4d9c-866d-d7db5d7aa3e2\" xlink:actuate=\"onRequest\" xlink:href=\"psysml:aea9633f-bca5-4d9c-866d-d7db5d7aa3e2\" xlink:show=\"new\" xlink:title=\"psysml:aea9633f-bca5-4d9c-866d-d7db5d7aa3e2\" xlink:type=\"simple\"><path d=\"M92.72,123.15 C99.23,137.63 106.84,154.53 113.98,170.4 \" fill=\"none\" id=\"E4-&gt;E2\" style=\"stroke: #383838; stroke-width: 1.0;\"/><polygon fill=\"#FFFFFF\" points=\"122.2,188.68,108.0257,174.22,120.7951,168.4803,122.2,188.68\" style=\"stroke: #383838; stroke-width: 1.0;\"/><ellipse cx=\"107.5131\" cy=\"168.2011\" fill=\"#383838\" rx=\"2\" ry=\"2\" style=\"stroke: #383838; stroke-width: 1.0;\"/><ellipse cx=\"116.634\" cy=\"164.1014\" fill=\"#383838\" rx=\"2\" ry=\"2\" style=\"stroke: #383838; stroke-width: 1.0;\"/></a><!--MD5=[31f522a2a4b13699db5c39a8ed91d34a]\n",
       "@startuml\r\n",
       " skinparam monochrome true\r\n",
       "skinparam classbackgroundcolor white\r\n",
       "skinparam shadowing false\r\n",
       "skinparam wrapWidth 300\r\n",
       "hide circle\r\n",
       "\r\n",
       "package \"AliasTest\" as E1  [[psysml:d6640503-c03f-477e-b125-432046bb93b4 ]]  {\r\n",
       "comp def \"P1\" as E2  <<(T,blue)part def>> [[psysml:4a06ff05-02b9-4148-90d6-f5221b7c40f0 ]] {\r\n",
       "- - ports - -\r\n",
       "porig1 <b>as</b> po1 \r\n",
       "}\r\n",
       "comp usage \"p1: P1\" as E3  <<(T,blue)part>> [[psysml:9ecf2706-3ec0-4307-8293-70ef42ab2608 ]] {\r\n",
       "- - ports - -\r\n",
       "po1\\n//:>>P1::porig1// \r\n",
       "}\r\n",
       "comp usage \"p2: P1\" as E4  <<(T,blue)part>> [[psysml:28be41ac-7d51-495b-a80e-46db5ea96230 ]] {\r\n",
       "- - ports - -\r\n",
       "pdest <b>as</b> pd1 \r\n",
       "}\r\n",
       "E3 - -:|> E2 [[psysml:8ce18664-e29b-46f0-97c0-4b398d523e7c ]] \r\n",
       "E4 - -:|> E2 [[psysml:aea9633f-bca5-4d9c-866d-d7db5d7aa3e2 ]] \r\n",
       "}\r\n",
       "@enduml\r\n",
       "\n",
       "PlantUML version 1.2020.13(Sat Jun 13 12:26:38 UTC 2020)\n",
       "(EPL source distribution)\n",
       "Java Runtime: OpenJDK Runtime Environment\n",
       "JVM: OpenJDK 64-Bit Server VM\n",
       "Default Encoding: UTF-8\n",
       "Language: en\n",
       "Country: null\n",
       "--></g></svg>"
      ]
     },
     "execution_count": 8,
     "metadata": {},
     "output_type": "execute_result"
    }
   ],
   "source": [
    "%viz --style=\"COMPTREE\" --view=\"MIXED\" \"AliasTest\""
   ]
  },
  {
   "cell_type": "code",
   "execution_count": 9,
   "id": "educated-copper",
   "metadata": {
    "execution": {
     "iopub.execute_input": "2021-03-25T13:15:13.727037Z",
     "iopub.status.busy": "2021-03-25T13:15:13.726289Z",
     "iopub.status.idle": "2021-03-25T13:15:14.469200Z",
     "shell.execute_reply": "2021-03-25T13:15:14.468698Z"
    }
   },
   "outputs": [
    {
     "data": {
      "image/svg+xml": [
       "<?xml version=\"1.0\" encoding=\"UTF-8\" standalone=\"no\"?><svg xmlns=\"http://www.w3.org/2000/svg\" xmlns:xlink=\"http://www.w3.org/1999/xlink\" contentScriptType=\"application/ecmascript\" contentStyleType=\"text/css\" height=\"293px\" preserveAspectRatio=\"none\" style=\"width:285px;height:293px;\" version=\"1.1\" viewBox=\"0 0 285 293\" width=\"285px\" zoomAndPan=\"magnify\"><defs/><g><!--MD5=[fbc87193dbaf4d95561dea2c320d4a47]\n",
       "cluster E1--><a href=\"psysml:d6640503-c03f-477e-b125-432046bb93b4\" target=\"_top\" title=\"psysml:d6640503-c03f-477e-b125-432046bb93b4\" xlink:actuate=\"onRequest\" xlink:href=\"psysml:d6640503-c03f-477e-b125-432046bb93b4\" xlink:show=\"new\" xlink:title=\"psysml:d6640503-c03f-477e-b125-432046bb93b4\" xlink:type=\"simple\"><polygon fill=\"#FFFFFF\" points=\"16,6,94,6,101,28.2969,263,28.2969,263,281,16,281,16,6\" style=\"stroke: #000000; stroke-width: 1.5;\"/><line style=\"stroke: #000000; stroke-width: 1.5;\" x1=\"16\" x2=\"101\" y1=\"28.2969\" y2=\"28.2969\"/><text fill=\"#000000\" font-family=\"sans-serif\" font-size=\"14\" font-weight=\"bold\" lengthAdjust=\"spacingAndGlyphs\" textLength=\"72\" x=\"20\" y=\"20.9951\">AliasTest</text></a><!--MD5=[b4997ac47864f28c2f74865a473b2911]\n",
       "class E2--><a href=\"psysml:4a06ff05-02b9-4148-90d6-f5221b7c40f0\" target=\"_top\" title=\"psysml:4a06ff05-02b9-4148-90d6-f5221b7c40f0\" xlink:actuate=\"onRequest\" xlink:href=\"psysml:4a06ff05-02b9-4148-90d6-f5221b7c40f0\" xlink:show=\"new\" xlink:title=\"psysml:4a06ff05-02b9-4148-90d6-f5221b7c40f0\" xlink:type=\"simple\"><rect fill=\"#FFFFFF\" height=\"75.5469\" id=\"E2\" style=\"stroke: #383838; stroke-width: 1.5;\" width=\"92\" x=\"93\" y=\"189\"/><text fill=\"#000000\" font-family=\"sans-serif\" font-size=\"12\" font-style=\"italic\" lengthAdjust=\"spacingAndGlyphs\" textLength=\"64\" x=\"107\" y=\"205.1387\">«part def»</text><text fill=\"#000000\" font-family=\"sans-serif\" font-size=\"12\" lengthAdjust=\"spacingAndGlyphs\" textLength=\"16\" x=\"131\" y=\"219.1074\">P1</text><line style=\"stroke: #383838; stroke-width: 1.5;\" x1=\"94\" x2=\"184\" y1=\"226.9375\" y2=\"226.9375\"/><text fill=\"#000000\" font-family=\"sans-serif\" font-size=\"11\" lengthAdjust=\"spacingAndGlyphs\" textLength=\"36\" x=\"99\" y=\"257.9526\">porig1</text><text fill=\"#000000\" font-family=\"sans-serif\" font-size=\"11\" font-weight=\"bold\" lengthAdjust=\"spacingAndGlyphs\" textLength=\"15\" x=\"139\" y=\"257.9526\">as</text><text fill=\"#000000\" font-family=\"sans-serif\" font-size=\"11\" lengthAdjust=\"spacingAndGlyphs\" textLength=\"21\" x=\"158\" y=\"257.9526\">po1</text><line style=\"stroke: #383838; stroke-width: 1.0;\" x1=\"94\" x2=\"124\" y1=\"241.3398\" y2=\"241.3398\"/><text fill=\"#000000\" font-family=\"sans-serif\" font-size=\"11\" lengthAdjust=\"spacingAndGlyphs\" textLength=\"30\" x=\"124\" y=\"244.6479\">ports</text><line style=\"stroke: #383838; stroke-width: 1.0;\" x1=\"154\" x2=\"184\" y1=\"241.3398\" y2=\"241.3398\"/></a><!--MD5=[ebbe1d658d1005bcc118a6aa81145e00]\n",
       "class E4--><a href=\"psysml:9ecf2706-3ec0-4307-8293-70ef42ab2608\" target=\"_top\" title=\"psysml:9ecf2706-3ec0-4307-8293-70ef42ab2608\" xlink:actuate=\"onRequest\" xlink:href=\"psysml:9ecf2706-3ec0-4307-8293-70ef42ab2608\" xlink:show=\"new\" xlink:title=\"psysml:9ecf2706-3ec0-4307-8293-70ef42ab2608\" xlink:type=\"simple\"><rect fill=\"#FFFFFF\" height=\"88.3516\" id=\"E4\" rx=\"10\" ry=\"10\" style=\"stroke: #383838; stroke-width: 1.5;\" width=\"92\" x=\"155\" y=\"41\"/><text fill=\"#000000\" font-family=\"sans-serif\" font-size=\"12\" font-style=\"italic\" lengthAdjust=\"spacingAndGlyphs\" textLength=\"40\" x=\"181\" y=\"57.1387\">«part»</text><text fill=\"#000000\" font-family=\"sans-serif\" font-size=\"12\" lengthAdjust=\"spacingAndGlyphs\" textLength=\"40\" x=\"181\" y=\"71.1074\">p1: P1</text><line style=\"stroke: #383838; stroke-width: 1.5;\" x1=\"156\" x2=\"246\" y1=\"78.9375\" y2=\"78.9375\"/><text fill=\"#000000\" font-family=\"sans-serif\" font-size=\"11\" lengthAdjust=\"spacingAndGlyphs\" textLength=\"21\" x=\"161\" y=\"109.9526\">po1</text><text fill=\"#000000\" font-family=\"sans-serif\" font-size=\"11\" font-style=\"italic\" lengthAdjust=\"spacingAndGlyphs\" textLength=\"80\" x=\"161\" y=\"122.7573\">:&gt;&gt;P1::porig1</text><line style=\"stroke: #383838; stroke-width: 1.0;\" x1=\"156\" x2=\"186\" y1=\"93.3398\" y2=\"93.3398\"/><text fill=\"#000000\" font-family=\"sans-serif\" font-size=\"11\" lengthAdjust=\"spacingAndGlyphs\" textLength=\"30\" x=\"186\" y=\"96.6479\">ports</text><line style=\"stroke: #383838; stroke-width: 1.0;\" x1=\"216\" x2=\"246\" y1=\"93.3398\" y2=\"93.3398\"/></a><!--MD5=[60a26617385b1d2d0262a64233df1f8d]\n",
       "class E6--><a href=\"psysml:28be41ac-7d51-495b-a80e-46db5ea96230\" target=\"_top\" title=\"psysml:28be41ac-7d51-495b-a80e-46db5ea96230\" xlink:actuate=\"onRequest\" xlink:href=\"psysml:28be41ac-7d51-495b-a80e-46db5ea96230\" xlink:show=\"new\" xlink:title=\"psysml:28be41ac-7d51-495b-a80e-46db5ea96230\" xlink:type=\"simple\"><rect fill=\"#FFFFFF\" height=\"75.5469\" id=\"E6\" rx=\"10\" ry=\"10\" style=\"stroke: #383838; stroke-width: 1.5;\" width=\"88\" x=\"32\" y=\"47\"/><text fill=\"#000000\" font-family=\"sans-serif\" font-size=\"12\" font-style=\"italic\" lengthAdjust=\"spacingAndGlyphs\" textLength=\"40\" x=\"56\" y=\"63.1387\">«part»</text><text fill=\"#000000\" font-family=\"sans-serif\" font-size=\"12\" lengthAdjust=\"spacingAndGlyphs\" textLength=\"40\" x=\"56\" y=\"77.1074\">p2: P1</text><line style=\"stroke: #383838; stroke-width: 1.5;\" x1=\"33\" x2=\"119\" y1=\"84.9375\" y2=\"84.9375\"/><text fill=\"#000000\" font-family=\"sans-serif\" font-size=\"11\" lengthAdjust=\"spacingAndGlyphs\" textLength=\"32\" x=\"38\" y=\"115.9526\">pdest</text><text fill=\"#000000\" font-family=\"sans-serif\" font-size=\"11\" font-weight=\"bold\" lengthAdjust=\"spacingAndGlyphs\" textLength=\"15\" x=\"74\" y=\"115.9526\">as</text><text fill=\"#000000\" font-family=\"sans-serif\" font-size=\"11\" lengthAdjust=\"spacingAndGlyphs\" textLength=\"21\" x=\"93\" y=\"115.9526\">pd1</text><line style=\"stroke: #383838; stroke-width: 1.0;\" x1=\"33\" x2=\"61\" y1=\"99.3398\" y2=\"99.3398\"/><text fill=\"#000000\" font-family=\"sans-serif\" font-size=\"11\" lengthAdjust=\"spacingAndGlyphs\" textLength=\"30\" x=\"61\" y=\"102.6479\">ports</text><line style=\"stroke: #383838; stroke-width: 1.0;\" x1=\"91\" x2=\"119\" y1=\"99.3398\" y2=\"99.3398\"/></a><!--MD5=[185131fc0dcab0a4505a2ebe144e961b]\n",
       "link E4 to E2--><a href=\"psysml:8ce18664-e29b-46f0-97c0-4b398d523e7c\" target=\"_top\" title=\"psysml:8ce18664-e29b-46f0-97c0-4b398d523e7c\" xlink:actuate=\"onRequest\" xlink:href=\"psysml:8ce18664-e29b-46f0-97c0-4b398d523e7c\" xlink:show=\"new\" xlink:title=\"psysml:8ce18664-e29b-46f0-97c0-4b398d523e7c\" xlink:type=\"simple\"><path d=\"M181.89,129.15 C176.14,142.14 169.74,156.6 163.67,170.29 \" fill=\"none\" id=\"E4-&gt;E2\" style=\"stroke: #383838; stroke-width: 1.0;\"/><polygon fill=\"#FFFFFF\" points=\"155.43,188.9,156.725,168.693,169.5254,174.3632,155.43,188.9\" style=\"stroke: #383838; stroke-width: 1.0;\"/><ellipse cx=\"160.8622\" cy=\"164.2914\" fill=\"#383838\" rx=\"2\" ry=\"2\" style=\"stroke: #383838; stroke-width: 1.0;\"/><ellipse cx=\"170.0053\" cy=\"168.3416\" fill=\"#383838\" rx=\"2\" ry=\"2\" style=\"stroke: #383838; stroke-width: 1.0;\"/></a><!--MD5=[2351f337d6de0f557b50152ba70847b5]\n",
       "link E6 to E2--><a href=\"psysml:aea9633f-bca5-4d9c-866d-d7db5d7aa3e2\" target=\"_top\" title=\"psysml:aea9633f-bca5-4d9c-866d-d7db5d7aa3e2\" xlink:actuate=\"onRequest\" xlink:href=\"psysml:aea9633f-bca5-4d9c-866d-d7db5d7aa3e2\" xlink:show=\"new\" xlink:title=\"psysml:aea9633f-bca5-4d9c-866d-d7db5d7aa3e2\" xlink:type=\"simple\"><path d=\"M92.72,123.15 C99.23,137.63 106.84,154.53 113.98,170.4 \" fill=\"none\" id=\"E6-&gt;E2\" style=\"stroke: #383838; stroke-width: 1.0;\"/><polygon fill=\"#FFFFFF\" points=\"122.2,188.68,108.0257,174.22,120.7951,168.4803,122.2,188.68\" style=\"stroke: #383838; stroke-width: 1.0;\"/><ellipse cx=\"107.5131\" cy=\"168.2011\" fill=\"#383838\" rx=\"2\" ry=\"2\" style=\"stroke: #383838; stroke-width: 1.0;\"/><ellipse cx=\"116.634\" cy=\"164.1014\" fill=\"#383838\" rx=\"2\" ry=\"2\" style=\"stroke: #383838; stroke-width: 1.0;\"/></a><!--MD5=[12458a6b631990c0b83b5f3c6cf6401d]\n",
       "@startuml\r\n",
       "skinparam linetype polyline\r\n",
       "skinparam monochrome true\r\n",
       "skinparam classbackgroundcolor white\r\n",
       "skinparam shadowing false\r\n",
       "skinparam wrapWidth 300\r\n",
       "hide circle\r\n",
       "\r\n",
       "package \"AliasTest\" as E1  [[psysml:d6640503-c03f-477e-b125-432046bb93b4 ]]  {\r\n",
       "comp def \"P1\" as E2  <<(T,blue)part def>> [[psysml:4a06ff05-02b9-4148-90d6-f5221b7c40f0 ]] {\r\n",
       "- - ports - -\r\n",
       "porig1 <b>as</b> po1 \r\n",
       "}\r\n",
       "comp usage \"p1: P1\" as E4  <<(T,blue)part>> [[psysml:9ecf2706-3ec0-4307-8293-70ef42ab2608 ]] {\r\n",
       "- - ports - -\r\n",
       "po1\\n//:>>P1::porig1// \r\n",
       "}\r\n",
       "comp usage \"p2: P1\" as E6  <<(T,blue)part>> [[psysml:28be41ac-7d51-495b-a80e-46db5ea96230 ]] {\r\n",
       "- - ports - -\r\n",
       "pdest <b>as</b> pd1 \r\n",
       "}\r\n",
       "E4 - -:|> E2 [[psysml:8ce18664-e29b-46f0-97c0-4b398d523e7c ]] \r\n",
       "E6 - -:|> E2 [[psysml:aea9633f-bca5-4d9c-866d-d7db5d7aa3e2 ]] \r\n",
       "}\r\n",
       "@enduml\r\n",
       "\n",
       "PlantUML version 1.2020.13(Sat Jun 13 12:26:38 UTC 2020)\n",
       "(EPL source distribution)\n",
       "Java Runtime: OpenJDK Runtime Environment\n",
       "JVM: OpenJDK 64-Bit Server VM\n",
       "Default Encoding: UTF-8\n",
       "Language: en\n",
       "Country: null\n",
       "--></g></svg>"
      ]
     },
     "execution_count": 9,
     "metadata": {},
     "output_type": "execute_result"
    }
   ],
   "source": [
    "%viz --style=\"POLYLINE\" --view=\"Default\" \"AliasTest\""
   ]
  },
  {
   "cell_type": "code",
   "execution_count": 10,
   "id": "actual-warren",
   "metadata": {
    "execution": {
     "iopub.execute_input": "2021-03-25T13:15:14.518560Z",
     "iopub.status.busy": "2021-03-25T13:15:14.517953Z",
     "iopub.status.idle": "2021-03-25T13:15:15.215924Z",
     "shell.execute_reply": "2021-03-25T13:15:15.214132Z"
    }
   },
   "outputs": [
    {
     "data": {
      "image/svg+xml": [
       "<?xml version=\"1.0\" encoding=\"UTF-8\" standalone=\"no\"?><svg xmlns=\"http://www.w3.org/2000/svg\" xmlns:xlink=\"http://www.w3.org/1999/xlink\" contentScriptType=\"application/ecmascript\" contentStyleType=\"text/css\" height=\"293px\" preserveAspectRatio=\"none\" style=\"width:285px;height:293px;\" version=\"1.1\" viewBox=\"0 0 285 293\" width=\"285px\" zoomAndPan=\"magnify\"><defs/><g><!--MD5=[fbc87193dbaf4d95561dea2c320d4a47]\n",
       "cluster E1--><a href=\"psysml:d6640503-c03f-477e-b125-432046bb93b4\" target=\"_top\" title=\"psysml:d6640503-c03f-477e-b125-432046bb93b4\" xlink:actuate=\"onRequest\" xlink:href=\"psysml:d6640503-c03f-477e-b125-432046bb93b4\" xlink:show=\"new\" xlink:title=\"psysml:d6640503-c03f-477e-b125-432046bb93b4\" xlink:type=\"simple\"><polygon fill=\"#FFFFFF\" points=\"16,6,94,6,101,28.2969,263,28.2969,263,281,16,281,16,6\" style=\"stroke: #000000; stroke-width: 1.5;\"/><line style=\"stroke: #000000; stroke-width: 1.5;\" x1=\"16\" x2=\"101\" y1=\"28.2969\" y2=\"28.2969\"/><text fill=\"#000000\" font-family=\"sans-serif\" font-size=\"14\" font-weight=\"bold\" lengthAdjust=\"spacingAndGlyphs\" textLength=\"72\" x=\"20\" y=\"20.9951\">AliasTest</text></a><!--MD5=[b4997ac47864f28c2f74865a473b2911]\n",
       "class E2--><a href=\"psysml:4a06ff05-02b9-4148-90d6-f5221b7c40f0\" target=\"_top\" title=\"psysml:4a06ff05-02b9-4148-90d6-f5221b7c40f0\" xlink:actuate=\"onRequest\" xlink:href=\"psysml:4a06ff05-02b9-4148-90d6-f5221b7c40f0\" xlink:show=\"new\" xlink:title=\"psysml:4a06ff05-02b9-4148-90d6-f5221b7c40f0\" xlink:type=\"simple\"><rect fill=\"#FFFFFF\" height=\"75.5469\" id=\"E2\" style=\"stroke: #383838; stroke-width: 1.5;\" width=\"92\" x=\"93\" y=\"189\"/><text fill=\"#000000\" font-family=\"sans-serif\" font-size=\"12\" font-style=\"italic\" lengthAdjust=\"spacingAndGlyphs\" textLength=\"64\" x=\"107\" y=\"205.1387\">«part def»</text><text fill=\"#000000\" font-family=\"sans-serif\" font-size=\"12\" lengthAdjust=\"spacingAndGlyphs\" textLength=\"16\" x=\"131\" y=\"219.1074\">P1</text><line style=\"stroke: #383838; stroke-width: 1.5;\" x1=\"94\" x2=\"184\" y1=\"226.9375\" y2=\"226.9375\"/><text fill=\"#000000\" font-family=\"sans-serif\" font-size=\"11\" lengthAdjust=\"spacingAndGlyphs\" textLength=\"36\" x=\"99\" y=\"257.9526\">porig1</text><text fill=\"#000000\" font-family=\"sans-serif\" font-size=\"11\" font-weight=\"bold\" lengthAdjust=\"spacingAndGlyphs\" textLength=\"15\" x=\"139\" y=\"257.9526\">as</text><text fill=\"#000000\" font-family=\"sans-serif\" font-size=\"11\" lengthAdjust=\"spacingAndGlyphs\" textLength=\"21\" x=\"158\" y=\"257.9526\">po1</text><line style=\"stroke: #383838; stroke-width: 1.0;\" x1=\"94\" x2=\"124\" y1=\"241.3398\" y2=\"241.3398\"/><text fill=\"#000000\" font-family=\"sans-serif\" font-size=\"11\" lengthAdjust=\"spacingAndGlyphs\" textLength=\"30\" x=\"124\" y=\"244.6479\">ports</text><line style=\"stroke: #383838; stroke-width: 1.0;\" x1=\"154\" x2=\"184\" y1=\"241.3398\" y2=\"241.3398\"/></a><!--MD5=[ebbe1d658d1005bcc118a6aa81145e00]\n",
       "class E4--><a href=\"psysml:9ecf2706-3ec0-4307-8293-70ef42ab2608\" target=\"_top\" title=\"psysml:9ecf2706-3ec0-4307-8293-70ef42ab2608\" xlink:actuate=\"onRequest\" xlink:href=\"psysml:9ecf2706-3ec0-4307-8293-70ef42ab2608\" xlink:show=\"new\" xlink:title=\"psysml:9ecf2706-3ec0-4307-8293-70ef42ab2608\" xlink:type=\"simple\"><rect fill=\"#FFFFFF\" height=\"88.3516\" id=\"E4\" rx=\"10\" ry=\"10\" style=\"stroke: #383838; stroke-width: 1.5;\" width=\"92\" x=\"155\" y=\"41\"/><text fill=\"#000000\" font-family=\"sans-serif\" font-size=\"12\" font-style=\"italic\" lengthAdjust=\"spacingAndGlyphs\" textLength=\"40\" x=\"181\" y=\"57.1387\">«part»</text><text fill=\"#000000\" font-family=\"sans-serif\" font-size=\"12\" lengthAdjust=\"spacingAndGlyphs\" textLength=\"40\" x=\"181\" y=\"71.1074\">p1: P1</text><line style=\"stroke: #383838; stroke-width: 1.5;\" x1=\"156\" x2=\"246\" y1=\"78.9375\" y2=\"78.9375\"/><text fill=\"#000000\" font-family=\"sans-serif\" font-size=\"11\" lengthAdjust=\"spacingAndGlyphs\" textLength=\"21\" x=\"161\" y=\"109.9526\">po1</text><text fill=\"#000000\" font-family=\"sans-serif\" font-size=\"11\" font-style=\"italic\" lengthAdjust=\"spacingAndGlyphs\" textLength=\"80\" x=\"161\" y=\"122.7573\">:&gt;&gt;P1::porig1</text><line style=\"stroke: #383838; stroke-width: 1.0;\" x1=\"156\" x2=\"186\" y1=\"93.3398\" y2=\"93.3398\"/><text fill=\"#000000\" font-family=\"sans-serif\" font-size=\"11\" lengthAdjust=\"spacingAndGlyphs\" textLength=\"30\" x=\"186\" y=\"96.6479\">ports</text><line style=\"stroke: #383838; stroke-width: 1.0;\" x1=\"216\" x2=\"246\" y1=\"93.3398\" y2=\"93.3398\"/></a><!--MD5=[60a26617385b1d2d0262a64233df1f8d]\n",
       "class E6--><a href=\"psysml:28be41ac-7d51-495b-a80e-46db5ea96230\" target=\"_top\" title=\"psysml:28be41ac-7d51-495b-a80e-46db5ea96230\" xlink:actuate=\"onRequest\" xlink:href=\"psysml:28be41ac-7d51-495b-a80e-46db5ea96230\" xlink:show=\"new\" xlink:title=\"psysml:28be41ac-7d51-495b-a80e-46db5ea96230\" xlink:type=\"simple\"><rect fill=\"#FFFFFF\" height=\"75.5469\" id=\"E6\" rx=\"10\" ry=\"10\" style=\"stroke: #383838; stroke-width: 1.5;\" width=\"88\" x=\"32\" y=\"47\"/><text fill=\"#000000\" font-family=\"sans-serif\" font-size=\"12\" font-style=\"italic\" lengthAdjust=\"spacingAndGlyphs\" textLength=\"40\" x=\"56\" y=\"63.1387\">«part»</text><text fill=\"#000000\" font-family=\"sans-serif\" font-size=\"12\" lengthAdjust=\"spacingAndGlyphs\" textLength=\"40\" x=\"56\" y=\"77.1074\">p2: P1</text><line style=\"stroke: #383838; stroke-width: 1.5;\" x1=\"33\" x2=\"119\" y1=\"84.9375\" y2=\"84.9375\"/><text fill=\"#000000\" font-family=\"sans-serif\" font-size=\"11\" lengthAdjust=\"spacingAndGlyphs\" textLength=\"32\" x=\"38\" y=\"115.9526\">pdest</text><text fill=\"#000000\" font-family=\"sans-serif\" font-size=\"11\" font-weight=\"bold\" lengthAdjust=\"spacingAndGlyphs\" textLength=\"15\" x=\"74\" y=\"115.9526\">as</text><text fill=\"#000000\" font-family=\"sans-serif\" font-size=\"11\" lengthAdjust=\"spacingAndGlyphs\" textLength=\"21\" x=\"93\" y=\"115.9526\">pd1</text><line style=\"stroke: #383838; stroke-width: 1.0;\" x1=\"33\" x2=\"61\" y1=\"99.3398\" y2=\"99.3398\"/><text fill=\"#000000\" font-family=\"sans-serif\" font-size=\"11\" lengthAdjust=\"spacingAndGlyphs\" textLength=\"30\" x=\"61\" y=\"102.6479\">ports</text><line style=\"stroke: #383838; stroke-width: 1.0;\" x1=\"91\" x2=\"119\" y1=\"99.3398\" y2=\"99.3398\"/></a><!--MD5=[185131fc0dcab0a4505a2ebe144e961b]\n",
       "link E4 to E2--><a href=\"psysml:8ce18664-e29b-46f0-97c0-4b398d523e7c\" target=\"_top\" title=\"psysml:8ce18664-e29b-46f0-97c0-4b398d523e7c\" xlink:actuate=\"onRequest\" xlink:href=\"psysml:8ce18664-e29b-46f0-97c0-4b398d523e7c\" xlink:show=\"new\" xlink:title=\"psysml:8ce18664-e29b-46f0-97c0-4b398d523e7c\" xlink:type=\"simple\"><path d=\"M181.89,129.15 C176.14,142.14 169.74,156.6 163.67,170.29 \" fill=\"none\" id=\"E4-&gt;E2\" style=\"stroke: #383838; stroke-width: 1.0;\"/><polygon fill=\"#FFFFFF\" points=\"155.43,188.9,156.725,168.693,169.5254,174.3632,155.43,188.9\" style=\"stroke: #383838; stroke-width: 1.0;\"/><ellipse cx=\"160.8622\" cy=\"164.2914\" fill=\"#383838\" rx=\"2\" ry=\"2\" style=\"stroke: #383838; stroke-width: 1.0;\"/><ellipse cx=\"170.0053\" cy=\"168.3416\" fill=\"#383838\" rx=\"2\" ry=\"2\" style=\"stroke: #383838; stroke-width: 1.0;\"/></a><!--MD5=[2351f337d6de0f557b50152ba70847b5]\n",
       "link E6 to E2--><a href=\"psysml:aea9633f-bca5-4d9c-866d-d7db5d7aa3e2\" target=\"_top\" title=\"psysml:aea9633f-bca5-4d9c-866d-d7db5d7aa3e2\" xlink:actuate=\"onRequest\" xlink:href=\"psysml:aea9633f-bca5-4d9c-866d-d7db5d7aa3e2\" xlink:show=\"new\" xlink:title=\"psysml:aea9633f-bca5-4d9c-866d-d7db5d7aa3e2\" xlink:type=\"simple\"><path d=\"M92.72,123.15 C99.23,137.63 106.84,154.53 113.98,170.4 \" fill=\"none\" id=\"E6-&gt;E2\" style=\"stroke: #383838; stroke-width: 1.0;\"/><polygon fill=\"#FFFFFF\" points=\"122.2,188.68,108.0257,174.22,120.7951,168.4803,122.2,188.68\" style=\"stroke: #383838; stroke-width: 1.0;\"/><ellipse cx=\"107.5131\" cy=\"168.2011\" fill=\"#383838\" rx=\"2\" ry=\"2\" style=\"stroke: #383838; stroke-width: 1.0;\"/><ellipse cx=\"116.634\" cy=\"164.1014\" fill=\"#383838\" rx=\"2\" ry=\"2\" style=\"stroke: #383838; stroke-width: 1.0;\"/></a><!--MD5=[12458a6b631990c0b83b5f3c6cf6401d]\n",
       "@startuml\r\n",
       "skinparam linetype polyline\r\n",
       "skinparam monochrome true\r\n",
       "skinparam classbackgroundcolor white\r\n",
       "skinparam shadowing false\r\n",
       "skinparam wrapWidth 300\r\n",
       "hide circle\r\n",
       "\r\n",
       "package \"AliasTest\" as E1  [[psysml:d6640503-c03f-477e-b125-432046bb93b4 ]]  {\r\n",
       "comp def \"P1\" as E2  <<(T,blue)part def>> [[psysml:4a06ff05-02b9-4148-90d6-f5221b7c40f0 ]] {\r\n",
       "- - ports - -\r\n",
       "porig1 <b>as</b> po1 \r\n",
       "}\r\n",
       "comp usage \"p1: P1\" as E4  <<(T,blue)part>> [[psysml:9ecf2706-3ec0-4307-8293-70ef42ab2608 ]] {\r\n",
       "- - ports - -\r\n",
       "po1\\n//:>>P1::porig1// \r\n",
       "}\r\n",
       "comp usage \"p2: P1\" as E6  <<(T,blue)part>> [[psysml:28be41ac-7d51-495b-a80e-46db5ea96230 ]] {\r\n",
       "- - ports - -\r\n",
       "pdest <b>as</b> pd1 \r\n",
       "}\r\n",
       "E4 - -:|> E2 [[psysml:8ce18664-e29b-46f0-97c0-4b398d523e7c ]] \r\n",
       "E6 - -:|> E2 [[psysml:aea9633f-bca5-4d9c-866d-d7db5d7aa3e2 ]] \r\n",
       "}\r\n",
       "@enduml\r\n",
       "\n",
       "PlantUML version 1.2020.13(Sat Jun 13 12:26:38 UTC 2020)\n",
       "(EPL source distribution)\n",
       "Java Runtime: OpenJDK Runtime Environment\n",
       "JVM: OpenJDK 64-Bit Server VM\n",
       "Default Encoding: UTF-8\n",
       "Language: en\n",
       "Country: null\n",
       "--></g></svg>"
      ]
     },
     "execution_count": 10,
     "metadata": {},
     "output_type": "execute_result"
    }
   ],
   "source": [
    "%viz --style=\"POLYLINE\" --view=\"Tree\" \"AliasTest\""
   ]
  },
  {
   "cell_type": "code",
   "execution_count": 11,
   "id": "nominated-flash",
   "metadata": {
    "execution": {
     "iopub.execute_input": "2021-03-25T13:15:15.269535Z",
     "iopub.status.busy": "2021-03-25T13:15:15.266827Z",
     "iopub.status.idle": "2021-03-25T13:15:15.279602Z",
     "shell.execute_reply": "2021-03-25T13:15:15.280090Z"
    }
   },
   "outputs": [
    {
     "data": {
      "image/svg+xml": [
       "<?xml version=\"1.0\" encoding=\"UTF-8\" standalone=\"no\"?><svg xmlns=\"http://www.w3.org/2000/svg\" xmlns:xlink=\"http://www.w3.org/1999/xlink\" contentScriptType=\"application/ecmascript\" contentStyleType=\"text/css\" height=\"12px\" preserveAspectRatio=\"none\" style=\"width:12px;height:12px;\" version=\"1.1\" viewBox=\"0 0 12 12\" width=\"12px\" zoomAndPan=\"magnify\"><defs/><g><!--MD5=[896ac0e7a515d8dd7765a661cb4ee08b]\n",
       "@startuml\r\n",
       "skinparam linetype polyline\r\n",
       "skinparam monochrome true\r\n",
       "skinparam classbackgroundcolor white\r\n",
       "skinparam shadowing false\r\n",
       "skinparam wrapWidth 300\r\n",
       "hide circle\r\n",
       "\r\n",
       "@enduml\r\n",
       "\n",
       "PlantUML version 1.2020.13(Sat Jun 13 12:26:38 UTC 2020)\n",
       "(EPL source distribution)\n",
       "Java Runtime: OpenJDK Runtime Environment\n",
       "JVM: OpenJDK 64-Bit Server VM\n",
       "Default Encoding: UTF-8\n",
       "Language: en\n",
       "Country: null\n",
       "--></g></svg>"
      ]
     },
     "execution_count": 11,
     "metadata": {},
     "output_type": "execute_result"
    }
   ],
   "source": [
    "%viz --style=\"POLYLINE\" --view=\"State\" \"AliasTest\""
   ]
  },
  {
   "cell_type": "code",
   "execution_count": 12,
   "id": "collected-frederick",
   "metadata": {
    "execution": {
     "iopub.execute_input": "2021-03-25T13:15:15.330695Z",
     "iopub.status.busy": "2021-03-25T13:15:15.330121Z",
     "iopub.status.idle": "2021-03-25T13:15:15.476447Z",
     "shell.execute_reply": "2021-03-25T13:15:15.474627Z"
    }
   },
   "outputs": [
    {
     "data": {
      "image/svg+xml": [
       "<?xml version=\"1.0\" encoding=\"UTF-8\" standalone=\"no\"?><svg xmlns=\"http://www.w3.org/2000/svg\" xmlns:xlink=\"http://www.w3.org/1999/xlink\" contentScriptType=\"application/ecmascript\" contentStyleType=\"text/css\" height=\"207px\" preserveAspectRatio=\"none\" style=\"width:406px;height:207px;\" version=\"1.1\" viewBox=\"0 0 406 207\" width=\"406px\" zoomAndPan=\"magnify\"><defs/><g><!--MD5=[fbc87193dbaf4d95561dea2c320d4a47]\n",
       "cluster E1--><a href=\"psysml:d6640503-c03f-477e-b125-432046bb93b4\" target=\"_top\" title=\"psysml:d6640503-c03f-477e-b125-432046bb93b4\" xlink:actuate=\"onRequest\" xlink:href=\"psysml:d6640503-c03f-477e-b125-432046bb93b4\" xlink:show=\"new\" xlink:title=\"psysml:d6640503-c03f-477e-b125-432046bb93b4\" xlink:type=\"simple\"><polygon fill=\"#FFFFFF\" points=\"16,6,94,6,101,28.2969,384,28.2969,384,195,16,195,16,6\" style=\"stroke: #000000; stroke-width: 1.5;\"/><line style=\"stroke: #000000; stroke-width: 1.5;\" x1=\"16\" x2=\"101\" y1=\"28.2969\" y2=\"28.2969\"/><text fill=\"#000000\" font-family=\"sans-serif\" font-size=\"14\" font-weight=\"bold\" lengthAdjust=\"spacingAndGlyphs\" textLength=\"72\" x=\"20\" y=\"20.9951\">AliasTest</text></a><!--MD5=[e4f7fae6ed58524ba242bb0b0d3be6b7]\n",
       "cluster E2--><a href=\"psysml:4a06ff05-02b9-4148-90d6-f5221b7c40f0\" target=\"_top\" title=\"psysml:4a06ff05-02b9-4148-90d6-f5221b7c40f0\" xlink:actuate=\"onRequest\" xlink:href=\"psysml:4a06ff05-02b9-4148-90d6-f5221b7c40f0\" xlink:show=\"new\" xlink:title=\"psysml:4a06ff05-02b9-4148-90d6-f5221b7c40f0\" xlink:type=\"simple\"><rect fill=\"#FFFFFF\" height=\"73\" id=\"E2\" style=\"stroke: #383838; stroke-width: 1.5;\" width=\"83\" x=\"244\" y=\"55\"/><rect fill=\"#F8F8F8\" height=\"37.9375\" style=\"stroke: #383838; stroke-width: 1.5;\" width=\"83\" x=\"244\" y=\"55\"/><text fill=\"#000000\" font-family=\"sans-serif\" font-size=\"12\" font-style=\"italic\" lengthAdjust=\"spacingAndGlyphs\" textLength=\"64\" x=\"253.5\" y=\"71.1387\">«part def»</text><text fill=\"#000000\" font-family=\"sans-serif\" font-size=\"12\" lengthAdjust=\"spacingAndGlyphs\" textLength=\"16\" x=\"277.5\" y=\"85.1074\">P1</text></a><!--MD5=[de5ec2e2e8f62f467e546659f5068c88]\n",
       "cluster E5--><a href=\"psysml:9ecf2706-3ec0-4307-8293-70ef42ab2608\" target=\"_top\" title=\"psysml:9ecf2706-3ec0-4307-8293-70ef42ab2608\" xlink:actuate=\"onRequest\" xlink:href=\"psysml:9ecf2706-3ec0-4307-8293-70ef42ab2608\" xlink:show=\"new\" xlink:title=\"psysml:9ecf2706-3ec0-4307-8293-70ef42ab2608\" xlink:type=\"simple\"><rect fill=\"#FFFFFF\" height=\"84.5\" id=\"E5\" rx=\"10\" ry=\"10\" style=\"stroke: #383838; stroke-width: 1.5;\" width=\"101\" x=\"139\" y=\"94.5\"/><rect fill=\"#F8F8F8\" height=\"23.9688\" rx=\"10\" ry=\"10\" style=\"stroke: #F8F8F8; stroke-width: 1.5;\" width=\"101\" x=\"139\" y=\"94.5\"/><rect fill=\"#F8F8F8\" height=\"10\" style=\"stroke: #F8F8F8; stroke-width: 1.5;\" width=\"101\" x=\"139\" y=\"108.4688\"/><rect fill=\"none\" height=\"84.5\" id=\"E5\" rx=\"10\" ry=\"10\" style=\"stroke: #383838; stroke-width: 1.5;\" width=\"101\" x=\"139\" y=\"94.5\"/><text fill=\"#000000\" font-family=\"sans-serif\" font-size=\"12\" lengthAdjust=\"spacingAndGlyphs\" textLength=\"40\" x=\"169.5\" y=\"110.6387\">p1: P1</text><line style=\"stroke: #383838; stroke-width: 1.0;\" x1=\"139\" x2=\"240\" y1=\"118.4688\" y2=\"118.4688\"/></a><!--MD5=[168fadf3d0c3fd93dd5d6da1b1d7ab76]\n",
       "cluster E7--><a href=\"psysml:28be41ac-7d51-495b-a80e-46db5ea96230\" target=\"_top\" title=\"psysml:28be41ac-7d51-495b-a80e-46db5ea96230\" xlink:actuate=\"onRequest\" xlink:href=\"psysml:28be41ac-7d51-495b-a80e-46db5ea96230\" xlink:show=\"new\" xlink:title=\"psysml:28be41ac-7d51-495b-a80e-46db5ea96230\" xlink:type=\"simple\"><rect fill=\"#FFFFFF\" height=\"65\" id=\"E7\" rx=\"10\" ry=\"10\" style=\"stroke: #383838; stroke-width: 1.5;\" width=\"83\" x=\"53\" y=\"55\"/><rect fill=\"#F8F8F8\" height=\"23.9688\" rx=\"10\" ry=\"10\" style=\"stroke: #F8F8F8; stroke-width: 1.5;\" width=\"83\" x=\"53\" y=\"55\"/><rect fill=\"#F8F8F8\" height=\"10\" style=\"stroke: #F8F8F8; stroke-width: 1.5;\" width=\"83\" x=\"53\" y=\"68.9688\"/><rect fill=\"none\" height=\"65\" id=\"E7\" rx=\"10\" ry=\"10\" style=\"stroke: #383838; stroke-width: 1.5;\" width=\"83\" x=\"53\" y=\"55\"/><text fill=\"#000000\" font-family=\"sans-serif\" font-size=\"12\" lengthAdjust=\"spacingAndGlyphs\" textLength=\"40\" x=\"74.5\" y=\"71.1387\">p2: P1</text><line style=\"stroke: #383838; stroke-width: 1.0;\" x1=\"53\" x2=\"136\" y1=\"78.9688\" y2=\"78.9688\"/></a><text fill=\"#000000\" font-family=\"sans-serif\" font-size=\"14\" lengthAdjust=\"spacingAndGlyphs\" textLength=\"44\" x=\"240\" y=\"33.6982\">porig1</text><rect fill=\"#383838\" height=\"12\" style=\"stroke: #F8F8F8; stroke-width: 1.5;\" width=\"12\" x=\"256\" y=\"49\"/><text fill=\"#000000\" font-family=\"sans-serif\" font-size=\"14\" lengthAdjust=\"spacingAndGlyphs\" textLength=\"44\" x=\"287\" y=\"33.6982\">porig1</text><rect fill=\"#383838\" height=\"12\" style=\"stroke: #F8F8F8; stroke-width: 1.5;\" width=\"12\" x=\"303\" y=\"49\"/><text fill=\"#000000\" font-family=\"sans-serif\" font-size=\"14\" lengthAdjust=\"spacingAndGlyphs\" textLength=\"27\" x=\"143.5\" y=\"73.1982\">po1</text><rect fill=\"#383838\" height=\"12\" style=\"stroke: #F8F8F8; stroke-width: 1.5;\" width=\"12\" x=\"151\" y=\"88.5\"/><text fill=\"#000000\" font-family=\"sans-serif\" font-size=\"14\" lengthAdjust=\"spacingAndGlyphs\" textLength=\"40\" x=\"51\" y=\"33.6982\">pdest</text><rect fill=\"#383838\" height=\"12\" style=\"stroke: #F8F8F8; stroke-width: 1.5;\" width=\"12\" x=\"65\" y=\"49\"/><text fill=\"#000000\" font-family=\"sans-serif\" font-size=\"14\" lengthAdjust=\"spacingAndGlyphs\" textLength=\"40\" x=\"98\" y=\"33.6982\">pdest</text><rect fill=\"#383838\" height=\"12\" style=\"stroke: #F8F8F8; stroke-width: 1.5;\" width=\"12\" x=\"112\" y=\"49\"/><!--MD5=[60ac2c0cde89d4308155b0484e57a8ec]\n",
       "link E9 to E6--><a href=\"psysml:32f11bb0-f29d-43a1-aa99-c5cb95a5777d\" target=\"_top\" title=\"psysml:32f11bb0-f29d-43a1-aa99-c5cb95a5777d\" xlink:actuate=\"onRequest\" xlink:href=\"psysml:32f11bb0-f29d-43a1-aa99-c5cb95a5777d\" xlink:show=\"new\" xlink:title=\"psysml:32f11bb0-f29d-43a1-aa99-c5cb95a5777d\" xlink:type=\"simple\"><path d=\"M111.75,57.02 C105.4,60.08 115,69 115,69 C115,69 134.48,88.09 150.75,92.57 \" fill=\"none\" id=\"E9-E6\" style=\"stroke: #383838; stroke-width: 3.0;\"/></a><!--MD5=[60ac2c0cde89d4308155b0484e57a8ec]\n",
       "link E9 to E6--><a href=\"psysml:e24ce1f4-3e8e-4ff6-8278-f74c062e3ad6\" target=\"_top\" title=\"psysml:e24ce1f4-3e8e-4ff6-8278-f74c062e3ad6\" xlink:actuate=\"onRequest\" xlink:href=\"psysml:e24ce1f4-3e8e-4ff6-8278-f74c062e3ad6\" xlink:show=\"new\" xlink:title=\"psysml:e24ce1f4-3e8e-4ff6-8278-f74c062e3ad6\" xlink:type=\"simple\"><path d=\"M124.15,56.49 C139.09,58.87 150,69 150,69 C150,69 166.5,85.17 163.04,91.24 \" fill=\"none\" id=\"E9-E6-1\" style=\"stroke: #383838; stroke-width: 3.0;\"/></a><!--MD5=[289e4cca6bf9e36d2650f7ef88b627a8]\n",
       "@startuml\r\n",
       "skinparam ranksep 8\r\n",
       "skinparam rectangle {\r\n",
       " backgroundColor<<block>> LightGreen\r\n",
       "}\r\n",
       "skinparam linetype polyline\r\n",
       "skinparam monochrome true\r\n",
       "skinparam classbackgroundcolor white\r\n",
       "skinparam shadowing false\r\n",
       "skinparam wrapWidth 300\r\n",
       "hide circle\r\n",
       "\r\n",
       "package \"AliasTest\" as E1  [[psysml:d6640503-c03f-477e-b125-432046bb93b4 ]]  {\r\n",
       "rec def \"P1\" as E2  <<(T,blue)part def>> [[psysml:4a06ff05-02b9-4148-90d6-f5221b7c40f0 ]] {\r\n",
       "portin \"porig1\" as E3  <<(T,blue)port>> [[psysml:2b77977e-0e87-40fa-bfcc-86d3bbd61ac4 ]] \r\n",
       "portin \"porig1\" as E4  <<(T,blue)port>> [[psysml:2b77977e-0e87-40fa-bfcc-86d3bbd61ac4 ]] \r\n",
       "}\r\n",
       "rec usage \"p1: P1\" as E5  [[psysml:9ecf2706-3ec0-4307-8293-70ef42ab2608 ]] {\r\n",
       "portin \"po1\" as E6  <<(T,blue)port>> [[psysml:040fe1ca-6ed4-4b89-a2be-3a2910b81d71 ]] \r\n",
       "}\r\n",
       "rec usage \"p2: P1\" as E7  [[psysml:28be41ac-7d51-495b-a80e-46db5ea96230 ]] {\r\n",
       "portin \"pdest\" as E8  <<(T,blue)port>> [[psysml:35e7e96c-66ea-4900-a048-bf88e7083b58 ]] \r\n",
       "portin \"pdest\" as E9  <<(T,blue)port>> [[psysml:35e7e96c-66ea-4900-a048-bf88e7083b58 ]] \r\n",
       "}\r\n",
       "E9 -[thickness=3]- E6 [[psysml:32f11bb0-f29d-43a1-aa99-c5cb95a5777d ]] \r\n",
       "E9 -[thickness=3]- E6 [[psysml:e24ce1f4-3e8e-4ff6-8278-f74c062e3ad6 ]] \r\n",
       "}\r\n",
       "@enduml\r\n",
       "\n",
       "PlantUML version 1.2020.13(Sat Jun 13 12:26:38 UTC 2020)\n",
       "(EPL source distribution)\n",
       "Java Runtime: OpenJDK Runtime Environment\n",
       "JVM: OpenJDK 64-Bit Server VM\n",
       "Default Encoding: UTF-8\n",
       "Language: en\n",
       "Country: null\n",
       "--></g></svg>"
      ]
     },
     "execution_count": 12,
     "metadata": {},
     "output_type": "execute_result"
    }
   ],
   "source": [
    "%viz --style=\"POLYLINE\" --view=\"Interconnection\" \"AliasTest\""
   ]
  },
  {
   "cell_type": "code",
   "execution_count": 13,
   "id": "incorrect-bulletin",
   "metadata": {
    "execution": {
     "iopub.execute_input": "2021-03-25T13:15:15.526886Z",
     "iopub.status.busy": "2021-03-25T13:15:15.526043Z",
     "iopub.status.idle": "2021-03-25T13:15:15.536660Z",
     "shell.execute_reply": "2021-03-25T13:15:15.537123Z"
    }
   },
   "outputs": [
    {
     "data": {
      "image/svg+xml": [
       "<?xml version=\"1.0\" encoding=\"UTF-8\" standalone=\"no\"?><svg xmlns=\"http://www.w3.org/2000/svg\" xmlns:xlink=\"http://www.w3.org/1999/xlink\" contentScriptType=\"application/ecmascript\" contentStyleType=\"text/css\" height=\"12px\" preserveAspectRatio=\"none\" style=\"width:12px;height:12px;\" version=\"1.1\" viewBox=\"0 0 12 12\" width=\"12px\" zoomAndPan=\"magnify\"><defs/><g><!--MD5=[97bbf32f66ccd50cbc40d92ea8f5a65e]\n",
       "@startuml\r\n",
       "skinparam ranksep 8\r\n",
       "skinparam linetype polyline\r\n",
       "skinparam monochrome true\r\n",
       "skinparam classbackgroundcolor white\r\n",
       "skinparam shadowing false\r\n",
       "skinparam wrapWidth 300\r\n",
       "hide circle\r\n",
       "\r\n",
       "@enduml\r\n",
       "\n",
       "PlantUML version 1.2020.13(Sat Jun 13 12:26:38 UTC 2020)\n",
       "(EPL source distribution)\n",
       "Java Runtime: OpenJDK Runtime Environment\n",
       "JVM: OpenJDK 64-Bit Server VM\n",
       "Default Encoding: UTF-8\n",
       "Language: en\n",
       "Country: null\n",
       "--></g></svg>"
      ]
     },
     "execution_count": 13,
     "metadata": {},
     "output_type": "execute_result"
    }
   ],
   "source": [
    "%viz --style=\"POLYLINE\" --view=\"Action\" \"AliasTest\""
   ]
  },
  {
   "cell_type": "code",
   "execution_count": 14,
   "id": "comparative-positive",
   "metadata": {
    "execution": {
     "iopub.execute_input": "2021-03-25T13:15:15.589444Z",
     "iopub.status.busy": "2021-03-25T13:15:15.588664Z",
     "iopub.status.idle": "2021-03-25T13:15:16.281525Z",
     "shell.execute_reply": "2021-03-25T13:15:16.281096Z"
    }
   },
   "outputs": [
    {
     "data": {
      "image/svg+xml": [
       "<?xml version=\"1.0\" encoding=\"UTF-8\" standalone=\"no\"?><svg xmlns=\"http://www.w3.org/2000/svg\" xmlns:xlink=\"http://www.w3.org/1999/xlink\" contentScriptType=\"application/ecmascript\" contentStyleType=\"text/css\" height=\"293px\" preserveAspectRatio=\"none\" style=\"width:285px;height:293px;\" version=\"1.1\" viewBox=\"0 0 285 293\" width=\"285px\" zoomAndPan=\"magnify\"><defs/><g><!--MD5=[fbc87193dbaf4d95561dea2c320d4a47]\n",
       "cluster E1--><a href=\"psysml:d6640503-c03f-477e-b125-432046bb93b4\" target=\"_top\" title=\"psysml:d6640503-c03f-477e-b125-432046bb93b4\" xlink:actuate=\"onRequest\" xlink:href=\"psysml:d6640503-c03f-477e-b125-432046bb93b4\" xlink:show=\"new\" xlink:title=\"psysml:d6640503-c03f-477e-b125-432046bb93b4\" xlink:type=\"simple\"><polygon fill=\"#FFFFFF\" points=\"16,6,94,6,101,28.2969,263,28.2969,263,281,16,281,16,6\" style=\"stroke: #000000; stroke-width: 1.5;\"/><line style=\"stroke: #000000; stroke-width: 1.5;\" x1=\"16\" x2=\"101\" y1=\"28.2969\" y2=\"28.2969\"/><text fill=\"#000000\" font-family=\"sans-serif\" font-size=\"14\" font-weight=\"bold\" lengthAdjust=\"spacingAndGlyphs\" textLength=\"72\" x=\"20\" y=\"20.9951\">AliasTest</text></a><!--MD5=[b4997ac47864f28c2f74865a473b2911]\n",
       "class E2--><a href=\"psysml:4a06ff05-02b9-4148-90d6-f5221b7c40f0\" target=\"_top\" title=\"psysml:4a06ff05-02b9-4148-90d6-f5221b7c40f0\" xlink:actuate=\"onRequest\" xlink:href=\"psysml:4a06ff05-02b9-4148-90d6-f5221b7c40f0\" xlink:show=\"new\" xlink:title=\"psysml:4a06ff05-02b9-4148-90d6-f5221b7c40f0\" xlink:type=\"simple\"><rect fill=\"#FFFFFF\" height=\"75.5469\" id=\"E2\" style=\"stroke: #383838; stroke-width: 1.5;\" width=\"92\" x=\"93\" y=\"189\"/><text fill=\"#000000\" font-family=\"sans-serif\" font-size=\"12\" font-style=\"italic\" lengthAdjust=\"spacingAndGlyphs\" textLength=\"64\" x=\"107\" y=\"205.1387\">«part def»</text><text fill=\"#000000\" font-family=\"sans-serif\" font-size=\"12\" lengthAdjust=\"spacingAndGlyphs\" textLength=\"16\" x=\"131\" y=\"219.1074\">P1</text><line style=\"stroke: #383838; stroke-width: 1.5;\" x1=\"94\" x2=\"184\" y1=\"226.9375\" y2=\"226.9375\"/><text fill=\"#000000\" font-family=\"sans-serif\" font-size=\"11\" lengthAdjust=\"spacingAndGlyphs\" textLength=\"36\" x=\"99\" y=\"257.9526\">porig1</text><text fill=\"#000000\" font-family=\"sans-serif\" font-size=\"11\" font-weight=\"bold\" lengthAdjust=\"spacingAndGlyphs\" textLength=\"15\" x=\"139\" y=\"257.9526\">as</text><text fill=\"#000000\" font-family=\"sans-serif\" font-size=\"11\" lengthAdjust=\"spacingAndGlyphs\" textLength=\"21\" x=\"158\" y=\"257.9526\">po1</text><line style=\"stroke: #383838; stroke-width: 1.0;\" x1=\"94\" x2=\"124\" y1=\"241.3398\" y2=\"241.3398\"/><text fill=\"#000000\" font-family=\"sans-serif\" font-size=\"11\" lengthAdjust=\"spacingAndGlyphs\" textLength=\"30\" x=\"124\" y=\"244.6479\">ports</text><line style=\"stroke: #383838; stroke-width: 1.0;\" x1=\"154\" x2=\"184\" y1=\"241.3398\" y2=\"241.3398\"/></a><!--MD5=[ebbe1d658d1005bcc118a6aa81145e00]\n",
       "class E4--><a href=\"psysml:9ecf2706-3ec0-4307-8293-70ef42ab2608\" target=\"_top\" title=\"psysml:9ecf2706-3ec0-4307-8293-70ef42ab2608\" xlink:actuate=\"onRequest\" xlink:href=\"psysml:9ecf2706-3ec0-4307-8293-70ef42ab2608\" xlink:show=\"new\" xlink:title=\"psysml:9ecf2706-3ec0-4307-8293-70ef42ab2608\" xlink:type=\"simple\"><rect fill=\"#FFFFFF\" height=\"88.3516\" id=\"E4\" rx=\"10\" ry=\"10\" style=\"stroke: #383838; stroke-width: 1.5;\" width=\"92\" x=\"155\" y=\"41\"/><text fill=\"#000000\" font-family=\"sans-serif\" font-size=\"12\" font-style=\"italic\" lengthAdjust=\"spacingAndGlyphs\" textLength=\"40\" x=\"181\" y=\"57.1387\">«part»</text><text fill=\"#000000\" font-family=\"sans-serif\" font-size=\"12\" lengthAdjust=\"spacingAndGlyphs\" textLength=\"40\" x=\"181\" y=\"71.1074\">p1: P1</text><line style=\"stroke: #383838; stroke-width: 1.5;\" x1=\"156\" x2=\"246\" y1=\"78.9375\" y2=\"78.9375\"/><text fill=\"#000000\" font-family=\"sans-serif\" font-size=\"11\" lengthAdjust=\"spacingAndGlyphs\" textLength=\"21\" x=\"161\" y=\"109.9526\">po1</text><text fill=\"#000000\" font-family=\"sans-serif\" font-size=\"11\" font-style=\"italic\" lengthAdjust=\"spacingAndGlyphs\" textLength=\"80\" x=\"161\" y=\"122.7573\">:&gt;&gt;P1::porig1</text><line style=\"stroke: #383838; stroke-width: 1.0;\" x1=\"156\" x2=\"186\" y1=\"93.3398\" y2=\"93.3398\"/><text fill=\"#000000\" font-family=\"sans-serif\" font-size=\"11\" lengthAdjust=\"spacingAndGlyphs\" textLength=\"30\" x=\"186\" y=\"96.6479\">ports</text><line style=\"stroke: #383838; stroke-width: 1.0;\" x1=\"216\" x2=\"246\" y1=\"93.3398\" y2=\"93.3398\"/></a><!--MD5=[60a26617385b1d2d0262a64233df1f8d]\n",
       "class E6--><a href=\"psysml:28be41ac-7d51-495b-a80e-46db5ea96230\" target=\"_top\" title=\"psysml:28be41ac-7d51-495b-a80e-46db5ea96230\" xlink:actuate=\"onRequest\" xlink:href=\"psysml:28be41ac-7d51-495b-a80e-46db5ea96230\" xlink:show=\"new\" xlink:title=\"psysml:28be41ac-7d51-495b-a80e-46db5ea96230\" xlink:type=\"simple\"><rect fill=\"#FFFFFF\" height=\"75.5469\" id=\"E6\" rx=\"10\" ry=\"10\" style=\"stroke: #383838; stroke-width: 1.5;\" width=\"88\" x=\"32\" y=\"47\"/><text fill=\"#000000\" font-family=\"sans-serif\" font-size=\"12\" font-style=\"italic\" lengthAdjust=\"spacingAndGlyphs\" textLength=\"40\" x=\"56\" y=\"63.1387\">«part»</text><text fill=\"#000000\" font-family=\"sans-serif\" font-size=\"12\" lengthAdjust=\"spacingAndGlyphs\" textLength=\"40\" x=\"56\" y=\"77.1074\">p2: P1</text><line style=\"stroke: #383838; stroke-width: 1.5;\" x1=\"33\" x2=\"119\" y1=\"84.9375\" y2=\"84.9375\"/><text fill=\"#000000\" font-family=\"sans-serif\" font-size=\"11\" lengthAdjust=\"spacingAndGlyphs\" textLength=\"32\" x=\"38\" y=\"115.9526\">pdest</text><text fill=\"#000000\" font-family=\"sans-serif\" font-size=\"11\" font-weight=\"bold\" lengthAdjust=\"spacingAndGlyphs\" textLength=\"15\" x=\"74\" y=\"115.9526\">as</text><text fill=\"#000000\" font-family=\"sans-serif\" font-size=\"11\" lengthAdjust=\"spacingAndGlyphs\" textLength=\"21\" x=\"93\" y=\"115.9526\">pd1</text><line style=\"stroke: #383838; stroke-width: 1.0;\" x1=\"33\" x2=\"61\" y1=\"99.3398\" y2=\"99.3398\"/><text fill=\"#000000\" font-family=\"sans-serif\" font-size=\"11\" lengthAdjust=\"spacingAndGlyphs\" textLength=\"30\" x=\"61\" y=\"102.6479\">ports</text><line style=\"stroke: #383838; stroke-width: 1.0;\" x1=\"91\" x2=\"119\" y1=\"99.3398\" y2=\"99.3398\"/></a><!--MD5=[185131fc0dcab0a4505a2ebe144e961b]\n",
       "link E4 to E2--><a href=\"psysml:8ce18664-e29b-46f0-97c0-4b398d523e7c\" target=\"_top\" title=\"psysml:8ce18664-e29b-46f0-97c0-4b398d523e7c\" xlink:actuate=\"onRequest\" xlink:href=\"psysml:8ce18664-e29b-46f0-97c0-4b398d523e7c\" xlink:show=\"new\" xlink:title=\"psysml:8ce18664-e29b-46f0-97c0-4b398d523e7c\" xlink:type=\"simple\"><path d=\"M181.89,129.15 C176.14,142.14 169.74,156.6 163.67,170.29 \" fill=\"none\" id=\"E4-&gt;E2\" style=\"stroke: #383838; stroke-width: 1.0;\"/><polygon fill=\"#FFFFFF\" points=\"155.43,188.9,156.725,168.693,169.5254,174.3632,155.43,188.9\" style=\"stroke: #383838; stroke-width: 1.0;\"/><ellipse cx=\"160.8622\" cy=\"164.2914\" fill=\"#383838\" rx=\"2\" ry=\"2\" style=\"stroke: #383838; stroke-width: 1.0;\"/><ellipse cx=\"170.0053\" cy=\"168.3416\" fill=\"#383838\" rx=\"2\" ry=\"2\" style=\"stroke: #383838; stroke-width: 1.0;\"/></a><!--MD5=[2351f337d6de0f557b50152ba70847b5]\n",
       "link E6 to E2--><a href=\"psysml:aea9633f-bca5-4d9c-866d-d7db5d7aa3e2\" target=\"_top\" title=\"psysml:aea9633f-bca5-4d9c-866d-d7db5d7aa3e2\" xlink:actuate=\"onRequest\" xlink:href=\"psysml:aea9633f-bca5-4d9c-866d-d7db5d7aa3e2\" xlink:show=\"new\" xlink:title=\"psysml:aea9633f-bca5-4d9c-866d-d7db5d7aa3e2\" xlink:type=\"simple\"><path d=\"M92.72,123.15 C99.23,137.63 106.84,154.53 113.98,170.4 \" fill=\"none\" id=\"E6-&gt;E2\" style=\"stroke: #383838; stroke-width: 1.0;\"/><polygon fill=\"#FFFFFF\" points=\"122.2,188.68,108.0257,174.22,120.7951,168.4803,122.2,188.68\" style=\"stroke: #383838; stroke-width: 1.0;\"/><ellipse cx=\"107.5131\" cy=\"168.2011\" fill=\"#383838\" rx=\"2\" ry=\"2\" style=\"stroke: #383838; stroke-width: 1.0;\"/><ellipse cx=\"116.634\" cy=\"164.1014\" fill=\"#383838\" rx=\"2\" ry=\"2\" style=\"stroke: #383838; stroke-width: 1.0;\"/></a><!--MD5=[12458a6b631990c0b83b5f3c6cf6401d]\n",
       "@startuml\r\n",
       "skinparam linetype polyline\r\n",
       "skinparam monochrome true\r\n",
       "skinparam classbackgroundcolor white\r\n",
       "skinparam shadowing false\r\n",
       "skinparam wrapWidth 300\r\n",
       "hide circle\r\n",
       "\r\n",
       "package \"AliasTest\" as E1  [[psysml:d6640503-c03f-477e-b125-432046bb93b4 ]]  {\r\n",
       "comp def \"P1\" as E2  <<(T,blue)part def>> [[psysml:4a06ff05-02b9-4148-90d6-f5221b7c40f0 ]] {\r\n",
       "- - ports - -\r\n",
       "porig1 <b>as</b> po1 \r\n",
       "}\r\n",
       "comp usage \"p1: P1\" as E4  <<(T,blue)part>> [[psysml:9ecf2706-3ec0-4307-8293-70ef42ab2608 ]] {\r\n",
       "- - ports - -\r\n",
       "po1\\n//:>>P1::porig1// \r\n",
       "}\r\n",
       "comp usage \"p2: P1\" as E6  <<(T,blue)part>> [[psysml:28be41ac-7d51-495b-a80e-46db5ea96230 ]] {\r\n",
       "- - ports - -\r\n",
       "pdest <b>as</b> pd1 \r\n",
       "}\r\n",
       "E4 - -:|> E2 [[psysml:8ce18664-e29b-46f0-97c0-4b398d523e7c ]] \r\n",
       "E6 - -:|> E2 [[psysml:aea9633f-bca5-4d9c-866d-d7db5d7aa3e2 ]] \r\n",
       "}\r\n",
       "@enduml\r\n",
       "\n",
       "PlantUML version 1.2020.13(Sat Jun 13 12:26:38 UTC 2020)\n",
       "(EPL source distribution)\n",
       "Java Runtime: OpenJDK Runtime Environment\n",
       "JVM: OpenJDK 64-Bit Server VM\n",
       "Default Encoding: UTF-8\n",
       "Language: en\n",
       "Country: null\n",
       "--></g></svg>"
      ]
     },
     "execution_count": 14,
     "metadata": {},
     "output_type": "execute_result"
    }
   ],
   "source": [
    "%viz --style=\"POLYLINE\" --view=\"Sequence\" \"AliasTest\""
   ]
  },
  {
   "cell_type": "code",
   "execution_count": 15,
   "id": "assured-membrane",
   "metadata": {
    "execution": {
     "iopub.execute_input": "2021-03-25T13:15:16.330795Z",
     "iopub.status.busy": "2021-03-25T13:15:16.330179Z",
     "iopub.status.idle": "2021-03-25T13:15:17.068701Z",
     "shell.execute_reply": "2021-03-25T13:15:17.066860Z"
    }
   },
   "outputs": [
    {
     "data": {
      "image/svg+xml": [
       "<?xml version=\"1.0\" encoding=\"UTF-8\" standalone=\"no\"?><svg xmlns=\"http://www.w3.org/2000/svg\" xmlns:xlink=\"http://www.w3.org/1999/xlink\" contentScriptType=\"application/ecmascript\" contentStyleType=\"text/css\" height=\"293px\" preserveAspectRatio=\"none\" style=\"width:285px;height:293px;\" version=\"1.1\" viewBox=\"0 0 285 293\" width=\"285px\" zoomAndPan=\"magnify\"><defs/><g><!--MD5=[fbc87193dbaf4d95561dea2c320d4a47]\n",
       "cluster E1--><a href=\"psysml:d6640503-c03f-477e-b125-432046bb93b4\" target=\"_top\" title=\"psysml:d6640503-c03f-477e-b125-432046bb93b4\" xlink:actuate=\"onRequest\" xlink:href=\"psysml:d6640503-c03f-477e-b125-432046bb93b4\" xlink:show=\"new\" xlink:title=\"psysml:d6640503-c03f-477e-b125-432046bb93b4\" xlink:type=\"simple\"><polygon fill=\"#FFFFFF\" points=\"16,6,94,6,101,28.2969,263,28.2969,263,281,16,281,16,6\" style=\"stroke: #000000; stroke-width: 1.5;\"/><line style=\"stroke: #000000; stroke-width: 1.5;\" x1=\"16\" x2=\"101\" y1=\"28.2969\" y2=\"28.2969\"/><text fill=\"#000000\" font-family=\"sans-serif\" font-size=\"14\" font-weight=\"bold\" lengthAdjust=\"spacingAndGlyphs\" textLength=\"72\" x=\"20\" y=\"20.9951\">AliasTest</text></a><!--MD5=[b4997ac47864f28c2f74865a473b2911]\n",
       "class E2--><a href=\"psysml:4a06ff05-02b9-4148-90d6-f5221b7c40f0\" target=\"_top\" title=\"psysml:4a06ff05-02b9-4148-90d6-f5221b7c40f0\" xlink:actuate=\"onRequest\" xlink:href=\"psysml:4a06ff05-02b9-4148-90d6-f5221b7c40f0\" xlink:show=\"new\" xlink:title=\"psysml:4a06ff05-02b9-4148-90d6-f5221b7c40f0\" xlink:type=\"simple\"><rect fill=\"#FFFFFF\" height=\"75.5469\" id=\"E2\" style=\"stroke: #383838; stroke-width: 1.5;\" width=\"92\" x=\"93\" y=\"189\"/><text fill=\"#000000\" font-family=\"sans-serif\" font-size=\"12\" font-style=\"italic\" lengthAdjust=\"spacingAndGlyphs\" textLength=\"64\" x=\"107\" y=\"205.1387\">«part def»</text><text fill=\"#000000\" font-family=\"sans-serif\" font-size=\"12\" lengthAdjust=\"spacingAndGlyphs\" textLength=\"16\" x=\"131\" y=\"219.1074\">P1</text><line style=\"stroke: #383838; stroke-width: 1.5;\" x1=\"94\" x2=\"184\" y1=\"226.9375\" y2=\"226.9375\"/><text fill=\"#000000\" font-family=\"sans-serif\" font-size=\"11\" lengthAdjust=\"spacingAndGlyphs\" textLength=\"36\" x=\"99\" y=\"257.9526\">porig1</text><text fill=\"#000000\" font-family=\"sans-serif\" font-size=\"11\" font-weight=\"bold\" lengthAdjust=\"spacingAndGlyphs\" textLength=\"15\" x=\"139\" y=\"257.9526\">as</text><text fill=\"#000000\" font-family=\"sans-serif\" font-size=\"11\" lengthAdjust=\"spacingAndGlyphs\" textLength=\"21\" x=\"158\" y=\"257.9526\">po1</text><line style=\"stroke: #383838; stroke-width: 1.0;\" x1=\"94\" x2=\"124\" y1=\"241.3398\" y2=\"241.3398\"/><text fill=\"#000000\" font-family=\"sans-serif\" font-size=\"11\" lengthAdjust=\"spacingAndGlyphs\" textLength=\"30\" x=\"124\" y=\"244.6479\">ports</text><line style=\"stroke: #383838; stroke-width: 1.0;\" x1=\"154\" x2=\"184\" y1=\"241.3398\" y2=\"241.3398\"/></a><!--MD5=[ebbe1d658d1005bcc118a6aa81145e00]\n",
       "class E4--><a href=\"psysml:9ecf2706-3ec0-4307-8293-70ef42ab2608\" target=\"_top\" title=\"psysml:9ecf2706-3ec0-4307-8293-70ef42ab2608\" xlink:actuate=\"onRequest\" xlink:href=\"psysml:9ecf2706-3ec0-4307-8293-70ef42ab2608\" xlink:show=\"new\" xlink:title=\"psysml:9ecf2706-3ec0-4307-8293-70ef42ab2608\" xlink:type=\"simple\"><rect fill=\"#FFFFFF\" height=\"88.3516\" id=\"E4\" rx=\"10\" ry=\"10\" style=\"stroke: #383838; stroke-width: 1.5;\" width=\"92\" x=\"155\" y=\"41\"/><text fill=\"#000000\" font-family=\"sans-serif\" font-size=\"12\" font-style=\"italic\" lengthAdjust=\"spacingAndGlyphs\" textLength=\"40\" x=\"181\" y=\"57.1387\">«part»</text><text fill=\"#000000\" font-family=\"sans-serif\" font-size=\"12\" lengthAdjust=\"spacingAndGlyphs\" textLength=\"40\" x=\"181\" y=\"71.1074\">p1: P1</text><line style=\"stroke: #383838; stroke-width: 1.5;\" x1=\"156\" x2=\"246\" y1=\"78.9375\" y2=\"78.9375\"/><text fill=\"#000000\" font-family=\"sans-serif\" font-size=\"11\" lengthAdjust=\"spacingAndGlyphs\" textLength=\"21\" x=\"161\" y=\"109.9526\">po1</text><text fill=\"#000000\" font-family=\"sans-serif\" font-size=\"11\" font-style=\"italic\" lengthAdjust=\"spacingAndGlyphs\" textLength=\"80\" x=\"161\" y=\"122.7573\">:&gt;&gt;P1::porig1</text><line style=\"stroke: #383838; stroke-width: 1.0;\" x1=\"156\" x2=\"186\" y1=\"93.3398\" y2=\"93.3398\"/><text fill=\"#000000\" font-family=\"sans-serif\" font-size=\"11\" lengthAdjust=\"spacingAndGlyphs\" textLength=\"30\" x=\"186\" y=\"96.6479\">ports</text><line style=\"stroke: #383838; stroke-width: 1.0;\" x1=\"216\" x2=\"246\" y1=\"93.3398\" y2=\"93.3398\"/></a><!--MD5=[60a26617385b1d2d0262a64233df1f8d]\n",
       "class E6--><a href=\"psysml:28be41ac-7d51-495b-a80e-46db5ea96230\" target=\"_top\" title=\"psysml:28be41ac-7d51-495b-a80e-46db5ea96230\" xlink:actuate=\"onRequest\" xlink:href=\"psysml:28be41ac-7d51-495b-a80e-46db5ea96230\" xlink:show=\"new\" xlink:title=\"psysml:28be41ac-7d51-495b-a80e-46db5ea96230\" xlink:type=\"simple\"><rect fill=\"#FFFFFF\" height=\"75.5469\" id=\"E6\" rx=\"10\" ry=\"10\" style=\"stroke: #383838; stroke-width: 1.5;\" width=\"88\" x=\"32\" y=\"47\"/><text fill=\"#000000\" font-family=\"sans-serif\" font-size=\"12\" font-style=\"italic\" lengthAdjust=\"spacingAndGlyphs\" textLength=\"40\" x=\"56\" y=\"63.1387\">«part»</text><text fill=\"#000000\" font-family=\"sans-serif\" font-size=\"12\" lengthAdjust=\"spacingAndGlyphs\" textLength=\"40\" x=\"56\" y=\"77.1074\">p2: P1</text><line style=\"stroke: #383838; stroke-width: 1.5;\" x1=\"33\" x2=\"119\" y1=\"84.9375\" y2=\"84.9375\"/><text fill=\"#000000\" font-family=\"sans-serif\" font-size=\"11\" lengthAdjust=\"spacingAndGlyphs\" textLength=\"32\" x=\"38\" y=\"115.9526\">pdest</text><text fill=\"#000000\" font-family=\"sans-serif\" font-size=\"11\" font-weight=\"bold\" lengthAdjust=\"spacingAndGlyphs\" textLength=\"15\" x=\"74\" y=\"115.9526\">as</text><text fill=\"#000000\" font-family=\"sans-serif\" font-size=\"11\" lengthAdjust=\"spacingAndGlyphs\" textLength=\"21\" x=\"93\" y=\"115.9526\">pd1</text><line style=\"stroke: #383838; stroke-width: 1.0;\" x1=\"33\" x2=\"61\" y1=\"99.3398\" y2=\"99.3398\"/><text fill=\"#000000\" font-family=\"sans-serif\" font-size=\"11\" lengthAdjust=\"spacingAndGlyphs\" textLength=\"30\" x=\"61\" y=\"102.6479\">ports</text><line style=\"stroke: #383838; stroke-width: 1.0;\" x1=\"91\" x2=\"119\" y1=\"99.3398\" y2=\"99.3398\"/></a><!--MD5=[185131fc0dcab0a4505a2ebe144e961b]\n",
       "link E4 to E2--><a href=\"psysml:8ce18664-e29b-46f0-97c0-4b398d523e7c\" target=\"_top\" title=\"psysml:8ce18664-e29b-46f0-97c0-4b398d523e7c\" xlink:actuate=\"onRequest\" xlink:href=\"psysml:8ce18664-e29b-46f0-97c0-4b398d523e7c\" xlink:show=\"new\" xlink:title=\"psysml:8ce18664-e29b-46f0-97c0-4b398d523e7c\" xlink:type=\"simple\"><path d=\"M181.89,129.15 C176.14,142.14 169.74,156.6 163.67,170.29 \" fill=\"none\" id=\"E4-&gt;E2\" style=\"stroke: #383838; stroke-width: 1.0;\"/><polygon fill=\"#FFFFFF\" points=\"155.43,188.9,156.725,168.693,169.5254,174.3632,155.43,188.9\" style=\"stroke: #383838; stroke-width: 1.0;\"/><ellipse cx=\"160.8622\" cy=\"164.2914\" fill=\"#383838\" rx=\"2\" ry=\"2\" style=\"stroke: #383838; stroke-width: 1.0;\"/><ellipse cx=\"170.0053\" cy=\"168.3416\" fill=\"#383838\" rx=\"2\" ry=\"2\" style=\"stroke: #383838; stroke-width: 1.0;\"/></a><!--MD5=[2351f337d6de0f557b50152ba70847b5]\n",
       "link E6 to E2--><a href=\"psysml:aea9633f-bca5-4d9c-866d-d7db5d7aa3e2\" target=\"_top\" title=\"psysml:aea9633f-bca5-4d9c-866d-d7db5d7aa3e2\" xlink:actuate=\"onRequest\" xlink:href=\"psysml:aea9633f-bca5-4d9c-866d-d7db5d7aa3e2\" xlink:show=\"new\" xlink:title=\"psysml:aea9633f-bca5-4d9c-866d-d7db5d7aa3e2\" xlink:type=\"simple\"><path d=\"M92.72,123.15 C99.23,137.63 106.84,154.53 113.98,170.4 \" fill=\"none\" id=\"E6-&gt;E2\" style=\"stroke: #383838; stroke-width: 1.0;\"/><polygon fill=\"#FFFFFF\" points=\"122.2,188.68,108.0257,174.22,120.7951,168.4803,122.2,188.68\" style=\"stroke: #383838; stroke-width: 1.0;\"/><ellipse cx=\"107.5131\" cy=\"168.2011\" fill=\"#383838\" rx=\"2\" ry=\"2\" style=\"stroke: #383838; stroke-width: 1.0;\"/><ellipse cx=\"116.634\" cy=\"164.1014\" fill=\"#383838\" rx=\"2\" ry=\"2\" style=\"stroke: #383838; stroke-width: 1.0;\"/></a><!--MD5=[12458a6b631990c0b83b5f3c6cf6401d]\n",
       "@startuml\r\n",
       "skinparam linetype polyline\r\n",
       "skinparam monochrome true\r\n",
       "skinparam classbackgroundcolor white\r\n",
       "skinparam shadowing false\r\n",
       "skinparam wrapWidth 300\r\n",
       "hide circle\r\n",
       "\r\n",
       "package \"AliasTest\" as E1  [[psysml:d6640503-c03f-477e-b125-432046bb93b4 ]]  {\r\n",
       "comp def \"P1\" as E2  <<(T,blue)part def>> [[psysml:4a06ff05-02b9-4148-90d6-f5221b7c40f0 ]] {\r\n",
       "- - ports - -\r\n",
       "porig1 <b>as</b> po1 \r\n",
       "}\r\n",
       "comp usage \"p1: P1\" as E4  <<(T,blue)part>> [[psysml:9ecf2706-3ec0-4307-8293-70ef42ab2608 ]] {\r\n",
       "- - ports - -\r\n",
       "po1\\n//:>>P1::porig1// \r\n",
       "}\r\n",
       "comp usage \"p2: P1\" as E6  <<(T,blue)part>> [[psysml:28be41ac-7d51-495b-a80e-46db5ea96230 ]] {\r\n",
       "- - ports - -\r\n",
       "pdest <b>as</b> pd1 \r\n",
       "}\r\n",
       "E4 - -:|> E2 [[psysml:8ce18664-e29b-46f0-97c0-4b398d523e7c ]] \r\n",
       "E6 - -:|> E2 [[psysml:aea9633f-bca5-4d9c-866d-d7db5d7aa3e2 ]] \r\n",
       "}\r\n",
       "@enduml\r\n",
       "\n",
       "PlantUML version 1.2020.13(Sat Jun 13 12:26:38 UTC 2020)\n",
       "(EPL source distribution)\n",
       "Java Runtime: OpenJDK Runtime Environment\n",
       "JVM: OpenJDK 64-Bit Server VM\n",
       "Default Encoding: UTF-8\n",
       "Language: en\n",
       "Country: null\n",
       "--></g></svg>"
      ]
     },
     "execution_count": 15,
     "metadata": {},
     "output_type": "execute_result"
    }
   ],
   "source": [
    "%viz --style=\"POLYLINE\" --view=\"MIXED\" \"AliasTest\""
   ]
  },
  {
   "cell_type": "code",
   "execution_count": 16,
   "id": "radical-raise",
   "metadata": {
    "execution": {
     "iopub.execute_input": "2021-03-25T13:15:17.119388Z",
     "iopub.status.busy": "2021-03-25T13:15:17.117786Z",
     "iopub.status.idle": "2021-03-25T13:15:17.782866Z",
     "shell.execute_reply": "2021-03-25T13:15:17.781076Z"
    }
   },
   "outputs": [
    {
     "data": {
      "image/svg+xml": [
       "<?xml version=\"1.0\" encoding=\"UTF-8\" standalone=\"no\"?><svg xmlns=\"http://www.w3.org/2000/svg\" xmlns:xlink=\"http://www.w3.org/1999/xlink\" contentScriptType=\"application/ecmascript\" contentStyleType=\"text/css\" height=\"268px\" preserveAspectRatio=\"none\" style=\"width:314px;height:268px;\" version=\"1.1\" viewBox=\"0 0 314 268\" width=\"314px\" zoomAndPan=\"magnify\"><defs/><g><!--MD5=[fbc87193dbaf4d95561dea2c320d4a47]\n",
       "cluster E1--><a href=\"psysml:d6640503-c03f-477e-b125-432046bb93b4\" target=\"_top\" title=\"psysml:d6640503-c03f-477e-b125-432046bb93b4\" xlink:actuate=\"onRequest\" xlink:href=\"psysml:d6640503-c03f-477e-b125-432046bb93b4\" xlink:show=\"new\" xlink:title=\"psysml:d6640503-c03f-477e-b125-432046bb93b4\" xlink:type=\"simple\"><polygon fill=\"#FFFFFF\" points=\"16,6,94,6,101,28.2969,292,28.2969,292,256,16,256,16,6\" style=\"stroke: #000000; stroke-width: 1.5;\"/><line style=\"stroke: #000000; stroke-width: 1.5;\" x1=\"16\" x2=\"101\" y1=\"28.2969\" y2=\"28.2969\"/><text fill=\"#000000\" font-family=\"sans-serif\" font-size=\"14\" font-weight=\"bold\" lengthAdjust=\"spacingAndGlyphs\" textLength=\"72\" x=\"20\" y=\"20.9951\">AliasTest</text></a><!--MD5=[b4997ac47864f28c2f74865a473b2911]\n",
       "class E2--><a href=\"psysml:4a06ff05-02b9-4148-90d6-f5221b7c40f0\" target=\"_top\" title=\"psysml:4a06ff05-02b9-4148-90d6-f5221b7c40f0\" xlink:actuate=\"onRequest\" xlink:href=\"psysml:4a06ff05-02b9-4148-90d6-f5221b7c40f0\" xlink:show=\"new\" xlink:title=\"psysml:4a06ff05-02b9-4148-90d6-f5221b7c40f0\" xlink:type=\"simple\"><rect fill=\"#FFFFFF\" height=\"75.5469\" id=\"E2\" style=\"stroke: #383838; stroke-width: 1.5;\" width=\"92\" x=\"184\" y=\"106\"/><text fill=\"#000000\" font-family=\"sans-serif\" font-size=\"12\" font-style=\"italic\" lengthAdjust=\"spacingAndGlyphs\" textLength=\"64\" x=\"198\" y=\"122.1387\">«part def»</text><text fill=\"#000000\" font-family=\"sans-serif\" font-size=\"12\" lengthAdjust=\"spacingAndGlyphs\" textLength=\"16\" x=\"222\" y=\"136.1074\">P1</text><line style=\"stroke: #383838; stroke-width: 1.5;\" x1=\"185\" x2=\"275\" y1=\"143.9375\" y2=\"143.9375\"/><text fill=\"#000000\" font-family=\"sans-serif\" font-size=\"11\" lengthAdjust=\"spacingAndGlyphs\" textLength=\"36\" x=\"190\" y=\"174.9526\">porig1</text><text fill=\"#000000\" font-family=\"sans-serif\" font-size=\"11\" font-weight=\"bold\" lengthAdjust=\"spacingAndGlyphs\" textLength=\"15\" x=\"230\" y=\"174.9526\">as</text><text fill=\"#000000\" font-family=\"sans-serif\" font-size=\"11\" lengthAdjust=\"spacingAndGlyphs\" textLength=\"21\" x=\"249\" y=\"174.9526\">po1</text><line style=\"stroke: #383838; stroke-width: 1.0;\" x1=\"185\" x2=\"215\" y1=\"158.3398\" y2=\"158.3398\"/><text fill=\"#000000\" font-family=\"sans-serif\" font-size=\"11\" lengthAdjust=\"spacingAndGlyphs\" textLength=\"30\" x=\"215\" y=\"161.6479\">ports</text><line style=\"stroke: #383838; stroke-width: 1.0;\" x1=\"245\" x2=\"275\" y1=\"158.3398\" y2=\"158.3398\"/></a><!--MD5=[ebbe1d658d1005bcc118a6aa81145e00]\n",
       "class E4--><a href=\"psysml:9ecf2706-3ec0-4307-8293-70ef42ab2608\" target=\"_top\" title=\"psysml:9ecf2706-3ec0-4307-8293-70ef42ab2608\" xlink:actuate=\"onRequest\" xlink:href=\"psysml:9ecf2706-3ec0-4307-8293-70ef42ab2608\" xlink:show=\"new\" xlink:title=\"psysml:9ecf2706-3ec0-4307-8293-70ef42ab2608\" xlink:type=\"simple\"><rect fill=\"#FFFFFF\" height=\"88.3516\" id=\"E4\" rx=\"10\" ry=\"10\" style=\"stroke: #383838; stroke-width: 1.5;\" width=\"92\" x=\"32\" y=\"41\"/><text fill=\"#000000\" font-family=\"sans-serif\" font-size=\"12\" font-style=\"italic\" lengthAdjust=\"spacingAndGlyphs\" textLength=\"40\" x=\"58\" y=\"57.1387\">«part»</text><text fill=\"#000000\" font-family=\"sans-serif\" font-size=\"12\" lengthAdjust=\"spacingAndGlyphs\" textLength=\"40\" x=\"58\" y=\"71.1074\">p1: P1</text><line style=\"stroke: #383838; stroke-width: 1.5;\" x1=\"33\" x2=\"123\" y1=\"78.9375\" y2=\"78.9375\"/><text fill=\"#000000\" font-family=\"sans-serif\" font-size=\"11\" lengthAdjust=\"spacingAndGlyphs\" textLength=\"21\" x=\"38\" y=\"109.9526\">po1</text><text fill=\"#000000\" font-family=\"sans-serif\" font-size=\"11\" font-style=\"italic\" lengthAdjust=\"spacingAndGlyphs\" textLength=\"80\" x=\"38\" y=\"122.7573\">:&gt;&gt;P1::porig1</text><line style=\"stroke: #383838; stroke-width: 1.0;\" x1=\"33\" x2=\"63\" y1=\"93.3398\" y2=\"93.3398\"/><text fill=\"#000000\" font-family=\"sans-serif\" font-size=\"11\" lengthAdjust=\"spacingAndGlyphs\" textLength=\"30\" x=\"63\" y=\"96.6479\">ports</text><line style=\"stroke: #383838; stroke-width: 1.0;\" x1=\"93\" x2=\"123\" y1=\"93.3398\" y2=\"93.3398\"/></a><!--MD5=[60a26617385b1d2d0262a64233df1f8d]\n",
       "class E6--><a href=\"psysml:28be41ac-7d51-495b-a80e-46db5ea96230\" target=\"_top\" title=\"psysml:28be41ac-7d51-495b-a80e-46db5ea96230\" xlink:actuate=\"onRequest\" xlink:href=\"psysml:28be41ac-7d51-495b-a80e-46db5ea96230\" xlink:show=\"new\" xlink:title=\"psysml:28be41ac-7d51-495b-a80e-46db5ea96230\" xlink:type=\"simple\"><rect fill=\"#FFFFFF\" height=\"75.5469\" id=\"E6\" rx=\"10\" ry=\"10\" style=\"stroke: #383838; stroke-width: 1.5;\" width=\"88\" x=\"34\" y=\"164\"/><text fill=\"#000000\" font-family=\"sans-serif\" font-size=\"12\" font-style=\"italic\" lengthAdjust=\"spacingAndGlyphs\" textLength=\"40\" x=\"58\" y=\"180.1387\">«part»</text><text fill=\"#000000\" font-family=\"sans-serif\" font-size=\"12\" lengthAdjust=\"spacingAndGlyphs\" textLength=\"40\" x=\"58\" y=\"194.1074\">p2: P1</text><line style=\"stroke: #383838; stroke-width: 1.5;\" x1=\"35\" x2=\"121\" y1=\"201.9375\" y2=\"201.9375\"/><text fill=\"#000000\" font-family=\"sans-serif\" font-size=\"11\" lengthAdjust=\"spacingAndGlyphs\" textLength=\"32\" x=\"40\" y=\"232.9526\">pdest</text><text fill=\"#000000\" font-family=\"sans-serif\" font-size=\"11\" font-weight=\"bold\" lengthAdjust=\"spacingAndGlyphs\" textLength=\"15\" x=\"76\" y=\"232.9526\">as</text><text fill=\"#000000\" font-family=\"sans-serif\" font-size=\"11\" lengthAdjust=\"spacingAndGlyphs\" textLength=\"21\" x=\"95\" y=\"232.9526\">pd1</text><line style=\"stroke: #383838; stroke-width: 1.0;\" x1=\"35\" x2=\"63\" y1=\"216.3398\" y2=\"216.3398\"/><text fill=\"#000000\" font-family=\"sans-serif\" font-size=\"11\" lengthAdjust=\"spacingAndGlyphs\" textLength=\"30\" x=\"63\" y=\"219.6479\">ports</text><line style=\"stroke: #383838; stroke-width: 1.0;\" x1=\"93\" x2=\"121\" y1=\"216.3398\" y2=\"216.3398\"/></a><!--MD5=[185131fc0dcab0a4505a2ebe144e961b]\n",
       "link E4 to E2--><a href=\"psysml:8ce18664-e29b-46f0-97c0-4b398d523e7c\" target=\"_top\" title=\"psysml:8ce18664-e29b-46f0-97c0-4b398d523e7c\" xlink:actuate=\"onRequest\" xlink:href=\"psysml:8ce18664-e29b-46f0-97c0-4b398d523e7c\" xlink:show=\"new\" xlink:title=\"psysml:8ce18664-e29b-46f0-97c0-4b398d523e7c\" xlink:type=\"simple\"><path d=\"M124,102.7 C136.85,107.75 151.1,113.36 164.85,118.77 \" fill=\"none\" id=\"E4-&gt;E2\" style=\"stroke: #383838; stroke-width: 1.0;\"/><polygon fill=\"#FFFFFF\" points=\"183.77,126.21,163.5265,125.763,168.6552,112.7362,183.77,126.21\" style=\"stroke: #383838; stroke-width: 1.0;\"/><ellipse cx=\"158.9554\" cy=\"121.8139\" fill=\"#383838\" rx=\"2\" ry=\"2\" style=\"stroke: #383838; stroke-width: 1.0;\"/><ellipse cx=\"162.6188\" cy=\"112.5091\" fill=\"#383838\" rx=\"2\" ry=\"2\" style=\"stroke: #383838; stroke-width: 1.0;\"/></a><!--MD5=[2351f337d6de0f557b50152ba70847b5]\n",
       "link E6 to E2--><a href=\"psysml:aea9633f-bca5-4d9c-866d-d7db5d7aa3e2\" target=\"_top\" title=\"psysml:aea9633f-bca5-4d9c-866d-d7db5d7aa3e2\" xlink:actuate=\"onRequest\" xlink:href=\"psysml:aea9633f-bca5-4d9c-866d-d7db5d7aa3e2\" xlink:show=\"new\" xlink:title=\"psysml:aea9633f-bca5-4d9c-866d-d7db5d7aa3e2\" xlink:type=\"simple\"><path d=\"M122.39,185.22 C135.65,180.09 150.53,174.34 164.87,168.8 \" fill=\"none\" id=\"E6-&gt;E2\" style=\"stroke: #383838; stroke-width: 1.0;\"/><polygon fill=\"#FFFFFF\" points=\"183.89,161.44,168.6933,174.8213,163.6441,161.7635,183.89,161.44\" style=\"stroke: #383838; stroke-width: 1.0;\"/><ellipse cx=\"162.6556\" cy=\"175.0116\" fill=\"#383838\" rx=\"2\" ry=\"2\" style=\"stroke: #383838; stroke-width: 1.0;\"/><ellipse cx=\"159.049\" cy=\"165.6846\" fill=\"#383838\" rx=\"2\" ry=\"2\" style=\"stroke: #383838; stroke-width: 1.0;\"/></a><!--MD5=[f294e749d8d89c59eb03b745720f98e0]\n",
       "@startuml\r\n",
       "left to right direction\r\n",
       "skinparam monochrome true\r\n",
       "skinparam classbackgroundcolor white\r\n",
       "skinparam shadowing false\r\n",
       "skinparam wrapWidth 300\r\n",
       "hide circle\r\n",
       "\r\n",
       "package \"AliasTest\" as E1  [[psysml:d6640503-c03f-477e-b125-432046bb93b4 ]]  {\r\n",
       "comp def \"P1\" as E2  <<(T,blue)part def>> [[psysml:4a06ff05-02b9-4148-90d6-f5221b7c40f0 ]] {\r\n",
       "- - ports - -\r\n",
       "porig1 <b>as</b> po1 \r\n",
       "}\r\n",
       "comp usage \"p1: P1\" as E4  <<(T,blue)part>> [[psysml:9ecf2706-3ec0-4307-8293-70ef42ab2608 ]] {\r\n",
       "- - ports - -\r\n",
       "po1\\n//:>>P1::porig1// \r\n",
       "}\r\n",
       "comp usage \"p2: P1\" as E6  <<(T,blue)part>> [[psysml:28be41ac-7d51-495b-a80e-46db5ea96230 ]] {\r\n",
       "- - ports - -\r\n",
       "pdest <b>as</b> pd1 \r\n",
       "}\r\n",
       "E4 - -:|> E2 [[psysml:8ce18664-e29b-46f0-97c0-4b398d523e7c ]] \r\n",
       "E6 - -:|> E2 [[psysml:aea9633f-bca5-4d9c-866d-d7db5d7aa3e2 ]] \r\n",
       "}\r\n",
       "@enduml\r\n",
       "\n",
       "PlantUML version 1.2020.13(Sat Jun 13 12:26:38 UTC 2020)\n",
       "(EPL source distribution)\n",
       "Java Runtime: OpenJDK Runtime Environment\n",
       "JVM: OpenJDK 64-Bit Server VM\n",
       "Default Encoding: UTF-8\n",
       "Language: en\n",
       "Country: null\n",
       "--></g></svg>"
      ]
     },
     "execution_count": 16,
     "metadata": {},
     "output_type": "execute_result"
    }
   ],
   "source": [
    "%viz --style=\"LR\" --view=\"Default\" \"AliasTest\""
   ]
  },
  {
   "cell_type": "code",
   "execution_count": 17,
   "id": "chief-valentine",
   "metadata": {
    "execution": {
     "iopub.execute_input": "2021-03-25T13:15:17.830514Z",
     "iopub.status.busy": "2021-03-25T13:15:17.829840Z",
     "iopub.status.idle": "2021-03-25T13:15:18.481399Z",
     "shell.execute_reply": "2021-03-25T13:15:18.481793Z"
    }
   },
   "outputs": [
    {
     "data": {
      "image/svg+xml": [
       "<?xml version=\"1.0\" encoding=\"UTF-8\" standalone=\"no\"?><svg xmlns=\"http://www.w3.org/2000/svg\" xmlns:xlink=\"http://www.w3.org/1999/xlink\" contentScriptType=\"application/ecmascript\" contentStyleType=\"text/css\" height=\"268px\" preserveAspectRatio=\"none\" style=\"width:314px;height:268px;\" version=\"1.1\" viewBox=\"0 0 314 268\" width=\"314px\" zoomAndPan=\"magnify\"><defs/><g><!--MD5=[fbc87193dbaf4d95561dea2c320d4a47]\n",
       "cluster E1--><a href=\"psysml:d6640503-c03f-477e-b125-432046bb93b4\" target=\"_top\" title=\"psysml:d6640503-c03f-477e-b125-432046bb93b4\" xlink:actuate=\"onRequest\" xlink:href=\"psysml:d6640503-c03f-477e-b125-432046bb93b4\" xlink:show=\"new\" xlink:title=\"psysml:d6640503-c03f-477e-b125-432046bb93b4\" xlink:type=\"simple\"><polygon fill=\"#FFFFFF\" points=\"16,6,94,6,101,28.2969,292,28.2969,292,256,16,256,16,6\" style=\"stroke: #000000; stroke-width: 1.5;\"/><line style=\"stroke: #000000; stroke-width: 1.5;\" x1=\"16\" x2=\"101\" y1=\"28.2969\" y2=\"28.2969\"/><text fill=\"#000000\" font-family=\"sans-serif\" font-size=\"14\" font-weight=\"bold\" lengthAdjust=\"spacingAndGlyphs\" textLength=\"72\" x=\"20\" y=\"20.9951\">AliasTest</text></a><!--MD5=[b4997ac47864f28c2f74865a473b2911]\n",
       "class E2--><a href=\"psysml:4a06ff05-02b9-4148-90d6-f5221b7c40f0\" target=\"_top\" title=\"psysml:4a06ff05-02b9-4148-90d6-f5221b7c40f0\" xlink:actuate=\"onRequest\" xlink:href=\"psysml:4a06ff05-02b9-4148-90d6-f5221b7c40f0\" xlink:show=\"new\" xlink:title=\"psysml:4a06ff05-02b9-4148-90d6-f5221b7c40f0\" xlink:type=\"simple\"><rect fill=\"#FFFFFF\" height=\"75.5469\" id=\"E2\" style=\"stroke: #383838; stroke-width: 1.5;\" width=\"92\" x=\"184\" y=\"106\"/><text fill=\"#000000\" font-family=\"sans-serif\" font-size=\"12\" font-style=\"italic\" lengthAdjust=\"spacingAndGlyphs\" textLength=\"64\" x=\"198\" y=\"122.1387\">«part def»</text><text fill=\"#000000\" font-family=\"sans-serif\" font-size=\"12\" lengthAdjust=\"spacingAndGlyphs\" textLength=\"16\" x=\"222\" y=\"136.1074\">P1</text><line style=\"stroke: #383838; stroke-width: 1.5;\" x1=\"185\" x2=\"275\" y1=\"143.9375\" y2=\"143.9375\"/><text fill=\"#000000\" font-family=\"sans-serif\" font-size=\"11\" lengthAdjust=\"spacingAndGlyphs\" textLength=\"36\" x=\"190\" y=\"174.9526\">porig1</text><text fill=\"#000000\" font-family=\"sans-serif\" font-size=\"11\" font-weight=\"bold\" lengthAdjust=\"spacingAndGlyphs\" textLength=\"15\" x=\"230\" y=\"174.9526\">as</text><text fill=\"#000000\" font-family=\"sans-serif\" font-size=\"11\" lengthAdjust=\"spacingAndGlyphs\" textLength=\"21\" x=\"249\" y=\"174.9526\">po1</text><line style=\"stroke: #383838; stroke-width: 1.0;\" x1=\"185\" x2=\"215\" y1=\"158.3398\" y2=\"158.3398\"/><text fill=\"#000000\" font-family=\"sans-serif\" font-size=\"11\" lengthAdjust=\"spacingAndGlyphs\" textLength=\"30\" x=\"215\" y=\"161.6479\">ports</text><line style=\"stroke: #383838; stroke-width: 1.0;\" x1=\"245\" x2=\"275\" y1=\"158.3398\" y2=\"158.3398\"/></a><!--MD5=[ebbe1d658d1005bcc118a6aa81145e00]\n",
       "class E4--><a href=\"psysml:9ecf2706-3ec0-4307-8293-70ef42ab2608\" target=\"_top\" title=\"psysml:9ecf2706-3ec0-4307-8293-70ef42ab2608\" xlink:actuate=\"onRequest\" xlink:href=\"psysml:9ecf2706-3ec0-4307-8293-70ef42ab2608\" xlink:show=\"new\" xlink:title=\"psysml:9ecf2706-3ec0-4307-8293-70ef42ab2608\" xlink:type=\"simple\"><rect fill=\"#FFFFFF\" height=\"88.3516\" id=\"E4\" rx=\"10\" ry=\"10\" style=\"stroke: #383838; stroke-width: 1.5;\" width=\"92\" x=\"32\" y=\"41\"/><text fill=\"#000000\" font-family=\"sans-serif\" font-size=\"12\" font-style=\"italic\" lengthAdjust=\"spacingAndGlyphs\" textLength=\"40\" x=\"58\" y=\"57.1387\">«part»</text><text fill=\"#000000\" font-family=\"sans-serif\" font-size=\"12\" lengthAdjust=\"spacingAndGlyphs\" textLength=\"40\" x=\"58\" y=\"71.1074\">p1: P1</text><line style=\"stroke: #383838; stroke-width: 1.5;\" x1=\"33\" x2=\"123\" y1=\"78.9375\" y2=\"78.9375\"/><text fill=\"#000000\" font-family=\"sans-serif\" font-size=\"11\" lengthAdjust=\"spacingAndGlyphs\" textLength=\"21\" x=\"38\" y=\"109.9526\">po1</text><text fill=\"#000000\" font-family=\"sans-serif\" font-size=\"11\" font-style=\"italic\" lengthAdjust=\"spacingAndGlyphs\" textLength=\"80\" x=\"38\" y=\"122.7573\">:&gt;&gt;P1::porig1</text><line style=\"stroke: #383838; stroke-width: 1.0;\" x1=\"33\" x2=\"63\" y1=\"93.3398\" y2=\"93.3398\"/><text fill=\"#000000\" font-family=\"sans-serif\" font-size=\"11\" lengthAdjust=\"spacingAndGlyphs\" textLength=\"30\" x=\"63\" y=\"96.6479\">ports</text><line style=\"stroke: #383838; stroke-width: 1.0;\" x1=\"93\" x2=\"123\" y1=\"93.3398\" y2=\"93.3398\"/></a><!--MD5=[60a26617385b1d2d0262a64233df1f8d]\n",
       "class E6--><a href=\"psysml:28be41ac-7d51-495b-a80e-46db5ea96230\" target=\"_top\" title=\"psysml:28be41ac-7d51-495b-a80e-46db5ea96230\" xlink:actuate=\"onRequest\" xlink:href=\"psysml:28be41ac-7d51-495b-a80e-46db5ea96230\" xlink:show=\"new\" xlink:title=\"psysml:28be41ac-7d51-495b-a80e-46db5ea96230\" xlink:type=\"simple\"><rect fill=\"#FFFFFF\" height=\"75.5469\" id=\"E6\" rx=\"10\" ry=\"10\" style=\"stroke: #383838; stroke-width: 1.5;\" width=\"88\" x=\"34\" y=\"164\"/><text fill=\"#000000\" font-family=\"sans-serif\" font-size=\"12\" font-style=\"italic\" lengthAdjust=\"spacingAndGlyphs\" textLength=\"40\" x=\"58\" y=\"180.1387\">«part»</text><text fill=\"#000000\" font-family=\"sans-serif\" font-size=\"12\" lengthAdjust=\"spacingAndGlyphs\" textLength=\"40\" x=\"58\" y=\"194.1074\">p2: P1</text><line style=\"stroke: #383838; stroke-width: 1.5;\" x1=\"35\" x2=\"121\" y1=\"201.9375\" y2=\"201.9375\"/><text fill=\"#000000\" font-family=\"sans-serif\" font-size=\"11\" lengthAdjust=\"spacingAndGlyphs\" textLength=\"32\" x=\"40\" y=\"232.9526\">pdest</text><text fill=\"#000000\" font-family=\"sans-serif\" font-size=\"11\" font-weight=\"bold\" lengthAdjust=\"spacingAndGlyphs\" textLength=\"15\" x=\"76\" y=\"232.9526\">as</text><text fill=\"#000000\" font-family=\"sans-serif\" font-size=\"11\" lengthAdjust=\"spacingAndGlyphs\" textLength=\"21\" x=\"95\" y=\"232.9526\">pd1</text><line style=\"stroke: #383838; stroke-width: 1.0;\" x1=\"35\" x2=\"63\" y1=\"216.3398\" y2=\"216.3398\"/><text fill=\"#000000\" font-family=\"sans-serif\" font-size=\"11\" lengthAdjust=\"spacingAndGlyphs\" textLength=\"30\" x=\"63\" y=\"219.6479\">ports</text><line style=\"stroke: #383838; stroke-width: 1.0;\" x1=\"93\" x2=\"121\" y1=\"216.3398\" y2=\"216.3398\"/></a><!--MD5=[185131fc0dcab0a4505a2ebe144e961b]\n",
       "link E4 to E2--><a href=\"psysml:8ce18664-e29b-46f0-97c0-4b398d523e7c\" target=\"_top\" title=\"psysml:8ce18664-e29b-46f0-97c0-4b398d523e7c\" xlink:actuate=\"onRequest\" xlink:href=\"psysml:8ce18664-e29b-46f0-97c0-4b398d523e7c\" xlink:show=\"new\" xlink:title=\"psysml:8ce18664-e29b-46f0-97c0-4b398d523e7c\" xlink:type=\"simple\"><path d=\"M124,102.7 C136.85,107.75 151.1,113.36 164.85,118.77 \" fill=\"none\" id=\"E4-&gt;E2\" style=\"stroke: #383838; stroke-width: 1.0;\"/><polygon fill=\"#FFFFFF\" points=\"183.77,126.21,163.5265,125.763,168.6552,112.7362,183.77,126.21\" style=\"stroke: #383838; stroke-width: 1.0;\"/><ellipse cx=\"158.9554\" cy=\"121.8139\" fill=\"#383838\" rx=\"2\" ry=\"2\" style=\"stroke: #383838; stroke-width: 1.0;\"/><ellipse cx=\"162.6188\" cy=\"112.5091\" fill=\"#383838\" rx=\"2\" ry=\"2\" style=\"stroke: #383838; stroke-width: 1.0;\"/></a><!--MD5=[2351f337d6de0f557b50152ba70847b5]\n",
       "link E6 to E2--><a href=\"psysml:aea9633f-bca5-4d9c-866d-d7db5d7aa3e2\" target=\"_top\" title=\"psysml:aea9633f-bca5-4d9c-866d-d7db5d7aa3e2\" xlink:actuate=\"onRequest\" xlink:href=\"psysml:aea9633f-bca5-4d9c-866d-d7db5d7aa3e2\" xlink:show=\"new\" xlink:title=\"psysml:aea9633f-bca5-4d9c-866d-d7db5d7aa3e2\" xlink:type=\"simple\"><path d=\"M122.39,185.22 C135.65,180.09 150.53,174.34 164.87,168.8 \" fill=\"none\" id=\"E6-&gt;E2\" style=\"stroke: #383838; stroke-width: 1.0;\"/><polygon fill=\"#FFFFFF\" points=\"183.89,161.44,168.6933,174.8213,163.6441,161.7635,183.89,161.44\" style=\"stroke: #383838; stroke-width: 1.0;\"/><ellipse cx=\"162.6556\" cy=\"175.0116\" fill=\"#383838\" rx=\"2\" ry=\"2\" style=\"stroke: #383838; stroke-width: 1.0;\"/><ellipse cx=\"159.049\" cy=\"165.6846\" fill=\"#383838\" rx=\"2\" ry=\"2\" style=\"stroke: #383838; stroke-width: 1.0;\"/></a><!--MD5=[f294e749d8d89c59eb03b745720f98e0]\n",
       "@startuml\r\n",
       "left to right direction\r\n",
       "skinparam monochrome true\r\n",
       "skinparam classbackgroundcolor white\r\n",
       "skinparam shadowing false\r\n",
       "skinparam wrapWidth 300\r\n",
       "hide circle\r\n",
       "\r\n",
       "package \"AliasTest\" as E1  [[psysml:d6640503-c03f-477e-b125-432046bb93b4 ]]  {\r\n",
       "comp def \"P1\" as E2  <<(T,blue)part def>> [[psysml:4a06ff05-02b9-4148-90d6-f5221b7c40f0 ]] {\r\n",
       "- - ports - -\r\n",
       "porig1 <b>as</b> po1 \r\n",
       "}\r\n",
       "comp usage \"p1: P1\" as E4  <<(T,blue)part>> [[psysml:9ecf2706-3ec0-4307-8293-70ef42ab2608 ]] {\r\n",
       "- - ports - -\r\n",
       "po1\\n//:>>P1::porig1// \r\n",
       "}\r\n",
       "comp usage \"p2: P1\" as E6  <<(T,blue)part>> [[psysml:28be41ac-7d51-495b-a80e-46db5ea96230 ]] {\r\n",
       "- - ports - -\r\n",
       "pdest <b>as</b> pd1 \r\n",
       "}\r\n",
       "E4 - -:|> E2 [[psysml:8ce18664-e29b-46f0-97c0-4b398d523e7c ]] \r\n",
       "E6 - -:|> E2 [[psysml:aea9633f-bca5-4d9c-866d-d7db5d7aa3e2 ]] \r\n",
       "}\r\n",
       "@enduml\r\n",
       "\n",
       "PlantUML version 1.2020.13(Sat Jun 13 12:26:38 UTC 2020)\n",
       "(EPL source distribution)\n",
       "Java Runtime: OpenJDK Runtime Environment\n",
       "JVM: OpenJDK 64-Bit Server VM\n",
       "Default Encoding: UTF-8\n",
       "Language: en\n",
       "Country: null\n",
       "--></g></svg>"
      ]
     },
     "execution_count": 17,
     "metadata": {},
     "output_type": "execute_result"
    }
   ],
   "source": [
    "%viz --style=\"LR\" --view=\"Tree\" \"AliasTest\""
   ]
  },
  {
   "cell_type": "code",
   "execution_count": 18,
   "id": "wrong-agriculture",
   "metadata": {
    "execution": {
     "iopub.execute_input": "2021-03-25T13:15:18.534135Z",
     "iopub.status.busy": "2021-03-25T13:15:18.533624Z",
     "iopub.status.idle": "2021-03-25T13:15:18.539907Z",
     "shell.execute_reply": "2021-03-25T13:15:18.539517Z"
    }
   },
   "outputs": [
    {
     "data": {
      "image/svg+xml": [
       "<?xml version=\"1.0\" encoding=\"UTF-8\" standalone=\"no\"?><svg xmlns=\"http://www.w3.org/2000/svg\" xmlns:xlink=\"http://www.w3.org/1999/xlink\" contentScriptType=\"application/ecmascript\" contentStyleType=\"text/css\" height=\"12px\" preserveAspectRatio=\"none\" style=\"width:12px;height:12px;\" version=\"1.1\" viewBox=\"0 0 12 12\" width=\"12px\" zoomAndPan=\"magnify\"><defs/><g><!--MD5=[19d285c9d72a204eba4e2cd117d745e8]\n",
       "@startuml\r\n",
       "left to right direction\r\n",
       "skinparam monochrome true\r\n",
       "skinparam classbackgroundcolor white\r\n",
       "skinparam shadowing false\r\n",
       "skinparam wrapWidth 300\r\n",
       "hide circle\r\n",
       "\r\n",
       "@enduml\r\n",
       "\n",
       "PlantUML version 1.2020.13(Sat Jun 13 12:26:38 UTC 2020)\n",
       "(EPL source distribution)\n",
       "Java Runtime: OpenJDK Runtime Environment\n",
       "JVM: OpenJDK 64-Bit Server VM\n",
       "Default Encoding: UTF-8\n",
       "Language: en\n",
       "Country: null\n",
       "--></g></svg>"
      ]
     },
     "execution_count": 18,
     "metadata": {},
     "output_type": "execute_result"
    }
   ],
   "source": [
    "%viz --style=\"LR\" --view=\"State\" \"AliasTest\""
   ]
  },
  {
   "cell_type": "code",
   "execution_count": 19,
   "id": "apparent-twist",
   "metadata": {
    "execution": {
     "iopub.execute_input": "2021-03-25T13:15:18.592325Z",
     "iopub.status.busy": "2021-03-25T13:15:18.591719Z",
     "iopub.status.idle": "2021-03-25T13:15:18.709175Z",
     "shell.execute_reply": "2021-03-25T13:15:18.708603Z"
    }
   },
   "outputs": [
    {
     "data": {
      "image/svg+xml": [
       "<?xml version=\"1.0\" encoding=\"UTF-8\" standalone=\"no\"?><svg xmlns=\"http://www.w3.org/2000/svg\" xmlns:xlink=\"http://www.w3.org/1999/xlink\" contentScriptType=\"application/ecmascript\" contentStyleType=\"text/css\" height=\"287px\" preserveAspectRatio=\"none\" style=\"width:308px;height:287px;\" version=\"1.1\" viewBox=\"0 0 308 287\" width=\"308px\" zoomAndPan=\"magnify\"><defs/><g><!--MD5=[fbc87193dbaf4d95561dea2c320d4a47]\n",
       "cluster E1--><a href=\"psysml:d6640503-c03f-477e-b125-432046bb93b4\" target=\"_top\" title=\"psysml:d6640503-c03f-477e-b125-432046bb93b4\" xlink:actuate=\"onRequest\" xlink:href=\"psysml:d6640503-c03f-477e-b125-432046bb93b4\" xlink:show=\"new\" xlink:title=\"psysml:d6640503-c03f-477e-b125-432046bb93b4\" xlink:type=\"simple\"><polygon fill=\"#FFFFFF\" points=\"16,6,94,6,101,28.2969,286,28.2969,286,275,16,275,16,6\" style=\"stroke: #000000; stroke-width: 1.5;\"/><line style=\"stroke: #000000; stroke-width: 1.5;\" x1=\"16\" x2=\"101\" y1=\"28.2969\" y2=\"28.2969\"/><text fill=\"#000000\" font-family=\"sans-serif\" font-size=\"14\" font-weight=\"bold\" lengthAdjust=\"spacingAndGlyphs\" textLength=\"72\" x=\"20\" y=\"20.9951\">AliasTest</text></a><!--MD5=[e4f7fae6ed58524ba242bb0b0d3be6b7]\n",
       "cluster E2--><a href=\"psysml:4a06ff05-02b9-4148-90d6-f5221b7c40f0\" target=\"_top\" title=\"psysml:4a06ff05-02b9-4148-90d6-f5221b7c40f0\" xlink:actuate=\"onRequest\" xlink:href=\"psysml:4a06ff05-02b9-4148-90d6-f5221b7c40f0\" xlink:show=\"new\" xlink:title=\"psysml:4a06ff05-02b9-4148-90d6-f5221b7c40f0\" xlink:type=\"simple\"><rect fill=\"#FFFFFF\" height=\"47\" id=\"E2\" style=\"stroke: #383838; stroke-width: 1.5;\" width=\"143\" x=\"28\" y=\"55\"/><rect fill=\"#F8F8F8\" height=\"37.9375\" style=\"stroke: #383838; stroke-width: 1.5;\" width=\"143\" x=\"28\" y=\"55\"/><text fill=\"#000000\" font-family=\"sans-serif\" font-size=\"12\" font-style=\"italic\" lengthAdjust=\"spacingAndGlyphs\" textLength=\"64\" x=\"67.5\" y=\"71.1387\">«part def»</text><text fill=\"#000000\" font-family=\"sans-serif\" font-size=\"12\" lengthAdjust=\"spacingAndGlyphs\" textLength=\"16\" x=\"91.5\" y=\"85.1074\">P1</text></a><!--MD5=[de5ec2e2e8f62f467e546659f5068c88]\n",
       "cluster E5--><a href=\"psysml:9ecf2706-3ec0-4307-8293-70ef42ab2608\" target=\"_top\" title=\"psysml:9ecf2706-3ec0-4307-8293-70ef42ab2608\" xlink:actuate=\"onRequest\" xlink:href=\"psysml:9ecf2706-3ec0-4307-8293-70ef42ab2608\" xlink:show=\"new\" xlink:title=\"psysml:9ecf2706-3ec0-4307-8293-70ef42ab2608\" xlink:type=\"simple\"><rect fill=\"#FFFFFF\" height=\"37\" id=\"E5\" rx=\"10\" ry=\"10\" style=\"stroke: #383838; stroke-width: 1.5;\" width=\"176.5\" x=\"93.5\" y=\"124\"/><rect fill=\"#F8F8F8\" height=\"23.9688\" rx=\"10\" ry=\"10\" style=\"stroke: #F8F8F8; stroke-width: 1.5;\" width=\"176.5\" x=\"93.5\" y=\"124\"/><rect fill=\"#F8F8F8\" height=\"10\" style=\"stroke: #F8F8F8; stroke-width: 1.5;\" width=\"176.5\" x=\"93.5\" y=\"137.9688\"/><rect fill=\"none\" height=\"37\" id=\"E5\" rx=\"10\" ry=\"10\" style=\"stroke: #383838; stroke-width: 1.5;\" width=\"176.5\" x=\"93.5\" y=\"124\"/><text fill=\"#000000\" font-family=\"sans-serif\" font-size=\"12\" lengthAdjust=\"spacingAndGlyphs\" textLength=\"40\" x=\"161.75\" y=\"140.1387\">p1: P1</text><line style=\"stroke: #383838; stroke-width: 1.0;\" x1=\"93.5\" x2=\"270\" y1=\"147.9688\" y2=\"147.9688\"/></a><!--MD5=[168fadf3d0c3fd93dd5d6da1b1d7ab76]\n",
       "cluster E7--><a href=\"psysml:28be41ac-7d51-495b-a80e-46db5ea96230\" target=\"_top\" title=\"psysml:28be41ac-7d51-495b-a80e-46db5ea96230\" xlink:actuate=\"onRequest\" xlink:href=\"psysml:28be41ac-7d51-495b-a80e-46db5ea96230\" xlink:show=\"new\" xlink:title=\"psysml:28be41ac-7d51-495b-a80e-46db5ea96230\" xlink:type=\"simple\"><rect fill=\"#FFFFFF\" height=\"47\" id=\"E7\" rx=\"10\" ry=\"10\" style=\"stroke: #383838; stroke-width: 1.5;\" width=\"133\" x=\"28\" y=\"198\"/><rect fill=\"#F8F8F8\" height=\"23.9688\" rx=\"10\" ry=\"10\" style=\"stroke: #F8F8F8; stroke-width: 1.5;\" width=\"133\" x=\"28\" y=\"198\"/><rect fill=\"#F8F8F8\" height=\"10\" style=\"stroke: #F8F8F8; stroke-width: 1.5;\" width=\"133\" x=\"28\" y=\"211.9688\"/><rect fill=\"none\" height=\"47\" id=\"E7\" rx=\"10\" ry=\"10\" style=\"stroke: #383838; stroke-width: 1.5;\" width=\"133\" x=\"28\" y=\"198\"/><text fill=\"#000000\" font-family=\"sans-serif\" font-size=\"12\" lengthAdjust=\"spacingAndGlyphs\" textLength=\"40\" x=\"74.5\" y=\"214.1387\">p2: P1</text><line style=\"stroke: #383838; stroke-width: 1.0;\" x1=\"28\" x2=\"161\" y1=\"221.9688\" y2=\"221.9688\"/></a><text fill=\"#000000\" font-family=\"sans-serif\" font-size=\"14\" lengthAdjust=\"spacingAndGlyphs\" textLength=\"44\" x=\"24\" y=\"120.9951\">porig1</text><rect fill=\"#383838\" height=\"12\" style=\"stroke: #F8F8F8; stroke-width: 1.5;\" width=\"12\" x=\"40\" y=\"96\"/><text fill=\"#000000\" font-family=\"sans-serif\" font-size=\"14\" lengthAdjust=\"spacingAndGlyphs\" textLength=\"44\" x=\"24\" y=\"33.6982\">porig1</text><rect fill=\"#383838\" height=\"12\" style=\"stroke: #F8F8F8; stroke-width: 1.5;\" width=\"12\" x=\"40\" y=\"49\"/><text fill=\"#000000\" font-family=\"sans-serif\" font-size=\"14\" lengthAdjust=\"spacingAndGlyphs\" textLength=\"27\" x=\"98\" y=\"179.9951\">po1</text><rect fill=\"#383838\" height=\"12\" style=\"stroke: #F8F8F8; stroke-width: 1.5;\" width=\"12\" x=\"105.5\" y=\"155\"/><text fill=\"#000000\" font-family=\"sans-serif\" font-size=\"14\" lengthAdjust=\"spacingAndGlyphs\" textLength=\"40\" x=\"26\" y=\"263.9951\">pdest</text><rect fill=\"#383838\" height=\"12\" style=\"stroke: #F8F8F8; stroke-width: 1.5;\" width=\"12\" x=\"40\" y=\"239\"/><text fill=\"#000000\" font-family=\"sans-serif\" font-size=\"14\" lengthAdjust=\"spacingAndGlyphs\" textLength=\"40\" x=\"26\" y=\"176.6982\">pdest</text><rect fill=\"#383838\" height=\"12\" style=\"stroke: #F8F8F8; stroke-width: 1.5;\" width=\"12\" x=\"40\" y=\"192\"/><!--MD5=[60ac2c0cde89d4308155b0484e57a8ec]\n",
       "link E9 to E6--><a href=\"psysml:32f11bb0-f29d-43a1-aa99-c5cb95a5777d\" target=\"_top\" title=\"psysml:32f11bb0-f29d-43a1-aa99-c5cb95a5777d\" xlink:actuate=\"onRequest\" xlink:href=\"psysml:32f11bb0-f29d-43a1-aa99-c5cb95a5777d\" xlink:show=\"new\" xlink:title=\"psysml:32f11bb0-f29d-43a1-aa99-c5cb95a5777d\" xlink:type=\"simple\"><path d=\"M47.45,204.28 C49.04,212.72 54.53,206.76 60,203 C78.05,190.58 103.18,180.75 109.18,167.1 \" fill=\"none\" id=\"E9-E6\" style=\"stroke: #383838; stroke-width: 3.0;\"/></a><!--MD5=[60ac2c0cde89d4308155b0484e57a8ec]\n",
       "link E9 to E6--><a href=\"psysml:e24ce1f4-3e8e-4ff6-8278-f74c062e3ad6\" target=\"_top\" title=\"psysml:e24ce1f4-3e8e-4ff6-8278-f74c062e3ad6\" xlink:actuate=\"onRequest\" xlink:href=\"psysml:e24ce1f4-3e8e-4ff6-8278-f74c062e3ad6\" xlink:show=\"new\" xlink:title=\"psysml:e24ce1f4-3e8e-4ff6-8278-f74c062e3ad6\" xlink:type=\"simple\"><path d=\"M47.29,191.73 C48.63,178.16 54.33,171.9 60,168 C77.41,156.02 101.39,146.46 108.46,154.58 \" fill=\"none\" id=\"E9-E6-1\" style=\"stroke: #383838; stroke-width: 3.0;\"/></a><!--MD5=[e9e7104c9569cff1bc1d54a4f59c302b]\n",
       "@startuml\r\n",
       "skinparam ranksep 8\r\n",
       "skinparam rectangle {\r\n",
       " backgroundColor<<block>> LightGreen\r\n",
       "}\r\n",
       "left to right direction\r\n",
       "skinparam monochrome true\r\n",
       "skinparam classbackgroundcolor white\r\n",
       "skinparam shadowing false\r\n",
       "skinparam wrapWidth 300\r\n",
       "hide circle\r\n",
       "\r\n",
       "package \"AliasTest\" as E1  [[psysml:d6640503-c03f-477e-b125-432046bb93b4 ]]  {\r\n",
       "rec def \"P1\" as E2  <<(T,blue)part def>> [[psysml:4a06ff05-02b9-4148-90d6-f5221b7c40f0 ]] {\r\n",
       "portin \"porig1\" as E3  <<(T,blue)port>> [[psysml:2b77977e-0e87-40fa-bfcc-86d3bbd61ac4 ]] \r\n",
       "portin \"porig1\" as E4  <<(T,blue)port>> [[psysml:2b77977e-0e87-40fa-bfcc-86d3bbd61ac4 ]] \r\n",
       "}\r\n",
       "rec usage \"p1: P1\" as E5  [[psysml:9ecf2706-3ec0-4307-8293-70ef42ab2608 ]] {\r\n",
       "portin \"po1\" as E6  <<(T,blue)port>> [[psysml:040fe1ca-6ed4-4b89-a2be-3a2910b81d71 ]] \r\n",
       "}\r\n",
       "rec usage \"p2: P1\" as E7  [[psysml:28be41ac-7d51-495b-a80e-46db5ea96230 ]] {\r\n",
       "portin \"pdest\" as E8  <<(T,blue)port>> [[psysml:35e7e96c-66ea-4900-a048-bf88e7083b58 ]] \r\n",
       "portin \"pdest\" as E9  <<(T,blue)port>> [[psysml:35e7e96c-66ea-4900-a048-bf88e7083b58 ]] \r\n",
       "}\r\n",
       "E9 -[thickness=3]- E6 [[psysml:32f11bb0-f29d-43a1-aa99-c5cb95a5777d ]] \r\n",
       "E9 -[thickness=3]- E6 [[psysml:e24ce1f4-3e8e-4ff6-8278-f74c062e3ad6 ]] \r\n",
       "}\r\n",
       "@enduml\r\n",
       "\n",
       "PlantUML version 1.2020.13(Sat Jun 13 12:26:38 UTC 2020)\n",
       "(EPL source distribution)\n",
       "Java Runtime: OpenJDK Runtime Environment\n",
       "JVM: OpenJDK 64-Bit Server VM\n",
       "Default Encoding: UTF-8\n",
       "Language: en\n",
       "Country: null\n",
       "--></g></svg>"
      ]
     },
     "execution_count": 19,
     "metadata": {},
     "output_type": "execute_result"
    }
   ],
   "source": [
    "%viz --style=\"LR\" --view=\"Interconnection\" \"AliasTest\""
   ]
  },
  {
   "cell_type": "code",
   "execution_count": 20,
   "id": "homeless-procedure",
   "metadata": {
    "execution": {
     "iopub.execute_input": "2021-03-25T13:15:18.759199Z",
     "iopub.status.busy": "2021-03-25T13:15:18.758673Z",
     "iopub.status.idle": "2021-03-25T13:15:18.770382Z",
     "shell.execute_reply": "2021-03-25T13:15:18.770832Z"
    }
   },
   "outputs": [
    {
     "data": {
      "image/svg+xml": [
       "<?xml version=\"1.0\" encoding=\"UTF-8\" standalone=\"no\"?><svg xmlns=\"http://www.w3.org/2000/svg\" xmlns:xlink=\"http://www.w3.org/1999/xlink\" contentScriptType=\"application/ecmascript\" contentStyleType=\"text/css\" height=\"12px\" preserveAspectRatio=\"none\" style=\"width:12px;height:12px;\" version=\"1.1\" viewBox=\"0 0 12 12\" width=\"12px\" zoomAndPan=\"magnify\"><defs/><g><!--MD5=[7aeb398939421629f6affaa4a1a7b125]\n",
       "@startuml\r\n",
       "skinparam ranksep 8\r\n",
       "left to right direction\r\n",
       "skinparam monochrome true\r\n",
       "skinparam classbackgroundcolor white\r\n",
       "skinparam shadowing false\r\n",
       "skinparam wrapWidth 300\r\n",
       "hide circle\r\n",
       "\r\n",
       "@enduml\r\n",
       "\n",
       "PlantUML version 1.2020.13(Sat Jun 13 12:26:38 UTC 2020)\n",
       "(EPL source distribution)\n",
       "Java Runtime: OpenJDK Runtime Environment\n",
       "JVM: OpenJDK 64-Bit Server VM\n",
       "Default Encoding: UTF-8\n",
       "Language: en\n",
       "Country: null\n",
       "--></g></svg>"
      ]
     },
     "execution_count": 20,
     "metadata": {},
     "output_type": "execute_result"
    }
   ],
   "source": [
    "%viz --style=\"LR\" --view=\"Action\" \"AliasTest\""
   ]
  },
  {
   "cell_type": "code",
   "execution_count": 21,
   "id": "stretch-action",
   "metadata": {
    "execution": {
     "iopub.execute_input": "2021-03-25T13:15:18.822421Z",
     "iopub.status.busy": "2021-03-25T13:15:18.821974Z",
     "iopub.status.idle": "2021-03-25T13:15:19.583857Z",
     "shell.execute_reply": "2021-03-25T13:15:19.581020Z"
    }
   },
   "outputs": [
    {
     "data": {
      "image/svg+xml": [
       "<?xml version=\"1.0\" encoding=\"UTF-8\" standalone=\"no\"?><svg xmlns=\"http://www.w3.org/2000/svg\" xmlns:xlink=\"http://www.w3.org/1999/xlink\" contentScriptType=\"application/ecmascript\" contentStyleType=\"text/css\" height=\"268px\" preserveAspectRatio=\"none\" style=\"width:314px;height:268px;\" version=\"1.1\" viewBox=\"0 0 314 268\" width=\"314px\" zoomAndPan=\"magnify\"><defs/><g><!--MD5=[fbc87193dbaf4d95561dea2c320d4a47]\n",
       "cluster E1--><a href=\"psysml:d6640503-c03f-477e-b125-432046bb93b4\" target=\"_top\" title=\"psysml:d6640503-c03f-477e-b125-432046bb93b4\" xlink:actuate=\"onRequest\" xlink:href=\"psysml:d6640503-c03f-477e-b125-432046bb93b4\" xlink:show=\"new\" xlink:title=\"psysml:d6640503-c03f-477e-b125-432046bb93b4\" xlink:type=\"simple\"><polygon fill=\"#FFFFFF\" points=\"16,6,94,6,101,28.2969,292,28.2969,292,256,16,256,16,6\" style=\"stroke: #000000; stroke-width: 1.5;\"/><line style=\"stroke: #000000; stroke-width: 1.5;\" x1=\"16\" x2=\"101\" y1=\"28.2969\" y2=\"28.2969\"/><text fill=\"#000000\" font-family=\"sans-serif\" font-size=\"14\" font-weight=\"bold\" lengthAdjust=\"spacingAndGlyphs\" textLength=\"72\" x=\"20\" y=\"20.9951\">AliasTest</text></a><!--MD5=[b4997ac47864f28c2f74865a473b2911]\n",
       "class E2--><a href=\"psysml:4a06ff05-02b9-4148-90d6-f5221b7c40f0\" target=\"_top\" title=\"psysml:4a06ff05-02b9-4148-90d6-f5221b7c40f0\" xlink:actuate=\"onRequest\" xlink:href=\"psysml:4a06ff05-02b9-4148-90d6-f5221b7c40f0\" xlink:show=\"new\" xlink:title=\"psysml:4a06ff05-02b9-4148-90d6-f5221b7c40f0\" xlink:type=\"simple\"><rect fill=\"#FFFFFF\" height=\"75.5469\" id=\"E2\" style=\"stroke: #383838; stroke-width: 1.5;\" width=\"92\" x=\"184\" y=\"106\"/><text fill=\"#000000\" font-family=\"sans-serif\" font-size=\"12\" font-style=\"italic\" lengthAdjust=\"spacingAndGlyphs\" textLength=\"64\" x=\"198\" y=\"122.1387\">«part def»</text><text fill=\"#000000\" font-family=\"sans-serif\" font-size=\"12\" lengthAdjust=\"spacingAndGlyphs\" textLength=\"16\" x=\"222\" y=\"136.1074\">P1</text><line style=\"stroke: #383838; stroke-width: 1.5;\" x1=\"185\" x2=\"275\" y1=\"143.9375\" y2=\"143.9375\"/><text fill=\"#000000\" font-family=\"sans-serif\" font-size=\"11\" lengthAdjust=\"spacingAndGlyphs\" textLength=\"36\" x=\"190\" y=\"174.9526\">porig1</text><text fill=\"#000000\" font-family=\"sans-serif\" font-size=\"11\" font-weight=\"bold\" lengthAdjust=\"spacingAndGlyphs\" textLength=\"15\" x=\"230\" y=\"174.9526\">as</text><text fill=\"#000000\" font-family=\"sans-serif\" font-size=\"11\" lengthAdjust=\"spacingAndGlyphs\" textLength=\"21\" x=\"249\" y=\"174.9526\">po1</text><line style=\"stroke: #383838; stroke-width: 1.0;\" x1=\"185\" x2=\"215\" y1=\"158.3398\" y2=\"158.3398\"/><text fill=\"#000000\" font-family=\"sans-serif\" font-size=\"11\" lengthAdjust=\"spacingAndGlyphs\" textLength=\"30\" x=\"215\" y=\"161.6479\">ports</text><line style=\"stroke: #383838; stroke-width: 1.0;\" x1=\"245\" x2=\"275\" y1=\"158.3398\" y2=\"158.3398\"/></a><!--MD5=[ebbe1d658d1005bcc118a6aa81145e00]\n",
       "class E4--><a href=\"psysml:9ecf2706-3ec0-4307-8293-70ef42ab2608\" target=\"_top\" title=\"psysml:9ecf2706-3ec0-4307-8293-70ef42ab2608\" xlink:actuate=\"onRequest\" xlink:href=\"psysml:9ecf2706-3ec0-4307-8293-70ef42ab2608\" xlink:show=\"new\" xlink:title=\"psysml:9ecf2706-3ec0-4307-8293-70ef42ab2608\" xlink:type=\"simple\"><rect fill=\"#FFFFFF\" height=\"88.3516\" id=\"E4\" rx=\"10\" ry=\"10\" style=\"stroke: #383838; stroke-width: 1.5;\" width=\"92\" x=\"32\" y=\"41\"/><text fill=\"#000000\" font-family=\"sans-serif\" font-size=\"12\" font-style=\"italic\" lengthAdjust=\"spacingAndGlyphs\" textLength=\"40\" x=\"58\" y=\"57.1387\">«part»</text><text fill=\"#000000\" font-family=\"sans-serif\" font-size=\"12\" lengthAdjust=\"spacingAndGlyphs\" textLength=\"40\" x=\"58\" y=\"71.1074\">p1: P1</text><line style=\"stroke: #383838; stroke-width: 1.5;\" x1=\"33\" x2=\"123\" y1=\"78.9375\" y2=\"78.9375\"/><text fill=\"#000000\" font-family=\"sans-serif\" font-size=\"11\" lengthAdjust=\"spacingAndGlyphs\" textLength=\"21\" x=\"38\" y=\"109.9526\">po1</text><text fill=\"#000000\" font-family=\"sans-serif\" font-size=\"11\" font-style=\"italic\" lengthAdjust=\"spacingAndGlyphs\" textLength=\"80\" x=\"38\" y=\"122.7573\">:&gt;&gt;P1::porig1</text><line style=\"stroke: #383838; stroke-width: 1.0;\" x1=\"33\" x2=\"63\" y1=\"93.3398\" y2=\"93.3398\"/><text fill=\"#000000\" font-family=\"sans-serif\" font-size=\"11\" lengthAdjust=\"spacingAndGlyphs\" textLength=\"30\" x=\"63\" y=\"96.6479\">ports</text><line style=\"stroke: #383838; stroke-width: 1.0;\" x1=\"93\" x2=\"123\" y1=\"93.3398\" y2=\"93.3398\"/></a><!--MD5=[60a26617385b1d2d0262a64233df1f8d]\n",
       "class E6--><a href=\"psysml:28be41ac-7d51-495b-a80e-46db5ea96230\" target=\"_top\" title=\"psysml:28be41ac-7d51-495b-a80e-46db5ea96230\" xlink:actuate=\"onRequest\" xlink:href=\"psysml:28be41ac-7d51-495b-a80e-46db5ea96230\" xlink:show=\"new\" xlink:title=\"psysml:28be41ac-7d51-495b-a80e-46db5ea96230\" xlink:type=\"simple\"><rect fill=\"#FFFFFF\" height=\"75.5469\" id=\"E6\" rx=\"10\" ry=\"10\" style=\"stroke: #383838; stroke-width: 1.5;\" width=\"88\" x=\"34\" y=\"164\"/><text fill=\"#000000\" font-family=\"sans-serif\" font-size=\"12\" font-style=\"italic\" lengthAdjust=\"spacingAndGlyphs\" textLength=\"40\" x=\"58\" y=\"180.1387\">«part»</text><text fill=\"#000000\" font-family=\"sans-serif\" font-size=\"12\" lengthAdjust=\"spacingAndGlyphs\" textLength=\"40\" x=\"58\" y=\"194.1074\">p2: P1</text><line style=\"stroke: #383838; stroke-width: 1.5;\" x1=\"35\" x2=\"121\" y1=\"201.9375\" y2=\"201.9375\"/><text fill=\"#000000\" font-family=\"sans-serif\" font-size=\"11\" lengthAdjust=\"spacingAndGlyphs\" textLength=\"32\" x=\"40\" y=\"232.9526\">pdest</text><text fill=\"#000000\" font-family=\"sans-serif\" font-size=\"11\" font-weight=\"bold\" lengthAdjust=\"spacingAndGlyphs\" textLength=\"15\" x=\"76\" y=\"232.9526\">as</text><text fill=\"#000000\" font-family=\"sans-serif\" font-size=\"11\" lengthAdjust=\"spacingAndGlyphs\" textLength=\"21\" x=\"95\" y=\"232.9526\">pd1</text><line style=\"stroke: #383838; stroke-width: 1.0;\" x1=\"35\" x2=\"63\" y1=\"216.3398\" y2=\"216.3398\"/><text fill=\"#000000\" font-family=\"sans-serif\" font-size=\"11\" lengthAdjust=\"spacingAndGlyphs\" textLength=\"30\" x=\"63\" y=\"219.6479\">ports</text><line style=\"stroke: #383838; stroke-width: 1.0;\" x1=\"93\" x2=\"121\" y1=\"216.3398\" y2=\"216.3398\"/></a><!--MD5=[185131fc0dcab0a4505a2ebe144e961b]\n",
       "link E4 to E2--><a href=\"psysml:8ce18664-e29b-46f0-97c0-4b398d523e7c\" target=\"_top\" title=\"psysml:8ce18664-e29b-46f0-97c0-4b398d523e7c\" xlink:actuate=\"onRequest\" xlink:href=\"psysml:8ce18664-e29b-46f0-97c0-4b398d523e7c\" xlink:show=\"new\" xlink:title=\"psysml:8ce18664-e29b-46f0-97c0-4b398d523e7c\" xlink:type=\"simple\"><path d=\"M124,102.7 C136.85,107.75 151.1,113.36 164.85,118.77 \" fill=\"none\" id=\"E4-&gt;E2\" style=\"stroke: #383838; stroke-width: 1.0;\"/><polygon fill=\"#FFFFFF\" points=\"183.77,126.21,163.5265,125.763,168.6552,112.7362,183.77,126.21\" style=\"stroke: #383838; stroke-width: 1.0;\"/><ellipse cx=\"158.9554\" cy=\"121.8139\" fill=\"#383838\" rx=\"2\" ry=\"2\" style=\"stroke: #383838; stroke-width: 1.0;\"/><ellipse cx=\"162.6188\" cy=\"112.5091\" fill=\"#383838\" rx=\"2\" ry=\"2\" style=\"stroke: #383838; stroke-width: 1.0;\"/></a><!--MD5=[2351f337d6de0f557b50152ba70847b5]\n",
       "link E6 to E2--><a href=\"psysml:aea9633f-bca5-4d9c-866d-d7db5d7aa3e2\" target=\"_top\" title=\"psysml:aea9633f-bca5-4d9c-866d-d7db5d7aa3e2\" xlink:actuate=\"onRequest\" xlink:href=\"psysml:aea9633f-bca5-4d9c-866d-d7db5d7aa3e2\" xlink:show=\"new\" xlink:title=\"psysml:aea9633f-bca5-4d9c-866d-d7db5d7aa3e2\" xlink:type=\"simple\"><path d=\"M122.39,185.22 C135.65,180.09 150.53,174.34 164.87,168.8 \" fill=\"none\" id=\"E6-&gt;E2\" style=\"stroke: #383838; stroke-width: 1.0;\"/><polygon fill=\"#FFFFFF\" points=\"183.89,161.44,168.6933,174.8213,163.6441,161.7635,183.89,161.44\" style=\"stroke: #383838; stroke-width: 1.0;\"/><ellipse cx=\"162.6556\" cy=\"175.0116\" fill=\"#383838\" rx=\"2\" ry=\"2\" style=\"stroke: #383838; stroke-width: 1.0;\"/><ellipse cx=\"159.049\" cy=\"165.6846\" fill=\"#383838\" rx=\"2\" ry=\"2\" style=\"stroke: #383838; stroke-width: 1.0;\"/></a><!--MD5=[f294e749d8d89c59eb03b745720f98e0]\n",
       "@startuml\r\n",
       "left to right direction\r\n",
       "skinparam monochrome true\r\n",
       "skinparam classbackgroundcolor white\r\n",
       "skinparam shadowing false\r\n",
       "skinparam wrapWidth 300\r\n",
       "hide circle\r\n",
       "\r\n",
       "package \"AliasTest\" as E1  [[psysml:d6640503-c03f-477e-b125-432046bb93b4 ]]  {\r\n",
       "comp def \"P1\" as E2  <<(T,blue)part def>> [[psysml:4a06ff05-02b9-4148-90d6-f5221b7c40f0 ]] {\r\n",
       "- - ports - -\r\n",
       "porig1 <b>as</b> po1 \r\n",
       "}\r\n",
       "comp usage \"p1: P1\" as E4  <<(T,blue)part>> [[psysml:9ecf2706-3ec0-4307-8293-70ef42ab2608 ]] {\r\n",
       "- - ports - -\r\n",
       "po1\\n//:>>P1::porig1// \r\n",
       "}\r\n",
       "comp usage \"p2: P1\" as E6  <<(T,blue)part>> [[psysml:28be41ac-7d51-495b-a80e-46db5ea96230 ]] {\r\n",
       "- - ports - -\r\n",
       "pdest <b>as</b> pd1 \r\n",
       "}\r\n",
       "E4 - -:|> E2 [[psysml:8ce18664-e29b-46f0-97c0-4b398d523e7c ]] \r\n",
       "E6 - -:|> E2 [[psysml:aea9633f-bca5-4d9c-866d-d7db5d7aa3e2 ]] \r\n",
       "}\r\n",
       "@enduml\r\n",
       "\n",
       "PlantUML version 1.2020.13(Sat Jun 13 12:26:38 UTC 2020)\n",
       "(EPL source distribution)\n",
       "Java Runtime: OpenJDK Runtime Environment\n",
       "JVM: OpenJDK 64-Bit Server VM\n",
       "Default Encoding: UTF-8\n",
       "Language: en\n",
       "Country: null\n",
       "--></g></svg>"
      ]
     },
     "execution_count": 21,
     "metadata": {},
     "output_type": "execute_result"
    }
   ],
   "source": [
    "%viz --style=\"LR\" --view=\"Sequence\" \"AliasTest\""
   ]
  },
  {
   "cell_type": "code",
   "execution_count": 22,
   "id": "impressed-hampshire",
   "metadata": {
    "execution": {
     "iopub.execute_input": "2021-03-25T13:15:19.633463Z",
     "iopub.status.busy": "2021-03-25T13:15:19.632462Z",
     "iopub.status.idle": "2021-03-25T13:15:20.403368Z",
     "shell.execute_reply": "2021-03-25T13:15:20.401749Z"
    }
   },
   "outputs": [
    {
     "data": {
      "image/svg+xml": [
       "<?xml version=\"1.0\" encoding=\"UTF-8\" standalone=\"no\"?><svg xmlns=\"http://www.w3.org/2000/svg\" xmlns:xlink=\"http://www.w3.org/1999/xlink\" contentScriptType=\"application/ecmascript\" contentStyleType=\"text/css\" height=\"268px\" preserveAspectRatio=\"none\" style=\"width:314px;height:268px;\" version=\"1.1\" viewBox=\"0 0 314 268\" width=\"314px\" zoomAndPan=\"magnify\"><defs/><g><!--MD5=[fbc87193dbaf4d95561dea2c320d4a47]\n",
       "cluster E1--><a href=\"psysml:d6640503-c03f-477e-b125-432046bb93b4\" target=\"_top\" title=\"psysml:d6640503-c03f-477e-b125-432046bb93b4\" xlink:actuate=\"onRequest\" xlink:href=\"psysml:d6640503-c03f-477e-b125-432046bb93b4\" xlink:show=\"new\" xlink:title=\"psysml:d6640503-c03f-477e-b125-432046bb93b4\" xlink:type=\"simple\"><polygon fill=\"#FFFFFF\" points=\"16,6,94,6,101,28.2969,292,28.2969,292,256,16,256,16,6\" style=\"stroke: #000000; stroke-width: 1.5;\"/><line style=\"stroke: #000000; stroke-width: 1.5;\" x1=\"16\" x2=\"101\" y1=\"28.2969\" y2=\"28.2969\"/><text fill=\"#000000\" font-family=\"sans-serif\" font-size=\"14\" font-weight=\"bold\" lengthAdjust=\"spacingAndGlyphs\" textLength=\"72\" x=\"20\" y=\"20.9951\">AliasTest</text></a><!--MD5=[b4997ac47864f28c2f74865a473b2911]\n",
       "class E2--><a href=\"psysml:4a06ff05-02b9-4148-90d6-f5221b7c40f0\" target=\"_top\" title=\"psysml:4a06ff05-02b9-4148-90d6-f5221b7c40f0\" xlink:actuate=\"onRequest\" xlink:href=\"psysml:4a06ff05-02b9-4148-90d6-f5221b7c40f0\" xlink:show=\"new\" xlink:title=\"psysml:4a06ff05-02b9-4148-90d6-f5221b7c40f0\" xlink:type=\"simple\"><rect fill=\"#FFFFFF\" height=\"75.5469\" id=\"E2\" style=\"stroke: #383838; stroke-width: 1.5;\" width=\"92\" x=\"184\" y=\"106\"/><text fill=\"#000000\" font-family=\"sans-serif\" font-size=\"12\" font-style=\"italic\" lengthAdjust=\"spacingAndGlyphs\" textLength=\"64\" x=\"198\" y=\"122.1387\">«part def»</text><text fill=\"#000000\" font-family=\"sans-serif\" font-size=\"12\" lengthAdjust=\"spacingAndGlyphs\" textLength=\"16\" x=\"222\" y=\"136.1074\">P1</text><line style=\"stroke: #383838; stroke-width: 1.5;\" x1=\"185\" x2=\"275\" y1=\"143.9375\" y2=\"143.9375\"/><text fill=\"#000000\" font-family=\"sans-serif\" font-size=\"11\" lengthAdjust=\"spacingAndGlyphs\" textLength=\"36\" x=\"190\" y=\"174.9526\">porig1</text><text fill=\"#000000\" font-family=\"sans-serif\" font-size=\"11\" font-weight=\"bold\" lengthAdjust=\"spacingAndGlyphs\" textLength=\"15\" x=\"230\" y=\"174.9526\">as</text><text fill=\"#000000\" font-family=\"sans-serif\" font-size=\"11\" lengthAdjust=\"spacingAndGlyphs\" textLength=\"21\" x=\"249\" y=\"174.9526\">po1</text><line style=\"stroke: #383838; stroke-width: 1.0;\" x1=\"185\" x2=\"215\" y1=\"158.3398\" y2=\"158.3398\"/><text fill=\"#000000\" font-family=\"sans-serif\" font-size=\"11\" lengthAdjust=\"spacingAndGlyphs\" textLength=\"30\" x=\"215\" y=\"161.6479\">ports</text><line style=\"stroke: #383838; stroke-width: 1.0;\" x1=\"245\" x2=\"275\" y1=\"158.3398\" y2=\"158.3398\"/></a><!--MD5=[ebbe1d658d1005bcc118a6aa81145e00]\n",
       "class E4--><a href=\"psysml:9ecf2706-3ec0-4307-8293-70ef42ab2608\" target=\"_top\" title=\"psysml:9ecf2706-3ec0-4307-8293-70ef42ab2608\" xlink:actuate=\"onRequest\" xlink:href=\"psysml:9ecf2706-3ec0-4307-8293-70ef42ab2608\" xlink:show=\"new\" xlink:title=\"psysml:9ecf2706-3ec0-4307-8293-70ef42ab2608\" xlink:type=\"simple\"><rect fill=\"#FFFFFF\" height=\"88.3516\" id=\"E4\" rx=\"10\" ry=\"10\" style=\"stroke: #383838; stroke-width: 1.5;\" width=\"92\" x=\"32\" y=\"41\"/><text fill=\"#000000\" font-family=\"sans-serif\" font-size=\"12\" font-style=\"italic\" lengthAdjust=\"spacingAndGlyphs\" textLength=\"40\" x=\"58\" y=\"57.1387\">«part»</text><text fill=\"#000000\" font-family=\"sans-serif\" font-size=\"12\" lengthAdjust=\"spacingAndGlyphs\" textLength=\"40\" x=\"58\" y=\"71.1074\">p1: P1</text><line style=\"stroke: #383838; stroke-width: 1.5;\" x1=\"33\" x2=\"123\" y1=\"78.9375\" y2=\"78.9375\"/><text fill=\"#000000\" font-family=\"sans-serif\" font-size=\"11\" lengthAdjust=\"spacingAndGlyphs\" textLength=\"21\" x=\"38\" y=\"109.9526\">po1</text><text fill=\"#000000\" font-family=\"sans-serif\" font-size=\"11\" font-style=\"italic\" lengthAdjust=\"spacingAndGlyphs\" textLength=\"80\" x=\"38\" y=\"122.7573\">:&gt;&gt;P1::porig1</text><line style=\"stroke: #383838; stroke-width: 1.0;\" x1=\"33\" x2=\"63\" y1=\"93.3398\" y2=\"93.3398\"/><text fill=\"#000000\" font-family=\"sans-serif\" font-size=\"11\" lengthAdjust=\"spacingAndGlyphs\" textLength=\"30\" x=\"63\" y=\"96.6479\">ports</text><line style=\"stroke: #383838; stroke-width: 1.0;\" x1=\"93\" x2=\"123\" y1=\"93.3398\" y2=\"93.3398\"/></a><!--MD5=[60a26617385b1d2d0262a64233df1f8d]\n",
       "class E6--><a href=\"psysml:28be41ac-7d51-495b-a80e-46db5ea96230\" target=\"_top\" title=\"psysml:28be41ac-7d51-495b-a80e-46db5ea96230\" xlink:actuate=\"onRequest\" xlink:href=\"psysml:28be41ac-7d51-495b-a80e-46db5ea96230\" xlink:show=\"new\" xlink:title=\"psysml:28be41ac-7d51-495b-a80e-46db5ea96230\" xlink:type=\"simple\"><rect fill=\"#FFFFFF\" height=\"75.5469\" id=\"E6\" rx=\"10\" ry=\"10\" style=\"stroke: #383838; stroke-width: 1.5;\" width=\"88\" x=\"34\" y=\"164\"/><text fill=\"#000000\" font-family=\"sans-serif\" font-size=\"12\" font-style=\"italic\" lengthAdjust=\"spacingAndGlyphs\" textLength=\"40\" x=\"58\" y=\"180.1387\">«part»</text><text fill=\"#000000\" font-family=\"sans-serif\" font-size=\"12\" lengthAdjust=\"spacingAndGlyphs\" textLength=\"40\" x=\"58\" y=\"194.1074\">p2: P1</text><line style=\"stroke: #383838; stroke-width: 1.5;\" x1=\"35\" x2=\"121\" y1=\"201.9375\" y2=\"201.9375\"/><text fill=\"#000000\" font-family=\"sans-serif\" font-size=\"11\" lengthAdjust=\"spacingAndGlyphs\" textLength=\"32\" x=\"40\" y=\"232.9526\">pdest</text><text fill=\"#000000\" font-family=\"sans-serif\" font-size=\"11\" font-weight=\"bold\" lengthAdjust=\"spacingAndGlyphs\" textLength=\"15\" x=\"76\" y=\"232.9526\">as</text><text fill=\"#000000\" font-family=\"sans-serif\" font-size=\"11\" lengthAdjust=\"spacingAndGlyphs\" textLength=\"21\" x=\"95\" y=\"232.9526\">pd1</text><line style=\"stroke: #383838; stroke-width: 1.0;\" x1=\"35\" x2=\"63\" y1=\"216.3398\" y2=\"216.3398\"/><text fill=\"#000000\" font-family=\"sans-serif\" font-size=\"11\" lengthAdjust=\"spacingAndGlyphs\" textLength=\"30\" x=\"63\" y=\"219.6479\">ports</text><line style=\"stroke: #383838; stroke-width: 1.0;\" x1=\"93\" x2=\"121\" y1=\"216.3398\" y2=\"216.3398\"/></a><!--MD5=[185131fc0dcab0a4505a2ebe144e961b]\n",
       "link E4 to E2--><a href=\"psysml:8ce18664-e29b-46f0-97c0-4b398d523e7c\" target=\"_top\" title=\"psysml:8ce18664-e29b-46f0-97c0-4b398d523e7c\" xlink:actuate=\"onRequest\" xlink:href=\"psysml:8ce18664-e29b-46f0-97c0-4b398d523e7c\" xlink:show=\"new\" xlink:title=\"psysml:8ce18664-e29b-46f0-97c0-4b398d523e7c\" xlink:type=\"simple\"><path d=\"M124,102.7 C136.85,107.75 151.1,113.36 164.85,118.77 \" fill=\"none\" id=\"E4-&gt;E2\" style=\"stroke: #383838; stroke-width: 1.0;\"/><polygon fill=\"#FFFFFF\" points=\"183.77,126.21,163.5265,125.763,168.6552,112.7362,183.77,126.21\" style=\"stroke: #383838; stroke-width: 1.0;\"/><ellipse cx=\"158.9554\" cy=\"121.8139\" fill=\"#383838\" rx=\"2\" ry=\"2\" style=\"stroke: #383838; stroke-width: 1.0;\"/><ellipse cx=\"162.6188\" cy=\"112.5091\" fill=\"#383838\" rx=\"2\" ry=\"2\" style=\"stroke: #383838; stroke-width: 1.0;\"/></a><!--MD5=[2351f337d6de0f557b50152ba70847b5]\n",
       "link E6 to E2--><a href=\"psysml:aea9633f-bca5-4d9c-866d-d7db5d7aa3e2\" target=\"_top\" title=\"psysml:aea9633f-bca5-4d9c-866d-d7db5d7aa3e2\" xlink:actuate=\"onRequest\" xlink:href=\"psysml:aea9633f-bca5-4d9c-866d-d7db5d7aa3e2\" xlink:show=\"new\" xlink:title=\"psysml:aea9633f-bca5-4d9c-866d-d7db5d7aa3e2\" xlink:type=\"simple\"><path d=\"M122.39,185.22 C135.65,180.09 150.53,174.34 164.87,168.8 \" fill=\"none\" id=\"E6-&gt;E2\" style=\"stroke: #383838; stroke-width: 1.0;\"/><polygon fill=\"#FFFFFF\" points=\"183.89,161.44,168.6933,174.8213,163.6441,161.7635,183.89,161.44\" style=\"stroke: #383838; stroke-width: 1.0;\"/><ellipse cx=\"162.6556\" cy=\"175.0116\" fill=\"#383838\" rx=\"2\" ry=\"2\" style=\"stroke: #383838; stroke-width: 1.0;\"/><ellipse cx=\"159.049\" cy=\"165.6846\" fill=\"#383838\" rx=\"2\" ry=\"2\" style=\"stroke: #383838; stroke-width: 1.0;\"/></a><!--MD5=[f294e749d8d89c59eb03b745720f98e0]\n",
       "@startuml\r\n",
       "left to right direction\r\n",
       "skinparam monochrome true\r\n",
       "skinparam classbackgroundcolor white\r\n",
       "skinparam shadowing false\r\n",
       "skinparam wrapWidth 300\r\n",
       "hide circle\r\n",
       "\r\n",
       "package \"AliasTest\" as E1  [[psysml:d6640503-c03f-477e-b125-432046bb93b4 ]]  {\r\n",
       "comp def \"P1\" as E2  <<(T,blue)part def>> [[psysml:4a06ff05-02b9-4148-90d6-f5221b7c40f0 ]] {\r\n",
       "- - ports - -\r\n",
       "porig1 <b>as</b> po1 \r\n",
       "}\r\n",
       "comp usage \"p1: P1\" as E4  <<(T,blue)part>> [[psysml:9ecf2706-3ec0-4307-8293-70ef42ab2608 ]] {\r\n",
       "- - ports - -\r\n",
       "po1\\n//:>>P1::porig1// \r\n",
       "}\r\n",
       "comp usage \"p2: P1\" as E6  <<(T,blue)part>> [[psysml:28be41ac-7d51-495b-a80e-46db5ea96230 ]] {\r\n",
       "- - ports - -\r\n",
       "pdest <b>as</b> pd1 \r\n",
       "}\r\n",
       "E4 - -:|> E2 [[psysml:8ce18664-e29b-46f0-97c0-4b398d523e7c ]] \r\n",
       "E6 - -:|> E2 [[psysml:aea9633f-bca5-4d9c-866d-d7db5d7aa3e2 ]] \r\n",
       "}\r\n",
       "@enduml\r\n",
       "\n",
       "PlantUML version 1.2020.13(Sat Jun 13 12:26:38 UTC 2020)\n",
       "(EPL source distribution)\n",
       "Java Runtime: OpenJDK Runtime Environment\n",
       "JVM: OpenJDK 64-Bit Server VM\n",
       "Default Encoding: UTF-8\n",
       "Language: en\n",
       "Country: null\n",
       "--></g></svg>"
      ]
     },
     "execution_count": 22,
     "metadata": {},
     "output_type": "execute_result"
    }
   ],
   "source": [
    "%viz --style=\"LR\" --view=\"MIXED\" \"AliasTest\""
   ]
  },
  {
   "cell_type": "code",
   "execution_count": 23,
   "id": "legal-czech",
   "metadata": {
    "execution": {
     "iopub.execute_input": "2021-03-25T13:15:20.450438Z",
     "iopub.status.busy": "2021-03-25T13:15:20.449868Z",
     "iopub.status.idle": "2021-03-25T13:15:21.159268Z",
     "shell.execute_reply": "2021-03-25T13:15:21.157556Z"
    }
   },
   "outputs": [
    {
     "data": {
      "image/svg+xml": [
       "<?xml version=\"1.0\" encoding=\"UTF-8\" standalone=\"no\"?><svg xmlns=\"http://www.w3.org/2000/svg\" xmlns:xlink=\"http://www.w3.org/1999/xlink\" contentScriptType=\"application/ecmascript\" contentStyleType=\"text/css\" height=\"281px\" preserveAspectRatio=\"none\" style=\"width:305px;height:281px;\" version=\"1.1\" viewBox=\"0 0 305 281\" width=\"305px\" zoomAndPan=\"magnify\"><defs><filter height=\"300%\" id=\"f1q2k1n03ug5gj\" width=\"300%\" x=\"-1\" y=\"-1\"><feGaussianBlur result=\"blurOut\" stdDeviation=\"2.0\"/><feColorMatrix in=\"blurOut\" result=\"blurOut2\" type=\"matrix\" values=\"0 0 0 0 0 0 0 0 0 0 0 0 0 0 0 0 0 0 .4 0\"/><feOffset dx=\"4.0\" dy=\"4.0\" in=\"blurOut2\" result=\"blurOut3\"/><feBlend in=\"SourceGraphic\" in2=\"blurOut3\" mode=\"normal\"/></filter></defs><g><!--MD5=[fbc87193dbaf4d95561dea2c320d4a47]\n",
       "cluster E1--><a href=\"psysml:d6640503-c03f-477e-b125-432046bb93b4\" target=\"_top\" title=\"psysml:d6640503-c03f-477e-b125-432046bb93b4\" xlink:actuate=\"onRequest\" xlink:href=\"psysml:d6640503-c03f-477e-b125-432046bb93b4\" xlink:show=\"new\" xlink:title=\"psysml:d6640503-c03f-477e-b125-432046bb93b4\" xlink:type=\"simple\"><polygon fill=\"#FFFFFF\" filter=\"url(#f1q2k1n03ug5gj)\" points=\"16,6,94,6,101,28.2969,283,28.2969,283,269,16,269,16,6\" style=\"stroke: #000000; stroke-width: 1.5;\"/><line style=\"stroke: #000000; stroke-width: 1.5;\" x1=\"16\" x2=\"101\" y1=\"28.2969\" y2=\"28.2969\"/><text fill=\"#000000\" font-family=\"sans-serif\" font-size=\"14\" font-weight=\"bold\" lengthAdjust=\"spacingAndGlyphs\" textLength=\"72\" x=\"20\" y=\"20.9951\">AliasTest</text></a><!--MD5=[b4997ac47864f28c2f74865a473b2911]\n",
       "class E2--><a href=\"psysml:4a06ff05-02b9-4148-90d6-f5221b7c40f0\" target=\"_top\" title=\"psysml:4a06ff05-02b9-4148-90d6-f5221b7c40f0\" xlink:actuate=\"onRequest\" xlink:href=\"psysml:4a06ff05-02b9-4148-90d6-f5221b7c40f0\" xlink:show=\"new\" xlink:title=\"psysml:4a06ff05-02b9-4148-90d6-f5221b7c40f0\" xlink:type=\"simple\"><rect fill=\"#FEFECE\" filter=\"url(#f1q2k1n03ug5gj)\" height=\"75.5469\" id=\"E2\" style=\"stroke: #A80036; stroke-width: 1.5;\" width=\"92\" x=\"98\" y=\"177\"/><text fill=\"#000000\" font-family=\"sans-serif\" font-size=\"12\" font-style=\"italic\" lengthAdjust=\"spacingAndGlyphs\" textLength=\"64\" x=\"112\" y=\"193.1387\">«part def»</text><text fill=\"#000000\" font-family=\"sans-serif\" font-size=\"12\" lengthAdjust=\"spacingAndGlyphs\" textLength=\"16\" x=\"136\" y=\"207.1074\">P1</text><line style=\"stroke: #A80036; stroke-width: 1.5;\" x1=\"99\" x2=\"189\" y1=\"214.9375\" y2=\"214.9375\"/><text fill=\"#000000\" font-family=\"sans-serif\" font-size=\"11\" lengthAdjust=\"spacingAndGlyphs\" textLength=\"36\" x=\"104\" y=\"245.9526\">porig1</text><text fill=\"#000000\" font-family=\"sans-serif\" font-size=\"11\" font-weight=\"bold\" lengthAdjust=\"spacingAndGlyphs\" textLength=\"15\" x=\"144\" y=\"245.9526\">as</text><text fill=\"#000000\" font-family=\"sans-serif\" font-size=\"11\" lengthAdjust=\"spacingAndGlyphs\" textLength=\"21\" x=\"163\" y=\"245.9526\">po1</text><line style=\"stroke: #A80036; stroke-width: 1.0;\" x1=\"99\" x2=\"129\" y1=\"229.3398\" y2=\"229.3398\"/><text fill=\"#000000\" font-family=\"sans-serif\" font-size=\"11\" lengthAdjust=\"spacingAndGlyphs\" textLength=\"30\" x=\"129\" y=\"232.6479\">ports</text><line style=\"stroke: #A80036; stroke-width: 1.0;\" x1=\"159\" x2=\"189\" y1=\"229.3398\" y2=\"229.3398\"/></a><!--MD5=[ebbe1d658d1005bcc118a6aa81145e00]\n",
       "class E4--><a href=\"psysml:9ecf2706-3ec0-4307-8293-70ef42ab2608\" target=\"_top\" title=\"psysml:9ecf2706-3ec0-4307-8293-70ef42ab2608\" xlink:actuate=\"onRequest\" xlink:href=\"psysml:9ecf2706-3ec0-4307-8293-70ef42ab2608\" xlink:show=\"new\" xlink:title=\"psysml:9ecf2706-3ec0-4307-8293-70ef42ab2608\" xlink:type=\"simple\"><rect fill=\"#FEFECE\" filter=\"url(#f1q2k1n03ug5gj)\" height=\"76.4922\" id=\"E4\" rx=\"10\" ry=\"10\" style=\"stroke: #A80036; stroke-width: 1.5;\" width=\"112\" x=\"155\" y=\"41\"/><text fill=\"#000000\" font-family=\"sans-serif\" font-size=\"12\" font-style=\"italic\" lengthAdjust=\"spacingAndGlyphs\" textLength=\"40\" x=\"191\" y=\"57.1387\">«part»</text><text fill=\"#000000\" font-family=\"sans-serif\" font-size=\"12\" lengthAdjust=\"spacingAndGlyphs\" textLength=\"40\" x=\"191\" y=\"71.1074\">p1: P1</text><line style=\"stroke: #A80036; stroke-width: 1.5;\" x1=\"156\" x2=\"266\" y1=\"78.9375\" y2=\"78.9375\"/><path d=\"M162.9167,100.6589 L162.9167,109.8255 L163.8333,109.8255 L163.8333,100.6589 M166.5833,100.6589 L166.5833,109.8255 L173.9167,105.2422 L166.5833,100.6589 L167.5,102.0339 L172.5417,105.2422 L167.5,108.4505 L167.5,102.0339 \" fill=\"#000000\" style=\"stroke: ; stroke-width: 0.0; stroke-dasharray: ;\"/><text fill=\"#000000\" font-family=\"sans-serif\" font-size=\"11\" lengthAdjust=\"spacingAndGlyphs\" textLength=\"21\" x=\"178\" y=\"110.8979\">po1</text><text fill=\"#000000\" font-family=\"sans-serif\" font-size=\"11\" lengthAdjust=\"spacingAndGlyphs\" text-decoration=\"line-through\" textLength=\"58\" x=\"203\" y=\"110.8979\">P1::porig1</text><line style=\"stroke: #A80036; stroke-width: 1.0;\" x1=\"156\" x2=\"196\" y1=\"93.3398\" y2=\"93.3398\"/><text fill=\"#000000\" font-family=\"sans-serif\" font-size=\"11\" lengthAdjust=\"spacingAndGlyphs\" textLength=\"30\" x=\"196\" y=\"96.6479\">ports</text><line style=\"stroke: #A80036; stroke-width: 1.0;\" x1=\"226\" x2=\"266\" y1=\"93.3398\" y2=\"93.3398\"/></a><!--MD5=[60a26617385b1d2d0262a64233df1f8d]\n",
       "class E6--><a href=\"psysml:28be41ac-7d51-495b-a80e-46db5ea96230\" target=\"_top\" title=\"psysml:28be41ac-7d51-495b-a80e-46db5ea96230\" xlink:actuate=\"onRequest\" xlink:href=\"psysml:28be41ac-7d51-495b-a80e-46db5ea96230\" xlink:show=\"new\" xlink:title=\"psysml:28be41ac-7d51-495b-a80e-46db5ea96230\" xlink:type=\"simple\"><rect fill=\"#FEFECE\" filter=\"url(#f1q2k1n03ug5gj)\" height=\"75.5469\" id=\"E6\" rx=\"10\" ry=\"10\" style=\"stroke: #A80036; stroke-width: 1.5;\" width=\"88\" x=\"32\" y=\"41\"/><text fill=\"#000000\" font-family=\"sans-serif\" font-size=\"12\" font-style=\"italic\" lengthAdjust=\"spacingAndGlyphs\" textLength=\"40\" x=\"56\" y=\"57.1387\">«part»</text><text fill=\"#000000\" font-family=\"sans-serif\" font-size=\"12\" lengthAdjust=\"spacingAndGlyphs\" textLength=\"40\" x=\"56\" y=\"71.1074\">p2: P1</text><line style=\"stroke: #A80036; stroke-width: 1.5;\" x1=\"33\" x2=\"119\" y1=\"78.9375\" y2=\"78.9375\"/><text fill=\"#000000\" font-family=\"sans-serif\" font-size=\"11\" lengthAdjust=\"spacingAndGlyphs\" textLength=\"32\" x=\"38\" y=\"109.9526\">pdest</text><text fill=\"#000000\" font-family=\"sans-serif\" font-size=\"11\" font-weight=\"bold\" lengthAdjust=\"spacingAndGlyphs\" textLength=\"15\" x=\"74\" y=\"109.9526\">as</text><text fill=\"#000000\" font-family=\"sans-serif\" font-size=\"11\" lengthAdjust=\"spacingAndGlyphs\" textLength=\"21\" x=\"93\" y=\"109.9526\">pd1</text><line style=\"stroke: #A80036; stroke-width: 1.0;\" x1=\"33\" x2=\"61\" y1=\"93.3398\" y2=\"93.3398\"/><text fill=\"#000000\" font-family=\"sans-serif\" font-size=\"11\" lengthAdjust=\"spacingAndGlyphs\" textLength=\"30\" x=\"61\" y=\"96.6479\">ports</text><line style=\"stroke: #A80036; stroke-width: 1.0;\" x1=\"91\" x2=\"119\" y1=\"93.3398\" y2=\"93.3398\"/></a><!--MD5=[185131fc0dcab0a4505a2ebe144e961b]\n",
       "link E4 to E2--><a href=\"psysml:8ce18664-e29b-46f0-97c0-4b398d523e7c\" target=\"_top\" title=\"psysml:8ce18664-e29b-46f0-97c0-4b398d523e7c\" xlink:actuate=\"onRequest\" xlink:href=\"psysml:8ce18664-e29b-46f0-97c0-4b398d523e7c\" xlink:show=\"new\" xlink:title=\"psysml:8ce18664-e29b-46f0-97c0-4b398d523e7c\" xlink:type=\"simple\"><path d=\"M192.34,117.33 C185.95,130.1 178.66,144.69 171.71,158.58 \" fill=\"none\" id=\"E4-&gt;E2\" style=\"stroke: #A80036; stroke-width: 1.0;\"/><polygon fill=\"#FFFFFF\" points=\"162.56,176.87,164.8089,156.7468,177.3269,163.0158,162.56,176.87\" style=\"stroke: #A80036; stroke-width: 1.0;\"/><ellipse cx=\"169.1496\" cy=\"152.5458\" fill=\"#A80036\" rx=\"2\" ry=\"2\" style=\"stroke: #A80036; stroke-width: 1.0;\"/><ellipse cx=\"178.091\" cy=\"157.0236\" fill=\"#A80036\" rx=\"2\" ry=\"2\" style=\"stroke: #A80036; stroke-width: 1.0;\"/></a><!--MD5=[2351f337d6de0f557b50152ba70847b5]\n",
       "link E6 to E2--><a href=\"psysml:aea9633f-bca5-4d9c-866d-d7db5d7aa3e2\" target=\"_top\" title=\"psysml:aea9633f-bca5-4d9c-866d-d7db5d7aa3e2\" xlink:actuate=\"onRequest\" xlink:href=\"psysml:aea9633f-bca5-4d9c-866d-d7db5d7aa3e2\" xlink:show=\"new\" xlink:title=\"psysml:aea9633f-bca5-4d9c-866d-d7db5d7aa3e2\" xlink:type=\"simple\"><path d=\"M94.94,117.33 C101.43,130.1 108.83,144.69 115.88,158.58 \" fill=\"none\" id=\"E6-&gt;E2\" style=\"stroke: #A80036; stroke-width: 1.0;\"/><polygon fill=\"#FFFFFF\" points=\"125.16,176.87,110.3137,163.101,122.7954,156.7601,125.16,176.87\" style=\"stroke: #A80036; stroke-width: 1.0;\"/><ellipse cx=\"109.5151\" cy=\"157.1133\" fill=\"#A80036\" rx=\"2\" ry=\"2\" style=\"stroke: #A80036; stroke-width: 1.0;\"/><ellipse cx=\"118.4306\" cy=\"152.5841\" fill=\"#A80036\" rx=\"2\" ry=\"2\" style=\"stroke: #A80036; stroke-width: 1.0;\"/></a><!--MD5=[cc3ea008a5fb0d714a47620488de4be4]\n",
       "@startuml\r\n",
       "skinparam wrapWidth 300\r\n",
       "hide circle\r\n",
       "\r\n",
       "package \"AliasTest\" as E1  [[psysml:d6640503-c03f-477e-b125-432046bb93b4 ]]  {\r\n",
       "comp def \"P1\" as E2  <<(T,blue)part def>> [[psysml:4a06ff05-02b9-4148-90d6-f5221b7c40f0 ]] {\r\n",
       "- - ports - -\r\n",
       "porig1 <b>as</b> po1 \r\n",
       "}\r\n",
       "comp usage \"p1: P1\" as E4  <<(T,blue)part>> [[psysml:9ecf2706-3ec0-4307-8293-70ef42ab2608 ]] {\r\n",
       "- - ports - -\r\n",
       "<&bar-trig> po1 <s>P1::porig1</s>\r\n",
       "}\r\n",
       "comp usage \"p2: P1\" as E6  <<(T,blue)part>> [[psysml:28be41ac-7d51-495b-a80e-46db5ea96230 ]] {\r\n",
       "- - ports - -\r\n",
       "pdest <b>as</b> pd1 \r\n",
       "}\r\n",
       "E4 - -:|> E2 [[psysml:8ce18664-e29b-46f0-97c0-4b398d523e7c ]] \r\n",
       "E6 - -:|> E2 [[psysml:aea9633f-bca5-4d9c-866d-d7db5d7aa3e2 ]] \r\n",
       "}\r\n",
       "@enduml\r\n",
       "\n",
       "PlantUML version 1.2020.13(Sat Jun 13 12:26:38 UTC 2020)\n",
       "(EPL source distribution)\n",
       "Java Runtime: OpenJDK Runtime Environment\n",
       "JVM: OpenJDK 64-Bit Server VM\n",
       "Default Encoding: UTF-8\n",
       "Language: en\n",
       "Country: null\n",
       "--></g></svg>"
      ]
     },
     "execution_count": 23,
     "metadata": {},
     "output_type": "execute_result"
    }
   ],
   "source": [
    "%viz --style=\"STDCOLOR\" --view=\"Default\" \"AliasTest\""
   ]
  },
  {
   "cell_type": "code",
   "execution_count": 24,
   "id": "third-retention",
   "metadata": {
    "execution": {
     "iopub.execute_input": "2021-03-25T13:15:21.209647Z",
     "iopub.status.busy": "2021-03-25T13:15:21.208951Z",
     "iopub.status.idle": "2021-03-25T13:15:21.895720Z",
     "shell.execute_reply": "2021-03-25T13:15:21.892712Z"
    }
   },
   "outputs": [
    {
     "data": {
      "image/svg+xml": [
       "<?xml version=\"1.0\" encoding=\"UTF-8\" standalone=\"no\"?><svg xmlns=\"http://www.w3.org/2000/svg\" xmlns:xlink=\"http://www.w3.org/1999/xlink\" contentScriptType=\"application/ecmascript\" contentStyleType=\"text/css\" height=\"281px\" preserveAspectRatio=\"none\" style=\"width:305px;height:281px;\" version=\"1.1\" viewBox=\"0 0 305 281\" width=\"305px\" zoomAndPan=\"magnify\"><defs><filter height=\"300%\" id=\"f1q2k1n03ug5gj\" width=\"300%\" x=\"-1\" y=\"-1\"><feGaussianBlur result=\"blurOut\" stdDeviation=\"2.0\"/><feColorMatrix in=\"blurOut\" result=\"blurOut2\" type=\"matrix\" values=\"0 0 0 0 0 0 0 0 0 0 0 0 0 0 0 0 0 0 .4 0\"/><feOffset dx=\"4.0\" dy=\"4.0\" in=\"blurOut2\" result=\"blurOut3\"/><feBlend in=\"SourceGraphic\" in2=\"blurOut3\" mode=\"normal\"/></filter></defs><g><!--MD5=[fbc87193dbaf4d95561dea2c320d4a47]\n",
       "cluster E1--><a href=\"psysml:d6640503-c03f-477e-b125-432046bb93b4\" target=\"_top\" title=\"psysml:d6640503-c03f-477e-b125-432046bb93b4\" xlink:actuate=\"onRequest\" xlink:href=\"psysml:d6640503-c03f-477e-b125-432046bb93b4\" xlink:show=\"new\" xlink:title=\"psysml:d6640503-c03f-477e-b125-432046bb93b4\" xlink:type=\"simple\"><polygon fill=\"#FFFFFF\" filter=\"url(#f1q2k1n03ug5gj)\" points=\"16,6,94,6,101,28.2969,283,28.2969,283,269,16,269,16,6\" style=\"stroke: #000000; stroke-width: 1.5;\"/><line style=\"stroke: #000000; stroke-width: 1.5;\" x1=\"16\" x2=\"101\" y1=\"28.2969\" y2=\"28.2969\"/><text fill=\"#000000\" font-family=\"sans-serif\" font-size=\"14\" font-weight=\"bold\" lengthAdjust=\"spacingAndGlyphs\" textLength=\"72\" x=\"20\" y=\"20.9951\">AliasTest</text></a><!--MD5=[b4997ac47864f28c2f74865a473b2911]\n",
       "class E2--><a href=\"psysml:4a06ff05-02b9-4148-90d6-f5221b7c40f0\" target=\"_top\" title=\"psysml:4a06ff05-02b9-4148-90d6-f5221b7c40f0\" xlink:actuate=\"onRequest\" xlink:href=\"psysml:4a06ff05-02b9-4148-90d6-f5221b7c40f0\" xlink:show=\"new\" xlink:title=\"psysml:4a06ff05-02b9-4148-90d6-f5221b7c40f0\" xlink:type=\"simple\"><rect fill=\"#FEFECE\" filter=\"url(#f1q2k1n03ug5gj)\" height=\"75.5469\" id=\"E2\" style=\"stroke: #A80036; stroke-width: 1.5;\" width=\"92\" x=\"98\" y=\"177\"/><text fill=\"#000000\" font-family=\"sans-serif\" font-size=\"12\" font-style=\"italic\" lengthAdjust=\"spacingAndGlyphs\" textLength=\"64\" x=\"112\" y=\"193.1387\">«part def»</text><text fill=\"#000000\" font-family=\"sans-serif\" font-size=\"12\" lengthAdjust=\"spacingAndGlyphs\" textLength=\"16\" x=\"136\" y=\"207.1074\">P1</text><line style=\"stroke: #A80036; stroke-width: 1.5;\" x1=\"99\" x2=\"189\" y1=\"214.9375\" y2=\"214.9375\"/><text fill=\"#000000\" font-family=\"sans-serif\" font-size=\"11\" lengthAdjust=\"spacingAndGlyphs\" textLength=\"36\" x=\"104\" y=\"245.9526\">porig1</text><text fill=\"#000000\" font-family=\"sans-serif\" font-size=\"11\" font-weight=\"bold\" lengthAdjust=\"spacingAndGlyphs\" textLength=\"15\" x=\"144\" y=\"245.9526\">as</text><text fill=\"#000000\" font-family=\"sans-serif\" font-size=\"11\" lengthAdjust=\"spacingAndGlyphs\" textLength=\"21\" x=\"163\" y=\"245.9526\">po1</text><line style=\"stroke: #A80036; stroke-width: 1.0;\" x1=\"99\" x2=\"129\" y1=\"229.3398\" y2=\"229.3398\"/><text fill=\"#000000\" font-family=\"sans-serif\" font-size=\"11\" lengthAdjust=\"spacingAndGlyphs\" textLength=\"30\" x=\"129\" y=\"232.6479\">ports</text><line style=\"stroke: #A80036; stroke-width: 1.0;\" x1=\"159\" x2=\"189\" y1=\"229.3398\" y2=\"229.3398\"/></a><!--MD5=[ebbe1d658d1005bcc118a6aa81145e00]\n",
       "class E4--><a href=\"psysml:9ecf2706-3ec0-4307-8293-70ef42ab2608\" target=\"_top\" title=\"psysml:9ecf2706-3ec0-4307-8293-70ef42ab2608\" xlink:actuate=\"onRequest\" xlink:href=\"psysml:9ecf2706-3ec0-4307-8293-70ef42ab2608\" xlink:show=\"new\" xlink:title=\"psysml:9ecf2706-3ec0-4307-8293-70ef42ab2608\" xlink:type=\"simple\"><rect fill=\"#FEFECE\" filter=\"url(#f1q2k1n03ug5gj)\" height=\"76.4922\" id=\"E4\" rx=\"10\" ry=\"10\" style=\"stroke: #A80036; stroke-width: 1.5;\" width=\"112\" x=\"155\" y=\"41\"/><text fill=\"#000000\" font-family=\"sans-serif\" font-size=\"12\" font-style=\"italic\" lengthAdjust=\"spacingAndGlyphs\" textLength=\"40\" x=\"191\" y=\"57.1387\">«part»</text><text fill=\"#000000\" font-family=\"sans-serif\" font-size=\"12\" lengthAdjust=\"spacingAndGlyphs\" textLength=\"40\" x=\"191\" y=\"71.1074\">p1: P1</text><line style=\"stroke: #A80036; stroke-width: 1.5;\" x1=\"156\" x2=\"266\" y1=\"78.9375\" y2=\"78.9375\"/><path d=\"M162.9167,100.6589 L162.9167,109.8255 L163.8333,109.8255 L163.8333,100.6589 M166.5833,100.6589 L166.5833,109.8255 L173.9167,105.2422 L166.5833,100.6589 L167.5,102.0339 L172.5417,105.2422 L167.5,108.4505 L167.5,102.0339 \" fill=\"#000000\" style=\"stroke: ; stroke-width: 0.0; stroke-dasharray: ;\"/><text fill=\"#000000\" font-family=\"sans-serif\" font-size=\"11\" lengthAdjust=\"spacingAndGlyphs\" textLength=\"21\" x=\"178\" y=\"110.8979\">po1</text><text fill=\"#000000\" font-family=\"sans-serif\" font-size=\"11\" lengthAdjust=\"spacingAndGlyphs\" text-decoration=\"line-through\" textLength=\"58\" x=\"203\" y=\"110.8979\">P1::porig1</text><line style=\"stroke: #A80036; stroke-width: 1.0;\" x1=\"156\" x2=\"196\" y1=\"93.3398\" y2=\"93.3398\"/><text fill=\"#000000\" font-family=\"sans-serif\" font-size=\"11\" lengthAdjust=\"spacingAndGlyphs\" textLength=\"30\" x=\"196\" y=\"96.6479\">ports</text><line style=\"stroke: #A80036; stroke-width: 1.0;\" x1=\"226\" x2=\"266\" y1=\"93.3398\" y2=\"93.3398\"/></a><!--MD5=[60a26617385b1d2d0262a64233df1f8d]\n",
       "class E6--><a href=\"psysml:28be41ac-7d51-495b-a80e-46db5ea96230\" target=\"_top\" title=\"psysml:28be41ac-7d51-495b-a80e-46db5ea96230\" xlink:actuate=\"onRequest\" xlink:href=\"psysml:28be41ac-7d51-495b-a80e-46db5ea96230\" xlink:show=\"new\" xlink:title=\"psysml:28be41ac-7d51-495b-a80e-46db5ea96230\" xlink:type=\"simple\"><rect fill=\"#FEFECE\" filter=\"url(#f1q2k1n03ug5gj)\" height=\"75.5469\" id=\"E6\" rx=\"10\" ry=\"10\" style=\"stroke: #A80036; stroke-width: 1.5;\" width=\"88\" x=\"32\" y=\"41\"/><text fill=\"#000000\" font-family=\"sans-serif\" font-size=\"12\" font-style=\"italic\" lengthAdjust=\"spacingAndGlyphs\" textLength=\"40\" x=\"56\" y=\"57.1387\">«part»</text><text fill=\"#000000\" font-family=\"sans-serif\" font-size=\"12\" lengthAdjust=\"spacingAndGlyphs\" textLength=\"40\" x=\"56\" y=\"71.1074\">p2: P1</text><line style=\"stroke: #A80036; stroke-width: 1.5;\" x1=\"33\" x2=\"119\" y1=\"78.9375\" y2=\"78.9375\"/><text fill=\"#000000\" font-family=\"sans-serif\" font-size=\"11\" lengthAdjust=\"spacingAndGlyphs\" textLength=\"32\" x=\"38\" y=\"109.9526\">pdest</text><text fill=\"#000000\" font-family=\"sans-serif\" font-size=\"11\" font-weight=\"bold\" lengthAdjust=\"spacingAndGlyphs\" textLength=\"15\" x=\"74\" y=\"109.9526\">as</text><text fill=\"#000000\" font-family=\"sans-serif\" font-size=\"11\" lengthAdjust=\"spacingAndGlyphs\" textLength=\"21\" x=\"93\" y=\"109.9526\">pd1</text><line style=\"stroke: #A80036; stroke-width: 1.0;\" x1=\"33\" x2=\"61\" y1=\"93.3398\" y2=\"93.3398\"/><text fill=\"#000000\" font-family=\"sans-serif\" font-size=\"11\" lengthAdjust=\"spacingAndGlyphs\" textLength=\"30\" x=\"61\" y=\"96.6479\">ports</text><line style=\"stroke: #A80036; stroke-width: 1.0;\" x1=\"91\" x2=\"119\" y1=\"93.3398\" y2=\"93.3398\"/></a><!--MD5=[185131fc0dcab0a4505a2ebe144e961b]\n",
       "link E4 to E2--><a href=\"psysml:8ce18664-e29b-46f0-97c0-4b398d523e7c\" target=\"_top\" title=\"psysml:8ce18664-e29b-46f0-97c0-4b398d523e7c\" xlink:actuate=\"onRequest\" xlink:href=\"psysml:8ce18664-e29b-46f0-97c0-4b398d523e7c\" xlink:show=\"new\" xlink:title=\"psysml:8ce18664-e29b-46f0-97c0-4b398d523e7c\" xlink:type=\"simple\"><path d=\"M192.34,117.33 C185.95,130.1 178.66,144.69 171.71,158.58 \" fill=\"none\" id=\"E4-&gt;E2\" style=\"stroke: #A80036; stroke-width: 1.0;\"/><polygon fill=\"#FFFFFF\" points=\"162.56,176.87,164.8089,156.7468,177.3269,163.0158,162.56,176.87\" style=\"stroke: #A80036; stroke-width: 1.0;\"/><ellipse cx=\"169.1496\" cy=\"152.5458\" fill=\"#A80036\" rx=\"2\" ry=\"2\" style=\"stroke: #A80036; stroke-width: 1.0;\"/><ellipse cx=\"178.091\" cy=\"157.0236\" fill=\"#A80036\" rx=\"2\" ry=\"2\" style=\"stroke: #A80036; stroke-width: 1.0;\"/></a><!--MD5=[2351f337d6de0f557b50152ba70847b5]\n",
       "link E6 to E2--><a href=\"psysml:aea9633f-bca5-4d9c-866d-d7db5d7aa3e2\" target=\"_top\" title=\"psysml:aea9633f-bca5-4d9c-866d-d7db5d7aa3e2\" xlink:actuate=\"onRequest\" xlink:href=\"psysml:aea9633f-bca5-4d9c-866d-d7db5d7aa3e2\" xlink:show=\"new\" xlink:title=\"psysml:aea9633f-bca5-4d9c-866d-d7db5d7aa3e2\" xlink:type=\"simple\"><path d=\"M94.94,117.33 C101.43,130.1 108.83,144.69 115.88,158.58 \" fill=\"none\" id=\"E6-&gt;E2\" style=\"stroke: #A80036; stroke-width: 1.0;\"/><polygon fill=\"#FFFFFF\" points=\"125.16,176.87,110.3137,163.101,122.7954,156.7601,125.16,176.87\" style=\"stroke: #A80036; stroke-width: 1.0;\"/><ellipse cx=\"109.5151\" cy=\"157.1133\" fill=\"#A80036\" rx=\"2\" ry=\"2\" style=\"stroke: #A80036; stroke-width: 1.0;\"/><ellipse cx=\"118.4306\" cy=\"152.5841\" fill=\"#A80036\" rx=\"2\" ry=\"2\" style=\"stroke: #A80036; stroke-width: 1.0;\"/></a><!--MD5=[cc3ea008a5fb0d714a47620488de4be4]\n",
       "@startuml\r\n",
       "skinparam wrapWidth 300\r\n",
       "hide circle\r\n",
       "\r\n",
       "package \"AliasTest\" as E1  [[psysml:d6640503-c03f-477e-b125-432046bb93b4 ]]  {\r\n",
       "comp def \"P1\" as E2  <<(T,blue)part def>> [[psysml:4a06ff05-02b9-4148-90d6-f5221b7c40f0 ]] {\r\n",
       "- - ports - -\r\n",
       "porig1 <b>as</b> po1 \r\n",
       "}\r\n",
       "comp usage \"p1: P1\" as E4  <<(T,blue)part>> [[psysml:9ecf2706-3ec0-4307-8293-70ef42ab2608 ]] {\r\n",
       "- - ports - -\r\n",
       "<&bar-trig> po1 <s>P1::porig1</s>\r\n",
       "}\r\n",
       "comp usage \"p2: P1\" as E6  <<(T,blue)part>> [[psysml:28be41ac-7d51-495b-a80e-46db5ea96230 ]] {\r\n",
       "- - ports - -\r\n",
       "pdest <b>as</b> pd1 \r\n",
       "}\r\n",
       "E4 - -:|> E2 [[psysml:8ce18664-e29b-46f0-97c0-4b398d523e7c ]] \r\n",
       "E6 - -:|> E2 [[psysml:aea9633f-bca5-4d9c-866d-d7db5d7aa3e2 ]] \r\n",
       "}\r\n",
       "@enduml\r\n",
       "\n",
       "PlantUML version 1.2020.13(Sat Jun 13 12:26:38 UTC 2020)\n",
       "(EPL source distribution)\n",
       "Java Runtime: OpenJDK Runtime Environment\n",
       "JVM: OpenJDK 64-Bit Server VM\n",
       "Default Encoding: UTF-8\n",
       "Language: en\n",
       "Country: null\n",
       "--></g></svg>"
      ]
     },
     "execution_count": 24,
     "metadata": {},
     "output_type": "execute_result"
    }
   ],
   "source": [
    "%viz --style=\"STDCOLOR\" --view=\"Tree\" \"AliasTest\""
   ]
  },
  {
   "cell_type": "code",
   "execution_count": 25,
   "id": "frozen-imperial",
   "metadata": {
    "execution": {
     "iopub.execute_input": "2021-03-25T13:15:21.947954Z",
     "iopub.status.busy": "2021-03-25T13:15:21.947184Z",
     "iopub.status.idle": "2021-03-25T13:15:21.958773Z",
     "shell.execute_reply": "2021-03-25T13:15:21.957161Z"
    }
   },
   "outputs": [
    {
     "data": {
      "image/svg+xml": [
       "<?xml version=\"1.0\" encoding=\"UTF-8\" standalone=\"no\"?><svg xmlns=\"http://www.w3.org/2000/svg\" xmlns:xlink=\"http://www.w3.org/1999/xlink\" contentScriptType=\"application/ecmascript\" contentStyleType=\"text/css\" height=\"12px\" preserveAspectRatio=\"none\" style=\"width:12px;height:12px;\" version=\"1.1\" viewBox=\"0 0 12 12\" width=\"12px\" zoomAndPan=\"magnify\"><defs/><g><!--MD5=[aeeef50f102b80d730deb6443d14f702]\n",
       "@startuml\r\n",
       "skinparam wrapWidth 300\r\n",
       "hide circle\r\n",
       "\r\n",
       "@enduml\r\n",
       "\n",
       "PlantUML version 1.2020.13(Sat Jun 13 12:26:38 UTC 2020)\n",
       "(EPL source distribution)\n",
       "Java Runtime: OpenJDK Runtime Environment\n",
       "JVM: OpenJDK 64-Bit Server VM\n",
       "Default Encoding: UTF-8\n",
       "Language: en\n",
       "Country: null\n",
       "--></g></svg>"
      ]
     },
     "execution_count": 25,
     "metadata": {},
     "output_type": "execute_result"
    }
   ],
   "source": [
    "%viz --style=\"STDCOLOR\" --view=\"State\" \"AliasTest\""
   ]
  },
  {
   "cell_type": "code",
   "execution_count": 26,
   "id": "ordinary-awareness",
   "metadata": {
    "execution": {
     "iopub.execute_input": "2021-03-25T13:15:22.010321Z",
     "iopub.status.busy": "2021-03-25T13:15:22.009659Z",
     "iopub.status.idle": "2021-03-25T13:15:22.132562Z",
     "shell.execute_reply": "2021-03-25T13:15:22.133307Z"
    }
   },
   "outputs": [
    {
     "data": {
      "image/svg+xml": [
       "<?xml version=\"1.0\" encoding=\"UTF-8\" standalone=\"no\"?><svg xmlns=\"http://www.w3.org/2000/svg\" xmlns:xlink=\"http://www.w3.org/1999/xlink\" contentScriptType=\"application/ecmascript\" contentStyleType=\"text/css\" height=\"207px\" preserveAspectRatio=\"none\" style=\"width:406px;height:207px;\" version=\"1.1\" viewBox=\"0 0 406 207\" width=\"406px\" zoomAndPan=\"magnify\"><defs><filter height=\"300%\" id=\"f18okiteej0m9n\" width=\"300%\" x=\"-1\" y=\"-1\"><feGaussianBlur result=\"blurOut\" stdDeviation=\"2.0\"/><feColorMatrix in=\"blurOut\" result=\"blurOut2\" type=\"matrix\" values=\"0 0 0 0 0 0 0 0 0 0 0 0 0 0 0 0 0 0 .4 0\"/><feOffset dx=\"4.0\" dy=\"4.0\" in=\"blurOut2\" result=\"blurOut3\"/><feBlend in=\"SourceGraphic\" in2=\"blurOut3\" mode=\"normal\"/></filter></defs><g><!--MD5=[fbc87193dbaf4d95561dea2c320d4a47]\n",
       "cluster E1--><a href=\"psysml:d6640503-c03f-477e-b125-432046bb93b4\" target=\"_top\" title=\"psysml:d6640503-c03f-477e-b125-432046bb93b4\" xlink:actuate=\"onRequest\" xlink:href=\"psysml:d6640503-c03f-477e-b125-432046bb93b4\" xlink:show=\"new\" xlink:title=\"psysml:d6640503-c03f-477e-b125-432046bb93b4\" xlink:type=\"simple\"><polygon fill=\"#FFFFFF\" filter=\"url(#f18okiteej0m9n)\" points=\"16,6,94,6,101,28.2969,384,28.2969,384,195,16,195,16,6\" style=\"stroke: #000000; stroke-width: 1.5;\"/><line style=\"stroke: #000000; stroke-width: 1.5;\" x1=\"16\" x2=\"101\" y1=\"28.2969\" y2=\"28.2969\"/><text fill=\"#000000\" font-family=\"sans-serif\" font-size=\"14\" font-weight=\"bold\" lengthAdjust=\"spacingAndGlyphs\" textLength=\"72\" x=\"20\" y=\"20.9951\">AliasTest</text></a><!--MD5=[e4f7fae6ed58524ba242bb0b0d3be6b7]\n",
       "cluster E2--><a href=\"psysml:4a06ff05-02b9-4148-90d6-f5221b7c40f0\" target=\"_top\" title=\"psysml:4a06ff05-02b9-4148-90d6-f5221b7c40f0\" xlink:actuate=\"onRequest\" xlink:href=\"psysml:4a06ff05-02b9-4148-90d6-f5221b7c40f0\" xlink:show=\"new\" xlink:title=\"psysml:4a06ff05-02b9-4148-90d6-f5221b7c40f0\" xlink:type=\"simple\"><rect fill=\"#FFFFFF\" filter=\"url(#f18okiteej0m9n)\" height=\"73\" id=\"E2\" style=\"stroke: #A80036; stroke-width: 1.5;\" width=\"83\" x=\"244\" y=\"55\"/><rect fill=\"#FEFECE\" height=\"37.9375\" style=\"stroke: #A80036; stroke-width: 1.5;\" width=\"83\" x=\"244\" y=\"55\"/><text fill=\"#000000\" font-family=\"sans-serif\" font-size=\"12\" font-style=\"italic\" lengthAdjust=\"spacingAndGlyphs\" textLength=\"64\" x=\"253.5\" y=\"71.1387\">«part def»</text><text fill=\"#000000\" font-family=\"sans-serif\" font-size=\"12\" lengthAdjust=\"spacingAndGlyphs\" textLength=\"16\" x=\"277.5\" y=\"85.1074\">P1</text></a><!--MD5=[de5ec2e2e8f62f467e546659f5068c88]\n",
       "cluster E5--><a href=\"psysml:9ecf2706-3ec0-4307-8293-70ef42ab2608\" target=\"_top\" title=\"psysml:9ecf2706-3ec0-4307-8293-70ef42ab2608\" xlink:actuate=\"onRequest\" xlink:href=\"psysml:9ecf2706-3ec0-4307-8293-70ef42ab2608\" xlink:show=\"new\" xlink:title=\"psysml:9ecf2706-3ec0-4307-8293-70ef42ab2608\" xlink:type=\"simple\"><rect fill=\"#FFFFFF\" filter=\"url(#f18okiteej0m9n)\" height=\"84.5\" id=\"E5\" rx=\"10\" ry=\"10\" style=\"stroke: #A80036; stroke-width: 1.5;\" width=\"101\" x=\"139\" y=\"94.5\"/><rect fill=\"#FEFECE\" height=\"23.9688\" rx=\"10\" ry=\"10\" style=\"stroke: #FEFECE; stroke-width: 1.5;\" width=\"101\" x=\"139\" y=\"94.5\"/><rect fill=\"#FEFECE\" height=\"10\" style=\"stroke: #FEFECE; stroke-width: 1.5;\" width=\"101\" x=\"139\" y=\"108.4688\"/><rect fill=\"none\" height=\"84.5\" id=\"E5\" rx=\"10\" ry=\"10\" style=\"stroke: #A80036; stroke-width: 1.5;\" width=\"101\" x=\"139\" y=\"94.5\"/><text fill=\"#000000\" font-family=\"sans-serif\" font-size=\"12\" lengthAdjust=\"spacingAndGlyphs\" textLength=\"40\" x=\"169.5\" y=\"110.6387\">p1: P1</text><line style=\"stroke: #A80036; stroke-width: 1.0;\" x1=\"139\" x2=\"240\" y1=\"118.4688\" y2=\"118.4688\"/></a><!--MD5=[168fadf3d0c3fd93dd5d6da1b1d7ab76]\n",
       "cluster E7--><a href=\"psysml:28be41ac-7d51-495b-a80e-46db5ea96230\" target=\"_top\" title=\"psysml:28be41ac-7d51-495b-a80e-46db5ea96230\" xlink:actuate=\"onRequest\" xlink:href=\"psysml:28be41ac-7d51-495b-a80e-46db5ea96230\" xlink:show=\"new\" xlink:title=\"psysml:28be41ac-7d51-495b-a80e-46db5ea96230\" xlink:type=\"simple\"><rect fill=\"#FFFFFF\" filter=\"url(#f18okiteej0m9n)\" height=\"65\" id=\"E7\" rx=\"10\" ry=\"10\" style=\"stroke: #A80036; stroke-width: 1.5;\" width=\"83\" x=\"53\" y=\"55\"/><rect fill=\"#FEFECE\" height=\"23.9688\" rx=\"10\" ry=\"10\" style=\"stroke: #FEFECE; stroke-width: 1.5;\" width=\"83\" x=\"53\" y=\"55\"/><rect fill=\"#FEFECE\" height=\"10\" style=\"stroke: #FEFECE; stroke-width: 1.5;\" width=\"83\" x=\"53\" y=\"68.9688\"/><rect fill=\"none\" height=\"65\" id=\"E7\" rx=\"10\" ry=\"10\" style=\"stroke: #A80036; stroke-width: 1.5;\" width=\"83\" x=\"53\" y=\"55\"/><text fill=\"#000000\" font-family=\"sans-serif\" font-size=\"12\" lengthAdjust=\"spacingAndGlyphs\" textLength=\"40\" x=\"74.5\" y=\"71.1387\">p2: P1</text><line style=\"stroke: #A80036; stroke-width: 1.0;\" x1=\"53\" x2=\"136\" y1=\"78.9688\" y2=\"78.9688\"/></a><text fill=\"#000000\" font-family=\"sans-serif\" font-size=\"14\" lengthAdjust=\"spacingAndGlyphs\" textLength=\"44\" x=\"240\" y=\"33.6982\">porig1</text><rect fill=\"#A80036\" height=\"12\" style=\"stroke: #FEFECE; stroke-width: 1.5;\" width=\"12\" x=\"256\" y=\"49\"/><text fill=\"#000000\" font-family=\"sans-serif\" font-size=\"14\" lengthAdjust=\"spacingAndGlyphs\" textLength=\"44\" x=\"287\" y=\"33.6982\">porig1</text><rect fill=\"#A80036\" height=\"12\" style=\"stroke: #FEFECE; stroke-width: 1.5;\" width=\"12\" x=\"303\" y=\"49\"/><text fill=\"#000000\" font-family=\"sans-serif\" font-size=\"14\" lengthAdjust=\"spacingAndGlyphs\" textLength=\"27\" x=\"143.5\" y=\"73.1982\">po1</text><rect fill=\"#A80036\" height=\"12\" style=\"stroke: #FEFECE; stroke-width: 1.5;\" width=\"12\" x=\"151\" y=\"88.5\"/><text fill=\"#000000\" font-family=\"sans-serif\" font-size=\"14\" lengthAdjust=\"spacingAndGlyphs\" textLength=\"40\" x=\"51\" y=\"33.6982\">pdest</text><rect fill=\"#A80036\" height=\"12\" style=\"stroke: #FEFECE; stroke-width: 1.5;\" width=\"12\" x=\"65\" y=\"49\"/><text fill=\"#000000\" font-family=\"sans-serif\" font-size=\"14\" lengthAdjust=\"spacingAndGlyphs\" textLength=\"40\" x=\"98\" y=\"33.6982\">pdest</text><rect fill=\"#A80036\" height=\"12\" style=\"stroke: #FEFECE; stroke-width: 1.5;\" width=\"12\" x=\"112\" y=\"49\"/><!--MD5=[60ac2c0cde89d4308155b0484e57a8ec]\n",
       "link E9 to E6--><a href=\"psysml:32f11bb0-f29d-43a1-aa99-c5cb95a5777d\" target=\"_top\" title=\"psysml:32f11bb0-f29d-43a1-aa99-c5cb95a5777d\" xlink:actuate=\"onRequest\" xlink:href=\"psysml:32f11bb0-f29d-43a1-aa99-c5cb95a5777d\" xlink:show=\"new\" xlink:title=\"psysml:32f11bb0-f29d-43a1-aa99-c5cb95a5777d\" xlink:type=\"simple\"><path d=\"M111.75,56.49 C103.41,58.2 109.82,64.05 115,69 C124.85,78.4 136.6,90.11 150.78,92.89 \" fill=\"none\" id=\"E9-E6\" style=\"stroke: #A80036; stroke-width: 3.0;\"/></a><!--MD5=[60ac2c0cde89d4308155b0484e57a8ec]\n",
       "link E9 to E6--><a href=\"psysml:e24ce1f4-3e8e-4ff6-8278-f74c062e3ad6\" target=\"_top\" title=\"psysml:e24ce1f4-3e8e-4ff6-8278-f74c062e3ad6\" xlink:actuate=\"onRequest\" xlink:href=\"psysml:e24ce1f4-3e8e-4ff6-8278-f74c062e3ad6\" xlink:show=\"new\" xlink:title=\"psysml:e24ce1f4-3e8e-4ff6-8278-f74c062e3ad6\" xlink:type=\"simple\"><path d=\"M124.29,56.32 C137.94,57.76 144.62,63.87 150,69 C159.5,78.06 170.77,89.27 163.24,92.56 \" fill=\"none\" id=\"E9-E6-1\" style=\"stroke: #A80036; stroke-width: 3.0;\"/></a><!--MD5=[421bd4436dd28168f40587b8355a92a8]\n",
       "@startuml\r\n",
       "skinparam ranksep 8\r\n",
       "skinparam rectangle {\r\n",
       " backgroundColor<<block>> LightGreen\r\n",
       "}\r\n",
       "skinparam wrapWidth 300\r\n",
       "hide circle\r\n",
       "\r\n",
       "package \"AliasTest\" as E1  [[psysml:d6640503-c03f-477e-b125-432046bb93b4 ]]  {\r\n",
       "rec def \"P1\" as E2  <<(T,blue)part def>> [[psysml:4a06ff05-02b9-4148-90d6-f5221b7c40f0 ]] {\r\n",
       "portin \"porig1\" as E3  <<(T,blue)port>> [[psysml:2b77977e-0e87-40fa-bfcc-86d3bbd61ac4 ]] \r\n",
       "portin \"porig1\" as E4  <<(T,blue)port>> [[psysml:2b77977e-0e87-40fa-bfcc-86d3bbd61ac4 ]] \r\n",
       "}\r\n",
       "rec usage \"p1: P1\" as E5  [[psysml:9ecf2706-3ec0-4307-8293-70ef42ab2608 ]] {\r\n",
       "portin \"po1\" as E6  <<(T,blue)port>> [[psysml:040fe1ca-6ed4-4b89-a2be-3a2910b81d71 ]] \r\n",
       "}\r\n",
       "rec usage \"p2: P1\" as E7  [[psysml:28be41ac-7d51-495b-a80e-46db5ea96230 ]] {\r\n",
       "portin \"pdest\" as E8  <<(T,blue)port>> [[psysml:35e7e96c-66ea-4900-a048-bf88e7083b58 ]] \r\n",
       "portin \"pdest\" as E9  <<(T,blue)port>> [[psysml:35e7e96c-66ea-4900-a048-bf88e7083b58 ]] \r\n",
       "}\r\n",
       "E9 -[thickness=3]- E6 [[psysml:32f11bb0-f29d-43a1-aa99-c5cb95a5777d ]] \r\n",
       "E9 -[thickness=3]- E6 [[psysml:e24ce1f4-3e8e-4ff6-8278-f74c062e3ad6 ]] \r\n",
       "}\r\n",
       "@enduml\r\n",
       "\n",
       "PlantUML version 1.2020.13(Sat Jun 13 12:26:38 UTC 2020)\n",
       "(EPL source distribution)\n",
       "Java Runtime: OpenJDK Runtime Environment\n",
       "JVM: OpenJDK 64-Bit Server VM\n",
       "Default Encoding: UTF-8\n",
       "Language: en\n",
       "Country: null\n",
       "--></g></svg>"
      ]
     },
     "execution_count": 26,
     "metadata": {},
     "output_type": "execute_result"
    }
   ],
   "source": [
    "%viz --style=\"STDCOLOR\" --view=\"Interconnection\" \"AliasTest\""
   ]
  },
  {
   "cell_type": "code",
   "execution_count": 27,
   "id": "popular-designation",
   "metadata": {
    "execution": {
     "iopub.execute_input": "2021-03-25T13:15:22.183274Z",
     "iopub.status.busy": "2021-03-25T13:15:22.182169Z",
     "iopub.status.idle": "2021-03-25T13:15:22.190101Z",
     "shell.execute_reply": "2021-03-25T13:15:22.189620Z"
    }
   },
   "outputs": [
    {
     "data": {
      "image/svg+xml": [
       "<?xml version=\"1.0\" encoding=\"UTF-8\" standalone=\"no\"?><svg xmlns=\"http://www.w3.org/2000/svg\" xmlns:xlink=\"http://www.w3.org/1999/xlink\" contentScriptType=\"application/ecmascript\" contentStyleType=\"text/css\" height=\"12px\" preserveAspectRatio=\"none\" style=\"width:12px;height:12px;\" version=\"1.1\" viewBox=\"0 0 12 12\" width=\"12px\" zoomAndPan=\"magnify\"><defs/><g><!--MD5=[9863325348a96a77dacc89509d8ee65e]\n",
       "@startuml\r\n",
       "skinparam ranksep 8\r\n",
       "skinparam wrapWidth 300\r\n",
       "hide circle\r\n",
       "\r\n",
       "@enduml\r\n",
       "\n",
       "PlantUML version 1.2020.13(Sat Jun 13 12:26:38 UTC 2020)\n",
       "(EPL source distribution)\n",
       "Java Runtime: OpenJDK Runtime Environment\n",
       "JVM: OpenJDK 64-Bit Server VM\n",
       "Default Encoding: UTF-8\n",
       "Language: en\n",
       "Country: null\n",
       "--></g></svg>"
      ]
     },
     "execution_count": 27,
     "metadata": {},
     "output_type": "execute_result"
    }
   ],
   "source": [
    "%viz --style=\"STDCOLOR\" --view=\"Action\" \"AliasTest\""
   ]
  },
  {
   "cell_type": "code",
   "execution_count": 28,
   "id": "strange-judgment",
   "metadata": {
    "execution": {
     "iopub.execute_input": "2021-03-25T13:15:22.241419Z",
     "iopub.status.busy": "2021-03-25T13:15:22.240555Z",
     "iopub.status.idle": "2021-03-25T13:15:22.966859Z",
     "shell.execute_reply": "2021-03-25T13:15:22.964936Z"
    }
   },
   "outputs": [
    {
     "data": {
      "image/svg+xml": [
       "<?xml version=\"1.0\" encoding=\"UTF-8\" standalone=\"no\"?><svg xmlns=\"http://www.w3.org/2000/svg\" xmlns:xlink=\"http://www.w3.org/1999/xlink\" contentScriptType=\"application/ecmascript\" contentStyleType=\"text/css\" height=\"281px\" preserveAspectRatio=\"none\" style=\"width:305px;height:281px;\" version=\"1.1\" viewBox=\"0 0 305 281\" width=\"305px\" zoomAndPan=\"magnify\"><defs><filter height=\"300%\" id=\"f1q2k1n03ug5gj\" width=\"300%\" x=\"-1\" y=\"-1\"><feGaussianBlur result=\"blurOut\" stdDeviation=\"2.0\"/><feColorMatrix in=\"blurOut\" result=\"blurOut2\" type=\"matrix\" values=\"0 0 0 0 0 0 0 0 0 0 0 0 0 0 0 0 0 0 .4 0\"/><feOffset dx=\"4.0\" dy=\"4.0\" in=\"blurOut2\" result=\"blurOut3\"/><feBlend in=\"SourceGraphic\" in2=\"blurOut3\" mode=\"normal\"/></filter></defs><g><!--MD5=[fbc87193dbaf4d95561dea2c320d4a47]\n",
       "cluster E1--><a href=\"psysml:d6640503-c03f-477e-b125-432046bb93b4\" target=\"_top\" title=\"psysml:d6640503-c03f-477e-b125-432046bb93b4\" xlink:actuate=\"onRequest\" xlink:href=\"psysml:d6640503-c03f-477e-b125-432046bb93b4\" xlink:show=\"new\" xlink:title=\"psysml:d6640503-c03f-477e-b125-432046bb93b4\" xlink:type=\"simple\"><polygon fill=\"#FFFFFF\" filter=\"url(#f1q2k1n03ug5gj)\" points=\"16,6,94,6,101,28.2969,283,28.2969,283,269,16,269,16,6\" style=\"stroke: #000000; stroke-width: 1.5;\"/><line style=\"stroke: #000000; stroke-width: 1.5;\" x1=\"16\" x2=\"101\" y1=\"28.2969\" y2=\"28.2969\"/><text fill=\"#000000\" font-family=\"sans-serif\" font-size=\"14\" font-weight=\"bold\" lengthAdjust=\"spacingAndGlyphs\" textLength=\"72\" x=\"20\" y=\"20.9951\">AliasTest</text></a><!--MD5=[b4997ac47864f28c2f74865a473b2911]\n",
       "class E2--><a href=\"psysml:4a06ff05-02b9-4148-90d6-f5221b7c40f0\" target=\"_top\" title=\"psysml:4a06ff05-02b9-4148-90d6-f5221b7c40f0\" xlink:actuate=\"onRequest\" xlink:href=\"psysml:4a06ff05-02b9-4148-90d6-f5221b7c40f0\" xlink:show=\"new\" xlink:title=\"psysml:4a06ff05-02b9-4148-90d6-f5221b7c40f0\" xlink:type=\"simple\"><rect fill=\"#FEFECE\" filter=\"url(#f1q2k1n03ug5gj)\" height=\"75.5469\" id=\"E2\" style=\"stroke: #A80036; stroke-width: 1.5;\" width=\"92\" x=\"98\" y=\"177\"/><text fill=\"#000000\" font-family=\"sans-serif\" font-size=\"12\" font-style=\"italic\" lengthAdjust=\"spacingAndGlyphs\" textLength=\"64\" x=\"112\" y=\"193.1387\">«part def»</text><text fill=\"#000000\" font-family=\"sans-serif\" font-size=\"12\" lengthAdjust=\"spacingAndGlyphs\" textLength=\"16\" x=\"136\" y=\"207.1074\">P1</text><line style=\"stroke: #A80036; stroke-width: 1.5;\" x1=\"99\" x2=\"189\" y1=\"214.9375\" y2=\"214.9375\"/><text fill=\"#000000\" font-family=\"sans-serif\" font-size=\"11\" lengthAdjust=\"spacingAndGlyphs\" textLength=\"36\" x=\"104\" y=\"245.9526\">porig1</text><text fill=\"#000000\" font-family=\"sans-serif\" font-size=\"11\" font-weight=\"bold\" lengthAdjust=\"spacingAndGlyphs\" textLength=\"15\" x=\"144\" y=\"245.9526\">as</text><text fill=\"#000000\" font-family=\"sans-serif\" font-size=\"11\" lengthAdjust=\"spacingAndGlyphs\" textLength=\"21\" x=\"163\" y=\"245.9526\">po1</text><line style=\"stroke: #A80036; stroke-width: 1.0;\" x1=\"99\" x2=\"129\" y1=\"229.3398\" y2=\"229.3398\"/><text fill=\"#000000\" font-family=\"sans-serif\" font-size=\"11\" lengthAdjust=\"spacingAndGlyphs\" textLength=\"30\" x=\"129\" y=\"232.6479\">ports</text><line style=\"stroke: #A80036; stroke-width: 1.0;\" x1=\"159\" x2=\"189\" y1=\"229.3398\" y2=\"229.3398\"/></a><!--MD5=[ebbe1d658d1005bcc118a6aa81145e00]\n",
       "class E4--><a href=\"psysml:9ecf2706-3ec0-4307-8293-70ef42ab2608\" target=\"_top\" title=\"psysml:9ecf2706-3ec0-4307-8293-70ef42ab2608\" xlink:actuate=\"onRequest\" xlink:href=\"psysml:9ecf2706-3ec0-4307-8293-70ef42ab2608\" xlink:show=\"new\" xlink:title=\"psysml:9ecf2706-3ec0-4307-8293-70ef42ab2608\" xlink:type=\"simple\"><rect fill=\"#FEFECE\" filter=\"url(#f1q2k1n03ug5gj)\" height=\"76.4922\" id=\"E4\" rx=\"10\" ry=\"10\" style=\"stroke: #A80036; stroke-width: 1.5;\" width=\"112\" x=\"155\" y=\"41\"/><text fill=\"#000000\" font-family=\"sans-serif\" font-size=\"12\" font-style=\"italic\" lengthAdjust=\"spacingAndGlyphs\" textLength=\"40\" x=\"191\" y=\"57.1387\">«part»</text><text fill=\"#000000\" font-family=\"sans-serif\" font-size=\"12\" lengthAdjust=\"spacingAndGlyphs\" textLength=\"40\" x=\"191\" y=\"71.1074\">p1: P1</text><line style=\"stroke: #A80036; stroke-width: 1.5;\" x1=\"156\" x2=\"266\" y1=\"78.9375\" y2=\"78.9375\"/><path d=\"M162.9167,100.6589 L162.9167,109.8255 L163.8333,109.8255 L163.8333,100.6589 M166.5833,100.6589 L166.5833,109.8255 L173.9167,105.2422 L166.5833,100.6589 L167.5,102.0339 L172.5417,105.2422 L167.5,108.4505 L167.5,102.0339 \" fill=\"#000000\" style=\"stroke: ; stroke-width: 0.0; stroke-dasharray: ;\"/><text fill=\"#000000\" font-family=\"sans-serif\" font-size=\"11\" lengthAdjust=\"spacingAndGlyphs\" textLength=\"21\" x=\"178\" y=\"110.8979\">po1</text><text fill=\"#000000\" font-family=\"sans-serif\" font-size=\"11\" lengthAdjust=\"spacingAndGlyphs\" text-decoration=\"line-through\" textLength=\"58\" x=\"203\" y=\"110.8979\">P1::porig1</text><line style=\"stroke: #A80036; stroke-width: 1.0;\" x1=\"156\" x2=\"196\" y1=\"93.3398\" y2=\"93.3398\"/><text fill=\"#000000\" font-family=\"sans-serif\" font-size=\"11\" lengthAdjust=\"spacingAndGlyphs\" textLength=\"30\" x=\"196\" y=\"96.6479\">ports</text><line style=\"stroke: #A80036; stroke-width: 1.0;\" x1=\"226\" x2=\"266\" y1=\"93.3398\" y2=\"93.3398\"/></a><!--MD5=[60a26617385b1d2d0262a64233df1f8d]\n",
       "class E6--><a href=\"psysml:28be41ac-7d51-495b-a80e-46db5ea96230\" target=\"_top\" title=\"psysml:28be41ac-7d51-495b-a80e-46db5ea96230\" xlink:actuate=\"onRequest\" xlink:href=\"psysml:28be41ac-7d51-495b-a80e-46db5ea96230\" xlink:show=\"new\" xlink:title=\"psysml:28be41ac-7d51-495b-a80e-46db5ea96230\" xlink:type=\"simple\"><rect fill=\"#FEFECE\" filter=\"url(#f1q2k1n03ug5gj)\" height=\"75.5469\" id=\"E6\" rx=\"10\" ry=\"10\" style=\"stroke: #A80036; stroke-width: 1.5;\" width=\"88\" x=\"32\" y=\"41\"/><text fill=\"#000000\" font-family=\"sans-serif\" font-size=\"12\" font-style=\"italic\" lengthAdjust=\"spacingAndGlyphs\" textLength=\"40\" x=\"56\" y=\"57.1387\">«part»</text><text fill=\"#000000\" font-family=\"sans-serif\" font-size=\"12\" lengthAdjust=\"spacingAndGlyphs\" textLength=\"40\" x=\"56\" y=\"71.1074\">p2: P1</text><line style=\"stroke: #A80036; stroke-width: 1.5;\" x1=\"33\" x2=\"119\" y1=\"78.9375\" y2=\"78.9375\"/><text fill=\"#000000\" font-family=\"sans-serif\" font-size=\"11\" lengthAdjust=\"spacingAndGlyphs\" textLength=\"32\" x=\"38\" y=\"109.9526\">pdest</text><text fill=\"#000000\" font-family=\"sans-serif\" font-size=\"11\" font-weight=\"bold\" lengthAdjust=\"spacingAndGlyphs\" textLength=\"15\" x=\"74\" y=\"109.9526\">as</text><text fill=\"#000000\" font-family=\"sans-serif\" font-size=\"11\" lengthAdjust=\"spacingAndGlyphs\" textLength=\"21\" x=\"93\" y=\"109.9526\">pd1</text><line style=\"stroke: #A80036; stroke-width: 1.0;\" x1=\"33\" x2=\"61\" y1=\"93.3398\" y2=\"93.3398\"/><text fill=\"#000000\" font-family=\"sans-serif\" font-size=\"11\" lengthAdjust=\"spacingAndGlyphs\" textLength=\"30\" x=\"61\" y=\"96.6479\">ports</text><line style=\"stroke: #A80036; stroke-width: 1.0;\" x1=\"91\" x2=\"119\" y1=\"93.3398\" y2=\"93.3398\"/></a><!--MD5=[185131fc0dcab0a4505a2ebe144e961b]\n",
       "link E4 to E2--><a href=\"psysml:8ce18664-e29b-46f0-97c0-4b398d523e7c\" target=\"_top\" title=\"psysml:8ce18664-e29b-46f0-97c0-4b398d523e7c\" xlink:actuate=\"onRequest\" xlink:href=\"psysml:8ce18664-e29b-46f0-97c0-4b398d523e7c\" xlink:show=\"new\" xlink:title=\"psysml:8ce18664-e29b-46f0-97c0-4b398d523e7c\" xlink:type=\"simple\"><path d=\"M192.34,117.33 C185.95,130.1 178.66,144.69 171.71,158.58 \" fill=\"none\" id=\"E4-&gt;E2\" style=\"stroke: #A80036; stroke-width: 1.0;\"/><polygon fill=\"#FFFFFF\" points=\"162.56,176.87,164.8089,156.7468,177.3269,163.0158,162.56,176.87\" style=\"stroke: #A80036; stroke-width: 1.0;\"/><ellipse cx=\"169.1496\" cy=\"152.5458\" fill=\"#A80036\" rx=\"2\" ry=\"2\" style=\"stroke: #A80036; stroke-width: 1.0;\"/><ellipse cx=\"178.091\" cy=\"157.0236\" fill=\"#A80036\" rx=\"2\" ry=\"2\" style=\"stroke: #A80036; stroke-width: 1.0;\"/></a><!--MD5=[2351f337d6de0f557b50152ba70847b5]\n",
       "link E6 to E2--><a href=\"psysml:aea9633f-bca5-4d9c-866d-d7db5d7aa3e2\" target=\"_top\" title=\"psysml:aea9633f-bca5-4d9c-866d-d7db5d7aa3e2\" xlink:actuate=\"onRequest\" xlink:href=\"psysml:aea9633f-bca5-4d9c-866d-d7db5d7aa3e2\" xlink:show=\"new\" xlink:title=\"psysml:aea9633f-bca5-4d9c-866d-d7db5d7aa3e2\" xlink:type=\"simple\"><path d=\"M94.94,117.33 C101.43,130.1 108.83,144.69 115.88,158.58 \" fill=\"none\" id=\"E6-&gt;E2\" style=\"stroke: #A80036; stroke-width: 1.0;\"/><polygon fill=\"#FFFFFF\" points=\"125.16,176.87,110.3137,163.101,122.7954,156.7601,125.16,176.87\" style=\"stroke: #A80036; stroke-width: 1.0;\"/><ellipse cx=\"109.5151\" cy=\"157.1133\" fill=\"#A80036\" rx=\"2\" ry=\"2\" style=\"stroke: #A80036; stroke-width: 1.0;\"/><ellipse cx=\"118.4306\" cy=\"152.5841\" fill=\"#A80036\" rx=\"2\" ry=\"2\" style=\"stroke: #A80036; stroke-width: 1.0;\"/></a><!--MD5=[cc3ea008a5fb0d714a47620488de4be4]\n",
       "@startuml\r\n",
       "skinparam wrapWidth 300\r\n",
       "hide circle\r\n",
       "\r\n",
       "package \"AliasTest\" as E1  [[psysml:d6640503-c03f-477e-b125-432046bb93b4 ]]  {\r\n",
       "comp def \"P1\" as E2  <<(T,blue)part def>> [[psysml:4a06ff05-02b9-4148-90d6-f5221b7c40f0 ]] {\r\n",
       "- - ports - -\r\n",
       "porig1 <b>as</b> po1 \r\n",
       "}\r\n",
       "comp usage \"p1: P1\" as E4  <<(T,blue)part>> [[psysml:9ecf2706-3ec0-4307-8293-70ef42ab2608 ]] {\r\n",
       "- - ports - -\r\n",
       "<&bar-trig> po1 <s>P1::porig1</s>\r\n",
       "}\r\n",
       "comp usage \"p2: P1\" as E6  <<(T,blue)part>> [[psysml:28be41ac-7d51-495b-a80e-46db5ea96230 ]] {\r\n",
       "- - ports - -\r\n",
       "pdest <b>as</b> pd1 \r\n",
       "}\r\n",
       "E4 - -:|> E2 [[psysml:8ce18664-e29b-46f0-97c0-4b398d523e7c ]] \r\n",
       "E6 - -:|> E2 [[psysml:aea9633f-bca5-4d9c-866d-d7db5d7aa3e2 ]] \r\n",
       "}\r\n",
       "@enduml\r\n",
       "\n",
       "PlantUML version 1.2020.13(Sat Jun 13 12:26:38 UTC 2020)\n",
       "(EPL source distribution)\n",
       "Java Runtime: OpenJDK Runtime Environment\n",
       "JVM: OpenJDK 64-Bit Server VM\n",
       "Default Encoding: UTF-8\n",
       "Language: en\n",
       "Country: null\n",
       "--></g></svg>"
      ]
     },
     "execution_count": 28,
     "metadata": {},
     "output_type": "execute_result"
    }
   ],
   "source": [
    "%viz --style=\"STDCOLOR\" --view=\"Sequence\" \"AliasTest\""
   ]
  },
  {
   "cell_type": "code",
   "execution_count": 29,
   "id": "crazy-credit",
   "metadata": {
    "execution": {
     "iopub.execute_input": "2021-03-25T13:15:23.017293Z",
     "iopub.status.busy": "2021-03-25T13:15:23.016621Z",
     "iopub.status.idle": "2021-03-25T13:15:23.691404Z",
     "shell.execute_reply": "2021-03-25T13:15:23.690014Z"
    }
   },
   "outputs": [
    {
     "data": {
      "image/svg+xml": [
       "<?xml version=\"1.0\" encoding=\"UTF-8\" standalone=\"no\"?><svg xmlns=\"http://www.w3.org/2000/svg\" xmlns:xlink=\"http://www.w3.org/1999/xlink\" contentScriptType=\"application/ecmascript\" contentStyleType=\"text/css\" height=\"281px\" preserveAspectRatio=\"none\" style=\"width:305px;height:281px;\" version=\"1.1\" viewBox=\"0 0 305 281\" width=\"305px\" zoomAndPan=\"magnify\"><defs><filter height=\"300%\" id=\"f1q2k1n03ug5gj\" width=\"300%\" x=\"-1\" y=\"-1\"><feGaussianBlur result=\"blurOut\" stdDeviation=\"2.0\"/><feColorMatrix in=\"blurOut\" result=\"blurOut2\" type=\"matrix\" values=\"0 0 0 0 0 0 0 0 0 0 0 0 0 0 0 0 0 0 .4 0\"/><feOffset dx=\"4.0\" dy=\"4.0\" in=\"blurOut2\" result=\"blurOut3\"/><feBlend in=\"SourceGraphic\" in2=\"blurOut3\" mode=\"normal\"/></filter></defs><g><!--MD5=[fbc87193dbaf4d95561dea2c320d4a47]\n",
       "cluster E1--><a href=\"psysml:d6640503-c03f-477e-b125-432046bb93b4\" target=\"_top\" title=\"psysml:d6640503-c03f-477e-b125-432046bb93b4\" xlink:actuate=\"onRequest\" xlink:href=\"psysml:d6640503-c03f-477e-b125-432046bb93b4\" xlink:show=\"new\" xlink:title=\"psysml:d6640503-c03f-477e-b125-432046bb93b4\" xlink:type=\"simple\"><polygon fill=\"#FFFFFF\" filter=\"url(#f1q2k1n03ug5gj)\" points=\"16,6,94,6,101,28.2969,283,28.2969,283,269,16,269,16,6\" style=\"stroke: #000000; stroke-width: 1.5;\"/><line style=\"stroke: #000000; stroke-width: 1.5;\" x1=\"16\" x2=\"101\" y1=\"28.2969\" y2=\"28.2969\"/><text fill=\"#000000\" font-family=\"sans-serif\" font-size=\"14\" font-weight=\"bold\" lengthAdjust=\"spacingAndGlyphs\" textLength=\"72\" x=\"20\" y=\"20.9951\">AliasTest</text></a><!--MD5=[b4997ac47864f28c2f74865a473b2911]\n",
       "class E2--><a href=\"psysml:4a06ff05-02b9-4148-90d6-f5221b7c40f0\" target=\"_top\" title=\"psysml:4a06ff05-02b9-4148-90d6-f5221b7c40f0\" xlink:actuate=\"onRequest\" xlink:href=\"psysml:4a06ff05-02b9-4148-90d6-f5221b7c40f0\" xlink:show=\"new\" xlink:title=\"psysml:4a06ff05-02b9-4148-90d6-f5221b7c40f0\" xlink:type=\"simple\"><rect fill=\"#FEFECE\" filter=\"url(#f1q2k1n03ug5gj)\" height=\"75.5469\" id=\"E2\" style=\"stroke: #A80036; stroke-width: 1.5;\" width=\"92\" x=\"98\" y=\"177\"/><text fill=\"#000000\" font-family=\"sans-serif\" font-size=\"12\" font-style=\"italic\" lengthAdjust=\"spacingAndGlyphs\" textLength=\"64\" x=\"112\" y=\"193.1387\">«part def»</text><text fill=\"#000000\" font-family=\"sans-serif\" font-size=\"12\" lengthAdjust=\"spacingAndGlyphs\" textLength=\"16\" x=\"136\" y=\"207.1074\">P1</text><line style=\"stroke: #A80036; stroke-width: 1.5;\" x1=\"99\" x2=\"189\" y1=\"214.9375\" y2=\"214.9375\"/><text fill=\"#000000\" font-family=\"sans-serif\" font-size=\"11\" lengthAdjust=\"spacingAndGlyphs\" textLength=\"36\" x=\"104\" y=\"245.9526\">porig1</text><text fill=\"#000000\" font-family=\"sans-serif\" font-size=\"11\" font-weight=\"bold\" lengthAdjust=\"spacingAndGlyphs\" textLength=\"15\" x=\"144\" y=\"245.9526\">as</text><text fill=\"#000000\" font-family=\"sans-serif\" font-size=\"11\" lengthAdjust=\"spacingAndGlyphs\" textLength=\"21\" x=\"163\" y=\"245.9526\">po1</text><line style=\"stroke: #A80036; stroke-width: 1.0;\" x1=\"99\" x2=\"129\" y1=\"229.3398\" y2=\"229.3398\"/><text fill=\"#000000\" font-family=\"sans-serif\" font-size=\"11\" lengthAdjust=\"spacingAndGlyphs\" textLength=\"30\" x=\"129\" y=\"232.6479\">ports</text><line style=\"stroke: #A80036; stroke-width: 1.0;\" x1=\"159\" x2=\"189\" y1=\"229.3398\" y2=\"229.3398\"/></a><!--MD5=[ebbe1d658d1005bcc118a6aa81145e00]\n",
       "class E4--><a href=\"psysml:9ecf2706-3ec0-4307-8293-70ef42ab2608\" target=\"_top\" title=\"psysml:9ecf2706-3ec0-4307-8293-70ef42ab2608\" xlink:actuate=\"onRequest\" xlink:href=\"psysml:9ecf2706-3ec0-4307-8293-70ef42ab2608\" xlink:show=\"new\" xlink:title=\"psysml:9ecf2706-3ec0-4307-8293-70ef42ab2608\" xlink:type=\"simple\"><rect fill=\"#FEFECE\" filter=\"url(#f1q2k1n03ug5gj)\" height=\"76.4922\" id=\"E4\" rx=\"10\" ry=\"10\" style=\"stroke: #A80036; stroke-width: 1.5;\" width=\"112\" x=\"155\" y=\"41\"/><text fill=\"#000000\" font-family=\"sans-serif\" font-size=\"12\" font-style=\"italic\" lengthAdjust=\"spacingAndGlyphs\" textLength=\"40\" x=\"191\" y=\"57.1387\">«part»</text><text fill=\"#000000\" font-family=\"sans-serif\" font-size=\"12\" lengthAdjust=\"spacingAndGlyphs\" textLength=\"40\" x=\"191\" y=\"71.1074\">p1: P1</text><line style=\"stroke: #A80036; stroke-width: 1.5;\" x1=\"156\" x2=\"266\" y1=\"78.9375\" y2=\"78.9375\"/><path d=\"M162.9167,100.6589 L162.9167,109.8255 L163.8333,109.8255 L163.8333,100.6589 M166.5833,100.6589 L166.5833,109.8255 L173.9167,105.2422 L166.5833,100.6589 L167.5,102.0339 L172.5417,105.2422 L167.5,108.4505 L167.5,102.0339 \" fill=\"#000000\" style=\"stroke: ; stroke-width: 0.0; stroke-dasharray: ;\"/><text fill=\"#000000\" font-family=\"sans-serif\" font-size=\"11\" lengthAdjust=\"spacingAndGlyphs\" textLength=\"21\" x=\"178\" y=\"110.8979\">po1</text><text fill=\"#000000\" font-family=\"sans-serif\" font-size=\"11\" lengthAdjust=\"spacingAndGlyphs\" text-decoration=\"line-through\" textLength=\"58\" x=\"203\" y=\"110.8979\">P1::porig1</text><line style=\"stroke: #A80036; stroke-width: 1.0;\" x1=\"156\" x2=\"196\" y1=\"93.3398\" y2=\"93.3398\"/><text fill=\"#000000\" font-family=\"sans-serif\" font-size=\"11\" lengthAdjust=\"spacingAndGlyphs\" textLength=\"30\" x=\"196\" y=\"96.6479\">ports</text><line style=\"stroke: #A80036; stroke-width: 1.0;\" x1=\"226\" x2=\"266\" y1=\"93.3398\" y2=\"93.3398\"/></a><!--MD5=[60a26617385b1d2d0262a64233df1f8d]\n",
       "class E6--><a href=\"psysml:28be41ac-7d51-495b-a80e-46db5ea96230\" target=\"_top\" title=\"psysml:28be41ac-7d51-495b-a80e-46db5ea96230\" xlink:actuate=\"onRequest\" xlink:href=\"psysml:28be41ac-7d51-495b-a80e-46db5ea96230\" xlink:show=\"new\" xlink:title=\"psysml:28be41ac-7d51-495b-a80e-46db5ea96230\" xlink:type=\"simple\"><rect fill=\"#FEFECE\" filter=\"url(#f1q2k1n03ug5gj)\" height=\"75.5469\" id=\"E6\" rx=\"10\" ry=\"10\" style=\"stroke: #A80036; stroke-width: 1.5;\" width=\"88\" x=\"32\" y=\"41\"/><text fill=\"#000000\" font-family=\"sans-serif\" font-size=\"12\" font-style=\"italic\" lengthAdjust=\"spacingAndGlyphs\" textLength=\"40\" x=\"56\" y=\"57.1387\">«part»</text><text fill=\"#000000\" font-family=\"sans-serif\" font-size=\"12\" lengthAdjust=\"spacingAndGlyphs\" textLength=\"40\" x=\"56\" y=\"71.1074\">p2: P1</text><line style=\"stroke: #A80036; stroke-width: 1.5;\" x1=\"33\" x2=\"119\" y1=\"78.9375\" y2=\"78.9375\"/><text fill=\"#000000\" font-family=\"sans-serif\" font-size=\"11\" lengthAdjust=\"spacingAndGlyphs\" textLength=\"32\" x=\"38\" y=\"109.9526\">pdest</text><text fill=\"#000000\" font-family=\"sans-serif\" font-size=\"11\" font-weight=\"bold\" lengthAdjust=\"spacingAndGlyphs\" textLength=\"15\" x=\"74\" y=\"109.9526\">as</text><text fill=\"#000000\" font-family=\"sans-serif\" font-size=\"11\" lengthAdjust=\"spacingAndGlyphs\" textLength=\"21\" x=\"93\" y=\"109.9526\">pd1</text><line style=\"stroke: #A80036; stroke-width: 1.0;\" x1=\"33\" x2=\"61\" y1=\"93.3398\" y2=\"93.3398\"/><text fill=\"#000000\" font-family=\"sans-serif\" font-size=\"11\" lengthAdjust=\"spacingAndGlyphs\" textLength=\"30\" x=\"61\" y=\"96.6479\">ports</text><line style=\"stroke: #A80036; stroke-width: 1.0;\" x1=\"91\" x2=\"119\" y1=\"93.3398\" y2=\"93.3398\"/></a><!--MD5=[185131fc0dcab0a4505a2ebe144e961b]\n",
       "link E4 to E2--><a href=\"psysml:8ce18664-e29b-46f0-97c0-4b398d523e7c\" target=\"_top\" title=\"psysml:8ce18664-e29b-46f0-97c0-4b398d523e7c\" xlink:actuate=\"onRequest\" xlink:href=\"psysml:8ce18664-e29b-46f0-97c0-4b398d523e7c\" xlink:show=\"new\" xlink:title=\"psysml:8ce18664-e29b-46f0-97c0-4b398d523e7c\" xlink:type=\"simple\"><path d=\"M192.34,117.33 C185.95,130.1 178.66,144.69 171.71,158.58 \" fill=\"none\" id=\"E4-&gt;E2\" style=\"stroke: #A80036; stroke-width: 1.0;\"/><polygon fill=\"#FFFFFF\" points=\"162.56,176.87,164.8089,156.7468,177.3269,163.0158,162.56,176.87\" style=\"stroke: #A80036; stroke-width: 1.0;\"/><ellipse cx=\"169.1496\" cy=\"152.5458\" fill=\"#A80036\" rx=\"2\" ry=\"2\" style=\"stroke: #A80036; stroke-width: 1.0;\"/><ellipse cx=\"178.091\" cy=\"157.0236\" fill=\"#A80036\" rx=\"2\" ry=\"2\" style=\"stroke: #A80036; stroke-width: 1.0;\"/></a><!--MD5=[2351f337d6de0f557b50152ba70847b5]\n",
       "link E6 to E2--><a href=\"psysml:aea9633f-bca5-4d9c-866d-d7db5d7aa3e2\" target=\"_top\" title=\"psysml:aea9633f-bca5-4d9c-866d-d7db5d7aa3e2\" xlink:actuate=\"onRequest\" xlink:href=\"psysml:aea9633f-bca5-4d9c-866d-d7db5d7aa3e2\" xlink:show=\"new\" xlink:title=\"psysml:aea9633f-bca5-4d9c-866d-d7db5d7aa3e2\" xlink:type=\"simple\"><path d=\"M94.94,117.33 C101.43,130.1 108.83,144.69 115.88,158.58 \" fill=\"none\" id=\"E6-&gt;E2\" style=\"stroke: #A80036; stroke-width: 1.0;\"/><polygon fill=\"#FFFFFF\" points=\"125.16,176.87,110.3137,163.101,122.7954,156.7601,125.16,176.87\" style=\"stroke: #A80036; stroke-width: 1.0;\"/><ellipse cx=\"109.5151\" cy=\"157.1133\" fill=\"#A80036\" rx=\"2\" ry=\"2\" style=\"stroke: #A80036; stroke-width: 1.0;\"/><ellipse cx=\"118.4306\" cy=\"152.5841\" fill=\"#A80036\" rx=\"2\" ry=\"2\" style=\"stroke: #A80036; stroke-width: 1.0;\"/></a><!--MD5=[cc3ea008a5fb0d714a47620488de4be4]\n",
       "@startuml\r\n",
       "skinparam wrapWidth 300\r\n",
       "hide circle\r\n",
       "\r\n",
       "package \"AliasTest\" as E1  [[psysml:d6640503-c03f-477e-b125-432046bb93b4 ]]  {\r\n",
       "comp def \"P1\" as E2  <<(T,blue)part def>> [[psysml:4a06ff05-02b9-4148-90d6-f5221b7c40f0 ]] {\r\n",
       "- - ports - -\r\n",
       "porig1 <b>as</b> po1 \r\n",
       "}\r\n",
       "comp usage \"p1: P1\" as E4  <<(T,blue)part>> [[psysml:9ecf2706-3ec0-4307-8293-70ef42ab2608 ]] {\r\n",
       "- - ports - -\r\n",
       "<&bar-trig> po1 <s>P1::porig1</s>\r\n",
       "}\r\n",
       "comp usage \"p2: P1\" as E6  <<(T,blue)part>> [[psysml:28be41ac-7d51-495b-a80e-46db5ea96230 ]] {\r\n",
       "- - ports - -\r\n",
       "pdest <b>as</b> pd1 \r\n",
       "}\r\n",
       "E4 - -:|> E2 [[psysml:8ce18664-e29b-46f0-97c0-4b398d523e7c ]] \r\n",
       "E6 - -:|> E2 [[psysml:aea9633f-bca5-4d9c-866d-d7db5d7aa3e2 ]] \r\n",
       "}\r\n",
       "@enduml\r\n",
       "\n",
       "PlantUML version 1.2020.13(Sat Jun 13 12:26:38 UTC 2020)\n",
       "(EPL source distribution)\n",
       "Java Runtime: OpenJDK Runtime Environment\n",
       "JVM: OpenJDK 64-Bit Server VM\n",
       "Default Encoding: UTF-8\n",
       "Language: en\n",
       "Country: null\n",
       "--></g></svg>"
      ]
     },
     "execution_count": 29,
     "metadata": {},
     "output_type": "execute_result"
    }
   ],
   "source": [
    "%viz --style=\"STDCOLOR\" --view=\"MIXED\" \"AliasTest\""
   ]
  },
  {
   "cell_type": "code",
   "execution_count": 30,
   "id": "latter-decimal",
   "metadata": {
    "execution": {
     "iopub.execute_input": "2021-03-25T13:15:23.742448Z",
     "iopub.status.busy": "2021-03-25T13:15:23.741902Z",
     "iopub.status.idle": "2021-03-25T13:15:24.397634Z",
     "shell.execute_reply": "2021-03-25T13:15:24.398086Z"
    }
   },
   "outputs": [
    {
     "data": {
      "image/svg+xml": [
       "<?xml version=\"1.0\" encoding=\"UTF-8\" standalone=\"no\"?><svg xmlns=\"http://www.w3.org/2000/svg\" xmlns:xlink=\"http://www.w3.org/1999/xlink\" contentScriptType=\"application/ecmascript\" contentStyleType=\"text/css\" height=\"287px\" preserveAspectRatio=\"none\" style=\"width:285px;height:287px;\" version=\"1.1\" viewBox=\"0 0 285 287\" width=\"285px\" zoomAndPan=\"magnify\"><defs><filter height=\"300%\" id=\"f14o3qb2445s0s\" width=\"300%\" x=\"-1\" y=\"-1\"><feGaussianBlur result=\"blurOut\" stdDeviation=\"2.0\"/><feColorMatrix in=\"blurOut\" result=\"blurOut2\" type=\"matrix\" values=\"0 0 0 0 0 0 0 0 0 0 0 0 0 0 0 0 0 0 .4 0\"/><feOffset dx=\"4.0\" dy=\"4.0\" in=\"blurOut2\" result=\"blurOut3\"/><feBlend in=\"SourceGraphic\" in2=\"blurOut3\" mode=\"normal\"/></filter></defs><g><!--MD5=[fbc87193dbaf4d95561dea2c320d4a47]\n",
       "cluster E1--><a href=\"psysml:d6640503-c03f-477e-b125-432046bb93b4\" target=\"_top\" title=\"psysml:d6640503-c03f-477e-b125-432046bb93b4\" xlink:actuate=\"onRequest\" xlink:href=\"psysml:d6640503-c03f-477e-b125-432046bb93b4\" xlink:show=\"new\" xlink:title=\"psysml:d6640503-c03f-477e-b125-432046bb93b4\" xlink:type=\"simple\"><polygon fill=\"#FFFFFF\" filter=\"url(#f14o3qb2445s0s)\" points=\"16,6,94,6,101,28.2969,263,28.2969,263,275,16,275,16,6\" style=\"stroke: #000000; stroke-width: 1.5;\"/><line style=\"stroke: #000000; stroke-width: 1.5;\" x1=\"16\" x2=\"101\" y1=\"28.2969\" y2=\"28.2969\"/><text fill=\"#000000\" font-family=\"sans-serif\" font-size=\"14\" font-weight=\"bold\" lengthAdjust=\"spacingAndGlyphs\" textLength=\"72\" x=\"20\" y=\"20.9951\">AliasTest</text></a><!--MD5=[b4997ac47864f28c2f74865a473b2911]\n",
       "class E2--><a href=\"psysml:4a06ff05-02b9-4148-90d6-f5221b7c40f0\" target=\"_top\" title=\"psysml:4a06ff05-02b9-4148-90d6-f5221b7c40f0\" xlink:actuate=\"onRequest\" xlink:href=\"psysml:4a06ff05-02b9-4148-90d6-f5221b7c40f0\" xlink:show=\"new\" xlink:title=\"psysml:4a06ff05-02b9-4148-90d6-f5221b7c40f0\" xlink:type=\"simple\"><rect fill=\"#FEFECE\" filter=\"url(#f14o3qb2445s0s)\" height=\"69.6094\" id=\"E2\" style=\"stroke: #A80036; stroke-width: 1.5;\" width=\"92\" x=\"93\" y=\"189\"/><ellipse cx=\"127.8\" cy=\"205\" fill=\"#008000\" rx=\"11\" ry=\"11\" style=\"stroke: #A80036; stroke-width: 1.0;\"/><path d=\"M126.7063,205.375 L126.7063,209.0469 L128.3313,209.0469 Q129.5031,209.0469 129.9719,208.6563 Q130.4406,208.25 130.4406,207.25 Q130.4406,206.25 129.9406,205.8125 Q129.4563,205.375 128.3313,205.375 L126.7063,205.375 Z M126.7063,200.5469 L126.7063,203.4219 L128.3313,203.4219 Q129.2531,203.4219 129.6438,203.0938 Q130.05,202.75 130.05,202 Q130.05,201.2344 129.6438,200.8906 Q129.2375,200.5469 128.3313,200.5469 L126.7063,200.5469 Z M124.3313,198.5938 L128.3313,198.5938 Q130.3938,198.5938 131.4406,199.375 Q132.4875,200.1563 132.4875,201.7188 Q132.4875,202.9219 131.8625,203.5938 Q131.2531,204.2656 130.0656,204.375 Q131.4875,204.5156 132.2063,205.3281 Q132.925,206.1406 132.925,207.5938 Q132.925,209.3906 131.8469,210.2031 Q130.7688,211 128.3313,211 L124.3313,211 L124.3313,198.5938 Z \"/><text fill=\"#000000\" font-family=\"sans-serif\" font-size=\"12\" lengthAdjust=\"spacingAndGlyphs\" textLength=\"16\" x=\"146.2\" y=\"209.1543\">P1</text><line style=\"stroke: #A80036; stroke-width: 1.5;\" x1=\"94\" x2=\"184\" y1=\"221\" y2=\"221\"/><text fill=\"#000000\" font-family=\"sans-serif\" font-size=\"11\" lengthAdjust=\"spacingAndGlyphs\" textLength=\"36\" x=\"99\" y=\"252.0151\">porig1</text><text fill=\"#000000\" font-family=\"sans-serif\" font-size=\"11\" font-weight=\"bold\" lengthAdjust=\"spacingAndGlyphs\" textLength=\"15\" x=\"139\" y=\"252.0151\">as</text><text fill=\"#000000\" font-family=\"sans-serif\" font-size=\"11\" lengthAdjust=\"spacingAndGlyphs\" textLength=\"21\" x=\"158\" y=\"252.0151\">po1</text><line style=\"stroke: #A80036; stroke-width: 1.0;\" x1=\"94\" x2=\"124\" y1=\"235.4023\" y2=\"235.4023\"/><text fill=\"#000000\" font-family=\"sans-serif\" font-size=\"11\" lengthAdjust=\"spacingAndGlyphs\" textLength=\"30\" x=\"124\" y=\"238.7104\">ports</text><line style=\"stroke: #A80036; stroke-width: 1.0;\" x1=\"154\" x2=\"184\" y1=\"235.4023\" y2=\"235.4023\"/></a><!--MD5=[ebbe1d658d1005bcc118a6aa81145e00]\n",
       "class E4--><a href=\"psysml:9ecf2706-3ec0-4307-8293-70ef42ab2608\" target=\"_top\" title=\"psysml:9ecf2706-3ec0-4307-8293-70ef42ab2608\" xlink:actuate=\"onRequest\" xlink:href=\"psysml:9ecf2706-3ec0-4307-8293-70ef42ab2608\" xlink:show=\"new\" xlink:title=\"psysml:9ecf2706-3ec0-4307-8293-70ef42ab2608\" xlink:type=\"simple\"><rect fill=\"#FEFECE\" filter=\"url(#f14o3qb2445s0s)\" height=\"88.3516\" id=\"E4\" rx=\"10\" ry=\"10\" style=\"stroke: #A80036; stroke-width: 1.5;\" width=\"92\" x=\"155\" y=\"41\"/><ellipse cx=\"179\" cy=\"59.9688\" fill=\"#32CD32\" rx=\"11\" ry=\"11\" style=\"stroke: #A80036; stroke-width: 1.0;\"/><path d=\"M178.7969,55.6406 L178.7969,59.2656 L179.7969,59.2656 Q181,59.2656 181.4844,58.8594 Q181.9688,58.4531 181.9688,57.4531 Q181.9688,56.4531 181.4844,56.0469 Q181,55.6406 179.7969,55.6406 L178.7969,55.6406 Z M176.3438,53.5781 L179.7031,53.5781 Q182.2656,53.5781 183.3906,54.5 Q184.5156,55.4063 184.5156,57.4531 Q184.5156,59.5 183.3906,60.4219 Q182.2656,61.3281 179.7031,61.3281 L178.7969,61.3281 L178.7969,65.9688 L176.3438,65.9688 L176.3438,53.5781 Z \"/><text fill=\"#000000\" font-family=\"sans-serif\" font-size=\"12\" font-style=\"italic\" lengthAdjust=\"spacingAndGlyphs\" textLength=\"40\" x=\"195\" y=\"57.1387\">«part»</text><text fill=\"#000000\" font-family=\"sans-serif\" font-size=\"12\" lengthAdjust=\"spacingAndGlyphs\" textLength=\"40\" x=\"195\" y=\"71.1074\">p1: P1</text><line style=\"stroke: #A80036; stroke-width: 1.5;\" x1=\"156\" x2=\"246\" y1=\"78.9375\" y2=\"78.9375\"/><text fill=\"#000000\" font-family=\"sans-serif\" font-size=\"11\" lengthAdjust=\"spacingAndGlyphs\" textLength=\"21\" x=\"161\" y=\"109.9526\">po1</text><text fill=\"#000000\" font-family=\"sans-serif\" font-size=\"11\" font-style=\"italic\" lengthAdjust=\"spacingAndGlyphs\" textLength=\"80\" x=\"161\" y=\"122.7573\">:&gt;&gt;P1::porig1</text><line style=\"stroke: #A80036; stroke-width: 1.0;\" x1=\"156\" x2=\"186\" y1=\"93.3398\" y2=\"93.3398\"/><text fill=\"#000000\" font-family=\"sans-serif\" font-size=\"11\" lengthAdjust=\"spacingAndGlyphs\" textLength=\"30\" x=\"186\" y=\"96.6479\">ports</text><line style=\"stroke: #A80036; stroke-width: 1.0;\" x1=\"216\" x2=\"246\" y1=\"93.3398\" y2=\"93.3398\"/></a><!--MD5=[60a26617385b1d2d0262a64233df1f8d]\n",
       "class E6--><a href=\"psysml:28be41ac-7d51-495b-a80e-46db5ea96230\" target=\"_top\" title=\"psysml:28be41ac-7d51-495b-a80e-46db5ea96230\" xlink:actuate=\"onRequest\" xlink:href=\"psysml:28be41ac-7d51-495b-a80e-46db5ea96230\" xlink:show=\"new\" xlink:title=\"psysml:28be41ac-7d51-495b-a80e-46db5ea96230\" xlink:type=\"simple\"><rect fill=\"#FEFECE\" filter=\"url(#f14o3qb2445s0s)\" height=\"75.5469\" id=\"E6\" rx=\"10\" ry=\"10\" style=\"stroke: #A80036; stroke-width: 1.5;\" width=\"88\" x=\"32\" y=\"47\"/><ellipse cx=\"54.2\" cy=\"65.9688\" fill=\"#32CD32\" rx=\"11\" ry=\"11\" style=\"stroke: #A80036; stroke-width: 1.0;\"/><path d=\"M53.9969,61.6406 L53.9969,65.2656 L54.9969,65.2656 Q56.2,65.2656 56.6844,64.8594 Q57.1688,64.4531 57.1688,63.4531 Q57.1688,62.4531 56.6844,62.0469 Q56.2,61.6406 54.9969,61.6406 L53.9969,61.6406 Z M51.5438,59.5781 L54.9031,59.5781 Q57.4656,59.5781 58.5906,60.5 Q59.7156,61.4063 59.7156,63.4531 Q59.7156,65.5 58.5906,66.4219 Q57.4656,67.3281 54.9031,67.3281 L53.9969,67.3281 L53.9969,71.9688 L51.5438,71.9688 L51.5438,59.5781 Z \"/><text fill=\"#000000\" font-family=\"sans-serif\" font-size=\"12\" font-style=\"italic\" lengthAdjust=\"spacingAndGlyphs\" textLength=\"40\" x=\"69.8\" y=\"63.1387\">«part»</text><text fill=\"#000000\" font-family=\"sans-serif\" font-size=\"12\" lengthAdjust=\"spacingAndGlyphs\" textLength=\"40\" x=\"69.8\" y=\"77.1074\">p2: P1</text><line style=\"stroke: #A80036; stroke-width: 1.5;\" x1=\"33\" x2=\"119\" y1=\"84.9375\" y2=\"84.9375\"/><text fill=\"#000000\" font-family=\"sans-serif\" font-size=\"11\" lengthAdjust=\"spacingAndGlyphs\" textLength=\"32\" x=\"38\" y=\"115.9526\">pdest</text><text fill=\"#000000\" font-family=\"sans-serif\" font-size=\"11\" font-weight=\"bold\" lengthAdjust=\"spacingAndGlyphs\" textLength=\"15\" x=\"74\" y=\"115.9526\">as</text><text fill=\"#000000\" font-family=\"sans-serif\" font-size=\"11\" lengthAdjust=\"spacingAndGlyphs\" textLength=\"21\" x=\"93\" y=\"115.9526\">pd1</text><line style=\"stroke: #A80036; stroke-width: 1.0;\" x1=\"33\" x2=\"61\" y1=\"99.3398\" y2=\"99.3398\"/><text fill=\"#000000\" font-family=\"sans-serif\" font-size=\"11\" lengthAdjust=\"spacingAndGlyphs\" textLength=\"30\" x=\"61\" y=\"102.6479\">ports</text><line style=\"stroke: #A80036; stroke-width: 1.0;\" x1=\"91\" x2=\"119\" y1=\"99.3398\" y2=\"99.3398\"/></a><!--MD5=[185131fc0dcab0a4505a2ebe144e961b]\n",
       "link E4 to E2--><a href=\"psysml:8ce18664-e29b-46f0-97c0-4b398d523e7c\" target=\"_top\" title=\"psysml:8ce18664-e29b-46f0-97c0-4b398d523e7c\" xlink:actuate=\"onRequest\" xlink:href=\"psysml:8ce18664-e29b-46f0-97c0-4b398d523e7c\" xlink:show=\"new\" xlink:title=\"psysml:8ce18664-e29b-46f0-97c0-4b398d523e7c\" xlink:type=\"simple\"><path d=\"M181.38,129.35 C175.5,142.35 168.98,156.75 162.86,170.29 \" fill=\"none\" id=\"E4-&gt;E2\" style=\"stroke: #A80036; stroke-width: 1.0;\"/><polygon fill=\"#FFFFFF\" points=\"154.57,188.61,156.0203,168.4135,168.7767,174.1819,154.57,188.61\" style=\"stroke: #A80036; stroke-width: 1.0;\"/><ellipse cx=\"160.1912\" cy=\"164.0439\" fill=\"#A80036\" rx=\"2\" ry=\"2\" style=\"stroke: #A80036; stroke-width: 1.0;\"/><ellipse cx=\"169.3029\" cy=\"168.1642\" fill=\"#A80036\" rx=\"2\" ry=\"2\" style=\"stroke: #A80036; stroke-width: 1.0;\"/></a><!--MD5=[2351f337d6de0f557b50152ba70847b5]\n",
       "link E6 to E2--><a href=\"psysml:aea9633f-bca5-4d9c-866d-d7db5d7aa3e2\" target=\"_top\" title=\"psysml:aea9633f-bca5-4d9c-866d-d7db5d7aa3e2\" xlink:actuate=\"onRequest\" xlink:href=\"psysml:aea9633f-bca5-4d9c-866d-d7db5d7aa3e2\" xlink:show=\"new\" xlink:title=\"psysml:aea9633f-bca5-4d9c-866d-d7db5d7aa3e2\" xlink:type=\"simple\"><path d=\"M93.05,123.07 C99.73,137.61 107.53,154.55 114.77,170.32 \" fill=\"none\" id=\"E6-&gt;E2\" style=\"stroke: #A80036; stroke-width: 1.0;\"/><polygon fill=\"#FFFFFF\" points=\"123.24,188.72,108.9415,174.3829,121.6608,168.5332,123.24,188.72\" style=\"stroke: #A80036; stroke-width: 1.0;\"/><ellipse cx=\"108.3769\" cy=\"168.3687\" fill=\"#A80036\" rx=\"2\" ry=\"2\" style=\"stroke: #A80036; stroke-width: 1.0;\"/><ellipse cx=\"117.4621\" cy=\"164.1903\" fill=\"#A80036\" rx=\"2\" ry=\"2\" style=\"stroke: #A80036; stroke-width: 1.0;\"/></a><!--MD5=[e994bb99311eed273f9a941d8c17c39d]\n",
       "@startuml\r\n",
       " \r\n",
       "package \"AliasTest\" as E1  [[psysml:d6640503-c03f-477e-b125-432046bb93b4 ]]  {\r\n",
       "comp def \"P1\" as E2  << (B,green) >> [[psysml:4a06ff05-02b9-4148-90d6-f5221b7c40f0 ]] {\r\n",
       "- - ports - -\r\n",
       "porig1 <b>as</b> po1 \r\n",
       "}\r\n",
       "comp usage \"p1: P1\" as E4  << (P,limegreen) part>> [[psysml:9ecf2706-3ec0-4307-8293-70ef42ab2608 ]] {\r\n",
       "- - ports - -\r\n",
       "po1\\n//:>>P1::porig1// \r\n",
       "}\r\n",
       "comp usage \"p2: P1\" as E6  << (P,limegreen) part>> [[psysml:28be41ac-7d51-495b-a80e-46db5ea96230 ]] {\r\n",
       "- - ports - -\r\n",
       "pdest <b>as</b> pd1 \r\n",
       "}\r\n",
       "E4 - -:|> E2 [[psysml:8ce18664-e29b-46f0-97c0-4b398d523e7c ]] \r\n",
       "E6 - -:|> E2 [[psysml:aea9633f-bca5-4d9c-866d-d7db5d7aa3e2 ]] \r\n",
       "}\r\n",
       "@enduml\r\n",
       "\n",
       "PlantUML version 1.2020.13(Sat Jun 13 12:26:38 UTC 2020)\n",
       "(EPL source distribution)\n",
       "Java Runtime: OpenJDK Runtime Environment\n",
       "JVM: OpenJDK 64-Bit Server VM\n",
       "Default Encoding: UTF-8\n",
       "Language: en\n",
       "Country: null\n",
       "--></g></svg>"
      ]
     },
     "execution_count": 30,
     "metadata": {},
     "output_type": "execute_result"
    }
   ],
   "source": [
    "%viz --style=\"PLANTUML\" --view=\"Default\" \"AliasTest\""
   ]
  },
  {
   "cell_type": "code",
   "execution_count": 31,
   "id": "outside-wireless",
   "metadata": {
    "execution": {
     "iopub.execute_input": "2021-03-25T13:15:24.448607Z",
     "iopub.status.busy": "2021-03-25T13:15:24.448085Z",
     "iopub.status.idle": "2021-03-25T13:15:25.064852Z",
     "shell.execute_reply": "2021-03-25T13:15:25.063237Z"
    }
   },
   "outputs": [
    {
     "data": {
      "image/svg+xml": [
       "<?xml version=\"1.0\" encoding=\"UTF-8\" standalone=\"no\"?><svg xmlns=\"http://www.w3.org/2000/svg\" xmlns:xlink=\"http://www.w3.org/1999/xlink\" contentScriptType=\"application/ecmascript\" contentStyleType=\"text/css\" height=\"287px\" preserveAspectRatio=\"none\" style=\"width:285px;height:287px;\" version=\"1.1\" viewBox=\"0 0 285 287\" width=\"285px\" zoomAndPan=\"magnify\"><defs><filter height=\"300%\" id=\"f14o3qb2445s0s\" width=\"300%\" x=\"-1\" y=\"-1\"><feGaussianBlur result=\"blurOut\" stdDeviation=\"2.0\"/><feColorMatrix in=\"blurOut\" result=\"blurOut2\" type=\"matrix\" values=\"0 0 0 0 0 0 0 0 0 0 0 0 0 0 0 0 0 0 .4 0\"/><feOffset dx=\"4.0\" dy=\"4.0\" in=\"blurOut2\" result=\"blurOut3\"/><feBlend in=\"SourceGraphic\" in2=\"blurOut3\" mode=\"normal\"/></filter></defs><g><!--MD5=[fbc87193dbaf4d95561dea2c320d4a47]\n",
       "cluster E1--><a href=\"psysml:d6640503-c03f-477e-b125-432046bb93b4\" target=\"_top\" title=\"psysml:d6640503-c03f-477e-b125-432046bb93b4\" xlink:actuate=\"onRequest\" xlink:href=\"psysml:d6640503-c03f-477e-b125-432046bb93b4\" xlink:show=\"new\" xlink:title=\"psysml:d6640503-c03f-477e-b125-432046bb93b4\" xlink:type=\"simple\"><polygon fill=\"#FFFFFF\" filter=\"url(#f14o3qb2445s0s)\" points=\"16,6,94,6,101,28.2969,263,28.2969,263,275,16,275,16,6\" style=\"stroke: #000000; stroke-width: 1.5;\"/><line style=\"stroke: #000000; stroke-width: 1.5;\" x1=\"16\" x2=\"101\" y1=\"28.2969\" y2=\"28.2969\"/><text fill=\"#000000\" font-family=\"sans-serif\" font-size=\"14\" font-weight=\"bold\" lengthAdjust=\"spacingAndGlyphs\" textLength=\"72\" x=\"20\" y=\"20.9951\">AliasTest</text></a><!--MD5=[b4997ac47864f28c2f74865a473b2911]\n",
       "class E2--><a href=\"psysml:4a06ff05-02b9-4148-90d6-f5221b7c40f0\" target=\"_top\" title=\"psysml:4a06ff05-02b9-4148-90d6-f5221b7c40f0\" xlink:actuate=\"onRequest\" xlink:href=\"psysml:4a06ff05-02b9-4148-90d6-f5221b7c40f0\" xlink:show=\"new\" xlink:title=\"psysml:4a06ff05-02b9-4148-90d6-f5221b7c40f0\" xlink:type=\"simple\"><rect fill=\"#FEFECE\" filter=\"url(#f14o3qb2445s0s)\" height=\"69.6094\" id=\"E2\" style=\"stroke: #A80036; stroke-width: 1.5;\" width=\"92\" x=\"93\" y=\"189\"/><ellipse cx=\"127.8\" cy=\"205\" fill=\"#008000\" rx=\"11\" ry=\"11\" style=\"stroke: #A80036; stroke-width: 1.0;\"/><path d=\"M126.7063,205.375 L126.7063,209.0469 L128.3313,209.0469 Q129.5031,209.0469 129.9719,208.6563 Q130.4406,208.25 130.4406,207.25 Q130.4406,206.25 129.9406,205.8125 Q129.4563,205.375 128.3313,205.375 L126.7063,205.375 Z M126.7063,200.5469 L126.7063,203.4219 L128.3313,203.4219 Q129.2531,203.4219 129.6438,203.0938 Q130.05,202.75 130.05,202 Q130.05,201.2344 129.6438,200.8906 Q129.2375,200.5469 128.3313,200.5469 L126.7063,200.5469 Z M124.3313,198.5938 L128.3313,198.5938 Q130.3938,198.5938 131.4406,199.375 Q132.4875,200.1563 132.4875,201.7188 Q132.4875,202.9219 131.8625,203.5938 Q131.2531,204.2656 130.0656,204.375 Q131.4875,204.5156 132.2063,205.3281 Q132.925,206.1406 132.925,207.5938 Q132.925,209.3906 131.8469,210.2031 Q130.7688,211 128.3313,211 L124.3313,211 L124.3313,198.5938 Z \"/><text fill=\"#000000\" font-family=\"sans-serif\" font-size=\"12\" lengthAdjust=\"spacingAndGlyphs\" textLength=\"16\" x=\"146.2\" y=\"209.1543\">P1</text><line style=\"stroke: #A80036; stroke-width: 1.5;\" x1=\"94\" x2=\"184\" y1=\"221\" y2=\"221\"/><text fill=\"#000000\" font-family=\"sans-serif\" font-size=\"11\" lengthAdjust=\"spacingAndGlyphs\" textLength=\"36\" x=\"99\" y=\"252.0151\">porig1</text><text fill=\"#000000\" font-family=\"sans-serif\" font-size=\"11\" font-weight=\"bold\" lengthAdjust=\"spacingAndGlyphs\" textLength=\"15\" x=\"139\" y=\"252.0151\">as</text><text fill=\"#000000\" font-family=\"sans-serif\" font-size=\"11\" lengthAdjust=\"spacingAndGlyphs\" textLength=\"21\" x=\"158\" y=\"252.0151\">po1</text><line style=\"stroke: #A80036; stroke-width: 1.0;\" x1=\"94\" x2=\"124\" y1=\"235.4023\" y2=\"235.4023\"/><text fill=\"#000000\" font-family=\"sans-serif\" font-size=\"11\" lengthAdjust=\"spacingAndGlyphs\" textLength=\"30\" x=\"124\" y=\"238.7104\">ports</text><line style=\"stroke: #A80036; stroke-width: 1.0;\" x1=\"154\" x2=\"184\" y1=\"235.4023\" y2=\"235.4023\"/></a><!--MD5=[ebbe1d658d1005bcc118a6aa81145e00]\n",
       "class E4--><a href=\"psysml:9ecf2706-3ec0-4307-8293-70ef42ab2608\" target=\"_top\" title=\"psysml:9ecf2706-3ec0-4307-8293-70ef42ab2608\" xlink:actuate=\"onRequest\" xlink:href=\"psysml:9ecf2706-3ec0-4307-8293-70ef42ab2608\" xlink:show=\"new\" xlink:title=\"psysml:9ecf2706-3ec0-4307-8293-70ef42ab2608\" xlink:type=\"simple\"><rect fill=\"#FEFECE\" filter=\"url(#f14o3qb2445s0s)\" height=\"88.3516\" id=\"E4\" rx=\"10\" ry=\"10\" style=\"stroke: #A80036; stroke-width: 1.5;\" width=\"92\" x=\"155\" y=\"41\"/><ellipse cx=\"179\" cy=\"59.9688\" fill=\"#32CD32\" rx=\"11\" ry=\"11\" style=\"stroke: #A80036; stroke-width: 1.0;\"/><path d=\"M178.7969,55.6406 L178.7969,59.2656 L179.7969,59.2656 Q181,59.2656 181.4844,58.8594 Q181.9688,58.4531 181.9688,57.4531 Q181.9688,56.4531 181.4844,56.0469 Q181,55.6406 179.7969,55.6406 L178.7969,55.6406 Z M176.3438,53.5781 L179.7031,53.5781 Q182.2656,53.5781 183.3906,54.5 Q184.5156,55.4063 184.5156,57.4531 Q184.5156,59.5 183.3906,60.4219 Q182.2656,61.3281 179.7031,61.3281 L178.7969,61.3281 L178.7969,65.9688 L176.3438,65.9688 L176.3438,53.5781 Z \"/><text fill=\"#000000\" font-family=\"sans-serif\" font-size=\"12\" font-style=\"italic\" lengthAdjust=\"spacingAndGlyphs\" textLength=\"40\" x=\"195\" y=\"57.1387\">«part»</text><text fill=\"#000000\" font-family=\"sans-serif\" font-size=\"12\" lengthAdjust=\"spacingAndGlyphs\" textLength=\"40\" x=\"195\" y=\"71.1074\">p1: P1</text><line style=\"stroke: #A80036; stroke-width: 1.5;\" x1=\"156\" x2=\"246\" y1=\"78.9375\" y2=\"78.9375\"/><text fill=\"#000000\" font-family=\"sans-serif\" font-size=\"11\" lengthAdjust=\"spacingAndGlyphs\" textLength=\"21\" x=\"161\" y=\"109.9526\">po1</text><text fill=\"#000000\" font-family=\"sans-serif\" font-size=\"11\" font-style=\"italic\" lengthAdjust=\"spacingAndGlyphs\" textLength=\"80\" x=\"161\" y=\"122.7573\">:&gt;&gt;P1::porig1</text><line style=\"stroke: #A80036; stroke-width: 1.0;\" x1=\"156\" x2=\"186\" y1=\"93.3398\" y2=\"93.3398\"/><text fill=\"#000000\" font-family=\"sans-serif\" font-size=\"11\" lengthAdjust=\"spacingAndGlyphs\" textLength=\"30\" x=\"186\" y=\"96.6479\">ports</text><line style=\"stroke: #A80036; stroke-width: 1.0;\" x1=\"216\" x2=\"246\" y1=\"93.3398\" y2=\"93.3398\"/></a><!--MD5=[60a26617385b1d2d0262a64233df1f8d]\n",
       "class E6--><a href=\"psysml:28be41ac-7d51-495b-a80e-46db5ea96230\" target=\"_top\" title=\"psysml:28be41ac-7d51-495b-a80e-46db5ea96230\" xlink:actuate=\"onRequest\" xlink:href=\"psysml:28be41ac-7d51-495b-a80e-46db5ea96230\" xlink:show=\"new\" xlink:title=\"psysml:28be41ac-7d51-495b-a80e-46db5ea96230\" xlink:type=\"simple\"><rect fill=\"#FEFECE\" filter=\"url(#f14o3qb2445s0s)\" height=\"75.5469\" id=\"E6\" rx=\"10\" ry=\"10\" style=\"stroke: #A80036; stroke-width: 1.5;\" width=\"88\" x=\"32\" y=\"47\"/><ellipse cx=\"54.2\" cy=\"65.9688\" fill=\"#32CD32\" rx=\"11\" ry=\"11\" style=\"stroke: #A80036; stroke-width: 1.0;\"/><path d=\"M53.9969,61.6406 L53.9969,65.2656 L54.9969,65.2656 Q56.2,65.2656 56.6844,64.8594 Q57.1688,64.4531 57.1688,63.4531 Q57.1688,62.4531 56.6844,62.0469 Q56.2,61.6406 54.9969,61.6406 L53.9969,61.6406 Z M51.5438,59.5781 L54.9031,59.5781 Q57.4656,59.5781 58.5906,60.5 Q59.7156,61.4063 59.7156,63.4531 Q59.7156,65.5 58.5906,66.4219 Q57.4656,67.3281 54.9031,67.3281 L53.9969,67.3281 L53.9969,71.9688 L51.5438,71.9688 L51.5438,59.5781 Z \"/><text fill=\"#000000\" font-family=\"sans-serif\" font-size=\"12\" font-style=\"italic\" lengthAdjust=\"spacingAndGlyphs\" textLength=\"40\" x=\"69.8\" y=\"63.1387\">«part»</text><text fill=\"#000000\" font-family=\"sans-serif\" font-size=\"12\" lengthAdjust=\"spacingAndGlyphs\" textLength=\"40\" x=\"69.8\" y=\"77.1074\">p2: P1</text><line style=\"stroke: #A80036; stroke-width: 1.5;\" x1=\"33\" x2=\"119\" y1=\"84.9375\" y2=\"84.9375\"/><text fill=\"#000000\" font-family=\"sans-serif\" font-size=\"11\" lengthAdjust=\"spacingAndGlyphs\" textLength=\"32\" x=\"38\" y=\"115.9526\">pdest</text><text fill=\"#000000\" font-family=\"sans-serif\" font-size=\"11\" font-weight=\"bold\" lengthAdjust=\"spacingAndGlyphs\" textLength=\"15\" x=\"74\" y=\"115.9526\">as</text><text fill=\"#000000\" font-family=\"sans-serif\" font-size=\"11\" lengthAdjust=\"spacingAndGlyphs\" textLength=\"21\" x=\"93\" y=\"115.9526\">pd1</text><line style=\"stroke: #A80036; stroke-width: 1.0;\" x1=\"33\" x2=\"61\" y1=\"99.3398\" y2=\"99.3398\"/><text fill=\"#000000\" font-family=\"sans-serif\" font-size=\"11\" lengthAdjust=\"spacingAndGlyphs\" textLength=\"30\" x=\"61\" y=\"102.6479\">ports</text><line style=\"stroke: #A80036; stroke-width: 1.0;\" x1=\"91\" x2=\"119\" y1=\"99.3398\" y2=\"99.3398\"/></a><!--MD5=[185131fc0dcab0a4505a2ebe144e961b]\n",
       "link E4 to E2--><a href=\"psysml:8ce18664-e29b-46f0-97c0-4b398d523e7c\" target=\"_top\" title=\"psysml:8ce18664-e29b-46f0-97c0-4b398d523e7c\" xlink:actuate=\"onRequest\" xlink:href=\"psysml:8ce18664-e29b-46f0-97c0-4b398d523e7c\" xlink:show=\"new\" xlink:title=\"psysml:8ce18664-e29b-46f0-97c0-4b398d523e7c\" xlink:type=\"simple\"><path d=\"M181.38,129.35 C175.5,142.35 168.98,156.75 162.86,170.29 \" fill=\"none\" id=\"E4-&gt;E2\" style=\"stroke: #A80036; stroke-width: 1.0;\"/><polygon fill=\"#FFFFFF\" points=\"154.57,188.61,156.0203,168.4135,168.7767,174.1819,154.57,188.61\" style=\"stroke: #A80036; stroke-width: 1.0;\"/><ellipse cx=\"160.1912\" cy=\"164.0439\" fill=\"#A80036\" rx=\"2\" ry=\"2\" style=\"stroke: #A80036; stroke-width: 1.0;\"/><ellipse cx=\"169.3029\" cy=\"168.1642\" fill=\"#A80036\" rx=\"2\" ry=\"2\" style=\"stroke: #A80036; stroke-width: 1.0;\"/></a><!--MD5=[2351f337d6de0f557b50152ba70847b5]\n",
       "link E6 to E2--><a href=\"psysml:aea9633f-bca5-4d9c-866d-d7db5d7aa3e2\" target=\"_top\" title=\"psysml:aea9633f-bca5-4d9c-866d-d7db5d7aa3e2\" xlink:actuate=\"onRequest\" xlink:href=\"psysml:aea9633f-bca5-4d9c-866d-d7db5d7aa3e2\" xlink:show=\"new\" xlink:title=\"psysml:aea9633f-bca5-4d9c-866d-d7db5d7aa3e2\" xlink:type=\"simple\"><path d=\"M93.05,123.07 C99.73,137.61 107.53,154.55 114.77,170.32 \" fill=\"none\" id=\"E6-&gt;E2\" style=\"stroke: #A80036; stroke-width: 1.0;\"/><polygon fill=\"#FFFFFF\" points=\"123.24,188.72,108.9415,174.3829,121.6608,168.5332,123.24,188.72\" style=\"stroke: #A80036; stroke-width: 1.0;\"/><ellipse cx=\"108.3769\" cy=\"168.3687\" fill=\"#A80036\" rx=\"2\" ry=\"2\" style=\"stroke: #A80036; stroke-width: 1.0;\"/><ellipse cx=\"117.4621\" cy=\"164.1903\" fill=\"#A80036\" rx=\"2\" ry=\"2\" style=\"stroke: #A80036; stroke-width: 1.0;\"/></a><!--MD5=[e994bb99311eed273f9a941d8c17c39d]\n",
       "@startuml\r\n",
       " \r\n",
       "package \"AliasTest\" as E1  [[psysml:d6640503-c03f-477e-b125-432046bb93b4 ]]  {\r\n",
       "comp def \"P1\" as E2  << (B,green) >> [[psysml:4a06ff05-02b9-4148-90d6-f5221b7c40f0 ]] {\r\n",
       "- - ports - -\r\n",
       "porig1 <b>as</b> po1 \r\n",
       "}\r\n",
       "comp usage \"p1: P1\" as E4  << (P,limegreen) part>> [[psysml:9ecf2706-3ec0-4307-8293-70ef42ab2608 ]] {\r\n",
       "- - ports - -\r\n",
       "po1\\n//:>>P1::porig1// \r\n",
       "}\r\n",
       "comp usage \"p2: P1\" as E6  << (P,limegreen) part>> [[psysml:28be41ac-7d51-495b-a80e-46db5ea96230 ]] {\r\n",
       "- - ports - -\r\n",
       "pdest <b>as</b> pd1 \r\n",
       "}\r\n",
       "E4 - -:|> E2 [[psysml:8ce18664-e29b-46f0-97c0-4b398d523e7c ]] \r\n",
       "E6 - -:|> E2 [[psysml:aea9633f-bca5-4d9c-866d-d7db5d7aa3e2 ]] \r\n",
       "}\r\n",
       "@enduml\r\n",
       "\n",
       "PlantUML version 1.2020.13(Sat Jun 13 12:26:38 UTC 2020)\n",
       "(EPL source distribution)\n",
       "Java Runtime: OpenJDK Runtime Environment\n",
       "JVM: OpenJDK 64-Bit Server VM\n",
       "Default Encoding: UTF-8\n",
       "Language: en\n",
       "Country: null\n",
       "--></g></svg>"
      ]
     },
     "execution_count": 31,
     "metadata": {},
     "output_type": "execute_result"
    }
   ],
   "source": [
    "%viz --style=\"PLANTUML\" --view=\"Tree\" \"AliasTest\""
   ]
  },
  {
   "cell_type": "code",
   "execution_count": 32,
   "id": "verified-carroll",
   "metadata": {
    "execution": {
     "iopub.execute_input": "2021-03-25T13:15:25.115952Z",
     "iopub.status.busy": "2021-03-25T13:15:25.115298Z",
     "iopub.status.idle": "2021-03-25T13:15:27.027878Z",
     "shell.execute_reply": "2021-03-25T13:15:27.026186Z"
    }
   },
   "outputs": [
    {
     "data": {
      "image/svg+xml": [
       "<?xml version=\"1.0\" encoding=\"UTF-8\" standalone=\"no\"?><svg xmlns=\"http://www.w3.org/2000/svg\" xmlns:xlink=\"http://www.w3.org/1999/xlink\" contentScriptType=\"application/ecmascript\" contentStyleType=\"text/css\" height=\"420px\" preserveAspectRatio=\"none\" style=\"width:603px;height:420px;background:#000000;\" version=\"1.1\" viewBox=\"0 0 603 420\" width=\"603px\" zoomAndPan=\"magnify\"><defs/><g><rect fill=\"#00170E\" height=\"1\" style=\"stroke: #00170E; stroke-width: 1.0;\" width=\"1\" x=\"0\" y=\"0\"/><rect fill=\"#F6C914\" height=\"58\" style=\"stroke: #F6C914; stroke-width: 1.0;\" width=\"602\" x=\"0\" y=\"0\"/><image height=\"58\" width=\"454\" x=\"1\" xlink:href=\"data:image/png;base64,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\" y=\"1\"/><rect fill=\"#FFFFFF\" height=\"205.5625\" style=\"stroke: #FFFFFF; stroke-width: 1.0;\" width=\"602\" x=\"0\" y=\"58\"/><text fill=\"#000000\" font-family=\"sans-serif\" font-size=\"12\" font-weight=\"bold\" lengthAdjust=\"spacingAndGlyphs\" textLength=\"159\" x=\"5\" y=\"74.1387\">Welcome to PlantUML!</text><text fill=\"#000000\" font-family=\"sans-serif\" font-size=\"12\" lengthAdjust=\"spacingAndGlyphs\" textLength=\"0\" x=\"9\" y=\"88.1074\"/><text fill=\"#000000\" font-family=\"sans-serif\" font-size=\"12\" lengthAdjust=\"spacingAndGlyphs\" textLength=\"293\" x=\"5\" y=\"102.0762\">If you use this software, you accept its license.</text><text fill=\"#000000\" font-family=\"sans-serif\" font-size=\"12\" lengthAdjust=\"spacingAndGlyphs\" textLength=\"107\" x=\"5\" y=\"116.0449\">(details by typing</text><text fill=\"#000000\" font-family=\"monospace\" font-size=\"12\" lengthAdjust=\"spacingAndGlyphs\" textLength=\"49\" x=\"116\" y=\"116.0449\">license</text><text fill=\"#000000\" font-family=\"sans-serif\" font-size=\"12\" lengthAdjust=\"spacingAndGlyphs\" textLength=\"56\" x=\"169\" y=\"116.0449\">keyword)</text><text fill=\"#000000\" font-family=\"sans-serif\" font-size=\"12\" lengthAdjust=\"spacingAndGlyphs\" textLength=\"0\" x=\"9\" y=\"130.0137\"/><text fill=\"#000000\" font-family=\"sans-serif\" font-size=\"12\" lengthAdjust=\"spacingAndGlyphs\" textLength=\"283\" x=\"5\" y=\"143.9824\">You can start with a simple UML Diagram like:</text><text fill=\"#000000\" font-family=\"sans-serif\" font-size=\"12\" lengthAdjust=\"spacingAndGlyphs\" textLength=\"0\" x=\"9\" y=\"157.9512\"/><text fill=\"#000000\" font-family=\"monospace\" font-size=\"12\" lengthAdjust=\"spacingAndGlyphs\" textLength=\"119\" x=\"5\" y=\"171.9199\">Bob-&gt;Alice: Hello</text><text fill=\"#000000\" font-family=\"sans-serif\" font-size=\"12\" lengthAdjust=\"spacingAndGlyphs\" textLength=\"0\" x=\"9\" y=\"185.8887\"/><text fill=\"#000000\" font-family=\"sans-serif\" font-size=\"12\" lengthAdjust=\"spacingAndGlyphs\" textLength=\"14\" x=\"5\" y=\"199.8574\">Or</text><text fill=\"#000000\" font-family=\"sans-serif\" font-size=\"12\" lengthAdjust=\"spacingAndGlyphs\" textLength=\"0\" x=\"9\" y=\"213.8262\"/><text fill=\"#000000\" font-family=\"monospace\" font-size=\"12\" lengthAdjust=\"spacingAndGlyphs\" textLength=\"91\" x=\"5\" y=\"227.7949\">class Example</text><text fill=\"#000000\" font-family=\"sans-serif\" font-size=\"12\" lengthAdjust=\"spacingAndGlyphs\" textLength=\"0\" x=\"9\" y=\"241.7637\"/><text fill=\"#000000\" font-family=\"sans-serif\" font-size=\"12\" lengthAdjust=\"spacingAndGlyphs\" textLength=\"349\" x=\"5\" y=\"255.7324\">You will find more information about PlantUML syntax on</text><text fill=\"#000000\" font-family=\"sans-serif\" font-size=\"12\" lengthAdjust=\"spacingAndGlyphs\" text-decoration=\"underline\" textLength=\"129\" x=\"358\" y=\"255.7324\">https://plantuml.com</text><image height=\"71\" width=\"80\" x=\"516\" xlink:href=\"data:image/png;base64,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\" y=\"64\"/><rect fill=\"#000000\" height=\"96.4844\" style=\"stroke: #000000; stroke-width: 1.0;\" width=\"602\" x=\"0\" y=\"263.5625\"/><rect fill=\"#33FF02\" height=\"21.2969\" style=\"stroke: #33FF02; stroke-width: 1.0;\" width=\"170\" x=\"5\" y=\"268.5625\"/><text fill=\"#000000\" font-family=\"sans-serif\" font-size=\"14\" font-weight=\"bold\" lengthAdjust=\"spacingAndGlyphs\" textLength=\"168\" x=\"6\" y=\"283.5625\">[From string (line 2) ]</text><text fill=\"#33FF02\" font-family=\"sans-serif\" font-size=\"14\" font-weight=\"bold\" lengthAdjust=\"spacingAndGlyphs\" textLength=\"0\" x=\"10\" y=\"303.8594\"/><text fill=\"#33FF02\" font-family=\"sans-serif\" font-size=\"14\" font-weight=\"bold\" lengthAdjust=\"spacingAndGlyphs\" textLength=\"79\" x=\"5\" y=\"320.1563\">@startuml</text><text fill=\"#33FF02\" font-family=\"sans-serif\" font-size=\"14\" font-weight=\"bold\" lengthAdjust=\"spacingAndGlyphs\" textLength=\"0\" x=\"10\" y=\"336.4531\"/><text fill=\"#FF0000\" font-family=\"sans-serif\" font-size=\"14\" font-weight=\"bold\" lengthAdjust=\"spacingAndGlyphs\" textLength=\"142\" x=\"10\" y=\"352.75\">Empty description</text><rect fill=\"#F6C914\" height=\"58\" style=\"stroke: #F6C914; stroke-width: 1.0;\" width=\"602\" x=\"0\" y=\"360.0469\"/><image height=\"58\" width=\"454\" x=\"1\" xlink:href=\"data:image/png;base64,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\" y=\"361.0469\"/><!--MD5=[f59edd8218d337f74d0c332fc6737304]\n",
       "@startuml\r\n",
       " \r\n",
       "@enduml\r\n",
       "\n",
       "PlantUML version 1.2020.13(Sat Jun 13 12:26:38 UTC 2020)\n",
       "(EPL source distribution)\n",
       "Java Runtime: OpenJDK Runtime Environment\n",
       "JVM: OpenJDK 64-Bit Server VM\n",
       "Default Encoding: UTF-8\n",
       "Language: en\n",
       "Country: null\n",
       "--></g></svg>"
      ]
     },
     "execution_count": 32,
     "metadata": {},
     "output_type": "execute_result"
    }
   ],
   "source": [
    "%viz --style=\"PLANTUML\" --view=\"State\" \"AliasTest\""
   ]
  },
  {
   "cell_type": "code",
   "execution_count": 33,
   "id": "competitive-panic",
   "metadata": {
    "execution": {
     "iopub.execute_input": "2021-03-25T13:15:27.078732Z",
     "iopub.status.busy": "2021-03-25T13:15:27.077984Z",
     "iopub.status.idle": "2021-03-25T13:15:27.158320Z",
     "shell.execute_reply": "2021-03-25T13:15:27.156984Z"
    }
   },
   "outputs": [
    {
     "data": {
      "image/svg+xml": [
       "<?xml version=\"1.0\" encoding=\"UTF-8\" standalone=\"no\"?><svg xmlns=\"http://www.w3.org/2000/svg\" xmlns:xlink=\"http://www.w3.org/1999/xlink\" contentScriptType=\"application/ecmascript\" contentStyleType=\"text/css\" height=\"191px\" preserveAspectRatio=\"none\" style=\"width:361px;height:191px;\" version=\"1.1\" viewBox=\"0 0 361 191\" width=\"361px\" zoomAndPan=\"magnify\"><defs><filter height=\"300%\" id=\"fmfw6bbn748e7\" width=\"300%\" x=\"-1\" y=\"-1\"><feGaussianBlur result=\"blurOut\" stdDeviation=\"2.0\"/><feColorMatrix in=\"blurOut\" result=\"blurOut2\" type=\"matrix\" values=\"0 0 0 0 0 0 0 0 0 0 0 0 0 0 0 0 0 0 .4 0\"/><feOffset dx=\"4.0\" dy=\"4.0\" in=\"blurOut2\" result=\"blurOut3\"/><feBlend in=\"SourceGraphic\" in2=\"blurOut3\" mode=\"normal\"/></filter></defs><g><!--MD5=[fbc87193dbaf4d95561dea2c320d4a47]\n",
       "cluster E1--><a href=\"psysml:d6640503-c03f-477e-b125-432046bb93b4\" target=\"_top\" title=\"psysml:d6640503-c03f-477e-b125-432046bb93b4\" xlink:actuate=\"onRequest\" xlink:href=\"psysml:d6640503-c03f-477e-b125-432046bb93b4\" xlink:show=\"new\" xlink:title=\"psysml:d6640503-c03f-477e-b125-432046bb93b4\" xlink:type=\"simple\"><polygon fill=\"#FFFFFF\" filter=\"url(#fmfw6bbn748e7)\" points=\"16,6,94,6,101,28.2969,339,28.2969,339,179,16,179,16,6\" style=\"stroke: #000000; stroke-width: 1.5;\"/><line style=\"stroke: #000000; stroke-width: 1.5;\" x1=\"16\" x2=\"101\" y1=\"28.2969\" y2=\"28.2969\"/><text fill=\"#000000\" font-family=\"sans-serif\" font-size=\"14\" font-weight=\"bold\" lengthAdjust=\"spacingAndGlyphs\" textLength=\"72\" x=\"20\" y=\"20.9951\">AliasTest</text></a><!--MD5=[e4f7fae6ed58524ba242bb0b0d3be6b7]\n",
       "cluster E2--><a href=\"psysml:4a06ff05-02b9-4148-90d6-f5221b7c40f0\" target=\"_top\" title=\"psysml:4a06ff05-02b9-4148-90d6-f5221b7c40f0\" xlink:actuate=\"onRequest\" xlink:href=\"psysml:4a06ff05-02b9-4148-90d6-f5221b7c40f0\" xlink:show=\"new\" xlink:title=\"psysml:4a06ff05-02b9-4148-90d6-f5221b7c40f0\" xlink:type=\"simple\"><rect fill=\"#FFFFFF\" filter=\"url(#fmfw6bbn748e7)\" height=\"57\" id=\"E2\" style=\"stroke: #A80036; stroke-width: 1.5;\" width=\"83\" x=\"244\" y=\"55\"/><rect fill=\"#FEFECE\" height=\"23.9688\" style=\"stroke: #A80036; stroke-width: 1.5;\" width=\"83\" x=\"244\" y=\"55\"/><text fill=\"#000000\" font-family=\"sans-serif\" font-size=\"12\" lengthAdjust=\"spacingAndGlyphs\" textLength=\"16\" x=\"277.5\" y=\"71.1387\">P1</text></a><!--MD5=[de5ec2e2e8f62f467e546659f5068c88]\n",
       "cluster E5--><a href=\"psysml:9ecf2706-3ec0-4307-8293-70ef42ab2608\" target=\"_top\" title=\"psysml:9ecf2706-3ec0-4307-8293-70ef42ab2608\" xlink:actuate=\"onRequest\" xlink:href=\"psysml:9ecf2706-3ec0-4307-8293-70ef42ab2608\" xlink:show=\"new\" xlink:title=\"psysml:9ecf2706-3ec0-4307-8293-70ef42ab2608\" xlink:type=\"simple\"><rect fill=\"#FFFFFF\" filter=\"url(#fmfw6bbn748e7)\" height=\"76.5\" id=\"E5\" rx=\"10\" ry=\"10\" style=\"stroke: #A80036; stroke-width: 1.5;\" width=\"101\" x=\"139\" y=\"86.5\"/><rect fill=\"#FEFECE\" height=\"23.9688\" rx=\"10\" ry=\"10\" style=\"stroke: #FEFECE; stroke-width: 1.5;\" width=\"101\" x=\"139\" y=\"86.5\"/><rect fill=\"#FEFECE\" height=\"10\" style=\"stroke: #FEFECE; stroke-width: 1.5;\" width=\"101\" x=\"139\" y=\"100.4688\"/><rect fill=\"none\" height=\"76.5\" id=\"E5\" rx=\"10\" ry=\"10\" style=\"stroke: #A80036; stroke-width: 1.5;\" width=\"101\" x=\"139\" y=\"86.5\"/><text fill=\"#000000\" font-family=\"sans-serif\" font-size=\"12\" lengthAdjust=\"spacingAndGlyphs\" textLength=\"40\" x=\"169.5\" y=\"102.6387\">p1: P1</text><line style=\"stroke: #A80036; stroke-width: 1.0;\" x1=\"139\" x2=\"240\" y1=\"110.4688\" y2=\"110.4688\"/></a><!--MD5=[168fadf3d0c3fd93dd5d6da1b1d7ab76]\n",
       "cluster E7--><a href=\"psysml:28be41ac-7d51-495b-a80e-46db5ea96230\" target=\"_top\" title=\"psysml:28be41ac-7d51-495b-a80e-46db5ea96230\" xlink:actuate=\"onRequest\" xlink:href=\"psysml:28be41ac-7d51-495b-a80e-46db5ea96230\" xlink:show=\"new\" xlink:title=\"psysml:28be41ac-7d51-495b-a80e-46db5ea96230\" xlink:type=\"simple\"><rect fill=\"#FFFFFF\" filter=\"url(#fmfw6bbn748e7)\" height=\"57\" id=\"E7\" rx=\"10\" ry=\"10\" style=\"stroke: #A80036; stroke-width: 1.5;\" width=\"83\" x=\"53\" y=\"55\"/><rect fill=\"#FEFECE\" height=\"23.9688\" rx=\"10\" ry=\"10\" style=\"stroke: #FEFECE; stroke-width: 1.5;\" width=\"83\" x=\"53\" y=\"55\"/><rect fill=\"#FEFECE\" height=\"10\" style=\"stroke: #FEFECE; stroke-width: 1.5;\" width=\"83\" x=\"53\" y=\"68.9688\"/><rect fill=\"none\" height=\"57\" id=\"E7\" rx=\"10\" ry=\"10\" style=\"stroke: #A80036; stroke-width: 1.5;\" width=\"83\" x=\"53\" y=\"55\"/><text fill=\"#000000\" font-family=\"sans-serif\" font-size=\"12\" lengthAdjust=\"spacingAndGlyphs\" textLength=\"40\" x=\"74.5\" y=\"71.1387\">p2: P1</text><line style=\"stroke: #A80036; stroke-width: 1.0;\" x1=\"53\" x2=\"136\" y1=\"78.9688\" y2=\"78.9688\"/></a><text fill=\"#000000\" font-family=\"sans-serif\" font-size=\"14\" lengthAdjust=\"spacingAndGlyphs\" textLength=\"44\" x=\"240\" y=\"33.6982\">porig1</text><rect fill=\"#A80036\" height=\"12\" style=\"stroke: #FEFECE; stroke-width: 1.5;\" width=\"12\" x=\"256\" y=\"49\"/><text fill=\"#000000\" font-family=\"sans-serif\" font-size=\"14\" lengthAdjust=\"spacingAndGlyphs\" textLength=\"44\" x=\"287\" y=\"33.6982\">porig1</text><rect fill=\"#A80036\" height=\"12\" style=\"stroke: #FEFECE; stroke-width: 1.5;\" width=\"12\" x=\"303\" y=\"49\"/><text fill=\"#000000\" font-family=\"sans-serif\" font-size=\"14\" lengthAdjust=\"spacingAndGlyphs\" textLength=\"27\" x=\"143.5\" y=\"65.1982\">po1</text><rect fill=\"#A80036\" height=\"12\" style=\"stroke: #FEFECE; stroke-width: 1.5;\" width=\"12\" x=\"151\" y=\"80.5\"/><text fill=\"#000000\" font-family=\"sans-serif\" font-size=\"14\" lengthAdjust=\"spacingAndGlyphs\" textLength=\"40\" x=\"51\" y=\"33.6982\">pdest</text><rect fill=\"#A80036\" height=\"12\" style=\"stroke: #FEFECE; stroke-width: 1.5;\" width=\"12\" x=\"65\" y=\"49\"/><text fill=\"#000000\" font-family=\"sans-serif\" font-size=\"14\" lengthAdjust=\"spacingAndGlyphs\" textLength=\"40\" x=\"98\" y=\"33.6982\">pdest</text><rect fill=\"#A80036\" height=\"12\" style=\"stroke: #FEFECE; stroke-width: 1.5;\" width=\"12\" x=\"112\" y=\"49\"/><!--MD5=[60ac2c0cde89d4308155b0484e57a8ec]\n",
       "link E9 to E6--><a href=\"psysml:32f11bb0-f29d-43a1-aa99-c5cb95a5777d\" target=\"_top\" title=\"psysml:32f11bb0-f29d-43a1-aa99-c5cb95a5777d\" xlink:actuate=\"onRequest\" xlink:href=\"psysml:32f11bb0-f29d-43a1-aa99-c5cb95a5777d\" xlink:show=\"new\" xlink:title=\"psysml:32f11bb0-f29d-43a1-aa99-c5cb95a5777d\" xlink:type=\"simple\"><path d=\"M114.84,61.14 C119.38,68.34 137.71,80.94 150.76,84.52 \" fill=\"none\" id=\"E9-E6\" style=\"stroke: #A80036; stroke-width: 3.0;\"/></a><!--MD5=[60ac2c0cde89d4308155b0484e57a8ec]\n",
       "link E9 to E6--><a href=\"psysml:e24ce1f4-3e8e-4ff6-8278-f74c062e3ad6\" target=\"_top\" title=\"psysml:e24ce1f4-3e8e-4ff6-8278-f74c062e3ad6\" xlink:actuate=\"onRequest\" xlink:href=\"psysml:e24ce1f4-3e8e-4ff6-8278-f74c062e3ad6\" xlink:show=\"new\" xlink:title=\"psysml:e24ce1f4-3e8e-4ff6-8278-f74c062e3ad6\" xlink:type=\"simple\"><path d=\"M124.05,56.85 C137.61,60.25 156.39,73.03 160.72,80.32 \" fill=\"none\" id=\"E9-E6-1\" style=\"stroke: #A80036; stroke-width: 3.0;\"/></a><!--MD5=[304504b3f637a39c5d134cac3827d905]\n",
       "@startuml\r\n",
       "skinparam ranksep 8\r\n",
       "skinparam rectangle {\r\n",
       " backgroundColor<<block>> LightGreen\r\n",
       "}\r\n",
       " \r\n",
       "package \"AliasTest\" as E1  [[psysml:d6640503-c03f-477e-b125-432046bb93b4 ]]  {\r\n",
       "rec def \"P1\" as E2  << (B,green) >> [[psysml:4a06ff05-02b9-4148-90d6-f5221b7c40f0 ]] {\r\n",
       "portin \"porig1\" as E3  << (P,blue) port>> [[psysml:2b77977e-0e87-40fa-bfcc-86d3bbd61ac4 ]] \r\n",
       "portin \"porig1\" as E4  << (P,blue) port>> [[psysml:2b77977e-0e87-40fa-bfcc-86d3bbd61ac4 ]] \r\n",
       "}\r\n",
       "rec usage \"p1: P1\" as E5  [[psysml:9ecf2706-3ec0-4307-8293-70ef42ab2608 ]] {\r\n",
       "portin \"po1\" as E6  << (P,blue) port>> [[psysml:040fe1ca-6ed4-4b89-a2be-3a2910b81d71 ]] \r\n",
       "}\r\n",
       "rec usage \"p2: P1\" as E7  [[psysml:28be41ac-7d51-495b-a80e-46db5ea96230 ]] {\r\n",
       "portin \"pdest\" as E8  << (P,blue) port>> [[psysml:35e7e96c-66ea-4900-a048-bf88e7083b58 ]] \r\n",
       "portin \"pdest\" as E9  << (P,blue) port>> [[psysml:35e7e96c-66ea-4900-a048-bf88e7083b58 ]] \r\n",
       "}\r\n",
       "E9 -[thickness=3]- E6 [[psysml:32f11bb0-f29d-43a1-aa99-c5cb95a5777d ]] \r\n",
       "E9 -[thickness=3]- E6 [[psysml:e24ce1f4-3e8e-4ff6-8278-f74c062e3ad6 ]] \r\n",
       "}\r\n",
       "@enduml\r\n",
       "\n",
       "PlantUML version 1.2020.13(Sat Jun 13 12:26:38 UTC 2020)\n",
       "(EPL source distribution)\n",
       "Java Runtime: OpenJDK Runtime Environment\n",
       "JVM: OpenJDK 64-Bit Server VM\n",
       "Default Encoding: UTF-8\n",
       "Language: en\n",
       "Country: null\n",
       "--></g></svg>"
      ]
     },
     "execution_count": 33,
     "metadata": {},
     "output_type": "execute_result"
    }
   ],
   "source": [
    "%viz --style=\"PLANTUML\" --view=\"Interconnection\" \"AliasTest\""
   ]
  },
  {
   "cell_type": "code",
   "execution_count": 34,
   "id": "advised-advertising",
   "metadata": {
    "execution": {
     "iopub.execute_input": "2021-03-25T13:15:27.209035Z",
     "iopub.status.busy": "2021-03-25T13:15:27.208539Z",
     "iopub.status.idle": "2021-03-25T13:15:27.214043Z",
     "shell.execute_reply": "2021-03-25T13:15:27.213629Z"
    }
   },
   "outputs": [
    {
     "data": {
      "image/svg+xml": [
       "<?xml version=\"1.0\" encoding=\"UTF-8\" standalone=\"no\"?><svg xmlns=\"http://www.w3.org/2000/svg\" xmlns:xlink=\"http://www.w3.org/1999/xlink\" contentScriptType=\"application/ecmascript\" contentStyleType=\"text/css\" height=\"12px\" preserveAspectRatio=\"none\" style=\"width:12px;height:12px;\" version=\"1.1\" viewBox=\"0 0 12 12\" width=\"12px\" zoomAndPan=\"magnify\"><defs/><g><!--MD5=[6a4cb978cab31700e1ce5529f947a75d]\n",
       "@startuml\r\n",
       "skinparam ranksep 8\r\n",
       " \r\n",
       "@enduml\r\n",
       "\n",
       "PlantUML version 1.2020.13(Sat Jun 13 12:26:38 UTC 2020)\n",
       "(EPL source distribution)\n",
       "Java Runtime: OpenJDK Runtime Environment\n",
       "JVM: OpenJDK 64-Bit Server VM\n",
       "Default Encoding: UTF-8\n",
       "Language: en\n",
       "Country: null\n",
       "--></g></svg>"
      ]
     },
     "execution_count": 34,
     "metadata": {},
     "output_type": "execute_result"
    }
   ],
   "source": [
    "%viz --style=\"PLANTUML\" --view=\"Action\" \"AliasTest\""
   ]
  },
  {
   "cell_type": "code",
   "execution_count": 35,
   "id": "saving-summit",
   "metadata": {
    "execution": {
     "iopub.execute_input": "2021-03-25T13:15:27.265632Z",
     "iopub.status.busy": "2021-03-25T13:15:27.265065Z",
     "iopub.status.idle": "2021-03-25T13:15:27.877288Z",
     "shell.execute_reply": "2021-03-25T13:15:27.877732Z"
    }
   },
   "outputs": [
    {
     "data": {
      "image/svg+xml": [
       "<?xml version=\"1.0\" encoding=\"UTF-8\" standalone=\"no\"?><svg xmlns=\"http://www.w3.org/2000/svg\" xmlns:xlink=\"http://www.w3.org/1999/xlink\" contentScriptType=\"application/ecmascript\" contentStyleType=\"text/css\" height=\"287px\" preserveAspectRatio=\"none\" style=\"width:285px;height:287px;\" version=\"1.1\" viewBox=\"0 0 285 287\" width=\"285px\" zoomAndPan=\"magnify\"><defs><filter height=\"300%\" id=\"f14o3qb2445s0s\" width=\"300%\" x=\"-1\" y=\"-1\"><feGaussianBlur result=\"blurOut\" stdDeviation=\"2.0\"/><feColorMatrix in=\"blurOut\" result=\"blurOut2\" type=\"matrix\" values=\"0 0 0 0 0 0 0 0 0 0 0 0 0 0 0 0 0 0 .4 0\"/><feOffset dx=\"4.0\" dy=\"4.0\" in=\"blurOut2\" result=\"blurOut3\"/><feBlend in=\"SourceGraphic\" in2=\"blurOut3\" mode=\"normal\"/></filter></defs><g><!--MD5=[fbc87193dbaf4d95561dea2c320d4a47]\n",
       "cluster E1--><a href=\"psysml:d6640503-c03f-477e-b125-432046bb93b4\" target=\"_top\" title=\"psysml:d6640503-c03f-477e-b125-432046bb93b4\" xlink:actuate=\"onRequest\" xlink:href=\"psysml:d6640503-c03f-477e-b125-432046bb93b4\" xlink:show=\"new\" xlink:title=\"psysml:d6640503-c03f-477e-b125-432046bb93b4\" xlink:type=\"simple\"><polygon fill=\"#FFFFFF\" filter=\"url(#f14o3qb2445s0s)\" points=\"16,6,94,6,101,28.2969,263,28.2969,263,275,16,275,16,6\" style=\"stroke: #000000; stroke-width: 1.5;\"/><line style=\"stroke: #000000; stroke-width: 1.5;\" x1=\"16\" x2=\"101\" y1=\"28.2969\" y2=\"28.2969\"/><text fill=\"#000000\" font-family=\"sans-serif\" font-size=\"14\" font-weight=\"bold\" lengthAdjust=\"spacingAndGlyphs\" textLength=\"72\" x=\"20\" y=\"20.9951\">AliasTest</text></a><!--MD5=[b4997ac47864f28c2f74865a473b2911]\n",
       "class E2--><a href=\"psysml:4a06ff05-02b9-4148-90d6-f5221b7c40f0\" target=\"_top\" title=\"psysml:4a06ff05-02b9-4148-90d6-f5221b7c40f0\" xlink:actuate=\"onRequest\" xlink:href=\"psysml:4a06ff05-02b9-4148-90d6-f5221b7c40f0\" xlink:show=\"new\" xlink:title=\"psysml:4a06ff05-02b9-4148-90d6-f5221b7c40f0\" xlink:type=\"simple\"><rect fill=\"#FEFECE\" filter=\"url(#f14o3qb2445s0s)\" height=\"69.6094\" id=\"E2\" style=\"stroke: #A80036; stroke-width: 1.5;\" width=\"92\" x=\"93\" y=\"189\"/><ellipse cx=\"127.8\" cy=\"205\" fill=\"#008000\" rx=\"11\" ry=\"11\" style=\"stroke: #A80036; stroke-width: 1.0;\"/><path d=\"M126.7063,205.375 L126.7063,209.0469 L128.3313,209.0469 Q129.5031,209.0469 129.9719,208.6563 Q130.4406,208.25 130.4406,207.25 Q130.4406,206.25 129.9406,205.8125 Q129.4563,205.375 128.3313,205.375 L126.7063,205.375 Z M126.7063,200.5469 L126.7063,203.4219 L128.3313,203.4219 Q129.2531,203.4219 129.6438,203.0938 Q130.05,202.75 130.05,202 Q130.05,201.2344 129.6438,200.8906 Q129.2375,200.5469 128.3313,200.5469 L126.7063,200.5469 Z M124.3313,198.5938 L128.3313,198.5938 Q130.3938,198.5938 131.4406,199.375 Q132.4875,200.1563 132.4875,201.7188 Q132.4875,202.9219 131.8625,203.5938 Q131.2531,204.2656 130.0656,204.375 Q131.4875,204.5156 132.2063,205.3281 Q132.925,206.1406 132.925,207.5938 Q132.925,209.3906 131.8469,210.2031 Q130.7688,211 128.3313,211 L124.3313,211 L124.3313,198.5938 Z \"/><text fill=\"#000000\" font-family=\"sans-serif\" font-size=\"12\" lengthAdjust=\"spacingAndGlyphs\" textLength=\"16\" x=\"146.2\" y=\"209.1543\">P1</text><line style=\"stroke: #A80036; stroke-width: 1.5;\" x1=\"94\" x2=\"184\" y1=\"221\" y2=\"221\"/><text fill=\"#000000\" font-family=\"sans-serif\" font-size=\"11\" lengthAdjust=\"spacingAndGlyphs\" textLength=\"36\" x=\"99\" y=\"252.0151\">porig1</text><text fill=\"#000000\" font-family=\"sans-serif\" font-size=\"11\" font-weight=\"bold\" lengthAdjust=\"spacingAndGlyphs\" textLength=\"15\" x=\"139\" y=\"252.0151\">as</text><text fill=\"#000000\" font-family=\"sans-serif\" font-size=\"11\" lengthAdjust=\"spacingAndGlyphs\" textLength=\"21\" x=\"158\" y=\"252.0151\">po1</text><line style=\"stroke: #A80036; stroke-width: 1.0;\" x1=\"94\" x2=\"124\" y1=\"235.4023\" y2=\"235.4023\"/><text fill=\"#000000\" font-family=\"sans-serif\" font-size=\"11\" lengthAdjust=\"spacingAndGlyphs\" textLength=\"30\" x=\"124\" y=\"238.7104\">ports</text><line style=\"stroke: #A80036; stroke-width: 1.0;\" x1=\"154\" x2=\"184\" y1=\"235.4023\" y2=\"235.4023\"/></a><!--MD5=[ebbe1d658d1005bcc118a6aa81145e00]\n",
       "class E4--><a href=\"psysml:9ecf2706-3ec0-4307-8293-70ef42ab2608\" target=\"_top\" title=\"psysml:9ecf2706-3ec0-4307-8293-70ef42ab2608\" xlink:actuate=\"onRequest\" xlink:href=\"psysml:9ecf2706-3ec0-4307-8293-70ef42ab2608\" xlink:show=\"new\" xlink:title=\"psysml:9ecf2706-3ec0-4307-8293-70ef42ab2608\" xlink:type=\"simple\"><rect fill=\"#FEFECE\" filter=\"url(#f14o3qb2445s0s)\" height=\"88.3516\" id=\"E4\" rx=\"10\" ry=\"10\" style=\"stroke: #A80036; stroke-width: 1.5;\" width=\"92\" x=\"155\" y=\"41\"/><ellipse cx=\"179\" cy=\"59.9688\" fill=\"#32CD32\" rx=\"11\" ry=\"11\" style=\"stroke: #A80036; stroke-width: 1.0;\"/><path d=\"M178.7969,55.6406 L178.7969,59.2656 L179.7969,59.2656 Q181,59.2656 181.4844,58.8594 Q181.9688,58.4531 181.9688,57.4531 Q181.9688,56.4531 181.4844,56.0469 Q181,55.6406 179.7969,55.6406 L178.7969,55.6406 Z M176.3438,53.5781 L179.7031,53.5781 Q182.2656,53.5781 183.3906,54.5 Q184.5156,55.4063 184.5156,57.4531 Q184.5156,59.5 183.3906,60.4219 Q182.2656,61.3281 179.7031,61.3281 L178.7969,61.3281 L178.7969,65.9688 L176.3438,65.9688 L176.3438,53.5781 Z \"/><text fill=\"#000000\" font-family=\"sans-serif\" font-size=\"12\" font-style=\"italic\" lengthAdjust=\"spacingAndGlyphs\" textLength=\"40\" x=\"195\" y=\"57.1387\">«part»</text><text fill=\"#000000\" font-family=\"sans-serif\" font-size=\"12\" lengthAdjust=\"spacingAndGlyphs\" textLength=\"40\" x=\"195\" y=\"71.1074\">p1: P1</text><line style=\"stroke: #A80036; stroke-width: 1.5;\" x1=\"156\" x2=\"246\" y1=\"78.9375\" y2=\"78.9375\"/><text fill=\"#000000\" font-family=\"sans-serif\" font-size=\"11\" lengthAdjust=\"spacingAndGlyphs\" textLength=\"21\" x=\"161\" y=\"109.9526\">po1</text><text fill=\"#000000\" font-family=\"sans-serif\" font-size=\"11\" font-style=\"italic\" lengthAdjust=\"spacingAndGlyphs\" textLength=\"80\" x=\"161\" y=\"122.7573\">:&gt;&gt;P1::porig1</text><line style=\"stroke: #A80036; stroke-width: 1.0;\" x1=\"156\" x2=\"186\" y1=\"93.3398\" y2=\"93.3398\"/><text fill=\"#000000\" font-family=\"sans-serif\" font-size=\"11\" lengthAdjust=\"spacingAndGlyphs\" textLength=\"30\" x=\"186\" y=\"96.6479\">ports</text><line style=\"stroke: #A80036; stroke-width: 1.0;\" x1=\"216\" x2=\"246\" y1=\"93.3398\" y2=\"93.3398\"/></a><!--MD5=[60a26617385b1d2d0262a64233df1f8d]\n",
       "class E6--><a href=\"psysml:28be41ac-7d51-495b-a80e-46db5ea96230\" target=\"_top\" title=\"psysml:28be41ac-7d51-495b-a80e-46db5ea96230\" xlink:actuate=\"onRequest\" xlink:href=\"psysml:28be41ac-7d51-495b-a80e-46db5ea96230\" xlink:show=\"new\" xlink:title=\"psysml:28be41ac-7d51-495b-a80e-46db5ea96230\" xlink:type=\"simple\"><rect fill=\"#FEFECE\" filter=\"url(#f14o3qb2445s0s)\" height=\"75.5469\" id=\"E6\" rx=\"10\" ry=\"10\" style=\"stroke: #A80036; stroke-width: 1.5;\" width=\"88\" x=\"32\" y=\"47\"/><ellipse cx=\"54.2\" cy=\"65.9688\" fill=\"#32CD32\" rx=\"11\" ry=\"11\" style=\"stroke: #A80036; stroke-width: 1.0;\"/><path d=\"M53.9969,61.6406 L53.9969,65.2656 L54.9969,65.2656 Q56.2,65.2656 56.6844,64.8594 Q57.1688,64.4531 57.1688,63.4531 Q57.1688,62.4531 56.6844,62.0469 Q56.2,61.6406 54.9969,61.6406 L53.9969,61.6406 Z M51.5438,59.5781 L54.9031,59.5781 Q57.4656,59.5781 58.5906,60.5 Q59.7156,61.4063 59.7156,63.4531 Q59.7156,65.5 58.5906,66.4219 Q57.4656,67.3281 54.9031,67.3281 L53.9969,67.3281 L53.9969,71.9688 L51.5438,71.9688 L51.5438,59.5781 Z \"/><text fill=\"#000000\" font-family=\"sans-serif\" font-size=\"12\" font-style=\"italic\" lengthAdjust=\"spacingAndGlyphs\" textLength=\"40\" x=\"69.8\" y=\"63.1387\">«part»</text><text fill=\"#000000\" font-family=\"sans-serif\" font-size=\"12\" lengthAdjust=\"spacingAndGlyphs\" textLength=\"40\" x=\"69.8\" y=\"77.1074\">p2: P1</text><line style=\"stroke: #A80036; stroke-width: 1.5;\" x1=\"33\" x2=\"119\" y1=\"84.9375\" y2=\"84.9375\"/><text fill=\"#000000\" font-family=\"sans-serif\" font-size=\"11\" lengthAdjust=\"spacingAndGlyphs\" textLength=\"32\" x=\"38\" y=\"115.9526\">pdest</text><text fill=\"#000000\" font-family=\"sans-serif\" font-size=\"11\" font-weight=\"bold\" lengthAdjust=\"spacingAndGlyphs\" textLength=\"15\" x=\"74\" y=\"115.9526\">as</text><text fill=\"#000000\" font-family=\"sans-serif\" font-size=\"11\" lengthAdjust=\"spacingAndGlyphs\" textLength=\"21\" x=\"93\" y=\"115.9526\">pd1</text><line style=\"stroke: #A80036; stroke-width: 1.0;\" x1=\"33\" x2=\"61\" y1=\"99.3398\" y2=\"99.3398\"/><text fill=\"#000000\" font-family=\"sans-serif\" font-size=\"11\" lengthAdjust=\"spacingAndGlyphs\" textLength=\"30\" x=\"61\" y=\"102.6479\">ports</text><line style=\"stroke: #A80036; stroke-width: 1.0;\" x1=\"91\" x2=\"119\" y1=\"99.3398\" y2=\"99.3398\"/></a><!--MD5=[185131fc0dcab0a4505a2ebe144e961b]\n",
       "link E4 to E2--><a href=\"psysml:8ce18664-e29b-46f0-97c0-4b398d523e7c\" target=\"_top\" title=\"psysml:8ce18664-e29b-46f0-97c0-4b398d523e7c\" xlink:actuate=\"onRequest\" xlink:href=\"psysml:8ce18664-e29b-46f0-97c0-4b398d523e7c\" xlink:show=\"new\" xlink:title=\"psysml:8ce18664-e29b-46f0-97c0-4b398d523e7c\" xlink:type=\"simple\"><path d=\"M181.38,129.35 C175.5,142.35 168.98,156.75 162.86,170.29 \" fill=\"none\" id=\"E4-&gt;E2\" style=\"stroke: #A80036; stroke-width: 1.0;\"/><polygon fill=\"#FFFFFF\" points=\"154.57,188.61,156.0203,168.4135,168.7767,174.1819,154.57,188.61\" style=\"stroke: #A80036; stroke-width: 1.0;\"/><ellipse cx=\"160.1912\" cy=\"164.0439\" fill=\"#A80036\" rx=\"2\" ry=\"2\" style=\"stroke: #A80036; stroke-width: 1.0;\"/><ellipse cx=\"169.3029\" cy=\"168.1642\" fill=\"#A80036\" rx=\"2\" ry=\"2\" style=\"stroke: #A80036; stroke-width: 1.0;\"/></a><!--MD5=[2351f337d6de0f557b50152ba70847b5]\n",
       "link E6 to E2--><a href=\"psysml:aea9633f-bca5-4d9c-866d-d7db5d7aa3e2\" target=\"_top\" title=\"psysml:aea9633f-bca5-4d9c-866d-d7db5d7aa3e2\" xlink:actuate=\"onRequest\" xlink:href=\"psysml:aea9633f-bca5-4d9c-866d-d7db5d7aa3e2\" xlink:show=\"new\" xlink:title=\"psysml:aea9633f-bca5-4d9c-866d-d7db5d7aa3e2\" xlink:type=\"simple\"><path d=\"M93.05,123.07 C99.73,137.61 107.53,154.55 114.77,170.32 \" fill=\"none\" id=\"E6-&gt;E2\" style=\"stroke: #A80036; stroke-width: 1.0;\"/><polygon fill=\"#FFFFFF\" points=\"123.24,188.72,108.9415,174.3829,121.6608,168.5332,123.24,188.72\" style=\"stroke: #A80036; stroke-width: 1.0;\"/><ellipse cx=\"108.3769\" cy=\"168.3687\" fill=\"#A80036\" rx=\"2\" ry=\"2\" style=\"stroke: #A80036; stroke-width: 1.0;\"/><ellipse cx=\"117.4621\" cy=\"164.1903\" fill=\"#A80036\" rx=\"2\" ry=\"2\" style=\"stroke: #A80036; stroke-width: 1.0;\"/></a><!--MD5=[e994bb99311eed273f9a941d8c17c39d]\n",
       "@startuml\r\n",
       " \r\n",
       "package \"AliasTest\" as E1  [[psysml:d6640503-c03f-477e-b125-432046bb93b4 ]]  {\r\n",
       "comp def \"P1\" as E2  << (B,green) >> [[psysml:4a06ff05-02b9-4148-90d6-f5221b7c40f0 ]] {\r\n",
       "- - ports - -\r\n",
       "porig1 <b>as</b> po1 \r\n",
       "}\r\n",
       "comp usage \"p1: P1\" as E4  << (P,limegreen) part>> [[psysml:9ecf2706-3ec0-4307-8293-70ef42ab2608 ]] {\r\n",
       "- - ports - -\r\n",
       "po1\\n//:>>P1::porig1// \r\n",
       "}\r\n",
       "comp usage \"p2: P1\" as E6  << (P,limegreen) part>> [[psysml:28be41ac-7d51-495b-a80e-46db5ea96230 ]] {\r\n",
       "- - ports - -\r\n",
       "pdest <b>as</b> pd1 \r\n",
       "}\r\n",
       "E4 - -:|> E2 [[psysml:8ce18664-e29b-46f0-97c0-4b398d523e7c ]] \r\n",
       "E6 - -:|> E2 [[psysml:aea9633f-bca5-4d9c-866d-d7db5d7aa3e2 ]] \r\n",
       "}\r\n",
       "@enduml\r\n",
       "\n",
       "PlantUML version 1.2020.13(Sat Jun 13 12:26:38 UTC 2020)\n",
       "(EPL source distribution)\n",
       "Java Runtime: OpenJDK Runtime Environment\n",
       "JVM: OpenJDK 64-Bit Server VM\n",
       "Default Encoding: UTF-8\n",
       "Language: en\n",
       "Country: null\n",
       "--></g></svg>"
      ]
     },
     "execution_count": 35,
     "metadata": {},
     "output_type": "execute_result"
    }
   ],
   "source": [
    "%viz --style=\"PLANTUML\" --view=\"Sequence\" \"AliasTest\""
   ]
  },
  {
   "cell_type": "code",
   "execution_count": 36,
   "id": "corrected-norman",
   "metadata": {
    "execution": {
     "iopub.execute_input": "2021-03-25T13:15:27.927470Z",
     "iopub.status.busy": "2021-03-25T13:15:27.927004Z",
     "iopub.status.idle": "2021-03-25T13:15:28.531107Z",
     "shell.execute_reply": "2021-03-25T13:15:28.529175Z"
    }
   },
   "outputs": [
    {
     "data": {
      "image/svg+xml": [
       "<?xml version=\"1.0\" encoding=\"UTF-8\" standalone=\"no\"?><svg xmlns=\"http://www.w3.org/2000/svg\" xmlns:xlink=\"http://www.w3.org/1999/xlink\" contentScriptType=\"application/ecmascript\" contentStyleType=\"text/css\" height=\"287px\" preserveAspectRatio=\"none\" style=\"width:285px;height:287px;\" version=\"1.1\" viewBox=\"0 0 285 287\" width=\"285px\" zoomAndPan=\"magnify\"><defs><filter height=\"300%\" id=\"f14o3qb2445s0s\" width=\"300%\" x=\"-1\" y=\"-1\"><feGaussianBlur result=\"blurOut\" stdDeviation=\"2.0\"/><feColorMatrix in=\"blurOut\" result=\"blurOut2\" type=\"matrix\" values=\"0 0 0 0 0 0 0 0 0 0 0 0 0 0 0 0 0 0 .4 0\"/><feOffset dx=\"4.0\" dy=\"4.0\" in=\"blurOut2\" result=\"blurOut3\"/><feBlend in=\"SourceGraphic\" in2=\"blurOut3\" mode=\"normal\"/></filter></defs><g><!--MD5=[fbc87193dbaf4d95561dea2c320d4a47]\n",
       "cluster E1--><a href=\"psysml:d6640503-c03f-477e-b125-432046bb93b4\" target=\"_top\" title=\"psysml:d6640503-c03f-477e-b125-432046bb93b4\" xlink:actuate=\"onRequest\" xlink:href=\"psysml:d6640503-c03f-477e-b125-432046bb93b4\" xlink:show=\"new\" xlink:title=\"psysml:d6640503-c03f-477e-b125-432046bb93b4\" xlink:type=\"simple\"><polygon fill=\"#FFFFFF\" filter=\"url(#f14o3qb2445s0s)\" points=\"16,6,94,6,101,28.2969,263,28.2969,263,275,16,275,16,6\" style=\"stroke: #000000; stroke-width: 1.5;\"/><line style=\"stroke: #000000; stroke-width: 1.5;\" x1=\"16\" x2=\"101\" y1=\"28.2969\" y2=\"28.2969\"/><text fill=\"#000000\" font-family=\"sans-serif\" font-size=\"14\" font-weight=\"bold\" lengthAdjust=\"spacingAndGlyphs\" textLength=\"72\" x=\"20\" y=\"20.9951\">AliasTest</text></a><!--MD5=[b4997ac47864f28c2f74865a473b2911]\n",
       "class E2--><a href=\"psysml:4a06ff05-02b9-4148-90d6-f5221b7c40f0\" target=\"_top\" title=\"psysml:4a06ff05-02b9-4148-90d6-f5221b7c40f0\" xlink:actuate=\"onRequest\" xlink:href=\"psysml:4a06ff05-02b9-4148-90d6-f5221b7c40f0\" xlink:show=\"new\" xlink:title=\"psysml:4a06ff05-02b9-4148-90d6-f5221b7c40f0\" xlink:type=\"simple\"><rect fill=\"#FEFECE\" filter=\"url(#f14o3qb2445s0s)\" height=\"69.6094\" id=\"E2\" style=\"stroke: #A80036; stroke-width: 1.5;\" width=\"92\" x=\"93\" y=\"189\"/><ellipse cx=\"127.8\" cy=\"205\" fill=\"#008000\" rx=\"11\" ry=\"11\" style=\"stroke: #A80036; stroke-width: 1.0;\"/><path d=\"M126.7063,205.375 L126.7063,209.0469 L128.3313,209.0469 Q129.5031,209.0469 129.9719,208.6563 Q130.4406,208.25 130.4406,207.25 Q130.4406,206.25 129.9406,205.8125 Q129.4563,205.375 128.3313,205.375 L126.7063,205.375 Z M126.7063,200.5469 L126.7063,203.4219 L128.3313,203.4219 Q129.2531,203.4219 129.6438,203.0938 Q130.05,202.75 130.05,202 Q130.05,201.2344 129.6438,200.8906 Q129.2375,200.5469 128.3313,200.5469 L126.7063,200.5469 Z M124.3313,198.5938 L128.3313,198.5938 Q130.3938,198.5938 131.4406,199.375 Q132.4875,200.1563 132.4875,201.7188 Q132.4875,202.9219 131.8625,203.5938 Q131.2531,204.2656 130.0656,204.375 Q131.4875,204.5156 132.2063,205.3281 Q132.925,206.1406 132.925,207.5938 Q132.925,209.3906 131.8469,210.2031 Q130.7688,211 128.3313,211 L124.3313,211 L124.3313,198.5938 Z \"/><text fill=\"#000000\" font-family=\"sans-serif\" font-size=\"12\" lengthAdjust=\"spacingAndGlyphs\" textLength=\"16\" x=\"146.2\" y=\"209.1543\">P1</text><line style=\"stroke: #A80036; stroke-width: 1.5;\" x1=\"94\" x2=\"184\" y1=\"221\" y2=\"221\"/><text fill=\"#000000\" font-family=\"sans-serif\" font-size=\"11\" lengthAdjust=\"spacingAndGlyphs\" textLength=\"36\" x=\"99\" y=\"252.0151\">porig1</text><text fill=\"#000000\" font-family=\"sans-serif\" font-size=\"11\" font-weight=\"bold\" lengthAdjust=\"spacingAndGlyphs\" textLength=\"15\" x=\"139\" y=\"252.0151\">as</text><text fill=\"#000000\" font-family=\"sans-serif\" font-size=\"11\" lengthAdjust=\"spacingAndGlyphs\" textLength=\"21\" x=\"158\" y=\"252.0151\">po1</text><line style=\"stroke: #A80036; stroke-width: 1.0;\" x1=\"94\" x2=\"124\" y1=\"235.4023\" y2=\"235.4023\"/><text fill=\"#000000\" font-family=\"sans-serif\" font-size=\"11\" lengthAdjust=\"spacingAndGlyphs\" textLength=\"30\" x=\"124\" y=\"238.7104\">ports</text><line style=\"stroke: #A80036; stroke-width: 1.0;\" x1=\"154\" x2=\"184\" y1=\"235.4023\" y2=\"235.4023\"/></a><!--MD5=[ebbe1d658d1005bcc118a6aa81145e00]\n",
       "class E4--><a href=\"psysml:9ecf2706-3ec0-4307-8293-70ef42ab2608\" target=\"_top\" title=\"psysml:9ecf2706-3ec0-4307-8293-70ef42ab2608\" xlink:actuate=\"onRequest\" xlink:href=\"psysml:9ecf2706-3ec0-4307-8293-70ef42ab2608\" xlink:show=\"new\" xlink:title=\"psysml:9ecf2706-3ec0-4307-8293-70ef42ab2608\" xlink:type=\"simple\"><rect fill=\"#FEFECE\" filter=\"url(#f14o3qb2445s0s)\" height=\"88.3516\" id=\"E4\" rx=\"10\" ry=\"10\" style=\"stroke: #A80036; stroke-width: 1.5;\" width=\"92\" x=\"155\" y=\"41\"/><ellipse cx=\"179\" cy=\"59.9688\" fill=\"#32CD32\" rx=\"11\" ry=\"11\" style=\"stroke: #A80036; stroke-width: 1.0;\"/><path d=\"M178.7969,55.6406 L178.7969,59.2656 L179.7969,59.2656 Q181,59.2656 181.4844,58.8594 Q181.9688,58.4531 181.9688,57.4531 Q181.9688,56.4531 181.4844,56.0469 Q181,55.6406 179.7969,55.6406 L178.7969,55.6406 Z M176.3438,53.5781 L179.7031,53.5781 Q182.2656,53.5781 183.3906,54.5 Q184.5156,55.4063 184.5156,57.4531 Q184.5156,59.5 183.3906,60.4219 Q182.2656,61.3281 179.7031,61.3281 L178.7969,61.3281 L178.7969,65.9688 L176.3438,65.9688 L176.3438,53.5781 Z \"/><text fill=\"#000000\" font-family=\"sans-serif\" font-size=\"12\" font-style=\"italic\" lengthAdjust=\"spacingAndGlyphs\" textLength=\"40\" x=\"195\" y=\"57.1387\">«part»</text><text fill=\"#000000\" font-family=\"sans-serif\" font-size=\"12\" lengthAdjust=\"spacingAndGlyphs\" textLength=\"40\" x=\"195\" y=\"71.1074\">p1: P1</text><line style=\"stroke: #A80036; stroke-width: 1.5;\" x1=\"156\" x2=\"246\" y1=\"78.9375\" y2=\"78.9375\"/><text fill=\"#000000\" font-family=\"sans-serif\" font-size=\"11\" lengthAdjust=\"spacingAndGlyphs\" textLength=\"21\" x=\"161\" y=\"109.9526\">po1</text><text fill=\"#000000\" font-family=\"sans-serif\" font-size=\"11\" font-style=\"italic\" lengthAdjust=\"spacingAndGlyphs\" textLength=\"80\" x=\"161\" y=\"122.7573\">:&gt;&gt;P1::porig1</text><line style=\"stroke: #A80036; stroke-width: 1.0;\" x1=\"156\" x2=\"186\" y1=\"93.3398\" y2=\"93.3398\"/><text fill=\"#000000\" font-family=\"sans-serif\" font-size=\"11\" lengthAdjust=\"spacingAndGlyphs\" textLength=\"30\" x=\"186\" y=\"96.6479\">ports</text><line style=\"stroke: #A80036; stroke-width: 1.0;\" x1=\"216\" x2=\"246\" y1=\"93.3398\" y2=\"93.3398\"/></a><!--MD5=[60a26617385b1d2d0262a64233df1f8d]\n",
       "class E6--><a href=\"psysml:28be41ac-7d51-495b-a80e-46db5ea96230\" target=\"_top\" title=\"psysml:28be41ac-7d51-495b-a80e-46db5ea96230\" xlink:actuate=\"onRequest\" xlink:href=\"psysml:28be41ac-7d51-495b-a80e-46db5ea96230\" xlink:show=\"new\" xlink:title=\"psysml:28be41ac-7d51-495b-a80e-46db5ea96230\" xlink:type=\"simple\"><rect fill=\"#FEFECE\" filter=\"url(#f14o3qb2445s0s)\" height=\"75.5469\" id=\"E6\" rx=\"10\" ry=\"10\" style=\"stroke: #A80036; stroke-width: 1.5;\" width=\"88\" x=\"32\" y=\"47\"/><ellipse cx=\"54.2\" cy=\"65.9688\" fill=\"#32CD32\" rx=\"11\" ry=\"11\" style=\"stroke: #A80036; stroke-width: 1.0;\"/><path d=\"M53.9969,61.6406 L53.9969,65.2656 L54.9969,65.2656 Q56.2,65.2656 56.6844,64.8594 Q57.1688,64.4531 57.1688,63.4531 Q57.1688,62.4531 56.6844,62.0469 Q56.2,61.6406 54.9969,61.6406 L53.9969,61.6406 Z M51.5438,59.5781 L54.9031,59.5781 Q57.4656,59.5781 58.5906,60.5 Q59.7156,61.4063 59.7156,63.4531 Q59.7156,65.5 58.5906,66.4219 Q57.4656,67.3281 54.9031,67.3281 L53.9969,67.3281 L53.9969,71.9688 L51.5438,71.9688 L51.5438,59.5781 Z \"/><text fill=\"#000000\" font-family=\"sans-serif\" font-size=\"12\" font-style=\"italic\" lengthAdjust=\"spacingAndGlyphs\" textLength=\"40\" x=\"69.8\" y=\"63.1387\">«part»</text><text fill=\"#000000\" font-family=\"sans-serif\" font-size=\"12\" lengthAdjust=\"spacingAndGlyphs\" textLength=\"40\" x=\"69.8\" y=\"77.1074\">p2: P1</text><line style=\"stroke: #A80036; stroke-width: 1.5;\" x1=\"33\" x2=\"119\" y1=\"84.9375\" y2=\"84.9375\"/><text fill=\"#000000\" font-family=\"sans-serif\" font-size=\"11\" lengthAdjust=\"spacingAndGlyphs\" textLength=\"32\" x=\"38\" y=\"115.9526\">pdest</text><text fill=\"#000000\" font-family=\"sans-serif\" font-size=\"11\" font-weight=\"bold\" lengthAdjust=\"spacingAndGlyphs\" textLength=\"15\" x=\"74\" y=\"115.9526\">as</text><text fill=\"#000000\" font-family=\"sans-serif\" font-size=\"11\" lengthAdjust=\"spacingAndGlyphs\" textLength=\"21\" x=\"93\" y=\"115.9526\">pd1</text><line style=\"stroke: #A80036; stroke-width: 1.0;\" x1=\"33\" x2=\"61\" y1=\"99.3398\" y2=\"99.3398\"/><text fill=\"#000000\" font-family=\"sans-serif\" font-size=\"11\" lengthAdjust=\"spacingAndGlyphs\" textLength=\"30\" x=\"61\" y=\"102.6479\">ports</text><line style=\"stroke: #A80036; stroke-width: 1.0;\" x1=\"91\" x2=\"119\" y1=\"99.3398\" y2=\"99.3398\"/></a><!--MD5=[185131fc0dcab0a4505a2ebe144e961b]\n",
       "link E4 to E2--><a href=\"psysml:8ce18664-e29b-46f0-97c0-4b398d523e7c\" target=\"_top\" title=\"psysml:8ce18664-e29b-46f0-97c0-4b398d523e7c\" xlink:actuate=\"onRequest\" xlink:href=\"psysml:8ce18664-e29b-46f0-97c0-4b398d523e7c\" xlink:show=\"new\" xlink:title=\"psysml:8ce18664-e29b-46f0-97c0-4b398d523e7c\" xlink:type=\"simple\"><path d=\"M181.38,129.35 C175.5,142.35 168.98,156.75 162.86,170.29 \" fill=\"none\" id=\"E4-&gt;E2\" style=\"stroke: #A80036; stroke-width: 1.0;\"/><polygon fill=\"#FFFFFF\" points=\"154.57,188.61,156.0203,168.4135,168.7767,174.1819,154.57,188.61\" style=\"stroke: #A80036; stroke-width: 1.0;\"/><ellipse cx=\"160.1912\" cy=\"164.0439\" fill=\"#A80036\" rx=\"2\" ry=\"2\" style=\"stroke: #A80036; stroke-width: 1.0;\"/><ellipse cx=\"169.3029\" cy=\"168.1642\" fill=\"#A80036\" rx=\"2\" ry=\"2\" style=\"stroke: #A80036; stroke-width: 1.0;\"/></a><!--MD5=[2351f337d6de0f557b50152ba70847b5]\n",
       "link E6 to E2--><a href=\"psysml:aea9633f-bca5-4d9c-866d-d7db5d7aa3e2\" target=\"_top\" title=\"psysml:aea9633f-bca5-4d9c-866d-d7db5d7aa3e2\" xlink:actuate=\"onRequest\" xlink:href=\"psysml:aea9633f-bca5-4d9c-866d-d7db5d7aa3e2\" xlink:show=\"new\" xlink:title=\"psysml:aea9633f-bca5-4d9c-866d-d7db5d7aa3e2\" xlink:type=\"simple\"><path d=\"M93.05,123.07 C99.73,137.61 107.53,154.55 114.77,170.32 \" fill=\"none\" id=\"E6-&gt;E2\" style=\"stroke: #A80036; stroke-width: 1.0;\"/><polygon fill=\"#FFFFFF\" points=\"123.24,188.72,108.9415,174.3829,121.6608,168.5332,123.24,188.72\" style=\"stroke: #A80036; stroke-width: 1.0;\"/><ellipse cx=\"108.3769\" cy=\"168.3687\" fill=\"#A80036\" rx=\"2\" ry=\"2\" style=\"stroke: #A80036; stroke-width: 1.0;\"/><ellipse cx=\"117.4621\" cy=\"164.1903\" fill=\"#A80036\" rx=\"2\" ry=\"2\" style=\"stroke: #A80036; stroke-width: 1.0;\"/></a><!--MD5=[e994bb99311eed273f9a941d8c17c39d]\n",
       "@startuml\r\n",
       " \r\n",
       "package \"AliasTest\" as E1  [[psysml:d6640503-c03f-477e-b125-432046bb93b4 ]]  {\r\n",
       "comp def \"P1\" as E2  << (B,green) >> [[psysml:4a06ff05-02b9-4148-90d6-f5221b7c40f0 ]] {\r\n",
       "- - ports - -\r\n",
       "porig1 <b>as</b> po1 \r\n",
       "}\r\n",
       "comp usage \"p1: P1\" as E4  << (P,limegreen) part>> [[psysml:9ecf2706-3ec0-4307-8293-70ef42ab2608 ]] {\r\n",
       "- - ports - -\r\n",
       "po1\\n//:>>P1::porig1// \r\n",
       "}\r\n",
       "comp usage \"p2: P1\" as E6  << (P,limegreen) part>> [[psysml:28be41ac-7d51-495b-a80e-46db5ea96230 ]] {\r\n",
       "- - ports - -\r\n",
       "pdest <b>as</b> pd1 \r\n",
       "}\r\n",
       "E4 - -:|> E2 [[psysml:8ce18664-e29b-46f0-97c0-4b398d523e7c ]] \r\n",
       "E6 - -:|> E2 [[psysml:aea9633f-bca5-4d9c-866d-d7db5d7aa3e2 ]] \r\n",
       "}\r\n",
       "@enduml\r\n",
       "\n",
       "PlantUML version 1.2020.13(Sat Jun 13 12:26:38 UTC 2020)\n",
       "(EPL source distribution)\n",
       "Java Runtime: OpenJDK Runtime Environment\n",
       "JVM: OpenJDK 64-Bit Server VM\n",
       "Default Encoding: UTF-8\n",
       "Language: en\n",
       "Country: null\n",
       "--></g></svg>"
      ]
     },
     "execution_count": 36,
     "metadata": {},
     "output_type": "execute_result"
    }
   ],
   "source": [
    "%viz --style=\"PLANTUML\" --view=\"MIXED\" \"AliasTest\""
   ]
  },
  {
   "cell_type": "code",
   "execution_count": 37,
   "id": "greenhouse-channel",
   "metadata": {
    "execution": {
     "iopub.execute_input": "2021-03-25T13:15:28.581444Z",
     "iopub.status.busy": "2021-03-25T13:15:28.580311Z",
     "iopub.status.idle": "2021-03-25T13:15:29.214872Z",
     "shell.execute_reply": "2021-03-25T13:15:29.212406Z"
    }
   },
   "outputs": [
    {
     "data": {
      "image/svg+xml": [
       "<?xml version=\"1.0\" encoding=\"UTF-8\" standalone=\"no\"?><svg xmlns=\"http://www.w3.org/2000/svg\" xmlns:xlink=\"http://www.w3.org/1999/xlink\" contentScriptType=\"application/ecmascript\" contentStyleType=\"text/css\" height=\"293px\" preserveAspectRatio=\"none\" style=\"width:285px;height:293px;\" version=\"1.1\" viewBox=\"0 0 285 293\" width=\"285px\" zoomAndPan=\"magnify\"><defs/><g><!--MD5=[fbc87193dbaf4d95561dea2c320d4a47]\n",
       "cluster E1--><a href=\"psysml:d6640503-c03f-477e-b125-432046bb93b4\" target=\"_top\" title=\"psysml:d6640503-c03f-477e-b125-432046bb93b4\" xlink:actuate=\"onRequest\" xlink:href=\"psysml:d6640503-c03f-477e-b125-432046bb93b4\" xlink:show=\"new\" xlink:title=\"psysml:d6640503-c03f-477e-b125-432046bb93b4\" xlink:type=\"simple\"><polygon fill=\"#FFFFFF\" points=\"16,6,94,6,101,28.2969,263,28.2969,263,281,16,281,16,6\" style=\"stroke: #000000; stroke-width: 1.5;\"/><line style=\"stroke: #000000; stroke-width: 1.5;\" x1=\"16\" x2=\"101\" y1=\"28.2969\" y2=\"28.2969\"/><text fill=\"#000000\" font-family=\"sans-serif\" font-size=\"14\" font-weight=\"bold\" lengthAdjust=\"spacingAndGlyphs\" textLength=\"72\" x=\"20\" y=\"20.9951\">AliasTest</text></a><!--MD5=[b4997ac47864f28c2f74865a473b2911]\n",
       "class E2--><a href=\"psysml:4a06ff05-02b9-4148-90d6-f5221b7c40f0\" target=\"_top\" title=\"psysml:4a06ff05-02b9-4148-90d6-f5221b7c40f0\" xlink:actuate=\"onRequest\" xlink:href=\"psysml:4a06ff05-02b9-4148-90d6-f5221b7c40f0\" xlink:show=\"new\" xlink:title=\"psysml:4a06ff05-02b9-4148-90d6-f5221b7c40f0\" xlink:type=\"simple\"><rect fill=\"#FFFFFF\" height=\"75.5469\" id=\"E2\" style=\"stroke: #383838; stroke-width: 1.5;\" width=\"92\" x=\"93\" y=\"189\"/><text fill=\"#000000\" font-family=\"sans-serif\" font-size=\"12\" font-style=\"italic\" lengthAdjust=\"spacingAndGlyphs\" textLength=\"64\" x=\"107\" y=\"205.1387\">«part def»</text><text fill=\"#000000\" font-family=\"sans-serif\" font-size=\"12\" lengthAdjust=\"spacingAndGlyphs\" textLength=\"16\" x=\"131\" y=\"219.1074\">P1</text><line style=\"stroke: #383838; stroke-width: 1.5;\" x1=\"94\" x2=\"184\" y1=\"226.9375\" y2=\"226.9375\"/><text fill=\"#000000\" font-family=\"sans-serif\" font-size=\"11\" lengthAdjust=\"spacingAndGlyphs\" textLength=\"36\" x=\"99\" y=\"257.9526\">porig1</text><text fill=\"#000000\" font-family=\"sans-serif\" font-size=\"11\" font-weight=\"bold\" lengthAdjust=\"spacingAndGlyphs\" textLength=\"15\" x=\"139\" y=\"257.9526\">as</text><text fill=\"#000000\" font-family=\"sans-serif\" font-size=\"11\" lengthAdjust=\"spacingAndGlyphs\" textLength=\"21\" x=\"158\" y=\"257.9526\">po1</text><line style=\"stroke: #383838; stroke-width: 1.0;\" x1=\"94\" x2=\"124\" y1=\"241.3398\" y2=\"241.3398\"/><text fill=\"#000000\" font-family=\"sans-serif\" font-size=\"11\" lengthAdjust=\"spacingAndGlyphs\" textLength=\"30\" x=\"124\" y=\"244.6479\">ports</text><line style=\"stroke: #383838; stroke-width: 1.0;\" x1=\"154\" x2=\"184\" y1=\"241.3398\" y2=\"241.3398\"/></a><!--MD5=[ebbe1d658d1005bcc118a6aa81145e00]\n",
       "class E4--><a href=\"psysml:9ecf2706-3ec0-4307-8293-70ef42ab2608\" target=\"_top\" title=\"psysml:9ecf2706-3ec0-4307-8293-70ef42ab2608\" xlink:actuate=\"onRequest\" xlink:href=\"psysml:9ecf2706-3ec0-4307-8293-70ef42ab2608\" xlink:show=\"new\" xlink:title=\"psysml:9ecf2706-3ec0-4307-8293-70ef42ab2608\" xlink:type=\"simple\"><rect fill=\"#FFFFFF\" height=\"88.3516\" id=\"E4\" rx=\"10\" ry=\"10\" style=\"stroke: #383838; stroke-width: 1.5;\" width=\"92\" x=\"155\" y=\"41\"/><text fill=\"#000000\" font-family=\"sans-serif\" font-size=\"12\" font-style=\"italic\" lengthAdjust=\"spacingAndGlyphs\" textLength=\"40\" x=\"181\" y=\"57.1387\">«part»</text><text fill=\"#000000\" font-family=\"sans-serif\" font-size=\"12\" lengthAdjust=\"spacingAndGlyphs\" textLength=\"40\" x=\"181\" y=\"71.1074\">p1: P1</text><line style=\"stroke: #383838; stroke-width: 1.5;\" x1=\"156\" x2=\"246\" y1=\"78.9375\" y2=\"78.9375\"/><text fill=\"#000000\" font-family=\"sans-serif\" font-size=\"11\" lengthAdjust=\"spacingAndGlyphs\" textLength=\"21\" x=\"161\" y=\"109.9526\">po1</text><text fill=\"#000000\" font-family=\"sans-serif\" font-size=\"11\" font-style=\"italic\" lengthAdjust=\"spacingAndGlyphs\" textLength=\"80\" x=\"161\" y=\"122.7573\">:&gt;&gt;P1::porig1</text><line style=\"stroke: #383838; stroke-width: 1.0;\" x1=\"156\" x2=\"186\" y1=\"93.3398\" y2=\"93.3398\"/><text fill=\"#000000\" font-family=\"sans-serif\" font-size=\"11\" lengthAdjust=\"spacingAndGlyphs\" textLength=\"30\" x=\"186\" y=\"96.6479\">ports</text><line style=\"stroke: #383838; stroke-width: 1.0;\" x1=\"216\" x2=\"246\" y1=\"93.3398\" y2=\"93.3398\"/></a><!--MD5=[60a26617385b1d2d0262a64233df1f8d]\n",
       "class E6--><a href=\"psysml:28be41ac-7d51-495b-a80e-46db5ea96230\" target=\"_top\" title=\"psysml:28be41ac-7d51-495b-a80e-46db5ea96230\" xlink:actuate=\"onRequest\" xlink:href=\"psysml:28be41ac-7d51-495b-a80e-46db5ea96230\" xlink:show=\"new\" xlink:title=\"psysml:28be41ac-7d51-495b-a80e-46db5ea96230\" xlink:type=\"simple\"><rect fill=\"#FFFFFF\" height=\"75.5469\" id=\"E6\" rx=\"10\" ry=\"10\" style=\"stroke: #383838; stroke-width: 1.5;\" width=\"88\" x=\"32\" y=\"47\"/><text fill=\"#000000\" font-family=\"sans-serif\" font-size=\"12\" font-style=\"italic\" lengthAdjust=\"spacingAndGlyphs\" textLength=\"40\" x=\"56\" y=\"63.1387\">«part»</text><text fill=\"#000000\" font-family=\"sans-serif\" font-size=\"12\" lengthAdjust=\"spacingAndGlyphs\" textLength=\"40\" x=\"56\" y=\"77.1074\">p2: P1</text><line style=\"stroke: #383838; stroke-width: 1.5;\" x1=\"33\" x2=\"119\" y1=\"84.9375\" y2=\"84.9375\"/><text fill=\"#000000\" font-family=\"sans-serif\" font-size=\"11\" lengthAdjust=\"spacingAndGlyphs\" textLength=\"32\" x=\"38\" y=\"115.9526\">pdest</text><text fill=\"#000000\" font-family=\"sans-serif\" font-size=\"11\" font-weight=\"bold\" lengthAdjust=\"spacingAndGlyphs\" textLength=\"15\" x=\"74\" y=\"115.9526\">as</text><text fill=\"#000000\" font-family=\"sans-serif\" font-size=\"11\" lengthAdjust=\"spacingAndGlyphs\" textLength=\"21\" x=\"93\" y=\"115.9526\">pd1</text><line style=\"stroke: #383838; stroke-width: 1.0;\" x1=\"33\" x2=\"61\" y1=\"99.3398\" y2=\"99.3398\"/><text fill=\"#000000\" font-family=\"sans-serif\" font-size=\"11\" lengthAdjust=\"spacingAndGlyphs\" textLength=\"30\" x=\"61\" y=\"102.6479\">ports</text><line style=\"stroke: #383838; stroke-width: 1.0;\" x1=\"91\" x2=\"119\" y1=\"99.3398\" y2=\"99.3398\"/></a><!--MD5=[185131fc0dcab0a4505a2ebe144e961b]\n",
       "link E4 to E2--><a href=\"psysml:8ce18664-e29b-46f0-97c0-4b398d523e7c\" target=\"_top\" title=\"psysml:8ce18664-e29b-46f0-97c0-4b398d523e7c\" xlink:actuate=\"onRequest\" xlink:href=\"psysml:8ce18664-e29b-46f0-97c0-4b398d523e7c\" xlink:show=\"new\" xlink:title=\"psysml:8ce18664-e29b-46f0-97c0-4b398d523e7c\" xlink:type=\"simple\"><path d=\"M181.89,129.15 C176.14,142.14 169.74,156.6 163.67,170.29 \" fill=\"none\" id=\"E4-&gt;E2\" style=\"stroke: #383838; stroke-width: 1.0;\"/><polygon fill=\"#FFFFFF\" points=\"155.43,188.9,156.725,168.693,169.5254,174.3632,155.43,188.9\" style=\"stroke: #383838; stroke-width: 1.0;\"/><ellipse cx=\"160.8622\" cy=\"164.2914\" fill=\"#383838\" rx=\"2\" ry=\"2\" style=\"stroke: #383838; stroke-width: 1.0;\"/><ellipse cx=\"170.0053\" cy=\"168.3416\" fill=\"#383838\" rx=\"2\" ry=\"2\" style=\"stroke: #383838; stroke-width: 1.0;\"/></a><!--MD5=[2351f337d6de0f557b50152ba70847b5]\n",
       "link E6 to E2--><a href=\"psysml:aea9633f-bca5-4d9c-866d-d7db5d7aa3e2\" target=\"_top\" title=\"psysml:aea9633f-bca5-4d9c-866d-d7db5d7aa3e2\" xlink:actuate=\"onRequest\" xlink:href=\"psysml:aea9633f-bca5-4d9c-866d-d7db5d7aa3e2\" xlink:show=\"new\" xlink:title=\"psysml:aea9633f-bca5-4d9c-866d-d7db5d7aa3e2\" xlink:type=\"simple\"><path d=\"M92.72,123.15 C99.23,137.63 106.84,154.53 113.98,170.4 \" fill=\"none\" id=\"E6-&gt;E2\" style=\"stroke: #383838; stroke-width: 1.0;\"/><polygon fill=\"#FFFFFF\" points=\"122.2,188.68,108.0257,174.22,120.7951,168.4803,122.2,188.68\" style=\"stroke: #383838; stroke-width: 1.0;\"/><ellipse cx=\"107.5131\" cy=\"168.2011\" fill=\"#383838\" rx=\"2\" ry=\"2\" style=\"stroke: #383838; stroke-width: 1.0;\"/><ellipse cx=\"116.634\" cy=\"164.1014\" fill=\"#383838\" rx=\"2\" ry=\"2\" style=\"stroke: #383838; stroke-width: 1.0;\"/></a><!--MD5=[9ce8f854ab25ac3c145f20ca827ddd3b]\n",
       "@startuml\r\n",
       "skinparam monochrome true\r\n",
       "skinparam classbackgroundcolor white\r\n",
       "skinparam shadowing false\r\n",
       "skinparam wrapWidth 300\r\n",
       "hide circle\r\n",
       "\r\n",
       "package \"AliasTest\" as E1  [[psysml:d6640503-c03f-477e-b125-432046bb93b4 ]]  {\r\n",
       "comp def \"P1\" as E2  <<(T,blue)part def>> [[psysml:4a06ff05-02b9-4148-90d6-f5221b7c40f0 ]] {\r\n",
       "- - ports - -\r\n",
       "porig1 <b>as</b> po1 \r\n",
       "}\r\n",
       "comp usage \"p1: P1\" as E4  <<(T,blue)part>> [[psysml:9ecf2706-3ec0-4307-8293-70ef42ab2608 ]] {\r\n",
       "- - ports - -\r\n",
       "po1\\n//:>>P1::porig1// \r\n",
       "}\r\n",
       "comp usage \"p2: P1\" as E6  <<(T,blue)part>> [[psysml:28be41ac-7d51-495b-a80e-46db5ea96230 ]] {\r\n",
       "- - ports - -\r\n",
       "pdest <b>as</b> pd1 \r\n",
       "}\r\n",
       "E4 - -:|> E2 [[psysml:8ce18664-e29b-46f0-97c0-4b398d523e7c ]] \r\n",
       "E6 - -:|> E2 [[psysml:aea9633f-bca5-4d9c-866d-d7db5d7aa3e2 ]] \r\n",
       "}\r\n",
       "@enduml\r\n",
       "\n",
       "PlantUML version 1.2020.13(Sat Jun 13 12:26:38 UTC 2020)\n",
       "(EPL source distribution)\n",
       "Java Runtime: OpenJDK Runtime Environment\n",
       "JVM: OpenJDK 64-Bit Server VM\n",
       "Default Encoding: UTF-8\n",
       "Language: en\n",
       "Country: null\n",
       "--></g></svg>"
      ]
     },
     "execution_count": 37,
     "metadata": {},
     "output_type": "execute_result"
    }
   ],
   "source": [
    "%viz --style=\"DEFAULT\" --view=\"Default\" \"AliasTest\""
   ]
  },
  {
   "cell_type": "code",
   "execution_count": 38,
   "id": "bacterial-affect",
   "metadata": {
    "execution": {
     "iopub.execute_input": "2021-03-25T13:15:29.263600Z",
     "iopub.status.busy": "2021-03-25T13:15:29.262644Z",
     "iopub.status.idle": "2021-03-25T13:15:29.882776Z",
     "shell.execute_reply": "2021-03-25T13:15:29.881325Z"
    }
   },
   "outputs": [
    {
     "data": {
      "image/svg+xml": [
       "<?xml version=\"1.0\" encoding=\"UTF-8\" standalone=\"no\"?><svg xmlns=\"http://www.w3.org/2000/svg\" xmlns:xlink=\"http://www.w3.org/1999/xlink\" contentScriptType=\"application/ecmascript\" contentStyleType=\"text/css\" height=\"293px\" preserveAspectRatio=\"none\" style=\"width:285px;height:293px;\" version=\"1.1\" viewBox=\"0 0 285 293\" width=\"285px\" zoomAndPan=\"magnify\"><defs/><g><!--MD5=[fbc87193dbaf4d95561dea2c320d4a47]\n",
       "cluster E1--><a href=\"psysml:d6640503-c03f-477e-b125-432046bb93b4\" target=\"_top\" title=\"psysml:d6640503-c03f-477e-b125-432046bb93b4\" xlink:actuate=\"onRequest\" xlink:href=\"psysml:d6640503-c03f-477e-b125-432046bb93b4\" xlink:show=\"new\" xlink:title=\"psysml:d6640503-c03f-477e-b125-432046bb93b4\" xlink:type=\"simple\"><polygon fill=\"#FFFFFF\" points=\"16,6,94,6,101,28.2969,263,28.2969,263,281,16,281,16,6\" style=\"stroke: #000000; stroke-width: 1.5;\"/><line style=\"stroke: #000000; stroke-width: 1.5;\" x1=\"16\" x2=\"101\" y1=\"28.2969\" y2=\"28.2969\"/><text fill=\"#000000\" font-family=\"sans-serif\" font-size=\"14\" font-weight=\"bold\" lengthAdjust=\"spacingAndGlyphs\" textLength=\"72\" x=\"20\" y=\"20.9951\">AliasTest</text></a><!--MD5=[b4997ac47864f28c2f74865a473b2911]\n",
       "class E2--><a href=\"psysml:4a06ff05-02b9-4148-90d6-f5221b7c40f0\" target=\"_top\" title=\"psysml:4a06ff05-02b9-4148-90d6-f5221b7c40f0\" xlink:actuate=\"onRequest\" xlink:href=\"psysml:4a06ff05-02b9-4148-90d6-f5221b7c40f0\" xlink:show=\"new\" xlink:title=\"psysml:4a06ff05-02b9-4148-90d6-f5221b7c40f0\" xlink:type=\"simple\"><rect fill=\"#FFFFFF\" height=\"75.5469\" id=\"E2\" style=\"stroke: #383838; stroke-width: 1.5;\" width=\"92\" x=\"93\" y=\"189\"/><text fill=\"#000000\" font-family=\"sans-serif\" font-size=\"12\" font-style=\"italic\" lengthAdjust=\"spacingAndGlyphs\" textLength=\"64\" x=\"107\" y=\"205.1387\">«part def»</text><text fill=\"#000000\" font-family=\"sans-serif\" font-size=\"12\" lengthAdjust=\"spacingAndGlyphs\" textLength=\"16\" x=\"131\" y=\"219.1074\">P1</text><line style=\"stroke: #383838; stroke-width: 1.5;\" x1=\"94\" x2=\"184\" y1=\"226.9375\" y2=\"226.9375\"/><text fill=\"#000000\" font-family=\"sans-serif\" font-size=\"11\" lengthAdjust=\"spacingAndGlyphs\" textLength=\"36\" x=\"99\" y=\"257.9526\">porig1</text><text fill=\"#000000\" font-family=\"sans-serif\" font-size=\"11\" font-weight=\"bold\" lengthAdjust=\"spacingAndGlyphs\" textLength=\"15\" x=\"139\" y=\"257.9526\">as</text><text fill=\"#000000\" font-family=\"sans-serif\" font-size=\"11\" lengthAdjust=\"spacingAndGlyphs\" textLength=\"21\" x=\"158\" y=\"257.9526\">po1</text><line style=\"stroke: #383838; stroke-width: 1.0;\" x1=\"94\" x2=\"124\" y1=\"241.3398\" y2=\"241.3398\"/><text fill=\"#000000\" font-family=\"sans-serif\" font-size=\"11\" lengthAdjust=\"spacingAndGlyphs\" textLength=\"30\" x=\"124\" y=\"244.6479\">ports</text><line style=\"stroke: #383838; stroke-width: 1.0;\" x1=\"154\" x2=\"184\" y1=\"241.3398\" y2=\"241.3398\"/></a><!--MD5=[ebbe1d658d1005bcc118a6aa81145e00]\n",
       "class E4--><a href=\"psysml:9ecf2706-3ec0-4307-8293-70ef42ab2608\" target=\"_top\" title=\"psysml:9ecf2706-3ec0-4307-8293-70ef42ab2608\" xlink:actuate=\"onRequest\" xlink:href=\"psysml:9ecf2706-3ec0-4307-8293-70ef42ab2608\" xlink:show=\"new\" xlink:title=\"psysml:9ecf2706-3ec0-4307-8293-70ef42ab2608\" xlink:type=\"simple\"><rect fill=\"#FFFFFF\" height=\"88.3516\" id=\"E4\" rx=\"10\" ry=\"10\" style=\"stroke: #383838; stroke-width: 1.5;\" width=\"92\" x=\"155\" y=\"41\"/><text fill=\"#000000\" font-family=\"sans-serif\" font-size=\"12\" font-style=\"italic\" lengthAdjust=\"spacingAndGlyphs\" textLength=\"40\" x=\"181\" y=\"57.1387\">«part»</text><text fill=\"#000000\" font-family=\"sans-serif\" font-size=\"12\" lengthAdjust=\"spacingAndGlyphs\" textLength=\"40\" x=\"181\" y=\"71.1074\">p1: P1</text><line style=\"stroke: #383838; stroke-width: 1.5;\" x1=\"156\" x2=\"246\" y1=\"78.9375\" y2=\"78.9375\"/><text fill=\"#000000\" font-family=\"sans-serif\" font-size=\"11\" lengthAdjust=\"spacingAndGlyphs\" textLength=\"21\" x=\"161\" y=\"109.9526\">po1</text><text fill=\"#000000\" font-family=\"sans-serif\" font-size=\"11\" font-style=\"italic\" lengthAdjust=\"spacingAndGlyphs\" textLength=\"80\" x=\"161\" y=\"122.7573\">:&gt;&gt;P1::porig1</text><line style=\"stroke: #383838; stroke-width: 1.0;\" x1=\"156\" x2=\"186\" y1=\"93.3398\" y2=\"93.3398\"/><text fill=\"#000000\" font-family=\"sans-serif\" font-size=\"11\" lengthAdjust=\"spacingAndGlyphs\" textLength=\"30\" x=\"186\" y=\"96.6479\">ports</text><line style=\"stroke: #383838; stroke-width: 1.0;\" x1=\"216\" x2=\"246\" y1=\"93.3398\" y2=\"93.3398\"/></a><!--MD5=[60a26617385b1d2d0262a64233df1f8d]\n",
       "class E6--><a href=\"psysml:28be41ac-7d51-495b-a80e-46db5ea96230\" target=\"_top\" title=\"psysml:28be41ac-7d51-495b-a80e-46db5ea96230\" xlink:actuate=\"onRequest\" xlink:href=\"psysml:28be41ac-7d51-495b-a80e-46db5ea96230\" xlink:show=\"new\" xlink:title=\"psysml:28be41ac-7d51-495b-a80e-46db5ea96230\" xlink:type=\"simple\"><rect fill=\"#FFFFFF\" height=\"75.5469\" id=\"E6\" rx=\"10\" ry=\"10\" style=\"stroke: #383838; stroke-width: 1.5;\" width=\"88\" x=\"32\" y=\"47\"/><text fill=\"#000000\" font-family=\"sans-serif\" font-size=\"12\" font-style=\"italic\" lengthAdjust=\"spacingAndGlyphs\" textLength=\"40\" x=\"56\" y=\"63.1387\">«part»</text><text fill=\"#000000\" font-family=\"sans-serif\" font-size=\"12\" lengthAdjust=\"spacingAndGlyphs\" textLength=\"40\" x=\"56\" y=\"77.1074\">p2: P1</text><line style=\"stroke: #383838; stroke-width: 1.5;\" x1=\"33\" x2=\"119\" y1=\"84.9375\" y2=\"84.9375\"/><text fill=\"#000000\" font-family=\"sans-serif\" font-size=\"11\" lengthAdjust=\"spacingAndGlyphs\" textLength=\"32\" x=\"38\" y=\"115.9526\">pdest</text><text fill=\"#000000\" font-family=\"sans-serif\" font-size=\"11\" font-weight=\"bold\" lengthAdjust=\"spacingAndGlyphs\" textLength=\"15\" x=\"74\" y=\"115.9526\">as</text><text fill=\"#000000\" font-family=\"sans-serif\" font-size=\"11\" lengthAdjust=\"spacingAndGlyphs\" textLength=\"21\" x=\"93\" y=\"115.9526\">pd1</text><line style=\"stroke: #383838; stroke-width: 1.0;\" x1=\"33\" x2=\"61\" y1=\"99.3398\" y2=\"99.3398\"/><text fill=\"#000000\" font-family=\"sans-serif\" font-size=\"11\" lengthAdjust=\"spacingAndGlyphs\" textLength=\"30\" x=\"61\" y=\"102.6479\">ports</text><line style=\"stroke: #383838; stroke-width: 1.0;\" x1=\"91\" x2=\"119\" y1=\"99.3398\" y2=\"99.3398\"/></a><!--MD5=[185131fc0dcab0a4505a2ebe144e961b]\n",
       "link E4 to E2--><a href=\"psysml:8ce18664-e29b-46f0-97c0-4b398d523e7c\" target=\"_top\" title=\"psysml:8ce18664-e29b-46f0-97c0-4b398d523e7c\" xlink:actuate=\"onRequest\" xlink:href=\"psysml:8ce18664-e29b-46f0-97c0-4b398d523e7c\" xlink:show=\"new\" xlink:title=\"psysml:8ce18664-e29b-46f0-97c0-4b398d523e7c\" xlink:type=\"simple\"><path d=\"M181.89,129.15 C176.14,142.14 169.74,156.6 163.67,170.29 \" fill=\"none\" id=\"E4-&gt;E2\" style=\"stroke: #383838; stroke-width: 1.0;\"/><polygon fill=\"#FFFFFF\" points=\"155.43,188.9,156.725,168.693,169.5254,174.3632,155.43,188.9\" style=\"stroke: #383838; stroke-width: 1.0;\"/><ellipse cx=\"160.8622\" cy=\"164.2914\" fill=\"#383838\" rx=\"2\" ry=\"2\" style=\"stroke: #383838; stroke-width: 1.0;\"/><ellipse cx=\"170.0053\" cy=\"168.3416\" fill=\"#383838\" rx=\"2\" ry=\"2\" style=\"stroke: #383838; stroke-width: 1.0;\"/></a><!--MD5=[2351f337d6de0f557b50152ba70847b5]\n",
       "link E6 to E2--><a href=\"psysml:aea9633f-bca5-4d9c-866d-d7db5d7aa3e2\" target=\"_top\" title=\"psysml:aea9633f-bca5-4d9c-866d-d7db5d7aa3e2\" xlink:actuate=\"onRequest\" xlink:href=\"psysml:aea9633f-bca5-4d9c-866d-d7db5d7aa3e2\" xlink:show=\"new\" xlink:title=\"psysml:aea9633f-bca5-4d9c-866d-d7db5d7aa3e2\" xlink:type=\"simple\"><path d=\"M92.72,123.15 C99.23,137.63 106.84,154.53 113.98,170.4 \" fill=\"none\" id=\"E6-&gt;E2\" style=\"stroke: #383838; stroke-width: 1.0;\"/><polygon fill=\"#FFFFFF\" points=\"122.2,188.68,108.0257,174.22,120.7951,168.4803,122.2,188.68\" style=\"stroke: #383838; stroke-width: 1.0;\"/><ellipse cx=\"107.5131\" cy=\"168.2011\" fill=\"#383838\" rx=\"2\" ry=\"2\" style=\"stroke: #383838; stroke-width: 1.0;\"/><ellipse cx=\"116.634\" cy=\"164.1014\" fill=\"#383838\" rx=\"2\" ry=\"2\" style=\"stroke: #383838; stroke-width: 1.0;\"/></a><!--MD5=[9ce8f854ab25ac3c145f20ca827ddd3b]\n",
       "@startuml\r\n",
       "skinparam monochrome true\r\n",
       "skinparam classbackgroundcolor white\r\n",
       "skinparam shadowing false\r\n",
       "skinparam wrapWidth 300\r\n",
       "hide circle\r\n",
       "\r\n",
       "package \"AliasTest\" as E1  [[psysml:d6640503-c03f-477e-b125-432046bb93b4 ]]  {\r\n",
       "comp def \"P1\" as E2  <<(T,blue)part def>> [[psysml:4a06ff05-02b9-4148-90d6-f5221b7c40f0 ]] {\r\n",
       "- - ports - -\r\n",
       "porig1 <b>as</b> po1 \r\n",
       "}\r\n",
       "comp usage \"p1: P1\" as E4  <<(T,blue)part>> [[psysml:9ecf2706-3ec0-4307-8293-70ef42ab2608 ]] {\r\n",
       "- - ports - -\r\n",
       "po1\\n//:>>P1::porig1// \r\n",
       "}\r\n",
       "comp usage \"p2: P1\" as E6  <<(T,blue)part>> [[psysml:28be41ac-7d51-495b-a80e-46db5ea96230 ]] {\r\n",
       "- - ports - -\r\n",
       "pdest <b>as</b> pd1 \r\n",
       "}\r\n",
       "E4 - -:|> E2 [[psysml:8ce18664-e29b-46f0-97c0-4b398d523e7c ]] \r\n",
       "E6 - -:|> E2 [[psysml:aea9633f-bca5-4d9c-866d-d7db5d7aa3e2 ]] \r\n",
       "}\r\n",
       "@enduml\r\n",
       "\n",
       "PlantUML version 1.2020.13(Sat Jun 13 12:26:38 UTC 2020)\n",
       "(EPL source distribution)\n",
       "Java Runtime: OpenJDK Runtime Environment\n",
       "JVM: OpenJDK 64-Bit Server VM\n",
       "Default Encoding: UTF-8\n",
       "Language: en\n",
       "Country: null\n",
       "--></g></svg>"
      ]
     },
     "execution_count": 38,
     "metadata": {},
     "output_type": "execute_result"
    }
   ],
   "source": [
    "%viz --style=\"DEFAULT\" --view=\"Tree\" \"AliasTest\""
   ]
  },
  {
   "cell_type": "code",
   "execution_count": 39,
   "id": "interesting-testing",
   "metadata": {
    "execution": {
     "iopub.execute_input": "2021-03-25T13:15:29.933432Z",
     "iopub.status.busy": "2021-03-25T13:15:29.932713Z",
     "iopub.status.idle": "2021-03-25T13:15:29.940676Z",
     "shell.execute_reply": "2021-03-25T13:15:29.940236Z"
    }
   },
   "outputs": [
    {
     "data": {
      "image/svg+xml": [
       "<?xml version=\"1.0\" encoding=\"UTF-8\" standalone=\"no\"?><svg xmlns=\"http://www.w3.org/2000/svg\" xmlns:xlink=\"http://www.w3.org/1999/xlink\" contentScriptType=\"application/ecmascript\" contentStyleType=\"text/css\" height=\"12px\" preserveAspectRatio=\"none\" style=\"width:12px;height:12px;\" version=\"1.1\" viewBox=\"0 0 12 12\" width=\"12px\" zoomAndPan=\"magnify\"><defs/><g><!--MD5=[c5f280e076d0d61ccf4b0f27871bda1d]\n",
       "@startuml\r\n",
       "skinparam monochrome true\r\n",
       "skinparam classbackgroundcolor white\r\n",
       "skinparam shadowing false\r\n",
       "skinparam wrapWidth 300\r\n",
       "hide circle\r\n",
       "\r\n",
       "@enduml\r\n",
       "\n",
       "PlantUML version 1.2020.13(Sat Jun 13 12:26:38 UTC 2020)\n",
       "(EPL source distribution)\n",
       "Java Runtime: OpenJDK Runtime Environment\n",
       "JVM: OpenJDK 64-Bit Server VM\n",
       "Default Encoding: UTF-8\n",
       "Language: en\n",
       "Country: null\n",
       "--></g></svg>"
      ]
     },
     "execution_count": 39,
     "metadata": {},
     "output_type": "execute_result"
    }
   ],
   "source": [
    "%viz --style=\"DEFAULT\" --view=\"State\" \"AliasTest\""
   ]
  },
  {
   "cell_type": "code",
   "execution_count": 40,
   "id": "deluxe-camera",
   "metadata": {
    "execution": {
     "iopub.execute_input": "2021-03-25T13:15:29.991449Z",
     "iopub.status.busy": "2021-03-25T13:15:29.990992Z",
     "iopub.status.idle": "2021-03-25T13:15:30.109344Z",
     "shell.execute_reply": "2021-03-25T13:15:30.107748Z"
    }
   },
   "outputs": [
    {
     "data": {
      "image/svg+xml": [
       "<?xml version=\"1.0\" encoding=\"UTF-8\" standalone=\"no\"?><svg xmlns=\"http://www.w3.org/2000/svg\" xmlns:xlink=\"http://www.w3.org/1999/xlink\" contentScriptType=\"application/ecmascript\" contentStyleType=\"text/css\" height=\"207px\" preserveAspectRatio=\"none\" style=\"width:406px;height:207px;\" version=\"1.1\" viewBox=\"0 0 406 207\" width=\"406px\" zoomAndPan=\"magnify\"><defs/><g><!--MD5=[fbc87193dbaf4d95561dea2c320d4a47]\n",
       "cluster E1--><a href=\"psysml:d6640503-c03f-477e-b125-432046bb93b4\" target=\"_top\" title=\"psysml:d6640503-c03f-477e-b125-432046bb93b4\" xlink:actuate=\"onRequest\" xlink:href=\"psysml:d6640503-c03f-477e-b125-432046bb93b4\" xlink:show=\"new\" xlink:title=\"psysml:d6640503-c03f-477e-b125-432046bb93b4\" xlink:type=\"simple\"><polygon fill=\"#FFFFFF\" points=\"16,6,94,6,101,28.2969,384,28.2969,384,195,16,195,16,6\" style=\"stroke: #000000; stroke-width: 1.5;\"/><line style=\"stroke: #000000; stroke-width: 1.5;\" x1=\"16\" x2=\"101\" y1=\"28.2969\" y2=\"28.2969\"/><text fill=\"#000000\" font-family=\"sans-serif\" font-size=\"14\" font-weight=\"bold\" lengthAdjust=\"spacingAndGlyphs\" textLength=\"72\" x=\"20\" y=\"20.9951\">AliasTest</text></a><!--MD5=[e4f7fae6ed58524ba242bb0b0d3be6b7]\n",
       "cluster E2--><a href=\"psysml:4a06ff05-02b9-4148-90d6-f5221b7c40f0\" target=\"_top\" title=\"psysml:4a06ff05-02b9-4148-90d6-f5221b7c40f0\" xlink:actuate=\"onRequest\" xlink:href=\"psysml:4a06ff05-02b9-4148-90d6-f5221b7c40f0\" xlink:show=\"new\" xlink:title=\"psysml:4a06ff05-02b9-4148-90d6-f5221b7c40f0\" xlink:type=\"simple\"><rect fill=\"#FFFFFF\" height=\"73\" id=\"E2\" style=\"stroke: #383838; stroke-width: 1.5;\" width=\"83\" x=\"244\" y=\"55\"/><rect fill=\"#F8F8F8\" height=\"37.9375\" style=\"stroke: #383838; stroke-width: 1.5;\" width=\"83\" x=\"244\" y=\"55\"/><text fill=\"#000000\" font-family=\"sans-serif\" font-size=\"12\" font-style=\"italic\" lengthAdjust=\"spacingAndGlyphs\" textLength=\"64\" x=\"253.5\" y=\"71.1387\">«part def»</text><text fill=\"#000000\" font-family=\"sans-serif\" font-size=\"12\" lengthAdjust=\"spacingAndGlyphs\" textLength=\"16\" x=\"277.5\" y=\"85.1074\">P1</text></a><!--MD5=[de5ec2e2e8f62f467e546659f5068c88]\n",
       "cluster E5--><a href=\"psysml:9ecf2706-3ec0-4307-8293-70ef42ab2608\" target=\"_top\" title=\"psysml:9ecf2706-3ec0-4307-8293-70ef42ab2608\" xlink:actuate=\"onRequest\" xlink:href=\"psysml:9ecf2706-3ec0-4307-8293-70ef42ab2608\" xlink:show=\"new\" xlink:title=\"psysml:9ecf2706-3ec0-4307-8293-70ef42ab2608\" xlink:type=\"simple\"><rect fill=\"#FFFFFF\" height=\"84.5\" id=\"E5\" rx=\"10\" ry=\"10\" style=\"stroke: #383838; stroke-width: 1.5;\" width=\"101\" x=\"139\" y=\"94.5\"/><rect fill=\"#F8F8F8\" height=\"23.9688\" rx=\"10\" ry=\"10\" style=\"stroke: #F8F8F8; stroke-width: 1.5;\" width=\"101\" x=\"139\" y=\"94.5\"/><rect fill=\"#F8F8F8\" height=\"10\" style=\"stroke: #F8F8F8; stroke-width: 1.5;\" width=\"101\" x=\"139\" y=\"108.4688\"/><rect fill=\"none\" height=\"84.5\" id=\"E5\" rx=\"10\" ry=\"10\" style=\"stroke: #383838; stroke-width: 1.5;\" width=\"101\" x=\"139\" y=\"94.5\"/><text fill=\"#000000\" font-family=\"sans-serif\" font-size=\"12\" lengthAdjust=\"spacingAndGlyphs\" textLength=\"40\" x=\"169.5\" y=\"110.6387\">p1: P1</text><line style=\"stroke: #383838; stroke-width: 1.0;\" x1=\"139\" x2=\"240\" y1=\"118.4688\" y2=\"118.4688\"/></a><!--MD5=[168fadf3d0c3fd93dd5d6da1b1d7ab76]\n",
       "cluster E7--><a href=\"psysml:28be41ac-7d51-495b-a80e-46db5ea96230\" target=\"_top\" title=\"psysml:28be41ac-7d51-495b-a80e-46db5ea96230\" xlink:actuate=\"onRequest\" xlink:href=\"psysml:28be41ac-7d51-495b-a80e-46db5ea96230\" xlink:show=\"new\" xlink:title=\"psysml:28be41ac-7d51-495b-a80e-46db5ea96230\" xlink:type=\"simple\"><rect fill=\"#FFFFFF\" height=\"65\" id=\"E7\" rx=\"10\" ry=\"10\" style=\"stroke: #383838; stroke-width: 1.5;\" width=\"83\" x=\"53\" y=\"55\"/><rect fill=\"#F8F8F8\" height=\"23.9688\" rx=\"10\" ry=\"10\" style=\"stroke: #F8F8F8; stroke-width: 1.5;\" width=\"83\" x=\"53\" y=\"55\"/><rect fill=\"#F8F8F8\" height=\"10\" style=\"stroke: #F8F8F8; stroke-width: 1.5;\" width=\"83\" x=\"53\" y=\"68.9688\"/><rect fill=\"none\" height=\"65\" id=\"E7\" rx=\"10\" ry=\"10\" style=\"stroke: #383838; stroke-width: 1.5;\" width=\"83\" x=\"53\" y=\"55\"/><text fill=\"#000000\" font-family=\"sans-serif\" font-size=\"12\" lengthAdjust=\"spacingAndGlyphs\" textLength=\"40\" x=\"74.5\" y=\"71.1387\">p2: P1</text><line style=\"stroke: #383838; stroke-width: 1.0;\" x1=\"53\" x2=\"136\" y1=\"78.9688\" y2=\"78.9688\"/></a><text fill=\"#000000\" font-family=\"sans-serif\" font-size=\"14\" lengthAdjust=\"spacingAndGlyphs\" textLength=\"44\" x=\"240\" y=\"33.6982\">porig1</text><rect fill=\"#383838\" height=\"12\" style=\"stroke: #F8F8F8; stroke-width: 1.5;\" width=\"12\" x=\"256\" y=\"49\"/><text fill=\"#000000\" font-family=\"sans-serif\" font-size=\"14\" lengthAdjust=\"spacingAndGlyphs\" textLength=\"44\" x=\"287\" y=\"33.6982\">porig1</text><rect fill=\"#383838\" height=\"12\" style=\"stroke: #F8F8F8; stroke-width: 1.5;\" width=\"12\" x=\"303\" y=\"49\"/><text fill=\"#000000\" font-family=\"sans-serif\" font-size=\"14\" lengthAdjust=\"spacingAndGlyphs\" textLength=\"27\" x=\"143.5\" y=\"73.1982\">po1</text><rect fill=\"#383838\" height=\"12\" style=\"stroke: #F8F8F8; stroke-width: 1.5;\" width=\"12\" x=\"151\" y=\"88.5\"/><text fill=\"#000000\" font-family=\"sans-serif\" font-size=\"14\" lengthAdjust=\"spacingAndGlyphs\" textLength=\"40\" x=\"51\" y=\"33.6982\">pdest</text><rect fill=\"#383838\" height=\"12\" style=\"stroke: #F8F8F8; stroke-width: 1.5;\" width=\"12\" x=\"65\" y=\"49\"/><text fill=\"#000000\" font-family=\"sans-serif\" font-size=\"14\" lengthAdjust=\"spacingAndGlyphs\" textLength=\"40\" x=\"98\" y=\"33.6982\">pdest</text><rect fill=\"#383838\" height=\"12\" style=\"stroke: #F8F8F8; stroke-width: 1.5;\" width=\"12\" x=\"112\" y=\"49\"/><!--MD5=[60ac2c0cde89d4308155b0484e57a8ec]\n",
       "link E9 to E6--><a href=\"psysml:32f11bb0-f29d-43a1-aa99-c5cb95a5777d\" target=\"_top\" title=\"psysml:32f11bb0-f29d-43a1-aa99-c5cb95a5777d\" xlink:actuate=\"onRequest\" xlink:href=\"psysml:32f11bb0-f29d-43a1-aa99-c5cb95a5777d\" xlink:show=\"new\" xlink:title=\"psysml:32f11bb0-f29d-43a1-aa99-c5cb95a5777d\" xlink:type=\"simple\"><path d=\"M111.75,56.49 C103.41,58.2 109.82,64.05 115,69 C124.85,78.4 136.6,90.11 150.78,92.89 \" fill=\"none\" id=\"E9-E6\" style=\"stroke: #383838; stroke-width: 3.0;\"/></a><!--MD5=[60ac2c0cde89d4308155b0484e57a8ec]\n",
       "link E9 to E6--><a href=\"psysml:e24ce1f4-3e8e-4ff6-8278-f74c062e3ad6\" target=\"_top\" title=\"psysml:e24ce1f4-3e8e-4ff6-8278-f74c062e3ad6\" xlink:actuate=\"onRequest\" xlink:href=\"psysml:e24ce1f4-3e8e-4ff6-8278-f74c062e3ad6\" xlink:show=\"new\" xlink:title=\"psysml:e24ce1f4-3e8e-4ff6-8278-f74c062e3ad6\" xlink:type=\"simple\"><path d=\"M124.29,56.32 C137.94,57.76 144.62,63.87 150,69 C159.5,78.06 170.77,89.27 163.24,92.56 \" fill=\"none\" id=\"E9-E6-1\" style=\"stroke: #383838; stroke-width: 3.0;\"/></a><!--MD5=[bd5b7e42deb87827bebfa56f48fe37eb]\n",
       "@startuml\r\n",
       "skinparam ranksep 8\r\n",
       "skinparam rectangle {\r\n",
       " backgroundColor<<block>> LightGreen\r\n",
       "}\r\n",
       "skinparam monochrome true\r\n",
       "skinparam classbackgroundcolor white\r\n",
       "skinparam shadowing false\r\n",
       "skinparam wrapWidth 300\r\n",
       "hide circle\r\n",
       "\r\n",
       "package \"AliasTest\" as E1  [[psysml:d6640503-c03f-477e-b125-432046bb93b4 ]]  {\r\n",
       "rec def \"P1\" as E2  <<(T,blue)part def>> [[psysml:4a06ff05-02b9-4148-90d6-f5221b7c40f0 ]] {\r\n",
       "portin \"porig1\" as E3  <<(T,blue)port>> [[psysml:2b77977e-0e87-40fa-bfcc-86d3bbd61ac4 ]] \r\n",
       "portin \"porig1\" as E4  <<(T,blue)port>> [[psysml:2b77977e-0e87-40fa-bfcc-86d3bbd61ac4 ]] \r\n",
       "}\r\n",
       "rec usage \"p1: P1\" as E5  [[psysml:9ecf2706-3ec0-4307-8293-70ef42ab2608 ]] {\r\n",
       "portin \"po1\" as E6  <<(T,blue)port>> [[psysml:040fe1ca-6ed4-4b89-a2be-3a2910b81d71 ]] \r\n",
       "}\r\n",
       "rec usage \"p2: P1\" as E7  [[psysml:28be41ac-7d51-495b-a80e-46db5ea96230 ]] {\r\n",
       "portin \"pdest\" as E8  <<(T,blue)port>> [[psysml:35e7e96c-66ea-4900-a048-bf88e7083b58 ]] \r\n",
       "portin \"pdest\" as E9  <<(T,blue)port>> [[psysml:35e7e96c-66ea-4900-a048-bf88e7083b58 ]] \r\n",
       "}\r\n",
       "E9 -[thickness=3]- E6 [[psysml:32f11bb0-f29d-43a1-aa99-c5cb95a5777d ]] \r\n",
       "E9 -[thickness=3]- E6 [[psysml:e24ce1f4-3e8e-4ff6-8278-f74c062e3ad6 ]] \r\n",
       "}\r\n",
       "@enduml\r\n",
       "\n",
       "PlantUML version 1.2020.13(Sat Jun 13 12:26:38 UTC 2020)\n",
       "(EPL source distribution)\n",
       "Java Runtime: OpenJDK Runtime Environment\n",
       "JVM: OpenJDK 64-Bit Server VM\n",
       "Default Encoding: UTF-8\n",
       "Language: en\n",
       "Country: null\n",
       "--></g></svg>"
      ]
     },
     "execution_count": 40,
     "metadata": {},
     "output_type": "execute_result"
    }
   ],
   "source": [
    "%viz --style=\"DEFAULT\" --view=\"Interconnection\" \"AliasTest\""
   ]
  },
  {
   "cell_type": "code",
   "execution_count": 41,
   "id": "becoming-seeker",
   "metadata": {
    "execution": {
     "iopub.execute_input": "2021-03-25T13:15:30.159758Z",
     "iopub.status.busy": "2021-03-25T13:15:30.158971Z",
     "iopub.status.idle": "2021-03-25T13:15:30.167988Z",
     "shell.execute_reply": "2021-03-25T13:15:30.167510Z"
    }
   },
   "outputs": [
    {
     "data": {
      "image/svg+xml": [
       "<?xml version=\"1.0\" encoding=\"UTF-8\" standalone=\"no\"?><svg xmlns=\"http://www.w3.org/2000/svg\" xmlns:xlink=\"http://www.w3.org/1999/xlink\" contentScriptType=\"application/ecmascript\" contentStyleType=\"text/css\" height=\"12px\" preserveAspectRatio=\"none\" style=\"width:12px;height:12px;\" version=\"1.1\" viewBox=\"0 0 12 12\" width=\"12px\" zoomAndPan=\"magnify\"><defs/><g><!--MD5=[388f21188e31bfdd97050473b19af356]\n",
       "@startuml\r\n",
       "skinparam ranksep 8\r\n",
       "skinparam monochrome true\r\n",
       "skinparam classbackgroundcolor white\r\n",
       "skinparam shadowing false\r\n",
       "skinparam wrapWidth 300\r\n",
       "hide circle\r\n",
       "\r\n",
       "@enduml\r\n",
       "\n",
       "PlantUML version 1.2020.13(Sat Jun 13 12:26:38 UTC 2020)\n",
       "(EPL source distribution)\n",
       "Java Runtime: OpenJDK Runtime Environment\n",
       "JVM: OpenJDK 64-Bit Server VM\n",
       "Default Encoding: UTF-8\n",
       "Language: en\n",
       "Country: null\n",
       "--></g></svg>"
      ]
     },
     "execution_count": 41,
     "metadata": {},
     "output_type": "execute_result"
    }
   ],
   "source": [
    "%viz --style=\"DEFAULT\" --view=\"Action\" \"AliasTest\""
   ]
  },
  {
   "cell_type": "code",
   "execution_count": 42,
   "id": "aquatic-tracker",
   "metadata": {
    "execution": {
     "iopub.execute_input": "2021-03-25T13:15:30.218374Z",
     "iopub.status.busy": "2021-03-25T13:15:30.217471Z",
     "iopub.status.idle": "2021-03-25T13:15:30.842640Z",
     "shell.execute_reply": "2021-03-25T13:15:30.840693Z"
    }
   },
   "outputs": [
    {
     "data": {
      "image/svg+xml": [
       "<?xml version=\"1.0\" encoding=\"UTF-8\" standalone=\"no\"?><svg xmlns=\"http://www.w3.org/2000/svg\" xmlns:xlink=\"http://www.w3.org/1999/xlink\" contentScriptType=\"application/ecmascript\" contentStyleType=\"text/css\" height=\"293px\" preserveAspectRatio=\"none\" style=\"width:285px;height:293px;\" version=\"1.1\" viewBox=\"0 0 285 293\" width=\"285px\" zoomAndPan=\"magnify\"><defs/><g><!--MD5=[fbc87193dbaf4d95561dea2c320d4a47]\n",
       "cluster E1--><a href=\"psysml:d6640503-c03f-477e-b125-432046bb93b4\" target=\"_top\" title=\"psysml:d6640503-c03f-477e-b125-432046bb93b4\" xlink:actuate=\"onRequest\" xlink:href=\"psysml:d6640503-c03f-477e-b125-432046bb93b4\" xlink:show=\"new\" xlink:title=\"psysml:d6640503-c03f-477e-b125-432046bb93b4\" xlink:type=\"simple\"><polygon fill=\"#FFFFFF\" points=\"16,6,94,6,101,28.2969,263,28.2969,263,281,16,281,16,6\" style=\"stroke: #000000; stroke-width: 1.5;\"/><line style=\"stroke: #000000; stroke-width: 1.5;\" x1=\"16\" x2=\"101\" y1=\"28.2969\" y2=\"28.2969\"/><text fill=\"#000000\" font-family=\"sans-serif\" font-size=\"14\" font-weight=\"bold\" lengthAdjust=\"spacingAndGlyphs\" textLength=\"72\" x=\"20\" y=\"20.9951\">AliasTest</text></a><!--MD5=[b4997ac47864f28c2f74865a473b2911]\n",
       "class E2--><a href=\"psysml:4a06ff05-02b9-4148-90d6-f5221b7c40f0\" target=\"_top\" title=\"psysml:4a06ff05-02b9-4148-90d6-f5221b7c40f0\" xlink:actuate=\"onRequest\" xlink:href=\"psysml:4a06ff05-02b9-4148-90d6-f5221b7c40f0\" xlink:show=\"new\" xlink:title=\"psysml:4a06ff05-02b9-4148-90d6-f5221b7c40f0\" xlink:type=\"simple\"><rect fill=\"#FFFFFF\" height=\"75.5469\" id=\"E2\" style=\"stroke: #383838; stroke-width: 1.5;\" width=\"92\" x=\"93\" y=\"189\"/><text fill=\"#000000\" font-family=\"sans-serif\" font-size=\"12\" font-style=\"italic\" lengthAdjust=\"spacingAndGlyphs\" textLength=\"64\" x=\"107\" y=\"205.1387\">«part def»</text><text fill=\"#000000\" font-family=\"sans-serif\" font-size=\"12\" lengthAdjust=\"spacingAndGlyphs\" textLength=\"16\" x=\"131\" y=\"219.1074\">P1</text><line style=\"stroke: #383838; stroke-width: 1.5;\" x1=\"94\" x2=\"184\" y1=\"226.9375\" y2=\"226.9375\"/><text fill=\"#000000\" font-family=\"sans-serif\" font-size=\"11\" lengthAdjust=\"spacingAndGlyphs\" textLength=\"36\" x=\"99\" y=\"257.9526\">porig1</text><text fill=\"#000000\" font-family=\"sans-serif\" font-size=\"11\" font-weight=\"bold\" lengthAdjust=\"spacingAndGlyphs\" textLength=\"15\" x=\"139\" y=\"257.9526\">as</text><text fill=\"#000000\" font-family=\"sans-serif\" font-size=\"11\" lengthAdjust=\"spacingAndGlyphs\" textLength=\"21\" x=\"158\" y=\"257.9526\">po1</text><line style=\"stroke: #383838; stroke-width: 1.0;\" x1=\"94\" x2=\"124\" y1=\"241.3398\" y2=\"241.3398\"/><text fill=\"#000000\" font-family=\"sans-serif\" font-size=\"11\" lengthAdjust=\"spacingAndGlyphs\" textLength=\"30\" x=\"124\" y=\"244.6479\">ports</text><line style=\"stroke: #383838; stroke-width: 1.0;\" x1=\"154\" x2=\"184\" y1=\"241.3398\" y2=\"241.3398\"/></a><!--MD5=[ebbe1d658d1005bcc118a6aa81145e00]\n",
       "class E4--><a href=\"psysml:9ecf2706-3ec0-4307-8293-70ef42ab2608\" target=\"_top\" title=\"psysml:9ecf2706-3ec0-4307-8293-70ef42ab2608\" xlink:actuate=\"onRequest\" xlink:href=\"psysml:9ecf2706-3ec0-4307-8293-70ef42ab2608\" xlink:show=\"new\" xlink:title=\"psysml:9ecf2706-3ec0-4307-8293-70ef42ab2608\" xlink:type=\"simple\"><rect fill=\"#FFFFFF\" height=\"88.3516\" id=\"E4\" rx=\"10\" ry=\"10\" style=\"stroke: #383838; stroke-width: 1.5;\" width=\"92\" x=\"155\" y=\"41\"/><text fill=\"#000000\" font-family=\"sans-serif\" font-size=\"12\" font-style=\"italic\" lengthAdjust=\"spacingAndGlyphs\" textLength=\"40\" x=\"181\" y=\"57.1387\">«part»</text><text fill=\"#000000\" font-family=\"sans-serif\" font-size=\"12\" lengthAdjust=\"spacingAndGlyphs\" textLength=\"40\" x=\"181\" y=\"71.1074\">p1: P1</text><line style=\"stroke: #383838; stroke-width: 1.5;\" x1=\"156\" x2=\"246\" y1=\"78.9375\" y2=\"78.9375\"/><text fill=\"#000000\" font-family=\"sans-serif\" font-size=\"11\" lengthAdjust=\"spacingAndGlyphs\" textLength=\"21\" x=\"161\" y=\"109.9526\">po1</text><text fill=\"#000000\" font-family=\"sans-serif\" font-size=\"11\" font-style=\"italic\" lengthAdjust=\"spacingAndGlyphs\" textLength=\"80\" x=\"161\" y=\"122.7573\">:&gt;&gt;P1::porig1</text><line style=\"stroke: #383838; stroke-width: 1.0;\" x1=\"156\" x2=\"186\" y1=\"93.3398\" y2=\"93.3398\"/><text fill=\"#000000\" font-family=\"sans-serif\" font-size=\"11\" lengthAdjust=\"spacingAndGlyphs\" textLength=\"30\" x=\"186\" y=\"96.6479\">ports</text><line style=\"stroke: #383838; stroke-width: 1.0;\" x1=\"216\" x2=\"246\" y1=\"93.3398\" y2=\"93.3398\"/></a><!--MD5=[60a26617385b1d2d0262a64233df1f8d]\n",
       "class E6--><a href=\"psysml:28be41ac-7d51-495b-a80e-46db5ea96230\" target=\"_top\" title=\"psysml:28be41ac-7d51-495b-a80e-46db5ea96230\" xlink:actuate=\"onRequest\" xlink:href=\"psysml:28be41ac-7d51-495b-a80e-46db5ea96230\" xlink:show=\"new\" xlink:title=\"psysml:28be41ac-7d51-495b-a80e-46db5ea96230\" xlink:type=\"simple\"><rect fill=\"#FFFFFF\" height=\"75.5469\" id=\"E6\" rx=\"10\" ry=\"10\" style=\"stroke: #383838; stroke-width: 1.5;\" width=\"88\" x=\"32\" y=\"47\"/><text fill=\"#000000\" font-family=\"sans-serif\" font-size=\"12\" font-style=\"italic\" lengthAdjust=\"spacingAndGlyphs\" textLength=\"40\" x=\"56\" y=\"63.1387\">«part»</text><text fill=\"#000000\" font-family=\"sans-serif\" font-size=\"12\" lengthAdjust=\"spacingAndGlyphs\" textLength=\"40\" x=\"56\" y=\"77.1074\">p2: P1</text><line style=\"stroke: #383838; stroke-width: 1.5;\" x1=\"33\" x2=\"119\" y1=\"84.9375\" y2=\"84.9375\"/><text fill=\"#000000\" font-family=\"sans-serif\" font-size=\"11\" lengthAdjust=\"spacingAndGlyphs\" textLength=\"32\" x=\"38\" y=\"115.9526\">pdest</text><text fill=\"#000000\" font-family=\"sans-serif\" font-size=\"11\" font-weight=\"bold\" lengthAdjust=\"spacingAndGlyphs\" textLength=\"15\" x=\"74\" y=\"115.9526\">as</text><text fill=\"#000000\" font-family=\"sans-serif\" font-size=\"11\" lengthAdjust=\"spacingAndGlyphs\" textLength=\"21\" x=\"93\" y=\"115.9526\">pd1</text><line style=\"stroke: #383838; stroke-width: 1.0;\" x1=\"33\" x2=\"61\" y1=\"99.3398\" y2=\"99.3398\"/><text fill=\"#000000\" font-family=\"sans-serif\" font-size=\"11\" lengthAdjust=\"spacingAndGlyphs\" textLength=\"30\" x=\"61\" y=\"102.6479\">ports</text><line style=\"stroke: #383838; stroke-width: 1.0;\" x1=\"91\" x2=\"119\" y1=\"99.3398\" y2=\"99.3398\"/></a><!--MD5=[185131fc0dcab0a4505a2ebe144e961b]\n",
       "link E4 to E2--><a href=\"psysml:8ce18664-e29b-46f0-97c0-4b398d523e7c\" target=\"_top\" title=\"psysml:8ce18664-e29b-46f0-97c0-4b398d523e7c\" xlink:actuate=\"onRequest\" xlink:href=\"psysml:8ce18664-e29b-46f0-97c0-4b398d523e7c\" xlink:show=\"new\" xlink:title=\"psysml:8ce18664-e29b-46f0-97c0-4b398d523e7c\" xlink:type=\"simple\"><path d=\"M181.89,129.15 C176.14,142.14 169.74,156.6 163.67,170.29 \" fill=\"none\" id=\"E4-&gt;E2\" style=\"stroke: #383838; stroke-width: 1.0;\"/><polygon fill=\"#FFFFFF\" points=\"155.43,188.9,156.725,168.693,169.5254,174.3632,155.43,188.9\" style=\"stroke: #383838; stroke-width: 1.0;\"/><ellipse cx=\"160.8622\" cy=\"164.2914\" fill=\"#383838\" rx=\"2\" ry=\"2\" style=\"stroke: #383838; stroke-width: 1.0;\"/><ellipse cx=\"170.0053\" cy=\"168.3416\" fill=\"#383838\" rx=\"2\" ry=\"2\" style=\"stroke: #383838; stroke-width: 1.0;\"/></a><!--MD5=[2351f337d6de0f557b50152ba70847b5]\n",
       "link E6 to E2--><a href=\"psysml:aea9633f-bca5-4d9c-866d-d7db5d7aa3e2\" target=\"_top\" title=\"psysml:aea9633f-bca5-4d9c-866d-d7db5d7aa3e2\" xlink:actuate=\"onRequest\" xlink:href=\"psysml:aea9633f-bca5-4d9c-866d-d7db5d7aa3e2\" xlink:show=\"new\" xlink:title=\"psysml:aea9633f-bca5-4d9c-866d-d7db5d7aa3e2\" xlink:type=\"simple\"><path d=\"M92.72,123.15 C99.23,137.63 106.84,154.53 113.98,170.4 \" fill=\"none\" id=\"E6-&gt;E2\" style=\"stroke: #383838; stroke-width: 1.0;\"/><polygon fill=\"#FFFFFF\" points=\"122.2,188.68,108.0257,174.22,120.7951,168.4803,122.2,188.68\" style=\"stroke: #383838; stroke-width: 1.0;\"/><ellipse cx=\"107.5131\" cy=\"168.2011\" fill=\"#383838\" rx=\"2\" ry=\"2\" style=\"stroke: #383838; stroke-width: 1.0;\"/><ellipse cx=\"116.634\" cy=\"164.1014\" fill=\"#383838\" rx=\"2\" ry=\"2\" style=\"stroke: #383838; stroke-width: 1.0;\"/></a><!--MD5=[9ce8f854ab25ac3c145f20ca827ddd3b]\n",
       "@startuml\r\n",
       "skinparam monochrome true\r\n",
       "skinparam classbackgroundcolor white\r\n",
       "skinparam shadowing false\r\n",
       "skinparam wrapWidth 300\r\n",
       "hide circle\r\n",
       "\r\n",
       "package \"AliasTest\" as E1  [[psysml:d6640503-c03f-477e-b125-432046bb93b4 ]]  {\r\n",
       "comp def \"P1\" as E2  <<(T,blue)part def>> [[psysml:4a06ff05-02b9-4148-90d6-f5221b7c40f0 ]] {\r\n",
       "- - ports - -\r\n",
       "porig1 <b>as</b> po1 \r\n",
       "}\r\n",
       "comp usage \"p1: P1\" as E4  <<(T,blue)part>> [[psysml:9ecf2706-3ec0-4307-8293-70ef42ab2608 ]] {\r\n",
       "- - ports - -\r\n",
       "po1\\n//:>>P1::porig1// \r\n",
       "}\r\n",
       "comp usage \"p2: P1\" as E6  <<(T,blue)part>> [[psysml:28be41ac-7d51-495b-a80e-46db5ea96230 ]] {\r\n",
       "- - ports - -\r\n",
       "pdest <b>as</b> pd1 \r\n",
       "}\r\n",
       "E4 - -:|> E2 [[psysml:8ce18664-e29b-46f0-97c0-4b398d523e7c ]] \r\n",
       "E6 - -:|> E2 [[psysml:aea9633f-bca5-4d9c-866d-d7db5d7aa3e2 ]] \r\n",
       "}\r\n",
       "@enduml\r\n",
       "\n",
       "PlantUML version 1.2020.13(Sat Jun 13 12:26:38 UTC 2020)\n",
       "(EPL source distribution)\n",
       "Java Runtime: OpenJDK Runtime Environment\n",
       "JVM: OpenJDK 64-Bit Server VM\n",
       "Default Encoding: UTF-8\n",
       "Language: en\n",
       "Country: null\n",
       "--></g></svg>"
      ]
     },
     "execution_count": 42,
     "metadata": {},
     "output_type": "execute_result"
    }
   ],
   "source": [
    "%viz --style=\"DEFAULT\" --view=\"Sequence\" \"AliasTest\""
   ]
  },
  {
   "cell_type": "code",
   "execution_count": 43,
   "id": "celtic-humanitarian",
   "metadata": {
    "execution": {
     "iopub.execute_input": "2021-03-25T13:15:30.892685Z",
     "iopub.status.busy": "2021-03-25T13:15:30.892227Z",
     "iopub.status.idle": "2021-03-25T13:15:31.533326Z",
     "shell.execute_reply": "2021-03-25T13:15:31.531535Z"
    }
   },
   "outputs": [
    {
     "data": {
      "image/svg+xml": [
       "<?xml version=\"1.0\" encoding=\"UTF-8\" standalone=\"no\"?><svg xmlns=\"http://www.w3.org/2000/svg\" xmlns:xlink=\"http://www.w3.org/1999/xlink\" contentScriptType=\"application/ecmascript\" contentStyleType=\"text/css\" height=\"293px\" preserveAspectRatio=\"none\" style=\"width:285px;height:293px;\" version=\"1.1\" viewBox=\"0 0 285 293\" width=\"285px\" zoomAndPan=\"magnify\"><defs/><g><!--MD5=[fbc87193dbaf4d95561dea2c320d4a47]\n",
       "cluster E1--><a href=\"psysml:d6640503-c03f-477e-b125-432046bb93b4\" target=\"_top\" title=\"psysml:d6640503-c03f-477e-b125-432046bb93b4\" xlink:actuate=\"onRequest\" xlink:href=\"psysml:d6640503-c03f-477e-b125-432046bb93b4\" xlink:show=\"new\" xlink:title=\"psysml:d6640503-c03f-477e-b125-432046bb93b4\" xlink:type=\"simple\"><polygon fill=\"#FFFFFF\" points=\"16,6,94,6,101,28.2969,263,28.2969,263,281,16,281,16,6\" style=\"stroke: #000000; stroke-width: 1.5;\"/><line style=\"stroke: #000000; stroke-width: 1.5;\" x1=\"16\" x2=\"101\" y1=\"28.2969\" y2=\"28.2969\"/><text fill=\"#000000\" font-family=\"sans-serif\" font-size=\"14\" font-weight=\"bold\" lengthAdjust=\"spacingAndGlyphs\" textLength=\"72\" x=\"20\" y=\"20.9951\">AliasTest</text></a><!--MD5=[b4997ac47864f28c2f74865a473b2911]\n",
       "class E2--><a href=\"psysml:4a06ff05-02b9-4148-90d6-f5221b7c40f0\" target=\"_top\" title=\"psysml:4a06ff05-02b9-4148-90d6-f5221b7c40f0\" xlink:actuate=\"onRequest\" xlink:href=\"psysml:4a06ff05-02b9-4148-90d6-f5221b7c40f0\" xlink:show=\"new\" xlink:title=\"psysml:4a06ff05-02b9-4148-90d6-f5221b7c40f0\" xlink:type=\"simple\"><rect fill=\"#FFFFFF\" height=\"75.5469\" id=\"E2\" style=\"stroke: #383838; stroke-width: 1.5;\" width=\"92\" x=\"93\" y=\"189\"/><text fill=\"#000000\" font-family=\"sans-serif\" font-size=\"12\" font-style=\"italic\" lengthAdjust=\"spacingAndGlyphs\" textLength=\"64\" x=\"107\" y=\"205.1387\">«part def»</text><text fill=\"#000000\" font-family=\"sans-serif\" font-size=\"12\" lengthAdjust=\"spacingAndGlyphs\" textLength=\"16\" x=\"131\" y=\"219.1074\">P1</text><line style=\"stroke: #383838; stroke-width: 1.5;\" x1=\"94\" x2=\"184\" y1=\"226.9375\" y2=\"226.9375\"/><text fill=\"#000000\" font-family=\"sans-serif\" font-size=\"11\" lengthAdjust=\"spacingAndGlyphs\" textLength=\"36\" x=\"99\" y=\"257.9526\">porig1</text><text fill=\"#000000\" font-family=\"sans-serif\" font-size=\"11\" font-weight=\"bold\" lengthAdjust=\"spacingAndGlyphs\" textLength=\"15\" x=\"139\" y=\"257.9526\">as</text><text fill=\"#000000\" font-family=\"sans-serif\" font-size=\"11\" lengthAdjust=\"spacingAndGlyphs\" textLength=\"21\" x=\"158\" y=\"257.9526\">po1</text><line style=\"stroke: #383838; stroke-width: 1.0;\" x1=\"94\" x2=\"124\" y1=\"241.3398\" y2=\"241.3398\"/><text fill=\"#000000\" font-family=\"sans-serif\" font-size=\"11\" lengthAdjust=\"spacingAndGlyphs\" textLength=\"30\" x=\"124\" y=\"244.6479\">ports</text><line style=\"stroke: #383838; stroke-width: 1.0;\" x1=\"154\" x2=\"184\" y1=\"241.3398\" y2=\"241.3398\"/></a><!--MD5=[ebbe1d658d1005bcc118a6aa81145e00]\n",
       "class E4--><a href=\"psysml:9ecf2706-3ec0-4307-8293-70ef42ab2608\" target=\"_top\" title=\"psysml:9ecf2706-3ec0-4307-8293-70ef42ab2608\" xlink:actuate=\"onRequest\" xlink:href=\"psysml:9ecf2706-3ec0-4307-8293-70ef42ab2608\" xlink:show=\"new\" xlink:title=\"psysml:9ecf2706-3ec0-4307-8293-70ef42ab2608\" xlink:type=\"simple\"><rect fill=\"#FFFFFF\" height=\"88.3516\" id=\"E4\" rx=\"10\" ry=\"10\" style=\"stroke: #383838; stroke-width: 1.5;\" width=\"92\" x=\"155\" y=\"41\"/><text fill=\"#000000\" font-family=\"sans-serif\" font-size=\"12\" font-style=\"italic\" lengthAdjust=\"spacingAndGlyphs\" textLength=\"40\" x=\"181\" y=\"57.1387\">«part»</text><text fill=\"#000000\" font-family=\"sans-serif\" font-size=\"12\" lengthAdjust=\"spacingAndGlyphs\" textLength=\"40\" x=\"181\" y=\"71.1074\">p1: P1</text><line style=\"stroke: #383838; stroke-width: 1.5;\" x1=\"156\" x2=\"246\" y1=\"78.9375\" y2=\"78.9375\"/><text fill=\"#000000\" font-family=\"sans-serif\" font-size=\"11\" lengthAdjust=\"spacingAndGlyphs\" textLength=\"21\" x=\"161\" y=\"109.9526\">po1</text><text fill=\"#000000\" font-family=\"sans-serif\" font-size=\"11\" font-style=\"italic\" lengthAdjust=\"spacingAndGlyphs\" textLength=\"80\" x=\"161\" y=\"122.7573\">:&gt;&gt;P1::porig1</text><line style=\"stroke: #383838; stroke-width: 1.0;\" x1=\"156\" x2=\"186\" y1=\"93.3398\" y2=\"93.3398\"/><text fill=\"#000000\" font-family=\"sans-serif\" font-size=\"11\" lengthAdjust=\"spacingAndGlyphs\" textLength=\"30\" x=\"186\" y=\"96.6479\">ports</text><line style=\"stroke: #383838; stroke-width: 1.0;\" x1=\"216\" x2=\"246\" y1=\"93.3398\" y2=\"93.3398\"/></a><!--MD5=[60a26617385b1d2d0262a64233df1f8d]\n",
       "class E6--><a href=\"psysml:28be41ac-7d51-495b-a80e-46db5ea96230\" target=\"_top\" title=\"psysml:28be41ac-7d51-495b-a80e-46db5ea96230\" xlink:actuate=\"onRequest\" xlink:href=\"psysml:28be41ac-7d51-495b-a80e-46db5ea96230\" xlink:show=\"new\" xlink:title=\"psysml:28be41ac-7d51-495b-a80e-46db5ea96230\" xlink:type=\"simple\"><rect fill=\"#FFFFFF\" height=\"75.5469\" id=\"E6\" rx=\"10\" ry=\"10\" style=\"stroke: #383838; stroke-width: 1.5;\" width=\"88\" x=\"32\" y=\"47\"/><text fill=\"#000000\" font-family=\"sans-serif\" font-size=\"12\" font-style=\"italic\" lengthAdjust=\"spacingAndGlyphs\" textLength=\"40\" x=\"56\" y=\"63.1387\">«part»</text><text fill=\"#000000\" font-family=\"sans-serif\" font-size=\"12\" lengthAdjust=\"spacingAndGlyphs\" textLength=\"40\" x=\"56\" y=\"77.1074\">p2: P1</text><line style=\"stroke: #383838; stroke-width: 1.5;\" x1=\"33\" x2=\"119\" y1=\"84.9375\" y2=\"84.9375\"/><text fill=\"#000000\" font-family=\"sans-serif\" font-size=\"11\" lengthAdjust=\"spacingAndGlyphs\" textLength=\"32\" x=\"38\" y=\"115.9526\">pdest</text><text fill=\"#000000\" font-family=\"sans-serif\" font-size=\"11\" font-weight=\"bold\" lengthAdjust=\"spacingAndGlyphs\" textLength=\"15\" x=\"74\" y=\"115.9526\">as</text><text fill=\"#000000\" font-family=\"sans-serif\" font-size=\"11\" lengthAdjust=\"spacingAndGlyphs\" textLength=\"21\" x=\"93\" y=\"115.9526\">pd1</text><line style=\"stroke: #383838; stroke-width: 1.0;\" x1=\"33\" x2=\"61\" y1=\"99.3398\" y2=\"99.3398\"/><text fill=\"#000000\" font-family=\"sans-serif\" font-size=\"11\" lengthAdjust=\"spacingAndGlyphs\" textLength=\"30\" x=\"61\" y=\"102.6479\">ports</text><line style=\"stroke: #383838; stroke-width: 1.0;\" x1=\"91\" x2=\"119\" y1=\"99.3398\" y2=\"99.3398\"/></a><!--MD5=[185131fc0dcab0a4505a2ebe144e961b]\n",
       "link E4 to E2--><a href=\"psysml:8ce18664-e29b-46f0-97c0-4b398d523e7c\" target=\"_top\" title=\"psysml:8ce18664-e29b-46f0-97c0-4b398d523e7c\" xlink:actuate=\"onRequest\" xlink:href=\"psysml:8ce18664-e29b-46f0-97c0-4b398d523e7c\" xlink:show=\"new\" xlink:title=\"psysml:8ce18664-e29b-46f0-97c0-4b398d523e7c\" xlink:type=\"simple\"><path d=\"M181.89,129.15 C176.14,142.14 169.74,156.6 163.67,170.29 \" fill=\"none\" id=\"E4-&gt;E2\" style=\"stroke: #383838; stroke-width: 1.0;\"/><polygon fill=\"#FFFFFF\" points=\"155.43,188.9,156.725,168.693,169.5254,174.3632,155.43,188.9\" style=\"stroke: #383838; stroke-width: 1.0;\"/><ellipse cx=\"160.8622\" cy=\"164.2914\" fill=\"#383838\" rx=\"2\" ry=\"2\" style=\"stroke: #383838; stroke-width: 1.0;\"/><ellipse cx=\"170.0053\" cy=\"168.3416\" fill=\"#383838\" rx=\"2\" ry=\"2\" style=\"stroke: #383838; stroke-width: 1.0;\"/></a><!--MD5=[2351f337d6de0f557b50152ba70847b5]\n",
       "link E6 to E2--><a href=\"psysml:aea9633f-bca5-4d9c-866d-d7db5d7aa3e2\" target=\"_top\" title=\"psysml:aea9633f-bca5-4d9c-866d-d7db5d7aa3e2\" xlink:actuate=\"onRequest\" xlink:href=\"psysml:aea9633f-bca5-4d9c-866d-d7db5d7aa3e2\" xlink:show=\"new\" xlink:title=\"psysml:aea9633f-bca5-4d9c-866d-d7db5d7aa3e2\" xlink:type=\"simple\"><path d=\"M92.72,123.15 C99.23,137.63 106.84,154.53 113.98,170.4 \" fill=\"none\" id=\"E6-&gt;E2\" style=\"stroke: #383838; stroke-width: 1.0;\"/><polygon fill=\"#FFFFFF\" points=\"122.2,188.68,108.0257,174.22,120.7951,168.4803,122.2,188.68\" style=\"stroke: #383838; stroke-width: 1.0;\"/><ellipse cx=\"107.5131\" cy=\"168.2011\" fill=\"#383838\" rx=\"2\" ry=\"2\" style=\"stroke: #383838; stroke-width: 1.0;\"/><ellipse cx=\"116.634\" cy=\"164.1014\" fill=\"#383838\" rx=\"2\" ry=\"2\" style=\"stroke: #383838; stroke-width: 1.0;\"/></a><!--MD5=[9ce8f854ab25ac3c145f20ca827ddd3b]\n",
       "@startuml\r\n",
       "skinparam monochrome true\r\n",
       "skinparam classbackgroundcolor white\r\n",
       "skinparam shadowing false\r\n",
       "skinparam wrapWidth 300\r\n",
       "hide circle\r\n",
       "\r\n",
       "package \"AliasTest\" as E1  [[psysml:d6640503-c03f-477e-b125-432046bb93b4 ]]  {\r\n",
       "comp def \"P1\" as E2  <<(T,blue)part def>> [[psysml:4a06ff05-02b9-4148-90d6-f5221b7c40f0 ]] {\r\n",
       "- - ports - -\r\n",
       "porig1 <b>as</b> po1 \r\n",
       "}\r\n",
       "comp usage \"p1: P1\" as E4  <<(T,blue)part>> [[psysml:9ecf2706-3ec0-4307-8293-70ef42ab2608 ]] {\r\n",
       "- - ports - -\r\n",
       "po1\\n//:>>P1::porig1// \r\n",
       "}\r\n",
       "comp usage \"p2: P1\" as E6  <<(T,blue)part>> [[psysml:28be41ac-7d51-495b-a80e-46db5ea96230 ]] {\r\n",
       "- - ports - -\r\n",
       "pdest <b>as</b> pd1 \r\n",
       "}\r\n",
       "E4 - -:|> E2 [[psysml:8ce18664-e29b-46f0-97c0-4b398d523e7c ]] \r\n",
       "E6 - -:|> E2 [[psysml:aea9633f-bca5-4d9c-866d-d7db5d7aa3e2 ]] \r\n",
       "}\r\n",
       "@enduml\r\n",
       "\n",
       "PlantUML version 1.2020.13(Sat Jun 13 12:26:38 UTC 2020)\n",
       "(EPL source distribution)\n",
       "Java Runtime: OpenJDK Runtime Environment\n",
       "JVM: OpenJDK 64-Bit Server VM\n",
       "Default Encoding: UTF-8\n",
       "Language: en\n",
       "Country: null\n",
       "--></g></svg>"
      ]
     },
     "execution_count": 43,
     "metadata": {},
     "output_type": "execute_result"
    }
   ],
   "source": [
    "%viz --style=\"DEFAULT\" --view=\"MIXED\" \"AliasTest\""
   ]
  },
  {
   "cell_type": "code",
   "execution_count": 44,
   "id": "joint-float",
   "metadata": {
    "execution": {
     "iopub.execute_input": "2021-03-25T13:15:31.583515Z",
     "iopub.status.busy": "2021-03-25T13:15:31.582703Z",
     "iopub.status.idle": "2021-03-25T13:15:32.292076Z",
     "shell.execute_reply": "2021-03-25T13:15:32.290060Z"
    }
   },
   "outputs": [
    {
     "data": {
      "image/svg+xml": [
       "<?xml version=\"1.0\" encoding=\"UTF-8\" standalone=\"no\"?><svg xmlns=\"http://www.w3.org/2000/svg\" xmlns:xlink=\"http://www.w3.org/1999/xlink\" contentScriptType=\"application/ecmascript\" contentStyleType=\"text/css\" height=\"293px\" preserveAspectRatio=\"none\" style=\"width:285px;height:293px;\" version=\"1.1\" viewBox=\"0 0 285 293\" width=\"285px\" zoomAndPan=\"magnify\"><defs/><g><!--MD5=[fbc87193dbaf4d95561dea2c320d4a47]\n",
       "cluster E1--><a href=\"psysml:d6640503-c03f-477e-b125-432046bb93b4\" target=\"_top\" title=\"psysml:d6640503-c03f-477e-b125-432046bb93b4\" xlink:actuate=\"onRequest\" xlink:href=\"psysml:d6640503-c03f-477e-b125-432046bb93b4\" xlink:show=\"new\" xlink:title=\"psysml:d6640503-c03f-477e-b125-432046bb93b4\" xlink:type=\"simple\"><polygon fill=\"#FFFFFF\" points=\"16,6,94,6,101,28.2969,263,28.2969,263,281,16,281,16,6\" style=\"stroke: #000000; stroke-width: 1.5;\"/><line style=\"stroke: #000000; stroke-width: 1.5;\" x1=\"16\" x2=\"101\" y1=\"28.2969\" y2=\"28.2969\"/><text fill=\"#000000\" font-family=\"sans-serif\" font-size=\"14\" font-weight=\"bold\" lengthAdjust=\"spacingAndGlyphs\" textLength=\"72\" x=\"20\" y=\"20.9951\">AliasTest</text></a><!--MD5=[b4997ac47864f28c2f74865a473b2911]\n",
       "class E2--><a href=\"psysml:4a06ff05-02b9-4148-90d6-f5221b7c40f0\" target=\"_top\" title=\"psysml:4a06ff05-02b9-4148-90d6-f5221b7c40f0\" xlink:actuate=\"onRequest\" xlink:href=\"psysml:4a06ff05-02b9-4148-90d6-f5221b7c40f0\" xlink:show=\"new\" xlink:title=\"psysml:4a06ff05-02b9-4148-90d6-f5221b7c40f0\" xlink:type=\"simple\"><rect fill=\"#FFFFFF\" height=\"75.5469\" id=\"E2\" style=\"stroke: #383838; stroke-width: 1.5;\" width=\"92\" x=\"93\" y=\"189\"/><text fill=\"#000000\" font-family=\"sans-serif\" font-size=\"12\" font-style=\"italic\" lengthAdjust=\"spacingAndGlyphs\" textLength=\"64\" x=\"107\" y=\"205.1387\">«part def»</text><text fill=\"#000000\" font-family=\"sans-serif\" font-size=\"12\" lengthAdjust=\"spacingAndGlyphs\" textLength=\"16\" x=\"131\" y=\"219.1074\">P1</text><line style=\"stroke: #383838; stroke-width: 1.5;\" x1=\"94\" x2=\"184\" y1=\"226.9375\" y2=\"226.9375\"/><text fill=\"#000000\" font-family=\"sans-serif\" font-size=\"11\" lengthAdjust=\"spacingAndGlyphs\" textLength=\"36\" x=\"99\" y=\"257.9526\">porig1</text><text fill=\"#000000\" font-family=\"sans-serif\" font-size=\"11\" font-weight=\"bold\" lengthAdjust=\"spacingAndGlyphs\" textLength=\"15\" x=\"139\" y=\"257.9526\">as</text><text fill=\"#000000\" font-family=\"sans-serif\" font-size=\"11\" lengthAdjust=\"spacingAndGlyphs\" textLength=\"21\" x=\"158\" y=\"257.9526\">po1</text><line style=\"stroke: #383838; stroke-width: 1.0;\" x1=\"94\" x2=\"124\" y1=\"241.3398\" y2=\"241.3398\"/><text fill=\"#000000\" font-family=\"sans-serif\" font-size=\"11\" lengthAdjust=\"spacingAndGlyphs\" textLength=\"30\" x=\"124\" y=\"244.6479\">ports</text><line style=\"stroke: #383838; stroke-width: 1.0;\" x1=\"154\" x2=\"184\" y1=\"241.3398\" y2=\"241.3398\"/></a><!--MD5=[ebbe1d658d1005bcc118a6aa81145e00]\n",
       "class E4--><a href=\"psysml:9ecf2706-3ec0-4307-8293-70ef42ab2608\" target=\"_top\" title=\"psysml:9ecf2706-3ec0-4307-8293-70ef42ab2608\" xlink:actuate=\"onRequest\" xlink:href=\"psysml:9ecf2706-3ec0-4307-8293-70ef42ab2608\" xlink:show=\"new\" xlink:title=\"psysml:9ecf2706-3ec0-4307-8293-70ef42ab2608\" xlink:type=\"simple\"><rect fill=\"#FFFFFF\" height=\"88.3516\" id=\"E4\" rx=\"10\" ry=\"10\" style=\"stroke: #383838; stroke-width: 1.5;\" width=\"92\" x=\"155\" y=\"41\"/><text fill=\"#000000\" font-family=\"sans-serif\" font-size=\"12\" font-style=\"italic\" lengthAdjust=\"spacingAndGlyphs\" textLength=\"40\" x=\"181\" y=\"57.1387\">«part»</text><text fill=\"#000000\" font-family=\"sans-serif\" font-size=\"12\" lengthAdjust=\"spacingAndGlyphs\" textLength=\"40\" x=\"181\" y=\"71.1074\">p1: P1</text><line style=\"stroke: #383838; stroke-width: 1.5;\" x1=\"156\" x2=\"246\" y1=\"78.9375\" y2=\"78.9375\"/><text fill=\"#000000\" font-family=\"sans-serif\" font-size=\"11\" lengthAdjust=\"spacingAndGlyphs\" textLength=\"21\" x=\"161\" y=\"109.9526\">po1</text><text fill=\"#000000\" font-family=\"sans-serif\" font-size=\"11\" font-style=\"italic\" lengthAdjust=\"spacingAndGlyphs\" textLength=\"80\" x=\"161\" y=\"122.7573\">:&gt;&gt;P1::porig1</text><line style=\"stroke: #383838; stroke-width: 1.0;\" x1=\"156\" x2=\"186\" y1=\"93.3398\" y2=\"93.3398\"/><text fill=\"#000000\" font-family=\"sans-serif\" font-size=\"11\" lengthAdjust=\"spacingAndGlyphs\" textLength=\"30\" x=\"186\" y=\"96.6479\">ports</text><line style=\"stroke: #383838; stroke-width: 1.0;\" x1=\"216\" x2=\"246\" y1=\"93.3398\" y2=\"93.3398\"/></a><!--MD5=[60a26617385b1d2d0262a64233df1f8d]\n",
       "class E6--><a href=\"psysml:28be41ac-7d51-495b-a80e-46db5ea96230\" target=\"_top\" title=\"psysml:28be41ac-7d51-495b-a80e-46db5ea96230\" xlink:actuate=\"onRequest\" xlink:href=\"psysml:28be41ac-7d51-495b-a80e-46db5ea96230\" xlink:show=\"new\" xlink:title=\"psysml:28be41ac-7d51-495b-a80e-46db5ea96230\" xlink:type=\"simple\"><rect fill=\"#FFFFFF\" height=\"75.5469\" id=\"E6\" rx=\"10\" ry=\"10\" style=\"stroke: #383838; stroke-width: 1.5;\" width=\"88\" x=\"32\" y=\"47\"/><text fill=\"#000000\" font-family=\"sans-serif\" font-size=\"12\" font-style=\"italic\" lengthAdjust=\"spacingAndGlyphs\" textLength=\"40\" x=\"56\" y=\"63.1387\">«part»</text><text fill=\"#000000\" font-family=\"sans-serif\" font-size=\"12\" lengthAdjust=\"spacingAndGlyphs\" textLength=\"40\" x=\"56\" y=\"77.1074\">p2: P1</text><line style=\"stroke: #383838; stroke-width: 1.5;\" x1=\"33\" x2=\"119\" y1=\"84.9375\" y2=\"84.9375\"/><text fill=\"#000000\" font-family=\"sans-serif\" font-size=\"11\" lengthAdjust=\"spacingAndGlyphs\" textLength=\"32\" x=\"38\" y=\"115.9526\">pdest</text><text fill=\"#000000\" font-family=\"sans-serif\" font-size=\"11\" font-weight=\"bold\" lengthAdjust=\"spacingAndGlyphs\" textLength=\"15\" x=\"74\" y=\"115.9526\">as</text><text fill=\"#000000\" font-family=\"sans-serif\" font-size=\"11\" lengthAdjust=\"spacingAndGlyphs\" textLength=\"21\" x=\"93\" y=\"115.9526\">pd1</text><line style=\"stroke: #383838; stroke-width: 1.0;\" x1=\"33\" x2=\"61\" y1=\"99.3398\" y2=\"99.3398\"/><text fill=\"#000000\" font-family=\"sans-serif\" font-size=\"11\" lengthAdjust=\"spacingAndGlyphs\" textLength=\"30\" x=\"61\" y=\"102.6479\">ports</text><line style=\"stroke: #383838; stroke-width: 1.0;\" x1=\"91\" x2=\"119\" y1=\"99.3398\" y2=\"99.3398\"/></a><!--MD5=[185131fc0dcab0a4505a2ebe144e961b]\n",
       "link E4 to E2--><a href=\"psysml:8ce18664-e29b-46f0-97c0-4b398d523e7c\" target=\"_top\" title=\"psysml:8ce18664-e29b-46f0-97c0-4b398d523e7c\" xlink:actuate=\"onRequest\" xlink:href=\"psysml:8ce18664-e29b-46f0-97c0-4b398d523e7c\" xlink:show=\"new\" xlink:title=\"psysml:8ce18664-e29b-46f0-97c0-4b398d523e7c\" xlink:type=\"simple\"><path d=\"M181.89,129.15 C176.14,142.14 169.74,156.6 163.67,170.29 \" fill=\"none\" id=\"E4-&gt;E2\" style=\"stroke: #383838; stroke-width: 1.0;\"/><polygon fill=\"#FFFFFF\" points=\"155.43,188.9,156.725,168.693,169.5254,174.3632,155.43,188.9\" style=\"stroke: #383838; stroke-width: 1.0;\"/><ellipse cx=\"160.8622\" cy=\"164.2914\" fill=\"#383838\" rx=\"2\" ry=\"2\" style=\"stroke: #383838; stroke-width: 1.0;\"/><ellipse cx=\"170.0053\" cy=\"168.3416\" fill=\"#383838\" rx=\"2\" ry=\"2\" style=\"stroke: #383838; stroke-width: 1.0;\"/></a><!--MD5=[2351f337d6de0f557b50152ba70847b5]\n",
       "link E6 to E2--><a href=\"psysml:aea9633f-bca5-4d9c-866d-d7db5d7aa3e2\" target=\"_top\" title=\"psysml:aea9633f-bca5-4d9c-866d-d7db5d7aa3e2\" xlink:actuate=\"onRequest\" xlink:href=\"psysml:aea9633f-bca5-4d9c-866d-d7db5d7aa3e2\" xlink:show=\"new\" xlink:title=\"psysml:aea9633f-bca5-4d9c-866d-d7db5d7aa3e2\" xlink:type=\"simple\"><path d=\"M92.72,123.15 C99.23,137.63 106.84,154.53 113.98,170.4 \" fill=\"none\" id=\"E6-&gt;E2\" style=\"stroke: #383838; stroke-width: 1.0;\"/><polygon fill=\"#FFFFFF\" points=\"122.2,188.68,108.0257,174.22,120.7951,168.4803,122.2,188.68\" style=\"stroke: #383838; stroke-width: 1.0;\"/><ellipse cx=\"107.5131\" cy=\"168.2011\" fill=\"#383838\" rx=\"2\" ry=\"2\" style=\"stroke: #383838; stroke-width: 1.0;\"/><ellipse cx=\"116.634\" cy=\"164.1014\" fill=\"#383838\" rx=\"2\" ry=\"2\" style=\"stroke: #383838; stroke-width: 1.0;\"/></a><!--MD5=[9ba68f95f5f123e7b2d566e819f98589]\n",
       "@startuml\r\n",
       "top to bottom direction\r\n",
       "skinparam monochrome true\r\n",
       "skinparam classbackgroundcolor white\r\n",
       "skinparam shadowing false\r\n",
       "skinparam wrapWidth 300\r\n",
       "hide circle\r\n",
       "\r\n",
       "package \"AliasTest\" as E1  [[psysml:d6640503-c03f-477e-b125-432046bb93b4 ]]  {\r\n",
       "comp def \"P1\" as E2  <<(T,blue)part def>> [[psysml:4a06ff05-02b9-4148-90d6-f5221b7c40f0 ]] {\r\n",
       "- - ports - -\r\n",
       "porig1 <b>as</b> po1 \r\n",
       "}\r\n",
       "comp usage \"p1: P1\" as E4  <<(T,blue)part>> [[psysml:9ecf2706-3ec0-4307-8293-70ef42ab2608 ]] {\r\n",
       "- - ports - -\r\n",
       "po1\\n//:>>P1::porig1// \r\n",
       "}\r\n",
       "comp usage \"p2: P1\" as E6  <<(T,blue)part>> [[psysml:28be41ac-7d51-495b-a80e-46db5ea96230 ]] {\r\n",
       "- - ports - -\r\n",
       "pdest <b>as</b> pd1 \r\n",
       "}\r\n",
       "E4 - -:|> E2 [[psysml:8ce18664-e29b-46f0-97c0-4b398d523e7c ]] \r\n",
       "E6 - -:|> E2 [[psysml:aea9633f-bca5-4d9c-866d-d7db5d7aa3e2 ]] \r\n",
       "}\r\n",
       "@enduml\r\n",
       "\n",
       "PlantUML version 1.2020.13(Sat Jun 13 12:26:38 UTC 2020)\n",
       "(EPL source distribution)\n",
       "Java Runtime: OpenJDK Runtime Environment\n",
       "JVM: OpenJDK 64-Bit Server VM\n",
       "Default Encoding: UTF-8\n",
       "Language: en\n",
       "Country: null\n",
       "--></g></svg>"
      ]
     },
     "execution_count": 44,
     "metadata": {},
     "output_type": "execute_result"
    }
   ],
   "source": [
    "%viz --style=\"TB\" --view=\"Default\" \"AliasTest\""
   ]
  },
  {
   "cell_type": "code",
   "execution_count": 45,
   "id": "caroline-carter",
   "metadata": {
    "execution": {
     "iopub.execute_input": "2021-03-25T13:15:32.341384Z",
     "iopub.status.busy": "2021-03-25T13:15:32.340660Z",
     "iopub.status.idle": "2021-03-25T13:15:33.083130Z",
     "shell.execute_reply": "2021-03-25T13:15:33.080890Z"
    }
   },
   "outputs": [
    {
     "data": {
      "image/svg+xml": [
       "<?xml version=\"1.0\" encoding=\"UTF-8\" standalone=\"no\"?><svg xmlns=\"http://www.w3.org/2000/svg\" xmlns:xlink=\"http://www.w3.org/1999/xlink\" contentScriptType=\"application/ecmascript\" contentStyleType=\"text/css\" height=\"293px\" preserveAspectRatio=\"none\" style=\"width:285px;height:293px;\" version=\"1.1\" viewBox=\"0 0 285 293\" width=\"285px\" zoomAndPan=\"magnify\"><defs/><g><!--MD5=[fbc87193dbaf4d95561dea2c320d4a47]\n",
       "cluster E1--><a href=\"psysml:d6640503-c03f-477e-b125-432046bb93b4\" target=\"_top\" title=\"psysml:d6640503-c03f-477e-b125-432046bb93b4\" xlink:actuate=\"onRequest\" xlink:href=\"psysml:d6640503-c03f-477e-b125-432046bb93b4\" xlink:show=\"new\" xlink:title=\"psysml:d6640503-c03f-477e-b125-432046bb93b4\" xlink:type=\"simple\"><polygon fill=\"#FFFFFF\" points=\"16,6,94,6,101,28.2969,263,28.2969,263,281,16,281,16,6\" style=\"stroke: #000000; stroke-width: 1.5;\"/><line style=\"stroke: #000000; stroke-width: 1.5;\" x1=\"16\" x2=\"101\" y1=\"28.2969\" y2=\"28.2969\"/><text fill=\"#000000\" font-family=\"sans-serif\" font-size=\"14\" font-weight=\"bold\" lengthAdjust=\"spacingAndGlyphs\" textLength=\"72\" x=\"20\" y=\"20.9951\">AliasTest</text></a><!--MD5=[b4997ac47864f28c2f74865a473b2911]\n",
       "class E2--><a href=\"psysml:4a06ff05-02b9-4148-90d6-f5221b7c40f0\" target=\"_top\" title=\"psysml:4a06ff05-02b9-4148-90d6-f5221b7c40f0\" xlink:actuate=\"onRequest\" xlink:href=\"psysml:4a06ff05-02b9-4148-90d6-f5221b7c40f0\" xlink:show=\"new\" xlink:title=\"psysml:4a06ff05-02b9-4148-90d6-f5221b7c40f0\" xlink:type=\"simple\"><rect fill=\"#FFFFFF\" height=\"75.5469\" id=\"E2\" style=\"stroke: #383838; stroke-width: 1.5;\" width=\"92\" x=\"93\" y=\"189\"/><text fill=\"#000000\" font-family=\"sans-serif\" font-size=\"12\" font-style=\"italic\" lengthAdjust=\"spacingAndGlyphs\" textLength=\"64\" x=\"107\" y=\"205.1387\">«part def»</text><text fill=\"#000000\" font-family=\"sans-serif\" font-size=\"12\" lengthAdjust=\"spacingAndGlyphs\" textLength=\"16\" x=\"131\" y=\"219.1074\">P1</text><line style=\"stroke: #383838; stroke-width: 1.5;\" x1=\"94\" x2=\"184\" y1=\"226.9375\" y2=\"226.9375\"/><text fill=\"#000000\" font-family=\"sans-serif\" font-size=\"11\" lengthAdjust=\"spacingAndGlyphs\" textLength=\"36\" x=\"99\" y=\"257.9526\">porig1</text><text fill=\"#000000\" font-family=\"sans-serif\" font-size=\"11\" font-weight=\"bold\" lengthAdjust=\"spacingAndGlyphs\" textLength=\"15\" x=\"139\" y=\"257.9526\">as</text><text fill=\"#000000\" font-family=\"sans-serif\" font-size=\"11\" lengthAdjust=\"spacingAndGlyphs\" textLength=\"21\" x=\"158\" y=\"257.9526\">po1</text><line style=\"stroke: #383838; stroke-width: 1.0;\" x1=\"94\" x2=\"124\" y1=\"241.3398\" y2=\"241.3398\"/><text fill=\"#000000\" font-family=\"sans-serif\" font-size=\"11\" lengthAdjust=\"spacingAndGlyphs\" textLength=\"30\" x=\"124\" y=\"244.6479\">ports</text><line style=\"stroke: #383838; stroke-width: 1.0;\" x1=\"154\" x2=\"184\" y1=\"241.3398\" y2=\"241.3398\"/></a><!--MD5=[ebbe1d658d1005bcc118a6aa81145e00]\n",
       "class E4--><a href=\"psysml:9ecf2706-3ec0-4307-8293-70ef42ab2608\" target=\"_top\" title=\"psysml:9ecf2706-3ec0-4307-8293-70ef42ab2608\" xlink:actuate=\"onRequest\" xlink:href=\"psysml:9ecf2706-3ec0-4307-8293-70ef42ab2608\" xlink:show=\"new\" xlink:title=\"psysml:9ecf2706-3ec0-4307-8293-70ef42ab2608\" xlink:type=\"simple\"><rect fill=\"#FFFFFF\" height=\"88.3516\" id=\"E4\" rx=\"10\" ry=\"10\" style=\"stroke: #383838; stroke-width: 1.5;\" width=\"92\" x=\"155\" y=\"41\"/><text fill=\"#000000\" font-family=\"sans-serif\" font-size=\"12\" font-style=\"italic\" lengthAdjust=\"spacingAndGlyphs\" textLength=\"40\" x=\"181\" y=\"57.1387\">«part»</text><text fill=\"#000000\" font-family=\"sans-serif\" font-size=\"12\" lengthAdjust=\"spacingAndGlyphs\" textLength=\"40\" x=\"181\" y=\"71.1074\">p1: P1</text><line style=\"stroke: #383838; stroke-width: 1.5;\" x1=\"156\" x2=\"246\" y1=\"78.9375\" y2=\"78.9375\"/><text fill=\"#000000\" font-family=\"sans-serif\" font-size=\"11\" lengthAdjust=\"spacingAndGlyphs\" textLength=\"21\" x=\"161\" y=\"109.9526\">po1</text><text fill=\"#000000\" font-family=\"sans-serif\" font-size=\"11\" font-style=\"italic\" lengthAdjust=\"spacingAndGlyphs\" textLength=\"80\" x=\"161\" y=\"122.7573\">:&gt;&gt;P1::porig1</text><line style=\"stroke: #383838; stroke-width: 1.0;\" x1=\"156\" x2=\"186\" y1=\"93.3398\" y2=\"93.3398\"/><text fill=\"#000000\" font-family=\"sans-serif\" font-size=\"11\" lengthAdjust=\"spacingAndGlyphs\" textLength=\"30\" x=\"186\" y=\"96.6479\">ports</text><line style=\"stroke: #383838; stroke-width: 1.0;\" x1=\"216\" x2=\"246\" y1=\"93.3398\" y2=\"93.3398\"/></a><!--MD5=[60a26617385b1d2d0262a64233df1f8d]\n",
       "class E6--><a href=\"psysml:28be41ac-7d51-495b-a80e-46db5ea96230\" target=\"_top\" title=\"psysml:28be41ac-7d51-495b-a80e-46db5ea96230\" xlink:actuate=\"onRequest\" xlink:href=\"psysml:28be41ac-7d51-495b-a80e-46db5ea96230\" xlink:show=\"new\" xlink:title=\"psysml:28be41ac-7d51-495b-a80e-46db5ea96230\" xlink:type=\"simple\"><rect fill=\"#FFFFFF\" height=\"75.5469\" id=\"E6\" rx=\"10\" ry=\"10\" style=\"stroke: #383838; stroke-width: 1.5;\" width=\"88\" x=\"32\" y=\"47\"/><text fill=\"#000000\" font-family=\"sans-serif\" font-size=\"12\" font-style=\"italic\" lengthAdjust=\"spacingAndGlyphs\" textLength=\"40\" x=\"56\" y=\"63.1387\">«part»</text><text fill=\"#000000\" font-family=\"sans-serif\" font-size=\"12\" lengthAdjust=\"spacingAndGlyphs\" textLength=\"40\" x=\"56\" y=\"77.1074\">p2: P1</text><line style=\"stroke: #383838; stroke-width: 1.5;\" x1=\"33\" x2=\"119\" y1=\"84.9375\" y2=\"84.9375\"/><text fill=\"#000000\" font-family=\"sans-serif\" font-size=\"11\" lengthAdjust=\"spacingAndGlyphs\" textLength=\"32\" x=\"38\" y=\"115.9526\">pdest</text><text fill=\"#000000\" font-family=\"sans-serif\" font-size=\"11\" font-weight=\"bold\" lengthAdjust=\"spacingAndGlyphs\" textLength=\"15\" x=\"74\" y=\"115.9526\">as</text><text fill=\"#000000\" font-family=\"sans-serif\" font-size=\"11\" lengthAdjust=\"spacingAndGlyphs\" textLength=\"21\" x=\"93\" y=\"115.9526\">pd1</text><line style=\"stroke: #383838; stroke-width: 1.0;\" x1=\"33\" x2=\"61\" y1=\"99.3398\" y2=\"99.3398\"/><text fill=\"#000000\" font-family=\"sans-serif\" font-size=\"11\" lengthAdjust=\"spacingAndGlyphs\" textLength=\"30\" x=\"61\" y=\"102.6479\">ports</text><line style=\"stroke: #383838; stroke-width: 1.0;\" x1=\"91\" x2=\"119\" y1=\"99.3398\" y2=\"99.3398\"/></a><!--MD5=[185131fc0dcab0a4505a2ebe144e961b]\n",
       "link E4 to E2--><a href=\"psysml:8ce18664-e29b-46f0-97c0-4b398d523e7c\" target=\"_top\" title=\"psysml:8ce18664-e29b-46f0-97c0-4b398d523e7c\" xlink:actuate=\"onRequest\" xlink:href=\"psysml:8ce18664-e29b-46f0-97c0-4b398d523e7c\" xlink:show=\"new\" xlink:title=\"psysml:8ce18664-e29b-46f0-97c0-4b398d523e7c\" xlink:type=\"simple\"><path d=\"M181.89,129.15 C176.14,142.14 169.74,156.6 163.67,170.29 \" fill=\"none\" id=\"E4-&gt;E2\" style=\"stroke: #383838; stroke-width: 1.0;\"/><polygon fill=\"#FFFFFF\" points=\"155.43,188.9,156.725,168.693,169.5254,174.3632,155.43,188.9\" style=\"stroke: #383838; stroke-width: 1.0;\"/><ellipse cx=\"160.8622\" cy=\"164.2914\" fill=\"#383838\" rx=\"2\" ry=\"2\" style=\"stroke: #383838; stroke-width: 1.0;\"/><ellipse cx=\"170.0053\" cy=\"168.3416\" fill=\"#383838\" rx=\"2\" ry=\"2\" style=\"stroke: #383838; stroke-width: 1.0;\"/></a><!--MD5=[2351f337d6de0f557b50152ba70847b5]\n",
       "link E6 to E2--><a href=\"psysml:aea9633f-bca5-4d9c-866d-d7db5d7aa3e2\" target=\"_top\" title=\"psysml:aea9633f-bca5-4d9c-866d-d7db5d7aa3e2\" xlink:actuate=\"onRequest\" xlink:href=\"psysml:aea9633f-bca5-4d9c-866d-d7db5d7aa3e2\" xlink:show=\"new\" xlink:title=\"psysml:aea9633f-bca5-4d9c-866d-d7db5d7aa3e2\" xlink:type=\"simple\"><path d=\"M92.72,123.15 C99.23,137.63 106.84,154.53 113.98,170.4 \" fill=\"none\" id=\"E6-&gt;E2\" style=\"stroke: #383838; stroke-width: 1.0;\"/><polygon fill=\"#FFFFFF\" points=\"122.2,188.68,108.0257,174.22,120.7951,168.4803,122.2,188.68\" style=\"stroke: #383838; stroke-width: 1.0;\"/><ellipse cx=\"107.5131\" cy=\"168.2011\" fill=\"#383838\" rx=\"2\" ry=\"2\" style=\"stroke: #383838; stroke-width: 1.0;\"/><ellipse cx=\"116.634\" cy=\"164.1014\" fill=\"#383838\" rx=\"2\" ry=\"2\" style=\"stroke: #383838; stroke-width: 1.0;\"/></a><!--MD5=[9ba68f95f5f123e7b2d566e819f98589]\n",
       "@startuml\r\n",
       "top to bottom direction\r\n",
       "skinparam monochrome true\r\n",
       "skinparam classbackgroundcolor white\r\n",
       "skinparam shadowing false\r\n",
       "skinparam wrapWidth 300\r\n",
       "hide circle\r\n",
       "\r\n",
       "package \"AliasTest\" as E1  [[psysml:d6640503-c03f-477e-b125-432046bb93b4 ]]  {\r\n",
       "comp def \"P1\" as E2  <<(T,blue)part def>> [[psysml:4a06ff05-02b9-4148-90d6-f5221b7c40f0 ]] {\r\n",
       "- - ports - -\r\n",
       "porig1 <b>as</b> po1 \r\n",
       "}\r\n",
       "comp usage \"p1: P1\" as E4  <<(T,blue)part>> [[psysml:9ecf2706-3ec0-4307-8293-70ef42ab2608 ]] {\r\n",
       "- - ports - -\r\n",
       "po1\\n//:>>P1::porig1// \r\n",
       "}\r\n",
       "comp usage \"p2: P1\" as E6  <<(T,blue)part>> [[psysml:28be41ac-7d51-495b-a80e-46db5ea96230 ]] {\r\n",
       "- - ports - -\r\n",
       "pdest <b>as</b> pd1 \r\n",
       "}\r\n",
       "E4 - -:|> E2 [[psysml:8ce18664-e29b-46f0-97c0-4b398d523e7c ]] \r\n",
       "E6 - -:|> E2 [[psysml:aea9633f-bca5-4d9c-866d-d7db5d7aa3e2 ]] \r\n",
       "}\r\n",
       "@enduml\r\n",
       "\n",
       "PlantUML version 1.2020.13(Sat Jun 13 12:26:38 UTC 2020)\n",
       "(EPL source distribution)\n",
       "Java Runtime: OpenJDK Runtime Environment\n",
       "JVM: OpenJDK 64-Bit Server VM\n",
       "Default Encoding: UTF-8\n",
       "Language: en\n",
       "Country: null\n",
       "--></g></svg>"
      ]
     },
     "execution_count": 45,
     "metadata": {},
     "output_type": "execute_result"
    }
   ],
   "source": [
    "%viz --style=\"TB\" --view=\"Tree\" \"AliasTest\""
   ]
  },
  {
   "cell_type": "code",
   "execution_count": 46,
   "id": "civil-stock",
   "metadata": {
    "execution": {
     "iopub.execute_input": "2021-03-25T13:15:33.132188Z",
     "iopub.status.busy": "2021-03-25T13:15:33.131522Z",
     "iopub.status.idle": "2021-03-25T13:15:33.151267Z",
     "shell.execute_reply": "2021-03-25T13:15:33.150624Z"
    }
   },
   "outputs": [
    {
     "data": {
      "image/svg+xml": [
       "<?xml version=\"1.0\" encoding=\"UTF-8\" standalone=\"no\"?><svg xmlns=\"http://www.w3.org/2000/svg\" xmlns:xlink=\"http://www.w3.org/1999/xlink\" contentScriptType=\"application/ecmascript\" contentStyleType=\"text/css\" height=\"12px\" preserveAspectRatio=\"none\" style=\"width:12px;height:12px;\" version=\"1.1\" viewBox=\"0 0 12 12\" width=\"12px\" zoomAndPan=\"magnify\"><defs/><g><!--MD5=[f4ee21bc66e489b5061b7c3e9601fdef]\n",
       "@startuml\r\n",
       "top to bottom direction\r\n",
       "skinparam monochrome true\r\n",
       "skinparam classbackgroundcolor white\r\n",
       "skinparam shadowing false\r\n",
       "skinparam wrapWidth 300\r\n",
       "hide circle\r\n",
       "\r\n",
       "@enduml\r\n",
       "\n",
       "PlantUML version 1.2020.13(Sat Jun 13 12:26:38 UTC 2020)\n",
       "(EPL source distribution)\n",
       "Java Runtime: OpenJDK Runtime Environment\n",
       "JVM: OpenJDK 64-Bit Server VM\n",
       "Default Encoding: UTF-8\n",
       "Language: en\n",
       "Country: null\n",
       "--></g></svg>"
      ]
     },
     "execution_count": 46,
     "metadata": {},
     "output_type": "execute_result"
    }
   ],
   "source": [
    "%viz --style=\"TB\" --view=\"State\" \"AliasTest\""
   ]
  },
  {
   "cell_type": "code",
   "execution_count": 47,
   "id": "distant-illinois",
   "metadata": {
    "execution": {
     "iopub.execute_input": "2021-03-25T13:15:33.201192Z",
     "iopub.status.busy": "2021-03-25T13:15:33.200485Z",
     "iopub.status.idle": "2021-03-25T13:15:33.373021Z",
     "shell.execute_reply": "2021-03-25T13:15:33.371538Z"
    }
   },
   "outputs": [
    {
     "data": {
      "image/svg+xml": [
       "<?xml version=\"1.0\" encoding=\"UTF-8\" standalone=\"no\"?><svg xmlns=\"http://www.w3.org/2000/svg\" xmlns:xlink=\"http://www.w3.org/1999/xlink\" contentScriptType=\"application/ecmascript\" contentStyleType=\"text/css\" height=\"207px\" preserveAspectRatio=\"none\" style=\"width:406px;height:207px;\" version=\"1.1\" viewBox=\"0 0 406 207\" width=\"406px\" zoomAndPan=\"magnify\"><defs/><g><!--MD5=[fbc87193dbaf4d95561dea2c320d4a47]\n",
       "cluster E1--><a href=\"psysml:d6640503-c03f-477e-b125-432046bb93b4\" target=\"_top\" title=\"psysml:d6640503-c03f-477e-b125-432046bb93b4\" xlink:actuate=\"onRequest\" xlink:href=\"psysml:d6640503-c03f-477e-b125-432046bb93b4\" xlink:show=\"new\" xlink:title=\"psysml:d6640503-c03f-477e-b125-432046bb93b4\" xlink:type=\"simple\"><polygon fill=\"#FFFFFF\" points=\"16,6,94,6,101,28.2969,384,28.2969,384,195,16,195,16,6\" style=\"stroke: #000000; stroke-width: 1.5;\"/><line style=\"stroke: #000000; stroke-width: 1.5;\" x1=\"16\" x2=\"101\" y1=\"28.2969\" y2=\"28.2969\"/><text fill=\"#000000\" font-family=\"sans-serif\" font-size=\"14\" font-weight=\"bold\" lengthAdjust=\"spacingAndGlyphs\" textLength=\"72\" x=\"20\" y=\"20.9951\">AliasTest</text></a><!--MD5=[e4f7fae6ed58524ba242bb0b0d3be6b7]\n",
       "cluster E2--><a href=\"psysml:4a06ff05-02b9-4148-90d6-f5221b7c40f0\" target=\"_top\" title=\"psysml:4a06ff05-02b9-4148-90d6-f5221b7c40f0\" xlink:actuate=\"onRequest\" xlink:href=\"psysml:4a06ff05-02b9-4148-90d6-f5221b7c40f0\" xlink:show=\"new\" xlink:title=\"psysml:4a06ff05-02b9-4148-90d6-f5221b7c40f0\" xlink:type=\"simple\"><rect fill=\"#FFFFFF\" height=\"73\" id=\"E2\" style=\"stroke: #383838; stroke-width: 1.5;\" width=\"83\" x=\"244\" y=\"55\"/><rect fill=\"#F8F8F8\" height=\"37.9375\" style=\"stroke: #383838; stroke-width: 1.5;\" width=\"83\" x=\"244\" y=\"55\"/><text fill=\"#000000\" font-family=\"sans-serif\" font-size=\"12\" font-style=\"italic\" lengthAdjust=\"spacingAndGlyphs\" textLength=\"64\" x=\"253.5\" y=\"71.1387\">«part def»</text><text fill=\"#000000\" font-family=\"sans-serif\" font-size=\"12\" lengthAdjust=\"spacingAndGlyphs\" textLength=\"16\" x=\"277.5\" y=\"85.1074\">P1</text></a><!--MD5=[de5ec2e2e8f62f467e546659f5068c88]\n",
       "cluster E5--><a href=\"psysml:9ecf2706-3ec0-4307-8293-70ef42ab2608\" target=\"_top\" title=\"psysml:9ecf2706-3ec0-4307-8293-70ef42ab2608\" xlink:actuate=\"onRequest\" xlink:href=\"psysml:9ecf2706-3ec0-4307-8293-70ef42ab2608\" xlink:show=\"new\" xlink:title=\"psysml:9ecf2706-3ec0-4307-8293-70ef42ab2608\" xlink:type=\"simple\"><rect fill=\"#FFFFFF\" height=\"84.5\" id=\"E5\" rx=\"10\" ry=\"10\" style=\"stroke: #383838; stroke-width: 1.5;\" width=\"101\" x=\"139\" y=\"94.5\"/><rect fill=\"#F8F8F8\" height=\"23.9688\" rx=\"10\" ry=\"10\" style=\"stroke: #F8F8F8; stroke-width: 1.5;\" width=\"101\" x=\"139\" y=\"94.5\"/><rect fill=\"#F8F8F8\" height=\"10\" style=\"stroke: #F8F8F8; stroke-width: 1.5;\" width=\"101\" x=\"139\" y=\"108.4688\"/><rect fill=\"none\" height=\"84.5\" id=\"E5\" rx=\"10\" ry=\"10\" style=\"stroke: #383838; stroke-width: 1.5;\" width=\"101\" x=\"139\" y=\"94.5\"/><text fill=\"#000000\" font-family=\"sans-serif\" font-size=\"12\" lengthAdjust=\"spacingAndGlyphs\" textLength=\"40\" x=\"169.5\" y=\"110.6387\">p1: P1</text><line style=\"stroke: #383838; stroke-width: 1.0;\" x1=\"139\" x2=\"240\" y1=\"118.4688\" y2=\"118.4688\"/></a><!--MD5=[168fadf3d0c3fd93dd5d6da1b1d7ab76]\n",
       "cluster E7--><a href=\"psysml:28be41ac-7d51-495b-a80e-46db5ea96230\" target=\"_top\" title=\"psysml:28be41ac-7d51-495b-a80e-46db5ea96230\" xlink:actuate=\"onRequest\" xlink:href=\"psysml:28be41ac-7d51-495b-a80e-46db5ea96230\" xlink:show=\"new\" xlink:title=\"psysml:28be41ac-7d51-495b-a80e-46db5ea96230\" xlink:type=\"simple\"><rect fill=\"#FFFFFF\" height=\"65\" id=\"E7\" rx=\"10\" ry=\"10\" style=\"stroke: #383838; stroke-width: 1.5;\" width=\"83\" x=\"53\" y=\"55\"/><rect fill=\"#F8F8F8\" height=\"23.9688\" rx=\"10\" ry=\"10\" style=\"stroke: #F8F8F8; stroke-width: 1.5;\" width=\"83\" x=\"53\" y=\"55\"/><rect fill=\"#F8F8F8\" height=\"10\" style=\"stroke: #F8F8F8; stroke-width: 1.5;\" width=\"83\" x=\"53\" y=\"68.9688\"/><rect fill=\"none\" height=\"65\" id=\"E7\" rx=\"10\" ry=\"10\" style=\"stroke: #383838; stroke-width: 1.5;\" width=\"83\" x=\"53\" y=\"55\"/><text fill=\"#000000\" font-family=\"sans-serif\" font-size=\"12\" lengthAdjust=\"spacingAndGlyphs\" textLength=\"40\" x=\"74.5\" y=\"71.1387\">p2: P1</text><line style=\"stroke: #383838; stroke-width: 1.0;\" x1=\"53\" x2=\"136\" y1=\"78.9688\" y2=\"78.9688\"/></a><text fill=\"#000000\" font-family=\"sans-serif\" font-size=\"14\" lengthAdjust=\"spacingAndGlyphs\" textLength=\"44\" x=\"240\" y=\"33.6982\">porig1</text><rect fill=\"#383838\" height=\"12\" style=\"stroke: #F8F8F8; stroke-width: 1.5;\" width=\"12\" x=\"256\" y=\"49\"/><text fill=\"#000000\" font-family=\"sans-serif\" font-size=\"14\" lengthAdjust=\"spacingAndGlyphs\" textLength=\"44\" x=\"287\" y=\"33.6982\">porig1</text><rect fill=\"#383838\" height=\"12\" style=\"stroke: #F8F8F8; stroke-width: 1.5;\" width=\"12\" x=\"303\" y=\"49\"/><text fill=\"#000000\" font-family=\"sans-serif\" font-size=\"14\" lengthAdjust=\"spacingAndGlyphs\" textLength=\"27\" x=\"143.5\" y=\"73.1982\">po1</text><rect fill=\"#383838\" height=\"12\" style=\"stroke: #F8F8F8; stroke-width: 1.5;\" width=\"12\" x=\"151\" y=\"88.5\"/><text fill=\"#000000\" font-family=\"sans-serif\" font-size=\"14\" lengthAdjust=\"spacingAndGlyphs\" textLength=\"40\" x=\"51\" y=\"33.6982\">pdest</text><rect fill=\"#383838\" height=\"12\" style=\"stroke: #F8F8F8; stroke-width: 1.5;\" width=\"12\" x=\"65\" y=\"49\"/><text fill=\"#000000\" font-family=\"sans-serif\" font-size=\"14\" lengthAdjust=\"spacingAndGlyphs\" textLength=\"40\" x=\"98\" y=\"33.6982\">pdest</text><rect fill=\"#383838\" height=\"12\" style=\"stroke: #F8F8F8; stroke-width: 1.5;\" width=\"12\" x=\"112\" y=\"49\"/><!--MD5=[60ac2c0cde89d4308155b0484e57a8ec]\n",
       "link E9 to E6--><a href=\"psysml:32f11bb0-f29d-43a1-aa99-c5cb95a5777d\" target=\"_top\" title=\"psysml:32f11bb0-f29d-43a1-aa99-c5cb95a5777d\" xlink:actuate=\"onRequest\" xlink:href=\"psysml:32f11bb0-f29d-43a1-aa99-c5cb95a5777d\" xlink:show=\"new\" xlink:title=\"psysml:32f11bb0-f29d-43a1-aa99-c5cb95a5777d\" xlink:type=\"simple\"><path d=\"M111.75,56.49 C103.41,58.2 109.82,64.05 115,69 C124.85,78.4 136.6,90.11 150.78,92.89 \" fill=\"none\" id=\"E9-E6\" style=\"stroke: #383838; stroke-width: 3.0;\"/></a><!--MD5=[60ac2c0cde89d4308155b0484e57a8ec]\n",
       "link E9 to E6--><a href=\"psysml:e24ce1f4-3e8e-4ff6-8278-f74c062e3ad6\" target=\"_top\" title=\"psysml:e24ce1f4-3e8e-4ff6-8278-f74c062e3ad6\" xlink:actuate=\"onRequest\" xlink:href=\"psysml:e24ce1f4-3e8e-4ff6-8278-f74c062e3ad6\" xlink:show=\"new\" xlink:title=\"psysml:e24ce1f4-3e8e-4ff6-8278-f74c062e3ad6\" xlink:type=\"simple\"><path d=\"M124.29,56.32 C137.94,57.76 144.62,63.87 150,69 C159.5,78.06 170.77,89.27 163.24,92.56 \" fill=\"none\" id=\"E9-E6-1\" style=\"stroke: #383838; stroke-width: 3.0;\"/></a><!--MD5=[93dd8b682542f95e8ce5ef2b6d6907f6]\n",
       "@startuml\r\n",
       "skinparam ranksep 8\r\n",
       "skinparam rectangle {\r\n",
       " backgroundColor<<block>> LightGreen\r\n",
       "}\r\n",
       "top to bottom direction\r\n",
       "skinparam monochrome true\r\n",
       "skinparam classbackgroundcolor white\r\n",
       "skinparam shadowing false\r\n",
       "skinparam wrapWidth 300\r\n",
       "hide circle\r\n",
       "\r\n",
       "package \"AliasTest\" as E1  [[psysml:d6640503-c03f-477e-b125-432046bb93b4 ]]  {\r\n",
       "rec def \"P1\" as E2  <<(T,blue)part def>> [[psysml:4a06ff05-02b9-4148-90d6-f5221b7c40f0 ]] {\r\n",
       "portin \"porig1\" as E3  <<(T,blue)port>> [[psysml:2b77977e-0e87-40fa-bfcc-86d3bbd61ac4 ]] \r\n",
       "portin \"porig1\" as E4  <<(T,blue)port>> [[psysml:2b77977e-0e87-40fa-bfcc-86d3bbd61ac4 ]] \r\n",
       "}\r\n",
       "rec usage \"p1: P1\" as E5  [[psysml:9ecf2706-3ec0-4307-8293-70ef42ab2608 ]] {\r\n",
       "portin \"po1\" as E6  <<(T,blue)port>> [[psysml:040fe1ca-6ed4-4b89-a2be-3a2910b81d71 ]] \r\n",
       "}\r\n",
       "rec usage \"p2: P1\" as E7  [[psysml:28be41ac-7d51-495b-a80e-46db5ea96230 ]] {\r\n",
       "portin \"pdest\" as E8  <<(T,blue)port>> [[psysml:35e7e96c-66ea-4900-a048-bf88e7083b58 ]] \r\n",
       "portin \"pdest\" as E9  <<(T,blue)port>> [[psysml:35e7e96c-66ea-4900-a048-bf88e7083b58 ]] \r\n",
       "}\r\n",
       "E9 -[thickness=3]- E6 [[psysml:32f11bb0-f29d-43a1-aa99-c5cb95a5777d ]] \r\n",
       "E9 -[thickness=3]- E6 [[psysml:e24ce1f4-3e8e-4ff6-8278-f74c062e3ad6 ]] \r\n",
       "}\r\n",
       "@enduml\r\n",
       "\n",
       "PlantUML version 1.2020.13(Sat Jun 13 12:26:38 UTC 2020)\n",
       "(EPL source distribution)\n",
       "Java Runtime: OpenJDK Runtime Environment\n",
       "JVM: OpenJDK 64-Bit Server VM\n",
       "Default Encoding: UTF-8\n",
       "Language: en\n",
       "Country: null\n",
       "--></g></svg>"
      ]
     },
     "execution_count": 47,
     "metadata": {},
     "output_type": "execute_result"
    }
   ],
   "source": [
    "%viz --style=\"TB\" --view=\"Interconnection\" \"AliasTest\""
   ]
  },
  {
   "cell_type": "code",
   "execution_count": 48,
   "id": "comfortable-swiss",
   "metadata": {
    "execution": {
     "iopub.execute_input": "2021-03-25T13:15:33.423327Z",
     "iopub.status.busy": "2021-03-25T13:15:33.422453Z",
     "iopub.status.idle": "2021-03-25T13:15:33.433977Z",
     "shell.execute_reply": "2021-03-25T13:15:33.433157Z"
    }
   },
   "outputs": [
    {
     "data": {
      "image/svg+xml": [
       "<?xml version=\"1.0\" encoding=\"UTF-8\" standalone=\"no\"?><svg xmlns=\"http://www.w3.org/2000/svg\" xmlns:xlink=\"http://www.w3.org/1999/xlink\" contentScriptType=\"application/ecmascript\" contentStyleType=\"text/css\" height=\"12px\" preserveAspectRatio=\"none\" style=\"width:12px;height:12px;\" version=\"1.1\" viewBox=\"0 0 12 12\" width=\"12px\" zoomAndPan=\"magnify\"><defs/><g><!--MD5=[06afc254b03ac5e9d9fb7773b07d0800]\n",
       "@startuml\r\n",
       "skinparam ranksep 8\r\n",
       "top to bottom direction\r\n",
       "skinparam monochrome true\r\n",
       "skinparam classbackgroundcolor white\r\n",
       "skinparam shadowing false\r\n",
       "skinparam wrapWidth 300\r\n",
       "hide circle\r\n",
       "\r\n",
       "@enduml\r\n",
       "\n",
       "PlantUML version 1.2020.13(Sat Jun 13 12:26:38 UTC 2020)\n",
       "(EPL source distribution)\n",
       "Java Runtime: OpenJDK Runtime Environment\n",
       "JVM: OpenJDK 64-Bit Server VM\n",
       "Default Encoding: UTF-8\n",
       "Language: en\n",
       "Country: null\n",
       "--></g></svg>"
      ]
     },
     "execution_count": 48,
     "metadata": {},
     "output_type": "execute_result"
    }
   ],
   "source": [
    "%viz --style=\"TB\" --view=\"Action\" \"AliasTest\""
   ]
  },
  {
   "cell_type": "code",
   "execution_count": 49,
   "id": "after-awareness",
   "metadata": {
    "execution": {
     "iopub.execute_input": "2021-03-25T13:15:33.484165Z",
     "iopub.status.busy": "2021-03-25T13:15:33.482600Z",
     "iopub.status.idle": "2021-03-25T13:15:34.316024Z",
     "shell.execute_reply": "2021-03-25T13:15:34.314021Z"
    }
   },
   "outputs": [
    {
     "data": {
      "image/svg+xml": [
       "<?xml version=\"1.0\" encoding=\"UTF-8\" standalone=\"no\"?><svg xmlns=\"http://www.w3.org/2000/svg\" xmlns:xlink=\"http://www.w3.org/1999/xlink\" contentScriptType=\"application/ecmascript\" contentStyleType=\"text/css\" height=\"293px\" preserveAspectRatio=\"none\" style=\"width:285px;height:293px;\" version=\"1.1\" viewBox=\"0 0 285 293\" width=\"285px\" zoomAndPan=\"magnify\"><defs/><g><!--MD5=[fbc87193dbaf4d95561dea2c320d4a47]\n",
       "cluster E1--><a href=\"psysml:d6640503-c03f-477e-b125-432046bb93b4\" target=\"_top\" title=\"psysml:d6640503-c03f-477e-b125-432046bb93b4\" xlink:actuate=\"onRequest\" xlink:href=\"psysml:d6640503-c03f-477e-b125-432046bb93b4\" xlink:show=\"new\" xlink:title=\"psysml:d6640503-c03f-477e-b125-432046bb93b4\" xlink:type=\"simple\"><polygon fill=\"#FFFFFF\" points=\"16,6,94,6,101,28.2969,263,28.2969,263,281,16,281,16,6\" style=\"stroke: #000000; stroke-width: 1.5;\"/><line style=\"stroke: #000000; stroke-width: 1.5;\" x1=\"16\" x2=\"101\" y1=\"28.2969\" y2=\"28.2969\"/><text fill=\"#000000\" font-family=\"sans-serif\" font-size=\"14\" font-weight=\"bold\" lengthAdjust=\"spacingAndGlyphs\" textLength=\"72\" x=\"20\" y=\"20.9951\">AliasTest</text></a><!--MD5=[b4997ac47864f28c2f74865a473b2911]\n",
       "class E2--><a href=\"psysml:4a06ff05-02b9-4148-90d6-f5221b7c40f0\" target=\"_top\" title=\"psysml:4a06ff05-02b9-4148-90d6-f5221b7c40f0\" xlink:actuate=\"onRequest\" xlink:href=\"psysml:4a06ff05-02b9-4148-90d6-f5221b7c40f0\" xlink:show=\"new\" xlink:title=\"psysml:4a06ff05-02b9-4148-90d6-f5221b7c40f0\" xlink:type=\"simple\"><rect fill=\"#FFFFFF\" height=\"75.5469\" id=\"E2\" style=\"stroke: #383838; stroke-width: 1.5;\" width=\"92\" x=\"93\" y=\"189\"/><text fill=\"#000000\" font-family=\"sans-serif\" font-size=\"12\" font-style=\"italic\" lengthAdjust=\"spacingAndGlyphs\" textLength=\"64\" x=\"107\" y=\"205.1387\">«part def»</text><text fill=\"#000000\" font-family=\"sans-serif\" font-size=\"12\" lengthAdjust=\"spacingAndGlyphs\" textLength=\"16\" x=\"131\" y=\"219.1074\">P1</text><line style=\"stroke: #383838; stroke-width: 1.5;\" x1=\"94\" x2=\"184\" y1=\"226.9375\" y2=\"226.9375\"/><text fill=\"#000000\" font-family=\"sans-serif\" font-size=\"11\" lengthAdjust=\"spacingAndGlyphs\" textLength=\"36\" x=\"99\" y=\"257.9526\">porig1</text><text fill=\"#000000\" font-family=\"sans-serif\" font-size=\"11\" font-weight=\"bold\" lengthAdjust=\"spacingAndGlyphs\" textLength=\"15\" x=\"139\" y=\"257.9526\">as</text><text fill=\"#000000\" font-family=\"sans-serif\" font-size=\"11\" lengthAdjust=\"spacingAndGlyphs\" textLength=\"21\" x=\"158\" y=\"257.9526\">po1</text><line style=\"stroke: #383838; stroke-width: 1.0;\" x1=\"94\" x2=\"124\" y1=\"241.3398\" y2=\"241.3398\"/><text fill=\"#000000\" font-family=\"sans-serif\" font-size=\"11\" lengthAdjust=\"spacingAndGlyphs\" textLength=\"30\" x=\"124\" y=\"244.6479\">ports</text><line style=\"stroke: #383838; stroke-width: 1.0;\" x1=\"154\" x2=\"184\" y1=\"241.3398\" y2=\"241.3398\"/></a><!--MD5=[ebbe1d658d1005bcc118a6aa81145e00]\n",
       "class E4--><a href=\"psysml:9ecf2706-3ec0-4307-8293-70ef42ab2608\" target=\"_top\" title=\"psysml:9ecf2706-3ec0-4307-8293-70ef42ab2608\" xlink:actuate=\"onRequest\" xlink:href=\"psysml:9ecf2706-3ec0-4307-8293-70ef42ab2608\" xlink:show=\"new\" xlink:title=\"psysml:9ecf2706-3ec0-4307-8293-70ef42ab2608\" xlink:type=\"simple\"><rect fill=\"#FFFFFF\" height=\"88.3516\" id=\"E4\" rx=\"10\" ry=\"10\" style=\"stroke: #383838; stroke-width: 1.5;\" width=\"92\" x=\"155\" y=\"41\"/><text fill=\"#000000\" font-family=\"sans-serif\" font-size=\"12\" font-style=\"italic\" lengthAdjust=\"spacingAndGlyphs\" textLength=\"40\" x=\"181\" y=\"57.1387\">«part»</text><text fill=\"#000000\" font-family=\"sans-serif\" font-size=\"12\" lengthAdjust=\"spacingAndGlyphs\" textLength=\"40\" x=\"181\" y=\"71.1074\">p1: P1</text><line style=\"stroke: #383838; stroke-width: 1.5;\" x1=\"156\" x2=\"246\" y1=\"78.9375\" y2=\"78.9375\"/><text fill=\"#000000\" font-family=\"sans-serif\" font-size=\"11\" lengthAdjust=\"spacingAndGlyphs\" textLength=\"21\" x=\"161\" y=\"109.9526\">po1</text><text fill=\"#000000\" font-family=\"sans-serif\" font-size=\"11\" font-style=\"italic\" lengthAdjust=\"spacingAndGlyphs\" textLength=\"80\" x=\"161\" y=\"122.7573\">:&gt;&gt;P1::porig1</text><line style=\"stroke: #383838; stroke-width: 1.0;\" x1=\"156\" x2=\"186\" y1=\"93.3398\" y2=\"93.3398\"/><text fill=\"#000000\" font-family=\"sans-serif\" font-size=\"11\" lengthAdjust=\"spacingAndGlyphs\" textLength=\"30\" x=\"186\" y=\"96.6479\">ports</text><line style=\"stroke: #383838; stroke-width: 1.0;\" x1=\"216\" x2=\"246\" y1=\"93.3398\" y2=\"93.3398\"/></a><!--MD5=[60a26617385b1d2d0262a64233df1f8d]\n",
       "class E6--><a href=\"psysml:28be41ac-7d51-495b-a80e-46db5ea96230\" target=\"_top\" title=\"psysml:28be41ac-7d51-495b-a80e-46db5ea96230\" xlink:actuate=\"onRequest\" xlink:href=\"psysml:28be41ac-7d51-495b-a80e-46db5ea96230\" xlink:show=\"new\" xlink:title=\"psysml:28be41ac-7d51-495b-a80e-46db5ea96230\" xlink:type=\"simple\"><rect fill=\"#FFFFFF\" height=\"75.5469\" id=\"E6\" rx=\"10\" ry=\"10\" style=\"stroke: #383838; stroke-width: 1.5;\" width=\"88\" x=\"32\" y=\"47\"/><text fill=\"#000000\" font-family=\"sans-serif\" font-size=\"12\" font-style=\"italic\" lengthAdjust=\"spacingAndGlyphs\" textLength=\"40\" x=\"56\" y=\"63.1387\">«part»</text><text fill=\"#000000\" font-family=\"sans-serif\" font-size=\"12\" lengthAdjust=\"spacingAndGlyphs\" textLength=\"40\" x=\"56\" y=\"77.1074\">p2: P1</text><line style=\"stroke: #383838; stroke-width: 1.5;\" x1=\"33\" x2=\"119\" y1=\"84.9375\" y2=\"84.9375\"/><text fill=\"#000000\" font-family=\"sans-serif\" font-size=\"11\" lengthAdjust=\"spacingAndGlyphs\" textLength=\"32\" x=\"38\" y=\"115.9526\">pdest</text><text fill=\"#000000\" font-family=\"sans-serif\" font-size=\"11\" font-weight=\"bold\" lengthAdjust=\"spacingAndGlyphs\" textLength=\"15\" x=\"74\" y=\"115.9526\">as</text><text fill=\"#000000\" font-family=\"sans-serif\" font-size=\"11\" lengthAdjust=\"spacingAndGlyphs\" textLength=\"21\" x=\"93\" y=\"115.9526\">pd1</text><line style=\"stroke: #383838; stroke-width: 1.0;\" x1=\"33\" x2=\"61\" y1=\"99.3398\" y2=\"99.3398\"/><text fill=\"#000000\" font-family=\"sans-serif\" font-size=\"11\" lengthAdjust=\"spacingAndGlyphs\" textLength=\"30\" x=\"61\" y=\"102.6479\">ports</text><line style=\"stroke: #383838; stroke-width: 1.0;\" x1=\"91\" x2=\"119\" y1=\"99.3398\" y2=\"99.3398\"/></a><!--MD5=[185131fc0dcab0a4505a2ebe144e961b]\n",
       "link E4 to E2--><a href=\"psysml:8ce18664-e29b-46f0-97c0-4b398d523e7c\" target=\"_top\" title=\"psysml:8ce18664-e29b-46f0-97c0-4b398d523e7c\" xlink:actuate=\"onRequest\" xlink:href=\"psysml:8ce18664-e29b-46f0-97c0-4b398d523e7c\" xlink:show=\"new\" xlink:title=\"psysml:8ce18664-e29b-46f0-97c0-4b398d523e7c\" xlink:type=\"simple\"><path d=\"M181.89,129.15 C176.14,142.14 169.74,156.6 163.67,170.29 \" fill=\"none\" id=\"E4-&gt;E2\" style=\"stroke: #383838; stroke-width: 1.0;\"/><polygon fill=\"#FFFFFF\" points=\"155.43,188.9,156.725,168.693,169.5254,174.3632,155.43,188.9\" style=\"stroke: #383838; stroke-width: 1.0;\"/><ellipse cx=\"160.8622\" cy=\"164.2914\" fill=\"#383838\" rx=\"2\" ry=\"2\" style=\"stroke: #383838; stroke-width: 1.0;\"/><ellipse cx=\"170.0053\" cy=\"168.3416\" fill=\"#383838\" rx=\"2\" ry=\"2\" style=\"stroke: #383838; stroke-width: 1.0;\"/></a><!--MD5=[2351f337d6de0f557b50152ba70847b5]\n",
       "link E6 to E2--><a href=\"psysml:aea9633f-bca5-4d9c-866d-d7db5d7aa3e2\" target=\"_top\" title=\"psysml:aea9633f-bca5-4d9c-866d-d7db5d7aa3e2\" xlink:actuate=\"onRequest\" xlink:href=\"psysml:aea9633f-bca5-4d9c-866d-d7db5d7aa3e2\" xlink:show=\"new\" xlink:title=\"psysml:aea9633f-bca5-4d9c-866d-d7db5d7aa3e2\" xlink:type=\"simple\"><path d=\"M92.72,123.15 C99.23,137.63 106.84,154.53 113.98,170.4 \" fill=\"none\" id=\"E6-&gt;E2\" style=\"stroke: #383838; stroke-width: 1.0;\"/><polygon fill=\"#FFFFFF\" points=\"122.2,188.68,108.0257,174.22,120.7951,168.4803,122.2,188.68\" style=\"stroke: #383838; stroke-width: 1.0;\"/><ellipse cx=\"107.5131\" cy=\"168.2011\" fill=\"#383838\" rx=\"2\" ry=\"2\" style=\"stroke: #383838; stroke-width: 1.0;\"/><ellipse cx=\"116.634\" cy=\"164.1014\" fill=\"#383838\" rx=\"2\" ry=\"2\" style=\"stroke: #383838; stroke-width: 1.0;\"/></a><!--MD5=[9ba68f95f5f123e7b2d566e819f98589]\n",
       "@startuml\r\n",
       "top to bottom direction\r\n",
       "skinparam monochrome true\r\n",
       "skinparam classbackgroundcolor white\r\n",
       "skinparam shadowing false\r\n",
       "skinparam wrapWidth 300\r\n",
       "hide circle\r\n",
       "\r\n",
       "package \"AliasTest\" as E1  [[psysml:d6640503-c03f-477e-b125-432046bb93b4 ]]  {\r\n",
       "comp def \"P1\" as E2  <<(T,blue)part def>> [[psysml:4a06ff05-02b9-4148-90d6-f5221b7c40f0 ]] {\r\n",
       "- - ports - -\r\n",
       "porig1 <b>as</b> po1 \r\n",
       "}\r\n",
       "comp usage \"p1: P1\" as E4  <<(T,blue)part>> [[psysml:9ecf2706-3ec0-4307-8293-70ef42ab2608 ]] {\r\n",
       "- - ports - -\r\n",
       "po1\\n//:>>P1::porig1// \r\n",
       "}\r\n",
       "comp usage \"p2: P1\" as E6  <<(T,blue)part>> [[psysml:28be41ac-7d51-495b-a80e-46db5ea96230 ]] {\r\n",
       "- - ports - -\r\n",
       "pdest <b>as</b> pd1 \r\n",
       "}\r\n",
       "E4 - -:|> E2 [[psysml:8ce18664-e29b-46f0-97c0-4b398d523e7c ]] \r\n",
       "E6 - -:|> E2 [[psysml:aea9633f-bca5-4d9c-866d-d7db5d7aa3e2 ]] \r\n",
       "}\r\n",
       "@enduml\r\n",
       "\n",
       "PlantUML version 1.2020.13(Sat Jun 13 12:26:38 UTC 2020)\n",
       "(EPL source distribution)\n",
       "Java Runtime: OpenJDK Runtime Environment\n",
       "JVM: OpenJDK 64-Bit Server VM\n",
       "Default Encoding: UTF-8\n",
       "Language: en\n",
       "Country: null\n",
       "--></g></svg>"
      ]
     },
     "execution_count": 49,
     "metadata": {},
     "output_type": "execute_result"
    }
   ],
   "source": [
    "%viz --style=\"TB\" --view=\"Sequence\" \"AliasTest\""
   ]
  },
  {
   "cell_type": "code",
   "execution_count": 50,
   "id": "forty-filter",
   "metadata": {
    "execution": {
     "iopub.execute_input": "2021-03-25T13:15:34.366103Z",
     "iopub.status.busy": "2021-03-25T13:15:34.362963Z",
     "iopub.status.idle": "2021-03-25T13:15:35.365468Z",
     "shell.execute_reply": "2021-03-25T13:15:35.359143Z"
    }
   },
   "outputs": [
    {
     "data": {
      "image/svg+xml": [
       "<?xml version=\"1.0\" encoding=\"UTF-8\" standalone=\"no\"?><svg xmlns=\"http://www.w3.org/2000/svg\" xmlns:xlink=\"http://www.w3.org/1999/xlink\" contentScriptType=\"application/ecmascript\" contentStyleType=\"text/css\" height=\"293px\" preserveAspectRatio=\"none\" style=\"width:285px;height:293px;\" version=\"1.1\" viewBox=\"0 0 285 293\" width=\"285px\" zoomAndPan=\"magnify\"><defs/><g><!--MD5=[fbc87193dbaf4d95561dea2c320d4a47]\n",
       "cluster E1--><a href=\"psysml:d6640503-c03f-477e-b125-432046bb93b4\" target=\"_top\" title=\"psysml:d6640503-c03f-477e-b125-432046bb93b4\" xlink:actuate=\"onRequest\" xlink:href=\"psysml:d6640503-c03f-477e-b125-432046bb93b4\" xlink:show=\"new\" xlink:title=\"psysml:d6640503-c03f-477e-b125-432046bb93b4\" xlink:type=\"simple\"><polygon fill=\"#FFFFFF\" points=\"16,6,94,6,101,28.2969,263,28.2969,263,281,16,281,16,6\" style=\"stroke: #000000; stroke-width: 1.5;\"/><line style=\"stroke: #000000; stroke-width: 1.5;\" x1=\"16\" x2=\"101\" y1=\"28.2969\" y2=\"28.2969\"/><text fill=\"#000000\" font-family=\"sans-serif\" font-size=\"14\" font-weight=\"bold\" lengthAdjust=\"spacingAndGlyphs\" textLength=\"72\" x=\"20\" y=\"20.9951\">AliasTest</text></a><!--MD5=[b4997ac47864f28c2f74865a473b2911]\n",
       "class E2--><a href=\"psysml:4a06ff05-02b9-4148-90d6-f5221b7c40f0\" target=\"_top\" title=\"psysml:4a06ff05-02b9-4148-90d6-f5221b7c40f0\" xlink:actuate=\"onRequest\" xlink:href=\"psysml:4a06ff05-02b9-4148-90d6-f5221b7c40f0\" xlink:show=\"new\" xlink:title=\"psysml:4a06ff05-02b9-4148-90d6-f5221b7c40f0\" xlink:type=\"simple\"><rect fill=\"#FFFFFF\" height=\"75.5469\" id=\"E2\" style=\"stroke: #383838; stroke-width: 1.5;\" width=\"92\" x=\"93\" y=\"189\"/><text fill=\"#000000\" font-family=\"sans-serif\" font-size=\"12\" font-style=\"italic\" lengthAdjust=\"spacingAndGlyphs\" textLength=\"64\" x=\"107\" y=\"205.1387\">«part def»</text><text fill=\"#000000\" font-family=\"sans-serif\" font-size=\"12\" lengthAdjust=\"spacingAndGlyphs\" textLength=\"16\" x=\"131\" y=\"219.1074\">P1</text><line style=\"stroke: #383838; stroke-width: 1.5;\" x1=\"94\" x2=\"184\" y1=\"226.9375\" y2=\"226.9375\"/><text fill=\"#000000\" font-family=\"sans-serif\" font-size=\"11\" lengthAdjust=\"spacingAndGlyphs\" textLength=\"36\" x=\"99\" y=\"257.9526\">porig1</text><text fill=\"#000000\" font-family=\"sans-serif\" font-size=\"11\" font-weight=\"bold\" lengthAdjust=\"spacingAndGlyphs\" textLength=\"15\" x=\"139\" y=\"257.9526\">as</text><text fill=\"#000000\" font-family=\"sans-serif\" font-size=\"11\" lengthAdjust=\"spacingAndGlyphs\" textLength=\"21\" x=\"158\" y=\"257.9526\">po1</text><line style=\"stroke: #383838; stroke-width: 1.0;\" x1=\"94\" x2=\"124\" y1=\"241.3398\" y2=\"241.3398\"/><text fill=\"#000000\" font-family=\"sans-serif\" font-size=\"11\" lengthAdjust=\"spacingAndGlyphs\" textLength=\"30\" x=\"124\" y=\"244.6479\">ports</text><line style=\"stroke: #383838; stroke-width: 1.0;\" x1=\"154\" x2=\"184\" y1=\"241.3398\" y2=\"241.3398\"/></a><!--MD5=[ebbe1d658d1005bcc118a6aa81145e00]\n",
       "class E4--><a href=\"psysml:9ecf2706-3ec0-4307-8293-70ef42ab2608\" target=\"_top\" title=\"psysml:9ecf2706-3ec0-4307-8293-70ef42ab2608\" xlink:actuate=\"onRequest\" xlink:href=\"psysml:9ecf2706-3ec0-4307-8293-70ef42ab2608\" xlink:show=\"new\" xlink:title=\"psysml:9ecf2706-3ec0-4307-8293-70ef42ab2608\" xlink:type=\"simple\"><rect fill=\"#FFFFFF\" height=\"88.3516\" id=\"E4\" rx=\"10\" ry=\"10\" style=\"stroke: #383838; stroke-width: 1.5;\" width=\"92\" x=\"155\" y=\"41\"/><text fill=\"#000000\" font-family=\"sans-serif\" font-size=\"12\" font-style=\"italic\" lengthAdjust=\"spacingAndGlyphs\" textLength=\"40\" x=\"181\" y=\"57.1387\">«part»</text><text fill=\"#000000\" font-family=\"sans-serif\" font-size=\"12\" lengthAdjust=\"spacingAndGlyphs\" textLength=\"40\" x=\"181\" y=\"71.1074\">p1: P1</text><line style=\"stroke: #383838; stroke-width: 1.5;\" x1=\"156\" x2=\"246\" y1=\"78.9375\" y2=\"78.9375\"/><text fill=\"#000000\" font-family=\"sans-serif\" font-size=\"11\" lengthAdjust=\"spacingAndGlyphs\" textLength=\"21\" x=\"161\" y=\"109.9526\">po1</text><text fill=\"#000000\" font-family=\"sans-serif\" font-size=\"11\" font-style=\"italic\" lengthAdjust=\"spacingAndGlyphs\" textLength=\"80\" x=\"161\" y=\"122.7573\">:&gt;&gt;P1::porig1</text><line style=\"stroke: #383838; stroke-width: 1.0;\" x1=\"156\" x2=\"186\" y1=\"93.3398\" y2=\"93.3398\"/><text fill=\"#000000\" font-family=\"sans-serif\" font-size=\"11\" lengthAdjust=\"spacingAndGlyphs\" textLength=\"30\" x=\"186\" y=\"96.6479\">ports</text><line style=\"stroke: #383838; stroke-width: 1.0;\" x1=\"216\" x2=\"246\" y1=\"93.3398\" y2=\"93.3398\"/></a><!--MD5=[60a26617385b1d2d0262a64233df1f8d]\n",
       "class E6--><a href=\"psysml:28be41ac-7d51-495b-a80e-46db5ea96230\" target=\"_top\" title=\"psysml:28be41ac-7d51-495b-a80e-46db5ea96230\" xlink:actuate=\"onRequest\" xlink:href=\"psysml:28be41ac-7d51-495b-a80e-46db5ea96230\" xlink:show=\"new\" xlink:title=\"psysml:28be41ac-7d51-495b-a80e-46db5ea96230\" xlink:type=\"simple\"><rect fill=\"#FFFFFF\" height=\"75.5469\" id=\"E6\" rx=\"10\" ry=\"10\" style=\"stroke: #383838; stroke-width: 1.5;\" width=\"88\" x=\"32\" y=\"47\"/><text fill=\"#000000\" font-family=\"sans-serif\" font-size=\"12\" font-style=\"italic\" lengthAdjust=\"spacingAndGlyphs\" textLength=\"40\" x=\"56\" y=\"63.1387\">«part»</text><text fill=\"#000000\" font-family=\"sans-serif\" font-size=\"12\" lengthAdjust=\"spacingAndGlyphs\" textLength=\"40\" x=\"56\" y=\"77.1074\">p2: P1</text><line style=\"stroke: #383838; stroke-width: 1.5;\" x1=\"33\" x2=\"119\" y1=\"84.9375\" y2=\"84.9375\"/><text fill=\"#000000\" font-family=\"sans-serif\" font-size=\"11\" lengthAdjust=\"spacingAndGlyphs\" textLength=\"32\" x=\"38\" y=\"115.9526\">pdest</text><text fill=\"#000000\" font-family=\"sans-serif\" font-size=\"11\" font-weight=\"bold\" lengthAdjust=\"spacingAndGlyphs\" textLength=\"15\" x=\"74\" y=\"115.9526\">as</text><text fill=\"#000000\" font-family=\"sans-serif\" font-size=\"11\" lengthAdjust=\"spacingAndGlyphs\" textLength=\"21\" x=\"93\" y=\"115.9526\">pd1</text><line style=\"stroke: #383838; stroke-width: 1.0;\" x1=\"33\" x2=\"61\" y1=\"99.3398\" y2=\"99.3398\"/><text fill=\"#000000\" font-family=\"sans-serif\" font-size=\"11\" lengthAdjust=\"spacingAndGlyphs\" textLength=\"30\" x=\"61\" y=\"102.6479\">ports</text><line style=\"stroke: #383838; stroke-width: 1.0;\" x1=\"91\" x2=\"119\" y1=\"99.3398\" y2=\"99.3398\"/></a><!--MD5=[185131fc0dcab0a4505a2ebe144e961b]\n",
       "link E4 to E2--><a href=\"psysml:8ce18664-e29b-46f0-97c0-4b398d523e7c\" target=\"_top\" title=\"psysml:8ce18664-e29b-46f0-97c0-4b398d523e7c\" xlink:actuate=\"onRequest\" xlink:href=\"psysml:8ce18664-e29b-46f0-97c0-4b398d523e7c\" xlink:show=\"new\" xlink:title=\"psysml:8ce18664-e29b-46f0-97c0-4b398d523e7c\" xlink:type=\"simple\"><path d=\"M181.89,129.15 C176.14,142.14 169.74,156.6 163.67,170.29 \" fill=\"none\" id=\"E4-&gt;E2\" style=\"stroke: #383838; stroke-width: 1.0;\"/><polygon fill=\"#FFFFFF\" points=\"155.43,188.9,156.725,168.693,169.5254,174.3632,155.43,188.9\" style=\"stroke: #383838; stroke-width: 1.0;\"/><ellipse cx=\"160.8622\" cy=\"164.2914\" fill=\"#383838\" rx=\"2\" ry=\"2\" style=\"stroke: #383838; stroke-width: 1.0;\"/><ellipse cx=\"170.0053\" cy=\"168.3416\" fill=\"#383838\" rx=\"2\" ry=\"2\" style=\"stroke: #383838; stroke-width: 1.0;\"/></a><!--MD5=[2351f337d6de0f557b50152ba70847b5]\n",
       "link E6 to E2--><a href=\"psysml:aea9633f-bca5-4d9c-866d-d7db5d7aa3e2\" target=\"_top\" title=\"psysml:aea9633f-bca5-4d9c-866d-d7db5d7aa3e2\" xlink:actuate=\"onRequest\" xlink:href=\"psysml:aea9633f-bca5-4d9c-866d-d7db5d7aa3e2\" xlink:show=\"new\" xlink:title=\"psysml:aea9633f-bca5-4d9c-866d-d7db5d7aa3e2\" xlink:type=\"simple\"><path d=\"M92.72,123.15 C99.23,137.63 106.84,154.53 113.98,170.4 \" fill=\"none\" id=\"E6-&gt;E2\" style=\"stroke: #383838; stroke-width: 1.0;\"/><polygon fill=\"#FFFFFF\" points=\"122.2,188.68,108.0257,174.22,120.7951,168.4803,122.2,188.68\" style=\"stroke: #383838; stroke-width: 1.0;\"/><ellipse cx=\"107.5131\" cy=\"168.2011\" fill=\"#383838\" rx=\"2\" ry=\"2\" style=\"stroke: #383838; stroke-width: 1.0;\"/><ellipse cx=\"116.634\" cy=\"164.1014\" fill=\"#383838\" rx=\"2\" ry=\"2\" style=\"stroke: #383838; stroke-width: 1.0;\"/></a><!--MD5=[9ba68f95f5f123e7b2d566e819f98589]\n",
       "@startuml\r\n",
       "top to bottom direction\r\n",
       "skinparam monochrome true\r\n",
       "skinparam classbackgroundcolor white\r\n",
       "skinparam shadowing false\r\n",
       "skinparam wrapWidth 300\r\n",
       "hide circle\r\n",
       "\r\n",
       "package \"AliasTest\" as E1  [[psysml:d6640503-c03f-477e-b125-432046bb93b4 ]]  {\r\n",
       "comp def \"P1\" as E2  <<(T,blue)part def>> [[psysml:4a06ff05-02b9-4148-90d6-f5221b7c40f0 ]] {\r\n",
       "- - ports - -\r\n",
       "porig1 <b>as</b> po1 \r\n",
       "}\r\n",
       "comp usage \"p1: P1\" as E4  <<(T,blue)part>> [[psysml:9ecf2706-3ec0-4307-8293-70ef42ab2608 ]] {\r\n",
       "- - ports - -\r\n",
       "po1\\n//:>>P1::porig1// \r\n",
       "}\r\n",
       "comp usage \"p2: P1\" as E6  <<(T,blue)part>> [[psysml:28be41ac-7d51-495b-a80e-46db5ea96230 ]] {\r\n",
       "- - ports - -\r\n",
       "pdest <b>as</b> pd1 \r\n",
       "}\r\n",
       "E4 - -:|> E2 [[psysml:8ce18664-e29b-46f0-97c0-4b398d523e7c ]] \r\n",
       "E6 - -:|> E2 [[psysml:aea9633f-bca5-4d9c-866d-d7db5d7aa3e2 ]] \r\n",
       "}\r\n",
       "@enduml\r\n",
       "\n",
       "PlantUML version 1.2020.13(Sat Jun 13 12:26:38 UTC 2020)\n",
       "(EPL source distribution)\n",
       "Java Runtime: OpenJDK Runtime Environment\n",
       "JVM: OpenJDK 64-Bit Server VM\n",
       "Default Encoding: UTF-8\n",
       "Language: en\n",
       "Country: null\n",
       "--></g></svg>"
      ]
     },
     "execution_count": 50,
     "metadata": {},
     "output_type": "execute_result"
    }
   ],
   "source": [
    "%viz --style=\"TB\" --view=\"MIXED\" \"AliasTest\""
   ]
  },
  {
   "cell_type": "code",
   "execution_count": 51,
   "id": "continent-stroke",
   "metadata": {
    "execution": {
     "iopub.execute_input": "2021-03-25T13:15:35.412340Z",
     "iopub.status.busy": "2021-03-25T13:15:35.411726Z",
     "iopub.status.idle": "2021-03-25T13:15:36.309974Z",
     "shell.execute_reply": "2021-03-25T13:15:36.307704Z"
    }
   },
   "outputs": [
    {
     "data": {
      "image/svg+xml": [
       "<?xml version=\"1.0\" encoding=\"UTF-8\" standalone=\"no\"?><svg xmlns=\"http://www.w3.org/2000/svg\" xmlns:xlink=\"http://www.w3.org/1999/xlink\" contentScriptType=\"application/ecmascript\" contentStyleType=\"text/css\" height=\"293px\" preserveAspectRatio=\"none\" style=\"width:285px;height:293px;\" version=\"1.1\" viewBox=\"0 0 285 293\" width=\"285px\" zoomAndPan=\"magnify\"><defs/><g><!--MD5=[fbc87193dbaf4d95561dea2c320d4a47]\n",
       "cluster E1--><a href=\"psysml:d6640503-c03f-477e-b125-432046bb93b4\" target=\"_top\" title=\"psysml:d6640503-c03f-477e-b125-432046bb93b4\" xlink:actuate=\"onRequest\" xlink:href=\"psysml:d6640503-c03f-477e-b125-432046bb93b4\" xlink:show=\"new\" xlink:title=\"psysml:d6640503-c03f-477e-b125-432046bb93b4\" xlink:type=\"simple\"><polygon fill=\"#FFFFFF\" points=\"16,6,94,6,101,28.2969,263,28.2969,263,281,16,281,16,6\" style=\"stroke: #000000; stroke-width: 1.5;\"/><line style=\"stroke: #000000; stroke-width: 1.5;\" x1=\"16\" x2=\"101\" y1=\"28.2969\" y2=\"28.2969\"/><text fill=\"#000000\" font-family=\"sans-serif\" font-size=\"14\" font-weight=\"bold\" lengthAdjust=\"spacingAndGlyphs\" textLength=\"72\" x=\"20\" y=\"20.9951\">AliasTest</text></a><!--MD5=[b4997ac47864f28c2f74865a473b2911]\n",
       "class E2--><a href=\"psysml:4a06ff05-02b9-4148-90d6-f5221b7c40f0\" target=\"_top\" title=\"psysml:4a06ff05-02b9-4148-90d6-f5221b7c40f0\" xlink:actuate=\"onRequest\" xlink:href=\"psysml:4a06ff05-02b9-4148-90d6-f5221b7c40f0\" xlink:show=\"new\" xlink:title=\"psysml:4a06ff05-02b9-4148-90d6-f5221b7c40f0\" xlink:type=\"simple\"><rect fill=\"#FFFFFF\" height=\"75.5469\" id=\"E2\" style=\"stroke: #383838; stroke-width: 1.5;\" width=\"92\" x=\"93\" y=\"189\"/><text fill=\"#000000\" font-family=\"sans-serif\" font-size=\"12\" font-style=\"italic\" lengthAdjust=\"spacingAndGlyphs\" textLength=\"64\" x=\"107\" y=\"205.1387\">«part def»</text><text fill=\"#000000\" font-family=\"sans-serif\" font-size=\"12\" lengthAdjust=\"spacingAndGlyphs\" textLength=\"16\" x=\"131\" y=\"219.1074\">P1</text><line style=\"stroke: #383838; stroke-width: 1.5;\" x1=\"94\" x2=\"184\" y1=\"226.9375\" y2=\"226.9375\"/><text fill=\"#000000\" font-family=\"sans-serif\" font-size=\"11\" lengthAdjust=\"spacingAndGlyphs\" textLength=\"36\" x=\"99\" y=\"257.9526\">porig1</text><text fill=\"#000000\" font-family=\"sans-serif\" font-size=\"11\" font-weight=\"bold\" lengthAdjust=\"spacingAndGlyphs\" textLength=\"15\" x=\"139\" y=\"257.9526\">as</text><text fill=\"#000000\" font-family=\"sans-serif\" font-size=\"11\" lengthAdjust=\"spacingAndGlyphs\" textLength=\"21\" x=\"158\" y=\"257.9526\">po1</text><line style=\"stroke: #383838; stroke-width: 1.0;\" x1=\"94\" x2=\"124\" y1=\"241.3398\" y2=\"241.3398\"/><text fill=\"#000000\" font-family=\"sans-serif\" font-size=\"11\" lengthAdjust=\"spacingAndGlyphs\" textLength=\"30\" x=\"124\" y=\"244.6479\">ports</text><line style=\"stroke: #383838; stroke-width: 1.0;\" x1=\"154\" x2=\"184\" y1=\"241.3398\" y2=\"241.3398\"/></a><!--MD5=[ebbe1d658d1005bcc118a6aa81145e00]\n",
       "class E4--><a href=\"psysml:9ecf2706-3ec0-4307-8293-70ef42ab2608\" target=\"_top\" title=\"psysml:9ecf2706-3ec0-4307-8293-70ef42ab2608\" xlink:actuate=\"onRequest\" xlink:href=\"psysml:9ecf2706-3ec0-4307-8293-70ef42ab2608\" xlink:show=\"new\" xlink:title=\"psysml:9ecf2706-3ec0-4307-8293-70ef42ab2608\" xlink:type=\"simple\"><rect fill=\"#FFFFFF\" height=\"88.3516\" id=\"E4\" rx=\"10\" ry=\"10\" style=\"stroke: #383838; stroke-width: 1.5;\" width=\"92\" x=\"155\" y=\"41\"/><text fill=\"#000000\" font-family=\"sans-serif\" font-size=\"12\" font-style=\"italic\" lengthAdjust=\"spacingAndGlyphs\" textLength=\"40\" x=\"181\" y=\"57.1387\">«part»</text><text fill=\"#000000\" font-family=\"sans-serif\" font-size=\"12\" lengthAdjust=\"spacingAndGlyphs\" textLength=\"40\" x=\"181\" y=\"71.1074\">p1: P1</text><line style=\"stroke: #383838; stroke-width: 1.5;\" x1=\"156\" x2=\"246\" y1=\"78.9375\" y2=\"78.9375\"/><text fill=\"#000000\" font-family=\"sans-serif\" font-size=\"11\" lengthAdjust=\"spacingAndGlyphs\" textLength=\"21\" x=\"161\" y=\"109.9526\">po1</text><text fill=\"#000000\" font-family=\"sans-serif\" font-size=\"11\" font-style=\"italic\" lengthAdjust=\"spacingAndGlyphs\" textLength=\"80\" x=\"161\" y=\"122.7573\">:&gt;&gt;P1::porig1</text><line style=\"stroke: #383838; stroke-width: 1.0;\" x1=\"156\" x2=\"186\" y1=\"93.3398\" y2=\"93.3398\"/><text fill=\"#000000\" font-family=\"sans-serif\" font-size=\"11\" lengthAdjust=\"spacingAndGlyphs\" textLength=\"30\" x=\"186\" y=\"96.6479\">ports</text><line style=\"stroke: #383838; stroke-width: 1.0;\" x1=\"216\" x2=\"246\" y1=\"93.3398\" y2=\"93.3398\"/></a><!--MD5=[60a26617385b1d2d0262a64233df1f8d]\n",
       "class E6--><a href=\"psysml:28be41ac-7d51-495b-a80e-46db5ea96230\" target=\"_top\" title=\"psysml:28be41ac-7d51-495b-a80e-46db5ea96230\" xlink:actuate=\"onRequest\" xlink:href=\"psysml:28be41ac-7d51-495b-a80e-46db5ea96230\" xlink:show=\"new\" xlink:title=\"psysml:28be41ac-7d51-495b-a80e-46db5ea96230\" xlink:type=\"simple\"><rect fill=\"#FFFFFF\" height=\"75.5469\" id=\"E6\" rx=\"10\" ry=\"10\" style=\"stroke: #383838; stroke-width: 1.5;\" width=\"88\" x=\"32\" y=\"47\"/><text fill=\"#000000\" font-family=\"sans-serif\" font-size=\"12\" font-style=\"italic\" lengthAdjust=\"spacingAndGlyphs\" textLength=\"40\" x=\"56\" y=\"63.1387\">«part»</text><text fill=\"#000000\" font-family=\"sans-serif\" font-size=\"12\" lengthAdjust=\"spacingAndGlyphs\" textLength=\"40\" x=\"56\" y=\"77.1074\">p2: P1</text><line style=\"stroke: #383838; stroke-width: 1.5;\" x1=\"33\" x2=\"119\" y1=\"84.9375\" y2=\"84.9375\"/><text fill=\"#000000\" font-family=\"sans-serif\" font-size=\"11\" lengthAdjust=\"spacingAndGlyphs\" textLength=\"32\" x=\"38\" y=\"115.9526\">pdest</text><text fill=\"#000000\" font-family=\"sans-serif\" font-size=\"11\" font-weight=\"bold\" lengthAdjust=\"spacingAndGlyphs\" textLength=\"15\" x=\"74\" y=\"115.9526\">as</text><text fill=\"#000000\" font-family=\"sans-serif\" font-size=\"11\" lengthAdjust=\"spacingAndGlyphs\" textLength=\"21\" x=\"93\" y=\"115.9526\">pd1</text><line style=\"stroke: #383838; stroke-width: 1.0;\" x1=\"33\" x2=\"61\" y1=\"99.3398\" y2=\"99.3398\"/><text fill=\"#000000\" font-family=\"sans-serif\" font-size=\"11\" lengthAdjust=\"spacingAndGlyphs\" textLength=\"30\" x=\"61\" y=\"102.6479\">ports</text><line style=\"stroke: #383838; stroke-width: 1.0;\" x1=\"91\" x2=\"119\" y1=\"99.3398\" y2=\"99.3398\"/></a><!--MD5=[185131fc0dcab0a4505a2ebe144e961b]\n",
       "link E4 to E2--><a href=\"psysml:8ce18664-e29b-46f0-97c0-4b398d523e7c\" target=\"_top\" title=\"psysml:8ce18664-e29b-46f0-97c0-4b398d523e7c\" xlink:actuate=\"onRequest\" xlink:href=\"psysml:8ce18664-e29b-46f0-97c0-4b398d523e7c\" xlink:show=\"new\" xlink:title=\"psysml:8ce18664-e29b-46f0-97c0-4b398d523e7c\" xlink:type=\"simple\"><path d=\"M170,129.15 C170,129.15 170,168.63 170,168.63 \" fill=\"none\" id=\"E4-&gt;E2\" style=\"stroke: #383838; stroke-width: 1.0;\"/><polygon fill=\"#FFFFFF\" points=\"170,188.63,163,169.63,177,169.63,170,188.63\" style=\"stroke: #383838; stroke-width: 1.0;\"/><ellipse cx=\"165\" cy=\"163.93\" fill=\"#383838\" rx=\"2\" ry=\"2\" style=\"stroke: #383838; stroke-width: 1.0;\"/><ellipse cx=\"175\" cy=\"163.93\" fill=\"#383838\" rx=\"2\" ry=\"2\" style=\"stroke: #383838; stroke-width: 1.0;\"/></a><!--MD5=[2351f337d6de0f557b50152ba70847b5]\n",
       "link E6 to E2--><a href=\"psysml:aea9633f-bca5-4d9c-866d-d7db5d7aa3e2\" target=\"_top\" title=\"psysml:aea9633f-bca5-4d9c-866d-d7db5d7aa3e2\" xlink:actuate=\"onRequest\" xlink:href=\"psysml:aea9633f-bca5-4d9c-866d-d7db5d7aa3e2\" xlink:show=\"new\" xlink:title=\"psysml:aea9633f-bca5-4d9c-866d-d7db5d7aa3e2\" xlink:type=\"simple\"><path d=\"M106.5,123.05 C106.5,123.05 106.5,168.84 106.5,168.84 \" fill=\"none\" id=\"E6-&gt;E2\" style=\"stroke: #383838; stroke-width: 1.0;\"/><polygon fill=\"#FFFFFF\" points=\"106.5,188.84,99.5,169.84,113.5,169.84,106.5,188.84\" style=\"stroke: #383838; stroke-width: 1.0;\"/><ellipse cx=\"101.5\" cy=\"164.14\" fill=\"#383838\" rx=\"2\" ry=\"2\" style=\"stroke: #383838; stroke-width: 1.0;\"/><ellipse cx=\"111.5\" cy=\"164.14\" fill=\"#383838\" rx=\"2\" ry=\"2\" style=\"stroke: #383838; stroke-width: 1.0;\"/></a><!--MD5=[99fd9b82da4a251b751cde33d0f7c92b]\n",
       "@startuml\r\n",
       "skinparam linetype ortho\r\n",
       "skinparam monochrome true\r\n",
       "skinparam classbackgroundcolor white\r\n",
       "skinparam shadowing false\r\n",
       "skinparam wrapWidth 300\r\n",
       "hide circle\r\n",
       "\r\n",
       "package \"AliasTest\" as E1  [[psysml:d6640503-c03f-477e-b125-432046bb93b4 ]]  {\r\n",
       "comp def \"P1\" as E2  <<(T,blue)part def>> [[psysml:4a06ff05-02b9-4148-90d6-f5221b7c40f0 ]] {\r\n",
       "- - ports - -\r\n",
       "porig1 <b>as</b> po1 \r\n",
       "}\r\n",
       "comp usage \"p1: P1\" as E4  <<(T,blue)part>> [[psysml:9ecf2706-3ec0-4307-8293-70ef42ab2608 ]] {\r\n",
       "- - ports - -\r\n",
       "po1\\n//:>>P1::porig1// \r\n",
       "}\r\n",
       "comp usage \"p2: P1\" as E6  <<(T,blue)part>> [[psysml:28be41ac-7d51-495b-a80e-46db5ea96230 ]] {\r\n",
       "- - ports - -\r\n",
       "pdest <b>as</b> pd1 \r\n",
       "}\r\n",
       "E4 - -:|> E2 [[psysml:8ce18664-e29b-46f0-97c0-4b398d523e7c ]] \r\n",
       "E6 - -:|> E2 [[psysml:aea9633f-bca5-4d9c-866d-d7db5d7aa3e2 ]] \r\n",
       "}\r\n",
       "@enduml\r\n",
       "\n",
       "PlantUML version 1.2020.13(Sat Jun 13 12:26:38 UTC 2020)\n",
       "(EPL source distribution)\n",
       "Java Runtime: OpenJDK Runtime Environment\n",
       "JVM: OpenJDK 64-Bit Server VM\n",
       "Default Encoding: UTF-8\n",
       "Language: en\n",
       "Country: null\n",
       "--></g></svg>"
      ]
     },
     "execution_count": 51,
     "metadata": {},
     "output_type": "execute_result"
    }
   ],
   "source": [
    "%viz --style=\"ORTHOLINE\" --view=\"Default\" \"AliasTest\""
   ]
  },
  {
   "cell_type": "code",
   "execution_count": 52,
   "id": "narrative-calculation",
   "metadata": {
    "execution": {
     "iopub.execute_input": "2021-03-25T13:15:36.359052Z",
     "iopub.status.busy": "2021-03-25T13:15:36.358242Z",
     "iopub.status.idle": "2021-03-25T13:15:37.118695Z",
     "shell.execute_reply": "2021-03-25T13:15:37.117116Z"
    }
   },
   "outputs": [
    {
     "data": {
      "image/svg+xml": [
       "<?xml version=\"1.0\" encoding=\"UTF-8\" standalone=\"no\"?><svg xmlns=\"http://www.w3.org/2000/svg\" xmlns:xlink=\"http://www.w3.org/1999/xlink\" contentScriptType=\"application/ecmascript\" contentStyleType=\"text/css\" height=\"293px\" preserveAspectRatio=\"none\" style=\"width:285px;height:293px;\" version=\"1.1\" viewBox=\"0 0 285 293\" width=\"285px\" zoomAndPan=\"magnify\"><defs/><g><!--MD5=[fbc87193dbaf4d95561dea2c320d4a47]\n",
       "cluster E1--><a href=\"psysml:d6640503-c03f-477e-b125-432046bb93b4\" target=\"_top\" title=\"psysml:d6640503-c03f-477e-b125-432046bb93b4\" xlink:actuate=\"onRequest\" xlink:href=\"psysml:d6640503-c03f-477e-b125-432046bb93b4\" xlink:show=\"new\" xlink:title=\"psysml:d6640503-c03f-477e-b125-432046bb93b4\" xlink:type=\"simple\"><polygon fill=\"#FFFFFF\" points=\"16,6,94,6,101,28.2969,263,28.2969,263,281,16,281,16,6\" style=\"stroke: #000000; stroke-width: 1.5;\"/><line style=\"stroke: #000000; stroke-width: 1.5;\" x1=\"16\" x2=\"101\" y1=\"28.2969\" y2=\"28.2969\"/><text fill=\"#000000\" font-family=\"sans-serif\" font-size=\"14\" font-weight=\"bold\" lengthAdjust=\"spacingAndGlyphs\" textLength=\"72\" x=\"20\" y=\"20.9951\">AliasTest</text></a><!--MD5=[b4997ac47864f28c2f74865a473b2911]\n",
       "class E2--><a href=\"psysml:4a06ff05-02b9-4148-90d6-f5221b7c40f0\" target=\"_top\" title=\"psysml:4a06ff05-02b9-4148-90d6-f5221b7c40f0\" xlink:actuate=\"onRequest\" xlink:href=\"psysml:4a06ff05-02b9-4148-90d6-f5221b7c40f0\" xlink:show=\"new\" xlink:title=\"psysml:4a06ff05-02b9-4148-90d6-f5221b7c40f0\" xlink:type=\"simple\"><rect fill=\"#FFFFFF\" height=\"75.5469\" id=\"E2\" style=\"stroke: #383838; stroke-width: 1.5;\" width=\"92\" x=\"93\" y=\"189\"/><text fill=\"#000000\" font-family=\"sans-serif\" font-size=\"12\" font-style=\"italic\" lengthAdjust=\"spacingAndGlyphs\" textLength=\"64\" x=\"107\" y=\"205.1387\">«part def»</text><text fill=\"#000000\" font-family=\"sans-serif\" font-size=\"12\" lengthAdjust=\"spacingAndGlyphs\" textLength=\"16\" x=\"131\" y=\"219.1074\">P1</text><line style=\"stroke: #383838; stroke-width: 1.5;\" x1=\"94\" x2=\"184\" y1=\"226.9375\" y2=\"226.9375\"/><text fill=\"#000000\" font-family=\"sans-serif\" font-size=\"11\" lengthAdjust=\"spacingAndGlyphs\" textLength=\"36\" x=\"99\" y=\"257.9526\">porig1</text><text fill=\"#000000\" font-family=\"sans-serif\" font-size=\"11\" font-weight=\"bold\" lengthAdjust=\"spacingAndGlyphs\" textLength=\"15\" x=\"139\" y=\"257.9526\">as</text><text fill=\"#000000\" font-family=\"sans-serif\" font-size=\"11\" lengthAdjust=\"spacingAndGlyphs\" textLength=\"21\" x=\"158\" y=\"257.9526\">po1</text><line style=\"stroke: #383838; stroke-width: 1.0;\" x1=\"94\" x2=\"124\" y1=\"241.3398\" y2=\"241.3398\"/><text fill=\"#000000\" font-family=\"sans-serif\" font-size=\"11\" lengthAdjust=\"spacingAndGlyphs\" textLength=\"30\" x=\"124\" y=\"244.6479\">ports</text><line style=\"stroke: #383838; stroke-width: 1.0;\" x1=\"154\" x2=\"184\" y1=\"241.3398\" y2=\"241.3398\"/></a><!--MD5=[ebbe1d658d1005bcc118a6aa81145e00]\n",
       "class E4--><a href=\"psysml:9ecf2706-3ec0-4307-8293-70ef42ab2608\" target=\"_top\" title=\"psysml:9ecf2706-3ec0-4307-8293-70ef42ab2608\" xlink:actuate=\"onRequest\" xlink:href=\"psysml:9ecf2706-3ec0-4307-8293-70ef42ab2608\" xlink:show=\"new\" xlink:title=\"psysml:9ecf2706-3ec0-4307-8293-70ef42ab2608\" xlink:type=\"simple\"><rect fill=\"#FFFFFF\" height=\"88.3516\" id=\"E4\" rx=\"10\" ry=\"10\" style=\"stroke: #383838; stroke-width: 1.5;\" width=\"92\" x=\"155\" y=\"41\"/><text fill=\"#000000\" font-family=\"sans-serif\" font-size=\"12\" font-style=\"italic\" lengthAdjust=\"spacingAndGlyphs\" textLength=\"40\" x=\"181\" y=\"57.1387\">«part»</text><text fill=\"#000000\" font-family=\"sans-serif\" font-size=\"12\" lengthAdjust=\"spacingAndGlyphs\" textLength=\"40\" x=\"181\" y=\"71.1074\">p1: P1</text><line style=\"stroke: #383838; stroke-width: 1.5;\" x1=\"156\" x2=\"246\" y1=\"78.9375\" y2=\"78.9375\"/><text fill=\"#000000\" font-family=\"sans-serif\" font-size=\"11\" lengthAdjust=\"spacingAndGlyphs\" textLength=\"21\" x=\"161\" y=\"109.9526\">po1</text><text fill=\"#000000\" font-family=\"sans-serif\" font-size=\"11\" font-style=\"italic\" lengthAdjust=\"spacingAndGlyphs\" textLength=\"80\" x=\"161\" y=\"122.7573\">:&gt;&gt;P1::porig1</text><line style=\"stroke: #383838; stroke-width: 1.0;\" x1=\"156\" x2=\"186\" y1=\"93.3398\" y2=\"93.3398\"/><text fill=\"#000000\" font-family=\"sans-serif\" font-size=\"11\" lengthAdjust=\"spacingAndGlyphs\" textLength=\"30\" x=\"186\" y=\"96.6479\">ports</text><line style=\"stroke: #383838; stroke-width: 1.0;\" x1=\"216\" x2=\"246\" y1=\"93.3398\" y2=\"93.3398\"/></a><!--MD5=[60a26617385b1d2d0262a64233df1f8d]\n",
       "class E6--><a href=\"psysml:28be41ac-7d51-495b-a80e-46db5ea96230\" target=\"_top\" title=\"psysml:28be41ac-7d51-495b-a80e-46db5ea96230\" xlink:actuate=\"onRequest\" xlink:href=\"psysml:28be41ac-7d51-495b-a80e-46db5ea96230\" xlink:show=\"new\" xlink:title=\"psysml:28be41ac-7d51-495b-a80e-46db5ea96230\" xlink:type=\"simple\"><rect fill=\"#FFFFFF\" height=\"75.5469\" id=\"E6\" rx=\"10\" ry=\"10\" style=\"stroke: #383838; stroke-width: 1.5;\" width=\"88\" x=\"32\" y=\"47\"/><text fill=\"#000000\" font-family=\"sans-serif\" font-size=\"12\" font-style=\"italic\" lengthAdjust=\"spacingAndGlyphs\" textLength=\"40\" x=\"56\" y=\"63.1387\">«part»</text><text fill=\"#000000\" font-family=\"sans-serif\" font-size=\"12\" lengthAdjust=\"spacingAndGlyphs\" textLength=\"40\" x=\"56\" y=\"77.1074\">p2: P1</text><line style=\"stroke: #383838; stroke-width: 1.5;\" x1=\"33\" x2=\"119\" y1=\"84.9375\" y2=\"84.9375\"/><text fill=\"#000000\" font-family=\"sans-serif\" font-size=\"11\" lengthAdjust=\"spacingAndGlyphs\" textLength=\"32\" x=\"38\" y=\"115.9526\">pdest</text><text fill=\"#000000\" font-family=\"sans-serif\" font-size=\"11\" font-weight=\"bold\" lengthAdjust=\"spacingAndGlyphs\" textLength=\"15\" x=\"74\" y=\"115.9526\">as</text><text fill=\"#000000\" font-family=\"sans-serif\" font-size=\"11\" lengthAdjust=\"spacingAndGlyphs\" textLength=\"21\" x=\"93\" y=\"115.9526\">pd1</text><line style=\"stroke: #383838; stroke-width: 1.0;\" x1=\"33\" x2=\"61\" y1=\"99.3398\" y2=\"99.3398\"/><text fill=\"#000000\" font-family=\"sans-serif\" font-size=\"11\" lengthAdjust=\"spacingAndGlyphs\" textLength=\"30\" x=\"61\" y=\"102.6479\">ports</text><line style=\"stroke: #383838; stroke-width: 1.0;\" x1=\"91\" x2=\"119\" y1=\"99.3398\" y2=\"99.3398\"/></a><!--MD5=[185131fc0dcab0a4505a2ebe144e961b]\n",
       "link E4 to E2--><a href=\"psysml:8ce18664-e29b-46f0-97c0-4b398d523e7c\" target=\"_top\" title=\"psysml:8ce18664-e29b-46f0-97c0-4b398d523e7c\" xlink:actuate=\"onRequest\" xlink:href=\"psysml:8ce18664-e29b-46f0-97c0-4b398d523e7c\" xlink:show=\"new\" xlink:title=\"psysml:8ce18664-e29b-46f0-97c0-4b398d523e7c\" xlink:type=\"simple\"><path d=\"M170,129.15 C170,129.15 170,168.63 170,168.63 \" fill=\"none\" id=\"E4-&gt;E2\" style=\"stroke: #383838; stroke-width: 1.0;\"/><polygon fill=\"#FFFFFF\" points=\"170,188.63,163,169.63,177,169.63,170,188.63\" style=\"stroke: #383838; stroke-width: 1.0;\"/><ellipse cx=\"165\" cy=\"163.93\" fill=\"#383838\" rx=\"2\" ry=\"2\" style=\"stroke: #383838; stroke-width: 1.0;\"/><ellipse cx=\"175\" cy=\"163.93\" fill=\"#383838\" rx=\"2\" ry=\"2\" style=\"stroke: #383838; stroke-width: 1.0;\"/></a><!--MD5=[2351f337d6de0f557b50152ba70847b5]\n",
       "link E6 to E2--><a href=\"psysml:aea9633f-bca5-4d9c-866d-d7db5d7aa3e2\" target=\"_top\" title=\"psysml:aea9633f-bca5-4d9c-866d-d7db5d7aa3e2\" xlink:actuate=\"onRequest\" xlink:href=\"psysml:aea9633f-bca5-4d9c-866d-d7db5d7aa3e2\" xlink:show=\"new\" xlink:title=\"psysml:aea9633f-bca5-4d9c-866d-d7db5d7aa3e2\" xlink:type=\"simple\"><path d=\"M106.5,123.05 C106.5,123.05 106.5,168.84 106.5,168.84 \" fill=\"none\" id=\"E6-&gt;E2\" style=\"stroke: #383838; stroke-width: 1.0;\"/><polygon fill=\"#FFFFFF\" points=\"106.5,188.84,99.5,169.84,113.5,169.84,106.5,188.84\" style=\"stroke: #383838; stroke-width: 1.0;\"/><ellipse cx=\"101.5\" cy=\"164.14\" fill=\"#383838\" rx=\"2\" ry=\"2\" style=\"stroke: #383838; stroke-width: 1.0;\"/><ellipse cx=\"111.5\" cy=\"164.14\" fill=\"#383838\" rx=\"2\" ry=\"2\" style=\"stroke: #383838; stroke-width: 1.0;\"/></a><!--MD5=[99fd9b82da4a251b751cde33d0f7c92b]\n",
       "@startuml\r\n",
       "skinparam linetype ortho\r\n",
       "skinparam monochrome true\r\n",
       "skinparam classbackgroundcolor white\r\n",
       "skinparam shadowing false\r\n",
       "skinparam wrapWidth 300\r\n",
       "hide circle\r\n",
       "\r\n",
       "package \"AliasTest\" as E1  [[psysml:d6640503-c03f-477e-b125-432046bb93b4 ]]  {\r\n",
       "comp def \"P1\" as E2  <<(T,blue)part def>> [[psysml:4a06ff05-02b9-4148-90d6-f5221b7c40f0 ]] {\r\n",
       "- - ports - -\r\n",
       "porig1 <b>as</b> po1 \r\n",
       "}\r\n",
       "comp usage \"p1: P1\" as E4  <<(T,blue)part>> [[psysml:9ecf2706-3ec0-4307-8293-70ef42ab2608 ]] {\r\n",
       "- - ports - -\r\n",
       "po1\\n//:>>P1::porig1// \r\n",
       "}\r\n",
       "comp usage \"p2: P1\" as E6  <<(T,blue)part>> [[psysml:28be41ac-7d51-495b-a80e-46db5ea96230 ]] {\r\n",
       "- - ports - -\r\n",
       "pdest <b>as</b> pd1 \r\n",
       "}\r\n",
       "E4 - -:|> E2 [[psysml:8ce18664-e29b-46f0-97c0-4b398d523e7c ]] \r\n",
       "E6 - -:|> E2 [[psysml:aea9633f-bca5-4d9c-866d-d7db5d7aa3e2 ]] \r\n",
       "}\r\n",
       "@enduml\r\n",
       "\n",
       "PlantUML version 1.2020.13(Sat Jun 13 12:26:38 UTC 2020)\n",
       "(EPL source distribution)\n",
       "Java Runtime: OpenJDK Runtime Environment\n",
       "JVM: OpenJDK 64-Bit Server VM\n",
       "Default Encoding: UTF-8\n",
       "Language: en\n",
       "Country: null\n",
       "--></g></svg>"
      ]
     },
     "execution_count": 52,
     "metadata": {},
     "output_type": "execute_result"
    }
   ],
   "source": [
    "%viz --style=\"ORTHOLINE\" --view=\"Tree\" \"AliasTest\""
   ]
  },
  {
   "cell_type": "code",
   "execution_count": 53,
   "id": "ranging-guard",
   "metadata": {
    "execution": {
     "iopub.execute_input": "2021-03-25T13:15:37.168339Z",
     "iopub.status.busy": "2021-03-25T13:15:37.167727Z",
     "iopub.status.idle": "2021-03-25T13:15:37.177759Z",
     "shell.execute_reply": "2021-03-25T13:15:37.178380Z"
    }
   },
   "outputs": [
    {
     "data": {
      "image/svg+xml": [
       "<?xml version=\"1.0\" encoding=\"UTF-8\" standalone=\"no\"?><svg xmlns=\"http://www.w3.org/2000/svg\" xmlns:xlink=\"http://www.w3.org/1999/xlink\" contentScriptType=\"application/ecmascript\" contentStyleType=\"text/css\" height=\"12px\" preserveAspectRatio=\"none\" style=\"width:12px;height:12px;\" version=\"1.1\" viewBox=\"0 0 12 12\" width=\"12px\" zoomAndPan=\"magnify\"><defs/><g><!--MD5=[97d6f38768b311333d388e66b2b27985]\n",
       "@startuml\r\n",
       "skinparam linetype ortho\r\n",
       "skinparam monochrome true\r\n",
       "skinparam classbackgroundcolor white\r\n",
       "skinparam shadowing false\r\n",
       "skinparam wrapWidth 300\r\n",
       "hide circle\r\n",
       "\r\n",
       "@enduml\r\n",
       "\n",
       "PlantUML version 1.2020.13(Sat Jun 13 12:26:38 UTC 2020)\n",
       "(EPL source distribution)\n",
       "Java Runtime: OpenJDK Runtime Environment\n",
       "JVM: OpenJDK 64-Bit Server VM\n",
       "Default Encoding: UTF-8\n",
       "Language: en\n",
       "Country: null\n",
       "--></g></svg>"
      ]
     },
     "execution_count": 53,
     "metadata": {},
     "output_type": "execute_result"
    }
   ],
   "source": [
    "%viz --style=\"ORTHOLINE\" --view=\"State\" \"AliasTest\""
   ]
  },
  {
   "cell_type": "code",
   "execution_count": 54,
   "id": "eligible-journalism",
   "metadata": {
    "execution": {
     "iopub.execute_input": "2021-03-25T13:15:37.228742Z",
     "iopub.status.busy": "2021-03-25T13:15:37.228288Z",
     "iopub.status.idle": "2021-03-25T13:15:37.370607Z",
     "shell.execute_reply": "2021-03-25T13:15:37.368843Z"
    }
   },
   "outputs": [
    {
     "data": {
      "image/svg+xml": [
       "<?xml version=\"1.0\" encoding=\"UTF-8\" standalone=\"no\"?><svg xmlns=\"http://www.w3.org/2000/svg\" xmlns:xlink=\"http://www.w3.org/1999/xlink\" contentScriptType=\"application/ecmascript\" contentStyleType=\"text/css\" height=\"207px\" preserveAspectRatio=\"none\" style=\"width:406px;height:207px;\" version=\"1.1\" viewBox=\"0 0 406 207\" width=\"406px\" zoomAndPan=\"magnify\"><defs/><g><!--MD5=[fbc87193dbaf4d95561dea2c320d4a47]\n",
       "cluster E1--><a href=\"psysml:d6640503-c03f-477e-b125-432046bb93b4\" target=\"_top\" title=\"psysml:d6640503-c03f-477e-b125-432046bb93b4\" xlink:actuate=\"onRequest\" xlink:href=\"psysml:d6640503-c03f-477e-b125-432046bb93b4\" xlink:show=\"new\" xlink:title=\"psysml:d6640503-c03f-477e-b125-432046bb93b4\" xlink:type=\"simple\"><polygon fill=\"#FFFFFF\" points=\"16,6,94,6,101,28.2969,384,28.2969,384,195,16,195,16,6\" style=\"stroke: #000000; stroke-width: 1.5;\"/><line style=\"stroke: #000000; stroke-width: 1.5;\" x1=\"16\" x2=\"101\" y1=\"28.2969\" y2=\"28.2969\"/><text fill=\"#000000\" font-family=\"sans-serif\" font-size=\"14\" font-weight=\"bold\" lengthAdjust=\"spacingAndGlyphs\" textLength=\"72\" x=\"20\" y=\"20.9951\">AliasTest</text></a><!--MD5=[e4f7fae6ed58524ba242bb0b0d3be6b7]\n",
       "cluster E2--><a href=\"psysml:4a06ff05-02b9-4148-90d6-f5221b7c40f0\" target=\"_top\" title=\"psysml:4a06ff05-02b9-4148-90d6-f5221b7c40f0\" xlink:actuate=\"onRequest\" xlink:href=\"psysml:4a06ff05-02b9-4148-90d6-f5221b7c40f0\" xlink:show=\"new\" xlink:title=\"psysml:4a06ff05-02b9-4148-90d6-f5221b7c40f0\" xlink:type=\"simple\"><rect fill=\"#FFFFFF\" height=\"73\" id=\"E2\" style=\"stroke: #383838; stroke-width: 1.5;\" width=\"83\" x=\"244\" y=\"55\"/><rect fill=\"#F8F8F8\" height=\"37.9375\" style=\"stroke: #383838; stroke-width: 1.5;\" width=\"83\" x=\"244\" y=\"55\"/><text fill=\"#000000\" font-family=\"sans-serif\" font-size=\"12\" font-style=\"italic\" lengthAdjust=\"spacingAndGlyphs\" textLength=\"64\" x=\"253.5\" y=\"71.1387\">«part def»</text><text fill=\"#000000\" font-family=\"sans-serif\" font-size=\"12\" lengthAdjust=\"spacingAndGlyphs\" textLength=\"16\" x=\"277.5\" y=\"85.1074\">P1</text></a><!--MD5=[de5ec2e2e8f62f467e546659f5068c88]\n",
       "cluster E5--><a href=\"psysml:9ecf2706-3ec0-4307-8293-70ef42ab2608\" target=\"_top\" title=\"psysml:9ecf2706-3ec0-4307-8293-70ef42ab2608\" xlink:actuate=\"onRequest\" xlink:href=\"psysml:9ecf2706-3ec0-4307-8293-70ef42ab2608\" xlink:show=\"new\" xlink:title=\"psysml:9ecf2706-3ec0-4307-8293-70ef42ab2608\" xlink:type=\"simple\"><rect fill=\"#FFFFFF\" height=\"84.5\" id=\"E5\" rx=\"10\" ry=\"10\" style=\"stroke: #383838; stroke-width: 1.5;\" width=\"101\" x=\"139\" y=\"94.5\"/><rect fill=\"#F8F8F8\" height=\"23.9688\" rx=\"10\" ry=\"10\" style=\"stroke: #F8F8F8; stroke-width: 1.5;\" width=\"101\" x=\"139\" y=\"94.5\"/><rect fill=\"#F8F8F8\" height=\"10\" style=\"stroke: #F8F8F8; stroke-width: 1.5;\" width=\"101\" x=\"139\" y=\"108.4688\"/><rect fill=\"none\" height=\"84.5\" id=\"E5\" rx=\"10\" ry=\"10\" style=\"stroke: #383838; stroke-width: 1.5;\" width=\"101\" x=\"139\" y=\"94.5\"/><text fill=\"#000000\" font-family=\"sans-serif\" font-size=\"12\" lengthAdjust=\"spacingAndGlyphs\" textLength=\"40\" x=\"169.5\" y=\"110.6387\">p1: P1</text><line style=\"stroke: #383838; stroke-width: 1.0;\" x1=\"139\" x2=\"240\" y1=\"118.4688\" y2=\"118.4688\"/></a><!--MD5=[168fadf3d0c3fd93dd5d6da1b1d7ab76]\n",
       "cluster E7--><a href=\"psysml:28be41ac-7d51-495b-a80e-46db5ea96230\" target=\"_top\" title=\"psysml:28be41ac-7d51-495b-a80e-46db5ea96230\" xlink:actuate=\"onRequest\" xlink:href=\"psysml:28be41ac-7d51-495b-a80e-46db5ea96230\" xlink:show=\"new\" xlink:title=\"psysml:28be41ac-7d51-495b-a80e-46db5ea96230\" xlink:type=\"simple\"><rect fill=\"#FFFFFF\" height=\"65\" id=\"E7\" rx=\"10\" ry=\"10\" style=\"stroke: #383838; stroke-width: 1.5;\" width=\"83\" x=\"53\" y=\"55\"/><rect fill=\"#F8F8F8\" height=\"23.9688\" rx=\"10\" ry=\"10\" style=\"stroke: #F8F8F8; stroke-width: 1.5;\" width=\"83\" x=\"53\" y=\"55\"/><rect fill=\"#F8F8F8\" height=\"10\" style=\"stroke: #F8F8F8; stroke-width: 1.5;\" width=\"83\" x=\"53\" y=\"68.9688\"/><rect fill=\"none\" height=\"65\" id=\"E7\" rx=\"10\" ry=\"10\" style=\"stroke: #383838; stroke-width: 1.5;\" width=\"83\" x=\"53\" y=\"55\"/><text fill=\"#000000\" font-family=\"sans-serif\" font-size=\"12\" lengthAdjust=\"spacingAndGlyphs\" textLength=\"40\" x=\"74.5\" y=\"71.1387\">p2: P1</text><line style=\"stroke: #383838; stroke-width: 1.0;\" x1=\"53\" x2=\"136\" y1=\"78.9688\" y2=\"78.9688\"/></a><text fill=\"#000000\" font-family=\"sans-serif\" font-size=\"14\" lengthAdjust=\"spacingAndGlyphs\" textLength=\"44\" x=\"240\" y=\"33.6982\">porig1</text><rect fill=\"#383838\" height=\"12\" style=\"stroke: #F8F8F8; stroke-width: 1.5;\" width=\"12\" x=\"256\" y=\"49\"/><text fill=\"#000000\" font-family=\"sans-serif\" font-size=\"14\" lengthAdjust=\"spacingAndGlyphs\" textLength=\"44\" x=\"287\" y=\"33.6982\">porig1</text><rect fill=\"#383838\" height=\"12\" style=\"stroke: #F8F8F8; stroke-width: 1.5;\" width=\"12\" x=\"303\" y=\"49\"/><text fill=\"#000000\" font-family=\"sans-serif\" font-size=\"14\" lengthAdjust=\"spacingAndGlyphs\" textLength=\"27\" x=\"143.5\" y=\"73.1982\">po1</text><rect fill=\"#383838\" height=\"12\" style=\"stroke: #F8F8F8; stroke-width: 1.5;\" width=\"12\" x=\"151\" y=\"88.5\"/><text fill=\"#000000\" font-family=\"sans-serif\" font-size=\"14\" lengthAdjust=\"spacingAndGlyphs\" textLength=\"40\" x=\"51\" y=\"33.6982\">pdest</text><rect fill=\"#383838\" height=\"12\" style=\"stroke: #F8F8F8; stroke-width: 1.5;\" width=\"12\" x=\"65\" y=\"49\"/><text fill=\"#000000\" font-family=\"sans-serif\" font-size=\"14\" lengthAdjust=\"spacingAndGlyphs\" textLength=\"40\" x=\"98\" y=\"33.6982\">pdest</text><rect fill=\"#383838\" height=\"12\" style=\"stroke: #F8F8F8; stroke-width: 1.5;\" width=\"12\" x=\"112\" y=\"49\"/><!--MD5=[60ac2c0cde89d4308155b0484e57a8ec]\n",
       "link E9 to E6--><a href=\"psysml:32f11bb0-f29d-43a1-aa99-c5cb95a5777d\" target=\"_top\" title=\"psysml:32f11bb0-f29d-43a1-aa99-c5cb95a5777d\" xlink:actuate=\"onRequest\" xlink:href=\"psysml:32f11bb0-f29d-43a1-aa99-c5cb95a5777d\" xlink:show=\"new\" xlink:title=\"psysml:32f11bb0-f29d-43a1-aa99-c5cb95a5777d\" xlink:type=\"simple\"><path d=\"M121.88,61.25 C121.88,72.5 121.88,95 121.88,95 C121.88,95 140.82,95 150.88,95 \" fill=\"none\" id=\"E9-E6\" style=\"stroke: #383838; stroke-width: 3.0;\"/></a><!--MD5=[60ac2c0cde89d4308155b0484e57a8ec]\n",
       "link E9 to E6--><a href=\"psysml:e24ce1f4-3e8e-4ff6-8278-f74c062e3ad6\" target=\"_top\" title=\"psysml:e24ce1f4-3e8e-4ff6-8278-f74c062e3ad6\" xlink:actuate=\"onRequest\" xlink:href=\"psysml:e24ce1f4-3e8e-4ff6-8278-f74c062e3ad6\" xlink:show=\"new\" xlink:title=\"psysml:e24ce1f4-3e8e-4ff6-8278-f74c062e3ad6\" xlink:type=\"simple\"><path d=\"M119.75,61.34 C119.75,73.31 119.75,98 119.75,98 C119.75,98 140.27,98 150.85,98 \" fill=\"none\" id=\"E9-E6-1\" style=\"stroke: #383838; stroke-width: 3.0;\"/></a><!--MD5=[13a420811da8a2dffe98cac68553eb79]\n",
       "@startuml\r\n",
       "skinparam ranksep 8\r\n",
       "skinparam rectangle {\r\n",
       " backgroundColor<<block>> LightGreen\r\n",
       "}\r\n",
       "skinparam linetype ortho\r\n",
       "skinparam monochrome true\r\n",
       "skinparam classbackgroundcolor white\r\n",
       "skinparam shadowing false\r\n",
       "skinparam wrapWidth 300\r\n",
       "hide circle\r\n",
       "\r\n",
       "package \"AliasTest\" as E1  [[psysml:d6640503-c03f-477e-b125-432046bb93b4 ]]  {\r\n",
       "rec def \"P1\" as E2  <<(T,blue)part def>> [[psysml:4a06ff05-02b9-4148-90d6-f5221b7c40f0 ]] {\r\n",
       "portin \"porig1\" as E3  <<(T,blue)port>> [[psysml:2b77977e-0e87-40fa-bfcc-86d3bbd61ac4 ]] \r\n",
       "portin \"porig1\" as E4  <<(T,blue)port>> [[psysml:2b77977e-0e87-40fa-bfcc-86d3bbd61ac4 ]] \r\n",
       "}\r\n",
       "rec usage \"p1: P1\" as E5  [[psysml:9ecf2706-3ec0-4307-8293-70ef42ab2608 ]] {\r\n",
       "portin \"po1\" as E6  <<(T,blue)port>> [[psysml:040fe1ca-6ed4-4b89-a2be-3a2910b81d71 ]] \r\n",
       "}\r\n",
       "rec usage \"p2: P1\" as E7  [[psysml:28be41ac-7d51-495b-a80e-46db5ea96230 ]] {\r\n",
       "portin \"pdest\" as E8  <<(T,blue)port>> [[psysml:35e7e96c-66ea-4900-a048-bf88e7083b58 ]] \r\n",
       "portin \"pdest\" as E9  <<(T,blue)port>> [[psysml:35e7e96c-66ea-4900-a048-bf88e7083b58 ]] \r\n",
       "}\r\n",
       "E9 -[thickness=3]- E6 [[psysml:32f11bb0-f29d-43a1-aa99-c5cb95a5777d ]] \r\n",
       "E9 -[thickness=3]- E6 [[psysml:e24ce1f4-3e8e-4ff6-8278-f74c062e3ad6 ]] \r\n",
       "}\r\n",
       "@enduml\r\n",
       "\n",
       "PlantUML version 1.2020.13(Sat Jun 13 12:26:38 UTC 2020)\n",
       "(EPL source distribution)\n",
       "Java Runtime: OpenJDK Runtime Environment\n",
       "JVM: OpenJDK 64-Bit Server VM\n",
       "Default Encoding: UTF-8\n",
       "Language: en\n",
       "Country: null\n",
       "--></g></svg>"
      ]
     },
     "execution_count": 54,
     "metadata": {},
     "output_type": "execute_result"
    }
   ],
   "source": [
    "%viz --style=\"ORTHOLINE\" --view=\"Interconnection\" \"AliasTest\""
   ]
  },
  {
   "cell_type": "code",
   "execution_count": 55,
   "id": "original-harvard",
   "metadata": {
    "execution": {
     "iopub.execute_input": "2021-03-25T13:15:37.420137Z",
     "iopub.status.busy": "2021-03-25T13:15:37.419021Z",
     "iopub.status.idle": "2021-03-25T13:15:37.428284Z",
     "shell.execute_reply": "2021-03-25T13:15:37.427897Z"
    }
   },
   "outputs": [
    {
     "data": {
      "image/svg+xml": [
       "<?xml version=\"1.0\" encoding=\"UTF-8\" standalone=\"no\"?><svg xmlns=\"http://www.w3.org/2000/svg\" xmlns:xlink=\"http://www.w3.org/1999/xlink\" contentScriptType=\"application/ecmascript\" contentStyleType=\"text/css\" height=\"12px\" preserveAspectRatio=\"none\" style=\"width:12px;height:12px;\" version=\"1.1\" viewBox=\"0 0 12 12\" width=\"12px\" zoomAndPan=\"magnify\"><defs/><g><!--MD5=[72934c63077099a26744516a776b4749]\n",
       "@startuml\r\n",
       "skinparam ranksep 8\r\n",
       "skinparam linetype ortho\r\n",
       "skinparam monochrome true\r\n",
       "skinparam classbackgroundcolor white\r\n",
       "skinparam shadowing false\r\n",
       "skinparam wrapWidth 300\r\n",
       "hide circle\r\n",
       "\r\n",
       "@enduml\r\n",
       "\n",
       "PlantUML version 1.2020.13(Sat Jun 13 12:26:38 UTC 2020)\n",
       "(EPL source distribution)\n",
       "Java Runtime: OpenJDK Runtime Environment\n",
       "JVM: OpenJDK 64-Bit Server VM\n",
       "Default Encoding: UTF-8\n",
       "Language: en\n",
       "Country: null\n",
       "--></g></svg>"
      ]
     },
     "execution_count": 55,
     "metadata": {},
     "output_type": "execute_result"
    }
   ],
   "source": [
    "%viz --style=\"ORTHOLINE\" --view=\"Action\" \"AliasTest\""
   ]
  },
  {
   "cell_type": "code",
   "execution_count": 56,
   "id": "acknowledged-antarctica",
   "metadata": {
    "execution": {
     "iopub.execute_input": "2021-03-25T13:15:37.479040Z",
     "iopub.status.busy": "2021-03-25T13:15:37.478223Z",
     "iopub.status.idle": "2021-03-25T13:15:38.404739Z",
     "shell.execute_reply": "2021-03-25T13:15:38.404056Z"
    }
   },
   "outputs": [
    {
     "data": {
      "image/svg+xml": [
       "<?xml version=\"1.0\" encoding=\"UTF-8\" standalone=\"no\"?><svg xmlns=\"http://www.w3.org/2000/svg\" xmlns:xlink=\"http://www.w3.org/1999/xlink\" contentScriptType=\"application/ecmascript\" contentStyleType=\"text/css\" height=\"293px\" preserveAspectRatio=\"none\" style=\"width:285px;height:293px;\" version=\"1.1\" viewBox=\"0 0 285 293\" width=\"285px\" zoomAndPan=\"magnify\"><defs/><g><!--MD5=[fbc87193dbaf4d95561dea2c320d4a47]\n",
       "cluster E1--><a href=\"psysml:d6640503-c03f-477e-b125-432046bb93b4\" target=\"_top\" title=\"psysml:d6640503-c03f-477e-b125-432046bb93b4\" xlink:actuate=\"onRequest\" xlink:href=\"psysml:d6640503-c03f-477e-b125-432046bb93b4\" xlink:show=\"new\" xlink:title=\"psysml:d6640503-c03f-477e-b125-432046bb93b4\" xlink:type=\"simple\"><polygon fill=\"#FFFFFF\" points=\"16,6,94,6,101,28.2969,263,28.2969,263,281,16,281,16,6\" style=\"stroke: #000000; stroke-width: 1.5;\"/><line style=\"stroke: #000000; stroke-width: 1.5;\" x1=\"16\" x2=\"101\" y1=\"28.2969\" y2=\"28.2969\"/><text fill=\"#000000\" font-family=\"sans-serif\" font-size=\"14\" font-weight=\"bold\" lengthAdjust=\"spacingAndGlyphs\" textLength=\"72\" x=\"20\" y=\"20.9951\">AliasTest</text></a><!--MD5=[b4997ac47864f28c2f74865a473b2911]\n",
       "class E2--><a href=\"psysml:4a06ff05-02b9-4148-90d6-f5221b7c40f0\" target=\"_top\" title=\"psysml:4a06ff05-02b9-4148-90d6-f5221b7c40f0\" xlink:actuate=\"onRequest\" xlink:href=\"psysml:4a06ff05-02b9-4148-90d6-f5221b7c40f0\" xlink:show=\"new\" xlink:title=\"psysml:4a06ff05-02b9-4148-90d6-f5221b7c40f0\" xlink:type=\"simple\"><rect fill=\"#FFFFFF\" height=\"75.5469\" id=\"E2\" style=\"stroke: #383838; stroke-width: 1.5;\" width=\"92\" x=\"93\" y=\"189\"/><text fill=\"#000000\" font-family=\"sans-serif\" font-size=\"12\" font-style=\"italic\" lengthAdjust=\"spacingAndGlyphs\" textLength=\"64\" x=\"107\" y=\"205.1387\">«part def»</text><text fill=\"#000000\" font-family=\"sans-serif\" font-size=\"12\" lengthAdjust=\"spacingAndGlyphs\" textLength=\"16\" x=\"131\" y=\"219.1074\">P1</text><line style=\"stroke: #383838; stroke-width: 1.5;\" x1=\"94\" x2=\"184\" y1=\"226.9375\" y2=\"226.9375\"/><text fill=\"#000000\" font-family=\"sans-serif\" font-size=\"11\" lengthAdjust=\"spacingAndGlyphs\" textLength=\"36\" x=\"99\" y=\"257.9526\">porig1</text><text fill=\"#000000\" font-family=\"sans-serif\" font-size=\"11\" font-weight=\"bold\" lengthAdjust=\"spacingAndGlyphs\" textLength=\"15\" x=\"139\" y=\"257.9526\">as</text><text fill=\"#000000\" font-family=\"sans-serif\" font-size=\"11\" lengthAdjust=\"spacingAndGlyphs\" textLength=\"21\" x=\"158\" y=\"257.9526\">po1</text><line style=\"stroke: #383838; stroke-width: 1.0;\" x1=\"94\" x2=\"124\" y1=\"241.3398\" y2=\"241.3398\"/><text fill=\"#000000\" font-family=\"sans-serif\" font-size=\"11\" lengthAdjust=\"spacingAndGlyphs\" textLength=\"30\" x=\"124\" y=\"244.6479\">ports</text><line style=\"stroke: #383838; stroke-width: 1.0;\" x1=\"154\" x2=\"184\" y1=\"241.3398\" y2=\"241.3398\"/></a><!--MD5=[ebbe1d658d1005bcc118a6aa81145e00]\n",
       "class E4--><a href=\"psysml:9ecf2706-3ec0-4307-8293-70ef42ab2608\" target=\"_top\" title=\"psysml:9ecf2706-3ec0-4307-8293-70ef42ab2608\" xlink:actuate=\"onRequest\" xlink:href=\"psysml:9ecf2706-3ec0-4307-8293-70ef42ab2608\" xlink:show=\"new\" xlink:title=\"psysml:9ecf2706-3ec0-4307-8293-70ef42ab2608\" xlink:type=\"simple\"><rect fill=\"#FFFFFF\" height=\"88.3516\" id=\"E4\" rx=\"10\" ry=\"10\" style=\"stroke: #383838; stroke-width: 1.5;\" width=\"92\" x=\"155\" y=\"41\"/><text fill=\"#000000\" font-family=\"sans-serif\" font-size=\"12\" font-style=\"italic\" lengthAdjust=\"spacingAndGlyphs\" textLength=\"40\" x=\"181\" y=\"57.1387\">«part»</text><text fill=\"#000000\" font-family=\"sans-serif\" font-size=\"12\" lengthAdjust=\"spacingAndGlyphs\" textLength=\"40\" x=\"181\" y=\"71.1074\">p1: P1</text><line style=\"stroke: #383838; stroke-width: 1.5;\" x1=\"156\" x2=\"246\" y1=\"78.9375\" y2=\"78.9375\"/><text fill=\"#000000\" font-family=\"sans-serif\" font-size=\"11\" lengthAdjust=\"spacingAndGlyphs\" textLength=\"21\" x=\"161\" y=\"109.9526\">po1</text><text fill=\"#000000\" font-family=\"sans-serif\" font-size=\"11\" font-style=\"italic\" lengthAdjust=\"spacingAndGlyphs\" textLength=\"80\" x=\"161\" y=\"122.7573\">:&gt;&gt;P1::porig1</text><line style=\"stroke: #383838; stroke-width: 1.0;\" x1=\"156\" x2=\"186\" y1=\"93.3398\" y2=\"93.3398\"/><text fill=\"#000000\" font-family=\"sans-serif\" font-size=\"11\" lengthAdjust=\"spacingAndGlyphs\" textLength=\"30\" x=\"186\" y=\"96.6479\">ports</text><line style=\"stroke: #383838; stroke-width: 1.0;\" x1=\"216\" x2=\"246\" y1=\"93.3398\" y2=\"93.3398\"/></a><!--MD5=[60a26617385b1d2d0262a64233df1f8d]\n",
       "class E6--><a href=\"psysml:28be41ac-7d51-495b-a80e-46db5ea96230\" target=\"_top\" title=\"psysml:28be41ac-7d51-495b-a80e-46db5ea96230\" xlink:actuate=\"onRequest\" xlink:href=\"psysml:28be41ac-7d51-495b-a80e-46db5ea96230\" xlink:show=\"new\" xlink:title=\"psysml:28be41ac-7d51-495b-a80e-46db5ea96230\" xlink:type=\"simple\"><rect fill=\"#FFFFFF\" height=\"75.5469\" id=\"E6\" rx=\"10\" ry=\"10\" style=\"stroke: #383838; stroke-width: 1.5;\" width=\"88\" x=\"32\" y=\"47\"/><text fill=\"#000000\" font-family=\"sans-serif\" font-size=\"12\" font-style=\"italic\" lengthAdjust=\"spacingAndGlyphs\" textLength=\"40\" x=\"56\" y=\"63.1387\">«part»</text><text fill=\"#000000\" font-family=\"sans-serif\" font-size=\"12\" lengthAdjust=\"spacingAndGlyphs\" textLength=\"40\" x=\"56\" y=\"77.1074\">p2: P1</text><line style=\"stroke: #383838; stroke-width: 1.5;\" x1=\"33\" x2=\"119\" y1=\"84.9375\" y2=\"84.9375\"/><text fill=\"#000000\" font-family=\"sans-serif\" font-size=\"11\" lengthAdjust=\"spacingAndGlyphs\" textLength=\"32\" x=\"38\" y=\"115.9526\">pdest</text><text fill=\"#000000\" font-family=\"sans-serif\" font-size=\"11\" font-weight=\"bold\" lengthAdjust=\"spacingAndGlyphs\" textLength=\"15\" x=\"74\" y=\"115.9526\">as</text><text fill=\"#000000\" font-family=\"sans-serif\" font-size=\"11\" lengthAdjust=\"spacingAndGlyphs\" textLength=\"21\" x=\"93\" y=\"115.9526\">pd1</text><line style=\"stroke: #383838; stroke-width: 1.0;\" x1=\"33\" x2=\"61\" y1=\"99.3398\" y2=\"99.3398\"/><text fill=\"#000000\" font-family=\"sans-serif\" font-size=\"11\" lengthAdjust=\"spacingAndGlyphs\" textLength=\"30\" x=\"61\" y=\"102.6479\">ports</text><line style=\"stroke: #383838; stroke-width: 1.0;\" x1=\"91\" x2=\"119\" y1=\"99.3398\" y2=\"99.3398\"/></a><!--MD5=[185131fc0dcab0a4505a2ebe144e961b]\n",
       "link E4 to E2--><a href=\"psysml:8ce18664-e29b-46f0-97c0-4b398d523e7c\" target=\"_top\" title=\"psysml:8ce18664-e29b-46f0-97c0-4b398d523e7c\" xlink:actuate=\"onRequest\" xlink:href=\"psysml:8ce18664-e29b-46f0-97c0-4b398d523e7c\" xlink:show=\"new\" xlink:title=\"psysml:8ce18664-e29b-46f0-97c0-4b398d523e7c\" xlink:type=\"simple\"><path d=\"M170,129.15 C170,129.15 170,168.63 170,168.63 \" fill=\"none\" id=\"E4-&gt;E2\" style=\"stroke: #383838; stroke-width: 1.0;\"/><polygon fill=\"#FFFFFF\" points=\"170,188.63,163,169.63,177,169.63,170,188.63\" style=\"stroke: #383838; stroke-width: 1.0;\"/><ellipse cx=\"165\" cy=\"163.93\" fill=\"#383838\" rx=\"2\" ry=\"2\" style=\"stroke: #383838; stroke-width: 1.0;\"/><ellipse cx=\"175\" cy=\"163.93\" fill=\"#383838\" rx=\"2\" ry=\"2\" style=\"stroke: #383838; stroke-width: 1.0;\"/></a><!--MD5=[2351f337d6de0f557b50152ba70847b5]\n",
       "link E6 to E2--><a href=\"psysml:aea9633f-bca5-4d9c-866d-d7db5d7aa3e2\" target=\"_top\" title=\"psysml:aea9633f-bca5-4d9c-866d-d7db5d7aa3e2\" xlink:actuate=\"onRequest\" xlink:href=\"psysml:aea9633f-bca5-4d9c-866d-d7db5d7aa3e2\" xlink:show=\"new\" xlink:title=\"psysml:aea9633f-bca5-4d9c-866d-d7db5d7aa3e2\" xlink:type=\"simple\"><path d=\"M106.5,123.05 C106.5,123.05 106.5,168.84 106.5,168.84 \" fill=\"none\" id=\"E6-&gt;E2\" style=\"stroke: #383838; stroke-width: 1.0;\"/><polygon fill=\"#FFFFFF\" points=\"106.5,188.84,99.5,169.84,113.5,169.84,106.5,188.84\" style=\"stroke: #383838; stroke-width: 1.0;\"/><ellipse cx=\"101.5\" cy=\"164.14\" fill=\"#383838\" rx=\"2\" ry=\"2\" style=\"stroke: #383838; stroke-width: 1.0;\"/><ellipse cx=\"111.5\" cy=\"164.14\" fill=\"#383838\" rx=\"2\" ry=\"2\" style=\"stroke: #383838; stroke-width: 1.0;\"/></a><!--MD5=[99fd9b82da4a251b751cde33d0f7c92b]\n",
       "@startuml\r\n",
       "skinparam linetype ortho\r\n",
       "skinparam monochrome true\r\n",
       "skinparam classbackgroundcolor white\r\n",
       "skinparam shadowing false\r\n",
       "skinparam wrapWidth 300\r\n",
       "hide circle\r\n",
       "\r\n",
       "package \"AliasTest\" as E1  [[psysml:d6640503-c03f-477e-b125-432046bb93b4 ]]  {\r\n",
       "comp def \"P1\" as E2  <<(T,blue)part def>> [[psysml:4a06ff05-02b9-4148-90d6-f5221b7c40f0 ]] {\r\n",
       "- - ports - -\r\n",
       "porig1 <b>as</b> po1 \r\n",
       "}\r\n",
       "comp usage \"p1: P1\" as E4  <<(T,blue)part>> [[psysml:9ecf2706-3ec0-4307-8293-70ef42ab2608 ]] {\r\n",
       "- - ports - -\r\n",
       "po1\\n//:>>P1::porig1// \r\n",
       "}\r\n",
       "comp usage \"p2: P1\" as E6  <<(T,blue)part>> [[psysml:28be41ac-7d51-495b-a80e-46db5ea96230 ]] {\r\n",
       "- - ports - -\r\n",
       "pdest <b>as</b> pd1 \r\n",
       "}\r\n",
       "E4 - -:|> E2 [[psysml:8ce18664-e29b-46f0-97c0-4b398d523e7c ]] \r\n",
       "E6 - -:|> E2 [[psysml:aea9633f-bca5-4d9c-866d-d7db5d7aa3e2 ]] \r\n",
       "}\r\n",
       "@enduml\r\n",
       "\n",
       "PlantUML version 1.2020.13(Sat Jun 13 12:26:38 UTC 2020)\n",
       "(EPL source distribution)\n",
       "Java Runtime: OpenJDK Runtime Environment\n",
       "JVM: OpenJDK 64-Bit Server VM\n",
       "Default Encoding: UTF-8\n",
       "Language: en\n",
       "Country: null\n",
       "--></g></svg>"
      ]
     },
     "execution_count": 56,
     "metadata": {},
     "output_type": "execute_result"
    }
   ],
   "source": [
    "%viz --style=\"ORTHOLINE\" --view=\"Sequence\" \"AliasTest\""
   ]
  },
  {
   "cell_type": "code",
   "execution_count": 57,
   "id": "strategic-poison",
   "metadata": {
    "execution": {
     "iopub.execute_input": "2021-03-25T13:15:38.455845Z",
     "iopub.status.busy": "2021-03-25T13:15:38.455218Z",
     "iopub.status.idle": "2021-03-25T13:15:39.349592Z",
     "shell.execute_reply": "2021-03-25T13:15:39.347043Z"
    }
   },
   "outputs": [
    {
     "data": {
      "image/svg+xml": [
       "<?xml version=\"1.0\" encoding=\"UTF-8\" standalone=\"no\"?><svg xmlns=\"http://www.w3.org/2000/svg\" xmlns:xlink=\"http://www.w3.org/1999/xlink\" contentScriptType=\"application/ecmascript\" contentStyleType=\"text/css\" height=\"293px\" preserveAspectRatio=\"none\" style=\"width:285px;height:293px;\" version=\"1.1\" viewBox=\"0 0 285 293\" width=\"285px\" zoomAndPan=\"magnify\"><defs/><g><!--MD5=[fbc87193dbaf4d95561dea2c320d4a47]\n",
       "cluster E1--><a href=\"psysml:d6640503-c03f-477e-b125-432046bb93b4\" target=\"_top\" title=\"psysml:d6640503-c03f-477e-b125-432046bb93b4\" xlink:actuate=\"onRequest\" xlink:href=\"psysml:d6640503-c03f-477e-b125-432046bb93b4\" xlink:show=\"new\" xlink:title=\"psysml:d6640503-c03f-477e-b125-432046bb93b4\" xlink:type=\"simple\"><polygon fill=\"#FFFFFF\" points=\"16,6,94,6,101,28.2969,263,28.2969,263,281,16,281,16,6\" style=\"stroke: #000000; stroke-width: 1.5;\"/><line style=\"stroke: #000000; stroke-width: 1.5;\" x1=\"16\" x2=\"101\" y1=\"28.2969\" y2=\"28.2969\"/><text fill=\"#000000\" font-family=\"sans-serif\" font-size=\"14\" font-weight=\"bold\" lengthAdjust=\"spacingAndGlyphs\" textLength=\"72\" x=\"20\" y=\"20.9951\">AliasTest</text></a><!--MD5=[b4997ac47864f28c2f74865a473b2911]\n",
       "class E2--><a href=\"psysml:4a06ff05-02b9-4148-90d6-f5221b7c40f0\" target=\"_top\" title=\"psysml:4a06ff05-02b9-4148-90d6-f5221b7c40f0\" xlink:actuate=\"onRequest\" xlink:href=\"psysml:4a06ff05-02b9-4148-90d6-f5221b7c40f0\" xlink:show=\"new\" xlink:title=\"psysml:4a06ff05-02b9-4148-90d6-f5221b7c40f0\" xlink:type=\"simple\"><rect fill=\"#FFFFFF\" height=\"75.5469\" id=\"E2\" style=\"stroke: #383838; stroke-width: 1.5;\" width=\"92\" x=\"93\" y=\"189\"/><text fill=\"#000000\" font-family=\"sans-serif\" font-size=\"12\" font-style=\"italic\" lengthAdjust=\"spacingAndGlyphs\" textLength=\"64\" x=\"107\" y=\"205.1387\">«part def»</text><text fill=\"#000000\" font-family=\"sans-serif\" font-size=\"12\" lengthAdjust=\"spacingAndGlyphs\" textLength=\"16\" x=\"131\" y=\"219.1074\">P1</text><line style=\"stroke: #383838; stroke-width: 1.5;\" x1=\"94\" x2=\"184\" y1=\"226.9375\" y2=\"226.9375\"/><text fill=\"#000000\" font-family=\"sans-serif\" font-size=\"11\" lengthAdjust=\"spacingAndGlyphs\" textLength=\"36\" x=\"99\" y=\"257.9526\">porig1</text><text fill=\"#000000\" font-family=\"sans-serif\" font-size=\"11\" font-weight=\"bold\" lengthAdjust=\"spacingAndGlyphs\" textLength=\"15\" x=\"139\" y=\"257.9526\">as</text><text fill=\"#000000\" font-family=\"sans-serif\" font-size=\"11\" lengthAdjust=\"spacingAndGlyphs\" textLength=\"21\" x=\"158\" y=\"257.9526\">po1</text><line style=\"stroke: #383838; stroke-width: 1.0;\" x1=\"94\" x2=\"124\" y1=\"241.3398\" y2=\"241.3398\"/><text fill=\"#000000\" font-family=\"sans-serif\" font-size=\"11\" lengthAdjust=\"spacingAndGlyphs\" textLength=\"30\" x=\"124\" y=\"244.6479\">ports</text><line style=\"stroke: #383838; stroke-width: 1.0;\" x1=\"154\" x2=\"184\" y1=\"241.3398\" y2=\"241.3398\"/></a><!--MD5=[ebbe1d658d1005bcc118a6aa81145e00]\n",
       "class E4--><a href=\"psysml:9ecf2706-3ec0-4307-8293-70ef42ab2608\" target=\"_top\" title=\"psysml:9ecf2706-3ec0-4307-8293-70ef42ab2608\" xlink:actuate=\"onRequest\" xlink:href=\"psysml:9ecf2706-3ec0-4307-8293-70ef42ab2608\" xlink:show=\"new\" xlink:title=\"psysml:9ecf2706-3ec0-4307-8293-70ef42ab2608\" xlink:type=\"simple\"><rect fill=\"#FFFFFF\" height=\"88.3516\" id=\"E4\" rx=\"10\" ry=\"10\" style=\"stroke: #383838; stroke-width: 1.5;\" width=\"92\" x=\"155\" y=\"41\"/><text fill=\"#000000\" font-family=\"sans-serif\" font-size=\"12\" font-style=\"italic\" lengthAdjust=\"spacingAndGlyphs\" textLength=\"40\" x=\"181\" y=\"57.1387\">«part»</text><text fill=\"#000000\" font-family=\"sans-serif\" font-size=\"12\" lengthAdjust=\"spacingAndGlyphs\" textLength=\"40\" x=\"181\" y=\"71.1074\">p1: P1</text><line style=\"stroke: #383838; stroke-width: 1.5;\" x1=\"156\" x2=\"246\" y1=\"78.9375\" y2=\"78.9375\"/><text fill=\"#000000\" font-family=\"sans-serif\" font-size=\"11\" lengthAdjust=\"spacingAndGlyphs\" textLength=\"21\" x=\"161\" y=\"109.9526\">po1</text><text fill=\"#000000\" font-family=\"sans-serif\" font-size=\"11\" font-style=\"italic\" lengthAdjust=\"spacingAndGlyphs\" textLength=\"80\" x=\"161\" y=\"122.7573\">:&gt;&gt;P1::porig1</text><line style=\"stroke: #383838; stroke-width: 1.0;\" x1=\"156\" x2=\"186\" y1=\"93.3398\" y2=\"93.3398\"/><text fill=\"#000000\" font-family=\"sans-serif\" font-size=\"11\" lengthAdjust=\"spacingAndGlyphs\" textLength=\"30\" x=\"186\" y=\"96.6479\">ports</text><line style=\"stroke: #383838; stroke-width: 1.0;\" x1=\"216\" x2=\"246\" y1=\"93.3398\" y2=\"93.3398\"/></a><!--MD5=[60a26617385b1d2d0262a64233df1f8d]\n",
       "class E6--><a href=\"psysml:28be41ac-7d51-495b-a80e-46db5ea96230\" target=\"_top\" title=\"psysml:28be41ac-7d51-495b-a80e-46db5ea96230\" xlink:actuate=\"onRequest\" xlink:href=\"psysml:28be41ac-7d51-495b-a80e-46db5ea96230\" xlink:show=\"new\" xlink:title=\"psysml:28be41ac-7d51-495b-a80e-46db5ea96230\" xlink:type=\"simple\"><rect fill=\"#FFFFFF\" height=\"75.5469\" id=\"E6\" rx=\"10\" ry=\"10\" style=\"stroke: #383838; stroke-width: 1.5;\" width=\"88\" x=\"32\" y=\"47\"/><text fill=\"#000000\" font-family=\"sans-serif\" font-size=\"12\" font-style=\"italic\" lengthAdjust=\"spacingAndGlyphs\" textLength=\"40\" x=\"56\" y=\"63.1387\">«part»</text><text fill=\"#000000\" font-family=\"sans-serif\" font-size=\"12\" lengthAdjust=\"spacingAndGlyphs\" textLength=\"40\" x=\"56\" y=\"77.1074\">p2: P1</text><line style=\"stroke: #383838; stroke-width: 1.5;\" x1=\"33\" x2=\"119\" y1=\"84.9375\" y2=\"84.9375\"/><text fill=\"#000000\" font-family=\"sans-serif\" font-size=\"11\" lengthAdjust=\"spacingAndGlyphs\" textLength=\"32\" x=\"38\" y=\"115.9526\">pdest</text><text fill=\"#000000\" font-family=\"sans-serif\" font-size=\"11\" font-weight=\"bold\" lengthAdjust=\"spacingAndGlyphs\" textLength=\"15\" x=\"74\" y=\"115.9526\">as</text><text fill=\"#000000\" font-family=\"sans-serif\" font-size=\"11\" lengthAdjust=\"spacingAndGlyphs\" textLength=\"21\" x=\"93\" y=\"115.9526\">pd1</text><line style=\"stroke: #383838; stroke-width: 1.0;\" x1=\"33\" x2=\"61\" y1=\"99.3398\" y2=\"99.3398\"/><text fill=\"#000000\" font-family=\"sans-serif\" font-size=\"11\" lengthAdjust=\"spacingAndGlyphs\" textLength=\"30\" x=\"61\" y=\"102.6479\">ports</text><line style=\"stroke: #383838; stroke-width: 1.0;\" x1=\"91\" x2=\"119\" y1=\"99.3398\" y2=\"99.3398\"/></a><!--MD5=[185131fc0dcab0a4505a2ebe144e961b]\n",
       "link E4 to E2--><a href=\"psysml:8ce18664-e29b-46f0-97c0-4b398d523e7c\" target=\"_top\" title=\"psysml:8ce18664-e29b-46f0-97c0-4b398d523e7c\" xlink:actuate=\"onRequest\" xlink:href=\"psysml:8ce18664-e29b-46f0-97c0-4b398d523e7c\" xlink:show=\"new\" xlink:title=\"psysml:8ce18664-e29b-46f0-97c0-4b398d523e7c\" xlink:type=\"simple\"><path d=\"M170,129.15 C170,129.15 170,168.63 170,168.63 \" fill=\"none\" id=\"E4-&gt;E2\" style=\"stroke: #383838; stroke-width: 1.0;\"/><polygon fill=\"#FFFFFF\" points=\"170,188.63,163,169.63,177,169.63,170,188.63\" style=\"stroke: #383838; stroke-width: 1.0;\"/><ellipse cx=\"165\" cy=\"163.93\" fill=\"#383838\" rx=\"2\" ry=\"2\" style=\"stroke: #383838; stroke-width: 1.0;\"/><ellipse cx=\"175\" cy=\"163.93\" fill=\"#383838\" rx=\"2\" ry=\"2\" style=\"stroke: #383838; stroke-width: 1.0;\"/></a><!--MD5=[2351f337d6de0f557b50152ba70847b5]\n",
       "link E6 to E2--><a href=\"psysml:aea9633f-bca5-4d9c-866d-d7db5d7aa3e2\" target=\"_top\" title=\"psysml:aea9633f-bca5-4d9c-866d-d7db5d7aa3e2\" xlink:actuate=\"onRequest\" xlink:href=\"psysml:aea9633f-bca5-4d9c-866d-d7db5d7aa3e2\" xlink:show=\"new\" xlink:title=\"psysml:aea9633f-bca5-4d9c-866d-d7db5d7aa3e2\" xlink:type=\"simple\"><path d=\"M106.5,123.05 C106.5,123.05 106.5,168.84 106.5,168.84 \" fill=\"none\" id=\"E6-&gt;E2\" style=\"stroke: #383838; stroke-width: 1.0;\"/><polygon fill=\"#FFFFFF\" points=\"106.5,188.84,99.5,169.84,113.5,169.84,106.5,188.84\" style=\"stroke: #383838; stroke-width: 1.0;\"/><ellipse cx=\"101.5\" cy=\"164.14\" fill=\"#383838\" rx=\"2\" ry=\"2\" style=\"stroke: #383838; stroke-width: 1.0;\"/><ellipse cx=\"111.5\" cy=\"164.14\" fill=\"#383838\" rx=\"2\" ry=\"2\" style=\"stroke: #383838; stroke-width: 1.0;\"/></a><!--MD5=[99fd9b82da4a251b751cde33d0f7c92b]\n",
       "@startuml\r\n",
       "skinparam linetype ortho\r\n",
       "skinparam monochrome true\r\n",
       "skinparam classbackgroundcolor white\r\n",
       "skinparam shadowing false\r\n",
       "skinparam wrapWidth 300\r\n",
       "hide circle\r\n",
       "\r\n",
       "package \"AliasTest\" as E1  [[psysml:d6640503-c03f-477e-b125-432046bb93b4 ]]  {\r\n",
       "comp def \"P1\" as E2  <<(T,blue)part def>> [[psysml:4a06ff05-02b9-4148-90d6-f5221b7c40f0 ]] {\r\n",
       "- - ports - -\r\n",
       "porig1 <b>as</b> po1 \r\n",
       "}\r\n",
       "comp usage \"p1: P1\" as E4  <<(T,blue)part>> [[psysml:9ecf2706-3ec0-4307-8293-70ef42ab2608 ]] {\r\n",
       "- - ports - -\r\n",
       "po1\\n//:>>P1::porig1// \r\n",
       "}\r\n",
       "comp usage \"p2: P1\" as E6  <<(T,blue)part>> [[psysml:28be41ac-7d51-495b-a80e-46db5ea96230 ]] {\r\n",
       "- - ports - -\r\n",
       "pdest <b>as</b> pd1 \r\n",
       "}\r\n",
       "E4 - -:|> E2 [[psysml:8ce18664-e29b-46f0-97c0-4b398d523e7c ]] \r\n",
       "E6 - -:|> E2 [[psysml:aea9633f-bca5-4d9c-866d-d7db5d7aa3e2 ]] \r\n",
       "}\r\n",
       "@enduml\r\n",
       "\n",
       "PlantUML version 1.2020.13(Sat Jun 13 12:26:38 UTC 2020)\n",
       "(EPL source distribution)\n",
       "Java Runtime: OpenJDK Runtime Environment\n",
       "JVM: OpenJDK 64-Bit Server VM\n",
       "Default Encoding: UTF-8\n",
       "Language: en\n",
       "Country: null\n",
       "--></g></svg>"
      ]
     },
     "execution_count": 57,
     "metadata": {},
     "output_type": "execute_result"
    }
   ],
   "source": [
    "%viz --style=\"ORTHOLINE\" --view=\"MIXED\" \"AliasTest\""
   ]
  }
 ],
 "metadata": {
  "kernelspec": {
   "display_name": "SysML",
   "language": "sysml",
   "name": "sysml"
  },
  "language_info": {
   "codemirror_mode": "sysml",
   "file_extension": ".sysml",
   "mimetype": "text/x-sysml",
   "name": "SysML",
   "pygments_lexer": "java",
   "version": "1.0.0"
  }
 },
 "nbformat": 4,
 "nbformat_minor": 5
}
