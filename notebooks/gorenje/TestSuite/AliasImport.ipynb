{
 "cells": [
  {
   "cell_type": "markdown",
   "id": "d7b666b1",
   "metadata": {},
   "source": [
    "# SysML v2 Test Suite\n",
    "\n",
    "This can notebook can be cleared using menu `Edit --> Clear All Outputs` and then all cells can be\n",
    "run using menu `Run --> Run All Cells`.\n",
    "\n",
    "**WARNING**: This file is generated, all modifications here will be ignored.\n"
   ]
  },
  {
   "cell_type": "markdown",
   "id": "3bbc3d49",
   "metadata": {},
   "source": [
    "## File: ../../sysml/src/examples/Import Tests/AliasImport.sysml"
   ]
  },
  {
   "cell_type": "code",
   "execution_count": 1,
   "id": "722e52d6",
   "metadata": {
    "execution": {
     "iopub.execute_input": "2024-12-16T03:26:44.194385Z",
     "iopub.status.busy": "2024-12-16T03:26:44.192922Z",
     "iopub.status.idle": "2024-12-16T03:26:44.362593Z",
     "shell.execute_reply": "2024-12-16T03:26:44.362726Z"
    }
   },
   "outputs": [
    {
     "data": {
      "text/plain": [
       "Package AliasImport (ea09c962-e470-4bd3-bf79-0fd6d16116e6)\n"
      ]
     },
     "execution_count": 1,
     "metadata": {},
     "output_type": "execute_result"
    }
   ],
   "source": [
    "package AliasImport {\n",
    "\tpackage Definitions {\n",
    "\t    part def Vehicle;\n",
    "\t    \n",
    "\t    alias Car for Vehicle;\n",
    "\t}\n",
    "\t\n",
    "\tpackage Usages {\n",
    "\t    private import Definitions::Car;\n",
    "\t\n",
    "\t    part vehicle : Car;\n",
    "\t}\n",
    "}"
   ]
  },
  {
   "cell_type": "code",
   "execution_count": 2,
   "id": "feb95c11",
   "metadata": {
    "execution": {
     "iopub.execute_input": "2024-12-16T03:26:44.415415Z",
     "iopub.status.busy": "2024-12-16T03:26:44.415115Z",
     "iopub.status.idle": "2024-12-16T03:26:44.793833Z",
     "shell.execute_reply": "2024-12-16T03:26:44.793965Z"
    }
   },
   "outputs": [
    {
     "data": {
      "image/svg+xml": [
       "<?xml version=\"1.0\" encoding=\"UTF-8\" standalone=\"no\"?><svg xmlns=\"http://www.w3.org/2000/svg\" xmlns:xlink=\"http://www.w3.org/1999/xlink\" contentStyleType=\"text/css\" height=\"359px\" preserveAspectRatio=\"none\" style=\"width:288px;height:359px;background:#FFFFFF;\" version=\"1.1\" viewBox=\"0 0 288 359\" width=\"288px\" zoomAndPan=\"magnify\"><defs/><g><!--MD5=[fbc87193dbaf4d95561dea2c320d4a47]\n",
       "cluster E1--><g id=\"cluster_E1\"><a href=\"psysml:ea09c962-e470-4bd3-bf79-0fd6d16116e6\" target=\"_top\" title=\"psysml:ea09c962-e470-4bd3-bf79-0fd6d16116e6\" xlink:actuate=\"onRequest\" xlink:href=\"psysml:ea09c962-e470-4bd3-bf79-0fd6d16116e6\" xlink:show=\"new\" xlink:title=\"psysml:ea09c962-e470-4bd3-bf79-0fd6d16116e6\" xlink:type=\"simple\"><polygon fill=\"none\" points=\"16,6,101.8125,6,108.8125,28.2969,271,28.2969,271,352,16,352,16,6\" style=\"stroke:#000000;stroke-width:1.5;\"/><line style=\"stroke:#000000;stroke-width:1.5;\" x1=\"16\" x2=\"108.8125\" y1=\"28.2969\" y2=\"28.2969\"/><text fill=\"#000000\" font-family=\"sans-serif\" font-size=\"14\" font-weight=\"bold\" lengthAdjust=\"spacing\" textLength=\"79.8125\" x=\"20\" y=\"20.9951\">AliasImport</text></a></g><!--MD5=[e4f7fae6ed58524ba242bb0b0d3be6b7]\n",
       "cluster E2--><g id=\"cluster_E2\"><a href=\"psysml:4e11052e-d911-402f-9b8e-d22451a94e61\" target=\"_top\" title=\"psysml:4e11052e-d911-402f-9b8e-d22451a94e61\" xlink:actuate=\"onRequest\" xlink:href=\"psysml:4e11052e-d911-402f-9b8e-d22451a94e61\" xlink:show=\"new\" xlink:title=\"psysml:4e11052e-d911-402f-9b8e-d22451a94e61\" xlink:type=\"simple\"><polygon fill=\"none\" points=\"40,229,123.8125,229,130.8125,251.2969,247,251.2969,247,328,40,328,40,229\" style=\"stroke:#000000;stroke-width:1.5;\"/><line style=\"stroke:#000000;stroke-width:1.5;\" x1=\"40\" x2=\"130.8125\" y1=\"251.2969\" y2=\"251.2969\"/><text fill=\"#000000\" font-family=\"sans-serif\" font-size=\"14\" font-weight=\"bold\" lengthAdjust=\"spacing\" textLength=\"77.8125\" x=\"44\" y=\"243.9951\">Definitions</text></a></g><!--MD5=[de5ec2e2e8f62f467e546659f5068c88]\n",
       "cluster E5--><g id=\"cluster_E5\"><a href=\"psysml:665ec1bc-7429-419a-921f-0e5bfb2e86ee\" target=\"_top\" title=\"psysml:665ec1bc-7429-419a-921f-0e5bfb2e86ee\" xlink:actuate=\"onRequest\" xlink:href=\"psysml:665ec1bc-7429-419a-921f-0e5bfb2e86ee\" xlink:show=\"new\" xlink:title=\"psysml:665ec1bc-7429-419a-921f-0e5bfb2e86ee\" xlink:type=\"simple\"><polygon fill=\"none\" points=\"49,57,109.625,57,116.625,79.2969,238,79.2969,238,172,49,172,49,57\" style=\"stroke:#000000;stroke-width:1.5;\"/><line style=\"stroke:#000000;stroke-width:1.5;\" x1=\"49\" x2=\"116.625\" y1=\"79.2969\" y2=\"79.2969\"/><text fill=\"#000000\" font-family=\"sans-serif\" font-size=\"14\" font-weight=\"bold\" lengthAdjust=\"spacing\" textLength=\"54.625\" x=\"53\" y=\"71.9951\">Usages</text></a></g><!--MD5=[09b614a08d8cba4a07c9adeb5e0fee81]\n",
       "class E3--><a href=\"psysml:fbf2953e-726b-446c-805b-ce056d089132\" target=\"_top\" title=\"psysml:fbf2953e-726b-446c-805b-ce056d089132\" xlink:actuate=\"onRequest\" xlink:href=\"psysml:fbf2953e-726b-446c-805b-ce056d089132\" xlink:show=\"new\" xlink:title=\"psysml:fbf2953e-726b-446c-805b-ce056d089132\" xlink:type=\"simple\"><g id=\"elem_E3\"><rect fill=\"#FFFFFF\" height=\"48.2656\" id=\"E3\" style=\"stroke:#181818;stroke-width:0.5;\" width=\"70\" x=\"161\" y=\"264\"/><text fill=\"#000000\" font-family=\"sans-serif\" font-size=\"12\" font-style=\"italic\" lengthAdjust=\"spacing\" textLength=\"68\" x=\"162\" y=\"280.1387\">«part  def»</text><text fill=\"#000000\" font-family=\"sans-serif\" font-size=\"14\" lengthAdjust=\"spacing\" textLength=\"50\" x=\"171\" y=\"295.9639\">Vehicle</text><line style=\"stroke:#181818;stroke-width:0.5;\" x1=\"162\" x2=\"230\" y1=\"304.2656\" y2=\"304.2656\"/></g></a><!--MD5=[ebbe1d658d1005bcc118a6aa81145e00]\n",
       "class E4--><a href=\"psysml:fbf2953e-726b-446c-805b-ce056d089132\" target=\"_top\" title=\"psysml:fbf2953e-726b-446c-805b-ce056d089132\" xlink:actuate=\"onRequest\" xlink:href=\"psysml:fbf2953e-726b-446c-805b-ce056d089132\" xlink:show=\"new\" xlink:title=\"psysml:fbf2953e-726b-446c-805b-ce056d089132\" xlink:type=\"simple\"><g id=\"elem_E4\"><rect fill=\"#FFFFFF\" height=\"48.2656\" id=\"E4\" style=\"stroke:#181818;stroke-width:0.5;\" width=\"70\" x=\"56\" y=\"264\"/><text fill=\"#000000\" font-family=\"sans-serif\" font-size=\"12\" font-style=\"italic\" lengthAdjust=\"spacing\" textLength=\"68\" x=\"57\" y=\"280.1387\">«part  def»</text><text fill=\"#000000\" font-family=\"sans-serif\" font-size=\"14\" lengthAdjust=\"spacing\" textLength=\"50\" x=\"66\" y=\"295.9639\">Vehicle</text><line style=\"stroke:#181818;stroke-width:0.5;\" x1=\"57\" x2=\"125\" y1=\"304.2656\" y2=\"304.2656\"/></g></a><!--MD5=[60a26617385b1d2d0262a64233df1f8d]\n",
       "class E6--><a href=\"psysml:1df993ae-180d-40db-acc7-c592d2ed44d7\" target=\"_top\" title=\"psysml:1df993ae-180d-40db-acc7-c592d2ed44d7\" xlink:actuate=\"onRequest\" xlink:href=\"psysml:1df993ae-180d-40db-acc7-c592d2ed44d7\" xlink:show=\"new\" xlink:title=\"psysml:1df993ae-180d-40db-acc7-c592d2ed44d7\" xlink:type=\"simple\"><g id=\"elem_E6\"><rect fill=\"#FFFFFF\" height=\"48.2656\" id=\"E6\" rx=\"10\" ry=\"10\" style=\"stroke:#181818;stroke-width:0.5;\" width=\"121\" x=\"92.5\" y=\"100\"/><text fill=\"#000000\" font-family=\"sans-serif\" font-size=\"12\" font-style=\"italic\" lengthAdjust=\"spacing\" textLength=\"40\" x=\"133\" y=\"116.1387\">«part»</text><text fill=\"#000000\" font-family=\"sans-serif\" font-size=\"14\" lengthAdjust=\"spacing\" textLength=\"107\" x=\"95.5\" y=\"131.9639\">vehicle: Vehicle</text><line style=\"stroke:#181818;stroke-width:0.5;\" x1=\"93.5\" x2=\"212.5\" y1=\"140.2656\" y2=\"140.2656\"/></g></a><!--MD5=[1c62de2aa5b76f0fb657ff8443a1a700]\n",
       "link E5 to E4--><g id=\"link_E5_E4\"><a href=\"psysml:51954fa3-afe5-4e6a-ba60-ca054eed15e8\" target=\"_top\" title=\"psysml:51954fa3-afe5-4e6a-ba60-ca054eed15e8\" xlink:actuate=\"onRequest\" xlink:href=\"psysml:51954fa3-afe5-4e6a-ba60-ca054eed15e8\" xlink:show=\"new\" xlink:title=\"psysml:51954fa3-afe5-4e6a-ba60-ca054eed15e8\" xlink:type=\"simple\"><path d=\"M66.9503,172.4094 C67.038,172.8272 67.126,173.2465 67.2143,173.6672 C67.3909,174.5085 67.5687,175.3555 67.7475,176.2075 C73.47,203.4725 80.29,235.97 85.06,258.69 \" fill=\"none\" id=\"E5-to-E4\" style=\"stroke:#181818;stroke-width:1.0;stroke-dasharray:7.0,7.0;\"/><polygon fill=\"#181818\" points=\"86.12,263.77,88.1858,254.1402,85.0928,258.8766,80.3564,255.7837,86.12,263.77\" style=\"stroke:#181818;stroke-width:1.0;\"/><text fill=\"#000000\" font-family=\"sans-serif\" font-size=\"13\" lengthAdjust=\"spacing\" textLength=\"58\" x=\"76\" y=\"209.0669\">«import»</text></a></g><!--MD5=[f667431f98296947986a1a7595a31603]\n",
       "link E6 to E4--><g id=\"link_E6_E4\"><a href=\"psysml:bdaa5b20-7fbf-4739-8cf5-0e25c1337b74\" target=\"_top\" title=\"psysml:bdaa5b20-7fbf-4739-8cf5-0e25c1337b74\" xlink:actuate=\"onRequest\" xlink:href=\"psysml:bdaa5b20-7fbf-4739-8cf5-0e25c1337b74\" xlink:show=\"new\" xlink:title=\"psysml:bdaa5b20-7fbf-4739-8cf5-0e25c1337b74\" xlink:type=\"simple\"><path d=\"M153.08,148.14 C152.45,166.32 150,191.99 142,213 C137.39,225.1 130.41,237.14 123.08,247.87 \" fill=\"none\" id=\"E6-to-E4\" style=\"stroke:#181818;stroke-width:1.0;\"/><polygon fill=\"#FFFFFF\" points=\"111.17,264,116.8313,244.5591,128.091,252.8789,111.17,264\" style=\"stroke:#181818;stroke-width:1.0;\"/><ellipse cx=\"121.8272\" cy=\"241.1633\" fill=\"#181818\" rx=\"2\" ry=\"2\" style=\"stroke:#181818;stroke-width:1.0;\"/><ellipse cx=\"129.8698\" cy=\"247.106\" fill=\"#181818\" rx=\"2\" ry=\"2\" style=\"stroke:#181818;stroke-width:1.0;\"/></a></g><!--MD5=[a913b5e0f4148a79cf7a731c09cd7791]\n",
       "@startuml\r\n",
       "skin sysmlbw\r\n",
       "skinparam monochrome true\r\n",
       "skinparam wrapWidth 300\r\n",
       "hide circle\r\n",
       " \r\n",
       "package \"AliasImport\" as E1  [[psysml:ea09c962-e470-4bd3-bf79-0fd6d16116e6 ]]  {\r\n",
       "package \"Definitions\" as E2  [[psysml:4e11052e-d911-402f-9b8e-d22451a94e61 ]]  {\r\n",
       "comp def \"Vehicle\" as E3  <<(T,blue) part  def>> [[psysml:fbf2953e-726b-446c-805b-ce056d089132 ]] {\r\n",
       "}\r\n",
       "comp def \"Vehicle\" as E4  <<(T,blue) part  def>> [[psysml:fbf2953e-726b-446c-805b-ce056d089132 ]] {\r\n",
       "}\r\n",
       "}\r\n",
       "package \"Usages\" as E5  [[psysml:665ec1bc-7429-419a-921f-0e5bfb2e86ee ]]  {\r\n",
       "comp usage \"vehicle: Vehicle  \" as E6  <<(T,blue) part>> [[psysml:1df993ae-180d-40db-acc7-c592d2ed44d7 ]] {\r\n",
       "}\r\n",
       "}\r\n",
       "}\r\n",
       "E5 ..> E4 [[psysml:51954fa3-afe5-4e6a-ba60-ca054eed15e8 ]] : <<import>>\r\n",
       "E6 - -:|> E4 [[psysml:bdaa5b20-7fbf-4739-8cf5-0e25c1337b74 ]] \r\n",
       "@enduml\r\n",
       "\n",
       "PlantUML version 1.2022.7(Mon Aug 22 17:01:30 UTC 2022)\n",
       "(EPL source distribution)\n",
       "Java Runtime: OpenJDK Runtime Environment\n",
       "JVM: OpenJDK 64-Bit Server VM\n",
       "Default Encoding: UTF-8\n",
       "Language: en\n",
       "Country: null\n",
       "--></g></svg>"
      ]
     },
     "execution_count": 2,
     "metadata": {},
     "output_type": "execute_result"
    }
   ],
   "source": [
    "%viz --style=\"COMPTREE\" --view=\"Default\" \"AliasImport\""
   ]
  },
  {
   "cell_type": "code",
   "execution_count": 3,
   "id": "6587cf72",
   "metadata": {
    "execution": {
     "iopub.execute_input": "2024-12-16T03:26:44.847314Z",
     "iopub.status.busy": "2024-12-16T03:26:44.847094Z",
     "iopub.status.idle": "2024-12-16T03:26:44.884847Z",
     "shell.execute_reply": "2024-12-16T03:26:44.884676Z"
    }
   },
   "outputs": [
    {
     "data": {
      "image/svg+xml": [
       "<?xml version=\"1.0\" encoding=\"UTF-8\" standalone=\"no\"?><svg xmlns=\"http://www.w3.org/2000/svg\" xmlns:xlink=\"http://www.w3.org/1999/xlink\" contentStyleType=\"text/css\" height=\"359px\" preserveAspectRatio=\"none\" style=\"width:288px;height:359px;background:#FFFFFF;\" version=\"1.1\" viewBox=\"0 0 288 359\" width=\"288px\" zoomAndPan=\"magnify\"><defs/><g><!--MD5=[fbc87193dbaf4d95561dea2c320d4a47]\n",
       "cluster E1--><g id=\"cluster_E1\"><a href=\"psysml:ea09c962-e470-4bd3-bf79-0fd6d16116e6\" target=\"_top\" title=\"psysml:ea09c962-e470-4bd3-bf79-0fd6d16116e6\" xlink:actuate=\"onRequest\" xlink:href=\"psysml:ea09c962-e470-4bd3-bf79-0fd6d16116e6\" xlink:show=\"new\" xlink:title=\"psysml:ea09c962-e470-4bd3-bf79-0fd6d16116e6\" xlink:type=\"simple\"><polygon fill=\"none\" points=\"16,6,101.8125,6,108.8125,28.2969,271,28.2969,271,352,16,352,16,6\" style=\"stroke:#000000;stroke-width:1.5;\"/><line style=\"stroke:#000000;stroke-width:1.5;\" x1=\"16\" x2=\"108.8125\" y1=\"28.2969\" y2=\"28.2969\"/><text fill=\"#000000\" font-family=\"sans-serif\" font-size=\"14\" font-weight=\"bold\" lengthAdjust=\"spacing\" textLength=\"79.8125\" x=\"20\" y=\"20.9951\">AliasImport</text></a></g><!--MD5=[e4f7fae6ed58524ba242bb0b0d3be6b7]\n",
       "cluster E2--><g id=\"cluster_E2\"><a href=\"psysml:4e11052e-d911-402f-9b8e-d22451a94e61\" target=\"_top\" title=\"psysml:4e11052e-d911-402f-9b8e-d22451a94e61\" xlink:actuate=\"onRequest\" xlink:href=\"psysml:4e11052e-d911-402f-9b8e-d22451a94e61\" xlink:show=\"new\" xlink:title=\"psysml:4e11052e-d911-402f-9b8e-d22451a94e61\" xlink:type=\"simple\"><polygon fill=\"none\" points=\"40,229,123.8125,229,130.8125,251.2969,247,251.2969,247,328,40,328,40,229\" style=\"stroke:#000000;stroke-width:1.5;\"/><line style=\"stroke:#000000;stroke-width:1.5;\" x1=\"40\" x2=\"130.8125\" y1=\"251.2969\" y2=\"251.2969\"/><text fill=\"#000000\" font-family=\"sans-serif\" font-size=\"14\" font-weight=\"bold\" lengthAdjust=\"spacing\" textLength=\"77.8125\" x=\"44\" y=\"243.9951\">Definitions</text></a></g><!--MD5=[de5ec2e2e8f62f467e546659f5068c88]\n",
       "cluster E5--><g id=\"cluster_E5\"><a href=\"psysml:665ec1bc-7429-419a-921f-0e5bfb2e86ee\" target=\"_top\" title=\"psysml:665ec1bc-7429-419a-921f-0e5bfb2e86ee\" xlink:actuate=\"onRequest\" xlink:href=\"psysml:665ec1bc-7429-419a-921f-0e5bfb2e86ee\" xlink:show=\"new\" xlink:title=\"psysml:665ec1bc-7429-419a-921f-0e5bfb2e86ee\" xlink:type=\"simple\"><polygon fill=\"none\" points=\"49,57,109.625,57,116.625,79.2969,238,79.2969,238,172,49,172,49,57\" style=\"stroke:#000000;stroke-width:1.5;\"/><line style=\"stroke:#000000;stroke-width:1.5;\" x1=\"49\" x2=\"116.625\" y1=\"79.2969\" y2=\"79.2969\"/><text fill=\"#000000\" font-family=\"sans-serif\" font-size=\"14\" font-weight=\"bold\" lengthAdjust=\"spacing\" textLength=\"54.625\" x=\"53\" y=\"71.9951\">Usages</text></a></g><!--MD5=[09b614a08d8cba4a07c9adeb5e0fee81]\n",
       "class E3--><a href=\"psysml:fbf2953e-726b-446c-805b-ce056d089132\" target=\"_top\" title=\"psysml:fbf2953e-726b-446c-805b-ce056d089132\" xlink:actuate=\"onRequest\" xlink:href=\"psysml:fbf2953e-726b-446c-805b-ce056d089132\" xlink:show=\"new\" xlink:title=\"psysml:fbf2953e-726b-446c-805b-ce056d089132\" xlink:type=\"simple\"><g id=\"elem_E3\"><rect fill=\"#FFFFFF\" height=\"48.2656\" id=\"E3\" style=\"stroke:#181818;stroke-width:0.5;\" width=\"70\" x=\"161\" y=\"264\"/><text fill=\"#000000\" font-family=\"sans-serif\" font-size=\"12\" font-style=\"italic\" lengthAdjust=\"spacing\" textLength=\"68\" x=\"162\" y=\"280.1387\">«part  def»</text><text fill=\"#000000\" font-family=\"sans-serif\" font-size=\"14\" lengthAdjust=\"spacing\" textLength=\"50\" x=\"171\" y=\"295.9639\">Vehicle</text><line style=\"stroke:#181818;stroke-width:0.5;\" x1=\"162\" x2=\"230\" y1=\"304.2656\" y2=\"304.2656\"/></g></a><!--MD5=[ebbe1d658d1005bcc118a6aa81145e00]\n",
       "class E4--><a href=\"psysml:fbf2953e-726b-446c-805b-ce056d089132\" target=\"_top\" title=\"psysml:fbf2953e-726b-446c-805b-ce056d089132\" xlink:actuate=\"onRequest\" xlink:href=\"psysml:fbf2953e-726b-446c-805b-ce056d089132\" xlink:show=\"new\" xlink:title=\"psysml:fbf2953e-726b-446c-805b-ce056d089132\" xlink:type=\"simple\"><g id=\"elem_E4\"><rect fill=\"#FFFFFF\" height=\"48.2656\" id=\"E4\" style=\"stroke:#181818;stroke-width:0.5;\" width=\"70\" x=\"56\" y=\"264\"/><text fill=\"#000000\" font-family=\"sans-serif\" font-size=\"12\" font-style=\"italic\" lengthAdjust=\"spacing\" textLength=\"68\" x=\"57\" y=\"280.1387\">«part  def»</text><text fill=\"#000000\" font-family=\"sans-serif\" font-size=\"14\" lengthAdjust=\"spacing\" textLength=\"50\" x=\"66\" y=\"295.9639\">Vehicle</text><line style=\"stroke:#181818;stroke-width:0.5;\" x1=\"57\" x2=\"125\" y1=\"304.2656\" y2=\"304.2656\"/></g></a><!--MD5=[60a26617385b1d2d0262a64233df1f8d]\n",
       "class E6--><a href=\"psysml:1df993ae-180d-40db-acc7-c592d2ed44d7\" target=\"_top\" title=\"psysml:1df993ae-180d-40db-acc7-c592d2ed44d7\" xlink:actuate=\"onRequest\" xlink:href=\"psysml:1df993ae-180d-40db-acc7-c592d2ed44d7\" xlink:show=\"new\" xlink:title=\"psysml:1df993ae-180d-40db-acc7-c592d2ed44d7\" xlink:type=\"simple\"><g id=\"elem_E6\"><rect fill=\"#FFFFFF\" height=\"48.2656\" id=\"E6\" rx=\"10\" ry=\"10\" style=\"stroke:#181818;stroke-width:0.5;\" width=\"121\" x=\"92.5\" y=\"100\"/><text fill=\"#000000\" font-family=\"sans-serif\" font-size=\"12\" font-style=\"italic\" lengthAdjust=\"spacing\" textLength=\"40\" x=\"133\" y=\"116.1387\">«part»</text><text fill=\"#000000\" font-family=\"sans-serif\" font-size=\"14\" lengthAdjust=\"spacing\" textLength=\"107\" x=\"95.5\" y=\"131.9639\">vehicle: Vehicle</text><line style=\"stroke:#181818;stroke-width:0.5;\" x1=\"93.5\" x2=\"212.5\" y1=\"140.2656\" y2=\"140.2656\"/></g></a><!--MD5=[1c62de2aa5b76f0fb657ff8443a1a700]\n",
       "link E5 to E4--><g id=\"link_E5_E4\"><a href=\"psysml:51954fa3-afe5-4e6a-ba60-ca054eed15e8\" target=\"_top\" title=\"psysml:51954fa3-afe5-4e6a-ba60-ca054eed15e8\" xlink:actuate=\"onRequest\" xlink:href=\"psysml:51954fa3-afe5-4e6a-ba60-ca054eed15e8\" xlink:show=\"new\" xlink:title=\"psysml:51954fa3-afe5-4e6a-ba60-ca054eed15e8\" xlink:type=\"simple\"><path d=\"M66.9503,172.4094 C67.038,172.8272 67.126,173.2465 67.2143,173.6672 C67.3909,174.5085 67.5687,175.3555 67.7475,176.2075 C73.47,203.4725 80.29,235.97 85.06,258.69 \" fill=\"none\" id=\"E5-to-E4\" style=\"stroke:#181818;stroke-width:1.0;stroke-dasharray:7.0,7.0;\"/><polygon fill=\"#181818\" points=\"86.12,263.77,88.1858,254.1402,85.0928,258.8766,80.3564,255.7837,86.12,263.77\" style=\"stroke:#181818;stroke-width:1.0;\"/><text fill=\"#000000\" font-family=\"sans-serif\" font-size=\"13\" lengthAdjust=\"spacing\" textLength=\"58\" x=\"76\" y=\"209.0669\">«import»</text></a></g><!--MD5=[f667431f98296947986a1a7595a31603]\n",
       "link E6 to E4--><g id=\"link_E6_E4\"><a href=\"psysml:bdaa5b20-7fbf-4739-8cf5-0e25c1337b74\" target=\"_top\" title=\"psysml:bdaa5b20-7fbf-4739-8cf5-0e25c1337b74\" xlink:actuate=\"onRequest\" xlink:href=\"psysml:bdaa5b20-7fbf-4739-8cf5-0e25c1337b74\" xlink:show=\"new\" xlink:title=\"psysml:bdaa5b20-7fbf-4739-8cf5-0e25c1337b74\" xlink:type=\"simple\"><path d=\"M153.08,148.14 C152.45,166.32 150,191.99 142,213 C137.39,225.1 130.41,237.14 123.08,247.87 \" fill=\"none\" id=\"E6-to-E4\" style=\"stroke:#181818;stroke-width:1.0;\"/><polygon fill=\"#FFFFFF\" points=\"111.17,264,116.8313,244.5591,128.091,252.8789,111.17,264\" style=\"stroke:#181818;stroke-width:1.0;\"/><ellipse cx=\"121.8272\" cy=\"241.1633\" fill=\"#181818\" rx=\"2\" ry=\"2\" style=\"stroke:#181818;stroke-width:1.0;\"/><ellipse cx=\"129.8698\" cy=\"247.106\" fill=\"#181818\" rx=\"2\" ry=\"2\" style=\"stroke:#181818;stroke-width:1.0;\"/></a></g><!--MD5=[a913b5e0f4148a79cf7a731c09cd7791]\n",
       "@startuml\r\n",
       "skin sysmlbw\r\n",
       "skinparam monochrome true\r\n",
       "skinparam wrapWidth 300\r\n",
       "hide circle\r\n",
       " \r\n",
       "package \"AliasImport\" as E1  [[psysml:ea09c962-e470-4bd3-bf79-0fd6d16116e6 ]]  {\r\n",
       "package \"Definitions\" as E2  [[psysml:4e11052e-d911-402f-9b8e-d22451a94e61 ]]  {\r\n",
       "comp def \"Vehicle\" as E3  <<(T,blue) part  def>> [[psysml:fbf2953e-726b-446c-805b-ce056d089132 ]] {\r\n",
       "}\r\n",
       "comp def \"Vehicle\" as E4  <<(T,blue) part  def>> [[psysml:fbf2953e-726b-446c-805b-ce056d089132 ]] {\r\n",
       "}\r\n",
       "}\r\n",
       "package \"Usages\" as E5  [[psysml:665ec1bc-7429-419a-921f-0e5bfb2e86ee ]]  {\r\n",
       "comp usage \"vehicle: Vehicle  \" as E6  <<(T,blue) part>> [[psysml:1df993ae-180d-40db-acc7-c592d2ed44d7 ]] {\r\n",
       "}\r\n",
       "}\r\n",
       "}\r\n",
       "E5 ..> E4 [[psysml:51954fa3-afe5-4e6a-ba60-ca054eed15e8 ]] : <<import>>\r\n",
       "E6 - -:|> E4 [[psysml:bdaa5b20-7fbf-4739-8cf5-0e25c1337b74 ]] \r\n",
       "@enduml\r\n",
       "\n",
       "PlantUML version 1.2022.7(Mon Aug 22 17:01:30 UTC 2022)\n",
       "(EPL source distribution)\n",
       "Java Runtime: OpenJDK Runtime Environment\n",
       "JVM: OpenJDK 64-Bit Server VM\n",
       "Default Encoding: UTF-8\n",
       "Language: en\n",
       "Country: null\n",
       "--></g></svg>"
      ]
     },
     "execution_count": 3,
     "metadata": {},
     "output_type": "execute_result"
    }
   ],
   "source": [
    "%viz --style=\"COMPTREE\" --view=\"Tree\" \"AliasImport\""
   ]
  },
  {
   "cell_type": "code",
   "execution_count": 4,
   "id": "3113ad87",
   "metadata": {
    "execution": {
     "iopub.execute_input": "2024-12-16T03:26:44.941018Z",
     "iopub.status.busy": "2024-12-16T03:26:44.940808Z",
     "iopub.status.idle": "2024-12-16T03:26:44.948721Z",
     "shell.execute_reply": "2024-12-16T03:26:44.948856Z"
    }
   },
   "outputs": [
    {
     "data": {
      "image/svg+xml": [
       "<?xml version=\"1.0\" encoding=\"UTF-8\" standalone=\"no\"?><svg xmlns=\"http://www.w3.org/2000/svg\" xmlns:xlink=\"http://www.w3.org/1999/xlink\" contentStyleType=\"text/css\" height=\"10px\" preserveAspectRatio=\"none\" style=\"width:10px;height:10px;background:#FFFFFF;\" version=\"1.1\" viewBox=\"0 0 10 10\" width=\"10px\" zoomAndPan=\"magnify\"><defs/><g><!--MD5=[ee07d3037018df61283447c7fdb4a44f]\n",
       "@startuml\r\n",
       "skin sysmlbw\r\n",
       "skinparam monochrome true\r\n",
       "skinparam wrapWidth 300\r\n",
       "hide circle\r\n",
       " \r\n",
       "@enduml\r\n",
       "\n",
       "PlantUML version 1.2022.7(Mon Aug 22 17:01:30 UTC 2022)\n",
       "(EPL source distribution)\n",
       "Java Runtime: OpenJDK Runtime Environment\n",
       "JVM: OpenJDK 64-Bit Server VM\n",
       "Default Encoding: UTF-8\n",
       "Language: en\n",
       "Country: null\n",
       "--></g></svg>"
      ]
     },
     "execution_count": 4,
     "metadata": {},
     "output_type": "execute_result"
    }
   ],
   "source": [
    "%viz --style=\"COMPTREE\" --view=\"State\" \"AliasImport\""
   ]
  },
  {
   "cell_type": "code",
   "execution_count": 5,
   "id": "c653a405",
   "metadata": {
    "execution": {
     "iopub.execute_input": "2024-12-16T03:26:45.005495Z",
     "iopub.status.busy": "2024-12-16T03:26:45.005242Z",
     "iopub.status.idle": "2024-12-16T03:26:45.034806Z",
     "shell.execute_reply": "2024-12-16T03:26:45.034631Z"
    }
   },
   "outputs": [
    {
     "data": {
      "image/svg+xml": [
       "<?xml version=\"1.0\" encoding=\"UTF-8\" standalone=\"no\"?><svg xmlns=\"http://www.w3.org/2000/svg\" xmlns:xlink=\"http://www.w3.org/1999/xlink\" contentStyleType=\"text/css\" height=\"348px\" preserveAspectRatio=\"none\" style=\"width:297px;height:348px;background:#FFFFFF;\" version=\"1.1\" viewBox=\"0 0 297 348\" width=\"297px\" zoomAndPan=\"magnify\"><defs/><g><!--MD5=[fbc87193dbaf4d95561dea2c320d4a47]\n",
       "cluster E1--><g id=\"cluster_E1\"><a href=\"psysml:ea09c962-e470-4bd3-bf79-0fd6d16116e6\" target=\"_top\" title=\"psysml:ea09c962-e470-4bd3-bf79-0fd6d16116e6\" xlink:actuate=\"onRequest\" xlink:href=\"psysml:ea09c962-e470-4bd3-bf79-0fd6d16116e6\" xlink:show=\"new\" xlink:title=\"psysml:ea09c962-e470-4bd3-bf79-0fd6d16116e6\" xlink:type=\"simple\"><polygon fill=\"none\" points=\"16,6,101.8125,6,108.8125,28.2969,280,28.2969,280,341,16,341,16,6\" style=\"stroke:#000000;stroke-width:1.5;\"/><line style=\"stroke:#000000;stroke-width:1.5;\" x1=\"16\" x2=\"108.8125\" y1=\"28.2969\" y2=\"28.2969\"/><text fill=\"#000000\" font-family=\"sans-serif\" font-size=\"14\" font-weight=\"bold\" lengthAdjust=\"spacing\" textLength=\"79.8125\" x=\"20\" y=\"20.9951\">AliasImport</text></a></g><!--MD5=[e4f7fae6ed58524ba242bb0b0d3be6b7]\n",
       "cluster E2--><g id=\"cluster_E2\"><a href=\"psysml:4e11052e-d911-402f-9b8e-d22451a94e61\" target=\"_top\" title=\"psysml:4e11052e-d911-402f-9b8e-d22451a94e61\" xlink:actuate=\"onRequest\" xlink:href=\"psysml:4e11052e-d911-402f-9b8e-d22451a94e61\" xlink:show=\"new\" xlink:title=\"psysml:4e11052e-d911-402f-9b8e-d22451a94e61\" xlink:type=\"simple\"><polygon fill=\"none\" points=\"40,221,123.8125,221,130.8125,243.2969,256,243.2969,256,317,40,317,40,221\" style=\"stroke:#000000;stroke-width:1.5;\"/><line style=\"stroke:#000000;stroke-width:1.5;\" x1=\"40\" x2=\"130.8125\" y1=\"243.2969\" y2=\"243.2969\"/><text fill=\"#000000\" font-family=\"sans-serif\" font-size=\"14\" font-weight=\"bold\" lengthAdjust=\"spacing\" textLength=\"77.8125\" x=\"44\" y=\"235.9951\">Definitions</text></a></g><!--MD5=[de5ec2e2e8f62f467e546659f5068c88]\n",
       "cluster E5--><g id=\"cluster_E5\"><a href=\"psysml:665ec1bc-7429-419a-921f-0e5bfb2e86ee\" target=\"_top\" title=\"psysml:665ec1bc-7429-419a-921f-0e5bfb2e86ee\" xlink:actuate=\"onRequest\" xlink:href=\"psysml:665ec1bc-7429-419a-921f-0e5bfb2e86ee\" xlink:show=\"new\" xlink:title=\"psysml:665ec1bc-7429-419a-921f-0e5bfb2e86ee\" xlink:type=\"simple\"><polygon fill=\"none\" points=\"55,57,115.625,57,122.625,79.2969,240,79.2969,240,164,55,164,55,57\" style=\"stroke:#000000;stroke-width:1.5;\"/><line style=\"stroke:#000000;stroke-width:1.5;\" x1=\"55\" x2=\"122.625\" y1=\"79.2969\" y2=\"79.2969\"/><text fill=\"#000000\" font-family=\"sans-serif\" font-size=\"14\" font-weight=\"bold\" lengthAdjust=\"spacing\" textLength=\"54.625\" x=\"59\" y=\"71.9951\">Usages</text></a></g><g><a href=\"psysml:fbf2953e-726b-446c-805b-ce056d089132\" target=\"_top\" title=\"psysml:fbf2953e-726b-446c-805b-ce056d089132\" xlink:actuate=\"onRequest\" xlink:href=\"psysml:fbf2953e-726b-446c-805b-ce056d089132\" xlink:show=\"new\" xlink:title=\"psysml:fbf2953e-726b-446c-805b-ce056d089132\" xlink:type=\"simple\"><rect fill=\"#FFFFFF\" height=\"45.2656\" id=\"E3\" style=\"stroke:#383838;stroke-width:1.5;\" width=\"75\" x=\"165.5\" y=\"256\"/><text fill=\"#000000\" font-family=\"sans-serif\" font-size=\"12\" font-style=\"italic\" lengthAdjust=\"spacing\" textLength=\"68\" x=\"169\" y=\"272.1387\">«part  def»</text><text fill=\"#000000\" font-family=\"sans-serif\" font-size=\"14\" lengthAdjust=\"spacing\" textLength=\"50\" x=\"178\" y=\"287.9639\">Vehicle</text></a></g><g><a href=\"psysml:fbf2953e-726b-446c-805b-ce056d089132\" target=\"_top\" title=\"psysml:fbf2953e-726b-446c-805b-ce056d089132\" xlink:actuate=\"onRequest\" xlink:href=\"psysml:fbf2953e-726b-446c-805b-ce056d089132\" xlink:show=\"new\" xlink:title=\"psysml:fbf2953e-726b-446c-805b-ce056d089132\" xlink:type=\"simple\"><rect fill=\"#FFFFFF\" height=\"45.2656\" id=\"E4\" style=\"stroke:#383838;stroke-width:1.5;\" width=\"75\" x=\"55.5\" y=\"256\"/><text fill=\"#000000\" font-family=\"sans-serif\" font-size=\"12\" font-style=\"italic\" lengthAdjust=\"spacing\" textLength=\"68\" x=\"59\" y=\"272.1387\">«part  def»</text><text fill=\"#000000\" font-family=\"sans-serif\" font-size=\"14\" lengthAdjust=\"spacing\" textLength=\"50\" x=\"68\" y=\"287.9639\">Vehicle</text></a></g><g><a href=\"psysml:1df993ae-180d-40db-acc7-c592d2ed44d7\" target=\"_top\" title=\"psysml:1df993ae-180d-40db-acc7-c592d2ed44d7\" xlink:actuate=\"onRequest\" xlink:href=\"psysml:1df993ae-180d-40db-acc7-c592d2ed44d7\" xlink:show=\"new\" xlink:title=\"psysml:1df993ae-180d-40db-acc7-c592d2ed44d7\" xlink:type=\"simple\"><rect fill=\"#FFFFFF\" height=\"40\" id=\"E6\" rx=\"10\" ry=\"10\" style=\"stroke:#383838;stroke-width:1.5;\" width=\"118\" x=\"98\" y=\"100\"/><text fill=\"#000000\" font-family=\"sans-serif\" font-size=\"14\" lengthAdjust=\"spacing\" textLength=\"107\" x=\"103.5\" y=\"117.9951\">vehicle: Vehicle</text></a></g><!--MD5=[1c62de2aa5b76f0fb657ff8443a1a700]\n",
       "link E5 to E4--><g id=\"link_E5_E4\"><a href=\"psysml:51954fa3-afe5-4e6a-ba60-ca054eed15e8\" target=\"_top\" title=\"psysml:51954fa3-afe5-4e6a-ba60-ca054eed15e8\" xlink:actuate=\"onRequest\" xlink:href=\"psysml:51954fa3-afe5-4e6a-ba60-ca054eed15e8\" xlink:show=\"new\" xlink:title=\"psysml:51954fa3-afe5-4e6a-ba60-ca054eed15e8\" xlink:type=\"simple\"><path d=\"M69.043,164.2456 C69.0858,164.5249 69.1287,164.8047 69.1718,165.0851 C69.2579,165.646 69.3448,166.2091 69.4323,166.7743 C69.6073,167.9047 69.7849,169.0434 69.965,170.1889 C70.3253,172.4798 70.6956,174.7976 71.075,177.1298 C72.5925,186.4587 74.255,196.0175 76,205 C78.97,220.26 82.89,237.18 86.23,250.83 \" fill=\"none\" id=\"E5-to-E4\" style=\"stroke:#181818;stroke-width:1.0;stroke-dasharray:7.0,7.0;\"/><polygon fill=\"#181818\" points=\"87.43,255.7,89.1546,246.0033,86.2308,250.8459,81.3881,247.9221,87.43,255.7\" style=\"stroke:#181818;stroke-width:1.0;\"/><text fill=\"#000000\" font-family=\"sans-serif\" font-size=\"13\" lengthAdjust=\"spacing\" textLength=\"58\" x=\"77\" y=\"201.0669\">«import»</text></a></g><!--MD5=[f667431f98296947986a1a7595a31603]\n",
       "link E6 to E4--><g id=\"link_E6_E4\"><a href=\"psysml:bdaa5b20-7fbf-4739-8cf5-0e25c1337b74\" target=\"_top\" title=\"psysml:bdaa5b20-7fbf-4739-8cf5-0e25c1337b74\" xlink:actuate=\"onRequest\" xlink:href=\"psysml:bdaa5b20-7fbf-4739-8cf5-0e25c1337b74\" xlink:show=\"new\" xlink:title=\"psysml:bdaa5b20-7fbf-4739-8cf5-0e25c1337b74\" xlink:type=\"simple\"><path d=\"M155.18,140.28 C153.05,157.7 148.66,183.78 140,205 C135.21,216.74 128.45,228.64 121.56,239.31 \" fill=\"none\" id=\"E6-to-E4\" style=\"stroke:#181818;stroke-width:1.0;\"/><polygon fill=\"#FFFFFF\" points=\"110.13,255.85,115.1604,236.2364,126.683,244.1881,110.13,255.85\" style=\"stroke:#181818;stroke-width:1.0;\"/><ellipse cx=\"120.044\" cy=\"232.681\" fill=\"#181818\" rx=\"2\" ry=\"2\" style=\"stroke:#181818;stroke-width:1.0;\"/><ellipse cx=\"128.2744\" cy=\"238.3608\" fill=\"#181818\" rx=\"2\" ry=\"2\" style=\"stroke:#181818;stroke-width:1.0;\"/></a></g><!--MD5=[9bcc162c745d46d796de960f88d8b0ba]\n",
       "@startuml\r\n",
       "skin sysmlbw\r\n",
       "skinparam monochrome true\r\n",
       "skinparam wrapWidth 300\r\n",
       "hide circle\r\n",
       " skinparam ranksep 10\r\n",
       "skinparam rectangle {\r\n",
       " backgroundColor<<block>> LightGreen\r\n",
       "}\r\n",
       "\r\n",
       "package \"AliasImport\" as E1  [[psysml:ea09c962-e470-4bd3-bf79-0fd6d16116e6 ]]  {\r\n",
       "package \"Definitions\" as E2  [[psysml:4e11052e-d911-402f-9b8e-d22451a94e61 ]]  {\r\n",
       "rec def \"Vehicle\" as E3  <<(T,blue) part  def>> [[psysml:fbf2953e-726b-446c-805b-ce056d089132 ]] {\r\n",
       "}\r\n",
       "rec def \"Vehicle\" as E4  <<(T,blue) part  def>> [[psysml:fbf2953e-726b-446c-805b-ce056d089132 ]] {\r\n",
       "}\r\n",
       "}\r\n",
       "package \"Usages\" as E5  [[psysml:665ec1bc-7429-419a-921f-0e5bfb2e86ee ]]  {\r\n",
       "rec usage \"vehicle: Vehicle\" as E6 [[psysml:1df993ae-180d-40db-acc7-c592d2ed44d7 ]] {\r\n",
       "}\r\n",
       "}\r\n",
       "}\r\n",
       "E5 ..> E4 [[psysml:51954fa3-afe5-4e6a-ba60-ca054eed15e8 ]] : <<import>>\r\n",
       "E6 - -:|> E4 [[psysml:bdaa5b20-7fbf-4739-8cf5-0e25c1337b74 ]] \r\n",
       "@enduml\r\n",
       "\n",
       "PlantUML version 1.2022.7(Mon Aug 22 17:01:30 UTC 2022)\n",
       "(EPL source distribution)\n",
       "Java Runtime: OpenJDK Runtime Environment\n",
       "JVM: OpenJDK 64-Bit Server VM\n",
       "Default Encoding: UTF-8\n",
       "Language: en\n",
       "Country: null\n",
       "--></g></svg>"
      ]
     },
     "execution_count": 5,
     "metadata": {},
     "output_type": "execute_result"
    }
   ],
   "source": [
    "%viz --style=\"COMPTREE\" --view=\"Interconnection\" \"AliasImport\""
   ]
  },
  {
   "cell_type": "code",
   "execution_count": 6,
   "id": "66f26d6c",
   "metadata": {
    "execution": {
     "iopub.execute_input": "2024-12-16T03:26:45.090392Z",
     "iopub.status.busy": "2024-12-16T03:26:45.090133Z",
     "iopub.status.idle": "2024-12-16T03:26:45.096849Z",
     "shell.execute_reply": "2024-12-16T03:26:45.096653Z"
    }
   },
   "outputs": [
    {
     "data": {
      "image/svg+xml": [
       "<?xml version=\"1.0\" encoding=\"UTF-8\" standalone=\"no\"?><svg xmlns=\"http://www.w3.org/2000/svg\" xmlns:xlink=\"http://www.w3.org/1999/xlink\" contentStyleType=\"text/css\" height=\"10px\" preserveAspectRatio=\"none\" style=\"width:10px;height:10px;background:#FFFFFF;\" version=\"1.1\" viewBox=\"0 0 10 10\" width=\"10px\" zoomAndPan=\"magnify\"><defs/><g><!--MD5=[042b5323e4810735e2315f6f99dad39e]\n",
       "@startuml\r\n",
       "skin sysmlbw\r\n",
       "skinparam monochrome true\r\n",
       "skinparam wrapWidth 300\r\n",
       "hide circle\r\n",
       " skinparam ranksep 8\r\n",
       "\r\n",
       "@enduml\r\n",
       "\n",
       "PlantUML version 1.2022.7(Mon Aug 22 17:01:30 UTC 2022)\n",
       "(EPL source distribution)\n",
       "Java Runtime: OpenJDK Runtime Environment\n",
       "JVM: OpenJDK 64-Bit Server VM\n",
       "Default Encoding: UTF-8\n",
       "Language: en\n",
       "Country: null\n",
       "--></g></svg>"
      ]
     },
     "execution_count": 6,
     "metadata": {},
     "output_type": "execute_result"
    }
   ],
   "source": [
    "%viz --style=\"COMPTREE\" --view=\"Action\" \"AliasImport\""
   ]
  },
  {
   "cell_type": "code",
   "execution_count": 7,
   "id": "c9d820b8",
   "metadata": {
    "execution": {
     "iopub.execute_input": "2024-12-16T03:26:45.148937Z",
     "iopub.status.busy": "2024-12-16T03:26:45.148741Z",
     "iopub.status.idle": "2024-12-16T03:26:45.162813Z",
     "shell.execute_reply": "2024-12-16T03:26:45.162643Z"
    }
   },
   "outputs": [
    {
     "data": {
      "image/svg+xml": [
       "<?xml version=\"1.0\" encoding=\"UTF-8\" standalone=\"no\"?><svg xmlns=\"http://www.w3.org/2000/svg\" xmlns:xlink=\"http://www.w3.org/1999/xlink\" contentStyleType=\"text/css\" height=\"10px\" preserveAspectRatio=\"none\" style=\"width:10px;height:10px;background:#FFFFFF;\" version=\"1.1\" viewBox=\"0 0 10 10\" width=\"10px\" zoomAndPan=\"magnify\"><defs/><g><!--MD5=[f5e9abf0a6c8dccaf40d0172f495ca0b]\n",
       "@startuml\r\n",
       "skin sysmlbw\r\n",
       "skinparam monochrome true\r\n",
       "skinparam wrapWidth 300\r\n",
       "hide circle\r\n",
       " skinparam roundcorner 20\r\n",
       "skinparam BoxPadding 20\r\n",
       "skinparam SequenceBoxBackgroundColor #white\r\n",
       "skinparam style strictuml\r\n",
       "skinparam maxMessageSize 100\r\n",
       "\r\n",
       "@enduml\r\n",
       "\n",
       "PlantUML version 1.2022.7(Mon Aug 22 17:01:30 UTC 2022)\n",
       "(EPL source distribution)\n",
       "Java Runtime: OpenJDK Runtime Environment\n",
       "JVM: OpenJDK 64-Bit Server VM\n",
       "Default Encoding: UTF-8\n",
       "Language: en\n",
       "Country: null\n",
       "--></g></svg>"
      ]
     },
     "execution_count": 7,
     "metadata": {},
     "output_type": "execute_result"
    }
   ],
   "source": [
    "%viz --style=\"COMPTREE\" --view=\"Sequence\" \"AliasImport\""
   ]
  },
  {
   "cell_type": "code",
   "execution_count": 8,
   "id": "18fa2631",
   "metadata": {
    "execution": {
     "iopub.execute_input": "2024-12-16T03:26:45.220758Z",
     "iopub.status.busy": "2024-12-16T03:26:45.220557Z",
     "iopub.status.idle": "2024-12-16T03:26:45.248213Z",
     "shell.execute_reply": "2024-12-16T03:26:45.247470Z"
    }
   },
   "outputs": [
    {
     "data": {
      "image/svg+xml": [
       "<?xml version=\"1.0\" encoding=\"UTF-8\" standalone=\"no\"?><svg xmlns=\"http://www.w3.org/2000/svg\" xmlns:xlink=\"http://www.w3.org/1999/xlink\" contentStyleType=\"text/css\" height=\"359px\" preserveAspectRatio=\"none\" style=\"width:288px;height:359px;background:#FFFFFF;\" version=\"1.1\" viewBox=\"0 0 288 359\" width=\"288px\" zoomAndPan=\"magnify\"><defs/><g><!--MD5=[fbc87193dbaf4d95561dea2c320d4a47]\n",
       "cluster E1--><g id=\"cluster_E1\"><a href=\"psysml:ea09c962-e470-4bd3-bf79-0fd6d16116e6\" target=\"_top\" title=\"psysml:ea09c962-e470-4bd3-bf79-0fd6d16116e6\" xlink:actuate=\"onRequest\" xlink:href=\"psysml:ea09c962-e470-4bd3-bf79-0fd6d16116e6\" xlink:show=\"new\" xlink:title=\"psysml:ea09c962-e470-4bd3-bf79-0fd6d16116e6\" xlink:type=\"simple\"><polygon fill=\"none\" points=\"16,6,101.8125,6,108.8125,28.2969,271,28.2969,271,352,16,352,16,6\" style=\"stroke:#000000;stroke-width:1.5;\"/><line style=\"stroke:#000000;stroke-width:1.5;\" x1=\"16\" x2=\"108.8125\" y1=\"28.2969\" y2=\"28.2969\"/><text fill=\"#000000\" font-family=\"sans-serif\" font-size=\"14\" font-weight=\"bold\" lengthAdjust=\"spacing\" textLength=\"79.8125\" x=\"20\" y=\"20.9951\">AliasImport</text></a></g><!--MD5=[e4f7fae6ed58524ba242bb0b0d3be6b7]\n",
       "cluster E2--><g id=\"cluster_E2\"><a href=\"psysml:4e11052e-d911-402f-9b8e-d22451a94e61\" target=\"_top\" title=\"psysml:4e11052e-d911-402f-9b8e-d22451a94e61\" xlink:actuate=\"onRequest\" xlink:href=\"psysml:4e11052e-d911-402f-9b8e-d22451a94e61\" xlink:show=\"new\" xlink:title=\"psysml:4e11052e-d911-402f-9b8e-d22451a94e61\" xlink:type=\"simple\"><polygon fill=\"none\" points=\"40,229,123.8125,229,130.8125,251.2969,247,251.2969,247,328,40,328,40,229\" style=\"stroke:#000000;stroke-width:1.5;\"/><line style=\"stroke:#000000;stroke-width:1.5;\" x1=\"40\" x2=\"130.8125\" y1=\"251.2969\" y2=\"251.2969\"/><text fill=\"#000000\" font-family=\"sans-serif\" font-size=\"14\" font-weight=\"bold\" lengthAdjust=\"spacing\" textLength=\"77.8125\" x=\"44\" y=\"243.9951\">Definitions</text></a></g><!--MD5=[de5ec2e2e8f62f467e546659f5068c88]\n",
       "cluster E5--><g id=\"cluster_E5\"><a href=\"psysml:665ec1bc-7429-419a-921f-0e5bfb2e86ee\" target=\"_top\" title=\"psysml:665ec1bc-7429-419a-921f-0e5bfb2e86ee\" xlink:actuate=\"onRequest\" xlink:href=\"psysml:665ec1bc-7429-419a-921f-0e5bfb2e86ee\" xlink:show=\"new\" xlink:title=\"psysml:665ec1bc-7429-419a-921f-0e5bfb2e86ee\" xlink:type=\"simple\"><polygon fill=\"none\" points=\"49,57,109.625,57,116.625,79.2969,238,79.2969,238,172,49,172,49,57\" style=\"stroke:#000000;stroke-width:1.5;\"/><line style=\"stroke:#000000;stroke-width:1.5;\" x1=\"49\" x2=\"116.625\" y1=\"79.2969\" y2=\"79.2969\"/><text fill=\"#000000\" font-family=\"sans-serif\" font-size=\"14\" font-weight=\"bold\" lengthAdjust=\"spacing\" textLength=\"54.625\" x=\"53\" y=\"71.9951\">Usages</text></a></g><!--MD5=[09b614a08d8cba4a07c9adeb5e0fee81]\n",
       "class E3--><a href=\"psysml:fbf2953e-726b-446c-805b-ce056d089132\" target=\"_top\" title=\"psysml:fbf2953e-726b-446c-805b-ce056d089132\" xlink:actuate=\"onRequest\" xlink:href=\"psysml:fbf2953e-726b-446c-805b-ce056d089132\" xlink:show=\"new\" xlink:title=\"psysml:fbf2953e-726b-446c-805b-ce056d089132\" xlink:type=\"simple\"><g id=\"elem_E3\"><rect fill=\"#FFFFFF\" height=\"48.2656\" id=\"E3\" style=\"stroke:#181818;stroke-width:0.5;\" width=\"70\" x=\"161\" y=\"264\"/><text fill=\"#000000\" font-family=\"sans-serif\" font-size=\"12\" font-style=\"italic\" lengthAdjust=\"spacing\" textLength=\"68\" x=\"162\" y=\"280.1387\">«part  def»</text><text fill=\"#000000\" font-family=\"sans-serif\" font-size=\"14\" lengthAdjust=\"spacing\" textLength=\"50\" x=\"171\" y=\"295.9639\">Vehicle</text><line style=\"stroke:#181818;stroke-width:0.5;\" x1=\"162\" x2=\"230\" y1=\"304.2656\" y2=\"304.2656\"/></g></a><!--MD5=[ebbe1d658d1005bcc118a6aa81145e00]\n",
       "class E4--><a href=\"psysml:fbf2953e-726b-446c-805b-ce056d089132\" target=\"_top\" title=\"psysml:fbf2953e-726b-446c-805b-ce056d089132\" xlink:actuate=\"onRequest\" xlink:href=\"psysml:fbf2953e-726b-446c-805b-ce056d089132\" xlink:show=\"new\" xlink:title=\"psysml:fbf2953e-726b-446c-805b-ce056d089132\" xlink:type=\"simple\"><g id=\"elem_E4\"><rect fill=\"#FFFFFF\" height=\"48.2656\" id=\"E4\" style=\"stroke:#181818;stroke-width:0.5;\" width=\"70\" x=\"56\" y=\"264\"/><text fill=\"#000000\" font-family=\"sans-serif\" font-size=\"12\" font-style=\"italic\" lengthAdjust=\"spacing\" textLength=\"68\" x=\"57\" y=\"280.1387\">«part  def»</text><text fill=\"#000000\" font-family=\"sans-serif\" font-size=\"14\" lengthAdjust=\"spacing\" textLength=\"50\" x=\"66\" y=\"295.9639\">Vehicle</text><line style=\"stroke:#181818;stroke-width:0.5;\" x1=\"57\" x2=\"125\" y1=\"304.2656\" y2=\"304.2656\"/></g></a><!--MD5=[60a26617385b1d2d0262a64233df1f8d]\n",
       "class E6--><a href=\"psysml:1df993ae-180d-40db-acc7-c592d2ed44d7\" target=\"_top\" title=\"psysml:1df993ae-180d-40db-acc7-c592d2ed44d7\" xlink:actuate=\"onRequest\" xlink:href=\"psysml:1df993ae-180d-40db-acc7-c592d2ed44d7\" xlink:show=\"new\" xlink:title=\"psysml:1df993ae-180d-40db-acc7-c592d2ed44d7\" xlink:type=\"simple\"><g id=\"elem_E6\"><rect fill=\"#FFFFFF\" height=\"48.2656\" id=\"E6\" rx=\"10\" ry=\"10\" style=\"stroke:#181818;stroke-width:0.5;\" width=\"121\" x=\"92.5\" y=\"100\"/><text fill=\"#000000\" font-family=\"sans-serif\" font-size=\"12\" font-style=\"italic\" lengthAdjust=\"spacing\" textLength=\"40\" x=\"133\" y=\"116.1387\">«part»</text><text fill=\"#000000\" font-family=\"sans-serif\" font-size=\"14\" lengthAdjust=\"spacing\" textLength=\"107\" x=\"95.5\" y=\"131.9639\">vehicle: Vehicle</text><line style=\"stroke:#181818;stroke-width:0.5;\" x1=\"93.5\" x2=\"212.5\" y1=\"140.2656\" y2=\"140.2656\"/></g></a><!--MD5=[1c62de2aa5b76f0fb657ff8443a1a700]\n",
       "link E5 to E4--><g id=\"link_E5_E4\"><a href=\"psysml:51954fa3-afe5-4e6a-ba60-ca054eed15e8\" target=\"_top\" title=\"psysml:51954fa3-afe5-4e6a-ba60-ca054eed15e8\" xlink:actuate=\"onRequest\" xlink:href=\"psysml:51954fa3-afe5-4e6a-ba60-ca054eed15e8\" xlink:show=\"new\" xlink:title=\"psysml:51954fa3-afe5-4e6a-ba60-ca054eed15e8\" xlink:type=\"simple\"><path d=\"M66.9503,172.4094 C67.038,172.8272 67.126,173.2465 67.2143,173.6672 C67.3909,174.5085 67.5687,175.3555 67.7475,176.2075 C73.47,203.4725 80.29,235.97 85.06,258.69 \" fill=\"none\" id=\"E5-to-E4\" style=\"stroke:#181818;stroke-width:1.0;stroke-dasharray:7.0,7.0;\"/><polygon fill=\"#181818\" points=\"86.12,263.77,88.1858,254.1402,85.0928,258.8766,80.3564,255.7837,86.12,263.77\" style=\"stroke:#181818;stroke-width:1.0;\"/><text fill=\"#000000\" font-family=\"sans-serif\" font-size=\"13\" lengthAdjust=\"spacing\" textLength=\"58\" x=\"76\" y=\"209.0669\">«import»</text></a></g><!--MD5=[f667431f98296947986a1a7595a31603]\n",
       "link E6 to E4--><g id=\"link_E6_E4\"><a href=\"psysml:bdaa5b20-7fbf-4739-8cf5-0e25c1337b74\" target=\"_top\" title=\"psysml:bdaa5b20-7fbf-4739-8cf5-0e25c1337b74\" xlink:actuate=\"onRequest\" xlink:href=\"psysml:bdaa5b20-7fbf-4739-8cf5-0e25c1337b74\" xlink:show=\"new\" xlink:title=\"psysml:bdaa5b20-7fbf-4739-8cf5-0e25c1337b74\" xlink:type=\"simple\"><path d=\"M153.08,148.14 C152.45,166.32 150,191.99 142,213 C137.39,225.1 130.41,237.14 123.08,247.87 \" fill=\"none\" id=\"E6-to-E4\" style=\"stroke:#181818;stroke-width:1.0;\"/><polygon fill=\"#FFFFFF\" points=\"111.17,264,116.8313,244.5591,128.091,252.8789,111.17,264\" style=\"stroke:#181818;stroke-width:1.0;\"/><ellipse cx=\"121.8272\" cy=\"241.1633\" fill=\"#181818\" rx=\"2\" ry=\"2\" style=\"stroke:#181818;stroke-width:1.0;\"/><ellipse cx=\"129.8698\" cy=\"247.106\" fill=\"#181818\" rx=\"2\" ry=\"2\" style=\"stroke:#181818;stroke-width:1.0;\"/></a></g><!--MD5=[a913b5e0f4148a79cf7a731c09cd7791]\n",
       "@startuml\r\n",
       "skin sysmlbw\r\n",
       "skinparam monochrome true\r\n",
       "skinparam wrapWidth 300\r\n",
       "hide circle\r\n",
       " \r\n",
       "package \"AliasImport\" as E1  [[psysml:ea09c962-e470-4bd3-bf79-0fd6d16116e6 ]]  {\r\n",
       "package \"Definitions\" as E2  [[psysml:4e11052e-d911-402f-9b8e-d22451a94e61 ]]  {\r\n",
       "comp def \"Vehicle\" as E3  <<(T,blue) part  def>> [[psysml:fbf2953e-726b-446c-805b-ce056d089132 ]] {\r\n",
       "}\r\n",
       "comp def \"Vehicle\" as E4  <<(T,blue) part  def>> [[psysml:fbf2953e-726b-446c-805b-ce056d089132 ]] {\r\n",
       "}\r\n",
       "}\r\n",
       "package \"Usages\" as E5  [[psysml:665ec1bc-7429-419a-921f-0e5bfb2e86ee ]]  {\r\n",
       "comp usage \"vehicle: Vehicle  \" as E6  <<(T,blue) part>> [[psysml:1df993ae-180d-40db-acc7-c592d2ed44d7 ]] {\r\n",
       "}\r\n",
       "}\r\n",
       "}\r\n",
       "E5 ..> E4 [[psysml:51954fa3-afe5-4e6a-ba60-ca054eed15e8 ]] : <<import>>\r\n",
       "E6 - -:|> E4 [[psysml:bdaa5b20-7fbf-4739-8cf5-0e25c1337b74 ]] \r\n",
       "@enduml\r\n",
       "\n",
       "PlantUML version 1.2022.7(Mon Aug 22 17:01:30 UTC 2022)\n",
       "(EPL source distribution)\n",
       "Java Runtime: OpenJDK Runtime Environment\n",
       "JVM: OpenJDK 64-Bit Server VM\n",
       "Default Encoding: UTF-8\n",
       "Language: en\n",
       "Country: null\n",
       "--></g></svg>"
      ]
     },
     "execution_count": 8,
     "metadata": {},
     "output_type": "execute_result"
    }
   ],
   "source": [
    "%viz --style=\"COMPTREE\" --view=\"MIXED\" \"AliasImport\""
   ]
  },
  {
   "cell_type": "code",
   "execution_count": 9,
   "id": "d22d8696",
   "metadata": {
    "execution": {
     "iopub.execute_input": "2024-12-16T03:26:45.300954Z",
     "iopub.status.busy": "2024-12-16T03:26:45.300725Z",
     "iopub.status.idle": "2024-12-16T03:26:45.325973Z",
     "shell.execute_reply": "2024-12-16T03:26:45.325109Z"
    }
   },
   "outputs": [
    {
     "data": {
      "image/svg+xml": [
       "<?xml version=\"1.0\" encoding=\"UTF-8\" standalone=\"no\"?><svg xmlns=\"http://www.w3.org/2000/svg\" xmlns:xlink=\"http://www.w3.org/1999/xlink\" contentStyleType=\"text/css\" height=\"359px\" preserveAspectRatio=\"none\" style=\"width:288px;height:359px;background:#FFFFFF;\" version=\"1.1\" viewBox=\"0 0 288 359\" width=\"288px\" zoomAndPan=\"magnify\"><defs/><g><!--MD5=[fbc87193dbaf4d95561dea2c320d4a47]\n",
       "cluster E1--><g id=\"cluster_E1\"><a href=\"psysml:ea09c962-e470-4bd3-bf79-0fd6d16116e6\" target=\"_top\" title=\"psysml:ea09c962-e470-4bd3-bf79-0fd6d16116e6\" xlink:actuate=\"onRequest\" xlink:href=\"psysml:ea09c962-e470-4bd3-bf79-0fd6d16116e6\" xlink:show=\"new\" xlink:title=\"psysml:ea09c962-e470-4bd3-bf79-0fd6d16116e6\" xlink:type=\"simple\"><polygon fill=\"none\" points=\"16,6,101.8125,6,108.8125,28.2969,271,28.2969,271,352,16,352,16,6\" style=\"stroke:#000000;stroke-width:1.5;\"/><line style=\"stroke:#000000;stroke-width:1.5;\" x1=\"16\" x2=\"108.8125\" y1=\"28.2969\" y2=\"28.2969\"/><text fill=\"#000000\" font-family=\"sans-serif\" font-size=\"14\" font-weight=\"bold\" lengthAdjust=\"spacing\" textLength=\"79.8125\" x=\"20\" y=\"20.9951\">AliasImport</text></a></g><!--MD5=[e4f7fae6ed58524ba242bb0b0d3be6b7]\n",
       "cluster E2--><g id=\"cluster_E2\"><a href=\"psysml:4e11052e-d911-402f-9b8e-d22451a94e61\" target=\"_top\" title=\"psysml:4e11052e-d911-402f-9b8e-d22451a94e61\" xlink:actuate=\"onRequest\" xlink:href=\"psysml:4e11052e-d911-402f-9b8e-d22451a94e61\" xlink:show=\"new\" xlink:title=\"psysml:4e11052e-d911-402f-9b8e-d22451a94e61\" xlink:type=\"simple\"><polygon fill=\"none\" points=\"40,229,123.8125,229,130.8125,251.2969,247,251.2969,247,328,40,328,40,229\" style=\"stroke:#000000;stroke-width:1.5;\"/><line style=\"stroke:#000000;stroke-width:1.5;\" x1=\"40\" x2=\"130.8125\" y1=\"251.2969\" y2=\"251.2969\"/><text fill=\"#000000\" font-family=\"sans-serif\" font-size=\"14\" font-weight=\"bold\" lengthAdjust=\"spacing\" textLength=\"77.8125\" x=\"44\" y=\"243.9951\">Definitions</text></a></g><!--MD5=[de5ec2e2e8f62f467e546659f5068c88]\n",
       "cluster E5--><g id=\"cluster_E5\"><a href=\"psysml:665ec1bc-7429-419a-921f-0e5bfb2e86ee\" target=\"_top\" title=\"psysml:665ec1bc-7429-419a-921f-0e5bfb2e86ee\" xlink:actuate=\"onRequest\" xlink:href=\"psysml:665ec1bc-7429-419a-921f-0e5bfb2e86ee\" xlink:show=\"new\" xlink:title=\"psysml:665ec1bc-7429-419a-921f-0e5bfb2e86ee\" xlink:type=\"simple\"><polygon fill=\"none\" points=\"49,57,109.625,57,116.625,79.2969,238,79.2969,238,172,49,172,49,57\" style=\"stroke:#000000;stroke-width:1.5;\"/><line style=\"stroke:#000000;stroke-width:1.5;\" x1=\"49\" x2=\"116.625\" y1=\"79.2969\" y2=\"79.2969\"/><text fill=\"#000000\" font-family=\"sans-serif\" font-size=\"14\" font-weight=\"bold\" lengthAdjust=\"spacing\" textLength=\"54.625\" x=\"53\" y=\"71.9951\">Usages</text></a></g><!--MD5=[09b614a08d8cba4a07c9adeb5e0fee81]\n",
       "class E3--><a href=\"psysml:fbf2953e-726b-446c-805b-ce056d089132\" target=\"_top\" title=\"psysml:fbf2953e-726b-446c-805b-ce056d089132\" xlink:actuate=\"onRequest\" xlink:href=\"psysml:fbf2953e-726b-446c-805b-ce056d089132\" xlink:show=\"new\" xlink:title=\"psysml:fbf2953e-726b-446c-805b-ce056d089132\" xlink:type=\"simple\"><g id=\"elem_E3\"><rect fill=\"#FFFFFF\" height=\"48.2656\" id=\"E3\" style=\"stroke:#181818;stroke-width:0.5;\" width=\"70\" x=\"161\" y=\"264\"/><text fill=\"#000000\" font-family=\"sans-serif\" font-size=\"12\" font-style=\"italic\" lengthAdjust=\"spacing\" textLength=\"68\" x=\"162\" y=\"280.1387\">«part  def»</text><text fill=\"#000000\" font-family=\"sans-serif\" font-size=\"14\" lengthAdjust=\"spacing\" textLength=\"50\" x=\"171\" y=\"295.9639\">Vehicle</text><line style=\"stroke:#181818;stroke-width:0.5;\" x1=\"162\" x2=\"230\" y1=\"304.2656\" y2=\"304.2656\"/></g></a><!--MD5=[ebbe1d658d1005bcc118a6aa81145e00]\n",
       "class E4--><a href=\"psysml:fbf2953e-726b-446c-805b-ce056d089132\" target=\"_top\" title=\"psysml:fbf2953e-726b-446c-805b-ce056d089132\" xlink:actuate=\"onRequest\" xlink:href=\"psysml:fbf2953e-726b-446c-805b-ce056d089132\" xlink:show=\"new\" xlink:title=\"psysml:fbf2953e-726b-446c-805b-ce056d089132\" xlink:type=\"simple\"><g id=\"elem_E4\"><rect fill=\"#FFFFFF\" height=\"48.2656\" id=\"E4\" style=\"stroke:#181818;stroke-width:0.5;\" width=\"70\" x=\"56\" y=\"264\"/><text fill=\"#000000\" font-family=\"sans-serif\" font-size=\"12\" font-style=\"italic\" lengthAdjust=\"spacing\" textLength=\"68\" x=\"57\" y=\"280.1387\">«part  def»</text><text fill=\"#000000\" font-family=\"sans-serif\" font-size=\"14\" lengthAdjust=\"spacing\" textLength=\"50\" x=\"66\" y=\"295.9639\">Vehicle</text><line style=\"stroke:#181818;stroke-width:0.5;\" x1=\"57\" x2=\"125\" y1=\"304.2656\" y2=\"304.2656\"/></g></a><!--MD5=[60a26617385b1d2d0262a64233df1f8d]\n",
       "class E6--><a href=\"psysml:1df993ae-180d-40db-acc7-c592d2ed44d7\" target=\"_top\" title=\"psysml:1df993ae-180d-40db-acc7-c592d2ed44d7\" xlink:actuate=\"onRequest\" xlink:href=\"psysml:1df993ae-180d-40db-acc7-c592d2ed44d7\" xlink:show=\"new\" xlink:title=\"psysml:1df993ae-180d-40db-acc7-c592d2ed44d7\" xlink:type=\"simple\"><g id=\"elem_E6\"><rect fill=\"#FFFFFF\" height=\"48.2656\" id=\"E6\" rx=\"10\" ry=\"10\" style=\"stroke:#181818;stroke-width:0.5;\" width=\"121\" x=\"92.5\" y=\"100\"/><text fill=\"#000000\" font-family=\"sans-serif\" font-size=\"12\" font-style=\"italic\" lengthAdjust=\"spacing\" textLength=\"40\" x=\"133\" y=\"116.1387\">«part»</text><text fill=\"#000000\" font-family=\"sans-serif\" font-size=\"14\" lengthAdjust=\"spacing\" textLength=\"107\" x=\"95.5\" y=\"131.9639\">vehicle: Vehicle</text><line style=\"stroke:#181818;stroke-width:0.5;\" x1=\"93.5\" x2=\"212.5\" y1=\"140.2656\" y2=\"140.2656\"/></g></a><!--MD5=[1c62de2aa5b76f0fb657ff8443a1a700]\n",
       "link E5 to E4--><g id=\"link_E5_E4\"><a href=\"psysml:51954fa3-afe5-4e6a-ba60-ca054eed15e8\" target=\"_top\" title=\"psysml:51954fa3-afe5-4e6a-ba60-ca054eed15e8\" xlink:actuate=\"onRequest\" xlink:href=\"psysml:51954fa3-afe5-4e6a-ba60-ca054eed15e8\" xlink:show=\"new\" xlink:title=\"psysml:51954fa3-afe5-4e6a-ba60-ca054eed15e8\" xlink:type=\"simple\"><path d=\"M66.9503,172.4094 C67.038,172.8272 67.126,173.2465 67.2143,173.6672 C67.3909,174.5085 67.5687,175.3555 67.7475,176.2075 C73.47,203.4725 80.29,235.97 85.06,258.69 \" fill=\"none\" id=\"E5-to-E4\" style=\"stroke:#181818;stroke-width:1.0;stroke-dasharray:7.0,7.0;\"/><polygon fill=\"#181818\" points=\"86.12,263.77,88.1858,254.1402,85.0928,258.8766,80.3564,255.7837,86.12,263.77\" style=\"stroke:#181818;stroke-width:1.0;\"/><text fill=\"#000000\" font-family=\"sans-serif\" font-size=\"13\" lengthAdjust=\"spacing\" textLength=\"58\" x=\"76\" y=\"209.0669\">«import»</text></a></g><!--MD5=[f667431f98296947986a1a7595a31603]\n",
       "link E6 to E4--><g id=\"link_E6_E4\"><a href=\"psysml:bdaa5b20-7fbf-4739-8cf5-0e25c1337b74\" target=\"_top\" title=\"psysml:bdaa5b20-7fbf-4739-8cf5-0e25c1337b74\" xlink:actuate=\"onRequest\" xlink:href=\"psysml:bdaa5b20-7fbf-4739-8cf5-0e25c1337b74\" xlink:show=\"new\" xlink:title=\"psysml:bdaa5b20-7fbf-4739-8cf5-0e25c1337b74\" xlink:type=\"simple\"><path d=\"M150.11,148.12 C146.85,174.19 142,213 142,213 C142,213 130.42,229.81 118.29,247.4 \" fill=\"none\" id=\"E6-to-E4\" style=\"stroke:#181818;stroke-width:1.0;\"/><polygon fill=\"#FFFFFF\" points=\"106.86,263.99,111.8824,244.3743,123.4082,252.3214,106.86,263.99\" style=\"stroke:#181818;stroke-width:1.0;\"/><ellipse cx=\"116.7646\" cy=\"240.817\" fill=\"#181818\" rx=\"2\" ry=\"2\" style=\"stroke:#181818;stroke-width:1.0;\"/><ellipse cx=\"124.9973\" cy=\"246.4935\" fill=\"#181818\" rx=\"2\" ry=\"2\" style=\"stroke:#181818;stroke-width:1.0;\"/></a></g><!--MD5=[d09c039847d1fe4ec0f5507dee678bf7]\n",
       "@startuml\r\n",
       "skin sysmlbw\r\n",
       "skinparam monochrome true\r\n",
       "skinparam wrapWidth 300\r\n",
       "hide circle\r\n",
       "skinparam linetype polyline\r\n",
       "\r\n",
       "package \"AliasImport\" as E1  [[psysml:ea09c962-e470-4bd3-bf79-0fd6d16116e6 ]]  {\r\n",
       "package \"Definitions\" as E2  [[psysml:4e11052e-d911-402f-9b8e-d22451a94e61 ]]  {\r\n",
       "comp def \"Vehicle\" as E3  <<(T,blue) part  def>> [[psysml:fbf2953e-726b-446c-805b-ce056d089132 ]] {\r\n",
       "}\r\n",
       "comp def \"Vehicle\" as E4  <<(T,blue) part  def>> [[psysml:fbf2953e-726b-446c-805b-ce056d089132 ]] {\r\n",
       "}\r\n",
       "}\r\n",
       "package \"Usages\" as E5  [[psysml:665ec1bc-7429-419a-921f-0e5bfb2e86ee ]]  {\r\n",
       "comp usage \"vehicle: Vehicle  \" as E6  <<(T,blue) part>> [[psysml:1df993ae-180d-40db-acc7-c592d2ed44d7 ]] {\r\n",
       "}\r\n",
       "}\r\n",
       "}\r\n",
       "E5 ..> E4 [[psysml:51954fa3-afe5-4e6a-ba60-ca054eed15e8 ]] : <<import>>\r\n",
       "E6 - -:|> E4 [[psysml:bdaa5b20-7fbf-4739-8cf5-0e25c1337b74 ]] \r\n",
       "@enduml\r\n",
       "\n",
       "PlantUML version 1.2022.7(Mon Aug 22 17:01:30 UTC 2022)\n",
       "(EPL source distribution)\n",
       "Java Runtime: OpenJDK Runtime Environment\n",
       "JVM: OpenJDK 64-Bit Server VM\n",
       "Default Encoding: UTF-8\n",
       "Language: en\n",
       "Country: null\n",
       "--></g></svg>"
      ]
     },
     "execution_count": 9,
     "metadata": {},
     "output_type": "execute_result"
    }
   ],
   "source": [
    "%viz --style=\"POLYLINE\" --view=\"Default\" \"AliasImport\""
   ]
  },
  {
   "cell_type": "code",
   "execution_count": 10,
   "id": "bc791d87",
   "metadata": {
    "execution": {
     "iopub.execute_input": "2024-12-16T03:26:45.379590Z",
     "iopub.status.busy": "2024-12-16T03:26:45.379371Z",
     "iopub.status.idle": "2024-12-16T03:26:45.406014Z",
     "shell.execute_reply": "2024-12-16T03:26:45.406160Z"
    }
   },
   "outputs": [
    {
     "data": {
      "image/svg+xml": [
       "<?xml version=\"1.0\" encoding=\"UTF-8\" standalone=\"no\"?><svg xmlns=\"http://www.w3.org/2000/svg\" xmlns:xlink=\"http://www.w3.org/1999/xlink\" contentStyleType=\"text/css\" height=\"359px\" preserveAspectRatio=\"none\" style=\"width:288px;height:359px;background:#FFFFFF;\" version=\"1.1\" viewBox=\"0 0 288 359\" width=\"288px\" zoomAndPan=\"magnify\"><defs/><g><!--MD5=[fbc87193dbaf4d95561dea2c320d4a47]\n",
       "cluster E1--><g id=\"cluster_E1\"><a href=\"psysml:ea09c962-e470-4bd3-bf79-0fd6d16116e6\" target=\"_top\" title=\"psysml:ea09c962-e470-4bd3-bf79-0fd6d16116e6\" xlink:actuate=\"onRequest\" xlink:href=\"psysml:ea09c962-e470-4bd3-bf79-0fd6d16116e6\" xlink:show=\"new\" xlink:title=\"psysml:ea09c962-e470-4bd3-bf79-0fd6d16116e6\" xlink:type=\"simple\"><polygon fill=\"none\" points=\"16,6,101.8125,6,108.8125,28.2969,271,28.2969,271,352,16,352,16,6\" style=\"stroke:#000000;stroke-width:1.5;\"/><line style=\"stroke:#000000;stroke-width:1.5;\" x1=\"16\" x2=\"108.8125\" y1=\"28.2969\" y2=\"28.2969\"/><text fill=\"#000000\" font-family=\"sans-serif\" font-size=\"14\" font-weight=\"bold\" lengthAdjust=\"spacing\" textLength=\"79.8125\" x=\"20\" y=\"20.9951\">AliasImport</text></a></g><!--MD5=[e4f7fae6ed58524ba242bb0b0d3be6b7]\n",
       "cluster E2--><g id=\"cluster_E2\"><a href=\"psysml:4e11052e-d911-402f-9b8e-d22451a94e61\" target=\"_top\" title=\"psysml:4e11052e-d911-402f-9b8e-d22451a94e61\" xlink:actuate=\"onRequest\" xlink:href=\"psysml:4e11052e-d911-402f-9b8e-d22451a94e61\" xlink:show=\"new\" xlink:title=\"psysml:4e11052e-d911-402f-9b8e-d22451a94e61\" xlink:type=\"simple\"><polygon fill=\"none\" points=\"40,229,123.8125,229,130.8125,251.2969,247,251.2969,247,328,40,328,40,229\" style=\"stroke:#000000;stroke-width:1.5;\"/><line style=\"stroke:#000000;stroke-width:1.5;\" x1=\"40\" x2=\"130.8125\" y1=\"251.2969\" y2=\"251.2969\"/><text fill=\"#000000\" font-family=\"sans-serif\" font-size=\"14\" font-weight=\"bold\" lengthAdjust=\"spacing\" textLength=\"77.8125\" x=\"44\" y=\"243.9951\">Definitions</text></a></g><!--MD5=[de5ec2e2e8f62f467e546659f5068c88]\n",
       "cluster E5--><g id=\"cluster_E5\"><a href=\"psysml:665ec1bc-7429-419a-921f-0e5bfb2e86ee\" target=\"_top\" title=\"psysml:665ec1bc-7429-419a-921f-0e5bfb2e86ee\" xlink:actuate=\"onRequest\" xlink:href=\"psysml:665ec1bc-7429-419a-921f-0e5bfb2e86ee\" xlink:show=\"new\" xlink:title=\"psysml:665ec1bc-7429-419a-921f-0e5bfb2e86ee\" xlink:type=\"simple\"><polygon fill=\"none\" points=\"49,57,109.625,57,116.625,79.2969,238,79.2969,238,172,49,172,49,57\" style=\"stroke:#000000;stroke-width:1.5;\"/><line style=\"stroke:#000000;stroke-width:1.5;\" x1=\"49\" x2=\"116.625\" y1=\"79.2969\" y2=\"79.2969\"/><text fill=\"#000000\" font-family=\"sans-serif\" font-size=\"14\" font-weight=\"bold\" lengthAdjust=\"spacing\" textLength=\"54.625\" x=\"53\" y=\"71.9951\">Usages</text></a></g><!--MD5=[09b614a08d8cba4a07c9adeb5e0fee81]\n",
       "class E3--><a href=\"psysml:fbf2953e-726b-446c-805b-ce056d089132\" target=\"_top\" title=\"psysml:fbf2953e-726b-446c-805b-ce056d089132\" xlink:actuate=\"onRequest\" xlink:href=\"psysml:fbf2953e-726b-446c-805b-ce056d089132\" xlink:show=\"new\" xlink:title=\"psysml:fbf2953e-726b-446c-805b-ce056d089132\" xlink:type=\"simple\"><g id=\"elem_E3\"><rect fill=\"#FFFFFF\" height=\"48.2656\" id=\"E3\" style=\"stroke:#181818;stroke-width:0.5;\" width=\"70\" x=\"161\" y=\"264\"/><text fill=\"#000000\" font-family=\"sans-serif\" font-size=\"12\" font-style=\"italic\" lengthAdjust=\"spacing\" textLength=\"68\" x=\"162\" y=\"280.1387\">«part  def»</text><text fill=\"#000000\" font-family=\"sans-serif\" font-size=\"14\" lengthAdjust=\"spacing\" textLength=\"50\" x=\"171\" y=\"295.9639\">Vehicle</text><line style=\"stroke:#181818;stroke-width:0.5;\" x1=\"162\" x2=\"230\" y1=\"304.2656\" y2=\"304.2656\"/></g></a><!--MD5=[ebbe1d658d1005bcc118a6aa81145e00]\n",
       "class E4--><a href=\"psysml:fbf2953e-726b-446c-805b-ce056d089132\" target=\"_top\" title=\"psysml:fbf2953e-726b-446c-805b-ce056d089132\" xlink:actuate=\"onRequest\" xlink:href=\"psysml:fbf2953e-726b-446c-805b-ce056d089132\" xlink:show=\"new\" xlink:title=\"psysml:fbf2953e-726b-446c-805b-ce056d089132\" xlink:type=\"simple\"><g id=\"elem_E4\"><rect fill=\"#FFFFFF\" height=\"48.2656\" id=\"E4\" style=\"stroke:#181818;stroke-width:0.5;\" width=\"70\" x=\"56\" y=\"264\"/><text fill=\"#000000\" font-family=\"sans-serif\" font-size=\"12\" font-style=\"italic\" lengthAdjust=\"spacing\" textLength=\"68\" x=\"57\" y=\"280.1387\">«part  def»</text><text fill=\"#000000\" font-family=\"sans-serif\" font-size=\"14\" lengthAdjust=\"spacing\" textLength=\"50\" x=\"66\" y=\"295.9639\">Vehicle</text><line style=\"stroke:#181818;stroke-width:0.5;\" x1=\"57\" x2=\"125\" y1=\"304.2656\" y2=\"304.2656\"/></g></a><!--MD5=[60a26617385b1d2d0262a64233df1f8d]\n",
       "class E6--><a href=\"psysml:1df993ae-180d-40db-acc7-c592d2ed44d7\" target=\"_top\" title=\"psysml:1df993ae-180d-40db-acc7-c592d2ed44d7\" xlink:actuate=\"onRequest\" xlink:href=\"psysml:1df993ae-180d-40db-acc7-c592d2ed44d7\" xlink:show=\"new\" xlink:title=\"psysml:1df993ae-180d-40db-acc7-c592d2ed44d7\" xlink:type=\"simple\"><g id=\"elem_E6\"><rect fill=\"#FFFFFF\" height=\"48.2656\" id=\"E6\" rx=\"10\" ry=\"10\" style=\"stroke:#181818;stroke-width:0.5;\" width=\"121\" x=\"92.5\" y=\"100\"/><text fill=\"#000000\" font-family=\"sans-serif\" font-size=\"12\" font-style=\"italic\" lengthAdjust=\"spacing\" textLength=\"40\" x=\"133\" y=\"116.1387\">«part»</text><text fill=\"#000000\" font-family=\"sans-serif\" font-size=\"14\" lengthAdjust=\"spacing\" textLength=\"107\" x=\"95.5\" y=\"131.9639\">vehicle: Vehicle</text><line style=\"stroke:#181818;stroke-width:0.5;\" x1=\"93.5\" x2=\"212.5\" y1=\"140.2656\" y2=\"140.2656\"/></g></a><!--MD5=[1c62de2aa5b76f0fb657ff8443a1a700]\n",
       "link E5 to E4--><g id=\"link_E5_E4\"><a href=\"psysml:51954fa3-afe5-4e6a-ba60-ca054eed15e8\" target=\"_top\" title=\"psysml:51954fa3-afe5-4e6a-ba60-ca054eed15e8\" xlink:actuate=\"onRequest\" xlink:href=\"psysml:51954fa3-afe5-4e6a-ba60-ca054eed15e8\" xlink:show=\"new\" xlink:title=\"psysml:51954fa3-afe5-4e6a-ba60-ca054eed15e8\" xlink:type=\"simple\"><path d=\"M66.9503,172.4094 C67.038,172.8272 67.126,173.2465 67.2143,173.6672 C67.3909,174.5085 67.5687,175.3555 67.7475,176.2075 C73.47,203.4725 80.29,235.97 85.06,258.69 \" fill=\"none\" id=\"E5-to-E4\" style=\"stroke:#181818;stroke-width:1.0;stroke-dasharray:7.0,7.0;\"/><polygon fill=\"#181818\" points=\"86.12,263.77,88.1858,254.1402,85.0928,258.8766,80.3564,255.7837,86.12,263.77\" style=\"stroke:#181818;stroke-width:1.0;\"/><text fill=\"#000000\" font-family=\"sans-serif\" font-size=\"13\" lengthAdjust=\"spacing\" textLength=\"58\" x=\"76\" y=\"209.0669\">«import»</text></a></g><!--MD5=[f667431f98296947986a1a7595a31603]\n",
       "link E6 to E4--><g id=\"link_E6_E4\"><a href=\"psysml:bdaa5b20-7fbf-4739-8cf5-0e25c1337b74\" target=\"_top\" title=\"psysml:bdaa5b20-7fbf-4739-8cf5-0e25c1337b74\" xlink:actuate=\"onRequest\" xlink:href=\"psysml:bdaa5b20-7fbf-4739-8cf5-0e25c1337b74\" xlink:show=\"new\" xlink:title=\"psysml:bdaa5b20-7fbf-4739-8cf5-0e25c1337b74\" xlink:type=\"simple\"><path d=\"M150.11,148.12 C146.85,174.19 142,213 142,213 C142,213 130.42,229.81 118.29,247.4 \" fill=\"none\" id=\"E6-to-E4\" style=\"stroke:#181818;stroke-width:1.0;\"/><polygon fill=\"#FFFFFF\" points=\"106.86,263.99,111.8824,244.3743,123.4082,252.3214,106.86,263.99\" style=\"stroke:#181818;stroke-width:1.0;\"/><ellipse cx=\"116.7646\" cy=\"240.817\" fill=\"#181818\" rx=\"2\" ry=\"2\" style=\"stroke:#181818;stroke-width:1.0;\"/><ellipse cx=\"124.9973\" cy=\"246.4935\" fill=\"#181818\" rx=\"2\" ry=\"2\" style=\"stroke:#181818;stroke-width:1.0;\"/></a></g><!--MD5=[d09c039847d1fe4ec0f5507dee678bf7]\n",
       "@startuml\r\n",
       "skin sysmlbw\r\n",
       "skinparam monochrome true\r\n",
       "skinparam wrapWidth 300\r\n",
       "hide circle\r\n",
       "skinparam linetype polyline\r\n",
       "\r\n",
       "package \"AliasImport\" as E1  [[psysml:ea09c962-e470-4bd3-bf79-0fd6d16116e6 ]]  {\r\n",
       "package \"Definitions\" as E2  [[psysml:4e11052e-d911-402f-9b8e-d22451a94e61 ]]  {\r\n",
       "comp def \"Vehicle\" as E3  <<(T,blue) part  def>> [[psysml:fbf2953e-726b-446c-805b-ce056d089132 ]] {\r\n",
       "}\r\n",
       "comp def \"Vehicle\" as E4  <<(T,blue) part  def>> [[psysml:fbf2953e-726b-446c-805b-ce056d089132 ]] {\r\n",
       "}\r\n",
       "}\r\n",
       "package \"Usages\" as E5  [[psysml:665ec1bc-7429-419a-921f-0e5bfb2e86ee ]]  {\r\n",
       "comp usage \"vehicle: Vehicle  \" as E6  <<(T,blue) part>> [[psysml:1df993ae-180d-40db-acc7-c592d2ed44d7 ]] {\r\n",
       "}\r\n",
       "}\r\n",
       "}\r\n",
       "E5 ..> E4 [[psysml:51954fa3-afe5-4e6a-ba60-ca054eed15e8 ]] : <<import>>\r\n",
       "E6 - -:|> E4 [[psysml:bdaa5b20-7fbf-4739-8cf5-0e25c1337b74 ]] \r\n",
       "@enduml\r\n",
       "\n",
       "PlantUML version 1.2022.7(Mon Aug 22 17:01:30 UTC 2022)\n",
       "(EPL source distribution)\n",
       "Java Runtime: OpenJDK Runtime Environment\n",
       "JVM: OpenJDK 64-Bit Server VM\n",
       "Default Encoding: UTF-8\n",
       "Language: en\n",
       "Country: null\n",
       "--></g></svg>"
      ]
     },
     "execution_count": 10,
     "metadata": {},
     "output_type": "execute_result"
    }
   ],
   "source": [
    "%viz --style=\"POLYLINE\" --view=\"Tree\" \"AliasImport\""
   ]
  },
  {
   "cell_type": "code",
   "execution_count": 11,
   "id": "234fcc68",
   "metadata": {
    "execution": {
     "iopub.execute_input": "2024-12-16T03:26:45.462665Z",
     "iopub.status.busy": "2024-12-16T03:26:45.462420Z",
     "iopub.status.idle": "2024-12-16T03:26:45.469090Z",
     "shell.execute_reply": "2024-12-16T03:26:45.468911Z"
    }
   },
   "outputs": [
    {
     "data": {
      "image/svg+xml": [
       "<?xml version=\"1.0\" encoding=\"UTF-8\" standalone=\"no\"?><svg xmlns=\"http://www.w3.org/2000/svg\" xmlns:xlink=\"http://www.w3.org/1999/xlink\" contentStyleType=\"text/css\" height=\"10px\" preserveAspectRatio=\"none\" style=\"width:10px;height:10px;background:#FFFFFF;\" version=\"1.1\" viewBox=\"0 0 10 10\" width=\"10px\" zoomAndPan=\"magnify\"><defs/><g><!--MD5=[20bed88d98f2aabbefdc8661420d403d]\n",
       "@startuml\r\n",
       "skin sysmlbw\r\n",
       "skinparam monochrome true\r\n",
       "skinparam wrapWidth 300\r\n",
       "hide circle\r\n",
       "skinparam linetype polyline\r\n",
       "\r\n",
       "@enduml\r\n",
       "\n",
       "PlantUML version 1.2022.7(Mon Aug 22 17:01:30 UTC 2022)\n",
       "(EPL source distribution)\n",
       "Java Runtime: OpenJDK Runtime Environment\n",
       "JVM: OpenJDK 64-Bit Server VM\n",
       "Default Encoding: UTF-8\n",
       "Language: en\n",
       "Country: null\n",
       "--></g></svg>"
      ]
     },
     "execution_count": 11,
     "metadata": {},
     "output_type": "execute_result"
    }
   ],
   "source": [
    "%viz --style=\"POLYLINE\" --view=\"State\" \"AliasImport\""
   ]
  },
  {
   "cell_type": "code",
   "execution_count": 12,
   "id": "02d42e3d",
   "metadata": {
    "execution": {
     "iopub.execute_input": "2024-12-16T03:26:45.521755Z",
     "iopub.status.busy": "2024-12-16T03:26:45.521521Z",
     "iopub.status.idle": "2024-12-16T03:26:45.542045Z",
     "shell.execute_reply": "2024-12-16T03:26:45.541299Z"
    }
   },
   "outputs": [
    {
     "data": {
      "image/svg+xml": [
       "<?xml version=\"1.0\" encoding=\"UTF-8\" standalone=\"no\"?><svg xmlns=\"http://www.w3.org/2000/svg\" xmlns:xlink=\"http://www.w3.org/1999/xlink\" contentStyleType=\"text/css\" height=\"348px\" preserveAspectRatio=\"none\" style=\"width:297px;height:348px;background:#FFFFFF;\" version=\"1.1\" viewBox=\"0 0 297 348\" width=\"297px\" zoomAndPan=\"magnify\"><defs/><g><!--MD5=[fbc87193dbaf4d95561dea2c320d4a47]\n",
       "cluster E1--><g id=\"cluster_E1\"><a href=\"psysml:ea09c962-e470-4bd3-bf79-0fd6d16116e6\" target=\"_top\" title=\"psysml:ea09c962-e470-4bd3-bf79-0fd6d16116e6\" xlink:actuate=\"onRequest\" xlink:href=\"psysml:ea09c962-e470-4bd3-bf79-0fd6d16116e6\" xlink:show=\"new\" xlink:title=\"psysml:ea09c962-e470-4bd3-bf79-0fd6d16116e6\" xlink:type=\"simple\"><polygon fill=\"none\" points=\"16,6,101.8125,6,108.8125,28.2969,280,28.2969,280,341,16,341,16,6\" style=\"stroke:#000000;stroke-width:1.5;\"/><line style=\"stroke:#000000;stroke-width:1.5;\" x1=\"16\" x2=\"108.8125\" y1=\"28.2969\" y2=\"28.2969\"/><text fill=\"#000000\" font-family=\"sans-serif\" font-size=\"14\" font-weight=\"bold\" lengthAdjust=\"spacing\" textLength=\"79.8125\" x=\"20\" y=\"20.9951\">AliasImport</text></a></g><!--MD5=[e4f7fae6ed58524ba242bb0b0d3be6b7]\n",
       "cluster E2--><g id=\"cluster_E2\"><a href=\"psysml:4e11052e-d911-402f-9b8e-d22451a94e61\" target=\"_top\" title=\"psysml:4e11052e-d911-402f-9b8e-d22451a94e61\" xlink:actuate=\"onRequest\" xlink:href=\"psysml:4e11052e-d911-402f-9b8e-d22451a94e61\" xlink:show=\"new\" xlink:title=\"psysml:4e11052e-d911-402f-9b8e-d22451a94e61\" xlink:type=\"simple\"><polygon fill=\"none\" points=\"40,221,123.8125,221,130.8125,243.2969,256,243.2969,256,317,40,317,40,221\" style=\"stroke:#000000;stroke-width:1.5;\"/><line style=\"stroke:#000000;stroke-width:1.5;\" x1=\"40\" x2=\"130.8125\" y1=\"243.2969\" y2=\"243.2969\"/><text fill=\"#000000\" font-family=\"sans-serif\" font-size=\"14\" font-weight=\"bold\" lengthAdjust=\"spacing\" textLength=\"77.8125\" x=\"44\" y=\"235.9951\">Definitions</text></a></g><!--MD5=[de5ec2e2e8f62f467e546659f5068c88]\n",
       "cluster E5--><g id=\"cluster_E5\"><a href=\"psysml:665ec1bc-7429-419a-921f-0e5bfb2e86ee\" target=\"_top\" title=\"psysml:665ec1bc-7429-419a-921f-0e5bfb2e86ee\" xlink:actuate=\"onRequest\" xlink:href=\"psysml:665ec1bc-7429-419a-921f-0e5bfb2e86ee\" xlink:show=\"new\" xlink:title=\"psysml:665ec1bc-7429-419a-921f-0e5bfb2e86ee\" xlink:type=\"simple\"><polygon fill=\"none\" points=\"55,57,115.625,57,122.625,79.2969,240,79.2969,240,164,55,164,55,57\" style=\"stroke:#000000;stroke-width:1.5;\"/><line style=\"stroke:#000000;stroke-width:1.5;\" x1=\"55\" x2=\"122.625\" y1=\"79.2969\" y2=\"79.2969\"/><text fill=\"#000000\" font-family=\"sans-serif\" font-size=\"14\" font-weight=\"bold\" lengthAdjust=\"spacing\" textLength=\"54.625\" x=\"59\" y=\"71.9951\">Usages</text></a></g><g><a href=\"psysml:fbf2953e-726b-446c-805b-ce056d089132\" target=\"_top\" title=\"psysml:fbf2953e-726b-446c-805b-ce056d089132\" xlink:actuate=\"onRequest\" xlink:href=\"psysml:fbf2953e-726b-446c-805b-ce056d089132\" xlink:show=\"new\" xlink:title=\"psysml:fbf2953e-726b-446c-805b-ce056d089132\" xlink:type=\"simple\"><rect fill=\"#FFFFFF\" height=\"45.2656\" id=\"E3\" style=\"stroke:#383838;stroke-width:1.5;\" width=\"75\" x=\"165.5\" y=\"256\"/><text fill=\"#000000\" font-family=\"sans-serif\" font-size=\"12\" font-style=\"italic\" lengthAdjust=\"spacing\" textLength=\"68\" x=\"169\" y=\"272.1387\">«part  def»</text><text fill=\"#000000\" font-family=\"sans-serif\" font-size=\"14\" lengthAdjust=\"spacing\" textLength=\"50\" x=\"178\" y=\"287.9639\">Vehicle</text></a></g><g><a href=\"psysml:fbf2953e-726b-446c-805b-ce056d089132\" target=\"_top\" title=\"psysml:fbf2953e-726b-446c-805b-ce056d089132\" xlink:actuate=\"onRequest\" xlink:href=\"psysml:fbf2953e-726b-446c-805b-ce056d089132\" xlink:show=\"new\" xlink:title=\"psysml:fbf2953e-726b-446c-805b-ce056d089132\" xlink:type=\"simple\"><rect fill=\"#FFFFFF\" height=\"45.2656\" id=\"E4\" style=\"stroke:#383838;stroke-width:1.5;\" width=\"75\" x=\"55.5\" y=\"256\"/><text fill=\"#000000\" font-family=\"sans-serif\" font-size=\"12\" font-style=\"italic\" lengthAdjust=\"spacing\" textLength=\"68\" x=\"59\" y=\"272.1387\">«part  def»</text><text fill=\"#000000\" font-family=\"sans-serif\" font-size=\"14\" lengthAdjust=\"spacing\" textLength=\"50\" x=\"68\" y=\"287.9639\">Vehicle</text></a></g><g><a href=\"psysml:1df993ae-180d-40db-acc7-c592d2ed44d7\" target=\"_top\" title=\"psysml:1df993ae-180d-40db-acc7-c592d2ed44d7\" xlink:actuate=\"onRequest\" xlink:href=\"psysml:1df993ae-180d-40db-acc7-c592d2ed44d7\" xlink:show=\"new\" xlink:title=\"psysml:1df993ae-180d-40db-acc7-c592d2ed44d7\" xlink:type=\"simple\"><rect fill=\"#FFFFFF\" height=\"40\" id=\"E6\" rx=\"10\" ry=\"10\" style=\"stroke:#383838;stroke-width:1.5;\" width=\"118\" x=\"98\" y=\"100\"/><text fill=\"#000000\" font-family=\"sans-serif\" font-size=\"14\" lengthAdjust=\"spacing\" textLength=\"107\" x=\"103.5\" y=\"117.9951\">vehicle: Vehicle</text></a></g><!--MD5=[1c62de2aa5b76f0fb657ff8443a1a700]\n",
       "link E5 to E4--><g id=\"link_E5_E4\"><a href=\"psysml:51954fa3-afe5-4e6a-ba60-ca054eed15e8\" target=\"_top\" title=\"psysml:51954fa3-afe5-4e6a-ba60-ca054eed15e8\" xlink:actuate=\"onRequest\" xlink:href=\"psysml:51954fa3-afe5-4e6a-ba60-ca054eed15e8\" xlink:show=\"new\" xlink:title=\"psysml:51954fa3-afe5-4e6a-ba60-ca054eed15e8\" xlink:type=\"simple\"><path d=\"M69.7262,164.4668 C69.7512,164.6282 69.7762,164.7896 69.8011,164.951 C69.8511,165.2737 69.901,165.5962 69.9509,165.9185 C70.0507,166.5632 70.1503,167.2069 70.2497,167.849 C70.4485,169.1334 70.6463,170.4116 70.8424,171.6788 C71.2347,174.2132 71.6201,176.7035 71.9927,179.1106 C72.7379,183.9248 73.4315,188.4061 74.0252,192.2416 C75.2125,199.9125 76,205 76,205 C76,205 81.91,230.19 86.76,250.88 \" fill=\"none\" id=\"E5-to-E4\" style=\"stroke:#181818;stroke-width:1.0;stroke-dasharray:7.0,7.0;\"/><polygon fill=\"#181818\" points=\"87.9,255.75,89.7386,246.0743,86.758,250.8822,81.9501,247.9015,87.9,255.75\" style=\"stroke:#181818;stroke-width:1.0;\"/><text fill=\"#000000\" font-family=\"sans-serif\" font-size=\"13\" lengthAdjust=\"spacing\" textLength=\"58\" x=\"77\" y=\"201.0669\">«import»</text></a></g><!--MD5=[f667431f98296947986a1a7595a31603]\n",
       "link E6 to E4--><g id=\"link_E6_E4\"><a href=\"psysml:bdaa5b20-7fbf-4739-8cf5-0e25c1337b74\" target=\"_top\" title=\"psysml:bdaa5b20-7fbf-4739-8cf5-0e25c1337b74\" xlink:actuate=\"onRequest\" xlink:href=\"psysml:bdaa5b20-7fbf-4739-8cf5-0e25c1337b74\" xlink:show=\"new\" xlink:title=\"psysml:bdaa5b20-7fbf-4739-8cf5-0e25c1337b74\" xlink:type=\"simple\"><path d=\"M153.14,140.06 C148.13,164.84 140,205 140,205 C140,205 129.28,221.53 118.08,238.81 \" fill=\"none\" id=\"E6-to-E4\" style=\"stroke:#181818;stroke-width:1.0;\"/><polygon fill=\"#FFFFFF\" points=\"107.1,255.75,111.5608,235.999,123.3086,243.6141,107.1,255.75\" style=\"stroke:#181818;stroke-width:1.0;\"/><ellipse cx=\"116.3395\" cy=\"232.3039\" fill=\"#181818\" rx=\"2\" ry=\"2\" style=\"stroke:#181818;stroke-width:1.0;\"/><ellipse cx=\"124.7308\" cy=\"237.7432\" fill=\"#181818\" rx=\"2\" ry=\"2\" style=\"stroke:#181818;stroke-width:1.0;\"/></a></g><!--MD5=[2ed34afbf2f9a14e36aece6ae8b36992]\n",
       "@startuml\r\n",
       "skin sysmlbw\r\n",
       "skinparam monochrome true\r\n",
       "skinparam wrapWidth 300\r\n",
       "hide circle\r\n",
       "skinparam linetype polyline\r\n",
       "skinparam ranksep 10\r\n",
       "skinparam rectangle {\r\n",
       " backgroundColor<<block>> LightGreen\r\n",
       "}\r\n",
       "\r\n",
       "package \"AliasImport\" as E1  [[psysml:ea09c962-e470-4bd3-bf79-0fd6d16116e6 ]]  {\r\n",
       "package \"Definitions\" as E2  [[psysml:4e11052e-d911-402f-9b8e-d22451a94e61 ]]  {\r\n",
       "rec def \"Vehicle\" as E3  <<(T,blue) part  def>> [[psysml:fbf2953e-726b-446c-805b-ce056d089132 ]] {\r\n",
       "}\r\n",
       "rec def \"Vehicle\" as E4  <<(T,blue) part  def>> [[psysml:fbf2953e-726b-446c-805b-ce056d089132 ]] {\r\n",
       "}\r\n",
       "}\r\n",
       "package \"Usages\" as E5  [[psysml:665ec1bc-7429-419a-921f-0e5bfb2e86ee ]]  {\r\n",
       "rec usage \"vehicle: Vehicle\" as E6 [[psysml:1df993ae-180d-40db-acc7-c592d2ed44d7 ]] {\r\n",
       "}\r\n",
       "}\r\n",
       "}\r\n",
       "E5 ..> E4 [[psysml:51954fa3-afe5-4e6a-ba60-ca054eed15e8 ]] : <<import>>\r\n",
       "E6 - -:|> E4 [[psysml:bdaa5b20-7fbf-4739-8cf5-0e25c1337b74 ]] \r\n",
       "@enduml\r\n",
       "\n",
       "PlantUML version 1.2022.7(Mon Aug 22 17:01:30 UTC 2022)\n",
       "(EPL source distribution)\n",
       "Java Runtime: OpenJDK Runtime Environment\n",
       "JVM: OpenJDK 64-Bit Server VM\n",
       "Default Encoding: UTF-8\n",
       "Language: en\n",
       "Country: null\n",
       "--></g></svg>"
      ]
     },
     "execution_count": 12,
     "metadata": {},
     "output_type": "execute_result"
    }
   ],
   "source": [
    "%viz --style=\"POLYLINE\" --view=\"Interconnection\" \"AliasImport\""
   ]
  },
  {
   "cell_type": "code",
   "execution_count": 13,
   "id": "b3c6c120",
   "metadata": {
    "execution": {
     "iopub.execute_input": "2024-12-16T03:26:45.593657Z",
     "iopub.status.busy": "2024-12-16T03:26:45.593429Z",
     "iopub.status.idle": "2024-12-16T03:26:45.599721Z",
     "shell.execute_reply": "2024-12-16T03:26:45.599530Z"
    }
   },
   "outputs": [
    {
     "data": {
      "image/svg+xml": [
       "<?xml version=\"1.0\" encoding=\"UTF-8\" standalone=\"no\"?><svg xmlns=\"http://www.w3.org/2000/svg\" xmlns:xlink=\"http://www.w3.org/1999/xlink\" contentStyleType=\"text/css\" height=\"10px\" preserveAspectRatio=\"none\" style=\"width:10px;height:10px;background:#FFFFFF;\" version=\"1.1\" viewBox=\"0 0 10 10\" width=\"10px\" zoomAndPan=\"magnify\"><defs/><g><!--MD5=[ff8e7c24accf200c4355ceeab022c402]\n",
       "@startuml\r\n",
       "skin sysmlbw\r\n",
       "skinparam monochrome true\r\n",
       "skinparam wrapWidth 300\r\n",
       "hide circle\r\n",
       "skinparam linetype polyline\r\n",
       "skinparam ranksep 8\r\n",
       "\r\n",
       "@enduml\r\n",
       "\n",
       "PlantUML version 1.2022.7(Mon Aug 22 17:01:30 UTC 2022)\n",
       "(EPL source distribution)\n",
       "Java Runtime: OpenJDK Runtime Environment\n",
       "JVM: OpenJDK 64-Bit Server VM\n",
       "Default Encoding: UTF-8\n",
       "Language: en\n",
       "Country: null\n",
       "--></g></svg>"
      ]
     },
     "execution_count": 13,
     "metadata": {},
     "output_type": "execute_result"
    }
   ],
   "source": [
    "%viz --style=\"POLYLINE\" --view=\"Action\" \"AliasImport\""
   ]
  },
  {
   "cell_type": "code",
   "execution_count": 14,
   "id": "aa28a758",
   "metadata": {
    "execution": {
     "iopub.execute_input": "2024-12-16T03:26:45.656251Z",
     "iopub.status.busy": "2024-12-16T03:26:45.656033Z",
     "iopub.status.idle": "2024-12-16T03:26:45.662246Z",
     "shell.execute_reply": "2024-12-16T03:26:45.662023Z"
    }
   },
   "outputs": [
    {
     "data": {
      "image/svg+xml": [
       "<?xml version=\"1.0\" encoding=\"UTF-8\" standalone=\"no\"?><svg xmlns=\"http://www.w3.org/2000/svg\" xmlns:xlink=\"http://www.w3.org/1999/xlink\" contentStyleType=\"text/css\" height=\"10px\" preserveAspectRatio=\"none\" style=\"width:10px;height:10px;background:#FFFFFF;\" version=\"1.1\" viewBox=\"0 0 10 10\" width=\"10px\" zoomAndPan=\"magnify\"><defs/><g><!--MD5=[efefafbf36b45173e0355713d9054f90]\n",
       "@startuml\r\n",
       "skin sysmlbw\r\n",
       "skinparam monochrome true\r\n",
       "skinparam wrapWidth 300\r\n",
       "hide circle\r\n",
       "skinparam linetype polyline\r\n",
       "skinparam roundcorner 20\r\n",
       "skinparam BoxPadding 20\r\n",
       "skinparam SequenceBoxBackgroundColor #white\r\n",
       "skinparam style strictuml\r\n",
       "skinparam maxMessageSize 100\r\n",
       "\r\n",
       "@enduml\r\n",
       "\n",
       "PlantUML version 1.2022.7(Mon Aug 22 17:01:30 UTC 2022)\n",
       "(EPL source distribution)\n",
       "Java Runtime: OpenJDK Runtime Environment\n",
       "JVM: OpenJDK 64-Bit Server VM\n",
       "Default Encoding: UTF-8\n",
       "Language: en\n",
       "Country: null\n",
       "--></g></svg>"
      ]
     },
     "execution_count": 14,
     "metadata": {},
     "output_type": "execute_result"
    }
   ],
   "source": [
    "%viz --style=\"POLYLINE\" --view=\"Sequence\" \"AliasImport\""
   ]
  },
  {
   "cell_type": "code",
   "execution_count": 15,
   "id": "7d0bbcd5",
   "metadata": {
    "execution": {
     "iopub.execute_input": "2024-12-16T03:26:45.714618Z",
     "iopub.status.busy": "2024-12-16T03:26:45.714301Z",
     "iopub.status.idle": "2024-12-16T03:26:45.739046Z",
     "shell.execute_reply": "2024-12-16T03:26:45.738234Z"
    }
   },
   "outputs": [
    {
     "data": {
      "image/svg+xml": [
       "<?xml version=\"1.0\" encoding=\"UTF-8\" standalone=\"no\"?><svg xmlns=\"http://www.w3.org/2000/svg\" xmlns:xlink=\"http://www.w3.org/1999/xlink\" contentStyleType=\"text/css\" height=\"359px\" preserveAspectRatio=\"none\" style=\"width:288px;height:359px;background:#FFFFFF;\" version=\"1.1\" viewBox=\"0 0 288 359\" width=\"288px\" zoomAndPan=\"magnify\"><defs/><g><!--MD5=[fbc87193dbaf4d95561dea2c320d4a47]\n",
       "cluster E1--><g id=\"cluster_E1\"><a href=\"psysml:ea09c962-e470-4bd3-bf79-0fd6d16116e6\" target=\"_top\" title=\"psysml:ea09c962-e470-4bd3-bf79-0fd6d16116e6\" xlink:actuate=\"onRequest\" xlink:href=\"psysml:ea09c962-e470-4bd3-bf79-0fd6d16116e6\" xlink:show=\"new\" xlink:title=\"psysml:ea09c962-e470-4bd3-bf79-0fd6d16116e6\" xlink:type=\"simple\"><polygon fill=\"none\" points=\"16,6,101.8125,6,108.8125,28.2969,271,28.2969,271,352,16,352,16,6\" style=\"stroke:#000000;stroke-width:1.5;\"/><line style=\"stroke:#000000;stroke-width:1.5;\" x1=\"16\" x2=\"108.8125\" y1=\"28.2969\" y2=\"28.2969\"/><text fill=\"#000000\" font-family=\"sans-serif\" font-size=\"14\" font-weight=\"bold\" lengthAdjust=\"spacing\" textLength=\"79.8125\" x=\"20\" y=\"20.9951\">AliasImport</text></a></g><!--MD5=[e4f7fae6ed58524ba242bb0b0d3be6b7]\n",
       "cluster E2--><g id=\"cluster_E2\"><a href=\"psysml:4e11052e-d911-402f-9b8e-d22451a94e61\" target=\"_top\" title=\"psysml:4e11052e-d911-402f-9b8e-d22451a94e61\" xlink:actuate=\"onRequest\" xlink:href=\"psysml:4e11052e-d911-402f-9b8e-d22451a94e61\" xlink:show=\"new\" xlink:title=\"psysml:4e11052e-d911-402f-9b8e-d22451a94e61\" xlink:type=\"simple\"><polygon fill=\"none\" points=\"40,229,123.8125,229,130.8125,251.2969,247,251.2969,247,328,40,328,40,229\" style=\"stroke:#000000;stroke-width:1.5;\"/><line style=\"stroke:#000000;stroke-width:1.5;\" x1=\"40\" x2=\"130.8125\" y1=\"251.2969\" y2=\"251.2969\"/><text fill=\"#000000\" font-family=\"sans-serif\" font-size=\"14\" font-weight=\"bold\" lengthAdjust=\"spacing\" textLength=\"77.8125\" x=\"44\" y=\"243.9951\">Definitions</text></a></g><!--MD5=[de5ec2e2e8f62f467e546659f5068c88]\n",
       "cluster E5--><g id=\"cluster_E5\"><a href=\"psysml:665ec1bc-7429-419a-921f-0e5bfb2e86ee\" target=\"_top\" title=\"psysml:665ec1bc-7429-419a-921f-0e5bfb2e86ee\" xlink:actuate=\"onRequest\" xlink:href=\"psysml:665ec1bc-7429-419a-921f-0e5bfb2e86ee\" xlink:show=\"new\" xlink:title=\"psysml:665ec1bc-7429-419a-921f-0e5bfb2e86ee\" xlink:type=\"simple\"><polygon fill=\"none\" points=\"49,57,109.625,57,116.625,79.2969,238,79.2969,238,172,49,172,49,57\" style=\"stroke:#000000;stroke-width:1.5;\"/><line style=\"stroke:#000000;stroke-width:1.5;\" x1=\"49\" x2=\"116.625\" y1=\"79.2969\" y2=\"79.2969\"/><text fill=\"#000000\" font-family=\"sans-serif\" font-size=\"14\" font-weight=\"bold\" lengthAdjust=\"spacing\" textLength=\"54.625\" x=\"53\" y=\"71.9951\">Usages</text></a></g><!--MD5=[09b614a08d8cba4a07c9adeb5e0fee81]\n",
       "class E3--><a href=\"psysml:fbf2953e-726b-446c-805b-ce056d089132\" target=\"_top\" title=\"psysml:fbf2953e-726b-446c-805b-ce056d089132\" xlink:actuate=\"onRequest\" xlink:href=\"psysml:fbf2953e-726b-446c-805b-ce056d089132\" xlink:show=\"new\" xlink:title=\"psysml:fbf2953e-726b-446c-805b-ce056d089132\" xlink:type=\"simple\"><g id=\"elem_E3\"><rect fill=\"#FFFFFF\" height=\"48.2656\" id=\"E3\" style=\"stroke:#181818;stroke-width:0.5;\" width=\"70\" x=\"161\" y=\"264\"/><text fill=\"#000000\" font-family=\"sans-serif\" font-size=\"12\" font-style=\"italic\" lengthAdjust=\"spacing\" textLength=\"68\" x=\"162\" y=\"280.1387\">«part  def»</text><text fill=\"#000000\" font-family=\"sans-serif\" font-size=\"14\" lengthAdjust=\"spacing\" textLength=\"50\" x=\"171\" y=\"295.9639\">Vehicle</text><line style=\"stroke:#181818;stroke-width:0.5;\" x1=\"162\" x2=\"230\" y1=\"304.2656\" y2=\"304.2656\"/></g></a><!--MD5=[ebbe1d658d1005bcc118a6aa81145e00]\n",
       "class E4--><a href=\"psysml:fbf2953e-726b-446c-805b-ce056d089132\" target=\"_top\" title=\"psysml:fbf2953e-726b-446c-805b-ce056d089132\" xlink:actuate=\"onRequest\" xlink:href=\"psysml:fbf2953e-726b-446c-805b-ce056d089132\" xlink:show=\"new\" xlink:title=\"psysml:fbf2953e-726b-446c-805b-ce056d089132\" xlink:type=\"simple\"><g id=\"elem_E4\"><rect fill=\"#FFFFFF\" height=\"48.2656\" id=\"E4\" style=\"stroke:#181818;stroke-width:0.5;\" width=\"70\" x=\"56\" y=\"264\"/><text fill=\"#000000\" font-family=\"sans-serif\" font-size=\"12\" font-style=\"italic\" lengthAdjust=\"spacing\" textLength=\"68\" x=\"57\" y=\"280.1387\">«part  def»</text><text fill=\"#000000\" font-family=\"sans-serif\" font-size=\"14\" lengthAdjust=\"spacing\" textLength=\"50\" x=\"66\" y=\"295.9639\">Vehicle</text><line style=\"stroke:#181818;stroke-width:0.5;\" x1=\"57\" x2=\"125\" y1=\"304.2656\" y2=\"304.2656\"/></g></a><!--MD5=[60a26617385b1d2d0262a64233df1f8d]\n",
       "class E6--><a href=\"psysml:1df993ae-180d-40db-acc7-c592d2ed44d7\" target=\"_top\" title=\"psysml:1df993ae-180d-40db-acc7-c592d2ed44d7\" xlink:actuate=\"onRequest\" xlink:href=\"psysml:1df993ae-180d-40db-acc7-c592d2ed44d7\" xlink:show=\"new\" xlink:title=\"psysml:1df993ae-180d-40db-acc7-c592d2ed44d7\" xlink:type=\"simple\"><g id=\"elem_E6\"><rect fill=\"#FFFFFF\" height=\"48.2656\" id=\"E6\" rx=\"10\" ry=\"10\" style=\"stroke:#181818;stroke-width:0.5;\" width=\"121\" x=\"92.5\" y=\"100\"/><text fill=\"#000000\" font-family=\"sans-serif\" font-size=\"12\" font-style=\"italic\" lengthAdjust=\"spacing\" textLength=\"40\" x=\"133\" y=\"116.1387\">«part»</text><text fill=\"#000000\" font-family=\"sans-serif\" font-size=\"14\" lengthAdjust=\"spacing\" textLength=\"107\" x=\"95.5\" y=\"131.9639\">vehicle: Vehicle</text><line style=\"stroke:#181818;stroke-width:0.5;\" x1=\"93.5\" x2=\"212.5\" y1=\"140.2656\" y2=\"140.2656\"/></g></a><!--MD5=[1c62de2aa5b76f0fb657ff8443a1a700]\n",
       "link E5 to E4--><g id=\"link_E5_E4\"><a href=\"psysml:51954fa3-afe5-4e6a-ba60-ca054eed15e8\" target=\"_top\" title=\"psysml:51954fa3-afe5-4e6a-ba60-ca054eed15e8\" xlink:actuate=\"onRequest\" xlink:href=\"psysml:51954fa3-afe5-4e6a-ba60-ca054eed15e8\" xlink:show=\"new\" xlink:title=\"psysml:51954fa3-afe5-4e6a-ba60-ca054eed15e8\" xlink:type=\"simple\"><path d=\"M66.9503,172.4094 C67.038,172.8272 67.126,173.2465 67.2143,173.6672 C67.3909,174.5085 67.5687,175.3555 67.7475,176.2075 C73.47,203.4725 80.29,235.97 85.06,258.69 \" fill=\"none\" id=\"E5-to-E4\" style=\"stroke:#181818;stroke-width:1.0;stroke-dasharray:7.0,7.0;\"/><polygon fill=\"#181818\" points=\"86.12,263.77,88.1858,254.1402,85.0928,258.8766,80.3564,255.7837,86.12,263.77\" style=\"stroke:#181818;stroke-width:1.0;\"/><text fill=\"#000000\" font-family=\"sans-serif\" font-size=\"13\" lengthAdjust=\"spacing\" textLength=\"58\" x=\"76\" y=\"209.0669\">«import»</text></a></g><!--MD5=[f667431f98296947986a1a7595a31603]\n",
       "link E6 to E4--><g id=\"link_E6_E4\"><a href=\"psysml:bdaa5b20-7fbf-4739-8cf5-0e25c1337b74\" target=\"_top\" title=\"psysml:bdaa5b20-7fbf-4739-8cf5-0e25c1337b74\" xlink:actuate=\"onRequest\" xlink:href=\"psysml:bdaa5b20-7fbf-4739-8cf5-0e25c1337b74\" xlink:show=\"new\" xlink:title=\"psysml:bdaa5b20-7fbf-4739-8cf5-0e25c1337b74\" xlink:type=\"simple\"><path d=\"M150.11,148.12 C146.85,174.19 142,213 142,213 C142,213 130.42,229.81 118.29,247.4 \" fill=\"none\" id=\"E6-to-E4\" style=\"stroke:#181818;stroke-width:1.0;\"/><polygon fill=\"#FFFFFF\" points=\"106.86,263.99,111.8824,244.3743,123.4082,252.3214,106.86,263.99\" style=\"stroke:#181818;stroke-width:1.0;\"/><ellipse cx=\"116.7646\" cy=\"240.817\" fill=\"#181818\" rx=\"2\" ry=\"2\" style=\"stroke:#181818;stroke-width:1.0;\"/><ellipse cx=\"124.9973\" cy=\"246.4935\" fill=\"#181818\" rx=\"2\" ry=\"2\" style=\"stroke:#181818;stroke-width:1.0;\"/></a></g><!--MD5=[d09c039847d1fe4ec0f5507dee678bf7]\n",
       "@startuml\r\n",
       "skin sysmlbw\r\n",
       "skinparam monochrome true\r\n",
       "skinparam wrapWidth 300\r\n",
       "hide circle\r\n",
       "skinparam linetype polyline\r\n",
       "\r\n",
       "package \"AliasImport\" as E1  [[psysml:ea09c962-e470-4bd3-bf79-0fd6d16116e6 ]]  {\r\n",
       "package \"Definitions\" as E2  [[psysml:4e11052e-d911-402f-9b8e-d22451a94e61 ]]  {\r\n",
       "comp def \"Vehicle\" as E3  <<(T,blue) part  def>> [[psysml:fbf2953e-726b-446c-805b-ce056d089132 ]] {\r\n",
       "}\r\n",
       "comp def \"Vehicle\" as E4  <<(T,blue) part  def>> [[psysml:fbf2953e-726b-446c-805b-ce056d089132 ]] {\r\n",
       "}\r\n",
       "}\r\n",
       "package \"Usages\" as E5  [[psysml:665ec1bc-7429-419a-921f-0e5bfb2e86ee ]]  {\r\n",
       "comp usage \"vehicle: Vehicle  \" as E6  <<(T,blue) part>> [[psysml:1df993ae-180d-40db-acc7-c592d2ed44d7 ]] {\r\n",
       "}\r\n",
       "}\r\n",
       "}\r\n",
       "E5 ..> E4 [[psysml:51954fa3-afe5-4e6a-ba60-ca054eed15e8 ]] : <<import>>\r\n",
       "E6 - -:|> E4 [[psysml:bdaa5b20-7fbf-4739-8cf5-0e25c1337b74 ]] \r\n",
       "@enduml\r\n",
       "\n",
       "PlantUML version 1.2022.7(Mon Aug 22 17:01:30 UTC 2022)\n",
       "(EPL source distribution)\n",
       "Java Runtime: OpenJDK Runtime Environment\n",
       "JVM: OpenJDK 64-Bit Server VM\n",
       "Default Encoding: UTF-8\n",
       "Language: en\n",
       "Country: null\n",
       "--></g></svg>"
      ]
     },
     "execution_count": 15,
     "metadata": {},
     "output_type": "execute_result"
    }
   ],
   "source": [
    "%viz --style=\"POLYLINE\" --view=\"MIXED\" \"AliasImport\""
   ]
  },
  {
   "cell_type": "code",
   "execution_count": 16,
   "id": "7f3a45d4",
   "metadata": {
    "execution": {
     "iopub.execute_input": "2024-12-16T03:26:45.791875Z",
     "iopub.status.busy": "2024-12-16T03:26:45.791638Z",
     "iopub.status.idle": "2024-12-16T03:26:45.814133Z",
     "shell.execute_reply": "2024-12-16T03:26:45.813940Z"
    }
   },
   "outputs": [
    {
     "data": {
      "image/svg+xml": [
       "<?xml version=\"1.0\" encoding=\"UTF-8\" standalone=\"no\"?><svg xmlns=\"http://www.w3.org/2000/svg\" xmlns:xlink=\"http://www.w3.org/1999/xlink\" contentStyleType=\"text/css\" height=\"262px\" preserveAspectRatio=\"none\" style=\"width:460px;height:262px;background:#FFFFFF;\" version=\"1.1\" viewBox=\"0 0 460 262\" width=\"460px\" zoomAndPan=\"magnify\"><defs/><g><!--MD5=[fbc87193dbaf4d95561dea2c320d4a47]\n",
       "cluster E1--><g id=\"cluster_E1\"><a href=\"psysml:ea09c962-e470-4bd3-bf79-0fd6d16116e6\" target=\"_top\" title=\"psysml:ea09c962-e470-4bd3-bf79-0fd6d16116e6\" xlink:actuate=\"onRequest\" xlink:href=\"psysml:ea09c962-e470-4bd3-bf79-0fd6d16116e6\" xlink:show=\"new\" xlink:title=\"psysml:ea09c962-e470-4bd3-bf79-0fd6d16116e6\" xlink:type=\"simple\"><polygon fill=\"none\" points=\"16,6,101.8125,6,108.8125,28.2969,443,28.2969,443,255,16,255,16,6\" style=\"stroke:#000000;stroke-width:1.5;\"/><line style=\"stroke:#000000;stroke-width:1.5;\" x1=\"16\" x2=\"108.8125\" y1=\"28.2969\" y2=\"28.2969\"/><text fill=\"#000000\" font-family=\"sans-serif\" font-size=\"14\" font-weight=\"bold\" lengthAdjust=\"spacing\" textLength=\"79.8125\" x=\"20\" y=\"20.9951\">AliasImport</text></a></g><!--MD5=[e4f7fae6ed58524ba242bb0b0d3be6b7]\n",
       "cluster E2--><g id=\"cluster_E2\"><a href=\"psysml:4e11052e-d911-402f-9b8e-d22451a94e61\" target=\"_top\" title=\"psysml:4e11052e-d911-402f-9b8e-d22451a94e61\" xlink:actuate=\"onRequest\" xlink:href=\"psysml:4e11052e-d911-402f-9b8e-d22451a94e61\" xlink:show=\"new\" xlink:title=\"psysml:4e11052e-d911-402f-9b8e-d22451a94e61\" xlink:type=\"simple\"><polygon fill=\"none\" points=\"317,49,400.8125,49,407.8125,71.2969,419,71.2969,419,231,317,231,317,49\" style=\"stroke:#000000;stroke-width:1.5;\"/><line style=\"stroke:#000000;stroke-width:1.5;\" x1=\"317\" x2=\"407.8125\" y1=\"71.2969\" y2=\"71.2969\"/><text fill=\"#000000\" font-family=\"sans-serif\" font-size=\"14\" font-weight=\"bold\" lengthAdjust=\"spacing\" textLength=\"77.8125\" x=\"321\" y=\"63.9951\">Definitions</text></a></g><!--MD5=[de5ec2e2e8f62f467e546659f5068c88]\n",
       "cluster E5--><g id=\"cluster_E5\"><a href=\"psysml:665ec1bc-7429-419a-921f-0e5bfb2e86ee\" target=\"_top\" title=\"psysml:665ec1bc-7429-419a-921f-0e5bfb2e86ee\" xlink:actuate=\"onRequest\" xlink:href=\"psysml:665ec1bc-7429-419a-921f-0e5bfb2e86ee\" xlink:show=\"new\" xlink:title=\"psysml:665ec1bc-7429-419a-921f-0e5bfb2e86ee\" xlink:type=\"simple\"><polygon fill=\"none\" points=\"48,81,108.625,81,115.625,103.2969,217,103.2969,217,215,48,215,48,81\" style=\"stroke:#000000;stroke-width:1.5;\"/><line style=\"stroke:#000000;stroke-width:1.5;\" x1=\"48\" x2=\"115.625\" y1=\"103.2969\" y2=\"103.2969\"/><text fill=\"#000000\" font-family=\"sans-serif\" font-size=\"14\" font-weight=\"bold\" lengthAdjust=\"spacing\" textLength=\"54.625\" x=\"52\" y=\"95.9951\">Usages</text></a></g><!--MD5=[09b614a08d8cba4a07c9adeb5e0fee81]\n",
       "class E3--><a href=\"psysml:fbf2953e-726b-446c-805b-ce056d089132\" target=\"_top\" title=\"psysml:fbf2953e-726b-446c-805b-ce056d089132\" xlink:actuate=\"onRequest\" xlink:href=\"psysml:fbf2953e-726b-446c-805b-ce056d089132\" xlink:show=\"new\" xlink:title=\"psysml:fbf2953e-726b-446c-805b-ce056d089132\" xlink:type=\"simple\"><g id=\"elem_E3\"><rect fill=\"#FFFFFF\" height=\"48.2656\" id=\"E3\" style=\"stroke:#181818;stroke-width:0.5;\" width=\"70\" x=\"333\" y=\"84\"/><text fill=\"#000000\" font-family=\"sans-serif\" font-size=\"12\" font-style=\"italic\" lengthAdjust=\"spacing\" textLength=\"68\" x=\"334\" y=\"100.1387\">«part  def»</text><text fill=\"#000000\" font-family=\"sans-serif\" font-size=\"14\" lengthAdjust=\"spacing\" textLength=\"50\" x=\"343\" y=\"115.9639\">Vehicle</text><line style=\"stroke:#181818;stroke-width:0.5;\" x1=\"334\" x2=\"402\" y1=\"124.2656\" y2=\"124.2656\"/></g></a><!--MD5=[ebbe1d658d1005bcc118a6aa81145e00]\n",
       "class E4--><a href=\"psysml:fbf2953e-726b-446c-805b-ce056d089132\" target=\"_top\" title=\"psysml:fbf2953e-726b-446c-805b-ce056d089132\" xlink:actuate=\"onRequest\" xlink:href=\"psysml:fbf2953e-726b-446c-805b-ce056d089132\" xlink:show=\"new\" xlink:title=\"psysml:fbf2953e-726b-446c-805b-ce056d089132\" xlink:type=\"simple\"><g id=\"elem_E4\"><rect fill=\"#FFFFFF\" height=\"48.2656\" id=\"E4\" style=\"stroke:#181818;stroke-width:0.5;\" width=\"70\" x=\"333\" y=\"167\"/><text fill=\"#000000\" font-family=\"sans-serif\" font-size=\"12\" font-style=\"italic\" lengthAdjust=\"spacing\" textLength=\"68\" x=\"334\" y=\"183.1387\">«part  def»</text><text fill=\"#000000\" font-family=\"sans-serif\" font-size=\"14\" lengthAdjust=\"spacing\" textLength=\"50\" x=\"343\" y=\"198.9639\">Vehicle</text><line style=\"stroke:#181818;stroke-width:0.5;\" x1=\"334\" x2=\"402\" y1=\"207.2656\" y2=\"207.2656\"/></g></a><!--MD5=[60a26617385b1d2d0262a64233df1f8d]\n",
       "class E6--><a href=\"psysml:1df993ae-180d-40db-acc7-c592d2ed44d7\" target=\"_top\" title=\"psysml:1df993ae-180d-40db-acc7-c592d2ed44d7\" xlink:actuate=\"onRequest\" xlink:href=\"psysml:1df993ae-180d-40db-acc7-c592d2ed44d7\" xlink:show=\"new\" xlink:title=\"psysml:1df993ae-180d-40db-acc7-c592d2ed44d7\" xlink:type=\"simple\"><g id=\"elem_E6\"><rect fill=\"#FFFFFF\" height=\"48.2656\" id=\"E6\" rx=\"10\" ry=\"10\" style=\"stroke:#181818;stroke-width:0.5;\" width=\"121\" x=\"72\" y=\"124\"/><text fill=\"#000000\" font-family=\"sans-serif\" font-size=\"12\" font-style=\"italic\" lengthAdjust=\"spacing\" textLength=\"40\" x=\"112.5\" y=\"140.1387\">«part»</text><text fill=\"#000000\" font-family=\"sans-serif\" font-size=\"14\" lengthAdjust=\"spacing\" textLength=\"107\" x=\"75\" y=\"155.9639\">vehicle: Vehicle</text><line style=\"stroke:#181818;stroke-width:0.5;\" x1=\"73\" x2=\"192\" y1=\"164.2656\" y2=\"164.2656\"/></g></a><!--MD5=[1c62de2aa5b76f0fb657ff8443a1a700]\n",
       "link E5 to E4--><g id=\"link_E5_E4\"><a href=\"psysml:51954fa3-afe5-4e6a-ba60-ca054eed15e8\" target=\"_top\" title=\"psysml:51954fa3-afe5-4e6a-ba60-ca054eed15e8\" xlink:actuate=\"onRequest\" xlink:href=\"psysml:51954fa3-afe5-4e6a-ba60-ca054eed15e8\" xlink:show=\"new\" xlink:title=\"psysml:51954fa3-afe5-4e6a-ba60-ca054eed15e8\" xlink:type=\"simple\"><path d=\"M217.2679,201.2623 C217.5891,201.2403 217.9107,201.2183 218.2326,201.1962 C219.5204,201.1079 220.8137,201.0193 222.1121,200.9303 C227.3053,200.5744 232.5775,200.2132 237.8842,199.8495 C248.4976,199.1222 259.2488,198.3855 269.7817,197.6639 C290.8475,196.2206 311.04,194.8375 327.51,193.71 \" fill=\"none\" id=\"E5-to-E4\" style=\"stroke:#181818;stroke-width:1.0;stroke-dasharray:7.0,7.0;\"/><polygon fill=\"#181818\" points=\"332.53,193.36,323.2768,189.9869,327.5418,193.703,323.8256,197.968,332.53,193.36\" style=\"stroke:#181818;stroke-width:1.0;\"/><text fill=\"#000000\" font-family=\"sans-serif\" font-size=\"13\" lengthAdjust=\"spacing\" textLength=\"58\" x=\"242\" y=\"192.0669\">«import»</text></a></g><!--MD5=[f667431f98296947986a1a7595a31603]\n",
       "link E6 to E4--><g id=\"link_E6_E4\"><a href=\"psysml:bdaa5b20-7fbf-4739-8cf5-0e25c1337b74\" target=\"_top\" title=\"psysml:bdaa5b20-7fbf-4739-8cf5-0e25c1337b74\" xlink:actuate=\"onRequest\" xlink:href=\"psysml:bdaa5b20-7fbf-4739-8cf5-0e25c1337b74\" xlink:show=\"new\" xlink:title=\"psysml:bdaa5b20-7fbf-4739-8cf5-0e25c1337b74\" xlink:type=\"simple\"><path d=\"M193.2,153.88 C225.36,157.63 265.59,163.25 301,171 C305.07,171.89 309.25,172.91 313.43,174 \" fill=\"none\" id=\"E6-to-E4\" style=\"stroke:#181818;stroke-width:1.0;\"/><polygon fill=\"#FFFFFF\" points=\"332.67,179.48,312.4786,180.9989,316.3194,167.536,332.67,179.48\" style=\"stroke:#181818;stroke-width:1.0;\"/><ellipse cx=\"307.546\" cy=\"177.5119\" fill=\"#181818\" rx=\"2\" ry=\"2\" style=\"stroke:#181818;stroke-width:1.0;\"/><ellipse cx=\"310.2894\" cy=\"167.8956\" fill=\"#181818\" rx=\"2\" ry=\"2\" style=\"stroke:#181818;stroke-width:1.0;\"/></a></g><!--MD5=[55f65fb74821982a03ee5d035855247a]\n",
       "@startuml\r\n",
       "skin sysmlbw\r\n",
       "skinparam monochrome true\r\n",
       "skinparam wrapWidth 300\r\n",
       "hide circle\r\n",
       "left to right direction\r\n",
       "\r\n",
       "package \"AliasImport\" as E1  [[psysml:ea09c962-e470-4bd3-bf79-0fd6d16116e6 ]]  {\r\n",
       "package \"Definitions\" as E2  [[psysml:4e11052e-d911-402f-9b8e-d22451a94e61 ]]  {\r\n",
       "comp def \"Vehicle\" as E3  <<(T,blue) part  def>> [[psysml:fbf2953e-726b-446c-805b-ce056d089132 ]] {\r\n",
       "}\r\n",
       "comp def \"Vehicle\" as E4  <<(T,blue) part  def>> [[psysml:fbf2953e-726b-446c-805b-ce056d089132 ]] {\r\n",
       "}\r\n",
       "}\r\n",
       "package \"Usages\" as E5  [[psysml:665ec1bc-7429-419a-921f-0e5bfb2e86ee ]]  {\r\n",
       "comp usage \"vehicle: Vehicle  \" as E6  <<(T,blue) part>> [[psysml:1df993ae-180d-40db-acc7-c592d2ed44d7 ]] {\r\n",
       "}\r\n",
       "}\r\n",
       "}\r\n",
       "E5 ..> E4 [[psysml:51954fa3-afe5-4e6a-ba60-ca054eed15e8 ]] : <<import>>\r\n",
       "E6 - -:|> E4 [[psysml:bdaa5b20-7fbf-4739-8cf5-0e25c1337b74 ]] \r\n",
       "@enduml\r\n",
       "\n",
       "PlantUML version 1.2022.7(Mon Aug 22 17:01:30 UTC 2022)\n",
       "(EPL source distribution)\n",
       "Java Runtime: OpenJDK Runtime Environment\n",
       "JVM: OpenJDK 64-Bit Server VM\n",
       "Default Encoding: UTF-8\n",
       "Language: en\n",
       "Country: null\n",
       "--></g></svg>"
      ]
     },
     "execution_count": 16,
     "metadata": {},
     "output_type": "execute_result"
    }
   ],
   "source": [
    "%viz --style=\"LR\" --view=\"Default\" \"AliasImport\""
   ]
  },
  {
   "cell_type": "code",
   "execution_count": 17,
   "id": "1351895e",
   "metadata": {
    "execution": {
     "iopub.execute_input": "2024-12-16T03:26:45.870169Z",
     "iopub.status.busy": "2024-12-16T03:26:45.869925Z",
     "iopub.status.idle": "2024-12-16T03:26:45.890390Z",
     "shell.execute_reply": "2024-12-16T03:26:45.889471Z"
    }
   },
   "outputs": [
    {
     "data": {
      "image/svg+xml": [
       "<?xml version=\"1.0\" encoding=\"UTF-8\" standalone=\"no\"?><svg xmlns=\"http://www.w3.org/2000/svg\" xmlns:xlink=\"http://www.w3.org/1999/xlink\" contentStyleType=\"text/css\" height=\"262px\" preserveAspectRatio=\"none\" style=\"width:460px;height:262px;background:#FFFFFF;\" version=\"1.1\" viewBox=\"0 0 460 262\" width=\"460px\" zoomAndPan=\"magnify\"><defs/><g><!--MD5=[fbc87193dbaf4d95561dea2c320d4a47]\n",
       "cluster E1--><g id=\"cluster_E1\"><a href=\"psysml:ea09c962-e470-4bd3-bf79-0fd6d16116e6\" target=\"_top\" title=\"psysml:ea09c962-e470-4bd3-bf79-0fd6d16116e6\" xlink:actuate=\"onRequest\" xlink:href=\"psysml:ea09c962-e470-4bd3-bf79-0fd6d16116e6\" xlink:show=\"new\" xlink:title=\"psysml:ea09c962-e470-4bd3-bf79-0fd6d16116e6\" xlink:type=\"simple\"><polygon fill=\"none\" points=\"16,6,101.8125,6,108.8125,28.2969,443,28.2969,443,255,16,255,16,6\" style=\"stroke:#000000;stroke-width:1.5;\"/><line style=\"stroke:#000000;stroke-width:1.5;\" x1=\"16\" x2=\"108.8125\" y1=\"28.2969\" y2=\"28.2969\"/><text fill=\"#000000\" font-family=\"sans-serif\" font-size=\"14\" font-weight=\"bold\" lengthAdjust=\"spacing\" textLength=\"79.8125\" x=\"20\" y=\"20.9951\">AliasImport</text></a></g><!--MD5=[e4f7fae6ed58524ba242bb0b0d3be6b7]\n",
       "cluster E2--><g id=\"cluster_E2\"><a href=\"psysml:4e11052e-d911-402f-9b8e-d22451a94e61\" target=\"_top\" title=\"psysml:4e11052e-d911-402f-9b8e-d22451a94e61\" xlink:actuate=\"onRequest\" xlink:href=\"psysml:4e11052e-d911-402f-9b8e-d22451a94e61\" xlink:show=\"new\" xlink:title=\"psysml:4e11052e-d911-402f-9b8e-d22451a94e61\" xlink:type=\"simple\"><polygon fill=\"none\" points=\"317,49,400.8125,49,407.8125,71.2969,419,71.2969,419,231,317,231,317,49\" style=\"stroke:#000000;stroke-width:1.5;\"/><line style=\"stroke:#000000;stroke-width:1.5;\" x1=\"317\" x2=\"407.8125\" y1=\"71.2969\" y2=\"71.2969\"/><text fill=\"#000000\" font-family=\"sans-serif\" font-size=\"14\" font-weight=\"bold\" lengthAdjust=\"spacing\" textLength=\"77.8125\" x=\"321\" y=\"63.9951\">Definitions</text></a></g><!--MD5=[de5ec2e2e8f62f467e546659f5068c88]\n",
       "cluster E5--><g id=\"cluster_E5\"><a href=\"psysml:665ec1bc-7429-419a-921f-0e5bfb2e86ee\" target=\"_top\" title=\"psysml:665ec1bc-7429-419a-921f-0e5bfb2e86ee\" xlink:actuate=\"onRequest\" xlink:href=\"psysml:665ec1bc-7429-419a-921f-0e5bfb2e86ee\" xlink:show=\"new\" xlink:title=\"psysml:665ec1bc-7429-419a-921f-0e5bfb2e86ee\" xlink:type=\"simple\"><polygon fill=\"none\" points=\"48,81,108.625,81,115.625,103.2969,217,103.2969,217,215,48,215,48,81\" style=\"stroke:#000000;stroke-width:1.5;\"/><line style=\"stroke:#000000;stroke-width:1.5;\" x1=\"48\" x2=\"115.625\" y1=\"103.2969\" y2=\"103.2969\"/><text fill=\"#000000\" font-family=\"sans-serif\" font-size=\"14\" font-weight=\"bold\" lengthAdjust=\"spacing\" textLength=\"54.625\" x=\"52\" y=\"95.9951\">Usages</text></a></g><!--MD5=[09b614a08d8cba4a07c9adeb5e0fee81]\n",
       "class E3--><a href=\"psysml:fbf2953e-726b-446c-805b-ce056d089132\" target=\"_top\" title=\"psysml:fbf2953e-726b-446c-805b-ce056d089132\" xlink:actuate=\"onRequest\" xlink:href=\"psysml:fbf2953e-726b-446c-805b-ce056d089132\" xlink:show=\"new\" xlink:title=\"psysml:fbf2953e-726b-446c-805b-ce056d089132\" xlink:type=\"simple\"><g id=\"elem_E3\"><rect fill=\"#FFFFFF\" height=\"48.2656\" id=\"E3\" style=\"stroke:#181818;stroke-width:0.5;\" width=\"70\" x=\"333\" y=\"84\"/><text fill=\"#000000\" font-family=\"sans-serif\" font-size=\"12\" font-style=\"italic\" lengthAdjust=\"spacing\" textLength=\"68\" x=\"334\" y=\"100.1387\">«part  def»</text><text fill=\"#000000\" font-family=\"sans-serif\" font-size=\"14\" lengthAdjust=\"spacing\" textLength=\"50\" x=\"343\" y=\"115.9639\">Vehicle</text><line style=\"stroke:#181818;stroke-width:0.5;\" x1=\"334\" x2=\"402\" y1=\"124.2656\" y2=\"124.2656\"/></g></a><!--MD5=[ebbe1d658d1005bcc118a6aa81145e00]\n",
       "class E4--><a href=\"psysml:fbf2953e-726b-446c-805b-ce056d089132\" target=\"_top\" title=\"psysml:fbf2953e-726b-446c-805b-ce056d089132\" xlink:actuate=\"onRequest\" xlink:href=\"psysml:fbf2953e-726b-446c-805b-ce056d089132\" xlink:show=\"new\" xlink:title=\"psysml:fbf2953e-726b-446c-805b-ce056d089132\" xlink:type=\"simple\"><g id=\"elem_E4\"><rect fill=\"#FFFFFF\" height=\"48.2656\" id=\"E4\" style=\"stroke:#181818;stroke-width:0.5;\" width=\"70\" x=\"333\" y=\"167\"/><text fill=\"#000000\" font-family=\"sans-serif\" font-size=\"12\" font-style=\"italic\" lengthAdjust=\"spacing\" textLength=\"68\" x=\"334\" y=\"183.1387\">«part  def»</text><text fill=\"#000000\" font-family=\"sans-serif\" font-size=\"14\" lengthAdjust=\"spacing\" textLength=\"50\" x=\"343\" y=\"198.9639\">Vehicle</text><line style=\"stroke:#181818;stroke-width:0.5;\" x1=\"334\" x2=\"402\" y1=\"207.2656\" y2=\"207.2656\"/></g></a><!--MD5=[60a26617385b1d2d0262a64233df1f8d]\n",
       "class E6--><a href=\"psysml:1df993ae-180d-40db-acc7-c592d2ed44d7\" target=\"_top\" title=\"psysml:1df993ae-180d-40db-acc7-c592d2ed44d7\" xlink:actuate=\"onRequest\" xlink:href=\"psysml:1df993ae-180d-40db-acc7-c592d2ed44d7\" xlink:show=\"new\" xlink:title=\"psysml:1df993ae-180d-40db-acc7-c592d2ed44d7\" xlink:type=\"simple\"><g id=\"elem_E6\"><rect fill=\"#FFFFFF\" height=\"48.2656\" id=\"E6\" rx=\"10\" ry=\"10\" style=\"stroke:#181818;stroke-width:0.5;\" width=\"121\" x=\"72\" y=\"124\"/><text fill=\"#000000\" font-family=\"sans-serif\" font-size=\"12\" font-style=\"italic\" lengthAdjust=\"spacing\" textLength=\"40\" x=\"112.5\" y=\"140.1387\">«part»</text><text fill=\"#000000\" font-family=\"sans-serif\" font-size=\"14\" lengthAdjust=\"spacing\" textLength=\"107\" x=\"75\" y=\"155.9639\">vehicle: Vehicle</text><line style=\"stroke:#181818;stroke-width:0.5;\" x1=\"73\" x2=\"192\" y1=\"164.2656\" y2=\"164.2656\"/></g></a><!--MD5=[1c62de2aa5b76f0fb657ff8443a1a700]\n",
       "link E5 to E4--><g id=\"link_E5_E4\"><a href=\"psysml:51954fa3-afe5-4e6a-ba60-ca054eed15e8\" target=\"_top\" title=\"psysml:51954fa3-afe5-4e6a-ba60-ca054eed15e8\" xlink:actuate=\"onRequest\" xlink:href=\"psysml:51954fa3-afe5-4e6a-ba60-ca054eed15e8\" xlink:show=\"new\" xlink:title=\"psysml:51954fa3-afe5-4e6a-ba60-ca054eed15e8\" xlink:type=\"simple\"><path d=\"M217.2679,201.2623 C217.5891,201.2403 217.9107,201.2183 218.2326,201.1962 C219.5204,201.1079 220.8137,201.0193 222.1121,200.9303 C227.3053,200.5744 232.5775,200.2132 237.8842,199.8495 C248.4976,199.1222 259.2488,198.3855 269.7817,197.6639 C290.8475,196.2206 311.04,194.8375 327.51,193.71 \" fill=\"none\" id=\"E5-to-E4\" style=\"stroke:#181818;stroke-width:1.0;stroke-dasharray:7.0,7.0;\"/><polygon fill=\"#181818\" points=\"332.53,193.36,323.2768,189.9869,327.5418,193.703,323.8256,197.968,332.53,193.36\" style=\"stroke:#181818;stroke-width:1.0;\"/><text fill=\"#000000\" font-family=\"sans-serif\" font-size=\"13\" lengthAdjust=\"spacing\" textLength=\"58\" x=\"242\" y=\"192.0669\">«import»</text></a></g><!--MD5=[f667431f98296947986a1a7595a31603]\n",
       "link E6 to E4--><g id=\"link_E6_E4\"><a href=\"psysml:bdaa5b20-7fbf-4739-8cf5-0e25c1337b74\" target=\"_top\" title=\"psysml:bdaa5b20-7fbf-4739-8cf5-0e25c1337b74\" xlink:actuate=\"onRequest\" xlink:href=\"psysml:bdaa5b20-7fbf-4739-8cf5-0e25c1337b74\" xlink:show=\"new\" xlink:title=\"psysml:bdaa5b20-7fbf-4739-8cf5-0e25c1337b74\" xlink:type=\"simple\"><path d=\"M193.2,153.88 C225.36,157.63 265.59,163.25 301,171 C305.07,171.89 309.25,172.91 313.43,174 \" fill=\"none\" id=\"E6-to-E4\" style=\"stroke:#181818;stroke-width:1.0;\"/><polygon fill=\"#FFFFFF\" points=\"332.67,179.48,312.4786,180.9989,316.3194,167.536,332.67,179.48\" style=\"stroke:#181818;stroke-width:1.0;\"/><ellipse cx=\"307.546\" cy=\"177.5119\" fill=\"#181818\" rx=\"2\" ry=\"2\" style=\"stroke:#181818;stroke-width:1.0;\"/><ellipse cx=\"310.2894\" cy=\"167.8956\" fill=\"#181818\" rx=\"2\" ry=\"2\" style=\"stroke:#181818;stroke-width:1.0;\"/></a></g><!--MD5=[55f65fb74821982a03ee5d035855247a]\n",
       "@startuml\r\n",
       "skin sysmlbw\r\n",
       "skinparam monochrome true\r\n",
       "skinparam wrapWidth 300\r\n",
       "hide circle\r\n",
       "left to right direction\r\n",
       "\r\n",
       "package \"AliasImport\" as E1  [[psysml:ea09c962-e470-4bd3-bf79-0fd6d16116e6 ]]  {\r\n",
       "package \"Definitions\" as E2  [[psysml:4e11052e-d911-402f-9b8e-d22451a94e61 ]]  {\r\n",
       "comp def \"Vehicle\" as E3  <<(T,blue) part  def>> [[psysml:fbf2953e-726b-446c-805b-ce056d089132 ]] {\r\n",
       "}\r\n",
       "comp def \"Vehicle\" as E4  <<(T,blue) part  def>> [[psysml:fbf2953e-726b-446c-805b-ce056d089132 ]] {\r\n",
       "}\r\n",
       "}\r\n",
       "package \"Usages\" as E5  [[psysml:665ec1bc-7429-419a-921f-0e5bfb2e86ee ]]  {\r\n",
       "comp usage \"vehicle: Vehicle  \" as E6  <<(T,blue) part>> [[psysml:1df993ae-180d-40db-acc7-c592d2ed44d7 ]] {\r\n",
       "}\r\n",
       "}\r\n",
       "}\r\n",
       "E5 ..> E4 [[psysml:51954fa3-afe5-4e6a-ba60-ca054eed15e8 ]] : <<import>>\r\n",
       "E6 - -:|> E4 [[psysml:bdaa5b20-7fbf-4739-8cf5-0e25c1337b74 ]] \r\n",
       "@enduml\r\n",
       "\n",
       "PlantUML version 1.2022.7(Mon Aug 22 17:01:30 UTC 2022)\n",
       "(EPL source distribution)\n",
       "Java Runtime: OpenJDK Runtime Environment\n",
       "JVM: OpenJDK 64-Bit Server VM\n",
       "Default Encoding: UTF-8\n",
       "Language: en\n",
       "Country: null\n",
       "--></g></svg>"
      ]
     },
     "execution_count": 17,
     "metadata": {},
     "output_type": "execute_result"
    }
   ],
   "source": [
    "%viz --style=\"LR\" --view=\"Tree\" \"AliasImport\""
   ]
  },
  {
   "cell_type": "code",
   "execution_count": 18,
   "id": "fe533286",
   "metadata": {
    "execution": {
     "iopub.execute_input": "2024-12-16T03:26:45.943965Z",
     "iopub.status.busy": "2024-12-16T03:26:45.943728Z",
     "iopub.status.idle": "2024-12-16T03:26:45.949860Z",
     "shell.execute_reply": "2024-12-16T03:26:45.950099Z"
    }
   },
   "outputs": [
    {
     "data": {
      "image/svg+xml": [
       "<?xml version=\"1.0\" encoding=\"UTF-8\" standalone=\"no\"?><svg xmlns=\"http://www.w3.org/2000/svg\" xmlns:xlink=\"http://www.w3.org/1999/xlink\" contentStyleType=\"text/css\" height=\"10px\" preserveAspectRatio=\"none\" style=\"width:10px;height:10px;background:#FFFFFF;\" version=\"1.1\" viewBox=\"0 0 10 10\" width=\"10px\" zoomAndPan=\"magnify\"><defs/><g><!--MD5=[fb420fbd7a91d32138f4344b927a323c]\n",
       "@startuml\r\n",
       "skin sysmlbw\r\n",
       "skinparam monochrome true\r\n",
       "skinparam wrapWidth 300\r\n",
       "hide circle\r\n",
       "left to right direction\r\n",
       "\r\n",
       "@enduml\r\n",
       "\n",
       "PlantUML version 1.2022.7(Mon Aug 22 17:01:30 UTC 2022)\n",
       "(EPL source distribution)\n",
       "Java Runtime: OpenJDK Runtime Environment\n",
       "JVM: OpenJDK 64-Bit Server VM\n",
       "Default Encoding: UTF-8\n",
       "Language: en\n",
       "Country: null\n",
       "--></g></svg>"
      ]
     },
     "execution_count": 18,
     "metadata": {},
     "output_type": "execute_result"
    }
   ],
   "source": [
    "%viz --style=\"LR\" --view=\"State\" \"AliasImport\""
   ]
  },
  {
   "cell_type": "code",
   "execution_count": 19,
   "id": "c6a327e6",
   "metadata": {
    "execution": {
     "iopub.execute_input": "2024-12-16T03:26:46.002236Z",
     "iopub.status.busy": "2024-12-16T03:26:46.002022Z",
     "iopub.status.idle": "2024-12-16T03:26:46.020002Z",
     "shell.execute_reply": "2024-12-16T03:26:46.019102Z"
    }
   },
   "outputs": [
    {
     "data": {
      "image/svg+xml": [
       "<?xml version=\"1.0\" encoding=\"UTF-8\" standalone=\"no\"?><svg xmlns=\"http://www.w3.org/2000/svg\" xmlns:xlink=\"http://www.w3.org/1999/xlink\" contentStyleType=\"text/css\" height=\"257px\" preserveAspectRatio=\"none\" style=\"width:462px;height:257px;background:#FFFFFF;\" version=\"1.1\" viewBox=\"0 0 462 257\" width=\"462px\" zoomAndPan=\"magnify\"><defs/><g><!--MD5=[fbc87193dbaf4d95561dea2c320d4a47]\n",
       "cluster E1--><g id=\"cluster_E1\"><a href=\"psysml:ea09c962-e470-4bd3-bf79-0fd6d16116e6\" target=\"_top\" title=\"psysml:ea09c962-e470-4bd3-bf79-0fd6d16116e6\" xlink:actuate=\"onRequest\" xlink:href=\"psysml:ea09c962-e470-4bd3-bf79-0fd6d16116e6\" xlink:show=\"new\" xlink:title=\"psysml:ea09c962-e470-4bd3-bf79-0fd6d16116e6\" xlink:type=\"simple\"><polygon fill=\"none\" points=\"16,6,101.8125,6,108.8125,28.2969,445,28.2969,445,250,16,250,16,6\" style=\"stroke:#000000;stroke-width:1.5;\"/><line style=\"stroke:#000000;stroke-width:1.5;\" x1=\"16\" x2=\"108.8125\" y1=\"28.2969\" y2=\"28.2969\"/><text fill=\"#000000\" font-family=\"sans-serif\" font-size=\"14\" font-weight=\"bold\" lengthAdjust=\"spacing\" textLength=\"79.8125\" x=\"20\" y=\"20.9951\">AliasImport</text></a></g><!--MD5=[e4f7fae6ed58524ba242bb0b0d3be6b7]\n",
       "cluster E2--><g id=\"cluster_E2\"><a href=\"psysml:4e11052e-d911-402f-9b8e-d22451a94e61\" target=\"_top\" title=\"psysml:4e11052e-d911-402f-9b8e-d22451a94e61\" xlink:actuate=\"onRequest\" xlink:href=\"psysml:4e11052e-d911-402f-9b8e-d22451a94e61\" xlink:show=\"new\" xlink:title=\"psysml:4e11052e-d911-402f-9b8e-d22451a94e61\" xlink:type=\"simple\"><polygon fill=\"none\" points=\"314,49,397.8125,49,404.8125,71.2969,421,71.2969,421,226,314,226,314,49\" style=\"stroke:#000000;stroke-width:1.5;\"/><line style=\"stroke:#000000;stroke-width:1.5;\" x1=\"314\" x2=\"404.8125\" y1=\"71.2969\" y2=\"71.2969\"/><text fill=\"#000000\" font-family=\"sans-serif\" font-size=\"14\" font-weight=\"bold\" lengthAdjust=\"spacing\" textLength=\"77.8125\" x=\"318\" y=\"63.9951\">Definitions</text></a></g><!--MD5=[de5ec2e2e8f62f467e546659f5068c88]\n",
       "cluster E5--><g id=\"cluster_E5\"><a href=\"psysml:665ec1bc-7429-419a-921f-0e5bfb2e86ee\" target=\"_top\" title=\"psysml:665ec1bc-7429-419a-921f-0e5bfb2e86ee\" xlink:actuate=\"onRequest\" xlink:href=\"psysml:665ec1bc-7429-419a-921f-0e5bfb2e86ee\" xlink:show=\"new\" xlink:title=\"psysml:665ec1bc-7429-419a-921f-0e5bfb2e86ee\" xlink:type=\"simple\"><polygon fill=\"none\" points=\"48,84,108.625,84,115.625,106.2969,214,106.2969,214,210,48,210,48,84\" style=\"stroke:#000000;stroke-width:1.5;\"/><line style=\"stroke:#000000;stroke-width:1.5;\" x1=\"48\" x2=\"115.625\" y1=\"106.2969\" y2=\"106.2969\"/><text fill=\"#000000\" font-family=\"sans-serif\" font-size=\"14\" font-weight=\"bold\" lengthAdjust=\"spacing\" textLength=\"54.625\" x=\"52\" y=\"98.9951\">Usages</text></a></g><g><a href=\"psysml:fbf2953e-726b-446c-805b-ce056d089132\" target=\"_top\" title=\"psysml:fbf2953e-726b-446c-805b-ce056d089132\" xlink:actuate=\"onRequest\" xlink:href=\"psysml:fbf2953e-726b-446c-805b-ce056d089132\" xlink:show=\"new\" xlink:title=\"psysml:fbf2953e-726b-446c-805b-ce056d089132\" xlink:type=\"simple\"><rect fill=\"#FFFFFF\" height=\"45.2656\" id=\"E3\" style=\"stroke:#383838;stroke-width:1.5;\" width=\"75\" x=\"330\" y=\"84.5\"/><text fill=\"#000000\" font-family=\"sans-serif\" font-size=\"12\" font-style=\"italic\" lengthAdjust=\"spacing\" textLength=\"68\" x=\"333.5\" y=\"100.6387\">«part  def»</text><text fill=\"#000000\" font-family=\"sans-serif\" font-size=\"14\" lengthAdjust=\"spacing\" textLength=\"50\" x=\"342.5\" y=\"116.4639\">Vehicle</text></a></g><g><a href=\"psysml:fbf2953e-726b-446c-805b-ce056d089132\" target=\"_top\" title=\"psysml:fbf2953e-726b-446c-805b-ce056d089132\" xlink:actuate=\"onRequest\" xlink:href=\"psysml:fbf2953e-726b-446c-805b-ce056d089132\" xlink:show=\"new\" xlink:title=\"psysml:fbf2953e-726b-446c-805b-ce056d089132\" xlink:type=\"simple\"><rect fill=\"#FFFFFF\" height=\"45.2656\" id=\"E4\" style=\"stroke:#383838;stroke-width:1.5;\" width=\"75\" x=\"330\" y=\"164.5\"/><text fill=\"#000000\" font-family=\"sans-serif\" font-size=\"12\" font-style=\"italic\" lengthAdjust=\"spacing\" textLength=\"68\" x=\"333.5\" y=\"180.6387\">«part  def»</text><text fill=\"#000000\" font-family=\"sans-serif\" font-size=\"14\" lengthAdjust=\"spacing\" textLength=\"50\" x=\"342.5\" y=\"196.4639\">Vehicle</text></a></g><g><a href=\"psysml:1df993ae-180d-40db-acc7-c592d2ed44d7\" target=\"_top\" title=\"psysml:1df993ae-180d-40db-acc7-c592d2ed44d7\" xlink:actuate=\"onRequest\" xlink:href=\"psysml:1df993ae-180d-40db-acc7-c592d2ed44d7\" xlink:show=\"new\" xlink:title=\"psysml:1df993ae-180d-40db-acc7-c592d2ed44d7\" xlink:type=\"simple\"><rect fill=\"#FFFFFF\" height=\"40\" id=\"E6\" rx=\"10\" ry=\"10\" style=\"stroke:#383838;stroke-width:1.5;\" width=\"118\" x=\"72\" y=\"127\"/><text fill=\"#000000\" font-family=\"sans-serif\" font-size=\"14\" lengthAdjust=\"spacing\" textLength=\"107\" x=\"77.5\" y=\"144.9951\">vehicle: Vehicle</text></a></g><!--MD5=[1c62de2aa5b76f0fb657ff8443a1a700]\n",
       "link E5 to E4--><g id=\"link_E5_E4\"><a href=\"psysml:51954fa3-afe5-4e6a-ba60-ca054eed15e8\" target=\"_top\" title=\"psysml:51954fa3-afe5-4e6a-ba60-ca054eed15e8\" xlink:actuate=\"onRequest\" xlink:href=\"psysml:51954fa3-afe5-4e6a-ba60-ca054eed15e8\" xlink:show=\"new\" xlink:title=\"psysml:51954fa3-afe5-4e6a-ba60-ca054eed15e8\" xlink:type=\"simple\"><path d=\"M214.738,196.7064 C215.0562,196.686 215.3748,196.6656 215.6937,196.6452 C216.9695,196.5636 218.2511,196.4816 219.5377,196.3993 C224.6844,196.07 229.9129,195.7355 235.1797,195.3985 C245.7135,194.7246 256.4009,194.041 266.8952,193.3698 C287.8837,192.0275 308.1,190.735 324.77,189.67 \" fill=\"none\" id=\"E5-to-E4\" style=\"stroke:#181818;stroke-width:1.0;stroke-dasharray:7.0,7.0;\"/><polygon fill=\"#181818\" points=\"329.86,189.34,320.6164,185.9405,324.8708,189.6688,321.1425,193.9232,329.86,189.34\" style=\"stroke:#181818;stroke-width:1.0;\"/><text fill=\"#000000\" font-family=\"sans-serif\" font-size=\"13\" lengthAdjust=\"spacing\" textLength=\"58\" x=\"239\" y=\"188.0669\">«import»</text></a></g><!--MD5=[f667431f98296947986a1a7595a31603]\n",
       "link E6 to E4--><g id=\"link_E6_E4\"><a href=\"psysml:bdaa5b20-7fbf-4739-8cf5-0e25c1337b74\" target=\"_top\" title=\"psysml:bdaa5b20-7fbf-4739-8cf5-0e25c1337b74\" xlink:actuate=\"onRequest\" xlink:href=\"psysml:bdaa5b20-7fbf-4739-8cf5-0e25c1337b74\" xlink:show=\"new\" xlink:title=\"psysml:bdaa5b20-7fbf-4739-8cf5-0e25c1337b74\" xlink:type=\"simple\"><path d=\"M190.34,152.29 C222.31,155.72 262.54,160.88 298,168 C301.98,168.8 306.08,169.71 310.18,170.68 \" fill=\"none\" id=\"E6-to-E4\" style=\"stroke:#181818;stroke-width:1.0;\"/><polygon fill=\"#FFFFFF\" points=\"329.76,175.76,309.6117,177.7718,313.1224,164.2191,329.76,175.76\" style=\"stroke:#181818;stroke-width:1.0;\"/><ellipse cx=\"304.5954\" cy=\"174.4064\" fill=\"#181818\" rx=\"2\" ry=\"2\" style=\"stroke:#181818;stroke-width:1.0;\"/><ellipse cx=\"307.103\" cy=\"164.7259\" fill=\"#181818\" rx=\"2\" ry=\"2\" style=\"stroke:#181818;stroke-width:1.0;\"/></a></g><!--MD5=[993e8a930533410dbd03f97dddfd5433]\n",
       "@startuml\r\n",
       "skin sysmlbw\r\n",
       "skinparam monochrome true\r\n",
       "skinparam wrapWidth 300\r\n",
       "hide circle\r\n",
       "left to right direction\r\n",
       "skinparam ranksep 10\r\n",
       "skinparam rectangle {\r\n",
       " backgroundColor<<block>> LightGreen\r\n",
       "}\r\n",
       "\r\n",
       "package \"AliasImport\" as E1  [[psysml:ea09c962-e470-4bd3-bf79-0fd6d16116e6 ]]  {\r\n",
       "package \"Definitions\" as E2  [[psysml:4e11052e-d911-402f-9b8e-d22451a94e61 ]]  {\r\n",
       "rec def \"Vehicle\" as E3  <<(T,blue) part  def>> [[psysml:fbf2953e-726b-446c-805b-ce056d089132 ]] {\r\n",
       "}\r\n",
       "rec def \"Vehicle\" as E4  <<(T,blue) part  def>> [[psysml:fbf2953e-726b-446c-805b-ce056d089132 ]] {\r\n",
       "}\r\n",
       "}\r\n",
       "package \"Usages\" as E5  [[psysml:665ec1bc-7429-419a-921f-0e5bfb2e86ee ]]  {\r\n",
       "rec usage \"vehicle: Vehicle\" as E6 [[psysml:1df993ae-180d-40db-acc7-c592d2ed44d7 ]] {\r\n",
       "}\r\n",
       "}\r\n",
       "}\r\n",
       "E5 ..> E4 [[psysml:51954fa3-afe5-4e6a-ba60-ca054eed15e8 ]] : <<import>>\r\n",
       "E6 - -:|> E4 [[psysml:bdaa5b20-7fbf-4739-8cf5-0e25c1337b74 ]] \r\n",
       "@enduml\r\n",
       "\n",
       "PlantUML version 1.2022.7(Mon Aug 22 17:01:30 UTC 2022)\n",
       "(EPL source distribution)\n",
       "Java Runtime: OpenJDK Runtime Environment\n",
       "JVM: OpenJDK 64-Bit Server VM\n",
       "Default Encoding: UTF-8\n",
       "Language: en\n",
       "Country: null\n",
       "--></g></svg>"
      ]
     },
     "execution_count": 19,
     "metadata": {},
     "output_type": "execute_result"
    }
   ],
   "source": [
    "%viz --style=\"LR\" --view=\"Interconnection\" \"AliasImport\""
   ]
  },
  {
   "cell_type": "code",
   "execution_count": 20,
   "id": "af4ca750",
   "metadata": {
    "execution": {
     "iopub.execute_input": "2024-12-16T03:26:46.075518Z",
     "iopub.status.busy": "2024-12-16T03:26:46.075279Z",
     "iopub.status.idle": "2024-12-16T03:26:46.080248Z",
     "shell.execute_reply": "2024-12-16T03:26:46.080082Z"
    }
   },
   "outputs": [
    {
     "data": {
      "image/svg+xml": [
       "<?xml version=\"1.0\" encoding=\"UTF-8\" standalone=\"no\"?><svg xmlns=\"http://www.w3.org/2000/svg\" xmlns:xlink=\"http://www.w3.org/1999/xlink\" contentStyleType=\"text/css\" height=\"10px\" preserveAspectRatio=\"none\" style=\"width:10px;height:10px;background:#FFFFFF;\" version=\"1.1\" viewBox=\"0 0 10 10\" width=\"10px\" zoomAndPan=\"magnify\"><defs/><g><!--MD5=[a45826aa31d3f335355a0e6fe4d8f867]\n",
       "@startuml\r\n",
       "skin sysmlbw\r\n",
       "skinparam monochrome true\r\n",
       "skinparam wrapWidth 300\r\n",
       "hide circle\r\n",
       "left to right direction\r\n",
       "skinparam ranksep 8\r\n",
       "\r\n",
       "@enduml\r\n",
       "\n",
       "PlantUML version 1.2022.7(Mon Aug 22 17:01:30 UTC 2022)\n",
       "(EPL source distribution)\n",
       "Java Runtime: OpenJDK Runtime Environment\n",
       "JVM: OpenJDK 64-Bit Server VM\n",
       "Default Encoding: UTF-8\n",
       "Language: en\n",
       "Country: null\n",
       "--></g></svg>"
      ]
     },
     "execution_count": 20,
     "metadata": {},
     "output_type": "execute_result"
    }
   ],
   "source": [
    "%viz --style=\"LR\" --view=\"Action\" \"AliasImport\""
   ]
  },
  {
   "cell_type": "code",
   "execution_count": 21,
   "id": "b071ea65",
   "metadata": {
    "execution": {
     "iopub.execute_input": "2024-12-16T03:26:46.134893Z",
     "iopub.status.busy": "2024-12-16T03:26:46.134702Z",
     "iopub.status.idle": "2024-12-16T03:26:46.139695Z",
     "shell.execute_reply": "2024-12-16T03:26:46.139838Z"
    }
   },
   "outputs": [
    {
     "data": {
      "image/svg+xml": [
       "<?xml version=\"1.0\" encoding=\"UTF-8\" standalone=\"no\"?><svg xmlns=\"http://www.w3.org/2000/svg\" xmlns:xlink=\"http://www.w3.org/1999/xlink\" contentStyleType=\"text/css\" height=\"10px\" preserveAspectRatio=\"none\" style=\"width:10px;height:10px;background:#FFFFFF;\" version=\"1.1\" viewBox=\"0 0 10 10\" width=\"10px\" zoomAndPan=\"magnify\"><defs/><g><!--MD5=[3d7abb46b795db4c9d99c7acf425de78]\n",
       "@startuml\r\n",
       "skin sysmlbw\r\n",
       "skinparam monochrome true\r\n",
       "skinparam wrapWidth 300\r\n",
       "hide circle\r\n",
       "left to right direction\r\n",
       "skinparam roundcorner 20\r\n",
       "skinparam BoxPadding 20\r\n",
       "skinparam SequenceBoxBackgroundColor #white\r\n",
       "skinparam style strictuml\r\n",
       "skinparam maxMessageSize 100\r\n",
       "\r\n",
       "@enduml\r\n",
       "\n",
       "PlantUML version 1.2022.7(Mon Aug 22 17:01:30 UTC 2022)\n",
       "(EPL source distribution)\n",
       "Java Runtime: OpenJDK Runtime Environment\n",
       "JVM: OpenJDK 64-Bit Server VM\n",
       "Default Encoding: UTF-8\n",
       "Language: en\n",
       "Country: null\n",
       "--></g></svg>"
      ]
     },
     "execution_count": 21,
     "metadata": {},
     "output_type": "execute_result"
    }
   ],
   "source": [
    "%viz --style=\"LR\" --view=\"Sequence\" \"AliasImport\""
   ]
  },
  {
   "cell_type": "code",
   "execution_count": 22,
   "id": "b40b94e7",
   "metadata": {
    "execution": {
     "iopub.execute_input": "2024-12-16T03:26:46.190919Z",
     "iopub.status.busy": "2024-12-16T03:26:46.190733Z",
     "iopub.status.idle": "2024-12-16T03:26:46.208880Z",
     "shell.execute_reply": "2024-12-16T03:26:46.208219Z"
    }
   },
   "outputs": [
    {
     "data": {
      "image/svg+xml": [
       "<?xml version=\"1.0\" encoding=\"UTF-8\" standalone=\"no\"?><svg xmlns=\"http://www.w3.org/2000/svg\" xmlns:xlink=\"http://www.w3.org/1999/xlink\" contentStyleType=\"text/css\" height=\"262px\" preserveAspectRatio=\"none\" style=\"width:460px;height:262px;background:#FFFFFF;\" version=\"1.1\" viewBox=\"0 0 460 262\" width=\"460px\" zoomAndPan=\"magnify\"><defs/><g><!--MD5=[fbc87193dbaf4d95561dea2c320d4a47]\n",
       "cluster E1--><g id=\"cluster_E1\"><a href=\"psysml:ea09c962-e470-4bd3-bf79-0fd6d16116e6\" target=\"_top\" title=\"psysml:ea09c962-e470-4bd3-bf79-0fd6d16116e6\" xlink:actuate=\"onRequest\" xlink:href=\"psysml:ea09c962-e470-4bd3-bf79-0fd6d16116e6\" xlink:show=\"new\" xlink:title=\"psysml:ea09c962-e470-4bd3-bf79-0fd6d16116e6\" xlink:type=\"simple\"><polygon fill=\"none\" points=\"16,6,101.8125,6,108.8125,28.2969,443,28.2969,443,255,16,255,16,6\" style=\"stroke:#000000;stroke-width:1.5;\"/><line style=\"stroke:#000000;stroke-width:1.5;\" x1=\"16\" x2=\"108.8125\" y1=\"28.2969\" y2=\"28.2969\"/><text fill=\"#000000\" font-family=\"sans-serif\" font-size=\"14\" font-weight=\"bold\" lengthAdjust=\"spacing\" textLength=\"79.8125\" x=\"20\" y=\"20.9951\">AliasImport</text></a></g><!--MD5=[e4f7fae6ed58524ba242bb0b0d3be6b7]\n",
       "cluster E2--><g id=\"cluster_E2\"><a href=\"psysml:4e11052e-d911-402f-9b8e-d22451a94e61\" target=\"_top\" title=\"psysml:4e11052e-d911-402f-9b8e-d22451a94e61\" xlink:actuate=\"onRequest\" xlink:href=\"psysml:4e11052e-d911-402f-9b8e-d22451a94e61\" xlink:show=\"new\" xlink:title=\"psysml:4e11052e-d911-402f-9b8e-d22451a94e61\" xlink:type=\"simple\"><polygon fill=\"none\" points=\"317,49,400.8125,49,407.8125,71.2969,419,71.2969,419,231,317,231,317,49\" style=\"stroke:#000000;stroke-width:1.5;\"/><line style=\"stroke:#000000;stroke-width:1.5;\" x1=\"317\" x2=\"407.8125\" y1=\"71.2969\" y2=\"71.2969\"/><text fill=\"#000000\" font-family=\"sans-serif\" font-size=\"14\" font-weight=\"bold\" lengthAdjust=\"spacing\" textLength=\"77.8125\" x=\"321\" y=\"63.9951\">Definitions</text></a></g><!--MD5=[de5ec2e2e8f62f467e546659f5068c88]\n",
       "cluster E5--><g id=\"cluster_E5\"><a href=\"psysml:665ec1bc-7429-419a-921f-0e5bfb2e86ee\" target=\"_top\" title=\"psysml:665ec1bc-7429-419a-921f-0e5bfb2e86ee\" xlink:actuate=\"onRequest\" xlink:href=\"psysml:665ec1bc-7429-419a-921f-0e5bfb2e86ee\" xlink:show=\"new\" xlink:title=\"psysml:665ec1bc-7429-419a-921f-0e5bfb2e86ee\" xlink:type=\"simple\"><polygon fill=\"none\" points=\"48,81,108.625,81,115.625,103.2969,217,103.2969,217,215,48,215,48,81\" style=\"stroke:#000000;stroke-width:1.5;\"/><line style=\"stroke:#000000;stroke-width:1.5;\" x1=\"48\" x2=\"115.625\" y1=\"103.2969\" y2=\"103.2969\"/><text fill=\"#000000\" font-family=\"sans-serif\" font-size=\"14\" font-weight=\"bold\" lengthAdjust=\"spacing\" textLength=\"54.625\" x=\"52\" y=\"95.9951\">Usages</text></a></g><!--MD5=[09b614a08d8cba4a07c9adeb5e0fee81]\n",
       "class E3--><a href=\"psysml:fbf2953e-726b-446c-805b-ce056d089132\" target=\"_top\" title=\"psysml:fbf2953e-726b-446c-805b-ce056d089132\" xlink:actuate=\"onRequest\" xlink:href=\"psysml:fbf2953e-726b-446c-805b-ce056d089132\" xlink:show=\"new\" xlink:title=\"psysml:fbf2953e-726b-446c-805b-ce056d089132\" xlink:type=\"simple\"><g id=\"elem_E3\"><rect fill=\"#FFFFFF\" height=\"48.2656\" id=\"E3\" style=\"stroke:#181818;stroke-width:0.5;\" width=\"70\" x=\"333\" y=\"84\"/><text fill=\"#000000\" font-family=\"sans-serif\" font-size=\"12\" font-style=\"italic\" lengthAdjust=\"spacing\" textLength=\"68\" x=\"334\" y=\"100.1387\">«part  def»</text><text fill=\"#000000\" font-family=\"sans-serif\" font-size=\"14\" lengthAdjust=\"spacing\" textLength=\"50\" x=\"343\" y=\"115.9639\">Vehicle</text><line style=\"stroke:#181818;stroke-width:0.5;\" x1=\"334\" x2=\"402\" y1=\"124.2656\" y2=\"124.2656\"/></g></a><!--MD5=[ebbe1d658d1005bcc118a6aa81145e00]\n",
       "class E4--><a href=\"psysml:fbf2953e-726b-446c-805b-ce056d089132\" target=\"_top\" title=\"psysml:fbf2953e-726b-446c-805b-ce056d089132\" xlink:actuate=\"onRequest\" xlink:href=\"psysml:fbf2953e-726b-446c-805b-ce056d089132\" xlink:show=\"new\" xlink:title=\"psysml:fbf2953e-726b-446c-805b-ce056d089132\" xlink:type=\"simple\"><g id=\"elem_E4\"><rect fill=\"#FFFFFF\" height=\"48.2656\" id=\"E4\" style=\"stroke:#181818;stroke-width:0.5;\" width=\"70\" x=\"333\" y=\"167\"/><text fill=\"#000000\" font-family=\"sans-serif\" font-size=\"12\" font-style=\"italic\" lengthAdjust=\"spacing\" textLength=\"68\" x=\"334\" y=\"183.1387\">«part  def»</text><text fill=\"#000000\" font-family=\"sans-serif\" font-size=\"14\" lengthAdjust=\"spacing\" textLength=\"50\" x=\"343\" y=\"198.9639\">Vehicle</text><line style=\"stroke:#181818;stroke-width:0.5;\" x1=\"334\" x2=\"402\" y1=\"207.2656\" y2=\"207.2656\"/></g></a><!--MD5=[60a26617385b1d2d0262a64233df1f8d]\n",
       "class E6--><a href=\"psysml:1df993ae-180d-40db-acc7-c592d2ed44d7\" target=\"_top\" title=\"psysml:1df993ae-180d-40db-acc7-c592d2ed44d7\" xlink:actuate=\"onRequest\" xlink:href=\"psysml:1df993ae-180d-40db-acc7-c592d2ed44d7\" xlink:show=\"new\" xlink:title=\"psysml:1df993ae-180d-40db-acc7-c592d2ed44d7\" xlink:type=\"simple\"><g id=\"elem_E6\"><rect fill=\"#FFFFFF\" height=\"48.2656\" id=\"E6\" rx=\"10\" ry=\"10\" style=\"stroke:#181818;stroke-width:0.5;\" width=\"121\" x=\"72\" y=\"124\"/><text fill=\"#000000\" font-family=\"sans-serif\" font-size=\"12\" font-style=\"italic\" lengthAdjust=\"spacing\" textLength=\"40\" x=\"112.5\" y=\"140.1387\">«part»</text><text fill=\"#000000\" font-family=\"sans-serif\" font-size=\"14\" lengthAdjust=\"spacing\" textLength=\"107\" x=\"75\" y=\"155.9639\">vehicle: Vehicle</text><line style=\"stroke:#181818;stroke-width:0.5;\" x1=\"73\" x2=\"192\" y1=\"164.2656\" y2=\"164.2656\"/></g></a><!--MD5=[1c62de2aa5b76f0fb657ff8443a1a700]\n",
       "link E5 to E4--><g id=\"link_E5_E4\"><a href=\"psysml:51954fa3-afe5-4e6a-ba60-ca054eed15e8\" target=\"_top\" title=\"psysml:51954fa3-afe5-4e6a-ba60-ca054eed15e8\" xlink:actuate=\"onRequest\" xlink:href=\"psysml:51954fa3-afe5-4e6a-ba60-ca054eed15e8\" xlink:show=\"new\" xlink:title=\"psysml:51954fa3-afe5-4e6a-ba60-ca054eed15e8\" xlink:type=\"simple\"><path d=\"M217.2679,201.2623 C217.5891,201.2403 217.9107,201.2183 218.2326,201.1962 C219.5204,201.1079 220.8137,201.0193 222.1121,200.9303 C227.3053,200.5744 232.5775,200.2132 237.8842,199.8495 C248.4976,199.1222 259.2488,198.3855 269.7817,197.6639 C290.8475,196.2206 311.04,194.8375 327.51,193.71 \" fill=\"none\" id=\"E5-to-E4\" style=\"stroke:#181818;stroke-width:1.0;stroke-dasharray:7.0,7.0;\"/><polygon fill=\"#181818\" points=\"332.53,193.36,323.2768,189.9869,327.5418,193.703,323.8256,197.968,332.53,193.36\" style=\"stroke:#181818;stroke-width:1.0;\"/><text fill=\"#000000\" font-family=\"sans-serif\" font-size=\"13\" lengthAdjust=\"spacing\" textLength=\"58\" x=\"242\" y=\"192.0669\">«import»</text></a></g><!--MD5=[f667431f98296947986a1a7595a31603]\n",
       "link E6 to E4--><g id=\"link_E6_E4\"><a href=\"psysml:bdaa5b20-7fbf-4739-8cf5-0e25c1337b74\" target=\"_top\" title=\"psysml:bdaa5b20-7fbf-4739-8cf5-0e25c1337b74\" xlink:actuate=\"onRequest\" xlink:href=\"psysml:bdaa5b20-7fbf-4739-8cf5-0e25c1337b74\" xlink:show=\"new\" xlink:title=\"psysml:bdaa5b20-7fbf-4739-8cf5-0e25c1337b74\" xlink:type=\"simple\"><path d=\"M193.2,153.88 C225.36,157.63 265.59,163.25 301,171 C305.07,171.89 309.25,172.91 313.43,174 \" fill=\"none\" id=\"E6-to-E4\" style=\"stroke:#181818;stroke-width:1.0;\"/><polygon fill=\"#FFFFFF\" points=\"332.67,179.48,312.4786,180.9989,316.3194,167.536,332.67,179.48\" style=\"stroke:#181818;stroke-width:1.0;\"/><ellipse cx=\"307.546\" cy=\"177.5119\" fill=\"#181818\" rx=\"2\" ry=\"2\" style=\"stroke:#181818;stroke-width:1.0;\"/><ellipse cx=\"310.2894\" cy=\"167.8956\" fill=\"#181818\" rx=\"2\" ry=\"2\" style=\"stroke:#181818;stroke-width:1.0;\"/></a></g><!--MD5=[55f65fb74821982a03ee5d035855247a]\n",
       "@startuml\r\n",
       "skin sysmlbw\r\n",
       "skinparam monochrome true\r\n",
       "skinparam wrapWidth 300\r\n",
       "hide circle\r\n",
       "left to right direction\r\n",
       "\r\n",
       "package \"AliasImport\" as E1  [[psysml:ea09c962-e470-4bd3-bf79-0fd6d16116e6 ]]  {\r\n",
       "package \"Definitions\" as E2  [[psysml:4e11052e-d911-402f-9b8e-d22451a94e61 ]]  {\r\n",
       "comp def \"Vehicle\" as E3  <<(T,blue) part  def>> [[psysml:fbf2953e-726b-446c-805b-ce056d089132 ]] {\r\n",
       "}\r\n",
       "comp def \"Vehicle\" as E4  <<(T,blue) part  def>> [[psysml:fbf2953e-726b-446c-805b-ce056d089132 ]] {\r\n",
       "}\r\n",
       "}\r\n",
       "package \"Usages\" as E5  [[psysml:665ec1bc-7429-419a-921f-0e5bfb2e86ee ]]  {\r\n",
       "comp usage \"vehicle: Vehicle  \" as E6  <<(T,blue) part>> [[psysml:1df993ae-180d-40db-acc7-c592d2ed44d7 ]] {\r\n",
       "}\r\n",
       "}\r\n",
       "}\r\n",
       "E5 ..> E4 [[psysml:51954fa3-afe5-4e6a-ba60-ca054eed15e8 ]] : <<import>>\r\n",
       "E6 - -:|> E4 [[psysml:bdaa5b20-7fbf-4739-8cf5-0e25c1337b74 ]] \r\n",
       "@enduml\r\n",
       "\n",
       "PlantUML version 1.2022.7(Mon Aug 22 17:01:30 UTC 2022)\n",
       "(EPL source distribution)\n",
       "Java Runtime: OpenJDK Runtime Environment\n",
       "JVM: OpenJDK 64-Bit Server VM\n",
       "Default Encoding: UTF-8\n",
       "Language: en\n",
       "Country: null\n",
       "--></g></svg>"
      ]
     },
     "execution_count": 22,
     "metadata": {},
     "output_type": "execute_result"
    }
   ],
   "source": [
    "%viz --style=\"LR\" --view=\"MIXED\" \"AliasImport\""
   ]
  },
  {
   "cell_type": "code",
   "execution_count": 23,
   "id": "d0700aab",
   "metadata": {
    "execution": {
     "iopub.execute_input": "2024-12-16T03:26:46.261669Z",
     "iopub.status.busy": "2024-12-16T03:26:46.261443Z",
     "iopub.status.idle": "2024-12-16T03:26:46.281247Z",
     "shell.execute_reply": "2024-12-16T03:26:46.281098Z"
    }
   },
   "outputs": [
    {
     "data": {
      "image/svg+xml": [
       "<?xml version=\"1.0\" encoding=\"UTF-8\" standalone=\"no\"?><svg xmlns=\"http://www.w3.org/2000/svg\" xmlns:xlink=\"http://www.w3.org/1999/xlink\" contentStyleType=\"text/css\" height=\"359px\" preserveAspectRatio=\"none\" style=\"width:288px;height:359px;background:#FFFFFF;\" version=\"1.1\" viewBox=\"0 0 288 359\" width=\"288px\" zoomAndPan=\"magnify\"><defs><filter height=\"300%\" id=\"fn2x8dkdekfr9\" width=\"300%\" x=\"-1\" y=\"-1\"><feGaussianBlur result=\"blurOut\" stdDeviation=\"2.0\"/><feColorMatrix in=\"blurOut\" result=\"blurOut2\" type=\"matrix\" values=\"0 0 0 0 0 0 0 0 0 0 0 0 0 0 0 0 0 0 .4 0\"/><feOffset dx=\"4.0\" dy=\"4.0\" in=\"blurOut2\" result=\"blurOut3\"/><feBlend in=\"SourceGraphic\" in2=\"blurOut3\" mode=\"normal\"/></filter></defs><g><!--MD5=[fbc87193dbaf4d95561dea2c320d4a47]\n",
       "cluster E1--><g id=\"cluster_E1\"><a href=\"psysml:ea09c962-e470-4bd3-bf79-0fd6d16116e6\" target=\"_top\" title=\"psysml:ea09c962-e470-4bd3-bf79-0fd6d16116e6\" xlink:actuate=\"onRequest\" xlink:href=\"psysml:ea09c962-e470-4bd3-bf79-0fd6d16116e6\" xlink:show=\"new\" xlink:title=\"psysml:ea09c962-e470-4bd3-bf79-0fd6d16116e6\" xlink:type=\"simple\"><polygon fill=\"none\" filter=\"url(#fn2x8dkdekfr9)\" points=\"16,6,101.8125,6,108.8125,28.2969,271,28.2969,271,352,16,352,16,6\" style=\"stroke:#000000;stroke-width:1.5;\"/><line style=\"stroke:#000000;stroke-width:1.5;\" x1=\"16\" x2=\"108.8125\" y1=\"28.2969\" y2=\"28.2969\"/><text fill=\"#000000\" font-family=\"sans-serif\" font-size=\"14\" font-weight=\"bold\" lengthAdjust=\"spacing\" textLength=\"79.8125\" x=\"20\" y=\"20.9951\">AliasImport</text></a></g><!--MD5=[e4f7fae6ed58524ba242bb0b0d3be6b7]\n",
       "cluster E2--><g id=\"cluster_E2\"><a href=\"psysml:4e11052e-d911-402f-9b8e-d22451a94e61\" target=\"_top\" title=\"psysml:4e11052e-d911-402f-9b8e-d22451a94e61\" xlink:actuate=\"onRequest\" xlink:href=\"psysml:4e11052e-d911-402f-9b8e-d22451a94e61\" xlink:show=\"new\" xlink:title=\"psysml:4e11052e-d911-402f-9b8e-d22451a94e61\" xlink:type=\"simple\"><polygon fill=\"none\" filter=\"url(#fn2x8dkdekfr9)\" points=\"40,229,123.8125,229,130.8125,251.2969,247,251.2969,247,328,40,328,40,229\" style=\"stroke:#000000;stroke-width:1.5;\"/><line style=\"stroke:#000000;stroke-width:1.5;\" x1=\"40\" x2=\"130.8125\" y1=\"251.2969\" y2=\"251.2969\"/><text fill=\"#000000\" font-family=\"sans-serif\" font-size=\"14\" font-weight=\"bold\" lengthAdjust=\"spacing\" textLength=\"77.8125\" x=\"44\" y=\"243.9951\">Definitions</text></a></g><!--MD5=[de5ec2e2e8f62f467e546659f5068c88]\n",
       "cluster E5--><g id=\"cluster_E5\"><a href=\"psysml:665ec1bc-7429-419a-921f-0e5bfb2e86ee\" target=\"_top\" title=\"psysml:665ec1bc-7429-419a-921f-0e5bfb2e86ee\" xlink:actuate=\"onRequest\" xlink:href=\"psysml:665ec1bc-7429-419a-921f-0e5bfb2e86ee\" xlink:show=\"new\" xlink:title=\"psysml:665ec1bc-7429-419a-921f-0e5bfb2e86ee\" xlink:type=\"simple\"><polygon fill=\"none\" filter=\"url(#fn2x8dkdekfr9)\" points=\"49,57,109.625,57,116.625,79.2969,238,79.2969,238,172,49,172,49,57\" style=\"stroke:#000000;stroke-width:1.5;\"/><line style=\"stroke:#000000;stroke-width:1.5;\" x1=\"49\" x2=\"116.625\" y1=\"79.2969\" y2=\"79.2969\"/><text fill=\"#000000\" font-family=\"sans-serif\" font-size=\"14\" font-weight=\"bold\" lengthAdjust=\"spacing\" textLength=\"54.625\" x=\"53\" y=\"71.9951\">Usages</text></a></g><!--MD5=[09b614a08d8cba4a07c9adeb5e0fee81]\n",
       "class E3--><a href=\"psysml:fbf2953e-726b-446c-805b-ce056d089132\" target=\"_top\" title=\"psysml:fbf2953e-726b-446c-805b-ce056d089132\" xlink:actuate=\"onRequest\" xlink:href=\"psysml:fbf2953e-726b-446c-805b-ce056d089132\" xlink:show=\"new\" xlink:title=\"psysml:fbf2953e-726b-446c-805b-ce056d089132\" xlink:type=\"simple\"><g id=\"elem_E3\"><rect fill=\"#FFFACD\" filter=\"url(#fn2x8dkdekfr9)\" height=\"48.2656\" id=\"E3\" style=\"stroke:#181818;stroke-width:0.5;\" width=\"70\" x=\"161\" y=\"264\"/><text fill=\"#000000\" font-family=\"sans-serif\" font-size=\"12\" font-style=\"italic\" lengthAdjust=\"spacing\" textLength=\"68\" x=\"162\" y=\"280.1387\">«part  def»</text><text fill=\"#000000\" font-family=\"sans-serif\" font-size=\"14\" lengthAdjust=\"spacing\" textLength=\"50\" x=\"171\" y=\"295.9639\">Vehicle</text><line style=\"stroke:#181818;stroke-width:0.5;\" x1=\"162\" x2=\"230\" y1=\"304.2656\" y2=\"304.2656\"/></g></a><!--MD5=[ebbe1d658d1005bcc118a6aa81145e00]\n",
       "class E4--><a href=\"psysml:fbf2953e-726b-446c-805b-ce056d089132\" target=\"_top\" title=\"psysml:fbf2953e-726b-446c-805b-ce056d089132\" xlink:actuate=\"onRequest\" xlink:href=\"psysml:fbf2953e-726b-446c-805b-ce056d089132\" xlink:show=\"new\" xlink:title=\"psysml:fbf2953e-726b-446c-805b-ce056d089132\" xlink:type=\"simple\"><g id=\"elem_E4\"><rect fill=\"#FFFACD\" filter=\"url(#fn2x8dkdekfr9)\" height=\"48.2656\" id=\"E4\" style=\"stroke:#181818;stroke-width:0.5;\" width=\"70\" x=\"56\" y=\"264\"/><text fill=\"#000000\" font-family=\"sans-serif\" font-size=\"12\" font-style=\"italic\" lengthAdjust=\"spacing\" textLength=\"68\" x=\"57\" y=\"280.1387\">«part  def»</text><text fill=\"#000000\" font-family=\"sans-serif\" font-size=\"14\" lengthAdjust=\"spacing\" textLength=\"50\" x=\"66\" y=\"295.9639\">Vehicle</text><line style=\"stroke:#181818;stroke-width:0.5;\" x1=\"57\" x2=\"125\" y1=\"304.2656\" y2=\"304.2656\"/></g></a><!--MD5=[60a26617385b1d2d0262a64233df1f8d]\n",
       "class E6--><a href=\"psysml:1df993ae-180d-40db-acc7-c592d2ed44d7\" target=\"_top\" title=\"psysml:1df993ae-180d-40db-acc7-c592d2ed44d7\" xlink:actuate=\"onRequest\" xlink:href=\"psysml:1df993ae-180d-40db-acc7-c592d2ed44d7\" xlink:show=\"new\" xlink:title=\"psysml:1df993ae-180d-40db-acc7-c592d2ed44d7\" xlink:type=\"simple\"><g id=\"elem_E6\"><rect fill=\"#FFFACD\" filter=\"url(#fn2x8dkdekfr9)\" height=\"48.2656\" id=\"E6\" rx=\"10\" ry=\"10\" style=\"stroke:#181818;stroke-width:0.5;\" width=\"121\" x=\"92.5\" y=\"100\"/><text fill=\"#000000\" font-family=\"sans-serif\" font-size=\"12\" font-style=\"italic\" lengthAdjust=\"spacing\" textLength=\"40\" x=\"133\" y=\"116.1387\">«part»</text><text fill=\"#000000\" font-family=\"sans-serif\" font-size=\"14\" lengthAdjust=\"spacing\" textLength=\"107\" x=\"95.5\" y=\"131.9639\">vehicle: Vehicle</text><line style=\"stroke:#181818;stroke-width:0.5;\" x1=\"93.5\" x2=\"212.5\" y1=\"140.2656\" y2=\"140.2656\"/></g></a><!--MD5=[1c62de2aa5b76f0fb657ff8443a1a700]\n",
       "link E5 to E4--><g id=\"link_E5_E4\"><a href=\"psysml:51954fa3-afe5-4e6a-ba60-ca054eed15e8\" target=\"_top\" title=\"psysml:51954fa3-afe5-4e6a-ba60-ca054eed15e8\" xlink:actuate=\"onRequest\" xlink:href=\"psysml:51954fa3-afe5-4e6a-ba60-ca054eed15e8\" xlink:show=\"new\" xlink:title=\"psysml:51954fa3-afe5-4e6a-ba60-ca054eed15e8\" xlink:type=\"simple\"><path d=\"M66.9503,172.4094 C67.038,172.8272 67.126,173.2465 67.2143,173.6672 C67.3909,174.5085 67.5687,175.3555 67.7475,176.2075 C73.47,203.4725 80.29,235.97 85.06,258.69 \" fill=\"none\" id=\"E5-to-E4\" style=\"stroke:#181818;stroke-width:1.0;stroke-dasharray:7.0,7.0;\"/><polygon fill=\"#181818\" points=\"86.12,263.77,88.1858,254.1402,85.0928,258.8766,80.3564,255.7837,86.12,263.77\" style=\"stroke:#181818;stroke-width:1.0;\"/><text fill=\"#000000\" font-family=\"sans-serif\" font-size=\"13\" lengthAdjust=\"spacing\" textLength=\"58\" x=\"76\" y=\"209.0669\">«import»</text></a></g><!--MD5=[f667431f98296947986a1a7595a31603]\n",
       "link E6 to E4--><g id=\"link_E6_E4\"><a href=\"psysml:bdaa5b20-7fbf-4739-8cf5-0e25c1337b74\" target=\"_top\" title=\"psysml:bdaa5b20-7fbf-4739-8cf5-0e25c1337b74\" xlink:actuate=\"onRequest\" xlink:href=\"psysml:bdaa5b20-7fbf-4739-8cf5-0e25c1337b74\" xlink:show=\"new\" xlink:title=\"psysml:bdaa5b20-7fbf-4739-8cf5-0e25c1337b74\" xlink:type=\"simple\"><path d=\"M153.08,148.14 C152.45,166.32 150,191.99 142,213 C137.39,225.1 130.41,237.14 123.08,247.87 \" fill=\"none\" id=\"E6-to-E4\" style=\"stroke:#181818;stroke-width:1.0;\"/><polygon fill=\"#FFFFFF\" points=\"111.17,264,116.8313,244.5591,128.091,252.8789,111.17,264\" style=\"stroke:#181818;stroke-width:1.0;\"/><ellipse cx=\"121.8272\" cy=\"241.1633\" fill=\"#181818\" rx=\"2\" ry=\"2\" style=\"stroke:#181818;stroke-width:1.0;\"/><ellipse cx=\"129.8698\" cy=\"247.106\" fill=\"#181818\" rx=\"2\" ry=\"2\" style=\"stroke:#181818;stroke-width:1.0;\"/></a></g><!--MD5=[0b8ee0fce5b86ffe982264f44565ad30]\n",
       "@startuml\r\n",
       "skin sysmlc\r\n",
       "skinparam wrapWidth 300\r\n",
       "hide circle\r\n",
       "\r\n",
       "package \"AliasImport\" as E1  [[psysml:ea09c962-e470-4bd3-bf79-0fd6d16116e6 ]]  {\r\n",
       "package \"Definitions\" as E2  [[psysml:4e11052e-d911-402f-9b8e-d22451a94e61 ]]  {\r\n",
       "comp def \"Vehicle\" as E3  <<(T,blue) part  def>> [[psysml:fbf2953e-726b-446c-805b-ce056d089132 ]] {\r\n",
       "}\r\n",
       "comp def \"Vehicle\" as E4  <<(T,blue) part  def>> [[psysml:fbf2953e-726b-446c-805b-ce056d089132 ]] {\r\n",
       "}\r\n",
       "}\r\n",
       "package \"Usages\" as E5  [[psysml:665ec1bc-7429-419a-921f-0e5bfb2e86ee ]]  {\r\n",
       "comp usage \"vehicle: Vehicle  \" as E6  <<(T,blue) part>> [[psysml:1df993ae-180d-40db-acc7-c592d2ed44d7 ]] {\r\n",
       "}\r\n",
       "}\r\n",
       "}\r\n",
       "E5 ..> E4 [[psysml:51954fa3-afe5-4e6a-ba60-ca054eed15e8 ]] : <<import>>\r\n",
       "E6 - -:|> E4 [[psysml:bdaa5b20-7fbf-4739-8cf5-0e25c1337b74 ]] \r\n",
       "@enduml\r\n",
       "\n",
       "PlantUML version 1.2022.7(Mon Aug 22 17:01:30 UTC 2022)\n",
       "(EPL source distribution)\n",
       "Java Runtime: OpenJDK Runtime Environment\n",
       "JVM: OpenJDK 64-Bit Server VM\n",
       "Default Encoding: UTF-8\n",
       "Language: en\n",
       "Country: null\n",
       "--></g></svg>"
      ]
     },
     "execution_count": 23,
     "metadata": {},
     "output_type": "execute_result"
    }
   ],
   "source": [
    "%viz --style=\"STDCOLOR\" --view=\"Default\" \"AliasImport\""
   ]
  },
  {
   "cell_type": "code",
   "execution_count": 24,
   "id": "40bd4a75",
   "metadata": {
    "execution": {
     "iopub.execute_input": "2024-12-16T03:26:46.336189Z",
     "iopub.status.busy": "2024-12-16T03:26:46.336012Z",
     "iopub.status.idle": "2024-12-16T03:26:46.358570Z",
     "shell.execute_reply": "2024-12-16T03:26:46.357402Z"
    }
   },
   "outputs": [
    {
     "data": {
      "image/svg+xml": [
       "<?xml version=\"1.0\" encoding=\"UTF-8\" standalone=\"no\"?><svg xmlns=\"http://www.w3.org/2000/svg\" xmlns:xlink=\"http://www.w3.org/1999/xlink\" contentStyleType=\"text/css\" height=\"359px\" preserveAspectRatio=\"none\" style=\"width:288px;height:359px;background:#FFFFFF;\" version=\"1.1\" viewBox=\"0 0 288 359\" width=\"288px\" zoomAndPan=\"magnify\"><defs><filter height=\"300%\" id=\"fn2x8dkdekfr9\" width=\"300%\" x=\"-1\" y=\"-1\"><feGaussianBlur result=\"blurOut\" stdDeviation=\"2.0\"/><feColorMatrix in=\"blurOut\" result=\"blurOut2\" type=\"matrix\" values=\"0 0 0 0 0 0 0 0 0 0 0 0 0 0 0 0 0 0 .4 0\"/><feOffset dx=\"4.0\" dy=\"4.0\" in=\"blurOut2\" result=\"blurOut3\"/><feBlend in=\"SourceGraphic\" in2=\"blurOut3\" mode=\"normal\"/></filter></defs><g><!--MD5=[fbc87193dbaf4d95561dea2c320d4a47]\n",
       "cluster E1--><g id=\"cluster_E1\"><a href=\"psysml:ea09c962-e470-4bd3-bf79-0fd6d16116e6\" target=\"_top\" title=\"psysml:ea09c962-e470-4bd3-bf79-0fd6d16116e6\" xlink:actuate=\"onRequest\" xlink:href=\"psysml:ea09c962-e470-4bd3-bf79-0fd6d16116e6\" xlink:show=\"new\" xlink:title=\"psysml:ea09c962-e470-4bd3-bf79-0fd6d16116e6\" xlink:type=\"simple\"><polygon fill=\"none\" filter=\"url(#fn2x8dkdekfr9)\" points=\"16,6,101.8125,6,108.8125,28.2969,271,28.2969,271,352,16,352,16,6\" style=\"stroke:#000000;stroke-width:1.5;\"/><line style=\"stroke:#000000;stroke-width:1.5;\" x1=\"16\" x2=\"108.8125\" y1=\"28.2969\" y2=\"28.2969\"/><text fill=\"#000000\" font-family=\"sans-serif\" font-size=\"14\" font-weight=\"bold\" lengthAdjust=\"spacing\" textLength=\"79.8125\" x=\"20\" y=\"20.9951\">AliasImport</text></a></g><!--MD5=[e4f7fae6ed58524ba242bb0b0d3be6b7]\n",
       "cluster E2--><g id=\"cluster_E2\"><a href=\"psysml:4e11052e-d911-402f-9b8e-d22451a94e61\" target=\"_top\" title=\"psysml:4e11052e-d911-402f-9b8e-d22451a94e61\" xlink:actuate=\"onRequest\" xlink:href=\"psysml:4e11052e-d911-402f-9b8e-d22451a94e61\" xlink:show=\"new\" xlink:title=\"psysml:4e11052e-d911-402f-9b8e-d22451a94e61\" xlink:type=\"simple\"><polygon fill=\"none\" filter=\"url(#fn2x8dkdekfr9)\" points=\"40,229,123.8125,229,130.8125,251.2969,247,251.2969,247,328,40,328,40,229\" style=\"stroke:#000000;stroke-width:1.5;\"/><line style=\"stroke:#000000;stroke-width:1.5;\" x1=\"40\" x2=\"130.8125\" y1=\"251.2969\" y2=\"251.2969\"/><text fill=\"#000000\" font-family=\"sans-serif\" font-size=\"14\" font-weight=\"bold\" lengthAdjust=\"spacing\" textLength=\"77.8125\" x=\"44\" y=\"243.9951\">Definitions</text></a></g><!--MD5=[de5ec2e2e8f62f467e546659f5068c88]\n",
       "cluster E5--><g id=\"cluster_E5\"><a href=\"psysml:665ec1bc-7429-419a-921f-0e5bfb2e86ee\" target=\"_top\" title=\"psysml:665ec1bc-7429-419a-921f-0e5bfb2e86ee\" xlink:actuate=\"onRequest\" xlink:href=\"psysml:665ec1bc-7429-419a-921f-0e5bfb2e86ee\" xlink:show=\"new\" xlink:title=\"psysml:665ec1bc-7429-419a-921f-0e5bfb2e86ee\" xlink:type=\"simple\"><polygon fill=\"none\" filter=\"url(#fn2x8dkdekfr9)\" points=\"49,57,109.625,57,116.625,79.2969,238,79.2969,238,172,49,172,49,57\" style=\"stroke:#000000;stroke-width:1.5;\"/><line style=\"stroke:#000000;stroke-width:1.5;\" x1=\"49\" x2=\"116.625\" y1=\"79.2969\" y2=\"79.2969\"/><text fill=\"#000000\" font-family=\"sans-serif\" font-size=\"14\" font-weight=\"bold\" lengthAdjust=\"spacing\" textLength=\"54.625\" x=\"53\" y=\"71.9951\">Usages</text></a></g><!--MD5=[09b614a08d8cba4a07c9adeb5e0fee81]\n",
       "class E3--><a href=\"psysml:fbf2953e-726b-446c-805b-ce056d089132\" target=\"_top\" title=\"psysml:fbf2953e-726b-446c-805b-ce056d089132\" xlink:actuate=\"onRequest\" xlink:href=\"psysml:fbf2953e-726b-446c-805b-ce056d089132\" xlink:show=\"new\" xlink:title=\"psysml:fbf2953e-726b-446c-805b-ce056d089132\" xlink:type=\"simple\"><g id=\"elem_E3\"><rect fill=\"#FFFACD\" filter=\"url(#fn2x8dkdekfr9)\" height=\"48.2656\" id=\"E3\" style=\"stroke:#181818;stroke-width:0.5;\" width=\"70\" x=\"161\" y=\"264\"/><text fill=\"#000000\" font-family=\"sans-serif\" font-size=\"12\" font-style=\"italic\" lengthAdjust=\"spacing\" textLength=\"68\" x=\"162\" y=\"280.1387\">«part  def»</text><text fill=\"#000000\" font-family=\"sans-serif\" font-size=\"14\" lengthAdjust=\"spacing\" textLength=\"50\" x=\"171\" y=\"295.9639\">Vehicle</text><line style=\"stroke:#181818;stroke-width:0.5;\" x1=\"162\" x2=\"230\" y1=\"304.2656\" y2=\"304.2656\"/></g></a><!--MD5=[ebbe1d658d1005bcc118a6aa81145e00]\n",
       "class E4--><a href=\"psysml:fbf2953e-726b-446c-805b-ce056d089132\" target=\"_top\" title=\"psysml:fbf2953e-726b-446c-805b-ce056d089132\" xlink:actuate=\"onRequest\" xlink:href=\"psysml:fbf2953e-726b-446c-805b-ce056d089132\" xlink:show=\"new\" xlink:title=\"psysml:fbf2953e-726b-446c-805b-ce056d089132\" xlink:type=\"simple\"><g id=\"elem_E4\"><rect fill=\"#FFFACD\" filter=\"url(#fn2x8dkdekfr9)\" height=\"48.2656\" id=\"E4\" style=\"stroke:#181818;stroke-width:0.5;\" width=\"70\" x=\"56\" y=\"264\"/><text fill=\"#000000\" font-family=\"sans-serif\" font-size=\"12\" font-style=\"italic\" lengthAdjust=\"spacing\" textLength=\"68\" x=\"57\" y=\"280.1387\">«part  def»</text><text fill=\"#000000\" font-family=\"sans-serif\" font-size=\"14\" lengthAdjust=\"spacing\" textLength=\"50\" x=\"66\" y=\"295.9639\">Vehicle</text><line style=\"stroke:#181818;stroke-width:0.5;\" x1=\"57\" x2=\"125\" y1=\"304.2656\" y2=\"304.2656\"/></g></a><!--MD5=[60a26617385b1d2d0262a64233df1f8d]\n",
       "class E6--><a href=\"psysml:1df993ae-180d-40db-acc7-c592d2ed44d7\" target=\"_top\" title=\"psysml:1df993ae-180d-40db-acc7-c592d2ed44d7\" xlink:actuate=\"onRequest\" xlink:href=\"psysml:1df993ae-180d-40db-acc7-c592d2ed44d7\" xlink:show=\"new\" xlink:title=\"psysml:1df993ae-180d-40db-acc7-c592d2ed44d7\" xlink:type=\"simple\"><g id=\"elem_E6\"><rect fill=\"#FFFACD\" filter=\"url(#fn2x8dkdekfr9)\" height=\"48.2656\" id=\"E6\" rx=\"10\" ry=\"10\" style=\"stroke:#181818;stroke-width:0.5;\" width=\"121\" x=\"92.5\" y=\"100\"/><text fill=\"#000000\" font-family=\"sans-serif\" font-size=\"12\" font-style=\"italic\" lengthAdjust=\"spacing\" textLength=\"40\" x=\"133\" y=\"116.1387\">«part»</text><text fill=\"#000000\" font-family=\"sans-serif\" font-size=\"14\" lengthAdjust=\"spacing\" textLength=\"107\" x=\"95.5\" y=\"131.9639\">vehicle: Vehicle</text><line style=\"stroke:#181818;stroke-width:0.5;\" x1=\"93.5\" x2=\"212.5\" y1=\"140.2656\" y2=\"140.2656\"/></g></a><!--MD5=[1c62de2aa5b76f0fb657ff8443a1a700]\n",
       "link E5 to E4--><g id=\"link_E5_E4\"><a href=\"psysml:51954fa3-afe5-4e6a-ba60-ca054eed15e8\" target=\"_top\" title=\"psysml:51954fa3-afe5-4e6a-ba60-ca054eed15e8\" xlink:actuate=\"onRequest\" xlink:href=\"psysml:51954fa3-afe5-4e6a-ba60-ca054eed15e8\" xlink:show=\"new\" xlink:title=\"psysml:51954fa3-afe5-4e6a-ba60-ca054eed15e8\" xlink:type=\"simple\"><path d=\"M66.9503,172.4094 C67.038,172.8272 67.126,173.2465 67.2143,173.6672 C67.3909,174.5085 67.5687,175.3555 67.7475,176.2075 C73.47,203.4725 80.29,235.97 85.06,258.69 \" fill=\"none\" id=\"E5-to-E4\" style=\"stroke:#181818;stroke-width:1.0;stroke-dasharray:7.0,7.0;\"/><polygon fill=\"#181818\" points=\"86.12,263.77,88.1858,254.1402,85.0928,258.8766,80.3564,255.7837,86.12,263.77\" style=\"stroke:#181818;stroke-width:1.0;\"/><text fill=\"#000000\" font-family=\"sans-serif\" font-size=\"13\" lengthAdjust=\"spacing\" textLength=\"58\" x=\"76\" y=\"209.0669\">«import»</text></a></g><!--MD5=[f667431f98296947986a1a7595a31603]\n",
       "link E6 to E4--><g id=\"link_E6_E4\"><a href=\"psysml:bdaa5b20-7fbf-4739-8cf5-0e25c1337b74\" target=\"_top\" title=\"psysml:bdaa5b20-7fbf-4739-8cf5-0e25c1337b74\" xlink:actuate=\"onRequest\" xlink:href=\"psysml:bdaa5b20-7fbf-4739-8cf5-0e25c1337b74\" xlink:show=\"new\" xlink:title=\"psysml:bdaa5b20-7fbf-4739-8cf5-0e25c1337b74\" xlink:type=\"simple\"><path d=\"M153.08,148.14 C152.45,166.32 150,191.99 142,213 C137.39,225.1 130.41,237.14 123.08,247.87 \" fill=\"none\" id=\"E6-to-E4\" style=\"stroke:#181818;stroke-width:1.0;\"/><polygon fill=\"#FFFFFF\" points=\"111.17,264,116.8313,244.5591,128.091,252.8789,111.17,264\" style=\"stroke:#181818;stroke-width:1.0;\"/><ellipse cx=\"121.8272\" cy=\"241.1633\" fill=\"#181818\" rx=\"2\" ry=\"2\" style=\"stroke:#181818;stroke-width:1.0;\"/><ellipse cx=\"129.8698\" cy=\"247.106\" fill=\"#181818\" rx=\"2\" ry=\"2\" style=\"stroke:#181818;stroke-width:1.0;\"/></a></g><!--MD5=[0b8ee0fce5b86ffe982264f44565ad30]\n",
       "@startuml\r\n",
       "skin sysmlc\r\n",
       "skinparam wrapWidth 300\r\n",
       "hide circle\r\n",
       "\r\n",
       "package \"AliasImport\" as E1  [[psysml:ea09c962-e470-4bd3-bf79-0fd6d16116e6 ]]  {\r\n",
       "package \"Definitions\" as E2  [[psysml:4e11052e-d911-402f-9b8e-d22451a94e61 ]]  {\r\n",
       "comp def \"Vehicle\" as E3  <<(T,blue) part  def>> [[psysml:fbf2953e-726b-446c-805b-ce056d089132 ]] {\r\n",
       "}\r\n",
       "comp def \"Vehicle\" as E4  <<(T,blue) part  def>> [[psysml:fbf2953e-726b-446c-805b-ce056d089132 ]] {\r\n",
       "}\r\n",
       "}\r\n",
       "package \"Usages\" as E5  [[psysml:665ec1bc-7429-419a-921f-0e5bfb2e86ee ]]  {\r\n",
       "comp usage \"vehicle: Vehicle  \" as E6  <<(T,blue) part>> [[psysml:1df993ae-180d-40db-acc7-c592d2ed44d7 ]] {\r\n",
       "}\r\n",
       "}\r\n",
       "}\r\n",
       "E5 ..> E4 [[psysml:51954fa3-afe5-4e6a-ba60-ca054eed15e8 ]] : <<import>>\r\n",
       "E6 - -:|> E4 [[psysml:bdaa5b20-7fbf-4739-8cf5-0e25c1337b74 ]] \r\n",
       "@enduml\r\n",
       "\n",
       "PlantUML version 1.2022.7(Mon Aug 22 17:01:30 UTC 2022)\n",
       "(EPL source distribution)\n",
       "Java Runtime: OpenJDK Runtime Environment\n",
       "JVM: OpenJDK 64-Bit Server VM\n",
       "Default Encoding: UTF-8\n",
       "Language: en\n",
       "Country: null\n",
       "--></g></svg>"
      ]
     },
     "execution_count": 24,
     "metadata": {},
     "output_type": "execute_result"
    }
   ],
   "source": [
    "%viz --style=\"STDCOLOR\" --view=\"Tree\" \"AliasImport\""
   ]
  },
  {
   "cell_type": "code",
   "execution_count": 25,
   "id": "1268d371",
   "metadata": {
    "execution": {
     "iopub.execute_input": "2024-12-16T03:26:46.409426Z",
     "iopub.status.busy": "2024-12-16T03:26:46.409180Z",
     "iopub.status.idle": "2024-12-16T03:26:46.418222Z",
     "shell.execute_reply": "2024-12-16T03:26:46.418029Z"
    }
   },
   "outputs": [
    {
     "data": {
      "image/svg+xml": [
       "<?xml version=\"1.0\" encoding=\"UTF-8\" standalone=\"no\"?><svg xmlns=\"http://www.w3.org/2000/svg\" xmlns:xlink=\"http://www.w3.org/1999/xlink\" contentStyleType=\"text/css\" height=\"10px\" preserveAspectRatio=\"none\" style=\"width:10px;height:10px;background:#FFFFFF;\" version=\"1.1\" viewBox=\"0 0 10 10\" width=\"10px\" zoomAndPan=\"magnify\"><defs/><g><!--MD5=[a1048f16c75022af837d4b7065e6f600]\n",
       "@startuml\r\n",
       "skin sysmlc\r\n",
       "skinparam wrapWidth 300\r\n",
       "hide circle\r\n",
       "\r\n",
       "@enduml\r\n",
       "\n",
       "PlantUML version 1.2022.7(Mon Aug 22 17:01:30 UTC 2022)\n",
       "(EPL source distribution)\n",
       "Java Runtime: OpenJDK Runtime Environment\n",
       "JVM: OpenJDK 64-Bit Server VM\n",
       "Default Encoding: UTF-8\n",
       "Language: en\n",
       "Country: null\n",
       "--></g></svg>"
      ]
     },
     "execution_count": 25,
     "metadata": {},
     "output_type": "execute_result"
    }
   ],
   "source": [
    "%viz --style=\"STDCOLOR\" --view=\"State\" \"AliasImport\""
   ]
  },
  {
   "cell_type": "code",
   "execution_count": 26,
   "id": "4cdb438a",
   "metadata": {
    "execution": {
     "iopub.execute_input": "2024-12-16T03:26:46.469047Z",
     "iopub.status.busy": "2024-12-16T03:26:46.468844Z",
     "iopub.status.idle": "2024-12-16T03:26:46.486470Z",
     "shell.execute_reply": "2024-12-16T03:26:46.485660Z"
    }
   },
   "outputs": [
    {
     "data": {
      "image/svg+xml": [
       "<?xml version=\"1.0\" encoding=\"UTF-8\" standalone=\"no\"?><svg xmlns=\"http://www.w3.org/2000/svg\" xmlns:xlink=\"http://www.w3.org/1999/xlink\" contentStyleType=\"text/css\" height=\"348px\" preserveAspectRatio=\"none\" style=\"width:297px;height:348px;background:#FFFFFF;\" version=\"1.1\" viewBox=\"0 0 297 348\" width=\"297px\" zoomAndPan=\"magnify\"><defs><filter height=\"300%\" id=\"f92nruwnrkkpf\" width=\"300%\" x=\"-1\" y=\"-1\"><feGaussianBlur result=\"blurOut\" stdDeviation=\"2.0\"/><feColorMatrix in=\"blurOut\" result=\"blurOut2\" type=\"matrix\" values=\"0 0 0 0 0 0 0 0 0 0 0 0 0 0 0 0 0 0 .4 0\"/><feOffset dx=\"4.0\" dy=\"4.0\" in=\"blurOut2\" result=\"blurOut3\"/><feBlend in=\"SourceGraphic\" in2=\"blurOut3\" mode=\"normal\"/></filter></defs><g><!--MD5=[fbc87193dbaf4d95561dea2c320d4a47]\n",
       "cluster E1--><g id=\"cluster_E1\"><a href=\"psysml:ea09c962-e470-4bd3-bf79-0fd6d16116e6\" target=\"_top\" title=\"psysml:ea09c962-e470-4bd3-bf79-0fd6d16116e6\" xlink:actuate=\"onRequest\" xlink:href=\"psysml:ea09c962-e470-4bd3-bf79-0fd6d16116e6\" xlink:show=\"new\" xlink:title=\"psysml:ea09c962-e470-4bd3-bf79-0fd6d16116e6\" xlink:type=\"simple\"><polygon fill=\"none\" filter=\"url(#f92nruwnrkkpf)\" points=\"16,6,101.8125,6,108.8125,28.2969,280,28.2969,280,341,16,341,16,6\" style=\"stroke:#000000;stroke-width:1.5;\"/><line style=\"stroke:#000000;stroke-width:1.5;\" x1=\"16\" x2=\"108.8125\" y1=\"28.2969\" y2=\"28.2969\"/><text fill=\"#000000\" font-family=\"sans-serif\" font-size=\"14\" font-weight=\"bold\" lengthAdjust=\"spacing\" textLength=\"79.8125\" x=\"20\" y=\"20.9951\">AliasImport</text></a></g><!--MD5=[e4f7fae6ed58524ba242bb0b0d3be6b7]\n",
       "cluster E2--><g id=\"cluster_E2\"><a href=\"psysml:4e11052e-d911-402f-9b8e-d22451a94e61\" target=\"_top\" title=\"psysml:4e11052e-d911-402f-9b8e-d22451a94e61\" xlink:actuate=\"onRequest\" xlink:href=\"psysml:4e11052e-d911-402f-9b8e-d22451a94e61\" xlink:show=\"new\" xlink:title=\"psysml:4e11052e-d911-402f-9b8e-d22451a94e61\" xlink:type=\"simple\"><polygon fill=\"none\" filter=\"url(#f92nruwnrkkpf)\" points=\"40,221,123.8125,221,130.8125,243.2969,256,243.2969,256,317,40,317,40,221\" style=\"stroke:#000000;stroke-width:1.5;\"/><line style=\"stroke:#000000;stroke-width:1.5;\" x1=\"40\" x2=\"130.8125\" y1=\"243.2969\" y2=\"243.2969\"/><text fill=\"#000000\" font-family=\"sans-serif\" font-size=\"14\" font-weight=\"bold\" lengthAdjust=\"spacing\" textLength=\"77.8125\" x=\"44\" y=\"235.9951\">Definitions</text></a></g><!--MD5=[de5ec2e2e8f62f467e546659f5068c88]\n",
       "cluster E5--><g id=\"cluster_E5\"><a href=\"psysml:665ec1bc-7429-419a-921f-0e5bfb2e86ee\" target=\"_top\" title=\"psysml:665ec1bc-7429-419a-921f-0e5bfb2e86ee\" xlink:actuate=\"onRequest\" xlink:href=\"psysml:665ec1bc-7429-419a-921f-0e5bfb2e86ee\" xlink:show=\"new\" xlink:title=\"psysml:665ec1bc-7429-419a-921f-0e5bfb2e86ee\" xlink:type=\"simple\"><polygon fill=\"none\" filter=\"url(#f92nruwnrkkpf)\" points=\"55,57,115.625,57,122.625,79.2969,240,79.2969,240,164,55,164,55,57\" style=\"stroke:#000000;stroke-width:1.5;\"/><line style=\"stroke:#000000;stroke-width:1.5;\" x1=\"55\" x2=\"122.625\" y1=\"79.2969\" y2=\"79.2969\"/><text fill=\"#000000\" font-family=\"sans-serif\" font-size=\"14\" font-weight=\"bold\" lengthAdjust=\"spacing\" textLength=\"54.625\" x=\"59\" y=\"71.9951\">Usages</text></a></g><g><a href=\"psysml:fbf2953e-726b-446c-805b-ce056d089132\" target=\"_top\" title=\"psysml:fbf2953e-726b-446c-805b-ce056d089132\" xlink:actuate=\"onRequest\" xlink:href=\"psysml:fbf2953e-726b-446c-805b-ce056d089132\" xlink:show=\"new\" xlink:title=\"psysml:fbf2953e-726b-446c-805b-ce056d089132\" xlink:type=\"simple\"><rect fill=\"#FFFACD\" filter=\"url(#f92nruwnrkkpf)\" height=\"45.2656\" id=\"E3\" style=\"stroke:#A80036;stroke-width:1.5;\" width=\"75\" x=\"165.5\" y=\"256\"/><text fill=\"#000000\" font-family=\"sans-serif\" font-size=\"12\" font-style=\"italic\" lengthAdjust=\"spacing\" textLength=\"68\" x=\"169\" y=\"272.1387\">«part  def»</text><text fill=\"#000000\" font-family=\"sans-serif\" font-size=\"14\" lengthAdjust=\"spacing\" textLength=\"50\" x=\"178\" y=\"287.9639\">Vehicle</text></a></g><g><a href=\"psysml:fbf2953e-726b-446c-805b-ce056d089132\" target=\"_top\" title=\"psysml:fbf2953e-726b-446c-805b-ce056d089132\" xlink:actuate=\"onRequest\" xlink:href=\"psysml:fbf2953e-726b-446c-805b-ce056d089132\" xlink:show=\"new\" xlink:title=\"psysml:fbf2953e-726b-446c-805b-ce056d089132\" xlink:type=\"simple\"><rect fill=\"#FFFACD\" filter=\"url(#f92nruwnrkkpf)\" height=\"45.2656\" id=\"E4\" style=\"stroke:#A80036;stroke-width:1.5;\" width=\"75\" x=\"55.5\" y=\"256\"/><text fill=\"#000000\" font-family=\"sans-serif\" font-size=\"12\" font-style=\"italic\" lengthAdjust=\"spacing\" textLength=\"68\" x=\"59\" y=\"272.1387\">«part  def»</text><text fill=\"#000000\" font-family=\"sans-serif\" font-size=\"14\" lengthAdjust=\"spacing\" textLength=\"50\" x=\"68\" y=\"287.9639\">Vehicle</text></a></g><g><a href=\"psysml:1df993ae-180d-40db-acc7-c592d2ed44d7\" target=\"_top\" title=\"psysml:1df993ae-180d-40db-acc7-c592d2ed44d7\" xlink:actuate=\"onRequest\" xlink:href=\"psysml:1df993ae-180d-40db-acc7-c592d2ed44d7\" xlink:show=\"new\" xlink:title=\"psysml:1df993ae-180d-40db-acc7-c592d2ed44d7\" xlink:type=\"simple\"><rect fill=\"#FFFACD\" filter=\"url(#f92nruwnrkkpf)\" height=\"40\" id=\"E6\" rx=\"10\" ry=\"10\" style=\"stroke:#A80036;stroke-width:1.5;\" width=\"118\" x=\"98\" y=\"100\"/><text fill=\"#000000\" font-family=\"sans-serif\" font-size=\"14\" lengthAdjust=\"spacing\" textLength=\"107\" x=\"103.5\" y=\"117.9951\">vehicle: Vehicle</text></a></g><!--MD5=[1c62de2aa5b76f0fb657ff8443a1a700]\n",
       "link E5 to E4--><g id=\"link_E5_E4\"><a href=\"psysml:51954fa3-afe5-4e6a-ba60-ca054eed15e8\" target=\"_top\" title=\"psysml:51954fa3-afe5-4e6a-ba60-ca054eed15e8\" xlink:actuate=\"onRequest\" xlink:href=\"psysml:51954fa3-afe5-4e6a-ba60-ca054eed15e8\" xlink:show=\"new\" xlink:title=\"psysml:51954fa3-afe5-4e6a-ba60-ca054eed15e8\" xlink:type=\"simple\"><path d=\"M69.043,164.2456 C69.0858,164.5249 69.1287,164.8047 69.1718,165.0851 C69.2579,165.646 69.3448,166.2091 69.4323,166.7743 C69.6073,167.9047 69.7849,169.0434 69.965,170.1889 C70.3253,172.4798 70.6956,174.7976 71.075,177.1298 C72.5925,186.4587 74.255,196.0175 76,205 C78.97,220.26 82.89,237.18 86.23,250.83 \" fill=\"none\" id=\"E5-to-E4\" style=\"stroke:#181818;stroke-width:1.0;stroke-dasharray:7.0,7.0;\"/><polygon fill=\"#181818\" points=\"87.43,255.7,89.1546,246.0033,86.2308,250.8459,81.3881,247.9221,87.43,255.7\" style=\"stroke:#181818;stroke-width:1.0;\"/><text fill=\"#000000\" font-family=\"sans-serif\" font-size=\"13\" lengthAdjust=\"spacing\" textLength=\"58\" x=\"77\" y=\"201.0669\">«import»</text></a></g><!--MD5=[f667431f98296947986a1a7595a31603]\n",
       "link E6 to E4--><g id=\"link_E6_E4\"><a href=\"psysml:bdaa5b20-7fbf-4739-8cf5-0e25c1337b74\" target=\"_top\" title=\"psysml:bdaa5b20-7fbf-4739-8cf5-0e25c1337b74\" xlink:actuate=\"onRequest\" xlink:href=\"psysml:bdaa5b20-7fbf-4739-8cf5-0e25c1337b74\" xlink:show=\"new\" xlink:title=\"psysml:bdaa5b20-7fbf-4739-8cf5-0e25c1337b74\" xlink:type=\"simple\"><path d=\"M155.18,140.28 C153.05,157.7 148.66,183.78 140,205 C135.21,216.74 128.45,228.64 121.56,239.31 \" fill=\"none\" id=\"E6-to-E4\" style=\"stroke:#181818;stroke-width:1.0;\"/><polygon fill=\"#FFFFFF\" points=\"110.13,255.85,115.1604,236.2364,126.683,244.1881,110.13,255.85\" style=\"stroke:#181818;stroke-width:1.0;\"/><ellipse cx=\"120.044\" cy=\"232.681\" fill=\"#181818\" rx=\"2\" ry=\"2\" style=\"stroke:#181818;stroke-width:1.0;\"/><ellipse cx=\"128.2744\" cy=\"238.3608\" fill=\"#181818\" rx=\"2\" ry=\"2\" style=\"stroke:#181818;stroke-width:1.0;\"/></a></g><!--MD5=[1114362862482a7fdc9f25689b6e446d]\n",
       "@startuml\r\n",
       "skin sysmlc\r\n",
       "skinparam wrapWidth 300\r\n",
       "hide circle\r\n",
       "skinparam ranksep 10\r\n",
       "skinparam rectangle {\r\n",
       " backgroundColor<<block>> LightGreen\r\n",
       "}\r\n",
       "\r\n",
       "package \"AliasImport\" as E1  [[psysml:ea09c962-e470-4bd3-bf79-0fd6d16116e6 ]]  {\r\n",
       "package \"Definitions\" as E2  [[psysml:4e11052e-d911-402f-9b8e-d22451a94e61 ]]  {\r\n",
       "rec def \"Vehicle\" as E3  <<(T,blue) part  def>> [[psysml:fbf2953e-726b-446c-805b-ce056d089132 ]] {\r\n",
       "}\r\n",
       "rec def \"Vehicle\" as E4  <<(T,blue) part  def>> [[psysml:fbf2953e-726b-446c-805b-ce056d089132 ]] {\r\n",
       "}\r\n",
       "}\r\n",
       "package \"Usages\" as E5  [[psysml:665ec1bc-7429-419a-921f-0e5bfb2e86ee ]]  {\r\n",
       "rec usage \"vehicle: Vehicle\" as E6 [[psysml:1df993ae-180d-40db-acc7-c592d2ed44d7 ]] {\r\n",
       "}\r\n",
       "}\r\n",
       "}\r\n",
       "E5 ..> E4 [[psysml:51954fa3-afe5-4e6a-ba60-ca054eed15e8 ]] : <<import>>\r\n",
       "E6 - -:|> E4 [[psysml:bdaa5b20-7fbf-4739-8cf5-0e25c1337b74 ]] \r\n",
       "@enduml\r\n",
       "\n",
       "PlantUML version 1.2022.7(Mon Aug 22 17:01:30 UTC 2022)\n",
       "(EPL source distribution)\n",
       "Java Runtime: OpenJDK Runtime Environment\n",
       "JVM: OpenJDK 64-Bit Server VM\n",
       "Default Encoding: UTF-8\n",
       "Language: en\n",
       "Country: null\n",
       "--></g></svg>"
      ]
     },
     "execution_count": 26,
     "metadata": {},
     "output_type": "execute_result"
    }
   ],
   "source": [
    "%viz --style=\"STDCOLOR\" --view=\"Interconnection\" \"AliasImport\""
   ]
  },
  {
   "cell_type": "code",
   "execution_count": 27,
   "id": "24aeb77e",
   "metadata": {
    "execution": {
     "iopub.execute_input": "2024-12-16T03:26:46.541880Z",
     "iopub.status.busy": "2024-12-16T03:26:46.541640Z",
     "iopub.status.idle": "2024-12-16T03:26:46.547464Z",
     "shell.execute_reply": "2024-12-16T03:26:46.547244Z"
    }
   },
   "outputs": [
    {
     "data": {
      "image/svg+xml": [
       "<?xml version=\"1.0\" encoding=\"UTF-8\" standalone=\"no\"?><svg xmlns=\"http://www.w3.org/2000/svg\" xmlns:xlink=\"http://www.w3.org/1999/xlink\" contentStyleType=\"text/css\" height=\"10px\" preserveAspectRatio=\"none\" style=\"width:10px;height:10px;background:#FFFFFF;\" version=\"1.1\" viewBox=\"0 0 10 10\" width=\"10px\" zoomAndPan=\"magnify\"><defs/><g><!--MD5=[f1e15a62785563bad28e840d677c8e75]\n",
       "@startuml\r\n",
       "skin sysmlc\r\n",
       "skinparam wrapWidth 300\r\n",
       "hide circle\r\n",
       "skinparam ranksep 8\r\n",
       "\r\n",
       "@enduml\r\n",
       "\n",
       "PlantUML version 1.2022.7(Mon Aug 22 17:01:30 UTC 2022)\n",
       "(EPL source distribution)\n",
       "Java Runtime: OpenJDK Runtime Environment\n",
       "JVM: OpenJDK 64-Bit Server VM\n",
       "Default Encoding: UTF-8\n",
       "Language: en\n",
       "Country: null\n",
       "--></g></svg>"
      ]
     },
     "execution_count": 27,
     "metadata": {},
     "output_type": "execute_result"
    }
   ],
   "source": [
    "%viz --style=\"STDCOLOR\" --view=\"Action\" \"AliasImport\""
   ]
  },
  {
   "cell_type": "code",
   "execution_count": 28,
   "id": "3f5e73c4",
   "metadata": {
    "execution": {
     "iopub.execute_input": "2024-12-16T03:26:46.602805Z",
     "iopub.status.busy": "2024-12-16T03:26:46.602579Z",
     "iopub.status.idle": "2024-12-16T03:26:46.608205Z",
     "shell.execute_reply": "2024-12-16T03:26:46.608025Z"
    }
   },
   "outputs": [
    {
     "data": {
      "image/svg+xml": [
       "<?xml version=\"1.0\" encoding=\"UTF-8\" standalone=\"no\"?><svg xmlns=\"http://www.w3.org/2000/svg\" xmlns:xlink=\"http://www.w3.org/1999/xlink\" contentStyleType=\"text/css\" height=\"10px\" preserveAspectRatio=\"none\" style=\"width:10px;height:10px;background:#FFFFFF;\" version=\"1.1\" viewBox=\"0 0 10 10\" width=\"10px\" zoomAndPan=\"magnify\"><defs/><g><!--MD5=[e54413e611bf323face5c486cd3a32bb]\n",
       "@startuml\r\n",
       "skin sysmlc\r\n",
       "skinparam wrapWidth 300\r\n",
       "hide circle\r\n",
       "skinparam roundcorner 20\r\n",
       "skinparam BoxPadding 20\r\n",
       "skinparam SequenceBoxBackgroundColor #white\r\n",
       "skinparam style strictuml\r\n",
       "skinparam maxMessageSize 100\r\n",
       "\r\n",
       "@enduml\r\n",
       "\n",
       "PlantUML version 1.2022.7(Mon Aug 22 17:01:30 UTC 2022)\n",
       "(EPL source distribution)\n",
       "Java Runtime: OpenJDK Runtime Environment\n",
       "JVM: OpenJDK 64-Bit Server VM\n",
       "Default Encoding: UTF-8\n",
       "Language: en\n",
       "Country: null\n",
       "--></g></svg>"
      ]
     },
     "execution_count": 28,
     "metadata": {},
     "output_type": "execute_result"
    }
   ],
   "source": [
    "%viz --style=\"STDCOLOR\" --view=\"Sequence\" \"AliasImport\""
   ]
  },
  {
   "cell_type": "code",
   "execution_count": 29,
   "id": "f1097dcc",
   "metadata": {
    "execution": {
     "iopub.execute_input": "2024-12-16T03:26:46.663838Z",
     "iopub.status.busy": "2024-12-16T03:26:46.663638Z",
     "iopub.status.idle": "2024-12-16T03:26:46.684091Z",
     "shell.execute_reply": "2024-12-16T03:26:46.683274Z"
    }
   },
   "outputs": [
    {
     "data": {
      "image/svg+xml": [
       "<?xml version=\"1.0\" encoding=\"UTF-8\" standalone=\"no\"?><svg xmlns=\"http://www.w3.org/2000/svg\" xmlns:xlink=\"http://www.w3.org/1999/xlink\" contentStyleType=\"text/css\" height=\"359px\" preserveAspectRatio=\"none\" style=\"width:288px;height:359px;background:#FFFFFF;\" version=\"1.1\" viewBox=\"0 0 288 359\" width=\"288px\" zoomAndPan=\"magnify\"><defs><filter height=\"300%\" id=\"fn2x8dkdekfr9\" width=\"300%\" x=\"-1\" y=\"-1\"><feGaussianBlur result=\"blurOut\" stdDeviation=\"2.0\"/><feColorMatrix in=\"blurOut\" result=\"blurOut2\" type=\"matrix\" values=\"0 0 0 0 0 0 0 0 0 0 0 0 0 0 0 0 0 0 .4 0\"/><feOffset dx=\"4.0\" dy=\"4.0\" in=\"blurOut2\" result=\"blurOut3\"/><feBlend in=\"SourceGraphic\" in2=\"blurOut3\" mode=\"normal\"/></filter></defs><g><!--MD5=[fbc87193dbaf4d95561dea2c320d4a47]\n",
       "cluster E1--><g id=\"cluster_E1\"><a href=\"psysml:ea09c962-e470-4bd3-bf79-0fd6d16116e6\" target=\"_top\" title=\"psysml:ea09c962-e470-4bd3-bf79-0fd6d16116e6\" xlink:actuate=\"onRequest\" xlink:href=\"psysml:ea09c962-e470-4bd3-bf79-0fd6d16116e6\" xlink:show=\"new\" xlink:title=\"psysml:ea09c962-e470-4bd3-bf79-0fd6d16116e6\" xlink:type=\"simple\"><polygon fill=\"none\" filter=\"url(#fn2x8dkdekfr9)\" points=\"16,6,101.8125,6,108.8125,28.2969,271,28.2969,271,352,16,352,16,6\" style=\"stroke:#000000;stroke-width:1.5;\"/><line style=\"stroke:#000000;stroke-width:1.5;\" x1=\"16\" x2=\"108.8125\" y1=\"28.2969\" y2=\"28.2969\"/><text fill=\"#000000\" font-family=\"sans-serif\" font-size=\"14\" font-weight=\"bold\" lengthAdjust=\"spacing\" textLength=\"79.8125\" x=\"20\" y=\"20.9951\">AliasImport</text></a></g><!--MD5=[e4f7fae6ed58524ba242bb0b0d3be6b7]\n",
       "cluster E2--><g id=\"cluster_E2\"><a href=\"psysml:4e11052e-d911-402f-9b8e-d22451a94e61\" target=\"_top\" title=\"psysml:4e11052e-d911-402f-9b8e-d22451a94e61\" xlink:actuate=\"onRequest\" xlink:href=\"psysml:4e11052e-d911-402f-9b8e-d22451a94e61\" xlink:show=\"new\" xlink:title=\"psysml:4e11052e-d911-402f-9b8e-d22451a94e61\" xlink:type=\"simple\"><polygon fill=\"none\" filter=\"url(#fn2x8dkdekfr9)\" points=\"40,229,123.8125,229,130.8125,251.2969,247,251.2969,247,328,40,328,40,229\" style=\"stroke:#000000;stroke-width:1.5;\"/><line style=\"stroke:#000000;stroke-width:1.5;\" x1=\"40\" x2=\"130.8125\" y1=\"251.2969\" y2=\"251.2969\"/><text fill=\"#000000\" font-family=\"sans-serif\" font-size=\"14\" font-weight=\"bold\" lengthAdjust=\"spacing\" textLength=\"77.8125\" x=\"44\" y=\"243.9951\">Definitions</text></a></g><!--MD5=[de5ec2e2e8f62f467e546659f5068c88]\n",
       "cluster E5--><g id=\"cluster_E5\"><a href=\"psysml:665ec1bc-7429-419a-921f-0e5bfb2e86ee\" target=\"_top\" title=\"psysml:665ec1bc-7429-419a-921f-0e5bfb2e86ee\" xlink:actuate=\"onRequest\" xlink:href=\"psysml:665ec1bc-7429-419a-921f-0e5bfb2e86ee\" xlink:show=\"new\" xlink:title=\"psysml:665ec1bc-7429-419a-921f-0e5bfb2e86ee\" xlink:type=\"simple\"><polygon fill=\"none\" filter=\"url(#fn2x8dkdekfr9)\" points=\"49,57,109.625,57,116.625,79.2969,238,79.2969,238,172,49,172,49,57\" style=\"stroke:#000000;stroke-width:1.5;\"/><line style=\"stroke:#000000;stroke-width:1.5;\" x1=\"49\" x2=\"116.625\" y1=\"79.2969\" y2=\"79.2969\"/><text fill=\"#000000\" font-family=\"sans-serif\" font-size=\"14\" font-weight=\"bold\" lengthAdjust=\"spacing\" textLength=\"54.625\" x=\"53\" y=\"71.9951\">Usages</text></a></g><!--MD5=[09b614a08d8cba4a07c9adeb5e0fee81]\n",
       "class E3--><a href=\"psysml:fbf2953e-726b-446c-805b-ce056d089132\" target=\"_top\" title=\"psysml:fbf2953e-726b-446c-805b-ce056d089132\" xlink:actuate=\"onRequest\" xlink:href=\"psysml:fbf2953e-726b-446c-805b-ce056d089132\" xlink:show=\"new\" xlink:title=\"psysml:fbf2953e-726b-446c-805b-ce056d089132\" xlink:type=\"simple\"><g id=\"elem_E3\"><rect fill=\"#FFFACD\" filter=\"url(#fn2x8dkdekfr9)\" height=\"48.2656\" id=\"E3\" style=\"stroke:#181818;stroke-width:0.5;\" width=\"70\" x=\"161\" y=\"264\"/><text fill=\"#000000\" font-family=\"sans-serif\" font-size=\"12\" font-style=\"italic\" lengthAdjust=\"spacing\" textLength=\"68\" x=\"162\" y=\"280.1387\">«part  def»</text><text fill=\"#000000\" font-family=\"sans-serif\" font-size=\"14\" lengthAdjust=\"spacing\" textLength=\"50\" x=\"171\" y=\"295.9639\">Vehicle</text><line style=\"stroke:#181818;stroke-width:0.5;\" x1=\"162\" x2=\"230\" y1=\"304.2656\" y2=\"304.2656\"/></g></a><!--MD5=[ebbe1d658d1005bcc118a6aa81145e00]\n",
       "class E4--><a href=\"psysml:fbf2953e-726b-446c-805b-ce056d089132\" target=\"_top\" title=\"psysml:fbf2953e-726b-446c-805b-ce056d089132\" xlink:actuate=\"onRequest\" xlink:href=\"psysml:fbf2953e-726b-446c-805b-ce056d089132\" xlink:show=\"new\" xlink:title=\"psysml:fbf2953e-726b-446c-805b-ce056d089132\" xlink:type=\"simple\"><g id=\"elem_E4\"><rect fill=\"#FFFACD\" filter=\"url(#fn2x8dkdekfr9)\" height=\"48.2656\" id=\"E4\" style=\"stroke:#181818;stroke-width:0.5;\" width=\"70\" x=\"56\" y=\"264\"/><text fill=\"#000000\" font-family=\"sans-serif\" font-size=\"12\" font-style=\"italic\" lengthAdjust=\"spacing\" textLength=\"68\" x=\"57\" y=\"280.1387\">«part  def»</text><text fill=\"#000000\" font-family=\"sans-serif\" font-size=\"14\" lengthAdjust=\"spacing\" textLength=\"50\" x=\"66\" y=\"295.9639\">Vehicle</text><line style=\"stroke:#181818;stroke-width:0.5;\" x1=\"57\" x2=\"125\" y1=\"304.2656\" y2=\"304.2656\"/></g></a><!--MD5=[60a26617385b1d2d0262a64233df1f8d]\n",
       "class E6--><a href=\"psysml:1df993ae-180d-40db-acc7-c592d2ed44d7\" target=\"_top\" title=\"psysml:1df993ae-180d-40db-acc7-c592d2ed44d7\" xlink:actuate=\"onRequest\" xlink:href=\"psysml:1df993ae-180d-40db-acc7-c592d2ed44d7\" xlink:show=\"new\" xlink:title=\"psysml:1df993ae-180d-40db-acc7-c592d2ed44d7\" xlink:type=\"simple\"><g id=\"elem_E6\"><rect fill=\"#FFFACD\" filter=\"url(#fn2x8dkdekfr9)\" height=\"48.2656\" id=\"E6\" rx=\"10\" ry=\"10\" style=\"stroke:#181818;stroke-width:0.5;\" width=\"121\" x=\"92.5\" y=\"100\"/><text fill=\"#000000\" font-family=\"sans-serif\" font-size=\"12\" font-style=\"italic\" lengthAdjust=\"spacing\" textLength=\"40\" x=\"133\" y=\"116.1387\">«part»</text><text fill=\"#000000\" font-family=\"sans-serif\" font-size=\"14\" lengthAdjust=\"spacing\" textLength=\"107\" x=\"95.5\" y=\"131.9639\">vehicle: Vehicle</text><line style=\"stroke:#181818;stroke-width:0.5;\" x1=\"93.5\" x2=\"212.5\" y1=\"140.2656\" y2=\"140.2656\"/></g></a><!--MD5=[1c62de2aa5b76f0fb657ff8443a1a700]\n",
       "link E5 to E4--><g id=\"link_E5_E4\"><a href=\"psysml:51954fa3-afe5-4e6a-ba60-ca054eed15e8\" target=\"_top\" title=\"psysml:51954fa3-afe5-4e6a-ba60-ca054eed15e8\" xlink:actuate=\"onRequest\" xlink:href=\"psysml:51954fa3-afe5-4e6a-ba60-ca054eed15e8\" xlink:show=\"new\" xlink:title=\"psysml:51954fa3-afe5-4e6a-ba60-ca054eed15e8\" xlink:type=\"simple\"><path d=\"M66.9503,172.4094 C67.038,172.8272 67.126,173.2465 67.2143,173.6672 C67.3909,174.5085 67.5687,175.3555 67.7475,176.2075 C73.47,203.4725 80.29,235.97 85.06,258.69 \" fill=\"none\" id=\"E5-to-E4\" style=\"stroke:#181818;stroke-width:1.0;stroke-dasharray:7.0,7.0;\"/><polygon fill=\"#181818\" points=\"86.12,263.77,88.1858,254.1402,85.0928,258.8766,80.3564,255.7837,86.12,263.77\" style=\"stroke:#181818;stroke-width:1.0;\"/><text fill=\"#000000\" font-family=\"sans-serif\" font-size=\"13\" lengthAdjust=\"spacing\" textLength=\"58\" x=\"76\" y=\"209.0669\">«import»</text></a></g><!--MD5=[f667431f98296947986a1a7595a31603]\n",
       "link E6 to E4--><g id=\"link_E6_E4\"><a href=\"psysml:bdaa5b20-7fbf-4739-8cf5-0e25c1337b74\" target=\"_top\" title=\"psysml:bdaa5b20-7fbf-4739-8cf5-0e25c1337b74\" xlink:actuate=\"onRequest\" xlink:href=\"psysml:bdaa5b20-7fbf-4739-8cf5-0e25c1337b74\" xlink:show=\"new\" xlink:title=\"psysml:bdaa5b20-7fbf-4739-8cf5-0e25c1337b74\" xlink:type=\"simple\"><path d=\"M153.08,148.14 C152.45,166.32 150,191.99 142,213 C137.39,225.1 130.41,237.14 123.08,247.87 \" fill=\"none\" id=\"E6-to-E4\" style=\"stroke:#181818;stroke-width:1.0;\"/><polygon fill=\"#FFFFFF\" points=\"111.17,264,116.8313,244.5591,128.091,252.8789,111.17,264\" style=\"stroke:#181818;stroke-width:1.0;\"/><ellipse cx=\"121.8272\" cy=\"241.1633\" fill=\"#181818\" rx=\"2\" ry=\"2\" style=\"stroke:#181818;stroke-width:1.0;\"/><ellipse cx=\"129.8698\" cy=\"247.106\" fill=\"#181818\" rx=\"2\" ry=\"2\" style=\"stroke:#181818;stroke-width:1.0;\"/></a></g><!--MD5=[0b8ee0fce5b86ffe982264f44565ad30]\n",
       "@startuml\r\n",
       "skin sysmlc\r\n",
       "skinparam wrapWidth 300\r\n",
       "hide circle\r\n",
       "\r\n",
       "package \"AliasImport\" as E1  [[psysml:ea09c962-e470-4bd3-bf79-0fd6d16116e6 ]]  {\r\n",
       "package \"Definitions\" as E2  [[psysml:4e11052e-d911-402f-9b8e-d22451a94e61 ]]  {\r\n",
       "comp def \"Vehicle\" as E3  <<(T,blue) part  def>> [[psysml:fbf2953e-726b-446c-805b-ce056d089132 ]] {\r\n",
       "}\r\n",
       "comp def \"Vehicle\" as E4  <<(T,blue) part  def>> [[psysml:fbf2953e-726b-446c-805b-ce056d089132 ]] {\r\n",
       "}\r\n",
       "}\r\n",
       "package \"Usages\" as E5  [[psysml:665ec1bc-7429-419a-921f-0e5bfb2e86ee ]]  {\r\n",
       "comp usage \"vehicle: Vehicle  \" as E6  <<(T,blue) part>> [[psysml:1df993ae-180d-40db-acc7-c592d2ed44d7 ]] {\r\n",
       "}\r\n",
       "}\r\n",
       "}\r\n",
       "E5 ..> E4 [[psysml:51954fa3-afe5-4e6a-ba60-ca054eed15e8 ]] : <<import>>\r\n",
       "E6 - -:|> E4 [[psysml:bdaa5b20-7fbf-4739-8cf5-0e25c1337b74 ]] \r\n",
       "@enduml\r\n",
       "\n",
       "PlantUML version 1.2022.7(Mon Aug 22 17:01:30 UTC 2022)\n",
       "(EPL source distribution)\n",
       "Java Runtime: OpenJDK Runtime Environment\n",
       "JVM: OpenJDK 64-Bit Server VM\n",
       "Default Encoding: UTF-8\n",
       "Language: en\n",
       "Country: null\n",
       "--></g></svg>"
      ]
     },
     "execution_count": 29,
     "metadata": {},
     "output_type": "execute_result"
    }
   ],
   "source": [
    "%viz --style=\"STDCOLOR\" --view=\"MIXED\" \"AliasImport\""
   ]
  },
  {
   "cell_type": "code",
   "execution_count": 30,
   "id": "57ada732",
   "metadata": {
    "execution": {
     "iopub.execute_input": "2024-12-16T03:26:46.738377Z",
     "iopub.status.busy": "2024-12-16T03:26:46.738105Z",
     "iopub.status.idle": "2024-12-16T03:26:46.873519Z",
     "shell.execute_reply": "2024-12-16T03:26:46.873364Z"
    }
   },
   "outputs": [
    {
     "data": {
      "image/svg+xml": [
       "<?xml version=\"1.0\" encoding=\"UTF-8\" standalone=\"no\"?><svg xmlns=\"http://www.w3.org/2000/svg\" xmlns:xlink=\"http://www.w3.org/1999/xlink\" contentStyleType=\"text/css\" height=\"351px\" preserveAspectRatio=\"none\" style=\"width:292px;height:351px;background:#FFFFFF;\" version=\"1.1\" viewBox=\"0 0 292 351\" width=\"292px\" zoomAndPan=\"magnify\"><defs/><g><!--MD5=[fbc87193dbaf4d95561dea2c320d4a47]\n",
       "cluster E1--><g id=\"cluster_E1\"><a href=\"psysml:ea09c962-e470-4bd3-bf79-0fd6d16116e6\" target=\"_top\" title=\"psysml:ea09c962-e470-4bd3-bf79-0fd6d16116e6\" xlink:actuate=\"onRequest\" xlink:href=\"psysml:ea09c962-e470-4bd3-bf79-0fd6d16116e6\" xlink:show=\"new\" xlink:title=\"psysml:ea09c962-e470-4bd3-bf79-0fd6d16116e6\" xlink:type=\"simple\"><path d=\"M8.5,6 L89.3125,6 A3.75,3.75 0 0 1 91.8125,8.5 L98.8125,28.2969 L282.5,28.2969 A2.5,2.5 0 0 1 285,30.7969 L285,341.5 A2.5,2.5 0 0 1 282.5,344 L8.5,344 A2.5,2.5 0 0 1 6,341.5 L6,8.5 A2.5,2.5 0 0 1 8.5,6 \" fill=\"none\" style=\"stroke:#000000;stroke-width:1.5;\"/><line style=\"stroke:#000000;stroke-width:1.5;\" x1=\"6\" x2=\"98.8125\" y1=\"28.2969\" y2=\"28.2969\"/><text fill=\"#000000\" font-family=\"sans-serif\" font-size=\"14\" font-weight=\"bold\" lengthAdjust=\"spacing\" textLength=\"79.8125\" x=\"10\" y=\"20.9951\">AliasImport</text></a></g><!--MD5=[e4f7fae6ed58524ba242bb0b0d3be6b7]\n",
       "cluster E2--><g id=\"cluster_E2\"><a href=\"psysml:4e11052e-d911-402f-9b8e-d22451a94e61\" target=\"_top\" title=\"psysml:4e11052e-d911-402f-9b8e-d22451a94e61\" xlink:actuate=\"onRequest\" xlink:href=\"psysml:4e11052e-d911-402f-9b8e-d22451a94e61\" xlink:show=\"new\" xlink:title=\"psysml:4e11052e-d911-402f-9b8e-d22451a94e61\" xlink:type=\"simple\"><path d=\"M32.5,229 L111.3125,229 A3.75,3.75 0 0 1 113.8125,231.5 L120.8125,251.2969 L258.5,251.2969 A2.5,2.5 0 0 1 261,253.7969 L261,317.5 A2.5,2.5 0 0 1 258.5,320 L32.5,320 A2.5,2.5 0 0 1 30,317.5 L30,231.5 A2.5,2.5 0 0 1 32.5,229 \" fill=\"none\" style=\"stroke:#000000;stroke-width:1.5;\"/><line style=\"stroke:#000000;stroke-width:1.5;\" x1=\"30\" x2=\"120.8125\" y1=\"251.2969\" y2=\"251.2969\"/><text fill=\"#000000\" font-family=\"sans-serif\" font-size=\"14\" font-weight=\"bold\" lengthAdjust=\"spacing\" textLength=\"77.8125\" x=\"34\" y=\"243.9951\">Definitions</text></a></g><!--MD5=[de5ec2e2e8f62f467e546659f5068c88]\n",
       "cluster E5--><g id=\"cluster_E5\"><a href=\"psysml:665ec1bc-7429-419a-921f-0e5bfb2e86ee\" target=\"_top\" title=\"psysml:665ec1bc-7429-419a-921f-0e5bfb2e86ee\" xlink:actuate=\"onRequest\" xlink:href=\"psysml:665ec1bc-7429-419a-921f-0e5bfb2e86ee\" xlink:show=\"new\" xlink:title=\"psysml:665ec1bc-7429-419a-921f-0e5bfb2e86ee\" xlink:type=\"simple\"><path d=\"M40.5,57 L96.125,57 A3.75,3.75 0 0 1 98.625,59.5 L105.625,79.2969 L250.5,79.2969 A2.5,2.5 0 0 1 253,81.7969 L253,169.5 A2.5,2.5 0 0 1 250.5,172 L40.5,172 A2.5,2.5 0 0 1 38,169.5 L38,59.5 A2.5,2.5 0 0 1 40.5,57 \" fill=\"none\" style=\"stroke:#000000;stroke-width:1.5;\"/><line style=\"stroke:#000000;stroke-width:1.5;\" x1=\"38\" x2=\"105.625\" y1=\"79.2969\" y2=\"79.2969\"/><text fill=\"#000000\" font-family=\"sans-serif\" font-size=\"14\" font-weight=\"bold\" lengthAdjust=\"spacing\" textLength=\"54.625\" x=\"42\" y=\"71.9951\">Usages</text></a></g><!--MD5=[09b614a08d8cba4a07c9adeb5e0fee81]\n",
       "class E3--><a href=\"psysml:fbf2953e-726b-446c-805b-ce056d089132\" target=\"_top\" title=\"psysml:fbf2953e-726b-446c-805b-ce056d089132\" xlink:actuate=\"onRequest\" xlink:href=\"psysml:fbf2953e-726b-446c-805b-ce056d089132\" xlink:show=\"new\" xlink:title=\"psysml:fbf2953e-726b-446c-805b-ce056d089132\" xlink:type=\"simple\"><g id=\"elem_E3\"><rect fill=\"#F1F1F1\" height=\"40\" id=\"E3\" rx=\"2.5\" ry=\"2.5\" style=\"stroke:#181818;stroke-width:0.5;\" width=\"82\" x=\"163\" y=\"264\"/><ellipse cx=\"178\" cy=\"280\" fill=\"#008000\" rx=\"11\" ry=\"11\" style=\"stroke:#181818;stroke-width:1.0;\"/><path d=\"M174.8594,286.5 L174.8594,274.3594 L178.6563,274.3594 Q180.6563,274.3594 181.7031,275.0625 Q182.7656,275.7656 182.7656,277.3438 Q182.7656,278.4375 182.2656,279.1563 Q181.7813,279.875 180.9531,280.0625 L180.9531,280.1406 Q181.875,280.3594 182.4375,281.0313 Q183.0156,281.6875 183.0156,282.9531 Q183.0156,284.6094 181.9688,285.5625 Q180.9219,286.5 179.0625,286.5 L174.8594,286.5 Z M178.6406,279.1406 Q179.5313,279.1406 179.8906,278.8125 Q180.2656,278.4688 180.2656,277.7656 Q180.2656,277.0313 179.875,276.7188 Q179.4844,276.3906 178.5469,276.3906 L177.1563,276.3906 L177.1563,279.1406 L178.6406,279.1406 Z M178.8281,284.4844 Q179.7344,284.4844 180.0938,284.0469 Q180.4531,283.5938 180.4531,282.8125 Q180.4531,282.0313 180.0781,281.6406 Q179.7188,281.2344 178.7344,281.2344 L177.1563,281.2344 L177.1563,284.4844 L178.8281,284.4844 Z \" fill=\"#000000\"/><text fill=\"#000000\" font-family=\"sans-serif\" font-size=\"14\" lengthAdjust=\"spacing\" textLength=\"50\" x=\"192\" y=\"284.8467\">Vehicle</text><line style=\"stroke:#181818;stroke-width:0.5;\" x1=\"164\" x2=\"244\" y1=\"296\" y2=\"296\"/></g></a><!--MD5=[ebbe1d658d1005bcc118a6aa81145e00]\n",
       "class E4--><a href=\"psysml:fbf2953e-726b-446c-805b-ce056d089132\" target=\"_top\" title=\"psysml:fbf2953e-726b-446c-805b-ce056d089132\" xlink:actuate=\"onRequest\" xlink:href=\"psysml:fbf2953e-726b-446c-805b-ce056d089132\" xlink:show=\"new\" xlink:title=\"psysml:fbf2953e-726b-446c-805b-ce056d089132\" xlink:type=\"simple\"><g id=\"elem_E4\"><rect fill=\"#F1F1F1\" height=\"40\" id=\"E4\" rx=\"2.5\" ry=\"2.5\" style=\"stroke:#181818;stroke-width:0.5;\" width=\"82\" x=\"46\" y=\"264\"/><ellipse cx=\"61\" cy=\"280\" fill=\"#008000\" rx=\"11\" ry=\"11\" style=\"stroke:#181818;stroke-width:1.0;\"/><path d=\"M57.8594,286.5 L57.8594,274.3594 L61.6563,274.3594 Q63.6563,274.3594 64.7031,275.0625 Q65.7656,275.7656 65.7656,277.3438 Q65.7656,278.4375 65.2656,279.1563 Q64.7813,279.875 63.9531,280.0625 L63.9531,280.1406 Q64.875,280.3594 65.4375,281.0313 Q66.0156,281.6875 66.0156,282.9531 Q66.0156,284.6094 64.9688,285.5625 Q63.9219,286.5 62.0625,286.5 L57.8594,286.5 Z M61.6406,279.1406 Q62.5313,279.1406 62.8906,278.8125 Q63.2656,278.4688 63.2656,277.7656 Q63.2656,277.0313 62.875,276.7188 Q62.4844,276.3906 61.5469,276.3906 L60.1563,276.3906 L60.1563,279.1406 L61.6406,279.1406 Z M61.8281,284.4844 Q62.7344,284.4844 63.0938,284.0469 Q63.4531,283.5938 63.4531,282.8125 Q63.4531,282.0313 63.0781,281.6406 Q62.7188,281.2344 61.7344,281.2344 L60.1563,281.2344 L60.1563,284.4844 L61.8281,284.4844 Z \" fill=\"#000000\"/><text fill=\"#000000\" font-family=\"sans-serif\" font-size=\"14\" lengthAdjust=\"spacing\" textLength=\"50\" x=\"75\" y=\"284.8467\">Vehicle</text><line style=\"stroke:#181818;stroke-width:0.5;\" x1=\"47\" x2=\"127\" y1=\"296\" y2=\"296\"/></g></a><!--MD5=[60a26617385b1d2d0262a64233df1f8d]\n",
       "class E6--><a href=\"psysml:1df993ae-180d-40db-acc7-c592d2ed44d7\" target=\"_top\" title=\"psysml:1df993ae-180d-40db-acc7-c592d2ed44d7\" xlink:actuate=\"onRequest\" xlink:href=\"psysml:1df993ae-180d-40db-acc7-c592d2ed44d7\" xlink:show=\"new\" xlink:title=\"psysml:1df993ae-180d-40db-acc7-c592d2ed44d7\" xlink:type=\"simple\"><g id=\"elem_E6\"><rect fill=\"#F1F1F1\" height=\"48.2656\" id=\"E6\" rx=\"10\" ry=\"10\" style=\"stroke:#181818;stroke-width:0.5;\" width=\"147\" x=\"81.5\" y=\"100\"/><ellipse cx=\"96.5\" cy=\"120.1328\" fill=\"#32CD32\" rx=\"11\" ry=\"11\" style=\"stroke:#181818;stroke-width:1.0;\"/><path d=\"M93.3594,126.6328 L93.3594,114.4922 L97.3906,114.4922 Q99.4844,114.4922 100.5,115.4766 Q101.5156,116.4453 101.5156,118.2734 Q101.5156,119.4766 101.0781,120.3828 Q100.6563,121.2891 99.7031,121.8047 Q98.7656,122.3203 97.2344,122.3203 L95.7344,122.3203 L95.7344,126.6328 L93.3594,126.6328 Z M96.9844,120.2266 Q98.0313,120.2266 98.5469,119.7422 Q99.0781,119.2578 99.0781,118.3672 Q99.0781,117.4766 98.6406,117.0391 Q98.2188,116.5859 97.2969,116.5859 L95.7344,116.5859 L95.7344,120.2266 L96.9844,120.2266 Z \" fill=\"#000000\"/><text fill=\"#000000\" font-family=\"sans-serif\" font-size=\"12\" font-style=\"italic\" lengthAdjust=\"spacing\" textLength=\"40\" x=\"148\" y=\"116.1387\">«part»</text><text fill=\"#000000\" font-family=\"sans-serif\" font-size=\"14\" lengthAdjust=\"spacing\" textLength=\"107\" x=\"110.5\" y=\"131.9639\">vehicle: Vehicle</text><line style=\"stroke:#181818;stroke-width:0.5;\" x1=\"82.5\" x2=\"227.5\" y1=\"140.2656\" y2=\"140.2656\"/></g></a><!--MD5=[1c62de2aa5b76f0fb657ff8443a1a700]\n",
       "link E5 to E4--><g id=\"link_E5_E4\"><a href=\"psysml:51954fa3-afe5-4e6a-ba60-ca054eed15e8\" target=\"_top\" title=\"psysml:51954fa3-afe5-4e6a-ba60-ca054eed15e8\" xlink:actuate=\"onRequest\" xlink:href=\"psysml:51954fa3-afe5-4e6a-ba60-ca054eed15e8\" xlink:show=\"new\" xlink:title=\"psysml:51954fa3-afe5-4e6a-ba60-ca054eed15e8\" xlink:type=\"simple\"><path d=\"M58.3442,172.5714 C58.3989,172.7821 58.4536,172.9931 58.5085,173.2045 C58.6181,173.6272 58.7282,174.0513 58.8386,174.4768 C59.0594,175.3277 59.2816,176.1839 59.505,177.045 C66.655,204.6 75.095,237.125 80.72,258.8 \" fill=\"none\" id=\"E5-to-E4\" style=\"stroke:#181818;stroke-width:1.0;stroke-dasharray:7.0,7.0;\"/><polygon fill=\"#181818\" points=\"82.04,263.87,83.6434,254.1525,80.7802,259.0313,75.9014,256.1682,82.04,263.87\" style=\"stroke:#181818;stroke-width:1.0;\"/><text fill=\"#000000\" font-family=\"sans-serif\" font-size=\"13\" lengthAdjust=\"spacing\" textLength=\"58\" x=\"68\" y=\"209.0669\">«import»</text></a></g><!--MD5=[f667431f98296947986a1a7595a31603]\n",
       "link E6 to E4--><g id=\"link_E6_E4\"><a href=\"psysml:bdaa5b20-7fbf-4739-8cf5-0e25c1337b74\" target=\"_top\" title=\"psysml:bdaa5b20-7fbf-4739-8cf5-0e25c1337b74\" xlink:actuate=\"onRequest\" xlink:href=\"psysml:bdaa5b20-7fbf-4739-8cf5-0e25c1337b74\" xlink:show=\"new\" xlink:title=\"psysml:bdaa5b20-7fbf-4739-8cf5-0e25c1337b74\" xlink:type=\"simple\"><path d=\"M152.17,148.17 C149.38,166.37 144.17,192.04 135,213 C129.78,224.94 122.44,236.98 115.07,247.62 \" fill=\"none\" id=\"E6-to-E4\" style=\"stroke:#181818;stroke-width:1.0;\"/><polygon fill=\"#FFFFFF\" points=\"103,263.97,108.6613,244.5291,119.921,252.8489,103,263.97\" style=\"stroke:#181818;stroke-width:1.0;\"/><ellipse cx=\"113.6572\" cy=\"241.1333\" fill=\"#181818\" rx=\"2\" ry=\"2\" style=\"stroke:#181818;stroke-width:1.0;\"/><ellipse cx=\"121.6998\" cy=\"247.076\" fill=\"#181818\" rx=\"2\" ry=\"2\" style=\"stroke:#181818;stroke-width:1.0;\"/></a></g><!--MD5=[a0729ef946b96b71a3bac3fe3859a989]\n",
       "@startuml\r\n",
       " \r\n",
       "package \"AliasImport\" as E1  [[psysml:ea09c962-e470-4bd3-bf79-0fd6d16116e6 ]]  {\r\n",
       "package \"Definitions\" as E2  [[psysml:4e11052e-d911-402f-9b8e-d22451a94e61 ]]  {\r\n",
       "comp def \"Vehicle\" as E3  << << (B,green) >> [[psysml:fbf2953e-726b-446c-805b-ce056d089132 ]] {\r\n",
       "}\r\n",
       "comp def \"Vehicle\" as E4  << << (B,green) >> [[psysml:fbf2953e-726b-446c-805b-ce056d089132 ]] {\r\n",
       "}\r\n",
       "}\r\n",
       "package \"Usages\" as E5  [[psysml:665ec1bc-7429-419a-921f-0e5bfb2e86ee ]]  {\r\n",
       "comp usage \"vehicle: Vehicle  \" as E6  << << (P,limegreen) part>> [[psysml:1df993ae-180d-40db-acc7-c592d2ed44d7 ]] {\r\n",
       "}\r\n",
       "}\r\n",
       "}\r\n",
       "E5 ..> E4 [[psysml:51954fa3-afe5-4e6a-ba60-ca054eed15e8 ]] : <<import>>\r\n",
       "E6 - -:|> E4 [[psysml:bdaa5b20-7fbf-4739-8cf5-0e25c1337b74 ]] \r\n",
       "@enduml\r\n",
       "\n",
       "PlantUML version 1.2022.7(Mon Aug 22 17:01:30 UTC 2022)\n",
       "(EPL source distribution)\n",
       "Java Runtime: OpenJDK Runtime Environment\n",
       "JVM: OpenJDK 64-Bit Server VM\n",
       "Default Encoding: UTF-8\n",
       "Language: en\n",
       "Country: null\n",
       "--></g></svg>"
      ]
     },
     "execution_count": 30,
     "metadata": {},
     "output_type": "execute_result"
    }
   ],
   "source": [
    "%viz --style=\"PLANTUML\" --view=\"Default\" \"AliasImport\""
   ]
  },
  {
   "cell_type": "code",
   "execution_count": 31,
   "id": "2a8665ae",
   "metadata": {
    "execution": {
     "iopub.execute_input": "2024-12-16T03:26:46.929729Z",
     "iopub.status.busy": "2024-12-16T03:26:46.929516Z",
     "iopub.status.idle": "2024-12-16T03:26:46.949404Z",
     "shell.execute_reply": "2024-12-16T03:26:46.948519Z"
    }
   },
   "outputs": [
    {
     "data": {
      "image/svg+xml": [
       "<?xml version=\"1.0\" encoding=\"UTF-8\" standalone=\"no\"?><svg xmlns=\"http://www.w3.org/2000/svg\" xmlns:xlink=\"http://www.w3.org/1999/xlink\" contentStyleType=\"text/css\" height=\"351px\" preserveAspectRatio=\"none\" style=\"width:292px;height:351px;background:#FFFFFF;\" version=\"1.1\" viewBox=\"0 0 292 351\" width=\"292px\" zoomAndPan=\"magnify\"><defs/><g><!--MD5=[fbc87193dbaf4d95561dea2c320d4a47]\n",
       "cluster E1--><g id=\"cluster_E1\"><a href=\"psysml:ea09c962-e470-4bd3-bf79-0fd6d16116e6\" target=\"_top\" title=\"psysml:ea09c962-e470-4bd3-bf79-0fd6d16116e6\" xlink:actuate=\"onRequest\" xlink:href=\"psysml:ea09c962-e470-4bd3-bf79-0fd6d16116e6\" xlink:show=\"new\" xlink:title=\"psysml:ea09c962-e470-4bd3-bf79-0fd6d16116e6\" xlink:type=\"simple\"><path d=\"M8.5,6 L89.3125,6 A3.75,3.75 0 0 1 91.8125,8.5 L98.8125,28.2969 L282.5,28.2969 A2.5,2.5 0 0 1 285,30.7969 L285,341.5 A2.5,2.5 0 0 1 282.5,344 L8.5,344 A2.5,2.5 0 0 1 6,341.5 L6,8.5 A2.5,2.5 0 0 1 8.5,6 \" fill=\"none\" style=\"stroke:#000000;stroke-width:1.5;\"/><line style=\"stroke:#000000;stroke-width:1.5;\" x1=\"6\" x2=\"98.8125\" y1=\"28.2969\" y2=\"28.2969\"/><text fill=\"#000000\" font-family=\"sans-serif\" font-size=\"14\" font-weight=\"bold\" lengthAdjust=\"spacing\" textLength=\"79.8125\" x=\"10\" y=\"20.9951\">AliasImport</text></a></g><!--MD5=[e4f7fae6ed58524ba242bb0b0d3be6b7]\n",
       "cluster E2--><g id=\"cluster_E2\"><a href=\"psysml:4e11052e-d911-402f-9b8e-d22451a94e61\" target=\"_top\" title=\"psysml:4e11052e-d911-402f-9b8e-d22451a94e61\" xlink:actuate=\"onRequest\" xlink:href=\"psysml:4e11052e-d911-402f-9b8e-d22451a94e61\" xlink:show=\"new\" xlink:title=\"psysml:4e11052e-d911-402f-9b8e-d22451a94e61\" xlink:type=\"simple\"><path d=\"M32.5,229 L111.3125,229 A3.75,3.75 0 0 1 113.8125,231.5 L120.8125,251.2969 L258.5,251.2969 A2.5,2.5 0 0 1 261,253.7969 L261,317.5 A2.5,2.5 0 0 1 258.5,320 L32.5,320 A2.5,2.5 0 0 1 30,317.5 L30,231.5 A2.5,2.5 0 0 1 32.5,229 \" fill=\"none\" style=\"stroke:#000000;stroke-width:1.5;\"/><line style=\"stroke:#000000;stroke-width:1.5;\" x1=\"30\" x2=\"120.8125\" y1=\"251.2969\" y2=\"251.2969\"/><text fill=\"#000000\" font-family=\"sans-serif\" font-size=\"14\" font-weight=\"bold\" lengthAdjust=\"spacing\" textLength=\"77.8125\" x=\"34\" y=\"243.9951\">Definitions</text></a></g><!--MD5=[de5ec2e2e8f62f467e546659f5068c88]\n",
       "cluster E5--><g id=\"cluster_E5\"><a href=\"psysml:665ec1bc-7429-419a-921f-0e5bfb2e86ee\" target=\"_top\" title=\"psysml:665ec1bc-7429-419a-921f-0e5bfb2e86ee\" xlink:actuate=\"onRequest\" xlink:href=\"psysml:665ec1bc-7429-419a-921f-0e5bfb2e86ee\" xlink:show=\"new\" xlink:title=\"psysml:665ec1bc-7429-419a-921f-0e5bfb2e86ee\" xlink:type=\"simple\"><path d=\"M40.5,57 L96.125,57 A3.75,3.75 0 0 1 98.625,59.5 L105.625,79.2969 L250.5,79.2969 A2.5,2.5 0 0 1 253,81.7969 L253,169.5 A2.5,2.5 0 0 1 250.5,172 L40.5,172 A2.5,2.5 0 0 1 38,169.5 L38,59.5 A2.5,2.5 0 0 1 40.5,57 \" fill=\"none\" style=\"stroke:#000000;stroke-width:1.5;\"/><line style=\"stroke:#000000;stroke-width:1.5;\" x1=\"38\" x2=\"105.625\" y1=\"79.2969\" y2=\"79.2969\"/><text fill=\"#000000\" font-family=\"sans-serif\" font-size=\"14\" font-weight=\"bold\" lengthAdjust=\"spacing\" textLength=\"54.625\" x=\"42\" y=\"71.9951\">Usages</text></a></g><!--MD5=[09b614a08d8cba4a07c9adeb5e0fee81]\n",
       "class E3--><a href=\"psysml:fbf2953e-726b-446c-805b-ce056d089132\" target=\"_top\" title=\"psysml:fbf2953e-726b-446c-805b-ce056d089132\" xlink:actuate=\"onRequest\" xlink:href=\"psysml:fbf2953e-726b-446c-805b-ce056d089132\" xlink:show=\"new\" xlink:title=\"psysml:fbf2953e-726b-446c-805b-ce056d089132\" xlink:type=\"simple\"><g id=\"elem_E3\"><rect fill=\"#F1F1F1\" height=\"40\" id=\"E3\" rx=\"2.5\" ry=\"2.5\" style=\"stroke:#181818;stroke-width:0.5;\" width=\"82\" x=\"163\" y=\"264\"/><ellipse cx=\"178\" cy=\"280\" fill=\"#008000\" rx=\"11\" ry=\"11\" style=\"stroke:#181818;stroke-width:1.0;\"/><path d=\"M174.8594,286.5 L174.8594,274.3594 L178.6563,274.3594 Q180.6563,274.3594 181.7031,275.0625 Q182.7656,275.7656 182.7656,277.3438 Q182.7656,278.4375 182.2656,279.1563 Q181.7813,279.875 180.9531,280.0625 L180.9531,280.1406 Q181.875,280.3594 182.4375,281.0313 Q183.0156,281.6875 183.0156,282.9531 Q183.0156,284.6094 181.9688,285.5625 Q180.9219,286.5 179.0625,286.5 L174.8594,286.5 Z M178.6406,279.1406 Q179.5313,279.1406 179.8906,278.8125 Q180.2656,278.4688 180.2656,277.7656 Q180.2656,277.0313 179.875,276.7188 Q179.4844,276.3906 178.5469,276.3906 L177.1563,276.3906 L177.1563,279.1406 L178.6406,279.1406 Z M178.8281,284.4844 Q179.7344,284.4844 180.0938,284.0469 Q180.4531,283.5938 180.4531,282.8125 Q180.4531,282.0313 180.0781,281.6406 Q179.7188,281.2344 178.7344,281.2344 L177.1563,281.2344 L177.1563,284.4844 L178.8281,284.4844 Z \" fill=\"#000000\"/><text fill=\"#000000\" font-family=\"sans-serif\" font-size=\"14\" lengthAdjust=\"spacing\" textLength=\"50\" x=\"192\" y=\"284.8467\">Vehicle</text><line style=\"stroke:#181818;stroke-width:0.5;\" x1=\"164\" x2=\"244\" y1=\"296\" y2=\"296\"/></g></a><!--MD5=[ebbe1d658d1005bcc118a6aa81145e00]\n",
       "class E4--><a href=\"psysml:fbf2953e-726b-446c-805b-ce056d089132\" target=\"_top\" title=\"psysml:fbf2953e-726b-446c-805b-ce056d089132\" xlink:actuate=\"onRequest\" xlink:href=\"psysml:fbf2953e-726b-446c-805b-ce056d089132\" xlink:show=\"new\" xlink:title=\"psysml:fbf2953e-726b-446c-805b-ce056d089132\" xlink:type=\"simple\"><g id=\"elem_E4\"><rect fill=\"#F1F1F1\" height=\"40\" id=\"E4\" rx=\"2.5\" ry=\"2.5\" style=\"stroke:#181818;stroke-width:0.5;\" width=\"82\" x=\"46\" y=\"264\"/><ellipse cx=\"61\" cy=\"280\" fill=\"#008000\" rx=\"11\" ry=\"11\" style=\"stroke:#181818;stroke-width:1.0;\"/><path d=\"M57.8594,286.5 L57.8594,274.3594 L61.6563,274.3594 Q63.6563,274.3594 64.7031,275.0625 Q65.7656,275.7656 65.7656,277.3438 Q65.7656,278.4375 65.2656,279.1563 Q64.7813,279.875 63.9531,280.0625 L63.9531,280.1406 Q64.875,280.3594 65.4375,281.0313 Q66.0156,281.6875 66.0156,282.9531 Q66.0156,284.6094 64.9688,285.5625 Q63.9219,286.5 62.0625,286.5 L57.8594,286.5 Z M61.6406,279.1406 Q62.5313,279.1406 62.8906,278.8125 Q63.2656,278.4688 63.2656,277.7656 Q63.2656,277.0313 62.875,276.7188 Q62.4844,276.3906 61.5469,276.3906 L60.1563,276.3906 L60.1563,279.1406 L61.6406,279.1406 Z M61.8281,284.4844 Q62.7344,284.4844 63.0938,284.0469 Q63.4531,283.5938 63.4531,282.8125 Q63.4531,282.0313 63.0781,281.6406 Q62.7188,281.2344 61.7344,281.2344 L60.1563,281.2344 L60.1563,284.4844 L61.8281,284.4844 Z \" fill=\"#000000\"/><text fill=\"#000000\" font-family=\"sans-serif\" font-size=\"14\" lengthAdjust=\"spacing\" textLength=\"50\" x=\"75\" y=\"284.8467\">Vehicle</text><line style=\"stroke:#181818;stroke-width:0.5;\" x1=\"47\" x2=\"127\" y1=\"296\" y2=\"296\"/></g></a><!--MD5=[60a26617385b1d2d0262a64233df1f8d]\n",
       "class E6--><a href=\"psysml:1df993ae-180d-40db-acc7-c592d2ed44d7\" target=\"_top\" title=\"psysml:1df993ae-180d-40db-acc7-c592d2ed44d7\" xlink:actuate=\"onRequest\" xlink:href=\"psysml:1df993ae-180d-40db-acc7-c592d2ed44d7\" xlink:show=\"new\" xlink:title=\"psysml:1df993ae-180d-40db-acc7-c592d2ed44d7\" xlink:type=\"simple\"><g id=\"elem_E6\"><rect fill=\"#F1F1F1\" height=\"48.2656\" id=\"E6\" rx=\"10\" ry=\"10\" style=\"stroke:#181818;stroke-width:0.5;\" width=\"147\" x=\"81.5\" y=\"100\"/><ellipse cx=\"96.5\" cy=\"120.1328\" fill=\"#32CD32\" rx=\"11\" ry=\"11\" style=\"stroke:#181818;stroke-width:1.0;\"/><path d=\"M93.3594,126.6328 L93.3594,114.4922 L97.3906,114.4922 Q99.4844,114.4922 100.5,115.4766 Q101.5156,116.4453 101.5156,118.2734 Q101.5156,119.4766 101.0781,120.3828 Q100.6563,121.2891 99.7031,121.8047 Q98.7656,122.3203 97.2344,122.3203 L95.7344,122.3203 L95.7344,126.6328 L93.3594,126.6328 Z M96.9844,120.2266 Q98.0313,120.2266 98.5469,119.7422 Q99.0781,119.2578 99.0781,118.3672 Q99.0781,117.4766 98.6406,117.0391 Q98.2188,116.5859 97.2969,116.5859 L95.7344,116.5859 L95.7344,120.2266 L96.9844,120.2266 Z \" fill=\"#000000\"/><text fill=\"#000000\" font-family=\"sans-serif\" font-size=\"12\" font-style=\"italic\" lengthAdjust=\"spacing\" textLength=\"40\" x=\"148\" y=\"116.1387\">«part»</text><text fill=\"#000000\" font-family=\"sans-serif\" font-size=\"14\" lengthAdjust=\"spacing\" textLength=\"107\" x=\"110.5\" y=\"131.9639\">vehicle: Vehicle</text><line style=\"stroke:#181818;stroke-width:0.5;\" x1=\"82.5\" x2=\"227.5\" y1=\"140.2656\" y2=\"140.2656\"/></g></a><!--MD5=[1c62de2aa5b76f0fb657ff8443a1a700]\n",
       "link E5 to E4--><g id=\"link_E5_E4\"><a href=\"psysml:51954fa3-afe5-4e6a-ba60-ca054eed15e8\" target=\"_top\" title=\"psysml:51954fa3-afe5-4e6a-ba60-ca054eed15e8\" xlink:actuate=\"onRequest\" xlink:href=\"psysml:51954fa3-afe5-4e6a-ba60-ca054eed15e8\" xlink:show=\"new\" xlink:title=\"psysml:51954fa3-afe5-4e6a-ba60-ca054eed15e8\" xlink:type=\"simple\"><path d=\"M58.3442,172.5714 C58.3989,172.7821 58.4536,172.9931 58.5085,173.2045 C58.6181,173.6272 58.7282,174.0513 58.8386,174.4768 C59.0594,175.3277 59.2816,176.1839 59.505,177.045 C66.655,204.6 75.095,237.125 80.72,258.8 \" fill=\"none\" id=\"E5-to-E4\" style=\"stroke:#181818;stroke-width:1.0;stroke-dasharray:7.0,7.0;\"/><polygon fill=\"#181818\" points=\"82.04,263.87,83.6434,254.1525,80.7802,259.0313,75.9014,256.1682,82.04,263.87\" style=\"stroke:#181818;stroke-width:1.0;\"/><text fill=\"#000000\" font-family=\"sans-serif\" font-size=\"13\" lengthAdjust=\"spacing\" textLength=\"58\" x=\"68\" y=\"209.0669\">«import»</text></a></g><!--MD5=[f667431f98296947986a1a7595a31603]\n",
       "link E6 to E4--><g id=\"link_E6_E4\"><a href=\"psysml:bdaa5b20-7fbf-4739-8cf5-0e25c1337b74\" target=\"_top\" title=\"psysml:bdaa5b20-7fbf-4739-8cf5-0e25c1337b74\" xlink:actuate=\"onRequest\" xlink:href=\"psysml:bdaa5b20-7fbf-4739-8cf5-0e25c1337b74\" xlink:show=\"new\" xlink:title=\"psysml:bdaa5b20-7fbf-4739-8cf5-0e25c1337b74\" xlink:type=\"simple\"><path d=\"M152.17,148.17 C149.38,166.37 144.17,192.04 135,213 C129.78,224.94 122.44,236.98 115.07,247.62 \" fill=\"none\" id=\"E6-to-E4\" style=\"stroke:#181818;stroke-width:1.0;\"/><polygon fill=\"#FFFFFF\" points=\"103,263.97,108.6613,244.5291,119.921,252.8489,103,263.97\" style=\"stroke:#181818;stroke-width:1.0;\"/><ellipse cx=\"113.6572\" cy=\"241.1333\" fill=\"#181818\" rx=\"2\" ry=\"2\" style=\"stroke:#181818;stroke-width:1.0;\"/><ellipse cx=\"121.6998\" cy=\"247.076\" fill=\"#181818\" rx=\"2\" ry=\"2\" style=\"stroke:#181818;stroke-width:1.0;\"/></a></g><!--MD5=[a0729ef946b96b71a3bac3fe3859a989]\n",
       "@startuml\r\n",
       " \r\n",
       "package \"AliasImport\" as E1  [[psysml:ea09c962-e470-4bd3-bf79-0fd6d16116e6 ]]  {\r\n",
       "package \"Definitions\" as E2  [[psysml:4e11052e-d911-402f-9b8e-d22451a94e61 ]]  {\r\n",
       "comp def \"Vehicle\" as E3  << << (B,green) >> [[psysml:fbf2953e-726b-446c-805b-ce056d089132 ]] {\r\n",
       "}\r\n",
       "comp def \"Vehicle\" as E4  << << (B,green) >> [[psysml:fbf2953e-726b-446c-805b-ce056d089132 ]] {\r\n",
       "}\r\n",
       "}\r\n",
       "package \"Usages\" as E5  [[psysml:665ec1bc-7429-419a-921f-0e5bfb2e86ee ]]  {\r\n",
       "comp usage \"vehicle: Vehicle  \" as E6  << << (P,limegreen) part>> [[psysml:1df993ae-180d-40db-acc7-c592d2ed44d7 ]] {\r\n",
       "}\r\n",
       "}\r\n",
       "}\r\n",
       "E5 ..> E4 [[psysml:51954fa3-afe5-4e6a-ba60-ca054eed15e8 ]] : <<import>>\r\n",
       "E6 - -:|> E4 [[psysml:bdaa5b20-7fbf-4739-8cf5-0e25c1337b74 ]] \r\n",
       "@enduml\r\n",
       "\n",
       "PlantUML version 1.2022.7(Mon Aug 22 17:01:30 UTC 2022)\n",
       "(EPL source distribution)\n",
       "Java Runtime: OpenJDK Runtime Environment\n",
       "JVM: OpenJDK 64-Bit Server VM\n",
       "Default Encoding: UTF-8\n",
       "Language: en\n",
       "Country: null\n",
       "--></g></svg>"
      ]
     },
     "execution_count": 31,
     "metadata": {},
     "output_type": "execute_result"
    }
   ],
   "source": [
    "%viz --style=\"PLANTUML\" --view=\"Tree\" \"AliasImport\""
   ]
  },
  {
   "cell_type": "code",
   "execution_count": 32,
   "id": "a2e3ed54",
   "metadata": {
    "execution": {
     "iopub.execute_input": "2024-12-16T03:26:47.004803Z",
     "iopub.status.busy": "2024-12-16T03:26:47.004576Z",
     "iopub.status.idle": "2024-12-16T03:26:47.043177Z",
     "shell.execute_reply": "2024-12-16T03:26:47.042457Z"
    }
   },
   "outputs": [
    {
     "data": {
      "image/svg+xml": [
       "<?xml version=\"1.0\" encoding=\"UTF-8\" standalone=\"no\"?><svg xmlns=\"http://www.w3.org/2000/svg\" xmlns:xlink=\"http://www.w3.org/1999/xlink\" contentStyleType=\"text/css\" height=\"389px\" preserveAspectRatio=\"none\" style=\"width:603px;height:389px;background:#000000;\" version=\"1.1\" viewBox=\"0 0 603 389\" width=\"603px\" zoomAndPan=\"magnify\"><defs/><g><rect fill=\"#091E14\" height=\"1\" style=\"stroke:#091E14;stroke-width:1.0;\" width=\"1\" x=\"0\" y=\"0\"/><rect fill=\"#FFFFFF\" height=\"226.6573\" style=\"stroke:#FFFFFF;stroke-width:1.0;\" width=\"602\" x=\"0\" y=\"0\"/><text fill=\"#000000\" font-family=\"sans-serif\" font-size=\"12\" font-weight=\"bold\" lengthAdjust=\"spacing\" textLength=\"145.75\" x=\"5\" y=\"16.1387\">Welcome to PlantUML!</text><text fill=\"#000000\" font-family=\"sans-serif\" font-size=\"12\" lengthAdjust=\"spacing\" textLength=\"4\" x=\"5\" y=\"30.1074\"> </text><text fill=\"#000000\" font-family=\"sans-serif\" font-size=\"12\" lengthAdjust=\"spacing\" textLength=\"283\" x=\"5\" y=\"44.0762\">You can start with a simple UML Diagram like:</text><text fill=\"#000000\" font-family=\"sans-serif\" font-size=\"12\" lengthAdjust=\"spacing\" textLength=\"4\" x=\"5\" y=\"58.0449\"> </text><text fill=\"#000000\" font-family=\"monospace\" font-size=\"12\" lengthAdjust=\"spacing\" textLength=\"119\" x=\"5\" y=\"73.7031\">Bob-&gt;Alice: Hello</text><text fill=\"#000000\" font-family=\"sans-serif\" font-size=\"12\" lengthAdjust=\"spacing\" textLength=\"4\" x=\"5\" y=\"88.3578\"> </text><text fill=\"#000000\" font-family=\"sans-serif\" font-size=\"12\" lengthAdjust=\"spacing\" textLength=\"14\" x=\"5\" y=\"102.3265\">Or</text><text fill=\"#000000\" font-family=\"sans-serif\" font-size=\"12\" lengthAdjust=\"spacing\" textLength=\"4\" x=\"5\" y=\"116.2953\"> </text><text fill=\"#000000\" font-family=\"monospace\" font-size=\"12\" lengthAdjust=\"spacing\" textLength=\"91\" x=\"5\" y=\"131.9535\">class Example</text><text fill=\"#000000\" font-family=\"sans-serif\" font-size=\"12\" lengthAdjust=\"spacing\" textLength=\"4\" x=\"5\" y=\"146.6082\"> </text><text fill=\"#000000\" font-family=\"sans-serif\" font-size=\"12\" lengthAdjust=\"spacing\" textLength=\"349\" x=\"5\" y=\"160.5769\">You will find more information about PlantUML syntax on</text><text fill=\"#000000\" font-family=\"sans-serif\" font-size=\"12\" lengthAdjust=\"spacing\" text-decoration=\"underline\" textLength=\"129\" x=\"358\" y=\"160.5769\">https://plantuml.com</text><text fill=\"#000000\" font-family=\"sans-serif\" font-size=\"12\" lengthAdjust=\"spacing\" textLength=\"4\" x=\"5\" y=\"174.5457\"> </text><text fill=\"#000000\" font-family=\"sans-serif\" font-size=\"12\" lengthAdjust=\"spacing\" textLength=\"299\" x=\"5\" y=\"188.5144\">(If you use this software, you accept its license)</text><text fill=\"#000000\" font-family=\"sans-serif\" font-size=\"12\" lengthAdjust=\"spacing\" textLength=\"108\" x=\"5\" y=\"204.8585\">(Details by typing</text><text fill=\"#000000\" font-family=\"monospace\" font-size=\"12\" lengthAdjust=\"spacing\" textLength=\"49\" x=\"117\" y=\"204.1726\">license</text><text fill=\"#000000\" font-family=\"sans-serif\" font-size=\"12\" lengthAdjust=\"spacing\" textLength=\"56\" x=\"170\" y=\"204.8585\">keyword)</text><text fill=\"#000000\" font-family=\"sans-serif\" font-size=\"12\" lengthAdjust=\"spacing\" textLength=\"4\" x=\"5\" y=\"218.8273\"> </text><image height=\"71\" width=\"80\" x=\"516\" xlink:href=\"data:image/png;base64,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\" y=\"6\"/><rect fill=\"#000000\" height=\"160.3594\" style=\"stroke:#000000;stroke-width:1.0;\" width=\"602\" x=\"0\" y=\"226.6573\"/><text fill=\"#33FF02\" font-family=\"sans-serif\" font-size=\"12\" font-style=\"italic\" font-weight=\"bold\" lengthAdjust=\"spacing\" textLength=\"123\" x=\"5\" y=\"243.6573\">PlantUML 1.2022.7</text><text fill=\"#33FF02\" font-family=\"sans-serif\" font-size=\"12\" font-style=\"italic\" font-weight=\"bold\" lengthAdjust=\"spacing\" textLength=\"4\" x=\"5\" y=\"257.6261\"> </text><text fill=\"#33FF02\" font-family=\"sans-serif\" font-size=\"12\" font-style=\"italic\" font-weight=\"bold\" lengthAdjust=\"spacing\" textLength=\"390\" x=\"5\" y=\"271.5948\">&lt;b&gt;This version of PlantUML is 846 days old, so you should</text><text fill=\"#33FF02\" font-family=\"sans-serif\" font-size=\"12\" font-style=\"italic\" font-weight=\"bold\" lengthAdjust=\"spacing\" textLength=\"398.875\" x=\"5\" y=\"285.5636\">&lt;b&gt;consider upgrading from https://plantuml.com/download</text><rect fill=\"#33FF02\" height=\"21.2969\" style=\"stroke:#33FF02;stroke-width:1.0;\" width=\"153.3125\" x=\"5\" y=\"295.5323\"/><text fill=\"#000000\" font-family=\"sans-serif\" font-size=\"14\" font-weight=\"bold\" lengthAdjust=\"spacing\" textLength=\"151.3125\" x=\"6\" y=\"310.5323\">[From string (line 2) ]</text><text fill=\"#33FF02\" font-family=\"sans-serif\" font-size=\"14\" font-weight=\"bold\" lengthAdjust=\"spacing\" textLength=\"4\" x=\"5\" y=\"330.8292\"> </text><text fill=\"#33FF02\" font-family=\"sans-serif\" font-size=\"14\" font-weight=\"bold\" lengthAdjust=\"spacing\" textLength=\"73.9375\" x=\"5\" y=\"347.1261\">@startuml</text><text fill=\"#33FF02\" font-family=\"sans-serif\" font-size=\"14\" font-weight=\"bold\" lengthAdjust=\"spacing\" text-decoration=\"wavy underline\" textLength=\"4\" x=\"5\" y=\"363.423\"> </text><text fill=\"#FF0000\" font-family=\"sans-serif\" font-size=\"14\" font-weight=\"bold\" lengthAdjust=\"spacing\" textLength=\"131\" x=\"9\" y=\"379.7198\">Empty description</text><!--MD5=[5b6570bdd48fecdb4121f0162c378f28]\n",
       "@startuml\r\n",
       " \r\n",
       "@enduml\r\n",
       "\n",
       "PlantUML version 1.2022.7(Mon Aug 22 17:01:30 UTC 2022)\n",
       "(EPL source distribution)\n",
       "Java Runtime: OpenJDK Runtime Environment\n",
       "JVM: OpenJDK 64-Bit Server VM\n",
       "Default Encoding: UTF-8\n",
       "Language: en\n",
       "Country: null\n",
       "--></g></svg>"
      ]
     },
     "execution_count": 32,
     "metadata": {},
     "output_type": "execute_result"
    }
   ],
   "source": [
    "%viz --style=\"PLANTUML\" --view=\"State\" \"AliasImport\""
   ]
  },
  {
   "cell_type": "code",
   "execution_count": 33,
   "id": "50cf95cb",
   "metadata": {
    "execution": {
     "iopub.execute_input": "2024-12-16T03:26:47.098839Z",
     "iopub.status.busy": "2024-12-16T03:26:47.098605Z",
     "iopub.status.idle": "2024-12-16T03:26:47.116076Z",
     "shell.execute_reply": "2024-12-16T03:26:47.115283Z"
    }
   },
   "outputs": [
    {
     "data": {
      "image/svg+xml": [
       "<?xml version=\"1.0\" encoding=\"UTF-8\" standalone=\"no\"?><svg xmlns=\"http://www.w3.org/2000/svg\" xmlns:xlink=\"http://www.w3.org/1999/xlink\" contentStyleType=\"text/css\" height=\"343px\" preserveAspectRatio=\"none\" style=\"width:303px;height:343px;background:#FFFFFF;\" version=\"1.1\" viewBox=\"0 0 303 343\" width=\"303px\" zoomAndPan=\"magnify\"><defs/><g><!--MD5=[fbc87193dbaf4d95561dea2c320d4a47]\n",
       "cluster E1--><g id=\"cluster_E1\"><a href=\"psysml:ea09c962-e470-4bd3-bf79-0fd6d16116e6\" target=\"_top\" title=\"psysml:ea09c962-e470-4bd3-bf79-0fd6d16116e6\" xlink:actuate=\"onRequest\" xlink:href=\"psysml:ea09c962-e470-4bd3-bf79-0fd6d16116e6\" xlink:show=\"new\" xlink:title=\"psysml:ea09c962-e470-4bd3-bf79-0fd6d16116e6\" xlink:type=\"simple\"><path d=\"M8.5,6 L89.3125,6 A3.75,3.75 0 0 1 91.8125,8.5 L98.8125,28.2969 L293.5,28.2969 A2.5,2.5 0 0 1 296,30.7969 L296,333.5 A2.5,2.5 0 0 1 293.5,336 L8.5,336 A2.5,2.5 0 0 1 6,333.5 L6,8.5 A2.5,2.5 0 0 1 8.5,6 \" fill=\"none\" style=\"stroke:#000000;stroke-width:1.5;\"/><line style=\"stroke:#000000;stroke-width:1.5;\" x1=\"6\" x2=\"98.8125\" y1=\"28.2969\" y2=\"28.2969\"/><text fill=\"#000000\" font-family=\"sans-serif\" font-size=\"14\" font-weight=\"bold\" lengthAdjust=\"spacing\" textLength=\"79.8125\" x=\"10\" y=\"20.9951\">AliasImport</text></a></g><!--MD5=[e4f7fae6ed58524ba242bb0b0d3be6b7]\n",
       "cluster E2--><g id=\"cluster_E2\"><a href=\"psysml:4e11052e-d911-402f-9b8e-d22451a94e61\" target=\"_top\" title=\"psysml:4e11052e-d911-402f-9b8e-d22451a94e61\" xlink:actuate=\"onRequest\" xlink:href=\"psysml:4e11052e-d911-402f-9b8e-d22451a94e61\" xlink:show=\"new\" xlink:title=\"psysml:4e11052e-d911-402f-9b8e-d22451a94e61\" xlink:type=\"simple\"><path d=\"M32.5,221 L111.3125,221 A3.75,3.75 0 0 1 113.8125,223.5 L120.8125,243.2969 L269.5,243.2969 A2.5,2.5 0 0 1 272,245.7969 L272,309.5 A2.5,2.5 0 0 1 269.5,312 L32.5,312 A2.5,2.5 0 0 1 30,309.5 L30,223.5 A2.5,2.5 0 0 1 32.5,221 \" fill=\"none\" style=\"stroke:#000000;stroke-width:1.5;\"/><line style=\"stroke:#000000;stroke-width:1.5;\" x1=\"30\" x2=\"120.8125\" y1=\"243.2969\" y2=\"243.2969\"/><text fill=\"#000000\" font-family=\"sans-serif\" font-size=\"14\" font-weight=\"bold\" lengthAdjust=\"spacing\" textLength=\"77.8125\" x=\"34\" y=\"235.9951\">Definitions</text></a></g><!--MD5=[de5ec2e2e8f62f467e546659f5068c88]\n",
       "cluster E5--><g id=\"cluster_E5\"><a href=\"psysml:665ec1bc-7429-419a-921f-0e5bfb2e86ee\" target=\"_top\" title=\"psysml:665ec1bc-7429-419a-921f-0e5bfb2e86ee\" xlink:actuate=\"onRequest\" xlink:href=\"psysml:665ec1bc-7429-419a-921f-0e5bfb2e86ee\" xlink:show=\"new\" xlink:title=\"psysml:665ec1bc-7429-419a-921f-0e5bfb2e86ee\" xlink:type=\"simple\"><path d=\"M47.5,57 L103.125,57 A3.75,3.75 0 0 1 105.625,59.5 L112.625,79.2969 L253.5,79.2969 A2.5,2.5 0 0 1 256,81.7969 L256,161.5 A2.5,2.5 0 0 1 253.5,164 L47.5,164 A2.5,2.5 0 0 1 45,161.5 L45,59.5 A2.5,2.5 0 0 1 47.5,57 \" fill=\"none\" style=\"stroke:#000000;stroke-width:1.5;\"/><line style=\"stroke:#000000;stroke-width:1.5;\" x1=\"45\" x2=\"112.625\" y1=\"79.2969\" y2=\"79.2969\"/><text fill=\"#000000\" font-family=\"sans-serif\" font-size=\"14\" font-weight=\"bold\" lengthAdjust=\"spacing\" textLength=\"54.625\" x=\"49\" y=\"71.9951\">Usages</text></a></g><g><a href=\"psysml:fbf2953e-726b-446c-805b-ce056d089132\" target=\"_top\" title=\"psysml:fbf2953e-726b-446c-805b-ce056d089132\" xlink:actuate=\"onRequest\" xlink:href=\"psysml:fbf2953e-726b-446c-805b-ce056d089132\" xlink:show=\"new\" xlink:title=\"psysml:fbf2953e-726b-446c-805b-ce056d089132\" xlink:type=\"simple\"><rect fill=\"#F1F1F1\" height=\"40\" id=\"E3\" style=\"stroke:#A80036;stroke-width:1.5;\" width=\"87\" x=\"168.5\" y=\"256\"/><ellipse cx=\"185.75\" cy=\"272\" fill=\"#008000\" rx=\"11\" ry=\"11\" style=\"stroke:#181818;stroke-width:1.0;\"/><path d=\"M182.6094,278.5 L182.6094,266.3594 L186.4063,266.3594 Q188.4063,266.3594 189.4531,267.0625 Q190.5156,267.7656 190.5156,269.3438 Q190.5156,270.4375 190.0156,271.1563 Q189.5313,271.875 188.7031,272.0625 L188.7031,272.1406 Q189.625,272.3594 190.1875,273.0313 Q190.7656,273.6875 190.7656,274.9531 Q190.7656,276.6094 189.7188,277.5625 Q188.6719,278.5 186.8125,278.5 L182.6094,278.5 Z M186.3906,271.1406 Q187.2813,271.1406 187.6406,270.8125 Q188.0156,270.4688 188.0156,269.7656 Q188.0156,269.0313 187.625,268.7188 Q187.2344,268.3906 186.2969,268.3906 L184.9063,268.3906 L184.9063,271.1406 L186.3906,271.1406 Z M186.5781,276.4844 Q187.4844,276.4844 187.8438,276.0469 Q188.2031,275.5938 188.2031,274.8125 Q188.2031,274.0313 187.8281,273.6406 Q187.4688,273.2344 186.4844,273.2344 L184.9063,273.2344 L184.9063,276.4844 L186.5781,276.4844 Z \" fill=\"#000000\"/><text fill=\"#000000\" font-family=\"sans-serif\" font-size=\"14\" lengthAdjust=\"spacing\" textLength=\"50\" x=\"200.25\" y=\"276.8467\">Vehicle</text></a></g><g><a href=\"psysml:fbf2953e-726b-446c-805b-ce056d089132\" target=\"_top\" title=\"psysml:fbf2953e-726b-446c-805b-ce056d089132\" xlink:actuate=\"onRequest\" xlink:href=\"psysml:fbf2953e-726b-446c-805b-ce056d089132\" xlink:show=\"new\" xlink:title=\"psysml:fbf2953e-726b-446c-805b-ce056d089132\" xlink:type=\"simple\"><rect fill=\"#F1F1F1\" height=\"40\" id=\"E4\" style=\"stroke:#A80036;stroke-width:1.5;\" width=\"87\" x=\"46.5\" y=\"256\"/><ellipse cx=\"63.75\" cy=\"272\" fill=\"#008000\" rx=\"11\" ry=\"11\" style=\"stroke:#181818;stroke-width:1.0;\"/><path d=\"M60.6094,278.5 L60.6094,266.3594 L64.4063,266.3594 Q66.4063,266.3594 67.4531,267.0625 Q68.5156,267.7656 68.5156,269.3438 Q68.5156,270.4375 68.0156,271.1563 Q67.5313,271.875 66.7031,272.0625 L66.7031,272.1406 Q67.625,272.3594 68.1875,273.0313 Q68.7656,273.6875 68.7656,274.9531 Q68.7656,276.6094 67.7188,277.5625 Q66.6719,278.5 64.8125,278.5 L60.6094,278.5 Z M64.3906,271.1406 Q65.2813,271.1406 65.6406,270.8125 Q66.0156,270.4688 66.0156,269.7656 Q66.0156,269.0313 65.625,268.7188 Q65.2344,268.3906 64.2969,268.3906 L62.9063,268.3906 L62.9063,271.1406 L64.3906,271.1406 Z M64.5781,276.4844 Q65.4844,276.4844 65.8438,276.0469 Q66.2031,275.5938 66.2031,274.8125 Q66.2031,274.0313 65.8281,273.6406 Q65.4688,273.2344 64.4844,273.2344 L62.9063,273.2344 L62.9063,276.4844 L64.5781,276.4844 Z \" fill=\"#000000\"/><text fill=\"#000000\" font-family=\"sans-serif\" font-size=\"14\" lengthAdjust=\"spacing\" textLength=\"50\" x=\"78.25\" y=\"276.8467\">Vehicle</text></a></g><g><a href=\"psysml:1df993ae-180d-40db-acc7-c592d2ed44d7\" target=\"_top\" title=\"psysml:1df993ae-180d-40db-acc7-c592d2ed44d7\" xlink:actuate=\"onRequest\" xlink:href=\"psysml:1df993ae-180d-40db-acc7-c592d2ed44d7\" xlink:show=\"new\" xlink:title=\"psysml:1df993ae-180d-40db-acc7-c592d2ed44d7\" xlink:type=\"simple\"><rect fill=\"#F1F1F1\" height=\"40\" id=\"E6\" rx=\"10\" ry=\"10\" style=\"stroke:#A80036;stroke-width:1.5;\" width=\"144\" x=\"88\" y=\"100\"/><ellipse cx=\"105.25\" cy=\"116\" fill=\"#F1F1F1\" rx=\"11\" ry=\"11\" style=\"stroke:#181818;stroke-width:1.0;\"/><path d=\"M105.3125,123.1719 Q103.2031,123.1719 102.1094,122.0469 Q101.0156,120.9219 101.0156,118.875 L101.0156,110.8594 L103.4844,110.8594 L103.4844,118.4375 Q103.4844,119.875 103.9375,120.4688 Q104.3906,121.0469 105.3438,121.0469 Q106.3594,121.0469 106.7813,120.4375 Q107.2188,119.8281 107.2188,118.4219 L107.2188,110.8594 L109.6875,110.8594 L109.6875,118.8594 Q109.6875,120.8438 108.5938,122.0156 Q107.5156,123.1719 105.3125,123.1719 Z \" fill=\"#000000\"/><text fill=\"#000000\" font-family=\"sans-serif\" font-size=\"14\" lengthAdjust=\"spacing\" textLength=\"107\" x=\"119.75\" y=\"120.8467\">vehicle: Vehicle</text></a></g><!--MD5=[1c62de2aa5b76f0fb657ff8443a1a700]\n",
       "link E5 to E4--><g id=\"link_E5_E4\"><a href=\"psysml:51954fa3-afe5-4e6a-ba60-ca054eed15e8\" target=\"_top\" title=\"psysml:51954fa3-afe5-4e6a-ba60-ca054eed15e8\" xlink:actuate=\"onRequest\" xlink:href=\"psysml:51954fa3-afe5-4e6a-ba60-ca054eed15e8\" xlink:show=\"new\" xlink:title=\"psysml:51954fa3-afe5-4e6a-ba60-ca054eed15e8\" xlink:type=\"simple\"><path d=\"M63.4673,164.5679 C63.5155,164.7689 63.5639,164.9703 63.6124,165.172 C63.7093,165.5755 63.8066,165.9804 63.9042,166.3867 C64.2947,168.0122 64.6907,169.6603 65.0913,171.3275 C71.5,198.0025 79.08,229.55 84.18,250.78 \" fill=\"none\" id=\"E5-to-E4\" style=\"stroke:#181818;stroke-width:1.0;stroke-dasharray:7.0,7.0;\"/><polygon fill=\"#181818\" points=\"85.37,255.74,87.1549,246.0542,84.201,250.8786,79.3766,247.9247,85.37,255.74\" style=\"stroke:#181818;stroke-width:1.0;\"/><text fill=\"#000000\" font-family=\"sans-serif\" font-size=\"13\" lengthAdjust=\"spacing\" textLength=\"58\" x=\"73\" y=\"201.0669\">«import»</text></a></g><!--MD5=[f667431f98296947986a1a7595a31603]\n",
       "link E6 to E4--><g id=\"link_E6_E4\"><a href=\"psysml:bdaa5b20-7fbf-4739-8cf5-0e25c1337b74\" target=\"_top\" title=\"psysml:bdaa5b20-7fbf-4739-8cf5-0e25c1337b74\" xlink:actuate=\"onRequest\" xlink:href=\"psysml:bdaa5b20-7fbf-4739-8cf5-0e25c1337b74\" xlink:show=\"new\" xlink:title=\"psysml:bdaa5b20-7fbf-4739-8cf5-0e25c1337b74\" xlink:type=\"simple\"><path d=\"M157.61,140.03 C154.92,157.52 149.62,183.85 140,205 C134.51,217.08 126.8,229.2 119.09,239.89 \" fill=\"none\" id=\"E6-to-E4\" style=\"stroke:#181818;stroke-width:1.0;\"/><polygon fill=\"#FFFFFF\" points=\"106.87,255.76,112.9078,236.4327,124.0038,244.9696,106.87,255.76\" style=\"stroke:#181818;stroke-width:1.0;\"/><ellipse cx=\"117.9687\" cy=\"233.1346\" fill=\"#181818\" rx=\"2\" ry=\"2\" style=\"stroke:#181818;stroke-width:1.0;\"/><ellipse cx=\"125.8944\" cy=\"239.2324\" fill=\"#181818\" rx=\"2\" ry=\"2\" style=\"stroke:#181818;stroke-width:1.0;\"/></a></g><!--MD5=[f13acc8c6eb6daac6a320443cc92f2f7]\n",
       "@startuml\r\n",
       " skinparam ranksep 10\r\n",
       "skinparam rectangle {\r\n",
       " backgroundColor<<block>> LightGreen\r\n",
       "}\r\n",
       "\r\n",
       "package \"AliasImport\" as E1  [[psysml:ea09c962-e470-4bd3-bf79-0fd6d16116e6 ]]  {\r\n",
       "package \"Definitions\" as E2  [[psysml:4e11052e-d911-402f-9b8e-d22451a94e61 ]]  {\r\n",
       "rec def \"Vehicle\" as E3  << << (B,green) >> [[psysml:fbf2953e-726b-446c-805b-ce056d089132 ]] {\r\n",
       "}\r\n",
       "rec def \"Vehicle\" as E4  << << (B,green) >> [[psysml:fbf2953e-726b-446c-805b-ce056d089132 ]] {\r\n",
       "}\r\n",
       "}\r\n",
       "package \"Usages\" as E5  [[psysml:665ec1bc-7429-419a-921f-0e5bfb2e86ee ]]  {\r\n",
       "rec usage \"vehicle: Vehicle\" as E6 [[psysml:1df993ae-180d-40db-acc7-c592d2ed44d7 ]] {\r\n",
       "}\r\n",
       "}\r\n",
       "}\r\n",
       "E5 ..> E4 [[psysml:51954fa3-afe5-4e6a-ba60-ca054eed15e8 ]] : <<import>>\r\n",
       "E6 - -:|> E4 [[psysml:bdaa5b20-7fbf-4739-8cf5-0e25c1337b74 ]] \r\n",
       "@enduml\r\n",
       "\n",
       "PlantUML version 1.2022.7(Mon Aug 22 17:01:30 UTC 2022)\n",
       "(EPL source distribution)\n",
       "Java Runtime: OpenJDK Runtime Environment\n",
       "JVM: OpenJDK 64-Bit Server VM\n",
       "Default Encoding: UTF-8\n",
       "Language: en\n",
       "Country: null\n",
       "--></g></svg>"
      ]
     },
     "execution_count": 33,
     "metadata": {},
     "output_type": "execute_result"
    }
   ],
   "source": [
    "%viz --style=\"PLANTUML\" --view=\"Interconnection\" \"AliasImport\""
   ]
  },
  {
   "cell_type": "code",
   "execution_count": 34,
   "id": "fb6a4d3f",
   "metadata": {
    "execution": {
     "iopub.execute_input": "2024-12-16T03:26:47.172865Z",
     "iopub.status.busy": "2024-12-16T03:26:47.172614Z",
     "iopub.status.idle": "2024-12-16T03:26:47.177042Z",
     "shell.execute_reply": "2024-12-16T03:26:47.176870Z"
    }
   },
   "outputs": [
    {
     "data": {
      "image/svg+xml": [
       "<?xml version=\"1.0\" encoding=\"UTF-8\" standalone=\"no\"?><svg xmlns=\"http://www.w3.org/2000/svg\" xmlns:xlink=\"http://www.w3.org/1999/xlink\" contentStyleType=\"text/css\" height=\"10px\" preserveAspectRatio=\"none\" style=\"width:10px;height:10px;background:#FFFFFF;\" version=\"1.1\" viewBox=\"0 0 10 10\" width=\"10px\" zoomAndPan=\"magnify\"><defs/><g><!--MD5=[5b85ed15c012f432344d03f88cdcf85b]\n",
       "@startuml\r\n",
       " skinparam ranksep 8\r\n",
       "\r\n",
       "@enduml\r\n",
       "\n",
       "PlantUML version 1.2022.7(Mon Aug 22 17:01:30 UTC 2022)\n",
       "(EPL source distribution)\n",
       "Java Runtime: OpenJDK Runtime Environment\n",
       "JVM: OpenJDK 64-Bit Server VM\n",
       "Default Encoding: UTF-8\n",
       "Language: en\n",
       "Country: null\n",
       "--></g></svg>"
      ]
     },
     "execution_count": 34,
     "metadata": {},
     "output_type": "execute_result"
    }
   ],
   "source": [
    "%viz --style=\"PLANTUML\" --view=\"Action\" \"AliasImport\""
   ]
  },
  {
   "cell_type": "code",
   "execution_count": 35,
   "id": "54079f78",
   "metadata": {
    "execution": {
     "iopub.execute_input": "2024-12-16T03:26:47.232388Z",
     "iopub.status.busy": "2024-12-16T03:26:47.232189Z",
     "iopub.status.idle": "2024-12-16T03:26:47.236383Z",
     "shell.execute_reply": "2024-12-16T03:26:47.236207Z"
    }
   },
   "outputs": [
    {
     "data": {
      "image/svg+xml": [
       "<?xml version=\"1.0\" encoding=\"UTF-8\" standalone=\"no\"?><svg xmlns=\"http://www.w3.org/2000/svg\" xmlns:xlink=\"http://www.w3.org/1999/xlink\" contentStyleType=\"text/css\" height=\"10px\" preserveAspectRatio=\"none\" style=\"width:10px;height:10px;background:#FFFFFF;\" version=\"1.1\" viewBox=\"0 0 10 10\" width=\"10px\" zoomAndPan=\"magnify\"><defs/><g><!--MD5=[395e82ba475bd2e80052467b56fa0251]\n",
       "@startuml\r\n",
       " skinparam roundcorner 20\r\n",
       "skinparam BoxPadding 20\r\n",
       "skinparam SequenceBoxBackgroundColor #white\r\n",
       "skinparam style strictuml\r\n",
       "skinparam maxMessageSize 100\r\n",
       "\r\n",
       "@enduml\r\n",
       "\n",
       "PlantUML version 1.2022.7(Mon Aug 22 17:01:30 UTC 2022)\n",
       "(EPL source distribution)\n",
       "Java Runtime: OpenJDK Runtime Environment\n",
       "JVM: OpenJDK 64-Bit Server VM\n",
       "Default Encoding: UTF-8\n",
       "Language: en\n",
       "Country: null\n",
       "--></g></svg>"
      ]
     },
     "execution_count": 35,
     "metadata": {},
     "output_type": "execute_result"
    }
   ],
   "source": [
    "%viz --style=\"PLANTUML\" --view=\"Sequence\" \"AliasImport\""
   ]
  },
  {
   "cell_type": "code",
   "execution_count": 36,
   "id": "fc8a0b20",
   "metadata": {
    "execution": {
     "iopub.execute_input": "2024-12-16T03:26:47.292379Z",
     "iopub.status.busy": "2024-12-16T03:26:47.292153Z",
     "iopub.status.idle": "2024-12-16T03:26:47.308956Z",
     "shell.execute_reply": "2024-12-16T03:26:47.308799Z"
    }
   },
   "outputs": [
    {
     "data": {
      "image/svg+xml": [
       "<?xml version=\"1.0\" encoding=\"UTF-8\" standalone=\"no\"?><svg xmlns=\"http://www.w3.org/2000/svg\" xmlns:xlink=\"http://www.w3.org/1999/xlink\" contentStyleType=\"text/css\" height=\"351px\" preserveAspectRatio=\"none\" style=\"width:292px;height:351px;background:#FFFFFF;\" version=\"1.1\" viewBox=\"0 0 292 351\" width=\"292px\" zoomAndPan=\"magnify\"><defs/><g><!--MD5=[fbc87193dbaf4d95561dea2c320d4a47]\n",
       "cluster E1--><g id=\"cluster_E1\"><a href=\"psysml:ea09c962-e470-4bd3-bf79-0fd6d16116e6\" target=\"_top\" title=\"psysml:ea09c962-e470-4bd3-bf79-0fd6d16116e6\" xlink:actuate=\"onRequest\" xlink:href=\"psysml:ea09c962-e470-4bd3-bf79-0fd6d16116e6\" xlink:show=\"new\" xlink:title=\"psysml:ea09c962-e470-4bd3-bf79-0fd6d16116e6\" xlink:type=\"simple\"><path d=\"M8.5,6 L89.3125,6 A3.75,3.75 0 0 1 91.8125,8.5 L98.8125,28.2969 L282.5,28.2969 A2.5,2.5 0 0 1 285,30.7969 L285,341.5 A2.5,2.5 0 0 1 282.5,344 L8.5,344 A2.5,2.5 0 0 1 6,341.5 L6,8.5 A2.5,2.5 0 0 1 8.5,6 \" fill=\"none\" style=\"stroke:#000000;stroke-width:1.5;\"/><line style=\"stroke:#000000;stroke-width:1.5;\" x1=\"6\" x2=\"98.8125\" y1=\"28.2969\" y2=\"28.2969\"/><text fill=\"#000000\" font-family=\"sans-serif\" font-size=\"14\" font-weight=\"bold\" lengthAdjust=\"spacing\" textLength=\"79.8125\" x=\"10\" y=\"20.9951\">AliasImport</text></a></g><!--MD5=[e4f7fae6ed58524ba242bb0b0d3be6b7]\n",
       "cluster E2--><g id=\"cluster_E2\"><a href=\"psysml:4e11052e-d911-402f-9b8e-d22451a94e61\" target=\"_top\" title=\"psysml:4e11052e-d911-402f-9b8e-d22451a94e61\" xlink:actuate=\"onRequest\" xlink:href=\"psysml:4e11052e-d911-402f-9b8e-d22451a94e61\" xlink:show=\"new\" xlink:title=\"psysml:4e11052e-d911-402f-9b8e-d22451a94e61\" xlink:type=\"simple\"><path d=\"M32.5,229 L111.3125,229 A3.75,3.75 0 0 1 113.8125,231.5 L120.8125,251.2969 L258.5,251.2969 A2.5,2.5 0 0 1 261,253.7969 L261,317.5 A2.5,2.5 0 0 1 258.5,320 L32.5,320 A2.5,2.5 0 0 1 30,317.5 L30,231.5 A2.5,2.5 0 0 1 32.5,229 \" fill=\"none\" style=\"stroke:#000000;stroke-width:1.5;\"/><line style=\"stroke:#000000;stroke-width:1.5;\" x1=\"30\" x2=\"120.8125\" y1=\"251.2969\" y2=\"251.2969\"/><text fill=\"#000000\" font-family=\"sans-serif\" font-size=\"14\" font-weight=\"bold\" lengthAdjust=\"spacing\" textLength=\"77.8125\" x=\"34\" y=\"243.9951\">Definitions</text></a></g><!--MD5=[de5ec2e2e8f62f467e546659f5068c88]\n",
       "cluster E5--><g id=\"cluster_E5\"><a href=\"psysml:665ec1bc-7429-419a-921f-0e5bfb2e86ee\" target=\"_top\" title=\"psysml:665ec1bc-7429-419a-921f-0e5bfb2e86ee\" xlink:actuate=\"onRequest\" xlink:href=\"psysml:665ec1bc-7429-419a-921f-0e5bfb2e86ee\" xlink:show=\"new\" xlink:title=\"psysml:665ec1bc-7429-419a-921f-0e5bfb2e86ee\" xlink:type=\"simple\"><path d=\"M40.5,57 L96.125,57 A3.75,3.75 0 0 1 98.625,59.5 L105.625,79.2969 L250.5,79.2969 A2.5,2.5 0 0 1 253,81.7969 L253,169.5 A2.5,2.5 0 0 1 250.5,172 L40.5,172 A2.5,2.5 0 0 1 38,169.5 L38,59.5 A2.5,2.5 0 0 1 40.5,57 \" fill=\"none\" style=\"stroke:#000000;stroke-width:1.5;\"/><line style=\"stroke:#000000;stroke-width:1.5;\" x1=\"38\" x2=\"105.625\" y1=\"79.2969\" y2=\"79.2969\"/><text fill=\"#000000\" font-family=\"sans-serif\" font-size=\"14\" font-weight=\"bold\" lengthAdjust=\"spacing\" textLength=\"54.625\" x=\"42\" y=\"71.9951\">Usages</text></a></g><!--MD5=[09b614a08d8cba4a07c9adeb5e0fee81]\n",
       "class E3--><a href=\"psysml:fbf2953e-726b-446c-805b-ce056d089132\" target=\"_top\" title=\"psysml:fbf2953e-726b-446c-805b-ce056d089132\" xlink:actuate=\"onRequest\" xlink:href=\"psysml:fbf2953e-726b-446c-805b-ce056d089132\" xlink:show=\"new\" xlink:title=\"psysml:fbf2953e-726b-446c-805b-ce056d089132\" xlink:type=\"simple\"><g id=\"elem_E3\"><rect fill=\"#F1F1F1\" height=\"40\" id=\"E3\" rx=\"2.5\" ry=\"2.5\" style=\"stroke:#181818;stroke-width:0.5;\" width=\"82\" x=\"163\" y=\"264\"/><ellipse cx=\"178\" cy=\"280\" fill=\"#008000\" rx=\"11\" ry=\"11\" style=\"stroke:#181818;stroke-width:1.0;\"/><path d=\"M174.8594,286.5 L174.8594,274.3594 L178.6563,274.3594 Q180.6563,274.3594 181.7031,275.0625 Q182.7656,275.7656 182.7656,277.3438 Q182.7656,278.4375 182.2656,279.1563 Q181.7813,279.875 180.9531,280.0625 L180.9531,280.1406 Q181.875,280.3594 182.4375,281.0313 Q183.0156,281.6875 183.0156,282.9531 Q183.0156,284.6094 181.9688,285.5625 Q180.9219,286.5 179.0625,286.5 L174.8594,286.5 Z M178.6406,279.1406 Q179.5313,279.1406 179.8906,278.8125 Q180.2656,278.4688 180.2656,277.7656 Q180.2656,277.0313 179.875,276.7188 Q179.4844,276.3906 178.5469,276.3906 L177.1563,276.3906 L177.1563,279.1406 L178.6406,279.1406 Z M178.8281,284.4844 Q179.7344,284.4844 180.0938,284.0469 Q180.4531,283.5938 180.4531,282.8125 Q180.4531,282.0313 180.0781,281.6406 Q179.7188,281.2344 178.7344,281.2344 L177.1563,281.2344 L177.1563,284.4844 L178.8281,284.4844 Z \" fill=\"#000000\"/><text fill=\"#000000\" font-family=\"sans-serif\" font-size=\"14\" lengthAdjust=\"spacing\" textLength=\"50\" x=\"192\" y=\"284.8467\">Vehicle</text><line style=\"stroke:#181818;stroke-width:0.5;\" x1=\"164\" x2=\"244\" y1=\"296\" y2=\"296\"/></g></a><!--MD5=[ebbe1d658d1005bcc118a6aa81145e00]\n",
       "class E4--><a href=\"psysml:fbf2953e-726b-446c-805b-ce056d089132\" target=\"_top\" title=\"psysml:fbf2953e-726b-446c-805b-ce056d089132\" xlink:actuate=\"onRequest\" xlink:href=\"psysml:fbf2953e-726b-446c-805b-ce056d089132\" xlink:show=\"new\" xlink:title=\"psysml:fbf2953e-726b-446c-805b-ce056d089132\" xlink:type=\"simple\"><g id=\"elem_E4\"><rect fill=\"#F1F1F1\" height=\"40\" id=\"E4\" rx=\"2.5\" ry=\"2.5\" style=\"stroke:#181818;stroke-width:0.5;\" width=\"82\" x=\"46\" y=\"264\"/><ellipse cx=\"61\" cy=\"280\" fill=\"#008000\" rx=\"11\" ry=\"11\" style=\"stroke:#181818;stroke-width:1.0;\"/><path d=\"M57.8594,286.5 L57.8594,274.3594 L61.6563,274.3594 Q63.6563,274.3594 64.7031,275.0625 Q65.7656,275.7656 65.7656,277.3438 Q65.7656,278.4375 65.2656,279.1563 Q64.7813,279.875 63.9531,280.0625 L63.9531,280.1406 Q64.875,280.3594 65.4375,281.0313 Q66.0156,281.6875 66.0156,282.9531 Q66.0156,284.6094 64.9688,285.5625 Q63.9219,286.5 62.0625,286.5 L57.8594,286.5 Z M61.6406,279.1406 Q62.5313,279.1406 62.8906,278.8125 Q63.2656,278.4688 63.2656,277.7656 Q63.2656,277.0313 62.875,276.7188 Q62.4844,276.3906 61.5469,276.3906 L60.1563,276.3906 L60.1563,279.1406 L61.6406,279.1406 Z M61.8281,284.4844 Q62.7344,284.4844 63.0938,284.0469 Q63.4531,283.5938 63.4531,282.8125 Q63.4531,282.0313 63.0781,281.6406 Q62.7188,281.2344 61.7344,281.2344 L60.1563,281.2344 L60.1563,284.4844 L61.8281,284.4844 Z \" fill=\"#000000\"/><text fill=\"#000000\" font-family=\"sans-serif\" font-size=\"14\" lengthAdjust=\"spacing\" textLength=\"50\" x=\"75\" y=\"284.8467\">Vehicle</text><line style=\"stroke:#181818;stroke-width:0.5;\" x1=\"47\" x2=\"127\" y1=\"296\" y2=\"296\"/></g></a><!--MD5=[60a26617385b1d2d0262a64233df1f8d]\n",
       "class E6--><a href=\"psysml:1df993ae-180d-40db-acc7-c592d2ed44d7\" target=\"_top\" title=\"psysml:1df993ae-180d-40db-acc7-c592d2ed44d7\" xlink:actuate=\"onRequest\" xlink:href=\"psysml:1df993ae-180d-40db-acc7-c592d2ed44d7\" xlink:show=\"new\" xlink:title=\"psysml:1df993ae-180d-40db-acc7-c592d2ed44d7\" xlink:type=\"simple\"><g id=\"elem_E6\"><rect fill=\"#F1F1F1\" height=\"48.2656\" id=\"E6\" rx=\"10\" ry=\"10\" style=\"stroke:#181818;stroke-width:0.5;\" width=\"147\" x=\"81.5\" y=\"100\"/><ellipse cx=\"96.5\" cy=\"120.1328\" fill=\"#32CD32\" rx=\"11\" ry=\"11\" style=\"stroke:#181818;stroke-width:1.0;\"/><path d=\"M93.3594,126.6328 L93.3594,114.4922 L97.3906,114.4922 Q99.4844,114.4922 100.5,115.4766 Q101.5156,116.4453 101.5156,118.2734 Q101.5156,119.4766 101.0781,120.3828 Q100.6563,121.2891 99.7031,121.8047 Q98.7656,122.3203 97.2344,122.3203 L95.7344,122.3203 L95.7344,126.6328 L93.3594,126.6328 Z M96.9844,120.2266 Q98.0313,120.2266 98.5469,119.7422 Q99.0781,119.2578 99.0781,118.3672 Q99.0781,117.4766 98.6406,117.0391 Q98.2188,116.5859 97.2969,116.5859 L95.7344,116.5859 L95.7344,120.2266 L96.9844,120.2266 Z \" fill=\"#000000\"/><text fill=\"#000000\" font-family=\"sans-serif\" font-size=\"12\" font-style=\"italic\" lengthAdjust=\"spacing\" textLength=\"40\" x=\"148\" y=\"116.1387\">«part»</text><text fill=\"#000000\" font-family=\"sans-serif\" font-size=\"14\" lengthAdjust=\"spacing\" textLength=\"107\" x=\"110.5\" y=\"131.9639\">vehicle: Vehicle</text><line style=\"stroke:#181818;stroke-width:0.5;\" x1=\"82.5\" x2=\"227.5\" y1=\"140.2656\" y2=\"140.2656\"/></g></a><!--MD5=[1c62de2aa5b76f0fb657ff8443a1a700]\n",
       "link E5 to E4--><g id=\"link_E5_E4\"><a href=\"psysml:51954fa3-afe5-4e6a-ba60-ca054eed15e8\" target=\"_top\" title=\"psysml:51954fa3-afe5-4e6a-ba60-ca054eed15e8\" xlink:actuate=\"onRequest\" xlink:href=\"psysml:51954fa3-afe5-4e6a-ba60-ca054eed15e8\" xlink:show=\"new\" xlink:title=\"psysml:51954fa3-afe5-4e6a-ba60-ca054eed15e8\" xlink:type=\"simple\"><path d=\"M58.3442,172.5714 C58.3989,172.7821 58.4536,172.9931 58.5085,173.2045 C58.6181,173.6272 58.7282,174.0513 58.8386,174.4768 C59.0594,175.3277 59.2816,176.1839 59.505,177.045 C66.655,204.6 75.095,237.125 80.72,258.8 \" fill=\"none\" id=\"E5-to-E4\" style=\"stroke:#181818;stroke-width:1.0;stroke-dasharray:7.0,7.0;\"/><polygon fill=\"#181818\" points=\"82.04,263.87,83.6434,254.1525,80.7802,259.0313,75.9014,256.1682,82.04,263.87\" style=\"stroke:#181818;stroke-width:1.0;\"/><text fill=\"#000000\" font-family=\"sans-serif\" font-size=\"13\" lengthAdjust=\"spacing\" textLength=\"58\" x=\"68\" y=\"209.0669\">«import»</text></a></g><!--MD5=[f667431f98296947986a1a7595a31603]\n",
       "link E6 to E4--><g id=\"link_E6_E4\"><a href=\"psysml:bdaa5b20-7fbf-4739-8cf5-0e25c1337b74\" target=\"_top\" title=\"psysml:bdaa5b20-7fbf-4739-8cf5-0e25c1337b74\" xlink:actuate=\"onRequest\" xlink:href=\"psysml:bdaa5b20-7fbf-4739-8cf5-0e25c1337b74\" xlink:show=\"new\" xlink:title=\"psysml:bdaa5b20-7fbf-4739-8cf5-0e25c1337b74\" xlink:type=\"simple\"><path d=\"M152.17,148.17 C149.38,166.37 144.17,192.04 135,213 C129.78,224.94 122.44,236.98 115.07,247.62 \" fill=\"none\" id=\"E6-to-E4\" style=\"stroke:#181818;stroke-width:1.0;\"/><polygon fill=\"#FFFFFF\" points=\"103,263.97,108.6613,244.5291,119.921,252.8489,103,263.97\" style=\"stroke:#181818;stroke-width:1.0;\"/><ellipse cx=\"113.6572\" cy=\"241.1333\" fill=\"#181818\" rx=\"2\" ry=\"2\" style=\"stroke:#181818;stroke-width:1.0;\"/><ellipse cx=\"121.6998\" cy=\"247.076\" fill=\"#181818\" rx=\"2\" ry=\"2\" style=\"stroke:#181818;stroke-width:1.0;\"/></a></g><!--MD5=[a0729ef946b96b71a3bac3fe3859a989]\n",
       "@startuml\r\n",
       " \r\n",
       "package \"AliasImport\" as E1  [[psysml:ea09c962-e470-4bd3-bf79-0fd6d16116e6 ]]  {\r\n",
       "package \"Definitions\" as E2  [[psysml:4e11052e-d911-402f-9b8e-d22451a94e61 ]]  {\r\n",
       "comp def \"Vehicle\" as E3  << << (B,green) >> [[psysml:fbf2953e-726b-446c-805b-ce056d089132 ]] {\r\n",
       "}\r\n",
       "comp def \"Vehicle\" as E4  << << (B,green) >> [[psysml:fbf2953e-726b-446c-805b-ce056d089132 ]] {\r\n",
       "}\r\n",
       "}\r\n",
       "package \"Usages\" as E5  [[psysml:665ec1bc-7429-419a-921f-0e5bfb2e86ee ]]  {\r\n",
       "comp usage \"vehicle: Vehicle  \" as E6  << << (P,limegreen) part>> [[psysml:1df993ae-180d-40db-acc7-c592d2ed44d7 ]] {\r\n",
       "}\r\n",
       "}\r\n",
       "}\r\n",
       "E5 ..> E4 [[psysml:51954fa3-afe5-4e6a-ba60-ca054eed15e8 ]] : <<import>>\r\n",
       "E6 - -:|> E4 [[psysml:bdaa5b20-7fbf-4739-8cf5-0e25c1337b74 ]] \r\n",
       "@enduml\r\n",
       "\n",
       "PlantUML version 1.2022.7(Mon Aug 22 17:01:30 UTC 2022)\n",
       "(EPL source distribution)\n",
       "Java Runtime: OpenJDK Runtime Environment\n",
       "JVM: OpenJDK 64-Bit Server VM\n",
       "Default Encoding: UTF-8\n",
       "Language: en\n",
       "Country: null\n",
       "--></g></svg>"
      ]
     },
     "execution_count": 36,
     "metadata": {},
     "output_type": "execute_result"
    }
   ],
   "source": [
    "%viz --style=\"PLANTUML\" --view=\"MIXED\" \"AliasImport\""
   ]
  },
  {
   "cell_type": "code",
   "execution_count": 37,
   "id": "ee05d833",
   "metadata": {
    "execution": {
     "iopub.execute_input": "2024-12-16T03:26:47.360221Z",
     "iopub.status.busy": "2024-12-16T03:26:47.360030Z",
     "iopub.status.idle": "2024-12-16T03:26:47.375265Z",
     "shell.execute_reply": "2024-12-16T03:26:47.374557Z"
    }
   },
   "outputs": [
    {
     "data": {
      "image/svg+xml": [
       "<?xml version=\"1.0\" encoding=\"UTF-8\" standalone=\"no\"?><svg xmlns=\"http://www.w3.org/2000/svg\" xmlns:xlink=\"http://www.w3.org/1999/xlink\" contentStyleType=\"text/css\" height=\"359px\" preserveAspectRatio=\"none\" style=\"width:288px;height:359px;background:#FFFFFF;\" version=\"1.1\" viewBox=\"0 0 288 359\" width=\"288px\" zoomAndPan=\"magnify\"><defs/><g><!--MD5=[fbc87193dbaf4d95561dea2c320d4a47]\n",
       "cluster E1--><g id=\"cluster_E1\"><a href=\"psysml:ea09c962-e470-4bd3-bf79-0fd6d16116e6\" target=\"_top\" title=\"psysml:ea09c962-e470-4bd3-bf79-0fd6d16116e6\" xlink:actuate=\"onRequest\" xlink:href=\"psysml:ea09c962-e470-4bd3-bf79-0fd6d16116e6\" xlink:show=\"new\" xlink:title=\"psysml:ea09c962-e470-4bd3-bf79-0fd6d16116e6\" xlink:type=\"simple\"><polygon fill=\"none\" points=\"16,6,101.8125,6,108.8125,28.2969,271,28.2969,271,352,16,352,16,6\" style=\"stroke:#000000;stroke-width:1.5;\"/><line style=\"stroke:#000000;stroke-width:1.5;\" x1=\"16\" x2=\"108.8125\" y1=\"28.2969\" y2=\"28.2969\"/><text fill=\"#000000\" font-family=\"sans-serif\" font-size=\"14\" font-weight=\"bold\" lengthAdjust=\"spacing\" textLength=\"79.8125\" x=\"20\" y=\"20.9951\">AliasImport</text></a></g><!--MD5=[e4f7fae6ed58524ba242bb0b0d3be6b7]\n",
       "cluster E2--><g id=\"cluster_E2\"><a href=\"psysml:4e11052e-d911-402f-9b8e-d22451a94e61\" target=\"_top\" title=\"psysml:4e11052e-d911-402f-9b8e-d22451a94e61\" xlink:actuate=\"onRequest\" xlink:href=\"psysml:4e11052e-d911-402f-9b8e-d22451a94e61\" xlink:show=\"new\" xlink:title=\"psysml:4e11052e-d911-402f-9b8e-d22451a94e61\" xlink:type=\"simple\"><polygon fill=\"none\" points=\"40,229,123.8125,229,130.8125,251.2969,247,251.2969,247,328,40,328,40,229\" style=\"stroke:#000000;stroke-width:1.5;\"/><line style=\"stroke:#000000;stroke-width:1.5;\" x1=\"40\" x2=\"130.8125\" y1=\"251.2969\" y2=\"251.2969\"/><text fill=\"#000000\" font-family=\"sans-serif\" font-size=\"14\" font-weight=\"bold\" lengthAdjust=\"spacing\" textLength=\"77.8125\" x=\"44\" y=\"243.9951\">Definitions</text></a></g><!--MD5=[de5ec2e2e8f62f467e546659f5068c88]\n",
       "cluster E5--><g id=\"cluster_E5\"><a href=\"psysml:665ec1bc-7429-419a-921f-0e5bfb2e86ee\" target=\"_top\" title=\"psysml:665ec1bc-7429-419a-921f-0e5bfb2e86ee\" xlink:actuate=\"onRequest\" xlink:href=\"psysml:665ec1bc-7429-419a-921f-0e5bfb2e86ee\" xlink:show=\"new\" xlink:title=\"psysml:665ec1bc-7429-419a-921f-0e5bfb2e86ee\" xlink:type=\"simple\"><polygon fill=\"none\" points=\"49,57,109.625,57,116.625,79.2969,238,79.2969,238,172,49,172,49,57\" style=\"stroke:#000000;stroke-width:1.5;\"/><line style=\"stroke:#000000;stroke-width:1.5;\" x1=\"49\" x2=\"116.625\" y1=\"79.2969\" y2=\"79.2969\"/><text fill=\"#000000\" font-family=\"sans-serif\" font-size=\"14\" font-weight=\"bold\" lengthAdjust=\"spacing\" textLength=\"54.625\" x=\"53\" y=\"71.9951\">Usages</text></a></g><!--MD5=[09b614a08d8cba4a07c9adeb5e0fee81]\n",
       "class E3--><a href=\"psysml:fbf2953e-726b-446c-805b-ce056d089132\" target=\"_top\" title=\"psysml:fbf2953e-726b-446c-805b-ce056d089132\" xlink:actuate=\"onRequest\" xlink:href=\"psysml:fbf2953e-726b-446c-805b-ce056d089132\" xlink:show=\"new\" xlink:title=\"psysml:fbf2953e-726b-446c-805b-ce056d089132\" xlink:type=\"simple\"><g id=\"elem_E3\"><rect fill=\"#FFFFFF\" height=\"48.2656\" id=\"E3\" style=\"stroke:#181818;stroke-width:0.5;\" width=\"70\" x=\"161\" y=\"264\"/><text fill=\"#000000\" font-family=\"sans-serif\" font-size=\"12\" font-style=\"italic\" lengthAdjust=\"spacing\" textLength=\"68\" x=\"162\" y=\"280.1387\">«part  def»</text><text fill=\"#000000\" font-family=\"sans-serif\" font-size=\"14\" lengthAdjust=\"spacing\" textLength=\"50\" x=\"171\" y=\"295.9639\">Vehicle</text><line style=\"stroke:#181818;stroke-width:0.5;\" x1=\"162\" x2=\"230\" y1=\"304.2656\" y2=\"304.2656\"/></g></a><!--MD5=[ebbe1d658d1005bcc118a6aa81145e00]\n",
       "class E4--><a href=\"psysml:fbf2953e-726b-446c-805b-ce056d089132\" target=\"_top\" title=\"psysml:fbf2953e-726b-446c-805b-ce056d089132\" xlink:actuate=\"onRequest\" xlink:href=\"psysml:fbf2953e-726b-446c-805b-ce056d089132\" xlink:show=\"new\" xlink:title=\"psysml:fbf2953e-726b-446c-805b-ce056d089132\" xlink:type=\"simple\"><g id=\"elem_E4\"><rect fill=\"#FFFFFF\" height=\"48.2656\" id=\"E4\" style=\"stroke:#181818;stroke-width:0.5;\" width=\"70\" x=\"56\" y=\"264\"/><text fill=\"#000000\" font-family=\"sans-serif\" font-size=\"12\" font-style=\"italic\" lengthAdjust=\"spacing\" textLength=\"68\" x=\"57\" y=\"280.1387\">«part  def»</text><text fill=\"#000000\" font-family=\"sans-serif\" font-size=\"14\" lengthAdjust=\"spacing\" textLength=\"50\" x=\"66\" y=\"295.9639\">Vehicle</text><line style=\"stroke:#181818;stroke-width:0.5;\" x1=\"57\" x2=\"125\" y1=\"304.2656\" y2=\"304.2656\"/></g></a><!--MD5=[60a26617385b1d2d0262a64233df1f8d]\n",
       "class E6--><a href=\"psysml:1df993ae-180d-40db-acc7-c592d2ed44d7\" target=\"_top\" title=\"psysml:1df993ae-180d-40db-acc7-c592d2ed44d7\" xlink:actuate=\"onRequest\" xlink:href=\"psysml:1df993ae-180d-40db-acc7-c592d2ed44d7\" xlink:show=\"new\" xlink:title=\"psysml:1df993ae-180d-40db-acc7-c592d2ed44d7\" xlink:type=\"simple\"><g id=\"elem_E6\"><rect fill=\"#FFFFFF\" height=\"48.2656\" id=\"E6\" rx=\"10\" ry=\"10\" style=\"stroke:#181818;stroke-width:0.5;\" width=\"121\" x=\"92.5\" y=\"100\"/><text fill=\"#000000\" font-family=\"sans-serif\" font-size=\"12\" font-style=\"italic\" lengthAdjust=\"spacing\" textLength=\"40\" x=\"133\" y=\"116.1387\">«part»</text><text fill=\"#000000\" font-family=\"sans-serif\" font-size=\"14\" lengthAdjust=\"spacing\" textLength=\"107\" x=\"95.5\" y=\"131.9639\">vehicle: Vehicle</text><line style=\"stroke:#181818;stroke-width:0.5;\" x1=\"93.5\" x2=\"212.5\" y1=\"140.2656\" y2=\"140.2656\"/></g></a><!--MD5=[1c62de2aa5b76f0fb657ff8443a1a700]\n",
       "link E5 to E4--><g id=\"link_E5_E4\"><a href=\"psysml:51954fa3-afe5-4e6a-ba60-ca054eed15e8\" target=\"_top\" title=\"psysml:51954fa3-afe5-4e6a-ba60-ca054eed15e8\" xlink:actuate=\"onRequest\" xlink:href=\"psysml:51954fa3-afe5-4e6a-ba60-ca054eed15e8\" xlink:show=\"new\" xlink:title=\"psysml:51954fa3-afe5-4e6a-ba60-ca054eed15e8\" xlink:type=\"simple\"><path d=\"M66.9503,172.4094 C67.038,172.8272 67.126,173.2465 67.2143,173.6672 C67.3909,174.5085 67.5687,175.3555 67.7475,176.2075 C73.47,203.4725 80.29,235.97 85.06,258.69 \" fill=\"none\" id=\"E5-to-E4\" style=\"stroke:#181818;stroke-width:1.0;stroke-dasharray:7.0,7.0;\"/><polygon fill=\"#181818\" points=\"86.12,263.77,88.1858,254.1402,85.0928,258.8766,80.3564,255.7837,86.12,263.77\" style=\"stroke:#181818;stroke-width:1.0;\"/><text fill=\"#000000\" font-family=\"sans-serif\" font-size=\"13\" lengthAdjust=\"spacing\" textLength=\"58\" x=\"76\" y=\"209.0669\">«import»</text></a></g><!--MD5=[f667431f98296947986a1a7595a31603]\n",
       "link E6 to E4--><g id=\"link_E6_E4\"><a href=\"psysml:bdaa5b20-7fbf-4739-8cf5-0e25c1337b74\" target=\"_top\" title=\"psysml:bdaa5b20-7fbf-4739-8cf5-0e25c1337b74\" xlink:actuate=\"onRequest\" xlink:href=\"psysml:bdaa5b20-7fbf-4739-8cf5-0e25c1337b74\" xlink:show=\"new\" xlink:title=\"psysml:bdaa5b20-7fbf-4739-8cf5-0e25c1337b74\" xlink:type=\"simple\"><path d=\"M153.08,148.14 C152.45,166.32 150,191.99 142,213 C137.39,225.1 130.41,237.14 123.08,247.87 \" fill=\"none\" id=\"E6-to-E4\" style=\"stroke:#181818;stroke-width:1.0;\"/><polygon fill=\"#FFFFFF\" points=\"111.17,264,116.8313,244.5591,128.091,252.8789,111.17,264\" style=\"stroke:#181818;stroke-width:1.0;\"/><ellipse cx=\"121.8272\" cy=\"241.1633\" fill=\"#181818\" rx=\"2\" ry=\"2\" style=\"stroke:#181818;stroke-width:1.0;\"/><ellipse cx=\"129.8698\" cy=\"247.106\" fill=\"#181818\" rx=\"2\" ry=\"2\" style=\"stroke:#181818;stroke-width:1.0;\"/></a></g><!--MD5=[9a67165246da3dcf5a7e484b35749046]\n",
       "@startuml\r\n",
       "skin sysmlbw\r\n",
       "skinparam monochrome true\r\n",
       "skinparam wrapWidth 300\r\n",
       "hide circle\r\n",
       "\r\n",
       "package \"AliasImport\" as E1  [[psysml:ea09c962-e470-4bd3-bf79-0fd6d16116e6 ]]  {\r\n",
       "package \"Definitions\" as E2  [[psysml:4e11052e-d911-402f-9b8e-d22451a94e61 ]]  {\r\n",
       "comp def \"Vehicle\" as E3  <<(T,blue) part  def>> [[psysml:fbf2953e-726b-446c-805b-ce056d089132 ]] {\r\n",
       "}\r\n",
       "comp def \"Vehicle\" as E4  <<(T,blue) part  def>> [[psysml:fbf2953e-726b-446c-805b-ce056d089132 ]] {\r\n",
       "}\r\n",
       "}\r\n",
       "package \"Usages\" as E5  [[psysml:665ec1bc-7429-419a-921f-0e5bfb2e86ee ]]  {\r\n",
       "comp usage \"vehicle: Vehicle  \" as E6  <<(T,blue) part>> [[psysml:1df993ae-180d-40db-acc7-c592d2ed44d7 ]] {\r\n",
       "}\r\n",
       "}\r\n",
       "}\r\n",
       "E5 ..> E4 [[psysml:51954fa3-afe5-4e6a-ba60-ca054eed15e8 ]] : <<import>>\r\n",
       "E6 - -:|> E4 [[psysml:bdaa5b20-7fbf-4739-8cf5-0e25c1337b74 ]] \r\n",
       "@enduml\r\n",
       "\n",
       "PlantUML version 1.2022.7(Mon Aug 22 17:01:30 UTC 2022)\n",
       "(EPL source distribution)\n",
       "Java Runtime: OpenJDK Runtime Environment\n",
       "JVM: OpenJDK 64-Bit Server VM\n",
       "Default Encoding: UTF-8\n",
       "Language: en\n",
       "Country: null\n",
       "--></g></svg>"
      ]
     },
     "execution_count": 37,
     "metadata": {},
     "output_type": "execute_result"
    }
   ],
   "source": [
    "%viz --style=\"DEFAULT\" --view=\"Default\" \"AliasImport\""
   ]
  },
  {
   "cell_type": "code",
   "execution_count": 38,
   "id": "a6b8b925",
   "metadata": {
    "execution": {
     "iopub.execute_input": "2024-12-16T03:26:47.430854Z",
     "iopub.status.busy": "2024-12-16T03:26:47.430645Z",
     "iopub.status.idle": "2024-12-16T03:26:47.445179Z",
     "shell.execute_reply": "2024-12-16T03:26:47.444446Z"
    }
   },
   "outputs": [
    {
     "data": {
      "image/svg+xml": [
       "<?xml version=\"1.0\" encoding=\"UTF-8\" standalone=\"no\"?><svg xmlns=\"http://www.w3.org/2000/svg\" xmlns:xlink=\"http://www.w3.org/1999/xlink\" contentStyleType=\"text/css\" height=\"359px\" preserveAspectRatio=\"none\" style=\"width:288px;height:359px;background:#FFFFFF;\" version=\"1.1\" viewBox=\"0 0 288 359\" width=\"288px\" zoomAndPan=\"magnify\"><defs/><g><!--MD5=[fbc87193dbaf4d95561dea2c320d4a47]\n",
       "cluster E1--><g id=\"cluster_E1\"><a href=\"psysml:ea09c962-e470-4bd3-bf79-0fd6d16116e6\" target=\"_top\" title=\"psysml:ea09c962-e470-4bd3-bf79-0fd6d16116e6\" xlink:actuate=\"onRequest\" xlink:href=\"psysml:ea09c962-e470-4bd3-bf79-0fd6d16116e6\" xlink:show=\"new\" xlink:title=\"psysml:ea09c962-e470-4bd3-bf79-0fd6d16116e6\" xlink:type=\"simple\"><polygon fill=\"none\" points=\"16,6,101.8125,6,108.8125,28.2969,271,28.2969,271,352,16,352,16,6\" style=\"stroke:#000000;stroke-width:1.5;\"/><line style=\"stroke:#000000;stroke-width:1.5;\" x1=\"16\" x2=\"108.8125\" y1=\"28.2969\" y2=\"28.2969\"/><text fill=\"#000000\" font-family=\"sans-serif\" font-size=\"14\" font-weight=\"bold\" lengthAdjust=\"spacing\" textLength=\"79.8125\" x=\"20\" y=\"20.9951\">AliasImport</text></a></g><!--MD5=[e4f7fae6ed58524ba242bb0b0d3be6b7]\n",
       "cluster E2--><g id=\"cluster_E2\"><a href=\"psysml:4e11052e-d911-402f-9b8e-d22451a94e61\" target=\"_top\" title=\"psysml:4e11052e-d911-402f-9b8e-d22451a94e61\" xlink:actuate=\"onRequest\" xlink:href=\"psysml:4e11052e-d911-402f-9b8e-d22451a94e61\" xlink:show=\"new\" xlink:title=\"psysml:4e11052e-d911-402f-9b8e-d22451a94e61\" xlink:type=\"simple\"><polygon fill=\"none\" points=\"40,229,123.8125,229,130.8125,251.2969,247,251.2969,247,328,40,328,40,229\" style=\"stroke:#000000;stroke-width:1.5;\"/><line style=\"stroke:#000000;stroke-width:1.5;\" x1=\"40\" x2=\"130.8125\" y1=\"251.2969\" y2=\"251.2969\"/><text fill=\"#000000\" font-family=\"sans-serif\" font-size=\"14\" font-weight=\"bold\" lengthAdjust=\"spacing\" textLength=\"77.8125\" x=\"44\" y=\"243.9951\">Definitions</text></a></g><!--MD5=[de5ec2e2e8f62f467e546659f5068c88]\n",
       "cluster E5--><g id=\"cluster_E5\"><a href=\"psysml:665ec1bc-7429-419a-921f-0e5bfb2e86ee\" target=\"_top\" title=\"psysml:665ec1bc-7429-419a-921f-0e5bfb2e86ee\" xlink:actuate=\"onRequest\" xlink:href=\"psysml:665ec1bc-7429-419a-921f-0e5bfb2e86ee\" xlink:show=\"new\" xlink:title=\"psysml:665ec1bc-7429-419a-921f-0e5bfb2e86ee\" xlink:type=\"simple\"><polygon fill=\"none\" points=\"49,57,109.625,57,116.625,79.2969,238,79.2969,238,172,49,172,49,57\" style=\"stroke:#000000;stroke-width:1.5;\"/><line style=\"stroke:#000000;stroke-width:1.5;\" x1=\"49\" x2=\"116.625\" y1=\"79.2969\" y2=\"79.2969\"/><text fill=\"#000000\" font-family=\"sans-serif\" font-size=\"14\" font-weight=\"bold\" lengthAdjust=\"spacing\" textLength=\"54.625\" x=\"53\" y=\"71.9951\">Usages</text></a></g><!--MD5=[09b614a08d8cba4a07c9adeb5e0fee81]\n",
       "class E3--><a href=\"psysml:fbf2953e-726b-446c-805b-ce056d089132\" target=\"_top\" title=\"psysml:fbf2953e-726b-446c-805b-ce056d089132\" xlink:actuate=\"onRequest\" xlink:href=\"psysml:fbf2953e-726b-446c-805b-ce056d089132\" xlink:show=\"new\" xlink:title=\"psysml:fbf2953e-726b-446c-805b-ce056d089132\" xlink:type=\"simple\"><g id=\"elem_E3\"><rect fill=\"#FFFFFF\" height=\"48.2656\" id=\"E3\" style=\"stroke:#181818;stroke-width:0.5;\" width=\"70\" x=\"161\" y=\"264\"/><text fill=\"#000000\" font-family=\"sans-serif\" font-size=\"12\" font-style=\"italic\" lengthAdjust=\"spacing\" textLength=\"68\" x=\"162\" y=\"280.1387\">«part  def»</text><text fill=\"#000000\" font-family=\"sans-serif\" font-size=\"14\" lengthAdjust=\"spacing\" textLength=\"50\" x=\"171\" y=\"295.9639\">Vehicle</text><line style=\"stroke:#181818;stroke-width:0.5;\" x1=\"162\" x2=\"230\" y1=\"304.2656\" y2=\"304.2656\"/></g></a><!--MD5=[ebbe1d658d1005bcc118a6aa81145e00]\n",
       "class E4--><a href=\"psysml:fbf2953e-726b-446c-805b-ce056d089132\" target=\"_top\" title=\"psysml:fbf2953e-726b-446c-805b-ce056d089132\" xlink:actuate=\"onRequest\" xlink:href=\"psysml:fbf2953e-726b-446c-805b-ce056d089132\" xlink:show=\"new\" xlink:title=\"psysml:fbf2953e-726b-446c-805b-ce056d089132\" xlink:type=\"simple\"><g id=\"elem_E4\"><rect fill=\"#FFFFFF\" height=\"48.2656\" id=\"E4\" style=\"stroke:#181818;stroke-width:0.5;\" width=\"70\" x=\"56\" y=\"264\"/><text fill=\"#000000\" font-family=\"sans-serif\" font-size=\"12\" font-style=\"italic\" lengthAdjust=\"spacing\" textLength=\"68\" x=\"57\" y=\"280.1387\">«part  def»</text><text fill=\"#000000\" font-family=\"sans-serif\" font-size=\"14\" lengthAdjust=\"spacing\" textLength=\"50\" x=\"66\" y=\"295.9639\">Vehicle</text><line style=\"stroke:#181818;stroke-width:0.5;\" x1=\"57\" x2=\"125\" y1=\"304.2656\" y2=\"304.2656\"/></g></a><!--MD5=[60a26617385b1d2d0262a64233df1f8d]\n",
       "class E6--><a href=\"psysml:1df993ae-180d-40db-acc7-c592d2ed44d7\" target=\"_top\" title=\"psysml:1df993ae-180d-40db-acc7-c592d2ed44d7\" xlink:actuate=\"onRequest\" xlink:href=\"psysml:1df993ae-180d-40db-acc7-c592d2ed44d7\" xlink:show=\"new\" xlink:title=\"psysml:1df993ae-180d-40db-acc7-c592d2ed44d7\" xlink:type=\"simple\"><g id=\"elem_E6\"><rect fill=\"#FFFFFF\" height=\"48.2656\" id=\"E6\" rx=\"10\" ry=\"10\" style=\"stroke:#181818;stroke-width:0.5;\" width=\"121\" x=\"92.5\" y=\"100\"/><text fill=\"#000000\" font-family=\"sans-serif\" font-size=\"12\" font-style=\"italic\" lengthAdjust=\"spacing\" textLength=\"40\" x=\"133\" y=\"116.1387\">«part»</text><text fill=\"#000000\" font-family=\"sans-serif\" font-size=\"14\" lengthAdjust=\"spacing\" textLength=\"107\" x=\"95.5\" y=\"131.9639\">vehicle: Vehicle</text><line style=\"stroke:#181818;stroke-width:0.5;\" x1=\"93.5\" x2=\"212.5\" y1=\"140.2656\" y2=\"140.2656\"/></g></a><!--MD5=[1c62de2aa5b76f0fb657ff8443a1a700]\n",
       "link E5 to E4--><g id=\"link_E5_E4\"><a href=\"psysml:51954fa3-afe5-4e6a-ba60-ca054eed15e8\" target=\"_top\" title=\"psysml:51954fa3-afe5-4e6a-ba60-ca054eed15e8\" xlink:actuate=\"onRequest\" xlink:href=\"psysml:51954fa3-afe5-4e6a-ba60-ca054eed15e8\" xlink:show=\"new\" xlink:title=\"psysml:51954fa3-afe5-4e6a-ba60-ca054eed15e8\" xlink:type=\"simple\"><path d=\"M66.9503,172.4094 C67.038,172.8272 67.126,173.2465 67.2143,173.6672 C67.3909,174.5085 67.5687,175.3555 67.7475,176.2075 C73.47,203.4725 80.29,235.97 85.06,258.69 \" fill=\"none\" id=\"E5-to-E4\" style=\"stroke:#181818;stroke-width:1.0;stroke-dasharray:7.0,7.0;\"/><polygon fill=\"#181818\" points=\"86.12,263.77,88.1858,254.1402,85.0928,258.8766,80.3564,255.7837,86.12,263.77\" style=\"stroke:#181818;stroke-width:1.0;\"/><text fill=\"#000000\" font-family=\"sans-serif\" font-size=\"13\" lengthAdjust=\"spacing\" textLength=\"58\" x=\"76\" y=\"209.0669\">«import»</text></a></g><!--MD5=[f667431f98296947986a1a7595a31603]\n",
       "link E6 to E4--><g id=\"link_E6_E4\"><a href=\"psysml:bdaa5b20-7fbf-4739-8cf5-0e25c1337b74\" target=\"_top\" title=\"psysml:bdaa5b20-7fbf-4739-8cf5-0e25c1337b74\" xlink:actuate=\"onRequest\" xlink:href=\"psysml:bdaa5b20-7fbf-4739-8cf5-0e25c1337b74\" xlink:show=\"new\" xlink:title=\"psysml:bdaa5b20-7fbf-4739-8cf5-0e25c1337b74\" xlink:type=\"simple\"><path d=\"M153.08,148.14 C152.45,166.32 150,191.99 142,213 C137.39,225.1 130.41,237.14 123.08,247.87 \" fill=\"none\" id=\"E6-to-E4\" style=\"stroke:#181818;stroke-width:1.0;\"/><polygon fill=\"#FFFFFF\" points=\"111.17,264,116.8313,244.5591,128.091,252.8789,111.17,264\" style=\"stroke:#181818;stroke-width:1.0;\"/><ellipse cx=\"121.8272\" cy=\"241.1633\" fill=\"#181818\" rx=\"2\" ry=\"2\" style=\"stroke:#181818;stroke-width:1.0;\"/><ellipse cx=\"129.8698\" cy=\"247.106\" fill=\"#181818\" rx=\"2\" ry=\"2\" style=\"stroke:#181818;stroke-width:1.0;\"/></a></g><!--MD5=[9a67165246da3dcf5a7e484b35749046]\n",
       "@startuml\r\n",
       "skin sysmlbw\r\n",
       "skinparam monochrome true\r\n",
       "skinparam wrapWidth 300\r\n",
       "hide circle\r\n",
       "\r\n",
       "package \"AliasImport\" as E1  [[psysml:ea09c962-e470-4bd3-bf79-0fd6d16116e6 ]]  {\r\n",
       "package \"Definitions\" as E2  [[psysml:4e11052e-d911-402f-9b8e-d22451a94e61 ]]  {\r\n",
       "comp def \"Vehicle\" as E3  <<(T,blue) part  def>> [[psysml:fbf2953e-726b-446c-805b-ce056d089132 ]] {\r\n",
       "}\r\n",
       "comp def \"Vehicle\" as E4  <<(T,blue) part  def>> [[psysml:fbf2953e-726b-446c-805b-ce056d089132 ]] {\r\n",
       "}\r\n",
       "}\r\n",
       "package \"Usages\" as E5  [[psysml:665ec1bc-7429-419a-921f-0e5bfb2e86ee ]]  {\r\n",
       "comp usage \"vehicle: Vehicle  \" as E6  <<(T,blue) part>> [[psysml:1df993ae-180d-40db-acc7-c592d2ed44d7 ]] {\r\n",
       "}\r\n",
       "}\r\n",
       "}\r\n",
       "E5 ..> E4 [[psysml:51954fa3-afe5-4e6a-ba60-ca054eed15e8 ]] : <<import>>\r\n",
       "E6 - -:|> E4 [[psysml:bdaa5b20-7fbf-4739-8cf5-0e25c1337b74 ]] \r\n",
       "@enduml\r\n",
       "\n",
       "PlantUML version 1.2022.7(Mon Aug 22 17:01:30 UTC 2022)\n",
       "(EPL source distribution)\n",
       "Java Runtime: OpenJDK Runtime Environment\n",
       "JVM: OpenJDK 64-Bit Server VM\n",
       "Default Encoding: UTF-8\n",
       "Language: en\n",
       "Country: null\n",
       "--></g></svg>"
      ]
     },
     "execution_count": 38,
     "metadata": {},
     "output_type": "execute_result"
    }
   ],
   "source": [
    "%viz --style=\"DEFAULT\" --view=\"Tree\" \"AliasImport\""
   ]
  },
  {
   "cell_type": "code",
   "execution_count": 39,
   "id": "0e55c229",
   "metadata": {
    "execution": {
     "iopub.execute_input": "2024-12-16T03:26:47.497444Z",
     "iopub.status.busy": "2024-12-16T03:26:47.497201Z",
     "iopub.status.idle": "2024-12-16T03:26:47.501408Z",
     "shell.execute_reply": "2024-12-16T03:26:47.501210Z"
    }
   },
   "outputs": [
    {
     "data": {
      "image/svg+xml": [
       "<?xml version=\"1.0\" encoding=\"UTF-8\" standalone=\"no\"?><svg xmlns=\"http://www.w3.org/2000/svg\" xmlns:xlink=\"http://www.w3.org/1999/xlink\" contentStyleType=\"text/css\" height=\"10px\" preserveAspectRatio=\"none\" style=\"width:10px;height:10px;background:#FFFFFF;\" version=\"1.1\" viewBox=\"0 0 10 10\" width=\"10px\" zoomAndPan=\"magnify\"><defs/><g><!--MD5=[ac12e6954f3af68464267ee74ddf8a9f]\n",
       "@startuml\r\n",
       "skin sysmlbw\r\n",
       "skinparam monochrome true\r\n",
       "skinparam wrapWidth 300\r\n",
       "hide circle\r\n",
       "\r\n",
       "@enduml\r\n",
       "\n",
       "PlantUML version 1.2022.7(Mon Aug 22 17:01:30 UTC 2022)\n",
       "(EPL source distribution)\n",
       "Java Runtime: OpenJDK Runtime Environment\n",
       "JVM: OpenJDK 64-Bit Server VM\n",
       "Default Encoding: UTF-8\n",
       "Language: en\n",
       "Country: null\n",
       "--></g></svg>"
      ]
     },
     "execution_count": 39,
     "metadata": {},
     "output_type": "execute_result"
    }
   ],
   "source": [
    "%viz --style=\"DEFAULT\" --view=\"State\" \"AliasImport\""
   ]
  },
  {
   "cell_type": "code",
   "execution_count": 40,
   "id": "4315c049",
   "metadata": {
    "execution": {
     "iopub.execute_input": "2024-12-16T03:26:47.557620Z",
     "iopub.status.busy": "2024-12-16T03:26:47.557398Z",
     "iopub.status.idle": "2024-12-16T03:26:47.572372Z",
     "shell.execute_reply": "2024-12-16T03:26:47.571552Z"
    }
   },
   "outputs": [
    {
     "data": {
      "image/svg+xml": [
       "<?xml version=\"1.0\" encoding=\"UTF-8\" standalone=\"no\"?><svg xmlns=\"http://www.w3.org/2000/svg\" xmlns:xlink=\"http://www.w3.org/1999/xlink\" contentStyleType=\"text/css\" height=\"348px\" preserveAspectRatio=\"none\" style=\"width:297px;height:348px;background:#FFFFFF;\" version=\"1.1\" viewBox=\"0 0 297 348\" width=\"297px\" zoomAndPan=\"magnify\"><defs/><g><!--MD5=[fbc87193dbaf4d95561dea2c320d4a47]\n",
       "cluster E1--><g id=\"cluster_E1\"><a href=\"psysml:ea09c962-e470-4bd3-bf79-0fd6d16116e6\" target=\"_top\" title=\"psysml:ea09c962-e470-4bd3-bf79-0fd6d16116e6\" xlink:actuate=\"onRequest\" xlink:href=\"psysml:ea09c962-e470-4bd3-bf79-0fd6d16116e6\" xlink:show=\"new\" xlink:title=\"psysml:ea09c962-e470-4bd3-bf79-0fd6d16116e6\" xlink:type=\"simple\"><polygon fill=\"none\" points=\"16,6,101.8125,6,108.8125,28.2969,280,28.2969,280,341,16,341,16,6\" style=\"stroke:#000000;stroke-width:1.5;\"/><line style=\"stroke:#000000;stroke-width:1.5;\" x1=\"16\" x2=\"108.8125\" y1=\"28.2969\" y2=\"28.2969\"/><text fill=\"#000000\" font-family=\"sans-serif\" font-size=\"14\" font-weight=\"bold\" lengthAdjust=\"spacing\" textLength=\"79.8125\" x=\"20\" y=\"20.9951\">AliasImport</text></a></g><!--MD5=[e4f7fae6ed58524ba242bb0b0d3be6b7]\n",
       "cluster E2--><g id=\"cluster_E2\"><a href=\"psysml:4e11052e-d911-402f-9b8e-d22451a94e61\" target=\"_top\" title=\"psysml:4e11052e-d911-402f-9b8e-d22451a94e61\" xlink:actuate=\"onRequest\" xlink:href=\"psysml:4e11052e-d911-402f-9b8e-d22451a94e61\" xlink:show=\"new\" xlink:title=\"psysml:4e11052e-d911-402f-9b8e-d22451a94e61\" xlink:type=\"simple\"><polygon fill=\"none\" points=\"40,221,123.8125,221,130.8125,243.2969,256,243.2969,256,317,40,317,40,221\" style=\"stroke:#000000;stroke-width:1.5;\"/><line style=\"stroke:#000000;stroke-width:1.5;\" x1=\"40\" x2=\"130.8125\" y1=\"243.2969\" y2=\"243.2969\"/><text fill=\"#000000\" font-family=\"sans-serif\" font-size=\"14\" font-weight=\"bold\" lengthAdjust=\"spacing\" textLength=\"77.8125\" x=\"44\" y=\"235.9951\">Definitions</text></a></g><!--MD5=[de5ec2e2e8f62f467e546659f5068c88]\n",
       "cluster E5--><g id=\"cluster_E5\"><a href=\"psysml:665ec1bc-7429-419a-921f-0e5bfb2e86ee\" target=\"_top\" title=\"psysml:665ec1bc-7429-419a-921f-0e5bfb2e86ee\" xlink:actuate=\"onRequest\" xlink:href=\"psysml:665ec1bc-7429-419a-921f-0e5bfb2e86ee\" xlink:show=\"new\" xlink:title=\"psysml:665ec1bc-7429-419a-921f-0e5bfb2e86ee\" xlink:type=\"simple\"><polygon fill=\"none\" points=\"55,57,115.625,57,122.625,79.2969,240,79.2969,240,164,55,164,55,57\" style=\"stroke:#000000;stroke-width:1.5;\"/><line style=\"stroke:#000000;stroke-width:1.5;\" x1=\"55\" x2=\"122.625\" y1=\"79.2969\" y2=\"79.2969\"/><text fill=\"#000000\" font-family=\"sans-serif\" font-size=\"14\" font-weight=\"bold\" lengthAdjust=\"spacing\" textLength=\"54.625\" x=\"59\" y=\"71.9951\">Usages</text></a></g><g><a href=\"psysml:fbf2953e-726b-446c-805b-ce056d089132\" target=\"_top\" title=\"psysml:fbf2953e-726b-446c-805b-ce056d089132\" xlink:actuate=\"onRequest\" xlink:href=\"psysml:fbf2953e-726b-446c-805b-ce056d089132\" xlink:show=\"new\" xlink:title=\"psysml:fbf2953e-726b-446c-805b-ce056d089132\" xlink:type=\"simple\"><rect fill=\"#FFFFFF\" height=\"45.2656\" id=\"E3\" style=\"stroke:#383838;stroke-width:1.5;\" width=\"75\" x=\"165.5\" y=\"256\"/><text fill=\"#000000\" font-family=\"sans-serif\" font-size=\"12\" font-style=\"italic\" lengthAdjust=\"spacing\" textLength=\"68\" x=\"169\" y=\"272.1387\">«part  def»</text><text fill=\"#000000\" font-family=\"sans-serif\" font-size=\"14\" lengthAdjust=\"spacing\" textLength=\"50\" x=\"178\" y=\"287.9639\">Vehicle</text></a></g><g><a href=\"psysml:fbf2953e-726b-446c-805b-ce056d089132\" target=\"_top\" title=\"psysml:fbf2953e-726b-446c-805b-ce056d089132\" xlink:actuate=\"onRequest\" xlink:href=\"psysml:fbf2953e-726b-446c-805b-ce056d089132\" xlink:show=\"new\" xlink:title=\"psysml:fbf2953e-726b-446c-805b-ce056d089132\" xlink:type=\"simple\"><rect fill=\"#FFFFFF\" height=\"45.2656\" id=\"E4\" style=\"stroke:#383838;stroke-width:1.5;\" width=\"75\" x=\"55.5\" y=\"256\"/><text fill=\"#000000\" font-family=\"sans-serif\" font-size=\"12\" font-style=\"italic\" lengthAdjust=\"spacing\" textLength=\"68\" x=\"59\" y=\"272.1387\">«part  def»</text><text fill=\"#000000\" font-family=\"sans-serif\" font-size=\"14\" lengthAdjust=\"spacing\" textLength=\"50\" x=\"68\" y=\"287.9639\">Vehicle</text></a></g><g><a href=\"psysml:1df993ae-180d-40db-acc7-c592d2ed44d7\" target=\"_top\" title=\"psysml:1df993ae-180d-40db-acc7-c592d2ed44d7\" xlink:actuate=\"onRequest\" xlink:href=\"psysml:1df993ae-180d-40db-acc7-c592d2ed44d7\" xlink:show=\"new\" xlink:title=\"psysml:1df993ae-180d-40db-acc7-c592d2ed44d7\" xlink:type=\"simple\"><rect fill=\"#FFFFFF\" height=\"40\" id=\"E6\" rx=\"10\" ry=\"10\" style=\"stroke:#383838;stroke-width:1.5;\" width=\"118\" x=\"98\" y=\"100\"/><text fill=\"#000000\" font-family=\"sans-serif\" font-size=\"14\" lengthAdjust=\"spacing\" textLength=\"107\" x=\"103.5\" y=\"117.9951\">vehicle: Vehicle</text></a></g><!--MD5=[1c62de2aa5b76f0fb657ff8443a1a700]\n",
       "link E5 to E4--><g id=\"link_E5_E4\"><a href=\"psysml:51954fa3-afe5-4e6a-ba60-ca054eed15e8\" target=\"_top\" title=\"psysml:51954fa3-afe5-4e6a-ba60-ca054eed15e8\" xlink:actuate=\"onRequest\" xlink:href=\"psysml:51954fa3-afe5-4e6a-ba60-ca054eed15e8\" xlink:show=\"new\" xlink:title=\"psysml:51954fa3-afe5-4e6a-ba60-ca054eed15e8\" xlink:type=\"simple\"><path d=\"M69.043,164.2456 C69.0858,164.5249 69.1287,164.8047 69.1718,165.0851 C69.2579,165.646 69.3448,166.2091 69.4323,166.7743 C69.6073,167.9047 69.7849,169.0434 69.965,170.1889 C70.3253,172.4798 70.6956,174.7976 71.075,177.1298 C72.5925,186.4587 74.255,196.0175 76,205 C78.97,220.26 82.89,237.18 86.23,250.83 \" fill=\"none\" id=\"E5-to-E4\" style=\"stroke:#181818;stroke-width:1.0;stroke-dasharray:7.0,7.0;\"/><polygon fill=\"#181818\" points=\"87.43,255.7,89.1546,246.0033,86.2308,250.8459,81.3881,247.9221,87.43,255.7\" style=\"stroke:#181818;stroke-width:1.0;\"/><text fill=\"#000000\" font-family=\"sans-serif\" font-size=\"13\" lengthAdjust=\"spacing\" textLength=\"58\" x=\"77\" y=\"201.0669\">«import»</text></a></g><!--MD5=[f667431f98296947986a1a7595a31603]\n",
       "link E6 to E4--><g id=\"link_E6_E4\"><a href=\"psysml:bdaa5b20-7fbf-4739-8cf5-0e25c1337b74\" target=\"_top\" title=\"psysml:bdaa5b20-7fbf-4739-8cf5-0e25c1337b74\" xlink:actuate=\"onRequest\" xlink:href=\"psysml:bdaa5b20-7fbf-4739-8cf5-0e25c1337b74\" xlink:show=\"new\" xlink:title=\"psysml:bdaa5b20-7fbf-4739-8cf5-0e25c1337b74\" xlink:type=\"simple\"><path d=\"M155.18,140.28 C153.05,157.7 148.66,183.78 140,205 C135.21,216.74 128.45,228.64 121.56,239.31 \" fill=\"none\" id=\"E6-to-E4\" style=\"stroke:#181818;stroke-width:1.0;\"/><polygon fill=\"#FFFFFF\" points=\"110.13,255.85,115.1604,236.2364,126.683,244.1881,110.13,255.85\" style=\"stroke:#181818;stroke-width:1.0;\"/><ellipse cx=\"120.044\" cy=\"232.681\" fill=\"#181818\" rx=\"2\" ry=\"2\" style=\"stroke:#181818;stroke-width:1.0;\"/><ellipse cx=\"128.2744\" cy=\"238.3608\" fill=\"#181818\" rx=\"2\" ry=\"2\" style=\"stroke:#181818;stroke-width:1.0;\"/></a></g><!--MD5=[d2c3c41894edf9a711f8b3a814d5c03d]\n",
       "@startuml\r\n",
       "skin sysmlbw\r\n",
       "skinparam monochrome true\r\n",
       "skinparam wrapWidth 300\r\n",
       "hide circle\r\n",
       "skinparam ranksep 10\r\n",
       "skinparam rectangle {\r\n",
       " backgroundColor<<block>> LightGreen\r\n",
       "}\r\n",
       "\r\n",
       "package \"AliasImport\" as E1  [[psysml:ea09c962-e470-4bd3-bf79-0fd6d16116e6 ]]  {\r\n",
       "package \"Definitions\" as E2  [[psysml:4e11052e-d911-402f-9b8e-d22451a94e61 ]]  {\r\n",
       "rec def \"Vehicle\" as E3  <<(T,blue) part  def>> [[psysml:fbf2953e-726b-446c-805b-ce056d089132 ]] {\r\n",
       "}\r\n",
       "rec def \"Vehicle\" as E4  <<(T,blue) part  def>> [[psysml:fbf2953e-726b-446c-805b-ce056d089132 ]] {\r\n",
       "}\r\n",
       "}\r\n",
       "package \"Usages\" as E5  [[psysml:665ec1bc-7429-419a-921f-0e5bfb2e86ee ]]  {\r\n",
       "rec usage \"vehicle: Vehicle\" as E6 [[psysml:1df993ae-180d-40db-acc7-c592d2ed44d7 ]] {\r\n",
       "}\r\n",
       "}\r\n",
       "}\r\n",
       "E5 ..> E4 [[psysml:51954fa3-afe5-4e6a-ba60-ca054eed15e8 ]] : <<import>>\r\n",
       "E6 - -:|> E4 [[psysml:bdaa5b20-7fbf-4739-8cf5-0e25c1337b74 ]] \r\n",
       "@enduml\r\n",
       "\n",
       "PlantUML version 1.2022.7(Mon Aug 22 17:01:30 UTC 2022)\n",
       "(EPL source distribution)\n",
       "Java Runtime: OpenJDK Runtime Environment\n",
       "JVM: OpenJDK 64-Bit Server VM\n",
       "Default Encoding: UTF-8\n",
       "Language: en\n",
       "Country: null\n",
       "--></g></svg>"
      ]
     },
     "execution_count": 40,
     "metadata": {},
     "output_type": "execute_result"
    }
   ],
   "source": [
    "%viz --style=\"DEFAULT\" --view=\"Interconnection\" \"AliasImport\""
   ]
  },
  {
   "cell_type": "code",
   "execution_count": 41,
   "id": "1db7dab6",
   "metadata": {
    "execution": {
     "iopub.execute_input": "2024-12-16T03:26:47.624351Z",
     "iopub.status.busy": "2024-12-16T03:26:47.624138Z",
     "iopub.status.idle": "2024-12-16T03:26:47.627963Z",
     "shell.execute_reply": "2024-12-16T03:26:47.627795Z"
    }
   },
   "outputs": [
    {
     "data": {
      "image/svg+xml": [
       "<?xml version=\"1.0\" encoding=\"UTF-8\" standalone=\"no\"?><svg xmlns=\"http://www.w3.org/2000/svg\" xmlns:xlink=\"http://www.w3.org/1999/xlink\" contentStyleType=\"text/css\" height=\"10px\" preserveAspectRatio=\"none\" style=\"width:10px;height:10px;background:#FFFFFF;\" version=\"1.1\" viewBox=\"0 0 10 10\" width=\"10px\" zoomAndPan=\"magnify\"><defs/><g><!--MD5=[3d9597b1575ffc4802b0d6ba40297a8d]\n",
       "@startuml\r\n",
       "skin sysmlbw\r\n",
       "skinparam monochrome true\r\n",
       "skinparam wrapWidth 300\r\n",
       "hide circle\r\n",
       "skinparam ranksep 8\r\n",
       "\r\n",
       "@enduml\r\n",
       "\n",
       "PlantUML version 1.2022.7(Mon Aug 22 17:01:30 UTC 2022)\n",
       "(EPL source distribution)\n",
       "Java Runtime: OpenJDK Runtime Environment\n",
       "JVM: OpenJDK 64-Bit Server VM\n",
       "Default Encoding: UTF-8\n",
       "Language: en\n",
       "Country: null\n",
       "--></g></svg>"
      ]
     },
     "execution_count": 41,
     "metadata": {},
     "output_type": "execute_result"
    }
   ],
   "source": [
    "%viz --style=\"DEFAULT\" --view=\"Action\" \"AliasImport\""
   ]
  },
  {
   "cell_type": "code",
   "execution_count": 42,
   "id": "983ca90d",
   "metadata": {
    "execution": {
     "iopub.execute_input": "2024-12-16T03:26:47.683182Z",
     "iopub.status.busy": "2024-12-16T03:26:47.683006Z",
     "iopub.status.idle": "2024-12-16T03:26:47.686597Z",
     "shell.execute_reply": "2024-12-16T03:26:47.686440Z"
    }
   },
   "outputs": [
    {
     "data": {
      "image/svg+xml": [
       "<?xml version=\"1.0\" encoding=\"UTF-8\" standalone=\"no\"?><svg xmlns=\"http://www.w3.org/2000/svg\" xmlns:xlink=\"http://www.w3.org/1999/xlink\" contentStyleType=\"text/css\" height=\"10px\" preserveAspectRatio=\"none\" style=\"width:10px;height:10px;background:#FFFFFF;\" version=\"1.1\" viewBox=\"0 0 10 10\" width=\"10px\" zoomAndPan=\"magnify\"><defs/><g><!--MD5=[075159388321915a295a256e9638f934]\n",
       "@startuml\r\n",
       "skin sysmlbw\r\n",
       "skinparam monochrome true\r\n",
       "skinparam wrapWidth 300\r\n",
       "hide circle\r\n",
       "skinparam roundcorner 20\r\n",
       "skinparam BoxPadding 20\r\n",
       "skinparam SequenceBoxBackgroundColor #white\r\n",
       "skinparam style strictuml\r\n",
       "skinparam maxMessageSize 100\r\n",
       "\r\n",
       "@enduml\r\n",
       "\n",
       "PlantUML version 1.2022.7(Mon Aug 22 17:01:30 UTC 2022)\n",
       "(EPL source distribution)\n",
       "Java Runtime: OpenJDK Runtime Environment\n",
       "JVM: OpenJDK 64-Bit Server VM\n",
       "Default Encoding: UTF-8\n",
       "Language: en\n",
       "Country: null\n",
       "--></g></svg>"
      ]
     },
     "execution_count": 42,
     "metadata": {},
     "output_type": "execute_result"
    }
   ],
   "source": [
    "%viz --style=\"DEFAULT\" --view=\"Sequence\" \"AliasImport\""
   ]
  },
  {
   "cell_type": "code",
   "execution_count": 43,
   "id": "083f480e",
   "metadata": {
    "execution": {
     "iopub.execute_input": "2024-12-16T03:26:47.738375Z",
     "iopub.status.busy": "2024-12-16T03:26:47.738144Z",
     "iopub.status.idle": "2024-12-16T03:26:47.753177Z",
     "shell.execute_reply": "2024-12-16T03:26:47.752419Z"
    }
   },
   "outputs": [
    {
     "data": {
      "image/svg+xml": [
       "<?xml version=\"1.0\" encoding=\"UTF-8\" standalone=\"no\"?><svg xmlns=\"http://www.w3.org/2000/svg\" xmlns:xlink=\"http://www.w3.org/1999/xlink\" contentStyleType=\"text/css\" height=\"359px\" preserveAspectRatio=\"none\" style=\"width:288px;height:359px;background:#FFFFFF;\" version=\"1.1\" viewBox=\"0 0 288 359\" width=\"288px\" zoomAndPan=\"magnify\"><defs/><g><!--MD5=[fbc87193dbaf4d95561dea2c320d4a47]\n",
       "cluster E1--><g id=\"cluster_E1\"><a href=\"psysml:ea09c962-e470-4bd3-bf79-0fd6d16116e6\" target=\"_top\" title=\"psysml:ea09c962-e470-4bd3-bf79-0fd6d16116e6\" xlink:actuate=\"onRequest\" xlink:href=\"psysml:ea09c962-e470-4bd3-bf79-0fd6d16116e6\" xlink:show=\"new\" xlink:title=\"psysml:ea09c962-e470-4bd3-bf79-0fd6d16116e6\" xlink:type=\"simple\"><polygon fill=\"none\" points=\"16,6,101.8125,6,108.8125,28.2969,271,28.2969,271,352,16,352,16,6\" style=\"stroke:#000000;stroke-width:1.5;\"/><line style=\"stroke:#000000;stroke-width:1.5;\" x1=\"16\" x2=\"108.8125\" y1=\"28.2969\" y2=\"28.2969\"/><text fill=\"#000000\" font-family=\"sans-serif\" font-size=\"14\" font-weight=\"bold\" lengthAdjust=\"spacing\" textLength=\"79.8125\" x=\"20\" y=\"20.9951\">AliasImport</text></a></g><!--MD5=[e4f7fae6ed58524ba242bb0b0d3be6b7]\n",
       "cluster E2--><g id=\"cluster_E2\"><a href=\"psysml:4e11052e-d911-402f-9b8e-d22451a94e61\" target=\"_top\" title=\"psysml:4e11052e-d911-402f-9b8e-d22451a94e61\" xlink:actuate=\"onRequest\" xlink:href=\"psysml:4e11052e-d911-402f-9b8e-d22451a94e61\" xlink:show=\"new\" xlink:title=\"psysml:4e11052e-d911-402f-9b8e-d22451a94e61\" xlink:type=\"simple\"><polygon fill=\"none\" points=\"40,229,123.8125,229,130.8125,251.2969,247,251.2969,247,328,40,328,40,229\" style=\"stroke:#000000;stroke-width:1.5;\"/><line style=\"stroke:#000000;stroke-width:1.5;\" x1=\"40\" x2=\"130.8125\" y1=\"251.2969\" y2=\"251.2969\"/><text fill=\"#000000\" font-family=\"sans-serif\" font-size=\"14\" font-weight=\"bold\" lengthAdjust=\"spacing\" textLength=\"77.8125\" x=\"44\" y=\"243.9951\">Definitions</text></a></g><!--MD5=[de5ec2e2e8f62f467e546659f5068c88]\n",
       "cluster E5--><g id=\"cluster_E5\"><a href=\"psysml:665ec1bc-7429-419a-921f-0e5bfb2e86ee\" target=\"_top\" title=\"psysml:665ec1bc-7429-419a-921f-0e5bfb2e86ee\" xlink:actuate=\"onRequest\" xlink:href=\"psysml:665ec1bc-7429-419a-921f-0e5bfb2e86ee\" xlink:show=\"new\" xlink:title=\"psysml:665ec1bc-7429-419a-921f-0e5bfb2e86ee\" xlink:type=\"simple\"><polygon fill=\"none\" points=\"49,57,109.625,57,116.625,79.2969,238,79.2969,238,172,49,172,49,57\" style=\"stroke:#000000;stroke-width:1.5;\"/><line style=\"stroke:#000000;stroke-width:1.5;\" x1=\"49\" x2=\"116.625\" y1=\"79.2969\" y2=\"79.2969\"/><text fill=\"#000000\" font-family=\"sans-serif\" font-size=\"14\" font-weight=\"bold\" lengthAdjust=\"spacing\" textLength=\"54.625\" x=\"53\" y=\"71.9951\">Usages</text></a></g><!--MD5=[09b614a08d8cba4a07c9adeb5e0fee81]\n",
       "class E3--><a href=\"psysml:fbf2953e-726b-446c-805b-ce056d089132\" target=\"_top\" title=\"psysml:fbf2953e-726b-446c-805b-ce056d089132\" xlink:actuate=\"onRequest\" xlink:href=\"psysml:fbf2953e-726b-446c-805b-ce056d089132\" xlink:show=\"new\" xlink:title=\"psysml:fbf2953e-726b-446c-805b-ce056d089132\" xlink:type=\"simple\"><g id=\"elem_E3\"><rect fill=\"#FFFFFF\" height=\"48.2656\" id=\"E3\" style=\"stroke:#181818;stroke-width:0.5;\" width=\"70\" x=\"161\" y=\"264\"/><text fill=\"#000000\" font-family=\"sans-serif\" font-size=\"12\" font-style=\"italic\" lengthAdjust=\"spacing\" textLength=\"68\" x=\"162\" y=\"280.1387\">«part  def»</text><text fill=\"#000000\" font-family=\"sans-serif\" font-size=\"14\" lengthAdjust=\"spacing\" textLength=\"50\" x=\"171\" y=\"295.9639\">Vehicle</text><line style=\"stroke:#181818;stroke-width:0.5;\" x1=\"162\" x2=\"230\" y1=\"304.2656\" y2=\"304.2656\"/></g></a><!--MD5=[ebbe1d658d1005bcc118a6aa81145e00]\n",
       "class E4--><a href=\"psysml:fbf2953e-726b-446c-805b-ce056d089132\" target=\"_top\" title=\"psysml:fbf2953e-726b-446c-805b-ce056d089132\" xlink:actuate=\"onRequest\" xlink:href=\"psysml:fbf2953e-726b-446c-805b-ce056d089132\" xlink:show=\"new\" xlink:title=\"psysml:fbf2953e-726b-446c-805b-ce056d089132\" xlink:type=\"simple\"><g id=\"elem_E4\"><rect fill=\"#FFFFFF\" height=\"48.2656\" id=\"E4\" style=\"stroke:#181818;stroke-width:0.5;\" width=\"70\" x=\"56\" y=\"264\"/><text fill=\"#000000\" font-family=\"sans-serif\" font-size=\"12\" font-style=\"italic\" lengthAdjust=\"spacing\" textLength=\"68\" x=\"57\" y=\"280.1387\">«part  def»</text><text fill=\"#000000\" font-family=\"sans-serif\" font-size=\"14\" lengthAdjust=\"spacing\" textLength=\"50\" x=\"66\" y=\"295.9639\">Vehicle</text><line style=\"stroke:#181818;stroke-width:0.5;\" x1=\"57\" x2=\"125\" y1=\"304.2656\" y2=\"304.2656\"/></g></a><!--MD5=[60a26617385b1d2d0262a64233df1f8d]\n",
       "class E6--><a href=\"psysml:1df993ae-180d-40db-acc7-c592d2ed44d7\" target=\"_top\" title=\"psysml:1df993ae-180d-40db-acc7-c592d2ed44d7\" xlink:actuate=\"onRequest\" xlink:href=\"psysml:1df993ae-180d-40db-acc7-c592d2ed44d7\" xlink:show=\"new\" xlink:title=\"psysml:1df993ae-180d-40db-acc7-c592d2ed44d7\" xlink:type=\"simple\"><g id=\"elem_E6\"><rect fill=\"#FFFFFF\" height=\"48.2656\" id=\"E6\" rx=\"10\" ry=\"10\" style=\"stroke:#181818;stroke-width:0.5;\" width=\"121\" x=\"92.5\" y=\"100\"/><text fill=\"#000000\" font-family=\"sans-serif\" font-size=\"12\" font-style=\"italic\" lengthAdjust=\"spacing\" textLength=\"40\" x=\"133\" y=\"116.1387\">«part»</text><text fill=\"#000000\" font-family=\"sans-serif\" font-size=\"14\" lengthAdjust=\"spacing\" textLength=\"107\" x=\"95.5\" y=\"131.9639\">vehicle: Vehicle</text><line style=\"stroke:#181818;stroke-width:0.5;\" x1=\"93.5\" x2=\"212.5\" y1=\"140.2656\" y2=\"140.2656\"/></g></a><!--MD5=[1c62de2aa5b76f0fb657ff8443a1a700]\n",
       "link E5 to E4--><g id=\"link_E5_E4\"><a href=\"psysml:51954fa3-afe5-4e6a-ba60-ca054eed15e8\" target=\"_top\" title=\"psysml:51954fa3-afe5-4e6a-ba60-ca054eed15e8\" xlink:actuate=\"onRequest\" xlink:href=\"psysml:51954fa3-afe5-4e6a-ba60-ca054eed15e8\" xlink:show=\"new\" xlink:title=\"psysml:51954fa3-afe5-4e6a-ba60-ca054eed15e8\" xlink:type=\"simple\"><path d=\"M66.9503,172.4094 C67.038,172.8272 67.126,173.2465 67.2143,173.6672 C67.3909,174.5085 67.5687,175.3555 67.7475,176.2075 C73.47,203.4725 80.29,235.97 85.06,258.69 \" fill=\"none\" id=\"E5-to-E4\" style=\"stroke:#181818;stroke-width:1.0;stroke-dasharray:7.0,7.0;\"/><polygon fill=\"#181818\" points=\"86.12,263.77,88.1858,254.1402,85.0928,258.8766,80.3564,255.7837,86.12,263.77\" style=\"stroke:#181818;stroke-width:1.0;\"/><text fill=\"#000000\" font-family=\"sans-serif\" font-size=\"13\" lengthAdjust=\"spacing\" textLength=\"58\" x=\"76\" y=\"209.0669\">«import»</text></a></g><!--MD5=[f667431f98296947986a1a7595a31603]\n",
       "link E6 to E4--><g id=\"link_E6_E4\"><a href=\"psysml:bdaa5b20-7fbf-4739-8cf5-0e25c1337b74\" target=\"_top\" title=\"psysml:bdaa5b20-7fbf-4739-8cf5-0e25c1337b74\" xlink:actuate=\"onRequest\" xlink:href=\"psysml:bdaa5b20-7fbf-4739-8cf5-0e25c1337b74\" xlink:show=\"new\" xlink:title=\"psysml:bdaa5b20-7fbf-4739-8cf5-0e25c1337b74\" xlink:type=\"simple\"><path d=\"M153.08,148.14 C152.45,166.32 150,191.99 142,213 C137.39,225.1 130.41,237.14 123.08,247.87 \" fill=\"none\" id=\"E6-to-E4\" style=\"stroke:#181818;stroke-width:1.0;\"/><polygon fill=\"#FFFFFF\" points=\"111.17,264,116.8313,244.5591,128.091,252.8789,111.17,264\" style=\"stroke:#181818;stroke-width:1.0;\"/><ellipse cx=\"121.8272\" cy=\"241.1633\" fill=\"#181818\" rx=\"2\" ry=\"2\" style=\"stroke:#181818;stroke-width:1.0;\"/><ellipse cx=\"129.8698\" cy=\"247.106\" fill=\"#181818\" rx=\"2\" ry=\"2\" style=\"stroke:#181818;stroke-width:1.0;\"/></a></g><!--MD5=[9a67165246da3dcf5a7e484b35749046]\n",
       "@startuml\r\n",
       "skin sysmlbw\r\n",
       "skinparam monochrome true\r\n",
       "skinparam wrapWidth 300\r\n",
       "hide circle\r\n",
       "\r\n",
       "package \"AliasImport\" as E1  [[psysml:ea09c962-e470-4bd3-bf79-0fd6d16116e6 ]]  {\r\n",
       "package \"Definitions\" as E2  [[psysml:4e11052e-d911-402f-9b8e-d22451a94e61 ]]  {\r\n",
       "comp def \"Vehicle\" as E3  <<(T,blue) part  def>> [[psysml:fbf2953e-726b-446c-805b-ce056d089132 ]] {\r\n",
       "}\r\n",
       "comp def \"Vehicle\" as E4  <<(T,blue) part  def>> [[psysml:fbf2953e-726b-446c-805b-ce056d089132 ]] {\r\n",
       "}\r\n",
       "}\r\n",
       "package \"Usages\" as E5  [[psysml:665ec1bc-7429-419a-921f-0e5bfb2e86ee ]]  {\r\n",
       "comp usage \"vehicle: Vehicle  \" as E6  <<(T,blue) part>> [[psysml:1df993ae-180d-40db-acc7-c592d2ed44d7 ]] {\r\n",
       "}\r\n",
       "}\r\n",
       "}\r\n",
       "E5 ..> E4 [[psysml:51954fa3-afe5-4e6a-ba60-ca054eed15e8 ]] : <<import>>\r\n",
       "E6 - -:|> E4 [[psysml:bdaa5b20-7fbf-4739-8cf5-0e25c1337b74 ]] \r\n",
       "@enduml\r\n",
       "\n",
       "PlantUML version 1.2022.7(Mon Aug 22 17:01:30 UTC 2022)\n",
       "(EPL source distribution)\n",
       "Java Runtime: OpenJDK Runtime Environment\n",
       "JVM: OpenJDK 64-Bit Server VM\n",
       "Default Encoding: UTF-8\n",
       "Language: en\n",
       "Country: null\n",
       "--></g></svg>"
      ]
     },
     "execution_count": 43,
     "metadata": {},
     "output_type": "execute_result"
    }
   ],
   "source": [
    "%viz --style=\"DEFAULT\" --view=\"MIXED\" \"AliasImport\""
   ]
  },
  {
   "cell_type": "code",
   "execution_count": 44,
   "id": "c919cd3c",
   "metadata": {
    "execution": {
     "iopub.execute_input": "2024-12-16T03:26:47.806021Z",
     "iopub.status.busy": "2024-12-16T03:26:47.805739Z",
     "iopub.status.idle": "2024-12-16T03:26:47.820486Z",
     "shell.execute_reply": "2024-12-16T03:26:47.819611Z"
    }
   },
   "outputs": [
    {
     "data": {
      "image/svg+xml": [
       "<?xml version=\"1.0\" encoding=\"UTF-8\" standalone=\"no\"?><svg xmlns=\"http://www.w3.org/2000/svg\" xmlns:xlink=\"http://www.w3.org/1999/xlink\" contentStyleType=\"text/css\" height=\"359px\" preserveAspectRatio=\"none\" style=\"width:288px;height:359px;background:#FFFFFF;\" version=\"1.1\" viewBox=\"0 0 288 359\" width=\"288px\" zoomAndPan=\"magnify\"><defs/><g><!--MD5=[fbc87193dbaf4d95561dea2c320d4a47]\n",
       "cluster E1--><g id=\"cluster_E1\"><a href=\"psysml:ea09c962-e470-4bd3-bf79-0fd6d16116e6\" target=\"_top\" title=\"psysml:ea09c962-e470-4bd3-bf79-0fd6d16116e6\" xlink:actuate=\"onRequest\" xlink:href=\"psysml:ea09c962-e470-4bd3-bf79-0fd6d16116e6\" xlink:show=\"new\" xlink:title=\"psysml:ea09c962-e470-4bd3-bf79-0fd6d16116e6\" xlink:type=\"simple\"><polygon fill=\"none\" points=\"16,6,101.8125,6,108.8125,28.2969,271,28.2969,271,352,16,352,16,6\" style=\"stroke:#000000;stroke-width:1.5;\"/><line style=\"stroke:#000000;stroke-width:1.5;\" x1=\"16\" x2=\"108.8125\" y1=\"28.2969\" y2=\"28.2969\"/><text fill=\"#000000\" font-family=\"sans-serif\" font-size=\"14\" font-weight=\"bold\" lengthAdjust=\"spacing\" textLength=\"79.8125\" x=\"20\" y=\"20.9951\">AliasImport</text></a></g><!--MD5=[e4f7fae6ed58524ba242bb0b0d3be6b7]\n",
       "cluster E2--><g id=\"cluster_E2\"><a href=\"psysml:4e11052e-d911-402f-9b8e-d22451a94e61\" target=\"_top\" title=\"psysml:4e11052e-d911-402f-9b8e-d22451a94e61\" xlink:actuate=\"onRequest\" xlink:href=\"psysml:4e11052e-d911-402f-9b8e-d22451a94e61\" xlink:show=\"new\" xlink:title=\"psysml:4e11052e-d911-402f-9b8e-d22451a94e61\" xlink:type=\"simple\"><polygon fill=\"none\" points=\"40,229,123.8125,229,130.8125,251.2969,247,251.2969,247,328,40,328,40,229\" style=\"stroke:#000000;stroke-width:1.5;\"/><line style=\"stroke:#000000;stroke-width:1.5;\" x1=\"40\" x2=\"130.8125\" y1=\"251.2969\" y2=\"251.2969\"/><text fill=\"#000000\" font-family=\"sans-serif\" font-size=\"14\" font-weight=\"bold\" lengthAdjust=\"spacing\" textLength=\"77.8125\" x=\"44\" y=\"243.9951\">Definitions</text></a></g><!--MD5=[de5ec2e2e8f62f467e546659f5068c88]\n",
       "cluster E5--><g id=\"cluster_E5\"><a href=\"psysml:665ec1bc-7429-419a-921f-0e5bfb2e86ee\" target=\"_top\" title=\"psysml:665ec1bc-7429-419a-921f-0e5bfb2e86ee\" xlink:actuate=\"onRequest\" xlink:href=\"psysml:665ec1bc-7429-419a-921f-0e5bfb2e86ee\" xlink:show=\"new\" xlink:title=\"psysml:665ec1bc-7429-419a-921f-0e5bfb2e86ee\" xlink:type=\"simple\"><polygon fill=\"none\" points=\"49,57,109.625,57,116.625,79.2969,238,79.2969,238,172,49,172,49,57\" style=\"stroke:#000000;stroke-width:1.5;\"/><line style=\"stroke:#000000;stroke-width:1.5;\" x1=\"49\" x2=\"116.625\" y1=\"79.2969\" y2=\"79.2969\"/><text fill=\"#000000\" font-family=\"sans-serif\" font-size=\"14\" font-weight=\"bold\" lengthAdjust=\"spacing\" textLength=\"54.625\" x=\"53\" y=\"71.9951\">Usages</text></a></g><!--MD5=[09b614a08d8cba4a07c9adeb5e0fee81]\n",
       "class E3--><a href=\"psysml:fbf2953e-726b-446c-805b-ce056d089132\" target=\"_top\" title=\"psysml:fbf2953e-726b-446c-805b-ce056d089132\" xlink:actuate=\"onRequest\" xlink:href=\"psysml:fbf2953e-726b-446c-805b-ce056d089132\" xlink:show=\"new\" xlink:title=\"psysml:fbf2953e-726b-446c-805b-ce056d089132\" xlink:type=\"simple\"><g id=\"elem_E3\"><rect fill=\"#FFFFFF\" height=\"48.2656\" id=\"E3\" style=\"stroke:#181818;stroke-width:0.5;\" width=\"70\" x=\"161\" y=\"264\"/><text fill=\"#000000\" font-family=\"sans-serif\" font-size=\"12\" font-style=\"italic\" lengthAdjust=\"spacing\" textLength=\"68\" x=\"162\" y=\"280.1387\">«part  def»</text><text fill=\"#000000\" font-family=\"sans-serif\" font-size=\"14\" lengthAdjust=\"spacing\" textLength=\"50\" x=\"171\" y=\"295.9639\">Vehicle</text><line style=\"stroke:#181818;stroke-width:0.5;\" x1=\"162\" x2=\"230\" y1=\"304.2656\" y2=\"304.2656\"/></g></a><!--MD5=[ebbe1d658d1005bcc118a6aa81145e00]\n",
       "class E4--><a href=\"psysml:fbf2953e-726b-446c-805b-ce056d089132\" target=\"_top\" title=\"psysml:fbf2953e-726b-446c-805b-ce056d089132\" xlink:actuate=\"onRequest\" xlink:href=\"psysml:fbf2953e-726b-446c-805b-ce056d089132\" xlink:show=\"new\" xlink:title=\"psysml:fbf2953e-726b-446c-805b-ce056d089132\" xlink:type=\"simple\"><g id=\"elem_E4\"><rect fill=\"#FFFFFF\" height=\"48.2656\" id=\"E4\" style=\"stroke:#181818;stroke-width:0.5;\" width=\"70\" x=\"56\" y=\"264\"/><text fill=\"#000000\" font-family=\"sans-serif\" font-size=\"12\" font-style=\"italic\" lengthAdjust=\"spacing\" textLength=\"68\" x=\"57\" y=\"280.1387\">«part  def»</text><text fill=\"#000000\" font-family=\"sans-serif\" font-size=\"14\" lengthAdjust=\"spacing\" textLength=\"50\" x=\"66\" y=\"295.9639\">Vehicle</text><line style=\"stroke:#181818;stroke-width:0.5;\" x1=\"57\" x2=\"125\" y1=\"304.2656\" y2=\"304.2656\"/></g></a><!--MD5=[60a26617385b1d2d0262a64233df1f8d]\n",
       "class E6--><a href=\"psysml:1df993ae-180d-40db-acc7-c592d2ed44d7\" target=\"_top\" title=\"psysml:1df993ae-180d-40db-acc7-c592d2ed44d7\" xlink:actuate=\"onRequest\" xlink:href=\"psysml:1df993ae-180d-40db-acc7-c592d2ed44d7\" xlink:show=\"new\" xlink:title=\"psysml:1df993ae-180d-40db-acc7-c592d2ed44d7\" xlink:type=\"simple\"><g id=\"elem_E6\"><rect fill=\"#FFFFFF\" height=\"48.2656\" id=\"E6\" rx=\"10\" ry=\"10\" style=\"stroke:#181818;stroke-width:0.5;\" width=\"121\" x=\"92.5\" y=\"100\"/><text fill=\"#000000\" font-family=\"sans-serif\" font-size=\"12\" font-style=\"italic\" lengthAdjust=\"spacing\" textLength=\"40\" x=\"133\" y=\"116.1387\">«part»</text><text fill=\"#000000\" font-family=\"sans-serif\" font-size=\"14\" lengthAdjust=\"spacing\" textLength=\"107\" x=\"95.5\" y=\"131.9639\">vehicle: Vehicle</text><line style=\"stroke:#181818;stroke-width:0.5;\" x1=\"93.5\" x2=\"212.5\" y1=\"140.2656\" y2=\"140.2656\"/></g></a><!--MD5=[1c62de2aa5b76f0fb657ff8443a1a700]\n",
       "link E5 to E4--><g id=\"link_E5_E4\"><a href=\"psysml:51954fa3-afe5-4e6a-ba60-ca054eed15e8\" target=\"_top\" title=\"psysml:51954fa3-afe5-4e6a-ba60-ca054eed15e8\" xlink:actuate=\"onRequest\" xlink:href=\"psysml:51954fa3-afe5-4e6a-ba60-ca054eed15e8\" xlink:show=\"new\" xlink:title=\"psysml:51954fa3-afe5-4e6a-ba60-ca054eed15e8\" xlink:type=\"simple\"><path d=\"M66.9503,172.4094 C67.038,172.8272 67.126,173.2465 67.2143,173.6672 C67.3909,174.5085 67.5687,175.3555 67.7475,176.2075 C73.47,203.4725 80.29,235.97 85.06,258.69 \" fill=\"none\" id=\"E5-to-E4\" style=\"stroke:#181818;stroke-width:1.0;stroke-dasharray:7.0,7.0;\"/><polygon fill=\"#181818\" points=\"86.12,263.77,88.1858,254.1402,85.0928,258.8766,80.3564,255.7837,86.12,263.77\" style=\"stroke:#181818;stroke-width:1.0;\"/><text fill=\"#000000\" font-family=\"sans-serif\" font-size=\"13\" lengthAdjust=\"spacing\" textLength=\"58\" x=\"76\" y=\"209.0669\">«import»</text></a></g><!--MD5=[f667431f98296947986a1a7595a31603]\n",
       "link E6 to E4--><g id=\"link_E6_E4\"><a href=\"psysml:bdaa5b20-7fbf-4739-8cf5-0e25c1337b74\" target=\"_top\" title=\"psysml:bdaa5b20-7fbf-4739-8cf5-0e25c1337b74\" xlink:actuate=\"onRequest\" xlink:href=\"psysml:bdaa5b20-7fbf-4739-8cf5-0e25c1337b74\" xlink:show=\"new\" xlink:title=\"psysml:bdaa5b20-7fbf-4739-8cf5-0e25c1337b74\" xlink:type=\"simple\"><path d=\"M153.08,148.14 C152.45,166.32 150,191.99 142,213 C137.39,225.1 130.41,237.14 123.08,247.87 \" fill=\"none\" id=\"E6-to-E4\" style=\"stroke:#181818;stroke-width:1.0;\"/><polygon fill=\"#FFFFFF\" points=\"111.17,264,116.8313,244.5591,128.091,252.8789,111.17,264\" style=\"stroke:#181818;stroke-width:1.0;\"/><ellipse cx=\"121.8272\" cy=\"241.1633\" fill=\"#181818\" rx=\"2\" ry=\"2\" style=\"stroke:#181818;stroke-width:1.0;\"/><ellipse cx=\"129.8698\" cy=\"247.106\" fill=\"#181818\" rx=\"2\" ry=\"2\" style=\"stroke:#181818;stroke-width:1.0;\"/></a></g><!--MD5=[0666ed422969ca9c28245420912daa74]\n",
       "@startuml\r\n",
       "skin sysmlbw\r\n",
       "skinparam monochrome true\r\n",
       "skinparam wrapWidth 300\r\n",
       "hide circle\r\n",
       "top to bottom direction\r\n",
       "\r\n",
       "package \"AliasImport\" as E1  [[psysml:ea09c962-e470-4bd3-bf79-0fd6d16116e6 ]]  {\r\n",
       "package \"Definitions\" as E2  [[psysml:4e11052e-d911-402f-9b8e-d22451a94e61 ]]  {\r\n",
       "comp def \"Vehicle\" as E3  <<(T,blue) part  def>> [[psysml:fbf2953e-726b-446c-805b-ce056d089132 ]] {\r\n",
       "}\r\n",
       "comp def \"Vehicle\" as E4  <<(T,blue) part  def>> [[psysml:fbf2953e-726b-446c-805b-ce056d089132 ]] {\r\n",
       "}\r\n",
       "}\r\n",
       "package \"Usages\" as E5  [[psysml:665ec1bc-7429-419a-921f-0e5bfb2e86ee ]]  {\r\n",
       "comp usage \"vehicle: Vehicle  \" as E6  <<(T,blue) part>> [[psysml:1df993ae-180d-40db-acc7-c592d2ed44d7 ]] {\r\n",
       "}\r\n",
       "}\r\n",
       "}\r\n",
       "E5 ..> E4 [[psysml:51954fa3-afe5-4e6a-ba60-ca054eed15e8 ]] : <<import>>\r\n",
       "E6 - -:|> E4 [[psysml:bdaa5b20-7fbf-4739-8cf5-0e25c1337b74 ]] \r\n",
       "@enduml\r\n",
       "\n",
       "PlantUML version 1.2022.7(Mon Aug 22 17:01:30 UTC 2022)\n",
       "(EPL source distribution)\n",
       "Java Runtime: OpenJDK Runtime Environment\n",
       "JVM: OpenJDK 64-Bit Server VM\n",
       "Default Encoding: UTF-8\n",
       "Language: en\n",
       "Country: null\n",
       "--></g></svg>"
      ]
     },
     "execution_count": 44,
     "metadata": {},
     "output_type": "execute_result"
    }
   ],
   "source": [
    "%viz --style=\"TB\" --view=\"Default\" \"AliasImport\""
   ]
  },
  {
   "cell_type": "code",
   "execution_count": 45,
   "id": "2ffe7504",
   "metadata": {
    "execution": {
     "iopub.execute_input": "2024-12-16T03:26:47.876136Z",
     "iopub.status.busy": "2024-12-16T03:26:47.875796Z",
     "iopub.status.idle": "2024-12-16T03:26:47.892409Z",
     "shell.execute_reply": "2024-12-16T03:26:47.891577Z"
    }
   },
   "outputs": [
    {
     "data": {
      "image/svg+xml": [
       "<?xml version=\"1.0\" encoding=\"UTF-8\" standalone=\"no\"?><svg xmlns=\"http://www.w3.org/2000/svg\" xmlns:xlink=\"http://www.w3.org/1999/xlink\" contentStyleType=\"text/css\" height=\"359px\" preserveAspectRatio=\"none\" style=\"width:288px;height:359px;background:#FFFFFF;\" version=\"1.1\" viewBox=\"0 0 288 359\" width=\"288px\" zoomAndPan=\"magnify\"><defs/><g><!--MD5=[fbc87193dbaf4d95561dea2c320d4a47]\n",
       "cluster E1--><g id=\"cluster_E1\"><a href=\"psysml:ea09c962-e470-4bd3-bf79-0fd6d16116e6\" target=\"_top\" title=\"psysml:ea09c962-e470-4bd3-bf79-0fd6d16116e6\" xlink:actuate=\"onRequest\" xlink:href=\"psysml:ea09c962-e470-4bd3-bf79-0fd6d16116e6\" xlink:show=\"new\" xlink:title=\"psysml:ea09c962-e470-4bd3-bf79-0fd6d16116e6\" xlink:type=\"simple\"><polygon fill=\"none\" points=\"16,6,101.8125,6,108.8125,28.2969,271,28.2969,271,352,16,352,16,6\" style=\"stroke:#000000;stroke-width:1.5;\"/><line style=\"stroke:#000000;stroke-width:1.5;\" x1=\"16\" x2=\"108.8125\" y1=\"28.2969\" y2=\"28.2969\"/><text fill=\"#000000\" font-family=\"sans-serif\" font-size=\"14\" font-weight=\"bold\" lengthAdjust=\"spacing\" textLength=\"79.8125\" x=\"20\" y=\"20.9951\">AliasImport</text></a></g><!--MD5=[e4f7fae6ed58524ba242bb0b0d3be6b7]\n",
       "cluster E2--><g id=\"cluster_E2\"><a href=\"psysml:4e11052e-d911-402f-9b8e-d22451a94e61\" target=\"_top\" title=\"psysml:4e11052e-d911-402f-9b8e-d22451a94e61\" xlink:actuate=\"onRequest\" xlink:href=\"psysml:4e11052e-d911-402f-9b8e-d22451a94e61\" xlink:show=\"new\" xlink:title=\"psysml:4e11052e-d911-402f-9b8e-d22451a94e61\" xlink:type=\"simple\"><polygon fill=\"none\" points=\"40,229,123.8125,229,130.8125,251.2969,247,251.2969,247,328,40,328,40,229\" style=\"stroke:#000000;stroke-width:1.5;\"/><line style=\"stroke:#000000;stroke-width:1.5;\" x1=\"40\" x2=\"130.8125\" y1=\"251.2969\" y2=\"251.2969\"/><text fill=\"#000000\" font-family=\"sans-serif\" font-size=\"14\" font-weight=\"bold\" lengthAdjust=\"spacing\" textLength=\"77.8125\" x=\"44\" y=\"243.9951\">Definitions</text></a></g><!--MD5=[de5ec2e2e8f62f467e546659f5068c88]\n",
       "cluster E5--><g id=\"cluster_E5\"><a href=\"psysml:665ec1bc-7429-419a-921f-0e5bfb2e86ee\" target=\"_top\" title=\"psysml:665ec1bc-7429-419a-921f-0e5bfb2e86ee\" xlink:actuate=\"onRequest\" xlink:href=\"psysml:665ec1bc-7429-419a-921f-0e5bfb2e86ee\" xlink:show=\"new\" xlink:title=\"psysml:665ec1bc-7429-419a-921f-0e5bfb2e86ee\" xlink:type=\"simple\"><polygon fill=\"none\" points=\"49,57,109.625,57,116.625,79.2969,238,79.2969,238,172,49,172,49,57\" style=\"stroke:#000000;stroke-width:1.5;\"/><line style=\"stroke:#000000;stroke-width:1.5;\" x1=\"49\" x2=\"116.625\" y1=\"79.2969\" y2=\"79.2969\"/><text fill=\"#000000\" font-family=\"sans-serif\" font-size=\"14\" font-weight=\"bold\" lengthAdjust=\"spacing\" textLength=\"54.625\" x=\"53\" y=\"71.9951\">Usages</text></a></g><!--MD5=[09b614a08d8cba4a07c9adeb5e0fee81]\n",
       "class E3--><a href=\"psysml:fbf2953e-726b-446c-805b-ce056d089132\" target=\"_top\" title=\"psysml:fbf2953e-726b-446c-805b-ce056d089132\" xlink:actuate=\"onRequest\" xlink:href=\"psysml:fbf2953e-726b-446c-805b-ce056d089132\" xlink:show=\"new\" xlink:title=\"psysml:fbf2953e-726b-446c-805b-ce056d089132\" xlink:type=\"simple\"><g id=\"elem_E3\"><rect fill=\"#FFFFFF\" height=\"48.2656\" id=\"E3\" style=\"stroke:#181818;stroke-width:0.5;\" width=\"70\" x=\"161\" y=\"264\"/><text fill=\"#000000\" font-family=\"sans-serif\" font-size=\"12\" font-style=\"italic\" lengthAdjust=\"spacing\" textLength=\"68\" x=\"162\" y=\"280.1387\">«part  def»</text><text fill=\"#000000\" font-family=\"sans-serif\" font-size=\"14\" lengthAdjust=\"spacing\" textLength=\"50\" x=\"171\" y=\"295.9639\">Vehicle</text><line style=\"stroke:#181818;stroke-width:0.5;\" x1=\"162\" x2=\"230\" y1=\"304.2656\" y2=\"304.2656\"/></g></a><!--MD5=[ebbe1d658d1005bcc118a6aa81145e00]\n",
       "class E4--><a href=\"psysml:fbf2953e-726b-446c-805b-ce056d089132\" target=\"_top\" title=\"psysml:fbf2953e-726b-446c-805b-ce056d089132\" xlink:actuate=\"onRequest\" xlink:href=\"psysml:fbf2953e-726b-446c-805b-ce056d089132\" xlink:show=\"new\" xlink:title=\"psysml:fbf2953e-726b-446c-805b-ce056d089132\" xlink:type=\"simple\"><g id=\"elem_E4\"><rect fill=\"#FFFFFF\" height=\"48.2656\" id=\"E4\" style=\"stroke:#181818;stroke-width:0.5;\" width=\"70\" x=\"56\" y=\"264\"/><text fill=\"#000000\" font-family=\"sans-serif\" font-size=\"12\" font-style=\"italic\" lengthAdjust=\"spacing\" textLength=\"68\" x=\"57\" y=\"280.1387\">«part  def»</text><text fill=\"#000000\" font-family=\"sans-serif\" font-size=\"14\" lengthAdjust=\"spacing\" textLength=\"50\" x=\"66\" y=\"295.9639\">Vehicle</text><line style=\"stroke:#181818;stroke-width:0.5;\" x1=\"57\" x2=\"125\" y1=\"304.2656\" y2=\"304.2656\"/></g></a><!--MD5=[60a26617385b1d2d0262a64233df1f8d]\n",
       "class E6--><a href=\"psysml:1df993ae-180d-40db-acc7-c592d2ed44d7\" target=\"_top\" title=\"psysml:1df993ae-180d-40db-acc7-c592d2ed44d7\" xlink:actuate=\"onRequest\" xlink:href=\"psysml:1df993ae-180d-40db-acc7-c592d2ed44d7\" xlink:show=\"new\" xlink:title=\"psysml:1df993ae-180d-40db-acc7-c592d2ed44d7\" xlink:type=\"simple\"><g id=\"elem_E6\"><rect fill=\"#FFFFFF\" height=\"48.2656\" id=\"E6\" rx=\"10\" ry=\"10\" style=\"stroke:#181818;stroke-width:0.5;\" width=\"121\" x=\"92.5\" y=\"100\"/><text fill=\"#000000\" font-family=\"sans-serif\" font-size=\"12\" font-style=\"italic\" lengthAdjust=\"spacing\" textLength=\"40\" x=\"133\" y=\"116.1387\">«part»</text><text fill=\"#000000\" font-family=\"sans-serif\" font-size=\"14\" lengthAdjust=\"spacing\" textLength=\"107\" x=\"95.5\" y=\"131.9639\">vehicle: Vehicle</text><line style=\"stroke:#181818;stroke-width:0.5;\" x1=\"93.5\" x2=\"212.5\" y1=\"140.2656\" y2=\"140.2656\"/></g></a><!--MD5=[1c62de2aa5b76f0fb657ff8443a1a700]\n",
       "link E5 to E4--><g id=\"link_E5_E4\"><a href=\"psysml:51954fa3-afe5-4e6a-ba60-ca054eed15e8\" target=\"_top\" title=\"psysml:51954fa3-afe5-4e6a-ba60-ca054eed15e8\" xlink:actuate=\"onRequest\" xlink:href=\"psysml:51954fa3-afe5-4e6a-ba60-ca054eed15e8\" xlink:show=\"new\" xlink:title=\"psysml:51954fa3-afe5-4e6a-ba60-ca054eed15e8\" xlink:type=\"simple\"><path d=\"M66.9503,172.4094 C67.038,172.8272 67.126,173.2465 67.2143,173.6672 C67.3909,174.5085 67.5687,175.3555 67.7475,176.2075 C73.47,203.4725 80.29,235.97 85.06,258.69 \" fill=\"none\" id=\"E5-to-E4\" style=\"stroke:#181818;stroke-width:1.0;stroke-dasharray:7.0,7.0;\"/><polygon fill=\"#181818\" points=\"86.12,263.77,88.1858,254.1402,85.0928,258.8766,80.3564,255.7837,86.12,263.77\" style=\"stroke:#181818;stroke-width:1.0;\"/><text fill=\"#000000\" font-family=\"sans-serif\" font-size=\"13\" lengthAdjust=\"spacing\" textLength=\"58\" x=\"76\" y=\"209.0669\">«import»</text></a></g><!--MD5=[f667431f98296947986a1a7595a31603]\n",
       "link E6 to E4--><g id=\"link_E6_E4\"><a href=\"psysml:bdaa5b20-7fbf-4739-8cf5-0e25c1337b74\" target=\"_top\" title=\"psysml:bdaa5b20-7fbf-4739-8cf5-0e25c1337b74\" xlink:actuate=\"onRequest\" xlink:href=\"psysml:bdaa5b20-7fbf-4739-8cf5-0e25c1337b74\" xlink:show=\"new\" xlink:title=\"psysml:bdaa5b20-7fbf-4739-8cf5-0e25c1337b74\" xlink:type=\"simple\"><path d=\"M153.08,148.14 C152.45,166.32 150,191.99 142,213 C137.39,225.1 130.41,237.14 123.08,247.87 \" fill=\"none\" id=\"E6-to-E4\" style=\"stroke:#181818;stroke-width:1.0;\"/><polygon fill=\"#FFFFFF\" points=\"111.17,264,116.8313,244.5591,128.091,252.8789,111.17,264\" style=\"stroke:#181818;stroke-width:1.0;\"/><ellipse cx=\"121.8272\" cy=\"241.1633\" fill=\"#181818\" rx=\"2\" ry=\"2\" style=\"stroke:#181818;stroke-width:1.0;\"/><ellipse cx=\"129.8698\" cy=\"247.106\" fill=\"#181818\" rx=\"2\" ry=\"2\" style=\"stroke:#181818;stroke-width:1.0;\"/></a></g><!--MD5=[0666ed422969ca9c28245420912daa74]\n",
       "@startuml\r\n",
       "skin sysmlbw\r\n",
       "skinparam monochrome true\r\n",
       "skinparam wrapWidth 300\r\n",
       "hide circle\r\n",
       "top to bottom direction\r\n",
       "\r\n",
       "package \"AliasImport\" as E1  [[psysml:ea09c962-e470-4bd3-bf79-0fd6d16116e6 ]]  {\r\n",
       "package \"Definitions\" as E2  [[psysml:4e11052e-d911-402f-9b8e-d22451a94e61 ]]  {\r\n",
       "comp def \"Vehicle\" as E3  <<(T,blue) part  def>> [[psysml:fbf2953e-726b-446c-805b-ce056d089132 ]] {\r\n",
       "}\r\n",
       "comp def \"Vehicle\" as E4  <<(T,blue) part  def>> [[psysml:fbf2953e-726b-446c-805b-ce056d089132 ]] {\r\n",
       "}\r\n",
       "}\r\n",
       "package \"Usages\" as E5  [[psysml:665ec1bc-7429-419a-921f-0e5bfb2e86ee ]]  {\r\n",
       "comp usage \"vehicle: Vehicle  \" as E6  <<(T,blue) part>> [[psysml:1df993ae-180d-40db-acc7-c592d2ed44d7 ]] {\r\n",
       "}\r\n",
       "}\r\n",
       "}\r\n",
       "E5 ..> E4 [[psysml:51954fa3-afe5-4e6a-ba60-ca054eed15e8 ]] : <<import>>\r\n",
       "E6 - -:|> E4 [[psysml:bdaa5b20-7fbf-4739-8cf5-0e25c1337b74 ]] \r\n",
       "@enduml\r\n",
       "\n",
       "PlantUML version 1.2022.7(Mon Aug 22 17:01:30 UTC 2022)\n",
       "(EPL source distribution)\n",
       "Java Runtime: OpenJDK Runtime Environment\n",
       "JVM: OpenJDK 64-Bit Server VM\n",
       "Default Encoding: UTF-8\n",
       "Language: en\n",
       "Country: null\n",
       "--></g></svg>"
      ]
     },
     "execution_count": 45,
     "metadata": {},
     "output_type": "execute_result"
    }
   ],
   "source": [
    "%viz --style=\"TB\" --view=\"Tree\" \"AliasImport\""
   ]
  },
  {
   "cell_type": "code",
   "execution_count": 46,
   "id": "c543be49",
   "metadata": {
    "execution": {
     "iopub.execute_input": "2024-12-16T03:26:47.948082Z",
     "iopub.status.busy": "2024-12-16T03:26:47.947853Z",
     "iopub.status.idle": "2024-12-16T03:26:47.952290Z",
     "shell.execute_reply": "2024-12-16T03:26:47.952113Z"
    }
   },
   "outputs": [
    {
     "data": {
      "image/svg+xml": [
       "<?xml version=\"1.0\" encoding=\"UTF-8\" standalone=\"no\"?><svg xmlns=\"http://www.w3.org/2000/svg\" xmlns:xlink=\"http://www.w3.org/1999/xlink\" contentStyleType=\"text/css\" height=\"10px\" preserveAspectRatio=\"none\" style=\"width:10px;height:10px;background:#FFFFFF;\" version=\"1.1\" viewBox=\"0 0 10 10\" width=\"10px\" zoomAndPan=\"magnify\"><defs/><g><!--MD5=[457d54036ad86991b1ebb71db2c9a3b1]\n",
       "@startuml\r\n",
       "skin sysmlbw\r\n",
       "skinparam monochrome true\r\n",
       "skinparam wrapWidth 300\r\n",
       "hide circle\r\n",
       "top to bottom direction\r\n",
       "\r\n",
       "@enduml\r\n",
       "\n",
       "PlantUML version 1.2022.7(Mon Aug 22 17:01:30 UTC 2022)\n",
       "(EPL source distribution)\n",
       "Java Runtime: OpenJDK Runtime Environment\n",
       "JVM: OpenJDK 64-Bit Server VM\n",
       "Default Encoding: UTF-8\n",
       "Language: en\n",
       "Country: null\n",
       "--></g></svg>"
      ]
     },
     "execution_count": 46,
     "metadata": {},
     "output_type": "execute_result"
    }
   ],
   "source": [
    "%viz --style=\"TB\" --view=\"State\" \"AliasImport\""
   ]
  },
  {
   "cell_type": "code",
   "execution_count": 47,
   "id": "f5de94ee",
   "metadata": {
    "execution": {
     "iopub.execute_input": "2024-12-16T03:26:48.008987Z",
     "iopub.status.busy": "2024-12-16T03:26:48.008789Z",
     "iopub.status.idle": "2024-12-16T03:26:48.027229Z",
     "shell.execute_reply": "2024-12-16T03:26:48.026361Z"
    }
   },
   "outputs": [
    {
     "data": {
      "image/svg+xml": [
       "<?xml version=\"1.0\" encoding=\"UTF-8\" standalone=\"no\"?><svg xmlns=\"http://www.w3.org/2000/svg\" xmlns:xlink=\"http://www.w3.org/1999/xlink\" contentStyleType=\"text/css\" height=\"348px\" preserveAspectRatio=\"none\" style=\"width:297px;height:348px;background:#FFFFFF;\" version=\"1.1\" viewBox=\"0 0 297 348\" width=\"297px\" zoomAndPan=\"magnify\"><defs/><g><!--MD5=[fbc87193dbaf4d95561dea2c320d4a47]\n",
       "cluster E1--><g id=\"cluster_E1\"><a href=\"psysml:ea09c962-e470-4bd3-bf79-0fd6d16116e6\" target=\"_top\" title=\"psysml:ea09c962-e470-4bd3-bf79-0fd6d16116e6\" xlink:actuate=\"onRequest\" xlink:href=\"psysml:ea09c962-e470-4bd3-bf79-0fd6d16116e6\" xlink:show=\"new\" xlink:title=\"psysml:ea09c962-e470-4bd3-bf79-0fd6d16116e6\" xlink:type=\"simple\"><polygon fill=\"none\" points=\"16,6,101.8125,6,108.8125,28.2969,280,28.2969,280,341,16,341,16,6\" style=\"stroke:#000000;stroke-width:1.5;\"/><line style=\"stroke:#000000;stroke-width:1.5;\" x1=\"16\" x2=\"108.8125\" y1=\"28.2969\" y2=\"28.2969\"/><text fill=\"#000000\" font-family=\"sans-serif\" font-size=\"14\" font-weight=\"bold\" lengthAdjust=\"spacing\" textLength=\"79.8125\" x=\"20\" y=\"20.9951\">AliasImport</text></a></g><!--MD5=[e4f7fae6ed58524ba242bb0b0d3be6b7]\n",
       "cluster E2--><g id=\"cluster_E2\"><a href=\"psysml:4e11052e-d911-402f-9b8e-d22451a94e61\" target=\"_top\" title=\"psysml:4e11052e-d911-402f-9b8e-d22451a94e61\" xlink:actuate=\"onRequest\" xlink:href=\"psysml:4e11052e-d911-402f-9b8e-d22451a94e61\" xlink:show=\"new\" xlink:title=\"psysml:4e11052e-d911-402f-9b8e-d22451a94e61\" xlink:type=\"simple\"><polygon fill=\"none\" points=\"40,221,123.8125,221,130.8125,243.2969,256,243.2969,256,317,40,317,40,221\" style=\"stroke:#000000;stroke-width:1.5;\"/><line style=\"stroke:#000000;stroke-width:1.5;\" x1=\"40\" x2=\"130.8125\" y1=\"243.2969\" y2=\"243.2969\"/><text fill=\"#000000\" font-family=\"sans-serif\" font-size=\"14\" font-weight=\"bold\" lengthAdjust=\"spacing\" textLength=\"77.8125\" x=\"44\" y=\"235.9951\">Definitions</text></a></g><!--MD5=[de5ec2e2e8f62f467e546659f5068c88]\n",
       "cluster E5--><g id=\"cluster_E5\"><a href=\"psysml:665ec1bc-7429-419a-921f-0e5bfb2e86ee\" target=\"_top\" title=\"psysml:665ec1bc-7429-419a-921f-0e5bfb2e86ee\" xlink:actuate=\"onRequest\" xlink:href=\"psysml:665ec1bc-7429-419a-921f-0e5bfb2e86ee\" xlink:show=\"new\" xlink:title=\"psysml:665ec1bc-7429-419a-921f-0e5bfb2e86ee\" xlink:type=\"simple\"><polygon fill=\"none\" points=\"55,57,115.625,57,122.625,79.2969,240,79.2969,240,164,55,164,55,57\" style=\"stroke:#000000;stroke-width:1.5;\"/><line style=\"stroke:#000000;stroke-width:1.5;\" x1=\"55\" x2=\"122.625\" y1=\"79.2969\" y2=\"79.2969\"/><text fill=\"#000000\" font-family=\"sans-serif\" font-size=\"14\" font-weight=\"bold\" lengthAdjust=\"spacing\" textLength=\"54.625\" x=\"59\" y=\"71.9951\">Usages</text></a></g><g><a href=\"psysml:fbf2953e-726b-446c-805b-ce056d089132\" target=\"_top\" title=\"psysml:fbf2953e-726b-446c-805b-ce056d089132\" xlink:actuate=\"onRequest\" xlink:href=\"psysml:fbf2953e-726b-446c-805b-ce056d089132\" xlink:show=\"new\" xlink:title=\"psysml:fbf2953e-726b-446c-805b-ce056d089132\" xlink:type=\"simple\"><rect fill=\"#FFFFFF\" height=\"45.2656\" id=\"E3\" style=\"stroke:#383838;stroke-width:1.5;\" width=\"75\" x=\"165.5\" y=\"256\"/><text fill=\"#000000\" font-family=\"sans-serif\" font-size=\"12\" font-style=\"italic\" lengthAdjust=\"spacing\" textLength=\"68\" x=\"169\" y=\"272.1387\">«part  def»</text><text fill=\"#000000\" font-family=\"sans-serif\" font-size=\"14\" lengthAdjust=\"spacing\" textLength=\"50\" x=\"178\" y=\"287.9639\">Vehicle</text></a></g><g><a href=\"psysml:fbf2953e-726b-446c-805b-ce056d089132\" target=\"_top\" title=\"psysml:fbf2953e-726b-446c-805b-ce056d089132\" xlink:actuate=\"onRequest\" xlink:href=\"psysml:fbf2953e-726b-446c-805b-ce056d089132\" xlink:show=\"new\" xlink:title=\"psysml:fbf2953e-726b-446c-805b-ce056d089132\" xlink:type=\"simple\"><rect fill=\"#FFFFFF\" height=\"45.2656\" id=\"E4\" style=\"stroke:#383838;stroke-width:1.5;\" width=\"75\" x=\"55.5\" y=\"256\"/><text fill=\"#000000\" font-family=\"sans-serif\" font-size=\"12\" font-style=\"italic\" lengthAdjust=\"spacing\" textLength=\"68\" x=\"59\" y=\"272.1387\">«part  def»</text><text fill=\"#000000\" font-family=\"sans-serif\" font-size=\"14\" lengthAdjust=\"spacing\" textLength=\"50\" x=\"68\" y=\"287.9639\">Vehicle</text></a></g><g><a href=\"psysml:1df993ae-180d-40db-acc7-c592d2ed44d7\" target=\"_top\" title=\"psysml:1df993ae-180d-40db-acc7-c592d2ed44d7\" xlink:actuate=\"onRequest\" xlink:href=\"psysml:1df993ae-180d-40db-acc7-c592d2ed44d7\" xlink:show=\"new\" xlink:title=\"psysml:1df993ae-180d-40db-acc7-c592d2ed44d7\" xlink:type=\"simple\"><rect fill=\"#FFFFFF\" height=\"40\" id=\"E6\" rx=\"10\" ry=\"10\" style=\"stroke:#383838;stroke-width:1.5;\" width=\"118\" x=\"98\" y=\"100\"/><text fill=\"#000000\" font-family=\"sans-serif\" font-size=\"14\" lengthAdjust=\"spacing\" textLength=\"107\" x=\"103.5\" y=\"117.9951\">vehicle: Vehicle</text></a></g><!--MD5=[1c62de2aa5b76f0fb657ff8443a1a700]\n",
       "link E5 to E4--><g id=\"link_E5_E4\"><a href=\"psysml:51954fa3-afe5-4e6a-ba60-ca054eed15e8\" target=\"_top\" title=\"psysml:51954fa3-afe5-4e6a-ba60-ca054eed15e8\" xlink:actuate=\"onRequest\" xlink:href=\"psysml:51954fa3-afe5-4e6a-ba60-ca054eed15e8\" xlink:show=\"new\" xlink:title=\"psysml:51954fa3-afe5-4e6a-ba60-ca054eed15e8\" xlink:type=\"simple\"><path d=\"M69.043,164.2456 C69.0858,164.5249 69.1287,164.8047 69.1718,165.0851 C69.2579,165.646 69.3448,166.2091 69.4323,166.7743 C69.6073,167.9047 69.7849,169.0434 69.965,170.1889 C70.3253,172.4798 70.6956,174.7976 71.075,177.1298 C72.5925,186.4587 74.255,196.0175 76,205 C78.97,220.26 82.89,237.18 86.23,250.83 \" fill=\"none\" id=\"E5-to-E4\" style=\"stroke:#181818;stroke-width:1.0;stroke-dasharray:7.0,7.0;\"/><polygon fill=\"#181818\" points=\"87.43,255.7,89.1546,246.0033,86.2308,250.8459,81.3881,247.9221,87.43,255.7\" style=\"stroke:#181818;stroke-width:1.0;\"/><text fill=\"#000000\" font-family=\"sans-serif\" font-size=\"13\" lengthAdjust=\"spacing\" textLength=\"58\" x=\"77\" y=\"201.0669\">«import»</text></a></g><!--MD5=[f667431f98296947986a1a7595a31603]\n",
       "link E6 to E4--><g id=\"link_E6_E4\"><a href=\"psysml:bdaa5b20-7fbf-4739-8cf5-0e25c1337b74\" target=\"_top\" title=\"psysml:bdaa5b20-7fbf-4739-8cf5-0e25c1337b74\" xlink:actuate=\"onRequest\" xlink:href=\"psysml:bdaa5b20-7fbf-4739-8cf5-0e25c1337b74\" xlink:show=\"new\" xlink:title=\"psysml:bdaa5b20-7fbf-4739-8cf5-0e25c1337b74\" xlink:type=\"simple\"><path d=\"M155.18,140.28 C153.05,157.7 148.66,183.78 140,205 C135.21,216.74 128.45,228.64 121.56,239.31 \" fill=\"none\" id=\"E6-to-E4\" style=\"stroke:#181818;stroke-width:1.0;\"/><polygon fill=\"#FFFFFF\" points=\"110.13,255.85,115.1604,236.2364,126.683,244.1881,110.13,255.85\" style=\"stroke:#181818;stroke-width:1.0;\"/><ellipse cx=\"120.044\" cy=\"232.681\" fill=\"#181818\" rx=\"2\" ry=\"2\" style=\"stroke:#181818;stroke-width:1.0;\"/><ellipse cx=\"128.2744\" cy=\"238.3608\" fill=\"#181818\" rx=\"2\" ry=\"2\" style=\"stroke:#181818;stroke-width:1.0;\"/></a></g><!--MD5=[16cdeb15f03a728f1afe4eb6a5adc9cf]\n",
       "@startuml\r\n",
       "skin sysmlbw\r\n",
       "skinparam monochrome true\r\n",
       "skinparam wrapWidth 300\r\n",
       "hide circle\r\n",
       "top to bottom direction\r\n",
       "skinparam ranksep 10\r\n",
       "skinparam rectangle {\r\n",
       " backgroundColor<<block>> LightGreen\r\n",
       "}\r\n",
       "\r\n",
       "package \"AliasImport\" as E1  [[psysml:ea09c962-e470-4bd3-bf79-0fd6d16116e6 ]]  {\r\n",
       "package \"Definitions\" as E2  [[psysml:4e11052e-d911-402f-9b8e-d22451a94e61 ]]  {\r\n",
       "rec def \"Vehicle\" as E3  <<(T,blue) part  def>> [[psysml:fbf2953e-726b-446c-805b-ce056d089132 ]] {\r\n",
       "}\r\n",
       "rec def \"Vehicle\" as E4  <<(T,blue) part  def>> [[psysml:fbf2953e-726b-446c-805b-ce056d089132 ]] {\r\n",
       "}\r\n",
       "}\r\n",
       "package \"Usages\" as E5  [[psysml:665ec1bc-7429-419a-921f-0e5bfb2e86ee ]]  {\r\n",
       "rec usage \"vehicle: Vehicle\" as E6 [[psysml:1df993ae-180d-40db-acc7-c592d2ed44d7 ]] {\r\n",
       "}\r\n",
       "}\r\n",
       "}\r\n",
       "E5 ..> E4 [[psysml:51954fa3-afe5-4e6a-ba60-ca054eed15e8 ]] : <<import>>\r\n",
       "E6 - -:|> E4 [[psysml:bdaa5b20-7fbf-4739-8cf5-0e25c1337b74 ]] \r\n",
       "@enduml\r\n",
       "\n",
       "PlantUML version 1.2022.7(Mon Aug 22 17:01:30 UTC 2022)\n",
       "(EPL source distribution)\n",
       "Java Runtime: OpenJDK Runtime Environment\n",
       "JVM: OpenJDK 64-Bit Server VM\n",
       "Default Encoding: UTF-8\n",
       "Language: en\n",
       "Country: null\n",
       "--></g></svg>"
      ]
     },
     "execution_count": 47,
     "metadata": {},
     "output_type": "execute_result"
    }
   ],
   "source": [
    "%viz --style=\"TB\" --view=\"Interconnection\" \"AliasImport\""
   ]
  },
  {
   "cell_type": "code",
   "execution_count": 48,
   "id": "4bbffd9b",
   "metadata": {
    "execution": {
     "iopub.execute_input": "2024-12-16T03:26:48.080578Z",
     "iopub.status.busy": "2024-12-16T03:26:48.080309Z",
     "iopub.status.idle": "2024-12-16T03:26:48.084918Z",
     "shell.execute_reply": "2024-12-16T03:26:48.085056Z"
    }
   },
   "outputs": [
    {
     "data": {
      "image/svg+xml": [
       "<?xml version=\"1.0\" encoding=\"UTF-8\" standalone=\"no\"?><svg xmlns=\"http://www.w3.org/2000/svg\" xmlns:xlink=\"http://www.w3.org/1999/xlink\" contentStyleType=\"text/css\" height=\"10px\" preserveAspectRatio=\"none\" style=\"width:10px;height:10px;background:#FFFFFF;\" version=\"1.1\" viewBox=\"0 0 10 10\" width=\"10px\" zoomAndPan=\"magnify\"><defs/><g><!--MD5=[c8dde5d066d102a500cd081cce1d9948]\n",
       "@startuml\r\n",
       "skin sysmlbw\r\n",
       "skinparam monochrome true\r\n",
       "skinparam wrapWidth 300\r\n",
       "hide circle\r\n",
       "top to bottom direction\r\n",
       "skinparam ranksep 8\r\n",
       "\r\n",
       "@enduml\r\n",
       "\n",
       "PlantUML version 1.2022.7(Mon Aug 22 17:01:30 UTC 2022)\n",
       "(EPL source distribution)\n",
       "Java Runtime: OpenJDK Runtime Environment\n",
       "JVM: OpenJDK 64-Bit Server VM\n",
       "Default Encoding: UTF-8\n",
       "Language: en\n",
       "Country: null\n",
       "--></g></svg>"
      ]
     },
     "execution_count": 48,
     "metadata": {},
     "output_type": "execute_result"
    }
   ],
   "source": [
    "%viz --style=\"TB\" --view=\"Action\" \"AliasImport\""
   ]
  },
  {
   "cell_type": "code",
   "execution_count": 49,
   "id": "bd4dfbc7",
   "metadata": {
    "execution": {
     "iopub.execute_input": "2024-12-16T03:26:48.141742Z",
     "iopub.status.busy": "2024-12-16T03:26:48.141545Z",
     "iopub.status.idle": "2024-12-16T03:26:48.146867Z",
     "shell.execute_reply": "2024-12-16T03:26:48.146690Z"
    }
   },
   "outputs": [
    {
     "data": {
      "image/svg+xml": [
       "<?xml version=\"1.0\" encoding=\"UTF-8\" standalone=\"no\"?><svg xmlns=\"http://www.w3.org/2000/svg\" xmlns:xlink=\"http://www.w3.org/1999/xlink\" contentStyleType=\"text/css\" height=\"10px\" preserveAspectRatio=\"none\" style=\"width:10px;height:10px;background:#FFFFFF;\" version=\"1.1\" viewBox=\"0 0 10 10\" width=\"10px\" zoomAndPan=\"magnify\"><defs/><g><!--MD5=[228a58293b408a2cee091b1559da5a28]\n",
       "@startuml\r\n",
       "skin sysmlbw\r\n",
       "skinparam monochrome true\r\n",
       "skinparam wrapWidth 300\r\n",
       "hide circle\r\n",
       "top to bottom direction\r\n",
       "skinparam roundcorner 20\r\n",
       "skinparam BoxPadding 20\r\n",
       "skinparam SequenceBoxBackgroundColor #white\r\n",
       "skinparam style strictuml\r\n",
       "skinparam maxMessageSize 100\r\n",
       "\r\n",
       "@enduml\r\n",
       "\n",
       "PlantUML version 1.2022.7(Mon Aug 22 17:01:30 UTC 2022)\n",
       "(EPL source distribution)\n",
       "Java Runtime: OpenJDK Runtime Environment\n",
       "JVM: OpenJDK 64-Bit Server VM\n",
       "Default Encoding: UTF-8\n",
       "Language: en\n",
       "Country: null\n",
       "--></g></svg>"
      ]
     },
     "execution_count": 49,
     "metadata": {},
     "output_type": "execute_result"
    }
   ],
   "source": [
    "%viz --style=\"TB\" --view=\"Sequence\" \"AliasImport\""
   ]
  },
  {
   "cell_type": "code",
   "execution_count": 50,
   "id": "1a9122e4",
   "metadata": {
    "execution": {
     "iopub.execute_input": "2024-12-16T03:26:48.202623Z",
     "iopub.status.busy": "2024-12-16T03:26:48.202361Z",
     "iopub.status.idle": "2024-12-16T03:26:48.218964Z",
     "shell.execute_reply": "2024-12-16T03:26:48.218187Z"
    }
   },
   "outputs": [
    {
     "data": {
      "image/svg+xml": [
       "<?xml version=\"1.0\" encoding=\"UTF-8\" standalone=\"no\"?><svg xmlns=\"http://www.w3.org/2000/svg\" xmlns:xlink=\"http://www.w3.org/1999/xlink\" contentStyleType=\"text/css\" height=\"359px\" preserveAspectRatio=\"none\" style=\"width:288px;height:359px;background:#FFFFFF;\" version=\"1.1\" viewBox=\"0 0 288 359\" width=\"288px\" zoomAndPan=\"magnify\"><defs/><g><!--MD5=[fbc87193dbaf4d95561dea2c320d4a47]\n",
       "cluster E1--><g id=\"cluster_E1\"><a href=\"psysml:ea09c962-e470-4bd3-bf79-0fd6d16116e6\" target=\"_top\" title=\"psysml:ea09c962-e470-4bd3-bf79-0fd6d16116e6\" xlink:actuate=\"onRequest\" xlink:href=\"psysml:ea09c962-e470-4bd3-bf79-0fd6d16116e6\" xlink:show=\"new\" xlink:title=\"psysml:ea09c962-e470-4bd3-bf79-0fd6d16116e6\" xlink:type=\"simple\"><polygon fill=\"none\" points=\"16,6,101.8125,6,108.8125,28.2969,271,28.2969,271,352,16,352,16,6\" style=\"stroke:#000000;stroke-width:1.5;\"/><line style=\"stroke:#000000;stroke-width:1.5;\" x1=\"16\" x2=\"108.8125\" y1=\"28.2969\" y2=\"28.2969\"/><text fill=\"#000000\" font-family=\"sans-serif\" font-size=\"14\" font-weight=\"bold\" lengthAdjust=\"spacing\" textLength=\"79.8125\" x=\"20\" y=\"20.9951\">AliasImport</text></a></g><!--MD5=[e4f7fae6ed58524ba242bb0b0d3be6b7]\n",
       "cluster E2--><g id=\"cluster_E2\"><a href=\"psysml:4e11052e-d911-402f-9b8e-d22451a94e61\" target=\"_top\" title=\"psysml:4e11052e-d911-402f-9b8e-d22451a94e61\" xlink:actuate=\"onRequest\" xlink:href=\"psysml:4e11052e-d911-402f-9b8e-d22451a94e61\" xlink:show=\"new\" xlink:title=\"psysml:4e11052e-d911-402f-9b8e-d22451a94e61\" xlink:type=\"simple\"><polygon fill=\"none\" points=\"40,229,123.8125,229,130.8125,251.2969,247,251.2969,247,328,40,328,40,229\" style=\"stroke:#000000;stroke-width:1.5;\"/><line style=\"stroke:#000000;stroke-width:1.5;\" x1=\"40\" x2=\"130.8125\" y1=\"251.2969\" y2=\"251.2969\"/><text fill=\"#000000\" font-family=\"sans-serif\" font-size=\"14\" font-weight=\"bold\" lengthAdjust=\"spacing\" textLength=\"77.8125\" x=\"44\" y=\"243.9951\">Definitions</text></a></g><!--MD5=[de5ec2e2e8f62f467e546659f5068c88]\n",
       "cluster E5--><g id=\"cluster_E5\"><a href=\"psysml:665ec1bc-7429-419a-921f-0e5bfb2e86ee\" target=\"_top\" title=\"psysml:665ec1bc-7429-419a-921f-0e5bfb2e86ee\" xlink:actuate=\"onRequest\" xlink:href=\"psysml:665ec1bc-7429-419a-921f-0e5bfb2e86ee\" xlink:show=\"new\" xlink:title=\"psysml:665ec1bc-7429-419a-921f-0e5bfb2e86ee\" xlink:type=\"simple\"><polygon fill=\"none\" points=\"49,57,109.625,57,116.625,79.2969,238,79.2969,238,172,49,172,49,57\" style=\"stroke:#000000;stroke-width:1.5;\"/><line style=\"stroke:#000000;stroke-width:1.5;\" x1=\"49\" x2=\"116.625\" y1=\"79.2969\" y2=\"79.2969\"/><text fill=\"#000000\" font-family=\"sans-serif\" font-size=\"14\" font-weight=\"bold\" lengthAdjust=\"spacing\" textLength=\"54.625\" x=\"53\" y=\"71.9951\">Usages</text></a></g><!--MD5=[09b614a08d8cba4a07c9adeb5e0fee81]\n",
       "class E3--><a href=\"psysml:fbf2953e-726b-446c-805b-ce056d089132\" target=\"_top\" title=\"psysml:fbf2953e-726b-446c-805b-ce056d089132\" xlink:actuate=\"onRequest\" xlink:href=\"psysml:fbf2953e-726b-446c-805b-ce056d089132\" xlink:show=\"new\" xlink:title=\"psysml:fbf2953e-726b-446c-805b-ce056d089132\" xlink:type=\"simple\"><g id=\"elem_E3\"><rect fill=\"#FFFFFF\" height=\"48.2656\" id=\"E3\" style=\"stroke:#181818;stroke-width:0.5;\" width=\"70\" x=\"161\" y=\"264\"/><text fill=\"#000000\" font-family=\"sans-serif\" font-size=\"12\" font-style=\"italic\" lengthAdjust=\"spacing\" textLength=\"68\" x=\"162\" y=\"280.1387\">«part  def»</text><text fill=\"#000000\" font-family=\"sans-serif\" font-size=\"14\" lengthAdjust=\"spacing\" textLength=\"50\" x=\"171\" y=\"295.9639\">Vehicle</text><line style=\"stroke:#181818;stroke-width:0.5;\" x1=\"162\" x2=\"230\" y1=\"304.2656\" y2=\"304.2656\"/></g></a><!--MD5=[ebbe1d658d1005bcc118a6aa81145e00]\n",
       "class E4--><a href=\"psysml:fbf2953e-726b-446c-805b-ce056d089132\" target=\"_top\" title=\"psysml:fbf2953e-726b-446c-805b-ce056d089132\" xlink:actuate=\"onRequest\" xlink:href=\"psysml:fbf2953e-726b-446c-805b-ce056d089132\" xlink:show=\"new\" xlink:title=\"psysml:fbf2953e-726b-446c-805b-ce056d089132\" xlink:type=\"simple\"><g id=\"elem_E4\"><rect fill=\"#FFFFFF\" height=\"48.2656\" id=\"E4\" style=\"stroke:#181818;stroke-width:0.5;\" width=\"70\" x=\"56\" y=\"264\"/><text fill=\"#000000\" font-family=\"sans-serif\" font-size=\"12\" font-style=\"italic\" lengthAdjust=\"spacing\" textLength=\"68\" x=\"57\" y=\"280.1387\">«part  def»</text><text fill=\"#000000\" font-family=\"sans-serif\" font-size=\"14\" lengthAdjust=\"spacing\" textLength=\"50\" x=\"66\" y=\"295.9639\">Vehicle</text><line style=\"stroke:#181818;stroke-width:0.5;\" x1=\"57\" x2=\"125\" y1=\"304.2656\" y2=\"304.2656\"/></g></a><!--MD5=[60a26617385b1d2d0262a64233df1f8d]\n",
       "class E6--><a href=\"psysml:1df993ae-180d-40db-acc7-c592d2ed44d7\" target=\"_top\" title=\"psysml:1df993ae-180d-40db-acc7-c592d2ed44d7\" xlink:actuate=\"onRequest\" xlink:href=\"psysml:1df993ae-180d-40db-acc7-c592d2ed44d7\" xlink:show=\"new\" xlink:title=\"psysml:1df993ae-180d-40db-acc7-c592d2ed44d7\" xlink:type=\"simple\"><g id=\"elem_E6\"><rect fill=\"#FFFFFF\" height=\"48.2656\" id=\"E6\" rx=\"10\" ry=\"10\" style=\"stroke:#181818;stroke-width:0.5;\" width=\"121\" x=\"92.5\" y=\"100\"/><text fill=\"#000000\" font-family=\"sans-serif\" font-size=\"12\" font-style=\"italic\" lengthAdjust=\"spacing\" textLength=\"40\" x=\"133\" y=\"116.1387\">«part»</text><text fill=\"#000000\" font-family=\"sans-serif\" font-size=\"14\" lengthAdjust=\"spacing\" textLength=\"107\" x=\"95.5\" y=\"131.9639\">vehicle: Vehicle</text><line style=\"stroke:#181818;stroke-width:0.5;\" x1=\"93.5\" x2=\"212.5\" y1=\"140.2656\" y2=\"140.2656\"/></g></a><!--MD5=[1c62de2aa5b76f0fb657ff8443a1a700]\n",
       "link E5 to E4--><g id=\"link_E5_E4\"><a href=\"psysml:51954fa3-afe5-4e6a-ba60-ca054eed15e8\" target=\"_top\" title=\"psysml:51954fa3-afe5-4e6a-ba60-ca054eed15e8\" xlink:actuate=\"onRequest\" xlink:href=\"psysml:51954fa3-afe5-4e6a-ba60-ca054eed15e8\" xlink:show=\"new\" xlink:title=\"psysml:51954fa3-afe5-4e6a-ba60-ca054eed15e8\" xlink:type=\"simple\"><path d=\"M66.9503,172.4094 C67.038,172.8272 67.126,173.2465 67.2143,173.6672 C67.3909,174.5085 67.5687,175.3555 67.7475,176.2075 C73.47,203.4725 80.29,235.97 85.06,258.69 \" fill=\"none\" id=\"E5-to-E4\" style=\"stroke:#181818;stroke-width:1.0;stroke-dasharray:7.0,7.0;\"/><polygon fill=\"#181818\" points=\"86.12,263.77,88.1858,254.1402,85.0928,258.8766,80.3564,255.7837,86.12,263.77\" style=\"stroke:#181818;stroke-width:1.0;\"/><text fill=\"#000000\" font-family=\"sans-serif\" font-size=\"13\" lengthAdjust=\"spacing\" textLength=\"58\" x=\"76\" y=\"209.0669\">«import»</text></a></g><!--MD5=[f667431f98296947986a1a7595a31603]\n",
       "link E6 to E4--><g id=\"link_E6_E4\"><a href=\"psysml:bdaa5b20-7fbf-4739-8cf5-0e25c1337b74\" target=\"_top\" title=\"psysml:bdaa5b20-7fbf-4739-8cf5-0e25c1337b74\" xlink:actuate=\"onRequest\" xlink:href=\"psysml:bdaa5b20-7fbf-4739-8cf5-0e25c1337b74\" xlink:show=\"new\" xlink:title=\"psysml:bdaa5b20-7fbf-4739-8cf5-0e25c1337b74\" xlink:type=\"simple\"><path d=\"M153.08,148.14 C152.45,166.32 150,191.99 142,213 C137.39,225.1 130.41,237.14 123.08,247.87 \" fill=\"none\" id=\"E6-to-E4\" style=\"stroke:#181818;stroke-width:1.0;\"/><polygon fill=\"#FFFFFF\" points=\"111.17,264,116.8313,244.5591,128.091,252.8789,111.17,264\" style=\"stroke:#181818;stroke-width:1.0;\"/><ellipse cx=\"121.8272\" cy=\"241.1633\" fill=\"#181818\" rx=\"2\" ry=\"2\" style=\"stroke:#181818;stroke-width:1.0;\"/><ellipse cx=\"129.8698\" cy=\"247.106\" fill=\"#181818\" rx=\"2\" ry=\"2\" style=\"stroke:#181818;stroke-width:1.0;\"/></a></g><!--MD5=[0666ed422969ca9c28245420912daa74]\n",
       "@startuml\r\n",
       "skin sysmlbw\r\n",
       "skinparam monochrome true\r\n",
       "skinparam wrapWidth 300\r\n",
       "hide circle\r\n",
       "top to bottom direction\r\n",
       "\r\n",
       "package \"AliasImport\" as E1  [[psysml:ea09c962-e470-4bd3-bf79-0fd6d16116e6 ]]  {\r\n",
       "package \"Definitions\" as E2  [[psysml:4e11052e-d911-402f-9b8e-d22451a94e61 ]]  {\r\n",
       "comp def \"Vehicle\" as E3  <<(T,blue) part  def>> [[psysml:fbf2953e-726b-446c-805b-ce056d089132 ]] {\r\n",
       "}\r\n",
       "comp def \"Vehicle\" as E4  <<(T,blue) part  def>> [[psysml:fbf2953e-726b-446c-805b-ce056d089132 ]] {\r\n",
       "}\r\n",
       "}\r\n",
       "package \"Usages\" as E5  [[psysml:665ec1bc-7429-419a-921f-0e5bfb2e86ee ]]  {\r\n",
       "comp usage \"vehicle: Vehicle  \" as E6  <<(T,blue) part>> [[psysml:1df993ae-180d-40db-acc7-c592d2ed44d7 ]] {\r\n",
       "}\r\n",
       "}\r\n",
       "}\r\n",
       "E5 ..> E4 [[psysml:51954fa3-afe5-4e6a-ba60-ca054eed15e8 ]] : <<import>>\r\n",
       "E6 - -:|> E4 [[psysml:bdaa5b20-7fbf-4739-8cf5-0e25c1337b74 ]] \r\n",
       "@enduml\r\n",
       "\n",
       "PlantUML version 1.2022.7(Mon Aug 22 17:01:30 UTC 2022)\n",
       "(EPL source distribution)\n",
       "Java Runtime: OpenJDK Runtime Environment\n",
       "JVM: OpenJDK 64-Bit Server VM\n",
       "Default Encoding: UTF-8\n",
       "Language: en\n",
       "Country: null\n",
       "--></g></svg>"
      ]
     },
     "execution_count": 50,
     "metadata": {},
     "output_type": "execute_result"
    }
   ],
   "source": [
    "%viz --style=\"TB\" --view=\"MIXED\" \"AliasImport\""
   ]
  },
  {
   "cell_type": "code",
   "execution_count": 51,
   "id": "9347fe22",
   "metadata": {
    "execution": {
     "iopub.execute_input": "2024-12-16T03:26:48.271959Z",
     "iopub.status.busy": "2024-12-16T03:26:48.271716Z",
     "iopub.status.idle": "2024-12-16T03:26:48.288921Z",
     "shell.execute_reply": "2024-12-16T03:26:48.287932Z"
    }
   },
   "outputs": [
    {
     "data": {
      "image/svg+xml": [
       "<?xml version=\"1.0\" encoding=\"UTF-8\" standalone=\"no\"?><svg xmlns=\"http://www.w3.org/2000/svg\" xmlns:xlink=\"http://www.w3.org/1999/xlink\" contentStyleType=\"text/css\" height=\"334px\" preserveAspectRatio=\"none\" style=\"width:297px;height:334px;background:#FFFFFF;\" version=\"1.1\" viewBox=\"0 0 297 334\" width=\"297px\" zoomAndPan=\"magnify\"><defs/><g><!--MD5=[fbc87193dbaf4d95561dea2c320d4a47]\n",
       "cluster E1--><g id=\"cluster_E1\"><a href=\"psysml:ea09c962-e470-4bd3-bf79-0fd6d16116e6\" target=\"_top\" title=\"psysml:ea09c962-e470-4bd3-bf79-0fd6d16116e6\" xlink:actuate=\"onRequest\" xlink:href=\"psysml:ea09c962-e470-4bd3-bf79-0fd6d16116e6\" xlink:show=\"new\" xlink:title=\"psysml:ea09c962-e470-4bd3-bf79-0fd6d16116e6\" xlink:type=\"simple\"><polygon fill=\"none\" points=\"25,6,110.8125,6,117.8125,28.2969,280,28.2969,280,327,25,327,25,6\" style=\"stroke:#000000;stroke-width:1.5;\"/><line style=\"stroke:#000000;stroke-width:1.5;\" x1=\"25\" x2=\"117.8125\" y1=\"28.2969\" y2=\"28.2969\"/><text fill=\"#000000\" font-family=\"sans-serif\" font-size=\"14\" font-weight=\"bold\" lengthAdjust=\"spacing\" textLength=\"79.8125\" x=\"29\" y=\"20.9951\">AliasImport</text></a></g><!--MD5=[e4f7fae6ed58524ba242bb0b0d3be6b7]\n",
       "cluster E2--><g id=\"cluster_E2\"><a href=\"psysml:4e11052e-d911-402f-9b8e-d22451a94e61\" target=\"_top\" title=\"psysml:4e11052e-d911-402f-9b8e-d22451a94e61\" xlink:actuate=\"onRequest\" xlink:href=\"psysml:4e11052e-d911-402f-9b8e-d22451a94e61\" xlink:show=\"new\" xlink:title=\"psysml:4e11052e-d911-402f-9b8e-d22451a94e61\" xlink:type=\"simple\"><polygon fill=\"none\" points=\"49,204,132.8125,204,139.8125,226.2969,256,226.2969,256,303,49,303,49,204\" style=\"stroke:#000000;stroke-width:1.5;\"/><line style=\"stroke:#000000;stroke-width:1.5;\" x1=\"49\" x2=\"139.8125\" y1=\"226.2969\" y2=\"226.2969\"/><text fill=\"#000000\" font-family=\"sans-serif\" font-size=\"14\" font-weight=\"bold\" lengthAdjust=\"spacing\" textLength=\"77.8125\" x=\"53\" y=\"218.9951\">Definitions</text></a></g><!--MD5=[de5ec2e2e8f62f467e546659f5068c88]\n",
       "cluster E5--><g id=\"cluster_E5\"><a href=\"psysml:665ec1bc-7429-419a-921f-0e5bfb2e86ee\" target=\"_top\" title=\"psysml:665ec1bc-7429-419a-921f-0e5bfb2e86ee\" xlink:actuate=\"onRequest\" xlink:href=\"psysml:665ec1bc-7429-419a-921f-0e5bfb2e86ee\" xlink:show=\"new\" xlink:title=\"psysml:665ec1bc-7429-419a-921f-0e5bfb2e86ee\" xlink:type=\"simple\"><polygon fill=\"none\" points=\"58,57,118.625,57,125.625,79.2969,247,79.2969,247,172,58,172,58,57\" style=\"stroke:#000000;stroke-width:1.5;\"/><line style=\"stroke:#000000;stroke-width:1.5;\" x1=\"58\" x2=\"125.625\" y1=\"79.2969\" y2=\"79.2969\"/><text fill=\"#000000\" font-family=\"sans-serif\" font-size=\"14\" font-weight=\"bold\" lengthAdjust=\"spacing\" textLength=\"54.625\" x=\"62\" y=\"71.9951\">Usages</text></a></g><!--MD5=[09b614a08d8cba4a07c9adeb5e0fee81]\n",
       "class E3--><a href=\"psysml:fbf2953e-726b-446c-805b-ce056d089132\" target=\"_top\" title=\"psysml:fbf2953e-726b-446c-805b-ce056d089132\" xlink:actuate=\"onRequest\" xlink:href=\"psysml:fbf2953e-726b-446c-805b-ce056d089132\" xlink:show=\"new\" xlink:title=\"psysml:fbf2953e-726b-446c-805b-ce056d089132\" xlink:type=\"simple\"><g id=\"elem_E3\"><rect fill=\"#FFFFFF\" height=\"48.2656\" id=\"E3\" style=\"stroke:#181818;stroke-width:0.5;\" width=\"70\" x=\"170\" y=\"239\"/><text fill=\"#000000\" font-family=\"sans-serif\" font-size=\"12\" font-style=\"italic\" lengthAdjust=\"spacing\" textLength=\"68\" x=\"171\" y=\"255.1387\">«part  def»</text><text fill=\"#000000\" font-family=\"sans-serif\" font-size=\"14\" lengthAdjust=\"spacing\" textLength=\"50\" x=\"180\" y=\"270.9639\">Vehicle</text><line style=\"stroke:#181818;stroke-width:0.5;\" x1=\"171\" x2=\"239\" y1=\"279.2656\" y2=\"279.2656\"/></g></a><!--MD5=[ebbe1d658d1005bcc118a6aa81145e00]\n",
       "class E4--><a href=\"psysml:fbf2953e-726b-446c-805b-ce056d089132\" target=\"_top\" title=\"psysml:fbf2953e-726b-446c-805b-ce056d089132\" xlink:actuate=\"onRequest\" xlink:href=\"psysml:fbf2953e-726b-446c-805b-ce056d089132\" xlink:show=\"new\" xlink:title=\"psysml:fbf2953e-726b-446c-805b-ce056d089132\" xlink:type=\"simple\"><g id=\"elem_E4\"><rect fill=\"#FFFFFF\" height=\"48.2656\" id=\"E4\" style=\"stroke:#181818;stroke-width:0.5;\" width=\"70\" x=\"65\" y=\"239\"/><text fill=\"#000000\" font-family=\"sans-serif\" font-size=\"12\" font-style=\"italic\" lengthAdjust=\"spacing\" textLength=\"68\" x=\"66\" y=\"255.1387\">«part  def»</text><text fill=\"#000000\" font-family=\"sans-serif\" font-size=\"14\" lengthAdjust=\"spacing\" textLength=\"50\" x=\"75\" y=\"270.9639\">Vehicle</text><line style=\"stroke:#181818;stroke-width:0.5;\" x1=\"66\" x2=\"134\" y1=\"279.2656\" y2=\"279.2656\"/></g></a><!--MD5=[60a26617385b1d2d0262a64233df1f8d]\n",
       "class E6--><a href=\"psysml:1df993ae-180d-40db-acc7-c592d2ed44d7\" target=\"_top\" title=\"psysml:1df993ae-180d-40db-acc7-c592d2ed44d7\" xlink:actuate=\"onRequest\" xlink:href=\"psysml:1df993ae-180d-40db-acc7-c592d2ed44d7\" xlink:show=\"new\" xlink:title=\"psysml:1df993ae-180d-40db-acc7-c592d2ed44d7\" xlink:type=\"simple\"><g id=\"elem_E6\"><rect fill=\"#FFFFFF\" height=\"48.2656\" id=\"E6\" rx=\"10\" ry=\"10\" style=\"stroke:#181818;stroke-width:0.5;\" width=\"121\" x=\"101.5\" y=\"100\"/><text fill=\"#000000\" font-family=\"sans-serif\" font-size=\"12\" font-style=\"italic\" lengthAdjust=\"spacing\" textLength=\"40\" x=\"142\" y=\"116.1387\">«part»</text><text fill=\"#000000\" font-family=\"sans-serif\" font-size=\"14\" lengthAdjust=\"spacing\" textLength=\"107\" x=\"104.5\" y=\"131.9639\">vehicle: Vehicle</text><line style=\"stroke:#181818;stroke-width:0.5;\" x1=\"102.5\" x2=\"221.5\" y1=\"140.2656\" y2=\"140.2656\"/></g></a><!--MD5=[1c62de2aa5b76f0fb657ff8443a1a700]\n",
       "link E5 to E4--><g id=\"link_E5_E4\"><a href=\"psysml:51954fa3-afe5-4e6a-ba60-ca054eed15e8\" target=\"_top\" title=\"psysml:51954fa3-afe5-4e6a-ba60-ca054eed15e8\" xlink:actuate=\"onRequest\" xlink:href=\"psysml:51954fa3-afe5-4e6a-ba60-ca054eed15e8\" xlink:show=\"new\" xlink:title=\"psysml:51954fa3-afe5-4e6a-ba60-ca054eed15e8\" xlink:type=\"simple\"><path d=\"M66,172.1141 C66,172.3264 66,172.5389 66,172.7515 C66,173.1766 66,173.6023 66,174.0284 C66,175.7328 66,177.4439 66,179.155 C66,206.5325 66,233.91 66,233.91 \" fill=\"none\" id=\"E5-to-E4\" style=\"stroke:#181818;stroke-width:1.0;stroke-dasharray:7.0,7.0;\"/><polygon fill=\"#181818\" points=\"66,238.91,70,229.91,66,233.91,62,229.91,66,238.91\" style=\"stroke:#181818;stroke-width:1.0;\"/><text fill=\"#000000\" font-family=\"sans-serif\" font-size=\"13\" lengthAdjust=\"spacing\" textLength=\"58\" x=\"7\" y=\"175.2169\">«import»</text></a></g><!--MD5=[f667431f98296947986a1a7595a31603]\n",
       "link E6 to E4--><g id=\"link_E6_E4\"><a href=\"psysml:bdaa5b20-7fbf-4739-8cf5-0e25c1337b74\" target=\"_top\" title=\"psysml:bdaa5b20-7fbf-4739-8cf5-0e25c1337b74\" xlink:actuate=\"onRequest\" xlink:href=\"psysml:bdaa5b20-7fbf-4739-8cf5-0e25c1337b74\" xlink:show=\"new\" xlink:title=\"psysml:bdaa5b20-7fbf-4739-8cf5-0e25c1337b74\" xlink:type=\"simple\"><path d=\"M118.25,148.21 C118.25,148.21 118.25,218.6 118.25,218.6 \" fill=\"none\" id=\"E6-to-E4\" style=\"stroke:#181818;stroke-width:1.0;\"/><polygon fill=\"#FFFFFF\" points=\"118.25,238.6,111.25,219.6,125.25,219.6,118.25,238.6\" style=\"stroke:#181818;stroke-width:1.0;\"/><ellipse cx=\"113.25\" cy=\"213.9\" fill=\"#181818\" rx=\"2\" ry=\"2\" style=\"stroke:#181818;stroke-width:1.0;\"/><ellipse cx=\"123.25\" cy=\"213.9\" fill=\"#181818\" rx=\"2\" ry=\"2\" style=\"stroke:#181818;stroke-width:1.0;\"/></a></g><!--MD5=[9309e6a03bea203bd24676ea20bb4177]\n",
       "@startuml\r\n",
       "skin sysmlbw\r\n",
       "skinparam monochrome true\r\n",
       "skinparam wrapWidth 300\r\n",
       "hide circle\r\n",
       "skinparam linetype ortho\r\n",
       "\r\n",
       "package \"AliasImport\" as E1  [[psysml:ea09c962-e470-4bd3-bf79-0fd6d16116e6 ]]  {\r\n",
       "package \"Definitions\" as E2  [[psysml:4e11052e-d911-402f-9b8e-d22451a94e61 ]]  {\r\n",
       "comp def \"Vehicle\" as E3  <<(T,blue) part  def>> [[psysml:fbf2953e-726b-446c-805b-ce056d089132 ]] {\r\n",
       "}\r\n",
       "comp def \"Vehicle\" as E4  <<(T,blue) part  def>> [[psysml:fbf2953e-726b-446c-805b-ce056d089132 ]] {\r\n",
       "}\r\n",
       "}\r\n",
       "package \"Usages\" as E5  [[psysml:665ec1bc-7429-419a-921f-0e5bfb2e86ee ]]  {\r\n",
       "comp usage \"vehicle: Vehicle  \" as E6  <<(T,blue) part>> [[psysml:1df993ae-180d-40db-acc7-c592d2ed44d7 ]] {\r\n",
       "}\r\n",
       "}\r\n",
       "}\r\n",
       "E5 ..> E4 [[psysml:51954fa3-afe5-4e6a-ba60-ca054eed15e8 ]] : <<import>>\r\n",
       "E6 - -:|> E4 [[psysml:bdaa5b20-7fbf-4739-8cf5-0e25c1337b74 ]] \r\n",
       "@enduml\r\n",
       "\n",
       "PlantUML version 1.2022.7(Mon Aug 22 17:01:30 UTC 2022)\n",
       "(EPL source distribution)\n",
       "Java Runtime: OpenJDK Runtime Environment\n",
       "JVM: OpenJDK 64-Bit Server VM\n",
       "Default Encoding: UTF-8\n",
       "Language: en\n",
       "Country: null\n",
       "--></g></svg>"
      ]
     },
     "execution_count": 51,
     "metadata": {},
     "output_type": "execute_result"
    }
   ],
   "source": [
    "%viz --style=\"ORTHOLINE\" --view=\"Default\" \"AliasImport\""
   ]
  },
  {
   "cell_type": "code",
   "execution_count": 52,
   "id": "ac2129e5",
   "metadata": {
    "execution": {
     "iopub.execute_input": "2024-12-16T03:26:48.338789Z",
     "iopub.status.busy": "2024-12-16T03:26:48.338433Z",
     "iopub.status.idle": "2024-12-16T03:26:48.354005Z",
     "shell.execute_reply": "2024-12-16T03:26:48.353191Z"
    }
   },
   "outputs": [
    {
     "data": {
      "image/svg+xml": [
       "<?xml version=\"1.0\" encoding=\"UTF-8\" standalone=\"no\"?><svg xmlns=\"http://www.w3.org/2000/svg\" xmlns:xlink=\"http://www.w3.org/1999/xlink\" contentStyleType=\"text/css\" height=\"334px\" preserveAspectRatio=\"none\" style=\"width:297px;height:334px;background:#FFFFFF;\" version=\"1.1\" viewBox=\"0 0 297 334\" width=\"297px\" zoomAndPan=\"magnify\"><defs/><g><!--MD5=[fbc87193dbaf4d95561dea2c320d4a47]\n",
       "cluster E1--><g id=\"cluster_E1\"><a href=\"psysml:ea09c962-e470-4bd3-bf79-0fd6d16116e6\" target=\"_top\" title=\"psysml:ea09c962-e470-4bd3-bf79-0fd6d16116e6\" xlink:actuate=\"onRequest\" xlink:href=\"psysml:ea09c962-e470-4bd3-bf79-0fd6d16116e6\" xlink:show=\"new\" xlink:title=\"psysml:ea09c962-e470-4bd3-bf79-0fd6d16116e6\" xlink:type=\"simple\"><polygon fill=\"none\" points=\"25,6,110.8125,6,117.8125,28.2969,280,28.2969,280,327,25,327,25,6\" style=\"stroke:#000000;stroke-width:1.5;\"/><line style=\"stroke:#000000;stroke-width:1.5;\" x1=\"25\" x2=\"117.8125\" y1=\"28.2969\" y2=\"28.2969\"/><text fill=\"#000000\" font-family=\"sans-serif\" font-size=\"14\" font-weight=\"bold\" lengthAdjust=\"spacing\" textLength=\"79.8125\" x=\"29\" y=\"20.9951\">AliasImport</text></a></g><!--MD5=[e4f7fae6ed58524ba242bb0b0d3be6b7]\n",
       "cluster E2--><g id=\"cluster_E2\"><a href=\"psysml:4e11052e-d911-402f-9b8e-d22451a94e61\" target=\"_top\" title=\"psysml:4e11052e-d911-402f-9b8e-d22451a94e61\" xlink:actuate=\"onRequest\" xlink:href=\"psysml:4e11052e-d911-402f-9b8e-d22451a94e61\" xlink:show=\"new\" xlink:title=\"psysml:4e11052e-d911-402f-9b8e-d22451a94e61\" xlink:type=\"simple\"><polygon fill=\"none\" points=\"49,204,132.8125,204,139.8125,226.2969,256,226.2969,256,303,49,303,49,204\" style=\"stroke:#000000;stroke-width:1.5;\"/><line style=\"stroke:#000000;stroke-width:1.5;\" x1=\"49\" x2=\"139.8125\" y1=\"226.2969\" y2=\"226.2969\"/><text fill=\"#000000\" font-family=\"sans-serif\" font-size=\"14\" font-weight=\"bold\" lengthAdjust=\"spacing\" textLength=\"77.8125\" x=\"53\" y=\"218.9951\">Definitions</text></a></g><!--MD5=[de5ec2e2e8f62f467e546659f5068c88]\n",
       "cluster E5--><g id=\"cluster_E5\"><a href=\"psysml:665ec1bc-7429-419a-921f-0e5bfb2e86ee\" target=\"_top\" title=\"psysml:665ec1bc-7429-419a-921f-0e5bfb2e86ee\" xlink:actuate=\"onRequest\" xlink:href=\"psysml:665ec1bc-7429-419a-921f-0e5bfb2e86ee\" xlink:show=\"new\" xlink:title=\"psysml:665ec1bc-7429-419a-921f-0e5bfb2e86ee\" xlink:type=\"simple\"><polygon fill=\"none\" points=\"58,57,118.625,57,125.625,79.2969,247,79.2969,247,172,58,172,58,57\" style=\"stroke:#000000;stroke-width:1.5;\"/><line style=\"stroke:#000000;stroke-width:1.5;\" x1=\"58\" x2=\"125.625\" y1=\"79.2969\" y2=\"79.2969\"/><text fill=\"#000000\" font-family=\"sans-serif\" font-size=\"14\" font-weight=\"bold\" lengthAdjust=\"spacing\" textLength=\"54.625\" x=\"62\" y=\"71.9951\">Usages</text></a></g><!--MD5=[09b614a08d8cba4a07c9adeb5e0fee81]\n",
       "class E3--><a href=\"psysml:fbf2953e-726b-446c-805b-ce056d089132\" target=\"_top\" title=\"psysml:fbf2953e-726b-446c-805b-ce056d089132\" xlink:actuate=\"onRequest\" xlink:href=\"psysml:fbf2953e-726b-446c-805b-ce056d089132\" xlink:show=\"new\" xlink:title=\"psysml:fbf2953e-726b-446c-805b-ce056d089132\" xlink:type=\"simple\"><g id=\"elem_E3\"><rect fill=\"#FFFFFF\" height=\"48.2656\" id=\"E3\" style=\"stroke:#181818;stroke-width:0.5;\" width=\"70\" x=\"170\" y=\"239\"/><text fill=\"#000000\" font-family=\"sans-serif\" font-size=\"12\" font-style=\"italic\" lengthAdjust=\"spacing\" textLength=\"68\" x=\"171\" y=\"255.1387\">«part  def»</text><text fill=\"#000000\" font-family=\"sans-serif\" font-size=\"14\" lengthAdjust=\"spacing\" textLength=\"50\" x=\"180\" y=\"270.9639\">Vehicle</text><line style=\"stroke:#181818;stroke-width:0.5;\" x1=\"171\" x2=\"239\" y1=\"279.2656\" y2=\"279.2656\"/></g></a><!--MD5=[ebbe1d658d1005bcc118a6aa81145e00]\n",
       "class E4--><a href=\"psysml:fbf2953e-726b-446c-805b-ce056d089132\" target=\"_top\" title=\"psysml:fbf2953e-726b-446c-805b-ce056d089132\" xlink:actuate=\"onRequest\" xlink:href=\"psysml:fbf2953e-726b-446c-805b-ce056d089132\" xlink:show=\"new\" xlink:title=\"psysml:fbf2953e-726b-446c-805b-ce056d089132\" xlink:type=\"simple\"><g id=\"elem_E4\"><rect fill=\"#FFFFFF\" height=\"48.2656\" id=\"E4\" style=\"stroke:#181818;stroke-width:0.5;\" width=\"70\" x=\"65\" y=\"239\"/><text fill=\"#000000\" font-family=\"sans-serif\" font-size=\"12\" font-style=\"italic\" lengthAdjust=\"spacing\" textLength=\"68\" x=\"66\" y=\"255.1387\">«part  def»</text><text fill=\"#000000\" font-family=\"sans-serif\" font-size=\"14\" lengthAdjust=\"spacing\" textLength=\"50\" x=\"75\" y=\"270.9639\">Vehicle</text><line style=\"stroke:#181818;stroke-width:0.5;\" x1=\"66\" x2=\"134\" y1=\"279.2656\" y2=\"279.2656\"/></g></a><!--MD5=[60a26617385b1d2d0262a64233df1f8d]\n",
       "class E6--><a href=\"psysml:1df993ae-180d-40db-acc7-c592d2ed44d7\" target=\"_top\" title=\"psysml:1df993ae-180d-40db-acc7-c592d2ed44d7\" xlink:actuate=\"onRequest\" xlink:href=\"psysml:1df993ae-180d-40db-acc7-c592d2ed44d7\" xlink:show=\"new\" xlink:title=\"psysml:1df993ae-180d-40db-acc7-c592d2ed44d7\" xlink:type=\"simple\"><g id=\"elem_E6\"><rect fill=\"#FFFFFF\" height=\"48.2656\" id=\"E6\" rx=\"10\" ry=\"10\" style=\"stroke:#181818;stroke-width:0.5;\" width=\"121\" x=\"101.5\" y=\"100\"/><text fill=\"#000000\" font-family=\"sans-serif\" font-size=\"12\" font-style=\"italic\" lengthAdjust=\"spacing\" textLength=\"40\" x=\"142\" y=\"116.1387\">«part»</text><text fill=\"#000000\" font-family=\"sans-serif\" font-size=\"14\" lengthAdjust=\"spacing\" textLength=\"107\" x=\"104.5\" y=\"131.9639\">vehicle: Vehicle</text><line style=\"stroke:#181818;stroke-width:0.5;\" x1=\"102.5\" x2=\"221.5\" y1=\"140.2656\" y2=\"140.2656\"/></g></a><!--MD5=[1c62de2aa5b76f0fb657ff8443a1a700]\n",
       "link E5 to E4--><g id=\"link_E5_E4\"><a href=\"psysml:51954fa3-afe5-4e6a-ba60-ca054eed15e8\" target=\"_top\" title=\"psysml:51954fa3-afe5-4e6a-ba60-ca054eed15e8\" xlink:actuate=\"onRequest\" xlink:href=\"psysml:51954fa3-afe5-4e6a-ba60-ca054eed15e8\" xlink:show=\"new\" xlink:title=\"psysml:51954fa3-afe5-4e6a-ba60-ca054eed15e8\" xlink:type=\"simple\"><path d=\"M66,172.1141 C66,172.3264 66,172.5389 66,172.7515 C66,173.1766 66,173.6023 66,174.0284 C66,175.7328 66,177.4439 66,179.155 C66,206.5325 66,233.91 66,233.91 \" fill=\"none\" id=\"E5-to-E4\" style=\"stroke:#181818;stroke-width:1.0;stroke-dasharray:7.0,7.0;\"/><polygon fill=\"#181818\" points=\"66,238.91,70,229.91,66,233.91,62,229.91,66,238.91\" style=\"stroke:#181818;stroke-width:1.0;\"/><text fill=\"#000000\" font-family=\"sans-serif\" font-size=\"13\" lengthAdjust=\"spacing\" textLength=\"58\" x=\"7\" y=\"175.2169\">«import»</text></a></g><!--MD5=[f667431f98296947986a1a7595a31603]\n",
       "link E6 to E4--><g id=\"link_E6_E4\"><a href=\"psysml:bdaa5b20-7fbf-4739-8cf5-0e25c1337b74\" target=\"_top\" title=\"psysml:bdaa5b20-7fbf-4739-8cf5-0e25c1337b74\" xlink:actuate=\"onRequest\" xlink:href=\"psysml:bdaa5b20-7fbf-4739-8cf5-0e25c1337b74\" xlink:show=\"new\" xlink:title=\"psysml:bdaa5b20-7fbf-4739-8cf5-0e25c1337b74\" xlink:type=\"simple\"><path d=\"M118.25,148.21 C118.25,148.21 118.25,218.6 118.25,218.6 \" fill=\"none\" id=\"E6-to-E4\" style=\"stroke:#181818;stroke-width:1.0;\"/><polygon fill=\"#FFFFFF\" points=\"118.25,238.6,111.25,219.6,125.25,219.6,118.25,238.6\" style=\"stroke:#181818;stroke-width:1.0;\"/><ellipse cx=\"113.25\" cy=\"213.9\" fill=\"#181818\" rx=\"2\" ry=\"2\" style=\"stroke:#181818;stroke-width:1.0;\"/><ellipse cx=\"123.25\" cy=\"213.9\" fill=\"#181818\" rx=\"2\" ry=\"2\" style=\"stroke:#181818;stroke-width:1.0;\"/></a></g><!--MD5=[9309e6a03bea203bd24676ea20bb4177]\n",
       "@startuml\r\n",
       "skin sysmlbw\r\n",
       "skinparam monochrome true\r\n",
       "skinparam wrapWidth 300\r\n",
       "hide circle\r\n",
       "skinparam linetype ortho\r\n",
       "\r\n",
       "package \"AliasImport\" as E1  [[psysml:ea09c962-e470-4bd3-bf79-0fd6d16116e6 ]]  {\r\n",
       "package \"Definitions\" as E2  [[psysml:4e11052e-d911-402f-9b8e-d22451a94e61 ]]  {\r\n",
       "comp def \"Vehicle\" as E3  <<(T,blue) part  def>> [[psysml:fbf2953e-726b-446c-805b-ce056d089132 ]] {\r\n",
       "}\r\n",
       "comp def \"Vehicle\" as E4  <<(T,blue) part  def>> [[psysml:fbf2953e-726b-446c-805b-ce056d089132 ]] {\r\n",
       "}\r\n",
       "}\r\n",
       "package \"Usages\" as E5  [[psysml:665ec1bc-7429-419a-921f-0e5bfb2e86ee ]]  {\r\n",
       "comp usage \"vehicle: Vehicle  \" as E6  <<(T,blue) part>> [[psysml:1df993ae-180d-40db-acc7-c592d2ed44d7 ]] {\r\n",
       "}\r\n",
       "}\r\n",
       "}\r\n",
       "E5 ..> E4 [[psysml:51954fa3-afe5-4e6a-ba60-ca054eed15e8 ]] : <<import>>\r\n",
       "E6 - -:|> E4 [[psysml:bdaa5b20-7fbf-4739-8cf5-0e25c1337b74 ]] \r\n",
       "@enduml\r\n",
       "\n",
       "PlantUML version 1.2022.7(Mon Aug 22 17:01:30 UTC 2022)\n",
       "(EPL source distribution)\n",
       "Java Runtime: OpenJDK Runtime Environment\n",
       "JVM: OpenJDK 64-Bit Server VM\n",
       "Default Encoding: UTF-8\n",
       "Language: en\n",
       "Country: null\n",
       "--></g></svg>"
      ]
     },
     "execution_count": 52,
     "metadata": {},
     "output_type": "execute_result"
    }
   ],
   "source": [
    "%viz --style=\"ORTHOLINE\" --view=\"Tree\" \"AliasImport\""
   ]
  },
  {
   "cell_type": "code",
   "execution_count": 53,
   "id": "3a62cfc3",
   "metadata": {
    "execution": {
     "iopub.execute_input": "2024-12-16T03:26:48.404969Z",
     "iopub.status.busy": "2024-12-16T03:26:48.404720Z",
     "iopub.status.idle": "2024-12-16T03:26:48.409338Z",
     "shell.execute_reply": "2024-12-16T03:26:48.409147Z"
    }
   },
   "outputs": [
    {
     "data": {
      "image/svg+xml": [
       "<?xml version=\"1.0\" encoding=\"UTF-8\" standalone=\"no\"?><svg xmlns=\"http://www.w3.org/2000/svg\" xmlns:xlink=\"http://www.w3.org/1999/xlink\" contentStyleType=\"text/css\" height=\"10px\" preserveAspectRatio=\"none\" style=\"width:10px;height:10px;background:#FFFFFF;\" version=\"1.1\" viewBox=\"0 0 10 10\" width=\"10px\" zoomAndPan=\"magnify\"><defs/><g><!--MD5=[db5337d1ba6fd3a35e07e04988169323]\n",
       "@startuml\r\n",
       "skin sysmlbw\r\n",
       "skinparam monochrome true\r\n",
       "skinparam wrapWidth 300\r\n",
       "hide circle\r\n",
       "skinparam linetype ortho\r\n",
       "\r\n",
       "@enduml\r\n",
       "\n",
       "PlantUML version 1.2022.7(Mon Aug 22 17:01:30 UTC 2022)\n",
       "(EPL source distribution)\n",
       "Java Runtime: OpenJDK Runtime Environment\n",
       "JVM: OpenJDK 64-Bit Server VM\n",
       "Default Encoding: UTF-8\n",
       "Language: en\n",
       "Country: null\n",
       "--></g></svg>"
      ]
     },
     "execution_count": 53,
     "metadata": {},
     "output_type": "execute_result"
    }
   ],
   "source": [
    "%viz --style=\"ORTHOLINE\" --view=\"State\" \"AliasImport\""
   ]
  },
  {
   "cell_type": "code",
   "execution_count": 54,
   "id": "09d094e4",
   "metadata": {
    "execution": {
     "iopub.execute_input": "2024-12-16T03:26:48.463773Z",
     "iopub.status.busy": "2024-12-16T03:26:48.463510Z",
     "iopub.status.idle": "2024-12-16T03:26:48.477586Z",
     "shell.execute_reply": "2024-12-16T03:26:48.476726Z"
    }
   },
   "outputs": [
    {
     "data": {
      "image/svg+xml": [
       "<?xml version=\"1.0\" encoding=\"UTF-8\" standalone=\"no\"?><svg xmlns=\"http://www.w3.org/2000/svg\" xmlns:xlink=\"http://www.w3.org/1999/xlink\" contentStyleType=\"text/css\" height=\"323px\" preserveAspectRatio=\"none\" style=\"width:300px;height:323px;background:#FFFFFF;\" version=\"1.1\" viewBox=\"0 0 300 323\" width=\"300px\" zoomAndPan=\"magnify\"><defs/><g><!--MD5=[fbc87193dbaf4d95561dea2c320d4a47]\n",
       "cluster E1--><g id=\"cluster_E1\"><a href=\"psysml:ea09c962-e470-4bd3-bf79-0fd6d16116e6\" target=\"_top\" title=\"psysml:ea09c962-e470-4bd3-bf79-0fd6d16116e6\" xlink:actuate=\"onRequest\" xlink:href=\"psysml:ea09c962-e470-4bd3-bf79-0fd6d16116e6\" xlink:show=\"new\" xlink:title=\"psysml:ea09c962-e470-4bd3-bf79-0fd6d16116e6\" xlink:type=\"simple\"><polygon fill=\"none\" points=\"19,6,104.8125,6,111.8125,28.2969,283,28.2969,283,316,19,316,19,6\" style=\"stroke:#000000;stroke-width:1.5;\"/><line style=\"stroke:#000000;stroke-width:1.5;\" x1=\"19\" x2=\"111.8125\" y1=\"28.2969\" y2=\"28.2969\"/><text fill=\"#000000\" font-family=\"sans-serif\" font-size=\"14\" font-weight=\"bold\" lengthAdjust=\"spacing\" textLength=\"79.8125\" x=\"23\" y=\"20.9951\">AliasImport</text></a></g><!--MD5=[e4f7fae6ed58524ba242bb0b0d3be6b7]\n",
       "cluster E2--><g id=\"cluster_E2\"><a href=\"psysml:4e11052e-d911-402f-9b8e-d22451a94e61\" target=\"_top\" title=\"psysml:4e11052e-d911-402f-9b8e-d22451a94e61\" xlink:actuate=\"onRequest\" xlink:href=\"psysml:4e11052e-d911-402f-9b8e-d22451a94e61\" xlink:show=\"new\" xlink:title=\"psysml:4e11052e-d911-402f-9b8e-d22451a94e61\" xlink:type=\"simple\"><polygon fill=\"none\" points=\"43,196,126.8125,196,133.8125,218.2969,259,218.2969,259,292,43,292,43,196\" style=\"stroke:#000000;stroke-width:1.5;\"/><line style=\"stroke:#000000;stroke-width:1.5;\" x1=\"43\" x2=\"133.8125\" y1=\"218.2969\" y2=\"218.2969\"/><text fill=\"#000000\" font-family=\"sans-serif\" font-size=\"14\" font-weight=\"bold\" lengthAdjust=\"spacing\" textLength=\"77.8125\" x=\"47\" y=\"210.9951\">Definitions</text></a></g><!--MD5=[de5ec2e2e8f62f467e546659f5068c88]\n",
       "cluster E5--><g id=\"cluster_E5\"><a href=\"psysml:665ec1bc-7429-419a-921f-0e5bfb2e86ee\" target=\"_top\" title=\"psysml:665ec1bc-7429-419a-921f-0e5bfb2e86ee\" xlink:actuate=\"onRequest\" xlink:href=\"psysml:665ec1bc-7429-419a-921f-0e5bfb2e86ee\" xlink:show=\"new\" xlink:title=\"psysml:665ec1bc-7429-419a-921f-0e5bfb2e86ee\" xlink:type=\"simple\"><polygon fill=\"none\" points=\"58,57,118.625,57,125.625,79.2969,243,79.2969,243,164,58,164,58,57\" style=\"stroke:#000000;stroke-width:1.5;\"/><line style=\"stroke:#000000;stroke-width:1.5;\" x1=\"58\" x2=\"125.625\" y1=\"79.2969\" y2=\"79.2969\"/><text fill=\"#000000\" font-family=\"sans-serif\" font-size=\"14\" font-weight=\"bold\" lengthAdjust=\"spacing\" textLength=\"54.625\" x=\"62\" y=\"71.9951\">Usages</text></a></g><g><a href=\"psysml:fbf2953e-726b-446c-805b-ce056d089132\" target=\"_top\" title=\"psysml:fbf2953e-726b-446c-805b-ce056d089132\" xlink:actuate=\"onRequest\" xlink:href=\"psysml:fbf2953e-726b-446c-805b-ce056d089132\" xlink:show=\"new\" xlink:title=\"psysml:fbf2953e-726b-446c-805b-ce056d089132\" xlink:type=\"simple\"><rect fill=\"#FFFFFF\" height=\"45.2656\" id=\"E3\" style=\"stroke:#383838;stroke-width:1.5;\" width=\"75\" x=\"168.5\" y=\"231\"/><text fill=\"#000000\" font-family=\"sans-serif\" font-size=\"12\" font-style=\"italic\" lengthAdjust=\"spacing\" textLength=\"68\" x=\"172\" y=\"247.1387\">«part  def»</text><text fill=\"#000000\" font-family=\"sans-serif\" font-size=\"14\" lengthAdjust=\"spacing\" textLength=\"50\" x=\"181\" y=\"262.9639\">Vehicle</text></a></g><g><a href=\"psysml:fbf2953e-726b-446c-805b-ce056d089132\" target=\"_top\" title=\"psysml:fbf2953e-726b-446c-805b-ce056d089132\" xlink:actuate=\"onRequest\" xlink:href=\"psysml:fbf2953e-726b-446c-805b-ce056d089132\" xlink:show=\"new\" xlink:title=\"psysml:fbf2953e-726b-446c-805b-ce056d089132\" xlink:type=\"simple\"><rect fill=\"#FFFFFF\" height=\"45.2656\" id=\"E4\" style=\"stroke:#383838;stroke-width:1.5;\" width=\"75\" x=\"58.5\" y=\"231\"/><text fill=\"#000000\" font-family=\"sans-serif\" font-size=\"12\" font-style=\"italic\" lengthAdjust=\"spacing\" textLength=\"68\" x=\"62\" y=\"247.1387\">«part  def»</text><text fill=\"#000000\" font-family=\"sans-serif\" font-size=\"14\" lengthAdjust=\"spacing\" textLength=\"50\" x=\"71\" y=\"262.9639\">Vehicle</text></a></g><g><a href=\"psysml:1df993ae-180d-40db-acc7-c592d2ed44d7\" target=\"_top\" title=\"psysml:1df993ae-180d-40db-acc7-c592d2ed44d7\" xlink:actuate=\"onRequest\" xlink:href=\"psysml:1df993ae-180d-40db-acc7-c592d2ed44d7\" xlink:show=\"new\" xlink:title=\"psysml:1df993ae-180d-40db-acc7-c592d2ed44d7\" xlink:type=\"simple\"><rect fill=\"#FFFFFF\" height=\"40\" id=\"E6\" rx=\"10\" ry=\"10\" style=\"stroke:#383838;stroke-width:1.5;\" width=\"118\" x=\"101\" y=\"100\"/><text fill=\"#000000\" font-family=\"sans-serif\" font-size=\"14\" lengthAdjust=\"spacing\" textLength=\"107\" x=\"106.5\" y=\"117.9951\">vehicle: Vehicle</text></a></g><!--MD5=[1c62de2aa5b76f0fb657ff8443a1a700]\n",
       "link E5 to E4--><g id=\"link_E5_E4\"><a href=\"psysml:51954fa3-afe5-4e6a-ba60-ca054eed15e8\" target=\"_top\" title=\"psysml:51954fa3-afe5-4e6a-ba60-ca054eed15e8\" xlink:actuate=\"onRequest\" xlink:href=\"psysml:51954fa3-afe5-4e6a-ba60-ca054eed15e8\" xlink:show=\"new\" xlink:title=\"psysml:51954fa3-afe5-4e6a-ba60-ca054eed15e8\" xlink:type=\"simple\"><path d=\"M66,164.5395 C66,164.9469 66,165.3551 66,165.7639 C66,166.5814 66,167.4013 66,168.2228 C66,169.8659 66,171.5155 66,173.165 C66,199.5575 66,225.95 66,225.95 \" fill=\"none\" id=\"E5-to-E4\" style=\"stroke:#181818;stroke-width:1.0;stroke-dasharray:7.0,7.0;\"/><polygon fill=\"#181818\" points=\"66,230.95,70,221.95,66,225.95,62,221.95,66,230.95\" style=\"stroke:#181818;stroke-width:1.0;\"/><text fill=\"#000000\" font-family=\"sans-serif\" font-size=\"13\" lengthAdjust=\"spacing\" textLength=\"58\" x=\"7\" y=\"169.2369\">«import»</text></a></g><!--MD5=[f667431f98296947986a1a7595a31603]\n",
       "link E6 to E4--><g id=\"link_E6_E4\"><a href=\"psysml:bdaa5b20-7fbf-4739-8cf5-0e25c1337b74\" target=\"_top\" title=\"psysml:bdaa5b20-7fbf-4739-8cf5-0e25c1337b74\" xlink:actuate=\"onRequest\" xlink:href=\"psysml:bdaa5b20-7fbf-4739-8cf5-0e25c1337b74\" xlink:show=\"new\" xlink:title=\"psysml:bdaa5b20-7fbf-4739-8cf5-0e25c1337b74\" xlink:type=\"simple\"><path d=\"M117.25,140.28 C117.25,140.28 117.25,210.79 117.25,210.79 \" fill=\"none\" id=\"E6-to-E4\" style=\"stroke:#181818;stroke-width:1.0;\"/><polygon fill=\"#FFFFFF\" points=\"117.25,230.79,110.25,211.79,124.25,211.79,117.25,230.79\" style=\"stroke:#181818;stroke-width:1.0;\"/><ellipse cx=\"112.25\" cy=\"206.09\" fill=\"#181818\" rx=\"2\" ry=\"2\" style=\"stroke:#181818;stroke-width:1.0;\"/><ellipse cx=\"122.25\" cy=\"206.09\" fill=\"#181818\" rx=\"2\" ry=\"2\" style=\"stroke:#181818;stroke-width:1.0;\"/></a></g><!--MD5=[4915eb3c5ebebc29723889d019f28784]\n",
       "@startuml\r\n",
       "skin sysmlbw\r\n",
       "skinparam monochrome true\r\n",
       "skinparam wrapWidth 300\r\n",
       "hide circle\r\n",
       "skinparam linetype ortho\r\n",
       "skinparam ranksep 10\r\n",
       "skinparam rectangle {\r\n",
       " backgroundColor<<block>> LightGreen\r\n",
       "}\r\n",
       "\r\n",
       "package \"AliasImport\" as E1  [[psysml:ea09c962-e470-4bd3-bf79-0fd6d16116e6 ]]  {\r\n",
       "package \"Definitions\" as E2  [[psysml:4e11052e-d911-402f-9b8e-d22451a94e61 ]]  {\r\n",
       "rec def \"Vehicle\" as E3  <<(T,blue) part  def>> [[psysml:fbf2953e-726b-446c-805b-ce056d089132 ]] {\r\n",
       "}\r\n",
       "rec def \"Vehicle\" as E4  <<(T,blue) part  def>> [[psysml:fbf2953e-726b-446c-805b-ce056d089132 ]] {\r\n",
       "}\r\n",
       "}\r\n",
       "package \"Usages\" as E5  [[psysml:665ec1bc-7429-419a-921f-0e5bfb2e86ee ]]  {\r\n",
       "rec usage \"vehicle: Vehicle\" as E6 [[psysml:1df993ae-180d-40db-acc7-c592d2ed44d7 ]] {\r\n",
       "}\r\n",
       "}\r\n",
       "}\r\n",
       "E5 ..> E4 [[psysml:51954fa3-afe5-4e6a-ba60-ca054eed15e8 ]] : <<import>>\r\n",
       "E6 - -:|> E4 [[psysml:bdaa5b20-7fbf-4739-8cf5-0e25c1337b74 ]] \r\n",
       "@enduml\r\n",
       "\n",
       "PlantUML version 1.2022.7(Mon Aug 22 17:01:30 UTC 2022)\n",
       "(EPL source distribution)\n",
       "Java Runtime: OpenJDK Runtime Environment\n",
       "JVM: OpenJDK 64-Bit Server VM\n",
       "Default Encoding: UTF-8\n",
       "Language: en\n",
       "Country: null\n",
       "--></g></svg>"
      ]
     },
     "execution_count": 54,
     "metadata": {},
     "output_type": "execute_result"
    }
   ],
   "source": [
    "%viz --style=\"ORTHOLINE\" --view=\"Interconnection\" \"AliasImport\""
   ]
  },
  {
   "cell_type": "code",
   "execution_count": 55,
   "id": "53375512",
   "metadata": {
    "execution": {
     "iopub.execute_input": "2024-12-16T03:26:48.532269Z",
     "iopub.status.busy": "2024-12-16T03:26:48.532042Z",
     "iopub.status.idle": "2024-12-16T03:26:48.536044Z",
     "shell.execute_reply": "2024-12-16T03:26:48.535870Z"
    }
   },
   "outputs": [
    {
     "data": {
      "image/svg+xml": [
       "<?xml version=\"1.0\" encoding=\"UTF-8\" standalone=\"no\"?><svg xmlns=\"http://www.w3.org/2000/svg\" xmlns:xlink=\"http://www.w3.org/1999/xlink\" contentStyleType=\"text/css\" height=\"10px\" preserveAspectRatio=\"none\" style=\"width:10px;height:10px;background:#FFFFFF;\" version=\"1.1\" viewBox=\"0 0 10 10\" width=\"10px\" zoomAndPan=\"magnify\"><defs/><g><!--MD5=[13654d10b9e2b79db36f00fd31e63fb2]\n",
       "@startuml\r\n",
       "skin sysmlbw\r\n",
       "skinparam monochrome true\r\n",
       "skinparam wrapWidth 300\r\n",
       "hide circle\r\n",
       "skinparam linetype ortho\r\n",
       "skinparam ranksep 8\r\n",
       "\r\n",
       "@enduml\r\n",
       "\n",
       "PlantUML version 1.2022.7(Mon Aug 22 17:01:30 UTC 2022)\n",
       "(EPL source distribution)\n",
       "Java Runtime: OpenJDK Runtime Environment\n",
       "JVM: OpenJDK 64-Bit Server VM\n",
       "Default Encoding: UTF-8\n",
       "Language: en\n",
       "Country: null\n",
       "--></g></svg>"
      ]
     },
     "execution_count": 55,
     "metadata": {},
     "output_type": "execute_result"
    }
   ],
   "source": [
    "%viz --style=\"ORTHOLINE\" --view=\"Action\" \"AliasImport\""
   ]
  },
  {
   "cell_type": "code",
   "execution_count": 56,
   "id": "f1c260fd",
   "metadata": {
    "execution": {
     "iopub.execute_input": "2024-12-16T03:26:48.591794Z",
     "iopub.status.busy": "2024-12-16T03:26:48.591565Z",
     "iopub.status.idle": "2024-12-16T03:26:48.596090Z",
     "shell.execute_reply": "2024-12-16T03:26:48.595911Z"
    }
   },
   "outputs": [
    {
     "data": {
      "image/svg+xml": [
       "<?xml version=\"1.0\" encoding=\"UTF-8\" standalone=\"no\"?><svg xmlns=\"http://www.w3.org/2000/svg\" xmlns:xlink=\"http://www.w3.org/1999/xlink\" contentStyleType=\"text/css\" height=\"10px\" preserveAspectRatio=\"none\" style=\"width:10px;height:10px;background:#FFFFFF;\" version=\"1.1\" viewBox=\"0 0 10 10\" width=\"10px\" zoomAndPan=\"magnify\"><defs/><g><!--MD5=[5b6eb85285460e34b0e63326afe72cc5]\n",
       "@startuml\r\n",
       "skin sysmlbw\r\n",
       "skinparam monochrome true\r\n",
       "skinparam wrapWidth 300\r\n",
       "hide circle\r\n",
       "skinparam linetype ortho\r\n",
       "skinparam roundcorner 20\r\n",
       "skinparam BoxPadding 20\r\n",
       "skinparam SequenceBoxBackgroundColor #white\r\n",
       "skinparam style strictuml\r\n",
       "skinparam maxMessageSize 100\r\n",
       "\r\n",
       "@enduml\r\n",
       "\n",
       "PlantUML version 1.2022.7(Mon Aug 22 17:01:30 UTC 2022)\n",
       "(EPL source distribution)\n",
       "Java Runtime: OpenJDK Runtime Environment\n",
       "JVM: OpenJDK 64-Bit Server VM\n",
       "Default Encoding: UTF-8\n",
       "Language: en\n",
       "Country: null\n",
       "--></g></svg>"
      ]
     },
     "execution_count": 56,
     "metadata": {},
     "output_type": "execute_result"
    }
   ],
   "source": [
    "%viz --style=\"ORTHOLINE\" --view=\"Sequence\" \"AliasImport\""
   ]
  },
  {
   "cell_type": "code",
   "execution_count": 57,
   "id": "e0ad60d2",
   "metadata": {
    "execution": {
     "iopub.execute_input": "2024-12-16T03:26:48.649167Z",
     "iopub.status.busy": "2024-12-16T03:26:48.648972Z",
     "iopub.status.idle": "2024-12-16T03:26:48.665164Z",
     "shell.execute_reply": "2024-12-16T03:26:48.665295Z"
    }
   },
   "outputs": [
    {
     "data": {
      "image/svg+xml": [
       "<?xml version=\"1.0\" encoding=\"UTF-8\" standalone=\"no\"?><svg xmlns=\"http://www.w3.org/2000/svg\" xmlns:xlink=\"http://www.w3.org/1999/xlink\" contentStyleType=\"text/css\" height=\"334px\" preserveAspectRatio=\"none\" style=\"width:297px;height:334px;background:#FFFFFF;\" version=\"1.1\" viewBox=\"0 0 297 334\" width=\"297px\" zoomAndPan=\"magnify\"><defs/><g><!--MD5=[fbc87193dbaf4d95561dea2c320d4a47]\n",
       "cluster E1--><g id=\"cluster_E1\"><a href=\"psysml:ea09c962-e470-4bd3-bf79-0fd6d16116e6\" target=\"_top\" title=\"psysml:ea09c962-e470-4bd3-bf79-0fd6d16116e6\" xlink:actuate=\"onRequest\" xlink:href=\"psysml:ea09c962-e470-4bd3-bf79-0fd6d16116e6\" xlink:show=\"new\" xlink:title=\"psysml:ea09c962-e470-4bd3-bf79-0fd6d16116e6\" xlink:type=\"simple\"><polygon fill=\"none\" points=\"25,6,110.8125,6,117.8125,28.2969,280,28.2969,280,327,25,327,25,6\" style=\"stroke:#000000;stroke-width:1.5;\"/><line style=\"stroke:#000000;stroke-width:1.5;\" x1=\"25\" x2=\"117.8125\" y1=\"28.2969\" y2=\"28.2969\"/><text fill=\"#000000\" font-family=\"sans-serif\" font-size=\"14\" font-weight=\"bold\" lengthAdjust=\"spacing\" textLength=\"79.8125\" x=\"29\" y=\"20.9951\">AliasImport</text></a></g><!--MD5=[e4f7fae6ed58524ba242bb0b0d3be6b7]\n",
       "cluster E2--><g id=\"cluster_E2\"><a href=\"psysml:4e11052e-d911-402f-9b8e-d22451a94e61\" target=\"_top\" title=\"psysml:4e11052e-d911-402f-9b8e-d22451a94e61\" xlink:actuate=\"onRequest\" xlink:href=\"psysml:4e11052e-d911-402f-9b8e-d22451a94e61\" xlink:show=\"new\" xlink:title=\"psysml:4e11052e-d911-402f-9b8e-d22451a94e61\" xlink:type=\"simple\"><polygon fill=\"none\" points=\"49,204,132.8125,204,139.8125,226.2969,256,226.2969,256,303,49,303,49,204\" style=\"stroke:#000000;stroke-width:1.5;\"/><line style=\"stroke:#000000;stroke-width:1.5;\" x1=\"49\" x2=\"139.8125\" y1=\"226.2969\" y2=\"226.2969\"/><text fill=\"#000000\" font-family=\"sans-serif\" font-size=\"14\" font-weight=\"bold\" lengthAdjust=\"spacing\" textLength=\"77.8125\" x=\"53\" y=\"218.9951\">Definitions</text></a></g><!--MD5=[de5ec2e2e8f62f467e546659f5068c88]\n",
       "cluster E5--><g id=\"cluster_E5\"><a href=\"psysml:665ec1bc-7429-419a-921f-0e5bfb2e86ee\" target=\"_top\" title=\"psysml:665ec1bc-7429-419a-921f-0e5bfb2e86ee\" xlink:actuate=\"onRequest\" xlink:href=\"psysml:665ec1bc-7429-419a-921f-0e5bfb2e86ee\" xlink:show=\"new\" xlink:title=\"psysml:665ec1bc-7429-419a-921f-0e5bfb2e86ee\" xlink:type=\"simple\"><polygon fill=\"none\" points=\"58,57,118.625,57,125.625,79.2969,247,79.2969,247,172,58,172,58,57\" style=\"stroke:#000000;stroke-width:1.5;\"/><line style=\"stroke:#000000;stroke-width:1.5;\" x1=\"58\" x2=\"125.625\" y1=\"79.2969\" y2=\"79.2969\"/><text fill=\"#000000\" font-family=\"sans-serif\" font-size=\"14\" font-weight=\"bold\" lengthAdjust=\"spacing\" textLength=\"54.625\" x=\"62\" y=\"71.9951\">Usages</text></a></g><!--MD5=[09b614a08d8cba4a07c9adeb5e0fee81]\n",
       "class E3--><a href=\"psysml:fbf2953e-726b-446c-805b-ce056d089132\" target=\"_top\" title=\"psysml:fbf2953e-726b-446c-805b-ce056d089132\" xlink:actuate=\"onRequest\" xlink:href=\"psysml:fbf2953e-726b-446c-805b-ce056d089132\" xlink:show=\"new\" xlink:title=\"psysml:fbf2953e-726b-446c-805b-ce056d089132\" xlink:type=\"simple\"><g id=\"elem_E3\"><rect fill=\"#FFFFFF\" height=\"48.2656\" id=\"E3\" style=\"stroke:#181818;stroke-width:0.5;\" width=\"70\" x=\"170\" y=\"239\"/><text fill=\"#000000\" font-family=\"sans-serif\" font-size=\"12\" font-style=\"italic\" lengthAdjust=\"spacing\" textLength=\"68\" x=\"171\" y=\"255.1387\">«part  def»</text><text fill=\"#000000\" font-family=\"sans-serif\" font-size=\"14\" lengthAdjust=\"spacing\" textLength=\"50\" x=\"180\" y=\"270.9639\">Vehicle</text><line style=\"stroke:#181818;stroke-width:0.5;\" x1=\"171\" x2=\"239\" y1=\"279.2656\" y2=\"279.2656\"/></g></a><!--MD5=[ebbe1d658d1005bcc118a6aa81145e00]\n",
       "class E4--><a href=\"psysml:fbf2953e-726b-446c-805b-ce056d089132\" target=\"_top\" title=\"psysml:fbf2953e-726b-446c-805b-ce056d089132\" xlink:actuate=\"onRequest\" xlink:href=\"psysml:fbf2953e-726b-446c-805b-ce056d089132\" xlink:show=\"new\" xlink:title=\"psysml:fbf2953e-726b-446c-805b-ce056d089132\" xlink:type=\"simple\"><g id=\"elem_E4\"><rect fill=\"#FFFFFF\" height=\"48.2656\" id=\"E4\" style=\"stroke:#181818;stroke-width:0.5;\" width=\"70\" x=\"65\" y=\"239\"/><text fill=\"#000000\" font-family=\"sans-serif\" font-size=\"12\" font-style=\"italic\" lengthAdjust=\"spacing\" textLength=\"68\" x=\"66\" y=\"255.1387\">«part  def»</text><text fill=\"#000000\" font-family=\"sans-serif\" font-size=\"14\" lengthAdjust=\"spacing\" textLength=\"50\" x=\"75\" y=\"270.9639\">Vehicle</text><line style=\"stroke:#181818;stroke-width:0.5;\" x1=\"66\" x2=\"134\" y1=\"279.2656\" y2=\"279.2656\"/></g></a><!--MD5=[60a26617385b1d2d0262a64233df1f8d]\n",
       "class E6--><a href=\"psysml:1df993ae-180d-40db-acc7-c592d2ed44d7\" target=\"_top\" title=\"psysml:1df993ae-180d-40db-acc7-c592d2ed44d7\" xlink:actuate=\"onRequest\" xlink:href=\"psysml:1df993ae-180d-40db-acc7-c592d2ed44d7\" xlink:show=\"new\" xlink:title=\"psysml:1df993ae-180d-40db-acc7-c592d2ed44d7\" xlink:type=\"simple\"><g id=\"elem_E6\"><rect fill=\"#FFFFFF\" height=\"48.2656\" id=\"E6\" rx=\"10\" ry=\"10\" style=\"stroke:#181818;stroke-width:0.5;\" width=\"121\" x=\"101.5\" y=\"100\"/><text fill=\"#000000\" font-family=\"sans-serif\" font-size=\"12\" font-style=\"italic\" lengthAdjust=\"spacing\" textLength=\"40\" x=\"142\" y=\"116.1387\">«part»</text><text fill=\"#000000\" font-family=\"sans-serif\" font-size=\"14\" lengthAdjust=\"spacing\" textLength=\"107\" x=\"104.5\" y=\"131.9639\">vehicle: Vehicle</text><line style=\"stroke:#181818;stroke-width:0.5;\" x1=\"102.5\" x2=\"221.5\" y1=\"140.2656\" y2=\"140.2656\"/></g></a><!--MD5=[1c62de2aa5b76f0fb657ff8443a1a700]\n",
       "link E5 to E4--><g id=\"link_E5_E4\"><a href=\"psysml:51954fa3-afe5-4e6a-ba60-ca054eed15e8\" target=\"_top\" title=\"psysml:51954fa3-afe5-4e6a-ba60-ca054eed15e8\" xlink:actuate=\"onRequest\" xlink:href=\"psysml:51954fa3-afe5-4e6a-ba60-ca054eed15e8\" xlink:show=\"new\" xlink:title=\"psysml:51954fa3-afe5-4e6a-ba60-ca054eed15e8\" xlink:type=\"simple\"><path d=\"M66,172.1141 C66,172.3264 66,172.5389 66,172.7515 C66,173.1766 66,173.6023 66,174.0284 C66,175.7328 66,177.4439 66,179.155 C66,206.5325 66,233.91 66,233.91 \" fill=\"none\" id=\"E5-to-E4\" style=\"stroke:#181818;stroke-width:1.0;stroke-dasharray:7.0,7.0;\"/><polygon fill=\"#181818\" points=\"66,238.91,70,229.91,66,233.91,62,229.91,66,238.91\" style=\"stroke:#181818;stroke-width:1.0;\"/><text fill=\"#000000\" font-family=\"sans-serif\" font-size=\"13\" lengthAdjust=\"spacing\" textLength=\"58\" x=\"7\" y=\"175.2169\">«import»</text></a></g><!--MD5=[f667431f98296947986a1a7595a31603]\n",
       "link E6 to E4--><g id=\"link_E6_E4\"><a href=\"psysml:bdaa5b20-7fbf-4739-8cf5-0e25c1337b74\" target=\"_top\" title=\"psysml:bdaa5b20-7fbf-4739-8cf5-0e25c1337b74\" xlink:actuate=\"onRequest\" xlink:href=\"psysml:bdaa5b20-7fbf-4739-8cf5-0e25c1337b74\" xlink:show=\"new\" xlink:title=\"psysml:bdaa5b20-7fbf-4739-8cf5-0e25c1337b74\" xlink:type=\"simple\"><path d=\"M118.25,148.21 C118.25,148.21 118.25,218.6 118.25,218.6 \" fill=\"none\" id=\"E6-to-E4\" style=\"stroke:#181818;stroke-width:1.0;\"/><polygon fill=\"#FFFFFF\" points=\"118.25,238.6,111.25,219.6,125.25,219.6,118.25,238.6\" style=\"stroke:#181818;stroke-width:1.0;\"/><ellipse cx=\"113.25\" cy=\"213.9\" fill=\"#181818\" rx=\"2\" ry=\"2\" style=\"stroke:#181818;stroke-width:1.0;\"/><ellipse cx=\"123.25\" cy=\"213.9\" fill=\"#181818\" rx=\"2\" ry=\"2\" style=\"stroke:#181818;stroke-width:1.0;\"/></a></g><!--MD5=[9309e6a03bea203bd24676ea20bb4177]\n",
       "@startuml\r\n",
       "skin sysmlbw\r\n",
       "skinparam monochrome true\r\n",
       "skinparam wrapWidth 300\r\n",
       "hide circle\r\n",
       "skinparam linetype ortho\r\n",
       "\r\n",
       "package \"AliasImport\" as E1  [[psysml:ea09c962-e470-4bd3-bf79-0fd6d16116e6 ]]  {\r\n",
       "package \"Definitions\" as E2  [[psysml:4e11052e-d911-402f-9b8e-d22451a94e61 ]]  {\r\n",
       "comp def \"Vehicle\" as E3  <<(T,blue) part  def>> [[psysml:fbf2953e-726b-446c-805b-ce056d089132 ]] {\r\n",
       "}\r\n",
       "comp def \"Vehicle\" as E4  <<(T,blue) part  def>> [[psysml:fbf2953e-726b-446c-805b-ce056d089132 ]] {\r\n",
       "}\r\n",
       "}\r\n",
       "package \"Usages\" as E5  [[psysml:665ec1bc-7429-419a-921f-0e5bfb2e86ee ]]  {\r\n",
       "comp usage \"vehicle: Vehicle  \" as E6  <<(T,blue) part>> [[psysml:1df993ae-180d-40db-acc7-c592d2ed44d7 ]] {\r\n",
       "}\r\n",
       "}\r\n",
       "}\r\n",
       "E5 ..> E4 [[psysml:51954fa3-afe5-4e6a-ba60-ca054eed15e8 ]] : <<import>>\r\n",
       "E6 - -:|> E4 [[psysml:bdaa5b20-7fbf-4739-8cf5-0e25c1337b74 ]] \r\n",
       "@enduml\r\n",
       "\n",
       "PlantUML version 1.2022.7(Mon Aug 22 17:01:30 UTC 2022)\n",
       "(EPL source distribution)\n",
       "Java Runtime: OpenJDK Runtime Environment\n",
       "JVM: OpenJDK 64-Bit Server VM\n",
       "Default Encoding: UTF-8\n",
       "Language: en\n",
       "Country: null\n",
       "--></g></svg>"
      ]
     },
     "execution_count": 57,
     "metadata": {},
     "output_type": "execute_result"
    }
   ],
   "source": [
    "%viz --style=\"ORTHOLINE\" --view=\"MIXED\" \"AliasImport\""
   ]
  }
 ],
 "metadata": {
  "kernelspec": {
   "display_name": "SysML",
   "language": "sysml",
   "name": "sysml"
  },
  "language_info": {
   "codemirror_mode": "sysml",
   "file_extension": ".sysml",
   "mimetype": "text/x-sysml",
   "name": "SysML",
   "pygments_lexer": "java",
   "version": "1.0.0"
  }
 },
 "nbformat": 4,
 "nbformat_minor": 5
}
