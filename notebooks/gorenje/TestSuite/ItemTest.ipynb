{
 "cells": [
  {
   "cell_type": "markdown",
   "id": "hollow-mayor",
   "metadata": {},
   "source": [
    "# SysML v2 Test Suite\n",
    "\n",
    "This can notebook can be cleared using menu `Edit --> Clear All Outputs` and then all cells can be\n",
    "run using menu `Run --> Run All Cells`.\n",
    "\n",
    "**WARNING**: This file is generated, all modifications here will be ignored.\n"
   ]
  },
  {
   "cell_type": "markdown",
   "id": "opened-stress",
   "metadata": {},
   "source": [
    "## File: ../../sysml/src/examples/Simple Tests/ItemTest.sysml"
   ]
  },
  {
   "cell_type": "code",
   "execution_count": 1,
   "id": "confused-oxford",
   "metadata": {
    "execution": {
     "iopub.execute_input": "2021-03-26T12:12:03.366565Z",
     "iopub.status.busy": "2021-03-26T12:12:03.365941Z",
     "iopub.status.idle": "2021-03-26T12:12:03.488906Z",
     "shell.execute_reply": "2021-03-26T12:12:03.488500Z"
    }
   },
   "outputs": [
    {
     "data": {
      "text/plain": [
       "Package ItemTest (71013027-cced-404e-af02-3f32f6445de9)\n"
      ]
     },
     "execution_count": 1,
     "metadata": {},
     "output_type": "execute_result"
    }
   ],
   "source": [
    "package ItemTest {\n",
    "\t\n",
    "\titem f: A;\n",
    "\n",
    "\tpublic item def A {\n",
    "\t\titem b: B;\n",
    "\t\tprotected ref part c: C;\n",
    "\t}\n",
    "\t\n",
    "\tabstract item def B {\n",
    "\t\tpublic abstract part a: A;\n",
    "\t}\n",
    "\t\n",
    "\tprivate part def C {\n",
    "\t\tprivate in ref y: A, B;\n",
    "\t}\n",
    "\t\n",
    "\tport def P {\n",
    "\t\tin item a1: A;\n",
    "\t\tout item a2: A;\n",
    "\t}\n",
    "\t\n",
    "}"
   ]
  },
  {
   "cell_type": "code",
   "execution_count": 2,
   "id": "dated-anthropology",
   "metadata": {
    "execution": {
     "iopub.execute_input": "2021-03-26T12:12:03.543420Z",
     "iopub.status.busy": "2021-03-26T12:12:03.542769Z",
     "iopub.status.idle": "2021-03-26T12:12:04.192071Z",
     "shell.execute_reply": "2021-03-26T12:12:04.192459Z"
    }
   },
   "outputs": [
    {
     "data": {
      "image/svg+xml": [
       "<?xml version=\"1.0\" encoding=\"UTF-8\" standalone=\"no\"?><svg xmlns=\"http://www.w3.org/2000/svg\" xmlns:xlink=\"http://www.w3.org/1999/xlink\" contentScriptType=\"application/ecmascript\" contentStyleType=\"text/css\" height=\"738px\" preserveAspectRatio=\"none\" style=\"width:228px;height:738px;\" version=\"1.1\" viewBox=\"0 0 228 738\" width=\"228px\" zoomAndPan=\"magnify\"><defs/><g><!--MD5=[fbc87193dbaf4d95561dea2c320d4a47]\n",
       "cluster E1--><a href=\"psysml:75fb623a-e350-4a47-9f82-c4d20b2b5b80\" target=\"_top\" title=\"psysml:75fb623a-e350-4a47-9f82-c4d20b2b5b80\" xlink:actuate=\"onRequest\" xlink:href=\"psysml:75fb623a-e350-4a47-9f82-c4d20b2b5b80\" xlink:show=\"new\" xlink:title=\"psysml:75fb623a-e350-4a47-9f82-c4d20b2b5b80\" xlink:type=\"simple\"><polygon fill=\"#FFFFFF\" points=\"16,6,91,6,98,28.2969,206,28.2969,206,726,16,726,16,6\" style=\"stroke: #000000; stroke-width: 1.5;\"/><line style=\"stroke: #000000; stroke-width: 1.5;\" x1=\"16\" x2=\"98\" y1=\"28.2969\" y2=\"28.2969\"/><text fill=\"#000000\" font-family=\"sans-serif\" font-size=\"14\" font-weight=\"bold\" lengthAdjust=\"spacingAndGlyphs\" textLength=\"69\" x=\"20\" y=\"20.9951\">ItemTest</text></a><!--MD5=[b4997ac47864f28c2f74865a473b2911]\n",
       "class E2--><a href=\"psysml:d8a17efa-9aba-4cd7-b18a-68f8ed4c599b\" target=\"_top\" title=\"psysml:d8a17efa-9aba-4cd7-b18a-68f8ed4c599b\" xlink:actuate=\"onRequest\" xlink:href=\"psysml:d8a17efa-9aba-4cd7-b18a-68f8ed4c599b\" xlink:show=\"new\" xlink:title=\"psysml:d8a17efa-9aba-4cd7-b18a-68f8ed4c599b\" xlink:type=\"simple\"><rect fill=\"#FFFFFF\" height=\"45.9375\" id=\"E2\" rx=\"10\" ry=\"10\" style=\"stroke: #383838; stroke-width: 1.5;\" width=\"43\" x=\"133.5\" y=\"62\"/><text fill=\"#000000\" font-family=\"sans-serif\" font-size=\"12\" font-style=\"italic\" lengthAdjust=\"spacingAndGlyphs\" textLength=\"41\" x=\"134.5\" y=\"78.1387\">«item»</text><text fill=\"#000000\" font-family=\"sans-serif\" font-size=\"12\" lengthAdjust=\"spacingAndGlyphs\" textLength=\"20\" x=\"145\" y=\"92.1074\">f: A</text><line style=\"stroke: #383838; stroke-width: 1.5;\" x1=\"134.5\" x2=\"175.5\" y1=\"99.9375\" y2=\"99.9375\"/></a><!--MD5=[09b614a08d8cba4a07c9adeb5e0fee81]\n",
       "class E3--><a href=\"psysml:30552314-ef8a-4f2d-b223-fa6e862cb5b8\" target=\"_top\" title=\"psysml:30552314-ef8a-4f2d-b223-fa6e862cb5b8\" xlink:actuate=\"onRequest\" xlink:href=\"psysml:30552314-ef8a-4f2d-b223-fa6e862cb5b8\" xlink:show=\"new\" xlink:title=\"psysml:30552314-ef8a-4f2d-b223-fa6e862cb5b8\" xlink:type=\"simple\"><rect fill=\"#FFFFFF\" height=\"75.5469\" id=\"E3\" style=\"stroke: #383838; stroke-width: 1.5;\" width=\"67\" x=\"115.5\" y=\"190\"/><text fill=\"#000000\" font-family=\"sans-serif\" font-size=\"12\" font-style=\"italic\" lengthAdjust=\"spacingAndGlyphs\" textLength=\"65\" x=\"116.5\" y=\"206.1387\">«item def»</text><text fill=\"#000000\" font-family=\"sans-serif\" font-size=\"12\" lengthAdjust=\"spacingAndGlyphs\" textLength=\"8\" x=\"145\" y=\"220.1074\">A</text><line style=\"stroke: #383838; stroke-width: 1.5;\" x1=\"116.5\" x2=\"181.5\" y1=\"227.9375\" y2=\"227.9375\"/><text fill=\"#000000\" font-family=\"sans-serif\" font-size=\"11\" lengthAdjust=\"spacingAndGlyphs\" textLength=\"23\" x=\"121.5\" y=\"258.9526\">b: B</text><line style=\"stroke: #383838; stroke-width: 1.0;\" x1=\"116.5\" x2=\"133\" y1=\"242.3398\" y2=\"242.3398\"/><text fill=\"#000000\" font-family=\"sans-serif\" font-size=\"11\" lengthAdjust=\"spacingAndGlyphs\" textLength=\"32\" x=\"133\" y=\"245.6479\">items</text><line style=\"stroke: #383838; stroke-width: 1.0;\" x1=\"165\" x2=\"181.5\" y1=\"242.3398\" y2=\"242.3398\"/></a><!--MD5=[270fce915f116d4de14055a7c1d9a0f3]\n",
       "class E5--><a href=\"psysml:cb0fe327-dda6-4eae-9e46-1ce946f22982\" target=\"_top\" title=\"psysml:cb0fe327-dda6-4eae-9e46-1ce946f22982\" xlink:actuate=\"onRequest\" xlink:href=\"psysml:cb0fe327-dda6-4eae-9e46-1ce946f22982\" xlink:show=\"new\" xlink:title=\"psysml:cb0fe327-dda6-4eae-9e46-1ce946f22982\" xlink:type=\"simple\"><rect fill=\"#FFFFFF\" height=\"45.9375\" id=\"E5\" rx=\"10\" ry=\"10\" style=\"stroke: #383838; stroke-width: 1.5;\" width=\"42\" x=\"32\" y=\"327\"/><text fill=\"#000000\" font-family=\"sans-serif\" font-size=\"12\" font-style=\"italic\" lengthAdjust=\"spacingAndGlyphs\" textLength=\"40\" x=\"33\" y=\"343.1387\">«part»</text><text fill=\"#000000\" font-family=\"sans-serif\" font-size=\"12\" lengthAdjust=\"spacingAndGlyphs\" textLength=\"23\" x=\"41.5\" y=\"357.1074\">c: C</text><line style=\"stroke: #383838; stroke-width: 1.5;\" x1=\"33\" x2=\"73\" y1=\"364.9375\" y2=\"364.9375\"/></a><!--MD5=[60a26617385b1d2d0262a64233df1f8d]\n",
       "class E6--><a href=\"psysml:0c776550-23a6-42b8-908b-320a74e2d4ee\" target=\"_top\" title=\"psysml:0c776550-23a6-42b8-908b-320a74e2d4ee\" xlink:actuate=\"onRequest\" xlink:href=\"psysml:0c776550-23a6-42b8-908b-320a74e2d4ee\" xlink:show=\"new\" xlink:title=\"psysml:0c776550-23a6-42b8-908b-320a74e2d4ee\" xlink:type=\"simple\"><rect fill=\"#FFFFFF\" height=\"45.9375\" id=\"E6\" style=\"stroke: #383838; stroke-width: 1.5;\" width=\"67\" x=\"85.5\" y=\"557\"/><text fill=\"#000000\" font-family=\"sans-serif\" font-size=\"12\" font-style=\"italic\" lengthAdjust=\"spacingAndGlyphs\" textLength=\"65\" x=\"86.5\" y=\"573.1387\">«item def»</text><text fill=\"#000000\" font-family=\"sans-serif\" font-size=\"12\" lengthAdjust=\"spacingAndGlyphs\" textLength=\"8\" x=\"115\" y=\"587.1074\">B</text><line style=\"stroke: #383838; stroke-width: 1.5;\" x1=\"86.5\" x2=\"151.5\" y1=\"594.9375\" y2=\"594.9375\"/></a><!--MD5=[2156ba9850f5573cc1fc38a6a4b2f02b]\n",
       "class E7--><a href=\"psysml:7f7b610c-5cf3-4f1d-92e7-984e3817e328\" target=\"_top\" title=\"psysml:7f7b610c-5cf3-4f1d-92e7-984e3817e328\" xlink:actuate=\"onRequest\" xlink:href=\"psysml:7f7b610c-5cf3-4f1d-92e7-984e3817e328\" xlink:show=\"new\" xlink:title=\"psysml:7f7b610c-5cf3-4f1d-92e7-984e3817e328\" xlink:type=\"simple\"><rect fill=\"#FFFFFF\" height=\"45.9375\" id=\"E7\" rx=\"10\" ry=\"10\" style=\"stroke: #383838; stroke-width: 1.5;\" width=\"42\" x=\"123\" y=\"664\"/><text fill=\"#000000\" font-family=\"sans-serif\" font-size=\"12\" font-style=\"italic\" lengthAdjust=\"spacingAndGlyphs\" textLength=\"40\" x=\"124\" y=\"680.1387\">«part»</text><text fill=\"#000000\" font-family=\"sans-serif\" font-size=\"12\" lengthAdjust=\"spacingAndGlyphs\" textLength=\"24\" x=\"132\" y=\"694.1074\">a: A</text><line style=\"stroke: #383838; stroke-width: 1.5;\" x1=\"124\" x2=\"164\" y1=\"701.9375\" y2=\"701.9375\"/></a><!--MD5=[b9389687b975829384b498ac4b7476b2]\n",
       "class E8--><a href=\"psysml:3f3cfa4e-9100-4bf2-8dae-183ab53e5ac5\" target=\"_top\" title=\"psysml:3f3cfa4e-9100-4bf2-8dae-183ab53e5ac5\" xlink:actuate=\"onRequest\" xlink:href=\"psysml:3f3cfa4e-9100-4bf2-8dae-183ab53e5ac5\" xlink:show=\"new\" xlink:title=\"psysml:3f3cfa4e-9100-4bf2-8dae-183ab53e5ac5\" xlink:type=\"simple\"><rect fill=\"#FFFFFF\" height=\"45.9375\" id=\"E8\" style=\"stroke: #383838; stroke-width: 1.5;\" width=\"66\" x=\"86\" y=\"434\"/><text fill=\"#000000\" font-family=\"sans-serif\" font-size=\"12\" font-style=\"italic\" lengthAdjust=\"spacingAndGlyphs\" textLength=\"64\" x=\"87\" y=\"450.1387\">«part def»</text><text fill=\"#000000\" font-family=\"sans-serif\" font-size=\"12\" lengthAdjust=\"spacingAndGlyphs\" textLength=\"8\" x=\"115\" y=\"464.1074\">C</text><line style=\"stroke: #383838; stroke-width: 1.5;\" x1=\"87\" x2=\"151\" y1=\"471.9375\" y2=\"471.9375\"/></a><!--MD5=[fd4143e9d270a159db93a4ea2a975926]\n",
       "class E9--><a href=\"psysml:b18b87fb-d7bd-4905-b0cb-818d68f57f75\" target=\"_top\" title=\"psysml:b18b87fb-d7bd-4905-b0cb-818d68f57f75\" xlink:actuate=\"onRequest\" xlink:href=\"psysml:b18b87fb-d7bd-4905-b0cb-818d68f57f75\" xlink:show=\"new\" xlink:title=\"psysml:b18b87fb-d7bd-4905-b0cb-818d68f57f75\" xlink:type=\"simple\"><rect fill=\"#FFFFFF\" height=\"88.3516\" id=\"E9\" style=\"stroke: #383838; stroke-width: 1.5;\" width=\"66\" x=\"32\" y=\"41\"/><text fill=\"#000000\" font-family=\"sans-serif\" font-size=\"12\" font-style=\"italic\" lengthAdjust=\"spacingAndGlyphs\" textLength=\"64\" x=\"33\" y=\"57.1387\">«port def»</text><text fill=\"#000000\" font-family=\"sans-serif\" font-size=\"12\" lengthAdjust=\"spacingAndGlyphs\" textLength=\"8\" x=\"61\" y=\"71.1074\">P</text><line style=\"stroke: #383838; stroke-width: 1.5;\" x1=\"33\" x2=\"97\" y1=\"78.9375\" y2=\"78.9375\"/><text fill=\"#000000\" font-family=\"sans-serif\" font-size=\"11\" lengthAdjust=\"spacingAndGlyphs\" textLength=\"29\" x=\"38\" y=\"109.9526\">a1: A</text><text fill=\"#000000\" font-family=\"sans-serif\" font-size=\"11\" lengthAdjust=\"spacingAndGlyphs\" textLength=\"29\" x=\"38\" y=\"122.7573\">a2: A</text><line style=\"stroke: #383838; stroke-width: 1.0;\" x1=\"33\" x2=\"49\" y1=\"93.3398\" y2=\"93.3398\"/><text fill=\"#000000\" font-family=\"sans-serif\" font-size=\"11\" lengthAdjust=\"spacingAndGlyphs\" textLength=\"32\" x=\"49\" y=\"96.6479\">items</text><line style=\"stroke: #383838; stroke-width: 1.0;\" x1=\"81\" x2=\"97\" y1=\"93.3398\" y2=\"93.3398\"/></a><!--MD5=[2720a5a1f2c3fca2055b230370638851]\n",
       "link E2 to E3--><a href=\"psysml:cbc83e8e-35d8-4884-92a4-03d9c321669a\" target=\"_top\" title=\"psysml:cbc83e8e-35d8-4884-92a4-03d9c321669a\" xlink:actuate=\"onRequest\" xlink:href=\"psysml:cbc83e8e-35d8-4884-92a4-03d9c321669a\" xlink:show=\"new\" xlink:title=\"psysml:cbc83e8e-35d8-4884-92a4-03d9c321669a\" xlink:type=\"simple\"><path d=\"M154.06,108.03 C153.36,124.58 152.36,148.04 151.44,169.76 \" fill=\"none\" id=\"E2-&gt;E3\" style=\"stroke: #383838; stroke-width: 1.0;\"/><polygon fill=\"#FFFFFF\" points=\"150.58,189.77,144.4005,170.4875,158.3877,171.0874,150.58,189.77\" style=\"stroke: #383838; stroke-width: 1.0;\"/><ellipse cx=\"146.6429\" cy=\"164.8784\" fill=\"#383838\" rx=\"2\" ry=\"2\" style=\"stroke: #383838; stroke-width: 1.0;\"/><ellipse cx=\"156.6338\" cy=\"165.3069\" fill=\"#383838\" rx=\"2\" ry=\"2\" style=\"stroke: #383838; stroke-width: 1.0;\"/></a><!--MD5=[191cde3d490a3f6d7bb551fe3ddca469]\n",
       "reverse link E3 to E5--><a href=\"psysml:cb0fe327-dda6-4eae-9e46-1ce946f22982\" target=\"_top\" title=\"psysml:cb0fe327-dda6-4eae-9e46-1ce946f22982\" xlink:actuate=\"onRequest\" xlink:href=\"psysml:cb0fe327-dda6-4eae-9e46-1ce946f22982\" xlink:show=\"new\" xlink:title=\"psysml:cb0fe327-dda6-4eae-9e46-1ce946f22982\" xlink:type=\"simple\"><path d=\"M110.75,276.82 C96.95,294.07 82.02,312.72 70.8,326.75 \" fill=\"none\" id=\"E3&lt;-E5\" style=\"stroke: #383838; stroke-width: 1.0;\"/><polygon fill=\"#FFFFFF\" points=\"119.15,266.31,112.2784,268.4964,111.6537,275.6804,118.5253,273.494,119.15,266.31\" style=\"stroke: #383838; stroke-width: 1.0;\"/></a><!--MD5=[14ccda38c055a5c0da953d572bc50960]\n",
       "link E7 to E3--><a href=\"psysml:b2ac9add-d533-4cc3-a1ec-28b279e4ff39\" target=\"_top\" title=\"psysml:b2ac9add-d533-4cc3-a1ec-28b279e4ff39\" xlink:actuate=\"onRequest\" xlink:href=\"psysml:b2ac9add-d533-4cc3-a1ec-28b279e4ff39\" xlink:show=\"new\" xlink:title=\"psysml:b2ac9add-d533-4cc3-a1ec-28b279e4ff39\" xlink:type=\"simple\"><path d=\"M159.74,663.82 C172.72,643.34 189,611.54 189,581 C189,349 189,349 189,349 C189,327.34 183.06,304.56 175.76,284.74 \" fill=\"none\" id=\"E7-&gt;E3\" style=\"stroke: #383838; stroke-width: 1.0;\"/><polygon fill=\"#FFFFFF\" points=\"168.18,266.05,181.8034,281.0301,168.8283,286.2881,168.18,266.05\" style=\"stroke: #383838; stroke-width: 1.0;\"/><ellipse cx=\"182.0906\" cy=\"287.0639\" fill=\"#383838\" rx=\"2\" ry=\"2\" style=\"stroke: #383838; stroke-width: 1.0;\"/><ellipse cx=\"172.8227\" cy=\"290.8196\" fill=\"#383838\" rx=\"2\" ry=\"2\" style=\"stroke: #383838; stroke-width: 1.0;\"/></a><!--MD5=[3f50a3473f1dfb74d3f76443e03635af]\n",
       "reverse link E6 to E7--><a href=\"psysml:7f7b610c-5cf3-4f1d-92e7-984e3817e328\" target=\"_top\" title=\"psysml:7f7b610c-5cf3-4f1d-92e7-984e3817e328\" xlink:actuate=\"onRequest\" xlink:href=\"psysml:7f7b610c-5cf3-4f1d-92e7-984e3817e328\" xlink:show=\"new\" xlink:title=\"psysml:7f7b610c-5cf3-4f1d-92e7-984e3817e328\" xlink:type=\"simple\"><path d=\"M127.34,616.05 C131.08,631.76 135.39,649.82 138.68,663.66 \" fill=\"none\" id=\"E6&lt;-E7\" style=\"stroke: #383838; stroke-width: 1.0;\"/><polygon fill=\"#383838\" points=\"124.24,603.01,121.7406,609.7741,127.023,614.6828,129.5224,607.9187,124.24,603.01\" style=\"stroke: #383838; stroke-width: 1.0;\"/></a><!--MD5=[dfaffb906826c3e5aca635516100ff21]\n",
       "link E5 to E8--><a href=\"psysml:8f4ff897-72ba-4249-b35c-9a7192bde9f3\" target=\"_top\" title=\"psysml:8f4ff897-72ba-4249-b35c-9a7192bde9f3\" xlink:actuate=\"onRequest\" xlink:href=\"psysml:8f4ff897-72ba-4249-b35c-9a7192bde9f3\" xlink:show=\"new\" xlink:title=\"psysml:8f4ff897-72ba-4249-b35c-9a7192bde9f3\" xlink:type=\"simple\"><path d=\"M66.84,373.01 C74.79,385.67 85.02,401.94 94.31,416.72 \" fill=\"none\" id=\"E5-&gt;E8\" style=\"stroke: #383838; stroke-width: 1.0;\"/><polygon fill=\"#FFFFFF\" points=\"104.96,433.66,88.9212,421.3005,100.7735,413.8491,104.96,433.66\" style=\"stroke: #383838; stroke-width: 1.0;\"/><ellipse cx=\"87.5806\" cy=\"415.4104\" fill=\"#383838\" rx=\"2\" ry=\"2\" style=\"stroke: #383838; stroke-width: 1.0;\"/><ellipse cx=\"96.0465\" cy=\"410.088\" fill=\"#383838\" rx=\"2\" ry=\"2\" style=\"stroke: #383838; stroke-width: 1.0;\"/></a><!--MD5=[03c8294790d3c57651a1993cecff665f]\n",
       "reverse link E8 to E3--><a href=\"psysml:44d9af1e-71a6-403b-81da-6292c3b1f2cb\" target=\"_top\" title=\"psysml:44d9af1e-71a6-403b-81da-6292c3b1f2cb\" xlink:actuate=\"onRequest\" xlink:href=\"psysml:44d9af1e-71a6-403b-81da-6292c3b1f2cb\" xlink:show=\"new\" xlink:title=\"psysml:44d9af1e-71a6-403b-81da-6292c3b1f2cb\" xlink:type=\"simple\"><path d=\"M123.65,420.81 C129.2,378.86 138.42,309.06 144.08,266.23 \" fill=\"none\" id=\"E8&lt;-E3\" style=\"stroke: #383838; stroke-width: 1.0;\"/><polygon fill=\"#FFFFFF\" points=\"121.92,433.89,126.6755,428.4692,123.5008,421.9946,118.7453,427.4154,121.92,433.89\" style=\"stroke: #383838; stroke-width: 1.0;\"/><text fill=\"#000000\" font-family=\"sans-serif\" font-size=\"13\" lengthAdjust=\"spacingAndGlyphs\" textLength=\"7\" x=\"136\" y=\"354.5669\">y</text></a><!--MD5=[0d75d2178373a6a4568e5dc728f58aef]\n",
       "reverse link E8 to E6--><a href=\"psysml:44d9af1e-71a6-403b-81da-6292c3b1f2cb\" target=\"_top\" title=\"psysml:44d9af1e-71a6-403b-81da-6292c3b1f2cb\" xlink:actuate=\"onRequest\" xlink:href=\"psysml:44d9af1e-71a6-403b-81da-6292c3b1f2cb\" xlink:show=\"new\" xlink:title=\"psysml:44d9af1e-71a6-403b-81da-6292c3b1f2cb\" xlink:type=\"simple\"><path d=\"M119,493.22 C119,513.81 119,539.16 119,556.95 \" fill=\"none\" id=\"E8&lt;-E6\" style=\"stroke: #383838; stroke-width: 1.0;\"/><polygon fill=\"#FFFFFF\" points=\"119,480.19,115,486.19,119,492.19,123,486.19,119,480.19\" style=\"stroke: #383838; stroke-width: 1.0;\"/><text fill=\"#000000\" font-family=\"sans-serif\" font-size=\"13\" lengthAdjust=\"spacingAndGlyphs\" textLength=\"7\" x=\"120\" y=\"523.0669\">y</text></a><!--MD5=[b66fc2d44ce0be77b017da71f8b897da]\n",
       "@startuml\r\n",
       " skinparam monochrome true\r\n",
       "skinparam classbackgroundcolor white\r\n",
       "skinparam shadowing false\r\n",
       "skinparam wrapWidth 300\r\n",
       "hide circle\r\n",
       "\r\n",
       "package \"ItemTest\" as E1  [[psysml:75fb623a-e350-4a47-9f82-c4d20b2b5b80 ]]  {\r\n",
       "comp usage \"f: A\" as E2  <<(T,blue)item>> [[psysml:d8a17efa-9aba-4cd7-b18a-68f8ed4c599b ]] {\r\n",
       "}\r\n",
       "comp def \"A\" as E3  <<(T,blue)item def>> [[psysml:30552314-ef8a-4f2d-b223-fa6e862cb5b8 ]] {\r\n",
       "- - items - -\r\n",
       "b: B\r\n",
       "}\r\n",
       "comp usage \"c: C\" as E5  <<(T,blue)part>> [[psysml:cb0fe327-dda6-4eae-9e46-1ce946f22982 ]] {\r\n",
       "}\r\n",
       "comp def \"B\" as E6  <<(T,blue)item def>> [[psysml:0c776550-23a6-42b8-908b-320a74e2d4ee ]] {\r\n",
       "}\r\n",
       "comp usage \"a: A\" as E7  <<(T,blue)part>> [[psysml:7f7b610c-5cf3-4f1d-92e7-984e3817e328 ]] {\r\n",
       "}\r\n",
       "comp def \"C\" as E8  <<(T,blue)part def>> [[psysml:3f3cfa4e-9100-4bf2-8dae-183ab53e5ac5 ]] {\r\n",
       "}\r\n",
       "comp def \"P\" as E9  <<(T,blue)port def>> [[psysml:b18b87fb-d7bd-4905-b0cb-818d68f57f75 ]] {\r\n",
       "- - items - -\r\n",
       "a1: A\r\n",
       "a2: A\r\n",
       "}\r\n",
       "E2 - -:|> E3 [[psysml:cbc83e8e-35d8-4884-92a4-03d9c321669a ]] \r\n",
       "E3 o- - E5 [[psysml:cb0fe327-dda6-4eae-9e46-1ce946f22982 ]] \r\n",
       "E7 - -:|> E3 [[psysml:b2ac9add-d533-4cc3-a1ec-28b279e4ff39 ]] \r\n",
       "E6 *- - E7 [[psysml:7f7b610c-5cf3-4f1d-92e7-984e3817e328 ]] \r\n",
       "E5 - -:|> E8 [[psysml:8f4ff897-72ba-4249-b35c-9a7192bde9f3 ]] \r\n",
       "E8 o- - E3 [[psysml:44d9af1e-71a6-403b-81da-6292c3b1f2cb ]] : y\r\n",
       "E8 o- - E6 [[psysml:44d9af1e-71a6-403b-81da-6292c3b1f2cb ]] : y\r\n",
       "}\r\n",
       "@enduml\r\n",
       "\n",
       "PlantUML version 1.2020.13(Sat Jun 13 12:26:38 UTC 2020)\n",
       "(EPL source distribution)\n",
       "Java Runtime: OpenJDK Runtime Environment\n",
       "JVM: OpenJDK 64-Bit Server VM\n",
       "Default Encoding: UTF-8\n",
       "Language: en\n",
       "Country: null\n",
       "--></g></svg>"
      ]
     },
     "execution_count": 2,
     "metadata": {},
     "output_type": "execute_result"
    }
   ],
   "source": [
    "%viz --style=\"COMPTREE\" --view=\"Default\" \"ItemTest\""
   ]
  },
  {
   "cell_type": "code",
   "execution_count": 3,
   "id": "internal-display",
   "metadata": {
    "execution": {
     "iopub.execute_input": "2021-03-26T12:12:04.245342Z",
     "iopub.status.busy": "2021-03-26T12:12:04.244655Z",
     "iopub.status.idle": "2021-03-26T12:12:04.343484Z",
     "shell.execute_reply": "2021-03-26T12:12:04.343797Z"
    }
   },
   "outputs": [
    {
     "data": {
      "image/svg+xml": [
       "<?xml version=\"1.0\" encoding=\"UTF-8\" standalone=\"no\"?><svg xmlns=\"http://www.w3.org/2000/svg\" xmlns:xlink=\"http://www.w3.org/1999/xlink\" contentScriptType=\"application/ecmascript\" contentStyleType=\"text/css\" height=\"738px\" preserveAspectRatio=\"none\" style=\"width:228px;height:738px;\" version=\"1.1\" viewBox=\"0 0 228 738\" width=\"228px\" zoomAndPan=\"magnify\"><defs/><g><!--MD5=[fbc87193dbaf4d95561dea2c320d4a47]\n",
       "cluster E1--><a href=\"psysml:75fb623a-e350-4a47-9f82-c4d20b2b5b80\" target=\"_top\" title=\"psysml:75fb623a-e350-4a47-9f82-c4d20b2b5b80\" xlink:actuate=\"onRequest\" xlink:href=\"psysml:75fb623a-e350-4a47-9f82-c4d20b2b5b80\" xlink:show=\"new\" xlink:title=\"psysml:75fb623a-e350-4a47-9f82-c4d20b2b5b80\" xlink:type=\"simple\"><polygon fill=\"#FFFFFF\" points=\"16,6,91,6,98,28.2969,206,28.2969,206,726,16,726,16,6\" style=\"stroke: #000000; stroke-width: 1.5;\"/><line style=\"stroke: #000000; stroke-width: 1.5;\" x1=\"16\" x2=\"98\" y1=\"28.2969\" y2=\"28.2969\"/><text fill=\"#000000\" font-family=\"sans-serif\" font-size=\"14\" font-weight=\"bold\" lengthAdjust=\"spacingAndGlyphs\" textLength=\"69\" x=\"20\" y=\"20.9951\">ItemTest</text></a><!--MD5=[b4997ac47864f28c2f74865a473b2911]\n",
       "class E2--><a href=\"psysml:d8a17efa-9aba-4cd7-b18a-68f8ed4c599b\" target=\"_top\" title=\"psysml:d8a17efa-9aba-4cd7-b18a-68f8ed4c599b\" xlink:actuate=\"onRequest\" xlink:href=\"psysml:d8a17efa-9aba-4cd7-b18a-68f8ed4c599b\" xlink:show=\"new\" xlink:title=\"psysml:d8a17efa-9aba-4cd7-b18a-68f8ed4c599b\" xlink:type=\"simple\"><rect fill=\"#FFFFFF\" height=\"45.9375\" id=\"E2\" rx=\"10\" ry=\"10\" style=\"stroke: #383838; stroke-width: 1.5;\" width=\"43\" x=\"133.5\" y=\"62\"/><text fill=\"#000000\" font-family=\"sans-serif\" font-size=\"12\" font-style=\"italic\" lengthAdjust=\"spacingAndGlyphs\" textLength=\"41\" x=\"134.5\" y=\"78.1387\">«item»</text><text fill=\"#000000\" font-family=\"sans-serif\" font-size=\"12\" lengthAdjust=\"spacingAndGlyphs\" textLength=\"20\" x=\"145\" y=\"92.1074\">f: A</text><line style=\"stroke: #383838; stroke-width: 1.5;\" x1=\"134.5\" x2=\"175.5\" y1=\"99.9375\" y2=\"99.9375\"/></a><!--MD5=[09b614a08d8cba4a07c9adeb5e0fee81]\n",
       "class E3--><a href=\"psysml:30552314-ef8a-4f2d-b223-fa6e862cb5b8\" target=\"_top\" title=\"psysml:30552314-ef8a-4f2d-b223-fa6e862cb5b8\" xlink:actuate=\"onRequest\" xlink:href=\"psysml:30552314-ef8a-4f2d-b223-fa6e862cb5b8\" xlink:show=\"new\" xlink:title=\"psysml:30552314-ef8a-4f2d-b223-fa6e862cb5b8\" xlink:type=\"simple\"><rect fill=\"#FFFFFF\" height=\"75.5469\" id=\"E3\" style=\"stroke: #383838; stroke-width: 1.5;\" width=\"67\" x=\"115.5\" y=\"190\"/><text fill=\"#000000\" font-family=\"sans-serif\" font-size=\"12\" font-style=\"italic\" lengthAdjust=\"spacingAndGlyphs\" textLength=\"65\" x=\"116.5\" y=\"206.1387\">«item def»</text><text fill=\"#000000\" font-family=\"sans-serif\" font-size=\"12\" lengthAdjust=\"spacingAndGlyphs\" textLength=\"8\" x=\"145\" y=\"220.1074\">A</text><line style=\"stroke: #383838; stroke-width: 1.5;\" x1=\"116.5\" x2=\"181.5\" y1=\"227.9375\" y2=\"227.9375\"/><text fill=\"#000000\" font-family=\"sans-serif\" font-size=\"11\" lengthAdjust=\"spacingAndGlyphs\" textLength=\"23\" x=\"121.5\" y=\"258.9526\">b: B</text><line style=\"stroke: #383838; stroke-width: 1.0;\" x1=\"116.5\" x2=\"133\" y1=\"242.3398\" y2=\"242.3398\"/><text fill=\"#000000\" font-family=\"sans-serif\" font-size=\"11\" lengthAdjust=\"spacingAndGlyphs\" textLength=\"32\" x=\"133\" y=\"245.6479\">items</text><line style=\"stroke: #383838; stroke-width: 1.0;\" x1=\"165\" x2=\"181.5\" y1=\"242.3398\" y2=\"242.3398\"/></a><!--MD5=[270fce915f116d4de14055a7c1d9a0f3]\n",
       "class E5--><a href=\"psysml:cb0fe327-dda6-4eae-9e46-1ce946f22982\" target=\"_top\" title=\"psysml:cb0fe327-dda6-4eae-9e46-1ce946f22982\" xlink:actuate=\"onRequest\" xlink:href=\"psysml:cb0fe327-dda6-4eae-9e46-1ce946f22982\" xlink:show=\"new\" xlink:title=\"psysml:cb0fe327-dda6-4eae-9e46-1ce946f22982\" xlink:type=\"simple\"><rect fill=\"#FFFFFF\" height=\"45.9375\" id=\"E5\" rx=\"10\" ry=\"10\" style=\"stroke: #383838; stroke-width: 1.5;\" width=\"42\" x=\"32\" y=\"327\"/><text fill=\"#000000\" font-family=\"sans-serif\" font-size=\"12\" font-style=\"italic\" lengthAdjust=\"spacingAndGlyphs\" textLength=\"40\" x=\"33\" y=\"343.1387\">«part»</text><text fill=\"#000000\" font-family=\"sans-serif\" font-size=\"12\" lengthAdjust=\"spacingAndGlyphs\" textLength=\"23\" x=\"41.5\" y=\"357.1074\">c: C</text><line style=\"stroke: #383838; stroke-width: 1.5;\" x1=\"33\" x2=\"73\" y1=\"364.9375\" y2=\"364.9375\"/></a><!--MD5=[60a26617385b1d2d0262a64233df1f8d]\n",
       "class E6--><a href=\"psysml:0c776550-23a6-42b8-908b-320a74e2d4ee\" target=\"_top\" title=\"psysml:0c776550-23a6-42b8-908b-320a74e2d4ee\" xlink:actuate=\"onRequest\" xlink:href=\"psysml:0c776550-23a6-42b8-908b-320a74e2d4ee\" xlink:show=\"new\" xlink:title=\"psysml:0c776550-23a6-42b8-908b-320a74e2d4ee\" xlink:type=\"simple\"><rect fill=\"#FFFFFF\" height=\"45.9375\" id=\"E6\" style=\"stroke: #383838; stroke-width: 1.5;\" width=\"67\" x=\"85.5\" y=\"557\"/><text fill=\"#000000\" font-family=\"sans-serif\" font-size=\"12\" font-style=\"italic\" lengthAdjust=\"spacingAndGlyphs\" textLength=\"65\" x=\"86.5\" y=\"573.1387\">«item def»</text><text fill=\"#000000\" font-family=\"sans-serif\" font-size=\"12\" lengthAdjust=\"spacingAndGlyphs\" textLength=\"8\" x=\"115\" y=\"587.1074\">B</text><line style=\"stroke: #383838; stroke-width: 1.5;\" x1=\"86.5\" x2=\"151.5\" y1=\"594.9375\" y2=\"594.9375\"/></a><!--MD5=[2156ba9850f5573cc1fc38a6a4b2f02b]\n",
       "class E7--><a href=\"psysml:7f7b610c-5cf3-4f1d-92e7-984e3817e328\" target=\"_top\" title=\"psysml:7f7b610c-5cf3-4f1d-92e7-984e3817e328\" xlink:actuate=\"onRequest\" xlink:href=\"psysml:7f7b610c-5cf3-4f1d-92e7-984e3817e328\" xlink:show=\"new\" xlink:title=\"psysml:7f7b610c-5cf3-4f1d-92e7-984e3817e328\" xlink:type=\"simple\"><rect fill=\"#FFFFFF\" height=\"45.9375\" id=\"E7\" rx=\"10\" ry=\"10\" style=\"stroke: #383838; stroke-width: 1.5;\" width=\"42\" x=\"123\" y=\"664\"/><text fill=\"#000000\" font-family=\"sans-serif\" font-size=\"12\" font-style=\"italic\" lengthAdjust=\"spacingAndGlyphs\" textLength=\"40\" x=\"124\" y=\"680.1387\">«part»</text><text fill=\"#000000\" font-family=\"sans-serif\" font-size=\"12\" lengthAdjust=\"spacingAndGlyphs\" textLength=\"24\" x=\"132\" y=\"694.1074\">a: A</text><line style=\"stroke: #383838; stroke-width: 1.5;\" x1=\"124\" x2=\"164\" y1=\"701.9375\" y2=\"701.9375\"/></a><!--MD5=[b9389687b975829384b498ac4b7476b2]\n",
       "class E8--><a href=\"psysml:3f3cfa4e-9100-4bf2-8dae-183ab53e5ac5\" target=\"_top\" title=\"psysml:3f3cfa4e-9100-4bf2-8dae-183ab53e5ac5\" xlink:actuate=\"onRequest\" xlink:href=\"psysml:3f3cfa4e-9100-4bf2-8dae-183ab53e5ac5\" xlink:show=\"new\" xlink:title=\"psysml:3f3cfa4e-9100-4bf2-8dae-183ab53e5ac5\" xlink:type=\"simple\"><rect fill=\"#FFFFFF\" height=\"45.9375\" id=\"E8\" style=\"stroke: #383838; stroke-width: 1.5;\" width=\"66\" x=\"86\" y=\"434\"/><text fill=\"#000000\" font-family=\"sans-serif\" font-size=\"12\" font-style=\"italic\" lengthAdjust=\"spacingAndGlyphs\" textLength=\"64\" x=\"87\" y=\"450.1387\">«part def»</text><text fill=\"#000000\" font-family=\"sans-serif\" font-size=\"12\" lengthAdjust=\"spacingAndGlyphs\" textLength=\"8\" x=\"115\" y=\"464.1074\">C</text><line style=\"stroke: #383838; stroke-width: 1.5;\" x1=\"87\" x2=\"151\" y1=\"471.9375\" y2=\"471.9375\"/></a><!--MD5=[fd4143e9d270a159db93a4ea2a975926]\n",
       "class E9--><a href=\"psysml:b18b87fb-d7bd-4905-b0cb-818d68f57f75\" target=\"_top\" title=\"psysml:b18b87fb-d7bd-4905-b0cb-818d68f57f75\" xlink:actuate=\"onRequest\" xlink:href=\"psysml:b18b87fb-d7bd-4905-b0cb-818d68f57f75\" xlink:show=\"new\" xlink:title=\"psysml:b18b87fb-d7bd-4905-b0cb-818d68f57f75\" xlink:type=\"simple\"><rect fill=\"#FFFFFF\" height=\"88.3516\" id=\"E9\" style=\"stroke: #383838; stroke-width: 1.5;\" width=\"66\" x=\"32\" y=\"41\"/><text fill=\"#000000\" font-family=\"sans-serif\" font-size=\"12\" font-style=\"italic\" lengthAdjust=\"spacingAndGlyphs\" textLength=\"64\" x=\"33\" y=\"57.1387\">«port def»</text><text fill=\"#000000\" font-family=\"sans-serif\" font-size=\"12\" lengthAdjust=\"spacingAndGlyphs\" textLength=\"8\" x=\"61\" y=\"71.1074\">P</text><line style=\"stroke: #383838; stroke-width: 1.5;\" x1=\"33\" x2=\"97\" y1=\"78.9375\" y2=\"78.9375\"/><text fill=\"#000000\" font-family=\"sans-serif\" font-size=\"11\" lengthAdjust=\"spacingAndGlyphs\" textLength=\"29\" x=\"38\" y=\"109.9526\">a1: A</text><text fill=\"#000000\" font-family=\"sans-serif\" font-size=\"11\" lengthAdjust=\"spacingAndGlyphs\" textLength=\"29\" x=\"38\" y=\"122.7573\">a2: A</text><line style=\"stroke: #383838; stroke-width: 1.0;\" x1=\"33\" x2=\"49\" y1=\"93.3398\" y2=\"93.3398\"/><text fill=\"#000000\" font-family=\"sans-serif\" font-size=\"11\" lengthAdjust=\"spacingAndGlyphs\" textLength=\"32\" x=\"49\" y=\"96.6479\">items</text><line style=\"stroke: #383838; stroke-width: 1.0;\" x1=\"81\" x2=\"97\" y1=\"93.3398\" y2=\"93.3398\"/></a><!--MD5=[2720a5a1f2c3fca2055b230370638851]\n",
       "link E2 to E3--><a href=\"psysml:cbc83e8e-35d8-4884-92a4-03d9c321669a\" target=\"_top\" title=\"psysml:cbc83e8e-35d8-4884-92a4-03d9c321669a\" xlink:actuate=\"onRequest\" xlink:href=\"psysml:cbc83e8e-35d8-4884-92a4-03d9c321669a\" xlink:show=\"new\" xlink:title=\"psysml:cbc83e8e-35d8-4884-92a4-03d9c321669a\" xlink:type=\"simple\"><path d=\"M154.06,108.03 C153.36,124.58 152.36,148.04 151.44,169.76 \" fill=\"none\" id=\"E2-&gt;E3\" style=\"stroke: #383838; stroke-width: 1.0;\"/><polygon fill=\"#FFFFFF\" points=\"150.58,189.77,144.4005,170.4875,158.3877,171.0874,150.58,189.77\" style=\"stroke: #383838; stroke-width: 1.0;\"/><ellipse cx=\"146.6429\" cy=\"164.8784\" fill=\"#383838\" rx=\"2\" ry=\"2\" style=\"stroke: #383838; stroke-width: 1.0;\"/><ellipse cx=\"156.6338\" cy=\"165.3069\" fill=\"#383838\" rx=\"2\" ry=\"2\" style=\"stroke: #383838; stroke-width: 1.0;\"/></a><!--MD5=[191cde3d490a3f6d7bb551fe3ddca469]\n",
       "reverse link E3 to E5--><a href=\"psysml:cb0fe327-dda6-4eae-9e46-1ce946f22982\" target=\"_top\" title=\"psysml:cb0fe327-dda6-4eae-9e46-1ce946f22982\" xlink:actuate=\"onRequest\" xlink:href=\"psysml:cb0fe327-dda6-4eae-9e46-1ce946f22982\" xlink:show=\"new\" xlink:title=\"psysml:cb0fe327-dda6-4eae-9e46-1ce946f22982\" xlink:type=\"simple\"><path d=\"M110.75,276.82 C96.95,294.07 82.02,312.72 70.8,326.75 \" fill=\"none\" id=\"E3&lt;-E5\" style=\"stroke: #383838; stroke-width: 1.0;\"/><polygon fill=\"#FFFFFF\" points=\"119.15,266.31,112.2784,268.4964,111.6537,275.6804,118.5253,273.494,119.15,266.31\" style=\"stroke: #383838; stroke-width: 1.0;\"/></a><!--MD5=[14ccda38c055a5c0da953d572bc50960]\n",
       "link E7 to E3--><a href=\"psysml:b2ac9add-d533-4cc3-a1ec-28b279e4ff39\" target=\"_top\" title=\"psysml:b2ac9add-d533-4cc3-a1ec-28b279e4ff39\" xlink:actuate=\"onRequest\" xlink:href=\"psysml:b2ac9add-d533-4cc3-a1ec-28b279e4ff39\" xlink:show=\"new\" xlink:title=\"psysml:b2ac9add-d533-4cc3-a1ec-28b279e4ff39\" xlink:type=\"simple\"><path d=\"M159.74,663.82 C172.72,643.34 189,611.54 189,581 C189,349 189,349 189,349 C189,327.34 183.06,304.56 175.76,284.74 \" fill=\"none\" id=\"E7-&gt;E3\" style=\"stroke: #383838; stroke-width: 1.0;\"/><polygon fill=\"#FFFFFF\" points=\"168.18,266.05,181.8034,281.0301,168.8283,286.2881,168.18,266.05\" style=\"stroke: #383838; stroke-width: 1.0;\"/><ellipse cx=\"182.0906\" cy=\"287.0639\" fill=\"#383838\" rx=\"2\" ry=\"2\" style=\"stroke: #383838; stroke-width: 1.0;\"/><ellipse cx=\"172.8227\" cy=\"290.8196\" fill=\"#383838\" rx=\"2\" ry=\"2\" style=\"stroke: #383838; stroke-width: 1.0;\"/></a><!--MD5=[3f50a3473f1dfb74d3f76443e03635af]\n",
       "reverse link E6 to E7--><a href=\"psysml:7f7b610c-5cf3-4f1d-92e7-984e3817e328\" target=\"_top\" title=\"psysml:7f7b610c-5cf3-4f1d-92e7-984e3817e328\" xlink:actuate=\"onRequest\" xlink:href=\"psysml:7f7b610c-5cf3-4f1d-92e7-984e3817e328\" xlink:show=\"new\" xlink:title=\"psysml:7f7b610c-5cf3-4f1d-92e7-984e3817e328\" xlink:type=\"simple\"><path d=\"M127.34,616.05 C131.08,631.76 135.39,649.82 138.68,663.66 \" fill=\"none\" id=\"E6&lt;-E7\" style=\"stroke: #383838; stroke-width: 1.0;\"/><polygon fill=\"#383838\" points=\"124.24,603.01,121.7406,609.7741,127.023,614.6828,129.5224,607.9187,124.24,603.01\" style=\"stroke: #383838; stroke-width: 1.0;\"/></a><!--MD5=[dfaffb906826c3e5aca635516100ff21]\n",
       "link E5 to E8--><a href=\"psysml:8f4ff897-72ba-4249-b35c-9a7192bde9f3\" target=\"_top\" title=\"psysml:8f4ff897-72ba-4249-b35c-9a7192bde9f3\" xlink:actuate=\"onRequest\" xlink:href=\"psysml:8f4ff897-72ba-4249-b35c-9a7192bde9f3\" xlink:show=\"new\" xlink:title=\"psysml:8f4ff897-72ba-4249-b35c-9a7192bde9f3\" xlink:type=\"simple\"><path d=\"M66.84,373.01 C74.79,385.67 85.02,401.94 94.31,416.72 \" fill=\"none\" id=\"E5-&gt;E8\" style=\"stroke: #383838; stroke-width: 1.0;\"/><polygon fill=\"#FFFFFF\" points=\"104.96,433.66,88.9212,421.3005,100.7735,413.8491,104.96,433.66\" style=\"stroke: #383838; stroke-width: 1.0;\"/><ellipse cx=\"87.5806\" cy=\"415.4104\" fill=\"#383838\" rx=\"2\" ry=\"2\" style=\"stroke: #383838; stroke-width: 1.0;\"/><ellipse cx=\"96.0465\" cy=\"410.088\" fill=\"#383838\" rx=\"2\" ry=\"2\" style=\"stroke: #383838; stroke-width: 1.0;\"/></a><!--MD5=[03c8294790d3c57651a1993cecff665f]\n",
       "reverse link E8 to E3--><a href=\"psysml:44d9af1e-71a6-403b-81da-6292c3b1f2cb\" target=\"_top\" title=\"psysml:44d9af1e-71a6-403b-81da-6292c3b1f2cb\" xlink:actuate=\"onRequest\" xlink:href=\"psysml:44d9af1e-71a6-403b-81da-6292c3b1f2cb\" xlink:show=\"new\" xlink:title=\"psysml:44d9af1e-71a6-403b-81da-6292c3b1f2cb\" xlink:type=\"simple\"><path d=\"M123.65,420.81 C129.2,378.86 138.42,309.06 144.08,266.23 \" fill=\"none\" id=\"E8&lt;-E3\" style=\"stroke: #383838; stroke-width: 1.0;\"/><polygon fill=\"#FFFFFF\" points=\"121.92,433.89,126.6755,428.4692,123.5008,421.9946,118.7453,427.4154,121.92,433.89\" style=\"stroke: #383838; stroke-width: 1.0;\"/><text fill=\"#000000\" font-family=\"sans-serif\" font-size=\"13\" lengthAdjust=\"spacingAndGlyphs\" textLength=\"7\" x=\"136\" y=\"354.5669\">y</text></a><!--MD5=[0d75d2178373a6a4568e5dc728f58aef]\n",
       "reverse link E8 to E6--><a href=\"psysml:44d9af1e-71a6-403b-81da-6292c3b1f2cb\" target=\"_top\" title=\"psysml:44d9af1e-71a6-403b-81da-6292c3b1f2cb\" xlink:actuate=\"onRequest\" xlink:href=\"psysml:44d9af1e-71a6-403b-81da-6292c3b1f2cb\" xlink:show=\"new\" xlink:title=\"psysml:44d9af1e-71a6-403b-81da-6292c3b1f2cb\" xlink:type=\"simple\"><path d=\"M119,493.22 C119,513.81 119,539.16 119,556.95 \" fill=\"none\" id=\"E8&lt;-E6\" style=\"stroke: #383838; stroke-width: 1.0;\"/><polygon fill=\"#FFFFFF\" points=\"119,480.19,115,486.19,119,492.19,123,486.19,119,480.19\" style=\"stroke: #383838; stroke-width: 1.0;\"/><text fill=\"#000000\" font-family=\"sans-serif\" font-size=\"13\" lengthAdjust=\"spacingAndGlyphs\" textLength=\"7\" x=\"120\" y=\"523.0669\">y</text></a><!--MD5=[b66fc2d44ce0be77b017da71f8b897da]\n",
       "@startuml\r\n",
       " skinparam monochrome true\r\n",
       "skinparam classbackgroundcolor white\r\n",
       "skinparam shadowing false\r\n",
       "skinparam wrapWidth 300\r\n",
       "hide circle\r\n",
       "\r\n",
       "package \"ItemTest\" as E1  [[psysml:75fb623a-e350-4a47-9f82-c4d20b2b5b80 ]]  {\r\n",
       "comp usage \"f: A\" as E2  <<(T,blue)item>> [[psysml:d8a17efa-9aba-4cd7-b18a-68f8ed4c599b ]] {\r\n",
       "}\r\n",
       "comp def \"A\" as E3  <<(T,blue)item def>> [[psysml:30552314-ef8a-4f2d-b223-fa6e862cb5b8 ]] {\r\n",
       "- - items - -\r\n",
       "b: B\r\n",
       "}\r\n",
       "comp usage \"c: C\" as E5  <<(T,blue)part>> [[psysml:cb0fe327-dda6-4eae-9e46-1ce946f22982 ]] {\r\n",
       "}\r\n",
       "comp def \"B\" as E6  <<(T,blue)item def>> [[psysml:0c776550-23a6-42b8-908b-320a74e2d4ee ]] {\r\n",
       "}\r\n",
       "comp usage \"a: A\" as E7  <<(T,blue)part>> [[psysml:7f7b610c-5cf3-4f1d-92e7-984e3817e328 ]] {\r\n",
       "}\r\n",
       "comp def \"C\" as E8  <<(T,blue)part def>> [[psysml:3f3cfa4e-9100-4bf2-8dae-183ab53e5ac5 ]] {\r\n",
       "}\r\n",
       "comp def \"P\" as E9  <<(T,blue)port def>> [[psysml:b18b87fb-d7bd-4905-b0cb-818d68f57f75 ]] {\r\n",
       "- - items - -\r\n",
       "a1: A\r\n",
       "a2: A\r\n",
       "}\r\n",
       "E2 - -:|> E3 [[psysml:cbc83e8e-35d8-4884-92a4-03d9c321669a ]] \r\n",
       "E3 o- - E5 [[psysml:cb0fe327-dda6-4eae-9e46-1ce946f22982 ]] \r\n",
       "E7 - -:|> E3 [[psysml:b2ac9add-d533-4cc3-a1ec-28b279e4ff39 ]] \r\n",
       "E6 *- - E7 [[psysml:7f7b610c-5cf3-4f1d-92e7-984e3817e328 ]] \r\n",
       "E5 - -:|> E8 [[psysml:8f4ff897-72ba-4249-b35c-9a7192bde9f3 ]] \r\n",
       "E8 o- - E3 [[psysml:44d9af1e-71a6-403b-81da-6292c3b1f2cb ]] : y\r\n",
       "E8 o- - E6 [[psysml:44d9af1e-71a6-403b-81da-6292c3b1f2cb ]] : y\r\n",
       "}\r\n",
       "@enduml\r\n",
       "\n",
       "PlantUML version 1.2020.13(Sat Jun 13 12:26:38 UTC 2020)\n",
       "(EPL source distribution)\n",
       "Java Runtime: OpenJDK Runtime Environment\n",
       "JVM: OpenJDK 64-Bit Server VM\n",
       "Default Encoding: UTF-8\n",
       "Language: en\n",
       "Country: null\n",
       "--></g></svg>"
      ]
     },
     "execution_count": 3,
     "metadata": {},
     "output_type": "execute_result"
    }
   ],
   "source": [
    "%viz --style=\"COMPTREE\" --view=\"Tree\" \"ItemTest\""
   ]
  },
  {
   "cell_type": "code",
   "execution_count": 4,
   "id": "imperial-stevens",
   "metadata": {
    "execution": {
     "iopub.execute_input": "2021-03-26T12:12:04.394915Z",
     "iopub.status.busy": "2021-03-26T12:12:04.394026Z",
     "iopub.status.idle": "2021-03-26T12:12:04.401553Z",
     "shell.execute_reply": "2021-03-26T12:12:04.401851Z"
    }
   },
   "outputs": [
    {
     "data": {
      "image/svg+xml": [
       "<?xml version=\"1.0\" encoding=\"UTF-8\" standalone=\"no\"?><svg xmlns=\"http://www.w3.org/2000/svg\" xmlns:xlink=\"http://www.w3.org/1999/xlink\" contentScriptType=\"application/ecmascript\" contentStyleType=\"text/css\" height=\"12px\" preserveAspectRatio=\"none\" style=\"width:12px;height:12px;\" version=\"1.1\" viewBox=\"0 0 12 12\" width=\"12px\" zoomAndPan=\"magnify\"><defs/><g><!--MD5=[f19188ef49e11757b5c46753f95d9edc]\n",
       "@startuml\r\n",
       " skinparam monochrome true\r\n",
       "skinparam classbackgroundcolor white\r\n",
       "skinparam shadowing false\r\n",
       "skinparam wrapWidth 300\r\n",
       "hide circle\r\n",
       "\r\n",
       "@enduml\r\n",
       "\n",
       "PlantUML version 1.2020.13(Sat Jun 13 12:26:38 UTC 2020)\n",
       "(EPL source distribution)\n",
       "Java Runtime: OpenJDK Runtime Environment\n",
       "JVM: OpenJDK 64-Bit Server VM\n",
       "Default Encoding: UTF-8\n",
       "Language: en\n",
       "Country: null\n",
       "--></g></svg>"
      ]
     },
     "execution_count": 4,
     "metadata": {},
     "output_type": "execute_result"
    }
   ],
   "source": [
    "%viz --style=\"COMPTREE\" --view=\"State\" \"ItemTest\""
   ]
  },
  {
   "cell_type": "code",
   "execution_count": 5,
   "id": "norwegian-basics",
   "metadata": {
    "execution": {
     "iopub.execute_input": "2021-03-26T12:12:04.453145Z",
     "iopub.status.busy": "2021-03-26T12:12:04.452754Z",
     "iopub.status.idle": "2021-03-26T12:12:04.496873Z",
     "shell.execute_reply": "2021-03-26T12:12:04.497182Z"
    }
   },
   "outputs": [
    {
     "data": {
      "image/svg+xml": [
       "<?xml version=\"1.0\" encoding=\"UTF-8\" standalone=\"no\"?><svg xmlns=\"http://www.w3.org/2000/svg\" xmlns:xlink=\"http://www.w3.org/1999/xlink\" contentScriptType=\"application/ecmascript\" contentStyleType=\"text/css\" height=\"195px\" preserveAspectRatio=\"none\" style=\"width:582px;height:195px;\" version=\"1.1\" viewBox=\"0 0 582 195\" width=\"582px\" zoomAndPan=\"magnify\"><defs/><g><!--MD5=[fbc87193dbaf4d95561dea2c320d4a47]\n",
       "cluster E1--><a href=\"psysml:75fb623a-e350-4a47-9f82-c4d20b2b5b80\" target=\"_top\" title=\"psysml:75fb623a-e350-4a47-9f82-c4d20b2b5b80\" xlink:actuate=\"onRequest\" xlink:href=\"psysml:75fb623a-e350-4a47-9f82-c4d20b2b5b80\" xlink:show=\"new\" xlink:title=\"psysml:75fb623a-e350-4a47-9f82-c4d20b2b5b80\" xlink:type=\"simple\"><polygon fill=\"#FFFFFF\" points=\"16,6,91,6,98,28.2969,560,28.2969,560,183,16,183,16,6\" style=\"stroke: #000000; stroke-width: 1.5;\"/><line style=\"stroke: #000000; stroke-width: 1.5;\" x1=\"16\" x2=\"98\" y1=\"28.2969\" y2=\"28.2969\"/><text fill=\"#000000\" font-family=\"sans-serif\" font-size=\"14\" font-weight=\"bold\" lengthAdjust=\"spacingAndGlyphs\" textLength=\"69\" x=\"20\" y=\"20.9951\">ItemTest</text></a><!--MD5=[de5ec2e2e8f62f467e546659f5068c88]\n",
       "cluster E5--><a href=\"psysml:3f3cfa4e-9100-4bf2-8dae-183ab53e5ac5\" target=\"_top\" title=\"psysml:3f3cfa4e-9100-4bf2-8dae-183ab53e5ac5\" xlink:actuate=\"onRequest\" xlink:href=\"psysml:3f3cfa4e-9100-4bf2-8dae-183ab53e5ac5\" xlink:show=\"new\" xlink:title=\"psysml:3f3cfa4e-9100-4bf2-8dae-183ab53e5ac5\" xlink:type=\"simple\"><rect fill=\"#FFFFFF\" height=\"110\" id=\"E5\" style=\"stroke: #383838; stroke-width: 1.5;\" width=\"114\" x=\"422\" y=\"49\"/><rect fill=\"#F8F8F8\" height=\"37.9375\" style=\"stroke: #383838; stroke-width: 1.5;\" width=\"114\" x=\"422\" y=\"49\"/><text fill=\"#000000\" font-family=\"sans-serif\" font-size=\"12\" font-style=\"italic\" lengthAdjust=\"spacingAndGlyphs\" textLength=\"64\" x=\"447\" y=\"65.1387\">«part def»</text><text fill=\"#000000\" font-family=\"sans-serif\" font-size=\"12\" lengthAdjust=\"spacingAndGlyphs\" textLength=\"8\" x=\"475\" y=\"79.1074\">C</text></a><g id=\"E1.E3\"><a href=\"psysml:30552314-ef8a-4f2d-b223-fa6e862cb5b8\" target=\"_top\" title=\"psysml:30552314-ef8a-4f2d-b223-fa6e862cb5b8\" xlink:actuate=\"onRequest\" xlink:href=\"psysml:30552314-ef8a-4f2d-b223-fa6e862cb5b8\" xlink:show=\"new\" xlink:title=\"psysml:30552314-ef8a-4f2d-b223-fa6e862cb5b8\" xlink:type=\"simple\"><rect fill=\"#FFFFFF\" height=\"42.9375\" id=\"E3\" style=\"stroke: #383838; stroke-width: 1.5;\" width=\"72\" x=\"331\" y=\"100\"/><rect fill=\"#F8F8F8\" height=\"37.9375\" style=\"stroke: #383838; stroke-width: 1.5;\" width=\"72\" x=\"331\" y=\"100\"/><text fill=\"#000000\" font-family=\"sans-serif\" font-size=\"12\" font-style=\"italic\" lengthAdjust=\"spacingAndGlyphs\" textLength=\"65\" x=\"334.5\" y=\"116.1387\">«item def»</text><text fill=\"#000000\" font-family=\"sans-serif\" font-size=\"12\" lengthAdjust=\"spacingAndGlyphs\" textLength=\"8\" x=\"363\" y=\"130.1074\">A</text></a></g><g id=\"E1.E4\"><a href=\"psysml:0c776550-23a6-42b8-908b-320a74e2d4ee\" target=\"_top\" title=\"psysml:0c776550-23a6-42b8-908b-320a74e2d4ee\" xlink:actuate=\"onRequest\" xlink:href=\"psysml:0c776550-23a6-42b8-908b-320a74e2d4ee\" xlink:show=\"new\" xlink:title=\"psysml:0c776550-23a6-42b8-908b-320a74e2d4ee\" xlink:type=\"simple\"><rect fill=\"#FFFFFF\" height=\"42.9375\" id=\"E4\" style=\"stroke: #383838; stroke-width: 1.5;\" width=\"72\" x=\"224\" y=\"100\"/><rect fill=\"#F8F8F8\" height=\"37.9375\" style=\"stroke: #383838; stroke-width: 1.5;\" width=\"72\" x=\"224\" y=\"100\"/><text fill=\"#000000\" font-family=\"sans-serif\" font-size=\"12\" font-style=\"italic\" lengthAdjust=\"spacingAndGlyphs\" textLength=\"65\" x=\"227.5\" y=\"116.1387\">«item def»</text><text fill=\"#000000\" font-family=\"sans-serif\" font-size=\"12\" lengthAdjust=\"spacingAndGlyphs\" textLength=\"8\" x=\"256\" y=\"130.1074\">B</text></a></g><g id=\"E1.E7\"><a href=\"psysml:b18b87fb-d7bd-4905-b0cb-818d68f57f75\" target=\"_top\" title=\"psysml:b18b87fb-d7bd-4905-b0cb-818d68f57f75\" xlink:actuate=\"onRequest\" xlink:href=\"psysml:b18b87fb-d7bd-4905-b0cb-818d68f57f75\" xlink:show=\"new\" xlink:title=\"psysml:b18b87fb-d7bd-4905-b0cb-818d68f57f75\" xlink:type=\"simple\"><rect fill=\"#FFFFFF\" height=\"42.9375\" id=\"E7\" style=\"stroke: #383838; stroke-width: 1.5;\" width=\"71\" x=\"117.5\" y=\"100\"/><rect fill=\"#F8F8F8\" height=\"37.9375\" style=\"stroke: #383838; stroke-width: 1.5;\" width=\"71\" x=\"117.5\" y=\"100\"/><text fill=\"#000000\" font-family=\"sans-serif\" font-size=\"12\" font-style=\"italic\" lengthAdjust=\"spacingAndGlyphs\" textLength=\"64\" x=\"121\" y=\"116.1387\">«port def»</text><text fill=\"#000000\" font-family=\"sans-serif\" font-size=\"12\" lengthAdjust=\"spacingAndGlyphs\" textLength=\"8\" x=\"149\" y=\"130.1074\">P</text></a></g><g id=\"E1.E2\"><a href=\"psysml:d8a17efa-9aba-4cd7-b18a-68f8ed4c599b\" target=\"_top\" title=\"psysml:d8a17efa-9aba-4cd7-b18a-68f8ed4c599b\" xlink:actuate=\"onRequest\" xlink:href=\"psysml:d8a17efa-9aba-4cd7-b18a-68f8ed4c599b\" xlink:show=\"new\" xlink:title=\"psysml:d8a17efa-9aba-4cd7-b18a-68f8ed4c599b\" xlink:type=\"simple\"><rect fill=\"#FFFFFF\" height=\"42.9375\" id=\"E2\" rx=\"10\" ry=\"10\" style=\"stroke: #383838; stroke-width: 1.5;\" width=\"50\" x=\"32\" y=\"100\"/><rect fill=\"#F8F8F8\" height=\"37.9375\" rx=\"10\" ry=\"10\" style=\"stroke: #F8F8F8; stroke-width: 1.5;\" width=\"50\" x=\"32\" y=\"100\"/><rect fill=\"#F8F8F8\" height=\"10\" style=\"stroke: #F8F8F8; stroke-width: 1.5;\" width=\"50\" x=\"32\" y=\"127.9375\"/><rect fill=\"none\" height=\"42.9375\" id=\"E2\" rx=\"10\" ry=\"10\" style=\"stroke: #383838; stroke-width: 1.5;\" width=\"50\" x=\"32\" y=\"100\"/><text fill=\"#000000\" font-family=\"sans-serif\" font-size=\"12\" font-style=\"italic\" lengthAdjust=\"spacingAndGlyphs\" textLength=\"41\" x=\"36.5\" y=\"116.1387\">«item»</text><text fill=\"#000000\" font-family=\"sans-serif\" font-size=\"12\" lengthAdjust=\"spacingAndGlyphs\" textLength=\"20\" x=\"47\" y=\"130.1074\">f: A</text></a></g><g id=\"E1.E5.E6\"><a href=\"psysml:44d9af1e-71a6-403b-81da-6292c3b1f2cb\" target=\"_top\" title=\"psysml:44d9af1e-71a6-403b-81da-6292c3b1f2cb\" xlink:actuate=\"onRequest\" xlink:href=\"psysml:44d9af1e-71a6-403b-81da-6292c3b1f2cb\" xlink:show=\"new\" xlink:title=\"psysml:44d9af1e-71a6-403b-81da-6292c3b1f2cb\" xlink:type=\"simple\"><rect fill=\"#FFFFFF\" height=\"42.9375\" id=\"E6\" rx=\"10\" ry=\"10\" style=\"stroke: #383838; stroke-width: 1.5;\" width=\"82\" x=\"438\" y=\"100\"/><rect fill=\"#F8F8F8\" height=\"37.9375\" rx=\"10\" ry=\"10\" style=\"stroke: #F8F8F8; stroke-width: 1.5;\" width=\"82\" x=\"438\" y=\"100\"/><rect fill=\"#F8F8F8\" height=\"10\" style=\"stroke: #F8F8F8; stroke-width: 1.5;\" width=\"82\" x=\"438\" y=\"127.9375\"/><rect fill=\"none\" height=\"42.9375\" id=\"E6\" rx=\"10\" ry=\"10\" style=\"stroke: #383838; stroke-width: 1.5;\" width=\"82\" x=\"438\" y=\"100\"/><text fill=\"#000000\" font-family=\"sans-serif\" font-size=\"12\" font-style=\"italic\" lengthAdjust=\"spacingAndGlyphs\" textLength=\"75\" x=\"441.5\" y=\"116.1387\">«reference»</text><text fill=\"#000000\" font-family=\"sans-serif\" font-size=\"12\" lengthAdjust=\"spacingAndGlyphs\" textLength=\"38\" x=\"460\" y=\"130.1074\">y: A, B</text></a></g><!--MD5=[855bad6776be4e0de1d036ce8b65a132]\n",
       "@startuml\r\n",
       "skinparam ranksep 8\r\n",
       "skinparam rectangle {\r\n",
       " backgroundColor<<block>> LightGreen\r\n",
       "}\r\n",
       " skinparam monochrome true\r\n",
       "skinparam classbackgroundcolor white\r\n",
       "skinparam shadowing false\r\n",
       "skinparam wrapWidth 300\r\n",
       "hide circle\r\n",
       "\r\n",
       "package \"ItemTest\" as E1  [[psysml:75fb623a-e350-4a47-9f82-c4d20b2b5b80 ]]  {\r\n",
       "rec usage \"f: A\" as E2  <<(T,blue)item>> [[psysml:d8a17efa-9aba-4cd7-b18a-68f8ed4c599b ]] {\r\n",
       "}\r\n",
       "def \"A\" as E3  <<(T,blue)item def>> [[psysml:30552314-ef8a-4f2d-b223-fa6e862cb5b8 ]] \r\n",
       "def \"B\" as E4  <<(T,blue)item def>> [[psysml:0c776550-23a6-42b8-908b-320a74e2d4ee ]] \r\n",
       "rec def \"C\" as E5  <<(T,blue)part def>> [[psysml:3f3cfa4e-9100-4bf2-8dae-183ab53e5ac5 ]] {\r\n",
       "rec usage \"y: A, B\" as E6  <<(T,blue)reference>> [[psysml:44d9af1e-71a6-403b-81da-6292c3b1f2cb ]] {\r\n",
       "}\r\n",
       "}\r\n",
       "def \"P\" as E7  <<(T,blue)port def>> [[psysml:b18b87fb-d7bd-4905-b0cb-818d68f57f75 ]] \r\n",
       "}\r\n",
       "@enduml\r\n",
       "\n",
       "PlantUML version 1.2020.13(Sat Jun 13 12:26:38 UTC 2020)\n",
       "(EPL source distribution)\n",
       "Java Runtime: OpenJDK Runtime Environment\n",
       "JVM: OpenJDK 64-Bit Server VM\n",
       "Default Encoding: UTF-8\n",
       "Language: en\n",
       "Country: null\n",
       "--></g></svg>"
      ]
     },
     "execution_count": 5,
     "metadata": {},
     "output_type": "execute_result"
    }
   ],
   "source": [
    "%viz --style=\"COMPTREE\" --view=\"Interconnection\" \"ItemTest\""
   ]
  },
  {
   "cell_type": "code",
   "execution_count": 6,
   "id": "designed-amount",
   "metadata": {
    "execution": {
     "iopub.execute_input": "2021-03-26T12:12:04.548703Z",
     "iopub.status.busy": "2021-03-26T12:12:04.548183Z",
     "iopub.status.idle": "2021-03-26T12:12:04.555829Z",
     "shell.execute_reply": "2021-03-26T12:12:04.556171Z"
    }
   },
   "outputs": [
    {
     "data": {
      "image/svg+xml": [
       "<?xml version=\"1.0\" encoding=\"UTF-8\" standalone=\"no\"?><svg xmlns=\"http://www.w3.org/2000/svg\" xmlns:xlink=\"http://www.w3.org/1999/xlink\" contentScriptType=\"application/ecmascript\" contentStyleType=\"text/css\" height=\"12px\" preserveAspectRatio=\"none\" style=\"width:12px;height:12px;\" version=\"1.1\" viewBox=\"0 0 12 12\" width=\"12px\" zoomAndPan=\"magnify\"><defs/><g><!--MD5=[655b888544ca4751ea36af1068543f84]\n",
       "@startuml\r\n",
       "skinparam ranksep 8\r\n",
       " skinparam monochrome true\r\n",
       "skinparam classbackgroundcolor white\r\n",
       "skinparam shadowing false\r\n",
       "skinparam wrapWidth 300\r\n",
       "hide circle\r\n",
       "\r\n",
       "@enduml\r\n",
       "\n",
       "PlantUML version 1.2020.13(Sat Jun 13 12:26:38 UTC 2020)\n",
       "(EPL source distribution)\n",
       "Java Runtime: OpenJDK Runtime Environment\n",
       "JVM: OpenJDK 64-Bit Server VM\n",
       "Default Encoding: UTF-8\n",
       "Language: en\n",
       "Country: null\n",
       "--></g></svg>"
      ]
     },
     "execution_count": 6,
     "metadata": {},
     "output_type": "execute_result"
    }
   ],
   "source": [
    "%viz --style=\"COMPTREE\" --view=\"Action\" \"ItemTest\""
   ]
  },
  {
   "cell_type": "code",
   "execution_count": 7,
   "id": "instrumental-crowd",
   "metadata": {
    "execution": {
     "iopub.execute_input": "2021-03-26T12:12:04.607560Z",
     "iopub.status.busy": "2021-03-26T12:12:04.607057Z",
     "iopub.status.idle": "2021-03-26T12:12:04.702958Z",
     "shell.execute_reply": "2021-03-26T12:12:04.703354Z"
    }
   },
   "outputs": [
    {
     "data": {
      "image/svg+xml": [
       "<?xml version=\"1.0\" encoding=\"UTF-8\" standalone=\"no\"?><svg xmlns=\"http://www.w3.org/2000/svg\" xmlns:xlink=\"http://www.w3.org/1999/xlink\" contentScriptType=\"application/ecmascript\" contentStyleType=\"text/css\" height=\"738px\" preserveAspectRatio=\"none\" style=\"width:228px;height:738px;\" version=\"1.1\" viewBox=\"0 0 228 738\" width=\"228px\" zoomAndPan=\"magnify\"><defs/><g><!--MD5=[fbc87193dbaf4d95561dea2c320d4a47]\n",
       "cluster E1--><a href=\"psysml:75fb623a-e350-4a47-9f82-c4d20b2b5b80\" target=\"_top\" title=\"psysml:75fb623a-e350-4a47-9f82-c4d20b2b5b80\" xlink:actuate=\"onRequest\" xlink:href=\"psysml:75fb623a-e350-4a47-9f82-c4d20b2b5b80\" xlink:show=\"new\" xlink:title=\"psysml:75fb623a-e350-4a47-9f82-c4d20b2b5b80\" xlink:type=\"simple\"><polygon fill=\"#FFFFFF\" points=\"16,6,91,6,98,28.2969,206,28.2969,206,726,16,726,16,6\" style=\"stroke: #000000; stroke-width: 1.5;\"/><line style=\"stroke: #000000; stroke-width: 1.5;\" x1=\"16\" x2=\"98\" y1=\"28.2969\" y2=\"28.2969\"/><text fill=\"#000000\" font-family=\"sans-serif\" font-size=\"14\" font-weight=\"bold\" lengthAdjust=\"spacingAndGlyphs\" textLength=\"69\" x=\"20\" y=\"20.9951\">ItemTest</text></a><!--MD5=[b4997ac47864f28c2f74865a473b2911]\n",
       "class E2--><a href=\"psysml:d8a17efa-9aba-4cd7-b18a-68f8ed4c599b\" target=\"_top\" title=\"psysml:d8a17efa-9aba-4cd7-b18a-68f8ed4c599b\" xlink:actuate=\"onRequest\" xlink:href=\"psysml:d8a17efa-9aba-4cd7-b18a-68f8ed4c599b\" xlink:show=\"new\" xlink:title=\"psysml:d8a17efa-9aba-4cd7-b18a-68f8ed4c599b\" xlink:type=\"simple\"><rect fill=\"#FFFFFF\" height=\"45.9375\" id=\"E2\" rx=\"10\" ry=\"10\" style=\"stroke: #383838; stroke-width: 1.5;\" width=\"43\" x=\"133.5\" y=\"62\"/><text fill=\"#000000\" font-family=\"sans-serif\" font-size=\"12\" font-style=\"italic\" lengthAdjust=\"spacingAndGlyphs\" textLength=\"41\" x=\"134.5\" y=\"78.1387\">«item»</text><text fill=\"#000000\" font-family=\"sans-serif\" font-size=\"12\" lengthAdjust=\"spacingAndGlyphs\" textLength=\"20\" x=\"145\" y=\"92.1074\">f: A</text><line style=\"stroke: #383838; stroke-width: 1.5;\" x1=\"134.5\" x2=\"175.5\" y1=\"99.9375\" y2=\"99.9375\"/></a><!--MD5=[09b614a08d8cba4a07c9adeb5e0fee81]\n",
       "class E3--><a href=\"psysml:30552314-ef8a-4f2d-b223-fa6e862cb5b8\" target=\"_top\" title=\"psysml:30552314-ef8a-4f2d-b223-fa6e862cb5b8\" xlink:actuate=\"onRequest\" xlink:href=\"psysml:30552314-ef8a-4f2d-b223-fa6e862cb5b8\" xlink:show=\"new\" xlink:title=\"psysml:30552314-ef8a-4f2d-b223-fa6e862cb5b8\" xlink:type=\"simple\"><rect fill=\"#FFFFFF\" height=\"75.5469\" id=\"E3\" style=\"stroke: #383838; stroke-width: 1.5;\" width=\"67\" x=\"115.5\" y=\"190\"/><text fill=\"#000000\" font-family=\"sans-serif\" font-size=\"12\" font-style=\"italic\" lengthAdjust=\"spacingAndGlyphs\" textLength=\"65\" x=\"116.5\" y=\"206.1387\">«item def»</text><text fill=\"#000000\" font-family=\"sans-serif\" font-size=\"12\" lengthAdjust=\"spacingAndGlyphs\" textLength=\"8\" x=\"145\" y=\"220.1074\">A</text><line style=\"stroke: #383838; stroke-width: 1.5;\" x1=\"116.5\" x2=\"181.5\" y1=\"227.9375\" y2=\"227.9375\"/><text fill=\"#000000\" font-family=\"sans-serif\" font-size=\"11\" lengthAdjust=\"spacingAndGlyphs\" textLength=\"23\" x=\"121.5\" y=\"258.9526\">b: B</text><line style=\"stroke: #383838; stroke-width: 1.0;\" x1=\"116.5\" x2=\"133\" y1=\"242.3398\" y2=\"242.3398\"/><text fill=\"#000000\" font-family=\"sans-serif\" font-size=\"11\" lengthAdjust=\"spacingAndGlyphs\" textLength=\"32\" x=\"133\" y=\"245.6479\">items</text><line style=\"stroke: #383838; stroke-width: 1.0;\" x1=\"165\" x2=\"181.5\" y1=\"242.3398\" y2=\"242.3398\"/></a><!--MD5=[270fce915f116d4de14055a7c1d9a0f3]\n",
       "class E5--><a href=\"psysml:cb0fe327-dda6-4eae-9e46-1ce946f22982\" target=\"_top\" title=\"psysml:cb0fe327-dda6-4eae-9e46-1ce946f22982\" xlink:actuate=\"onRequest\" xlink:href=\"psysml:cb0fe327-dda6-4eae-9e46-1ce946f22982\" xlink:show=\"new\" xlink:title=\"psysml:cb0fe327-dda6-4eae-9e46-1ce946f22982\" xlink:type=\"simple\"><rect fill=\"#FFFFFF\" height=\"45.9375\" id=\"E5\" rx=\"10\" ry=\"10\" style=\"stroke: #383838; stroke-width: 1.5;\" width=\"42\" x=\"32\" y=\"327\"/><text fill=\"#000000\" font-family=\"sans-serif\" font-size=\"12\" font-style=\"italic\" lengthAdjust=\"spacingAndGlyphs\" textLength=\"40\" x=\"33\" y=\"343.1387\">«part»</text><text fill=\"#000000\" font-family=\"sans-serif\" font-size=\"12\" lengthAdjust=\"spacingAndGlyphs\" textLength=\"23\" x=\"41.5\" y=\"357.1074\">c: C</text><line style=\"stroke: #383838; stroke-width: 1.5;\" x1=\"33\" x2=\"73\" y1=\"364.9375\" y2=\"364.9375\"/></a><!--MD5=[60a26617385b1d2d0262a64233df1f8d]\n",
       "class E6--><a href=\"psysml:0c776550-23a6-42b8-908b-320a74e2d4ee\" target=\"_top\" title=\"psysml:0c776550-23a6-42b8-908b-320a74e2d4ee\" xlink:actuate=\"onRequest\" xlink:href=\"psysml:0c776550-23a6-42b8-908b-320a74e2d4ee\" xlink:show=\"new\" xlink:title=\"psysml:0c776550-23a6-42b8-908b-320a74e2d4ee\" xlink:type=\"simple\"><rect fill=\"#FFFFFF\" height=\"45.9375\" id=\"E6\" style=\"stroke: #383838; stroke-width: 1.5;\" width=\"67\" x=\"85.5\" y=\"557\"/><text fill=\"#000000\" font-family=\"sans-serif\" font-size=\"12\" font-style=\"italic\" lengthAdjust=\"spacingAndGlyphs\" textLength=\"65\" x=\"86.5\" y=\"573.1387\">«item def»</text><text fill=\"#000000\" font-family=\"sans-serif\" font-size=\"12\" lengthAdjust=\"spacingAndGlyphs\" textLength=\"8\" x=\"115\" y=\"587.1074\">B</text><line style=\"stroke: #383838; stroke-width: 1.5;\" x1=\"86.5\" x2=\"151.5\" y1=\"594.9375\" y2=\"594.9375\"/></a><!--MD5=[2156ba9850f5573cc1fc38a6a4b2f02b]\n",
       "class E7--><a href=\"psysml:7f7b610c-5cf3-4f1d-92e7-984e3817e328\" target=\"_top\" title=\"psysml:7f7b610c-5cf3-4f1d-92e7-984e3817e328\" xlink:actuate=\"onRequest\" xlink:href=\"psysml:7f7b610c-5cf3-4f1d-92e7-984e3817e328\" xlink:show=\"new\" xlink:title=\"psysml:7f7b610c-5cf3-4f1d-92e7-984e3817e328\" xlink:type=\"simple\"><rect fill=\"#FFFFFF\" height=\"45.9375\" id=\"E7\" rx=\"10\" ry=\"10\" style=\"stroke: #383838; stroke-width: 1.5;\" width=\"42\" x=\"123\" y=\"664\"/><text fill=\"#000000\" font-family=\"sans-serif\" font-size=\"12\" font-style=\"italic\" lengthAdjust=\"spacingAndGlyphs\" textLength=\"40\" x=\"124\" y=\"680.1387\">«part»</text><text fill=\"#000000\" font-family=\"sans-serif\" font-size=\"12\" lengthAdjust=\"spacingAndGlyphs\" textLength=\"24\" x=\"132\" y=\"694.1074\">a: A</text><line style=\"stroke: #383838; stroke-width: 1.5;\" x1=\"124\" x2=\"164\" y1=\"701.9375\" y2=\"701.9375\"/></a><!--MD5=[b9389687b975829384b498ac4b7476b2]\n",
       "class E8--><a href=\"psysml:3f3cfa4e-9100-4bf2-8dae-183ab53e5ac5\" target=\"_top\" title=\"psysml:3f3cfa4e-9100-4bf2-8dae-183ab53e5ac5\" xlink:actuate=\"onRequest\" xlink:href=\"psysml:3f3cfa4e-9100-4bf2-8dae-183ab53e5ac5\" xlink:show=\"new\" xlink:title=\"psysml:3f3cfa4e-9100-4bf2-8dae-183ab53e5ac5\" xlink:type=\"simple\"><rect fill=\"#FFFFFF\" height=\"45.9375\" id=\"E8\" style=\"stroke: #383838; stroke-width: 1.5;\" width=\"66\" x=\"86\" y=\"434\"/><text fill=\"#000000\" font-family=\"sans-serif\" font-size=\"12\" font-style=\"italic\" lengthAdjust=\"spacingAndGlyphs\" textLength=\"64\" x=\"87\" y=\"450.1387\">«part def»</text><text fill=\"#000000\" font-family=\"sans-serif\" font-size=\"12\" lengthAdjust=\"spacingAndGlyphs\" textLength=\"8\" x=\"115\" y=\"464.1074\">C</text><line style=\"stroke: #383838; stroke-width: 1.5;\" x1=\"87\" x2=\"151\" y1=\"471.9375\" y2=\"471.9375\"/></a><!--MD5=[fd4143e9d270a159db93a4ea2a975926]\n",
       "class E9--><a href=\"psysml:b18b87fb-d7bd-4905-b0cb-818d68f57f75\" target=\"_top\" title=\"psysml:b18b87fb-d7bd-4905-b0cb-818d68f57f75\" xlink:actuate=\"onRequest\" xlink:href=\"psysml:b18b87fb-d7bd-4905-b0cb-818d68f57f75\" xlink:show=\"new\" xlink:title=\"psysml:b18b87fb-d7bd-4905-b0cb-818d68f57f75\" xlink:type=\"simple\"><rect fill=\"#FFFFFF\" height=\"88.3516\" id=\"E9\" style=\"stroke: #383838; stroke-width: 1.5;\" width=\"66\" x=\"32\" y=\"41\"/><text fill=\"#000000\" font-family=\"sans-serif\" font-size=\"12\" font-style=\"italic\" lengthAdjust=\"spacingAndGlyphs\" textLength=\"64\" x=\"33\" y=\"57.1387\">«port def»</text><text fill=\"#000000\" font-family=\"sans-serif\" font-size=\"12\" lengthAdjust=\"spacingAndGlyphs\" textLength=\"8\" x=\"61\" y=\"71.1074\">P</text><line style=\"stroke: #383838; stroke-width: 1.5;\" x1=\"33\" x2=\"97\" y1=\"78.9375\" y2=\"78.9375\"/><text fill=\"#000000\" font-family=\"sans-serif\" font-size=\"11\" lengthAdjust=\"spacingAndGlyphs\" textLength=\"29\" x=\"38\" y=\"109.9526\">a1: A</text><text fill=\"#000000\" font-family=\"sans-serif\" font-size=\"11\" lengthAdjust=\"spacingAndGlyphs\" textLength=\"29\" x=\"38\" y=\"122.7573\">a2: A</text><line style=\"stroke: #383838; stroke-width: 1.0;\" x1=\"33\" x2=\"49\" y1=\"93.3398\" y2=\"93.3398\"/><text fill=\"#000000\" font-family=\"sans-serif\" font-size=\"11\" lengthAdjust=\"spacingAndGlyphs\" textLength=\"32\" x=\"49\" y=\"96.6479\">items</text><line style=\"stroke: #383838; stroke-width: 1.0;\" x1=\"81\" x2=\"97\" y1=\"93.3398\" y2=\"93.3398\"/></a><!--MD5=[2720a5a1f2c3fca2055b230370638851]\n",
       "link E2 to E3--><a href=\"psysml:cbc83e8e-35d8-4884-92a4-03d9c321669a\" target=\"_top\" title=\"psysml:cbc83e8e-35d8-4884-92a4-03d9c321669a\" xlink:actuate=\"onRequest\" xlink:href=\"psysml:cbc83e8e-35d8-4884-92a4-03d9c321669a\" xlink:show=\"new\" xlink:title=\"psysml:cbc83e8e-35d8-4884-92a4-03d9c321669a\" xlink:type=\"simple\"><path d=\"M154.06,108.03 C153.36,124.58 152.36,148.04 151.44,169.76 \" fill=\"none\" id=\"E2-&gt;E3\" style=\"stroke: #383838; stroke-width: 1.0;\"/><polygon fill=\"#FFFFFF\" points=\"150.58,189.77,144.4005,170.4875,158.3877,171.0874,150.58,189.77\" style=\"stroke: #383838; stroke-width: 1.0;\"/><ellipse cx=\"146.6429\" cy=\"164.8784\" fill=\"#383838\" rx=\"2\" ry=\"2\" style=\"stroke: #383838; stroke-width: 1.0;\"/><ellipse cx=\"156.6338\" cy=\"165.3069\" fill=\"#383838\" rx=\"2\" ry=\"2\" style=\"stroke: #383838; stroke-width: 1.0;\"/></a><!--MD5=[191cde3d490a3f6d7bb551fe3ddca469]\n",
       "reverse link E3 to E5--><a href=\"psysml:cb0fe327-dda6-4eae-9e46-1ce946f22982\" target=\"_top\" title=\"psysml:cb0fe327-dda6-4eae-9e46-1ce946f22982\" xlink:actuate=\"onRequest\" xlink:href=\"psysml:cb0fe327-dda6-4eae-9e46-1ce946f22982\" xlink:show=\"new\" xlink:title=\"psysml:cb0fe327-dda6-4eae-9e46-1ce946f22982\" xlink:type=\"simple\"><path d=\"M110.75,276.82 C96.95,294.07 82.02,312.72 70.8,326.75 \" fill=\"none\" id=\"E3&lt;-E5\" style=\"stroke: #383838; stroke-width: 1.0;\"/><polygon fill=\"#FFFFFF\" points=\"119.15,266.31,112.2784,268.4964,111.6537,275.6804,118.5253,273.494,119.15,266.31\" style=\"stroke: #383838; stroke-width: 1.0;\"/></a><!--MD5=[14ccda38c055a5c0da953d572bc50960]\n",
       "link E7 to E3--><a href=\"psysml:b2ac9add-d533-4cc3-a1ec-28b279e4ff39\" target=\"_top\" title=\"psysml:b2ac9add-d533-4cc3-a1ec-28b279e4ff39\" xlink:actuate=\"onRequest\" xlink:href=\"psysml:b2ac9add-d533-4cc3-a1ec-28b279e4ff39\" xlink:show=\"new\" xlink:title=\"psysml:b2ac9add-d533-4cc3-a1ec-28b279e4ff39\" xlink:type=\"simple\"><path d=\"M159.74,663.82 C172.72,643.34 189,611.54 189,581 C189,349 189,349 189,349 C189,327.34 183.06,304.56 175.76,284.74 \" fill=\"none\" id=\"E7-&gt;E3\" style=\"stroke: #383838; stroke-width: 1.0;\"/><polygon fill=\"#FFFFFF\" points=\"168.18,266.05,181.8034,281.0301,168.8283,286.2881,168.18,266.05\" style=\"stroke: #383838; stroke-width: 1.0;\"/><ellipse cx=\"182.0906\" cy=\"287.0639\" fill=\"#383838\" rx=\"2\" ry=\"2\" style=\"stroke: #383838; stroke-width: 1.0;\"/><ellipse cx=\"172.8227\" cy=\"290.8196\" fill=\"#383838\" rx=\"2\" ry=\"2\" style=\"stroke: #383838; stroke-width: 1.0;\"/></a><!--MD5=[3f50a3473f1dfb74d3f76443e03635af]\n",
       "reverse link E6 to E7--><a href=\"psysml:7f7b610c-5cf3-4f1d-92e7-984e3817e328\" target=\"_top\" title=\"psysml:7f7b610c-5cf3-4f1d-92e7-984e3817e328\" xlink:actuate=\"onRequest\" xlink:href=\"psysml:7f7b610c-5cf3-4f1d-92e7-984e3817e328\" xlink:show=\"new\" xlink:title=\"psysml:7f7b610c-5cf3-4f1d-92e7-984e3817e328\" xlink:type=\"simple\"><path d=\"M127.34,616.05 C131.08,631.76 135.39,649.82 138.68,663.66 \" fill=\"none\" id=\"E6&lt;-E7\" style=\"stroke: #383838; stroke-width: 1.0;\"/><polygon fill=\"#383838\" points=\"124.24,603.01,121.7406,609.7741,127.023,614.6828,129.5224,607.9187,124.24,603.01\" style=\"stroke: #383838; stroke-width: 1.0;\"/></a><!--MD5=[dfaffb906826c3e5aca635516100ff21]\n",
       "link E5 to E8--><a href=\"psysml:8f4ff897-72ba-4249-b35c-9a7192bde9f3\" target=\"_top\" title=\"psysml:8f4ff897-72ba-4249-b35c-9a7192bde9f3\" xlink:actuate=\"onRequest\" xlink:href=\"psysml:8f4ff897-72ba-4249-b35c-9a7192bde9f3\" xlink:show=\"new\" xlink:title=\"psysml:8f4ff897-72ba-4249-b35c-9a7192bde9f3\" xlink:type=\"simple\"><path d=\"M66.84,373.01 C74.79,385.67 85.02,401.94 94.31,416.72 \" fill=\"none\" id=\"E5-&gt;E8\" style=\"stroke: #383838; stroke-width: 1.0;\"/><polygon fill=\"#FFFFFF\" points=\"104.96,433.66,88.9212,421.3005,100.7735,413.8491,104.96,433.66\" style=\"stroke: #383838; stroke-width: 1.0;\"/><ellipse cx=\"87.5806\" cy=\"415.4104\" fill=\"#383838\" rx=\"2\" ry=\"2\" style=\"stroke: #383838; stroke-width: 1.0;\"/><ellipse cx=\"96.0465\" cy=\"410.088\" fill=\"#383838\" rx=\"2\" ry=\"2\" style=\"stroke: #383838; stroke-width: 1.0;\"/></a><!--MD5=[03c8294790d3c57651a1993cecff665f]\n",
       "reverse link E8 to E3--><a href=\"psysml:44d9af1e-71a6-403b-81da-6292c3b1f2cb\" target=\"_top\" title=\"psysml:44d9af1e-71a6-403b-81da-6292c3b1f2cb\" xlink:actuate=\"onRequest\" xlink:href=\"psysml:44d9af1e-71a6-403b-81da-6292c3b1f2cb\" xlink:show=\"new\" xlink:title=\"psysml:44d9af1e-71a6-403b-81da-6292c3b1f2cb\" xlink:type=\"simple\"><path d=\"M123.65,420.81 C129.2,378.86 138.42,309.06 144.08,266.23 \" fill=\"none\" id=\"E8&lt;-E3\" style=\"stroke: #383838; stroke-width: 1.0;\"/><polygon fill=\"#FFFFFF\" points=\"121.92,433.89,126.6755,428.4692,123.5008,421.9946,118.7453,427.4154,121.92,433.89\" style=\"stroke: #383838; stroke-width: 1.0;\"/><text fill=\"#000000\" font-family=\"sans-serif\" font-size=\"13\" lengthAdjust=\"spacingAndGlyphs\" textLength=\"7\" x=\"136\" y=\"354.5669\">y</text></a><!--MD5=[0d75d2178373a6a4568e5dc728f58aef]\n",
       "reverse link E8 to E6--><a href=\"psysml:44d9af1e-71a6-403b-81da-6292c3b1f2cb\" target=\"_top\" title=\"psysml:44d9af1e-71a6-403b-81da-6292c3b1f2cb\" xlink:actuate=\"onRequest\" xlink:href=\"psysml:44d9af1e-71a6-403b-81da-6292c3b1f2cb\" xlink:show=\"new\" xlink:title=\"psysml:44d9af1e-71a6-403b-81da-6292c3b1f2cb\" xlink:type=\"simple\"><path d=\"M119,493.22 C119,513.81 119,539.16 119,556.95 \" fill=\"none\" id=\"E8&lt;-E6\" style=\"stroke: #383838; stroke-width: 1.0;\"/><polygon fill=\"#FFFFFF\" points=\"119,480.19,115,486.19,119,492.19,123,486.19,119,480.19\" style=\"stroke: #383838; stroke-width: 1.0;\"/><text fill=\"#000000\" font-family=\"sans-serif\" font-size=\"13\" lengthAdjust=\"spacingAndGlyphs\" textLength=\"7\" x=\"120\" y=\"523.0669\">y</text></a><!--MD5=[b66fc2d44ce0be77b017da71f8b897da]\n",
       "@startuml\r\n",
       " skinparam monochrome true\r\n",
       "skinparam classbackgroundcolor white\r\n",
       "skinparam shadowing false\r\n",
       "skinparam wrapWidth 300\r\n",
       "hide circle\r\n",
       "\r\n",
       "package \"ItemTest\" as E1  [[psysml:75fb623a-e350-4a47-9f82-c4d20b2b5b80 ]]  {\r\n",
       "comp usage \"f: A\" as E2  <<(T,blue)item>> [[psysml:d8a17efa-9aba-4cd7-b18a-68f8ed4c599b ]] {\r\n",
       "}\r\n",
       "comp def \"A\" as E3  <<(T,blue)item def>> [[psysml:30552314-ef8a-4f2d-b223-fa6e862cb5b8 ]] {\r\n",
       "- - items - -\r\n",
       "b: B\r\n",
       "}\r\n",
       "comp usage \"c: C\" as E5  <<(T,blue)part>> [[psysml:cb0fe327-dda6-4eae-9e46-1ce946f22982 ]] {\r\n",
       "}\r\n",
       "comp def \"B\" as E6  <<(T,blue)item def>> [[psysml:0c776550-23a6-42b8-908b-320a74e2d4ee ]] {\r\n",
       "}\r\n",
       "comp usage \"a: A\" as E7  <<(T,blue)part>> [[psysml:7f7b610c-5cf3-4f1d-92e7-984e3817e328 ]] {\r\n",
       "}\r\n",
       "comp def \"C\" as E8  <<(T,blue)part def>> [[psysml:3f3cfa4e-9100-4bf2-8dae-183ab53e5ac5 ]] {\r\n",
       "}\r\n",
       "comp def \"P\" as E9  <<(T,blue)port def>> [[psysml:b18b87fb-d7bd-4905-b0cb-818d68f57f75 ]] {\r\n",
       "- - items - -\r\n",
       "a1: A\r\n",
       "a2: A\r\n",
       "}\r\n",
       "E2 - -:|> E3 [[psysml:cbc83e8e-35d8-4884-92a4-03d9c321669a ]] \r\n",
       "E3 o- - E5 [[psysml:cb0fe327-dda6-4eae-9e46-1ce946f22982 ]] \r\n",
       "E7 - -:|> E3 [[psysml:b2ac9add-d533-4cc3-a1ec-28b279e4ff39 ]] \r\n",
       "E6 *- - E7 [[psysml:7f7b610c-5cf3-4f1d-92e7-984e3817e328 ]] \r\n",
       "E5 - -:|> E8 [[psysml:8f4ff897-72ba-4249-b35c-9a7192bde9f3 ]] \r\n",
       "E8 o- - E3 [[psysml:44d9af1e-71a6-403b-81da-6292c3b1f2cb ]] : y\r\n",
       "E8 o- - E6 [[psysml:44d9af1e-71a6-403b-81da-6292c3b1f2cb ]] : y\r\n",
       "}\r\n",
       "@enduml\r\n",
       "\n",
       "PlantUML version 1.2020.13(Sat Jun 13 12:26:38 UTC 2020)\n",
       "(EPL source distribution)\n",
       "Java Runtime: OpenJDK Runtime Environment\n",
       "JVM: OpenJDK 64-Bit Server VM\n",
       "Default Encoding: UTF-8\n",
       "Language: en\n",
       "Country: null\n",
       "--></g></svg>"
      ]
     },
     "execution_count": 7,
     "metadata": {},
     "output_type": "execute_result"
    }
   ],
   "source": [
    "%viz --style=\"COMPTREE\" --view=\"Sequence\" \"ItemTest\""
   ]
  },
  {
   "cell_type": "code",
   "execution_count": 8,
   "id": "expanded-mistress",
   "metadata": {
    "execution": {
     "iopub.execute_input": "2021-03-26T12:12:04.754641Z",
     "iopub.status.busy": "2021-03-26T12:12:04.754035Z",
     "iopub.status.idle": "2021-03-26T12:12:04.827582Z",
     "shell.execute_reply": "2021-03-26T12:12:04.827883Z"
    }
   },
   "outputs": [
    {
     "data": {
      "image/svg+xml": [
       "<?xml version=\"1.0\" encoding=\"UTF-8\" standalone=\"no\"?><svg xmlns=\"http://www.w3.org/2000/svg\" xmlns:xlink=\"http://www.w3.org/1999/xlink\" contentScriptType=\"application/ecmascript\" contentStyleType=\"text/css\" height=\"738px\" preserveAspectRatio=\"none\" style=\"width:228px;height:738px;\" version=\"1.1\" viewBox=\"0 0 228 738\" width=\"228px\" zoomAndPan=\"magnify\"><defs/><g><!--MD5=[fbc87193dbaf4d95561dea2c320d4a47]\n",
       "cluster E1--><a href=\"psysml:75fb623a-e350-4a47-9f82-c4d20b2b5b80\" target=\"_top\" title=\"psysml:75fb623a-e350-4a47-9f82-c4d20b2b5b80\" xlink:actuate=\"onRequest\" xlink:href=\"psysml:75fb623a-e350-4a47-9f82-c4d20b2b5b80\" xlink:show=\"new\" xlink:title=\"psysml:75fb623a-e350-4a47-9f82-c4d20b2b5b80\" xlink:type=\"simple\"><polygon fill=\"#FFFFFF\" points=\"16,6,91,6,98,28.2969,206,28.2969,206,726,16,726,16,6\" style=\"stroke: #000000; stroke-width: 1.5;\"/><line style=\"stroke: #000000; stroke-width: 1.5;\" x1=\"16\" x2=\"98\" y1=\"28.2969\" y2=\"28.2969\"/><text fill=\"#000000\" font-family=\"sans-serif\" font-size=\"14\" font-weight=\"bold\" lengthAdjust=\"spacingAndGlyphs\" textLength=\"69\" x=\"20\" y=\"20.9951\">ItemTest</text></a><!--MD5=[b4997ac47864f28c2f74865a473b2911]\n",
       "class E2--><a href=\"psysml:d8a17efa-9aba-4cd7-b18a-68f8ed4c599b\" target=\"_top\" title=\"psysml:d8a17efa-9aba-4cd7-b18a-68f8ed4c599b\" xlink:actuate=\"onRequest\" xlink:href=\"psysml:d8a17efa-9aba-4cd7-b18a-68f8ed4c599b\" xlink:show=\"new\" xlink:title=\"psysml:d8a17efa-9aba-4cd7-b18a-68f8ed4c599b\" xlink:type=\"simple\"><rect fill=\"#FFFFFF\" height=\"45.9375\" id=\"E2\" rx=\"10\" ry=\"10\" style=\"stroke: #383838; stroke-width: 1.5;\" width=\"43\" x=\"133.5\" y=\"62\"/><text fill=\"#000000\" font-family=\"sans-serif\" font-size=\"12\" font-style=\"italic\" lengthAdjust=\"spacingAndGlyphs\" textLength=\"41\" x=\"134.5\" y=\"78.1387\">«item»</text><text fill=\"#000000\" font-family=\"sans-serif\" font-size=\"12\" lengthAdjust=\"spacingAndGlyphs\" textLength=\"20\" x=\"145\" y=\"92.1074\">f: A</text><line style=\"stroke: #383838; stroke-width: 1.5;\" x1=\"134.5\" x2=\"175.5\" y1=\"99.9375\" y2=\"99.9375\"/></a><!--MD5=[09b614a08d8cba4a07c9adeb5e0fee81]\n",
       "class E3--><a href=\"psysml:30552314-ef8a-4f2d-b223-fa6e862cb5b8\" target=\"_top\" title=\"psysml:30552314-ef8a-4f2d-b223-fa6e862cb5b8\" xlink:actuate=\"onRequest\" xlink:href=\"psysml:30552314-ef8a-4f2d-b223-fa6e862cb5b8\" xlink:show=\"new\" xlink:title=\"psysml:30552314-ef8a-4f2d-b223-fa6e862cb5b8\" xlink:type=\"simple\"><rect fill=\"#FFFFFF\" height=\"75.5469\" id=\"E3\" style=\"stroke: #383838; stroke-width: 1.5;\" width=\"67\" x=\"115.5\" y=\"190\"/><text fill=\"#000000\" font-family=\"sans-serif\" font-size=\"12\" font-style=\"italic\" lengthAdjust=\"spacingAndGlyphs\" textLength=\"65\" x=\"116.5\" y=\"206.1387\">«item def»</text><text fill=\"#000000\" font-family=\"sans-serif\" font-size=\"12\" lengthAdjust=\"spacingAndGlyphs\" textLength=\"8\" x=\"145\" y=\"220.1074\">A</text><line style=\"stroke: #383838; stroke-width: 1.5;\" x1=\"116.5\" x2=\"181.5\" y1=\"227.9375\" y2=\"227.9375\"/><text fill=\"#000000\" font-family=\"sans-serif\" font-size=\"11\" lengthAdjust=\"spacingAndGlyphs\" textLength=\"23\" x=\"121.5\" y=\"258.9526\">b: B</text><line style=\"stroke: #383838; stroke-width: 1.0;\" x1=\"116.5\" x2=\"133\" y1=\"242.3398\" y2=\"242.3398\"/><text fill=\"#000000\" font-family=\"sans-serif\" font-size=\"11\" lengthAdjust=\"spacingAndGlyphs\" textLength=\"32\" x=\"133\" y=\"245.6479\">items</text><line style=\"stroke: #383838; stroke-width: 1.0;\" x1=\"165\" x2=\"181.5\" y1=\"242.3398\" y2=\"242.3398\"/></a><!--MD5=[270fce915f116d4de14055a7c1d9a0f3]\n",
       "class E5--><a href=\"psysml:cb0fe327-dda6-4eae-9e46-1ce946f22982\" target=\"_top\" title=\"psysml:cb0fe327-dda6-4eae-9e46-1ce946f22982\" xlink:actuate=\"onRequest\" xlink:href=\"psysml:cb0fe327-dda6-4eae-9e46-1ce946f22982\" xlink:show=\"new\" xlink:title=\"psysml:cb0fe327-dda6-4eae-9e46-1ce946f22982\" xlink:type=\"simple\"><rect fill=\"#FFFFFF\" height=\"45.9375\" id=\"E5\" rx=\"10\" ry=\"10\" style=\"stroke: #383838; stroke-width: 1.5;\" width=\"42\" x=\"32\" y=\"327\"/><text fill=\"#000000\" font-family=\"sans-serif\" font-size=\"12\" font-style=\"italic\" lengthAdjust=\"spacingAndGlyphs\" textLength=\"40\" x=\"33\" y=\"343.1387\">«part»</text><text fill=\"#000000\" font-family=\"sans-serif\" font-size=\"12\" lengthAdjust=\"spacingAndGlyphs\" textLength=\"23\" x=\"41.5\" y=\"357.1074\">c: C</text><line style=\"stroke: #383838; stroke-width: 1.5;\" x1=\"33\" x2=\"73\" y1=\"364.9375\" y2=\"364.9375\"/></a><!--MD5=[60a26617385b1d2d0262a64233df1f8d]\n",
       "class E6--><a href=\"psysml:0c776550-23a6-42b8-908b-320a74e2d4ee\" target=\"_top\" title=\"psysml:0c776550-23a6-42b8-908b-320a74e2d4ee\" xlink:actuate=\"onRequest\" xlink:href=\"psysml:0c776550-23a6-42b8-908b-320a74e2d4ee\" xlink:show=\"new\" xlink:title=\"psysml:0c776550-23a6-42b8-908b-320a74e2d4ee\" xlink:type=\"simple\"><rect fill=\"#FFFFFF\" height=\"45.9375\" id=\"E6\" style=\"stroke: #383838; stroke-width: 1.5;\" width=\"67\" x=\"85.5\" y=\"557\"/><text fill=\"#000000\" font-family=\"sans-serif\" font-size=\"12\" font-style=\"italic\" lengthAdjust=\"spacingAndGlyphs\" textLength=\"65\" x=\"86.5\" y=\"573.1387\">«item def»</text><text fill=\"#000000\" font-family=\"sans-serif\" font-size=\"12\" lengthAdjust=\"spacingAndGlyphs\" textLength=\"8\" x=\"115\" y=\"587.1074\">B</text><line style=\"stroke: #383838; stroke-width: 1.5;\" x1=\"86.5\" x2=\"151.5\" y1=\"594.9375\" y2=\"594.9375\"/></a><!--MD5=[2156ba9850f5573cc1fc38a6a4b2f02b]\n",
       "class E7--><a href=\"psysml:7f7b610c-5cf3-4f1d-92e7-984e3817e328\" target=\"_top\" title=\"psysml:7f7b610c-5cf3-4f1d-92e7-984e3817e328\" xlink:actuate=\"onRequest\" xlink:href=\"psysml:7f7b610c-5cf3-4f1d-92e7-984e3817e328\" xlink:show=\"new\" xlink:title=\"psysml:7f7b610c-5cf3-4f1d-92e7-984e3817e328\" xlink:type=\"simple\"><rect fill=\"#FFFFFF\" height=\"45.9375\" id=\"E7\" rx=\"10\" ry=\"10\" style=\"stroke: #383838; stroke-width: 1.5;\" width=\"42\" x=\"123\" y=\"664\"/><text fill=\"#000000\" font-family=\"sans-serif\" font-size=\"12\" font-style=\"italic\" lengthAdjust=\"spacingAndGlyphs\" textLength=\"40\" x=\"124\" y=\"680.1387\">«part»</text><text fill=\"#000000\" font-family=\"sans-serif\" font-size=\"12\" lengthAdjust=\"spacingAndGlyphs\" textLength=\"24\" x=\"132\" y=\"694.1074\">a: A</text><line style=\"stroke: #383838; stroke-width: 1.5;\" x1=\"124\" x2=\"164\" y1=\"701.9375\" y2=\"701.9375\"/></a><!--MD5=[b9389687b975829384b498ac4b7476b2]\n",
       "class E8--><a href=\"psysml:3f3cfa4e-9100-4bf2-8dae-183ab53e5ac5\" target=\"_top\" title=\"psysml:3f3cfa4e-9100-4bf2-8dae-183ab53e5ac5\" xlink:actuate=\"onRequest\" xlink:href=\"psysml:3f3cfa4e-9100-4bf2-8dae-183ab53e5ac5\" xlink:show=\"new\" xlink:title=\"psysml:3f3cfa4e-9100-4bf2-8dae-183ab53e5ac5\" xlink:type=\"simple\"><rect fill=\"#FFFFFF\" height=\"45.9375\" id=\"E8\" style=\"stroke: #383838; stroke-width: 1.5;\" width=\"66\" x=\"86\" y=\"434\"/><text fill=\"#000000\" font-family=\"sans-serif\" font-size=\"12\" font-style=\"italic\" lengthAdjust=\"spacingAndGlyphs\" textLength=\"64\" x=\"87\" y=\"450.1387\">«part def»</text><text fill=\"#000000\" font-family=\"sans-serif\" font-size=\"12\" lengthAdjust=\"spacingAndGlyphs\" textLength=\"8\" x=\"115\" y=\"464.1074\">C</text><line style=\"stroke: #383838; stroke-width: 1.5;\" x1=\"87\" x2=\"151\" y1=\"471.9375\" y2=\"471.9375\"/></a><!--MD5=[fd4143e9d270a159db93a4ea2a975926]\n",
       "class E9--><a href=\"psysml:b18b87fb-d7bd-4905-b0cb-818d68f57f75\" target=\"_top\" title=\"psysml:b18b87fb-d7bd-4905-b0cb-818d68f57f75\" xlink:actuate=\"onRequest\" xlink:href=\"psysml:b18b87fb-d7bd-4905-b0cb-818d68f57f75\" xlink:show=\"new\" xlink:title=\"psysml:b18b87fb-d7bd-4905-b0cb-818d68f57f75\" xlink:type=\"simple\"><rect fill=\"#FFFFFF\" height=\"88.3516\" id=\"E9\" style=\"stroke: #383838; stroke-width: 1.5;\" width=\"66\" x=\"32\" y=\"41\"/><text fill=\"#000000\" font-family=\"sans-serif\" font-size=\"12\" font-style=\"italic\" lengthAdjust=\"spacingAndGlyphs\" textLength=\"64\" x=\"33\" y=\"57.1387\">«port def»</text><text fill=\"#000000\" font-family=\"sans-serif\" font-size=\"12\" lengthAdjust=\"spacingAndGlyphs\" textLength=\"8\" x=\"61\" y=\"71.1074\">P</text><line style=\"stroke: #383838; stroke-width: 1.5;\" x1=\"33\" x2=\"97\" y1=\"78.9375\" y2=\"78.9375\"/><text fill=\"#000000\" font-family=\"sans-serif\" font-size=\"11\" lengthAdjust=\"spacingAndGlyphs\" textLength=\"29\" x=\"38\" y=\"109.9526\">a1: A</text><text fill=\"#000000\" font-family=\"sans-serif\" font-size=\"11\" lengthAdjust=\"spacingAndGlyphs\" textLength=\"29\" x=\"38\" y=\"122.7573\">a2: A</text><line style=\"stroke: #383838; stroke-width: 1.0;\" x1=\"33\" x2=\"49\" y1=\"93.3398\" y2=\"93.3398\"/><text fill=\"#000000\" font-family=\"sans-serif\" font-size=\"11\" lengthAdjust=\"spacingAndGlyphs\" textLength=\"32\" x=\"49\" y=\"96.6479\">items</text><line style=\"stroke: #383838; stroke-width: 1.0;\" x1=\"81\" x2=\"97\" y1=\"93.3398\" y2=\"93.3398\"/></a><!--MD5=[2720a5a1f2c3fca2055b230370638851]\n",
       "link E2 to E3--><a href=\"psysml:cbc83e8e-35d8-4884-92a4-03d9c321669a\" target=\"_top\" title=\"psysml:cbc83e8e-35d8-4884-92a4-03d9c321669a\" xlink:actuate=\"onRequest\" xlink:href=\"psysml:cbc83e8e-35d8-4884-92a4-03d9c321669a\" xlink:show=\"new\" xlink:title=\"psysml:cbc83e8e-35d8-4884-92a4-03d9c321669a\" xlink:type=\"simple\"><path d=\"M154.06,108.03 C153.36,124.58 152.36,148.04 151.44,169.76 \" fill=\"none\" id=\"E2-&gt;E3\" style=\"stroke: #383838; stroke-width: 1.0;\"/><polygon fill=\"#FFFFFF\" points=\"150.58,189.77,144.4005,170.4875,158.3877,171.0874,150.58,189.77\" style=\"stroke: #383838; stroke-width: 1.0;\"/><ellipse cx=\"146.6429\" cy=\"164.8784\" fill=\"#383838\" rx=\"2\" ry=\"2\" style=\"stroke: #383838; stroke-width: 1.0;\"/><ellipse cx=\"156.6338\" cy=\"165.3069\" fill=\"#383838\" rx=\"2\" ry=\"2\" style=\"stroke: #383838; stroke-width: 1.0;\"/></a><!--MD5=[191cde3d490a3f6d7bb551fe3ddca469]\n",
       "reverse link E3 to E5--><a href=\"psysml:cb0fe327-dda6-4eae-9e46-1ce946f22982\" target=\"_top\" title=\"psysml:cb0fe327-dda6-4eae-9e46-1ce946f22982\" xlink:actuate=\"onRequest\" xlink:href=\"psysml:cb0fe327-dda6-4eae-9e46-1ce946f22982\" xlink:show=\"new\" xlink:title=\"psysml:cb0fe327-dda6-4eae-9e46-1ce946f22982\" xlink:type=\"simple\"><path d=\"M110.75,276.82 C96.95,294.07 82.02,312.72 70.8,326.75 \" fill=\"none\" id=\"E3&lt;-E5\" style=\"stroke: #383838; stroke-width: 1.0;\"/><polygon fill=\"#FFFFFF\" points=\"119.15,266.31,112.2784,268.4964,111.6537,275.6804,118.5253,273.494,119.15,266.31\" style=\"stroke: #383838; stroke-width: 1.0;\"/></a><!--MD5=[14ccda38c055a5c0da953d572bc50960]\n",
       "link E7 to E3--><a href=\"psysml:b2ac9add-d533-4cc3-a1ec-28b279e4ff39\" target=\"_top\" title=\"psysml:b2ac9add-d533-4cc3-a1ec-28b279e4ff39\" xlink:actuate=\"onRequest\" xlink:href=\"psysml:b2ac9add-d533-4cc3-a1ec-28b279e4ff39\" xlink:show=\"new\" xlink:title=\"psysml:b2ac9add-d533-4cc3-a1ec-28b279e4ff39\" xlink:type=\"simple\"><path d=\"M159.74,663.82 C172.72,643.34 189,611.54 189,581 C189,349 189,349 189,349 C189,327.34 183.06,304.56 175.76,284.74 \" fill=\"none\" id=\"E7-&gt;E3\" style=\"stroke: #383838; stroke-width: 1.0;\"/><polygon fill=\"#FFFFFF\" points=\"168.18,266.05,181.8034,281.0301,168.8283,286.2881,168.18,266.05\" style=\"stroke: #383838; stroke-width: 1.0;\"/><ellipse cx=\"182.0906\" cy=\"287.0639\" fill=\"#383838\" rx=\"2\" ry=\"2\" style=\"stroke: #383838; stroke-width: 1.0;\"/><ellipse cx=\"172.8227\" cy=\"290.8196\" fill=\"#383838\" rx=\"2\" ry=\"2\" style=\"stroke: #383838; stroke-width: 1.0;\"/></a><!--MD5=[3f50a3473f1dfb74d3f76443e03635af]\n",
       "reverse link E6 to E7--><a href=\"psysml:7f7b610c-5cf3-4f1d-92e7-984e3817e328\" target=\"_top\" title=\"psysml:7f7b610c-5cf3-4f1d-92e7-984e3817e328\" xlink:actuate=\"onRequest\" xlink:href=\"psysml:7f7b610c-5cf3-4f1d-92e7-984e3817e328\" xlink:show=\"new\" xlink:title=\"psysml:7f7b610c-5cf3-4f1d-92e7-984e3817e328\" xlink:type=\"simple\"><path d=\"M127.34,616.05 C131.08,631.76 135.39,649.82 138.68,663.66 \" fill=\"none\" id=\"E6&lt;-E7\" style=\"stroke: #383838; stroke-width: 1.0;\"/><polygon fill=\"#383838\" points=\"124.24,603.01,121.7406,609.7741,127.023,614.6828,129.5224,607.9187,124.24,603.01\" style=\"stroke: #383838; stroke-width: 1.0;\"/></a><!--MD5=[dfaffb906826c3e5aca635516100ff21]\n",
       "link E5 to E8--><a href=\"psysml:8f4ff897-72ba-4249-b35c-9a7192bde9f3\" target=\"_top\" title=\"psysml:8f4ff897-72ba-4249-b35c-9a7192bde9f3\" xlink:actuate=\"onRequest\" xlink:href=\"psysml:8f4ff897-72ba-4249-b35c-9a7192bde9f3\" xlink:show=\"new\" xlink:title=\"psysml:8f4ff897-72ba-4249-b35c-9a7192bde9f3\" xlink:type=\"simple\"><path d=\"M66.84,373.01 C74.79,385.67 85.02,401.94 94.31,416.72 \" fill=\"none\" id=\"E5-&gt;E8\" style=\"stroke: #383838; stroke-width: 1.0;\"/><polygon fill=\"#FFFFFF\" points=\"104.96,433.66,88.9212,421.3005,100.7735,413.8491,104.96,433.66\" style=\"stroke: #383838; stroke-width: 1.0;\"/><ellipse cx=\"87.5806\" cy=\"415.4104\" fill=\"#383838\" rx=\"2\" ry=\"2\" style=\"stroke: #383838; stroke-width: 1.0;\"/><ellipse cx=\"96.0465\" cy=\"410.088\" fill=\"#383838\" rx=\"2\" ry=\"2\" style=\"stroke: #383838; stroke-width: 1.0;\"/></a><!--MD5=[03c8294790d3c57651a1993cecff665f]\n",
       "reverse link E8 to E3--><a href=\"psysml:44d9af1e-71a6-403b-81da-6292c3b1f2cb\" target=\"_top\" title=\"psysml:44d9af1e-71a6-403b-81da-6292c3b1f2cb\" xlink:actuate=\"onRequest\" xlink:href=\"psysml:44d9af1e-71a6-403b-81da-6292c3b1f2cb\" xlink:show=\"new\" xlink:title=\"psysml:44d9af1e-71a6-403b-81da-6292c3b1f2cb\" xlink:type=\"simple\"><path d=\"M123.65,420.81 C129.2,378.86 138.42,309.06 144.08,266.23 \" fill=\"none\" id=\"E8&lt;-E3\" style=\"stroke: #383838; stroke-width: 1.0;\"/><polygon fill=\"#FFFFFF\" points=\"121.92,433.89,126.6755,428.4692,123.5008,421.9946,118.7453,427.4154,121.92,433.89\" style=\"stroke: #383838; stroke-width: 1.0;\"/><text fill=\"#000000\" font-family=\"sans-serif\" font-size=\"13\" lengthAdjust=\"spacingAndGlyphs\" textLength=\"7\" x=\"136\" y=\"354.5669\">y</text></a><!--MD5=[0d75d2178373a6a4568e5dc728f58aef]\n",
       "reverse link E8 to E6--><a href=\"psysml:44d9af1e-71a6-403b-81da-6292c3b1f2cb\" target=\"_top\" title=\"psysml:44d9af1e-71a6-403b-81da-6292c3b1f2cb\" xlink:actuate=\"onRequest\" xlink:href=\"psysml:44d9af1e-71a6-403b-81da-6292c3b1f2cb\" xlink:show=\"new\" xlink:title=\"psysml:44d9af1e-71a6-403b-81da-6292c3b1f2cb\" xlink:type=\"simple\"><path d=\"M119,493.22 C119,513.81 119,539.16 119,556.95 \" fill=\"none\" id=\"E8&lt;-E6\" style=\"stroke: #383838; stroke-width: 1.0;\"/><polygon fill=\"#FFFFFF\" points=\"119,480.19,115,486.19,119,492.19,123,486.19,119,480.19\" style=\"stroke: #383838; stroke-width: 1.0;\"/><text fill=\"#000000\" font-family=\"sans-serif\" font-size=\"13\" lengthAdjust=\"spacingAndGlyphs\" textLength=\"7\" x=\"120\" y=\"523.0669\">y</text></a><!--MD5=[b66fc2d44ce0be77b017da71f8b897da]\n",
       "@startuml\r\n",
       " skinparam monochrome true\r\n",
       "skinparam classbackgroundcolor white\r\n",
       "skinparam shadowing false\r\n",
       "skinparam wrapWidth 300\r\n",
       "hide circle\r\n",
       "\r\n",
       "package \"ItemTest\" as E1  [[psysml:75fb623a-e350-4a47-9f82-c4d20b2b5b80 ]]  {\r\n",
       "comp usage \"f: A\" as E2  <<(T,blue)item>> [[psysml:d8a17efa-9aba-4cd7-b18a-68f8ed4c599b ]] {\r\n",
       "}\r\n",
       "comp def \"A\" as E3  <<(T,blue)item def>> [[psysml:30552314-ef8a-4f2d-b223-fa6e862cb5b8 ]] {\r\n",
       "- - items - -\r\n",
       "b: B\r\n",
       "}\r\n",
       "comp usage \"c: C\" as E5  <<(T,blue)part>> [[psysml:cb0fe327-dda6-4eae-9e46-1ce946f22982 ]] {\r\n",
       "}\r\n",
       "comp def \"B\" as E6  <<(T,blue)item def>> [[psysml:0c776550-23a6-42b8-908b-320a74e2d4ee ]] {\r\n",
       "}\r\n",
       "comp usage \"a: A\" as E7  <<(T,blue)part>> [[psysml:7f7b610c-5cf3-4f1d-92e7-984e3817e328 ]] {\r\n",
       "}\r\n",
       "comp def \"C\" as E8  <<(T,blue)part def>> [[psysml:3f3cfa4e-9100-4bf2-8dae-183ab53e5ac5 ]] {\r\n",
       "}\r\n",
       "comp def \"P\" as E9  <<(T,blue)port def>> [[psysml:b18b87fb-d7bd-4905-b0cb-818d68f57f75 ]] {\r\n",
       "- - items - -\r\n",
       "a1: A\r\n",
       "a2: A\r\n",
       "}\r\n",
       "E2 - -:|> E3 [[psysml:cbc83e8e-35d8-4884-92a4-03d9c321669a ]] \r\n",
       "E3 o- - E5 [[psysml:cb0fe327-dda6-4eae-9e46-1ce946f22982 ]] \r\n",
       "E7 - -:|> E3 [[psysml:b2ac9add-d533-4cc3-a1ec-28b279e4ff39 ]] \r\n",
       "E6 *- - E7 [[psysml:7f7b610c-5cf3-4f1d-92e7-984e3817e328 ]] \r\n",
       "E5 - -:|> E8 [[psysml:8f4ff897-72ba-4249-b35c-9a7192bde9f3 ]] \r\n",
       "E8 o- - E3 [[psysml:44d9af1e-71a6-403b-81da-6292c3b1f2cb ]] : y\r\n",
       "E8 o- - E6 [[psysml:44d9af1e-71a6-403b-81da-6292c3b1f2cb ]] : y\r\n",
       "}\r\n",
       "@enduml\r\n",
       "\n",
       "PlantUML version 1.2020.13(Sat Jun 13 12:26:38 UTC 2020)\n",
       "(EPL source distribution)\n",
       "Java Runtime: OpenJDK Runtime Environment\n",
       "JVM: OpenJDK 64-Bit Server VM\n",
       "Default Encoding: UTF-8\n",
       "Language: en\n",
       "Country: null\n",
       "--></g></svg>"
      ]
     },
     "execution_count": 8,
     "metadata": {},
     "output_type": "execute_result"
    }
   ],
   "source": [
    "%viz --style=\"COMPTREE\" --view=\"MIXED\" \"ItemTest\""
   ]
  },
  {
   "cell_type": "code",
   "execution_count": 9,
   "id": "blind-yellow",
   "metadata": {
    "execution": {
     "iopub.execute_input": "2021-03-26T12:12:04.878124Z",
     "iopub.status.busy": "2021-03-26T12:12:04.877774Z",
     "iopub.status.idle": "2021-03-26T12:12:04.950147Z",
     "shell.execute_reply": "2021-03-26T12:12:04.950494Z"
    }
   },
   "outputs": [
    {
     "data": {
      "image/svg+xml": [
       "<?xml version=\"1.0\" encoding=\"UTF-8\" standalone=\"no\"?><svg xmlns=\"http://www.w3.org/2000/svg\" xmlns:xlink=\"http://www.w3.org/1999/xlink\" contentScriptType=\"application/ecmascript\" contentStyleType=\"text/css\" height=\"738px\" preserveAspectRatio=\"none\" style=\"width:228px;height:738px;\" version=\"1.1\" viewBox=\"0 0 228 738\" width=\"228px\" zoomAndPan=\"magnify\"><defs/><g><!--MD5=[fbc87193dbaf4d95561dea2c320d4a47]\n",
       "cluster E1--><a href=\"psysml:75fb623a-e350-4a47-9f82-c4d20b2b5b80\" target=\"_top\" title=\"psysml:75fb623a-e350-4a47-9f82-c4d20b2b5b80\" xlink:actuate=\"onRequest\" xlink:href=\"psysml:75fb623a-e350-4a47-9f82-c4d20b2b5b80\" xlink:show=\"new\" xlink:title=\"psysml:75fb623a-e350-4a47-9f82-c4d20b2b5b80\" xlink:type=\"simple\"><polygon fill=\"#FFFFFF\" points=\"16,6,91,6,98,28.2969,206,28.2969,206,726,16,726,16,6\" style=\"stroke: #000000; stroke-width: 1.5;\"/><line style=\"stroke: #000000; stroke-width: 1.5;\" x1=\"16\" x2=\"98\" y1=\"28.2969\" y2=\"28.2969\"/><text fill=\"#000000\" font-family=\"sans-serif\" font-size=\"14\" font-weight=\"bold\" lengthAdjust=\"spacingAndGlyphs\" textLength=\"69\" x=\"20\" y=\"20.9951\">ItemTest</text></a><!--MD5=[b4997ac47864f28c2f74865a473b2911]\n",
       "class E2--><a href=\"psysml:d8a17efa-9aba-4cd7-b18a-68f8ed4c599b\" target=\"_top\" title=\"psysml:d8a17efa-9aba-4cd7-b18a-68f8ed4c599b\" xlink:actuate=\"onRequest\" xlink:href=\"psysml:d8a17efa-9aba-4cd7-b18a-68f8ed4c599b\" xlink:show=\"new\" xlink:title=\"psysml:d8a17efa-9aba-4cd7-b18a-68f8ed4c599b\" xlink:type=\"simple\"><rect fill=\"#FFFFFF\" height=\"45.9375\" id=\"E2\" rx=\"10\" ry=\"10\" style=\"stroke: #383838; stroke-width: 1.5;\" width=\"43\" x=\"133.5\" y=\"62\"/><text fill=\"#000000\" font-family=\"sans-serif\" font-size=\"12\" font-style=\"italic\" lengthAdjust=\"spacingAndGlyphs\" textLength=\"41\" x=\"134.5\" y=\"78.1387\">«item»</text><text fill=\"#000000\" font-family=\"sans-serif\" font-size=\"12\" lengthAdjust=\"spacingAndGlyphs\" textLength=\"20\" x=\"145\" y=\"92.1074\">f: A</text><line style=\"stroke: #383838; stroke-width: 1.5;\" x1=\"134.5\" x2=\"175.5\" y1=\"99.9375\" y2=\"99.9375\"/></a><!--MD5=[09b614a08d8cba4a07c9adeb5e0fee81]\n",
       "class E3--><a href=\"psysml:30552314-ef8a-4f2d-b223-fa6e862cb5b8\" target=\"_top\" title=\"psysml:30552314-ef8a-4f2d-b223-fa6e862cb5b8\" xlink:actuate=\"onRequest\" xlink:href=\"psysml:30552314-ef8a-4f2d-b223-fa6e862cb5b8\" xlink:show=\"new\" xlink:title=\"psysml:30552314-ef8a-4f2d-b223-fa6e862cb5b8\" xlink:type=\"simple\"><rect fill=\"#FFFFFF\" height=\"75.5469\" id=\"E3\" style=\"stroke: #383838; stroke-width: 1.5;\" width=\"67\" x=\"115.5\" y=\"190\"/><text fill=\"#000000\" font-family=\"sans-serif\" font-size=\"12\" font-style=\"italic\" lengthAdjust=\"spacingAndGlyphs\" textLength=\"65\" x=\"116.5\" y=\"206.1387\">«item def»</text><text fill=\"#000000\" font-family=\"sans-serif\" font-size=\"12\" lengthAdjust=\"spacingAndGlyphs\" textLength=\"8\" x=\"145\" y=\"220.1074\">A</text><line style=\"stroke: #383838; stroke-width: 1.5;\" x1=\"116.5\" x2=\"181.5\" y1=\"227.9375\" y2=\"227.9375\"/><text fill=\"#000000\" font-family=\"sans-serif\" font-size=\"11\" lengthAdjust=\"spacingAndGlyphs\" textLength=\"23\" x=\"121.5\" y=\"258.9526\">b: B</text><line style=\"stroke: #383838; stroke-width: 1.0;\" x1=\"116.5\" x2=\"133\" y1=\"242.3398\" y2=\"242.3398\"/><text fill=\"#000000\" font-family=\"sans-serif\" font-size=\"11\" lengthAdjust=\"spacingAndGlyphs\" textLength=\"32\" x=\"133\" y=\"245.6479\">items</text><line style=\"stroke: #383838; stroke-width: 1.0;\" x1=\"165\" x2=\"181.5\" y1=\"242.3398\" y2=\"242.3398\"/></a><!--MD5=[270fce915f116d4de14055a7c1d9a0f3]\n",
       "class E5--><a href=\"psysml:cb0fe327-dda6-4eae-9e46-1ce946f22982\" target=\"_top\" title=\"psysml:cb0fe327-dda6-4eae-9e46-1ce946f22982\" xlink:actuate=\"onRequest\" xlink:href=\"psysml:cb0fe327-dda6-4eae-9e46-1ce946f22982\" xlink:show=\"new\" xlink:title=\"psysml:cb0fe327-dda6-4eae-9e46-1ce946f22982\" xlink:type=\"simple\"><rect fill=\"#FFFFFF\" height=\"45.9375\" id=\"E5\" rx=\"10\" ry=\"10\" style=\"stroke: #383838; stroke-width: 1.5;\" width=\"42\" x=\"32\" y=\"327\"/><text fill=\"#000000\" font-family=\"sans-serif\" font-size=\"12\" font-style=\"italic\" lengthAdjust=\"spacingAndGlyphs\" textLength=\"40\" x=\"33\" y=\"343.1387\">«part»</text><text fill=\"#000000\" font-family=\"sans-serif\" font-size=\"12\" lengthAdjust=\"spacingAndGlyphs\" textLength=\"23\" x=\"41.5\" y=\"357.1074\">c: C</text><line style=\"stroke: #383838; stroke-width: 1.5;\" x1=\"33\" x2=\"73\" y1=\"364.9375\" y2=\"364.9375\"/></a><!--MD5=[60a26617385b1d2d0262a64233df1f8d]\n",
       "class E6--><a href=\"psysml:0c776550-23a6-42b8-908b-320a74e2d4ee\" target=\"_top\" title=\"psysml:0c776550-23a6-42b8-908b-320a74e2d4ee\" xlink:actuate=\"onRequest\" xlink:href=\"psysml:0c776550-23a6-42b8-908b-320a74e2d4ee\" xlink:show=\"new\" xlink:title=\"psysml:0c776550-23a6-42b8-908b-320a74e2d4ee\" xlink:type=\"simple\"><rect fill=\"#FFFFFF\" height=\"45.9375\" id=\"E6\" style=\"stroke: #383838; stroke-width: 1.5;\" width=\"67\" x=\"85.5\" y=\"557\"/><text fill=\"#000000\" font-family=\"sans-serif\" font-size=\"12\" font-style=\"italic\" lengthAdjust=\"spacingAndGlyphs\" textLength=\"65\" x=\"86.5\" y=\"573.1387\">«item def»</text><text fill=\"#000000\" font-family=\"sans-serif\" font-size=\"12\" lengthAdjust=\"spacingAndGlyphs\" textLength=\"8\" x=\"115\" y=\"587.1074\">B</text><line style=\"stroke: #383838; stroke-width: 1.5;\" x1=\"86.5\" x2=\"151.5\" y1=\"594.9375\" y2=\"594.9375\"/></a><!--MD5=[2156ba9850f5573cc1fc38a6a4b2f02b]\n",
       "class E7--><a href=\"psysml:7f7b610c-5cf3-4f1d-92e7-984e3817e328\" target=\"_top\" title=\"psysml:7f7b610c-5cf3-4f1d-92e7-984e3817e328\" xlink:actuate=\"onRequest\" xlink:href=\"psysml:7f7b610c-5cf3-4f1d-92e7-984e3817e328\" xlink:show=\"new\" xlink:title=\"psysml:7f7b610c-5cf3-4f1d-92e7-984e3817e328\" xlink:type=\"simple\"><rect fill=\"#FFFFFF\" height=\"45.9375\" id=\"E7\" rx=\"10\" ry=\"10\" style=\"stroke: #383838; stroke-width: 1.5;\" width=\"42\" x=\"123\" y=\"664\"/><text fill=\"#000000\" font-family=\"sans-serif\" font-size=\"12\" font-style=\"italic\" lengthAdjust=\"spacingAndGlyphs\" textLength=\"40\" x=\"124\" y=\"680.1387\">«part»</text><text fill=\"#000000\" font-family=\"sans-serif\" font-size=\"12\" lengthAdjust=\"spacingAndGlyphs\" textLength=\"24\" x=\"132\" y=\"694.1074\">a: A</text><line style=\"stroke: #383838; stroke-width: 1.5;\" x1=\"124\" x2=\"164\" y1=\"701.9375\" y2=\"701.9375\"/></a><!--MD5=[b9389687b975829384b498ac4b7476b2]\n",
       "class E8--><a href=\"psysml:3f3cfa4e-9100-4bf2-8dae-183ab53e5ac5\" target=\"_top\" title=\"psysml:3f3cfa4e-9100-4bf2-8dae-183ab53e5ac5\" xlink:actuate=\"onRequest\" xlink:href=\"psysml:3f3cfa4e-9100-4bf2-8dae-183ab53e5ac5\" xlink:show=\"new\" xlink:title=\"psysml:3f3cfa4e-9100-4bf2-8dae-183ab53e5ac5\" xlink:type=\"simple\"><rect fill=\"#FFFFFF\" height=\"45.9375\" id=\"E8\" style=\"stroke: #383838; stroke-width: 1.5;\" width=\"66\" x=\"86\" y=\"434\"/><text fill=\"#000000\" font-family=\"sans-serif\" font-size=\"12\" font-style=\"italic\" lengthAdjust=\"spacingAndGlyphs\" textLength=\"64\" x=\"87\" y=\"450.1387\">«part def»</text><text fill=\"#000000\" font-family=\"sans-serif\" font-size=\"12\" lengthAdjust=\"spacingAndGlyphs\" textLength=\"8\" x=\"115\" y=\"464.1074\">C</text><line style=\"stroke: #383838; stroke-width: 1.5;\" x1=\"87\" x2=\"151\" y1=\"471.9375\" y2=\"471.9375\"/></a><!--MD5=[fd4143e9d270a159db93a4ea2a975926]\n",
       "class E9--><a href=\"psysml:b18b87fb-d7bd-4905-b0cb-818d68f57f75\" target=\"_top\" title=\"psysml:b18b87fb-d7bd-4905-b0cb-818d68f57f75\" xlink:actuate=\"onRequest\" xlink:href=\"psysml:b18b87fb-d7bd-4905-b0cb-818d68f57f75\" xlink:show=\"new\" xlink:title=\"psysml:b18b87fb-d7bd-4905-b0cb-818d68f57f75\" xlink:type=\"simple\"><rect fill=\"#FFFFFF\" height=\"88.3516\" id=\"E9\" style=\"stroke: #383838; stroke-width: 1.5;\" width=\"66\" x=\"32\" y=\"41\"/><text fill=\"#000000\" font-family=\"sans-serif\" font-size=\"12\" font-style=\"italic\" lengthAdjust=\"spacingAndGlyphs\" textLength=\"64\" x=\"33\" y=\"57.1387\">«port def»</text><text fill=\"#000000\" font-family=\"sans-serif\" font-size=\"12\" lengthAdjust=\"spacingAndGlyphs\" textLength=\"8\" x=\"61\" y=\"71.1074\">P</text><line style=\"stroke: #383838; stroke-width: 1.5;\" x1=\"33\" x2=\"97\" y1=\"78.9375\" y2=\"78.9375\"/><text fill=\"#000000\" font-family=\"sans-serif\" font-size=\"11\" lengthAdjust=\"spacingAndGlyphs\" textLength=\"29\" x=\"38\" y=\"109.9526\">a1: A</text><text fill=\"#000000\" font-family=\"sans-serif\" font-size=\"11\" lengthAdjust=\"spacingAndGlyphs\" textLength=\"29\" x=\"38\" y=\"122.7573\">a2: A</text><line style=\"stroke: #383838; stroke-width: 1.0;\" x1=\"33\" x2=\"49\" y1=\"93.3398\" y2=\"93.3398\"/><text fill=\"#000000\" font-family=\"sans-serif\" font-size=\"11\" lengthAdjust=\"spacingAndGlyphs\" textLength=\"32\" x=\"49\" y=\"96.6479\">items</text><line style=\"stroke: #383838; stroke-width: 1.0;\" x1=\"81\" x2=\"97\" y1=\"93.3398\" y2=\"93.3398\"/></a><!--MD5=[2720a5a1f2c3fca2055b230370638851]\n",
       "link E2 to E3--><a href=\"psysml:cbc83e8e-35d8-4884-92a4-03d9c321669a\" target=\"_top\" title=\"psysml:cbc83e8e-35d8-4884-92a4-03d9c321669a\" xlink:actuate=\"onRequest\" xlink:href=\"psysml:cbc83e8e-35d8-4884-92a4-03d9c321669a\" xlink:show=\"new\" xlink:title=\"psysml:cbc83e8e-35d8-4884-92a4-03d9c321669a\" xlink:type=\"simple\"><path d=\"M154.06,108.03 C153.36,124.58 152.36,148.04 151.44,169.76 \" fill=\"none\" id=\"E2-&gt;E3\" style=\"stroke: #383838; stroke-width: 1.0;\"/><polygon fill=\"#FFFFFF\" points=\"150.58,189.77,144.4005,170.4875,158.3877,171.0874,150.58,189.77\" style=\"stroke: #383838; stroke-width: 1.0;\"/><ellipse cx=\"146.6429\" cy=\"164.8784\" fill=\"#383838\" rx=\"2\" ry=\"2\" style=\"stroke: #383838; stroke-width: 1.0;\"/><ellipse cx=\"156.6338\" cy=\"165.3069\" fill=\"#383838\" rx=\"2\" ry=\"2\" style=\"stroke: #383838; stroke-width: 1.0;\"/></a><!--MD5=[191cde3d490a3f6d7bb551fe3ddca469]\n",
       "reverse link E3 to E5--><a href=\"psysml:cb0fe327-dda6-4eae-9e46-1ce946f22982\" target=\"_top\" title=\"psysml:cb0fe327-dda6-4eae-9e46-1ce946f22982\" xlink:actuate=\"onRequest\" xlink:href=\"psysml:cb0fe327-dda6-4eae-9e46-1ce946f22982\" xlink:show=\"new\" xlink:title=\"psysml:cb0fe327-dda6-4eae-9e46-1ce946f22982\" xlink:type=\"simple\"><path d=\"M110.75,276.82 C96.95,294.07 82.02,312.72 70.8,326.75 \" fill=\"none\" id=\"E3&lt;-E5\" style=\"stroke: #383838; stroke-width: 1.0;\"/><polygon fill=\"#FFFFFF\" points=\"119.15,266.31,112.2784,268.4964,111.6537,275.6804,118.5253,273.494,119.15,266.31\" style=\"stroke: #383838; stroke-width: 1.0;\"/></a><!--MD5=[14ccda38c055a5c0da953d572bc50960]\n",
       "link E7 to E3--><a href=\"psysml:b2ac9add-d533-4cc3-a1ec-28b279e4ff39\" target=\"_top\" title=\"psysml:b2ac9add-d533-4cc3-a1ec-28b279e4ff39\" xlink:actuate=\"onRequest\" xlink:href=\"psysml:b2ac9add-d533-4cc3-a1ec-28b279e4ff39\" xlink:show=\"new\" xlink:title=\"psysml:b2ac9add-d533-4cc3-a1ec-28b279e4ff39\" xlink:type=\"simple\"><path d=\"M153.43,663.99 C166.63,633.2 189,581 189,581 C189,349 189,349 189,349 C189,349 178.25,316.76 167.9,285.7 \" fill=\"none\" id=\"E7-&gt;E3\" style=\"stroke: #383838; stroke-width: 1.0;\"/><polygon fill=\"#FFFFFF\" points=\"161.44,266.31,174.0927,282.1185,160.8121,286.5487,161.44,266.31\" style=\"stroke: #383838; stroke-width: 1.0;\"/><ellipse cx=\"173.9992\" cy=\"288.1585\" fill=\"#383838\" rx=\"2\" ry=\"2\" style=\"stroke: #383838; stroke-width: 1.0;\"/><ellipse cx=\"164.5131\" cy=\"291.3229\" fill=\"#383838\" rx=\"2\" ry=\"2\" style=\"stroke: #383838; stroke-width: 1.0;\"/></a><!--MD5=[3f50a3473f1dfb74d3f76443e03635af]\n",
       "reverse link E6 to E7--><a href=\"psysml:7f7b610c-5cf3-4f1d-92e7-984e3817e328\" target=\"_top\" title=\"psysml:7f7b610c-5cf3-4f1d-92e7-984e3817e328\" xlink:actuate=\"onRequest\" xlink:href=\"psysml:7f7b610c-5cf3-4f1d-92e7-984e3817e328\" xlink:show=\"new\" xlink:title=\"psysml:7f7b610c-5cf3-4f1d-92e7-984e3817e328\" xlink:type=\"simple\"><path d=\"M127.34,616.05 C131.08,631.76 135.39,649.82 138.68,663.66 \" fill=\"none\" id=\"E6&lt;-E7\" style=\"stroke: #383838; stroke-width: 1.0;\"/><polygon fill=\"#383838\" points=\"124.24,603.01,121.7406,609.7741,127.023,614.6828,129.5224,607.9187,124.24,603.01\" style=\"stroke: #383838; stroke-width: 1.0;\"/></a><!--MD5=[dfaffb906826c3e5aca635516100ff21]\n",
       "link E5 to E8--><a href=\"psysml:8f4ff897-72ba-4249-b35c-9a7192bde9f3\" target=\"_top\" title=\"psysml:8f4ff897-72ba-4249-b35c-9a7192bde9f3\" xlink:actuate=\"onRequest\" xlink:href=\"psysml:8f4ff897-72ba-4249-b35c-9a7192bde9f3\" xlink:show=\"new\" xlink:title=\"psysml:8f4ff897-72ba-4249-b35c-9a7192bde9f3\" xlink:type=\"simple\"><path d=\"M66.84,373.01 C74.79,385.67 85.02,401.94 94.31,416.72 \" fill=\"none\" id=\"E5-&gt;E8\" style=\"stroke: #383838; stroke-width: 1.0;\"/><polygon fill=\"#FFFFFF\" points=\"104.96,433.66,88.9212,421.3005,100.7735,413.8491,104.96,433.66\" style=\"stroke: #383838; stroke-width: 1.0;\"/><ellipse cx=\"87.5806\" cy=\"415.4104\" fill=\"#383838\" rx=\"2\" ry=\"2\" style=\"stroke: #383838; stroke-width: 1.0;\"/><ellipse cx=\"96.0465\" cy=\"410.088\" fill=\"#383838\" rx=\"2\" ry=\"2\" style=\"stroke: #383838; stroke-width: 1.0;\"/></a><!--MD5=[03c8294790d3c57651a1993cecff665f]\n",
       "reverse link E8 to E3--><a href=\"psysml:44d9af1e-71a6-403b-81da-6292c3b1f2cb\" target=\"_top\" title=\"psysml:44d9af1e-71a6-403b-81da-6292c3b1f2cb\" xlink:actuate=\"onRequest\" xlink:href=\"psysml:44d9af1e-71a6-403b-81da-6292c3b1f2cb\" xlink:show=\"new\" xlink:title=\"psysml:44d9af1e-71a6-403b-81da-6292c3b1f2cb\" xlink:type=\"simple\"><path d=\"M123.65,420.81 C129.2,378.86 138.42,309.06 144.08,266.23 \" fill=\"none\" id=\"E8&lt;-E3\" style=\"stroke: #383838; stroke-width: 1.0;\"/><polygon fill=\"#FFFFFF\" points=\"121.92,433.89,126.6755,428.4692,123.5008,421.9946,118.7453,427.4154,121.92,433.89\" style=\"stroke: #383838; stroke-width: 1.0;\"/><text fill=\"#000000\" font-family=\"sans-serif\" font-size=\"13\" lengthAdjust=\"spacingAndGlyphs\" textLength=\"7\" x=\"136\" y=\"354.5669\">y</text></a><!--MD5=[0d75d2178373a6a4568e5dc728f58aef]\n",
       "reverse link E8 to E6--><a href=\"psysml:44d9af1e-71a6-403b-81da-6292c3b1f2cb\" target=\"_top\" title=\"psysml:44d9af1e-71a6-403b-81da-6292c3b1f2cb\" xlink:actuate=\"onRequest\" xlink:href=\"psysml:44d9af1e-71a6-403b-81da-6292c3b1f2cb\" xlink:show=\"new\" xlink:title=\"psysml:44d9af1e-71a6-403b-81da-6292c3b1f2cb\" xlink:type=\"simple\"><path d=\"M119,493.22 C119,513.81 119,539.16 119,556.95 \" fill=\"none\" id=\"E8&lt;-E6\" style=\"stroke: #383838; stroke-width: 1.0;\"/><polygon fill=\"#FFFFFF\" points=\"119,480.19,115,486.19,119,492.19,123,486.19,119,480.19\" style=\"stroke: #383838; stroke-width: 1.0;\"/><text fill=\"#000000\" font-family=\"sans-serif\" font-size=\"13\" lengthAdjust=\"spacingAndGlyphs\" textLength=\"7\" x=\"120\" y=\"523.0669\">y</text></a><!--MD5=[72abc1f1d33e5e5da78bf1e4871c4dc5]\n",
       "@startuml\r\n",
       "skinparam linetype polyline\r\n",
       "skinparam monochrome true\r\n",
       "skinparam classbackgroundcolor white\r\n",
       "skinparam shadowing false\r\n",
       "skinparam wrapWidth 300\r\n",
       "hide circle\r\n",
       "\r\n",
       "package \"ItemTest\" as E1  [[psysml:75fb623a-e350-4a47-9f82-c4d20b2b5b80 ]]  {\r\n",
       "comp usage \"f: A\" as E2  <<(T,blue)item>> [[psysml:d8a17efa-9aba-4cd7-b18a-68f8ed4c599b ]] {\r\n",
       "}\r\n",
       "comp def \"A\" as E3  <<(T,blue)item def>> [[psysml:30552314-ef8a-4f2d-b223-fa6e862cb5b8 ]] {\r\n",
       "- - items - -\r\n",
       "b: B\r\n",
       "}\r\n",
       "comp usage \"c: C\" as E5  <<(T,blue)part>> [[psysml:cb0fe327-dda6-4eae-9e46-1ce946f22982 ]] {\r\n",
       "}\r\n",
       "comp def \"B\" as E6  <<(T,blue)item def>> [[psysml:0c776550-23a6-42b8-908b-320a74e2d4ee ]] {\r\n",
       "}\r\n",
       "comp usage \"a: A\" as E7  <<(T,blue)part>> [[psysml:7f7b610c-5cf3-4f1d-92e7-984e3817e328 ]] {\r\n",
       "}\r\n",
       "comp def \"C\" as E8  <<(T,blue)part def>> [[psysml:3f3cfa4e-9100-4bf2-8dae-183ab53e5ac5 ]] {\r\n",
       "}\r\n",
       "comp def \"P\" as E9  <<(T,blue)port def>> [[psysml:b18b87fb-d7bd-4905-b0cb-818d68f57f75 ]] {\r\n",
       "- - items - -\r\n",
       "a1: A\r\n",
       "a2: A\r\n",
       "}\r\n",
       "E2 - -:|> E3 [[psysml:cbc83e8e-35d8-4884-92a4-03d9c321669a ]] \r\n",
       "E3 o- - E5 [[psysml:cb0fe327-dda6-4eae-9e46-1ce946f22982 ]] \r\n",
       "E7 - -:|> E3 [[psysml:b2ac9add-d533-4cc3-a1ec-28b279e4ff39 ]] \r\n",
       "E6 *- - E7 [[psysml:7f7b610c-5cf3-4f1d-92e7-984e3817e328 ]] \r\n",
       "E5 - -:|> E8 [[psysml:8f4ff897-72ba-4249-b35c-9a7192bde9f3 ]] \r\n",
       "E8 o- - E3 [[psysml:44d9af1e-71a6-403b-81da-6292c3b1f2cb ]] : y\r\n",
       "E8 o- - E6 [[psysml:44d9af1e-71a6-403b-81da-6292c3b1f2cb ]] : y\r\n",
       "}\r\n",
       "@enduml\r\n",
       "\n",
       "PlantUML version 1.2020.13(Sat Jun 13 12:26:38 UTC 2020)\n",
       "(EPL source distribution)\n",
       "Java Runtime: OpenJDK Runtime Environment\n",
       "JVM: OpenJDK 64-Bit Server VM\n",
       "Default Encoding: UTF-8\n",
       "Language: en\n",
       "Country: null\n",
       "--></g></svg>"
      ]
     },
     "execution_count": 9,
     "metadata": {},
     "output_type": "execute_result"
    }
   ],
   "source": [
    "%viz --style=\"POLYLINE\" --view=\"Default\" \"ItemTest\""
   ]
  },
  {
   "cell_type": "code",
   "execution_count": 10,
   "id": "applied-daily",
   "metadata": {
    "execution": {
     "iopub.execute_input": "2021-03-26T12:12:05.001057Z",
     "iopub.status.busy": "2021-03-26T12:12:05.000620Z",
     "iopub.status.idle": "2021-03-26T12:12:05.069114Z",
     "shell.execute_reply": "2021-03-26T12:12:05.069485Z"
    }
   },
   "outputs": [
    {
     "data": {
      "image/svg+xml": [
       "<?xml version=\"1.0\" encoding=\"UTF-8\" standalone=\"no\"?><svg xmlns=\"http://www.w3.org/2000/svg\" xmlns:xlink=\"http://www.w3.org/1999/xlink\" contentScriptType=\"application/ecmascript\" contentStyleType=\"text/css\" height=\"738px\" preserveAspectRatio=\"none\" style=\"width:228px;height:738px;\" version=\"1.1\" viewBox=\"0 0 228 738\" width=\"228px\" zoomAndPan=\"magnify\"><defs/><g><!--MD5=[fbc87193dbaf4d95561dea2c320d4a47]\n",
       "cluster E1--><a href=\"psysml:75fb623a-e350-4a47-9f82-c4d20b2b5b80\" target=\"_top\" title=\"psysml:75fb623a-e350-4a47-9f82-c4d20b2b5b80\" xlink:actuate=\"onRequest\" xlink:href=\"psysml:75fb623a-e350-4a47-9f82-c4d20b2b5b80\" xlink:show=\"new\" xlink:title=\"psysml:75fb623a-e350-4a47-9f82-c4d20b2b5b80\" xlink:type=\"simple\"><polygon fill=\"#FFFFFF\" points=\"16,6,91,6,98,28.2969,206,28.2969,206,726,16,726,16,6\" style=\"stroke: #000000; stroke-width: 1.5;\"/><line style=\"stroke: #000000; stroke-width: 1.5;\" x1=\"16\" x2=\"98\" y1=\"28.2969\" y2=\"28.2969\"/><text fill=\"#000000\" font-family=\"sans-serif\" font-size=\"14\" font-weight=\"bold\" lengthAdjust=\"spacingAndGlyphs\" textLength=\"69\" x=\"20\" y=\"20.9951\">ItemTest</text></a><!--MD5=[b4997ac47864f28c2f74865a473b2911]\n",
       "class E2--><a href=\"psysml:d8a17efa-9aba-4cd7-b18a-68f8ed4c599b\" target=\"_top\" title=\"psysml:d8a17efa-9aba-4cd7-b18a-68f8ed4c599b\" xlink:actuate=\"onRequest\" xlink:href=\"psysml:d8a17efa-9aba-4cd7-b18a-68f8ed4c599b\" xlink:show=\"new\" xlink:title=\"psysml:d8a17efa-9aba-4cd7-b18a-68f8ed4c599b\" xlink:type=\"simple\"><rect fill=\"#FFFFFF\" height=\"45.9375\" id=\"E2\" rx=\"10\" ry=\"10\" style=\"stroke: #383838; stroke-width: 1.5;\" width=\"43\" x=\"133.5\" y=\"62\"/><text fill=\"#000000\" font-family=\"sans-serif\" font-size=\"12\" font-style=\"italic\" lengthAdjust=\"spacingAndGlyphs\" textLength=\"41\" x=\"134.5\" y=\"78.1387\">«item»</text><text fill=\"#000000\" font-family=\"sans-serif\" font-size=\"12\" lengthAdjust=\"spacingAndGlyphs\" textLength=\"20\" x=\"145\" y=\"92.1074\">f: A</text><line style=\"stroke: #383838; stroke-width: 1.5;\" x1=\"134.5\" x2=\"175.5\" y1=\"99.9375\" y2=\"99.9375\"/></a><!--MD5=[09b614a08d8cba4a07c9adeb5e0fee81]\n",
       "class E3--><a href=\"psysml:30552314-ef8a-4f2d-b223-fa6e862cb5b8\" target=\"_top\" title=\"psysml:30552314-ef8a-4f2d-b223-fa6e862cb5b8\" xlink:actuate=\"onRequest\" xlink:href=\"psysml:30552314-ef8a-4f2d-b223-fa6e862cb5b8\" xlink:show=\"new\" xlink:title=\"psysml:30552314-ef8a-4f2d-b223-fa6e862cb5b8\" xlink:type=\"simple\"><rect fill=\"#FFFFFF\" height=\"75.5469\" id=\"E3\" style=\"stroke: #383838; stroke-width: 1.5;\" width=\"67\" x=\"115.5\" y=\"190\"/><text fill=\"#000000\" font-family=\"sans-serif\" font-size=\"12\" font-style=\"italic\" lengthAdjust=\"spacingAndGlyphs\" textLength=\"65\" x=\"116.5\" y=\"206.1387\">«item def»</text><text fill=\"#000000\" font-family=\"sans-serif\" font-size=\"12\" lengthAdjust=\"spacingAndGlyphs\" textLength=\"8\" x=\"145\" y=\"220.1074\">A</text><line style=\"stroke: #383838; stroke-width: 1.5;\" x1=\"116.5\" x2=\"181.5\" y1=\"227.9375\" y2=\"227.9375\"/><text fill=\"#000000\" font-family=\"sans-serif\" font-size=\"11\" lengthAdjust=\"spacingAndGlyphs\" textLength=\"23\" x=\"121.5\" y=\"258.9526\">b: B</text><line style=\"stroke: #383838; stroke-width: 1.0;\" x1=\"116.5\" x2=\"133\" y1=\"242.3398\" y2=\"242.3398\"/><text fill=\"#000000\" font-family=\"sans-serif\" font-size=\"11\" lengthAdjust=\"spacingAndGlyphs\" textLength=\"32\" x=\"133\" y=\"245.6479\">items</text><line style=\"stroke: #383838; stroke-width: 1.0;\" x1=\"165\" x2=\"181.5\" y1=\"242.3398\" y2=\"242.3398\"/></a><!--MD5=[270fce915f116d4de14055a7c1d9a0f3]\n",
       "class E5--><a href=\"psysml:cb0fe327-dda6-4eae-9e46-1ce946f22982\" target=\"_top\" title=\"psysml:cb0fe327-dda6-4eae-9e46-1ce946f22982\" xlink:actuate=\"onRequest\" xlink:href=\"psysml:cb0fe327-dda6-4eae-9e46-1ce946f22982\" xlink:show=\"new\" xlink:title=\"psysml:cb0fe327-dda6-4eae-9e46-1ce946f22982\" xlink:type=\"simple\"><rect fill=\"#FFFFFF\" height=\"45.9375\" id=\"E5\" rx=\"10\" ry=\"10\" style=\"stroke: #383838; stroke-width: 1.5;\" width=\"42\" x=\"32\" y=\"327\"/><text fill=\"#000000\" font-family=\"sans-serif\" font-size=\"12\" font-style=\"italic\" lengthAdjust=\"spacingAndGlyphs\" textLength=\"40\" x=\"33\" y=\"343.1387\">«part»</text><text fill=\"#000000\" font-family=\"sans-serif\" font-size=\"12\" lengthAdjust=\"spacingAndGlyphs\" textLength=\"23\" x=\"41.5\" y=\"357.1074\">c: C</text><line style=\"stroke: #383838; stroke-width: 1.5;\" x1=\"33\" x2=\"73\" y1=\"364.9375\" y2=\"364.9375\"/></a><!--MD5=[60a26617385b1d2d0262a64233df1f8d]\n",
       "class E6--><a href=\"psysml:0c776550-23a6-42b8-908b-320a74e2d4ee\" target=\"_top\" title=\"psysml:0c776550-23a6-42b8-908b-320a74e2d4ee\" xlink:actuate=\"onRequest\" xlink:href=\"psysml:0c776550-23a6-42b8-908b-320a74e2d4ee\" xlink:show=\"new\" xlink:title=\"psysml:0c776550-23a6-42b8-908b-320a74e2d4ee\" xlink:type=\"simple\"><rect fill=\"#FFFFFF\" height=\"45.9375\" id=\"E6\" style=\"stroke: #383838; stroke-width: 1.5;\" width=\"67\" x=\"85.5\" y=\"557\"/><text fill=\"#000000\" font-family=\"sans-serif\" font-size=\"12\" font-style=\"italic\" lengthAdjust=\"spacingAndGlyphs\" textLength=\"65\" x=\"86.5\" y=\"573.1387\">«item def»</text><text fill=\"#000000\" font-family=\"sans-serif\" font-size=\"12\" lengthAdjust=\"spacingAndGlyphs\" textLength=\"8\" x=\"115\" y=\"587.1074\">B</text><line style=\"stroke: #383838; stroke-width: 1.5;\" x1=\"86.5\" x2=\"151.5\" y1=\"594.9375\" y2=\"594.9375\"/></a><!--MD5=[2156ba9850f5573cc1fc38a6a4b2f02b]\n",
       "class E7--><a href=\"psysml:7f7b610c-5cf3-4f1d-92e7-984e3817e328\" target=\"_top\" title=\"psysml:7f7b610c-5cf3-4f1d-92e7-984e3817e328\" xlink:actuate=\"onRequest\" xlink:href=\"psysml:7f7b610c-5cf3-4f1d-92e7-984e3817e328\" xlink:show=\"new\" xlink:title=\"psysml:7f7b610c-5cf3-4f1d-92e7-984e3817e328\" xlink:type=\"simple\"><rect fill=\"#FFFFFF\" height=\"45.9375\" id=\"E7\" rx=\"10\" ry=\"10\" style=\"stroke: #383838; stroke-width: 1.5;\" width=\"42\" x=\"123\" y=\"664\"/><text fill=\"#000000\" font-family=\"sans-serif\" font-size=\"12\" font-style=\"italic\" lengthAdjust=\"spacingAndGlyphs\" textLength=\"40\" x=\"124\" y=\"680.1387\">«part»</text><text fill=\"#000000\" font-family=\"sans-serif\" font-size=\"12\" lengthAdjust=\"spacingAndGlyphs\" textLength=\"24\" x=\"132\" y=\"694.1074\">a: A</text><line style=\"stroke: #383838; stroke-width: 1.5;\" x1=\"124\" x2=\"164\" y1=\"701.9375\" y2=\"701.9375\"/></a><!--MD5=[b9389687b975829384b498ac4b7476b2]\n",
       "class E8--><a href=\"psysml:3f3cfa4e-9100-4bf2-8dae-183ab53e5ac5\" target=\"_top\" title=\"psysml:3f3cfa4e-9100-4bf2-8dae-183ab53e5ac5\" xlink:actuate=\"onRequest\" xlink:href=\"psysml:3f3cfa4e-9100-4bf2-8dae-183ab53e5ac5\" xlink:show=\"new\" xlink:title=\"psysml:3f3cfa4e-9100-4bf2-8dae-183ab53e5ac5\" xlink:type=\"simple\"><rect fill=\"#FFFFFF\" height=\"45.9375\" id=\"E8\" style=\"stroke: #383838; stroke-width: 1.5;\" width=\"66\" x=\"86\" y=\"434\"/><text fill=\"#000000\" font-family=\"sans-serif\" font-size=\"12\" font-style=\"italic\" lengthAdjust=\"spacingAndGlyphs\" textLength=\"64\" x=\"87\" y=\"450.1387\">«part def»</text><text fill=\"#000000\" font-family=\"sans-serif\" font-size=\"12\" lengthAdjust=\"spacingAndGlyphs\" textLength=\"8\" x=\"115\" y=\"464.1074\">C</text><line style=\"stroke: #383838; stroke-width: 1.5;\" x1=\"87\" x2=\"151\" y1=\"471.9375\" y2=\"471.9375\"/></a><!--MD5=[fd4143e9d270a159db93a4ea2a975926]\n",
       "class E9--><a href=\"psysml:b18b87fb-d7bd-4905-b0cb-818d68f57f75\" target=\"_top\" title=\"psysml:b18b87fb-d7bd-4905-b0cb-818d68f57f75\" xlink:actuate=\"onRequest\" xlink:href=\"psysml:b18b87fb-d7bd-4905-b0cb-818d68f57f75\" xlink:show=\"new\" xlink:title=\"psysml:b18b87fb-d7bd-4905-b0cb-818d68f57f75\" xlink:type=\"simple\"><rect fill=\"#FFFFFF\" height=\"88.3516\" id=\"E9\" style=\"stroke: #383838; stroke-width: 1.5;\" width=\"66\" x=\"32\" y=\"41\"/><text fill=\"#000000\" font-family=\"sans-serif\" font-size=\"12\" font-style=\"italic\" lengthAdjust=\"spacingAndGlyphs\" textLength=\"64\" x=\"33\" y=\"57.1387\">«port def»</text><text fill=\"#000000\" font-family=\"sans-serif\" font-size=\"12\" lengthAdjust=\"spacingAndGlyphs\" textLength=\"8\" x=\"61\" y=\"71.1074\">P</text><line style=\"stroke: #383838; stroke-width: 1.5;\" x1=\"33\" x2=\"97\" y1=\"78.9375\" y2=\"78.9375\"/><text fill=\"#000000\" font-family=\"sans-serif\" font-size=\"11\" lengthAdjust=\"spacingAndGlyphs\" textLength=\"29\" x=\"38\" y=\"109.9526\">a1: A</text><text fill=\"#000000\" font-family=\"sans-serif\" font-size=\"11\" lengthAdjust=\"spacingAndGlyphs\" textLength=\"29\" x=\"38\" y=\"122.7573\">a2: A</text><line style=\"stroke: #383838; stroke-width: 1.0;\" x1=\"33\" x2=\"49\" y1=\"93.3398\" y2=\"93.3398\"/><text fill=\"#000000\" font-family=\"sans-serif\" font-size=\"11\" lengthAdjust=\"spacingAndGlyphs\" textLength=\"32\" x=\"49\" y=\"96.6479\">items</text><line style=\"stroke: #383838; stroke-width: 1.0;\" x1=\"81\" x2=\"97\" y1=\"93.3398\" y2=\"93.3398\"/></a><!--MD5=[2720a5a1f2c3fca2055b230370638851]\n",
       "link E2 to E3--><a href=\"psysml:cbc83e8e-35d8-4884-92a4-03d9c321669a\" target=\"_top\" title=\"psysml:cbc83e8e-35d8-4884-92a4-03d9c321669a\" xlink:actuate=\"onRequest\" xlink:href=\"psysml:cbc83e8e-35d8-4884-92a4-03d9c321669a\" xlink:show=\"new\" xlink:title=\"psysml:cbc83e8e-35d8-4884-92a4-03d9c321669a\" xlink:type=\"simple\"><path d=\"M154.06,108.03 C153.36,124.58 152.36,148.04 151.44,169.76 \" fill=\"none\" id=\"E2-&gt;E3\" style=\"stroke: #383838; stroke-width: 1.0;\"/><polygon fill=\"#FFFFFF\" points=\"150.58,189.77,144.4005,170.4875,158.3877,171.0874,150.58,189.77\" style=\"stroke: #383838; stroke-width: 1.0;\"/><ellipse cx=\"146.6429\" cy=\"164.8784\" fill=\"#383838\" rx=\"2\" ry=\"2\" style=\"stroke: #383838; stroke-width: 1.0;\"/><ellipse cx=\"156.6338\" cy=\"165.3069\" fill=\"#383838\" rx=\"2\" ry=\"2\" style=\"stroke: #383838; stroke-width: 1.0;\"/></a><!--MD5=[191cde3d490a3f6d7bb551fe3ddca469]\n",
       "reverse link E3 to E5--><a href=\"psysml:cb0fe327-dda6-4eae-9e46-1ce946f22982\" target=\"_top\" title=\"psysml:cb0fe327-dda6-4eae-9e46-1ce946f22982\" xlink:actuate=\"onRequest\" xlink:href=\"psysml:cb0fe327-dda6-4eae-9e46-1ce946f22982\" xlink:show=\"new\" xlink:title=\"psysml:cb0fe327-dda6-4eae-9e46-1ce946f22982\" xlink:type=\"simple\"><path d=\"M110.75,276.82 C96.95,294.07 82.02,312.72 70.8,326.75 \" fill=\"none\" id=\"E3&lt;-E5\" style=\"stroke: #383838; stroke-width: 1.0;\"/><polygon fill=\"#FFFFFF\" points=\"119.15,266.31,112.2784,268.4964,111.6537,275.6804,118.5253,273.494,119.15,266.31\" style=\"stroke: #383838; stroke-width: 1.0;\"/></a><!--MD5=[14ccda38c055a5c0da953d572bc50960]\n",
       "link E7 to E3--><a href=\"psysml:b2ac9add-d533-4cc3-a1ec-28b279e4ff39\" target=\"_top\" title=\"psysml:b2ac9add-d533-4cc3-a1ec-28b279e4ff39\" xlink:actuate=\"onRequest\" xlink:href=\"psysml:b2ac9add-d533-4cc3-a1ec-28b279e4ff39\" xlink:show=\"new\" xlink:title=\"psysml:b2ac9add-d533-4cc3-a1ec-28b279e4ff39\" xlink:type=\"simple\"><path d=\"M153.43,663.99 C166.63,633.2 189,581 189,581 C189,349 189,349 189,349 C189,349 178.25,316.76 167.9,285.7 \" fill=\"none\" id=\"E7-&gt;E3\" style=\"stroke: #383838; stroke-width: 1.0;\"/><polygon fill=\"#FFFFFF\" points=\"161.44,266.31,174.0927,282.1185,160.8121,286.5487,161.44,266.31\" style=\"stroke: #383838; stroke-width: 1.0;\"/><ellipse cx=\"173.9992\" cy=\"288.1585\" fill=\"#383838\" rx=\"2\" ry=\"2\" style=\"stroke: #383838; stroke-width: 1.0;\"/><ellipse cx=\"164.5131\" cy=\"291.3229\" fill=\"#383838\" rx=\"2\" ry=\"2\" style=\"stroke: #383838; stroke-width: 1.0;\"/></a><!--MD5=[3f50a3473f1dfb74d3f76443e03635af]\n",
       "reverse link E6 to E7--><a href=\"psysml:7f7b610c-5cf3-4f1d-92e7-984e3817e328\" target=\"_top\" title=\"psysml:7f7b610c-5cf3-4f1d-92e7-984e3817e328\" xlink:actuate=\"onRequest\" xlink:href=\"psysml:7f7b610c-5cf3-4f1d-92e7-984e3817e328\" xlink:show=\"new\" xlink:title=\"psysml:7f7b610c-5cf3-4f1d-92e7-984e3817e328\" xlink:type=\"simple\"><path d=\"M127.34,616.05 C131.08,631.76 135.39,649.82 138.68,663.66 \" fill=\"none\" id=\"E6&lt;-E7\" style=\"stroke: #383838; stroke-width: 1.0;\"/><polygon fill=\"#383838\" points=\"124.24,603.01,121.7406,609.7741,127.023,614.6828,129.5224,607.9187,124.24,603.01\" style=\"stroke: #383838; stroke-width: 1.0;\"/></a><!--MD5=[dfaffb906826c3e5aca635516100ff21]\n",
       "link E5 to E8--><a href=\"psysml:8f4ff897-72ba-4249-b35c-9a7192bde9f3\" target=\"_top\" title=\"psysml:8f4ff897-72ba-4249-b35c-9a7192bde9f3\" xlink:actuate=\"onRequest\" xlink:href=\"psysml:8f4ff897-72ba-4249-b35c-9a7192bde9f3\" xlink:show=\"new\" xlink:title=\"psysml:8f4ff897-72ba-4249-b35c-9a7192bde9f3\" xlink:type=\"simple\"><path d=\"M66.84,373.01 C74.79,385.67 85.02,401.94 94.31,416.72 \" fill=\"none\" id=\"E5-&gt;E8\" style=\"stroke: #383838; stroke-width: 1.0;\"/><polygon fill=\"#FFFFFF\" points=\"104.96,433.66,88.9212,421.3005,100.7735,413.8491,104.96,433.66\" style=\"stroke: #383838; stroke-width: 1.0;\"/><ellipse cx=\"87.5806\" cy=\"415.4104\" fill=\"#383838\" rx=\"2\" ry=\"2\" style=\"stroke: #383838; stroke-width: 1.0;\"/><ellipse cx=\"96.0465\" cy=\"410.088\" fill=\"#383838\" rx=\"2\" ry=\"2\" style=\"stroke: #383838; stroke-width: 1.0;\"/></a><!--MD5=[03c8294790d3c57651a1993cecff665f]\n",
       "reverse link E8 to E3--><a href=\"psysml:44d9af1e-71a6-403b-81da-6292c3b1f2cb\" target=\"_top\" title=\"psysml:44d9af1e-71a6-403b-81da-6292c3b1f2cb\" xlink:actuate=\"onRequest\" xlink:href=\"psysml:44d9af1e-71a6-403b-81da-6292c3b1f2cb\" xlink:show=\"new\" xlink:title=\"psysml:44d9af1e-71a6-403b-81da-6292c3b1f2cb\" xlink:type=\"simple\"><path d=\"M123.65,420.81 C129.2,378.86 138.42,309.06 144.08,266.23 \" fill=\"none\" id=\"E8&lt;-E3\" style=\"stroke: #383838; stroke-width: 1.0;\"/><polygon fill=\"#FFFFFF\" points=\"121.92,433.89,126.6755,428.4692,123.5008,421.9946,118.7453,427.4154,121.92,433.89\" style=\"stroke: #383838; stroke-width: 1.0;\"/><text fill=\"#000000\" font-family=\"sans-serif\" font-size=\"13\" lengthAdjust=\"spacingAndGlyphs\" textLength=\"7\" x=\"136\" y=\"354.5669\">y</text></a><!--MD5=[0d75d2178373a6a4568e5dc728f58aef]\n",
       "reverse link E8 to E6--><a href=\"psysml:44d9af1e-71a6-403b-81da-6292c3b1f2cb\" target=\"_top\" title=\"psysml:44d9af1e-71a6-403b-81da-6292c3b1f2cb\" xlink:actuate=\"onRequest\" xlink:href=\"psysml:44d9af1e-71a6-403b-81da-6292c3b1f2cb\" xlink:show=\"new\" xlink:title=\"psysml:44d9af1e-71a6-403b-81da-6292c3b1f2cb\" xlink:type=\"simple\"><path d=\"M119,493.22 C119,513.81 119,539.16 119,556.95 \" fill=\"none\" id=\"E8&lt;-E6\" style=\"stroke: #383838; stroke-width: 1.0;\"/><polygon fill=\"#FFFFFF\" points=\"119,480.19,115,486.19,119,492.19,123,486.19,119,480.19\" style=\"stroke: #383838; stroke-width: 1.0;\"/><text fill=\"#000000\" font-family=\"sans-serif\" font-size=\"13\" lengthAdjust=\"spacingAndGlyphs\" textLength=\"7\" x=\"120\" y=\"523.0669\">y</text></a><!--MD5=[72abc1f1d33e5e5da78bf1e4871c4dc5]\n",
       "@startuml\r\n",
       "skinparam linetype polyline\r\n",
       "skinparam monochrome true\r\n",
       "skinparam classbackgroundcolor white\r\n",
       "skinparam shadowing false\r\n",
       "skinparam wrapWidth 300\r\n",
       "hide circle\r\n",
       "\r\n",
       "package \"ItemTest\" as E1  [[psysml:75fb623a-e350-4a47-9f82-c4d20b2b5b80 ]]  {\r\n",
       "comp usage \"f: A\" as E2  <<(T,blue)item>> [[psysml:d8a17efa-9aba-4cd7-b18a-68f8ed4c599b ]] {\r\n",
       "}\r\n",
       "comp def \"A\" as E3  <<(T,blue)item def>> [[psysml:30552314-ef8a-4f2d-b223-fa6e862cb5b8 ]] {\r\n",
       "- - items - -\r\n",
       "b: B\r\n",
       "}\r\n",
       "comp usage \"c: C\" as E5  <<(T,blue)part>> [[psysml:cb0fe327-dda6-4eae-9e46-1ce946f22982 ]] {\r\n",
       "}\r\n",
       "comp def \"B\" as E6  <<(T,blue)item def>> [[psysml:0c776550-23a6-42b8-908b-320a74e2d4ee ]] {\r\n",
       "}\r\n",
       "comp usage \"a: A\" as E7  <<(T,blue)part>> [[psysml:7f7b610c-5cf3-4f1d-92e7-984e3817e328 ]] {\r\n",
       "}\r\n",
       "comp def \"C\" as E8  <<(T,blue)part def>> [[psysml:3f3cfa4e-9100-4bf2-8dae-183ab53e5ac5 ]] {\r\n",
       "}\r\n",
       "comp def \"P\" as E9  <<(T,blue)port def>> [[psysml:b18b87fb-d7bd-4905-b0cb-818d68f57f75 ]] {\r\n",
       "- - items - -\r\n",
       "a1: A\r\n",
       "a2: A\r\n",
       "}\r\n",
       "E2 - -:|> E3 [[psysml:cbc83e8e-35d8-4884-92a4-03d9c321669a ]] \r\n",
       "E3 o- - E5 [[psysml:cb0fe327-dda6-4eae-9e46-1ce946f22982 ]] \r\n",
       "E7 - -:|> E3 [[psysml:b2ac9add-d533-4cc3-a1ec-28b279e4ff39 ]] \r\n",
       "E6 *- - E7 [[psysml:7f7b610c-5cf3-4f1d-92e7-984e3817e328 ]] \r\n",
       "E5 - -:|> E8 [[psysml:8f4ff897-72ba-4249-b35c-9a7192bde9f3 ]] \r\n",
       "E8 o- - E3 [[psysml:44d9af1e-71a6-403b-81da-6292c3b1f2cb ]] : y\r\n",
       "E8 o- - E6 [[psysml:44d9af1e-71a6-403b-81da-6292c3b1f2cb ]] : y\r\n",
       "}\r\n",
       "@enduml\r\n",
       "\n",
       "PlantUML version 1.2020.13(Sat Jun 13 12:26:38 UTC 2020)\n",
       "(EPL source distribution)\n",
       "Java Runtime: OpenJDK Runtime Environment\n",
       "JVM: OpenJDK 64-Bit Server VM\n",
       "Default Encoding: UTF-8\n",
       "Language: en\n",
       "Country: null\n",
       "--></g></svg>"
      ]
     },
     "execution_count": 10,
     "metadata": {},
     "output_type": "execute_result"
    }
   ],
   "source": [
    "%viz --style=\"POLYLINE\" --view=\"Tree\" \"ItemTest\""
   ]
  },
  {
   "cell_type": "code",
   "execution_count": 11,
   "id": "expensive-wright",
   "metadata": {
    "execution": {
     "iopub.execute_input": "2021-03-26T12:12:05.135672Z",
     "iopub.status.busy": "2021-03-26T12:12:05.120064Z",
     "iopub.status.idle": "2021-03-26T12:12:05.136674Z",
     "shell.execute_reply": "2021-03-26T12:12:05.137010Z"
    }
   },
   "outputs": [
    {
     "data": {
      "image/svg+xml": [
       "<?xml version=\"1.0\" encoding=\"UTF-8\" standalone=\"no\"?><svg xmlns=\"http://www.w3.org/2000/svg\" xmlns:xlink=\"http://www.w3.org/1999/xlink\" contentScriptType=\"application/ecmascript\" contentStyleType=\"text/css\" height=\"12px\" preserveAspectRatio=\"none\" style=\"width:12px;height:12px;\" version=\"1.1\" viewBox=\"0 0 12 12\" width=\"12px\" zoomAndPan=\"magnify\"><defs/><g><!--MD5=[896ac0e7a515d8dd7765a661cb4ee08b]\n",
       "@startuml\r\n",
       "skinparam linetype polyline\r\n",
       "skinparam monochrome true\r\n",
       "skinparam classbackgroundcolor white\r\n",
       "skinparam shadowing false\r\n",
       "skinparam wrapWidth 300\r\n",
       "hide circle\r\n",
       "\r\n",
       "@enduml\r\n",
       "\n",
       "PlantUML version 1.2020.13(Sat Jun 13 12:26:38 UTC 2020)\n",
       "(EPL source distribution)\n",
       "Java Runtime: OpenJDK Runtime Environment\n",
       "JVM: OpenJDK 64-Bit Server VM\n",
       "Default Encoding: UTF-8\n",
       "Language: en\n",
       "Country: null\n",
       "--></g></svg>"
      ]
     },
     "execution_count": 11,
     "metadata": {},
     "output_type": "execute_result"
    }
   ],
   "source": [
    "%viz --style=\"POLYLINE\" --view=\"State\" \"ItemTest\""
   ]
  },
  {
   "cell_type": "code",
   "execution_count": 12,
   "id": "departmental-ancient",
   "metadata": {
    "execution": {
     "iopub.execute_input": "2021-03-26T12:12:05.188356Z",
     "iopub.status.busy": "2021-03-26T12:12:05.186942Z",
     "iopub.status.idle": "2021-03-26T12:12:05.219129Z",
     "shell.execute_reply": "2021-03-26T12:12:05.217778Z"
    }
   },
   "outputs": [
    {
     "data": {
      "image/svg+xml": [
       "<?xml version=\"1.0\" encoding=\"UTF-8\" standalone=\"no\"?><svg xmlns=\"http://www.w3.org/2000/svg\" xmlns:xlink=\"http://www.w3.org/1999/xlink\" contentScriptType=\"application/ecmascript\" contentStyleType=\"text/css\" height=\"195px\" preserveAspectRatio=\"none\" style=\"width:582px;height:195px;\" version=\"1.1\" viewBox=\"0 0 582 195\" width=\"582px\" zoomAndPan=\"magnify\"><defs/><g><!--MD5=[fbc87193dbaf4d95561dea2c320d4a47]\n",
       "cluster E1--><a href=\"psysml:75fb623a-e350-4a47-9f82-c4d20b2b5b80\" target=\"_top\" title=\"psysml:75fb623a-e350-4a47-9f82-c4d20b2b5b80\" xlink:actuate=\"onRequest\" xlink:href=\"psysml:75fb623a-e350-4a47-9f82-c4d20b2b5b80\" xlink:show=\"new\" xlink:title=\"psysml:75fb623a-e350-4a47-9f82-c4d20b2b5b80\" xlink:type=\"simple\"><polygon fill=\"#FFFFFF\" points=\"16,6,91,6,98,28.2969,560,28.2969,560,183,16,183,16,6\" style=\"stroke: #000000; stroke-width: 1.5;\"/><line style=\"stroke: #000000; stroke-width: 1.5;\" x1=\"16\" x2=\"98\" y1=\"28.2969\" y2=\"28.2969\"/><text fill=\"#000000\" font-family=\"sans-serif\" font-size=\"14\" font-weight=\"bold\" lengthAdjust=\"spacingAndGlyphs\" textLength=\"69\" x=\"20\" y=\"20.9951\">ItemTest</text></a><!--MD5=[de5ec2e2e8f62f467e546659f5068c88]\n",
       "cluster E5--><a href=\"psysml:3f3cfa4e-9100-4bf2-8dae-183ab53e5ac5\" target=\"_top\" title=\"psysml:3f3cfa4e-9100-4bf2-8dae-183ab53e5ac5\" xlink:actuate=\"onRequest\" xlink:href=\"psysml:3f3cfa4e-9100-4bf2-8dae-183ab53e5ac5\" xlink:show=\"new\" xlink:title=\"psysml:3f3cfa4e-9100-4bf2-8dae-183ab53e5ac5\" xlink:type=\"simple\"><rect fill=\"#FFFFFF\" height=\"110\" id=\"E5\" style=\"stroke: #383838; stroke-width: 1.5;\" width=\"114\" x=\"422\" y=\"49\"/><rect fill=\"#F8F8F8\" height=\"37.9375\" style=\"stroke: #383838; stroke-width: 1.5;\" width=\"114\" x=\"422\" y=\"49\"/><text fill=\"#000000\" font-family=\"sans-serif\" font-size=\"12\" font-style=\"italic\" lengthAdjust=\"spacingAndGlyphs\" textLength=\"64\" x=\"447\" y=\"65.1387\">«part def»</text><text fill=\"#000000\" font-family=\"sans-serif\" font-size=\"12\" lengthAdjust=\"spacingAndGlyphs\" textLength=\"8\" x=\"475\" y=\"79.1074\">C</text></a><g id=\"E1.E3\"><a href=\"psysml:30552314-ef8a-4f2d-b223-fa6e862cb5b8\" target=\"_top\" title=\"psysml:30552314-ef8a-4f2d-b223-fa6e862cb5b8\" xlink:actuate=\"onRequest\" xlink:href=\"psysml:30552314-ef8a-4f2d-b223-fa6e862cb5b8\" xlink:show=\"new\" xlink:title=\"psysml:30552314-ef8a-4f2d-b223-fa6e862cb5b8\" xlink:type=\"simple\"><rect fill=\"#FFFFFF\" height=\"42.9375\" id=\"E3\" style=\"stroke: #383838; stroke-width: 1.5;\" width=\"72\" x=\"331\" y=\"100\"/><rect fill=\"#F8F8F8\" height=\"37.9375\" style=\"stroke: #383838; stroke-width: 1.5;\" width=\"72\" x=\"331\" y=\"100\"/><text fill=\"#000000\" font-family=\"sans-serif\" font-size=\"12\" font-style=\"italic\" lengthAdjust=\"spacingAndGlyphs\" textLength=\"65\" x=\"334.5\" y=\"116.1387\">«item def»</text><text fill=\"#000000\" font-family=\"sans-serif\" font-size=\"12\" lengthAdjust=\"spacingAndGlyphs\" textLength=\"8\" x=\"363\" y=\"130.1074\">A</text></a></g><g id=\"E1.E4\"><a href=\"psysml:0c776550-23a6-42b8-908b-320a74e2d4ee\" target=\"_top\" title=\"psysml:0c776550-23a6-42b8-908b-320a74e2d4ee\" xlink:actuate=\"onRequest\" xlink:href=\"psysml:0c776550-23a6-42b8-908b-320a74e2d4ee\" xlink:show=\"new\" xlink:title=\"psysml:0c776550-23a6-42b8-908b-320a74e2d4ee\" xlink:type=\"simple\"><rect fill=\"#FFFFFF\" height=\"42.9375\" id=\"E4\" style=\"stroke: #383838; stroke-width: 1.5;\" width=\"72\" x=\"224\" y=\"100\"/><rect fill=\"#F8F8F8\" height=\"37.9375\" style=\"stroke: #383838; stroke-width: 1.5;\" width=\"72\" x=\"224\" y=\"100\"/><text fill=\"#000000\" font-family=\"sans-serif\" font-size=\"12\" font-style=\"italic\" lengthAdjust=\"spacingAndGlyphs\" textLength=\"65\" x=\"227.5\" y=\"116.1387\">«item def»</text><text fill=\"#000000\" font-family=\"sans-serif\" font-size=\"12\" lengthAdjust=\"spacingAndGlyphs\" textLength=\"8\" x=\"256\" y=\"130.1074\">B</text></a></g><g id=\"E1.E7\"><a href=\"psysml:b18b87fb-d7bd-4905-b0cb-818d68f57f75\" target=\"_top\" title=\"psysml:b18b87fb-d7bd-4905-b0cb-818d68f57f75\" xlink:actuate=\"onRequest\" xlink:href=\"psysml:b18b87fb-d7bd-4905-b0cb-818d68f57f75\" xlink:show=\"new\" xlink:title=\"psysml:b18b87fb-d7bd-4905-b0cb-818d68f57f75\" xlink:type=\"simple\"><rect fill=\"#FFFFFF\" height=\"42.9375\" id=\"E7\" style=\"stroke: #383838; stroke-width: 1.5;\" width=\"71\" x=\"117.5\" y=\"100\"/><rect fill=\"#F8F8F8\" height=\"37.9375\" style=\"stroke: #383838; stroke-width: 1.5;\" width=\"71\" x=\"117.5\" y=\"100\"/><text fill=\"#000000\" font-family=\"sans-serif\" font-size=\"12\" font-style=\"italic\" lengthAdjust=\"spacingAndGlyphs\" textLength=\"64\" x=\"121\" y=\"116.1387\">«port def»</text><text fill=\"#000000\" font-family=\"sans-serif\" font-size=\"12\" lengthAdjust=\"spacingAndGlyphs\" textLength=\"8\" x=\"149\" y=\"130.1074\">P</text></a></g><g id=\"E1.E2\"><a href=\"psysml:d8a17efa-9aba-4cd7-b18a-68f8ed4c599b\" target=\"_top\" title=\"psysml:d8a17efa-9aba-4cd7-b18a-68f8ed4c599b\" xlink:actuate=\"onRequest\" xlink:href=\"psysml:d8a17efa-9aba-4cd7-b18a-68f8ed4c599b\" xlink:show=\"new\" xlink:title=\"psysml:d8a17efa-9aba-4cd7-b18a-68f8ed4c599b\" xlink:type=\"simple\"><rect fill=\"#FFFFFF\" height=\"42.9375\" id=\"E2\" rx=\"10\" ry=\"10\" style=\"stroke: #383838; stroke-width: 1.5;\" width=\"50\" x=\"32\" y=\"100\"/><rect fill=\"#F8F8F8\" height=\"37.9375\" rx=\"10\" ry=\"10\" style=\"stroke: #F8F8F8; stroke-width: 1.5;\" width=\"50\" x=\"32\" y=\"100\"/><rect fill=\"#F8F8F8\" height=\"10\" style=\"stroke: #F8F8F8; stroke-width: 1.5;\" width=\"50\" x=\"32\" y=\"127.9375\"/><rect fill=\"none\" height=\"42.9375\" id=\"E2\" rx=\"10\" ry=\"10\" style=\"stroke: #383838; stroke-width: 1.5;\" width=\"50\" x=\"32\" y=\"100\"/><text fill=\"#000000\" font-family=\"sans-serif\" font-size=\"12\" font-style=\"italic\" lengthAdjust=\"spacingAndGlyphs\" textLength=\"41\" x=\"36.5\" y=\"116.1387\">«item»</text><text fill=\"#000000\" font-family=\"sans-serif\" font-size=\"12\" lengthAdjust=\"spacingAndGlyphs\" textLength=\"20\" x=\"47\" y=\"130.1074\">f: A</text></a></g><g id=\"E1.E5.E6\"><a href=\"psysml:44d9af1e-71a6-403b-81da-6292c3b1f2cb\" target=\"_top\" title=\"psysml:44d9af1e-71a6-403b-81da-6292c3b1f2cb\" xlink:actuate=\"onRequest\" xlink:href=\"psysml:44d9af1e-71a6-403b-81da-6292c3b1f2cb\" xlink:show=\"new\" xlink:title=\"psysml:44d9af1e-71a6-403b-81da-6292c3b1f2cb\" xlink:type=\"simple\"><rect fill=\"#FFFFFF\" height=\"42.9375\" id=\"E6\" rx=\"10\" ry=\"10\" style=\"stroke: #383838; stroke-width: 1.5;\" width=\"82\" x=\"438\" y=\"100\"/><rect fill=\"#F8F8F8\" height=\"37.9375\" rx=\"10\" ry=\"10\" style=\"stroke: #F8F8F8; stroke-width: 1.5;\" width=\"82\" x=\"438\" y=\"100\"/><rect fill=\"#F8F8F8\" height=\"10\" style=\"stroke: #F8F8F8; stroke-width: 1.5;\" width=\"82\" x=\"438\" y=\"127.9375\"/><rect fill=\"none\" height=\"42.9375\" id=\"E6\" rx=\"10\" ry=\"10\" style=\"stroke: #383838; stroke-width: 1.5;\" width=\"82\" x=\"438\" y=\"100\"/><text fill=\"#000000\" font-family=\"sans-serif\" font-size=\"12\" font-style=\"italic\" lengthAdjust=\"spacingAndGlyphs\" textLength=\"75\" x=\"441.5\" y=\"116.1387\">«reference»</text><text fill=\"#000000\" font-family=\"sans-serif\" font-size=\"12\" lengthAdjust=\"spacingAndGlyphs\" textLength=\"38\" x=\"460\" y=\"130.1074\">y: A, B</text></a></g><!--MD5=[ffd7dbf0583e34c65f309a4cffbabf2b]\n",
       "@startuml\r\n",
       "skinparam ranksep 8\r\n",
       "skinparam rectangle {\r\n",
       " backgroundColor<<block>> LightGreen\r\n",
       "}\r\n",
       "skinparam linetype polyline\r\n",
       "skinparam monochrome true\r\n",
       "skinparam classbackgroundcolor white\r\n",
       "skinparam shadowing false\r\n",
       "skinparam wrapWidth 300\r\n",
       "hide circle\r\n",
       "\r\n",
       "package \"ItemTest\" as E1  [[psysml:75fb623a-e350-4a47-9f82-c4d20b2b5b80 ]]  {\r\n",
       "rec usage \"f: A\" as E2  <<(T,blue)item>> [[psysml:d8a17efa-9aba-4cd7-b18a-68f8ed4c599b ]] {\r\n",
       "}\r\n",
       "def \"A\" as E3  <<(T,blue)item def>> [[psysml:30552314-ef8a-4f2d-b223-fa6e862cb5b8 ]] \r\n",
       "def \"B\" as E4  <<(T,blue)item def>> [[psysml:0c776550-23a6-42b8-908b-320a74e2d4ee ]] \r\n",
       "rec def \"C\" as E5  <<(T,blue)part def>> [[psysml:3f3cfa4e-9100-4bf2-8dae-183ab53e5ac5 ]] {\r\n",
       "rec usage \"y: A, B\" as E6  <<(T,blue)reference>> [[psysml:44d9af1e-71a6-403b-81da-6292c3b1f2cb ]] {\r\n",
       "}\r\n",
       "}\r\n",
       "def \"P\" as E7  <<(T,blue)port def>> [[psysml:b18b87fb-d7bd-4905-b0cb-818d68f57f75 ]] \r\n",
       "}\r\n",
       "@enduml\r\n",
       "\n",
       "PlantUML version 1.2020.13(Sat Jun 13 12:26:38 UTC 2020)\n",
       "(EPL source distribution)\n",
       "Java Runtime: OpenJDK Runtime Environment\n",
       "JVM: OpenJDK 64-Bit Server VM\n",
       "Default Encoding: UTF-8\n",
       "Language: en\n",
       "Country: null\n",
       "--></g></svg>"
      ]
     },
     "execution_count": 12,
     "metadata": {},
     "output_type": "execute_result"
    }
   ],
   "source": [
    "%viz --style=\"POLYLINE\" --view=\"Interconnection\" \"ItemTest\""
   ]
  },
  {
   "cell_type": "code",
   "execution_count": 13,
   "id": "hybrid-spine",
   "metadata": {
    "execution": {
     "iopub.execute_input": "2021-03-26T12:12:05.270646Z",
     "iopub.status.busy": "2021-03-26T12:12:05.270282Z",
     "iopub.status.idle": "2021-03-26T12:12:05.274567Z",
     "shell.execute_reply": "2021-03-26T12:12:05.274299Z"
    }
   },
   "outputs": [
    {
     "data": {
      "image/svg+xml": [
       "<?xml version=\"1.0\" encoding=\"UTF-8\" standalone=\"no\"?><svg xmlns=\"http://www.w3.org/2000/svg\" xmlns:xlink=\"http://www.w3.org/1999/xlink\" contentScriptType=\"application/ecmascript\" contentStyleType=\"text/css\" height=\"12px\" preserveAspectRatio=\"none\" style=\"width:12px;height:12px;\" version=\"1.1\" viewBox=\"0 0 12 12\" width=\"12px\" zoomAndPan=\"magnify\"><defs/><g><!--MD5=[97bbf32f66ccd50cbc40d92ea8f5a65e]\n",
       "@startuml\r\n",
       "skinparam ranksep 8\r\n",
       "skinparam linetype polyline\r\n",
       "skinparam monochrome true\r\n",
       "skinparam classbackgroundcolor white\r\n",
       "skinparam shadowing false\r\n",
       "skinparam wrapWidth 300\r\n",
       "hide circle\r\n",
       "\r\n",
       "@enduml\r\n",
       "\n",
       "PlantUML version 1.2020.13(Sat Jun 13 12:26:38 UTC 2020)\n",
       "(EPL source distribution)\n",
       "Java Runtime: OpenJDK Runtime Environment\n",
       "JVM: OpenJDK 64-Bit Server VM\n",
       "Default Encoding: UTF-8\n",
       "Language: en\n",
       "Country: null\n",
       "--></g></svg>"
      ]
     },
     "execution_count": 13,
     "metadata": {},
     "output_type": "execute_result"
    }
   ],
   "source": [
    "%viz --style=\"POLYLINE\" --view=\"Action\" \"ItemTest\""
   ]
  },
  {
   "cell_type": "code",
   "execution_count": 14,
   "id": "royal-calibration",
   "metadata": {
    "execution": {
     "iopub.execute_input": "2021-03-26T12:12:05.327185Z",
     "iopub.status.busy": "2021-03-26T12:12:05.326547Z",
     "iopub.status.idle": "2021-03-26T12:12:05.390276Z",
     "shell.execute_reply": "2021-03-26T12:12:05.388515Z"
    }
   },
   "outputs": [
    {
     "data": {
      "image/svg+xml": [
       "<?xml version=\"1.0\" encoding=\"UTF-8\" standalone=\"no\"?><svg xmlns=\"http://www.w3.org/2000/svg\" xmlns:xlink=\"http://www.w3.org/1999/xlink\" contentScriptType=\"application/ecmascript\" contentStyleType=\"text/css\" height=\"738px\" preserveAspectRatio=\"none\" style=\"width:228px;height:738px;\" version=\"1.1\" viewBox=\"0 0 228 738\" width=\"228px\" zoomAndPan=\"magnify\"><defs/><g><!--MD5=[fbc87193dbaf4d95561dea2c320d4a47]\n",
       "cluster E1--><a href=\"psysml:75fb623a-e350-4a47-9f82-c4d20b2b5b80\" target=\"_top\" title=\"psysml:75fb623a-e350-4a47-9f82-c4d20b2b5b80\" xlink:actuate=\"onRequest\" xlink:href=\"psysml:75fb623a-e350-4a47-9f82-c4d20b2b5b80\" xlink:show=\"new\" xlink:title=\"psysml:75fb623a-e350-4a47-9f82-c4d20b2b5b80\" xlink:type=\"simple\"><polygon fill=\"#FFFFFF\" points=\"16,6,91,6,98,28.2969,206,28.2969,206,726,16,726,16,6\" style=\"stroke: #000000; stroke-width: 1.5;\"/><line style=\"stroke: #000000; stroke-width: 1.5;\" x1=\"16\" x2=\"98\" y1=\"28.2969\" y2=\"28.2969\"/><text fill=\"#000000\" font-family=\"sans-serif\" font-size=\"14\" font-weight=\"bold\" lengthAdjust=\"spacingAndGlyphs\" textLength=\"69\" x=\"20\" y=\"20.9951\">ItemTest</text></a><!--MD5=[b4997ac47864f28c2f74865a473b2911]\n",
       "class E2--><a href=\"psysml:d8a17efa-9aba-4cd7-b18a-68f8ed4c599b\" target=\"_top\" title=\"psysml:d8a17efa-9aba-4cd7-b18a-68f8ed4c599b\" xlink:actuate=\"onRequest\" xlink:href=\"psysml:d8a17efa-9aba-4cd7-b18a-68f8ed4c599b\" xlink:show=\"new\" xlink:title=\"psysml:d8a17efa-9aba-4cd7-b18a-68f8ed4c599b\" xlink:type=\"simple\"><rect fill=\"#FFFFFF\" height=\"45.9375\" id=\"E2\" rx=\"10\" ry=\"10\" style=\"stroke: #383838; stroke-width: 1.5;\" width=\"43\" x=\"133.5\" y=\"62\"/><text fill=\"#000000\" font-family=\"sans-serif\" font-size=\"12\" font-style=\"italic\" lengthAdjust=\"spacingAndGlyphs\" textLength=\"41\" x=\"134.5\" y=\"78.1387\">«item»</text><text fill=\"#000000\" font-family=\"sans-serif\" font-size=\"12\" lengthAdjust=\"spacingAndGlyphs\" textLength=\"20\" x=\"145\" y=\"92.1074\">f: A</text><line style=\"stroke: #383838; stroke-width: 1.5;\" x1=\"134.5\" x2=\"175.5\" y1=\"99.9375\" y2=\"99.9375\"/></a><!--MD5=[09b614a08d8cba4a07c9adeb5e0fee81]\n",
       "class E3--><a href=\"psysml:30552314-ef8a-4f2d-b223-fa6e862cb5b8\" target=\"_top\" title=\"psysml:30552314-ef8a-4f2d-b223-fa6e862cb5b8\" xlink:actuate=\"onRequest\" xlink:href=\"psysml:30552314-ef8a-4f2d-b223-fa6e862cb5b8\" xlink:show=\"new\" xlink:title=\"psysml:30552314-ef8a-4f2d-b223-fa6e862cb5b8\" xlink:type=\"simple\"><rect fill=\"#FFFFFF\" height=\"75.5469\" id=\"E3\" style=\"stroke: #383838; stroke-width: 1.5;\" width=\"67\" x=\"115.5\" y=\"190\"/><text fill=\"#000000\" font-family=\"sans-serif\" font-size=\"12\" font-style=\"italic\" lengthAdjust=\"spacingAndGlyphs\" textLength=\"65\" x=\"116.5\" y=\"206.1387\">«item def»</text><text fill=\"#000000\" font-family=\"sans-serif\" font-size=\"12\" lengthAdjust=\"spacingAndGlyphs\" textLength=\"8\" x=\"145\" y=\"220.1074\">A</text><line style=\"stroke: #383838; stroke-width: 1.5;\" x1=\"116.5\" x2=\"181.5\" y1=\"227.9375\" y2=\"227.9375\"/><text fill=\"#000000\" font-family=\"sans-serif\" font-size=\"11\" lengthAdjust=\"spacingAndGlyphs\" textLength=\"23\" x=\"121.5\" y=\"258.9526\">b: B</text><line style=\"stroke: #383838; stroke-width: 1.0;\" x1=\"116.5\" x2=\"133\" y1=\"242.3398\" y2=\"242.3398\"/><text fill=\"#000000\" font-family=\"sans-serif\" font-size=\"11\" lengthAdjust=\"spacingAndGlyphs\" textLength=\"32\" x=\"133\" y=\"245.6479\">items</text><line style=\"stroke: #383838; stroke-width: 1.0;\" x1=\"165\" x2=\"181.5\" y1=\"242.3398\" y2=\"242.3398\"/></a><!--MD5=[270fce915f116d4de14055a7c1d9a0f3]\n",
       "class E5--><a href=\"psysml:cb0fe327-dda6-4eae-9e46-1ce946f22982\" target=\"_top\" title=\"psysml:cb0fe327-dda6-4eae-9e46-1ce946f22982\" xlink:actuate=\"onRequest\" xlink:href=\"psysml:cb0fe327-dda6-4eae-9e46-1ce946f22982\" xlink:show=\"new\" xlink:title=\"psysml:cb0fe327-dda6-4eae-9e46-1ce946f22982\" xlink:type=\"simple\"><rect fill=\"#FFFFFF\" height=\"45.9375\" id=\"E5\" rx=\"10\" ry=\"10\" style=\"stroke: #383838; stroke-width: 1.5;\" width=\"42\" x=\"32\" y=\"327\"/><text fill=\"#000000\" font-family=\"sans-serif\" font-size=\"12\" font-style=\"italic\" lengthAdjust=\"spacingAndGlyphs\" textLength=\"40\" x=\"33\" y=\"343.1387\">«part»</text><text fill=\"#000000\" font-family=\"sans-serif\" font-size=\"12\" lengthAdjust=\"spacingAndGlyphs\" textLength=\"23\" x=\"41.5\" y=\"357.1074\">c: C</text><line style=\"stroke: #383838; stroke-width: 1.5;\" x1=\"33\" x2=\"73\" y1=\"364.9375\" y2=\"364.9375\"/></a><!--MD5=[60a26617385b1d2d0262a64233df1f8d]\n",
       "class E6--><a href=\"psysml:0c776550-23a6-42b8-908b-320a74e2d4ee\" target=\"_top\" title=\"psysml:0c776550-23a6-42b8-908b-320a74e2d4ee\" xlink:actuate=\"onRequest\" xlink:href=\"psysml:0c776550-23a6-42b8-908b-320a74e2d4ee\" xlink:show=\"new\" xlink:title=\"psysml:0c776550-23a6-42b8-908b-320a74e2d4ee\" xlink:type=\"simple\"><rect fill=\"#FFFFFF\" height=\"45.9375\" id=\"E6\" style=\"stroke: #383838; stroke-width: 1.5;\" width=\"67\" x=\"85.5\" y=\"557\"/><text fill=\"#000000\" font-family=\"sans-serif\" font-size=\"12\" font-style=\"italic\" lengthAdjust=\"spacingAndGlyphs\" textLength=\"65\" x=\"86.5\" y=\"573.1387\">«item def»</text><text fill=\"#000000\" font-family=\"sans-serif\" font-size=\"12\" lengthAdjust=\"spacingAndGlyphs\" textLength=\"8\" x=\"115\" y=\"587.1074\">B</text><line style=\"stroke: #383838; stroke-width: 1.5;\" x1=\"86.5\" x2=\"151.5\" y1=\"594.9375\" y2=\"594.9375\"/></a><!--MD5=[2156ba9850f5573cc1fc38a6a4b2f02b]\n",
       "class E7--><a href=\"psysml:7f7b610c-5cf3-4f1d-92e7-984e3817e328\" target=\"_top\" title=\"psysml:7f7b610c-5cf3-4f1d-92e7-984e3817e328\" xlink:actuate=\"onRequest\" xlink:href=\"psysml:7f7b610c-5cf3-4f1d-92e7-984e3817e328\" xlink:show=\"new\" xlink:title=\"psysml:7f7b610c-5cf3-4f1d-92e7-984e3817e328\" xlink:type=\"simple\"><rect fill=\"#FFFFFF\" height=\"45.9375\" id=\"E7\" rx=\"10\" ry=\"10\" style=\"stroke: #383838; stroke-width: 1.5;\" width=\"42\" x=\"123\" y=\"664\"/><text fill=\"#000000\" font-family=\"sans-serif\" font-size=\"12\" font-style=\"italic\" lengthAdjust=\"spacingAndGlyphs\" textLength=\"40\" x=\"124\" y=\"680.1387\">«part»</text><text fill=\"#000000\" font-family=\"sans-serif\" font-size=\"12\" lengthAdjust=\"spacingAndGlyphs\" textLength=\"24\" x=\"132\" y=\"694.1074\">a: A</text><line style=\"stroke: #383838; stroke-width: 1.5;\" x1=\"124\" x2=\"164\" y1=\"701.9375\" y2=\"701.9375\"/></a><!--MD5=[b9389687b975829384b498ac4b7476b2]\n",
       "class E8--><a href=\"psysml:3f3cfa4e-9100-4bf2-8dae-183ab53e5ac5\" target=\"_top\" title=\"psysml:3f3cfa4e-9100-4bf2-8dae-183ab53e5ac5\" xlink:actuate=\"onRequest\" xlink:href=\"psysml:3f3cfa4e-9100-4bf2-8dae-183ab53e5ac5\" xlink:show=\"new\" xlink:title=\"psysml:3f3cfa4e-9100-4bf2-8dae-183ab53e5ac5\" xlink:type=\"simple\"><rect fill=\"#FFFFFF\" height=\"45.9375\" id=\"E8\" style=\"stroke: #383838; stroke-width: 1.5;\" width=\"66\" x=\"86\" y=\"434\"/><text fill=\"#000000\" font-family=\"sans-serif\" font-size=\"12\" font-style=\"italic\" lengthAdjust=\"spacingAndGlyphs\" textLength=\"64\" x=\"87\" y=\"450.1387\">«part def»</text><text fill=\"#000000\" font-family=\"sans-serif\" font-size=\"12\" lengthAdjust=\"spacingAndGlyphs\" textLength=\"8\" x=\"115\" y=\"464.1074\">C</text><line style=\"stroke: #383838; stroke-width: 1.5;\" x1=\"87\" x2=\"151\" y1=\"471.9375\" y2=\"471.9375\"/></a><!--MD5=[fd4143e9d270a159db93a4ea2a975926]\n",
       "class E9--><a href=\"psysml:b18b87fb-d7bd-4905-b0cb-818d68f57f75\" target=\"_top\" title=\"psysml:b18b87fb-d7bd-4905-b0cb-818d68f57f75\" xlink:actuate=\"onRequest\" xlink:href=\"psysml:b18b87fb-d7bd-4905-b0cb-818d68f57f75\" xlink:show=\"new\" xlink:title=\"psysml:b18b87fb-d7bd-4905-b0cb-818d68f57f75\" xlink:type=\"simple\"><rect fill=\"#FFFFFF\" height=\"88.3516\" id=\"E9\" style=\"stroke: #383838; stroke-width: 1.5;\" width=\"66\" x=\"32\" y=\"41\"/><text fill=\"#000000\" font-family=\"sans-serif\" font-size=\"12\" font-style=\"italic\" lengthAdjust=\"spacingAndGlyphs\" textLength=\"64\" x=\"33\" y=\"57.1387\">«port def»</text><text fill=\"#000000\" font-family=\"sans-serif\" font-size=\"12\" lengthAdjust=\"spacingAndGlyphs\" textLength=\"8\" x=\"61\" y=\"71.1074\">P</text><line style=\"stroke: #383838; stroke-width: 1.5;\" x1=\"33\" x2=\"97\" y1=\"78.9375\" y2=\"78.9375\"/><text fill=\"#000000\" font-family=\"sans-serif\" font-size=\"11\" lengthAdjust=\"spacingAndGlyphs\" textLength=\"29\" x=\"38\" y=\"109.9526\">a1: A</text><text fill=\"#000000\" font-family=\"sans-serif\" font-size=\"11\" lengthAdjust=\"spacingAndGlyphs\" textLength=\"29\" x=\"38\" y=\"122.7573\">a2: A</text><line style=\"stroke: #383838; stroke-width: 1.0;\" x1=\"33\" x2=\"49\" y1=\"93.3398\" y2=\"93.3398\"/><text fill=\"#000000\" font-family=\"sans-serif\" font-size=\"11\" lengthAdjust=\"spacingAndGlyphs\" textLength=\"32\" x=\"49\" y=\"96.6479\">items</text><line style=\"stroke: #383838; stroke-width: 1.0;\" x1=\"81\" x2=\"97\" y1=\"93.3398\" y2=\"93.3398\"/></a><!--MD5=[2720a5a1f2c3fca2055b230370638851]\n",
       "link E2 to E3--><a href=\"psysml:cbc83e8e-35d8-4884-92a4-03d9c321669a\" target=\"_top\" title=\"psysml:cbc83e8e-35d8-4884-92a4-03d9c321669a\" xlink:actuate=\"onRequest\" xlink:href=\"psysml:cbc83e8e-35d8-4884-92a4-03d9c321669a\" xlink:show=\"new\" xlink:title=\"psysml:cbc83e8e-35d8-4884-92a4-03d9c321669a\" xlink:type=\"simple\"><path d=\"M154.06,108.03 C153.36,124.58 152.36,148.04 151.44,169.76 \" fill=\"none\" id=\"E2-&gt;E3\" style=\"stroke: #383838; stroke-width: 1.0;\"/><polygon fill=\"#FFFFFF\" points=\"150.58,189.77,144.4005,170.4875,158.3877,171.0874,150.58,189.77\" style=\"stroke: #383838; stroke-width: 1.0;\"/><ellipse cx=\"146.6429\" cy=\"164.8784\" fill=\"#383838\" rx=\"2\" ry=\"2\" style=\"stroke: #383838; stroke-width: 1.0;\"/><ellipse cx=\"156.6338\" cy=\"165.3069\" fill=\"#383838\" rx=\"2\" ry=\"2\" style=\"stroke: #383838; stroke-width: 1.0;\"/></a><!--MD5=[191cde3d490a3f6d7bb551fe3ddca469]\n",
       "reverse link E3 to E5--><a href=\"psysml:cb0fe327-dda6-4eae-9e46-1ce946f22982\" target=\"_top\" title=\"psysml:cb0fe327-dda6-4eae-9e46-1ce946f22982\" xlink:actuate=\"onRequest\" xlink:href=\"psysml:cb0fe327-dda6-4eae-9e46-1ce946f22982\" xlink:show=\"new\" xlink:title=\"psysml:cb0fe327-dda6-4eae-9e46-1ce946f22982\" xlink:type=\"simple\"><path d=\"M110.75,276.82 C96.95,294.07 82.02,312.72 70.8,326.75 \" fill=\"none\" id=\"E3&lt;-E5\" style=\"stroke: #383838; stroke-width: 1.0;\"/><polygon fill=\"#FFFFFF\" points=\"119.15,266.31,112.2784,268.4964,111.6537,275.6804,118.5253,273.494,119.15,266.31\" style=\"stroke: #383838; stroke-width: 1.0;\"/></a><!--MD5=[14ccda38c055a5c0da953d572bc50960]\n",
       "link E7 to E3--><a href=\"psysml:b2ac9add-d533-4cc3-a1ec-28b279e4ff39\" target=\"_top\" title=\"psysml:b2ac9add-d533-4cc3-a1ec-28b279e4ff39\" xlink:actuate=\"onRequest\" xlink:href=\"psysml:b2ac9add-d533-4cc3-a1ec-28b279e4ff39\" xlink:show=\"new\" xlink:title=\"psysml:b2ac9add-d533-4cc3-a1ec-28b279e4ff39\" xlink:type=\"simple\"><path d=\"M153.43,663.99 C166.63,633.2 189,581 189,581 C189,349 189,349 189,349 C189,349 178.25,316.76 167.9,285.7 \" fill=\"none\" id=\"E7-&gt;E3\" style=\"stroke: #383838; stroke-width: 1.0;\"/><polygon fill=\"#FFFFFF\" points=\"161.44,266.31,174.0927,282.1185,160.8121,286.5487,161.44,266.31\" style=\"stroke: #383838; stroke-width: 1.0;\"/><ellipse cx=\"173.9992\" cy=\"288.1585\" fill=\"#383838\" rx=\"2\" ry=\"2\" style=\"stroke: #383838; stroke-width: 1.0;\"/><ellipse cx=\"164.5131\" cy=\"291.3229\" fill=\"#383838\" rx=\"2\" ry=\"2\" style=\"stroke: #383838; stroke-width: 1.0;\"/></a><!--MD5=[3f50a3473f1dfb74d3f76443e03635af]\n",
       "reverse link E6 to E7--><a href=\"psysml:7f7b610c-5cf3-4f1d-92e7-984e3817e328\" target=\"_top\" title=\"psysml:7f7b610c-5cf3-4f1d-92e7-984e3817e328\" xlink:actuate=\"onRequest\" xlink:href=\"psysml:7f7b610c-5cf3-4f1d-92e7-984e3817e328\" xlink:show=\"new\" xlink:title=\"psysml:7f7b610c-5cf3-4f1d-92e7-984e3817e328\" xlink:type=\"simple\"><path d=\"M127.34,616.05 C131.08,631.76 135.39,649.82 138.68,663.66 \" fill=\"none\" id=\"E6&lt;-E7\" style=\"stroke: #383838; stroke-width: 1.0;\"/><polygon fill=\"#383838\" points=\"124.24,603.01,121.7406,609.7741,127.023,614.6828,129.5224,607.9187,124.24,603.01\" style=\"stroke: #383838; stroke-width: 1.0;\"/></a><!--MD5=[dfaffb906826c3e5aca635516100ff21]\n",
       "link E5 to E8--><a href=\"psysml:8f4ff897-72ba-4249-b35c-9a7192bde9f3\" target=\"_top\" title=\"psysml:8f4ff897-72ba-4249-b35c-9a7192bde9f3\" xlink:actuate=\"onRequest\" xlink:href=\"psysml:8f4ff897-72ba-4249-b35c-9a7192bde9f3\" xlink:show=\"new\" xlink:title=\"psysml:8f4ff897-72ba-4249-b35c-9a7192bde9f3\" xlink:type=\"simple\"><path d=\"M66.84,373.01 C74.79,385.67 85.02,401.94 94.31,416.72 \" fill=\"none\" id=\"E5-&gt;E8\" style=\"stroke: #383838; stroke-width: 1.0;\"/><polygon fill=\"#FFFFFF\" points=\"104.96,433.66,88.9212,421.3005,100.7735,413.8491,104.96,433.66\" style=\"stroke: #383838; stroke-width: 1.0;\"/><ellipse cx=\"87.5806\" cy=\"415.4104\" fill=\"#383838\" rx=\"2\" ry=\"2\" style=\"stroke: #383838; stroke-width: 1.0;\"/><ellipse cx=\"96.0465\" cy=\"410.088\" fill=\"#383838\" rx=\"2\" ry=\"2\" style=\"stroke: #383838; stroke-width: 1.0;\"/></a><!--MD5=[03c8294790d3c57651a1993cecff665f]\n",
       "reverse link E8 to E3--><a href=\"psysml:44d9af1e-71a6-403b-81da-6292c3b1f2cb\" target=\"_top\" title=\"psysml:44d9af1e-71a6-403b-81da-6292c3b1f2cb\" xlink:actuate=\"onRequest\" xlink:href=\"psysml:44d9af1e-71a6-403b-81da-6292c3b1f2cb\" xlink:show=\"new\" xlink:title=\"psysml:44d9af1e-71a6-403b-81da-6292c3b1f2cb\" xlink:type=\"simple\"><path d=\"M123.65,420.81 C129.2,378.86 138.42,309.06 144.08,266.23 \" fill=\"none\" id=\"E8&lt;-E3\" style=\"stroke: #383838; stroke-width: 1.0;\"/><polygon fill=\"#FFFFFF\" points=\"121.92,433.89,126.6755,428.4692,123.5008,421.9946,118.7453,427.4154,121.92,433.89\" style=\"stroke: #383838; stroke-width: 1.0;\"/><text fill=\"#000000\" font-family=\"sans-serif\" font-size=\"13\" lengthAdjust=\"spacingAndGlyphs\" textLength=\"7\" x=\"136\" y=\"354.5669\">y</text></a><!--MD5=[0d75d2178373a6a4568e5dc728f58aef]\n",
       "reverse link E8 to E6--><a href=\"psysml:44d9af1e-71a6-403b-81da-6292c3b1f2cb\" target=\"_top\" title=\"psysml:44d9af1e-71a6-403b-81da-6292c3b1f2cb\" xlink:actuate=\"onRequest\" xlink:href=\"psysml:44d9af1e-71a6-403b-81da-6292c3b1f2cb\" xlink:show=\"new\" xlink:title=\"psysml:44d9af1e-71a6-403b-81da-6292c3b1f2cb\" xlink:type=\"simple\"><path d=\"M119,493.22 C119,513.81 119,539.16 119,556.95 \" fill=\"none\" id=\"E8&lt;-E6\" style=\"stroke: #383838; stroke-width: 1.0;\"/><polygon fill=\"#FFFFFF\" points=\"119,480.19,115,486.19,119,492.19,123,486.19,119,480.19\" style=\"stroke: #383838; stroke-width: 1.0;\"/><text fill=\"#000000\" font-family=\"sans-serif\" font-size=\"13\" lengthAdjust=\"spacingAndGlyphs\" textLength=\"7\" x=\"120\" y=\"523.0669\">y</text></a><!--MD5=[72abc1f1d33e5e5da78bf1e4871c4dc5]\n",
       "@startuml\r\n",
       "skinparam linetype polyline\r\n",
       "skinparam monochrome true\r\n",
       "skinparam classbackgroundcolor white\r\n",
       "skinparam shadowing false\r\n",
       "skinparam wrapWidth 300\r\n",
       "hide circle\r\n",
       "\r\n",
       "package \"ItemTest\" as E1  [[psysml:75fb623a-e350-4a47-9f82-c4d20b2b5b80 ]]  {\r\n",
       "comp usage \"f: A\" as E2  <<(T,blue)item>> [[psysml:d8a17efa-9aba-4cd7-b18a-68f8ed4c599b ]] {\r\n",
       "}\r\n",
       "comp def \"A\" as E3  <<(T,blue)item def>> [[psysml:30552314-ef8a-4f2d-b223-fa6e862cb5b8 ]] {\r\n",
       "- - items - -\r\n",
       "b: B\r\n",
       "}\r\n",
       "comp usage \"c: C\" as E5  <<(T,blue)part>> [[psysml:cb0fe327-dda6-4eae-9e46-1ce946f22982 ]] {\r\n",
       "}\r\n",
       "comp def \"B\" as E6  <<(T,blue)item def>> [[psysml:0c776550-23a6-42b8-908b-320a74e2d4ee ]] {\r\n",
       "}\r\n",
       "comp usage \"a: A\" as E7  <<(T,blue)part>> [[psysml:7f7b610c-5cf3-4f1d-92e7-984e3817e328 ]] {\r\n",
       "}\r\n",
       "comp def \"C\" as E8  <<(T,blue)part def>> [[psysml:3f3cfa4e-9100-4bf2-8dae-183ab53e5ac5 ]] {\r\n",
       "}\r\n",
       "comp def \"P\" as E9  <<(T,blue)port def>> [[psysml:b18b87fb-d7bd-4905-b0cb-818d68f57f75 ]] {\r\n",
       "- - items - -\r\n",
       "a1: A\r\n",
       "a2: A\r\n",
       "}\r\n",
       "E2 - -:|> E3 [[psysml:cbc83e8e-35d8-4884-92a4-03d9c321669a ]] \r\n",
       "E3 o- - E5 [[psysml:cb0fe327-dda6-4eae-9e46-1ce946f22982 ]] \r\n",
       "E7 - -:|> E3 [[psysml:b2ac9add-d533-4cc3-a1ec-28b279e4ff39 ]] \r\n",
       "E6 *- - E7 [[psysml:7f7b610c-5cf3-4f1d-92e7-984e3817e328 ]] \r\n",
       "E5 - -:|> E8 [[psysml:8f4ff897-72ba-4249-b35c-9a7192bde9f3 ]] \r\n",
       "E8 o- - E3 [[psysml:44d9af1e-71a6-403b-81da-6292c3b1f2cb ]] : y\r\n",
       "E8 o- - E6 [[psysml:44d9af1e-71a6-403b-81da-6292c3b1f2cb ]] : y\r\n",
       "}\r\n",
       "@enduml\r\n",
       "\n",
       "PlantUML version 1.2020.13(Sat Jun 13 12:26:38 UTC 2020)\n",
       "(EPL source distribution)\n",
       "Java Runtime: OpenJDK Runtime Environment\n",
       "JVM: OpenJDK 64-Bit Server VM\n",
       "Default Encoding: UTF-8\n",
       "Language: en\n",
       "Country: null\n",
       "--></g></svg>"
      ]
     },
     "execution_count": 14,
     "metadata": {},
     "output_type": "execute_result"
    }
   ],
   "source": [
    "%viz --style=\"POLYLINE\" --view=\"Sequence\" \"ItemTest\""
   ]
  },
  {
   "cell_type": "code",
   "execution_count": 15,
   "id": "powerful-registrar",
   "metadata": {
    "execution": {
     "iopub.execute_input": "2021-03-26T12:12:05.441085Z",
     "iopub.status.busy": "2021-03-26T12:12:05.440471Z",
     "iopub.status.idle": "2021-03-26T12:12:05.507501Z",
     "shell.execute_reply": "2021-03-26T12:12:05.506893Z"
    }
   },
   "outputs": [
    {
     "data": {
      "image/svg+xml": [
       "<?xml version=\"1.0\" encoding=\"UTF-8\" standalone=\"no\"?><svg xmlns=\"http://www.w3.org/2000/svg\" xmlns:xlink=\"http://www.w3.org/1999/xlink\" contentScriptType=\"application/ecmascript\" contentStyleType=\"text/css\" height=\"738px\" preserveAspectRatio=\"none\" style=\"width:228px;height:738px;\" version=\"1.1\" viewBox=\"0 0 228 738\" width=\"228px\" zoomAndPan=\"magnify\"><defs/><g><!--MD5=[fbc87193dbaf4d95561dea2c320d4a47]\n",
       "cluster E1--><a href=\"psysml:75fb623a-e350-4a47-9f82-c4d20b2b5b80\" target=\"_top\" title=\"psysml:75fb623a-e350-4a47-9f82-c4d20b2b5b80\" xlink:actuate=\"onRequest\" xlink:href=\"psysml:75fb623a-e350-4a47-9f82-c4d20b2b5b80\" xlink:show=\"new\" xlink:title=\"psysml:75fb623a-e350-4a47-9f82-c4d20b2b5b80\" xlink:type=\"simple\"><polygon fill=\"#FFFFFF\" points=\"16,6,91,6,98,28.2969,206,28.2969,206,726,16,726,16,6\" style=\"stroke: #000000; stroke-width: 1.5;\"/><line style=\"stroke: #000000; stroke-width: 1.5;\" x1=\"16\" x2=\"98\" y1=\"28.2969\" y2=\"28.2969\"/><text fill=\"#000000\" font-family=\"sans-serif\" font-size=\"14\" font-weight=\"bold\" lengthAdjust=\"spacingAndGlyphs\" textLength=\"69\" x=\"20\" y=\"20.9951\">ItemTest</text></a><!--MD5=[b4997ac47864f28c2f74865a473b2911]\n",
       "class E2--><a href=\"psysml:d8a17efa-9aba-4cd7-b18a-68f8ed4c599b\" target=\"_top\" title=\"psysml:d8a17efa-9aba-4cd7-b18a-68f8ed4c599b\" xlink:actuate=\"onRequest\" xlink:href=\"psysml:d8a17efa-9aba-4cd7-b18a-68f8ed4c599b\" xlink:show=\"new\" xlink:title=\"psysml:d8a17efa-9aba-4cd7-b18a-68f8ed4c599b\" xlink:type=\"simple\"><rect fill=\"#FFFFFF\" height=\"45.9375\" id=\"E2\" rx=\"10\" ry=\"10\" style=\"stroke: #383838; stroke-width: 1.5;\" width=\"43\" x=\"133.5\" y=\"62\"/><text fill=\"#000000\" font-family=\"sans-serif\" font-size=\"12\" font-style=\"italic\" lengthAdjust=\"spacingAndGlyphs\" textLength=\"41\" x=\"134.5\" y=\"78.1387\">«item»</text><text fill=\"#000000\" font-family=\"sans-serif\" font-size=\"12\" lengthAdjust=\"spacingAndGlyphs\" textLength=\"20\" x=\"145\" y=\"92.1074\">f: A</text><line style=\"stroke: #383838; stroke-width: 1.5;\" x1=\"134.5\" x2=\"175.5\" y1=\"99.9375\" y2=\"99.9375\"/></a><!--MD5=[09b614a08d8cba4a07c9adeb5e0fee81]\n",
       "class E3--><a href=\"psysml:30552314-ef8a-4f2d-b223-fa6e862cb5b8\" target=\"_top\" title=\"psysml:30552314-ef8a-4f2d-b223-fa6e862cb5b8\" xlink:actuate=\"onRequest\" xlink:href=\"psysml:30552314-ef8a-4f2d-b223-fa6e862cb5b8\" xlink:show=\"new\" xlink:title=\"psysml:30552314-ef8a-4f2d-b223-fa6e862cb5b8\" xlink:type=\"simple\"><rect fill=\"#FFFFFF\" height=\"75.5469\" id=\"E3\" style=\"stroke: #383838; stroke-width: 1.5;\" width=\"67\" x=\"115.5\" y=\"190\"/><text fill=\"#000000\" font-family=\"sans-serif\" font-size=\"12\" font-style=\"italic\" lengthAdjust=\"spacingAndGlyphs\" textLength=\"65\" x=\"116.5\" y=\"206.1387\">«item def»</text><text fill=\"#000000\" font-family=\"sans-serif\" font-size=\"12\" lengthAdjust=\"spacingAndGlyphs\" textLength=\"8\" x=\"145\" y=\"220.1074\">A</text><line style=\"stroke: #383838; stroke-width: 1.5;\" x1=\"116.5\" x2=\"181.5\" y1=\"227.9375\" y2=\"227.9375\"/><text fill=\"#000000\" font-family=\"sans-serif\" font-size=\"11\" lengthAdjust=\"spacingAndGlyphs\" textLength=\"23\" x=\"121.5\" y=\"258.9526\">b: B</text><line style=\"stroke: #383838; stroke-width: 1.0;\" x1=\"116.5\" x2=\"133\" y1=\"242.3398\" y2=\"242.3398\"/><text fill=\"#000000\" font-family=\"sans-serif\" font-size=\"11\" lengthAdjust=\"spacingAndGlyphs\" textLength=\"32\" x=\"133\" y=\"245.6479\">items</text><line style=\"stroke: #383838; stroke-width: 1.0;\" x1=\"165\" x2=\"181.5\" y1=\"242.3398\" y2=\"242.3398\"/></a><!--MD5=[270fce915f116d4de14055a7c1d9a0f3]\n",
       "class E5--><a href=\"psysml:cb0fe327-dda6-4eae-9e46-1ce946f22982\" target=\"_top\" title=\"psysml:cb0fe327-dda6-4eae-9e46-1ce946f22982\" xlink:actuate=\"onRequest\" xlink:href=\"psysml:cb0fe327-dda6-4eae-9e46-1ce946f22982\" xlink:show=\"new\" xlink:title=\"psysml:cb0fe327-dda6-4eae-9e46-1ce946f22982\" xlink:type=\"simple\"><rect fill=\"#FFFFFF\" height=\"45.9375\" id=\"E5\" rx=\"10\" ry=\"10\" style=\"stroke: #383838; stroke-width: 1.5;\" width=\"42\" x=\"32\" y=\"327\"/><text fill=\"#000000\" font-family=\"sans-serif\" font-size=\"12\" font-style=\"italic\" lengthAdjust=\"spacingAndGlyphs\" textLength=\"40\" x=\"33\" y=\"343.1387\">«part»</text><text fill=\"#000000\" font-family=\"sans-serif\" font-size=\"12\" lengthAdjust=\"spacingAndGlyphs\" textLength=\"23\" x=\"41.5\" y=\"357.1074\">c: C</text><line style=\"stroke: #383838; stroke-width: 1.5;\" x1=\"33\" x2=\"73\" y1=\"364.9375\" y2=\"364.9375\"/></a><!--MD5=[60a26617385b1d2d0262a64233df1f8d]\n",
       "class E6--><a href=\"psysml:0c776550-23a6-42b8-908b-320a74e2d4ee\" target=\"_top\" title=\"psysml:0c776550-23a6-42b8-908b-320a74e2d4ee\" xlink:actuate=\"onRequest\" xlink:href=\"psysml:0c776550-23a6-42b8-908b-320a74e2d4ee\" xlink:show=\"new\" xlink:title=\"psysml:0c776550-23a6-42b8-908b-320a74e2d4ee\" xlink:type=\"simple\"><rect fill=\"#FFFFFF\" height=\"45.9375\" id=\"E6\" style=\"stroke: #383838; stroke-width: 1.5;\" width=\"67\" x=\"85.5\" y=\"557\"/><text fill=\"#000000\" font-family=\"sans-serif\" font-size=\"12\" font-style=\"italic\" lengthAdjust=\"spacingAndGlyphs\" textLength=\"65\" x=\"86.5\" y=\"573.1387\">«item def»</text><text fill=\"#000000\" font-family=\"sans-serif\" font-size=\"12\" lengthAdjust=\"spacingAndGlyphs\" textLength=\"8\" x=\"115\" y=\"587.1074\">B</text><line style=\"stroke: #383838; stroke-width: 1.5;\" x1=\"86.5\" x2=\"151.5\" y1=\"594.9375\" y2=\"594.9375\"/></a><!--MD5=[2156ba9850f5573cc1fc38a6a4b2f02b]\n",
       "class E7--><a href=\"psysml:7f7b610c-5cf3-4f1d-92e7-984e3817e328\" target=\"_top\" title=\"psysml:7f7b610c-5cf3-4f1d-92e7-984e3817e328\" xlink:actuate=\"onRequest\" xlink:href=\"psysml:7f7b610c-5cf3-4f1d-92e7-984e3817e328\" xlink:show=\"new\" xlink:title=\"psysml:7f7b610c-5cf3-4f1d-92e7-984e3817e328\" xlink:type=\"simple\"><rect fill=\"#FFFFFF\" height=\"45.9375\" id=\"E7\" rx=\"10\" ry=\"10\" style=\"stroke: #383838; stroke-width: 1.5;\" width=\"42\" x=\"123\" y=\"664\"/><text fill=\"#000000\" font-family=\"sans-serif\" font-size=\"12\" font-style=\"italic\" lengthAdjust=\"spacingAndGlyphs\" textLength=\"40\" x=\"124\" y=\"680.1387\">«part»</text><text fill=\"#000000\" font-family=\"sans-serif\" font-size=\"12\" lengthAdjust=\"spacingAndGlyphs\" textLength=\"24\" x=\"132\" y=\"694.1074\">a: A</text><line style=\"stroke: #383838; stroke-width: 1.5;\" x1=\"124\" x2=\"164\" y1=\"701.9375\" y2=\"701.9375\"/></a><!--MD5=[b9389687b975829384b498ac4b7476b2]\n",
       "class E8--><a href=\"psysml:3f3cfa4e-9100-4bf2-8dae-183ab53e5ac5\" target=\"_top\" title=\"psysml:3f3cfa4e-9100-4bf2-8dae-183ab53e5ac5\" xlink:actuate=\"onRequest\" xlink:href=\"psysml:3f3cfa4e-9100-4bf2-8dae-183ab53e5ac5\" xlink:show=\"new\" xlink:title=\"psysml:3f3cfa4e-9100-4bf2-8dae-183ab53e5ac5\" xlink:type=\"simple\"><rect fill=\"#FFFFFF\" height=\"45.9375\" id=\"E8\" style=\"stroke: #383838; stroke-width: 1.5;\" width=\"66\" x=\"86\" y=\"434\"/><text fill=\"#000000\" font-family=\"sans-serif\" font-size=\"12\" font-style=\"italic\" lengthAdjust=\"spacingAndGlyphs\" textLength=\"64\" x=\"87\" y=\"450.1387\">«part def»</text><text fill=\"#000000\" font-family=\"sans-serif\" font-size=\"12\" lengthAdjust=\"spacingAndGlyphs\" textLength=\"8\" x=\"115\" y=\"464.1074\">C</text><line style=\"stroke: #383838; stroke-width: 1.5;\" x1=\"87\" x2=\"151\" y1=\"471.9375\" y2=\"471.9375\"/></a><!--MD5=[fd4143e9d270a159db93a4ea2a975926]\n",
       "class E9--><a href=\"psysml:b18b87fb-d7bd-4905-b0cb-818d68f57f75\" target=\"_top\" title=\"psysml:b18b87fb-d7bd-4905-b0cb-818d68f57f75\" xlink:actuate=\"onRequest\" xlink:href=\"psysml:b18b87fb-d7bd-4905-b0cb-818d68f57f75\" xlink:show=\"new\" xlink:title=\"psysml:b18b87fb-d7bd-4905-b0cb-818d68f57f75\" xlink:type=\"simple\"><rect fill=\"#FFFFFF\" height=\"88.3516\" id=\"E9\" style=\"stroke: #383838; stroke-width: 1.5;\" width=\"66\" x=\"32\" y=\"41\"/><text fill=\"#000000\" font-family=\"sans-serif\" font-size=\"12\" font-style=\"italic\" lengthAdjust=\"spacingAndGlyphs\" textLength=\"64\" x=\"33\" y=\"57.1387\">«port def»</text><text fill=\"#000000\" font-family=\"sans-serif\" font-size=\"12\" lengthAdjust=\"spacingAndGlyphs\" textLength=\"8\" x=\"61\" y=\"71.1074\">P</text><line style=\"stroke: #383838; stroke-width: 1.5;\" x1=\"33\" x2=\"97\" y1=\"78.9375\" y2=\"78.9375\"/><text fill=\"#000000\" font-family=\"sans-serif\" font-size=\"11\" lengthAdjust=\"spacingAndGlyphs\" textLength=\"29\" x=\"38\" y=\"109.9526\">a1: A</text><text fill=\"#000000\" font-family=\"sans-serif\" font-size=\"11\" lengthAdjust=\"spacingAndGlyphs\" textLength=\"29\" x=\"38\" y=\"122.7573\">a2: A</text><line style=\"stroke: #383838; stroke-width: 1.0;\" x1=\"33\" x2=\"49\" y1=\"93.3398\" y2=\"93.3398\"/><text fill=\"#000000\" font-family=\"sans-serif\" font-size=\"11\" lengthAdjust=\"spacingAndGlyphs\" textLength=\"32\" x=\"49\" y=\"96.6479\">items</text><line style=\"stroke: #383838; stroke-width: 1.0;\" x1=\"81\" x2=\"97\" y1=\"93.3398\" y2=\"93.3398\"/></a><!--MD5=[2720a5a1f2c3fca2055b230370638851]\n",
       "link E2 to E3--><a href=\"psysml:cbc83e8e-35d8-4884-92a4-03d9c321669a\" target=\"_top\" title=\"psysml:cbc83e8e-35d8-4884-92a4-03d9c321669a\" xlink:actuate=\"onRequest\" xlink:href=\"psysml:cbc83e8e-35d8-4884-92a4-03d9c321669a\" xlink:show=\"new\" xlink:title=\"psysml:cbc83e8e-35d8-4884-92a4-03d9c321669a\" xlink:type=\"simple\"><path d=\"M154.06,108.03 C153.36,124.58 152.36,148.04 151.44,169.76 \" fill=\"none\" id=\"E2-&gt;E3\" style=\"stroke: #383838; stroke-width: 1.0;\"/><polygon fill=\"#FFFFFF\" points=\"150.58,189.77,144.4005,170.4875,158.3877,171.0874,150.58,189.77\" style=\"stroke: #383838; stroke-width: 1.0;\"/><ellipse cx=\"146.6429\" cy=\"164.8784\" fill=\"#383838\" rx=\"2\" ry=\"2\" style=\"stroke: #383838; stroke-width: 1.0;\"/><ellipse cx=\"156.6338\" cy=\"165.3069\" fill=\"#383838\" rx=\"2\" ry=\"2\" style=\"stroke: #383838; stroke-width: 1.0;\"/></a><!--MD5=[191cde3d490a3f6d7bb551fe3ddca469]\n",
       "reverse link E3 to E5--><a href=\"psysml:cb0fe327-dda6-4eae-9e46-1ce946f22982\" target=\"_top\" title=\"psysml:cb0fe327-dda6-4eae-9e46-1ce946f22982\" xlink:actuate=\"onRequest\" xlink:href=\"psysml:cb0fe327-dda6-4eae-9e46-1ce946f22982\" xlink:show=\"new\" xlink:title=\"psysml:cb0fe327-dda6-4eae-9e46-1ce946f22982\" xlink:type=\"simple\"><path d=\"M110.75,276.82 C96.95,294.07 82.02,312.72 70.8,326.75 \" fill=\"none\" id=\"E3&lt;-E5\" style=\"stroke: #383838; stroke-width: 1.0;\"/><polygon fill=\"#FFFFFF\" points=\"119.15,266.31,112.2784,268.4964,111.6537,275.6804,118.5253,273.494,119.15,266.31\" style=\"stroke: #383838; stroke-width: 1.0;\"/></a><!--MD5=[14ccda38c055a5c0da953d572bc50960]\n",
       "link E7 to E3--><a href=\"psysml:b2ac9add-d533-4cc3-a1ec-28b279e4ff39\" target=\"_top\" title=\"psysml:b2ac9add-d533-4cc3-a1ec-28b279e4ff39\" xlink:actuate=\"onRequest\" xlink:href=\"psysml:b2ac9add-d533-4cc3-a1ec-28b279e4ff39\" xlink:show=\"new\" xlink:title=\"psysml:b2ac9add-d533-4cc3-a1ec-28b279e4ff39\" xlink:type=\"simple\"><path d=\"M153.43,663.99 C166.63,633.2 189,581 189,581 C189,349 189,349 189,349 C189,349 178.25,316.76 167.9,285.7 \" fill=\"none\" id=\"E7-&gt;E3\" style=\"stroke: #383838; stroke-width: 1.0;\"/><polygon fill=\"#FFFFFF\" points=\"161.44,266.31,174.0927,282.1185,160.8121,286.5487,161.44,266.31\" style=\"stroke: #383838; stroke-width: 1.0;\"/><ellipse cx=\"173.9992\" cy=\"288.1585\" fill=\"#383838\" rx=\"2\" ry=\"2\" style=\"stroke: #383838; stroke-width: 1.0;\"/><ellipse cx=\"164.5131\" cy=\"291.3229\" fill=\"#383838\" rx=\"2\" ry=\"2\" style=\"stroke: #383838; stroke-width: 1.0;\"/></a><!--MD5=[3f50a3473f1dfb74d3f76443e03635af]\n",
       "reverse link E6 to E7--><a href=\"psysml:7f7b610c-5cf3-4f1d-92e7-984e3817e328\" target=\"_top\" title=\"psysml:7f7b610c-5cf3-4f1d-92e7-984e3817e328\" xlink:actuate=\"onRequest\" xlink:href=\"psysml:7f7b610c-5cf3-4f1d-92e7-984e3817e328\" xlink:show=\"new\" xlink:title=\"psysml:7f7b610c-5cf3-4f1d-92e7-984e3817e328\" xlink:type=\"simple\"><path d=\"M127.34,616.05 C131.08,631.76 135.39,649.82 138.68,663.66 \" fill=\"none\" id=\"E6&lt;-E7\" style=\"stroke: #383838; stroke-width: 1.0;\"/><polygon fill=\"#383838\" points=\"124.24,603.01,121.7406,609.7741,127.023,614.6828,129.5224,607.9187,124.24,603.01\" style=\"stroke: #383838; stroke-width: 1.0;\"/></a><!--MD5=[dfaffb906826c3e5aca635516100ff21]\n",
       "link E5 to E8--><a href=\"psysml:8f4ff897-72ba-4249-b35c-9a7192bde9f3\" target=\"_top\" title=\"psysml:8f4ff897-72ba-4249-b35c-9a7192bde9f3\" xlink:actuate=\"onRequest\" xlink:href=\"psysml:8f4ff897-72ba-4249-b35c-9a7192bde9f3\" xlink:show=\"new\" xlink:title=\"psysml:8f4ff897-72ba-4249-b35c-9a7192bde9f3\" xlink:type=\"simple\"><path d=\"M66.84,373.01 C74.79,385.67 85.02,401.94 94.31,416.72 \" fill=\"none\" id=\"E5-&gt;E8\" style=\"stroke: #383838; stroke-width: 1.0;\"/><polygon fill=\"#FFFFFF\" points=\"104.96,433.66,88.9212,421.3005,100.7735,413.8491,104.96,433.66\" style=\"stroke: #383838; stroke-width: 1.0;\"/><ellipse cx=\"87.5806\" cy=\"415.4104\" fill=\"#383838\" rx=\"2\" ry=\"2\" style=\"stroke: #383838; stroke-width: 1.0;\"/><ellipse cx=\"96.0465\" cy=\"410.088\" fill=\"#383838\" rx=\"2\" ry=\"2\" style=\"stroke: #383838; stroke-width: 1.0;\"/></a><!--MD5=[03c8294790d3c57651a1993cecff665f]\n",
       "reverse link E8 to E3--><a href=\"psysml:44d9af1e-71a6-403b-81da-6292c3b1f2cb\" target=\"_top\" title=\"psysml:44d9af1e-71a6-403b-81da-6292c3b1f2cb\" xlink:actuate=\"onRequest\" xlink:href=\"psysml:44d9af1e-71a6-403b-81da-6292c3b1f2cb\" xlink:show=\"new\" xlink:title=\"psysml:44d9af1e-71a6-403b-81da-6292c3b1f2cb\" xlink:type=\"simple\"><path d=\"M123.65,420.81 C129.2,378.86 138.42,309.06 144.08,266.23 \" fill=\"none\" id=\"E8&lt;-E3\" style=\"stroke: #383838; stroke-width: 1.0;\"/><polygon fill=\"#FFFFFF\" points=\"121.92,433.89,126.6755,428.4692,123.5008,421.9946,118.7453,427.4154,121.92,433.89\" style=\"stroke: #383838; stroke-width: 1.0;\"/><text fill=\"#000000\" font-family=\"sans-serif\" font-size=\"13\" lengthAdjust=\"spacingAndGlyphs\" textLength=\"7\" x=\"136\" y=\"354.5669\">y</text></a><!--MD5=[0d75d2178373a6a4568e5dc728f58aef]\n",
       "reverse link E8 to E6--><a href=\"psysml:44d9af1e-71a6-403b-81da-6292c3b1f2cb\" target=\"_top\" title=\"psysml:44d9af1e-71a6-403b-81da-6292c3b1f2cb\" xlink:actuate=\"onRequest\" xlink:href=\"psysml:44d9af1e-71a6-403b-81da-6292c3b1f2cb\" xlink:show=\"new\" xlink:title=\"psysml:44d9af1e-71a6-403b-81da-6292c3b1f2cb\" xlink:type=\"simple\"><path d=\"M119,493.22 C119,513.81 119,539.16 119,556.95 \" fill=\"none\" id=\"E8&lt;-E6\" style=\"stroke: #383838; stroke-width: 1.0;\"/><polygon fill=\"#FFFFFF\" points=\"119,480.19,115,486.19,119,492.19,123,486.19,119,480.19\" style=\"stroke: #383838; stroke-width: 1.0;\"/><text fill=\"#000000\" font-family=\"sans-serif\" font-size=\"13\" lengthAdjust=\"spacingAndGlyphs\" textLength=\"7\" x=\"120\" y=\"523.0669\">y</text></a><!--MD5=[72abc1f1d33e5e5da78bf1e4871c4dc5]\n",
       "@startuml\r\n",
       "skinparam linetype polyline\r\n",
       "skinparam monochrome true\r\n",
       "skinparam classbackgroundcolor white\r\n",
       "skinparam shadowing false\r\n",
       "skinparam wrapWidth 300\r\n",
       "hide circle\r\n",
       "\r\n",
       "package \"ItemTest\" as E1  [[psysml:75fb623a-e350-4a47-9f82-c4d20b2b5b80 ]]  {\r\n",
       "comp usage \"f: A\" as E2  <<(T,blue)item>> [[psysml:d8a17efa-9aba-4cd7-b18a-68f8ed4c599b ]] {\r\n",
       "}\r\n",
       "comp def \"A\" as E3  <<(T,blue)item def>> [[psysml:30552314-ef8a-4f2d-b223-fa6e862cb5b8 ]] {\r\n",
       "- - items - -\r\n",
       "b: B\r\n",
       "}\r\n",
       "comp usage \"c: C\" as E5  <<(T,blue)part>> [[psysml:cb0fe327-dda6-4eae-9e46-1ce946f22982 ]] {\r\n",
       "}\r\n",
       "comp def \"B\" as E6  <<(T,blue)item def>> [[psysml:0c776550-23a6-42b8-908b-320a74e2d4ee ]] {\r\n",
       "}\r\n",
       "comp usage \"a: A\" as E7  <<(T,blue)part>> [[psysml:7f7b610c-5cf3-4f1d-92e7-984e3817e328 ]] {\r\n",
       "}\r\n",
       "comp def \"C\" as E8  <<(T,blue)part def>> [[psysml:3f3cfa4e-9100-4bf2-8dae-183ab53e5ac5 ]] {\r\n",
       "}\r\n",
       "comp def \"P\" as E9  <<(T,blue)port def>> [[psysml:b18b87fb-d7bd-4905-b0cb-818d68f57f75 ]] {\r\n",
       "- - items - -\r\n",
       "a1: A\r\n",
       "a2: A\r\n",
       "}\r\n",
       "E2 - -:|> E3 [[psysml:cbc83e8e-35d8-4884-92a4-03d9c321669a ]] \r\n",
       "E3 o- - E5 [[psysml:cb0fe327-dda6-4eae-9e46-1ce946f22982 ]] \r\n",
       "E7 - -:|> E3 [[psysml:b2ac9add-d533-4cc3-a1ec-28b279e4ff39 ]] \r\n",
       "E6 *- - E7 [[psysml:7f7b610c-5cf3-4f1d-92e7-984e3817e328 ]] \r\n",
       "E5 - -:|> E8 [[psysml:8f4ff897-72ba-4249-b35c-9a7192bde9f3 ]] \r\n",
       "E8 o- - E3 [[psysml:44d9af1e-71a6-403b-81da-6292c3b1f2cb ]] : y\r\n",
       "E8 o- - E6 [[psysml:44d9af1e-71a6-403b-81da-6292c3b1f2cb ]] : y\r\n",
       "}\r\n",
       "@enduml\r\n",
       "\n",
       "PlantUML version 1.2020.13(Sat Jun 13 12:26:38 UTC 2020)\n",
       "(EPL source distribution)\n",
       "Java Runtime: OpenJDK Runtime Environment\n",
       "JVM: OpenJDK 64-Bit Server VM\n",
       "Default Encoding: UTF-8\n",
       "Language: en\n",
       "Country: null\n",
       "--></g></svg>"
      ]
     },
     "execution_count": 15,
     "metadata": {},
     "output_type": "execute_result"
    }
   ],
   "source": [
    "%viz --style=\"POLYLINE\" --view=\"MIXED\" \"ItemTest\""
   ]
  },
  {
   "cell_type": "code",
   "execution_count": 16,
   "id": "controlled-sodium",
   "metadata": {
    "execution": {
     "iopub.execute_input": "2021-03-26T12:12:05.560023Z",
     "iopub.status.busy": "2021-03-26T12:12:05.559132Z",
     "iopub.status.idle": "2021-03-26T12:12:05.622868Z",
     "shell.execute_reply": "2021-03-26T12:12:05.622585Z"
    }
   },
   "outputs": [
    {
     "data": {
      "image/svg+xml": [
       "<?xml version=\"1.0\" encoding=\"UTF-8\" standalone=\"no\"?><svg xmlns=\"http://www.w3.org/2000/svg\" xmlns:xlink=\"http://www.w3.org/1999/xlink\" contentScriptType=\"application/ecmascript\" contentStyleType=\"text/css\" height=\"239px\" preserveAspectRatio=\"none\" style=\"width:733px;height:239px;\" version=\"1.1\" viewBox=\"0 0 733 239\" width=\"733px\" zoomAndPan=\"magnify\"><defs/><g><!--MD5=[fbc87193dbaf4d95561dea2c320d4a47]\n",
       "cluster E1--><a href=\"psysml:75fb623a-e350-4a47-9f82-c4d20b2b5b80\" target=\"_top\" title=\"psysml:75fb623a-e350-4a47-9f82-c4d20b2b5b80\" xlink:actuate=\"onRequest\" xlink:href=\"psysml:75fb623a-e350-4a47-9f82-c4d20b2b5b80\" xlink:show=\"new\" xlink:title=\"psysml:75fb623a-e350-4a47-9f82-c4d20b2b5b80\" xlink:type=\"simple\"><polygon fill=\"#FFFFFF\" points=\"16,6,91,6,98,28.2969,711,28.2969,711,227,16,227,16,6\" style=\"stroke: #000000; stroke-width: 1.5;\"/><line style=\"stroke: #000000; stroke-width: 1.5;\" x1=\"16\" x2=\"98\" y1=\"28.2969\" y2=\"28.2969\"/><text fill=\"#000000\" font-family=\"sans-serif\" font-size=\"14\" font-weight=\"bold\" lengthAdjust=\"spacingAndGlyphs\" textLength=\"69\" x=\"20\" y=\"20.9951\">ItemTest</text></a><!--MD5=[b4997ac47864f28c2f74865a473b2911]\n",
       "class E2--><a href=\"psysml:d8a17efa-9aba-4cd7-b18a-68f8ed4c599b\" target=\"_top\" title=\"psysml:d8a17efa-9aba-4cd7-b18a-68f8ed4c599b\" xlink:actuate=\"onRequest\" xlink:href=\"psysml:d8a17efa-9aba-4cd7-b18a-68f8ed4c599b\" xlink:show=\"new\" xlink:title=\"psysml:d8a17efa-9aba-4cd7-b18a-68f8ed4c599b\" xlink:type=\"simple\"><rect fill=\"#FFFFFF\" height=\"45.9375\" id=\"E2\" rx=\"10\" ry=\"10\" style=\"stroke: #383838; stroke-width: 1.5;\" width=\"43\" x=\"43.5\" y=\"42\"/><text fill=\"#000000\" font-family=\"sans-serif\" font-size=\"12\" font-style=\"italic\" lengthAdjust=\"spacingAndGlyphs\" textLength=\"41\" x=\"44.5\" y=\"58.1387\">«item»</text><text fill=\"#000000\" font-family=\"sans-serif\" font-size=\"12\" lengthAdjust=\"spacingAndGlyphs\" textLength=\"20\" x=\"55\" y=\"72.1074\">f: A</text><line style=\"stroke: #383838; stroke-width: 1.5;\" x1=\"44.5\" x2=\"85.5\" y1=\"79.9375\" y2=\"79.9375\"/></a><!--MD5=[09b614a08d8cba4a07c9adeb5e0fee81]\n",
       "class E3--><a href=\"psysml:30552314-ef8a-4f2d-b223-fa6e862cb5b8\" target=\"_top\" title=\"psysml:30552314-ef8a-4f2d-b223-fa6e862cb5b8\" xlink:actuate=\"onRequest\" xlink:href=\"psysml:30552314-ef8a-4f2d-b223-fa6e862cb5b8\" xlink:show=\"new\" xlink:title=\"psysml:30552314-ef8a-4f2d-b223-fa6e862cb5b8\" xlink:type=\"simple\"><rect fill=\"#FFFFFF\" height=\"75.5469\" id=\"E3\" style=\"stroke: #383838; stroke-width: 1.5;\" width=\"67\" x=\"159\" y=\"50\"/><text fill=\"#000000\" font-family=\"sans-serif\" font-size=\"12\" font-style=\"italic\" lengthAdjust=\"spacingAndGlyphs\" textLength=\"65\" x=\"160\" y=\"66.1387\">«item def»</text><text fill=\"#000000\" font-family=\"sans-serif\" font-size=\"12\" lengthAdjust=\"spacingAndGlyphs\" textLength=\"8\" x=\"188.5\" y=\"80.1074\">A</text><line style=\"stroke: #383838; stroke-width: 1.5;\" x1=\"160\" x2=\"225\" y1=\"87.9375\" y2=\"87.9375\"/><text fill=\"#000000\" font-family=\"sans-serif\" font-size=\"11\" lengthAdjust=\"spacingAndGlyphs\" textLength=\"23\" x=\"165\" y=\"118.9526\">b: B</text><line style=\"stroke: #383838; stroke-width: 1.0;\" x1=\"160\" x2=\"176.5\" y1=\"102.3398\" y2=\"102.3398\"/><text fill=\"#000000\" font-family=\"sans-serif\" font-size=\"11\" lengthAdjust=\"spacingAndGlyphs\" textLength=\"32\" x=\"176.5\" y=\"105.6479\">items</text><line style=\"stroke: #383838; stroke-width: 1.0;\" x1=\"208.5\" x2=\"225\" y1=\"102.3398\" y2=\"102.3398\"/></a><!--MD5=[270fce915f116d4de14055a7c1d9a0f3]\n",
       "class E5--><a href=\"psysml:cb0fe327-dda6-4eae-9e46-1ce946f22982\" target=\"_top\" title=\"psysml:cb0fe327-dda6-4eae-9e46-1ce946f22982\" xlink:actuate=\"onRequest\" xlink:href=\"psysml:cb0fe327-dda6-4eae-9e46-1ce946f22982\" xlink:show=\"new\" xlink:title=\"psysml:cb0fe327-dda6-4eae-9e46-1ce946f22982\" xlink:type=\"simple\"><rect fill=\"#FFFFFF\" height=\"45.9375\" id=\"E5\" rx=\"10\" ry=\"10\" style=\"stroke: #383838; stroke-width: 1.5;\" width=\"42\" x=\"287\" y=\"165\"/><text fill=\"#000000\" font-family=\"sans-serif\" font-size=\"12\" font-style=\"italic\" lengthAdjust=\"spacingAndGlyphs\" textLength=\"40\" x=\"288\" y=\"181.1387\">«part»</text><text fill=\"#000000\" font-family=\"sans-serif\" font-size=\"12\" lengthAdjust=\"spacingAndGlyphs\" textLength=\"23\" x=\"296.5\" y=\"195.1074\">c: C</text><line style=\"stroke: #383838; stroke-width: 1.5;\" x1=\"288\" x2=\"328\" y1=\"202.9375\" y2=\"202.9375\"/></a><!--MD5=[60a26617385b1d2d0262a64233df1f8d]\n",
       "class E6--><a href=\"psysml:0c776550-23a6-42b8-908b-320a74e2d4ee\" target=\"_top\" title=\"psysml:0c776550-23a6-42b8-908b-320a74e2d4ee\" xlink:actuate=\"onRequest\" xlink:href=\"psysml:0c776550-23a6-42b8-908b-320a74e2d4ee\" xlink:show=\"new\" xlink:title=\"psysml:0c776550-23a6-42b8-908b-320a74e2d4ee\" xlink:type=\"simple\"><rect fill=\"#FFFFFF\" height=\"45.9375\" id=\"E6\" style=\"stroke: #383838; stroke-width: 1.5;\" width=\"67\" x=\"525\" y=\"78\"/><text fill=\"#000000\" font-family=\"sans-serif\" font-size=\"12\" font-style=\"italic\" lengthAdjust=\"spacingAndGlyphs\" textLength=\"65\" x=\"526\" y=\"94.1387\">«item def»</text><text fill=\"#000000\" font-family=\"sans-serif\" font-size=\"12\" lengthAdjust=\"spacingAndGlyphs\" textLength=\"8\" x=\"554.5\" y=\"108.1074\">B</text><line style=\"stroke: #383838; stroke-width: 1.5;\" x1=\"526\" x2=\"591\" y1=\"115.9375\" y2=\"115.9375\"/></a><!--MD5=[2156ba9850f5573cc1fc38a6a4b2f02b]\n",
       "class E7--><a href=\"psysml:7f7b610c-5cf3-4f1d-92e7-984e3817e328\" target=\"_top\" title=\"psysml:7f7b610c-5cf3-4f1d-92e7-984e3817e328\" xlink:actuate=\"onRequest\" xlink:href=\"psysml:7f7b610c-5cf3-4f1d-92e7-984e3817e328\" xlink:show=\"new\" xlink:title=\"psysml:7f7b610c-5cf3-4f1d-92e7-984e3817e328\" xlink:type=\"simple\"><rect fill=\"#FFFFFF\" height=\"45.9375\" id=\"E7\" rx=\"10\" ry=\"10\" style=\"stroke: #383838; stroke-width: 1.5;\" width=\"42\" x=\"653\" y=\"59\"/><text fill=\"#000000\" font-family=\"sans-serif\" font-size=\"12\" font-style=\"italic\" lengthAdjust=\"spacingAndGlyphs\" textLength=\"40\" x=\"654\" y=\"75.1387\">«part»</text><text fill=\"#000000\" font-family=\"sans-serif\" font-size=\"12\" lengthAdjust=\"spacingAndGlyphs\" textLength=\"24\" x=\"662\" y=\"89.1074\">a: A</text><line style=\"stroke: #383838; stroke-width: 1.5;\" x1=\"654\" x2=\"694\" y1=\"96.9375\" y2=\"96.9375\"/></a><!--MD5=[b9389687b975829384b498ac4b7476b2]\n",
       "class E8--><a href=\"psysml:3f3cfa4e-9100-4bf2-8dae-183ab53e5ac5\" target=\"_top\" title=\"psysml:3f3cfa4e-9100-4bf2-8dae-183ab53e5ac5\" xlink:actuate=\"onRequest\" xlink:href=\"psysml:3f3cfa4e-9100-4bf2-8dae-183ab53e5ac5\" xlink:show=\"new\" xlink:title=\"psysml:3f3cfa4e-9100-4bf2-8dae-183ab53e5ac5\" xlink:type=\"simple\"><rect fill=\"#FFFFFF\" height=\"45.9375\" id=\"E8\" style=\"stroke: #383838; stroke-width: 1.5;\" width=\"66\" x=\"390\" y=\"78\"/><text fill=\"#000000\" font-family=\"sans-serif\" font-size=\"12\" font-style=\"italic\" lengthAdjust=\"spacingAndGlyphs\" textLength=\"64\" x=\"391\" y=\"94.1387\">«part def»</text><text fill=\"#000000\" font-family=\"sans-serif\" font-size=\"12\" lengthAdjust=\"spacingAndGlyphs\" textLength=\"8\" x=\"419\" y=\"108.1074\">C</text><line style=\"stroke: #383838; stroke-width: 1.5;\" x1=\"391\" x2=\"455\" y1=\"115.9375\" y2=\"115.9375\"/></a><!--MD5=[fd4143e9d270a159db93a4ea2a975926]\n",
       "class E9--><a href=\"psysml:b18b87fb-d7bd-4905-b0cb-818d68f57f75\" target=\"_top\" title=\"psysml:b18b87fb-d7bd-4905-b0cb-818d68f57f75\" xlink:actuate=\"onRequest\" xlink:href=\"psysml:b18b87fb-d7bd-4905-b0cb-818d68f57f75\" xlink:show=\"new\" xlink:title=\"psysml:b18b87fb-d7bd-4905-b0cb-818d68f57f75\" xlink:type=\"simple\"><rect fill=\"#FFFFFF\" height=\"88.3516\" id=\"E9\" style=\"stroke: #383838; stroke-width: 1.5;\" width=\"66\" x=\"32\" y=\"123\"/><text fill=\"#000000\" font-family=\"sans-serif\" font-size=\"12\" font-style=\"italic\" lengthAdjust=\"spacingAndGlyphs\" textLength=\"64\" x=\"33\" y=\"139.1387\">«port def»</text><text fill=\"#000000\" font-family=\"sans-serif\" font-size=\"12\" lengthAdjust=\"spacingAndGlyphs\" textLength=\"8\" x=\"61\" y=\"153.1074\">P</text><line style=\"stroke: #383838; stroke-width: 1.5;\" x1=\"33\" x2=\"97\" y1=\"160.9375\" y2=\"160.9375\"/><text fill=\"#000000\" font-family=\"sans-serif\" font-size=\"11\" lengthAdjust=\"spacingAndGlyphs\" textLength=\"29\" x=\"38\" y=\"191.9526\">a1: A</text><text fill=\"#000000\" font-family=\"sans-serif\" font-size=\"11\" lengthAdjust=\"spacingAndGlyphs\" textLength=\"29\" x=\"38\" y=\"204.7573\">a2: A</text><line style=\"stroke: #383838; stroke-width: 1.0;\" x1=\"33\" x2=\"49\" y1=\"175.3398\" y2=\"175.3398\"/><text fill=\"#000000\" font-family=\"sans-serif\" font-size=\"11\" lengthAdjust=\"spacingAndGlyphs\" textLength=\"32\" x=\"49\" y=\"178.6479\">items</text><line style=\"stroke: #383838; stroke-width: 1.0;\" x1=\"81\" x2=\"97\" y1=\"175.3398\" y2=\"175.3398\"/></a><!--MD5=[2720a5a1f2c3fca2055b230370638851]\n",
       "link E2 to E3--><a href=\"psysml:cbc83e8e-35d8-4884-92a4-03d9c321669a\" target=\"_top\" title=\"psysml:cbc83e8e-35d8-4884-92a4-03d9c321669a\" xlink:actuate=\"onRequest\" xlink:href=\"psysml:cbc83e8e-35d8-4884-92a4-03d9c321669a\" xlink:show=\"new\" xlink:title=\"psysml:cbc83e8e-35d8-4884-92a4-03d9c321669a\" xlink:type=\"simple\"><path d=\"M86.72,68.8 C100.99,71.41 120.62,75.01 139.03,78.38 \" fill=\"none\" id=\"E2-&gt;E3\" style=\"stroke: #383838; stroke-width: 1.0;\"/><polygon fill=\"#FFFFFF\" points=\"158.95,82.03,139.0003,85.4953,141.5205,71.724,158.95,82.03\" style=\"stroke: #383838; stroke-width: 1.0;\"/><ellipse cx=\"133.7534\" cy=\"82.5019\" fill=\"#383838\" rx=\"2\" ry=\"2\" style=\"stroke: #383838; stroke-width: 1.0;\"/><ellipse cx=\"135.5536\" cy=\"72.6653\" fill=\"#383838\" rx=\"2\" ry=\"2\" style=\"stroke: #383838; stroke-width: 1.0;\"/></a><!--MD5=[191cde3d490a3f6d7bb551fe3ddca469]\n",
       "reverse link E3 to E5--><a href=\"psysml:cb0fe327-dda6-4eae-9e46-1ce946f22982\" target=\"_top\" title=\"psysml:cb0fe327-dda6-4eae-9e46-1ce946f22982\" xlink:actuate=\"onRequest\" xlink:href=\"psysml:cb0fe327-dda6-4eae-9e46-1ce946f22982\" xlink:show=\"new\" xlink:title=\"psysml:cb0fe327-dda6-4eae-9e46-1ce946f22982\" xlink:type=\"simple\"><path d=\"M236.03,125.47 C253.49,140.85 272.86,157.92 286.96,170.34 \" fill=\"none\" id=\"E3&lt;-E5\" style=\"stroke: #383838; stroke-width: 1.0;\"/><polygon fill=\"#FFFFFF\" points=\"226.02,116.66,227.8712,123.6294,235.0165,124.6012,233.1653,117.6318,226.02,116.66\" style=\"stroke: #383838; stroke-width: 1.0;\"/></a><!--MD5=[14ccda38c055a5c0da953d572bc50960]\n",
       "link E7 to E3--><a href=\"psysml:b2ac9add-d533-4cc3-a1ec-28b279e4ff39\" target=\"_top\" title=\"psysml:b2ac9add-d533-4cc3-a1ec-28b279e4ff39\" xlink:actuate=\"onRequest\" xlink:href=\"psysml:b2ac9add-d533-4cc3-a1ec-28b279e4ff39\" xlink:show=\"new\" xlink:title=\"psysml:b2ac9add-d533-4cc3-a1ec-28b279e4ff39\" xlink:type=\"simple\"><path d=\"M652.84,70.22 C630.71,58.42 593.76,42 559.5,42 C307,42 307,42 307,42 C285.58,42 263.45,49.12 244.48,57.76 \" fill=\"none\" id=\"E7-&gt;E3\" style=\"stroke: #383838; stroke-width: 1.0;\"/><polygon fill=\"#FFFFFF\" points=\"226.36,66.88,240.1858,52.0866,246.4788,64.5925,226.36,66.88\" style=\"stroke: #383838; stroke-width: 1.0;\"/><ellipse cx=\"246.1765\" cy=\"51.311\" fill=\"#383838\" rx=\"2\" ry=\"2\" style=\"stroke: #383838; stroke-width: 1.0;\"/><ellipse cx=\"250.6715\" cy=\"60.2438\" fill=\"#383838\" rx=\"2\" ry=\"2\" style=\"stroke: #383838; stroke-width: 1.0;\"/></a><!--MD5=[3f50a3473f1dfb74d3f76443e03635af]\n",
       "reverse link E6 to E7--><a href=\"psysml:7f7b610c-5cf3-4f1d-92e7-984e3817e328\" target=\"_top\" title=\"psysml:7f7b610c-5cf3-4f1d-92e7-984e3817e328\" xlink:actuate=\"onRequest\" xlink:href=\"psysml:7f7b610c-5cf3-4f1d-92e7-984e3817e328\" xlink:show=\"new\" xlink:title=\"psysml:7f7b610c-5cf3-4f1d-92e7-984e3817e328\" xlink:type=\"simple\"><path d=\"M604.98,93.39 C621.64,90.6 639.65,87.58 652.96,85.36 \" fill=\"none\" id=\"E6&lt;-E7\" style=\"stroke: #383838; stroke-width: 1.0;\"/><polygon fill=\"#383838\" points=\"592.02,95.56,598.6002,98.5097,603.8539,93.5701,597.2736,90.6204,592.02,95.56\" style=\"stroke: #383838; stroke-width: 1.0;\"/></a><!--MD5=[dfaffb906826c3e5aca635516100ff21]\n",
       "link E5 to E8--><a href=\"psysml:8f4ff897-72ba-4249-b35c-9a7192bde9f3\" target=\"_top\" title=\"psysml:8f4ff897-72ba-4249-b35c-9a7192bde9f3\" xlink:actuate=\"onRequest\" xlink:href=\"psysml:8f4ff897-72ba-4249-b35c-9a7192bde9f3\" xlink:show=\"new\" xlink:title=\"psysml:8f4ff897-72ba-4249-b35c-9a7192bde9f3\" xlink:type=\"simple\"><path d=\"M329.2,172.45 C342.18,162.45 359.59,149.05 375.82,136.55 \" fill=\"none\" id=\"E5-&gt;E8\" style=\"stroke: #383838; stroke-width: 1.0;\"/><polygon fill=\"#FFFFFF\" points=\"391.76,124.28,380.9793,141.4199,372.4361,130.3288,391.76,124.28\" style=\"stroke: #383838; stroke-width: 1.0;\"/><ellipse cx=\"375.2432\" cy=\"143.3138\" fill=\"#383838\" rx=\"2\" ry=\"2\" style=\"stroke: #383838; stroke-width: 1.0;\"/><ellipse cx=\"369.1409\" cy=\"135.3915\" fill=\"#383838\" rx=\"2\" ry=\"2\" style=\"stroke: #383838; stroke-width: 1.0;\"/></a><!--MD5=[03c8294790d3c57651a1993cecff665f]\n",
       "reverse link E8 to E3--><a href=\"psysml:44d9af1e-71a6-403b-81da-6292c3b1f2cb\" target=\"_top\" title=\"psysml:44d9af1e-71a6-403b-81da-6292c3b1f2cb\" xlink:actuate=\"onRequest\" xlink:href=\"psysml:44d9af1e-71a6-403b-81da-6292c3b1f2cb\" xlink:show=\"new\" xlink:title=\"psysml:44d9af1e-71a6-403b-81da-6292c3b1f2cb\" xlink:type=\"simple\"><path d=\"M376.68,98.42 C332.29,95.9 265.72,92.11 226.24,89.86 \" fill=\"none\" id=\"E8&lt;-E3\" style=\"stroke: #383838; stroke-width: 1.0;\"/><polygon fill=\"#FFFFFF\" points=\"389.69,99.16,383.9282,94.8239,377.7096,98.4747,383.4713,102.8108,389.69,99.16\" style=\"stroke: #383838; stroke-width: 1.0;\"/><text fill=\"#000000\" font-family=\"sans-serif\" font-size=\"13\" lengthAdjust=\"spacingAndGlyphs\" textLength=\"7\" x=\"304.5\" y=\"90.0669\">y</text></a><!--MD5=[0d75d2178373a6a4568e5dc728f58aef]\n",
       "reverse link E8 to E6--><a href=\"psysml:44d9af1e-71a6-403b-81da-6292c3b1f2cb\" target=\"_top\" title=\"psysml:44d9af1e-71a6-403b-81da-6292c3b1f2cb\" xlink:actuate=\"onRequest\" xlink:href=\"psysml:44d9af1e-71a6-403b-81da-6292c3b1f2cb\" xlink:show=\"new\" xlink:title=\"psysml:44d9af1e-71a6-403b-81da-6292c3b1f2cb\" xlink:type=\"simple\"><path d=\"M469.57,101 C487.62,101 507.98,101 524.55,101 \" fill=\"none\" id=\"E8&lt;-E6\" style=\"stroke: #383838; stroke-width: 1.0;\"/><polygon fill=\"#FFFFFF\" points=\"456.32,101,462.32,105,468.32,101,462.32,97,456.32,101\" style=\"stroke: #383838; stroke-width: 1.0;\"/><text fill=\"#000000\" font-family=\"sans-serif\" font-size=\"13\" lengthAdjust=\"spacingAndGlyphs\" textLength=\"7\" x=\"487\" y=\"97.0669\">y</text></a><!--MD5=[0d8d777fe38e5a2f0538c0eace4dc6a4]\n",
       "@startuml\r\n",
       "left to right direction\r\n",
       "skinparam monochrome true\r\n",
       "skinparam classbackgroundcolor white\r\n",
       "skinparam shadowing false\r\n",
       "skinparam wrapWidth 300\r\n",
       "hide circle\r\n",
       "\r\n",
       "package \"ItemTest\" as E1  [[psysml:75fb623a-e350-4a47-9f82-c4d20b2b5b80 ]]  {\r\n",
       "comp usage \"f: A\" as E2  <<(T,blue)item>> [[psysml:d8a17efa-9aba-4cd7-b18a-68f8ed4c599b ]] {\r\n",
       "}\r\n",
       "comp def \"A\" as E3  <<(T,blue)item def>> [[psysml:30552314-ef8a-4f2d-b223-fa6e862cb5b8 ]] {\r\n",
       "- - items - -\r\n",
       "b: B\r\n",
       "}\r\n",
       "comp usage \"c: C\" as E5  <<(T,blue)part>> [[psysml:cb0fe327-dda6-4eae-9e46-1ce946f22982 ]] {\r\n",
       "}\r\n",
       "comp def \"B\" as E6  <<(T,blue)item def>> [[psysml:0c776550-23a6-42b8-908b-320a74e2d4ee ]] {\r\n",
       "}\r\n",
       "comp usage \"a: A\" as E7  <<(T,blue)part>> [[psysml:7f7b610c-5cf3-4f1d-92e7-984e3817e328 ]] {\r\n",
       "}\r\n",
       "comp def \"C\" as E8  <<(T,blue)part def>> [[psysml:3f3cfa4e-9100-4bf2-8dae-183ab53e5ac5 ]] {\r\n",
       "}\r\n",
       "comp def \"P\" as E9  <<(T,blue)port def>> [[psysml:b18b87fb-d7bd-4905-b0cb-818d68f57f75 ]] {\r\n",
       "- - items - -\r\n",
       "a1: A\r\n",
       "a2: A\r\n",
       "}\r\n",
       "E2 - -:|> E3 [[psysml:cbc83e8e-35d8-4884-92a4-03d9c321669a ]] \r\n",
       "E3 o- - E5 [[psysml:cb0fe327-dda6-4eae-9e46-1ce946f22982 ]] \r\n",
       "E7 - -:|> E3 [[psysml:b2ac9add-d533-4cc3-a1ec-28b279e4ff39 ]] \r\n",
       "E6 *- - E7 [[psysml:7f7b610c-5cf3-4f1d-92e7-984e3817e328 ]] \r\n",
       "E5 - -:|> E8 [[psysml:8f4ff897-72ba-4249-b35c-9a7192bde9f3 ]] \r\n",
       "E8 o- - E3 [[psysml:44d9af1e-71a6-403b-81da-6292c3b1f2cb ]] : y\r\n",
       "E8 o- - E6 [[psysml:44d9af1e-71a6-403b-81da-6292c3b1f2cb ]] : y\r\n",
       "}\r\n",
       "@enduml\r\n",
       "\n",
       "PlantUML version 1.2020.13(Sat Jun 13 12:26:38 UTC 2020)\n",
       "(EPL source distribution)\n",
       "Java Runtime: OpenJDK Runtime Environment\n",
       "JVM: OpenJDK 64-Bit Server VM\n",
       "Default Encoding: UTF-8\n",
       "Language: en\n",
       "Country: null\n",
       "--></g></svg>"
      ]
     },
     "execution_count": 16,
     "metadata": {},
     "output_type": "execute_result"
    }
   ],
   "source": [
    "%viz --style=\"LR\" --view=\"Default\" \"ItemTest\""
   ]
  },
  {
   "cell_type": "code",
   "execution_count": 17,
   "id": "invalid-portal",
   "metadata": {
    "execution": {
     "iopub.execute_input": "2021-03-26T12:12:05.675156Z",
     "iopub.status.busy": "2021-03-26T12:12:05.674444Z",
     "iopub.status.idle": "2021-03-26T12:12:05.744808Z",
     "shell.execute_reply": "2021-03-26T12:12:05.744161Z"
    }
   },
   "outputs": [
    {
     "data": {
      "image/svg+xml": [
       "<?xml version=\"1.0\" encoding=\"UTF-8\" standalone=\"no\"?><svg xmlns=\"http://www.w3.org/2000/svg\" xmlns:xlink=\"http://www.w3.org/1999/xlink\" contentScriptType=\"application/ecmascript\" contentStyleType=\"text/css\" height=\"239px\" preserveAspectRatio=\"none\" style=\"width:733px;height:239px;\" version=\"1.1\" viewBox=\"0 0 733 239\" width=\"733px\" zoomAndPan=\"magnify\"><defs/><g><!--MD5=[fbc87193dbaf4d95561dea2c320d4a47]\n",
       "cluster E1--><a href=\"psysml:75fb623a-e350-4a47-9f82-c4d20b2b5b80\" target=\"_top\" title=\"psysml:75fb623a-e350-4a47-9f82-c4d20b2b5b80\" xlink:actuate=\"onRequest\" xlink:href=\"psysml:75fb623a-e350-4a47-9f82-c4d20b2b5b80\" xlink:show=\"new\" xlink:title=\"psysml:75fb623a-e350-4a47-9f82-c4d20b2b5b80\" xlink:type=\"simple\"><polygon fill=\"#FFFFFF\" points=\"16,6,91,6,98,28.2969,711,28.2969,711,227,16,227,16,6\" style=\"stroke: #000000; stroke-width: 1.5;\"/><line style=\"stroke: #000000; stroke-width: 1.5;\" x1=\"16\" x2=\"98\" y1=\"28.2969\" y2=\"28.2969\"/><text fill=\"#000000\" font-family=\"sans-serif\" font-size=\"14\" font-weight=\"bold\" lengthAdjust=\"spacingAndGlyphs\" textLength=\"69\" x=\"20\" y=\"20.9951\">ItemTest</text></a><!--MD5=[b4997ac47864f28c2f74865a473b2911]\n",
       "class E2--><a href=\"psysml:d8a17efa-9aba-4cd7-b18a-68f8ed4c599b\" target=\"_top\" title=\"psysml:d8a17efa-9aba-4cd7-b18a-68f8ed4c599b\" xlink:actuate=\"onRequest\" xlink:href=\"psysml:d8a17efa-9aba-4cd7-b18a-68f8ed4c599b\" xlink:show=\"new\" xlink:title=\"psysml:d8a17efa-9aba-4cd7-b18a-68f8ed4c599b\" xlink:type=\"simple\"><rect fill=\"#FFFFFF\" height=\"45.9375\" id=\"E2\" rx=\"10\" ry=\"10\" style=\"stroke: #383838; stroke-width: 1.5;\" width=\"43\" x=\"43.5\" y=\"42\"/><text fill=\"#000000\" font-family=\"sans-serif\" font-size=\"12\" font-style=\"italic\" lengthAdjust=\"spacingAndGlyphs\" textLength=\"41\" x=\"44.5\" y=\"58.1387\">«item»</text><text fill=\"#000000\" font-family=\"sans-serif\" font-size=\"12\" lengthAdjust=\"spacingAndGlyphs\" textLength=\"20\" x=\"55\" y=\"72.1074\">f: A</text><line style=\"stroke: #383838; stroke-width: 1.5;\" x1=\"44.5\" x2=\"85.5\" y1=\"79.9375\" y2=\"79.9375\"/></a><!--MD5=[09b614a08d8cba4a07c9adeb5e0fee81]\n",
       "class E3--><a href=\"psysml:30552314-ef8a-4f2d-b223-fa6e862cb5b8\" target=\"_top\" title=\"psysml:30552314-ef8a-4f2d-b223-fa6e862cb5b8\" xlink:actuate=\"onRequest\" xlink:href=\"psysml:30552314-ef8a-4f2d-b223-fa6e862cb5b8\" xlink:show=\"new\" xlink:title=\"psysml:30552314-ef8a-4f2d-b223-fa6e862cb5b8\" xlink:type=\"simple\"><rect fill=\"#FFFFFF\" height=\"75.5469\" id=\"E3\" style=\"stroke: #383838; stroke-width: 1.5;\" width=\"67\" x=\"159\" y=\"50\"/><text fill=\"#000000\" font-family=\"sans-serif\" font-size=\"12\" font-style=\"italic\" lengthAdjust=\"spacingAndGlyphs\" textLength=\"65\" x=\"160\" y=\"66.1387\">«item def»</text><text fill=\"#000000\" font-family=\"sans-serif\" font-size=\"12\" lengthAdjust=\"spacingAndGlyphs\" textLength=\"8\" x=\"188.5\" y=\"80.1074\">A</text><line style=\"stroke: #383838; stroke-width: 1.5;\" x1=\"160\" x2=\"225\" y1=\"87.9375\" y2=\"87.9375\"/><text fill=\"#000000\" font-family=\"sans-serif\" font-size=\"11\" lengthAdjust=\"spacingAndGlyphs\" textLength=\"23\" x=\"165\" y=\"118.9526\">b: B</text><line style=\"stroke: #383838; stroke-width: 1.0;\" x1=\"160\" x2=\"176.5\" y1=\"102.3398\" y2=\"102.3398\"/><text fill=\"#000000\" font-family=\"sans-serif\" font-size=\"11\" lengthAdjust=\"spacingAndGlyphs\" textLength=\"32\" x=\"176.5\" y=\"105.6479\">items</text><line style=\"stroke: #383838; stroke-width: 1.0;\" x1=\"208.5\" x2=\"225\" y1=\"102.3398\" y2=\"102.3398\"/></a><!--MD5=[270fce915f116d4de14055a7c1d9a0f3]\n",
       "class E5--><a href=\"psysml:cb0fe327-dda6-4eae-9e46-1ce946f22982\" target=\"_top\" title=\"psysml:cb0fe327-dda6-4eae-9e46-1ce946f22982\" xlink:actuate=\"onRequest\" xlink:href=\"psysml:cb0fe327-dda6-4eae-9e46-1ce946f22982\" xlink:show=\"new\" xlink:title=\"psysml:cb0fe327-dda6-4eae-9e46-1ce946f22982\" xlink:type=\"simple\"><rect fill=\"#FFFFFF\" height=\"45.9375\" id=\"E5\" rx=\"10\" ry=\"10\" style=\"stroke: #383838; stroke-width: 1.5;\" width=\"42\" x=\"287\" y=\"165\"/><text fill=\"#000000\" font-family=\"sans-serif\" font-size=\"12\" font-style=\"italic\" lengthAdjust=\"spacingAndGlyphs\" textLength=\"40\" x=\"288\" y=\"181.1387\">«part»</text><text fill=\"#000000\" font-family=\"sans-serif\" font-size=\"12\" lengthAdjust=\"spacingAndGlyphs\" textLength=\"23\" x=\"296.5\" y=\"195.1074\">c: C</text><line style=\"stroke: #383838; stroke-width: 1.5;\" x1=\"288\" x2=\"328\" y1=\"202.9375\" y2=\"202.9375\"/></a><!--MD5=[60a26617385b1d2d0262a64233df1f8d]\n",
       "class E6--><a href=\"psysml:0c776550-23a6-42b8-908b-320a74e2d4ee\" target=\"_top\" title=\"psysml:0c776550-23a6-42b8-908b-320a74e2d4ee\" xlink:actuate=\"onRequest\" xlink:href=\"psysml:0c776550-23a6-42b8-908b-320a74e2d4ee\" xlink:show=\"new\" xlink:title=\"psysml:0c776550-23a6-42b8-908b-320a74e2d4ee\" xlink:type=\"simple\"><rect fill=\"#FFFFFF\" height=\"45.9375\" id=\"E6\" style=\"stroke: #383838; stroke-width: 1.5;\" width=\"67\" x=\"525\" y=\"78\"/><text fill=\"#000000\" font-family=\"sans-serif\" font-size=\"12\" font-style=\"italic\" lengthAdjust=\"spacingAndGlyphs\" textLength=\"65\" x=\"526\" y=\"94.1387\">«item def»</text><text fill=\"#000000\" font-family=\"sans-serif\" font-size=\"12\" lengthAdjust=\"spacingAndGlyphs\" textLength=\"8\" x=\"554.5\" y=\"108.1074\">B</text><line style=\"stroke: #383838; stroke-width: 1.5;\" x1=\"526\" x2=\"591\" y1=\"115.9375\" y2=\"115.9375\"/></a><!--MD5=[2156ba9850f5573cc1fc38a6a4b2f02b]\n",
       "class E7--><a href=\"psysml:7f7b610c-5cf3-4f1d-92e7-984e3817e328\" target=\"_top\" title=\"psysml:7f7b610c-5cf3-4f1d-92e7-984e3817e328\" xlink:actuate=\"onRequest\" xlink:href=\"psysml:7f7b610c-5cf3-4f1d-92e7-984e3817e328\" xlink:show=\"new\" xlink:title=\"psysml:7f7b610c-5cf3-4f1d-92e7-984e3817e328\" xlink:type=\"simple\"><rect fill=\"#FFFFFF\" height=\"45.9375\" id=\"E7\" rx=\"10\" ry=\"10\" style=\"stroke: #383838; stroke-width: 1.5;\" width=\"42\" x=\"653\" y=\"59\"/><text fill=\"#000000\" font-family=\"sans-serif\" font-size=\"12\" font-style=\"italic\" lengthAdjust=\"spacingAndGlyphs\" textLength=\"40\" x=\"654\" y=\"75.1387\">«part»</text><text fill=\"#000000\" font-family=\"sans-serif\" font-size=\"12\" lengthAdjust=\"spacingAndGlyphs\" textLength=\"24\" x=\"662\" y=\"89.1074\">a: A</text><line style=\"stroke: #383838; stroke-width: 1.5;\" x1=\"654\" x2=\"694\" y1=\"96.9375\" y2=\"96.9375\"/></a><!--MD5=[b9389687b975829384b498ac4b7476b2]\n",
       "class E8--><a href=\"psysml:3f3cfa4e-9100-4bf2-8dae-183ab53e5ac5\" target=\"_top\" title=\"psysml:3f3cfa4e-9100-4bf2-8dae-183ab53e5ac5\" xlink:actuate=\"onRequest\" xlink:href=\"psysml:3f3cfa4e-9100-4bf2-8dae-183ab53e5ac5\" xlink:show=\"new\" xlink:title=\"psysml:3f3cfa4e-9100-4bf2-8dae-183ab53e5ac5\" xlink:type=\"simple\"><rect fill=\"#FFFFFF\" height=\"45.9375\" id=\"E8\" style=\"stroke: #383838; stroke-width: 1.5;\" width=\"66\" x=\"390\" y=\"78\"/><text fill=\"#000000\" font-family=\"sans-serif\" font-size=\"12\" font-style=\"italic\" lengthAdjust=\"spacingAndGlyphs\" textLength=\"64\" x=\"391\" y=\"94.1387\">«part def»</text><text fill=\"#000000\" font-family=\"sans-serif\" font-size=\"12\" lengthAdjust=\"spacingAndGlyphs\" textLength=\"8\" x=\"419\" y=\"108.1074\">C</text><line style=\"stroke: #383838; stroke-width: 1.5;\" x1=\"391\" x2=\"455\" y1=\"115.9375\" y2=\"115.9375\"/></a><!--MD5=[fd4143e9d270a159db93a4ea2a975926]\n",
       "class E9--><a href=\"psysml:b18b87fb-d7bd-4905-b0cb-818d68f57f75\" target=\"_top\" title=\"psysml:b18b87fb-d7bd-4905-b0cb-818d68f57f75\" xlink:actuate=\"onRequest\" xlink:href=\"psysml:b18b87fb-d7bd-4905-b0cb-818d68f57f75\" xlink:show=\"new\" xlink:title=\"psysml:b18b87fb-d7bd-4905-b0cb-818d68f57f75\" xlink:type=\"simple\"><rect fill=\"#FFFFFF\" height=\"88.3516\" id=\"E9\" style=\"stroke: #383838; stroke-width: 1.5;\" width=\"66\" x=\"32\" y=\"123\"/><text fill=\"#000000\" font-family=\"sans-serif\" font-size=\"12\" font-style=\"italic\" lengthAdjust=\"spacingAndGlyphs\" textLength=\"64\" x=\"33\" y=\"139.1387\">«port def»</text><text fill=\"#000000\" font-family=\"sans-serif\" font-size=\"12\" lengthAdjust=\"spacingAndGlyphs\" textLength=\"8\" x=\"61\" y=\"153.1074\">P</text><line style=\"stroke: #383838; stroke-width: 1.5;\" x1=\"33\" x2=\"97\" y1=\"160.9375\" y2=\"160.9375\"/><text fill=\"#000000\" font-family=\"sans-serif\" font-size=\"11\" lengthAdjust=\"spacingAndGlyphs\" textLength=\"29\" x=\"38\" y=\"191.9526\">a1: A</text><text fill=\"#000000\" font-family=\"sans-serif\" font-size=\"11\" lengthAdjust=\"spacingAndGlyphs\" textLength=\"29\" x=\"38\" y=\"204.7573\">a2: A</text><line style=\"stroke: #383838; stroke-width: 1.0;\" x1=\"33\" x2=\"49\" y1=\"175.3398\" y2=\"175.3398\"/><text fill=\"#000000\" font-family=\"sans-serif\" font-size=\"11\" lengthAdjust=\"spacingAndGlyphs\" textLength=\"32\" x=\"49\" y=\"178.6479\">items</text><line style=\"stroke: #383838; stroke-width: 1.0;\" x1=\"81\" x2=\"97\" y1=\"175.3398\" y2=\"175.3398\"/></a><!--MD5=[2720a5a1f2c3fca2055b230370638851]\n",
       "link E2 to E3--><a href=\"psysml:cbc83e8e-35d8-4884-92a4-03d9c321669a\" target=\"_top\" title=\"psysml:cbc83e8e-35d8-4884-92a4-03d9c321669a\" xlink:actuate=\"onRequest\" xlink:href=\"psysml:cbc83e8e-35d8-4884-92a4-03d9c321669a\" xlink:show=\"new\" xlink:title=\"psysml:cbc83e8e-35d8-4884-92a4-03d9c321669a\" xlink:type=\"simple\"><path d=\"M86.72,68.8 C100.99,71.41 120.62,75.01 139.03,78.38 \" fill=\"none\" id=\"E2-&gt;E3\" style=\"stroke: #383838; stroke-width: 1.0;\"/><polygon fill=\"#FFFFFF\" points=\"158.95,82.03,139.0003,85.4953,141.5205,71.724,158.95,82.03\" style=\"stroke: #383838; stroke-width: 1.0;\"/><ellipse cx=\"133.7534\" cy=\"82.5019\" fill=\"#383838\" rx=\"2\" ry=\"2\" style=\"stroke: #383838; stroke-width: 1.0;\"/><ellipse cx=\"135.5536\" cy=\"72.6653\" fill=\"#383838\" rx=\"2\" ry=\"2\" style=\"stroke: #383838; stroke-width: 1.0;\"/></a><!--MD5=[191cde3d490a3f6d7bb551fe3ddca469]\n",
       "reverse link E3 to E5--><a href=\"psysml:cb0fe327-dda6-4eae-9e46-1ce946f22982\" target=\"_top\" title=\"psysml:cb0fe327-dda6-4eae-9e46-1ce946f22982\" xlink:actuate=\"onRequest\" xlink:href=\"psysml:cb0fe327-dda6-4eae-9e46-1ce946f22982\" xlink:show=\"new\" xlink:title=\"psysml:cb0fe327-dda6-4eae-9e46-1ce946f22982\" xlink:type=\"simple\"><path d=\"M236.03,125.47 C253.49,140.85 272.86,157.92 286.96,170.34 \" fill=\"none\" id=\"E3&lt;-E5\" style=\"stroke: #383838; stroke-width: 1.0;\"/><polygon fill=\"#FFFFFF\" points=\"226.02,116.66,227.8712,123.6294,235.0165,124.6012,233.1653,117.6318,226.02,116.66\" style=\"stroke: #383838; stroke-width: 1.0;\"/></a><!--MD5=[14ccda38c055a5c0da953d572bc50960]\n",
       "link E7 to E3--><a href=\"psysml:b2ac9add-d533-4cc3-a1ec-28b279e4ff39\" target=\"_top\" title=\"psysml:b2ac9add-d533-4cc3-a1ec-28b279e4ff39\" xlink:actuate=\"onRequest\" xlink:href=\"psysml:b2ac9add-d533-4cc3-a1ec-28b279e4ff39\" xlink:show=\"new\" xlink:title=\"psysml:b2ac9add-d533-4cc3-a1ec-28b279e4ff39\" xlink:type=\"simple\"><path d=\"M652.84,70.22 C630.71,58.42 593.76,42 559.5,42 C307,42 307,42 307,42 C285.58,42 263.45,49.12 244.48,57.76 \" fill=\"none\" id=\"E7-&gt;E3\" style=\"stroke: #383838; stroke-width: 1.0;\"/><polygon fill=\"#FFFFFF\" points=\"226.36,66.88,240.1858,52.0866,246.4788,64.5925,226.36,66.88\" style=\"stroke: #383838; stroke-width: 1.0;\"/><ellipse cx=\"246.1765\" cy=\"51.311\" fill=\"#383838\" rx=\"2\" ry=\"2\" style=\"stroke: #383838; stroke-width: 1.0;\"/><ellipse cx=\"250.6715\" cy=\"60.2438\" fill=\"#383838\" rx=\"2\" ry=\"2\" style=\"stroke: #383838; stroke-width: 1.0;\"/></a><!--MD5=[3f50a3473f1dfb74d3f76443e03635af]\n",
       "reverse link E6 to E7--><a href=\"psysml:7f7b610c-5cf3-4f1d-92e7-984e3817e328\" target=\"_top\" title=\"psysml:7f7b610c-5cf3-4f1d-92e7-984e3817e328\" xlink:actuate=\"onRequest\" xlink:href=\"psysml:7f7b610c-5cf3-4f1d-92e7-984e3817e328\" xlink:show=\"new\" xlink:title=\"psysml:7f7b610c-5cf3-4f1d-92e7-984e3817e328\" xlink:type=\"simple\"><path d=\"M604.98,93.39 C621.64,90.6 639.65,87.58 652.96,85.36 \" fill=\"none\" id=\"E6&lt;-E7\" style=\"stroke: #383838; stroke-width: 1.0;\"/><polygon fill=\"#383838\" points=\"592.02,95.56,598.6002,98.5097,603.8539,93.5701,597.2736,90.6204,592.02,95.56\" style=\"stroke: #383838; stroke-width: 1.0;\"/></a><!--MD5=[dfaffb906826c3e5aca635516100ff21]\n",
       "link E5 to E8--><a href=\"psysml:8f4ff897-72ba-4249-b35c-9a7192bde9f3\" target=\"_top\" title=\"psysml:8f4ff897-72ba-4249-b35c-9a7192bde9f3\" xlink:actuate=\"onRequest\" xlink:href=\"psysml:8f4ff897-72ba-4249-b35c-9a7192bde9f3\" xlink:show=\"new\" xlink:title=\"psysml:8f4ff897-72ba-4249-b35c-9a7192bde9f3\" xlink:type=\"simple\"><path d=\"M329.2,172.45 C342.18,162.45 359.59,149.05 375.82,136.55 \" fill=\"none\" id=\"E5-&gt;E8\" style=\"stroke: #383838; stroke-width: 1.0;\"/><polygon fill=\"#FFFFFF\" points=\"391.76,124.28,380.9793,141.4199,372.4361,130.3288,391.76,124.28\" style=\"stroke: #383838; stroke-width: 1.0;\"/><ellipse cx=\"375.2432\" cy=\"143.3138\" fill=\"#383838\" rx=\"2\" ry=\"2\" style=\"stroke: #383838; stroke-width: 1.0;\"/><ellipse cx=\"369.1409\" cy=\"135.3915\" fill=\"#383838\" rx=\"2\" ry=\"2\" style=\"stroke: #383838; stroke-width: 1.0;\"/></a><!--MD5=[03c8294790d3c57651a1993cecff665f]\n",
       "reverse link E8 to E3--><a href=\"psysml:44d9af1e-71a6-403b-81da-6292c3b1f2cb\" target=\"_top\" title=\"psysml:44d9af1e-71a6-403b-81da-6292c3b1f2cb\" xlink:actuate=\"onRequest\" xlink:href=\"psysml:44d9af1e-71a6-403b-81da-6292c3b1f2cb\" xlink:show=\"new\" xlink:title=\"psysml:44d9af1e-71a6-403b-81da-6292c3b1f2cb\" xlink:type=\"simple\"><path d=\"M376.68,98.42 C332.29,95.9 265.72,92.11 226.24,89.86 \" fill=\"none\" id=\"E8&lt;-E3\" style=\"stroke: #383838; stroke-width: 1.0;\"/><polygon fill=\"#FFFFFF\" points=\"389.69,99.16,383.9282,94.8239,377.7096,98.4747,383.4713,102.8108,389.69,99.16\" style=\"stroke: #383838; stroke-width: 1.0;\"/><text fill=\"#000000\" font-family=\"sans-serif\" font-size=\"13\" lengthAdjust=\"spacingAndGlyphs\" textLength=\"7\" x=\"304.5\" y=\"90.0669\">y</text></a><!--MD5=[0d75d2178373a6a4568e5dc728f58aef]\n",
       "reverse link E8 to E6--><a href=\"psysml:44d9af1e-71a6-403b-81da-6292c3b1f2cb\" target=\"_top\" title=\"psysml:44d9af1e-71a6-403b-81da-6292c3b1f2cb\" xlink:actuate=\"onRequest\" xlink:href=\"psysml:44d9af1e-71a6-403b-81da-6292c3b1f2cb\" xlink:show=\"new\" xlink:title=\"psysml:44d9af1e-71a6-403b-81da-6292c3b1f2cb\" xlink:type=\"simple\"><path d=\"M469.57,101 C487.62,101 507.98,101 524.55,101 \" fill=\"none\" id=\"E8&lt;-E6\" style=\"stroke: #383838; stroke-width: 1.0;\"/><polygon fill=\"#FFFFFF\" points=\"456.32,101,462.32,105,468.32,101,462.32,97,456.32,101\" style=\"stroke: #383838; stroke-width: 1.0;\"/><text fill=\"#000000\" font-family=\"sans-serif\" font-size=\"13\" lengthAdjust=\"spacingAndGlyphs\" textLength=\"7\" x=\"487\" y=\"97.0669\">y</text></a><!--MD5=[0d8d777fe38e5a2f0538c0eace4dc6a4]\n",
       "@startuml\r\n",
       "left to right direction\r\n",
       "skinparam monochrome true\r\n",
       "skinparam classbackgroundcolor white\r\n",
       "skinparam shadowing false\r\n",
       "skinparam wrapWidth 300\r\n",
       "hide circle\r\n",
       "\r\n",
       "package \"ItemTest\" as E1  [[psysml:75fb623a-e350-4a47-9f82-c4d20b2b5b80 ]]  {\r\n",
       "comp usage \"f: A\" as E2  <<(T,blue)item>> [[psysml:d8a17efa-9aba-4cd7-b18a-68f8ed4c599b ]] {\r\n",
       "}\r\n",
       "comp def \"A\" as E3  <<(T,blue)item def>> [[psysml:30552314-ef8a-4f2d-b223-fa6e862cb5b8 ]] {\r\n",
       "- - items - -\r\n",
       "b: B\r\n",
       "}\r\n",
       "comp usage \"c: C\" as E5  <<(T,blue)part>> [[psysml:cb0fe327-dda6-4eae-9e46-1ce946f22982 ]] {\r\n",
       "}\r\n",
       "comp def \"B\" as E6  <<(T,blue)item def>> [[psysml:0c776550-23a6-42b8-908b-320a74e2d4ee ]] {\r\n",
       "}\r\n",
       "comp usage \"a: A\" as E7  <<(T,blue)part>> [[psysml:7f7b610c-5cf3-4f1d-92e7-984e3817e328 ]] {\r\n",
       "}\r\n",
       "comp def \"C\" as E8  <<(T,blue)part def>> [[psysml:3f3cfa4e-9100-4bf2-8dae-183ab53e5ac5 ]] {\r\n",
       "}\r\n",
       "comp def \"P\" as E9  <<(T,blue)port def>> [[psysml:b18b87fb-d7bd-4905-b0cb-818d68f57f75 ]] {\r\n",
       "- - items - -\r\n",
       "a1: A\r\n",
       "a2: A\r\n",
       "}\r\n",
       "E2 - -:|> E3 [[psysml:cbc83e8e-35d8-4884-92a4-03d9c321669a ]] \r\n",
       "E3 o- - E5 [[psysml:cb0fe327-dda6-4eae-9e46-1ce946f22982 ]] \r\n",
       "E7 - -:|> E3 [[psysml:b2ac9add-d533-4cc3-a1ec-28b279e4ff39 ]] \r\n",
       "E6 *- - E7 [[psysml:7f7b610c-5cf3-4f1d-92e7-984e3817e328 ]] \r\n",
       "E5 - -:|> E8 [[psysml:8f4ff897-72ba-4249-b35c-9a7192bde9f3 ]] \r\n",
       "E8 o- - E3 [[psysml:44d9af1e-71a6-403b-81da-6292c3b1f2cb ]] : y\r\n",
       "E8 o- - E6 [[psysml:44d9af1e-71a6-403b-81da-6292c3b1f2cb ]] : y\r\n",
       "}\r\n",
       "@enduml\r\n",
       "\n",
       "PlantUML version 1.2020.13(Sat Jun 13 12:26:38 UTC 2020)\n",
       "(EPL source distribution)\n",
       "Java Runtime: OpenJDK Runtime Environment\n",
       "JVM: OpenJDK 64-Bit Server VM\n",
       "Default Encoding: UTF-8\n",
       "Language: en\n",
       "Country: null\n",
       "--></g></svg>"
      ]
     },
     "execution_count": 17,
     "metadata": {},
     "output_type": "execute_result"
    }
   ],
   "source": [
    "%viz --style=\"LR\" --view=\"Tree\" \"ItemTest\""
   ]
  },
  {
   "cell_type": "code",
   "execution_count": 18,
   "id": "affiliated-threat",
   "metadata": {
    "execution": {
     "iopub.execute_input": "2021-03-26T12:12:05.795272Z",
     "iopub.status.busy": "2021-03-26T12:12:05.794675Z",
     "iopub.status.idle": "2021-03-26T12:12:05.800079Z",
     "shell.execute_reply": "2021-03-26T12:12:05.800386Z"
    }
   },
   "outputs": [
    {
     "data": {
      "image/svg+xml": [
       "<?xml version=\"1.0\" encoding=\"UTF-8\" standalone=\"no\"?><svg xmlns=\"http://www.w3.org/2000/svg\" xmlns:xlink=\"http://www.w3.org/1999/xlink\" contentScriptType=\"application/ecmascript\" contentStyleType=\"text/css\" height=\"12px\" preserveAspectRatio=\"none\" style=\"width:12px;height:12px;\" version=\"1.1\" viewBox=\"0 0 12 12\" width=\"12px\" zoomAndPan=\"magnify\"><defs/><g><!--MD5=[19d285c9d72a204eba4e2cd117d745e8]\n",
       "@startuml\r\n",
       "left to right direction\r\n",
       "skinparam monochrome true\r\n",
       "skinparam classbackgroundcolor white\r\n",
       "skinparam shadowing false\r\n",
       "skinparam wrapWidth 300\r\n",
       "hide circle\r\n",
       "\r\n",
       "@enduml\r\n",
       "\n",
       "PlantUML version 1.2020.13(Sat Jun 13 12:26:38 UTC 2020)\n",
       "(EPL source distribution)\n",
       "Java Runtime: OpenJDK Runtime Environment\n",
       "JVM: OpenJDK 64-Bit Server VM\n",
       "Default Encoding: UTF-8\n",
       "Language: en\n",
       "Country: null\n",
       "--></g></svg>"
      ]
     },
     "execution_count": 18,
     "metadata": {},
     "output_type": "execute_result"
    }
   ],
   "source": [
    "%viz --style=\"LR\" --view=\"State\" \"ItemTest\""
   ]
  },
  {
   "cell_type": "code",
   "execution_count": 19,
   "id": "opponent-hobby",
   "metadata": {
    "execution": {
     "iopub.execute_input": "2021-03-26T12:12:05.852938Z",
     "iopub.status.busy": "2021-03-26T12:12:05.852164Z",
     "iopub.status.idle": "2021-03-26T12:12:05.888977Z",
     "shell.execute_reply": "2021-03-26T12:12:05.887766Z"
    }
   },
   "outputs": [
    {
     "data": {
      "image/svg+xml": [
       "<?xml version=\"1.0\" encoding=\"UTF-8\" standalone=\"no\"?><svg xmlns=\"http://www.w3.org/2000/svg\" xmlns:xlink=\"http://www.w3.org/1999/xlink\" contentScriptType=\"application/ecmascript\" contentStyleType=\"text/css\" height=\"484px\" preserveAspectRatio=\"none\" style=\"width:200px;height:484px;\" version=\"1.1\" viewBox=\"0 0 200 484\" width=\"200px\" zoomAndPan=\"magnify\"><defs/><g><!--MD5=[fbc87193dbaf4d95561dea2c320d4a47]\n",
       "cluster E1--><a href=\"psysml:75fb623a-e350-4a47-9f82-c4d20b2b5b80\" target=\"_top\" title=\"psysml:75fb623a-e350-4a47-9f82-c4d20b2b5b80\" xlink:actuate=\"onRequest\" xlink:href=\"psysml:75fb623a-e350-4a47-9f82-c4d20b2b5b80\" xlink:show=\"new\" xlink:title=\"psysml:75fb623a-e350-4a47-9f82-c4d20b2b5b80\" xlink:type=\"simple\"><polygon fill=\"#FFFFFF\" points=\"16,6,91,6,98,28.2969,178,28.2969,178,472,16,472,16,6\" style=\"stroke: #000000; stroke-width: 1.5;\"/><line style=\"stroke: #000000; stroke-width: 1.5;\" x1=\"16\" x2=\"98\" y1=\"28.2969\" y2=\"28.2969\"/><text fill=\"#000000\" font-family=\"sans-serif\" font-size=\"14\" font-weight=\"bold\" lengthAdjust=\"spacingAndGlyphs\" textLength=\"69\" x=\"20\" y=\"20.9951\">ItemTest</text></a><!--MD5=[de5ec2e2e8f62f467e546659f5068c88]\n",
       "cluster E5--><a href=\"psysml:3f3cfa4e-9100-4bf2-8dae-183ab53e5ac5\" target=\"_top\" title=\"psysml:3f3cfa4e-9100-4bf2-8dae-183ab53e5ac5\" xlink:actuate=\"onRequest\" xlink:href=\"psysml:3f3cfa4e-9100-4bf2-8dae-183ab53e5ac5\" xlink:show=\"new\" xlink:title=\"psysml:3f3cfa4e-9100-4bf2-8dae-183ab53e5ac5\" xlink:type=\"simple\"><rect fill=\"#FFFFFF\" height=\"111\" id=\"E5\" style=\"stroke: #383838; stroke-width: 1.5;\" width=\"114\" x=\"40\" y=\"49\"/><rect fill=\"#F8F8F8\" height=\"37.9375\" style=\"stroke: #383838; stroke-width: 1.5;\" width=\"114\" x=\"40\" y=\"49\"/><text fill=\"#000000\" font-family=\"sans-serif\" font-size=\"12\" font-style=\"italic\" lengthAdjust=\"spacingAndGlyphs\" textLength=\"64\" x=\"65\" y=\"65.1387\">«part def»</text><text fill=\"#000000\" font-family=\"sans-serif\" font-size=\"12\" lengthAdjust=\"spacingAndGlyphs\" textLength=\"8\" x=\"93\" y=\"79.1074\">C</text></a><g id=\"E1.E3\"><a href=\"psysml:30552314-ef8a-4f2d-b223-fa6e862cb5b8\" target=\"_top\" title=\"psysml:30552314-ef8a-4f2d-b223-fa6e862cb5b8\" xlink:actuate=\"onRequest\" xlink:href=\"psysml:30552314-ef8a-4f2d-b223-fa6e862cb5b8\" xlink:show=\"new\" xlink:title=\"psysml:30552314-ef8a-4f2d-b223-fa6e862cb5b8\" xlink:type=\"simple\"><rect fill=\"#FFFFFF\" height=\"42.9375\" id=\"E3\" style=\"stroke: #383838; stroke-width: 1.5;\" width=\"72\" x=\"61\" y=\"178.5\"/><rect fill=\"#F8F8F8\" height=\"37.9375\" style=\"stroke: #383838; stroke-width: 1.5;\" width=\"72\" x=\"61\" y=\"178.5\"/><text fill=\"#000000\" font-family=\"sans-serif\" font-size=\"12\" font-style=\"italic\" lengthAdjust=\"spacingAndGlyphs\" textLength=\"65\" x=\"64.5\" y=\"194.6387\">«item def»</text><text fill=\"#000000\" font-family=\"sans-serif\" font-size=\"12\" lengthAdjust=\"spacingAndGlyphs\" textLength=\"8\" x=\"93\" y=\"208.6074\">A</text></a></g><g id=\"E1.E4\"><a href=\"psysml:0c776550-23a6-42b8-908b-320a74e2d4ee\" target=\"_top\" title=\"psysml:0c776550-23a6-42b8-908b-320a74e2d4ee\" xlink:actuate=\"onRequest\" xlink:href=\"psysml:0c776550-23a6-42b8-908b-320a74e2d4ee\" xlink:show=\"new\" xlink:title=\"psysml:0c776550-23a6-42b8-908b-320a74e2d4ee\" xlink:type=\"simple\"><rect fill=\"#FFFFFF\" height=\"42.9375\" id=\"E4\" style=\"stroke: #383838; stroke-width: 1.5;\" width=\"72\" x=\"61\" y=\"256.5\"/><rect fill=\"#F8F8F8\" height=\"37.9375\" style=\"stroke: #383838; stroke-width: 1.5;\" width=\"72\" x=\"61\" y=\"256.5\"/><text fill=\"#000000\" font-family=\"sans-serif\" font-size=\"12\" font-style=\"italic\" lengthAdjust=\"spacingAndGlyphs\" textLength=\"65\" x=\"64.5\" y=\"272.6387\">«item def»</text><text fill=\"#000000\" font-family=\"sans-serif\" font-size=\"12\" lengthAdjust=\"spacingAndGlyphs\" textLength=\"8\" x=\"93\" y=\"286.6074\">B</text></a></g><g id=\"E1.E7\"><a href=\"psysml:b18b87fb-d7bd-4905-b0cb-818d68f57f75\" target=\"_top\" title=\"psysml:b18b87fb-d7bd-4905-b0cb-818d68f57f75\" xlink:actuate=\"onRequest\" xlink:href=\"psysml:b18b87fb-d7bd-4905-b0cb-818d68f57f75\" xlink:show=\"new\" xlink:title=\"psysml:b18b87fb-d7bd-4905-b0cb-818d68f57f75\" xlink:type=\"simple\"><rect fill=\"#FFFFFF\" height=\"42.9375\" id=\"E7\" style=\"stroke: #383838; stroke-width: 1.5;\" width=\"71\" x=\"61.5\" y=\"334.5\"/><rect fill=\"#F8F8F8\" height=\"37.9375\" style=\"stroke: #383838; stroke-width: 1.5;\" width=\"71\" x=\"61.5\" y=\"334.5\"/><text fill=\"#000000\" font-family=\"sans-serif\" font-size=\"12\" font-style=\"italic\" lengthAdjust=\"spacingAndGlyphs\" textLength=\"64\" x=\"65\" y=\"350.6387\">«port def»</text><text fill=\"#000000\" font-family=\"sans-serif\" font-size=\"12\" lengthAdjust=\"spacingAndGlyphs\" textLength=\"8\" x=\"93\" y=\"364.6074\">P</text></a></g><g id=\"E1.E2\"><a href=\"psysml:d8a17efa-9aba-4cd7-b18a-68f8ed4c599b\" target=\"_top\" title=\"psysml:d8a17efa-9aba-4cd7-b18a-68f8ed4c599b\" xlink:actuate=\"onRequest\" xlink:href=\"psysml:d8a17efa-9aba-4cd7-b18a-68f8ed4c599b\" xlink:show=\"new\" xlink:title=\"psysml:d8a17efa-9aba-4cd7-b18a-68f8ed4c599b\" xlink:type=\"simple\"><rect fill=\"#FFFFFF\" height=\"42.9375\" id=\"E2\" rx=\"10\" ry=\"10\" style=\"stroke: #383838; stroke-width: 1.5;\" width=\"50\" x=\"72\" y=\"412.5\"/><rect fill=\"#F8F8F8\" height=\"37.9375\" rx=\"10\" ry=\"10\" style=\"stroke: #F8F8F8; stroke-width: 1.5;\" width=\"50\" x=\"72\" y=\"412.5\"/><rect fill=\"#F8F8F8\" height=\"10\" style=\"stroke: #F8F8F8; stroke-width: 1.5;\" width=\"50\" x=\"72\" y=\"440.4375\"/><rect fill=\"none\" height=\"42.9375\" id=\"E2\" rx=\"10\" ry=\"10\" style=\"stroke: #383838; stroke-width: 1.5;\" width=\"50\" x=\"72\" y=\"412.5\"/><text fill=\"#000000\" font-family=\"sans-serif\" font-size=\"12\" font-style=\"italic\" lengthAdjust=\"spacingAndGlyphs\" textLength=\"41\" x=\"76.5\" y=\"428.6387\">«item»</text><text fill=\"#000000\" font-family=\"sans-serif\" font-size=\"12\" lengthAdjust=\"spacingAndGlyphs\" textLength=\"20\" x=\"87\" y=\"442.6074\">f: A</text></a></g><g id=\"E1.E5.E6\"><a href=\"psysml:44d9af1e-71a6-403b-81da-6292c3b1f2cb\" target=\"_top\" title=\"psysml:44d9af1e-71a6-403b-81da-6292c3b1f2cb\" xlink:actuate=\"onRequest\" xlink:href=\"psysml:44d9af1e-71a6-403b-81da-6292c3b1f2cb\" xlink:show=\"new\" xlink:title=\"psysml:44d9af1e-71a6-403b-81da-6292c3b1f2cb\" xlink:type=\"simple\"><rect fill=\"#FFFFFF\" height=\"42.9375\" id=\"E6\" rx=\"10\" ry=\"10\" style=\"stroke: #383838; stroke-width: 1.5;\" width=\"82\" x=\"56\" y=\"100.5\"/><rect fill=\"#F8F8F8\" height=\"37.9375\" rx=\"10\" ry=\"10\" style=\"stroke: #F8F8F8; stroke-width: 1.5;\" width=\"82\" x=\"56\" y=\"100.5\"/><rect fill=\"#F8F8F8\" height=\"10\" style=\"stroke: #F8F8F8; stroke-width: 1.5;\" width=\"82\" x=\"56\" y=\"128.4375\"/><rect fill=\"none\" height=\"42.9375\" id=\"E6\" rx=\"10\" ry=\"10\" style=\"stroke: #383838; stroke-width: 1.5;\" width=\"82\" x=\"56\" y=\"100.5\"/><text fill=\"#000000\" font-family=\"sans-serif\" font-size=\"12\" font-style=\"italic\" lengthAdjust=\"spacingAndGlyphs\" textLength=\"75\" x=\"59.5\" y=\"116.6387\">«reference»</text><text fill=\"#000000\" font-family=\"sans-serif\" font-size=\"12\" lengthAdjust=\"spacingAndGlyphs\" textLength=\"38\" x=\"78\" y=\"130.6074\">y: A, B</text></a></g><!--MD5=[0fae8fb2d48a4a18fab873b016e6ca37]\n",
       "@startuml\r\n",
       "skinparam ranksep 8\r\n",
       "skinparam rectangle {\r\n",
       " backgroundColor<<block>> LightGreen\r\n",
       "}\r\n",
       "left to right direction\r\n",
       "skinparam monochrome true\r\n",
       "skinparam classbackgroundcolor white\r\n",
       "skinparam shadowing false\r\n",
       "skinparam wrapWidth 300\r\n",
       "hide circle\r\n",
       "\r\n",
       "package \"ItemTest\" as E1  [[psysml:75fb623a-e350-4a47-9f82-c4d20b2b5b80 ]]  {\r\n",
       "rec usage \"f: A\" as E2  <<(T,blue)item>> [[psysml:d8a17efa-9aba-4cd7-b18a-68f8ed4c599b ]] {\r\n",
       "}\r\n",
       "def \"A\" as E3  <<(T,blue)item def>> [[psysml:30552314-ef8a-4f2d-b223-fa6e862cb5b8 ]] \r\n",
       "def \"B\" as E4  <<(T,blue)item def>> [[psysml:0c776550-23a6-42b8-908b-320a74e2d4ee ]] \r\n",
       "rec def \"C\" as E5  <<(T,blue)part def>> [[psysml:3f3cfa4e-9100-4bf2-8dae-183ab53e5ac5 ]] {\r\n",
       "rec usage \"y: A, B\" as E6  <<(T,blue)reference>> [[psysml:44d9af1e-71a6-403b-81da-6292c3b1f2cb ]] {\r\n",
       "}\r\n",
       "}\r\n",
       "def \"P\" as E7  <<(T,blue)port def>> [[psysml:b18b87fb-d7bd-4905-b0cb-818d68f57f75 ]] \r\n",
       "}\r\n",
       "@enduml\r\n",
       "\n",
       "PlantUML version 1.2020.13(Sat Jun 13 12:26:38 UTC 2020)\n",
       "(EPL source distribution)\n",
       "Java Runtime: OpenJDK Runtime Environment\n",
       "JVM: OpenJDK 64-Bit Server VM\n",
       "Default Encoding: UTF-8\n",
       "Language: en\n",
       "Country: null\n",
       "--></g></svg>"
      ]
     },
     "execution_count": 19,
     "metadata": {},
     "output_type": "execute_result"
    }
   ],
   "source": [
    "%viz --style=\"LR\" --view=\"Interconnection\" \"ItemTest\""
   ]
  },
  {
   "cell_type": "code",
   "execution_count": 20,
   "id": "appropriate-potato",
   "metadata": {
    "execution": {
     "iopub.execute_input": "2021-03-26T12:12:05.940514Z",
     "iopub.status.busy": "2021-03-26T12:12:05.939942Z",
     "iopub.status.idle": "2021-03-26T12:12:05.944961Z",
     "shell.execute_reply": "2021-03-26T12:12:05.945366Z"
    }
   },
   "outputs": [
    {
     "data": {
      "image/svg+xml": [
       "<?xml version=\"1.0\" encoding=\"UTF-8\" standalone=\"no\"?><svg xmlns=\"http://www.w3.org/2000/svg\" xmlns:xlink=\"http://www.w3.org/1999/xlink\" contentScriptType=\"application/ecmascript\" contentStyleType=\"text/css\" height=\"12px\" preserveAspectRatio=\"none\" style=\"width:12px;height:12px;\" version=\"1.1\" viewBox=\"0 0 12 12\" width=\"12px\" zoomAndPan=\"magnify\"><defs/><g><!--MD5=[7aeb398939421629f6affaa4a1a7b125]\n",
       "@startuml\r\n",
       "skinparam ranksep 8\r\n",
       "left to right direction\r\n",
       "skinparam monochrome true\r\n",
       "skinparam classbackgroundcolor white\r\n",
       "skinparam shadowing false\r\n",
       "skinparam wrapWidth 300\r\n",
       "hide circle\r\n",
       "\r\n",
       "@enduml\r\n",
       "\n",
       "PlantUML version 1.2020.13(Sat Jun 13 12:26:38 UTC 2020)\n",
       "(EPL source distribution)\n",
       "Java Runtime: OpenJDK Runtime Environment\n",
       "JVM: OpenJDK 64-Bit Server VM\n",
       "Default Encoding: UTF-8\n",
       "Language: en\n",
       "Country: null\n",
       "--></g></svg>"
      ]
     },
     "execution_count": 20,
     "metadata": {},
     "output_type": "execute_result"
    }
   ],
   "source": [
    "%viz --style=\"LR\" --view=\"Action\" \"ItemTest\""
   ]
  },
  {
   "cell_type": "code",
   "execution_count": 21,
   "id": "disabled-effects",
   "metadata": {
    "execution": {
     "iopub.execute_input": "2021-03-26T12:12:05.998742Z",
     "iopub.status.busy": "2021-03-26T12:12:05.998159Z",
     "iopub.status.idle": "2021-03-26T12:12:06.058806Z",
     "shell.execute_reply": "2021-03-26T12:12:06.057463Z"
    }
   },
   "outputs": [
    {
     "data": {
      "image/svg+xml": [
       "<?xml version=\"1.0\" encoding=\"UTF-8\" standalone=\"no\"?><svg xmlns=\"http://www.w3.org/2000/svg\" xmlns:xlink=\"http://www.w3.org/1999/xlink\" contentScriptType=\"application/ecmascript\" contentStyleType=\"text/css\" height=\"239px\" preserveAspectRatio=\"none\" style=\"width:733px;height:239px;\" version=\"1.1\" viewBox=\"0 0 733 239\" width=\"733px\" zoomAndPan=\"magnify\"><defs/><g><!--MD5=[fbc87193dbaf4d95561dea2c320d4a47]\n",
       "cluster E1--><a href=\"psysml:75fb623a-e350-4a47-9f82-c4d20b2b5b80\" target=\"_top\" title=\"psysml:75fb623a-e350-4a47-9f82-c4d20b2b5b80\" xlink:actuate=\"onRequest\" xlink:href=\"psysml:75fb623a-e350-4a47-9f82-c4d20b2b5b80\" xlink:show=\"new\" xlink:title=\"psysml:75fb623a-e350-4a47-9f82-c4d20b2b5b80\" xlink:type=\"simple\"><polygon fill=\"#FFFFFF\" points=\"16,6,91,6,98,28.2969,711,28.2969,711,227,16,227,16,6\" style=\"stroke: #000000; stroke-width: 1.5;\"/><line style=\"stroke: #000000; stroke-width: 1.5;\" x1=\"16\" x2=\"98\" y1=\"28.2969\" y2=\"28.2969\"/><text fill=\"#000000\" font-family=\"sans-serif\" font-size=\"14\" font-weight=\"bold\" lengthAdjust=\"spacingAndGlyphs\" textLength=\"69\" x=\"20\" y=\"20.9951\">ItemTest</text></a><!--MD5=[b4997ac47864f28c2f74865a473b2911]\n",
       "class E2--><a href=\"psysml:d8a17efa-9aba-4cd7-b18a-68f8ed4c599b\" target=\"_top\" title=\"psysml:d8a17efa-9aba-4cd7-b18a-68f8ed4c599b\" xlink:actuate=\"onRequest\" xlink:href=\"psysml:d8a17efa-9aba-4cd7-b18a-68f8ed4c599b\" xlink:show=\"new\" xlink:title=\"psysml:d8a17efa-9aba-4cd7-b18a-68f8ed4c599b\" xlink:type=\"simple\"><rect fill=\"#FFFFFF\" height=\"45.9375\" id=\"E2\" rx=\"10\" ry=\"10\" style=\"stroke: #383838; stroke-width: 1.5;\" width=\"43\" x=\"43.5\" y=\"42\"/><text fill=\"#000000\" font-family=\"sans-serif\" font-size=\"12\" font-style=\"italic\" lengthAdjust=\"spacingAndGlyphs\" textLength=\"41\" x=\"44.5\" y=\"58.1387\">«item»</text><text fill=\"#000000\" font-family=\"sans-serif\" font-size=\"12\" lengthAdjust=\"spacingAndGlyphs\" textLength=\"20\" x=\"55\" y=\"72.1074\">f: A</text><line style=\"stroke: #383838; stroke-width: 1.5;\" x1=\"44.5\" x2=\"85.5\" y1=\"79.9375\" y2=\"79.9375\"/></a><!--MD5=[09b614a08d8cba4a07c9adeb5e0fee81]\n",
       "class E3--><a href=\"psysml:30552314-ef8a-4f2d-b223-fa6e862cb5b8\" target=\"_top\" title=\"psysml:30552314-ef8a-4f2d-b223-fa6e862cb5b8\" xlink:actuate=\"onRequest\" xlink:href=\"psysml:30552314-ef8a-4f2d-b223-fa6e862cb5b8\" xlink:show=\"new\" xlink:title=\"psysml:30552314-ef8a-4f2d-b223-fa6e862cb5b8\" xlink:type=\"simple\"><rect fill=\"#FFFFFF\" height=\"75.5469\" id=\"E3\" style=\"stroke: #383838; stroke-width: 1.5;\" width=\"67\" x=\"159\" y=\"50\"/><text fill=\"#000000\" font-family=\"sans-serif\" font-size=\"12\" font-style=\"italic\" lengthAdjust=\"spacingAndGlyphs\" textLength=\"65\" x=\"160\" y=\"66.1387\">«item def»</text><text fill=\"#000000\" font-family=\"sans-serif\" font-size=\"12\" lengthAdjust=\"spacingAndGlyphs\" textLength=\"8\" x=\"188.5\" y=\"80.1074\">A</text><line style=\"stroke: #383838; stroke-width: 1.5;\" x1=\"160\" x2=\"225\" y1=\"87.9375\" y2=\"87.9375\"/><text fill=\"#000000\" font-family=\"sans-serif\" font-size=\"11\" lengthAdjust=\"spacingAndGlyphs\" textLength=\"23\" x=\"165\" y=\"118.9526\">b: B</text><line style=\"stroke: #383838; stroke-width: 1.0;\" x1=\"160\" x2=\"176.5\" y1=\"102.3398\" y2=\"102.3398\"/><text fill=\"#000000\" font-family=\"sans-serif\" font-size=\"11\" lengthAdjust=\"spacingAndGlyphs\" textLength=\"32\" x=\"176.5\" y=\"105.6479\">items</text><line style=\"stroke: #383838; stroke-width: 1.0;\" x1=\"208.5\" x2=\"225\" y1=\"102.3398\" y2=\"102.3398\"/></a><!--MD5=[270fce915f116d4de14055a7c1d9a0f3]\n",
       "class E5--><a href=\"psysml:cb0fe327-dda6-4eae-9e46-1ce946f22982\" target=\"_top\" title=\"psysml:cb0fe327-dda6-4eae-9e46-1ce946f22982\" xlink:actuate=\"onRequest\" xlink:href=\"psysml:cb0fe327-dda6-4eae-9e46-1ce946f22982\" xlink:show=\"new\" xlink:title=\"psysml:cb0fe327-dda6-4eae-9e46-1ce946f22982\" xlink:type=\"simple\"><rect fill=\"#FFFFFF\" height=\"45.9375\" id=\"E5\" rx=\"10\" ry=\"10\" style=\"stroke: #383838; stroke-width: 1.5;\" width=\"42\" x=\"287\" y=\"165\"/><text fill=\"#000000\" font-family=\"sans-serif\" font-size=\"12\" font-style=\"italic\" lengthAdjust=\"spacingAndGlyphs\" textLength=\"40\" x=\"288\" y=\"181.1387\">«part»</text><text fill=\"#000000\" font-family=\"sans-serif\" font-size=\"12\" lengthAdjust=\"spacingAndGlyphs\" textLength=\"23\" x=\"296.5\" y=\"195.1074\">c: C</text><line style=\"stroke: #383838; stroke-width: 1.5;\" x1=\"288\" x2=\"328\" y1=\"202.9375\" y2=\"202.9375\"/></a><!--MD5=[60a26617385b1d2d0262a64233df1f8d]\n",
       "class E6--><a href=\"psysml:0c776550-23a6-42b8-908b-320a74e2d4ee\" target=\"_top\" title=\"psysml:0c776550-23a6-42b8-908b-320a74e2d4ee\" xlink:actuate=\"onRequest\" xlink:href=\"psysml:0c776550-23a6-42b8-908b-320a74e2d4ee\" xlink:show=\"new\" xlink:title=\"psysml:0c776550-23a6-42b8-908b-320a74e2d4ee\" xlink:type=\"simple\"><rect fill=\"#FFFFFF\" height=\"45.9375\" id=\"E6\" style=\"stroke: #383838; stroke-width: 1.5;\" width=\"67\" x=\"525\" y=\"78\"/><text fill=\"#000000\" font-family=\"sans-serif\" font-size=\"12\" font-style=\"italic\" lengthAdjust=\"spacingAndGlyphs\" textLength=\"65\" x=\"526\" y=\"94.1387\">«item def»</text><text fill=\"#000000\" font-family=\"sans-serif\" font-size=\"12\" lengthAdjust=\"spacingAndGlyphs\" textLength=\"8\" x=\"554.5\" y=\"108.1074\">B</text><line style=\"stroke: #383838; stroke-width: 1.5;\" x1=\"526\" x2=\"591\" y1=\"115.9375\" y2=\"115.9375\"/></a><!--MD5=[2156ba9850f5573cc1fc38a6a4b2f02b]\n",
       "class E7--><a href=\"psysml:7f7b610c-5cf3-4f1d-92e7-984e3817e328\" target=\"_top\" title=\"psysml:7f7b610c-5cf3-4f1d-92e7-984e3817e328\" xlink:actuate=\"onRequest\" xlink:href=\"psysml:7f7b610c-5cf3-4f1d-92e7-984e3817e328\" xlink:show=\"new\" xlink:title=\"psysml:7f7b610c-5cf3-4f1d-92e7-984e3817e328\" xlink:type=\"simple\"><rect fill=\"#FFFFFF\" height=\"45.9375\" id=\"E7\" rx=\"10\" ry=\"10\" style=\"stroke: #383838; stroke-width: 1.5;\" width=\"42\" x=\"653\" y=\"59\"/><text fill=\"#000000\" font-family=\"sans-serif\" font-size=\"12\" font-style=\"italic\" lengthAdjust=\"spacingAndGlyphs\" textLength=\"40\" x=\"654\" y=\"75.1387\">«part»</text><text fill=\"#000000\" font-family=\"sans-serif\" font-size=\"12\" lengthAdjust=\"spacingAndGlyphs\" textLength=\"24\" x=\"662\" y=\"89.1074\">a: A</text><line style=\"stroke: #383838; stroke-width: 1.5;\" x1=\"654\" x2=\"694\" y1=\"96.9375\" y2=\"96.9375\"/></a><!--MD5=[b9389687b975829384b498ac4b7476b2]\n",
       "class E8--><a href=\"psysml:3f3cfa4e-9100-4bf2-8dae-183ab53e5ac5\" target=\"_top\" title=\"psysml:3f3cfa4e-9100-4bf2-8dae-183ab53e5ac5\" xlink:actuate=\"onRequest\" xlink:href=\"psysml:3f3cfa4e-9100-4bf2-8dae-183ab53e5ac5\" xlink:show=\"new\" xlink:title=\"psysml:3f3cfa4e-9100-4bf2-8dae-183ab53e5ac5\" xlink:type=\"simple\"><rect fill=\"#FFFFFF\" height=\"45.9375\" id=\"E8\" style=\"stroke: #383838; stroke-width: 1.5;\" width=\"66\" x=\"390\" y=\"78\"/><text fill=\"#000000\" font-family=\"sans-serif\" font-size=\"12\" font-style=\"italic\" lengthAdjust=\"spacingAndGlyphs\" textLength=\"64\" x=\"391\" y=\"94.1387\">«part def»</text><text fill=\"#000000\" font-family=\"sans-serif\" font-size=\"12\" lengthAdjust=\"spacingAndGlyphs\" textLength=\"8\" x=\"419\" y=\"108.1074\">C</text><line style=\"stroke: #383838; stroke-width: 1.5;\" x1=\"391\" x2=\"455\" y1=\"115.9375\" y2=\"115.9375\"/></a><!--MD5=[fd4143e9d270a159db93a4ea2a975926]\n",
       "class E9--><a href=\"psysml:b18b87fb-d7bd-4905-b0cb-818d68f57f75\" target=\"_top\" title=\"psysml:b18b87fb-d7bd-4905-b0cb-818d68f57f75\" xlink:actuate=\"onRequest\" xlink:href=\"psysml:b18b87fb-d7bd-4905-b0cb-818d68f57f75\" xlink:show=\"new\" xlink:title=\"psysml:b18b87fb-d7bd-4905-b0cb-818d68f57f75\" xlink:type=\"simple\"><rect fill=\"#FFFFFF\" height=\"88.3516\" id=\"E9\" style=\"stroke: #383838; stroke-width: 1.5;\" width=\"66\" x=\"32\" y=\"123\"/><text fill=\"#000000\" font-family=\"sans-serif\" font-size=\"12\" font-style=\"italic\" lengthAdjust=\"spacingAndGlyphs\" textLength=\"64\" x=\"33\" y=\"139.1387\">«port def»</text><text fill=\"#000000\" font-family=\"sans-serif\" font-size=\"12\" lengthAdjust=\"spacingAndGlyphs\" textLength=\"8\" x=\"61\" y=\"153.1074\">P</text><line style=\"stroke: #383838; stroke-width: 1.5;\" x1=\"33\" x2=\"97\" y1=\"160.9375\" y2=\"160.9375\"/><text fill=\"#000000\" font-family=\"sans-serif\" font-size=\"11\" lengthAdjust=\"spacingAndGlyphs\" textLength=\"29\" x=\"38\" y=\"191.9526\">a1: A</text><text fill=\"#000000\" font-family=\"sans-serif\" font-size=\"11\" lengthAdjust=\"spacingAndGlyphs\" textLength=\"29\" x=\"38\" y=\"204.7573\">a2: A</text><line style=\"stroke: #383838; stroke-width: 1.0;\" x1=\"33\" x2=\"49\" y1=\"175.3398\" y2=\"175.3398\"/><text fill=\"#000000\" font-family=\"sans-serif\" font-size=\"11\" lengthAdjust=\"spacingAndGlyphs\" textLength=\"32\" x=\"49\" y=\"178.6479\">items</text><line style=\"stroke: #383838; stroke-width: 1.0;\" x1=\"81\" x2=\"97\" y1=\"175.3398\" y2=\"175.3398\"/></a><!--MD5=[2720a5a1f2c3fca2055b230370638851]\n",
       "link E2 to E3--><a href=\"psysml:cbc83e8e-35d8-4884-92a4-03d9c321669a\" target=\"_top\" title=\"psysml:cbc83e8e-35d8-4884-92a4-03d9c321669a\" xlink:actuate=\"onRequest\" xlink:href=\"psysml:cbc83e8e-35d8-4884-92a4-03d9c321669a\" xlink:show=\"new\" xlink:title=\"psysml:cbc83e8e-35d8-4884-92a4-03d9c321669a\" xlink:type=\"simple\"><path d=\"M86.72,68.8 C100.99,71.41 120.62,75.01 139.03,78.38 \" fill=\"none\" id=\"E2-&gt;E3\" style=\"stroke: #383838; stroke-width: 1.0;\"/><polygon fill=\"#FFFFFF\" points=\"158.95,82.03,139.0003,85.4953,141.5205,71.724,158.95,82.03\" style=\"stroke: #383838; stroke-width: 1.0;\"/><ellipse cx=\"133.7534\" cy=\"82.5019\" fill=\"#383838\" rx=\"2\" ry=\"2\" style=\"stroke: #383838; stroke-width: 1.0;\"/><ellipse cx=\"135.5536\" cy=\"72.6653\" fill=\"#383838\" rx=\"2\" ry=\"2\" style=\"stroke: #383838; stroke-width: 1.0;\"/></a><!--MD5=[191cde3d490a3f6d7bb551fe3ddca469]\n",
       "reverse link E3 to E5--><a href=\"psysml:cb0fe327-dda6-4eae-9e46-1ce946f22982\" target=\"_top\" title=\"psysml:cb0fe327-dda6-4eae-9e46-1ce946f22982\" xlink:actuate=\"onRequest\" xlink:href=\"psysml:cb0fe327-dda6-4eae-9e46-1ce946f22982\" xlink:show=\"new\" xlink:title=\"psysml:cb0fe327-dda6-4eae-9e46-1ce946f22982\" xlink:type=\"simple\"><path d=\"M236.03,125.47 C253.49,140.85 272.86,157.92 286.96,170.34 \" fill=\"none\" id=\"E3&lt;-E5\" style=\"stroke: #383838; stroke-width: 1.0;\"/><polygon fill=\"#FFFFFF\" points=\"226.02,116.66,227.8712,123.6294,235.0165,124.6012,233.1653,117.6318,226.02,116.66\" style=\"stroke: #383838; stroke-width: 1.0;\"/></a><!--MD5=[14ccda38c055a5c0da953d572bc50960]\n",
       "link E7 to E3--><a href=\"psysml:b2ac9add-d533-4cc3-a1ec-28b279e4ff39\" target=\"_top\" title=\"psysml:b2ac9add-d533-4cc3-a1ec-28b279e4ff39\" xlink:actuate=\"onRequest\" xlink:href=\"psysml:b2ac9add-d533-4cc3-a1ec-28b279e4ff39\" xlink:show=\"new\" xlink:title=\"psysml:b2ac9add-d533-4cc3-a1ec-28b279e4ff39\" xlink:type=\"simple\"><path d=\"M652.84,70.22 C630.71,58.42 593.76,42 559.5,42 C307,42 307,42 307,42 C285.58,42 263.45,49.12 244.48,57.76 \" fill=\"none\" id=\"E7-&gt;E3\" style=\"stroke: #383838; stroke-width: 1.0;\"/><polygon fill=\"#FFFFFF\" points=\"226.36,66.88,240.1858,52.0866,246.4788,64.5925,226.36,66.88\" style=\"stroke: #383838; stroke-width: 1.0;\"/><ellipse cx=\"246.1765\" cy=\"51.311\" fill=\"#383838\" rx=\"2\" ry=\"2\" style=\"stroke: #383838; stroke-width: 1.0;\"/><ellipse cx=\"250.6715\" cy=\"60.2438\" fill=\"#383838\" rx=\"2\" ry=\"2\" style=\"stroke: #383838; stroke-width: 1.0;\"/></a><!--MD5=[3f50a3473f1dfb74d3f76443e03635af]\n",
       "reverse link E6 to E7--><a href=\"psysml:7f7b610c-5cf3-4f1d-92e7-984e3817e328\" target=\"_top\" title=\"psysml:7f7b610c-5cf3-4f1d-92e7-984e3817e328\" xlink:actuate=\"onRequest\" xlink:href=\"psysml:7f7b610c-5cf3-4f1d-92e7-984e3817e328\" xlink:show=\"new\" xlink:title=\"psysml:7f7b610c-5cf3-4f1d-92e7-984e3817e328\" xlink:type=\"simple\"><path d=\"M604.98,93.39 C621.64,90.6 639.65,87.58 652.96,85.36 \" fill=\"none\" id=\"E6&lt;-E7\" style=\"stroke: #383838; stroke-width: 1.0;\"/><polygon fill=\"#383838\" points=\"592.02,95.56,598.6002,98.5097,603.8539,93.5701,597.2736,90.6204,592.02,95.56\" style=\"stroke: #383838; stroke-width: 1.0;\"/></a><!--MD5=[dfaffb906826c3e5aca635516100ff21]\n",
       "link E5 to E8--><a href=\"psysml:8f4ff897-72ba-4249-b35c-9a7192bde9f3\" target=\"_top\" title=\"psysml:8f4ff897-72ba-4249-b35c-9a7192bde9f3\" xlink:actuate=\"onRequest\" xlink:href=\"psysml:8f4ff897-72ba-4249-b35c-9a7192bde9f3\" xlink:show=\"new\" xlink:title=\"psysml:8f4ff897-72ba-4249-b35c-9a7192bde9f3\" xlink:type=\"simple\"><path d=\"M329.2,172.45 C342.18,162.45 359.59,149.05 375.82,136.55 \" fill=\"none\" id=\"E5-&gt;E8\" style=\"stroke: #383838; stroke-width: 1.0;\"/><polygon fill=\"#FFFFFF\" points=\"391.76,124.28,380.9793,141.4199,372.4361,130.3288,391.76,124.28\" style=\"stroke: #383838; stroke-width: 1.0;\"/><ellipse cx=\"375.2432\" cy=\"143.3138\" fill=\"#383838\" rx=\"2\" ry=\"2\" style=\"stroke: #383838; stroke-width: 1.0;\"/><ellipse cx=\"369.1409\" cy=\"135.3915\" fill=\"#383838\" rx=\"2\" ry=\"2\" style=\"stroke: #383838; stroke-width: 1.0;\"/></a><!--MD5=[03c8294790d3c57651a1993cecff665f]\n",
       "reverse link E8 to E3--><a href=\"psysml:44d9af1e-71a6-403b-81da-6292c3b1f2cb\" target=\"_top\" title=\"psysml:44d9af1e-71a6-403b-81da-6292c3b1f2cb\" xlink:actuate=\"onRequest\" xlink:href=\"psysml:44d9af1e-71a6-403b-81da-6292c3b1f2cb\" xlink:show=\"new\" xlink:title=\"psysml:44d9af1e-71a6-403b-81da-6292c3b1f2cb\" xlink:type=\"simple\"><path d=\"M376.68,98.42 C332.29,95.9 265.72,92.11 226.24,89.86 \" fill=\"none\" id=\"E8&lt;-E3\" style=\"stroke: #383838; stroke-width: 1.0;\"/><polygon fill=\"#FFFFFF\" points=\"389.69,99.16,383.9282,94.8239,377.7096,98.4747,383.4713,102.8108,389.69,99.16\" style=\"stroke: #383838; stroke-width: 1.0;\"/><text fill=\"#000000\" font-family=\"sans-serif\" font-size=\"13\" lengthAdjust=\"spacingAndGlyphs\" textLength=\"7\" x=\"304.5\" y=\"90.0669\">y</text></a><!--MD5=[0d75d2178373a6a4568e5dc728f58aef]\n",
       "reverse link E8 to E6--><a href=\"psysml:44d9af1e-71a6-403b-81da-6292c3b1f2cb\" target=\"_top\" title=\"psysml:44d9af1e-71a6-403b-81da-6292c3b1f2cb\" xlink:actuate=\"onRequest\" xlink:href=\"psysml:44d9af1e-71a6-403b-81da-6292c3b1f2cb\" xlink:show=\"new\" xlink:title=\"psysml:44d9af1e-71a6-403b-81da-6292c3b1f2cb\" xlink:type=\"simple\"><path d=\"M469.57,101 C487.62,101 507.98,101 524.55,101 \" fill=\"none\" id=\"E8&lt;-E6\" style=\"stroke: #383838; stroke-width: 1.0;\"/><polygon fill=\"#FFFFFF\" points=\"456.32,101,462.32,105,468.32,101,462.32,97,456.32,101\" style=\"stroke: #383838; stroke-width: 1.0;\"/><text fill=\"#000000\" font-family=\"sans-serif\" font-size=\"13\" lengthAdjust=\"spacingAndGlyphs\" textLength=\"7\" x=\"487\" y=\"97.0669\">y</text></a><!--MD5=[0d8d777fe38e5a2f0538c0eace4dc6a4]\n",
       "@startuml\r\n",
       "left to right direction\r\n",
       "skinparam monochrome true\r\n",
       "skinparam classbackgroundcolor white\r\n",
       "skinparam shadowing false\r\n",
       "skinparam wrapWidth 300\r\n",
       "hide circle\r\n",
       "\r\n",
       "package \"ItemTest\" as E1  [[psysml:75fb623a-e350-4a47-9f82-c4d20b2b5b80 ]]  {\r\n",
       "comp usage \"f: A\" as E2  <<(T,blue)item>> [[psysml:d8a17efa-9aba-4cd7-b18a-68f8ed4c599b ]] {\r\n",
       "}\r\n",
       "comp def \"A\" as E3  <<(T,blue)item def>> [[psysml:30552314-ef8a-4f2d-b223-fa6e862cb5b8 ]] {\r\n",
       "- - items - -\r\n",
       "b: B\r\n",
       "}\r\n",
       "comp usage \"c: C\" as E5  <<(T,blue)part>> [[psysml:cb0fe327-dda6-4eae-9e46-1ce946f22982 ]] {\r\n",
       "}\r\n",
       "comp def \"B\" as E6  <<(T,blue)item def>> [[psysml:0c776550-23a6-42b8-908b-320a74e2d4ee ]] {\r\n",
       "}\r\n",
       "comp usage \"a: A\" as E7  <<(T,blue)part>> [[psysml:7f7b610c-5cf3-4f1d-92e7-984e3817e328 ]] {\r\n",
       "}\r\n",
       "comp def \"C\" as E8  <<(T,blue)part def>> [[psysml:3f3cfa4e-9100-4bf2-8dae-183ab53e5ac5 ]] {\r\n",
       "}\r\n",
       "comp def \"P\" as E9  <<(T,blue)port def>> [[psysml:b18b87fb-d7bd-4905-b0cb-818d68f57f75 ]] {\r\n",
       "- - items - -\r\n",
       "a1: A\r\n",
       "a2: A\r\n",
       "}\r\n",
       "E2 - -:|> E3 [[psysml:cbc83e8e-35d8-4884-92a4-03d9c321669a ]] \r\n",
       "E3 o- - E5 [[psysml:cb0fe327-dda6-4eae-9e46-1ce946f22982 ]] \r\n",
       "E7 - -:|> E3 [[psysml:b2ac9add-d533-4cc3-a1ec-28b279e4ff39 ]] \r\n",
       "E6 *- - E7 [[psysml:7f7b610c-5cf3-4f1d-92e7-984e3817e328 ]] \r\n",
       "E5 - -:|> E8 [[psysml:8f4ff897-72ba-4249-b35c-9a7192bde9f3 ]] \r\n",
       "E8 o- - E3 [[psysml:44d9af1e-71a6-403b-81da-6292c3b1f2cb ]] : y\r\n",
       "E8 o- - E6 [[psysml:44d9af1e-71a6-403b-81da-6292c3b1f2cb ]] : y\r\n",
       "}\r\n",
       "@enduml\r\n",
       "\n",
       "PlantUML version 1.2020.13(Sat Jun 13 12:26:38 UTC 2020)\n",
       "(EPL source distribution)\n",
       "Java Runtime: OpenJDK Runtime Environment\n",
       "JVM: OpenJDK 64-Bit Server VM\n",
       "Default Encoding: UTF-8\n",
       "Language: en\n",
       "Country: null\n",
       "--></g></svg>"
      ]
     },
     "execution_count": 21,
     "metadata": {},
     "output_type": "execute_result"
    }
   ],
   "source": [
    "%viz --style=\"LR\" --view=\"Sequence\" \"ItemTest\""
   ]
  },
  {
   "cell_type": "code",
   "execution_count": 22,
   "id": "activated-chinese",
   "metadata": {
    "execution": {
     "iopub.execute_input": "2021-03-26T12:12:06.110784Z",
     "iopub.status.busy": "2021-03-26T12:12:06.109821Z",
     "iopub.status.idle": "2021-03-26T12:12:06.179394Z",
     "shell.execute_reply": "2021-03-26T12:12:06.179723Z"
    }
   },
   "outputs": [
    {
     "data": {
      "image/svg+xml": [
       "<?xml version=\"1.0\" encoding=\"UTF-8\" standalone=\"no\"?><svg xmlns=\"http://www.w3.org/2000/svg\" xmlns:xlink=\"http://www.w3.org/1999/xlink\" contentScriptType=\"application/ecmascript\" contentStyleType=\"text/css\" height=\"239px\" preserveAspectRatio=\"none\" style=\"width:733px;height:239px;\" version=\"1.1\" viewBox=\"0 0 733 239\" width=\"733px\" zoomAndPan=\"magnify\"><defs/><g><!--MD5=[fbc87193dbaf4d95561dea2c320d4a47]\n",
       "cluster E1--><a href=\"psysml:75fb623a-e350-4a47-9f82-c4d20b2b5b80\" target=\"_top\" title=\"psysml:75fb623a-e350-4a47-9f82-c4d20b2b5b80\" xlink:actuate=\"onRequest\" xlink:href=\"psysml:75fb623a-e350-4a47-9f82-c4d20b2b5b80\" xlink:show=\"new\" xlink:title=\"psysml:75fb623a-e350-4a47-9f82-c4d20b2b5b80\" xlink:type=\"simple\"><polygon fill=\"#FFFFFF\" points=\"16,6,91,6,98,28.2969,711,28.2969,711,227,16,227,16,6\" style=\"stroke: #000000; stroke-width: 1.5;\"/><line style=\"stroke: #000000; stroke-width: 1.5;\" x1=\"16\" x2=\"98\" y1=\"28.2969\" y2=\"28.2969\"/><text fill=\"#000000\" font-family=\"sans-serif\" font-size=\"14\" font-weight=\"bold\" lengthAdjust=\"spacingAndGlyphs\" textLength=\"69\" x=\"20\" y=\"20.9951\">ItemTest</text></a><!--MD5=[b4997ac47864f28c2f74865a473b2911]\n",
       "class E2--><a href=\"psysml:d8a17efa-9aba-4cd7-b18a-68f8ed4c599b\" target=\"_top\" title=\"psysml:d8a17efa-9aba-4cd7-b18a-68f8ed4c599b\" xlink:actuate=\"onRequest\" xlink:href=\"psysml:d8a17efa-9aba-4cd7-b18a-68f8ed4c599b\" xlink:show=\"new\" xlink:title=\"psysml:d8a17efa-9aba-4cd7-b18a-68f8ed4c599b\" xlink:type=\"simple\"><rect fill=\"#FFFFFF\" height=\"45.9375\" id=\"E2\" rx=\"10\" ry=\"10\" style=\"stroke: #383838; stroke-width: 1.5;\" width=\"43\" x=\"43.5\" y=\"42\"/><text fill=\"#000000\" font-family=\"sans-serif\" font-size=\"12\" font-style=\"italic\" lengthAdjust=\"spacingAndGlyphs\" textLength=\"41\" x=\"44.5\" y=\"58.1387\">«item»</text><text fill=\"#000000\" font-family=\"sans-serif\" font-size=\"12\" lengthAdjust=\"spacingAndGlyphs\" textLength=\"20\" x=\"55\" y=\"72.1074\">f: A</text><line style=\"stroke: #383838; stroke-width: 1.5;\" x1=\"44.5\" x2=\"85.5\" y1=\"79.9375\" y2=\"79.9375\"/></a><!--MD5=[09b614a08d8cba4a07c9adeb5e0fee81]\n",
       "class E3--><a href=\"psysml:30552314-ef8a-4f2d-b223-fa6e862cb5b8\" target=\"_top\" title=\"psysml:30552314-ef8a-4f2d-b223-fa6e862cb5b8\" xlink:actuate=\"onRequest\" xlink:href=\"psysml:30552314-ef8a-4f2d-b223-fa6e862cb5b8\" xlink:show=\"new\" xlink:title=\"psysml:30552314-ef8a-4f2d-b223-fa6e862cb5b8\" xlink:type=\"simple\"><rect fill=\"#FFFFFF\" height=\"75.5469\" id=\"E3\" style=\"stroke: #383838; stroke-width: 1.5;\" width=\"67\" x=\"159\" y=\"50\"/><text fill=\"#000000\" font-family=\"sans-serif\" font-size=\"12\" font-style=\"italic\" lengthAdjust=\"spacingAndGlyphs\" textLength=\"65\" x=\"160\" y=\"66.1387\">«item def»</text><text fill=\"#000000\" font-family=\"sans-serif\" font-size=\"12\" lengthAdjust=\"spacingAndGlyphs\" textLength=\"8\" x=\"188.5\" y=\"80.1074\">A</text><line style=\"stroke: #383838; stroke-width: 1.5;\" x1=\"160\" x2=\"225\" y1=\"87.9375\" y2=\"87.9375\"/><text fill=\"#000000\" font-family=\"sans-serif\" font-size=\"11\" lengthAdjust=\"spacingAndGlyphs\" textLength=\"23\" x=\"165\" y=\"118.9526\">b: B</text><line style=\"stroke: #383838; stroke-width: 1.0;\" x1=\"160\" x2=\"176.5\" y1=\"102.3398\" y2=\"102.3398\"/><text fill=\"#000000\" font-family=\"sans-serif\" font-size=\"11\" lengthAdjust=\"spacingAndGlyphs\" textLength=\"32\" x=\"176.5\" y=\"105.6479\">items</text><line style=\"stroke: #383838; stroke-width: 1.0;\" x1=\"208.5\" x2=\"225\" y1=\"102.3398\" y2=\"102.3398\"/></a><!--MD5=[270fce915f116d4de14055a7c1d9a0f3]\n",
       "class E5--><a href=\"psysml:cb0fe327-dda6-4eae-9e46-1ce946f22982\" target=\"_top\" title=\"psysml:cb0fe327-dda6-4eae-9e46-1ce946f22982\" xlink:actuate=\"onRequest\" xlink:href=\"psysml:cb0fe327-dda6-4eae-9e46-1ce946f22982\" xlink:show=\"new\" xlink:title=\"psysml:cb0fe327-dda6-4eae-9e46-1ce946f22982\" xlink:type=\"simple\"><rect fill=\"#FFFFFF\" height=\"45.9375\" id=\"E5\" rx=\"10\" ry=\"10\" style=\"stroke: #383838; stroke-width: 1.5;\" width=\"42\" x=\"287\" y=\"165\"/><text fill=\"#000000\" font-family=\"sans-serif\" font-size=\"12\" font-style=\"italic\" lengthAdjust=\"spacingAndGlyphs\" textLength=\"40\" x=\"288\" y=\"181.1387\">«part»</text><text fill=\"#000000\" font-family=\"sans-serif\" font-size=\"12\" lengthAdjust=\"spacingAndGlyphs\" textLength=\"23\" x=\"296.5\" y=\"195.1074\">c: C</text><line style=\"stroke: #383838; stroke-width: 1.5;\" x1=\"288\" x2=\"328\" y1=\"202.9375\" y2=\"202.9375\"/></a><!--MD5=[60a26617385b1d2d0262a64233df1f8d]\n",
       "class E6--><a href=\"psysml:0c776550-23a6-42b8-908b-320a74e2d4ee\" target=\"_top\" title=\"psysml:0c776550-23a6-42b8-908b-320a74e2d4ee\" xlink:actuate=\"onRequest\" xlink:href=\"psysml:0c776550-23a6-42b8-908b-320a74e2d4ee\" xlink:show=\"new\" xlink:title=\"psysml:0c776550-23a6-42b8-908b-320a74e2d4ee\" xlink:type=\"simple\"><rect fill=\"#FFFFFF\" height=\"45.9375\" id=\"E6\" style=\"stroke: #383838; stroke-width: 1.5;\" width=\"67\" x=\"525\" y=\"78\"/><text fill=\"#000000\" font-family=\"sans-serif\" font-size=\"12\" font-style=\"italic\" lengthAdjust=\"spacingAndGlyphs\" textLength=\"65\" x=\"526\" y=\"94.1387\">«item def»</text><text fill=\"#000000\" font-family=\"sans-serif\" font-size=\"12\" lengthAdjust=\"spacingAndGlyphs\" textLength=\"8\" x=\"554.5\" y=\"108.1074\">B</text><line style=\"stroke: #383838; stroke-width: 1.5;\" x1=\"526\" x2=\"591\" y1=\"115.9375\" y2=\"115.9375\"/></a><!--MD5=[2156ba9850f5573cc1fc38a6a4b2f02b]\n",
       "class E7--><a href=\"psysml:7f7b610c-5cf3-4f1d-92e7-984e3817e328\" target=\"_top\" title=\"psysml:7f7b610c-5cf3-4f1d-92e7-984e3817e328\" xlink:actuate=\"onRequest\" xlink:href=\"psysml:7f7b610c-5cf3-4f1d-92e7-984e3817e328\" xlink:show=\"new\" xlink:title=\"psysml:7f7b610c-5cf3-4f1d-92e7-984e3817e328\" xlink:type=\"simple\"><rect fill=\"#FFFFFF\" height=\"45.9375\" id=\"E7\" rx=\"10\" ry=\"10\" style=\"stroke: #383838; stroke-width: 1.5;\" width=\"42\" x=\"653\" y=\"59\"/><text fill=\"#000000\" font-family=\"sans-serif\" font-size=\"12\" font-style=\"italic\" lengthAdjust=\"spacingAndGlyphs\" textLength=\"40\" x=\"654\" y=\"75.1387\">«part»</text><text fill=\"#000000\" font-family=\"sans-serif\" font-size=\"12\" lengthAdjust=\"spacingAndGlyphs\" textLength=\"24\" x=\"662\" y=\"89.1074\">a: A</text><line style=\"stroke: #383838; stroke-width: 1.5;\" x1=\"654\" x2=\"694\" y1=\"96.9375\" y2=\"96.9375\"/></a><!--MD5=[b9389687b975829384b498ac4b7476b2]\n",
       "class E8--><a href=\"psysml:3f3cfa4e-9100-4bf2-8dae-183ab53e5ac5\" target=\"_top\" title=\"psysml:3f3cfa4e-9100-4bf2-8dae-183ab53e5ac5\" xlink:actuate=\"onRequest\" xlink:href=\"psysml:3f3cfa4e-9100-4bf2-8dae-183ab53e5ac5\" xlink:show=\"new\" xlink:title=\"psysml:3f3cfa4e-9100-4bf2-8dae-183ab53e5ac5\" xlink:type=\"simple\"><rect fill=\"#FFFFFF\" height=\"45.9375\" id=\"E8\" style=\"stroke: #383838; stroke-width: 1.5;\" width=\"66\" x=\"390\" y=\"78\"/><text fill=\"#000000\" font-family=\"sans-serif\" font-size=\"12\" font-style=\"italic\" lengthAdjust=\"spacingAndGlyphs\" textLength=\"64\" x=\"391\" y=\"94.1387\">«part def»</text><text fill=\"#000000\" font-family=\"sans-serif\" font-size=\"12\" lengthAdjust=\"spacingAndGlyphs\" textLength=\"8\" x=\"419\" y=\"108.1074\">C</text><line style=\"stroke: #383838; stroke-width: 1.5;\" x1=\"391\" x2=\"455\" y1=\"115.9375\" y2=\"115.9375\"/></a><!--MD5=[fd4143e9d270a159db93a4ea2a975926]\n",
       "class E9--><a href=\"psysml:b18b87fb-d7bd-4905-b0cb-818d68f57f75\" target=\"_top\" title=\"psysml:b18b87fb-d7bd-4905-b0cb-818d68f57f75\" xlink:actuate=\"onRequest\" xlink:href=\"psysml:b18b87fb-d7bd-4905-b0cb-818d68f57f75\" xlink:show=\"new\" xlink:title=\"psysml:b18b87fb-d7bd-4905-b0cb-818d68f57f75\" xlink:type=\"simple\"><rect fill=\"#FFFFFF\" height=\"88.3516\" id=\"E9\" style=\"stroke: #383838; stroke-width: 1.5;\" width=\"66\" x=\"32\" y=\"123\"/><text fill=\"#000000\" font-family=\"sans-serif\" font-size=\"12\" font-style=\"italic\" lengthAdjust=\"spacingAndGlyphs\" textLength=\"64\" x=\"33\" y=\"139.1387\">«port def»</text><text fill=\"#000000\" font-family=\"sans-serif\" font-size=\"12\" lengthAdjust=\"spacingAndGlyphs\" textLength=\"8\" x=\"61\" y=\"153.1074\">P</text><line style=\"stroke: #383838; stroke-width: 1.5;\" x1=\"33\" x2=\"97\" y1=\"160.9375\" y2=\"160.9375\"/><text fill=\"#000000\" font-family=\"sans-serif\" font-size=\"11\" lengthAdjust=\"spacingAndGlyphs\" textLength=\"29\" x=\"38\" y=\"191.9526\">a1: A</text><text fill=\"#000000\" font-family=\"sans-serif\" font-size=\"11\" lengthAdjust=\"spacingAndGlyphs\" textLength=\"29\" x=\"38\" y=\"204.7573\">a2: A</text><line style=\"stroke: #383838; stroke-width: 1.0;\" x1=\"33\" x2=\"49\" y1=\"175.3398\" y2=\"175.3398\"/><text fill=\"#000000\" font-family=\"sans-serif\" font-size=\"11\" lengthAdjust=\"spacingAndGlyphs\" textLength=\"32\" x=\"49\" y=\"178.6479\">items</text><line style=\"stroke: #383838; stroke-width: 1.0;\" x1=\"81\" x2=\"97\" y1=\"175.3398\" y2=\"175.3398\"/></a><!--MD5=[2720a5a1f2c3fca2055b230370638851]\n",
       "link E2 to E3--><a href=\"psysml:cbc83e8e-35d8-4884-92a4-03d9c321669a\" target=\"_top\" title=\"psysml:cbc83e8e-35d8-4884-92a4-03d9c321669a\" xlink:actuate=\"onRequest\" xlink:href=\"psysml:cbc83e8e-35d8-4884-92a4-03d9c321669a\" xlink:show=\"new\" xlink:title=\"psysml:cbc83e8e-35d8-4884-92a4-03d9c321669a\" xlink:type=\"simple\"><path d=\"M86.72,68.8 C100.99,71.41 120.62,75.01 139.03,78.38 \" fill=\"none\" id=\"E2-&gt;E3\" style=\"stroke: #383838; stroke-width: 1.0;\"/><polygon fill=\"#FFFFFF\" points=\"158.95,82.03,139.0003,85.4953,141.5205,71.724,158.95,82.03\" style=\"stroke: #383838; stroke-width: 1.0;\"/><ellipse cx=\"133.7534\" cy=\"82.5019\" fill=\"#383838\" rx=\"2\" ry=\"2\" style=\"stroke: #383838; stroke-width: 1.0;\"/><ellipse cx=\"135.5536\" cy=\"72.6653\" fill=\"#383838\" rx=\"2\" ry=\"2\" style=\"stroke: #383838; stroke-width: 1.0;\"/></a><!--MD5=[191cde3d490a3f6d7bb551fe3ddca469]\n",
       "reverse link E3 to E5--><a href=\"psysml:cb0fe327-dda6-4eae-9e46-1ce946f22982\" target=\"_top\" title=\"psysml:cb0fe327-dda6-4eae-9e46-1ce946f22982\" xlink:actuate=\"onRequest\" xlink:href=\"psysml:cb0fe327-dda6-4eae-9e46-1ce946f22982\" xlink:show=\"new\" xlink:title=\"psysml:cb0fe327-dda6-4eae-9e46-1ce946f22982\" xlink:type=\"simple\"><path d=\"M236.03,125.47 C253.49,140.85 272.86,157.92 286.96,170.34 \" fill=\"none\" id=\"E3&lt;-E5\" style=\"stroke: #383838; stroke-width: 1.0;\"/><polygon fill=\"#FFFFFF\" points=\"226.02,116.66,227.8712,123.6294,235.0165,124.6012,233.1653,117.6318,226.02,116.66\" style=\"stroke: #383838; stroke-width: 1.0;\"/></a><!--MD5=[14ccda38c055a5c0da953d572bc50960]\n",
       "link E7 to E3--><a href=\"psysml:b2ac9add-d533-4cc3-a1ec-28b279e4ff39\" target=\"_top\" title=\"psysml:b2ac9add-d533-4cc3-a1ec-28b279e4ff39\" xlink:actuate=\"onRequest\" xlink:href=\"psysml:b2ac9add-d533-4cc3-a1ec-28b279e4ff39\" xlink:show=\"new\" xlink:title=\"psysml:b2ac9add-d533-4cc3-a1ec-28b279e4ff39\" xlink:type=\"simple\"><path d=\"M652.84,70.22 C630.71,58.42 593.76,42 559.5,42 C307,42 307,42 307,42 C285.58,42 263.45,49.12 244.48,57.76 \" fill=\"none\" id=\"E7-&gt;E3\" style=\"stroke: #383838; stroke-width: 1.0;\"/><polygon fill=\"#FFFFFF\" points=\"226.36,66.88,240.1858,52.0866,246.4788,64.5925,226.36,66.88\" style=\"stroke: #383838; stroke-width: 1.0;\"/><ellipse cx=\"246.1765\" cy=\"51.311\" fill=\"#383838\" rx=\"2\" ry=\"2\" style=\"stroke: #383838; stroke-width: 1.0;\"/><ellipse cx=\"250.6715\" cy=\"60.2438\" fill=\"#383838\" rx=\"2\" ry=\"2\" style=\"stroke: #383838; stroke-width: 1.0;\"/></a><!--MD5=[3f50a3473f1dfb74d3f76443e03635af]\n",
       "reverse link E6 to E7--><a href=\"psysml:7f7b610c-5cf3-4f1d-92e7-984e3817e328\" target=\"_top\" title=\"psysml:7f7b610c-5cf3-4f1d-92e7-984e3817e328\" xlink:actuate=\"onRequest\" xlink:href=\"psysml:7f7b610c-5cf3-4f1d-92e7-984e3817e328\" xlink:show=\"new\" xlink:title=\"psysml:7f7b610c-5cf3-4f1d-92e7-984e3817e328\" xlink:type=\"simple\"><path d=\"M604.98,93.39 C621.64,90.6 639.65,87.58 652.96,85.36 \" fill=\"none\" id=\"E6&lt;-E7\" style=\"stroke: #383838; stroke-width: 1.0;\"/><polygon fill=\"#383838\" points=\"592.02,95.56,598.6002,98.5097,603.8539,93.5701,597.2736,90.6204,592.02,95.56\" style=\"stroke: #383838; stroke-width: 1.0;\"/></a><!--MD5=[dfaffb906826c3e5aca635516100ff21]\n",
       "link E5 to E8--><a href=\"psysml:8f4ff897-72ba-4249-b35c-9a7192bde9f3\" target=\"_top\" title=\"psysml:8f4ff897-72ba-4249-b35c-9a7192bde9f3\" xlink:actuate=\"onRequest\" xlink:href=\"psysml:8f4ff897-72ba-4249-b35c-9a7192bde9f3\" xlink:show=\"new\" xlink:title=\"psysml:8f4ff897-72ba-4249-b35c-9a7192bde9f3\" xlink:type=\"simple\"><path d=\"M329.2,172.45 C342.18,162.45 359.59,149.05 375.82,136.55 \" fill=\"none\" id=\"E5-&gt;E8\" style=\"stroke: #383838; stroke-width: 1.0;\"/><polygon fill=\"#FFFFFF\" points=\"391.76,124.28,380.9793,141.4199,372.4361,130.3288,391.76,124.28\" style=\"stroke: #383838; stroke-width: 1.0;\"/><ellipse cx=\"375.2432\" cy=\"143.3138\" fill=\"#383838\" rx=\"2\" ry=\"2\" style=\"stroke: #383838; stroke-width: 1.0;\"/><ellipse cx=\"369.1409\" cy=\"135.3915\" fill=\"#383838\" rx=\"2\" ry=\"2\" style=\"stroke: #383838; stroke-width: 1.0;\"/></a><!--MD5=[03c8294790d3c57651a1993cecff665f]\n",
       "reverse link E8 to E3--><a href=\"psysml:44d9af1e-71a6-403b-81da-6292c3b1f2cb\" target=\"_top\" title=\"psysml:44d9af1e-71a6-403b-81da-6292c3b1f2cb\" xlink:actuate=\"onRequest\" xlink:href=\"psysml:44d9af1e-71a6-403b-81da-6292c3b1f2cb\" xlink:show=\"new\" xlink:title=\"psysml:44d9af1e-71a6-403b-81da-6292c3b1f2cb\" xlink:type=\"simple\"><path d=\"M376.68,98.42 C332.29,95.9 265.72,92.11 226.24,89.86 \" fill=\"none\" id=\"E8&lt;-E3\" style=\"stroke: #383838; stroke-width: 1.0;\"/><polygon fill=\"#FFFFFF\" points=\"389.69,99.16,383.9282,94.8239,377.7096,98.4747,383.4713,102.8108,389.69,99.16\" style=\"stroke: #383838; stroke-width: 1.0;\"/><text fill=\"#000000\" font-family=\"sans-serif\" font-size=\"13\" lengthAdjust=\"spacingAndGlyphs\" textLength=\"7\" x=\"304.5\" y=\"90.0669\">y</text></a><!--MD5=[0d75d2178373a6a4568e5dc728f58aef]\n",
       "reverse link E8 to E6--><a href=\"psysml:44d9af1e-71a6-403b-81da-6292c3b1f2cb\" target=\"_top\" title=\"psysml:44d9af1e-71a6-403b-81da-6292c3b1f2cb\" xlink:actuate=\"onRequest\" xlink:href=\"psysml:44d9af1e-71a6-403b-81da-6292c3b1f2cb\" xlink:show=\"new\" xlink:title=\"psysml:44d9af1e-71a6-403b-81da-6292c3b1f2cb\" xlink:type=\"simple\"><path d=\"M469.57,101 C487.62,101 507.98,101 524.55,101 \" fill=\"none\" id=\"E8&lt;-E6\" style=\"stroke: #383838; stroke-width: 1.0;\"/><polygon fill=\"#FFFFFF\" points=\"456.32,101,462.32,105,468.32,101,462.32,97,456.32,101\" style=\"stroke: #383838; stroke-width: 1.0;\"/><text fill=\"#000000\" font-family=\"sans-serif\" font-size=\"13\" lengthAdjust=\"spacingAndGlyphs\" textLength=\"7\" x=\"487\" y=\"97.0669\">y</text></a><!--MD5=[0d8d777fe38e5a2f0538c0eace4dc6a4]\n",
       "@startuml\r\n",
       "left to right direction\r\n",
       "skinparam monochrome true\r\n",
       "skinparam classbackgroundcolor white\r\n",
       "skinparam shadowing false\r\n",
       "skinparam wrapWidth 300\r\n",
       "hide circle\r\n",
       "\r\n",
       "package \"ItemTest\" as E1  [[psysml:75fb623a-e350-4a47-9f82-c4d20b2b5b80 ]]  {\r\n",
       "comp usage \"f: A\" as E2  <<(T,blue)item>> [[psysml:d8a17efa-9aba-4cd7-b18a-68f8ed4c599b ]] {\r\n",
       "}\r\n",
       "comp def \"A\" as E3  <<(T,blue)item def>> [[psysml:30552314-ef8a-4f2d-b223-fa6e862cb5b8 ]] {\r\n",
       "- - items - -\r\n",
       "b: B\r\n",
       "}\r\n",
       "comp usage \"c: C\" as E5  <<(T,blue)part>> [[psysml:cb0fe327-dda6-4eae-9e46-1ce946f22982 ]] {\r\n",
       "}\r\n",
       "comp def \"B\" as E6  <<(T,blue)item def>> [[psysml:0c776550-23a6-42b8-908b-320a74e2d4ee ]] {\r\n",
       "}\r\n",
       "comp usage \"a: A\" as E7  <<(T,blue)part>> [[psysml:7f7b610c-5cf3-4f1d-92e7-984e3817e328 ]] {\r\n",
       "}\r\n",
       "comp def \"C\" as E8  <<(T,blue)part def>> [[psysml:3f3cfa4e-9100-4bf2-8dae-183ab53e5ac5 ]] {\r\n",
       "}\r\n",
       "comp def \"P\" as E9  <<(T,blue)port def>> [[psysml:b18b87fb-d7bd-4905-b0cb-818d68f57f75 ]] {\r\n",
       "- - items - -\r\n",
       "a1: A\r\n",
       "a2: A\r\n",
       "}\r\n",
       "E2 - -:|> E3 [[psysml:cbc83e8e-35d8-4884-92a4-03d9c321669a ]] \r\n",
       "E3 o- - E5 [[psysml:cb0fe327-dda6-4eae-9e46-1ce946f22982 ]] \r\n",
       "E7 - -:|> E3 [[psysml:b2ac9add-d533-4cc3-a1ec-28b279e4ff39 ]] \r\n",
       "E6 *- - E7 [[psysml:7f7b610c-5cf3-4f1d-92e7-984e3817e328 ]] \r\n",
       "E5 - -:|> E8 [[psysml:8f4ff897-72ba-4249-b35c-9a7192bde9f3 ]] \r\n",
       "E8 o- - E3 [[psysml:44d9af1e-71a6-403b-81da-6292c3b1f2cb ]] : y\r\n",
       "E8 o- - E6 [[psysml:44d9af1e-71a6-403b-81da-6292c3b1f2cb ]] : y\r\n",
       "}\r\n",
       "@enduml\r\n",
       "\n",
       "PlantUML version 1.2020.13(Sat Jun 13 12:26:38 UTC 2020)\n",
       "(EPL source distribution)\n",
       "Java Runtime: OpenJDK Runtime Environment\n",
       "JVM: OpenJDK 64-Bit Server VM\n",
       "Default Encoding: UTF-8\n",
       "Language: en\n",
       "Country: null\n",
       "--></g></svg>"
      ]
     },
     "execution_count": 22,
     "metadata": {},
     "output_type": "execute_result"
    }
   ],
   "source": [
    "%viz --style=\"LR\" --view=\"MIXED\" \"ItemTest\""
   ]
  },
  {
   "cell_type": "code",
   "execution_count": 23,
   "id": "ranging-leeds",
   "metadata": {
    "execution": {
     "iopub.execute_input": "2021-03-26T12:12:06.232999Z",
     "iopub.status.busy": "2021-03-26T12:12:06.232002Z",
     "iopub.status.idle": "2021-03-26T12:12:06.306331Z",
     "shell.execute_reply": "2021-03-26T12:12:06.304913Z"
    }
   },
   "outputs": [
    {
     "data": {
      "image/svg+xml": [
       "<?xml version=\"1.0\" encoding=\"UTF-8\" standalone=\"no\"?><svg xmlns=\"http://www.w3.org/2000/svg\" xmlns:xlink=\"http://www.w3.org/1999/xlink\" contentScriptType=\"application/ecmascript\" contentStyleType=\"text/css\" height=\"738px\" preserveAspectRatio=\"none\" style=\"width:228px;height:738px;\" version=\"1.1\" viewBox=\"0 0 228 738\" width=\"228px\" zoomAndPan=\"magnify\"><defs><filter height=\"300%\" id=\"f18ansvcjc6gbt\" width=\"300%\" x=\"-1\" y=\"-1\"><feGaussianBlur result=\"blurOut\" stdDeviation=\"2.0\"/><feColorMatrix in=\"blurOut\" result=\"blurOut2\" type=\"matrix\" values=\"0 0 0 0 0 0 0 0 0 0 0 0 0 0 0 0 0 0 .4 0\"/><feOffset dx=\"4.0\" dy=\"4.0\" in=\"blurOut2\" result=\"blurOut3\"/><feBlend in=\"SourceGraphic\" in2=\"blurOut3\" mode=\"normal\"/></filter></defs><g><!--MD5=[fbc87193dbaf4d95561dea2c320d4a47]\n",
       "cluster E1--><a href=\"psysml:75fb623a-e350-4a47-9f82-c4d20b2b5b80\" target=\"_top\" title=\"psysml:75fb623a-e350-4a47-9f82-c4d20b2b5b80\" xlink:actuate=\"onRequest\" xlink:href=\"psysml:75fb623a-e350-4a47-9f82-c4d20b2b5b80\" xlink:show=\"new\" xlink:title=\"psysml:75fb623a-e350-4a47-9f82-c4d20b2b5b80\" xlink:type=\"simple\"><polygon fill=\"#FFFFFF\" filter=\"url(#f18ansvcjc6gbt)\" points=\"16,6,91,6,98,28.2969,206,28.2969,206,726,16,726,16,6\" style=\"stroke: #000000; stroke-width: 1.5;\"/><line style=\"stroke: #000000; stroke-width: 1.5;\" x1=\"16\" x2=\"98\" y1=\"28.2969\" y2=\"28.2969\"/><text fill=\"#000000\" font-family=\"sans-serif\" font-size=\"14\" font-weight=\"bold\" lengthAdjust=\"spacingAndGlyphs\" textLength=\"69\" x=\"20\" y=\"20.9951\">ItemTest</text></a><!--MD5=[b4997ac47864f28c2f74865a473b2911]\n",
       "class E2--><a href=\"psysml:d8a17efa-9aba-4cd7-b18a-68f8ed4c599b\" target=\"_top\" title=\"psysml:d8a17efa-9aba-4cd7-b18a-68f8ed4c599b\" xlink:actuate=\"onRequest\" xlink:href=\"psysml:d8a17efa-9aba-4cd7-b18a-68f8ed4c599b\" xlink:show=\"new\" xlink:title=\"psysml:d8a17efa-9aba-4cd7-b18a-68f8ed4c599b\" xlink:type=\"simple\"><rect fill=\"#FEFECE\" filter=\"url(#f18ansvcjc6gbt)\" height=\"45.9375\" id=\"E2\" rx=\"10\" ry=\"10\" style=\"stroke: #A80036; stroke-width: 1.5;\" width=\"43\" x=\"133.5\" y=\"62\"/><text fill=\"#000000\" font-family=\"sans-serif\" font-size=\"12\" font-style=\"italic\" lengthAdjust=\"spacingAndGlyphs\" textLength=\"41\" x=\"134.5\" y=\"78.1387\">«item»</text><text fill=\"#000000\" font-family=\"sans-serif\" font-size=\"12\" lengthAdjust=\"spacingAndGlyphs\" textLength=\"20\" x=\"145\" y=\"92.1074\">f: A</text><line style=\"stroke: #A80036; stroke-width: 1.5;\" x1=\"134.5\" x2=\"175.5\" y1=\"99.9375\" y2=\"99.9375\"/></a><!--MD5=[09b614a08d8cba4a07c9adeb5e0fee81]\n",
       "class E3--><a href=\"psysml:30552314-ef8a-4f2d-b223-fa6e862cb5b8\" target=\"_top\" title=\"psysml:30552314-ef8a-4f2d-b223-fa6e862cb5b8\" xlink:actuate=\"onRequest\" xlink:href=\"psysml:30552314-ef8a-4f2d-b223-fa6e862cb5b8\" xlink:show=\"new\" xlink:title=\"psysml:30552314-ef8a-4f2d-b223-fa6e862cb5b8\" xlink:type=\"simple\"><rect fill=\"#FEFECE\" filter=\"url(#f18ansvcjc6gbt)\" height=\"75.5469\" id=\"E3\" style=\"stroke: #A80036; stroke-width: 1.5;\" width=\"67\" x=\"115.5\" y=\"190\"/><text fill=\"#000000\" font-family=\"sans-serif\" font-size=\"12\" font-style=\"italic\" lengthAdjust=\"spacingAndGlyphs\" textLength=\"65\" x=\"116.5\" y=\"206.1387\">«item def»</text><text fill=\"#000000\" font-family=\"sans-serif\" font-size=\"12\" lengthAdjust=\"spacingAndGlyphs\" textLength=\"8\" x=\"145\" y=\"220.1074\">A</text><line style=\"stroke: #A80036; stroke-width: 1.5;\" x1=\"116.5\" x2=\"181.5\" y1=\"227.9375\" y2=\"227.9375\"/><text fill=\"#000000\" font-family=\"sans-serif\" font-size=\"11\" lengthAdjust=\"spacingAndGlyphs\" textLength=\"23\" x=\"121.5\" y=\"258.9526\">b: B</text><line style=\"stroke: #A80036; stroke-width: 1.0;\" x1=\"116.5\" x2=\"133\" y1=\"242.3398\" y2=\"242.3398\"/><text fill=\"#000000\" font-family=\"sans-serif\" font-size=\"11\" lengthAdjust=\"spacingAndGlyphs\" textLength=\"32\" x=\"133\" y=\"245.6479\">items</text><line style=\"stroke: #A80036; stroke-width: 1.0;\" x1=\"165\" x2=\"181.5\" y1=\"242.3398\" y2=\"242.3398\"/></a><!--MD5=[270fce915f116d4de14055a7c1d9a0f3]\n",
       "class E5--><a href=\"psysml:cb0fe327-dda6-4eae-9e46-1ce946f22982\" target=\"_top\" title=\"psysml:cb0fe327-dda6-4eae-9e46-1ce946f22982\" xlink:actuate=\"onRequest\" xlink:href=\"psysml:cb0fe327-dda6-4eae-9e46-1ce946f22982\" xlink:show=\"new\" xlink:title=\"psysml:cb0fe327-dda6-4eae-9e46-1ce946f22982\" xlink:type=\"simple\"><rect fill=\"#FEFECE\" filter=\"url(#f18ansvcjc6gbt)\" height=\"45.9375\" id=\"E5\" rx=\"10\" ry=\"10\" style=\"stroke: #A80036; stroke-width: 1.5;\" width=\"42\" x=\"32\" y=\"327\"/><text fill=\"#000000\" font-family=\"sans-serif\" font-size=\"12\" font-style=\"italic\" lengthAdjust=\"spacingAndGlyphs\" textLength=\"40\" x=\"33\" y=\"343.1387\">«part»</text><text fill=\"#000000\" font-family=\"sans-serif\" font-size=\"12\" lengthAdjust=\"spacingAndGlyphs\" textLength=\"23\" x=\"41.5\" y=\"357.1074\">c: C</text><line style=\"stroke: #A80036; stroke-width: 1.5;\" x1=\"33\" x2=\"73\" y1=\"364.9375\" y2=\"364.9375\"/></a><!--MD5=[60a26617385b1d2d0262a64233df1f8d]\n",
       "class E6--><a href=\"psysml:0c776550-23a6-42b8-908b-320a74e2d4ee\" target=\"_top\" title=\"psysml:0c776550-23a6-42b8-908b-320a74e2d4ee\" xlink:actuate=\"onRequest\" xlink:href=\"psysml:0c776550-23a6-42b8-908b-320a74e2d4ee\" xlink:show=\"new\" xlink:title=\"psysml:0c776550-23a6-42b8-908b-320a74e2d4ee\" xlink:type=\"simple\"><rect fill=\"#FEFECE\" filter=\"url(#f18ansvcjc6gbt)\" height=\"45.9375\" id=\"E6\" style=\"stroke: #A80036; stroke-width: 1.5;\" width=\"67\" x=\"85.5\" y=\"557\"/><text fill=\"#000000\" font-family=\"sans-serif\" font-size=\"12\" font-style=\"italic\" lengthAdjust=\"spacingAndGlyphs\" textLength=\"65\" x=\"86.5\" y=\"573.1387\">«item def»</text><text fill=\"#000000\" font-family=\"sans-serif\" font-size=\"12\" lengthAdjust=\"spacingAndGlyphs\" textLength=\"8\" x=\"115\" y=\"587.1074\">B</text><line style=\"stroke: #A80036; stroke-width: 1.5;\" x1=\"86.5\" x2=\"151.5\" y1=\"594.9375\" y2=\"594.9375\"/></a><!--MD5=[2156ba9850f5573cc1fc38a6a4b2f02b]\n",
       "class E7--><a href=\"psysml:7f7b610c-5cf3-4f1d-92e7-984e3817e328\" target=\"_top\" title=\"psysml:7f7b610c-5cf3-4f1d-92e7-984e3817e328\" xlink:actuate=\"onRequest\" xlink:href=\"psysml:7f7b610c-5cf3-4f1d-92e7-984e3817e328\" xlink:show=\"new\" xlink:title=\"psysml:7f7b610c-5cf3-4f1d-92e7-984e3817e328\" xlink:type=\"simple\"><rect fill=\"#FEFECE\" filter=\"url(#f18ansvcjc6gbt)\" height=\"45.9375\" id=\"E7\" rx=\"10\" ry=\"10\" style=\"stroke: #A80036; stroke-width: 1.5;\" width=\"42\" x=\"123\" y=\"664\"/><text fill=\"#000000\" font-family=\"sans-serif\" font-size=\"12\" font-style=\"italic\" lengthAdjust=\"spacingAndGlyphs\" textLength=\"40\" x=\"124\" y=\"680.1387\">«part»</text><text fill=\"#000000\" font-family=\"sans-serif\" font-size=\"12\" lengthAdjust=\"spacingAndGlyphs\" textLength=\"24\" x=\"132\" y=\"694.1074\">a: A</text><line style=\"stroke: #A80036; stroke-width: 1.5;\" x1=\"124\" x2=\"164\" y1=\"701.9375\" y2=\"701.9375\"/></a><!--MD5=[b9389687b975829384b498ac4b7476b2]\n",
       "class E8--><a href=\"psysml:3f3cfa4e-9100-4bf2-8dae-183ab53e5ac5\" target=\"_top\" title=\"psysml:3f3cfa4e-9100-4bf2-8dae-183ab53e5ac5\" xlink:actuate=\"onRequest\" xlink:href=\"psysml:3f3cfa4e-9100-4bf2-8dae-183ab53e5ac5\" xlink:show=\"new\" xlink:title=\"psysml:3f3cfa4e-9100-4bf2-8dae-183ab53e5ac5\" xlink:type=\"simple\"><rect fill=\"#FEFECE\" filter=\"url(#f18ansvcjc6gbt)\" height=\"45.9375\" id=\"E8\" style=\"stroke: #A80036; stroke-width: 1.5;\" width=\"66\" x=\"86\" y=\"434\"/><text fill=\"#000000\" font-family=\"sans-serif\" font-size=\"12\" font-style=\"italic\" lengthAdjust=\"spacingAndGlyphs\" textLength=\"64\" x=\"87\" y=\"450.1387\">«part def»</text><text fill=\"#000000\" font-family=\"sans-serif\" font-size=\"12\" lengthAdjust=\"spacingAndGlyphs\" textLength=\"8\" x=\"115\" y=\"464.1074\">C</text><line style=\"stroke: #A80036; stroke-width: 1.5;\" x1=\"87\" x2=\"151\" y1=\"471.9375\" y2=\"471.9375\"/></a><!--MD5=[fd4143e9d270a159db93a4ea2a975926]\n",
       "class E9--><a href=\"psysml:b18b87fb-d7bd-4905-b0cb-818d68f57f75\" target=\"_top\" title=\"psysml:b18b87fb-d7bd-4905-b0cb-818d68f57f75\" xlink:actuate=\"onRequest\" xlink:href=\"psysml:b18b87fb-d7bd-4905-b0cb-818d68f57f75\" xlink:show=\"new\" xlink:title=\"psysml:b18b87fb-d7bd-4905-b0cb-818d68f57f75\" xlink:type=\"simple\"><rect fill=\"#FEFECE\" filter=\"url(#f18ansvcjc6gbt)\" height=\"88.3516\" id=\"E9\" style=\"stroke: #A80036; stroke-width: 1.5;\" width=\"66\" x=\"32\" y=\"41\"/><text fill=\"#000000\" font-family=\"sans-serif\" font-size=\"12\" font-style=\"italic\" lengthAdjust=\"spacingAndGlyphs\" textLength=\"64\" x=\"33\" y=\"57.1387\">«port def»</text><text fill=\"#000000\" font-family=\"sans-serif\" font-size=\"12\" lengthAdjust=\"spacingAndGlyphs\" textLength=\"8\" x=\"61\" y=\"71.1074\">P</text><line style=\"stroke: #A80036; stroke-width: 1.5;\" x1=\"33\" x2=\"97\" y1=\"78.9375\" y2=\"78.9375\"/><text fill=\"#000000\" font-family=\"sans-serif\" font-size=\"11\" lengthAdjust=\"spacingAndGlyphs\" textLength=\"29\" x=\"38\" y=\"109.9526\">a1: A</text><text fill=\"#000000\" font-family=\"sans-serif\" font-size=\"11\" lengthAdjust=\"spacingAndGlyphs\" textLength=\"29\" x=\"38\" y=\"122.7573\">a2: A</text><line style=\"stroke: #A80036; stroke-width: 1.0;\" x1=\"33\" x2=\"49\" y1=\"93.3398\" y2=\"93.3398\"/><text fill=\"#000000\" font-family=\"sans-serif\" font-size=\"11\" lengthAdjust=\"spacingAndGlyphs\" textLength=\"32\" x=\"49\" y=\"96.6479\">items</text><line style=\"stroke: #A80036; stroke-width: 1.0;\" x1=\"81\" x2=\"97\" y1=\"93.3398\" y2=\"93.3398\"/></a><!--MD5=[2720a5a1f2c3fca2055b230370638851]\n",
       "link E2 to E3--><a href=\"psysml:cbc83e8e-35d8-4884-92a4-03d9c321669a\" target=\"_top\" title=\"psysml:cbc83e8e-35d8-4884-92a4-03d9c321669a\" xlink:actuate=\"onRequest\" xlink:href=\"psysml:cbc83e8e-35d8-4884-92a4-03d9c321669a\" xlink:show=\"new\" xlink:title=\"psysml:cbc83e8e-35d8-4884-92a4-03d9c321669a\" xlink:type=\"simple\"><path d=\"M154.06,108.03 C153.36,124.58 152.36,148.04 151.44,169.76 \" fill=\"none\" id=\"E2-&gt;E3\" style=\"stroke: #A80036; stroke-width: 1.0;\"/><polygon fill=\"#FFFFFF\" points=\"150.58,189.77,144.4005,170.4875,158.3877,171.0874,150.58,189.77\" style=\"stroke: #A80036; stroke-width: 1.0;\"/><ellipse cx=\"146.6429\" cy=\"164.8784\" fill=\"#A80036\" rx=\"2\" ry=\"2\" style=\"stroke: #A80036; stroke-width: 1.0;\"/><ellipse cx=\"156.6338\" cy=\"165.3069\" fill=\"#A80036\" rx=\"2\" ry=\"2\" style=\"stroke: #A80036; stroke-width: 1.0;\"/></a><!--MD5=[191cde3d490a3f6d7bb551fe3ddca469]\n",
       "reverse link E3 to E5--><a href=\"psysml:cb0fe327-dda6-4eae-9e46-1ce946f22982\" target=\"_top\" title=\"psysml:cb0fe327-dda6-4eae-9e46-1ce946f22982\" xlink:actuate=\"onRequest\" xlink:href=\"psysml:cb0fe327-dda6-4eae-9e46-1ce946f22982\" xlink:show=\"new\" xlink:title=\"psysml:cb0fe327-dda6-4eae-9e46-1ce946f22982\" xlink:type=\"simple\"><path d=\"M110.75,276.82 C96.95,294.07 82.02,312.72 70.8,326.75 \" fill=\"none\" id=\"E3&lt;-E5\" style=\"stroke: #A80036; stroke-width: 1.0;\"/><polygon fill=\"#FFFFFF\" points=\"119.15,266.31,112.2784,268.4964,111.6537,275.6804,118.5253,273.494,119.15,266.31\" style=\"stroke: #A80036; stroke-width: 1.0;\"/></a><!--MD5=[14ccda38c055a5c0da953d572bc50960]\n",
       "link E7 to E3--><a href=\"psysml:b2ac9add-d533-4cc3-a1ec-28b279e4ff39\" target=\"_top\" title=\"psysml:b2ac9add-d533-4cc3-a1ec-28b279e4ff39\" xlink:actuate=\"onRequest\" xlink:href=\"psysml:b2ac9add-d533-4cc3-a1ec-28b279e4ff39\" xlink:show=\"new\" xlink:title=\"psysml:b2ac9add-d533-4cc3-a1ec-28b279e4ff39\" xlink:type=\"simple\"><path d=\"M159.74,663.82 C172.72,643.34 189,611.54 189,581 C189,349 189,349 189,349 C189,327.34 183.06,304.56 175.76,284.74 \" fill=\"none\" id=\"E7-&gt;E3\" style=\"stroke: #A80036; stroke-width: 1.0;\"/><polygon fill=\"#FFFFFF\" points=\"168.18,266.05,181.8034,281.0301,168.8283,286.2881,168.18,266.05\" style=\"stroke: #A80036; stroke-width: 1.0;\"/><ellipse cx=\"182.0906\" cy=\"287.0639\" fill=\"#A80036\" rx=\"2\" ry=\"2\" style=\"stroke: #A80036; stroke-width: 1.0;\"/><ellipse cx=\"172.8227\" cy=\"290.8196\" fill=\"#A80036\" rx=\"2\" ry=\"2\" style=\"stroke: #A80036; stroke-width: 1.0;\"/></a><!--MD5=[3f50a3473f1dfb74d3f76443e03635af]\n",
       "reverse link E6 to E7--><a href=\"psysml:7f7b610c-5cf3-4f1d-92e7-984e3817e328\" target=\"_top\" title=\"psysml:7f7b610c-5cf3-4f1d-92e7-984e3817e328\" xlink:actuate=\"onRequest\" xlink:href=\"psysml:7f7b610c-5cf3-4f1d-92e7-984e3817e328\" xlink:show=\"new\" xlink:title=\"psysml:7f7b610c-5cf3-4f1d-92e7-984e3817e328\" xlink:type=\"simple\"><path d=\"M127.34,616.05 C131.08,631.76 135.39,649.82 138.68,663.66 \" fill=\"none\" id=\"E6&lt;-E7\" style=\"stroke: #A80036; stroke-width: 1.0;\"/><polygon fill=\"#A80036\" points=\"124.24,603.01,121.7406,609.7741,127.023,614.6828,129.5224,607.9187,124.24,603.01\" style=\"stroke: #A80036; stroke-width: 1.0;\"/></a><!--MD5=[dfaffb906826c3e5aca635516100ff21]\n",
       "link E5 to E8--><a href=\"psysml:8f4ff897-72ba-4249-b35c-9a7192bde9f3\" target=\"_top\" title=\"psysml:8f4ff897-72ba-4249-b35c-9a7192bde9f3\" xlink:actuate=\"onRequest\" xlink:href=\"psysml:8f4ff897-72ba-4249-b35c-9a7192bde9f3\" xlink:show=\"new\" xlink:title=\"psysml:8f4ff897-72ba-4249-b35c-9a7192bde9f3\" xlink:type=\"simple\"><path d=\"M66.84,373.01 C74.79,385.67 85.02,401.94 94.31,416.72 \" fill=\"none\" id=\"E5-&gt;E8\" style=\"stroke: #A80036; stroke-width: 1.0;\"/><polygon fill=\"#FFFFFF\" points=\"104.96,433.66,88.9212,421.3005,100.7735,413.8491,104.96,433.66\" style=\"stroke: #A80036; stroke-width: 1.0;\"/><ellipse cx=\"87.5806\" cy=\"415.4104\" fill=\"#A80036\" rx=\"2\" ry=\"2\" style=\"stroke: #A80036; stroke-width: 1.0;\"/><ellipse cx=\"96.0465\" cy=\"410.088\" fill=\"#A80036\" rx=\"2\" ry=\"2\" style=\"stroke: #A80036; stroke-width: 1.0;\"/></a><!--MD5=[03c8294790d3c57651a1993cecff665f]\n",
       "reverse link E8 to E3--><a href=\"psysml:44d9af1e-71a6-403b-81da-6292c3b1f2cb\" target=\"_top\" title=\"psysml:44d9af1e-71a6-403b-81da-6292c3b1f2cb\" xlink:actuate=\"onRequest\" xlink:href=\"psysml:44d9af1e-71a6-403b-81da-6292c3b1f2cb\" xlink:show=\"new\" xlink:title=\"psysml:44d9af1e-71a6-403b-81da-6292c3b1f2cb\" xlink:type=\"simple\"><path d=\"M123.65,420.81 C129.2,378.86 138.42,309.06 144.08,266.23 \" fill=\"none\" id=\"E8&lt;-E3\" style=\"stroke: #A80036; stroke-width: 1.0;\"/><polygon fill=\"#FFFFFF\" points=\"121.92,433.89,126.6755,428.4692,123.5008,421.9946,118.7453,427.4154,121.92,433.89\" style=\"stroke: #A80036; stroke-width: 1.0;\"/><text fill=\"#000000\" font-family=\"sans-serif\" font-size=\"13\" lengthAdjust=\"spacingAndGlyphs\" textLength=\"7\" x=\"136\" y=\"354.5669\">y</text></a><!--MD5=[0d75d2178373a6a4568e5dc728f58aef]\n",
       "reverse link E8 to E6--><a href=\"psysml:44d9af1e-71a6-403b-81da-6292c3b1f2cb\" target=\"_top\" title=\"psysml:44d9af1e-71a6-403b-81da-6292c3b1f2cb\" xlink:actuate=\"onRequest\" xlink:href=\"psysml:44d9af1e-71a6-403b-81da-6292c3b1f2cb\" xlink:show=\"new\" xlink:title=\"psysml:44d9af1e-71a6-403b-81da-6292c3b1f2cb\" xlink:type=\"simple\"><path d=\"M119,493.22 C119,513.81 119,539.16 119,556.95 \" fill=\"none\" id=\"E8&lt;-E6\" style=\"stroke: #A80036; stroke-width: 1.0;\"/><polygon fill=\"#FFFFFF\" points=\"119,480.19,115,486.19,119,492.19,123,486.19,119,480.19\" style=\"stroke: #A80036; stroke-width: 1.0;\"/><text fill=\"#000000\" font-family=\"sans-serif\" font-size=\"13\" lengthAdjust=\"spacingAndGlyphs\" textLength=\"7\" x=\"120\" y=\"523.0669\">y</text></a><!--MD5=[2a9b706b6d2003f6264e272bb97bee9c]\n",
       "@startuml\r\n",
       "skinparam wrapWidth 300\r\n",
       "hide circle\r\n",
       "\r\n",
       "package \"ItemTest\" as E1  [[psysml:75fb623a-e350-4a47-9f82-c4d20b2b5b80 ]]  {\r\n",
       "comp usage \"f: A\" as E2  <<(T,blue)item>> [[psysml:d8a17efa-9aba-4cd7-b18a-68f8ed4c599b ]] {\r\n",
       "}\r\n",
       "comp def \"A\" as E3  <<(T,blue)item def>> [[psysml:30552314-ef8a-4f2d-b223-fa6e862cb5b8 ]] {\r\n",
       "- - items - -\r\n",
       "b: B\r\n",
       "}\r\n",
       "comp usage \"c: C\" as E5  <<(T,blue)part>> [[psysml:cb0fe327-dda6-4eae-9e46-1ce946f22982 ]] {\r\n",
       "}\r\n",
       "comp def \"B\" as E6  <<(T,blue)item def>> [[psysml:0c776550-23a6-42b8-908b-320a74e2d4ee ]] {\r\n",
       "}\r\n",
       "comp usage \"a: A\" as E7  <<(T,blue)part>> [[psysml:7f7b610c-5cf3-4f1d-92e7-984e3817e328 ]] {\r\n",
       "}\r\n",
       "comp def \"C\" as E8  <<(T,blue)part def>> [[psysml:3f3cfa4e-9100-4bf2-8dae-183ab53e5ac5 ]] {\r\n",
       "}\r\n",
       "comp def \"P\" as E9  <<(T,blue)port def>> [[psysml:b18b87fb-d7bd-4905-b0cb-818d68f57f75 ]] {\r\n",
       "- - items - -\r\n",
       "a1: A\r\n",
       "a2: A\r\n",
       "}\r\n",
       "E2 - -:|> E3 [[psysml:cbc83e8e-35d8-4884-92a4-03d9c321669a ]] \r\n",
       "E3 o- - E5 [[psysml:cb0fe327-dda6-4eae-9e46-1ce946f22982 ]] \r\n",
       "E7 - -:|> E3 [[psysml:b2ac9add-d533-4cc3-a1ec-28b279e4ff39 ]] \r\n",
       "E6 *- - E7 [[psysml:7f7b610c-5cf3-4f1d-92e7-984e3817e328 ]] \r\n",
       "E5 - -:|> E8 [[psysml:8f4ff897-72ba-4249-b35c-9a7192bde9f3 ]] \r\n",
       "E8 o- - E3 [[psysml:44d9af1e-71a6-403b-81da-6292c3b1f2cb ]] : y\r\n",
       "E8 o- - E6 [[psysml:44d9af1e-71a6-403b-81da-6292c3b1f2cb ]] : y\r\n",
       "}\r\n",
       "@enduml\r\n",
       "\n",
       "PlantUML version 1.2020.13(Sat Jun 13 12:26:38 UTC 2020)\n",
       "(EPL source distribution)\n",
       "Java Runtime: OpenJDK Runtime Environment\n",
       "JVM: OpenJDK 64-Bit Server VM\n",
       "Default Encoding: UTF-8\n",
       "Language: en\n",
       "Country: null\n",
       "--></g></svg>"
      ]
     },
     "execution_count": 23,
     "metadata": {},
     "output_type": "execute_result"
    }
   ],
   "source": [
    "%viz --style=\"STDCOLOR\" --view=\"Default\" \"ItemTest\""
   ]
  },
  {
   "cell_type": "code",
   "execution_count": 24,
   "id": "unnecessary-iraqi",
   "metadata": {
    "execution": {
     "iopub.execute_input": "2021-03-26T12:12:06.359728Z",
     "iopub.status.busy": "2021-03-26T12:12:06.358764Z",
     "iopub.status.idle": "2021-03-26T12:12:06.417579Z",
     "shell.execute_reply": "2021-03-26T12:12:06.417908Z"
    }
   },
   "outputs": [
    {
     "data": {
      "image/svg+xml": [
       "<?xml version=\"1.0\" encoding=\"UTF-8\" standalone=\"no\"?><svg xmlns=\"http://www.w3.org/2000/svg\" xmlns:xlink=\"http://www.w3.org/1999/xlink\" contentScriptType=\"application/ecmascript\" contentStyleType=\"text/css\" height=\"738px\" preserveAspectRatio=\"none\" style=\"width:228px;height:738px;\" version=\"1.1\" viewBox=\"0 0 228 738\" width=\"228px\" zoomAndPan=\"magnify\"><defs><filter height=\"300%\" id=\"f18ansvcjc6gbt\" width=\"300%\" x=\"-1\" y=\"-1\"><feGaussianBlur result=\"blurOut\" stdDeviation=\"2.0\"/><feColorMatrix in=\"blurOut\" result=\"blurOut2\" type=\"matrix\" values=\"0 0 0 0 0 0 0 0 0 0 0 0 0 0 0 0 0 0 .4 0\"/><feOffset dx=\"4.0\" dy=\"4.0\" in=\"blurOut2\" result=\"blurOut3\"/><feBlend in=\"SourceGraphic\" in2=\"blurOut3\" mode=\"normal\"/></filter></defs><g><!--MD5=[fbc87193dbaf4d95561dea2c320d4a47]\n",
       "cluster E1--><a href=\"psysml:75fb623a-e350-4a47-9f82-c4d20b2b5b80\" target=\"_top\" title=\"psysml:75fb623a-e350-4a47-9f82-c4d20b2b5b80\" xlink:actuate=\"onRequest\" xlink:href=\"psysml:75fb623a-e350-4a47-9f82-c4d20b2b5b80\" xlink:show=\"new\" xlink:title=\"psysml:75fb623a-e350-4a47-9f82-c4d20b2b5b80\" xlink:type=\"simple\"><polygon fill=\"#FFFFFF\" filter=\"url(#f18ansvcjc6gbt)\" points=\"16,6,91,6,98,28.2969,206,28.2969,206,726,16,726,16,6\" style=\"stroke: #000000; stroke-width: 1.5;\"/><line style=\"stroke: #000000; stroke-width: 1.5;\" x1=\"16\" x2=\"98\" y1=\"28.2969\" y2=\"28.2969\"/><text fill=\"#000000\" font-family=\"sans-serif\" font-size=\"14\" font-weight=\"bold\" lengthAdjust=\"spacingAndGlyphs\" textLength=\"69\" x=\"20\" y=\"20.9951\">ItemTest</text></a><!--MD5=[b4997ac47864f28c2f74865a473b2911]\n",
       "class E2--><a href=\"psysml:d8a17efa-9aba-4cd7-b18a-68f8ed4c599b\" target=\"_top\" title=\"psysml:d8a17efa-9aba-4cd7-b18a-68f8ed4c599b\" xlink:actuate=\"onRequest\" xlink:href=\"psysml:d8a17efa-9aba-4cd7-b18a-68f8ed4c599b\" xlink:show=\"new\" xlink:title=\"psysml:d8a17efa-9aba-4cd7-b18a-68f8ed4c599b\" xlink:type=\"simple\"><rect fill=\"#FEFECE\" filter=\"url(#f18ansvcjc6gbt)\" height=\"45.9375\" id=\"E2\" rx=\"10\" ry=\"10\" style=\"stroke: #A80036; stroke-width: 1.5;\" width=\"43\" x=\"133.5\" y=\"62\"/><text fill=\"#000000\" font-family=\"sans-serif\" font-size=\"12\" font-style=\"italic\" lengthAdjust=\"spacingAndGlyphs\" textLength=\"41\" x=\"134.5\" y=\"78.1387\">«item»</text><text fill=\"#000000\" font-family=\"sans-serif\" font-size=\"12\" lengthAdjust=\"spacingAndGlyphs\" textLength=\"20\" x=\"145\" y=\"92.1074\">f: A</text><line style=\"stroke: #A80036; stroke-width: 1.5;\" x1=\"134.5\" x2=\"175.5\" y1=\"99.9375\" y2=\"99.9375\"/></a><!--MD5=[09b614a08d8cba4a07c9adeb5e0fee81]\n",
       "class E3--><a href=\"psysml:30552314-ef8a-4f2d-b223-fa6e862cb5b8\" target=\"_top\" title=\"psysml:30552314-ef8a-4f2d-b223-fa6e862cb5b8\" xlink:actuate=\"onRequest\" xlink:href=\"psysml:30552314-ef8a-4f2d-b223-fa6e862cb5b8\" xlink:show=\"new\" xlink:title=\"psysml:30552314-ef8a-4f2d-b223-fa6e862cb5b8\" xlink:type=\"simple\"><rect fill=\"#FEFECE\" filter=\"url(#f18ansvcjc6gbt)\" height=\"75.5469\" id=\"E3\" style=\"stroke: #A80036; stroke-width: 1.5;\" width=\"67\" x=\"115.5\" y=\"190\"/><text fill=\"#000000\" font-family=\"sans-serif\" font-size=\"12\" font-style=\"italic\" lengthAdjust=\"spacingAndGlyphs\" textLength=\"65\" x=\"116.5\" y=\"206.1387\">«item def»</text><text fill=\"#000000\" font-family=\"sans-serif\" font-size=\"12\" lengthAdjust=\"spacingAndGlyphs\" textLength=\"8\" x=\"145\" y=\"220.1074\">A</text><line style=\"stroke: #A80036; stroke-width: 1.5;\" x1=\"116.5\" x2=\"181.5\" y1=\"227.9375\" y2=\"227.9375\"/><text fill=\"#000000\" font-family=\"sans-serif\" font-size=\"11\" lengthAdjust=\"spacingAndGlyphs\" textLength=\"23\" x=\"121.5\" y=\"258.9526\">b: B</text><line style=\"stroke: #A80036; stroke-width: 1.0;\" x1=\"116.5\" x2=\"133\" y1=\"242.3398\" y2=\"242.3398\"/><text fill=\"#000000\" font-family=\"sans-serif\" font-size=\"11\" lengthAdjust=\"spacingAndGlyphs\" textLength=\"32\" x=\"133\" y=\"245.6479\">items</text><line style=\"stroke: #A80036; stroke-width: 1.0;\" x1=\"165\" x2=\"181.5\" y1=\"242.3398\" y2=\"242.3398\"/></a><!--MD5=[270fce915f116d4de14055a7c1d9a0f3]\n",
       "class E5--><a href=\"psysml:cb0fe327-dda6-4eae-9e46-1ce946f22982\" target=\"_top\" title=\"psysml:cb0fe327-dda6-4eae-9e46-1ce946f22982\" xlink:actuate=\"onRequest\" xlink:href=\"psysml:cb0fe327-dda6-4eae-9e46-1ce946f22982\" xlink:show=\"new\" xlink:title=\"psysml:cb0fe327-dda6-4eae-9e46-1ce946f22982\" xlink:type=\"simple\"><rect fill=\"#FEFECE\" filter=\"url(#f18ansvcjc6gbt)\" height=\"45.9375\" id=\"E5\" rx=\"10\" ry=\"10\" style=\"stroke: #A80036; stroke-width: 1.5;\" width=\"42\" x=\"32\" y=\"327\"/><text fill=\"#000000\" font-family=\"sans-serif\" font-size=\"12\" font-style=\"italic\" lengthAdjust=\"spacingAndGlyphs\" textLength=\"40\" x=\"33\" y=\"343.1387\">«part»</text><text fill=\"#000000\" font-family=\"sans-serif\" font-size=\"12\" lengthAdjust=\"spacingAndGlyphs\" textLength=\"23\" x=\"41.5\" y=\"357.1074\">c: C</text><line style=\"stroke: #A80036; stroke-width: 1.5;\" x1=\"33\" x2=\"73\" y1=\"364.9375\" y2=\"364.9375\"/></a><!--MD5=[60a26617385b1d2d0262a64233df1f8d]\n",
       "class E6--><a href=\"psysml:0c776550-23a6-42b8-908b-320a74e2d4ee\" target=\"_top\" title=\"psysml:0c776550-23a6-42b8-908b-320a74e2d4ee\" xlink:actuate=\"onRequest\" xlink:href=\"psysml:0c776550-23a6-42b8-908b-320a74e2d4ee\" xlink:show=\"new\" xlink:title=\"psysml:0c776550-23a6-42b8-908b-320a74e2d4ee\" xlink:type=\"simple\"><rect fill=\"#FEFECE\" filter=\"url(#f18ansvcjc6gbt)\" height=\"45.9375\" id=\"E6\" style=\"stroke: #A80036; stroke-width: 1.5;\" width=\"67\" x=\"85.5\" y=\"557\"/><text fill=\"#000000\" font-family=\"sans-serif\" font-size=\"12\" font-style=\"italic\" lengthAdjust=\"spacingAndGlyphs\" textLength=\"65\" x=\"86.5\" y=\"573.1387\">«item def»</text><text fill=\"#000000\" font-family=\"sans-serif\" font-size=\"12\" lengthAdjust=\"spacingAndGlyphs\" textLength=\"8\" x=\"115\" y=\"587.1074\">B</text><line style=\"stroke: #A80036; stroke-width: 1.5;\" x1=\"86.5\" x2=\"151.5\" y1=\"594.9375\" y2=\"594.9375\"/></a><!--MD5=[2156ba9850f5573cc1fc38a6a4b2f02b]\n",
       "class E7--><a href=\"psysml:7f7b610c-5cf3-4f1d-92e7-984e3817e328\" target=\"_top\" title=\"psysml:7f7b610c-5cf3-4f1d-92e7-984e3817e328\" xlink:actuate=\"onRequest\" xlink:href=\"psysml:7f7b610c-5cf3-4f1d-92e7-984e3817e328\" xlink:show=\"new\" xlink:title=\"psysml:7f7b610c-5cf3-4f1d-92e7-984e3817e328\" xlink:type=\"simple\"><rect fill=\"#FEFECE\" filter=\"url(#f18ansvcjc6gbt)\" height=\"45.9375\" id=\"E7\" rx=\"10\" ry=\"10\" style=\"stroke: #A80036; stroke-width: 1.5;\" width=\"42\" x=\"123\" y=\"664\"/><text fill=\"#000000\" font-family=\"sans-serif\" font-size=\"12\" font-style=\"italic\" lengthAdjust=\"spacingAndGlyphs\" textLength=\"40\" x=\"124\" y=\"680.1387\">«part»</text><text fill=\"#000000\" font-family=\"sans-serif\" font-size=\"12\" lengthAdjust=\"spacingAndGlyphs\" textLength=\"24\" x=\"132\" y=\"694.1074\">a: A</text><line style=\"stroke: #A80036; stroke-width: 1.5;\" x1=\"124\" x2=\"164\" y1=\"701.9375\" y2=\"701.9375\"/></a><!--MD5=[b9389687b975829384b498ac4b7476b2]\n",
       "class E8--><a href=\"psysml:3f3cfa4e-9100-4bf2-8dae-183ab53e5ac5\" target=\"_top\" title=\"psysml:3f3cfa4e-9100-4bf2-8dae-183ab53e5ac5\" xlink:actuate=\"onRequest\" xlink:href=\"psysml:3f3cfa4e-9100-4bf2-8dae-183ab53e5ac5\" xlink:show=\"new\" xlink:title=\"psysml:3f3cfa4e-9100-4bf2-8dae-183ab53e5ac5\" xlink:type=\"simple\"><rect fill=\"#FEFECE\" filter=\"url(#f18ansvcjc6gbt)\" height=\"45.9375\" id=\"E8\" style=\"stroke: #A80036; stroke-width: 1.5;\" width=\"66\" x=\"86\" y=\"434\"/><text fill=\"#000000\" font-family=\"sans-serif\" font-size=\"12\" font-style=\"italic\" lengthAdjust=\"spacingAndGlyphs\" textLength=\"64\" x=\"87\" y=\"450.1387\">«part def»</text><text fill=\"#000000\" font-family=\"sans-serif\" font-size=\"12\" lengthAdjust=\"spacingAndGlyphs\" textLength=\"8\" x=\"115\" y=\"464.1074\">C</text><line style=\"stroke: #A80036; stroke-width: 1.5;\" x1=\"87\" x2=\"151\" y1=\"471.9375\" y2=\"471.9375\"/></a><!--MD5=[fd4143e9d270a159db93a4ea2a975926]\n",
       "class E9--><a href=\"psysml:b18b87fb-d7bd-4905-b0cb-818d68f57f75\" target=\"_top\" title=\"psysml:b18b87fb-d7bd-4905-b0cb-818d68f57f75\" xlink:actuate=\"onRequest\" xlink:href=\"psysml:b18b87fb-d7bd-4905-b0cb-818d68f57f75\" xlink:show=\"new\" xlink:title=\"psysml:b18b87fb-d7bd-4905-b0cb-818d68f57f75\" xlink:type=\"simple\"><rect fill=\"#FEFECE\" filter=\"url(#f18ansvcjc6gbt)\" height=\"88.3516\" id=\"E9\" style=\"stroke: #A80036; stroke-width: 1.5;\" width=\"66\" x=\"32\" y=\"41\"/><text fill=\"#000000\" font-family=\"sans-serif\" font-size=\"12\" font-style=\"italic\" lengthAdjust=\"spacingAndGlyphs\" textLength=\"64\" x=\"33\" y=\"57.1387\">«port def»</text><text fill=\"#000000\" font-family=\"sans-serif\" font-size=\"12\" lengthAdjust=\"spacingAndGlyphs\" textLength=\"8\" x=\"61\" y=\"71.1074\">P</text><line style=\"stroke: #A80036; stroke-width: 1.5;\" x1=\"33\" x2=\"97\" y1=\"78.9375\" y2=\"78.9375\"/><text fill=\"#000000\" font-family=\"sans-serif\" font-size=\"11\" lengthAdjust=\"spacingAndGlyphs\" textLength=\"29\" x=\"38\" y=\"109.9526\">a1: A</text><text fill=\"#000000\" font-family=\"sans-serif\" font-size=\"11\" lengthAdjust=\"spacingAndGlyphs\" textLength=\"29\" x=\"38\" y=\"122.7573\">a2: A</text><line style=\"stroke: #A80036; stroke-width: 1.0;\" x1=\"33\" x2=\"49\" y1=\"93.3398\" y2=\"93.3398\"/><text fill=\"#000000\" font-family=\"sans-serif\" font-size=\"11\" lengthAdjust=\"spacingAndGlyphs\" textLength=\"32\" x=\"49\" y=\"96.6479\">items</text><line style=\"stroke: #A80036; stroke-width: 1.0;\" x1=\"81\" x2=\"97\" y1=\"93.3398\" y2=\"93.3398\"/></a><!--MD5=[2720a5a1f2c3fca2055b230370638851]\n",
       "link E2 to E3--><a href=\"psysml:cbc83e8e-35d8-4884-92a4-03d9c321669a\" target=\"_top\" title=\"psysml:cbc83e8e-35d8-4884-92a4-03d9c321669a\" xlink:actuate=\"onRequest\" xlink:href=\"psysml:cbc83e8e-35d8-4884-92a4-03d9c321669a\" xlink:show=\"new\" xlink:title=\"psysml:cbc83e8e-35d8-4884-92a4-03d9c321669a\" xlink:type=\"simple\"><path d=\"M154.06,108.03 C153.36,124.58 152.36,148.04 151.44,169.76 \" fill=\"none\" id=\"E2-&gt;E3\" style=\"stroke: #A80036; stroke-width: 1.0;\"/><polygon fill=\"#FFFFFF\" points=\"150.58,189.77,144.4005,170.4875,158.3877,171.0874,150.58,189.77\" style=\"stroke: #A80036; stroke-width: 1.0;\"/><ellipse cx=\"146.6429\" cy=\"164.8784\" fill=\"#A80036\" rx=\"2\" ry=\"2\" style=\"stroke: #A80036; stroke-width: 1.0;\"/><ellipse cx=\"156.6338\" cy=\"165.3069\" fill=\"#A80036\" rx=\"2\" ry=\"2\" style=\"stroke: #A80036; stroke-width: 1.0;\"/></a><!--MD5=[191cde3d490a3f6d7bb551fe3ddca469]\n",
       "reverse link E3 to E5--><a href=\"psysml:cb0fe327-dda6-4eae-9e46-1ce946f22982\" target=\"_top\" title=\"psysml:cb0fe327-dda6-4eae-9e46-1ce946f22982\" xlink:actuate=\"onRequest\" xlink:href=\"psysml:cb0fe327-dda6-4eae-9e46-1ce946f22982\" xlink:show=\"new\" xlink:title=\"psysml:cb0fe327-dda6-4eae-9e46-1ce946f22982\" xlink:type=\"simple\"><path d=\"M110.75,276.82 C96.95,294.07 82.02,312.72 70.8,326.75 \" fill=\"none\" id=\"E3&lt;-E5\" style=\"stroke: #A80036; stroke-width: 1.0;\"/><polygon fill=\"#FFFFFF\" points=\"119.15,266.31,112.2784,268.4964,111.6537,275.6804,118.5253,273.494,119.15,266.31\" style=\"stroke: #A80036; stroke-width: 1.0;\"/></a><!--MD5=[14ccda38c055a5c0da953d572bc50960]\n",
       "link E7 to E3--><a href=\"psysml:b2ac9add-d533-4cc3-a1ec-28b279e4ff39\" target=\"_top\" title=\"psysml:b2ac9add-d533-4cc3-a1ec-28b279e4ff39\" xlink:actuate=\"onRequest\" xlink:href=\"psysml:b2ac9add-d533-4cc3-a1ec-28b279e4ff39\" xlink:show=\"new\" xlink:title=\"psysml:b2ac9add-d533-4cc3-a1ec-28b279e4ff39\" xlink:type=\"simple\"><path d=\"M159.74,663.82 C172.72,643.34 189,611.54 189,581 C189,349 189,349 189,349 C189,327.34 183.06,304.56 175.76,284.74 \" fill=\"none\" id=\"E7-&gt;E3\" style=\"stroke: #A80036; stroke-width: 1.0;\"/><polygon fill=\"#FFFFFF\" points=\"168.18,266.05,181.8034,281.0301,168.8283,286.2881,168.18,266.05\" style=\"stroke: #A80036; stroke-width: 1.0;\"/><ellipse cx=\"182.0906\" cy=\"287.0639\" fill=\"#A80036\" rx=\"2\" ry=\"2\" style=\"stroke: #A80036; stroke-width: 1.0;\"/><ellipse cx=\"172.8227\" cy=\"290.8196\" fill=\"#A80036\" rx=\"2\" ry=\"2\" style=\"stroke: #A80036; stroke-width: 1.0;\"/></a><!--MD5=[3f50a3473f1dfb74d3f76443e03635af]\n",
       "reverse link E6 to E7--><a href=\"psysml:7f7b610c-5cf3-4f1d-92e7-984e3817e328\" target=\"_top\" title=\"psysml:7f7b610c-5cf3-4f1d-92e7-984e3817e328\" xlink:actuate=\"onRequest\" xlink:href=\"psysml:7f7b610c-5cf3-4f1d-92e7-984e3817e328\" xlink:show=\"new\" xlink:title=\"psysml:7f7b610c-5cf3-4f1d-92e7-984e3817e328\" xlink:type=\"simple\"><path d=\"M127.34,616.05 C131.08,631.76 135.39,649.82 138.68,663.66 \" fill=\"none\" id=\"E6&lt;-E7\" style=\"stroke: #A80036; stroke-width: 1.0;\"/><polygon fill=\"#A80036\" points=\"124.24,603.01,121.7406,609.7741,127.023,614.6828,129.5224,607.9187,124.24,603.01\" style=\"stroke: #A80036; stroke-width: 1.0;\"/></a><!--MD5=[dfaffb906826c3e5aca635516100ff21]\n",
       "link E5 to E8--><a href=\"psysml:8f4ff897-72ba-4249-b35c-9a7192bde9f3\" target=\"_top\" title=\"psysml:8f4ff897-72ba-4249-b35c-9a7192bde9f3\" xlink:actuate=\"onRequest\" xlink:href=\"psysml:8f4ff897-72ba-4249-b35c-9a7192bde9f3\" xlink:show=\"new\" xlink:title=\"psysml:8f4ff897-72ba-4249-b35c-9a7192bde9f3\" xlink:type=\"simple\"><path d=\"M66.84,373.01 C74.79,385.67 85.02,401.94 94.31,416.72 \" fill=\"none\" id=\"E5-&gt;E8\" style=\"stroke: #A80036; stroke-width: 1.0;\"/><polygon fill=\"#FFFFFF\" points=\"104.96,433.66,88.9212,421.3005,100.7735,413.8491,104.96,433.66\" style=\"stroke: #A80036; stroke-width: 1.0;\"/><ellipse cx=\"87.5806\" cy=\"415.4104\" fill=\"#A80036\" rx=\"2\" ry=\"2\" style=\"stroke: #A80036; stroke-width: 1.0;\"/><ellipse cx=\"96.0465\" cy=\"410.088\" fill=\"#A80036\" rx=\"2\" ry=\"2\" style=\"stroke: #A80036; stroke-width: 1.0;\"/></a><!--MD5=[03c8294790d3c57651a1993cecff665f]\n",
       "reverse link E8 to E3--><a href=\"psysml:44d9af1e-71a6-403b-81da-6292c3b1f2cb\" target=\"_top\" title=\"psysml:44d9af1e-71a6-403b-81da-6292c3b1f2cb\" xlink:actuate=\"onRequest\" xlink:href=\"psysml:44d9af1e-71a6-403b-81da-6292c3b1f2cb\" xlink:show=\"new\" xlink:title=\"psysml:44d9af1e-71a6-403b-81da-6292c3b1f2cb\" xlink:type=\"simple\"><path d=\"M123.65,420.81 C129.2,378.86 138.42,309.06 144.08,266.23 \" fill=\"none\" id=\"E8&lt;-E3\" style=\"stroke: #A80036; stroke-width: 1.0;\"/><polygon fill=\"#FFFFFF\" points=\"121.92,433.89,126.6755,428.4692,123.5008,421.9946,118.7453,427.4154,121.92,433.89\" style=\"stroke: #A80036; stroke-width: 1.0;\"/><text fill=\"#000000\" font-family=\"sans-serif\" font-size=\"13\" lengthAdjust=\"spacingAndGlyphs\" textLength=\"7\" x=\"136\" y=\"354.5669\">y</text></a><!--MD5=[0d75d2178373a6a4568e5dc728f58aef]\n",
       "reverse link E8 to E6--><a href=\"psysml:44d9af1e-71a6-403b-81da-6292c3b1f2cb\" target=\"_top\" title=\"psysml:44d9af1e-71a6-403b-81da-6292c3b1f2cb\" xlink:actuate=\"onRequest\" xlink:href=\"psysml:44d9af1e-71a6-403b-81da-6292c3b1f2cb\" xlink:show=\"new\" xlink:title=\"psysml:44d9af1e-71a6-403b-81da-6292c3b1f2cb\" xlink:type=\"simple\"><path d=\"M119,493.22 C119,513.81 119,539.16 119,556.95 \" fill=\"none\" id=\"E8&lt;-E6\" style=\"stroke: #A80036; stroke-width: 1.0;\"/><polygon fill=\"#FFFFFF\" points=\"119,480.19,115,486.19,119,492.19,123,486.19,119,480.19\" style=\"stroke: #A80036; stroke-width: 1.0;\"/><text fill=\"#000000\" font-family=\"sans-serif\" font-size=\"13\" lengthAdjust=\"spacingAndGlyphs\" textLength=\"7\" x=\"120\" y=\"523.0669\">y</text></a><!--MD5=[2a9b706b6d2003f6264e272bb97bee9c]\n",
       "@startuml\r\n",
       "skinparam wrapWidth 300\r\n",
       "hide circle\r\n",
       "\r\n",
       "package \"ItemTest\" as E1  [[psysml:75fb623a-e350-4a47-9f82-c4d20b2b5b80 ]]  {\r\n",
       "comp usage \"f: A\" as E2  <<(T,blue)item>> [[psysml:d8a17efa-9aba-4cd7-b18a-68f8ed4c599b ]] {\r\n",
       "}\r\n",
       "comp def \"A\" as E3  <<(T,blue)item def>> [[psysml:30552314-ef8a-4f2d-b223-fa6e862cb5b8 ]] {\r\n",
       "- - items - -\r\n",
       "b: B\r\n",
       "}\r\n",
       "comp usage \"c: C\" as E5  <<(T,blue)part>> [[psysml:cb0fe327-dda6-4eae-9e46-1ce946f22982 ]] {\r\n",
       "}\r\n",
       "comp def \"B\" as E6  <<(T,blue)item def>> [[psysml:0c776550-23a6-42b8-908b-320a74e2d4ee ]] {\r\n",
       "}\r\n",
       "comp usage \"a: A\" as E7  <<(T,blue)part>> [[psysml:7f7b610c-5cf3-4f1d-92e7-984e3817e328 ]] {\r\n",
       "}\r\n",
       "comp def \"C\" as E8  <<(T,blue)part def>> [[psysml:3f3cfa4e-9100-4bf2-8dae-183ab53e5ac5 ]] {\r\n",
       "}\r\n",
       "comp def \"P\" as E9  <<(T,blue)port def>> [[psysml:b18b87fb-d7bd-4905-b0cb-818d68f57f75 ]] {\r\n",
       "- - items - -\r\n",
       "a1: A\r\n",
       "a2: A\r\n",
       "}\r\n",
       "E2 - -:|> E3 [[psysml:cbc83e8e-35d8-4884-92a4-03d9c321669a ]] \r\n",
       "E3 o- - E5 [[psysml:cb0fe327-dda6-4eae-9e46-1ce946f22982 ]] \r\n",
       "E7 - -:|> E3 [[psysml:b2ac9add-d533-4cc3-a1ec-28b279e4ff39 ]] \r\n",
       "E6 *- - E7 [[psysml:7f7b610c-5cf3-4f1d-92e7-984e3817e328 ]] \r\n",
       "E5 - -:|> E8 [[psysml:8f4ff897-72ba-4249-b35c-9a7192bde9f3 ]] \r\n",
       "E8 o- - E3 [[psysml:44d9af1e-71a6-403b-81da-6292c3b1f2cb ]] : y\r\n",
       "E8 o- - E6 [[psysml:44d9af1e-71a6-403b-81da-6292c3b1f2cb ]] : y\r\n",
       "}\r\n",
       "@enduml\r\n",
       "\n",
       "PlantUML version 1.2020.13(Sat Jun 13 12:26:38 UTC 2020)\n",
       "(EPL source distribution)\n",
       "Java Runtime: OpenJDK Runtime Environment\n",
       "JVM: OpenJDK 64-Bit Server VM\n",
       "Default Encoding: UTF-8\n",
       "Language: en\n",
       "Country: null\n",
       "--></g></svg>"
      ]
     },
     "execution_count": 24,
     "metadata": {},
     "output_type": "execute_result"
    }
   ],
   "source": [
    "%viz --style=\"STDCOLOR\" --view=\"Tree\" \"ItemTest\""
   ]
  },
  {
   "cell_type": "code",
   "execution_count": 25,
   "id": "novel-listening",
   "metadata": {
    "execution": {
     "iopub.execute_input": "2021-03-26T12:12:06.469780Z",
     "iopub.status.busy": "2021-03-26T12:12:06.468908Z",
     "iopub.status.idle": "2021-03-26T12:12:06.475465Z",
     "shell.execute_reply": "2021-03-26T12:12:06.475065Z"
    }
   },
   "outputs": [
    {
     "data": {
      "image/svg+xml": [
       "<?xml version=\"1.0\" encoding=\"UTF-8\" standalone=\"no\"?><svg xmlns=\"http://www.w3.org/2000/svg\" xmlns:xlink=\"http://www.w3.org/1999/xlink\" contentScriptType=\"application/ecmascript\" contentStyleType=\"text/css\" height=\"12px\" preserveAspectRatio=\"none\" style=\"width:12px;height:12px;\" version=\"1.1\" viewBox=\"0 0 12 12\" width=\"12px\" zoomAndPan=\"magnify\"><defs/><g><!--MD5=[aeeef50f102b80d730deb6443d14f702]\n",
       "@startuml\r\n",
       "skinparam wrapWidth 300\r\n",
       "hide circle\r\n",
       "\r\n",
       "@enduml\r\n",
       "\n",
       "PlantUML version 1.2020.13(Sat Jun 13 12:26:38 UTC 2020)\n",
       "(EPL source distribution)\n",
       "Java Runtime: OpenJDK Runtime Environment\n",
       "JVM: OpenJDK 64-Bit Server VM\n",
       "Default Encoding: UTF-8\n",
       "Language: en\n",
       "Country: null\n",
       "--></g></svg>"
      ]
     },
     "execution_count": 25,
     "metadata": {},
     "output_type": "execute_result"
    }
   ],
   "source": [
    "%viz --style=\"STDCOLOR\" --view=\"State\" \"ItemTest\""
   ]
  },
  {
   "cell_type": "code",
   "execution_count": 26,
   "id": "prerequisite-genius",
   "metadata": {
    "execution": {
     "iopub.execute_input": "2021-03-26T12:12:06.527504Z",
     "iopub.status.busy": "2021-03-26T12:12:06.526833Z",
     "iopub.status.idle": "2021-03-26T12:12:06.557455Z",
     "shell.execute_reply": "2021-03-26T12:12:06.556224Z"
    }
   },
   "outputs": [
    {
     "data": {
      "image/svg+xml": [
       "<?xml version=\"1.0\" encoding=\"UTF-8\" standalone=\"no\"?><svg xmlns=\"http://www.w3.org/2000/svg\" xmlns:xlink=\"http://www.w3.org/1999/xlink\" contentScriptType=\"application/ecmascript\" contentStyleType=\"text/css\" height=\"195px\" preserveAspectRatio=\"none\" style=\"width:582px;height:195px;\" version=\"1.1\" viewBox=\"0 0 582 195\" width=\"582px\" zoomAndPan=\"magnify\"><defs><filter height=\"300%\" id=\"f1gxb9a043o7cs\" width=\"300%\" x=\"-1\" y=\"-1\"><feGaussianBlur result=\"blurOut\" stdDeviation=\"2.0\"/><feColorMatrix in=\"blurOut\" result=\"blurOut2\" type=\"matrix\" values=\"0 0 0 0 0 0 0 0 0 0 0 0 0 0 0 0 0 0 .4 0\"/><feOffset dx=\"4.0\" dy=\"4.0\" in=\"blurOut2\" result=\"blurOut3\"/><feBlend in=\"SourceGraphic\" in2=\"blurOut3\" mode=\"normal\"/></filter></defs><g><!--MD5=[fbc87193dbaf4d95561dea2c320d4a47]\n",
       "cluster E1--><a href=\"psysml:75fb623a-e350-4a47-9f82-c4d20b2b5b80\" target=\"_top\" title=\"psysml:75fb623a-e350-4a47-9f82-c4d20b2b5b80\" xlink:actuate=\"onRequest\" xlink:href=\"psysml:75fb623a-e350-4a47-9f82-c4d20b2b5b80\" xlink:show=\"new\" xlink:title=\"psysml:75fb623a-e350-4a47-9f82-c4d20b2b5b80\" xlink:type=\"simple\"><polygon fill=\"#FFFFFF\" filter=\"url(#f1gxb9a043o7cs)\" points=\"16,6,91,6,98,28.2969,560,28.2969,560,183,16,183,16,6\" style=\"stroke: #000000; stroke-width: 1.5;\"/><line style=\"stroke: #000000; stroke-width: 1.5;\" x1=\"16\" x2=\"98\" y1=\"28.2969\" y2=\"28.2969\"/><text fill=\"#000000\" font-family=\"sans-serif\" font-size=\"14\" font-weight=\"bold\" lengthAdjust=\"spacingAndGlyphs\" textLength=\"69\" x=\"20\" y=\"20.9951\">ItemTest</text></a><!--MD5=[de5ec2e2e8f62f467e546659f5068c88]\n",
       "cluster E5--><a href=\"psysml:3f3cfa4e-9100-4bf2-8dae-183ab53e5ac5\" target=\"_top\" title=\"psysml:3f3cfa4e-9100-4bf2-8dae-183ab53e5ac5\" xlink:actuate=\"onRequest\" xlink:href=\"psysml:3f3cfa4e-9100-4bf2-8dae-183ab53e5ac5\" xlink:show=\"new\" xlink:title=\"psysml:3f3cfa4e-9100-4bf2-8dae-183ab53e5ac5\" xlink:type=\"simple\"><rect fill=\"#FFFFFF\" filter=\"url(#f1gxb9a043o7cs)\" height=\"110\" id=\"E5\" style=\"stroke: #A80036; stroke-width: 1.5;\" width=\"114\" x=\"422\" y=\"49\"/><rect fill=\"#FEFECE\" height=\"37.9375\" style=\"stroke: #A80036; stroke-width: 1.5;\" width=\"114\" x=\"422\" y=\"49\"/><text fill=\"#000000\" font-family=\"sans-serif\" font-size=\"12\" font-style=\"italic\" lengthAdjust=\"spacingAndGlyphs\" textLength=\"64\" x=\"447\" y=\"65.1387\">«part def»</text><text fill=\"#000000\" font-family=\"sans-serif\" font-size=\"12\" lengthAdjust=\"spacingAndGlyphs\" textLength=\"8\" x=\"475\" y=\"79.1074\">C</text></a><g id=\"E1.E3\"><a href=\"psysml:30552314-ef8a-4f2d-b223-fa6e862cb5b8\" target=\"_top\" title=\"psysml:30552314-ef8a-4f2d-b223-fa6e862cb5b8\" xlink:actuate=\"onRequest\" xlink:href=\"psysml:30552314-ef8a-4f2d-b223-fa6e862cb5b8\" xlink:show=\"new\" xlink:title=\"psysml:30552314-ef8a-4f2d-b223-fa6e862cb5b8\" xlink:type=\"simple\"><rect fill=\"#FEFECE\" filter=\"url(#f1gxb9a043o7cs)\" height=\"42.9375\" id=\"E3\" style=\"stroke: #A80036; stroke-width: 1.5;\" width=\"72\" x=\"331\" y=\"100\"/><text fill=\"#000000\" font-family=\"sans-serif\" font-size=\"12\" font-style=\"italic\" lengthAdjust=\"spacingAndGlyphs\" textLength=\"65\" x=\"334.5\" y=\"116.1387\">«item def»</text><text fill=\"#000000\" font-family=\"sans-serif\" font-size=\"12\" lengthAdjust=\"spacingAndGlyphs\" textLength=\"8\" x=\"363\" y=\"130.1074\">A</text></a></g><g id=\"E1.E4\"><a href=\"psysml:0c776550-23a6-42b8-908b-320a74e2d4ee\" target=\"_top\" title=\"psysml:0c776550-23a6-42b8-908b-320a74e2d4ee\" xlink:actuate=\"onRequest\" xlink:href=\"psysml:0c776550-23a6-42b8-908b-320a74e2d4ee\" xlink:show=\"new\" xlink:title=\"psysml:0c776550-23a6-42b8-908b-320a74e2d4ee\" xlink:type=\"simple\"><rect fill=\"#FEFECE\" filter=\"url(#f1gxb9a043o7cs)\" height=\"42.9375\" id=\"E4\" style=\"stroke: #A80036; stroke-width: 1.5;\" width=\"72\" x=\"224\" y=\"100\"/><text fill=\"#000000\" font-family=\"sans-serif\" font-size=\"12\" font-style=\"italic\" lengthAdjust=\"spacingAndGlyphs\" textLength=\"65\" x=\"227.5\" y=\"116.1387\">«item def»</text><text fill=\"#000000\" font-family=\"sans-serif\" font-size=\"12\" lengthAdjust=\"spacingAndGlyphs\" textLength=\"8\" x=\"256\" y=\"130.1074\">B</text></a></g><g id=\"E1.E7\"><a href=\"psysml:b18b87fb-d7bd-4905-b0cb-818d68f57f75\" target=\"_top\" title=\"psysml:b18b87fb-d7bd-4905-b0cb-818d68f57f75\" xlink:actuate=\"onRequest\" xlink:href=\"psysml:b18b87fb-d7bd-4905-b0cb-818d68f57f75\" xlink:show=\"new\" xlink:title=\"psysml:b18b87fb-d7bd-4905-b0cb-818d68f57f75\" xlink:type=\"simple\"><rect fill=\"#FEFECE\" filter=\"url(#f1gxb9a043o7cs)\" height=\"42.9375\" id=\"E7\" style=\"stroke: #A80036; stroke-width: 1.5;\" width=\"71\" x=\"117.5\" y=\"100\"/><text fill=\"#000000\" font-family=\"sans-serif\" font-size=\"12\" font-style=\"italic\" lengthAdjust=\"spacingAndGlyphs\" textLength=\"64\" x=\"121\" y=\"116.1387\">«port def»</text><text fill=\"#000000\" font-family=\"sans-serif\" font-size=\"12\" lengthAdjust=\"spacingAndGlyphs\" textLength=\"8\" x=\"149\" y=\"130.1074\">P</text></a></g><g id=\"E1.E2\"><a href=\"psysml:d8a17efa-9aba-4cd7-b18a-68f8ed4c599b\" target=\"_top\" title=\"psysml:d8a17efa-9aba-4cd7-b18a-68f8ed4c599b\" xlink:actuate=\"onRequest\" xlink:href=\"psysml:d8a17efa-9aba-4cd7-b18a-68f8ed4c599b\" xlink:show=\"new\" xlink:title=\"psysml:d8a17efa-9aba-4cd7-b18a-68f8ed4c599b\" xlink:type=\"simple\"><rect fill=\"#FEFECE\" filter=\"url(#f1gxb9a043o7cs)\" height=\"42.9375\" id=\"E2\" rx=\"10\" ry=\"10\" style=\"stroke: #A80036; stroke-width: 1.5;\" width=\"50\" x=\"32\" y=\"100\"/><text fill=\"#000000\" font-family=\"sans-serif\" font-size=\"12\" font-style=\"italic\" lengthAdjust=\"spacingAndGlyphs\" textLength=\"41\" x=\"36.5\" y=\"116.1387\">«item»</text><text fill=\"#000000\" font-family=\"sans-serif\" font-size=\"12\" lengthAdjust=\"spacingAndGlyphs\" textLength=\"20\" x=\"47\" y=\"130.1074\">f: A</text></a></g><g id=\"E1.E5.E6\"><a href=\"psysml:44d9af1e-71a6-403b-81da-6292c3b1f2cb\" target=\"_top\" title=\"psysml:44d9af1e-71a6-403b-81da-6292c3b1f2cb\" xlink:actuate=\"onRequest\" xlink:href=\"psysml:44d9af1e-71a6-403b-81da-6292c3b1f2cb\" xlink:show=\"new\" xlink:title=\"psysml:44d9af1e-71a6-403b-81da-6292c3b1f2cb\" xlink:type=\"simple\"><rect fill=\"#FEFECE\" filter=\"url(#f1gxb9a043o7cs)\" height=\"42.9375\" id=\"E6\" rx=\"10\" ry=\"10\" style=\"stroke: #A80036; stroke-width: 1.5;\" width=\"82\" x=\"438\" y=\"100\"/><text fill=\"#000000\" font-family=\"sans-serif\" font-size=\"12\" font-style=\"italic\" lengthAdjust=\"spacingAndGlyphs\" textLength=\"75\" x=\"441.5\" y=\"116.1387\">«reference»</text><text fill=\"#000000\" font-family=\"sans-serif\" font-size=\"12\" lengthAdjust=\"spacingAndGlyphs\" textLength=\"38\" x=\"460\" y=\"130.1074\">y: A, B</text></a></g><!--MD5=[f287e770f2919d9d7a4845cfc5677884]\n",
       "@startuml\r\n",
       "skinparam ranksep 8\r\n",
       "skinparam rectangle {\r\n",
       " backgroundColor<<block>> LightGreen\r\n",
       "}\r\n",
       "skinparam wrapWidth 300\r\n",
       "hide circle\r\n",
       "\r\n",
       "package \"ItemTest\" as E1  [[psysml:75fb623a-e350-4a47-9f82-c4d20b2b5b80 ]]  {\r\n",
       "rec usage \"f: A\" as E2  <<(T,blue)item>> [[psysml:d8a17efa-9aba-4cd7-b18a-68f8ed4c599b ]] {\r\n",
       "}\r\n",
       "def \"A\" as E3  <<(T,blue)item def>> [[psysml:30552314-ef8a-4f2d-b223-fa6e862cb5b8 ]] \r\n",
       "def \"B\" as E4  <<(T,blue)item def>> [[psysml:0c776550-23a6-42b8-908b-320a74e2d4ee ]] \r\n",
       "rec def \"C\" as E5  <<(T,blue)part def>> [[psysml:3f3cfa4e-9100-4bf2-8dae-183ab53e5ac5 ]] {\r\n",
       "rec usage \"y: A, B\" as E6  <<(T,blue)reference>> [[psysml:44d9af1e-71a6-403b-81da-6292c3b1f2cb ]] {\r\n",
       "}\r\n",
       "}\r\n",
       "def \"P\" as E7  <<(T,blue)port def>> [[psysml:b18b87fb-d7bd-4905-b0cb-818d68f57f75 ]] \r\n",
       "}\r\n",
       "@enduml\r\n",
       "\n",
       "PlantUML version 1.2020.13(Sat Jun 13 12:26:38 UTC 2020)\n",
       "(EPL source distribution)\n",
       "Java Runtime: OpenJDK Runtime Environment\n",
       "JVM: OpenJDK 64-Bit Server VM\n",
       "Default Encoding: UTF-8\n",
       "Language: en\n",
       "Country: null\n",
       "--></g></svg>"
      ]
     },
     "execution_count": 26,
     "metadata": {},
     "output_type": "execute_result"
    }
   ],
   "source": [
    "%viz --style=\"STDCOLOR\" --view=\"Interconnection\" \"ItemTest\""
   ]
  },
  {
   "cell_type": "code",
   "execution_count": 27,
   "id": "combined-prague",
   "metadata": {
    "execution": {
     "iopub.execute_input": "2021-03-26T12:12:06.608118Z",
     "iopub.status.busy": "2021-03-26T12:12:06.607696Z",
     "iopub.status.idle": "2021-03-26T12:12:06.611906Z",
     "shell.execute_reply": "2021-03-26T12:12:06.612497Z"
    }
   },
   "outputs": [
    {
     "data": {
      "image/svg+xml": [
       "<?xml version=\"1.0\" encoding=\"UTF-8\" standalone=\"no\"?><svg xmlns=\"http://www.w3.org/2000/svg\" xmlns:xlink=\"http://www.w3.org/1999/xlink\" contentScriptType=\"application/ecmascript\" contentStyleType=\"text/css\" height=\"12px\" preserveAspectRatio=\"none\" style=\"width:12px;height:12px;\" version=\"1.1\" viewBox=\"0 0 12 12\" width=\"12px\" zoomAndPan=\"magnify\"><defs/><g><!--MD5=[9863325348a96a77dacc89509d8ee65e]\n",
       "@startuml\r\n",
       "skinparam ranksep 8\r\n",
       "skinparam wrapWidth 300\r\n",
       "hide circle\r\n",
       "\r\n",
       "@enduml\r\n",
       "\n",
       "PlantUML version 1.2020.13(Sat Jun 13 12:26:38 UTC 2020)\n",
       "(EPL source distribution)\n",
       "Java Runtime: OpenJDK Runtime Environment\n",
       "JVM: OpenJDK 64-Bit Server VM\n",
       "Default Encoding: UTF-8\n",
       "Language: en\n",
       "Country: null\n",
       "--></g></svg>"
      ]
     },
     "execution_count": 27,
     "metadata": {},
     "output_type": "execute_result"
    }
   ],
   "source": [
    "%viz --style=\"STDCOLOR\" --view=\"Action\" \"ItemTest\""
   ]
  },
  {
   "cell_type": "code",
   "execution_count": 28,
   "id": "wired-steel",
   "metadata": {
    "execution": {
     "iopub.execute_input": "2021-03-26T12:12:06.663267Z",
     "iopub.status.busy": "2021-03-26T12:12:06.662840Z",
     "iopub.status.idle": "2021-03-26T12:12:06.725287Z",
     "shell.execute_reply": "2021-03-26T12:12:06.725594Z"
    }
   },
   "outputs": [
    {
     "data": {
      "image/svg+xml": [
       "<?xml version=\"1.0\" encoding=\"UTF-8\" standalone=\"no\"?><svg xmlns=\"http://www.w3.org/2000/svg\" xmlns:xlink=\"http://www.w3.org/1999/xlink\" contentScriptType=\"application/ecmascript\" contentStyleType=\"text/css\" height=\"738px\" preserveAspectRatio=\"none\" style=\"width:228px;height:738px;\" version=\"1.1\" viewBox=\"0 0 228 738\" width=\"228px\" zoomAndPan=\"magnify\"><defs><filter height=\"300%\" id=\"f18ansvcjc6gbt\" width=\"300%\" x=\"-1\" y=\"-1\"><feGaussianBlur result=\"blurOut\" stdDeviation=\"2.0\"/><feColorMatrix in=\"blurOut\" result=\"blurOut2\" type=\"matrix\" values=\"0 0 0 0 0 0 0 0 0 0 0 0 0 0 0 0 0 0 .4 0\"/><feOffset dx=\"4.0\" dy=\"4.0\" in=\"blurOut2\" result=\"blurOut3\"/><feBlend in=\"SourceGraphic\" in2=\"blurOut3\" mode=\"normal\"/></filter></defs><g><!--MD5=[fbc87193dbaf4d95561dea2c320d4a47]\n",
       "cluster E1--><a href=\"psysml:75fb623a-e350-4a47-9f82-c4d20b2b5b80\" target=\"_top\" title=\"psysml:75fb623a-e350-4a47-9f82-c4d20b2b5b80\" xlink:actuate=\"onRequest\" xlink:href=\"psysml:75fb623a-e350-4a47-9f82-c4d20b2b5b80\" xlink:show=\"new\" xlink:title=\"psysml:75fb623a-e350-4a47-9f82-c4d20b2b5b80\" xlink:type=\"simple\"><polygon fill=\"#FFFFFF\" filter=\"url(#f18ansvcjc6gbt)\" points=\"16,6,91,6,98,28.2969,206,28.2969,206,726,16,726,16,6\" style=\"stroke: #000000; stroke-width: 1.5;\"/><line style=\"stroke: #000000; stroke-width: 1.5;\" x1=\"16\" x2=\"98\" y1=\"28.2969\" y2=\"28.2969\"/><text fill=\"#000000\" font-family=\"sans-serif\" font-size=\"14\" font-weight=\"bold\" lengthAdjust=\"spacingAndGlyphs\" textLength=\"69\" x=\"20\" y=\"20.9951\">ItemTest</text></a><!--MD5=[b4997ac47864f28c2f74865a473b2911]\n",
       "class E2--><a href=\"psysml:d8a17efa-9aba-4cd7-b18a-68f8ed4c599b\" target=\"_top\" title=\"psysml:d8a17efa-9aba-4cd7-b18a-68f8ed4c599b\" xlink:actuate=\"onRequest\" xlink:href=\"psysml:d8a17efa-9aba-4cd7-b18a-68f8ed4c599b\" xlink:show=\"new\" xlink:title=\"psysml:d8a17efa-9aba-4cd7-b18a-68f8ed4c599b\" xlink:type=\"simple\"><rect fill=\"#FEFECE\" filter=\"url(#f18ansvcjc6gbt)\" height=\"45.9375\" id=\"E2\" rx=\"10\" ry=\"10\" style=\"stroke: #A80036; stroke-width: 1.5;\" width=\"43\" x=\"133.5\" y=\"62\"/><text fill=\"#000000\" font-family=\"sans-serif\" font-size=\"12\" font-style=\"italic\" lengthAdjust=\"spacingAndGlyphs\" textLength=\"41\" x=\"134.5\" y=\"78.1387\">«item»</text><text fill=\"#000000\" font-family=\"sans-serif\" font-size=\"12\" lengthAdjust=\"spacingAndGlyphs\" textLength=\"20\" x=\"145\" y=\"92.1074\">f: A</text><line style=\"stroke: #A80036; stroke-width: 1.5;\" x1=\"134.5\" x2=\"175.5\" y1=\"99.9375\" y2=\"99.9375\"/></a><!--MD5=[09b614a08d8cba4a07c9adeb5e0fee81]\n",
       "class E3--><a href=\"psysml:30552314-ef8a-4f2d-b223-fa6e862cb5b8\" target=\"_top\" title=\"psysml:30552314-ef8a-4f2d-b223-fa6e862cb5b8\" xlink:actuate=\"onRequest\" xlink:href=\"psysml:30552314-ef8a-4f2d-b223-fa6e862cb5b8\" xlink:show=\"new\" xlink:title=\"psysml:30552314-ef8a-4f2d-b223-fa6e862cb5b8\" xlink:type=\"simple\"><rect fill=\"#FEFECE\" filter=\"url(#f18ansvcjc6gbt)\" height=\"75.5469\" id=\"E3\" style=\"stroke: #A80036; stroke-width: 1.5;\" width=\"67\" x=\"115.5\" y=\"190\"/><text fill=\"#000000\" font-family=\"sans-serif\" font-size=\"12\" font-style=\"italic\" lengthAdjust=\"spacingAndGlyphs\" textLength=\"65\" x=\"116.5\" y=\"206.1387\">«item def»</text><text fill=\"#000000\" font-family=\"sans-serif\" font-size=\"12\" lengthAdjust=\"spacingAndGlyphs\" textLength=\"8\" x=\"145\" y=\"220.1074\">A</text><line style=\"stroke: #A80036; stroke-width: 1.5;\" x1=\"116.5\" x2=\"181.5\" y1=\"227.9375\" y2=\"227.9375\"/><text fill=\"#000000\" font-family=\"sans-serif\" font-size=\"11\" lengthAdjust=\"spacingAndGlyphs\" textLength=\"23\" x=\"121.5\" y=\"258.9526\">b: B</text><line style=\"stroke: #A80036; stroke-width: 1.0;\" x1=\"116.5\" x2=\"133\" y1=\"242.3398\" y2=\"242.3398\"/><text fill=\"#000000\" font-family=\"sans-serif\" font-size=\"11\" lengthAdjust=\"spacingAndGlyphs\" textLength=\"32\" x=\"133\" y=\"245.6479\">items</text><line style=\"stroke: #A80036; stroke-width: 1.0;\" x1=\"165\" x2=\"181.5\" y1=\"242.3398\" y2=\"242.3398\"/></a><!--MD5=[270fce915f116d4de14055a7c1d9a0f3]\n",
       "class E5--><a href=\"psysml:cb0fe327-dda6-4eae-9e46-1ce946f22982\" target=\"_top\" title=\"psysml:cb0fe327-dda6-4eae-9e46-1ce946f22982\" xlink:actuate=\"onRequest\" xlink:href=\"psysml:cb0fe327-dda6-4eae-9e46-1ce946f22982\" xlink:show=\"new\" xlink:title=\"psysml:cb0fe327-dda6-4eae-9e46-1ce946f22982\" xlink:type=\"simple\"><rect fill=\"#FEFECE\" filter=\"url(#f18ansvcjc6gbt)\" height=\"45.9375\" id=\"E5\" rx=\"10\" ry=\"10\" style=\"stroke: #A80036; stroke-width: 1.5;\" width=\"42\" x=\"32\" y=\"327\"/><text fill=\"#000000\" font-family=\"sans-serif\" font-size=\"12\" font-style=\"italic\" lengthAdjust=\"spacingAndGlyphs\" textLength=\"40\" x=\"33\" y=\"343.1387\">«part»</text><text fill=\"#000000\" font-family=\"sans-serif\" font-size=\"12\" lengthAdjust=\"spacingAndGlyphs\" textLength=\"23\" x=\"41.5\" y=\"357.1074\">c: C</text><line style=\"stroke: #A80036; stroke-width: 1.5;\" x1=\"33\" x2=\"73\" y1=\"364.9375\" y2=\"364.9375\"/></a><!--MD5=[60a26617385b1d2d0262a64233df1f8d]\n",
       "class E6--><a href=\"psysml:0c776550-23a6-42b8-908b-320a74e2d4ee\" target=\"_top\" title=\"psysml:0c776550-23a6-42b8-908b-320a74e2d4ee\" xlink:actuate=\"onRequest\" xlink:href=\"psysml:0c776550-23a6-42b8-908b-320a74e2d4ee\" xlink:show=\"new\" xlink:title=\"psysml:0c776550-23a6-42b8-908b-320a74e2d4ee\" xlink:type=\"simple\"><rect fill=\"#FEFECE\" filter=\"url(#f18ansvcjc6gbt)\" height=\"45.9375\" id=\"E6\" style=\"stroke: #A80036; stroke-width: 1.5;\" width=\"67\" x=\"85.5\" y=\"557\"/><text fill=\"#000000\" font-family=\"sans-serif\" font-size=\"12\" font-style=\"italic\" lengthAdjust=\"spacingAndGlyphs\" textLength=\"65\" x=\"86.5\" y=\"573.1387\">«item def»</text><text fill=\"#000000\" font-family=\"sans-serif\" font-size=\"12\" lengthAdjust=\"spacingAndGlyphs\" textLength=\"8\" x=\"115\" y=\"587.1074\">B</text><line style=\"stroke: #A80036; stroke-width: 1.5;\" x1=\"86.5\" x2=\"151.5\" y1=\"594.9375\" y2=\"594.9375\"/></a><!--MD5=[2156ba9850f5573cc1fc38a6a4b2f02b]\n",
       "class E7--><a href=\"psysml:7f7b610c-5cf3-4f1d-92e7-984e3817e328\" target=\"_top\" title=\"psysml:7f7b610c-5cf3-4f1d-92e7-984e3817e328\" xlink:actuate=\"onRequest\" xlink:href=\"psysml:7f7b610c-5cf3-4f1d-92e7-984e3817e328\" xlink:show=\"new\" xlink:title=\"psysml:7f7b610c-5cf3-4f1d-92e7-984e3817e328\" xlink:type=\"simple\"><rect fill=\"#FEFECE\" filter=\"url(#f18ansvcjc6gbt)\" height=\"45.9375\" id=\"E7\" rx=\"10\" ry=\"10\" style=\"stroke: #A80036; stroke-width: 1.5;\" width=\"42\" x=\"123\" y=\"664\"/><text fill=\"#000000\" font-family=\"sans-serif\" font-size=\"12\" font-style=\"italic\" lengthAdjust=\"spacingAndGlyphs\" textLength=\"40\" x=\"124\" y=\"680.1387\">«part»</text><text fill=\"#000000\" font-family=\"sans-serif\" font-size=\"12\" lengthAdjust=\"spacingAndGlyphs\" textLength=\"24\" x=\"132\" y=\"694.1074\">a: A</text><line style=\"stroke: #A80036; stroke-width: 1.5;\" x1=\"124\" x2=\"164\" y1=\"701.9375\" y2=\"701.9375\"/></a><!--MD5=[b9389687b975829384b498ac4b7476b2]\n",
       "class E8--><a href=\"psysml:3f3cfa4e-9100-4bf2-8dae-183ab53e5ac5\" target=\"_top\" title=\"psysml:3f3cfa4e-9100-4bf2-8dae-183ab53e5ac5\" xlink:actuate=\"onRequest\" xlink:href=\"psysml:3f3cfa4e-9100-4bf2-8dae-183ab53e5ac5\" xlink:show=\"new\" xlink:title=\"psysml:3f3cfa4e-9100-4bf2-8dae-183ab53e5ac5\" xlink:type=\"simple\"><rect fill=\"#FEFECE\" filter=\"url(#f18ansvcjc6gbt)\" height=\"45.9375\" id=\"E8\" style=\"stroke: #A80036; stroke-width: 1.5;\" width=\"66\" x=\"86\" y=\"434\"/><text fill=\"#000000\" font-family=\"sans-serif\" font-size=\"12\" font-style=\"italic\" lengthAdjust=\"spacingAndGlyphs\" textLength=\"64\" x=\"87\" y=\"450.1387\">«part def»</text><text fill=\"#000000\" font-family=\"sans-serif\" font-size=\"12\" lengthAdjust=\"spacingAndGlyphs\" textLength=\"8\" x=\"115\" y=\"464.1074\">C</text><line style=\"stroke: #A80036; stroke-width: 1.5;\" x1=\"87\" x2=\"151\" y1=\"471.9375\" y2=\"471.9375\"/></a><!--MD5=[fd4143e9d270a159db93a4ea2a975926]\n",
       "class E9--><a href=\"psysml:b18b87fb-d7bd-4905-b0cb-818d68f57f75\" target=\"_top\" title=\"psysml:b18b87fb-d7bd-4905-b0cb-818d68f57f75\" xlink:actuate=\"onRequest\" xlink:href=\"psysml:b18b87fb-d7bd-4905-b0cb-818d68f57f75\" xlink:show=\"new\" xlink:title=\"psysml:b18b87fb-d7bd-4905-b0cb-818d68f57f75\" xlink:type=\"simple\"><rect fill=\"#FEFECE\" filter=\"url(#f18ansvcjc6gbt)\" height=\"88.3516\" id=\"E9\" style=\"stroke: #A80036; stroke-width: 1.5;\" width=\"66\" x=\"32\" y=\"41\"/><text fill=\"#000000\" font-family=\"sans-serif\" font-size=\"12\" font-style=\"italic\" lengthAdjust=\"spacingAndGlyphs\" textLength=\"64\" x=\"33\" y=\"57.1387\">«port def»</text><text fill=\"#000000\" font-family=\"sans-serif\" font-size=\"12\" lengthAdjust=\"spacingAndGlyphs\" textLength=\"8\" x=\"61\" y=\"71.1074\">P</text><line style=\"stroke: #A80036; stroke-width: 1.5;\" x1=\"33\" x2=\"97\" y1=\"78.9375\" y2=\"78.9375\"/><text fill=\"#000000\" font-family=\"sans-serif\" font-size=\"11\" lengthAdjust=\"spacingAndGlyphs\" textLength=\"29\" x=\"38\" y=\"109.9526\">a1: A</text><text fill=\"#000000\" font-family=\"sans-serif\" font-size=\"11\" lengthAdjust=\"spacingAndGlyphs\" textLength=\"29\" x=\"38\" y=\"122.7573\">a2: A</text><line style=\"stroke: #A80036; stroke-width: 1.0;\" x1=\"33\" x2=\"49\" y1=\"93.3398\" y2=\"93.3398\"/><text fill=\"#000000\" font-family=\"sans-serif\" font-size=\"11\" lengthAdjust=\"spacingAndGlyphs\" textLength=\"32\" x=\"49\" y=\"96.6479\">items</text><line style=\"stroke: #A80036; stroke-width: 1.0;\" x1=\"81\" x2=\"97\" y1=\"93.3398\" y2=\"93.3398\"/></a><!--MD5=[2720a5a1f2c3fca2055b230370638851]\n",
       "link E2 to E3--><a href=\"psysml:cbc83e8e-35d8-4884-92a4-03d9c321669a\" target=\"_top\" title=\"psysml:cbc83e8e-35d8-4884-92a4-03d9c321669a\" xlink:actuate=\"onRequest\" xlink:href=\"psysml:cbc83e8e-35d8-4884-92a4-03d9c321669a\" xlink:show=\"new\" xlink:title=\"psysml:cbc83e8e-35d8-4884-92a4-03d9c321669a\" xlink:type=\"simple\"><path d=\"M154.06,108.03 C153.36,124.58 152.36,148.04 151.44,169.76 \" fill=\"none\" id=\"E2-&gt;E3\" style=\"stroke: #A80036; stroke-width: 1.0;\"/><polygon fill=\"#FFFFFF\" points=\"150.58,189.77,144.4005,170.4875,158.3877,171.0874,150.58,189.77\" style=\"stroke: #A80036; stroke-width: 1.0;\"/><ellipse cx=\"146.6429\" cy=\"164.8784\" fill=\"#A80036\" rx=\"2\" ry=\"2\" style=\"stroke: #A80036; stroke-width: 1.0;\"/><ellipse cx=\"156.6338\" cy=\"165.3069\" fill=\"#A80036\" rx=\"2\" ry=\"2\" style=\"stroke: #A80036; stroke-width: 1.0;\"/></a><!--MD5=[191cde3d490a3f6d7bb551fe3ddca469]\n",
       "reverse link E3 to E5--><a href=\"psysml:cb0fe327-dda6-4eae-9e46-1ce946f22982\" target=\"_top\" title=\"psysml:cb0fe327-dda6-4eae-9e46-1ce946f22982\" xlink:actuate=\"onRequest\" xlink:href=\"psysml:cb0fe327-dda6-4eae-9e46-1ce946f22982\" xlink:show=\"new\" xlink:title=\"psysml:cb0fe327-dda6-4eae-9e46-1ce946f22982\" xlink:type=\"simple\"><path d=\"M110.75,276.82 C96.95,294.07 82.02,312.72 70.8,326.75 \" fill=\"none\" id=\"E3&lt;-E5\" style=\"stroke: #A80036; stroke-width: 1.0;\"/><polygon fill=\"#FFFFFF\" points=\"119.15,266.31,112.2784,268.4964,111.6537,275.6804,118.5253,273.494,119.15,266.31\" style=\"stroke: #A80036; stroke-width: 1.0;\"/></a><!--MD5=[14ccda38c055a5c0da953d572bc50960]\n",
       "link E7 to E3--><a href=\"psysml:b2ac9add-d533-4cc3-a1ec-28b279e4ff39\" target=\"_top\" title=\"psysml:b2ac9add-d533-4cc3-a1ec-28b279e4ff39\" xlink:actuate=\"onRequest\" xlink:href=\"psysml:b2ac9add-d533-4cc3-a1ec-28b279e4ff39\" xlink:show=\"new\" xlink:title=\"psysml:b2ac9add-d533-4cc3-a1ec-28b279e4ff39\" xlink:type=\"simple\"><path d=\"M159.74,663.82 C172.72,643.34 189,611.54 189,581 C189,349 189,349 189,349 C189,327.34 183.06,304.56 175.76,284.74 \" fill=\"none\" id=\"E7-&gt;E3\" style=\"stroke: #A80036; stroke-width: 1.0;\"/><polygon fill=\"#FFFFFF\" points=\"168.18,266.05,181.8034,281.0301,168.8283,286.2881,168.18,266.05\" style=\"stroke: #A80036; stroke-width: 1.0;\"/><ellipse cx=\"182.0906\" cy=\"287.0639\" fill=\"#A80036\" rx=\"2\" ry=\"2\" style=\"stroke: #A80036; stroke-width: 1.0;\"/><ellipse cx=\"172.8227\" cy=\"290.8196\" fill=\"#A80036\" rx=\"2\" ry=\"2\" style=\"stroke: #A80036; stroke-width: 1.0;\"/></a><!--MD5=[3f50a3473f1dfb74d3f76443e03635af]\n",
       "reverse link E6 to E7--><a href=\"psysml:7f7b610c-5cf3-4f1d-92e7-984e3817e328\" target=\"_top\" title=\"psysml:7f7b610c-5cf3-4f1d-92e7-984e3817e328\" xlink:actuate=\"onRequest\" xlink:href=\"psysml:7f7b610c-5cf3-4f1d-92e7-984e3817e328\" xlink:show=\"new\" xlink:title=\"psysml:7f7b610c-5cf3-4f1d-92e7-984e3817e328\" xlink:type=\"simple\"><path d=\"M127.34,616.05 C131.08,631.76 135.39,649.82 138.68,663.66 \" fill=\"none\" id=\"E6&lt;-E7\" style=\"stroke: #A80036; stroke-width: 1.0;\"/><polygon fill=\"#A80036\" points=\"124.24,603.01,121.7406,609.7741,127.023,614.6828,129.5224,607.9187,124.24,603.01\" style=\"stroke: #A80036; stroke-width: 1.0;\"/></a><!--MD5=[dfaffb906826c3e5aca635516100ff21]\n",
       "link E5 to E8--><a href=\"psysml:8f4ff897-72ba-4249-b35c-9a7192bde9f3\" target=\"_top\" title=\"psysml:8f4ff897-72ba-4249-b35c-9a7192bde9f3\" xlink:actuate=\"onRequest\" xlink:href=\"psysml:8f4ff897-72ba-4249-b35c-9a7192bde9f3\" xlink:show=\"new\" xlink:title=\"psysml:8f4ff897-72ba-4249-b35c-9a7192bde9f3\" xlink:type=\"simple\"><path d=\"M66.84,373.01 C74.79,385.67 85.02,401.94 94.31,416.72 \" fill=\"none\" id=\"E5-&gt;E8\" style=\"stroke: #A80036; stroke-width: 1.0;\"/><polygon fill=\"#FFFFFF\" points=\"104.96,433.66,88.9212,421.3005,100.7735,413.8491,104.96,433.66\" style=\"stroke: #A80036; stroke-width: 1.0;\"/><ellipse cx=\"87.5806\" cy=\"415.4104\" fill=\"#A80036\" rx=\"2\" ry=\"2\" style=\"stroke: #A80036; stroke-width: 1.0;\"/><ellipse cx=\"96.0465\" cy=\"410.088\" fill=\"#A80036\" rx=\"2\" ry=\"2\" style=\"stroke: #A80036; stroke-width: 1.0;\"/></a><!--MD5=[03c8294790d3c57651a1993cecff665f]\n",
       "reverse link E8 to E3--><a href=\"psysml:44d9af1e-71a6-403b-81da-6292c3b1f2cb\" target=\"_top\" title=\"psysml:44d9af1e-71a6-403b-81da-6292c3b1f2cb\" xlink:actuate=\"onRequest\" xlink:href=\"psysml:44d9af1e-71a6-403b-81da-6292c3b1f2cb\" xlink:show=\"new\" xlink:title=\"psysml:44d9af1e-71a6-403b-81da-6292c3b1f2cb\" xlink:type=\"simple\"><path d=\"M123.65,420.81 C129.2,378.86 138.42,309.06 144.08,266.23 \" fill=\"none\" id=\"E8&lt;-E3\" style=\"stroke: #A80036; stroke-width: 1.0;\"/><polygon fill=\"#FFFFFF\" points=\"121.92,433.89,126.6755,428.4692,123.5008,421.9946,118.7453,427.4154,121.92,433.89\" style=\"stroke: #A80036; stroke-width: 1.0;\"/><text fill=\"#000000\" font-family=\"sans-serif\" font-size=\"13\" lengthAdjust=\"spacingAndGlyphs\" textLength=\"7\" x=\"136\" y=\"354.5669\">y</text></a><!--MD5=[0d75d2178373a6a4568e5dc728f58aef]\n",
       "reverse link E8 to E6--><a href=\"psysml:44d9af1e-71a6-403b-81da-6292c3b1f2cb\" target=\"_top\" title=\"psysml:44d9af1e-71a6-403b-81da-6292c3b1f2cb\" xlink:actuate=\"onRequest\" xlink:href=\"psysml:44d9af1e-71a6-403b-81da-6292c3b1f2cb\" xlink:show=\"new\" xlink:title=\"psysml:44d9af1e-71a6-403b-81da-6292c3b1f2cb\" xlink:type=\"simple\"><path d=\"M119,493.22 C119,513.81 119,539.16 119,556.95 \" fill=\"none\" id=\"E8&lt;-E6\" style=\"stroke: #A80036; stroke-width: 1.0;\"/><polygon fill=\"#FFFFFF\" points=\"119,480.19,115,486.19,119,492.19,123,486.19,119,480.19\" style=\"stroke: #A80036; stroke-width: 1.0;\"/><text fill=\"#000000\" font-family=\"sans-serif\" font-size=\"13\" lengthAdjust=\"spacingAndGlyphs\" textLength=\"7\" x=\"120\" y=\"523.0669\">y</text></a><!--MD5=[2a9b706b6d2003f6264e272bb97bee9c]\n",
       "@startuml\r\n",
       "skinparam wrapWidth 300\r\n",
       "hide circle\r\n",
       "\r\n",
       "package \"ItemTest\" as E1  [[psysml:75fb623a-e350-4a47-9f82-c4d20b2b5b80 ]]  {\r\n",
       "comp usage \"f: A\" as E2  <<(T,blue)item>> [[psysml:d8a17efa-9aba-4cd7-b18a-68f8ed4c599b ]] {\r\n",
       "}\r\n",
       "comp def \"A\" as E3  <<(T,blue)item def>> [[psysml:30552314-ef8a-4f2d-b223-fa6e862cb5b8 ]] {\r\n",
       "- - items - -\r\n",
       "b: B\r\n",
       "}\r\n",
       "comp usage \"c: C\" as E5  <<(T,blue)part>> [[psysml:cb0fe327-dda6-4eae-9e46-1ce946f22982 ]] {\r\n",
       "}\r\n",
       "comp def \"B\" as E6  <<(T,blue)item def>> [[psysml:0c776550-23a6-42b8-908b-320a74e2d4ee ]] {\r\n",
       "}\r\n",
       "comp usage \"a: A\" as E7  <<(T,blue)part>> [[psysml:7f7b610c-5cf3-4f1d-92e7-984e3817e328 ]] {\r\n",
       "}\r\n",
       "comp def \"C\" as E8  <<(T,blue)part def>> [[psysml:3f3cfa4e-9100-4bf2-8dae-183ab53e5ac5 ]] {\r\n",
       "}\r\n",
       "comp def \"P\" as E9  <<(T,blue)port def>> [[psysml:b18b87fb-d7bd-4905-b0cb-818d68f57f75 ]] {\r\n",
       "- - items - -\r\n",
       "a1: A\r\n",
       "a2: A\r\n",
       "}\r\n",
       "E2 - -:|> E3 [[psysml:cbc83e8e-35d8-4884-92a4-03d9c321669a ]] \r\n",
       "E3 o- - E5 [[psysml:cb0fe327-dda6-4eae-9e46-1ce946f22982 ]] \r\n",
       "E7 - -:|> E3 [[psysml:b2ac9add-d533-4cc3-a1ec-28b279e4ff39 ]] \r\n",
       "E6 *- - E7 [[psysml:7f7b610c-5cf3-4f1d-92e7-984e3817e328 ]] \r\n",
       "E5 - -:|> E8 [[psysml:8f4ff897-72ba-4249-b35c-9a7192bde9f3 ]] \r\n",
       "E8 o- - E3 [[psysml:44d9af1e-71a6-403b-81da-6292c3b1f2cb ]] : y\r\n",
       "E8 o- - E6 [[psysml:44d9af1e-71a6-403b-81da-6292c3b1f2cb ]] : y\r\n",
       "}\r\n",
       "@enduml\r\n",
       "\n",
       "PlantUML version 1.2020.13(Sat Jun 13 12:26:38 UTC 2020)\n",
       "(EPL source distribution)\n",
       "Java Runtime: OpenJDK Runtime Environment\n",
       "JVM: OpenJDK 64-Bit Server VM\n",
       "Default Encoding: UTF-8\n",
       "Language: en\n",
       "Country: null\n",
       "--></g></svg>"
      ]
     },
     "execution_count": 28,
     "metadata": {},
     "output_type": "execute_result"
    }
   ],
   "source": [
    "%viz --style=\"STDCOLOR\" --view=\"Sequence\" \"ItemTest\""
   ]
  },
  {
   "cell_type": "code",
   "execution_count": 29,
   "id": "becoming-metabolism",
   "metadata": {
    "execution": {
     "iopub.execute_input": "2021-03-26T12:12:06.795282Z",
     "iopub.status.busy": "2021-03-26T12:12:06.781211Z",
     "iopub.status.idle": "2021-03-26T12:12:06.845033Z",
     "shell.execute_reply": "2021-03-26T12:12:06.845413Z"
    }
   },
   "outputs": [
    {
     "data": {
      "image/svg+xml": [
       "<?xml version=\"1.0\" encoding=\"UTF-8\" standalone=\"no\"?><svg xmlns=\"http://www.w3.org/2000/svg\" xmlns:xlink=\"http://www.w3.org/1999/xlink\" contentScriptType=\"application/ecmascript\" contentStyleType=\"text/css\" height=\"738px\" preserveAspectRatio=\"none\" style=\"width:228px;height:738px;\" version=\"1.1\" viewBox=\"0 0 228 738\" width=\"228px\" zoomAndPan=\"magnify\"><defs><filter height=\"300%\" id=\"f18ansvcjc6gbt\" width=\"300%\" x=\"-1\" y=\"-1\"><feGaussianBlur result=\"blurOut\" stdDeviation=\"2.0\"/><feColorMatrix in=\"blurOut\" result=\"blurOut2\" type=\"matrix\" values=\"0 0 0 0 0 0 0 0 0 0 0 0 0 0 0 0 0 0 .4 0\"/><feOffset dx=\"4.0\" dy=\"4.0\" in=\"blurOut2\" result=\"blurOut3\"/><feBlend in=\"SourceGraphic\" in2=\"blurOut3\" mode=\"normal\"/></filter></defs><g><!--MD5=[fbc87193dbaf4d95561dea2c320d4a47]\n",
       "cluster E1--><a href=\"psysml:75fb623a-e350-4a47-9f82-c4d20b2b5b80\" target=\"_top\" title=\"psysml:75fb623a-e350-4a47-9f82-c4d20b2b5b80\" xlink:actuate=\"onRequest\" xlink:href=\"psysml:75fb623a-e350-4a47-9f82-c4d20b2b5b80\" xlink:show=\"new\" xlink:title=\"psysml:75fb623a-e350-4a47-9f82-c4d20b2b5b80\" xlink:type=\"simple\"><polygon fill=\"#FFFFFF\" filter=\"url(#f18ansvcjc6gbt)\" points=\"16,6,91,6,98,28.2969,206,28.2969,206,726,16,726,16,6\" style=\"stroke: #000000; stroke-width: 1.5;\"/><line style=\"stroke: #000000; stroke-width: 1.5;\" x1=\"16\" x2=\"98\" y1=\"28.2969\" y2=\"28.2969\"/><text fill=\"#000000\" font-family=\"sans-serif\" font-size=\"14\" font-weight=\"bold\" lengthAdjust=\"spacingAndGlyphs\" textLength=\"69\" x=\"20\" y=\"20.9951\">ItemTest</text></a><!--MD5=[b4997ac47864f28c2f74865a473b2911]\n",
       "class E2--><a href=\"psysml:d8a17efa-9aba-4cd7-b18a-68f8ed4c599b\" target=\"_top\" title=\"psysml:d8a17efa-9aba-4cd7-b18a-68f8ed4c599b\" xlink:actuate=\"onRequest\" xlink:href=\"psysml:d8a17efa-9aba-4cd7-b18a-68f8ed4c599b\" xlink:show=\"new\" xlink:title=\"psysml:d8a17efa-9aba-4cd7-b18a-68f8ed4c599b\" xlink:type=\"simple\"><rect fill=\"#FEFECE\" filter=\"url(#f18ansvcjc6gbt)\" height=\"45.9375\" id=\"E2\" rx=\"10\" ry=\"10\" style=\"stroke: #A80036; stroke-width: 1.5;\" width=\"43\" x=\"133.5\" y=\"62\"/><text fill=\"#000000\" font-family=\"sans-serif\" font-size=\"12\" font-style=\"italic\" lengthAdjust=\"spacingAndGlyphs\" textLength=\"41\" x=\"134.5\" y=\"78.1387\">«item»</text><text fill=\"#000000\" font-family=\"sans-serif\" font-size=\"12\" lengthAdjust=\"spacingAndGlyphs\" textLength=\"20\" x=\"145\" y=\"92.1074\">f: A</text><line style=\"stroke: #A80036; stroke-width: 1.5;\" x1=\"134.5\" x2=\"175.5\" y1=\"99.9375\" y2=\"99.9375\"/></a><!--MD5=[09b614a08d8cba4a07c9adeb5e0fee81]\n",
       "class E3--><a href=\"psysml:30552314-ef8a-4f2d-b223-fa6e862cb5b8\" target=\"_top\" title=\"psysml:30552314-ef8a-4f2d-b223-fa6e862cb5b8\" xlink:actuate=\"onRequest\" xlink:href=\"psysml:30552314-ef8a-4f2d-b223-fa6e862cb5b8\" xlink:show=\"new\" xlink:title=\"psysml:30552314-ef8a-4f2d-b223-fa6e862cb5b8\" xlink:type=\"simple\"><rect fill=\"#FEFECE\" filter=\"url(#f18ansvcjc6gbt)\" height=\"75.5469\" id=\"E3\" style=\"stroke: #A80036; stroke-width: 1.5;\" width=\"67\" x=\"115.5\" y=\"190\"/><text fill=\"#000000\" font-family=\"sans-serif\" font-size=\"12\" font-style=\"italic\" lengthAdjust=\"spacingAndGlyphs\" textLength=\"65\" x=\"116.5\" y=\"206.1387\">«item def»</text><text fill=\"#000000\" font-family=\"sans-serif\" font-size=\"12\" lengthAdjust=\"spacingAndGlyphs\" textLength=\"8\" x=\"145\" y=\"220.1074\">A</text><line style=\"stroke: #A80036; stroke-width: 1.5;\" x1=\"116.5\" x2=\"181.5\" y1=\"227.9375\" y2=\"227.9375\"/><text fill=\"#000000\" font-family=\"sans-serif\" font-size=\"11\" lengthAdjust=\"spacingAndGlyphs\" textLength=\"23\" x=\"121.5\" y=\"258.9526\">b: B</text><line style=\"stroke: #A80036; stroke-width: 1.0;\" x1=\"116.5\" x2=\"133\" y1=\"242.3398\" y2=\"242.3398\"/><text fill=\"#000000\" font-family=\"sans-serif\" font-size=\"11\" lengthAdjust=\"spacingAndGlyphs\" textLength=\"32\" x=\"133\" y=\"245.6479\">items</text><line style=\"stroke: #A80036; stroke-width: 1.0;\" x1=\"165\" x2=\"181.5\" y1=\"242.3398\" y2=\"242.3398\"/></a><!--MD5=[270fce915f116d4de14055a7c1d9a0f3]\n",
       "class E5--><a href=\"psysml:cb0fe327-dda6-4eae-9e46-1ce946f22982\" target=\"_top\" title=\"psysml:cb0fe327-dda6-4eae-9e46-1ce946f22982\" xlink:actuate=\"onRequest\" xlink:href=\"psysml:cb0fe327-dda6-4eae-9e46-1ce946f22982\" xlink:show=\"new\" xlink:title=\"psysml:cb0fe327-dda6-4eae-9e46-1ce946f22982\" xlink:type=\"simple\"><rect fill=\"#FEFECE\" filter=\"url(#f18ansvcjc6gbt)\" height=\"45.9375\" id=\"E5\" rx=\"10\" ry=\"10\" style=\"stroke: #A80036; stroke-width: 1.5;\" width=\"42\" x=\"32\" y=\"327\"/><text fill=\"#000000\" font-family=\"sans-serif\" font-size=\"12\" font-style=\"italic\" lengthAdjust=\"spacingAndGlyphs\" textLength=\"40\" x=\"33\" y=\"343.1387\">«part»</text><text fill=\"#000000\" font-family=\"sans-serif\" font-size=\"12\" lengthAdjust=\"spacingAndGlyphs\" textLength=\"23\" x=\"41.5\" y=\"357.1074\">c: C</text><line style=\"stroke: #A80036; stroke-width: 1.5;\" x1=\"33\" x2=\"73\" y1=\"364.9375\" y2=\"364.9375\"/></a><!--MD5=[60a26617385b1d2d0262a64233df1f8d]\n",
       "class E6--><a href=\"psysml:0c776550-23a6-42b8-908b-320a74e2d4ee\" target=\"_top\" title=\"psysml:0c776550-23a6-42b8-908b-320a74e2d4ee\" xlink:actuate=\"onRequest\" xlink:href=\"psysml:0c776550-23a6-42b8-908b-320a74e2d4ee\" xlink:show=\"new\" xlink:title=\"psysml:0c776550-23a6-42b8-908b-320a74e2d4ee\" xlink:type=\"simple\"><rect fill=\"#FEFECE\" filter=\"url(#f18ansvcjc6gbt)\" height=\"45.9375\" id=\"E6\" style=\"stroke: #A80036; stroke-width: 1.5;\" width=\"67\" x=\"85.5\" y=\"557\"/><text fill=\"#000000\" font-family=\"sans-serif\" font-size=\"12\" font-style=\"italic\" lengthAdjust=\"spacingAndGlyphs\" textLength=\"65\" x=\"86.5\" y=\"573.1387\">«item def»</text><text fill=\"#000000\" font-family=\"sans-serif\" font-size=\"12\" lengthAdjust=\"spacingAndGlyphs\" textLength=\"8\" x=\"115\" y=\"587.1074\">B</text><line style=\"stroke: #A80036; stroke-width: 1.5;\" x1=\"86.5\" x2=\"151.5\" y1=\"594.9375\" y2=\"594.9375\"/></a><!--MD5=[2156ba9850f5573cc1fc38a6a4b2f02b]\n",
       "class E7--><a href=\"psysml:7f7b610c-5cf3-4f1d-92e7-984e3817e328\" target=\"_top\" title=\"psysml:7f7b610c-5cf3-4f1d-92e7-984e3817e328\" xlink:actuate=\"onRequest\" xlink:href=\"psysml:7f7b610c-5cf3-4f1d-92e7-984e3817e328\" xlink:show=\"new\" xlink:title=\"psysml:7f7b610c-5cf3-4f1d-92e7-984e3817e328\" xlink:type=\"simple\"><rect fill=\"#FEFECE\" filter=\"url(#f18ansvcjc6gbt)\" height=\"45.9375\" id=\"E7\" rx=\"10\" ry=\"10\" style=\"stroke: #A80036; stroke-width: 1.5;\" width=\"42\" x=\"123\" y=\"664\"/><text fill=\"#000000\" font-family=\"sans-serif\" font-size=\"12\" font-style=\"italic\" lengthAdjust=\"spacingAndGlyphs\" textLength=\"40\" x=\"124\" y=\"680.1387\">«part»</text><text fill=\"#000000\" font-family=\"sans-serif\" font-size=\"12\" lengthAdjust=\"spacingAndGlyphs\" textLength=\"24\" x=\"132\" y=\"694.1074\">a: A</text><line style=\"stroke: #A80036; stroke-width: 1.5;\" x1=\"124\" x2=\"164\" y1=\"701.9375\" y2=\"701.9375\"/></a><!--MD5=[b9389687b975829384b498ac4b7476b2]\n",
       "class E8--><a href=\"psysml:3f3cfa4e-9100-4bf2-8dae-183ab53e5ac5\" target=\"_top\" title=\"psysml:3f3cfa4e-9100-4bf2-8dae-183ab53e5ac5\" xlink:actuate=\"onRequest\" xlink:href=\"psysml:3f3cfa4e-9100-4bf2-8dae-183ab53e5ac5\" xlink:show=\"new\" xlink:title=\"psysml:3f3cfa4e-9100-4bf2-8dae-183ab53e5ac5\" xlink:type=\"simple\"><rect fill=\"#FEFECE\" filter=\"url(#f18ansvcjc6gbt)\" height=\"45.9375\" id=\"E8\" style=\"stroke: #A80036; stroke-width: 1.5;\" width=\"66\" x=\"86\" y=\"434\"/><text fill=\"#000000\" font-family=\"sans-serif\" font-size=\"12\" font-style=\"italic\" lengthAdjust=\"spacingAndGlyphs\" textLength=\"64\" x=\"87\" y=\"450.1387\">«part def»</text><text fill=\"#000000\" font-family=\"sans-serif\" font-size=\"12\" lengthAdjust=\"spacingAndGlyphs\" textLength=\"8\" x=\"115\" y=\"464.1074\">C</text><line style=\"stroke: #A80036; stroke-width: 1.5;\" x1=\"87\" x2=\"151\" y1=\"471.9375\" y2=\"471.9375\"/></a><!--MD5=[fd4143e9d270a159db93a4ea2a975926]\n",
       "class E9--><a href=\"psysml:b18b87fb-d7bd-4905-b0cb-818d68f57f75\" target=\"_top\" title=\"psysml:b18b87fb-d7bd-4905-b0cb-818d68f57f75\" xlink:actuate=\"onRequest\" xlink:href=\"psysml:b18b87fb-d7bd-4905-b0cb-818d68f57f75\" xlink:show=\"new\" xlink:title=\"psysml:b18b87fb-d7bd-4905-b0cb-818d68f57f75\" xlink:type=\"simple\"><rect fill=\"#FEFECE\" filter=\"url(#f18ansvcjc6gbt)\" height=\"88.3516\" id=\"E9\" style=\"stroke: #A80036; stroke-width: 1.5;\" width=\"66\" x=\"32\" y=\"41\"/><text fill=\"#000000\" font-family=\"sans-serif\" font-size=\"12\" font-style=\"italic\" lengthAdjust=\"spacingAndGlyphs\" textLength=\"64\" x=\"33\" y=\"57.1387\">«port def»</text><text fill=\"#000000\" font-family=\"sans-serif\" font-size=\"12\" lengthAdjust=\"spacingAndGlyphs\" textLength=\"8\" x=\"61\" y=\"71.1074\">P</text><line style=\"stroke: #A80036; stroke-width: 1.5;\" x1=\"33\" x2=\"97\" y1=\"78.9375\" y2=\"78.9375\"/><text fill=\"#000000\" font-family=\"sans-serif\" font-size=\"11\" lengthAdjust=\"spacingAndGlyphs\" textLength=\"29\" x=\"38\" y=\"109.9526\">a1: A</text><text fill=\"#000000\" font-family=\"sans-serif\" font-size=\"11\" lengthAdjust=\"spacingAndGlyphs\" textLength=\"29\" x=\"38\" y=\"122.7573\">a2: A</text><line style=\"stroke: #A80036; stroke-width: 1.0;\" x1=\"33\" x2=\"49\" y1=\"93.3398\" y2=\"93.3398\"/><text fill=\"#000000\" font-family=\"sans-serif\" font-size=\"11\" lengthAdjust=\"spacingAndGlyphs\" textLength=\"32\" x=\"49\" y=\"96.6479\">items</text><line style=\"stroke: #A80036; stroke-width: 1.0;\" x1=\"81\" x2=\"97\" y1=\"93.3398\" y2=\"93.3398\"/></a><!--MD5=[2720a5a1f2c3fca2055b230370638851]\n",
       "link E2 to E3--><a href=\"psysml:cbc83e8e-35d8-4884-92a4-03d9c321669a\" target=\"_top\" title=\"psysml:cbc83e8e-35d8-4884-92a4-03d9c321669a\" xlink:actuate=\"onRequest\" xlink:href=\"psysml:cbc83e8e-35d8-4884-92a4-03d9c321669a\" xlink:show=\"new\" xlink:title=\"psysml:cbc83e8e-35d8-4884-92a4-03d9c321669a\" xlink:type=\"simple\"><path d=\"M154.06,108.03 C153.36,124.58 152.36,148.04 151.44,169.76 \" fill=\"none\" id=\"E2-&gt;E3\" style=\"stroke: #A80036; stroke-width: 1.0;\"/><polygon fill=\"#FFFFFF\" points=\"150.58,189.77,144.4005,170.4875,158.3877,171.0874,150.58,189.77\" style=\"stroke: #A80036; stroke-width: 1.0;\"/><ellipse cx=\"146.6429\" cy=\"164.8784\" fill=\"#A80036\" rx=\"2\" ry=\"2\" style=\"stroke: #A80036; stroke-width: 1.0;\"/><ellipse cx=\"156.6338\" cy=\"165.3069\" fill=\"#A80036\" rx=\"2\" ry=\"2\" style=\"stroke: #A80036; stroke-width: 1.0;\"/></a><!--MD5=[191cde3d490a3f6d7bb551fe3ddca469]\n",
       "reverse link E3 to E5--><a href=\"psysml:cb0fe327-dda6-4eae-9e46-1ce946f22982\" target=\"_top\" title=\"psysml:cb0fe327-dda6-4eae-9e46-1ce946f22982\" xlink:actuate=\"onRequest\" xlink:href=\"psysml:cb0fe327-dda6-4eae-9e46-1ce946f22982\" xlink:show=\"new\" xlink:title=\"psysml:cb0fe327-dda6-4eae-9e46-1ce946f22982\" xlink:type=\"simple\"><path d=\"M110.75,276.82 C96.95,294.07 82.02,312.72 70.8,326.75 \" fill=\"none\" id=\"E3&lt;-E5\" style=\"stroke: #A80036; stroke-width: 1.0;\"/><polygon fill=\"#FFFFFF\" points=\"119.15,266.31,112.2784,268.4964,111.6537,275.6804,118.5253,273.494,119.15,266.31\" style=\"stroke: #A80036; stroke-width: 1.0;\"/></a><!--MD5=[14ccda38c055a5c0da953d572bc50960]\n",
       "link E7 to E3--><a href=\"psysml:b2ac9add-d533-4cc3-a1ec-28b279e4ff39\" target=\"_top\" title=\"psysml:b2ac9add-d533-4cc3-a1ec-28b279e4ff39\" xlink:actuate=\"onRequest\" xlink:href=\"psysml:b2ac9add-d533-4cc3-a1ec-28b279e4ff39\" xlink:show=\"new\" xlink:title=\"psysml:b2ac9add-d533-4cc3-a1ec-28b279e4ff39\" xlink:type=\"simple\"><path d=\"M159.74,663.82 C172.72,643.34 189,611.54 189,581 C189,349 189,349 189,349 C189,327.34 183.06,304.56 175.76,284.74 \" fill=\"none\" id=\"E7-&gt;E3\" style=\"stroke: #A80036; stroke-width: 1.0;\"/><polygon fill=\"#FFFFFF\" points=\"168.18,266.05,181.8034,281.0301,168.8283,286.2881,168.18,266.05\" style=\"stroke: #A80036; stroke-width: 1.0;\"/><ellipse cx=\"182.0906\" cy=\"287.0639\" fill=\"#A80036\" rx=\"2\" ry=\"2\" style=\"stroke: #A80036; stroke-width: 1.0;\"/><ellipse cx=\"172.8227\" cy=\"290.8196\" fill=\"#A80036\" rx=\"2\" ry=\"2\" style=\"stroke: #A80036; stroke-width: 1.0;\"/></a><!--MD5=[3f50a3473f1dfb74d3f76443e03635af]\n",
       "reverse link E6 to E7--><a href=\"psysml:7f7b610c-5cf3-4f1d-92e7-984e3817e328\" target=\"_top\" title=\"psysml:7f7b610c-5cf3-4f1d-92e7-984e3817e328\" xlink:actuate=\"onRequest\" xlink:href=\"psysml:7f7b610c-5cf3-4f1d-92e7-984e3817e328\" xlink:show=\"new\" xlink:title=\"psysml:7f7b610c-5cf3-4f1d-92e7-984e3817e328\" xlink:type=\"simple\"><path d=\"M127.34,616.05 C131.08,631.76 135.39,649.82 138.68,663.66 \" fill=\"none\" id=\"E6&lt;-E7\" style=\"stroke: #A80036; stroke-width: 1.0;\"/><polygon fill=\"#A80036\" points=\"124.24,603.01,121.7406,609.7741,127.023,614.6828,129.5224,607.9187,124.24,603.01\" style=\"stroke: #A80036; stroke-width: 1.0;\"/></a><!--MD5=[dfaffb906826c3e5aca635516100ff21]\n",
       "link E5 to E8--><a href=\"psysml:8f4ff897-72ba-4249-b35c-9a7192bde9f3\" target=\"_top\" title=\"psysml:8f4ff897-72ba-4249-b35c-9a7192bde9f3\" xlink:actuate=\"onRequest\" xlink:href=\"psysml:8f4ff897-72ba-4249-b35c-9a7192bde9f3\" xlink:show=\"new\" xlink:title=\"psysml:8f4ff897-72ba-4249-b35c-9a7192bde9f3\" xlink:type=\"simple\"><path d=\"M66.84,373.01 C74.79,385.67 85.02,401.94 94.31,416.72 \" fill=\"none\" id=\"E5-&gt;E8\" style=\"stroke: #A80036; stroke-width: 1.0;\"/><polygon fill=\"#FFFFFF\" points=\"104.96,433.66,88.9212,421.3005,100.7735,413.8491,104.96,433.66\" style=\"stroke: #A80036; stroke-width: 1.0;\"/><ellipse cx=\"87.5806\" cy=\"415.4104\" fill=\"#A80036\" rx=\"2\" ry=\"2\" style=\"stroke: #A80036; stroke-width: 1.0;\"/><ellipse cx=\"96.0465\" cy=\"410.088\" fill=\"#A80036\" rx=\"2\" ry=\"2\" style=\"stroke: #A80036; stroke-width: 1.0;\"/></a><!--MD5=[03c8294790d3c57651a1993cecff665f]\n",
       "reverse link E8 to E3--><a href=\"psysml:44d9af1e-71a6-403b-81da-6292c3b1f2cb\" target=\"_top\" title=\"psysml:44d9af1e-71a6-403b-81da-6292c3b1f2cb\" xlink:actuate=\"onRequest\" xlink:href=\"psysml:44d9af1e-71a6-403b-81da-6292c3b1f2cb\" xlink:show=\"new\" xlink:title=\"psysml:44d9af1e-71a6-403b-81da-6292c3b1f2cb\" xlink:type=\"simple\"><path d=\"M123.65,420.81 C129.2,378.86 138.42,309.06 144.08,266.23 \" fill=\"none\" id=\"E8&lt;-E3\" style=\"stroke: #A80036; stroke-width: 1.0;\"/><polygon fill=\"#FFFFFF\" points=\"121.92,433.89,126.6755,428.4692,123.5008,421.9946,118.7453,427.4154,121.92,433.89\" style=\"stroke: #A80036; stroke-width: 1.0;\"/><text fill=\"#000000\" font-family=\"sans-serif\" font-size=\"13\" lengthAdjust=\"spacingAndGlyphs\" textLength=\"7\" x=\"136\" y=\"354.5669\">y</text></a><!--MD5=[0d75d2178373a6a4568e5dc728f58aef]\n",
       "reverse link E8 to E6--><a href=\"psysml:44d9af1e-71a6-403b-81da-6292c3b1f2cb\" target=\"_top\" title=\"psysml:44d9af1e-71a6-403b-81da-6292c3b1f2cb\" xlink:actuate=\"onRequest\" xlink:href=\"psysml:44d9af1e-71a6-403b-81da-6292c3b1f2cb\" xlink:show=\"new\" xlink:title=\"psysml:44d9af1e-71a6-403b-81da-6292c3b1f2cb\" xlink:type=\"simple\"><path d=\"M119,493.22 C119,513.81 119,539.16 119,556.95 \" fill=\"none\" id=\"E8&lt;-E6\" style=\"stroke: #A80036; stroke-width: 1.0;\"/><polygon fill=\"#FFFFFF\" points=\"119,480.19,115,486.19,119,492.19,123,486.19,119,480.19\" style=\"stroke: #A80036; stroke-width: 1.0;\"/><text fill=\"#000000\" font-family=\"sans-serif\" font-size=\"13\" lengthAdjust=\"spacingAndGlyphs\" textLength=\"7\" x=\"120\" y=\"523.0669\">y</text></a><!--MD5=[2a9b706b6d2003f6264e272bb97bee9c]\n",
       "@startuml\r\n",
       "skinparam wrapWidth 300\r\n",
       "hide circle\r\n",
       "\r\n",
       "package \"ItemTest\" as E1  [[psysml:75fb623a-e350-4a47-9f82-c4d20b2b5b80 ]]  {\r\n",
       "comp usage \"f: A\" as E2  <<(T,blue)item>> [[psysml:d8a17efa-9aba-4cd7-b18a-68f8ed4c599b ]] {\r\n",
       "}\r\n",
       "comp def \"A\" as E3  <<(T,blue)item def>> [[psysml:30552314-ef8a-4f2d-b223-fa6e862cb5b8 ]] {\r\n",
       "- - items - -\r\n",
       "b: B\r\n",
       "}\r\n",
       "comp usage \"c: C\" as E5  <<(T,blue)part>> [[psysml:cb0fe327-dda6-4eae-9e46-1ce946f22982 ]] {\r\n",
       "}\r\n",
       "comp def \"B\" as E6  <<(T,blue)item def>> [[psysml:0c776550-23a6-42b8-908b-320a74e2d4ee ]] {\r\n",
       "}\r\n",
       "comp usage \"a: A\" as E7  <<(T,blue)part>> [[psysml:7f7b610c-5cf3-4f1d-92e7-984e3817e328 ]] {\r\n",
       "}\r\n",
       "comp def \"C\" as E8  <<(T,blue)part def>> [[psysml:3f3cfa4e-9100-4bf2-8dae-183ab53e5ac5 ]] {\r\n",
       "}\r\n",
       "comp def \"P\" as E9  <<(T,blue)port def>> [[psysml:b18b87fb-d7bd-4905-b0cb-818d68f57f75 ]] {\r\n",
       "- - items - -\r\n",
       "a1: A\r\n",
       "a2: A\r\n",
       "}\r\n",
       "E2 - -:|> E3 [[psysml:cbc83e8e-35d8-4884-92a4-03d9c321669a ]] \r\n",
       "E3 o- - E5 [[psysml:cb0fe327-dda6-4eae-9e46-1ce946f22982 ]] \r\n",
       "E7 - -:|> E3 [[psysml:b2ac9add-d533-4cc3-a1ec-28b279e4ff39 ]] \r\n",
       "E6 *- - E7 [[psysml:7f7b610c-5cf3-4f1d-92e7-984e3817e328 ]] \r\n",
       "E5 - -:|> E8 [[psysml:8f4ff897-72ba-4249-b35c-9a7192bde9f3 ]] \r\n",
       "E8 o- - E3 [[psysml:44d9af1e-71a6-403b-81da-6292c3b1f2cb ]] : y\r\n",
       "E8 o- - E6 [[psysml:44d9af1e-71a6-403b-81da-6292c3b1f2cb ]] : y\r\n",
       "}\r\n",
       "@enduml\r\n",
       "\n",
       "PlantUML version 1.2020.13(Sat Jun 13 12:26:38 UTC 2020)\n",
       "(EPL source distribution)\n",
       "Java Runtime: OpenJDK Runtime Environment\n",
       "JVM: OpenJDK 64-Bit Server VM\n",
       "Default Encoding: UTF-8\n",
       "Language: en\n",
       "Country: null\n",
       "--></g></svg>"
      ]
     },
     "execution_count": 29,
     "metadata": {},
     "output_type": "execute_result"
    }
   ],
   "source": [
    "%viz --style=\"STDCOLOR\" --view=\"MIXED\" \"ItemTest\""
   ]
  },
  {
   "cell_type": "code",
   "execution_count": 30,
   "id": "bibliographic-boating",
   "metadata": {
    "execution": {
     "iopub.execute_input": "2021-03-26T12:12:06.898589Z",
     "iopub.status.busy": "2021-03-26T12:12:06.897862Z",
     "iopub.status.idle": "2021-03-26T12:12:06.978039Z",
     "shell.execute_reply": "2021-03-26T12:12:06.976591Z"
    }
   },
   "outputs": [
    {
     "data": {
      "image/svg+xml": [
       "<?xml version=\"1.0\" encoding=\"UTF-8\" standalone=\"no\"?><svg xmlns=\"http://www.w3.org/2000/svg\" xmlns:xlink=\"http://www.w3.org/1999/xlink\" contentScriptType=\"application/ecmascript\" contentStyleType=\"text/css\" height=\"720px\" preserveAspectRatio=\"none\" style=\"width:254px;height:720px;\" version=\"1.1\" viewBox=\"0 0 254 720\" width=\"254px\" zoomAndPan=\"magnify\"><defs><filter height=\"300%\" id=\"f1xberwt9zqb3q\" width=\"300%\" x=\"-1\" y=\"-1\"><feGaussianBlur result=\"blurOut\" stdDeviation=\"2.0\"/><feColorMatrix in=\"blurOut\" result=\"blurOut2\" type=\"matrix\" values=\"0 0 0 0 0 0 0 0 0 0 0 0 0 0 0 0 0 0 .4 0\"/><feOffset dx=\"4.0\" dy=\"4.0\" in=\"blurOut2\" result=\"blurOut3\"/><feBlend in=\"SourceGraphic\" in2=\"blurOut3\" mode=\"normal\"/></filter></defs><g><!--MD5=[fbc87193dbaf4d95561dea2c320d4a47]\n",
       "cluster E1--><a href=\"psysml:75fb623a-e350-4a47-9f82-c4d20b2b5b80\" target=\"_top\" title=\"psysml:75fb623a-e350-4a47-9f82-c4d20b2b5b80\" xlink:actuate=\"onRequest\" xlink:href=\"psysml:75fb623a-e350-4a47-9f82-c4d20b2b5b80\" xlink:show=\"new\" xlink:title=\"psysml:75fb623a-e350-4a47-9f82-c4d20b2b5b80\" xlink:type=\"simple\"><polygon fill=\"#FFFFFF\" filter=\"url(#f1xberwt9zqb3q)\" points=\"16,6,91,6,98,28.2969,232,28.2969,232,708,16,708,16,6\" style=\"stroke: #000000; stroke-width: 1.5;\"/><line style=\"stroke: #000000; stroke-width: 1.5;\" x1=\"16\" x2=\"98\" y1=\"28.2969\" y2=\"28.2969\"/><text fill=\"#000000\" font-family=\"sans-serif\" font-size=\"14\" font-weight=\"bold\" lengthAdjust=\"spacingAndGlyphs\" textLength=\"69\" x=\"20\" y=\"20.9951\">ItemTest</text></a><!--MD5=[b4997ac47864f28c2f74865a473b2911]\n",
       "class E2--><a href=\"psysml:d8a17efa-9aba-4cd7-b18a-68f8ed4c599b\" target=\"_top\" title=\"psysml:d8a17efa-9aba-4cd7-b18a-68f8ed4c599b\" xlink:actuate=\"onRequest\" xlink:href=\"psysml:d8a17efa-9aba-4cd7-b18a-68f8ed4c599b\" xlink:show=\"new\" xlink:title=\"psysml:d8a17efa-9aba-4cd7-b18a-68f8ed4c599b\" xlink:type=\"simple\"><rect fill=\"#FEFECE\" filter=\"url(#f1xberwt9zqb3q)\" height=\"40\" id=\"E2\" rx=\"10\" ry=\"10\" style=\"stroke: #A80036; stroke-width: 1.5;\" width=\"52\" x=\"159\" y=\"65\"/><ellipse cx=\"174\" cy=\"81\" fill=\"#32CD32\" rx=\"11\" ry=\"11\" style=\"stroke: #A80036; stroke-width: 1.0;\"/><path d=\"M173.7969,76.6719 L173.7969,80.2969 L174.7969,80.2969 Q176,80.2969 176.4844,79.8906 Q176.9688,79.4844 176.9688,78.4844 Q176.9688,77.4844 176.4844,77.0781 Q176,76.6719 174.7969,76.6719 L173.7969,76.6719 Z M171.3438,74.6094 L174.7031,74.6094 Q177.2656,74.6094 178.3906,75.5313 Q179.5156,76.4375 179.5156,78.4844 Q179.5156,80.5313 178.3906,81.4531 Q177.2656,82.3594 174.7031,82.3594 L173.7969,82.3594 L173.7969,87 L171.3438,87 L171.3438,74.6094 Z \"/><text fill=\"#000000\" font-family=\"sans-serif\" font-size=\"12\" lengthAdjust=\"spacingAndGlyphs\" textLength=\"20\" x=\"188\" y=\"85.1543\">f: A</text><line style=\"stroke: #A80036; stroke-width: 1.5;\" x1=\"160\" x2=\"210\" y1=\"97\" y2=\"97\"/></a><!--MD5=[09b614a08d8cba4a07c9adeb5e0fee81]\n",
       "class E3--><a href=\"psysml:30552314-ef8a-4f2d-b223-fa6e862cb5b8\" target=\"_top\" title=\"psysml:30552314-ef8a-4f2d-b223-fa6e862cb5b8\" xlink:actuate=\"onRequest\" xlink:href=\"psysml:30552314-ef8a-4f2d-b223-fa6e862cb5b8\" xlink:show=\"new\" xlink:title=\"psysml:30552314-ef8a-4f2d-b223-fa6e862cb5b8\" xlink:type=\"simple\"><rect fill=\"#FEFECE\" filter=\"url(#f1xberwt9zqb3q)\" height=\"69.6094\" id=\"E3\" style=\"stroke: #A80036; stroke-width: 1.5;\" width=\"40\" x=\"154\" y=\"190\"/><ellipse cx=\"169\" cy=\"206\" fill=\"#008000\" rx=\"11\" ry=\"11\" style=\"stroke: #A80036; stroke-width: 1.0;\"/><path d=\"M167.9063,206.375 L167.9063,210.0469 L169.5313,210.0469 Q170.7031,210.0469 171.1719,209.6563 Q171.6406,209.25 171.6406,208.25 Q171.6406,207.25 171.1406,206.8125 Q170.6563,206.375 169.5313,206.375 L167.9063,206.375 Z M167.9063,201.5469 L167.9063,204.4219 L169.5313,204.4219 Q170.4531,204.4219 170.8438,204.0938 Q171.25,203.75 171.25,203 Q171.25,202.2344 170.8438,201.8906 Q170.4375,201.5469 169.5313,201.5469 L167.9063,201.5469 Z M165.5313,199.5938 L169.5313,199.5938 Q171.5938,199.5938 172.6406,200.375 Q173.6875,201.1563 173.6875,202.7188 Q173.6875,203.9219 173.0625,204.5938 Q172.4531,205.2656 171.2656,205.375 Q172.6875,205.5156 173.4063,206.3281 Q174.125,207.1406 174.125,208.5938 Q174.125,210.3906 173.0469,211.2031 Q171.9688,212 169.5313,212 L165.5313,212 L165.5313,199.5938 Z \"/><text fill=\"#000000\" font-family=\"sans-serif\" font-size=\"12\" lengthAdjust=\"spacingAndGlyphs\" textLength=\"8\" x=\"183\" y=\"210.1543\">A</text><line style=\"stroke: #A80036; stroke-width: 1.5;\" x1=\"155\" x2=\"193\" y1=\"222\" y2=\"222\"/><text fill=\"#000000\" font-family=\"sans-serif\" font-size=\"11\" lengthAdjust=\"spacingAndGlyphs\" textLength=\"23\" x=\"160\" y=\"253.0151\">b: B</text><line style=\"stroke: #A80036; stroke-width: 1.0;\" x1=\"155\" x2=\"158\" y1=\"236.4023\" y2=\"236.4023\"/><text fill=\"#000000\" font-family=\"sans-serif\" font-size=\"11\" lengthAdjust=\"spacingAndGlyphs\" textLength=\"32\" x=\"158\" y=\"239.7104\">items</text><line style=\"stroke: #A80036; stroke-width: 1.0;\" x1=\"190\" x2=\"193\" y1=\"236.4023\" y2=\"236.4023\"/></a><!--MD5=[270fce915f116d4de14055a7c1d9a0f3]\n",
       "class E5--><a href=\"psysml:cb0fe327-dda6-4eae-9e46-1ce946f22982\" target=\"_top\" title=\"psysml:cb0fe327-dda6-4eae-9e46-1ce946f22982\" xlink:actuate=\"onRequest\" xlink:href=\"psysml:cb0fe327-dda6-4eae-9e46-1ce946f22982\" xlink:show=\"new\" xlink:title=\"psysml:cb0fe327-dda6-4eae-9e46-1ce946f22982\" xlink:type=\"simple\"><rect fill=\"#FEFECE\" filter=\"url(#f1xberwt9zqb3q)\" height=\"45.9375\" id=\"E5\" rx=\"10\" ry=\"10\" style=\"stroke: #A80036; stroke-width: 1.5;\" width=\"68\" x=\"32\" y=\"321\"/><ellipse cx=\"47\" cy=\"339.9688\" fill=\"#32CD32\" rx=\"11\" ry=\"11\" style=\"stroke: #A80036; stroke-width: 1.0;\"/><path d=\"M46.7969,335.6406 L46.7969,339.2656 L47.7969,339.2656 Q49,339.2656 49.4844,338.8594 Q49.9688,338.4531 49.9688,337.4531 Q49.9688,336.4531 49.4844,336.0469 Q49,335.6406 47.7969,335.6406 L46.7969,335.6406 Z M44.3438,333.5781 L47.7031,333.5781 Q50.2656,333.5781 51.3906,334.5 Q52.5156,335.4063 52.5156,337.4531 Q52.5156,339.5 51.3906,340.4219 Q50.2656,341.3281 47.7031,341.3281 L46.7969,341.3281 L46.7969,345.9688 L44.3438,345.9688 L44.3438,333.5781 Z \"/><text fill=\"#000000\" font-family=\"sans-serif\" font-size=\"12\" font-style=\"italic\" lengthAdjust=\"spacingAndGlyphs\" textLength=\"40\" x=\"59\" y=\"337.1387\">«part»</text><text fill=\"#000000\" font-family=\"sans-serif\" font-size=\"12\" lengthAdjust=\"spacingAndGlyphs\" textLength=\"23\" x=\"67.5\" y=\"351.1074\">c: C</text><line style=\"stroke: #A80036; stroke-width: 1.5;\" x1=\"33\" x2=\"99\" y1=\"358.9375\" y2=\"358.9375\"/></a><!--MD5=[60a26617385b1d2d0262a64233df1f8d]\n",
       "class E6--><a href=\"psysml:0c776550-23a6-42b8-908b-320a74e2d4ee\" target=\"_top\" title=\"psysml:0c776550-23a6-42b8-908b-320a74e2d4ee\" xlink:actuate=\"onRequest\" xlink:href=\"psysml:0c776550-23a6-42b8-908b-320a74e2d4ee\" xlink:show=\"new\" xlink:title=\"psysml:0c776550-23a6-42b8-908b-320a74e2d4ee\" xlink:type=\"simple\"><rect fill=\"#FEFECE\" filter=\"url(#f1xberwt9zqb3q)\" height=\"40\" id=\"E6\" style=\"stroke: #A80036; stroke-width: 1.5;\" width=\"40\" x=\"139\" y=\"545\"/><ellipse cx=\"154\" cy=\"561\" fill=\"#008000\" rx=\"11\" ry=\"11\" style=\"stroke: #A80036; stroke-width: 1.0;\"/><path d=\"M152.9063,561.375 L152.9063,565.0469 L154.5313,565.0469 Q155.7031,565.0469 156.1719,564.6563 Q156.6406,564.25 156.6406,563.25 Q156.6406,562.25 156.1406,561.8125 Q155.6563,561.375 154.5313,561.375 L152.9063,561.375 Z M152.9063,556.5469 L152.9063,559.4219 L154.5313,559.4219 Q155.4531,559.4219 155.8438,559.0938 Q156.25,558.75 156.25,558 Q156.25,557.2344 155.8438,556.8906 Q155.4375,556.5469 154.5313,556.5469 L152.9063,556.5469 Z M150.5313,554.5938 L154.5313,554.5938 Q156.5938,554.5938 157.6406,555.375 Q158.6875,556.1563 158.6875,557.7188 Q158.6875,558.9219 158.0625,559.5938 Q157.4531,560.2656 156.2656,560.375 Q157.6875,560.5156 158.4063,561.3281 Q159.125,562.1406 159.125,563.5938 Q159.125,565.3906 158.0469,566.2031 Q156.9688,567 154.5313,567 L150.5313,567 L150.5313,554.5938 Z \"/><text fill=\"#000000\" font-family=\"sans-serif\" font-size=\"12\" lengthAdjust=\"spacingAndGlyphs\" textLength=\"8\" x=\"168\" y=\"565.1543\">B</text><line style=\"stroke: #A80036; stroke-width: 1.5;\" x1=\"140\" x2=\"178\" y1=\"577\" y2=\"577\"/></a><!--MD5=[2156ba9850f5573cc1fc38a6a4b2f02b]\n",
       "class E7--><a href=\"psysml:7f7b610c-5cf3-4f1d-92e7-984e3817e328\" target=\"_top\" title=\"psysml:7f7b610c-5cf3-4f1d-92e7-984e3817e328\" xlink:actuate=\"onRequest\" xlink:href=\"psysml:7f7b610c-5cf3-4f1d-92e7-984e3817e328\" xlink:show=\"new\" xlink:title=\"psysml:7f7b610c-5cf3-4f1d-92e7-984e3817e328\" xlink:type=\"simple\"><rect fill=\"#FEFECE\" filter=\"url(#f1xberwt9zqb3q)\" height=\"45.9375\" id=\"E7\" rx=\"10\" ry=\"10\" style=\"stroke: #A80036; stroke-width: 1.5;\" width=\"68\" x=\"137\" y=\"646\"/><ellipse cx=\"152\" cy=\"664.9688\" fill=\"#32CD32\" rx=\"11\" ry=\"11\" style=\"stroke: #A80036; stroke-width: 1.0;\"/><path d=\"M151.7969,660.6406 L151.7969,664.2656 L152.7969,664.2656 Q154,664.2656 154.4844,663.8594 Q154.9688,663.4531 154.9688,662.4531 Q154.9688,661.4531 154.4844,661.0469 Q154,660.6406 152.7969,660.6406 L151.7969,660.6406 Z M149.3438,658.5781 L152.7031,658.5781 Q155.2656,658.5781 156.3906,659.5 Q157.5156,660.4063 157.5156,662.4531 Q157.5156,664.5 156.3906,665.4219 Q155.2656,666.3281 152.7031,666.3281 L151.7969,666.3281 L151.7969,670.9688 L149.3438,670.9688 L149.3438,658.5781 Z \"/><text fill=\"#000000\" font-family=\"sans-serif\" font-size=\"12\" font-style=\"italic\" lengthAdjust=\"spacingAndGlyphs\" textLength=\"40\" x=\"164\" y=\"662.1387\">«part»</text><text fill=\"#000000\" font-family=\"sans-serif\" font-size=\"12\" lengthAdjust=\"spacingAndGlyphs\" textLength=\"24\" x=\"172\" y=\"676.1074\">a: A</text><line style=\"stroke: #A80036; stroke-width: 1.5;\" x1=\"138\" x2=\"204\" y1=\"683.9375\" y2=\"683.9375\"/></a><!--MD5=[b9389687b975829384b498ac4b7476b2]\n",
       "class E8--><a href=\"psysml:3f3cfa4e-9100-4bf2-8dae-183ab53e5ac5\" target=\"_top\" title=\"psysml:3f3cfa4e-9100-4bf2-8dae-183ab53e5ac5\" xlink:actuate=\"onRequest\" xlink:href=\"psysml:3f3cfa4e-9100-4bf2-8dae-183ab53e5ac5\" xlink:show=\"new\" xlink:title=\"psysml:3f3cfa4e-9100-4bf2-8dae-183ab53e5ac5\" xlink:type=\"simple\"><rect fill=\"#FEFECE\" filter=\"url(#f1xberwt9zqb3q)\" height=\"40\" id=\"E8\" style=\"stroke: #A80036; stroke-width: 1.5;\" width=\"40\" x=\"139\" y=\"428\"/><ellipse cx=\"154\" cy=\"444\" fill=\"#008000\" rx=\"11\" ry=\"11\" style=\"stroke: #A80036; stroke-width: 1.0;\"/><path d=\"M152.9063,444.375 L152.9063,448.0469 L154.5313,448.0469 Q155.7031,448.0469 156.1719,447.6563 Q156.6406,447.25 156.6406,446.25 Q156.6406,445.25 156.1406,444.8125 Q155.6563,444.375 154.5313,444.375 L152.9063,444.375 Z M152.9063,439.5469 L152.9063,442.4219 L154.5313,442.4219 Q155.4531,442.4219 155.8438,442.0938 Q156.25,441.75 156.25,441 Q156.25,440.2344 155.8438,439.8906 Q155.4375,439.5469 154.5313,439.5469 L152.9063,439.5469 Z M150.5313,437.5938 L154.5313,437.5938 Q156.5938,437.5938 157.6406,438.375 Q158.6875,439.1563 158.6875,440.7188 Q158.6875,441.9219 158.0625,442.5938 Q157.4531,443.2656 156.2656,443.375 Q157.6875,443.5156 158.4063,444.3281 Q159.125,445.1406 159.125,446.5938 Q159.125,448.3906 158.0469,449.2031 Q156.9688,450 154.5313,450 L150.5313,450 L150.5313,437.5938 Z \"/><text fill=\"#000000\" font-family=\"sans-serif\" font-size=\"12\" lengthAdjust=\"spacingAndGlyphs\" textLength=\"8\" x=\"168\" y=\"448.1543\">C</text><line style=\"stroke: #A80036; stroke-width: 1.5;\" x1=\"140\" x2=\"178\" y1=\"460\" y2=\"460\"/></a><!--MD5=[fd4143e9d270a159db93a4ea2a975926]\n",
       "class E9--><a href=\"psysml:b18b87fb-d7bd-4905-b0cb-818d68f57f75\" target=\"_top\" title=\"psysml:b18b87fb-d7bd-4905-b0cb-818d68f57f75\" xlink:actuate=\"onRequest\" xlink:href=\"psysml:b18b87fb-d7bd-4905-b0cb-818d68f57f75\" xlink:show=\"new\" xlink:title=\"psysml:b18b87fb-d7bd-4905-b0cb-818d68f57f75\" xlink:type=\"simple\"><rect fill=\"#FEFECE\" filter=\"url(#f1xberwt9zqb3q)\" height=\"88.3516\" id=\"E9\" style=\"stroke: #A80036; stroke-width: 1.5;\" width=\"92\" x=\"32\" y=\"41\"/><ellipse cx=\"47\" cy=\"59.9688\" fill=\"#A52A2A\" rx=\"11\" ry=\"11\" style=\"stroke: #A80036; stroke-width: 1.0;\"/><path d=\"M46.5938,55.7813 L46.5938,63.7656 L47.25,63.7656 Q48.6875,63.7656 49.2969,62.8594 Q49.9219,61.9375 49.9219,59.7656 Q49.9219,57.5938 49.2969,56.6875 Q48.6875,55.7813 47.25,55.7813 L46.5938,55.7813 Z M44.1406,53.5781 L46.7656,53.5781 Q49.7969,53.5781 51.125,55.0313 Q52.4688,56.4688 52.4688,59.7656 Q52.4688,63.0625 51.125,64.5156 Q49.7969,65.9688 46.7656,65.9688 L44.1406,65.9688 L44.1406,53.5781 Z \"/><text fill=\"#000000\" font-family=\"sans-serif\" font-size=\"12\" font-style=\"italic\" lengthAdjust=\"spacingAndGlyphs\" textLength=\"64\" x=\"59\" y=\"57.1387\">«port def»</text><text fill=\"#000000\" font-family=\"sans-serif\" font-size=\"12\" lengthAdjust=\"spacingAndGlyphs\" textLength=\"8\" x=\"87\" y=\"71.1074\">P</text><line style=\"stroke: #A80036; stroke-width: 1.5;\" x1=\"33\" x2=\"123\" y1=\"78.9375\" y2=\"78.9375\"/><text fill=\"#000000\" font-family=\"sans-serif\" font-size=\"11\" lengthAdjust=\"spacingAndGlyphs\" textLength=\"29\" x=\"38\" y=\"109.9526\">a1: A</text><text fill=\"#000000\" font-family=\"sans-serif\" font-size=\"11\" lengthAdjust=\"spacingAndGlyphs\" textLength=\"29\" x=\"38\" y=\"122.7573\">a2: A</text><line style=\"stroke: #A80036; stroke-width: 1.0;\" x1=\"33\" x2=\"62\" y1=\"93.3398\" y2=\"93.3398\"/><text fill=\"#000000\" font-family=\"sans-serif\" font-size=\"11\" lengthAdjust=\"spacingAndGlyphs\" textLength=\"32\" x=\"62\" y=\"96.6479\">items</text><line style=\"stroke: #A80036; stroke-width: 1.0;\" x1=\"94\" x2=\"123\" y1=\"93.3398\" y2=\"93.3398\"/></a><!--MD5=[2720a5a1f2c3fca2055b230370638851]\n",
       "link E2 to E3--><a href=\"psysml:cbc83e8e-35d8-4884-92a4-03d9c321669a\" target=\"_top\" title=\"psysml:cbc83e8e-35d8-4884-92a4-03d9c321669a\" xlink:actuate=\"onRequest\" xlink:href=\"psysml:cbc83e8e-35d8-4884-92a4-03d9c321669a\" xlink:show=\"new\" xlink:title=\"psysml:cbc83e8e-35d8-4884-92a4-03d9c321669a\" xlink:type=\"simple\"><path d=\"M183.47,105.19 C182.14,121.92 180.14,147.01 178.32,169.82 \" fill=\"none\" id=\"E2-&gt;E3\" style=\"stroke: #A80036; stroke-width: 1.0;\"/><polygon fill=\"#FFFFFF\" points=\"176.72,189.84,171.2619,170.341,185.2171,171.4607,176.72,189.84\" style=\"stroke: #A80036; stroke-width: 1.0;\"/><ellipse cx=\"173.7113\" cy=\"164.8193\" fill=\"#A80036\" rx=\"2\" ry=\"2\" style=\"stroke: #A80036; stroke-width: 1.0;\"/><ellipse cx=\"183.6793\" cy=\"165.619\" fill=\"#A80036\" rx=\"2\" ry=\"2\" style=\"stroke: #A80036; stroke-width: 1.0;\"/></a><!--MD5=[191cde3d490a3f6d7bb551fe3ddca469]\n",
       "reverse link E3 to E5--><a href=\"psysml:cb0fe327-dda6-4eae-9e46-1ce946f22982\" target=\"_top\" title=\"psysml:cb0fe327-dda6-4eae-9e46-1ce946f22982\" xlink:actuate=\"onRequest\" xlink:href=\"psysml:cb0fe327-dda6-4eae-9e46-1ce946f22982\" xlink:show=\"new\" xlink:title=\"psysml:cb0fe327-dda6-4eae-9e46-1ce946f22982\" xlink:type=\"simple\"><path d=\"M145.03,257.38 C126.49,277.47 102.88,303.04 86.32,320.99 \" fill=\"none\" id=\"E3&lt;-E5\" style=\"stroke: #A80036; stroke-width: 1.0;\"/><polygon fill=\"#FFFFFF\" points=\"153.94,247.73,146.9306,249.4235,145.7979,256.5451,152.8073,254.8516,153.94,247.73\" style=\"stroke: #A80036; stroke-width: 1.0;\"/></a><!--MD5=[14ccda38c055a5c0da953d572bc50960]\n",
       "link E7 to E3--><a href=\"psysml:b2ac9add-d533-4cc3-a1ec-28b279e4ff39\" target=\"_top\" title=\"psysml:b2ac9add-d533-4cc3-a1ec-28b279e4ff39\" xlink:actuate=\"onRequest\" xlink:href=\"psysml:b2ac9add-d533-4cc3-a1ec-28b279e4ff39\" xlink:show=\"new\" xlink:title=\"psysml:b2ac9add-d533-4cc3-a1ec-28b279e4ff39\" xlink:type=\"simple\"><path d=\"M186.89,645.69 C199.49,625.78 215,595.31 215,566 C215,343 215,343 215,343 C215,321.21 208.59,298.35 200.83,278.68 \" fill=\"none\" id=\"E7-&gt;E3\" style=\"stroke: #A80036; stroke-width: 1.0;\"/><polygon fill=\"#FFFFFF\" points=\"192.82,260.23,206.8032,274.8748,193.9596,280.4464,192.82,260.23\" style=\"stroke: #A80036; stroke-width: 1.0;\"/><ellipse cx=\"207.2368\" cy=\"280.8999\" fill=\"#A80036\" rx=\"2\" ry=\"2\" style=\"stroke: #A80036; stroke-width: 1.0;\"/><ellipse cx=\"198.0628\" cy=\"284.8796\" fill=\"#A80036\" rx=\"2\" ry=\"2\" style=\"stroke: #A80036; stroke-width: 1.0;\"/></a><!--MD5=[3f50a3473f1dfb74d3f76443e03635af]\n",
       "reverse link E6 to E7--><a href=\"psysml:7f7b610c-5cf3-4f1d-92e7-984e3817e328\" target=\"_top\" title=\"psysml:7f7b610c-5cf3-4f1d-92e7-984e3817e328\" xlink:actuate=\"onRequest\" xlink:href=\"psysml:7f7b610c-5cf3-4f1d-92e7-984e3817e328\" xlink:show=\"new\" xlink:title=\"psysml:7f7b610c-5cf3-4f1d-92e7-984e3817e328\" xlink:type=\"simple\"><path d=\"M162.81,598.41 C164.63,613.82 166.75,631.86 168.38,645.7 \" fill=\"none\" id=\"E6&lt;-E7\" style=\"stroke: #A80036; stroke-width: 1.0;\"/><polygon fill=\"#A80036\" points=\"161.26,585.19,157.9938,591.619,162.672,597.1066,165.9382,590.6776,161.26,585.19\" style=\"stroke: #A80036; stroke-width: 1.0;\"/></a><!--MD5=[dfaffb906826c3e5aca635516100ff21]\n",
       "link E5 to E8--><a href=\"psysml:8f4ff897-72ba-4249-b35c-9a7192bde9f3\" target=\"_top\" title=\"psysml:8f4ff897-72ba-4249-b35c-9a7192bde9f3\" xlink:actuate=\"onRequest\" xlink:href=\"psysml:8f4ff897-72ba-4249-b35c-9a7192bde9f3\" xlink:show=\"new\" xlink:title=\"psysml:8f4ff897-72ba-4249-b35c-9a7192bde9f3\" xlink:type=\"simple\"><path d=\"M86.18,367.13 C98.34,380.47 114.08,397.74 127.82,412.8 \" fill=\"none\" id=\"E5-&gt;E8\" style=\"stroke: #A80036; stroke-width: 1.0;\"/><polygon fill=\"#FFFFFF\" points=\"141.67,428,123.6993,418.6697,134.0481,409.2408,141.67,428\" style=\"stroke: #A80036; stroke-width: 1.0;\"/><ellipse cx=\"121.3388\" cy=\"413.1093\" fill=\"#A80036\" rx=\"2\" ry=\"2\" style=\"stroke: #A80036; stroke-width: 1.0;\"/><ellipse cx=\"128.7308\" cy=\"406.3744\" fill=\"#A80036\" rx=\"2\" ry=\"2\" style=\"stroke: #A80036; stroke-width: 1.0;\"/></a><!--MD5=[03c8294790d3c57651a1993cecff665f]\n",
       "reverse link E8 to E3--><a href=\"psysml:44d9af1e-71a6-403b-81da-6292c3b1f2cb\" target=\"_top\" title=\"psysml:44d9af1e-71a6-403b-81da-6292c3b1f2cb\" xlink:actuate=\"onRequest\" xlink:href=\"psysml:44d9af1e-71a6-403b-81da-6292c3b1f2cb\" xlink:show=\"new\" xlink:title=\"psysml:44d9af1e-71a6-403b-81da-6292c3b1f2cb\" xlink:type=\"simple\"><path d=\"M161.17,414.97 C163.97,373.71 168.82,302.27 171.69,260.05 \" fill=\"none\" id=\"E8&lt;-E3\" style=\"stroke: #A80036; stroke-width: 1.0;\"/><polygon fill=\"#FFFFFF\" points=\"160.29,427.97,164.6894,422.2564,161.1075,415.9979,156.708,421.7114,160.29,427.97\" style=\"stroke: #A80036; stroke-width: 1.0;\"/><text fill=\"#000000\" font-family=\"sans-serif\" font-size=\"13\" lengthAdjust=\"spacingAndGlyphs\" textLength=\"7\" x=\"168\" y=\"348.5669\">y</text></a><!--MD5=[0d75d2178373a6a4568e5dc728f58aef]\n",
       "reverse link E8 to E6--><a href=\"psysml:44d9af1e-71a6-403b-81da-6292c3b1f2cb\" target=\"_top\" title=\"psysml:44d9af1e-71a6-403b-81da-6292c3b1f2cb\" xlink:actuate=\"onRequest\" xlink:href=\"psysml:44d9af1e-71a6-403b-81da-6292c3b1f2cb\" xlink:show=\"new\" xlink:title=\"psysml:44d9af1e-71a6-403b-81da-6292c3b1f2cb\" xlink:type=\"simple\"><path d=\"M159,481.36 C159,501.76 159,527.42 159,544.69 \" fill=\"none\" id=\"E8&lt;-E6\" style=\"stroke: #A80036; stroke-width: 1.0;\"/><polygon fill=\"#FFFFFF\" points=\"159,468.25,155,474.25,159,480.25,163,474.25,159,468.25\" style=\"stroke: #A80036; stroke-width: 1.0;\"/><text fill=\"#000000\" font-family=\"sans-serif\" font-size=\"13\" lengthAdjust=\"spacingAndGlyphs\" textLength=\"7\" x=\"160\" y=\"511.0669\">y</text></a><!--MD5=[366bc3a91e3cc6707f85bbb5fdae0b21]\n",
       "@startuml\r\n",
       " \r\n",
       "package \"ItemTest\" as E1  [[psysml:75fb623a-e350-4a47-9f82-c4d20b2b5b80 ]]  {\r\n",
       "comp usage \"f: A\" as E2  << (P,limegreen) >> [[psysml:d8a17efa-9aba-4cd7-b18a-68f8ed4c599b ]] {\r\n",
       "}\r\n",
       "comp def \"A\" as E3  << (B,green) >> [[psysml:30552314-ef8a-4f2d-b223-fa6e862cb5b8 ]] {\r\n",
       "- - items - -\r\n",
       "b: B\r\n",
       "}\r\n",
       "comp usage \"c: C\" as E5  << (P,limegreen) part>> [[psysml:cb0fe327-dda6-4eae-9e46-1ce946f22982 ]] {\r\n",
       "}\r\n",
       "comp def \"B\" as E6  << (B,green) >> [[psysml:0c776550-23a6-42b8-908b-320a74e2d4ee ]] {\r\n",
       "}\r\n",
       "comp usage \"a: A\" as E7  << (P,limegreen) part>> [[psysml:7f7b610c-5cf3-4f1d-92e7-984e3817e328 ]] {\r\n",
       "}\r\n",
       "comp def \"C\" as E8  << (B,green) >> [[psysml:3f3cfa4e-9100-4bf2-8dae-183ab53e5ac5 ]] {\r\n",
       "}\r\n",
       "comp def \"P\" as E9  <<(D,brown)port def>> [[psysml:b18b87fb-d7bd-4905-b0cb-818d68f57f75 ]] {\r\n",
       "- - items - -\r\n",
       "a1: A\r\n",
       "a2: A\r\n",
       "}\r\n",
       "E2 - -:|> E3 [[psysml:cbc83e8e-35d8-4884-92a4-03d9c321669a ]] \r\n",
       "E3 o- - E5 [[psysml:cb0fe327-dda6-4eae-9e46-1ce946f22982 ]] \r\n",
       "E7 - -:|> E3 [[psysml:b2ac9add-d533-4cc3-a1ec-28b279e4ff39 ]] \r\n",
       "E6 *- - E7 [[psysml:7f7b610c-5cf3-4f1d-92e7-984e3817e328 ]] \r\n",
       "E5 - -:|> E8 [[psysml:8f4ff897-72ba-4249-b35c-9a7192bde9f3 ]] \r\n",
       "E8 o- - E3 [[psysml:44d9af1e-71a6-403b-81da-6292c3b1f2cb ]] : y\r\n",
       "E8 o- - E6 [[psysml:44d9af1e-71a6-403b-81da-6292c3b1f2cb ]] : y\r\n",
       "}\r\n",
       "@enduml\r\n",
       "\n",
       "PlantUML version 1.2020.13(Sat Jun 13 12:26:38 UTC 2020)\n",
       "(EPL source distribution)\n",
       "Java Runtime: OpenJDK Runtime Environment\n",
       "JVM: OpenJDK 64-Bit Server VM\n",
       "Default Encoding: UTF-8\n",
       "Language: en\n",
       "Country: null\n",
       "--></g></svg>"
      ]
     },
     "execution_count": 30,
     "metadata": {},
     "output_type": "execute_result"
    }
   ],
   "source": [
    "%viz --style=\"PLANTUML\" --view=\"Default\" \"ItemTest\""
   ]
  },
  {
   "cell_type": "code",
   "execution_count": 31,
   "id": "valuable-cabin",
   "metadata": {
    "execution": {
     "iopub.execute_input": "2021-03-26T12:12:07.028247Z",
     "iopub.status.busy": "2021-03-26T12:12:07.027801Z",
     "iopub.status.idle": "2021-03-26T12:12:07.081406Z",
     "shell.execute_reply": "2021-03-26T12:12:07.080118Z"
    }
   },
   "outputs": [
    {
     "data": {
      "image/svg+xml": [
       "<?xml version=\"1.0\" encoding=\"UTF-8\" standalone=\"no\"?><svg xmlns=\"http://www.w3.org/2000/svg\" xmlns:xlink=\"http://www.w3.org/1999/xlink\" contentScriptType=\"application/ecmascript\" contentStyleType=\"text/css\" height=\"720px\" preserveAspectRatio=\"none\" style=\"width:254px;height:720px;\" version=\"1.1\" viewBox=\"0 0 254 720\" width=\"254px\" zoomAndPan=\"magnify\"><defs><filter height=\"300%\" id=\"f1xberwt9zqb3q\" width=\"300%\" x=\"-1\" y=\"-1\"><feGaussianBlur result=\"blurOut\" stdDeviation=\"2.0\"/><feColorMatrix in=\"blurOut\" result=\"blurOut2\" type=\"matrix\" values=\"0 0 0 0 0 0 0 0 0 0 0 0 0 0 0 0 0 0 .4 0\"/><feOffset dx=\"4.0\" dy=\"4.0\" in=\"blurOut2\" result=\"blurOut3\"/><feBlend in=\"SourceGraphic\" in2=\"blurOut3\" mode=\"normal\"/></filter></defs><g><!--MD5=[fbc87193dbaf4d95561dea2c320d4a47]\n",
       "cluster E1--><a href=\"psysml:75fb623a-e350-4a47-9f82-c4d20b2b5b80\" target=\"_top\" title=\"psysml:75fb623a-e350-4a47-9f82-c4d20b2b5b80\" xlink:actuate=\"onRequest\" xlink:href=\"psysml:75fb623a-e350-4a47-9f82-c4d20b2b5b80\" xlink:show=\"new\" xlink:title=\"psysml:75fb623a-e350-4a47-9f82-c4d20b2b5b80\" xlink:type=\"simple\"><polygon fill=\"#FFFFFF\" filter=\"url(#f1xberwt9zqb3q)\" points=\"16,6,91,6,98,28.2969,232,28.2969,232,708,16,708,16,6\" style=\"stroke: #000000; stroke-width: 1.5;\"/><line style=\"stroke: #000000; stroke-width: 1.5;\" x1=\"16\" x2=\"98\" y1=\"28.2969\" y2=\"28.2969\"/><text fill=\"#000000\" font-family=\"sans-serif\" font-size=\"14\" font-weight=\"bold\" lengthAdjust=\"spacingAndGlyphs\" textLength=\"69\" x=\"20\" y=\"20.9951\">ItemTest</text></a><!--MD5=[b4997ac47864f28c2f74865a473b2911]\n",
       "class E2--><a href=\"psysml:d8a17efa-9aba-4cd7-b18a-68f8ed4c599b\" target=\"_top\" title=\"psysml:d8a17efa-9aba-4cd7-b18a-68f8ed4c599b\" xlink:actuate=\"onRequest\" xlink:href=\"psysml:d8a17efa-9aba-4cd7-b18a-68f8ed4c599b\" xlink:show=\"new\" xlink:title=\"psysml:d8a17efa-9aba-4cd7-b18a-68f8ed4c599b\" xlink:type=\"simple\"><rect fill=\"#FEFECE\" filter=\"url(#f1xberwt9zqb3q)\" height=\"40\" id=\"E2\" rx=\"10\" ry=\"10\" style=\"stroke: #A80036; stroke-width: 1.5;\" width=\"52\" x=\"159\" y=\"65\"/><ellipse cx=\"174\" cy=\"81\" fill=\"#32CD32\" rx=\"11\" ry=\"11\" style=\"stroke: #A80036; stroke-width: 1.0;\"/><path d=\"M173.7969,76.6719 L173.7969,80.2969 L174.7969,80.2969 Q176,80.2969 176.4844,79.8906 Q176.9688,79.4844 176.9688,78.4844 Q176.9688,77.4844 176.4844,77.0781 Q176,76.6719 174.7969,76.6719 L173.7969,76.6719 Z M171.3438,74.6094 L174.7031,74.6094 Q177.2656,74.6094 178.3906,75.5313 Q179.5156,76.4375 179.5156,78.4844 Q179.5156,80.5313 178.3906,81.4531 Q177.2656,82.3594 174.7031,82.3594 L173.7969,82.3594 L173.7969,87 L171.3438,87 L171.3438,74.6094 Z \"/><text fill=\"#000000\" font-family=\"sans-serif\" font-size=\"12\" lengthAdjust=\"spacingAndGlyphs\" textLength=\"20\" x=\"188\" y=\"85.1543\">f: A</text><line style=\"stroke: #A80036; stroke-width: 1.5;\" x1=\"160\" x2=\"210\" y1=\"97\" y2=\"97\"/></a><!--MD5=[09b614a08d8cba4a07c9adeb5e0fee81]\n",
       "class E3--><a href=\"psysml:30552314-ef8a-4f2d-b223-fa6e862cb5b8\" target=\"_top\" title=\"psysml:30552314-ef8a-4f2d-b223-fa6e862cb5b8\" xlink:actuate=\"onRequest\" xlink:href=\"psysml:30552314-ef8a-4f2d-b223-fa6e862cb5b8\" xlink:show=\"new\" xlink:title=\"psysml:30552314-ef8a-4f2d-b223-fa6e862cb5b8\" xlink:type=\"simple\"><rect fill=\"#FEFECE\" filter=\"url(#f1xberwt9zqb3q)\" height=\"69.6094\" id=\"E3\" style=\"stroke: #A80036; stroke-width: 1.5;\" width=\"40\" x=\"154\" y=\"190\"/><ellipse cx=\"169\" cy=\"206\" fill=\"#008000\" rx=\"11\" ry=\"11\" style=\"stroke: #A80036; stroke-width: 1.0;\"/><path d=\"M167.9063,206.375 L167.9063,210.0469 L169.5313,210.0469 Q170.7031,210.0469 171.1719,209.6563 Q171.6406,209.25 171.6406,208.25 Q171.6406,207.25 171.1406,206.8125 Q170.6563,206.375 169.5313,206.375 L167.9063,206.375 Z M167.9063,201.5469 L167.9063,204.4219 L169.5313,204.4219 Q170.4531,204.4219 170.8438,204.0938 Q171.25,203.75 171.25,203 Q171.25,202.2344 170.8438,201.8906 Q170.4375,201.5469 169.5313,201.5469 L167.9063,201.5469 Z M165.5313,199.5938 L169.5313,199.5938 Q171.5938,199.5938 172.6406,200.375 Q173.6875,201.1563 173.6875,202.7188 Q173.6875,203.9219 173.0625,204.5938 Q172.4531,205.2656 171.2656,205.375 Q172.6875,205.5156 173.4063,206.3281 Q174.125,207.1406 174.125,208.5938 Q174.125,210.3906 173.0469,211.2031 Q171.9688,212 169.5313,212 L165.5313,212 L165.5313,199.5938 Z \"/><text fill=\"#000000\" font-family=\"sans-serif\" font-size=\"12\" lengthAdjust=\"spacingAndGlyphs\" textLength=\"8\" x=\"183\" y=\"210.1543\">A</text><line style=\"stroke: #A80036; stroke-width: 1.5;\" x1=\"155\" x2=\"193\" y1=\"222\" y2=\"222\"/><text fill=\"#000000\" font-family=\"sans-serif\" font-size=\"11\" lengthAdjust=\"spacingAndGlyphs\" textLength=\"23\" x=\"160\" y=\"253.0151\">b: B</text><line style=\"stroke: #A80036; stroke-width: 1.0;\" x1=\"155\" x2=\"158\" y1=\"236.4023\" y2=\"236.4023\"/><text fill=\"#000000\" font-family=\"sans-serif\" font-size=\"11\" lengthAdjust=\"spacingAndGlyphs\" textLength=\"32\" x=\"158\" y=\"239.7104\">items</text><line style=\"stroke: #A80036; stroke-width: 1.0;\" x1=\"190\" x2=\"193\" y1=\"236.4023\" y2=\"236.4023\"/></a><!--MD5=[270fce915f116d4de14055a7c1d9a0f3]\n",
       "class E5--><a href=\"psysml:cb0fe327-dda6-4eae-9e46-1ce946f22982\" target=\"_top\" title=\"psysml:cb0fe327-dda6-4eae-9e46-1ce946f22982\" xlink:actuate=\"onRequest\" xlink:href=\"psysml:cb0fe327-dda6-4eae-9e46-1ce946f22982\" xlink:show=\"new\" xlink:title=\"psysml:cb0fe327-dda6-4eae-9e46-1ce946f22982\" xlink:type=\"simple\"><rect fill=\"#FEFECE\" filter=\"url(#f1xberwt9zqb3q)\" height=\"45.9375\" id=\"E5\" rx=\"10\" ry=\"10\" style=\"stroke: #A80036; stroke-width: 1.5;\" width=\"68\" x=\"32\" y=\"321\"/><ellipse cx=\"47\" cy=\"339.9688\" fill=\"#32CD32\" rx=\"11\" ry=\"11\" style=\"stroke: #A80036; stroke-width: 1.0;\"/><path d=\"M46.7969,335.6406 L46.7969,339.2656 L47.7969,339.2656 Q49,339.2656 49.4844,338.8594 Q49.9688,338.4531 49.9688,337.4531 Q49.9688,336.4531 49.4844,336.0469 Q49,335.6406 47.7969,335.6406 L46.7969,335.6406 Z M44.3438,333.5781 L47.7031,333.5781 Q50.2656,333.5781 51.3906,334.5 Q52.5156,335.4063 52.5156,337.4531 Q52.5156,339.5 51.3906,340.4219 Q50.2656,341.3281 47.7031,341.3281 L46.7969,341.3281 L46.7969,345.9688 L44.3438,345.9688 L44.3438,333.5781 Z \"/><text fill=\"#000000\" font-family=\"sans-serif\" font-size=\"12\" font-style=\"italic\" lengthAdjust=\"spacingAndGlyphs\" textLength=\"40\" x=\"59\" y=\"337.1387\">«part»</text><text fill=\"#000000\" font-family=\"sans-serif\" font-size=\"12\" lengthAdjust=\"spacingAndGlyphs\" textLength=\"23\" x=\"67.5\" y=\"351.1074\">c: C</text><line style=\"stroke: #A80036; stroke-width: 1.5;\" x1=\"33\" x2=\"99\" y1=\"358.9375\" y2=\"358.9375\"/></a><!--MD5=[60a26617385b1d2d0262a64233df1f8d]\n",
       "class E6--><a href=\"psysml:0c776550-23a6-42b8-908b-320a74e2d4ee\" target=\"_top\" title=\"psysml:0c776550-23a6-42b8-908b-320a74e2d4ee\" xlink:actuate=\"onRequest\" xlink:href=\"psysml:0c776550-23a6-42b8-908b-320a74e2d4ee\" xlink:show=\"new\" xlink:title=\"psysml:0c776550-23a6-42b8-908b-320a74e2d4ee\" xlink:type=\"simple\"><rect fill=\"#FEFECE\" filter=\"url(#f1xberwt9zqb3q)\" height=\"40\" id=\"E6\" style=\"stroke: #A80036; stroke-width: 1.5;\" width=\"40\" x=\"139\" y=\"545\"/><ellipse cx=\"154\" cy=\"561\" fill=\"#008000\" rx=\"11\" ry=\"11\" style=\"stroke: #A80036; stroke-width: 1.0;\"/><path d=\"M152.9063,561.375 L152.9063,565.0469 L154.5313,565.0469 Q155.7031,565.0469 156.1719,564.6563 Q156.6406,564.25 156.6406,563.25 Q156.6406,562.25 156.1406,561.8125 Q155.6563,561.375 154.5313,561.375 L152.9063,561.375 Z M152.9063,556.5469 L152.9063,559.4219 L154.5313,559.4219 Q155.4531,559.4219 155.8438,559.0938 Q156.25,558.75 156.25,558 Q156.25,557.2344 155.8438,556.8906 Q155.4375,556.5469 154.5313,556.5469 L152.9063,556.5469 Z M150.5313,554.5938 L154.5313,554.5938 Q156.5938,554.5938 157.6406,555.375 Q158.6875,556.1563 158.6875,557.7188 Q158.6875,558.9219 158.0625,559.5938 Q157.4531,560.2656 156.2656,560.375 Q157.6875,560.5156 158.4063,561.3281 Q159.125,562.1406 159.125,563.5938 Q159.125,565.3906 158.0469,566.2031 Q156.9688,567 154.5313,567 L150.5313,567 L150.5313,554.5938 Z \"/><text fill=\"#000000\" font-family=\"sans-serif\" font-size=\"12\" lengthAdjust=\"spacingAndGlyphs\" textLength=\"8\" x=\"168\" y=\"565.1543\">B</text><line style=\"stroke: #A80036; stroke-width: 1.5;\" x1=\"140\" x2=\"178\" y1=\"577\" y2=\"577\"/></a><!--MD5=[2156ba9850f5573cc1fc38a6a4b2f02b]\n",
       "class E7--><a href=\"psysml:7f7b610c-5cf3-4f1d-92e7-984e3817e328\" target=\"_top\" title=\"psysml:7f7b610c-5cf3-4f1d-92e7-984e3817e328\" xlink:actuate=\"onRequest\" xlink:href=\"psysml:7f7b610c-5cf3-4f1d-92e7-984e3817e328\" xlink:show=\"new\" xlink:title=\"psysml:7f7b610c-5cf3-4f1d-92e7-984e3817e328\" xlink:type=\"simple\"><rect fill=\"#FEFECE\" filter=\"url(#f1xberwt9zqb3q)\" height=\"45.9375\" id=\"E7\" rx=\"10\" ry=\"10\" style=\"stroke: #A80036; stroke-width: 1.5;\" width=\"68\" x=\"137\" y=\"646\"/><ellipse cx=\"152\" cy=\"664.9688\" fill=\"#32CD32\" rx=\"11\" ry=\"11\" style=\"stroke: #A80036; stroke-width: 1.0;\"/><path d=\"M151.7969,660.6406 L151.7969,664.2656 L152.7969,664.2656 Q154,664.2656 154.4844,663.8594 Q154.9688,663.4531 154.9688,662.4531 Q154.9688,661.4531 154.4844,661.0469 Q154,660.6406 152.7969,660.6406 L151.7969,660.6406 Z M149.3438,658.5781 L152.7031,658.5781 Q155.2656,658.5781 156.3906,659.5 Q157.5156,660.4063 157.5156,662.4531 Q157.5156,664.5 156.3906,665.4219 Q155.2656,666.3281 152.7031,666.3281 L151.7969,666.3281 L151.7969,670.9688 L149.3438,670.9688 L149.3438,658.5781 Z \"/><text fill=\"#000000\" font-family=\"sans-serif\" font-size=\"12\" font-style=\"italic\" lengthAdjust=\"spacingAndGlyphs\" textLength=\"40\" x=\"164\" y=\"662.1387\">«part»</text><text fill=\"#000000\" font-family=\"sans-serif\" font-size=\"12\" lengthAdjust=\"spacingAndGlyphs\" textLength=\"24\" x=\"172\" y=\"676.1074\">a: A</text><line style=\"stroke: #A80036; stroke-width: 1.5;\" x1=\"138\" x2=\"204\" y1=\"683.9375\" y2=\"683.9375\"/></a><!--MD5=[b9389687b975829384b498ac4b7476b2]\n",
       "class E8--><a href=\"psysml:3f3cfa4e-9100-4bf2-8dae-183ab53e5ac5\" target=\"_top\" title=\"psysml:3f3cfa4e-9100-4bf2-8dae-183ab53e5ac5\" xlink:actuate=\"onRequest\" xlink:href=\"psysml:3f3cfa4e-9100-4bf2-8dae-183ab53e5ac5\" xlink:show=\"new\" xlink:title=\"psysml:3f3cfa4e-9100-4bf2-8dae-183ab53e5ac5\" xlink:type=\"simple\"><rect fill=\"#FEFECE\" filter=\"url(#f1xberwt9zqb3q)\" height=\"40\" id=\"E8\" style=\"stroke: #A80036; stroke-width: 1.5;\" width=\"40\" x=\"139\" y=\"428\"/><ellipse cx=\"154\" cy=\"444\" fill=\"#008000\" rx=\"11\" ry=\"11\" style=\"stroke: #A80036; stroke-width: 1.0;\"/><path d=\"M152.9063,444.375 L152.9063,448.0469 L154.5313,448.0469 Q155.7031,448.0469 156.1719,447.6563 Q156.6406,447.25 156.6406,446.25 Q156.6406,445.25 156.1406,444.8125 Q155.6563,444.375 154.5313,444.375 L152.9063,444.375 Z M152.9063,439.5469 L152.9063,442.4219 L154.5313,442.4219 Q155.4531,442.4219 155.8438,442.0938 Q156.25,441.75 156.25,441 Q156.25,440.2344 155.8438,439.8906 Q155.4375,439.5469 154.5313,439.5469 L152.9063,439.5469 Z M150.5313,437.5938 L154.5313,437.5938 Q156.5938,437.5938 157.6406,438.375 Q158.6875,439.1563 158.6875,440.7188 Q158.6875,441.9219 158.0625,442.5938 Q157.4531,443.2656 156.2656,443.375 Q157.6875,443.5156 158.4063,444.3281 Q159.125,445.1406 159.125,446.5938 Q159.125,448.3906 158.0469,449.2031 Q156.9688,450 154.5313,450 L150.5313,450 L150.5313,437.5938 Z \"/><text fill=\"#000000\" font-family=\"sans-serif\" font-size=\"12\" lengthAdjust=\"spacingAndGlyphs\" textLength=\"8\" x=\"168\" y=\"448.1543\">C</text><line style=\"stroke: #A80036; stroke-width: 1.5;\" x1=\"140\" x2=\"178\" y1=\"460\" y2=\"460\"/></a><!--MD5=[fd4143e9d270a159db93a4ea2a975926]\n",
       "class E9--><a href=\"psysml:b18b87fb-d7bd-4905-b0cb-818d68f57f75\" target=\"_top\" title=\"psysml:b18b87fb-d7bd-4905-b0cb-818d68f57f75\" xlink:actuate=\"onRequest\" xlink:href=\"psysml:b18b87fb-d7bd-4905-b0cb-818d68f57f75\" xlink:show=\"new\" xlink:title=\"psysml:b18b87fb-d7bd-4905-b0cb-818d68f57f75\" xlink:type=\"simple\"><rect fill=\"#FEFECE\" filter=\"url(#f1xberwt9zqb3q)\" height=\"88.3516\" id=\"E9\" style=\"stroke: #A80036; stroke-width: 1.5;\" width=\"92\" x=\"32\" y=\"41\"/><ellipse cx=\"47\" cy=\"59.9688\" fill=\"#A52A2A\" rx=\"11\" ry=\"11\" style=\"stroke: #A80036; stroke-width: 1.0;\"/><path d=\"M46.5938,55.7813 L46.5938,63.7656 L47.25,63.7656 Q48.6875,63.7656 49.2969,62.8594 Q49.9219,61.9375 49.9219,59.7656 Q49.9219,57.5938 49.2969,56.6875 Q48.6875,55.7813 47.25,55.7813 L46.5938,55.7813 Z M44.1406,53.5781 L46.7656,53.5781 Q49.7969,53.5781 51.125,55.0313 Q52.4688,56.4688 52.4688,59.7656 Q52.4688,63.0625 51.125,64.5156 Q49.7969,65.9688 46.7656,65.9688 L44.1406,65.9688 L44.1406,53.5781 Z \"/><text fill=\"#000000\" font-family=\"sans-serif\" font-size=\"12\" font-style=\"italic\" lengthAdjust=\"spacingAndGlyphs\" textLength=\"64\" x=\"59\" y=\"57.1387\">«port def»</text><text fill=\"#000000\" font-family=\"sans-serif\" font-size=\"12\" lengthAdjust=\"spacingAndGlyphs\" textLength=\"8\" x=\"87\" y=\"71.1074\">P</text><line style=\"stroke: #A80036; stroke-width: 1.5;\" x1=\"33\" x2=\"123\" y1=\"78.9375\" y2=\"78.9375\"/><text fill=\"#000000\" font-family=\"sans-serif\" font-size=\"11\" lengthAdjust=\"spacingAndGlyphs\" textLength=\"29\" x=\"38\" y=\"109.9526\">a1: A</text><text fill=\"#000000\" font-family=\"sans-serif\" font-size=\"11\" lengthAdjust=\"spacingAndGlyphs\" textLength=\"29\" x=\"38\" y=\"122.7573\">a2: A</text><line style=\"stroke: #A80036; stroke-width: 1.0;\" x1=\"33\" x2=\"62\" y1=\"93.3398\" y2=\"93.3398\"/><text fill=\"#000000\" font-family=\"sans-serif\" font-size=\"11\" lengthAdjust=\"spacingAndGlyphs\" textLength=\"32\" x=\"62\" y=\"96.6479\">items</text><line style=\"stroke: #A80036; stroke-width: 1.0;\" x1=\"94\" x2=\"123\" y1=\"93.3398\" y2=\"93.3398\"/></a><!--MD5=[2720a5a1f2c3fca2055b230370638851]\n",
       "link E2 to E3--><a href=\"psysml:cbc83e8e-35d8-4884-92a4-03d9c321669a\" target=\"_top\" title=\"psysml:cbc83e8e-35d8-4884-92a4-03d9c321669a\" xlink:actuate=\"onRequest\" xlink:href=\"psysml:cbc83e8e-35d8-4884-92a4-03d9c321669a\" xlink:show=\"new\" xlink:title=\"psysml:cbc83e8e-35d8-4884-92a4-03d9c321669a\" xlink:type=\"simple\"><path d=\"M183.47,105.19 C182.14,121.92 180.14,147.01 178.32,169.82 \" fill=\"none\" id=\"E2-&gt;E3\" style=\"stroke: #A80036; stroke-width: 1.0;\"/><polygon fill=\"#FFFFFF\" points=\"176.72,189.84,171.2619,170.341,185.2171,171.4607,176.72,189.84\" style=\"stroke: #A80036; stroke-width: 1.0;\"/><ellipse cx=\"173.7113\" cy=\"164.8193\" fill=\"#A80036\" rx=\"2\" ry=\"2\" style=\"stroke: #A80036; stroke-width: 1.0;\"/><ellipse cx=\"183.6793\" cy=\"165.619\" fill=\"#A80036\" rx=\"2\" ry=\"2\" style=\"stroke: #A80036; stroke-width: 1.0;\"/></a><!--MD5=[191cde3d490a3f6d7bb551fe3ddca469]\n",
       "reverse link E3 to E5--><a href=\"psysml:cb0fe327-dda6-4eae-9e46-1ce946f22982\" target=\"_top\" title=\"psysml:cb0fe327-dda6-4eae-9e46-1ce946f22982\" xlink:actuate=\"onRequest\" xlink:href=\"psysml:cb0fe327-dda6-4eae-9e46-1ce946f22982\" xlink:show=\"new\" xlink:title=\"psysml:cb0fe327-dda6-4eae-9e46-1ce946f22982\" xlink:type=\"simple\"><path d=\"M145.03,257.38 C126.49,277.47 102.88,303.04 86.32,320.99 \" fill=\"none\" id=\"E3&lt;-E5\" style=\"stroke: #A80036; stroke-width: 1.0;\"/><polygon fill=\"#FFFFFF\" points=\"153.94,247.73,146.9306,249.4235,145.7979,256.5451,152.8073,254.8516,153.94,247.73\" style=\"stroke: #A80036; stroke-width: 1.0;\"/></a><!--MD5=[14ccda38c055a5c0da953d572bc50960]\n",
       "link E7 to E3--><a href=\"psysml:b2ac9add-d533-4cc3-a1ec-28b279e4ff39\" target=\"_top\" title=\"psysml:b2ac9add-d533-4cc3-a1ec-28b279e4ff39\" xlink:actuate=\"onRequest\" xlink:href=\"psysml:b2ac9add-d533-4cc3-a1ec-28b279e4ff39\" xlink:show=\"new\" xlink:title=\"psysml:b2ac9add-d533-4cc3-a1ec-28b279e4ff39\" xlink:type=\"simple\"><path d=\"M186.89,645.69 C199.49,625.78 215,595.31 215,566 C215,343 215,343 215,343 C215,321.21 208.59,298.35 200.83,278.68 \" fill=\"none\" id=\"E7-&gt;E3\" style=\"stroke: #A80036; stroke-width: 1.0;\"/><polygon fill=\"#FFFFFF\" points=\"192.82,260.23,206.8032,274.8748,193.9596,280.4464,192.82,260.23\" style=\"stroke: #A80036; stroke-width: 1.0;\"/><ellipse cx=\"207.2368\" cy=\"280.8999\" fill=\"#A80036\" rx=\"2\" ry=\"2\" style=\"stroke: #A80036; stroke-width: 1.0;\"/><ellipse cx=\"198.0628\" cy=\"284.8796\" fill=\"#A80036\" rx=\"2\" ry=\"2\" style=\"stroke: #A80036; stroke-width: 1.0;\"/></a><!--MD5=[3f50a3473f1dfb74d3f76443e03635af]\n",
       "reverse link E6 to E7--><a href=\"psysml:7f7b610c-5cf3-4f1d-92e7-984e3817e328\" target=\"_top\" title=\"psysml:7f7b610c-5cf3-4f1d-92e7-984e3817e328\" xlink:actuate=\"onRequest\" xlink:href=\"psysml:7f7b610c-5cf3-4f1d-92e7-984e3817e328\" xlink:show=\"new\" xlink:title=\"psysml:7f7b610c-5cf3-4f1d-92e7-984e3817e328\" xlink:type=\"simple\"><path d=\"M162.81,598.41 C164.63,613.82 166.75,631.86 168.38,645.7 \" fill=\"none\" id=\"E6&lt;-E7\" style=\"stroke: #A80036; stroke-width: 1.0;\"/><polygon fill=\"#A80036\" points=\"161.26,585.19,157.9938,591.619,162.672,597.1066,165.9382,590.6776,161.26,585.19\" style=\"stroke: #A80036; stroke-width: 1.0;\"/></a><!--MD5=[dfaffb906826c3e5aca635516100ff21]\n",
       "link E5 to E8--><a href=\"psysml:8f4ff897-72ba-4249-b35c-9a7192bde9f3\" target=\"_top\" title=\"psysml:8f4ff897-72ba-4249-b35c-9a7192bde9f3\" xlink:actuate=\"onRequest\" xlink:href=\"psysml:8f4ff897-72ba-4249-b35c-9a7192bde9f3\" xlink:show=\"new\" xlink:title=\"psysml:8f4ff897-72ba-4249-b35c-9a7192bde9f3\" xlink:type=\"simple\"><path d=\"M86.18,367.13 C98.34,380.47 114.08,397.74 127.82,412.8 \" fill=\"none\" id=\"E5-&gt;E8\" style=\"stroke: #A80036; stroke-width: 1.0;\"/><polygon fill=\"#FFFFFF\" points=\"141.67,428,123.6993,418.6697,134.0481,409.2408,141.67,428\" style=\"stroke: #A80036; stroke-width: 1.0;\"/><ellipse cx=\"121.3388\" cy=\"413.1093\" fill=\"#A80036\" rx=\"2\" ry=\"2\" style=\"stroke: #A80036; stroke-width: 1.0;\"/><ellipse cx=\"128.7308\" cy=\"406.3744\" fill=\"#A80036\" rx=\"2\" ry=\"2\" style=\"stroke: #A80036; stroke-width: 1.0;\"/></a><!--MD5=[03c8294790d3c57651a1993cecff665f]\n",
       "reverse link E8 to E3--><a href=\"psysml:44d9af1e-71a6-403b-81da-6292c3b1f2cb\" target=\"_top\" title=\"psysml:44d9af1e-71a6-403b-81da-6292c3b1f2cb\" xlink:actuate=\"onRequest\" xlink:href=\"psysml:44d9af1e-71a6-403b-81da-6292c3b1f2cb\" xlink:show=\"new\" xlink:title=\"psysml:44d9af1e-71a6-403b-81da-6292c3b1f2cb\" xlink:type=\"simple\"><path d=\"M161.17,414.97 C163.97,373.71 168.82,302.27 171.69,260.05 \" fill=\"none\" id=\"E8&lt;-E3\" style=\"stroke: #A80036; stroke-width: 1.0;\"/><polygon fill=\"#FFFFFF\" points=\"160.29,427.97,164.6894,422.2564,161.1075,415.9979,156.708,421.7114,160.29,427.97\" style=\"stroke: #A80036; stroke-width: 1.0;\"/><text fill=\"#000000\" font-family=\"sans-serif\" font-size=\"13\" lengthAdjust=\"spacingAndGlyphs\" textLength=\"7\" x=\"168\" y=\"348.5669\">y</text></a><!--MD5=[0d75d2178373a6a4568e5dc728f58aef]\n",
       "reverse link E8 to E6--><a href=\"psysml:44d9af1e-71a6-403b-81da-6292c3b1f2cb\" target=\"_top\" title=\"psysml:44d9af1e-71a6-403b-81da-6292c3b1f2cb\" xlink:actuate=\"onRequest\" xlink:href=\"psysml:44d9af1e-71a6-403b-81da-6292c3b1f2cb\" xlink:show=\"new\" xlink:title=\"psysml:44d9af1e-71a6-403b-81da-6292c3b1f2cb\" xlink:type=\"simple\"><path d=\"M159,481.36 C159,501.76 159,527.42 159,544.69 \" fill=\"none\" id=\"E8&lt;-E6\" style=\"stroke: #A80036; stroke-width: 1.0;\"/><polygon fill=\"#FFFFFF\" points=\"159,468.25,155,474.25,159,480.25,163,474.25,159,468.25\" style=\"stroke: #A80036; stroke-width: 1.0;\"/><text fill=\"#000000\" font-family=\"sans-serif\" font-size=\"13\" lengthAdjust=\"spacingAndGlyphs\" textLength=\"7\" x=\"160\" y=\"511.0669\">y</text></a><!--MD5=[366bc3a91e3cc6707f85bbb5fdae0b21]\n",
       "@startuml\r\n",
       " \r\n",
       "package \"ItemTest\" as E1  [[psysml:75fb623a-e350-4a47-9f82-c4d20b2b5b80 ]]  {\r\n",
       "comp usage \"f: A\" as E2  << (P,limegreen) >> [[psysml:d8a17efa-9aba-4cd7-b18a-68f8ed4c599b ]] {\r\n",
       "}\r\n",
       "comp def \"A\" as E3  << (B,green) >> [[psysml:30552314-ef8a-4f2d-b223-fa6e862cb5b8 ]] {\r\n",
       "- - items - -\r\n",
       "b: B\r\n",
       "}\r\n",
       "comp usage \"c: C\" as E5  << (P,limegreen) part>> [[psysml:cb0fe327-dda6-4eae-9e46-1ce946f22982 ]] {\r\n",
       "}\r\n",
       "comp def \"B\" as E6  << (B,green) >> [[psysml:0c776550-23a6-42b8-908b-320a74e2d4ee ]] {\r\n",
       "}\r\n",
       "comp usage \"a: A\" as E7  << (P,limegreen) part>> [[psysml:7f7b610c-5cf3-4f1d-92e7-984e3817e328 ]] {\r\n",
       "}\r\n",
       "comp def \"C\" as E8  << (B,green) >> [[psysml:3f3cfa4e-9100-4bf2-8dae-183ab53e5ac5 ]] {\r\n",
       "}\r\n",
       "comp def \"P\" as E9  <<(D,brown)port def>> [[psysml:b18b87fb-d7bd-4905-b0cb-818d68f57f75 ]] {\r\n",
       "- - items - -\r\n",
       "a1: A\r\n",
       "a2: A\r\n",
       "}\r\n",
       "E2 - -:|> E3 [[psysml:cbc83e8e-35d8-4884-92a4-03d9c321669a ]] \r\n",
       "E3 o- - E5 [[psysml:cb0fe327-dda6-4eae-9e46-1ce946f22982 ]] \r\n",
       "E7 - -:|> E3 [[psysml:b2ac9add-d533-4cc3-a1ec-28b279e4ff39 ]] \r\n",
       "E6 *- - E7 [[psysml:7f7b610c-5cf3-4f1d-92e7-984e3817e328 ]] \r\n",
       "E5 - -:|> E8 [[psysml:8f4ff897-72ba-4249-b35c-9a7192bde9f3 ]] \r\n",
       "E8 o- - E3 [[psysml:44d9af1e-71a6-403b-81da-6292c3b1f2cb ]] : y\r\n",
       "E8 o- - E6 [[psysml:44d9af1e-71a6-403b-81da-6292c3b1f2cb ]] : y\r\n",
       "}\r\n",
       "@enduml\r\n",
       "\n",
       "PlantUML version 1.2020.13(Sat Jun 13 12:26:38 UTC 2020)\n",
       "(EPL source distribution)\n",
       "Java Runtime: OpenJDK Runtime Environment\n",
       "JVM: OpenJDK 64-Bit Server VM\n",
       "Default Encoding: UTF-8\n",
       "Language: en\n",
       "Country: null\n",
       "--></g></svg>"
      ]
     },
     "execution_count": 31,
     "metadata": {},
     "output_type": "execute_result"
    }
   ],
   "source": [
    "%viz --style=\"PLANTUML\" --view=\"Tree\" \"ItemTest\""
   ]
  },
  {
   "cell_type": "code",
   "execution_count": 32,
   "id": "proprietary-evanescence",
   "metadata": {
    "execution": {
     "iopub.execute_input": "2021-03-26T12:12:07.132430Z",
     "iopub.status.busy": "2021-03-26T12:12:07.132055Z",
     "iopub.status.idle": "2021-03-26T12:12:07.210167Z",
     "shell.execute_reply": "2021-03-26T12:12:07.208882Z"
    }
   },
   "outputs": [
    {
     "data": {
      "image/svg+xml": [
       "<?xml version=\"1.0\" encoding=\"UTF-8\" standalone=\"no\"?><svg xmlns=\"http://www.w3.org/2000/svg\" xmlns:xlink=\"http://www.w3.org/1999/xlink\" contentScriptType=\"application/ecmascript\" contentStyleType=\"text/css\" height=\"303px\" preserveAspectRatio=\"none\" style=\"width:603px;height:303px;background:#000000;\" version=\"1.1\" viewBox=\"0 0 603 303\" width=\"603px\" zoomAndPan=\"magnify\"><defs/><g><rect fill=\"#1A1F01\" height=\"1\" style=\"stroke: #1A1F01; stroke-width: 1.0;\" width=\"1\" x=\"0\" y=\"0\"/><rect fill=\"#FFFFFF\" height=\"205.5625\" style=\"stroke: #FFFFFF; stroke-width: 1.0;\" width=\"602\" x=\"0\" y=\"0\"/><text fill=\"#000000\" font-family=\"sans-serif\" font-size=\"12\" font-weight=\"bold\" lengthAdjust=\"spacingAndGlyphs\" textLength=\"159\" x=\"5\" y=\"16.1387\">Welcome to PlantUML!</text><text fill=\"#000000\" font-family=\"sans-serif\" font-size=\"12\" lengthAdjust=\"spacingAndGlyphs\" textLength=\"0\" x=\"9\" y=\"30.1074\"/><text fill=\"#000000\" font-family=\"sans-serif\" font-size=\"12\" lengthAdjust=\"spacingAndGlyphs\" textLength=\"293\" x=\"5\" y=\"44.0762\">If you use this software, you accept its license.</text><text fill=\"#000000\" font-family=\"sans-serif\" font-size=\"12\" lengthAdjust=\"spacingAndGlyphs\" textLength=\"107\" x=\"5\" y=\"58.0449\">(details by typing</text><text fill=\"#000000\" font-family=\"monospace\" font-size=\"12\" lengthAdjust=\"spacingAndGlyphs\" textLength=\"49\" x=\"116\" y=\"58.0449\">license</text><text fill=\"#000000\" font-family=\"sans-serif\" font-size=\"12\" lengthAdjust=\"spacingAndGlyphs\" textLength=\"56\" x=\"169\" y=\"58.0449\">keyword)</text><text fill=\"#000000\" font-family=\"sans-serif\" font-size=\"12\" lengthAdjust=\"spacingAndGlyphs\" textLength=\"0\" x=\"9\" y=\"72.0137\"/><text fill=\"#000000\" font-family=\"sans-serif\" font-size=\"12\" lengthAdjust=\"spacingAndGlyphs\" textLength=\"283\" x=\"5\" y=\"85.9824\">You can start with a simple UML Diagram like:</text><text fill=\"#000000\" font-family=\"sans-serif\" font-size=\"12\" lengthAdjust=\"spacingAndGlyphs\" textLength=\"0\" x=\"9\" y=\"99.9512\"/><text fill=\"#000000\" font-family=\"monospace\" font-size=\"12\" lengthAdjust=\"spacingAndGlyphs\" textLength=\"119\" x=\"5\" y=\"113.9199\">Bob-&gt;Alice: Hello</text><text fill=\"#000000\" font-family=\"sans-serif\" font-size=\"12\" lengthAdjust=\"spacingAndGlyphs\" textLength=\"0\" x=\"9\" y=\"127.8887\"/><text fill=\"#000000\" font-family=\"sans-serif\" font-size=\"12\" lengthAdjust=\"spacingAndGlyphs\" textLength=\"14\" x=\"5\" y=\"141.8574\">Or</text><text fill=\"#000000\" font-family=\"sans-serif\" font-size=\"12\" lengthAdjust=\"spacingAndGlyphs\" textLength=\"0\" x=\"9\" y=\"155.8262\"/><text fill=\"#000000\" font-family=\"monospace\" font-size=\"12\" lengthAdjust=\"spacingAndGlyphs\" textLength=\"91\" x=\"5\" y=\"169.7949\">class Example</text><text fill=\"#000000\" font-family=\"sans-serif\" font-size=\"12\" lengthAdjust=\"spacingAndGlyphs\" textLength=\"0\" x=\"9\" y=\"183.7637\"/><text fill=\"#000000\" font-family=\"sans-serif\" font-size=\"12\" lengthAdjust=\"spacingAndGlyphs\" textLength=\"349\" x=\"5\" y=\"197.7324\">You will find more information about PlantUML syntax on</text><text fill=\"#000000\" font-family=\"sans-serif\" font-size=\"12\" lengthAdjust=\"spacingAndGlyphs\" text-decoration=\"underline\" textLength=\"129\" x=\"358\" y=\"197.7324\">https://plantuml.com</text><image height=\"71\" width=\"80\" x=\"516\" xlink:href=\"data:image/png;base64,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\" y=\"6\"/><rect fill=\"#000000\" height=\"96.4844\" style=\"stroke: #000000; stroke-width: 1.0;\" width=\"602\" x=\"0\" y=\"205.5625\"/><rect fill=\"#33FF02\" height=\"21.2969\" style=\"stroke: #33FF02; stroke-width: 1.0;\" width=\"170\" x=\"5\" y=\"210.5625\"/><text fill=\"#000000\" font-family=\"sans-serif\" font-size=\"14\" font-weight=\"bold\" lengthAdjust=\"spacingAndGlyphs\" textLength=\"168\" x=\"6\" y=\"225.5625\">[From string (line 2) ]</text><text fill=\"#33FF02\" font-family=\"sans-serif\" font-size=\"14\" font-weight=\"bold\" lengthAdjust=\"spacingAndGlyphs\" textLength=\"0\" x=\"10\" y=\"245.8594\"/><text fill=\"#33FF02\" font-family=\"sans-serif\" font-size=\"14\" font-weight=\"bold\" lengthAdjust=\"spacingAndGlyphs\" textLength=\"79\" x=\"5\" y=\"262.1563\">@startuml</text><text fill=\"#33FF02\" font-family=\"sans-serif\" font-size=\"14\" font-weight=\"bold\" lengthAdjust=\"spacingAndGlyphs\" textLength=\"0\" x=\"10\" y=\"278.4531\"/><text fill=\"#FF0000\" font-family=\"sans-serif\" font-size=\"14\" font-weight=\"bold\" lengthAdjust=\"spacingAndGlyphs\" textLength=\"142\" x=\"10\" y=\"294.75\">Empty description</text><!--MD5=[f59edd8218d337f74d0c332fc6737304]\n",
       "@startuml\r\n",
       " \r\n",
       "@enduml\r\n",
       "\n",
       "PlantUML version 1.2020.13(Sat Jun 13 12:26:38 UTC 2020)\n",
       "(EPL source distribution)\n",
       "Java Runtime: OpenJDK Runtime Environment\n",
       "JVM: OpenJDK 64-Bit Server VM\n",
       "Default Encoding: UTF-8\n",
       "Language: en\n",
       "Country: null\n",
       "--></g></svg>"
      ]
     },
     "execution_count": 32,
     "metadata": {},
     "output_type": "execute_result"
    }
   ],
   "source": [
    "%viz --style=\"PLANTUML\" --view=\"State\" \"ItemTest\""
   ]
  },
  {
   "cell_type": "code",
   "execution_count": 33,
   "id": "diverse-projector",
   "metadata": {
    "execution": {
     "iopub.execute_input": "2021-03-26T12:12:07.262822Z",
     "iopub.status.busy": "2021-03-26T12:12:07.261977Z",
     "iopub.status.idle": "2021-03-26T12:12:07.289766Z",
     "shell.execute_reply": "2021-03-26T12:12:07.288560Z"
    }
   },
   "outputs": [
    {
     "data": {
      "image/svg+xml": [
       "<?xml version=\"1.0\" encoding=\"UTF-8\" standalone=\"no\"?><svg xmlns=\"http://www.w3.org/2000/svg\" xmlns:xlink=\"http://www.w3.org/1999/xlink\" contentScriptType=\"application/ecmascript\" contentStyleType=\"text/css\" height=\"179px\" preserveAspectRatio=\"none\" style=\"width:597px;height:179px;\" version=\"1.1\" viewBox=\"0 0 597 179\" width=\"597px\" zoomAndPan=\"magnify\"><defs><filter height=\"300%\" id=\"fg21nen5u5jdc\" width=\"300%\" x=\"-1\" y=\"-1\"><feGaussianBlur result=\"blurOut\" stdDeviation=\"2.0\"/><feColorMatrix in=\"blurOut\" result=\"blurOut2\" type=\"matrix\" values=\"0 0 0 0 0 0 0 0 0 0 0 0 0 0 0 0 0 0 .4 0\"/><feOffset dx=\"4.0\" dy=\"4.0\" in=\"blurOut2\" result=\"blurOut3\"/><feBlend in=\"SourceGraphic\" in2=\"blurOut3\" mode=\"normal\"/></filter></defs><g><!--MD5=[fbc87193dbaf4d95561dea2c320d4a47]\n",
       "cluster E1--><a href=\"psysml:75fb623a-e350-4a47-9f82-c4d20b2b5b80\" target=\"_top\" title=\"psysml:75fb623a-e350-4a47-9f82-c4d20b2b5b80\" xlink:actuate=\"onRequest\" xlink:href=\"psysml:75fb623a-e350-4a47-9f82-c4d20b2b5b80\" xlink:show=\"new\" xlink:title=\"psysml:75fb623a-e350-4a47-9f82-c4d20b2b5b80\" xlink:type=\"simple\"><polygon fill=\"#FFFFFF\" filter=\"url(#fg21nen5u5jdc)\" points=\"16,6,91,6,98,28.2969,575,28.2969,575,167,16,167,16,6\" style=\"stroke: #000000; stroke-width: 1.5;\"/><line style=\"stroke: #000000; stroke-width: 1.5;\" x1=\"16\" x2=\"98\" y1=\"28.2969\" y2=\"28.2969\"/><text fill=\"#000000\" font-family=\"sans-serif\" font-size=\"14\" font-weight=\"bold\" lengthAdjust=\"spacingAndGlyphs\" textLength=\"69\" x=\"20\" y=\"20.9951\">ItemTest</text></a><!--MD5=[de5ec2e2e8f62f467e546659f5068c88]\n",
       "cluster E5--><a href=\"psysml:3f3cfa4e-9100-4bf2-8dae-183ab53e5ac5\" target=\"_top\" title=\"psysml:3f3cfa4e-9100-4bf2-8dae-183ab53e5ac5\" xlink:actuate=\"onRequest\" xlink:href=\"psysml:3f3cfa4e-9100-4bf2-8dae-183ab53e5ac5\" xlink:show=\"new\" xlink:title=\"psysml:3f3cfa4e-9100-4bf2-8dae-183ab53e5ac5\" xlink:type=\"simple\"><rect fill=\"#FFFFFF\" filter=\"url(#fg21nen5u5jdc)\" height=\"94\" id=\"E5\" style=\"stroke: #A80036; stroke-width: 1.5;\" width=\"140\" x=\"411\" y=\"49\"/><rect fill=\"#FEFECE\" height=\"23.9688\" style=\"stroke: #A80036; stroke-width: 1.5;\" width=\"140\" x=\"411\" y=\"49\"/><text fill=\"#000000\" font-family=\"sans-serif\" font-size=\"12\" lengthAdjust=\"spacingAndGlyphs\" textLength=\"8\" x=\"477\" y=\"65.1387\">C</text></a><g id=\"E1.E3\"><a href=\"psysml:30552314-ef8a-4f2d-b223-fa6e862cb5b8\" target=\"_top\" title=\"psysml:30552314-ef8a-4f2d-b223-fa6e862cb5b8\" xlink:actuate=\"onRequest\" xlink:href=\"psysml:30552314-ef8a-4f2d-b223-fa6e862cb5b8\" xlink:show=\"new\" xlink:title=\"psysml:30552314-ef8a-4f2d-b223-fa6e862cb5b8\" xlink:type=\"simple\"><rect fill=\"#FEFECE\" filter=\"url(#fg21nen5u5jdc)\" height=\"40\" id=\"E3\" style=\"stroke: #A80036; stroke-width: 1.5;\" width=\"50\" x=\"342\" y=\"85.5\"/><ellipse cx=\"361.5\" cy=\"101.5\" fill=\"#008000\" rx=\"11\" ry=\"11\" style=\"stroke: #A80036; stroke-width: 1.0;\"/><path d=\"M360.4063,101.875 L360.4063,105.5469 L362.0313,105.5469 Q363.2031,105.5469 363.6719,105.1563 Q364.1406,104.75 364.1406,103.75 Q364.1406,102.75 363.6406,102.3125 Q363.1563,101.875 362.0313,101.875 L360.4063,101.875 Z M360.4063,97.0469 L360.4063,99.9219 L362.0313,99.9219 Q362.9531,99.9219 363.3438,99.5938 Q363.75,99.25 363.75,98.5 Q363.75,97.7344 363.3438,97.3906 Q362.9375,97.0469 362.0313,97.0469 L360.4063,97.0469 Z M358.0313,95.0938 L362.0313,95.0938 Q364.0938,95.0938 365.1406,95.875 Q366.1875,96.6563 366.1875,98.2188 Q366.1875,99.4219 365.5625,100.0938 Q364.9531,100.7656 363.7656,100.875 Q365.1875,101.0156 365.9063,101.8281 Q366.625,102.6406 366.625,104.0938 Q366.625,105.8906 365.5469,106.7031 Q364.4688,107.5 362.0313,107.5 L358.0313,107.5 L358.0313,95.0938 Z \"/><text fill=\"#000000\" font-family=\"sans-serif\" font-size=\"12\" lengthAdjust=\"spacingAndGlyphs\" textLength=\"8\" x=\"376.5\" y=\"105.6543\">A</text></a></g><g id=\"E1.E4\"><a href=\"psysml:0c776550-23a6-42b8-908b-320a74e2d4ee\" target=\"_top\" title=\"psysml:0c776550-23a6-42b8-908b-320a74e2d4ee\" xlink:actuate=\"onRequest\" xlink:href=\"psysml:0c776550-23a6-42b8-908b-320a74e2d4ee\" xlink:show=\"new\" xlink:title=\"psysml:0c776550-23a6-42b8-908b-320a74e2d4ee\" xlink:type=\"simple\"><rect fill=\"#FEFECE\" filter=\"url(#fg21nen5u5jdc)\" height=\"40\" id=\"E4\" style=\"stroke: #A80036; stroke-width: 1.5;\" width=\"50\" x=\"257\" y=\"85.5\"/><ellipse cx=\"276.5\" cy=\"101.5\" fill=\"#008000\" rx=\"11\" ry=\"11\" style=\"stroke: #A80036; stroke-width: 1.0;\"/><path d=\"M275.4063,101.875 L275.4063,105.5469 L277.0313,105.5469 Q278.2031,105.5469 278.6719,105.1563 Q279.1406,104.75 279.1406,103.75 Q279.1406,102.75 278.6406,102.3125 Q278.1563,101.875 277.0313,101.875 L275.4063,101.875 Z M275.4063,97.0469 L275.4063,99.9219 L277.0313,99.9219 Q277.9531,99.9219 278.3438,99.5938 Q278.75,99.25 278.75,98.5 Q278.75,97.7344 278.3438,97.3906 Q277.9375,97.0469 277.0313,97.0469 L275.4063,97.0469 Z M273.0313,95.0938 L277.0313,95.0938 Q279.0938,95.0938 280.1406,95.875 Q281.1875,96.6563 281.1875,98.2188 Q281.1875,99.4219 280.5625,100.0938 Q279.9531,100.7656 278.7656,100.875 Q280.1875,101.0156 280.9063,101.8281 Q281.625,102.6406 281.625,104.0938 Q281.625,105.8906 280.5469,106.7031 Q279.4688,107.5 277.0313,107.5 L273.0313,107.5 L273.0313,95.0938 Z \"/><text fill=\"#000000\" font-family=\"sans-serif\" font-size=\"12\" lengthAdjust=\"spacingAndGlyphs\" textLength=\"8\" x=\"291.5\" y=\"105.6543\">B</text></a></g><g id=\"E1.E7\"><a href=\"psysml:b18b87fb-d7bd-4905-b0cb-818d68f57f75\" target=\"_top\" title=\"psysml:b18b87fb-d7bd-4905-b0cb-818d68f57f75\" xlink:actuate=\"onRequest\" xlink:href=\"psysml:b18b87fb-d7bd-4905-b0cb-818d68f57f75\" xlink:show=\"new\" xlink:title=\"psysml:b18b87fb-d7bd-4905-b0cb-818d68f57f75\" xlink:type=\"simple\"><rect fill=\"#FEFECE\" filter=\"url(#fg21nen5u5jdc)\" height=\"42.9375\" id=\"E7\" style=\"stroke: #A80036; stroke-width: 1.5;\" width=\"97\" x=\"124.5\" y=\"84\"/><ellipse cx=\"141.75\" cy=\"102.9688\" fill=\"#A52A2A\" rx=\"11\" ry=\"11\" style=\"stroke: #A80036; stroke-width: 1.0;\"/><path d=\"M141.3438,98.7813 L141.3438,106.7656 L142,106.7656 Q143.4375,106.7656 144.0469,105.8594 Q144.6719,104.9375 144.6719,102.7656 Q144.6719,100.5938 144.0469,99.6875 Q143.4375,98.7813 142,98.7813 L141.3438,98.7813 Z M138.8906,96.5781 L141.5156,96.5781 Q144.5469,96.5781 145.875,98.0313 Q147.2188,99.4688 147.2188,102.7656 Q147.2188,106.0625 145.875,107.5156 Q144.5469,108.9688 141.5156,108.9688 L138.8906,108.9688 L138.8906,96.5781 Z \"/><text fill=\"#000000\" font-family=\"sans-serif\" font-size=\"12\" font-style=\"italic\" lengthAdjust=\"spacingAndGlyphs\" textLength=\"64\" x=\"154.25\" y=\"100.1387\">«port def»</text><text fill=\"#000000\" font-family=\"sans-serif\" font-size=\"12\" lengthAdjust=\"spacingAndGlyphs\" textLength=\"8\" x=\"182.25\" y=\"114.1074\">P</text></a></g><g id=\"E1.E2\"><a href=\"psysml:d8a17efa-9aba-4cd7-b18a-68f8ed4c599b\" target=\"_top\" title=\"psysml:d8a17efa-9aba-4cd7-b18a-68f8ed4c599b\" xlink:actuate=\"onRequest\" xlink:href=\"psysml:d8a17efa-9aba-4cd7-b18a-68f8ed4c599b\" xlink:show=\"new\" xlink:title=\"psysml:d8a17efa-9aba-4cd7-b18a-68f8ed4c599b\" xlink:type=\"simple\"><rect fill=\"#FEFECE\" filter=\"url(#fg21nen5u5jdc)\" height=\"40\" id=\"E2\" rx=\"10\" ry=\"10\" style=\"stroke: #A80036; stroke-width: 1.5;\" width=\"57\" x=\"32.5\" y=\"85.5\"/><ellipse cx=\"49.75\" cy=\"101.5\" fill=\"#32CD32\" rx=\"11\" ry=\"11\" style=\"stroke: #A80036; stroke-width: 1.0;\"/><path d=\"M49.5469,97.1719 L49.5469,100.7969 L50.5469,100.7969 Q51.75,100.7969 52.2344,100.3906 Q52.7188,99.9844 52.7188,98.9844 Q52.7188,97.9844 52.2344,97.5781 Q51.75,97.1719 50.5469,97.1719 L49.5469,97.1719 Z M47.0938,95.1094 L50.4531,95.1094 Q53.0156,95.1094 54.1406,96.0313 Q55.2656,96.9375 55.2656,98.9844 Q55.2656,101.0313 54.1406,101.9531 Q53.0156,102.8594 50.4531,102.8594 L49.5469,102.8594 L49.5469,107.5 L47.0938,107.5 L47.0938,95.1094 Z \"/><text fill=\"#000000\" font-family=\"sans-serif\" font-size=\"12\" lengthAdjust=\"spacingAndGlyphs\" textLength=\"20\" x=\"64.25\" y=\"105.6543\">f: A</text></a></g><g id=\"E1.E5.E6\"><a href=\"psysml:44d9af1e-71a6-403b-81da-6292c3b1f2cb\" target=\"_top\" title=\"psysml:44d9af1e-71a6-403b-81da-6292c3b1f2cb\" xlink:actuate=\"onRequest\" xlink:href=\"psysml:44d9af1e-71a6-403b-81da-6292c3b1f2cb\" xlink:show=\"new\" xlink:title=\"psysml:44d9af1e-71a6-403b-81da-6292c3b1f2cb\" xlink:type=\"simple\"><rect fill=\"#FEFECE\" filter=\"url(#fg21nen5u5jdc)\" height=\"42.9375\" id=\"E6\" rx=\"10\" ry=\"10\" style=\"stroke: #A80036; stroke-width: 1.5;\" width=\"108\" x=\"427\" y=\"84\"/><ellipse cx=\"444.25\" cy=\"102.9688\" fill=\"#FFA500\" rx=\"11\" ry=\"11\" style=\"stroke: #A80036; stroke-width: 1.0;\"/><path d=\"M440.125,104.8906 L440.125,97.0781 L442.5781,97.0781 L442.5781,105.5156 Q442.5781,106.4375 443.0469,106.9688 Q443.5313,107.5 444.3594,107.5 Q445.2031,107.5 445.6719,106.9688 Q446.1406,106.4375 446.1406,105.5156 L446.1406,97.0781 L448.5938,97.0781 L448.5938,104.8906 Q448.5938,107.4219 447.5938,108.5625 Q446.5938,109.7031 444.3594,109.7031 Q442.1406,109.7031 441.125,108.5625 Q440.125,107.4219 440.125,104.8906 Z \"/><text fill=\"#000000\" font-family=\"sans-serif\" font-size=\"12\" font-style=\"italic\" lengthAdjust=\"spacingAndGlyphs\" textLength=\"75\" x=\"456.75\" y=\"100.1387\">«reference»</text><text fill=\"#000000\" font-family=\"sans-serif\" font-size=\"12\" lengthAdjust=\"spacingAndGlyphs\" textLength=\"38\" x=\"475.25\" y=\"114.1074\">y: A, B</text></a></g><!--MD5=[04b95ad26dffd6bb7c43d23beb21aeed]\n",
       "@startuml\r\n",
       "skinparam ranksep 8\r\n",
       "skinparam rectangle {\r\n",
       " backgroundColor<<block>> LightGreen\r\n",
       "}\r\n",
       " \r\n",
       "package \"ItemTest\" as E1  [[psysml:75fb623a-e350-4a47-9f82-c4d20b2b5b80 ]]  {\r\n",
       "rec usage \"f: A\" as E2  << (P,limegreen) >> [[psysml:d8a17efa-9aba-4cd7-b18a-68f8ed4c599b ]] {\r\n",
       "}\r\n",
       "def \"A\" as E3  << (B,green) >> [[psysml:30552314-ef8a-4f2d-b223-fa6e862cb5b8 ]] \r\n",
       "def \"B\" as E4  << (B,green) >> [[psysml:0c776550-23a6-42b8-908b-320a74e2d4ee ]] \r\n",
       "rec def \"C\" as E5  << (B,green) >> [[psysml:3f3cfa4e-9100-4bf2-8dae-183ab53e5ac5 ]] {\r\n",
       "rec usage \"y: A, B\" as E6  <<(U,orange)reference>> [[psysml:44d9af1e-71a6-403b-81da-6292c3b1f2cb ]] {\r\n",
       "}\r\n",
       "}\r\n",
       "def \"P\" as E7  <<(D,brown)port def>> [[psysml:b18b87fb-d7bd-4905-b0cb-818d68f57f75 ]] \r\n",
       "}\r\n",
       "@enduml\r\n",
       "\n",
       "PlantUML version 1.2020.13(Sat Jun 13 12:26:38 UTC 2020)\n",
       "(EPL source distribution)\n",
       "Java Runtime: OpenJDK Runtime Environment\n",
       "JVM: OpenJDK 64-Bit Server VM\n",
       "Default Encoding: UTF-8\n",
       "Language: en\n",
       "Country: null\n",
       "--></g></svg>"
      ]
     },
     "execution_count": 33,
     "metadata": {},
     "output_type": "execute_result"
    }
   ],
   "source": [
    "%viz --style=\"PLANTUML\" --view=\"Interconnection\" \"ItemTest\""
   ]
  },
  {
   "cell_type": "code",
   "execution_count": 34,
   "id": "acceptable-dispute",
   "metadata": {
    "execution": {
     "iopub.execute_input": "2021-03-26T12:12:07.340647Z",
     "iopub.status.busy": "2021-03-26T12:12:07.339902Z",
     "iopub.status.idle": "2021-03-26T12:12:07.343970Z",
     "shell.execute_reply": "2021-03-26T12:12:07.344366Z"
    }
   },
   "outputs": [
    {
     "data": {
      "image/svg+xml": [
       "<?xml version=\"1.0\" encoding=\"UTF-8\" standalone=\"no\"?><svg xmlns=\"http://www.w3.org/2000/svg\" xmlns:xlink=\"http://www.w3.org/1999/xlink\" contentScriptType=\"application/ecmascript\" contentStyleType=\"text/css\" height=\"12px\" preserveAspectRatio=\"none\" style=\"width:12px;height:12px;\" version=\"1.1\" viewBox=\"0 0 12 12\" width=\"12px\" zoomAndPan=\"magnify\"><defs/><g><!--MD5=[6a4cb978cab31700e1ce5529f947a75d]\n",
       "@startuml\r\n",
       "skinparam ranksep 8\r\n",
       " \r\n",
       "@enduml\r\n",
       "\n",
       "PlantUML version 1.2020.13(Sat Jun 13 12:26:38 UTC 2020)\n",
       "(EPL source distribution)\n",
       "Java Runtime: OpenJDK Runtime Environment\n",
       "JVM: OpenJDK 64-Bit Server VM\n",
       "Default Encoding: UTF-8\n",
       "Language: en\n",
       "Country: null\n",
       "--></g></svg>"
      ]
     },
     "execution_count": 34,
     "metadata": {},
     "output_type": "execute_result"
    }
   ],
   "source": [
    "%viz --style=\"PLANTUML\" --view=\"Action\" \"ItemTest\""
   ]
  },
  {
   "cell_type": "code",
   "execution_count": 35,
   "id": "pressing-rally",
   "metadata": {
    "execution": {
     "iopub.execute_input": "2021-03-26T12:12:07.395537Z",
     "iopub.status.busy": "2021-03-26T12:12:07.395145Z",
     "iopub.status.idle": "2021-03-26T12:12:07.448575Z",
     "shell.execute_reply": "2021-03-26T12:12:07.447059Z"
    }
   },
   "outputs": [
    {
     "data": {
      "image/svg+xml": [
       "<?xml version=\"1.0\" encoding=\"UTF-8\" standalone=\"no\"?><svg xmlns=\"http://www.w3.org/2000/svg\" xmlns:xlink=\"http://www.w3.org/1999/xlink\" contentScriptType=\"application/ecmascript\" contentStyleType=\"text/css\" height=\"720px\" preserveAspectRatio=\"none\" style=\"width:254px;height:720px;\" version=\"1.1\" viewBox=\"0 0 254 720\" width=\"254px\" zoomAndPan=\"magnify\"><defs><filter height=\"300%\" id=\"f1xberwt9zqb3q\" width=\"300%\" x=\"-1\" y=\"-1\"><feGaussianBlur result=\"blurOut\" stdDeviation=\"2.0\"/><feColorMatrix in=\"blurOut\" result=\"blurOut2\" type=\"matrix\" values=\"0 0 0 0 0 0 0 0 0 0 0 0 0 0 0 0 0 0 .4 0\"/><feOffset dx=\"4.0\" dy=\"4.0\" in=\"blurOut2\" result=\"blurOut3\"/><feBlend in=\"SourceGraphic\" in2=\"blurOut3\" mode=\"normal\"/></filter></defs><g><!--MD5=[fbc87193dbaf4d95561dea2c320d4a47]\n",
       "cluster E1--><a href=\"psysml:75fb623a-e350-4a47-9f82-c4d20b2b5b80\" target=\"_top\" title=\"psysml:75fb623a-e350-4a47-9f82-c4d20b2b5b80\" xlink:actuate=\"onRequest\" xlink:href=\"psysml:75fb623a-e350-4a47-9f82-c4d20b2b5b80\" xlink:show=\"new\" xlink:title=\"psysml:75fb623a-e350-4a47-9f82-c4d20b2b5b80\" xlink:type=\"simple\"><polygon fill=\"#FFFFFF\" filter=\"url(#f1xberwt9zqb3q)\" points=\"16,6,91,6,98,28.2969,232,28.2969,232,708,16,708,16,6\" style=\"stroke: #000000; stroke-width: 1.5;\"/><line style=\"stroke: #000000; stroke-width: 1.5;\" x1=\"16\" x2=\"98\" y1=\"28.2969\" y2=\"28.2969\"/><text fill=\"#000000\" font-family=\"sans-serif\" font-size=\"14\" font-weight=\"bold\" lengthAdjust=\"spacingAndGlyphs\" textLength=\"69\" x=\"20\" y=\"20.9951\">ItemTest</text></a><!--MD5=[b4997ac47864f28c2f74865a473b2911]\n",
       "class E2--><a href=\"psysml:d8a17efa-9aba-4cd7-b18a-68f8ed4c599b\" target=\"_top\" title=\"psysml:d8a17efa-9aba-4cd7-b18a-68f8ed4c599b\" xlink:actuate=\"onRequest\" xlink:href=\"psysml:d8a17efa-9aba-4cd7-b18a-68f8ed4c599b\" xlink:show=\"new\" xlink:title=\"psysml:d8a17efa-9aba-4cd7-b18a-68f8ed4c599b\" xlink:type=\"simple\"><rect fill=\"#FEFECE\" filter=\"url(#f1xberwt9zqb3q)\" height=\"40\" id=\"E2\" rx=\"10\" ry=\"10\" style=\"stroke: #A80036; stroke-width: 1.5;\" width=\"52\" x=\"159\" y=\"65\"/><ellipse cx=\"174\" cy=\"81\" fill=\"#32CD32\" rx=\"11\" ry=\"11\" style=\"stroke: #A80036; stroke-width: 1.0;\"/><path d=\"M173.7969,76.6719 L173.7969,80.2969 L174.7969,80.2969 Q176,80.2969 176.4844,79.8906 Q176.9688,79.4844 176.9688,78.4844 Q176.9688,77.4844 176.4844,77.0781 Q176,76.6719 174.7969,76.6719 L173.7969,76.6719 Z M171.3438,74.6094 L174.7031,74.6094 Q177.2656,74.6094 178.3906,75.5313 Q179.5156,76.4375 179.5156,78.4844 Q179.5156,80.5313 178.3906,81.4531 Q177.2656,82.3594 174.7031,82.3594 L173.7969,82.3594 L173.7969,87 L171.3438,87 L171.3438,74.6094 Z \"/><text fill=\"#000000\" font-family=\"sans-serif\" font-size=\"12\" lengthAdjust=\"spacingAndGlyphs\" textLength=\"20\" x=\"188\" y=\"85.1543\">f: A</text><line style=\"stroke: #A80036; stroke-width: 1.5;\" x1=\"160\" x2=\"210\" y1=\"97\" y2=\"97\"/></a><!--MD5=[09b614a08d8cba4a07c9adeb5e0fee81]\n",
       "class E3--><a href=\"psysml:30552314-ef8a-4f2d-b223-fa6e862cb5b8\" target=\"_top\" title=\"psysml:30552314-ef8a-4f2d-b223-fa6e862cb5b8\" xlink:actuate=\"onRequest\" xlink:href=\"psysml:30552314-ef8a-4f2d-b223-fa6e862cb5b8\" xlink:show=\"new\" xlink:title=\"psysml:30552314-ef8a-4f2d-b223-fa6e862cb5b8\" xlink:type=\"simple\"><rect fill=\"#FEFECE\" filter=\"url(#f1xberwt9zqb3q)\" height=\"69.6094\" id=\"E3\" style=\"stroke: #A80036; stroke-width: 1.5;\" width=\"40\" x=\"154\" y=\"190\"/><ellipse cx=\"169\" cy=\"206\" fill=\"#008000\" rx=\"11\" ry=\"11\" style=\"stroke: #A80036; stroke-width: 1.0;\"/><path d=\"M167.9063,206.375 L167.9063,210.0469 L169.5313,210.0469 Q170.7031,210.0469 171.1719,209.6563 Q171.6406,209.25 171.6406,208.25 Q171.6406,207.25 171.1406,206.8125 Q170.6563,206.375 169.5313,206.375 L167.9063,206.375 Z M167.9063,201.5469 L167.9063,204.4219 L169.5313,204.4219 Q170.4531,204.4219 170.8438,204.0938 Q171.25,203.75 171.25,203 Q171.25,202.2344 170.8438,201.8906 Q170.4375,201.5469 169.5313,201.5469 L167.9063,201.5469 Z M165.5313,199.5938 L169.5313,199.5938 Q171.5938,199.5938 172.6406,200.375 Q173.6875,201.1563 173.6875,202.7188 Q173.6875,203.9219 173.0625,204.5938 Q172.4531,205.2656 171.2656,205.375 Q172.6875,205.5156 173.4063,206.3281 Q174.125,207.1406 174.125,208.5938 Q174.125,210.3906 173.0469,211.2031 Q171.9688,212 169.5313,212 L165.5313,212 L165.5313,199.5938 Z \"/><text fill=\"#000000\" font-family=\"sans-serif\" font-size=\"12\" lengthAdjust=\"spacingAndGlyphs\" textLength=\"8\" x=\"183\" y=\"210.1543\">A</text><line style=\"stroke: #A80036; stroke-width: 1.5;\" x1=\"155\" x2=\"193\" y1=\"222\" y2=\"222\"/><text fill=\"#000000\" font-family=\"sans-serif\" font-size=\"11\" lengthAdjust=\"spacingAndGlyphs\" textLength=\"23\" x=\"160\" y=\"253.0151\">b: B</text><line style=\"stroke: #A80036; stroke-width: 1.0;\" x1=\"155\" x2=\"158\" y1=\"236.4023\" y2=\"236.4023\"/><text fill=\"#000000\" font-family=\"sans-serif\" font-size=\"11\" lengthAdjust=\"spacingAndGlyphs\" textLength=\"32\" x=\"158\" y=\"239.7104\">items</text><line style=\"stroke: #A80036; stroke-width: 1.0;\" x1=\"190\" x2=\"193\" y1=\"236.4023\" y2=\"236.4023\"/></a><!--MD5=[270fce915f116d4de14055a7c1d9a0f3]\n",
       "class E5--><a href=\"psysml:cb0fe327-dda6-4eae-9e46-1ce946f22982\" target=\"_top\" title=\"psysml:cb0fe327-dda6-4eae-9e46-1ce946f22982\" xlink:actuate=\"onRequest\" xlink:href=\"psysml:cb0fe327-dda6-4eae-9e46-1ce946f22982\" xlink:show=\"new\" xlink:title=\"psysml:cb0fe327-dda6-4eae-9e46-1ce946f22982\" xlink:type=\"simple\"><rect fill=\"#FEFECE\" filter=\"url(#f1xberwt9zqb3q)\" height=\"45.9375\" id=\"E5\" rx=\"10\" ry=\"10\" style=\"stroke: #A80036; stroke-width: 1.5;\" width=\"68\" x=\"32\" y=\"321\"/><ellipse cx=\"47\" cy=\"339.9688\" fill=\"#32CD32\" rx=\"11\" ry=\"11\" style=\"stroke: #A80036; stroke-width: 1.0;\"/><path d=\"M46.7969,335.6406 L46.7969,339.2656 L47.7969,339.2656 Q49,339.2656 49.4844,338.8594 Q49.9688,338.4531 49.9688,337.4531 Q49.9688,336.4531 49.4844,336.0469 Q49,335.6406 47.7969,335.6406 L46.7969,335.6406 Z M44.3438,333.5781 L47.7031,333.5781 Q50.2656,333.5781 51.3906,334.5 Q52.5156,335.4063 52.5156,337.4531 Q52.5156,339.5 51.3906,340.4219 Q50.2656,341.3281 47.7031,341.3281 L46.7969,341.3281 L46.7969,345.9688 L44.3438,345.9688 L44.3438,333.5781 Z \"/><text fill=\"#000000\" font-family=\"sans-serif\" font-size=\"12\" font-style=\"italic\" lengthAdjust=\"spacingAndGlyphs\" textLength=\"40\" x=\"59\" y=\"337.1387\">«part»</text><text fill=\"#000000\" font-family=\"sans-serif\" font-size=\"12\" lengthAdjust=\"spacingAndGlyphs\" textLength=\"23\" x=\"67.5\" y=\"351.1074\">c: C</text><line style=\"stroke: #A80036; stroke-width: 1.5;\" x1=\"33\" x2=\"99\" y1=\"358.9375\" y2=\"358.9375\"/></a><!--MD5=[60a26617385b1d2d0262a64233df1f8d]\n",
       "class E6--><a href=\"psysml:0c776550-23a6-42b8-908b-320a74e2d4ee\" target=\"_top\" title=\"psysml:0c776550-23a6-42b8-908b-320a74e2d4ee\" xlink:actuate=\"onRequest\" xlink:href=\"psysml:0c776550-23a6-42b8-908b-320a74e2d4ee\" xlink:show=\"new\" xlink:title=\"psysml:0c776550-23a6-42b8-908b-320a74e2d4ee\" xlink:type=\"simple\"><rect fill=\"#FEFECE\" filter=\"url(#f1xberwt9zqb3q)\" height=\"40\" id=\"E6\" style=\"stroke: #A80036; stroke-width: 1.5;\" width=\"40\" x=\"139\" y=\"545\"/><ellipse cx=\"154\" cy=\"561\" fill=\"#008000\" rx=\"11\" ry=\"11\" style=\"stroke: #A80036; stroke-width: 1.0;\"/><path d=\"M152.9063,561.375 L152.9063,565.0469 L154.5313,565.0469 Q155.7031,565.0469 156.1719,564.6563 Q156.6406,564.25 156.6406,563.25 Q156.6406,562.25 156.1406,561.8125 Q155.6563,561.375 154.5313,561.375 L152.9063,561.375 Z M152.9063,556.5469 L152.9063,559.4219 L154.5313,559.4219 Q155.4531,559.4219 155.8438,559.0938 Q156.25,558.75 156.25,558 Q156.25,557.2344 155.8438,556.8906 Q155.4375,556.5469 154.5313,556.5469 L152.9063,556.5469 Z M150.5313,554.5938 L154.5313,554.5938 Q156.5938,554.5938 157.6406,555.375 Q158.6875,556.1563 158.6875,557.7188 Q158.6875,558.9219 158.0625,559.5938 Q157.4531,560.2656 156.2656,560.375 Q157.6875,560.5156 158.4063,561.3281 Q159.125,562.1406 159.125,563.5938 Q159.125,565.3906 158.0469,566.2031 Q156.9688,567 154.5313,567 L150.5313,567 L150.5313,554.5938 Z \"/><text fill=\"#000000\" font-family=\"sans-serif\" font-size=\"12\" lengthAdjust=\"spacingAndGlyphs\" textLength=\"8\" x=\"168\" y=\"565.1543\">B</text><line style=\"stroke: #A80036; stroke-width: 1.5;\" x1=\"140\" x2=\"178\" y1=\"577\" y2=\"577\"/></a><!--MD5=[2156ba9850f5573cc1fc38a6a4b2f02b]\n",
       "class E7--><a href=\"psysml:7f7b610c-5cf3-4f1d-92e7-984e3817e328\" target=\"_top\" title=\"psysml:7f7b610c-5cf3-4f1d-92e7-984e3817e328\" xlink:actuate=\"onRequest\" xlink:href=\"psysml:7f7b610c-5cf3-4f1d-92e7-984e3817e328\" xlink:show=\"new\" xlink:title=\"psysml:7f7b610c-5cf3-4f1d-92e7-984e3817e328\" xlink:type=\"simple\"><rect fill=\"#FEFECE\" filter=\"url(#f1xberwt9zqb3q)\" height=\"45.9375\" id=\"E7\" rx=\"10\" ry=\"10\" style=\"stroke: #A80036; stroke-width: 1.5;\" width=\"68\" x=\"137\" y=\"646\"/><ellipse cx=\"152\" cy=\"664.9688\" fill=\"#32CD32\" rx=\"11\" ry=\"11\" style=\"stroke: #A80036; stroke-width: 1.0;\"/><path d=\"M151.7969,660.6406 L151.7969,664.2656 L152.7969,664.2656 Q154,664.2656 154.4844,663.8594 Q154.9688,663.4531 154.9688,662.4531 Q154.9688,661.4531 154.4844,661.0469 Q154,660.6406 152.7969,660.6406 L151.7969,660.6406 Z M149.3438,658.5781 L152.7031,658.5781 Q155.2656,658.5781 156.3906,659.5 Q157.5156,660.4063 157.5156,662.4531 Q157.5156,664.5 156.3906,665.4219 Q155.2656,666.3281 152.7031,666.3281 L151.7969,666.3281 L151.7969,670.9688 L149.3438,670.9688 L149.3438,658.5781 Z \"/><text fill=\"#000000\" font-family=\"sans-serif\" font-size=\"12\" font-style=\"italic\" lengthAdjust=\"spacingAndGlyphs\" textLength=\"40\" x=\"164\" y=\"662.1387\">«part»</text><text fill=\"#000000\" font-family=\"sans-serif\" font-size=\"12\" lengthAdjust=\"spacingAndGlyphs\" textLength=\"24\" x=\"172\" y=\"676.1074\">a: A</text><line style=\"stroke: #A80036; stroke-width: 1.5;\" x1=\"138\" x2=\"204\" y1=\"683.9375\" y2=\"683.9375\"/></a><!--MD5=[b9389687b975829384b498ac4b7476b2]\n",
       "class E8--><a href=\"psysml:3f3cfa4e-9100-4bf2-8dae-183ab53e5ac5\" target=\"_top\" title=\"psysml:3f3cfa4e-9100-4bf2-8dae-183ab53e5ac5\" xlink:actuate=\"onRequest\" xlink:href=\"psysml:3f3cfa4e-9100-4bf2-8dae-183ab53e5ac5\" xlink:show=\"new\" xlink:title=\"psysml:3f3cfa4e-9100-4bf2-8dae-183ab53e5ac5\" xlink:type=\"simple\"><rect fill=\"#FEFECE\" filter=\"url(#f1xberwt9zqb3q)\" height=\"40\" id=\"E8\" style=\"stroke: #A80036; stroke-width: 1.5;\" width=\"40\" x=\"139\" y=\"428\"/><ellipse cx=\"154\" cy=\"444\" fill=\"#008000\" rx=\"11\" ry=\"11\" style=\"stroke: #A80036; stroke-width: 1.0;\"/><path d=\"M152.9063,444.375 L152.9063,448.0469 L154.5313,448.0469 Q155.7031,448.0469 156.1719,447.6563 Q156.6406,447.25 156.6406,446.25 Q156.6406,445.25 156.1406,444.8125 Q155.6563,444.375 154.5313,444.375 L152.9063,444.375 Z M152.9063,439.5469 L152.9063,442.4219 L154.5313,442.4219 Q155.4531,442.4219 155.8438,442.0938 Q156.25,441.75 156.25,441 Q156.25,440.2344 155.8438,439.8906 Q155.4375,439.5469 154.5313,439.5469 L152.9063,439.5469 Z M150.5313,437.5938 L154.5313,437.5938 Q156.5938,437.5938 157.6406,438.375 Q158.6875,439.1563 158.6875,440.7188 Q158.6875,441.9219 158.0625,442.5938 Q157.4531,443.2656 156.2656,443.375 Q157.6875,443.5156 158.4063,444.3281 Q159.125,445.1406 159.125,446.5938 Q159.125,448.3906 158.0469,449.2031 Q156.9688,450 154.5313,450 L150.5313,450 L150.5313,437.5938 Z \"/><text fill=\"#000000\" font-family=\"sans-serif\" font-size=\"12\" lengthAdjust=\"spacingAndGlyphs\" textLength=\"8\" x=\"168\" y=\"448.1543\">C</text><line style=\"stroke: #A80036; stroke-width: 1.5;\" x1=\"140\" x2=\"178\" y1=\"460\" y2=\"460\"/></a><!--MD5=[fd4143e9d270a159db93a4ea2a975926]\n",
       "class E9--><a href=\"psysml:b18b87fb-d7bd-4905-b0cb-818d68f57f75\" target=\"_top\" title=\"psysml:b18b87fb-d7bd-4905-b0cb-818d68f57f75\" xlink:actuate=\"onRequest\" xlink:href=\"psysml:b18b87fb-d7bd-4905-b0cb-818d68f57f75\" xlink:show=\"new\" xlink:title=\"psysml:b18b87fb-d7bd-4905-b0cb-818d68f57f75\" xlink:type=\"simple\"><rect fill=\"#FEFECE\" filter=\"url(#f1xberwt9zqb3q)\" height=\"88.3516\" id=\"E9\" style=\"stroke: #A80036; stroke-width: 1.5;\" width=\"92\" x=\"32\" y=\"41\"/><ellipse cx=\"47\" cy=\"59.9688\" fill=\"#A52A2A\" rx=\"11\" ry=\"11\" style=\"stroke: #A80036; stroke-width: 1.0;\"/><path d=\"M46.5938,55.7813 L46.5938,63.7656 L47.25,63.7656 Q48.6875,63.7656 49.2969,62.8594 Q49.9219,61.9375 49.9219,59.7656 Q49.9219,57.5938 49.2969,56.6875 Q48.6875,55.7813 47.25,55.7813 L46.5938,55.7813 Z M44.1406,53.5781 L46.7656,53.5781 Q49.7969,53.5781 51.125,55.0313 Q52.4688,56.4688 52.4688,59.7656 Q52.4688,63.0625 51.125,64.5156 Q49.7969,65.9688 46.7656,65.9688 L44.1406,65.9688 L44.1406,53.5781 Z \"/><text fill=\"#000000\" font-family=\"sans-serif\" font-size=\"12\" font-style=\"italic\" lengthAdjust=\"spacingAndGlyphs\" textLength=\"64\" x=\"59\" y=\"57.1387\">«port def»</text><text fill=\"#000000\" font-family=\"sans-serif\" font-size=\"12\" lengthAdjust=\"spacingAndGlyphs\" textLength=\"8\" x=\"87\" y=\"71.1074\">P</text><line style=\"stroke: #A80036; stroke-width: 1.5;\" x1=\"33\" x2=\"123\" y1=\"78.9375\" y2=\"78.9375\"/><text fill=\"#000000\" font-family=\"sans-serif\" font-size=\"11\" lengthAdjust=\"spacingAndGlyphs\" textLength=\"29\" x=\"38\" y=\"109.9526\">a1: A</text><text fill=\"#000000\" font-family=\"sans-serif\" font-size=\"11\" lengthAdjust=\"spacingAndGlyphs\" textLength=\"29\" x=\"38\" y=\"122.7573\">a2: A</text><line style=\"stroke: #A80036; stroke-width: 1.0;\" x1=\"33\" x2=\"62\" y1=\"93.3398\" y2=\"93.3398\"/><text fill=\"#000000\" font-family=\"sans-serif\" font-size=\"11\" lengthAdjust=\"spacingAndGlyphs\" textLength=\"32\" x=\"62\" y=\"96.6479\">items</text><line style=\"stroke: #A80036; stroke-width: 1.0;\" x1=\"94\" x2=\"123\" y1=\"93.3398\" y2=\"93.3398\"/></a><!--MD5=[2720a5a1f2c3fca2055b230370638851]\n",
       "link E2 to E3--><a href=\"psysml:cbc83e8e-35d8-4884-92a4-03d9c321669a\" target=\"_top\" title=\"psysml:cbc83e8e-35d8-4884-92a4-03d9c321669a\" xlink:actuate=\"onRequest\" xlink:href=\"psysml:cbc83e8e-35d8-4884-92a4-03d9c321669a\" xlink:show=\"new\" xlink:title=\"psysml:cbc83e8e-35d8-4884-92a4-03d9c321669a\" xlink:type=\"simple\"><path d=\"M183.47,105.19 C182.14,121.92 180.14,147.01 178.32,169.82 \" fill=\"none\" id=\"E2-&gt;E3\" style=\"stroke: #A80036; stroke-width: 1.0;\"/><polygon fill=\"#FFFFFF\" points=\"176.72,189.84,171.2619,170.341,185.2171,171.4607,176.72,189.84\" style=\"stroke: #A80036; stroke-width: 1.0;\"/><ellipse cx=\"173.7113\" cy=\"164.8193\" fill=\"#A80036\" rx=\"2\" ry=\"2\" style=\"stroke: #A80036; stroke-width: 1.0;\"/><ellipse cx=\"183.6793\" cy=\"165.619\" fill=\"#A80036\" rx=\"2\" ry=\"2\" style=\"stroke: #A80036; stroke-width: 1.0;\"/></a><!--MD5=[191cde3d490a3f6d7bb551fe3ddca469]\n",
       "reverse link E3 to E5--><a href=\"psysml:cb0fe327-dda6-4eae-9e46-1ce946f22982\" target=\"_top\" title=\"psysml:cb0fe327-dda6-4eae-9e46-1ce946f22982\" xlink:actuate=\"onRequest\" xlink:href=\"psysml:cb0fe327-dda6-4eae-9e46-1ce946f22982\" xlink:show=\"new\" xlink:title=\"psysml:cb0fe327-dda6-4eae-9e46-1ce946f22982\" xlink:type=\"simple\"><path d=\"M145.03,257.38 C126.49,277.47 102.88,303.04 86.32,320.99 \" fill=\"none\" id=\"E3&lt;-E5\" style=\"stroke: #A80036; stroke-width: 1.0;\"/><polygon fill=\"#FFFFFF\" points=\"153.94,247.73,146.9306,249.4235,145.7979,256.5451,152.8073,254.8516,153.94,247.73\" style=\"stroke: #A80036; stroke-width: 1.0;\"/></a><!--MD5=[14ccda38c055a5c0da953d572bc50960]\n",
       "link E7 to E3--><a href=\"psysml:b2ac9add-d533-4cc3-a1ec-28b279e4ff39\" target=\"_top\" title=\"psysml:b2ac9add-d533-4cc3-a1ec-28b279e4ff39\" xlink:actuate=\"onRequest\" xlink:href=\"psysml:b2ac9add-d533-4cc3-a1ec-28b279e4ff39\" xlink:show=\"new\" xlink:title=\"psysml:b2ac9add-d533-4cc3-a1ec-28b279e4ff39\" xlink:type=\"simple\"><path d=\"M186.89,645.69 C199.49,625.78 215,595.31 215,566 C215,343 215,343 215,343 C215,321.21 208.59,298.35 200.83,278.68 \" fill=\"none\" id=\"E7-&gt;E3\" style=\"stroke: #A80036; stroke-width: 1.0;\"/><polygon fill=\"#FFFFFF\" points=\"192.82,260.23,206.8032,274.8748,193.9596,280.4464,192.82,260.23\" style=\"stroke: #A80036; stroke-width: 1.0;\"/><ellipse cx=\"207.2368\" cy=\"280.8999\" fill=\"#A80036\" rx=\"2\" ry=\"2\" style=\"stroke: #A80036; stroke-width: 1.0;\"/><ellipse cx=\"198.0628\" cy=\"284.8796\" fill=\"#A80036\" rx=\"2\" ry=\"2\" style=\"stroke: #A80036; stroke-width: 1.0;\"/></a><!--MD5=[3f50a3473f1dfb74d3f76443e03635af]\n",
       "reverse link E6 to E7--><a href=\"psysml:7f7b610c-5cf3-4f1d-92e7-984e3817e328\" target=\"_top\" title=\"psysml:7f7b610c-5cf3-4f1d-92e7-984e3817e328\" xlink:actuate=\"onRequest\" xlink:href=\"psysml:7f7b610c-5cf3-4f1d-92e7-984e3817e328\" xlink:show=\"new\" xlink:title=\"psysml:7f7b610c-5cf3-4f1d-92e7-984e3817e328\" xlink:type=\"simple\"><path d=\"M162.81,598.41 C164.63,613.82 166.75,631.86 168.38,645.7 \" fill=\"none\" id=\"E6&lt;-E7\" style=\"stroke: #A80036; stroke-width: 1.0;\"/><polygon fill=\"#A80036\" points=\"161.26,585.19,157.9938,591.619,162.672,597.1066,165.9382,590.6776,161.26,585.19\" style=\"stroke: #A80036; stroke-width: 1.0;\"/></a><!--MD5=[dfaffb906826c3e5aca635516100ff21]\n",
       "link E5 to E8--><a href=\"psysml:8f4ff897-72ba-4249-b35c-9a7192bde9f3\" target=\"_top\" title=\"psysml:8f4ff897-72ba-4249-b35c-9a7192bde9f3\" xlink:actuate=\"onRequest\" xlink:href=\"psysml:8f4ff897-72ba-4249-b35c-9a7192bde9f3\" xlink:show=\"new\" xlink:title=\"psysml:8f4ff897-72ba-4249-b35c-9a7192bde9f3\" xlink:type=\"simple\"><path d=\"M86.18,367.13 C98.34,380.47 114.08,397.74 127.82,412.8 \" fill=\"none\" id=\"E5-&gt;E8\" style=\"stroke: #A80036; stroke-width: 1.0;\"/><polygon fill=\"#FFFFFF\" points=\"141.67,428,123.6993,418.6697,134.0481,409.2408,141.67,428\" style=\"stroke: #A80036; stroke-width: 1.0;\"/><ellipse cx=\"121.3388\" cy=\"413.1093\" fill=\"#A80036\" rx=\"2\" ry=\"2\" style=\"stroke: #A80036; stroke-width: 1.0;\"/><ellipse cx=\"128.7308\" cy=\"406.3744\" fill=\"#A80036\" rx=\"2\" ry=\"2\" style=\"stroke: #A80036; stroke-width: 1.0;\"/></a><!--MD5=[03c8294790d3c57651a1993cecff665f]\n",
       "reverse link E8 to E3--><a href=\"psysml:44d9af1e-71a6-403b-81da-6292c3b1f2cb\" target=\"_top\" title=\"psysml:44d9af1e-71a6-403b-81da-6292c3b1f2cb\" xlink:actuate=\"onRequest\" xlink:href=\"psysml:44d9af1e-71a6-403b-81da-6292c3b1f2cb\" xlink:show=\"new\" xlink:title=\"psysml:44d9af1e-71a6-403b-81da-6292c3b1f2cb\" xlink:type=\"simple\"><path d=\"M161.17,414.97 C163.97,373.71 168.82,302.27 171.69,260.05 \" fill=\"none\" id=\"E8&lt;-E3\" style=\"stroke: #A80036; stroke-width: 1.0;\"/><polygon fill=\"#FFFFFF\" points=\"160.29,427.97,164.6894,422.2564,161.1075,415.9979,156.708,421.7114,160.29,427.97\" style=\"stroke: #A80036; stroke-width: 1.0;\"/><text fill=\"#000000\" font-family=\"sans-serif\" font-size=\"13\" lengthAdjust=\"spacingAndGlyphs\" textLength=\"7\" x=\"168\" y=\"348.5669\">y</text></a><!--MD5=[0d75d2178373a6a4568e5dc728f58aef]\n",
       "reverse link E8 to E6--><a href=\"psysml:44d9af1e-71a6-403b-81da-6292c3b1f2cb\" target=\"_top\" title=\"psysml:44d9af1e-71a6-403b-81da-6292c3b1f2cb\" xlink:actuate=\"onRequest\" xlink:href=\"psysml:44d9af1e-71a6-403b-81da-6292c3b1f2cb\" xlink:show=\"new\" xlink:title=\"psysml:44d9af1e-71a6-403b-81da-6292c3b1f2cb\" xlink:type=\"simple\"><path d=\"M159,481.36 C159,501.76 159,527.42 159,544.69 \" fill=\"none\" id=\"E8&lt;-E6\" style=\"stroke: #A80036; stroke-width: 1.0;\"/><polygon fill=\"#FFFFFF\" points=\"159,468.25,155,474.25,159,480.25,163,474.25,159,468.25\" style=\"stroke: #A80036; stroke-width: 1.0;\"/><text fill=\"#000000\" font-family=\"sans-serif\" font-size=\"13\" lengthAdjust=\"spacingAndGlyphs\" textLength=\"7\" x=\"160\" y=\"511.0669\">y</text></a><!--MD5=[366bc3a91e3cc6707f85bbb5fdae0b21]\n",
       "@startuml\r\n",
       " \r\n",
       "package \"ItemTest\" as E1  [[psysml:75fb623a-e350-4a47-9f82-c4d20b2b5b80 ]]  {\r\n",
       "comp usage \"f: A\" as E2  << (P,limegreen) >> [[psysml:d8a17efa-9aba-4cd7-b18a-68f8ed4c599b ]] {\r\n",
       "}\r\n",
       "comp def \"A\" as E3  << (B,green) >> [[psysml:30552314-ef8a-4f2d-b223-fa6e862cb5b8 ]] {\r\n",
       "- - items - -\r\n",
       "b: B\r\n",
       "}\r\n",
       "comp usage \"c: C\" as E5  << (P,limegreen) part>> [[psysml:cb0fe327-dda6-4eae-9e46-1ce946f22982 ]] {\r\n",
       "}\r\n",
       "comp def \"B\" as E6  << (B,green) >> [[psysml:0c776550-23a6-42b8-908b-320a74e2d4ee ]] {\r\n",
       "}\r\n",
       "comp usage \"a: A\" as E7  << (P,limegreen) part>> [[psysml:7f7b610c-5cf3-4f1d-92e7-984e3817e328 ]] {\r\n",
       "}\r\n",
       "comp def \"C\" as E8  << (B,green) >> [[psysml:3f3cfa4e-9100-4bf2-8dae-183ab53e5ac5 ]] {\r\n",
       "}\r\n",
       "comp def \"P\" as E9  <<(D,brown)port def>> [[psysml:b18b87fb-d7bd-4905-b0cb-818d68f57f75 ]] {\r\n",
       "- - items - -\r\n",
       "a1: A\r\n",
       "a2: A\r\n",
       "}\r\n",
       "E2 - -:|> E3 [[psysml:cbc83e8e-35d8-4884-92a4-03d9c321669a ]] \r\n",
       "E3 o- - E5 [[psysml:cb0fe327-dda6-4eae-9e46-1ce946f22982 ]] \r\n",
       "E7 - -:|> E3 [[psysml:b2ac9add-d533-4cc3-a1ec-28b279e4ff39 ]] \r\n",
       "E6 *- - E7 [[psysml:7f7b610c-5cf3-4f1d-92e7-984e3817e328 ]] \r\n",
       "E5 - -:|> E8 [[psysml:8f4ff897-72ba-4249-b35c-9a7192bde9f3 ]] \r\n",
       "E8 o- - E3 [[psysml:44d9af1e-71a6-403b-81da-6292c3b1f2cb ]] : y\r\n",
       "E8 o- - E6 [[psysml:44d9af1e-71a6-403b-81da-6292c3b1f2cb ]] : y\r\n",
       "}\r\n",
       "@enduml\r\n",
       "\n",
       "PlantUML version 1.2020.13(Sat Jun 13 12:26:38 UTC 2020)\n",
       "(EPL source distribution)\n",
       "Java Runtime: OpenJDK Runtime Environment\n",
       "JVM: OpenJDK 64-Bit Server VM\n",
       "Default Encoding: UTF-8\n",
       "Language: en\n",
       "Country: null\n",
       "--></g></svg>"
      ]
     },
     "execution_count": 35,
     "metadata": {},
     "output_type": "execute_result"
    }
   ],
   "source": [
    "%viz --style=\"PLANTUML\" --view=\"Sequence\" \"ItemTest\""
   ]
  },
  {
   "cell_type": "code",
   "execution_count": 36,
   "id": "judicial-benjamin",
   "metadata": {
    "execution": {
     "iopub.execute_input": "2021-03-26T12:12:07.499686Z",
     "iopub.status.busy": "2021-03-26T12:12:07.498570Z",
     "iopub.status.idle": "2021-03-26T12:12:07.562471Z",
     "shell.execute_reply": "2021-03-26T12:12:07.560970Z"
    }
   },
   "outputs": [
    {
     "data": {
      "image/svg+xml": [
       "<?xml version=\"1.0\" encoding=\"UTF-8\" standalone=\"no\"?><svg xmlns=\"http://www.w3.org/2000/svg\" xmlns:xlink=\"http://www.w3.org/1999/xlink\" contentScriptType=\"application/ecmascript\" contentStyleType=\"text/css\" height=\"720px\" preserveAspectRatio=\"none\" style=\"width:254px;height:720px;\" version=\"1.1\" viewBox=\"0 0 254 720\" width=\"254px\" zoomAndPan=\"magnify\"><defs><filter height=\"300%\" id=\"f1xberwt9zqb3q\" width=\"300%\" x=\"-1\" y=\"-1\"><feGaussianBlur result=\"blurOut\" stdDeviation=\"2.0\"/><feColorMatrix in=\"blurOut\" result=\"blurOut2\" type=\"matrix\" values=\"0 0 0 0 0 0 0 0 0 0 0 0 0 0 0 0 0 0 .4 0\"/><feOffset dx=\"4.0\" dy=\"4.0\" in=\"blurOut2\" result=\"blurOut3\"/><feBlend in=\"SourceGraphic\" in2=\"blurOut3\" mode=\"normal\"/></filter></defs><g><!--MD5=[fbc87193dbaf4d95561dea2c320d4a47]\n",
       "cluster E1--><a href=\"psysml:75fb623a-e350-4a47-9f82-c4d20b2b5b80\" target=\"_top\" title=\"psysml:75fb623a-e350-4a47-9f82-c4d20b2b5b80\" xlink:actuate=\"onRequest\" xlink:href=\"psysml:75fb623a-e350-4a47-9f82-c4d20b2b5b80\" xlink:show=\"new\" xlink:title=\"psysml:75fb623a-e350-4a47-9f82-c4d20b2b5b80\" xlink:type=\"simple\"><polygon fill=\"#FFFFFF\" filter=\"url(#f1xberwt9zqb3q)\" points=\"16,6,91,6,98,28.2969,232,28.2969,232,708,16,708,16,6\" style=\"stroke: #000000; stroke-width: 1.5;\"/><line style=\"stroke: #000000; stroke-width: 1.5;\" x1=\"16\" x2=\"98\" y1=\"28.2969\" y2=\"28.2969\"/><text fill=\"#000000\" font-family=\"sans-serif\" font-size=\"14\" font-weight=\"bold\" lengthAdjust=\"spacingAndGlyphs\" textLength=\"69\" x=\"20\" y=\"20.9951\">ItemTest</text></a><!--MD5=[b4997ac47864f28c2f74865a473b2911]\n",
       "class E2--><a href=\"psysml:d8a17efa-9aba-4cd7-b18a-68f8ed4c599b\" target=\"_top\" title=\"psysml:d8a17efa-9aba-4cd7-b18a-68f8ed4c599b\" xlink:actuate=\"onRequest\" xlink:href=\"psysml:d8a17efa-9aba-4cd7-b18a-68f8ed4c599b\" xlink:show=\"new\" xlink:title=\"psysml:d8a17efa-9aba-4cd7-b18a-68f8ed4c599b\" xlink:type=\"simple\"><rect fill=\"#FEFECE\" filter=\"url(#f1xberwt9zqb3q)\" height=\"40\" id=\"E2\" rx=\"10\" ry=\"10\" style=\"stroke: #A80036; stroke-width: 1.5;\" width=\"52\" x=\"159\" y=\"65\"/><ellipse cx=\"174\" cy=\"81\" fill=\"#32CD32\" rx=\"11\" ry=\"11\" style=\"stroke: #A80036; stroke-width: 1.0;\"/><path d=\"M173.7969,76.6719 L173.7969,80.2969 L174.7969,80.2969 Q176,80.2969 176.4844,79.8906 Q176.9688,79.4844 176.9688,78.4844 Q176.9688,77.4844 176.4844,77.0781 Q176,76.6719 174.7969,76.6719 L173.7969,76.6719 Z M171.3438,74.6094 L174.7031,74.6094 Q177.2656,74.6094 178.3906,75.5313 Q179.5156,76.4375 179.5156,78.4844 Q179.5156,80.5313 178.3906,81.4531 Q177.2656,82.3594 174.7031,82.3594 L173.7969,82.3594 L173.7969,87 L171.3438,87 L171.3438,74.6094 Z \"/><text fill=\"#000000\" font-family=\"sans-serif\" font-size=\"12\" lengthAdjust=\"spacingAndGlyphs\" textLength=\"20\" x=\"188\" y=\"85.1543\">f: A</text><line style=\"stroke: #A80036; stroke-width: 1.5;\" x1=\"160\" x2=\"210\" y1=\"97\" y2=\"97\"/></a><!--MD5=[09b614a08d8cba4a07c9adeb5e0fee81]\n",
       "class E3--><a href=\"psysml:30552314-ef8a-4f2d-b223-fa6e862cb5b8\" target=\"_top\" title=\"psysml:30552314-ef8a-4f2d-b223-fa6e862cb5b8\" xlink:actuate=\"onRequest\" xlink:href=\"psysml:30552314-ef8a-4f2d-b223-fa6e862cb5b8\" xlink:show=\"new\" xlink:title=\"psysml:30552314-ef8a-4f2d-b223-fa6e862cb5b8\" xlink:type=\"simple\"><rect fill=\"#FEFECE\" filter=\"url(#f1xberwt9zqb3q)\" height=\"69.6094\" id=\"E3\" style=\"stroke: #A80036; stroke-width: 1.5;\" width=\"40\" x=\"154\" y=\"190\"/><ellipse cx=\"169\" cy=\"206\" fill=\"#008000\" rx=\"11\" ry=\"11\" style=\"stroke: #A80036; stroke-width: 1.0;\"/><path d=\"M167.9063,206.375 L167.9063,210.0469 L169.5313,210.0469 Q170.7031,210.0469 171.1719,209.6563 Q171.6406,209.25 171.6406,208.25 Q171.6406,207.25 171.1406,206.8125 Q170.6563,206.375 169.5313,206.375 L167.9063,206.375 Z M167.9063,201.5469 L167.9063,204.4219 L169.5313,204.4219 Q170.4531,204.4219 170.8438,204.0938 Q171.25,203.75 171.25,203 Q171.25,202.2344 170.8438,201.8906 Q170.4375,201.5469 169.5313,201.5469 L167.9063,201.5469 Z M165.5313,199.5938 L169.5313,199.5938 Q171.5938,199.5938 172.6406,200.375 Q173.6875,201.1563 173.6875,202.7188 Q173.6875,203.9219 173.0625,204.5938 Q172.4531,205.2656 171.2656,205.375 Q172.6875,205.5156 173.4063,206.3281 Q174.125,207.1406 174.125,208.5938 Q174.125,210.3906 173.0469,211.2031 Q171.9688,212 169.5313,212 L165.5313,212 L165.5313,199.5938 Z \"/><text fill=\"#000000\" font-family=\"sans-serif\" font-size=\"12\" lengthAdjust=\"spacingAndGlyphs\" textLength=\"8\" x=\"183\" y=\"210.1543\">A</text><line style=\"stroke: #A80036; stroke-width: 1.5;\" x1=\"155\" x2=\"193\" y1=\"222\" y2=\"222\"/><text fill=\"#000000\" font-family=\"sans-serif\" font-size=\"11\" lengthAdjust=\"spacingAndGlyphs\" textLength=\"23\" x=\"160\" y=\"253.0151\">b: B</text><line style=\"stroke: #A80036; stroke-width: 1.0;\" x1=\"155\" x2=\"158\" y1=\"236.4023\" y2=\"236.4023\"/><text fill=\"#000000\" font-family=\"sans-serif\" font-size=\"11\" lengthAdjust=\"spacingAndGlyphs\" textLength=\"32\" x=\"158\" y=\"239.7104\">items</text><line style=\"stroke: #A80036; stroke-width: 1.0;\" x1=\"190\" x2=\"193\" y1=\"236.4023\" y2=\"236.4023\"/></a><!--MD5=[270fce915f116d4de14055a7c1d9a0f3]\n",
       "class E5--><a href=\"psysml:cb0fe327-dda6-4eae-9e46-1ce946f22982\" target=\"_top\" title=\"psysml:cb0fe327-dda6-4eae-9e46-1ce946f22982\" xlink:actuate=\"onRequest\" xlink:href=\"psysml:cb0fe327-dda6-4eae-9e46-1ce946f22982\" xlink:show=\"new\" xlink:title=\"psysml:cb0fe327-dda6-4eae-9e46-1ce946f22982\" xlink:type=\"simple\"><rect fill=\"#FEFECE\" filter=\"url(#f1xberwt9zqb3q)\" height=\"45.9375\" id=\"E5\" rx=\"10\" ry=\"10\" style=\"stroke: #A80036; stroke-width: 1.5;\" width=\"68\" x=\"32\" y=\"321\"/><ellipse cx=\"47\" cy=\"339.9688\" fill=\"#32CD32\" rx=\"11\" ry=\"11\" style=\"stroke: #A80036; stroke-width: 1.0;\"/><path d=\"M46.7969,335.6406 L46.7969,339.2656 L47.7969,339.2656 Q49,339.2656 49.4844,338.8594 Q49.9688,338.4531 49.9688,337.4531 Q49.9688,336.4531 49.4844,336.0469 Q49,335.6406 47.7969,335.6406 L46.7969,335.6406 Z M44.3438,333.5781 L47.7031,333.5781 Q50.2656,333.5781 51.3906,334.5 Q52.5156,335.4063 52.5156,337.4531 Q52.5156,339.5 51.3906,340.4219 Q50.2656,341.3281 47.7031,341.3281 L46.7969,341.3281 L46.7969,345.9688 L44.3438,345.9688 L44.3438,333.5781 Z \"/><text fill=\"#000000\" font-family=\"sans-serif\" font-size=\"12\" font-style=\"italic\" lengthAdjust=\"spacingAndGlyphs\" textLength=\"40\" x=\"59\" y=\"337.1387\">«part»</text><text fill=\"#000000\" font-family=\"sans-serif\" font-size=\"12\" lengthAdjust=\"spacingAndGlyphs\" textLength=\"23\" x=\"67.5\" y=\"351.1074\">c: C</text><line style=\"stroke: #A80036; stroke-width: 1.5;\" x1=\"33\" x2=\"99\" y1=\"358.9375\" y2=\"358.9375\"/></a><!--MD5=[60a26617385b1d2d0262a64233df1f8d]\n",
       "class E6--><a href=\"psysml:0c776550-23a6-42b8-908b-320a74e2d4ee\" target=\"_top\" title=\"psysml:0c776550-23a6-42b8-908b-320a74e2d4ee\" xlink:actuate=\"onRequest\" xlink:href=\"psysml:0c776550-23a6-42b8-908b-320a74e2d4ee\" xlink:show=\"new\" xlink:title=\"psysml:0c776550-23a6-42b8-908b-320a74e2d4ee\" xlink:type=\"simple\"><rect fill=\"#FEFECE\" filter=\"url(#f1xberwt9zqb3q)\" height=\"40\" id=\"E6\" style=\"stroke: #A80036; stroke-width: 1.5;\" width=\"40\" x=\"139\" y=\"545\"/><ellipse cx=\"154\" cy=\"561\" fill=\"#008000\" rx=\"11\" ry=\"11\" style=\"stroke: #A80036; stroke-width: 1.0;\"/><path d=\"M152.9063,561.375 L152.9063,565.0469 L154.5313,565.0469 Q155.7031,565.0469 156.1719,564.6563 Q156.6406,564.25 156.6406,563.25 Q156.6406,562.25 156.1406,561.8125 Q155.6563,561.375 154.5313,561.375 L152.9063,561.375 Z M152.9063,556.5469 L152.9063,559.4219 L154.5313,559.4219 Q155.4531,559.4219 155.8438,559.0938 Q156.25,558.75 156.25,558 Q156.25,557.2344 155.8438,556.8906 Q155.4375,556.5469 154.5313,556.5469 L152.9063,556.5469 Z M150.5313,554.5938 L154.5313,554.5938 Q156.5938,554.5938 157.6406,555.375 Q158.6875,556.1563 158.6875,557.7188 Q158.6875,558.9219 158.0625,559.5938 Q157.4531,560.2656 156.2656,560.375 Q157.6875,560.5156 158.4063,561.3281 Q159.125,562.1406 159.125,563.5938 Q159.125,565.3906 158.0469,566.2031 Q156.9688,567 154.5313,567 L150.5313,567 L150.5313,554.5938 Z \"/><text fill=\"#000000\" font-family=\"sans-serif\" font-size=\"12\" lengthAdjust=\"spacingAndGlyphs\" textLength=\"8\" x=\"168\" y=\"565.1543\">B</text><line style=\"stroke: #A80036; stroke-width: 1.5;\" x1=\"140\" x2=\"178\" y1=\"577\" y2=\"577\"/></a><!--MD5=[2156ba9850f5573cc1fc38a6a4b2f02b]\n",
       "class E7--><a href=\"psysml:7f7b610c-5cf3-4f1d-92e7-984e3817e328\" target=\"_top\" title=\"psysml:7f7b610c-5cf3-4f1d-92e7-984e3817e328\" xlink:actuate=\"onRequest\" xlink:href=\"psysml:7f7b610c-5cf3-4f1d-92e7-984e3817e328\" xlink:show=\"new\" xlink:title=\"psysml:7f7b610c-5cf3-4f1d-92e7-984e3817e328\" xlink:type=\"simple\"><rect fill=\"#FEFECE\" filter=\"url(#f1xberwt9zqb3q)\" height=\"45.9375\" id=\"E7\" rx=\"10\" ry=\"10\" style=\"stroke: #A80036; stroke-width: 1.5;\" width=\"68\" x=\"137\" y=\"646\"/><ellipse cx=\"152\" cy=\"664.9688\" fill=\"#32CD32\" rx=\"11\" ry=\"11\" style=\"stroke: #A80036; stroke-width: 1.0;\"/><path d=\"M151.7969,660.6406 L151.7969,664.2656 L152.7969,664.2656 Q154,664.2656 154.4844,663.8594 Q154.9688,663.4531 154.9688,662.4531 Q154.9688,661.4531 154.4844,661.0469 Q154,660.6406 152.7969,660.6406 L151.7969,660.6406 Z M149.3438,658.5781 L152.7031,658.5781 Q155.2656,658.5781 156.3906,659.5 Q157.5156,660.4063 157.5156,662.4531 Q157.5156,664.5 156.3906,665.4219 Q155.2656,666.3281 152.7031,666.3281 L151.7969,666.3281 L151.7969,670.9688 L149.3438,670.9688 L149.3438,658.5781 Z \"/><text fill=\"#000000\" font-family=\"sans-serif\" font-size=\"12\" font-style=\"italic\" lengthAdjust=\"spacingAndGlyphs\" textLength=\"40\" x=\"164\" y=\"662.1387\">«part»</text><text fill=\"#000000\" font-family=\"sans-serif\" font-size=\"12\" lengthAdjust=\"spacingAndGlyphs\" textLength=\"24\" x=\"172\" y=\"676.1074\">a: A</text><line style=\"stroke: #A80036; stroke-width: 1.5;\" x1=\"138\" x2=\"204\" y1=\"683.9375\" y2=\"683.9375\"/></a><!--MD5=[b9389687b975829384b498ac4b7476b2]\n",
       "class E8--><a href=\"psysml:3f3cfa4e-9100-4bf2-8dae-183ab53e5ac5\" target=\"_top\" title=\"psysml:3f3cfa4e-9100-4bf2-8dae-183ab53e5ac5\" xlink:actuate=\"onRequest\" xlink:href=\"psysml:3f3cfa4e-9100-4bf2-8dae-183ab53e5ac5\" xlink:show=\"new\" xlink:title=\"psysml:3f3cfa4e-9100-4bf2-8dae-183ab53e5ac5\" xlink:type=\"simple\"><rect fill=\"#FEFECE\" filter=\"url(#f1xberwt9zqb3q)\" height=\"40\" id=\"E8\" style=\"stroke: #A80036; stroke-width: 1.5;\" width=\"40\" x=\"139\" y=\"428\"/><ellipse cx=\"154\" cy=\"444\" fill=\"#008000\" rx=\"11\" ry=\"11\" style=\"stroke: #A80036; stroke-width: 1.0;\"/><path d=\"M152.9063,444.375 L152.9063,448.0469 L154.5313,448.0469 Q155.7031,448.0469 156.1719,447.6563 Q156.6406,447.25 156.6406,446.25 Q156.6406,445.25 156.1406,444.8125 Q155.6563,444.375 154.5313,444.375 L152.9063,444.375 Z M152.9063,439.5469 L152.9063,442.4219 L154.5313,442.4219 Q155.4531,442.4219 155.8438,442.0938 Q156.25,441.75 156.25,441 Q156.25,440.2344 155.8438,439.8906 Q155.4375,439.5469 154.5313,439.5469 L152.9063,439.5469 Z M150.5313,437.5938 L154.5313,437.5938 Q156.5938,437.5938 157.6406,438.375 Q158.6875,439.1563 158.6875,440.7188 Q158.6875,441.9219 158.0625,442.5938 Q157.4531,443.2656 156.2656,443.375 Q157.6875,443.5156 158.4063,444.3281 Q159.125,445.1406 159.125,446.5938 Q159.125,448.3906 158.0469,449.2031 Q156.9688,450 154.5313,450 L150.5313,450 L150.5313,437.5938 Z \"/><text fill=\"#000000\" font-family=\"sans-serif\" font-size=\"12\" lengthAdjust=\"spacingAndGlyphs\" textLength=\"8\" x=\"168\" y=\"448.1543\">C</text><line style=\"stroke: #A80036; stroke-width: 1.5;\" x1=\"140\" x2=\"178\" y1=\"460\" y2=\"460\"/></a><!--MD5=[fd4143e9d270a159db93a4ea2a975926]\n",
       "class E9--><a href=\"psysml:b18b87fb-d7bd-4905-b0cb-818d68f57f75\" target=\"_top\" title=\"psysml:b18b87fb-d7bd-4905-b0cb-818d68f57f75\" xlink:actuate=\"onRequest\" xlink:href=\"psysml:b18b87fb-d7bd-4905-b0cb-818d68f57f75\" xlink:show=\"new\" xlink:title=\"psysml:b18b87fb-d7bd-4905-b0cb-818d68f57f75\" xlink:type=\"simple\"><rect fill=\"#FEFECE\" filter=\"url(#f1xberwt9zqb3q)\" height=\"88.3516\" id=\"E9\" style=\"stroke: #A80036; stroke-width: 1.5;\" width=\"92\" x=\"32\" y=\"41\"/><ellipse cx=\"47\" cy=\"59.9688\" fill=\"#A52A2A\" rx=\"11\" ry=\"11\" style=\"stroke: #A80036; stroke-width: 1.0;\"/><path d=\"M46.5938,55.7813 L46.5938,63.7656 L47.25,63.7656 Q48.6875,63.7656 49.2969,62.8594 Q49.9219,61.9375 49.9219,59.7656 Q49.9219,57.5938 49.2969,56.6875 Q48.6875,55.7813 47.25,55.7813 L46.5938,55.7813 Z M44.1406,53.5781 L46.7656,53.5781 Q49.7969,53.5781 51.125,55.0313 Q52.4688,56.4688 52.4688,59.7656 Q52.4688,63.0625 51.125,64.5156 Q49.7969,65.9688 46.7656,65.9688 L44.1406,65.9688 L44.1406,53.5781 Z \"/><text fill=\"#000000\" font-family=\"sans-serif\" font-size=\"12\" font-style=\"italic\" lengthAdjust=\"spacingAndGlyphs\" textLength=\"64\" x=\"59\" y=\"57.1387\">«port def»</text><text fill=\"#000000\" font-family=\"sans-serif\" font-size=\"12\" lengthAdjust=\"spacingAndGlyphs\" textLength=\"8\" x=\"87\" y=\"71.1074\">P</text><line style=\"stroke: #A80036; stroke-width: 1.5;\" x1=\"33\" x2=\"123\" y1=\"78.9375\" y2=\"78.9375\"/><text fill=\"#000000\" font-family=\"sans-serif\" font-size=\"11\" lengthAdjust=\"spacingAndGlyphs\" textLength=\"29\" x=\"38\" y=\"109.9526\">a1: A</text><text fill=\"#000000\" font-family=\"sans-serif\" font-size=\"11\" lengthAdjust=\"spacingAndGlyphs\" textLength=\"29\" x=\"38\" y=\"122.7573\">a2: A</text><line style=\"stroke: #A80036; stroke-width: 1.0;\" x1=\"33\" x2=\"62\" y1=\"93.3398\" y2=\"93.3398\"/><text fill=\"#000000\" font-family=\"sans-serif\" font-size=\"11\" lengthAdjust=\"spacingAndGlyphs\" textLength=\"32\" x=\"62\" y=\"96.6479\">items</text><line style=\"stroke: #A80036; stroke-width: 1.0;\" x1=\"94\" x2=\"123\" y1=\"93.3398\" y2=\"93.3398\"/></a><!--MD5=[2720a5a1f2c3fca2055b230370638851]\n",
       "link E2 to E3--><a href=\"psysml:cbc83e8e-35d8-4884-92a4-03d9c321669a\" target=\"_top\" title=\"psysml:cbc83e8e-35d8-4884-92a4-03d9c321669a\" xlink:actuate=\"onRequest\" xlink:href=\"psysml:cbc83e8e-35d8-4884-92a4-03d9c321669a\" xlink:show=\"new\" xlink:title=\"psysml:cbc83e8e-35d8-4884-92a4-03d9c321669a\" xlink:type=\"simple\"><path d=\"M183.47,105.19 C182.14,121.92 180.14,147.01 178.32,169.82 \" fill=\"none\" id=\"E2-&gt;E3\" style=\"stroke: #A80036; stroke-width: 1.0;\"/><polygon fill=\"#FFFFFF\" points=\"176.72,189.84,171.2619,170.341,185.2171,171.4607,176.72,189.84\" style=\"stroke: #A80036; stroke-width: 1.0;\"/><ellipse cx=\"173.7113\" cy=\"164.8193\" fill=\"#A80036\" rx=\"2\" ry=\"2\" style=\"stroke: #A80036; stroke-width: 1.0;\"/><ellipse cx=\"183.6793\" cy=\"165.619\" fill=\"#A80036\" rx=\"2\" ry=\"2\" style=\"stroke: #A80036; stroke-width: 1.0;\"/></a><!--MD5=[191cde3d490a3f6d7bb551fe3ddca469]\n",
       "reverse link E3 to E5--><a href=\"psysml:cb0fe327-dda6-4eae-9e46-1ce946f22982\" target=\"_top\" title=\"psysml:cb0fe327-dda6-4eae-9e46-1ce946f22982\" xlink:actuate=\"onRequest\" xlink:href=\"psysml:cb0fe327-dda6-4eae-9e46-1ce946f22982\" xlink:show=\"new\" xlink:title=\"psysml:cb0fe327-dda6-4eae-9e46-1ce946f22982\" xlink:type=\"simple\"><path d=\"M145.03,257.38 C126.49,277.47 102.88,303.04 86.32,320.99 \" fill=\"none\" id=\"E3&lt;-E5\" style=\"stroke: #A80036; stroke-width: 1.0;\"/><polygon fill=\"#FFFFFF\" points=\"153.94,247.73,146.9306,249.4235,145.7979,256.5451,152.8073,254.8516,153.94,247.73\" style=\"stroke: #A80036; stroke-width: 1.0;\"/></a><!--MD5=[14ccda38c055a5c0da953d572bc50960]\n",
       "link E7 to E3--><a href=\"psysml:b2ac9add-d533-4cc3-a1ec-28b279e4ff39\" target=\"_top\" title=\"psysml:b2ac9add-d533-4cc3-a1ec-28b279e4ff39\" xlink:actuate=\"onRequest\" xlink:href=\"psysml:b2ac9add-d533-4cc3-a1ec-28b279e4ff39\" xlink:show=\"new\" xlink:title=\"psysml:b2ac9add-d533-4cc3-a1ec-28b279e4ff39\" xlink:type=\"simple\"><path d=\"M186.89,645.69 C199.49,625.78 215,595.31 215,566 C215,343 215,343 215,343 C215,321.21 208.59,298.35 200.83,278.68 \" fill=\"none\" id=\"E7-&gt;E3\" style=\"stroke: #A80036; stroke-width: 1.0;\"/><polygon fill=\"#FFFFFF\" points=\"192.82,260.23,206.8032,274.8748,193.9596,280.4464,192.82,260.23\" style=\"stroke: #A80036; stroke-width: 1.0;\"/><ellipse cx=\"207.2368\" cy=\"280.8999\" fill=\"#A80036\" rx=\"2\" ry=\"2\" style=\"stroke: #A80036; stroke-width: 1.0;\"/><ellipse cx=\"198.0628\" cy=\"284.8796\" fill=\"#A80036\" rx=\"2\" ry=\"2\" style=\"stroke: #A80036; stroke-width: 1.0;\"/></a><!--MD5=[3f50a3473f1dfb74d3f76443e03635af]\n",
       "reverse link E6 to E7--><a href=\"psysml:7f7b610c-5cf3-4f1d-92e7-984e3817e328\" target=\"_top\" title=\"psysml:7f7b610c-5cf3-4f1d-92e7-984e3817e328\" xlink:actuate=\"onRequest\" xlink:href=\"psysml:7f7b610c-5cf3-4f1d-92e7-984e3817e328\" xlink:show=\"new\" xlink:title=\"psysml:7f7b610c-5cf3-4f1d-92e7-984e3817e328\" xlink:type=\"simple\"><path d=\"M162.81,598.41 C164.63,613.82 166.75,631.86 168.38,645.7 \" fill=\"none\" id=\"E6&lt;-E7\" style=\"stroke: #A80036; stroke-width: 1.0;\"/><polygon fill=\"#A80036\" points=\"161.26,585.19,157.9938,591.619,162.672,597.1066,165.9382,590.6776,161.26,585.19\" style=\"stroke: #A80036; stroke-width: 1.0;\"/></a><!--MD5=[dfaffb906826c3e5aca635516100ff21]\n",
       "link E5 to E8--><a href=\"psysml:8f4ff897-72ba-4249-b35c-9a7192bde9f3\" target=\"_top\" title=\"psysml:8f4ff897-72ba-4249-b35c-9a7192bde9f3\" xlink:actuate=\"onRequest\" xlink:href=\"psysml:8f4ff897-72ba-4249-b35c-9a7192bde9f3\" xlink:show=\"new\" xlink:title=\"psysml:8f4ff897-72ba-4249-b35c-9a7192bde9f3\" xlink:type=\"simple\"><path d=\"M86.18,367.13 C98.34,380.47 114.08,397.74 127.82,412.8 \" fill=\"none\" id=\"E5-&gt;E8\" style=\"stroke: #A80036; stroke-width: 1.0;\"/><polygon fill=\"#FFFFFF\" points=\"141.67,428,123.6993,418.6697,134.0481,409.2408,141.67,428\" style=\"stroke: #A80036; stroke-width: 1.0;\"/><ellipse cx=\"121.3388\" cy=\"413.1093\" fill=\"#A80036\" rx=\"2\" ry=\"2\" style=\"stroke: #A80036; stroke-width: 1.0;\"/><ellipse cx=\"128.7308\" cy=\"406.3744\" fill=\"#A80036\" rx=\"2\" ry=\"2\" style=\"stroke: #A80036; stroke-width: 1.0;\"/></a><!--MD5=[03c8294790d3c57651a1993cecff665f]\n",
       "reverse link E8 to E3--><a href=\"psysml:44d9af1e-71a6-403b-81da-6292c3b1f2cb\" target=\"_top\" title=\"psysml:44d9af1e-71a6-403b-81da-6292c3b1f2cb\" xlink:actuate=\"onRequest\" xlink:href=\"psysml:44d9af1e-71a6-403b-81da-6292c3b1f2cb\" xlink:show=\"new\" xlink:title=\"psysml:44d9af1e-71a6-403b-81da-6292c3b1f2cb\" xlink:type=\"simple\"><path d=\"M161.17,414.97 C163.97,373.71 168.82,302.27 171.69,260.05 \" fill=\"none\" id=\"E8&lt;-E3\" style=\"stroke: #A80036; stroke-width: 1.0;\"/><polygon fill=\"#FFFFFF\" points=\"160.29,427.97,164.6894,422.2564,161.1075,415.9979,156.708,421.7114,160.29,427.97\" style=\"stroke: #A80036; stroke-width: 1.0;\"/><text fill=\"#000000\" font-family=\"sans-serif\" font-size=\"13\" lengthAdjust=\"spacingAndGlyphs\" textLength=\"7\" x=\"168\" y=\"348.5669\">y</text></a><!--MD5=[0d75d2178373a6a4568e5dc728f58aef]\n",
       "reverse link E8 to E6--><a href=\"psysml:44d9af1e-71a6-403b-81da-6292c3b1f2cb\" target=\"_top\" title=\"psysml:44d9af1e-71a6-403b-81da-6292c3b1f2cb\" xlink:actuate=\"onRequest\" xlink:href=\"psysml:44d9af1e-71a6-403b-81da-6292c3b1f2cb\" xlink:show=\"new\" xlink:title=\"psysml:44d9af1e-71a6-403b-81da-6292c3b1f2cb\" xlink:type=\"simple\"><path d=\"M159,481.36 C159,501.76 159,527.42 159,544.69 \" fill=\"none\" id=\"E8&lt;-E6\" style=\"stroke: #A80036; stroke-width: 1.0;\"/><polygon fill=\"#FFFFFF\" points=\"159,468.25,155,474.25,159,480.25,163,474.25,159,468.25\" style=\"stroke: #A80036; stroke-width: 1.0;\"/><text fill=\"#000000\" font-family=\"sans-serif\" font-size=\"13\" lengthAdjust=\"spacingAndGlyphs\" textLength=\"7\" x=\"160\" y=\"511.0669\">y</text></a><!--MD5=[366bc3a91e3cc6707f85bbb5fdae0b21]\n",
       "@startuml\r\n",
       " \r\n",
       "package \"ItemTest\" as E1  [[psysml:75fb623a-e350-4a47-9f82-c4d20b2b5b80 ]]  {\r\n",
       "comp usage \"f: A\" as E2  << (P,limegreen) >> [[psysml:d8a17efa-9aba-4cd7-b18a-68f8ed4c599b ]] {\r\n",
       "}\r\n",
       "comp def \"A\" as E3  << (B,green) >> [[psysml:30552314-ef8a-4f2d-b223-fa6e862cb5b8 ]] {\r\n",
       "- - items - -\r\n",
       "b: B\r\n",
       "}\r\n",
       "comp usage \"c: C\" as E5  << (P,limegreen) part>> [[psysml:cb0fe327-dda6-4eae-9e46-1ce946f22982 ]] {\r\n",
       "}\r\n",
       "comp def \"B\" as E6  << (B,green) >> [[psysml:0c776550-23a6-42b8-908b-320a74e2d4ee ]] {\r\n",
       "}\r\n",
       "comp usage \"a: A\" as E7  << (P,limegreen) part>> [[psysml:7f7b610c-5cf3-4f1d-92e7-984e3817e328 ]] {\r\n",
       "}\r\n",
       "comp def \"C\" as E8  << (B,green) >> [[psysml:3f3cfa4e-9100-4bf2-8dae-183ab53e5ac5 ]] {\r\n",
       "}\r\n",
       "comp def \"P\" as E9  <<(D,brown)port def>> [[psysml:b18b87fb-d7bd-4905-b0cb-818d68f57f75 ]] {\r\n",
       "- - items - -\r\n",
       "a1: A\r\n",
       "a2: A\r\n",
       "}\r\n",
       "E2 - -:|> E3 [[psysml:cbc83e8e-35d8-4884-92a4-03d9c321669a ]] \r\n",
       "E3 o- - E5 [[psysml:cb0fe327-dda6-4eae-9e46-1ce946f22982 ]] \r\n",
       "E7 - -:|> E3 [[psysml:b2ac9add-d533-4cc3-a1ec-28b279e4ff39 ]] \r\n",
       "E6 *- - E7 [[psysml:7f7b610c-5cf3-4f1d-92e7-984e3817e328 ]] \r\n",
       "E5 - -:|> E8 [[psysml:8f4ff897-72ba-4249-b35c-9a7192bde9f3 ]] \r\n",
       "E8 o- - E3 [[psysml:44d9af1e-71a6-403b-81da-6292c3b1f2cb ]] : y\r\n",
       "E8 o- - E6 [[psysml:44d9af1e-71a6-403b-81da-6292c3b1f2cb ]] : y\r\n",
       "}\r\n",
       "@enduml\r\n",
       "\n",
       "PlantUML version 1.2020.13(Sat Jun 13 12:26:38 UTC 2020)\n",
       "(EPL source distribution)\n",
       "Java Runtime: OpenJDK Runtime Environment\n",
       "JVM: OpenJDK 64-Bit Server VM\n",
       "Default Encoding: UTF-8\n",
       "Language: en\n",
       "Country: null\n",
       "--></g></svg>"
      ]
     },
     "execution_count": 36,
     "metadata": {},
     "output_type": "execute_result"
    }
   ],
   "source": [
    "%viz --style=\"PLANTUML\" --view=\"MIXED\" \"ItemTest\""
   ]
  },
  {
   "cell_type": "code",
   "execution_count": 37,
   "id": "characteristic-celtic",
   "metadata": {
    "execution": {
     "iopub.execute_input": "2021-03-26T12:12:07.615070Z",
     "iopub.status.busy": "2021-03-26T12:12:07.614078Z",
     "iopub.status.idle": "2021-03-26T12:12:07.671703Z",
     "shell.execute_reply": "2021-03-26T12:12:07.670271Z"
    }
   },
   "outputs": [
    {
     "data": {
      "image/svg+xml": [
       "<?xml version=\"1.0\" encoding=\"UTF-8\" standalone=\"no\"?><svg xmlns=\"http://www.w3.org/2000/svg\" xmlns:xlink=\"http://www.w3.org/1999/xlink\" contentScriptType=\"application/ecmascript\" contentStyleType=\"text/css\" height=\"738px\" preserveAspectRatio=\"none\" style=\"width:228px;height:738px;\" version=\"1.1\" viewBox=\"0 0 228 738\" width=\"228px\" zoomAndPan=\"magnify\"><defs/><g><!--MD5=[fbc87193dbaf4d95561dea2c320d4a47]\n",
       "cluster E1--><a href=\"psysml:75fb623a-e350-4a47-9f82-c4d20b2b5b80\" target=\"_top\" title=\"psysml:75fb623a-e350-4a47-9f82-c4d20b2b5b80\" xlink:actuate=\"onRequest\" xlink:href=\"psysml:75fb623a-e350-4a47-9f82-c4d20b2b5b80\" xlink:show=\"new\" xlink:title=\"psysml:75fb623a-e350-4a47-9f82-c4d20b2b5b80\" xlink:type=\"simple\"><polygon fill=\"#FFFFFF\" points=\"16,6,91,6,98,28.2969,206,28.2969,206,726,16,726,16,6\" style=\"stroke: #000000; stroke-width: 1.5;\"/><line style=\"stroke: #000000; stroke-width: 1.5;\" x1=\"16\" x2=\"98\" y1=\"28.2969\" y2=\"28.2969\"/><text fill=\"#000000\" font-family=\"sans-serif\" font-size=\"14\" font-weight=\"bold\" lengthAdjust=\"spacingAndGlyphs\" textLength=\"69\" x=\"20\" y=\"20.9951\">ItemTest</text></a><!--MD5=[b4997ac47864f28c2f74865a473b2911]\n",
       "class E2--><a href=\"psysml:d8a17efa-9aba-4cd7-b18a-68f8ed4c599b\" target=\"_top\" title=\"psysml:d8a17efa-9aba-4cd7-b18a-68f8ed4c599b\" xlink:actuate=\"onRequest\" xlink:href=\"psysml:d8a17efa-9aba-4cd7-b18a-68f8ed4c599b\" xlink:show=\"new\" xlink:title=\"psysml:d8a17efa-9aba-4cd7-b18a-68f8ed4c599b\" xlink:type=\"simple\"><rect fill=\"#FFFFFF\" height=\"45.9375\" id=\"E2\" rx=\"10\" ry=\"10\" style=\"stroke: #383838; stroke-width: 1.5;\" width=\"43\" x=\"133.5\" y=\"62\"/><text fill=\"#000000\" font-family=\"sans-serif\" font-size=\"12\" font-style=\"italic\" lengthAdjust=\"spacingAndGlyphs\" textLength=\"41\" x=\"134.5\" y=\"78.1387\">«item»</text><text fill=\"#000000\" font-family=\"sans-serif\" font-size=\"12\" lengthAdjust=\"spacingAndGlyphs\" textLength=\"20\" x=\"145\" y=\"92.1074\">f: A</text><line style=\"stroke: #383838; stroke-width: 1.5;\" x1=\"134.5\" x2=\"175.5\" y1=\"99.9375\" y2=\"99.9375\"/></a><!--MD5=[09b614a08d8cba4a07c9adeb5e0fee81]\n",
       "class E3--><a href=\"psysml:30552314-ef8a-4f2d-b223-fa6e862cb5b8\" target=\"_top\" title=\"psysml:30552314-ef8a-4f2d-b223-fa6e862cb5b8\" xlink:actuate=\"onRequest\" xlink:href=\"psysml:30552314-ef8a-4f2d-b223-fa6e862cb5b8\" xlink:show=\"new\" xlink:title=\"psysml:30552314-ef8a-4f2d-b223-fa6e862cb5b8\" xlink:type=\"simple\"><rect fill=\"#FFFFFF\" height=\"75.5469\" id=\"E3\" style=\"stroke: #383838; stroke-width: 1.5;\" width=\"67\" x=\"115.5\" y=\"190\"/><text fill=\"#000000\" font-family=\"sans-serif\" font-size=\"12\" font-style=\"italic\" lengthAdjust=\"spacingAndGlyphs\" textLength=\"65\" x=\"116.5\" y=\"206.1387\">«item def»</text><text fill=\"#000000\" font-family=\"sans-serif\" font-size=\"12\" lengthAdjust=\"spacingAndGlyphs\" textLength=\"8\" x=\"145\" y=\"220.1074\">A</text><line style=\"stroke: #383838; stroke-width: 1.5;\" x1=\"116.5\" x2=\"181.5\" y1=\"227.9375\" y2=\"227.9375\"/><text fill=\"#000000\" font-family=\"sans-serif\" font-size=\"11\" lengthAdjust=\"spacingAndGlyphs\" textLength=\"23\" x=\"121.5\" y=\"258.9526\">b: B</text><line style=\"stroke: #383838; stroke-width: 1.0;\" x1=\"116.5\" x2=\"133\" y1=\"242.3398\" y2=\"242.3398\"/><text fill=\"#000000\" font-family=\"sans-serif\" font-size=\"11\" lengthAdjust=\"spacingAndGlyphs\" textLength=\"32\" x=\"133\" y=\"245.6479\">items</text><line style=\"stroke: #383838; stroke-width: 1.0;\" x1=\"165\" x2=\"181.5\" y1=\"242.3398\" y2=\"242.3398\"/></a><!--MD5=[270fce915f116d4de14055a7c1d9a0f3]\n",
       "class E5--><a href=\"psysml:cb0fe327-dda6-4eae-9e46-1ce946f22982\" target=\"_top\" title=\"psysml:cb0fe327-dda6-4eae-9e46-1ce946f22982\" xlink:actuate=\"onRequest\" xlink:href=\"psysml:cb0fe327-dda6-4eae-9e46-1ce946f22982\" xlink:show=\"new\" xlink:title=\"psysml:cb0fe327-dda6-4eae-9e46-1ce946f22982\" xlink:type=\"simple\"><rect fill=\"#FFFFFF\" height=\"45.9375\" id=\"E5\" rx=\"10\" ry=\"10\" style=\"stroke: #383838; stroke-width: 1.5;\" width=\"42\" x=\"32\" y=\"327\"/><text fill=\"#000000\" font-family=\"sans-serif\" font-size=\"12\" font-style=\"italic\" lengthAdjust=\"spacingAndGlyphs\" textLength=\"40\" x=\"33\" y=\"343.1387\">«part»</text><text fill=\"#000000\" font-family=\"sans-serif\" font-size=\"12\" lengthAdjust=\"spacingAndGlyphs\" textLength=\"23\" x=\"41.5\" y=\"357.1074\">c: C</text><line style=\"stroke: #383838; stroke-width: 1.5;\" x1=\"33\" x2=\"73\" y1=\"364.9375\" y2=\"364.9375\"/></a><!--MD5=[60a26617385b1d2d0262a64233df1f8d]\n",
       "class E6--><a href=\"psysml:0c776550-23a6-42b8-908b-320a74e2d4ee\" target=\"_top\" title=\"psysml:0c776550-23a6-42b8-908b-320a74e2d4ee\" xlink:actuate=\"onRequest\" xlink:href=\"psysml:0c776550-23a6-42b8-908b-320a74e2d4ee\" xlink:show=\"new\" xlink:title=\"psysml:0c776550-23a6-42b8-908b-320a74e2d4ee\" xlink:type=\"simple\"><rect fill=\"#FFFFFF\" height=\"45.9375\" id=\"E6\" style=\"stroke: #383838; stroke-width: 1.5;\" width=\"67\" x=\"85.5\" y=\"557\"/><text fill=\"#000000\" font-family=\"sans-serif\" font-size=\"12\" font-style=\"italic\" lengthAdjust=\"spacingAndGlyphs\" textLength=\"65\" x=\"86.5\" y=\"573.1387\">«item def»</text><text fill=\"#000000\" font-family=\"sans-serif\" font-size=\"12\" lengthAdjust=\"spacingAndGlyphs\" textLength=\"8\" x=\"115\" y=\"587.1074\">B</text><line style=\"stroke: #383838; stroke-width: 1.5;\" x1=\"86.5\" x2=\"151.5\" y1=\"594.9375\" y2=\"594.9375\"/></a><!--MD5=[2156ba9850f5573cc1fc38a6a4b2f02b]\n",
       "class E7--><a href=\"psysml:7f7b610c-5cf3-4f1d-92e7-984e3817e328\" target=\"_top\" title=\"psysml:7f7b610c-5cf3-4f1d-92e7-984e3817e328\" xlink:actuate=\"onRequest\" xlink:href=\"psysml:7f7b610c-5cf3-4f1d-92e7-984e3817e328\" xlink:show=\"new\" xlink:title=\"psysml:7f7b610c-5cf3-4f1d-92e7-984e3817e328\" xlink:type=\"simple\"><rect fill=\"#FFFFFF\" height=\"45.9375\" id=\"E7\" rx=\"10\" ry=\"10\" style=\"stroke: #383838; stroke-width: 1.5;\" width=\"42\" x=\"123\" y=\"664\"/><text fill=\"#000000\" font-family=\"sans-serif\" font-size=\"12\" font-style=\"italic\" lengthAdjust=\"spacingAndGlyphs\" textLength=\"40\" x=\"124\" y=\"680.1387\">«part»</text><text fill=\"#000000\" font-family=\"sans-serif\" font-size=\"12\" lengthAdjust=\"spacingAndGlyphs\" textLength=\"24\" x=\"132\" y=\"694.1074\">a: A</text><line style=\"stroke: #383838; stroke-width: 1.5;\" x1=\"124\" x2=\"164\" y1=\"701.9375\" y2=\"701.9375\"/></a><!--MD5=[b9389687b975829384b498ac4b7476b2]\n",
       "class E8--><a href=\"psysml:3f3cfa4e-9100-4bf2-8dae-183ab53e5ac5\" target=\"_top\" title=\"psysml:3f3cfa4e-9100-4bf2-8dae-183ab53e5ac5\" xlink:actuate=\"onRequest\" xlink:href=\"psysml:3f3cfa4e-9100-4bf2-8dae-183ab53e5ac5\" xlink:show=\"new\" xlink:title=\"psysml:3f3cfa4e-9100-4bf2-8dae-183ab53e5ac5\" xlink:type=\"simple\"><rect fill=\"#FFFFFF\" height=\"45.9375\" id=\"E8\" style=\"stroke: #383838; stroke-width: 1.5;\" width=\"66\" x=\"86\" y=\"434\"/><text fill=\"#000000\" font-family=\"sans-serif\" font-size=\"12\" font-style=\"italic\" lengthAdjust=\"spacingAndGlyphs\" textLength=\"64\" x=\"87\" y=\"450.1387\">«part def»</text><text fill=\"#000000\" font-family=\"sans-serif\" font-size=\"12\" lengthAdjust=\"spacingAndGlyphs\" textLength=\"8\" x=\"115\" y=\"464.1074\">C</text><line style=\"stroke: #383838; stroke-width: 1.5;\" x1=\"87\" x2=\"151\" y1=\"471.9375\" y2=\"471.9375\"/></a><!--MD5=[fd4143e9d270a159db93a4ea2a975926]\n",
       "class E9--><a href=\"psysml:b18b87fb-d7bd-4905-b0cb-818d68f57f75\" target=\"_top\" title=\"psysml:b18b87fb-d7bd-4905-b0cb-818d68f57f75\" xlink:actuate=\"onRequest\" xlink:href=\"psysml:b18b87fb-d7bd-4905-b0cb-818d68f57f75\" xlink:show=\"new\" xlink:title=\"psysml:b18b87fb-d7bd-4905-b0cb-818d68f57f75\" xlink:type=\"simple\"><rect fill=\"#FFFFFF\" height=\"88.3516\" id=\"E9\" style=\"stroke: #383838; stroke-width: 1.5;\" width=\"66\" x=\"32\" y=\"41\"/><text fill=\"#000000\" font-family=\"sans-serif\" font-size=\"12\" font-style=\"italic\" lengthAdjust=\"spacingAndGlyphs\" textLength=\"64\" x=\"33\" y=\"57.1387\">«port def»</text><text fill=\"#000000\" font-family=\"sans-serif\" font-size=\"12\" lengthAdjust=\"spacingAndGlyphs\" textLength=\"8\" x=\"61\" y=\"71.1074\">P</text><line style=\"stroke: #383838; stroke-width: 1.5;\" x1=\"33\" x2=\"97\" y1=\"78.9375\" y2=\"78.9375\"/><text fill=\"#000000\" font-family=\"sans-serif\" font-size=\"11\" lengthAdjust=\"spacingAndGlyphs\" textLength=\"29\" x=\"38\" y=\"109.9526\">a1: A</text><text fill=\"#000000\" font-family=\"sans-serif\" font-size=\"11\" lengthAdjust=\"spacingAndGlyphs\" textLength=\"29\" x=\"38\" y=\"122.7573\">a2: A</text><line style=\"stroke: #383838; stroke-width: 1.0;\" x1=\"33\" x2=\"49\" y1=\"93.3398\" y2=\"93.3398\"/><text fill=\"#000000\" font-family=\"sans-serif\" font-size=\"11\" lengthAdjust=\"spacingAndGlyphs\" textLength=\"32\" x=\"49\" y=\"96.6479\">items</text><line style=\"stroke: #383838; stroke-width: 1.0;\" x1=\"81\" x2=\"97\" y1=\"93.3398\" y2=\"93.3398\"/></a><!--MD5=[2720a5a1f2c3fca2055b230370638851]\n",
       "link E2 to E3--><a href=\"psysml:cbc83e8e-35d8-4884-92a4-03d9c321669a\" target=\"_top\" title=\"psysml:cbc83e8e-35d8-4884-92a4-03d9c321669a\" xlink:actuate=\"onRequest\" xlink:href=\"psysml:cbc83e8e-35d8-4884-92a4-03d9c321669a\" xlink:show=\"new\" xlink:title=\"psysml:cbc83e8e-35d8-4884-92a4-03d9c321669a\" xlink:type=\"simple\"><path d=\"M154.06,108.03 C153.36,124.58 152.36,148.04 151.44,169.76 \" fill=\"none\" id=\"E2-&gt;E3\" style=\"stroke: #383838; stroke-width: 1.0;\"/><polygon fill=\"#FFFFFF\" points=\"150.58,189.77,144.4005,170.4875,158.3877,171.0874,150.58,189.77\" style=\"stroke: #383838; stroke-width: 1.0;\"/><ellipse cx=\"146.6429\" cy=\"164.8784\" fill=\"#383838\" rx=\"2\" ry=\"2\" style=\"stroke: #383838; stroke-width: 1.0;\"/><ellipse cx=\"156.6338\" cy=\"165.3069\" fill=\"#383838\" rx=\"2\" ry=\"2\" style=\"stroke: #383838; stroke-width: 1.0;\"/></a><!--MD5=[191cde3d490a3f6d7bb551fe3ddca469]\n",
       "reverse link E3 to E5--><a href=\"psysml:cb0fe327-dda6-4eae-9e46-1ce946f22982\" target=\"_top\" title=\"psysml:cb0fe327-dda6-4eae-9e46-1ce946f22982\" xlink:actuate=\"onRequest\" xlink:href=\"psysml:cb0fe327-dda6-4eae-9e46-1ce946f22982\" xlink:show=\"new\" xlink:title=\"psysml:cb0fe327-dda6-4eae-9e46-1ce946f22982\" xlink:type=\"simple\"><path d=\"M110.75,276.82 C96.95,294.07 82.02,312.72 70.8,326.75 \" fill=\"none\" id=\"E3&lt;-E5\" style=\"stroke: #383838; stroke-width: 1.0;\"/><polygon fill=\"#FFFFFF\" points=\"119.15,266.31,112.2784,268.4964,111.6537,275.6804,118.5253,273.494,119.15,266.31\" style=\"stroke: #383838; stroke-width: 1.0;\"/></a><!--MD5=[14ccda38c055a5c0da953d572bc50960]\n",
       "link E7 to E3--><a href=\"psysml:b2ac9add-d533-4cc3-a1ec-28b279e4ff39\" target=\"_top\" title=\"psysml:b2ac9add-d533-4cc3-a1ec-28b279e4ff39\" xlink:actuate=\"onRequest\" xlink:href=\"psysml:b2ac9add-d533-4cc3-a1ec-28b279e4ff39\" xlink:show=\"new\" xlink:title=\"psysml:b2ac9add-d533-4cc3-a1ec-28b279e4ff39\" xlink:type=\"simple\"><path d=\"M159.74,663.82 C172.72,643.34 189,611.54 189,581 C189,349 189,349 189,349 C189,327.34 183.06,304.56 175.76,284.74 \" fill=\"none\" id=\"E7-&gt;E3\" style=\"stroke: #383838; stroke-width: 1.0;\"/><polygon fill=\"#FFFFFF\" points=\"168.18,266.05,181.8034,281.0301,168.8283,286.2881,168.18,266.05\" style=\"stroke: #383838; stroke-width: 1.0;\"/><ellipse cx=\"182.0906\" cy=\"287.0639\" fill=\"#383838\" rx=\"2\" ry=\"2\" style=\"stroke: #383838; stroke-width: 1.0;\"/><ellipse cx=\"172.8227\" cy=\"290.8196\" fill=\"#383838\" rx=\"2\" ry=\"2\" style=\"stroke: #383838; stroke-width: 1.0;\"/></a><!--MD5=[3f50a3473f1dfb74d3f76443e03635af]\n",
       "reverse link E6 to E7--><a href=\"psysml:7f7b610c-5cf3-4f1d-92e7-984e3817e328\" target=\"_top\" title=\"psysml:7f7b610c-5cf3-4f1d-92e7-984e3817e328\" xlink:actuate=\"onRequest\" xlink:href=\"psysml:7f7b610c-5cf3-4f1d-92e7-984e3817e328\" xlink:show=\"new\" xlink:title=\"psysml:7f7b610c-5cf3-4f1d-92e7-984e3817e328\" xlink:type=\"simple\"><path d=\"M127.34,616.05 C131.08,631.76 135.39,649.82 138.68,663.66 \" fill=\"none\" id=\"E6&lt;-E7\" style=\"stroke: #383838; stroke-width: 1.0;\"/><polygon fill=\"#383838\" points=\"124.24,603.01,121.7406,609.7741,127.023,614.6828,129.5224,607.9187,124.24,603.01\" style=\"stroke: #383838; stroke-width: 1.0;\"/></a><!--MD5=[dfaffb906826c3e5aca635516100ff21]\n",
       "link E5 to E8--><a href=\"psysml:8f4ff897-72ba-4249-b35c-9a7192bde9f3\" target=\"_top\" title=\"psysml:8f4ff897-72ba-4249-b35c-9a7192bde9f3\" xlink:actuate=\"onRequest\" xlink:href=\"psysml:8f4ff897-72ba-4249-b35c-9a7192bde9f3\" xlink:show=\"new\" xlink:title=\"psysml:8f4ff897-72ba-4249-b35c-9a7192bde9f3\" xlink:type=\"simple\"><path d=\"M66.84,373.01 C74.79,385.67 85.02,401.94 94.31,416.72 \" fill=\"none\" id=\"E5-&gt;E8\" style=\"stroke: #383838; stroke-width: 1.0;\"/><polygon fill=\"#FFFFFF\" points=\"104.96,433.66,88.9212,421.3005,100.7735,413.8491,104.96,433.66\" style=\"stroke: #383838; stroke-width: 1.0;\"/><ellipse cx=\"87.5806\" cy=\"415.4104\" fill=\"#383838\" rx=\"2\" ry=\"2\" style=\"stroke: #383838; stroke-width: 1.0;\"/><ellipse cx=\"96.0465\" cy=\"410.088\" fill=\"#383838\" rx=\"2\" ry=\"2\" style=\"stroke: #383838; stroke-width: 1.0;\"/></a><!--MD5=[03c8294790d3c57651a1993cecff665f]\n",
       "reverse link E8 to E3--><a href=\"psysml:44d9af1e-71a6-403b-81da-6292c3b1f2cb\" target=\"_top\" title=\"psysml:44d9af1e-71a6-403b-81da-6292c3b1f2cb\" xlink:actuate=\"onRequest\" xlink:href=\"psysml:44d9af1e-71a6-403b-81da-6292c3b1f2cb\" xlink:show=\"new\" xlink:title=\"psysml:44d9af1e-71a6-403b-81da-6292c3b1f2cb\" xlink:type=\"simple\"><path d=\"M123.65,420.81 C129.2,378.86 138.42,309.06 144.08,266.23 \" fill=\"none\" id=\"E8&lt;-E3\" style=\"stroke: #383838; stroke-width: 1.0;\"/><polygon fill=\"#FFFFFF\" points=\"121.92,433.89,126.6755,428.4692,123.5008,421.9946,118.7453,427.4154,121.92,433.89\" style=\"stroke: #383838; stroke-width: 1.0;\"/><text fill=\"#000000\" font-family=\"sans-serif\" font-size=\"13\" lengthAdjust=\"spacingAndGlyphs\" textLength=\"7\" x=\"136\" y=\"354.5669\">y</text></a><!--MD5=[0d75d2178373a6a4568e5dc728f58aef]\n",
       "reverse link E8 to E6--><a href=\"psysml:44d9af1e-71a6-403b-81da-6292c3b1f2cb\" target=\"_top\" title=\"psysml:44d9af1e-71a6-403b-81da-6292c3b1f2cb\" xlink:actuate=\"onRequest\" xlink:href=\"psysml:44d9af1e-71a6-403b-81da-6292c3b1f2cb\" xlink:show=\"new\" xlink:title=\"psysml:44d9af1e-71a6-403b-81da-6292c3b1f2cb\" xlink:type=\"simple\"><path d=\"M119,493.22 C119,513.81 119,539.16 119,556.95 \" fill=\"none\" id=\"E8&lt;-E6\" style=\"stroke: #383838; stroke-width: 1.0;\"/><polygon fill=\"#FFFFFF\" points=\"119,480.19,115,486.19,119,492.19,123,486.19,119,480.19\" style=\"stroke: #383838; stroke-width: 1.0;\"/><text fill=\"#000000\" font-family=\"sans-serif\" font-size=\"13\" lengthAdjust=\"spacingAndGlyphs\" textLength=\"7\" x=\"120\" y=\"523.0669\">y</text></a><!--MD5=[60342c889b0f33c04119c1d20c73c73b]\n",
       "@startuml\r\n",
       "skinparam monochrome true\r\n",
       "skinparam classbackgroundcolor white\r\n",
       "skinparam shadowing false\r\n",
       "skinparam wrapWidth 300\r\n",
       "hide circle\r\n",
       "\r\n",
       "package \"ItemTest\" as E1  [[psysml:75fb623a-e350-4a47-9f82-c4d20b2b5b80 ]]  {\r\n",
       "comp usage \"f: A\" as E2  <<(T,blue)item>> [[psysml:d8a17efa-9aba-4cd7-b18a-68f8ed4c599b ]] {\r\n",
       "}\r\n",
       "comp def \"A\" as E3  <<(T,blue)item def>> [[psysml:30552314-ef8a-4f2d-b223-fa6e862cb5b8 ]] {\r\n",
       "- - items - -\r\n",
       "b: B\r\n",
       "}\r\n",
       "comp usage \"c: C\" as E5  <<(T,blue)part>> [[psysml:cb0fe327-dda6-4eae-9e46-1ce946f22982 ]] {\r\n",
       "}\r\n",
       "comp def \"B\" as E6  <<(T,blue)item def>> [[psysml:0c776550-23a6-42b8-908b-320a74e2d4ee ]] {\r\n",
       "}\r\n",
       "comp usage \"a: A\" as E7  <<(T,blue)part>> [[psysml:7f7b610c-5cf3-4f1d-92e7-984e3817e328 ]] {\r\n",
       "}\r\n",
       "comp def \"C\" as E8  <<(T,blue)part def>> [[psysml:3f3cfa4e-9100-4bf2-8dae-183ab53e5ac5 ]] {\r\n",
       "}\r\n",
       "comp def \"P\" as E9  <<(T,blue)port def>> [[psysml:b18b87fb-d7bd-4905-b0cb-818d68f57f75 ]] {\r\n",
       "- - items - -\r\n",
       "a1: A\r\n",
       "a2: A\r\n",
       "}\r\n",
       "E2 - -:|> E3 [[psysml:cbc83e8e-35d8-4884-92a4-03d9c321669a ]] \r\n",
       "E3 o- - E5 [[psysml:cb0fe327-dda6-4eae-9e46-1ce946f22982 ]] \r\n",
       "E7 - -:|> E3 [[psysml:b2ac9add-d533-4cc3-a1ec-28b279e4ff39 ]] \r\n",
       "E6 *- - E7 [[psysml:7f7b610c-5cf3-4f1d-92e7-984e3817e328 ]] \r\n",
       "E5 - -:|> E8 [[psysml:8f4ff897-72ba-4249-b35c-9a7192bde9f3 ]] \r\n",
       "E8 o- - E3 [[psysml:44d9af1e-71a6-403b-81da-6292c3b1f2cb ]] : y\r\n",
       "E8 o- - E6 [[psysml:44d9af1e-71a6-403b-81da-6292c3b1f2cb ]] : y\r\n",
       "}\r\n",
       "@enduml\r\n",
       "\n",
       "PlantUML version 1.2020.13(Sat Jun 13 12:26:38 UTC 2020)\n",
       "(EPL source distribution)\n",
       "Java Runtime: OpenJDK Runtime Environment\n",
       "JVM: OpenJDK 64-Bit Server VM\n",
       "Default Encoding: UTF-8\n",
       "Language: en\n",
       "Country: null\n",
       "--></g></svg>"
      ]
     },
     "execution_count": 37,
     "metadata": {},
     "output_type": "execute_result"
    }
   ],
   "source": [
    "%viz --style=\"DEFAULT\" --view=\"Default\" \"ItemTest\""
   ]
  },
  {
   "cell_type": "code",
   "execution_count": 38,
   "id": "considered-creator",
   "metadata": {
    "execution": {
     "iopub.execute_input": "2021-03-26T12:12:07.723151Z",
     "iopub.status.busy": "2021-03-26T12:12:07.722328Z",
     "iopub.status.idle": "2021-03-26T12:12:07.779877Z",
     "shell.execute_reply": "2021-03-26T12:12:07.778231Z"
    }
   },
   "outputs": [
    {
     "data": {
      "image/svg+xml": [
       "<?xml version=\"1.0\" encoding=\"UTF-8\" standalone=\"no\"?><svg xmlns=\"http://www.w3.org/2000/svg\" xmlns:xlink=\"http://www.w3.org/1999/xlink\" contentScriptType=\"application/ecmascript\" contentStyleType=\"text/css\" height=\"738px\" preserveAspectRatio=\"none\" style=\"width:228px;height:738px;\" version=\"1.1\" viewBox=\"0 0 228 738\" width=\"228px\" zoomAndPan=\"magnify\"><defs/><g><!--MD5=[fbc87193dbaf4d95561dea2c320d4a47]\n",
       "cluster E1--><a href=\"psysml:75fb623a-e350-4a47-9f82-c4d20b2b5b80\" target=\"_top\" title=\"psysml:75fb623a-e350-4a47-9f82-c4d20b2b5b80\" xlink:actuate=\"onRequest\" xlink:href=\"psysml:75fb623a-e350-4a47-9f82-c4d20b2b5b80\" xlink:show=\"new\" xlink:title=\"psysml:75fb623a-e350-4a47-9f82-c4d20b2b5b80\" xlink:type=\"simple\"><polygon fill=\"#FFFFFF\" points=\"16,6,91,6,98,28.2969,206,28.2969,206,726,16,726,16,6\" style=\"stroke: #000000; stroke-width: 1.5;\"/><line style=\"stroke: #000000; stroke-width: 1.5;\" x1=\"16\" x2=\"98\" y1=\"28.2969\" y2=\"28.2969\"/><text fill=\"#000000\" font-family=\"sans-serif\" font-size=\"14\" font-weight=\"bold\" lengthAdjust=\"spacingAndGlyphs\" textLength=\"69\" x=\"20\" y=\"20.9951\">ItemTest</text></a><!--MD5=[b4997ac47864f28c2f74865a473b2911]\n",
       "class E2--><a href=\"psysml:d8a17efa-9aba-4cd7-b18a-68f8ed4c599b\" target=\"_top\" title=\"psysml:d8a17efa-9aba-4cd7-b18a-68f8ed4c599b\" xlink:actuate=\"onRequest\" xlink:href=\"psysml:d8a17efa-9aba-4cd7-b18a-68f8ed4c599b\" xlink:show=\"new\" xlink:title=\"psysml:d8a17efa-9aba-4cd7-b18a-68f8ed4c599b\" xlink:type=\"simple\"><rect fill=\"#FFFFFF\" height=\"45.9375\" id=\"E2\" rx=\"10\" ry=\"10\" style=\"stroke: #383838; stroke-width: 1.5;\" width=\"43\" x=\"133.5\" y=\"62\"/><text fill=\"#000000\" font-family=\"sans-serif\" font-size=\"12\" font-style=\"italic\" lengthAdjust=\"spacingAndGlyphs\" textLength=\"41\" x=\"134.5\" y=\"78.1387\">«item»</text><text fill=\"#000000\" font-family=\"sans-serif\" font-size=\"12\" lengthAdjust=\"spacingAndGlyphs\" textLength=\"20\" x=\"145\" y=\"92.1074\">f: A</text><line style=\"stroke: #383838; stroke-width: 1.5;\" x1=\"134.5\" x2=\"175.5\" y1=\"99.9375\" y2=\"99.9375\"/></a><!--MD5=[09b614a08d8cba4a07c9adeb5e0fee81]\n",
       "class E3--><a href=\"psysml:30552314-ef8a-4f2d-b223-fa6e862cb5b8\" target=\"_top\" title=\"psysml:30552314-ef8a-4f2d-b223-fa6e862cb5b8\" xlink:actuate=\"onRequest\" xlink:href=\"psysml:30552314-ef8a-4f2d-b223-fa6e862cb5b8\" xlink:show=\"new\" xlink:title=\"psysml:30552314-ef8a-4f2d-b223-fa6e862cb5b8\" xlink:type=\"simple\"><rect fill=\"#FFFFFF\" height=\"75.5469\" id=\"E3\" style=\"stroke: #383838; stroke-width: 1.5;\" width=\"67\" x=\"115.5\" y=\"190\"/><text fill=\"#000000\" font-family=\"sans-serif\" font-size=\"12\" font-style=\"italic\" lengthAdjust=\"spacingAndGlyphs\" textLength=\"65\" x=\"116.5\" y=\"206.1387\">«item def»</text><text fill=\"#000000\" font-family=\"sans-serif\" font-size=\"12\" lengthAdjust=\"spacingAndGlyphs\" textLength=\"8\" x=\"145\" y=\"220.1074\">A</text><line style=\"stroke: #383838; stroke-width: 1.5;\" x1=\"116.5\" x2=\"181.5\" y1=\"227.9375\" y2=\"227.9375\"/><text fill=\"#000000\" font-family=\"sans-serif\" font-size=\"11\" lengthAdjust=\"spacingAndGlyphs\" textLength=\"23\" x=\"121.5\" y=\"258.9526\">b: B</text><line style=\"stroke: #383838; stroke-width: 1.0;\" x1=\"116.5\" x2=\"133\" y1=\"242.3398\" y2=\"242.3398\"/><text fill=\"#000000\" font-family=\"sans-serif\" font-size=\"11\" lengthAdjust=\"spacingAndGlyphs\" textLength=\"32\" x=\"133\" y=\"245.6479\">items</text><line style=\"stroke: #383838; stroke-width: 1.0;\" x1=\"165\" x2=\"181.5\" y1=\"242.3398\" y2=\"242.3398\"/></a><!--MD5=[270fce915f116d4de14055a7c1d9a0f3]\n",
       "class E5--><a href=\"psysml:cb0fe327-dda6-4eae-9e46-1ce946f22982\" target=\"_top\" title=\"psysml:cb0fe327-dda6-4eae-9e46-1ce946f22982\" xlink:actuate=\"onRequest\" xlink:href=\"psysml:cb0fe327-dda6-4eae-9e46-1ce946f22982\" xlink:show=\"new\" xlink:title=\"psysml:cb0fe327-dda6-4eae-9e46-1ce946f22982\" xlink:type=\"simple\"><rect fill=\"#FFFFFF\" height=\"45.9375\" id=\"E5\" rx=\"10\" ry=\"10\" style=\"stroke: #383838; stroke-width: 1.5;\" width=\"42\" x=\"32\" y=\"327\"/><text fill=\"#000000\" font-family=\"sans-serif\" font-size=\"12\" font-style=\"italic\" lengthAdjust=\"spacingAndGlyphs\" textLength=\"40\" x=\"33\" y=\"343.1387\">«part»</text><text fill=\"#000000\" font-family=\"sans-serif\" font-size=\"12\" lengthAdjust=\"spacingAndGlyphs\" textLength=\"23\" x=\"41.5\" y=\"357.1074\">c: C</text><line style=\"stroke: #383838; stroke-width: 1.5;\" x1=\"33\" x2=\"73\" y1=\"364.9375\" y2=\"364.9375\"/></a><!--MD5=[60a26617385b1d2d0262a64233df1f8d]\n",
       "class E6--><a href=\"psysml:0c776550-23a6-42b8-908b-320a74e2d4ee\" target=\"_top\" title=\"psysml:0c776550-23a6-42b8-908b-320a74e2d4ee\" xlink:actuate=\"onRequest\" xlink:href=\"psysml:0c776550-23a6-42b8-908b-320a74e2d4ee\" xlink:show=\"new\" xlink:title=\"psysml:0c776550-23a6-42b8-908b-320a74e2d4ee\" xlink:type=\"simple\"><rect fill=\"#FFFFFF\" height=\"45.9375\" id=\"E6\" style=\"stroke: #383838; stroke-width: 1.5;\" width=\"67\" x=\"85.5\" y=\"557\"/><text fill=\"#000000\" font-family=\"sans-serif\" font-size=\"12\" font-style=\"italic\" lengthAdjust=\"spacingAndGlyphs\" textLength=\"65\" x=\"86.5\" y=\"573.1387\">«item def»</text><text fill=\"#000000\" font-family=\"sans-serif\" font-size=\"12\" lengthAdjust=\"spacingAndGlyphs\" textLength=\"8\" x=\"115\" y=\"587.1074\">B</text><line style=\"stroke: #383838; stroke-width: 1.5;\" x1=\"86.5\" x2=\"151.5\" y1=\"594.9375\" y2=\"594.9375\"/></a><!--MD5=[2156ba9850f5573cc1fc38a6a4b2f02b]\n",
       "class E7--><a href=\"psysml:7f7b610c-5cf3-4f1d-92e7-984e3817e328\" target=\"_top\" title=\"psysml:7f7b610c-5cf3-4f1d-92e7-984e3817e328\" xlink:actuate=\"onRequest\" xlink:href=\"psysml:7f7b610c-5cf3-4f1d-92e7-984e3817e328\" xlink:show=\"new\" xlink:title=\"psysml:7f7b610c-5cf3-4f1d-92e7-984e3817e328\" xlink:type=\"simple\"><rect fill=\"#FFFFFF\" height=\"45.9375\" id=\"E7\" rx=\"10\" ry=\"10\" style=\"stroke: #383838; stroke-width: 1.5;\" width=\"42\" x=\"123\" y=\"664\"/><text fill=\"#000000\" font-family=\"sans-serif\" font-size=\"12\" font-style=\"italic\" lengthAdjust=\"spacingAndGlyphs\" textLength=\"40\" x=\"124\" y=\"680.1387\">«part»</text><text fill=\"#000000\" font-family=\"sans-serif\" font-size=\"12\" lengthAdjust=\"spacingAndGlyphs\" textLength=\"24\" x=\"132\" y=\"694.1074\">a: A</text><line style=\"stroke: #383838; stroke-width: 1.5;\" x1=\"124\" x2=\"164\" y1=\"701.9375\" y2=\"701.9375\"/></a><!--MD5=[b9389687b975829384b498ac4b7476b2]\n",
       "class E8--><a href=\"psysml:3f3cfa4e-9100-4bf2-8dae-183ab53e5ac5\" target=\"_top\" title=\"psysml:3f3cfa4e-9100-4bf2-8dae-183ab53e5ac5\" xlink:actuate=\"onRequest\" xlink:href=\"psysml:3f3cfa4e-9100-4bf2-8dae-183ab53e5ac5\" xlink:show=\"new\" xlink:title=\"psysml:3f3cfa4e-9100-4bf2-8dae-183ab53e5ac5\" xlink:type=\"simple\"><rect fill=\"#FFFFFF\" height=\"45.9375\" id=\"E8\" style=\"stroke: #383838; stroke-width: 1.5;\" width=\"66\" x=\"86\" y=\"434\"/><text fill=\"#000000\" font-family=\"sans-serif\" font-size=\"12\" font-style=\"italic\" lengthAdjust=\"spacingAndGlyphs\" textLength=\"64\" x=\"87\" y=\"450.1387\">«part def»</text><text fill=\"#000000\" font-family=\"sans-serif\" font-size=\"12\" lengthAdjust=\"spacingAndGlyphs\" textLength=\"8\" x=\"115\" y=\"464.1074\">C</text><line style=\"stroke: #383838; stroke-width: 1.5;\" x1=\"87\" x2=\"151\" y1=\"471.9375\" y2=\"471.9375\"/></a><!--MD5=[fd4143e9d270a159db93a4ea2a975926]\n",
       "class E9--><a href=\"psysml:b18b87fb-d7bd-4905-b0cb-818d68f57f75\" target=\"_top\" title=\"psysml:b18b87fb-d7bd-4905-b0cb-818d68f57f75\" xlink:actuate=\"onRequest\" xlink:href=\"psysml:b18b87fb-d7bd-4905-b0cb-818d68f57f75\" xlink:show=\"new\" xlink:title=\"psysml:b18b87fb-d7bd-4905-b0cb-818d68f57f75\" xlink:type=\"simple\"><rect fill=\"#FFFFFF\" height=\"88.3516\" id=\"E9\" style=\"stroke: #383838; stroke-width: 1.5;\" width=\"66\" x=\"32\" y=\"41\"/><text fill=\"#000000\" font-family=\"sans-serif\" font-size=\"12\" font-style=\"italic\" lengthAdjust=\"spacingAndGlyphs\" textLength=\"64\" x=\"33\" y=\"57.1387\">«port def»</text><text fill=\"#000000\" font-family=\"sans-serif\" font-size=\"12\" lengthAdjust=\"spacingAndGlyphs\" textLength=\"8\" x=\"61\" y=\"71.1074\">P</text><line style=\"stroke: #383838; stroke-width: 1.5;\" x1=\"33\" x2=\"97\" y1=\"78.9375\" y2=\"78.9375\"/><text fill=\"#000000\" font-family=\"sans-serif\" font-size=\"11\" lengthAdjust=\"spacingAndGlyphs\" textLength=\"29\" x=\"38\" y=\"109.9526\">a1: A</text><text fill=\"#000000\" font-family=\"sans-serif\" font-size=\"11\" lengthAdjust=\"spacingAndGlyphs\" textLength=\"29\" x=\"38\" y=\"122.7573\">a2: A</text><line style=\"stroke: #383838; stroke-width: 1.0;\" x1=\"33\" x2=\"49\" y1=\"93.3398\" y2=\"93.3398\"/><text fill=\"#000000\" font-family=\"sans-serif\" font-size=\"11\" lengthAdjust=\"spacingAndGlyphs\" textLength=\"32\" x=\"49\" y=\"96.6479\">items</text><line style=\"stroke: #383838; stroke-width: 1.0;\" x1=\"81\" x2=\"97\" y1=\"93.3398\" y2=\"93.3398\"/></a><!--MD5=[2720a5a1f2c3fca2055b230370638851]\n",
       "link E2 to E3--><a href=\"psysml:cbc83e8e-35d8-4884-92a4-03d9c321669a\" target=\"_top\" title=\"psysml:cbc83e8e-35d8-4884-92a4-03d9c321669a\" xlink:actuate=\"onRequest\" xlink:href=\"psysml:cbc83e8e-35d8-4884-92a4-03d9c321669a\" xlink:show=\"new\" xlink:title=\"psysml:cbc83e8e-35d8-4884-92a4-03d9c321669a\" xlink:type=\"simple\"><path d=\"M154.06,108.03 C153.36,124.58 152.36,148.04 151.44,169.76 \" fill=\"none\" id=\"E2-&gt;E3\" style=\"stroke: #383838; stroke-width: 1.0;\"/><polygon fill=\"#FFFFFF\" points=\"150.58,189.77,144.4005,170.4875,158.3877,171.0874,150.58,189.77\" style=\"stroke: #383838; stroke-width: 1.0;\"/><ellipse cx=\"146.6429\" cy=\"164.8784\" fill=\"#383838\" rx=\"2\" ry=\"2\" style=\"stroke: #383838; stroke-width: 1.0;\"/><ellipse cx=\"156.6338\" cy=\"165.3069\" fill=\"#383838\" rx=\"2\" ry=\"2\" style=\"stroke: #383838; stroke-width: 1.0;\"/></a><!--MD5=[191cde3d490a3f6d7bb551fe3ddca469]\n",
       "reverse link E3 to E5--><a href=\"psysml:cb0fe327-dda6-4eae-9e46-1ce946f22982\" target=\"_top\" title=\"psysml:cb0fe327-dda6-4eae-9e46-1ce946f22982\" xlink:actuate=\"onRequest\" xlink:href=\"psysml:cb0fe327-dda6-4eae-9e46-1ce946f22982\" xlink:show=\"new\" xlink:title=\"psysml:cb0fe327-dda6-4eae-9e46-1ce946f22982\" xlink:type=\"simple\"><path d=\"M110.75,276.82 C96.95,294.07 82.02,312.72 70.8,326.75 \" fill=\"none\" id=\"E3&lt;-E5\" style=\"stroke: #383838; stroke-width: 1.0;\"/><polygon fill=\"#FFFFFF\" points=\"119.15,266.31,112.2784,268.4964,111.6537,275.6804,118.5253,273.494,119.15,266.31\" style=\"stroke: #383838; stroke-width: 1.0;\"/></a><!--MD5=[14ccda38c055a5c0da953d572bc50960]\n",
       "link E7 to E3--><a href=\"psysml:b2ac9add-d533-4cc3-a1ec-28b279e4ff39\" target=\"_top\" title=\"psysml:b2ac9add-d533-4cc3-a1ec-28b279e4ff39\" xlink:actuate=\"onRequest\" xlink:href=\"psysml:b2ac9add-d533-4cc3-a1ec-28b279e4ff39\" xlink:show=\"new\" xlink:title=\"psysml:b2ac9add-d533-4cc3-a1ec-28b279e4ff39\" xlink:type=\"simple\"><path d=\"M159.74,663.82 C172.72,643.34 189,611.54 189,581 C189,349 189,349 189,349 C189,327.34 183.06,304.56 175.76,284.74 \" fill=\"none\" id=\"E7-&gt;E3\" style=\"stroke: #383838; stroke-width: 1.0;\"/><polygon fill=\"#FFFFFF\" points=\"168.18,266.05,181.8034,281.0301,168.8283,286.2881,168.18,266.05\" style=\"stroke: #383838; stroke-width: 1.0;\"/><ellipse cx=\"182.0906\" cy=\"287.0639\" fill=\"#383838\" rx=\"2\" ry=\"2\" style=\"stroke: #383838; stroke-width: 1.0;\"/><ellipse cx=\"172.8227\" cy=\"290.8196\" fill=\"#383838\" rx=\"2\" ry=\"2\" style=\"stroke: #383838; stroke-width: 1.0;\"/></a><!--MD5=[3f50a3473f1dfb74d3f76443e03635af]\n",
       "reverse link E6 to E7--><a href=\"psysml:7f7b610c-5cf3-4f1d-92e7-984e3817e328\" target=\"_top\" title=\"psysml:7f7b610c-5cf3-4f1d-92e7-984e3817e328\" xlink:actuate=\"onRequest\" xlink:href=\"psysml:7f7b610c-5cf3-4f1d-92e7-984e3817e328\" xlink:show=\"new\" xlink:title=\"psysml:7f7b610c-5cf3-4f1d-92e7-984e3817e328\" xlink:type=\"simple\"><path d=\"M127.34,616.05 C131.08,631.76 135.39,649.82 138.68,663.66 \" fill=\"none\" id=\"E6&lt;-E7\" style=\"stroke: #383838; stroke-width: 1.0;\"/><polygon fill=\"#383838\" points=\"124.24,603.01,121.7406,609.7741,127.023,614.6828,129.5224,607.9187,124.24,603.01\" style=\"stroke: #383838; stroke-width: 1.0;\"/></a><!--MD5=[dfaffb906826c3e5aca635516100ff21]\n",
       "link E5 to E8--><a href=\"psysml:8f4ff897-72ba-4249-b35c-9a7192bde9f3\" target=\"_top\" title=\"psysml:8f4ff897-72ba-4249-b35c-9a7192bde9f3\" xlink:actuate=\"onRequest\" xlink:href=\"psysml:8f4ff897-72ba-4249-b35c-9a7192bde9f3\" xlink:show=\"new\" xlink:title=\"psysml:8f4ff897-72ba-4249-b35c-9a7192bde9f3\" xlink:type=\"simple\"><path d=\"M66.84,373.01 C74.79,385.67 85.02,401.94 94.31,416.72 \" fill=\"none\" id=\"E5-&gt;E8\" style=\"stroke: #383838; stroke-width: 1.0;\"/><polygon fill=\"#FFFFFF\" points=\"104.96,433.66,88.9212,421.3005,100.7735,413.8491,104.96,433.66\" style=\"stroke: #383838; stroke-width: 1.0;\"/><ellipse cx=\"87.5806\" cy=\"415.4104\" fill=\"#383838\" rx=\"2\" ry=\"2\" style=\"stroke: #383838; stroke-width: 1.0;\"/><ellipse cx=\"96.0465\" cy=\"410.088\" fill=\"#383838\" rx=\"2\" ry=\"2\" style=\"stroke: #383838; stroke-width: 1.0;\"/></a><!--MD5=[03c8294790d3c57651a1993cecff665f]\n",
       "reverse link E8 to E3--><a href=\"psysml:44d9af1e-71a6-403b-81da-6292c3b1f2cb\" target=\"_top\" title=\"psysml:44d9af1e-71a6-403b-81da-6292c3b1f2cb\" xlink:actuate=\"onRequest\" xlink:href=\"psysml:44d9af1e-71a6-403b-81da-6292c3b1f2cb\" xlink:show=\"new\" xlink:title=\"psysml:44d9af1e-71a6-403b-81da-6292c3b1f2cb\" xlink:type=\"simple\"><path d=\"M123.65,420.81 C129.2,378.86 138.42,309.06 144.08,266.23 \" fill=\"none\" id=\"E8&lt;-E3\" style=\"stroke: #383838; stroke-width: 1.0;\"/><polygon fill=\"#FFFFFF\" points=\"121.92,433.89,126.6755,428.4692,123.5008,421.9946,118.7453,427.4154,121.92,433.89\" style=\"stroke: #383838; stroke-width: 1.0;\"/><text fill=\"#000000\" font-family=\"sans-serif\" font-size=\"13\" lengthAdjust=\"spacingAndGlyphs\" textLength=\"7\" x=\"136\" y=\"354.5669\">y</text></a><!--MD5=[0d75d2178373a6a4568e5dc728f58aef]\n",
       "reverse link E8 to E6--><a href=\"psysml:44d9af1e-71a6-403b-81da-6292c3b1f2cb\" target=\"_top\" title=\"psysml:44d9af1e-71a6-403b-81da-6292c3b1f2cb\" xlink:actuate=\"onRequest\" xlink:href=\"psysml:44d9af1e-71a6-403b-81da-6292c3b1f2cb\" xlink:show=\"new\" xlink:title=\"psysml:44d9af1e-71a6-403b-81da-6292c3b1f2cb\" xlink:type=\"simple\"><path d=\"M119,493.22 C119,513.81 119,539.16 119,556.95 \" fill=\"none\" id=\"E8&lt;-E6\" style=\"stroke: #383838; stroke-width: 1.0;\"/><polygon fill=\"#FFFFFF\" points=\"119,480.19,115,486.19,119,492.19,123,486.19,119,480.19\" style=\"stroke: #383838; stroke-width: 1.0;\"/><text fill=\"#000000\" font-family=\"sans-serif\" font-size=\"13\" lengthAdjust=\"spacingAndGlyphs\" textLength=\"7\" x=\"120\" y=\"523.0669\">y</text></a><!--MD5=[60342c889b0f33c04119c1d20c73c73b]\n",
       "@startuml\r\n",
       "skinparam monochrome true\r\n",
       "skinparam classbackgroundcolor white\r\n",
       "skinparam shadowing false\r\n",
       "skinparam wrapWidth 300\r\n",
       "hide circle\r\n",
       "\r\n",
       "package \"ItemTest\" as E1  [[psysml:75fb623a-e350-4a47-9f82-c4d20b2b5b80 ]]  {\r\n",
       "comp usage \"f: A\" as E2  <<(T,blue)item>> [[psysml:d8a17efa-9aba-4cd7-b18a-68f8ed4c599b ]] {\r\n",
       "}\r\n",
       "comp def \"A\" as E3  <<(T,blue)item def>> [[psysml:30552314-ef8a-4f2d-b223-fa6e862cb5b8 ]] {\r\n",
       "- - items - -\r\n",
       "b: B\r\n",
       "}\r\n",
       "comp usage \"c: C\" as E5  <<(T,blue)part>> [[psysml:cb0fe327-dda6-4eae-9e46-1ce946f22982 ]] {\r\n",
       "}\r\n",
       "comp def \"B\" as E6  <<(T,blue)item def>> [[psysml:0c776550-23a6-42b8-908b-320a74e2d4ee ]] {\r\n",
       "}\r\n",
       "comp usage \"a: A\" as E7  <<(T,blue)part>> [[psysml:7f7b610c-5cf3-4f1d-92e7-984e3817e328 ]] {\r\n",
       "}\r\n",
       "comp def \"C\" as E8  <<(T,blue)part def>> [[psysml:3f3cfa4e-9100-4bf2-8dae-183ab53e5ac5 ]] {\r\n",
       "}\r\n",
       "comp def \"P\" as E9  <<(T,blue)port def>> [[psysml:b18b87fb-d7bd-4905-b0cb-818d68f57f75 ]] {\r\n",
       "- - items - -\r\n",
       "a1: A\r\n",
       "a2: A\r\n",
       "}\r\n",
       "E2 - -:|> E3 [[psysml:cbc83e8e-35d8-4884-92a4-03d9c321669a ]] \r\n",
       "E3 o- - E5 [[psysml:cb0fe327-dda6-4eae-9e46-1ce946f22982 ]] \r\n",
       "E7 - -:|> E3 [[psysml:b2ac9add-d533-4cc3-a1ec-28b279e4ff39 ]] \r\n",
       "E6 *- - E7 [[psysml:7f7b610c-5cf3-4f1d-92e7-984e3817e328 ]] \r\n",
       "E5 - -:|> E8 [[psysml:8f4ff897-72ba-4249-b35c-9a7192bde9f3 ]] \r\n",
       "E8 o- - E3 [[psysml:44d9af1e-71a6-403b-81da-6292c3b1f2cb ]] : y\r\n",
       "E8 o- - E6 [[psysml:44d9af1e-71a6-403b-81da-6292c3b1f2cb ]] : y\r\n",
       "}\r\n",
       "@enduml\r\n",
       "\n",
       "PlantUML version 1.2020.13(Sat Jun 13 12:26:38 UTC 2020)\n",
       "(EPL source distribution)\n",
       "Java Runtime: OpenJDK Runtime Environment\n",
       "JVM: OpenJDK 64-Bit Server VM\n",
       "Default Encoding: UTF-8\n",
       "Language: en\n",
       "Country: null\n",
       "--></g></svg>"
      ]
     },
     "execution_count": 38,
     "metadata": {},
     "output_type": "execute_result"
    }
   ],
   "source": [
    "%viz --style=\"DEFAULT\" --view=\"Tree\" \"ItemTest\""
   ]
  },
  {
   "cell_type": "code",
   "execution_count": 39,
   "id": "treated-throw",
   "metadata": {
    "execution": {
     "iopub.execute_input": "2021-03-26T12:12:07.831541Z",
     "iopub.status.busy": "2021-03-26T12:12:07.830839Z",
     "iopub.status.idle": "2021-03-26T12:12:07.837461Z",
     "shell.execute_reply": "2021-03-26T12:12:07.837003Z"
    }
   },
   "outputs": [
    {
     "data": {
      "image/svg+xml": [
       "<?xml version=\"1.0\" encoding=\"UTF-8\" standalone=\"no\"?><svg xmlns=\"http://www.w3.org/2000/svg\" xmlns:xlink=\"http://www.w3.org/1999/xlink\" contentScriptType=\"application/ecmascript\" contentStyleType=\"text/css\" height=\"12px\" preserveAspectRatio=\"none\" style=\"width:12px;height:12px;\" version=\"1.1\" viewBox=\"0 0 12 12\" width=\"12px\" zoomAndPan=\"magnify\"><defs/><g><!--MD5=[c5f280e076d0d61ccf4b0f27871bda1d]\n",
       "@startuml\r\n",
       "skinparam monochrome true\r\n",
       "skinparam classbackgroundcolor white\r\n",
       "skinparam shadowing false\r\n",
       "skinparam wrapWidth 300\r\n",
       "hide circle\r\n",
       "\r\n",
       "@enduml\r\n",
       "\n",
       "PlantUML version 1.2020.13(Sat Jun 13 12:26:38 UTC 2020)\n",
       "(EPL source distribution)\n",
       "Java Runtime: OpenJDK Runtime Environment\n",
       "JVM: OpenJDK 64-Bit Server VM\n",
       "Default Encoding: UTF-8\n",
       "Language: en\n",
       "Country: null\n",
       "--></g></svg>"
      ]
     },
     "execution_count": 39,
     "metadata": {},
     "output_type": "execute_result"
    }
   ],
   "source": [
    "%viz --style=\"DEFAULT\" --view=\"State\" \"ItemTest\""
   ]
  },
  {
   "cell_type": "code",
   "execution_count": 40,
   "id": "atlantic-escape",
   "metadata": {
    "execution": {
     "iopub.execute_input": "2021-03-26T12:12:07.888606Z",
     "iopub.status.busy": "2021-03-26T12:12:07.887765Z",
     "iopub.status.idle": "2021-03-26T12:12:07.918945Z",
     "shell.execute_reply": "2021-03-26T12:12:07.917753Z"
    }
   },
   "outputs": [
    {
     "data": {
      "image/svg+xml": [
       "<?xml version=\"1.0\" encoding=\"UTF-8\" standalone=\"no\"?><svg xmlns=\"http://www.w3.org/2000/svg\" xmlns:xlink=\"http://www.w3.org/1999/xlink\" contentScriptType=\"application/ecmascript\" contentStyleType=\"text/css\" height=\"195px\" preserveAspectRatio=\"none\" style=\"width:582px;height:195px;\" version=\"1.1\" viewBox=\"0 0 582 195\" width=\"582px\" zoomAndPan=\"magnify\"><defs/><g><!--MD5=[fbc87193dbaf4d95561dea2c320d4a47]\n",
       "cluster E1--><a href=\"psysml:75fb623a-e350-4a47-9f82-c4d20b2b5b80\" target=\"_top\" title=\"psysml:75fb623a-e350-4a47-9f82-c4d20b2b5b80\" xlink:actuate=\"onRequest\" xlink:href=\"psysml:75fb623a-e350-4a47-9f82-c4d20b2b5b80\" xlink:show=\"new\" xlink:title=\"psysml:75fb623a-e350-4a47-9f82-c4d20b2b5b80\" xlink:type=\"simple\"><polygon fill=\"#FFFFFF\" points=\"16,6,91,6,98,28.2969,560,28.2969,560,183,16,183,16,6\" style=\"stroke: #000000; stroke-width: 1.5;\"/><line style=\"stroke: #000000; stroke-width: 1.5;\" x1=\"16\" x2=\"98\" y1=\"28.2969\" y2=\"28.2969\"/><text fill=\"#000000\" font-family=\"sans-serif\" font-size=\"14\" font-weight=\"bold\" lengthAdjust=\"spacingAndGlyphs\" textLength=\"69\" x=\"20\" y=\"20.9951\">ItemTest</text></a><!--MD5=[de5ec2e2e8f62f467e546659f5068c88]\n",
       "cluster E5--><a href=\"psysml:3f3cfa4e-9100-4bf2-8dae-183ab53e5ac5\" target=\"_top\" title=\"psysml:3f3cfa4e-9100-4bf2-8dae-183ab53e5ac5\" xlink:actuate=\"onRequest\" xlink:href=\"psysml:3f3cfa4e-9100-4bf2-8dae-183ab53e5ac5\" xlink:show=\"new\" xlink:title=\"psysml:3f3cfa4e-9100-4bf2-8dae-183ab53e5ac5\" xlink:type=\"simple\"><rect fill=\"#FFFFFF\" height=\"110\" id=\"E5\" style=\"stroke: #383838; stroke-width: 1.5;\" width=\"114\" x=\"422\" y=\"49\"/><rect fill=\"#F8F8F8\" height=\"37.9375\" style=\"stroke: #383838; stroke-width: 1.5;\" width=\"114\" x=\"422\" y=\"49\"/><text fill=\"#000000\" font-family=\"sans-serif\" font-size=\"12\" font-style=\"italic\" lengthAdjust=\"spacingAndGlyphs\" textLength=\"64\" x=\"447\" y=\"65.1387\">«part def»</text><text fill=\"#000000\" font-family=\"sans-serif\" font-size=\"12\" lengthAdjust=\"spacingAndGlyphs\" textLength=\"8\" x=\"475\" y=\"79.1074\">C</text></a><g id=\"E1.E3\"><a href=\"psysml:30552314-ef8a-4f2d-b223-fa6e862cb5b8\" target=\"_top\" title=\"psysml:30552314-ef8a-4f2d-b223-fa6e862cb5b8\" xlink:actuate=\"onRequest\" xlink:href=\"psysml:30552314-ef8a-4f2d-b223-fa6e862cb5b8\" xlink:show=\"new\" xlink:title=\"psysml:30552314-ef8a-4f2d-b223-fa6e862cb5b8\" xlink:type=\"simple\"><rect fill=\"#FFFFFF\" height=\"42.9375\" id=\"E3\" style=\"stroke: #383838; stroke-width: 1.5;\" width=\"72\" x=\"331\" y=\"100\"/><rect fill=\"#F8F8F8\" height=\"37.9375\" style=\"stroke: #383838; stroke-width: 1.5;\" width=\"72\" x=\"331\" y=\"100\"/><text fill=\"#000000\" font-family=\"sans-serif\" font-size=\"12\" font-style=\"italic\" lengthAdjust=\"spacingAndGlyphs\" textLength=\"65\" x=\"334.5\" y=\"116.1387\">«item def»</text><text fill=\"#000000\" font-family=\"sans-serif\" font-size=\"12\" lengthAdjust=\"spacingAndGlyphs\" textLength=\"8\" x=\"363\" y=\"130.1074\">A</text></a></g><g id=\"E1.E4\"><a href=\"psysml:0c776550-23a6-42b8-908b-320a74e2d4ee\" target=\"_top\" title=\"psysml:0c776550-23a6-42b8-908b-320a74e2d4ee\" xlink:actuate=\"onRequest\" xlink:href=\"psysml:0c776550-23a6-42b8-908b-320a74e2d4ee\" xlink:show=\"new\" xlink:title=\"psysml:0c776550-23a6-42b8-908b-320a74e2d4ee\" xlink:type=\"simple\"><rect fill=\"#FFFFFF\" height=\"42.9375\" id=\"E4\" style=\"stroke: #383838; stroke-width: 1.5;\" width=\"72\" x=\"224\" y=\"100\"/><rect fill=\"#F8F8F8\" height=\"37.9375\" style=\"stroke: #383838; stroke-width: 1.5;\" width=\"72\" x=\"224\" y=\"100\"/><text fill=\"#000000\" font-family=\"sans-serif\" font-size=\"12\" font-style=\"italic\" lengthAdjust=\"spacingAndGlyphs\" textLength=\"65\" x=\"227.5\" y=\"116.1387\">«item def»</text><text fill=\"#000000\" font-family=\"sans-serif\" font-size=\"12\" lengthAdjust=\"spacingAndGlyphs\" textLength=\"8\" x=\"256\" y=\"130.1074\">B</text></a></g><g id=\"E1.E7\"><a href=\"psysml:b18b87fb-d7bd-4905-b0cb-818d68f57f75\" target=\"_top\" title=\"psysml:b18b87fb-d7bd-4905-b0cb-818d68f57f75\" xlink:actuate=\"onRequest\" xlink:href=\"psysml:b18b87fb-d7bd-4905-b0cb-818d68f57f75\" xlink:show=\"new\" xlink:title=\"psysml:b18b87fb-d7bd-4905-b0cb-818d68f57f75\" xlink:type=\"simple\"><rect fill=\"#FFFFFF\" height=\"42.9375\" id=\"E7\" style=\"stroke: #383838; stroke-width: 1.5;\" width=\"71\" x=\"117.5\" y=\"100\"/><rect fill=\"#F8F8F8\" height=\"37.9375\" style=\"stroke: #383838; stroke-width: 1.5;\" width=\"71\" x=\"117.5\" y=\"100\"/><text fill=\"#000000\" font-family=\"sans-serif\" font-size=\"12\" font-style=\"italic\" lengthAdjust=\"spacingAndGlyphs\" textLength=\"64\" x=\"121\" y=\"116.1387\">«port def»</text><text fill=\"#000000\" font-family=\"sans-serif\" font-size=\"12\" lengthAdjust=\"spacingAndGlyphs\" textLength=\"8\" x=\"149\" y=\"130.1074\">P</text></a></g><g id=\"E1.E2\"><a href=\"psysml:d8a17efa-9aba-4cd7-b18a-68f8ed4c599b\" target=\"_top\" title=\"psysml:d8a17efa-9aba-4cd7-b18a-68f8ed4c599b\" xlink:actuate=\"onRequest\" xlink:href=\"psysml:d8a17efa-9aba-4cd7-b18a-68f8ed4c599b\" xlink:show=\"new\" xlink:title=\"psysml:d8a17efa-9aba-4cd7-b18a-68f8ed4c599b\" xlink:type=\"simple\"><rect fill=\"#FFFFFF\" height=\"42.9375\" id=\"E2\" rx=\"10\" ry=\"10\" style=\"stroke: #383838; stroke-width: 1.5;\" width=\"50\" x=\"32\" y=\"100\"/><rect fill=\"#F8F8F8\" height=\"37.9375\" rx=\"10\" ry=\"10\" style=\"stroke: #F8F8F8; stroke-width: 1.5;\" width=\"50\" x=\"32\" y=\"100\"/><rect fill=\"#F8F8F8\" height=\"10\" style=\"stroke: #F8F8F8; stroke-width: 1.5;\" width=\"50\" x=\"32\" y=\"127.9375\"/><rect fill=\"none\" height=\"42.9375\" id=\"E2\" rx=\"10\" ry=\"10\" style=\"stroke: #383838; stroke-width: 1.5;\" width=\"50\" x=\"32\" y=\"100\"/><text fill=\"#000000\" font-family=\"sans-serif\" font-size=\"12\" font-style=\"italic\" lengthAdjust=\"spacingAndGlyphs\" textLength=\"41\" x=\"36.5\" y=\"116.1387\">«item»</text><text fill=\"#000000\" font-family=\"sans-serif\" font-size=\"12\" lengthAdjust=\"spacingAndGlyphs\" textLength=\"20\" x=\"47\" y=\"130.1074\">f: A</text></a></g><g id=\"E1.E5.E6\"><a href=\"psysml:44d9af1e-71a6-403b-81da-6292c3b1f2cb\" target=\"_top\" title=\"psysml:44d9af1e-71a6-403b-81da-6292c3b1f2cb\" xlink:actuate=\"onRequest\" xlink:href=\"psysml:44d9af1e-71a6-403b-81da-6292c3b1f2cb\" xlink:show=\"new\" xlink:title=\"psysml:44d9af1e-71a6-403b-81da-6292c3b1f2cb\" xlink:type=\"simple\"><rect fill=\"#FFFFFF\" height=\"42.9375\" id=\"E6\" rx=\"10\" ry=\"10\" style=\"stroke: #383838; stroke-width: 1.5;\" width=\"82\" x=\"438\" y=\"100\"/><rect fill=\"#F8F8F8\" height=\"37.9375\" rx=\"10\" ry=\"10\" style=\"stroke: #F8F8F8; stroke-width: 1.5;\" width=\"82\" x=\"438\" y=\"100\"/><rect fill=\"#F8F8F8\" height=\"10\" style=\"stroke: #F8F8F8; stroke-width: 1.5;\" width=\"82\" x=\"438\" y=\"127.9375\"/><rect fill=\"none\" height=\"42.9375\" id=\"E6\" rx=\"10\" ry=\"10\" style=\"stroke: #383838; stroke-width: 1.5;\" width=\"82\" x=\"438\" y=\"100\"/><text fill=\"#000000\" font-family=\"sans-serif\" font-size=\"12\" font-style=\"italic\" lengthAdjust=\"spacingAndGlyphs\" textLength=\"75\" x=\"441.5\" y=\"116.1387\">«reference»</text><text fill=\"#000000\" font-family=\"sans-serif\" font-size=\"12\" lengthAdjust=\"spacingAndGlyphs\" textLength=\"38\" x=\"460\" y=\"130.1074\">y: A, B</text></a></g><!--MD5=[4346a49a8b36ec586f585236117fdbd1]\n",
       "@startuml\r\n",
       "skinparam ranksep 8\r\n",
       "skinparam rectangle {\r\n",
       " backgroundColor<<block>> LightGreen\r\n",
       "}\r\n",
       "skinparam monochrome true\r\n",
       "skinparam classbackgroundcolor white\r\n",
       "skinparam shadowing false\r\n",
       "skinparam wrapWidth 300\r\n",
       "hide circle\r\n",
       "\r\n",
       "package \"ItemTest\" as E1  [[psysml:75fb623a-e350-4a47-9f82-c4d20b2b5b80 ]]  {\r\n",
       "rec usage \"f: A\" as E2  <<(T,blue)item>> [[psysml:d8a17efa-9aba-4cd7-b18a-68f8ed4c599b ]] {\r\n",
       "}\r\n",
       "def \"A\" as E3  <<(T,blue)item def>> [[psysml:30552314-ef8a-4f2d-b223-fa6e862cb5b8 ]] \r\n",
       "def \"B\" as E4  <<(T,blue)item def>> [[psysml:0c776550-23a6-42b8-908b-320a74e2d4ee ]] \r\n",
       "rec def \"C\" as E5  <<(T,blue)part def>> [[psysml:3f3cfa4e-9100-4bf2-8dae-183ab53e5ac5 ]] {\r\n",
       "rec usage \"y: A, B\" as E6  <<(T,blue)reference>> [[psysml:44d9af1e-71a6-403b-81da-6292c3b1f2cb ]] {\r\n",
       "}\r\n",
       "}\r\n",
       "def \"P\" as E7  <<(T,blue)port def>> [[psysml:b18b87fb-d7bd-4905-b0cb-818d68f57f75 ]] \r\n",
       "}\r\n",
       "@enduml\r\n",
       "\n",
       "PlantUML version 1.2020.13(Sat Jun 13 12:26:38 UTC 2020)\n",
       "(EPL source distribution)\n",
       "Java Runtime: OpenJDK Runtime Environment\n",
       "JVM: OpenJDK 64-Bit Server VM\n",
       "Default Encoding: UTF-8\n",
       "Language: en\n",
       "Country: null\n",
       "--></g></svg>"
      ]
     },
     "execution_count": 40,
     "metadata": {},
     "output_type": "execute_result"
    }
   ],
   "source": [
    "%viz --style=\"DEFAULT\" --view=\"Interconnection\" \"ItemTest\""
   ]
  },
  {
   "cell_type": "code",
   "execution_count": 41,
   "id": "powered-bryan",
   "metadata": {
    "execution": {
     "iopub.execute_input": "2021-03-26T12:12:07.970387Z",
     "iopub.status.busy": "2021-03-26T12:12:07.969859Z",
     "iopub.status.idle": "2021-03-26T12:12:07.974995Z",
     "shell.execute_reply": "2021-03-26T12:12:07.975477Z"
    }
   },
   "outputs": [
    {
     "data": {
      "image/svg+xml": [
       "<?xml version=\"1.0\" encoding=\"UTF-8\" standalone=\"no\"?><svg xmlns=\"http://www.w3.org/2000/svg\" xmlns:xlink=\"http://www.w3.org/1999/xlink\" contentScriptType=\"application/ecmascript\" contentStyleType=\"text/css\" height=\"12px\" preserveAspectRatio=\"none\" style=\"width:12px;height:12px;\" version=\"1.1\" viewBox=\"0 0 12 12\" width=\"12px\" zoomAndPan=\"magnify\"><defs/><g><!--MD5=[388f21188e31bfdd97050473b19af356]\n",
       "@startuml\r\n",
       "skinparam ranksep 8\r\n",
       "skinparam monochrome true\r\n",
       "skinparam classbackgroundcolor white\r\n",
       "skinparam shadowing false\r\n",
       "skinparam wrapWidth 300\r\n",
       "hide circle\r\n",
       "\r\n",
       "@enduml\r\n",
       "\n",
       "PlantUML version 1.2020.13(Sat Jun 13 12:26:38 UTC 2020)\n",
       "(EPL source distribution)\n",
       "Java Runtime: OpenJDK Runtime Environment\n",
       "JVM: OpenJDK 64-Bit Server VM\n",
       "Default Encoding: UTF-8\n",
       "Language: en\n",
       "Country: null\n",
       "--></g></svg>"
      ]
     },
     "execution_count": 41,
     "metadata": {},
     "output_type": "execute_result"
    }
   ],
   "source": [
    "%viz --style=\"DEFAULT\" --view=\"Action\" \"ItemTest\""
   ]
  },
  {
   "cell_type": "code",
   "execution_count": 42,
   "id": "short-evolution",
   "metadata": {
    "execution": {
     "iopub.execute_input": "2021-03-26T12:12:08.028151Z",
     "iopub.status.busy": "2021-03-26T12:12:08.027249Z",
     "iopub.status.idle": "2021-03-26T12:12:08.089845Z",
     "shell.execute_reply": "2021-03-26T12:12:08.090238Z"
    }
   },
   "outputs": [
    {
     "data": {
      "image/svg+xml": [
       "<?xml version=\"1.0\" encoding=\"UTF-8\" standalone=\"no\"?><svg xmlns=\"http://www.w3.org/2000/svg\" xmlns:xlink=\"http://www.w3.org/1999/xlink\" contentScriptType=\"application/ecmascript\" contentStyleType=\"text/css\" height=\"738px\" preserveAspectRatio=\"none\" style=\"width:228px;height:738px;\" version=\"1.1\" viewBox=\"0 0 228 738\" width=\"228px\" zoomAndPan=\"magnify\"><defs/><g><!--MD5=[fbc87193dbaf4d95561dea2c320d4a47]\n",
       "cluster E1--><a href=\"psysml:75fb623a-e350-4a47-9f82-c4d20b2b5b80\" target=\"_top\" title=\"psysml:75fb623a-e350-4a47-9f82-c4d20b2b5b80\" xlink:actuate=\"onRequest\" xlink:href=\"psysml:75fb623a-e350-4a47-9f82-c4d20b2b5b80\" xlink:show=\"new\" xlink:title=\"psysml:75fb623a-e350-4a47-9f82-c4d20b2b5b80\" xlink:type=\"simple\"><polygon fill=\"#FFFFFF\" points=\"16,6,91,6,98,28.2969,206,28.2969,206,726,16,726,16,6\" style=\"stroke: #000000; stroke-width: 1.5;\"/><line style=\"stroke: #000000; stroke-width: 1.5;\" x1=\"16\" x2=\"98\" y1=\"28.2969\" y2=\"28.2969\"/><text fill=\"#000000\" font-family=\"sans-serif\" font-size=\"14\" font-weight=\"bold\" lengthAdjust=\"spacingAndGlyphs\" textLength=\"69\" x=\"20\" y=\"20.9951\">ItemTest</text></a><!--MD5=[b4997ac47864f28c2f74865a473b2911]\n",
       "class E2--><a href=\"psysml:d8a17efa-9aba-4cd7-b18a-68f8ed4c599b\" target=\"_top\" title=\"psysml:d8a17efa-9aba-4cd7-b18a-68f8ed4c599b\" xlink:actuate=\"onRequest\" xlink:href=\"psysml:d8a17efa-9aba-4cd7-b18a-68f8ed4c599b\" xlink:show=\"new\" xlink:title=\"psysml:d8a17efa-9aba-4cd7-b18a-68f8ed4c599b\" xlink:type=\"simple\"><rect fill=\"#FFFFFF\" height=\"45.9375\" id=\"E2\" rx=\"10\" ry=\"10\" style=\"stroke: #383838; stroke-width: 1.5;\" width=\"43\" x=\"133.5\" y=\"62\"/><text fill=\"#000000\" font-family=\"sans-serif\" font-size=\"12\" font-style=\"italic\" lengthAdjust=\"spacingAndGlyphs\" textLength=\"41\" x=\"134.5\" y=\"78.1387\">«item»</text><text fill=\"#000000\" font-family=\"sans-serif\" font-size=\"12\" lengthAdjust=\"spacingAndGlyphs\" textLength=\"20\" x=\"145\" y=\"92.1074\">f: A</text><line style=\"stroke: #383838; stroke-width: 1.5;\" x1=\"134.5\" x2=\"175.5\" y1=\"99.9375\" y2=\"99.9375\"/></a><!--MD5=[09b614a08d8cba4a07c9adeb5e0fee81]\n",
       "class E3--><a href=\"psysml:30552314-ef8a-4f2d-b223-fa6e862cb5b8\" target=\"_top\" title=\"psysml:30552314-ef8a-4f2d-b223-fa6e862cb5b8\" xlink:actuate=\"onRequest\" xlink:href=\"psysml:30552314-ef8a-4f2d-b223-fa6e862cb5b8\" xlink:show=\"new\" xlink:title=\"psysml:30552314-ef8a-4f2d-b223-fa6e862cb5b8\" xlink:type=\"simple\"><rect fill=\"#FFFFFF\" height=\"75.5469\" id=\"E3\" style=\"stroke: #383838; stroke-width: 1.5;\" width=\"67\" x=\"115.5\" y=\"190\"/><text fill=\"#000000\" font-family=\"sans-serif\" font-size=\"12\" font-style=\"italic\" lengthAdjust=\"spacingAndGlyphs\" textLength=\"65\" x=\"116.5\" y=\"206.1387\">«item def»</text><text fill=\"#000000\" font-family=\"sans-serif\" font-size=\"12\" lengthAdjust=\"spacingAndGlyphs\" textLength=\"8\" x=\"145\" y=\"220.1074\">A</text><line style=\"stroke: #383838; stroke-width: 1.5;\" x1=\"116.5\" x2=\"181.5\" y1=\"227.9375\" y2=\"227.9375\"/><text fill=\"#000000\" font-family=\"sans-serif\" font-size=\"11\" lengthAdjust=\"spacingAndGlyphs\" textLength=\"23\" x=\"121.5\" y=\"258.9526\">b: B</text><line style=\"stroke: #383838; stroke-width: 1.0;\" x1=\"116.5\" x2=\"133\" y1=\"242.3398\" y2=\"242.3398\"/><text fill=\"#000000\" font-family=\"sans-serif\" font-size=\"11\" lengthAdjust=\"spacingAndGlyphs\" textLength=\"32\" x=\"133\" y=\"245.6479\">items</text><line style=\"stroke: #383838; stroke-width: 1.0;\" x1=\"165\" x2=\"181.5\" y1=\"242.3398\" y2=\"242.3398\"/></a><!--MD5=[270fce915f116d4de14055a7c1d9a0f3]\n",
       "class E5--><a href=\"psysml:cb0fe327-dda6-4eae-9e46-1ce946f22982\" target=\"_top\" title=\"psysml:cb0fe327-dda6-4eae-9e46-1ce946f22982\" xlink:actuate=\"onRequest\" xlink:href=\"psysml:cb0fe327-dda6-4eae-9e46-1ce946f22982\" xlink:show=\"new\" xlink:title=\"psysml:cb0fe327-dda6-4eae-9e46-1ce946f22982\" xlink:type=\"simple\"><rect fill=\"#FFFFFF\" height=\"45.9375\" id=\"E5\" rx=\"10\" ry=\"10\" style=\"stroke: #383838; stroke-width: 1.5;\" width=\"42\" x=\"32\" y=\"327\"/><text fill=\"#000000\" font-family=\"sans-serif\" font-size=\"12\" font-style=\"italic\" lengthAdjust=\"spacingAndGlyphs\" textLength=\"40\" x=\"33\" y=\"343.1387\">«part»</text><text fill=\"#000000\" font-family=\"sans-serif\" font-size=\"12\" lengthAdjust=\"spacingAndGlyphs\" textLength=\"23\" x=\"41.5\" y=\"357.1074\">c: C</text><line style=\"stroke: #383838; stroke-width: 1.5;\" x1=\"33\" x2=\"73\" y1=\"364.9375\" y2=\"364.9375\"/></a><!--MD5=[60a26617385b1d2d0262a64233df1f8d]\n",
       "class E6--><a href=\"psysml:0c776550-23a6-42b8-908b-320a74e2d4ee\" target=\"_top\" title=\"psysml:0c776550-23a6-42b8-908b-320a74e2d4ee\" xlink:actuate=\"onRequest\" xlink:href=\"psysml:0c776550-23a6-42b8-908b-320a74e2d4ee\" xlink:show=\"new\" xlink:title=\"psysml:0c776550-23a6-42b8-908b-320a74e2d4ee\" xlink:type=\"simple\"><rect fill=\"#FFFFFF\" height=\"45.9375\" id=\"E6\" style=\"stroke: #383838; stroke-width: 1.5;\" width=\"67\" x=\"85.5\" y=\"557\"/><text fill=\"#000000\" font-family=\"sans-serif\" font-size=\"12\" font-style=\"italic\" lengthAdjust=\"spacingAndGlyphs\" textLength=\"65\" x=\"86.5\" y=\"573.1387\">«item def»</text><text fill=\"#000000\" font-family=\"sans-serif\" font-size=\"12\" lengthAdjust=\"spacingAndGlyphs\" textLength=\"8\" x=\"115\" y=\"587.1074\">B</text><line style=\"stroke: #383838; stroke-width: 1.5;\" x1=\"86.5\" x2=\"151.5\" y1=\"594.9375\" y2=\"594.9375\"/></a><!--MD5=[2156ba9850f5573cc1fc38a6a4b2f02b]\n",
       "class E7--><a href=\"psysml:7f7b610c-5cf3-4f1d-92e7-984e3817e328\" target=\"_top\" title=\"psysml:7f7b610c-5cf3-4f1d-92e7-984e3817e328\" xlink:actuate=\"onRequest\" xlink:href=\"psysml:7f7b610c-5cf3-4f1d-92e7-984e3817e328\" xlink:show=\"new\" xlink:title=\"psysml:7f7b610c-5cf3-4f1d-92e7-984e3817e328\" xlink:type=\"simple\"><rect fill=\"#FFFFFF\" height=\"45.9375\" id=\"E7\" rx=\"10\" ry=\"10\" style=\"stroke: #383838; stroke-width: 1.5;\" width=\"42\" x=\"123\" y=\"664\"/><text fill=\"#000000\" font-family=\"sans-serif\" font-size=\"12\" font-style=\"italic\" lengthAdjust=\"spacingAndGlyphs\" textLength=\"40\" x=\"124\" y=\"680.1387\">«part»</text><text fill=\"#000000\" font-family=\"sans-serif\" font-size=\"12\" lengthAdjust=\"spacingAndGlyphs\" textLength=\"24\" x=\"132\" y=\"694.1074\">a: A</text><line style=\"stroke: #383838; stroke-width: 1.5;\" x1=\"124\" x2=\"164\" y1=\"701.9375\" y2=\"701.9375\"/></a><!--MD5=[b9389687b975829384b498ac4b7476b2]\n",
       "class E8--><a href=\"psysml:3f3cfa4e-9100-4bf2-8dae-183ab53e5ac5\" target=\"_top\" title=\"psysml:3f3cfa4e-9100-4bf2-8dae-183ab53e5ac5\" xlink:actuate=\"onRequest\" xlink:href=\"psysml:3f3cfa4e-9100-4bf2-8dae-183ab53e5ac5\" xlink:show=\"new\" xlink:title=\"psysml:3f3cfa4e-9100-4bf2-8dae-183ab53e5ac5\" xlink:type=\"simple\"><rect fill=\"#FFFFFF\" height=\"45.9375\" id=\"E8\" style=\"stroke: #383838; stroke-width: 1.5;\" width=\"66\" x=\"86\" y=\"434\"/><text fill=\"#000000\" font-family=\"sans-serif\" font-size=\"12\" font-style=\"italic\" lengthAdjust=\"spacingAndGlyphs\" textLength=\"64\" x=\"87\" y=\"450.1387\">«part def»</text><text fill=\"#000000\" font-family=\"sans-serif\" font-size=\"12\" lengthAdjust=\"spacingAndGlyphs\" textLength=\"8\" x=\"115\" y=\"464.1074\">C</text><line style=\"stroke: #383838; stroke-width: 1.5;\" x1=\"87\" x2=\"151\" y1=\"471.9375\" y2=\"471.9375\"/></a><!--MD5=[fd4143e9d270a159db93a4ea2a975926]\n",
       "class E9--><a href=\"psysml:b18b87fb-d7bd-4905-b0cb-818d68f57f75\" target=\"_top\" title=\"psysml:b18b87fb-d7bd-4905-b0cb-818d68f57f75\" xlink:actuate=\"onRequest\" xlink:href=\"psysml:b18b87fb-d7bd-4905-b0cb-818d68f57f75\" xlink:show=\"new\" xlink:title=\"psysml:b18b87fb-d7bd-4905-b0cb-818d68f57f75\" xlink:type=\"simple\"><rect fill=\"#FFFFFF\" height=\"88.3516\" id=\"E9\" style=\"stroke: #383838; stroke-width: 1.5;\" width=\"66\" x=\"32\" y=\"41\"/><text fill=\"#000000\" font-family=\"sans-serif\" font-size=\"12\" font-style=\"italic\" lengthAdjust=\"spacingAndGlyphs\" textLength=\"64\" x=\"33\" y=\"57.1387\">«port def»</text><text fill=\"#000000\" font-family=\"sans-serif\" font-size=\"12\" lengthAdjust=\"spacingAndGlyphs\" textLength=\"8\" x=\"61\" y=\"71.1074\">P</text><line style=\"stroke: #383838; stroke-width: 1.5;\" x1=\"33\" x2=\"97\" y1=\"78.9375\" y2=\"78.9375\"/><text fill=\"#000000\" font-family=\"sans-serif\" font-size=\"11\" lengthAdjust=\"spacingAndGlyphs\" textLength=\"29\" x=\"38\" y=\"109.9526\">a1: A</text><text fill=\"#000000\" font-family=\"sans-serif\" font-size=\"11\" lengthAdjust=\"spacingAndGlyphs\" textLength=\"29\" x=\"38\" y=\"122.7573\">a2: A</text><line style=\"stroke: #383838; stroke-width: 1.0;\" x1=\"33\" x2=\"49\" y1=\"93.3398\" y2=\"93.3398\"/><text fill=\"#000000\" font-family=\"sans-serif\" font-size=\"11\" lengthAdjust=\"spacingAndGlyphs\" textLength=\"32\" x=\"49\" y=\"96.6479\">items</text><line style=\"stroke: #383838; stroke-width: 1.0;\" x1=\"81\" x2=\"97\" y1=\"93.3398\" y2=\"93.3398\"/></a><!--MD5=[2720a5a1f2c3fca2055b230370638851]\n",
       "link E2 to E3--><a href=\"psysml:cbc83e8e-35d8-4884-92a4-03d9c321669a\" target=\"_top\" title=\"psysml:cbc83e8e-35d8-4884-92a4-03d9c321669a\" xlink:actuate=\"onRequest\" xlink:href=\"psysml:cbc83e8e-35d8-4884-92a4-03d9c321669a\" xlink:show=\"new\" xlink:title=\"psysml:cbc83e8e-35d8-4884-92a4-03d9c321669a\" xlink:type=\"simple\"><path d=\"M154.06,108.03 C153.36,124.58 152.36,148.04 151.44,169.76 \" fill=\"none\" id=\"E2-&gt;E3\" style=\"stroke: #383838; stroke-width: 1.0;\"/><polygon fill=\"#FFFFFF\" points=\"150.58,189.77,144.4005,170.4875,158.3877,171.0874,150.58,189.77\" style=\"stroke: #383838; stroke-width: 1.0;\"/><ellipse cx=\"146.6429\" cy=\"164.8784\" fill=\"#383838\" rx=\"2\" ry=\"2\" style=\"stroke: #383838; stroke-width: 1.0;\"/><ellipse cx=\"156.6338\" cy=\"165.3069\" fill=\"#383838\" rx=\"2\" ry=\"2\" style=\"stroke: #383838; stroke-width: 1.0;\"/></a><!--MD5=[191cde3d490a3f6d7bb551fe3ddca469]\n",
       "reverse link E3 to E5--><a href=\"psysml:cb0fe327-dda6-4eae-9e46-1ce946f22982\" target=\"_top\" title=\"psysml:cb0fe327-dda6-4eae-9e46-1ce946f22982\" xlink:actuate=\"onRequest\" xlink:href=\"psysml:cb0fe327-dda6-4eae-9e46-1ce946f22982\" xlink:show=\"new\" xlink:title=\"psysml:cb0fe327-dda6-4eae-9e46-1ce946f22982\" xlink:type=\"simple\"><path d=\"M110.75,276.82 C96.95,294.07 82.02,312.72 70.8,326.75 \" fill=\"none\" id=\"E3&lt;-E5\" style=\"stroke: #383838; stroke-width: 1.0;\"/><polygon fill=\"#FFFFFF\" points=\"119.15,266.31,112.2784,268.4964,111.6537,275.6804,118.5253,273.494,119.15,266.31\" style=\"stroke: #383838; stroke-width: 1.0;\"/></a><!--MD5=[14ccda38c055a5c0da953d572bc50960]\n",
       "link E7 to E3--><a href=\"psysml:b2ac9add-d533-4cc3-a1ec-28b279e4ff39\" target=\"_top\" title=\"psysml:b2ac9add-d533-4cc3-a1ec-28b279e4ff39\" xlink:actuate=\"onRequest\" xlink:href=\"psysml:b2ac9add-d533-4cc3-a1ec-28b279e4ff39\" xlink:show=\"new\" xlink:title=\"psysml:b2ac9add-d533-4cc3-a1ec-28b279e4ff39\" xlink:type=\"simple\"><path d=\"M159.74,663.82 C172.72,643.34 189,611.54 189,581 C189,349 189,349 189,349 C189,327.34 183.06,304.56 175.76,284.74 \" fill=\"none\" id=\"E7-&gt;E3\" style=\"stroke: #383838; stroke-width: 1.0;\"/><polygon fill=\"#FFFFFF\" points=\"168.18,266.05,181.8034,281.0301,168.8283,286.2881,168.18,266.05\" style=\"stroke: #383838; stroke-width: 1.0;\"/><ellipse cx=\"182.0906\" cy=\"287.0639\" fill=\"#383838\" rx=\"2\" ry=\"2\" style=\"stroke: #383838; stroke-width: 1.0;\"/><ellipse cx=\"172.8227\" cy=\"290.8196\" fill=\"#383838\" rx=\"2\" ry=\"2\" style=\"stroke: #383838; stroke-width: 1.0;\"/></a><!--MD5=[3f50a3473f1dfb74d3f76443e03635af]\n",
       "reverse link E6 to E7--><a href=\"psysml:7f7b610c-5cf3-4f1d-92e7-984e3817e328\" target=\"_top\" title=\"psysml:7f7b610c-5cf3-4f1d-92e7-984e3817e328\" xlink:actuate=\"onRequest\" xlink:href=\"psysml:7f7b610c-5cf3-4f1d-92e7-984e3817e328\" xlink:show=\"new\" xlink:title=\"psysml:7f7b610c-5cf3-4f1d-92e7-984e3817e328\" xlink:type=\"simple\"><path d=\"M127.34,616.05 C131.08,631.76 135.39,649.82 138.68,663.66 \" fill=\"none\" id=\"E6&lt;-E7\" style=\"stroke: #383838; stroke-width: 1.0;\"/><polygon fill=\"#383838\" points=\"124.24,603.01,121.7406,609.7741,127.023,614.6828,129.5224,607.9187,124.24,603.01\" style=\"stroke: #383838; stroke-width: 1.0;\"/></a><!--MD5=[dfaffb906826c3e5aca635516100ff21]\n",
       "link E5 to E8--><a href=\"psysml:8f4ff897-72ba-4249-b35c-9a7192bde9f3\" target=\"_top\" title=\"psysml:8f4ff897-72ba-4249-b35c-9a7192bde9f3\" xlink:actuate=\"onRequest\" xlink:href=\"psysml:8f4ff897-72ba-4249-b35c-9a7192bde9f3\" xlink:show=\"new\" xlink:title=\"psysml:8f4ff897-72ba-4249-b35c-9a7192bde9f3\" xlink:type=\"simple\"><path d=\"M66.84,373.01 C74.79,385.67 85.02,401.94 94.31,416.72 \" fill=\"none\" id=\"E5-&gt;E8\" style=\"stroke: #383838; stroke-width: 1.0;\"/><polygon fill=\"#FFFFFF\" points=\"104.96,433.66,88.9212,421.3005,100.7735,413.8491,104.96,433.66\" style=\"stroke: #383838; stroke-width: 1.0;\"/><ellipse cx=\"87.5806\" cy=\"415.4104\" fill=\"#383838\" rx=\"2\" ry=\"2\" style=\"stroke: #383838; stroke-width: 1.0;\"/><ellipse cx=\"96.0465\" cy=\"410.088\" fill=\"#383838\" rx=\"2\" ry=\"2\" style=\"stroke: #383838; stroke-width: 1.0;\"/></a><!--MD5=[03c8294790d3c57651a1993cecff665f]\n",
       "reverse link E8 to E3--><a href=\"psysml:44d9af1e-71a6-403b-81da-6292c3b1f2cb\" target=\"_top\" title=\"psysml:44d9af1e-71a6-403b-81da-6292c3b1f2cb\" xlink:actuate=\"onRequest\" xlink:href=\"psysml:44d9af1e-71a6-403b-81da-6292c3b1f2cb\" xlink:show=\"new\" xlink:title=\"psysml:44d9af1e-71a6-403b-81da-6292c3b1f2cb\" xlink:type=\"simple\"><path d=\"M123.65,420.81 C129.2,378.86 138.42,309.06 144.08,266.23 \" fill=\"none\" id=\"E8&lt;-E3\" style=\"stroke: #383838; stroke-width: 1.0;\"/><polygon fill=\"#FFFFFF\" points=\"121.92,433.89,126.6755,428.4692,123.5008,421.9946,118.7453,427.4154,121.92,433.89\" style=\"stroke: #383838; stroke-width: 1.0;\"/><text fill=\"#000000\" font-family=\"sans-serif\" font-size=\"13\" lengthAdjust=\"spacingAndGlyphs\" textLength=\"7\" x=\"136\" y=\"354.5669\">y</text></a><!--MD5=[0d75d2178373a6a4568e5dc728f58aef]\n",
       "reverse link E8 to E6--><a href=\"psysml:44d9af1e-71a6-403b-81da-6292c3b1f2cb\" target=\"_top\" title=\"psysml:44d9af1e-71a6-403b-81da-6292c3b1f2cb\" xlink:actuate=\"onRequest\" xlink:href=\"psysml:44d9af1e-71a6-403b-81da-6292c3b1f2cb\" xlink:show=\"new\" xlink:title=\"psysml:44d9af1e-71a6-403b-81da-6292c3b1f2cb\" xlink:type=\"simple\"><path d=\"M119,493.22 C119,513.81 119,539.16 119,556.95 \" fill=\"none\" id=\"E8&lt;-E6\" style=\"stroke: #383838; stroke-width: 1.0;\"/><polygon fill=\"#FFFFFF\" points=\"119,480.19,115,486.19,119,492.19,123,486.19,119,480.19\" style=\"stroke: #383838; stroke-width: 1.0;\"/><text fill=\"#000000\" font-family=\"sans-serif\" font-size=\"13\" lengthAdjust=\"spacingAndGlyphs\" textLength=\"7\" x=\"120\" y=\"523.0669\">y</text></a><!--MD5=[60342c889b0f33c04119c1d20c73c73b]\n",
       "@startuml\r\n",
       "skinparam monochrome true\r\n",
       "skinparam classbackgroundcolor white\r\n",
       "skinparam shadowing false\r\n",
       "skinparam wrapWidth 300\r\n",
       "hide circle\r\n",
       "\r\n",
       "package \"ItemTest\" as E1  [[psysml:75fb623a-e350-4a47-9f82-c4d20b2b5b80 ]]  {\r\n",
       "comp usage \"f: A\" as E2  <<(T,blue)item>> [[psysml:d8a17efa-9aba-4cd7-b18a-68f8ed4c599b ]] {\r\n",
       "}\r\n",
       "comp def \"A\" as E3  <<(T,blue)item def>> [[psysml:30552314-ef8a-4f2d-b223-fa6e862cb5b8 ]] {\r\n",
       "- - items - -\r\n",
       "b: B\r\n",
       "}\r\n",
       "comp usage \"c: C\" as E5  <<(T,blue)part>> [[psysml:cb0fe327-dda6-4eae-9e46-1ce946f22982 ]] {\r\n",
       "}\r\n",
       "comp def \"B\" as E6  <<(T,blue)item def>> [[psysml:0c776550-23a6-42b8-908b-320a74e2d4ee ]] {\r\n",
       "}\r\n",
       "comp usage \"a: A\" as E7  <<(T,blue)part>> [[psysml:7f7b610c-5cf3-4f1d-92e7-984e3817e328 ]] {\r\n",
       "}\r\n",
       "comp def \"C\" as E8  <<(T,blue)part def>> [[psysml:3f3cfa4e-9100-4bf2-8dae-183ab53e5ac5 ]] {\r\n",
       "}\r\n",
       "comp def \"P\" as E9  <<(T,blue)port def>> [[psysml:b18b87fb-d7bd-4905-b0cb-818d68f57f75 ]] {\r\n",
       "- - items - -\r\n",
       "a1: A\r\n",
       "a2: A\r\n",
       "}\r\n",
       "E2 - -:|> E3 [[psysml:cbc83e8e-35d8-4884-92a4-03d9c321669a ]] \r\n",
       "E3 o- - E5 [[psysml:cb0fe327-dda6-4eae-9e46-1ce946f22982 ]] \r\n",
       "E7 - -:|> E3 [[psysml:b2ac9add-d533-4cc3-a1ec-28b279e4ff39 ]] \r\n",
       "E6 *- - E7 [[psysml:7f7b610c-5cf3-4f1d-92e7-984e3817e328 ]] \r\n",
       "E5 - -:|> E8 [[psysml:8f4ff897-72ba-4249-b35c-9a7192bde9f3 ]] \r\n",
       "E8 o- - E3 [[psysml:44d9af1e-71a6-403b-81da-6292c3b1f2cb ]] : y\r\n",
       "E8 o- - E6 [[psysml:44d9af1e-71a6-403b-81da-6292c3b1f2cb ]] : y\r\n",
       "}\r\n",
       "@enduml\r\n",
       "\n",
       "PlantUML version 1.2020.13(Sat Jun 13 12:26:38 UTC 2020)\n",
       "(EPL source distribution)\n",
       "Java Runtime: OpenJDK Runtime Environment\n",
       "JVM: OpenJDK 64-Bit Server VM\n",
       "Default Encoding: UTF-8\n",
       "Language: en\n",
       "Country: null\n",
       "--></g></svg>"
      ]
     },
     "execution_count": 42,
     "metadata": {},
     "output_type": "execute_result"
    }
   ],
   "source": [
    "%viz --style=\"DEFAULT\" --view=\"Sequence\" \"ItemTest\""
   ]
  },
  {
   "cell_type": "code",
   "execution_count": 43,
   "id": "eastern-development",
   "metadata": {
    "execution": {
     "iopub.execute_input": "2021-03-26T12:12:08.140252Z",
     "iopub.status.busy": "2021-03-26T12:12:08.139817Z",
     "iopub.status.idle": "2021-03-26T12:12:08.193127Z",
     "shell.execute_reply": "2021-03-26T12:12:08.191435Z"
    }
   },
   "outputs": [
    {
     "data": {
      "image/svg+xml": [
       "<?xml version=\"1.0\" encoding=\"UTF-8\" standalone=\"no\"?><svg xmlns=\"http://www.w3.org/2000/svg\" xmlns:xlink=\"http://www.w3.org/1999/xlink\" contentScriptType=\"application/ecmascript\" contentStyleType=\"text/css\" height=\"738px\" preserveAspectRatio=\"none\" style=\"width:228px;height:738px;\" version=\"1.1\" viewBox=\"0 0 228 738\" width=\"228px\" zoomAndPan=\"magnify\"><defs/><g><!--MD5=[fbc87193dbaf4d95561dea2c320d4a47]\n",
       "cluster E1--><a href=\"psysml:75fb623a-e350-4a47-9f82-c4d20b2b5b80\" target=\"_top\" title=\"psysml:75fb623a-e350-4a47-9f82-c4d20b2b5b80\" xlink:actuate=\"onRequest\" xlink:href=\"psysml:75fb623a-e350-4a47-9f82-c4d20b2b5b80\" xlink:show=\"new\" xlink:title=\"psysml:75fb623a-e350-4a47-9f82-c4d20b2b5b80\" xlink:type=\"simple\"><polygon fill=\"#FFFFFF\" points=\"16,6,91,6,98,28.2969,206,28.2969,206,726,16,726,16,6\" style=\"stroke: #000000; stroke-width: 1.5;\"/><line style=\"stroke: #000000; stroke-width: 1.5;\" x1=\"16\" x2=\"98\" y1=\"28.2969\" y2=\"28.2969\"/><text fill=\"#000000\" font-family=\"sans-serif\" font-size=\"14\" font-weight=\"bold\" lengthAdjust=\"spacingAndGlyphs\" textLength=\"69\" x=\"20\" y=\"20.9951\">ItemTest</text></a><!--MD5=[b4997ac47864f28c2f74865a473b2911]\n",
       "class E2--><a href=\"psysml:d8a17efa-9aba-4cd7-b18a-68f8ed4c599b\" target=\"_top\" title=\"psysml:d8a17efa-9aba-4cd7-b18a-68f8ed4c599b\" xlink:actuate=\"onRequest\" xlink:href=\"psysml:d8a17efa-9aba-4cd7-b18a-68f8ed4c599b\" xlink:show=\"new\" xlink:title=\"psysml:d8a17efa-9aba-4cd7-b18a-68f8ed4c599b\" xlink:type=\"simple\"><rect fill=\"#FFFFFF\" height=\"45.9375\" id=\"E2\" rx=\"10\" ry=\"10\" style=\"stroke: #383838; stroke-width: 1.5;\" width=\"43\" x=\"133.5\" y=\"62\"/><text fill=\"#000000\" font-family=\"sans-serif\" font-size=\"12\" font-style=\"italic\" lengthAdjust=\"spacingAndGlyphs\" textLength=\"41\" x=\"134.5\" y=\"78.1387\">«item»</text><text fill=\"#000000\" font-family=\"sans-serif\" font-size=\"12\" lengthAdjust=\"spacingAndGlyphs\" textLength=\"20\" x=\"145\" y=\"92.1074\">f: A</text><line style=\"stroke: #383838; stroke-width: 1.5;\" x1=\"134.5\" x2=\"175.5\" y1=\"99.9375\" y2=\"99.9375\"/></a><!--MD5=[09b614a08d8cba4a07c9adeb5e0fee81]\n",
       "class E3--><a href=\"psysml:30552314-ef8a-4f2d-b223-fa6e862cb5b8\" target=\"_top\" title=\"psysml:30552314-ef8a-4f2d-b223-fa6e862cb5b8\" xlink:actuate=\"onRequest\" xlink:href=\"psysml:30552314-ef8a-4f2d-b223-fa6e862cb5b8\" xlink:show=\"new\" xlink:title=\"psysml:30552314-ef8a-4f2d-b223-fa6e862cb5b8\" xlink:type=\"simple\"><rect fill=\"#FFFFFF\" height=\"75.5469\" id=\"E3\" style=\"stroke: #383838; stroke-width: 1.5;\" width=\"67\" x=\"115.5\" y=\"190\"/><text fill=\"#000000\" font-family=\"sans-serif\" font-size=\"12\" font-style=\"italic\" lengthAdjust=\"spacingAndGlyphs\" textLength=\"65\" x=\"116.5\" y=\"206.1387\">«item def»</text><text fill=\"#000000\" font-family=\"sans-serif\" font-size=\"12\" lengthAdjust=\"spacingAndGlyphs\" textLength=\"8\" x=\"145\" y=\"220.1074\">A</text><line style=\"stroke: #383838; stroke-width: 1.5;\" x1=\"116.5\" x2=\"181.5\" y1=\"227.9375\" y2=\"227.9375\"/><text fill=\"#000000\" font-family=\"sans-serif\" font-size=\"11\" lengthAdjust=\"spacingAndGlyphs\" textLength=\"23\" x=\"121.5\" y=\"258.9526\">b: B</text><line style=\"stroke: #383838; stroke-width: 1.0;\" x1=\"116.5\" x2=\"133\" y1=\"242.3398\" y2=\"242.3398\"/><text fill=\"#000000\" font-family=\"sans-serif\" font-size=\"11\" lengthAdjust=\"spacingAndGlyphs\" textLength=\"32\" x=\"133\" y=\"245.6479\">items</text><line style=\"stroke: #383838; stroke-width: 1.0;\" x1=\"165\" x2=\"181.5\" y1=\"242.3398\" y2=\"242.3398\"/></a><!--MD5=[270fce915f116d4de14055a7c1d9a0f3]\n",
       "class E5--><a href=\"psysml:cb0fe327-dda6-4eae-9e46-1ce946f22982\" target=\"_top\" title=\"psysml:cb0fe327-dda6-4eae-9e46-1ce946f22982\" xlink:actuate=\"onRequest\" xlink:href=\"psysml:cb0fe327-dda6-4eae-9e46-1ce946f22982\" xlink:show=\"new\" xlink:title=\"psysml:cb0fe327-dda6-4eae-9e46-1ce946f22982\" xlink:type=\"simple\"><rect fill=\"#FFFFFF\" height=\"45.9375\" id=\"E5\" rx=\"10\" ry=\"10\" style=\"stroke: #383838; stroke-width: 1.5;\" width=\"42\" x=\"32\" y=\"327\"/><text fill=\"#000000\" font-family=\"sans-serif\" font-size=\"12\" font-style=\"italic\" lengthAdjust=\"spacingAndGlyphs\" textLength=\"40\" x=\"33\" y=\"343.1387\">«part»</text><text fill=\"#000000\" font-family=\"sans-serif\" font-size=\"12\" lengthAdjust=\"spacingAndGlyphs\" textLength=\"23\" x=\"41.5\" y=\"357.1074\">c: C</text><line style=\"stroke: #383838; stroke-width: 1.5;\" x1=\"33\" x2=\"73\" y1=\"364.9375\" y2=\"364.9375\"/></a><!--MD5=[60a26617385b1d2d0262a64233df1f8d]\n",
       "class E6--><a href=\"psysml:0c776550-23a6-42b8-908b-320a74e2d4ee\" target=\"_top\" title=\"psysml:0c776550-23a6-42b8-908b-320a74e2d4ee\" xlink:actuate=\"onRequest\" xlink:href=\"psysml:0c776550-23a6-42b8-908b-320a74e2d4ee\" xlink:show=\"new\" xlink:title=\"psysml:0c776550-23a6-42b8-908b-320a74e2d4ee\" xlink:type=\"simple\"><rect fill=\"#FFFFFF\" height=\"45.9375\" id=\"E6\" style=\"stroke: #383838; stroke-width: 1.5;\" width=\"67\" x=\"85.5\" y=\"557\"/><text fill=\"#000000\" font-family=\"sans-serif\" font-size=\"12\" font-style=\"italic\" lengthAdjust=\"spacingAndGlyphs\" textLength=\"65\" x=\"86.5\" y=\"573.1387\">«item def»</text><text fill=\"#000000\" font-family=\"sans-serif\" font-size=\"12\" lengthAdjust=\"spacingAndGlyphs\" textLength=\"8\" x=\"115\" y=\"587.1074\">B</text><line style=\"stroke: #383838; stroke-width: 1.5;\" x1=\"86.5\" x2=\"151.5\" y1=\"594.9375\" y2=\"594.9375\"/></a><!--MD5=[2156ba9850f5573cc1fc38a6a4b2f02b]\n",
       "class E7--><a href=\"psysml:7f7b610c-5cf3-4f1d-92e7-984e3817e328\" target=\"_top\" title=\"psysml:7f7b610c-5cf3-4f1d-92e7-984e3817e328\" xlink:actuate=\"onRequest\" xlink:href=\"psysml:7f7b610c-5cf3-4f1d-92e7-984e3817e328\" xlink:show=\"new\" xlink:title=\"psysml:7f7b610c-5cf3-4f1d-92e7-984e3817e328\" xlink:type=\"simple\"><rect fill=\"#FFFFFF\" height=\"45.9375\" id=\"E7\" rx=\"10\" ry=\"10\" style=\"stroke: #383838; stroke-width: 1.5;\" width=\"42\" x=\"123\" y=\"664\"/><text fill=\"#000000\" font-family=\"sans-serif\" font-size=\"12\" font-style=\"italic\" lengthAdjust=\"spacingAndGlyphs\" textLength=\"40\" x=\"124\" y=\"680.1387\">«part»</text><text fill=\"#000000\" font-family=\"sans-serif\" font-size=\"12\" lengthAdjust=\"spacingAndGlyphs\" textLength=\"24\" x=\"132\" y=\"694.1074\">a: A</text><line style=\"stroke: #383838; stroke-width: 1.5;\" x1=\"124\" x2=\"164\" y1=\"701.9375\" y2=\"701.9375\"/></a><!--MD5=[b9389687b975829384b498ac4b7476b2]\n",
       "class E8--><a href=\"psysml:3f3cfa4e-9100-4bf2-8dae-183ab53e5ac5\" target=\"_top\" title=\"psysml:3f3cfa4e-9100-4bf2-8dae-183ab53e5ac5\" xlink:actuate=\"onRequest\" xlink:href=\"psysml:3f3cfa4e-9100-4bf2-8dae-183ab53e5ac5\" xlink:show=\"new\" xlink:title=\"psysml:3f3cfa4e-9100-4bf2-8dae-183ab53e5ac5\" xlink:type=\"simple\"><rect fill=\"#FFFFFF\" height=\"45.9375\" id=\"E8\" style=\"stroke: #383838; stroke-width: 1.5;\" width=\"66\" x=\"86\" y=\"434\"/><text fill=\"#000000\" font-family=\"sans-serif\" font-size=\"12\" font-style=\"italic\" lengthAdjust=\"spacingAndGlyphs\" textLength=\"64\" x=\"87\" y=\"450.1387\">«part def»</text><text fill=\"#000000\" font-family=\"sans-serif\" font-size=\"12\" lengthAdjust=\"spacingAndGlyphs\" textLength=\"8\" x=\"115\" y=\"464.1074\">C</text><line style=\"stroke: #383838; stroke-width: 1.5;\" x1=\"87\" x2=\"151\" y1=\"471.9375\" y2=\"471.9375\"/></a><!--MD5=[fd4143e9d270a159db93a4ea2a975926]\n",
       "class E9--><a href=\"psysml:b18b87fb-d7bd-4905-b0cb-818d68f57f75\" target=\"_top\" title=\"psysml:b18b87fb-d7bd-4905-b0cb-818d68f57f75\" xlink:actuate=\"onRequest\" xlink:href=\"psysml:b18b87fb-d7bd-4905-b0cb-818d68f57f75\" xlink:show=\"new\" xlink:title=\"psysml:b18b87fb-d7bd-4905-b0cb-818d68f57f75\" xlink:type=\"simple\"><rect fill=\"#FFFFFF\" height=\"88.3516\" id=\"E9\" style=\"stroke: #383838; stroke-width: 1.5;\" width=\"66\" x=\"32\" y=\"41\"/><text fill=\"#000000\" font-family=\"sans-serif\" font-size=\"12\" font-style=\"italic\" lengthAdjust=\"spacingAndGlyphs\" textLength=\"64\" x=\"33\" y=\"57.1387\">«port def»</text><text fill=\"#000000\" font-family=\"sans-serif\" font-size=\"12\" lengthAdjust=\"spacingAndGlyphs\" textLength=\"8\" x=\"61\" y=\"71.1074\">P</text><line style=\"stroke: #383838; stroke-width: 1.5;\" x1=\"33\" x2=\"97\" y1=\"78.9375\" y2=\"78.9375\"/><text fill=\"#000000\" font-family=\"sans-serif\" font-size=\"11\" lengthAdjust=\"spacingAndGlyphs\" textLength=\"29\" x=\"38\" y=\"109.9526\">a1: A</text><text fill=\"#000000\" font-family=\"sans-serif\" font-size=\"11\" lengthAdjust=\"spacingAndGlyphs\" textLength=\"29\" x=\"38\" y=\"122.7573\">a2: A</text><line style=\"stroke: #383838; stroke-width: 1.0;\" x1=\"33\" x2=\"49\" y1=\"93.3398\" y2=\"93.3398\"/><text fill=\"#000000\" font-family=\"sans-serif\" font-size=\"11\" lengthAdjust=\"spacingAndGlyphs\" textLength=\"32\" x=\"49\" y=\"96.6479\">items</text><line style=\"stroke: #383838; stroke-width: 1.0;\" x1=\"81\" x2=\"97\" y1=\"93.3398\" y2=\"93.3398\"/></a><!--MD5=[2720a5a1f2c3fca2055b230370638851]\n",
       "link E2 to E3--><a href=\"psysml:cbc83e8e-35d8-4884-92a4-03d9c321669a\" target=\"_top\" title=\"psysml:cbc83e8e-35d8-4884-92a4-03d9c321669a\" xlink:actuate=\"onRequest\" xlink:href=\"psysml:cbc83e8e-35d8-4884-92a4-03d9c321669a\" xlink:show=\"new\" xlink:title=\"psysml:cbc83e8e-35d8-4884-92a4-03d9c321669a\" xlink:type=\"simple\"><path d=\"M154.06,108.03 C153.36,124.58 152.36,148.04 151.44,169.76 \" fill=\"none\" id=\"E2-&gt;E3\" style=\"stroke: #383838; stroke-width: 1.0;\"/><polygon fill=\"#FFFFFF\" points=\"150.58,189.77,144.4005,170.4875,158.3877,171.0874,150.58,189.77\" style=\"stroke: #383838; stroke-width: 1.0;\"/><ellipse cx=\"146.6429\" cy=\"164.8784\" fill=\"#383838\" rx=\"2\" ry=\"2\" style=\"stroke: #383838; stroke-width: 1.0;\"/><ellipse cx=\"156.6338\" cy=\"165.3069\" fill=\"#383838\" rx=\"2\" ry=\"2\" style=\"stroke: #383838; stroke-width: 1.0;\"/></a><!--MD5=[191cde3d490a3f6d7bb551fe3ddca469]\n",
       "reverse link E3 to E5--><a href=\"psysml:cb0fe327-dda6-4eae-9e46-1ce946f22982\" target=\"_top\" title=\"psysml:cb0fe327-dda6-4eae-9e46-1ce946f22982\" xlink:actuate=\"onRequest\" xlink:href=\"psysml:cb0fe327-dda6-4eae-9e46-1ce946f22982\" xlink:show=\"new\" xlink:title=\"psysml:cb0fe327-dda6-4eae-9e46-1ce946f22982\" xlink:type=\"simple\"><path d=\"M110.75,276.82 C96.95,294.07 82.02,312.72 70.8,326.75 \" fill=\"none\" id=\"E3&lt;-E5\" style=\"stroke: #383838; stroke-width: 1.0;\"/><polygon fill=\"#FFFFFF\" points=\"119.15,266.31,112.2784,268.4964,111.6537,275.6804,118.5253,273.494,119.15,266.31\" style=\"stroke: #383838; stroke-width: 1.0;\"/></a><!--MD5=[14ccda38c055a5c0da953d572bc50960]\n",
       "link E7 to E3--><a href=\"psysml:b2ac9add-d533-4cc3-a1ec-28b279e4ff39\" target=\"_top\" title=\"psysml:b2ac9add-d533-4cc3-a1ec-28b279e4ff39\" xlink:actuate=\"onRequest\" xlink:href=\"psysml:b2ac9add-d533-4cc3-a1ec-28b279e4ff39\" xlink:show=\"new\" xlink:title=\"psysml:b2ac9add-d533-4cc3-a1ec-28b279e4ff39\" xlink:type=\"simple\"><path d=\"M159.74,663.82 C172.72,643.34 189,611.54 189,581 C189,349 189,349 189,349 C189,327.34 183.06,304.56 175.76,284.74 \" fill=\"none\" id=\"E7-&gt;E3\" style=\"stroke: #383838; stroke-width: 1.0;\"/><polygon fill=\"#FFFFFF\" points=\"168.18,266.05,181.8034,281.0301,168.8283,286.2881,168.18,266.05\" style=\"stroke: #383838; stroke-width: 1.0;\"/><ellipse cx=\"182.0906\" cy=\"287.0639\" fill=\"#383838\" rx=\"2\" ry=\"2\" style=\"stroke: #383838; stroke-width: 1.0;\"/><ellipse cx=\"172.8227\" cy=\"290.8196\" fill=\"#383838\" rx=\"2\" ry=\"2\" style=\"stroke: #383838; stroke-width: 1.0;\"/></a><!--MD5=[3f50a3473f1dfb74d3f76443e03635af]\n",
       "reverse link E6 to E7--><a href=\"psysml:7f7b610c-5cf3-4f1d-92e7-984e3817e328\" target=\"_top\" title=\"psysml:7f7b610c-5cf3-4f1d-92e7-984e3817e328\" xlink:actuate=\"onRequest\" xlink:href=\"psysml:7f7b610c-5cf3-4f1d-92e7-984e3817e328\" xlink:show=\"new\" xlink:title=\"psysml:7f7b610c-5cf3-4f1d-92e7-984e3817e328\" xlink:type=\"simple\"><path d=\"M127.34,616.05 C131.08,631.76 135.39,649.82 138.68,663.66 \" fill=\"none\" id=\"E6&lt;-E7\" style=\"stroke: #383838; stroke-width: 1.0;\"/><polygon fill=\"#383838\" points=\"124.24,603.01,121.7406,609.7741,127.023,614.6828,129.5224,607.9187,124.24,603.01\" style=\"stroke: #383838; stroke-width: 1.0;\"/></a><!--MD5=[dfaffb906826c3e5aca635516100ff21]\n",
       "link E5 to E8--><a href=\"psysml:8f4ff897-72ba-4249-b35c-9a7192bde9f3\" target=\"_top\" title=\"psysml:8f4ff897-72ba-4249-b35c-9a7192bde9f3\" xlink:actuate=\"onRequest\" xlink:href=\"psysml:8f4ff897-72ba-4249-b35c-9a7192bde9f3\" xlink:show=\"new\" xlink:title=\"psysml:8f4ff897-72ba-4249-b35c-9a7192bde9f3\" xlink:type=\"simple\"><path d=\"M66.84,373.01 C74.79,385.67 85.02,401.94 94.31,416.72 \" fill=\"none\" id=\"E5-&gt;E8\" style=\"stroke: #383838; stroke-width: 1.0;\"/><polygon fill=\"#FFFFFF\" points=\"104.96,433.66,88.9212,421.3005,100.7735,413.8491,104.96,433.66\" style=\"stroke: #383838; stroke-width: 1.0;\"/><ellipse cx=\"87.5806\" cy=\"415.4104\" fill=\"#383838\" rx=\"2\" ry=\"2\" style=\"stroke: #383838; stroke-width: 1.0;\"/><ellipse cx=\"96.0465\" cy=\"410.088\" fill=\"#383838\" rx=\"2\" ry=\"2\" style=\"stroke: #383838; stroke-width: 1.0;\"/></a><!--MD5=[03c8294790d3c57651a1993cecff665f]\n",
       "reverse link E8 to E3--><a href=\"psysml:44d9af1e-71a6-403b-81da-6292c3b1f2cb\" target=\"_top\" title=\"psysml:44d9af1e-71a6-403b-81da-6292c3b1f2cb\" xlink:actuate=\"onRequest\" xlink:href=\"psysml:44d9af1e-71a6-403b-81da-6292c3b1f2cb\" xlink:show=\"new\" xlink:title=\"psysml:44d9af1e-71a6-403b-81da-6292c3b1f2cb\" xlink:type=\"simple\"><path d=\"M123.65,420.81 C129.2,378.86 138.42,309.06 144.08,266.23 \" fill=\"none\" id=\"E8&lt;-E3\" style=\"stroke: #383838; stroke-width: 1.0;\"/><polygon fill=\"#FFFFFF\" points=\"121.92,433.89,126.6755,428.4692,123.5008,421.9946,118.7453,427.4154,121.92,433.89\" style=\"stroke: #383838; stroke-width: 1.0;\"/><text fill=\"#000000\" font-family=\"sans-serif\" font-size=\"13\" lengthAdjust=\"spacingAndGlyphs\" textLength=\"7\" x=\"136\" y=\"354.5669\">y</text></a><!--MD5=[0d75d2178373a6a4568e5dc728f58aef]\n",
       "reverse link E8 to E6--><a href=\"psysml:44d9af1e-71a6-403b-81da-6292c3b1f2cb\" target=\"_top\" title=\"psysml:44d9af1e-71a6-403b-81da-6292c3b1f2cb\" xlink:actuate=\"onRequest\" xlink:href=\"psysml:44d9af1e-71a6-403b-81da-6292c3b1f2cb\" xlink:show=\"new\" xlink:title=\"psysml:44d9af1e-71a6-403b-81da-6292c3b1f2cb\" xlink:type=\"simple\"><path d=\"M119,493.22 C119,513.81 119,539.16 119,556.95 \" fill=\"none\" id=\"E8&lt;-E6\" style=\"stroke: #383838; stroke-width: 1.0;\"/><polygon fill=\"#FFFFFF\" points=\"119,480.19,115,486.19,119,492.19,123,486.19,119,480.19\" style=\"stroke: #383838; stroke-width: 1.0;\"/><text fill=\"#000000\" font-family=\"sans-serif\" font-size=\"13\" lengthAdjust=\"spacingAndGlyphs\" textLength=\"7\" x=\"120\" y=\"523.0669\">y</text></a><!--MD5=[60342c889b0f33c04119c1d20c73c73b]\n",
       "@startuml\r\n",
       "skinparam monochrome true\r\n",
       "skinparam classbackgroundcolor white\r\n",
       "skinparam shadowing false\r\n",
       "skinparam wrapWidth 300\r\n",
       "hide circle\r\n",
       "\r\n",
       "package \"ItemTest\" as E1  [[psysml:75fb623a-e350-4a47-9f82-c4d20b2b5b80 ]]  {\r\n",
       "comp usage \"f: A\" as E2  <<(T,blue)item>> [[psysml:d8a17efa-9aba-4cd7-b18a-68f8ed4c599b ]] {\r\n",
       "}\r\n",
       "comp def \"A\" as E3  <<(T,blue)item def>> [[psysml:30552314-ef8a-4f2d-b223-fa6e862cb5b8 ]] {\r\n",
       "- - items - -\r\n",
       "b: B\r\n",
       "}\r\n",
       "comp usage \"c: C\" as E5  <<(T,blue)part>> [[psysml:cb0fe327-dda6-4eae-9e46-1ce946f22982 ]] {\r\n",
       "}\r\n",
       "comp def \"B\" as E6  <<(T,blue)item def>> [[psysml:0c776550-23a6-42b8-908b-320a74e2d4ee ]] {\r\n",
       "}\r\n",
       "comp usage \"a: A\" as E7  <<(T,blue)part>> [[psysml:7f7b610c-5cf3-4f1d-92e7-984e3817e328 ]] {\r\n",
       "}\r\n",
       "comp def \"C\" as E8  <<(T,blue)part def>> [[psysml:3f3cfa4e-9100-4bf2-8dae-183ab53e5ac5 ]] {\r\n",
       "}\r\n",
       "comp def \"P\" as E9  <<(T,blue)port def>> [[psysml:b18b87fb-d7bd-4905-b0cb-818d68f57f75 ]] {\r\n",
       "- - items - -\r\n",
       "a1: A\r\n",
       "a2: A\r\n",
       "}\r\n",
       "E2 - -:|> E3 [[psysml:cbc83e8e-35d8-4884-92a4-03d9c321669a ]] \r\n",
       "E3 o- - E5 [[psysml:cb0fe327-dda6-4eae-9e46-1ce946f22982 ]] \r\n",
       "E7 - -:|> E3 [[psysml:b2ac9add-d533-4cc3-a1ec-28b279e4ff39 ]] \r\n",
       "E6 *- - E7 [[psysml:7f7b610c-5cf3-4f1d-92e7-984e3817e328 ]] \r\n",
       "E5 - -:|> E8 [[psysml:8f4ff897-72ba-4249-b35c-9a7192bde9f3 ]] \r\n",
       "E8 o- - E3 [[psysml:44d9af1e-71a6-403b-81da-6292c3b1f2cb ]] : y\r\n",
       "E8 o- - E6 [[psysml:44d9af1e-71a6-403b-81da-6292c3b1f2cb ]] : y\r\n",
       "}\r\n",
       "@enduml\r\n",
       "\n",
       "PlantUML version 1.2020.13(Sat Jun 13 12:26:38 UTC 2020)\n",
       "(EPL source distribution)\n",
       "Java Runtime: OpenJDK Runtime Environment\n",
       "JVM: OpenJDK 64-Bit Server VM\n",
       "Default Encoding: UTF-8\n",
       "Language: en\n",
       "Country: null\n",
       "--></g></svg>"
      ]
     },
     "execution_count": 43,
     "metadata": {},
     "output_type": "execute_result"
    }
   ],
   "source": [
    "%viz --style=\"DEFAULT\" --view=\"MIXED\" \"ItemTest\""
   ]
  },
  {
   "cell_type": "code",
   "execution_count": 44,
   "id": "removable-veteran",
   "metadata": {
    "execution": {
     "iopub.execute_input": "2021-03-26T12:12:08.244569Z",
     "iopub.status.busy": "2021-03-26T12:12:08.243827Z",
     "iopub.status.idle": "2021-03-26T12:12:08.299520Z",
     "shell.execute_reply": "2021-03-26T12:12:08.298165Z"
    }
   },
   "outputs": [
    {
     "data": {
      "image/svg+xml": [
       "<?xml version=\"1.0\" encoding=\"UTF-8\" standalone=\"no\"?><svg xmlns=\"http://www.w3.org/2000/svg\" xmlns:xlink=\"http://www.w3.org/1999/xlink\" contentScriptType=\"application/ecmascript\" contentStyleType=\"text/css\" height=\"738px\" preserveAspectRatio=\"none\" style=\"width:228px;height:738px;\" version=\"1.1\" viewBox=\"0 0 228 738\" width=\"228px\" zoomAndPan=\"magnify\"><defs/><g><!--MD5=[fbc87193dbaf4d95561dea2c320d4a47]\n",
       "cluster E1--><a href=\"psysml:75fb623a-e350-4a47-9f82-c4d20b2b5b80\" target=\"_top\" title=\"psysml:75fb623a-e350-4a47-9f82-c4d20b2b5b80\" xlink:actuate=\"onRequest\" xlink:href=\"psysml:75fb623a-e350-4a47-9f82-c4d20b2b5b80\" xlink:show=\"new\" xlink:title=\"psysml:75fb623a-e350-4a47-9f82-c4d20b2b5b80\" xlink:type=\"simple\"><polygon fill=\"#FFFFFF\" points=\"16,6,91,6,98,28.2969,206,28.2969,206,726,16,726,16,6\" style=\"stroke: #000000; stroke-width: 1.5;\"/><line style=\"stroke: #000000; stroke-width: 1.5;\" x1=\"16\" x2=\"98\" y1=\"28.2969\" y2=\"28.2969\"/><text fill=\"#000000\" font-family=\"sans-serif\" font-size=\"14\" font-weight=\"bold\" lengthAdjust=\"spacingAndGlyphs\" textLength=\"69\" x=\"20\" y=\"20.9951\">ItemTest</text></a><!--MD5=[b4997ac47864f28c2f74865a473b2911]\n",
       "class E2--><a href=\"psysml:d8a17efa-9aba-4cd7-b18a-68f8ed4c599b\" target=\"_top\" title=\"psysml:d8a17efa-9aba-4cd7-b18a-68f8ed4c599b\" xlink:actuate=\"onRequest\" xlink:href=\"psysml:d8a17efa-9aba-4cd7-b18a-68f8ed4c599b\" xlink:show=\"new\" xlink:title=\"psysml:d8a17efa-9aba-4cd7-b18a-68f8ed4c599b\" xlink:type=\"simple\"><rect fill=\"#FFFFFF\" height=\"45.9375\" id=\"E2\" rx=\"10\" ry=\"10\" style=\"stroke: #383838; stroke-width: 1.5;\" width=\"43\" x=\"133.5\" y=\"62\"/><text fill=\"#000000\" font-family=\"sans-serif\" font-size=\"12\" font-style=\"italic\" lengthAdjust=\"spacingAndGlyphs\" textLength=\"41\" x=\"134.5\" y=\"78.1387\">«item»</text><text fill=\"#000000\" font-family=\"sans-serif\" font-size=\"12\" lengthAdjust=\"spacingAndGlyphs\" textLength=\"20\" x=\"145\" y=\"92.1074\">f: A</text><line style=\"stroke: #383838; stroke-width: 1.5;\" x1=\"134.5\" x2=\"175.5\" y1=\"99.9375\" y2=\"99.9375\"/></a><!--MD5=[09b614a08d8cba4a07c9adeb5e0fee81]\n",
       "class E3--><a href=\"psysml:30552314-ef8a-4f2d-b223-fa6e862cb5b8\" target=\"_top\" title=\"psysml:30552314-ef8a-4f2d-b223-fa6e862cb5b8\" xlink:actuate=\"onRequest\" xlink:href=\"psysml:30552314-ef8a-4f2d-b223-fa6e862cb5b8\" xlink:show=\"new\" xlink:title=\"psysml:30552314-ef8a-4f2d-b223-fa6e862cb5b8\" xlink:type=\"simple\"><rect fill=\"#FFFFFF\" height=\"75.5469\" id=\"E3\" style=\"stroke: #383838; stroke-width: 1.5;\" width=\"67\" x=\"115.5\" y=\"190\"/><text fill=\"#000000\" font-family=\"sans-serif\" font-size=\"12\" font-style=\"italic\" lengthAdjust=\"spacingAndGlyphs\" textLength=\"65\" x=\"116.5\" y=\"206.1387\">«item def»</text><text fill=\"#000000\" font-family=\"sans-serif\" font-size=\"12\" lengthAdjust=\"spacingAndGlyphs\" textLength=\"8\" x=\"145\" y=\"220.1074\">A</text><line style=\"stroke: #383838; stroke-width: 1.5;\" x1=\"116.5\" x2=\"181.5\" y1=\"227.9375\" y2=\"227.9375\"/><text fill=\"#000000\" font-family=\"sans-serif\" font-size=\"11\" lengthAdjust=\"spacingAndGlyphs\" textLength=\"23\" x=\"121.5\" y=\"258.9526\">b: B</text><line style=\"stroke: #383838; stroke-width: 1.0;\" x1=\"116.5\" x2=\"133\" y1=\"242.3398\" y2=\"242.3398\"/><text fill=\"#000000\" font-family=\"sans-serif\" font-size=\"11\" lengthAdjust=\"spacingAndGlyphs\" textLength=\"32\" x=\"133\" y=\"245.6479\">items</text><line style=\"stroke: #383838; stroke-width: 1.0;\" x1=\"165\" x2=\"181.5\" y1=\"242.3398\" y2=\"242.3398\"/></a><!--MD5=[270fce915f116d4de14055a7c1d9a0f3]\n",
       "class E5--><a href=\"psysml:cb0fe327-dda6-4eae-9e46-1ce946f22982\" target=\"_top\" title=\"psysml:cb0fe327-dda6-4eae-9e46-1ce946f22982\" xlink:actuate=\"onRequest\" xlink:href=\"psysml:cb0fe327-dda6-4eae-9e46-1ce946f22982\" xlink:show=\"new\" xlink:title=\"psysml:cb0fe327-dda6-4eae-9e46-1ce946f22982\" xlink:type=\"simple\"><rect fill=\"#FFFFFF\" height=\"45.9375\" id=\"E5\" rx=\"10\" ry=\"10\" style=\"stroke: #383838; stroke-width: 1.5;\" width=\"42\" x=\"32\" y=\"327\"/><text fill=\"#000000\" font-family=\"sans-serif\" font-size=\"12\" font-style=\"italic\" lengthAdjust=\"spacingAndGlyphs\" textLength=\"40\" x=\"33\" y=\"343.1387\">«part»</text><text fill=\"#000000\" font-family=\"sans-serif\" font-size=\"12\" lengthAdjust=\"spacingAndGlyphs\" textLength=\"23\" x=\"41.5\" y=\"357.1074\">c: C</text><line style=\"stroke: #383838; stroke-width: 1.5;\" x1=\"33\" x2=\"73\" y1=\"364.9375\" y2=\"364.9375\"/></a><!--MD5=[60a26617385b1d2d0262a64233df1f8d]\n",
       "class E6--><a href=\"psysml:0c776550-23a6-42b8-908b-320a74e2d4ee\" target=\"_top\" title=\"psysml:0c776550-23a6-42b8-908b-320a74e2d4ee\" xlink:actuate=\"onRequest\" xlink:href=\"psysml:0c776550-23a6-42b8-908b-320a74e2d4ee\" xlink:show=\"new\" xlink:title=\"psysml:0c776550-23a6-42b8-908b-320a74e2d4ee\" xlink:type=\"simple\"><rect fill=\"#FFFFFF\" height=\"45.9375\" id=\"E6\" style=\"stroke: #383838; stroke-width: 1.5;\" width=\"67\" x=\"85.5\" y=\"557\"/><text fill=\"#000000\" font-family=\"sans-serif\" font-size=\"12\" font-style=\"italic\" lengthAdjust=\"spacingAndGlyphs\" textLength=\"65\" x=\"86.5\" y=\"573.1387\">«item def»</text><text fill=\"#000000\" font-family=\"sans-serif\" font-size=\"12\" lengthAdjust=\"spacingAndGlyphs\" textLength=\"8\" x=\"115\" y=\"587.1074\">B</text><line style=\"stroke: #383838; stroke-width: 1.5;\" x1=\"86.5\" x2=\"151.5\" y1=\"594.9375\" y2=\"594.9375\"/></a><!--MD5=[2156ba9850f5573cc1fc38a6a4b2f02b]\n",
       "class E7--><a href=\"psysml:7f7b610c-5cf3-4f1d-92e7-984e3817e328\" target=\"_top\" title=\"psysml:7f7b610c-5cf3-4f1d-92e7-984e3817e328\" xlink:actuate=\"onRequest\" xlink:href=\"psysml:7f7b610c-5cf3-4f1d-92e7-984e3817e328\" xlink:show=\"new\" xlink:title=\"psysml:7f7b610c-5cf3-4f1d-92e7-984e3817e328\" xlink:type=\"simple\"><rect fill=\"#FFFFFF\" height=\"45.9375\" id=\"E7\" rx=\"10\" ry=\"10\" style=\"stroke: #383838; stroke-width: 1.5;\" width=\"42\" x=\"123\" y=\"664\"/><text fill=\"#000000\" font-family=\"sans-serif\" font-size=\"12\" font-style=\"italic\" lengthAdjust=\"spacingAndGlyphs\" textLength=\"40\" x=\"124\" y=\"680.1387\">«part»</text><text fill=\"#000000\" font-family=\"sans-serif\" font-size=\"12\" lengthAdjust=\"spacingAndGlyphs\" textLength=\"24\" x=\"132\" y=\"694.1074\">a: A</text><line style=\"stroke: #383838; stroke-width: 1.5;\" x1=\"124\" x2=\"164\" y1=\"701.9375\" y2=\"701.9375\"/></a><!--MD5=[b9389687b975829384b498ac4b7476b2]\n",
       "class E8--><a href=\"psysml:3f3cfa4e-9100-4bf2-8dae-183ab53e5ac5\" target=\"_top\" title=\"psysml:3f3cfa4e-9100-4bf2-8dae-183ab53e5ac5\" xlink:actuate=\"onRequest\" xlink:href=\"psysml:3f3cfa4e-9100-4bf2-8dae-183ab53e5ac5\" xlink:show=\"new\" xlink:title=\"psysml:3f3cfa4e-9100-4bf2-8dae-183ab53e5ac5\" xlink:type=\"simple\"><rect fill=\"#FFFFFF\" height=\"45.9375\" id=\"E8\" style=\"stroke: #383838; stroke-width: 1.5;\" width=\"66\" x=\"86\" y=\"434\"/><text fill=\"#000000\" font-family=\"sans-serif\" font-size=\"12\" font-style=\"italic\" lengthAdjust=\"spacingAndGlyphs\" textLength=\"64\" x=\"87\" y=\"450.1387\">«part def»</text><text fill=\"#000000\" font-family=\"sans-serif\" font-size=\"12\" lengthAdjust=\"spacingAndGlyphs\" textLength=\"8\" x=\"115\" y=\"464.1074\">C</text><line style=\"stroke: #383838; stroke-width: 1.5;\" x1=\"87\" x2=\"151\" y1=\"471.9375\" y2=\"471.9375\"/></a><!--MD5=[fd4143e9d270a159db93a4ea2a975926]\n",
       "class E9--><a href=\"psysml:b18b87fb-d7bd-4905-b0cb-818d68f57f75\" target=\"_top\" title=\"psysml:b18b87fb-d7bd-4905-b0cb-818d68f57f75\" xlink:actuate=\"onRequest\" xlink:href=\"psysml:b18b87fb-d7bd-4905-b0cb-818d68f57f75\" xlink:show=\"new\" xlink:title=\"psysml:b18b87fb-d7bd-4905-b0cb-818d68f57f75\" xlink:type=\"simple\"><rect fill=\"#FFFFFF\" height=\"88.3516\" id=\"E9\" style=\"stroke: #383838; stroke-width: 1.5;\" width=\"66\" x=\"32\" y=\"41\"/><text fill=\"#000000\" font-family=\"sans-serif\" font-size=\"12\" font-style=\"italic\" lengthAdjust=\"spacingAndGlyphs\" textLength=\"64\" x=\"33\" y=\"57.1387\">«port def»</text><text fill=\"#000000\" font-family=\"sans-serif\" font-size=\"12\" lengthAdjust=\"spacingAndGlyphs\" textLength=\"8\" x=\"61\" y=\"71.1074\">P</text><line style=\"stroke: #383838; stroke-width: 1.5;\" x1=\"33\" x2=\"97\" y1=\"78.9375\" y2=\"78.9375\"/><text fill=\"#000000\" font-family=\"sans-serif\" font-size=\"11\" lengthAdjust=\"spacingAndGlyphs\" textLength=\"29\" x=\"38\" y=\"109.9526\">a1: A</text><text fill=\"#000000\" font-family=\"sans-serif\" font-size=\"11\" lengthAdjust=\"spacingAndGlyphs\" textLength=\"29\" x=\"38\" y=\"122.7573\">a2: A</text><line style=\"stroke: #383838; stroke-width: 1.0;\" x1=\"33\" x2=\"49\" y1=\"93.3398\" y2=\"93.3398\"/><text fill=\"#000000\" font-family=\"sans-serif\" font-size=\"11\" lengthAdjust=\"spacingAndGlyphs\" textLength=\"32\" x=\"49\" y=\"96.6479\">items</text><line style=\"stroke: #383838; stroke-width: 1.0;\" x1=\"81\" x2=\"97\" y1=\"93.3398\" y2=\"93.3398\"/></a><!--MD5=[2720a5a1f2c3fca2055b230370638851]\n",
       "link E2 to E3--><a href=\"psysml:cbc83e8e-35d8-4884-92a4-03d9c321669a\" target=\"_top\" title=\"psysml:cbc83e8e-35d8-4884-92a4-03d9c321669a\" xlink:actuate=\"onRequest\" xlink:href=\"psysml:cbc83e8e-35d8-4884-92a4-03d9c321669a\" xlink:show=\"new\" xlink:title=\"psysml:cbc83e8e-35d8-4884-92a4-03d9c321669a\" xlink:type=\"simple\"><path d=\"M154.06,108.03 C153.36,124.58 152.36,148.04 151.44,169.76 \" fill=\"none\" id=\"E2-&gt;E3\" style=\"stroke: #383838; stroke-width: 1.0;\"/><polygon fill=\"#FFFFFF\" points=\"150.58,189.77,144.4005,170.4875,158.3877,171.0874,150.58,189.77\" style=\"stroke: #383838; stroke-width: 1.0;\"/><ellipse cx=\"146.6429\" cy=\"164.8784\" fill=\"#383838\" rx=\"2\" ry=\"2\" style=\"stroke: #383838; stroke-width: 1.0;\"/><ellipse cx=\"156.6338\" cy=\"165.3069\" fill=\"#383838\" rx=\"2\" ry=\"2\" style=\"stroke: #383838; stroke-width: 1.0;\"/></a><!--MD5=[191cde3d490a3f6d7bb551fe3ddca469]\n",
       "reverse link E3 to E5--><a href=\"psysml:cb0fe327-dda6-4eae-9e46-1ce946f22982\" target=\"_top\" title=\"psysml:cb0fe327-dda6-4eae-9e46-1ce946f22982\" xlink:actuate=\"onRequest\" xlink:href=\"psysml:cb0fe327-dda6-4eae-9e46-1ce946f22982\" xlink:show=\"new\" xlink:title=\"psysml:cb0fe327-dda6-4eae-9e46-1ce946f22982\" xlink:type=\"simple\"><path d=\"M110.75,276.82 C96.95,294.07 82.02,312.72 70.8,326.75 \" fill=\"none\" id=\"E3&lt;-E5\" style=\"stroke: #383838; stroke-width: 1.0;\"/><polygon fill=\"#FFFFFF\" points=\"119.15,266.31,112.2784,268.4964,111.6537,275.6804,118.5253,273.494,119.15,266.31\" style=\"stroke: #383838; stroke-width: 1.0;\"/></a><!--MD5=[14ccda38c055a5c0da953d572bc50960]\n",
       "link E7 to E3--><a href=\"psysml:b2ac9add-d533-4cc3-a1ec-28b279e4ff39\" target=\"_top\" title=\"psysml:b2ac9add-d533-4cc3-a1ec-28b279e4ff39\" xlink:actuate=\"onRequest\" xlink:href=\"psysml:b2ac9add-d533-4cc3-a1ec-28b279e4ff39\" xlink:show=\"new\" xlink:title=\"psysml:b2ac9add-d533-4cc3-a1ec-28b279e4ff39\" xlink:type=\"simple\"><path d=\"M159.74,663.82 C172.72,643.34 189,611.54 189,581 C189,349 189,349 189,349 C189,327.34 183.06,304.56 175.76,284.74 \" fill=\"none\" id=\"E7-&gt;E3\" style=\"stroke: #383838; stroke-width: 1.0;\"/><polygon fill=\"#FFFFFF\" points=\"168.18,266.05,181.8034,281.0301,168.8283,286.2881,168.18,266.05\" style=\"stroke: #383838; stroke-width: 1.0;\"/><ellipse cx=\"182.0906\" cy=\"287.0639\" fill=\"#383838\" rx=\"2\" ry=\"2\" style=\"stroke: #383838; stroke-width: 1.0;\"/><ellipse cx=\"172.8227\" cy=\"290.8196\" fill=\"#383838\" rx=\"2\" ry=\"2\" style=\"stroke: #383838; stroke-width: 1.0;\"/></a><!--MD5=[3f50a3473f1dfb74d3f76443e03635af]\n",
       "reverse link E6 to E7--><a href=\"psysml:7f7b610c-5cf3-4f1d-92e7-984e3817e328\" target=\"_top\" title=\"psysml:7f7b610c-5cf3-4f1d-92e7-984e3817e328\" xlink:actuate=\"onRequest\" xlink:href=\"psysml:7f7b610c-5cf3-4f1d-92e7-984e3817e328\" xlink:show=\"new\" xlink:title=\"psysml:7f7b610c-5cf3-4f1d-92e7-984e3817e328\" xlink:type=\"simple\"><path d=\"M127.34,616.05 C131.08,631.76 135.39,649.82 138.68,663.66 \" fill=\"none\" id=\"E6&lt;-E7\" style=\"stroke: #383838; stroke-width: 1.0;\"/><polygon fill=\"#383838\" points=\"124.24,603.01,121.7406,609.7741,127.023,614.6828,129.5224,607.9187,124.24,603.01\" style=\"stroke: #383838; stroke-width: 1.0;\"/></a><!--MD5=[dfaffb906826c3e5aca635516100ff21]\n",
       "link E5 to E8--><a href=\"psysml:8f4ff897-72ba-4249-b35c-9a7192bde9f3\" target=\"_top\" title=\"psysml:8f4ff897-72ba-4249-b35c-9a7192bde9f3\" xlink:actuate=\"onRequest\" xlink:href=\"psysml:8f4ff897-72ba-4249-b35c-9a7192bde9f3\" xlink:show=\"new\" xlink:title=\"psysml:8f4ff897-72ba-4249-b35c-9a7192bde9f3\" xlink:type=\"simple\"><path d=\"M66.84,373.01 C74.79,385.67 85.02,401.94 94.31,416.72 \" fill=\"none\" id=\"E5-&gt;E8\" style=\"stroke: #383838; stroke-width: 1.0;\"/><polygon fill=\"#FFFFFF\" points=\"104.96,433.66,88.9212,421.3005,100.7735,413.8491,104.96,433.66\" style=\"stroke: #383838; stroke-width: 1.0;\"/><ellipse cx=\"87.5806\" cy=\"415.4104\" fill=\"#383838\" rx=\"2\" ry=\"2\" style=\"stroke: #383838; stroke-width: 1.0;\"/><ellipse cx=\"96.0465\" cy=\"410.088\" fill=\"#383838\" rx=\"2\" ry=\"2\" style=\"stroke: #383838; stroke-width: 1.0;\"/></a><!--MD5=[03c8294790d3c57651a1993cecff665f]\n",
       "reverse link E8 to E3--><a href=\"psysml:44d9af1e-71a6-403b-81da-6292c3b1f2cb\" target=\"_top\" title=\"psysml:44d9af1e-71a6-403b-81da-6292c3b1f2cb\" xlink:actuate=\"onRequest\" xlink:href=\"psysml:44d9af1e-71a6-403b-81da-6292c3b1f2cb\" xlink:show=\"new\" xlink:title=\"psysml:44d9af1e-71a6-403b-81da-6292c3b1f2cb\" xlink:type=\"simple\"><path d=\"M123.65,420.81 C129.2,378.86 138.42,309.06 144.08,266.23 \" fill=\"none\" id=\"E8&lt;-E3\" style=\"stroke: #383838; stroke-width: 1.0;\"/><polygon fill=\"#FFFFFF\" points=\"121.92,433.89,126.6755,428.4692,123.5008,421.9946,118.7453,427.4154,121.92,433.89\" style=\"stroke: #383838; stroke-width: 1.0;\"/><text fill=\"#000000\" font-family=\"sans-serif\" font-size=\"13\" lengthAdjust=\"spacingAndGlyphs\" textLength=\"7\" x=\"136\" y=\"354.5669\">y</text></a><!--MD5=[0d75d2178373a6a4568e5dc728f58aef]\n",
       "reverse link E8 to E6--><a href=\"psysml:44d9af1e-71a6-403b-81da-6292c3b1f2cb\" target=\"_top\" title=\"psysml:44d9af1e-71a6-403b-81da-6292c3b1f2cb\" xlink:actuate=\"onRequest\" xlink:href=\"psysml:44d9af1e-71a6-403b-81da-6292c3b1f2cb\" xlink:show=\"new\" xlink:title=\"psysml:44d9af1e-71a6-403b-81da-6292c3b1f2cb\" xlink:type=\"simple\"><path d=\"M119,493.22 C119,513.81 119,539.16 119,556.95 \" fill=\"none\" id=\"E8&lt;-E6\" style=\"stroke: #383838; stroke-width: 1.0;\"/><polygon fill=\"#FFFFFF\" points=\"119,480.19,115,486.19,119,492.19,123,486.19,119,480.19\" style=\"stroke: #383838; stroke-width: 1.0;\"/><text fill=\"#000000\" font-family=\"sans-serif\" font-size=\"13\" lengthAdjust=\"spacingAndGlyphs\" textLength=\"7\" x=\"120\" y=\"523.0669\">y</text></a><!--MD5=[73af28b8fd50444283677a7189c5c3fa]\n",
       "@startuml\r\n",
       "top to bottom direction\r\n",
       "skinparam monochrome true\r\n",
       "skinparam classbackgroundcolor white\r\n",
       "skinparam shadowing false\r\n",
       "skinparam wrapWidth 300\r\n",
       "hide circle\r\n",
       "\r\n",
       "package \"ItemTest\" as E1  [[psysml:75fb623a-e350-4a47-9f82-c4d20b2b5b80 ]]  {\r\n",
       "comp usage \"f: A\" as E2  <<(T,blue)item>> [[psysml:d8a17efa-9aba-4cd7-b18a-68f8ed4c599b ]] {\r\n",
       "}\r\n",
       "comp def \"A\" as E3  <<(T,blue)item def>> [[psysml:30552314-ef8a-4f2d-b223-fa6e862cb5b8 ]] {\r\n",
       "- - items - -\r\n",
       "b: B\r\n",
       "}\r\n",
       "comp usage \"c: C\" as E5  <<(T,blue)part>> [[psysml:cb0fe327-dda6-4eae-9e46-1ce946f22982 ]] {\r\n",
       "}\r\n",
       "comp def \"B\" as E6  <<(T,blue)item def>> [[psysml:0c776550-23a6-42b8-908b-320a74e2d4ee ]] {\r\n",
       "}\r\n",
       "comp usage \"a: A\" as E7  <<(T,blue)part>> [[psysml:7f7b610c-5cf3-4f1d-92e7-984e3817e328 ]] {\r\n",
       "}\r\n",
       "comp def \"C\" as E8  <<(T,blue)part def>> [[psysml:3f3cfa4e-9100-4bf2-8dae-183ab53e5ac5 ]] {\r\n",
       "}\r\n",
       "comp def \"P\" as E9  <<(T,blue)port def>> [[psysml:b18b87fb-d7bd-4905-b0cb-818d68f57f75 ]] {\r\n",
       "- - items - -\r\n",
       "a1: A\r\n",
       "a2: A\r\n",
       "}\r\n",
       "E2 - -:|> E3 [[psysml:cbc83e8e-35d8-4884-92a4-03d9c321669a ]] \r\n",
       "E3 o- - E5 [[psysml:cb0fe327-dda6-4eae-9e46-1ce946f22982 ]] \r\n",
       "E7 - -:|> E3 [[psysml:b2ac9add-d533-4cc3-a1ec-28b279e4ff39 ]] \r\n",
       "E6 *- - E7 [[psysml:7f7b610c-5cf3-4f1d-92e7-984e3817e328 ]] \r\n",
       "E5 - -:|> E8 [[psysml:8f4ff897-72ba-4249-b35c-9a7192bde9f3 ]] \r\n",
       "E8 o- - E3 [[psysml:44d9af1e-71a6-403b-81da-6292c3b1f2cb ]] : y\r\n",
       "E8 o- - E6 [[psysml:44d9af1e-71a6-403b-81da-6292c3b1f2cb ]] : y\r\n",
       "}\r\n",
       "@enduml\r\n",
       "\n",
       "PlantUML version 1.2020.13(Sat Jun 13 12:26:38 UTC 2020)\n",
       "(EPL source distribution)\n",
       "Java Runtime: OpenJDK Runtime Environment\n",
       "JVM: OpenJDK 64-Bit Server VM\n",
       "Default Encoding: UTF-8\n",
       "Language: en\n",
       "Country: null\n",
       "--></g></svg>"
      ]
     },
     "execution_count": 44,
     "metadata": {},
     "output_type": "execute_result"
    }
   ],
   "source": [
    "%viz --style=\"TB\" --view=\"Default\" \"ItemTest\""
   ]
  },
  {
   "cell_type": "code",
   "execution_count": 45,
   "id": "pressing-james",
   "metadata": {
    "execution": {
     "iopub.execute_input": "2021-03-26T12:12:08.350726Z",
     "iopub.status.busy": "2021-03-26T12:12:08.350351Z",
     "iopub.status.idle": "2021-03-26T12:12:08.407743Z",
     "shell.execute_reply": "2021-03-26T12:12:08.406218Z"
    }
   },
   "outputs": [
    {
     "data": {
      "image/svg+xml": [
       "<?xml version=\"1.0\" encoding=\"UTF-8\" standalone=\"no\"?><svg xmlns=\"http://www.w3.org/2000/svg\" xmlns:xlink=\"http://www.w3.org/1999/xlink\" contentScriptType=\"application/ecmascript\" contentStyleType=\"text/css\" height=\"738px\" preserveAspectRatio=\"none\" style=\"width:228px;height:738px;\" version=\"1.1\" viewBox=\"0 0 228 738\" width=\"228px\" zoomAndPan=\"magnify\"><defs/><g><!--MD5=[fbc87193dbaf4d95561dea2c320d4a47]\n",
       "cluster E1--><a href=\"psysml:75fb623a-e350-4a47-9f82-c4d20b2b5b80\" target=\"_top\" title=\"psysml:75fb623a-e350-4a47-9f82-c4d20b2b5b80\" xlink:actuate=\"onRequest\" xlink:href=\"psysml:75fb623a-e350-4a47-9f82-c4d20b2b5b80\" xlink:show=\"new\" xlink:title=\"psysml:75fb623a-e350-4a47-9f82-c4d20b2b5b80\" xlink:type=\"simple\"><polygon fill=\"#FFFFFF\" points=\"16,6,91,6,98,28.2969,206,28.2969,206,726,16,726,16,6\" style=\"stroke: #000000; stroke-width: 1.5;\"/><line style=\"stroke: #000000; stroke-width: 1.5;\" x1=\"16\" x2=\"98\" y1=\"28.2969\" y2=\"28.2969\"/><text fill=\"#000000\" font-family=\"sans-serif\" font-size=\"14\" font-weight=\"bold\" lengthAdjust=\"spacingAndGlyphs\" textLength=\"69\" x=\"20\" y=\"20.9951\">ItemTest</text></a><!--MD5=[b4997ac47864f28c2f74865a473b2911]\n",
       "class E2--><a href=\"psysml:d8a17efa-9aba-4cd7-b18a-68f8ed4c599b\" target=\"_top\" title=\"psysml:d8a17efa-9aba-4cd7-b18a-68f8ed4c599b\" xlink:actuate=\"onRequest\" xlink:href=\"psysml:d8a17efa-9aba-4cd7-b18a-68f8ed4c599b\" xlink:show=\"new\" xlink:title=\"psysml:d8a17efa-9aba-4cd7-b18a-68f8ed4c599b\" xlink:type=\"simple\"><rect fill=\"#FFFFFF\" height=\"45.9375\" id=\"E2\" rx=\"10\" ry=\"10\" style=\"stroke: #383838; stroke-width: 1.5;\" width=\"43\" x=\"133.5\" y=\"62\"/><text fill=\"#000000\" font-family=\"sans-serif\" font-size=\"12\" font-style=\"italic\" lengthAdjust=\"spacingAndGlyphs\" textLength=\"41\" x=\"134.5\" y=\"78.1387\">«item»</text><text fill=\"#000000\" font-family=\"sans-serif\" font-size=\"12\" lengthAdjust=\"spacingAndGlyphs\" textLength=\"20\" x=\"145\" y=\"92.1074\">f: A</text><line style=\"stroke: #383838; stroke-width: 1.5;\" x1=\"134.5\" x2=\"175.5\" y1=\"99.9375\" y2=\"99.9375\"/></a><!--MD5=[09b614a08d8cba4a07c9adeb5e0fee81]\n",
       "class E3--><a href=\"psysml:30552314-ef8a-4f2d-b223-fa6e862cb5b8\" target=\"_top\" title=\"psysml:30552314-ef8a-4f2d-b223-fa6e862cb5b8\" xlink:actuate=\"onRequest\" xlink:href=\"psysml:30552314-ef8a-4f2d-b223-fa6e862cb5b8\" xlink:show=\"new\" xlink:title=\"psysml:30552314-ef8a-4f2d-b223-fa6e862cb5b8\" xlink:type=\"simple\"><rect fill=\"#FFFFFF\" height=\"75.5469\" id=\"E3\" style=\"stroke: #383838; stroke-width: 1.5;\" width=\"67\" x=\"115.5\" y=\"190\"/><text fill=\"#000000\" font-family=\"sans-serif\" font-size=\"12\" font-style=\"italic\" lengthAdjust=\"spacingAndGlyphs\" textLength=\"65\" x=\"116.5\" y=\"206.1387\">«item def»</text><text fill=\"#000000\" font-family=\"sans-serif\" font-size=\"12\" lengthAdjust=\"spacingAndGlyphs\" textLength=\"8\" x=\"145\" y=\"220.1074\">A</text><line style=\"stroke: #383838; stroke-width: 1.5;\" x1=\"116.5\" x2=\"181.5\" y1=\"227.9375\" y2=\"227.9375\"/><text fill=\"#000000\" font-family=\"sans-serif\" font-size=\"11\" lengthAdjust=\"spacingAndGlyphs\" textLength=\"23\" x=\"121.5\" y=\"258.9526\">b: B</text><line style=\"stroke: #383838; stroke-width: 1.0;\" x1=\"116.5\" x2=\"133\" y1=\"242.3398\" y2=\"242.3398\"/><text fill=\"#000000\" font-family=\"sans-serif\" font-size=\"11\" lengthAdjust=\"spacingAndGlyphs\" textLength=\"32\" x=\"133\" y=\"245.6479\">items</text><line style=\"stroke: #383838; stroke-width: 1.0;\" x1=\"165\" x2=\"181.5\" y1=\"242.3398\" y2=\"242.3398\"/></a><!--MD5=[270fce915f116d4de14055a7c1d9a0f3]\n",
       "class E5--><a href=\"psysml:cb0fe327-dda6-4eae-9e46-1ce946f22982\" target=\"_top\" title=\"psysml:cb0fe327-dda6-4eae-9e46-1ce946f22982\" xlink:actuate=\"onRequest\" xlink:href=\"psysml:cb0fe327-dda6-4eae-9e46-1ce946f22982\" xlink:show=\"new\" xlink:title=\"psysml:cb0fe327-dda6-4eae-9e46-1ce946f22982\" xlink:type=\"simple\"><rect fill=\"#FFFFFF\" height=\"45.9375\" id=\"E5\" rx=\"10\" ry=\"10\" style=\"stroke: #383838; stroke-width: 1.5;\" width=\"42\" x=\"32\" y=\"327\"/><text fill=\"#000000\" font-family=\"sans-serif\" font-size=\"12\" font-style=\"italic\" lengthAdjust=\"spacingAndGlyphs\" textLength=\"40\" x=\"33\" y=\"343.1387\">«part»</text><text fill=\"#000000\" font-family=\"sans-serif\" font-size=\"12\" lengthAdjust=\"spacingAndGlyphs\" textLength=\"23\" x=\"41.5\" y=\"357.1074\">c: C</text><line style=\"stroke: #383838; stroke-width: 1.5;\" x1=\"33\" x2=\"73\" y1=\"364.9375\" y2=\"364.9375\"/></a><!--MD5=[60a26617385b1d2d0262a64233df1f8d]\n",
       "class E6--><a href=\"psysml:0c776550-23a6-42b8-908b-320a74e2d4ee\" target=\"_top\" title=\"psysml:0c776550-23a6-42b8-908b-320a74e2d4ee\" xlink:actuate=\"onRequest\" xlink:href=\"psysml:0c776550-23a6-42b8-908b-320a74e2d4ee\" xlink:show=\"new\" xlink:title=\"psysml:0c776550-23a6-42b8-908b-320a74e2d4ee\" xlink:type=\"simple\"><rect fill=\"#FFFFFF\" height=\"45.9375\" id=\"E6\" style=\"stroke: #383838; stroke-width: 1.5;\" width=\"67\" x=\"85.5\" y=\"557\"/><text fill=\"#000000\" font-family=\"sans-serif\" font-size=\"12\" font-style=\"italic\" lengthAdjust=\"spacingAndGlyphs\" textLength=\"65\" x=\"86.5\" y=\"573.1387\">«item def»</text><text fill=\"#000000\" font-family=\"sans-serif\" font-size=\"12\" lengthAdjust=\"spacingAndGlyphs\" textLength=\"8\" x=\"115\" y=\"587.1074\">B</text><line style=\"stroke: #383838; stroke-width: 1.5;\" x1=\"86.5\" x2=\"151.5\" y1=\"594.9375\" y2=\"594.9375\"/></a><!--MD5=[2156ba9850f5573cc1fc38a6a4b2f02b]\n",
       "class E7--><a href=\"psysml:7f7b610c-5cf3-4f1d-92e7-984e3817e328\" target=\"_top\" title=\"psysml:7f7b610c-5cf3-4f1d-92e7-984e3817e328\" xlink:actuate=\"onRequest\" xlink:href=\"psysml:7f7b610c-5cf3-4f1d-92e7-984e3817e328\" xlink:show=\"new\" xlink:title=\"psysml:7f7b610c-5cf3-4f1d-92e7-984e3817e328\" xlink:type=\"simple\"><rect fill=\"#FFFFFF\" height=\"45.9375\" id=\"E7\" rx=\"10\" ry=\"10\" style=\"stroke: #383838; stroke-width: 1.5;\" width=\"42\" x=\"123\" y=\"664\"/><text fill=\"#000000\" font-family=\"sans-serif\" font-size=\"12\" font-style=\"italic\" lengthAdjust=\"spacingAndGlyphs\" textLength=\"40\" x=\"124\" y=\"680.1387\">«part»</text><text fill=\"#000000\" font-family=\"sans-serif\" font-size=\"12\" lengthAdjust=\"spacingAndGlyphs\" textLength=\"24\" x=\"132\" y=\"694.1074\">a: A</text><line style=\"stroke: #383838; stroke-width: 1.5;\" x1=\"124\" x2=\"164\" y1=\"701.9375\" y2=\"701.9375\"/></a><!--MD5=[b9389687b975829384b498ac4b7476b2]\n",
       "class E8--><a href=\"psysml:3f3cfa4e-9100-4bf2-8dae-183ab53e5ac5\" target=\"_top\" title=\"psysml:3f3cfa4e-9100-4bf2-8dae-183ab53e5ac5\" xlink:actuate=\"onRequest\" xlink:href=\"psysml:3f3cfa4e-9100-4bf2-8dae-183ab53e5ac5\" xlink:show=\"new\" xlink:title=\"psysml:3f3cfa4e-9100-4bf2-8dae-183ab53e5ac5\" xlink:type=\"simple\"><rect fill=\"#FFFFFF\" height=\"45.9375\" id=\"E8\" style=\"stroke: #383838; stroke-width: 1.5;\" width=\"66\" x=\"86\" y=\"434\"/><text fill=\"#000000\" font-family=\"sans-serif\" font-size=\"12\" font-style=\"italic\" lengthAdjust=\"spacingAndGlyphs\" textLength=\"64\" x=\"87\" y=\"450.1387\">«part def»</text><text fill=\"#000000\" font-family=\"sans-serif\" font-size=\"12\" lengthAdjust=\"spacingAndGlyphs\" textLength=\"8\" x=\"115\" y=\"464.1074\">C</text><line style=\"stroke: #383838; stroke-width: 1.5;\" x1=\"87\" x2=\"151\" y1=\"471.9375\" y2=\"471.9375\"/></a><!--MD5=[fd4143e9d270a159db93a4ea2a975926]\n",
       "class E9--><a href=\"psysml:b18b87fb-d7bd-4905-b0cb-818d68f57f75\" target=\"_top\" title=\"psysml:b18b87fb-d7bd-4905-b0cb-818d68f57f75\" xlink:actuate=\"onRequest\" xlink:href=\"psysml:b18b87fb-d7bd-4905-b0cb-818d68f57f75\" xlink:show=\"new\" xlink:title=\"psysml:b18b87fb-d7bd-4905-b0cb-818d68f57f75\" xlink:type=\"simple\"><rect fill=\"#FFFFFF\" height=\"88.3516\" id=\"E9\" style=\"stroke: #383838; stroke-width: 1.5;\" width=\"66\" x=\"32\" y=\"41\"/><text fill=\"#000000\" font-family=\"sans-serif\" font-size=\"12\" font-style=\"italic\" lengthAdjust=\"spacingAndGlyphs\" textLength=\"64\" x=\"33\" y=\"57.1387\">«port def»</text><text fill=\"#000000\" font-family=\"sans-serif\" font-size=\"12\" lengthAdjust=\"spacingAndGlyphs\" textLength=\"8\" x=\"61\" y=\"71.1074\">P</text><line style=\"stroke: #383838; stroke-width: 1.5;\" x1=\"33\" x2=\"97\" y1=\"78.9375\" y2=\"78.9375\"/><text fill=\"#000000\" font-family=\"sans-serif\" font-size=\"11\" lengthAdjust=\"spacingAndGlyphs\" textLength=\"29\" x=\"38\" y=\"109.9526\">a1: A</text><text fill=\"#000000\" font-family=\"sans-serif\" font-size=\"11\" lengthAdjust=\"spacingAndGlyphs\" textLength=\"29\" x=\"38\" y=\"122.7573\">a2: A</text><line style=\"stroke: #383838; stroke-width: 1.0;\" x1=\"33\" x2=\"49\" y1=\"93.3398\" y2=\"93.3398\"/><text fill=\"#000000\" font-family=\"sans-serif\" font-size=\"11\" lengthAdjust=\"spacingAndGlyphs\" textLength=\"32\" x=\"49\" y=\"96.6479\">items</text><line style=\"stroke: #383838; stroke-width: 1.0;\" x1=\"81\" x2=\"97\" y1=\"93.3398\" y2=\"93.3398\"/></a><!--MD5=[2720a5a1f2c3fca2055b230370638851]\n",
       "link E2 to E3--><a href=\"psysml:cbc83e8e-35d8-4884-92a4-03d9c321669a\" target=\"_top\" title=\"psysml:cbc83e8e-35d8-4884-92a4-03d9c321669a\" xlink:actuate=\"onRequest\" xlink:href=\"psysml:cbc83e8e-35d8-4884-92a4-03d9c321669a\" xlink:show=\"new\" xlink:title=\"psysml:cbc83e8e-35d8-4884-92a4-03d9c321669a\" xlink:type=\"simple\"><path d=\"M154.06,108.03 C153.36,124.58 152.36,148.04 151.44,169.76 \" fill=\"none\" id=\"E2-&gt;E3\" style=\"stroke: #383838; stroke-width: 1.0;\"/><polygon fill=\"#FFFFFF\" points=\"150.58,189.77,144.4005,170.4875,158.3877,171.0874,150.58,189.77\" style=\"stroke: #383838; stroke-width: 1.0;\"/><ellipse cx=\"146.6429\" cy=\"164.8784\" fill=\"#383838\" rx=\"2\" ry=\"2\" style=\"stroke: #383838; stroke-width: 1.0;\"/><ellipse cx=\"156.6338\" cy=\"165.3069\" fill=\"#383838\" rx=\"2\" ry=\"2\" style=\"stroke: #383838; stroke-width: 1.0;\"/></a><!--MD5=[191cde3d490a3f6d7bb551fe3ddca469]\n",
       "reverse link E3 to E5--><a href=\"psysml:cb0fe327-dda6-4eae-9e46-1ce946f22982\" target=\"_top\" title=\"psysml:cb0fe327-dda6-4eae-9e46-1ce946f22982\" xlink:actuate=\"onRequest\" xlink:href=\"psysml:cb0fe327-dda6-4eae-9e46-1ce946f22982\" xlink:show=\"new\" xlink:title=\"psysml:cb0fe327-dda6-4eae-9e46-1ce946f22982\" xlink:type=\"simple\"><path d=\"M110.75,276.82 C96.95,294.07 82.02,312.72 70.8,326.75 \" fill=\"none\" id=\"E3&lt;-E5\" style=\"stroke: #383838; stroke-width: 1.0;\"/><polygon fill=\"#FFFFFF\" points=\"119.15,266.31,112.2784,268.4964,111.6537,275.6804,118.5253,273.494,119.15,266.31\" style=\"stroke: #383838; stroke-width: 1.0;\"/></a><!--MD5=[14ccda38c055a5c0da953d572bc50960]\n",
       "link E7 to E3--><a href=\"psysml:b2ac9add-d533-4cc3-a1ec-28b279e4ff39\" target=\"_top\" title=\"psysml:b2ac9add-d533-4cc3-a1ec-28b279e4ff39\" xlink:actuate=\"onRequest\" xlink:href=\"psysml:b2ac9add-d533-4cc3-a1ec-28b279e4ff39\" xlink:show=\"new\" xlink:title=\"psysml:b2ac9add-d533-4cc3-a1ec-28b279e4ff39\" xlink:type=\"simple\"><path d=\"M159.74,663.82 C172.72,643.34 189,611.54 189,581 C189,349 189,349 189,349 C189,327.34 183.06,304.56 175.76,284.74 \" fill=\"none\" id=\"E7-&gt;E3\" style=\"stroke: #383838; stroke-width: 1.0;\"/><polygon fill=\"#FFFFFF\" points=\"168.18,266.05,181.8034,281.0301,168.8283,286.2881,168.18,266.05\" style=\"stroke: #383838; stroke-width: 1.0;\"/><ellipse cx=\"182.0906\" cy=\"287.0639\" fill=\"#383838\" rx=\"2\" ry=\"2\" style=\"stroke: #383838; stroke-width: 1.0;\"/><ellipse cx=\"172.8227\" cy=\"290.8196\" fill=\"#383838\" rx=\"2\" ry=\"2\" style=\"stroke: #383838; stroke-width: 1.0;\"/></a><!--MD5=[3f50a3473f1dfb74d3f76443e03635af]\n",
       "reverse link E6 to E7--><a href=\"psysml:7f7b610c-5cf3-4f1d-92e7-984e3817e328\" target=\"_top\" title=\"psysml:7f7b610c-5cf3-4f1d-92e7-984e3817e328\" xlink:actuate=\"onRequest\" xlink:href=\"psysml:7f7b610c-5cf3-4f1d-92e7-984e3817e328\" xlink:show=\"new\" xlink:title=\"psysml:7f7b610c-5cf3-4f1d-92e7-984e3817e328\" xlink:type=\"simple\"><path d=\"M127.34,616.05 C131.08,631.76 135.39,649.82 138.68,663.66 \" fill=\"none\" id=\"E6&lt;-E7\" style=\"stroke: #383838; stroke-width: 1.0;\"/><polygon fill=\"#383838\" points=\"124.24,603.01,121.7406,609.7741,127.023,614.6828,129.5224,607.9187,124.24,603.01\" style=\"stroke: #383838; stroke-width: 1.0;\"/></a><!--MD5=[dfaffb906826c3e5aca635516100ff21]\n",
       "link E5 to E8--><a href=\"psysml:8f4ff897-72ba-4249-b35c-9a7192bde9f3\" target=\"_top\" title=\"psysml:8f4ff897-72ba-4249-b35c-9a7192bde9f3\" xlink:actuate=\"onRequest\" xlink:href=\"psysml:8f4ff897-72ba-4249-b35c-9a7192bde9f3\" xlink:show=\"new\" xlink:title=\"psysml:8f4ff897-72ba-4249-b35c-9a7192bde9f3\" xlink:type=\"simple\"><path d=\"M66.84,373.01 C74.79,385.67 85.02,401.94 94.31,416.72 \" fill=\"none\" id=\"E5-&gt;E8\" style=\"stroke: #383838; stroke-width: 1.0;\"/><polygon fill=\"#FFFFFF\" points=\"104.96,433.66,88.9212,421.3005,100.7735,413.8491,104.96,433.66\" style=\"stroke: #383838; stroke-width: 1.0;\"/><ellipse cx=\"87.5806\" cy=\"415.4104\" fill=\"#383838\" rx=\"2\" ry=\"2\" style=\"stroke: #383838; stroke-width: 1.0;\"/><ellipse cx=\"96.0465\" cy=\"410.088\" fill=\"#383838\" rx=\"2\" ry=\"2\" style=\"stroke: #383838; stroke-width: 1.0;\"/></a><!--MD5=[03c8294790d3c57651a1993cecff665f]\n",
       "reverse link E8 to E3--><a href=\"psysml:44d9af1e-71a6-403b-81da-6292c3b1f2cb\" target=\"_top\" title=\"psysml:44d9af1e-71a6-403b-81da-6292c3b1f2cb\" xlink:actuate=\"onRequest\" xlink:href=\"psysml:44d9af1e-71a6-403b-81da-6292c3b1f2cb\" xlink:show=\"new\" xlink:title=\"psysml:44d9af1e-71a6-403b-81da-6292c3b1f2cb\" xlink:type=\"simple\"><path d=\"M123.65,420.81 C129.2,378.86 138.42,309.06 144.08,266.23 \" fill=\"none\" id=\"E8&lt;-E3\" style=\"stroke: #383838; stroke-width: 1.0;\"/><polygon fill=\"#FFFFFF\" points=\"121.92,433.89,126.6755,428.4692,123.5008,421.9946,118.7453,427.4154,121.92,433.89\" style=\"stroke: #383838; stroke-width: 1.0;\"/><text fill=\"#000000\" font-family=\"sans-serif\" font-size=\"13\" lengthAdjust=\"spacingAndGlyphs\" textLength=\"7\" x=\"136\" y=\"354.5669\">y</text></a><!--MD5=[0d75d2178373a6a4568e5dc728f58aef]\n",
       "reverse link E8 to E6--><a href=\"psysml:44d9af1e-71a6-403b-81da-6292c3b1f2cb\" target=\"_top\" title=\"psysml:44d9af1e-71a6-403b-81da-6292c3b1f2cb\" xlink:actuate=\"onRequest\" xlink:href=\"psysml:44d9af1e-71a6-403b-81da-6292c3b1f2cb\" xlink:show=\"new\" xlink:title=\"psysml:44d9af1e-71a6-403b-81da-6292c3b1f2cb\" xlink:type=\"simple\"><path d=\"M119,493.22 C119,513.81 119,539.16 119,556.95 \" fill=\"none\" id=\"E8&lt;-E6\" style=\"stroke: #383838; stroke-width: 1.0;\"/><polygon fill=\"#FFFFFF\" points=\"119,480.19,115,486.19,119,492.19,123,486.19,119,480.19\" style=\"stroke: #383838; stroke-width: 1.0;\"/><text fill=\"#000000\" font-family=\"sans-serif\" font-size=\"13\" lengthAdjust=\"spacingAndGlyphs\" textLength=\"7\" x=\"120\" y=\"523.0669\">y</text></a><!--MD5=[73af28b8fd50444283677a7189c5c3fa]\n",
       "@startuml\r\n",
       "top to bottom direction\r\n",
       "skinparam monochrome true\r\n",
       "skinparam classbackgroundcolor white\r\n",
       "skinparam shadowing false\r\n",
       "skinparam wrapWidth 300\r\n",
       "hide circle\r\n",
       "\r\n",
       "package \"ItemTest\" as E1  [[psysml:75fb623a-e350-4a47-9f82-c4d20b2b5b80 ]]  {\r\n",
       "comp usage \"f: A\" as E2  <<(T,blue)item>> [[psysml:d8a17efa-9aba-4cd7-b18a-68f8ed4c599b ]] {\r\n",
       "}\r\n",
       "comp def \"A\" as E3  <<(T,blue)item def>> [[psysml:30552314-ef8a-4f2d-b223-fa6e862cb5b8 ]] {\r\n",
       "- - items - -\r\n",
       "b: B\r\n",
       "}\r\n",
       "comp usage \"c: C\" as E5  <<(T,blue)part>> [[psysml:cb0fe327-dda6-4eae-9e46-1ce946f22982 ]] {\r\n",
       "}\r\n",
       "comp def \"B\" as E6  <<(T,blue)item def>> [[psysml:0c776550-23a6-42b8-908b-320a74e2d4ee ]] {\r\n",
       "}\r\n",
       "comp usage \"a: A\" as E7  <<(T,blue)part>> [[psysml:7f7b610c-5cf3-4f1d-92e7-984e3817e328 ]] {\r\n",
       "}\r\n",
       "comp def \"C\" as E8  <<(T,blue)part def>> [[psysml:3f3cfa4e-9100-4bf2-8dae-183ab53e5ac5 ]] {\r\n",
       "}\r\n",
       "comp def \"P\" as E9  <<(T,blue)port def>> [[psysml:b18b87fb-d7bd-4905-b0cb-818d68f57f75 ]] {\r\n",
       "- - items - -\r\n",
       "a1: A\r\n",
       "a2: A\r\n",
       "}\r\n",
       "E2 - -:|> E3 [[psysml:cbc83e8e-35d8-4884-92a4-03d9c321669a ]] \r\n",
       "E3 o- - E5 [[psysml:cb0fe327-dda6-4eae-9e46-1ce946f22982 ]] \r\n",
       "E7 - -:|> E3 [[psysml:b2ac9add-d533-4cc3-a1ec-28b279e4ff39 ]] \r\n",
       "E6 *- - E7 [[psysml:7f7b610c-5cf3-4f1d-92e7-984e3817e328 ]] \r\n",
       "E5 - -:|> E8 [[psysml:8f4ff897-72ba-4249-b35c-9a7192bde9f3 ]] \r\n",
       "E8 o- - E3 [[psysml:44d9af1e-71a6-403b-81da-6292c3b1f2cb ]] : y\r\n",
       "E8 o- - E6 [[psysml:44d9af1e-71a6-403b-81da-6292c3b1f2cb ]] : y\r\n",
       "}\r\n",
       "@enduml\r\n",
       "\n",
       "PlantUML version 1.2020.13(Sat Jun 13 12:26:38 UTC 2020)\n",
       "(EPL source distribution)\n",
       "Java Runtime: OpenJDK Runtime Environment\n",
       "JVM: OpenJDK 64-Bit Server VM\n",
       "Default Encoding: UTF-8\n",
       "Language: en\n",
       "Country: null\n",
       "--></g></svg>"
      ]
     },
     "execution_count": 45,
     "metadata": {},
     "output_type": "execute_result"
    }
   ],
   "source": [
    "%viz --style=\"TB\" --view=\"Tree\" \"ItemTest\""
   ]
  },
  {
   "cell_type": "code",
   "execution_count": 46,
   "id": "synthetic-stone",
   "metadata": {
    "execution": {
     "iopub.execute_input": "2021-03-26T12:12:08.461237Z",
     "iopub.status.busy": "2021-03-26T12:12:08.460463Z",
     "iopub.status.idle": "2021-03-26T12:12:08.462685Z",
     "shell.execute_reply": "2021-03-26T12:12:08.463122Z"
    }
   },
   "outputs": [
    {
     "data": {
      "image/svg+xml": [
       "<?xml version=\"1.0\" encoding=\"UTF-8\" standalone=\"no\"?><svg xmlns=\"http://www.w3.org/2000/svg\" xmlns:xlink=\"http://www.w3.org/1999/xlink\" contentScriptType=\"application/ecmascript\" contentStyleType=\"text/css\" height=\"12px\" preserveAspectRatio=\"none\" style=\"width:12px;height:12px;\" version=\"1.1\" viewBox=\"0 0 12 12\" width=\"12px\" zoomAndPan=\"magnify\"><defs/><g><!--MD5=[f4ee21bc66e489b5061b7c3e9601fdef]\n",
       "@startuml\r\n",
       "top to bottom direction\r\n",
       "skinparam monochrome true\r\n",
       "skinparam classbackgroundcolor white\r\n",
       "skinparam shadowing false\r\n",
       "skinparam wrapWidth 300\r\n",
       "hide circle\r\n",
       "\r\n",
       "@enduml\r\n",
       "\n",
       "PlantUML version 1.2020.13(Sat Jun 13 12:26:38 UTC 2020)\n",
       "(EPL source distribution)\n",
       "Java Runtime: OpenJDK Runtime Environment\n",
       "JVM: OpenJDK 64-Bit Server VM\n",
       "Default Encoding: UTF-8\n",
       "Language: en\n",
       "Country: null\n",
       "--></g></svg>"
      ]
     },
     "execution_count": 46,
     "metadata": {},
     "output_type": "execute_result"
    }
   ],
   "source": [
    "%viz --style=\"TB\" --view=\"State\" \"ItemTest\""
   ]
  },
  {
   "cell_type": "code",
   "execution_count": 47,
   "id": "processed-weapon",
   "metadata": {
    "execution": {
     "iopub.execute_input": "2021-03-26T12:12:08.515686Z",
     "iopub.status.busy": "2021-03-26T12:12:08.514908Z",
     "iopub.status.idle": "2021-03-26T12:12:08.543163Z",
     "shell.execute_reply": "2021-03-26T12:12:08.541723Z"
    }
   },
   "outputs": [
    {
     "data": {
      "image/svg+xml": [
       "<?xml version=\"1.0\" encoding=\"UTF-8\" standalone=\"no\"?><svg xmlns=\"http://www.w3.org/2000/svg\" xmlns:xlink=\"http://www.w3.org/1999/xlink\" contentScriptType=\"application/ecmascript\" contentStyleType=\"text/css\" height=\"195px\" preserveAspectRatio=\"none\" style=\"width:582px;height:195px;\" version=\"1.1\" viewBox=\"0 0 582 195\" width=\"582px\" zoomAndPan=\"magnify\"><defs/><g><!--MD5=[fbc87193dbaf4d95561dea2c320d4a47]\n",
       "cluster E1--><a href=\"psysml:75fb623a-e350-4a47-9f82-c4d20b2b5b80\" target=\"_top\" title=\"psysml:75fb623a-e350-4a47-9f82-c4d20b2b5b80\" xlink:actuate=\"onRequest\" xlink:href=\"psysml:75fb623a-e350-4a47-9f82-c4d20b2b5b80\" xlink:show=\"new\" xlink:title=\"psysml:75fb623a-e350-4a47-9f82-c4d20b2b5b80\" xlink:type=\"simple\"><polygon fill=\"#FFFFFF\" points=\"16,6,91,6,98,28.2969,560,28.2969,560,183,16,183,16,6\" style=\"stroke: #000000; stroke-width: 1.5;\"/><line style=\"stroke: #000000; stroke-width: 1.5;\" x1=\"16\" x2=\"98\" y1=\"28.2969\" y2=\"28.2969\"/><text fill=\"#000000\" font-family=\"sans-serif\" font-size=\"14\" font-weight=\"bold\" lengthAdjust=\"spacingAndGlyphs\" textLength=\"69\" x=\"20\" y=\"20.9951\">ItemTest</text></a><!--MD5=[de5ec2e2e8f62f467e546659f5068c88]\n",
       "cluster E5--><a href=\"psysml:3f3cfa4e-9100-4bf2-8dae-183ab53e5ac5\" target=\"_top\" title=\"psysml:3f3cfa4e-9100-4bf2-8dae-183ab53e5ac5\" xlink:actuate=\"onRequest\" xlink:href=\"psysml:3f3cfa4e-9100-4bf2-8dae-183ab53e5ac5\" xlink:show=\"new\" xlink:title=\"psysml:3f3cfa4e-9100-4bf2-8dae-183ab53e5ac5\" xlink:type=\"simple\"><rect fill=\"#FFFFFF\" height=\"110\" id=\"E5\" style=\"stroke: #383838; stroke-width: 1.5;\" width=\"114\" x=\"422\" y=\"49\"/><rect fill=\"#F8F8F8\" height=\"37.9375\" style=\"stroke: #383838; stroke-width: 1.5;\" width=\"114\" x=\"422\" y=\"49\"/><text fill=\"#000000\" font-family=\"sans-serif\" font-size=\"12\" font-style=\"italic\" lengthAdjust=\"spacingAndGlyphs\" textLength=\"64\" x=\"447\" y=\"65.1387\">«part def»</text><text fill=\"#000000\" font-family=\"sans-serif\" font-size=\"12\" lengthAdjust=\"spacingAndGlyphs\" textLength=\"8\" x=\"475\" y=\"79.1074\">C</text></a><g id=\"E1.E3\"><a href=\"psysml:30552314-ef8a-4f2d-b223-fa6e862cb5b8\" target=\"_top\" title=\"psysml:30552314-ef8a-4f2d-b223-fa6e862cb5b8\" xlink:actuate=\"onRequest\" xlink:href=\"psysml:30552314-ef8a-4f2d-b223-fa6e862cb5b8\" xlink:show=\"new\" xlink:title=\"psysml:30552314-ef8a-4f2d-b223-fa6e862cb5b8\" xlink:type=\"simple\"><rect fill=\"#FFFFFF\" height=\"42.9375\" id=\"E3\" style=\"stroke: #383838; stroke-width: 1.5;\" width=\"72\" x=\"331\" y=\"100\"/><rect fill=\"#F8F8F8\" height=\"37.9375\" style=\"stroke: #383838; stroke-width: 1.5;\" width=\"72\" x=\"331\" y=\"100\"/><text fill=\"#000000\" font-family=\"sans-serif\" font-size=\"12\" font-style=\"italic\" lengthAdjust=\"spacingAndGlyphs\" textLength=\"65\" x=\"334.5\" y=\"116.1387\">«item def»</text><text fill=\"#000000\" font-family=\"sans-serif\" font-size=\"12\" lengthAdjust=\"spacingAndGlyphs\" textLength=\"8\" x=\"363\" y=\"130.1074\">A</text></a></g><g id=\"E1.E4\"><a href=\"psysml:0c776550-23a6-42b8-908b-320a74e2d4ee\" target=\"_top\" title=\"psysml:0c776550-23a6-42b8-908b-320a74e2d4ee\" xlink:actuate=\"onRequest\" xlink:href=\"psysml:0c776550-23a6-42b8-908b-320a74e2d4ee\" xlink:show=\"new\" xlink:title=\"psysml:0c776550-23a6-42b8-908b-320a74e2d4ee\" xlink:type=\"simple\"><rect fill=\"#FFFFFF\" height=\"42.9375\" id=\"E4\" style=\"stroke: #383838; stroke-width: 1.5;\" width=\"72\" x=\"224\" y=\"100\"/><rect fill=\"#F8F8F8\" height=\"37.9375\" style=\"stroke: #383838; stroke-width: 1.5;\" width=\"72\" x=\"224\" y=\"100\"/><text fill=\"#000000\" font-family=\"sans-serif\" font-size=\"12\" font-style=\"italic\" lengthAdjust=\"spacingAndGlyphs\" textLength=\"65\" x=\"227.5\" y=\"116.1387\">«item def»</text><text fill=\"#000000\" font-family=\"sans-serif\" font-size=\"12\" lengthAdjust=\"spacingAndGlyphs\" textLength=\"8\" x=\"256\" y=\"130.1074\">B</text></a></g><g id=\"E1.E7\"><a href=\"psysml:b18b87fb-d7bd-4905-b0cb-818d68f57f75\" target=\"_top\" title=\"psysml:b18b87fb-d7bd-4905-b0cb-818d68f57f75\" xlink:actuate=\"onRequest\" xlink:href=\"psysml:b18b87fb-d7bd-4905-b0cb-818d68f57f75\" xlink:show=\"new\" xlink:title=\"psysml:b18b87fb-d7bd-4905-b0cb-818d68f57f75\" xlink:type=\"simple\"><rect fill=\"#FFFFFF\" height=\"42.9375\" id=\"E7\" style=\"stroke: #383838; stroke-width: 1.5;\" width=\"71\" x=\"117.5\" y=\"100\"/><rect fill=\"#F8F8F8\" height=\"37.9375\" style=\"stroke: #383838; stroke-width: 1.5;\" width=\"71\" x=\"117.5\" y=\"100\"/><text fill=\"#000000\" font-family=\"sans-serif\" font-size=\"12\" font-style=\"italic\" lengthAdjust=\"spacingAndGlyphs\" textLength=\"64\" x=\"121\" y=\"116.1387\">«port def»</text><text fill=\"#000000\" font-family=\"sans-serif\" font-size=\"12\" lengthAdjust=\"spacingAndGlyphs\" textLength=\"8\" x=\"149\" y=\"130.1074\">P</text></a></g><g id=\"E1.E2\"><a href=\"psysml:d8a17efa-9aba-4cd7-b18a-68f8ed4c599b\" target=\"_top\" title=\"psysml:d8a17efa-9aba-4cd7-b18a-68f8ed4c599b\" xlink:actuate=\"onRequest\" xlink:href=\"psysml:d8a17efa-9aba-4cd7-b18a-68f8ed4c599b\" xlink:show=\"new\" xlink:title=\"psysml:d8a17efa-9aba-4cd7-b18a-68f8ed4c599b\" xlink:type=\"simple\"><rect fill=\"#FFFFFF\" height=\"42.9375\" id=\"E2\" rx=\"10\" ry=\"10\" style=\"stroke: #383838; stroke-width: 1.5;\" width=\"50\" x=\"32\" y=\"100\"/><rect fill=\"#F8F8F8\" height=\"37.9375\" rx=\"10\" ry=\"10\" style=\"stroke: #F8F8F8; stroke-width: 1.5;\" width=\"50\" x=\"32\" y=\"100\"/><rect fill=\"#F8F8F8\" height=\"10\" style=\"stroke: #F8F8F8; stroke-width: 1.5;\" width=\"50\" x=\"32\" y=\"127.9375\"/><rect fill=\"none\" height=\"42.9375\" id=\"E2\" rx=\"10\" ry=\"10\" style=\"stroke: #383838; stroke-width: 1.5;\" width=\"50\" x=\"32\" y=\"100\"/><text fill=\"#000000\" font-family=\"sans-serif\" font-size=\"12\" font-style=\"italic\" lengthAdjust=\"spacingAndGlyphs\" textLength=\"41\" x=\"36.5\" y=\"116.1387\">«item»</text><text fill=\"#000000\" font-family=\"sans-serif\" font-size=\"12\" lengthAdjust=\"spacingAndGlyphs\" textLength=\"20\" x=\"47\" y=\"130.1074\">f: A</text></a></g><g id=\"E1.E5.E6\"><a href=\"psysml:44d9af1e-71a6-403b-81da-6292c3b1f2cb\" target=\"_top\" title=\"psysml:44d9af1e-71a6-403b-81da-6292c3b1f2cb\" xlink:actuate=\"onRequest\" xlink:href=\"psysml:44d9af1e-71a6-403b-81da-6292c3b1f2cb\" xlink:show=\"new\" xlink:title=\"psysml:44d9af1e-71a6-403b-81da-6292c3b1f2cb\" xlink:type=\"simple\"><rect fill=\"#FFFFFF\" height=\"42.9375\" id=\"E6\" rx=\"10\" ry=\"10\" style=\"stroke: #383838; stroke-width: 1.5;\" width=\"82\" x=\"438\" y=\"100\"/><rect fill=\"#F8F8F8\" height=\"37.9375\" rx=\"10\" ry=\"10\" style=\"stroke: #F8F8F8; stroke-width: 1.5;\" width=\"82\" x=\"438\" y=\"100\"/><rect fill=\"#F8F8F8\" height=\"10\" style=\"stroke: #F8F8F8; stroke-width: 1.5;\" width=\"82\" x=\"438\" y=\"127.9375\"/><rect fill=\"none\" height=\"42.9375\" id=\"E6\" rx=\"10\" ry=\"10\" style=\"stroke: #383838; stroke-width: 1.5;\" width=\"82\" x=\"438\" y=\"100\"/><text fill=\"#000000\" font-family=\"sans-serif\" font-size=\"12\" font-style=\"italic\" lengthAdjust=\"spacingAndGlyphs\" textLength=\"75\" x=\"441.5\" y=\"116.1387\">«reference»</text><text fill=\"#000000\" font-family=\"sans-serif\" font-size=\"12\" lengthAdjust=\"spacingAndGlyphs\" textLength=\"38\" x=\"460\" y=\"130.1074\">y: A, B</text></a></g><!--MD5=[966a478b4254e3b7f0ffe4ddc4dc2442]\n",
       "@startuml\r\n",
       "skinparam ranksep 8\r\n",
       "skinparam rectangle {\r\n",
       " backgroundColor<<block>> LightGreen\r\n",
       "}\r\n",
       "top to bottom direction\r\n",
       "skinparam monochrome true\r\n",
       "skinparam classbackgroundcolor white\r\n",
       "skinparam shadowing false\r\n",
       "skinparam wrapWidth 300\r\n",
       "hide circle\r\n",
       "\r\n",
       "package \"ItemTest\" as E1  [[psysml:75fb623a-e350-4a47-9f82-c4d20b2b5b80 ]]  {\r\n",
       "rec usage \"f: A\" as E2  <<(T,blue)item>> [[psysml:d8a17efa-9aba-4cd7-b18a-68f8ed4c599b ]] {\r\n",
       "}\r\n",
       "def \"A\" as E3  <<(T,blue)item def>> [[psysml:30552314-ef8a-4f2d-b223-fa6e862cb5b8 ]] \r\n",
       "def \"B\" as E4  <<(T,blue)item def>> [[psysml:0c776550-23a6-42b8-908b-320a74e2d4ee ]] \r\n",
       "rec def \"C\" as E5  <<(T,blue)part def>> [[psysml:3f3cfa4e-9100-4bf2-8dae-183ab53e5ac5 ]] {\r\n",
       "rec usage \"y: A, B\" as E6  <<(T,blue)reference>> [[psysml:44d9af1e-71a6-403b-81da-6292c3b1f2cb ]] {\r\n",
       "}\r\n",
       "}\r\n",
       "def \"P\" as E7  <<(T,blue)port def>> [[psysml:b18b87fb-d7bd-4905-b0cb-818d68f57f75 ]] \r\n",
       "}\r\n",
       "@enduml\r\n",
       "\n",
       "PlantUML version 1.2020.13(Sat Jun 13 12:26:38 UTC 2020)\n",
       "(EPL source distribution)\n",
       "Java Runtime: OpenJDK Runtime Environment\n",
       "JVM: OpenJDK 64-Bit Server VM\n",
       "Default Encoding: UTF-8\n",
       "Language: en\n",
       "Country: null\n",
       "--></g></svg>"
      ]
     },
     "execution_count": 47,
     "metadata": {},
     "output_type": "execute_result"
    }
   ],
   "source": [
    "%viz --style=\"TB\" --view=\"Interconnection\" \"ItemTest\""
   ]
  },
  {
   "cell_type": "code",
   "execution_count": 48,
   "id": "established-plaza",
   "metadata": {
    "execution": {
     "iopub.execute_input": "2021-03-26T12:12:08.594460Z",
     "iopub.status.busy": "2021-03-26T12:12:08.593466Z",
     "iopub.status.idle": "2021-03-26T12:12:08.599423Z",
     "shell.execute_reply": "2021-03-26T12:12:08.599847Z"
    }
   },
   "outputs": [
    {
     "data": {
      "image/svg+xml": [
       "<?xml version=\"1.0\" encoding=\"UTF-8\" standalone=\"no\"?><svg xmlns=\"http://www.w3.org/2000/svg\" xmlns:xlink=\"http://www.w3.org/1999/xlink\" contentScriptType=\"application/ecmascript\" contentStyleType=\"text/css\" height=\"12px\" preserveAspectRatio=\"none\" style=\"width:12px;height:12px;\" version=\"1.1\" viewBox=\"0 0 12 12\" width=\"12px\" zoomAndPan=\"magnify\"><defs/><g><!--MD5=[06afc254b03ac5e9d9fb7773b07d0800]\n",
       "@startuml\r\n",
       "skinparam ranksep 8\r\n",
       "top to bottom direction\r\n",
       "skinparam monochrome true\r\n",
       "skinparam classbackgroundcolor white\r\n",
       "skinparam shadowing false\r\n",
       "skinparam wrapWidth 300\r\n",
       "hide circle\r\n",
       "\r\n",
       "@enduml\r\n",
       "\n",
       "PlantUML version 1.2020.13(Sat Jun 13 12:26:38 UTC 2020)\n",
       "(EPL source distribution)\n",
       "Java Runtime: OpenJDK Runtime Environment\n",
       "JVM: OpenJDK 64-Bit Server VM\n",
       "Default Encoding: UTF-8\n",
       "Language: en\n",
       "Country: null\n",
       "--></g></svg>"
      ]
     },
     "execution_count": 48,
     "metadata": {},
     "output_type": "execute_result"
    }
   ],
   "source": [
    "%viz --style=\"TB\" --view=\"Action\" \"ItemTest\""
   ]
  },
  {
   "cell_type": "code",
   "execution_count": 49,
   "id": "excessive-tongue",
   "metadata": {
    "execution": {
     "iopub.execute_input": "2021-03-26T12:12:08.651868Z",
     "iopub.status.busy": "2021-03-26T12:12:08.651209Z",
     "iopub.status.idle": "2021-03-26T12:12:08.705366Z",
     "shell.execute_reply": "2021-03-26T12:12:08.703850Z"
    }
   },
   "outputs": [
    {
     "data": {
      "image/svg+xml": [
       "<?xml version=\"1.0\" encoding=\"UTF-8\" standalone=\"no\"?><svg xmlns=\"http://www.w3.org/2000/svg\" xmlns:xlink=\"http://www.w3.org/1999/xlink\" contentScriptType=\"application/ecmascript\" contentStyleType=\"text/css\" height=\"738px\" preserveAspectRatio=\"none\" style=\"width:228px;height:738px;\" version=\"1.1\" viewBox=\"0 0 228 738\" width=\"228px\" zoomAndPan=\"magnify\"><defs/><g><!--MD5=[fbc87193dbaf4d95561dea2c320d4a47]\n",
       "cluster E1--><a href=\"psysml:75fb623a-e350-4a47-9f82-c4d20b2b5b80\" target=\"_top\" title=\"psysml:75fb623a-e350-4a47-9f82-c4d20b2b5b80\" xlink:actuate=\"onRequest\" xlink:href=\"psysml:75fb623a-e350-4a47-9f82-c4d20b2b5b80\" xlink:show=\"new\" xlink:title=\"psysml:75fb623a-e350-4a47-9f82-c4d20b2b5b80\" xlink:type=\"simple\"><polygon fill=\"#FFFFFF\" points=\"16,6,91,6,98,28.2969,206,28.2969,206,726,16,726,16,6\" style=\"stroke: #000000; stroke-width: 1.5;\"/><line style=\"stroke: #000000; stroke-width: 1.5;\" x1=\"16\" x2=\"98\" y1=\"28.2969\" y2=\"28.2969\"/><text fill=\"#000000\" font-family=\"sans-serif\" font-size=\"14\" font-weight=\"bold\" lengthAdjust=\"spacingAndGlyphs\" textLength=\"69\" x=\"20\" y=\"20.9951\">ItemTest</text></a><!--MD5=[b4997ac47864f28c2f74865a473b2911]\n",
       "class E2--><a href=\"psysml:d8a17efa-9aba-4cd7-b18a-68f8ed4c599b\" target=\"_top\" title=\"psysml:d8a17efa-9aba-4cd7-b18a-68f8ed4c599b\" xlink:actuate=\"onRequest\" xlink:href=\"psysml:d8a17efa-9aba-4cd7-b18a-68f8ed4c599b\" xlink:show=\"new\" xlink:title=\"psysml:d8a17efa-9aba-4cd7-b18a-68f8ed4c599b\" xlink:type=\"simple\"><rect fill=\"#FFFFFF\" height=\"45.9375\" id=\"E2\" rx=\"10\" ry=\"10\" style=\"stroke: #383838; stroke-width: 1.5;\" width=\"43\" x=\"133.5\" y=\"62\"/><text fill=\"#000000\" font-family=\"sans-serif\" font-size=\"12\" font-style=\"italic\" lengthAdjust=\"spacingAndGlyphs\" textLength=\"41\" x=\"134.5\" y=\"78.1387\">«item»</text><text fill=\"#000000\" font-family=\"sans-serif\" font-size=\"12\" lengthAdjust=\"spacingAndGlyphs\" textLength=\"20\" x=\"145\" y=\"92.1074\">f: A</text><line style=\"stroke: #383838; stroke-width: 1.5;\" x1=\"134.5\" x2=\"175.5\" y1=\"99.9375\" y2=\"99.9375\"/></a><!--MD5=[09b614a08d8cba4a07c9adeb5e0fee81]\n",
       "class E3--><a href=\"psysml:30552314-ef8a-4f2d-b223-fa6e862cb5b8\" target=\"_top\" title=\"psysml:30552314-ef8a-4f2d-b223-fa6e862cb5b8\" xlink:actuate=\"onRequest\" xlink:href=\"psysml:30552314-ef8a-4f2d-b223-fa6e862cb5b8\" xlink:show=\"new\" xlink:title=\"psysml:30552314-ef8a-4f2d-b223-fa6e862cb5b8\" xlink:type=\"simple\"><rect fill=\"#FFFFFF\" height=\"75.5469\" id=\"E3\" style=\"stroke: #383838; stroke-width: 1.5;\" width=\"67\" x=\"115.5\" y=\"190\"/><text fill=\"#000000\" font-family=\"sans-serif\" font-size=\"12\" font-style=\"italic\" lengthAdjust=\"spacingAndGlyphs\" textLength=\"65\" x=\"116.5\" y=\"206.1387\">«item def»</text><text fill=\"#000000\" font-family=\"sans-serif\" font-size=\"12\" lengthAdjust=\"spacingAndGlyphs\" textLength=\"8\" x=\"145\" y=\"220.1074\">A</text><line style=\"stroke: #383838; stroke-width: 1.5;\" x1=\"116.5\" x2=\"181.5\" y1=\"227.9375\" y2=\"227.9375\"/><text fill=\"#000000\" font-family=\"sans-serif\" font-size=\"11\" lengthAdjust=\"spacingAndGlyphs\" textLength=\"23\" x=\"121.5\" y=\"258.9526\">b: B</text><line style=\"stroke: #383838; stroke-width: 1.0;\" x1=\"116.5\" x2=\"133\" y1=\"242.3398\" y2=\"242.3398\"/><text fill=\"#000000\" font-family=\"sans-serif\" font-size=\"11\" lengthAdjust=\"spacingAndGlyphs\" textLength=\"32\" x=\"133\" y=\"245.6479\">items</text><line style=\"stroke: #383838; stroke-width: 1.0;\" x1=\"165\" x2=\"181.5\" y1=\"242.3398\" y2=\"242.3398\"/></a><!--MD5=[270fce915f116d4de14055a7c1d9a0f3]\n",
       "class E5--><a href=\"psysml:cb0fe327-dda6-4eae-9e46-1ce946f22982\" target=\"_top\" title=\"psysml:cb0fe327-dda6-4eae-9e46-1ce946f22982\" xlink:actuate=\"onRequest\" xlink:href=\"psysml:cb0fe327-dda6-4eae-9e46-1ce946f22982\" xlink:show=\"new\" xlink:title=\"psysml:cb0fe327-dda6-4eae-9e46-1ce946f22982\" xlink:type=\"simple\"><rect fill=\"#FFFFFF\" height=\"45.9375\" id=\"E5\" rx=\"10\" ry=\"10\" style=\"stroke: #383838; stroke-width: 1.5;\" width=\"42\" x=\"32\" y=\"327\"/><text fill=\"#000000\" font-family=\"sans-serif\" font-size=\"12\" font-style=\"italic\" lengthAdjust=\"spacingAndGlyphs\" textLength=\"40\" x=\"33\" y=\"343.1387\">«part»</text><text fill=\"#000000\" font-family=\"sans-serif\" font-size=\"12\" lengthAdjust=\"spacingAndGlyphs\" textLength=\"23\" x=\"41.5\" y=\"357.1074\">c: C</text><line style=\"stroke: #383838; stroke-width: 1.5;\" x1=\"33\" x2=\"73\" y1=\"364.9375\" y2=\"364.9375\"/></a><!--MD5=[60a26617385b1d2d0262a64233df1f8d]\n",
       "class E6--><a href=\"psysml:0c776550-23a6-42b8-908b-320a74e2d4ee\" target=\"_top\" title=\"psysml:0c776550-23a6-42b8-908b-320a74e2d4ee\" xlink:actuate=\"onRequest\" xlink:href=\"psysml:0c776550-23a6-42b8-908b-320a74e2d4ee\" xlink:show=\"new\" xlink:title=\"psysml:0c776550-23a6-42b8-908b-320a74e2d4ee\" xlink:type=\"simple\"><rect fill=\"#FFFFFF\" height=\"45.9375\" id=\"E6\" style=\"stroke: #383838; stroke-width: 1.5;\" width=\"67\" x=\"85.5\" y=\"557\"/><text fill=\"#000000\" font-family=\"sans-serif\" font-size=\"12\" font-style=\"italic\" lengthAdjust=\"spacingAndGlyphs\" textLength=\"65\" x=\"86.5\" y=\"573.1387\">«item def»</text><text fill=\"#000000\" font-family=\"sans-serif\" font-size=\"12\" lengthAdjust=\"spacingAndGlyphs\" textLength=\"8\" x=\"115\" y=\"587.1074\">B</text><line style=\"stroke: #383838; stroke-width: 1.5;\" x1=\"86.5\" x2=\"151.5\" y1=\"594.9375\" y2=\"594.9375\"/></a><!--MD5=[2156ba9850f5573cc1fc38a6a4b2f02b]\n",
       "class E7--><a href=\"psysml:7f7b610c-5cf3-4f1d-92e7-984e3817e328\" target=\"_top\" title=\"psysml:7f7b610c-5cf3-4f1d-92e7-984e3817e328\" xlink:actuate=\"onRequest\" xlink:href=\"psysml:7f7b610c-5cf3-4f1d-92e7-984e3817e328\" xlink:show=\"new\" xlink:title=\"psysml:7f7b610c-5cf3-4f1d-92e7-984e3817e328\" xlink:type=\"simple\"><rect fill=\"#FFFFFF\" height=\"45.9375\" id=\"E7\" rx=\"10\" ry=\"10\" style=\"stroke: #383838; stroke-width: 1.5;\" width=\"42\" x=\"123\" y=\"664\"/><text fill=\"#000000\" font-family=\"sans-serif\" font-size=\"12\" font-style=\"italic\" lengthAdjust=\"spacingAndGlyphs\" textLength=\"40\" x=\"124\" y=\"680.1387\">«part»</text><text fill=\"#000000\" font-family=\"sans-serif\" font-size=\"12\" lengthAdjust=\"spacingAndGlyphs\" textLength=\"24\" x=\"132\" y=\"694.1074\">a: A</text><line style=\"stroke: #383838; stroke-width: 1.5;\" x1=\"124\" x2=\"164\" y1=\"701.9375\" y2=\"701.9375\"/></a><!--MD5=[b9389687b975829384b498ac4b7476b2]\n",
       "class E8--><a href=\"psysml:3f3cfa4e-9100-4bf2-8dae-183ab53e5ac5\" target=\"_top\" title=\"psysml:3f3cfa4e-9100-4bf2-8dae-183ab53e5ac5\" xlink:actuate=\"onRequest\" xlink:href=\"psysml:3f3cfa4e-9100-4bf2-8dae-183ab53e5ac5\" xlink:show=\"new\" xlink:title=\"psysml:3f3cfa4e-9100-4bf2-8dae-183ab53e5ac5\" xlink:type=\"simple\"><rect fill=\"#FFFFFF\" height=\"45.9375\" id=\"E8\" style=\"stroke: #383838; stroke-width: 1.5;\" width=\"66\" x=\"86\" y=\"434\"/><text fill=\"#000000\" font-family=\"sans-serif\" font-size=\"12\" font-style=\"italic\" lengthAdjust=\"spacingAndGlyphs\" textLength=\"64\" x=\"87\" y=\"450.1387\">«part def»</text><text fill=\"#000000\" font-family=\"sans-serif\" font-size=\"12\" lengthAdjust=\"spacingAndGlyphs\" textLength=\"8\" x=\"115\" y=\"464.1074\">C</text><line style=\"stroke: #383838; stroke-width: 1.5;\" x1=\"87\" x2=\"151\" y1=\"471.9375\" y2=\"471.9375\"/></a><!--MD5=[fd4143e9d270a159db93a4ea2a975926]\n",
       "class E9--><a href=\"psysml:b18b87fb-d7bd-4905-b0cb-818d68f57f75\" target=\"_top\" title=\"psysml:b18b87fb-d7bd-4905-b0cb-818d68f57f75\" xlink:actuate=\"onRequest\" xlink:href=\"psysml:b18b87fb-d7bd-4905-b0cb-818d68f57f75\" xlink:show=\"new\" xlink:title=\"psysml:b18b87fb-d7bd-4905-b0cb-818d68f57f75\" xlink:type=\"simple\"><rect fill=\"#FFFFFF\" height=\"88.3516\" id=\"E9\" style=\"stroke: #383838; stroke-width: 1.5;\" width=\"66\" x=\"32\" y=\"41\"/><text fill=\"#000000\" font-family=\"sans-serif\" font-size=\"12\" font-style=\"italic\" lengthAdjust=\"spacingAndGlyphs\" textLength=\"64\" x=\"33\" y=\"57.1387\">«port def»</text><text fill=\"#000000\" font-family=\"sans-serif\" font-size=\"12\" lengthAdjust=\"spacingAndGlyphs\" textLength=\"8\" x=\"61\" y=\"71.1074\">P</text><line style=\"stroke: #383838; stroke-width: 1.5;\" x1=\"33\" x2=\"97\" y1=\"78.9375\" y2=\"78.9375\"/><text fill=\"#000000\" font-family=\"sans-serif\" font-size=\"11\" lengthAdjust=\"spacingAndGlyphs\" textLength=\"29\" x=\"38\" y=\"109.9526\">a1: A</text><text fill=\"#000000\" font-family=\"sans-serif\" font-size=\"11\" lengthAdjust=\"spacingAndGlyphs\" textLength=\"29\" x=\"38\" y=\"122.7573\">a2: A</text><line style=\"stroke: #383838; stroke-width: 1.0;\" x1=\"33\" x2=\"49\" y1=\"93.3398\" y2=\"93.3398\"/><text fill=\"#000000\" font-family=\"sans-serif\" font-size=\"11\" lengthAdjust=\"spacingAndGlyphs\" textLength=\"32\" x=\"49\" y=\"96.6479\">items</text><line style=\"stroke: #383838; stroke-width: 1.0;\" x1=\"81\" x2=\"97\" y1=\"93.3398\" y2=\"93.3398\"/></a><!--MD5=[2720a5a1f2c3fca2055b230370638851]\n",
       "link E2 to E3--><a href=\"psysml:cbc83e8e-35d8-4884-92a4-03d9c321669a\" target=\"_top\" title=\"psysml:cbc83e8e-35d8-4884-92a4-03d9c321669a\" xlink:actuate=\"onRequest\" xlink:href=\"psysml:cbc83e8e-35d8-4884-92a4-03d9c321669a\" xlink:show=\"new\" xlink:title=\"psysml:cbc83e8e-35d8-4884-92a4-03d9c321669a\" xlink:type=\"simple\"><path d=\"M154.06,108.03 C153.36,124.58 152.36,148.04 151.44,169.76 \" fill=\"none\" id=\"E2-&gt;E3\" style=\"stroke: #383838; stroke-width: 1.0;\"/><polygon fill=\"#FFFFFF\" points=\"150.58,189.77,144.4005,170.4875,158.3877,171.0874,150.58,189.77\" style=\"stroke: #383838; stroke-width: 1.0;\"/><ellipse cx=\"146.6429\" cy=\"164.8784\" fill=\"#383838\" rx=\"2\" ry=\"2\" style=\"stroke: #383838; stroke-width: 1.0;\"/><ellipse cx=\"156.6338\" cy=\"165.3069\" fill=\"#383838\" rx=\"2\" ry=\"2\" style=\"stroke: #383838; stroke-width: 1.0;\"/></a><!--MD5=[191cde3d490a3f6d7bb551fe3ddca469]\n",
       "reverse link E3 to E5--><a href=\"psysml:cb0fe327-dda6-4eae-9e46-1ce946f22982\" target=\"_top\" title=\"psysml:cb0fe327-dda6-4eae-9e46-1ce946f22982\" xlink:actuate=\"onRequest\" xlink:href=\"psysml:cb0fe327-dda6-4eae-9e46-1ce946f22982\" xlink:show=\"new\" xlink:title=\"psysml:cb0fe327-dda6-4eae-9e46-1ce946f22982\" xlink:type=\"simple\"><path d=\"M110.75,276.82 C96.95,294.07 82.02,312.72 70.8,326.75 \" fill=\"none\" id=\"E3&lt;-E5\" style=\"stroke: #383838; stroke-width: 1.0;\"/><polygon fill=\"#FFFFFF\" points=\"119.15,266.31,112.2784,268.4964,111.6537,275.6804,118.5253,273.494,119.15,266.31\" style=\"stroke: #383838; stroke-width: 1.0;\"/></a><!--MD5=[14ccda38c055a5c0da953d572bc50960]\n",
       "link E7 to E3--><a href=\"psysml:b2ac9add-d533-4cc3-a1ec-28b279e4ff39\" target=\"_top\" title=\"psysml:b2ac9add-d533-4cc3-a1ec-28b279e4ff39\" xlink:actuate=\"onRequest\" xlink:href=\"psysml:b2ac9add-d533-4cc3-a1ec-28b279e4ff39\" xlink:show=\"new\" xlink:title=\"psysml:b2ac9add-d533-4cc3-a1ec-28b279e4ff39\" xlink:type=\"simple\"><path d=\"M159.74,663.82 C172.72,643.34 189,611.54 189,581 C189,349 189,349 189,349 C189,327.34 183.06,304.56 175.76,284.74 \" fill=\"none\" id=\"E7-&gt;E3\" style=\"stroke: #383838; stroke-width: 1.0;\"/><polygon fill=\"#FFFFFF\" points=\"168.18,266.05,181.8034,281.0301,168.8283,286.2881,168.18,266.05\" style=\"stroke: #383838; stroke-width: 1.0;\"/><ellipse cx=\"182.0906\" cy=\"287.0639\" fill=\"#383838\" rx=\"2\" ry=\"2\" style=\"stroke: #383838; stroke-width: 1.0;\"/><ellipse cx=\"172.8227\" cy=\"290.8196\" fill=\"#383838\" rx=\"2\" ry=\"2\" style=\"stroke: #383838; stroke-width: 1.0;\"/></a><!--MD5=[3f50a3473f1dfb74d3f76443e03635af]\n",
       "reverse link E6 to E7--><a href=\"psysml:7f7b610c-5cf3-4f1d-92e7-984e3817e328\" target=\"_top\" title=\"psysml:7f7b610c-5cf3-4f1d-92e7-984e3817e328\" xlink:actuate=\"onRequest\" xlink:href=\"psysml:7f7b610c-5cf3-4f1d-92e7-984e3817e328\" xlink:show=\"new\" xlink:title=\"psysml:7f7b610c-5cf3-4f1d-92e7-984e3817e328\" xlink:type=\"simple\"><path d=\"M127.34,616.05 C131.08,631.76 135.39,649.82 138.68,663.66 \" fill=\"none\" id=\"E6&lt;-E7\" style=\"stroke: #383838; stroke-width: 1.0;\"/><polygon fill=\"#383838\" points=\"124.24,603.01,121.7406,609.7741,127.023,614.6828,129.5224,607.9187,124.24,603.01\" style=\"stroke: #383838; stroke-width: 1.0;\"/></a><!--MD5=[dfaffb906826c3e5aca635516100ff21]\n",
       "link E5 to E8--><a href=\"psysml:8f4ff897-72ba-4249-b35c-9a7192bde9f3\" target=\"_top\" title=\"psysml:8f4ff897-72ba-4249-b35c-9a7192bde9f3\" xlink:actuate=\"onRequest\" xlink:href=\"psysml:8f4ff897-72ba-4249-b35c-9a7192bde9f3\" xlink:show=\"new\" xlink:title=\"psysml:8f4ff897-72ba-4249-b35c-9a7192bde9f3\" xlink:type=\"simple\"><path d=\"M66.84,373.01 C74.79,385.67 85.02,401.94 94.31,416.72 \" fill=\"none\" id=\"E5-&gt;E8\" style=\"stroke: #383838; stroke-width: 1.0;\"/><polygon fill=\"#FFFFFF\" points=\"104.96,433.66,88.9212,421.3005,100.7735,413.8491,104.96,433.66\" style=\"stroke: #383838; stroke-width: 1.0;\"/><ellipse cx=\"87.5806\" cy=\"415.4104\" fill=\"#383838\" rx=\"2\" ry=\"2\" style=\"stroke: #383838; stroke-width: 1.0;\"/><ellipse cx=\"96.0465\" cy=\"410.088\" fill=\"#383838\" rx=\"2\" ry=\"2\" style=\"stroke: #383838; stroke-width: 1.0;\"/></a><!--MD5=[03c8294790d3c57651a1993cecff665f]\n",
       "reverse link E8 to E3--><a href=\"psysml:44d9af1e-71a6-403b-81da-6292c3b1f2cb\" target=\"_top\" title=\"psysml:44d9af1e-71a6-403b-81da-6292c3b1f2cb\" xlink:actuate=\"onRequest\" xlink:href=\"psysml:44d9af1e-71a6-403b-81da-6292c3b1f2cb\" xlink:show=\"new\" xlink:title=\"psysml:44d9af1e-71a6-403b-81da-6292c3b1f2cb\" xlink:type=\"simple\"><path d=\"M123.65,420.81 C129.2,378.86 138.42,309.06 144.08,266.23 \" fill=\"none\" id=\"E8&lt;-E3\" style=\"stroke: #383838; stroke-width: 1.0;\"/><polygon fill=\"#FFFFFF\" points=\"121.92,433.89,126.6755,428.4692,123.5008,421.9946,118.7453,427.4154,121.92,433.89\" style=\"stroke: #383838; stroke-width: 1.0;\"/><text fill=\"#000000\" font-family=\"sans-serif\" font-size=\"13\" lengthAdjust=\"spacingAndGlyphs\" textLength=\"7\" x=\"136\" y=\"354.5669\">y</text></a><!--MD5=[0d75d2178373a6a4568e5dc728f58aef]\n",
       "reverse link E8 to E6--><a href=\"psysml:44d9af1e-71a6-403b-81da-6292c3b1f2cb\" target=\"_top\" title=\"psysml:44d9af1e-71a6-403b-81da-6292c3b1f2cb\" xlink:actuate=\"onRequest\" xlink:href=\"psysml:44d9af1e-71a6-403b-81da-6292c3b1f2cb\" xlink:show=\"new\" xlink:title=\"psysml:44d9af1e-71a6-403b-81da-6292c3b1f2cb\" xlink:type=\"simple\"><path d=\"M119,493.22 C119,513.81 119,539.16 119,556.95 \" fill=\"none\" id=\"E8&lt;-E6\" style=\"stroke: #383838; stroke-width: 1.0;\"/><polygon fill=\"#FFFFFF\" points=\"119,480.19,115,486.19,119,492.19,123,486.19,119,480.19\" style=\"stroke: #383838; stroke-width: 1.0;\"/><text fill=\"#000000\" font-family=\"sans-serif\" font-size=\"13\" lengthAdjust=\"spacingAndGlyphs\" textLength=\"7\" x=\"120\" y=\"523.0669\">y</text></a><!--MD5=[73af28b8fd50444283677a7189c5c3fa]\n",
       "@startuml\r\n",
       "top to bottom direction\r\n",
       "skinparam monochrome true\r\n",
       "skinparam classbackgroundcolor white\r\n",
       "skinparam shadowing false\r\n",
       "skinparam wrapWidth 300\r\n",
       "hide circle\r\n",
       "\r\n",
       "package \"ItemTest\" as E1  [[psysml:75fb623a-e350-4a47-9f82-c4d20b2b5b80 ]]  {\r\n",
       "comp usage \"f: A\" as E2  <<(T,blue)item>> [[psysml:d8a17efa-9aba-4cd7-b18a-68f8ed4c599b ]] {\r\n",
       "}\r\n",
       "comp def \"A\" as E3  <<(T,blue)item def>> [[psysml:30552314-ef8a-4f2d-b223-fa6e862cb5b8 ]] {\r\n",
       "- - items - -\r\n",
       "b: B\r\n",
       "}\r\n",
       "comp usage \"c: C\" as E5  <<(T,blue)part>> [[psysml:cb0fe327-dda6-4eae-9e46-1ce946f22982 ]] {\r\n",
       "}\r\n",
       "comp def \"B\" as E6  <<(T,blue)item def>> [[psysml:0c776550-23a6-42b8-908b-320a74e2d4ee ]] {\r\n",
       "}\r\n",
       "comp usage \"a: A\" as E7  <<(T,blue)part>> [[psysml:7f7b610c-5cf3-4f1d-92e7-984e3817e328 ]] {\r\n",
       "}\r\n",
       "comp def \"C\" as E8  <<(T,blue)part def>> [[psysml:3f3cfa4e-9100-4bf2-8dae-183ab53e5ac5 ]] {\r\n",
       "}\r\n",
       "comp def \"P\" as E9  <<(T,blue)port def>> [[psysml:b18b87fb-d7bd-4905-b0cb-818d68f57f75 ]] {\r\n",
       "- - items - -\r\n",
       "a1: A\r\n",
       "a2: A\r\n",
       "}\r\n",
       "E2 - -:|> E3 [[psysml:cbc83e8e-35d8-4884-92a4-03d9c321669a ]] \r\n",
       "E3 o- - E5 [[psysml:cb0fe327-dda6-4eae-9e46-1ce946f22982 ]] \r\n",
       "E7 - -:|> E3 [[psysml:b2ac9add-d533-4cc3-a1ec-28b279e4ff39 ]] \r\n",
       "E6 *- - E7 [[psysml:7f7b610c-5cf3-4f1d-92e7-984e3817e328 ]] \r\n",
       "E5 - -:|> E8 [[psysml:8f4ff897-72ba-4249-b35c-9a7192bde9f3 ]] \r\n",
       "E8 o- - E3 [[psysml:44d9af1e-71a6-403b-81da-6292c3b1f2cb ]] : y\r\n",
       "E8 o- - E6 [[psysml:44d9af1e-71a6-403b-81da-6292c3b1f2cb ]] : y\r\n",
       "}\r\n",
       "@enduml\r\n",
       "\n",
       "PlantUML version 1.2020.13(Sat Jun 13 12:26:38 UTC 2020)\n",
       "(EPL source distribution)\n",
       "Java Runtime: OpenJDK Runtime Environment\n",
       "JVM: OpenJDK 64-Bit Server VM\n",
       "Default Encoding: UTF-8\n",
       "Language: en\n",
       "Country: null\n",
       "--></g></svg>"
      ]
     },
     "execution_count": 49,
     "metadata": {},
     "output_type": "execute_result"
    }
   ],
   "source": [
    "%viz --style=\"TB\" --view=\"Sequence\" \"ItemTest\""
   ]
  },
  {
   "cell_type": "code",
   "execution_count": 50,
   "id": "double-reply",
   "metadata": {
    "execution": {
     "iopub.execute_input": "2021-03-26T12:12:08.755642Z",
     "iopub.status.busy": "2021-03-26T12:12:08.755167Z",
     "iopub.status.idle": "2021-03-26T12:12:08.806115Z",
     "shell.execute_reply": "2021-03-26T12:12:08.804763Z"
    }
   },
   "outputs": [
    {
     "data": {
      "image/svg+xml": [
       "<?xml version=\"1.0\" encoding=\"UTF-8\" standalone=\"no\"?><svg xmlns=\"http://www.w3.org/2000/svg\" xmlns:xlink=\"http://www.w3.org/1999/xlink\" contentScriptType=\"application/ecmascript\" contentStyleType=\"text/css\" height=\"738px\" preserveAspectRatio=\"none\" style=\"width:228px;height:738px;\" version=\"1.1\" viewBox=\"0 0 228 738\" width=\"228px\" zoomAndPan=\"magnify\"><defs/><g><!--MD5=[fbc87193dbaf4d95561dea2c320d4a47]\n",
       "cluster E1--><a href=\"psysml:75fb623a-e350-4a47-9f82-c4d20b2b5b80\" target=\"_top\" title=\"psysml:75fb623a-e350-4a47-9f82-c4d20b2b5b80\" xlink:actuate=\"onRequest\" xlink:href=\"psysml:75fb623a-e350-4a47-9f82-c4d20b2b5b80\" xlink:show=\"new\" xlink:title=\"psysml:75fb623a-e350-4a47-9f82-c4d20b2b5b80\" xlink:type=\"simple\"><polygon fill=\"#FFFFFF\" points=\"16,6,91,6,98,28.2969,206,28.2969,206,726,16,726,16,6\" style=\"stroke: #000000; stroke-width: 1.5;\"/><line style=\"stroke: #000000; stroke-width: 1.5;\" x1=\"16\" x2=\"98\" y1=\"28.2969\" y2=\"28.2969\"/><text fill=\"#000000\" font-family=\"sans-serif\" font-size=\"14\" font-weight=\"bold\" lengthAdjust=\"spacingAndGlyphs\" textLength=\"69\" x=\"20\" y=\"20.9951\">ItemTest</text></a><!--MD5=[b4997ac47864f28c2f74865a473b2911]\n",
       "class E2--><a href=\"psysml:d8a17efa-9aba-4cd7-b18a-68f8ed4c599b\" target=\"_top\" title=\"psysml:d8a17efa-9aba-4cd7-b18a-68f8ed4c599b\" xlink:actuate=\"onRequest\" xlink:href=\"psysml:d8a17efa-9aba-4cd7-b18a-68f8ed4c599b\" xlink:show=\"new\" xlink:title=\"psysml:d8a17efa-9aba-4cd7-b18a-68f8ed4c599b\" xlink:type=\"simple\"><rect fill=\"#FFFFFF\" height=\"45.9375\" id=\"E2\" rx=\"10\" ry=\"10\" style=\"stroke: #383838; stroke-width: 1.5;\" width=\"43\" x=\"133.5\" y=\"62\"/><text fill=\"#000000\" font-family=\"sans-serif\" font-size=\"12\" font-style=\"italic\" lengthAdjust=\"spacingAndGlyphs\" textLength=\"41\" x=\"134.5\" y=\"78.1387\">«item»</text><text fill=\"#000000\" font-family=\"sans-serif\" font-size=\"12\" lengthAdjust=\"spacingAndGlyphs\" textLength=\"20\" x=\"145\" y=\"92.1074\">f: A</text><line style=\"stroke: #383838; stroke-width: 1.5;\" x1=\"134.5\" x2=\"175.5\" y1=\"99.9375\" y2=\"99.9375\"/></a><!--MD5=[09b614a08d8cba4a07c9adeb5e0fee81]\n",
       "class E3--><a href=\"psysml:30552314-ef8a-4f2d-b223-fa6e862cb5b8\" target=\"_top\" title=\"psysml:30552314-ef8a-4f2d-b223-fa6e862cb5b8\" xlink:actuate=\"onRequest\" xlink:href=\"psysml:30552314-ef8a-4f2d-b223-fa6e862cb5b8\" xlink:show=\"new\" xlink:title=\"psysml:30552314-ef8a-4f2d-b223-fa6e862cb5b8\" xlink:type=\"simple\"><rect fill=\"#FFFFFF\" height=\"75.5469\" id=\"E3\" style=\"stroke: #383838; stroke-width: 1.5;\" width=\"67\" x=\"115.5\" y=\"190\"/><text fill=\"#000000\" font-family=\"sans-serif\" font-size=\"12\" font-style=\"italic\" lengthAdjust=\"spacingAndGlyphs\" textLength=\"65\" x=\"116.5\" y=\"206.1387\">«item def»</text><text fill=\"#000000\" font-family=\"sans-serif\" font-size=\"12\" lengthAdjust=\"spacingAndGlyphs\" textLength=\"8\" x=\"145\" y=\"220.1074\">A</text><line style=\"stroke: #383838; stroke-width: 1.5;\" x1=\"116.5\" x2=\"181.5\" y1=\"227.9375\" y2=\"227.9375\"/><text fill=\"#000000\" font-family=\"sans-serif\" font-size=\"11\" lengthAdjust=\"spacingAndGlyphs\" textLength=\"23\" x=\"121.5\" y=\"258.9526\">b: B</text><line style=\"stroke: #383838; stroke-width: 1.0;\" x1=\"116.5\" x2=\"133\" y1=\"242.3398\" y2=\"242.3398\"/><text fill=\"#000000\" font-family=\"sans-serif\" font-size=\"11\" lengthAdjust=\"spacingAndGlyphs\" textLength=\"32\" x=\"133\" y=\"245.6479\">items</text><line style=\"stroke: #383838; stroke-width: 1.0;\" x1=\"165\" x2=\"181.5\" y1=\"242.3398\" y2=\"242.3398\"/></a><!--MD5=[270fce915f116d4de14055a7c1d9a0f3]\n",
       "class E5--><a href=\"psysml:cb0fe327-dda6-4eae-9e46-1ce946f22982\" target=\"_top\" title=\"psysml:cb0fe327-dda6-4eae-9e46-1ce946f22982\" xlink:actuate=\"onRequest\" xlink:href=\"psysml:cb0fe327-dda6-4eae-9e46-1ce946f22982\" xlink:show=\"new\" xlink:title=\"psysml:cb0fe327-dda6-4eae-9e46-1ce946f22982\" xlink:type=\"simple\"><rect fill=\"#FFFFFF\" height=\"45.9375\" id=\"E5\" rx=\"10\" ry=\"10\" style=\"stroke: #383838; stroke-width: 1.5;\" width=\"42\" x=\"32\" y=\"327\"/><text fill=\"#000000\" font-family=\"sans-serif\" font-size=\"12\" font-style=\"italic\" lengthAdjust=\"spacingAndGlyphs\" textLength=\"40\" x=\"33\" y=\"343.1387\">«part»</text><text fill=\"#000000\" font-family=\"sans-serif\" font-size=\"12\" lengthAdjust=\"spacingAndGlyphs\" textLength=\"23\" x=\"41.5\" y=\"357.1074\">c: C</text><line style=\"stroke: #383838; stroke-width: 1.5;\" x1=\"33\" x2=\"73\" y1=\"364.9375\" y2=\"364.9375\"/></a><!--MD5=[60a26617385b1d2d0262a64233df1f8d]\n",
       "class E6--><a href=\"psysml:0c776550-23a6-42b8-908b-320a74e2d4ee\" target=\"_top\" title=\"psysml:0c776550-23a6-42b8-908b-320a74e2d4ee\" xlink:actuate=\"onRequest\" xlink:href=\"psysml:0c776550-23a6-42b8-908b-320a74e2d4ee\" xlink:show=\"new\" xlink:title=\"psysml:0c776550-23a6-42b8-908b-320a74e2d4ee\" xlink:type=\"simple\"><rect fill=\"#FFFFFF\" height=\"45.9375\" id=\"E6\" style=\"stroke: #383838; stroke-width: 1.5;\" width=\"67\" x=\"85.5\" y=\"557\"/><text fill=\"#000000\" font-family=\"sans-serif\" font-size=\"12\" font-style=\"italic\" lengthAdjust=\"spacingAndGlyphs\" textLength=\"65\" x=\"86.5\" y=\"573.1387\">«item def»</text><text fill=\"#000000\" font-family=\"sans-serif\" font-size=\"12\" lengthAdjust=\"spacingAndGlyphs\" textLength=\"8\" x=\"115\" y=\"587.1074\">B</text><line style=\"stroke: #383838; stroke-width: 1.5;\" x1=\"86.5\" x2=\"151.5\" y1=\"594.9375\" y2=\"594.9375\"/></a><!--MD5=[2156ba9850f5573cc1fc38a6a4b2f02b]\n",
       "class E7--><a href=\"psysml:7f7b610c-5cf3-4f1d-92e7-984e3817e328\" target=\"_top\" title=\"psysml:7f7b610c-5cf3-4f1d-92e7-984e3817e328\" xlink:actuate=\"onRequest\" xlink:href=\"psysml:7f7b610c-5cf3-4f1d-92e7-984e3817e328\" xlink:show=\"new\" xlink:title=\"psysml:7f7b610c-5cf3-4f1d-92e7-984e3817e328\" xlink:type=\"simple\"><rect fill=\"#FFFFFF\" height=\"45.9375\" id=\"E7\" rx=\"10\" ry=\"10\" style=\"stroke: #383838; stroke-width: 1.5;\" width=\"42\" x=\"123\" y=\"664\"/><text fill=\"#000000\" font-family=\"sans-serif\" font-size=\"12\" font-style=\"italic\" lengthAdjust=\"spacingAndGlyphs\" textLength=\"40\" x=\"124\" y=\"680.1387\">«part»</text><text fill=\"#000000\" font-family=\"sans-serif\" font-size=\"12\" lengthAdjust=\"spacingAndGlyphs\" textLength=\"24\" x=\"132\" y=\"694.1074\">a: A</text><line style=\"stroke: #383838; stroke-width: 1.5;\" x1=\"124\" x2=\"164\" y1=\"701.9375\" y2=\"701.9375\"/></a><!--MD5=[b9389687b975829384b498ac4b7476b2]\n",
       "class E8--><a href=\"psysml:3f3cfa4e-9100-4bf2-8dae-183ab53e5ac5\" target=\"_top\" title=\"psysml:3f3cfa4e-9100-4bf2-8dae-183ab53e5ac5\" xlink:actuate=\"onRequest\" xlink:href=\"psysml:3f3cfa4e-9100-4bf2-8dae-183ab53e5ac5\" xlink:show=\"new\" xlink:title=\"psysml:3f3cfa4e-9100-4bf2-8dae-183ab53e5ac5\" xlink:type=\"simple\"><rect fill=\"#FFFFFF\" height=\"45.9375\" id=\"E8\" style=\"stroke: #383838; stroke-width: 1.5;\" width=\"66\" x=\"86\" y=\"434\"/><text fill=\"#000000\" font-family=\"sans-serif\" font-size=\"12\" font-style=\"italic\" lengthAdjust=\"spacingAndGlyphs\" textLength=\"64\" x=\"87\" y=\"450.1387\">«part def»</text><text fill=\"#000000\" font-family=\"sans-serif\" font-size=\"12\" lengthAdjust=\"spacingAndGlyphs\" textLength=\"8\" x=\"115\" y=\"464.1074\">C</text><line style=\"stroke: #383838; stroke-width: 1.5;\" x1=\"87\" x2=\"151\" y1=\"471.9375\" y2=\"471.9375\"/></a><!--MD5=[fd4143e9d270a159db93a4ea2a975926]\n",
       "class E9--><a href=\"psysml:b18b87fb-d7bd-4905-b0cb-818d68f57f75\" target=\"_top\" title=\"psysml:b18b87fb-d7bd-4905-b0cb-818d68f57f75\" xlink:actuate=\"onRequest\" xlink:href=\"psysml:b18b87fb-d7bd-4905-b0cb-818d68f57f75\" xlink:show=\"new\" xlink:title=\"psysml:b18b87fb-d7bd-4905-b0cb-818d68f57f75\" xlink:type=\"simple\"><rect fill=\"#FFFFFF\" height=\"88.3516\" id=\"E9\" style=\"stroke: #383838; stroke-width: 1.5;\" width=\"66\" x=\"32\" y=\"41\"/><text fill=\"#000000\" font-family=\"sans-serif\" font-size=\"12\" font-style=\"italic\" lengthAdjust=\"spacingAndGlyphs\" textLength=\"64\" x=\"33\" y=\"57.1387\">«port def»</text><text fill=\"#000000\" font-family=\"sans-serif\" font-size=\"12\" lengthAdjust=\"spacingAndGlyphs\" textLength=\"8\" x=\"61\" y=\"71.1074\">P</text><line style=\"stroke: #383838; stroke-width: 1.5;\" x1=\"33\" x2=\"97\" y1=\"78.9375\" y2=\"78.9375\"/><text fill=\"#000000\" font-family=\"sans-serif\" font-size=\"11\" lengthAdjust=\"spacingAndGlyphs\" textLength=\"29\" x=\"38\" y=\"109.9526\">a1: A</text><text fill=\"#000000\" font-family=\"sans-serif\" font-size=\"11\" lengthAdjust=\"spacingAndGlyphs\" textLength=\"29\" x=\"38\" y=\"122.7573\">a2: A</text><line style=\"stroke: #383838; stroke-width: 1.0;\" x1=\"33\" x2=\"49\" y1=\"93.3398\" y2=\"93.3398\"/><text fill=\"#000000\" font-family=\"sans-serif\" font-size=\"11\" lengthAdjust=\"spacingAndGlyphs\" textLength=\"32\" x=\"49\" y=\"96.6479\">items</text><line style=\"stroke: #383838; stroke-width: 1.0;\" x1=\"81\" x2=\"97\" y1=\"93.3398\" y2=\"93.3398\"/></a><!--MD5=[2720a5a1f2c3fca2055b230370638851]\n",
       "link E2 to E3--><a href=\"psysml:cbc83e8e-35d8-4884-92a4-03d9c321669a\" target=\"_top\" title=\"psysml:cbc83e8e-35d8-4884-92a4-03d9c321669a\" xlink:actuate=\"onRequest\" xlink:href=\"psysml:cbc83e8e-35d8-4884-92a4-03d9c321669a\" xlink:show=\"new\" xlink:title=\"psysml:cbc83e8e-35d8-4884-92a4-03d9c321669a\" xlink:type=\"simple\"><path d=\"M154.06,108.03 C153.36,124.58 152.36,148.04 151.44,169.76 \" fill=\"none\" id=\"E2-&gt;E3\" style=\"stroke: #383838; stroke-width: 1.0;\"/><polygon fill=\"#FFFFFF\" points=\"150.58,189.77,144.4005,170.4875,158.3877,171.0874,150.58,189.77\" style=\"stroke: #383838; stroke-width: 1.0;\"/><ellipse cx=\"146.6429\" cy=\"164.8784\" fill=\"#383838\" rx=\"2\" ry=\"2\" style=\"stroke: #383838; stroke-width: 1.0;\"/><ellipse cx=\"156.6338\" cy=\"165.3069\" fill=\"#383838\" rx=\"2\" ry=\"2\" style=\"stroke: #383838; stroke-width: 1.0;\"/></a><!--MD5=[191cde3d490a3f6d7bb551fe3ddca469]\n",
       "reverse link E3 to E5--><a href=\"psysml:cb0fe327-dda6-4eae-9e46-1ce946f22982\" target=\"_top\" title=\"psysml:cb0fe327-dda6-4eae-9e46-1ce946f22982\" xlink:actuate=\"onRequest\" xlink:href=\"psysml:cb0fe327-dda6-4eae-9e46-1ce946f22982\" xlink:show=\"new\" xlink:title=\"psysml:cb0fe327-dda6-4eae-9e46-1ce946f22982\" xlink:type=\"simple\"><path d=\"M110.75,276.82 C96.95,294.07 82.02,312.72 70.8,326.75 \" fill=\"none\" id=\"E3&lt;-E5\" style=\"stroke: #383838; stroke-width: 1.0;\"/><polygon fill=\"#FFFFFF\" points=\"119.15,266.31,112.2784,268.4964,111.6537,275.6804,118.5253,273.494,119.15,266.31\" style=\"stroke: #383838; stroke-width: 1.0;\"/></a><!--MD5=[14ccda38c055a5c0da953d572bc50960]\n",
       "link E7 to E3--><a href=\"psysml:b2ac9add-d533-4cc3-a1ec-28b279e4ff39\" target=\"_top\" title=\"psysml:b2ac9add-d533-4cc3-a1ec-28b279e4ff39\" xlink:actuate=\"onRequest\" xlink:href=\"psysml:b2ac9add-d533-4cc3-a1ec-28b279e4ff39\" xlink:show=\"new\" xlink:title=\"psysml:b2ac9add-d533-4cc3-a1ec-28b279e4ff39\" xlink:type=\"simple\"><path d=\"M159.74,663.82 C172.72,643.34 189,611.54 189,581 C189,349 189,349 189,349 C189,327.34 183.06,304.56 175.76,284.74 \" fill=\"none\" id=\"E7-&gt;E3\" style=\"stroke: #383838; stroke-width: 1.0;\"/><polygon fill=\"#FFFFFF\" points=\"168.18,266.05,181.8034,281.0301,168.8283,286.2881,168.18,266.05\" style=\"stroke: #383838; stroke-width: 1.0;\"/><ellipse cx=\"182.0906\" cy=\"287.0639\" fill=\"#383838\" rx=\"2\" ry=\"2\" style=\"stroke: #383838; stroke-width: 1.0;\"/><ellipse cx=\"172.8227\" cy=\"290.8196\" fill=\"#383838\" rx=\"2\" ry=\"2\" style=\"stroke: #383838; stroke-width: 1.0;\"/></a><!--MD5=[3f50a3473f1dfb74d3f76443e03635af]\n",
       "reverse link E6 to E7--><a href=\"psysml:7f7b610c-5cf3-4f1d-92e7-984e3817e328\" target=\"_top\" title=\"psysml:7f7b610c-5cf3-4f1d-92e7-984e3817e328\" xlink:actuate=\"onRequest\" xlink:href=\"psysml:7f7b610c-5cf3-4f1d-92e7-984e3817e328\" xlink:show=\"new\" xlink:title=\"psysml:7f7b610c-5cf3-4f1d-92e7-984e3817e328\" xlink:type=\"simple\"><path d=\"M127.34,616.05 C131.08,631.76 135.39,649.82 138.68,663.66 \" fill=\"none\" id=\"E6&lt;-E7\" style=\"stroke: #383838; stroke-width: 1.0;\"/><polygon fill=\"#383838\" points=\"124.24,603.01,121.7406,609.7741,127.023,614.6828,129.5224,607.9187,124.24,603.01\" style=\"stroke: #383838; stroke-width: 1.0;\"/></a><!--MD5=[dfaffb906826c3e5aca635516100ff21]\n",
       "link E5 to E8--><a href=\"psysml:8f4ff897-72ba-4249-b35c-9a7192bde9f3\" target=\"_top\" title=\"psysml:8f4ff897-72ba-4249-b35c-9a7192bde9f3\" xlink:actuate=\"onRequest\" xlink:href=\"psysml:8f4ff897-72ba-4249-b35c-9a7192bde9f3\" xlink:show=\"new\" xlink:title=\"psysml:8f4ff897-72ba-4249-b35c-9a7192bde9f3\" xlink:type=\"simple\"><path d=\"M66.84,373.01 C74.79,385.67 85.02,401.94 94.31,416.72 \" fill=\"none\" id=\"E5-&gt;E8\" style=\"stroke: #383838; stroke-width: 1.0;\"/><polygon fill=\"#FFFFFF\" points=\"104.96,433.66,88.9212,421.3005,100.7735,413.8491,104.96,433.66\" style=\"stroke: #383838; stroke-width: 1.0;\"/><ellipse cx=\"87.5806\" cy=\"415.4104\" fill=\"#383838\" rx=\"2\" ry=\"2\" style=\"stroke: #383838; stroke-width: 1.0;\"/><ellipse cx=\"96.0465\" cy=\"410.088\" fill=\"#383838\" rx=\"2\" ry=\"2\" style=\"stroke: #383838; stroke-width: 1.0;\"/></a><!--MD5=[03c8294790d3c57651a1993cecff665f]\n",
       "reverse link E8 to E3--><a href=\"psysml:44d9af1e-71a6-403b-81da-6292c3b1f2cb\" target=\"_top\" title=\"psysml:44d9af1e-71a6-403b-81da-6292c3b1f2cb\" xlink:actuate=\"onRequest\" xlink:href=\"psysml:44d9af1e-71a6-403b-81da-6292c3b1f2cb\" xlink:show=\"new\" xlink:title=\"psysml:44d9af1e-71a6-403b-81da-6292c3b1f2cb\" xlink:type=\"simple\"><path d=\"M123.65,420.81 C129.2,378.86 138.42,309.06 144.08,266.23 \" fill=\"none\" id=\"E8&lt;-E3\" style=\"stroke: #383838; stroke-width: 1.0;\"/><polygon fill=\"#FFFFFF\" points=\"121.92,433.89,126.6755,428.4692,123.5008,421.9946,118.7453,427.4154,121.92,433.89\" style=\"stroke: #383838; stroke-width: 1.0;\"/><text fill=\"#000000\" font-family=\"sans-serif\" font-size=\"13\" lengthAdjust=\"spacingAndGlyphs\" textLength=\"7\" x=\"136\" y=\"354.5669\">y</text></a><!--MD5=[0d75d2178373a6a4568e5dc728f58aef]\n",
       "reverse link E8 to E6--><a href=\"psysml:44d9af1e-71a6-403b-81da-6292c3b1f2cb\" target=\"_top\" title=\"psysml:44d9af1e-71a6-403b-81da-6292c3b1f2cb\" xlink:actuate=\"onRequest\" xlink:href=\"psysml:44d9af1e-71a6-403b-81da-6292c3b1f2cb\" xlink:show=\"new\" xlink:title=\"psysml:44d9af1e-71a6-403b-81da-6292c3b1f2cb\" xlink:type=\"simple\"><path d=\"M119,493.22 C119,513.81 119,539.16 119,556.95 \" fill=\"none\" id=\"E8&lt;-E6\" style=\"stroke: #383838; stroke-width: 1.0;\"/><polygon fill=\"#FFFFFF\" points=\"119,480.19,115,486.19,119,492.19,123,486.19,119,480.19\" style=\"stroke: #383838; stroke-width: 1.0;\"/><text fill=\"#000000\" font-family=\"sans-serif\" font-size=\"13\" lengthAdjust=\"spacingAndGlyphs\" textLength=\"7\" x=\"120\" y=\"523.0669\">y</text></a><!--MD5=[73af28b8fd50444283677a7189c5c3fa]\n",
       "@startuml\r\n",
       "top to bottom direction\r\n",
       "skinparam monochrome true\r\n",
       "skinparam classbackgroundcolor white\r\n",
       "skinparam shadowing false\r\n",
       "skinparam wrapWidth 300\r\n",
       "hide circle\r\n",
       "\r\n",
       "package \"ItemTest\" as E1  [[psysml:75fb623a-e350-4a47-9f82-c4d20b2b5b80 ]]  {\r\n",
       "comp usage \"f: A\" as E2  <<(T,blue)item>> [[psysml:d8a17efa-9aba-4cd7-b18a-68f8ed4c599b ]] {\r\n",
       "}\r\n",
       "comp def \"A\" as E3  <<(T,blue)item def>> [[psysml:30552314-ef8a-4f2d-b223-fa6e862cb5b8 ]] {\r\n",
       "- - items - -\r\n",
       "b: B\r\n",
       "}\r\n",
       "comp usage \"c: C\" as E5  <<(T,blue)part>> [[psysml:cb0fe327-dda6-4eae-9e46-1ce946f22982 ]] {\r\n",
       "}\r\n",
       "comp def \"B\" as E6  <<(T,blue)item def>> [[psysml:0c776550-23a6-42b8-908b-320a74e2d4ee ]] {\r\n",
       "}\r\n",
       "comp usage \"a: A\" as E7  <<(T,blue)part>> [[psysml:7f7b610c-5cf3-4f1d-92e7-984e3817e328 ]] {\r\n",
       "}\r\n",
       "comp def \"C\" as E8  <<(T,blue)part def>> [[psysml:3f3cfa4e-9100-4bf2-8dae-183ab53e5ac5 ]] {\r\n",
       "}\r\n",
       "comp def \"P\" as E9  <<(T,blue)port def>> [[psysml:b18b87fb-d7bd-4905-b0cb-818d68f57f75 ]] {\r\n",
       "- - items - -\r\n",
       "a1: A\r\n",
       "a2: A\r\n",
       "}\r\n",
       "E2 - -:|> E3 [[psysml:cbc83e8e-35d8-4884-92a4-03d9c321669a ]] \r\n",
       "E3 o- - E5 [[psysml:cb0fe327-dda6-4eae-9e46-1ce946f22982 ]] \r\n",
       "E7 - -:|> E3 [[psysml:b2ac9add-d533-4cc3-a1ec-28b279e4ff39 ]] \r\n",
       "E6 *- - E7 [[psysml:7f7b610c-5cf3-4f1d-92e7-984e3817e328 ]] \r\n",
       "E5 - -:|> E8 [[psysml:8f4ff897-72ba-4249-b35c-9a7192bde9f3 ]] \r\n",
       "E8 o- - E3 [[psysml:44d9af1e-71a6-403b-81da-6292c3b1f2cb ]] : y\r\n",
       "E8 o- - E6 [[psysml:44d9af1e-71a6-403b-81da-6292c3b1f2cb ]] : y\r\n",
       "}\r\n",
       "@enduml\r\n",
       "\n",
       "PlantUML version 1.2020.13(Sat Jun 13 12:26:38 UTC 2020)\n",
       "(EPL source distribution)\n",
       "Java Runtime: OpenJDK Runtime Environment\n",
       "JVM: OpenJDK 64-Bit Server VM\n",
       "Default Encoding: UTF-8\n",
       "Language: en\n",
       "Country: null\n",
       "--></g></svg>"
      ]
     },
     "execution_count": 50,
     "metadata": {},
     "output_type": "execute_result"
    }
   ],
   "source": [
    "%viz --style=\"TB\" --view=\"MIXED\" \"ItemTest\""
   ]
  },
  {
   "cell_type": "code",
   "execution_count": 51,
   "id": "comparative-rainbow",
   "metadata": {
    "execution": {
     "iopub.execute_input": "2021-03-26T12:12:08.856909Z",
     "iopub.status.busy": "2021-03-26T12:12:08.856214Z",
     "iopub.status.idle": "2021-03-26T12:12:08.910470Z",
     "shell.execute_reply": "2021-03-26T12:12:08.910779Z"
    }
   },
   "outputs": [
    {
     "data": {
      "image/svg+xml": [
       "<?xml version=\"1.0\" encoding=\"UTF-8\" standalone=\"no\"?><svg xmlns=\"http://www.w3.org/2000/svg\" xmlns:xlink=\"http://www.w3.org/1999/xlink\" contentScriptType=\"application/ecmascript\" contentStyleType=\"text/css\" height=\"738px\" preserveAspectRatio=\"none\" style=\"width:228px;height:738px;\" version=\"1.1\" viewBox=\"0 0 228 738\" width=\"228px\" zoomAndPan=\"magnify\"><defs/><g><!--MD5=[fbc87193dbaf4d95561dea2c320d4a47]\n",
       "cluster E1--><a href=\"psysml:75fb623a-e350-4a47-9f82-c4d20b2b5b80\" target=\"_top\" title=\"psysml:75fb623a-e350-4a47-9f82-c4d20b2b5b80\" xlink:actuate=\"onRequest\" xlink:href=\"psysml:75fb623a-e350-4a47-9f82-c4d20b2b5b80\" xlink:show=\"new\" xlink:title=\"psysml:75fb623a-e350-4a47-9f82-c4d20b2b5b80\" xlink:type=\"simple\"><polygon fill=\"#FFFFFF\" points=\"16,6,91,6,98,28.2969,206,28.2969,206,726,16,726,16,6\" style=\"stroke: #000000; stroke-width: 1.5;\"/><line style=\"stroke: #000000; stroke-width: 1.5;\" x1=\"16\" x2=\"98\" y1=\"28.2969\" y2=\"28.2969\"/><text fill=\"#000000\" font-family=\"sans-serif\" font-size=\"14\" font-weight=\"bold\" lengthAdjust=\"spacingAndGlyphs\" textLength=\"69\" x=\"20\" y=\"20.9951\">ItemTest</text></a><!--MD5=[b4997ac47864f28c2f74865a473b2911]\n",
       "class E2--><a href=\"psysml:d8a17efa-9aba-4cd7-b18a-68f8ed4c599b\" target=\"_top\" title=\"psysml:d8a17efa-9aba-4cd7-b18a-68f8ed4c599b\" xlink:actuate=\"onRequest\" xlink:href=\"psysml:d8a17efa-9aba-4cd7-b18a-68f8ed4c599b\" xlink:show=\"new\" xlink:title=\"psysml:d8a17efa-9aba-4cd7-b18a-68f8ed4c599b\" xlink:type=\"simple\"><rect fill=\"#FFFFFF\" height=\"45.9375\" id=\"E2\" rx=\"10\" ry=\"10\" style=\"stroke: #383838; stroke-width: 1.5;\" width=\"43\" x=\"133.5\" y=\"62\"/><text fill=\"#000000\" font-family=\"sans-serif\" font-size=\"12\" font-style=\"italic\" lengthAdjust=\"spacingAndGlyphs\" textLength=\"41\" x=\"134.5\" y=\"78.1387\">«item»</text><text fill=\"#000000\" font-family=\"sans-serif\" font-size=\"12\" lengthAdjust=\"spacingAndGlyphs\" textLength=\"20\" x=\"145\" y=\"92.1074\">f: A</text><line style=\"stroke: #383838; stroke-width: 1.5;\" x1=\"134.5\" x2=\"175.5\" y1=\"99.9375\" y2=\"99.9375\"/></a><!--MD5=[09b614a08d8cba4a07c9adeb5e0fee81]\n",
       "class E3--><a href=\"psysml:30552314-ef8a-4f2d-b223-fa6e862cb5b8\" target=\"_top\" title=\"psysml:30552314-ef8a-4f2d-b223-fa6e862cb5b8\" xlink:actuate=\"onRequest\" xlink:href=\"psysml:30552314-ef8a-4f2d-b223-fa6e862cb5b8\" xlink:show=\"new\" xlink:title=\"psysml:30552314-ef8a-4f2d-b223-fa6e862cb5b8\" xlink:type=\"simple\"><rect fill=\"#FFFFFF\" height=\"75.5469\" id=\"E3\" style=\"stroke: #383838; stroke-width: 1.5;\" width=\"67\" x=\"115.5\" y=\"190\"/><text fill=\"#000000\" font-family=\"sans-serif\" font-size=\"12\" font-style=\"italic\" lengthAdjust=\"spacingAndGlyphs\" textLength=\"65\" x=\"116.5\" y=\"206.1387\">«item def»</text><text fill=\"#000000\" font-family=\"sans-serif\" font-size=\"12\" lengthAdjust=\"spacingAndGlyphs\" textLength=\"8\" x=\"145\" y=\"220.1074\">A</text><line style=\"stroke: #383838; stroke-width: 1.5;\" x1=\"116.5\" x2=\"181.5\" y1=\"227.9375\" y2=\"227.9375\"/><text fill=\"#000000\" font-family=\"sans-serif\" font-size=\"11\" lengthAdjust=\"spacingAndGlyphs\" textLength=\"23\" x=\"121.5\" y=\"258.9526\">b: B</text><line style=\"stroke: #383838; stroke-width: 1.0;\" x1=\"116.5\" x2=\"133\" y1=\"242.3398\" y2=\"242.3398\"/><text fill=\"#000000\" font-family=\"sans-serif\" font-size=\"11\" lengthAdjust=\"spacingAndGlyphs\" textLength=\"32\" x=\"133\" y=\"245.6479\">items</text><line style=\"stroke: #383838; stroke-width: 1.0;\" x1=\"165\" x2=\"181.5\" y1=\"242.3398\" y2=\"242.3398\"/></a><!--MD5=[270fce915f116d4de14055a7c1d9a0f3]\n",
       "class E5--><a href=\"psysml:cb0fe327-dda6-4eae-9e46-1ce946f22982\" target=\"_top\" title=\"psysml:cb0fe327-dda6-4eae-9e46-1ce946f22982\" xlink:actuate=\"onRequest\" xlink:href=\"psysml:cb0fe327-dda6-4eae-9e46-1ce946f22982\" xlink:show=\"new\" xlink:title=\"psysml:cb0fe327-dda6-4eae-9e46-1ce946f22982\" xlink:type=\"simple\"><rect fill=\"#FFFFFF\" height=\"45.9375\" id=\"E5\" rx=\"10\" ry=\"10\" style=\"stroke: #383838; stroke-width: 1.5;\" width=\"42\" x=\"32\" y=\"327\"/><text fill=\"#000000\" font-family=\"sans-serif\" font-size=\"12\" font-style=\"italic\" lengthAdjust=\"spacingAndGlyphs\" textLength=\"40\" x=\"33\" y=\"343.1387\">«part»</text><text fill=\"#000000\" font-family=\"sans-serif\" font-size=\"12\" lengthAdjust=\"spacingAndGlyphs\" textLength=\"23\" x=\"41.5\" y=\"357.1074\">c: C</text><line style=\"stroke: #383838; stroke-width: 1.5;\" x1=\"33\" x2=\"73\" y1=\"364.9375\" y2=\"364.9375\"/></a><!--MD5=[60a26617385b1d2d0262a64233df1f8d]\n",
       "class E6--><a href=\"psysml:0c776550-23a6-42b8-908b-320a74e2d4ee\" target=\"_top\" title=\"psysml:0c776550-23a6-42b8-908b-320a74e2d4ee\" xlink:actuate=\"onRequest\" xlink:href=\"psysml:0c776550-23a6-42b8-908b-320a74e2d4ee\" xlink:show=\"new\" xlink:title=\"psysml:0c776550-23a6-42b8-908b-320a74e2d4ee\" xlink:type=\"simple\"><rect fill=\"#FFFFFF\" height=\"45.9375\" id=\"E6\" style=\"stroke: #383838; stroke-width: 1.5;\" width=\"67\" x=\"85.5\" y=\"557\"/><text fill=\"#000000\" font-family=\"sans-serif\" font-size=\"12\" font-style=\"italic\" lengthAdjust=\"spacingAndGlyphs\" textLength=\"65\" x=\"86.5\" y=\"573.1387\">«item def»</text><text fill=\"#000000\" font-family=\"sans-serif\" font-size=\"12\" lengthAdjust=\"spacingAndGlyphs\" textLength=\"8\" x=\"115\" y=\"587.1074\">B</text><line style=\"stroke: #383838; stroke-width: 1.5;\" x1=\"86.5\" x2=\"151.5\" y1=\"594.9375\" y2=\"594.9375\"/></a><!--MD5=[2156ba9850f5573cc1fc38a6a4b2f02b]\n",
       "class E7--><a href=\"psysml:7f7b610c-5cf3-4f1d-92e7-984e3817e328\" target=\"_top\" title=\"psysml:7f7b610c-5cf3-4f1d-92e7-984e3817e328\" xlink:actuate=\"onRequest\" xlink:href=\"psysml:7f7b610c-5cf3-4f1d-92e7-984e3817e328\" xlink:show=\"new\" xlink:title=\"psysml:7f7b610c-5cf3-4f1d-92e7-984e3817e328\" xlink:type=\"simple\"><rect fill=\"#FFFFFF\" height=\"45.9375\" id=\"E7\" rx=\"10\" ry=\"10\" style=\"stroke: #383838; stroke-width: 1.5;\" width=\"42\" x=\"123\" y=\"664\"/><text fill=\"#000000\" font-family=\"sans-serif\" font-size=\"12\" font-style=\"italic\" lengthAdjust=\"spacingAndGlyphs\" textLength=\"40\" x=\"124\" y=\"680.1387\">«part»</text><text fill=\"#000000\" font-family=\"sans-serif\" font-size=\"12\" lengthAdjust=\"spacingAndGlyphs\" textLength=\"24\" x=\"132\" y=\"694.1074\">a: A</text><line style=\"stroke: #383838; stroke-width: 1.5;\" x1=\"124\" x2=\"164\" y1=\"701.9375\" y2=\"701.9375\"/></a><!--MD5=[b9389687b975829384b498ac4b7476b2]\n",
       "class E8--><a href=\"psysml:3f3cfa4e-9100-4bf2-8dae-183ab53e5ac5\" target=\"_top\" title=\"psysml:3f3cfa4e-9100-4bf2-8dae-183ab53e5ac5\" xlink:actuate=\"onRequest\" xlink:href=\"psysml:3f3cfa4e-9100-4bf2-8dae-183ab53e5ac5\" xlink:show=\"new\" xlink:title=\"psysml:3f3cfa4e-9100-4bf2-8dae-183ab53e5ac5\" xlink:type=\"simple\"><rect fill=\"#FFFFFF\" height=\"45.9375\" id=\"E8\" style=\"stroke: #383838; stroke-width: 1.5;\" width=\"66\" x=\"86\" y=\"434\"/><text fill=\"#000000\" font-family=\"sans-serif\" font-size=\"12\" font-style=\"italic\" lengthAdjust=\"spacingAndGlyphs\" textLength=\"64\" x=\"87\" y=\"450.1387\">«part def»</text><text fill=\"#000000\" font-family=\"sans-serif\" font-size=\"12\" lengthAdjust=\"spacingAndGlyphs\" textLength=\"8\" x=\"115\" y=\"464.1074\">C</text><line style=\"stroke: #383838; stroke-width: 1.5;\" x1=\"87\" x2=\"151\" y1=\"471.9375\" y2=\"471.9375\"/></a><!--MD5=[fd4143e9d270a159db93a4ea2a975926]\n",
       "class E9--><a href=\"psysml:b18b87fb-d7bd-4905-b0cb-818d68f57f75\" target=\"_top\" title=\"psysml:b18b87fb-d7bd-4905-b0cb-818d68f57f75\" xlink:actuate=\"onRequest\" xlink:href=\"psysml:b18b87fb-d7bd-4905-b0cb-818d68f57f75\" xlink:show=\"new\" xlink:title=\"psysml:b18b87fb-d7bd-4905-b0cb-818d68f57f75\" xlink:type=\"simple\"><rect fill=\"#FFFFFF\" height=\"88.3516\" id=\"E9\" style=\"stroke: #383838; stroke-width: 1.5;\" width=\"66\" x=\"32\" y=\"41\"/><text fill=\"#000000\" font-family=\"sans-serif\" font-size=\"12\" font-style=\"italic\" lengthAdjust=\"spacingAndGlyphs\" textLength=\"64\" x=\"33\" y=\"57.1387\">«port def»</text><text fill=\"#000000\" font-family=\"sans-serif\" font-size=\"12\" lengthAdjust=\"spacingAndGlyphs\" textLength=\"8\" x=\"61\" y=\"71.1074\">P</text><line style=\"stroke: #383838; stroke-width: 1.5;\" x1=\"33\" x2=\"97\" y1=\"78.9375\" y2=\"78.9375\"/><text fill=\"#000000\" font-family=\"sans-serif\" font-size=\"11\" lengthAdjust=\"spacingAndGlyphs\" textLength=\"29\" x=\"38\" y=\"109.9526\">a1: A</text><text fill=\"#000000\" font-family=\"sans-serif\" font-size=\"11\" lengthAdjust=\"spacingAndGlyphs\" textLength=\"29\" x=\"38\" y=\"122.7573\">a2: A</text><line style=\"stroke: #383838; stroke-width: 1.0;\" x1=\"33\" x2=\"49\" y1=\"93.3398\" y2=\"93.3398\"/><text fill=\"#000000\" font-family=\"sans-serif\" font-size=\"11\" lengthAdjust=\"spacingAndGlyphs\" textLength=\"32\" x=\"49\" y=\"96.6479\">items</text><line style=\"stroke: #383838; stroke-width: 1.0;\" x1=\"81\" x2=\"97\" y1=\"93.3398\" y2=\"93.3398\"/></a><!--MD5=[2720a5a1f2c3fca2055b230370638851]\n",
       "link E2 to E3--><a href=\"psysml:cbc83e8e-35d8-4884-92a4-03d9c321669a\" target=\"_top\" title=\"psysml:cbc83e8e-35d8-4884-92a4-03d9c321669a\" xlink:actuate=\"onRequest\" xlink:href=\"psysml:cbc83e8e-35d8-4884-92a4-03d9c321669a\" xlink:show=\"new\" xlink:title=\"psysml:cbc83e8e-35d8-4884-92a4-03d9c321669a\" xlink:type=\"simple\"><path d=\"M155,108.29 C155,108.29 155,169.91 155,169.91 \" fill=\"none\" id=\"E2-&gt;E3\" style=\"stroke: #383838; stroke-width: 1.0;\"/><polygon fill=\"#FFFFFF\" points=\"155,189.91,148,170.91,162,170.91,155,189.91\" style=\"stroke: #383838; stroke-width: 1.0;\"/><ellipse cx=\"150\" cy=\"165.21\" fill=\"#383838\" rx=\"2\" ry=\"2\" style=\"stroke: #383838; stroke-width: 1.0;\"/><ellipse cx=\"160\" cy=\"165.21\" fill=\"#383838\" rx=\"2\" ry=\"2\" style=\"stroke: #383838; stroke-width: 1.0;\"/></a><!--MD5=[191cde3d490a3f6d7bb551fe3ddca469]\n",
       "reverse link E3 to E5--><a href=\"psysml:cb0fe327-dda6-4eae-9e46-1ce946f22982\" target=\"_top\" title=\"psysml:cb0fe327-dda6-4eae-9e46-1ce946f22982\" xlink:actuate=\"onRequest\" xlink:href=\"psysml:cb0fe327-dda6-4eae-9e46-1ce946f22982\" xlink:show=\"new\" xlink:title=\"psysml:cb0fe327-dda6-4eae-9e46-1ce946f22982\" xlink:type=\"simple\"><path d=\"M127.67,279.29 C127.67,279.29 127.67,343 127.67,343 C127.67,343 96.27,343 74.2,343 \" fill=\"none\" id=\"E3&lt;-E5\" style=\"stroke: #383838; stroke-width: 1.0;\"/><polygon fill=\"#FFFFFF\" points=\"127.67,266.29,123.67,272.29,127.67,278.29,131.67,272.29,127.67,266.29\" style=\"stroke: #383838; stroke-width: 1.0;\"/></a><!--MD5=[14ccda38c055a5c0da953d572bc50960]\n",
       "link E7 to E3--><a href=\"psysml:b2ac9add-d533-4cc3-a1ec-28b279e4ff39\" target=\"_top\" title=\"psysml:b2ac9add-d533-4cc3-a1ec-28b279e4ff39\" xlink:actuate=\"onRequest\" xlink:href=\"psysml:b2ac9add-d533-4cc3-a1ec-28b279e4ff39\" xlink:show=\"new\" xlink:title=\"psysml:b2ac9add-d533-4cc3-a1ec-28b279e4ff39\" xlink:type=\"simple\"><path d=\"M158.75,663.92 C158.75,663.92 158.75,286.15 158.75,286.15 \" fill=\"none\" id=\"E7-&gt;E3\" style=\"stroke: #383838; stroke-width: 1.0;\"/><polygon fill=\"#FFFFFF\" points=\"158.75,266.15,165.75,285.15,151.75,285.15,158.75,266.15\" style=\"stroke: #383838; stroke-width: 1.0;\"/><ellipse cx=\"163.75\" cy=\"290.85\" fill=\"#383838\" rx=\"2\" ry=\"2\" style=\"stroke: #383838; stroke-width: 1.0;\"/><ellipse cx=\"153.75\" cy=\"290.85\" fill=\"#383838\" rx=\"2\" ry=\"2\" style=\"stroke: #383838; stroke-width: 1.0;\"/></a><!--MD5=[3f50a3473f1dfb74d3f76443e03635af]\n",
       "reverse link E6 to E7--><a href=\"psysml:7f7b610c-5cf3-4f1d-92e7-984e3817e328\" target=\"_top\" title=\"psysml:7f7b610c-5cf3-4f1d-92e7-984e3817e328\" xlink:actuate=\"onRequest\" xlink:href=\"psysml:7f7b610c-5cf3-4f1d-92e7-984e3817e328\" xlink:show=\"new\" xlink:title=\"psysml:7f7b610c-5cf3-4f1d-92e7-984e3817e328\" xlink:type=\"simple\"><path d=\"M137.75,616.22 C137.75,616.22 137.75,663.83 137.75,663.83 \" fill=\"none\" id=\"E6&lt;-E7\" style=\"stroke: #383838; stroke-width: 1.0;\"/><polygon fill=\"#383838\" points=\"137.75,603.22,133.75,609.22,137.75,615.22,141.75,609.22,137.75,603.22\" style=\"stroke: #383838; stroke-width: 1.0;\"/></a><!--MD5=[dfaffb906826c3e5aca635516100ff21]\n",
       "link E5 to E8--><a href=\"psysml:8f4ff897-72ba-4249-b35c-9a7192bde9f3\" target=\"_top\" title=\"psysml:8f4ff897-72ba-4249-b35c-9a7192bde9f3\" xlink:actuate=\"onRequest\" xlink:href=\"psysml:8f4ff897-72ba-4249-b35c-9a7192bde9f3\" xlink:show=\"new\" xlink:title=\"psysml:8f4ff897-72ba-4249-b35c-9a7192bde9f3\" xlink:type=\"simple\"><path d=\"M74.33,358 C83.43,358 92,358 92,358 C92,358 92,413.79 92,413.79 \" fill=\"none\" id=\"E5-&gt;E8\" style=\"stroke: #383838; stroke-width: 1.0;\"/><polygon fill=\"#FFFFFF\" points=\"92,433.79,85,414.79,99,414.79,92,433.79\" style=\"stroke: #383838; stroke-width: 1.0;\"/><ellipse cx=\"87\" cy=\"409.09\" fill=\"#383838\" rx=\"2\" ry=\"2\" style=\"stroke: #383838; stroke-width: 1.0;\"/><ellipse cx=\"97\" cy=\"409.09\" fill=\"#383838\" rx=\"2\" ry=\"2\" style=\"stroke: #383838; stroke-width: 1.0;\"/></a><!--MD5=[03c8294790d3c57651a1993cecff665f]\n",
       "reverse link E8 to E3--><a href=\"psysml:44d9af1e-71a6-403b-81da-6292c3b1f2cb\" target=\"_top\" title=\"psysml:44d9af1e-71a6-403b-81da-6292c3b1f2cb\" xlink:actuate=\"onRequest\" xlink:href=\"psysml:44d9af1e-71a6-403b-81da-6292c3b1f2cb\" xlink:show=\"new\" xlink:title=\"psysml:44d9af1e-71a6-403b-81da-6292c3b1f2cb\" xlink:type=\"simple\"><path d=\"M139.83,420.78 C139.83,420.78 139.83,266.05 139.83,266.05 \" fill=\"none\" id=\"E8&lt;-E3\" style=\"stroke: #383838; stroke-width: 1.0;\"/><polygon fill=\"#FFFFFF\" points=\"139.83,433.78,143.83,427.78,139.83,421.78,135.83,427.78,139.83,433.78\" style=\"stroke: #383838; stroke-width: 1.0;\"/><text fill=\"#000000\" font-family=\"sans-serif\" font-size=\"13\" lengthAdjust=\"spacingAndGlyphs\" textLength=\"7\" x=\"145\" y=\"354.5669\">y</text></a><!--MD5=[0d75d2178373a6a4568e5dc728f58aef]\n",
       "reverse link E8 to E6--><a href=\"psysml:44d9af1e-71a6-403b-81da-6292c3b1f2cb\" target=\"_top\" title=\"psysml:44d9af1e-71a6-403b-81da-6292c3b1f2cb\" xlink:actuate=\"onRequest\" xlink:href=\"psysml:44d9af1e-71a6-403b-81da-6292c3b1f2cb\" xlink:show=\"new\" xlink:title=\"psysml:44d9af1e-71a6-403b-81da-6292c3b1f2cb\" xlink:type=\"simple\"><path d=\"M119,493.14 C119,493.14 119,556.97 119,556.97 \" fill=\"none\" id=\"E8&lt;-E6\" style=\"stroke: #383838; stroke-width: 1.0;\"/><polygon fill=\"#FFFFFF\" points=\"119,480.14,115,486.14,119,492.14,123,486.14,119,480.14\" style=\"stroke: #383838; stroke-width: 1.0;\"/><text fill=\"#000000\" font-family=\"sans-serif\" font-size=\"13\" lengthAdjust=\"spacingAndGlyphs\" textLength=\"7\" x=\"120\" y=\"523.0669\">y</text></a><!--MD5=[71b5f68bb9b79fab1e90becfa1386e5a]\n",
       "@startuml\r\n",
       "skinparam linetype ortho\r\n",
       "skinparam monochrome true\r\n",
       "skinparam classbackgroundcolor white\r\n",
       "skinparam shadowing false\r\n",
       "skinparam wrapWidth 300\r\n",
       "hide circle\r\n",
       "\r\n",
       "package \"ItemTest\" as E1  [[psysml:75fb623a-e350-4a47-9f82-c4d20b2b5b80 ]]  {\r\n",
       "comp usage \"f: A\" as E2  <<(T,blue)item>> [[psysml:d8a17efa-9aba-4cd7-b18a-68f8ed4c599b ]] {\r\n",
       "}\r\n",
       "comp def \"A\" as E3  <<(T,blue)item def>> [[psysml:30552314-ef8a-4f2d-b223-fa6e862cb5b8 ]] {\r\n",
       "- - items - -\r\n",
       "b: B\r\n",
       "}\r\n",
       "comp usage \"c: C\" as E5  <<(T,blue)part>> [[psysml:cb0fe327-dda6-4eae-9e46-1ce946f22982 ]] {\r\n",
       "}\r\n",
       "comp def \"B\" as E6  <<(T,blue)item def>> [[psysml:0c776550-23a6-42b8-908b-320a74e2d4ee ]] {\r\n",
       "}\r\n",
       "comp usage \"a: A\" as E7  <<(T,blue)part>> [[psysml:7f7b610c-5cf3-4f1d-92e7-984e3817e328 ]] {\r\n",
       "}\r\n",
       "comp def \"C\" as E8  <<(T,blue)part def>> [[psysml:3f3cfa4e-9100-4bf2-8dae-183ab53e5ac5 ]] {\r\n",
       "}\r\n",
       "comp def \"P\" as E9  <<(T,blue)port def>> [[psysml:b18b87fb-d7bd-4905-b0cb-818d68f57f75 ]] {\r\n",
       "- - items - -\r\n",
       "a1: A\r\n",
       "a2: A\r\n",
       "}\r\n",
       "E2 - -:|> E3 [[psysml:cbc83e8e-35d8-4884-92a4-03d9c321669a ]] \r\n",
       "E3 o- - E5 [[psysml:cb0fe327-dda6-4eae-9e46-1ce946f22982 ]] \r\n",
       "E7 - -:|> E3 [[psysml:b2ac9add-d533-4cc3-a1ec-28b279e4ff39 ]] \r\n",
       "E6 *- - E7 [[psysml:7f7b610c-5cf3-4f1d-92e7-984e3817e328 ]] \r\n",
       "E5 - -:|> E8 [[psysml:8f4ff897-72ba-4249-b35c-9a7192bde9f3 ]] \r\n",
       "E8 o- - E3 [[psysml:44d9af1e-71a6-403b-81da-6292c3b1f2cb ]] : y\r\n",
       "E8 o- - E6 [[psysml:44d9af1e-71a6-403b-81da-6292c3b1f2cb ]] : y\r\n",
       "}\r\n",
       "@enduml\r\n",
       "\n",
       "PlantUML version 1.2020.13(Sat Jun 13 12:26:38 UTC 2020)\n",
       "(EPL source distribution)\n",
       "Java Runtime: OpenJDK Runtime Environment\n",
       "JVM: OpenJDK 64-Bit Server VM\n",
       "Default Encoding: UTF-8\n",
       "Language: en\n",
       "Country: null\n",
       "--></g></svg>"
      ]
     },
     "execution_count": 51,
     "metadata": {},
     "output_type": "execute_result"
    }
   ],
   "source": [
    "%viz --style=\"ORTHOLINE\" --view=\"Default\" \"ItemTest\""
   ]
  },
  {
   "cell_type": "code",
   "execution_count": 52,
   "id": "hybrid-block",
   "metadata": {
    "execution": {
     "iopub.execute_input": "2021-03-26T12:12:08.961058Z",
     "iopub.status.busy": "2021-03-26T12:12:08.960695Z",
     "iopub.status.idle": "2021-03-26T12:12:09.010611Z",
     "shell.execute_reply": "2021-03-26T12:12:09.009261Z"
    }
   },
   "outputs": [
    {
     "data": {
      "image/svg+xml": [
       "<?xml version=\"1.0\" encoding=\"UTF-8\" standalone=\"no\"?><svg xmlns=\"http://www.w3.org/2000/svg\" xmlns:xlink=\"http://www.w3.org/1999/xlink\" contentScriptType=\"application/ecmascript\" contentStyleType=\"text/css\" height=\"738px\" preserveAspectRatio=\"none\" style=\"width:228px;height:738px;\" version=\"1.1\" viewBox=\"0 0 228 738\" width=\"228px\" zoomAndPan=\"magnify\"><defs/><g><!--MD5=[fbc87193dbaf4d95561dea2c320d4a47]\n",
       "cluster E1--><a href=\"psysml:75fb623a-e350-4a47-9f82-c4d20b2b5b80\" target=\"_top\" title=\"psysml:75fb623a-e350-4a47-9f82-c4d20b2b5b80\" xlink:actuate=\"onRequest\" xlink:href=\"psysml:75fb623a-e350-4a47-9f82-c4d20b2b5b80\" xlink:show=\"new\" xlink:title=\"psysml:75fb623a-e350-4a47-9f82-c4d20b2b5b80\" xlink:type=\"simple\"><polygon fill=\"#FFFFFF\" points=\"16,6,91,6,98,28.2969,206,28.2969,206,726,16,726,16,6\" style=\"stroke: #000000; stroke-width: 1.5;\"/><line style=\"stroke: #000000; stroke-width: 1.5;\" x1=\"16\" x2=\"98\" y1=\"28.2969\" y2=\"28.2969\"/><text fill=\"#000000\" font-family=\"sans-serif\" font-size=\"14\" font-weight=\"bold\" lengthAdjust=\"spacingAndGlyphs\" textLength=\"69\" x=\"20\" y=\"20.9951\">ItemTest</text></a><!--MD5=[b4997ac47864f28c2f74865a473b2911]\n",
       "class E2--><a href=\"psysml:d8a17efa-9aba-4cd7-b18a-68f8ed4c599b\" target=\"_top\" title=\"psysml:d8a17efa-9aba-4cd7-b18a-68f8ed4c599b\" xlink:actuate=\"onRequest\" xlink:href=\"psysml:d8a17efa-9aba-4cd7-b18a-68f8ed4c599b\" xlink:show=\"new\" xlink:title=\"psysml:d8a17efa-9aba-4cd7-b18a-68f8ed4c599b\" xlink:type=\"simple\"><rect fill=\"#FFFFFF\" height=\"45.9375\" id=\"E2\" rx=\"10\" ry=\"10\" style=\"stroke: #383838; stroke-width: 1.5;\" width=\"43\" x=\"133.5\" y=\"62\"/><text fill=\"#000000\" font-family=\"sans-serif\" font-size=\"12\" font-style=\"italic\" lengthAdjust=\"spacingAndGlyphs\" textLength=\"41\" x=\"134.5\" y=\"78.1387\">«item»</text><text fill=\"#000000\" font-family=\"sans-serif\" font-size=\"12\" lengthAdjust=\"spacingAndGlyphs\" textLength=\"20\" x=\"145\" y=\"92.1074\">f: A</text><line style=\"stroke: #383838; stroke-width: 1.5;\" x1=\"134.5\" x2=\"175.5\" y1=\"99.9375\" y2=\"99.9375\"/></a><!--MD5=[09b614a08d8cba4a07c9adeb5e0fee81]\n",
       "class E3--><a href=\"psysml:30552314-ef8a-4f2d-b223-fa6e862cb5b8\" target=\"_top\" title=\"psysml:30552314-ef8a-4f2d-b223-fa6e862cb5b8\" xlink:actuate=\"onRequest\" xlink:href=\"psysml:30552314-ef8a-4f2d-b223-fa6e862cb5b8\" xlink:show=\"new\" xlink:title=\"psysml:30552314-ef8a-4f2d-b223-fa6e862cb5b8\" xlink:type=\"simple\"><rect fill=\"#FFFFFF\" height=\"75.5469\" id=\"E3\" style=\"stroke: #383838; stroke-width: 1.5;\" width=\"67\" x=\"115.5\" y=\"190\"/><text fill=\"#000000\" font-family=\"sans-serif\" font-size=\"12\" font-style=\"italic\" lengthAdjust=\"spacingAndGlyphs\" textLength=\"65\" x=\"116.5\" y=\"206.1387\">«item def»</text><text fill=\"#000000\" font-family=\"sans-serif\" font-size=\"12\" lengthAdjust=\"spacingAndGlyphs\" textLength=\"8\" x=\"145\" y=\"220.1074\">A</text><line style=\"stroke: #383838; stroke-width: 1.5;\" x1=\"116.5\" x2=\"181.5\" y1=\"227.9375\" y2=\"227.9375\"/><text fill=\"#000000\" font-family=\"sans-serif\" font-size=\"11\" lengthAdjust=\"spacingAndGlyphs\" textLength=\"23\" x=\"121.5\" y=\"258.9526\">b: B</text><line style=\"stroke: #383838; stroke-width: 1.0;\" x1=\"116.5\" x2=\"133\" y1=\"242.3398\" y2=\"242.3398\"/><text fill=\"#000000\" font-family=\"sans-serif\" font-size=\"11\" lengthAdjust=\"spacingAndGlyphs\" textLength=\"32\" x=\"133\" y=\"245.6479\">items</text><line style=\"stroke: #383838; stroke-width: 1.0;\" x1=\"165\" x2=\"181.5\" y1=\"242.3398\" y2=\"242.3398\"/></a><!--MD5=[270fce915f116d4de14055a7c1d9a0f3]\n",
       "class E5--><a href=\"psysml:cb0fe327-dda6-4eae-9e46-1ce946f22982\" target=\"_top\" title=\"psysml:cb0fe327-dda6-4eae-9e46-1ce946f22982\" xlink:actuate=\"onRequest\" xlink:href=\"psysml:cb0fe327-dda6-4eae-9e46-1ce946f22982\" xlink:show=\"new\" xlink:title=\"psysml:cb0fe327-dda6-4eae-9e46-1ce946f22982\" xlink:type=\"simple\"><rect fill=\"#FFFFFF\" height=\"45.9375\" id=\"E5\" rx=\"10\" ry=\"10\" style=\"stroke: #383838; stroke-width: 1.5;\" width=\"42\" x=\"32\" y=\"327\"/><text fill=\"#000000\" font-family=\"sans-serif\" font-size=\"12\" font-style=\"italic\" lengthAdjust=\"spacingAndGlyphs\" textLength=\"40\" x=\"33\" y=\"343.1387\">«part»</text><text fill=\"#000000\" font-family=\"sans-serif\" font-size=\"12\" lengthAdjust=\"spacingAndGlyphs\" textLength=\"23\" x=\"41.5\" y=\"357.1074\">c: C</text><line style=\"stroke: #383838; stroke-width: 1.5;\" x1=\"33\" x2=\"73\" y1=\"364.9375\" y2=\"364.9375\"/></a><!--MD5=[60a26617385b1d2d0262a64233df1f8d]\n",
       "class E6--><a href=\"psysml:0c776550-23a6-42b8-908b-320a74e2d4ee\" target=\"_top\" title=\"psysml:0c776550-23a6-42b8-908b-320a74e2d4ee\" xlink:actuate=\"onRequest\" xlink:href=\"psysml:0c776550-23a6-42b8-908b-320a74e2d4ee\" xlink:show=\"new\" xlink:title=\"psysml:0c776550-23a6-42b8-908b-320a74e2d4ee\" xlink:type=\"simple\"><rect fill=\"#FFFFFF\" height=\"45.9375\" id=\"E6\" style=\"stroke: #383838; stroke-width: 1.5;\" width=\"67\" x=\"85.5\" y=\"557\"/><text fill=\"#000000\" font-family=\"sans-serif\" font-size=\"12\" font-style=\"italic\" lengthAdjust=\"spacingAndGlyphs\" textLength=\"65\" x=\"86.5\" y=\"573.1387\">«item def»</text><text fill=\"#000000\" font-family=\"sans-serif\" font-size=\"12\" lengthAdjust=\"spacingAndGlyphs\" textLength=\"8\" x=\"115\" y=\"587.1074\">B</text><line style=\"stroke: #383838; stroke-width: 1.5;\" x1=\"86.5\" x2=\"151.5\" y1=\"594.9375\" y2=\"594.9375\"/></a><!--MD5=[2156ba9850f5573cc1fc38a6a4b2f02b]\n",
       "class E7--><a href=\"psysml:7f7b610c-5cf3-4f1d-92e7-984e3817e328\" target=\"_top\" title=\"psysml:7f7b610c-5cf3-4f1d-92e7-984e3817e328\" xlink:actuate=\"onRequest\" xlink:href=\"psysml:7f7b610c-5cf3-4f1d-92e7-984e3817e328\" xlink:show=\"new\" xlink:title=\"psysml:7f7b610c-5cf3-4f1d-92e7-984e3817e328\" xlink:type=\"simple\"><rect fill=\"#FFFFFF\" height=\"45.9375\" id=\"E7\" rx=\"10\" ry=\"10\" style=\"stroke: #383838; stroke-width: 1.5;\" width=\"42\" x=\"123\" y=\"664\"/><text fill=\"#000000\" font-family=\"sans-serif\" font-size=\"12\" font-style=\"italic\" lengthAdjust=\"spacingAndGlyphs\" textLength=\"40\" x=\"124\" y=\"680.1387\">«part»</text><text fill=\"#000000\" font-family=\"sans-serif\" font-size=\"12\" lengthAdjust=\"spacingAndGlyphs\" textLength=\"24\" x=\"132\" y=\"694.1074\">a: A</text><line style=\"stroke: #383838; stroke-width: 1.5;\" x1=\"124\" x2=\"164\" y1=\"701.9375\" y2=\"701.9375\"/></a><!--MD5=[b9389687b975829384b498ac4b7476b2]\n",
       "class E8--><a href=\"psysml:3f3cfa4e-9100-4bf2-8dae-183ab53e5ac5\" target=\"_top\" title=\"psysml:3f3cfa4e-9100-4bf2-8dae-183ab53e5ac5\" xlink:actuate=\"onRequest\" xlink:href=\"psysml:3f3cfa4e-9100-4bf2-8dae-183ab53e5ac5\" xlink:show=\"new\" xlink:title=\"psysml:3f3cfa4e-9100-4bf2-8dae-183ab53e5ac5\" xlink:type=\"simple\"><rect fill=\"#FFFFFF\" height=\"45.9375\" id=\"E8\" style=\"stroke: #383838; stroke-width: 1.5;\" width=\"66\" x=\"86\" y=\"434\"/><text fill=\"#000000\" font-family=\"sans-serif\" font-size=\"12\" font-style=\"italic\" lengthAdjust=\"spacingAndGlyphs\" textLength=\"64\" x=\"87\" y=\"450.1387\">«part def»</text><text fill=\"#000000\" font-family=\"sans-serif\" font-size=\"12\" lengthAdjust=\"spacingAndGlyphs\" textLength=\"8\" x=\"115\" y=\"464.1074\">C</text><line style=\"stroke: #383838; stroke-width: 1.5;\" x1=\"87\" x2=\"151\" y1=\"471.9375\" y2=\"471.9375\"/></a><!--MD5=[fd4143e9d270a159db93a4ea2a975926]\n",
       "class E9--><a href=\"psysml:b18b87fb-d7bd-4905-b0cb-818d68f57f75\" target=\"_top\" title=\"psysml:b18b87fb-d7bd-4905-b0cb-818d68f57f75\" xlink:actuate=\"onRequest\" xlink:href=\"psysml:b18b87fb-d7bd-4905-b0cb-818d68f57f75\" xlink:show=\"new\" xlink:title=\"psysml:b18b87fb-d7bd-4905-b0cb-818d68f57f75\" xlink:type=\"simple\"><rect fill=\"#FFFFFF\" height=\"88.3516\" id=\"E9\" style=\"stroke: #383838; stroke-width: 1.5;\" width=\"66\" x=\"32\" y=\"41\"/><text fill=\"#000000\" font-family=\"sans-serif\" font-size=\"12\" font-style=\"italic\" lengthAdjust=\"spacingAndGlyphs\" textLength=\"64\" x=\"33\" y=\"57.1387\">«port def»</text><text fill=\"#000000\" font-family=\"sans-serif\" font-size=\"12\" lengthAdjust=\"spacingAndGlyphs\" textLength=\"8\" x=\"61\" y=\"71.1074\">P</text><line style=\"stroke: #383838; stroke-width: 1.5;\" x1=\"33\" x2=\"97\" y1=\"78.9375\" y2=\"78.9375\"/><text fill=\"#000000\" font-family=\"sans-serif\" font-size=\"11\" lengthAdjust=\"spacingAndGlyphs\" textLength=\"29\" x=\"38\" y=\"109.9526\">a1: A</text><text fill=\"#000000\" font-family=\"sans-serif\" font-size=\"11\" lengthAdjust=\"spacingAndGlyphs\" textLength=\"29\" x=\"38\" y=\"122.7573\">a2: A</text><line style=\"stroke: #383838; stroke-width: 1.0;\" x1=\"33\" x2=\"49\" y1=\"93.3398\" y2=\"93.3398\"/><text fill=\"#000000\" font-family=\"sans-serif\" font-size=\"11\" lengthAdjust=\"spacingAndGlyphs\" textLength=\"32\" x=\"49\" y=\"96.6479\">items</text><line style=\"stroke: #383838; stroke-width: 1.0;\" x1=\"81\" x2=\"97\" y1=\"93.3398\" y2=\"93.3398\"/></a><!--MD5=[2720a5a1f2c3fca2055b230370638851]\n",
       "link E2 to E3--><a href=\"psysml:cbc83e8e-35d8-4884-92a4-03d9c321669a\" target=\"_top\" title=\"psysml:cbc83e8e-35d8-4884-92a4-03d9c321669a\" xlink:actuate=\"onRequest\" xlink:href=\"psysml:cbc83e8e-35d8-4884-92a4-03d9c321669a\" xlink:show=\"new\" xlink:title=\"psysml:cbc83e8e-35d8-4884-92a4-03d9c321669a\" xlink:type=\"simple\"><path d=\"M155,108.29 C155,108.29 155,169.91 155,169.91 \" fill=\"none\" id=\"E2-&gt;E3\" style=\"stroke: #383838; stroke-width: 1.0;\"/><polygon fill=\"#FFFFFF\" points=\"155,189.91,148,170.91,162,170.91,155,189.91\" style=\"stroke: #383838; stroke-width: 1.0;\"/><ellipse cx=\"150\" cy=\"165.21\" fill=\"#383838\" rx=\"2\" ry=\"2\" style=\"stroke: #383838; stroke-width: 1.0;\"/><ellipse cx=\"160\" cy=\"165.21\" fill=\"#383838\" rx=\"2\" ry=\"2\" style=\"stroke: #383838; stroke-width: 1.0;\"/></a><!--MD5=[191cde3d490a3f6d7bb551fe3ddca469]\n",
       "reverse link E3 to E5--><a href=\"psysml:cb0fe327-dda6-4eae-9e46-1ce946f22982\" target=\"_top\" title=\"psysml:cb0fe327-dda6-4eae-9e46-1ce946f22982\" xlink:actuate=\"onRequest\" xlink:href=\"psysml:cb0fe327-dda6-4eae-9e46-1ce946f22982\" xlink:show=\"new\" xlink:title=\"psysml:cb0fe327-dda6-4eae-9e46-1ce946f22982\" xlink:type=\"simple\"><path d=\"M127.67,279.29 C127.67,279.29 127.67,343 127.67,343 C127.67,343 96.27,343 74.2,343 \" fill=\"none\" id=\"E3&lt;-E5\" style=\"stroke: #383838; stroke-width: 1.0;\"/><polygon fill=\"#FFFFFF\" points=\"127.67,266.29,123.67,272.29,127.67,278.29,131.67,272.29,127.67,266.29\" style=\"stroke: #383838; stroke-width: 1.0;\"/></a><!--MD5=[14ccda38c055a5c0da953d572bc50960]\n",
       "link E7 to E3--><a href=\"psysml:b2ac9add-d533-4cc3-a1ec-28b279e4ff39\" target=\"_top\" title=\"psysml:b2ac9add-d533-4cc3-a1ec-28b279e4ff39\" xlink:actuate=\"onRequest\" xlink:href=\"psysml:b2ac9add-d533-4cc3-a1ec-28b279e4ff39\" xlink:show=\"new\" xlink:title=\"psysml:b2ac9add-d533-4cc3-a1ec-28b279e4ff39\" xlink:type=\"simple\"><path d=\"M158.75,663.92 C158.75,663.92 158.75,286.15 158.75,286.15 \" fill=\"none\" id=\"E7-&gt;E3\" style=\"stroke: #383838; stroke-width: 1.0;\"/><polygon fill=\"#FFFFFF\" points=\"158.75,266.15,165.75,285.15,151.75,285.15,158.75,266.15\" style=\"stroke: #383838; stroke-width: 1.0;\"/><ellipse cx=\"163.75\" cy=\"290.85\" fill=\"#383838\" rx=\"2\" ry=\"2\" style=\"stroke: #383838; stroke-width: 1.0;\"/><ellipse cx=\"153.75\" cy=\"290.85\" fill=\"#383838\" rx=\"2\" ry=\"2\" style=\"stroke: #383838; stroke-width: 1.0;\"/></a><!--MD5=[3f50a3473f1dfb74d3f76443e03635af]\n",
       "reverse link E6 to E7--><a href=\"psysml:7f7b610c-5cf3-4f1d-92e7-984e3817e328\" target=\"_top\" title=\"psysml:7f7b610c-5cf3-4f1d-92e7-984e3817e328\" xlink:actuate=\"onRequest\" xlink:href=\"psysml:7f7b610c-5cf3-4f1d-92e7-984e3817e328\" xlink:show=\"new\" xlink:title=\"psysml:7f7b610c-5cf3-4f1d-92e7-984e3817e328\" xlink:type=\"simple\"><path d=\"M137.75,616.22 C137.75,616.22 137.75,663.83 137.75,663.83 \" fill=\"none\" id=\"E6&lt;-E7\" style=\"stroke: #383838; stroke-width: 1.0;\"/><polygon fill=\"#383838\" points=\"137.75,603.22,133.75,609.22,137.75,615.22,141.75,609.22,137.75,603.22\" style=\"stroke: #383838; stroke-width: 1.0;\"/></a><!--MD5=[dfaffb906826c3e5aca635516100ff21]\n",
       "link E5 to E8--><a href=\"psysml:8f4ff897-72ba-4249-b35c-9a7192bde9f3\" target=\"_top\" title=\"psysml:8f4ff897-72ba-4249-b35c-9a7192bde9f3\" xlink:actuate=\"onRequest\" xlink:href=\"psysml:8f4ff897-72ba-4249-b35c-9a7192bde9f3\" xlink:show=\"new\" xlink:title=\"psysml:8f4ff897-72ba-4249-b35c-9a7192bde9f3\" xlink:type=\"simple\"><path d=\"M74.33,358 C83.43,358 92,358 92,358 C92,358 92,413.79 92,413.79 \" fill=\"none\" id=\"E5-&gt;E8\" style=\"stroke: #383838; stroke-width: 1.0;\"/><polygon fill=\"#FFFFFF\" points=\"92,433.79,85,414.79,99,414.79,92,433.79\" style=\"stroke: #383838; stroke-width: 1.0;\"/><ellipse cx=\"87\" cy=\"409.09\" fill=\"#383838\" rx=\"2\" ry=\"2\" style=\"stroke: #383838; stroke-width: 1.0;\"/><ellipse cx=\"97\" cy=\"409.09\" fill=\"#383838\" rx=\"2\" ry=\"2\" style=\"stroke: #383838; stroke-width: 1.0;\"/></a><!--MD5=[03c8294790d3c57651a1993cecff665f]\n",
       "reverse link E8 to E3--><a href=\"psysml:44d9af1e-71a6-403b-81da-6292c3b1f2cb\" target=\"_top\" title=\"psysml:44d9af1e-71a6-403b-81da-6292c3b1f2cb\" xlink:actuate=\"onRequest\" xlink:href=\"psysml:44d9af1e-71a6-403b-81da-6292c3b1f2cb\" xlink:show=\"new\" xlink:title=\"psysml:44d9af1e-71a6-403b-81da-6292c3b1f2cb\" xlink:type=\"simple\"><path d=\"M139.83,420.78 C139.83,420.78 139.83,266.05 139.83,266.05 \" fill=\"none\" id=\"E8&lt;-E3\" style=\"stroke: #383838; stroke-width: 1.0;\"/><polygon fill=\"#FFFFFF\" points=\"139.83,433.78,143.83,427.78,139.83,421.78,135.83,427.78,139.83,433.78\" style=\"stroke: #383838; stroke-width: 1.0;\"/><text fill=\"#000000\" font-family=\"sans-serif\" font-size=\"13\" lengthAdjust=\"spacingAndGlyphs\" textLength=\"7\" x=\"145\" y=\"354.5669\">y</text></a><!--MD5=[0d75d2178373a6a4568e5dc728f58aef]\n",
       "reverse link E8 to E6--><a href=\"psysml:44d9af1e-71a6-403b-81da-6292c3b1f2cb\" target=\"_top\" title=\"psysml:44d9af1e-71a6-403b-81da-6292c3b1f2cb\" xlink:actuate=\"onRequest\" xlink:href=\"psysml:44d9af1e-71a6-403b-81da-6292c3b1f2cb\" xlink:show=\"new\" xlink:title=\"psysml:44d9af1e-71a6-403b-81da-6292c3b1f2cb\" xlink:type=\"simple\"><path d=\"M119,493.14 C119,493.14 119,556.97 119,556.97 \" fill=\"none\" id=\"E8&lt;-E6\" style=\"stroke: #383838; stroke-width: 1.0;\"/><polygon fill=\"#FFFFFF\" points=\"119,480.14,115,486.14,119,492.14,123,486.14,119,480.14\" style=\"stroke: #383838; stroke-width: 1.0;\"/><text fill=\"#000000\" font-family=\"sans-serif\" font-size=\"13\" lengthAdjust=\"spacingAndGlyphs\" textLength=\"7\" x=\"120\" y=\"523.0669\">y</text></a><!--MD5=[71b5f68bb9b79fab1e90becfa1386e5a]\n",
       "@startuml\r\n",
       "skinparam linetype ortho\r\n",
       "skinparam monochrome true\r\n",
       "skinparam classbackgroundcolor white\r\n",
       "skinparam shadowing false\r\n",
       "skinparam wrapWidth 300\r\n",
       "hide circle\r\n",
       "\r\n",
       "package \"ItemTest\" as E1  [[psysml:75fb623a-e350-4a47-9f82-c4d20b2b5b80 ]]  {\r\n",
       "comp usage \"f: A\" as E2  <<(T,blue)item>> [[psysml:d8a17efa-9aba-4cd7-b18a-68f8ed4c599b ]] {\r\n",
       "}\r\n",
       "comp def \"A\" as E3  <<(T,blue)item def>> [[psysml:30552314-ef8a-4f2d-b223-fa6e862cb5b8 ]] {\r\n",
       "- - items - -\r\n",
       "b: B\r\n",
       "}\r\n",
       "comp usage \"c: C\" as E5  <<(T,blue)part>> [[psysml:cb0fe327-dda6-4eae-9e46-1ce946f22982 ]] {\r\n",
       "}\r\n",
       "comp def \"B\" as E6  <<(T,blue)item def>> [[psysml:0c776550-23a6-42b8-908b-320a74e2d4ee ]] {\r\n",
       "}\r\n",
       "comp usage \"a: A\" as E7  <<(T,blue)part>> [[psysml:7f7b610c-5cf3-4f1d-92e7-984e3817e328 ]] {\r\n",
       "}\r\n",
       "comp def \"C\" as E8  <<(T,blue)part def>> [[psysml:3f3cfa4e-9100-4bf2-8dae-183ab53e5ac5 ]] {\r\n",
       "}\r\n",
       "comp def \"P\" as E9  <<(T,blue)port def>> [[psysml:b18b87fb-d7bd-4905-b0cb-818d68f57f75 ]] {\r\n",
       "- - items - -\r\n",
       "a1: A\r\n",
       "a2: A\r\n",
       "}\r\n",
       "E2 - -:|> E3 [[psysml:cbc83e8e-35d8-4884-92a4-03d9c321669a ]] \r\n",
       "E3 o- - E5 [[psysml:cb0fe327-dda6-4eae-9e46-1ce946f22982 ]] \r\n",
       "E7 - -:|> E3 [[psysml:b2ac9add-d533-4cc3-a1ec-28b279e4ff39 ]] \r\n",
       "E6 *- - E7 [[psysml:7f7b610c-5cf3-4f1d-92e7-984e3817e328 ]] \r\n",
       "E5 - -:|> E8 [[psysml:8f4ff897-72ba-4249-b35c-9a7192bde9f3 ]] \r\n",
       "E8 o- - E3 [[psysml:44d9af1e-71a6-403b-81da-6292c3b1f2cb ]] : y\r\n",
       "E8 o- - E6 [[psysml:44d9af1e-71a6-403b-81da-6292c3b1f2cb ]] : y\r\n",
       "}\r\n",
       "@enduml\r\n",
       "\n",
       "PlantUML version 1.2020.13(Sat Jun 13 12:26:38 UTC 2020)\n",
       "(EPL source distribution)\n",
       "Java Runtime: OpenJDK Runtime Environment\n",
       "JVM: OpenJDK 64-Bit Server VM\n",
       "Default Encoding: UTF-8\n",
       "Language: en\n",
       "Country: null\n",
       "--></g></svg>"
      ]
     },
     "execution_count": 52,
     "metadata": {},
     "output_type": "execute_result"
    }
   ],
   "source": [
    "%viz --style=\"ORTHOLINE\" --view=\"Tree\" \"ItemTest\""
   ]
  },
  {
   "cell_type": "code",
   "execution_count": 53,
   "id": "comprehensive-sword",
   "metadata": {
    "execution": {
     "iopub.execute_input": "2021-03-26T12:12:09.061385Z",
     "iopub.status.busy": "2021-03-26T12:12:09.060811Z",
     "iopub.status.idle": "2021-03-26T12:12:09.064982Z",
     "shell.execute_reply": "2021-03-26T12:12:09.064636Z"
    }
   },
   "outputs": [
    {
     "data": {
      "image/svg+xml": [
       "<?xml version=\"1.0\" encoding=\"UTF-8\" standalone=\"no\"?><svg xmlns=\"http://www.w3.org/2000/svg\" xmlns:xlink=\"http://www.w3.org/1999/xlink\" contentScriptType=\"application/ecmascript\" contentStyleType=\"text/css\" height=\"12px\" preserveAspectRatio=\"none\" style=\"width:12px;height:12px;\" version=\"1.1\" viewBox=\"0 0 12 12\" width=\"12px\" zoomAndPan=\"magnify\"><defs/><g><!--MD5=[97d6f38768b311333d388e66b2b27985]\n",
       "@startuml\r\n",
       "skinparam linetype ortho\r\n",
       "skinparam monochrome true\r\n",
       "skinparam classbackgroundcolor white\r\n",
       "skinparam shadowing false\r\n",
       "skinparam wrapWidth 300\r\n",
       "hide circle\r\n",
       "\r\n",
       "@enduml\r\n",
       "\n",
       "PlantUML version 1.2020.13(Sat Jun 13 12:26:38 UTC 2020)\n",
       "(EPL source distribution)\n",
       "Java Runtime: OpenJDK Runtime Environment\n",
       "JVM: OpenJDK 64-Bit Server VM\n",
       "Default Encoding: UTF-8\n",
       "Language: en\n",
       "Country: null\n",
       "--></g></svg>"
      ]
     },
     "execution_count": 53,
     "metadata": {},
     "output_type": "execute_result"
    }
   ],
   "source": [
    "%viz --style=\"ORTHOLINE\" --view=\"State\" \"ItemTest\""
   ]
  },
  {
   "cell_type": "code",
   "execution_count": 54,
   "id": "expected-reception",
   "metadata": {
    "execution": {
     "iopub.execute_input": "2021-03-26T12:12:09.115853Z",
     "iopub.status.busy": "2021-03-26T12:12:09.115437Z",
     "iopub.status.idle": "2021-03-26T12:12:09.142015Z",
     "shell.execute_reply": "2021-03-26T12:12:09.140717Z"
    }
   },
   "outputs": [
    {
     "data": {
      "image/svg+xml": [
       "<?xml version=\"1.0\" encoding=\"UTF-8\" standalone=\"no\"?><svg xmlns=\"http://www.w3.org/2000/svg\" xmlns:xlink=\"http://www.w3.org/1999/xlink\" contentScriptType=\"application/ecmascript\" contentStyleType=\"text/css\" height=\"195px\" preserveAspectRatio=\"none\" style=\"width:582px;height:195px;\" version=\"1.1\" viewBox=\"0 0 582 195\" width=\"582px\" zoomAndPan=\"magnify\"><defs/><g><!--MD5=[fbc87193dbaf4d95561dea2c320d4a47]\n",
       "cluster E1--><a href=\"psysml:75fb623a-e350-4a47-9f82-c4d20b2b5b80\" target=\"_top\" title=\"psysml:75fb623a-e350-4a47-9f82-c4d20b2b5b80\" xlink:actuate=\"onRequest\" xlink:href=\"psysml:75fb623a-e350-4a47-9f82-c4d20b2b5b80\" xlink:show=\"new\" xlink:title=\"psysml:75fb623a-e350-4a47-9f82-c4d20b2b5b80\" xlink:type=\"simple\"><polygon fill=\"#FFFFFF\" points=\"16,6,91,6,98,28.2969,560,28.2969,560,183,16,183,16,6\" style=\"stroke: #000000; stroke-width: 1.5;\"/><line style=\"stroke: #000000; stroke-width: 1.5;\" x1=\"16\" x2=\"98\" y1=\"28.2969\" y2=\"28.2969\"/><text fill=\"#000000\" font-family=\"sans-serif\" font-size=\"14\" font-weight=\"bold\" lengthAdjust=\"spacingAndGlyphs\" textLength=\"69\" x=\"20\" y=\"20.9951\">ItemTest</text></a><!--MD5=[de5ec2e2e8f62f467e546659f5068c88]\n",
       "cluster E5--><a href=\"psysml:3f3cfa4e-9100-4bf2-8dae-183ab53e5ac5\" target=\"_top\" title=\"psysml:3f3cfa4e-9100-4bf2-8dae-183ab53e5ac5\" xlink:actuate=\"onRequest\" xlink:href=\"psysml:3f3cfa4e-9100-4bf2-8dae-183ab53e5ac5\" xlink:show=\"new\" xlink:title=\"psysml:3f3cfa4e-9100-4bf2-8dae-183ab53e5ac5\" xlink:type=\"simple\"><rect fill=\"#FFFFFF\" height=\"110\" id=\"E5\" style=\"stroke: #383838; stroke-width: 1.5;\" width=\"114\" x=\"422\" y=\"49\"/><rect fill=\"#F8F8F8\" height=\"37.9375\" style=\"stroke: #383838; stroke-width: 1.5;\" width=\"114\" x=\"422\" y=\"49\"/><text fill=\"#000000\" font-family=\"sans-serif\" font-size=\"12\" font-style=\"italic\" lengthAdjust=\"spacingAndGlyphs\" textLength=\"64\" x=\"447\" y=\"65.1387\">«part def»</text><text fill=\"#000000\" font-family=\"sans-serif\" font-size=\"12\" lengthAdjust=\"spacingAndGlyphs\" textLength=\"8\" x=\"475\" y=\"79.1074\">C</text></a><g id=\"E1.E3\"><a href=\"psysml:30552314-ef8a-4f2d-b223-fa6e862cb5b8\" target=\"_top\" title=\"psysml:30552314-ef8a-4f2d-b223-fa6e862cb5b8\" xlink:actuate=\"onRequest\" xlink:href=\"psysml:30552314-ef8a-4f2d-b223-fa6e862cb5b8\" xlink:show=\"new\" xlink:title=\"psysml:30552314-ef8a-4f2d-b223-fa6e862cb5b8\" xlink:type=\"simple\"><rect fill=\"#FFFFFF\" height=\"42.9375\" id=\"E3\" style=\"stroke: #383838; stroke-width: 1.5;\" width=\"72\" x=\"331\" y=\"100\"/><rect fill=\"#F8F8F8\" height=\"37.9375\" style=\"stroke: #383838; stroke-width: 1.5;\" width=\"72\" x=\"331\" y=\"100\"/><text fill=\"#000000\" font-family=\"sans-serif\" font-size=\"12\" font-style=\"italic\" lengthAdjust=\"spacingAndGlyphs\" textLength=\"65\" x=\"334.5\" y=\"116.1387\">«item def»</text><text fill=\"#000000\" font-family=\"sans-serif\" font-size=\"12\" lengthAdjust=\"spacingAndGlyphs\" textLength=\"8\" x=\"363\" y=\"130.1074\">A</text></a></g><g id=\"E1.E4\"><a href=\"psysml:0c776550-23a6-42b8-908b-320a74e2d4ee\" target=\"_top\" title=\"psysml:0c776550-23a6-42b8-908b-320a74e2d4ee\" xlink:actuate=\"onRequest\" xlink:href=\"psysml:0c776550-23a6-42b8-908b-320a74e2d4ee\" xlink:show=\"new\" xlink:title=\"psysml:0c776550-23a6-42b8-908b-320a74e2d4ee\" xlink:type=\"simple\"><rect fill=\"#FFFFFF\" height=\"42.9375\" id=\"E4\" style=\"stroke: #383838; stroke-width: 1.5;\" width=\"72\" x=\"224\" y=\"100\"/><rect fill=\"#F8F8F8\" height=\"37.9375\" style=\"stroke: #383838; stroke-width: 1.5;\" width=\"72\" x=\"224\" y=\"100\"/><text fill=\"#000000\" font-family=\"sans-serif\" font-size=\"12\" font-style=\"italic\" lengthAdjust=\"spacingAndGlyphs\" textLength=\"65\" x=\"227.5\" y=\"116.1387\">«item def»</text><text fill=\"#000000\" font-family=\"sans-serif\" font-size=\"12\" lengthAdjust=\"spacingAndGlyphs\" textLength=\"8\" x=\"256\" y=\"130.1074\">B</text></a></g><g id=\"E1.E7\"><a href=\"psysml:b18b87fb-d7bd-4905-b0cb-818d68f57f75\" target=\"_top\" title=\"psysml:b18b87fb-d7bd-4905-b0cb-818d68f57f75\" xlink:actuate=\"onRequest\" xlink:href=\"psysml:b18b87fb-d7bd-4905-b0cb-818d68f57f75\" xlink:show=\"new\" xlink:title=\"psysml:b18b87fb-d7bd-4905-b0cb-818d68f57f75\" xlink:type=\"simple\"><rect fill=\"#FFFFFF\" height=\"42.9375\" id=\"E7\" style=\"stroke: #383838; stroke-width: 1.5;\" width=\"71\" x=\"117.5\" y=\"100\"/><rect fill=\"#F8F8F8\" height=\"37.9375\" style=\"stroke: #383838; stroke-width: 1.5;\" width=\"71\" x=\"117.5\" y=\"100\"/><text fill=\"#000000\" font-family=\"sans-serif\" font-size=\"12\" font-style=\"italic\" lengthAdjust=\"spacingAndGlyphs\" textLength=\"64\" x=\"121\" y=\"116.1387\">«port def»</text><text fill=\"#000000\" font-family=\"sans-serif\" font-size=\"12\" lengthAdjust=\"spacingAndGlyphs\" textLength=\"8\" x=\"149\" y=\"130.1074\">P</text></a></g><g id=\"E1.E2\"><a href=\"psysml:d8a17efa-9aba-4cd7-b18a-68f8ed4c599b\" target=\"_top\" title=\"psysml:d8a17efa-9aba-4cd7-b18a-68f8ed4c599b\" xlink:actuate=\"onRequest\" xlink:href=\"psysml:d8a17efa-9aba-4cd7-b18a-68f8ed4c599b\" xlink:show=\"new\" xlink:title=\"psysml:d8a17efa-9aba-4cd7-b18a-68f8ed4c599b\" xlink:type=\"simple\"><rect fill=\"#FFFFFF\" height=\"42.9375\" id=\"E2\" rx=\"10\" ry=\"10\" style=\"stroke: #383838; stroke-width: 1.5;\" width=\"50\" x=\"32\" y=\"100\"/><rect fill=\"#F8F8F8\" height=\"37.9375\" rx=\"10\" ry=\"10\" style=\"stroke: #F8F8F8; stroke-width: 1.5;\" width=\"50\" x=\"32\" y=\"100\"/><rect fill=\"#F8F8F8\" height=\"10\" style=\"stroke: #F8F8F8; stroke-width: 1.5;\" width=\"50\" x=\"32\" y=\"127.9375\"/><rect fill=\"none\" height=\"42.9375\" id=\"E2\" rx=\"10\" ry=\"10\" style=\"stroke: #383838; stroke-width: 1.5;\" width=\"50\" x=\"32\" y=\"100\"/><text fill=\"#000000\" font-family=\"sans-serif\" font-size=\"12\" font-style=\"italic\" lengthAdjust=\"spacingAndGlyphs\" textLength=\"41\" x=\"36.5\" y=\"116.1387\">«item»</text><text fill=\"#000000\" font-family=\"sans-serif\" font-size=\"12\" lengthAdjust=\"spacingAndGlyphs\" textLength=\"20\" x=\"47\" y=\"130.1074\">f: A</text></a></g><g id=\"E1.E5.E6\"><a href=\"psysml:44d9af1e-71a6-403b-81da-6292c3b1f2cb\" target=\"_top\" title=\"psysml:44d9af1e-71a6-403b-81da-6292c3b1f2cb\" xlink:actuate=\"onRequest\" xlink:href=\"psysml:44d9af1e-71a6-403b-81da-6292c3b1f2cb\" xlink:show=\"new\" xlink:title=\"psysml:44d9af1e-71a6-403b-81da-6292c3b1f2cb\" xlink:type=\"simple\"><rect fill=\"#FFFFFF\" height=\"42.9375\" id=\"E6\" rx=\"10\" ry=\"10\" style=\"stroke: #383838; stroke-width: 1.5;\" width=\"82\" x=\"438\" y=\"100\"/><rect fill=\"#F8F8F8\" height=\"37.9375\" rx=\"10\" ry=\"10\" style=\"stroke: #F8F8F8; stroke-width: 1.5;\" width=\"82\" x=\"438\" y=\"100\"/><rect fill=\"#F8F8F8\" height=\"10\" style=\"stroke: #F8F8F8; stroke-width: 1.5;\" width=\"82\" x=\"438\" y=\"127.9375\"/><rect fill=\"none\" height=\"42.9375\" id=\"E6\" rx=\"10\" ry=\"10\" style=\"stroke: #383838; stroke-width: 1.5;\" width=\"82\" x=\"438\" y=\"100\"/><text fill=\"#000000\" font-family=\"sans-serif\" font-size=\"12\" font-style=\"italic\" lengthAdjust=\"spacingAndGlyphs\" textLength=\"75\" x=\"441.5\" y=\"116.1387\">«reference»</text><text fill=\"#000000\" font-family=\"sans-serif\" font-size=\"12\" lengthAdjust=\"spacingAndGlyphs\" textLength=\"38\" x=\"460\" y=\"130.1074\">y: A, B</text></a></g><!--MD5=[008d167c7e5e57c109621588f026e375]\n",
       "@startuml\r\n",
       "skinparam ranksep 8\r\n",
       "skinparam rectangle {\r\n",
       " backgroundColor<<block>> LightGreen\r\n",
       "}\r\n",
       "skinparam linetype ortho\r\n",
       "skinparam monochrome true\r\n",
       "skinparam classbackgroundcolor white\r\n",
       "skinparam shadowing false\r\n",
       "skinparam wrapWidth 300\r\n",
       "hide circle\r\n",
       "\r\n",
       "package \"ItemTest\" as E1  [[psysml:75fb623a-e350-4a47-9f82-c4d20b2b5b80 ]]  {\r\n",
       "rec usage \"f: A\" as E2  <<(T,blue)item>> [[psysml:d8a17efa-9aba-4cd7-b18a-68f8ed4c599b ]] {\r\n",
       "}\r\n",
       "def \"A\" as E3  <<(T,blue)item def>> [[psysml:30552314-ef8a-4f2d-b223-fa6e862cb5b8 ]] \r\n",
       "def \"B\" as E4  <<(T,blue)item def>> [[psysml:0c776550-23a6-42b8-908b-320a74e2d4ee ]] \r\n",
       "rec def \"C\" as E5  <<(T,blue)part def>> [[psysml:3f3cfa4e-9100-4bf2-8dae-183ab53e5ac5 ]] {\r\n",
       "rec usage \"y: A, B\" as E6  <<(T,blue)reference>> [[psysml:44d9af1e-71a6-403b-81da-6292c3b1f2cb ]] {\r\n",
       "}\r\n",
       "}\r\n",
       "def \"P\" as E7  <<(T,blue)port def>> [[psysml:b18b87fb-d7bd-4905-b0cb-818d68f57f75 ]] \r\n",
       "}\r\n",
       "@enduml\r\n",
       "\n",
       "PlantUML version 1.2020.13(Sat Jun 13 12:26:38 UTC 2020)\n",
       "(EPL source distribution)\n",
       "Java Runtime: OpenJDK Runtime Environment\n",
       "JVM: OpenJDK 64-Bit Server VM\n",
       "Default Encoding: UTF-8\n",
       "Language: en\n",
       "Country: null\n",
       "--></g></svg>"
      ]
     },
     "execution_count": 54,
     "metadata": {},
     "output_type": "execute_result"
    }
   ],
   "source": [
    "%viz --style=\"ORTHOLINE\" --view=\"Interconnection\" \"ItemTest\""
   ]
  },
  {
   "cell_type": "code",
   "execution_count": 55,
   "id": "treated-helena",
   "metadata": {
    "execution": {
     "iopub.execute_input": "2021-03-26T12:12:09.197637Z",
     "iopub.status.busy": "2021-03-26T12:12:09.196873Z",
     "iopub.status.idle": "2021-03-26T12:12:09.198566Z",
     "shell.execute_reply": "2021-03-26T12:12:09.197293Z"
    }
   },
   "outputs": [
    {
     "data": {
      "image/svg+xml": [
       "<?xml version=\"1.0\" encoding=\"UTF-8\" standalone=\"no\"?><svg xmlns=\"http://www.w3.org/2000/svg\" xmlns:xlink=\"http://www.w3.org/1999/xlink\" contentScriptType=\"application/ecmascript\" contentStyleType=\"text/css\" height=\"12px\" preserveAspectRatio=\"none\" style=\"width:12px;height:12px;\" version=\"1.1\" viewBox=\"0 0 12 12\" width=\"12px\" zoomAndPan=\"magnify\"><defs/><g><!--MD5=[72934c63077099a26744516a776b4749]\n",
       "@startuml\r\n",
       "skinparam ranksep 8\r\n",
       "skinparam linetype ortho\r\n",
       "skinparam monochrome true\r\n",
       "skinparam classbackgroundcolor white\r\n",
       "skinparam shadowing false\r\n",
       "skinparam wrapWidth 300\r\n",
       "hide circle\r\n",
       "\r\n",
       "@enduml\r\n",
       "\n",
       "PlantUML version 1.2020.13(Sat Jun 13 12:26:38 UTC 2020)\n",
       "(EPL source distribution)\n",
       "Java Runtime: OpenJDK Runtime Environment\n",
       "JVM: OpenJDK 64-Bit Server VM\n",
       "Default Encoding: UTF-8\n",
       "Language: en\n",
       "Country: null\n",
       "--></g></svg>"
      ]
     },
     "execution_count": 55,
     "metadata": {},
     "output_type": "execute_result"
    }
   ],
   "source": [
    "%viz --style=\"ORTHOLINE\" --view=\"Action\" \"ItemTest\""
   ]
  },
  {
   "cell_type": "code",
   "execution_count": 56,
   "id": "temporal-bearing",
   "metadata": {
    "execution": {
     "iopub.execute_input": "2021-03-26T12:12:09.249453Z",
     "iopub.status.busy": "2021-03-26T12:12:09.248671Z",
     "iopub.status.idle": "2021-03-26T12:12:09.302387Z",
     "shell.execute_reply": "2021-03-26T12:12:09.300932Z"
    }
   },
   "outputs": [
    {
     "data": {
      "image/svg+xml": [
       "<?xml version=\"1.0\" encoding=\"UTF-8\" standalone=\"no\"?><svg xmlns=\"http://www.w3.org/2000/svg\" xmlns:xlink=\"http://www.w3.org/1999/xlink\" contentScriptType=\"application/ecmascript\" contentStyleType=\"text/css\" height=\"738px\" preserveAspectRatio=\"none\" style=\"width:228px;height:738px;\" version=\"1.1\" viewBox=\"0 0 228 738\" width=\"228px\" zoomAndPan=\"magnify\"><defs/><g><!--MD5=[fbc87193dbaf4d95561dea2c320d4a47]\n",
       "cluster E1--><a href=\"psysml:75fb623a-e350-4a47-9f82-c4d20b2b5b80\" target=\"_top\" title=\"psysml:75fb623a-e350-4a47-9f82-c4d20b2b5b80\" xlink:actuate=\"onRequest\" xlink:href=\"psysml:75fb623a-e350-4a47-9f82-c4d20b2b5b80\" xlink:show=\"new\" xlink:title=\"psysml:75fb623a-e350-4a47-9f82-c4d20b2b5b80\" xlink:type=\"simple\"><polygon fill=\"#FFFFFF\" points=\"16,6,91,6,98,28.2969,206,28.2969,206,726,16,726,16,6\" style=\"stroke: #000000; stroke-width: 1.5;\"/><line style=\"stroke: #000000; stroke-width: 1.5;\" x1=\"16\" x2=\"98\" y1=\"28.2969\" y2=\"28.2969\"/><text fill=\"#000000\" font-family=\"sans-serif\" font-size=\"14\" font-weight=\"bold\" lengthAdjust=\"spacingAndGlyphs\" textLength=\"69\" x=\"20\" y=\"20.9951\">ItemTest</text></a><!--MD5=[b4997ac47864f28c2f74865a473b2911]\n",
       "class E2--><a href=\"psysml:d8a17efa-9aba-4cd7-b18a-68f8ed4c599b\" target=\"_top\" title=\"psysml:d8a17efa-9aba-4cd7-b18a-68f8ed4c599b\" xlink:actuate=\"onRequest\" xlink:href=\"psysml:d8a17efa-9aba-4cd7-b18a-68f8ed4c599b\" xlink:show=\"new\" xlink:title=\"psysml:d8a17efa-9aba-4cd7-b18a-68f8ed4c599b\" xlink:type=\"simple\"><rect fill=\"#FFFFFF\" height=\"45.9375\" id=\"E2\" rx=\"10\" ry=\"10\" style=\"stroke: #383838; stroke-width: 1.5;\" width=\"43\" x=\"133.5\" y=\"62\"/><text fill=\"#000000\" font-family=\"sans-serif\" font-size=\"12\" font-style=\"italic\" lengthAdjust=\"spacingAndGlyphs\" textLength=\"41\" x=\"134.5\" y=\"78.1387\">«item»</text><text fill=\"#000000\" font-family=\"sans-serif\" font-size=\"12\" lengthAdjust=\"spacingAndGlyphs\" textLength=\"20\" x=\"145\" y=\"92.1074\">f: A</text><line style=\"stroke: #383838; stroke-width: 1.5;\" x1=\"134.5\" x2=\"175.5\" y1=\"99.9375\" y2=\"99.9375\"/></a><!--MD5=[09b614a08d8cba4a07c9adeb5e0fee81]\n",
       "class E3--><a href=\"psysml:30552314-ef8a-4f2d-b223-fa6e862cb5b8\" target=\"_top\" title=\"psysml:30552314-ef8a-4f2d-b223-fa6e862cb5b8\" xlink:actuate=\"onRequest\" xlink:href=\"psysml:30552314-ef8a-4f2d-b223-fa6e862cb5b8\" xlink:show=\"new\" xlink:title=\"psysml:30552314-ef8a-4f2d-b223-fa6e862cb5b8\" xlink:type=\"simple\"><rect fill=\"#FFFFFF\" height=\"75.5469\" id=\"E3\" style=\"stroke: #383838; stroke-width: 1.5;\" width=\"67\" x=\"115.5\" y=\"190\"/><text fill=\"#000000\" font-family=\"sans-serif\" font-size=\"12\" font-style=\"italic\" lengthAdjust=\"spacingAndGlyphs\" textLength=\"65\" x=\"116.5\" y=\"206.1387\">«item def»</text><text fill=\"#000000\" font-family=\"sans-serif\" font-size=\"12\" lengthAdjust=\"spacingAndGlyphs\" textLength=\"8\" x=\"145\" y=\"220.1074\">A</text><line style=\"stroke: #383838; stroke-width: 1.5;\" x1=\"116.5\" x2=\"181.5\" y1=\"227.9375\" y2=\"227.9375\"/><text fill=\"#000000\" font-family=\"sans-serif\" font-size=\"11\" lengthAdjust=\"spacingAndGlyphs\" textLength=\"23\" x=\"121.5\" y=\"258.9526\">b: B</text><line style=\"stroke: #383838; stroke-width: 1.0;\" x1=\"116.5\" x2=\"133\" y1=\"242.3398\" y2=\"242.3398\"/><text fill=\"#000000\" font-family=\"sans-serif\" font-size=\"11\" lengthAdjust=\"spacingAndGlyphs\" textLength=\"32\" x=\"133\" y=\"245.6479\">items</text><line style=\"stroke: #383838; stroke-width: 1.0;\" x1=\"165\" x2=\"181.5\" y1=\"242.3398\" y2=\"242.3398\"/></a><!--MD5=[270fce915f116d4de14055a7c1d9a0f3]\n",
       "class E5--><a href=\"psysml:cb0fe327-dda6-4eae-9e46-1ce946f22982\" target=\"_top\" title=\"psysml:cb0fe327-dda6-4eae-9e46-1ce946f22982\" xlink:actuate=\"onRequest\" xlink:href=\"psysml:cb0fe327-dda6-4eae-9e46-1ce946f22982\" xlink:show=\"new\" xlink:title=\"psysml:cb0fe327-dda6-4eae-9e46-1ce946f22982\" xlink:type=\"simple\"><rect fill=\"#FFFFFF\" height=\"45.9375\" id=\"E5\" rx=\"10\" ry=\"10\" style=\"stroke: #383838; stroke-width: 1.5;\" width=\"42\" x=\"32\" y=\"327\"/><text fill=\"#000000\" font-family=\"sans-serif\" font-size=\"12\" font-style=\"italic\" lengthAdjust=\"spacingAndGlyphs\" textLength=\"40\" x=\"33\" y=\"343.1387\">«part»</text><text fill=\"#000000\" font-family=\"sans-serif\" font-size=\"12\" lengthAdjust=\"spacingAndGlyphs\" textLength=\"23\" x=\"41.5\" y=\"357.1074\">c: C</text><line style=\"stroke: #383838; stroke-width: 1.5;\" x1=\"33\" x2=\"73\" y1=\"364.9375\" y2=\"364.9375\"/></a><!--MD5=[60a26617385b1d2d0262a64233df1f8d]\n",
       "class E6--><a href=\"psysml:0c776550-23a6-42b8-908b-320a74e2d4ee\" target=\"_top\" title=\"psysml:0c776550-23a6-42b8-908b-320a74e2d4ee\" xlink:actuate=\"onRequest\" xlink:href=\"psysml:0c776550-23a6-42b8-908b-320a74e2d4ee\" xlink:show=\"new\" xlink:title=\"psysml:0c776550-23a6-42b8-908b-320a74e2d4ee\" xlink:type=\"simple\"><rect fill=\"#FFFFFF\" height=\"45.9375\" id=\"E6\" style=\"stroke: #383838; stroke-width: 1.5;\" width=\"67\" x=\"85.5\" y=\"557\"/><text fill=\"#000000\" font-family=\"sans-serif\" font-size=\"12\" font-style=\"italic\" lengthAdjust=\"spacingAndGlyphs\" textLength=\"65\" x=\"86.5\" y=\"573.1387\">«item def»</text><text fill=\"#000000\" font-family=\"sans-serif\" font-size=\"12\" lengthAdjust=\"spacingAndGlyphs\" textLength=\"8\" x=\"115\" y=\"587.1074\">B</text><line style=\"stroke: #383838; stroke-width: 1.5;\" x1=\"86.5\" x2=\"151.5\" y1=\"594.9375\" y2=\"594.9375\"/></a><!--MD5=[2156ba9850f5573cc1fc38a6a4b2f02b]\n",
       "class E7--><a href=\"psysml:7f7b610c-5cf3-4f1d-92e7-984e3817e328\" target=\"_top\" title=\"psysml:7f7b610c-5cf3-4f1d-92e7-984e3817e328\" xlink:actuate=\"onRequest\" xlink:href=\"psysml:7f7b610c-5cf3-4f1d-92e7-984e3817e328\" xlink:show=\"new\" xlink:title=\"psysml:7f7b610c-5cf3-4f1d-92e7-984e3817e328\" xlink:type=\"simple\"><rect fill=\"#FFFFFF\" height=\"45.9375\" id=\"E7\" rx=\"10\" ry=\"10\" style=\"stroke: #383838; stroke-width: 1.5;\" width=\"42\" x=\"123\" y=\"664\"/><text fill=\"#000000\" font-family=\"sans-serif\" font-size=\"12\" font-style=\"italic\" lengthAdjust=\"spacingAndGlyphs\" textLength=\"40\" x=\"124\" y=\"680.1387\">«part»</text><text fill=\"#000000\" font-family=\"sans-serif\" font-size=\"12\" lengthAdjust=\"spacingAndGlyphs\" textLength=\"24\" x=\"132\" y=\"694.1074\">a: A</text><line style=\"stroke: #383838; stroke-width: 1.5;\" x1=\"124\" x2=\"164\" y1=\"701.9375\" y2=\"701.9375\"/></a><!--MD5=[b9389687b975829384b498ac4b7476b2]\n",
       "class E8--><a href=\"psysml:3f3cfa4e-9100-4bf2-8dae-183ab53e5ac5\" target=\"_top\" title=\"psysml:3f3cfa4e-9100-4bf2-8dae-183ab53e5ac5\" xlink:actuate=\"onRequest\" xlink:href=\"psysml:3f3cfa4e-9100-4bf2-8dae-183ab53e5ac5\" xlink:show=\"new\" xlink:title=\"psysml:3f3cfa4e-9100-4bf2-8dae-183ab53e5ac5\" xlink:type=\"simple\"><rect fill=\"#FFFFFF\" height=\"45.9375\" id=\"E8\" style=\"stroke: #383838; stroke-width: 1.5;\" width=\"66\" x=\"86\" y=\"434\"/><text fill=\"#000000\" font-family=\"sans-serif\" font-size=\"12\" font-style=\"italic\" lengthAdjust=\"spacingAndGlyphs\" textLength=\"64\" x=\"87\" y=\"450.1387\">«part def»</text><text fill=\"#000000\" font-family=\"sans-serif\" font-size=\"12\" lengthAdjust=\"spacingAndGlyphs\" textLength=\"8\" x=\"115\" y=\"464.1074\">C</text><line style=\"stroke: #383838; stroke-width: 1.5;\" x1=\"87\" x2=\"151\" y1=\"471.9375\" y2=\"471.9375\"/></a><!--MD5=[fd4143e9d270a159db93a4ea2a975926]\n",
       "class E9--><a href=\"psysml:b18b87fb-d7bd-4905-b0cb-818d68f57f75\" target=\"_top\" title=\"psysml:b18b87fb-d7bd-4905-b0cb-818d68f57f75\" xlink:actuate=\"onRequest\" xlink:href=\"psysml:b18b87fb-d7bd-4905-b0cb-818d68f57f75\" xlink:show=\"new\" xlink:title=\"psysml:b18b87fb-d7bd-4905-b0cb-818d68f57f75\" xlink:type=\"simple\"><rect fill=\"#FFFFFF\" height=\"88.3516\" id=\"E9\" style=\"stroke: #383838; stroke-width: 1.5;\" width=\"66\" x=\"32\" y=\"41\"/><text fill=\"#000000\" font-family=\"sans-serif\" font-size=\"12\" font-style=\"italic\" lengthAdjust=\"spacingAndGlyphs\" textLength=\"64\" x=\"33\" y=\"57.1387\">«port def»</text><text fill=\"#000000\" font-family=\"sans-serif\" font-size=\"12\" lengthAdjust=\"spacingAndGlyphs\" textLength=\"8\" x=\"61\" y=\"71.1074\">P</text><line style=\"stroke: #383838; stroke-width: 1.5;\" x1=\"33\" x2=\"97\" y1=\"78.9375\" y2=\"78.9375\"/><text fill=\"#000000\" font-family=\"sans-serif\" font-size=\"11\" lengthAdjust=\"spacingAndGlyphs\" textLength=\"29\" x=\"38\" y=\"109.9526\">a1: A</text><text fill=\"#000000\" font-family=\"sans-serif\" font-size=\"11\" lengthAdjust=\"spacingAndGlyphs\" textLength=\"29\" x=\"38\" y=\"122.7573\">a2: A</text><line style=\"stroke: #383838; stroke-width: 1.0;\" x1=\"33\" x2=\"49\" y1=\"93.3398\" y2=\"93.3398\"/><text fill=\"#000000\" font-family=\"sans-serif\" font-size=\"11\" lengthAdjust=\"spacingAndGlyphs\" textLength=\"32\" x=\"49\" y=\"96.6479\">items</text><line style=\"stroke: #383838; stroke-width: 1.0;\" x1=\"81\" x2=\"97\" y1=\"93.3398\" y2=\"93.3398\"/></a><!--MD5=[2720a5a1f2c3fca2055b230370638851]\n",
       "link E2 to E3--><a href=\"psysml:cbc83e8e-35d8-4884-92a4-03d9c321669a\" target=\"_top\" title=\"psysml:cbc83e8e-35d8-4884-92a4-03d9c321669a\" xlink:actuate=\"onRequest\" xlink:href=\"psysml:cbc83e8e-35d8-4884-92a4-03d9c321669a\" xlink:show=\"new\" xlink:title=\"psysml:cbc83e8e-35d8-4884-92a4-03d9c321669a\" xlink:type=\"simple\"><path d=\"M155,108.29 C155,108.29 155,169.91 155,169.91 \" fill=\"none\" id=\"E2-&gt;E3\" style=\"stroke: #383838; stroke-width: 1.0;\"/><polygon fill=\"#FFFFFF\" points=\"155,189.91,148,170.91,162,170.91,155,189.91\" style=\"stroke: #383838; stroke-width: 1.0;\"/><ellipse cx=\"150\" cy=\"165.21\" fill=\"#383838\" rx=\"2\" ry=\"2\" style=\"stroke: #383838; stroke-width: 1.0;\"/><ellipse cx=\"160\" cy=\"165.21\" fill=\"#383838\" rx=\"2\" ry=\"2\" style=\"stroke: #383838; stroke-width: 1.0;\"/></a><!--MD5=[191cde3d490a3f6d7bb551fe3ddca469]\n",
       "reverse link E3 to E5--><a href=\"psysml:cb0fe327-dda6-4eae-9e46-1ce946f22982\" target=\"_top\" title=\"psysml:cb0fe327-dda6-4eae-9e46-1ce946f22982\" xlink:actuate=\"onRequest\" xlink:href=\"psysml:cb0fe327-dda6-4eae-9e46-1ce946f22982\" xlink:show=\"new\" xlink:title=\"psysml:cb0fe327-dda6-4eae-9e46-1ce946f22982\" xlink:type=\"simple\"><path d=\"M127.67,279.29 C127.67,279.29 127.67,343 127.67,343 C127.67,343 96.27,343 74.2,343 \" fill=\"none\" id=\"E3&lt;-E5\" style=\"stroke: #383838; stroke-width: 1.0;\"/><polygon fill=\"#FFFFFF\" points=\"127.67,266.29,123.67,272.29,127.67,278.29,131.67,272.29,127.67,266.29\" style=\"stroke: #383838; stroke-width: 1.0;\"/></a><!--MD5=[14ccda38c055a5c0da953d572bc50960]\n",
       "link E7 to E3--><a href=\"psysml:b2ac9add-d533-4cc3-a1ec-28b279e4ff39\" target=\"_top\" title=\"psysml:b2ac9add-d533-4cc3-a1ec-28b279e4ff39\" xlink:actuate=\"onRequest\" xlink:href=\"psysml:b2ac9add-d533-4cc3-a1ec-28b279e4ff39\" xlink:show=\"new\" xlink:title=\"psysml:b2ac9add-d533-4cc3-a1ec-28b279e4ff39\" xlink:type=\"simple\"><path d=\"M158.75,663.92 C158.75,663.92 158.75,286.15 158.75,286.15 \" fill=\"none\" id=\"E7-&gt;E3\" style=\"stroke: #383838; stroke-width: 1.0;\"/><polygon fill=\"#FFFFFF\" points=\"158.75,266.15,165.75,285.15,151.75,285.15,158.75,266.15\" style=\"stroke: #383838; stroke-width: 1.0;\"/><ellipse cx=\"163.75\" cy=\"290.85\" fill=\"#383838\" rx=\"2\" ry=\"2\" style=\"stroke: #383838; stroke-width: 1.0;\"/><ellipse cx=\"153.75\" cy=\"290.85\" fill=\"#383838\" rx=\"2\" ry=\"2\" style=\"stroke: #383838; stroke-width: 1.0;\"/></a><!--MD5=[3f50a3473f1dfb74d3f76443e03635af]\n",
       "reverse link E6 to E7--><a href=\"psysml:7f7b610c-5cf3-4f1d-92e7-984e3817e328\" target=\"_top\" title=\"psysml:7f7b610c-5cf3-4f1d-92e7-984e3817e328\" xlink:actuate=\"onRequest\" xlink:href=\"psysml:7f7b610c-5cf3-4f1d-92e7-984e3817e328\" xlink:show=\"new\" xlink:title=\"psysml:7f7b610c-5cf3-4f1d-92e7-984e3817e328\" xlink:type=\"simple\"><path d=\"M137.75,616.22 C137.75,616.22 137.75,663.83 137.75,663.83 \" fill=\"none\" id=\"E6&lt;-E7\" style=\"stroke: #383838; stroke-width: 1.0;\"/><polygon fill=\"#383838\" points=\"137.75,603.22,133.75,609.22,137.75,615.22,141.75,609.22,137.75,603.22\" style=\"stroke: #383838; stroke-width: 1.0;\"/></a><!--MD5=[dfaffb906826c3e5aca635516100ff21]\n",
       "link E5 to E8--><a href=\"psysml:8f4ff897-72ba-4249-b35c-9a7192bde9f3\" target=\"_top\" title=\"psysml:8f4ff897-72ba-4249-b35c-9a7192bde9f3\" xlink:actuate=\"onRequest\" xlink:href=\"psysml:8f4ff897-72ba-4249-b35c-9a7192bde9f3\" xlink:show=\"new\" xlink:title=\"psysml:8f4ff897-72ba-4249-b35c-9a7192bde9f3\" xlink:type=\"simple\"><path d=\"M74.33,358 C83.43,358 92,358 92,358 C92,358 92,413.79 92,413.79 \" fill=\"none\" id=\"E5-&gt;E8\" style=\"stroke: #383838; stroke-width: 1.0;\"/><polygon fill=\"#FFFFFF\" points=\"92,433.79,85,414.79,99,414.79,92,433.79\" style=\"stroke: #383838; stroke-width: 1.0;\"/><ellipse cx=\"87\" cy=\"409.09\" fill=\"#383838\" rx=\"2\" ry=\"2\" style=\"stroke: #383838; stroke-width: 1.0;\"/><ellipse cx=\"97\" cy=\"409.09\" fill=\"#383838\" rx=\"2\" ry=\"2\" style=\"stroke: #383838; stroke-width: 1.0;\"/></a><!--MD5=[03c8294790d3c57651a1993cecff665f]\n",
       "reverse link E8 to E3--><a href=\"psysml:44d9af1e-71a6-403b-81da-6292c3b1f2cb\" target=\"_top\" title=\"psysml:44d9af1e-71a6-403b-81da-6292c3b1f2cb\" xlink:actuate=\"onRequest\" xlink:href=\"psysml:44d9af1e-71a6-403b-81da-6292c3b1f2cb\" xlink:show=\"new\" xlink:title=\"psysml:44d9af1e-71a6-403b-81da-6292c3b1f2cb\" xlink:type=\"simple\"><path d=\"M139.83,420.78 C139.83,420.78 139.83,266.05 139.83,266.05 \" fill=\"none\" id=\"E8&lt;-E3\" style=\"stroke: #383838; stroke-width: 1.0;\"/><polygon fill=\"#FFFFFF\" points=\"139.83,433.78,143.83,427.78,139.83,421.78,135.83,427.78,139.83,433.78\" style=\"stroke: #383838; stroke-width: 1.0;\"/><text fill=\"#000000\" font-family=\"sans-serif\" font-size=\"13\" lengthAdjust=\"spacingAndGlyphs\" textLength=\"7\" x=\"145\" y=\"354.5669\">y</text></a><!--MD5=[0d75d2178373a6a4568e5dc728f58aef]\n",
       "reverse link E8 to E6--><a href=\"psysml:44d9af1e-71a6-403b-81da-6292c3b1f2cb\" target=\"_top\" title=\"psysml:44d9af1e-71a6-403b-81da-6292c3b1f2cb\" xlink:actuate=\"onRequest\" xlink:href=\"psysml:44d9af1e-71a6-403b-81da-6292c3b1f2cb\" xlink:show=\"new\" xlink:title=\"psysml:44d9af1e-71a6-403b-81da-6292c3b1f2cb\" xlink:type=\"simple\"><path d=\"M119,493.14 C119,493.14 119,556.97 119,556.97 \" fill=\"none\" id=\"E8&lt;-E6\" style=\"stroke: #383838; stroke-width: 1.0;\"/><polygon fill=\"#FFFFFF\" points=\"119,480.14,115,486.14,119,492.14,123,486.14,119,480.14\" style=\"stroke: #383838; stroke-width: 1.0;\"/><text fill=\"#000000\" font-family=\"sans-serif\" font-size=\"13\" lengthAdjust=\"spacingAndGlyphs\" textLength=\"7\" x=\"120\" y=\"523.0669\">y</text></a><!--MD5=[71b5f68bb9b79fab1e90becfa1386e5a]\n",
       "@startuml\r\n",
       "skinparam linetype ortho\r\n",
       "skinparam monochrome true\r\n",
       "skinparam classbackgroundcolor white\r\n",
       "skinparam shadowing false\r\n",
       "skinparam wrapWidth 300\r\n",
       "hide circle\r\n",
       "\r\n",
       "package \"ItemTest\" as E1  [[psysml:75fb623a-e350-4a47-9f82-c4d20b2b5b80 ]]  {\r\n",
       "comp usage \"f: A\" as E2  <<(T,blue)item>> [[psysml:d8a17efa-9aba-4cd7-b18a-68f8ed4c599b ]] {\r\n",
       "}\r\n",
       "comp def \"A\" as E3  <<(T,blue)item def>> [[psysml:30552314-ef8a-4f2d-b223-fa6e862cb5b8 ]] {\r\n",
       "- - items - -\r\n",
       "b: B\r\n",
       "}\r\n",
       "comp usage \"c: C\" as E5  <<(T,blue)part>> [[psysml:cb0fe327-dda6-4eae-9e46-1ce946f22982 ]] {\r\n",
       "}\r\n",
       "comp def \"B\" as E6  <<(T,blue)item def>> [[psysml:0c776550-23a6-42b8-908b-320a74e2d4ee ]] {\r\n",
       "}\r\n",
       "comp usage \"a: A\" as E7  <<(T,blue)part>> [[psysml:7f7b610c-5cf3-4f1d-92e7-984e3817e328 ]] {\r\n",
       "}\r\n",
       "comp def \"C\" as E8  <<(T,blue)part def>> [[psysml:3f3cfa4e-9100-4bf2-8dae-183ab53e5ac5 ]] {\r\n",
       "}\r\n",
       "comp def \"P\" as E9  <<(T,blue)port def>> [[psysml:b18b87fb-d7bd-4905-b0cb-818d68f57f75 ]] {\r\n",
       "- - items - -\r\n",
       "a1: A\r\n",
       "a2: A\r\n",
       "}\r\n",
       "E2 - -:|> E3 [[psysml:cbc83e8e-35d8-4884-92a4-03d9c321669a ]] \r\n",
       "E3 o- - E5 [[psysml:cb0fe327-dda6-4eae-9e46-1ce946f22982 ]] \r\n",
       "E7 - -:|> E3 [[psysml:b2ac9add-d533-4cc3-a1ec-28b279e4ff39 ]] \r\n",
       "E6 *- - E7 [[psysml:7f7b610c-5cf3-4f1d-92e7-984e3817e328 ]] \r\n",
       "E5 - -:|> E8 [[psysml:8f4ff897-72ba-4249-b35c-9a7192bde9f3 ]] \r\n",
       "E8 o- - E3 [[psysml:44d9af1e-71a6-403b-81da-6292c3b1f2cb ]] : y\r\n",
       "E8 o- - E6 [[psysml:44d9af1e-71a6-403b-81da-6292c3b1f2cb ]] : y\r\n",
       "}\r\n",
       "@enduml\r\n",
       "\n",
       "PlantUML version 1.2020.13(Sat Jun 13 12:26:38 UTC 2020)\n",
       "(EPL source distribution)\n",
       "Java Runtime: OpenJDK Runtime Environment\n",
       "JVM: OpenJDK 64-Bit Server VM\n",
       "Default Encoding: UTF-8\n",
       "Language: en\n",
       "Country: null\n",
       "--></g></svg>"
      ]
     },
     "execution_count": 56,
     "metadata": {},
     "output_type": "execute_result"
    }
   ],
   "source": [
    "%viz --style=\"ORTHOLINE\" --view=\"Sequence\" \"ItemTest\""
   ]
  },
  {
   "cell_type": "code",
   "execution_count": 57,
   "id": "dirty-business",
   "metadata": {
    "execution": {
     "iopub.execute_input": "2021-03-26T12:12:09.353026Z",
     "iopub.status.busy": "2021-03-26T12:12:09.352470Z",
     "iopub.status.idle": "2021-03-26T12:12:09.410650Z",
     "shell.execute_reply": "2021-03-26T12:12:09.409181Z"
    }
   },
   "outputs": [
    {
     "data": {
      "image/svg+xml": [
       "<?xml version=\"1.0\" encoding=\"UTF-8\" standalone=\"no\"?><svg xmlns=\"http://www.w3.org/2000/svg\" xmlns:xlink=\"http://www.w3.org/1999/xlink\" contentScriptType=\"application/ecmascript\" contentStyleType=\"text/css\" height=\"738px\" preserveAspectRatio=\"none\" style=\"width:228px;height:738px;\" version=\"1.1\" viewBox=\"0 0 228 738\" width=\"228px\" zoomAndPan=\"magnify\"><defs/><g><!--MD5=[fbc87193dbaf4d95561dea2c320d4a47]\n",
       "cluster E1--><a href=\"psysml:75fb623a-e350-4a47-9f82-c4d20b2b5b80\" target=\"_top\" title=\"psysml:75fb623a-e350-4a47-9f82-c4d20b2b5b80\" xlink:actuate=\"onRequest\" xlink:href=\"psysml:75fb623a-e350-4a47-9f82-c4d20b2b5b80\" xlink:show=\"new\" xlink:title=\"psysml:75fb623a-e350-4a47-9f82-c4d20b2b5b80\" xlink:type=\"simple\"><polygon fill=\"#FFFFFF\" points=\"16,6,91,6,98,28.2969,206,28.2969,206,726,16,726,16,6\" style=\"stroke: #000000; stroke-width: 1.5;\"/><line style=\"stroke: #000000; stroke-width: 1.5;\" x1=\"16\" x2=\"98\" y1=\"28.2969\" y2=\"28.2969\"/><text fill=\"#000000\" font-family=\"sans-serif\" font-size=\"14\" font-weight=\"bold\" lengthAdjust=\"spacingAndGlyphs\" textLength=\"69\" x=\"20\" y=\"20.9951\">ItemTest</text></a><!--MD5=[b4997ac47864f28c2f74865a473b2911]\n",
       "class E2--><a href=\"psysml:d8a17efa-9aba-4cd7-b18a-68f8ed4c599b\" target=\"_top\" title=\"psysml:d8a17efa-9aba-4cd7-b18a-68f8ed4c599b\" xlink:actuate=\"onRequest\" xlink:href=\"psysml:d8a17efa-9aba-4cd7-b18a-68f8ed4c599b\" xlink:show=\"new\" xlink:title=\"psysml:d8a17efa-9aba-4cd7-b18a-68f8ed4c599b\" xlink:type=\"simple\"><rect fill=\"#FFFFFF\" height=\"45.9375\" id=\"E2\" rx=\"10\" ry=\"10\" style=\"stroke: #383838; stroke-width: 1.5;\" width=\"43\" x=\"133.5\" y=\"62\"/><text fill=\"#000000\" font-family=\"sans-serif\" font-size=\"12\" font-style=\"italic\" lengthAdjust=\"spacingAndGlyphs\" textLength=\"41\" x=\"134.5\" y=\"78.1387\">«item»</text><text fill=\"#000000\" font-family=\"sans-serif\" font-size=\"12\" lengthAdjust=\"spacingAndGlyphs\" textLength=\"20\" x=\"145\" y=\"92.1074\">f: A</text><line style=\"stroke: #383838; stroke-width: 1.5;\" x1=\"134.5\" x2=\"175.5\" y1=\"99.9375\" y2=\"99.9375\"/></a><!--MD5=[09b614a08d8cba4a07c9adeb5e0fee81]\n",
       "class E3--><a href=\"psysml:30552314-ef8a-4f2d-b223-fa6e862cb5b8\" target=\"_top\" title=\"psysml:30552314-ef8a-4f2d-b223-fa6e862cb5b8\" xlink:actuate=\"onRequest\" xlink:href=\"psysml:30552314-ef8a-4f2d-b223-fa6e862cb5b8\" xlink:show=\"new\" xlink:title=\"psysml:30552314-ef8a-4f2d-b223-fa6e862cb5b8\" xlink:type=\"simple\"><rect fill=\"#FFFFFF\" height=\"75.5469\" id=\"E3\" style=\"stroke: #383838; stroke-width: 1.5;\" width=\"67\" x=\"115.5\" y=\"190\"/><text fill=\"#000000\" font-family=\"sans-serif\" font-size=\"12\" font-style=\"italic\" lengthAdjust=\"spacingAndGlyphs\" textLength=\"65\" x=\"116.5\" y=\"206.1387\">«item def»</text><text fill=\"#000000\" font-family=\"sans-serif\" font-size=\"12\" lengthAdjust=\"spacingAndGlyphs\" textLength=\"8\" x=\"145\" y=\"220.1074\">A</text><line style=\"stroke: #383838; stroke-width: 1.5;\" x1=\"116.5\" x2=\"181.5\" y1=\"227.9375\" y2=\"227.9375\"/><text fill=\"#000000\" font-family=\"sans-serif\" font-size=\"11\" lengthAdjust=\"spacingAndGlyphs\" textLength=\"23\" x=\"121.5\" y=\"258.9526\">b: B</text><line style=\"stroke: #383838; stroke-width: 1.0;\" x1=\"116.5\" x2=\"133\" y1=\"242.3398\" y2=\"242.3398\"/><text fill=\"#000000\" font-family=\"sans-serif\" font-size=\"11\" lengthAdjust=\"spacingAndGlyphs\" textLength=\"32\" x=\"133\" y=\"245.6479\">items</text><line style=\"stroke: #383838; stroke-width: 1.0;\" x1=\"165\" x2=\"181.5\" y1=\"242.3398\" y2=\"242.3398\"/></a><!--MD5=[270fce915f116d4de14055a7c1d9a0f3]\n",
       "class E5--><a href=\"psysml:cb0fe327-dda6-4eae-9e46-1ce946f22982\" target=\"_top\" title=\"psysml:cb0fe327-dda6-4eae-9e46-1ce946f22982\" xlink:actuate=\"onRequest\" xlink:href=\"psysml:cb0fe327-dda6-4eae-9e46-1ce946f22982\" xlink:show=\"new\" xlink:title=\"psysml:cb0fe327-dda6-4eae-9e46-1ce946f22982\" xlink:type=\"simple\"><rect fill=\"#FFFFFF\" height=\"45.9375\" id=\"E5\" rx=\"10\" ry=\"10\" style=\"stroke: #383838; stroke-width: 1.5;\" width=\"42\" x=\"32\" y=\"327\"/><text fill=\"#000000\" font-family=\"sans-serif\" font-size=\"12\" font-style=\"italic\" lengthAdjust=\"spacingAndGlyphs\" textLength=\"40\" x=\"33\" y=\"343.1387\">«part»</text><text fill=\"#000000\" font-family=\"sans-serif\" font-size=\"12\" lengthAdjust=\"spacingAndGlyphs\" textLength=\"23\" x=\"41.5\" y=\"357.1074\">c: C</text><line style=\"stroke: #383838; stroke-width: 1.5;\" x1=\"33\" x2=\"73\" y1=\"364.9375\" y2=\"364.9375\"/></a><!--MD5=[60a26617385b1d2d0262a64233df1f8d]\n",
       "class E6--><a href=\"psysml:0c776550-23a6-42b8-908b-320a74e2d4ee\" target=\"_top\" title=\"psysml:0c776550-23a6-42b8-908b-320a74e2d4ee\" xlink:actuate=\"onRequest\" xlink:href=\"psysml:0c776550-23a6-42b8-908b-320a74e2d4ee\" xlink:show=\"new\" xlink:title=\"psysml:0c776550-23a6-42b8-908b-320a74e2d4ee\" xlink:type=\"simple\"><rect fill=\"#FFFFFF\" height=\"45.9375\" id=\"E6\" style=\"stroke: #383838; stroke-width: 1.5;\" width=\"67\" x=\"85.5\" y=\"557\"/><text fill=\"#000000\" font-family=\"sans-serif\" font-size=\"12\" font-style=\"italic\" lengthAdjust=\"spacingAndGlyphs\" textLength=\"65\" x=\"86.5\" y=\"573.1387\">«item def»</text><text fill=\"#000000\" font-family=\"sans-serif\" font-size=\"12\" lengthAdjust=\"spacingAndGlyphs\" textLength=\"8\" x=\"115\" y=\"587.1074\">B</text><line style=\"stroke: #383838; stroke-width: 1.5;\" x1=\"86.5\" x2=\"151.5\" y1=\"594.9375\" y2=\"594.9375\"/></a><!--MD5=[2156ba9850f5573cc1fc38a6a4b2f02b]\n",
       "class E7--><a href=\"psysml:7f7b610c-5cf3-4f1d-92e7-984e3817e328\" target=\"_top\" title=\"psysml:7f7b610c-5cf3-4f1d-92e7-984e3817e328\" xlink:actuate=\"onRequest\" xlink:href=\"psysml:7f7b610c-5cf3-4f1d-92e7-984e3817e328\" xlink:show=\"new\" xlink:title=\"psysml:7f7b610c-5cf3-4f1d-92e7-984e3817e328\" xlink:type=\"simple\"><rect fill=\"#FFFFFF\" height=\"45.9375\" id=\"E7\" rx=\"10\" ry=\"10\" style=\"stroke: #383838; stroke-width: 1.5;\" width=\"42\" x=\"123\" y=\"664\"/><text fill=\"#000000\" font-family=\"sans-serif\" font-size=\"12\" font-style=\"italic\" lengthAdjust=\"spacingAndGlyphs\" textLength=\"40\" x=\"124\" y=\"680.1387\">«part»</text><text fill=\"#000000\" font-family=\"sans-serif\" font-size=\"12\" lengthAdjust=\"spacingAndGlyphs\" textLength=\"24\" x=\"132\" y=\"694.1074\">a: A</text><line style=\"stroke: #383838; stroke-width: 1.5;\" x1=\"124\" x2=\"164\" y1=\"701.9375\" y2=\"701.9375\"/></a><!--MD5=[b9389687b975829384b498ac4b7476b2]\n",
       "class E8--><a href=\"psysml:3f3cfa4e-9100-4bf2-8dae-183ab53e5ac5\" target=\"_top\" title=\"psysml:3f3cfa4e-9100-4bf2-8dae-183ab53e5ac5\" xlink:actuate=\"onRequest\" xlink:href=\"psysml:3f3cfa4e-9100-4bf2-8dae-183ab53e5ac5\" xlink:show=\"new\" xlink:title=\"psysml:3f3cfa4e-9100-4bf2-8dae-183ab53e5ac5\" xlink:type=\"simple\"><rect fill=\"#FFFFFF\" height=\"45.9375\" id=\"E8\" style=\"stroke: #383838; stroke-width: 1.5;\" width=\"66\" x=\"86\" y=\"434\"/><text fill=\"#000000\" font-family=\"sans-serif\" font-size=\"12\" font-style=\"italic\" lengthAdjust=\"spacingAndGlyphs\" textLength=\"64\" x=\"87\" y=\"450.1387\">«part def»</text><text fill=\"#000000\" font-family=\"sans-serif\" font-size=\"12\" lengthAdjust=\"spacingAndGlyphs\" textLength=\"8\" x=\"115\" y=\"464.1074\">C</text><line style=\"stroke: #383838; stroke-width: 1.5;\" x1=\"87\" x2=\"151\" y1=\"471.9375\" y2=\"471.9375\"/></a><!--MD5=[fd4143e9d270a159db93a4ea2a975926]\n",
       "class E9--><a href=\"psysml:b18b87fb-d7bd-4905-b0cb-818d68f57f75\" target=\"_top\" title=\"psysml:b18b87fb-d7bd-4905-b0cb-818d68f57f75\" xlink:actuate=\"onRequest\" xlink:href=\"psysml:b18b87fb-d7bd-4905-b0cb-818d68f57f75\" xlink:show=\"new\" xlink:title=\"psysml:b18b87fb-d7bd-4905-b0cb-818d68f57f75\" xlink:type=\"simple\"><rect fill=\"#FFFFFF\" height=\"88.3516\" id=\"E9\" style=\"stroke: #383838; stroke-width: 1.5;\" width=\"66\" x=\"32\" y=\"41\"/><text fill=\"#000000\" font-family=\"sans-serif\" font-size=\"12\" font-style=\"italic\" lengthAdjust=\"spacingAndGlyphs\" textLength=\"64\" x=\"33\" y=\"57.1387\">«port def»</text><text fill=\"#000000\" font-family=\"sans-serif\" font-size=\"12\" lengthAdjust=\"spacingAndGlyphs\" textLength=\"8\" x=\"61\" y=\"71.1074\">P</text><line style=\"stroke: #383838; stroke-width: 1.5;\" x1=\"33\" x2=\"97\" y1=\"78.9375\" y2=\"78.9375\"/><text fill=\"#000000\" font-family=\"sans-serif\" font-size=\"11\" lengthAdjust=\"spacingAndGlyphs\" textLength=\"29\" x=\"38\" y=\"109.9526\">a1: A</text><text fill=\"#000000\" font-family=\"sans-serif\" font-size=\"11\" lengthAdjust=\"spacingAndGlyphs\" textLength=\"29\" x=\"38\" y=\"122.7573\">a2: A</text><line style=\"stroke: #383838; stroke-width: 1.0;\" x1=\"33\" x2=\"49\" y1=\"93.3398\" y2=\"93.3398\"/><text fill=\"#000000\" font-family=\"sans-serif\" font-size=\"11\" lengthAdjust=\"spacingAndGlyphs\" textLength=\"32\" x=\"49\" y=\"96.6479\">items</text><line style=\"stroke: #383838; stroke-width: 1.0;\" x1=\"81\" x2=\"97\" y1=\"93.3398\" y2=\"93.3398\"/></a><!--MD5=[2720a5a1f2c3fca2055b230370638851]\n",
       "link E2 to E3--><a href=\"psysml:cbc83e8e-35d8-4884-92a4-03d9c321669a\" target=\"_top\" title=\"psysml:cbc83e8e-35d8-4884-92a4-03d9c321669a\" xlink:actuate=\"onRequest\" xlink:href=\"psysml:cbc83e8e-35d8-4884-92a4-03d9c321669a\" xlink:show=\"new\" xlink:title=\"psysml:cbc83e8e-35d8-4884-92a4-03d9c321669a\" xlink:type=\"simple\"><path d=\"M155,108.29 C155,108.29 155,169.91 155,169.91 \" fill=\"none\" id=\"E2-&gt;E3\" style=\"stroke: #383838; stroke-width: 1.0;\"/><polygon fill=\"#FFFFFF\" points=\"155,189.91,148,170.91,162,170.91,155,189.91\" style=\"stroke: #383838; stroke-width: 1.0;\"/><ellipse cx=\"150\" cy=\"165.21\" fill=\"#383838\" rx=\"2\" ry=\"2\" style=\"stroke: #383838; stroke-width: 1.0;\"/><ellipse cx=\"160\" cy=\"165.21\" fill=\"#383838\" rx=\"2\" ry=\"2\" style=\"stroke: #383838; stroke-width: 1.0;\"/></a><!--MD5=[191cde3d490a3f6d7bb551fe3ddca469]\n",
       "reverse link E3 to E5--><a href=\"psysml:cb0fe327-dda6-4eae-9e46-1ce946f22982\" target=\"_top\" title=\"psysml:cb0fe327-dda6-4eae-9e46-1ce946f22982\" xlink:actuate=\"onRequest\" xlink:href=\"psysml:cb0fe327-dda6-4eae-9e46-1ce946f22982\" xlink:show=\"new\" xlink:title=\"psysml:cb0fe327-dda6-4eae-9e46-1ce946f22982\" xlink:type=\"simple\"><path d=\"M127.67,279.29 C127.67,279.29 127.67,343 127.67,343 C127.67,343 96.27,343 74.2,343 \" fill=\"none\" id=\"E3&lt;-E5\" style=\"stroke: #383838; stroke-width: 1.0;\"/><polygon fill=\"#FFFFFF\" points=\"127.67,266.29,123.67,272.29,127.67,278.29,131.67,272.29,127.67,266.29\" style=\"stroke: #383838; stroke-width: 1.0;\"/></a><!--MD5=[14ccda38c055a5c0da953d572bc50960]\n",
       "link E7 to E3--><a href=\"psysml:b2ac9add-d533-4cc3-a1ec-28b279e4ff39\" target=\"_top\" title=\"psysml:b2ac9add-d533-4cc3-a1ec-28b279e4ff39\" xlink:actuate=\"onRequest\" xlink:href=\"psysml:b2ac9add-d533-4cc3-a1ec-28b279e4ff39\" xlink:show=\"new\" xlink:title=\"psysml:b2ac9add-d533-4cc3-a1ec-28b279e4ff39\" xlink:type=\"simple\"><path d=\"M158.75,663.92 C158.75,663.92 158.75,286.15 158.75,286.15 \" fill=\"none\" id=\"E7-&gt;E3\" style=\"stroke: #383838; stroke-width: 1.0;\"/><polygon fill=\"#FFFFFF\" points=\"158.75,266.15,165.75,285.15,151.75,285.15,158.75,266.15\" style=\"stroke: #383838; stroke-width: 1.0;\"/><ellipse cx=\"163.75\" cy=\"290.85\" fill=\"#383838\" rx=\"2\" ry=\"2\" style=\"stroke: #383838; stroke-width: 1.0;\"/><ellipse cx=\"153.75\" cy=\"290.85\" fill=\"#383838\" rx=\"2\" ry=\"2\" style=\"stroke: #383838; stroke-width: 1.0;\"/></a><!--MD5=[3f50a3473f1dfb74d3f76443e03635af]\n",
       "reverse link E6 to E7--><a href=\"psysml:7f7b610c-5cf3-4f1d-92e7-984e3817e328\" target=\"_top\" title=\"psysml:7f7b610c-5cf3-4f1d-92e7-984e3817e328\" xlink:actuate=\"onRequest\" xlink:href=\"psysml:7f7b610c-5cf3-4f1d-92e7-984e3817e328\" xlink:show=\"new\" xlink:title=\"psysml:7f7b610c-5cf3-4f1d-92e7-984e3817e328\" xlink:type=\"simple\"><path d=\"M137.75,616.22 C137.75,616.22 137.75,663.83 137.75,663.83 \" fill=\"none\" id=\"E6&lt;-E7\" style=\"stroke: #383838; stroke-width: 1.0;\"/><polygon fill=\"#383838\" points=\"137.75,603.22,133.75,609.22,137.75,615.22,141.75,609.22,137.75,603.22\" style=\"stroke: #383838; stroke-width: 1.0;\"/></a><!--MD5=[dfaffb906826c3e5aca635516100ff21]\n",
       "link E5 to E8--><a href=\"psysml:8f4ff897-72ba-4249-b35c-9a7192bde9f3\" target=\"_top\" title=\"psysml:8f4ff897-72ba-4249-b35c-9a7192bde9f3\" xlink:actuate=\"onRequest\" xlink:href=\"psysml:8f4ff897-72ba-4249-b35c-9a7192bde9f3\" xlink:show=\"new\" xlink:title=\"psysml:8f4ff897-72ba-4249-b35c-9a7192bde9f3\" xlink:type=\"simple\"><path d=\"M74.33,358 C83.43,358 92,358 92,358 C92,358 92,413.79 92,413.79 \" fill=\"none\" id=\"E5-&gt;E8\" style=\"stroke: #383838; stroke-width: 1.0;\"/><polygon fill=\"#FFFFFF\" points=\"92,433.79,85,414.79,99,414.79,92,433.79\" style=\"stroke: #383838; stroke-width: 1.0;\"/><ellipse cx=\"87\" cy=\"409.09\" fill=\"#383838\" rx=\"2\" ry=\"2\" style=\"stroke: #383838; stroke-width: 1.0;\"/><ellipse cx=\"97\" cy=\"409.09\" fill=\"#383838\" rx=\"2\" ry=\"2\" style=\"stroke: #383838; stroke-width: 1.0;\"/></a><!--MD5=[03c8294790d3c57651a1993cecff665f]\n",
       "reverse link E8 to E3--><a href=\"psysml:44d9af1e-71a6-403b-81da-6292c3b1f2cb\" target=\"_top\" title=\"psysml:44d9af1e-71a6-403b-81da-6292c3b1f2cb\" xlink:actuate=\"onRequest\" xlink:href=\"psysml:44d9af1e-71a6-403b-81da-6292c3b1f2cb\" xlink:show=\"new\" xlink:title=\"psysml:44d9af1e-71a6-403b-81da-6292c3b1f2cb\" xlink:type=\"simple\"><path d=\"M139.83,420.78 C139.83,420.78 139.83,266.05 139.83,266.05 \" fill=\"none\" id=\"E8&lt;-E3\" style=\"stroke: #383838; stroke-width: 1.0;\"/><polygon fill=\"#FFFFFF\" points=\"139.83,433.78,143.83,427.78,139.83,421.78,135.83,427.78,139.83,433.78\" style=\"stroke: #383838; stroke-width: 1.0;\"/><text fill=\"#000000\" font-family=\"sans-serif\" font-size=\"13\" lengthAdjust=\"spacingAndGlyphs\" textLength=\"7\" x=\"145\" y=\"354.5669\">y</text></a><!--MD5=[0d75d2178373a6a4568e5dc728f58aef]\n",
       "reverse link E8 to E6--><a href=\"psysml:44d9af1e-71a6-403b-81da-6292c3b1f2cb\" target=\"_top\" title=\"psysml:44d9af1e-71a6-403b-81da-6292c3b1f2cb\" xlink:actuate=\"onRequest\" xlink:href=\"psysml:44d9af1e-71a6-403b-81da-6292c3b1f2cb\" xlink:show=\"new\" xlink:title=\"psysml:44d9af1e-71a6-403b-81da-6292c3b1f2cb\" xlink:type=\"simple\"><path d=\"M119,493.14 C119,493.14 119,556.97 119,556.97 \" fill=\"none\" id=\"E8&lt;-E6\" style=\"stroke: #383838; stroke-width: 1.0;\"/><polygon fill=\"#FFFFFF\" points=\"119,480.14,115,486.14,119,492.14,123,486.14,119,480.14\" style=\"stroke: #383838; stroke-width: 1.0;\"/><text fill=\"#000000\" font-family=\"sans-serif\" font-size=\"13\" lengthAdjust=\"spacingAndGlyphs\" textLength=\"7\" x=\"120\" y=\"523.0669\">y</text></a><!--MD5=[71b5f68bb9b79fab1e90becfa1386e5a]\n",
       "@startuml\r\n",
       "skinparam linetype ortho\r\n",
       "skinparam monochrome true\r\n",
       "skinparam classbackgroundcolor white\r\n",
       "skinparam shadowing false\r\n",
       "skinparam wrapWidth 300\r\n",
       "hide circle\r\n",
       "\r\n",
       "package \"ItemTest\" as E1  [[psysml:75fb623a-e350-4a47-9f82-c4d20b2b5b80 ]]  {\r\n",
       "comp usage \"f: A\" as E2  <<(T,blue)item>> [[psysml:d8a17efa-9aba-4cd7-b18a-68f8ed4c599b ]] {\r\n",
       "}\r\n",
       "comp def \"A\" as E3  <<(T,blue)item def>> [[psysml:30552314-ef8a-4f2d-b223-fa6e862cb5b8 ]] {\r\n",
       "- - items - -\r\n",
       "b: B\r\n",
       "}\r\n",
       "comp usage \"c: C\" as E5  <<(T,blue)part>> [[psysml:cb0fe327-dda6-4eae-9e46-1ce946f22982 ]] {\r\n",
       "}\r\n",
       "comp def \"B\" as E6  <<(T,blue)item def>> [[psysml:0c776550-23a6-42b8-908b-320a74e2d4ee ]] {\r\n",
       "}\r\n",
       "comp usage \"a: A\" as E7  <<(T,blue)part>> [[psysml:7f7b610c-5cf3-4f1d-92e7-984e3817e328 ]] {\r\n",
       "}\r\n",
       "comp def \"C\" as E8  <<(T,blue)part def>> [[psysml:3f3cfa4e-9100-4bf2-8dae-183ab53e5ac5 ]] {\r\n",
       "}\r\n",
       "comp def \"P\" as E9  <<(T,blue)port def>> [[psysml:b18b87fb-d7bd-4905-b0cb-818d68f57f75 ]] {\r\n",
       "- - items - -\r\n",
       "a1: A\r\n",
       "a2: A\r\n",
       "}\r\n",
       "E2 - -:|> E3 [[psysml:cbc83e8e-35d8-4884-92a4-03d9c321669a ]] \r\n",
       "E3 o- - E5 [[psysml:cb0fe327-dda6-4eae-9e46-1ce946f22982 ]] \r\n",
       "E7 - -:|> E3 [[psysml:b2ac9add-d533-4cc3-a1ec-28b279e4ff39 ]] \r\n",
       "E6 *- - E7 [[psysml:7f7b610c-5cf3-4f1d-92e7-984e3817e328 ]] \r\n",
       "E5 - -:|> E8 [[psysml:8f4ff897-72ba-4249-b35c-9a7192bde9f3 ]] \r\n",
       "E8 o- - E3 [[psysml:44d9af1e-71a6-403b-81da-6292c3b1f2cb ]] : y\r\n",
       "E8 o- - E6 [[psysml:44d9af1e-71a6-403b-81da-6292c3b1f2cb ]] : y\r\n",
       "}\r\n",
       "@enduml\r\n",
       "\n",
       "PlantUML version 1.2020.13(Sat Jun 13 12:26:38 UTC 2020)\n",
       "(EPL source distribution)\n",
       "Java Runtime: OpenJDK Runtime Environment\n",
       "JVM: OpenJDK 64-Bit Server VM\n",
       "Default Encoding: UTF-8\n",
       "Language: en\n",
       "Country: null\n",
       "--></g></svg>"
      ]
     },
     "execution_count": 57,
     "metadata": {},
     "output_type": "execute_result"
    }
   ],
   "source": [
    "%viz --style=\"ORTHOLINE\" --view=\"MIXED\" \"ItemTest\""
   ]
  }
 ],
 "metadata": {
  "kernelspec": {
   "display_name": "SysML",
   "language": "sysml",
   "name": "sysml"
  },
  "language_info": {
   "codemirror_mode": "sysml",
   "file_extension": ".sysml",
   "mimetype": "text/x-sysml",
   "name": "SysML",
   "pygments_lexer": "java",
   "version": "1.0.0"
  }
 },
 "nbformat": 4,
 "nbformat_minor": 5
}
